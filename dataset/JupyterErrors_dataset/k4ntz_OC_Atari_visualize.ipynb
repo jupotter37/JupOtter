{
 "cells": [
  {
   "cell_type": "code",
   "execution_count": 4,
   "id": "9ee7bb29-796f-44a8-8a06-64a3d676b92f",
   "metadata": {},
   "outputs": [
    {
     "name": "stdout",
     "output_type": "stream",
     "text": [
      "Defaulting to user installation because normal site-packages is not writeable\n",
      "Collecting seaborn\n",
      "  Using cached seaborn-0.12.2-py3-none-any.whl (293 kB)\n",
      "Requirement already satisfied: numpy!=1.24.0,>=1.17 in /home/k4ntz/.local/lib/python3.10/site-packages (from seaborn) (1.25.2)\n",
      "Requirement already satisfied: pandas>=0.25 in /home/k4ntz/.local/lib/python3.10/site-packages (from seaborn) (2.0.3)\n",
      "Requirement already satisfied: matplotlib!=3.6.1,>=3.1 in /home/k4ntz/.local/lib/python3.10/site-packages (from seaborn) (3.7.2)\n",
      "Requirement already satisfied: contourpy>=1.0.1 in /home/k4ntz/.local/lib/python3.10/site-packages (from matplotlib!=3.6.1,>=3.1->seaborn) (1.1.0)\n",
      "Requirement already satisfied: cycler>=0.10 in /home/k4ntz/.local/lib/python3.10/site-packages (from matplotlib!=3.6.1,>=3.1->seaborn) (0.11.0)\n",
      "Requirement already satisfied: fonttools>=4.22.0 in /home/k4ntz/.local/lib/python3.10/site-packages (from matplotlib!=3.6.1,>=3.1->seaborn) (4.42.0)\n",
      "Requirement already satisfied: kiwisolver>=1.0.1 in /home/k4ntz/.local/lib/python3.10/site-packages (from matplotlib!=3.6.1,>=3.1->seaborn) (1.4.4)\n",
      "Requirement already satisfied: packaging>=20.0 in /home/k4ntz/.local/lib/python3.10/site-packages (from matplotlib!=3.6.1,>=3.1->seaborn) (23.1)\n",
      "Requirement already satisfied: pillow>=6.2.0 in /usr/lib/python3/dist-packages (from matplotlib!=3.6.1,>=3.1->seaborn) (9.0.1)\n",
      "Requirement already satisfied: pyparsing<3.1,>=2.3.1 in /usr/lib/python3/dist-packages (from matplotlib!=3.6.1,>=3.1->seaborn) (2.4.7)\n",
      "Requirement already satisfied: python-dateutil>=2.7 in /home/k4ntz/.local/lib/python3.10/site-packages (from matplotlib!=3.6.1,>=3.1->seaborn) (2.8.2)\n",
      "Requirement already satisfied: pytz>=2020.1 in /usr/lib/python3/dist-packages (from pandas>=0.25->seaborn) (2022.1)\n",
      "Requirement already satisfied: tzdata>=2022.1 in /home/k4ntz/.local/lib/python3.10/site-packages (from pandas>=0.25->seaborn) (2023.3)\n",
      "Requirement already satisfied: six>=1.5 in /usr/lib/python3/dist-packages (from python-dateutil>=2.7->matplotlib!=3.6.1,>=3.1->seaborn) (1.16.0)\n",
      "Installing collected packages: seaborn\n",
      "Successfully installed seaborn-0.12.2\n"
     ]
    }
   ],
   "source": [
    "!pip install seaborn"
   ]
  },
  {
   "cell_type": "code",
   "execution_count": 5,
   "id": "5e35d271",
   "metadata": {
    "hide_input": true
   },
   "outputs": [],
   "source": [
    "import pandas as pd\n",
    "import tensorboard as tb\n",
    "import seaborn as sns\n",
    "import time\n",
    "from datetime import timedelta\n",
    "from matplotlib import pyplot as plt\n",
    "from tensorboard.backend.event_processing import event_accumulator as ea\n",
    "from pathlib import Path"
   ]
  },
  {
   "cell_type": "code",
   "execution_count": 6,
   "id": "bd26ae96",
   "metadata": {},
   "outputs": [],
   "source": [
    "# take every X sample for plot (raw log interval: 20k frames) default: 6\n",
    "DATA_PLOT_SPARSITY = 100\n",
    "\n",
    "# rolling average sample window (applied after sparsity) default: 4\n",
    "DATA_PLOT_SMOOTHNESS = 4\n",
    "\n",
    "MAX_TRAINING_STEPS = 20000000\n",
    "\n",
    "# in and out dirs\n",
    "logs_dir = Path.cwd() / Path(\"logs\")\n",
    "out_dir = Path.cwd() / Path(\"plots\")\n",
    "\n",
    "# envs to look for in logdir and subdirs and plot\n",
    "envs = [\"Asterix\", \"Tennis\", \"Pong\", \"Boxing\", \"Freeway\"]\n",
    "\n",
    "# experiments to exclude from plots:\n",
    "dont_plot = []\n",
    "\n",
    "# scalars to look for in tfevent files and plot\n",
    "scalar_to_plot = {\n",
    "    \"tb_name\" : \"rollout/ep_rew_mean\",\n",
    "    \"title\" : \"Human Normalized Return\",\n",
    "    \"xlabel\": \"Frames (M)\",\n",
    "    \"ylabel\": \"Score\"}\n",
    "\n",
    "# human baseline data per env\n",
    "human_baselines = {\n",
    "    \"Pong\" : 14.6,\n",
    "    \"Boxing\" : 12.10,\n",
    "    \"Freeway\" : 29.6, \n",
    "    \"Asterix\" : 8503.3,\n",
    "    \"Tennis\" : -8.3\n",
    "}\n",
    "\n",
    "# random baseline data per env\n",
    "random_baselines = {\n",
    "    \"Pong\" : -20.7,\n",
    "    \"Boxing\" : 0.10,\n",
    "    \"Freeway\" : 0.00,\n",
    "    \"Asterix\" : 210.0,\n",
    "    \"Tennis\" : -23.8\n",
    "}\n",
    "\n"
   ]
  },
  {
   "cell_type": "code",
   "execution_count": 12,
   "id": "7cc02439",
   "metadata": {
    "hide_input": true
   },
   "outputs": [],
   "source": [
    "for e in envs:\n",
    "    try:\n",
    "        human_baselines[e]\n",
    "        random_baselines[e]\n",
    "    except KeyError:\n",
    "        print(f\"Error: Baseline data missing for {e}\")\n",
    "\n",
    "\n",
    "def time_str(delta):\n",
    "    x = str(delta).split(\":\")\n",
    "    return f\"{x[0]}h {x[1]}m {x[2]}s\"\n",
    "    \n",
    "\n",
    "# for one env\n",
    "def get_dfs_for_env(env, everyx=5, smooth_window=5):\n",
    "    exp_list = []\n",
    "    list_of_seed_dfs = []\n",
    "    rand_score = random_baselines[env]\n",
    "    hn_score = human_baselines[env]\n",
    "    print(logs_dir)\n",
    "    for p in logs_dir.rglob(\"*\"):\n",
    "        if p.is_file():\n",
    "            if env in str(p.parents[0].name):\n",
    "                split_name = p.parents[0].name.split(\"-s\")\n",
    "                seed = split_name[-1]\n",
    "                exp_name = split_name[0]\n",
    "                if p.parents[0].name in dont_plot:\n",
    "                    continue\n",
    "                exp_list.append((seed, p.parents[0]))\n",
    "    exp_list = set(exp_list) # remove duplicates\n",
    "    if len(exp_list) == 0:\n",
    "        return None\n",
    "    exp_str_list = [int(n[0]) for n in exp_list]\n",
    "\n",
    "    \n",
    "    # constructs data_dict as follows:\n",
    "    # {seed : [(tag, s.step, s.value, seed),...]}\n",
    "    data_dict = {}\n",
    "    for seed, log_dir in exp_list:\n",
    "        max_step  = 0\n",
    "        max_wt = 0\n",
    "        curve_id = env\n",
    "        for file in log_dir.iterdir():\n",
    "            if 'tfevents' in file.name:\n",
    "                acc = ea.EventAccumulator(str(file))\n",
    "                acc.Reload()\n",
    "                scalar_list = acc.Tags()['scalars']                        \n",
    "                key = seed\n",
    "                for tag in scalar_list:\n",
    "                    for s in acc.Scalars(tag):\n",
    "                        if not key in data_dict.keys():\n",
    "                            data_dict[key] = []\n",
    "                        data_dict[key].append((tag, s.step, s.value, seed, curve_id, s.wall_time))\n",
    "                        max_step = s.step if max_step < s.step else max_step\n",
    "                        max_wt = s.wall_time if max_wt < s.wall_time else max_wt\n",
    "\n",
    "    # extracts scalar samples from df,\n",
    "    # processes them (cleaning, skipping and smoothing)\n",
    "    # and returnsnew df\n",
    "    def extract_scalar_df(df):\n",
    "        s = scalar_to_plot[\"tb_name\"]\n",
    "        scalar_df = df[df[\"tag\"] == s].copy()            \n",
    "        scalar_df = scalar_df.sort_values(by=[\"step\", \"wall_time\"], ascending=True)\n",
    "        scalar_df = scalar_df.drop_duplicates(subset=['step'], keep=\"last\")\n",
    "        scalar_df = scalar_df.iloc[::everyx, :]\n",
    "        scalar_df[\"value\"] = scalar_df.value.rolling(smooth_window, min_periods=1).mean()\n",
    "        return scalar_df[[\"step\", \"value\", \"seed\", \"curve_id\"]]\n",
    "    \n",
    "    # for every seed \n",
    "    for k, v in data_dict.items():\n",
    "        df = pd.DataFrame(v, columns=[\"tag\", \"step\", \"value\", \"seed\", \"curve_id\", \"wall_time\"])\n",
    "        df.step = df.step / 1000000\n",
    "        list_of_seed_dfs.append(extract_scalar_df(df))\n",
    "\n",
    "    # merge seed df's to one df, inplace\n",
    "    all_df = pd.concat(list_of_seed_dfs, ignore_index=True)\n",
    "    all_df[\"value\"] = all_df[\"value\"].apply(lambda x : (x - rand_score)/(hn_score - rand_score))\n",
    "    print(f\"{env} : {sorted(exp_str_list)}\")\n",
    "    return all_df"
   ]
  },
  {
   "cell_type": "code",
   "execution_count": 13,
   "id": "78c38bf3",
   "metadata": {
    "hide_input": true
   },
   "outputs": [
    {
     "name": "stdout",
     "output_type": "stream",
     "text": [
      "Parsing TB Logs for 5 envs..\n",
      "/home/k4ntz/Documents/OC_Atari/scripts/agents/logs\n",
      "None\n",
      "/home/k4ntz/Documents/OC_Atari/scripts/agents/logs\n",
      "None\n",
      "/home/k4ntz/Documents/OC_Atari/scripts/agents/logs\n",
      "None\n",
      "/home/k4ntz/Documents/OC_Atari/scripts/agents/logs\n",
      "None\n",
      "/home/k4ntz/Documents/OC_Atari/scripts/agents/logs\n",
      "None\n"
     ]
    }
   ],
   "source": [
    "data_to_plot = {}\n",
    "\n",
    "# goes over every specified env and\n",
    "# creates dict: {env : df, env2 : df, ...}\n",
    "print(f\"Parsing TB Logs for {len(envs)} envs..\")\n",
    "for e in envs:\n",
    "    res_df = get_dfs_for_env(e, DATA_PLOT_SPARSITY, DATA_PLOT_SMOOTHNESS)\n",
    "    print(res_df)\n",
    "    if res_df is not None:\n",
    "        data_to_plot[e] = res_df"
   ]
  },
  {
   "cell_type": "code",
   "execution_count": 10,
   "id": "0a3fbcc7-fec7-4a7b-8b63-7b8650a2a187",
   "metadata": {},
   "outputs": [
    {
     "data": {
      "text/plain": [
       "dict_values([])"
      ]
     },
     "execution_count": 10,
     "metadata": {},
     "output_type": "execute_result"
    }
   ],
   "source": [
    "data_to_plot.values()"
   ]
  },
  {
   "cell_type": "code",
   "execution_count": 9,
   "id": "83dbfed7",
   "metadata": {
    "hide_input": true
   },
   "outputs": [
    {
     "ename": "ValueError",
     "evalue": "No objects to concatenate",
     "output_type": "error",
     "traceback": [
      "\u001b[0;31m---------------------------------------------------------------------------\u001b[0m",
      "\u001b[0;31mValueError\u001b[0m                                Traceback (most recent call last)",
      "Cell \u001b[0;32mIn[9], line 5\u001b[0m\n\u001b[1;32m      2\u001b[0m fig_size \u001b[38;5;241m=\u001b[39m (\u001b[38;5;241m10\u001b[39m, \u001b[38;5;241m7.5\u001b[39m)\n\u001b[1;32m      3\u001b[0m fig \u001b[38;5;241m=\u001b[39m plt\u001b[38;5;241m.\u001b[39mfigure(figsize\u001b[38;5;241m=\u001b[39mfig_size, dpi\u001b[38;5;241m=\u001b[39m\u001b[38;5;241m150\u001b[39m)\n\u001b[0;32m----> 5\u001b[0m data \u001b[38;5;241m=\u001b[39m \u001b[43mpd\u001b[49m\u001b[38;5;241;43m.\u001b[39;49m\u001b[43mconcat\u001b[49m\u001b[43m(\u001b[49m\u001b[38;5;28;43mlist\u001b[39;49m\u001b[43m(\u001b[49m\u001b[43mdata_to_plot\u001b[49m\u001b[38;5;241;43m.\u001b[39;49m\u001b[43mvalues\u001b[49m\u001b[43m(\u001b[49m\u001b[43m)\u001b[49m\u001b[43m)\u001b[49m\u001b[43m,\u001b[49m\u001b[43m \u001b[49m\u001b[43mignore_index\u001b[49m\u001b[38;5;241;43m=\u001b[39;49m\u001b[38;5;28;43;01mTrue\u001b[39;49;00m\u001b[43m)\u001b[49m\n\u001b[1;32m      6\u001b[0m data\u001b[38;5;241m.\u001b[39mto_pickle(\u001b[38;5;124m\"\u001b[39m\u001b[38;5;124mout.pkl\u001b[39m\u001b[38;5;124m\"\u001b[39m)\n\u001b[1;32m      7\u001b[0m data\u001b[38;5;241m.\u001b[39mto_csv(\u001b[38;5;124m\"\u001b[39m\u001b[38;5;124mout.csv\u001b[39m\u001b[38;5;124m\"\u001b[39m)\n",
      "File \u001b[0;32m~/.local/lib/python3.10/site-packages/pandas/core/reshape/concat.py:372\u001b[0m, in \u001b[0;36mconcat\u001b[0;34m(objs, axis, join, ignore_index, keys, levels, names, verify_integrity, sort, copy)\u001b[0m\n\u001b[1;32m    369\u001b[0m \u001b[38;5;28;01melif\u001b[39;00m copy \u001b[38;5;129;01mand\u001b[39;00m using_copy_on_write():\n\u001b[1;32m    370\u001b[0m     copy \u001b[38;5;241m=\u001b[39m \u001b[38;5;28;01mFalse\u001b[39;00m\n\u001b[0;32m--> 372\u001b[0m op \u001b[38;5;241m=\u001b[39m \u001b[43m_Concatenator\u001b[49m\u001b[43m(\u001b[49m\n\u001b[1;32m    373\u001b[0m \u001b[43m    \u001b[49m\u001b[43mobjs\u001b[49m\u001b[43m,\u001b[49m\n\u001b[1;32m    374\u001b[0m \u001b[43m    \u001b[49m\u001b[43maxis\u001b[49m\u001b[38;5;241;43m=\u001b[39;49m\u001b[43maxis\u001b[49m\u001b[43m,\u001b[49m\n\u001b[1;32m    375\u001b[0m \u001b[43m    \u001b[49m\u001b[43mignore_index\u001b[49m\u001b[38;5;241;43m=\u001b[39;49m\u001b[43mignore_index\u001b[49m\u001b[43m,\u001b[49m\n\u001b[1;32m    376\u001b[0m \u001b[43m    \u001b[49m\u001b[43mjoin\u001b[49m\u001b[38;5;241;43m=\u001b[39;49m\u001b[43mjoin\u001b[49m\u001b[43m,\u001b[49m\n\u001b[1;32m    377\u001b[0m \u001b[43m    \u001b[49m\u001b[43mkeys\u001b[49m\u001b[38;5;241;43m=\u001b[39;49m\u001b[43mkeys\u001b[49m\u001b[43m,\u001b[49m\n\u001b[1;32m    378\u001b[0m \u001b[43m    \u001b[49m\u001b[43mlevels\u001b[49m\u001b[38;5;241;43m=\u001b[39;49m\u001b[43mlevels\u001b[49m\u001b[43m,\u001b[49m\n\u001b[1;32m    379\u001b[0m \u001b[43m    \u001b[49m\u001b[43mnames\u001b[49m\u001b[38;5;241;43m=\u001b[39;49m\u001b[43mnames\u001b[49m\u001b[43m,\u001b[49m\n\u001b[1;32m    380\u001b[0m \u001b[43m    \u001b[49m\u001b[43mverify_integrity\u001b[49m\u001b[38;5;241;43m=\u001b[39;49m\u001b[43mverify_integrity\u001b[49m\u001b[43m,\u001b[49m\n\u001b[1;32m    381\u001b[0m \u001b[43m    \u001b[49m\u001b[43mcopy\u001b[49m\u001b[38;5;241;43m=\u001b[39;49m\u001b[43mcopy\u001b[49m\u001b[43m,\u001b[49m\n\u001b[1;32m    382\u001b[0m \u001b[43m    \u001b[49m\u001b[43msort\u001b[49m\u001b[38;5;241;43m=\u001b[39;49m\u001b[43msort\u001b[49m\u001b[43m,\u001b[49m\n\u001b[1;32m    383\u001b[0m \u001b[43m\u001b[49m\u001b[43m)\u001b[49m\n\u001b[1;32m    385\u001b[0m \u001b[38;5;28;01mreturn\u001b[39;00m op\u001b[38;5;241m.\u001b[39mget_result()\n",
      "File \u001b[0;32m~/.local/lib/python3.10/site-packages/pandas/core/reshape/concat.py:429\u001b[0m, in \u001b[0;36m_Concatenator.__init__\u001b[0;34m(self, objs, axis, join, keys, levels, names, ignore_index, verify_integrity, copy, sort)\u001b[0m\n\u001b[1;32m    426\u001b[0m     objs \u001b[38;5;241m=\u001b[39m \u001b[38;5;28mlist\u001b[39m(objs)\n\u001b[1;32m    428\u001b[0m \u001b[38;5;28;01mif\u001b[39;00m \u001b[38;5;28mlen\u001b[39m(objs) \u001b[38;5;241m==\u001b[39m \u001b[38;5;241m0\u001b[39m:\n\u001b[0;32m--> 429\u001b[0m     \u001b[38;5;28;01mraise\u001b[39;00m \u001b[38;5;167;01mValueError\u001b[39;00m(\u001b[38;5;124m\"\u001b[39m\u001b[38;5;124mNo objects to concatenate\u001b[39m\u001b[38;5;124m\"\u001b[39m)\n\u001b[1;32m    431\u001b[0m \u001b[38;5;28;01mif\u001b[39;00m keys \u001b[38;5;129;01mis\u001b[39;00m \u001b[38;5;28;01mNone\u001b[39;00m:\n\u001b[1;32m    432\u001b[0m     objs \u001b[38;5;241m=\u001b[39m \u001b[38;5;28mlist\u001b[39m(com\u001b[38;5;241m.\u001b[39mnot_none(\u001b[38;5;241m*\u001b[39mobjs))\n",
      "\u001b[0;31mValueError\u001b[0m: No objects to concatenate"
     ]
    },
    {
     "data": {
      "text/plain": [
       "<Figure size 1500x1125 with 0 Axes>"
      ]
     },
     "metadata": {},
     "output_type": "display_data"
    }
   ],
   "source": [
    "sns.set_theme()\n",
    "fig_size = (10, 7.5)\n",
    "fig = plt.figure(figsize=fig_size, dpi=150)\n",
    "\n",
    "data = pd.concat(list(data_to_plot.values()), ignore_index=True)\n",
    "data.to_pickle(\"out.pkl\")\n",
    "data.to_csv(\"out.csv\")\n",
    "order = sorted(data[\"curve_id\"].unique())\n",
    "ax = sns.lineplot(data=data, x=\"step\", y=\"value\", hue=\"curve_id\", hue_order=order)\n",
    "ax.set_facecolor('white')\n",
    "ax.grid(color='#e0e0e0', linestyle='-', linewidth=1)\n",
    "ax.set(\n",
    "    xlabel = scalar_to_plot[\"xlabel\"],\n",
    "    ylabel = scalar_to_plot[\"ylabel\"],\n",
    "    title  = scalar_to_plot[\"title\"])\n",
    "ax.legend(loc='upper left', fontsize=12)\n",
    "plt.subplots_adjust(top = 0.9, bottom=0.15, left=0, right=1)\n",
    "plt.show(fig)\n",
    "fig.savefig(out_dir / \"results.png\", bbox_inches='tight')"
   ]
  },
  {
   "cell_type": "code",
   "execution_count": null,
   "id": "2ce85077",
   "metadata": {},
   "outputs": [],
   "source": []
  },
  {
   "cell_type": "code",
   "execution_count": null,
   "id": "f189ba86",
   "metadata": {},
   "outputs": [],
   "source": []
  },
  {
   "cell_type": "code",
   "execution_count": null,
   "id": "a752d587",
   "metadata": {},
   "outputs": [],
   "source": []
  }
 ],
 "metadata": {
  "kernelspec": {
   "display_name": "Python 3 (ipykernel)",
   "language": "python",
   "name": "python3"
  },
  "language_info": {
   "codemirror_mode": {
    "name": "ipython",
    "version": 3
   },
   "file_extension": ".py",
   "mimetype": "text/x-python",
   "name": "python",
   "nbconvert_exporter": "python",
   "pygments_lexer": "ipython3",
   "version": "3.10.12"
  }
 },
 "nbformat": 4,
 "nbformat_minor": 5
}
