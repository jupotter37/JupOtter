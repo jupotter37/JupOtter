{
 "cells": [
  {
   "cell_type": "code",
   "execution_count": 1,
   "id": "9b1fbf0b",
   "metadata": {},
   "outputs": [
    {
     "name": "stderr",
     "output_type": "stream",
     "text": [
      "<frozen importlib._bootstrap>:219: RuntimeWarning: to-Python converter for boost::shared_ptr<hpp::fcl::CollisionGeometry> already registered; second conversion method ignored.\n",
      "pybullet build time: Dec  1 2021 18:33:43\n"
     ]
    }
   ],
   "source": [
    "import time\n",
    "import numpy as np\n",
    "from robot_properties_talos.config import TalosConfig\n",
    "from robot_properties_talos.taloswrapper import TalosRobot\n",
    "from mpc.abstract_cyclic_gen1 import AbstractGaitGen\n",
    "\n",
    "from controllers.robot_id_controller import InverseDynamicsController\n",
    "from envs.pybullet_env import PyBulletEnv\n",
    "\n",
    "import pinocchio as pin\n",
    "\n",
    "import numpy as np\n",
    "from motions.cyclic.talos_stand import still\n",
    "from motions.weight_abstract import BiconvexMotionParams\n",
    "\n"
   ]
  },
  {
   "cell_type": "code",
   "execution_count": 2,
   "id": "0065ec2a",
   "metadata": {},
   "outputs": [
    {
     "name": "stdout",
     "output_type": "stream",
     "text": [
      "You can open the visualizer by visiting the following URL:\n",
      "http://127.0.0.1:7000/static/\n"
     ]
    }
   ],
   "source": [
    "robot = TalosConfig.buildRobotWrapper()\n",
    "rmodel = robot.model\n",
    "rdata = robot.data\n",
    "viz = pin.visualize.MeshcatVisualizer(robot.model, robot.collision_model, robot.visual_model)\n",
    "viz.initViewer(open=False)\n",
    "viz.loadViewerModel()"
   ]
  },
  {
   "cell_type": "code",
   "execution_count": 3,
   "id": "4573cb96",
   "metadata": {},
   "outputs": [],
   "source": [
    "## robot config and init\n",
    "pin_robot = TalosConfig.buildRobotWrapper()\n",
    "urdf_path = TalosConfig.urdf_path\n",
    "\n",
    "eff_names = [\"leg_right_sole1_fix_joint\", \"leg_right_sole2_fix_joint\", \"leg_right_sole3_fix_joint\", \"leg_right_sole4_fix_joint\", \\\n",
    "             \"leg_left_sole1_fix_joint\", \"leg_left_sole2_fix_joint\", \"leg_left_sole3_fix_joint\", \"leg_left_sole4_fix_joint\"]\n",
    "hip_names = 4*[\"leg_right_1_joint\",] + 4*[\"leg_left_1_joint\",]\n",
    "\n",
    "# eff_names = [\"l_leg_akx\", \"r_leg_akx\"]\n",
    "# hip_names = [\"l_leg_hpz\", \"r_leg_hpz\"]\n",
    "n_eff = len(eff_names)\n",
    "\n",
    "q0 = np.array(TalosConfig.initial_configuration)\n",
    "\n",
    "v0 = pin.utils.zero(pin_robot.model.nv)\n",
    "x0 = np.concatenate([q0, pin.utils.zero(pin_robot.model.nv)])\n",
    "\n",
    "v_des = np.array([0.0,0.0,0.0])\n",
    "w_des = 0.0\n",
    "\n",
    "plan_freq = 2 # sec\n",
    "update_time = 0.0 # sec (time of lag)"
   ]
  },
  {
   "cell_type": "code",
   "execution_count": 4,
   "id": "34d67e6f",
   "metadata": {},
   "outputs": [
    {
     "name": "stdout",
     "output_type": "stream",
     "text": [
      "robot_mass: 93.395724\n"
     ]
    }
   ],
   "source": [
    "gg = AbstractGaitGen(urdf_path, eff_names, hip_names, x0, plan_freq, q0)"
   ]
  },
  {
   "cell_type": "code",
   "execution_count": 17,
   "id": "a0f2c7cb",
   "metadata": {},
   "outputs": [],
   "source": [
    "jump = BiconvexMotionParams(\"Talos\", \"jump\")\n",
    "\n",
    "# Cnt\n",
    "jump.gait_period = 1.0\n",
    "jump.stance_percent = 4*[0.7,] + 4*[0.7,]\n",
    "jump.gait_dt = 0.05\n",
    "jump.phase_offset = 4*[0.0,] + 4*[0.0,]\n",
    "\n",
    "# IK\n",
    "jump.state_wt = np.array([1e0, 1e0, 1e0] + [1e3] * 3 + \\\n",
    "                    [1e3,1e5,5e3,2e2,1e3,1e3] + \\\n",
    "                    [1e3,1e5,5e3,2e2,1e3,1e3] + \\\n",
    "                    2*[1e5,] +  \\\n",
    "                    4*[1e5,] + 3*[1e5,] + \\\n",
    "                    4*[1e5,] + 3*[1e5,] \\\n",
    "                         + [1e0] * 3 + [1e2] * 3 + [1e2] *(pin_robot.model.nv - 6))\n",
    "\n",
    "jump.ctrl_wt = [0, 0, 1] + [5e2, 5e2, 5e2] + [5e2] *(rmodel.nv - 6)\n",
    "\n",
    "jump.swing_wt = [1e5, 1e4]\n",
    "jump.cent_wt = [1e+7, 1e-1]\n",
    "jump.step_ht = 0.1\n",
    "jump.nom_ht = 0.65\n",
    "jump.reg_wt = [5e-2, 1e-5]\n",
    "\n",
    "\n",
    "# Dyn\n",
    "jump.W_X =     np.array([1e4, 1e4, 1e+2, 1e+3, 1e+2, 2e+2, 1e+4, 5e+4, 1e4])\n",
    "jump.W_X_ter = 10.*np.array([1e+5, 1e5, 1e+5, 1e+1, 1e+1, 2e+2, 1e+5, 1e+5, 1e+5])\n",
    "jump.W_F = np.array(8*[1e1, 1e1,5e1])\n",
    "jump.rho = 1e4\n",
    "\n",
    "jump.ori_correction = [0.2, 0.2, 0.2]\n",
    "jump.gait_horizon = 2.2\n",
    "# Gains\n",
    "jump.kp = np.array([1e5,1e5,1e5,1e5,1.5e3,1e3] + # left leg\n",
    "                    [1e5,1e5,1e5,1e5,1.5e3,1e3] + # right leg\n",
    "                    2*[1e5,] +  # torso\n",
    "                    4*[2e2,] + 3*[1e1,] + # left hand \n",
    "                    4*[2e2,] + 3*[1e1,]) # right hand\n",
    "\n",
    "jump.kd = np.array(2*[5e1,5e1,5e1,3e1,3e1,1e1] + \n",
    "              2*[1.0e1,] + \n",
    "              4*[5e0,] + 3*[1e-1,] + \n",
    "              4*[5e0,] + 3*[1e0,])"
   ]
  },
  {
   "cell_type": "code",
   "execution_count": 18,
   "id": "60fa956d",
   "metadata": {},
   "outputs": [
    {
     "name": "stdout",
     "output_type": "stream",
     "text": [
      "Initialized Kino-Dyn planner\n"
     ]
    }
   ],
   "source": [
    "gg.update_gait_params(jump, 0)"
   ]
  },
  {
   "cell_type": "code",
   "execution_count": 7,
   "id": "d5e308ae",
   "metadata": {},
   "outputs": [
    {
     "data": {
      "text/html": [
       "\n",
       "            <div style=\"height: 400px; width: 100%; overflow-x: auto; overflow-y: hidden; resize: both\">\n",
       "            <iframe src=\"http://127.0.0.1:7000/static/\" style=\"width: 100%; height: 100%; border: none\"></iframe>\n",
       "            </div>\n",
       "            "
      ],
      "text/plain": [
       "<IPython.core.display.HTML object>"
      ]
     },
     "execution_count": 7,
     "metadata": {},
     "output_type": "execute_result"
    }
   ],
   "source": [
    "viz.viewer.jupyter_cell()"
   ]
  },
  {
   "cell_type": "code",
   "execution_count": 19,
   "id": "c0bfd84a",
   "metadata": {},
   "outputs": [
    {
     "name": "stdout",
     "output_type": "stream",
     "text": [
      "Maximum iterations reached \n",
      "Final norm: 0.00142416\n",
      "Cost Time : 0.011243343353271484\n",
      "Solve Time :  0.1310710906982422\n",
      " ================================== \n"
     ]
    },
    {
     "data": {
      "image/png": "[encoded data removed]",
      "text/plain": [
       "<Figure size 432x288 with 3 Axes>"
      ]
     },
     "metadata": {
      "needs_background": "light"
     },
     "output_type": "display_data"
    },
    {
     "ename": "IndexError",
     "evalue": "index 1999 is out of bounds for axis 0 with size 1050",
     "output_type": "error",
     "traceback": [
      "\u001b[0;31m---------------------------------------------------------------------------\u001b[0m",
      "\u001b[0;31mIndexError\u001b[0m                                Traceback (most recent call last)",
      "Input \u001b[0;32mIn [19]\u001b[0m, in \u001b[0;36m<cell line: 8>\u001b[0;34m()\u001b[0m\n\u001b[1;32m     13\u001b[0m \u001b[38;5;66;03m#         time.sleep(0.001)\u001b[39;00m\n\u001b[1;32m     14\u001b[0m     sim_t \u001b[38;5;241m+\u001b[39m\u001b[38;5;241m=\u001b[39m plan_freq\n\u001b[0;32m---> 15\u001b[0m     q \u001b[38;5;241m=\u001b[39m \u001b[43mxs\u001b[49m\u001b[43m[\u001b[49m\u001b[38;5;28;43mint\u001b[39;49m\u001b[43m(\u001b[49m\u001b[43mplan_freq\u001b[49m\u001b[38;5;241;43m/\u001b[39;49m\u001b[43msim_dt\u001b[49m\u001b[43m)\u001b[49m\u001b[38;5;241;43m-\u001b[39;49m\u001b[38;5;241;43m1\u001b[39;49m\u001b[43m]\u001b[49m[\u001b[38;5;241m0\u001b[39m:pin_robot\u001b[38;5;241m.\u001b[39mmodel\u001b[38;5;241m.\u001b[39mnq]\u001b[38;5;241m.\u001b[39mcopy()\n\u001b[1;32m     16\u001b[0m     v \u001b[38;5;241m=\u001b[39m xs[\u001b[38;5;28mint\u001b[39m(plan_freq\u001b[38;5;241m/\u001b[39msim_dt)\u001b[38;5;241m-\u001b[39m\u001b[38;5;241m1\u001b[39m][pin_robot\u001b[38;5;241m.\u001b[39mmodel\u001b[38;5;241m.\u001b[39mnq:]\u001b[38;5;241m.\u001b[39mcopy()\n",
      "\u001b[0;31mIndexError\u001b[0m: index 1999 is out of bounds for axis 0 with size 1050"
     ]
    }
   ],
   "source": [
    "sim_t = 0.0\n",
    "sim_dt = 0.001\n",
    "index = 0\n",
    "pln_ctr = 0\n",
    "q = q0\n",
    "v = v0\n",
    "\n",
    "for o in range(1):\n",
    "    xs, us, f = gg.optimize(q, v, sim_t, v_des, w_des)\n",
    "    gg.plot(q, v)\n",
    "    for ind in range(len(xs)):\n",
    "        viz.display(xs[ind][:robot.model.nq])\n",
    "#         time.sleep(0.001)\n",
    "    sim_t += plan_freq\n",
    "    q = xs[int(plan_freq/sim_dt)-1][0:pin_robot.model.nq].copy()\n",
    "    v = xs[int(plan_freq/sim_dt)-1][pin_robot.model.nq:].copy()\n"
   ]
  },
  {
   "cell_type": "code",
   "execution_count": 9,
   "id": "a10093b2",
   "metadata": {},
   "outputs": [
    {
     "data": {
      "text/plain": [
       "array([-3.74911192e-03, -8.88302835e-05,  9.31478794e-01,  6.69050771e-05,\n",
       "       -8.74723453e-02, -1.94304497e-05,  9.96166946e-01, -3.28885942e-03,\n",
       "       -4.70694572e-05, -3.87559325e-01,  1.36986833e+00, -8.17776334e-01,\n",
       "       -2.59209948e-03,  3.32336712e-03,  3.63655989e-05, -3.87607362e-01,\n",
       "        1.36996903e+00, -8.17832619e-01,  2.01087611e-03,  1.14057379e-05,\n",
       "       -7.41367664e-03,  2.55815584e-01,  1.74719439e-01, -8.29161192e-06,\n",
       "       -5.31355492e-01, -7.39043142e-05,  6.81576626e-05, -1.14132548e-03,\n",
       "       -2.55805018e-01, -1.74698342e-01,  1.57155548e-05, -5.31324298e-01,\n",
       "        7.60349300e-05, -6.62982161e-05, -1.10697680e-03])"
      ]
     },
     "execution_count": 9,
     "metadata": {},
     "output_type": "execute_result"
    }
   ],
   "source": [
    "q"
   ]
  },
  {
   "cell_type": "code",
   "execution_count": 10,
   "id": "eb8ed748",
   "metadata": {},
   "outputs": [
    {
     "name": "stdout",
     "output_type": "stream",
     "text": [
      "0 leg_left_1_joint\n",
      "1 leg_left_2_joint\n",
      "2 leg_left_3_joint\n",
      "3 leg_left_4_joint\n",
      "4 leg_left_5_joint\n",
      "5 leg_left_6_joint\n",
      "6 leg_right_1_joint\n",
      "7 leg_right_2_joint\n",
      "8 leg_right_3_joint\n",
      "9 leg_right_4_joint\n",
      "10 leg_right_5_joint\n",
      "11 leg_right_6_joint\n",
      "12 torso_1_joint\n",
      "13 torso_2_joint\n",
      "14 arm_left_1_joint\n",
      "15 arm_left_2_joint\n",
      "16 arm_left_3_joint\n",
      "17 arm_left_4_joint\n",
      "18 arm_left_5_joint\n",
      "19 arm_left_6_joint\n",
      "20 arm_left_7_joint\n",
      "21 arm_right_1_joint\n",
      "22 arm_right_2_joint\n",
      "23 arm_right_3_joint\n",
      "24 arm_right_4_joint\n",
      "25 arm_right_5_joint\n",
      "26 arm_right_6_joint\n",
      "27 arm_right_7_joint\n",
      "28 28\n"
     ]
    }
   ],
   "source": [
    "i = 0\n",
    "for names in rmodel.names[2:]:\n",
    "    print(i, names)\n",
    "    i += 1\n",
    "print(i, rmodel.nq-7)"
   ]
  },
  {
   "cell_type": "code",
   "execution_count": 11,
   "id": "bcd2e349",
   "metadata": {},
   "outputs": [
    {
     "data": {
      "text/plain": [
       "133"
      ]
     },
     "execution_count": 11,
     "metadata": {},
     "output_type": "execute_result"
    }
   ],
   "source": [
    "rmodel.getFrameId(\"leg_right_sole_fix_joint\")"
   ]
  },
  {
   "cell_type": "code",
   "execution_count": 12,
   "id": "cbec73bf",
   "metadata": {},
   "outputs": [
    {
     "data": {
      "text/plain": [
       "Nb joints = 30 (nq=35,nv=34)\n",
       "  Joint 0 universe: parent=0\n",
       "  Joint 1 root_joint: parent=0\n",
       "  Joint 2 leg_left_1_joint: parent=1\n",
       "  Joint 3 leg_left_2_joint: parent=2\n",
       "  Joint 4 leg_left_3_joint: parent=3\n",
       "  Joint 5 leg_left_4_joint: parent=4\n",
       "  Joint 6 leg_left_5_joint: parent=5\n",
       "  Joint 7 leg_left_6_joint: parent=6\n",
       "  Joint 8 leg_right_1_joint: parent=1\n",
       "  Joint 9 leg_right_2_joint: parent=8\n",
       "  Joint 10 leg_right_3_joint: parent=9\n",
       "  Joint 11 leg_right_4_joint: parent=10\n",
       "  Joint 12 leg_right_5_joint: parent=11\n",
       "  Joint 13 leg_right_6_joint: parent=12\n",
       "  Joint 14 torso_1_joint: parent=1\n",
       "  Joint 15 torso_2_joint: parent=14\n",
       "  Joint 16 arm_left_1_joint: parent=15\n",
       "  Joint 17 arm_left_2_joint: parent=16\n",
       "  Joint 18 arm_left_3_joint: parent=17\n",
       "  Joint 19 arm_left_4_joint: parent=18\n",
       "  Joint 20 arm_left_5_joint: parent=19\n",
       "  Joint 21 arm_left_6_joint: parent=20\n",
       "  Joint 22 arm_left_7_joint: parent=21\n",
       "  Joint 23 arm_right_1_joint: parent=15\n",
       "  Joint 24 arm_right_2_joint: parent=23\n",
       "  Joint 25 arm_right_3_joint: parent=24\n",
       "  Joint 26 arm_right_4_joint: parent=25\n",
       "  Joint 27 arm_right_5_joint: parent=26\n",
       "  Joint 28 arm_right_6_joint: parent=27\n",
       "  Joint 29 arm_right_7_joint: parent=28"
      ]
     },
     "execution_count": 12,
     "metadata": {},
     "output_type": "execute_result"
    }
   ],
   "source": [
    "rmodel"
   ]
  },
  {
   "cell_type": "code",
   "execution_count": 13,
   "id": "8ada9173",
   "metadata": {},
   "outputs": [
    {
     "data": {
      "text/plain": [
       "28"
      ]
     },
     "execution_count": 13,
     "metadata": {},
     "output_type": "execute_result"
    }
   ],
   "source": [
    "rmodel.nq - 7"
   ]
  }
 ],
 "metadata": {
  "kernelspec": {
   "display_name": "Python 3 (ipykernel)",
   "language": "python",
   "name": "python3"
  },
  "language_info": {
   "codemirror_mode": {
    "name": "ipython",
    "version": 3
   },
   "file_extension": ".py",
   "mimetype": "text/x-python",
   "name": "python",
   "nbconvert_exporter": "python",
   "pygments_lexer": "ipython3",
   "version": "3.8.10"
  }
 },
 "nbformat": 4,
 "nbformat_minor": 5
}
