{
 "cells": [
  {
   "cell_type": "code",
   "execution_count": null,
   "id": "95daec0f-edee-48a4-953f-65f480e3e407",
   "metadata": {},
   "outputs": [],
   "source": []
  },
  {
   "cell_type": "markdown",
   "id": "30ed3155-d680-4e0c-93eb-a96c5f2c84e8",
   "metadata": {},
   "source": [
    "## Real data pipeline"
   ]
  },
  {
   "cell_type": "code",
   "execution_count": 1,
   "id": "2ba07542-2660-414e-85f0-1751d4c94e7a",
   "metadata": {
    "collapsed": true,
    "jupyter": {
     "outputs_hidden": true
    }
   },
   "outputs": [
    {
     "ename": "ModuleNotFoundError",
     "evalue": "No module named 'mne'",
     "output_type": "error",
     "traceback": [
      "\u001b[0;31m---------------------------------------------------------------------------\u001b[0m",
      "\u001b[0;31mModuleNotFoundError\u001b[0m                       Traceback (most recent call last)",
      "Cell \u001b[0;32mIn[1], line 1\u001b[0m\n\u001b[0;32m----> 1\u001b[0m \u001b[38;5;28;01mimport\u001b[39;00m \u001b[38;5;21;01mmne\u001b[39;00m\n",
      "\u001b[0;31mModuleNotFoundError\u001b[0m: No module named 'mne'"
     ]
    }
   ],
   "source": [
    "import mne"
   ]
  },
  {
   "cell_type": "markdown",
   "id": "a7b2d7c0-9147-4668-a481-538e4acdc806",
   "metadata": {},
   "source": [
    "### Intake data"
   ]
  },
  {
   "cell_type": "code",
   "execution_count": 14,
   "id": "4f5491d0-047c-4819-94ae-a4e734ddd489",
   "metadata": {},
   "outputs": [
    {
     "name": "stdout",
     "output_type": "stream",
     "text": [
      "../../data/S001R04.edf already exists. Skipping download.\n"
     ]
    }
   ],
   "source": [
    "# This dataset is 2.6 MB on disk\n",
    "url = \"https://physionet.org/files/eegmmidb/1.0.0/S001/S001R04.edf?download\"\n",
    "local_data_path = \"../../data/\"\n",
    "\n",
    "# Will not download if already present at local_data_path\n",
    "local_file_path = download_file(url, local_data_path)"
   ]
  },
  {
   "cell_type": "code",
   "execution_count": 15,
   "id": "b493f179-eeca-416e-a6af-75c067ca98ab",
   "metadata": {},
   "outputs": [
    {
     "name": "stdout",
     "output_type": "stream",
     "text": [
      "Extracting EDF parameters from /Users/droumis/src/neuro/data/S001R04.edf...\n",
      "EDF file detected\n",
      "Setting channel info structure...\n",
      "Creating raw.info structure...\n",
      "Reading 0 ... 19999  =      0.000 ...   124.994 secs...\n"
     ]
    },
    {
     "data": {
      "text/html": [
       "<table class=\"table table-hover table-striped table-sm table-responsive small\">\n",
       "    <tr>\n",
       "        <th>Measurement date</th>\n",
       "        \n",
       "        <td>August 12, 2009  16:15:00 GMT</td>\n",
       "        \n",
       "    </tr>\n",
       "    <tr>\n",
       "        <th>Experimenter</th>\n",
       "        \n",
       "        <td>Unknown</td>\n",
       "        \n",
       "    </tr>\n",
       "        <th>Participant</th>\n",
       "        \n",
       "            \n",
       "            <td>X</td>\n",
       "            \n",
       "        \n",
       "    </tr>\n",
       "    <tr>\n",
       "        <th>Digitized points</th>\n",
       "        \n",
       "        <td>Not available</td>\n",
       "        \n",
       "    </tr>\n",
       "    <tr>\n",
       "        <th>Good channels</th>\n",
       "        <td>64 EEG</td>\n",
       "    </tr>\n",
       "    <tr>\n",
       "        <th>Bad channels</th>\n",
       "        <td>None</td>\n",
       "    </tr>\n",
       "    <tr>\n",
       "        <th>EOG channels</th>\n",
       "        <td>Not available</td>\n",
       "    </tr>\n",
       "    <tr>\n",
       "        <th>ECG channels</th>\n",
       "        <td>Not available</td>\n",
       "    \n",
       "    <tr>\n",
       "        <th>Sampling frequency</th>\n",
       "        <td>160.00 Hz</td>\n",
       "    </tr>\n",
       "    \n",
       "    \n",
       "    <tr>\n",
       "        <th>Highpass</th>\n",
       "        <td>0.00 Hz</td>\n",
       "    </tr>\n",
       "    \n",
       "    \n",
       "    <tr>\n",
       "        <th>Lowpass</th>\n",
       "        <td>80.00 Hz</td>\n",
       "    </tr>\n",
       "    \n",
       "    \n",
       "</table>"
      ],
      "text/plain": [
       "<Info | 8 non-empty values\n",
       " bads: []\n",
       " ch_names: Fc5., Fc3., Fc1., Fcz., Fc2., Fc4., Fc6., C5.., C3.., C1.., ...\n",
       " chs: 64 EEG\n",
       " custom_ref_applied: False\n",
       " highpass: 0.0 Hz\n",
       " lowpass: 80.0 Hz\n",
       " meas_date: 2009-08-12 16:15:00 UTC\n",
       " nchan: 64\n",
       " projs: []\n",
       " sfreq: 160.0 Hz\n",
       " subject_info: 3 items (dict)\n",
       ">"
      ]
     },
     "execution_count": 15,
     "metadata": {},
     "output_type": "execute_result"
    }
   ],
   "source": [
    "raw = mne.io.read_raw_edf(local_file_path, preload=True)\n",
    "raw.info"
   ]
  },
  {
   "cell_type": "code",
   "execution_count": 30,
   "id": "ebcc45f2-1784-43c0-a332-accc5d196c1b",
   "metadata": {
    "scrolled": true
   },
   "outputs": [
    {
     "ename": "NameError",
     "evalue": "name 'raw' is not defined",
     "output_type": "error",
     "traceback": [
      "\u001b[0;31m---------------------------------------------------------------------------\u001b[0m",
      "\u001b[0;31mNameError\u001b[0m                                 Traceback (most recent call last)",
      "Cell \u001b[0;32mIn[30], line 2\u001b[0m\n\u001b[1;32m      1\u001b[0m \u001b[38;5;66;03m# preview the channel names, types, signal ranges, and uncompressed size\u001b[39;00m\n\u001b[0;32m----> 2\u001b[0m \u001b[43mraw\u001b[49m\u001b[38;5;241m.\u001b[39mdescribe()\n",
      "\u001b[0;31mNameError\u001b[0m: name 'raw' is not defined"
     ]
    }
   ],
   "source": [
    "# preview the channel names, types, signal ranges, and uncompressed size\n",
    "raw.describe()"
   ]
  },
  {
   "cell_type": "markdown",
   "id": "075bbc04-6d69-4e6b-aff5-8f800bd39f00",
   "metadata": {},
   "source": [
    "### Gather the real timeseries annotations and clean up"
   ]
  },
  {
   "cell_type": "code",
   "execution_count": 17,
   "id": "14f42b3a-ba4c-4743-b7e1-ef8623eb2f5e",
   "metadata": {},
   "outputs": [
    {
     "data": {
      "text/html": [
       "<div>\n",
       "<style scoped>\n",
       "    .dataframe tbody tr th:only-of-type {\n",
       "        vertical-align: middle;\n",
       "    }\n",
       "\n",
       "    .dataframe tbody tr th {\n",
       "        vertical-align: top;\n",
       "    }\n",
       "\n",
       "    .dataframe thead th {\n",
       "        text-align: right;\n",
       "    }\n",
       "</style>\n",
       "<table border=\"1\" class=\"dataframe\">\n",
       "  <thead>\n",
       "    <tr style=\"text-align: right;\">\n",
       "      <th></th>\n",
       "      <th>onset</th>\n",
       "      <th>duration</th>\n",
       "      <th>description</th>\n",
       "      <th>start</th>\n",
       "      <th>end</th>\n",
       "      <th>color</th>\n",
       "    </tr>\n",
       "  </thead>\n",
       "  <tbody>\n",
       "    <tr>\n",
       "      <th>0</th>\n",
       "      <td>2009-08-12 16:15:00+00:00</td>\n",
       "      <td>4.2</td>\n",
       "      <td>T0</td>\n",
       "      <td>0.0</td>\n",
       "      <td>4.2</td>\n",
       "      <td>#d60000</td>\n",
       "    </tr>\n",
       "    <tr>\n",
       "      <th>1</th>\n",
       "      <td>2009-08-12 16:15:04.200000+00:00</td>\n",
       "      <td>4.1</td>\n",
       "      <td>T2</td>\n",
       "      <td>4.2</td>\n",
       "      <td>8.3</td>\n",
       "      <td>#8c3bff</td>\n",
       "    </tr>\n",
       "    <tr>\n",
       "      <th>2</th>\n",
       "      <td>2009-08-12 16:15:08.300000+00:00</td>\n",
       "      <td>4.2</td>\n",
       "      <td>T0</td>\n",
       "      <td>8.3</td>\n",
       "      <td>12.5</td>\n",
       "      <td>#d60000</td>\n",
       "    </tr>\n",
       "    <tr>\n",
       "      <th>3</th>\n",
       "      <td>2009-08-12 16:15:12.500000+00:00</td>\n",
       "      <td>4.1</td>\n",
       "      <td>T1</td>\n",
       "      <td>12.5</td>\n",
       "      <td>16.6</td>\n",
       "      <td>#018700</td>\n",
       "    </tr>\n",
       "    <tr>\n",
       "      <th>4</th>\n",
       "      <td>2009-08-12 16:15:16.600000+00:00</td>\n",
       "      <td>4.2</td>\n",
       "      <td>T0</td>\n",
       "      <td>16.6</td>\n",
       "      <td>20.8</td>\n",
       "      <td>#d60000</td>\n",
       "    </tr>\n",
       "  </tbody>\n",
       "</table>\n",
       "</div>"
      ],
      "text/plain": [
       "                             onset  duration description  start   end    color\n",
       "0        2009-08-12 16:15:00+00:00       4.2          T0    0.0   4.2  #d60000\n",
       "1 2009-08-12 16:15:04.200000+00:00       4.1          T2    4.2   8.3  #8c3bff\n",
       "2 2009-08-12 16:15:08.300000+00:00       4.2          T0    8.3  12.5  #d60000\n",
       "3 2009-08-12 16:15:12.500000+00:00       4.1          T1   12.5  16.6  #018700\n",
       "4 2009-08-12 16:15:16.600000+00:00       4.2          T0   16.6  20.8  #d60000"
      ]
     },
     "execution_count": 17,
     "metadata": {},
     "output_type": "execute_result"
    }
   ],
   "source": [
    "# get initial time of experiment\n",
    "orig_time = raw.annotations.orig_time\n",
    "\n",
    "# get annotations into pd df\n",
    "annotations_df = raw.annotations.to_data_frame()\n",
    "\n",
    "# Ensure the 'onset' column is in UTC timezone\n",
    "annotations_df['onset'] = annotations_df['onset'].dt.tz_localize('UTC')\n",
    "\n",
    "annotations_df['start'] = (annotations_df['onset'] - orig_time).dt.total_seconds()\n",
    "annotations_df['end'] = annotations_df['start'] + annotations_df['duration']\n",
    "\n",
    "\n",
    "unique_descriptions = annotations_df['description'].unique()\n",
    "color_map = dict(zip(unique_descriptions, cc.glasbey[:len(unique_descriptions)]))\n",
    "annotations_df['color'] = annotations_df['description'].map(color_map)\n",
    "\n",
    "annotations_df.head()\n"
   ]
  },
  {
   "cell_type": "markdown",
   "id": "d71806b3-a1bd-40dd-a6e4-f037d8eeb65d",
   "metadata": {},
   "source": [
    "### Clean channel names, set sensor positions, and reference data"
   ]
  },
  {
   "cell_type": "code",
   "execution_count": 18,
   "id": "98cd0172-438d-41bf-8acd-905e2f2c6aa3",
   "metadata": {},
   "outputs": [],
   "source": [
    "# clean up the channel names\n",
    "raw.rename_channels(lambda s: s.strip(\".\"));"
   ]
  },
  {
   "cell_type": "code",
   "execution_count": 19,
   "id": "cd781356-2ef6-4af9-86a6-e3cfda824c18",
   "metadata": {
    "scrolled": true
   },
   "outputs": [],
   "source": [
    "# optional: preview available montages that are shipped with MNE\n",
    "# mne.channels.get_builtin_montages(descriptions=True)"
   ]
  },
  {
   "cell_type": "code",
   "execution_count": 20,
   "id": "08d088b2-9610-4a8f-93b9-c8c17716f934",
   "metadata": {},
   "outputs": [],
   "source": [
    "# optional: Let's use the standard 10-20\n",
    "# montage = mne.channels.make_standard_montage(\"standard_1020\")"
   ]
  },
  {
   "cell_type": "code",
   "execution_count": 21,
   "id": "20c5454f-e8a1-470c-8054-e8568176b219",
   "metadata": {},
   "outputs": [],
   "source": [
    "# optional: plot the assigned positions of our data channels\n",
    "# raw.set_montage(montage, match_case=False)\n",
    "# sphere=(0, 0.015, 0, 0.099) #manually adjust the y origin coord and radius a bit\n",
    "# raw.plot_sensors(show_names=True, sphere=sphere);"
   ]
  },
  {
   "cell_type": "code",
   "execution_count": 22,
   "id": "2101db8e-1d76-4be0-bab6-47e457dae473",
   "metadata": {},
   "outputs": [
    {
     "name": "stdout",
     "output_type": "stream",
     "text": [
      "EEG channel type selected for re-referencing\n",
      "Applying average reference.\n",
      "Applying a custom ('EEG',) reference.\n"
     ]
    }
   ],
   "source": [
    "# re-reference EEG data to the average over all recording channels\n",
    "raw.set_eeg_reference(\"average\");"
   ]
  },
  {
   "cell_type": "markdown",
   "id": "b2e039da-0d89-4d98-8ae8-0645c9297ed0",
   "metadata": {},
   "source": [
    "### Gather the data for plotting into simple numpy arrays"
   ]
  },
  {
   "cell_type": "code",
   "execution_count": 23,
   "id": "46a8dac5-349f-4fa7-9221-57c73af5d6dc",
   "metadata": {},
   "outputs": [],
   "source": [
    "time = raw.times\n",
    "channels = raw.ch_names\n",
    "\n",
    "# get the EEG data (for this data set, all channels are EEG anyways)\n",
    "eeg_indices = mne.pick_types(raw.info, eeg=True)\n",
    "data = raw.get_data(picks=eeg_indices, units={\"eeg\":\"uV\"})"
   ]
  },
  {
   "cell_type": "markdown",
   "id": "35ac8f6d-29c1-4b7e-91d8-7c7d4da47814",
   "metadata": {},
   "source": [
    "### Visualize real data. Approach: Offset, HoloViz"
   ]
  },
  {
   "cell_type": "code",
   "execution_count": null,
   "id": "66c0a17e-5196-4aef-a8a0-6f392dc76f03",
   "metadata": {
    "scrolled": true
   },
   "outputs": [],
   "source": [
    "max_ch_disp = 20  # max channels to initially display\n",
    "max_t_disp = 20 # max time in seconds to initially display\n",
    "\n",
    "spacing = 2.5  # Spacing between channels\n",
    "offset = np.std(data) * spacing\n",
    "\n",
    "# Create an overlay of VSpan annotations based on the annotations dataframe\n",
    "annotation_elements = [hv.VSpan(row['start'], row['end']).opts(fill_color=row['color'], alpha=0.1) \n",
    "                       for _, row in annotations_df.iterrows()]\n",
    "annotations_overlay = hv.Overlay(annotation_elements)\n",
    "\n",
    "# Create a hv.Curve element per chan\n",
    "channel_curves = []\n",
    "max_data = data.max()\n",
    " \n",
    "hover = HoverTool(tooltips=[\n",
    "    (\"Channel\", \"@channel\"),\n",
    "    (\"Time\", \"$x s\"),\n",
    "    (\"Amplitude\", \"@original_amplitude µV\")])\n",
    "\n",
    "xwheel = WheelZoomTool(\n",
    "    zoom_together=\"none\",\n",
    "    dimensions=\"width\",\n",
    "    maintain_focus=False,\n",
    ")\n",
    "\n",
    "for i, channel_data in enumerate(data):\n",
    "    offset_data = channel_data + (i * offset)\n",
    "    max_data = max(offset_data.max(), max_data) # update max\n",
    "    ds = Dataset((time, offset_data, channel_data, channels[i]), [\"Time\", \"Amplitude\", \"original_amplitude\", \"channel\"])\n",
    "    channel_curves.append(\n",
    "        hv.Curve(ds, \"Time\", [\"Amplitude\", \"original_amplitude\", \"channel\"]).opts(\n",
    "            color=\"black\", line_width=1,\n",
    "            tools=[hover, xwheel], shared_axes=False))\n",
    "\n",
    "yticks = [(i * offset, ich) for i, ich in enumerate(channels)]\n",
    "\n",
    "def set_maintain_focus(plot, element):\n",
    "    wheel_zoom = plot.state.select(type=WheelZoomTool)\n",
    "    if wheel_zoom:\n",
    "        wheel_zoom[0].maintain_focus = False\n",
    "\n",
    "# Create an overlay of curves\n",
    "eeg_viewer = (annotations_overlay * hv.Overlay(channel_curves, kdims=\"Channel\"))\n",
    "eeg_viewer = eeg_viewer.opts(\n",
    "    padding=0, xlabel=\"Time (s)\", ylabel=\"Channel\",\n",
    "    yticks=yticks, show_legend=False, aspect=1.5, responsive=True,\n",
    "    shared_axes=False, xlim=(time.min(), time.max()), backend_opts={\n",
    "        # \"x_range.bounds\": (time.min(), time.max()),\n",
    "        \"y_range.bounds\": (data.min(), max_data)},\n",
    "    hooks=[set_maintain_focus])\n",
    "\n",
    "# Get the y positions of the yticks to use as yaxis of minimap image\n",
    "y_positions, _ = zip(*yticks)\n",
    "\n",
    "# Compute z-scores across time for each channel\n",
    "z_data = zscore(data, axis=1)\n",
    "\n",
    "# Generate the zscored image for the minimap using the y tiack positions from the eeg_viewer\n",
    "minimap = rasterize(hv.Image((time, y_positions, z_data), [\"Time (s)\", \"Channel\"], \"Amplitude (uV)\"))\n",
    "\n",
    "# Style the minimap \n",
    "clim_mul = 1.2\n",
    "minimap = minimap.opts(\n",
    "    cmap=\"RdBu_r\", colorbar=False, xlabel='', alpha=.5, yticks=[yticks[0], yticks[-1]],\n",
    "    height=100, responsive=True, default_tools=[''], shared_axes=False, clim=(-z_data.std()*clim_mul, z_data.std()*clim_mul))\n",
    "    \n",
    "# Create RangeToolLink between the minimap and the main EEG viewer \n",
    "max_y_disp = np.max(data[max_ch_disp-1,:] + ((max_ch_disp-1) * offset))\n",
    "RangeToolLink(minimap, list(eeg_viewer.values())[0], axes=[\"x\", \"y\"],\n",
    "              boundsx=(None, max_t_disp),\n",
    "              boundsy=(None, max_y_disp))\n",
    "\n",
    "# Panel is not working\n",
    "# eeg_app = pn.Column((eeg_viewer + minimap * annotations_overlay).cols(1), min_height=650)\n",
    "eeg_app = (eeg_viewer + minimap * annotations_overlay).cols(1)\n",
    "eeg_app"
   ]
  },
  {
   "cell_type": "markdown",
   "id": "1ca00cdc-c65b-4a27-884e-b87c878e1cc1",
   "metadata": {},
   "source": [
    "### Visualize real data. Approach: Subcoord, HoloViz"
   ]
  },
  {
   "cell_type": "markdown",
   "id": "672cec6c-16b9-43d1-89ce-15b5e645ca32",
   "metadata": {},
   "source": [
    "<div class=\"admonition alert alert-info\">\n",
    "    <p class=\"admonition-title\" style=\"font-weight:bold\">Requires HoloViews>=1.18</p>\n",
    "</div>\n"
   ]
  },
  {
   "cell_type": "code",
   "execution_count": null,
   "id": "90e4efca-51aa-4633-8dc0-e7d8d5573aee",
   "metadata": {},
   "outputs": [],
   "source": [
    "max_ch_disp = 20  # max channels to initially display\n",
    "max_t_disp = 20 # max time in seconds to initially display\n",
    "\n",
    "# Create an overlay of VSpan annotations based on the annotations dataframe\n",
    "annotation_elements = [hv.VSpan(row['start'], row['end']).opts(fill_color=row['color'], alpha=0.1) \n",
    "                       for _, row in annotations_df.iterrows()]\n",
    "annotations_overlay = hv.Overlay(annotation_elements)\n",
    "\n",
    "channel_curves = []\n",
    "\n",
    "hover = HoverTool(tooltips=[\n",
    "    (\"Channel\", \"@channel\"),\n",
    "    (\"Time\", \"$x s\"),\n",
    "    (\"Amplitude\", \"$y µV\")])\n",
    "\n",
    "for channel, channel_data in zip(channels, data):\n",
    "    ds = Dataset((time, channel_data, channel), [\"Time\", \"Amplitude\", \"channel\"])\n",
    "    curve = hv.Curve(ds, \"Time\", [\"Amplitude\", \"channel\"], label=f'{channel}')\n",
    "    curve.opts(color=\"black\", line_width=1, subcoordinate_y=True, tools=[hover])\n",
    "    channel_curves.append(curve)\n",
    "\n",
    "eeg_viewer = (hv.Overlay(channel_curves, kdims=\"Channel\"))\n",
    "eeg_viewer = eeg_viewer.opts(\n",
    "    padding=0, xlabel=\"Time (s)\", ylabel=\"Channel\",\n",
    "    show_legend=False, aspect=1.5, responsive=True,\n",
    "    shared_axes=False, xlim=(time.min(), time.max()), backend_opts={\n",
    "        \"x_range.bounds\": (time.min(), time.max()),\n",
    "        \"y_range.bounds\": (0, len(channels))})\n",
    "\n",
    "\n",
    "y_positions = range(len(channels))\n",
    "yticks = [(i, ich) for i, ich in enumerate(channels)]\n",
    "\n",
    "z_data = zscore(data, axis=1)\n",
    "\n",
    "# Does not currently work with rasterize!!!\n",
    "minimap = hv.Image((time, y_positions, z_data), [\"Time (s)\", \"Channel\"], \"Amplitude (uV)\")\n",
    "\n",
    "clim_mul = 1.2\n",
    "minimap = minimap.opts(\n",
    "    cmap=\"RdBu_r\", colorbar=False, xlabel='', alpha=.5, yticks=[yticks[0], yticks[-1]],\n",
    "    height=100, responsive=True, default_tools=[], shared_axes=False, clim=(-z_data.std()*clim_mul, z_data.std()*clim_mul))\n",
    "\n",
    "# Create RangeToolLink between the minimap and the main EEG viewer\n",
    "RangeToolLink(minimap, eeg_viewer, axes=[\"x\", \"y\"], boundsx=(None, 2), boundsy=(None, 6.5))\n",
    "\n",
    "eeg_app = (eeg_viewer + minimap).opts(merge_tools=False).cols(1)\n",
    "\n",
    "# Panel is not working\n",
    "# eeg_app = pn.Column((eeg_viewer + minimap * annotations_overlay).cols(1), min_height=650)\n",
    "\n",
    "eeg_app"
   ]
  }
 ],
 "metadata": {
  "kernelspec": {
   "display_name": "Python 3 (ipykernel)",
   "language": "python",
   "name": "python3"
  },
  "language_info": {
   "codemirror_mode": {
    "name": "ipython",
    "version": 3
   },
   "file_extension": ".py",
   "mimetype": "text/x-python",
   "name": "python",
   "nbconvert_exporter": "python",
   "pygments_lexer": "ipython3",
   "version": "3.10.12"
  }
 },
 "nbformat": 4,
 "nbformat_minor": 5
}
