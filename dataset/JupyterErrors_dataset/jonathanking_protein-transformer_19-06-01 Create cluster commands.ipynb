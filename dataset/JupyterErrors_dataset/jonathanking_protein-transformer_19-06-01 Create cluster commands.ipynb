{
 "cells": [
  {
   "cell_type": "code",
   "execution_count": 27,
   "metadata": {},
   "outputs": [],
   "source": [
    "basic_train_cmd = \"python \" +\\\n",
    "                  \"train.py \" +\\\n",
    "                  \"{data} {name} -e 1000 -b {b} -cl \" +\\\n",
    "                  \"-dm {dm} --early_stopping 30 -nh {nh} -nl {nl} \" +\\\n",
    "                  \"-dk {dk} -dv {dv} {clip} -lr {lr} -do {do}\"\n",
    "\n",
    "param = {\"dk\": [8, 20, 52, 128, 256],\n",
    "         \"dv\": [8, 20, 52, 128, 256],\n",
    "         \"nh\": [1, 2, 4, 6, 8],\n",
    "         \"nl\": [1, 2, 4, 6, 8],\n",
    "         \"dm\": [8, 16, 22, 56, 128, 256, 512],\n",
    "         \"clip\": [\"\", \"-cg 1\", \"-cg .5\"],\n",
    "         \"lr\": [1e-3, 1e-4, 1e-5, 1e-2],\n",
    "         \"do\": [0, 0.1, 0.5],\n",
    "         \"b\": [1, 2, 4, 8]}\n",
    "# data_path = \"data/data_190529_multi_helix_turns.tch\"\n",
    "# data_path = \"data/data_190530_multi_helix_turns_overfit.tch\"\n",
    "data_path = \"data/data_190609_query1.5.tch\"\n",
    "name = \"0609-q2-{:04}\""
   ]
  },
  {
   "cell_type": "code",
   "execution_count": 3,
   "metadata": {
    "collapsed": true
   },
   "outputs": [
    {
     "ename": "KeyError",
     "evalue": "'b'",
     "output_type": "error",
     "traceback": [
      "\u001b[0;31m---------------------------------------------------------------------------\u001b[0m",
      "\u001b[0;31mKeyError\u001b[0m                                  Traceback (most recent call last)",
      "\u001b[0;32m<ipython-input-3-7e076e4ab7cd>\u001b[0m in \u001b[0;36m<module>\u001b[0;34m\u001b[0m\n\u001b[1;32m      7\u001b[0m                 \u001b[0;32mfor\u001b[0m \u001b[0mnl\u001b[0m \u001b[0;32min\u001b[0m \u001b[0mparam\u001b[0m\u001b[0;34m[\u001b[0m\u001b[0;34m\"nl\"\u001b[0m\u001b[0;34m]\u001b[0m\u001b[0;34m:\u001b[0m\u001b[0;34m\u001b[0m\u001b[0;34m\u001b[0m\u001b[0m\n\u001b[1;32m      8\u001b[0m                     cmd = basic_train_cmd.format(data=data_path, name=name.format(i),\n\u001b[0;32m----> 9\u001b[0;31m                                                  dk=dk, dm=dm, dv=dv, nh=nh, nl=nl)\n\u001b[0m\u001b[1;32m     10\u001b[0m                     \u001b[0mcmds\u001b[0m\u001b[0;34m.\u001b[0m\u001b[0mappend\u001b[0m\u001b[0;34m(\u001b[0m\u001b[0mcmd\u001b[0m\u001b[0;34m)\u001b[0m\u001b[0;34m\u001b[0m\u001b[0;34m\u001b[0m\u001b[0m\n\u001b[1;32m     11\u001b[0m                     \u001b[0mprint\u001b[0m\u001b[0;34m(\u001b[0m\u001b[0mcmd\u001b[0m \u001b[0;34m+\u001b[0m \u001b[0;34mf\" > logs/{name}.log 2>&1\"\u001b[0m\u001b[0;34m.\u001b[0m\u001b[0mformat\u001b[0m\u001b[0;34m(\u001b[0m\u001b[0mi\u001b[0m\u001b[0;34m)\u001b[0m\u001b[0;34m)\u001b[0m\u001b[0;34m\u001b[0m\u001b[0;34m\u001b[0m\u001b[0m\n",
      "\u001b[0;31mKeyError\u001b[0m: 'b'"
     ]
    }
   ],
   "source": [
    "i = 0\n",
    "cmds = []\n",
    "for dm in param[\"dm\"]:\n",
    "    for dk in param[\"dk\"]:\n",
    "        for dv in param[\"dv\"]:\n",
    "            for nh in param[\"nh\"]:\n",
    "                for nl in param[\"nl\"]:\n",
    "                    cmd = basic_train_cmd.format(data=data_path, name=name.format(i),\n",
    "                                                 dk=dk, dm=dm, dv=dv, nh=nh, nl=nl,\n",
    "                                                b=b)\n",
    "                    cmds.append(cmd)\n",
    "                    print(cmd + f\" > logs/{name}.log 2>&1\".format(i))\n",
    "\n",
    "                    i += 1"
   ]
  },
  {
   "cell_type": "code",
   "execution_count": 37,
   "metadata": {},
   "outputs": [],
   "source": [
    "f = open(\"../cluster/190613.txt\", \"w\")\n",
    "basic_train_cmd = \"python \" +\\\n",
    "                  \"train.py \" +\\\n",
    "                  \"{data} {name} -e 1000 -b {b} -cl \" +\\\n",
    "                  \"-dm {dm} --early_stopping 30 -nh {nh} -nl {nl} \" +\\\n",
    "                  \"-dk {dk} -dv {dv} {clip} -lr {lr} -do {do}\"\n",
    "data_path = \"data/data_190613_query1.tch\"\n",
    "name = \"0613-q1-{:04}\"\n",
    "\n",
    "param = {\"dk\": [8, 20, 52, 128, 256],\n",
    "         \"dv\": [8, 20, 52, 128, 256],\n",
    "         \"nh\": [1, 2, 4, 6, 8],\n",
    "         \"nl\": [1, 2, 4, 6, 8],\n",
    "         \"dm\": [8, 16, 22, 56, 128, 256, 512],\n",
    "         \"clip\": [\"\", \"-cg 1\", \"-cg .5\"],\n",
    "         \"lr\": [1e-3, 1e-4, 1e-5, 1e-2],\n",
    "         \"do\": [0, 0.5],\n",
    "         \"b\": [1, 2, 4]}"
   ]
  },
  {
   "cell_type": "code",
   "execution_count": 38,
   "metadata": {},
   "outputs": [],
   "source": [
    "i = 0\n",
    "cmds = []\n",
    "for dk in param[\"dk\"]:\n",
    "    for dv in param[\"dv\"]:\n",
    "        for nh in param[\"nh\"]:\n",
    "            for nl in param[\"nl\"]:\n",
    "                for dm in param[\"dm\"]:\n",
    "                    for clip in param[\"clip\"]:\n",
    "                        for lr in param[\"lr\"]:\n",
    "                            for do in param[\"do\"]:\n",
    "                                for b in param[\"b\"]:\n",
    "            \n",
    "                                    cmd = f\"{str(basic_train_cmd)}\".format(data=data_path, name=name.format(i),\n",
    "                                                                 dk=dk, dm=dm, dv=dv, nh=nh, nl=nl,\n",
    "                                                                b=b,clip=clip, do=do, lr=lr)\n",
    "\n",
    "\n",
    "#                                     cmd = cmd + f\" > logs/{name}.log 2>&1\".format(i)\n",
    "                                    f.write(cmd + \"\\n\")\n",
    "    #                                     print(cmd)\n",
    "    #                                     cmds.append(cmd)\n",
    "\n",
    "                                    i += 1\n"
   ]
  },
  {
   "cell_type": "code",
   "execution_count": 39,
   "metadata": {},
   "outputs": [],
   "source": [
    "f.close()"
   ]
  },
  {
   "cell_type": "code",
   "execution_count": null,
   "metadata": {},
   "outputs": [],
   "source": []
  }
 ],
 "metadata": {
  "kernelspec": {
   "display_name": "Python (pytorch_src2)",
   "language": "python",
   "name": "pytorch_src2"
  },
  "language_info": {
   "codemirror_mode": {
    "name": "ipython",
    "version": 3
   },
   "file_extension": ".py",
   "mimetype": "text/x-python",
   "name": "python",
   "nbconvert_exporter": "python",
   "pygments_lexer": "ipython3",
   "version": "3.6.8"
  }
 },
 "nbformat": 4,
 "nbformat_minor": 2
}
