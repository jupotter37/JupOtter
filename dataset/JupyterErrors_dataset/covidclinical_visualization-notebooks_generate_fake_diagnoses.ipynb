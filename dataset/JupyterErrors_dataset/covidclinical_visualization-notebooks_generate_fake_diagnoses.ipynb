{
 "cells": [
  {
   "cell_type": "code",
   "execution_count": 13,
   "metadata": {},
   "outputs": [
    {
     "ename": "FileNotFoundError",
     "evalue": "[Errno 2] No such file or directory: '../fakedata'",
     "output_type": "error",
     "traceback": [
      "\u001b[0;31m---------------------------------------------------------------------------\u001b[0m",
      "\u001b[0;31mFileNotFoundError\u001b[0m                         Traceback (most recent call last)",
      "\u001b[0;32m<ipython-input-13-300990ca0081>\u001b[0m in \u001b[0;36m<module>\u001b[0;34m\u001b[0m\n\u001b[1;32m     10\u001b[0m \u001b[0msys\u001b[0m\u001b[0;34m.\u001b[0m\u001b[0mpath\u001b[0m\u001b[0;34m.\u001b[0m\u001b[0minsert\u001b[0m\u001b[0;34m(\u001b[0m\u001b[0;36m1\u001b[0m\u001b[0;34m,\u001b[0m \u001b[0;34m'../../notebooks'\u001b[0m\u001b[0;34m)\u001b[0m \u001b[0;31m# We want to use constants.py in another folder\u001b[0m\u001b[0;34m\u001b[0m\u001b[0;34m\u001b[0m\u001b[0m\n\u001b[1;32m     11\u001b[0m \u001b[0;34m\u001b[0m\u001b[0m\n\u001b[0;32m---> 12\u001b[0;31m \u001b[0;32mfrom\u001b[0m \u001b[0mconstants\u001b[0m \u001b[0;32mimport\u001b[0m \u001b[0mDATA_DIR\u001b[0m\u001b[0;34m,\u001b[0m \u001b[0mCOLUMNS\u001b[0m\u001b[0;34m\u001b[0m\u001b[0;34m\u001b[0m\u001b[0m\n\u001b[0m\u001b[1;32m     13\u001b[0m \u001b[0;34m\u001b[0m\u001b[0m\n\u001b[1;32m     14\u001b[0m \u001b[0mnp\u001b[0m\u001b[0;34m.\u001b[0m\u001b[0mrandom\u001b[0m\u001b[0;34m.\u001b[0m\u001b[0mseed\u001b[0m\u001b[0;34m(\u001b[0m\u001b[0;36m0\u001b[0m\u001b[0;34m)\u001b[0m\u001b[0;34m\u001b[0m\u001b[0;34m\u001b[0m\u001b[0m\n",
      "\u001b[0;32m~/Projects/c19i2b2-notebooks/notebooks/constants.py\u001b[0m in \u001b[0;36m<module>\u001b[0;34m\u001b[0m\n\u001b[1;32m     48\u001b[0m \u001b[0;34m\u001b[0m\u001b[0m\n\u001b[1;32m     49\u001b[0m \u001b[0;31m# Collect all site IDs by looking into file names in `DATA_DIR`.\u001b[0m\u001b[0;34m\u001b[0m\u001b[0;34m\u001b[0m\u001b[0;34m\u001b[0m\u001b[0m\n\u001b[0;32m---> 50\u001b[0;31m \u001b[0mfilenames\u001b[0m \u001b[0;34m=\u001b[0m \u001b[0;34m[\u001b[0m\u001b[0mf\u001b[0m \u001b[0;32mfor\u001b[0m \u001b[0mf\u001b[0m \u001b[0;32min\u001b[0m \u001b[0mlistdir\u001b[0m\u001b[0;34m(\u001b[0m\u001b[0mDATA_DIR\u001b[0m\u001b[0;34m)\u001b[0m \u001b[0;32mif\u001b[0m \u001b[0misfile\u001b[0m\u001b[0;34m(\u001b[0m\u001b[0mjoin\u001b[0m\u001b[0;34m(\u001b[0m\u001b[0mDATA_DIR\u001b[0m\u001b[0;34m,\u001b[0m \u001b[0mf\u001b[0m\u001b[0;34m)\u001b[0m\u001b[0;34m)\u001b[0m\u001b[0;34m]\u001b[0m\u001b[0;34m\u001b[0m\u001b[0;34m\u001b[0m\u001b[0m\n\u001b[0m\u001b[1;32m     51\u001b[0m \u001b[0;34m\u001b[0m\u001b[0m\n\u001b[1;32m     52\u001b[0m \u001b[0m_SITE_IDS_FOR_DAILY_COUNT_FILES\u001b[0m \u001b[0;34m=\u001b[0m \u001b[0;34m[\u001b[0m\u001b[0mfname\u001b[0m\u001b[0;34m[\u001b[0m\u001b[0mlen\u001b[0m\u001b[0;34m(\u001b[0m\u001b[0;34m\"DailyCounts-\"\u001b[0m\u001b[0;34m)\u001b[0m\u001b[0;34m:\u001b[0m\u001b[0;34m-\u001b[0m\u001b[0mlen\u001b[0m\u001b[0;34m(\u001b[0m\u001b[0;34m\".csv\"\u001b[0m\u001b[0;34m)\u001b[0m\u001b[0;34m]\u001b[0m \u001b[0;32mfor\u001b[0m \u001b[0mfname\u001b[0m \u001b[0;32min\u001b[0m \u001b[0mfilenames\u001b[0m \u001b[0;32mif\u001b[0m \u001b[0;34m\"DailyCounts-\"\u001b[0m \u001b[0;32min\u001b[0m \u001b[0mfname\u001b[0m\u001b[0;34m]\u001b[0m\u001b[0;34m\u001b[0m\u001b[0;34m\u001b[0m\u001b[0m\n",
      "\u001b[0;31mFileNotFoundError\u001b[0m: [Errno 2] No such file or directory: '../fakedata'"
     ]
    }
   ],
   "source": [
    "import numpy as np\n",
    "import pandas as pd\n",
    "import altair as alt\n",
    "from os.path import join\n",
    "import random\n",
    "import string\n",
    "from numpy.random import choice\n",
    "\n",
    "import sys\n",
    "sys.path.insert(1, '../../notebooks') # We want to use constants.py in another folder\n",
    "\n",
    "from constants import DATA_DIR, COLUMNS\n",
    "\n",
    "np.random.seed(0)"
   ]
  },
  {
   "cell_type": "code",
   "execution_count": 14,
   "metadata": {},
   "outputs": [],
   "source": [
    "# GUIDELINE\n",
    "\n",
    "# File #4: Diagnoses-SiteID.csv\n",
    "# Fields: siteid, icd_code, icd_version, num_patients\n",
    "# Notes:\n",
    "# (1) One row per ICD diagnosis code\n",
    "# (2) All diagnoses the patients have starting seven days before the positive test \n",
    "# (3) icd_version = \"9\" or \"10\"\n",
    "# (4) Obfuscate small counts with \"-1\" as required by your institution\n",
    "# Examples: (Diagnoses-BIDMC.csv)\n",
    "# BIDMC, B97.29, 10, 25\n",
    "# BIDMC, J12.89, 10, 19\n",
    "# BIDMC, R03.0, 10, 15\n",
    "# BIDMC, U07.1, 10, 13\n",
    "# BIDMC, 123, 9, -1"
   ]
  },
  {
   "cell_type": "code",
   "execution_count": 15,
   "metadata": {},
   "outputs": [],
   "source": [
    "num_sites = 20\n",
    "num_codes = 9"
   ]
  },
  {
   "cell_type": "code",
   "execution_count": 16,
   "metadata": {},
   "outputs": [],
   "source": [
    "# ICD-10 examples taken from:\n",
    "# https://www.cdc.gov/nchs/data/icd/ICD-10-CM-Official-Coding-Gudance-Interim-Advice-coronavirus-feb-20-2020.pdf\n",
    "ICD_10_CODES = [\n",
    "    \"J12.89\", \"B97.29\", \"J20.8\", \"J40\", \"J22\", \"J98.8\", \"J80\", \"Z03.818\", \"Z20.828\"\n",
    "]\n",
    "\n",
    "# ICD-09: https://en.wikipedia.org/wiki/List_of_ICD-9_codes\n",
    "ICD_9_CODES = np.char.mod( '%03d', random.sample(range(1,139), num_codes))"
   ]
  },
  {
   "cell_type": "code",
   "execution_count": 17,
   "metadata": {},
   "outputs": [],
   "source": [
    "# Fake site ids\n",
    "\n",
    "# To generate new list, uncomment below\n",
    "# site_ids = []\n",
    "# for i in range(num_sites):\n",
    "#     site_ids.append(\"F\" + \"\".join(random.choices(string.ascii_uppercase, k=2)))\n",
    "\n",
    "site_ids = ['FWN','FXL','FZT','FMT','FFG','FOW','FSZ','FMA','FEQ','FVX','FKQ','FBL','FDQ','FKN','FBD','FKL','FUU','FZU','FZM','FUN']"
   ]
  },
  {
   "cell_type": "code",
   "execution_count": 18,
   "metadata": {},
   "outputs": [],
   "source": [
    "# Iterate each site to make dataFrame\n",
    "dfs = []\n",
    "for siteid in site_ids:\n",
    "    \n",
    "    data = []\n",
    "    \n",
    "    # A factor that decide the number of patients in each site\n",
    "    size_of_site = choice([\"s\", \"m\", \"l\"], 1, [0.1, 0.6, 0.4])\n",
    "        \n",
    "    # ICD_9_CODES\n",
    "    for code in ICD_9_CODES:\n",
    "        \n",
    "        # Some codes may not be used for each site\n",
    "        if choice([True, False], 1, [0.5, 0.5]):\n",
    "            continue\n",
    "        \n",
    "        is_obfuscate = choice([True, False], 1, [0.05, 0.95])\n",
    "        \n",
    "        icd_version = \"9\"\n",
    "        num_patients = -1\n",
    "        \n",
    "        if is_obfuscate == False:\n",
    "            if size_of_site == \"s\":\n",
    "                num_patients = random.choice(range(1,12))\n",
    "            elif size_of_site == \"m\":\n",
    "                num_patients = random.choice(range(1,50))\n",
    "            else:\n",
    "                num_patients = random.choice(range(1,98))\n",
    "\n",
    "        data.append([siteid, code, icd_version, num_patients])\n",
    "    \n",
    "    # ICD_10_CODES\n",
    "    for code in ICD_10_CODES:\n",
    "        \n",
    "        # Some codes may not be used for each site\n",
    "        if choice([True, False], 1, [0.2, 0.8]):\n",
    "            continue\n",
    "        \n",
    "        is_obfuscate = choice([True, False], 1, [0.05, 0.95])\n",
    "        \n",
    "        icd_version = \"10\"\n",
    "        num_patients = -1\n",
    "        \n",
    "        if is_obfuscate == False:\n",
    "            if size_of_site == \"s\":\n",
    "                num_patients = random.choice(range(1,12))\n",
    "            elif size_of_site == \"m\":\n",
    "                num_patients = random.choice(range(1,50))\n",
    "            else:\n",
    "                num_patients = random.choice(range(1,98))\n",
    "\n",
    "        data.append([siteid, code, icd_version, num_patients])\n",
    "        \n",
    "    # Make data\n",
    "    df = pd.DataFrame(data)\n",
    "    dfs.append(df)\n",
    "    \n",
    "    # Write a file\n",
    "    df.to_csv(join(\"..\", \"Diagnoses-\" + siteid + '.csv'), index = False, header=False)"
   ]
  },
  {
   "cell_type": "code",
   "execution_count": null,
   "metadata": {},
   "outputs": [],
   "source": []
  }
 ],
 "metadata": {
  "kernelspec": {
   "display_name": "Python [conda env:c19i2b2-py] *",
   "language": "python",
   "name": "conda-env-c19i2b2-py-py"
  },
  "language_info": {
   "codemirror_mode": {
    "name": "ipython",
    "version": 3
   },
   "file_extension": ".py",
   "mimetype": "text/x-python",
   "name": "python",
   "nbconvert_exporter": "python",
   "pygments_lexer": "ipython3",
   "version": "3.8.2"
  }
 },
 "nbformat": 4,
 "nbformat_minor": 4
}
