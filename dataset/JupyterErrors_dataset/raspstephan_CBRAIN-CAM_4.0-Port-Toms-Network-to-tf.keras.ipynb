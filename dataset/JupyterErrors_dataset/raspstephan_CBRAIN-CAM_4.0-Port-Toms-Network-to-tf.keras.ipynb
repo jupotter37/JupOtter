{
 "cells": [
  {
   "cell_type": "markdown",
   "metadata": {},
   "source": [
    "# Energy conserving network in tf.keras\n",
    "\n",
    "This is using https://github.com/tbeucler/CBRAIN-CAM/blob/master/notebooks/tbeucler_devlog/005_Predicting_convective_and_radiative_heating_profiles.ipynb\n",
    "\n"
   ]
  },
  {
   "cell_type": "code",
   "execution_count": 1,
   "metadata": {},
   "outputs": [],
   "source": [
    "%load_ext autoreload\n",
    "%autoreload 2"
   ]
  },
  {
   "cell_type": "code",
   "execution_count": 2,
   "metadata": {},
   "outputs": [],
   "source": [
    "from cbrain.imports import *\n",
    "from cbrain.utils import *"
   ]
  },
  {
   "cell_type": "markdown",
   "metadata": {
    "heading_collapsed": true
   },
   "source": [
    "## Preprocess "
   ]
  },
  {
   "cell_type": "code",
   "execution_count": 9,
   "metadata": {
    "hidden": true
   },
   "outputs": [
    {
     "name": "stdout",
     "output_type": "stream",
     "text": [
      "2019-04-02 14:02:04.405617: I tensorflow/core/platform/cpu_feature_guard.cc:141] Your CPU supports instructions that this TensorFlow binary was not compiled to use: SSE4.1 SSE4.2 AVX AVX2 AVX512F FMA\n",
      "2019-04-02 14:02:04.559464: I tensorflow/core/common_runtime/gpu/gpu_device.cc:1432] Found device 0 with properties: \n",
      "name: GeForce GTX 1080 major: 6 minor: 1 memoryClockRate(GHz): 1.7335\n",
      "pciBusID: 0000:b3:00.0\n",
      "totalMemory: 7.93GiB freeMemory: 5.91GiB\n",
      "2019-04-02 14:02:04.559497: I tensorflow/core/common_runtime/gpu/gpu_device.cc:1511] Adding visible gpu devices: 0\n",
      "2019-04-02 14:02:05.066076: I tensorflow/core/common_runtime/gpu/gpu_device.cc:982] Device interconnect StreamExecutor with strength 1 edge matrix:\n",
      "2019-04-02 14:02:05.066113: I tensorflow/core/common_runtime/gpu/gpu_device.cc:988]      0 \n",
      "2019-04-02 14:02:05.066121: I tensorflow/core/common_runtime/gpu/gpu_device.cc:1001] 0:   N \n",
      "2019-04-02 14:02:05.066456: I tensorflow/core/common_runtime/gpu/gpu_device.cc:1115] Created TensorFlow device (/job:localhost/replica:0/task:0/device:GPU:0 with 5691 MB memory) -> physical GPU (device: 0, name: GeForce GTX 1080, pci bus id: 0000:b3:00.0, compute capability: 6.1)\n",
      "04/02/2019 02:02:05 PM Preprocess training dataset\n",
      "04/02/2019 02:02:05 PM Start preprocessing file /local/S.Rasp/preprocessed_data/002_train.nc\n",
      "04/02/2019 02:02:05 PM Reading input files\n",
      "04/02/2019 02:02:05 PM Crop levels\n",
      "04/02/2019 02:02:05 PM Create stacked dataarray\n",
      "These time steps are cut: []\n",
      "04/02/2019 02:02:05 PM Stack and reshape dataarray\n",
      "04/02/2019 02:02:08 PM Save dataarray as /local/S.Rasp/preprocessed_data/002_train.nc\n",
      "04/02/2019 02:05:55 PM Done!\n",
      "04/02/2019 02:05:55 PM Shuffle training dataset\n",
      "04/02/2019 02:05:55 PM Start shuffling /local/S.Rasp/preprocessed_data/002_train.nc into /local/S.Rasp/preprocessed_data/002_train_shuffle.nc. Open and create datasets.\n",
      "04/02/2019 02:06:04 PM Shuffle!\n",
      "100%|█████████████████████████████████████████████| 1/1 [00:18<00:00, 18.31s/it]\n",
      "04/02/2019 02:06:22 PM Closing datasets\n",
      "04/02/2019 02:06:23 PM Done!\n",
      "04/02/2019 02:06:23 PM Preprocess validation dataset\n",
      "04/02/2019 02:06:23 PM Start preprocessing file /local/S.Rasp/preprocessed_data/002_valid.nc\n",
      "04/02/2019 02:06:23 PM Reading input files\n",
      "04/02/2019 02:06:37 PM Crop levels\n",
      "04/02/2019 02:06:37 PM Create stacked dataarray\n",
      "These time steps are cut: []\n",
      "04/02/2019 02:06:38 PM Stack and reshape dataarray\n",
      "04/02/2019 02:06:40 PM Save dataarray as /local/S.Rasp/preprocessed_data/002_valid.nc\n",
      "04/02/2019 02:10:43 PM Done!\n",
      "04/02/2019 02:10:43 PM Compute normalization file from train\n",
      "04/02/2019 02:10:43 PM Start normalizing by creating dataset.\n",
      "04/02/2019 02:10:43 PM Compute standard normalizations.\n",
      "04/02/2019 02:13:05 PM Saving normalization file as /local/S.Rasp/preprocessed_data/002_norm.nc\n",
      "04/02/2019 02:13:05 PM Done!\n",
      "04/02/2019 02:13:05 PM Finish entire preprocessing script.\n"
     ]
    }
   ],
   "source": [
    "!python ../../preprocessing.py -c ../../pp_config/002_32col_tom.yml"
   ]
  },
  {
   "cell_type": "markdown",
   "metadata": {},
   "source": [
    "## Output normalization using Pressure levels\n",
    "\n",
    "Using the dict normalizer"
   ]
  },
  {
   "cell_type": "code",
   "execution_count": 3,
   "metadata": {},
   "outputs": [],
   "source": [
    "out_vars = ['PHQ', 'PHCLDLIQ', 'PHCLDICE', 'TPHYSTND', 'QRL', 'QRS', 'DTVKE', \n",
    "            'FSNT', 'FSNS', 'FLNT', 'FLNS', 'PRECT', 'PRECTEND', 'PRECST', 'PRECSTEN']"
   ]
  },
  {
   "cell_type": "code",
   "execution_count": 4,
   "metadata": {},
   "outputs": [],
   "source": [
    "from cbrain.cam_constants import *"
   ]
  },
  {
   "cell_type": "code",
   "execution_count": 5,
   "metadata": {},
   "outputs": [],
   "source": [
    "scale_dict = {\n",
    "    'PHQ': L_V/G, \n",
    "    'PHCLDLIQ': L_V/G, \n",
    "    'PHCLDICE': L_V/G, \n",
    "    'TPHYSTND': C_P/G, \n",
    "    'QRL': C_P/G, \n",
    "    'QRS': C_P/G, \n",
    "    'DTVKE': C_P/G, \n",
    "    'FSNT': 1, \n",
    "    'FSNS': 1, \n",
    "    'FLNT': 1, \n",
    "    'FLNS': 1, \n",
    "    'PRECT': RHO_L*L_V, \n",
    "    'PRECTEND': 1e-3*RHO_L*L_V, \n",
    "    'PRECST': RHO_L*L_V, \n",
    "    'PRECSTEN': 1e-3*RHO_L*L_V\n",
    "}"
   ]
  },
  {
   "cell_type": "code",
   "execution_count": 6,
   "metadata": {},
   "outputs": [],
   "source": [
    "with open(os.path.join(os.path.dirname('../../cbrain/'), 'hyai_hybi.pkl'), 'rb') as f:\n",
    "    hyai, hybi = pickle.load(f)"
   ]
  },
  {
   "cell_type": "code",
   "execution_count": 7,
   "metadata": {},
   "outputs": [],
   "source": [
    "# Takes representative value for PS since purpose is normalization\n",
    "PS = 1e5; P0 = 1e5;\n",
    "P = P0*hyai+PS*hybi; # Total pressure [Pa]\n",
    "dP = P[1:]-P[:-1]; # Differential pressure [Pa]  "
   ]
  },
  {
   "cell_type": "code",
   "execution_count": 8,
   "metadata": {},
   "outputs": [
    {
     "data": {
      "text/plain": [
       "(30,)"
      ]
     },
     "execution_count": 8,
     "metadata": {},
     "output_type": "execute_result"
    }
   ],
   "source": [
    "dP.shape"
   ]
  },
  {
   "cell_type": "code",
   "execution_count": 9,
   "metadata": {},
   "outputs": [],
   "source": [
    "for v in ['PHQ', 'PHCLDLIQ', 'PHCLDICE', 'TPHYSTND', 'QRL', 'QRS']:\n",
    "    scale_dict[v] *= dP\n",
    "scale_dict['DTVKE'] *= (dP/DT)"
   ]
  },
  {
   "cell_type": "code",
   "execution_count": 39,
   "metadata": {},
   "outputs": [],
   "source": [
    "save_pickle('../../nn_config/scale_dicts/001_toms_scaling.pkl', scale_dict)"
   ]
  },
  {
   "cell_type": "code",
   "execution_count": 42,
   "metadata": {},
   "outputs": [],
   "source": [
    "scale_dict = load_pickle('../../nn_config/scale_dicts/001_toms_scaling.pkl')"
   ]
  },
  {
   "cell_type": "code",
   "execution_count": 10,
   "metadata": {},
   "outputs": [
    {
     "data": {
      "text/plain": [
       "array([7.0811688e+07, 1.3074195e+08, 2.1416968e+08, 3.0895507e+08,\n",
       "       3.8762448e+08, 4.4520454e+08, 4.4321338e+08, 3.6317286e+08,\n",
       "       4.2725360e+08, 5.0264170e+08, 5.9133267e+08, 6.9567149e+08,\n",
       "       8.1842150e+08, 9.6283104e+08, 1.1327212e+09, 1.3325868e+09,\n",
       "       1.5677202e+09, 1.8443410e+09, 2.1697718e+09, 2.1706406e+09,\n",
       "       1.9922205e+09, 1.6811768e+09, 1.2494753e+09, 7.2336192e+08,\n",
       "       6.7863757e+08, 6.2842387e+08, 5.7302957e+08, 5.1279936e+08,\n",
       "       4.4820157e+08, 3.7970438e+08], dtype=float32)"
      ]
     },
     "execution_count": 10,
     "metadata": {},
     "output_type": "execute_result"
    }
   ],
   "source": [
    "scale_dict['PHQ']"
   ]
  },
  {
   "cell_type": "code",
   "execution_count": 17,
   "metadata": {},
   "outputs": [],
   "source": [
    "from cbrain.data_generator import DataGenerator\n",
    "from cbrain.normalization import DictNormalizer"
   ]
  },
  {
   "cell_type": "code",
   "execution_count": 18,
   "metadata": {},
   "outputs": [],
   "source": [
    "in_vars = ['QBP', 'QCBP', 'QIBP', 'TBP', 'VBP', \n",
    "           'Qdt_adiabatic', 'QCdt_adiabatic', 'QIdt_adiabatic', 'Tdt_adiabatic', 'Vdt_adiabatic',\n",
    "           'PS', 'SOLIN', 'SHFLX', 'LHFLX']"
   ]
  },
  {
   "cell_type": "code",
   "execution_count": 19,
   "metadata": {},
   "outputs": [
    {
     "ename": "NameError",
     "evalue": "name 'train_gen' is not defined",
     "output_type": "error",
     "traceback": [
      "\u001b[0;31m---------------------------------------------------------------------------\u001b[0m",
      "\u001b[0;31mNameError\u001b[0m                                 Traceback (most recent call last)",
      "\u001b[0;32m<ipython-input-19-d3f404054587>\u001b[0m in \u001b[0;36m<module>\u001b[0;34m\u001b[0m\n\u001b[0;32m----> 1\u001b[0;31m \u001b[0mtrain_gen\u001b[0m\u001b[0;34m.\u001b[0m\u001b[0mdata_ds\u001b[0m\u001b[0;34m.\u001b[0m\u001b[0mclose\u001b[0m\u001b[0;34m(\u001b[0m\u001b[0;34m)\u001b[0m\u001b[0;34m\u001b[0m\u001b[0;34m\u001b[0m\u001b[0m\n\u001b[0m",
      "\u001b[0;31mNameError\u001b[0m: name 'train_gen' is not defined"
     ]
    }
   ],
   "source": [
    "train_gen.data_ds.close()"
   ]
  },
  {
   "cell_type": "code",
   "execution_count": 20,
   "metadata": {},
   "outputs": [],
   "source": [
    "train_gen = DataGenerator(\n",
    "    data_fn = '/local/S.Rasp/preprocessed_data/000_train_shuffle.nc',\n",
    "    input_vars = in_vars,\n",
    "    output_vars = out_vars,\n",
    "    norm_fn = '/local/S.Rasp/preprocessed_data/000_norm.nc',\n",
    "    input_transform = ('mean', 'std_by_var'),\n",
    "    output_transform = scale_dict,\n",
    "    batch_size=1024,\n",
    "    shuffle=True\n",
    ")"
   ]
  },
  {
   "cell_type": "code",
   "execution_count": 61,
   "metadata": {},
   "outputs": [],
   "source": [
    "X, Y = train_gen[0]"
   ]
  },
  {
   "cell_type": "code",
   "execution_count": 62,
   "metadata": {},
   "outputs": [
    {
     "data": {
      "text/plain": [
       "array([154, 155, 156, 157, 158, 159, 160, 161, 162, 163, 164, 165, 166,\n",
       "       167, 168, 169, 170, 171, 172, 173, 174, 175, 176, 177, 178, 179,\n",
       "       180, 181, 182, 183, 184, 185, 186, 187, 188, 189, 190, 191, 192,\n",
       "       193, 194, 195, 196, 197, 198, 199, 200, 201, 202, 203, 204, 205,\n",
       "       206, 207, 208, 209, 210, 211, 212, 213, 214, 215, 216, 217, 218,\n",
       "       219, 220, 221, 222, 223, 224, 225, 226, 227, 228, 229, 230, 231,\n",
       "       232, 233, 234, 235, 236, 237, 238, 239, 240, 241, 242, 243, 244,\n",
       "       245, 246, 247, 248, 249, 250, 251, 252, 253, 254, 255, 256, 257,\n",
       "       258, 259, 260, 261, 262, 263, 264, 265, 266, 267, 268, 269, 270,\n",
       "       271, 272, 273, 274, 275, 276, 277, 278, 279, 280, 281, 282, 283,\n",
       "       284, 285, 286, 287, 288, 289, 290, 291, 292, 293, 294, 295, 296,\n",
       "       297, 298, 299, 300, 301, 302, 303, 304, 305, 306, 307, 308, 309,\n",
       "       310, 311, 312, 313, 314, 315, 316, 317, 318, 319, 320, 321, 322,\n",
       "       323, 324, 325, 326, 327, 328, 329, 330, 331, 332, 333, 334, 335,\n",
       "       336, 337, 338, 339, 340, 341, 342, 343, 344, 345, 346, 347, 348,\n",
       "       349, 350, 351, 352, 353, 354, 355, 356, 357, 358, 359, 360, 361,\n",
       "       362, 363, 364, 365, 366, 367, 368, 369, 370, 371])"
      ]
     },
     "execution_count": 62,
     "metadata": {},
     "output_type": "execute_result"
    }
   ],
   "source": [
    "train_gen.output_idxs"
   ]
  },
  {
   "cell_type": "code",
   "execution_count": 63,
   "metadata": {},
   "outputs": [
    {
     "data": {
      "text/plain": [
       "4.543729e-05"
      ]
     },
     "execution_count": 63,
     "metadata": {},
     "output_type": "execute_result"
    }
   ],
   "source": [
    "X[0,0]"
   ]
  },
  {
   "cell_type": "code",
   "execution_count": 64,
   "metadata": {},
   "outputs": [
    {
     "data": {
      "text/plain": [
       "((1024, 304), (1024, 218))"
      ]
     },
     "execution_count": 64,
     "metadata": {},
     "output_type": "execute_result"
    }
   ],
   "source": [
    "X.shape, Y.shape"
   ]
  },
  {
   "cell_type": "code",
   "execution_count": 65,
   "metadata": {},
   "outputs": [
    {
     "data": {
      "text/plain": [
       "(1e-06, 1000.0)"
      ]
     },
     "execution_count": 65,
     "metadata": {},
     "output_type": "execute_result"
    },
    {
     "data": {
      "image/png": "[encoded data removed]",
      "text/plain": [
       "<Figure size 432x288 with 1 Axes>"
      ]
     },
     "metadata": {
      "needs_background": "light"
     },
     "output_type": "display_data"
    }
   ],
   "source": [
    "plt.plot(np.mean(np.abs(Y), 0))\n",
    "plt.yscale('log')\n",
    "plt.ylim(1e-6, 1e3)"
   ]
  },
  {
   "cell_type": "code",
   "execution_count": 66,
   "metadata": {},
   "outputs": [
    {
     "data": {
      "image/png": "[encoded data removed]",
      "text/plain": [
       "<Figure size 432x288 with 1 Axes>"
      ]
     },
     "metadata": {
      "needs_background": "light"
     },
     "output_type": "display_data"
    }
   ],
   "source": [
    "plt.bar(range(8), np.mean(np.abs(Y), 0)[-8:])\n",
    "plt.yscale('log')"
   ]
  },
  {
   "cell_type": "markdown",
   "metadata": {},
   "source": [
    "## Build the model"
   ]
  },
  {
   "cell_type": "markdown",
   "metadata": {},
   "source": [
    "### Radiation conservation layer"
   ]
  },
  {
   "cell_type": "code",
   "execution_count": 67,
   "metadata": {},
   "outputs": [],
   "source": [
    "#tf.enable_eager_execution()"
   ]
  },
  {
   "cell_type": "code",
   "execution_count": 68,
   "metadata": {},
   "outputs": [],
   "source": [
    "from cbrain.utils import return_var_idxs"
   ]
  },
  {
   "cell_type": "code",
   "execution_count": 69,
   "metadata": {},
   "outputs": [],
   "source": [
    "import tensorflow as tf\n",
    "import tensorflow.math as tfm\n",
    "from tensorflow import keras\n",
    "from tensorflow.keras.layers import *\n",
    "import tensorflow.keras.backend as K"
   ]
  },
  {
   "cell_type": "code",
   "execution_count": 70,
   "metadata": {},
   "outputs": [
    {
     "data": {
      "text/plain": [
       "['QBP',\n",
       " 'QCBP',\n",
       " 'QIBP',\n",
       " 'TBP',\n",
       " 'VBP',\n",
       " 'Qdt_adiabatic',\n",
       " 'QCdt_adiabatic',\n",
       " 'QIdt_adiabatic',\n",
       " 'Tdt_adiabatic',\n",
       " 'Vdt_adiabatic',\n",
       " 'PS',\n",
       " 'SOLIN',\n",
       " 'SHFLX',\n",
       " 'LHFLX']"
      ]
     },
     "execution_count": 70,
     "metadata": {},
     "output_type": "execute_result"
    }
   ],
   "source": [
    "in_vars"
   ]
  },
  {
   "cell_type": "code",
   "execution_count": 71,
   "metadata": {},
   "outputs": [
    {
     "name": "stdout",
     "output_type": "stream",
     "text": [
      "['PHQ', 'PHCLDLIQ', 'PHCLDICE', 'TPHYSTND', 'QRL', 'QRS', 'DTVKE', 'FSNT', 'FSNS', 'FLNT', 'FLNS', 'PRECT', 'PRECTEND', 'PRECST', 'PRECSTEN']\n"
     ]
    }
   ],
   "source": [
    "print(out_vars)"
   ]
  },
  {
   "cell_type": "code",
   "execution_count": 72,
   "metadata": {},
   "outputs": [],
   "source": [
    "inp_vars_full = train_gen.norm_ds.var_names[train_gen.input_idxs]"
   ]
  },
  {
   "cell_type": "code",
   "execution_count": 24,
   "metadata": {},
   "outputs": [],
   "source": [
    "out_vars_full = train_gen.norm_ds.var_names[train_gen.output_idxs]"
   ]
  },
  {
   "cell_type": "code",
   "execution_count": 25,
   "metadata": {},
   "outputs": [],
   "source": [
    "def return_var_slice(var_names, var):\n",
    "    var_idxs = np.atleast_1d(np.squeeze(np.where(var_names == var)))\n",
    "    return slice(int(var_idxs[0]), int(var_idxs[-1])+1)"
   ]
  },
  {
   "cell_type": "code",
   "execution_count": 73,
   "metadata": {},
   "outputs": [],
   "source": [
    "def compute_dP_tilde(PS, hyai, hybi, PS_div, PS_sub, norm_q):\n",
    "    \"\"\"\n",
    "    Computes dP_tilde in Tom's notation.\n",
    "    PS is the normalized pressure as it is used in the input.\n",
    "    PS_mult and PS_add are the corresponding values to unnormalize PS.\n",
    "    WARNING: Really not sure about norm_q\n",
    "    \"\"\"\n",
    "    PS = PS * PS_div + PS_sub\n",
    "    P = P0 * hyai + PS[:, None] * hybi\n",
    "    dP = P[:, 1:] - P[:, :-1]\n",
    "    dP_norm = norm_q * G / L_V   # Why L_V?\n",
    "    dP_tilde = dP / dP_norm\n",
    "    return dP_tilde"
   ]
  },
  {
   "cell_type": "code",
   "execution_count": 84,
   "metadata": {},
   "outputs": [],
   "source": [
    "class SurRadLayer(Layer):\n",
    "    def __init__(self, inp_sub, inp_div, norm_q, **kwargs):\n",
    "        \"\"\"\n",
    "        Call using ([input, output])\n",
    "        Assumes\n",
    "        prior: [PHQ_nores, PHCLDLIQ, PHCLDICE, TPHYSTND_nores, \n",
    "        QRL, QRS, DTVKE, FSNT, FLNT, PRECT, PRECTEND, PRECST, PRECSTEN]\n",
    "        Returns\n",
    "        post(erior): [PHQ_nores, PHCLDLIQ, PHCLDICE, TPHYSTND_nores, \n",
    "        QRL, QRS, DTVKE, FSNT, FSNS, FLNT, FLNS, PRECT, PRECTEND, PRECST, PRECSTEN]\n",
    "        \"\"\"\n",
    "        self.inp_sub, self.inp_div, self.norm_q, self.hyai, self.hybi = \\\n",
    "            np.array(inp_sub), np.array(inp_div), np.array(norm_q), np.array(hyai), np.array(hybi)\n",
    "        # Define variable indices here\n",
    "        # Input\n",
    "        self.PS_idx = 300\n",
    "        # Output\n",
    "        self.QRL_idx = slice(118, 148)  # Odd numbers because residuals\n",
    "        self.QRS_idx = slice(148, 178)  # for Q and T are still missing\n",
    "        self.FSNT_idx = 208\n",
    "        self.FLNT_idx = 209\n",
    "        super().__init__(**kwargs)\n",
    "        \n",
    "    def build(self, input_shape):\n",
    "        super().build(input_shape)\n",
    "        \n",
    "    def get_config(self):\n",
    "        config = {'inp_sub': list(self.inp_sub), 'inp_div': list(self.inp_div),\n",
    "                  'norm_q': list(self.norm_q), 'hyai': list(self.hyai),\n",
    "                  'hybi': list(self.hybi)}\n",
    "        base_config = super(SurRadLayer, self).get_config()\n",
    "        return dict(list(base_config.items()) + list(config.items()))\n",
    "        \n",
    "    def call(self, arrs):\n",
    "        inp, prior = arrs\n",
    "        \n",
    "        # 1. Compute dP_tilde\n",
    "        dP_tilde = compute_dP_tilde(\n",
    "            inp[:, self.PS_idx], self.hyai, self.hybi, \n",
    "            self.inp_div[self.PS_idx], self.inp_sub[self.PS_idx],\n",
    "            self.norm_q\n",
    "        )\n",
    "        \n",
    "        # 2. Compute radiative integrals\n",
    "        SWINT = K.sum(dP_tilde * prior[:, self.QRS_idx], 1)\n",
    "        LWINT = K.sum(dP_tilde * prior[:, self.QRL_idx], 1)\n",
    "        \n",
    "        # 3. Infer surface fluxes from residual\n",
    "        FSNS = prior[:, self.FSNT_idx] - SWINT\n",
    "        FLNS = prior[:, self.FLNT_idx] + LWINT\n",
    "        \n",
    "        # 4. Concatenate output vector\n",
    "        post = tf.concat([\n",
    "            prior[:, :self.FLNT_idx], FSNS[:, None], \n",
    "            prior[:, self.FLNT_idx][:, None], FLNS[:, None],\n",
    "            prior[:, (self.FLNT_idx+1):]\n",
    "        ], axis=1)\n",
    "        return post\n",
    "    \n",
    "    def compute_output_shape(self, input_shape):\n",
    "        \"\"\"Input shape + 2\"\"\"\n",
    "        return (input_shape[0][0], input_shape[0][1] + 2)"
   ]
  },
  {
   "cell_type": "code",
   "execution_count": 94,
   "metadata": {},
   "outputs": [],
   "source": [
    "inp_layer = Input(shape=(304,))\n",
    "x = Dense(214, activation='elu')(inp_layer)\n",
    "out_layer = SurRadLayer(\n",
    "    inp_div=train_gen.input_transform.maxrs,\n",
    "    inp_sub=train_gen.input_transform.mean,\n",
    "    norm_q=train_gen.output_transform.scale[:30], hyai=hyai, hybi=hybi\n",
    ")([inp_layer, x])\n",
    "model = keras.models.Model(inp_layer, out_layer)"
   ]
  },
  {
   "cell_type": "code",
   "execution_count": 95,
   "metadata": {},
   "outputs": [],
   "source": [
    "model.save('/home/s/S.Rasp/tmp/test_model.h5')"
   ]
  },
  {
   "cell_type": "code",
   "execution_count": 96,
   "metadata": {},
   "outputs": [
    {
     "name": "stdout",
     "output_type": "stream",
     "text": [
      "WARNING:tensorflow:No training configuration found in save file: the model was *not* compiled. Compile it manually.\n"
     ]
    }
   ],
   "source": [
    "model = keras.models.load_model('/home/s/S.Rasp/tmp/test_model.h5',\n",
    "                                custom_objects={'SurRadLayer': SurRadLayer})"
   ]
  },
  {
   "cell_type": "markdown",
   "metadata": {},
   "source": [
    "#### Test "
   ]
  },
  {
   "cell_type": "code",
   "execution_count": 29,
   "metadata": {},
   "outputs": [
    {
     "data": {
      "text/plain": [
       "(1024, 218)"
      ]
     },
     "execution_count": 29,
     "metadata": {},
     "output_type": "execute_result"
    }
   ],
   "source": [
    "# Create a fake output vector with the correct values\n",
    "Y.shape"
   ]
  },
  {
   "cell_type": "code",
   "execution_count": 30,
   "metadata": {},
   "outputs": [],
   "source": [
    "Y_fake = tf.concat(\n",
    "    [Y[:, 0:29], Y[:, 30:119], Y[:, 120:211], Y[:, 212:213], Y[:, 214:]], 1\n",
    ")"
   ]
  },
  {
   "cell_type": "code",
   "execution_count": 31,
   "metadata": {},
   "outputs": [],
   "source": [
    "ll = model.layers[-1]"
   ]
  },
  {
   "cell_type": "code",
   "execution_count": 32,
   "metadata": {},
   "outputs": [],
   "source": [
    "out_fake = ll([X, Y_fake])"
   ]
  },
  {
   "cell_type": "code",
   "execution_count": 33,
   "metadata": {},
   "outputs": [
    {
     "data": {
      "text/plain": [
       "TensorShape([Dimension(1024), Dimension(216)])"
      ]
     },
     "execution_count": 33,
     "metadata": {},
     "output_type": "execute_result"
    }
   ],
   "source": [
    "out_fake.shape"
   ]
  },
  {
   "cell_type": "code",
   "execution_count": 34,
   "metadata": {},
   "outputs": [
    {
     "ename": "AttributeError",
     "evalue": "'Tensor' object has no attribute 'numpy'",
     "output_type": "error",
     "traceback": [
      "\u001b[0;31m---------------------------------------------------------------------------\u001b[0m",
      "\u001b[0;31mAttributeError\u001b[0m                            Traceback (most recent call last)",
      "\u001b[0;32m<ipython-input-34-fdbf7d9e44dd>\u001b[0m in \u001b[0;36m<module>\u001b[0;34m\u001b[0m\n\u001b[0;32m----> 1\u001b[0;31m \u001b[0mFSNS_fake\u001b[0m \u001b[0;34m=\u001b[0m \u001b[0mout_fake\u001b[0m\u001b[0;34m[\u001b[0m\u001b[0;34m:\u001b[0m\u001b[0;34m,\u001b[0m \u001b[0;36m211\u001b[0m\u001b[0;34m]\u001b[0m\u001b[0;34m.\u001b[0m\u001b[0mnumpy\u001b[0m\u001b[0;34m(\u001b[0m\u001b[0;34m)\u001b[0m\u001b[0;34m\u001b[0m\u001b[0;34m\u001b[0m\u001b[0m\n\u001b[0m",
      "\u001b[0;31mAttributeError\u001b[0m: 'Tensor' object has no attribute 'numpy'"
     ]
    }
   ],
   "source": [
    "FSNS_fake = out_fake[:, 211].numpy()"
   ]
  },
  {
   "cell_type": "code",
   "execution_count": null,
   "metadata": {},
   "outputs": [],
   "source": [
    "FSNS_true = Y[:, 213]"
   ]
  },
  {
   "cell_type": "code",
   "execution_count": null,
   "metadata": {},
   "outputs": [],
   "source": [
    "plt.scatter(FSNS_fake, FSNS_true)"
   ]
  },
  {
   "cell_type": "markdown",
   "metadata": {},
   "source": [
    "### Mass conservation layer"
   ]
  },
  {
   "cell_type": "code",
   "execution_count": 35,
   "metadata": {},
   "outputs": [
    {
     "data": {
      "text/plain": [
       "slice(303, 304, None)"
      ]
     },
     "execution_count": 35,
     "metadata": {},
     "output_type": "execute_result"
    }
   ],
   "source": [
    "return_var_slice(inp_vars_full, 'LHFLX')"
   ]
  },
  {
   "cell_type": "code",
   "execution_count": 85,
   "metadata": {},
   "outputs": [],
   "source": [
    "class MassConsLayer(Layer):\n",
    "    def __init__(self, inp_div, inp_sub, norm_q, **kwargs):\n",
    "        \"\"\"\n",
    "        Call using ([input, output])\n",
    "        Assumes\n",
    "        prior: [PHQ_nores, PHCLDLIQ, PHCLDICE, TPHYSTND_nores, \n",
    "        QRL, QRS, DTVKE, FSNT, FSNS, FLNT, FLNS, PRECT, PRECTEND, PRECST, PRECSTEN]\n",
    "        Returns\n",
    "        post(erior): [PHQ, PHCLDLIQ, PHCLDICE, TPHYSTND_nores, \n",
    "        QRL, QRS, DTVKE, FSNT, FSNS, FLNT, FLNS, PRECT, PRECTEND, PRECST, PRECSTEN]\n",
    "        \"\"\"\n",
    "        self.inp_sub, self.inp_div, self.norm_q, self.hyai, self.hybi = \\\n",
    "            np.array(inp_sub), np.array(inp_div), np.array(norm_q), np.array(hyai), np.array(hybi)\n",
    "        # Define variable indices here\n",
    "        # Input\n",
    "        self.PS_idx = 300\n",
    "        self.LHFLX_idx = 303\n",
    "        # Output\n",
    "        self.PHQ_idx = slice(0, 29)   # Residual still missing\n",
    "        self.PHCLDLIQ_idx = slice(29, 59)\n",
    "        self.PHCLDICE_idx = slice(59, 89)\n",
    "        self.PRECT_idx = 212\n",
    "        self.PRECTEND_idx = 213\n",
    "        \n",
    "        super().__init__(**kwargs)\n",
    "        \n",
    "    def build(self, input_shape):\n",
    "        super().build(input_shape)\n",
    "        \n",
    "    def get_config(self):\n",
    "        config = {'inp_sub': list(self.inp_sub), 'inp_div': list(self.inp_div),\n",
    "                  'norm_q': list(self.norm_q), 'hyai': list(self.hyai),\n",
    "                  'hybi': list(self.hybi)}\n",
    "        base_config = super(SurRadLayer, self).get_config()\n",
    "        return dict(list(base_config.items()) + list(config.items()))\n",
    "        \n",
    "    def call(self, arrs):\n",
    "        inp, prior = arrs\n",
    "\n",
    "        # 1. Compute dP_tilde\n",
    "        dP_tilde = compute_dP_tilde(\n",
    "            inp[:, self.PS_idx], self.hyai, self.hybi, \n",
    "            self.inp_div[self.PS_idx], self.inp_sub[self.PS_idx],\n",
    "            self.norm_q\n",
    "        )\n",
    "        \n",
    "        # 2. Compute vertical cloud water integral\n",
    "        CLDINT = K.sum(dP_tilde * \n",
    "            (prior[:, self.PHCLDLIQ_idx] + prior[:, self.PHCLDICE_idx]), \n",
    "        axis=1)\n",
    "        \n",
    "        # 3. Compute water vapor integral\n",
    "        VAPINT = K.sum(dP_tilde[:, :29] * prior[:, self.PHQ_idx], 1)\n",
    "        \n",
    "        # 4. Compute forcing (see Tom's note for details, I am just copying)\n",
    "        LHFLX = (inp[:, self.LHFLX_idx] * self.inp_div[self.LHFLX_idx] + \n",
    "                 self.inp_sub[self.LHFLX_idx])\n",
    "        PREC = prior[:, self.PRECT_idx] + prior[:, self.PRECTEND_idx]\n",
    "        \n",
    "        # 5. Compute water vapor tendency at level 30 as residual\n",
    "        PHQ30 = (LHFLX - PREC - CLDINT - VAPINT) / dP_tilde[:, 29]\n",
    "        \n",
    "        # 6. Concatenate output vector\n",
    "        post = tf.concat([\n",
    "            prior[:, self.PHQ_idx], PHQ30[:, None], \n",
    "            prior[:, 29:]\n",
    "        ], axis=1)\n",
    "        return post\n",
    "    \n",
    "    def compute_output_shape(self, input_shape):\n",
    "        \"\"\"Input shape + 1\"\"\"\n",
    "        return (input_shape[0][0], input_shape[0][1] + 1)"
   ]
  },
  {
   "cell_type": "markdown",
   "metadata": {},
   "source": [
    "#### Test"
   ]
  },
  {
   "cell_type": "code",
   "execution_count": 39,
   "metadata": {},
   "outputs": [],
   "source": [
    "inp_layer = Input(shape=(154,))\n",
    "x = Dense(214, activation='elu')(inp_layer)\n",
    "x = SurRadLayer(\n",
    "    inp_div=train_gen.input_transform.maxrs,\n",
    "    inp_sub=train_gen.input_transform.mean,\n",
    "    norm_q=train_gen.output_transform.scale[:30]\n",
    ")([inp_layer, x])\n",
    "out_layer = MassConsLayer(\n",
    "    inp_div=train_gen.input_transform.maxrs,\n",
    "    inp_sub=train_gen.input_transform.mean,\n",
    "    norm_q=train_gen.output_transform.scale[:30]\n",
    ")([inp_layer, x])\n",
    "model = keras.models.Model(inp_layer, out_layer)"
   ]
  },
  {
   "cell_type": "code",
   "execution_count": 40,
   "metadata": {},
   "outputs": [],
   "source": [
    "ll = model.layers[-1]"
   ]
  },
  {
   "cell_type": "code",
   "execution_count": 41,
   "metadata": {},
   "outputs": [],
   "source": [
    "out_fake2 = ll([X, out_fake])"
   ]
  },
  {
   "cell_type": "code",
   "execution_count": 42,
   "metadata": {},
   "outputs": [
    {
     "data": {
      "text/plain": [
       "TensorShape([Dimension(1024), Dimension(217)])"
      ]
     },
     "execution_count": 42,
     "metadata": {},
     "output_type": "execute_result"
    }
   ],
   "source": [
    "out_fake2.shape"
   ]
  },
  {
   "cell_type": "code",
   "execution_count": 43,
   "metadata": {},
   "outputs": [],
   "source": [
    "PHQ30_fake = out_fake2[:, 29].numpy()"
   ]
  },
  {
   "cell_type": "code",
   "execution_count": 44,
   "metadata": {},
   "outputs": [],
   "source": [
    "PHQ30_true = Y[:, 29]"
   ]
  },
  {
   "cell_type": "code",
   "execution_count": 45,
   "metadata": {},
   "outputs": [
    {
     "data": {
      "text/plain": [
       "<matplotlib.collections.PathCollection at 0x7efe80367978>"
      ]
     },
     "execution_count": 45,
     "metadata": {},
     "output_type": "execute_result"
    },
    {
     "data": {
      "image/png": "[encoded data removed]",
      "text/plain": [
       "<Figure size 432x288 with 1 Axes>"
      ]
     },
     "metadata": {
      "needs_background": "light"
     },
     "output_type": "display_data"
    }
   ],
   "source": [
    "plt.scatter(PHQ30_fake, PHQ30_true)"
   ]
  },
  {
   "cell_type": "markdown",
   "metadata": {},
   "source": [
    "### Enthalpy conservation"
   ]
  },
  {
   "cell_type": "code",
   "execution_count": 76,
   "metadata": {},
   "outputs": [],
   "source": [
    "class EntConsLayer(Layer):\n",
    "    def __init__(self, inp_div, inp_sub, norm_q, **kwargs):\n",
    "        \"\"\"\n",
    "        Call using ([input, output])\n",
    "        Assumes\n",
    "        prior: [PHQ, PHCLDLIQ, PHCLDICE, TPHYSTND_nores, \n",
    "        QRL, QRS, DTVKE, FSNT, FSNS, FLNT, FLNS, PRECT, PRECTEND, PRECST, PRECSTEN]\n",
    "        Returns\n",
    "        post(erior): [PHQ, PHCLDLIQ, PHCLDICE, TPHYSTND, \n",
    "        QRL, QRS, DTVKE, FSNT, FSNS, FLNT, FLNS, PRECT, PRECTEND, PRECST, PRECSTEN]\n",
    "        \"\"\"\n",
    "        self.inp_sub, self.inp_div, self.norm_q, self.hyai, self.hybi = \\\n",
    "            np.array(inp_sub), np.array(inp_div), np.array(norm_q), np.array(hyai), np.array(hybi)\n",
    "        # Define variable indices here\n",
    "        # Input\n",
    "        self.PS_idx = 300\n",
    "        self.SHFLX_idx = 302\n",
    "        self.LHFLX_idx = 303\n",
    "        \n",
    "        # Output\n",
    "        self.PHQ_idx = slice(0, 30)\n",
    "        self.PHCLDLIQ_idx = slice(30, 60)\n",
    "        self.TPHYSTND_idx = slice(90, 119)  # Residual still missing\n",
    "        self.DTVKE_idx = slice(179, 209)\n",
    "        self.FSNT_idx = 209 \n",
    "        self.FSNS_idx = 210\n",
    "        self.FLNT_idx = 211\n",
    "        self.FLNS_idx = 212\n",
    "        self.PRECT_idx = 213\n",
    "        self.PRECTEND_idx = 214\n",
    "        self.PRECST_idx = 215\n",
    "        self.PRECSTEND_idx = 216\n",
    "        \n",
    "        super().__init__(**kwargs)\n",
    "        \n",
    "    def build(self, input_shape):\n",
    "        super().build(input_shape)\n",
    "        \n",
    "    def get_config(self):\n",
    "        config = {'inp_sub': list(self.inp_sub), 'inp_div': list(self.inp_div),\n",
    "                  'norm_q': list(self.norm_q), 'hyai': list(self.hyai),\n",
    "                  'hybi': list(self.hybi)}\n",
    "        base_config = super(SurRadLayer, self).get_config()\n",
    "        return dict(list(base_config.items()) + list(config.items()))\n",
    "        \n",
    "    def call(self, arrs):\n",
    "        inp, prior = arrs\n",
    "\n",
    "        # 1. Compute dP_tilde\n",
    "        dP_tilde = compute_dP_tilde(\n",
    "            inp[:, self.PS_idx], hyai, hybi, \n",
    "            self.inp_div[self.PS_idx], self.inp_sub[self.PS_idx],\n",
    "            self.norm_q\n",
    "        )\n",
    "        \n",
    "        # 2. Compute net energy input from phase change and precipitation\n",
    "        PHAS = L_I / L_V * (\n",
    "            (prior[:, self.PRECST_idx] + prior[:, self.PRECSTEND_idx]) - \n",
    "            (prior[:, self.PRECT_idx] + prior[:, self.PRECTEND_idx])\n",
    "        )\n",
    "        \n",
    "        # 3. Compute net energy input from radiation, SHFLX and TKE\n",
    "        RAD = (prior[:, self.FSNT_idx] - prior[:, self.FSNS_idx] - \n",
    "               prior[:, self.FLNT_idx] + prior[:, self.FLNS_idx])\n",
    "        SHFLX = (inp[:, self.SHFLX_idx] * self.inp_div[self.SHFLX_idx] + \n",
    "                 self.inp_sub[self.SHFLX_idx])\n",
    "        KEDINT = K.sum(dP_tilde * prior[:, self.DTVKE_idx], 1)\n",
    "        \n",
    "        # 4. Compute tendency of vapor due to phase change\n",
    "        LHFLX = (inp[:, self.LHFLX_idx] * self.inp_div[self.LHFLX_idx] + \n",
    "                 self.inp_sub[self.LHFLX_idx])\n",
    "        VAPINT = K.sum(dP_tilde * prior[:, self.PHQ_idx], 1)\n",
    "        SPDQINT = (VAPINT - LHFLX) * L_S / L_V\n",
    "        \n",
    "        # 5. Same for cloud liquid water tendency\n",
    "        SPDQCINT = K.sum(dP_tilde * prior[:, self.PHCLDLIQ_idx], 1) * L_I / L_V\n",
    "        \n",
    "        # 6. And the same for T but remember residual is still missing\n",
    "        DTINT = K.sum(dP_tilde[:, :29] * prior[:, self.TPHYSTND_idx], 1)\n",
    "        \n",
    "        # 7. Compute DT30 as residual\n",
    "        DT30 = (\n",
    "            PHAS + RAD + SHFLX + KEDINT - SPDQINT - SPDQCINT - DTINT\n",
    "        ) / dP_tilde[:, 29]\n",
    "        \n",
    "        # 8. Concatenate output vector\n",
    "        post = tf.concat([\n",
    "            prior[:, :119], DT30[:, None], prior[:, 119:]\n",
    "        ], axis=1)\n",
    "        return post\n",
    "    \n",
    "    def compute_output_shape(self, input_shape):\n",
    "        \"\"\"Input shape + 1\"\"\"\n",
    "        return (input_shape[0][0], input_shape[0][1] + 1)"
   ]
  },
  {
   "cell_type": "markdown",
   "metadata": {},
   "source": [
    "#### Test"
   ]
  },
  {
   "cell_type": "code",
   "execution_count": 47,
   "metadata": {},
   "outputs": [],
   "source": [
    "inp_layer = Input(shape=(154,))\n",
    "x = Dense(214, activation='elu')(inp_layer)\n",
    "x = SurRadLayer(\n",
    "    inp_div=train_gen.input_transform.maxrs,\n",
    "    inp_sub=train_gen.input_transform.mean,\n",
    "    norm_q=train_gen.output_transform.scale[:30]\n",
    ")([inp_layer, x])\n",
    "x = MassConsLayer(\n",
    "    inp_div=train_gen.input_transform.maxrs,\n",
    "    inp_sub=train_gen.input_transform.mean,\n",
    "    norm_q=train_gen.output_transform.scale[:30]\n",
    ")([inp_layer, x])\n",
    "out_layer = EntConsLayer(\n",
    "    inp_div=train_gen.input_transform.maxrs,\n",
    "    inp_sub=train_gen.input_transform.mean,\n",
    "    norm_q=train_gen.output_transform.scale[:30]\n",
    ")([inp_layer, x])\n",
    "model = keras.models.Model(inp_layer, out_layer)"
   ]
  },
  {
   "cell_type": "code",
   "execution_count": 48,
   "metadata": {},
   "outputs": [],
   "source": [
    "ll = model.layers[-1]"
   ]
  },
  {
   "cell_type": "code",
   "execution_count": 49,
   "metadata": {},
   "outputs": [],
   "source": [
    "out_fake3 = ll([X, out_fake2])"
   ]
  },
  {
   "cell_type": "code",
   "execution_count": 50,
   "metadata": {},
   "outputs": [
    {
     "data": {
      "text/plain": [
       "TensorShape([Dimension(1024), Dimension(218)])"
      ]
     },
     "execution_count": 50,
     "metadata": {},
     "output_type": "execute_result"
    }
   ],
   "source": [
    "out_fake3.shape"
   ]
  },
  {
   "cell_type": "code",
   "execution_count": 51,
   "metadata": {},
   "outputs": [],
   "source": [
    "DT30_fake = out_fake3[:, 119].numpy()"
   ]
  },
  {
   "cell_type": "code",
   "execution_count": 52,
   "metadata": {},
   "outputs": [],
   "source": [
    "DT30_true = Y[:, 119]"
   ]
  },
  {
   "cell_type": "code",
   "execution_count": 53,
   "metadata": {},
   "outputs": [
    {
     "data": {
      "text/plain": [
       "<matplotlib.collections.PathCollection at 0x7efe802bf0f0>"
      ]
     },
     "execution_count": 53,
     "metadata": {},
     "output_type": "execute_result"
    },
    {
     "data": {
      "image/png": "[encoded data removed]",
      "text/plain": [
       "<Figure size 432x288 with 1 Axes>"
      ]
     },
     "metadata": {
      "needs_background": "light"
     },
     "output_type": "display_data"
    }
   ],
   "source": [
    "plt.scatter(DT30_fake, DT30_true)"
   ]
  },
  {
   "cell_type": "markdown",
   "metadata": {},
   "source": [
    "## Full network test"
   ]
  },
  {
   "cell_type": "code",
   "execution_count": 54,
   "metadata": {},
   "outputs": [],
   "source": [
    "inp_layer = Input(shape=(304,))\n",
    "x = Dense(214, activation='elu')(inp_layer)\n",
    "x = SurRadLayer(\n",
    "    inp_div=train_gen.input_transform.maxrs,\n",
    "    inp_sub=train_gen.input_transform.mean,\n",
    "    norm_q=train_gen.output_transform.scale[:30]\n",
    ")([inp_layer, x])\n",
    "x = MassConsLayer(\n",
    "    inp_div=train_gen.input_transform.maxrs,\n",
    "    inp_sub=train_gen.input_transform.mean,\n",
    "    norm_q=train_gen.output_transform.scale[:30]\n",
    ")([inp_layer, x])\n",
    "out_layer = EntConsLayer(\n",
    "    inp_div=train_gen.input_transform.maxrs,\n",
    "    inp_sub=train_gen.input_transform.mean,\n",
    "    norm_q=train_gen.output_transform.scale[:30]\n",
    ")([inp_layer, x])\n",
    "model = keras.models.Model(inp_layer, out_layer)"
   ]
  },
  {
   "cell_type": "code",
   "execution_count": 55,
   "metadata": {},
   "outputs": [
    {
     "ename": "ValueError",
     "evalue": "optimizer must be an instance of tf.train.Optimizer, not a <class 'tensorflow.python.keras.optimizers.Adam'>",
     "output_type": "error",
     "traceback": [
      "\u001b[0;31m---------------------------------------------------------------------------\u001b[0m",
      "\u001b[0;31mValueError\u001b[0m                                Traceback (most recent call last)",
      "\u001b[0;32m<ipython-input-55-fbe51b022a2b>\u001b[0m in \u001b[0;36m<module>\u001b[0;34m\u001b[0m\n\u001b[0;32m----> 1\u001b[0;31m \u001b[0mmodel\u001b[0m\u001b[0;34m.\u001b[0m\u001b[0mcompile\u001b[0m\u001b[0;34m(\u001b[0m\u001b[0mkeras\u001b[0m\u001b[0;34m.\u001b[0m\u001b[0moptimizers\u001b[0m\u001b[0;34m.\u001b[0m\u001b[0mAdam\u001b[0m\u001b[0;34m(\u001b[0m\u001b[0mlr\u001b[0m\u001b[0;34m=\u001b[0m\u001b[0;36m0.01\u001b[0m\u001b[0;34m)\u001b[0m\u001b[0;34m,\u001b[0m \u001b[0;34m'mse'\u001b[0m\u001b[0;34m)\u001b[0m\u001b[0;34m\u001b[0m\u001b[0;34m\u001b[0m\u001b[0m\n\u001b[0m",
      "\u001b[0;32m~/miniconda3/envs/tf/lib/python3.6/site-packages/tensorflow/python/training/checkpointable/base.py\u001b[0m in \u001b[0;36m_method_wrapper\u001b[0;34m(self, *args, **kwargs)\u001b[0m\n\u001b[1;32m    472\u001b[0m     \u001b[0mself\u001b[0m\u001b[0;34m.\u001b[0m\u001b[0m_setattr_tracking\u001b[0m \u001b[0;34m=\u001b[0m \u001b[0;32mFalse\u001b[0m  \u001b[0;31m# pylint: disable=protected-access\u001b[0m\u001b[0;34m\u001b[0m\u001b[0;34m\u001b[0m\u001b[0m\n\u001b[1;32m    473\u001b[0m     \u001b[0;32mtry\u001b[0m\u001b[0;34m:\u001b[0m\u001b[0;34m\u001b[0m\u001b[0;34m\u001b[0m\u001b[0m\n\u001b[0;32m--> 474\u001b[0;31m       \u001b[0mmethod\u001b[0m\u001b[0;34m(\u001b[0m\u001b[0mself\u001b[0m\u001b[0;34m,\u001b[0m \u001b[0;34m*\u001b[0m\u001b[0margs\u001b[0m\u001b[0;34m,\u001b[0m \u001b[0;34m**\u001b[0m\u001b[0mkwargs\u001b[0m\u001b[0;34m)\u001b[0m\u001b[0;34m\u001b[0m\u001b[0;34m\u001b[0m\u001b[0m\n\u001b[0m\u001b[1;32m    475\u001b[0m     \u001b[0;32mfinally\u001b[0m\u001b[0;34m:\u001b[0m\u001b[0;34m\u001b[0m\u001b[0;34m\u001b[0m\u001b[0m\n\u001b[1;32m    476\u001b[0m       \u001b[0mself\u001b[0m\u001b[0;34m.\u001b[0m\u001b[0m_setattr_tracking\u001b[0m \u001b[0;34m=\u001b[0m \u001b[0mprevious_value\u001b[0m  \u001b[0;31m# pylint: disable=protected-access\u001b[0m\u001b[0;34m\u001b[0m\u001b[0;34m\u001b[0m\u001b[0m\n",
      "\u001b[0;32m~/miniconda3/envs/tf/lib/python3.6/site-packages/tensorflow/python/keras/engine/training.py\u001b[0m in \u001b[0;36mcompile\u001b[0;34m(self, optimizer, loss, metrics, loss_weights, sample_weight_mode, weighted_metrics, target_tensors, distribute, **kwargs)\u001b[0m\n\u001b[1;32m    408\u001b[0m       raise ValueError(\n\u001b[1;32m    409\u001b[0m           \u001b[0;34m'optimizer must be an instance of tf.train.Optimizer, not '\u001b[0m\u001b[0;34m\u001b[0m\u001b[0;34m\u001b[0m\u001b[0m\n\u001b[0;32m--> 410\u001b[0;31m           'a %s' % type(optimizer))\n\u001b[0m\u001b[1;32m    411\u001b[0m \u001b[0;34m\u001b[0m\u001b[0m\n\u001b[1;32m    412\u001b[0m     \u001b[0mself\u001b[0m\u001b[0;34m.\u001b[0m\u001b[0moptimizer\u001b[0m \u001b[0;34m=\u001b[0m \u001b[0moptimizers\u001b[0m\u001b[0;34m.\u001b[0m\u001b[0mget\u001b[0m\u001b[0;34m(\u001b[0m\u001b[0moptimizer\u001b[0m\u001b[0;34m)\u001b[0m\u001b[0;34m\u001b[0m\u001b[0;34m\u001b[0m\u001b[0m\n",
      "\u001b[0;31mValueError\u001b[0m: optimizer must be an instance of tf.train.Optimizer, not a <class 'tensorflow.python.keras.optimizers.Adam'>"
     ]
    }
   ],
   "source": [
    "model.compile(keras.optimizers.Adam(lr=0.01), 'mse')"
   ]
  },
  {
   "cell_type": "code",
   "execution_count": null,
   "metadata": {},
   "outputs": [],
   "source": [
    "model.fit_generator(train_gen, epochs=1)"
   ]
  },
  {
   "cell_type": "code",
   "execution_count": null,
   "metadata": {},
   "outputs": [],
   "source": [
    "preds = model.predict_generator(train_gen)"
   ]
  },
  {
   "cell_type": "code",
   "execution_count": null,
   "metadata": {},
   "outputs": [],
   "source": [
    "plt.plot(preds[0])\n",
    "plt.plot(Y[0])"
   ]
  },
  {
   "cell_type": "markdown",
   "metadata": {},
   "source": [
    "## Weakly constrained loss"
   ]
  },
  {
   "cell_type": "markdown",
   "metadata": {},
   "source": [
    "### Mass residual"
   ]
  },
  {
   "cell_type": "code",
   "execution_count": 77,
   "metadata": {},
   "outputs": [],
   "source": [
    "def mass_res(inp, pred, inp_div, inp_sub, norm_q):\n",
    "    \n",
    "    # Input\n",
    "    PS_idx = 300\n",
    "    LHFLX_idx = 303\n",
    "\n",
    "    # Output\n",
    "    PHQ_idx = slice(0, 30)\n",
    "    PHCLDLIQ_idx = slice(30, 60)\n",
    "    PHCLDICE_idx = slice(60, 90)\n",
    "    PRECT_idx = 214\n",
    "    PRECTEND_idx = 215\n",
    "    \n",
    "    # 1. Compute dP_tilde\n",
    "    dP_tilde = compute_dP_tilde(\n",
    "            inp[:, PS_idx], hyai, hybi, \n",
    "            inp_div[PS_idx], inp_sub[PS_idx],\n",
    "            norm_q\n",
    "    )\n",
    "    \n",
    "    # 2. Compute water integral\n",
    "    WATINT = K.sum(dP_tilde * \n",
    "            (pred[:, PHQ_idx] + pred[:, PHCLDLIQ_idx] + pred[:, PHCLDICE_idx]), \n",
    "        axis=1)\n",
    "    \n",
    "    # 3. Compute latent heat flux and precipitation forcings\n",
    "    LHFLX = inp[:, LHFLX_idx] * inp_div[LHFLX_idx] + inp_sub[LHFLX_idx]\n",
    "    PREC = pred[:, PRECT_idx] + pred[:, PRECTEND_idx]\n",
    "    \n",
    "    # 4. Compute water mass residual \n",
    "    WATRES = LHFLX - PREC - WATINT\n",
    "    \n",
    "    return K.square(WATRES)\n",
    "    "
   ]
  },
  {
   "cell_type": "code",
   "execution_count": 39,
   "metadata": {},
   "outputs": [
    {
     "data": {
      "text/plain": [
       "<tf.Tensor 'Square:0' shape=(1024,) dtype=float64>"
      ]
     },
     "execution_count": 39,
     "metadata": {},
     "output_type": "execute_result"
    }
   ],
   "source": [
    "mass_res(X, Y, inp_div=train_gen.input_transform.maxrs, inp_sub=train_gen.input_transform.mean,\n",
    "         norm_q=scale_dict['PHQ'])"
   ]
  },
  {
   "cell_type": "markdown",
   "metadata": {},
   "source": [
    "### Enthalpy residual"
   ]
  },
  {
   "cell_type": "code",
   "execution_count": 78,
   "metadata": {},
   "outputs": [],
   "source": [
    "def ent_res(inp, pred, inp_div, inp_sub, norm_q):\n",
    "    \n",
    "    # Input\n",
    "    PS_idx = 300\n",
    "    SHFLX_idx = 302\n",
    "    LHFLX_idx = 303\n",
    "\n",
    "    # Output\n",
    "    PHQ_idx = slice(0, 30)\n",
    "    PHCLDLIQ_idx = slice(30, 60)\n",
    "    PHCLDICE_idx = slice(60, 90)\n",
    "    TPHYSTND_idx = slice(90, 120)\n",
    "    DTVKE_idx = slice(180, 210)\n",
    "    FSNT_idx = 210 \n",
    "    FSNS_idx = 211\n",
    "    FLNT_idx = 212\n",
    "    FLNS_idx = 213\n",
    "    PRECT_idx = 214\n",
    "    PRECTEND_idx = 215\n",
    "    PRECST_idx = 216\n",
    "    PRECSTEND_idx = 217\n",
    "    \n",
    "    # 1. Compute dP_tilde\n",
    "    dP_tilde = compute_dP_tilde(\n",
    "        inp[:, PS_idx], hyai, hybi, \n",
    "        inp_div[PS_idx], inp_sub[PS_idx],\n",
    "        norm_q\n",
    "    )\n",
    "\n",
    "    # 2. Compute net energy input from phase change and precipitation\n",
    "    PHAS = L_I / L_V * (\n",
    "        (pred[:, PRECST_idx] + pred[:, PRECSTEND_idx]) - \n",
    "        (pred[:, PRECT_idx] + pred[:, PRECTEND_idx])\n",
    "    )\n",
    "\n",
    "    # 3. Compute net energy input from radiation, SHFLX and TKE\n",
    "    RAD = (pred[:, FSNT_idx] - pred[:, FSNS_idx] - \n",
    "           pred[:, FLNT_idx] + pred[:, FLNS_idx])\n",
    "    SHFLX = (inp[:, SHFLX_idx] * inp_div[SHFLX_idx] + \n",
    "             inp_sub[SHFLX_idx])\n",
    "    KEDINT = K.sum(dP_tilde * pred[:, DTVKE_idx], 1)\n",
    "\n",
    "    # 4. Compute tendency of vapor due to phase change\n",
    "    LHFLX = (inp[:, LHFLX_idx] * inp_div[LHFLX_idx] + \n",
    "             inp_sub[LHFLX_idx])\n",
    "    VAPINT = K.sum(dP_tilde * pred[:, PHQ_idx], 1)\n",
    "    SPDQINT = (VAPINT - LHFLX) * L_S / L_V\n",
    "\n",
    "    # 5. Same for cloud liquid water tendency\n",
    "    SPDQCINT = K.sum(dP_tilde * pred[:, PHCLDLIQ_idx], 1) * L_I / L_V\n",
    "\n",
    "    # 6. And the same for T but remember residual is still missing\n",
    "    DTINT = K.sum(dP_tilde * pred[:, TPHYSTND_idx], 1)\n",
    "\n",
    "    # 7. Compute enthalpy residual\n",
    "    ENTRES = SPDQINT + SPDQCINT + DTINT - RAD - SHFLX - PHAS - KEDINT\n",
    "\n",
    "    return K.square(ENTRES)"
   ]
  },
  {
   "cell_type": "code",
   "execution_count": 79,
   "metadata": {},
   "outputs": [
    {
     "ename": "AttributeError",
     "evalue": "'InputNormalizer' object has no attribute 'maxrs'",
     "output_type": "error",
     "traceback": [
      "\u001b[0;31m---------------------------------------------------------------------------\u001b[0m",
      "\u001b[0;31mAttributeError\u001b[0m                            Traceback (most recent call last)",
      "\u001b[0;32m<ipython-input-79-990329a916ac>\u001b[0m in \u001b[0;36m<module>\u001b[0;34m\u001b[0m\n\u001b[0;32m----> 1\u001b[0;31m ent_res(X, Y, inp_div=train_gen.input_transform.maxrs, inp_sub=train_gen.input_transform.mean,\n\u001b[0m\u001b[1;32m      2\u001b[0m          norm_q=scale_dict['PHQ'])\n",
      "\u001b[0;31mAttributeError\u001b[0m: 'InputNormalizer' object has no attribute 'maxrs'"
     ]
    }
   ],
   "source": [
    "ent_res(X, Y, inp_div=train_gen.input_transform.maxrs, inp_sub=train_gen.input_transform.mean,\n",
    "         norm_q=scale_dict['PHQ'])"
   ]
  },
  {
   "cell_type": "code",
   "execution_count": 80,
   "metadata": {},
   "outputs": [
    {
     "name": "stderr",
     "output_type": "stream",
     "text": [
      "Using TensorFlow backend.\n"
     ]
    }
   ],
   "source": [
    "from keras.losses import mse\n",
    "class WeakLoss():\n",
    "    def __init__(self, inp_tensor, inp_div, inp_sub, norm_q, alpha_mass=0.25, alpha_ent=0.25,\n",
    "                 name='weak_loss'):\n",
    "        self.inp_tensor, self.inp_div, self.inp_sub, self.norm_q, self.alpha_mass, self.alpha_ent = \\\n",
    "            inp_tensor, inp_div, inp_sub, norm_q, alpha_mass, alpha_ent\n",
    "        self.alpha_mse = 1 - (alpha_mass + alpha_ent)\n",
    "        self.__name__ = name\n",
    "    \n",
    "    def __call__(self, y_true, y_pred):\n",
    "        loss  = self.alpha_mse  * mse(y_true, y_pred)\n",
    "        loss += self.alpha_mass * mass_res(self.inp_tensor, y_pred, self.inp_div, self.inp_sub, self.norm_q)\n",
    "        loss += self.alpha_ent  * ent_res( self.inp_tensor, y_pred, self.inp_div, self.inp_sub, self.norm_q)\n",
    "        return loss"
   ]
  },
  {
   "cell_type": "code",
   "execution_count": 94,
   "metadata": {},
   "outputs": [],
   "source": [
    "hyai = hyai.astype(np.float32)\n",
    "hybi = hybi.astype(np.float32)"
   ]
  },
  {
   "cell_type": "code",
   "execution_count": 81,
   "metadata": {},
   "outputs": [],
   "source": [
    "weak_loss = WeakLoss(X, inp_div=train_gen.input_transform.div, inp_sub=train_gen.input_transform.sub,\n",
    "                     norm_q=scale_dict['PHQ'].astype(np.float32))"
   ]
  },
  {
   "cell_type": "code",
   "execution_count": 96,
   "metadata": {},
   "outputs": [
    {
     "data": {
      "text/plain": [
       "<tf.Tensor: id=612, shape=(1024,), dtype=float32, numpy=\n",
       "array([1.9942187e-10, 1.3690604e-11, 3.8965027e-09, ..., 2.8830982e-10,\n",
       "       3.3253400e-09, 1.3909249e-09], dtype=float32)>"
      ]
     },
     "execution_count": 96,
     "metadata": {},
     "output_type": "execute_result"
    }
   ],
   "source": [
    "weak_loss(Y, Y)"
   ]
  },
  {
   "cell_type": "code",
   "execution_count": 83,
   "metadata": {},
   "outputs": [
    {
     "data": {
      "text/plain": [
       "array([7.0811688e+07, 1.3074195e+08, 2.1416968e+08, 3.0895507e+08,\n",
       "       3.8762454e+08, 4.4520458e+08, 4.4321341e+08, 3.6317274e+08,\n",
       "       4.2725363e+08, 5.0264179e+08, 5.9133267e+08, 6.9567130e+08,\n",
       "       8.1842189e+08, 9.6283091e+08, 1.1327208e+09, 1.3325876e+09,\n",
       "       1.5677192e+09, 1.8443416e+09, 2.1697718e+09, 2.1706404e+09,\n",
       "       1.9922214e+09, 1.6811766e+09, 1.2494747e+09, 7.2336026e+08,\n",
       "       6.7864000e+08, 6.2842355e+08, 5.7302906e+08, 5.1279840e+08,\n",
       "       4.4820285e+08, 3.7970432e+08], dtype=float32)"
      ]
     },
     "execution_count": 83,
     "metadata": {},
     "output_type": "execute_result"
    }
   ],
   "source": [
    "scale_dict['PHQ'].astype(np.float32)"
   ]
  },
  {
   "cell_type": "markdown",
   "metadata": {},
   "source": [
    "### Test with compiled model"
   ]
  },
  {
   "cell_type": "code",
   "execution_count": 86,
   "metadata": {},
   "outputs": [],
   "source": [
    "inp_layer = Input(shape=(304,))\n",
    "x = Dense(214, activation='elu')(inp_layer)\n",
    "x = SurRadLayer(\n",
    "    inp_div=train_gen.input_transform.div,\n",
    "    inp_sub=train_gen.input_transform.sub,\n",
    "    norm_q=train_gen.output_transform.scale[:30]\n",
    ")([inp_layer, x])\n",
    "x = MassConsLayer(\n",
    "    inp_div=train_gen.input_transform.div,\n",
    "    inp_sub=train_gen.input_transform.sub,\n",
    "    norm_q=train_gen.output_transform.scale[:30]\n",
    ")([inp_layer, x])\n",
    "out_layer = EntConsLayer(\n",
    "    inp_div=train_gen.input_transform.div,\n",
    "    inp_sub=train_gen.input_transform.sub,\n",
    "    norm_q=train_gen.output_transform.scale[:30]\n",
    ")([inp_layer, x])\n",
    "model = keras.models.Model(inp_layer, out_layer)"
   ]
  },
  {
   "cell_type": "code",
   "execution_count": 87,
   "metadata": {},
   "outputs": [
    {
     "data": {
      "text/plain": [
       "<tf.Tensor 'input_3:0' shape=(?, 304) dtype=float32>"
      ]
     },
     "execution_count": 87,
     "metadata": {},
     "output_type": "execute_result"
    }
   ],
   "source": [
    "inp_layer"
   ]
  },
  {
   "cell_type": "code",
   "execution_count": 88,
   "metadata": {},
   "outputs": [
    {
     "data": {
      "text/plain": [
       "<tf.Tensor 'input_3:0' shape=(?, 304) dtype=float32>"
      ]
     },
     "execution_count": 88,
     "metadata": {},
     "output_type": "execute_result"
    }
   ],
   "source": [
    "model.input"
   ]
  },
  {
   "cell_type": "code",
   "execution_count": 63,
   "metadata": {},
   "outputs": [],
   "source": [
    "weak_loss = WeakLoss(inp_layer, inp_div=train_gen.input_transform.maxrs, inp_sub=train_gen.input_transform.mean,\n",
    "                     norm_q=scale_dict['PHQ'].astype(np.float32))"
   ]
  },
  {
   "cell_type": "code",
   "execution_count": 64,
   "metadata": {},
   "outputs": [],
   "source": [
    "mass_loss = WeakLoss(inp_layer, inp_div=train_gen.input_transform.maxrs, inp_sub=train_gen.input_transform.mean,\n",
    "                     norm_q=scale_dict['PHQ'].astype(np.float32), alpha_mass=1, alpha_ent=0, name='mass_loss')\n",
    "ent_loss = WeakLoss(inp_layer, inp_div=train_gen.input_transform.maxrs, inp_sub=train_gen.input_transform.mean,\n",
    "                     norm_q=scale_dict['PHQ'].astype(np.float32), alpha_mass=0, alpha_ent=1, name='ent_loss')"
   ]
  },
  {
   "cell_type": "code",
   "execution_count": 65,
   "metadata": {},
   "outputs": [],
   "source": [
    "model.compile(keras.optimizers.Adam(lr=0.01), loss=weak_loss, metrics=[mass_loss, ent_loss, mse])"
   ]
  },
  {
   "cell_type": "code",
   "execution_count": 56,
   "metadata": {},
   "outputs": [
    {
     "name": "stdout",
     "output_type": "stream",
     "text": [
      "Epoch 1/1\n",
      "3448/3448 [==============================] - 64s 19ms/step - loss: 686.9191 - mass_loss: 4.2529e-11 - ent_loss: 9.1629e-11 - mean_squared_error: 1373.8382\n"
     ]
    },
    {
     "data": {
      "text/plain": [
       "<tensorflow.python.keras.callbacks.History at 0x7f4835f69f98>"
      ]
     },
     "execution_count": 56,
     "metadata": {},
     "output_type": "execute_result"
    }
   ],
   "source": [
    "model.fit_generator(train_gen, epochs=1)"
   ]
  },
  {
   "cell_type": "code",
   "execution_count": 57,
   "metadata": {},
   "outputs": [],
   "source": [
    "inp_layer = Input(shape=(304,))\n",
    "x = Dense(256, activation='elu')(inp_layer)\n",
    "out_layer = Dense(218)(x)\n",
    "model = keras.models.Model(inp_layer, out_layer)"
   ]
  },
  {
   "cell_type": "code",
   "execution_count": 58,
   "metadata": {},
   "outputs": [],
   "source": [
    "weak_loss = WeakLoss(inp_layer, inp_div=train_gen.input_transform.maxrs, inp_sub=train_gen.input_transform.mean,\n",
    "                     norm_q=scale_dict['PHQ'].astype(np.float32))"
   ]
  },
  {
   "cell_type": "code",
   "execution_count": 59,
   "metadata": {},
   "outputs": [],
   "source": [
    "mass_loss = WeakLoss(inp_layer, inp_div=train_gen.input_transform.maxrs, inp_sub=train_gen.input_transform.mean,\n",
    "                     norm_q=scale_dict['PHQ'].astype(np.float32), alpha_mass=1, alpha_ent=0, name='mass_loss')\n",
    "ent_loss = WeakLoss(inp_layer, inp_div=train_gen.input_transform.maxrs, inp_sub=train_gen.input_transform.mean,\n",
    "                     norm_q=scale_dict['PHQ'].astype(np.float32), alpha_mass=0, alpha_ent=1, name='ent_loss')"
   ]
  },
  {
   "cell_type": "code",
   "execution_count": 60,
   "metadata": {},
   "outputs": [],
   "source": [
    "model.compile(keras.optimizers.Adam(lr=0.01), loss=weak_loss, metrics=[mass_loss, ent_loss, mse])"
   ]
  },
  {
   "cell_type": "code",
   "execution_count": 61,
   "metadata": {},
   "outputs": [
    {
     "name": "stdout",
     "output_type": "stream",
     "text": [
      "Epoch 1/1\n",
      "3448/3448 [==============================] - 49s 14ms/step - loss: 255.9675 - mass_loss: 55.7669 - ent_loss: 78.9435 - mean_squared_error: 444.5797\n"
     ]
    },
    {
     "data": {
      "text/plain": [
       "<tensorflow.python.keras.callbacks.History at 0x7f4835f69d30>"
      ]
     },
     "execution_count": 61,
     "metadata": {},
     "output_type": "execute_result"
    }
   ],
   "source": [
    "model.fit_generator(train_gen, epochs=1)"
   ]
  },
  {
   "cell_type": "code",
   "execution_count": 66,
   "metadata": {},
   "outputs": [],
   "source": [
    "model.save('/home/s/S.Rasp/tmp/test_model.h5')"
   ]
  },
  {
   "cell_type": "code",
   "execution_count": 67,
   "metadata": {},
   "outputs": [
    {
     "ename": "ValueError",
     "evalue": "Unknown layer: SurRadLayer",
     "output_type": "error",
     "traceback": [
      "\u001b[0;31m---------------------------------------------------------------------------\u001b[0m",
      "\u001b[0;31mValueError\u001b[0m                                Traceback (most recent call last)",
      "\u001b[0;32m<ipython-input-67-d2ee46aa9080>\u001b[0m in \u001b[0;36m<module>\u001b[0;34m\u001b[0m\n\u001b[0;32m----> 1\u001b[0;31m \u001b[0mmodel\u001b[0m \u001b[0;34m=\u001b[0m \u001b[0mkeras\u001b[0m\u001b[0;34m.\u001b[0m\u001b[0mmodels\u001b[0m\u001b[0;34m.\u001b[0m\u001b[0mload_model\u001b[0m\u001b[0;34m(\u001b[0m\u001b[0;34m'/home/s/S.Rasp/tmp/test_model.h5'\u001b[0m\u001b[0;34m)\u001b[0m\u001b[0;34m\u001b[0m\u001b[0;34m\u001b[0m\u001b[0m\n\u001b[0m",
      "\u001b[0;32m~/miniconda3/envs/tf/lib/python3.6/site-packages/tensorflow/python/keras/engine/saving.py\u001b[0m in \u001b[0;36mload_model\u001b[0;34m(filepath, custom_objects, compile)\u001b[0m\n\u001b[1;32m    228\u001b[0m       \u001b[0;32mraise\u001b[0m \u001b[0mValueError\u001b[0m\u001b[0;34m(\u001b[0m\u001b[0;34m'No model found in config file.'\u001b[0m\u001b[0;34m)\u001b[0m\u001b[0;34m\u001b[0m\u001b[0;34m\u001b[0m\u001b[0m\n\u001b[1;32m    229\u001b[0m     \u001b[0mmodel_config\u001b[0m \u001b[0;34m=\u001b[0m \u001b[0mjson\u001b[0m\u001b[0;34m.\u001b[0m\u001b[0mloads\u001b[0m\u001b[0;34m(\u001b[0m\u001b[0mmodel_config\u001b[0m\u001b[0;34m.\u001b[0m\u001b[0mdecode\u001b[0m\u001b[0;34m(\u001b[0m\u001b[0;34m'utf-8'\u001b[0m\u001b[0;34m)\u001b[0m\u001b[0;34m)\u001b[0m\u001b[0;34m\u001b[0m\u001b[0;34m\u001b[0m\u001b[0m\n\u001b[0;32m--> 230\u001b[0;31m     \u001b[0mmodel\u001b[0m \u001b[0;34m=\u001b[0m \u001b[0mmodel_from_config\u001b[0m\u001b[0;34m(\u001b[0m\u001b[0mmodel_config\u001b[0m\u001b[0;34m,\u001b[0m \u001b[0mcustom_objects\u001b[0m\u001b[0;34m=\u001b[0m\u001b[0mcustom_objects\u001b[0m\u001b[0;34m)\u001b[0m\u001b[0;34m\u001b[0m\u001b[0;34m\u001b[0m\u001b[0m\n\u001b[0m\u001b[1;32m    231\u001b[0m \u001b[0;34m\u001b[0m\u001b[0m\n\u001b[1;32m    232\u001b[0m     \u001b[0;31m# set weights\u001b[0m\u001b[0;34m\u001b[0m\u001b[0;34m\u001b[0m\u001b[0;34m\u001b[0m\u001b[0m\n",
      "\u001b[0;32m~/miniconda3/envs/tf/lib/python3.6/site-packages/tensorflow/python/keras/engine/saving.py\u001b[0m in \u001b[0;36mmodel_from_config\u001b[0;34m(config, custom_objects)\u001b[0m\n\u001b[1;32m    308\u001b[0m                     '`Sequential.from_config(config)`?')\n\u001b[1;32m    309\u001b[0m   \u001b[0;32mfrom\u001b[0m \u001b[0mtensorflow\u001b[0m\u001b[0;34m.\u001b[0m\u001b[0mpython\u001b[0m\u001b[0;34m.\u001b[0m\u001b[0mkeras\u001b[0m\u001b[0;34m.\u001b[0m\u001b[0mlayers\u001b[0m \u001b[0;32mimport\u001b[0m \u001b[0mdeserialize\u001b[0m  \u001b[0;31m# pylint: disable=g-import-not-at-top\u001b[0m\u001b[0;34m\u001b[0m\u001b[0;34m\u001b[0m\u001b[0m\n\u001b[0;32m--> 310\u001b[0;31m   \u001b[0;32mreturn\u001b[0m \u001b[0mdeserialize\u001b[0m\u001b[0;34m(\u001b[0m\u001b[0mconfig\u001b[0m\u001b[0;34m,\u001b[0m \u001b[0mcustom_objects\u001b[0m\u001b[0;34m=\u001b[0m\u001b[0mcustom_objects\u001b[0m\u001b[0;34m)\u001b[0m\u001b[0;34m\u001b[0m\u001b[0;34m\u001b[0m\u001b[0m\n\u001b[0m\u001b[1;32m    311\u001b[0m \u001b[0;34m\u001b[0m\u001b[0m\n\u001b[1;32m    312\u001b[0m \u001b[0;34m\u001b[0m\u001b[0m\n",
      "\u001b[0;32m~/miniconda3/envs/tf/lib/python3.6/site-packages/tensorflow/python/keras/layers/serialization.py\u001b[0m in \u001b[0;36mdeserialize\u001b[0;34m(config, custom_objects)\u001b[0m\n\u001b[1;32m     62\u001b[0m       \u001b[0mmodule_objects\u001b[0m\u001b[0;34m=\u001b[0m\u001b[0mglobs\u001b[0m\u001b[0;34m,\u001b[0m\u001b[0;34m\u001b[0m\u001b[0;34m\u001b[0m\u001b[0m\n\u001b[1;32m     63\u001b[0m       \u001b[0mcustom_objects\u001b[0m\u001b[0;34m=\u001b[0m\u001b[0mcustom_objects\u001b[0m\u001b[0;34m,\u001b[0m\u001b[0;34m\u001b[0m\u001b[0;34m\u001b[0m\u001b[0m\n\u001b[0;32m---> 64\u001b[0;31m       printable_module_name='layer')\n\u001b[0m",
      "\u001b[0;32m~/miniconda3/envs/tf/lib/python3.6/site-packages/tensorflow/python/keras/utils/generic_utils.py\u001b[0m in \u001b[0;36mdeserialize_keras_object\u001b[0;34m(identifier, module_objects, custom_objects, printable_module_name)\u001b[0m\n\u001b[1;32m    171\u001b[0m             custom_objects=dict(\n\u001b[1;32m    172\u001b[0m                 \u001b[0mlist\u001b[0m\u001b[0;34m(\u001b[0m\u001b[0m_GLOBAL_CUSTOM_OBJECTS\u001b[0m\u001b[0;34m.\u001b[0m\u001b[0mitems\u001b[0m\u001b[0;34m(\u001b[0m\u001b[0;34m)\u001b[0m\u001b[0;34m)\u001b[0m \u001b[0;34m+\u001b[0m\u001b[0;34m\u001b[0m\u001b[0;34m\u001b[0m\u001b[0m\n\u001b[0;32m--> 173\u001b[0;31m                 list(custom_objects.items())))\n\u001b[0m\u001b[1;32m    174\u001b[0m       \u001b[0;32mwith\u001b[0m \u001b[0mCustomObjectScope\u001b[0m\u001b[0;34m(\u001b[0m\u001b[0mcustom_objects\u001b[0m\u001b[0;34m)\u001b[0m\u001b[0;34m:\u001b[0m\u001b[0;34m\u001b[0m\u001b[0;34m\u001b[0m\u001b[0m\n\u001b[1;32m    175\u001b[0m         \u001b[0;32mreturn\u001b[0m \u001b[0mcls\u001b[0m\u001b[0;34m.\u001b[0m\u001b[0mfrom_config\u001b[0m\u001b[0;34m(\u001b[0m\u001b[0mconfig\u001b[0m\u001b[0;34m[\u001b[0m\u001b[0;34m'config'\u001b[0m\u001b[0;34m]\u001b[0m\u001b[0;34m)\u001b[0m\u001b[0;34m\u001b[0m\u001b[0;34m\u001b[0m\u001b[0m\n",
      "\u001b[0;32m~/miniconda3/envs/tf/lib/python3.6/site-packages/tensorflow/python/keras/engine/network.py\u001b[0m in \u001b[0;36mfrom_config\u001b[0;34m(cls, config, custom_objects)\u001b[0m\n\u001b[1;32m   1290\u001b[0m     \u001b[0;31m# First, we create all layers and enqueue nodes to be processed\u001b[0m\u001b[0;34m\u001b[0m\u001b[0;34m\u001b[0m\u001b[0;34m\u001b[0m\u001b[0m\n\u001b[1;32m   1291\u001b[0m     \u001b[0;32mfor\u001b[0m \u001b[0mlayer_data\u001b[0m \u001b[0;32min\u001b[0m \u001b[0mconfig\u001b[0m\u001b[0;34m[\u001b[0m\u001b[0;34m'layers'\u001b[0m\u001b[0;34m]\u001b[0m\u001b[0;34m:\u001b[0m\u001b[0;34m\u001b[0m\u001b[0;34m\u001b[0m\u001b[0m\n\u001b[0;32m-> 1292\u001b[0;31m       \u001b[0mprocess_layer\u001b[0m\u001b[0;34m(\u001b[0m\u001b[0mlayer_data\u001b[0m\u001b[0;34m)\u001b[0m\u001b[0;34m\u001b[0m\u001b[0;34m\u001b[0m\u001b[0m\n\u001b[0m\u001b[1;32m   1293\u001b[0m     \u001b[0;31m# Then we process nodes in order of layer depth.\u001b[0m\u001b[0;34m\u001b[0m\u001b[0;34m\u001b[0m\u001b[0;34m\u001b[0m\u001b[0m\n\u001b[1;32m   1294\u001b[0m     \u001b[0;31m# Nodes that cannot yet be processed (if the inbound node\u001b[0m\u001b[0;34m\u001b[0m\u001b[0;34m\u001b[0m\u001b[0;34m\u001b[0m\u001b[0m\n",
      "\u001b[0;32m~/miniconda3/envs/tf/lib/python3.6/site-packages/tensorflow/python/keras/engine/network.py\u001b[0m in \u001b[0;36mprocess_layer\u001b[0;34m(layer_data)\u001b[0m\n\u001b[1;32m   1276\u001b[0m       \u001b[0;32mfrom\u001b[0m \u001b[0mtensorflow\u001b[0m\u001b[0;34m.\u001b[0m\u001b[0mpython\u001b[0m\u001b[0;34m.\u001b[0m\u001b[0mkeras\u001b[0m\u001b[0;34m.\u001b[0m\u001b[0mlayers\u001b[0m \u001b[0;32mimport\u001b[0m \u001b[0mdeserialize\u001b[0m \u001b[0;32mas\u001b[0m \u001b[0mdeserialize_layer\u001b[0m  \u001b[0;31m# pylint: disable=g-import-not-at-top\u001b[0m\u001b[0;34m\u001b[0m\u001b[0;34m\u001b[0m\u001b[0m\n\u001b[1;32m   1277\u001b[0m \u001b[0;34m\u001b[0m\u001b[0m\n\u001b[0;32m-> 1278\u001b[0;31m       \u001b[0mlayer\u001b[0m \u001b[0;34m=\u001b[0m \u001b[0mdeserialize_layer\u001b[0m\u001b[0;34m(\u001b[0m\u001b[0mlayer_data\u001b[0m\u001b[0;34m,\u001b[0m \u001b[0mcustom_objects\u001b[0m\u001b[0;34m=\u001b[0m\u001b[0mcustom_objects\u001b[0m\u001b[0;34m)\u001b[0m\u001b[0;34m\u001b[0m\u001b[0;34m\u001b[0m\u001b[0m\n\u001b[0m\u001b[1;32m   1279\u001b[0m       \u001b[0mcreated_layers\u001b[0m\u001b[0;34m[\u001b[0m\u001b[0mlayer_name\u001b[0m\u001b[0;34m]\u001b[0m \u001b[0;34m=\u001b[0m \u001b[0mlayer\u001b[0m\u001b[0;34m\u001b[0m\u001b[0;34m\u001b[0m\u001b[0m\n\u001b[1;32m   1280\u001b[0m \u001b[0;34m\u001b[0m\u001b[0m\n",
      "\u001b[0;32m~/miniconda3/envs/tf/lib/python3.6/site-packages/tensorflow/python/keras/layers/serialization.py\u001b[0m in \u001b[0;36mdeserialize\u001b[0;34m(config, custom_objects)\u001b[0m\n\u001b[1;32m     62\u001b[0m       \u001b[0mmodule_objects\u001b[0m\u001b[0;34m=\u001b[0m\u001b[0mglobs\u001b[0m\u001b[0;34m,\u001b[0m\u001b[0;34m\u001b[0m\u001b[0;34m\u001b[0m\u001b[0m\n\u001b[1;32m     63\u001b[0m       \u001b[0mcustom_objects\u001b[0m\u001b[0;34m=\u001b[0m\u001b[0mcustom_objects\u001b[0m\u001b[0;34m,\u001b[0m\u001b[0;34m\u001b[0m\u001b[0;34m\u001b[0m\u001b[0m\n\u001b[0;32m---> 64\u001b[0;31m       printable_module_name='layer')\n\u001b[0m",
      "\u001b[0;32m~/miniconda3/envs/tf/lib/python3.6/site-packages/tensorflow/python/keras/utils/generic_utils.py\u001b[0m in \u001b[0;36mdeserialize_keras_object\u001b[0;34m(identifier, module_objects, custom_objects, printable_module_name)\u001b[0m\n\u001b[1;32m    161\u001b[0m       \u001b[0mcls\u001b[0m \u001b[0;34m=\u001b[0m \u001b[0mmodule_objects\u001b[0m\u001b[0;34m.\u001b[0m\u001b[0mget\u001b[0m\u001b[0;34m(\u001b[0m\u001b[0mclass_name\u001b[0m\u001b[0;34m)\u001b[0m\u001b[0;34m\u001b[0m\u001b[0;34m\u001b[0m\u001b[0m\n\u001b[1;32m    162\u001b[0m       \u001b[0;32mif\u001b[0m \u001b[0mcls\u001b[0m \u001b[0;32mis\u001b[0m \u001b[0;32mNone\u001b[0m\u001b[0;34m:\u001b[0m\u001b[0;34m\u001b[0m\u001b[0;34m\u001b[0m\u001b[0m\n\u001b[0;32m--> 163\u001b[0;31m         \u001b[0;32mraise\u001b[0m \u001b[0mValueError\u001b[0m\u001b[0;34m(\u001b[0m\u001b[0;34m'Unknown '\u001b[0m \u001b[0;34m+\u001b[0m \u001b[0mprintable_module_name\u001b[0m \u001b[0;34m+\u001b[0m \u001b[0;34m': '\u001b[0m \u001b[0;34m+\u001b[0m \u001b[0mclass_name\u001b[0m\u001b[0;34m)\u001b[0m\u001b[0;34m\u001b[0m\u001b[0;34m\u001b[0m\u001b[0m\n\u001b[0m\u001b[1;32m    164\u001b[0m     \u001b[0;32mif\u001b[0m \u001b[0mhasattr\u001b[0m\u001b[0;34m(\u001b[0m\u001b[0mcls\u001b[0m\u001b[0;34m,\u001b[0m \u001b[0;34m'from_config'\u001b[0m\u001b[0;34m)\u001b[0m\u001b[0;34m:\u001b[0m\u001b[0;34m\u001b[0m\u001b[0;34m\u001b[0m\u001b[0m\n\u001b[1;32m    165\u001b[0m       \u001b[0marg_spec\u001b[0m \u001b[0;34m=\u001b[0m \u001b[0mtf_inspect\u001b[0m\u001b[0;34m.\u001b[0m\u001b[0mgetfullargspec\u001b[0m\u001b[0;34m(\u001b[0m\u001b[0mcls\u001b[0m\u001b[0;34m.\u001b[0m\u001b[0mfrom_config\u001b[0m\u001b[0;34m)\u001b[0m\u001b[0;34m\u001b[0m\u001b[0;34m\u001b[0m\u001b[0m\n",
      "\u001b[0;31mValueError\u001b[0m: Unknown layer: SurRadLayer"
     ]
    }
   ],
   "source": [
    "model = keras.models.load_model('/home/s/S.Rasp/tmp/test_model.h5')"
   ]
  },
  {
   "cell_type": "code",
   "execution_count": null,
   "metadata": {},
   "outputs": [],
   "source": []
  },
  {
   "cell_type": "code",
   "execution_count": null,
   "metadata": {},
   "outputs": [],
   "source": []
  },
  {
   "cell_type": "markdown",
   "metadata": {
    "heading_collapsed": true
   },
   "source": [
    "# old stuff"
   ]
  },
  {
   "cell_type": "code",
   "execution_count": 60,
   "metadata": {
    "hidden": true
   },
   "outputs": [],
   "source": [
    "def massent_check(x,y,fsub,fdiv,normq,hyai=hyai,hybi=hybi,outtype=\"graph\"):\n",
    "    import numpy as np\n",
    "    # 0) Constants\n",
    "    G = 9.80616; # Reference gravity constant [m.s-2]\n",
    "    L_F = 3.337e5; # Latent heat of fusion of water [W.kg-1]\n",
    "    L_V = 2.501e6; # Latent heat of vaporization of water [W.kg-1]\n",
    "    L_S = L_F+L_V; # Latent heat of sublimation of water [W.kg-1]\n",
    "    P0 = 1e5; # Reference surface pressure [Pa]   \n",
    "\n",
    "    # WATER&ENTHALPY) Get non-dimensional pressure differences (p_tilde above)\n",
    "    # In the input vector, PS is the 151st element after \n",
    "    # the first elements = [QBP, ..., VBP with shape 30*5=150]\n",
    "    PS = np.add( np.multiply( x[:,300], fdiv[300]), fsub[300])\n",
    "    # Reference for calculation of d_pressure is cbrain/models.py (e.g. QLayer)\n",
    "    P = np.add( np.multiply( P0, hyai), \\\n",
    "    np.multiply( PS[:,None], hybi))\n",
    "    dP = np.subtract( P[:, 1:], P[:, :-1])\n",
    "    # norm_output = dp_norm * L_V/G so dp_norm = norm_output * G/L_V\n",
    "    dP_NORM = np.divide( \\\n",
    "    np.multiply(normq[:30], \\\n",
    "              G),\\\n",
    "    L_V)\n",
    "    # dp_tilde = dp/dp_norm\n",
    "    dP_TILD = np.divide( dP, dP_NORM)\n",
    "\n",
    "    # WATER.1) Calculate water vertical integral from level 1 to level 30\n",
    "    WATVEC = np.multiply( dP_TILD, y[:, :30] + y[:, 30:60] + y[:, 60:90])\n",
    "    WATINT = np.sum( WATVEC, axis=1)\n",
    "\n",
    "    # WATER.2) Calculate forcing on the right-hand side (Net Evaporation-Precipitation)\n",
    "    # E-P is already normalized to units W.m-2 in the output vector\n",
    "    # so all we need to do is input-unnormalize LHF that is taken from the input vector\n",
    "    LHF = np.add( np.multiply( x[:,303], fdiv[303]), fsub[303])\n",
    "    # Note that total precipitation = PRECT + 1e-3*PRECTEND in the CAM model\n",
    "    # PRECTEND already multiplied by 1e-3 in output vector so no need to redo it\n",
    "    PREC = np.add( y[:, 214], y[:, 215])\n",
    "\n",
    "    # WATER.FINAL) Residual = E-P-DWATER/DT\n",
    "    WATRES = LHF-PREC-WATINT\n",
    "    \n",
    "    # ENTHALPY.1) Calculate net energy input from phase change and precipitation\n",
    "    # PHAS = Lf/Lv*((PRECST+PRECSTEN)-(PRECT+PRECTEND))\n",
    "    PHAS = np.divide( np.multiply( np.subtract(\\\n",
    "                                          np.add( y[:,216], y[:,217]),\\\n",
    "                                          np.add( y[:,214], y[:,215])),\\\n",
    "                                  L_F),\\\n",
    "                     L_V)\n",
    "    \n",
    "    # ENTHALPY.2) Calculate net energy input from radiation, sensible heat flux and turbulent KE\n",
    "    # 2.1) RAD = FSNT-FSNS-FLNT+FLNS\n",
    "    RAD = np.add(\\\n",
    "            np.subtract( y[:,210], y[:,211]),\\\n",
    "            np.subtract( y[:,213], y[:,212]))\n",
    "    # 2.2) Unnormalize sensible heat flux\n",
    "    SHF = np.add( np.multiply( x[:,302], fdiv[302]), fsub[302])\n",
    "    # 2.3) Net turbulent kinetic energy dissipative heating is the column-integrated \n",
    "    # turbulent kinetic energy energy dissipative heating\n",
    "    KEDVEC = np.multiply( dP_TILD, y[:, 180:210])\n",
    "    KEDINT = np.sum( KEDVEC, axis=1)\n",
    "    \n",
    "    # ENTHALPY.3) Calculate tendency of normalized column water vapor due to phase change\n",
    "    # 3.1) Column water vapor is the column integral of specific humidity\n",
    "    PHQVEC = np.multiply( dP_TILD, y[:, :30])\n",
    "    PHQINT = np.sum( PHQVEC, axis=1)\n",
    "    # 3.2) Multiply by L_S/L_V to normalize (explanation above)\n",
    "    SPDQINT = np.divide( np.multiply( np.subtract(\\\n",
    "                                                 PHQINT, LHF),\\\n",
    "                                    L_S),\\\n",
    "                       L_V)\n",
    "    \n",
    "    # ENTHALPY.4) Same operation for liquid water tendency but multiplied by L_F/L_V\n",
    "    SPDQCINT = np.divide( np.multiply(\\\n",
    "                                  np.sum(\\\n",
    "                                         np.multiply( dP_TILD, y[:, 30:60]),\\\n",
    "                                         axis=1),\\\n",
    "                                  L_F),\\\n",
    "                     L_V)\n",
    "    \n",
    "    # ENTHALPY.5) Same operation for temperature tendency\n",
    "    DTINT = np.sum( np.multiply( dP_TILD[:, :30], y[:, 90:120]), axis=1)\n",
    "    \n",
    "    # ENTHALPY.FINAL) Residual = SPDQ+SPDQC+DTINT-RAD-SHF-PHAS\n",
    "    ENTRES = SPDQINT+SPDQCINT+DTINT-RAD-SHF-PHAS-KEDINT\n",
    "    \n",
    "    if outtype==\"graph\":\n",
    "    \n",
    "        import matplotlib.pyplot as plt\n",
    "        from matplotlib import rc\n",
    "        plt.rc('text', usetex=True)\n",
    "        plt.rc('font', family='serif')\n",
    "\n",
    "        plt.figure(num=None, figsize=(12, 3), dpi=80, facecolor='w', edgecolor='k')\n",
    "\n",
    "        plt.subplot(121)\n",
    "        plt.hist(WATRES)\n",
    "        plt.xlabel(r\"$\\mathrm{Water\\ Residual\\ \\left[W.m^{-2}\\right]}$\", fontsize=16)\n",
    "        plt.ylabel(r'Number of samples', fontsize=16)\n",
    "        plt.xticks(fontsize=14); plt.yticks(fontsize=14)\n",
    "\n",
    "        plt.subplot(122)\n",
    "        plt.hist(ENTRES)\n",
    "        plt.xlabel(r\"$\\mathrm{Enthalpy\\ Residual\\ \\left[W.m^{-2}\\right]}$\", fontsize=16)\n",
    "        plt.ylabel(r'Number of samples', fontsize=16)\n",
    "        plt.xticks(fontsize=14); plt.yticks(fontsize=14)\n",
    "    \n",
    "    elif outtype==\"list\":\n",
    "    \n",
    "        return WATRES,ENTRES"
   ]
  },
  {
   "cell_type": "code",
   "execution_count": 61,
   "metadata": {
    "hidden": true
   },
   "outputs": [
    {
     "data": {
      "text/plain": [
       "(array([ 3.37404841e-06,  4.27865968e-07, -2.62853132e-06, ...,\n",
       "         1.96227573e-06,  2.29038963e-06, -1.77446091e-06]),\n",
       " array([-1.44291760e-05, -1.56159686e-05, -7.70019677e-06, ...,\n",
       "        -1.42725843e-05, -1.12495670e-05, -3.77831034e-06]))"
      ]
     },
     "execution_count": 61,
     "metadata": {},
     "output_type": "execute_result"
    }
   ],
   "source": [
    "massent_check(X, Y, fsub=train_gen.input_transform.mean, fdiv=train_gen.input_transform.maxrs, \n",
    "              normq=scale_dict['PHQ'], outtype='list')"
   ]
  },
  {
   "cell_type": "code",
   "execution_count": null,
   "metadata": {
    "hidden": true
   },
   "outputs": [],
   "source": []
  }
 ],
 "metadata": {
  "kernelspec": {
   "display_name": "Python 3",
   "language": "python",
   "name": "python3"
  },
  "language_info": {
   "codemirror_mode": {
    "name": "ipython",
    "version": 3
   },
   "file_extension": ".py",
   "mimetype": "text/x-python",
   "name": "python",
   "nbconvert_exporter": "python",
   "pygments_lexer": "ipython3",
   "version": "3.6.7"
  },
  "toc": {
   "base_numbering": 1,
   "nav_menu": {},
   "number_sections": true,
   "sideBar": false,
   "skip_h1_title": true,
   "title_cell": "Table of Contents",
   "title_sidebar": "Contents",
   "toc_cell": false,
   "toc_position": {},
   "toc_section_display": true,
   "toc_window_display": false
  }
 },
 "nbformat": 4,
 "nbformat_minor": 2
}
