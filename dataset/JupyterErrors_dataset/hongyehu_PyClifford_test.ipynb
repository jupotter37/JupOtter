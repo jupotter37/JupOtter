{
 "cells": [
  {
   "cell_type": "code",
   "execution_count": 3,
   "metadata": {},
   "outputs": [
    {
     "name": "stdout",
     "output_type": "stream",
     "text": [
      "The snakeviz extension is already loaded. To reload it, use:\n",
      "  %reload_ext snakeviz\n",
      "The autoreload extension is already loaded. To reload it, use:\n",
      "  %reload_ext autoreload\n"
     ]
    }
   ],
   "source": [
    "%load_ext snakeviz\n",
    "%load_ext autoreload\n",
    "%autoreload 2"
   ]
  },
  {
   "cell_type": "code",
   "execution_count": 4,
   "metadata": {},
   "outputs": [],
   "source": [
    "import numpy\n",
    "from context import *"
   ]
  },
  {
   "cell_type": "code",
   "execution_count": 29,
   "metadata": {},
   "outputs": [
    {
     "name": "stdout",
     "output_type": "stream",
     "text": [
      "ERROR @  11\n",
      "StabilizerState(\n",
      "   +XZ\n",
      "   +IX)\n"
     ]
    }
   ],
   "source": [
    "for k in range(10000):\n",
    "    tmp = random_clifford_state(2)\n",
    "    if utils.acq_mat(tmp.gs[:2]).sum()!=0:\n",
    "        print('ERROR @ ', k)\n",
    "        print(tmp)\n",
    "        break"
   ]
  },
  {
   "cell_type": "code",
   "execution_count": 111,
   "metadata": {},
   "outputs": [
    {
     "name": "stdout",
     "output_type": "stream",
     "text": [
      "ERROR @  0\n",
      "CliffordMap(\n",
      "  X0-> -ZI\n",
      "  Z0-> -YZ\n",
      "  X1-> +IZ\n",
      "  Z1-> -IY)\n"
     ]
    }
   ],
   "source": [
    "for k in range(10000):\n",
    "    tmp = random_clifford_map(3)\n",
    "    if utils.acq_mat(tmp.gs[1::2]).sum()!=0:\n",
    "        print('ERROR @ ', k)\n",
    "        print(tmp)\n",
    "        break"
   ]
  },
  {
   "cell_type": "code",
   "execution_count": 109,
   "metadata": {},
   "outputs": [],
   "source": [
    "for k in range(10000):\n",
    "    gs = utils.random_clifford(2)\n",
    "    acq = utils.acq_mat(gs)\n",
    "    if (acq - numpy.kron(numpy.eye(2,dtype=int),numpy.array([[0,1],[1,0]]))).sum() != 0:\n",
    "        print('ERROR @ ', k)\n",
    "        print(gs)\n",
    "        print(acq)\n",
    "        break"
   ]
  },
  {
   "cell_type": "code",
   "execution_count": 104,
   "metadata": {},
   "outputs": [],
   "source": [
    "def random_pair(N):\n",
    "    '''Sample an anticommuting pair of random stabilizer and destabilizer.\n",
    "    Parameters:\n",
    "    N: int - number of qubits.\n",
    "    Returns:\n",
    "    g1: int (2*N) - binary representation of stabilizer.\n",
    "    g2: int (2*N) - binary representation of destabilizer.\n",
    "    '''\n",
    "    g1 = numpy.random.randint(0,2,2*N)\n",
    "    g2 = numpy.random.randint(0,2,2*N)\n",
    "    while (g1 == 0).all(): # resample g1 if it is all zero\n",
    "        g1 = numpy.random.randint(0,2,2*N)\n",
    "    if utils.acq(g1, g2) == 0: # if g1, g2 commute\n",
    "        i = utils.front(g1) # locate the first nontrivial g1 site\n",
    "        # flip commutativity by chaning g2\n",
    "        g2[2*i] = (g2[2*i] + g1[2*i+1])%2\n",
    "        g2[2*i+1] = (g2[2*i+1] + g1[2*i] + g1[2*i+1])%2\n",
    "    return g1, g2\n",
    "\n",
    "\n",
    "# def random_clifford_(gs):\n",
    "#     '''Fill random anticommuting Pauli strings in an array.\n",
    "#         (as recursive constructor called by random_clifford) \n",
    "#     Parameters:\n",
    "#     gs: int (2*n, 2*n) - array to fill in with Pauli strings.'''\n",
    "#     n = gs.shape[-1]//2\n",
    "#     print('-------\\nenter with n = ', n)\n",
    "#     g1, g2 = random_pair(n)\n",
    "#     print('g1 = ', g1)\n",
    "#     print('g2 = ', g2)\n",
    "#     if n == 1:\n",
    "#         gs[0] = g1\n",
    "#         gs[1] = g2\n",
    "#     else:\n",
    "#         gens, g1, g2 = pauli_diagonalize2(g1, g2)\n",
    "#         print('diagonalize')\n",
    "#         print(gens)\n",
    "#         print('g1 = ', g1)\n",
    "#         print('g2 = ', g2)\n",
    "#         gs[0] = g1\n",
    "#         gs[1] = g2\n",
    "#         random_clifford_(gs[2:,2:])\n",
    "#         print('expand:')\n",
    "#         print(gs)\n",
    "#         for g in reversed(gens):\n",
    "#             gs = utils.clifford_rotate_signless(g, gs)\n",
    "#     print('output:')\n",
    "#     print(gs)\n",
    "#     return gs\n",
    "\n",
    "def random_clifford_(gs):\n",
    "    '''Fill random anticommuting Pauli strings in an array.\n",
    "        (as recursive constructor called by random_clifford) \n",
    "    Parameters:\n",
    "    gs: int (2*n, 2*n) - array to fill in with Pauli strings.'''\n",
    "    n = gs.shape[-1]//2\n",
    "    g1, g2 = random_pair(n)\n",
    "    if n == 1:\n",
    "        gs[0] = g1\n",
    "        gs[1] = g2\n",
    "    else:\n",
    "        gens, g1, g2 = pauli_diagonalize2(g1, g2)\n",
    "        gs[0] = g1\n",
    "        gs[1] = g2\n",
    "        random_clifford_(gs[2:,2:])\n",
    "        for g in reversed(gens):\n",
    "            gs = utils.clifford_rotate_signless(g, gs)\n",
    "    return gs"
   ]
  },
  {
   "cell_type": "code",
   "execution_count": 102,
   "metadata": {},
   "outputs": [
    {
     "name": "stdout",
     "output_type": "stream",
     "text": [
      "-------\n",
      "enter with n =  2\n",
      "g1 =  [0 1 0 0]\n",
      "g2 =  [1 0 1 1]\n",
      "diagonalize\n",
      "[array([0, 1, 1, 1])]\n",
      "g1 =  [0 1 0 0]\n",
      "g2 =  [1 1 0 0]\n",
      "-------\n",
      "enter with n =  1\n",
      "g1 =  [0 1]\n",
      "g2 =  [1 0]\n",
      "output:\n",
      "[[0 1]\n",
      " [1 0]]\n",
      "expand:\n",
      "[[0 1 0 0]\n",
      " [1 1 0 0]\n",
      " [0 0 0 1]\n",
      " [0 0 1 0]]\n",
      "output:\n",
      "[[0 1 0 0]\n",
      " [1 0 1 1]\n",
      " [0 1 1 0]\n",
      " [0 1 0 1]]\n",
      "gs:\n",
      " [[0 1 0 0]\n",
      " [1 0 1 1]\n",
      " [0 1 1 0]\n",
      " [0 1 0 1]]\n",
      "acq:\n",
      " [[0 1 0 0]\n",
      " [1 0 0 0]\n",
      " [0 0 0 1]\n",
      " [0 0 1 0]]\n"
     ]
    }
   ],
   "source": [
    "numpy.random.seed(33)\n",
    "gs = random_clifford_(numpy.zeros((2*2,2*2), dtype=numpy.int_))\n",
    "acqmat = utils.acq_mat(gs)\n",
    "print('gs:\\n',gs)\n",
    "print('acq:\\n',acqmat)"
   ]
  },
  {
   "cell_type": "code",
   "execution_count": 107,
   "metadata": {},
   "outputs": [
    {
     "ename": "AttributeError",
     "evalue": "module 'vaeqst.utils' has no attribute 'random_clifford_'",
     "output_type": "error",
     "traceback": [
      "\u001b[0;31m---------------------------------------------------------------------------\u001b[0m",
      "\u001b[0;31mAttributeError\u001b[0m                            Traceback (most recent call last)",
      "\u001b[0;32m<ipython-input-107-16b3bc6d7e81>\u001b[0m in \u001b[0;36m<module>\u001b[0;34m\u001b[0m\n\u001b[1;32m      1\u001b[0m \u001b[0;32mfor\u001b[0m \u001b[0mk\u001b[0m \u001b[0;32min\u001b[0m \u001b[0mrange\u001b[0m\u001b[0;34m(\u001b[0m\u001b[0;36m34\u001b[0m\u001b[0;34m,\u001b[0m\u001b[0;36m10000\u001b[0m\u001b[0;34m)\u001b[0m\u001b[0;34m:\u001b[0m\u001b[0;34m\u001b[0m\u001b[0;34m\u001b[0m\u001b[0m\n\u001b[1;32m      2\u001b[0m     \u001b[0mnumpy\u001b[0m\u001b[0;34m.\u001b[0m\u001b[0mrandom\u001b[0m\u001b[0;34m.\u001b[0m\u001b[0mseed\u001b[0m\u001b[0;34m(\u001b[0m\u001b[0mk\u001b[0m\u001b[0;34m)\u001b[0m\u001b[0;34m\u001b[0m\u001b[0;34m\u001b[0m\u001b[0m\n\u001b[0;32m----> 3\u001b[0;31m     \u001b[0mgs\u001b[0m \u001b[0;34m=\u001b[0m \u001b[0mutils\u001b[0m\u001b[0;34m.\u001b[0m\u001b[0mrandom_clifford_\u001b[0m\u001b[0;34m(\u001b[0m\u001b[0mnumpy\u001b[0m\u001b[0;34m.\u001b[0m\u001b[0mzeros\u001b[0m\u001b[0;34m(\u001b[0m\u001b[0;34m(\u001b[0m\u001b[0;36m2\u001b[0m\u001b[0;34m*\u001b[0m\u001b[0;36m2\u001b[0m\u001b[0;34m,\u001b[0m\u001b[0;36m2\u001b[0m\u001b[0;34m*\u001b[0m\u001b[0;36m2\u001b[0m\u001b[0;34m)\u001b[0m\u001b[0;34m,\u001b[0m \u001b[0mdtype\u001b[0m\u001b[0;34m=\u001b[0m\u001b[0mnumpy\u001b[0m\u001b[0;34m.\u001b[0m\u001b[0mint_\u001b[0m\u001b[0;34m)\u001b[0m\u001b[0;34m)\u001b[0m\u001b[0;34m\u001b[0m\u001b[0;34m\u001b[0m\u001b[0m\n\u001b[0m\u001b[1;32m      4\u001b[0m     \u001b[0macqmat\u001b[0m \u001b[0;34m=\u001b[0m \u001b[0mutils\u001b[0m\u001b[0;34m.\u001b[0m\u001b[0macq_mat\u001b[0m\u001b[0;34m(\u001b[0m\u001b[0mgs\u001b[0m\u001b[0;34m)\u001b[0m\u001b[0;34m\u001b[0m\u001b[0;34m\u001b[0m\u001b[0m\n\u001b[1;32m      5\u001b[0m     \u001b[0;32mif\u001b[0m \u001b[0;34m(\u001b[0m\u001b[0macqmat\u001b[0m \u001b[0;34m-\u001b[0m \u001b[0mnumpy\u001b[0m\u001b[0;34m.\u001b[0m\u001b[0mkron\u001b[0m\u001b[0;34m(\u001b[0m\u001b[0mnumpy\u001b[0m\u001b[0;34m.\u001b[0m\u001b[0meye\u001b[0m\u001b[0;34m(\u001b[0m\u001b[0;36m2\u001b[0m\u001b[0;34m,\u001b[0m\u001b[0mdtype\u001b[0m\u001b[0;34m=\u001b[0m\u001b[0mint\u001b[0m\u001b[0;34m)\u001b[0m\u001b[0;34m,\u001b[0m\u001b[0mnumpy\u001b[0m\u001b[0;34m.\u001b[0m\u001b[0marray\u001b[0m\u001b[0;34m(\u001b[0m\u001b[0;34m[\u001b[0m\u001b[0;34m[\u001b[0m\u001b[0;36m0\u001b[0m\u001b[0;34m,\u001b[0m\u001b[0;36m1\u001b[0m\u001b[0;34m]\u001b[0m\u001b[0;34m,\u001b[0m\u001b[0;34m[\u001b[0m\u001b[0;36m1\u001b[0m\u001b[0;34m,\u001b[0m\u001b[0;36m0\u001b[0m\u001b[0;34m]\u001b[0m\u001b[0;34m]\u001b[0m\u001b[0;34m)\u001b[0m\u001b[0;34m)\u001b[0m\u001b[0;34m)\u001b[0m\u001b[0;34m.\u001b[0m\u001b[0msum\u001b[0m\u001b[0;34m(\u001b[0m\u001b[0;34m)\u001b[0m \u001b[0;34m!=\u001b[0m \u001b[0;36m0\u001b[0m\u001b[0;34m:\u001b[0m\u001b[0;34m\u001b[0m\u001b[0;34m\u001b[0m\u001b[0m\n",
      "\u001b[0;31mAttributeError\u001b[0m: module 'vaeqst.utils' has no attribute 'random_clifford_'"
     ]
    }
   ],
   "source": [
    "for k in range(10000):\n",
    "    numpy.random.seed(k)\n",
    "    gs = utils.random_clifford_(numpy.zeros((2*2,2*2), dtype=numpy.int_))\n",
    "    acqmat = utils.acq_mat(gs)\n",
    "    if (acqmat - numpy.kron(numpy.eye(2,dtype=int),numpy.array([[0,1],[1,0]]))).sum() != 0:\n",
    "        print('ERROR @ ', k)\n",
    "        print(gs)\n",
    "        print(acqmat)\n",
    "        break"
   ]
  },
  {
   "cell_type": "code",
   "execution_count": 93,
   "metadata": {},
   "outputs": [],
   "source": [
    "def pauli_diagonalize2(g1, g2, i0 = 0):\n",
    "    '''Find a series of Clifford roations to diagonalize a pair of anticommuting\n",
    "    Pauli strings to qubit i0 as Z and X (or Y).\n",
    "    Parameters:\n",
    "    g1: int (2*N) - binary representation of stabilizer.\n",
    "    g2: int (2*N) - binary representation of destabilizer.\n",
    "    i0: int - target qubit\n",
    "    Returns:\n",
    "    gs: int (L, 2*N) - binary representations of Clifford generators.\n",
    "    g1: int (2*N) - binary representation of transformed stabilizer.\n",
    "    g2: int (2*N) - binary representation of transformed destabilizer.'''\n",
    "    assert g1.shape == g2.shape\n",
    "    (N2,) = g1.shape\n",
    "    N = N2//2\n",
    "    gs = [] # prepare to collect Clifford generators\n",
    "    # bring g1 to Z0\n",
    "    if utils.pauli_is_onsite(g1, i0): # if g1 is on-site: g1 = X0,Y0,Z0\n",
    "        if g1[2*i0] == 1: # if g1 = X0,Y0\n",
    "            g = g1.copy() \n",
    "            g[2*i0+1] = (g[2*i0+1] + 1)%2\n",
    "            # now g = Y0,X0\n",
    "            gs.append(g)\n",
    "            g1 = (g1 + g)%2\n",
    "            g2 = (g2 + utils.acq(g, g2) * g)%2\n",
    "            # now g1 has been transformed to Z0\n",
    "    else: # if g1 is not on-site\n",
    "        if g1[2*i0] == 0: # if g1 commute with Z0\n",
    "            g = g1.copy()\n",
    "            if g1[2*i0+1] == 0: # g1 is trivial at site 0\n",
    "                i = utils.front(g) # find the first non-trivial qubit as pivot\n",
    "                # XYZ cyclic on the pivot qubit\n",
    "                g[2*i] = (g[2*i] + g[2*i+1])%2\n",
    "                g[2*i+1] = (g[2*i+1] + g[2*i])%2\n",
    "                # now g anticommute with g1\n",
    "                g[2*i0] = 1 # such that g also anticommute with Z0     \n",
    "            else: # g1 has Z at site 0\n",
    "                g[2*i0] = 1 # such that g anticommute with both g1, Z0\n",
    "            gs.append(g)\n",
    "            g1 = (g1 + g)%2\n",
    "            g2 = (g2 + utils.acq(g, g2) * g)%2\n",
    "        # now g1 anticommute with Z0                \n",
    "        g = g1.copy()\n",
    "        g[2*i0+1] = (g[2*i0+1] + 1)%2 # g = g1 (*) Z0\n",
    "        gs.append(g)\n",
    "        g1 = (g1 + g)%2\n",
    "        g2 = (g2 + utils.acq(g, g2) * g)%2\n",
    "        # now g1 has been transformed to Z0\n",
    "    # bring g2 to X0,Y0\n",
    "    if not utils.pauli_is_onsite(g2, i0):\n",
    "        g = g2.copy()\n",
    "        g[2*i0] = 0\n",
    "        g[2*i0+1] = 1\n",
    "        gs.append(g)\n",
    "        g2 = (g2 + g)%2\n",
    "        # now g2 has been transformed to X0 or Y0\n",
    "    return gs, g1, g2"
   ]
  },
  {
   "cell_type": "code",
   "execution_count": 94,
   "metadata": {},
   "outputs": [
    {
     "data": {
      "text/plain": [
       "([array([0, 1, 1, 1])], array([0, 1, 0, 0]), array([1, 1, 0, 0]))"
      ]
     },
     "execution_count": 94,
     "metadata": {},
     "output_type": "execute_result"
    }
   ],
   "source": [
    "pauli_diagonalize2(numpy.array([0,1,0,0]), numpy.array([1,0,1,1]))"
   ]
  },
  {
   "cell_type": "code",
   "execution_count": 122,
   "metadata": {},
   "outputs": [
    {
     "data": {
      "text/plain": [
       "1 IX +3 ZZ -2 XI +2 XX +5 YY"
      ]
     },
     "execution_count": 122,
     "metadata": {},
     "output_type": "execute_result"
    }
   ],
   "source": [
    "p = - 2*pauli('XI')+pauli('IX')+5*pauli('YY')+3*pauli('ZZ')+2*pauli('XX')\n",
    "p"
   ]
  },
  {
   "cell_type": "code",
   "execution_count": 124,
   "metadata": {},
   "outputs": [
    {
     "data": {
      "text/plain": [
       "43 II -8 IX -20 ZZ +4 XI -34 XX -12 YY"
      ]
     },
     "execution_count": 124,
     "metadata": {},
     "output_type": "execute_result"
    }
   ],
   "source": [
    "(p @ p).reduce()"
   ]
  },
  {
   "cell_type": "code",
   "execution_count": 116,
   "metadata": {},
   "outputs": [
    {
     "data": {
      "text/plain": [
       "0.77 IIIX +0.40 IIZZ +0.82 IIXI +0.65 IZZI +0.24 IXII +0.87 ZIIZ +0.69 ZZII +0.02 XIII"
      ]
     },
     "execution_count": 116,
     "metadata": {},
     "output_type": "execute_result"
    }
   ],
   "source": [
    "ham = pauli_zero(4)\n",
    "for i in range(4):\n",
    "    ham += numpy.random.rand() * pauli({i:'Z',(i+1)%4:'Z'}, 4)\n",
    "    ham += numpy.random.rand() * pauli({i:'X'}, 4)\n",
    "ham"
   ]
  },
  {
   "cell_type": "code",
   "execution_count": 120,
   "metadata": {},
   "outputs": [
    {
     "data": {
      "text/plain": [
       "(1.18 IZII -0.32 IZZI -1.21 ZIII +0.73 ZIZI +0.00 ZZIZ, QuantumCircuit(\n",
       "   |[3]|\n",
       "   |[2,3]|\n",
       "   |[0][1,2]|\n",
       "   |[0,3][1,2]|))"
      ]
     },
     "execution_count": 120,
     "metadata": {},
     "output_type": "execute_result"
    }
   ],
   "source": [
    "heff, circ = circuit.SBRG(ham)\n",
    "heff, circ"
   ]
  },
  {
   "cell_type": "code",
   "execution_count": 121,
   "metadata": {},
   "outputs": [
    {
     "data": {
      "text/plain": [
       "0.77 YIYZ -0.40 IXZI +0.82 IZII +0.65 IXII -0.24 IZXX -0.87 ZIII +0.69 ZIZI -0.02 XIIX"
      ]
     },
     "execution_count": 121,
     "metadata": {},
     "output_type": "execute_result"
    }
   ],
   "source": [
    "circ.forward(ham.copy())"
   ]
  },
  {
   "cell_type": "code",
   "execution_count": 105,
   "metadata": {},
   "outputs": [
    {
     "data": {
      "text/plain": [
       "(QuantumCircuit(\n",
       "   |[0,1]|),  +YY)"
      ]
     },
     "execution_count": 105,
     "metadata": {},
     "output_type": "execute_result"
    }
   ],
   "source": [
    "p = pauli('YY')\n",
    "circ = diagonalize(p)\n",
    "circ, p"
   ]
  },
  {
   "cell_type": "code",
   "execution_count": 25,
   "metadata": {},
   "outputs": [
    {
     "data": {
      "text/plain": [
       "QuantumCircuit(\n",
       "  |[0,2]|\n",
       "  |[0,2]|)"
      ]
     },
     "execution_count": 25,
     "metadata": {},
     "output_type": "execute_result"
    }
   ],
   "source": [
    "circuit.diagonalize(pauli('IIZII'),0)"
   ]
  },
  {
   "cell_type": "code",
   "execution_count": 48,
   "metadata": {},
   "outputs": [
    {
     "data": {
      "text/plain": [
       "-1 XZ +3 ZZ -2 XI -2 IZ +5 ZI"
      ]
     },
     "execution_count": 48,
     "metadata": {},
     "output_type": "execute_result"
    }
   ],
   "source": [
    "circ.forward(p)"
   ]
  },
  {
   "cell_type": "code",
   "execution_count": 79,
   "metadata": {},
   "outputs": [
    {
     "data": {
      "text/plain": [
       "QuantumCircuit(\n",
       "  |[2,4]|\n",
       "  |[2,4]|)"
      ]
     },
     "execution_count": 79,
     "metadata": {},
     "output_type": "execute_result"
    }
   ],
   "source": [
    "diagonalize(pauli('ZZIIX'),2,after=True)"
   ]
  },
  {
   "cell_type": "code",
   "execution_count": 78,
   "metadata": {},
   "outputs": [
    {
     "data": {
      "text/plain": [
       " +ZZZII"
      ]
     },
     "execution_count": 78,
     "metadata": {},
     "output_type": "execute_result"
    }
   ],
   "source": [
    "diagonalize(pauli('ZZIIX'),2,after=True).forward(paulis('ZZIIX'))"
   ]
  },
  {
   "cell_type": "code",
   "execution_count": 77,
   "metadata": {},
   "outputs": [
    {
     "data": {
      "text/plain": [
       " +IIZII"
      ]
     },
     "execution_count": 77,
     "metadata": {},
     "output_type": "execute_result"
    }
   ],
   "source": [
    "diagonalize(pauli('ZZIIX'),2,after=False).forward(paulis('ZZIIX'))"
   ]
  },
  {
   "cell_type": "code",
   "execution_count": 28,
   "metadata": {},
   "outputs": [
    {
     "data": {
      "text/plain": [
       " -ZIIII"
      ]
     },
     "execution_count": 28,
     "metadata": {},
     "output_type": "execute_result"
    }
   ],
   "source": [
    "circ.forward(paulis('ZIZII'))"
   ]
  },
  {
   "cell_type": "code",
   "execution_count": 29,
   "metadata": {},
   "outputs": [
    {
     "data": {
      "text/plain": [
       "array([[0, 1, 0, 0, 0, 0, 0, 0, 0, 0],\n",
       "       [1, 0, 0, 0, 0, 0, 0, 0, 0, 0],\n",
       "       [0, 0, 1, 0, 0, 0, 0, 0, 0, 0],\n",
       "       [0, 0, 0, 1, 0, 0, 0, 0, 0, 0],\n",
       "       [0, 0, 0, 0, 1, 0, 0, 0, 0, 0],\n",
       "       [0, 0, 0, 0, 0, 1, 0, 0, 0, 0],\n",
       "       [0, 0, 0, 0, 0, 0, 1, 0, 0, 0],\n",
       "       [0, 0, 0, 0, 0, 0, 0, 1, 0, 0],\n",
       "       [0, 0, 0, 0, 0, 0, 0, 0, 1, 0],\n",
       "       [0, 0, 0, 0, 0, 0, 0, 0, 0, 1]])"
      ]
     },
     "execution_count": 29,
     "metadata": {},
     "output_type": "execute_result"
    }
   ],
   "source": [
    "circ.last_layer.forward_map.gs"
   ]
  },
  {
   "cell_type": "code",
   "execution_count": 37,
   "metadata": {},
   "outputs": [
    {
     "data": {
      "text/plain": [
       "array([[1, 0]])"
      ]
     },
     "execution_count": 37,
     "metadata": {},
     "output_type": "execute_result"
    }
   ],
   "source": [
    "p.gs[numpy.abs(p.cs) > 1.e-10]"
   ]
  },
  {
   "cell_type": "code",
   "execution_count": 75,
   "metadata": {},
   "outputs": [
    {
     "data": {
      "text/plain": [
       "array([4.+0.j])"
      ]
     },
     "execution_count": 75,
     "metadata": {},
     "output_type": "execute_result"
    }
   ],
   "source": [
    "numpy.array([4.], dtype=numpy.complex_)"
   ]
  },
  {
   "cell_type": "code",
   "execution_count": 70,
   "metadata": {},
   "outputs": [
    {
     "data": {
      "text/plain": [
       "array([[1, 0, 1, 0, 1, 0]])"
      ]
     },
     "execution_count": 70,
     "metadata": {},
     "output_type": "execute_result"
    }
   ],
   "source": [
    "numpy.expand_dims(pauli('XXX').g,0)"
   ]
  },
  {
   "cell_type": "code",
   "execution_count": 50,
   "metadata": {},
   "outputs": [
    {
     "data": {
      "text/plain": [
       "StabilizerState(\n",
       "   +ZZIIII\n",
       "   +XXXXXX)"
      ]
     },
     "execution_count": 50,
     "metadata": {},
     "output_type": "execute_result"
    }
   ],
   "source": [
    "stabilizer_state('XXXXXX','-ZZIIII')"
   ]
  },
  {
   "cell_type": "code",
   "execution_count": 4,
   "metadata": {},
   "outputs": [
    {
     "data": {
      "text/plain": [
       "array([ 1, -1])"
      ]
     },
     "execution_count": 4,
     "metadata": {},
     "output_type": "execute_result"
    }
   ],
   "source": [
    "vaeqst.ghz_state(6).expect(vaeqst.paulis('XXXXXX','-ZZIIII'))"
   ]
  },
  {
   "cell_type": "code",
   "execution_count": 7,
   "metadata": {},
   "outputs": [],
   "source": [
    "a = vaeqst.utils.random_clifford(500)"
   ]
  },
  {
   "cell_type": "code",
   "execution_count": 8,
   "metadata": {},
   "outputs": [
    {
     "data": {
      "text/plain": [
       "array([[1, 1, 1, ..., 1, 0, 1],\n",
       "       [0, 0, 1, ..., 0, 0, 1],\n",
       "       [1, 1, 1, ..., 0, 1, 0],\n",
       "       ...,\n",
       "       [1, 1, 0, ..., 0, 1, 1],\n",
       "       [1, 0, 1, ..., 1, 1, 1],\n",
       "       [0, 1, 0, ..., 0, 1, 0]])"
      ]
     },
     "execution_count": 8,
     "metadata": {},
     "output_type": "execute_result"
    }
   ],
   "source": [
    "vaeqst.utils.z2inv(a)"
   ]
  },
  {
   "cell_type": "code",
   "execution_count": 9,
   "metadata": {},
   "outputs": [
    {
     "data": {
      "text/plain": [
       "True"
      ]
     },
     "execution_count": 9,
     "metadata": {},
     "output_type": "execute_result"
    }
   ],
   "source": [
    "a = vaeqst.utils.random_clifford(500)\n",
    "diff = vaeqst.utils.z2inv(a) @ a % 2 - numpy.eye(a.shape[0], dtype=a.dtype)\n",
    "numpy.all(diff == 0)"
   ]
  },
  {
   "cell_type": "code",
   "execution_count": 15,
   "metadata": {},
   "outputs": [
    {
     "data": {
      "text/plain": [
       "StabilizerState(\n",
       "   -ZXIYX\n",
       "   +IIYII\n",
       "   +YZIZZ\n",
       "   +YYYIX\n",
       "   -YZIXY)"
      ]
     },
     "execution_count": 15,
     "metadata": {},
     "output_type": "execute_result"
    }
   ],
   "source": [
    "rho = vaeqst.random_clifford_state(5)\n",
    "rho"
   ]
  },
  {
   "cell_type": "code",
   "execution_count": 16,
   "metadata": {},
   "outputs": [
    {
     "data": {
      "text/plain": [
       "QuantumCircuit(\n",
       "  |[0,1,2,3,4]|)"
      ]
     },
     "execution_count": 16,
     "metadata": {},
     "output_type": "execute_result"
    }
   ],
   "source": [
    "circ = vaeqst.diagonalize(rho)\n",
    "circ"
   ]
  },
  {
   "cell_type": "code",
   "execution_count": 17,
   "metadata": {},
   "outputs": [
    {
     "data": {
      "text/plain": [
       "StabilizerState(\n",
       "   +ZIIII\n",
       "   +IZIII\n",
       "   +IIZII\n",
       "   +IIIZI\n",
       "   +IIIIZ)"
      ]
     },
     "execution_count": 17,
     "metadata": {},
     "output_type": "execute_result"
    }
   ],
   "source": [
    "circ.forward(rho.copy())"
   ]
  },
  {
   "cell_type": "code",
   "execution_count": 18,
   "metadata": {},
   "outputs": [
    {
     "data": {
      "text/plain": [
       "StabilizerState(\n",
       "   -ZXIYX\n",
       "   +IIYII\n",
       "   +YZIZZ\n",
       "   +YYYIX\n",
       "   -YZIXY)"
      ]
     },
     "execution_count": 18,
     "metadata": {},
     "output_type": "execute_result"
    }
   ],
   "source": [
    "circ.backward(vaeqst.zero_state(5))"
   ]
  },
  {
   "cell_type": "code",
   "execution_count": 19,
   "metadata": {},
   "outputs": [
    {
     "data": {
      "text/plain": [
       "CliffordMap(\n",
       "  X0-> -YZYXX\n",
       "  Z0-> -ZIYXX\n",
       "  X1-> -IIXXY\n",
       "  Z1-> +XZZXI\n",
       "  X2-> -ZXZXZ\n",
       "  Z2-> +ZYZXZ\n",
       "  X3-> -XZXZZ\n",
       "  Z3-> -XIIIY\n",
       "  X4-> +IZYZY\n",
       "  Z4-> +XIIXY)"
      ]
     },
     "execution_count": 19,
     "metadata": {},
     "output_type": "execute_result"
    }
   ],
   "source": [
    "circ.first_layer.gates[0].forward_map"
   ]
  },
  {
   "cell_type": "code",
   "execution_count": 70,
   "metadata": {},
   "outputs": [
    {
     "data": {
      "text/plain": [
       " +YIZZX\n",
       " +XZZZZ"
      ]
     },
     "execution_count": 70,
     "metadata": {},
     "output_type": "execute_result"
    }
   ],
   "source": [
    "circ.forward(vaeqst.paulis('-ZZIII','IIXII'))"
   ]
  },
  {
   "cell_type": "code",
   "execution_count": 18,
   "metadata": {},
   "outputs": [
    {
     "data": {
      "text/plain": [
       "array([0, 1, 2, 3, 4])"
      ]
     },
     "execution_count": 18,
     "metadata": {},
     "output_type": "execute_result"
    }
   ],
   "source": [
    "numpy.arange(5)"
   ]
  },
  {
   "cell_type": "code",
   "execution_count": 12,
   "metadata": {},
   "outputs": [
    {
     "data": {
      "text/plain": [
       "array([-1.,  0.])"
      ]
     },
     "execution_count": 12,
     "metadata": {},
     "output_type": "execute_result"
    }
   ],
   "source": [
    "ghz_state(5).expect(paulis('-ZZIII','IIXII'))"
   ]
  },
  {
   "cell_type": "code",
   "execution_count": 13,
   "metadata": {},
   "outputs": [
    {
     "name": "stdout",
     "output_type": "stream",
     "text": [
      "[3 3 3 3 3]\n"
     ]
    },
    {
     "data": {
      "text/plain": [
       "0.03125"
      ]
     },
     "execution_count": 13,
     "metadata": {},
     "output_type": "execute_result"
    }
   ],
   "source": [
    "stabilizer.ghz_state(5).expect(stabilizer.zero_state(5))"
   ]
  },
  {
   "cell_type": "code",
   "execution_count": 10,
   "metadata": {},
   "outputs": [
    {
     "data": {
      "text/plain": [
       "1"
      ]
     },
     "execution_count": 10,
     "metadata": {},
     "output_type": "execute_result"
    }
   ],
   "source": [
    "stabilizer.ghz_state(10).entropy(utils.mask([2,3,4],10))"
   ]
  },
  {
   "cell_type": "code",
   "execution_count": 9,
   "metadata": {},
   "outputs": [
    {
     "data": {
      "text/plain": [
       "4"
      ]
     },
     "execution_count": 9,
     "metadata": {},
     "output_type": "execute_result"
    }
   ],
   "source": [
    "stabilizer.maximally_mixed_state(10).entropy(utils.mask([2,3,6,7],10))"
   ]
  },
  {
   "cell_type": "code",
   "execution_count": 12,
   "metadata": {},
   "outputs": [
    {
     "data": {
      "text/plain": [
       " +IIII\n",
       " +XXXX\n",
       " +IIZZ\n",
       " -XXYY\n",
       " +IZZI\n",
       " -XYYX\n",
       " +IZIZ\n",
       " -XYXY\n",
       " +ZZII\n",
       " -YYXX\n",
       " +ZZZZ\n",
       " +YYYY\n",
       " +ZIZI\n",
       " -YXYX\n",
       " +ZIIZ\n",
       " -YXXY"
      ]
     },
     "execution_count": 12,
     "metadata": {},
     "output_type": "execute_result"
    }
   ],
   "source": [
    "ghz_state(4).stabilizer_group()"
   ]
  },
  {
   "cell_type": "code",
   "execution_count": 15,
   "metadata": {},
   "outputs": [
    {
     "data": {
      "text/plain": [
       "3"
      ]
     },
     "execution_count": 15,
     "metadata": {},
     "output_type": "execute_result"
    }
   ],
   "source": [
    "utils.z2rank(numpy.array([[0,1,0,0],[0,0,0,1],[1,1,1,1]]))"
   ]
  },
  {
   "cell_type": "code",
   "execution_count": 4,
   "metadata": {},
   "outputs": [
    {
     "data": {
      "text/plain": [
       "QuantumDevice(\n",
       "  StabilizerState(\n",
       "     +ZZIIII\n",
       "     +IZZIII\n",
       "     +IIZZII\n",
       "     +IIIZZI\n",
       "     +IIIIZZ\n",
       "     +XXXXXX),\n",
       "  QuantumCircuit(\n",
       "    |[1,2][3,4][5,0]|\n",
       "    |[0,1][2,3][4,5]|))"
      ]
     },
     "execution_count": 4,
     "metadata": {},
     "output_type": "execute_result"
    }
   ],
   "source": [
    "qdvc = QuantumDevice(ghz_state(6), brickwall_rcc(6,2))\n",
    "qdvc"
   ]
  },
  {
   "cell_type": "code",
   "execution_count": 53,
   "metadata": {},
   "outputs": [
    {
     "data": {
      "text/plain": [
       "[StabilizerState(\n",
       "    -IYXXYY\n",
       "    -IZZXXX\n",
       "    -XIIXII\n",
       "    -ZYZYYY\n",
       "    -IIXXYI\n",
       "    -IIZXZY), StabilizerState(\n",
       "    -IYXXYY\n",
       "    -IZZXXX\n",
       "    -XIIXII\n",
       "    -ZYZYYY\n",
       "    -IIXXYI\n",
       "    -IIZXZY)]"
      ]
     },
     "execution_count": 53,
     "metadata": {},
     "output_type": "execute_result"
    }
   ],
   "source": [
    "list(qdvc.measure(2))"
   ]
  },
  {
   "cell_type": "code",
   "execution_count": 97,
   "metadata": {},
   "outputs": [
    {
     "data": {
      "text/plain": [
       "array([[2, 1, 2, 1]])"
      ]
     },
     "execution_count": 97,
     "metadata": {},
     "output_type": "execute_result"
    }
   ],
   "source": [
    "a = numpy.array([[1,1,1,1]])\n",
    "a[:,numpy.array([True,False,True,False])] = numpy.array([[2,2]])\n",
    "a"
   ]
  },
  {
   "cell_type": "code",
   "execution_count": 73,
   "metadata": {},
   "outputs": [
    {
     "data": {
      "text/plain": [
       "dtype('bool')"
      ]
     },
     "execution_count": 73,
     "metadata": {},
     "output_type": "execute_result"
    }
   ],
   "source": [
    "numpy.logical_and(numpy.array([True,True,False,False]),numpy.array([True,True,False,False])).dtype"
   ]
  },
  {
   "cell_type": "code",
   "execution_count": 6,
   "metadata": {},
   "outputs": [
    {
     "data": {
      "text/plain": [
       "array([False, False, False, False,  True,  True,  True,  True, False,\n",
       "       False])"
      ]
     },
     "execution_count": 6,
     "metadata": {},
     "output_type": "execute_result"
    }
   ],
   "source": [
    "numpy.repeat(utils.mask((2,3),5),2)"
   ]
  },
  {
   "cell_type": "code",
   "execution_count": 104,
   "metadata": {},
   "outputs": [
    {
     "data": {
      "text/plain": [
       " +ZX\n",
       " -YY"
      ]
     },
     "execution_count": 104,
     "metadata": {},
     "output_type": "execute_result"
    }
   ],
   "source": [
    "gen = pauli('XI')\n",
    "obs = paulis('YX','ZY')\n",
    "utils.clifford_rotate(gen.g,gen.p,obs.gs,obs.ps)\n",
    "obs"
   ]
  },
  {
   "cell_type": "code",
   "execution_count": 105,
   "metadata": {},
   "outputs": [
    {
     "data": {
      "text/plain": [
       " +ZX\n",
       " -YY"
      ]
     },
     "execution_count": 105,
     "metadata": {},
     "output_type": "execute_result"
    }
   ],
   "source": [
    "gen = pauli('X')\n",
    "obs = paulis('YX','ZY')\n",
    "msk = numpy.repeat(utils.mask(0,2),2)\n",
    "#utils.clifford_rotate(gen.g,gen.p,obs.gs[:,msk],obs.ps)\n",
    "obs.gs[:,msk],obs.ps = utils.clifford_rotate(gen.g,gen.p,obs.gs[:,msk],obs.ps)\n",
    "obs"
   ]
  },
  {
   "cell_type": "code",
   "execution_count": 108,
   "metadata": {},
   "outputs": [
    {
     "data": {
      "text/plain": [
       " +ZX\n",
       " -YY"
      ]
     },
     "execution_count": 108,
     "metadata": {},
     "output_type": "execute_result"
    }
   ],
   "source": [
    "gen = pauli('X')\n",
    "obs = paulis('YX','ZY')\n",
    "obs.rotate_by(gen,utils.mask((0,),2))"
   ]
  },
  {
   "cell_type": "code",
   "execution_count": 132,
   "metadata": {},
   "outputs": [
    {
     "data": {
      "text/plain": [
       "(CliffordMap(\n",
       "   X0-> +XIII\n",
       "   Z0-> +ZIII\n",
       "   X1-> +IXII\n",
       "   Z1-> +IZII\n",
       "   X2-> +IIXI\n",
       "   Z2-> +IIZI\n",
       "   X3-> +IIIX\n",
       "   Z3-> +IIIZ), CliffordMap(\n",
       "   X0-> +XY\n",
       "   Z0-> -ZI\n",
       "   X1-> +ZZ\n",
       "   Z1-> +IY))"
      ]
     },
     "execution_count": 132,
     "metadata": {},
     "output_type": "execute_result"
    }
   ],
   "source": [
    "m0 = identity_map(4)\n",
    "m1 = random_clifford_map(2)\n",
    "m0, m1"
   ]
  },
  {
   "cell_type": "code",
   "execution_count": 134,
   "metadata": {},
   "outputs": [
    {
     "data": {
      "text/plain": [
       "CliffordMap(\n",
       "  X0-> +XYII\n",
       "  Z0-> -ZIII\n",
       "  X1-> +ZZII\n",
       "  Z1-> +IYII\n",
       "  X2-> +IIXY\n",
       "  Z2-> -IIZI\n",
       "  X3-> +IIZZ\n",
       "  Z3-> +IIIY)"
      ]
     },
     "execution_count": 134,
     "metadata": {},
     "output_type": "execute_result"
    }
   ],
   "source": [
    "m0.embed(m1, utils.mask((2,3),4))"
   ]
  },
  {
   "cell_type": "code",
   "execution_count": 119,
   "metadata": {},
   "outputs": [
    {
     "data": {
      "text/plain": [
       "array([ True,  True,  True,  True, False, False, False, False])"
      ]
     },
     "execution_count": 119,
     "metadata": {},
     "output_type": "execute_result"
    }
   ],
   "source": [
    "msk = numpy.repeat(utils.mask((0,1),4),2)\n",
    "msk"
   ]
  },
  {
   "cell_type": "code",
   "execution_count": 130,
   "metadata": {},
   "outputs": [],
   "source": [
    "m0.gs[numpy.ix_(msk,msk)] = m1.gs"
   ]
  },
  {
   "cell_type": "code",
   "execution_count": 131,
   "metadata": {},
   "outputs": [
    {
     "data": {
      "text/plain": [
       "CliffordMap(\n",
       "  X0-> +YIII\n",
       "  Z0-> +ZZII\n",
       "  X1-> +IZII\n",
       "  Z1-> +YXII\n",
       "  X2-> +IIXI\n",
       "  Z2-> +IIZI\n",
       "  X3-> +IIIX\n",
       "  Z3-> +IIIZ)"
      ]
     },
     "execution_count": 131,
     "metadata": {},
     "output_type": "execute_result"
    }
   ],
   "source": [
    "m0"
   ]
  },
  {
   "cell_type": "code",
   "execution_count": 18,
   "metadata": {},
   "outputs": [
    {
     "data": {
      "text/plain": [
       "array([[1, 1, 0, 1]])"
      ]
     },
     "execution_count": 18,
     "metadata": {},
     "output_type": "execute_result"
    }
   ],
   "source": [
    "utils.stabilizer_across(paulis('IIIX','IYZX').gs, utils.mask((1,2),4))"
   ]
  },
  {
   "cell_type": "code",
   "execution_count": 48,
   "metadata": {},
   "outputs": [],
   "source": [
    "%load_ext snakeviz"
   ]
  },
  {
   "cell_type": "code",
   "execution_count": 58,
   "metadata": {},
   "outputs": [
    {
     "name": "stdout",
     "output_type": "stream",
     "text": [
      " \n",
      "*** Profile stats marshalled to file '/var/folders/1m/3nz1kxmj2mgb2s2gwq2ndxqh0000gn/T/tmp3au98zkk'. \n",
      "Embedding SnakeViz in this document...\n"
     ]
    },
    {
     "data": {
      "text/html": [
       "\n",
       "<iframe id='snakeviz-c1e0ae44-e9b6-11eb-b576-acde48001122' frameborder=0 seamless width='100%' height='1000'></iframe>\n",
       "<script>document.getElementById(\"snakeviz-c1e0ae44-e9b6-11eb-b576-acde48001122\").setAttribute(\"src\", \"http://\" + document.location.hostname + \":8080/snakeviz/%2Fvar%2Ffolders%2F1m%2F3nz1kxmj2mgb2s2gwq2ndxqh0000gn%2FT%2Ftmp3au98zkk\")</script>\n"
      ],
      "text/plain": [
       "<IPython.core.display.HTML object>"
      ]
     },
     "metadata": {},
     "output_type": "display_data"
    }
   ],
   "source": [
    "%%snakeviz\n",
    "N = 50\n",
    "nsample = 100\n",
    "qdvc = vaeqst.QuantumDevice(vaeqst.ghz_state(N), vaeqst.global_rcc(N))\n",
    "for snapshot in qdvc.measure(nsample):\n",
    "    pass"
   ]
  },
  {
   "cell_type": "code",
   "execution_count": 3,
   "metadata": {},
   "outputs": [
    {
     "data": {
      "text/plain": [
       "StabilizerState(\n",
       " +XIZ\n",
       " +XXI)"
      ]
     },
     "execution_count": 3,
     "metadata": {},
     "output_type": "execute_result"
    }
   ],
   "source": [
    "stabilizer.stabilizer_state('XXI','XIZ')"
   ]
  },
  {
   "cell_type": "code",
   "execution_count": 4,
   "metadata": {},
   "outputs": [
    {
     "data": {
      "text/plain": [
       " +XIZ\n",
       " +XXI"
      ]
     },
     "execution_count": 4,
     "metadata": {},
     "output_type": "execute_result"
    }
   ],
   "source": [
    "stabilizer.stabilizer_state('XXI','XIZ').stabilizers"
   ]
  },
  {
   "cell_type": "code",
   "execution_count": 5,
   "metadata": {},
   "outputs": [
    {
     "data": {
      "text/plain": [
       " +IIZ\n",
       " +XIZ\n",
       " +XXI\n",
       " +ZZX\n",
       " +ZZI\n",
       " +IZI"
      ]
     },
     "execution_count": 5,
     "metadata": {},
     "output_type": "execute_result"
    }
   ],
   "source": [
    "stabilizer.stabilizer_state('XXI','XIZ')[:]"
   ]
  },
  {
   "cell_type": "code",
   "execution_count": 6,
   "metadata": {},
   "outputs": [
    {
     "data": {
      "text/plain": [
       "(array([1, 1]), -2.0)"
      ]
     },
     "execution_count": 6,
     "metadata": {},
     "output_type": "execute_result"
    }
   ],
   "source": [
    "st1 = stabilizer.ghz_state(3)\n",
    "st2 = stabilizer.stabilizer_state('XXI','XXZ')\n",
    "st1.measure(st2)"
   ]
  },
  {
   "cell_type": "code",
   "execution_count": 34,
   "metadata": {},
   "outputs": [
    {
     "data": {
      "text/plain": [
       "(array([[1, 0, 0, 0, 0, 1],\n",
       "        [1, 0, 1, 0, 0, 0],\n",
       "        [1, 1, 1, 1, 1, 0],\n",
       "        [0, 1, 0, 1, 0, 0],\n",
       "        [0, 0, 0, 1, 0, 1],\n",
       "        [0, 0, 0, 0, 0, 1]]), array([2, 0, 2, 0, 0, 0]), 0, array([0, 1]), -2)"
      ]
     },
     "execution_count": 34,
     "metadata": {},
     "output_type": "execute_result"
    }
   ],
   "source": [
    "st1 = stabilizer.ghz_state(3)\n",
    "st2 = pauli.paulis('XXI','XIZ')\n",
    "utils.stabilizer_measure(st1.gs, st1.ps, st2.gs, st2.ps, st1.r)"
   ]
  },
  {
   "cell_type": "code",
   "execution_count": 128,
   "metadata": {},
   "outputs": [
    {
     "data": {
      "text/plain": [
       "StabilizerState(\n",
       " +ZZI\n",
       " -XXZ\n",
       " +XXI)"
      ]
     },
     "execution_count": 128,
     "metadata": {},
     "output_type": "execute_result"
    }
   ],
   "source": [
    "st1"
   ]
  },
  {
   "cell_type": "code",
   "execution_count": 134,
   "metadata": {},
   "outputs": [
    {
     "data": {
      "text/plain": [
       " +III\n",
       " +XXI\n",
       " -XXZ\n",
       " -IIZ\n",
       " +ZZI\n",
       " -YYI\n",
       " +YYZ\n",
       " -ZZZ"
      ]
     },
     "execution_count": 134,
     "metadata": {},
     "output_type": "execute_result"
    }
   ],
   "source": [
    "st1.stabilizer_group()"
   ]
  },
  {
   "cell_type": "code",
   "execution_count": 117,
   "metadata": {},
   "outputs": [
    {
     "data": {
      "text/plain": [
       "1.0"
      ]
     },
     "execution_count": 117,
     "metadata": {},
     "output_type": "execute_result"
    }
   ],
   "source": [
    "st1.entropy(numpy.array([0,1,0]))"
   ]
  },
  {
   "cell_type": "code",
   "execution_count": 103,
   "metadata": {},
   "outputs": [
    {
     "data": {
      "text/plain": [
       "|[1,2][3,4][5,0]|\n",
       "|[0,1][2,3][4,5]|"
      ]
     },
     "execution_count": 103,
     "metadata": {},
     "output_type": "execute_result"
    }
   ],
   "source": [
    "circ = circuit.brickwall_rcc(6, 2)\n",
    "circ"
   ]
  },
  {
   "cell_type": "code",
   "execution_count": 253,
   "metadata": {},
   "outputs": [
    {
     "data": {
      "text/plain": [
       "array([[0, 0, 0, 0, 1, 0, 0, 0],\n",
       "       [0, 0, 0, 0, 0, 1, 0, 0],\n",
       "       [0, 0, 0, 0, 0, 0, 1, 0],\n",
       "       [0, 0, 0, 0, 0, 0, 0, 1],\n",
       "       [1, 0, 0, 0, 0, 0, 0, 0],\n",
       "       [0, 1, 0, 0, 0, 0, 0, 0],\n",
       "       [0, 0, 1, 0, 0, 0, 0, 0],\n",
       "       [0, 0, 0, 1, 0, 0, 0, 0]])"
      ]
     },
     "execution_count": 253,
     "metadata": {},
     "output_type": "execute_result"
    }
   ],
   "source": [
    "utils.acq_mat(utils.random_pauli_tableau(4))"
   ]
  },
  {
   "cell_type": "code",
   "execution_count": 13,
   "metadata": {},
   "outputs": [
    {
     "data": {
      "text/plain": [
       "QuantumCircuit(\n",
       "  ||)"
      ]
     },
     "execution_count": 13,
     "metadata": {},
     "output_type": "execute_result"
    }
   ],
   "source": [
    "circuit.identity_circuit(5)"
   ]
  },
  {
   "cell_type": "code",
   "execution_count": 16,
   "metadata": {},
   "outputs": [
    {
     "data": {
      "text/plain": [
       "QuantumCircuit(\n",
       "  |[0,2]|\n",
       "  |[0,2]|)"
      ]
     },
     "execution_count": 16,
     "metadata": {},
     "output_type": "execute_result"
    }
   ],
   "source": [
    "circ = circuit.diagonalize(pauli('IIXI'),0)\n",
    "circ"
   ]
  },
  {
   "cell_type": "code",
   "execution_count": 18,
   "metadata": {},
   "outputs": [
    {
     "data": {
      "text/plain": [
       " +IIXI\n",
       " +YIXX\n",
       " -IZYZ\n",
       " +XIIY"
      ]
     },
     "execution_count": 18,
     "metadata": {},
     "output_type": "execute_result"
    }
   ],
   "source": [
    "os = paulis('+IIXI','+YIXX','-IZYZ','+XIIY')\n",
    "os"
   ]
  },
  {
   "cell_type": "code",
   "execution_count": 239,
   "metadata": {},
   "outputs": [
    {
     "data": {
      "text/plain": [
       " +ZIII\n",
       " +IIYX\n",
       " +YZXZ\n",
       " -ZIZY"
      ]
     },
     "execution_count": 239,
     "metadata": {},
     "output_type": "execute_result"
    }
   ],
   "source": [
    "circ.forward(os)"
   ]
  },
  {
   "cell_type": "code",
   "execution_count": 11,
   "metadata": {},
   "outputs": [
    {
     "data": {
      "text/plain": [
       "CliffordMap(\n",
       "  X0-> -XX\n",
       "  Z0-> +IY\n",
       "  X1-> -ZY\n",
       "  Z1-> -XI)"
      ]
     },
     "execution_count": 11,
     "metadata": {},
     "output_type": "execute_result"
    }
   ],
   "source": [
    "clifford.random_clifford_map(2)"
   ]
  },
  {
   "cell_type": "code",
   "execution_count": 53,
   "metadata": {},
   "outputs": [
    {
     "data": {
      "text/plain": [
       "'2'"
      ]
     },
     "execution_count": 53,
     "metadata": {},
     "output_type": "execute_result"
    }
   ],
   "source": [
    "str(int(numpy.ceil(numpy.log10(11))))"
   ]
  },
  {
   "cell_type": "code",
   "execution_count": 19,
   "metadata": {},
   "outputs": [
    {
     "data": {
      "text/plain": [
       " +ZIZI"
      ]
     },
     "execution_count": 19,
     "metadata": {},
     "output_type": "execute_result"
    }
   ],
   "source": [
    "gen = pauli('ZIZI')\n",
    "gen"
   ]
  },
  {
   "cell_type": "code",
   "execution_count": 236,
   "metadata": {},
   "outputs": [
    {
     "data": {
      "text/plain": [
       " +ZIYI\n",
       " +YIXX\n",
       " +ZZXZ\n",
       " +YIZY"
      ]
     },
     "execution_count": 236,
     "metadata": {},
     "output_type": "execute_result"
    }
   ],
   "source": [
    "os.copy().rotate_by(gen)"
   ]
  },
  {
   "cell_type": "code",
   "execution_count": 222,
   "metadata": {},
   "outputs": [
    {
     "data": {
      "text/plain": [
       "( +ZZ, (0, 2))"
      ]
     },
     "execution_count": 222,
     "metadata": {},
     "output_type": "execute_result"
    }
   ],
   "source": [
    "gate = circuit.CliffordRotation(gen)\n",
    "gate.clifford_generator, gate.qubits"
   ]
  },
  {
   "cell_type": "code",
   "execution_count": 237,
   "metadata": {},
   "outputs": [
    {
     "data": {
      "text/plain": [
       " +ZIYI\n",
       " +YIXX\n",
       " +ZZXZ\n",
       " +YIZY"
      ]
     },
     "execution_count": 237,
     "metadata": {},
     "output_type": "execute_result"
    }
   ],
   "source": [
    "os.copy().rotate_by(gate.clifford_generator, gate.qubits)"
   ]
  },
  {
   "cell_type": "code",
   "execution_count": 224,
   "metadata": {},
   "outputs": [
    {
     "data": {
      "text/plain": [
       " +YZ\n",
       " +ZI\n",
       " +ZY\n",
       " +IZ"
      ]
     },
     "execution_count": 224,
     "metadata": {},
     "output_type": "execute_result"
    }
   ],
   "source": [
    "gate.compile()\n",
    "gate.clifford_forward"
   ]
  },
  {
   "cell_type": "code",
   "execution_count": 238,
   "metadata": {},
   "outputs": [
    {
     "data": {
      "text/plain": [
       " +ZIYI\n",
       " +YIXX\n",
       " +ZZXZ\n",
       " +YIZY"
      ]
     },
     "execution_count": 238,
     "metadata": {},
     "output_type": "execute_result"
    }
   ],
   "source": [
    "os.copy().transform_by(gate.clifford_forward, gate.qubits)"
   ]
  },
  {
   "cell_type": "code",
   "execution_count": 101,
   "metadata": {},
   "outputs": [
    {
     "data": {
      "text/plain": [
       "(0, 1)"
      ]
     },
     "execution_count": 101,
     "metadata": {},
     "output_type": "execute_result"
    }
   ],
   "source": [
    "tuple(range(2))"
   ]
  },
  {
   "cell_type": "code",
   "execution_count": 136,
   "metadata": {},
   "outputs": [],
   "source": [
    "%load_ext snakeviz"
   ]
  },
  {
   "cell_type": "code",
   "execution_count": 47,
   "metadata": {},
   "outputs": [
    {
     "data": {
      "text/plain": [
       " +YZ"
      ]
     },
     "execution_count": 47,
     "metadata": {},
     "output_type": "execute_result"
    }
   ],
   "source": [
    "circ.last_layer.gates[0].clifford_generator"
   ]
  },
  {
   "cell_type": "code",
   "execution_count": 49,
   "metadata": {},
   "outputs": [
    {
     "data": {
      "text/plain": [
       "(0, 2)"
      ]
     },
     "execution_count": 49,
     "metadata": {},
     "output_type": "execute_result"
    }
   ],
   "source": [
    "circ.last_layer.gates[0].qubits"
   ]
  },
  {
   "cell_type": "code",
   "execution_count": 56,
   "metadata": {},
   "outputs": [
    {
     "data": {
      "text/plain": [
       " +XIII\n",
       " +ZIII\n",
       " +IXII\n",
       " +IZII\n",
       " +IIXI\n",
       " +IIZI\n",
       " +IIIX\n",
       " +IIIZ"
      ]
     },
     "execution_count": 56,
     "metadata": {},
     "output_type": "execute_result"
    }
   ],
   "source": [
    "cm.inverse().compose(cm)"
   ]
  },
  {
   "cell_type": "code",
   "execution_count": 57,
   "metadata": {},
   "outputs": [
    {
     "data": {
      "text/plain": [
       " +XIII\n",
       " +ZIII\n",
       " +IXII\n",
       " +IZII\n",
       " +IIXI\n",
       " +IIZI\n",
       " +IIIX\n",
       " +IIIZ"
      ]
     },
     "execution_count": 57,
     "metadata": {},
     "output_type": "execute_result"
    }
   ],
   "source": [
    "cm.compose(cm.inverse())"
   ]
  },
  {
   "cell_type": "code",
   "execution_count": 23,
   "metadata": {},
   "outputs": [
    {
     "name": "stdout",
     "output_type": "stream",
     "text": [
      "0 : [0 3 0 0]\n",
      "[0 0 0 0] [0 0 1 1]\n",
      "0\n",
      "1 : [0 3 0 0]\n",
      "[0 0 1 1] [1 1 0 1]\n",
      "1\n",
      "2 : [0 3 1 0]\n",
      "[1 1 1 2] [1 1 0 0]\n",
      "2\n",
      "3 : [0 3 3 0]\n",
      "[2 2 1 2] [1 0 1 1]\n",
      "3\n"
     ]
    },
    {
     "data": {
      "text/plain": [
       "(array([[1, 0, 0, 0],\n",
       "        [0, 1, 0, 0],\n",
       "        [0, 0, 1, 0],\n",
       "        [0, 0, 0, 1]]), array([0, 3, 3, 0]))"
      ]
     },
     "execution_count": 23,
     "metadata": {},
     "output_type": "execute_result"
    }
   ],
   "source": [
    "utils.pauli_combine(numpy.array([[1, 0, 0, 1],\n",
    " [1, 0, 1, 1],\n",
    " [1, 1, 1, 0],\n",
    " [0, 1, 1, 0]]), numpy.array([[0, 0, 1, 1],\n",
    " [1, 1, 0, 1],\n",
    " [1, 1, 0, 0],\n",
    " [1, 0, 1, 1]]), numpy.array([0, 0, 0, 0]))"
   ]
  },
  {
   "cell_type": "code",
   "execution_count": 26,
   "metadata": {},
   "outputs": [
    {
     "data": {
      "text/plain": [
       "+iIX"
      ]
     },
     "execution_count": 26,
     "metadata": {},
     "output_type": "execute_result"
    }
   ],
   "source": [
    "pauli.pauli('IY')@pauli.pauli('YZ')@pauli.pauli('YI')"
   ]
  },
  {
   "cell_type": "code",
   "execution_count": 27,
   "metadata": {},
   "outputs": [
    {
     "data": {
      "text/plain": [
       " +XI\n",
       " +ZI\n",
       " +IX\n",
       " +IZ"
      ]
     },
     "execution_count": 27,
     "metadata": {},
     "output_type": "execute_result"
    }
   ],
   "source": [
    "pauli.CliffordMap(r).compose(pauli.CliffordMap(r).inverse())"
   ]
  },
  {
   "cell_type": "code",
   "execution_count": 39,
   "metadata": {},
   "outputs": [
    {
     "data": {
      "text/plain": [
       "array([[0, 1, 0, 0, 0, 0],\n",
       "       [1, 0, 0, 0, 0, 0],\n",
       "       [0, 0, 0, 1, 0, 0],\n",
       "       [0, 0, 1, 0, 0, 0],\n",
       "       [0, 0, 0, 0, 0, 1],\n",
       "       [0, 0, 0, 0, 1, 0]])"
      ]
     },
     "execution_count": 39,
     "metadata": {},
     "output_type": "execute_result"
    }
   ],
   "source": [
    "utils.acq_mat(r)"
   ]
  },
  {
   "cell_type": "code",
   "execution_count": 20,
   "metadata": {},
   "outputs": [
    {
     "data": {
      "text/plain": [
       " +XXX\n",
       " +YYY\n",
       " +ZZZ"
      ]
     },
     "execution_count": 20,
     "metadata": {},
     "output_type": "execute_result"
    }
   ],
   "source": [
    "ps = paulis('XXX','YYY','ZZZ')\n",
    "ps"
   ]
  },
  {
   "cell_type": "code",
   "execution_count": 21,
   "metadata": {},
   "outputs": [
    {
     "data": {
      "text/plain": [
       " +XYX\n",
       " -YXY\n",
       " +ZZZ"
      ]
     },
     "execution_count": 21,
     "metadata": {},
     "output_type": "execute_result"
    }
   ],
   "source": [
    "ps.rotate_by(pauli('IZI'))"
   ]
  },
  {
   "cell_type": "code",
   "execution_count": 22,
   "metadata": {},
   "outputs": [
    {
     "data": {
      "text/plain": [
       "array([[1, 0, 1, 1, 1, 0],\n",
       "       [1, 1, 1, 0, 1, 1],\n",
       "       [0, 1, 0, 1, 0, 1]])"
      ]
     },
     "execution_count": 22,
     "metadata": {},
     "output_type": "execute_result"
    }
   ],
   "source": [
    "ps.gs"
   ]
  },
  {
   "cell_type": "code",
   "execution_count": 23,
   "metadata": {},
   "outputs": [
    {
     "data": {
      "text/plain": [
       "array([ True,  True,  True,  True, False, False, False, False, False,\n",
       "       False, False, False])"
      ]
     },
     "execution_count": 23,
     "metadata": {},
     "output_type": "execute_result"
    }
   ],
   "source": [
    "g = pauli('XXIIII').g\n",
    "numpy.repeat(g.reshape(6,2).sum(axis=-1) > 0,2)"
   ]
  },
  {
   "cell_type": "code",
   "execution_count": 24,
   "metadata": {},
   "outputs": [
    {
     "data": {
      "text/plain": [
       " +Z"
      ]
     },
     "execution_count": 24,
     "metadata": {},
     "output_type": "execute_result"
    }
   ],
   "source": [
    "p = pauli('Z')\n",
    "p"
   ]
  },
  {
   "cell_type": "code",
   "execution_count": 25,
   "metadata": {},
   "outputs": [
    {
     "name": "stdout",
     "output_type": "stream",
     "text": [
      " +ZZZ\n",
      " -YXY\n",
      " +XYX\n"
     ]
    }
   ],
   "source": [
    "for p in reversed(ps):\n",
    "    print(p)"
   ]
  },
  {
   "cell_type": "code",
   "execution_count": 319,
   "metadata": {},
   "outputs": [],
   "source": [
    "g1, g2 = utils.random_pair(50)"
   ]
  },
  {
   "cell_type": "code",
   "execution_count": 345,
   "metadata": {},
   "outputs": [
    {
     "name": "stdout",
     "output_type": "stream",
     "text": [
      "595 ns ± 35 ns per loop (mean ± std. dev. of 7 runs, 1000000 loops each)\n"
     ]
    }
   ],
   "source": [
    "%timeit utils.acq(g1, g2)"
   ]
  },
  {
   "cell_type": "code",
   "execution_count": 26,
   "metadata": {},
   "outputs": [
    {
     "data": {
      "text/plain": [
       "-iIZI"
      ]
     },
     "execution_count": 26,
     "metadata": {},
     "output_type": "execute_result"
    }
   ],
   "source": [
    "pauli('IXX') @ -pauli('IYX')"
   ]
  },
  {
   "cell_type": "code",
   "execution_count": 27,
   "metadata": {},
   "outputs": [
    {
     "data": {
      "text/plain": [
       "(array([0, 1]), array([2]))"
      ]
     },
     "execution_count": 27,
     "metadata": {},
     "output_type": "execute_result"
    }
   ],
   "source": [
    "utils.condense(pauli('IIZII').g)"
   ]
  },
  {
   "cell_type": "code",
   "execution_count": 99,
   "metadata": {},
   "outputs": [
    {
     "data": {
      "text/plain": [
       "{0: 3, 1: 1, 2: 1, 3: 1}"
      ]
     },
     "execution_count": 99,
     "metadata": {},
     "output_type": "execute_result"
    }
   ],
   "source": [
    "dict(zip(*numpy.unique(numpy.array([0,0,0,1,2,3]), return_counts=True)))"
   ]
  },
  {
   "cell_type": "code",
   "execution_count": 28,
   "metadata": {},
   "outputs": [],
   "source": [
    "gs = utils.random_clifford_tableau(4)\n",
    "hs = paulis('+IIXI','+YIXX','-IZYZ','+XIIY').gs"
   ]
  },
  {
   "cell_type": "code",
   "execution_count": 30,
   "metadata": {},
   "outputs": [
    {
     "data": {
      "text/plain": [
       "StabilizerState(\n",
       "   +ZZII\n",
       "   +IZZI\n",
       "   +IIZZ\n",
       "   +XXXX)"
      ]
     },
     "execution_count": 30,
     "metadata": {},
     "output_type": "execute_result"
    }
   ],
   "source": [
    "stabilizer.ghz_state(4)"
   ]
  },
  {
   "cell_type": "code",
   "execution_count": 31,
   "metadata": {},
   "outputs": [],
   "source": [
    "circ1 = circuit.diagonalize(pauli('IXII'))\n",
    "circ2 = circuit.diagonalize(pauli('IIYZ'),2)"
   ]
  },
  {
   "cell_type": "code",
   "execution_count": 32,
   "metadata": {},
   "outputs": [
    {
     "data": {
      "text/plain": [
       "QuantumCircuit(\n",
       "  |[0,1]|\n",
       "  |[0,1][2,3]|)"
      ]
     },
     "execution_count": 32,
     "metadata": {},
     "output_type": "execute_result"
    }
   ],
   "source": [
    "circ1.compose(circ2)"
   ]
  },
  {
   "cell_type": "code",
   "execution_count": 33,
   "metadata": {},
   "outputs": [
    {
     "data": {
      "text/plain": [
       "CliffordMap(\n",
       "  X0-> -ZZII\n",
       "  Z0-> +IXII\n",
       "  X1-> +ZIII\n",
       "  Z1-> +XXII\n",
       "  X2-> +IIXI\n",
       "  Z2-> -IIYZ\n",
       "  X3-> +IIXY\n",
       "  Z3-> +IIIZ)"
      ]
     },
     "execution_count": 33,
     "metadata": {},
     "output_type": "execute_result"
    }
   ],
   "source": [
    "circ1.compile()\n",
    "circ1.forward_map"
   ]
  },
  {
   "cell_type": "code",
   "execution_count": 34,
   "metadata": {},
   "outputs": [
    {
     "data": {
      "text/plain": [
       " +ZIII\n",
       " +IIZI"
      ]
     },
     "execution_count": 34,
     "metadata": {},
     "output_type": "execute_result"
    }
   ],
   "source": [
    "os = paulis('IXII','IIYZ')\n",
    "circ1.forward(os.copy())"
   ]
  },
  {
   "cell_type": "code",
   "execution_count": 35,
   "metadata": {},
   "outputs": [
    {
     "data": {
      "text/plain": [
       "array([[0, 1, 0, 0, 4],\n",
       "       [0, 0, 2, 3, 4]])"
      ]
     },
     "execution_count": 35,
     "metadata": {},
     "output_type": "execute_result"
    }
   ],
   "source": [
    "os.tokenize()"
   ]
  },
  {
   "cell_type": "code",
   "execution_count": null,
   "metadata": {},
   "outputs": [],
   "source": []
  }
 ],
 "metadata": {
  "kernelspec": {
   "display_name": "Python 3",
   "language": "python",
   "name": "python3"
  },
  "language_info": {
   "codemirror_mode": {
    "name": "ipython",
    "version": 3
   },
   "file_extension": ".py",
   "mimetype": "text/x-python",
   "name": "python",
   "nbconvert_exporter": "python",
   "pygments_lexer": "ipython3",
   "version": "3.9.2"
  }
 },
 "nbformat": 4,
 "nbformat_minor": 4
}
