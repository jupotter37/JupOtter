{
 "cells": [
  {
   "attachments": {},
   "cell_type": "markdown",
   "metadata": {},
   "source": [
    "# BANDGAP_1v_v01\n",
    "Designs a 1v bandgap in the SKY130 process.  The design is based on the\n",
    "[Original design](https://github.com/johnkustin/bandgapReferenceCircuit) \n",
    "by John William Kustin with just costmetic improvements to seperate the \n",
    "amplifier and the bandgap hierarchically.\n",
    "\n",
    "The bandgap is designed by using a complete open-source EDA environment \n",
    "contained in a [devcontainer](https://containers.dev/).  The devcontatiner runs in Visual Studio Code \n",
    "using the \n",
    "[remote containers extension](https://code.visualstudio.com/docs/devcontainers/containers) \n",
    "to turn VS Code into a complete\n",
    "Integrated-circuit design environment (IDE).  The base image is the \n",
    "[JKU iic-osic-tools](https://github.com/iic-jku/iic-osic-tools) \n",
    "hosted on [DockerHub](https://hub.docker.com/r/hpretl/iic-osic-tools).  \n",
    "Note that the devcontainer can take 16 GB of disk space.  The container can be\n",
    "used in Windows, Linux, or MAC OS.\n",
    "\n",
    "## Table of Contents\n",
    "- [Introduction and Setup](#introduction)\n",
    "- [DC Operating Point Test](#dcop_test)\n",
    "- [Setup Appendix](#setup-appendix)\n",
    "\n",
    "## Team\n",
    "\n",
    "|Name|Affiliation|IEEE Member|SSCS Member|\n",
    "|:--:|:----------:|:----------:|:----------:|\n",
    "|Curtis Mayberry|[Cascode-Labs](http://www.cascode-labs.org/)|Yes|Yes|\n",
    "|Yulin Deng|[Cascode-Labs](http://www.cascode-labs.org/)|Yes|No|\n",
    "|Praveen Ramani|[Cascode-Labs](http://www.cascode-labs.org/)|No|No|\n",
    "|Thomas Pluck|[Cascode-Labs](http://www.cascode-labs.org/)|No|No|\n",
    "\n",
    "## Getting Started\n",
    "\n",
    "Start by cloning the [original repository]() from the Cascode-labs \n",
    "\n",
    "### Setup\n",
    "A complete analog and digital open-source IC design environment can be ran inside a Docker \n",
    "devcontainer based on the [iic-osic-tools](https://github.com/iic-jku/iic-osic-tools) image from JKU University.  Then  the repo can be opened in vscode directly using the remote devcontainer extension.\n",
    "This will turn your vscode session into a full analog design environemnt with \n",
    "no additional setup required. It will include all the simulators, schematic editors, layout editors, and \n",
    "software tools necessary for both analog and digital IC design.\n",
    "\n",
    "It also uses conda to setup a virtual environment.  The environment is defined\n",
    "in the ./environment.yml file.  Call the following \n",
    "from the repo root to create the \"bandgap\" environment.\n",
    "\n",
    "```bash\n",
    "mamba env create -f environment.yml\n",
    "```\n",
    "\n",
    "Then all you have to do is use the \"Select Python interpreter\" to select the \n",
    "python interpreter at:\n",
    "\n",
    "```/opt/conda/envs/bandgap/bin/python```\n",
    "\n",
    "For more details on the environemnt setup see the [Setup Appendix](#setup-appendix) cell.\n",
    "\n",
    "### One-time Setup\n",
    "1. Install [Visual Studio Code](https://code.visualstudio.com/): \n",
    "This makes it easy to run the devcontainer using the remote development \n",
    "extension.\n",
    "\n",
    "2. Follow the [Docker Desktop](https://docs.docker.com/desktop/) installation\n",
    "instructions.\n",
    "\n",
    "Note: Make sure the $DISPLAY variable is set correctly for your OS in \n",
    "`.devcontainer/devcontainer.json`\n",
    "\n",
    "### One-time Windows Setup\n",
    "1. Install an X-window server such as [X410](https://x410.dev/) from the \n",
    "windows store or the open-source \n",
    "[Xming(https://sourceforge.net/projects/xming/)].  \n",
    "The X-window server will enable graphical \n",
    "applications in a dev contatiner.  It sets up X-window \n",
    "forwarding on windows by just starting it and setting the $DISPLAY variable\n",
    "inside the container.\n",
    "\n",
    "Note that for Windows part of the docker installation includes installing WSL2.  \n",
    "This allow Docker to run Linux Docker containers on Windows using the WSL2 \n",
    "Linux kernel.\n",
    "\n",
    "### One-time Linux install\n",
    "\n",
    "Please let me know if you figure out the required $DISPLAY to set for Linux\n",
    "since we haven't been using it on Linux directly.\n",
    "\n",
    "### Notebook Setup\n",
    "Initializes some imports and paths that will be needed by the rest of the notebooks.\n",
    "\n",
    "<a id='introduction'></a>"
   ]
  },
  {
   "cell_type": "code",
   "execution_count": 1,
   "metadata": {},
   "outputs": [
    {
     "name": "stdout",
     "output_type": "stream",
     "text": [
      "[INFO] Final PATH variable: /foss/tools/bin:/foss/tools/sak/:/usr/local/sbin:/opt/conda/envs/bandgap/bin:/opt/conda/condabin:/foss/tools/xschem/bin:/foss/tools/ngspice/ngspice/bin:/opt/conda/bin:/usr/local/sbin:/usr/local/bin:/usr/sbin:/usr/bin:/sbin:/bin:/foss/tools/covered/19d30fc/bin:/foss/tools/cvc_rv/df85a63/bin:/foss/tools/fault/080f4be/:/foss/tools/gaw3-xschem/a4bb956/bin:/foss/tools/gds3d/173da0c/bin:/foss/tools/ghdl/v3.0.0/bin:/foss/tools/gtkwave/816166e/bin:/foss/tools/iic-osic/:/foss/tools/irsim/25fe821/bin:/foss/tools/iverilog/0144168/bin:/foss/tools/klayout/44a2aa9/:/foss/tools/magic/5e5879c/bin:/foss/tools/netgen/28a2950/bin:/foss/tools/ngspice/ngspice/bin:/foss/tools/nvc/r1.8.2/bin:/foss/tools/openlane/2023.03/:/foss/tools/openroad/1a1617d/bin:/foss/tools/opensta/489ffac/bin:/foss/tools/padring/b2a64ab/bin:/foss/tools/qflow/b0f76bf/bin:/foss/tools/verilator/v5.008/bin:/foss/tools/xschem/b6a8add/bin:/foss/tools/xyce/Parallel/Release/bin:/foss/tools/yosys/f109fa3/bin\n",
      "[INFO] Final PYTHONPATH variable: /opt/conda/envs/bandgap/lib/python310.zip:/opt/conda/envs/bandgap/lib/python3.10:/opt/conda/envs/bandgap/lib/python3.10/lib-dynload:/opt/conda/envs/bandgap/lib/python3.10/site-packages:/workspaces/prjs/Vlsir/bindings/python:/workspaces/prjs/Vlsir/VlsirTools:/workspaces/prjs/Hdl21:/workspaces/prjs/Hdl21/pdks/Sky130:/foss/tools/ngspyce/154a272/local/lib/python3.10/dist-packages\n"
     ]
    },
    {
     "data": {
      "text/html": [
       "<pre style=\"white-space:pre;overflow-x:auto;line-height:normal;font-family:Menlo,'DejaVu Sans Mono',consolas,'Courier New',monospace\">$PATH = \n",
       "</pre>\n"
      ],
      "text/plain": [
       "$PATH = \n"
      ]
     },
     "metadata": {},
     "output_type": "display_data"
    },
    {
     "data": {
      "text/html": [
       "<pre style=\"white-space:pre;overflow-x:auto;line-height:normal;font-family:Menlo,'DejaVu Sans Mono',consolas,'Courier New',monospace\"><span style=\"font-weight: bold\">[</span>\n",
       "    <span style=\"color: #008000; text-decoration-color: #008000\">'/opt/conda/envs/bandgap/bin'</span>,\n",
       "    <span style=\"color: #008000; text-decoration-color: #008000\">'/opt/conda/condabin'</span>,\n",
       "    <span style=\"color: #008000; text-decoration-color: #008000\">'/foss/tools/xschem/bin'</span>,\n",
       "    <span style=\"color: #008000; text-decoration-color: #008000\">'/foss/tools/ngspice/ngspice/bin'</span>,\n",
       "    <span style=\"color: #008000; text-decoration-color: #008000\">'/opt/conda/bin'</span>,\n",
       "    <span style=\"color: #008000; text-decoration-color: #008000\">'/usr/local/sbin'</span>,\n",
       "    <span style=\"color: #008000; text-decoration-color: #008000\">'/usr/local/bin'</span>,\n",
       "    <span style=\"color: #008000; text-decoration-color: #008000\">'/usr/sbin'</span>,\n",
       "    <span style=\"color: #008000; text-decoration-color: #008000\">'/usr/bin'</span>,\n",
       "    <span style=\"color: #008000; text-decoration-color: #008000\">'/sbin'</span>,\n",
       "    <span style=\"color: #008000; text-decoration-color: #008000\">'/bin'</span>\n",
       "<span style=\"font-weight: bold\">]</span>\n",
       "</pre>\n"
      ],
      "text/plain": [
       "\u001b[1m[\u001b[0m\n",
       "    \u001b[32m'/opt/conda/envs/bandgap/bin'\u001b[0m,\n",
       "    \u001b[32m'/opt/conda/condabin'\u001b[0m,\n",
       "    \u001b[32m'/foss/tools/xschem/bin'\u001b[0m,\n",
       "    \u001b[32m'/foss/tools/ngspice/ngspice/bin'\u001b[0m,\n",
       "    \u001b[32m'/opt/conda/bin'\u001b[0m,\n",
       "    \u001b[32m'/usr/local/sbin'\u001b[0m,\n",
       "    \u001b[32m'/usr/local/bin'\u001b[0m,\n",
       "    \u001b[32m'/usr/sbin'\u001b[0m,\n",
       "    \u001b[32m'/usr/bin'\u001b[0m,\n",
       "    \u001b[32m'/sbin'\u001b[0m,\n",
       "    \u001b[32m'/bin'\u001b[0m\n",
       "\u001b[1m]\u001b[0m\n"
      ]
     },
     "metadata": {},
     "output_type": "display_data"
    },
    {
     "data": {
      "text/html": [
       "<pre style=\"white-space:pre;overflow-x:auto;line-height:normal;font-family:Menlo,'DejaVu Sans Mono',consolas,'Courier New',monospace\">WORKSPACE_DIR = <span style=\"color: #800080; text-decoration-color: #800080\">/workspaces/prjs/</span><span style=\"color: #ff00ff; text-decoration-color: #ff00ff\">bandgapReferenceCircuit</span>\n",
       "</pre>\n"
      ],
      "text/plain": [
       "WORKSPACE_DIR = \u001b[35m/workspaces/prjs/\u001b[0m\u001b[95mbandgapReferenceCircuit\u001b[0m\n"
      ]
     },
     "metadata": {},
     "output_type": "display_data"
    },
    {
     "data": {
      "text/html": [
       "<pre style=\"white-space:pre;overflow-x:auto;line-height:normal;font-family:Menlo,'DejaVu Sans Mono',consolas,'Courier New',monospace\">SPICE_ASCIIRAWFILE = <span style=\"color: #008080; text-decoration-color: #008080; font-weight: bold\">1</span>\n",
       "</pre>\n"
      ],
      "text/plain": [
       "SPICE_ASCIIRAWFILE = \u001b[1;36m1\u001b[0m\n"
      ]
     },
     "metadata": {},
     "output_type": "display_data"
    }
   ],
   "source": [
    "! source ~/.bashrc\n",
    "import os\n",
    "from pathlib import Path\n",
    "from rich.jupyter import print\n",
    "import ipytest\n",
    "\n",
    "from viper.simulators.TestSimulator import TestSimulator\n",
    "\n",
    "DEBUG = 0\n",
    "BANDGAP_REPO_ROOT = Path(\"/workspaces/prjs/bandgapReferenceCircuit\")\n",
    "TESTS_DIR_PATH = BANDGAP_REPO_ROOT / \"tests\"\n",
    "SCHEMATIC_DIR_PATH = BANDGAP_REPO_ROOT / \"bandgap_sky130_v1\"\n",
    "\n",
    "ipytest.autoconfig()\n",
    "\n",
    "# Check environment setup\n",
    "if not Path(os.environ[\"WORKSPACE_DIR\"]).exists():\n",
    "    raise Exception(\"Workspace directory path needs to be updated in the .env\"\n",
    "                    \" file.\")\n",
    "\n",
    "if DEBUG > 0:\n",
    "    print(\"$PATH = \")\n",
    "    print(os.environ[\"PATH\"].split(\":\"))\n",
    "    WORKSPACE_DIR = os.environ[\"WORKSPACE_DIR\"]\n",
    "    print(f\"WORKSPACE_DIR = {WORKSPACE_DIR}\")\n",
    "    WORKSPACE_DIR = os.environ[\"SPICE_ASCIIRAWFILE\"]\n",
    "    print(f\"SPICE_ASCIIRAWFILE = {WORKSPACE_DIR}\")\n",
    "    if DEBUG > 1:\n",
    "        print(\"All ENV VARS:\")\n",
    "        print(os.environ)"
   ]
  },
  {
   "attachments": {},
   "cell_type": "markdown",
   "metadata": {},
   "source": [
    "<a id='dcop_test'></a>\n",
    "\n",
    "# DC Operating Point Test\n",
    "\n",
    "The DC operating point test checks the DC output voltage of the bandgap.\n",
    "\n",
    "It also checks the terminal voltages (Vds, Vgs, Vgd) of each transistor are \n",
    "within the safe operating area. (SOA)  This helps ensure they operate \n",
    "reliably over time.\n",
    "\n",
    "## Run DC Op Simulation"
   ]
  },
  {
   "cell_type": "code",
   "execution_count": 2,
   "metadata": {},
   "outputs": [
    {
     "name": "stdout",
     "output_type": "stream",
     "text": [
      "Netlisting bandgap_1v_v01_dcop_testbench.sch\n",
      "  From schematic path: /workspaces/prjs/bandgapReferenceCircuit/bandgap_sky130_v1/bandgap_1v_v01_dcop_testbench.sch\n",
      "  To netlist file: bandgap_1v_v01_dcop_testbench.spice\n",
      "  To netlist path: /workspaces/prjs/bandgapReferenceCircuit/tests/dc_op/netlist/bandgap_1v_v01_dcop_testbench.spice\n",
      "  Netlisting complete!\n",
      "\n",
      "Simulating bandgap_1v_v01_dcop_testbench.spice at \n",
      "  /workspaces/prjs/bandgapReferenceCircuit/tests/dc_op/netlist/bandgap_1v_v01_dcop_testbench.spice\n",
      "  using ngspice\n",
      "  Simulation completed!\n"
     ]
    },
    {
     "data": {
      "text/html": [
       "<pre style=\"white-space:pre;overflow-x:auto;line-height:normal;font-family:Menlo,'DejaVu Sans Mono',consolas,'Courier New',monospace\">Simulation Result Details:\n",
       "  simulator: ngspice\n",
       "  directory path: <span style=\"color: #800080; text-decoration-color: #800080\">/workspaces/prjs/bandgapReferenceCircuit/tests/dc_op/</span><span style=\"color: #ff00ff; text-decoration-color: #ff00ff\">simulation</span>\n",
       "  output file: bandgap_1v_v01_dcop_testbench.out\n",
       "  raw output file: bandgap_1v_v01_dcop_testbench.raw\n",
       "  SOA log file: bandgap_1v_v01_dcop_testbench.soa.log\n",
       "  sim log file: bandgap_1v_v01_dcop_testbench.sim.log\n",
       "  netlist filepath: \n",
       "<span style=\"color: #800080; text-decoration-color: #800080\">/workspaces/prjs/bandgapReferenceCircuit/tests/dc_op/netlist/</span><span style=\"color: #ff00ff; text-decoration-color: #ff00ff\">bandgap_1v_v01_dcop_testbench.spice</span>\n",
       "\n",
       "</pre>\n"
      ],
      "text/plain": [
       "Simulation Result Details:\n",
       "  simulator: ngspice\n",
       "  directory path: \u001b[35m/workspaces/prjs/bandgapReferenceCircuit/tests/dc_op/\u001b[0m\u001b[95msimulation\u001b[0m\n",
       "  output file: bandgap_1v_v01_dcop_testbench.out\n",
       "  raw output file: bandgap_1v_v01_dcop_testbench.raw\n",
       "  SOA log file: bandgap_1v_v01_dcop_testbench.soa.log\n",
       "  sim log file: bandgap_1v_v01_dcop_testbench.sim.log\n",
       "  netlist filepath: \n",
       "\u001b[35m/workspaces/prjs/bandgapReferenceCircuit/tests/dc_op/netlist/\u001b[0m\u001b[95mbandgap_1v_v01_dcop_testbench.spice\u001b[0m\n",
       "\n"
      ]
     },
     "metadata": {},
     "output_type": "display_data"
    }
   ],
   "source": [
    "\n",
    "test_name = \"dc_op\"\n",
    "test_bench_schematic = \"bandgap_1v_v01_dcop_testbench.sch\"\n",
    "\n",
    "dcop_result = TestSimulator.run(\n",
    "    schematic_filepath=SCHEMATIC_DIR_PATH / test_bench_schematic, \n",
    "    test_dirpath=TESTS_DIR_PATH / test_name,\n",
    "    )\n",
    "print(dcop_result)"
   ]
  },
  {
   "attachments": {},
   "cell_type": "markdown",
   "metadata": {},
   "source": [
    "## Check DC Op Results"
   ]
  },
  {
   "cell_type": "code",
   "execution_count": 3,
   "metadata": {},
   "outputs": [
    {
     "data": {
      "text/html": [
       "<pre style=\"white-space:pre;overflow-x:auto;line-height:normal;font-family:Menlo,'DejaVu Sans Mono',consolas,'Courier New',monospace\">output_filepath: <span style=\"color: #800080; text-decoration-color: #800080\">/workspaces/prjs/bandgapReferenceCircuit/tests/dc_op/simulation/</span><span style=\"color: #ff00ff; text-decoration-color: #ff00ff\">bandgap_1v_v01_dcop_testbench.out</span>\n",
       "</pre>\n"
      ],
      "text/plain": [
       "output_filepath: \u001b[35m/workspaces/prjs/bandgapReferenceCircuit/tests/dc_op/simulation/\u001b[0m\u001b[95mbandgap_1v_v01_dcop_testbench.out\u001b[0m\n"
      ]
     },
     "metadata": {},
     "output_type": "display_data"
    },
    {
     "name": "stdout",
     "output_type": "stream",
     "text": [
      "\u001b[32m.\u001b[0m\u001b[32m                                                                                            [100%]\u001b[0m\n"
     ]
    }
   ],
   "source": [
    "%%ipytest -qq\n",
    "# %load tests/dc_op/test_op_point.py\n",
    "import pytest\n",
    "from pathlib import Path\n",
    "from spyci import spyci\n",
    "from rawread import rawread\n",
    "\n",
    "from viper.testing.PerformanceTest import PerformanceTest\n",
    "from viper.simulators.SimResult import SimResult\n",
    "\n",
    "@pytest.fixture(scope=\"module\")\n",
    "def performance_test(request: pytest.FixtureRequest) -> PerformanceTest:\n",
    "\n",
    "    try:\n",
    "        return PerformanceTest.read_package(request.module.__package__)\n",
    "    except:\n",
    "        return PerformanceTest.read_directory(\n",
    "            \"/workspaces/prjs/bandgapReferenceCircuit/tests/dc_op\"\n",
    "        )\n",
    "\n",
    "@pytest.fixture(scope=\"module\")\n",
    "def sim_result(performance_test: PerformanceTest) -> Path:\n",
    "    return performance_test.sim_result\n",
    "\n",
    "def test_result_complete(sim_result: SimResult):\n",
    "    print(f\"output_filepath: {sim_result.output_filepath}\")\n",
    "    assert sim_result.output_filepath.exists()\n",
    "    assert sim_result.raw_output_filepath.exists()\n",
    "\n",
    "# def test_()\n",
    "\n",
    "#def test_vdsat(dcop_result):\n",
    "    # data = spyci.load_raw(str(dcop_result))\n",
    "    #data = rawread(str(dcop_result))\n",
    "    #assert isinstance(dcop_result, ngspice_result)\n",
    " #   assert 1 < 2\n",
    "    #assert V_bg < 1.05\n",
    "\n",
    "\n",
    "# if __name__ == \"__main__\":\n",
    "#     test_vdsat(Path(\"/workspaces/bandgapReferenceCircuit/tests/dc_op/simulation/tsmc_bandgap_real_op.raw\"))"
   ]
  },
  {
   "attachments": {},
   "cell_type": "markdown",
   "metadata": {},
   "source": [
    "## DC Op Performance\n",
    "Reports the DC operating point performance of the bandgap"
   ]
  },
  {
   "attachments": {},
   "cell_type": "markdown",
   "metadata": {},
   "source": [
    "# Transient Simulation\n",
    "\n",
    "This simulation is a time based simulation; the supply, VDD, is ramped up over 5 microseconds. a power on reset pulse is then applied. The circuit then settles into a desired operating point. This simulation performs the test at three temperatures: 0, 27, 70 degrees celcius."
   ]
  },
  {
   "cell_type": "code",
   "execution_count": 4,
   "metadata": {},
   "outputs": [
    {
     "ename": "FileNotFoundError",
     "evalue": "[Errno 2] No such file or directory: '/workspaces/prjs/bandgapReferenceCircuit/tests/tran/simulation/tsmc_bandgap_real_27degc_vbg.raw'",
     "output_type": "error",
     "traceback": [
      "\u001b[0;31m---------------------------------------------------------------------------\u001b[0m",
      "\u001b[0;31mFileNotFoundError\u001b[0m                         Traceback (most recent call last)",
      "Cell \u001b[0;32mIn[4], line 3\u001b[0m\n\u001b[1;32m      1\u001b[0m \u001b[39mfrom\u001b[39;00m \u001b[39mspyci\u001b[39;00m \u001b[39mimport\u001b[39;00m spyci \u001b[39mas\u001b[39;00m s\n\u001b[0;32m----> 3\u001b[0m tran1 \u001b[39m=\u001b[39m s\u001b[39m.\u001b[39;49mload_raw(\u001b[39m\"\u001b[39;49m\u001b[39mtests/tran/simulation/tsmc_bandgap_real_27degc_vbg.raw\u001b[39;49m\u001b[39m\"\u001b[39;49m)\n\u001b[1;32m      4\u001b[0m tran2 \u001b[39m=\u001b[39m s\u001b[39m.\u001b[39mload_raw(\u001b[39m\"\u001b[39m\u001b[39mtests/tran/simulation/tsmc_bandgap_real_0degc_vbg.raw\u001b[39m\u001b[39m\"\u001b[39m)\n\u001b[1;32m      5\u001b[0m tran3 \u001b[39m=\u001b[39m s\u001b[39m.\u001b[39mload_raw(\u001b[39m\"\u001b[39m\u001b[39mtests/tran/simulation/tsmc_bandgap_real_70degc_vbg.raw\u001b[39m\u001b[39m\"\u001b[39m)\n",
      "File \u001b[0;32m/opt/conda/envs/bandgap/lib/python3.10/site-packages/spyci/spyci.py:49\u001b[0m, in \u001b[0;36mload_raw\u001b[0;34m(rawfile)\u001b[0m\n\u001b[1;32m     18\u001b[0m \u001b[39m\u001b[39m\u001b[39m\"\"\"\u001b[39;00m\n\u001b[1;32m     19\u001b[0m \u001b[39mParses an ascii raw data file and returns a dictionary with the following\u001b[39;00m\n\u001b[1;32m     20\u001b[0m \u001b[39mstructure:\u001b[39;00m\n\u001b[0;32m   (...)\u001b[0m\n\u001b[1;32m     45\u001b[0m \u001b[39m    dict with structure described above.\u001b[39;00m\n\u001b[1;32m     46\u001b[0m \u001b[39m\"\"\"\u001b[39;00m\n\u001b[1;32m     48\u001b[0m path \u001b[39m=\u001b[39m os\u001b[39m.\u001b[39mpath\u001b[39m.\u001b[39mrealpath(rawfile)\n\u001b[0;32m---> 49\u001b[0m data \u001b[39m=\u001b[39m pathlib\u001b[39m.\u001b[39;49mPath(path)\u001b[39m.\u001b[39;49mread_text()\n\u001b[1;32m     50\u001b[0m ret \u001b[39m=\u001b[39m {}\n\u001b[1;32m     51\u001b[0m pattern \u001b[39m=\u001b[39m (\u001b[39mr\u001b[39m\u001b[39m\"\u001b[39m\u001b[39m^Title:\u001b[39m\u001b[39m\\\u001b[39m\u001b[39ms*(?P<title>.*)\u001b[39m\u001b[39m\\\u001b[39m\u001b[39ms*\u001b[39m\u001b[39m\"\u001b[39m\n\u001b[1;32m     52\u001b[0m            \u001b[39mr\u001b[39m\u001b[39m\"\u001b[39m\u001b[39m^Date:\u001b[39m\u001b[39m\\\u001b[39m\u001b[39ms*(?P<date>\u001b[39m\u001b[39m\\\u001b[39m\u001b[39mw.*?\u001b[39m\u001b[39m\\\u001b[39m\u001b[39mw)\u001b[39m\u001b[39m\\\u001b[39m\u001b[39ms*\u001b[39m\u001b[39m\"\u001b[39m\n\u001b[1;32m     53\u001b[0m            \u001b[39mr\u001b[39m\u001b[39m\"\u001b[39m\u001b[39mPlotname:\u001b[39m\u001b[39m\\\u001b[39m\u001b[39ms*(?P<plotname>\u001b[39m\u001b[39m\\\u001b[39m\u001b[39mw.*?\u001b[39m\u001b[39m\\\u001b[39m\u001b[39mw)\u001b[39m\u001b[39m\\\u001b[39m\u001b[39ms*\u001b[39m\u001b[39m\"\u001b[39m\n\u001b[0;32m   (...)\u001b[0m\n\u001b[1;32m     57\u001b[0m            \u001b[39mr\u001b[39m\u001b[39m\"\u001b[39m\u001b[39mVariables:\u001b[39m\u001b[39m\\\u001b[39m\u001b[39ms*$(?P<vars>.*)^\u001b[39m\u001b[39m\"\u001b[39m\n\u001b[1;32m     58\u001b[0m            \u001b[39mr\u001b[39m\u001b[39m\"\u001b[39m\u001b[39mValues:(?P<values>.*)\u001b[39m\u001b[39m\"\u001b[39m)\n",
      "File \u001b[0;32m/opt/conda/envs/bandgap/lib/python3.10/pathlib.py:1134\u001b[0m, in \u001b[0;36mPath.read_text\u001b[0;34m(self, encoding, errors)\u001b[0m\n\u001b[1;32m   1130\u001b[0m \u001b[39m\u001b[39m\u001b[39m\"\"\"\u001b[39;00m\n\u001b[1;32m   1131\u001b[0m \u001b[39mOpen the file in text mode, read it, and close the file.\u001b[39;00m\n\u001b[1;32m   1132\u001b[0m \u001b[39m\"\"\"\u001b[39;00m\n\u001b[1;32m   1133\u001b[0m encoding \u001b[39m=\u001b[39m io\u001b[39m.\u001b[39mtext_encoding(encoding)\n\u001b[0;32m-> 1134\u001b[0m \u001b[39mwith\u001b[39;00m \u001b[39mself\u001b[39;49m\u001b[39m.\u001b[39;49mopen(mode\u001b[39m=\u001b[39;49m\u001b[39m'\u001b[39;49m\u001b[39mr\u001b[39;49m\u001b[39m'\u001b[39;49m, encoding\u001b[39m=\u001b[39;49mencoding, errors\u001b[39m=\u001b[39;49merrors) \u001b[39mas\u001b[39;00m f:\n\u001b[1;32m   1135\u001b[0m     \u001b[39mreturn\u001b[39;00m f\u001b[39m.\u001b[39mread()\n",
      "File \u001b[0;32m/opt/conda/envs/bandgap/lib/python3.10/pathlib.py:1119\u001b[0m, in \u001b[0;36mPath.open\u001b[0;34m(self, mode, buffering, encoding, errors, newline)\u001b[0m\n\u001b[1;32m   1117\u001b[0m \u001b[39mif\u001b[39;00m \u001b[39m\"\u001b[39m\u001b[39mb\u001b[39m\u001b[39m\"\u001b[39m \u001b[39mnot\u001b[39;00m \u001b[39min\u001b[39;00m mode:\n\u001b[1;32m   1118\u001b[0m     encoding \u001b[39m=\u001b[39m io\u001b[39m.\u001b[39mtext_encoding(encoding)\n\u001b[0;32m-> 1119\u001b[0m \u001b[39mreturn\u001b[39;00m \u001b[39mself\u001b[39;49m\u001b[39m.\u001b[39;49m_accessor\u001b[39m.\u001b[39;49mopen(\u001b[39mself\u001b[39;49m, mode, buffering, encoding, errors,\n\u001b[1;32m   1120\u001b[0m                            newline)\n",
      "\u001b[0;31mFileNotFoundError\u001b[0m: [Errno 2] No such file or directory: '/workspaces/prjs/bandgapReferenceCircuit/tests/tran/simulation/tsmc_bandgap_real_27degc_vbg.raw'"
     ]
    }
   ],
   "source": [
    "from spyci import spyci as s\n",
    "\n",
    "tran1 = s.load_raw(\"tests/tran/simulation/tsmc_bandgap_real_27degc_vbg.raw\")\n",
    "tran2 = s.load_raw(\"tests/tran/simulation/tsmc_bandgap_real_0degc_vbg.raw\")\n",
    "tran3 = s.load_raw(\"tests/tran/simulation/tsmc_bandgap_real_70degc_vbg.raw\")\n",
    "\n",
    "vbg0 = tran2[\"v(vbg)\"][0]"
   ]
  },
  {
   "attachments": {},
   "cell_type": "markdown",
   "metadata": {},
   "source": [
    "# Setup Appendix\n",
    "This section provides more detail of our EDA setup.\n",
    "\n",
    "### Jupyter setup\n",
    "Our jupyter session requires the .env to include our EDA tools on the $PATH since the .bashrc isn't ran as part of the Jupyter Kernel's environment."
   ]
  }
 ],
 "metadata": {
  "kernelspec": {
   "display_name": "bandgap",
   "language": "python",
   "name": "python3"
  },
  "language_info": {
   "codemirror_mode": {
    "name": "ipython",
    "version": 3
   },
   "file_extension": ".py",
   "mimetype": "text/x-python",
   "name": "python",
   "nbconvert_exporter": "python",
   "pygments_lexer": "ipython3",
   "version": "3.10.10"
  },
  "orig_nbformat": 4
 },
 "nbformat": 4,
 "nbformat_minor": 2
}
