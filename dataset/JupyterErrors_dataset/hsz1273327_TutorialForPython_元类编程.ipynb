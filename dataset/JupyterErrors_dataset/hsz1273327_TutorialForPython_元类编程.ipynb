{
 "cells": [
  {
   "cell_type": "markdown",
   "metadata": {},
   "source": [
    "# 元类编程\n",
    "\n",
    "元类是产生类的类,元类编程是一种使用这一特性,通过定制元类实现元编程的方法.也是python中最\"正统\"的元编程方式\n",
    "\n",
    "本节需要的先验知识有:\n",
    "\n",
    "+ [面向对象惯用法](/语法篇/面向对象惯用法/)\n",
    "+ [属性描述符](/语法篇/元编程/特性与描述符.html)"
   ]
  },
  {
   "cell_type": "markdown",
   "metadata": {
    "collapsed": true
   },
   "source": [
    "## type--类工厂\n",
    "\n",
    "有时,我觉得应该有类似`nametuple`的工厂函数,用于创建可变对象.假设我在编写一个宠物店应用程序,我想把狗的数据当作简单的记录处理.编写下面的样板代码让人厌烦:"
   ]
  },
  {
   "cell_type": "code",
   "execution_count": 1,
   "metadata": {
    "collapsed": true
   },
   "outputs": [],
   "source": [
    "class Dog:\n",
    "    def __init__(self, name, weight, owner):\n",
    "        self.name = name\n",
    "        self.weight = weight\n",
    "        self.owner = owner"
   ]
  },
  {
   "cell_type": "code",
   "execution_count": 2,
   "metadata": {},
   "outputs": [
    {
     "data": {
      "text/plain": [
       "<__main__.Dog at 0x4d11a58>"
      ]
     },
     "execution_count": 2,
     "metadata": {},
     "output_type": "execute_result"
    }
   ],
   "source": [
    "rex = Dog('Rex', 30, 'Bob')\n",
    "rex"
   ]
  },
  {
   "cell_type": "markdown",
   "metadata": {},
   "source": [
    "各个字段名称出现了三次.写了这么多样板代码,甚至字符串表示形式都不友好.\n",
    "\n",
    "参考`namedtuple`,下面我们创建一个`record_factory`函数,即时创建简单的类"
   ]
  },
  {
   "cell_type": "code",
   "execution_count": 3,
   "metadata": {},
   "outputs": [],
   "source": [
    "def record_factory(cls_name, field_names):\n",
    "    try:\n",
    "        field_names = field_names.replace(',', ' ').split()\n",
    "    except AttributeError: # 不能调用.replace或.split方法\n",
    "        pass # 假定field_names本就是标识符组成的序列\n",
    "    field_names = tuple(field_names) \n",
    "    \n",
    "    def __init__(self, *args, **kwargs): \n",
    "        attrs = dict(zip(self.__slots__, args))\n",
    "        attrs.update(kwargs)\n",
    "        for name, value in attrs.items():\n",
    "            setattr(self, name, value)\n",
    "    \n",
    "    def __iter__(self): \n",
    "        for name in self.__slots__:\n",
    "            yield getattr(self, name)\n",
    "    def __repr__(self): \n",
    "        values = ', '.join('{}={!r}'.format(*i) for i in zip(self.__slots__, self))\n",
    "        return '{}({})'.format(self.__class__.__name__, values)\n",
    "    \n",
    "    cls_attrs = dict(__slots__ = field_names, __init__ = __init__,__iter__ = __iter__,__repr__ = __repr__)\n",
    "    return type(cls_name, (object,), cls_attrs)"
   ]
  },
  {
   "cell_type": "code",
   "execution_count": 4,
   "metadata": {
    "collapsed": true
   },
   "outputs": [],
   "source": [
    "Cat = record_factory('Cat', 'name weight owner') "
   ]
  },
  {
   "cell_type": "code",
   "execution_count": 5,
   "metadata": {},
   "outputs": [
    {
     "data": {
      "text/plain": [
       "Cat(name='Rex', weight=30, owner='Bob')"
      ]
     },
     "execution_count": 5,
     "metadata": {},
     "output_type": "execute_result"
    }
   ],
   "source": [
    "rex = Cat('Rex', 30, 'Bob')\n",
    "rex"
   ]
  },
  {
   "cell_type": "code",
   "execution_count": 6,
   "metadata": {
    "collapsed": true
   },
   "outputs": [],
   "source": []
  },
  {
   "cell_type": "code",
   "execution_count": 7,
   "metadata": {},
   "outputs": [
    {
     "data": {
      "text/plain": [
       "('Rex', 30)"
      ]
     },
     "execution_count": 7,
     "metadata": {},
     "output_type": "execute_result"
    }
   ],
   "source": [
    "name, weight, _ = rex\n",
    "name, weight"
   ]
  },
  {
   "cell_type": "code",
   "execution_count": 8,
   "metadata": {},
   "outputs": [
    {
     "data": {
      "text/plain": [
       "\"Bob's dog weighs 30kg\""
      ]
     },
     "execution_count": 8,
     "metadata": {},
     "output_type": "execute_result"
    }
   ],
   "source": [
    "\"{2}'s dog weighs {1}kg\".format(*rex)"
   ]
  },
  {
   "cell_type": "code",
   "execution_count": 9,
   "metadata": {},
   "outputs": [
    {
     "data": {
      "text/plain": [
       "Cat(name='Rex', weight=32, owner='Bob')"
      ]
     },
     "execution_count": 9,
     "metadata": {},
     "output_type": "execute_result"
    }
   ],
   "source": [
    "rex.weight = 32\n",
    "rex"
   ]
  },
  {
   "cell_type": "code",
   "execution_count": 10,
   "metadata": {},
   "outputs": [
    {
     "data": {
      "text/plain": [
       "(__main__.Cat, object)"
      ]
     },
     "execution_count": 10,
     "metadata": {},
     "output_type": "execute_result"
    }
   ],
   "source": [
    "Cat.__mro__"
   ]
  },
  {
   "cell_type": "markdown",
   "metadata": {},
   "source": [
    "可以看出上面的工厂函数核心就在于`type()`的使用.通常,我们把`type`视作函数,因为我们像函数那样使用它,例如,调用`type(my_object)`\n",
    "获取对象所属的类——作用与`my_object.__class__`相同.\n",
    "\n",
    "然而,`type`是一个类.当成类使用时,传入三个参数可以新建一个类:\n",
    "\n",
    "```python\n",
    "MyClass = type('MyClass', (MySuperClass, MyMixin),{'x': 42, 'x2': lambda self: self.x * 2})\n",
    "```\n",
    "\n",
    "type的三个参数分别是`name`、`bases` 和`dict`.最后一个参数是一个映射,指定新类的属性名和值."
   ]
  },
  {
   "cell_type": "markdown",
   "metadata": {},
   "source": [
    "## 元类\n",
    "\n",
    "元类是制造类的工厂,不过不是函数而是类.\n",
    "\n",
    "根据Python对象模型,类是对象,因此类肯定是另外某个类的实例.默认情况下,Python中的类是type类的实例.也就是说,type是大多数内置的类和用户定义的类的元类."
   ]
  },
  {
   "cell_type": "code",
   "execution_count": 11,
   "metadata": {},
   "outputs": [
    {
     "data": {
      "text/plain": [
       "str"
      ]
     },
     "execution_count": 11,
     "metadata": {},
     "output_type": "execute_result"
    }
   ],
   "source": [
    "'spam'.__class__"
   ]
  },
  {
   "cell_type": "code",
   "execution_count": 12,
   "metadata": {},
   "outputs": [
    {
     "data": {
      "text/plain": [
       "type"
      ]
     },
     "execution_count": 12,
     "metadata": {},
     "output_type": "execute_result"
    }
   ],
   "source": [
    "str.__class__"
   ]
  },
  {
   "cell_type": "code",
   "execution_count": 13,
   "metadata": {},
   "outputs": [
    {
     "data": {
      "text/plain": [
       "type"
      ]
     },
     "execution_count": 13,
     "metadata": {},
     "output_type": "execute_result"
    }
   ],
   "source": [
    "type.__class__"
   ]
  },
  {
   "cell_type": "markdown",
   "metadata": {},
   "source": [
    "为了避免无限回溯,type 是其自身的实例,如最后一行所示.\n",
    "\n",
    "\n",
    "注意，我没有说str或其他对象继承自type.我的意思是,str和其他对象是type的实例.这两个类是object的子类.下图是他们的关系\n",
    "\n",
    "![](source/type.PNG)\n",
    "\n",
    "两个示意图都是正确的.左边的示意图强调`str`、`type` 和`LineItem` 是`object` 的子类.右边的示意图则清楚地表明`str`、`object` 和`LineItem`是`type`的实例.因为它们都是类."
   ]
  },
  {
   "cell_type": "markdown",
   "metadata": {},
   "source": [
    "除了type,标准库中还有一些别的元类.例如`ABCMeta`和`Enum`.如下述代码片段所示,`collections.Iterable` 所属的类是`abc.ABCMeta`.`Iterable`是抽象类,而`ABCMeta`不是--不管怎样,`Iterable`是`ABCMeta`的实例."
   ]
  },
  {
   "cell_type": "code",
   "execution_count": 14,
   "metadata": {
    "collapsed": true
   },
   "outputs": [],
   "source": [
    "import collections\n",
    "collections.Iterable.__class__"
   ]
  },
  {
   "cell_type": "code",
   "execution_count": 16,
   "metadata": {
    "collapsed": true
   },
   "outputs": [],
   "source": [
    "import abc\n",
    "abc.ABCMeta.__class__"
   ]
  },
  {
   "cell_type": "code",
   "execution_count": 18,
   "metadata": {},
   "outputs": [
    {
     "data": {
      "text/plain": [
       "(abc.ABCMeta, type, object)"
      ]
     },
     "execution_count": 18,
     "metadata": {},
     "output_type": "execute_result"
    }
   ],
   "source": [
    "abc.ABCMeta.__mro__"
   ]
  },
  {
   "cell_type": "markdown",
   "metadata": {},
   "source": [
    "向上追溯,`ABCMeta`最终所属的类也是`type`.所有类都直接或间接地是`type`的实例,不过只有元类同时也是`type`的子类.若想理解元类,一定要知道这种关系:元类(如`ABCMeta`)从`type`类继承了构建类的能力.\n",
    "\n",
    "![](source/abc.PNG)\n",
    "\n",
    "我们要抓住的重点是,所有类都是type的实例,但是元类还是`type`的子类,因此可以作为制造类的工厂.具体来说,元类可以通过实现`__init__`方法定制实例.元类的`__init__`方法可以做到类装饰器能做的任何事情,但是作用更大."
   ]
  },
  {
   "cell_type": "code",
   "execution_count": 19,
   "metadata": {},
   "outputs": [
    {
     "name": "stdout",
     "output_type": "stream",
     "text": [
      "Overwriting evaltime_meta.py\n"
     ]
    }
   ],
   "source": [
    "%%writefile evaltime_meta.py\n",
    "from evalsupport import deco_alpha\n",
    "from evalsupport import MetaAleph\n",
    "print('<[1]> evaltime_meta module start')\n",
    "\n",
    "@deco_alpha\n",
    "class ClassThree():\n",
    "    print('<[2]> ClassThree body')\n",
    "    def method_y(self):\n",
    "        print('<[3]> ClassThree.method_y')\n",
    "        \n",
    "class ClassFour(ClassThree):\n",
    "    print('<[4]> ClassFour body')\n",
    "    def method_y(self):\n",
    "        print('<[5]> ClassFour.method_y')\n",
    "class ClassFive(metaclass=MetaAleph):\n",
    "    print('<[6]> ClassFive body')\n",
    "    def __init__(self):\n",
    "        print('<[7]> ClassFive.__init__')\n",
    "    def method_z(self):\n",
    "        print('<[8]> ClassFive.method_z')\n",
    "class ClassSix(ClassFive):\n",
    "    print('<[9]> ClassSix body')\n",
    "    def method_z(self):\n",
    "        print('<[10]> ClassSix.method_z')\n",
    "        \n",
    "if __name__ == '__main__':\n",
    "    print('<[11]> ClassThree tests', 30 * '.')\n",
    "    three = ClassThree()\n",
    "    three.method_y()\n",
    "    print('<[12]> ClassFour tests', 30 * '.')\n",
    "    four = ClassFour()\n",
    "    four.method_y()\n",
    "    print('<[13]> ClassFive tests', 30 * '.')\n",
    "    five = ClassFive()\n",
    "    five.method_z()\n",
    "    print('<[14]> ClassSix tests', 30 * '.')\n",
    "    six = ClassSix()\n",
    "    six.method_z()\n",
    "print('<[15]> evaltime_meta module end')"
   ]
  },
  {
   "cell_type": "code",
   "execution_count": 20,
   "metadata": {},
   "outputs": [
    {
     "name": "stdout",
     "output_type": "stream",
     "text": [
      "<[100]> evalsupport module start\n",
      "<[400]> MetaAleph body\n",
      "<[700]> evalsupport module end\n",
      "<[1]> evaltime_meta module start\n",
      "<[2]> ClassThree body\n",
      "<[200]> deco_alpha\n",
      "<[4]> ClassFour body\n",
      "<[6]> ClassFive body\n",
      "<[500]> MetaAleph.__init__\n",
      "<[9]> ClassSix body\n",
      "<[500]> MetaAleph.__init__\n",
      "<[15]> evaltime_meta module end\n"
     ]
    }
   ],
   "source": [
    "import evaltime_meta"
   ]
  },
  {
   "cell_type": "code",
   "execution_count": 21,
   "metadata": {},
   "outputs": [
    {
     "name": "stdout",
     "output_type": "stream",
     "text": [
      "<[100]> evalsupport module start\n",
      "<[400]> MetaAleph body\n",
      "<[700]> evalsupport module end\n",
      "<[1]> evaltime_meta module start\n",
      "<[2]> ClassThree body\n",
      "<[200]> deco_alpha\n",
      "<[4]> ClassFour body\n",
      "<[6]> ClassFive body\n",
      "<[500]> MetaAleph.__init__\n",
      "<[9]> ClassSix body\n",
      "<[500]> MetaAleph.__init__\n",
      "<[11]> ClassThree tests ..............................\n",
      "<[300]> deco_alpha:inner_1\n",
      "<[12]> ClassFour tests ..............................\n",
      "<[5]> ClassFour.method_y\n",
      "<[13]> ClassFive tests ..............................\n",
      "<[7]> ClassFive.__init__\n",
      "<[600]> MetaAleph.__init__:inner_2\n",
      "<[14]> ClassSix tests ..............................\n",
      "<[7]> ClassFive.__init__\n",
      "<[600]> MetaAleph.__init__:inner_2\n",
      "<[15]> evaltime_meta module end\n"
     ]
    }
   ],
   "source": [
    "!python evaltime_meta.py"
   ]
  },
  {
   "cell_type": "markdown",
   "metadata": {},
   "source": [
    "## 元类的定义和使用:\n",
    "    \n",
    "元类继承自`type`,行为通过实现\n",
    "\n",
    "+ `__new__(meta,name,bases,class_dict)`\n",
    "    \n",
    "    类似于类中的`__new__`,用于定义元类的创建行为\n",
    "    \n",
    "+ `__init__(cls, name, bases,attr_dict)`\n",
    "\n",
    "    类似于类中的`__init__`,用于初始化元类,通过元类产生类时会用到.\n",
    "    \n",
    "+ `__call__(cls)`\n",
    "\n",
    "    定义类实例化时的行为.\n",
    "    \n",
    "+ 类方法`__prepare__(meta, name, bases)`\n",
    "    \n",
    "    解释器调用元类的`__new__` 方法之前会先调用`__prepare__` 方法,使用类定义体中的属性创建映射.`__prepare__` 方法的第一个参数是元类,随后两个参数分别是要构建的类的名称和基类组成的元组,返回值必须是映射.元类构建新类时,`__prepare__ `方法返回的映射会传给`__new__` 方法的最后一个参数,然后再传给`__init__` 方法.\n",
    "\n",
    "\n",
    "使用元类的类实例化产出类的顺序是:\n",
    "\n",
    "1. `meta.__prepare__`\n",
    "2. `meta.__new__`\n",
    "3. `meta.__init__`\n",
    "\n",
    "类实例化对象的顺序是:\n",
    "\n",
    "1. `clz.__call__`\n",
    "2. `clz.__new__`\n",
    "3. `clz.__init__`"
   ]
  },
  {
   "cell_type": "code",
   "execution_count": 22,
   "metadata": {
    "collapsed": true
   },
   "outputs": [],
   "source": [
    "class meta_A(type):\n",
    "    def __call__(clz,*args, **kwargs):\n",
    "        print(\"clz.call\")\n",
    "        return super().__call__(*args, **kwargs)\n",
    "    def __new__(meta,name,bases,class_dict):\n",
    "        print(\"meta.new\")\n",
    "        return type.__new__(meta,name,bases,class_dict)\n",
    "    def __init__(cls, name, bases,attr_dict):\n",
    "        print(\"meta.init\")\n",
    "        super().__init__(name, bases,attr_dict)\n",
    "    @classmethod\n",
    "    def __prepare__(meta, name, bases):\n",
    "        print('meta.prepare')\n",
    "        return dict()"
   ]
  },
  {
   "cell_type": "code",
   "execution_count": 23,
   "metadata": {},
   "outputs": [
    {
     "name": "stdout",
     "output_type": "stream",
     "text": [
      "meta.prepare\n",
      "meta.new\n",
      "meta.init\n"
     ]
    }
   ],
   "source": [
    "class A(metaclass = meta_A):\n",
    "    def __new__(cls,*args, **kwargs):\n",
    "        print('clz.new')\n",
    "        return super().__new__(cls)\n",
    "    def __init__(self,name):\n",
    "        self.name=name\n",
    "        print('clz.init')"
   ]
  },
  {
   "cell_type": "code",
   "execution_count": 24,
   "metadata": {},
   "outputs": [
    {
     "name": "stdout",
     "output_type": "stream",
     "text": [
      "clz.call\n",
      "clz.new\n",
      "clz.init\n"
     ]
    }
   ],
   "source": [
    "a = A(\"qw\")"
   ]
  },
  {
   "cell_type": "code",
   "execution_count": 25,
   "metadata": {},
   "outputs": [
    {
     "data": {
      "text/plain": [
       "'qw'"
      ]
     },
     "execution_count": 25,
     "metadata": {},
     "output_type": "execute_result"
    }
   ],
   "source": [
    "a.name"
   ]
  },
  {
   "cell_type": "markdown",
   "metadata": {
    "collapsed": true
   },
   "source": [
    "## 元类的基本用途\n",
    "\n",
    "一般来说能不用元类就别用元类,或者说元编程的部分都是这个原则,能不用就别用,但很多时候为了实现一些特殊功能我们不得不用元类来实现"
   ]
  },
  {
   "cell_type": "markdown",
   "metadata": {},
   "source": [
    "### 用来验证子类\n",
    "\n",
    "元类的最简单用途就是用来验证其子类是否定义正确.构建复杂类体系时我们可能需要确保类风格一致,确保某些方法得到了覆写,或者确保类属性之间具有某些严格的关系.\n",
    "\n",
    "元类提供了一种可靠的验证方式,每当开发者定义新类时,他会运行验证代码,确保符合规定.\n",
    "\n",
    "实现这个功能并非必须使用元类,可以在`__init__`中写验证代码,在类初始化的时候验证,但如果想构建的时候就验证,那就需要使用元类了.\n",
    "\n",
    "例: 确保类及其子类定义的图形边数大于3:"
   ]
  },
  {
   "cell_type": "code",
   "execution_count": 26,
   "metadata": {
    "collapsed": true
   },
   "outputs": [],
   "source": [
    "class ValidatePolygon(type):\n",
    "    def __new__(meta,name,bases,class_dict):\n",
    "        if bases != (object):\n",
    "            if class_dict['sides'] is not None and class_dict['sides'] < 3:\n",
    "                raise ValueError('Polygons need 3+ sides')\n",
    "        return type.__new__(meta,name,bases,class_dict)"
   ]
  },
  {
   "cell_type": "code",
   "execution_count": 27,
   "metadata": {},
   "outputs": [],
   "source": [
    "class Polygon(metaclass=ValidatePolygon):\n",
    "    sides = None\n",
    "    @classmethod\n",
    "    def interior_angles(cls):\n",
    "        return (cls.sides-2) * 180\n",
    "    \n",
    "class Triangle(Polygon):\n",
    "    sides = 3"
   ]
  },
  {
   "cell_type": "code",
   "execution_count": 28,
   "metadata": {},
   "outputs": [
    {
     "name": "stdout",
     "output_type": "stream",
     "text": [
      "before sides\n",
      "after sides\n"
     ]
    },
    {
     "ename": "ValueError",
     "evalue": "Polygons need 3+ sides",
     "output_type": "error",
     "traceback": [
      "\u001b[0;31m---------------------------------------------------------------------------\u001b[0m",
      "\u001b[0;31mValueError\u001b[0m                                Traceback (most recent call last)",
      "\u001b[0;32m<ipython-input-28-e20553cfa6ed>\u001b[0m in \u001b[0;36m<module>\u001b[0;34m()\u001b[0m\n\u001b[0;32m----> 1\u001b[0;31m \u001b[1;32mclass\u001b[0m \u001b[0mLine\u001b[0m\u001b[1;33m(\u001b[0m\u001b[0mPolygon\u001b[0m\u001b[1;33m)\u001b[0m\u001b[1;33m:\u001b[0m\u001b[1;33m\u001b[0m\u001b[0m\n\u001b[0m\u001b[1;32m      2\u001b[0m     \u001b[0mprint\u001b[0m\u001b[1;33m(\u001b[0m\u001b[1;34m\"before sides\"\u001b[0m\u001b[1;33m)\u001b[0m\u001b[1;33m\u001b[0m\u001b[0m\n\u001b[1;32m      3\u001b[0m     \u001b[0msides\u001b[0m \u001b[1;33m=\u001b[0m \u001b[1;36m1\u001b[0m\u001b[1;33m\u001b[0m\u001b[0m\n\u001b[1;32m      4\u001b[0m     \u001b[0mprint\u001b[0m\u001b[1;33m(\u001b[0m\u001b[1;34m\"after sides\"\u001b[0m\u001b[1;33m)\u001b[0m\u001b[1;33m\u001b[0m\u001b[0m\n",
      "\u001b[0;32m<ipython-input-26-e69e16a4cd97>\u001b[0m in \u001b[0;36m__new__\u001b[0;34m(meta, name, bases, class_dict)\u001b[0m\n\u001b[1;32m      3\u001b[0m         \u001b[1;32mif\u001b[0m \u001b[0mbases\u001b[0m \u001b[1;33m!=\u001b[0m \u001b[1;33m(\u001b[0m\u001b[0mobject\u001b[0m\u001b[1;33m)\u001b[0m\u001b[1;33m:\u001b[0m\u001b[1;33m\u001b[0m\u001b[0m\n\u001b[1;32m      4\u001b[0m             \u001b[1;32mif\u001b[0m \u001b[0mclass_dict\u001b[0m\u001b[1;33m[\u001b[0m\u001b[1;34m'sides'\u001b[0m\u001b[1;33m]\u001b[0m \u001b[1;32mis\u001b[0m \u001b[1;32mnot\u001b[0m \u001b[1;32mNone\u001b[0m \u001b[1;32mand\u001b[0m \u001b[0mclass_dict\u001b[0m\u001b[1;33m[\u001b[0m\u001b[1;34m'sides'\u001b[0m\u001b[1;33m]\u001b[0m \u001b[1;33m<\u001b[0m \u001b[1;36m3\u001b[0m\u001b[1;33m:\u001b[0m\u001b[1;33m\u001b[0m\u001b[0m\n\u001b[0;32m----> 5\u001b[0;31m                 \u001b[1;32mraise\u001b[0m \u001b[0mValueError\u001b[0m\u001b[1;33m(\u001b[0m\u001b[1;34m'Polygons need 3+ sides'\u001b[0m\u001b[1;33m)\u001b[0m\u001b[1;33m\u001b[0m\u001b[0m\n\u001b[0m\u001b[1;32m      6\u001b[0m         \u001b[1;32mreturn\u001b[0m \u001b[0mtype\u001b[0m\u001b[1;33m.\u001b[0m\u001b[0m__new__\u001b[0m\u001b[1;33m(\u001b[0m\u001b[0mmeta\u001b[0m\u001b[1;33m,\u001b[0m\u001b[0mname\u001b[0m\u001b[1;33m,\u001b[0m\u001b[0mbases\u001b[0m\u001b[1;33m,\u001b[0m\u001b[0mclass_dict\u001b[0m\u001b[1;33m)\u001b[0m\u001b[1;33m\u001b[0m\u001b[0m\n",
      "\u001b[0;31mValueError\u001b[0m: Polygons need 3+ sides"
     ]
    }
   ],
   "source": [
    "class Line(Polygon):\n",
    "    print(\"before sides\")\n",
    "    sides = 1\n",
    "    print(\"after sides\")"
   ]
  },
  {
   "cell_type": "markdown",
   "metadata": {},
   "source": [
    "### 用来注册子类\n",
    "\n",
    "元类的另一个用途是在程序中自动注册类型,对于需要反向查找(reverse lookup)的场合会有用.它使我们可以在简单的标识符与对应的类之间建立映射.\n",
    "\n",
    "例: 我们希望使用下面的这个类将python对象表示为json格式的序列化数据.但同时我们希望可以反序列化,这就要用到元类了."
   ]
  },
  {
   "cell_type": "code",
   "execution_count": 29,
   "metadata": {
    "collapsed": true
   },
   "outputs": [],
   "source": [
    "import json\n",
    "registry = {}\n",
    "def register_class(target):\n",
    "    registry[target.__name__] = target\n",
    "    \n",
    "def deserialize(data):\n",
    "    params = json.loads(data)\n",
    "    name = params[\"class\"]\n",
    "    target_class = registry[name]\n",
    "    return target_class(*params[\"args\"])\n",
    "class Meta(type):\n",
    "    def __new__(meta,name,bases,class_dict):\n",
    "        cls = type.__new__(meta,name,bases,class_dict)\n",
    "        register_class(cls)\n",
    "        return cls\n",
    "class Serializable:\n",
    "    def __init__(self,*args):\n",
    "        self.args = args\n",
    "    def serialize(self):\n",
    "        return json.dumps({\n",
    "            'class':self.__class__.__name__,\n",
    "            'args':self.args,\n",
    "        })\n",
    "class RegisterSerializable(Serializable,metaclass = Meta):\n",
    "    pass"
   ]
  },
  {
   "cell_type": "code",
   "execution_count": 30,
   "metadata": {
    "collapsed": true
   },
   "outputs": [],
   "source": [
    "class Vector3D(RegisterSerializable):\n",
    "    def __init__(self,x,y,z):\n",
    "        super().__init__(x,y,z)\n",
    "        self.x,self.y,self.z = x,y,z"
   ]
  },
  {
   "cell_type": "code",
   "execution_count": 31,
   "metadata": {
    "collapsed": true
   },
   "outputs": [],
   "source": [
    "v3 = Vector3D(10,-7,3)"
   ]
  },
  {
   "cell_type": "code",
   "execution_count": 32,
   "metadata": {},
   "outputs": [
    {
     "data": {
      "text/plain": [
       "'{\"class\": \"Vector3D\", \"args\": [10, -7, 3]}'"
      ]
     },
     "execution_count": 32,
     "metadata": {},
     "output_type": "execute_result"
    }
   ],
   "source": [
    "v3.serialize()"
   ]
  },
  {
   "cell_type": "code",
   "execution_count": 33,
   "metadata": {
    "collapsed": true
   },
   "outputs": [],
   "source": [
    "v = deserialize(v3.serialize())"
   ]
  },
  {
   "cell_type": "code",
   "execution_count": 34,
   "metadata": {},
   "outputs": [
    {
     "data": {
      "text/plain": [
       "(10, -7, 3)"
      ]
     },
     "execution_count": 34,
     "metadata": {},
     "output_type": "execute_result"
    }
   ],
   "source": [
    "v.args"
   ]
  },
  {
   "cell_type": "markdown",
   "metadata": {},
   "source": [
    "### 用来与描述符结合使用注解属性\n",
    "\n",
    "用来解决`LineItem`倒数第二版问题的另一个方法就是使用元类"
   ]
  },
  {
   "cell_type": "code",
   "execution_count": 35,
   "metadata": {
    "collapsed": true
   },
   "outputs": [],
   "source": [
    "import abc\n",
    "class AutoStorage:\n",
    "    __counter = 0\n",
    "    def __init__(self):\n",
    "        cls = self.__class__\n",
    "        prefix = cls.__name__\n",
    "        index = cls.__counter\n",
    "        self.storage_name = '_{}#{}'.format(prefix, index)\n",
    "        cls.__counter += 1\n",
    "    def __get__(self, instance, owner):\n",
    "        if instance is None:\n",
    "            return self\n",
    "        else:\n",
    "            return getattr(instance, self.storage_name)\n",
    "    def __set__(self, instance, value):\n",
    "        setattr(instance, self.storage_name, value)\n",
    "        \n",
    "    def __set_name__(self, owner, name):\n",
    "        self.name = name\n",
    "class Validated(abc.ABC, AutoStorage): \n",
    "    def __set__(self, instance, value):\n",
    "        value = self.validate(instance, value)\n",
    "        super().__set__(instance, value)\n",
    "    @abc.abstractmethod\n",
    "    def validate(self, instance, value):\n",
    "        \"\"\"return validated value or raise ValueError\"\"\"\n",
    "        pass\n",
    "class Quantity(Validated): \n",
    "    \"\"\"a number greater than zero\"\"\"\n",
    "    def validate(self, instance, value):\n",
    "        if value <= 0:\n",
    "            raise ValueError('value must be > 0')\n",
    "        return value\n",
    "    \n",
    "class NonBlank(Validated):\n",
    "    def validate(self, instance, value):\n",
    "        value = value.strip()\n",
    "        if len(value) == 0:\n",
    "            raise ValueError('value cannot be empty or blank')\n",
    "        return value"
   ]
  },
  {
   "cell_type": "code",
   "execution_count": 36,
   "metadata": {},
   "outputs": [],
   "source": [
    "class EntityMeta(type):\n",
    "    \"\"\"元类，用于创建带有验证字段的业务实体\"\"\"\n",
    "    def __init__(cls, name, bases, attr_dict):\n",
    "        super().__init__(name, bases, attr_dict) \n",
    "        for key, attr in attr_dict.items():\n",
    "            if isinstance(attr, Validated):\n",
    "                type_name = type(attr).__name__\n",
    "                attr.storage_name = '_{}#{}'.format(type_name, key)\n",
    "                \n",
    "class Entity(metaclass=EntityMeta):\n",
    "    \"\"\"带有验证字段的业务实体\"\"\"\n",
    "    "
   ]
  },
  {
   "cell_type": "markdown",
   "metadata": {},
   "source": [
    "用户级别的代码只需继承`Entity`类,`Validated` 字段就能自动获得储存属性的名称."
   ]
  },
  {
   "cell_type": "code",
   "execution_count": 37,
   "metadata": {
    "collapsed": true
   },
   "outputs": [],
   "source": [
    "class LineItem(Entity):\n",
    "    description = NonBlank()\n",
    "    weight = Quantity()\n",
    "    price = Quantity()\n",
    "    def __init__(self, description, weight, price):\n",
    "        self.description = description\n",
    "        self.weight = weight\n",
    "        self.price = price\n",
    "    def subtotal(self):\n",
    "        return self.weight * self.price"
   ]
  },
  {
   "cell_type": "code",
   "execution_count": 38,
   "metadata": {},
   "outputs": [
    {
     "data": {
      "text/plain": [
       "['_NonBlank#description', '_Quantity#price', '_Quantity#weight']"
      ]
     },
     "execution_count": 38,
     "metadata": {},
     "output_type": "execute_result"
    }
   ],
   "source": [
    "raisins = LineItem('Golden raisins', 10, 6.95)\n",
    "dir(raisins)[:3]"
   ]
  },
  {
   "cell_type": "code",
   "execution_count": 39,
   "metadata": {},
   "outputs": [
    {
     "data": {
      "text/plain": [
       "'_NonBlank#description'"
      ]
     },
     "execution_count": 39,
     "metadata": {},
     "output_type": "execute_result"
    }
   ],
   "source": [
    "LineItem.description.storage_name"
   ]
  },
  {
   "cell_type": "markdown",
   "metadata": {},
   "source": [
    "如前所述`type`构造方法及元类的`__new__ `和`__init__` 方法都会收到要计算的类的定义体,形式是名称到属性的映像.然而在默认情况下,那个映射是字典;也就是说元类或类装饰器获得映射时,属性在类定义体中的顺序已经丢失了.\n",
    "\n",
    "这个问题的解决办法是,使用Python3引入的特殊方法`__prepare__`.解释器调用元类的`__new__` 方法之前会先调用`__prepare__`方法，使用类定义体中的属性创建映射.\n",
    "\n",
    "`__prepare__`方法的第一个参数是元类,随后两个参数分别是要构建的类的名称和基类组成的元组,返回值必须是映射.\n",
    "\n",
    "元类构建新类时,`__prepare__`方法返回的映射会传给`__new__ `方法的最后一个参数,然后再传给`__init__`方法.\n"
   ]
  },
  {
   "cell_type": "code",
   "execution_count": 40,
   "metadata": {
    "collapsed": true
   },
   "outputs": [],
   "source": [
    "import collections\n",
    "class EntityMeta(type):\n",
    "    \"\"\"元类，用于创建带有验证字段的业务实体\"\"\"\n",
    "    @classmethod\n",
    "    def __prepare__(cls, name, bases):\n",
    "        return collections.OrderedDict()\n",
    "    def __init__(cls, name, bases, attr_dict):\n",
    "        super().__init__(name, bases, attr_dict) \n",
    "        cls._field_names = []\n",
    "        for key, attr in attr_dict.items():\n",
    "            if isinstance(attr, Validated):\n",
    "                type_name = type(attr).__name__\n",
    "                attr.storage_name = '_{}#{}'.format(type_name, key)\n",
    "                cls._field_names.append(key)\n",
    "                \n",
    "class Entity(metaclass=EntityMeta):\n",
    "    \"\"\"带有验证字段的业务实体\"\"\"\n",
    "    @classmethod\n",
    "    def field_names(cls):\n",
    "        for name in cls._field_names:\n",
    "            yield name"
   ]
  },
  {
   "cell_type": "code",
   "execution_count": 41,
   "metadata": {
    "collapsed": true
   },
   "outputs": [],
   "source": [
    "class LineItem(Entity):\n",
    "    description = NonBlank()\n",
    "    weight = Quantity()\n",
    "    price = Quantity()\n",
    "    def __init__(self, description, weight, price):\n",
    "        self.description = description\n",
    "        self.weight = weight\n",
    "        self.price = price\n",
    "    def subtotal(self):\n",
    "        return self.weight * self.price"
   ]
  },
  {
   "cell_type": "code",
   "execution_count": 42,
   "metadata": {},
   "outputs": [
    {
     "name": "stdout",
     "output_type": "stream",
     "text": [
      "description\n",
      "weight\n",
      "price\n"
     ]
    }
   ],
   "source": [
    "for name in LineItem.field_names():\n",
    "    print(name)"
   ]
  }
 ],
 "metadata": {
  "kernelspec": {
   "display_name": "Python 3",
   "language": "python",
   "name": "python3"
  },
  "language_info": {
   "codemirror_mode": {
    "name": "ipython",
    "version": 3
   },
   "file_extension": ".py",
   "mimetype": "text/x-python",
   "name": "python",
   "nbconvert_exporter": "python",
   "pygments_lexer": "ipython3",
   "version": "3.6.4"
  }
 },
 "nbformat": 4,
 "nbformat_minor": 2
}
