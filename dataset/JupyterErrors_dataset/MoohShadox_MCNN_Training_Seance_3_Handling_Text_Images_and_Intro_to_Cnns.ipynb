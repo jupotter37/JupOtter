{
  "nbformat": 4,
  "nbformat_minor": 0,
  "metadata": {
    "colab": {
      "name": "Seance 02 : Apprentissage supervisé.ipynb",
      "provenance": [],
      "collapsed_sections": [],
      "toc_visible": true,
      "authorship_tag": "ABX9TyOLz2d9ZxHUqU2evDkt3XDI",
      "include_colab_link": true
    },
    "kernelspec": {
      "name": "python3",
      "display_name": "Python 3"
    }
  },
  "cells": [
    {
      "cell_type": "markdown",
      "metadata": {
        "id": "view-in-github",
        "colab_type": "text"
      },
      "source": [
        "<a href=\"https://colab.research.google.com/github/MoohShadox/MCNN_Training/blob/main/Seance_04_Handling_Text_Images_and_Intro_to_Cnns.ipynb\" target=\"_parent\"><img src=\"https://colab.research.google.com/assets/colab-badge.svg\" alt=\"Open In Colab\"/></a>"
      ]
    },
    {
      "cell_type": "code",
      "metadata": {
        "id": "FPr68y5qh0a-"
      },
      "source": [
        "import os\n",
        "import numpy as np\n",
        "import pandas as pd\n",
        "import torch \n",
        "import torch.nn as nn\n",
        "import matplotlib.pyplot as plt\n",
        "from torch.utils.data import DataLoader\n",
        "from torch.utils.data import TensorDataset\n",
        "import torch \n",
        "import cv2\n",
        "import re\n",
        "from torchvision import datasets, models, transforms\n",
        "import numpy as np\n",
        "from sklearn.linear_model import LogisticRegression\n",
        "from torch.utils.data import Dataset, DataLoader\n",
        "import torch.nn as nn\n",
        "import torch.nn.functional as F\n",
        "import torch \n",
        "from torchvision import datasets, models, transforms"
      ],
      "execution_count": 9,
      "outputs": []
    },
    {
      "cell_type": "code",
      "metadata": {
        "id": "2WxImws0_1IB"
      },
      "source": [
        "class DeepLogisticRegression(nn.Module):\n",
        "  def __init__(self, n_in):\n",
        "    super().__init__()\n",
        "    self.relu = nn.ReLU()\n",
        "    self.l1 = nn.Linear(n_in, 15,bias = True)\n",
        "    self.l2 = nn.Linear(15,1)\n",
        "    self.sigm = nn.Sigmoid()\n",
        "  \n",
        "  def forward(self, x):\n",
        "    x = self.l1(x)\n",
        "    x = self.relu(x)\n",
        "    x = self.l2(x)\n",
        "    torch.flatten(t, start_dim=1)"
      ],
      "execution_count": 2,
      "outputs": []
    },
    {
      "cell_type": "markdown",
      "metadata": {
        "id": "jw_5m7HhGhAU"
      },
      "source": [
        "## Cas réel 1 : Classification d'images\n",
        "\n",
        "Enfin, nous pouvons manipuler un vrai dataset, avec des vraies images\n",
        "\n",
        "J'ai essayé de choisir l'exemple le moins \"tutoriel\" possible pour qu'on puisse se heurter a toute la problématique liée a la forme du dataset.\n",
        "\n",
        "Ici le dataset a été trouvé sur cette [page](https://data.mendeley.com/datasets/4drtyfjtfy/1), j'ai copié le lien, j'ai utilisé wget et ensuite j'ai unzip successivement ce qu'il y avais a l'intérieur. "
      ]
    },
    {
      "cell_type": "code",
      "metadata": {
        "colab": {
          "base_uri": "https://localhost:8080/"
        },
        "id": "oHYlc9F_Y36_",
        "outputId": "68e82d5c-0ab7-4b6e-8fe0-50bbd0d545be"
      },
      "source": [
        "!wget https://md-datasets-cache-zipfiles-prod.s3.eu-west-1.amazonaws.com/4drtyfjtfy-1.zip"
      ],
      "execution_count": 5,
      "outputs": [
        {
          "output_type": "stream",
          "text": [
            "--2021-02-05 12:53:20--  https://md-datasets-cache-zipfiles-prod.s3.eu-west-1.amazonaws.com/4drtyfjtfy-1.zip\n",
            "Resolving md-datasets-cache-zipfiles-prod.s3.eu-west-1.amazonaws.com (md-datasets-cache-zipfiles-prod.s3.eu-west-1.amazonaws.com)... 52.218.36.147\n",
            "Connecting to md-datasets-cache-zipfiles-prod.s3.eu-west-1.amazonaws.com (md-datasets-cache-zipfiles-prod.s3.eu-west-1.amazonaws.com)|52.218.36.147|:443... connected.\n",
            "HTTP request sent, awaiting response... 200 OK\n",
            "Length: 95592747 (91M) [application/octet-stream]\n",
            "Saving to: ‘4drtyfjtfy-1.zip’\n",
            "\n",
            "4drtyfjtfy-1.zip    100%[===================>]  91.16M  21.5MB/s    in 5.0s    \n",
            "\n",
            "2021-02-05 12:53:26 (18.3 MB/s) - ‘4drtyfjtfy-1.zip’ saved [95592747/95592747]\n",
            "\n"
          ],
          "name": "stdout"
        }
      ]
    },
    {
      "cell_type": "code",
      "metadata": {
        "colab": {
          "base_uri": "https://localhost:8080/"
        },
        "id": "3Xl7yMV8Y7Sz",
        "outputId": "8b3987b4-76da-4d8b-bdfa-0958030d907b"
      },
      "source": [
        "!unzip 4drtyfjtfy-1.zip"
      ],
      "execution_count": 6,
      "outputs": [
        {
          "output_type": "stream",
          "text": [
            "Archive:  4drtyfjtfy-1.zip\n",
            "  inflating: dataset2.zip            \n"
          ],
          "name": "stdout"
        }
      ]
    },
    {
      "cell_type": "code",
      "metadata": {
        "colab": {
          "base_uri": "https://localhost:8080/"
        },
        "id": "uyOBqilYZCLo",
        "outputId": "bdaa178b-bcfc-4f51-f309-953caf1e0bdf"
      },
      "source": [
        "!unzip dataset2.zip"
      ],
      "execution_count": 7,
      "outputs": [
        {
          "output_type": "stream",
          "text": [
            "Archive:  dataset2.zip\n",
            "   creating: dataset2/\n",
            "  inflating: dataset2/cloudy1.jpg    \n",
            "  inflating: dataset2/cloudy10.jpg   \n",
            "  inflating: dataset2/cloudy100.jpg  \n",
            "  inflating: dataset2/cloudy101.jpg  \n",
            "  inflating: dataset2/cloudy102.jpg  \n",
            "  inflating: dataset2/cloudy103.jpg  \n",
            "  inflating: dataset2/cloudy104.jpg  \n",
            "  inflating: dataset2/cloudy105.jpg  \n",
            "  inflating: dataset2/cloudy106.jpg  \n",
            "  inflating: dataset2/cloudy107.jpg  \n",
            "  inflating: dataset2/cloudy108.jpg  \n",
            "  inflating: dataset2/cloudy109.jpg  \n",
            "  inflating: dataset2/cloudy11.jpg   \n",
            "  inflating: dataset2/cloudy110.jpg  \n",
            "  inflating: dataset2/cloudy111.jpg  \n",
            "  inflating: dataset2/cloudy112.jpg  \n",
            "  inflating: dataset2/cloudy113.jpg  \n",
            "  inflating: dataset2/cloudy114.jpg  \n",
            "  inflating: dataset2/cloudy115.jpg  \n",
            "  inflating: dataset2/cloudy116.jpg  \n",
            "  inflating: dataset2/cloudy117.jpg  \n",
            "  inflating: dataset2/cloudy118.jpg  \n",
            "  inflating: dataset2/cloudy119.jpg  \n",
            "  inflating: dataset2/cloudy12.jpg   \n",
            "  inflating: dataset2/cloudy120.jpg  \n",
            "  inflating: dataset2/cloudy121.jpg  \n",
            "  inflating: dataset2/cloudy122.jpg  \n",
            "  inflating: dataset2/cloudy123.jpg  \n",
            "  inflating: dataset2/cloudy124.jpg  \n",
            "  inflating: dataset2/cloudy125.jpg  \n",
            "  inflating: dataset2/cloudy126.jpg  \n",
            "  inflating: dataset2/cloudy127.jpg  \n",
            "  inflating: dataset2/cloudy128.jpg  \n",
            "  inflating: dataset2/cloudy129.jpg  \n",
            "  inflating: dataset2/cloudy13.jpg   \n",
            "  inflating: dataset2/cloudy130.jpg  \n",
            " extracting: dataset2/cloudy131.jpg  \n",
            "  inflating: dataset2/cloudy132.jpg  \n",
            "  inflating: dataset2/cloudy133.jpg  \n",
            " extracting: dataset2/cloudy134.jpg  \n",
            "  inflating: dataset2/cloudy135.jpg  \n",
            "  inflating: dataset2/cloudy136.jpg  \n",
            "  inflating: dataset2/cloudy137.jpg  \n",
            "  inflating: dataset2/cloudy138.jpg  \n",
            "  inflating: dataset2/cloudy139.jpg  \n",
            "  inflating: dataset2/cloudy14.jpg   \n",
            "  inflating: dataset2/cloudy140.jpg  \n",
            "  inflating: dataset2/cloudy141.jpg  \n",
            "  inflating: dataset2/cloudy142.jpg  \n",
            "  inflating: dataset2/cloudy143.jpg  \n",
            "  inflating: dataset2/cloudy144.jpg  \n",
            "  inflating: dataset2/cloudy145.jpg  \n",
            "  inflating: dataset2/cloudy146.jpg  \n",
            "  inflating: dataset2/cloudy147.jpg  \n",
            "  inflating: dataset2/cloudy148.jpg  \n",
            "  inflating: dataset2/cloudy149.jpg  \n",
            "  inflating: dataset2/cloudy15.jpg   \n",
            "  inflating: dataset2/cloudy150.jpg  \n",
            "  inflating: dataset2/cloudy151.jpg  \n",
            "  inflating: dataset2/cloudy152.jpg  \n",
            "  inflating: dataset2/cloudy153.jpg  \n",
            "  inflating: dataset2/cloudy154.jpg  \n",
            "  inflating: dataset2/cloudy155.jpg  \n",
            "  inflating: dataset2/cloudy156.jpg  \n",
            "  inflating: dataset2/cloudy157.jpg  \n",
            "  inflating: dataset2/cloudy158.jpg  \n",
            "  inflating: dataset2/cloudy159.jpg  \n",
            "  inflating: dataset2/cloudy16.jpg   \n",
            "  inflating: dataset2/cloudy160.jpg  \n",
            "  inflating: dataset2/cloudy161.jpg  \n",
            "  inflating: dataset2/cloudy162.jpg  \n",
            "  inflating: dataset2/cloudy163.jpg  \n",
            "  inflating: dataset2/cloudy164.jpg  \n",
            "  inflating: dataset2/cloudy165.jpg  \n",
            "  inflating: dataset2/cloudy166.jpg  \n",
            "  inflating: dataset2/cloudy167.jpg  \n",
            "  inflating: dataset2/cloudy168.jpg  \n",
            "  inflating: dataset2/cloudy169.jpg  \n",
            "  inflating: dataset2/cloudy17.jpg   \n",
            "  inflating: dataset2/cloudy170.jpg  \n",
            "  inflating: dataset2/cloudy171.jpg  \n",
            "  inflating: dataset2/cloudy172.jpg  \n",
            "  inflating: dataset2/cloudy173.jpg  \n",
            "  inflating: dataset2/cloudy174.jpg  \n",
            "  inflating: dataset2/cloudy175.jpg  \n",
            "  inflating: dataset2/cloudy176.jpg  \n",
            "  inflating: dataset2/cloudy177.jpg  \n",
            "  inflating: dataset2/cloudy178.jpg  \n",
            "  inflating: dataset2/cloudy179.jpg  \n",
            "  inflating: dataset2/cloudy18.jpg   \n",
            "  inflating: dataset2/cloudy180.jpg  \n",
            "  inflating: dataset2/cloudy181.jpg  \n",
            "  inflating: dataset2/cloudy182.jpg  \n",
            "  inflating: dataset2/cloudy183.jpg  \n",
            "  inflating: dataset2/cloudy184.jpg  \n",
            "  inflating: dataset2/cloudy185.jpg  \n",
            "  inflating: dataset2/cloudy186.jpg  \n",
            "  inflating: dataset2/cloudy187.jpg  \n",
            "  inflating: dataset2/cloudy188.jpg  \n",
            "  inflating: dataset2/cloudy189.jpg  \n",
            "  inflating: dataset2/cloudy19.jpg   \n",
            "  inflating: dataset2/cloudy190.jpg  \n",
            "  inflating: dataset2/cloudy191.jpg  \n",
            "  inflating: dataset2/cloudy192.jpg  \n",
            "  inflating: dataset2/cloudy193.jpg  \n",
            "  inflating: dataset2/cloudy194.jpg  \n",
            "  inflating: dataset2/cloudy195.jpg  \n",
            "  inflating: dataset2/cloudy196.jpg  \n",
            "  inflating: dataset2/cloudy197.jpg  \n",
            "  inflating: dataset2/cloudy198.jpg  \n",
            "  inflating: dataset2/cloudy199.jpg  \n",
            "  inflating: dataset2/cloudy2.jpg    \n",
            "  inflating: dataset2/cloudy20.jpg   \n",
            "  inflating: dataset2/cloudy200.jpg  \n",
            "  inflating: dataset2/cloudy201.jpg  \n",
            "  inflating: dataset2/cloudy202.jpg  \n",
            "  inflating: dataset2/cloudy203.jpg  \n",
            "  inflating: dataset2/cloudy204.jpg  \n",
            "  inflating: dataset2/cloudy205.jpg  \n",
            "  inflating: dataset2/cloudy206.jpg  \n",
            "  inflating: dataset2/cloudy207.jpg  \n",
            "  inflating: dataset2/cloudy208.jpg  \n",
            "  inflating: dataset2/cloudy209.jpg  \n",
            "  inflating: dataset2/cloudy21.jpg   \n",
            "  inflating: dataset2/cloudy210.jpg  \n",
            "  inflating: dataset2/cloudy211.jpg  \n",
            "  inflating: dataset2/cloudy212.jpg  \n",
            "  inflating: dataset2/cloudy213.jpg  \n",
            "  inflating: dataset2/cloudy214.jpg  \n",
            "  inflating: dataset2/cloudy215.jpg  \n",
            "  inflating: dataset2/cloudy216.jpg  \n",
            "  inflating: dataset2/cloudy217.jpg  \n",
            "  inflating: dataset2/cloudy218.jpg  \n",
            "  inflating: dataset2/cloudy219.jpg  \n",
            "  inflating: dataset2/cloudy22.jpg   \n",
            "  inflating: dataset2/cloudy220.jpg  \n",
            "  inflating: dataset2/cloudy221.jpg  \n",
            "  inflating: dataset2/cloudy222.jpg  \n",
            "  inflating: dataset2/cloudy223.jpg  \n",
            "  inflating: dataset2/cloudy224.jpg  \n",
            "  inflating: dataset2/cloudy225.jpg  \n",
            "  inflating: dataset2/cloudy226.jpg  \n",
            "  inflating: dataset2/cloudy227.jpg  \n",
            "  inflating: dataset2/cloudy228.jpg  \n",
            "  inflating: dataset2/cloudy229.jpg  \n",
            "  inflating: dataset2/cloudy23.jpg   \n",
            "  inflating: dataset2/cloudy230.jpg  \n",
            "  inflating: dataset2/cloudy231.jpg  \n",
            "  inflating: dataset2/cloudy232.jpg  \n",
            "  inflating: dataset2/cloudy233.jpg  \n",
            "  inflating: dataset2/cloudy234.jpg  \n",
            "  inflating: dataset2/cloudy235.jpg  \n",
            "  inflating: dataset2/cloudy236.jpg  \n",
            "  inflating: dataset2/cloudy237.jpg  \n",
            "  inflating: dataset2/cloudy238.jpg  \n",
            "  inflating: dataset2/cloudy239.jpg  \n",
            "  inflating: dataset2/cloudy24.jpg   \n",
            "  inflating: dataset2/cloudy240.jpg  \n",
            "  inflating: dataset2/cloudy241.jpg  \n",
            "  inflating: dataset2/cloudy242.jpg  \n",
            "  inflating: dataset2/cloudy243.jpg  \n",
            "  inflating: dataset2/cloudy244.jpg  \n",
            "  inflating: dataset2/cloudy245.jpg  \n",
            "  inflating: dataset2/cloudy246.jpg  \n",
            "  inflating: dataset2/cloudy247.jpg  \n",
            "  inflating: dataset2/cloudy248.jpg  \n",
            "  inflating: dataset2/cloudy249.jpg  \n",
            "  inflating: dataset2/cloudy25.jpg   \n",
            "  inflating: dataset2/cloudy250.jpg  \n",
            "  inflating: dataset2/cloudy251.jpg  \n",
            "  inflating: dataset2/cloudy252.jpg  \n",
            "  inflating: dataset2/cloudy253.jpg  \n",
            "  inflating: dataset2/cloudy254.jpg  \n",
            "  inflating: dataset2/cloudy255.jpg  \n",
            "  inflating: dataset2/cloudy256.jpg  \n",
            "  inflating: dataset2/cloudy257.jpg  \n",
            "  inflating: dataset2/cloudy258.jpg  \n",
            "  inflating: dataset2/cloudy259.jpg  \n",
            "  inflating: dataset2/cloudy26.jpg   \n",
            "  inflating: dataset2/cloudy260.jpg  \n",
            "  inflating: dataset2/cloudy261.jpg  \n",
            "  inflating: dataset2/cloudy262.jpg  \n",
            "  inflating: dataset2/cloudy263.jpg  \n",
            "  inflating: dataset2/cloudy264.jpg  \n",
            "  inflating: dataset2/cloudy265.jpg  \n",
            "  inflating: dataset2/cloudy266.jpg  \n",
            "  inflating: dataset2/cloudy267.jpg  \n",
            "  inflating: dataset2/cloudy268.jpg  \n",
            "  inflating: dataset2/cloudy269.jpg  \n",
            "  inflating: dataset2/cloudy27.jpg   \n",
            "  inflating: dataset2/cloudy270.jpg  \n",
            "  inflating: dataset2/cloudy271.jpg  \n",
            "  inflating: dataset2/cloudy272.jpg  \n",
            "  inflating: dataset2/cloudy273.jpg  \n",
            "  inflating: dataset2/cloudy274.jpg  \n",
            "  inflating: dataset2/cloudy275.jpg  \n",
            "  inflating: dataset2/cloudy276.jpg  \n",
            "  inflating: dataset2/cloudy277.jpg  \n",
            "  inflating: dataset2/cloudy278.jpg  \n",
            "  inflating: dataset2/cloudy279.jpg  \n",
            "  inflating: dataset2/cloudy28.jpg   \n",
            "  inflating: dataset2/cloudy280.jpg  \n",
            "  inflating: dataset2/cloudy281.jpg  \n",
            "  inflating: dataset2/cloudy282.jpg  \n",
            "  inflating: dataset2/cloudy283.jpg  \n",
            "  inflating: dataset2/cloudy284.jpg  \n",
            "  inflating: dataset2/cloudy285.jpg  \n",
            "  inflating: dataset2/cloudy286.jpg  \n",
            "  inflating: dataset2/cloudy287.jpg  \n",
            "  inflating: dataset2/cloudy288.jpg  \n",
            "  inflating: dataset2/cloudy289.jpg  \n",
            "  inflating: dataset2/cloudy29.jpg   \n",
            "  inflating: dataset2/cloudy290.jpg  \n",
            "  inflating: dataset2/cloudy291.jpg  \n",
            "  inflating: dataset2/cloudy292.jpg  \n",
            "  inflating: dataset2/cloudy293.jpg  \n",
            "  inflating: dataset2/cloudy294.jpg  \n",
            "  inflating: dataset2/cloudy295.jpg  \n",
            "  inflating: dataset2/cloudy296.jpg  \n",
            "  inflating: dataset2/cloudy297.jpg  \n",
            "  inflating: dataset2/cloudy298.jpg  \n",
            "  inflating: dataset2/cloudy299.jpg  \n",
            "  inflating: dataset2/cloudy3.jpg    \n",
            "  inflating: dataset2/cloudy30.jpg   \n",
            "  inflating: dataset2/cloudy300.jpg  \n",
            "  inflating: dataset2/cloudy31.jpg   \n",
            "  inflating: dataset2/cloudy32.jpg   \n",
            "  inflating: dataset2/cloudy33.jpg   \n",
            "  inflating: dataset2/cloudy34.jpg   \n",
            "  inflating: dataset2/cloudy35.jpg   \n",
            "  inflating: dataset2/cloudy36.jpg   \n",
            "  inflating: dataset2/cloudy37.jpg   \n",
            "  inflating: dataset2/cloudy38.jpg   \n",
            "  inflating: dataset2/cloudy39.jpg   \n",
            "  inflating: dataset2/cloudy4.jpg    \n",
            "  inflating: dataset2/cloudy40.jpg   \n",
            "  inflating: dataset2/cloudy41.jpg   \n",
            "  inflating: dataset2/cloudy42.jpg   \n",
            "  inflating: dataset2/cloudy43.jpg   \n",
            "  inflating: dataset2/cloudy44.jpg   \n",
            "  inflating: dataset2/cloudy45.jpg   \n",
            "  inflating: dataset2/cloudy46.jpg   \n",
            "  inflating: dataset2/cloudy47.jpg   \n",
            "  inflating: dataset2/cloudy48.jpg   \n",
            "  inflating: dataset2/cloudy49.jpg   \n",
            "  inflating: dataset2/cloudy5.jpg    \n",
            "  inflating: dataset2/cloudy50.jpg   \n",
            "  inflating: dataset2/cloudy51.jpg   \n",
            "  inflating: dataset2/cloudy52.jpg   \n",
            "  inflating: dataset2/cloudy53.jpg   \n",
            "  inflating: dataset2/cloudy54.jpg   \n",
            "  inflating: dataset2/cloudy55.jpg   \n",
            "  inflating: dataset2/cloudy56.jpg   \n",
            "  inflating: dataset2/cloudy57.jpg   \n",
            "  inflating: dataset2/cloudy58.jpg   \n",
            "  inflating: dataset2/cloudy59.jpg   \n",
            "  inflating: dataset2/cloudy6.jpg    \n",
            "  inflating: dataset2/cloudy60.jpg   \n",
            "  inflating: dataset2/cloudy61.jpg   \n",
            "  inflating: dataset2/cloudy62.jpg   \n",
            "  inflating: dataset2/cloudy63.jpg   \n",
            "  inflating: dataset2/cloudy64.jpg   \n",
            "  inflating: dataset2/cloudy65.jpg   \n",
            "  inflating: dataset2/cloudy66.jpg   \n",
            "  inflating: dataset2/cloudy67.jpg   \n",
            "  inflating: dataset2/cloudy68.jpg   \n",
            "  inflating: dataset2/cloudy69.jpg   \n",
            "  inflating: dataset2/cloudy7.jpg    \n",
            "  inflating: dataset2/cloudy70.jpg   \n",
            "  inflating: dataset2/cloudy71.jpg   \n",
            "  inflating: dataset2/cloudy72.jpg   \n",
            "  inflating: dataset2/cloudy73.jpg   \n",
            "  inflating: dataset2/cloudy74.jpg   \n",
            "  inflating: dataset2/cloudy75.jpg   \n",
            "  inflating: dataset2/cloudy76.jpg   \n",
            "  inflating: dataset2/cloudy77.jpg   \n",
            "  inflating: dataset2/cloudy78.jpg   \n",
            "  inflating: dataset2/cloudy79.jpg   \n",
            "  inflating: dataset2/cloudy8.jpg    \n",
            "  inflating: dataset2/cloudy80.jpg   \n",
            "  inflating: dataset2/cloudy81.jpg   \n",
            "  inflating: dataset2/cloudy82.jpg   \n",
            "  inflating: dataset2/cloudy83.jpg   \n",
            "  inflating: dataset2/cloudy84.jpg   \n",
            "  inflating: dataset2/cloudy85.jpg   \n",
            "  inflating: dataset2/cloudy86.jpg   \n",
            "  inflating: dataset2/cloudy87.jpg   \n",
            "  inflating: dataset2/cloudy88.jpg   \n",
            "  inflating: dataset2/cloudy89.jpg   \n",
            "  inflating: dataset2/cloudy9.jpg    \n",
            "  inflating: dataset2/cloudy90.jpg   \n",
            "  inflating: dataset2/cloudy91.jpg   \n",
            "  inflating: dataset2/cloudy92.jpg   \n",
            "  inflating: dataset2/cloudy93.jpg   \n",
            " extracting: dataset2/cloudy94.jpg   \n",
            "  inflating: dataset2/cloudy95.jpg   \n",
            "  inflating: dataset2/cloudy96.jpg   \n",
            "  inflating: dataset2/cloudy97.jpg   \n",
            "  inflating: dataset2/cloudy98.jpg   \n",
            "  inflating: dataset2/cloudy99.jpg   \n",
            "  inflating: dataset2/rain1.jpg      \n",
            "  inflating: dataset2/rain10.jpg     \n",
            "  inflating: dataset2/rain100.jpg    \n",
            "  inflating: dataset2/rain101.jpg    \n",
            "  inflating: dataset2/rain102.jpg    \n",
            "  inflating: dataset2/rain103.jpg    \n",
            "  inflating: dataset2/rain104.jpg    \n",
            "  inflating: dataset2/rain105.jpg    \n",
            "  inflating: dataset2/rain106.jpg    \n",
            " extracting: dataset2/rain107.jpg    \n",
            "  inflating: dataset2/rain108.jpg    \n",
            "  inflating: dataset2/rain109.jpg    \n",
            "  inflating: dataset2/rain11.jpg     \n",
            "  inflating: dataset2/rain110.jpg    \n",
            "  inflating: dataset2/rain111.jpg    \n",
            "  inflating: dataset2/rain112.jpg    \n",
            "  inflating: dataset2/rain113.jpg    \n",
            "  inflating: dataset2/rain114.jpg    \n",
            "  inflating: dataset2/rain115.jpg    \n",
            "  inflating: dataset2/rain116.jpg    \n",
            "  inflating: dataset2/rain117.jpg    \n",
            "  inflating: dataset2/rain118.jpg    \n",
            "  inflating: dataset2/rain119.jpg    \n",
            " extracting: dataset2/rain12.jpg     \n",
            "  inflating: dataset2/rain120.jpg    \n",
            "  inflating: dataset2/rain121.jpg    \n",
            "  inflating: dataset2/rain122.jpg    \n",
            "  inflating: dataset2/rain123.jpg    \n",
            "  inflating: dataset2/rain124.jpg    \n",
            "  inflating: dataset2/rain125.jpg    \n",
            "  inflating: dataset2/rain126.jpg    \n",
            "  inflating: dataset2/rain127.jpg    \n",
            "  inflating: dataset2/rain128.jpg    \n",
            " extracting: dataset2/rain129.jpg    \n",
            "  inflating: dataset2/rain13.jpg     \n",
            "  inflating: dataset2/rain130.jpg    \n",
            "  inflating: dataset2/rain131.jpg    \n",
            "  inflating: dataset2/rain132.jpg    \n",
            "  inflating: dataset2/rain133.jpg    \n",
            "  inflating: dataset2/rain134.jpg    \n",
            "  inflating: dataset2/rain135.jpg    \n",
            "  inflating: dataset2/rain136.jpg    \n",
            "  inflating: dataset2/rain137.jpg    \n",
            "  inflating: dataset2/rain138.jpg    \n",
            "  inflating: dataset2/rain139.jpg    \n",
            "  inflating: dataset2/rain14.jpg     \n",
            "  inflating: dataset2/rain140.jpg    \n",
            "  inflating: dataset2/rain141.jpg    \n",
            "  inflating: dataset2/rain142.jpg    \n",
            "  inflating: dataset2/rain143.jpg    \n",
            " extracting: dataset2/rain144.jpg    \n",
            "  inflating: dataset2/rain145.jpg    \n",
            "  inflating: dataset2/rain146.jpg    \n",
            "  inflating: dataset2/rain147.jpg    \n",
            "  inflating: dataset2/rain148.jpg    \n",
            "  inflating: dataset2/rain149.jpg    \n",
            "  inflating: dataset2/rain15.jpg     \n",
            "  inflating: dataset2/rain150.jpg    \n",
            "  inflating: dataset2/rain151.jpg    \n",
            "  inflating: dataset2/rain152.jpg    \n",
            "  inflating: dataset2/rain153.jpg    \n",
            "  inflating: dataset2/rain154.jpg    \n",
            "  inflating: dataset2/rain155.jpg    \n",
            "  inflating: dataset2/rain156.jpg    \n",
            "  inflating: dataset2/rain157.jpg    \n",
            "  inflating: dataset2/rain158.jpg    \n",
            "  inflating: dataset2/rain159.jpg    \n",
            "  inflating: dataset2/rain16.jpg     \n",
            " extracting: dataset2/rain160.jpg    \n",
            "  inflating: dataset2/rain161.jpg    \n",
            "  inflating: dataset2/rain162.jpg    \n",
            "  inflating: dataset2/rain163.jpg    \n",
            "  inflating: dataset2/rain164.jpg    \n",
            "  inflating: dataset2/rain165.jpg    \n",
            " extracting: dataset2/rain166.jpg    \n",
            "  inflating: dataset2/rain167.jpg    \n",
            "  inflating: dataset2/rain168.jpg    \n",
            "  inflating: dataset2/rain169.jpg    \n",
            "  inflating: dataset2/rain17.jpg     \n",
            "  inflating: dataset2/rain170.jpg    \n",
            "  inflating: dataset2/rain171.jpg    \n",
            "  inflating: dataset2/rain172.jpg    \n",
            "  inflating: dataset2/rain173.jpg    \n",
            "  inflating: dataset2/rain174.jpg    \n",
            "  inflating: dataset2/rain175.jpg    \n",
            " extracting: dataset2/rain176.jpg    \n",
            "  inflating: dataset2/rain177.jpg    \n",
            "  inflating: dataset2/rain178.jpg    \n",
            "  inflating: dataset2/rain179.jpg    \n",
            "  inflating: dataset2/rain18.jpg     \n",
            " extracting: dataset2/rain180.jpg    \n",
            "  inflating: dataset2/rain181.jpg    \n",
            "  inflating: dataset2/rain182.jpg    \n",
            "  inflating: dataset2/rain183.jpg    \n",
            "  inflating: dataset2/rain184.jpg    \n",
            "  inflating: dataset2/rain185.jpg    \n",
            "  inflating: dataset2/rain186.jpg    \n",
            "  inflating: dataset2/rain187.jpg    \n",
            "  inflating: dataset2/rain188.jpg    \n",
            "  inflating: dataset2/rain189.jpg    \n",
            "  inflating: dataset2/rain19.jpg     \n",
            "  inflating: dataset2/rain190.jpg    \n",
            "  inflating: dataset2/rain191.jpg    \n",
            "  inflating: dataset2/rain192.jpg    \n",
            "  inflating: dataset2/rain193.jpg    \n",
            "  inflating: dataset2/rain194.jpg    \n",
            "  inflating: dataset2/rain195.jpg    \n",
            "  inflating: dataset2/rain196.jpg    \n",
            "  inflating: dataset2/rain197.jpg    \n",
            "  inflating: dataset2/rain198.jpg    \n",
            "  inflating: dataset2/rain199.jpg    \n",
            "  inflating: dataset2/rain2.jpg      \n",
            "  inflating: dataset2/rain20.jpg     \n",
            "  inflating: dataset2/rain200.jpg    \n",
            "  inflating: dataset2/rain201.jpg    \n",
            "  inflating: dataset2/rain202.jpg    \n",
            "  inflating: dataset2/rain203.jpg    \n",
            "  inflating: dataset2/rain204.jpg    \n",
            " extracting: dataset2/rain205.jpg    \n",
            "  inflating: dataset2/rain206.jpg    \n",
            " extracting: dataset2/rain207.jpg    \n",
            "  inflating: dataset2/rain208.jpg    \n",
            "  inflating: dataset2/rain209.jpg    \n",
            "  inflating: dataset2/rain21.jpg     \n",
            "  inflating: dataset2/rain210.jpg    \n",
            " extracting: dataset2/rain211.jpg    \n",
            "  inflating: dataset2/rain212.jpg    \n",
            "  inflating: dataset2/rain213.jpg    \n",
            "  inflating: dataset2/rain214.jpg    \n",
            "  inflating: dataset2/rain215.jpg    \n",
            "  inflating: dataset2/rain22.jpeg    \n",
            "  inflating: dataset2/rain23.jpg     \n",
            "  inflating: dataset2/rain24.jpeg    \n",
            "  inflating: dataset2/rain25.jpg     \n",
            "  inflating: dataset2/rain26.jpg     \n",
            "  inflating: dataset2/rain27.jpg     \n",
            "  inflating: dataset2/rain28.jpg     \n",
            "  inflating: dataset2/rain29.jpg     \n",
            "  inflating: dataset2/rain3.jpg      \n",
            "  inflating: dataset2/rain30.jpg     \n",
            "  inflating: dataset2/rain31.jpg     \n",
            "  inflating: dataset2/rain32.jpg     \n",
            "  inflating: dataset2/rain33.jpg     \n",
            "  inflating: dataset2/rain34.jpg     \n",
            "  inflating: dataset2/rain35.jpg     \n",
            "  inflating: dataset2/rain36.jpg     \n",
            "  inflating: dataset2/rain37.jpg     \n",
            "  inflating: dataset2/rain38.jpg     \n",
            "  inflating: dataset2/rain39.jpg     \n",
            "  inflating: dataset2/rain4.jpg      \n",
            "  inflating: dataset2/rain40.jpg     \n",
            "  inflating: dataset2/rain41.jpg     \n",
            "  inflating: dataset2/rain42.jpg     \n",
            "  inflating: dataset2/rain43.jpg     \n",
            "  inflating: dataset2/rain44.jpg     \n",
            "  inflating: dataset2/rain45.jpg     \n",
            "  inflating: dataset2/rain46.jpg     \n",
            "  inflating: dataset2/rain47.jpg     \n",
            "  inflating: dataset2/rain48.jpg     \n",
            "  inflating: dataset2/rain49.jpg     \n",
            "  inflating: dataset2/rain5.jpg      \n",
            "  inflating: dataset2/rain50.jpg     \n",
            "  inflating: dataset2/rain51.jpg     \n",
            "  inflating: dataset2/rain52.jpg     \n",
            " extracting: dataset2/rain53.jpg     \n",
            "  inflating: dataset2/rain54.jpg     \n",
            "  inflating: dataset2/rain55.jpg     \n",
            "  inflating: dataset2/rain56.jpg     \n",
            "  inflating: dataset2/rain57.jpg     \n",
            "  inflating: dataset2/rain58.jpg     \n",
            "  inflating: dataset2/rain59.jpg     \n",
            "  inflating: dataset2/rain6.jpg      \n",
            "  inflating: dataset2/rain60.jpg     \n",
            "  inflating: dataset2/rain61.jpg     \n",
            "  inflating: dataset2/rain62.jpg     \n",
            "  inflating: dataset2/rain63.jpg     \n",
            "  inflating: dataset2/rain64.jpg     \n",
            "  inflating: dataset2/rain65.jpg     \n",
            "  inflating: dataset2/rain66.jpg     \n",
            "  inflating: dataset2/rain67.jpg     \n",
            "  inflating: dataset2/rain68.jpg     \n",
            "  inflating: dataset2/rain69.jpg     \n",
            "  inflating: dataset2/rain7.jpg      \n",
            "  inflating: dataset2/rain70.jpg     \n",
            "  inflating: dataset2/rain71.jpg     \n",
            " extracting: dataset2/rain72.jpg     \n",
            "  inflating: dataset2/rain73.jpg     \n",
            "  inflating: dataset2/rain74.jpg     \n",
            "  inflating: dataset2/rain75.jpg     \n",
            "  inflating: dataset2/rain76.jpg     \n",
            "  inflating: dataset2/rain77.jpg     \n",
            "  inflating: dataset2/rain78.jpg     \n",
            "  inflating: dataset2/rain79.jpg     \n",
            "  inflating: dataset2/rain8.jpg      \n",
            "  inflating: dataset2/rain80.jpg     \n",
            "  inflating: dataset2/rain81.jpg     \n",
            "  inflating: dataset2/rain82.jpg     \n",
            "  inflating: dataset2/rain83.jpg     \n",
            "  inflating: dataset2/rain84.jpg     \n",
            "  inflating: dataset2/rain85.jpg     \n",
            "  inflating: dataset2/rain86.jpg     \n",
            "  inflating: dataset2/rain87.jpg     \n",
            "  inflating: dataset2/rain88.jpg     \n",
            "  inflating: dataset2/rain89.jpg     \n",
            "  inflating: dataset2/rain9.jpg      \n",
            "  inflating: dataset2/rain90.jpg     \n",
            "  inflating: dataset2/rain91.jpg     \n",
            "  inflating: dataset2/rain92.jpg     \n",
            "  inflating: dataset2/rain93.jpg     \n",
            "  inflating: dataset2/rain94.jpg     \n",
            "  inflating: dataset2/rain95.jpg     \n",
            "  inflating: dataset2/rain96.jpg     \n",
            "  inflating: dataset2/rain97.jpg     \n",
            "  inflating: dataset2/rain98.jpg     \n",
            "  inflating: dataset2/rain99.jpg     \n",
            "  inflating: dataset2/shine1.jpg     \n",
            "  inflating: dataset2/shine10.jpg    \n",
            "  inflating: dataset2/shine100.jpg   \n",
            "  inflating: dataset2/shine101.jpg   \n",
            "  inflating: dataset2/shine102.jpg   \n",
            "  inflating: dataset2/shine103.jpg   \n",
            "  inflating: dataset2/shine104.jpg   \n",
            "  inflating: dataset2/shine105.jpg   \n",
            "  inflating: dataset2/shine106.jpg   \n",
            "  inflating: dataset2/shine107.jpg   \n",
            "  inflating: dataset2/shine108.jpg   \n",
            "  inflating: dataset2/shine109.jpg   \n",
            "  inflating: dataset2/shine11.jpg    \n",
            "  inflating: dataset2/shine110.jpg   \n",
            "  inflating: dataset2/shine111.jpg   \n",
            "  inflating: dataset2/shine112.jpg   \n",
            "  inflating: dataset2/shine113.jpg   \n",
            "  inflating: dataset2/shine114.jpg   \n",
            "  inflating: dataset2/shine115.jpg   \n",
            "  inflating: dataset2/shine116.jpg   \n",
            "  inflating: dataset2/shine117.jpg   \n",
            "  inflating: dataset2/shine118.jpg   \n",
            "  inflating: dataset2/shine119.jpg   \n",
            "  inflating: dataset2/shine12.jpg    \n",
            "  inflating: dataset2/shine120.jpg   \n",
            "  inflating: dataset2/shine121.jpg   \n",
            "  inflating: dataset2/shine122.jpg   \n",
            "  inflating: dataset2/shine123.jpg   \n",
            "  inflating: dataset2/shine124.jpg   \n",
            "  inflating: dataset2/shine125.jpg   \n",
            "  inflating: dataset2/shine126.jpg   \n",
            " extracting: dataset2/shine127.jpg   \n",
            "  inflating: dataset2/shine128.jpg   \n",
            "  inflating: dataset2/shine129.jpg   \n",
            "  inflating: dataset2/shine13.jpg    \n",
            "  inflating: dataset2/shine130.jpg   \n",
            "  inflating: dataset2/shine131.jpg   \n",
            "  inflating: dataset2/shine132.jpg   \n",
            "  inflating: dataset2/shine133.jpg   \n",
            "  inflating: dataset2/shine134.jpg   \n",
            "  inflating: dataset2/shine135.jpg   \n",
            "  inflating: dataset2/shine136.jpg   \n",
            "  inflating: dataset2/shine137.jpg   \n",
            "  inflating: dataset2/shine138.jpg   \n",
            "  inflating: dataset2/shine139.jpg   \n",
            "  inflating: dataset2/shine14.jpg    \n",
            "  inflating: dataset2/shine140.jpg   \n",
            "  inflating: dataset2/shine141.jpg   \n",
            "  inflating: dataset2/shine142.jpg   \n",
            "  inflating: dataset2/shine143.jpg   \n",
            "  inflating: dataset2/shine144.jpg   \n",
            "  inflating: dataset2/shine145.jpg   \n",
            "  inflating: dataset2/shine146.jpg   \n",
            "  inflating: dataset2/shine147.jpg   \n",
            "  inflating: dataset2/shine148.jpg   \n",
            "  inflating: dataset2/shine149.jpg   \n",
            "  inflating: dataset2/shine15.jpg    \n",
            "  inflating: dataset2/shine150.jpg   \n",
            "  inflating: dataset2/shine151.jpg   \n",
            "  inflating: dataset2/shine152.jpg   \n",
            "  inflating: dataset2/shine153.jpg   \n",
            "  inflating: dataset2/shine154.jpg   \n",
            "  inflating: dataset2/shine155.jpg   \n",
            "  inflating: dataset2/shine156.jpg   \n",
            "  inflating: dataset2/shine157.jpg   \n",
            "  inflating: dataset2/shine158.jpg   \n",
            "  inflating: dataset2/shine159.jpg   \n",
            "  inflating: dataset2/shine16.jpg    \n",
            "  inflating: dataset2/shine160.jpg   \n",
            "  inflating: dataset2/shine161.jpg   \n",
            "  inflating: dataset2/shine162.jpg   \n",
            "  inflating: dataset2/shine163.jpg   \n",
            "  inflating: dataset2/shine164.jpg   \n",
            "  inflating: dataset2/shine165.jpg   \n",
            "  inflating: dataset2/shine166.jpg   \n",
            "  inflating: dataset2/shine167.jpg   \n",
            "  inflating: dataset2/shine168.jpg   \n",
            "  inflating: dataset2/shine169.jpg   \n",
            "  inflating: dataset2/shine17.jpg    \n",
            "  inflating: dataset2/shine170.jpg   \n",
            "  inflating: dataset2/shine171.jpg   \n",
            "  inflating: dataset2/shine172.jpg   \n",
            "  inflating: dataset2/shine173.jpg   \n",
            "  inflating: dataset2/shine174.jpg   \n",
            "  inflating: dataset2/shine175.jpg   \n",
            "  inflating: dataset2/shine176.jpg   \n",
            "  inflating: dataset2/shine177.jpg   \n",
            "  inflating: dataset2/shine178.jpg   \n",
            "  inflating: dataset2/shine179.jpg   \n",
            "  inflating: dataset2/shine18.jpg    \n",
            "  inflating: dataset2/shine180.jpg   \n",
            "  inflating: dataset2/shine181.jpg   \n",
            "  inflating: dataset2/shine182.jpg   \n",
            "  inflating: dataset2/shine183.jpg   \n",
            "  inflating: dataset2/shine184.jpg   \n",
            "  inflating: dataset2/shine185.jpg   \n",
            "  inflating: dataset2/shine186.jpg   \n",
            "  inflating: dataset2/shine187.jpg   \n",
            "  inflating: dataset2/shine188.jpg   \n",
            "  inflating: dataset2/shine189.jpg   \n",
            "  inflating: dataset2/shine19.jpg    \n",
            "  inflating: dataset2/shine190.jpg   \n",
            "  inflating: dataset2/shine191.jpg   \n",
            "  inflating: dataset2/shine192.jpg   \n",
            "  inflating: dataset2/shine193.jpg   \n",
            "  inflating: dataset2/shine194.jpg   \n",
            "  inflating: dataset2/shine195.jpg   \n",
            "  inflating: dataset2/shine196.jpg   \n",
            "  inflating: dataset2/shine197.jpg   \n",
            "  inflating: dataset2/shine198.jpg   \n",
            "  inflating: dataset2/shine199.jpg   \n",
            "  inflating: dataset2/shine2.jpg     \n",
            "  inflating: dataset2/shine20.jpg    \n",
            "  inflating: dataset2/shine200.jpg   \n",
            "  inflating: dataset2/shine201.jpg   \n",
            "  inflating: dataset2/shine202.jpg   \n",
            "  inflating: dataset2/shine203.jpg   \n",
            "  inflating: dataset2/shine204.jpg   \n",
            "  inflating: dataset2/shine205.jpg   \n",
            "  inflating: dataset2/shine206.jpg   \n",
            "  inflating: dataset2/shine207.jpg   \n",
            "  inflating: dataset2/shine208.jpg   \n",
            "  inflating: dataset2/shine209.jpg   \n",
            "  inflating: dataset2/shine21.jpg    \n",
            "  inflating: dataset2/shine210.jpg   \n",
            "  inflating: dataset2/shine211.jpg   \n",
            "  inflating: dataset2/shine212.jpg   \n",
            "  inflating: dataset2/shine213.jpg   \n",
            "  inflating: dataset2/shine214.jpg   \n",
            "  inflating: dataset2/shine215.jpg   \n",
            "  inflating: dataset2/shine216.jpg   \n",
            "  inflating: dataset2/shine217.jpg   \n",
            "  inflating: dataset2/shine218.jpg   \n",
            "  inflating: dataset2/shine219.jpg   \n",
            "  inflating: dataset2/shine22.jpg    \n",
            "  inflating: dataset2/shine220.jpg   \n",
            "  inflating: dataset2/shine221.jpg   \n",
            "  inflating: dataset2/shine222.jpg   \n",
            "  inflating: dataset2/shine223.jpg   \n",
            "  inflating: dataset2/shine224.jpg   \n",
            "  inflating: dataset2/shine225.jpg   \n",
            "  inflating: dataset2/shine226.jpg   \n",
            "  inflating: dataset2/shine227.jpg   \n",
            "  inflating: dataset2/shine228.jpg   \n",
            "  inflating: dataset2/shine229.jpg   \n",
            "  inflating: dataset2/shine23.jpg    \n",
            "  inflating: dataset2/shine230.jpg   \n",
            "  inflating: dataset2/shine231.jpg   \n",
            "  inflating: dataset2/shine232.jpg   \n",
            "  inflating: dataset2/shine233.jpg   \n",
            "  inflating: dataset2/shine234.jpg   \n",
            "  inflating: dataset2/shine235.jpg   \n",
            "  inflating: dataset2/shine236.jpg   \n",
            "  inflating: dataset2/shine237.jpg   \n",
            "  inflating: dataset2/shine238.jpg   \n",
            "  inflating: dataset2/shine239.jpg   \n",
            "  inflating: dataset2/shine24.jpg    \n",
            "  inflating: dataset2/shine240.jpg   \n",
            "  inflating: dataset2/shine241.jpg   \n",
            "  inflating: dataset2/shine242.jpg   \n",
            "  inflating: dataset2/shine243.jpg   \n",
            "  inflating: dataset2/shine244.jpg   \n",
            "  inflating: dataset2/shine245.jpg   \n",
            "  inflating: dataset2/shine246.jpg   \n",
            "  inflating: dataset2/shine247.jpg   \n",
            "  inflating: dataset2/shine248.jpg   \n",
            "  inflating: dataset2/shine249.jpg   \n",
            "  inflating: dataset2/shine25.jpg    \n",
            "  inflating: dataset2/shine250.jpg   \n",
            "  inflating: dataset2/shine251.jpg   \n",
            "  inflating: dataset2/shine252.jpg   \n",
            "  inflating: dataset2/shine253.jpg   \n",
            "  inflating: dataset2/shine26.jpg    \n",
            "  inflating: dataset2/shine27.jpg    \n",
            "  inflating: dataset2/shine28.jpg    \n",
            "  inflating: dataset2/shine29.jpg    \n",
            "  inflating: dataset2/shine3.jpg     \n",
            "  inflating: dataset2/shine30.jpg    \n",
            "  inflating: dataset2/shine31.jpg    \n",
            "  inflating: dataset2/shine32.jpg    \n",
            "  inflating: dataset2/shine33.jpg    \n",
            "  inflating: dataset2/shine34.jpg    \n",
            "  inflating: dataset2/shine35.jpg    \n",
            "  inflating: dataset2/shine36.jpg    \n",
            "  inflating: dataset2/shine37.jpg    \n",
            "  inflating: dataset2/shine38.jpg    \n",
            "  inflating: dataset2/shine39.jpg    \n",
            "  inflating: dataset2/shine4.jpg     \n",
            "  inflating: dataset2/shine40.jpg    \n",
            "  inflating: dataset2/shine41.jpg    \n",
            "  inflating: dataset2/shine42.jpg    \n",
            "  inflating: dataset2/shine43.jpg    \n",
            "  inflating: dataset2/shine44.jpg    \n",
            "  inflating: dataset2/shine45.jpg    \n",
            "  inflating: dataset2/shine46.jpg    \n",
            "  inflating: dataset2/shine47.jpg    \n",
            "  inflating: dataset2/shine48.jpg    \n",
            "  inflating: dataset2/shine49.jpg    \n",
            "  inflating: dataset2/shine5.jpg     \n",
            "  inflating: dataset2/shine50.jpg    \n",
            "  inflating: dataset2/shine51.jpg    \n",
            "  inflating: dataset2/shine52.jpg    \n",
            "  inflating: dataset2/shine53.jpg    \n",
            "  inflating: dataset2/shine54.jpg    \n",
            "  inflating: dataset2/shine55.jpg    \n",
            "  inflating: dataset2/shine56.jpg    \n",
            "  inflating: dataset2/shine57.jpg    \n",
            "  inflating: dataset2/shine58.jpg    \n",
            "  inflating: dataset2/shine59.jpg    \n",
            "  inflating: dataset2/shine6.jpg     \n",
            "  inflating: dataset2/shine60.jpg    \n",
            "  inflating: dataset2/shine61.jpg    \n",
            "  inflating: dataset2/shine62.jpg    \n",
            "  inflating: dataset2/shine63.jpg    \n",
            "  inflating: dataset2/shine64.jpg    \n",
            "  inflating: dataset2/shine65.jpg    \n",
            "  inflating: dataset2/shine66.jpg    \n",
            " extracting: dataset2/shine67.jpg    \n",
            "  inflating: dataset2/shine68.jpg    \n",
            "  inflating: dataset2/shine69.jpg    \n",
            "  inflating: dataset2/shine7.jpg     \n",
            "  inflating: dataset2/shine70.jpg    \n",
            "  inflating: dataset2/shine71.jpg    \n",
            "  inflating: dataset2/shine72.jpg    \n",
            "  inflating: dataset2/shine73.jpg    \n",
            "  inflating: dataset2/shine74.jpg    \n",
            "  inflating: dataset2/shine75.jpg    \n",
            "  inflating: dataset2/shine76.jpg    \n",
            "  inflating: dataset2/shine77.jpg    \n",
            "  inflating: dataset2/shine78.jpg    \n",
            "  inflating: dataset2/shine79.jpg    \n",
            "  inflating: dataset2/shine8.jpg     \n",
            "  inflating: dataset2/shine80.jpg    \n",
            "  inflating: dataset2/shine81.jpg    \n",
            "  inflating: dataset2/shine82.jpg    \n",
            "  inflating: dataset2/shine83.jpg    \n",
            "  inflating: dataset2/shine84.jpg    \n",
            "  inflating: dataset2/shine85.jpg    \n",
            "  inflating: dataset2/shine86.jpg    \n",
            "  inflating: dataset2/shine87.jpg    \n",
            "  inflating: dataset2/shine88.jpg    \n",
            "  inflating: dataset2/shine89.jpg    \n",
            "  inflating: dataset2/shine9.jpg     \n",
            "  inflating: dataset2/shine90.jpg    \n",
            "  inflating: dataset2/shine91.jpg    \n",
            "  inflating: dataset2/shine92.jpg    \n",
            "  inflating: dataset2/shine93.jpg    \n",
            "  inflating: dataset2/shine94.jpg    \n",
            "  inflating: dataset2/shine95.jpg    \n",
            "  inflating: dataset2/shine96.jpg    \n",
            "  inflating: dataset2/shine97.jpg    \n",
            "  inflating: dataset2/shine98.jpg    \n",
            "  inflating: dataset2/shine99.jpg    \n",
            "  inflating: dataset2/sunrise1.jpg   \n",
            "  inflating: dataset2/sunrise10.jpg  \n",
            "  inflating: dataset2/sunrise100.jpg  \n",
            "  inflating: dataset2/sunrise101.jpg  \n",
            "  inflating: dataset2/sunrise102.jpg  \n",
            "  inflating: dataset2/sunrise103.jpg  \n",
            "  inflating: dataset2/sunrise104.jpg  \n",
            "  inflating: dataset2/sunrise105.jpg  \n",
            "  inflating: dataset2/sunrise106.jpg  \n",
            "  inflating: dataset2/sunrise107.jpg  \n",
            "  inflating: dataset2/sunrise108.jpg  \n",
            "  inflating: dataset2/sunrise109.jpg  \n",
            "  inflating: dataset2/sunrise11.jpg  \n",
            "  inflating: dataset2/sunrise110.jpg  \n",
            "  inflating: dataset2/sunrise111.jpg  \n",
            "  inflating: dataset2/sunrise112.jpg  \n",
            "  inflating: dataset2/sunrise113.jpg  \n",
            "  inflating: dataset2/sunrise114.jpg  \n",
            "  inflating: dataset2/sunrise115.jpg  \n",
            " extracting: dataset2/sunrise116.jpg  \n",
            "  inflating: dataset2/sunrise117.jpg  \n",
            "  inflating: dataset2/sunrise118.jpg  \n",
            "  inflating: dataset2/sunrise119.jpg  \n",
            "  inflating: dataset2/sunrise12.jpg  \n",
            "  inflating: dataset2/sunrise120.jpg  \n",
            "  inflating: dataset2/sunrise121.jpg  \n",
            "  inflating: dataset2/sunrise122.jpg  \n",
            "  inflating: dataset2/sunrise123.jpg  \n",
            "  inflating: dataset2/sunrise124.jpg  \n",
            "  inflating: dataset2/sunrise125.jpg  \n",
            "  inflating: dataset2/sunrise126.jpg  \n",
            "  inflating: dataset2/sunrise127.jpg  \n",
            "  inflating: dataset2/sunrise128.jpg  \n",
            "  inflating: dataset2/sunrise129.jpg  \n",
            "  inflating: dataset2/sunrise13.jpg  \n",
            "  inflating: dataset2/sunrise130.jpg  \n",
            "  inflating: dataset2/sunrise131.jpg  \n",
            "  inflating: dataset2/sunrise132.jpg  \n",
            "  inflating: dataset2/sunrise133.jpg  \n",
            "  inflating: dataset2/sunrise134.jpg  \n",
            "  inflating: dataset2/sunrise135.jpg  \n",
            "  inflating: dataset2/sunrise136.jpg  \n",
            "  inflating: dataset2/sunrise137.jpg  \n",
            "  inflating: dataset2/sunrise138.jpg  \n",
            "  inflating: dataset2/sunrise139.jpg  \n",
            "  inflating: dataset2/sunrise14.jpg  \n",
            "  inflating: dataset2/sunrise140.jpg  \n",
            "  inflating: dataset2/sunrise141.jpg  \n",
            "  inflating: dataset2/sunrise142.jpg  \n",
            "  inflating: dataset2/sunrise143.jpg  \n",
            "  inflating: dataset2/sunrise144.jpg  \n",
            "  inflating: dataset2/sunrise145.jpg  \n",
            "  inflating: dataset2/sunrise146.jpg  \n",
            "  inflating: dataset2/sunrise147.jpg  \n",
            "  inflating: dataset2/sunrise148.jpg  \n",
            "  inflating: dataset2/sunrise149.jpg  \n",
            "  inflating: dataset2/sunrise15.jpg  \n",
            "  inflating: dataset2/sunrise150.jpg  \n",
            "  inflating: dataset2/sunrise151.jpg  \n",
            "  inflating: dataset2/sunrise152.jpg  \n",
            "  inflating: dataset2/sunrise153.jpg  \n",
            "  inflating: dataset2/sunrise154.jpg  \n",
            "  inflating: dataset2/sunrise155.jpg  \n",
            "  inflating: dataset2/sunrise156.jpg  \n",
            "  inflating: dataset2/sunrise157.jpg  \n",
            "  inflating: dataset2/sunrise158.jpg  \n",
            "  inflating: dataset2/sunrise159.jpg  \n",
            "  inflating: dataset2/sunrise16.jpg  \n",
            "  inflating: dataset2/sunrise160.jpg  \n",
            "  inflating: dataset2/sunrise161.jpg  \n",
            "  inflating: dataset2/sunrise162.jpg  \n",
            "  inflating: dataset2/sunrise163.jpg  \n",
            " extracting: dataset2/sunrise164.jpg  \n",
            "  inflating: dataset2/sunrise165.jpg  \n",
            "  inflating: dataset2/sunrise166.jpg  \n",
            "  inflating: dataset2/sunrise167.jpg  \n",
            "  inflating: dataset2/sunrise168.jpg  \n",
            "  inflating: dataset2/sunrise169.jpg  \n",
            "  inflating: dataset2/sunrise17.jpg  \n",
            "  inflating: dataset2/sunrise170.jpg  \n",
            "  inflating: dataset2/sunrise171.jpg  \n",
            "  inflating: dataset2/sunrise172.jpg  \n",
            "  inflating: dataset2/sunrise173.jpg  \n",
            "  inflating: dataset2/sunrise174.jpg  \n",
            "  inflating: dataset2/sunrise175.jpg  \n",
            "  inflating: dataset2/sunrise176.jpg  \n",
            "  inflating: dataset2/sunrise177.jpg  \n",
            "  inflating: dataset2/sunrise178.jpg  \n",
            "  inflating: dataset2/sunrise179.jpg  \n",
            "  inflating: dataset2/sunrise18.jpg  \n",
            "  inflating: dataset2/sunrise180.jpg  \n",
            "  inflating: dataset2/sunrise181.jpg  \n",
            "  inflating: dataset2/sunrise182.jpg  \n",
            "  inflating: dataset2/sunrise183.jpg  \n",
            "  inflating: dataset2/sunrise184.jpg  \n",
            "  inflating: dataset2/sunrise185.jpg  \n",
            "  inflating: dataset2/sunrise186.jpg  \n",
            "  inflating: dataset2/sunrise187.jpg  \n",
            "  inflating: dataset2/sunrise188.jpg  \n",
            "  inflating: dataset2/sunrise189.jpg  \n",
            "  inflating: dataset2/sunrise19.jpg  \n",
            "  inflating: dataset2/sunrise190.jpg  \n",
            "  inflating: dataset2/sunrise191.jpg  \n",
            "  inflating: dataset2/sunrise192.jpg  \n",
            "  inflating: dataset2/sunrise193.jpg  \n",
            "  inflating: dataset2/sunrise194.jpg  \n",
            "  inflating: dataset2/sunrise195.jpg  \n",
            "  inflating: dataset2/sunrise196.jpg  \n",
            "  inflating: dataset2/sunrise197.jpg  \n",
            "  inflating: dataset2/sunrise198.jpg  \n",
            "  inflating: dataset2/sunrise199.jpg  \n",
            "  inflating: dataset2/sunrise2.jpg   \n",
            "  inflating: dataset2/sunrise20.jpg  \n",
            "  inflating: dataset2/sunrise200.jpg  \n",
            "  inflating: dataset2/sunrise201.jpg  \n",
            "  inflating: dataset2/sunrise202.jpg  \n",
            "  inflating: dataset2/sunrise203.jpg  \n",
            "  inflating: dataset2/sunrise204.jpg  \n",
            "  inflating: dataset2/sunrise205.jpg  \n",
            "  inflating: dataset2/sunrise206.jpg  \n",
            "  inflating: dataset2/sunrise207.jpg  \n",
            "  inflating: dataset2/sunrise208.jpg  \n",
            "  inflating: dataset2/sunrise209.jpg  \n",
            "  inflating: dataset2/sunrise21.jpg  \n",
            "  inflating: dataset2/sunrise210.jpg  \n",
            "  inflating: dataset2/sunrise211.jpg  \n",
            "  inflating: dataset2/sunrise212.jpg  \n",
            "  inflating: dataset2/sunrise213.jpg  \n",
            "  inflating: dataset2/sunrise214.jpg  \n",
            "  inflating: dataset2/sunrise215.jpg  \n",
            "  inflating: dataset2/sunrise216.jpg  \n",
            "  inflating: dataset2/sunrise217.jpg  \n",
            "  inflating: dataset2/sunrise218.jpg  \n",
            "  inflating: dataset2/sunrise219.jpg  \n",
            "  inflating: dataset2/sunrise22.jpg  \n",
            "  inflating: dataset2/sunrise220.jpg  \n",
            "  inflating: dataset2/sunrise221.jpg  \n",
            "  inflating: dataset2/sunrise222.jpg  \n",
            "  inflating: dataset2/sunrise223.jpg  \n",
            "  inflating: dataset2/sunrise224.jpg  \n",
            "  inflating: dataset2/sunrise225.jpg  \n",
            "  inflating: dataset2/sunrise226.jpg  \n",
            "  inflating: dataset2/sunrise227.jpg  \n",
            "  inflating: dataset2/sunrise228.jpg  \n",
            "  inflating: dataset2/sunrise229.jpg  \n",
            "  inflating: dataset2/sunrise23.jpg  \n",
            "  inflating: dataset2/sunrise230.jpg  \n",
            "  inflating: dataset2/sunrise231.jpg  \n",
            "  inflating: dataset2/sunrise232.jpg  \n",
            "  inflating: dataset2/sunrise233.jpg  \n",
            "  inflating: dataset2/sunrise234.jpg  \n",
            "  inflating: dataset2/sunrise235.jpg  \n",
            "  inflating: dataset2/sunrise236.jpg  \n",
            "  inflating: dataset2/sunrise237.jpg  \n",
            "  inflating: dataset2/sunrise238.jpg  \n",
            "  inflating: dataset2/sunrise239.jpg  \n",
            "  inflating: dataset2/sunrise24.jpg  \n",
            "  inflating: dataset2/sunrise240.jpg  \n",
            "  inflating: dataset2/sunrise241.jpg  \n",
            "  inflating: dataset2/sunrise242.jpg  \n",
            "  inflating: dataset2/sunrise243.jpg  \n",
            "  inflating: dataset2/sunrise244.jpg  \n",
            "  inflating: dataset2/sunrise245.jpg  \n",
            "  inflating: dataset2/sunrise246.jpg  \n",
            "  inflating: dataset2/sunrise247.jpg  \n",
            "  inflating: dataset2/sunrise248.jpg  \n",
            "  inflating: dataset2/sunrise249.jpg  \n",
            "  inflating: dataset2/sunrise25.jpg  \n",
            "  inflating: dataset2/sunrise250.jpg  \n",
            "  inflating: dataset2/sunrise251.jpg  \n",
            "  inflating: dataset2/sunrise252.jpg  \n",
            "  inflating: dataset2/sunrise253.jpg  \n",
            "  inflating: dataset2/sunrise254.jpg  \n",
            "  inflating: dataset2/sunrise255.jpg  \n",
            "  inflating: dataset2/sunrise256.jpg  \n",
            "  inflating: dataset2/sunrise257.jpg  \n",
            "  inflating: dataset2/sunrise258.jpg  \n",
            "  inflating: dataset2/sunrise259.jpg  \n",
            "  inflating: dataset2/sunrise26.jpg  \n",
            "  inflating: dataset2/sunrise260.jpg  \n",
            "  inflating: dataset2/sunrise261.jpg  \n",
            "  inflating: dataset2/sunrise262.jpg  \n",
            "  inflating: dataset2/sunrise263.jpg  \n",
            "  inflating: dataset2/sunrise264.jpg  \n",
            "  inflating: dataset2/sunrise265.jpg  \n",
            "  inflating: dataset2/sunrise266.jpg  \n",
            "  inflating: dataset2/sunrise267.jpg  \n",
            "  inflating: dataset2/sunrise268.jpg  \n",
            "  inflating: dataset2/sunrise269.jpg  \n",
            "  inflating: dataset2/sunrise27.jpg  \n",
            "  inflating: dataset2/sunrise270.jpg  \n",
            "  inflating: dataset2/sunrise271.jpg  \n",
            "  inflating: dataset2/sunrise272.jpg  \n",
            "  inflating: dataset2/sunrise273.jpg  \n",
            "  inflating: dataset2/sunrise274.jpg  \n",
            "  inflating: dataset2/sunrise275.jpg  \n",
            "  inflating: dataset2/sunrise276.jpg  \n",
            "  inflating: dataset2/sunrise277.jpg  \n",
            "  inflating: dataset2/sunrise278.jpg  \n",
            "  inflating: dataset2/sunrise279.jpg  \n",
            "  inflating: dataset2/sunrise28.jpg  \n",
            "  inflating: dataset2/sunrise280.jpg  \n",
            "  inflating: dataset2/sunrise281.jpg  \n",
            "  inflating: dataset2/sunrise282.jpg  \n",
            "  inflating: dataset2/sunrise283.jpg  \n",
            "  inflating: dataset2/sunrise284.jpg  \n",
            "  inflating: dataset2/sunrise285.jpg  \n",
            "  inflating: dataset2/sunrise286.jpg  \n",
            "  inflating: dataset2/sunrise287.jpg  \n",
            "  inflating: dataset2/sunrise288.jpg  \n",
            "  inflating: dataset2/sunrise289.jpg  \n",
            "  inflating: dataset2/sunrise29.jpg  \n",
            "  inflating: dataset2/sunrise290.jpg  \n",
            "  inflating: dataset2/sunrise291.jpg  \n",
            "  inflating: dataset2/sunrise292.jpg  \n",
            "  inflating: dataset2/sunrise293.jpg  \n",
            "  inflating: dataset2/sunrise294.jpg  \n",
            "  inflating: dataset2/sunrise295.jpg  \n",
            "  inflating: dataset2/sunrise296.jpg  \n",
            "  inflating: dataset2/sunrise297.jpg  \n",
            "  inflating: dataset2/sunrise298.jpg  \n",
            "  inflating: dataset2/sunrise299.jpg  \n",
            "  inflating: dataset2/sunrise3.jpg   \n",
            "  inflating: dataset2/sunrise30.jpg  \n",
            "  inflating: dataset2/sunrise300.jpg  \n",
            "  inflating: dataset2/sunrise301.jpg  \n",
            "  inflating: dataset2/sunrise302.jpg  \n",
            "  inflating: dataset2/sunrise303.jpg  \n",
            "  inflating: dataset2/sunrise304.jpg  \n",
            "  inflating: dataset2/sunrise305.jpg  \n",
            "  inflating: dataset2/sunrise306.jpg  \n",
            "  inflating: dataset2/sunrise307.jpg  \n",
            "  inflating: dataset2/sunrise308.jpg  \n",
            "  inflating: dataset2/sunrise309.jpg  \n",
            "  inflating: dataset2/sunrise31.jpg  \n",
            "  inflating: dataset2/sunrise310.jpg  \n",
            "  inflating: dataset2/sunrise311.jpg  \n",
            "  inflating: dataset2/sunrise312.jpg  \n",
            "  inflating: dataset2/sunrise313.jpg  \n",
            "  inflating: dataset2/sunrise314.jpg  \n",
            "  inflating: dataset2/sunrise315.jpg  \n",
            "  inflating: dataset2/sunrise316.jpg  \n",
            "  inflating: dataset2/sunrise317.jpg  \n",
            "  inflating: dataset2/sunrise318.jpg  \n",
            "  inflating: dataset2/sunrise319.jpg  \n",
            "  inflating: dataset2/sunrise32.jpg  \n",
            "  inflating: dataset2/sunrise320.jpg  \n",
            "  inflating: dataset2/sunrise321.jpg  \n",
            "  inflating: dataset2/sunrise322.jpg  \n",
            "  inflating: dataset2/sunrise323.jpg  \n",
            "  inflating: dataset2/sunrise324.jpg  \n",
            "  inflating: dataset2/sunrise325.jpg  \n",
            "  inflating: dataset2/sunrise326.jpg  \n",
            "  inflating: dataset2/sunrise327.jpg  \n",
            "  inflating: dataset2/sunrise328.jpg  \n",
            "  inflating: dataset2/sunrise329.jpg  \n",
            "  inflating: dataset2/sunrise33.jpg  \n",
            "  inflating: dataset2/sunrise330.jpg  \n",
            "  inflating: dataset2/sunrise331.jpg  \n",
            "  inflating: dataset2/sunrise332.jpg  \n",
            "  inflating: dataset2/sunrise333.jpg  \n",
            "  inflating: dataset2/sunrise334.jpg  \n",
            "  inflating: dataset2/sunrise335.jpg  \n",
            "  inflating: dataset2/sunrise336.jpg  \n",
            "  inflating: dataset2/sunrise337.jpg  \n",
            "  inflating: dataset2/sunrise338.jpg  \n",
            "  inflating: dataset2/sunrise339.jpg  \n",
            "  inflating: dataset2/sunrise34.jpg  \n",
            "  inflating: dataset2/sunrise340.jpg  \n",
            "  inflating: dataset2/sunrise341.jpg  \n",
            "  inflating: dataset2/sunrise342.jpg  \n",
            "  inflating: dataset2/sunrise343.jpg  \n",
            "  inflating: dataset2/sunrise344.jpg  \n",
            "  inflating: dataset2/sunrise345.jpg  \n",
            "  inflating: dataset2/sunrise346.jpg  \n",
            "  inflating: dataset2/sunrise347.jpg  \n",
            "  inflating: dataset2/sunrise348.jpg  \n",
            "  inflating: dataset2/sunrise349.jpg  \n",
            "  inflating: dataset2/sunrise35.jpg  \n",
            "  inflating: dataset2/sunrise350.jpg  \n",
            "  inflating: dataset2/sunrise351.jpg  \n",
            "  inflating: dataset2/sunrise352.jpg  \n",
            "  inflating: dataset2/sunrise353.jpg  \n",
            "  inflating: dataset2/sunrise354.jpg  \n",
            "  inflating: dataset2/sunrise355.jpg  \n",
            "  inflating: dataset2/sunrise356.jpg  \n",
            "  inflating: dataset2/sunrise357.jpg  \n",
            "  inflating: dataset2/sunrise36.jpg  \n",
            "  inflating: dataset2/sunrise37.jpg  \n",
            "  inflating: dataset2/sunrise38.jpg  \n",
            "  inflating: dataset2/sunrise39.jpg  \n",
            "  inflating: dataset2/sunrise4.jpg   \n",
            "  inflating: dataset2/sunrise40.jpg  \n",
            "  inflating: dataset2/sunrise41.jpg  \n",
            "  inflating: dataset2/sunrise42.jpg  \n",
            "  inflating: dataset2/sunrise43.jpg  \n",
            "  inflating: dataset2/sunrise44.jpg  \n",
            "  inflating: dataset2/sunrise45.jpg  \n",
            "  inflating: dataset2/sunrise46.jpg  \n",
            "  inflating: dataset2/sunrise47.jpg  \n",
            "  inflating: dataset2/sunrise48.jpg  \n",
            "  inflating: dataset2/sunrise49.jpg  \n",
            "  inflating: dataset2/sunrise5.jpg   \n",
            "  inflating: dataset2/sunrise50.jpg  \n",
            "  inflating: dataset2/sunrise51.jpg  \n",
            "  inflating: dataset2/sunrise52.jpg  \n",
            "  inflating: dataset2/sunrise53.jpg  \n",
            "  inflating: dataset2/sunrise54.jpg  \n",
            "  inflating: dataset2/sunrise55.jpg  \n",
            "  inflating: dataset2/sunrise56.jpg  \n",
            "  inflating: dataset2/sunrise57.jpg  \n",
            "  inflating: dataset2/sunrise58.jpg  \n",
            "  inflating: dataset2/sunrise59.jpg  \n",
            "  inflating: dataset2/sunrise6.jpg   \n",
            "  inflating: dataset2/sunrise60.jpg  \n",
            "  inflating: dataset2/sunrise61.jpg  \n",
            "  inflating: dataset2/sunrise62.jpg  \n",
            "  inflating: dataset2/sunrise63.jpg  \n",
            "  inflating: dataset2/sunrise64.jpg  \n",
            "  inflating: dataset2/sunrise65.jpg  \n",
            "  inflating: dataset2/sunrise66.jpg  \n",
            "  inflating: dataset2/sunrise67.jpg  \n",
            "  inflating: dataset2/sunrise68.jpg  \n",
            "  inflating: dataset2/sunrise69.jpg  \n",
            "  inflating: dataset2/sunrise7.jpg   \n",
            "  inflating: dataset2/sunrise70.jpg  \n",
            "  inflating: dataset2/sunrise71.jpg  \n",
            "  inflating: dataset2/sunrise72.jpg  \n",
            "  inflating: dataset2/sunrise73.jpg  \n",
            "  inflating: dataset2/sunrise74.jpg  \n",
            "  inflating: dataset2/sunrise75.jpg  \n",
            "  inflating: dataset2/sunrise76.jpg  \n",
            "  inflating: dataset2/sunrise77.jpg  \n",
            "  inflating: dataset2/sunrise78.jpg  \n",
            "  inflating: dataset2/sunrise79.jpg  \n",
            "  inflating: dataset2/sunrise8.jpg   \n",
            "  inflating: dataset2/sunrise80.jpg  \n",
            "  inflating: dataset2/sunrise81.jpg  \n",
            "  inflating: dataset2/sunrise82.jpg  \n",
            "  inflating: dataset2/sunrise83.jpg  \n",
            "  inflating: dataset2/sunrise84.jpg  \n",
            "  inflating: dataset2/sunrise85.jpg  \n",
            "  inflating: dataset2/sunrise86.jpg  \n",
            "  inflating: dataset2/sunrise87.jpg  \n",
            "  inflating: dataset2/sunrise88.jpg  \n",
            "  inflating: dataset2/sunrise89.jpeg  \n",
            "  inflating: dataset2/sunrise9.jpg   \n",
            "  inflating: dataset2/sunrise90.jpg  \n",
            "  inflating: dataset2/sunrise91.jpg  \n",
            "  inflating: dataset2/sunrise92.jpg  \n",
            "  inflating: dataset2/sunrise93.jpg  \n",
            "  inflating: dataset2/sunrise94.jpg  \n",
            "  inflating: dataset2/sunrise95.jpg  \n",
            "  inflating: dataset2/sunrise96.jpg  \n",
            "  inflating: dataset2/sunrise97.jpg  \n",
            "  inflating: dataset2/sunrise98.jpg  \n",
            "  inflating: dataset2/sunrise99.jpg  \n"
          ],
          "name": "stdout"
        }
      ]
    },
    {
      "cell_type": "code",
      "metadata": {
        "colab": {
          "base_uri": "https://localhost:8080/"
        },
        "id": "0PqcVUedZH_W",
        "outputId": "b4e6f9f9-68c1-40d6-d090-a8dce75f6f3c"
      },
      "source": [
        "!ls dataset2"
      ],
      "execution_count": 8,
      "outputs": [
        {
          "output_type": "stream",
          "text": [
            "cloudy100.jpg  cloudy32.jpg  rain41.jpg    shine245.jpg    sunrise21.jpg\n",
            "cloudy101.jpg  cloudy33.jpg  rain42.jpg    shine246.jpg    sunrise220.jpg\n",
            "cloudy102.jpg  cloudy34.jpg  rain43.jpg    shine247.jpg    sunrise221.jpg\n",
            "cloudy103.jpg  cloudy35.jpg  rain44.jpg    shine248.jpg    sunrise222.jpg\n",
            "cloudy104.jpg  cloudy36.jpg  rain45.jpg    shine249.jpg    sunrise223.jpg\n",
            "cloudy105.jpg  cloudy37.jpg  rain46.jpg    shine24.jpg\t   sunrise224.jpg\n",
            "cloudy106.jpg  cloudy38.jpg  rain47.jpg    shine250.jpg    sunrise225.jpg\n",
            "cloudy107.jpg  cloudy39.jpg  rain48.jpg    shine251.jpg    sunrise226.jpg\n",
            "cloudy108.jpg  cloudy3.jpg   rain49.jpg    shine252.jpg    sunrise227.jpg\n",
            "cloudy109.jpg  cloudy40.jpg  rain4.jpg\t   shine253.jpg    sunrise228.jpg\n",
            "cloudy10.jpg   cloudy41.jpg  rain50.jpg    shine25.jpg\t   sunrise229.jpg\n",
            "cloudy110.jpg  cloudy42.jpg  rain51.jpg    shine26.jpg\t   sunrise22.jpg\n",
            "cloudy111.jpg  cloudy43.jpg  rain52.jpg    shine27.jpg\t   sunrise230.jpg\n",
            "cloudy112.jpg  cloudy44.jpg  rain53.jpg    shine28.jpg\t   sunrise231.jpg\n",
            "cloudy113.jpg  cloudy45.jpg  rain54.jpg    shine29.jpg\t   sunrise232.jpg\n",
            "cloudy114.jpg  cloudy46.jpg  rain55.jpg    shine2.jpg\t   sunrise233.jpg\n",
            "cloudy115.jpg  cloudy47.jpg  rain56.jpg    shine30.jpg\t   sunrise234.jpg\n",
            "cloudy116.jpg  cloudy48.jpg  rain57.jpg    shine31.jpg\t   sunrise235.jpg\n",
            "cloudy117.jpg  cloudy49.jpg  rain58.jpg    shine32.jpg\t   sunrise236.jpg\n",
            "cloudy118.jpg  cloudy4.jpg   rain59.jpg    shine33.jpg\t   sunrise237.jpg\n",
            "cloudy119.jpg  cloudy50.jpg  rain5.jpg\t   shine34.jpg\t   sunrise238.jpg\n",
            "cloudy11.jpg   cloudy51.jpg  rain60.jpg    shine35.jpg\t   sunrise239.jpg\n",
            "cloudy120.jpg  cloudy52.jpg  rain61.jpg    shine36.jpg\t   sunrise23.jpg\n",
            "cloudy121.jpg  cloudy53.jpg  rain62.jpg    shine37.jpg\t   sunrise240.jpg\n",
            "cloudy122.jpg  cloudy54.jpg  rain63.jpg    shine38.jpg\t   sunrise241.jpg\n",
            "cloudy123.jpg  cloudy55.jpg  rain64.jpg    shine39.jpg\t   sunrise242.jpg\n",
            "cloudy124.jpg  cloudy56.jpg  rain65.jpg    shine3.jpg\t   sunrise243.jpg\n",
            "cloudy125.jpg  cloudy57.jpg  rain66.jpg    shine40.jpg\t   sunrise244.jpg\n",
            "cloudy126.jpg  cloudy58.jpg  rain67.jpg    shine41.jpg\t   sunrise245.jpg\n",
            "cloudy127.jpg  cloudy59.jpg  rain68.jpg    shine42.jpg\t   sunrise246.jpg\n",
            "cloudy128.jpg  cloudy5.jpg   rain69.jpg    shine43.jpg\t   sunrise247.jpg\n",
            "cloudy129.jpg  cloudy60.jpg  rain6.jpg\t   shine44.jpg\t   sunrise248.jpg\n",
            "cloudy12.jpg   cloudy61.jpg  rain70.jpg    shine45.jpg\t   sunrise249.jpg\n",
            "cloudy130.jpg  cloudy62.jpg  rain71.jpg    shine46.jpg\t   sunrise24.jpg\n",
            "cloudy131.jpg  cloudy63.jpg  rain72.jpg    shine47.jpg\t   sunrise250.jpg\n",
            "cloudy132.jpg  cloudy64.jpg  rain73.jpg    shine48.jpg\t   sunrise251.jpg\n",
            "cloudy133.jpg  cloudy65.jpg  rain74.jpg    shine49.jpg\t   sunrise252.jpg\n",
            "cloudy134.jpg  cloudy66.jpg  rain75.jpg    shine4.jpg\t   sunrise253.jpg\n",
            "cloudy135.jpg  cloudy67.jpg  rain76.jpg    shine50.jpg\t   sunrise254.jpg\n",
            "cloudy136.jpg  cloudy68.jpg  rain77.jpg    shine51.jpg\t   sunrise255.jpg\n",
            "cloudy137.jpg  cloudy69.jpg  rain78.jpg    shine52.jpg\t   sunrise256.jpg\n",
            "cloudy138.jpg  cloudy6.jpg   rain79.jpg    shine53.jpg\t   sunrise257.jpg\n",
            "cloudy139.jpg  cloudy70.jpg  rain7.jpg\t   shine54.jpg\t   sunrise258.jpg\n",
            "cloudy13.jpg   cloudy71.jpg  rain80.jpg    shine55.jpg\t   sunrise259.jpg\n",
            "cloudy140.jpg  cloudy72.jpg  rain81.jpg    shine56.jpg\t   sunrise25.jpg\n",
            "cloudy141.jpg  cloudy73.jpg  rain82.jpg    shine57.jpg\t   sunrise260.jpg\n",
            "cloudy142.jpg  cloudy74.jpg  rain83.jpg    shine58.jpg\t   sunrise261.jpg\n",
            "cloudy143.jpg  cloudy75.jpg  rain84.jpg    shine59.jpg\t   sunrise262.jpg\n",
            "cloudy144.jpg  cloudy76.jpg  rain85.jpg    shine5.jpg\t   sunrise263.jpg\n",
            "cloudy145.jpg  cloudy77.jpg  rain86.jpg    shine60.jpg\t   sunrise264.jpg\n",
            "cloudy146.jpg  cloudy78.jpg  rain87.jpg    shine61.jpg\t   sunrise265.jpg\n",
            "cloudy147.jpg  cloudy79.jpg  rain88.jpg    shine62.jpg\t   sunrise266.jpg\n",
            "cloudy148.jpg  cloudy7.jpg   rain89.jpg    shine63.jpg\t   sunrise267.jpg\n",
            "cloudy149.jpg  cloudy80.jpg  rain8.jpg\t   shine64.jpg\t   sunrise268.jpg\n",
            "cloudy14.jpg   cloudy81.jpg  rain90.jpg    shine65.jpg\t   sunrise269.jpg\n",
            "cloudy150.jpg  cloudy82.jpg  rain91.jpg    shine66.jpg\t   sunrise26.jpg\n",
            "cloudy151.jpg  cloudy83.jpg  rain92.jpg    shine67.jpg\t   sunrise270.jpg\n",
            "cloudy152.jpg  cloudy84.jpg  rain93.jpg    shine68.jpg\t   sunrise271.jpg\n",
            "cloudy153.jpg  cloudy85.jpg  rain94.jpg    shine69.jpg\t   sunrise272.jpg\n",
            "cloudy154.jpg  cloudy86.jpg  rain95.jpg    shine6.jpg\t   sunrise273.jpg\n",
            "cloudy155.jpg  cloudy87.jpg  rain96.jpg    shine70.jpg\t   sunrise274.jpg\n",
            "cloudy156.jpg  cloudy88.jpg  rain97.jpg    shine71.jpg\t   sunrise275.jpg\n",
            "cloudy157.jpg  cloudy89.jpg  rain98.jpg    shine72.jpg\t   sunrise276.jpg\n",
            "cloudy158.jpg  cloudy8.jpg   rain99.jpg    shine73.jpg\t   sunrise277.jpg\n",
            "cloudy159.jpg  cloudy90.jpg  rain9.jpg\t   shine74.jpg\t   sunrise278.jpg\n",
            "cloudy15.jpg   cloudy91.jpg  shine100.jpg  shine75.jpg\t   sunrise279.jpg\n",
            "cloudy160.jpg  cloudy92.jpg  shine101.jpg  shine76.jpg\t   sunrise27.jpg\n",
            "cloudy161.jpg  cloudy93.jpg  shine102.jpg  shine77.jpg\t   sunrise280.jpg\n",
            "cloudy162.jpg  cloudy94.jpg  shine103.jpg  shine78.jpg\t   sunrise281.jpg\n",
            "cloudy163.jpg  cloudy95.jpg  shine104.jpg  shine79.jpg\t   sunrise282.jpg\n",
            "cloudy164.jpg  cloudy96.jpg  shine105.jpg  shine7.jpg\t   sunrise283.jpg\n",
            "cloudy165.jpg  cloudy97.jpg  shine106.jpg  shine80.jpg\t   sunrise284.jpg\n",
            "cloudy166.jpg  cloudy98.jpg  shine107.jpg  shine81.jpg\t   sunrise285.jpg\n",
            "cloudy167.jpg  cloudy99.jpg  shine108.jpg  shine82.jpg\t   sunrise286.jpg\n",
            "cloudy168.jpg  cloudy9.jpg   shine109.jpg  shine83.jpg\t   sunrise287.jpg\n",
            "cloudy169.jpg  rain100.jpg   shine10.jpg   shine84.jpg\t   sunrise288.jpg\n",
            "cloudy16.jpg   rain101.jpg   shine110.jpg  shine85.jpg\t   sunrise289.jpg\n",
            "cloudy170.jpg  rain102.jpg   shine111.jpg  shine86.jpg\t   sunrise28.jpg\n",
            "cloudy171.jpg  rain103.jpg   shine112.jpg  shine87.jpg\t   sunrise290.jpg\n",
            "cloudy172.jpg  rain104.jpg   shine113.jpg  shine88.jpg\t   sunrise291.jpg\n",
            "cloudy173.jpg  rain105.jpg   shine114.jpg  shine89.jpg\t   sunrise292.jpg\n",
            "cloudy174.jpg  rain106.jpg   shine115.jpg  shine8.jpg\t   sunrise293.jpg\n",
            "cloudy175.jpg  rain107.jpg   shine116.jpg  shine90.jpg\t   sunrise294.jpg\n",
            "cloudy176.jpg  rain108.jpg   shine117.jpg  shine91.jpg\t   sunrise295.jpg\n",
            "cloudy177.jpg  rain109.jpg   shine118.jpg  shine92.jpg\t   sunrise296.jpg\n",
            "cloudy178.jpg  rain10.jpg    shine119.jpg  shine93.jpg\t   sunrise297.jpg\n",
            "cloudy179.jpg  rain110.jpg   shine11.jpg   shine94.jpg\t   sunrise298.jpg\n",
            "cloudy17.jpg   rain111.jpg   shine120.jpg  shine95.jpg\t   sunrise299.jpg\n",
            "cloudy180.jpg  rain112.jpg   shine121.jpg  shine96.jpg\t   sunrise29.jpg\n",
            "cloudy181.jpg  rain113.jpg   shine122.jpg  shine97.jpg\t   sunrise2.jpg\n",
            "cloudy182.jpg  rain114.jpg   shine123.jpg  shine98.jpg\t   sunrise300.jpg\n",
            "cloudy183.jpg  rain115.jpg   shine124.jpg  shine99.jpg\t   sunrise301.jpg\n",
            "cloudy184.jpg  rain116.jpg   shine125.jpg  shine9.jpg\t   sunrise302.jpg\n",
            "cloudy185.jpg  rain117.jpg   shine126.jpg  sunrise100.jpg  sunrise303.jpg\n",
            "cloudy186.jpg  rain118.jpg   shine127.jpg  sunrise101.jpg  sunrise304.jpg\n",
            "cloudy187.jpg  rain119.jpg   shine128.jpg  sunrise102.jpg  sunrise305.jpg\n",
            "cloudy188.jpg  rain11.jpg    shine129.jpg  sunrise103.jpg  sunrise306.jpg\n",
            "cloudy189.jpg  rain120.jpg   shine12.jpg   sunrise104.jpg  sunrise307.jpg\n",
            "cloudy18.jpg   rain121.jpg   shine130.jpg  sunrise105.jpg  sunrise308.jpg\n",
            "cloudy190.jpg  rain122.jpg   shine131.jpg  sunrise106.jpg  sunrise309.jpg\n",
            "cloudy191.jpg  rain123.jpg   shine132.jpg  sunrise107.jpg  sunrise30.jpg\n",
            "cloudy192.jpg  rain124.jpg   shine133.jpg  sunrise108.jpg  sunrise310.jpg\n",
            "cloudy193.jpg  rain125.jpg   shine134.jpg  sunrise109.jpg  sunrise311.jpg\n",
            "cloudy194.jpg  rain126.jpg   shine135.jpg  sunrise10.jpg   sunrise312.jpg\n",
            "cloudy195.jpg  rain127.jpg   shine136.jpg  sunrise110.jpg  sunrise313.jpg\n",
            "cloudy196.jpg  rain128.jpg   shine137.jpg  sunrise111.jpg  sunrise314.jpg\n",
            "cloudy197.jpg  rain129.jpg   shine138.jpg  sunrise112.jpg  sunrise315.jpg\n",
            "cloudy198.jpg  rain12.jpg    shine139.jpg  sunrise113.jpg  sunrise316.jpg\n",
            "cloudy199.jpg  rain130.jpg   shine13.jpg   sunrise114.jpg  sunrise317.jpg\n",
            "cloudy19.jpg   rain131.jpg   shine140.jpg  sunrise115.jpg  sunrise318.jpg\n",
            "cloudy1.jpg    rain132.jpg   shine141.jpg  sunrise116.jpg  sunrise319.jpg\n",
            "cloudy200.jpg  rain133.jpg   shine142.jpg  sunrise117.jpg  sunrise31.jpg\n",
            "cloudy201.jpg  rain134.jpg   shine143.jpg  sunrise118.jpg  sunrise320.jpg\n",
            "cloudy202.jpg  rain135.jpg   shine144.jpg  sunrise119.jpg  sunrise321.jpg\n",
            "cloudy203.jpg  rain136.jpg   shine145.jpg  sunrise11.jpg   sunrise322.jpg\n",
            "cloudy204.jpg  rain137.jpg   shine146.jpg  sunrise120.jpg  sunrise323.jpg\n",
            "cloudy205.jpg  rain138.jpg   shine147.jpg  sunrise121.jpg  sunrise324.jpg\n",
            "cloudy206.jpg  rain139.jpg   shine148.jpg  sunrise122.jpg  sunrise325.jpg\n",
            "cloudy207.jpg  rain13.jpg    shine149.jpg  sunrise123.jpg  sunrise326.jpg\n",
            "cloudy208.jpg  rain140.jpg   shine14.jpg   sunrise124.jpg  sunrise327.jpg\n",
            "cloudy209.jpg  rain141.jpg   shine150.jpg  sunrise125.jpg  sunrise328.jpg\n",
            "cloudy20.jpg   rain142.jpg   shine151.jpg  sunrise126.jpg  sunrise329.jpg\n",
            "cloudy210.jpg  rain143.jpg   shine152.jpg  sunrise127.jpg  sunrise32.jpg\n",
            "cloudy211.jpg  rain144.jpg   shine153.jpg  sunrise128.jpg  sunrise330.jpg\n",
            "cloudy212.jpg  rain145.jpg   shine154.jpg  sunrise129.jpg  sunrise331.jpg\n",
            "cloudy213.jpg  rain146.jpg   shine155.jpg  sunrise12.jpg   sunrise332.jpg\n",
            "cloudy214.jpg  rain147.jpg   shine156.jpg  sunrise130.jpg  sunrise333.jpg\n",
            "cloudy215.jpg  rain148.jpg   shine157.jpg  sunrise131.jpg  sunrise334.jpg\n",
            "cloudy216.jpg  rain149.jpg   shine158.jpg  sunrise132.jpg  sunrise335.jpg\n",
            "cloudy217.jpg  rain14.jpg    shine159.jpg  sunrise133.jpg  sunrise336.jpg\n",
            "cloudy218.jpg  rain150.jpg   shine15.jpg   sunrise134.jpg  sunrise337.jpg\n",
            "cloudy219.jpg  rain151.jpg   shine160.jpg  sunrise135.jpg  sunrise338.jpg\n",
            "cloudy21.jpg   rain152.jpg   shine161.jpg  sunrise136.jpg  sunrise339.jpg\n",
            "cloudy220.jpg  rain153.jpg   shine162.jpg  sunrise137.jpg  sunrise33.jpg\n",
            "cloudy221.jpg  rain154.jpg   shine163.jpg  sunrise138.jpg  sunrise340.jpg\n",
            "cloudy222.jpg  rain155.jpg   shine164.jpg  sunrise139.jpg  sunrise341.jpg\n",
            "cloudy223.jpg  rain156.jpg   shine165.jpg  sunrise13.jpg   sunrise342.jpg\n",
            "cloudy224.jpg  rain157.jpg   shine166.jpg  sunrise140.jpg  sunrise343.jpg\n",
            "cloudy225.jpg  rain158.jpg   shine167.jpg  sunrise141.jpg  sunrise344.jpg\n",
            "cloudy226.jpg  rain159.jpg   shine168.jpg  sunrise142.jpg  sunrise345.jpg\n",
            "cloudy227.jpg  rain15.jpg    shine169.jpg  sunrise143.jpg  sunrise346.jpg\n",
            "cloudy228.jpg  rain160.jpg   shine16.jpg   sunrise144.jpg  sunrise347.jpg\n",
            "cloudy229.jpg  rain161.jpg   shine170.jpg  sunrise145.jpg  sunrise348.jpg\n",
            "cloudy22.jpg   rain162.jpg   shine171.jpg  sunrise146.jpg  sunrise349.jpg\n",
            "cloudy230.jpg  rain163.jpg   shine172.jpg  sunrise147.jpg  sunrise34.jpg\n",
            "cloudy231.jpg  rain164.jpg   shine173.jpg  sunrise148.jpg  sunrise350.jpg\n",
            "cloudy232.jpg  rain165.jpg   shine174.jpg  sunrise149.jpg  sunrise351.jpg\n",
            "cloudy233.jpg  rain166.jpg   shine175.jpg  sunrise14.jpg   sunrise352.jpg\n",
            "cloudy234.jpg  rain167.jpg   shine176.jpg  sunrise150.jpg  sunrise353.jpg\n",
            "cloudy235.jpg  rain168.jpg   shine177.jpg  sunrise151.jpg  sunrise354.jpg\n",
            "cloudy236.jpg  rain169.jpg   shine178.jpg  sunrise152.jpg  sunrise355.jpg\n",
            "cloudy237.jpg  rain16.jpg    shine179.jpg  sunrise153.jpg  sunrise356.jpg\n",
            "cloudy238.jpg  rain170.jpg   shine17.jpg   sunrise154.jpg  sunrise357.jpg\n",
            "cloudy239.jpg  rain171.jpg   shine180.jpg  sunrise155.jpg  sunrise35.jpg\n",
            "cloudy23.jpg   rain172.jpg   shine181.jpg  sunrise156.jpg  sunrise36.jpg\n",
            "cloudy240.jpg  rain173.jpg   shine182.jpg  sunrise157.jpg  sunrise37.jpg\n",
            "cloudy241.jpg  rain174.jpg   shine183.jpg  sunrise158.jpg  sunrise38.jpg\n",
            "cloudy242.jpg  rain175.jpg   shine184.jpg  sunrise159.jpg  sunrise39.jpg\n",
            "cloudy243.jpg  rain176.jpg   shine185.jpg  sunrise15.jpg   sunrise3.jpg\n",
            "cloudy244.jpg  rain177.jpg   shine186.jpg  sunrise160.jpg  sunrise40.jpg\n",
            "cloudy245.jpg  rain178.jpg   shine187.jpg  sunrise161.jpg  sunrise41.jpg\n",
            "cloudy246.jpg  rain179.jpg   shine188.jpg  sunrise162.jpg  sunrise42.jpg\n",
            "cloudy247.jpg  rain17.jpg    shine189.jpg  sunrise163.jpg  sunrise43.jpg\n",
            "cloudy248.jpg  rain180.jpg   shine18.jpg   sunrise164.jpg  sunrise44.jpg\n",
            "cloudy249.jpg  rain181.jpg   shine190.jpg  sunrise165.jpg  sunrise45.jpg\n",
            "cloudy24.jpg   rain182.jpg   shine191.jpg  sunrise166.jpg  sunrise46.jpg\n",
            "cloudy250.jpg  rain183.jpg   shine192.jpg  sunrise167.jpg  sunrise47.jpg\n",
            "cloudy251.jpg  rain184.jpg   shine193.jpg  sunrise168.jpg  sunrise48.jpg\n",
            "cloudy252.jpg  rain185.jpg   shine194.jpg  sunrise169.jpg  sunrise49.jpg\n",
            "cloudy253.jpg  rain186.jpg   shine195.jpg  sunrise16.jpg   sunrise4.jpg\n",
            "cloudy254.jpg  rain187.jpg   shine196.jpg  sunrise170.jpg  sunrise50.jpg\n",
            "cloudy255.jpg  rain188.jpg   shine197.jpg  sunrise171.jpg  sunrise51.jpg\n",
            "cloudy256.jpg  rain189.jpg   shine198.jpg  sunrise172.jpg  sunrise52.jpg\n",
            "cloudy257.jpg  rain18.jpg    shine199.jpg  sunrise173.jpg  sunrise53.jpg\n",
            "cloudy258.jpg  rain190.jpg   shine19.jpg   sunrise174.jpg  sunrise54.jpg\n",
            "cloudy259.jpg  rain191.jpg   shine1.jpg    sunrise175.jpg  sunrise55.jpg\n",
            "cloudy25.jpg   rain192.jpg   shine200.jpg  sunrise176.jpg  sunrise56.jpg\n",
            "cloudy260.jpg  rain193.jpg   shine201.jpg  sunrise177.jpg  sunrise57.jpg\n",
            "cloudy261.jpg  rain194.jpg   shine202.jpg  sunrise178.jpg  sunrise58.jpg\n",
            "cloudy262.jpg  rain195.jpg   shine203.jpg  sunrise179.jpg  sunrise59.jpg\n",
            "cloudy263.jpg  rain196.jpg   shine204.jpg  sunrise17.jpg   sunrise5.jpg\n",
            "cloudy264.jpg  rain197.jpg   shine205.jpg  sunrise180.jpg  sunrise60.jpg\n",
            "cloudy265.jpg  rain198.jpg   shine206.jpg  sunrise181.jpg  sunrise61.jpg\n",
            "cloudy266.jpg  rain199.jpg   shine207.jpg  sunrise182.jpg  sunrise62.jpg\n",
            "cloudy267.jpg  rain19.jpg    shine208.jpg  sunrise183.jpg  sunrise63.jpg\n",
            "cloudy268.jpg  rain1.jpg     shine209.jpg  sunrise184.jpg  sunrise64.jpg\n",
            "cloudy269.jpg  rain200.jpg   shine20.jpg   sunrise185.jpg  sunrise65.jpg\n",
            "cloudy26.jpg   rain201.jpg   shine210.jpg  sunrise186.jpg  sunrise66.jpg\n",
            "cloudy270.jpg  rain202.jpg   shine211.jpg  sunrise187.jpg  sunrise67.jpg\n",
            "cloudy271.jpg  rain203.jpg   shine212.jpg  sunrise188.jpg  sunrise68.jpg\n",
            "cloudy272.jpg  rain204.jpg   shine213.jpg  sunrise189.jpg  sunrise69.jpg\n",
            "cloudy273.jpg  rain205.jpg   shine214.jpg  sunrise18.jpg   sunrise6.jpg\n",
            "cloudy274.jpg  rain206.jpg   shine215.jpg  sunrise190.jpg  sunrise70.jpg\n",
            "cloudy275.jpg  rain207.jpg   shine216.jpg  sunrise191.jpg  sunrise71.jpg\n",
            "cloudy276.jpg  rain208.jpg   shine217.jpg  sunrise192.jpg  sunrise72.jpg\n",
            "cloudy277.jpg  rain209.jpg   shine218.jpg  sunrise193.jpg  sunrise73.jpg\n",
            "cloudy278.jpg  rain20.jpg    shine219.jpg  sunrise194.jpg  sunrise74.jpg\n",
            "cloudy279.jpg  rain210.jpg   shine21.jpg   sunrise195.jpg  sunrise75.jpg\n",
            "cloudy27.jpg   rain211.jpg   shine220.jpg  sunrise196.jpg  sunrise76.jpg\n",
            "cloudy280.jpg  rain212.jpg   shine221.jpg  sunrise197.jpg  sunrise77.jpg\n",
            "cloudy281.jpg  rain213.jpg   shine222.jpg  sunrise198.jpg  sunrise78.jpg\n",
            "cloudy282.jpg  rain214.jpg   shine223.jpg  sunrise199.jpg  sunrise79.jpg\n",
            "cloudy283.jpg  rain215.jpg   shine224.jpg  sunrise19.jpg   sunrise7.jpg\n",
            "cloudy284.jpg  rain21.jpg    shine225.jpg  sunrise1.jpg    sunrise80.jpg\n",
            "cloudy285.jpg  rain22.jpeg   shine226.jpg  sunrise200.jpg  sunrise81.jpg\n",
            "cloudy286.jpg  rain23.jpg    shine227.jpg  sunrise201.jpg  sunrise82.jpg\n",
            "cloudy287.jpg  rain24.jpeg   shine228.jpg  sunrise202.jpg  sunrise83.jpg\n",
            "cloudy288.jpg  rain25.jpg    shine229.jpg  sunrise203.jpg  sunrise84.jpg\n",
            "cloudy289.jpg  rain26.jpg    shine22.jpg   sunrise204.jpg  sunrise85.jpg\n",
            "cloudy28.jpg   rain27.jpg    shine230.jpg  sunrise205.jpg  sunrise86.jpg\n",
            "cloudy290.jpg  rain28.jpg    shine231.jpg  sunrise206.jpg  sunrise87.jpg\n",
            "cloudy291.jpg  rain29.jpg    shine232.jpg  sunrise207.jpg  sunrise88.jpg\n",
            "cloudy292.jpg  rain2.jpg     shine233.jpg  sunrise208.jpg  sunrise89.jpeg\n",
            "cloudy293.jpg  rain30.jpg    shine234.jpg  sunrise209.jpg  sunrise8.jpg\n",
            "cloudy294.jpg  rain31.jpg    shine235.jpg  sunrise20.jpg   sunrise90.jpg\n",
            "cloudy295.jpg  rain32.jpg    shine236.jpg  sunrise210.jpg  sunrise91.jpg\n",
            "cloudy296.jpg  rain33.jpg    shine237.jpg  sunrise211.jpg  sunrise92.jpg\n",
            "cloudy297.jpg  rain34.jpg    shine238.jpg  sunrise212.jpg  sunrise93.jpg\n",
            "cloudy298.jpg  rain35.jpg    shine239.jpg  sunrise213.jpg  sunrise94.jpg\n",
            "cloudy299.jpg  rain36.jpg    shine23.jpg   sunrise214.jpg  sunrise95.jpg\n",
            "cloudy29.jpg   rain37.jpg    shine240.jpg  sunrise215.jpg  sunrise96.jpg\n",
            "cloudy2.jpg    rain38.jpg    shine241.jpg  sunrise216.jpg  sunrise97.jpg\n",
            "cloudy300.jpg  rain39.jpg    shine242.jpg  sunrise217.jpg  sunrise98.jpg\n",
            "cloudy30.jpg   rain3.jpg     shine243.jpg  sunrise218.jpg  sunrise99.jpg\n",
            "cloudy31.jpg   rain40.jpg    shine244.jpg  sunrise219.jpg  sunrise9.jpg\n"
          ],
          "name": "stdout"
        }
      ]
    },
    {
      "cell_type": "markdown",
      "metadata": {
        "id": "5vMkDrcnZu8V"
      },
      "source": [
        "Maintenant nous allons construire notre objet Dataset manuellement car la forme du fichier est assez spécifique."
      ]
    },
    {
      "cell_type": "code",
      "metadata": {
        "id": "da3IE4O5GWot"
      },
      "source": [
        "import os\n",
        "import cv2 \n",
        "import re\n",
        "\n",
        "class Wheather_Dataset(Dataset):\n",
        "    \"\"\"Face Landmarks dataset.\"\"\"\n",
        "\n",
        "    class_index = [\"cloudy\", \"rain\", \"shine\", \"sunrise\"]\n",
        "\n",
        "    def __init__(self, root_dir, transform=None):\n",
        "        self.dirs = os.listdir(root_dir)\n",
        "        self.root_dir = root_dir\n",
        "        self.transform = transform\n",
        "\n",
        "\n",
        "    def __len__(self):\n",
        "        return len(self.dirs)\n",
        "\n",
        "    def __getitem__(self, idx):\n",
        "        if torch.is_tensor(idx):\n",
        "            idx = idx.tolist()\n",
        "\n",
        "        img_name = os.path.join(self.root_dir,self.dirs[idx])\n",
        "\n",
        "        image = cv2.imread(img_name)\n",
        "\n",
        "        classe = re.findall(r\"(\\D+)\",self.dirs[idx])[0]\n",
        "\n",
        "        if self.transform:\n",
        "            image = self.transform(image)\n",
        "        \n",
        "        sample = {'image': image, 'landmarks': Wheather_Dataset.class_index.index(classe)}\n",
        "\n",
        "        return sample"
      ],
      "execution_count": 11,
      "outputs": []
    },
    {
      "cell_type": "code",
      "metadata": {
        "id": "JQXVlwAlbpuR"
      },
      "source": [
        "dataset = Wheather_Dataset(\"dataset2\")"
      ],
      "execution_count": 12,
      "outputs": []
    },
    {
      "cell_type": "code",
      "metadata": {
        "colab": {
          "base_uri": "https://localhost:8080/"
        },
        "id": "qnfO1vX_but7",
        "outputId": "1dcda650-a338-42a1-c99a-b14dfa43d1ed"
      },
      "source": [
        "#On vérifie qu'on peut bien en parcourir quelques samples \n",
        "for i in range(len(dataset)):\n",
        "    sample = dataset[i]\n",
        "    print(i, sample['image'].shape, sample['landmarks'])\n",
        "    if i == 3:\n",
        "        break"
      ],
      "execution_count": 13,
      "outputs": [
        {
          "output_type": "stream",
          "text": [
            "0 (430, 660, 3) 3\n",
            "1 (194, 259, 3) 3\n",
            "2 (168, 300, 3) 2\n",
            "3 (159, 198, 3) 2\n"
          ],
          "name": "stdout"
        }
      ]
    },
    {
      "cell_type": "markdown",
      "metadata": {
        "id": "fzF0ZkWVdO6G"
      },
      "source": [
        "Le grand soucis c'est que les images ont pas la même shape mais heureusement l'attribut transform nous permet d'y remedier facilement."
      ]
    },
    {
      "cell_type": "code",
      "metadata": {
        "id": "jq_su4lGdW4P"
      },
      "source": [
        "\n",
        "\n",
        "trf = transforms.Compose([\n",
        "        transforms.Resize((256)),\n",
        "    ])\n",
        "#Cette transformation très simple va Baisser la résolution des images a (224,224)"
      ],
      "execution_count": 14,
      "outputs": []
    },
    {
      "cell_type": "code",
      "metadata": {
        "colab": {
          "base_uri": "https://localhost:8080/",
          "height": 382
        },
        "id": "YoAXA78fgJxg",
        "outputId": "90370840-bcd3-4661-fceb-0c8bdb5e0a51"
      },
      "source": [
        "dataset = Wheather_Dataset(\"dataset2\", transform=trf)\n",
        "for i in range(len(dataset)):\n",
        "    sample = dataset[i]\n",
        "    print(i, sample['image'].shape, sample['landmarks'])\n",
        "    if i == 3:\n",
        "        break"
      ],
      "execution_count": 15,
      "outputs": [
        {
          "output_type": "error",
          "ename": "TypeError",
          "evalue": "ignored",
          "traceback": [
            "\u001b[0;31m---------------------------------------------------------------------------\u001b[0m",
            "\u001b[0;31mTypeError\u001b[0m                                 Traceback (most recent call last)",
            "\u001b[0;32m<ipython-input-15-96f608762d71>\u001b[0m in \u001b[0;36m<module>\u001b[0;34m()\u001b[0m\n\u001b[1;32m      1\u001b[0m \u001b[0mdataset\u001b[0m \u001b[0;34m=\u001b[0m \u001b[0mWheather_Dataset\u001b[0m\u001b[0;34m(\u001b[0m\u001b[0;34m\"dataset2\"\u001b[0m\u001b[0;34m,\u001b[0m \u001b[0mtransform\u001b[0m\u001b[0;34m=\u001b[0m\u001b[0mtrf\u001b[0m\u001b[0;34m)\u001b[0m\u001b[0;34m\u001b[0m\u001b[0;34m\u001b[0m\u001b[0m\n\u001b[1;32m      2\u001b[0m \u001b[0;32mfor\u001b[0m \u001b[0mi\u001b[0m \u001b[0;32min\u001b[0m \u001b[0mrange\u001b[0m\u001b[0;34m(\u001b[0m\u001b[0mlen\u001b[0m\u001b[0;34m(\u001b[0m\u001b[0mdataset\u001b[0m\u001b[0;34m)\u001b[0m\u001b[0;34m)\u001b[0m\u001b[0;34m:\u001b[0m\u001b[0;34m\u001b[0m\u001b[0;34m\u001b[0m\u001b[0m\n\u001b[0;32m----> 3\u001b[0;31m     \u001b[0msample\u001b[0m \u001b[0;34m=\u001b[0m \u001b[0mdataset\u001b[0m\u001b[0;34m[\u001b[0m\u001b[0mi\u001b[0m\u001b[0;34m]\u001b[0m\u001b[0;34m\u001b[0m\u001b[0;34m\u001b[0m\u001b[0m\n\u001b[0m\u001b[1;32m      4\u001b[0m     \u001b[0mprint\u001b[0m\u001b[0;34m(\u001b[0m\u001b[0mi\u001b[0m\u001b[0;34m,\u001b[0m \u001b[0msample\u001b[0m\u001b[0;34m[\u001b[0m\u001b[0;34m'image'\u001b[0m\u001b[0;34m]\u001b[0m\u001b[0;34m.\u001b[0m\u001b[0mshape\u001b[0m\u001b[0;34m,\u001b[0m \u001b[0msample\u001b[0m\u001b[0;34m[\u001b[0m\u001b[0;34m'landmarks'\u001b[0m\u001b[0;34m]\u001b[0m\u001b[0;34m)\u001b[0m\u001b[0;34m\u001b[0m\u001b[0;34m\u001b[0m\u001b[0m\n\u001b[1;32m      5\u001b[0m     \u001b[0;32mif\u001b[0m \u001b[0mi\u001b[0m \u001b[0;34m==\u001b[0m \u001b[0;36m3\u001b[0m\u001b[0;34m:\u001b[0m\u001b[0;34m\u001b[0m\u001b[0;34m\u001b[0m\u001b[0m\n",
            "\u001b[0;32m<ipython-input-11-456e9837cc0f>\u001b[0m in \u001b[0;36m__getitem__\u001b[0;34m(self, idx)\u001b[0m\n\u001b[1;32m     28\u001b[0m \u001b[0;34m\u001b[0m\u001b[0m\n\u001b[1;32m     29\u001b[0m         \u001b[0;32mif\u001b[0m \u001b[0mself\u001b[0m\u001b[0;34m.\u001b[0m\u001b[0mtransform\u001b[0m\u001b[0;34m:\u001b[0m\u001b[0;34m\u001b[0m\u001b[0;34m\u001b[0m\u001b[0m\n\u001b[0;32m---> 30\u001b[0;31m             \u001b[0mimage\u001b[0m \u001b[0;34m=\u001b[0m \u001b[0mself\u001b[0m\u001b[0;34m.\u001b[0m\u001b[0mtransform\u001b[0m\u001b[0;34m(\u001b[0m\u001b[0mimage\u001b[0m\u001b[0;34m)\u001b[0m\u001b[0;34m\u001b[0m\u001b[0;34m\u001b[0m\u001b[0m\n\u001b[0m\u001b[1;32m     31\u001b[0m \u001b[0;34m\u001b[0m\u001b[0m\n\u001b[1;32m     32\u001b[0m         \u001b[0msample\u001b[0m \u001b[0;34m=\u001b[0m \u001b[0;34m{\u001b[0m\u001b[0;34m'image'\u001b[0m\u001b[0;34m:\u001b[0m \u001b[0mimage\u001b[0m\u001b[0;34m,\u001b[0m \u001b[0;34m'landmarks'\u001b[0m\u001b[0;34m:\u001b[0m \u001b[0mWheather_Dataset\u001b[0m\u001b[0;34m.\u001b[0m\u001b[0mclass_index\u001b[0m\u001b[0;34m.\u001b[0m\u001b[0mindex\u001b[0m\u001b[0;34m(\u001b[0m\u001b[0mclasse\u001b[0m\u001b[0;34m)\u001b[0m\u001b[0;34m}\u001b[0m\u001b[0;34m\u001b[0m\u001b[0;34m\u001b[0m\u001b[0m\n",
            "\u001b[0;32m/usr/local/lib/python3.6/dist-packages/torchvision/transforms/transforms.py\u001b[0m in \u001b[0;36m__call__\u001b[0;34m(self, img)\u001b[0m\n\u001b[1;32m     65\u001b[0m     \u001b[0;32mdef\u001b[0m \u001b[0m__call__\u001b[0m\u001b[0;34m(\u001b[0m\u001b[0mself\u001b[0m\u001b[0;34m,\u001b[0m \u001b[0mimg\u001b[0m\u001b[0;34m)\u001b[0m\u001b[0;34m:\u001b[0m\u001b[0;34m\u001b[0m\u001b[0;34m\u001b[0m\u001b[0m\n\u001b[1;32m     66\u001b[0m         \u001b[0;32mfor\u001b[0m \u001b[0mt\u001b[0m \u001b[0;32min\u001b[0m \u001b[0mself\u001b[0m\u001b[0;34m.\u001b[0m\u001b[0mtransforms\u001b[0m\u001b[0;34m:\u001b[0m\u001b[0;34m\u001b[0m\u001b[0;34m\u001b[0m\u001b[0m\n\u001b[0;32m---> 67\u001b[0;31m             \u001b[0mimg\u001b[0m \u001b[0;34m=\u001b[0m \u001b[0mt\u001b[0m\u001b[0;34m(\u001b[0m\u001b[0mimg\u001b[0m\u001b[0;34m)\u001b[0m\u001b[0;34m\u001b[0m\u001b[0;34m\u001b[0m\u001b[0m\n\u001b[0m\u001b[1;32m     68\u001b[0m         \u001b[0;32mreturn\u001b[0m \u001b[0mimg\u001b[0m\u001b[0;34m\u001b[0m\u001b[0;34m\u001b[0m\u001b[0m\n\u001b[1;32m     69\u001b[0m \u001b[0;34m\u001b[0m\u001b[0m\n",
            "\u001b[0;32m/usr/local/lib/python3.6/dist-packages/torch/nn/modules/module.py\u001b[0m in \u001b[0;36m_call_impl\u001b[0;34m(self, *input, **kwargs)\u001b[0m\n\u001b[1;32m    725\u001b[0m             \u001b[0mresult\u001b[0m \u001b[0;34m=\u001b[0m \u001b[0mself\u001b[0m\u001b[0;34m.\u001b[0m\u001b[0m_slow_forward\u001b[0m\u001b[0;34m(\u001b[0m\u001b[0;34m*\u001b[0m\u001b[0minput\u001b[0m\u001b[0;34m,\u001b[0m \u001b[0;34m**\u001b[0m\u001b[0mkwargs\u001b[0m\u001b[0;34m)\u001b[0m\u001b[0;34m\u001b[0m\u001b[0;34m\u001b[0m\u001b[0m\n\u001b[1;32m    726\u001b[0m         \u001b[0;32melse\u001b[0m\u001b[0;34m:\u001b[0m\u001b[0;34m\u001b[0m\u001b[0;34m\u001b[0m\u001b[0m\n\u001b[0;32m--> 727\u001b[0;31m             \u001b[0mresult\u001b[0m \u001b[0;34m=\u001b[0m \u001b[0mself\u001b[0m\u001b[0;34m.\u001b[0m\u001b[0mforward\u001b[0m\u001b[0;34m(\u001b[0m\u001b[0;34m*\u001b[0m\u001b[0minput\u001b[0m\u001b[0;34m,\u001b[0m \u001b[0;34m**\u001b[0m\u001b[0mkwargs\u001b[0m\u001b[0;34m)\u001b[0m\u001b[0;34m\u001b[0m\u001b[0;34m\u001b[0m\u001b[0m\n\u001b[0m\u001b[1;32m    728\u001b[0m         for hook in itertools.chain(\n\u001b[1;32m    729\u001b[0m                 \u001b[0m_global_forward_hooks\u001b[0m\u001b[0;34m.\u001b[0m\u001b[0mvalues\u001b[0m\u001b[0;34m(\u001b[0m\u001b[0;34m)\u001b[0m\u001b[0;34m,\u001b[0m\u001b[0;34m\u001b[0m\u001b[0;34m\u001b[0m\u001b[0m\n",
            "\u001b[0;32m/usr/local/lib/python3.6/dist-packages/torchvision/transforms/transforms.py\u001b[0m in \u001b[0;36mforward\u001b[0;34m(self, img)\u001b[0m\n\u001b[1;32m    265\u001b[0m             \u001b[0mPIL\u001b[0m \u001b[0mImage\u001b[0m \u001b[0;32mor\u001b[0m \u001b[0mTensor\u001b[0m\u001b[0;34m:\u001b[0m \u001b[0mRescaled\u001b[0m \u001b[0mimage\u001b[0m\u001b[0;34m.\u001b[0m\u001b[0;34m\u001b[0m\u001b[0;34m\u001b[0m\u001b[0m\n\u001b[1;32m    266\u001b[0m         \"\"\"\n\u001b[0;32m--> 267\u001b[0;31m         \u001b[0;32mreturn\u001b[0m \u001b[0mF\u001b[0m\u001b[0;34m.\u001b[0m\u001b[0mresize\u001b[0m\u001b[0;34m(\u001b[0m\u001b[0mimg\u001b[0m\u001b[0;34m,\u001b[0m \u001b[0mself\u001b[0m\u001b[0;34m.\u001b[0m\u001b[0msize\u001b[0m\u001b[0;34m,\u001b[0m \u001b[0mself\u001b[0m\u001b[0;34m.\u001b[0m\u001b[0minterpolation\u001b[0m\u001b[0;34m)\u001b[0m\u001b[0;34m\u001b[0m\u001b[0;34m\u001b[0m\u001b[0m\n\u001b[0m\u001b[1;32m    268\u001b[0m \u001b[0;34m\u001b[0m\u001b[0m\n\u001b[1;32m    269\u001b[0m     \u001b[0;32mdef\u001b[0m \u001b[0m__repr__\u001b[0m\u001b[0;34m(\u001b[0m\u001b[0mself\u001b[0m\u001b[0;34m)\u001b[0m\u001b[0;34m:\u001b[0m\u001b[0;34m\u001b[0m\u001b[0;34m\u001b[0m\u001b[0m\n",
            "\u001b[0;32m/usr/local/lib/python3.6/dist-packages/torchvision/transforms/functional.py\u001b[0m in \u001b[0;36mresize\u001b[0;34m(img, size, interpolation)\u001b[0m\n\u001b[1;32m    308\u001b[0m     \"\"\"\n\u001b[1;32m    309\u001b[0m     \u001b[0;32mif\u001b[0m \u001b[0;32mnot\u001b[0m \u001b[0misinstance\u001b[0m\u001b[0;34m(\u001b[0m\u001b[0mimg\u001b[0m\u001b[0;34m,\u001b[0m \u001b[0mtorch\u001b[0m\u001b[0;34m.\u001b[0m\u001b[0mTensor\u001b[0m\u001b[0;34m)\u001b[0m\u001b[0;34m:\u001b[0m\u001b[0;34m\u001b[0m\u001b[0;34m\u001b[0m\u001b[0m\n\u001b[0;32m--> 310\u001b[0;31m         \u001b[0;32mreturn\u001b[0m \u001b[0mF_pil\u001b[0m\u001b[0;34m.\u001b[0m\u001b[0mresize\u001b[0m\u001b[0;34m(\u001b[0m\u001b[0mimg\u001b[0m\u001b[0;34m,\u001b[0m \u001b[0msize\u001b[0m\u001b[0;34m=\u001b[0m\u001b[0msize\u001b[0m\u001b[0;34m,\u001b[0m \u001b[0minterpolation\u001b[0m\u001b[0;34m=\u001b[0m\u001b[0minterpolation\u001b[0m\u001b[0;34m)\u001b[0m\u001b[0;34m\u001b[0m\u001b[0;34m\u001b[0m\u001b[0m\n\u001b[0m\u001b[1;32m    311\u001b[0m \u001b[0;34m\u001b[0m\u001b[0m\n\u001b[1;32m    312\u001b[0m     \u001b[0;32mreturn\u001b[0m \u001b[0mF_t\u001b[0m\u001b[0;34m.\u001b[0m\u001b[0mresize\u001b[0m\u001b[0;34m(\u001b[0m\u001b[0mimg\u001b[0m\u001b[0;34m,\u001b[0m \u001b[0msize\u001b[0m\u001b[0;34m=\u001b[0m\u001b[0msize\u001b[0m\u001b[0;34m,\u001b[0m \u001b[0minterpolation\u001b[0m\u001b[0;34m=\u001b[0m\u001b[0minterpolation\u001b[0m\u001b[0;34m)\u001b[0m\u001b[0;34m\u001b[0m\u001b[0;34m\u001b[0m\u001b[0m\n",
            "\u001b[0;32m/usr/local/lib/python3.6/dist-packages/torchvision/transforms/functional_pil.py\u001b[0m in \u001b[0;36mresize\u001b[0;34m(img, size, interpolation)\u001b[0m\n\u001b[1;32m    408\u001b[0m     \"\"\"\n\u001b[1;32m    409\u001b[0m     \u001b[0;32mif\u001b[0m \u001b[0;32mnot\u001b[0m \u001b[0m_is_pil_image\u001b[0m\u001b[0;34m(\u001b[0m\u001b[0mimg\u001b[0m\u001b[0;34m)\u001b[0m\u001b[0;34m:\u001b[0m\u001b[0;34m\u001b[0m\u001b[0;34m\u001b[0m\u001b[0m\n\u001b[0;32m--> 410\u001b[0;31m         \u001b[0;32mraise\u001b[0m \u001b[0mTypeError\u001b[0m\u001b[0;34m(\u001b[0m\u001b[0;34m'img should be PIL Image. Got {}'\u001b[0m\u001b[0;34m.\u001b[0m\u001b[0mformat\u001b[0m\u001b[0;34m(\u001b[0m\u001b[0mtype\u001b[0m\u001b[0;34m(\u001b[0m\u001b[0mimg\u001b[0m\u001b[0;34m)\u001b[0m\u001b[0;34m)\u001b[0m\u001b[0;34m)\u001b[0m\u001b[0;34m\u001b[0m\u001b[0;34m\u001b[0m\u001b[0m\n\u001b[0m\u001b[1;32m    411\u001b[0m     \u001b[0;32mif\u001b[0m \u001b[0;32mnot\u001b[0m \u001b[0;34m(\u001b[0m\u001b[0misinstance\u001b[0m\u001b[0;34m(\u001b[0m\u001b[0msize\u001b[0m\u001b[0;34m,\u001b[0m \u001b[0mint\u001b[0m\u001b[0;34m)\u001b[0m \u001b[0;32mor\u001b[0m \u001b[0;34m(\u001b[0m\u001b[0misinstance\u001b[0m\u001b[0;34m(\u001b[0m\u001b[0msize\u001b[0m\u001b[0;34m,\u001b[0m \u001b[0mSequence\u001b[0m\u001b[0;34m)\u001b[0m \u001b[0;32mand\u001b[0m \u001b[0mlen\u001b[0m\u001b[0;34m(\u001b[0m\u001b[0msize\u001b[0m\u001b[0;34m)\u001b[0m \u001b[0;32min\u001b[0m \u001b[0;34m(\u001b[0m\u001b[0;36m1\u001b[0m\u001b[0;34m,\u001b[0m \u001b[0;36m2\u001b[0m\u001b[0;34m)\u001b[0m\u001b[0;34m)\u001b[0m\u001b[0;34m)\u001b[0m\u001b[0;34m:\u001b[0m\u001b[0;34m\u001b[0m\u001b[0;34m\u001b[0m\u001b[0m\n\u001b[1;32m    412\u001b[0m         \u001b[0;32mraise\u001b[0m \u001b[0mTypeError\u001b[0m\u001b[0;34m(\u001b[0m\u001b[0;34m'Got inappropriate size arg: {}'\u001b[0m\u001b[0;34m.\u001b[0m\u001b[0mformat\u001b[0m\u001b[0;34m(\u001b[0m\u001b[0msize\u001b[0m\u001b[0;34m)\u001b[0m\u001b[0;34m)\u001b[0m\u001b[0;34m\u001b[0m\u001b[0;34m\u001b[0m\u001b[0m\n",
            "\u001b[0;31mTypeError\u001b[0m: img should be PIL Image. Got <class 'numpy.ndarray'>"
          ]
        }
      ]
    },
    {
      "cell_type": "code",
      "metadata": {
        "id": "004Tmu3YgwKV"
      },
      "source": [
        "trf = transforms.Compose([\n",
        "        transforms.ToPILImage(),\n",
        "        transforms.Resize((256,256)),\n",
        "    ]) #Faut d'abord convertir en Image PIL\n",
        "dataset = Wheather_Dataset(\"dataset2\", transform=trf)\n"
      ],
      "execution_count": 16,
      "outputs": []
    },
    {
      "cell_type": "code",
      "metadata": {
        "colab": {
          "base_uri": "https://localhost:8080/",
          "height": 391
        },
        "id": "C6xmsrQ7gN5n",
        "outputId": "c8f6811e-33a1-42b4-9dc8-a803c3451a29"
      },
      "source": [
        "for i in range(len(dataset)):\n",
        "    sample = dataset[i]\n",
        "    print(i, sample['image'], sample['landmarks'])\n",
        "    if i == 3:\n",
        "        break\n",
        "    pix = np.array(sample['image'])\n",
        "    print(pix.shape)\n",
        "    plt.imshow(pix)"
      ],
      "execution_count": 17,
      "outputs": [
        {
          "output_type": "stream",
          "text": [
            "0 <PIL.Image.Image image mode=RGB size=256x256 at 0x7F77E9C9A7F0> 3\n",
            "(256, 256, 3)\n",
            "1 <PIL.Image.Image image mode=RGB size=256x256 at 0x7F77E90575F8> 3\n",
            "(256, 256, 3)\n",
            "2 <PIL.Image.Image image mode=RGB size=256x256 at 0x7F77E9057908> 2\n",
            "(256, 256, 3)\n",
            "3 <PIL.Image.Image image mode=RGB size=256x256 at 0x7F77E9057C18> 2\n"
          ],
          "name": "stdout"
        },
        {
          "output_type": "display_data",
          "data": {
            "image/png": "[encoded data removed]",
            "text/plain": [
              "<Figure size 432x288 with 1 Axes>"
            ]
          },
          "metadata": {
            "tags": [],
            "needs_background": "light"
          }
        }
      ]
    },
    {
      "cell_type": "code",
      "metadata": {
        "id": "h60PPHk0h5aO"
      },
      "source": [
        "trf = transforms.Compose([\n",
        "        transforms.ToPILImage(),\n",
        "        transforms.Resize((256,256)),\n",
        "        transforms.ToTensor()\n",
        "    ]) #Faut d'abord convertir en Image PIL\n",
        "dataset = Wheather_Dataset(\"dataset2\", transform=trf)"
      ],
      "execution_count": 18,
      "outputs": []
    },
    {
      "cell_type": "code",
      "metadata": {
        "colab": {
          "base_uri": "https://localhost:8080/",
          "height": 443
        },
        "id": "mFxdkftIh-HQ",
        "outputId": "f3a88b55-8274-40bc-b2d8-fda77909f0b1"
      },
      "source": [
        "for i in range(len(dataset)):\n",
        "    sample = dataset[i]\n",
        "    print(i, sample['image'].shape, sample['landmarks'])\n",
        "    if i == 3:\n",
        "        break\n",
        "    pix = sample[\"image\"].numpy()\n",
        "    print(pix.shape)\n",
        "    pix = np.swapaxes(pix, 0,2)\n",
        "    pix = np.swapaxes(pix, 1,0)\n",
        "    print(pix.shape)\n",
        "    plt.imshow(pix)"
      ],
      "execution_count": 19,
      "outputs": [
        {
          "output_type": "stream",
          "text": [
            "0 torch.Size([3, 256, 256]) 3\n",
            "(3, 256, 256)\n",
            "(256, 256, 3)\n",
            "1 torch.Size([3, 256, 256]) 3\n",
            "(3, 256, 256)\n",
            "(256, 256, 3)\n",
            "2 torch.Size([3, 256, 256]) 2\n",
            "(3, 256, 256)\n",
            "(256, 256, 3)\n",
            "3 torch.Size([3, 256, 256]) 2\n"
          ],
          "name": "stdout"
        },
        {
          "output_type": "display_data",
          "data": {
            "image/png": "[encoded data removed]",
            "text/plain": [
              "<Figure size 432x288 with 1 Axes>"
            ]
          },
          "metadata": {
            "tags": [],
            "needs_background": "light"
          }
        }
      ]
    },
    {
      "cell_type": "code",
      "metadata": {
        "colab": {
          "base_uri": "https://localhost:8080/",
          "height": 286
        },
        "id": "iqEzUr21j9CL",
        "outputId": "f57d9f40-8dbb-4a63-d265-68290c0cebf7"
      },
      "source": [
        "#On garde ça dans une fonction\n",
        "def visualize(tensor_image):\n",
        "    pix = tensor_image.numpy()\n",
        "    pix = np.swapaxes(pix, 0,2)\n",
        "    pix = np.swapaxes(pix, 1,0)\n",
        "    plt.imshow(pix)\n",
        "    return pix\n",
        "\n",
        "\n",
        "visualize(sample[\"image\"]).shape, sample[\"landmarks\"]"
      ],
      "execution_count": 20,
      "outputs": [
        {
          "output_type": "execute_result",
          "data": {
            "text/plain": [
              "((256, 256, 3), 2)"
            ]
          },
          "metadata": {
            "tags": []
          },
          "execution_count": 20
        },
        {
          "output_type": "display_data",
          "data": {
            "image/png": "[encoded data removed]",
            "text/plain": [
              "<Figure size 432x288 with 1 Axes>"
            ]
          },
          "metadata": {
            "tags": [],
            "needs_background": "light"
          }
        }
      ]
    },
    {
      "cell_type": "code",
      "metadata": {
        "id": "9LlrmPhikpv7"
      },
      "source": [
        "\n",
        "\n",
        "\n",
        "class Image_Classifier(nn.Module):\n",
        "    def __init__(self):\n",
        "        super(Image_Classifier, self).__init__()\n",
        "        self.fc1 = nn.Linear(256 * 256 * 3, 4)\n",
        "\n",
        "    def forward(self, x):\n",
        "      x = torch.flatten(x, start_dim=1)\n",
        "      x = self.fc1(x)\n",
        "      return x\n",
        "\n",
        "dataset = Wheather_Dataset(\"dataset2\", transform=trf)\n",
        "testloader = torch.utils.data.DataLoader(dataset, batch_size=4, shuffle=False, num_workers=2)"
      ],
      "execution_count": 21,
      "outputs": []
    },
    {
      "cell_type": "code",
      "metadata": {
        "colab": {
          "base_uri": "https://localhost:8080/"
        },
        "id": "DN-dO8bGlXVP",
        "outputId": "cefc4f8c-cc1f-4ced-c027-ae78e60ad865"
      },
      "source": [
        "for i in testloader:\n",
        "  print(i[\"image\"].shape)\n",
        "  \n",
        "  break"
      ],
      "execution_count": 22,
      "outputs": [
        {
          "output_type": "stream",
          "text": [
            "torch.Size([4, 3, 256, 256])\n"
          ],
          "name": "stdout"
        }
      ]
    },
    {
      "cell_type": "code",
      "metadata": {
        "colab": {
          "base_uri": "https://localhost:8080/"
        },
        "id": "KNGIH7n_lyhW",
        "outputId": "6164d096-8e8d-4093-a186-2a88d7466e86"
      },
      "source": [
        "net = Image_Classifier()\n",
        "for i in testloader:\n",
        "  imgs = i[\"image\"]\n",
        "  p = net(imgs)\n",
        "  print(p.shape)\n",
        "  print(i[\"landmarks\"].shape)\n",
        "  break"
      ],
      "execution_count": 23,
      "outputs": [
        {
          "output_type": "stream",
          "text": [
            "torch.Size([4, 4])\n",
            "torch.Size([4])\n"
          ],
          "name": "stdout"
        }
      ]
    },
    {
      "cell_type": "code",
      "metadata": {
        "colab": {
          "base_uri": "https://localhost:8080/"
        },
        "id": "ydUuPal7tLu5",
        "outputId": "8e60713c-506a-4807-8fd5-1adaa84ed8fd"
      },
      "source": [
        "net = Image_Classifier()\n",
        "criterion = nn.CrossEntropyLoss()\n",
        "for i in testloader:\n",
        "  imgs = i[\"image\"] #Indice des vraies classes (4)\n",
        "  p = net(imgs) #Probabilité [4] de chaque classe [4] donc [4,4]\n",
        "  print(criterion(p, i[\"landmarks\"]))\n",
        "  break"
      ],
      "execution_count": 24,
      "outputs": [
        {
          "output_type": "stream",
          "text": [
            "tensor(1.6363, grad_fn=<NllLossBackward>)\n"
          ],
          "name": "stdout"
        }
      ]
    },
    {
      "cell_type": "code",
      "metadata": {
        "colab": {
          "base_uri": "https://localhost:8080/",
          "height": 660
        },
        "id": "IK2qomdWuR5-",
        "outputId": "36ee8626-699a-4709-d867-0ade1d04b82d"
      },
      "source": [
        "net = Image_Classifier()\n",
        "criterion = nn.CrossEntropyLoss()\n",
        "optimizer = torch.optim.SGD(net.parameters(), lr=5e-1)\n",
        "for i in testloader:\n",
        "  imgs = i[\"image\"] #Indice des vraies classes (4)\n",
        "  p = net(imgs) #Probabilité [4] de chaque classe [4] donc [4,4]\n",
        "  loss = criterion(p, i[\"landmarks\"])\n",
        "  loss.backward()\n",
        "  optimizer.step()\n",
        "  optimizer.zero_grad()\n",
        "print(loss)"
      ],
      "execution_count": 25,
      "outputs": [
        {
          "output_type": "error",
          "ename": "TypeError",
          "evalue": "ignored",
          "traceback": [
            "\u001b[0;31m---------------------------------------------------------------------------\u001b[0m",
            "\u001b[0;31mTypeError\u001b[0m                                 Traceback (most recent call last)",
            "\u001b[0;32m<ipython-input-25-77222c4c3747>\u001b[0m in \u001b[0;36m<module>\u001b[0;34m()\u001b[0m\n\u001b[1;32m      2\u001b[0m \u001b[0mcriterion\u001b[0m \u001b[0;34m=\u001b[0m \u001b[0mnn\u001b[0m\u001b[0;34m.\u001b[0m\u001b[0mCrossEntropyLoss\u001b[0m\u001b[0;34m(\u001b[0m\u001b[0;34m)\u001b[0m\u001b[0;34m\u001b[0m\u001b[0;34m\u001b[0m\u001b[0m\n\u001b[1;32m      3\u001b[0m \u001b[0moptimizer\u001b[0m \u001b[0;34m=\u001b[0m \u001b[0mtorch\u001b[0m\u001b[0;34m.\u001b[0m\u001b[0moptim\u001b[0m\u001b[0;34m.\u001b[0m\u001b[0mSGD\u001b[0m\u001b[0;34m(\u001b[0m\u001b[0mnet\u001b[0m\u001b[0;34m.\u001b[0m\u001b[0mparameters\u001b[0m\u001b[0;34m(\u001b[0m\u001b[0;34m)\u001b[0m\u001b[0;34m,\u001b[0m \u001b[0mlr\u001b[0m\u001b[0;34m=\u001b[0m\u001b[0;36m5e-1\u001b[0m\u001b[0;34m)\u001b[0m\u001b[0;34m\u001b[0m\u001b[0;34m\u001b[0m\u001b[0m\n\u001b[0;32m----> 4\u001b[0;31m \u001b[0;32mfor\u001b[0m \u001b[0mi\u001b[0m \u001b[0;32min\u001b[0m \u001b[0mtestloader\u001b[0m\u001b[0;34m:\u001b[0m\u001b[0;34m\u001b[0m\u001b[0;34m\u001b[0m\u001b[0m\n\u001b[0m\u001b[1;32m      5\u001b[0m   \u001b[0mimgs\u001b[0m \u001b[0;34m=\u001b[0m \u001b[0mi\u001b[0m\u001b[0;34m[\u001b[0m\u001b[0;34m\"image\"\u001b[0m\u001b[0;34m]\u001b[0m \u001b[0;31m#Indice des vraies classes (4)\u001b[0m\u001b[0;34m\u001b[0m\u001b[0;34m\u001b[0m\u001b[0m\n\u001b[1;32m      6\u001b[0m   \u001b[0mp\u001b[0m \u001b[0;34m=\u001b[0m \u001b[0mnet\u001b[0m\u001b[0;34m(\u001b[0m\u001b[0mimgs\u001b[0m\u001b[0;34m)\u001b[0m \u001b[0;31m#Probabilité [4] de chaque classe [4] donc [4,4]\u001b[0m\u001b[0;34m\u001b[0m\u001b[0;34m\u001b[0m\u001b[0m\n",
            "\u001b[0;32m/usr/local/lib/python3.6/dist-packages/torch/utils/data/dataloader.py\u001b[0m in \u001b[0;36m__next__\u001b[0;34m(self)\u001b[0m\n\u001b[1;32m    433\u001b[0m         \u001b[0;32mif\u001b[0m \u001b[0mself\u001b[0m\u001b[0;34m.\u001b[0m\u001b[0m_sampler_iter\u001b[0m \u001b[0;32mis\u001b[0m \u001b[0;32mNone\u001b[0m\u001b[0;34m:\u001b[0m\u001b[0;34m\u001b[0m\u001b[0;34m\u001b[0m\u001b[0m\n\u001b[1;32m    434\u001b[0m             \u001b[0mself\u001b[0m\u001b[0;34m.\u001b[0m\u001b[0m_reset\u001b[0m\u001b[0;34m(\u001b[0m\u001b[0;34m)\u001b[0m\u001b[0;34m\u001b[0m\u001b[0;34m\u001b[0m\u001b[0m\n\u001b[0;32m--> 435\u001b[0;31m         \u001b[0mdata\u001b[0m \u001b[0;34m=\u001b[0m \u001b[0mself\u001b[0m\u001b[0;34m.\u001b[0m\u001b[0m_next_data\u001b[0m\u001b[0;34m(\u001b[0m\u001b[0;34m)\u001b[0m\u001b[0;34m\u001b[0m\u001b[0;34m\u001b[0m\u001b[0m\n\u001b[0m\u001b[1;32m    436\u001b[0m         \u001b[0mself\u001b[0m\u001b[0;34m.\u001b[0m\u001b[0m_num_yielded\u001b[0m \u001b[0;34m+=\u001b[0m \u001b[0;36m1\u001b[0m\u001b[0;34m\u001b[0m\u001b[0;34m\u001b[0m\u001b[0m\n\u001b[1;32m    437\u001b[0m         \u001b[0;32mif\u001b[0m \u001b[0mself\u001b[0m\u001b[0;34m.\u001b[0m\u001b[0m_dataset_kind\u001b[0m \u001b[0;34m==\u001b[0m \u001b[0m_DatasetKind\u001b[0m\u001b[0;34m.\u001b[0m\u001b[0mIterable\u001b[0m \u001b[0;32mand\u001b[0m\u001b[0;31m \u001b[0m\u001b[0;31m\\\u001b[0m\u001b[0;34m\u001b[0m\u001b[0;34m\u001b[0m\u001b[0m\n",
            "\u001b[0;32m/usr/local/lib/python3.6/dist-packages/torch/utils/data/dataloader.py\u001b[0m in \u001b[0;36m_next_data\u001b[0;34m(self)\u001b[0m\n\u001b[1;32m   1083\u001b[0m             \u001b[0;32melse\u001b[0m\u001b[0;34m:\u001b[0m\u001b[0;34m\u001b[0m\u001b[0;34m\u001b[0m\u001b[0m\n\u001b[1;32m   1084\u001b[0m                 \u001b[0;32mdel\u001b[0m \u001b[0mself\u001b[0m\u001b[0;34m.\u001b[0m\u001b[0m_task_info\u001b[0m\u001b[0;34m[\u001b[0m\u001b[0midx\u001b[0m\u001b[0;34m]\u001b[0m\u001b[0;34m\u001b[0m\u001b[0;34m\u001b[0m\u001b[0m\n\u001b[0;32m-> 1085\u001b[0;31m                 \u001b[0;32mreturn\u001b[0m \u001b[0mself\u001b[0m\u001b[0;34m.\u001b[0m\u001b[0m_process_data\u001b[0m\u001b[0;34m(\u001b[0m\u001b[0mdata\u001b[0m\u001b[0;34m)\u001b[0m\u001b[0;34m\u001b[0m\u001b[0;34m\u001b[0m\u001b[0m\n\u001b[0m\u001b[1;32m   1086\u001b[0m \u001b[0;34m\u001b[0m\u001b[0m\n\u001b[1;32m   1087\u001b[0m     \u001b[0;32mdef\u001b[0m \u001b[0m_try_put_index\u001b[0m\u001b[0;34m(\u001b[0m\u001b[0mself\u001b[0m\u001b[0;34m)\u001b[0m\u001b[0;34m:\u001b[0m\u001b[0;34m\u001b[0m\u001b[0;34m\u001b[0m\u001b[0m\n",
            "\u001b[0;32m/usr/local/lib/python3.6/dist-packages/torch/utils/data/dataloader.py\u001b[0m in \u001b[0;36m_process_data\u001b[0;34m(self, data)\u001b[0m\n\u001b[1;32m   1109\u001b[0m         \u001b[0mself\u001b[0m\u001b[0;34m.\u001b[0m\u001b[0m_try_put_index\u001b[0m\u001b[0;34m(\u001b[0m\u001b[0;34m)\u001b[0m\u001b[0;34m\u001b[0m\u001b[0;34m\u001b[0m\u001b[0m\n\u001b[1;32m   1110\u001b[0m         \u001b[0;32mif\u001b[0m \u001b[0misinstance\u001b[0m\u001b[0;34m(\u001b[0m\u001b[0mdata\u001b[0m\u001b[0;34m,\u001b[0m \u001b[0mExceptionWrapper\u001b[0m\u001b[0;34m)\u001b[0m\u001b[0;34m:\u001b[0m\u001b[0;34m\u001b[0m\u001b[0;34m\u001b[0m\u001b[0m\n\u001b[0;32m-> 1111\u001b[0;31m             \u001b[0mdata\u001b[0m\u001b[0;34m.\u001b[0m\u001b[0mreraise\u001b[0m\u001b[0;34m(\u001b[0m\u001b[0;34m)\u001b[0m\u001b[0;34m\u001b[0m\u001b[0;34m\u001b[0m\u001b[0m\n\u001b[0m\u001b[1;32m   1112\u001b[0m         \u001b[0;32mreturn\u001b[0m \u001b[0mdata\u001b[0m\u001b[0;34m\u001b[0m\u001b[0;34m\u001b[0m\u001b[0m\n\u001b[1;32m   1113\u001b[0m \u001b[0;34m\u001b[0m\u001b[0m\n",
            "\u001b[0;32m/usr/local/lib/python3.6/dist-packages/torch/_utils.py\u001b[0m in \u001b[0;36mreraise\u001b[0;34m(self)\u001b[0m\n\u001b[1;32m    426\u001b[0m             \u001b[0;31m# have message field\u001b[0m\u001b[0;34m\u001b[0m\u001b[0;34m\u001b[0m\u001b[0;34m\u001b[0m\u001b[0m\n\u001b[1;32m    427\u001b[0m             \u001b[0;32mraise\u001b[0m \u001b[0mself\u001b[0m\u001b[0;34m.\u001b[0m\u001b[0mexc_type\u001b[0m\u001b[0;34m(\u001b[0m\u001b[0mmessage\u001b[0m\u001b[0;34m=\u001b[0m\u001b[0mmsg\u001b[0m\u001b[0;34m)\u001b[0m\u001b[0;34m\u001b[0m\u001b[0;34m\u001b[0m\u001b[0m\n\u001b[0;32m--> 428\u001b[0;31m         \u001b[0;32mraise\u001b[0m \u001b[0mself\u001b[0m\u001b[0;34m.\u001b[0m\u001b[0mexc_type\u001b[0m\u001b[0;34m(\u001b[0m\u001b[0mmsg\u001b[0m\u001b[0;34m)\u001b[0m\u001b[0;34m\u001b[0m\u001b[0;34m\u001b[0m\u001b[0m\n\u001b[0m\u001b[1;32m    429\u001b[0m \u001b[0;34m\u001b[0m\u001b[0m\n\u001b[1;32m    430\u001b[0m \u001b[0;34m\u001b[0m\u001b[0m\n",
            "\u001b[0;31mTypeError\u001b[0m: Caught TypeError in DataLoader worker process 1.\nOriginal Traceback (most recent call last):\n  File \"/usr/local/lib/python3.6/dist-packages/torch/utils/data/_utils/worker.py\", line 198, in _worker_loop\n    data = fetcher.fetch(index)\n  File \"/usr/local/lib/python3.6/dist-packages/torch/utils/data/_utils/fetch.py\", line 44, in fetch\n    data = [self.dataset[idx] for idx in possibly_batched_index]\n  File \"/usr/local/lib/python3.6/dist-packages/torch/utils/data/_utils/fetch.py\", line 44, in <listcomp>\n    data = [self.dataset[idx] for idx in possibly_batched_index]\n  File \"<ipython-input-11-456e9837cc0f>\", line 30, in __getitem__\n    image = self.transform(image)\n  File \"/usr/local/lib/python3.6/dist-packages/torchvision/transforms/transforms.py\", line 67, in __call__\n    img = t(img)\n  File \"/usr/local/lib/python3.6/dist-packages/torchvision/transforms/transforms.py\", line 185, in __call__\n    return F.to_pil_image(pic, self.mode)\n  File \"/usr/local/lib/python3.6/dist-packages/torchvision/transforms/functional.py\", line 176, in to_pil_image\n    raise TypeError('pic should be Tensor or ndarray. Got {}.'.format(type(pic)))\nTypeError: pic should be Tensor or ndarray. Got <class 'NoneType'>.\n"
          ]
        }
      ]
    },
    {
      "cell_type": "markdown",
      "metadata": {
        "id": "xgJcA7kngJCV"
      },
      "source": [
        "Apparemment y'a un souci avec une image, je vais pas conséquent ajouter un mécanisme d'exception.\n"
      ]
    },
    {
      "cell_type": "code",
      "metadata": {
        "id": "WtzErspjvlPz"
      },
      "source": [
        "\n",
        "class Wheather_Dataset(Dataset):\n",
        "    \"\"\"Face Landmarks dataset.\"\"\"\n",
        "\n",
        "    class_index = [\"cloudy\", \"rain\", \"shine\", \"sunrise\"]\n",
        "\n",
        "    def __init__(self, root_dir, transform=None):\n",
        "        self.dirs = os.listdir(root_dir)\n",
        "        self.root_dir = root_dir\n",
        "        self.transform = transform\n",
        "\n",
        "\n",
        "    def __len__(self):\n",
        "        return len(self.dirs)\n",
        "\n",
        "    def __getitem__(self, idx):\n",
        "        if torch.is_tensor(idx):\n",
        "            idx = idx.tolist()\n",
        "\n",
        "        img_name = os.path.join(self.root_dir,self.dirs[idx])\n",
        "\n",
        "        image = cv2.imread(img_name)\n",
        "\n",
        "        classe = re.findall(r\"(\\D+)\",self.dirs[idx])[0]\n",
        "\n",
        "        try:\n",
        "          if self.transform:\n",
        "              image = self.transform(image)\n",
        "        except:\n",
        "          print(\"ERREUR AVEC L'IMAGE : \",img_name)\n",
        "          \n",
        "        sample = {'image': image, 'landmarks': Wheather_Dataset.class_index.index(classe)}\n",
        "\n",
        "        return sample"
      ],
      "execution_count": 32,
      "outputs": []
    },
    {
      "cell_type": "code",
      "metadata": {
        "colab": {
          "base_uri": "https://localhost:8080/"
        },
        "id": "tCFNt1Kzvui1",
        "outputId": "38029687-8186-4881-8772-8f0c1dd8aad0"
      },
      "source": [
        "trf = transforms.Compose([\n",
        "        transforms.ToPILImage(),\n",
        "        transforms.Resize((256,256)),\n",
        "        transforms.ToTensor()\n",
        "    ]) #Faut d'abord convertir en Image PIL\n",
        "dataset = Wheather_Dataset(\"dataset2\", transform=trf)\n",
        "testloader = torch.utils.data.DataLoader(dataset, batch_size=4, shuffle=True, num_workers=2)\n",
        "net = Image_Classifier()\n",
        "criterion = nn.CrossEntropyLoss()\n",
        "optimizer = torch.optim.SGD(net.parameters(), lr=5e-1)\n",
        "for i in testloader:\n",
        "  imgs = i[\"image\"] #Indice des vraies classes (4)\n",
        "  p = net(imgs) #Probabilité [4] de chaque classe [4] donc [4,4]\n",
        "  loss = criterion(p, i[\"landmarks\"])\n",
        "  loss.backward()\n",
        "  optimizer.step()\n",
        "  optimizer.zero_grad()\n",
        "print(loss)"
      ],
      "execution_count": 36,
      "outputs": [
        {
          "output_type": "stream",
          "text": [
            "Exception ignored in: <bound method _MultiProcessingDataLoaderIter.__del__ of <torch.utils.data.dataloader._MultiProcessingDataLoaderIter object at 0x7f77e9c9a588>>\n",
            "Traceback (most recent call last):\n",
            "  File \"/usr/local/lib/python3.6/dist-packages/torch/utils/data/dataloader.py\", line 1203, in __del__\n",
            "    self._shutdown_workers()\n",
            "  File \"/usr/local/lib/python3.6/dist-packages/torch/utils/data/dataloader.py\", line 1177, in _shutdown_workers\n",
            "    w.join(timeout=_utils.MP_STATUS_CHECK_INTERVAL)\n",
            "  File \"/usr/lib/python3.6/multiprocessing/process.py\", line 122, in join\n",
            "    assert self._parent_pid == os.getpid(), 'can only join a child process'\n",
            "AssertionError: can only join a child process\n",
            "Exception ignored in: <bound method _MultiProcessingDataLoaderIter.__del__ of <torch.utils.data.dataloader._MultiProcessingDataLoaderIter object at 0x7f77e9c7b400>>\n",
            "Traceback (most recent call last):\n",
            "  File \"/usr/local/lib/python3.6/dist-packages/torch/utils/data/dataloader.py\", line 1203, in __del__\n",
            "    self._shutdown_workers()\n",
            "  File \"/usr/local/lib/python3.6/dist-packages/torch/utils/data/dataloader.py\", line 1177, in _shutdown_workers\n",
            "    w.join(timeout=_utils.MP_STATUS_CHECK_INTERVAL)\n",
            "  File \"/usr/lib/python3.6/multiprocessing/process.py\", line 122, in join\n",
            "    assert self._parent_pid == os.getpid(), 'can only join a child process'\n",
            "AssertionError: can only join a child process\n",
            "Exception ignored in: <bound method _MultiProcessingDataLoaderIter.__del__ of <torch.utils.data.dataloader._MultiProcessingDataLoaderIter object at 0x7f77e7ab4a58>>\n",
            "Traceback (most recent call last):\n",
            "  File \"/usr/local/lib/python3.6/dist-packages/torch/utils/data/dataloader.py\", line 1203, in __del__\n",
            "    self._shutdown_workers()\n",
            "  File \"/usr/local/lib/python3.6/dist-packages/torch/utils/data/dataloader.py\", line 1177, in _shutdown_workers\n",
            "    w.join(timeout=_utils.MP_STATUS_CHECK_INTERVAL)\n",
            "  File \"/usr/lib/python3.6/multiprocessing/process.py\", line 122, in join\n",
            "    assert self._parent_pid == os.getpid(), 'can only join a child process'\n",
            "AssertionError: can only join a child process\n"
          ],
          "name": "stderr"
        },
        {
          "output_type": "stream",
          "text": [
            "tensor(1392.1354, grad_fn=<NllLossBackward>)\n"
          ],
          "name": "stdout"
        }
      ]
    },
    {
      "cell_type": "code",
      "metadata": {
        "colab": {
          "base_uri": "https://localhost:8080/"
        },
        "id": "2E7aWYDOxYKW",
        "outputId": "98b854b7-3352-4eb7-8301-2a513a5822d6"
      },
      "source": [
        "!rm \"dataset2/rain141.jpg\"\n",
        "!rm \"dataset2/shine131.jpg\""
      ],
      "execution_count": 37,
      "outputs": [
        {
          "output_type": "stream",
          "text": [
            "rm: cannot remove 'dataset2/rain141.jpg': No such file or directory\n",
            "rm: cannot remove 'dataset2/shine131.jpg': No such file or directory\n"
          ],
          "name": "stdout"
        }
      ]
    },
    {
      "cell_type": "code",
      "metadata": {
        "colab": {
          "base_uri": "https://localhost:8080/"
        },
        "id": "DgIBahxDxmpg",
        "outputId": "179f1595-a1a2-4df6-bcf1-7cc0d9b04b5c"
      },
      "source": [
        "trf = transforms.Compose([\n",
        "        transforms.ToPILImage(),\n",
        "        transforms.Resize((256,256)),\n",
        "        transforms.ToTensor()\n",
        "    ]) #Faut d'abord convertir en Image PIL\n",
        "dataset = Wheather_Dataset(\"dataset2\", transform=trf)\n",
        "testloader = torch.utils.data.DataLoader(dataset, batch_size=5, shuffle=False, num_workers=2)\n",
        "net = Image_Classifier()\n",
        "criterion = nn.CrossEntropyLoss()\n",
        "optimizer = torch.optim.Adam(net.parameters(), lr=5e-1)\n",
        "total, true = 0,0\n",
        "for i in range(20):\n",
        "  loss_s = 0\n",
        "  total, true = 0,0\n",
        "  print(i)\n",
        "  for i in testloader:\n",
        "    imgs = i[\"image\"] #Indice des vraies classes (4)\n",
        "    p = net(imgs) #Probabilité [4] de chaque classe [4] donc [4,4]\n",
        "    loss = criterion(p, i[\"landmarks\"])\n",
        "    loss.backward()\n",
        "    optimizer.step()\n",
        "    optimizer.zero_grad()\n",
        "    loss_s += loss.item()\n",
        "    _, predicted = torch.max(p,axis=1)\n",
        "    true += ((predicted==i[\"landmarks\"]).int().sum())\n",
        "    total += p.shape[0]\n",
        "  precision = true/total*100\n",
        "  print(\"loss : \",loss_s)\n",
        "  print(f\"precision {precision} % on {total} samples\")"
      ],
      "execution_count": 38,
      "outputs": [
        {
          "output_type": "stream",
          "text": [
            "0\n",
            "loss :  2628629.0225350857\n",
            "precision 59.66162109375 % on 1123 samples\n",
            "1\n",
            "loss :  1892700.3136081696\n",
            "precision 68.21015167236328 % on 1123 samples\n",
            "2\n",
            "loss :  2102019.5540161133\n",
            "precision 68.21015167236328 % on 1123 samples\n",
            "3\n",
            "loss :  2405453.522183608\n",
            "precision 69.81300354003906 % on 1123 samples\n",
            "4\n",
            "loss :  2306964.995704651\n",
            "precision 71.95013427734375 % on 1123 samples\n",
            "5\n",
            "loss :  2414368.2827835083\n",
            "precision 76.31344604492188 % on 1123 samples\n",
            "6\n",
            "loss :  1659369.4001922607\n",
            "precision 78.18343353271484 % on 1123 samples\n",
            "7\n",
            "loss :  1758452.0152740479\n",
            "precision 78.71772003173828 % on 1123 samples\n",
            "8\n",
            "loss :  1766654.3101563454\n",
            "precision 77.64915466308594 % on 1123 samples\n",
            "9\n",
            "loss :  1706864.6249809265\n",
            "precision 77.91629791259766 % on 1123 samples\n",
            "10\n",
            "loss :  1673524.4904708862\n",
            "precision 79.07391357421875 % on 1123 samples\n",
            "11\n",
            "loss :  1441034.1996994019\n",
            "precision 80.14247131347656 % on 1123 samples\n",
            "12\n",
            "loss :  1273555.03881073\n",
            "precision 82.90293884277344 % on 1123 samples\n",
            "13\n",
            "loss :  1388623.5194212794\n",
            "precision 81.74532318115234 % on 1123 samples\n",
            "14\n",
            "loss :  1123330.7984592244\n",
            "precision 83.43722534179688 % on 1123 samples\n",
            "15\n",
            "loss :  1172228.6884307861\n",
            "precision 83.0810317993164 % on 1123 samples\n",
            "16\n",
            "loss :  1317657.963037014\n",
            "precision 80.49866485595703 % on 1123 samples\n",
            "17\n",
            "loss :  1728114.5776004791\n",
            "precision 78.45057678222656 % on 1123 samples\n",
            "18\n",
            "loss :  1318244.3297653198\n",
            "precision 83.79341125488281 % on 1123 samples\n",
            "19\n",
            "loss :  1230771.1061897278\n",
            "precision 82.01246643066406 % on 1123 samples\n"
          ],
          "name": "stdout"
        }
      ]
    },
    {
      "cell_type": "code",
      "metadata": {
        "id": "mLinfqGe5Su8"
      },
      "source": [
        "class Deep_Image_Classifier(nn.Module):\n",
        "    def __init__(self):\n",
        "        super(Deep_Image_Classifier, self).__init__()\n",
        "        self.relu = nn.ReLU()\n",
        "        self.fc1 = nn.Linear(256 * 256 * 3, 256 * 256 * 3)\n",
        "        self.out = nn.Linear(256 * 256 * 3, 4)\n",
        "\n",
        "\n",
        "    def forward(self, x):\n",
        "      x = torch.flatten(x, start_dim=1)\n",
        "      x = self.relu(self.fc1(x))\n",
        "      return self.out(x)"
      ],
      "execution_count": null,
      "outputs": []
    },
    {
      "cell_type": "code",
      "metadata": {
        "id": "OU7hULos5Vom"
      },
      "source": [
        "#Lancer ça si vous voulez voire la RAM d'un environnement Colab se suicider\n",
        "#net = Deep_Image_Classifier()"
      ],
      "execution_count": null,
      "outputs": []
    },
    {
      "cell_type": "markdown",
      "metadata": {
        "id": "b5__PEA9DWgq"
      },
      "source": [
        "# Cas réel 2 : Analyse de sentiments\n",
        "\n"
      ]
    },
    {
      "cell_type": "markdown",
      "metadata": {
        "id": "1SbsYH5CqCV0"
      },
      "source": [
        "## Récupération et filtrage des données"
      ]
    },
    {
      "cell_type": "code",
      "metadata": {
        "colab": {
          "base_uri": "https://localhost:8080/"
        },
        "id": "h2ynR8jJDU75",
        "outputId": "b462c116-ebbf-4a86-e020-7e28bd8b28c3"
      },
      "source": [
        "!wget https://archive.ics.uci.edu/ml/machine-learning-databases/00331/sentiment%20labelled%20sentences.zip"
      ],
      "execution_count": 1,
      "outputs": [
        {
          "output_type": "stream",
          "text": [
            "--2021-02-06 12:46:23--  https://archive.ics.uci.edu/ml/machine-learning-databases/00331/sentiment%20labelled%20sentences.zip\n",
            "Resolving archive.ics.uci.edu (archive.ics.uci.edu)... 128.195.10.252\n",
            "Connecting to archive.ics.uci.edu (archive.ics.uci.edu)|128.195.10.252|:443... connected.\n",
            "HTTP request sent, awaiting response... 200 OK\n",
            "Length: 84188 (82K) [application/x-httpd-php]\n",
            "Saving to: ‘sentiment labelled sentences.zip.2’\n",
            "\n",
            "sentiment labelled  100%[===================>]  82.21K  --.-KB/s    in 0.1s    \n",
            "\n",
            "2021-02-06 12:46:24 (630 KB/s) - ‘sentiment labelled sentences.zip.2’ saved [84188/84188]\n",
            "\n"
          ],
          "name": "stdout"
        }
      ]
    },
    {
      "cell_type": "code",
      "metadata": {
        "colab": {
          "base_uri": "https://localhost:8080/"
        },
        "id": "2RDIqHixjko4",
        "outputId": "2fb82571-eeb0-41c5-d9a7-038689991fd3"
      },
      "source": [
        "!ls"
      ],
      "execution_count": 2,
      "outputs": [
        {
          "output_type": "stream",
          "text": [
            " data\t      'sentiment labelled sentences.zip'     test.csv\n",
            " __MACOSX     'sentiment labelled sentences.zip.1'   train.csv\n",
            " sample_data  'sentiment labelled sentences.zip.2'   tut4-model.pt\n"
          ],
          "name": "stdout"
        }
      ]
    },
    {
      "cell_type": "code",
      "metadata": {
        "colab": {
          "base_uri": "https://localhost:8080/"
        },
        "id": "-i6z3whFiNqi",
        "outputId": "22d3e246-3f4b-4613-adaf-61d815cede8b"
      },
      "source": [
        "!unzip sentiment\\ labelled\\ sentences.zip"
      ],
      "execution_count": 3,
      "outputs": [
        {
          "output_type": "stream",
          "text": [
            "Archive:  sentiment labelled sentences.zip\n",
            "   creating: sentiment labelled sentences/\n",
            "  inflating: sentiment labelled sentences/.DS_Store  \n",
            "replace __MACOSX/sentiment labelled sentences/._.DS_Store? [y]es, [n]o, [A]ll, [N]one, [r]ename: A\n",
            "  inflating: __MACOSX/sentiment labelled sentences/._.DS_Store  \n",
            "  inflating: sentiment labelled sentences/amazon_cells_labelled.txt  \n",
            "  inflating: sentiment labelled sentences/imdb_labelled.txt  \n",
            "  inflating: __MACOSX/sentiment labelled sentences/._imdb_labelled.txt  \n",
            "  inflating: sentiment labelled sentences/readme.txt  \n",
            "  inflating: __MACOSX/sentiment labelled sentences/._readme.txt  \n",
            "  inflating: sentiment labelled sentences/yelp_labelled.txt  \n",
            "  inflating: __MACOSX/._sentiment labelled sentences  \n"
          ],
          "name": "stdout"
        }
      ]
    },
    {
      "cell_type": "code",
      "metadata": {
        "colab": {
          "base_uri": "https://localhost:8080/"
        },
        "id": "Lq29LEFKjqQz",
        "outputId": "fa25223c-70c4-4011-df71-de57f7019442"
      },
      "source": [
        "!mv sentiment\\ labelled\\ sentences data"
      ],
      "execution_count": 4,
      "outputs": [
        {
          "output_type": "stream",
          "text": [
            "mv: cannot move 'sentiment labelled sentences' to 'data/sentiment labelled sentences': Directory not empty\n"
          ],
          "name": "stdout"
        }
      ]
    },
    {
      "cell_type": "code",
      "metadata": {
        "colab": {
          "base_uri": "https://localhost:8080/"
        },
        "id": "Km-tKG4OkXde",
        "outputId": "cfc3569a-0e13-443a-afa1-8f298f30ad03"
      },
      "source": [
        "!ls data"
      ],
      "execution_count": 5,
      "outputs": [
        {
          "output_type": "stream",
          "text": [
            " amazon_cells_labelled.txt   readme.txt\t\t\t     yelp_labelled.txt\n",
            " imdb_labelled.txt\t    'sentiment labelled sentences'\n"
          ],
          "name": "stdout"
        }
      ]
    },
    {
      "cell_type": "code",
      "metadata": {
        "colab": {
          "base_uri": "https://localhost:8080/"
        },
        "id": "vr4uhyOAj7Uk",
        "outputId": "fb5cee3c-9cff-4256-f1c1-caa9107d558e"
      },
      "source": [
        "!ls data/amazon_cells_labelled.txt"
      ],
      "execution_count": 6,
      "outputs": [
        {
          "output_type": "stream",
          "text": [
            "data/amazon_cells_labelled.txt\n"
          ],
          "name": "stdout"
        }
      ]
    },
    {
      "cell_type": "code",
      "metadata": {
        "id": "MattdSpokBOe"
      },
      "source": [
        "dfs = []\n",
        "for path,name in zip([\"amazon_cells_labelled.txt\",\"imdb_labelled.txt\",\"yelp_labelled.txt\"],[\"Amazon\",\"IMdB\",\"Yelp\"]):\n",
        "  df = pd.read_csv(\"data/\"+path, names=['sentence', 'label'], sep='\\t')\n",
        "  df[\"source\"] = name\n",
        "  dfs.append(df)"
      ],
      "execution_count": 10,
      "outputs": []
    },
    {
      "cell_type": "code",
      "metadata": {
        "colab": {
          "base_uri": "https://localhost:8080/"
        },
        "id": "m4kcs850k1BV",
        "outputId": "82963104-3370-468c-f69a-3109b0f07965"
      },
      "source": [
        "dfs"
      ],
      "execution_count": 11,
      "outputs": [
        {
          "output_type": "execute_result",
          "data": {
            "text/plain": [
              "[                                              sentence  label  source\n",
              " 0    So there is no way for me to plug it in here i...      0  Amazon\n",
              " 1                          Good case, Excellent value.      1  Amazon\n",
              " 2                               Great for the jawbone.      1  Amazon\n",
              " 3    Tied to charger for conversations lasting more...      0  Amazon\n",
              " 4                                    The mic is great.      1  Amazon\n",
              " ..                                                 ...    ...     ...\n",
              " 995  The screen does get smudged easily because it ...      0  Amazon\n",
              " 996  What a piece of junk.. I lose more calls on th...      0  Amazon\n",
              " 997                       Item Does Not Match Picture.      0  Amazon\n",
              " 998  The only thing that disappoint me is the infra...      0  Amazon\n",
              " 999  You can not answer calls with the unit, never ...      0  Amazon\n",
              " \n",
              " [1000 rows x 3 columns],\n",
              "                                               sentence  label source\n",
              " 0    A very, very, very slow-moving, aimless movie ...      0   IMdB\n",
              " 1    Not sure who was more lost - the flat characte...      0   IMdB\n",
              " 2    Attempting artiness with black & white and cle...      0   IMdB\n",
              " 3         Very little music or anything to speak of.        0   IMdB\n",
              " 4    The best scene in the movie was when Gerardo i...      1   IMdB\n",
              " ..                                                 ...    ...    ...\n",
              " 743  I just got bored watching Jessice Lange take h...      0   IMdB\n",
              " 744  Unfortunately, any virtue in this film's produ...      0   IMdB\n",
              " 745                   In a word, it is embarrassing.        0   IMdB\n",
              " 746                               Exceptionally bad!        0   IMdB\n",
              " 747  All in all its an insult to one's intelligence...      0   IMdB\n",
              " \n",
              " [748 rows x 3 columns],\n",
              "                                               sentence  label source\n",
              " 0                             Wow... Loved this place.      1   Yelp\n",
              " 1                                   Crust is not good.      0   Yelp\n",
              " 2            Not tasty and the texture was just nasty.      0   Yelp\n",
              " 3    Stopped by during the late May bank holiday of...      1   Yelp\n",
              " 4    The selection on the menu was great and so wer...      1   Yelp\n",
              " ..                                                 ...    ...    ...\n",
              " 995  I think food should have flavor and texture an...      0   Yelp\n",
              " 996                           Appetite instantly gone.      0   Yelp\n",
              " 997  Overall I was not impressed and would not go b...      0   Yelp\n",
              " 998  The whole experience was underwhelming, and I ...      0   Yelp\n",
              " 999  Then, as if I hadn't wasted enough of my life ...      0   Yelp\n",
              " \n",
              " [1000 rows x 3 columns]]"
            ]
          },
          "metadata": {
            "tags": []
          },
          "execution_count": 11
        }
      ]
    },
    {
      "cell_type": "code",
      "metadata": {
        "colab": {
          "base_uri": "https://localhost:8080/",
          "height": 424
        },
        "id": "WXQ6GU6mk3rq",
        "outputId": "2d4bb9a8-4146-44b9-8e61-4b6b93cd37d6"
      },
      "source": [
        "df = pd.concat(dfs)\n",
        "df"
      ],
      "execution_count": 12,
      "outputs": [
        {
          "output_type": "execute_result",
          "data": {
            "text/html": [
              "<div>\n",
              "<style scoped>\n",
              "    .dataframe tbody tr th:only-of-type {\n",
              "        vertical-align: middle;\n",
              "    }\n",
              "\n",
              "    .dataframe tbody tr th {\n",
              "        vertical-align: top;\n",
              "    }\n",
              "\n",
              "    .dataframe thead th {\n",
              "        text-align: right;\n",
              "    }\n",
              "</style>\n",
              "<table border=\"1\" class=\"dataframe\">\n",
              "  <thead>\n",
              "    <tr style=\"text-align: right;\">\n",
              "      <th></th>\n",
              "      <th>sentence</th>\n",
              "      <th>label</th>\n",
              "      <th>source</th>\n",
              "    </tr>\n",
              "  </thead>\n",
              "  <tbody>\n",
              "    <tr>\n",
              "      <th>0</th>\n",
              "      <td>So there is no way for me to plug it in here i...</td>\n",
              "      <td>0</td>\n",
              "      <td>Amazon</td>\n",
              "    </tr>\n",
              "    <tr>\n",
              "      <th>1</th>\n",
              "      <td>Good case, Excellent value.</td>\n",
              "      <td>1</td>\n",
              "      <td>Amazon</td>\n",
              "    </tr>\n",
              "    <tr>\n",
              "      <th>2</th>\n",
              "      <td>Great for the jawbone.</td>\n",
              "      <td>1</td>\n",
              "      <td>Amazon</td>\n",
              "    </tr>\n",
              "    <tr>\n",
              "      <th>3</th>\n",
              "      <td>Tied to charger for conversations lasting more...</td>\n",
              "      <td>0</td>\n",
              "      <td>Amazon</td>\n",
              "    </tr>\n",
              "    <tr>\n",
              "      <th>4</th>\n",
              "      <td>The mic is great.</td>\n",
              "      <td>1</td>\n",
              "      <td>Amazon</td>\n",
              "    </tr>\n",
              "    <tr>\n",
              "      <th>...</th>\n",
              "      <td>...</td>\n",
              "      <td>...</td>\n",
              "      <td>...</td>\n",
              "    </tr>\n",
              "    <tr>\n",
              "      <th>995</th>\n",
              "      <td>I think food should have flavor and texture an...</td>\n",
              "      <td>0</td>\n",
              "      <td>Yelp</td>\n",
              "    </tr>\n",
              "    <tr>\n",
              "      <th>996</th>\n",
              "      <td>Appetite instantly gone.</td>\n",
              "      <td>0</td>\n",
              "      <td>Yelp</td>\n",
              "    </tr>\n",
              "    <tr>\n",
              "      <th>997</th>\n",
              "      <td>Overall I was not impressed and would not go b...</td>\n",
              "      <td>0</td>\n",
              "      <td>Yelp</td>\n",
              "    </tr>\n",
              "    <tr>\n",
              "      <th>998</th>\n",
              "      <td>The whole experience was underwhelming, and I ...</td>\n",
              "      <td>0</td>\n",
              "      <td>Yelp</td>\n",
              "    </tr>\n",
              "    <tr>\n",
              "      <th>999</th>\n",
              "      <td>Then, as if I hadn't wasted enough of my life ...</td>\n",
              "      <td>0</td>\n",
              "      <td>Yelp</td>\n",
              "    </tr>\n",
              "  </tbody>\n",
              "</table>\n",
              "<p>2748 rows × 3 columns</p>\n",
              "</div>"
            ],
            "text/plain": [
              "                                              sentence  label  source\n",
              "0    So there is no way for me to plug it in here i...      0  Amazon\n",
              "1                          Good case, Excellent value.      1  Amazon\n",
              "2                               Great for the jawbone.      1  Amazon\n",
              "3    Tied to charger for conversations lasting more...      0  Amazon\n",
              "4                                    The mic is great.      1  Amazon\n",
              "..                                                 ...    ...     ...\n",
              "995  I think food should have flavor and texture an...      0    Yelp\n",
              "996                           Appetite instantly gone.      0    Yelp\n",
              "997  Overall I was not impressed and would not go b...      0    Yelp\n",
              "998  The whole experience was underwhelming, and I ...      0    Yelp\n",
              "999  Then, as if I hadn't wasted enough of my life ...      0    Yelp\n",
              "\n",
              "[2748 rows x 3 columns]"
            ]
          },
          "metadata": {
            "tags": []
          },
          "execution_count": 12
        }
      ]
    },
    {
      "cell_type": "code",
      "metadata": {
        "colab": {
          "base_uri": "https://localhost:8080/",
          "height": 317
        },
        "id": "a92RaaIOlOR6",
        "outputId": "9998d793-ed94-484c-97ff-7ad1e8b881f5"
      },
      "source": [
        "print(df[\"sentence\"].apply(len).max())\n",
        "print(df[\"sentence\"].apply(len).min())\n",
        "df[\"sentence\"].apply(len).hist()"
      ],
      "execution_count": 13,
      "outputs": [
        {
          "output_type": "stream",
          "text": [
            "7944\n",
            "7\n"
          ],
          "name": "stdout"
        },
        {
          "output_type": "execute_result",
          "data": {
            "text/plain": [
              "<matplotlib.axes._subplots.AxesSubplot at 0x7f97fa11f320>"
            ]
          },
          "metadata": {
            "tags": []
          },
          "execution_count": 13
        },
        {
          "output_type": "display_data",
          "data": {
            "image/png": "[encoded data removed]",
            "text/plain": [
              "<Figure size 432x288 with 1 Axes>"
            ]
          },
          "metadata": {
            "tags": [],
            "needs_background": "light"
          }
        }
      ]
    },
    {
      "cell_type": "code",
      "metadata": {
        "colab": {
          "base_uri": "https://localhost:8080/"
        },
        "id": "98faxpDYl_33",
        "outputId": "da81148f-cbd6-4947-8e6b-e18280d4d820"
      },
      "source": [
        "(df[\"sentence\"].apply(len) < 500).values.astype(int).mean()"
      ],
      "execution_count": 14,
      "outputs": [
        {
          "output_type": "execute_result",
          "data": {
            "text/plain": [
              "0.9981804949053857"
            ]
          },
          "metadata": {
            "tags": []
          },
          "execution_count": 14
        }
      ]
    },
    {
      "cell_type": "code",
      "metadata": {
        "colab": {
          "base_uri": "https://localhost:8080/",
          "height": 283
        },
        "id": "w671DfZJmTsM",
        "outputId": "55113b76-600c-4c5c-a38f-d6b80fded394"
      },
      "source": [
        "df[(df[\"sentence\"].apply(len) < 500)][\"sentence\"].apply(len).hist()"
      ],
      "execution_count": 15,
      "outputs": [
        {
          "output_type": "execute_result",
          "data": {
            "text/plain": [
              "<matplotlib.axes._subplots.AxesSubplot at 0x7f97fa07c8d0>"
            ]
          },
          "metadata": {
            "tags": []
          },
          "execution_count": 15
        },
        {
          "output_type": "display_data",
          "data": {
            "image/png": "[encoded data removed]",
            "text/plain": [
              "<Figure size 432x288 with 1 Axes>"
            ]
          },
          "metadata": {
            "tags": [],
            "needs_background": "light"
          }
        }
      ]
    },
    {
      "cell_type": "code",
      "metadata": {
        "colab": {
          "base_uri": "https://localhost:8080/",
          "height": 282
        },
        "id": "3YbL6PwfnY1X",
        "outputId": "f571c5eb-8d09-4c06-9c9b-81d993bd6e78"
      },
      "source": [
        "df[(df[\"sentence\"].apply(len) < 350)][\"sentence\"].apply(len).hist()"
      ],
      "execution_count": 16,
      "outputs": [
        {
          "output_type": "execute_result",
          "data": {
            "text/plain": [
              "<matplotlib.axes._subplots.AxesSubplot at 0x7f97f896b278>"
            ]
          },
          "metadata": {
            "tags": []
          },
          "execution_count": 16
        },
        {
          "output_type": "display_data",
          "data": {
            "image/png": "[encoded data removed]",
            "text/plain": [
              "<Figure size 432x288 with 1 Axes>"
            ]
          },
          "metadata": {
            "tags": [],
            "needs_background": "light"
          }
        }
      ]
    },
    {
      "cell_type": "code",
      "metadata": {
        "colab": {
          "base_uri": "https://localhost:8080/"
        },
        "id": "RhZPElkwnoXc",
        "outputId": "4a5c87c3-eafc-43dc-a01e-a93767b17de6"
      },
      "source": [
        "(df[\"sentence\"].apply(len) < 350).values.astype(int).mean()"
      ],
      "execution_count": 17,
      "outputs": [
        {
          "output_type": "execute_result",
          "data": {
            "text/plain": [
              "0.99745269286754"
            ]
          },
          "metadata": {
            "tags": []
          },
          "execution_count": 17
        }
      ]
    },
    {
      "cell_type": "code",
      "metadata": {
        "id": "SBM0DN6ynsBy"
      },
      "source": [
        "df=df[(df[\"sentence\"].apply(len) < 350)]"
      ],
      "execution_count": 18,
      "outputs": []
    },
    {
      "cell_type": "code",
      "metadata": {
        "colab": {
          "base_uri": "https://localhost:8080/",
          "height": 424
        },
        "id": "HX302mPwnw7l",
        "outputId": "d150a639-85f3-43ae-8505-8e54b0726416"
      },
      "source": [
        "df"
      ],
      "execution_count": 19,
      "outputs": [
        {
          "output_type": "execute_result",
          "data": {
            "text/html": [
              "<div>\n",
              "<style scoped>\n",
              "    .dataframe tbody tr th:only-of-type {\n",
              "        vertical-align: middle;\n",
              "    }\n",
              "\n",
              "    .dataframe tbody tr th {\n",
              "        vertical-align: top;\n",
              "    }\n",
              "\n",
              "    .dataframe thead th {\n",
              "        text-align: right;\n",
              "    }\n",
              "</style>\n",
              "<table border=\"1\" class=\"dataframe\">\n",
              "  <thead>\n",
              "    <tr style=\"text-align: right;\">\n",
              "      <th></th>\n",
              "      <th>sentence</th>\n",
              "      <th>label</th>\n",
              "      <th>source</th>\n",
              "    </tr>\n",
              "  </thead>\n",
              "  <tbody>\n",
              "    <tr>\n",
              "      <th>0</th>\n",
              "      <td>So there is no way for me to plug it in here i...</td>\n",
              "      <td>0</td>\n",
              "      <td>Amazon</td>\n",
              "    </tr>\n",
              "    <tr>\n",
              "      <th>1</th>\n",
              "      <td>Good case, Excellent value.</td>\n",
              "      <td>1</td>\n",
              "      <td>Amazon</td>\n",
              "    </tr>\n",
              "    <tr>\n",
              "      <th>2</th>\n",
              "      <td>Great for the jawbone.</td>\n",
              "      <td>1</td>\n",
              "      <td>Amazon</td>\n",
              "    </tr>\n",
              "    <tr>\n",
              "      <th>3</th>\n",
              "      <td>Tied to charger for conversations lasting more...</td>\n",
              "      <td>0</td>\n",
              "      <td>Amazon</td>\n",
              "    </tr>\n",
              "    <tr>\n",
              "      <th>4</th>\n",
              "      <td>The mic is great.</td>\n",
              "      <td>1</td>\n",
              "      <td>Amazon</td>\n",
              "    </tr>\n",
              "    <tr>\n",
              "      <th>...</th>\n",
              "      <td>...</td>\n",
              "      <td>...</td>\n",
              "      <td>...</td>\n",
              "    </tr>\n",
              "    <tr>\n",
              "      <th>995</th>\n",
              "      <td>I think food should have flavor and texture an...</td>\n",
              "      <td>0</td>\n",
              "      <td>Yelp</td>\n",
              "    </tr>\n",
              "    <tr>\n",
              "      <th>996</th>\n",
              "      <td>Appetite instantly gone.</td>\n",
              "      <td>0</td>\n",
              "      <td>Yelp</td>\n",
              "    </tr>\n",
              "    <tr>\n",
              "      <th>997</th>\n",
              "      <td>Overall I was not impressed and would not go b...</td>\n",
              "      <td>0</td>\n",
              "      <td>Yelp</td>\n",
              "    </tr>\n",
              "    <tr>\n",
              "      <th>998</th>\n",
              "      <td>The whole experience was underwhelming, and I ...</td>\n",
              "      <td>0</td>\n",
              "      <td>Yelp</td>\n",
              "    </tr>\n",
              "    <tr>\n",
              "      <th>999</th>\n",
              "      <td>Then, as if I hadn't wasted enough of my life ...</td>\n",
              "      <td>0</td>\n",
              "      <td>Yelp</td>\n",
              "    </tr>\n",
              "  </tbody>\n",
              "</table>\n",
              "<p>2741 rows × 3 columns</p>\n",
              "</div>"
            ],
            "text/plain": [
              "                                              sentence  label  source\n",
              "0    So there is no way for me to plug it in here i...      0  Amazon\n",
              "1                          Good case, Excellent value.      1  Amazon\n",
              "2                               Great for the jawbone.      1  Amazon\n",
              "3    Tied to charger for conversations lasting more...      0  Amazon\n",
              "4                                    The mic is great.      1  Amazon\n",
              "..                                                 ...    ...     ...\n",
              "995  I think food should have flavor and texture an...      0    Yelp\n",
              "996                           Appetite instantly gone.      0    Yelp\n",
              "997  Overall I was not impressed and would not go b...      0    Yelp\n",
              "998  The whole experience was underwhelming, and I ...      0    Yelp\n",
              "999  Then, as if I hadn't wasted enough of my life ...      0    Yelp\n",
              "\n",
              "[2741 rows x 3 columns]"
            ]
          },
          "metadata": {
            "tags": []
          },
          "execution_count": 19
        }
      ]
    },
    {
      "cell_type": "code",
      "metadata": {
        "colab": {
          "base_uri": "https://localhost:8080/",
          "height": 282
        },
        "id": "47YIX5ONn0MA",
        "outputId": "75b6c384-22d8-4855-81c9-04e8c58ad895"
      },
      "source": [
        "df[\"sentence\"].apply(len).hist()"
      ],
      "execution_count": 20,
      "outputs": [
        {
          "output_type": "execute_result",
          "data": {
            "text/plain": [
              "<matplotlib.axes._subplots.AxesSubplot at 0x7f97f884abe0>"
            ]
          },
          "metadata": {
            "tags": []
          },
          "execution_count": 20
        },
        {
          "output_type": "display_data",
          "data": {
            "image/png": "[encoded data removed]",
            "text/plain": [
              "<Figure size 432x288 with 1 Axes>"
            ]
          },
          "metadata": {
            "tags": [],
            "needs_background": "light"
          }
        }
      ]
    },
    {
      "cell_type": "code",
      "metadata": {
        "id": "B1nKbC4vteiU"
      },
      "source": [
        "from sklearn.model_selection import train_test_split\n",
        "\n",
        "train, val = train_test_split(df, test_size=0.1)\n",
        "train.to_csv(\"train.csv\", index=False, header=False)\n",
        "val.to_csv(\"test.csv\", index=False, header=False)"
      ],
      "execution_count": 21,
      "outputs": []
    },
    {
      "cell_type": "code",
      "metadata": {
        "colab": {
          "base_uri": "https://localhost:8080/"
        },
        "id": "RmXccL7Ztm0e",
        "outputId": "2314e2a4-1fd6-4c6f-c7e7-bdfb023834a3"
      },
      "source": [
        "!cat train.csv | head"
      ],
      "execution_count": 22,
      "outputs": [
        {
          "output_type": "stream",
          "text": [
            "The waiter wasn't helpful or friendly and rarely checked on us.,0,Yelp\n",
            "I have always used corded headsets and the freedom from the wireless is very helpful.,1,Amazon\n",
            "Love This Phone.,1,Amazon\n",
            "Honeslty it didn't taste THAT fresh.),0,Yelp\n",
            "I got home to see the driest damn wings ever!,0,Yelp\n",
            "The steaks are all well trimmed and also perfectly cooked.,1,Yelp\n",
            "Don't waste your time watching this rubbish non-researched film.  ,0,IMdB\n",
            "\"I know he was a contract player with little control over his scripts, but the acting was as bad as the script.  \",0,IMdB\n",
            "\"However, there was so much garlic in the fondue, it was barely edible.\",0,Yelp\n",
            "\"Although I very much liked the look and sound of this place, the actual experience was a bit disappointing.\",0,Yelp\n"
          ],
          "name": "stdout"
        }
      ]
    },
    {
      "cell_type": "markdown",
      "metadata": {
        "id": "k85pcG7Ip8aS"
      },
      "source": [
        "## Preprocessing avec torchtext et SpaCy"
      ]
    },
    {
      "cell_type": "code",
      "metadata": {
        "colab": {
          "base_uri": "https://localhost:8080/",
          "height": 35
        },
        "id": "bEOiVHPJquZc",
        "outputId": "c77a8444-e6f5-4402-f3b9-d18224f6602d"
      },
      "source": [
        "import spacy\n",
        "nlp = spacy.load(\"en_core_web_sm\")\n",
        "stc = df.iloc[0][\"sentence\"]\n",
        "stc"
      ],
      "execution_count": 23,
      "outputs": [
        {
          "output_type": "execute_result",
          "data": {
            "application/vnd.google.colaboratory.intrinsic+json": {
              "type": "string"
            },
            "text/plain": [
              "'So there is no way for me to plug it in here in the US unless I go by a converter.'"
            ]
          },
          "metadata": {
            "tags": []
          },
          "execution_count": 23
        }
      ]
    },
    {
      "cell_type": "code",
      "metadata": {
        "colab": {
          "base_uri": "https://localhost:8080/"
        },
        "id": "L1gkS0Edq_Yp",
        "outputId": "9e12fb3a-869c-4f88-f974-8da25dccecf3"
      },
      "source": [
        "doc = nlp(stc)\n",
        "for token in doc:\n",
        "    print(token.text, \" : \" , token.lemma_, token.pos_, token.tag_, token.dep_,\n",
        "            token.shape_, token.is_alpha, token.is_stop)"
      ],
      "execution_count": 24,
      "outputs": [
        {
          "output_type": "stream",
          "text": [
            "So  :  so CCONJ CC advmod Xx True True\n",
            "there  :  there PRON EX expl xxxx True True\n",
            "is  :  be AUX VBZ ROOT xx True True\n",
            "no  :  no DET DT det xx True True\n",
            "way  :  way NOUN NN attr xxx True False\n",
            "for  :  for ADP IN mark xxx True True\n",
            "me  :  -PRON- PRON PRP nsubj xx True True\n",
            "to  :  to PART TO aux xx True True\n",
            "plug  :  plug VERB VB relcl xxxx True False\n",
            "it  :  -PRON- PRON PRP dobj xx True True\n",
            "in  :  in ADV RB advmod xx True True\n",
            "here  :  here ADV RB advmod xxxx True True\n",
            "in  :  in ADP IN prep xx True True\n",
            "the  :  the DET DT det xxx True True\n",
            "US  :  US PROPN NNP pobj XX True True\n",
            "unless  :  unless SCONJ IN mark xxxx True True\n",
            "I  :  -PRON- PRON PRP nsubj X True True\n",
            "go  :  go VERB VBP advcl xx True True\n",
            "by  :  by ADP IN prep xx True True\n",
            "a  :  a DET DT det x True True\n",
            "converter  :  converter NOUN NN pobj xxxx True False\n",
            ".  :  . PUNCT . punct . False False\n"
          ],
          "name": "stdout"
        }
      ]
    },
    {
      "cell_type": "code",
      "metadata": {
        "id": "OxKLm33QsNlv"
      },
      "source": [
        "def tokenizer(stc):\n",
        "  doc = nlp(stc)\n",
        "  tokens = [token.text for token in doc if token.pos_ != \"PUNCT\"]\n",
        "  return tokens"
      ],
      "execution_count": 25,
      "outputs": []
    },
    {
      "cell_type": "code",
      "metadata": {
        "colab": {
          "base_uri": "https://localhost:8080/"
        },
        "id": "YZDyz5Oesdvd",
        "outputId": "bf8a546b-5d1d-4f8c-cff3-7bd5cb6e395c"
      },
      "source": [
        "tokenizer(stc)"
      ],
      "execution_count": 26,
      "outputs": [
        {
          "output_type": "execute_result",
          "data": {
            "text/plain": [
              "['So',\n",
              " 'there',\n",
              " 'is',\n",
              " 'no',\n",
              " 'way',\n",
              " 'for',\n",
              " 'me',\n",
              " 'to',\n",
              " 'plug',\n",
              " 'it',\n",
              " 'in',\n",
              " 'here',\n",
              " 'in',\n",
              " 'the',\n",
              " 'US',\n",
              " 'unless',\n",
              " 'I',\n",
              " 'go',\n",
              " 'by',\n",
              " 'a',\n",
              " 'converter']"
            ]
          },
          "metadata": {
            "tags": []
          },
          "execution_count": 26
        }
      ]
    },
    {
      "cell_type": "code",
      "metadata": {
        "id": "y7JweaD-oNcK"
      },
      "source": [
        "import torchtext\n",
        "from torchtext.data import Field, BucketIterator, TabularDataset\n",
        "\n",
        "TEXT_LEN = 350\n",
        "\n",
        "SENTENCE_FIELD = torchtext.data.Field(\n",
        "  tokenize    = tokenizer,\n",
        "  lower       = True,\n",
        "  batch_first = True,\n",
        "  init_token  = '<bos>',\n",
        "  eos_token   = '<eos>',\n",
        "  fix_length  = TEXT_LEN,\n",
        ")\n",
        "LABEL_FIELD = torchtext.data.LabelField(dtype = torch.float)"
      ],
      "execution_count": 27,
      "outputs": []
    },
    {
      "cell_type": "code",
      "metadata": {
        "id": "Mr2OiEZxsqVV"
      },
      "source": [
        "data_fields = [('sentence', SENTENCE_FIELD),(\"label\",LABEL_FIELD)]\n",
        "train, test = torchtext.data.TabularDataset.splits(path='./', train='train.csv', validation='test.csv', format='csv', fields=data_fields)"
      ],
      "execution_count": 28,
      "outputs": []
    },
    {
      "cell_type": "code",
      "metadata": {
        "id": "qMqvZf25vXs5"
      },
      "source": [
        "SENTENCE_FIELD.build_vocab(train)\n",
        "LABEL_FIELD.build_vocab(train)"
      ],
      "execution_count": 29,
      "outputs": []
    },
    {
      "cell_type": "code",
      "metadata": {
        "colab": {
          "base_uri": "https://localhost:8080/"
        },
        "id": "ccQ48yw80IDT",
        "outputId": "f97400f3-fb34-4bd7-c89f-1be72bbc51aa"
      },
      "source": [
        "train[2].sentence"
      ],
      "execution_count": 30,
      "outputs": [
        {
          "output_type": "execute_result",
          "data": {
            "text/plain": [
              "['love', 'this', 'phone']"
            ]
          },
          "metadata": {
            "tags": []
          },
          "execution_count": 30
        }
      ]
    },
    {
      "cell_type": "code",
      "metadata": {
        "id": "135bnwBuweIg"
      },
      "source": [
        "train_iter = BucketIterator(train, batch_size=40, sort_key=lambda x: len(x.sentence), shuffle=True)\n",
        "test_iter = BucketIterator(test, batch_size=40, sort_key=lambda x: len(x.sentence), shuffle=True)"
      ],
      "execution_count": 31,
      "outputs": []
    },
    {
      "cell_type": "code",
      "metadata": {
        "colab": {
          "base_uri": "https://localhost:8080/"
        },
        "id": "hGADhcLIzFMj",
        "outputId": "7f2b9b72-7cf4-4169-c615-7feaff8eaaa6"
      },
      "source": [
        "for batch in iter(train_iter):\n",
        "  print(batch.label)\n",
        "  print(batch.sentence.shape)\n",
        "  break"
      ],
      "execution_count": 34,
      "outputs": [
        {
          "output_type": "stream",
          "text": [
            "tensor([1., 0., 0., 1., 0., 1., 0., 0., 1., 0., 1., 0., 1., 1., 1., 1., 0., 1.,\n",
            "        0., 0.])\n",
            "torch.Size([20, 350])\n"
          ],
          "name": "stdout"
        }
      ]
    },
    {
      "cell_type": "code",
      "metadata": {
        "id": "LepiMcmI2SlT"
      },
      "source": [
        "class TextSentiment(nn.Module):\n",
        "    def __init__(self, vocab_size, embedding_dim, num_class):\n",
        "        super().__init__()\n",
        "        self.embedding = nn.Embedding(vocab_size, embedding_dim)\n",
        "        self.fc = nn.Linear(embedding_dim*TEXT_LEN, num_class)\n",
        "        self.sigm = nn.Sigmoid()\n",
        "        self.init_weights()\n",
        "\n",
        "    def init_weights(self):\n",
        "        initrange = 0.5\n",
        "        self.embedding.weight.data.uniform_(-initrange, initrange)\n",
        "        self.fc.weight.data.uniform_(-initrange, initrange)\n",
        "        self.fc.bias.data.zero_()\n",
        "\n",
        "    def forward(self, text):\n",
        "        embedded = self.embedding(text)\n",
        "        embedded = torch.flatten(embedded, start_dim=1)\n",
        "        out =self.sigm(self.fc(embedded))\n",
        "        return out"
      ],
      "execution_count": 35,
      "outputs": []
    },
    {
      "cell_type": "code",
      "metadata": {
        "colab": {
          "base_uri": "https://localhost:8080/"
        },
        "id": "6T0qNTuz6G2F",
        "outputId": "eca68ef7-8c41-465c-cbb0-62e7e3f5e80f"
      },
      "source": [
        "len(SENTENCE_FIELD.vocab)"
      ],
      "execution_count": 36,
      "outputs": [
        {
          "output_type": "execute_result",
          "data": {
            "text/plain": [
              "4561"
            ]
          },
          "metadata": {
            "tags": []
          },
          "execution_count": 36
        }
      ]
    },
    {
      "cell_type": "code",
      "metadata": {
        "colab": {
          "base_uri": "https://localhost:8080/"
        },
        "id": "pGudHte23CTP",
        "outputId": "838ce290-d17f-4806-9e06-e9376eadb046"
      },
      "source": [
        "mod = TextSentiment(len(SENTENCE_FIELD.vocab), 50,1)\n",
        "criterion = nn.BCELoss()\n",
        "optimizer = torch.optim.SGD(mod.parameters(), lr=0.0001)\n",
        "for epoch in range(5):\n",
        "  for batch in iter(train_iter):\n",
        "    pr = mod(batch.sentence).view((-1,)).float()\n",
        "    loss = criterion(pr, batch.label.float())\n",
        "    loss.backward()\n",
        "    optimizer.step()\n",
        "    optimizer.zero_grad()\n",
        "  print(loss)"
      ],
      "execution_count": 38,
      "outputs": [
        {
          "output_type": "stream",
          "text": [
            "tensor(1.2727, grad_fn=<BinaryCrossEntropyBackward>)\n",
            "tensor(0.7823, grad_fn=<BinaryCrossEntropyBackward>)\n",
            "tensor(0.9730, grad_fn=<BinaryCrossEntropyBackward>)\n",
            "tensor(1.1269, grad_fn=<BinaryCrossEntropyBackward>)\n",
            "tensor(1.4608, grad_fn=<BinaryCrossEntropyBackward>)\n"
          ],
          "name": "stdout"
        }
      ]
    },
    {
      "cell_type": "markdown",
      "metadata": {
        "id": "Wwma7SbaPRhO"
      },
      "source": [
        "#Convolutions : un outil pour détecter des motifs locaux"
      ]
    },
    {
      "cell_type": "markdown",
      "metadata": {
        "id": "jUPfXQB1JtGb"
      },
      "source": [
        "## Application aux images"
      ]
    },
    {
      "cell_type": "markdown",
      "metadata": {
        "id": "HFVd5_GUPW6i"
      },
      "source": [
        "Le meilleur moyen de comprendre ce que ça fait c'est d'en tester quelques unes sur des images."
      ]
    },
    {
      "cell_type": "code",
      "metadata": {
        "id": "8nltc6AM8NnH"
      },
      "source": [
        "class Convolution(nn.Module):\n",
        "    def __init__(self):\n",
        "        super(Convolution, self).__init__()\n",
        "        self.conv1 = nn.Conv2d(in_channels=3, out_channels = 6, kernel_size = (10,10))\n",
        "\n",
        "\n",
        "    def forward(self, x):\n",
        "      return self.conv1(x)"
      ],
      "execution_count": null,
      "outputs": []
    },
    {
      "cell_type": "code",
      "metadata": {
        "colab": {
          "base_uri": "https://localhost:8080/"
        },
        "id": "aLAiM6tS8ZSH",
        "outputId": "2212ebaa-f956-41bc-b7b9-70096987046b"
      },
      "source": [
        "dataset = Wheather_Dataset(\"dataset2\", transform=trf)\n",
        "\n",
        "testloader = torch.utils.data.DataLoader(dataset, batch_size=10, shuffle=False, num_workers=2)\n",
        "\n",
        "it = iter(testloader)\n",
        "im = next(it)[\"image\"]\n",
        "C = Convolution()\n",
        "print(im.shape)\n",
        "print(C(im).shape)\n",
        "print([i.shape for i in C.parameters()])"
      ],
      "execution_count": null,
      "outputs": [
        {
          "output_type": "stream",
          "text": [
            "torch.Size([10, 3, 256, 256])\n",
            "torch.Size([10, 6, 247, 247])\n",
            "[torch.Size([6, 3, 10, 10]), torch.Size([6])]\n"
          ],
          "name": "stdout"
        }
      ]
    },
    {
      "cell_type": "markdown",
      "metadata": {
        "id": "qWD5L9B5_vUY"
      },
      "source": [
        "Pour faire bref, une convolution est un ensemble de filtres, ici on a 6 filtres chacun se compose de (nombre de channels in* longueur* largeur) poids + 1 biais.\n",
        "\n",
        "Donc le tenseur passe de $(channel_{in}*W*H)$ a $(channel_{out}*(W-W_k+1)*(H-H_k+1))$\n",
        "\n",
        "Pour comprendre exactement comme fonctionne une convolution cet article de (Parabu) est parfait : [Understanding of Convolutional Neural Network (CNN) — Deep Learning](https://medium.com/@RaghavPrabhu/understanding-of-convolutional-neural-network-cnn-deep-learning-99760835f148)\n",
        "\n",
        "Généralement ce genre de layers sont utilisés aux coté de Pooling layer servant a réduire la dimension de l'image.\n",
        "\n",
        "Testons en quelques uns.\n"
      ]
    },
    {
      "cell_type": "code",
      "metadata": {
        "id": "fylqxN8bFXyf"
      },
      "source": [
        "class Convolution(nn.Module):\n",
        "    def __init__(self):\n",
        "        super(Convolution, self).__init__()\n",
        "        self.pool = nn.MaxPool2d(kernel_size=(2,3))\n",
        "\n",
        "\n",
        "    def forward(self, x):\n",
        "      return self.pool(x)"
      ],
      "execution_count": null,
      "outputs": []
    },
    {
      "cell_type": "code",
      "metadata": {
        "colab": {
          "base_uri": "https://localhost:8080/"
        },
        "id": "vQIig2Ar8dWy",
        "outputId": "96fba86a-0a41-4e6a-960c-d25f7efba3b8"
      },
      "source": [
        "dataset = Wheather_Dataset(\"dataset2\", transform=trf)\n",
        "\n",
        "testloader = torch.utils.data.DataLoader(dataset, batch_size=10, shuffle=False, num_workers=2)\n",
        "\n",
        "it = iter(testloader)\n",
        "im = next(it)[\"image\"]\n",
        "C = Convolution()\n",
        "print(im.shape)\n",
        "print(C(im).shape)\n",
        "print([i.shape for i in C.parameters()])"
      ],
      "execution_count": null,
      "outputs": [
        {
          "output_type": "stream",
          "text": [
            "torch.Size([10, 3, 256, 256])\n",
            "torch.Size([10, 3, 128, 85])\n",
            "[]\n"
          ],
          "name": "stdout"
        }
      ]
    },
    {
      "cell_type": "markdown",
      "metadata": {
        "id": "ux5CBCpIG3TJ"
      },
      "source": [
        "Donc la premier constat : aucun paramètre ne s'entraine, en revanche la diminution de la dimension n'est pas une soustraction mais une division par le kernel."
      ]
    },
    {
      "cell_type": "code",
      "metadata": {
        "id": "en75aNrVGoV4"
      },
      "source": [
        "class Convolution(nn.Module):\n",
        "    def __init__(self):\n",
        "        super(Convolution, self).__init__()\n",
        "        self.conv1 = nn.Conv2d(in_channels=3, out_channels = 6, kernel_size = (4,4))\n",
        "        self.pool1 = nn.MaxPool2d(kernel_size=(3,3))\n",
        "        self.conv2 = nn.Conv2d(in_channels=6, out_channels = 12, kernel_size = (4,4))\n",
        "        self.pool2 = nn.MaxPool2d(kernel_size=(3,3))\n",
        "\n",
        "\n",
        "    def forward(self, x):\n",
        "      x = self.conv1(x)\n",
        "      x = self.pool1(x)\n",
        "      x = self.conv2(x)\n",
        "      x = self.pool2(x)\n",
        "      return x"
      ],
      "execution_count": null,
      "outputs": []
    },
    {
      "cell_type": "code",
      "metadata": {
        "colab": {
          "base_uri": "https://localhost:8080/"
        },
        "id": "F2JV1R1zHiHo",
        "outputId": "bc2357a7-a5f7-41e8-f135-da26590ab787"
      },
      "source": [
        "dataset = Wheather_Dataset(\"dataset2\", transform=trf)\n",
        "\n",
        "testloader = torch.utils.data.DataLoader(dataset, batch_size=10, shuffle=False, num_workers=2)\n",
        "\n",
        "it = iter(testloader)\n",
        "im = next(it)[\"image\"]\n",
        "C = Convolution()\n",
        "print(im.shape)\n",
        "print(C(im).shape)\n",
        "print([i.shape for i in C.parameters()])"
      ],
      "execution_count": null,
      "outputs": [
        {
          "output_type": "stream",
          "text": [
            "torch.Size([10, 3, 256, 256])\n",
            "torch.Size([10, 12, 27, 27])\n",
            "[torch.Size([6, 3, 4, 4]), torch.Size([6]), torch.Size([12, 6, 4, 4]), torch.Size([12])]\n"
          ],
          "name": "stdout"
        }
      ]
    },
    {
      "cell_type": "code",
      "metadata": {
        "id": "Oed8HroyHjk_"
      },
      "source": [
        "class CNN(nn.Module):\n",
        "    def __init__(self):\n",
        "        super(CNN, self).__init__()\n",
        "        self.relu = nn.ReLU()\n",
        "        self.pool = nn.MaxPool2d(3, 3)\n",
        "        self.conv1 = nn.Conv2d(3, 6, 3)\n",
        "        self.conv2 = nn.Conv2d(6, 16, 3)\n",
        "        self.l2 = nn.Linear(11664,4)\n",
        "\n",
        "\n",
        "\n",
        "    def forward(self, x):\n",
        "      x = self.pool(F.relu(self.conv1(x)))\n",
        "      x = self.pool(F.relu(self.conv2(x)))\n",
        "      x = torch.flatten(x, start_dim=1)\n",
        "      #print(x.shape)\n",
        "      x = self.l2(x)\n",
        "      return x"
      ],
      "execution_count": null,
      "outputs": []
    },
    {
      "cell_type": "code",
      "metadata": {
        "colab": {
          "base_uri": "https://localhost:8080/"
        },
        "id": "jaAXC4XTIJR0",
        "outputId": "ea2ea44e-ffee-456e-f1d7-1399f105b97a"
      },
      "source": [
        "dataset = Wheather_Dataset(\"dataset2\", transform=trf)\n",
        "\n",
        "testloader = torch.utils.data.DataLoader(dataset, batch_size=10, shuffle=False, num_workers=2)\n",
        "\n",
        "it = iter(testloader)\n",
        "im = next(it)[\"image\"]\n",
        "C = CNN()\n",
        "print(im.shape)\n",
        "print(C(im).shape)"
      ],
      "execution_count": null,
      "outputs": [
        {
          "output_type": "stream",
          "text": [
            "torch.Size([10, 3, 256, 256])\n",
            "torch.Size([10, 4])\n"
          ],
          "name": "stdout"
        }
      ]
    },
    {
      "cell_type": "code",
      "metadata": {
        "colab": {
          "base_uri": "https://localhost:8080/"
        },
        "id": "5VVJyuwgIyMy",
        "outputId": "1539ffbe-b9d1-4ebf-e466-0a56449be303"
      },
      "source": [
        "trf = transforms.Compose([\n",
        "        transforms.ToPILImage(),\n",
        "        transforms.Resize((256,256)),\n",
        "        transforms.ToTensor()\n",
        "    ]) #Faut d'abord convertir en Image PIL\n",
        "dataset = Wheather_Dataset(\"dataset2\", transform=trf)\n",
        "testloader = torch.utils.data.DataLoader(dataset, batch_size=50, shuffle=False, num_workers=2)\n",
        "net = CNN()\n",
        "criterion = nn.CrossEntropyLoss()\n",
        "optimizer = torch.optim.SGD(net.parameters(), lr=1e-2)\n",
        "total, true = 0,0\n",
        "for i in range(35):\n",
        "  loss_s = 0\n",
        "  total, true = 0,0\n",
        "  for i in testloader:\n",
        "    imgs = i[\"image\"]\n",
        "    p = net(imgs)\n",
        "    loss = criterion(p, i[\"landmarks\"])\n",
        "    loss.backward()\n",
        "    optimizer.step()\n",
        "    optimizer.zero_grad()\n",
        "    loss_s += loss.item()\n",
        "    _, predicted = torch.max(p,axis=1)\n",
        "    true += ((predicted==i[\"landmarks\"]).int().sum())\n",
        "    total += p.shape[0]\n",
        "  precision = true/total*100\n",
        "  print(\"loss : \",loss_s)\n",
        "  print(f\"precision {precision} % on {total} samples\")"
      ],
      "execution_count": null,
      "outputs": [
        {
          "output_type": "stream",
          "text": [
            "loss :  28.540210604667664\n",
            "precision 47.90739059448242 % on 1123 samples\n",
            "loss :  20.69429063796997\n",
            "precision 65.09349822998047 % on 1123 samples\n",
            "loss :  18.804111301898956\n",
            "precision 64.82635498046875 % on 1123 samples\n",
            "loss :  17.572345733642578\n",
            "precision 68.38824462890625 % on 1123 samples\n",
            "loss :  16.34799361228943\n",
            "precision 71.3268051147461 % on 1123 samples\n",
            "loss :  14.867882579565048\n",
            "precision 74.88868713378906 % on 1123 samples\n",
            "loss :  13.765576422214508\n",
            "precision 77.91629791259766 % on 1123 samples\n",
            "loss :  13.23154404759407\n",
            "precision 78.53962707519531 % on 1123 samples\n",
            "loss :  12.473373860120773\n",
            "precision 80.23152160644531 % on 1123 samples\n",
            "loss :  12.76196002960205\n",
            "precision 79.16295623779297 % on 1123 samples\n",
            "loss :  12.675909340381622\n",
            "precision 79.6972427368164 % on 1123 samples\n",
            "loss :  11.57103168964386\n",
            "precision 82.45770263671875 % on 1123 samples\n",
            "loss :  11.536412060260773\n",
            "precision 82.5467529296875 % on 1123 samples\n",
            "loss :  10.961046487092972\n",
            "precision 82.45770263671875 % on 1123 samples\n",
            "loss :  10.685791254043579\n",
            "precision 82.81388854980469 % on 1123 samples\n",
            "loss :  10.411010533571243\n",
            "precision 82.99198913574219 % on 1123 samples\n",
            "loss :  10.172731071710587\n",
            "precision 83.70436096191406 % on 1123 samples\n",
            "loss :  9.961221814155579\n",
            "precision 83.70436096191406 % on 1123 samples\n",
            "loss :  9.763225078582764\n",
            "precision 84.060546875 % on 1123 samples\n",
            "loss :  9.577766507863998\n",
            "precision 84.41674041748047 % on 1123 samples\n",
            "loss :  9.397550731897354\n",
            "precision 84.50579071044922 % on 1123 samples\n",
            "loss :  9.229886084794998\n",
            "precision 84.59483337402344 % on 1123 samples\n",
            "loss :  9.066712349653244\n",
            "precision 84.77293395996094 % on 1123 samples\n",
            "loss :  8.910636872053146\n",
            "precision 84.86197662353516 % on 1123 samples\n",
            "loss :  8.75895282626152\n",
            "precision 85.12911987304688 % on 1123 samples\n",
            "loss :  8.616699367761612\n",
            "precision 85.3962631225586 % on 1123 samples\n",
            "loss :  8.48074123263359\n",
            "precision 85.3962631225586 % on 1123 samples\n",
            "loss :  8.349552422761917\n",
            "precision 85.84149169921875 % on 1123 samples\n",
            "loss :  8.219901293516159\n",
            "precision 86.10863494873047 % on 1123 samples\n",
            "loss :  8.097445830702782\n",
            "precision 86.10863494873047 % on 1123 samples\n",
            "loss :  7.980471163988113\n",
            "precision 86.55387115478516 % on 1123 samples\n",
            "loss :  7.86780858039856\n",
            "precision 86.82101440429688 % on 1123 samples\n",
            "loss :  7.756384760141373\n",
            "precision 86.99911499023438 % on 1123 samples\n",
            "loss :  7.650130182504654\n",
            "precision 87.17720794677734 % on 1123 samples\n",
            "loss :  7.54527935385704\n",
            "precision 87.26625061035156 % on 1123 samples\n"
          ],
          "name": "stdout"
        }
      ]
    },
    {
      "cell_type": "code",
      "metadata": {
        "colab": {
          "base_uri": "https://localhost:8080/"
        },
        "id": "l17CytI_IPI6",
        "outputId": "c03b1b8b-0e74-4db0-80dc-0c74ff7bf032"
      },
      "source": [
        "for i in range(35):\n",
        "  loss_s = 0\n",
        "  total, true = 0,0\n",
        "  for i in testloader:\n",
        "    imgs = i[\"image\"]\n",
        "    p = net(imgs)\n",
        "    loss = criterion(p, i[\"landmarks\"])\n",
        "    loss.backward()\n",
        "    optimizer.step()\n",
        "    optimizer.zero_grad()\n",
        "    loss_s += loss.item()\n",
        "    _, predicted = torch.max(p,axis=1)\n",
        "    true += ((predicted==i[\"landmarks\"]).int().sum())\n",
        "    total += p.shape[0]\n",
        "  precision = true/total*100\n",
        "  print(\"loss : \",loss_s)\n",
        "  print(f\"precision {precision} % on {total} samples\")"
      ],
      "execution_count": null,
      "outputs": [
        {
          "output_type": "stream",
          "text": [
            "loss :  7.439396843314171\n",
            "precision 87.6224365234375 % on 1123 samples\n",
            "loss :  7.337944477796555\n",
            "precision 87.71148681640625 % on 1123 samples\n",
            "loss :  7.23114587366581\n",
            "precision 87.88957977294922 % on 1123 samples\n",
            "loss :  7.1242996752262115\n",
            "precision 87.88957977294922 % on 1123 samples\n",
            "loss :  7.005132123827934\n",
            "precision 88.24576568603516 % on 1123 samples\n",
            "loss :  6.8857816606760025\n",
            "precision 88.3348159790039 % on 1123 samples\n",
            "loss :  6.7889527678489685\n",
            "precision 88.69100952148438 % on 1123 samples\n",
            "loss :  6.7043894827365875\n",
            "precision 88.7800521850586 % on 1123 samples\n",
            "loss :  6.630593538284302\n",
            "precision 88.9581527709961 % on 1123 samples\n",
            "loss :  6.54334183037281\n",
            "precision 88.9581527709961 % on 1123 samples\n",
            "loss :  6.457419216632843\n",
            "precision 88.9581527709961 % on 1123 samples\n",
            "loss :  6.364310950040817\n",
            "precision 89.40338134765625 % on 1123 samples\n",
            "loss :  6.269382730126381\n",
            "precision 89.58147430419922 % on 1123 samples\n",
            "loss :  6.172573134303093\n",
            "precision 89.84861755371094 % on 1123 samples\n",
            "loss :  6.0763005912303925\n",
            "precision 89.93766784667969 % on 1123 samples\n",
            "loss :  5.982571721076965\n",
            "precision 90.0267105102539 % on 1123 samples\n",
            "loss :  5.881832078099251\n",
            "precision 90.0267105102539 % on 1123 samples\n",
            "loss :  5.78402216732502\n",
            "precision 90.0267105102539 % on 1123 samples\n",
            "loss :  5.679109513759613\n",
            "precision 90.2048110961914 % on 1123 samples\n",
            "loss :  5.576604589819908\n",
            "precision 90.4719467163086 % on 1123 samples\n",
            "loss :  5.475365027785301\n",
            "precision 91.00623321533203 % on 1123 samples\n",
            "loss :  5.372471258044243\n",
            "precision 91.09528350830078 % on 1123 samples\n",
            "loss :  5.268662519752979\n",
            "precision 91.36241912841797 % on 1123 samples\n",
            "loss :  5.162714011967182\n",
            "precision 91.45146942138672 % on 1123 samples\n",
            "loss :  5.065858341753483\n",
            "precision 91.7186050415039 % on 1123 samples\n",
            "loss :  4.9613683968782425\n",
            "precision 91.8967056274414 % on 1123 samples\n",
            "loss :  4.854800641536713\n",
            "precision 92.07479858398438 % on 1123 samples\n",
            "loss :  4.743155211210251\n",
            "precision 92.43099212646484 % on 1123 samples\n",
            "loss :  4.62712038308382\n",
            "precision 92.78717803955078 % on 1123 samples\n",
            "loss :  4.514257729053497\n",
            "precision 92.96527099609375 % on 1123 samples\n",
            "loss :  4.405671291053295\n",
            "precision 93.5886001586914 % on 1123 samples\n",
            "loss :  4.300752900540829\n",
            "precision 94.12288665771484 % on 1123 samples\n",
            "loss :  4.196170225739479\n",
            "precision 94.47907257080078 % on 1123 samples\n",
            "loss :  4.089104898273945\n",
            "precision 94.83526611328125 % on 1123 samples\n",
            "loss :  3.9840080812573433\n",
            "precision 95.01335906982422 % on 1123 samples\n"
          ],
          "name": "stdout"
        }
      ]
    },
    {
      "cell_type": "markdown",
      "metadata": {
        "id": "DyYNWan7KA_f"
      },
      "source": [
        "## Application a l'analyse de sentiments"
      ]
    },
    {
      "cell_type": "code",
      "metadata": {
        "id": "Iy-D5Qame7YW"
      },
      "source": [
        "import torch.nn as nn\n",
        "import torch.nn.functional as F\n",
        "\n",
        "class CNN(nn.Module):\n",
        "    def __init__(self, vocab_size, embedding_dim, n_filters, filter_sizes, output_dim, \n",
        "                 dropout, pad_idx):\n",
        "        \n",
        "        super().__init__()\n",
        "        \n",
        "        self.embedding = nn.Embedding(vocab_size, embedding_dim, padding_idx = pad_idx)\n",
        "        \n",
        "        self.conv_0 = nn.Conv2d(in_channels = 1, \n",
        "                                out_channels = n_filters, \n",
        "                                kernel_size = (filter_sizes[0], embedding_dim))\n",
        "        \n",
        "        self.conv_1 = nn.Conv2d(in_channels = 1, \n",
        "                                out_channels = n_filters, \n",
        "                                kernel_size = (filter_sizes[1], embedding_dim))\n",
        "        \n",
        "        self.conv_2 = nn.Conv2d(in_channels = 1, \n",
        "                                out_channels = n_filters, \n",
        "                                kernel_size = (filter_sizes[2], embedding_dim))\n",
        "        \n",
        "        self.fc = nn.Linear(len(filter_sizes) * n_filters, output_dim)\n",
        "        \n",
        "        self.dropout = nn.Dropout(dropout)\n",
        "        \n",
        "    def forward(self, text):        \n",
        "        embedded = self.embedding(text)\n",
        "        #print(\"====\")\n",
        "        #print(\"embedded shape : \", embedded.shape)      \n",
        "        embedded = embedded.unsqueeze(1)\n",
        "        #print(\"embedded shape after unsqueezing : \", embedded.shape)\n",
        "        conved_0 = F.relu(self.conv_0(embedded).squeeze(3))\n",
        "        #print(\"conv shape : \", self.conv_0(embedded).shape)\n",
        "        #print(\"conv shape after squeezing : \", self.conv_0(embedded).squeeze(3).shape)\n",
        "        #print(\"====\")\n",
        "        conved_1 = F.relu(self.conv_1(embedded).squeeze(3))\n",
        "        conved_2 = F.relu(self.conv_2(embedded).squeeze(3))        \n",
        "        pooled_0 = F.max_pool1d(conved_0, conved_0.shape[2]).squeeze(2)\n",
        "        pooled_1 = F.max_pool1d(conved_1, conved_1.shape[2]).squeeze(2)\n",
        "        pooled_2 = F.max_pool1d(conved_2, conved_2.shape[2]).squeeze(2)        \n",
        "        cat = self.dropout(torch.cat((pooled_0, pooled_1, pooled_2), dim = 1))            \n",
        "        return self.fc(cat)"
      ],
      "execution_count": 57,
      "outputs": []
    },
    {
      "cell_type": "code",
      "metadata": {
        "id": "icoDPCDfmZDX",
        "outputId": "39311de4-fcdf-4b49-e9ce-21ea4b7a5687",
        "colab": {
          "base_uri": "https://localhost:8080/"
        }
      },
      "source": [
        "model = CNN(INPUT_DIM, EMBEDDING_DIM, N_FILTERS, FILTER_SIZES, OUTPUT_DIM, DROPOUT, PAD_IDX)\n",
        "valid_loss, valid_acc = evaluate_model(model, test_iter, criterion)"
      ],
      "execution_count": 60,
      "outputs": [
        {
          "output_type": "stream",
          "text": [
            "====\n",
            "embedded shape :  torch.Size([20, 350, 100])\n",
            "embedded shape after unsqueezing :  torch.Size([20, 1, 350, 100])\n",
            "conv shape :  torch.Size([20, 50, 348, 1])\n",
            "conv shape after squeezing :  torch.Size([20, 50, 348])\n",
            "====\n",
            "====\n",
            "embedded shape :  torch.Size([20, 350, 100])\n",
            "embedded shape after unsqueezing :  torch.Size([20, 1, 350, 100])\n",
            "conv shape :  torch.Size([20, 50, 348, 1])\n",
            "conv shape after squeezing :  torch.Size([20, 50, 348])\n",
            "====\n",
            "====\n",
            "embedded shape :  torch.Size([20, 350, 100])\n",
            "embedded shape after unsqueezing :  torch.Size([20, 1, 350, 100])\n",
            "conv shape :  torch.Size([20, 50, 348, 1])\n",
            "conv shape after squeezing :  torch.Size([20, 50, 348])\n",
            "====\n",
            "====\n",
            "embedded shape :  torch.Size([15, 350, 100])\n",
            "embedded shape after unsqueezing :  torch.Size([15, 1, 350, 100])\n",
            "conv shape :  torch.Size([15, 50, 348, 1])\n",
            "conv shape after squeezing :  torch.Size([15, 50, 348])\n",
            "====\n",
            "====\n",
            "embedded shape :  torch.Size([20, 350, 100])\n",
            "embedded shape after unsqueezing :  torch.Size([20, 1, 350, 100])\n",
            "conv shape :  torch.Size([20, 50, 348, 1])\n",
            "conv shape after squeezing :  torch.Size([20, 50, 348])\n",
            "====\n",
            "====\n",
            "embedded shape :  torch.Size([20, 350, 100])\n",
            "embedded shape after unsqueezing :  torch.Size([20, 1, 350, 100])\n",
            "conv shape :  torch.Size([20, 50, 348, 1])\n",
            "conv shape after squeezing :  torch.Size([20, 50, 348])\n",
            "====\n",
            "====\n",
            "embedded shape :  torch.Size([20, 350, 100])\n",
            "embedded shape after unsqueezing :  torch.Size([20, 1, 350, 100])\n",
            "conv shape :  torch.Size([20, 50, 348, 1])\n",
            "conv shape after squeezing :  torch.Size([20, 50, 348])\n",
            "====\n",
            "====\n",
            "embedded shape :  torch.Size([20, 350, 100])\n",
            "embedded shape after unsqueezing :  torch.Size([20, 1, 350, 100])\n",
            "conv shape :  torch.Size([20, 50, 348, 1])\n",
            "conv shape after squeezing :  torch.Size([20, 50, 348])\n",
            "====\n",
            "====\n",
            "embedded shape :  torch.Size([20, 350, 100])\n",
            "embedded shape after unsqueezing :  torch.Size([20, 1, 350, 100])\n",
            "conv shape :  torch.Size([20, 50, 348, 1])\n",
            "conv shape after squeezing :  torch.Size([20, 50, 348])\n",
            "====\n",
            "====\n",
            "embedded shape :  torch.Size([20, 350, 100])\n",
            "embedded shape after unsqueezing :  torch.Size([20, 1, 350, 100])\n",
            "conv shape :  torch.Size([20, 50, 348, 1])\n",
            "conv shape after squeezing :  torch.Size([20, 50, 348])\n",
            "====\n",
            "====\n",
            "embedded shape :  torch.Size([20, 350, 100])\n",
            "embedded shape after unsqueezing :  torch.Size([20, 1, 350, 100])\n",
            "conv shape :  torch.Size([20, 50, 348, 1])\n",
            "conv shape after squeezing :  torch.Size([20, 50, 348])\n",
            "====\n",
            "====\n",
            "embedded shape :  torch.Size([20, 350, 100])\n",
            "embedded shape after unsqueezing :  torch.Size([20, 1, 350, 100])\n",
            "conv shape :  torch.Size([20, 50, 348, 1])\n",
            "conv shape after squeezing :  torch.Size([20, 50, 348])\n",
            "====\n",
            "====\n",
            "embedded shape :  torch.Size([20, 350, 100])\n",
            "embedded shape after unsqueezing :  torch.Size([20, 1, 350, 100])\n",
            "conv shape :  torch.Size([20, 50, 348, 1])\n",
            "conv shape after squeezing :  torch.Size([20, 50, 348])\n",
            "====\n",
            "====\n",
            "embedded shape :  torch.Size([20, 350, 100])\n",
            "embedded shape after unsqueezing :  torch.Size([20, 1, 350, 100])\n",
            "conv shape :  torch.Size([20, 50, 348, 1])\n",
            "conv shape after squeezing :  torch.Size([20, 50, 348])\n",
            "====\n"
          ],
          "name": "stdout"
        }
      ]
    },
    {
      "cell_type": "code",
      "metadata": {
        "id": "w9u4q7siKQm5"
      },
      "source": [
        "def binary_accuracy(preds, y):\n",
        "    \"\"\"\n",
        "    Returns accuracy per batch, i.e. if you get 8/10 right, this returns 0.8, NOT 8\n",
        "    \"\"\"\n",
        "    #round predictions to the closest integer\n",
        "    rounded_preds = torch.round(torch.sigmoid(preds))\n",
        "    correct = (rounded_preds == y).float() #convert into float for division \n",
        "    acc = correct.sum() / len(correct)\n",
        "    return acc\n",
        "\n",
        "\n",
        "def train_model(model, iterator, optimizer, criterion):\n",
        "    epoch_loss = 0\n",
        "    epoch_acc = 0\n",
        "    model.train()\n",
        "    for batch in iterator:\n",
        "        optimizer.zero_grad()\n",
        "        predictions = model(batch.sentence).squeeze(1)\n",
        "        loss = criterion(predictions, batch.label)\n",
        "        acc = binary_accuracy(predictions, batch.label)\n",
        "        loss.backward()\n",
        "        optimizer.step()\n",
        "        epoch_loss += loss.item()\n",
        "        epoch_acc += acc.item()\n",
        "        \n",
        "    return epoch_loss / len(iterator), epoch_acc / len(iterator)\n",
        "\n",
        "def evaluate_model(model, iterator, criterion):  \n",
        "    epoch_loss = 0\n",
        "    epoch_acc = 0\n",
        "    model.eval()\n",
        "    with torch.no_grad():\n",
        "        for batch in iterator:\n",
        "            predictions = model(batch.sentence).squeeze(1)\n",
        "            loss = criterion(predictions, batch.label)\n",
        "            acc = binary_accuracy(predictions, batch.label)\n",
        "            epoch_loss += loss.item()\n",
        "            epoch_acc += acc.item()\n",
        "    return epoch_loss / len(iterator), epoch_acc / len(iterator)"
      ],
      "execution_count": 49,
      "outputs": []
    },
    {
      "cell_type": "code",
      "metadata": {
        "id": "3MlTld-8NmJi"
      },
      "source": [
        "INPUT_DIM = len(SENTENCE_FIELD.vocab)\n",
        "EMBEDDING_DIM = 100\n",
        "N_FILTERS = 50\n",
        "FILTER_SIZES = [3,4,5]\n",
        "OUTPUT_DIM = 1\n",
        "DROPOUT = 0.\n",
        "PAD_IDX = SENTENCE_FIELD.vocab.stoi[SENTENCE_FIELD.pad_token]\n",
        "\n",
        "device = \"cpu\"\n",
        "\n",
        "model = CNN(INPUT_DIM, EMBEDDING_DIM, N_FILTERS, FILTER_SIZES, OUTPUT_DIM, DROPOUT, PAD_IDX)"
      ],
      "execution_count": 59,
      "outputs": []
    },
    {
      "cell_type": "code",
      "metadata": {
        "id": "TAQpldVTNr74"
      },
      "source": [
        "import torch.optim as optim\n",
        "optimizer = optim.Adam(model.parameters())\n",
        "criterion = nn.BCEWithLogitsLoss()\n",
        "model = model.to(device)\n",
        "criterion = criterion.to(device)"
      ],
      "execution_count": 41,
      "outputs": []
    },
    {
      "cell_type": "code",
      "metadata": {
        "id": "oVbGdPsGNsoa"
      },
      "source": [
        "UNK_IDX = SENTENCE_FIELD.vocab.stoi[SENTENCE_FIELD.unk_token]\n",
        "PAD_IDX = SENTENCE_FIELD.vocab.stoi[SENTENCE_FIELD.pad_token]\n",
        "\n",
        "model.embedding.weight.data[UNK_IDX] = torch.zeros(EMBEDDING_DIM)\n",
        "model.embedding.weight.data[PAD_IDX] = torch.zeros(EMBEDDING_DIM)"
      ],
      "execution_count": 43,
      "outputs": []
    },
    {
      "cell_type": "code",
      "metadata": {
        "id": "xbsdQOe2QIRF"
      },
      "source": [
        "import time\n",
        "\n",
        "def epoch_time(start_time, end_time):\n",
        "    elapsed_time = end_time - start_time\n",
        "    elapsed_mins = int(elapsed_time / 60)\n",
        "    elapsed_secs = int(elapsed_time - (elapsed_mins * 60))\n",
        "    return elapsed_mins, elapsed_secs"
      ],
      "execution_count": 46,
      "outputs": []
    },
    {
      "cell_type": "code",
      "metadata": {
        "id": "TR6rJtlKThyf"
      },
      "source": [
        "train_iterator, test_iterator = torchtext.data.BucketIterator.splits(\n",
        "    (train, test), \n",
        "    batch_size = 20)"
      ],
      "execution_count": 47,
      "outputs": []
    },
    {
      "cell_type": "code",
      "metadata": {
        "colab": {
          "base_uri": "https://localhost:8080/"
        },
        "id": "RHRR1dr8QARQ",
        "outputId": "06fa303a-0dd9-4e96-baef-53b668f22eb4"
      },
      "source": [
        "N_EPOCHS = 5\n",
        "\n",
        "best_valid_loss = float('inf')\n",
        "\n",
        "for epoch in range(N_EPOCHS):\n",
        "\n",
        "    start_time = time.time()\n",
        "    \n",
        "    train_loss, train_acc = train_model(model, train_iter, optimizer, criterion)\n",
        "    valid_loss, valid_acc = evaluate_model(model, test_iter, criterion)\n",
        "    \n",
        "    end_time = time.time()\n",
        "\n",
        "    epoch_mins, epoch_secs = epoch_time(start_time, end_time)\n",
        "    \n",
        "    if valid_loss < best_valid_loss:\n",
        "        best_valid_loss = valid_loss\n",
        "        torch.save(model.state_dict(), 'tut4-model.pt')\n",
        "    \n",
        "    print(f'Epoch: {epoch+1:02} | Epoch Time: {epoch_mins}m {epoch_secs}s')\n",
        "    print(f'\\tTrain Loss: {train_loss:.3f} | Train Acc: {train_acc*100:.2f}%')\n",
        "    print(f'\\t Val. Loss: {valid_loss:.3f} |  Val. Acc: {valid_acc*100:.2f}%')"
      ],
      "execution_count": 48,
      "outputs": [
        {
          "output_type": "stream",
          "text": [
            "Epoch: 01 | Epoch Time: 0m 41s\n",
            "\tTrain Loss: 0.659 | Train Acc: 61.42%\n",
            "\t Val. Loss: 0.582 |  Val. Acc: 68.69%\n",
            "Epoch: 02 | Epoch Time: 0m 41s\n",
            "\tTrain Loss: 0.469 | Train Acc: 77.11%\n",
            "\t Val. Loss: 0.528 |  Val. Acc: 72.02%\n",
            "Epoch: 03 | Epoch Time: 0m 41s\n",
            "\tTrain Loss: 0.345 | Train Acc: 85.43%\n",
            "\t Val. Loss: 0.502 |  Val. Acc: 75.60%\n",
            "Epoch: 04 | Epoch Time: 0m 41s\n",
            "\tTrain Loss: 0.257 | Train Acc: 90.36%\n",
            "\t Val. Loss: 0.509 |  Val. Acc: 76.07%\n",
            "Epoch: 05 | Epoch Time: 0m 41s\n",
            "\tTrain Loss: 0.180 | Train Acc: 93.82%\n",
            "\t Val. Loss: 0.544 |  Val. Acc: 75.36%\n"
          ],
          "name": "stdout"
        }
      ]
    },
    {
      "cell_type": "code",
      "metadata": {
        "id": "NEqtYXvvSbMF"
      },
      "source": [
        ""
      ],
      "execution_count": null,
      "outputs": []
    }
  ]
}