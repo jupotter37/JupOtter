{
  "nbformat": 4,
  "nbformat_minor": 0,
  "metadata": {
    "kernelspec": {
      "display_name": "Python 3",
      "language": "python",
      "name": "python3"
    },
    "language_info": {
      "codemirror_mode": {
        "name": "ipython",
        "version": 3
      },
      "file_extension": ".py",
      "mimetype": "text/x-python",
      "name": "python",
      "nbconvert_exporter": "python",
      "pygments_lexer": "ipython3",
      "version": "3.8.3"
    },
    "colab": {
      "name": "Taller4_FuncionesYClases.ipynb",
      "provenance": [],
      "collapsed_sections": []
    }
  },
  "cells": [
    {
      "cell_type": "markdown",
      "metadata": {
        "id": "gTtCa1I1sn4A"
      },
      "source": [
        "# Funciones\n"
      ]
    },
    {
      "cell_type": "code",
      "metadata": {
        "id": "EjWzppxt3uh7",
        "outputId": "b6e79e44-123d-4001-9ea9-cde5bc4ecc5c",
        "colab": {
          "base_uri": "https://localhost:8080/"
        }
      },
      "source": [
        "import numpy as np\n",
        "a = np.math.factorial(4)\n",
        "a"
      ],
      "execution_count": null,
      "outputs": [
        {
          "output_type": "execute_result",
          "data": {
            "text/plain": [
              "24"
            ]
          },
          "metadata": {
            "tags": []
          },
          "execution_count": 3
        }
      ]
    },
    {
      "cell_type": "markdown",
      "metadata": {
        "id": "DmueJICMJr7c"
      },
      "source": [
        "## Función suma"
      ]
    },
    {
      "cell_type": "code",
      "metadata": {
        "id": "LntwnhWRsn4B"
      },
      "source": [
        "def mi_sum(num1, num2):\n",
        "    print('la suma es: ', num1+num2)"
      ],
      "execution_count": null,
      "outputs": []
    },
    {
      "cell_type": "code",
      "metadata": {
        "id": "g7c1qQg5sn4E",
        "outputId": "64c2b40a-f98d-4796-ac00-051989a00525",
        "colab": {
          "base_uri": "https://localhost:8080/"
        }
      },
      "source": [
        "mi_sum(1,2)"
      ],
      "execution_count": null,
      "outputs": [
        {
          "output_type": "stream",
          "text": [
            "la suma es:  3\n"
          ],
          "name": "stdout"
        }
      ]
    },
    {
      "cell_type": "markdown",
      "metadata": {
        "id": "lKUgdQ2rsn4J"
      },
      "source": [
        "## Movimiento parabólico"
      ]
    },
    {
      "cell_type": "markdown",
      "metadata": {
        "id": "kT4AkkYCYQ9l"
      },
      "source": [
        "![p2.png](data:image/png;base64,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)"
      ]
    },
    {
      "cell_type": "markdown",
      "metadata": {
        "id": "Xpy6R2hKLKQR"
      },
      "source": [
        "## Posiciones"
      ]
    },
    {
      "cell_type": "markdown",
      "metadata": {
        "id": "q64FpHhXsn4K"
      },
      "source": [
        "$$ x(t) = x_0 + (v_0 cos\\theta) t$$\n",
        "\n",
        "$$ y(t) = y_0 + (v_0 sen \\theta) t - \\frac{gt^2}{2}$$"
      ]
    },
    {
      "cell_type": "code",
      "metadata": {
        "id": "i7kMRukAsn4K"
      },
      "source": [
        "def x_pos(θ,t,v0,x0):\n",
        "    import numpy as np\n",
        "    x=x0+v0*np.cos(θ)*t\n",
        "    return(x)\n",
        "def y_pos(θ,t,v0,y0):\n",
        "    import numpy as np\n",
        "    g=9.8\n",
        "    y=y0+v0*np.sin(θ)*t-((g*t**2)/2)\n",
        "    return(y)"
      ],
      "execution_count": null,
      "outputs": []
    },
    {
      "cell_type": "markdown",
      "metadata": {
        "id": "LuP1jp0uLHl6"
      },
      "source": [
        "## Velocidades"
      ]
    },
    {
      "cell_type": "markdown",
      "metadata": {
        "id": "32SqqwAlsn4P"
      },
      "source": [
        "$$v_x(t) = \\frac{dx}{dt} = v_0 cos\\theta$$"
      ]
    },
    {
      "cell_type": "markdown",
      "metadata": {
        "id": "TLlNyOCVsn4Q"
      },
      "source": [
        "$$v_y(t) = \\frac{dy}{dt} = v_0 sen\\theta - gt $$"
      ]
    },
    {
      "cell_type": "markdown",
      "metadata": {
        "id": "rCQUG285sn4Q"
      },
      "source": [
        "$$v = ||\\sqrt{v_x^2 + v_y^2}||$$"
      ]
    },
    {
      "cell_type": "code",
      "metadata": {
        "id": "pGVucRcasn4Q"
      },
      "source": [
        "def v_x(θ,t,v0):\n",
        "    import numpy as np\n",
        "    vx=v0*np.cos(θ)\n",
        "    return(vx)\n",
        "    \n",
        "def v_y(θ,t,v0):\n",
        "    import numpy as np\n",
        "    g=9.8\n",
        "    vy=v0*np.sin(θ)-(g*t)\n",
        "    return(vy)\n",
        "\n",
        "def v_mod(vx,vy):\n",
        "    import numpy as np\n",
        "    vmod=np.sqrt(vx**2+vy**2)\n",
        "    return(vmod)   "
      ],
      "execution_count": null,
      "outputs": []
    },
    {
      "cell_type": "markdown",
      "metadata": {
        "id": "D5kNs0A5Jygd"
      },
      "source": [
        "## Energia cinética y potencial"
      ]
    },
    {
      "cell_type": "markdown",
      "metadata": {
        "id": "IcRmKT-YJpkV"
      },
      "source": [
        "$$E_{M} = U + V$$"
      ]
    },
    {
      "cell_type": "markdown",
      "metadata": {
        "id": "n67TiADrsn4M"
      },
      "source": [
        "$$ U  = \\frac{1}{2} m \\left(\\frac{dy}{dt} \\right)^2 $$\n",
        "\n",
        "$$ V = ymg$$"
      ]
    },
    {
      "cell_type": "code",
      "metadata": {
        "id": "vbMFlQLZsn4M"
      },
      "source": [
        "def U_energy(m,v):\n",
        "    return(0.5*m*v**2)\n",
        "def V_energy(m,h):\n",
        "    g=9.8\n",
        "    return(h*m*g)"
      ],
      "execution_count": null,
      "outputs": []
    },
    {
      "cell_type": "markdown",
      "metadata": {
        "id": "LW1Xxt_8LZUY"
      },
      "source": [
        "## Visualización"
      ]
    },
    {
      "cell_type": "code",
      "metadata": {
        "id": "6kT1349Ysn4S"
      },
      "source": [
        "import matplotlib.pyplot as plt\n",
        "\n",
        "t=np.linspace(0,11.75,1000)"
      ],
      "execution_count": null,
      "outputs": []
    },
    {
      "cell_type": "code",
      "metadata": {
        "id": "4NXLU8T5sn4U"
      },
      "source": [
        "x = x_pos(np.pi/4,t,80,0)\n",
        "\n",
        "y = y_pos(np.pi/4,t,80,0)\n",
        "#xy"
      ],
      "execution_count": null,
      "outputs": []
    },
    {
      "cell_type": "code",
      "metadata": {
        "id": "Ml0HDCZ_sn4b",
        "outputId": "62345747-261b-440b-f61b-a0ee7e8d1dde",
        "colab": {
          "base_uri": "https://localhost:8080/",
          "height": 282
        }
      },
      "source": [
        "plt.plot(t,x)"
      ],
      "execution_count": null,
      "outputs": [
        {
          "output_type": "execute_result",
          "data": {
            "text/plain": [
              "[<matplotlib.lines.Line2D at 0x7f2fb14e2470>]"
            ]
          },
          "metadata": {
            "tags": []
          },
          "execution_count": 54
        },
        {
          "output_type": "display_data",
          "data": {
            "image/png": "[encoded data removed]",
            "text/plain": [
              "<Figure size 432x288 with 1 Axes>"
            ]
          },
          "metadata": {
            "tags": [],
            "needs_background": "light"
          }
        }
      ]
    },
    {
      "cell_type": "code",
      "metadata": {
        "id": "UFaAyVb3sn4d",
        "outputId": "3ac600f2-d120-4098-bc9e-7a2f75485c95",
        "colab": {
          "base_uri": "https://localhost:8080/",
          "height": 282
        }
      },
      "source": [
        "plt.plot(t,y)\n",
        "plt.hlines(0,0,12)"
      ],
      "execution_count": null,
      "outputs": [
        {
          "output_type": "execute_result",
          "data": {
            "text/plain": [
              "<matplotlib.collections.LineCollection at 0x7fba7ee02978>"
            ]
          },
          "metadata": {
            "tags": []
          },
          "execution_count": 134
        },
        {
          "output_type": "display_data",
          "data": {
            "image/png": "[encoded data removed]",
            "text/plain": [
              "<Figure size 432x288 with 1 Axes>"
            ]
          },
          "metadata": {
            "tags": [],
            "needs_background": "light"
          }
        }
      ]
    },
    {
      "cell_type": "code",
      "metadata": {
        "id": "1e4exmOYsn4W"
      },
      "source": [
        "vx = np.ones(1000)*v_x(np.pi/4,t,80)\n",
        "vy = v_y(np.pi/4,t,80)\n",
        "vmod = v_mod(vx,vy)"
      ],
      "execution_count": null,
      "outputs": []
    },
    {
      "cell_type": "code",
      "metadata": {
        "id": "zwVBL0Trsn4Y"
      },
      "source": [
        "U = U_energy(50,vy) #50kg vmod m/s\n",
        "V = V_energy(50,y)"
      ],
      "execution_count": null,
      "outputs": []
    },
    {
      "cell_type": "code",
      "metadata": {
        "scrolled": true,
        "id": "TJuKk5pcsn4Z",
        "outputId": "c720d55f-c26d-42c8-eaa5-152f09621e08",
        "colab": {
          "base_uri": "https://localhost:8080/",
          "height": 282
        }
      },
      "source": [
        "plt.plot(t,U,label='U')\n",
        "plt.plot(t,V, label='V')\n",
        "plt.legend()"
      ],
      "execution_count": null,
      "outputs": [
        {
          "output_type": "execute_result",
          "data": {
            "text/plain": [
              "<matplotlib.legend.Legend at 0x7f2fb1a8fd30>"
            ]
          },
          "metadata": {
            "tags": []
          },
          "execution_count": 49
        },
        {
          "output_type": "display_data",
          "data": {
            "image/png": "[encoded data removed]",
            "text/plain": [
              "<Figure size 432x288 with 1 Axes>"
            ]
          },
          "metadata": {
            "tags": [],
            "needs_background": "light"
          }
        }
      ]
    },
    {
      "cell_type": "markdown",
      "metadata": {
        "id": "GJJCaaYPLfoW"
      },
      "source": [
        "###"
      ]
    },
    {
      "cell_type": "code",
      "metadata": {
        "id": "Anutv4bOsn4o"
      },
      "source": [
        "import matplotlib.pyplot as plt\n",
        "import numpy as np"
      ],
      "execution_count": null,
      "outputs": []
    },
    {
      "cell_type": "code",
      "metadata": {
        "id": "nptetP4nsn4q"
      },
      "source": [
        "def plottrig(f,a,b,n):\n",
        "    '''\n",
        "    f: es la función a potear\n",
        "    a y b son los límites del dominio \n",
        "    en el que queremos plotear [a,b]\n",
        "    n: número de pasos\n",
        "    '''\n",
        "    xvals=np.linspace(a,b,n)\n",
        "    plt.plot(xvals,f(xvals))"
      ],
      "execution_count": null,
      "outputs": []
    },
    {
      "cell_type": "code",
      "metadata": {
        "id": "IJa6cVd5sn4r"
      },
      "source": [
        "funtrig = (np.sin,np.cos,np.tan)\n"
      ],
      "execution_count": null,
      "outputs": []
    },
    {
      "cell_type": "code",
      "metadata": {
        "id": "gTcKybossn4t",
        "outputId": "2363bf65-6703-45af-d162-c18f30a0554b",
        "colab": {
          "base_uri": "https://localhost:8080/",
          "height": 322
        }
      },
      "source": [
        "for ft in funtrig:\n",
        "    print(ft(np.pi/6.0))\n",
        "    plottrig(ft,-np.pi,np.pi,1000)\n",
        "    plt.ylim(-2,2)\n",
        "    plt.legend(labels=['sen(x)','cos(x)','tan(h)'])"
      ],
      "execution_count": null,
      "outputs": [
        {
          "output_type": "stream",
          "text": [
            "0.49999999999999994\n",
            "0.8660254037844387\n",
            "0.5773502691896257\n"
          ],
          "name": "stdout"
        },
        {
          "output_type": "display_data",
          "data": {
            "image/png": "[encoded data removed]",
            "text/plain": [
              "<Figure size 432x288 with 1 Axes>"
            ]
          },
          "metadata": {
            "tags": [],
            "needs_background": "light"
          }
        }
      ]
    },
    {
      "cell_type": "markdown",
      "metadata": {
        "id": "WaZM2J9wXHNw"
      },
      "source": [
        "## Oscilador subamortiguado"
      ]
    },
    {
      "cell_type": "markdown",
      "metadata": {
        "id": "zd0w-8IfUCKo"
      },
      "source": [
        "$$ x(t) = a_0 e^{-t/t_{decay}}cos(2\\pi f_0 t) $$"
      ]
    },
    {
      "cell_type": "markdown",
      "metadata": {
        "id": "axvbyUCSXQkP"
      },
      "source": [
        ""
      ]
    },
    {
      "cell_type": "code",
      "metadata": {
        "id": "eE_A4-FPsn4w",
        "outputId": "d73ea7e8-bbe1-4f74-a841-81ec8fd3c107",
        "colab": {
          "base_uri": "https://localhost:8080/",
          "height": 294
        }
      },
      "source": [
        "# Import the plotting and math packages\n",
        "import matplotlib.pyplot as plt\n",
        "import math\n",
        "\n",
        "# Define initial constants\n",
        "f0 = 5.\n",
        "a0 = 100.\n",
        "tdecay = 2.\n",
        "\n",
        "# Create lists for the (x,y) data\n",
        "time = []\n",
        "amplitude = []\n",
        "\n",
        "# Calculate the data and append to the lists\n",
        "for i in range(0, 10000, 1):\n",
        "  t = 0.001 * float(i) \n",
        "  a = a0 * math.exp(-t/tdecay)*math.cos(2. * math.pi * f0 * t)\n",
        "  time.append(t)\n",
        "  amplitude.append(a)\n",
        "\n",
        "x = tuple(time)\n",
        "y = tuple(amplitude)\n",
        "\n",
        "# Create an x-y plot of the data with labeled axes\n",
        "\n",
        "plt.figure().canvas.set_window_title('Oscillator')\n",
        "plt.xlabel('Time')\n",
        "plt.ylabel('Amplitude')\n",
        "plt.title('A Damped Oscillator')\n",
        "#oscillator = plt.plot(time,amplitude)\n",
        "oscillator = plt.plot(x,y)\n",
        "plt.xlim(-0.5,10.)\n",
        "plt.ylim(-200.,200.)\n",
        "#plt.xlim(5.,6.)\n",
        "plt.setp(oscillator, color='m', linewidth=1.5)\n",
        "plt.minorticks_on()\n",
        "\n",
        "\n",
        "# Save the plot\n",
        "fname = 'oscillator.png'\n",
        "plt.savefig(fname)\n",
        "fname = 'oscillator300.png'\n",
        "plt.savefig(fname,dpi=300)\n",
        "fname = 'oscillator.pdf'\n",
        "plt.savefig(fname)\n",
        "\n",
        "# Show the data\n",
        "plt.show()\n"
      ],
      "execution_count": null,
      "outputs": [
        {
          "output_type": "display_data",
          "data": {
            "image/png": "[encoded data removed]",
            "text/plain": [
              "<Figure size 432x288 with 1 Axes>"
            ]
          },
          "metadata": {
            "tags": [],
            "needs_background": "light"
          }
        }
      ]
    },
    {
      "cell_type": "code",
      "metadata": {
        "id": "AbQX7OPisn4y",
        "outputId": "f05b0ea2-c992-4d9b-d705-c0d2bb2a3f5d",
        "colab": {
          "base_uri": "https://localhost:8080/",
          "height": 294
        }
      },
      "source": [
        "# Import the plotting and math packages\n",
        "import matplotlib.pyplot as plt\n",
        "import math\n",
        "\n",
        "# Define initial constants\n",
        "f0 = 5.\n",
        "a0 = 1.\n",
        "tdecay = 2.\n",
        "\n",
        "# Create lists for the (x,y) data\n",
        "time = []\n",
        "sine_amplitude = []\n",
        "exp_amplitude = []\n",
        "product_amplitude = []\n",
        "\n",
        "# Calculate the data and append to the lists\n",
        "for i in range(0, 10000, 1):\n",
        "  t = 0.001 * float(i) \n",
        "  a1 = math.cos(2. * math.pi * f0 * t)\n",
        "  a2 = math.exp(-t/tdecay)\n",
        "  a = a1*a2\n",
        "  time.append(t)\n",
        "  sine_amplitude.append(a1)\n",
        "  exp_amplitude.append(a2)\n",
        "  product_amplitude.append(a)\n",
        "\n",
        "# Create a figure\n",
        "fig = plt.figure()\n",
        "\n",
        "# Adjust white space between plots\n",
        "fig.subplots_adjust(hspace=0.5)\n",
        "\n",
        "# Create x-y plots of the data with labeled axes\n",
        "\n",
        "data1 = fig.add_subplot(3,1,1)\n",
        "plt.xlabel('Time')\n",
        "plt.ylabel('Amplitude')\n",
        "plt.title('Damping')\n",
        "data1.plot(time,exp_amplitude,'r.', label='Exponential')\n",
        "plt.legend()\n",
        "\n",
        "data2 = fig.add_subplot(3,1,2)\n",
        "plt.xlabel('Time')\n",
        "plt.ylabel('Amplitude')\n",
        "plt.title('A Damped Oscillator')\n",
        "data2.plot(time,product_amplitude, color='blue', linestyle='solid', marker='None', label='Product', linewidth=1.5)\n",
        "plt.legend()\n",
        "\n",
        "data3 = fig.add_subplot(3,1,3)\n",
        "plt.xlabel('Time')\n",
        "plt.ylabel('Amplitude')\n",
        "plt.title('Sine')\n",
        "data3.plot(time,sine_amplitude, color='blue', linestyle='solid', marker='None', label='Sine', linewidth=1.5)\n",
        "plt.legend()\n",
        "\n",
        "\n",
        "# Show the data\n",
        "plt.show()"
      ],
      "execution_count": null,
      "outputs": [
        {
          "output_type": "display_data",
          "data": {
            "image/png": "[encoded data removed]",
            "text/plain": [
              "<Figure size 432x288 with 3 Axes>"
            ]
          },
          "metadata": {
            "tags": [],
            "needs_background": "light"
          }
        }
      ]
    },
    {
      "cell_type": "markdown",
      "metadata": {
        "id": "MyqFnipYImSY"
      },
      "source": [
        "## CLASES"
      ]
    },
    {
      "cell_type": "code",
      "metadata": {
        "id": "yv3n2bFb_PAq"
      },
      "source": [
        "from MyVector import MyVector"
      ],
      "execution_count": null,
      "outputs": []
    },
    {
      "cell_type": "code",
      "metadata": {
        "id": "RN5eSn0csn40",
        "outputId": "480d469f-33ef-4d1f-9e15-c0dd17d4cad9",
        "colab": {
          "base_uri": "https://localhost:8080/"
        }
      },
      "source": [
        "a = MyVector(13,0,5)\n",
        "print(a)"
      ],
      "execution_count": null,
      "outputs": [
        {
          "output_type": "stream",
          "text": [
            "MyVector (13.000000,0.000000,5.000000)\n"
          ],
          "name": "stdout"
        }
      ]
    },
    {
      "cell_type": "code",
      "metadata": {
        "id": "yzn76DipAtb7",
        "outputId": "61f6654b-ebf3-4e81-cde5-e9d941daa5b3",
        "colab": {
          "base_uri": "https://localhost:8080/"
        }
      },
      "source": [
        "type(a)"
      ],
      "execution_count": null,
      "outputs": [
        {
          "output_type": "execute_result",
          "data": {
            "text/plain": [
              "MyVector.MyVector"
            ]
          },
          "metadata": {
            "tags": []
          },
          "execution_count": 29
        }
      ]
    },
    {
      "cell_type": "code",
      "metadata": {
        "id": "iB5UXA0yAxZh",
        "outputId": "a4ecee8a-8a35-442c-f2d6-de1706986a7e",
        "colab": {
          "base_uri": "https://localhost:8080/"
        }
      },
      "source": [
        "b=MyVector(2.,2.,2.)\n",
        "print(b)"
      ],
      "execution_count": null,
      "outputs": [
        {
          "output_type": "stream",
          "text": [
            "MyVector (2.000000,2.000000,2.000000)\n"
          ],
          "name": "stdout"
        }
      ]
    },
    {
      "cell_type": "code",
      "metadata": {
        "id": "_wnl4UHlA7Rh",
        "outputId": "7215a752-a9d7-4ac5-a070-9de6a9771890",
        "colab": {
          "base_uri": "https://localhost:8080/"
        }
      },
      "source": [
        "print(a+b)"
      ],
      "execution_count": null,
      "outputs": [
        {
          "output_type": "stream",
          "text": [
            "MyVector (15.000000,2.000000,7.000000)\n"
          ],
          "name": "stdout"
        }
      ]
    },
    {
      "cell_type": "code",
      "metadata": {
        "id": "z1pcoS1xA-lQ",
        "outputId": "47e40604-027b-4c4f-f4fa-95c7032bdd34",
        "colab": {
          "base_uri": "https://localhost:8080/"
        }
      },
      "source": [
        "a.norm()"
      ],
      "execution_count": null,
      "outputs": [
        {
          "output_type": "execute_result",
          "data": {
            "text/plain": [
              "13.92838827718412"
            ]
          },
          "metadata": {
            "tags": []
          },
          "execution_count": 32
        }
      ]
    },
    {
      "cell_type": "code",
      "metadata": {
        "id": "HxjUDw2cBAop",
        "outputId": "298aa3f2-0d7b-4443-bcf0-957b1d177f64",
        "colab": {
          "base_uri": "https://localhost:8080/"
        }
      },
      "source": [
        "a.norm()"
      ],
      "execution_count": null,
      "outputs": [
        {
          "output_type": "execute_result",
          "data": {
            "text/plain": [
              "13.92838827718412"
            ]
          },
          "metadata": {
            "tags": []
          },
          "execution_count": 33
        }
      ]
    },
    {
      "cell_type": "code",
      "metadata": {
        "id": "y2O-odrlC81g",
        "outputId": "369b890c-316c-4aa3-ffdb-90ad8218f3da",
        "colab": {
          "base_uri": "https://localhost:8080/",
          "height": 381
        }
      },
      "source": [
        "from MyVector import MyVector\n",
        "a.unit()"
      ],
      "execution_count": null,
      "outputs": [
        {
          "output_type": "stream",
          "text": [
            "ERROR:root:An unexpected error occurred while tokenizing input\n",
            "The following traceback may be corrupted or invalid\n",
            "The error message is: ('EOF in multi-line statement', (26, 0))\n",
            "\n"
          ],
          "name": "stderr"
        },
        {
          "output_type": "error",
          "ename": "TypeError",
          "evalue": "ignored",
          "traceback": [
            "\u001b[0;31m---------------------------------------------------------------------------\u001b[0m",
            "\u001b[0;31mTypeError\u001b[0m                                 Traceback (most recent call last)",
            "\u001b[0;32m<ipython-input-39-da3221f3585d>\u001b[0m in \u001b[0;36m<module>\u001b[0;34m()\u001b[0m\n\u001b[1;32m      1\u001b[0m \u001b[0;32mfrom\u001b[0m \u001b[0mMyVector\u001b[0m \u001b[0;32mimport\u001b[0m \u001b[0mMyVector\u001b[0m\u001b[0;34m\u001b[0m\u001b[0;34m\u001b[0m\u001b[0m\n\u001b[0;32m----> 2\u001b[0;31m \u001b[0ma\u001b[0m\u001b[0;34m.\u001b[0m\u001b[0munit\u001b[0m\u001b[0;34m(\u001b[0m\u001b[0;34m)\u001b[0m\u001b[0;34m\u001b[0m\u001b[0;34m\u001b[0m\u001b[0m\n\u001b[0m",
            "\u001b[0;32m/content/MyVector.py\u001b[0m in \u001b[0;36munit\u001b[0;34m(self)\u001b[0m\n\u001b[1;32m     28\u001b[0m     \u001b[0;32mdef\u001b[0m \u001b[0munit\u001b[0m\u001b[0;34m(\u001b[0m\u001b[0mself\u001b[0m\u001b[0;34m)\u001b[0m\u001b[0;34m:\u001b[0m\u001b[0;34m\u001b[0m\u001b[0;34m\u001b[0m\u001b[0m\n\u001b[1;32m     29\u001b[0m         \u001b[0;34m'''creates a unit vector'''\u001b[0m\u001b[0;34m\u001b[0m\u001b[0;34m\u001b[0m\u001b[0m\n\u001b[0;32m---> 30\u001b[0;31m         return (self.x*(self.norm())**(-1),self.y*(self.norm())**(-1),self.z*(self.norm())**(-1)\n\u001b[0m\u001b[1;32m     31\u001b[0m     \u001b[0;32mdef\u001b[0m \u001b[0mdot\u001b[0m\u001b[0;34m(\u001b[0m\u001b[0mself\u001b[0m\u001b[0;34m,\u001b[0m\u001b[0mother\u001b[0m\u001b[0;34m)\u001b[0m\u001b[0;34m:\u001b[0m\u001b[0;34m\u001b[0m\u001b[0;34m\u001b[0m\u001b[0m\n\u001b[1;32m     32\u001b[0m         \u001b[0;34m'''computes dot product'''\u001b[0m\u001b[0;34m\u001b[0m\u001b[0;34m\u001b[0m\u001b[0m\n",
            "\u001b[0;31mTypeError\u001b[0m: unsupported operand type(s) for /: 'MyVector' and 'float'"
          ]
        }
      ]
    },
    {
      "cell_type": "code",
      "metadata": {
        "id": "rBULsllBBBQJ"
      },
      "source": [
        "from MyVector import MyVector, MyPolarVector"
      ],
      "execution_count": null,
      "outputs": []
    },
    {
      "cell_type": "code",
      "metadata": {
        "id": "yr-q3q-VBPtg"
      },
      "source": [
        "a=MyVector(3.,1.,0.)\n",
        "b=MyPolarVector(3.,1.,0.)\n",
        "print(b)"
      ],
      "execution_count": null,
      "outputs": []
    },
    {
      "cell_type": "code",
      "metadata": {
        "id": "GBA8mMzBBaKI"
      },
      "source": [
        "# suma de vectores MyVector\n",
        "print(a+b)"
      ],
      "execution_count": null,
      "outputs": []
    },
    {
      "cell_type": "markdown",
      "metadata": {
        "id": "X4UgrE2JBlDk"
      },
      "source": [
        "## nuevos métodos para ***MyPolarVector***"
      ]
    },
    {
      "cell_type": "code",
      "metadata": {
        "id": "UKs4r6SpBbdP"
      },
      "source": [
        "b.r()"
      ],
      "execution_count": null,
      "outputs": []
    },
    {
      "cell_type": "code",
      "metadata": {
        "id": "KNhsZnioBcyv"
      },
      "source": [
        "b.theta()"
      ],
      "execution_count": null,
      "outputs": []
    },
    {
      "cell_type": "code",
      "metadata": {
        "id": "_E5MQmTdBeyf"
      },
      "source": [
        "b.phi()"
      ],
      "execution_count": null,
      "outputs": []
    }
  ]
}