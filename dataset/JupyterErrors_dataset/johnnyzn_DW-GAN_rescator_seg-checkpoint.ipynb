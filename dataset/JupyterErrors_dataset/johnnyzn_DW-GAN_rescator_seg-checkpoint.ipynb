{
 "cells": [
  {
   "cell_type": "code",
   "execution_count": 2,
   "metadata": {},
   "outputs": [
    {
     "name": "stderr",
     "output_type": "stream",
     "text": [
      "/home/ning_a/.local/lib/python3.6/site-packages/requests/__init__.py:91: RequestsDependencyWarning: urllib3 (1.25.7) or chardet (3.0.4) doesn't match a supported version!\n",
      "  RequestsDependencyWarning)\n"
     ]
    }
   ],
   "source": [
    "import sys, os\n",
    "sys.path.insert(1, '/home/ning_a/Desktop/CAPTCHA/base_solver/base_solver_char')\n",
    "import numpy as np\n",
    "import torch\n",
    "from torch.autograd import Variable\n",
    "import captcha_setting\n",
    "import my_dataset\n",
    "from captcha_cnn_model import CNN, Generator\n",
    "from torchvision.utils import save_image\n",
    "import cv2 as cv\n",
    "from matplotlib import pyplot as plt\n",
    "from torch.utils.data import DataLoader, Dataset\n",
    "import torchvision.transforms as transforms\n",
    "from PIL import Image"
   ]
  },
  {
   "cell_type": "code",
   "execution_count": 7,
   "metadata": {
    "scrolled": false
   },
   "outputs": [
    {
     "name": "stdout",
     "output_type": "stream",
     "text": [
      "load GAN net.\n"
     ]
    },
    {
     "data": {
      "image/png": "[encoded data removed]",
      "text/plain": [
       "<Figure size 432x288 with 1 Axes>"
      ]
     },
     "metadata": {
      "needs_background": "light"
     },
     "output_type": "display_data"
    },
    {
     "name": "stdout",
     "output_type": "stream",
     "text": [
      "('1627.png',)\n"
     ]
    },
    {
     "name": "stderr",
     "output_type": "stream",
     "text": [
      "/usr/local/lib/python3.6/dist-packages/ipykernel_launcher.py:78: UserWarning: To copy construct from a tensor, it is recommended to use sourceTensor.clone().detach() or sourceTensor.clone().detach().requires_grad_(True), rather than torch.tensor(sourceTensor).\n"
     ]
    }
   ],
   "source": [
    "\n",
    "class testdataset(Dataset):\n",
    "\n",
    "    def __init__(self, folder, transform=None):\n",
    "        self.train_image_file_paths = [os.path.join(folder, image_file) for image_file in os.listdir(folder)]\n",
    "        self.transform = transform\n",
    "\n",
    "    def __len__(self):\n",
    "        return len(self.train_image_file_paths)\n",
    "\n",
    "    def __getitem__(self, idx):\n",
    "        image_root = self.train_image_file_paths[idx]\n",
    "        image_name = image_root.split(os.path.sep)[-1]\n",
    "        image = Image.open(image_root)\n",
    "        image = image.resize((160,60), Image.ANTIALIAS)\n",
    "        label = image_name\n",
    "        #label = ohe.encode(image_name.split('_')[0]) # 为了方便，在生成图片的时候，图片文件的命名格式 \"4个数字或者数字_时间戳.PNG\", 4个字母或者即是图片的验证码的值，字母大写,同时对该值做 one-hot 处理\n",
    "        if self.transform is not None:\n",
    "            image = self.transform(image)\n",
    "            #label = self.transform(label)\n",
    "        #label = ohe.encode(image_name.split('_')[0])\n",
    "        return image, label\n",
    "transform = transforms.Compose([\n",
    "    # transforms.ColorJitter(),\n",
    "    transforms.Grayscale(),\n",
    "    transforms.ToTensor(),\n",
    "    # transforms.Normalize(mean=[0.485, 0.456, 0.406], std=[0.229, 0.224, 0.225])\n",
    "])\n",
    "def get_loader():\n",
    "    img_path = \"/home/ning_a/Desktop/CAPTCHA/dark_web_captcha/rescator_data/\"\n",
    "    img_path1 = \"/home/ning_a/Desktop/CAPTCHA/dark_web_captcha/rescator_me/\"\n",
    "    img_path2 = \"/home/ning_a/Desktop/CAPTCHA/base_GAN/train/\"\n",
    "    img_path3 = \"/home/ning_a/Desktop/CAPTCHA/dark_web_captcha/mania_data/\"\n",
    "    dataset = testdataset(img_path, transform=transform)\n",
    "    return DataLoader(dataset, batch_size=1, shuffle=False)\n",
    "dataloader = get_loader()\n",
    "\n",
    "generator = Generator()\n",
    "generator.load_state_dict(torch.load('/home/ning_a/Desktop/CAPTCHA/base_solver/base_solver_char/7800.pkl'))\n",
    "generator.eval()\n",
    "print(\"load GAN net.\")\n",
    "\n",
    "img_path = \"/home/ning_a/Desktop/CAPTCHA/dark_web_captcha/rescator_data/\"\n",
    "img_path1 = \"/home/ning_a/Desktop/CAPTCHA/dark_web_captcha/rescator_me/\"\n",
    "img_path2 = \"/home/ning_a/Desktop/CAPTCHA/base_GAN/train/\"\n",
    "\n",
    "img = cv.imread(img_path+\"1627.png\")\n",
    "\n",
    "dim = (160, 60)\n",
    "#img = cv.resize(img, dim, interpolation=cv.INTER_CUBIC)\n",
    "#img = cv.cvtColor(img,cv.COLOR_BGR2GRAY)\n",
    "plt.imshow(img)\n",
    "plt.show()\n",
    "img.shape\n",
    "\n",
    "from torch.autograd import Variable\n",
    "\n",
    "# img = torch.tensor(img)\n",
    "# img = img.float()\n",
    "# #print(img.type())\n",
    "# new_img = generator(img).data.cpu().numpy()\n",
    "# plt.imshow(new_img[0][0])\n",
    "# plt.show()\n",
    "# #print(img)\n",
    "label_target = \"\"\n",
    "for i, (imgs, label) in enumerate(dataloader):\n",
    "#     plt.imshow(imgs[0][0])\n",
    "#     plt.show()\n",
    "    if(i<10):\n",
    "        continue\n",
    "    print(label)\n",
    "    label_target = label\n",
    "#     imgs = Image.open('new_captcha.png')\n",
    "#     imgs = imgs.resize((160,60), Image.ANTIALIAS)\n",
    "#     plt.imshow(imgs)\n",
    "#     plt.show()\n",
    "#     imgs = transform(imgs)\n",
    "    imgs = torch.tensor(imgs).float()\n",
    "    new_img = generator(imgs)\n",
    "    new_img2 = new_img.data.cpu().numpy()\n",
    "#     print(new_img2.shape)\n",
    "#     print(label)\n",
    "    target_img = new_img2[0][0]\n",
    "#     plt.imshow(new_img2[0][0])\n",
    "#     plt.show()\n",
    "    target_img = target_img*255\n",
    "    #print()\n",
    "#    gray = cv.cvtColor(target_img,cv.COLOR_BGR2GRAY)\n",
    "#    ret, thresh = cv.threshold(target_img,0,255,cv.THRESH_BINARY_INV+cv.THRESH_OTSU)\n",
    "    cv.imwrite( \"temp.jpg\",target_img) \n",
    "#     save_image(thresh, \"/home/ning_a/Desktop/CAPTCHA/Solving_CAPTCHA_GAN_CNN/seged_rescator_clean/%s.png\" % \n",
    "#                label[0].split('.')[0], nrow=1, normalize=True)\n",
    "    break\n",
    "#     if(i>0):\n",
    "#         break"
   ]
  },
  {
   "cell_type": "code",
   "execution_count": 8,
   "metadata": {
    "scrolled": true
   },
   "outputs": [
    {
     "data": {
      "image/png": "[encoded data removed]",
      "text/plain": [
       "<Figure size 432x288 with 1 Axes>"
      ]
     },
     "metadata": {
      "needs_background": "light"
     },
     "output_type": "display_data"
    },
    {
     "data": {
      "image/png": "[encoded data removed]",
      "text/plain": [
       "<Figure size 432x288 with 1 Axes>"
      ]
     },
     "metadata": {
      "needs_background": "light"
     },
     "output_type": "display_data"
    }
   ],
   "source": [
    "# img = cv.imread(\"8.png\")\n",
    "# img = cv.imread('new_captcha.png')\n",
    "# img = Image.open('new_captcha.png')\n",
    "img = cv.imread('temp.jpg')\n",
    "plt.imshow(img)\n",
    "plt.show()\n",
    "#print(target_img)\n",
    "threshold = 5  \n",
    "# img = img.point(lambda p: p > threshold and 255)\n",
    "img = np.array(img)\n",
    "n_img = np.zeros((img.shape[0],img.shape[1]))\n",
    "img_aft = cv.normalize(img, n_img, 0,255,cv.NORM_MINMAX)\n",
    "plt.imshow(img_aft)\n",
    "plt.show()\n",
    "gray = cv.cvtColor(img_aft,cv.COLOR_BGR2GRAY)\n",
    "ret, thresh = cv.threshold(gray,0,255,cv.THRESH_BINARY_INV+cv.THRESH_OTSU)\n",
    "ret, thresh_reverse = cv.threshold(gray,0,255,cv.THRESH_OTSU)"
   ]
  },
  {
   "cell_type": "code",
   "execution_count": 9,
   "metadata": {},
   "outputs": [
    {
     "name": "stdout",
     "output_type": "stream",
     "text": [
      "5 17 7 35\n",
      "37 18 21 40\n",
      "76 18 20 38\n",
      "124 9 15 42\n"
     ]
    },
    {
     "data": {
      "image/png": "[encoded data removed]",
      "text/plain": [
       "<Figure size 432x288 with 1 Axes>"
      ]
     },
     "metadata": {
      "needs_background": "light"
     },
     "output_type": "display_data"
    }
   ],
   "source": [
    "# print(type(target_img))\n",
    "import copy\n",
    "from PIL import Image\n",
    "import operator\n",
    "im2,contours,hierarchy = cv.findContours(thresh,cv.RETR_EXTERNAL,cv.CHAIN_APPROX_SIMPLE)\n",
    "filter_containor = []\n",
    "temp_img = copy.deepcopy(img)\n",
    "cur_contours = []\n",
    "#print(len(contours))\n",
    "for i in contours:\n",
    "    #print(i)\n",
    "    x, y, w, h = cv.boundingRect(i)   \n",
    "    cur_contours.append([x, y, w, h])\n",
    "    #break\n",
    "contours = sorted(cur_contours, key=operator.itemgetter(0))\n",
    "#print(len(contours))\n",
    "for i in range(0,len(contours)):  \n",
    "    x = contours[i][0]\n",
    "    y = contours[i][1]\n",
    "    w = contours[i][2] \n",
    "    h = contours[i][3]\n",
    "    #= cv.boundingRect(contours[i])   \n",
    "    newimage=thresh_reverse[y:y+h,x:x+w] # 先用y确定高，再用x确定宽\n",
    "    nrootdir=(\"cut_image/\")\n",
    "    if h<5 and w<5:\n",
    "        continue\n",
    "    color = [255, 255, 255]\n",
    "    top, bottom, left, right = [1]*4\n",
    "\n",
    "    newimage = cv.copyMakeBorder(newimage, top, bottom, left, right, cv.BORDER_CONSTANT, value=color)\n",
    "    #newimage = \n",
    "    newimage = cv.resize(newimage,(30, 60), interpolation = cv.INTER_CUBIC)\n",
    "    #filter_containor.append(newimage)\n",
    "    \n",
    "    cv.rectangle(temp_img, (x,y), (x+w,y+h), (153,153,0), 1)\n",
    "    if not os.path.isdir(nrootdir):\n",
    "        os.makedirs(nrootdir)\n",
    "    cv.imwrite( nrootdir+str(i)+\".jpg\",newimage)\n",
    "    cv.imwrite( \"temp.jpg\",newimage) \n",
    "    filter_containor.append(Image.open(\"temp.jpg\"))\n",
    "    print (x, y, w, h)\n",
    "#print(filter_containor)\n",
    "plt.imshow(temp_img)\n",
    "plt.show()"
   ]
  },
  {
   "cell_type": "code",
   "execution_count": 13,
   "metadata": {},
   "outputs": [
    {
     "ename": "RuntimeError",
     "evalue": "Error(s) in loading state_dict for CNN:\n\tsize mismatch for rfc2.0.weight: copying a param with shape torch.Size([10, 256]) from checkpoint, the shape in current model is torch.Size([40, 256]).\n\tsize mismatch for rfc2.0.bias: copying a param with shape torch.Size([10]) from checkpoint, the shape in current model is torch.Size([40]).",
     "output_type": "error",
     "traceback": [
      "\u001b[0;31m---------------------------------------------------------------------------\u001b[0m",
      "\u001b[0;31mRuntimeError\u001b[0m                              Traceback (most recent call last)",
      "\u001b[0;32m<ipython-input-13-8042356eb3fc>\u001b[0m in \u001b[0;36m<module>\u001b[0;34m\u001b[0m\n\u001b[1;32m     55\u001b[0m \u001b[0mcnn\u001b[0m \u001b[0;34m=\u001b[0m \u001b[0mCNN\u001b[0m\u001b[0;34m(\u001b[0m\u001b[0;34m)\u001b[0m\u001b[0;34m\u001b[0m\u001b[0;34m\u001b[0m\u001b[0m\n\u001b[1;32m     56\u001b[0m \u001b[0mcnn\u001b[0m\u001b[0;34m.\u001b[0m\u001b[0meval\u001b[0m\u001b[0;34m(\u001b[0m\u001b[0;34m)\u001b[0m\u001b[0;34m\u001b[0m\u001b[0;34m\u001b[0m\u001b[0m\n\u001b[0;32m---> 57\u001b[0;31m \u001b[0mcnn\u001b[0m\u001b[0;34m.\u001b[0m\u001b[0mload_state_dict\u001b[0m\u001b[0;34m(\u001b[0m\u001b[0mtorch\u001b[0m\u001b[0;34m.\u001b[0m\u001b[0mload\u001b[0m\u001b[0;34m(\u001b[0m\u001b[0;34m'model_digit.pkl'\u001b[0m\u001b[0;34m)\u001b[0m\u001b[0;34m)\u001b[0m\u001b[0;34m\u001b[0m\u001b[0;34m\u001b[0m\u001b[0m\n\u001b[0m\u001b[1;32m     58\u001b[0m \u001b[0mcnn\u001b[0m\u001b[0;34m.\u001b[0m\u001b[0mto\u001b[0m\u001b[0;34m(\u001b[0m\u001b[0mdevice\u001b[0m\u001b[0;34m)\u001b[0m\u001b[0;34m\u001b[0m\u001b[0;34m\u001b[0m\u001b[0m\n\u001b[1;32m     59\u001b[0m transform = transforms.Compose([\n",
      "\u001b[0;32m~/.local/lib/python3.6/site-packages/torch/nn/modules/module.py\u001b[0m in \u001b[0;36mload_state_dict\u001b[0;34m(self, state_dict, strict)\u001b[0m\n\u001b[1;32m    767\u001b[0m         \u001b[0;32mif\u001b[0m \u001b[0mlen\u001b[0m\u001b[0;34m(\u001b[0m\u001b[0merror_msgs\u001b[0m\u001b[0;34m)\u001b[0m \u001b[0;34m>\u001b[0m \u001b[0;36m0\u001b[0m\u001b[0;34m:\u001b[0m\u001b[0;34m\u001b[0m\u001b[0;34m\u001b[0m\u001b[0m\n\u001b[1;32m    768\u001b[0m             raise RuntimeError('Error(s) in loading state_dict for {}:\\n\\t{}'.format(\n\u001b[0;32m--> 769\u001b[0;31m                                self.__class__.__name__, \"\\n\\t\".join(error_msgs)))\n\u001b[0m\u001b[1;32m    770\u001b[0m \u001b[0;34m\u001b[0m\u001b[0m\n\u001b[1;32m    771\u001b[0m     \u001b[0;32mdef\u001b[0m \u001b[0m_named_members\u001b[0m\u001b[0;34m(\u001b[0m\u001b[0mself\u001b[0m\u001b[0;34m,\u001b[0m \u001b[0mget_members_fn\u001b[0m\u001b[0;34m,\u001b[0m \u001b[0mprefix\u001b[0m\u001b[0;34m=\u001b[0m\u001b[0;34m''\u001b[0m\u001b[0;34m,\u001b[0m \u001b[0mrecurse\u001b[0m\u001b[0;34m=\u001b[0m\u001b[0;32mTrue\u001b[0m\u001b[0;34m)\u001b[0m\u001b[0;34m:\u001b[0m\u001b[0;34m\u001b[0m\u001b[0;34m\u001b[0m\u001b[0m\n",
      "\u001b[0;31mRuntimeError\u001b[0m: Error(s) in loading state_dict for CNN:\n\tsize mismatch for rfc2.0.weight: copying a param with shape torch.Size([10, 256]) from checkpoint, the shape in current model is torch.Size([40, 256]).\n\tsize mismatch for rfc2.0.bias: copying a param with shape torch.Size([10]) from checkpoint, the shape in current model is torch.Size([40])."
     ]
    }
   ],
   "source": [
    "import torch\n",
    "from torch.autograd import Variable\n",
    "import torch.nn as nn\n",
    "import captcha_setting\n",
    "import operator\n",
    "import torchvision.transforms as transforms\n",
    "from PIL import Image\n",
    "#for eachimg in filter_containor:\n",
    "class CNN(nn.Module):\n",
    "    def __init__(self):\n",
    "        super(CNN, self).__init__()\n",
    "        self.layer1 = nn.Sequential(\n",
    "            nn.Conv2d(1, 32, kernel_size=3, padding=1),\n",
    "            nn.BatchNorm2d(32),\n",
    "            nn.Dropout(0.1),  # drop 50% of the neuron\n",
    "            nn.ReLU(),\n",
    "            nn.MaxPool2d(2))\n",
    "        self.layer2 = nn.Sequential(\n",
    "            nn.Conv2d(32, 64, kernel_size=3, padding=1),\n",
    "            nn.BatchNorm2d(64),\n",
    "            nn.Dropout(0.1),  # drop 50% of the neuron\n",
    "            nn.ReLU(),\n",
    "            nn.MaxPool2d(2))\n",
    "        self.layer3 = nn.Sequential(\n",
    "            nn.Conv2d(64, 64, kernel_size=3, padding=1),\n",
    "            nn.BatchNorm2d(64),\n",
    "            nn.Dropout(0.1),  # drop 50% of the neuron\n",
    "            nn.ReLU(),\n",
    "            nn.MaxPool2d(2))\n",
    "        self.fc = nn.Sequential(\n",
    "            nn.Linear((captcha_setting.IMAGE_WIDTH//8)*(captcha_setting.IMAGE_HEIGHT//8)*64, 1024),\n",
    "            nn.Dropout(0.1),  # drop 50% of the neuron\n",
    "            nn.ReLU())\n",
    "        self.rfc = nn.Sequential(\n",
    "            nn.Linear(1024, 256),#captcha_setting.MAX_CAPTCHA*captcha_setting.ALL_CHAR_SET_LEN),\n",
    "            nn.ReLU()\n",
    "        )\n",
    "        self.rfc2 = nn.Sequential(\n",
    "            nn.Linear(256, 10),\n",
    "        )\n",
    "\n",
    "    def forward(self, x):\n",
    "        out = self.layer1(x)\n",
    "        out = self.layer2(out)\n",
    "        out = self.layer3(out)\n",
    "        out = out.view(out.size(0), -1)\n",
    "        out = self.fc(out)\n",
    "        #print(out.shape)\n",
    "        out = self.rfc(out)\n",
    "        out = self.rfc2(out)\n",
    "        #out = out.view(out.size(0), -1)\n",
    "        #print(out.shape)\n",
    "        return out\n",
    "device = torch.device(\"cuda:0\" if torch.cuda.is_available() else \"cpu\")\n",
    "cnn = CNN()\n",
    "cnn.eval()\n",
    "cnn.load_state_dict(torch.load('model_digit.pkl'))\n",
    "cnn.to(device)\n",
    "transform = transforms.Compose([\n",
    "    # transforms.ColorJitter(),\n",
    "    transforms.Grayscale(),\n",
    "    transforms.ToTensor(),\n",
    "    # transforms.Normalize(mean=[0.485, 0.456, 0.406], std=[0.229, 0.224, 0.225])\n",
    "])\n",
    "label_predicted = \"\"\n",
    "for eachimg in filter_containor:\n",
    "    #print(eachimg)\n",
    "    image = transform(eachimg).unsqueeze(0)\n",
    "    plt.imshow(eachimg)\n",
    "    plt.show()\n",
    "    print(image.shape)\n",
    "    \n",
    "    image = torch.tensor(image, device=device).float()\n",
    "    image = Variable(image).to(device)\n",
    "    #print(image.shape)\n",
    "    #image, labels =  image.to(device), labels.to(device)\n",
    "    # vimage = generator(image)\n",
    "    predict_label = cnn(image)\n",
    "    #labels = labels.cpu()\n",
    "    predict_label = predict_label.cpu()\n",
    "    _, predicted = torch.max(predict_label, 1)\n",
    "    print(captcha_setting.ALL_CHAR_SET[predicted])\n",
    "    label_predicted += captcha_setting.ALL_CHAR_SET[predicted]"
   ]
  },
  {
   "cell_type": "code",
   "execution_count": 11,
   "metadata": {},
   "outputs": [
    {
     "ename": "NameError",
     "evalue": "name 'label_predicted' is not defined",
     "output_type": "error",
     "traceback": [
      "\u001b[0;31m---------------------------------------------------------------------------\u001b[0m",
      "\u001b[0;31mNameError\u001b[0m                                 Traceback (most recent call last)",
      "\u001b[0;32m<ipython-input-11-71a521f914d2>\u001b[0m in \u001b[0;36m<module>\u001b[0;34m\u001b[0m\n\u001b[0;32m----> 1\u001b[0;31m \u001b[0mlabel_predicted\u001b[0m\u001b[0;34m\u001b[0m\u001b[0;34m\u001b[0m\u001b[0m\n\u001b[0m",
      "\u001b[0;31mNameError\u001b[0m: name 'label_predicted' is not defined"
     ]
    }
   ],
   "source": [
    "label_predicted"
   ]
  },
  {
   "cell_type": "code",
   "execution_count": 12,
   "metadata": {},
   "outputs": [
    {
     "ename": "TypeError",
     "evalue": "Image data cannot be converted to float",
     "output_type": "error",
     "traceback": [
      "\u001b[0;31m---------------------------------------------------------------------------\u001b[0m",
      "\u001b[0;31mTypeError\u001b[0m                                 Traceback (most recent call last)",
      "\u001b[0;32m<ipython-input-12-bbef32860d8d>\u001b[0m in \u001b[0;36m<module>\u001b[0;34m\u001b[0m\n\u001b[1;32m      2\u001b[0m \u001b[0;31m#ret, thresh = cv.threshold(test_img,0,255,cv.THRESH_BINARY_INV+cv.THRESH_OTSU)\u001b[0m\u001b[0;34m\u001b[0m\u001b[0;34m\u001b[0m\u001b[0;34m\u001b[0m\u001b[0m\n\u001b[1;32m      3\u001b[0m \u001b[0;31m#ret, thresh = cv.threshold(gray,0,255,cv.THRESH_OTSU)\u001b[0m\u001b[0;34m\u001b[0m\u001b[0;34m\u001b[0m\u001b[0;34m\u001b[0m\u001b[0m\n\u001b[0;32m----> 4\u001b[0;31m \u001b[0mplt\u001b[0m\u001b[0;34m.\u001b[0m\u001b[0mimshow\u001b[0m\u001b[0;34m(\u001b[0m\u001b[0mimg\u001b[0m\u001b[0;34m)\u001b[0m\u001b[0;34m\u001b[0m\u001b[0;34m\u001b[0m\u001b[0m\n\u001b[0m\u001b[1;32m      5\u001b[0m \u001b[0mplt\u001b[0m\u001b[0;34m.\u001b[0m\u001b[0mshow\u001b[0m\u001b[0;34m(\u001b[0m\u001b[0;34m)\u001b[0m\u001b[0;34m\u001b[0m\u001b[0;34m\u001b[0m\u001b[0m\n",
      "\u001b[0;32m~/.local/lib/python3.6/site-packages/matplotlib/pyplot.py\u001b[0m in \u001b[0;36mimshow\u001b[0;34m(X, cmap, norm, aspect, interpolation, alpha, vmin, vmax, origin, extent, shape, filternorm, filterrad, imlim, resample, url, data, **kwargs)\u001b[0m\n\u001b[1;32m   2697\u001b[0m         \u001b[0mfilternorm\u001b[0m\u001b[0;34m=\u001b[0m\u001b[0mfilternorm\u001b[0m\u001b[0;34m,\u001b[0m \u001b[0mfilterrad\u001b[0m\u001b[0;34m=\u001b[0m\u001b[0mfilterrad\u001b[0m\u001b[0;34m,\u001b[0m \u001b[0mimlim\u001b[0m\u001b[0;34m=\u001b[0m\u001b[0mimlim\u001b[0m\u001b[0;34m,\u001b[0m\u001b[0;34m\u001b[0m\u001b[0;34m\u001b[0m\u001b[0m\n\u001b[1;32m   2698\u001b[0m         resample=resample, url=url, **({\"data\": data} if data is not\n\u001b[0;32m-> 2699\u001b[0;31m         None else {}), **kwargs)\n\u001b[0m\u001b[1;32m   2700\u001b[0m     \u001b[0msci\u001b[0m\u001b[0;34m(\u001b[0m\u001b[0m__ret\u001b[0m\u001b[0;34m)\u001b[0m\u001b[0;34m\u001b[0m\u001b[0;34m\u001b[0m\u001b[0m\n\u001b[1;32m   2701\u001b[0m     \u001b[0;32mreturn\u001b[0m \u001b[0m__ret\u001b[0m\u001b[0;34m\u001b[0m\u001b[0;34m\u001b[0m\u001b[0m\n",
      "\u001b[0;32m~/.local/lib/python3.6/site-packages/matplotlib/__init__.py\u001b[0m in \u001b[0;36minner\u001b[0;34m(ax, data, *args, **kwargs)\u001b[0m\n\u001b[1;32m   1808\u001b[0m                         \u001b[0;34m\"the Matplotlib list!)\"\u001b[0m \u001b[0;34m%\u001b[0m \u001b[0;34m(\u001b[0m\u001b[0mlabel_namer\u001b[0m\u001b[0;34m,\u001b[0m \u001b[0mfunc\u001b[0m\u001b[0;34m.\u001b[0m\u001b[0m__name__\u001b[0m\u001b[0;34m)\u001b[0m\u001b[0;34m,\u001b[0m\u001b[0;34m\u001b[0m\u001b[0;34m\u001b[0m\u001b[0m\n\u001b[1;32m   1809\u001b[0m                         RuntimeWarning, stacklevel=2)\n\u001b[0;32m-> 1810\u001b[0;31m             \u001b[0;32mreturn\u001b[0m \u001b[0mfunc\u001b[0m\u001b[0;34m(\u001b[0m\u001b[0max\u001b[0m\u001b[0;34m,\u001b[0m \u001b[0;34m*\u001b[0m\u001b[0margs\u001b[0m\u001b[0;34m,\u001b[0m \u001b[0;34m**\u001b[0m\u001b[0mkwargs\u001b[0m\u001b[0;34m)\u001b[0m\u001b[0;34m\u001b[0m\u001b[0;34m\u001b[0m\u001b[0m\n\u001b[0m\u001b[1;32m   1811\u001b[0m \u001b[0;34m\u001b[0m\u001b[0m\n\u001b[1;32m   1812\u001b[0m         inner.__doc__ = _add_data_doc(inner.__doc__,\n",
      "\u001b[0;32m~/.local/lib/python3.6/site-packages/matplotlib/axes/_axes.py\u001b[0m in \u001b[0;36mimshow\u001b[0;34m(self, X, cmap, norm, aspect, interpolation, alpha, vmin, vmax, origin, extent, shape, filternorm, filterrad, imlim, resample, url, **kwargs)\u001b[0m\n\u001b[1;32m   5492\u001b[0m                               resample=resample, **kwargs)\n\u001b[1;32m   5493\u001b[0m \u001b[0;34m\u001b[0m\u001b[0m\n\u001b[0;32m-> 5494\u001b[0;31m         \u001b[0mim\u001b[0m\u001b[0;34m.\u001b[0m\u001b[0mset_data\u001b[0m\u001b[0;34m(\u001b[0m\u001b[0mX\u001b[0m\u001b[0;34m)\u001b[0m\u001b[0;34m\u001b[0m\u001b[0;34m\u001b[0m\u001b[0m\n\u001b[0m\u001b[1;32m   5495\u001b[0m         \u001b[0mim\u001b[0m\u001b[0;34m.\u001b[0m\u001b[0mset_alpha\u001b[0m\u001b[0;34m(\u001b[0m\u001b[0malpha\u001b[0m\u001b[0;34m)\u001b[0m\u001b[0;34m\u001b[0m\u001b[0;34m\u001b[0m\u001b[0m\n\u001b[1;32m   5496\u001b[0m         \u001b[0;32mif\u001b[0m \u001b[0mim\u001b[0m\u001b[0;34m.\u001b[0m\u001b[0mget_clip_path\u001b[0m\u001b[0;34m(\u001b[0m\u001b[0;34m)\u001b[0m \u001b[0;32mis\u001b[0m \u001b[0;32mNone\u001b[0m\u001b[0;34m:\u001b[0m\u001b[0;34m\u001b[0m\u001b[0;34m\u001b[0m\u001b[0m\n",
      "\u001b[0;32m~/.local/lib/python3.6/site-packages/matplotlib/image.py\u001b[0m in \u001b[0;36mset_data\u001b[0;34m(self, A)\u001b[0m\n\u001b[1;32m    632\u001b[0m         if (self._A.dtype != np.uint8 and\n\u001b[1;32m    633\u001b[0m                 not np.can_cast(self._A.dtype, float, \"same_kind\")):\n\u001b[0;32m--> 634\u001b[0;31m             \u001b[0;32mraise\u001b[0m \u001b[0mTypeError\u001b[0m\u001b[0;34m(\u001b[0m\u001b[0;34m\"Image data cannot be converted to float\"\u001b[0m\u001b[0;34m)\u001b[0m\u001b[0;34m\u001b[0m\u001b[0;34m\u001b[0m\u001b[0m\n\u001b[0m\u001b[1;32m    635\u001b[0m \u001b[0;34m\u001b[0m\u001b[0m\n\u001b[1;32m    636\u001b[0m         if not (self._A.ndim == 2\n",
      "\u001b[0;31mTypeError\u001b[0m: Image data cannot be converted to float"
     ]
    },
    {
     "data": {
      "image/png": "[encoded data removed]",
      "text/plain": [
       "<Figure size 432x288 with 1 Axes>"
      ]
     },
     "metadata": {
      "needs_background": "light"
     },
     "output_type": "display_data"
    }
   ],
   "source": [
    "img = cv.imread('/home/ning_a/Desktop/CAPTCHA/Solving_CAPTCHA_GAN_CNN/seged_rescator/245.png')\n",
    "#ret, thresh = cv.threshold(test_img,0,255,cv.THRESH_BINARY_INV+cv.THRESH_OTSU)\n",
    "#ret, thresh = cv.threshold(gray,0,255,cv.THRESH_OTSU)\n",
    "plt.imshow(img)\n",
    "plt.show()"
   ]
  },
  {
   "cell_type": "code",
   "execution_count": null,
   "metadata": {},
   "outputs": [],
   "source": [
    "#img = cv.imread(SAMPLE6_PATH)\n",
    "# plt.imshow(img)\n",
    "# plt.show()\n",
    "n_img = np.zeros((img.shape[0],img.shape[1]))\n",
    "img_aft = cv.normalize(img, n_img, 0,255,cv.NORM_MINMAX)\n",
    "plt.imshow(img_aft)\n",
    "plt.show()\n",
    "gray = cv.cvtColor(img_aft,cv.COLOR_BGR2GRAY)\n",
    "plt.imshow(gray)\n",
    "plt.show()\n",
    "ret, thresh = cv.threshold(gray,0,255,cv.THRESH_BINARY_INV+cv.THRESH_OTSU)\n",
    "#ret, thresh = cv.threshold(gray,0,255,cv.THRESH_OTSU)\n",
    "plt.imshow(thresh)\n",
    "plt.show()"
   ]
  },
  {
   "cell_type": "code",
   "execution_count": null,
   "metadata": {},
   "outputs": [],
   "source": [
    "import copy\n",
    "im2,contours,hierarchy = cv.findContours(thresh,cv.RETR_EXTERNAL,cv.CHAIN_APPROX_SIMPLE)\n",
    "filter_containor = []\n",
    "temp_img = copy.deepcopy(img)\n",
    "for i in range(0,len(contours)):  \n",
    "    x, y, w, h = cv.boundingRect(contours[i])   \n",
    "    newimage=img[y:y+h,x:x+w] # 先用y确定高，再用x确定宽\n",
    "    nrootdir=(\"cut_image/\")\n",
    "    if h<5 and w<5:\n",
    "        continue\n",
    "    filter_containor.append([x, y, w, h])\n",
    "    cv.rectangle(temp_img, (x,y), (x+w,y+h), (153,153,0), 1)\n",
    "    if not os.path.isdir(nrootdir):\n",
    "        os.makedirs(nrootdir)\n",
    "    cv.imwrite( nrootdir+str(i)+\".jpg\",newimage) \n",
    "    print (x, y, w, h)\n",
    "plt.imshow(temp_img)\n",
    "plt.show()"
   ]
  },
  {
   "cell_type": "code",
   "execution_count": null,
   "metadata": {},
   "outputs": [],
   "source": []
  },
  {
   "cell_type": "code",
   "execution_count": null,
   "metadata": {},
   "outputs": [],
   "source": []
  }
 ],
 "metadata": {
  "kernelspec": {
   "display_name": "Python 3",
   "language": "python",
   "name": "python3"
  },
  "language_info": {
   "codemirror_mode": {
    "name": "ipython",
    "version": 3
   },
   "file_extension": ".py",
   "mimetype": "text/x-python",
   "name": "python",
   "nbconvert_exporter": "python",
   "pygments_lexer": "ipython3",
   "version": "3.6.9"
  }
 },
 "nbformat": 4,
 "nbformat_minor": 2
}
