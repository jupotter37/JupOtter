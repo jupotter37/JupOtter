{
 "cells": [
  {
   "cell_type": "markdown",
   "metadata": {},
   "source": [
    "# Python中dict详解\n",
    "\n",
    "python3.0以上，print函数应为print()，不存在dict.iteritems()这个函数。\n",
    "\n",
    "在python中写中文注释会报错，这时只要在头部加上# coding=gbk即可."
   ]
  },
  {
   "cell_type": "markdown",
   "metadata": {},
   "source": [
    "#### 字典的添加、删除、修改操作"
   ]
  },
  {
   "cell_type": "code",
   "execution_count": 10,
   "metadata": {},
   "outputs": [
    {
     "data": {
      "text/plain": [
       "{'a': 'apple', 'b': 'banana', 'g': 'grape', 'o': 'orange'}"
      ]
     },
     "execution_count": 10,
     "metadata": {},
     "output_type": "execute_result"
    }
   ],
   "source": [
    "dict = {\"a\" : \"apple\", \"b\" : \"banana\", \"g\" : \"grape\", \"o\" : \"orange\"}\n",
    "dict"
   ]
  },
  {
   "cell_type": "code",
   "execution_count": 11,
   "metadata": {},
   "outputs": [
    {
     "data": {
      "text/plain": [
       "{'a': 'apple', 'b': 'banana', 'g': 'grape', 'o': 'orange', 'w': 'watermelon'}"
      ]
     },
     "execution_count": 11,
     "metadata": {},
     "output_type": "execute_result"
    }
   ],
   "source": [
    "dict[\"w\"] = \"watermelon\"\n",
    "dict"
   ]
  },
  {
   "cell_type": "code",
   "execution_count": 12,
   "metadata": {},
   "outputs": [
    {
     "data": {
      "text/plain": [
       "{'b': 'banana', 'g': 'grape', 'o': 'orange', 'w': 'watermelon'}"
      ]
     },
     "execution_count": 12,
     "metadata": {},
     "output_type": "execute_result"
    }
   ],
   "source": [
    "del(dict[\"a\"])\n",
    "dict"
   ]
  },
  {
   "cell_type": "code",
   "execution_count": 13,
   "metadata": {},
   "outputs": [
    {
     "data": {
      "text/plain": [
       "{'b': 'banana', 'g': 'grapefruit', 'o': 'orange', 'w': 'watermelon'}"
      ]
     },
     "execution_count": 13,
     "metadata": {},
     "output_type": "execute_result"
    }
   ],
   "source": [
    "dict[\"g\"] = \"grapefruit\"\n",
    "dict"
   ]
  },
  {
   "cell_type": "code",
   "execution_count": 16,
   "metadata": {},
   "outputs": [
    {
     "ename": "KeyError",
     "evalue": "'b'",
     "output_type": "error",
     "traceback": [
      "\u001b[0;31m---------------------------------------------------------------------------\u001b[0m",
      "\u001b[0;31mKeyError\u001b[0m                                  Traceback (most recent call last)",
      "\u001b[0;32m<ipython-input-16-1862e3292b8f>\u001b[0m in \u001b[0;36m<module>\u001b[0;34m()\u001b[0m\n\u001b[0;32m----> 1\u001b[0;31m \u001b[0mprint\u001b[0m\u001b[0;34m(\u001b[0m\u001b[0mdict\u001b[0m\u001b[0;34m.\u001b[0m\u001b[0mpop\u001b[0m\u001b[0;34m(\u001b[0m\u001b[0;34m\"b\"\u001b[0m\u001b[0;34m)\u001b[0m\u001b[0;34m)\u001b[0m\u001b[0;34m\u001b[0m\u001b[0m\n\u001b[0m\u001b[1;32m      2\u001b[0m \u001b[0mprint\u001b[0m\u001b[0;34m(\u001b[0m\u001b[0mdict\u001b[0m\u001b[0;34m)\u001b[0m\u001b[0;34m\u001b[0m\u001b[0m\n",
      "\u001b[0;31mKeyError\u001b[0m: 'b'"
     ]
    }
   ],
   "source": [
    "print(dict.pop(\"b\"))\n",
    "print(dict)"
   ]
  },
  {
   "cell_type": "code",
   "execution_count": 17,
   "metadata": {},
   "outputs": [
    {
     "name": "stdout",
     "output_type": "stream",
     "text": [
      "{}\n"
     ]
    }
   ],
   "source": [
    "dict.clear()\n",
    "print(dict)"
   ]
  },
  {
   "cell_type": "markdown",
   "metadata": {},
   "source": [
    "#### 字典的遍历"
   ]
  },
  {
   "cell_type": "code",
   "execution_count": 22,
   "metadata": {},
   "outputs": [
    {
     "name": "stdout",
     "output_type": "stream",
     "text": [
      "dict[a] = apple\n",
      "dict[b] = banana\n",
      "dict[g] = grape\n",
      "dict[o] = orange\n",
      "dict_items([('a', 'apple'), ('b', 'banana'), ('c', 'grape'), ('d', 'orange')])\n",
      "dict[a] = apple\n",
      "dict[b] = banana\n",
      "dict[g] = grape\n",
      "dict[o] = orange\n",
      "dict_items([('a', 'apple'), ('b', 'banana'), ('c', 'grape'), ('d', 'orange')])\n",
      "dict[a] = apple\n",
      "dict[b] = banana\n",
      "dict[c] = grape\n",
      "dict[d] = orange\n",
      "dict[a] = apple\n",
      "dict[b] = banana\n",
      "dict[c] = grape\n",
      "dict[d] = orange\n"
     ]
    }
   ],
   "source": [
    "dict = {\"a\" : \"apple\", \"b\" : \"banana\", \"g\" : \"grape\", \"o\" : \"orange\"}\n",
    "for k in dict:\n",
    "    print(\"dict[%s] =\" % k,dict[k])\n",
    "    \n",
    "#字典items()的使用\n",
    "dict = {\"a\" : \"apple\", \"b\" : \"banana\", \"c\" : \"grape\", \"d\" : \"orange\"}\n",
    "\n",
    "#每个元素是一个key和value组成的元组，以列表的方式输出\n",
    "print(dict.items())\n",
    "\n",
    "#调用items()实现字典的遍历\n",
    "dict = {\"a\" : \"apple\", \"b\" : \"banana\", \"g\" : \"grape\", \"o\" : \"orange\"}\n",
    "for (k, v) in dict.items():\n",
    "    print(\"dict[%s] =\" % k, v)\n",
    "\n",
    "#调用iteritems()实现字典的遍历\n",
    "dict = {\"a\" : \"apple\", \"b\" : \"banana\", \"c\" : \"grape\", \"d\" : \"orange\"}\n",
    "print(dict.items())\n",
    "\n",
    "for k, v in dict.items():\n",
    "    print(\"dict[%s] =\" % k, v)\n",
    "    \n",
    "for (k, v) in zip(dict.keys(), dict.values()):\n",
    "    print(\"dict[%s] =\" % k, v)"
   ]
  },
  {
   "cell_type": "markdown",
   "metadata": {},
   "source": [
    "#### 使用列表、字典作为字典的值"
   ]
  },
  {
   "cell_type": "code",
   "execution_count": null,
   "metadata": {},
   "outputs": [],
   "source": [
    "dict = {\"a\" : (\"apple\",), \"bo\" : {\"b\" : \"banana\", \"o\" : \"orange\"}, \"g\" : [\"grape\",\"grapefruit\"]}\n",
    "print dict[\"a\"]\n",
    "print dict[\"a\"][0]\n",
    "print dict[\"bo\"]\n",
    "print dict[\"bo\"][\"o\"]\n",
    "print dict[\"g\"]\n",
    "print dict[\"g\"][1]\n",
    " \n",
    "dict = {\"a\" : \"apple\", \"b\" : \"banana\", \"c\" : \"grape\", \"d\" : \"orange\"}\n",
    "#输出key的列表\n",
    "print(dict.keys())\n",
    "\n",
    "#输出value的列表\n",
    "print(dict.values())\n",
    "\n",
    "#每个元素是一个key和value组成的元组，以列表的方式输出\n",
    "print(dict.items())\n",
    "dict = {\"a\" : \"apple\", \"b\" : \"banana\", \"c\" : \"grape\", \"d\" : \"orange\"}\n",
    "it = dict.iteritems()\n",
    "print(it)\n",
    "\n",
    "#字典中元素的获取方法\n",
    "dict = {\"a\" : \"apple\", \"b\" : \"banana\", \"c\" : \"grape\", \"d\" : \"orange\"}\n",
    "print dict\n",
    "print dict.get(\"c\", \"apple\")         \n",
    "print dict.get(\"e\", \"apple\")\n",
    "\n",
    "#get()的等价语句\n",
    "D = {\"key1\" : \"value1\", \"key2\" : \"value2\"}\n",
    "if \"key1\" in D:\n",
    "    print D[\"key1\"]\n",
    "else:\n",
    "    print \"None\""
   ]
  },
  {
   "cell_type": "markdown",
   "metadata": {},
   "source": [
    "#### 字典的更新    "
   ]
  },
  {
   "cell_type": "code",
   "execution_count": null,
   "metadata": {},
   "outputs": [],
   "source": [
    "dict = {\"a\" : \"apple\", \"b\" : \"banana\"}\n",
    "print dict\n",
    "\n",
    "dict2 = {\"c\" : \"grape\", \"d\" : \"orange\"}\n",
    "dict.update(dict2)\n",
    "print dict\n",
    "\n",
    "#udpate()的等价语句\n",
    "D = {\"key1\" : \"value1\", \"key2\" : \"value2\"}\n",
    "E = {\"key3\" : \"value3\", \"key4\" : \"value4\"}\n",
    "for k in E:\n",
    "    D[k] = E[k]\n",
    "print D\n",
    "\n",
    "#字典E中含有字典D中的key\n",
    "D = {\"key1\" : \"value1\", \"key2\" : \"value2\"}\n",
    "E = {\"key2\" : \"value3\", \"key4\" : \"value4\"}\n",
    "for k in E:\n",
    "    D[k] = E[k]\n",
    "print D\n",
    "\n",
    "#设置默认值\n",
    "dict = {}\n",
    "dict.setdefault(\"a\")\n",
    "print dict\n",
    "dict[\"a\"] = \"apple\"\n",
    "dict.setdefault(\"a\",\"default\")\n",
    "print dict"
   ]
  },
  {
   "cell_type": "markdown",
   "metadata": {},
   "source": [
    "#### 调用sorted()排序"
   ]
  },
  {
   "cell_type": "code",
   "execution_count": null,
   "metadata": {},
   "outputs": [],
   "source": [
    "dict = {\"a\" : \"apple\", \"b\" : \"grape\", \"c\" : \"orange\", \"d\" : \"banana\"}\n",
    "print dict  \n",
    "\n",
    "#按照key排序 \n",
    "print sorted(dict.items(), key=lambda d: d[0])\n",
    "\n",
    "#按照value排序 \n",
    "print sorted(dict.items(), key=lambda d: d[1])"
   ]
  },
  {
   "cell_type": "markdown",
   "metadata": {},
   "source": [
    "#### 字典的浅拷贝"
   ]
  },
  {
   "cell_type": "code",
   "execution_count": null,
   "metadata": {},
   "outputs": [],
   "source": [
    "dict = {\"a\" : \"apple\", \"b\" : \"grape\"}\n",
    "dict2 = {\"c\" : \"orange\", \"d\" : \"banana\"}\n",
    "dict2 = dict.copy()\n",
    "print dict2"
   ]
  },
  {
   "cell_type": "markdown",
   "metadata": {},
   "source": [
    "#### 字典的深拷贝"
   ]
  },
  {
   "cell_type": "code",
   "execution_count": 23,
   "metadata": {},
   "outputs": [
    {
     "name": "stdout",
     "output_type": "stream",
     "text": [
      "{'a': 'apple', 'b': {'g': 'grape', 'o': 'orange'}}\n",
      "{'a': 'apple', 'b': {'g': 'orange', 'o': 'orange'}}\n"
     ]
    }
   ],
   "source": [
    "import copy\n",
    "\n",
    "dict = {\"a\" : \"apple\", \"b\" : {\"g\" : \"grape\",\"o\" : \"orange\"}}\n",
    "dict2 = copy.deepcopy(dict)\n",
    "dict3 = copy.copy(dict)\n",
    "dict2[\"b\"][\"g\"] = \"orange\"\n",
    "print(dict)\n",
    "\n",
    "dict3[\"b\"][\"g\"] = \"orange\"\n",
    "print(dict)"
   ]
  },
  {
   "cell_type": "markdown",
   "metadata": {},
   "source": [
    "### 补充"
   ]
  },
  {
   "cell_type": "markdown",
   "metadata": {},
   "source": [
    "#### 1 初始化"
   ]
  },
  {
   "cell_type": "raw",
   "metadata": {},
   "source": [
    ">>> d = dict(name='visaya', age=20)\n",
    ">>> d = dict(zip(['name', 'age'], ['visaya', 20]))\n",
    "\n",
    "#dict.fromkeys(listkeys, default=0) 把listkeys中的元素作为key均赋值为value，默认为0\n",
    ">>> d = dict.fromkeys(['a', 'b'], 1)\n",
    ">>> d\n",
    "{'a': 1, 'b': 1}"
   ]
  },
  {
   "cell_type": "markdown",
   "metadata": {},
   "source": [
    "#### 2 字典视图和几何"
   ]
  },
  {
   "cell_type": "raw",
   "metadata": {},
   "source": [
    "dict.keys()类似信使可以进行交集和并集等集合操作（类似集合，因为不存在重复的项），但dict.values()不可以进行如上操作。\n",
    "\n",
    "\n",
    ">>> k = d.keys()\n",
    ">>> k\n",
    "dict_keys(['a', 'b'])\n",
    ">>> list(k)\n",
    "['a', 'b']\n",
    ">>> k | {'x': 3}\n",
    "{'a', 'x', 'b'}\n",
    ">>> k | {'x'}\n",
    "{'a', 'x', 'b'}\n",
    ">>> k | {'x', 'y'}\n",
    "{'a', 'y', 'b', 'x'}\n",
    ">>> k & {'x'}\n",
    "set()\n",
    ">>> v = d.values()\n",
    ">>> v\n",
    "dict_values([1, 2])\n",
    ">>> v | {'x'}\n",
    "Traceback (most recent call last):\n",
    "  File \"<stdin>\", line 1, in <module>\n",
    "TypeError: unsupported operand type(s) for |: 'dict_values' and 'set'"
   ]
  },
  {
   "cell_type": "markdown",
   "metadata": {},
   "source": [
    "#### 3 排序字典键"
   ]
  },
  {
   "cell_type": "raw",
   "metadata": {},
   "source": [
    "两种方法:\n",
    "3.1 sort:\n",
    ">>> Ks = list(d.keys())\n",
    ">>> Ks.sort()\n",
    ">>> for k in Ks:\n",
    "...     print(k, d[k])\n",
    "... \n",
    "a 1\n",
    "b 2\n",
    "3.2 sorted:\n",
    ">>> for k in sorted(d.keys()):\n",
    "...     print(k, d[k])\n",
    "... \n",
    "a 1\n",
    "b 2\n",
    "\n",
    "3.3 注意\n",
    ">>> for k in list(d.keys()).sort():\n",
    "...     print(k, d[k])\n",
    "... \n",
    "Traceback (most recent call last):\n",
    "  File \"<stdin>\", line 1, in <module>\n",
    "TypeError: 'NoneType' object is not iterable\n",
    "\n",
    "\n",
    "出错原因：\n",
    "list.sort() list.append()函数都是对自身的操作，没有返回值，故需先将list(d.keys())的结果保存下来，在结果上进行sort()"
   ]
  },
  {
   "cell_type": "markdown",
   "metadata": {},
   "source": [
    "#### 4 常用函数"
   ]
  },
  {
   "cell_type": "raw",
   "metadata": {},
   "source": [
    "# 4.1 get()\n",
    "D.get(k[, d])   => D[k] if k in D else d. d defaults to none.\n",
    "\n",
    "# 4.2 pop()\n",
    "D.pop(value[, d])   => Remove specified key and return the corresponding value. If key is not found, d is returned if given, otherwise KeyError is raised.\n",
    "\n",
    "# 4.3 udpate()\n",
    "    D.update(E, **F) -> None.  Update D from dict/iterable E and F.\n",
    "    If E has a .keys() method, does:     for k in E: D[k] = E[k]\n",
    "    If E lacks .keys() method, does:     for (k, v) in E: D[k] = v\n",
    "    In either case, this is followed by: for k in F: D[k] = F[k]\n",
    "\n",
    ">>> d = dict(name='visaya', age=21)\n",
    ">>> d1= {'age': 20, 'sex': 'male'}\n",
    ">>> d2 = zip(['a', 'b'], [1, 2])\n",
    "\n",
    "\n",
    ">>> d.update(d1)\n",
    ">>> d\n",
    "{'age': 20, 'name': 'visaya', 'sex': 'male'}\n",
    "#for k in d1: d[k] = d1[k]\n",
    "\n",
    "\n",
    ">>> d.update(d2)\n",
    ">>> d\n",
    "{'age': 20, 'name': 'visaya', 'sex': 'male'}\n",
    "#for (k, v) in d2: d[k] = v\n",
    "\n",
    "# 4.4 del()\n",
    "# del D[key]\n",
    "# 4.5 clear()\n",
    "# 4.6 copy()"
   ]
  },
  {
   "cell_type": "markdown",
   "metadata": {},
   "source": [
    "#### Python中的dict"
   ]
  },
  {
   "cell_type": "raw",
   "metadata": {},
   "source": [
    "初始化\n",
    "构造方法创建\n",
    "Python代码  \n",
    "d = dict()  \n",
    "d = dict(name=\"nico\", age=23)  \n",
    "d = dict((['name', \"nico\"], ['age', 23]))  \n",
    " 当然还有更方便，简单的\n",
    "Python代码  \n",
    "d = {}  \n",
    "d = {\"name\":\"nico\", \"age\":23}  \n",
    " \n",
    " \n",
    "遍历\n",
    "通过对key的遍历，遍历整个dict\n",
    " \n",
    "Python代码  \n",
    "d = {\"name\":\"nico\", \"age\":23}  \n",
    "for key in d:  \n",
    "    print \"key=%s, value=%s\" % (key, d[key])  \n",
    "      \n",
    "for key in d.iterkeys():  \n",
    "    print \"key=%s, value=%s\" % (key, d[key])  \n",
    "      \n",
    "for key in d.keys():  \n",
    "    print \"key=%s, value=%s\" % (key, d[key])  \n",
    "      \n",
    "for key in iter(d):  \n",
    "    print \"key=%s, value=%s\" % (key, d[key])  \n",
    "      \n",
    "for key,item in d.items():  \n",
    "    print \"key=%s, value=%s\" % (key, item)  \n",
    " \n",
    " 当然也可以直接遍历value\n",
    " \n",
    "Python代码  \n",
    "d = {\"name\":\"nico\", \"age\":23}  \n",
    "for value in d.values():  \n",
    "    print value  \n",
    "      \n",
    "for key,value in d.viewitems():  \n",
    "    print \"key=%s, value=%s\" % (key, value)  \n",
    "  \n",
    "for value in d.viewvalues():  \n",
    "    print \"value=%s\" % (value)  \n",
    "这里values和viewvalues的区别\n",
    " \n",
    "后者返回的是该字典的一个view对象，类似数据库中的view，当dict改变时，该view对象也跟着改变"
   ]
  },
  {
   "cell_type": "markdown",
   "metadata": {},
   "source": [
    "#### 常用方法"
   ]
  },
  {
   "cell_type": "raw",
   "metadata": {},
   "source": [
    "# Python代码  \n",
    "d = {\"name\":\"nico\", \"age\":23}  \n",
    "d[\"name\"] = \"aaaa\"  \n",
    "d[\"address\"] = \"abcdefg....\"  \n",
    "print d   #{'age': 23, 'name': 'aaaa', 'address': 'abcdefg....'}  \n",
    " \n",
    " \n",
    "# 获取dict值\n",
    "Python代码  \n",
    "print d[\"name\"]               #nico  \n",
    "print d.get(\"name\")         #nico  \n",
    " \n",
    "# 如果key不在dict中，返回default，没有为None\n",
    "# Python代码  \n",
    "print d.get(\"namex\", \"aaa\")       #aaa  \n",
    "print d.get(\"namex\")                  #None  \n",
    " \n",
    "# 排序sorted()\n",
    "# Python代码  \n",
    "d = {\"name\":\"nico\", \"age\":23}  \n",
    "for key in sorted(d):  \n",
    "    print \"key=%s, value=%s\" % (key, d[key])  \n",
    "#key=age, value=23  \n",
    "#key=name, value=nico  \n",
    " \n",
    " \n",
    "# 删除del\n",
    "# Python代码  \n",
    "d = {\"name\":\"nico\", \"age\":23}  \n",
    "Python代码  \n",
    "del d[\"name\"]  \n",
    "\n",
    "# 如果key不在dict中，抛出KeyError  \n",
    "del d[\"names\"]  \n",
    "\n",
    "Python代码  \n",
    "Traceback (most recent call last):  \n",
    "  File \"F:\\workspace\\project\\pydev\\src\\ddd\\ddddd.py\", line 64, in <module>  \n",
    "    del d[\"names\"]  \n",
    "KeyError: 'names'  \n",
    " \n",
    " \n",
    "# 清空clear()\n",
    "# Python代码  \n",
    "d = {\"name\":\"nico\", \"age\":23}  \n",
    "d.clear()  \n",
    "print d                                                    #{}  \n",
    " \n",
    "copy()\n",
    "Python代码  \n",
    "d1 = d.copy()               #{'age': 23, 'name': 'nico'}  \n",
    "#使用返回view对象  \n",
    "d2 = d1.viewitems()    #dict_items([('age', 23), ('name', 'nico')])  \n",
    "#修改字典d1，新增元素  \n",
    "d1[\"cc\"] = \"aaaaaa\"   \n",
    "print d2                   \n",
    "#dict_items([('cc', 'aaaaaa'), ('age', 23), ('name', 'nico')])  \n",
    " \n",
    " \n",
    "pop(key[, default])\n",
    "如果key在dict中，返回，不在返回default\n",
    "Python代码  \n",
    "#如果key在dict中，返回，不在返回default  \n",
    "print d.pop(\"name\", \"niccco\")                #nico  \n",
    "print d.pop(\"namezzz\", \"niccco\")           #niccco  \n",
    "#key不在dict中，且default值也没有，抛出KeyError  \n",
    "print d.pop(\"namezzz\")                         #此处抛出KeyError  \n",
    " \n",
    "popitem()\n",
    "删除并返回dict中任意的一个(key,value)队，如果字典为空会抛出KeyError\n",
    "Python代码  \n",
    "d = {\"name\":\"nico\", \"age\":23}  \n",
    "print d.popitem()       #('age', 23)  \n",
    "print d.popitem()       #('name', 'nico')  \n",
    "#此时字典d已为空  \n",
    "print d.popitem()      #此处会抛出KeyError  \n",
    " \n",
    "update([other])\n",
    "将字典other中的元素加到dict中，key重复时将用other中的值覆盖\n",
    "Python代码  \n",
    "d = {\"name\":\"nico\", \"age\":23}  \n",
    "d2 = {\"name\":\"jack\", \"abcd\":123}  \n",
    "d.update(d2)  \n",
    "print d     #{'abcd': 123, 'age': 23, 'name': 'jack'}  "
   ]
  }
 ],
 "metadata": {
  "kernelspec": {
   "display_name": "Python 3",
   "language": "python",
   "name": "python3"
  },
  "language_info": {
   "codemirror_mode": {
    "name": "ipython",
    "version": 3
   },
   "file_extension": ".py",
   "mimetype": "text/x-python",
   "name": "python",
   "nbconvert_exporter": "python",
   "pygments_lexer": "ipython3",
   "version": "3.6.5"
  }
 },
 "nbformat": 4,
 "nbformat_minor": 2
}
