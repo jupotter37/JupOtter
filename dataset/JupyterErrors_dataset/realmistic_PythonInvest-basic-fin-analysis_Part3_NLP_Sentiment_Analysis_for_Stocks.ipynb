{
  "nbformat": 4,
  "nbformat_minor": 0,
  "metadata": {
    "colab": {
      "name": "Part3_NLP_Sentiment_Analysis_for_Stocks.ipynb",
      "provenance": [],
      "include_colab_link": true
    },
    "kernelspec": {
      "name": "python3",
      "display_name": "Python 3"
    }
  },
  "cells": [
    {
      "cell_type": "markdown",
      "metadata": {
        "id": "view-in-github",
        "colab_type": "text"
      },
      "source": [
        "<a href=\"https://colab.research.google.com/github/realmistic/pysteps-basic-fin-analysis/blob/master/Part3_NLP_Sentiment_Analysis_for_Stocks.ipynb\" target=\"_parent\"><img src=\"https://colab.research.google.com/assets/colab-badge.svg\" alt=\"Open In Colab\"/></a>"
      ]
    },
    {
      "cell_type": "markdown",
      "metadata": {
        "id": "Uuue5TpY4jsq"
      },
      "source": [
        ""
      ]
    },
    {
      "cell_type": "code",
      "metadata": {
        "id": "2qM0yT-b4jSk"
      },
      "source": [
        ""
      ],
      "execution_count": null,
      "outputs": []
    },
    {
      "cell_type": "markdown",
      "metadata": {
        "id": "vyNkVr2fklpA"
      },
      "source": [
        "**TO** READ \"Stock News Sentiment Analysis with Python\": https://towardsdatascience.com/stock-news-sentiment-analysis-with-python-193d4b4378d4\n",
        "https://finviz.com/quote.ashx?t=DAL&ty=c&ta=1&p=d\n",
        "\n",
        "Additional idea: use the specific set of articles from the website - that may be available over a longer period of time, rather than NewsAPI\n"
      ]
    },
    {
      "cell_type": "markdown",
      "metadata": {
        "id": "C7x6ECvRwpf8"
      },
      "source": [
        "**Article outline**\n",
        "\n",
        "1) **Intro**: 'Why news and NLP?'\n",
        "The stock market can be influenced by the news: it can be any important thing about the company (eg new contract, new business line, strong manager hired , etc.), or  financial results (quarterly and annual earnings, profits , etc.) compared with analysts expectations .\n",
        "In this article you will try to get automatically the list of news using the newsapi API, apply sentiment analysis, and compare the results with the stock/index prices (we covered the data piece for this in the prev email)\n",
        "\n",
        "2) **News Api**: show the endpoints for get everything/ sources. Show how to get list of ids for only business English sources. Show the python wrapper and the functionality that is limited compared to the newsapi API (the idea is that you can get it with the requests library using the full functionality).\n",
        "   It is not ideal though: you don't understand if the news are relevant to the stocks, you have only 1 month of history. \n",
        "   Alternative to investigate: \n",
        "   - Finviz https://finviz.com/quote.ashx?t=DAL&ty=c&ta=1&p=d \n",
        "   - the article: https://towardsdatascience.com/stock-news-sentiment-analysis-with-python-193d4b4378d4\n",
        "   You can have links of articles and their names that are highly relevant and hand-curated\n",
        "  \n",
        "3) **Sentiment analysis: introduce the library**\n",
        "- https://medium.com/analytics-vidhya/simplifying-social-media-sentiment-analysis-using-vader-in-python-f9e6ec6fc52f\n",
        "- the paper!!: http://comp.social.gatech.edu/papers/icwsm14.vader.hutto.pdf\n",
        "  I like to cover not only compound, but also positive, neutral, and negative.\n",
        "  We can also check what is more correlated with the graph movements.\n",
        "\n",
        "  Show scores for several article names.\n",
        "\n",
        "4)**The idea:** analyse one event with the news sentiment\n",
        "\n",
        "Get one request for BRK.B (Berkshire Hathaway Inc.) stock around 9th July \n",
        "- check the links list, descriptions, and short contents. Are the news similar, are they relevant to financials?\n",
        "We selected 9th July and large capitalisation stock brk.b because there are many news about it and there was a jump in stock’s price. We will try to find the evidence why did that happen In the news coverage.\n",
        "\n",
        " What does it show on the news about brk.b stock. Can it be debugged ? (Show which words Influenced on positive/negative sentiment)\n",
        "Compare the sentiment score vs. Stock rise and speculate what articles may influenced its growth \n",
        "\n",
        "5) **Scale the analysis**: check daily news (about stocks) sentiment vs. growth of S&P500 index.\n",
        "\n",
        "- 5.1) option 1 : all news from the en newspapers about stocks (we get max number =100 news via python library ). \n",
        "- 5.2) option 2: we limit the sources only to 7 business related sources (it is 20-30 news about Stocks).\n",
        "\n",
        "We compare both results vs. Index movement and find that business news sentiment is visually more correlated with the move . \n"
      ]
    },
    {
      "cell_type": "code",
      "metadata": {
        "id": "uU0n6aUcfpi2"
      },
      "source": [
        "# GLOBAL PARAMS - for one event\n",
        "\n",
        "SHOW_ALL_ARTICLES = True\n",
        "# SHOW_ALL_ARTICLES = False\n",
        "\n",
        "#the day of the event \n",
        "# STARTD = '22-Jun-2020' \n",
        "# STARTD = '19-Jun-2020' \n",
        "STARTD = '9-Jul-2020'\n",
        "\n",
        "\n",
        "#the search phrase for News API\n",
        "# KEYWRD = 'Inovio Pharmaceuticals stock'\n",
        "# KEYWRD = 'Apple Inc.'\n",
        "KEYWRD = 'Berkshire Hathaway Inc.'\n",
        "\n",
        "\n",
        "#tiker\n",
        "# tkr = \"INO\"\n",
        "# tkr = 'AAPL'\n",
        "tkr = 'BRK-B'\n",
        "# tkr = 'LMND'\n"
      ],
      "execution_count": null,
      "outputs": []
    },
    {
      "cell_type": "markdown",
      "metadata": {
        "id": "1nX5RbLaf--o"
      },
      "source": [
        "# 0) Imports"
      ]
    },
    {
      "cell_type": "code",
      "metadata": {
        "id": "kT-G2EaJf8oy",
        "colab": {
          "base_uri": "https://localhost:8080/",
          "height": 88
        },
        "outputId": "ce59e096-5bbf-47f4-bf8f-b809fb123965"
      },
      "source": [
        "import sys\n",
        "import nltk\n",
        "from nltk.sentiment.vader import SentimentIntensityAnalyzer\n",
        "### Uncomment it when the script runs for the first time \n",
        "nltk.download('vader_lexicon')\n",
        "sia = SentimentIntensityAnalyzer()"
      ],
      "execution_count": null,
      "outputs": [
        {
          "output_type": "stream",
          "text": [
            "/usr/local/lib/python3.6/dist-packages/nltk/twitter/__init__.py:20: UserWarning: The twython library has not been installed. Some functionality from the twitter package will not be available.\n",
            "  warnings.warn(\"The twython library has not been installed. \"\n"
          ],
          "name": "stderr"
        },
        {
          "output_type": "stream",
          "text": [
            "[nltk_data] Downloading package vader_lexicon to /root/nltk_data...\n"
          ],
          "name": "stdout"
        }
      ]
    },
    {
      "cell_type": "code",
      "metadata": {
        "id": "S0HtUha3gBES",
        "colab": {
          "base_uri": "https://localhost:8080/",
          "height": 190
        },
        "outputId": "ba43b4ad-7eec-4d5d-ea41-681b70254401"
      },
      "source": [
        "!pip install newsapi-python"
      ],
      "execution_count": null,
      "outputs": [
        {
          "output_type": "stream",
          "text": [
            "Collecting newsapi-python\n",
            "  Downloading https://files.pythonhosted.org/packages/de/9e/9050199ac7cbc755d1c49577fdaa5517901124b574264b3602a8b8028440/newsapi_python-0.2.6-py2.py3-none-any.whl\n",
            "Requirement already satisfied: requests<3.0.0 in /usr/local/lib/python3.6/dist-packages (from newsapi-python) (2.23.0)\n",
            "Requirement already satisfied: certifi>=2017.4.17 in /usr/local/lib/python3.6/dist-packages (from requests<3.0.0->newsapi-python) (2020.6.20)\n",
            "Requirement already satisfied: chardet<4,>=3.0.2 in /usr/local/lib/python3.6/dist-packages (from requests<3.0.0->newsapi-python) (3.0.4)\n",
            "Requirement already satisfied: idna<3,>=2.5 in /usr/local/lib/python3.6/dist-packages (from requests<3.0.0->newsapi-python) (2.10)\n",
            "Requirement already satisfied: urllib3!=1.25.0,!=1.25.1,<1.26,>=1.21.1 in /usr/local/lib/python3.6/dist-packages (from requests<3.0.0->newsapi-python) (1.24.3)\n",
            "Installing collected packages: newsapi-python\n",
            "Successfully installed newsapi-python-0.2.6\n"
          ],
          "name": "stdout"
        }
      ]
    },
    {
      "cell_type": "code",
      "metadata": {
        "id": "0TmesyHxgEQg",
        "colab": {
          "base_uri": "https://localhost:8080/",
          "height": 377
        },
        "outputId": "7b1aea09-3a3b-4082-a9d4-1bcf2ffb0cd1"
      },
      "source": [
        "!pip install yfinance"
      ],
      "execution_count": null,
      "outputs": [
        {
          "output_type": "stream",
          "text": [
            "Collecting yfinance\n",
            "  Downloading https://files.pythonhosted.org/packages/c2/31/8b374a12b90def92a4e27d0fc595fc43635f395984e36a075244d98bd265/yfinance-0.1.54.tar.gz\n",
            "Requirement already satisfied: pandas>=0.24 in /usr/local/lib/python3.6/dist-packages (from yfinance) (1.0.5)\n",
            "Requirement already satisfied: numpy>=1.15 in /usr/local/lib/python3.6/dist-packages (from yfinance) (1.18.5)\n",
            "Requirement already satisfied: requests>=2.20 in /usr/local/lib/python3.6/dist-packages (from yfinance) (2.23.0)\n",
            "Requirement already satisfied: multitasking>=0.0.7 in /usr/local/lib/python3.6/dist-packages (from yfinance) (0.0.9)\n",
            "Requirement already satisfied: pytz>=2017.2 in /usr/local/lib/python3.6/dist-packages (from pandas>=0.24->yfinance) (2018.9)\n",
            "Requirement already satisfied: python-dateutil>=2.6.1 in /usr/local/lib/python3.6/dist-packages (from pandas>=0.24->yfinance) (2.8.1)\n",
            "Requirement already satisfied: certifi>=2017.4.17 in /usr/local/lib/python3.6/dist-packages (from requests>=2.20->yfinance) (2020.6.20)\n",
            "Requirement already satisfied: urllib3!=1.25.0,!=1.25.1,<1.26,>=1.21.1 in /usr/local/lib/python3.6/dist-packages (from requests>=2.20->yfinance) (1.24.3)\n",
            "Requirement already satisfied: chardet<4,>=3.0.2 in /usr/local/lib/python3.6/dist-packages (from requests>=2.20->yfinance) (3.0.4)\n",
            "Requirement already satisfied: idna<3,>=2.5 in /usr/local/lib/python3.6/dist-packages (from requests>=2.20->yfinance) (2.10)\n",
            "Requirement already satisfied: six>=1.5 in /usr/local/lib/python3.6/dist-packages (from python-dateutil>=2.6.1->pandas>=0.24->yfinance) (1.15.0)\n",
            "Building wheels for collected packages: yfinance\n",
            "  Building wheel for yfinance (setup.py) ... \u001b[?25l\u001b[?25hdone\n",
            "  Created wheel for yfinance: filename=yfinance-0.1.54-py2.py3-none-any.whl size=22409 sha256=99fe0752110545a9f8505d0db87772ab5066857ba7d8f648a055dea182390b49\n",
            "  Stored in directory: /root/.cache/pip/wheels/f9/e3/5b/ec24dd2984b12d61e0abf26289746c2436a0e7844f26f2515c\n",
            "Successfully built yfinance\n",
            "Installing collected packages: yfinance\n",
            "Successfully installed yfinance-0.1.54\n"
          ],
          "name": "stdout"
        }
      ]
    },
    {
      "cell_type": "code",
      "metadata": {
        "id": "K-RxcldxgFZw"
      },
      "source": [
        "from newsapi import NewsApiClient\n",
        "#from newsapi.newsapi_client import NewsApiClient\n",
        "from datetime import date, timedelta, datetime\n",
        "import matplotlib.pyplot as plt \n",
        "import numpy as np\n",
        "import pandas as pd\n",
        "import yfinance as yf\n"
      ],
      "execution_count": null,
      "outputs": []
    },
    {
      "cell_type": "code",
      "metadata": {
        "id": "0BBLz5CWW1IY"
      },
      "source": [
        "# Show full output in Colab\n",
        "# https://stackoverflow.com/questions/54692405/output-truncation-in-google-colab\n",
        "pd.set_option('display.max_colwidth',1000)"
      ],
      "execution_count": null,
      "outputs": []
    },
    {
      "cell_type": "markdown",
      "metadata": {
        "id": "jhs5dhAYgyZV"
      },
      "source": [
        "# 1) News API BY KEYWORD - download some news on a search keyword for a specific date, sorted on relevancy for language =en, first 100 articles"
      ]
    },
    {
      "cell_type": "markdown",
      "metadata": {
        "id": "ANJCxVA9o_0G"
      },
      "source": [
        "## 1.0) Define functions calling news api"
      ]
    },
    {
      "cell_type": "markdown",
      "metadata": {
        "id": "iQQl-ExUgNJw"
      },
      "source": [
        "We use this function to call one end point to filter proper sources"
      ]
    },
    {
      "cell_type": "code",
      "metadata": {
        "id": "2hqZ9RfXbWoB"
      },
      "source": [
        "# https://newsapi.org/docs/endpoints/sources\n",
        "# https://github.com/mattlisiv/newsapi-python\n",
        "\n",
        "def get_sources(category = None):\n",
        "  newsapi = NewsApiClient(api_key='1900869fa01647fca0bdc19b4550daa0')\n",
        "  sources = newsapi.get_sources()\n",
        "  if category is not None:\n",
        "    rez = [source['id'] for source in sources['sources'] if source['category'] == category and source['language'] == 'en']\n",
        "  else:\n",
        "    rez = [source['id'] for source in sources['sources'] if source['language'] == 'en']\n",
        "  return rez\n"
      ],
      "execution_count": null,
      "outputs": []
    },
    {
      "cell_type": "code",
      "metadata": {
        "id": "ChnQafKHgYE_",
        "colab": {
          "base_uri": "https://localhost:8080/",
          "height": 34
        },
        "outputId": "2a0d89f2-261a-4968-8508-650c321bb899"
      },
      "source": [
        "# 81 en sources\n",
        "len(get_sources())"
      ],
      "execution_count": null,
      "outputs": [
        {
          "output_type": "execute_result",
          "data": {
            "text/plain": [
              "81"
            ]
          },
          "metadata": {
            "tags": []
          },
          "execution_count": 8
        }
      ]
    },
    {
      "cell_type": "code",
      "metadata": {
        "id": "v5ak7ityc0eL",
        "colab": {
          "base_uri": "https://localhost:8080/",
          "height": 136
        },
        "outputId": "23a1486b-18c6-46ed-bec1-15b4559ab231"
      },
      "source": [
        "# 7 business sources\n",
        "get_sources('business')"
      ],
      "execution_count": null,
      "outputs": [
        {
          "output_type": "execute_result",
          "data": {
            "text/plain": [
              "['australian-financial-review',\n",
              " 'bloomberg',\n",
              " 'business-insider',\n",
              " 'business-insider-uk',\n",
              " 'financial-post',\n",
              " 'fortune',\n",
              " 'the-wall-street-journal']"
            ]
          },
          "metadata": {
            "tags": []
          },
          "execution_count": 9
        }
      ]
    },
    {
      "cell_type": "code",
      "metadata": {
        "id": "ZZ9T9XP7tYk9",
        "colab": {
          "base_uri": "https://localhost:8080/",
          "height": 34
        },
        "outputId": "c036592d-f52d-4790-c25b-02a9625a4d9b"
      },
      "source": [
        "type(date(2020,1,1))"
      ],
      "execution_count": null,
      "outputs": [
        {
          "output_type": "execute_result",
          "data": {
            "text/plain": [
              "datetime.date"
            ]
          },
          "metadata": {
            "tags": []
          },
          "execution_count": 10
        }
      ]
    },
    {
      "cell_type": "code",
      "metadata": {
        "id": "eu3uDCJhg_Nf"
      },
      "source": [
        "# https://github.com/mattlisiv/newsapi-python/blob/master/newsapi/newsapi_client.py\n",
        "#  https://newsapi.org/docs/endpoints/everything\n",
        "\n",
        "\n",
        "def get_articles_sentiments(keywrd, startd, sources_list = None, show_all_articles = False):\n",
        "   \n",
        "  newsapi = NewsApiClient(api_key='1900869fa01647fca0bdc19b4550daa0')\n",
        "  if type(startd) == str:\n",
        "    my_date = datetime.strptime(startd,'%d-%b-%Y')\n",
        "  else:\n",
        "    my_date = startd\n",
        "  # business_en_sources = get_sources('business','en')\n",
        "  if sources_list:\n",
        "    articles = newsapi.get_everything(q=keywrd,\n",
        "                                      from_param = my_date.isoformat(), \n",
        "                                      to = (my_date + timedelta(days = 1)).isoformat(),\n",
        "                                      language=\"en\",\n",
        "                                      sources = \",\".join(sources_list),\n",
        "                                      sort_by=\"relevancy\",\n",
        "                                      page_size = 100)\n",
        "  else:\n",
        "     articles = newsapi.get_everything(q=keywrd,\n",
        "                                      from_param = my_date.isoformat(), \n",
        "                                      to = (my_date + timedelta(days = 1)).isoformat(),\n",
        "                                      language=\"en\",\n",
        "                                      sort_by=\"relevancy\",\n",
        "                                      page_size = 100)\n",
        "  article_content = ''\n",
        "\n",
        "  date_sentiments = {}\n",
        "  date_sentiments_list = []\n",
        "  seen = set()\n",
        "  \n",
        "  for article in articles['articles']:\n",
        "    if str(article['title']) in seen:\n",
        "      continue\n",
        "    else:\n",
        "      seen.add(str(article['title']))\n",
        "      article_content = str(article['title']) + '. ' + str(article['description'])\n",
        "      \n",
        "      sentiment = sia.polarity_scores(article_content)['compound']\n",
        "      date_sentiments.setdefault(my_date, []).append(sentiment)\n",
        "      date_sentiments_list.append((sentiment, article['url'],article['title'],article['description']))\n",
        "  date_sentiments_l = sorted(date_sentiments_list, key=lambda tup: tup[0],reverse=True)   \n",
        "  sent_list = list(date_sentiments.values())[0]\n",
        "\n",
        "  return pd.DataFrame(date_sentiments_list, columns=['Sentiment','URL','Title','Description'])"
      ],
      "execution_count": null,
      "outputs": []
    },
    {
      "cell_type": "markdown",
      "metadata": {
        "id": "g7lXVsGvpFSA"
      },
      "source": [
        "## 1.1) Test 2 versions for all news with q='stock': for ALL en sources"
      ]
    },
    {
      "cell_type": "code",
      "metadata": {
        "id": "2aRvBEpMg_Hu",
        "colab": {
          "base_uri": "https://localhost:8080/"
        },
        "outputId": "89249098-d840-41e9-eafc-e0a2d8787a3c"
      },
      "source": [
        "# Easy version when we don't filter the business source -- seems to be relevant though, but the description\n",
        "# Get all sources in en\n",
        "return_articles = get_articles_sentiments(keywrd= 'stock' ,startd = '21-Jul-2020',sources_list = None, show_all_articles= True)\n",
        "return_articles.Sentiment.hist(bins=30,grid=False)\n",
        "print(return_articles.Sentiment.mean())\n",
        "print(return_articles.Sentiment.count())\n",
        "print(return_articles.Description)\n",
        "\n"
      ],
      "execution_count": null,
      "outputs": [
        {
          "output_type": "stream",
          "text": [
            "0.2392840000000001\n",
            "100\n",
            "0                                                                                                                                                         Deciding whether or not to sell your company stock (or when to sell it) is not a decision to enter into lightly.\n",
            "1     Robinhood, the U.S.-based stock trading app, is postponing its U.K. launch “indefinitely,” more than a year and a half after the company begun executing on plans to cross the pond. It now intends to refocus its efforts on its home market. In November last yea…\n",
            "2     Tesla’s six-month average trailing market capitalization hit $150 billion on Tuesday after a four-month run up of the automaker’s share price that theoretically unlocks a multibillion-dollar vesting option for CEO Elon Musk. Once Tesla hit the six-month avera…\n",
            "3                                                                                                      European stock index futures rose on Tuesday after European Union leaders reached a \"historic\" deal on a massive stimulus plan for their coronavirus-hit economies.\n",
            "4                                     Randstad Holding NV, one of the largest staffing companies in the world, reported a loss for the second quarter, as the coronavirus pandemic curtailed demand for temporary workers, but sales fell less than analysts had expected.\n",
            "                                                                                                                                      ...                                                                                                                                 \n",
            "95                                                         Delek Drilling said on Wednesday the partners in the Tamar natural gas site will start paying taxes on profit in early 2021, which could help Israel move forward with plans to create a sovereign wealth fund.\n",
            "96                                                                                                               Japanese stocks rose on Tuesday as signs of progress in developing a COVID-19 vaccine boosted investor confidence about a recovery in the global economy.\n",
            "97                                                                                                                                                                                     Hong Kong shares fall most in nearly six weeks as Sino-U.S. tensions weigh  Reuters\n",
            "98                                   Italian fashion house Giorgio Armani has struck a deal with online retailer Yoox Net-a-Porter (YNAP) to better integrate the luxury group's e-commerce site with its network of physical stores, the two companies said on Wednesday.\n",
            "99    First American Financial Corp , the second largest U.S. title insurer, was charged on Wednesday by New York's top financial regulator with exposing millions of documents with sensitive consumer information, in the regulator's first cybersecurity enforcement c…\n",
            "Name: Description, Length: 100, dtype: object\n"
          ],
          "name": "stdout"
        },
        {
          "output_type": "display_data",
          "data": {
            "image/png": "[encoded data removed]",
            "text/plain": [
              "<Figure size 432x288 with 1 Axes>"
            ]
          },
          "metadata": {
            "tags": [],
            "needs_background": "light"
          }
        }
      ]
    },
    {
      "cell_type": "markdown",
      "metadata": {
        "id": "Sw2_R7yFWP9z"
      },
      "source": [
        "Result: you can see 100 articles, with a lot of neutral sentiment,\n",
        "and it is skewed towards very positive"
      ]
    },
    {
      "cell_type": "code",
      "metadata": {
        "id": "Pw6_ZeLlWdJ7",
        "colab": {
          "base_uri": "https://localhost:8080/"
        },
        "outputId": "f34f30b4-d003-4e21-c490-beb2d6de7dc9"
      },
      "source": [
        "return_articles.sort_values(by='Sentiment', ascending=True)[['Sentiment','URL']].head(2)"
      ],
      "execution_count": null,
      "outputs": [
        {
          "output_type": "execute_result",
          "data": {
            "text/html": [
              "<div>\n",
              "<style scoped>\n",
              "    .dataframe tbody tr th:only-of-type {\n",
              "        vertical-align: middle;\n",
              "    }\n",
              "\n",
              "    .dataframe tbody tr th {\n",
              "        vertical-align: top;\n",
              "    }\n",
              "\n",
              "    .dataframe thead th {\n",
              "        text-align: right;\n",
              "    }\n",
              "</style>\n",
              "<table border=\"1\" class=\"dataframe\">\n",
              "  <thead>\n",
              "    <tr style=\"text-align: right;\">\n",
              "      <th></th>\n",
              "      <th>Sentiment</th>\n",
              "      <th>URL</th>\n",
              "    </tr>\n",
              "  </thead>\n",
              "  <tbody>\n",
              "    <tr>\n",
              "      <th>79</th>\n",
              "      <td>-0.9545</td>\n",
              "      <td>https://www.reuters.com/article/us-wirecard-accounts-idUSKCN24N23V</td>\n",
              "    </tr>\n",
              "    <tr>\n",
              "      <th>82</th>\n",
              "      <td>-0.9081</td>\n",
              "      <td>https://in.reuters.com/article/us-wirecard-accounts-idINKCN24N23V</td>\n",
              "    </tr>\n",
              "  </tbody>\n",
              "</table>\n",
              "</div>"
            ],
            "text/plain": [
              "    Sentiment                                                                 URL\n",
              "79    -0.9545  https://www.reuters.com/article/us-wirecard-accounts-idUSKCN24N23V\n",
              "82    -0.9081   https://in.reuters.com/article/us-wirecard-accounts-idINKCN24N23V"
            ]
          },
          "metadata": {
            "tags": []
          },
          "execution_count": 13
        }
      ]
    },
    {
      "cell_type": "code",
      "metadata": {
        "id": "pIo_Dn7_kWt6",
        "colab": {
          "base_uri": "https://localhost:8080/"
        },
        "outputId": "0bed3f76-fed9-4614-b6a0-0b4e5e4eab8d"
      },
      "source": [
        "return_articles.sort_values(by='Sentiment', ascending=True)[['Sentiment','URL']].tail(2)"
      ],
      "execution_count": null,
      "outputs": [
        {
          "output_type": "execute_result",
          "data": {
            "text/html": [
              "<div>\n",
              "<style scoped>\n",
              "    .dataframe tbody tr th:only-of-type {\n",
              "        vertical-align: middle;\n",
              "    }\n",
              "\n",
              "    .dataframe tbody tr th {\n",
              "        vertical-align: top;\n",
              "    }\n",
              "\n",
              "    .dataframe thead th {\n",
              "        text-align: right;\n",
              "    }\n",
              "</style>\n",
              "<table border=\"1\" class=\"dataframe\">\n",
              "  <thead>\n",
              "    <tr style=\"text-align: right;\">\n",
              "      <th></th>\n",
              "      <th>Sentiment</th>\n",
              "      <th>URL</th>\n",
              "    </tr>\n",
              "  </thead>\n",
              "  <tbody>\n",
              "    <tr>\n",
              "      <th>78</th>\n",
              "      <td>0.9382</td>\n",
              "      <td>https://www.reuters.com/article/japan-stocks-midday-idUSL3N2ES06S</td>\n",
              "    </tr>\n",
              "    <tr>\n",
              "      <th>87</th>\n",
              "      <td>0.9559</td>\n",
              "      <td>https://www.marketwatch.com/story/best-buy-says-sales-are-better-during-pandemic-stock-heads-toward-all-time-high-2020-07-21</td>\n",
              "    </tr>\n",
              "  </tbody>\n",
              "</table>\n",
              "</div>"
            ],
            "text/plain": [
              "    Sentiment                                                                                                                           URL\n",
              "78     0.9382                                                             https://www.reuters.com/article/japan-stocks-midday-idUSL3N2ES06S\n",
              "87     0.9559  https://www.marketwatch.com/story/best-buy-says-sales-are-better-during-pandemic-stock-heads-toward-all-time-high-2020-07-21"
            ]
          },
          "metadata": {
            "tags": []
          },
          "execution_count": 14
        }
      ]
    },
    {
      "cell_type": "markdown",
      "metadata": {
        "id": "FK9zsvzZXDqP"
      },
      "source": [
        "Top negative: https://www.reuters.com/article/india-nepal-palmoil-idUSL3N2ES1Y3\n",
        "Nepal stops buying (New Dehli Suspended 39 oil import...)"
      ]
    },
    {
      "cell_type": "code",
      "metadata": {
        "id": "yF18iqTljXGl",
        "colab": {
          "base_uri": "https://localhost:8080/"
        },
        "outputId": "1fac94cc-b172-49ab-b5fc-e6c676f7598a"
      },
      "source": [
        "return_articles.sort_values(by='Sentiment', ascending=True)[['Sentiment','URL']].head(2)"
      ],
      "execution_count": null,
      "outputs": [
        {
          "output_type": "execute_result",
          "data": {
            "text/html": [
              "<div>\n",
              "<style scoped>\n",
              "    .dataframe tbody tr th:only-of-type {\n",
              "        vertical-align: middle;\n",
              "    }\n",
              "\n",
              "    .dataframe tbody tr th {\n",
              "        vertical-align: top;\n",
              "    }\n",
              "\n",
              "    .dataframe thead th {\n",
              "        text-align: right;\n",
              "    }\n",
              "</style>\n",
              "<table border=\"1\" class=\"dataframe\">\n",
              "  <thead>\n",
              "    <tr style=\"text-align: right;\">\n",
              "      <th></th>\n",
              "      <th>Sentiment</th>\n",
              "      <th>URL</th>\n",
              "    </tr>\n",
              "  </thead>\n",
              "  <tbody>\n",
              "    <tr>\n",
              "      <th>79</th>\n",
              "      <td>-0.9545</td>\n",
              "      <td>https://www.reuters.com/article/us-wirecard-accounts-idUSKCN24N23V</td>\n",
              "    </tr>\n",
              "    <tr>\n",
              "      <th>82</th>\n",
              "      <td>-0.9081</td>\n",
              "      <td>https://in.reuters.com/article/us-wirecard-accounts-idINKCN24N23V</td>\n",
              "    </tr>\n",
              "  </tbody>\n",
              "</table>\n",
              "</div>"
            ],
            "text/plain": [
              "    Sentiment                                                                 URL\n",
              "79    -0.9545  https://www.reuters.com/article/us-wirecard-accounts-idUSKCN24N23V\n",
              "82    -0.9081   https://in.reuters.com/article/us-wirecard-accounts-idINKCN24N23V"
            ]
          },
          "metadata": {
            "tags": []
          },
          "execution_count": 15
        }
      ]
    },
    {
      "cell_type": "markdown",
      "metadata": {
        "id": "-2pcsUKMkdwT"
      },
      "source": [
        "From the article above: \"TOKYO, July 21 (Reuters) - Japanese stocks rose on Tuesday as signs of progress in developing a COVID-19 vaccine boosted investor confidence in the outlook for future economic growth.\""
      ]
    },
    {
      "cell_type": "markdown",
      "metadata": {
        "id": "nhLhbO86o4d4"
      },
      "source": [
        "## 1.2 Same as 1.1, but try only business sources : different articles covered?"
      ]
    },
    {
      "cell_type": "code",
      "metadata": {
        "id": "S7R5z8OTZJUL",
        "colab": {
          "base_uri": "https://localhost:8080/"
        },
        "outputId": "4ed57fc5-ee21-4bee-b7e6-e6d50b71667d"
      },
      "source": [
        "# Look at only business sources in en\n",
        "sources = get_sources('business')\n",
        "return_articles = get_articles_sentiments('stock','21-Jul-2020',sources_list=sources, show_all_articles=True)\n",
        "return_articles.Sentiment.hist(bins=30,grid=False)\n",
        "print(return_articles.Sentiment.mean())\n",
        "print(return_articles.Sentiment.count())\n",
        "print(return_articles.Description)\n"
      ],
      "execution_count": null,
      "outputs": [
        {
          "output_type": "stream",
          "text": [
            "0.13023582089552233\n",
            "67\n",
            "0         <ul>\\n<li>Tesla CEO Elon Musk appears to have unlocked the second of his compensation goals on Tuesday. </li>\\n<li>Despite a slight dip Tuesday, the company's average market cap has been above $150 billion for long enough to unlock the second tranche of stock a…\n",
            "1         <ul>\\n<li> In the last 24 hours, nearly 36,000 Robinhood traders have added shares of Pfizer, according to data from Robintrack.net. </li>\\n<li>Pfizer and BioNTech announced Wednesday that the US government had placed an order for 100 million doses of its coron…\n",
            "2        <ul>\\n<li>There's a lot riding on Tesla's second-quarter earnings report Wednesday afternoon.</li>\\n<li>Analysts expect the company to post a $75 million loss for the three-month period ended June 31.</li>\\n<li>Despite factory shutdowns and falling deliveries, t…\n",
            "3        <ul>\\n<li>Tesla reports its highly anticipated second-quarter earnings on Wednesday after market close. </li>\\n<li>The report comes after the automaker's second-quarter vehicle delivery numbers beat Wall Street expectations. </li>\\n<li>Investors and analysts wil…\n",
            "4         <ul>\\n<li>Business Insider is putting together a power list of the young talent on Wall Street in 2020.</li>\\n<li>We want to hear from you on the individuals that have been rising above the ranks and standing out in the worlds of investment banking, investing a…\n",
            "                                                                                                                                         ...                                                                                                                                    \n",
            "62        <ul>\\n<li>As consumers and businesses move their spending online, Visa is eyeing new areas for growth beyond its core credit and debit card business.</li>\\n<li>It's facilitating new ways to pay, like peer-to-peer, and offering additional features for its custom…\n",
            "63        <ul>\\n<li>Goldman Sachs strategist Vishal Vivek is telling investors how to maximize their profits around state and federal elections.</li>\\n<li>Vivek says that some stocks might endure increased volatility because of ballot measures that could have major effec…\n",
            "64    Empire Company Ltd. may have just entered the e-commerce grocery space in Toronto one month ago, but it’s already planning an expansion that will give it the ability to reach 75 per cent of Canadian households in the next three years. \\n \\n \\n \\n \\n \\n Empire, whic…\n",
            "65        <ul>\\n<li>I don't typically share much about my personal finances with my financial planning clients — my role is to help them figure out what to do with their money.</li>\\n<li>But people are sometimes curious about how financial planners manage their money, so…\n",
            "66        <ul>\\n<li>Investors should bet on the stocks of software companies that Wall Street refers to as GARP, or \"growing at a reasonable price,\" analysts said Tuesday.</li>\\n<li>They pointed to six top GARP bets: Microsoft, ServiceNow, Dropbox, Crowdstrike, Proofpoin…\n",
            "Name: Description, Length: 67, dtype: object\n"
          ],
          "name": "stdout"
        },
        {
          "output_type": "display_data",
          "data": {
            "image/png": "[encoded data removed]",
            "text/plain": [
              "<Figure size 432x288 with 1 Axes>"
            ]
          },
          "metadata": {
            "tags": [],
            "needs_background": "light"
          }
        }
      ]
    },
    {
      "cell_type": "code",
      "metadata": {
        "id": "cLAH3sdRjbvN",
        "colab": {
          "base_uri": "https://localhost:8080/"
        },
        "outputId": "4e0decee-3fde-4711-d391-89105ff607d2"
      },
      "source": [
        "return_articles = get_articles_sentiments('stock','20-Jul-2020', sources_list=sources, show_all_articles=True)\n",
        "return_articles.Sentiment.hist(bins=30,grid=False)\n",
        "print(return_articles.Sentiment.mean())\n",
        "print(return_articles.Sentiment.count())\n"
      ],
      "execution_count": null,
      "outputs": [
        {
          "output_type": "stream",
          "text": [
            "0.18224745762711864\n",
            "59\n"
          ],
          "name": "stdout"
        },
        {
          "output_type": "display_data",
          "data": {
            "image/png": "[encoded data removed]",
            "text/plain": [
              "<Figure size 432x288 with 1 Axes>"
            ]
          },
          "metadata": {
            "tags": [],
            "needs_background": "light"
          }
        }
      ]
    },
    {
      "cell_type": "code",
      "metadata": {
        "id": "TDHS_N1DjjGu",
        "colab": {
          "base_uri": "https://localhost:8080/"
        },
        "outputId": "cf254ddd-73f1-48e3-b432-c5a4905126e6"
      },
      "source": [
        "return_articles = get_articles_sentiments('stock','19-Jul-2020',show_all_articles=True)\n",
        "return_articles.Sentiment.hist(bins=30,grid=False)\n",
        "return_articles.Sentiment.mean()\n"
      ],
      "execution_count": null,
      "outputs": [
        {
          "output_type": "execute_result",
          "data": {
            "text/plain": [
              "0.1451959595959596"
            ]
          },
          "metadata": {
            "tags": []
          },
          "execution_count": 18
        },
        {
          "output_type": "display_data",
          "data": {
            "image/png": "[encoded data removed]",
            "text/plain": [
              "<Figure size 432x288 with 1 Axes>"
            ]
          },
          "metadata": {
            "tags": [],
            "needs_background": "light"
          }
        }
      ]
    },
    {
      "cell_type": "markdown",
      "metadata": {
        "id": "VlqW6NdwmhPs"
      },
      "source": [
        "# 2) Get sentiment for 1 month:  q= 'stocks', 'en' language, with and without business category filter"
      ]
    },
    {
      "cell_type": "code",
      "metadata": {
        "id": "ssp30DuOnTiH",
        "colab": {
          "base_uri": "https://localhost:8080/",
          "height": 51
        },
        "outputId": "6983a294-3523-45db-d9e9-1640b18c35f9"
      },
      "source": [
        "from datetime import date\n",
        "\n",
        "end_date = date.today()\n",
        "start_date = date(year=end_date.year, month=end_date.month-1, day=end_date.day) \n",
        "\n",
        "print('Start day = ', start_date)\n",
        "print('End day = ', end_date)\n",
        "\n",
        "current_day = start_date\n",
        "business_sources = get_sources('business')\n",
        "sentiment_all_score = []\n",
        "sentiment_business_score = []\n",
        "dates=[]\n",
        "\n",
        "\n",
        "while current_day <= end_date:\n",
        "  \n",
        "  dates.append(current_day)\n",
        "\n",
        "  sentiments_all = get_articles_sentiments(keywrd= 'stock' ,\n",
        "                                          #  current_day.strftime('%b-%d-%Y'),\n",
        "                                       startd = current_day,\n",
        "                                       sources_list = None, \n",
        "                                       show_all_articles= True)\n",
        "  sentiment_all_score.append(sentiments_all.mean())\n",
        "\n",
        "  sentiments_business = get_articles_sentiments(keywrd= 'stock' ,\n",
        "                                      #  startd = current_day.strftime('%b-%d-%Y'),\n",
        "                                       startd = current_day,\n",
        "                                       sources_list = business_sources, \n",
        "                                       show_all_articles= True)\n",
        "  \n",
        "  sentiment_business_score.append(sentiments_business.mean())\n",
        "\n",
        "  current_day = current_day + timedelta(days=1)"
      ],
      "execution_count": null,
      "outputs": [
        {
          "output_type": "stream",
          "text": [
            "Start day =  2020-06-29\n",
            "End day =  2020-07-29\n"
          ],
          "name": "stdout"
        }
      ]
    },
    {
      "cell_type": "code",
      "metadata": {
        "id": "2E05ed93uTEl"
      },
      "source": [
        "sentiments = pd.DataFrame([dates,np.array(sentiment_all_score),np.array(sentiment_business_score)]).transpose()"
      ],
      "execution_count": null,
      "outputs": []
    },
    {
      "cell_type": "code",
      "metadata": {
        "id": "-OUa7_1Sw9NN"
      },
      "source": [
        "sentiments.columns=['Date','All_sources_sentiment','Business_sources_sentiment']"
      ],
      "execution_count": null,
      "outputs": []
    },
    {
      "cell_type": "code",
      "metadata": {
        "id": "_re8cZ9hznlt"
      },
      "source": [
        "sentiments['Date'] = pd.to_datetime(sentiments['Date'])"
      ],
      "execution_count": null,
      "outputs": []
    },
    {
      "cell_type": "code",
      "metadata": {
        "id": "KYPEZowmz3b0"
      },
      "source": [
        "sentiments['All_sources_sentiment'] = sentiments['All_sources_sentiment'].astype(float)\n",
        "sentiments['Business_sources_sentiment'] = sentiments['Business_sources_sentiment'].astype(float)"
      ],
      "execution_count": null,
      "outputs": []
    },
    {
      "cell_type": "code",
      "metadata": {
        "id": "SP_FINHQ0eBy",
        "colab": {
          "base_uri": "https://localhost:8080/",
          "height": 187
        },
        "outputId": "440c4b6f-aaa9-4228-cb24-6e46166b2b3d"
      },
      "source": [
        "sentiments.info()"
      ],
      "execution_count": null,
      "outputs": [
        {
          "output_type": "stream",
          "text": [
            "<class 'pandas.core.frame.DataFrame'>\n",
            "RangeIndex: 31 entries, 0 to 30\n",
            "Data columns (total 3 columns):\n",
            " #   Column                      Non-Null Count  Dtype         \n",
            "---  ------                      --------------  -----         \n",
            " 0   Date                        31 non-null     datetime64[ns]\n",
            " 1   All_sources_sentiment       31 non-null     float64       \n",
            " 2   Business_sources_sentiment  31 non-null     float64       \n",
            "dtypes: datetime64[ns](1), float64(2)\n",
            "memory usage: 872.0 bytes\n"
          ],
          "name": "stdout"
        }
      ]
    },
    {
      "cell_type": "code",
      "metadata": {
        "id": "iuadYPYXyB09"
      },
      "source": [
        "sentiments.set_index(\"Date\", inplace=True)"
      ],
      "execution_count": null,
      "outputs": []
    },
    {
      "cell_type": "code",
      "metadata": {
        "id": "C3mM9qKWyG0e",
        "colab": {
          "base_uri": "https://localhost:8080/",
          "height": 235
        },
        "outputId": "af02dbfd-69d4-4eaa-9964-a77b4f24f23a"
      },
      "source": [
        "sentiments.head()"
      ],
      "execution_count": null,
      "outputs": [
        {
          "output_type": "execute_result",
          "data": {
            "text/html": [
              "<div>\n",
              "<style scoped>\n",
              "    .dataframe tbody tr th:only-of-type {\n",
              "        vertical-align: middle;\n",
              "    }\n",
              "\n",
              "    .dataframe tbody tr th {\n",
              "        vertical-align: top;\n",
              "    }\n",
              "\n",
              "    .dataframe thead th {\n",
              "        text-align: right;\n",
              "    }\n",
              "</style>\n",
              "<table border=\"1\" class=\"dataframe\">\n",
              "  <thead>\n",
              "    <tr style=\"text-align: right;\">\n",
              "      <th></th>\n",
              "      <th>All_sources_sentiment</th>\n",
              "      <th>Business_sources_sentiment</th>\n",
              "    </tr>\n",
              "    <tr>\n",
              "      <th>Date</th>\n",
              "      <th></th>\n",
              "      <th></th>\n",
              "    </tr>\n",
              "  </thead>\n",
              "  <tbody>\n",
              "    <tr>\n",
              "      <th>2020-06-29</th>\n",
              "      <td>0.131628</td>\n",
              "      <td>0.102284</td>\n",
              "    </tr>\n",
              "    <tr>\n",
              "      <th>2020-06-30</th>\n",
              "      <td>0.247646</td>\n",
              "      <td>0.254857</td>\n",
              "    </tr>\n",
              "    <tr>\n",
              "      <th>2020-07-01</th>\n",
              "      <td>0.346280</td>\n",
              "      <td>0.201171</td>\n",
              "    </tr>\n",
              "    <tr>\n",
              "      <th>2020-07-02</th>\n",
              "      <td>0.273105</td>\n",
              "      <td>0.169240</td>\n",
              "    </tr>\n",
              "    <tr>\n",
              "      <th>2020-07-03</th>\n",
              "      <td>0.260752</td>\n",
              "      <td>0.207650</td>\n",
              "    </tr>\n",
              "  </tbody>\n",
              "</table>\n",
              "</div>"
            ],
            "text/plain": [
              "            All_sources_sentiment  Business_sources_sentiment\n",
              "Date                                                         \n",
              "2020-06-29               0.131628                    0.102284\n",
              "2020-06-30               0.247646                    0.254857\n",
              "2020-07-01               0.346280                    0.201171\n",
              "2020-07-02               0.273105                    0.169240\n",
              "2020-07-03               0.260752                    0.207650"
            ]
          },
          "metadata": {
            "tags": []
          },
          "execution_count": 26
        }
      ]
    },
    {
      "cell_type": "markdown",
      "metadata": {
        "id": "yBPTCqNlXz9R"
      },
      "source": [
        "# 3) S&P 500 and Dow Jones index - reuse from the prev article"
      ]
    },
    {
      "cell_type": "code",
      "metadata": {
        "id": "U2gyuhzYmXIk",
        "colab": {
          "base_uri": "https://localhost:8080/",
          "height": 285
        },
        "outputId": "8c2ff362-81c5-435c-8199-b3bf20ee52d3"
      },
      "source": [
        "\n",
        "# https://pydata.github.io/pandas-datareader/remote_data.html#stooq-index-data\n",
        "# FRED: Federal Reserve Economic Data // fred,stlouisfed.org\n",
        "import pandas_datareader.data as pdr\n",
        "# from datetime import datetime\n",
        "from datetime import date\n",
        "end = date.today()\n",
        "# start = datetime(2020,1,1)\n",
        "start = datetime(year=end.year, month=end.month-1, day=end.day) \n",
        "# end = datetime(2020,6,29)\n",
        "print(f'Period 1 year until today: {start} to {end} ')"
      ],
      "execution_count": null,
      "outputs": [
        {
          "output_type": "stream",
          "text": [
            "/usr/local/lib/python3.6/dist-packages/pandas_datareader/compat/__init__.py:7: FutureWarning: pandas.util.testing is deprecated. Use the functions in the public API at pandas.testing instead.\n",
            "  from pandas.util.testing import assert_frame_equal\n"
          ],
          "name": "stderr"
        },
        {
          "output_type": "error",
          "ename": "NameError",
          "evalue": "ignored",
          "traceback": [
            "\u001b[0;31m---------------------------------------------------------------------------\u001b[0m",
            "\u001b[0;31mNameError\u001b[0m                                 Traceback (most recent call last)",
            "\u001b[0;32m<ipython-input-1-7703f141953f>\u001b[0m in \u001b[0;36m<module>\u001b[0;34m()\u001b[0m\n\u001b[1;32m      7\u001b[0m \u001b[0mend\u001b[0m \u001b[0;34m=\u001b[0m \u001b[0mdate\u001b[0m\u001b[0;34m.\u001b[0m\u001b[0mtoday\u001b[0m\u001b[0;34m(\u001b[0m\u001b[0;34m)\u001b[0m\u001b[0;34m\u001b[0m\u001b[0;34m\u001b[0m\u001b[0m\n\u001b[1;32m      8\u001b[0m \u001b[0;31m# start = datetime(2020,1,1)\u001b[0m\u001b[0;34m\u001b[0m\u001b[0;34m\u001b[0m\u001b[0;34m\u001b[0m\u001b[0m\n\u001b[0;32m----> 9\u001b[0;31m \u001b[0mstart\u001b[0m \u001b[0;34m=\u001b[0m \u001b[0mdatetime\u001b[0m\u001b[0;34m(\u001b[0m\u001b[0myear\u001b[0m\u001b[0;34m=\u001b[0m\u001b[0mend\u001b[0m\u001b[0;34m.\u001b[0m\u001b[0myear\u001b[0m\u001b[0;34m,\u001b[0m \u001b[0mmonth\u001b[0m\u001b[0;34m=\u001b[0m\u001b[0mend\u001b[0m\u001b[0;34m.\u001b[0m\u001b[0mmonth\u001b[0m\u001b[0;34m-\u001b[0m\u001b[0;36m1\u001b[0m\u001b[0;34m,\u001b[0m \u001b[0mday\u001b[0m\u001b[0;34m=\u001b[0m\u001b[0mend\u001b[0m\u001b[0;34m.\u001b[0m\u001b[0mday\u001b[0m\u001b[0;34m)\u001b[0m\u001b[0;34m\u001b[0m\u001b[0;34m\u001b[0m\u001b[0m\n\u001b[0m\u001b[1;32m     10\u001b[0m \u001b[0;31m# end = datetime(2020,6,29)\u001b[0m\u001b[0;34m\u001b[0m\u001b[0;34m\u001b[0m\u001b[0;34m\u001b[0m\u001b[0m\n\u001b[1;32m     11\u001b[0m \u001b[0mprint\u001b[0m\u001b[0;34m(\u001b[0m\u001b[0;34mf'Period 1 year until today: {start} to {end} '\u001b[0m\u001b[0;34m)\u001b[0m\u001b[0;34m\u001b[0m\u001b[0;34m\u001b[0m\u001b[0m\n",
            "\u001b[0;31mNameError\u001b[0m: name 'datetime' is not defined"
          ]
        }
      ]
    },
    {
      "cell_type": "code",
      "metadata": {
        "id": "P6qnzZH2YT4X",
        "colab": {
          "base_uri": "https://localhost:8080/",
          "height": 180
        },
        "outputId": "66264a24-3d49-4ad6-e9dc-7bcc34297449"
      },
      "source": [
        "spx_index = pdr.get_data_stooq('^SPX', start, end) \n",
        "dji_index = pdr.get_data_stooq('^DJI',start,end)\n"
      ],
      "execution_count": null,
      "outputs": [
        {
          "output_type": "error",
          "ename": "NameError",
          "evalue": "ignored",
          "traceback": [
            "\u001b[0;31m---------------------------------------------------------------------------\u001b[0m",
            "\u001b[0;31mNameError\u001b[0m                                 Traceback (most recent call last)",
            "\u001b[0;32m<ipython-input-2-d30eeefb2b02>\u001b[0m in \u001b[0;36m<module>\u001b[0;34m()\u001b[0m\n\u001b[0;32m----> 1\u001b[0;31m \u001b[0mspx_index\u001b[0m \u001b[0;34m=\u001b[0m \u001b[0mpdr\u001b[0m\u001b[0;34m.\u001b[0m\u001b[0mget_data_stooq\u001b[0m\u001b[0;34m(\u001b[0m\u001b[0;34m'^SPX'\u001b[0m\u001b[0;34m,\u001b[0m \u001b[0mstart\u001b[0m\u001b[0;34m,\u001b[0m \u001b[0mend\u001b[0m\u001b[0;34m)\u001b[0m\u001b[0;34m\u001b[0m\u001b[0;34m\u001b[0m\u001b[0m\n\u001b[0m\u001b[1;32m      2\u001b[0m \u001b[0mdji_index\u001b[0m \u001b[0;34m=\u001b[0m \u001b[0mpdr\u001b[0m\u001b[0;34m.\u001b[0m\u001b[0mget_data_stooq\u001b[0m\u001b[0;34m(\u001b[0m\u001b[0;34m'^DJI'\u001b[0m\u001b[0;34m,\u001b[0m\u001b[0mstart\u001b[0m\u001b[0;34m,\u001b[0m\u001b[0mend\u001b[0m\u001b[0;34m)\u001b[0m\u001b[0;34m\u001b[0m\u001b[0;34m\u001b[0m\u001b[0m\n",
            "\u001b[0;31mNameError\u001b[0m: name 'start' is not defined"
          ]
        }
      ]
    },
    {
      "cell_type": "code",
      "metadata": {
        "id": "PtVdXXiLwCct"
      },
      "source": [
        "spx_index.index"
      ],
      "execution_count": null,
      "outputs": []
    },
    {
      "cell_type": "code",
      "metadata": {
        "id": "bhO5iaDm5m0i"
      },
      "source": [
        "spx_index['Close'].plot(title='1 month price history for index S&P500 Index')"
      ],
      "execution_count": null,
      "outputs": []
    },
    {
      "cell_type": "code",
      "metadata": {
        "id": "BFWagLvY5k0K"
      },
      "source": [
        "dji_index['Close'].plot(title='1 month price history for index Dow Jones Index')"
      ],
      "execution_count": null,
      "outputs": []
    },
    {
      "cell_type": "code",
      "metadata": {
        "id": "qmQCbeAXmEBY"
      },
      "source": [
        "sentiments_vs_snp = sentiments.join(spx_index['Close']).dropna()\n",
        "\n",
        "# spx_index['Close'].join(sentiments).head()\n",
        "  #  plot(title='1 month price history for index S&P500')"
      ],
      "execution_count": null,
      "outputs": []
    },
    {
      "cell_type": "code",
      "metadata": {
        "id": "segc6f012iRQ"
      },
      "source": [
        "sentiments_vs_snp.rename(columns={'Close':'s&p500_close'}, inplace=True)"
      ],
      "execution_count": null,
      "outputs": []
    },
    {
      "cell_type": "code",
      "metadata": {
        "id": "aJ_0Zim61OXi"
      },
      "source": [
        "sentiments_vs_snp.head()"
      ],
      "execution_count": null,
      "outputs": []
    },
    {
      "cell_type": "code",
      "metadata": {
        "id": "OTR-qUWv3D_4"
      },
      "source": [
        "import matplotlib.pyplot as plt\n",
        "import seaborn as sns\n",
        "\n",
        "# https://stackoverflow.com/questions/31594549/how-do-i-change-the-figure-size-for-a-seaborn-plot\n",
        "# https://stackoverflow.com/questions/47591650/second-y-axis-time-series-seaborn\n",
        "sns.set(rc={'figure.figsize':(13.0,8.0)})\n",
        "\n",
        "\n",
        "ax=sns.lineplot(data=sentiments_vs_snp['s&p500_close'], color=\"b\",label='S&P500 Close price')\n",
        "ax2 = plt.twinx()\n",
        "sns.lineplot(data=sentiments_vs_snp[\"All_sources_sentiment\"], color=\"g\", ax=ax2, label='All sources sentiment')\n"
      ],
      "execution_count": null,
      "outputs": []
    },
    {
      "cell_type": "code",
      "metadata": {
        "id": "MbmR9BIB5BEf"
      },
      "source": [
        "# BUSINESS SENTIMENT LOOKS CLOSER!\n",
        "\n",
        "sns.set(rc={'figure.figsize':(13.0,8.0)})\n",
        "\n",
        "\n",
        "ax=sns.lineplot(data=sentiments_vs_snp['s&p500_close'], color=\"b\", label='S&P500 Close price')\n",
        "ax2 = plt.twinx()\n",
        "sns.lineplot(data=sentiments_vs_snp[\"Business_sources_sentiment\"], color=\"g\", ax=ax2, label='Business_sources_sentiment')"
      ],
      "execution_count": null,
      "outputs": []
    },
    {
      "cell_type": "markdown",
      "metadata": {
        "id": "QMzciBR0zFiV"
      },
      "source": [
        "# 4.1) Individual cases - Shopify"
      ]
    },
    {
      "cell_type": "code",
      "metadata": {
        "id": "7DlEZKRpzpMi",
        "colab": {
          "base_uri": "https://localhost:8080/",
          "height": 163
        },
        "outputId": "1a393290-541d-4dba-c1d8-a9ec95f992ea"
      },
      "source": [
        "business_sources"
      ],
      "execution_count": null,
      "outputs": [
        {
          "output_type": "error",
          "ename": "NameError",
          "evalue": "ignored",
          "traceback": [
            "\u001b[0;31m---------------------------------------------------------------------------\u001b[0m",
            "\u001b[0;31mNameError\u001b[0m                                 Traceback (most recent call last)",
            "\u001b[0;32m<ipython-input-3-f41831291cc0>\u001b[0m in \u001b[0;36m<module>\u001b[0;34m()\u001b[0m\n\u001b[0;32m----> 1\u001b[0;31m \u001b[0mbusiness_sources\u001b[0m\u001b[0;34m\u001b[0m\u001b[0;34m\u001b[0m\u001b[0m\n\u001b[0m",
            "\u001b[0;31mNameError\u001b[0m: name 'business_sources' is not defined"
          ]
        }
      ]
    },
    {
      "cell_type": "code",
      "metadata": {
        "id": "vtoeYpjVzKE0",
        "colab": {
          "base_uri": "https://localhost:8080/",
          "height": 197
        },
        "outputId": "b69d7916-7b9b-46a5-d990-195abd5d7d4c"
      },
      "source": [
        "startd='29-Jul-2020'\n",
        "shopify_stock = get_articles_sentiments(\"Shopify\", startd, sources_list = business_sources, show_all_articles = True)"
      ],
      "execution_count": null,
      "outputs": [
        {
          "output_type": "error",
          "ename": "NameError",
          "evalue": "ignored",
          "traceback": [
            "\u001b[0;31m---------------------------------------------------------------------------\u001b[0m",
            "\u001b[0;31mNameError\u001b[0m                                 Traceback (most recent call last)",
            "\u001b[0;32m<ipython-input-4-2b741958d04a>\u001b[0m in \u001b[0;36m<module>\u001b[0;34m()\u001b[0m\n\u001b[1;32m      1\u001b[0m \u001b[0mstartd\u001b[0m\u001b[0;34m=\u001b[0m\u001b[0;34m'29-Jul-2020'\u001b[0m\u001b[0;34m\u001b[0m\u001b[0;34m\u001b[0m\u001b[0m\n\u001b[0;32m----> 2\u001b[0;31m \u001b[0mshopify_stock\u001b[0m \u001b[0;34m=\u001b[0m \u001b[0mget_articles_sentiments\u001b[0m\u001b[0;34m(\u001b[0m\u001b[0;34m\"Shopify\"\u001b[0m\u001b[0;34m,\u001b[0m \u001b[0mstartd\u001b[0m\u001b[0;34m,\u001b[0m \u001b[0msources_list\u001b[0m \u001b[0;34m=\u001b[0m \u001b[0mbusiness_sources\u001b[0m\u001b[0;34m,\u001b[0m \u001b[0mshow_all_articles\u001b[0m \u001b[0;34m=\u001b[0m \u001b[0;32mTrue\u001b[0m\u001b[0;34m)\u001b[0m\u001b[0;34m\u001b[0m\u001b[0;34m\u001b[0m\u001b[0m\n\u001b[0m",
            "\u001b[0;31mNameError\u001b[0m: name 'get_articles_sentiments' is not defined"
          ]
        }
      ]
    },
    {
      "cell_type": "code",
      "metadata": {
        "id": "9NST69Cvztrn"
      },
      "source": [
        "shopify_stock"
      ],
      "execution_count": null,
      "outputs": []
    },
    {
      "cell_type": "code",
      "metadata": {
        "id": "kV2oQeBkz0hS"
      },
      "source": [
        "shopify_stock_all = get_articles_sentiments(\"Shopify\", startd, sources_list = None, show_all_articles = True)"
      ],
      "execution_count": null,
      "outputs": []
    },
    {
      "cell_type": "code",
      "metadata": {
        "id": "vn-ZMesO0EcY"
      },
      "source": [
        "shopify_stock_all.Sentiment.mean()"
      ],
      "execution_count": null,
      "outputs": []
    },
    {
      "cell_type": "code",
      "metadata": {
        "id": "PU4xDSW3z5TB"
      },
      "source": [
        "shopify_stock_all"
      ],
      "execution_count": null,
      "outputs": []
    },
    {
      "cell_type": "code",
      "metadata": {
        "id": "lTGEpickz73C"
      },
      "source": [
        "# Previous day\n",
        "startd='28-Jul-2020'\n",
        "\n",
        "shopify_stock_all_prevDay = get_articles_sentiments(\"Shopify\", startd, sources_list = None, show_all_articles = True)"
      ],
      "execution_count": null,
      "outputs": []
    },
    {
      "cell_type": "code",
      "metadata": {
        "id": "0hnGG3LS0ZMZ"
      },
      "source": [
        "shopify_stock_all_prevDay.Sentiment.mean()"
      ],
      "execution_count": null,
      "outputs": []
    },
    {
      "cell_type": "code",
      "metadata": {
        "id": "C34S5qdO0cFn"
      },
      "source": [
        "shopify_stock_all_prevDay"
      ],
      "execution_count": null,
      "outputs": []
    },
    {
      "cell_type": "code",
      "metadata": {
        "id": "p3RUwVbB0eV3"
      },
      "source": [
        "from datetime import date\n",
        "\n",
        "end_date = date.today()\n",
        "start_date = date(year=end_date.year, month=end_date.month-1, day=end_date.day) \n",
        "\n",
        "print('Start day = ', start_date)\n",
        "print('End day = ', end_date)\n",
        "\n",
        "current_day = start_date\n",
        "sentiment_all_score = []\n",
        "dates=[]\n",
        "\n",
        "\n",
        "while current_day <= end_date:\n",
        "  \n",
        "  dates.append(current_day)\n",
        "\n",
        "  sentiments_all = get_articles_sentiments(keywrd= 'Shopify' ,\n",
        "                                          #  current_day.strftime('%b-%d-%Y'),\n",
        "                                       startd = current_day,\n",
        "                                       sources_list = None, \n",
        "                                       show_all_articles= True)\n",
        "  sentiment_all_score.append(sentiments_all.mean())\n",
        "\n",
        "  current_day = current_day + timedelta(days=1)"
      ],
      "execution_count": null,
      "outputs": []
    },
    {
      "cell_type": "code",
      "metadata": {
        "id": "kCMtlfLF1NLm"
      },
      "source": [
        "sentiments_shopify = pd.DataFrame([dates,np.array(sentiment_all_score)]).transpose()"
      ],
      "execution_count": null,
      "outputs": []
    },
    {
      "cell_type": "code",
      "metadata": {
        "id": "uBNDAjJK193b"
      },
      "source": [
        "sentiments_shopify.columns"
      ],
      "execution_count": null,
      "outputs": []
    },
    {
      "cell_type": "code",
      "metadata": {
        "id": "-QsWt32M1joA"
      },
      "source": [
        "# sentiments_shopify.columns=['Date','All_sources_sentiment']\n",
        "# sentiments_shopify['Date'] = pd.to_datetime(sentiments_shopify['Date'])\n",
        "# sentiments_shopify['All_sources_sentiment'] = sentiments_shopify['All_sources_sentiment'].astype(float)\n",
        "sentiments_shopify.set_index(\"Date\", inplace=True)"
      ],
      "execution_count": null,
      "outputs": []
    },
    {
      "cell_type": "code",
      "metadata": {
        "id": "_Khu7uy217kU"
      },
      "source": [
        "sentiments_shopify.plot()"
      ],
      "execution_count": null,
      "outputs": []
    },
    {
      "cell_type": "markdown",
      "metadata": {
        "id": "7qJ7UY1Z9SWS"
      },
      "source": [
        "# 4.2) GAFA stock - 30 july earnings call :get news and sentiment for Google, Amazon, Facebook, Apple"
      ]
    }
  ]
}