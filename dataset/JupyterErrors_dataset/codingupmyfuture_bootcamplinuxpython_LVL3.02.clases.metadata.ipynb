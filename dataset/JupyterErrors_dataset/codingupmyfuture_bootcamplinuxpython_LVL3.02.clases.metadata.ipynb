{
  "nbformat": 4,
  "nbformat_minor": 0,
  "metadata": {
    "colab": {
      "provenance": []
    },
    "kernelspec": {
      "name": "python3",
      "display_name": "Python 3"
    },
    "language_info": {
      "name": "python"
    }
  },
  "cells": [
    {
      "cell_type": "markdown",
      "source": [
        "<p><img src=\"https://i.postimg.cc/cCjTSn8r/ss-cumf.png\" alt=\"\" width=\"1280\" height=\"300\" /></p>"
      ],
      "metadata": {
        "id": "vOctQoVm6DQy"
      }
    },
    {
      "cell_type": "markdown",
      "source": [
        "# **CLASES NIVEL 1**"
      ],
      "metadata": {
        "id": "hYWxpf_j7Eu0"
      }
    },
    {
      "cell_type": "code",
      "execution_count": 1,
      "metadata": {
        "id": "ElM411zK54S0"
      },
      "outputs": [],
      "source": [
        "class Program:\n",
        "  # variables públicas | spoiler\n",
        "  language = \"Python\"\n",
        "  version = \"3.10\"\n",
        "\n",
        "  def hello(self):\n",
        "    print(f\"Hello OOP with : {Program.language}\")"
      ]
    },
    {
      "cell_type": "code",
      "source": [
        "programa = Program()"
      ],
      "metadata": {
        "id": "b9BQ3onN7vA7"
      },
      "execution_count": 2,
      "outputs": []
    },
    {
      "cell_type": "code",
      "source": [
        "print(programa.version)\n",
        "print(programa.hello())\n",
        "programa.hello()"
      ],
      "metadata": {
        "colab": {
          "base_uri": "https://localhost:8080/"
        },
        "id": "lUSXPO8w77kX",
        "outputId": "130bec7f-a63f-434d-a055-657b5d933755"
      },
      "execution_count": 3,
      "outputs": [
        {
          "output_type": "stream",
          "name": "stdout",
          "text": [
            "3.10\n",
            "Hello OOP with : Python\n",
            "None\n",
            "Hello OOP with : Python\n"
          ]
        }
      ]
    },
    {
      "cell_type": "code",
      "source": [
        "# accediendo a un atributo que no existe\n",
        "Program.luis"
      ],
      "metadata": {
        "colab": {
          "base_uri": "https://localhost:8080/",
          "height": 193
        },
        "id": "qKMaDNGN9y_W",
        "outputId": "1a289f27-6304-4261-9250-eef2a4a0b2f8"
      },
      "execution_count": 4,
      "outputs": [
        {
          "output_type": "error",
          "ename": "AttributeError",
          "evalue": "ignored",
          "traceback": [
            "\u001b[0;31m---------------------------------------------------------------------------\u001b[0m",
            "\u001b[0;31mAttributeError\u001b[0m                            Traceback (most recent call last)",
            "\u001b[0;32m<ipython-input-4-772cd9a0c7e2>\u001b[0m in \u001b[0;36m<cell line: 2>\u001b[0;34m()\u001b[0m\n\u001b[1;32m      1\u001b[0m \u001b[0;31m# accediendo a un atributo que no existe\u001b[0m\u001b[0;34m\u001b[0m\u001b[0;34m\u001b[0m\u001b[0m\n\u001b[0;32m----> 2\u001b[0;31m \u001b[0mProgram\u001b[0m\u001b[0;34m.\u001b[0m\u001b[0mluis\u001b[0m\u001b[0;34m\u001b[0m\u001b[0;34m\u001b[0m\u001b[0m\n\u001b[0m",
            "\u001b[0;31mAttributeError\u001b[0m: type object 'Program' has no attribute 'luis'"
          ]
        }
      ]
    },
    {
      "cell_type": "markdown",
      "source": [
        "## **ITERABLES**"
      ],
      "metadata": {
        "id": "skOzQFIDAVLZ"
      }
    },
    {
      "cell_type": "code",
      "source": [
        "lista = [Program(), Program(), Program(), Program()]\n",
        "print(lista)"
      ],
      "metadata": {
        "colab": {
          "base_uri": "https://localhost:8080/"
        },
        "id": "zCFQZY8wAZZu",
        "outputId": "ad6e25c5-48c3-4f6a-901b-2bd33b73cf63"
      },
      "execution_count": 5,
      "outputs": [
        {
          "output_type": "stream",
          "name": "stdout",
          "text": [
            "[<__main__.Program object at 0x7ae80f285030>, <__main__.Program object at 0x7ae80f2863b0>, <__main__.Program object at 0x7ae80f286650>, <__main__.Program object at 0x7ae80f2861d0>]\n"
          ]
        }
      ]
    },
    {
      "cell_type": "code",
      "source": [
        "lista[-1].language"
      ],
      "metadata": {
        "colab": {
          "base_uri": "https://localhost:8080/",
          "height": 35
        },
        "id": "o6lEA7INAjD1",
        "outputId": "276307ec-6a51-4dd2-edc4-f68aea4b3bff"
      },
      "execution_count": 6,
      "outputs": [
        {
          "output_type": "execute_result",
          "data": {
            "text/plain": [
              "'Python'"
            ],
            "application/vnd.google.colaboratory.intrinsic+json": {
              "type": "string"
            }
          },
          "metadata": {},
          "execution_count": 6
        }
      ]
    },
    {
      "cell_type": "markdown",
      "source": [
        "## **GETATTR**\n",
        "\n",
        "get - obtener"
      ],
      "metadata": {
        "id": "I7LeLC4P8pJW"
      }
    },
    {
      "cell_type": "code",
      "source": [
        "print(Program.version)\n",
        "print(getattr(Program, \"language\"))\n",
        "print(getattr(programa, \"version\"))"
      ],
      "metadata": {
        "colab": {
          "base_uri": "https://localhost:8080/"
        },
        "id": "fEEU25X5859Z",
        "outputId": "f4f28669-8ab8-418a-c4f7-16c2c3903616"
      },
      "execution_count": 7,
      "outputs": [
        {
          "output_type": "stream",
          "name": "stdout",
          "text": [
            "3.10\n",
            "Python\n",
            "3.10\n"
          ]
        }
      ]
    },
    {
      "cell_type": "code",
      "source": [
        "print(getattr(programa, \"luis\", \"no_existe\"))"
      ],
      "metadata": {
        "colab": {
          "base_uri": "https://localhost:8080/"
        },
        "id": "-As9PoVe-Nkh",
        "outputId": "3c441399-3f0a-4fc5-83d3-1424a33cf275"
      },
      "execution_count": 8,
      "outputs": [
        {
          "output_type": "stream",
          "name": "stdout",
          "text": [
            "no_existe\n"
          ]
        }
      ]
    },
    {
      "cell_type": "markdown",
      "source": [
        "## **SETATTR**\n",
        "\n",
        "SET - asignar o configurar"
      ],
      "metadata": {
        "id": "B9pl23Uq-2Gi"
      }
    },
    {
      "cell_type": "code",
      "source": [
        "# inyectando al padre\n",
        "setattr(Program, \"luis\", 12345)"
      ],
      "metadata": {
        "id": "3t8gzWL9-9MU"
      },
      "execution_count": 9,
      "outputs": []
    },
    {
      "cell_type": "code",
      "source": [
        "dir(Program)"
      ],
      "metadata": {
        "colab": {
          "base_uri": "https://localhost:8080/"
        },
        "id": "GPrUc7MG_Zw7",
        "outputId": "068fd369-4e4b-4801-89f1-adbaf780d345"
      },
      "execution_count": 10,
      "outputs": [
        {
          "output_type": "execute_result",
          "data": {
            "text/plain": [
              "['__class__',\n",
              " '__delattr__',\n",
              " '__dict__',\n",
              " '__dir__',\n",
              " '__doc__',\n",
              " '__eq__',\n",
              " '__format__',\n",
              " '__ge__',\n",
              " '__getattribute__',\n",
              " '__gt__',\n",
              " '__hash__',\n",
              " '__init__',\n",
              " '__init_subclass__',\n",
              " '__le__',\n",
              " '__lt__',\n",
              " '__module__',\n",
              " '__ne__',\n",
              " '__new__',\n",
              " '__reduce__',\n",
              " '__reduce_ex__',\n",
              " '__repr__',\n",
              " '__setattr__',\n",
              " '__sizeof__',\n",
              " '__str__',\n",
              " '__subclasshook__',\n",
              " '__weakref__',\n",
              " 'hello',\n",
              " 'language',\n",
              " 'luis',\n",
              " 'version']"
            ]
          },
          "metadata": {},
          "execution_count": 10
        }
      ]
    },
    {
      "cell_type": "code",
      "source": [
        "dir(programa)"
      ],
      "metadata": {
        "colab": {
          "base_uri": "https://localhost:8080/"
        },
        "id": "aBgpa-i8_q2u",
        "outputId": "642b3269-e0fe-4955-bf6c-bdad97cbe251"
      },
      "execution_count": 11,
      "outputs": [
        {
          "output_type": "execute_result",
          "data": {
            "text/plain": [
              "['__class__',\n",
              " '__delattr__',\n",
              " '__dict__',\n",
              " '__dir__',\n",
              " '__doc__',\n",
              " '__eq__',\n",
              " '__format__',\n",
              " '__ge__',\n",
              " '__getattribute__',\n",
              " '__gt__',\n",
              " '__hash__',\n",
              " '__init__',\n",
              " '__init_subclass__',\n",
              " '__le__',\n",
              " '__lt__',\n",
              " '__module__',\n",
              " '__ne__',\n",
              " '__new__',\n",
              " '__reduce__',\n",
              " '__reduce_ex__',\n",
              " '__repr__',\n",
              " '__setattr__',\n",
              " '__sizeof__',\n",
              " '__str__',\n",
              " '__subclasshook__',\n",
              " '__weakref__',\n",
              " 'hello',\n",
              " 'language',\n",
              " 'luis',\n",
              " 'version']"
            ]
          },
          "metadata": {},
          "execution_count": 11
        }
      ]
    },
    {
      "cell_type": "code",
      "source": [
        "# inyectando instancia\n",
        "setattr(programa, \"luis2\", 6789)"
      ],
      "metadata": {
        "id": "IZZZQWR_BM7R"
      },
      "execution_count": 12,
      "outputs": []
    },
    {
      "cell_type": "code",
      "source": [
        "dir(programa)"
      ],
      "metadata": {
        "colab": {
          "base_uri": "https://localhost:8080/"
        },
        "id": "JKfxH9reBTYR",
        "outputId": "d423cbab-8040-4f26-d3cc-e235bcf5a6d9"
      },
      "execution_count": 13,
      "outputs": [
        {
          "output_type": "execute_result",
          "data": {
            "text/plain": [
              "['__class__',\n",
              " '__delattr__',\n",
              " '__dict__',\n",
              " '__dir__',\n",
              " '__doc__',\n",
              " '__eq__',\n",
              " '__format__',\n",
              " '__ge__',\n",
              " '__getattribute__',\n",
              " '__gt__',\n",
              " '__hash__',\n",
              " '__init__',\n",
              " '__init_subclass__',\n",
              " '__le__',\n",
              " '__lt__',\n",
              " '__module__',\n",
              " '__ne__',\n",
              " '__new__',\n",
              " '__reduce__',\n",
              " '__reduce_ex__',\n",
              " '__repr__',\n",
              " '__setattr__',\n",
              " '__sizeof__',\n",
              " '__str__',\n",
              " '__subclasshook__',\n",
              " '__weakref__',\n",
              " 'hello',\n",
              " 'language',\n",
              " 'luis',\n",
              " 'luis2',\n",
              " 'version']"
            ]
          },
          "metadata": {},
          "execution_count": 13
        }
      ]
    },
    {
      "cell_type": "code",
      "source": [
        "dir(Program)"
      ],
      "metadata": {
        "colab": {
          "base_uri": "https://localhost:8080/"
        },
        "id": "zhKmGIlcBVCu",
        "outputId": "888b63fc-d394-4ea6-f170-d70133c9d7b8"
      },
      "execution_count": 14,
      "outputs": [
        {
          "output_type": "execute_result",
          "data": {
            "text/plain": [
              "['__class__',\n",
              " '__delattr__',\n",
              " '__dict__',\n",
              " '__dir__',\n",
              " '__doc__',\n",
              " '__eq__',\n",
              " '__format__',\n",
              " '__ge__',\n",
              " '__getattribute__',\n",
              " '__gt__',\n",
              " '__hash__',\n",
              " '__init__',\n",
              " '__init_subclass__',\n",
              " '__le__',\n",
              " '__lt__',\n",
              " '__module__',\n",
              " '__ne__',\n",
              " '__new__',\n",
              " '__reduce__',\n",
              " '__reduce_ex__',\n",
              " '__repr__',\n",
              " '__setattr__',\n",
              " '__sizeof__',\n",
              " '__str__',\n",
              " '__subclasshook__',\n",
              " '__weakref__',\n",
              " 'hello',\n",
              " 'language',\n",
              " 'luis',\n",
              " 'version']"
            ]
          },
          "metadata": {},
          "execution_count": 14
        }
      ]
    },
    {
      "cell_type": "markdown",
      "source": [
        "## **DELATTR**"
      ],
      "metadata": {
        "id": "3FfYm6viCHRm"
      }
    },
    {
      "cell_type": "code",
      "source": [
        "getattr(programa, \"luis2\")"
      ],
      "metadata": {
        "colab": {
          "base_uri": "https://localhost:8080/"
        },
        "id": "drQ2Zu-2CGrO",
        "outputId": "726f8044-2ed7-4101-c026-dae6be3842dc"
      },
      "execution_count": 15,
      "outputs": [
        {
          "output_type": "execute_result",
          "data": {
            "text/plain": [
              "6789"
            ]
          },
          "metadata": {},
          "execution_count": 15
        }
      ]
    },
    {
      "cell_type": "code",
      "source": [
        "delattr(programa, \"luis2\")"
      ],
      "metadata": {
        "id": "d0HNtsc7CUN7"
      },
      "execution_count": 16,
      "outputs": []
    },
    {
      "cell_type": "code",
      "source": [
        "delattr(programa, \"luis2\")"
      ],
      "metadata": {
        "colab": {
          "base_uri": "https://localhost:8080/",
          "height": 176
        },
        "id": "e6_Cl71YCXFM",
        "outputId": "790cc3f3-ffd6-4c1d-b310-3ad99ceb6af1"
      },
      "execution_count": 17,
      "outputs": [
        {
          "output_type": "error",
          "ename": "AttributeError",
          "evalue": "ignored",
          "traceback": [
            "\u001b[0;31m---------------------------------------------------------------------------\u001b[0m",
            "\u001b[0;31mAttributeError\u001b[0m                            Traceback (most recent call last)",
            "\u001b[0;32m<ipython-input-17-c3a768e6dfcf>\u001b[0m in \u001b[0;36m<cell line: 1>\u001b[0;34m()\u001b[0m\n\u001b[0;32m----> 1\u001b[0;31m \u001b[0mdelattr\u001b[0m\u001b[0;34m(\u001b[0m\u001b[0mprograma\u001b[0m\u001b[0;34m,\u001b[0m \u001b[0;34m\"luis2\"\u001b[0m\u001b[0;34m)\u001b[0m\u001b[0;34m\u001b[0m\u001b[0;34m\u001b[0m\u001b[0m\n\u001b[0m",
            "\u001b[0;31mAttributeError\u001b[0m: luis2"
          ]
        }
      ]
    },
    {
      "cell_type": "code",
      "source": [
        "getattr(programa, \"luis2\", \"ATTR_NOT_DEFINED\")"
      ],
      "metadata": {
        "colab": {
          "base_uri": "https://localhost:8080/",
          "height": 35
        },
        "id": "KyZ3jdhyCf7X",
        "outputId": "0b243acf-508a-41e2-fc6b-1e7975c71806"
      },
      "execution_count": 18,
      "outputs": [
        {
          "output_type": "execute_result",
          "data": {
            "text/plain": [
              "'ATTR_NOT_DEFINED'"
            ],
            "application/vnd.google.colaboratory.intrinsic+json": {
              "type": "string"
            }
          },
          "metadata": {},
          "execution_count": 18
        }
      ]
    },
    {
      "cell_type": "markdown",
      "source": [
        "## **METADATA BÁSICA**"
      ],
      "metadata": {
        "id": "XgYo1C6oDl3m"
      }
    },
    {
      "cell_type": "markdown",
      "source": [
        "### **DATOS DE CLASE**\n",
        "\n",
        "**NOTA IMPORTANTE**:\n",
        "\n",
        "1. La mayoría de los atributos y métodos están almacenados  en una clase y se manejan como un diccionario\n",
        "\n",
        "2. usando `__dict__` no podemos setear objetos directamente a la clase"
      ],
      "metadata": {
        "id": "b6YxHwE4ENWr"
      }
    },
    {
      "cell_type": "code",
      "source": [
        "programa.version"
      ],
      "metadata": {
        "colab": {
          "base_uri": "https://localhost:8080/",
          "height": 35
        },
        "id": "JR3s_B2ADlaq",
        "outputId": "a58e3d00-f803-4106-bd8d-a98976deddc6"
      },
      "execution_count": 19,
      "outputs": [
        {
          "output_type": "execute_result",
          "data": {
            "text/plain": [
              "'3.10'"
            ],
            "application/vnd.google.colaboratory.intrinsic+json": {
              "type": "string"
            }
          },
          "metadata": {},
          "execution_count": 19
        }
      ]
    },
    {
      "cell_type": "code",
      "source": [
        "# __dict__\n",
        "Program.__dict__"
      ],
      "metadata": {
        "colab": {
          "base_uri": "https://localhost:8080/"
        },
        "id": "KlP7mWqjEzFL",
        "outputId": "b97e38b8-062f-421d-921b-14815bfc7e65"
      },
      "execution_count": 20,
      "outputs": [
        {
          "output_type": "execute_result",
          "data": {
            "text/plain": [
              "mappingproxy({'__module__': '__main__',\n",
              "              'language': 'Python',\n",
              "              'version': '3.10',\n",
              "              'hello': <function __main__.Program.hello(self)>,\n",
              "              '__dict__': <attribute '__dict__' of 'Program' objects>,\n",
              "              '__weakref__': <attribute '__weakref__' of 'Program' objects>,\n",
              "              '__doc__': None,\n",
              "              'luis': 12345})"
            ]
          },
          "metadata": {},
          "execution_count": 20
        }
      ]
    },
    {
      "cell_type": "code",
      "source": [
        "# no se puede escritura\n",
        "Program.__dict__[\"sdsds\"] = 1232"
      ],
      "metadata": {
        "colab": {
          "base_uri": "https://localhost:8080/",
          "height": 193
        },
        "id": "ZBk8gtYwFY2C",
        "outputId": "3f46cb26-92f5-44a6-a21a-a0d4acbe8ec2"
      },
      "execution_count": 21,
      "outputs": [
        {
          "output_type": "error",
          "ename": "TypeError",
          "evalue": "ignored",
          "traceback": [
            "\u001b[0;31m---------------------------------------------------------------------------\u001b[0m",
            "\u001b[0;31mTypeError\u001b[0m                                 Traceback (most recent call last)",
            "\u001b[0;32m<ipython-input-21-d2ea2ef2b392>\u001b[0m in \u001b[0;36m<cell line: 2>\u001b[0;34m()\u001b[0m\n\u001b[1;32m      1\u001b[0m \u001b[0;31m# no se puede escritura\u001b[0m\u001b[0;34m\u001b[0m\u001b[0;34m\u001b[0m\u001b[0m\n\u001b[0;32m----> 2\u001b[0;31m \u001b[0mProgram\u001b[0m\u001b[0;34m.\u001b[0m\u001b[0m__dict__\u001b[0m\u001b[0;34m[\u001b[0m\u001b[0;34m\"sdsds\"\u001b[0m\u001b[0;34m]\u001b[0m \u001b[0;34m=\u001b[0m \u001b[0;36m1232\u001b[0m\u001b[0;34m\u001b[0m\u001b[0;34m\u001b[0m\u001b[0m\n\u001b[0m",
            "\u001b[0;31mTypeError\u001b[0m: 'mappingproxy' object does not support item assignment"
          ]
        }
      ]
    },
    {
      "cell_type": "code",
      "source": [
        "Program.__dict__[\"luis\"]"
      ],
      "metadata": {
        "colab": {
          "base_uri": "https://localhost:8080/"
        },
        "id": "r2CWvY-FFeUt",
        "outputId": "2202983f-2d82-4795-d92d-48719228d8b4"
      },
      "execution_count": 22,
      "outputs": [
        {
          "output_type": "execute_result",
          "data": {
            "text/plain": [
              "12345"
            ]
          },
          "metadata": {},
          "execution_count": 22
        }
      ]
    },
    {
      "cell_type": "code",
      "source": [
        "Program.__dict__[\"hello\"]()"
      ],
      "metadata": {
        "colab": {
          "base_uri": "https://localhost:8080/",
          "height": 176
        },
        "id": "1R8a0ey_GzQV",
        "outputId": "957899e9-ef42-4ecd-fcf6-63d822726cd9"
      },
      "execution_count": 23,
      "outputs": [
        {
          "output_type": "error",
          "ename": "TypeError",
          "evalue": "ignored",
          "traceback": [
            "\u001b[0;31m---------------------------------------------------------------------------\u001b[0m",
            "\u001b[0;31mTypeError\u001b[0m                                 Traceback (most recent call last)",
            "\u001b[0;32m<ipython-input-23-f28194a290ca>\u001b[0m in \u001b[0;36m<cell line: 1>\u001b[0;34m()\u001b[0m\n\u001b[0;32m----> 1\u001b[0;31m \u001b[0mProgram\u001b[0m\u001b[0;34m.\u001b[0m\u001b[0m__dict__\u001b[0m\u001b[0;34m[\u001b[0m\u001b[0;34m\"hello\"\u001b[0m\u001b[0;34m]\u001b[0m\u001b[0;34m(\u001b[0m\u001b[0;34m)\u001b[0m\u001b[0;34m\u001b[0m\u001b[0;34m\u001b[0m\u001b[0m\n\u001b[0m",
            "\u001b[0;31mTypeError\u001b[0m: Program.hello() missing 1 required positional argument: 'self'"
          ]
        }
      ]
    },
    {
      "cell_type": "code",
      "source": [
        "el_apuntador = Program()\n",
        "print(f\" programa     : {id(programa)}\")\n",
        "print(f\" el_apuntador : {id(el_apuntador)}\")\n",
        "Program.__dict__[\"hello\"](programa)\n",
        "Program.__dict__[\"hello\"](el_apuntador)"
      ],
      "metadata": {
        "colab": {
          "base_uri": "https://localhost:8080/"
        },
        "id": "Q3g8yy_ZFwHt",
        "outputId": "f38047e2-fbf3-4ba9-9142-e91f8992bb30"
      },
      "execution_count": 24,
      "outputs": [
        {
          "output_type": "stream",
          "name": "stdout",
          "text": [
            " programa     : 135137105297904\n",
            " el_apuntador : 135137105307600\n",
            "Hello OOP with : Python\n",
            "Hello OOP with : Python\n"
          ]
        }
      ]
    },
    {
      "cell_type": "markdown",
      "source": [
        "### **CREANDO DESCRIPTORES**"
      ],
      "metadata": {
        "id": "ml3bkErpH8LM"
      }
    },
    {
      "cell_type": "code",
      "source": [
        "for atributo , valor in Program.__dict__.items():\n",
        "  print(f\"nombre del atributo: {atributo:16}, tipo : {type(valor)}\")"
      ],
      "metadata": {
        "colab": {
          "base_uri": "https://localhost:8080/"
        },
        "id": "-DheXY5yIDi_",
        "outputId": "908ec0d7-a782-4804-cec1-2fd32b3d7bd2"
      },
      "execution_count": 25,
      "outputs": [
        {
          "output_type": "stream",
          "name": "stdout",
          "text": [
            "nombre del atributo: __module__      , tipo : <class 'str'>\n",
            "nombre del atributo: language        , tipo : <class 'str'>\n",
            "nombre del atributo: version         , tipo : <class 'str'>\n",
            "nombre del atributo: hello           , tipo : <class 'function'>\n",
            "nombre del atributo: __dict__        , tipo : <class 'getset_descriptor'>\n",
            "nombre del atributo: __weakref__     , tipo : <class 'getset_descriptor'>\n",
            "nombre del atributo: __doc__         , tipo : <class 'NoneType'>\n",
            "nombre del atributo: luis            , tipo : <class 'int'>\n"
          ]
        }
      ]
    },
    {
      "cell_type": "code",
      "source": [
        "print(programa)"
      ],
      "metadata": {
        "colab": {
          "base_uri": "https://localhost:8080/"
        },
        "id": "5sfzwUMxI3v-",
        "outputId": "97bb4b04-272f-4bd1-80c3-9b0d0583535b"
      },
      "execution_count": 26,
      "outputs": [
        {
          "output_type": "stream",
          "name": "stdout",
          "text": [
            "<__main__.Program object at 0x7ae80f2841f0>\n"
          ]
        }
      ]
    },
    {
      "cell_type": "markdown",
      "source": [
        "### **COMUNES**"
      ],
      "metadata": {
        "id": "Dj5kJh6cJCBI"
      }
    },
    {
      "cell_type": "code",
      "source": [
        "type(programa)"
      ],
      "metadata": {
        "colab": {
          "base_uri": "https://localhost:8080/"
        },
        "id": "jJ6gTHclJDaL",
        "outputId": "405148e0-a77b-42e9-f4aa-0164222e045d"
      },
      "execution_count": 27,
      "outputs": [
        {
          "output_type": "execute_result",
          "data": {
            "text/plain": [
              "__main__.Program"
            ]
          },
          "metadata": {},
          "execution_count": 27
        }
      ]
    },
    {
      "cell_type": "code",
      "source": [
        "# __class__\n",
        "programa.__class__"
      ],
      "metadata": {
        "colab": {
          "base_uri": "https://localhost:8080/"
        },
        "id": "MfInUrzIJQMP",
        "outputId": "7ebe7375-8ded-4b7b-8f7f-17470385319d"
      },
      "execution_count": 28,
      "outputs": [
        {
          "output_type": "execute_result",
          "data": {
            "text/plain": [
              "__main__.Program"
            ]
          },
          "metadata": {},
          "execution_count": 28
        }
      ]
    },
    {
      "cell_type": "code",
      "source": [
        "type(programa) is programa.__class__"
      ],
      "metadata": {
        "colab": {
          "base_uri": "https://localhost:8080/"
        },
        "id": "1rKtW4hsJWEc",
        "outputId": "9ccb0d08-fc5e-4c6b-b56e-07b4e6bc43fa"
      },
      "execution_count": 29,
      "outputs": [
        {
          "output_type": "execute_result",
          "data": {
            "text/plain": [
              "True"
            ]
          },
          "metadata": {},
          "execution_count": 29
        }
      ]
    },
    {
      "cell_type": "code",
      "source": [
        "isinstance(Program, int)"
      ],
      "metadata": {
        "colab": {
          "base_uri": "https://localhost:8080/"
        },
        "id": "dI51RhF5JezX",
        "outputId": "2dd308d9-69e5-4cf4-fa0c-c332e017de8d"
      },
      "execution_count": 30,
      "outputs": [
        {
          "output_type": "execute_result",
          "data": {
            "text/plain": [
              "False"
            ]
          },
          "metadata": {},
          "execution_count": 30
        }
      ]
    },
    {
      "cell_type": "code",
      "source": [
        "isinstance(programa, Program)"
      ],
      "metadata": {
        "colab": {
          "base_uri": "https://localhost:8080/"
        },
        "id": "mSZzZYMoJ9Cj",
        "outputId": "c6c28ff4-4053-4b65-d96e-d22005b44240"
      },
      "execution_count": 31,
      "outputs": [
        {
          "output_type": "execute_result",
          "data": {
            "text/plain": [
              "True"
            ]
          },
          "metadata": {},
          "execution_count": 31
        }
      ]
    },
    {
      "cell_type": "markdown",
      "source": [
        "### **FUNCIONES**"
      ],
      "metadata": {
        "id": "43EDmqGGO4k3"
      }
    },
    {
      "cell_type": "code",
      "source": [
        "Program.hello.__name__"
      ],
      "metadata": {
        "colab": {
          "base_uri": "https://localhost:8080/",
          "height": 35
        },
        "id": "8jceXxXjO4Io",
        "outputId": "5dc66606-1176-49c6-ba94-9b13039f8c61"
      },
      "execution_count": 32,
      "outputs": [
        {
          "output_type": "execute_result",
          "data": {
            "text/plain": [
              "'hello'"
            ],
            "application/vnd.google.colaboratory.intrinsic+json": {
              "type": "string"
            }
          },
          "metadata": {},
          "execution_count": 32
        }
      ]
    },
    {
      "cell_type": "markdown",
      "source": [
        "## **ATRIBUTOS**\n",
        "\n",
        "Inicio de la teoría de encapsulamiento. El encapsulamiento es débil en Python\n",
        "t\n",
        "```\n",
        "pública: si no tienen nada adelante, es una variable pública\n",
        "_semi_pública: si tiene un guion `_` adelante se conoce como semi pública\n",
        "__privada: si tiene dos guiones de piso `__` es privada (teóricamente, pero no es del todo cierto)\n",
        "```\n",
        "\n",
        "Nota: estos nombres aplican tanto para métodos como para atributos\n",
        "\n",
        "\n"
      ],
      "metadata": {
        "id": "ojTZ2RJnKY5p"
      }
    },
    {
      "cell_type": "code",
      "source": [
        "class AccountBank:\n",
        "  bank: str = \"Bootcamp\"\n",
        "  _level: int = 3\n",
        "  __taxes: float = 0.34\n",
        "# una variable privada es para trabarla únicamente en la clase\n",
        "# las variables públicas y semi se pueden trabajar dentro de la clase o fuera"
      ],
      "metadata": {
        "id": "0oP-fxKxKTnJ"
      },
      "execution_count": 33,
      "outputs": []
    },
    {
      "cell_type": "code",
      "source": [
        "accounBanc = AccountBank()\n",
        "\n",
        "print(accounBanc.bank)"
      ],
      "metadata": {
        "colab": {
          "base_uri": "https://localhost:8080/"
        },
        "id": "WkWeF5ABMlmP",
        "outputId": "eef31960-cf6f-48a9-9c9f-6fa0b5516507"
      },
      "execution_count": 34,
      "outputs": [
        {
          "output_type": "stream",
          "name": "stdout",
          "text": [
            "Bootcamp\n"
          ]
        }
      ]
    },
    {
      "cell_type": "code",
      "source": [
        "print(accounBanc._level)"
      ],
      "metadata": {
        "colab": {
          "base_uri": "https://localhost:8080/"
        },
        "id": "ZbGi-kLgM5Hv",
        "outputId": "da72b442-5830-4f82-ca3c-a1740b4302fc"
      },
      "execution_count": 35,
      "outputs": [
        {
          "output_type": "stream",
          "name": "stdout",
          "text": [
            "3\n"
          ]
        }
      ]
    },
    {
      "cell_type": "code",
      "source": [
        "print(accounBanc.__taxes)"
      ],
      "metadata": {
        "colab": {
          "base_uri": "https://localhost:8080/",
          "height": 176
        },
        "id": "gHtB3fzpNHuX",
        "outputId": "d776533b-1189-4ea0-9924-3399dae3bc85"
      },
      "execution_count": 37,
      "outputs": [
        {
          "output_type": "error",
          "ename": "AttributeError",
          "evalue": "ignored",
          "traceback": [
            "\u001b[0;31m---------------------------------------------------------------------------\u001b[0m",
            "\u001b[0;31mAttributeError\u001b[0m                            Traceback (most recent call last)",
            "\u001b[0;32m<ipython-input-37-5c45f1c73fcd>\u001b[0m in \u001b[0;36m<cell line: 1>\u001b[0;34m()\u001b[0m\n\u001b[0;32m----> 1\u001b[0;31m \u001b[0mprint\u001b[0m\u001b[0;34m(\u001b[0m\u001b[0maccounBanc\u001b[0m\u001b[0;34m.\u001b[0m\u001b[0m__taxes\u001b[0m\u001b[0;34m)\u001b[0m\u001b[0;34m\u001b[0m\u001b[0;34m\u001b[0m\u001b[0m\n\u001b[0m",
            "\u001b[0;31mAttributeError\u001b[0m: 'AccountBank' object has no attribute '__taxes'"
          ]
        }
      ]
    },
    {
      "cell_type": "code",
      "source": [
        "AccountBank.__dict__"
      ],
      "metadata": {
        "colab": {
          "base_uri": "https://localhost:8080/"
        },
        "id": "it2N0tqcN3QU",
        "outputId": "d938b17f-357c-4a6f-9092-07116d8c3d84"
      },
      "execution_count": 38,
      "outputs": [
        {
          "output_type": "execute_result",
          "data": {
            "text/plain": [
              "mappingproxy({'__module__': '__main__',\n",
              "              '__annotations__': {'bank': str,\n",
              "               '_level': int,\n",
              "               '_AccountBank__taxes': float},\n",
              "              'bank': 'Bootcamp',\n",
              "              '_level': 3,\n",
              "              '_AccountBank__taxes': 0.34,\n",
              "              '__dict__': <attribute '__dict__' of 'AccountBank' objects>,\n",
              "              '__weakref__': <attribute '__weakref__' of 'AccountBank' objects>,\n",
              "              '__doc__': None})"
            ]
          },
          "metadata": {},
          "execution_count": 38
        }
      ]
    },
    {
      "cell_type": "code",
      "source": [
        "print(AccountBank.__dict__['_AccountBank__taxes'])"
      ],
      "metadata": {
        "colab": {
          "base_uri": "https://localhost:8080/"
        },
        "id": "-9GHulglOMG2",
        "outputId": "c7fd1d34-d766-4c06-f851-129f5ec3dc20"
      },
      "execution_count": 39,
      "outputs": [
        {
          "output_type": "stream",
          "name": "stdout",
          "text": [
            "0.34\n"
          ]
        }
      ]
    },
    {
      "cell_type": "markdown",
      "source": [
        "### **INJECTANDO FUNCIONES**"
      ],
      "metadata": {
        "id": "D-jhX15qPNAd"
      }
    },
    {
      "cell_type": "code",
      "source": [
        "setattr(AccountBank, \"x\", lambda x,y: x + y)"
      ],
      "metadata": {
        "id": "guWMuuh1PMfN"
      },
      "execution_count": 40,
      "outputs": []
    },
    {
      "cell_type": "code",
      "source": [
        "AccountBank.x(5,6)"
      ],
      "metadata": {
        "colab": {
          "base_uri": "https://localhost:8080/"
        },
        "id": "QjdLYlbNPaqa",
        "outputId": "de7f3f76-bf25-47d7-84df-31bb10d679c4"
      },
      "execution_count": 41,
      "outputs": [
        {
          "output_type": "execute_result",
          "data": {
            "text/plain": [
              "11"
            ]
          },
          "metadata": {},
          "execution_count": 41
        }
      ]
    },
    {
      "cell_type": "code",
      "source": [
        "# no funciona\n",
        "accounBanc.x(5,6)"
      ],
      "metadata": {
        "colab": {
          "base_uri": "https://localhost:8080/",
          "height": 193
        },
        "id": "R6a9DI_gPf8b",
        "outputId": "3a6d2746-29a0-47e4-ebf0-644080d48d58"
      },
      "execution_count": 42,
      "outputs": [
        {
          "output_type": "error",
          "ename": "TypeError",
          "evalue": "ignored",
          "traceback": [
            "\u001b[0;31m---------------------------------------------------------------------------\u001b[0m",
            "\u001b[0;31mTypeError\u001b[0m                                 Traceback (most recent call last)",
            "\u001b[0;32m<ipython-input-42-f44f45b6fe06>\u001b[0m in \u001b[0;36m<cell line: 2>\u001b[0;34m()\u001b[0m\n\u001b[1;32m      1\u001b[0m \u001b[0;31m# no funciona\u001b[0m\u001b[0;34m\u001b[0m\u001b[0;34m\u001b[0m\u001b[0m\n\u001b[0;32m----> 2\u001b[0;31m \u001b[0maccounBanc\u001b[0m\u001b[0;34m.\u001b[0m\u001b[0mx\u001b[0m\u001b[0;34m(\u001b[0m\u001b[0;36m5\u001b[0m\u001b[0;34m,\u001b[0m\u001b[0;36m6\u001b[0m\u001b[0;34m)\u001b[0m\u001b[0;34m\u001b[0m\u001b[0;34m\u001b[0m\u001b[0m\n\u001b[0m",
            "\u001b[0;31mTypeError\u001b[0m: <lambda>() takes 2 positional arguments but 3 were given"
          ]
        }
      ]
    },
    {
      "cell_type": "code",
      "source": [
        "setattr(AccountBank, \"y\", lambda self, x,y: x + y)"
      ],
      "metadata": {
        "id": "2ZVkx8ObPqxm"
      },
      "execution_count": 43,
      "outputs": []
    },
    {
      "cell_type": "code",
      "source": [
        "accounBanc.y(5,6)"
      ],
      "metadata": {
        "colab": {
          "base_uri": "https://localhost:8080/"
        },
        "id": "HpxMdAWzPtlq",
        "outputId": "c94924cd-a460-47c3-ffe1-97a1cc9ca85e"
      },
      "execution_count": 44,
      "outputs": [
        {
          "output_type": "execute_result",
          "data": {
            "text/plain": [
              "11"
            ]
          },
          "metadata": {},
          "execution_count": 44
        }
      ]
    },
    {
      "cell_type": "markdown",
      "source": [
        "### **USO INTERNO DE ATRIBUTOS**"
      ],
      "metadata": {
        "id": "oI4OsZxnP7DV"
      }
    },
    {
      "cell_type": "code",
      "source": [
        "class AccountBankV2:\n",
        "  bank: str = \"Bootcamp\"\n",
        "  _level: int = 3\n",
        "  __taxes: float = 0.34\n",
        "\n",
        "  def perform_taxes(self, amount: int):\n",
        "    print(f\"calculating data for: {self.bank}, level {self._level}\")\n",
        "    return round(amount * self.__taxes, 2)"
      ],
      "metadata": {
        "id": "IjfbJxOEQCsn"
      },
      "execution_count": 45,
      "outputs": []
    },
    {
      "cell_type": "code",
      "source": [
        "atributos_internos = AccountBankV2()"
      ],
      "metadata": {
        "id": "hlSHYskxQmez"
      },
      "execution_count": 46,
      "outputs": []
    },
    {
      "cell_type": "code",
      "source": [
        "atributos_internos.perform_taxes(135)"
      ],
      "metadata": {
        "colab": {
          "base_uri": "https://localhost:8080/"
        },
        "id": "NIondE8kQqor",
        "outputId": "d348b7a4-09a4-4375-d1a0-b6ccf86daada"
      },
      "execution_count": 47,
      "outputs": [
        {
          "output_type": "stream",
          "name": "stdout",
          "text": [
            "calculating data for: Bootcamp, level 3\n"
          ]
        },
        {
          "output_type": "execute_result",
          "data": {
            "text/plain": [
              "45.9"
            ]
          },
          "metadata": {},
          "execution_count": 47
        }
      ]
    },
    {
      "cell_type": "code",
      "source": [
        "atributos_internos.bank = \"H*******\"\n",
        "atributos_internos.perform_taxes(135)"
      ],
      "metadata": {
        "colab": {
          "base_uri": "https://localhost:8080/"
        },
        "id": "NuAvww-cQ-9w",
        "outputId": "393f65b8-6059-4ec5-b407-821f54b35d98"
      },
      "execution_count": 48,
      "outputs": [
        {
          "output_type": "stream",
          "name": "stdout",
          "text": [
            "calculating data for: H*******, level 3\n"
          ]
        },
        {
          "output_type": "execute_result",
          "data": {
            "text/plain": [
              "45.9"
            ]
          },
          "metadata": {},
          "execution_count": 48
        }
      ]
    },
    {
      "cell_type": "markdown",
      "source": [
        "## **CONSTRUCTORES**\n",
        "\n",
        "Inicializadores de clase. En resumen, es el punto de entrada para computar y realizar acciones antes de que devuelva la instancia del objeto.\n",
        "\n",
        "Un constructor es UNA función, es decir que le pueden aplicar todos los trucos que vimos en funciones.\n",
        "\n",
        "Siempre el constructor va con `__init__`"
      ],
      "metadata": {
        "id": "CcbhuYxwRsj8"
      }
    },
    {
      "cell_type": "code",
      "source": [
        "# problema 138\n",
        "# lista de la clase persona para almecenar los datos de cada usuario"
      ],
      "metadata": {
        "id": "Tv1I9gXPR14u"
      },
      "execution_count": 49,
      "outputs": []
    },
    {
      "cell_type": "code",
      "source": [
        "class Persona():\n",
        "  id: str\n",
        "  nombre: str\n",
        "  edad: int"
      ],
      "metadata": {
        "id": "S1pLXaGASCes"
      },
      "execution_count": 50,
      "outputs": []
    },
    {
      "cell_type": "code",
      "source": [
        "persona_1 = Persona()\n",
        "persona_1.id = \"111\"\n",
        "persona_1.nombre = \"pepito\"\n",
        "persona_1.edad = 12"
      ],
      "metadata": {
        "id": "tKnZuyg0SMfw"
      },
      "execution_count": 51,
      "outputs": []
    },
    {
      "cell_type": "code",
      "source": [
        "persona_2 = Persona()\n",
        "persona_2.id = \"2222\"\n",
        "persona_2.nombre = \"julanito\"\n",
        "persona_2.edad = 25"
      ],
      "metadata": {
        "id": "RZdMhSKXSeEj"
      },
      "execution_count": 54,
      "outputs": []
    },
    {
      "cell_type": "code",
      "source": [
        "usuarios = [persona_1, persona_2]\n",
        "usuarios[1].id"
      ],
      "metadata": {
        "colab": {
          "base_uri": "https://localhost:8080/",
          "height": 193
        },
        "id": "ZDcKRFboSkWh",
        "outputId": "482ed7a6-cef6-4b63-a316-2adb00106d2e"
      },
      "execution_count": 53,
      "outputs": [
        {
          "output_type": "error",
          "ename": "NameError",
          "evalue": "ignored",
          "traceback": [
            "\u001b[0;31m---------------------------------------------------------------------------\u001b[0m",
            "\u001b[0;31mNameError\u001b[0m                                 Traceback (most recent call last)",
            "\u001b[0;32m<ipython-input-53-0e8951e48ac5>\u001b[0m in \u001b[0;36m<cell line: 1>\u001b[0;34m()\u001b[0m\n\u001b[0;32m----> 1\u001b[0;31m \u001b[0musuarios\u001b[0m \u001b[0;34m=\u001b[0m \u001b[0;34m[\u001b[0m\u001b[0mpersona_1\u001b[0m\u001b[0;34m,\u001b[0m \u001b[0mpersona_2\u001b[0m\u001b[0;34m]\u001b[0m\u001b[0;34m\u001b[0m\u001b[0;34m\u001b[0m\u001b[0m\n\u001b[0m\u001b[1;32m      2\u001b[0m \u001b[0musuarios\u001b[0m\u001b[0;34m[\u001b[0m\u001b[0;36m1\u001b[0m\u001b[0;34m]\u001b[0m\u001b[0;34m.\u001b[0m\u001b[0mid\u001b[0m\u001b[0;34m\u001b[0m\u001b[0;34m\u001b[0m\u001b[0m\n",
            "\u001b[0;31mNameError\u001b[0m: name 'persona_2' is not defined"
          ]
        }
      ]
    },
    {
      "cell_type": "code",
      "source": [
        "class PersonaV2():\n",
        "  def __init__(self, id: str, nombre: str,  edad: int, taxes: float = 0.002):\n",
        "    self.id: str = id\n",
        "    self.nombre: str = nombre\n",
        "    self.edad: int = edad\n",
        "    self.__taxes: float = taxes"
      ],
      "metadata": {
        "id": "jfBpJbocTPVA"
      },
      "execution_count": 55,
      "outputs": []
    },
    {
      "cell_type": "code",
      "source": [
        "persona = PersonaV2(\"1\", \"A\", 1)\n",
        "print(persona.id)"
      ],
      "metadata": {
        "colab": {
          "base_uri": "https://localhost:8080/"
        },
        "id": "wNt-U5QTT4Hy",
        "outputId": "5893c2c8-eb2b-42fb-bb7c-06a556e73ed8"
      },
      "execution_count": 56,
      "outputs": [
        {
          "output_type": "stream",
          "name": "stdout",
          "text": [
            "1\n"
          ]
        }
      ]
    },
    {
      "cell_type": "code",
      "source": [
        "persona.__dict__"
      ],
      "metadata": {
        "colab": {
          "base_uri": "https://localhost:8080/"
        },
        "id": "jaxtr9qUVoRF",
        "outputId": "12fd5134-5805-49ac-c289-d25f9aa832bd"
      },
      "execution_count": 58,
      "outputs": [
        {
          "output_type": "execute_result",
          "data": {
            "text/plain": [
              "{'id': '1', 'nombre': 'A', 'edad': 1, '_PersonaV2__taxes': 0.002}"
            ]
          },
          "metadata": {},
          "execution_count": 58
        }
      ]
    },
    {
      "cell_type": "code",
      "source": [
        "dir(persona)"
      ],
      "metadata": {
        "colab": {
          "base_uri": "https://localhost:8080/"
        },
        "id": "E9ZhcS49WHJb",
        "outputId": "a0062cf4-2ec1-416f-906f-16c0542af282"
      },
      "execution_count": 59,
      "outputs": [
        {
          "output_type": "execute_result",
          "data": {
            "text/plain": [
              "['_PersonaV2__taxes',\n",
              " '__class__',\n",
              " '__delattr__',\n",
              " '__dict__',\n",
              " '__dir__',\n",
              " '__doc__',\n",
              " '__eq__',\n",
              " '__format__',\n",
              " '__ge__',\n",
              " '__getattribute__',\n",
              " '__gt__',\n",
              " '__hash__',\n",
              " '__init__',\n",
              " '__init_subclass__',\n",
              " '__le__',\n",
              " '__lt__',\n",
              " '__module__',\n",
              " '__ne__',\n",
              " '__new__',\n",
              " '__reduce__',\n",
              " '__reduce_ex__',\n",
              " '__repr__',\n",
              " '__setattr__',\n",
              " '__sizeof__',\n",
              " '__str__',\n",
              " '__subclasshook__',\n",
              " '__weakref__',\n",
              " 'edad',\n",
              " 'id',\n",
              " 'nombre']"
            ]
          },
          "metadata": {},
          "execution_count": 59
        }
      ]
    },
    {
      "cell_type": "code",
      "source": [
        "# mejorando el ejemplo anterior\n",
        "\n",
        "usuariosV2 = [ PersonaV2(\"111\", \"pepito\", 12), PersonaV2(\"2222\", \"julanito\", 25)]\n",
        "\n",
        "usuariosV2[1].id"
      ],
      "metadata": {
        "colab": {
          "base_uri": "https://localhost:8080/",
          "height": 35
        },
        "id": "iRrNpSYjULIt",
        "outputId": "a10f0fdd-9785-4c04-8c0a-6ac97d77d2c6"
      },
      "execution_count": 60,
      "outputs": [
        {
          "output_type": "execute_result",
          "data": {
            "text/plain": [
              "'2222'"
            ],
            "application/vnd.google.colaboratory.intrinsic+json": {
              "type": "string"
            }
          },
          "metadata": {},
          "execution_count": 60
        }
      ]
    },
    {
      "cell_type": "code",
      "source": [
        "# resolviendo duda de instancia\n",
        "\n",
        "demo = \"pregunta\""
      ],
      "metadata": {
        "id": "030cj5NPWYn9"
      },
      "execution_count": 61,
      "outputs": []
    },
    {
      "cell_type": "code",
      "source": [
        "id(demo)"
      ],
      "metadata": {
        "colab": {
          "base_uri": "https://localhost:8080/"
        },
        "id": "WTXxQkBeWgTn",
        "outputId": "451f078b-03d9-4f2d-a27b-af91cd6b3c76"
      },
      "execution_count": 62,
      "outputs": [
        {
          "output_type": "execute_result",
          "data": {
            "text/plain": [
              "135137053740720"
            ]
          },
          "metadata": {},
          "execution_count": 62
        }
      ]
    }
  ]
}
