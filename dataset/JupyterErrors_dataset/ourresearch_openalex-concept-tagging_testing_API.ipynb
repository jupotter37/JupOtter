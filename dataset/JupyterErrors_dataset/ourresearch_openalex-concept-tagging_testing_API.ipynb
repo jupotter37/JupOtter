{
 "cells": [
  {
   "cell_type": "code",
   "execution_count": 1,
   "id": "b32fbeba",
   "metadata": {},
   "outputs": [],
   "source": [
    "import requests\n",
    "import json\n",
    "import multiprocessing as mp\n",
    "import mag_functions as F"
   ]
  },
  {
   "cell_type": "code",
   "execution_count": 5,
   "id": "c716facf",
   "metadata": {},
   "outputs": [],
   "source": [
    "input_json_multi = \\\n",
    "\"\"\"[\n",
    "    {\n",
    "        \"title\": \"         Applicability of Magnetic resonance imaging of the knee in FORENSIC age estimation       \",\n",
    "        \"doc_type\": \"Journal\",\n",
    "        \"journal\": \"american journal of forensic medicine and pathology\"\n",
    "    },\n",
    "    {\n",
    "        \"title\": \"counterfactual reward modification for streaming recommendation with delayed feedback\",\n",
    "        \"doc_type\": \"Conference\",\n",
    "        \"journal\": null\n",
    "    },\n",
    "    {\n",
    "        \"title\": \"modification of silicone elastomer with zwitterionic silane for durable antifouling properties\",\n",
    "        \"doc_type\": null,\n",
    "        \"journal\": null\n",
    "    }\n",
    "]\"\"\"\n",
    "\n",
    "# Define your api URL here \n",
    "# headers = {\"X-API-Key\": api_key}\n",
    "# res = requests.post(request_url, json=input_json_multi, headers=headers) \n",
    "# output_api = res.json()\n",
    "# for i in output_api:\n",
    "#     print(i['tags'])"
   ]
  },
  {
   "cell_type": "markdown",
   "id": "5abdeaaf",
   "metadata": {},
   "source": [
    "### Load Testing"
   ]
  },
  {
   "cell_type": "code",
   "execution_count": 3,
   "id": "9ffd3134",
   "metadata": {},
   "outputs": [],
   "source": [
    "input_json_single = \\\n",
    "\"\"\"[\n",
    "   {\n",
    "       \"title\": \"applicability of magnetic resonance imaging of the knee in forensic age estimation\",\n",
    "       \"doc_type\": \"Journal\",\n",
    "       \"journal\": \"american journal of forensic medicine and pathology\"\n",
    "       \n",
    "   }\n",
    "]\"\"\"\n"
   ]
  },
  {
   "cell_type": "code",
   "execution_count": 6,
   "id": "2cd9b8b1",
   "metadata": {},
   "outputs": [
    {
     "name": "stdout",
     "output_type": "stream",
     "text": [
      "CPU times: user 22.2 ms, sys: 3.86 ms, total: 26.1 ms\n",
      "Wall time: 460 ms\n"
     ]
    },
    {
     "data": {
      "text/plain": [
       "[{'tags': ['medicine',\n",
       "   'magnetic resonance imaging',\n",
       "   'nuclear medicine',\n",
       "   'forensic anthropology',\n",
       "   'radiology']},\n",
       " {'tags': ['computer science',\n",
       "   'counterfactual thinking',\n",
       "   'task',\n",
       "   'reinforcement learning',\n",
       "   'artificial intelligence']},\n",
       " {'tags': ['materials science',\n",
       "   'silicone',\n",
       "   'silicone rubber',\n",
       "   'silane',\n",
       "   'elastomer',\n",
       "   'siloxane',\n",
       "   'composite material',\n",
       "   'biofouling',\n",
       "   'chemical engineering',\n",
       "   'coating',\n",
       "   'polydimethylsiloxane',\n",
       "   'surface modification',\n",
       "   'contact angle',\n",
       "   'silane coupling',\n",
       "   'filler',\n",
       "   'silanes',\n",
       "   'polymer']}]"
      ]
     },
     "execution_count": 6,
     "metadata": {},
     "output_type": "execute_result"
    }
   ],
   "source": [
    "%%time\n",
    "F.get_tags(input_json_multi, 1)[1]"
   ]
  },
  {
   "cell_type": "code",
   "execution_count": 13,
   "id": "6e7a8e1b",
   "metadata": {},
   "outputs": [],
   "source": [
    "test_payload = [input_json_single]*8000"
   ]
  },
  {
   "cell_type": "code",
   "execution_count": 87,
   "id": "5782e52e",
   "metadata": {},
   "outputs": [
    {
     "name": "stdout",
     "output_type": "stream",
     "text": [
      "CPU times: user 5.34 s, sys: 1.4 s, total: 6.74 s\n",
      "Wall time: 45min 40s\n"
     ]
    }
   ],
   "source": [
    "%%time\n",
    "final_output = []\n",
    "with mp.Pool(processes=8) as p:\n",
    "    results = [p.apply(F.get_tags, args=(x, i)) for i,x in enumerate(test_payload)]"
   ]
  },
  {
   "cell_type": "code",
   "execution_count": 93,
   "id": "5e1347a7",
   "metadata": {},
   "outputs": [
    {
     "ename": "TimeoutError",
     "evalue": "",
     "output_type": "error",
     "traceback": [
      "\u001b[0;31m---------------------------------------------------------------------------\u001b[0m",
      "\u001b[0;31mTimeoutError\u001b[0m                              Traceback (most recent call last)",
      "\u001b[0;32m<timed exec>\u001b[0m in \u001b[0;36m<module>\u001b[0;34m()\u001b[0m\n",
      "\u001b[0;32m<timed exec>\u001b[0m in \u001b[0;36m<listcomp>\u001b[0;34m(.0)\u001b[0m\n",
      "\u001b[0;32m/anaconda3/lib/python3.6/multiprocessing/pool.py\u001b[0m in \u001b[0;36mget\u001b[0;34m(self, timeout)\u001b[0m\n\u001b[1;32m    638\u001b[0m         \u001b[0mself\u001b[0m\u001b[0;34m.\u001b[0m\u001b[0mwait\u001b[0m\u001b[0;34m(\u001b[0m\u001b[0mtimeout\u001b[0m\u001b[0;34m)\u001b[0m\u001b[0;34m\u001b[0m\u001b[0m\n\u001b[1;32m    639\u001b[0m         \u001b[0;32mif\u001b[0m \u001b[0;32mnot\u001b[0m \u001b[0mself\u001b[0m\u001b[0;34m.\u001b[0m\u001b[0mready\u001b[0m\u001b[0;34m(\u001b[0m\u001b[0;34m)\u001b[0m\u001b[0;34m:\u001b[0m\u001b[0;34m\u001b[0m\u001b[0m\n\u001b[0;32m--> 640\u001b[0;31m             \u001b[0;32mraise\u001b[0m \u001b[0mTimeoutError\u001b[0m\u001b[0;34m\u001b[0m\u001b[0m\n\u001b[0m\u001b[1;32m    641\u001b[0m         \u001b[0;32mif\u001b[0m \u001b[0mself\u001b[0m\u001b[0;34m.\u001b[0m\u001b[0m_success\u001b[0m\u001b[0;34m:\u001b[0m\u001b[0;34m\u001b[0m\u001b[0m\n\u001b[1;32m    642\u001b[0m             \u001b[0;32mreturn\u001b[0m \u001b[0mself\u001b[0m\u001b[0;34m.\u001b[0m\u001b[0m_value\u001b[0m\u001b[0;34m\u001b[0m\u001b[0m\n",
      "\u001b[0;31mTimeoutError\u001b[0m: "
     ]
    }
   ],
   "source": [
    "%%time\n",
    "final_output = []\n",
    "with mp.Pool(processes=8) as p:\n",
    "    results = [p.apply_async(F.get_tags, args=(x, i)) for i,x in enumerate(test_payload)]\n",
    "    output = [r.get(timeout=300) for r in results]\n",
    "\n",
    "final_output += output\n",
    "\n",
    "# print(\"Done with first\")\n",
    "    \n",
    "# with mp.Pool(processes=8) as p:\n",
    "#     results = [p.apply_async(F.get_tags, args=(x, i)) for i,x in enumerate(test_payload)]\n",
    "#     output = [r.get(timeout=300) for r in results]\n",
    "\n",
    "# final_output += output"
   ]
  },
  {
   "cell_type": "code",
   "execution_count": 89,
   "id": "39462bca",
   "metadata": {},
   "outputs": [],
   "source": [
    "# output.sort()"
   ]
  },
  {
   "cell_type": "code",
   "execution_count": 90,
   "id": "20e0eb64",
   "metadata": {},
   "outputs": [
    {
     "data": {
      "text/plain": [
       "0"
      ]
     },
     "execution_count": 90,
     "metadata": {},
     "output_type": "execute_result"
    }
   ],
   "source": [
    "len(final_output)"
   ]
  },
  {
   "cell_type": "code",
   "execution_count": null,
   "id": "238cd3a7",
   "metadata": {},
   "outputs": [],
   "source": []
  },
  {
   "cell_type": "markdown",
   "id": "7b738863",
   "metadata": {},
   "source": [
    "### Testing the enhanced model"
   ]
  },
  {
   "cell_type": "code",
   "execution_count": 1,
   "id": "b1aa3cef",
   "metadata": {},
   "outputs": [],
   "source": [
    "import os\n",
    "import io\n",
    "import boto3\n",
    "import json"
   ]
  },
  {
   "cell_type": "code",
   "execution_count": 2,
   "id": "86085b7d",
   "metadata": {},
   "outputs": [],
   "source": [
    "ENDPOINT_NAME = 'mag-imitator-enhanced-endpoint'\n",
    "runtime= boto3.client('runtime.sagemaker')"
   ]
  },
  {
   "cell_type": "code",
   "execution_count": 4,
   "id": "42669e74",
   "metadata": {},
   "outputs": [],
   "source": [
    "response = runtime.invoke_endpoint(EndpointName=ENDPOINT_NAME,\n",
    "                                       ContentType='application/json',\n",
    "                                       Body=input_json_single)"
   ]
  },
  {
   "cell_type": "code",
   "execution_count": 5,
   "id": "5719dde1",
   "metadata": {},
   "outputs": [
    {
     "name": "stdout",
     "output_type": "stream",
     "text": [
      "{'ResponseMetadata': {'RequestId': 'c237252d-5995-4316-84ac-94ed08de303c', 'HTTPStatusCode': 200, 'HTTPHeaders': {'x-amzn-requestid': 'c237252d-5995-4316-84ac-94ed08de303c', 'x-amzn-invoked-production-variant': 'variant-name-1', 'date': 'Sat, 18 Dec 2021 04:01:54 GMT', 'content-type': 'application/json', 'content-length': '290'}, 'RetryAttempts': 0}, 'ContentType': 'application/json', 'InvokedProductionVariant': 'variant-name-1', 'Body': <botocore.response.StreamingBody object at 0x7f3e646dad00>}\n"
     ]
    }
   ],
   "source": [
    "print(response)"
   ]
  },
  {
   "cell_type": "code",
   "execution_count": 6,
   "id": "b67a971a",
   "metadata": {},
   "outputs": [],
   "source": [
    "result = json.loads(response['Body'].read().decode())"
   ]
  },
  {
   "cell_type": "code",
   "execution_count": 7,
   "id": "42d5e30b",
   "metadata": {},
   "outputs": [
    {
     "data": {
      "text/plain": [
       "[{'tags': ['medicine',\n",
       "   'magnetic resonance imaging',\n",
       "   'nuclear medicine',\n",
       "   'forensic anthropology',\n",
       "   'radiology'],\n",
       "  'scores': [0.5264689922332764,\n",
       "   0.4692302346229553,\n",
       "   0.39589232206344604,\n",
       "   0.3734455108642578,\n",
       "   0.3555443286895752],\n",
       "  'tag_ids': [71924100, 143409427, 2989005, 176979668, 126838900]}]"
      ]
     },
     "execution_count": 7,
     "metadata": {},
     "output_type": "execute_result"
    }
   ],
   "source": [
    "result"
   ]
  },
  {
   "cell_type": "code",
   "execution_count": null,
   "id": "408e9440",
   "metadata": {},
   "outputs": [],
   "source": []
  }
 ],
 "metadata": {
  "kernelspec": {
   "display_name": "Python 3 (ipykernel)",
   "language": "python",
   "name": "python3"
  },
  "language_info": {
   "codemirror_mode": {
    "name": "ipython",
    "version": 3
   },
   "file_extension": ".py",
   "mimetype": "text/x-python",
   "name": "python",
   "nbconvert_exporter": "python",
   "pygments_lexer": "ipython3",
   "version": "3.9.7"
  }
 },
 "nbformat": 4,
 "nbformat_minor": 5
}
