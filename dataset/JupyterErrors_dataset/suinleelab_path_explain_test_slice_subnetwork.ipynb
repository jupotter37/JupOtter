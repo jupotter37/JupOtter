{
 "cells": [
  {
   "cell_type": "code",
   "execution_count": 1,
   "metadata": {},
   "outputs": [],
   "source": [
    "%load_ext autoreload\n",
    "%autoreload 2"
   ]
  },
  {
   "cell_type": "code",
   "execution_count": 2,
   "metadata": {},
   "outputs": [],
   "source": [
    "import sys\n",
    "sys.path.append('..')"
   ]
  },
  {
   "cell_type": "code",
   "execution_count": 3,
   "metadata": {},
   "outputs": [],
   "source": [
    "import tensorflow as tf\n",
    "import numpy as np\n",
    "from build_model import interaction_model"
   ]
  },
  {
   "cell_type": "code",
   "execution_count": 4,
   "metadata": {},
   "outputs": [],
   "source": [
    "from path_explain import utils\n",
    "utils.set_up_environment(visible_devices='1')"
   ]
  },
  {
   "cell_type": "code",
   "execution_count": 5,
   "metadata": {},
   "outputs": [],
   "source": [
    "model = interaction_model(num_features=5,\n",
    "                          num_layers=2,\n",
    "                          hidden_layer_size=8,\n",
    "                          num_outputs=1,\n",
    "                          activation_function=tf.keras.activations.relu,\n",
    "                          interactions_to_ignore=None)"
   ]
  },
  {
   "cell_type": "code",
   "execution_count": 6,
   "metadata": {},
   "outputs": [
    {
     "name": "stdout",
     "output_type": "stream",
     "text": [
      "Model: \"model\"\n",
      "__________________________________________________________________________________________________\n",
      "Layer (type)                    Output Shape         Param #     Connected to                     \n",
      "==================================================================================================\n",
      "input (InputLayer)              [(None, 5)]          0                                            \n",
      "__________________________________________________________________________________________________\n",
      "select_0 (Dense)                (None, 1)            5           input[0][0]                      \n",
      "__________________________________________________________________________________________________\n",
      "select_1 (Dense)                (None, 1)            5           input[0][0]                      \n",
      "__________________________________________________________________________________________________\n",
      "select_2 (Dense)                (None, 1)            5           input[0][0]                      \n",
      "__________________________________________________________________________________________________\n",
      "select_3 (Dense)                (None, 1)            5           input[0][0]                      \n",
      "__________________________________________________________________________________________________\n",
      "select_4 (Dense)                (None, 1)            5           input[0][0]                      \n",
      "__________________________________________________________________________________________________\n",
      "select_0_1 (Dense)              (None, 2)            10          input[0][0]                      \n",
      "__________________________________________________________________________________________________\n",
      "select_0_2 (Dense)              (None, 2)            10          input[0][0]                      \n",
      "__________________________________________________________________________________________________\n",
      "select_0_3 (Dense)              (None, 2)            10          input[0][0]                      \n",
      "__________________________________________________________________________________________________\n",
      "select_0_4 (Dense)              (None, 2)            10          input[0][0]                      \n",
      "__________________________________________________________________________________________________\n",
      "select_1_2 (Dense)              (None, 2)            10          input[0][0]                      \n",
      "__________________________________________________________________________________________________\n",
      "select_1_3 (Dense)              (None, 2)            10          input[0][0]                      \n",
      "__________________________________________________________________________________________________\n",
      "select_1_4 (Dense)              (None, 2)            10          input[0][0]                      \n",
      "__________________________________________________________________________________________________\n",
      "select_2_3 (Dense)              (None, 2)            10          input[0][0]                      \n",
      "__________________________________________________________________________________________________\n",
      "select_2_4 (Dense)              (None, 2)            10          input[0][0]                      \n",
      "__________________________________________________________________________________________________\n",
      "select_3_4 (Dense)              (None, 2)            10          input[0][0]                      \n",
      "__________________________________________________________________________________________________\n",
      "dense_0_0 (Dense)               (None, 8)            16          select_0[0][0]                   \n",
      "__________________________________________________________________________________________________\n",
      "dense_0_1 (Dense)               (None, 8)            16          select_1[0][0]                   \n",
      "__________________________________________________________________________________________________\n",
      "dense_0_2 (Dense)               (None, 8)            16          select_2[0][0]                   \n",
      "__________________________________________________________________________________________________\n",
      "dense_0_3 (Dense)               (None, 8)            16          select_3[0][0]                   \n",
      "__________________________________________________________________________________________________\n",
      "dense_0_4 (Dense)               (None, 8)            16          select_4[0][0]                   \n",
      "__________________________________________________________________________________________________\n",
      "dense_0_0_1 (Dense)             (None, 8)            24          select_0_1[0][0]                 \n",
      "__________________________________________________________________________________________________\n",
      "dense_0_0_2 (Dense)             (None, 8)            24          select_0_2[0][0]                 \n",
      "__________________________________________________________________________________________________\n",
      "dense_0_0_3 (Dense)             (None, 8)            24          select_0_3[0][0]                 \n",
      "__________________________________________________________________________________________________\n",
      "dense_0_0_4 (Dense)             (None, 8)            24          select_0_4[0][0]                 \n",
      "__________________________________________________________________________________________________\n",
      "dense_0_1_2 (Dense)             (None, 8)            24          select_1_2[0][0]                 \n",
      "__________________________________________________________________________________________________\n",
      "dense_0_1_3 (Dense)             (None, 8)            24          select_1_3[0][0]                 \n",
      "__________________________________________________________________________________________________\n",
      "dense_0_1_4 (Dense)             (None, 8)            24          select_1_4[0][0]                 \n",
      "__________________________________________________________________________________________________\n",
      "dense_0_2_3 (Dense)             (None, 8)            24          select_2_3[0][0]                 \n",
      "__________________________________________________________________________________________________\n",
      "dense_0_2_4 (Dense)             (None, 8)            24          select_2_4[0][0]                 \n",
      "__________________________________________________________________________________________________\n",
      "dense_0_3_4 (Dense)             (None, 8)            24          select_3_4[0][0]                 \n",
      "__________________________________________________________________________________________________\n",
      "dense_1_0 (Dense)               (None, 8)            72          dense_0_0[0][0]                  \n",
      "__________________________________________________________________________________________________\n",
      "dense_1_1 (Dense)               (None, 8)            72          dense_0_1[0][0]                  \n",
      "__________________________________________________________________________________________________\n",
      "dense_1_2 (Dense)               (None, 8)            72          dense_0_2[0][0]                  \n",
      "__________________________________________________________________________________________________\n",
      "dense_1_3 (Dense)               (None, 8)            72          dense_0_3[0][0]                  \n",
      "__________________________________________________________________________________________________\n",
      "dense_1_4 (Dense)               (None, 8)            72          dense_0_4[0][0]                  \n",
      "__________________________________________________________________________________________________\n",
      "dense_1_0_1 (Dense)             (None, 8)            72          dense_0_0_1[0][0]                \n",
      "__________________________________________________________________________________________________\n",
      "dense_1_0_2 (Dense)             (None, 8)            72          dense_0_0_2[0][0]                \n",
      "__________________________________________________________________________________________________\n",
      "dense_1_0_3 (Dense)             (None, 8)            72          dense_0_0_3[0][0]                \n",
      "__________________________________________________________________________________________________\n",
      "dense_1_0_4 (Dense)             (None, 8)            72          dense_0_0_4[0][0]                \n",
      "__________________________________________________________________________________________________\n",
      "dense_1_1_2 (Dense)             (None, 8)            72          dense_0_1_2[0][0]                \n",
      "__________________________________________________________________________________________________\n",
      "dense_1_1_3 (Dense)             (None, 8)            72          dense_0_1_3[0][0]                \n",
      "__________________________________________________________________________________________________\n",
      "dense_1_1_4 (Dense)             (None, 8)            72          dense_0_1_4[0][0]                \n",
      "__________________________________________________________________________________________________\n",
      "dense_1_2_3 (Dense)             (None, 8)            72          dense_0_2_3[0][0]                \n",
      "__________________________________________________________________________________________________\n",
      "dense_1_2_4 (Dense)             (None, 8)            72          dense_0_2_4[0][0]                \n",
      "__________________________________________________________________________________________________\n",
      "dense_1_3_4 (Dense)             (None, 8)            72          dense_0_3_4[0][0]                \n",
      "__________________________________________________________________________________________________\n",
      "output_0 (Dense)                (None, 1)            9           dense_1_0[0][0]                  \n",
      "__________________________________________________________________________________________________\n",
      "output_1 (Dense)                (None, 1)            9           dense_1_1[0][0]                  \n",
      "__________________________________________________________________________________________________\n",
      "output_2 (Dense)                (None, 1)            9           dense_1_2[0][0]                  \n",
      "__________________________________________________________________________________________________\n",
      "output_3 (Dense)                (None, 1)            9           dense_1_3[0][0]                  \n",
      "__________________________________________________________________________________________________\n",
      "output_4 (Dense)                (None, 1)            9           dense_1_4[0][0]                  \n",
      "__________________________________________________________________________________________________\n",
      "output_0_1 (Dense)              (None, 1)            9           dense_1_0_1[0][0]                \n",
      "__________________________________________________________________________________________________\n",
      "output_0_2 (Dense)              (None, 1)            9           dense_1_0_2[0][0]                \n",
      "__________________________________________________________________________________________________\n",
      "output_0_3 (Dense)              (None, 1)            9           dense_1_0_3[0][0]                \n",
      "__________________________________________________________________________________________________\n",
      "output_0_4 (Dense)              (None, 1)            9           dense_1_0_4[0][0]                \n",
      "__________________________________________________________________________________________________\n",
      "output_1_2 (Dense)              (None, 1)            9           dense_1_1_2[0][0]                \n",
      "__________________________________________________________________________________________________\n",
      "output_1_3 (Dense)              (None, 1)            9           dense_1_1_3[0][0]                \n",
      "__________________________________________________________________________________________________\n",
      "output_1_4 (Dense)              (None, 1)            9           dense_1_1_4[0][0]                \n",
      "__________________________________________________________________________________________________\n",
      "output_2_3 (Dense)              (None, 1)            9           dense_1_2_3[0][0]                \n",
      "__________________________________________________________________________________________________\n",
      "output_2_4 (Dense)              (None, 1)            9           dense_1_2_4[0][0]                \n",
      "__________________________________________________________________________________________________\n",
      "output_3_4 (Dense)              (None, 1)            9           dense_1_3_4[0][0]                \n",
      "__________________________________________________________________________________________________\n",
      "concat (Concatenate)            (None, 15)           0           output_0[0][0]                   \n",
      "                                                                 output_1[0][0]                   \n",
      "                                                                 output_2[0][0]                   \n",
      "                                                                 output_3[0][0]                   \n",
      "                                                                 output_4[0][0]                   \n",
      "                                                                 output_0_1[0][0]                 \n",
      "                                                                 output_0_2[0][0]                 \n",
      "                                                                 output_0_3[0][0]                 \n",
      "                                                                 output_0_4[0][0]                 \n",
      "                                                                 output_1_2[0][0]                 \n",
      "                                                                 output_1_3[0][0]                 \n",
      "                                                                 output_1_4[0][0]                 \n",
      "                                                                 output_2_3[0][0]                 \n",
      "                                                                 output_2_4[0][0]                 \n",
      "                                                                 output_3_4[0][0]                 \n",
      "__________________________________________________________________________________________________\n",
      "output_final (Dense)            (None, 1)            15          concat[0][0]                     \n",
      "__________________________________________________________________________________________________\n",
      "activation (Activation)         (None, 1)            0           output_final[0][0]               \n",
      "==================================================================================================\n",
      "Total params: 1,675\n",
      "Trainable params: 1,550\n",
      "Non-trainable params: 125\n",
      "__________________________________________________________________________________________________\n"
     ]
    }
   ],
   "source": [
    "model.summary()"
   ]
  },
  {
   "cell_type": "code",
   "execution_count": 7,
   "metadata": {},
   "outputs": [
    {
     "data": {
      "text/plain": [
       "'relu'"
      ]
     },
     "execution_count": 7,
     "metadata": {},
     "output_type": "execute_result"
    }
   ],
   "source": [
    "model.layers[20].get_config().get('activation', None)"
   ]
  },
  {
   "cell_type": "code",
   "execution_count": 8,
   "metadata": {},
   "outputs": [
    {
     "name": "stdout",
     "output_type": "stream",
     "text": [
      "dense_0_0\n",
      "dense_0_1\n",
      "dense_0_2\n",
      "dense_0_3\n",
      "dense_0_4\n",
      "dense_0_0_1\n",
      "dense_0_0_2\n",
      "dense_0_0_3\n",
      "dense_0_0_4\n",
      "dense_0_1_2\n",
      "dense_0_1_3\n",
      "dense_0_1_4\n",
      "dense_0_2_3\n",
      "dense_0_2_4\n",
      "dense_0_3_4\n",
      "dense_1_0\n",
      "dense_1_1\n",
      "dense_1_2\n",
      "dense_1_3\n",
      "dense_1_4\n",
      "dense_1_0_1\n",
      "dense_1_0_2\n",
      "dense_1_0_3\n",
      "dense_1_0_4\n",
      "dense_1_1_2\n",
      "dense_1_1_3\n",
      "dense_1_1_4\n",
      "dense_1_2_3\n",
      "dense_1_2_4\n",
      "dense_1_3_4\n"
     ]
    }
   ],
   "source": [
    "for layer in model.layers:\n",
    "    if layer.get_config().get('activation', None) == 'relu':\n",
    "        print(layer.name)"
   ]
  },
  {
   "cell_type": "code",
   "execution_count": 54,
   "metadata": {},
   "outputs": [
    {
     "data": {
      "text/plain": [
       "'concat'"
      ]
     },
     "execution_count": 54,
     "metadata": {},
     "output_type": "execute_result"
    }
   ],
   "source": [
    "model.get_layer('output_0_1')._outbound_nodes[0].outbound_layer.name"
   ]
  },
  {
   "cell_type": "code",
   "execution_count": 37,
   "metadata": {},
   "outputs": [
    {
     "ename": "AttributeError",
     "evalue": "'Dense' object has no attribute '_output_nodes'",
     "output_type": "error",
     "traceback": [
      "\u001b[0;31m---------------------------------------------------------------------------\u001b[0m",
      "\u001b[0;31mAttributeError\u001b[0m                            Traceback (most recent call last)",
      "\u001b[0;32m<ipython-input-37-705c0856ed2e>\u001b[0m in \u001b[0;36m<module>\u001b[0;34m\u001b[0m\n\u001b[0;32m----> 1\u001b[0;31m \u001b[0mmodel\u001b[0m\u001b[0;34m.\u001b[0m\u001b[0mget_layer\u001b[0m\u001b[0;34m(\u001b[0m\u001b[0;34m'dense_0_0_1'\u001b[0m\u001b[0;34m)\u001b[0m\u001b[0;34m.\u001b[0m\u001b[0m_output_nodes\u001b[0m\u001b[0;34m[\u001b[0m\u001b[0;36m0\u001b[0m\u001b[0;34m]\u001b[0m\u001b[0;34m.\u001b[0m\u001b[0minbound_layers\u001b[0m\u001b[0;34m.\u001b[0m\u001b[0mname\u001b[0m\u001b[0;34m\u001b[0m\u001b[0;34m\u001b[0m\u001b[0m\n\u001b[0m",
      "\u001b[0;31mAttributeError\u001b[0m: 'Dense' object has no attribute '_output_nodes'"
     ]
    }
   ],
   "source": [
    "model.get_layer('dense_0_0_1')._inbound_nodes[0].inbound_layers.name"
   ]
  },
  {
   "cell_type": "code",
   "execution_count": 21,
   "metadata": {},
   "outputs": [
    {
     "data": {
      "text/plain": [
       "<tf.Tensor 'output_0_1/Identity:0' shape=(None, 1) dtype=float32>"
      ]
     },
     "execution_count": 21,
     "metadata": {},
     "output_type": "execute_result"
    }
   ],
   "source": [
    "model.get_layer('output_0_1').output"
   ]
  },
  {
   "cell_type": "code",
   "execution_count": 43,
   "metadata": {},
   "outputs": [
    {
     "data": {
      "text/plain": [
       "<tf.Tensor 'dense_0_0_1/Identity:0' shape=(None, 8) dtype=float32>"
      ]
     },
     "execution_count": 43,
     "metadata": {},
     "output_type": "execute_result"
    }
   ],
   "source": [
    "model.get_layer('dense_1_0_1').input"
   ]
  },
  {
   "cell_type": "code",
   "execution_count": 50,
   "metadata": {},
   "outputs": [],
   "source": [
    "input_tensor = tf.keras.layers.Input(shape=2)"
   ]
  },
  {
   "cell_type": "code",
   "execution_count": 64,
   "metadata": {},
   "outputs": [],
   "source": [
    "input_tensor  = tf.keras.layers.Input(shape=2)\n",
    "output_tensor = input_tensor\n",
    "layer = model.get_layer('dense_0_0_1')\n",
    "while 'concat' not in layer.name:\n",
    "    output_tensor = layer(output_tensor)\n",
    "    next_layer_name = layer._outbound_nodes[0].outbound_layer.name\n",
    "    layer = model.get_layer(next_layer_name)\n",
    "\n",
    "weight_multiply_index = [layer.name.split('/')[0] for layer in model.get_layer('concat').input].index('output_0_1')\n",
    "final_weighting = model.get_layer('output_final').weights[0][weight_multiply_index, :]\n",
    "final_weighting = tf.expand_dims(final_weighting, axis=0)\n",
    "final_weighting = tf.expand_dims(final_weighting, axis=0)\n",
    "\n",
    "output_tensor = tf.keras.layers.Dense(units=1,\n",
    "                                      activation=None,\n",
    "                                      use_bias=False,\n",
    "                                      weights=final_weighting.numpy(),\n",
    "                                      trainable=False,\n",
    "                                      name='subnetwork_output_final')(output_tensor)\n",
    "subnetwork = tf.keras.models.Model(inputs=input_tensor,\n",
    "                                   outputs=output_tensor)"
   ]
  },
  {
   "cell_type": "code",
   "execution_count": 66,
   "metadata": {},
   "outputs": [
    {
     "name": "stdout",
     "output_type": "stream",
     "text": [
      "Model: \"model_11\"\n",
      "_________________________________________________________________\n",
      "Layer (type)                 Output Shape              Param #   \n",
      "=================================================================\n",
      "input_6 (InputLayer)         [(None, 2)]               0         \n",
      "_________________________________________________________________\n",
      "dense_0_0_1 (Dense)          (None, 8)                 24        \n",
      "_________________________________________________________________\n",
      "dense_1_0_1 (Dense)          (None, 8)                 72        \n",
      "_________________________________________________________________\n",
      "output_0_1 (Dense)           (None, 1)                 9         \n",
      "_________________________________________________________________\n",
      "subnetwork_output_final (Den (None, 1)                 1         \n",
      "=================================================================\n",
      "Total params: 106\n",
      "Trainable params: 105\n",
      "Non-trainable params: 1\n",
      "_________________________________________________________________\n"
     ]
    }
   ],
   "source": [
    "subnetwork.summary()"
   ]
  },
  {
   "cell_type": "code",
   "execution_count": 67,
   "metadata": {},
   "outputs": [],
   "source": [
    "fixed_values = np.random.randn(10, 5).astype(np.float32)"
   ]
  },
  {
   "cell_type": "code",
   "execution_count": 69,
   "metadata": {},
   "outputs": [
    {
     "data": {
      "text/plain": [
       "<tf.Tensor: shape=(10, 1), dtype=float32, numpy=\n",
       "array([[-0.01589721],\n",
       "       [-0.00501881],\n",
       "       [-0.01682438],\n",
       "       [-0.00513313],\n",
       "       [-0.00910988],\n",
       "       [-0.03814395],\n",
       "       [-0.01566765],\n",
       "       [-0.00903523],\n",
       "       [-0.04518983],\n",
       "       [-0.06093765]], dtype=float32)>"
      ]
     },
     "execution_count": 69,
     "metadata": {},
     "output_type": "execute_result"
    }
   ],
   "source": [
    "subnetwork(fixed_values[:, 0:2])"
   ]
  },
  {
   "cell_type": "code",
   "execution_count": 70,
   "metadata": {},
   "outputs": [],
   "source": [
    "test_model = tf.keras.models.Model(inputs=model.input, outputs=model.get_layer('output_0_1').output)"
   ]
  },
  {
   "cell_type": "code",
   "execution_count": 71,
   "metadata": {},
   "outputs": [
    {
     "data": {
      "text/plain": [
       "<tf.Tensor: shape=(1, 10, 1), dtype=float32, numpy=\n",
       "array([[[-0.01589721],\n",
       "        [-0.00501881],\n",
       "        [-0.01682438],\n",
       "        [-0.00513313],\n",
       "        [-0.00910988],\n",
       "        [-0.03814395],\n",
       "        [-0.01566765],\n",
       "        [-0.00903523],\n",
       "        [-0.04518983],\n",
       "        [-0.06093765]]], dtype=float32)>"
      ]
     },
     "execution_count": 71,
     "metadata": {},
     "output_type": "execute_result"
    }
   ],
   "source": [
    "test_model(fixed_values) * final_weighting"
   ]
  },
  {
   "cell_type": "code",
   "execution_count": 73,
   "metadata": {},
   "outputs": [],
   "source": [
    "from neural_interaction_detection import NeuralInteractionDetectionExplainerTF"
   ]
  },
  {
   "cell_type": "code",
   "execution_count": 72,
   "metadata": {},
   "outputs": [],
   "source": [
    "from contextual_decomposition import ContextualDecompositionExplainerTF"
   ]
  },
  {
   "cell_type": "code",
   "execution_count": 74,
   "metadata": {},
   "outputs": [],
   "source": [
    "nid_explainer = NeuralInteractionDetectionExplainerTF(subnetwork)"
   ]
  },
  {
   "cell_type": "code",
   "execution_count": 75,
   "metadata": {},
   "outputs": [],
   "source": [
    "interactions = nid_explainer.interactions()"
   ]
  },
  {
   "cell_type": "code",
   "execution_count": 76,
   "metadata": {},
   "outputs": [
    {
     "data": {
      "text/plain": [
       "array([[0.        , 1.76005387],\n",
       "       [1.76005387, 0.        ]])"
      ]
     },
     "execution_count": 76,
     "metadata": {},
     "output_type": "execute_result"
    }
   ],
   "source": [
    "interactions"
   ]
  },
  {
   "cell_type": "code",
   "execution_count": 77,
   "metadata": {},
   "outputs": [],
   "source": [
    "cd_explainer = ContextualDecompositionExplainerTF(subnetwork)"
   ]
  },
  {
   "cell_type": "code",
   "execution_count": 78,
   "metadata": {},
   "outputs": [],
   "source": [
    "attributions, _ = cd_explainer.attributions(fixed_values[:, 0:2], 10)"
   ]
  },
  {
   "cell_type": "code",
   "execution_count": 79,
   "metadata": {},
   "outputs": [],
   "source": [
    "interactions, _ = cd_explainer.interactions(fixed_values[:, 0:2], 10)\n",
    "interactions = interactions - attributions[:, np.newaxis, :] - attributions[:, :, np.newaxis]"
   ]
  },
  {
   "cell_type": "code",
   "execution_count": 80,
   "metadata": {},
   "outputs": [
    {
     "data": {
      "text/plain": [
       "array([[0.00403177, 0.00012352],\n",
       "       [0.00012352, 0.02800969]])"
      ]
     },
     "execution_count": 80,
     "metadata": {},
     "output_type": "execute_result"
    }
   ],
   "source": [
    "interactions[0]"
   ]
  }
 ],
 "metadata": {
  "kernelspec": {
   "display_name": "Python 3",
   "language": "python",
   "name": "python3"
  },
  "language_info": {
   "codemirror_mode": {
    "name": "ipython",
    "version": 3
   },
   "file_extension": ".py",
   "mimetype": "text/x-python",
   "name": "python",
   "nbconvert_exporter": "python",
   "pygments_lexer": "ipython3",
   "version": "3.7.4"
  }
 },
 "nbformat": 4,
 "nbformat_minor": 4
}
