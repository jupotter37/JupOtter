{
 "cells": [
  {
   "cell_type": "markdown",
   "id": "based-lancaster",
   "metadata": {},
   "source": [
    "# Get data from WikiData"
   ]
  },
  {
   "cell_type": "code",
   "execution_count": 1,
   "id": "north-diagnosis",
   "metadata": {},
   "outputs": [
    {
     "data": {
      "text/plain": [
       "<module 'bechdelai.data.wikipedia' from '../../bechdelai/data/wikipedia.py'>"
      ]
     },
     "execution_count": 1,
     "metadata": {},
     "output_type": "execute_result"
    }
   ],
   "source": [
    "import sys\n",
    "sys.path.append(\"../../\")\n",
    "\n",
    "import bechdelai.data.wikipedia as wiki\n",
    "import outputformat as ouf\n",
    "import importlib\n",
    "importlib.reload(wiki)\n",
    "\n"
   ]
  },
  {
   "cell_type": "markdown",
   "id": "cooked-catch",
   "metadata": {},
   "source": [
    "# Get sections from specific page\n",
    "\n",
    "It is a good approach to always use '(release_year film)' after the movie title. It helps redirecting to the right page."
   ]
  },
  {
   "cell_type": "code",
   "execution_count": 2,
   "id": "printable-cambodia",
   "metadata": {
    "scrolled": true
   },
   "outputs": [
    {
     "name": "stdout",
     "output_type": "stream",
     "text": [
      " Page sections\n",
      "╭─────────────\n",
      "├ Plot..................: 1\n",
      "├ Cast..................: 2\n",
      "├ Production............: 3\n",
      "├ Development...........: 4\n",
      "├ Ben_Affleck...........: 5\n",
      "├ Matt_Reeves...........: 6\n",
      "├ Writing...............: 7\n",
      "├ Casting...............: 8\n",
      "├ Design................: 9\n",
      "├ Sets_and_props........: 10\n",
      "├ Costumes..............: 11\n",
      "├ Filming...............: 12\n",
      "├ COVID-19_pandemic.....: 13\n",
      "├ Editing...............: 14\n",
      "├ Visual_effects........: 15\n",
      "├ Music.................: 16\n",
      "├ Marketing.............: 17\n",
      "├ Release...............: 18\n",
      "├ Theatrical............: 19\n",
      "├ Home_media............: 20\n",
      "├ Reception.............: 21\n",
      "├ Box_office............: 22\n",
      "├ Critical_response.....: 23\n",
      "├ Accolades.............: 24\n",
      "├ Thematic_analysis.....: 25\n",
      "├ Tie-in_media..........: 26\n",
      "├ Future................: 27\n",
      "├ Sequels...............: 28\n",
      "├ Spin-off_series.......: 29\n",
      "├ Canceled_GCPD_series..: 30\n",
      "├ The_Penguin...........: 31\n",
      "├ Untitled_Arkham_series: 32\n",
      "├ Notes.................: 33\n",
      "├ References............: 34\n",
      "╰ External_links........: 35\n",
      "\n",
      "╭──────╮\n",
      "│ Plot │\n",
      "╰──────╯\n",
      "On Halloween, Gotham City mayor Don Mitchell Jr. is murdered by a man calling himself the Riddler. Reclusive billionaire Bruce Wayne, who has operated for two years as the vigilante Batman, investigates alongside the Gotham City Police Department (GCPD). At the crime scene, lieutenant James Gordon discovers a message that the Riddler left for Batman. Soon after, the Riddler kills commissioner Pete Savage and leaves another message for Batman.\n",
      "Batman and Gordon discover that the Riddler left a thumb drive in Mitchell's car containing images of Mitchell with a woman, Annika Kosolov, at the Iceberg Lounge—a nightclub operated by the Penguin, mobster Carmine Falcone's lieutenant. While the Penguin pleads ignorance, Batman notices that Selina Kyle, Annika's roommate and close friend, works at the club as a waitress. Batman follows Selina home to question Annika, but Annika disappears, so he sends Selina back to the Iceberg Lounge to search for answers. Through Selina, Batman discovers that Savage was on Falcone's payroll, as is district attorney Gil Colson. Selina shuts off communication when Batman presses her about her relationship with Falcone.\n",
      "The Riddler abducts Colson, straps a timed collar bomb to his neck, and sends him to interrupt Mitchell's funeral. When Batman arrives, the Riddler calls him via Colson's phone and threatens to detonate the bomb if Colson cannot answer three riddles. Batman helps Colson answer the first two, but Colson refuses to answer the third—the name of the informant who gave the GCPD information that led to a historic drug bust, ending mobster Salvatore Maroni's operation—and dies. Batman and Gordon deduce that the informant may be the Penguin and track him to a drug deal. They discover that Maroni's operation transferred to Falcone, with many GCPD officers involved. Selina inadvertently exposes them when she arrives to steal money. As the Penguin flees, Selina discovers Annika's corpse in a car trunk. Batman captures the Penguin but learns that he was not the informant.\n",
      "Batman and Gordon follow the Riddler's trail to the ruins of an orphanage funded by Bruce's murdered parents, Thomas and Martha Wayne, where they learn that the Riddler holds a grudge against the Wayne family. Bruce's butler and caretaker, Alfred Pennyworth, is hospitalized after opening a letter bomb addressed to Bruce. The Riddler leaks evidence that Thomas, who was running for mayor before he was murdered, hired Falcone to kill a journalist for threatening to reveal embarrassing details about Martha and her family's history of mental illnesses. Bruce, who grew up believing his father was morally upstanding, confronts Alfred, who maintains that Thomas only asked Falcone to threaten the journalist into silence, and planned to turn himself and Falcone over to the police once he found out the journalist was murdered. Alfred believes that Falcone had Thomas and Martha killed to prevent this.\n",
      "Selina tells Batman that Falcone is her neglectful father and plans to kill him, after learning that he strangled Annika because Mitchell told her that Falcone was the informant. Batman and Gordon arrive at the Iceberg Lounge in time to stop her, but the Riddler kills Falcone as he is being arrested. The Riddler is unmasked as forensic accountant Edward Nashton and is incarcerated in the Arkham State Hospital, where he tells Batman he idolizes and took inspiration from him when targeting the corrupt. Searching his apartment, Batman learns that Nashton has stationed car bombs around Gotham and cultivated an online following that plans to assassinate mayor-elect Bella Reál.\n",
      "The bombs destroy the breakwaters around Gotham and flood the city. A shelter is set up in an indoor arena, where Nashton's followers attempt to kill Reál but are stopped by Batman and Selina. In the aftermath, Nashton befriends another inmate,[a] while Selina deems Gotham beyond saving and leaves. Batman aids recovery efforts and vows to inspire hope in Gotham.\n",
      "\n",
      "╭──────╮\n",
      "│ Cast │\n",
      "╰──────╯\n",
      "Robert Pattinson as Bruce Wayne / Batman:A reclusive billionaire who obsessively protects Gotham City as a masked vigilante to cope with his traumatic past. Batman is around 30 years old and is not yet an experienced crime fighter, as director Matt Reeves wanted to explore the character before he becomes \"fully formed\". Reeves and Pattinson described Batman as an insomniac who cannot delineate between the Batman persona and his \"recluse rockstar\" public identity as Bruce, with Reeves comparing his obsession with being Batman to a drug addiction. Pattinson said the film questions the nature of heroism, as Batman is more flawed than traditional superheroes and unable to control himself, seeking to work out his rage and \"inflict his kind of justice\". Reeves considered The Batman a story about Batman learning that he must not exact vengeance, but inspire hope. Oscar Novak portrays a young Bruce.\n",
      "Zoë Kravitz as Selina Kyle / Catwoman:A nightclub waitress, drug dealer, and cat burglar who meets Batman while searching for her missing roommate; her moral ambiguity challenges Batman's black-and-white view of good and evil. Kravitz said the character is becoming a femme fatale and \"figuring out who she is, beyond just someone trying to survive\". She described her as a mysterious character with unclear motivations, who represents femininity in contrast to Batman's masculinity. She said the pair are \"partner[s] in crime\", drawn together by their desire to fight for vulnerable people. Reeves saw Selina as Batman's awakening to his own sheltered upbringing and preconceived assumptions. Kravitz focused more on Selina than her Catwoman persona because she did not want to distract from the character's emotional journey, and interpreted Selina as bisexual, like the comics.\n",
      "Paul Dano as Edward Nashton / Riddler:A forensic accountant who is inspired by Batman to become a serial killer who targets elite Gotham citizens and livestreams his crimes. He seeks to \"unmask the truth\" about Gotham, taunting Batman and law enforcement with riddles. Reeves said Batman inspiring the Riddler reflects the idea from the comics that he creates his own enemies and that the Riddler's attack on Gotham gives the character a \"political agenda\" as a terrorist-like figure. He found Batman and the Riddler being \"kind of two sides of the same coin\" unsettling, as they have similar goals. He likened the Riddler to the Zodiac Killer, whom he felt was the \"real-life\" Riddler for his practice of communicating with ciphers and riddles, while Dano said his performance balanced the real-life basis with the Batman franchise's theatricality. Joseph Walker portrays a young Nashton.[citation needed]\n",
      "Jeffrey Wright as James Gordon:An ally of Batman in the Gotham City Police Department (GCPD). He is the only GCPD officer whom Batman trusts, and they work together to solve the Riddler case. Wright described Gordon as \"relative to Gotham City, to the Gotham City Police Department, to Batman, to justice and to corruption\". Similar to Christopher Nolan's The Dark Knight Trilogy (2005–2012), Gordon begins as a GCPD lieutenant in The Batman, allowing his progression to commissioner to be depicted in subsequent films. Wright felt starting Gordon as the lieutenant enabled him to play a larger role compared to previous film iterations. Reeves felt that Batman and Gordon's partnership is emphasized more in The Batman than it was in previous Batman films, and compared them to Carl Bernstein (Dustin Hoffman) and Bob Woodward (Robert Redford) from All the President's Men (1974).\n",
      "John Turturro as Carmine Falcone:A Gotham crime lord and Selina's father. The Riddler's primary target, Falcone has much of Gotham under his control; Turturro described him as a \"dangerous guy\", while Reeves said he was \"seemingly...a genteel mobster but [he] turns out to have a very, very dark history behind him\" and compared him to Noah Cross (John Huston) from Chinatown (1974). The Batman suggests that Falcone played a role in Batman's origin story by ordering the murder of Thomas and Martha Wayne. Turturro collaborated with his son Amadeo, who is an editor at DC Comics, and Reeves to develop Falcone and his mannerisms, and was inspired by the warnings his father told him about the Mafia as a child growing up in New York City. Falcone wears vintage sunglasses throughout the film, as Turturro felt the character needed a \"mask\".\n",
      "Peter Sarsgaard as Gil Colson: Gotham's district attorney, whom Sarsgaard described as untruthful and \"distasteful\".\n",
      "Andy Serkis as Alfred Pennyworth:Batman's butler and mentor, though they have a hostile relationship and rarely speak. Pattinson described Alfred as Batman's only confidant, even though Alfred \"thinks he's gone insane!\" Unlike previous film incarnations, Alfred has a military background, which is reflected in him being \"used to rules and regulations, structure and precision\" as well as his dress and demeanor. To illustrate Alfred's physical appearance as a military veteran, Reeves came up with the idea of him having a cane, while Serkis suggested his facial scars. Serkis shared that Alfred was \"part of the secret service and then the security team looking after Wayne Enterprises\"; his background led to him becoming more of a \"mentor and a teacher\" than the father figure that Bruce needed. Reeves noted that Alfred was forced into becoming Bruce's parental figure despite being inexperienced, and feels guilty that his parenting of Bruce might have led to his obsessive journey as Batman.\n",
      "Colin Farrell as Oswald \"Oz\" Cobblepot / Penguin:Falcone's chief lieutenant who operates the Iceberg Lounge, the nightclub where Selina works. He is not yet the crime kingpin he is depicted as in the comics, and dislikes being referred to as the Penguin. Reeves explained that the Penguin is a \"mid-level mobster guy and he's got a bit of showmanship to him, but you can see that he wants more and that he's been underestimated\". Reeves compared the Penguin to Fredo Corleone (John Cazale) from The Godfather (1972), due to \"the insignificance that he lives within, in a family that is full of very strong, very bright, very capable, very violent men.\"\n",
      "Additionally, Jayme Lawson portrays Bella Reál, a mayoral candidate for Gotham City who Reeves said represents hope; Gil Perez-Abraham portrays Martinez, a GCPD officer; Peter McDonald portrays William Kenzie, a corrupt GCPD officer; Alex Ferns portrays Pete Savage, the GCPD commissioner; Con O'Neill portrays Mackenzie Bock, the GCPD chief; and Rupert Penry-Jones portrays Don Mitchell Jr., Gotham's mayor. Barry Keoghan makes a cameo appearance as the Joker (credited as \"Unseen Arkham Prisoner\"), while other cast members include twins Charlie and Max Carver as Iceberg Lounge bouncers (credited as \"The Twins\"); Hana Hrzic as Annika Koslov, Selina's roommate; Jay Lycurgo as a young gang member; and Luke Roberts and Stella Stocker as Bruce's parents, Thomas and Martha Wayne.\n",
      "\n"
     ]
    }
   ],
   "source": [
    "query = \"The Batman (2022 film)\"\n",
    "sections = wiki.get_section_text(query,['Plot','Cast'],verbose=True)\n",
    "\n",
    "for key,val in sections.items():\n",
    "    ouf.boxtitle(key, style=\"line\")\n",
    "    print(val)\n",
    "# print(sections)"
   ]
  },
  {
   "cell_type": "markdown",
   "id": "martial-dallas",
   "metadata": {},
   "source": [
    "# Ambiguous query\n",
    "If the query is ambiguous, the request is directed to a disambiguation page"
   ]
  },
  {
   "cell_type": "code",
   "execution_count": 3,
   "id": "atomic-nowhere",
   "metadata": {
    "scrolled": true
   },
   "outputs": [
    {
     "name": "stdout",
     "output_type": "stream",
     "text": [
      " Page sections\n",
      "╭─────────────\n",
      "├ Art,_entertainment,_and_media: 1\n",
      "├ Characters...................: 2\n",
      "├ Print_media..................: 3\n",
      "├ Films........................: 4\n",
      "├ Television...................: 5\n",
      "├ Video_games..................: 6\n",
      "├ Music........................: 7\n",
      "├ Toy_line.....................: 8\n",
      "├ Places.......................: 9\n",
      "├ Australia....................: 10\n",
      "├ Iran.........................: 11\n",
      "├ Turkey.......................: 12\n",
      "├ People.......................: 13\n",
      "├ As_nickname_or_stage_name....: 14\n",
      "├ Other_uses...................: 15\n",
      "╰ See_also.....................: 16\n",
      "\n",
      "KeyError: Plot is not a section in the page\n",
      "KeyError: Cast is not a section in the page\n",
      " Disambiguation pages\n",
      "╭────────────────────\n",
      "├ Antonis Fotsis\n",
      "├ B.A.T.M.A.N.\n",
      "├ Bathmen\n",
      "├ Batman\n",
      "├ Batman! (Jan and Dean song)\n",
      "├ Batman's Treaty\n",
      "├ Batman, Iran\n",
      "├ Batman, Turkey\n",
      "├ Batman: The Animated Series\n",
      "├ Batman: The Brave and the Bold\n",
      "├ Batman: The Enemy Within\n",
      "├ Batman: The Ride\n",
      "├ Batman: The Telltale Series\n",
      "├ Batman: The Video Game\n",
      "├ Batman (1966 film)\n",
      "├ Batman (1986 video game)\n",
      "├ Batman (1989 film)\n",
      "├ Batman (1989 video game)\n",
      "├ Batman (1990 arcade game)\n",
      "├ Batman (2003 toy line)\n",
      "├ Batman (2013 arcade game)\n",
      "├ Batman (Earth-Two)\n",
      "├ Batman (Sega Genesis video game)\n",
      "├ Batman (TV series)\n",
      "├ Batman (Terry McGinnis)\n",
      "├ Batman (Thomas Wayne)\n",
      "├ Batman (album)\n",
      "├ Batman (comic book)\n",
      "├ Batman (comic strip)\n",
      "├ Batman (electoral district)\n",
      "├ Batman (manga)\n",
      "├ Batman (military)\n",
      "├ Batman (score)\n",
      "├ Batman (serial)\n",
      "├ Batman (surname)\n",
      "├ Batman (truck)\n",
      "├ Batman (unit)\n",
      "├ Batman Province\n",
      "├ Batman River\n",
      "├ Batman Theme\n",
      "├ Batman and Robin (disambiguation)\n",
      "├ Batman franchise media\n",
      "├ Batman in film\n",
      "├ Batman of Zur-En-Arrh\n",
      "├ Batman railway station\n",
      "├ Batman rapist\n",
      "├ Batsman\n",
      "├ Batter (disambiguation)\n",
      "├ Bayesian tool for methylation analysis\n",
      "├ Bershawn Jackson\n",
      "├ Bruce Wayne (1989 film series character)\n",
      "├ Bruce Wayne (DC Extended Universe)\n",
      "├ Bruce Wayne (Dark Knight trilogy)\n",
      "├ Bruce Wayne (Gotham)\n",
      "├ Bruce Wayne (disambiguation)\n",
      "├ Cryptocentrus\n",
      "├ Division of Batman\n",
      "├ Haim Gozali\n",
      "├ List of Batman video games\n",
      "├ List of DC Comics characters named Batman\n",
      "├ Man-Bat\n",
      "├ Marques Houston\n",
      "├ Syre (album)\n",
      "├ The Batman (TV series)\n",
      "├ The Batman (film)\n",
      "├ The Batman (soundtrack)\n",
      "├ Vampire (disambiguation)\n",
      "├ Talk:Batman (disambiguation)\n",
      "╰ Help:Disambiguation\n",
      "\n"
     ]
    }
   ],
   "source": [
    "query = \"The Batman\"\n",
    "sections = wiki.get_section_text(query,['Plot','Cast'],verbose=True)\n",
    "\n",
    "query_options = wiki.get_links(query)\n",
    "ouf.showlist(query_options,title=\"Disambiguation pages\", style=\"line\")"
   ]
  },
  {
   "cell_type": "markdown",
   "id": "pacific-mustang",
   "metadata": {},
   "source": [
    "# Non existing pages\n",
    "ValueError is raised when no page can be found with the given query"
   ]
  },
  {
   "cell_type": "code",
   "execution_count": 4,
   "id": "forward-retrieval",
   "metadata": {},
   "outputs": [
    {
     "ename": "ValueError",
     "evalue": "This query does not correspond to a Wikipedia page.",
     "output_type": "error",
     "traceback": [
      "\u001b[0;31m---------------------------------------------------------------------------\u001b[0m",
      "\u001b[0;31mValueError\u001b[0m                                Traceback (most recent call last)",
      "\u001b[0;32m<ipython-input-4-a8d03a507e4f>\u001b[0m in \u001b[0;36m<module>\u001b[0;34m\u001b[0m\n\u001b[1;32m      1\u001b[0m \u001b[0mquery\u001b[0m \u001b[0;34m=\u001b[0m \u001b[0;34m\"pjfpk,c\"\u001b[0m\u001b[0;34m\u001b[0m\u001b[0;34m\u001b[0m\u001b[0m\n\u001b[0;32m----> 2\u001b[0;31m \u001b[0msections\u001b[0m \u001b[0;34m=\u001b[0m \u001b[0mwiki\u001b[0m\u001b[0;34m.\u001b[0m\u001b[0mget_section_text\u001b[0m\u001b[0;34m(\u001b[0m\u001b[0mquery\u001b[0m\u001b[0;34m,\u001b[0m\u001b[0;34m[\u001b[0m\u001b[0;34m'Plot'\u001b[0m\u001b[0;34m,\u001b[0m\u001b[0;34m'Cast'\u001b[0m\u001b[0;34m]\u001b[0m\u001b[0;34m,\u001b[0m\u001b[0mverbose\u001b[0m\u001b[0;34m=\u001b[0m\u001b[0;32mTrue\u001b[0m\u001b[0;34m)\u001b[0m\u001b[0;34m\u001b[0m\u001b[0;34m\u001b[0m\u001b[0m\n\u001b[0m",
      "\u001b[0;32m~/Documents/projets/bechdelai/bechdelai/data/wikipedia.py\u001b[0m in \u001b[0;36mget_section_text\u001b[0;34m(query, section_list, lang, verbose)\u001b[0m\n\u001b[1;32m    145\u001b[0m \u001b[0;34m\u001b[0m\u001b[0m\n\u001b[1;32m    146\u001b[0m     \u001b[0;31m# get sections and corresponding index in page\u001b[0m\u001b[0;34m\u001b[0m\u001b[0;34m\u001b[0m\u001b[0;34m\u001b[0m\u001b[0m\n\u001b[0;32m--> 147\u001b[0;31m     \u001b[0msections\u001b[0m \u001b[0;34m=\u001b[0m \u001b[0mget_sections\u001b[0m\u001b[0;34m(\u001b[0m\u001b[0mquery\u001b[0m\u001b[0;34m,\u001b[0m\u001b[0mlang\u001b[0m\u001b[0;34m=\u001b[0m\u001b[0mlang\u001b[0m\u001b[0;34m)\u001b[0m\u001b[0;34m\u001b[0m\u001b[0;34m\u001b[0m\u001b[0m\n\u001b[0m\u001b[1;32m    148\u001b[0m     \u001b[0;32mif\u001b[0m \u001b[0msections\u001b[0m \u001b[0;32mis\u001b[0m \u001b[0;32mNone\u001b[0m\u001b[0;34m:\u001b[0m\u001b[0;34m\u001b[0m\u001b[0;34m\u001b[0m\u001b[0m\n\u001b[1;32m    149\u001b[0m         \u001b[0;32mif\u001b[0m \u001b[0mverbose\u001b[0m\u001b[0;34m:\u001b[0m\u001b[0;34m\u001b[0m\u001b[0;34m\u001b[0m\u001b[0m\n",
      "\u001b[0;32m~/Documents/projets/bechdelai/bechdelai/data/wikipedia.py\u001b[0m in \u001b[0;36mget_sections\u001b[0;34m(query, lang)\u001b[0m\n\u001b[1;32m     36\u001b[0m \u001b[0;34m\u001b[0m\u001b[0m\n\u001b[1;32m     37\u001b[0m     \u001b[0mR\u001b[0m \u001b[0;34m=\u001b[0m \u001b[0mrequests\u001b[0m\u001b[0;34m.\u001b[0m\u001b[0mget\u001b[0m\u001b[0;34m(\u001b[0m\u001b[0murl\u001b[0m\u001b[0;34m=\u001b[0m\u001b[0mURL\u001b[0m\u001b[0;34m,\u001b[0m \u001b[0mparams\u001b[0m\u001b[0;34m=\u001b[0m\u001b[0mPARAMS\u001b[0m\u001b[0;34m)\u001b[0m\u001b[0;34m\u001b[0m\u001b[0;34m\u001b[0m\u001b[0m\n\u001b[0;32m---> 38\u001b[0;31m     \u001b[0;32mif\u001b[0m \u001b[0mpage_exists\u001b[0m\u001b[0;34m(\u001b[0m\u001b[0mR\u001b[0m\u001b[0;34m.\u001b[0m\u001b[0mjson\u001b[0m\u001b[0;34m(\u001b[0m\u001b[0;34m)\u001b[0m\u001b[0;34m)\u001b[0m\u001b[0;34m:\u001b[0m\u001b[0;34m\u001b[0m\u001b[0;34m\u001b[0m\u001b[0m\n\u001b[0m\u001b[1;32m     39\u001b[0m         \u001b[0mDATA\u001b[0m \u001b[0;34m=\u001b[0m \u001b[0mR\u001b[0m\u001b[0;34m.\u001b[0m\u001b[0mjson\u001b[0m\u001b[0;34m(\u001b[0m\u001b[0;34m)\u001b[0m\u001b[0;34m[\u001b[0m\u001b[0;34m\"parse\"\u001b[0m\u001b[0;34m]\u001b[0m\u001b[0;34m[\u001b[0m\u001b[0;34m'sections'\u001b[0m\u001b[0;34m]\u001b[0m\u001b[0;34m\u001b[0m\u001b[0;34m\u001b[0m\u001b[0m\n\u001b[1;32m     40\u001b[0m         \u001b[0mdict_sections\u001b[0m \u001b[0;34m=\u001b[0m \u001b[0;34m{\u001b[0m\u001b[0;34m}\u001b[0m\u001b[0;34m\u001b[0m\u001b[0;34m\u001b[0m\u001b[0m\n",
      "\u001b[0;32m~/Documents/projets/bechdelai/bechdelai/data/wikipedia.py\u001b[0m in \u001b[0;36mpage_exists\u001b[0;34m(request_dict)\u001b[0m\n\u001b[1;32m    286\u001b[0m     \"\"\"\n\u001b[1;32m    287\u001b[0m     \u001b[0;32mif\u001b[0m \u001b[0;34m'error'\u001b[0m \u001b[0;32min\u001b[0m \u001b[0mrequest_dict\u001b[0m\u001b[0;34m:\u001b[0m \u001b[0;31m# when using parse\u001b[0m\u001b[0;34m\u001b[0m\u001b[0;34m\u001b[0m\u001b[0m\n\u001b[0;32m--> 288\u001b[0;31m         \u001b[0;32mraise\u001b[0m \u001b[0mValueError\u001b[0m\u001b[0;34m(\u001b[0m\u001b[0;34m\"This query does not correspond to a Wikipedia page.\"\u001b[0m\u001b[0;34m)\u001b[0m\u001b[0;34m\u001b[0m\u001b[0;34m\u001b[0m\u001b[0m\n\u001b[0m\u001b[1;32m    289\u001b[0m         \u001b[0;32mreturn\u001b[0m \u001b[0;32mFalse\u001b[0m\u001b[0;34m\u001b[0m\u001b[0;34m\u001b[0m\u001b[0m\n\u001b[1;32m    290\u001b[0m     \u001b[0;32melif\u001b[0m \u001b[0;34m'query'\u001b[0m \u001b[0;32min\u001b[0m \u001b[0mrequest_dict\u001b[0m\u001b[0;34m:\u001b[0m \u001b[0;31m# when using query\u001b[0m\u001b[0;34m\u001b[0m\u001b[0;34m\u001b[0m\u001b[0m\n",
      "\u001b[0;31mValueError\u001b[0m: This query does not correspond to a Wikipedia page."
     ]
    }
   ],
   "source": [
    "query = \"pjfpk,c\"\n",
    "sections = wiki.get_section_text(query,['Plot','Cast'],verbose=True)"
   ]
  },
  {
   "cell_type": "code",
   "execution_count": 5,
   "id": "talented-cover",
   "metadata": {},
   "outputs": [
    {
     "ename": "ValueError",
     "evalue": "This query does not correspond to a Wikipedia page.",
     "output_type": "error",
     "traceback": [
      "\u001b[0;31m---------------------------------------------------------------------------\u001b[0m",
      "\u001b[0;31mValueError\u001b[0m                                Traceback (most recent call last)",
      "\u001b[0;32m<ipython-input-5-dce94796e5ab>\u001b[0m in \u001b[0;36m<module>\u001b[0;34m\u001b[0m\n\u001b[0;32m----> 1\u001b[0;31m \u001b[0mquery_options\u001b[0m \u001b[0;34m=\u001b[0m \u001b[0mwiki\u001b[0m\u001b[0;34m.\u001b[0m\u001b[0mget_links\u001b[0m\u001b[0;34m(\u001b[0m\u001b[0mquery\u001b[0m\u001b[0;34m)\u001b[0m\u001b[0;34m\u001b[0m\u001b[0;34m\u001b[0m\u001b[0m\n\u001b[0m",
      "\u001b[0;32m~/Documents/projets/bechdelai/bechdelai/data/wikipedia.py\u001b[0m in \u001b[0;36mget_links\u001b[0;34m(query, lang, verbose)\u001b[0m\n\u001b[1;32m    196\u001b[0m     \u001b[0mdata\u001b[0m \u001b[0;34m=\u001b[0m \u001b[0mR\u001b[0m\u001b[0;34m.\u001b[0m\u001b[0mjson\u001b[0m\u001b[0;34m(\u001b[0m\u001b[0;34m)\u001b[0m\u001b[0;34m\u001b[0m\u001b[0;34m\u001b[0m\u001b[0m\n\u001b[1;32m    197\u001b[0m \u001b[0;34m\u001b[0m\u001b[0m\n\u001b[0;32m--> 198\u001b[0;31m     \u001b[0;32mif\u001b[0m \u001b[0mpage_exists\u001b[0m\u001b[0;34m(\u001b[0m\u001b[0mdata\u001b[0m\u001b[0;34m)\u001b[0m\u001b[0;34m:\u001b[0m\u001b[0;34m\u001b[0m\u001b[0;34m\u001b[0m\u001b[0m\n\u001b[0m\u001b[1;32m    199\u001b[0m         \u001b[0mpages\u001b[0m \u001b[0;34m=\u001b[0m \u001b[0mdata\u001b[0m\u001b[0;34m[\u001b[0m\u001b[0;34m\"query\"\u001b[0m\u001b[0;34m]\u001b[0m\u001b[0;34m[\u001b[0m\u001b[0;34m\"pages\"\u001b[0m\u001b[0;34m]\u001b[0m\u001b[0;34m\u001b[0m\u001b[0;34m\u001b[0m\u001b[0m\n\u001b[1;32m    200\u001b[0m         \u001b[0mpg_count\u001b[0m \u001b[0;34m=\u001b[0m \u001b[0;36m1\u001b[0m\u001b[0;34m\u001b[0m\u001b[0;34m\u001b[0m\u001b[0m\n",
      "\u001b[0;32m~/Documents/projets/bechdelai/bechdelai/data/wikipedia.py\u001b[0m in \u001b[0;36mpage_exists\u001b[0;34m(request_dict)\u001b[0m\n\u001b[1;32m    292\u001b[0m         \u001b[0mpageid\u001b[0m \u001b[0;34m=\u001b[0m \u001b[0mlist\u001b[0m\u001b[0;34m(\u001b[0m\u001b[0mpage\u001b[0m\u001b[0;34m.\u001b[0m\u001b[0mkeys\u001b[0m\u001b[0;34m(\u001b[0m\u001b[0;34m)\u001b[0m\u001b[0;34m)\u001b[0m\u001b[0;34m[\u001b[0m\u001b[0;36m0\u001b[0m\u001b[0;34m]\u001b[0m\u001b[0;34m\u001b[0m\u001b[0;34m\u001b[0m\u001b[0m\n\u001b[1;32m    293\u001b[0m         \u001b[0;32mif\u001b[0m \u001b[0;34m'missing'\u001b[0m \u001b[0;32min\u001b[0m \u001b[0mpage\u001b[0m\u001b[0;34m[\u001b[0m\u001b[0mpageid\u001b[0m\u001b[0;34m]\u001b[0m\u001b[0;34m:\u001b[0m\u001b[0;34m\u001b[0m\u001b[0;34m\u001b[0m\u001b[0m\n\u001b[0;32m--> 294\u001b[0;31m             \u001b[0;32mraise\u001b[0m \u001b[0mValueError\u001b[0m\u001b[0;34m(\u001b[0m\u001b[0;34m\"This query does not correspond to a Wikipedia page.\"\u001b[0m\u001b[0;34m)\u001b[0m\u001b[0;34m\u001b[0m\u001b[0;34m\u001b[0m\u001b[0m\n\u001b[0m\u001b[1;32m    295\u001b[0m             \u001b[0;32mreturn\u001b[0m \u001b[0;32mFalse\u001b[0m\u001b[0;34m\u001b[0m\u001b[0;34m\u001b[0m\u001b[0m\n\u001b[1;32m    296\u001b[0m     \u001b[0;32mreturn\u001b[0m \u001b[0;32mTrue\u001b[0m\u001b[0;34m\u001b[0m\u001b[0;34m\u001b[0m\u001b[0m\n",
      "\u001b[0;31mValueError\u001b[0m: This query does not correspond to a Wikipedia page."
     ]
    }
   ],
   "source": [
    "query_options = wiki.get_links(query)"
   ]
  }
 ],
 "metadata": {
  "kernelspec": {
   "display_name": "Python 3",
   "language": "python",
   "name": "python3"
  },
  "language_info": {
   "codemirror_mode": {
    "name": "ipython",
    "version": 3
   },
   "file_extension": ".py",
   "mimetype": "text/x-python",
   "name": "python",
   "nbconvert_exporter": "python",
   "pygments_lexer": "ipython3",
   "version": "3.8.5"
  }
 },
 "nbformat": 4,
 "nbformat_minor": 5
}
