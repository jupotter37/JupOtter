{
 "cells": [
  {
   "cell_type": "code",
   "execution_count": 2,
   "metadata": {},
   "outputs": [],
   "source": [
    "import sys\n",
    "import json\n",
    "import torch\n",
    "import _jsonnet\n",
    "import matplotlib.pyplot as plt\n",
    "sys.path.append(\"/export/ssd/paxia/incremental_coref\")"
   ]
  },
  {
   "cell_type": "code",
   "execution_count": 3,
   "metadata": {
    "scrolled": true
   },
   "outputs": [
    {
     "name": "stderr",
     "output_type": "stream",
     "text": [
      "INFO:root:Loaded 343 examples.\n",
      "INFO:root:Putting Encoder, GenreEmbedder, SpanScorer, and ScoringModule all on cuda\n",
      "INFO:transformers.tokenization_utils:Model name '/export/ssd/paxia/incremental_coref/encoders/spanbert_large' not found in model shortcut name list (bert-base-uncased, bert-large-uncased, bert-base-cased, bert-large-cased, bert-base-multilingual-uncased, bert-base-multilingual-cased, bert-base-chinese, bert-base-german-cased, bert-large-uncased-whole-word-masking, bert-large-cased-whole-word-masking, bert-large-uncased-whole-word-masking-finetuned-squad, bert-large-cased-whole-word-masking-finetuned-squad, bert-base-cased-finetuned-mrpc, bert-base-german-dbmdz-cased, bert-base-german-dbmdz-uncased, bert-base-finnish-cased-v1, bert-base-finnish-uncased-v1, bert-base-dutch-cased). Assuming '/export/ssd/paxia/incremental_coref/encoders/spanbert_large' is a path, a model identifier, or url to a directory containing tokenizer files.\n",
      "INFO:transformers.tokenization_utils:Didn't find file /export/ssd/paxia/incremental_coref/encoders/spanbert_large/added_tokens.json. We won't load it.\n",
      "INFO:transformers.tokenization_utils:Didn't find file /export/ssd/paxia/incremental_coref/encoders/spanbert_large/special_tokens_map.json. We won't load it.\n",
      "INFO:transformers.tokenization_utils:Didn't find file /export/ssd/paxia/incremental_coref/encoders/spanbert_large/tokenizer_config.json. We won't load it.\n",
      "INFO:transformers.tokenization_utils:loading file /export/ssd/paxia/incremental_coref/encoders/spanbert_large/vocab.txt\n",
      "INFO:transformers.tokenization_utils:loading file None\n",
      "INFO:transformers.tokenization_utils:loading file None\n",
      "INFO:transformers.tokenization_utils:loading file None\n",
      "INFO:transformers.configuration_utils:loading configuration file /export/ssd/paxia/incremental_coref/encoders/spanbert_large/config.json\n",
      "INFO:transformers.configuration_utils:Model config BertConfig {\n",
      "  \"architectures\": null,\n",
      "  \"attention_probs_dropout_prob\": 0.1,\n",
      "  \"bos_token_id\": 0,\n",
      "  \"directionality\": \"bidi\",\n",
      "  \"do_sample\": false,\n",
      "  \"eos_token_ids\": 0,\n",
      "  \"finetuning_task\": null,\n",
      "  \"hidden_act\": \"gelu\",\n",
      "  \"hidden_dropout_prob\": 0.1,\n",
      "  \"hidden_size\": 1024,\n",
      "  \"id2label\": {\n",
      "    \"0\": \"LABEL_0\",\n",
      "    \"1\": \"LABEL_1\"\n",
      "  },\n",
      "  \"initializer_range\": 0.02,\n",
      "  \"intermediate_size\": 4096,\n",
      "  \"is_decoder\": false,\n",
      "  \"label2id\": {\n",
      "    \"LABEL_0\": 0,\n",
      "    \"LABEL_1\": 1\n",
      "  },\n",
      "  \"layer_norm_eps\": 1e-12,\n",
      "  \"length_penalty\": 1.0,\n",
      "  \"max_length\": 20,\n",
      "  \"max_position_embeddings\": 512,\n",
      "  \"model_type\": \"bert\",\n",
      "  \"num_attention_heads\": 16,\n",
      "  \"num_beams\": 1,\n",
      "  \"num_hidden_layers\": 24,\n",
      "  \"num_labels\": 2,\n",
      "  \"num_return_sequences\": 1,\n",
      "  \"output_attentions\": false,\n",
      "  \"output_hidden_states\": false,\n",
      "  \"output_past\": true,\n",
      "  \"pad_token_id\": 0,\n",
      "  \"pooler_fc_size\": 768,\n",
      "  \"pooler_num_attention_heads\": 12,\n",
      "  \"pooler_num_fc_layers\": 3,\n",
      "  \"pooler_size_per_head\": 128,\n",
      "  \"pooler_type\": \"first_token_transform\",\n",
      "  \"pruned_heads\": {},\n",
      "  \"repetition_penalty\": 1.0,\n",
      "  \"temperature\": 1.0,\n",
      "  \"top_k\": 50,\n",
      "  \"top_p\": 1.0,\n",
      "  \"torchscript\": false,\n",
      "  \"type_vocab_size\": 2,\n",
      "  \"use_bfloat16\": false,\n",
      "  \"vocab_size\": 28996\n",
      "}\n",
      "\n",
      "INFO:transformers.modeling_utils:loading weights file /export/ssd/paxia/incremental_coref/encoders/spanbert_large/pytorch_model.bin\n",
      "INFO:root:Found old model at /export/ssd/paxia/clsp_grid_export//spb_on_512/checkpoint.bin, loading instead\n"
     ]
    }
   ],
   "source": [
    "import inference\n",
    "import util\n",
    "import logging\n",
    "from incremental import Incremental\n",
    "\n",
    "logger = logging.getLogger()\n",
    "logger.setLevel(logging.INFO)\n",
    "config = json.loads(_jsonnet.evaluate_file(\"../experiments.jsonnet\"))[\"spb_on_512\"]\n",
    "eval_data = util.load_data(config[\"eval_path\"])# [:20]\n",
    "incremental_model = Incremental(config)\n",
    "if config[\"load_model\"] != \"false\":\n",
    "    try:\n",
    "        checkpoint = torch.load(config[\"log_path\"], map_location=\"cpu\")\n",
    "        logging.info(f\"Found old model at {config['log_path']}, loading instead\")\n",
    "        missing, unexpected = incremental_model.load_state_dict(checkpoint[\"model\"])\n",
    "        if missing or unexpected:\n",
    "            print (missing, unexpected)\n",
    "    except Exception as e:\n",
    "        logging.info(f\"Old model not found or failed to load: {e}\")\n",
    "predictor = inference.Predictor(incremental_model, eval_data)\n"
   ]
  },
  {
   "cell_type": "code",
   "execution_count": 4,
   "metadata": {},
   "outputs": [
    {
     "name": "stderr",
     "output_type": "stream",
     "text": [
      "INFO:root:loss count 0 and sampled loss count 0\n",
      "42.8388: 343it [00:00, 1004.12it/s]\n",
      "INFO:root:cn: 40 and wn: 0\n",
      "INFO:root:ca: 12 and wa: 3\n",
      "INFO:root:Evaluation on 343 documents [42.839] took 0.3 seconds\n",
      "INFO:root:__@ALL: 0.778, 0.857, 0.815, (1 docs)\n",
      "INFO:root:_genre0_speaker_False: 0.778, 0.857, 0.815, (1 docs)\n",
      "INFO:root:_genre_bn_t_128-256: 0.778, 0.857, 0.815, (1 docs)\n",
      "INFO:root:_s_1: 0.778, 0.857, 0.815, (1 docs)\n",
      "INFO:root:_t_128-256: 0.778, 0.857, 0.815, (1 docs)\n",
      "INFO:root:bn: 0.778, 0.857, 0.815, (1 docs)\n",
      "INFO:root:[(129, 1.4580302238464355)]\n"
     ]
    }
   ],
   "source": [
    "with torch.no_grad():\n",
    "    all_clusters = predictor.evaluate(perf=True, inspect=67)\n"
   ]
  },
  {
   "cell_type": "code",
   "execution_count": 4,
   "metadata": {},
   "outputs": [
    {
     "name": "stdout",
     "output_type": "stream",
     "text": [
      "0 12\n"
     ]
    },
    {
     "ename": "IndexError",
     "evalue": "list index out of range",
     "output_type": "error",
     "traceback": [
      "\u001b[0;31m---------------------------------------------------------------------------\u001b[0m",
      "\u001b[0;31mIndexError\u001b[0m                                Traceback (most recent call last)",
      "\u001b[0;32m<ipython-input-4-f8d82a67e45a>\u001b[0m in \u001b[0;36m<module>\u001b[0;34m\u001b[0m\n\u001b[1;32m      1\u001b[0m \u001b[0;32mfor\u001b[0m \u001b[0mdoc\u001b[0m \u001b[0;32min\u001b[0m \u001b[0mrange\u001b[0m\u001b[0;34m(\u001b[0m\u001b[0;36m343\u001b[0m\u001b[0;34m)\u001b[0m\u001b[0;34m:\u001b[0m\u001b[0;34m\u001b[0m\u001b[0m\n\u001b[0;32m----> 2\u001b[0;31m     \u001b[0mclusters\u001b[0m \u001b[0;34m=\u001b[0m \u001b[0mall_clusters\u001b[0m\u001b[0;34m[\u001b[0m\u001b[0mdoc\u001b[0m\u001b[0;34m]\u001b[0m\u001b[0;34m\u001b[0m\u001b[0m\n\u001b[0m\u001b[1;32m      3\u001b[0m     \u001b[0mgold\u001b[0m \u001b[0;34m=\u001b[0m \u001b[0meval_data\u001b[0m\u001b[0;34m[\u001b[0m\u001b[0mdoc\u001b[0m\u001b[0;34m]\u001b[0m\u001b[0;34m[\u001b[0m\u001b[0;34m\"clusters\"\u001b[0m\u001b[0;34m]\u001b[0m\u001b[0;34m\u001b[0m\u001b[0m\n\u001b[1;32m      4\u001b[0m     \u001b[0;31m# print (eval_data[doc][\"sentences\"])\u001b[0m\u001b[0;34m\u001b[0m\u001b[0;34m\u001b[0m\u001b[0m\n\u001b[1;32m      5\u001b[0m     \u001b[0mprint\u001b[0m \u001b[0;34m(\u001b[0m\u001b[0mdoc\u001b[0m\u001b[0;34m,\u001b[0m \u001b[0mlen\u001b[0m\u001b[0;34m(\u001b[0m\u001b[0mgold\u001b[0m\u001b[0;34m)\u001b[0m\u001b[0;34m)\u001b[0m\u001b[0;34m\u001b[0m\u001b[0m\n",
      "\u001b[0;31mIndexError\u001b[0m: list index out of range"
     ]
    }
   ],
   "source": [
    "for doc in range(343):\n",
    "    clusters = all_clusters[doc]\n",
    "    gold = eval_data[doc][\"clusters\"]\n",
    "    # print (eval_data[doc][\"sentences\"])\n",
    "    print (doc, len(gold))"
   ]
  },
  {
   "cell_type": "code",
   "execution_count": 5,
   "metadata": {},
   "outputs": [
    {
     "name": "stdout",
     "output_type": "stream",
     "text": [
      "bn/cnn/00/cnn_0030_0\n",
      "['[CLS]', 'President', 'Clinton', 'may', 'travel', 'to', 'North', 'Korea', 'in', 'an', 'attempt', 'to', 'improve', 'relations', 'with', 'that', 'country', '.', 'The', 'announcement', 'comes', 'after', 'two', 'days', 'of', 'talks', 'between', 'American', 'and', 'North', 'Korean', 'leaders', 'in', 'Washington', '.', 'Secretary', 'of', 'State', 'Madeleine', 'Al', '##bright', 'has', 'accepted', 'an', 'invitation', 'to', 'visit', 'North', 'Korea', 'and', 'meet', 'with', 'leader', 'Kim', 'Jong', '-', 'il', '.', 'She', 'made', 'the', 'unexpected', 'announcement', 'at', 'a', 'dinner', 'last', 'night', 'in', 'Washington', '.', 'North', 'Korea', \"'\", 's', 'top', 'defense', 'official', 'hosted', 'the', 'event', '.', 'The', 'country', 'is', 'on', 'a', 'U', '.', 'S', '.', 'list', 'of', 'nations', 'that', 'sponsor', 'terrorism', '.', 'The', 'Clinton', 'administration', 'is', 'trying', 'to', 'persuade', 'North', 'Korea', 'to', 'halt', 'its', 'ballistic', 'missile', 'program', 'as', 'a', 'way', 'it', 'can', 'get', 'off', 'the', 'list', '.', 'There', \"'\", 's', 'no', 'word', 'yet', 'when', 'Al', '##bright', \"'\", 's', 'trip', 'will', 'take', 'place', '.', '[SEP]']\n"
     ]
    }
   ],
   "source": [
    "# doc = 224\n",
    "# doc = 124\n",
    "doc = 67\n",
    "clusters = all_clusters[0]\n",
    "gold = eval_data[doc][\"clusters\"]\n",
    "print (eval_data[doc][\"doc_key\"])\n",
    "print(eval_data[doc][\"sentences\"][0])"
   ]
  },
  {
   "cell_type": "code",
   "execution_count": 6,
   "metadata": {},
   "outputs": [
    {
     "name": "stdout",
     "output_type": "stream",
     "text": [
      "[2, 1, 1, 2, 1, 8, 1, 1, 1, 1, 1, 1, 1, 2, 1, 1, 1, 1, 2, 3, 1, 1, 1, 1, 1, 1, 1, 1, 2, 1, 1, 1, 1, 1, 1, 2, 1, 1, 1, 1, 1]\n",
      "[0, 3, 5, 13, 18, 19, 28, 35]\n",
      "56 56\n",
      "[['President Clinton', 'Clinton'], ['travel', \"Albright ' s trip\"], ['North Korea', 'that country', 'North Korea', \"North Korea ' s\", 'The country', 'North Korea', 'its', 'it'], ['The announcement', 'the unexpected announcement'], ['Washington', 'Washington'], ['Secretary of State Madeleine Albright', 'She', \"Albright ' s\"], ['a dinner', 'the event'], ['a U . S . list of nations that sponsor terrorism', 'the list']]\n",
      "56\n",
      "{(1, 2): 0, (99, 99): 0, (6, 7): 1, (109, 109): 1, (116, 116): 1, (105, 106): 1, (82, 83): 1, (47, 48): 1, (71, 74): 1, (15, 16): 1, (69, 69): 2, (33, 33): 2, (35, 40): 3, (130, 133): 3, (58, 58): 3, (130, 134): 4, (46, 46): 4, (79, 80): 5, (64, 69): 5, (120, 121): 6, (86, 96): 6}\n",
      "['0.46', '0.54', '1.00', '1.00', '0.50', '0.50', '1.00', '0.21', '0.15', '0.06', '0.14', '0.21', '0.14', '0.05', '0.04', '1.00', '1.00', '1.00', '1.00', '1.00', '1.00', '1.00', '0.64', '0.36', '1.00', '1.00', '1.00', '1.00', '0.50', '0.50', '0.23', '0.25', '0.52', '1.00', '1.00', '1.00', '1.00', '1.00', '1.00', '1.00', '1.00', '0.74', '0.26', '1.00', '1.00', '1.00', '1.00', '1.00', '1.00', '0.46', '0.54', '1.00', '1.00', '1.00', '1.00', '1.00']\n"
     ]
    }
   ],
   "source": [
    "c = [s for s in clusters.get_cluster_embs()]\n",
    "sizes = [len(s[1]) for s in c]\n",
    "print (sizes)\n",
    "labels = util.flatten([[[idx, emb.cpu().numpy()] for emb in embs] for idx, embs in c])\n",
    "multilabels = [i for i, c in enumerate(sizes) if c > 1]\n",
    "print (multilabels)\n",
    "# [[span.bracket_string() for span in cluster.spans] for i, cluster in enumerate(clusters.clusters) if i in multilabels]\n",
    "unflat_strings = [[\" \".join(span.bracket_string()).replace(\" ##\", \"\") for span in cluster.spans] for cluster in clusters.clusters]\n",
    "strings = util.flatten(unflat_strings)\n",
    "alpha = util.flatten([[f\"{w:.2f}\" for w in cluster.merge_data] for cluster in clusters.clusters])\n",
    "print (len(labels), len(strings))\n",
    "print ([s for s in unflat_strings if len(s) > 1])\n",
    "gold_map = {tuple(t): i for i, cluster in enumerate(gold) for t in cluster}\n",
    "gold_labels = util.flatten([[gold_map.get((span.start, span.end), -1) for span in cluster.spans] for cluster in clusters.clusters])\n",
    "print (len(gold_labels))\n",
    "print (gold_map)\n",
    "print (alpha)"
   ]
  },
  {
   "cell_type": "code",
   "execution_count": 7,
   "metadata": {},
   "outputs": [],
   "source": [
    "import seaborn as sns; sns.set()\n",
    "def mscatter(x,y, ax=None, m=None, **kw):\n",
    "    import matplotlib.markers as mmarkers\n",
    "    ax = ax or plt.gca()\n",
    "    sc = ax.scatter(x,y,**kw)\n",
    "    if (m is not None) and (len(m)==len(x)):\n",
    "        paths = []\n",
    "        for marker in m:\n",
    "            if isinstance(marker, mmarkers.MarkerStyle):\n",
    "                marker_obj = marker\n",
    "            else:\n",
    "                marker_obj = mmarkers.MarkerStyle(marker)\n",
    "            path = marker_obj.get_path().transformed(\n",
    "                        marker_obj.get_transform())\n",
    "            paths.append(path)\n",
    "        sc.set_paths(paths)\n",
    "    return sc"
   ]
  },
  {
   "cell_type": "code",
   "execution_count": 63,
   "metadata": {},
   "outputs": [],
   "source": [
    "from sklearn.manifold import TSNE\n",
    "\n",
    "def do(rs):\n",
    "    model = TSNE(n_components=2, random_state=rs)\n",
    "    #Note that the following line might use a good chunk of RAM\n",
    "    z_embed = model.fit_transform([l[1] for l in labels])\n",
    "    z_labels = [l[0] for l in labels]\n",
    "    print (z_labels)\n",
    "    return z_embed, z_labels"
   ]
  },
  {
   "cell_type": "code",
   "execution_count": 100,
   "metadata": {},
   "outputs": [],
   "source": [
    "def plot(rs):\n",
    "    z_embed, z_labels = do(rs)\n",
    "    fig, ax = plt.subplots()\n",
    "    fig.set_size_inches(4, 4)\n",
    "    # lz_embed = list(zip(z_embed, new_labels))\n",
    "    colors = ['b', 'r', 'y', 'c', 'm', 'tab:purple', 'tab:olive', 'tab:pink', 'tab:orange', 'tab:brown', 'tab:cyan']\n",
    "    markers = ['v', '^', '<', '>', '8', 's', 'p', 'P', '*', 'h', '+', 'x']\n",
    "    if len(multilabels) > len(colors):\n",
    "        print (\"need more colors\")\n",
    "    color_map = dict(zip(multilabels, colors))\n",
    "    marker_map = dict(zip(multilabels, markers))\n",
    "    def map_color(label):\n",
    "        return color_map.get(label, 'xkcd:light grey')\n",
    "    def map_shape(label):\n",
    "        return marker_map.get(label, 'o')\n",
    "    mapped_colors = [map_color(l) for l in z_labels]\n",
    "    mapped_shapes = [map_shape(l) for l in z_labels]\n",
    "    mscatter(z_embed[:,0], z_embed[:, 1], ax=ax, color=mapped_colors, m=mapped_shapes, s=36)\n",
    "    ax.set_yticks([])\n",
    "    ax.set_xticks([])\n",
    "    for i, txt in enumerate(z_labels):\n",
    "        if txt in multilabels or gold_labels[i] != -1:\n",
    "            # print(strings[i])\n",
    "            if gold_labels[i] == \"-1\": \n",
    "                tag = \" (X)\"\n",
    "            elif txt in multilabels:\n",
    "                tag = f\" ({gold_labels[i]}, {alpha[i]})\"\n",
    "            else:\n",
    "                tag = f\" ({gold_labels[i]})\"\n",
    "#             if strings[i] == \"She\":\n",
    "#                 offset = (1.5/3, 2.5/3)\n",
    "#             elif \"terrorism\" in strings[i]:\n",
    "#                 strings[i] = \"a U . S . list of nations \\nthat sponsor terrorism\"\n",
    "#                 offset = (3.5/3, -5.4/3)\n",
    "#             elif \"last night\" in strings[i]:\n",
    "#                 strings[i] = \"a dinner last night \\nin Washington\"\n",
    "#                 offset = (3/3, -5.4/3)\n",
    "#             else:\n",
    "            offset = (3/3, -1.4/3)\n",
    "            ax.annotate(strings[i] + tag, z_embed[i], xytext=z_embed[i] + offset, fontsize=10)\n",
    "        # elif txt % 12 == 2:\n",
    "        #    ax.annotate(strings[i], z_embed[i], xytext=z_embed[i] + (0.25, -1), fontsize=14)\n",
    "\n",
    "    # import matplotlib.patches as mpatches\n",
    "\n",
    "    # classes = ['ARG*','R-ARG*','C-ARG*']\n",
    "    # class_colours = ['b','r','y']\n",
    "    # recs = []\n",
    "    # for i in range(0,len(class_colours)):\n",
    "    #    recs.append(mpatches.Rectangle((0,0),0.5,0.5,fc=class_colours[i]))\n",
    "    # plt.legend(recs,classes,loc=4)\n",
    "    plt.axis('off')\n",
    "    plt.gca().set_position([0, 0, 1, 1])\n",
    "    #plt.savefig(\"dev67.svg\")\n",
    "    # plt.savefig('dev12.svg')"
   ]
  },
  {
   "cell_type": "code",
   "execution_count": 110,
   "metadata": {},
   "outputs": [
    {
     "name": "stdout",
     "output_type": "stream",
     "text": [
      "[0, 0, 1, 2, 3, 3, 4, 5, 5, 5, 5, 5, 5, 5, 5, 6, 7, 8, 9, 10, 11, 12, 13, 13, 14, 15, 16, 17, 18, 18, 19, 19, 19, 20, 21, 22, 23, 24, 25, 26, 27, 28, 28, 29, 30, 31, 32, 33, 34, 35, 35, 36, 37, 38, 39, 40]\n"
     ]
    },
    {
     "data": {
      "image/png": "[encoded data removed]",
      "text/plain": [
       "<Figure size 288x288 with 1 Axes>"
      ]
     },
     "metadata": {},
     "output_type": "display_data"
    }
   ],
   "source": [
    "plot(63)"
   ]
  },
  {
   "cell_type": "code",
   "execution_count": null,
   "metadata": {},
   "outputs": [],
   "source": []
  }
 ],
 "metadata": {
  "kernelspec": {
   "display_name": "Python 3",
   "language": "python",
   "name": "python3"
  },
  "language_info": {
   "codemirror_mode": {
    "name": "ipython",
    "version": 3
   },
   "file_extension": ".py",
   "mimetype": "text/x-python",
   "name": "python",
   "nbconvert_exporter": "python",
   "pygments_lexer": "ipython3",
   "version": "3.7.0"
  }
 },
 "nbformat": 4,
 "nbformat_minor": 4
}
