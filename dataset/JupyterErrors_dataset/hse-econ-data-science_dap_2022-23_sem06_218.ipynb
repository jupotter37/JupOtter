{
 "cells": [
  {
   "cell_type": "markdown",
   "id": "fab2bdd7",
   "metadata": {},
   "source": [
    "# Семинар 6 у 218!"
   ]
  },
  {
   "cell_type": "code",
   "execution_count": 11,
   "id": "f7a5bb44",
   "metadata": {},
   "outputs": [],
   "source": [
    "def test_problem(func, test_data):\n",
    "    for inputs, true_answer in test_data:\n",
    "        answer = func(inputs)\n",
    "        assert answer == true_answer, f'Expected {true_answer}, got {answer}. Input: {inputs}'\n",
    "    print(\"OK!\")\n",
    "    \n",
    "def test_problem_13(func, test_data):\n",
    "    for inputs, true_answer in test_data:\n",
    "        answer = func(*inputs)\n",
    "        assert answer == true_answer, f'Expected {true_answer}, got {answer}. Input: {inputs}'\n",
    "    print(\"OK!\")"
   ]
  },
  {
   "cell_type": "markdown",
   "id": "da71c338",
   "metadata": {},
   "source": [
    "# Задание 1\n",
    "\n",
    "Вам предостоит обработать базу данных о продажах некоторого интернет-магазина.\n",
    "\n",
    "База данных представляет собой набор кортежей, в каждом кортеже три элемента: (Покупатель, товар, количество), где Покупатель — имя покупателя (строка без пробелов), товар — название товара (строка без пробелов), количество — количество приобретенных единиц товара. \n",
    "\n",
    "Создайте словарь, ключами которого являются имена покупателей, а значениями — словари, ключами которых являются названия товаров, а значениями — количество единиц этого товара, которые купил этот покупатель. Напишите функцию aggregate, принимающую некоторое количество набор кортежей из базы данных и возвращающую сводную информацию в виде словаря."
   ]
  },
  {
   "cell_type": "code",
   "execution_count": 12,
   "id": "74a87995",
   "metadata": {},
   "outputs": [],
   "source": [
    "names = [(\"Petrov\", \"pens\",5), (\"Ivanov\", \"marker\",3), (\"Ivanov\", \"paper\",7), \n",
    "      (\"Petrov\",\"envelope\",20), (\"Ivanov\",\"envelope\",5), (\"Petrov\", \"pens\", 20)]"
   ]
  },
  {
   "cell_type": "code",
   "execution_count": 13,
   "id": "86561d8a",
   "metadata": {},
   "outputs": [],
   "source": [
    "def aggregate(names):\n",
    "    agg = dict()\n",
    "\n",
    "    for name, good, count in names:\n",
    "        if name in agg:\n",
    "            if good in agg[name]:\n",
    "                agg[name][good] += count\n",
    "            else:\n",
    "                agg[name][good] = count\n",
    "        else:\n",
    "            agg[name] = dict()\n",
    "            agg[name][good] = count\n",
    "    return agg"
   ]
  },
  {
   "cell_type": "code",
   "execution_count": 15,
   "id": "cdf8dc12",
   "metadata": {},
   "outputs": [
    {
     "data": {
      "text/plain": [
       "{'Petrov': {'pens': 25, 'envelope': 20},\n",
       " 'Ivanov': {'marker': 3, 'paper': 7, 'envelope': 5}}"
      ]
     },
     "execution_count": 15,
     "metadata": {},
     "output_type": "execute_result"
    }
   ],
   "source": [
    "aggregate(names)"
   ]
  },
  {
   "cell_type": "code",
   "execution_count": 16,
   "id": "5a656039",
   "metadata": {},
   "outputs": [
    {
     "ename": "TypeError",
     "evalue": "unhashable type: 'list'",
     "output_type": "error",
     "traceback": [
      "\u001b[0;31m---------------------------------------------------------------------------\u001b[0m",
      "\u001b[0;31mTypeError\u001b[0m                                 Traceback (most recent call last)",
      "\u001b[0;32m<ipython-input-16-13b2d77d57f3>\u001b[0m in \u001b[0;36m<module>\u001b[0;34m\u001b[0m\n\u001b[0;32m----> 1\u001b[0;31m \u001b[0;34m{\u001b[0m\u001b[0;34m[\u001b[0m\u001b[0;36m1\u001b[0m\u001b[0;34m,\u001b[0m\u001b[0;36m2\u001b[0m\u001b[0;34m]\u001b[0m\u001b[0;34m:\u001b[0m \u001b[0;34m'ахаха'\u001b[0m\u001b[0;34m}\u001b[0m\u001b[0;34m\u001b[0m\u001b[0;34m\u001b[0m\u001b[0m\n\u001b[0m",
      "\u001b[0;31mTypeError\u001b[0m: unhashable type: 'list'"
     ]
    }
   ],
   "source": [
    "{[1,2]: 'ахаха'} # ключами могут быть только неизменяемые объекты"
   ]
  },
  {
   "cell_type": "code",
   "execution_count": 17,
   "id": "d901a70c",
   "metadata": {},
   "outputs": [
    {
     "data": {
      "text/plain": [
       "{(1, 2): 'ахаха'}"
      ]
     },
     "execution_count": 17,
     "metadata": {},
     "output_type": "execute_result"
    }
   ],
   "source": [
    "{(1,2): 'ахаха'}"
   ]
  },
  {
   "cell_type": "code",
   "execution_count": 18,
   "id": "4d06a4d3",
   "metadata": {},
   "outputs": [
    {
     "data": {
      "text/plain": [
       "{'ахаха': [1, 2]}"
      ]
     },
     "execution_count": 18,
     "metadata": {},
     "output_type": "execute_result"
    }
   ],
   "source": [
    "{'ахаха': [1,2]} # значениями могут быть любые объекты :)"
   ]
  },
  {
   "cell_type": "code",
   "execution_count": 14,
   "id": "17331b52",
   "metadata": {},
   "outputs": [
    {
     "name": "stdout",
     "output_type": "stream",
     "text": [
      "OK!\n"
     ]
    }
   ],
   "source": [
    "AGG_TESTS_DATA = [\n",
    "    ([(\"Petrov\",\"pens\",5), (\"Ivanov\",\"marker\",3), (\"Ivanov\",\"paper\",7), \n",
    "      (\"Petrov\",\"envelope\",20), (\"Ivanov\",\"envelope\",5)], \n",
    "     {'Petrov': {'pens': 5, 'envelope': 20}, \n",
    "      'Ivanov': {'marker': 3, 'paper': 7, 'envelope': 5}}),\n",
    "    \n",
    "    ([(\"Ivanov\",\"aaa\",1), (\"Petrov\",\"aaa\",2), (\"Sidorov\",\"aaa\",3), (\"Ivanov\",\"aaa\",6), \n",
    "      (\"Petrov\",\"aaa\",7), (\"Sidorov\",\"aaa\",8), (\"Ivanov\",\"bbb\",3), (\"Petrov\",\"bbb\",7), \n",
    "      (\"Sidorov\",\"aaa\",345), (\"Ivanov\",\"ccc\",45), (\"Petrov\",\"ddd\",34), \n",
    "      (\"Ziborov\",\"eee\",234), (\"Ivanov\",\"aaa\",45)],\n",
    "    {'Ivanov': {'aaa': 52, 'bbb': 3, 'ccc': 45},\n",
    "     'Petrov': {'aaa': 9, 'bbb': 7, 'ddd': 34},\n",
    "     'Sidorov': {'aaa': 356},\n",
    "     'Ziborov': {'eee': 234}})\n",
    "]\n",
    "test_problem(aggregate, AGG_TESTS_DATA)"
   ]
  },
  {
   "cell_type": "markdown",
   "id": "fc95ab44",
   "metadata": {},
   "source": [
    "## Задачка 2: одинаковые строки\n",
    "\n",
    "Напишите функцию, которая приенимает на вход две строки и возвращает True, если перестановкой символов можно получить вторую строку из первой.\n"
   ]
  },
  {
   "cell_type": "code",
   "execution_count": 25,
   "id": "795c2062",
   "metadata": {},
   "outputs": [
    {
     "data": {
      "text/plain": [
       "21"
      ]
     },
     "execution_count": 25,
     "metadata": {},
     "output_type": "execute_result"
    }
   ],
   "source": [
    "x = [1, 2, 3, 4, 5, 6]\n",
    "sum(x)  # O(n) секретный цикл "
   ]
  },
  {
   "cell_type": "code",
   "execution_count": 30,
   "id": "62876ba9",
   "metadata": {},
   "outputs": [
    {
     "data": {
      "text/plain": [
       "6"
      ]
     },
     "execution_count": 30,
     "metadata": {},
     "output_type": "execute_result"
    }
   ],
   "source": [
    "len(x)  # O(1) "
   ]
  },
  {
   "cell_type": "code",
   "execution_count": 23,
   "id": "389352fd",
   "metadata": {},
   "outputs": [],
   "source": [
    "def is_isomorphic(a, b):\n",
    "    a = sorted(a)      # O(n*log(n))\n",
    "    b = sorted(b)      # O(n*log(n))\n",
    "    \n",
    "    if len(a) != len(b):  # O(1)\n",
    "        return False\n",
    "    else:\n",
    "        for l1, l2 in zip(a, b):  # O(n)\n",
    "            if l1 != l2:\n",
    "                return False\n",
    "    return True\n",
    "\n",
    "# T(n) = O(n*log(n)) + O(n*log(n)) + O(n) = O(n*log(n))\n",
    "# M(n) = O(1)"
   ]
  },
  {
   "cell_type": "code",
   "execution_count": 24,
   "id": "e225487f",
   "metadata": {},
   "outputs": [
    {
     "name": "stdout",
     "output_type": "stream",
     "text": [
      "OK!\n"
     ]
    }
   ],
   "source": [
    "TEST_DATA = [\n",
    "    (('foo', 'bar'), False),\n",
    "    (('foo', 'oof'), True),\n",
    "    (('a', 'a'), True),\n",
    "    (('aaa', 'aaab'), False),\n",
    "    (('140', '041'), True),\n",
    "]\n",
    "\n",
    "test_problem_13(is_isomorphic, TEST_DATA)"
   ]
  },
  {
   "cell_type": "code",
   "execution_count": 19,
   "id": "a78f9b04",
   "metadata": {},
   "outputs": [],
   "source": [
    "a = 'foo'\n",
    "b = 'oof'\n",
    "\n",
    "a = sorted(a)\n",
    "b = sorted(b)"
   ]
  },
  {
   "cell_type": "code",
   "execution_count": 20,
   "id": "102202be",
   "metadata": {},
   "outputs": [
    {
     "data": {
      "text/plain": [
       "(['f', 'o', 'o'], ['f', 'o', 'o'])"
      ]
     },
     "execution_count": 20,
     "metadata": {},
     "output_type": "execute_result"
    }
   ],
   "source": [
    "a, b"
   ]
  },
  {
   "cell_type": "code",
   "execution_count": 22,
   "id": "8412090c",
   "metadata": {},
   "outputs": [
    {
     "data": {
      "text/plain": [
       "[('f', 'f'), ('o', 'o'), ('o', 'o')]"
      ]
     },
     "execution_count": 22,
     "metadata": {},
     "output_type": "execute_result"
    }
   ],
   "source": [
    "list(zip(a, b))"
   ]
  },
  {
   "cell_type": "code",
   "execution_count": 36,
   "id": "e68d9deb",
   "metadata": {},
   "outputs": [],
   "source": [
    "def dict_iter(word):\n",
    "    d = dict()\n",
    "    for letter in word:\n",
    "        if letter in d:\n",
    "            d[letter] += 1\n",
    "        else:\n",
    "            d[letter] = 1\n",
    "    return d\n",
    "\n",
    "\n",
    "def is_isomorphic(a, b):\n",
    "    if len(a) != len(b):  # O(1)\n",
    "        return False\n",
    "    \n",
    "    d_a = dict_iter(a)    # O(n)\n",
    "    d_b = dict_iter(b)    # O(n)\n",
    "    \n",
    "    # https://stackoverflow.com/questions/57346276/what-is-the-time-complexity-of-comparing-2-dictionaries-in-python\n",
    "    return d_a == d_b     # O(n) либо O(1)\n",
    "\n",
    "# T(n) = O(n)\n",
    "# M(n) = O(n)"
   ]
  },
  {
   "cell_type": "code",
   "execution_count": 37,
   "id": "e58ccaae",
   "metadata": {},
   "outputs": [
    {
     "name": "stdout",
     "output_type": "stream",
     "text": [
      "OK!\n"
     ]
    }
   ],
   "source": [
    "TEST_DATA = [\n",
    "    (('foo', 'bar'), False),\n",
    "    (('foo', 'oof'), True),\n",
    "    (('a', 'a'), True),\n",
    "    (('aaa', 'aaab'), False),\n",
    "    (('140', '041'), True),\n",
    "]\n",
    "\n",
    "test_problem_13(is_isomorphic, TEST_DATA)"
   ]
  },
  {
   "cell_type": "code",
   "execution_count": 38,
   "id": "190cdfbf",
   "metadata": {},
   "outputs": [
    {
     "data": {
      "text/plain": [
       "False"
      ]
     },
     "execution_count": 38,
     "metadata": {},
     "output_type": "execute_result"
    }
   ],
   "source": [
    "{ 1: [1,4,2,5] } == { 1 : [1,4,2,6] }\n"
   ]
  },
  {
   "cell_type": "code",
   "execution_count": 39,
   "id": "b24e0263",
   "metadata": {},
   "outputs": [
    {
     "data": {
      "text/plain": [
       "False"
      ]
     },
     "execution_count": 39,
     "metadata": {},
     "output_type": "execute_result"
    }
   ],
   "source": [
    "{ 1: [1,4,2,5] } == { 1 : [1,4,5,2] }"
   ]
  },
  {
   "cell_type": "code",
   "execution_count": 41,
   "id": "709c2f56",
   "metadata": {},
   "outputs": [
    {
     "ename": "KeyError",
     "evalue": "5",
     "output_type": "error",
     "traceback": [
      "\u001b[0;31m---------------------------------------------------------------------------\u001b[0m",
      "\u001b[0;31mKeyError\u001b[0m                                  Traceback (most recent call last)",
      "\u001b[0;32m<ipython-input-41-d8ed2bd2267d>\u001b[0m in \u001b[0;36m<module>\u001b[0;34m\u001b[0m\n\u001b[1;32m      1\u001b[0m \u001b[0ma\u001b[0m \u001b[0;34m=\u001b[0m \u001b[0;34m{\u001b[0m\u001b[0;36m1\u001b[0m\u001b[0;34m:\u001b[0m\u001b[0;36m2\u001b[0m\u001b[0;34m,\u001b[0m \u001b[0;36m3\u001b[0m\u001b[0;34m:\u001b[0m\u001b[0;36m4\u001b[0m\u001b[0;34m}\u001b[0m\u001b[0;34m\u001b[0m\u001b[0;34m\u001b[0m\u001b[0m\n\u001b[0;32m----> 2\u001b[0;31m \u001b[0ma\u001b[0m\u001b[0;34m[\u001b[0m\u001b[0;36m5\u001b[0m\u001b[0;34m]\u001b[0m\u001b[0;34m\u001b[0m\u001b[0;34m\u001b[0m\u001b[0m\n\u001b[0m",
      "\u001b[0;31mKeyError\u001b[0m: 5"
     ]
    }
   ],
   "source": [
    "a = {1:2, 3:4}\n",
    "a[5]"
   ]
  },
  {
   "cell_type": "code",
   "execution_count": 42,
   "id": "c8329cb9",
   "metadata": {},
   "outputs": [
    {
     "data": {
      "text/plain": [
       "'ахахах'"
      ]
     },
     "execution_count": 42,
     "metadata": {},
     "output_type": "execute_result"
    }
   ],
   "source": [
    "a.get(5, 'ахахах')"
   ]
  },
  {
   "cell_type": "code",
   "execution_count": 44,
   "id": "a1383715",
   "metadata": {},
   "outputs": [
    {
     "data": {
      "text/plain": [
       "4"
      ]
     },
     "execution_count": 44,
     "metadata": {},
     "output_type": "execute_result"
    }
   ],
   "source": [
    "a.get(3, 'ахахах')"
   ]
  },
  {
   "cell_type": "markdown",
   "id": "c9f599d1",
   "metadata": {},
   "source": [
    "## Задачка 4. Последовательность ДНК.\n"
   ]
  },
  {
   "cell_type": "markdown",
   "id": "c5b19d00",
   "metadata": {},
   "source": [
    "Последовательность ДНК содержит четыре вида символов: 'A', 'C', 'G', и 'T'. Напишите функцию, которая будет возращать все подпоследовательности длины 10, которые встретились чаще одного раза.\n",
    "\n"
   ]
  },
  {
   "cell_type": "markdown",
   "id": "1914e5a5",
   "metadata": {},
   "source": [
    "https://leetcode.com/problems/repeated-dna-sequences/submissions/"
   ]
  },
  {
   "cell_type": "code",
   "execution_count": 58,
   "id": "afc68595",
   "metadata": {},
   "outputs": [],
   "source": [
    "def repeated_dna(s):\n",
    "    d = set()\n",
    "    ans = set()\n",
    "\n",
    "    for i in range(len(s) - 9):\n",
    "        subseq = s[i:(i + 10)]\n",
    "        if subseq in d:\n",
    "            ans.add(subseq)\n",
    "        else:\n",
    "            d.add(subseq)\n",
    "    return sorted(ans)"
   ]
  },
  {
   "cell_type": "code",
   "execution_count": 59,
   "id": "4dbbf54e",
   "metadata": {},
   "outputs": [
    {
     "data": {
      "text/plain": [
       "['AAAAACCCCC', 'CCCCCAAAAA']"
      ]
     },
     "execution_count": 59,
     "metadata": {},
     "output_type": "execute_result"
    }
   ],
   "source": [
    "s = 'AAAAACCCCCAAAAACCCCCCAAAAAGGGTTT'\n",
    "repeated_dna(s)"
   ]
  },
  {
   "cell_type": "code",
   "execution_count": 60,
   "id": "1a38f831",
   "metadata": {},
   "outputs": [
    {
     "name": "stdout",
     "output_type": "stream",
     "text": [
      "OK!\n"
     ]
    }
   ],
   "source": [
    "TEST_DATA = [\n",
    "    ('AAAAACCCCCAAAAACCCCCCAAAAAGGGTTT', ['AAAAACCCCC','CCCCCAAAAA']),\n",
    "    ('AAAAAAAAAAAAA', ['AAAAAAAAAA']),\n",
    "]\n",
    "\n",
    "test_problem(repeated_dna, TEST_DATA)"
   ]
  },
  {
   "cell_type": "code",
   "execution_count": null,
   "id": "4db230ff",
   "metadata": {},
   "outputs": [],
   "source": [
    "# Наш первый вариант:\n",
    "\n",
    "def findRepeatedDnaSequences(s):\n",
    "    \"\"\"\n",
    "    :type s: str\n",
    "    :rtype: List[str]\n",
    "    \"\"\"\n",
    "    d = dict()\n",
    "\n",
    "    for i in range(len(s) - 9):\n",
    "        subseq = s[i:(i + 10)]\n",
    "        if subseq in d:\n",
    "            d[subseq] +=1 \n",
    "        else:\n",
    "            d[subseq] = 1\n",
    "\n",
    "    ans = []\n",
    "    for k, v in d.items():\n",
    "        if v >= 2:\n",
    "            ans.append(k)\n",
    "    return ans"
   ]
  },
  {
   "cell_type": "markdown",
   "id": "fca3b36b",
   "metadata": {},
   "source": [
    "- Runtime: 143 ms, faster than 10.07% of Python online submissions for Repeated DNA Sequences.\n",
    "- Memory Usage: 40.3 MB, less than 6.14% of Python online submissions for Repeated DNA Sequences.\n"
   ]
  },
  {
   "cell_type": "markdown",
   "id": "3df4d6bc",
   "metadata": {},
   "source": [
    "- Runtime: 67 ms, faster than 69.78% of Python online submissions for Repeated DNA Sequences.\n",
    "- Memory Usage: 34.3 MB, less than 37.35% of Python online submissions for Repeated DNA Sequences."
   ]
  },
  {
   "cell_type": "markdown",
   "id": "990c7a6b",
   "metadata": {},
   "source": [
    "- Runtime: 71 ms, faster than 63.15% of Python online submissions for Repeated DNA Sequences.\n",
    "- Memory Usage: 31.5 MB, less than 46.93% of Python online submissions for Repeated DNA Sequences."
   ]
  },
  {
   "cell_type": "markdown",
   "id": "c7f1f126",
   "metadata": {},
   "source": [
    " "
   ]
  }
 ],
 "metadata": {
  "kernelspec": {
   "display_name": "Python 3",
   "language": "python",
   "name": "python3"
  },
  "language_info": {
   "codemirror_mode": {
    "name": "ipython",
    "version": 3
   },
   "file_extension": ".py",
   "mimetype": "text/x-python",
   "name": "python",
   "nbconvert_exporter": "python",
   "pygments_lexer": "ipython3",
   "version": "3.6.9"
  }
 },
 "nbformat": 4,
 "nbformat_minor": 5
}
