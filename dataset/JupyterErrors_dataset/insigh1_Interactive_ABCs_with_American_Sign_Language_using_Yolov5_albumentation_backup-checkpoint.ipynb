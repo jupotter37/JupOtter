{
 "cells": [
  {
   "cell_type": "code",
   "execution_count": 1,
   "metadata": {
    "execution": {
     "iopub.execute_input": "2020-09-24T03:33:06.662895Z",
     "iopub.status.busy": "2020-09-24T03:33:06.662623Z",
     "iopub.status.idle": "2020-09-24T03:33:06.982489Z",
     "shell.execute_reply": "2020-09-24T03:33:06.982002Z",
     "shell.execute_reply.started": "2020-09-24T03:33:06.662826Z"
    }
   },
   "outputs": [],
   "source": [
    "import cv2\n",
    "import albumentations as A"
   ]
  },
  {
   "cell_type": "code",
   "execution_count": null,
   "metadata": {},
   "outputs": [],
   "source": []
  },
  {
   "cell_type": "code",
   "execution_count": null,
   "metadata": {},
   "outputs": [],
   "source": []
  },
  {
   "cell_type": "code",
   "execution_count": 3,
   "metadata": {
    "execution": {
     "iopub.execute_input": "2020-09-24T03:34:12.930777Z",
     "iopub.status.busy": "2020-09-24T03:34:12.930549Z",
     "iopub.status.idle": "2020-09-24T03:34:12.933780Z",
     "shell.execute_reply": "2020-09-24T03:34:12.933222Z",
     "shell.execute_reply.started": "2020-09-24T03:34:12.930745Z"
    }
   },
   "outputs": [],
   "source": [
    "transform = A.Compose([\n",
    "    A.RandomCrop(1024, 1024),\n",
    "    A.HueSaturationValue(p= 0.3)\n",
    "])"
   ]
  },
  {
   "cell_type": "code",
   "execution_count": 4,
   "metadata": {
    "execution": {
     "iopub.execute_input": "2020-09-24T03:36:44.676060Z",
     "iopub.status.busy": "2020-09-24T03:36:44.675843Z",
     "iopub.status.idle": "2020-09-24T03:36:44.820046Z",
     "shell.execute_reply": "2020-09-24T03:36:44.819625Z",
     "shell.execute_reply.started": "2020-09-24T03:36:44.676037Z"
    }
   },
   "outputs": [],
   "source": [
    "image = cv2.imread('./images/test/A/A0.jpeg')\n",
    "image = cv2.cvtColor(image, cv2.COLOR_BGR2RGB)"
   ]
  },
  {
   "cell_type": "code",
   "execution_count": 5,
   "metadata": {
    "execution": {
     "iopub.execute_input": "2020-09-24T03:37:20.425916Z",
     "iopub.status.busy": "2020-09-24T03:37:20.425693Z",
     "iopub.status.idle": "2020-09-24T03:37:20.428874Z",
     "shell.execute_reply": "2020-09-24T03:37:20.428313Z",
     "shell.execute_reply.started": "2020-09-24T03:37:20.425893Z"
    }
   },
   "outputs": [],
   "source": [
    "augmented = transform(image=image)\n",
    "augmented_image = augmented['image']"
   ]
  },
  {
   "cell_type": "markdown",
   "metadata": {},
   "source": [
    "# example with mask"
   ]
  },
  {
   "cell_type": "code",
   "execution_count": 7,
   "metadata": {
    "execution": {
     "iopub.execute_input": "2020-09-24T03:40:39.923632Z",
     "iopub.status.busy": "2020-09-24T03:40:39.923414Z",
     "iopub.status.idle": "2020-09-24T03:40:39.926194Z",
     "shell.execute_reply": "2020-09-24T03:40:39.925613Z",
     "shell.execute_reply.started": "2020-09-24T03:40:39.923608Z"
    }
   },
   "outputs": [],
   "source": [
    "# # more advanced with mask\n",
    "# mask = cv2.imread('mask.png')\n",
    "# mask = cv2.cvtColor(mask, cv2.COLOR_BGR2RGB)\n",
    "\n",
    "# augmented = transform(image=image, mask=mask)\n",
    "# augmented_image = augmented('image')\n",
    "# augmented_mask = augmented('mask')\n"
   ]
  },
  {
   "cell_type": "markdown",
   "metadata": {
    "execution": {
     "iopub.execute_input": "2020-09-24T03:41:28.358031Z",
     "iopub.status.busy": "2020-09-24T03:41:28.357712Z",
     "iopub.status.idle": "2020-09-24T03:41:28.361389Z",
     "shell.execute_reply": "2020-09-24T03:41:28.360711Z",
     "shell.execute_reply.started": "2020-09-24T03:41:28.357995Z"
    }
   },
   "source": [
    "# example with bbox augmentation"
   ]
  },
  {
   "cell_type": "code",
   "execution_count": null,
   "metadata": {},
   "outputs": [],
   "source": [
    "transform = A.Compose([\n",
    "    A.RandomCrop(1024, 1024),\n",
    "    A.HueSaturationValue(p= 0.3)\n",
    "], bbox_params={'format': 'coco'})\n",
    "\n",
    "image = cv2.imread('./images/test/A/A0.jpeg')\n",
    "image = cv2.cvtColor(image, cv2.COLOR_BGR2RGB)\n",
    "\n",
    "bboxes = read_bboxes_from_file(...)\n",
    "# [x, y, width, height, label]  for coco\n",
    "\n",
    "augmented = transform(image=image, bboxes=bboxes)\n",
    "augmented_image = augmented('image')\n",
    "augmented_bboxes = augmented('bboxes')\n"
   ]
  },
  {
   "cell_type": "markdown",
   "metadata": {},
   "source": [
    "# example with keypoints augmentation"
   ]
  },
  {
   "cell_type": "code",
   "execution_count": 9,
   "metadata": {
    "execution": {
     "iopub.execute_input": "2020-09-24T03:46:07.650997Z",
     "iopub.status.busy": "2020-09-24T03:46:07.650772Z",
     "iopub.status.idle": "2020-09-24T03:46:07.653384Z",
     "shell.execute_reply": "2020-09-24T03:46:07.652892Z",
     "shell.execute_reply.started": "2020-09-24T03:46:07.650972Z"
    }
   },
   "outputs": [],
   "source": [
    "# transform = A.Compose([\n",
    "#     A.RandomCrop(1024, 1024),\n",
    "#     A.HueSaturationValue(p= 0.3)\n",
    "# ], keypoint_params={'format': 'xy'})\n",
    "\n",
    "# image = cv2.imread('./images/test/A/A0.jpeg')\n",
    "# image = cv2.cvtColor(image, cv2.COLOR_BGR2RGB)\n",
    "\n",
    "# keypoints = read_bboxes_from_file(...)\n",
    "# # [x, y]\n",
    "\n",
    "# augmented = transform(image=image, keypoints=keypoints)\n",
    "# augmented_image = augmented('image')\n",
    "# augmented_bboxes = augmented('keypoints')"
   ]
  },
  {
   "cell_type": "code",
   "execution_count": 10,
   "metadata": {
    "execution": {
     "iopub.execute_input": "2020-09-24T03:50:14.928567Z",
     "iopub.status.busy": "2020-09-24T03:50:14.928343Z",
     "iopub.status.idle": "2020-09-24T03:50:14.930890Z",
     "shell.execute_reply": "2020-09-24T03:50:14.930391Z",
     "shell.execute_reply.started": "2020-09-24T03:50:14.928543Z"
    }
   },
   "outputs": [],
   "source": [
    "# Suported augmentations:\n",
    "#     Size augmentations (Resize, SmallestMaxSize, PadIfNeeded)\n",
    "#     Crop (RandomCrop, CenterCrop, RandomSizedCrop)\n",
    "#     Color augmentations (RGBShift, HueSaturationValue, RandomRotate90, Flip, IAAPerspective)\n",
    "#     Blur augmentations (Blur, MotionBlur, MedianBlur, GlassBlur, ISONoise, MultiplicativeNoise)\n",
    "#     Distortion (OpticalDistortion, GridDistortion, ElasticTransform)\n",
    "#     Weather effects (RandomFog, RandomRain, RandomSunFlare)\n",
    "#     Other (Normalize, ToTensor, Lambda)"
   ]
  },
  {
   "cell_type": "markdown",
   "metadata": {
    "execution": {
     "iopub.execute_input": "2020-09-24T03:50:32.716212Z",
     "iopub.status.busy": "2020-09-24T03:50:32.715985Z",
     "iopub.status.idle": "2020-09-24T03:50:32.718534Z",
     "shell.execute_reply": "2020-09-24T03:50:32.718029Z",
     "shell.execute_reply.started": "2020-09-24T03:50:32.716187Z"
    }
   },
   "source": [
    "# Creating a custom augmentation pipeline"
   ]
  },
  {
   "cell_type": "code",
   "execution_count": null,
   "metadata": {},
   "outputs": [],
   "source": [
    "transform = A.Compose(\n",
    "    [\n",
    "        A.RandomBrightnessContrast(brightness_limit=0.1, contrast_limit=0.1),\n",
    "        A.RandomGamma(gamma_limit=(90, 110)),\n",
    "        A.ShiftScaleRotate(scale_limit=0.1, rotate_limit=10),\n",
    "        A.Transpose(),\n",
    "        A.RandomRotate90(),\n",
    "        A.MaskDropout(max_objects=10),\n",
    "        A.OneOf([A.NoOp(), A.MultiplicativeNoise(), A.GaussNoise(), A.ISONoise()]),\n",
    "        A.OneOf(\n",
    "            [\n",
    "                A.NoOp(p=0.8),\n",
    "                A.HueSaturationValue(hue_shift_limit=10, sat_shift_limit=10),\n",
    "                A.RGBShift(r_shift_limit=10, g_shift_limit=10, b_shift_limit=10),\n",
    "            ],\n",
    "            p=0.2,\n",
    "        ),\n",
    "        A.OneOf([A.ElasticTransform(), A.GridDistortion(), A.NoOp()])\n",
    "    ])"
   ]
  },
  {
   "cell_type": "markdown",
   "metadata": {},
   "source": [
    "# Augmentation example"
   ]
  },
  {
   "cell_type": "code",
   "execution_count": null,
   "metadata": {},
   "outputs": [],
   "source": [
    "iamge = cv2.imread('./images/test/A/A0.jpeg')\n",
    "mask = cv2.imread('anotherfile.tif')\n",
    "\n",
    "transform = A.Compose([\n",
    "    A.RandomSizedCrop((400, 600), 512, 512),\n",
    "    A.ShiftScaleRotate(),\n",
    "    A.RGBShift(),\n",
    "    A.Blur(),\n",
    "    A.GaussNoise(),\n",
    "    A.ElasticTransform(),\n",
    "    A.MaskDropout((10,15)),\n",
    "    A.CoarseDropout()\n",
    "])\n",
    "\n",
    "data = transform(image=image, mask=mask)"
   ]
  },
  {
   "cell_type": "markdown",
   "metadata": {},
   "source": [
    "# Example kaggle competition winner pipeline"
   ]
  },
  {
   "cell_type": "code",
   "execution_count": 12,
   "metadata": {
    "execution": {
     "iopub.execute_input": "2020-09-24T04:07:51.339831Z",
     "iopub.status.busy": "2020-09-24T04:07:51.339610Z",
     "iopub.status.idle": "2020-09-24T04:07:51.342315Z",
     "shell.execute_reply": "2020-09-24T04:07:51.341819Z",
     "shell.execute_reply.started": "2020-09-24T04:07:51.339806Z"
    }
   },
   "outputs": [],
   "source": [
    "# image = ... #[H,W,3]\n",
    "# masks = ... # [H,W]\n",
    "# bboxes = ... # [N, 4] (x,y,w,h)\n",
    "# labels = ... # [N]\n",
    "\n",
    "# transform = A.Compose([\n",
    "#     A.RGBShift(),\n",
    "#     A.InvertImg(),\n",
    "#     A.Blur(),\n",
    "#     A.GaussNoise(),\n",
    "#     A.Flip(),\n",
    "#     A.RandomRotate90(),\n",
    "#     A.RandomSizedCrop((400, 600), 512, 512) # Min-max height, width\n",
    "#     ],\n",
    "#     bbox_params={\n",
    "#         'format':'coco',\n",
    "#         'label_fields': ['nuclei_type']\n",
    "#     })\n",
    "    \n",
    "#     data = transform(image=image, mask=mask,\n",
    "#                     bboxes=bboxes, nuclei_type=labels)"
   ]
  },
  {
   "cell_type": "markdown",
   "metadata": {},
   "source": [
    "# Very heavy augmentation example"
   ]
  },
  {
   "cell_type": "code",
   "execution_count": 498,
   "metadata": {
    "execution": {
     "iopub.execute_input": "2020-09-25T15:34:49.996602Z",
     "iopub.status.busy": "2020-09-25T15:34:49.996381Z",
     "iopub.status.idle": "2020-09-25T15:34:49.999333Z",
     "shell.execute_reply": "2020-09-25T15:34:49.998800Z",
     "shell.execute_reply.started": "2020-09-25T15:34:49.996578Z"
    }
   },
   "outputs": [],
   "source": [
    "from matplotlib import pyplot as plt\n",
    "import pandas as pd\n",
    "import numpy as np"
   ]
  },
  {
   "cell_type": "code",
   "execution_count": 499,
   "metadata": {
    "execution": {
     "iopub.execute_input": "2020-09-25T15:34:50.176348Z",
     "iopub.status.busy": "2020-09-25T15:34:50.176167Z",
     "iopub.status.idle": "2020-09-25T15:34:50.357642Z",
     "shell.execute_reply": "2020-09-25T15:34:50.357298Z",
     "shell.execute_reply.started": "2020-09-25T15:34:50.176326Z"
    }
   },
   "outputs": [],
   "source": [
    "image = cv2.imread('./images/test/A/A0.jpeg')\n",
    "image = cv2.cvtColor(image, cv2.COLOR_BGR2RGB)"
   ]
  },
  {
   "cell_type": "code",
   "execution_count": 500,
   "metadata": {
    "execution": {
     "iopub.execute_input": "2020-09-25T15:34:50.523546Z",
     "iopub.status.busy": "2020-09-25T15:34:50.523445Z",
     "iopub.status.idle": "2020-09-25T15:34:50.525650Z",
     "shell.execute_reply": "2020-09-25T15:34:50.525390Z",
     "shell.execute_reply.started": "2020-09-25T15:34:50.523534Z"
    }
   },
   "outputs": [
    {
     "data": {
      "text/plain": [
       "3036"
      ]
     },
     "execution_count": 500,
     "metadata": {},
     "output_type": "execute_result"
    }
   ],
   "source": [
    "image.shape[1]"
   ]
  },
  {
   "cell_type": "code",
   "execution_count": 501,
   "metadata": {
    "execution": {
     "iopub.execute_input": "2020-09-25T15:34:50.892093Z",
     "iopub.status.busy": "2020-09-25T15:34:50.891980Z",
     "iopub.status.idle": "2020-09-25T15:34:51.521817Z",
     "shell.execute_reply": "2020-09-25T15:34:51.521403Z",
     "shell.execute_reply.started": "2020-09-25T15:34:50.892079Z"
    }
   },
   "outputs": [
    {
     "data": {
      "text/plain": [
       "<matplotlib.image.AxesImage at 0x7f804856f0d0>"
      ]
     },
     "execution_count": 501,
     "metadata": {},
     "output_type": "execute_result"
    },
    {
     "data": {
      "image/png": "[encoded data removed]",
      "text/plain": [
       "<Figure size 432x288 with 1 Axes>"
      ]
     },
     "metadata": {
      "needs_background": "light"
     },
     "output_type": "display_data"
    }
   ],
   "source": [
    "plt.imshow(image)"
   ]
  },
  {
   "cell_type": "code",
   "execution_count": 525,
   "metadata": {
    "execution": {
     "iopub.execute_input": "2020-09-25T15:40:38.588850Z",
     "iopub.status.busy": "2020-09-25T15:40:38.588640Z",
     "iopub.status.idle": "2020-09-25T15:40:38.592179Z",
     "shell.execute_reply": "2020-09-25T15:40:38.591726Z",
     "shell.execute_reply.started": "2020-09-25T15:40:38.588828Z"
    }
   },
   "outputs": [
    {
     "data": {
      "text/plain": [
       "(4048, 3036, 3)"
      ]
     },
     "execution_count": 525,
     "metadata": {},
     "output_type": "execute_result"
    }
   ],
   "source": [
    "image.shape"
   ]
  },
  {
   "cell_type": "code",
   "execution_count": 512,
   "metadata": {
    "execution": {
     "iopub.execute_input": "2020-09-25T15:35:56.388786Z",
     "iopub.status.busy": "2020-09-25T15:35:56.388602Z",
     "iopub.status.idle": "2020-09-25T15:35:56.391686Z",
     "shell.execute_reply": "2020-09-25T15:35:56.391220Z",
     "shell.execute_reply.started": "2020-09-25T15:35:56.388763Z"
    }
   },
   "outputs": [],
   "source": [
    "bboxes = np.genfromtxt('./labels/A0.txt')\n",
    "bboxes = list(bboxes)"
   ]
  },
  {
   "cell_type": "code",
   "execution_count": 513,
   "metadata": {
    "execution": {
     "iopub.execute_input": "2020-09-25T15:35:56.563005Z",
     "iopub.status.busy": "2020-09-25T15:35:56.562831Z",
     "iopub.status.idle": "2020-09-25T15:35:56.565322Z",
     "shell.execute_reply": "2020-09-25T15:35:56.564865Z",
     "shell.execute_reply.started": "2020-09-25T15:35:56.562984Z"
    }
   },
   "outputs": [],
   "source": [
    "bboxes = bboxes[1:]"
   ]
  },
  {
   "cell_type": "code",
   "execution_count": 514,
   "metadata": {
    "execution": {
     "iopub.execute_input": "2020-09-25T15:35:56.749679Z",
     "iopub.status.busy": "2020-09-25T15:35:56.749502Z",
     "iopub.status.idle": "2020-09-25T15:35:56.752930Z",
     "shell.execute_reply": "2020-09-25T15:35:56.752411Z",
     "shell.execute_reply.started": "2020-09-25T15:35:56.749657Z"
    }
   },
   "outputs": [
    {
     "data": {
      "text/plain": [
       "[0.455534, 0.501482, 0.609354, 0.47085]"
      ]
     },
     "execution_count": 514,
     "metadata": {},
     "output_type": "execute_result"
    }
   ],
   "source": [
    "bboxes\n"
   ]
  },
  {
   "cell_type": "code",
   "execution_count": 526,
   "metadata": {
    "execution": {
     "iopub.execute_input": "2020-09-25T15:43:08.119389Z",
     "iopub.status.busy": "2020-09-25T15:43:08.119151Z",
     "iopub.status.idle": "2020-09-25T15:43:08.123077Z",
     "shell.execute_reply": "2020-09-25T15:43:08.122632Z",
     "shell.execute_reply.started": "2020-09-25T15:43:08.119362Z"
    }
   },
   "outputs": [
    {
     "data": {
      "text/plain": [
       "1849.9987439999998"
      ]
     },
     "execution_count": 526,
     "metadata": {},
     "output_type": "execute_result"
    }
   ],
   "source": [
    "bb_width = bboxes[2] * image.shape[1]\n",
    "bb_width"
   ]
  },
  {
   "cell_type": "code",
   "execution_count": 527,
   "metadata": {
    "execution": {
     "iopub.execute_input": "2020-09-25T15:43:42.436417Z",
     "iopub.status.busy": "2020-09-25T15:43:42.436199Z",
     "iopub.status.idle": "2020-09-25T15:43:42.439976Z",
     "shell.execute_reply": "2020-09-25T15:43:42.439505Z",
     "shell.execute_reply.started": "2020-09-25T15:43:42.436394Z"
    }
   },
   "outputs": [
    {
     "data": {
      "text/plain": [
       "1906.0008"
      ]
     },
     "execution_count": 527,
     "metadata": {},
     "output_type": "execute_result"
    }
   ],
   "source": [
    "bb_height = bboxes[3] * image.shape[0]\n",
    "bb_height"
   ]
  },
  {
   "cell_type": "code",
   "execution_count": 519,
   "metadata": {
    "execution": {
     "iopub.execute_input": "2020-09-25T15:37:16.634242Z",
     "iopub.status.busy": "2020-09-25T15:37:16.634030Z",
     "iopub.status.idle": "2020-09-25T15:37:16.637648Z",
     "shell.execute_reply": "2020-09-25T15:37:16.637216Z",
     "shell.execute_reply.started": "2020-09-25T15:37:16.634219Z"
    }
   },
   "outputs": [
    {
     "data": {
      "text/plain": [
       "4048"
      ]
     },
     "execution_count": 519,
     "metadata": {},
     "output_type": "execute_result"
    }
   ],
   "source": [
    "img_ht = image.shape[0]\n",
    "img_ht"
   ]
  },
  {
   "cell_type": "code",
   "execution_count": 520,
   "metadata": {
    "execution": {
     "iopub.execute_input": "2020-09-25T15:37:24.553402Z",
     "iopub.status.busy": "2020-09-25T15:37:24.553198Z",
     "iopub.status.idle": "2020-09-25T15:37:24.556756Z",
     "shell.execute_reply": "2020-09-25T15:37:24.556327Z",
     "shell.execute_reply.started": "2020-09-25T15:37:24.553379Z"
    }
   },
   "outputs": [
    {
     "data": {
      "text/plain": [
       "3036"
      ]
     },
     "execution_count": 520,
     "metadata": {},
     "output_type": "execute_result"
    }
   ],
   "source": [
    "img_wd = image.shape[1]\n",
    "img_wd"
   ]
  },
  {
   "cell_type": "code",
   "execution_count": 528,
   "metadata": {
    "execution": {
     "iopub.execute_input": "2020-09-25T15:44:38.362331Z",
     "iopub.status.busy": "2020-09-25T15:44:38.362149Z",
     "iopub.status.idle": "2020-09-25T15:44:38.365701Z",
     "shell.execute_reply": "2020-09-25T15:44:38.365297Z",
     "shell.execute_reply.started": "2020-09-25T15:44:38.362311Z"
    }
   },
   "outputs": [
    {
     "data": {
      "text/plain": [
       "458.0018520000002"
      ]
     },
     "execution_count": 528,
     "metadata": {},
     "output_type": "execute_result"
    }
   ],
   "source": [
    "x_min = (img_wd * bboxes[0]) - (bb_width/2)\n",
    "x_min"
   ]
  },
  {
   "cell_type": "code",
   "execution_count": 530,
   "metadata": {
    "execution": {
     "iopub.execute_input": "2020-09-25T15:45:00.406127Z",
     "iopub.status.busy": "2020-09-25T15:45:00.405948Z",
     "iopub.status.idle": "2020-09-25T15:45:00.409559Z",
     "shell.execute_reply": "2020-09-25T15:45:00.409148Z",
     "shell.execute_reply.started": "2020-09-25T15:45:00.406104Z"
    }
   },
   "outputs": [
    {
     "data": {
      "text/plain": [
       "2308.000596"
      ]
     },
     "execution_count": 530,
     "metadata": {},
     "output_type": "execute_result"
    }
   ],
   "source": [
    "x_max = (img_wd * bboxes[0]) + (bb_width/2)\n",
    "x_max"
   ]
  },
  {
   "cell_type": "code",
   "execution_count": 533,
   "metadata": {
    "execution": {
     "iopub.execute_input": "2020-09-25T15:46:07.940987Z",
     "iopub.status.busy": "2020-09-25T15:46:07.940761Z",
     "iopub.status.idle": "2020-09-25T15:46:07.944707Z",
     "shell.execute_reply": "2020-09-25T15:46:07.944212Z",
     "shell.execute_reply.started": "2020-09-25T15:46:07.940963Z"
    }
   },
   "outputs": [
    {
     "data": {
      "text/plain": [
       "1104.9997640000001"
      ]
     },
     "execution_count": 533,
     "metadata": {},
     "output_type": "execute_result"
    }
   ],
   "source": [
    "y_min = img_ht * bboxes[1] - (bb_width/2)\n",
    "y_min"
   ]
  },
  {
   "cell_type": "code",
   "execution_count": 534,
   "metadata": {
    "execution": {
     "iopub.execute_input": "2020-09-25T15:46:08.262330Z",
     "iopub.status.busy": "2020-09-25T15:46:08.262011Z",
     "iopub.status.idle": "2020-09-25T15:46:08.266934Z",
     "shell.execute_reply": "2020-09-25T15:46:08.266288Z",
     "shell.execute_reply.started": "2020-09-25T15:46:08.262293Z"
    }
   },
   "outputs": [
    {
     "data": {
      "text/plain": [
       "2954.9985079999997"
      ]
     },
     "execution_count": 534,
     "metadata": {},
     "output_type": "execute_result"
    }
   ],
   "source": [
    "y_max = img_ht * bboxes[1] + (bb_width/2)\n",
    "y_max"
   ]
  },
  {
   "cell_type": "code",
   "execution_count": 547,
   "metadata": {
    "execution": {
     "iopub.execute_input": "2020-09-25T15:48:51.415548Z",
     "iopub.status.busy": "2020-09-25T15:48:51.415327Z",
     "iopub.status.idle": "2020-09-25T15:48:51.418190Z",
     "shell.execute_reply": "2020-09-25T15:48:51.417759Z",
     "shell.execute_reply.started": "2020-09-25T15:48:51.415525Z"
    }
   },
   "outputs": [],
   "source": [
    "bboxes = [[458, 2308, 1104, 2954]]"
   ]
  },
  {
   "cell_type": "code",
   "execution_count": 557,
   "metadata": {
    "execution": {
     "iopub.execute_input": "2020-09-25T15:51:03.718494Z",
     "iopub.status.busy": "2020-09-25T15:51:03.718270Z",
     "iopub.status.idle": "2020-09-25T15:51:03.721852Z",
     "shell.execute_reply": "2020-09-25T15:51:03.721406Z",
     "shell.execute_reply.started": "2020-09-25T15:51:03.718470Z"
    }
   },
   "outputs": [
    {
     "data": {
      "text/plain": [
       "458"
      ]
     },
     "execution_count": 557,
     "metadata": {},
     "output_type": "execute_result"
    }
   ],
   "source": [
    "bboxes[0][0]"
   ]
  },
  {
   "cell_type": "code",
   "execution_count": 553,
   "metadata": {
    "execution": {
     "iopub.execute_input": "2020-09-25T15:50:42.389530Z",
     "iopub.status.busy": "2020-09-25T15:50:42.389311Z",
     "iopub.status.idle": "2020-09-25T15:50:42.396647Z",
     "shell.execute_reply": "2020-09-25T15:50:42.396193Z",
     "shell.execute_reply.started": "2020-09-25T15:50:42.389507Z"
    }
   },
   "outputs": [],
   "source": [
    "BOX_COLOR = (255, 0, 0) # Red\n",
    "TEXT_COLOR = (255, 255, 255) # White\n",
    "\n",
    "\n",
    "def visualize_bbox(img, bbox, class_name, color=BOX_COLOR, thickness=20):\n",
    "    \"\"\"Visualizes a single bounding box on the image\"\"\"\n",
    "    x_min, y_min, w, h = bbox\n",
    "    x_min, x_max, y_min, y_max = bboxes[0]\n",
    "#     x_min, x_max, y_min, y_max = int(x_min), int(x_min + w), int(y_min), int(y_min + h)\n",
    "   \n",
    "    cv2.rectangle(img, (x_min, y_min), (x_max, y_max), color=color, thickness=thickness)\n",
    "    \n",
    "    ((text_width, text_height), _) = cv2.getTextSize(class_name, cv2.FONT_HERSHEY_SIMPLEX, 10.35, 10)    \n",
    "    cv2.rectangle(img, (x_min, y_min - int(1.3 * text_height)), (x_min + text_width, y_min), BOX_COLOR, -1)\n",
    "    cv2.putText(\n",
    "        img,\n",
    "        text=class_name,\n",
    "        org=(x_min, y_min - int(0.3 * text_height)),\n",
    "        fontFace=cv2.FONT_HERSHEY_SIMPLEX,\n",
    "        fontScale=10.35, \n",
    "        color=TEXT_COLOR,\n",
    "        thickness=10,\n",
    "        lineType=cv2.LINE_AA,\n",
    "    )\n",
    "    return img\n",
    "\n",
    "\n",
    "def visualize(image, bboxes, category_ids, category_id_to_name):\n",
    "    img = image.copy()\n",
    "    for bbox, category_id in zip(bboxes, category_ids):\n",
    "        class_name = category_id_to_name[category_id]\n",
    "        img = visualize_bbox(img, bbox, class_name)\n",
    "    plt.figure(figsize=(12, 12))\n",
    "    plt.axis('off')\n",
    "    plt.imshow(img)"
   ]
  },
  {
   "cell_type": "code",
   "execution_count": 554,
   "metadata": {
    "execution": {
     "iopub.execute_input": "2020-09-25T15:50:42.929132Z",
     "iopub.status.busy": "2020-09-25T15:50:42.928997Z",
     "iopub.status.idle": "2020-09-25T15:50:42.931917Z",
     "shell.execute_reply": "2020-09-25T15:50:42.931529Z",
     "shell.execute_reply.started": "2020-09-25T15:50:42.929115Z"
    }
   },
   "outputs": [],
   "source": [
    "category_ids = [0, 1, 2, 3, 4, 5, 6, 7, 8, 9]\n",
    "# We will use the mapping from category_id to the class name\n",
    "# to visualize the class label for the bounding box on the image\n",
    "category_id_to_name = {0: 'A', \n",
    "                       1: 'B',\n",
    "                       2: 'C', \n",
    "                       3: 'D',\n",
    "                       4: 'E', \n",
    "                       5: 'F',\n",
    "                       6: 'G', \n",
    "                       7: 'H',\n",
    "                       8: 'I', \n",
    "                       9: 'J'                       \n",
    "                      }"
   ]
  },
  {
   "cell_type": "code",
   "execution_count": 555,
   "metadata": {
    "execution": {
     "iopub.execute_input": "2020-09-25T15:50:43.260602Z",
     "iopub.status.busy": "2020-09-25T15:50:43.260423Z",
     "iopub.status.idle": "2020-09-25T15:50:43.277727Z",
     "shell.execute_reply": "2020-09-25T15:50:43.277243Z",
     "shell.execute_reply.started": "2020-09-25T15:50:43.260580Z"
    }
   },
   "outputs": [
    {
     "ename": "ValueError",
     "evalue": "not enough values to unpack (expected 4, got 1)",
     "output_type": "error",
     "traceback": [
      "\u001b[0;31m---------------------------------------------------------------------------\u001b[0m",
      "\u001b[0;31mValueError\u001b[0m                                Traceback (most recent call last)",
      "\u001b[0;32m<ipython-input-555-4b36140b8940>\u001b[0m in \u001b[0;36m<module>\u001b[0;34m\u001b[0m\n\u001b[0;32m----> 1\u001b[0;31m \u001b[0mvisualize\u001b[0m\u001b[0;34m(\u001b[0m\u001b[0mimage\u001b[0m\u001b[0;34m,\u001b[0m \u001b[0mbboxes\u001b[0m\u001b[0;34m,\u001b[0m \u001b[0mcategory_ids\u001b[0m\u001b[0;34m,\u001b[0m \u001b[0mcategory_id_to_name\u001b[0m\u001b[0;34m)\u001b[0m\u001b[0;34m\u001b[0m\u001b[0;34m\u001b[0m\u001b[0m\n\u001b[0m",
      "\u001b[0;32m<ipython-input-553-fb8d53a2ede6>\u001b[0m in \u001b[0;36mvisualize\u001b[0;34m(image, bboxes, category_ids, category_id_to_name)\u001b[0m\n\u001b[1;32m     30\u001b[0m     \u001b[0;32mfor\u001b[0m \u001b[0mbbox\u001b[0m\u001b[0;34m,\u001b[0m \u001b[0mcategory_id\u001b[0m \u001b[0;32min\u001b[0m \u001b[0mzip\u001b[0m\u001b[0;34m(\u001b[0m\u001b[0mbboxes\u001b[0m\u001b[0;34m,\u001b[0m \u001b[0mcategory_ids\u001b[0m\u001b[0;34m)\u001b[0m\u001b[0;34m:\u001b[0m\u001b[0;34m\u001b[0m\u001b[0;34m\u001b[0m\u001b[0m\n\u001b[1;32m     31\u001b[0m         \u001b[0mclass_name\u001b[0m \u001b[0;34m=\u001b[0m \u001b[0mcategory_id_to_name\u001b[0m\u001b[0;34m[\u001b[0m\u001b[0mcategory_id\u001b[0m\u001b[0;34m]\u001b[0m\u001b[0;34m\u001b[0m\u001b[0;34m\u001b[0m\u001b[0m\n\u001b[0;32m---> 32\u001b[0;31m         \u001b[0mimg\u001b[0m \u001b[0;34m=\u001b[0m \u001b[0mvisualize_bbox\u001b[0m\u001b[0;34m(\u001b[0m\u001b[0mimg\u001b[0m\u001b[0;34m,\u001b[0m \u001b[0mbbox\u001b[0m\u001b[0;34m,\u001b[0m \u001b[0mclass_name\u001b[0m\u001b[0;34m)\u001b[0m\u001b[0;34m\u001b[0m\u001b[0;34m\u001b[0m\u001b[0m\n\u001b[0m\u001b[1;32m     33\u001b[0m     \u001b[0mplt\u001b[0m\u001b[0;34m.\u001b[0m\u001b[0mfigure\u001b[0m\u001b[0;34m(\u001b[0m\u001b[0mfigsize\u001b[0m\u001b[0;34m=\u001b[0m\u001b[0;34m(\u001b[0m\u001b[0;36m12\u001b[0m\u001b[0;34m,\u001b[0m \u001b[0;36m12\u001b[0m\u001b[0;34m)\u001b[0m\u001b[0;34m)\u001b[0m\u001b[0;34m\u001b[0m\u001b[0;34m\u001b[0m\u001b[0m\n\u001b[1;32m     34\u001b[0m     \u001b[0mplt\u001b[0m\u001b[0;34m.\u001b[0m\u001b[0maxis\u001b[0m\u001b[0;34m(\u001b[0m\u001b[0;34m'off'\u001b[0m\u001b[0;34m)\u001b[0m\u001b[0;34m\u001b[0m\u001b[0;34m\u001b[0m\u001b[0m\n",
      "\u001b[0;32m<ipython-input-553-fb8d53a2ede6>\u001b[0m in \u001b[0;36mvisualize_bbox\u001b[0;34m(img, bbox, class_name, color, thickness)\u001b[0m\n\u001b[1;32m      6\u001b[0m     \u001b[0;34m\"\"\"Visualizes a single bounding box on the image\"\"\"\u001b[0m\u001b[0;34m\u001b[0m\u001b[0;34m\u001b[0m\u001b[0m\n\u001b[1;32m      7\u001b[0m     \u001b[0mx_min\u001b[0m\u001b[0;34m,\u001b[0m \u001b[0my_min\u001b[0m\u001b[0;34m,\u001b[0m \u001b[0mw\u001b[0m\u001b[0;34m,\u001b[0m \u001b[0mh\u001b[0m \u001b[0;34m=\u001b[0m \u001b[0mbbox\u001b[0m\u001b[0;34m\u001b[0m\u001b[0;34m\u001b[0m\u001b[0m\n\u001b[0;32m----> 8\u001b[0;31m     \u001b[0mx_min\u001b[0m\u001b[0;34m,\u001b[0m \u001b[0mx_max\u001b[0m\u001b[0;34m,\u001b[0m \u001b[0my_min\u001b[0m\u001b[0;34m,\u001b[0m \u001b[0my_max\u001b[0m \u001b[0;34m=\u001b[0m \u001b[0mbboxes\u001b[0m\u001b[0;34m\u001b[0m\u001b[0;34m\u001b[0m\u001b[0m\n\u001b[0m\u001b[1;32m      9\u001b[0m \u001b[0;31m#     x_min, x_max, y_min, y_max = int(x_min), int(x_min + w), int(y_min), int(y_min + h)\u001b[0m\u001b[0;34m\u001b[0m\u001b[0;34m\u001b[0m\u001b[0;34m\u001b[0m\u001b[0m\n\u001b[1;32m     10\u001b[0m \u001b[0;34m\u001b[0m\u001b[0m\n",
      "\u001b[0;31mValueError\u001b[0m: not enough values to unpack (expected 4, got 1)"
     ]
    }
   ],
   "source": [
    "visualize(image, bboxes, category_ids, category_id_to_name)"
   ]
  },
  {
   "cell_type": "code",
   "execution_count": 542,
   "metadata": {
    "execution": {
     "iopub.execute_input": "2020-09-25T15:47:24.299601Z",
     "iopub.status.busy": "2020-09-25T15:47:24.299378Z",
     "iopub.status.idle": "2020-09-25T15:47:24.308022Z",
     "shell.execute_reply": "2020-09-25T15:47:24.307557Z",
     "shell.execute_reply.started": "2020-09-25T15:47:24.299576Z"
    }
   },
   "outputs": [],
   "source": [
    "transform = A.Compose([\n",
    "    A.LongestMaxSize(max_size=1024),\n",
    "    A.PadIfNeeded(min_height=1024, min_width=1024, p=1.0),\n",
    "    A.ShiftScaleRotate(shift_limit=.15, scale_limit=0.2, p=0.3),\n",
    "    A.RandomSizedCrop((900, 1000), 1024, 1024, p=.2),\n",
    "    A.HorizontalFlip(p=.5),\n",
    "    A.Rotate(limit=30,p=.3),\n",
    "    A.MultiplicativeNoise(p=.2),\n",
    "    A.OneOf([\n",
    "        A.OpticalDistortion(p=0.2),\n",
    "        A.GridDistortion(distort_limit=.1,p=0.15),\n",
    "        A.IAAPiecewiseAffine(p=0.3),\n",
    "    ], p=0.2),\n",
    "    A.RGBShift(r_shift_limit=30, g_shift_limit=30, b_shift_limit=30),\n",
    "    A.Blur(blur_limit=20, p=.25),\n",
    "    A.RandomBrightnessContrast(brightness_limit=0.3, contrast_limit=0.3),\n",
    "    A.HueSaturationValue(p=.2),\n",
    "    A.ElasticTransform(alpha=.8, sigma=20,p=.3),\n",
    "    A.CoarseDropout(max_holes=9,min_width=30, max_width=250, min_height=30, max_height=250,p=.2),\n",
    "    A.OneOf([A.IAAAdditiveGaussianNoise(),\n",
    "        A.GaussNoise()], p=0.2),\n",
    "    A.OneOf([\n",
    "        A.MotionBlur(p=0.2),\n",
    "        A.MedianBlur(blur_limit=3, p=0.1),\n",
    "        A.Blur(blur_limit=3, p=0.1)], p=0.2),\n",
    "    A.OneOf([\n",
    "        A.IAASharpen(),\n",
    "        A.IAAEmboss(),\n",
    "        A.RandomBrightnessContrast(),\n",
    "        A.RandomGamma(),\n",
    "        A.ToGray()], p=0.3),\n",
    "], bbox_params=A.BboxParams(format='yolo', label_fields=['category_ids'])\n",
    ")"
   ]
  },
  {
   "cell_type": "code",
   "execution_count": 543,
   "metadata": {
    "execution": {
     "iopub.execute_input": "2020-09-25T15:47:27.124023Z",
     "iopub.status.busy": "2020-09-25T15:47:27.123796Z",
     "iopub.status.idle": "2020-09-25T15:47:27.258140Z",
     "shell.execute_reply": "2020-09-25T15:47:27.257557Z",
     "shell.execute_reply.started": "2020-09-25T15:47:27.123999Z"
    }
   },
   "outputs": [
    {
     "ename": "TypeError",
     "evalue": "object of type 'numpy.float64' has no len()",
     "output_type": "error",
     "traceback": [
      "\u001b[0;31m---------------------------------------------------------------------------\u001b[0m",
      "\u001b[0;31mTypeError\u001b[0m                                 Traceback (most recent call last)",
      "\u001b[0;32m<ipython-input-543-d48e2140ebfa>\u001b[0m in \u001b[0;36m<module>\u001b[0;34m\u001b[0m\n\u001b[1;32m      5\u001b[0m \u001b[0;31m# [x, y, width, height, label]  for coco\u001b[0m\u001b[0;34m\u001b[0m\u001b[0;34m\u001b[0m\u001b[0;34m\u001b[0m\u001b[0m\n\u001b[1;32m      6\u001b[0m \u001b[0;34m\u001b[0m\u001b[0m\n\u001b[0;32m----> 7\u001b[0;31m \u001b[0maugmented\u001b[0m \u001b[0;34m=\u001b[0m \u001b[0mtransform\u001b[0m\u001b[0;34m(\u001b[0m\u001b[0mimage\u001b[0m\u001b[0;34m=\u001b[0m\u001b[0mimage\u001b[0m\u001b[0;34m,\u001b[0m \u001b[0mbboxes\u001b[0m\u001b[0;34m=\u001b[0m\u001b[0mbboxes\u001b[0m\u001b[0;34m)\u001b[0m\u001b[0;34m\u001b[0m\u001b[0;34m\u001b[0m\u001b[0m\n\u001b[0m\u001b[1;32m      8\u001b[0m \u001b[0maugmented_image\u001b[0m \u001b[0;34m=\u001b[0m \u001b[0maugmented\u001b[0m\u001b[0;34m(\u001b[0m\u001b[0;34m'image'\u001b[0m\u001b[0;34m)\u001b[0m\u001b[0;34m\u001b[0m\u001b[0;34m\u001b[0m\u001b[0m\n\u001b[1;32m      9\u001b[0m \u001b[0maugmented_bboxes\u001b[0m \u001b[0;34m=\u001b[0m \u001b[0maugmented\u001b[0m\u001b[0;34m(\u001b[0m\u001b[0;34m'bboxes'\u001b[0m\u001b[0;34m)\u001b[0m\u001b[0;34m\u001b[0m\u001b[0;34m\u001b[0m\u001b[0m\n",
      "\u001b[0;32m~/anaconda3/envs/capstone/lib/python3.8/site-packages/albumentations/core/composition.py\u001b[0m in \u001b[0;36m__call__\u001b[0;34m(self, force_apply, **data)\u001b[0m\n\u001b[1;32m    165\u001b[0m         \u001b[0mneed_to_run\u001b[0m \u001b[0;34m=\u001b[0m \u001b[0mforce_apply\u001b[0m \u001b[0;32mor\u001b[0m \u001b[0mrandom\u001b[0m\u001b[0;34m.\u001b[0m\u001b[0mrandom\u001b[0m\u001b[0;34m(\u001b[0m\u001b[0;34m)\u001b[0m \u001b[0;34m<\u001b[0m \u001b[0mself\u001b[0m\u001b[0;34m.\u001b[0m\u001b[0mp\u001b[0m\u001b[0;34m\u001b[0m\u001b[0;34m\u001b[0m\u001b[0m\n\u001b[1;32m    166\u001b[0m         \u001b[0;32mfor\u001b[0m \u001b[0mp\u001b[0m \u001b[0;32min\u001b[0m \u001b[0mself\u001b[0m\u001b[0;34m.\u001b[0m\u001b[0mprocessors\u001b[0m\u001b[0;34m.\u001b[0m\u001b[0mvalues\u001b[0m\u001b[0;34m(\u001b[0m\u001b[0;34m)\u001b[0m\u001b[0;34m:\u001b[0m\u001b[0;34m\u001b[0m\u001b[0;34m\u001b[0m\u001b[0m\n\u001b[0;32m--> 167\u001b[0;31m             \u001b[0mp\u001b[0m\u001b[0;34m.\u001b[0m\u001b[0mensure_data_valid\u001b[0m\u001b[0;34m(\u001b[0m\u001b[0mdata\u001b[0m\u001b[0;34m)\u001b[0m\u001b[0;34m\u001b[0m\u001b[0;34m\u001b[0m\u001b[0m\n\u001b[0m\u001b[1;32m    168\u001b[0m         \u001b[0mtransforms\u001b[0m \u001b[0;34m=\u001b[0m \u001b[0mself\u001b[0m\u001b[0;34m.\u001b[0m\u001b[0mtransforms\u001b[0m \u001b[0;32mif\u001b[0m \u001b[0mneed_to_run\u001b[0m \u001b[0;32melse\u001b[0m \u001b[0mself\u001b[0m\u001b[0;34m.\u001b[0m\u001b[0mtransforms\u001b[0m\u001b[0;34m.\u001b[0m\u001b[0mget_always_apply\u001b[0m\u001b[0;34m(\u001b[0m\u001b[0mself\u001b[0m\u001b[0;34m.\u001b[0m\u001b[0mtransforms\u001b[0m\u001b[0;34m)\u001b[0m\u001b[0;34m\u001b[0m\u001b[0;34m\u001b[0m\u001b[0m\n\u001b[1;32m    169\u001b[0m         \u001b[0mdual_start_end\u001b[0m \u001b[0;34m=\u001b[0m \u001b[0mtransforms\u001b[0m\u001b[0;34m.\u001b[0m\u001b[0mstart_end\u001b[0m \u001b[0;32mif\u001b[0m \u001b[0mself\u001b[0m\u001b[0;34m.\u001b[0m\u001b[0mprocessors\u001b[0m \u001b[0;32melse\u001b[0m \u001b[0;32mNone\u001b[0m\u001b[0;34m\u001b[0m\u001b[0;34m\u001b[0m\u001b[0m\n",
      "\u001b[0;32m~/anaconda3/envs/capstone/lib/python3.8/site-packages/albumentations/augmentations/bbox_utils.py\u001b[0m in \u001b[0;36mensure_data_valid\u001b[0;34m(self, data)\u001b[0m\n\u001b[1;32m     27\u001b[0m         \u001b[0;32mfor\u001b[0m \u001b[0mdata_name\u001b[0m \u001b[0;32min\u001b[0m \u001b[0mself\u001b[0m\u001b[0;34m.\u001b[0m\u001b[0mdata_fields\u001b[0m\u001b[0;34m:\u001b[0m\u001b[0;34m\u001b[0m\u001b[0;34m\u001b[0m\u001b[0m\n\u001b[1;32m     28\u001b[0m             \u001b[0mdata_exists\u001b[0m \u001b[0;34m=\u001b[0m \u001b[0mdata_name\u001b[0m \u001b[0;32min\u001b[0m \u001b[0mdata\u001b[0m \u001b[0;32mand\u001b[0m \u001b[0mlen\u001b[0m\u001b[0;34m(\u001b[0m\u001b[0mdata\u001b[0m\u001b[0;34m[\u001b[0m\u001b[0mdata_name\u001b[0m\u001b[0;34m]\u001b[0m\u001b[0;34m)\u001b[0m\u001b[0;34m\u001b[0m\u001b[0;34m\u001b[0m\u001b[0m\n\u001b[0;32m---> 29\u001b[0;31m             \u001b[0;32mif\u001b[0m \u001b[0mdata_exists\u001b[0m \u001b[0;32mand\u001b[0m \u001b[0mlen\u001b[0m\u001b[0;34m(\u001b[0m\u001b[0mdata\u001b[0m\u001b[0;34m[\u001b[0m\u001b[0mdata_name\u001b[0m\u001b[0;34m]\u001b[0m\u001b[0;34m[\u001b[0m\u001b[0;36m0\u001b[0m\u001b[0;34m]\u001b[0m\u001b[0;34m)\u001b[0m \u001b[0;34m<\u001b[0m \u001b[0;36m5\u001b[0m\u001b[0;34m:\u001b[0m\u001b[0;34m\u001b[0m\u001b[0;34m\u001b[0m\u001b[0m\n\u001b[0m\u001b[1;32m     30\u001b[0m                 \u001b[0;32mif\u001b[0m \u001b[0mself\u001b[0m\u001b[0;34m.\u001b[0m\u001b[0mparams\u001b[0m\u001b[0;34m.\u001b[0m\u001b[0mlabel_fields\u001b[0m \u001b[0;32mis\u001b[0m \u001b[0;32mNone\u001b[0m\u001b[0;34m:\u001b[0m\u001b[0;34m\u001b[0m\u001b[0;34m\u001b[0m\u001b[0m\n\u001b[1;32m     31\u001b[0m                     raise ValueError(\n",
      "\u001b[0;31mTypeError\u001b[0m: object of type 'numpy.float64' has no len()"
     ]
    }
   ],
   "source": [
    "image = cv2.imread('./images/test/A/A0.jpeg')\n",
    "image = cv2.cvtColor(image, cv2.COLOR_BGR2RGB)\n",
    "\n",
    "bboxes = np.genfromtxt('./labels/A0.txt')\n",
    "# [x, y, width, height, label]  for coco\n",
    "\n",
    "augmented = transform(image=image, bboxes=bboxes)\n",
    "augmented_image = augmented('image')\n",
    "augmented_bboxes = augmented('bboxes')"
   ]
  },
  {
   "cell_type": "code",
   "execution_count": 161,
   "metadata": {
    "execution": {
     "iopub.execute_input": "2020-09-25T02:33:33.018711Z",
     "iopub.status.busy": "2020-09-25T02:33:33.018494Z",
     "iopub.status.idle": "2020-09-25T02:33:33.022547Z",
     "shell.execute_reply": "2020-09-25T02:33:33.022044Z",
     "shell.execute_reply.started": "2020-09-25T02:33:33.018688Z"
    }
   },
   "outputs": [
    {
     "data": {
      "text/plain": [
       "array([0.      , 0.450099, 0.498765, 0.631423, 0.452569])"
      ]
     },
     "execution_count": 161,
     "metadata": {},
     "output_type": "execute_result"
    }
   ],
   "source": [
    "bboxes"
   ]
  },
  {
   "cell_type": "code",
   "execution_count": 162,
   "metadata": {
    "execution": {
     "iopub.execute_input": "2020-09-25T02:33:48.106411Z",
     "iopub.status.busy": "2020-09-25T02:33:48.106188Z",
     "iopub.status.idle": "2020-09-25T02:33:48.117223Z",
     "shell.execute_reply": "2020-09-25T02:33:48.116806Z",
     "shell.execute_reply.started": "2020-09-25T02:33:48.106387Z"
    }
   },
   "outputs": [
    {
     "ename": "ValueError",
     "evalue": "Your 'label_fields' are not valid - them must have same names as params in dict",
     "output_type": "error",
     "traceback": [
      "\u001b[0;31m---------------------------------------------------------------------------\u001b[0m",
      "\u001b[0;31mValueError\u001b[0m                                Traceback (most recent call last)",
      "\u001b[0;32m<ipython-input-162-2bd1b03d0055>\u001b[0m in \u001b[0;36m<module>\u001b[0;34m\u001b[0m\n\u001b[1;32m      1\u001b[0m \u001b[0;32mfor\u001b[0m \u001b[0mi\u001b[0m \u001b[0;32min\u001b[0m \u001b[0mrange\u001b[0m\u001b[0;34m(\u001b[0m\u001b[0;36m20\u001b[0m\u001b[0;34m)\u001b[0m\u001b[0;34m:\u001b[0m\u001b[0;34m\u001b[0m\u001b[0;34m\u001b[0m\u001b[0m\n\u001b[0;32m----> 2\u001b[0;31m     \u001b[0maugmented_image\u001b[0m \u001b[0;34m=\u001b[0m \u001b[0mtransform\u001b[0m\u001b[0;34m(\u001b[0m\u001b[0mimage\u001b[0m\u001b[0;34m=\u001b[0m\u001b[0mimage\u001b[0m\u001b[0;34m)\u001b[0m\u001b[0;34m[\u001b[0m\u001b[0;34m'image'\u001b[0m\u001b[0;34m]\u001b[0m\u001b[0;34m\u001b[0m\u001b[0;34m\u001b[0m\u001b[0m\n\u001b[0m\u001b[1;32m      3\u001b[0m     \u001b[0mvisualize\u001b[0m\u001b[0;34m(\u001b[0m\u001b[0maugmented_image\u001b[0m\u001b[0;34m)\u001b[0m\u001b[0;34m\u001b[0m\u001b[0;34m\u001b[0m\u001b[0m\n\u001b[1;32m      4\u001b[0m \u001b[0;34m\u001b[0m\u001b[0m\n\u001b[1;32m      5\u001b[0m     \u001b[0mtransformed\u001b[0m \u001b[0;34m=\u001b[0m \u001b[0mtransform\u001b[0m\u001b[0;34m(\u001b[0m\u001b[0mimage\u001b[0m\u001b[0;34m=\u001b[0m\u001b[0mimage\u001b[0m\u001b[0;34m,\u001b[0m \u001b[0mbboxes\u001b[0m\u001b[0;34m=\u001b[0m\u001b[0mbboxes\u001b[0m\u001b[0;34m,\u001b[0m \u001b[0mcategory_ids\u001b[0m\u001b[0;34m=\u001b[0m\u001b[0mcategory_ids\u001b[0m\u001b[0;34m)\u001b[0m\u001b[0;34m\u001b[0m\u001b[0;34m\u001b[0m\u001b[0m\n",
      "\u001b[0;32m~/anaconda3/envs/capstone/lib/python3.8/site-packages/albumentations/core/composition.py\u001b[0m in \u001b[0;36m__call__\u001b[0;34m(self, force_apply, **data)\u001b[0m\n\u001b[1;32m    165\u001b[0m         \u001b[0mneed_to_run\u001b[0m \u001b[0;34m=\u001b[0m \u001b[0mforce_apply\u001b[0m \u001b[0;32mor\u001b[0m \u001b[0mrandom\u001b[0m\u001b[0;34m.\u001b[0m\u001b[0mrandom\u001b[0m\u001b[0;34m(\u001b[0m\u001b[0;34m)\u001b[0m \u001b[0;34m<\u001b[0m \u001b[0mself\u001b[0m\u001b[0;34m.\u001b[0m\u001b[0mp\u001b[0m\u001b[0;34m\u001b[0m\u001b[0;34m\u001b[0m\u001b[0m\n\u001b[1;32m    166\u001b[0m         \u001b[0;32mfor\u001b[0m \u001b[0mp\u001b[0m \u001b[0;32min\u001b[0m \u001b[0mself\u001b[0m\u001b[0;34m.\u001b[0m\u001b[0mprocessors\u001b[0m\u001b[0;34m.\u001b[0m\u001b[0mvalues\u001b[0m\u001b[0;34m(\u001b[0m\u001b[0;34m)\u001b[0m\u001b[0;34m:\u001b[0m\u001b[0;34m\u001b[0m\u001b[0;34m\u001b[0m\u001b[0m\n\u001b[0;32m--> 167\u001b[0;31m             \u001b[0mp\u001b[0m\u001b[0;34m.\u001b[0m\u001b[0mensure_data_valid\u001b[0m\u001b[0;34m(\u001b[0m\u001b[0mdata\u001b[0m\u001b[0;34m)\u001b[0m\u001b[0;34m\u001b[0m\u001b[0;34m\u001b[0m\u001b[0m\n\u001b[0m\u001b[1;32m    168\u001b[0m         \u001b[0mtransforms\u001b[0m \u001b[0;34m=\u001b[0m \u001b[0mself\u001b[0m\u001b[0;34m.\u001b[0m\u001b[0mtransforms\u001b[0m \u001b[0;32mif\u001b[0m \u001b[0mneed_to_run\u001b[0m \u001b[0;32melse\u001b[0m \u001b[0mself\u001b[0m\u001b[0;34m.\u001b[0m\u001b[0mtransforms\u001b[0m\u001b[0;34m.\u001b[0m\u001b[0mget_always_apply\u001b[0m\u001b[0;34m(\u001b[0m\u001b[0mself\u001b[0m\u001b[0;34m.\u001b[0m\u001b[0mtransforms\u001b[0m\u001b[0;34m)\u001b[0m\u001b[0;34m\u001b[0m\u001b[0;34m\u001b[0m\u001b[0m\n\u001b[1;32m    169\u001b[0m         \u001b[0mdual_start_end\u001b[0m \u001b[0;34m=\u001b[0m \u001b[0mtransforms\u001b[0m\u001b[0;34m.\u001b[0m\u001b[0mstart_end\u001b[0m \u001b[0;32mif\u001b[0m \u001b[0mself\u001b[0m\u001b[0;34m.\u001b[0m\u001b[0mprocessors\u001b[0m \u001b[0;32melse\u001b[0m \u001b[0;32mNone\u001b[0m\u001b[0;34m\u001b[0m\u001b[0;34m\u001b[0m\u001b[0m\n",
      "\u001b[0;32m~/anaconda3/envs/capstone/lib/python3.8/site-packages/albumentations/augmentations/bbox_utils.py\u001b[0m in \u001b[0;36mensure_data_valid\u001b[0;34m(self, data)\u001b[0m\n\u001b[1;32m     35\u001b[0m         \u001b[0;32mif\u001b[0m \u001b[0mself\u001b[0m\u001b[0;34m.\u001b[0m\u001b[0mparams\u001b[0m\u001b[0;34m.\u001b[0m\u001b[0mlabel_fields\u001b[0m\u001b[0;34m:\u001b[0m\u001b[0;34m\u001b[0m\u001b[0;34m\u001b[0m\u001b[0m\n\u001b[1;32m     36\u001b[0m             \u001b[0;32mif\u001b[0m \u001b[0;32mnot\u001b[0m \u001b[0mall\u001b[0m\u001b[0;34m(\u001b[0m\u001b[0mi\u001b[0m \u001b[0;32min\u001b[0m \u001b[0mdata\u001b[0m\u001b[0;34m.\u001b[0m\u001b[0mkeys\u001b[0m\u001b[0;34m(\u001b[0m\u001b[0;34m)\u001b[0m \u001b[0;32mfor\u001b[0m \u001b[0mi\u001b[0m \u001b[0;32min\u001b[0m \u001b[0mself\u001b[0m\u001b[0;34m.\u001b[0m\u001b[0mparams\u001b[0m\u001b[0;34m.\u001b[0m\u001b[0mlabel_fields\u001b[0m\u001b[0;34m)\u001b[0m\u001b[0;34m:\u001b[0m\u001b[0;34m\u001b[0m\u001b[0;34m\u001b[0m\u001b[0m\n\u001b[0;32m---> 37\u001b[0;31m                 \u001b[0;32mraise\u001b[0m \u001b[0mValueError\u001b[0m\u001b[0;34m(\u001b[0m\u001b[0;34m\"Your 'label_fields' are not valid - them must have same names as params in dict\"\u001b[0m\u001b[0;34m)\u001b[0m\u001b[0;34m\u001b[0m\u001b[0;34m\u001b[0m\u001b[0m\n\u001b[0m\u001b[1;32m     38\u001b[0m \u001b[0;34m\u001b[0m\u001b[0m\n\u001b[1;32m     39\u001b[0m     \u001b[0;32mdef\u001b[0m \u001b[0mfilter\u001b[0m\u001b[0;34m(\u001b[0m\u001b[0mself\u001b[0m\u001b[0;34m,\u001b[0m \u001b[0mdata\u001b[0m\u001b[0;34m,\u001b[0m \u001b[0mrows\u001b[0m\u001b[0;34m,\u001b[0m \u001b[0mcols\u001b[0m\u001b[0;34m)\u001b[0m\u001b[0;34m:\u001b[0m\u001b[0;34m\u001b[0m\u001b[0;34m\u001b[0m\u001b[0m\n",
      "\u001b[0;31mValueError\u001b[0m: Your 'label_fields' are not valid - them must have same names as params in dict"
     ]
    }
   ],
   "source": [
    "for i in range(20):\n",
    "    augmented_image = transform(image=image)['image']\n",
    "    visualize(augmented_image)\n",
    "    \n",
    "    transformed = transform(image=image, bboxes=bboxes, category_ids=category_ids)\n",
    "visualize(\n",
    "    transformed['image'],\n",
    "    transformed['bboxes'],\n",
    "    transformed['category_ids'],\n",
    "    category_id_to_name,\n",
    ")"
   ]
  },
  {
   "cell_type": "code",
   "execution_count": null,
   "metadata": {},
   "outputs": [],
   "source": []
  }
 ],
 "metadata": {
  "kernelspec": {
   "display_name": "Python 3.8.5(capstone)",
   "language": "python",
   "name": "capston"
  },
  "language_info": {
   "codemirror_mode": {
    "name": "ipython",
    "version": 3
   },
   "file_extension": ".py",
   "mimetype": "text/x-python",
   "name": "python",
   "nbconvert_exporter": "python",
   "pygments_lexer": "ipython3",
   "version": "3.8.5"
  }
 },
 "nbformat": 4,
 "nbformat_minor": 4
}
