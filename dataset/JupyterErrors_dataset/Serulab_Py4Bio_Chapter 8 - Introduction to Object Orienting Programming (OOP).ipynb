{
 "cells": [
  {
   "cell_type": "markdown",
   "metadata": {},
   "source": [
    "Python for Bioinformatics\n",
    "-----------------------------\n",
    "\n",
    "![title](https://s3.amazonaws.com/py4bio/tapabiosmall.png)\n",
    "\n",
    "This Jupyter notebook is intented to be used alongside the book [Python for Bioinformatics](http://py3.us/)\n",
    "\n"
   ]
  },
  {
   "cell_type": "markdown",
   "metadata": {},
   "source": [
    "Chapter 8: Introduction to Object Orienting Programming (OOP)\n",
    "-----------------------------"
   ]
  },
  {
   "cell_type": "code",
   "execution_count": 3,
   "metadata": {
    "collapsed": true
   },
   "outputs": [],
   "source": [
    "class Square:\n",
    "    def __init__(self):\n",
    "        self.side = 1"
   ]
  },
  {
   "cell_type": "code",
   "execution_count": 6,
   "metadata": {
    "collapsed": false
   },
   "outputs": [
    {
     "data": {
      "text/plain": [
       "1"
      ]
     },
     "execution_count": 6,
     "metadata": {},
     "output_type": "execute_result"
    }
   ],
   "source": [
    "Bob = Square() # Bob is an instance of Square.\n",
    "Bob.side #Let’s see the value of side"
   ]
  },
  {
   "cell_type": "code",
   "execution_count": 7,
   "metadata": {
    "collapsed": false
   },
   "outputs": [
    {
     "data": {
      "text/plain": [
       "5"
      ]
     },
     "execution_count": 7,
     "metadata": {},
     "output_type": "execute_result"
    }
   ],
   "source": [
    "Bob.side = 5 #Assing a new value to side\n",
    "Bob.side #Let’s see the new value of side"
   ]
  },
  {
   "cell_type": "code",
   "execution_count": 8,
   "metadata": {
    "collapsed": false
   },
   "outputs": [
    {
     "data": {
      "text/plain": [
       "1"
      ]
     },
     "execution_count": 8,
     "metadata": {},
     "output_type": "execute_result"
    }
   ],
   "source": [
    "Krusty = Square()\n",
    "Krusty.side    "
   ]
  },
  {
   "cell_type": "markdown",
   "metadata": {},
   "source": [
    "Text\n",
    "----"
   ]
  },
  {
   "cell_type": "code",
   "execution_count": 14,
   "metadata": {
    "collapsed": false
   },
   "outputs": [
    {
     "data": {
      "text/plain": [
       "1"
      ]
     },
     "execution_count": 14,
     "metadata": {},
     "output_type": "execute_result"
    }
   ],
   "source": [
    "class Square:\n",
    "    def __init__(self):\n",
    "        self.side=1\n",
    "        \n",
    "Bob = Square() # Bob is an instance of Square.\n",
    "Bob.side #Let's see the value of side"
   ]
  },
  {
   "cell_type": "code",
   "execution_count": 15,
   "metadata": {
    "collapsed": false
   },
   "outputs": [
    {
     "data": {
      "text/plain": [
       "5"
      ]
     },
     "execution_count": 15,
     "metadata": {},
     "output_type": "execute_result"
    }
   ],
   "source": [
    "Bob.side = 5 #Assing a new value to side\n",
    "Bob.side #Let's see the new value of side"
   ]
  },
  {
   "cell_type": "code",
   "execution_count": 16,
   "metadata": {
    "collapsed": false
   },
   "outputs": [
    {
     "data": {
      "text/plain": [
       "1"
      ]
     },
     "execution_count": 16,
     "metadata": {},
     "output_type": "execute_result"
    }
   ],
   "source": [
    "Krusty = Square()\n",
    "Krusty.side"
   ]
  },
  {
   "cell_type": "code",
   "execution_count": 8,
   "metadata": {
    "collapsed": false
   },
   "outputs": [
    {
     "data": {
      "text/plain": [
       "1"
      ]
     },
     "execution_count": 8,
     "metadata": {},
     "output_type": "execute_result"
    }
   ],
   "source": [
    "Square.side"
   ]
  },
  {
   "cell_type": "code",
   "execution_count": 9,
   "metadata": {
    "collapsed": false
   },
   "outputs": [
    {
     "data": {
      "text/plain": [
       "1"
      ]
     },
     "execution_count": 9,
     "metadata": {},
     "output_type": "execute_result"
    }
   ],
   "source": [
    "Crab = Square()\n",
    "Crab.side    "
   ]
  },
  {
   "cell_type": "code",
   "execution_count": 10,
   "metadata": {
    "collapsed": true
   },
   "outputs": [],
   "source": [
    "class Square:\n",
    "    count = 0\n",
    "    def __init__(self):\n",
    "        Square.count += 1\n",
    "        print(\"Object created successfully\")"
   ]
  },
  {
   "cell_type": "code",
   "execution_count": 11,
   "metadata": {
    "collapsed": false
   },
   "outputs": [
    {
     "name": "stdout",
     "output_type": "stream",
     "text": [
      "Object created successfully\n"
     ]
    }
   ],
   "source": [
    "Bob = Square()"
   ]
  },
  {
   "cell_type": "code",
   "execution_count": 12,
   "metadata": {
    "collapsed": false
   },
   "outputs": [
    {
     "name": "stdout",
     "output_type": "stream",
     "text": [
      "Object created successfully\n"
     ]
    }
   ],
   "source": [
    "Patrick = Square()"
   ]
  },
  {
   "cell_type": "code",
   "execution_count": 13,
   "metadata": {
    "collapsed": false
   },
   "outputs": [
    {
     "data": {
      "text/plain": [
       "2"
      ]
     },
     "execution_count": 13,
     "metadata": {},
     "output_type": "execute_result"
    }
   ],
   "source": [
    "Square.count"
   ]
  },
  {
   "cell_type": "code",
   "execution_count": 17,
   "metadata": {
    "collapsed": false
   },
   "outputs": [
    {
     "data": {
      "text/plain": [
       "'ATGGAGAGCCTTGTTCTTGGTGTCAA'"
      ]
     },
     "execution_count": 17,
     "metadata": {},
     "output_type": "execute_result"
    }
   ],
   "source": [
    "class Sequence:\n",
    "    transcription_table = {'A':'U', 'T':'A', 'C':'G' , 'G':'C'}\n",
    "    def __init__(self, seqstring):\n",
    "        self.seqstring = seqstring.upper()\n",
    "    def transcription(self):\n",
    "        tt = \"\"\n",
    "        for letter in self.seqstring:\n",
    "            if letter in 'ATCG':\n",
    "                tt += self.transcription_table[letter]\n",
    "        return tt\n",
    "\n",
    "dangerous_virus = Sequence('atggagagccttgttcttggtgtcaa')\n",
    "dangerous_virus.seqstring"
   ]
  },
  {
   "cell_type": "code",
   "execution_count": 18,
   "metadata": {
    "collapsed": false
   },
   "outputs": [
    {
     "data": {
      "text/plain": [
       "'AATGCTACTACTATTAGTAGAATTGATGCCA'"
      ]
     },
     "execution_count": 18,
     "metadata": {},
     "output_type": "execute_result"
    }
   ],
   "source": [
    "harmless_virus = Sequence('aatgctactactattagtagaattgatgcca')\n",
    "harmless_virus.seqstring"
   ]
  },
  {
   "cell_type": "code",
   "execution_count": 20,
   "metadata": {
    "collapsed": false
   },
   "outputs": [
    {
     "data": {
      "text/plain": [
       "'UACCUCUCGGAACAAGAACCACAGUU'"
      ]
     },
     "execution_count": 20,
     "metadata": {},
     "output_type": "execute_result"
    }
   ],
   "source": [
    "dangerous_virus.transcription()"
   ]
  },
  {
   "cell_type": "markdown",
   "metadata": {},
   "source": [
    "**Listing 8.1:** seqclass.py: Sequence class"
   ]
  },
  {
   "cell_type": "code",
   "execution_count": 21,
   "metadata": {
    "collapsed": false
   },
   "outputs": [
    {
     "data": {
      "text/plain": [
       "2"
      ]
     },
     "execution_count": 21,
     "metadata": {},
     "output_type": "execute_result"
    }
   ],
   "source": [
    "class Sequence:\n",
    "    transcription_table = {'A':'U', 'T':'A', 'C':'G' , 'G':'C'}\n",
    "    enz_dict = {'EcoRI':'GAATTC', 'EcoRV':'GATATC'}\n",
    "    def __init__(self, seqstring):\n",
    "        self.seqstring = seqstring.upper()\n",
    "    def restriction(self, enz):\n",
    "        try:\n",
    "            enz_target = Sequence.enz_dict[enz]\n",
    "            return self.seqstring.count(enz_target)\n",
    "        except KeyError:\n",
    "            return 0\n",
    "    def transcription(self):\n",
    "        tt = \"\"\n",
    "        for letter in self.seqstring:\n",
    "            if letter in 'ATCG':\n",
    "                tt += self.transcription_table[letter]\n",
    "        return tt\n",
    "\n",
    "other_virus = Sequence('atgatatcggagaggatatcggtgtcaa')\n",
    "other_virus.restriction('EcoRV')"
   ]
  },
  {
   "cell_type": "markdown",
   "metadata": {},
   "source": [
    "**Listing 8.2:** orca.py: Orca class"
   ]
  },
  {
   "cell_type": "code",
   "execution_count": 1,
   "metadata": {
    "collapsed": false
   },
   "outputs": [],
   "source": [
    "class Mammal():\n",
    "    \"\"\"Docstring with class description\"\"\"\n",
    "    # Properties here\n",
    "    # Methods here\n",
    "\n",
    "class Orca(Mammal):\n",
    "    \"\"\"Docstring with class description\"\"\"\n",
    "    # Properties here\n",
    "    # Methods here"
   ]
  },
  {
   "cell_type": "markdown",
   "metadata": {},
   "source": [
    "**Listing 8.3:** plasmid.py: Plasmid class"
   ]
  },
  {
   "cell_type": "code",
   "execution_count": 23,
   "metadata": {
    "collapsed": false
   },
   "outputs": [],
   "source": [
    "class Plasmid(Sequence):\n",
    "    ab_res_dict = {'Tet':'ctagcat', 'Amp':'CACTACTG'}\n",
    "    def __init__(self, seqstring):\n",
    "        Sequence.__init__(self, seqstring)\n",
    "    def ab_res(self, ab):\n",
    "        if self.ab_res_dict[ab] in self.seqstring:\n",
    "            return True\n",
    "        return False\n"
   ]
  },
  {
   "cell_type": "code",
   "execution_count": 1,
   "metadata": {
    "collapsed": false
   },
   "outputs": [
    {
     "name": "stdout",
     "output_type": "stream",
     "text": [
      "Fetching package metadata .........\n",
      "Solving package specifications: .\n",
      "\n",
      "Package plan for installation in environment /home/nbcommon/anaconda3_410:\n",
      "\n",
      "The following NEW packages will be INSTALLED:\n",
      "\n",
      "    biopython: 1.68-np111py35_0\n",
      "\n",
      "biopython-1.68 100% |################################| Time: 0:00:00  12.39 MB/s\n"
     ]
    }
   ],
   "source": [
    "!conda install biopython -y"
   ]
  },
  {
   "cell_type": "code",
   "execution_count": 2,
   "metadata": {
    "collapsed": false,
    "scrolled": true
   },
   "outputs": [
    {
     "data": {
      "text/plain": [
       "Seq('GCTATGCAGC', IUPACUnambiguousDNA())"
      ]
     },
     "execution_count": 2,
     "metadata": {},
     "output_type": "execute_result"
    }
   ],
   "source": [
    "from Bio.Alphabet import IUPAC\n",
    "from Bio.Seq import Seq\n",
    "first_seq = Seq('GCTATGCAGC', IUPAC.unambiguous_dna)\n",
    "first_seq"
   ]
  },
  {
   "cell_type": "code",
   "execution_count": 3,
   "metadata": {
    "collapsed": false
   },
   "outputs": [
    {
     "data": {
      "text/plain": [
       "Seq('CGATACGTCG', IUPACUnambiguousDNA())"
      ]
     },
     "execution_count": 3,
     "metadata": {},
     "output_type": "execute_result"
    }
   ],
   "source": [
    "first_seq.complement()"
   ]
  },
  {
   "cell_type": "code",
   "execution_count": 4,
   "metadata": {
    "collapsed": false
   },
   "outputs": [
    {
     "name": "stderr",
     "output_type": "stream",
     "text": [
      "/home/nbuser/anaconda3_410/lib/python3.5/site-packages/Bio/Seq.py:341: BiopythonDeprecationWarning: This method is obsolete; please use str(my_seq) instead of my_seq.tostring().\n",
      "  BiopythonDeprecationWarning)\n"
     ]
    },
    {
     "data": {
      "text/plain": [
       "'GCTATGCAGC'"
      ]
     },
     "execution_count": 4,
     "metadata": {},
     "output_type": "execute_result"
    }
   ],
   "source": [
    "first_seq.tostring()"
   ]
  },
  {
   "cell_type": "code",
   "execution_count": 5,
   "metadata": {
    "collapsed": false
   },
   "outputs": [
    {
     "data": {
      "text/plain": [
       "Seq('GCTATGCAGC', IUPACUnambiguousDNA())"
      ]
     },
     "execution_count": 5,
     "metadata": {},
     "output_type": "execute_result"
    }
   ],
   "source": [
    "first_seq[:10] # slice a sequence"
   ]
  },
  {
   "cell_type": "code",
   "execution_count": 6,
   "metadata": {
    "collapsed": false
   },
   "outputs": [
    {
     "data": {
      "text/plain": [
       "10"
      ]
     },
     "execution_count": 6,
     "metadata": {},
     "output_type": "execute_result"
    }
   ],
   "source": [
    "len(first_seq) # get the length of the sequence"
   ]
  },
  {
   "cell_type": "code",
   "execution_count": 7,
   "metadata": {
    "collapsed": false
   },
   "outputs": [
    {
     "data": {
      "text/plain": [
       "'G'"
      ]
     },
     "execution_count": 7,
     "metadata": {},
     "output_type": "execute_result"
    }
   ],
   "source": [
    "first_seq[0] # get one character"
   ]
  },
  {
   "cell_type": "code",
   "execution_count": 8,
   "metadata": {
    "collapsed": false
   },
   "outputs": [
    {
     "data": {
      "text/plain": [
       "Seq('GCTATGCAGC', IUPACUnambiguousDNA())"
      ]
     },
     "execution_count": 8,
     "metadata": {},
     "output_type": "execute_result"
    }
   ],
   "source": [
    "first_seq"
   ]
  },
  {
   "cell_type": "code",
   "execution_count": 9,
   "metadata": {
    "collapsed": false
   },
   "outputs": [
    {
     "name": "stdout",
     "output_type": "stream",
     "text": [
      "GCTATGCAGCTTTTTTT\n"
     ]
    }
   ],
   "source": [
    "AnotherSeq=first_seq.tomutable()\n",
    "AnotherSeq.extend(\"TTTTTTT\")\n",
    "print(AnotherSeq)"
   ]
  },
  {
   "cell_type": "code",
   "execution_count": 10,
   "metadata": {
    "collapsed": false
   },
   "outputs": [
    {
     "data": {
      "text/plain": [
       "'T'"
      ]
     },
     "execution_count": 10,
     "metadata": {},
     "output_type": "execute_result"
    }
   ],
   "source": [
    "AnotherSeq.pop()"
   ]
  },
  {
   "cell_type": "code",
   "execution_count": 11,
   "metadata": {
    "collapsed": false
   },
   "outputs": [
    {
     "data": {
      "text/plain": [
       "'T'"
      ]
     },
     "execution_count": 11,
     "metadata": {},
     "output_type": "execute_result"
    }
   ],
   "source": [
    "AnotherSeq.pop()"
   ]
  },
  {
   "cell_type": "code",
   "execution_count": 12,
   "metadata": {
    "collapsed": false,
    "scrolled": true
   },
   "outputs": [
    {
     "name": "stdout",
     "output_type": "stream",
     "text": [
      "GCTATGCAGCTTTTT\n"
     ]
    }
   ],
   "source": [
    "print(AnotherSeq)"
   ]
  },
  {
   "cell_type": "markdown",
   "metadata": {},
   "source": [
    "**Listing 8.4:** seqclass2.py: Sequence class"
   ]
  },
  {
   "cell_type": "code",
   "execution_count": 37,
   "metadata": {
    "collapsed": false
   },
   "outputs": [
    {
     "data": {
      "text/plain": [
       "32"
      ]
     },
     "execution_count": 37,
     "metadata": {},
     "output_type": "execute_result"
    }
   ],
   "source": [
    "class Sequence:\n",
    "    transcription_table = {'A':'U', 'T':'A', 'C':'G' , 'G':'C'}\n",
    "    enz_dict = {'EcoRI':'GAATTC', 'EcoRV':'GATATC'}\n",
    "    def __init__(self, seqstring):\n",
    "        self.seqstring = seqstring.upper()\n",
    "    def __len__(self):\n",
    "        return len(self.seqstring)\n",
    "    def restriction(self, enz):\n",
    "        try:\n",
    "            enz_target = Sequence.enz_dict[enz]\n",
    "            return self.seqstring.count(enz_target)\n",
    "        except KeyError:\n",
    "            return 0\n",
    "    def transcription(self):\n",
    "        tt = \"\"\n",
    "        for letter in self.seqstring:\n",
    "            if letter in 'ATCG':\n",
    "                tt += self.transcription_table[letter]\n",
    "        return tt\n",
    "    \n",
    "M13 = Sequence(\"ACGACTCTCGACGGCATCCACCCTCTCTGAGA\")\n",
    "len(M13)"
   ]
  },
  {
   "cell_type": "code",
   "execution_count": 46,
   "metadata": {
    "collapsed": false,
    "scrolled": true
   },
   "outputs": [
    {
     "name": "stdout",
     "output_type": "stream",
     "text": [
      "1\n",
      "2\n",
      "3\n"
     ]
    }
   ],
   "source": [
    "class Straight:\n",
    "    def __init__(self, data):\n",
    "        self.data = data\n",
    "        self.index = 0\n",
    "    def __iter__(self):\n",
    "        return self\n",
    "    def __next__(self):\n",
    "        if self.index == len(self.data):\n",
    "            raise StopIteration\n",
    "        answer = self.data[self.index]\n",
    "        self.index += 1\n",
    "        return answer\n",
    "\n",
    "class Reverse:\n",
    "    def __init__(self, data):\n",
    "        self.data = data\n",
    "        self.index = len(data)\n",
    "    def __iter__(self):\n",
    "        return self\n",
    "    def __next__(self):\n",
    "        if self.index == 0:\n",
    "            raise StopIteration\n",
    "        self.index -= 1\n",
    "        return self.data[self.index]\n",
    "    \n",
    "a = Straight(\"123\")\n",
    "for i in a:\n",
    "    print(i) "
   ]
  },
  {
   "cell_type": "code",
   "execution_count": 45,
   "metadata": {
    "collapsed": false,
    "scrolled": true
   },
   "outputs": [
    {
     "name": "stdout",
     "output_type": "stream",
     "text": [
      "3\n",
      "2\n",
      "1\n"
     ]
    }
   ],
   "source": [
    "b = Reverse(\"123\")\n",
    "for i in b:\n",
    "    print(i)"
   ]
  },
  {
   "cell_type": "markdown",
   "metadata": {},
   "source": [
    "**Listing 8.6:** seqwitsm.py: Sequence class with special methods attributes"
   ]
  },
  {
   "cell_type": "code",
   "execution_count": 47,
   "metadata": {
    "collapsed": false
   },
   "outputs": [],
   "source": [
    "class Sequence:\n",
    "    transcription_table = {'A':'U', 'T':'A', 'C':'G', 'G':'C'}\n",
    "    comp_table = {'A':'T', 'T':'A', 'C':'G', 'G':'C'}\n",
    "    def __init__(self, seqstring):\n",
    "        self.seqstring = seqstring.upper()\n",
    "    def restriction(self, enz):\n",
    "        enz_dict = {'EcoRI':'ACTGG', 'EcoRV':'AGTGC'}\n",
    "        try:\n",
    "            target = enz_dict[enz]\n",
    "        except KeyError:\n",
    "            raise ValueError('No such enzime in out enzime DB')\n",
    "        return self.seqstring.count(target)\n",
    "    def __getitem__(self,index):\n",
    "        return self.seqstring[index]\n",
    "    def __getslice__(self, low, high):\n",
    "        return self.seqstring[low:high]\n",
    "    def __len__(self):\n",
    "        return len(self.seqstring)\n",
    "    def __str__(self):\n",
    "        if len(self.seqstring) >= 28:\n",
    "            return '{0}...{1}'.format(self.seqstring[:25], \n",
    "                                      self.seqstring[-3:])\n",
    "        else:\n",
    "            return self.seqstring\n",
    "    def transcription(self):\n",
    "        tt = ''\n",
    "        for x in self.seqstring:\n",
    "            if x in 'ATCG':\n",
    "                tt += self.transcription_table[x]\n",
    "        return tt\n",
    "    def complement(self):\n",
    "        tt = ''\n",
    "        for x in self.seqstring:\n",
    "            if x in 'ATCG':\n",
    "                tt += self.comp_table[x]\n",
    "        return tt\n",
    "\n"
   ]
  },
  {
   "cell_type": "markdown",
   "metadata": {},
   "source": [
    "**Listing 8.7:** zdict.py: Extending dictionary class"
   ]
  },
  {
   "cell_type": "code",
   "execution_count": 48,
   "metadata": {
    "collapsed": true
   },
   "outputs": [],
   "source": [
    "class Zdic(dict):\n",
    "    \"\"\" A dictionary-like object that return 0 when a user\n",
    "    request a non-existent key.\n",
    "    \"\"\"\n",
    "\n",
    "    def __missing__(self,x):\n",
    "        return 0"
   ]
  },
  {
   "cell_type": "code",
   "execution_count": 49,
   "metadata": {
    "collapsed": false
   },
   "outputs": [
    {
     "data": {
      "text/plain": [
       "0"
      ]
     },
     "execution_count": 49,
     "metadata": {},
     "output_type": "execute_result"
    }
   ],
   "source": [
    "a = Zdic()\n",
    "a['blue'] = 'azul'\n",
    "a['red']"
   ]
  },
  {
   "cell_type": "code",
   "execution_count": 13,
   "metadata": {
    "collapsed": false
   },
   "outputs": [
    {
     "name": "stdout",
     "output_type": "stream",
     "text": [
      "None\n"
     ]
    },
    {
     "ename": "AttributeError",
     "evalue": "'TestClass' object has no attribute '__b'",
     "output_type": "error",
     "traceback": [
      "\u001b[0;31m---------------------------------------------------------------------------\u001b[0m",
      "\u001b[0;31mAttributeError\u001b[0m                            Traceback (most recent call last)",
      "\u001b[0;32m<ipython-input-13-07d9210c0261>\u001b[0m in \u001b[0;36m<module>\u001b[0;34m()\u001b[0m\n\u001b[1;32m      9\u001b[0m \u001b[0mmy_object\u001b[0m \u001b[0;34m=\u001b[0m \u001b[0mTestClass\u001b[0m\u001b[0;34m(\u001b[0m\u001b[0;34m)\u001b[0m\u001b[0;34m\u001b[0m\u001b[0m\n\u001b[1;32m     10\u001b[0m \u001b[0mprint\u001b[0m\u001b[0;34m(\u001b[0m\u001b[0mmy_object\u001b[0m\u001b[0;34m.\u001b[0m\u001b[0ma\u001b[0m\u001b[0;34m(\u001b[0m\u001b[0;34m)\u001b[0m\u001b[0;34m)\u001b[0m\u001b[0;34m\u001b[0m\u001b[0m\n\u001b[0;32m---> 11\u001b[0;31m \u001b[0mmy_object\u001b[0m\u001b[0;34m.\u001b[0m\u001b[0m__b\u001b[0m\u001b[0;34m(\u001b[0m\u001b[0;34m)\u001b[0m\u001b[0;34m\u001b[0m\u001b[0m\n\u001b[0m",
      "\u001b[0;31mAttributeError\u001b[0m: 'TestClass' object has no attribute '__b'"
     ]
    }
   ],
   "source": [
    "class TestClass:\n",
    "    \"\"\"A class with a \"private\" method (b)\"\"\"\n",
    "    def a(self):\n",
    "        pass\n",
    "    def __b(self):\n",
    "        # mangled to _TestClass__b\n",
    "        pass\n",
    "\n",
    "my_object = TestClass()\n",
    "print(my_object.a())\n",
    "my_object.__b()"
   ]
  },
  {
   "cell_type": "code",
   "execution_count": 14,
   "metadata": {
    "collapsed": true
   },
   "outputs": [],
   "source": [
    "my_object._TestClass__b()"
   ]
  }
 ],
 "metadata": {
  "kernelspec": {
   "display_name": "Python 3",
   "language": "python",
   "name": "python3"
  },
  "language_info": {
   "codemirror_mode": {
    "name": "ipython",
    "version": 3
   },
   "file_extension": ".py",
   "mimetype": "text/x-python",
   "name": "python",
   "nbconvert_exporter": "python",
   "pygments_lexer": "ipython3",
   "version": "3.5.1"
  }
 },
 "nbformat": 4,
 "nbformat_minor": 2
}
