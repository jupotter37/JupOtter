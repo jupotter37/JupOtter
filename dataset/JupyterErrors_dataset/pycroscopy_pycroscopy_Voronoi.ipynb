{
 "cells": [
  {
   "cell_type": "markdown",
   "id": "a08cb784-9659-4b73-b7b8-c44547f27d96",
   "metadata": {},
   "source": [
    "# Voronoi Analysis of Atom Positions\n",
    "## Part of the **pycroscopy** package\n",
    "### Gerd Duscher and Rama\n",
    "University of Tennessee, Knoxville and ORNL <br> \n",
    "10/03/2021\n",
    "\n",
    "#### This Jupyter Notebook demonstrates how to use Pycroscopy to find atom positions in images and subsequenitally analayse them with Voronoi tesselation.\n",
    "\n",
    "This notebook uses a lot of the image packages of pycroscopy to clean images, find atoms, and to analyse the positions.\n",
    "\n",
    "The atomic positions are viewed as a graph; more specifically a ring graph.\n",
    "The projections of the unit_cell and defect structural units are the rings.\n",
    "The center of the ring is the interstitial location. \n",
    "The vertices are the atom positions and the edges are the bonds.\n",
    "\n",
    "This is a modification of the method of [Banadaki and Patala](http://dx.doi.org/10.1038/s41524-017-0016-0)\n",
    "for 2-D (works in 3D as well)\n",
    "\n",
    "Starting from the atom positions we make a Delaunay tesselation and determine the size of the intersitital (circumscribed circle radius minus the atom radius).\n",
    "\n",
    "If neighbouring interstitials overlap we merge those triangles (in 3D the tetrhedra). This will give an unanbiguous tesselation or graph for a given atomic size.\n",
    "\n",
    "\n",
    "![notebook_rules.png](https://raw.githubusercontent.com/pycroscopy/pycroscopy/master/jupyter_notebooks/notebook_rules.png)\n"
   ]
  },
  {
   "cell_type": "code",
   "execution_count": null,
   "id": "444ac614-1596-4db4-bb4a-2d89816ca41f",
   "metadata": {},
   "outputs": [],
   "source": [
    "# Make sure needed packages are installed and up-to-date\n",
    "import sys\n",
    "!conda install --yes --prefix {sys.prefix} numpy scipy matplotlib Ipython ipywidgets SciFiReaders\n",
    "!{sys.executable} -m pip install -U --no-deps pycroscopy  # this will automatically install sidpy as well"
   ]
  },
  {
   "cell_type": "code",
   "execution_count": 5,
   "id": "cb6abbc2-8850-44d5-aab1-5bab43af763d",
   "metadata": {},
   "outputs": [
    {
     "name": "stdout",
     "output_type": "stream",
     "text": [
      "%pylab is deprecated, use %matplotlib inline and import the required libraries.\n",
      "Populating the interactive namespace from numpy and matplotlib\n",
      "sidpy version:  0.0.7\n",
      "SciFiReaders version:  0.0.4\n",
      "The autoreload extension is already loaded. To reload it, use:\n",
      "  %reload_ext autoreload\n"
     ]
    }
   ],
   "source": [
    "%pylab widget\n",
    "import sys\n",
    "\n",
    "sys.path.insert(0, '../')\n",
    "\n",
    "from sidpy.io.interface_utils import open_file_dialog\n",
    "import sidpy\n",
    "print('sidpy version: ', sidpy.__version__)\n",
    "\n",
    "from SciFiReaders import DM3Reader, NionReader\n",
    "\n",
    "import SciFiReaders\n",
    "print('SciFiReaders version: ', SciFiReaders.__version__)\n",
    "\n",
    "%load_ext autoreload\n",
    "%autoreload 2\n",
    "import pycroscopy as px"
   ]
  },
  {
   "cell_type": "markdown",
   "id": "7e245a02-f773-4610-8a77-fc94b84cbdd6",
   "metadata": {},
   "source": [
    "## Load Image"
   ]
  },
  {
   "cell_type": "code",
   "execution_count": 3,
   "id": "29ede9ac-4159-4254-93f6-7bb6d29ec7c5",
   "metadata": {},
   "outputs": [
    {
     "data": {
      "application/vnd.jupyter.widget-view+json": {
       "model_id": "466879aaa78441c593bc904ff1e4d219",
       "version_major": 2,
       "version_minor": 0
      },
      "text/plain": [
       "open_file_dialog(path='C:\\Users\\gduscher\\Documents\\Github\\pycroscopy\\jupyter_notebooks', filename='', title=''…"
      ]
     },
     "metadata": {},
     "output_type": "display_data"
    }
   ],
   "source": [
    "dialog = open_file_dialog()\n",
    "dialog"
   ]
  },
  {
   "cell_type": "code",
   "execution_count": 6,
   "id": "e0f0c2af-ae0e-493a-a785-3be415c9b52f",
   "metadata": {},
   "outputs": [
    {
     "ename": "OSError",
     "evalue": "File C:\\Users\\gduscher\\Documents\\Github\\pycroscopy\\data\\STEM_STO_2_20.h5 does not seem to be of Nion`s .h5 format",
     "output_type": "error",
     "traceback": [
      "\u001b[1;31m---------------------------------------------------------------------------\u001b[0m",
      "\u001b[1;31mOSError\u001b[0m                                   Traceback (most recent call last)",
      "File \u001b[1;32m~\\Anaconda3\\lib\\site-packages\\SciFiReaders\\readers\\microscopy\\em\\tem\\nion_reader.py:128\u001b[0m, in \u001b[0;36mNionReader.__init__\u001b[1;34m(self, file_path, verbose)\u001b[0m\n\u001b[0;32m    127\u001b[0m \u001b[38;5;28;01mif\u001b[39;00m \u001b[38;5;124m'\u001b[39m\u001b[38;5;124mdata\u001b[39m\u001b[38;5;124m'\u001b[39m \u001b[38;5;129;01mnot\u001b[39;00m \u001b[38;5;129;01min\u001b[39;00m fp:\n\u001b[1;32m--> 128\u001b[0m     \u001b[38;5;28;01mraise\u001b[39;00m \u001b[38;5;167;01mIOError\u001b[39;00m(\u001b[38;5;124m\"\u001b[39m\u001b[38;5;124mFile \u001b[39m\u001b[38;5;132;01m{}\u001b[39;00m\u001b[38;5;124m does not seem to be of Nion`s .h5 format\u001b[39m\u001b[38;5;124m\"\u001b[39m\u001b[38;5;241m.\u001b[39mformat(\u001b[38;5;28mself\u001b[39m\u001b[38;5;241m.\u001b[39m__filename))\n\u001b[0;32m    129\u001b[0m fp\u001b[38;5;241m.\u001b[39mclose()\n",
      "\u001b[1;31mOSError\u001b[0m: File C:\\Users\\gduscher\\Documents\\Github\\pycroscopy\\data\\STEM_STO_2_20.h5 does not seem to be of Nion`s .h5 format",
      "\nDuring handling of the above exception, another exception occurred:\n",
      "\u001b[1;31mOSError\u001b[0m                                   Traceback (most recent call last)",
      "Input \u001b[1;32mIn [6]\u001b[0m, in \u001b[0;36m<cell line: 1>\u001b[1;34m()\u001b[0m\n\u001b[1;32m----> 1\u001b[0m dm3_reader \u001b[38;5;241m=\u001b[39m \u001b[43mNionReader\u001b[49m\u001b[43m(\u001b[49m\u001b[43mdialog\u001b[49m\u001b[38;5;241;43m.\u001b[39;49m\u001b[43mselected\u001b[49m\u001b[43m)\u001b[49m\n\u001b[0;32m      2\u001b[0m dataset \u001b[38;5;241m=\u001b[39m dm3_reader\u001b[38;5;241m.\u001b[39mread()\n\u001b[0;32m      3\u001b[0m pixel_size \u001b[38;5;241m=\u001b[39m \u001b[38;5;241m16\u001b[39m\u001b[38;5;241m/\u001b[39m\u001b[38;5;241m512\u001b[39m\u001b[38;5;241m*\u001b[39m\u001b[38;5;241m0.97\u001b[39m\n",
      "File \u001b[1;32m~\\Anaconda3\\lib\\site-packages\\SciFiReaders\\readers\\microscopy\\em\\tem\\nion_reader.py:131\u001b[0m, in \u001b[0;36mNionReader.__init__\u001b[1;34m(self, file_path, verbose)\u001b[0m\n\u001b[0;32m    129\u001b[0m     fp\u001b[38;5;241m.\u001b[39mclose()\n\u001b[0;32m    130\u001b[0m \u001b[38;5;28;01mexcept\u001b[39;00m \u001b[38;5;167;01mIOError\u001b[39;00m:\n\u001b[1;32m--> 131\u001b[0m     \u001b[38;5;28;01mraise\u001b[39;00m \u001b[38;5;167;01mIOError\u001b[39;00m(\u001b[38;5;124m\"\u001b[39m\u001b[38;5;124mFile \u001b[39m\u001b[38;5;132;01m{}\u001b[39;00m\u001b[38;5;124m does not seem to be of Nion`s .h5 format\u001b[39m\u001b[38;5;124m\"\u001b[39m\u001b[38;5;241m.\u001b[39mformat(\u001b[38;5;28mself\u001b[39m\u001b[38;5;241m.\u001b[39m__filename))\n",
      "\u001b[1;31mOSError\u001b[0m: File C:\\Users\\gduscher\\Documents\\Github\\pycroscopy\\data\\STEM_STO_2_20.h5 does not seem to be of Nion`s .h5 format"
     ]
    }
   ],
   "source": [
    "dm3_reader = NionReader(dialog.selected)\n",
    "dataset = dm3_reader.read()\n",
    "pixel_size = 16/512*0.97\n",
    "dataset.set_dimension(0, sidpy.Dimension(np.arange(dataset.shape[0])*pixel_size,\n",
    "                                              name='x', units='nm', dimension_type='SPATIAL',\n",
    "                                              quantity='length'))\n",
    "dataset.set_dimension(1, sidpy.Dimension(np.arange(dataset.shape[1])*pixel_size,\n",
    "                                              name='y', units='nm', dimension_type='SPATIAL',\n",
    "                                              quantity='length'))\n",
    "\n",
    "dataset.plot()\n",
    "from matplotlib.widgets import RectangleSelector\n",
    "# drawtype is 'box' or 'line' or 'none'\n",
    "selector = RectangleSelector(plt.gca(), None ,drawtype='box', useblit=True,\n",
    "                                       button=[1, 3],  # disable middle button\n",
    "                                       minspanx=5, minspany=5,\n",
    "                                       spancoords='pixels',\n",
    "                                       interactive=True)"
   ]
  },
  {
   "cell_type": "code",
   "execution_count": 18,
   "id": "b61f1690-7b7d-474a-b5be-44a23a6c5577",
   "metadata": {},
   "outputs": [
    {
     "data": {
      "application/vnd.jupyter.widget-view+json": {
       "model_id": "5f96b499cfd14748a238a47f945cd004",
       "version_major": 2,
       "version_minor": 0
      },
      "text/plain": [
       "Canvas(toolbar=Toolbar(toolitems=[('Home', 'Reset original view', 'home', 'home'), ('Back', 'Back to previous …"
      ]
     },
     "metadata": {},
     "output_type": "display_data"
    }
   ],
   "source": [
    "selection = px.image.crop_image(dataset, selector.corners)\n",
    "selection.plot()"
   ]
  },
  {
   "cell_type": "markdown",
   "id": "c689213f-7d2a-4522-999b-4f4976968096",
   "metadata": {},
   "source": [
    "## Clean Image"
   ]
  },
  {
   "cell_type": "code",
   "execution_count": 19,
   "id": "a624eb60-d124-414d-8cd1-24e04b6f7500",
   "metadata": {},
   "outputs": [
    {
     "data": {
      "application/vnd.jupyter.widget-view+json": {
       "model_id": "5da194ec02c14357aac45b320c5692d5",
       "version_major": 2,
       "version_minor": 0
      },
      "text/plain": [
       "  0%|          | 0/500 [00:00<?, ?it/s]"
      ]
     },
     "metadata": {},
     "output_type": "display_data"
    },
    {
     "name": "stdout",
     "output_type": "stream",
     "text": [
      "converged in 252 iterations\n",
      "\n",
      " Lucy-Richardson deconvolution converged in 252  iterations\n"
     ]
    },
    {
     "data": {
      "application/vnd.jupyter.widget-view+json": {
       "model_id": "5ef9243b40d941f3bf304d74e649e213",
       "version_major": 2,
       "version_minor": 0
      },
      "text/plain": [
       "Canvas(toolbar=Toolbar(toolitems=[('Home', 'Reset original view', 'home', 'home'), ('Back', 'Back to previous …"
      ]
     },
     "metadata": {},
     "output_type": "display_data"
    }
   ],
   "source": [
    "# ----Input --------------\n",
    "resolution = 0.05  # in nm\n",
    "# ------------------------\n",
    "\n",
    "lr_dset = px.image.decon_lr(dataset-dataset.min(), resolution=resolution)\n",
    "\n",
    "lr_dset[lr_dset>12] = 12\n",
    "lr_dset.plot()"
   ]
  },
  {
   "cell_type": "code",
   "execution_count": 5,
   "id": "5dc9a6af-32ee-4fa2-bb58-4650f59b2b6b",
   "metadata": {},
   "outputs": [
    {
     "data": {
      "application/vnd.jupyter.widget-view+json": {
       "model_id": "522b4bb0d5d44703a4754d71aac223e0",
       "version_major": 2,
       "version_minor": 0
      },
      "text/plain": [
       "Canvas(toolbar=Toolbar(toolitems=[('Home', 'Reset original view', 'home', 'home'), ('Back', 'Back to previous …"
      ]
     },
     "metadata": {},
     "output_type": "display_data"
    }
   ],
   "source": [
    "svd_dset = px.image.clean_svd(dataset, source_size=3)\n",
    "svd_dset.plot()"
   ]
  },
  {
   "cell_type": "markdown",
   "id": "2b1ec614-69a8-45ee-9e09-b15ad1448e2e",
   "metadata": {},
   "source": [
    "## Find Atoms\n",
    "### Blob Finder with Pixel Accuracy"
   ]
  },
  {
   "cell_type": "code",
   "execution_count": 6,
   "id": "63ce4dbe-b768-4531-9cc3-13c65e1898ff",
   "metadata": {},
   "outputs": [
    {
     "name": "stdout",
     "output_type": "stream",
     "text": [
      " Found 7632 atoms in image\n"
     ]
    },
    {
     "data": {
      "application/vnd.jupyter.widget-view+json": {
       "model_id": "dd43b9dc35a3430ab4ea570bd5e4d8f3",
       "version_major": 2,
       "version_minor": 0
      },
      "text/plain": [
       "Canvas(toolbar=Toolbar(toolitems=[('Home', 'Reset original view', 'home', 'home'), ('Back', 'Back to previous …"
      ]
     },
     "metadata": {},
     "output_type": "display_data"
    },
    {
     "data": {
      "text/plain": [
       "<matplotlib.collections.PathCollection at 0x7f106abcabb0>"
      ]
     },
     "execution_count": 6,
     "metadata": {},
     "output_type": "execute_result"
    }
   ],
   "source": [
    "# ----Input ---------\n",
    "atom_size = 0.1  # units of image scale\n",
    "threshold = 0.03\n",
    "# -------------------\n",
    "atoms = px.image.find_atoms(lr_dset, atom_size=atom_size, threshold=threshold)\n",
    "print(f' Found {len(atoms)} atoms in image')\n",
    "\n",
    "plt.figure()\n",
    "plt.imshow(lr_dset.T, vmax=9)\n",
    "plt.scatter(atoms[:, 0], atoms[:,1], color='red')"
   ]
  },
  {
   "cell_type": "markdown",
   "id": "99513ebc-2543-40ff-8f9a-5f5f848d8e9a",
   "metadata": {},
   "source": [
    "### Refine Atom Positions \n",
    "Refine atom positions  with pixel sub-pixel accuracy by fitting a (symmetric) Gaussian in peak"
   ]
  },
  {
   "cell_type": "code",
   "execution_count": 7,
   "id": "f4424fc2-406d-4c63-a8e9-aa19c5ede30c",
   "metadata": {},
   "outputs": [
    {
     "name": "stdout",
     "output_type": "stream",
     "text": [
      "using radius  2 pixels\n"
     ]
    },
    {
     "data": {
      "application/vnd.jupyter.widget-view+json": {
       "model_id": "74c66ec1e2f840238da4e5ba0c16040d",
       "version_major": 2,
       "version_minor": 0
      },
      "text/plain": [
       "  0%|          | 0/7632 [00:00<?, ?it/s]"
      ]
     },
     "metadata": {},
     "output_type": "display_data"
    },
    {
     "name": "stderr",
     "output_type": "stream",
     "text": [
      "/home/nyd/.local/lib/python3.8/site-packages/pyTEMlib/probe_tools.py:13: RuntimeWarning: invalid value encountered in true_divide\n",
      "  probe = g / g.sum() * intensity\n"
     ]
    },
    {
     "data": {
      "application/vnd.jupyter.widget-view+json": {
       "model_id": "55c875002436491b9d1cc009bb0f6673",
       "version_major": 2,
       "version_minor": 0
      },
      "text/plain": [
       "Canvas(toolbar=Toolbar(toolitems=[('Home', 'Reset original view', 'home', 'home'), ('Back', 'Back to previous …"
      ]
     },
     "metadata": {},
     "output_type": "display_data"
    },
    {
     "data": {
      "text/plain": [
       "<matplotlib.collections.PathCollection at 0x7f106bf1abb0>"
      ]
     },
     "execution_count": 7,
     "metadata": {},
     "output_type": "execute_result"
    }
   ],
   "source": [
    "sym = px.image.atom_refine(np.array(lr_dset-lr_dset.min()+1e-12), atoms, 2, max_int = 0, min_int = 2, max_dist = 2)\n",
    "refined_atoms = np.array(sym['atoms'])\n",
    "\n",
    "plt.figure()\n",
    "plt.imshow(lr_dset.T, vmax=9)\n",
    "plt.scatter(refined_atoms[:, 0]+0.5, refined_atoms[:,1]+0.5, color='red')"
   ]
  },
  {
   "cell_type": "markdown",
   "id": "f3478040-83a5-4360-9f0f-c34719069c95",
   "metadata": {},
   "source": [
    "## "
   ]
  },
  {
   "cell_type": "code",
   "execution_count": 17,
   "id": "8ec43f2f-1676-453c-9d0d-e81a55400fb8",
   "metadata": {},
   "outputs": [
    {
     "data": {
      "text/plain": [
       "0.07071067811865475"
      ]
     },
     "execution_count": 17,
     "metadata": {},
     "output_type": "execute_result"
    }
   ],
   "source": [
    "projected(.404/np.sqrt(2)/4)"
   ]
  },
  {
   "cell_type": "code",
   "execution_count": 8,
   "id": "39898a72-e7dd-436c-a15d-94b8d6459894",
   "metadata": {},
   "outputs": [
    {
     "data": {
      "application/vnd.jupyter.widget-view+json": {
       "model_id": "3b89a8d3428849db886287bfe7606701",
       "version_major": 2,
       "version_minor": 0
      },
      "text/plain": [
       "  0%|          | 0/6351 [00:00<?, ?it/s]"
      ]
     },
     "metadata": {},
     "output_type": "display_data"
    },
    {
     "data": {
      "application/vnd.jupyter.widget-view+json": {
       "model_id": "917fdc9ddaed45be817b63e641984147",
       "version_major": 2,
       "version_minor": 0
      },
      "text/plain": [
       "  0%|          | 0/14899 [00:00<?, ?it/s]"
      ]
     },
     "metadata": {},
     "output_type": "display_data"
    },
    {
     "data": {
      "application/vnd.jupyter.widget-view+json": {
       "model_id": "0f3ec192b67d4ae881c79ba42473ba57",
       "version_major": 2,
       "version_minor": 0
      },
      "text/plain": [
       "Canvas(toolbar=Toolbar(toolitems=[('Home', 'Reset original view', 'home', 'home'), ('Back', 'Back to previous …"
      ]
     },
     "metadata": {},
     "output_type": "display_data"
    }
   ],
   "source": [
    "structural_units  = px.image.find_structural_units(refined_atoms[:,:2], .4/np.sqrt(2)/4, lr_dset)\n",
    "\n",
    "graph_dictionary = px.image.get_polygons(structural_units)\n",
    "\n",
    "fig = plt.figure()\n",
    "plt.imshow(lr_dset.T, extent=[-0.5,dataset.shape[0]-1.5, dataset.shape[1]-1.5,-0.5], cmap = 'gray', vmax= 7)\n",
    "\n",
    "px.image.add_graph(graph_dictionary, 'cyclicity', min_q=2.5, max_q=12.5, fig=fig, cmap=plt.cm.tab10)\n",
    "# px.image.add_graph(graph_dictionary, 'areas', min_q=4**2, max_q=8**2, fig=fig)"
   ]
  },
  {
   "cell_type": "code",
   "execution_count": 9,
   "id": "42347edc-5305-4ab8-8c76-e5fab941f304",
   "metadata": {},
   "outputs": [
    {
     "data": {
      "application/vnd.jupyter.widget-view+json": {
       "model_id": "c24f66cfa64d472f87397de0f6eb04d7",
       "version_major": 2,
       "version_minor": 0
      },
      "text/plain": [
       "Canvas(toolbar=Toolbar(toolitems=[('Home', 'Reset original view', 'home', 'home'), ('Back', 'Back to previous …"
      ]
     },
     "metadata": {},
     "output_type": "display_data"
    }
   ],
   "source": [
    "from matplotlib.collections import PatchCollection\n",
    "import matplotlib\n",
    "\n",
    "unit_cells = PatchCollection(graph_dictionary['unit_cells'], alpha=.5, cmap=matplotlib.cm.viridis, clim=(4., 8.),  edgecolor='black')\n",
    "cyclicity = np.sqrt(np.array(graph_dictionary['areas']))\n",
    "\n",
    "plt.figure()\n",
    "plt.imshow(lr_dset.T, extent=[-0.5,dataset.shape[0]-1.5, dataset.shape[1]-1.5,-0.5], cmap='gray', vmax= 5, vmin = 0)\n",
    "\n",
    "unit_cells.set_array(cyclicity)\n",
    "plt.gca().add_collection(unit_cells)\n",
    "plt.scatter(refined_atoms[:,0],refined_atoms[:,1],color='orange',alpha=0.5, s = 20)\n",
    "\n",
    "cbar = plt.colorbar(unit_cells, label='$\\sqrt{area}$ [nm]')\n"
   ]
  },
  {
   "cell_type": "code",
   "execution_count": 14,
   "id": "8eee215a-4567-4519-9217-bd70689757c6",
   "metadata": {},
   "outputs": [
    {
     "data": {
      "application/vnd.jupyter.widget-view+json": {
       "model_id": "879c4a08cd4b4e9eb30a57e71e2ebeb5",
       "version_major": 2,
       "version_minor": 0
      },
      "text/plain": [
       "Canvas(toolbar=Toolbar(toolitems=[('Home', 'Reset original view', 'home', 'home'), ('Back', 'Back to previous …"
      ]
     },
     "metadata": {},
     "output_type": "display_data"
    },
    {
     "data": {
      "text/plain": [
       "<matplotlib.image.AxesImage at 0x7f1068df8ca0>"
      ]
     },
     "execution_count": 14,
     "metadata": {},
     "output_type": "execute_result"
    }
   ],
   "source": [
    "import scipy\n",
    "vor = scipy.spatial.Voronoi(refined_atoms[:,:2])\n",
    "fig = scipy.spatial.voronoi_plot_2d(vor)\n",
    "plt.gca().imshow(lr_dset.T)"
   ]
  },
  {
   "cell_type": "markdown",
   "id": "a4badb74-cd74-46b5-baf7-85ebc130f04f",
   "metadata": {},
   "source": [
    "## Appendix"
   ]
  },
  {
   "cell_type": "code",
   "execution_count": 260,
   "id": "9eefd1e5-ecec-42d4-9907-3786664157c9",
   "metadata": {},
   "outputs": [],
   "source": [
    "from tqdm.auto import trange, tqdm\n",
    "\n",
    "def circum_center(vertex_pos, tol=1e-3):\n",
    "    \"\"\"\n",
    "    Function finds the center and the radius of the circumsphere of every tetrahedron.\n",
    "    Reference:\n",
    "    Fiedler, Miroslav. Matrices and graphs in geometry. No. 139. Cambridge University Press, 2011.\n",
    "    (p.29 bottom: example 2.1.11)\n",
    "    Code (slightly modified) from https://github.com/spatala/gbpy\n",
    "\n",
    "    Parameters\n",
    "    -----------------\n",
    "    vertex_pos : numpy array\n",
    "        The position of vertices of a tetrahedron\n",
    "    tol : float\n",
    "        Tolerance defined  to identify co-planar tetrahedrons\n",
    "    Returns\n",
    "    ----------\n",
    "    circum_center : numpy array\n",
    "        The center of the circumsphere\n",
    "    circum_radius : float\n",
    "        The radius of the circumsphere\n",
    "    \"\"\"\n",
    "    \n",
    "    if vertex_pos.shape[1] < 3:\n",
    "        ax = vertex_pos[0, 0]\n",
    "        ay = vertex_pos[0, 1]\n",
    "        bx = vertex_pos[1, 0]\n",
    "        by = vertex_pos[1, 1]\n",
    "        cx = vertex_pos[2, 0]\n",
    "        cy = vertex_pos[2, 1]\n",
    "        d = 2 * (ax * (by - cy) + bx * (cy - ay) + cx * (ay - by))\n",
    "        ux = ((ax * ax + ay * ay) * (by - cy) + (bx * bx + by * by) * (cy - ay) + (cx * cx + cy * cy) * (ay - by)) / d\n",
    "        uy = ((ax * ax + ay * ay) * (cx - bx) + (bx * bx + by * by) * (ax - cx) + (cx * cx + cy * cy) * (bx - ax)) / d\n",
    "\n",
    "        circum_center =np.array([ux, uy]) \n",
    "        circum_radius = np.linalg.norm(circum_center-vertex_pos[0])\n",
    "        \n",
    "        return np.array(circum_center), circum_radius\n",
    "    dis_ij = scipy.spatial.distance.pdist(np.array(vertex_pos), 'euclidean')\n",
    "    sq_12, sq_13, sq_14, sq_23, sq_24, sq_34 = np.power(dis_ij, 2)\n",
    "\n",
    "    matrix_c = np.array([[0, 1, 1, 1, 1], [1, 0, sq_12, sq_13, sq_14], [1, sq_12, 0, sq_23, sq_24],\n",
    "                         [1, sq_13, sq_23, 0, sq_34], [1, sq_14, sq_24, sq_34, 0]])\n",
    "\n",
    "    det_matrix_c = (np.linalg.det(matrix_c))\n",
    "\n",
    "    if det_matrix_c < tol:\n",
    "        return np.array([0, 0, 0]), 0\n",
    "    else:\n",
    "        matrix = -2 * np.linalg.inv(matrix_c)\n",
    "        circum_center = (matrix[0, 1] * vertex_pos[0, :] + matrix[0, 2] * vertex_pos[1, :] +\n",
    "                         matrix[0, 3] * vertex_pos[2, :] +\n",
    "                         matrix[0, 4] * vertex_pos[3, :]) / (matrix[0, 1] + matrix[0, 2] + matrix[0, 3] + matrix[0, 4])\n",
    "        circum_radius = np.sqrt(matrix[0, 0]) / 2\n",
    "\n",
    "    return np.array(circum_center), circum_radius\n",
    "\n",
    "def voronoi_volumes(points):\n",
    "    \"\"\"\n",
    "    Volumes of voronoi  cells from\n",
    "    https://stackoverflow.com/questions/19634993/volume-of-voronoi-cell-python\n",
    "\n",
    "\n",
    "    \"\"\"\n",
    "    v = scipy.spatial.Voronoi(points)\n",
    "    vol = np.zeros(v.npoints)\n",
    "    for i, reg_num in enumerate(v.point_region):\n",
    "        indices = v.regions[reg_num]\n",
    "        if -1 in indices: # some regions can be opened\n",
    "            vol[i] = np.inf\n",
    "        else:\n",
    "            try:\n",
    "                hull = scipy.spatial.ConvexHull(v.vertices[indices])\n",
    "                vol[i] = hull.volume\n",
    "            except:\n",
    "                vol[i] = 0.\n",
    "    return vol\n",
    "\n",
    "\n",
    "def get_voronoi(tetrahedra, atoms, r_a, extent):\n",
    "    \"\"\"\n",
    "    Find Voronoi vertices and keep track of associated tetrahedrons and interstitial radii\n",
    "    \n",
    "    Used in find_polyhedra function\n",
    "    \n",
    "    Parameters\n",
    "    ----------\n",
    "    tetrahedra: scipy.spatial.Delaunay object\n",
    "        Delaunay tesselation\n",
    "    atoms: ase.Atoms object\n",
    "        the structural information\n",
    "    r_a: float\n",
    "        the atomic radius\n",
    "\n",
    "    Returns\n",
    "    -------\n",
    "    voronoi_vertices: list\n",
    "        list of positions of voronoi vertices\n",
    "    voronoi_tetrahedra:\n",
    "        list of indices of associated vertices of tetrahedra\n",
    "    r_vv: list of float\n",
    "        list of all interstitial sizes\n",
    "    \"\"\"\n",
    "\n",
    "    voronoi_vertices = []\n",
    "    voronoi_tetrahedrons = []\n",
    "    r_vv = []\n",
    "    for vertices in tetrahedra.vertices:\n",
    "        voronoi, radius = circum_center(atoms[vertices])\n",
    "        \n",
    "        if (voronoi >= 0).all() and (extent - voronoi > 0).all() and radius > 0.01:\n",
    "            voronoi_vertices.append(voronoi)\n",
    "            voronoi_tetrahedrons.append(vertices)\n",
    "            r_vv.append(radius - r_a)\n",
    "    return voronoi_vertices, voronoi_tetrahedrons, r_vv\n",
    "\n",
    "\n",
    "def find_overlapping_interstitials(voronoi_vertices, r_vv, r_a, cheat=1.):\n",
    "    \"\"\"Find overlapping spheres\"\"\"\n",
    "    \n",
    "    vertex_tree = scipy.spatial.cKDTree(np.array(voronoi_vertices)[:,:2])\n",
    "\n",
    "    pairs = vertex_tree.query_pairs(r=r_a * 2)\n",
    "\n",
    "    overlapping_pairs = []\n",
    "    for (i, j) in pairs:\n",
    "        if np.linalg.norm(voronoi_vertices[i] - voronoi_vertices[j]) < (r_vv[i] + r_vv[j])*cheat:\n",
    "            overlapping_pairs.append([i, j])\n",
    "\n",
    "    return np.array(sorted(overlapping_pairs))\n",
    "\n",
    "\n",
    "def find_clusters(overlapping_pairs):\n",
    "    \"\"\"Make cluste\n",
    "    We are using a breadth first to go through the list of overlapping spheres to determine clusters\n",
    "    \"\"\"\n",
    "    visited_all = []\n",
    "    clusters = []\n",
    "    for initial in overlapping_pairs[:, 0]:\n",
    "        if initial not in visited_all:\n",
    "            # breadth first search\n",
    "            visited = []  # the atoms we visited\n",
    "            queue = [initial]\n",
    "            while queue:\n",
    "                node = queue.pop(0)\n",
    "                if node not in visited_all:\n",
    "                    visited.append(node)\n",
    "                    visited_all.append(node)\n",
    "                    # neighbors = overlapping_pairs[overlapping_pairs[:,0]==node,1]\n",
    "                    neighbors = np.append(overlapping_pairs[overlapping_pairs[:, 1] == node, 0],\n",
    "                                          overlapping_pairs[overlapping_pairs[:, 0] == node, 1])\n",
    "\n",
    "                    for i, neighbour in enumerate(neighbors):\n",
    "                        if neighbour not in visited:\n",
    "                            queue.append(neighbour)\n",
    "            clusters.append(visited)\n",
    "    return clusters, visited_all\n",
    "\n",
    "\n",
    "def make_polyhedrons(atoms, voronoi_vertices, voronoi_tetrahedrons, clusters, visited_all):\n",
    "    \"\"\"collect output data  and make dictionary\"\"\"\n",
    "\n",
    "    polyhedra = {}\n",
    "    for index in trange(len(clusters)):\n",
    "        cluster = clusters[index]\n",
    "        cc = []\n",
    "        for c in cluster:\n",
    "            cc = cc + list(voronoi_tetrahedrons[c])\n",
    "        hull = scipy.spatial.ConvexHull(atoms[list(set(cc))])\n",
    "        faces = []\n",
    "        triangles = []\n",
    "        for s in hull.simplices:\n",
    "            faces.append(atoms[list(set(cc))][s])\n",
    "            triangles.append(list(s))\n",
    "        polyhedra[index] = {'vertices': atoms[list(set(cc))], 'indices': list(set(cc)),\n",
    "                            'faces': faces, 'triangles': triangles,\n",
    "                            'length': len(list(set(cc))),\n",
    "                            'combined_vertices': cluster,\n",
    "                            'interstitial_index': index,\n",
    "                            'interstitial_site': np.array(voronoi_tetrahedrons)[cluster].mean(axis=0),\n",
    "                            'volume': hull.volume}\n",
    "        if False:  # isinstance(atoms, ase.Atoms):\n",
    "                polyhedra[index]['atomic_numbers'] = atoms.get_atomic_numbers()[vertices],\n",
    "\n",
    "        # 'coplanar': hull.coplanar}\n",
    "\n",
    "    running_number = index + 0\n",
    "    for index in trange(len(voronoi_vertices)):\n",
    "        if index not in visited_all:\n",
    "            vertices = voronoi_tetrahedrons[index]\n",
    "            hull = scipy.spatial.ConvexHull(atoms[vertices])\n",
    "            faces = []\n",
    "            triangles = []\n",
    "            for s in hull.simplices:\n",
    "                faces.append(atoms[vertices][s])\n",
    "                triangles.append(list(s))\n",
    "\n",
    "            polyhedra[running_number] = {'vertices': atoms[vertices], 'indices': vertices,\n",
    "                                         'faces': faces, 'triangles': triangles,\n",
    "                                         'length': len(vertices),\n",
    "                                         'combined_vertices': index,\n",
    "                                         'interstitial_index': running_number,\n",
    "                                         'interstitial_site': np.array(voronoi_tetrahedrons)[index],\n",
    "                                         'volume': hull.volume}\n",
    "            if False:  # isinstance(atoms, ase.Atoms):\n",
    "                polyhedra[running_number]['atomic_numbers'] = atoms.get_atomic_numbers()[vertices],\n",
    "\n",
    "\n",
    "            running_number += 1\n",
    "\n",
    "    return polyhedra\n",
    "\n",
    "##################################################################\n",
    "# polyhedra functions\n",
    "##################################################################\n",
    "\n",
    "\n",
    "def find_polyhedra(atoms, r_a, extent, cheat=1.0):\n",
    "    \"\"\" get polyhedra information from an ase.Atoms object\n",
    "\n",
    "    This is following the method of Banadaki and Patala\n",
    "    http://dx.doi.org/10.1038/s41524-017-0016-0\n",
    "\n",
    "    Parameter\n",
    "    ---------\n",
    "    atoms: ase.Atoms object\n",
    "        the structural information\n",
    "    r_a: float\n",
    "        the atomic radius\n",
    "\n",
    "    Returns\n",
    "    -------\n",
    "    polyhedra: dict\n",
    "        dictionary with all information of polyhedra\n",
    "    \"\"\"\n",
    "    \n",
    "    if not isinstance(r_a, (int, float)):\n",
    "        raise TypeError('Atomic radius must be a real number')\n",
    "\n",
    "    if not (0.5 < r_a < 2):\n",
    "        print('Strange atomic radius, are you sure you know what you are doing?')\n",
    "    tesselation = scipy.spatial.Delaunay(atoms)\n",
    "\n",
    "    voronoi_vertices, voronoi_tetrahedrons, r_vv = get_voronoi(tesselation, atoms, r_a, extent)\n",
    "\n",
    "    overlapping_pairs = find_overlapping_interstitials(voronoi_vertices, r_vv, r_a, cheat=cheat)\n",
    "\n",
    "    clusters, visited_all = find_clusters(overlapping_pairs)\n",
    "\n",
    "    polyhedra = make_polyhedrons(atoms, voronoi_vertices, voronoi_tetrahedrons, clusters, visited_all)\n",
    "\n",
    "    return polyhedra\n",
    "\n",
    "\n",
    "def sort_polyhedra_by_vertices(polyhedra, visible=range(4, 100), z_lim=[0, 100], verbose=False):\n",
    "    indices = []\n",
    "\n",
    "    for key, polyhedron in polyhedra.items():\n",
    "        if 'length' not in polyhedron:\n",
    "            polyhedron['length'] = len(polyhedron['vertices'])\n",
    "\n",
    "        if polyhedron['length'] in visible:\n",
    "            center = polyhedron['vertices'].mean(axis=0)\n",
    "            if z_lim[0] < center[2] < z_lim[1]:\n",
    "                indices.append(key)\n",
    "                if verbose:\n",
    "                    print(key, polyhedron['length'], center)\n",
    "    return indices\n",
    "\n",
    "\n",
    "# color_scheme = ['lightyellow', 'silver', 'rosybrown', 'lightsteelblue', 'orange', 'cyan', 'blue', 'magenta',\n",
    "#                'firebrick', 'forestgreen']"
   ]
  },
  {
   "cell_type": "code",
   "execution_count": 235,
   "id": "af14a671-dec5-4560-a9b4-c009c0b45f31",
   "metadata": {},
   "outputs": [
    {
     "name": "stdout",
     "output_type": "stream",
     "text": [
      "Strange atomic radius, are you sure you know what you are doing?\n"
     ]
    }
   ],
   "source": [
    "polyhedra  = find_polyhedra(atoms[:,:2], 4, extent=[lr_dset.shape[0],lr_dset.shape[1]])"
   ]
  },
  {
   "cell_type": "code",
   "execution_count": 286,
   "id": "880c75ac-b98f-42d0-858c-0a79148f5849",
   "metadata": {},
   "outputs": [],
   "source": [
    "import matplotlib.patches as patches\n",
    "\n",
    "def get_poly(polyhedra):\n",
    "    \"\"\" Make graph from atom positions\n",
    "\n",
    "    Parameters\n",
    "    ----------\n",
    "    atoms: numpy array (nx2)\n",
    "        positions of atoms to be evaluated for graph\n",
    "    extent: list of float (4x1)\n",
    "        extent of image\n",
    "    smallest_lattice_parameter: float\n",
    "        determines how far the Voronoi vertices have to be apart to be considered a distortion\n",
    "\n",
    "    Returns\n",
    "    -------\n",
    "    tags: dictionary\n",
    "        information of graph\n",
    "    \"\"\"\n",
    "\n",
    "    rings = []\n",
    "    centers = []\n",
    "    _inner_angles = []\n",
    "    cyclicities = []\n",
    "    cells = []\n",
    "    areas = []\n",
    "    for key, poly in polyhedra.items():\n",
    "        corners = poly['vertices']\n",
    "        if len(corners) > 2:\n",
    "            cyclicities.append(len(corners))  # length of ring or cyclicity will be stored\n",
    "            center = np.average(corners, axis=0)  # center of ring will be stored\n",
    "            centers.append(center)\n",
    "            angles = np.arctan2(corners[:, 1] - center[1], corners[:, 0] - center[0])\n",
    "            ang_sort = np.argsort(angles)\n",
    "            angles = (angles[ang_sort] - angles[np.roll(ang_sort, 1)]) % np.pi\n",
    "            _inner_angles.append(angles)  # inner angles in radians\n",
    "\n",
    "            ring = corners[ang_sort]  # clocks=wise sorted ring vertices will be stored\n",
    "            rings.append(ring)\n",
    "            areas.append(poly['volume'])\n",
    "            cells.append(patches.Polygon(ring, closed=True, fill=True, edgecolor='red', linewidth=2))\n",
    "\n",
    "    max_ring_size = max(cyclicities)\n",
    "    tags = {'unit_cells': cells, 'centers': np.array(centers), 'cyclicity': np.array(cyclicities), 'areas': np.array(areas)}\n",
    "\n",
    "    number_of_rings = len(rings)\n",
    "    tags['vertices'] = np.zeros((number_of_rings, max_ring_size, 2))\n",
    "    tags['inner_angles'] = np.zeros((number_of_rings, max_ring_size))\n",
    "    tags['areas'] = areas\n",
    "\n",
    "    # a slow way to make a sparse matrix, which we need for h5_file\n",
    "    for i in range(number_of_rings):\n",
    "        ring = rings[i]\n",
    "        angles = _inner_angles[i]\n",
    "        tags['vertices'][i, :len(ring), :] = ring\n",
    "        tags['inner_angles'][i, :len(ring)] = angles\n",
    "\n",
    "    return tags\n",
    "graph_dictionary = get_poly(polyhedra)"
   ]
  },
  {
   "cell_type": "code",
   "execution_count": 312,
   "id": "ac3c115d-f1dd-4e16-a5bd-674e0d9735b0",
   "metadata": {},
   "outputs": [
    {
     "data": {
      "application/vnd.jupyter.widget-view+json": {
       "model_id": "42ef8c3c020b40b68812aabde9207801",
       "version_major": 2,
       "version_minor": 0
      },
      "text/plain": [
       "Canvas(toolbar=Toolbar(toolitems=[('Home', 'Reset original view', 'home', 'home'), ('Back', 'Back to previous …"
      ]
     },
     "metadata": {},
     "output_type": "display_data"
    }
   ],
   "source": [
    "from matplotlib.collections import PatchCollection\n",
    "from matplotlib import cm\n",
    "import matplotlib\n",
    "\n",
    "unit_cells = PatchCollection(graph_dictionary['unit_cells'], alpha=1.,  cmap=matplotlib.cm.Blues)\n",
    "cyclicity = np.array(graph_dictionary['cyclicity'])\n",
    "\n",
    "\n",
    "plt.figure()\n",
    "# plt.imshow(lr_dset.T, cmap='gray', vmax = 8)\n",
    "\n",
    "unit_cells.set_array(cyclicity)\n",
    "plt.gca().add_collection(unit_cells)\n",
    "#plt.scatter(centers[:,0],centers[:,1],color='blue',alpha=0.5, s = 3)\n",
    "\n",
    "cbar = plt.colorbar(unit_cells, label='cyclicity')\n"
   ]
  },
  {
   "cell_type": "code",
   "execution_count": 305,
   "id": "204b33bc-e2b2-4467-ac51-33339e07d1aa",
   "metadata": {},
   "outputs": [
    {
     "ename": "AttributeError",
     "evalue": "'numpy.ndarray' object has no attribute 'median'",
     "output_type": "error",
     "traceback": [
      "\u001b[0;31m---------------------------------------------------------------------------\u001b[0m",
      "\u001b[0;31mAttributeError\u001b[0m                            Traceback (most recent call last)",
      "\u001b[0;32m/tmp/ipykernel_256/3399727728.py\u001b[0m in \u001b[0;36m<module>\u001b[0;34m\u001b[0m\n\u001b[0;32m----> 1\u001b[0;31m \u001b[0;34m(\u001b[0m\u001b[0mcyclicity\u001b[0m\u001b[0;34m)\u001b[0m\u001b[0;34m.\u001b[0m\u001b[0mmedian\u001b[0m\u001b[0;34m(\u001b[0m\u001b[0;34m)\u001b[0m\u001b[0;34m\u001b[0m\u001b[0;34m\u001b[0m\u001b[0m\n\u001b[0m",
      "\u001b[0;31mAttributeError\u001b[0m: 'numpy.ndarray' object has no attribute 'median'"
     ]
    }
   ],
   "source": [
    "np.array(cyclicity).max()"
   ]
  },
  {
   "cell_type": "code",
   "execution_count": 285,
   "id": "c7da0f16-79ad-420e-b68b-9aec0d2bb953",
   "metadata": {},
   "outputs": [
    {
     "data": {
      "application/vnd.jupyter.widget-view+json": {
       "model_id": "9c3b372808714728b528f1142deda71c",
       "version_major": 2,
       "version_minor": 0
      },
      "text/plain": [
       "Canvas(toolbar=Toolbar(toolitems=[('Home', 'Reset original view', 'home', 'home'), ('Back', 'Back to previous …"
      ]
     },
     "metadata": {},
     "output_type": "display_data"
    },
    {
     "ename": "RuntimeError",
     "evalue": "Can not put single artist in more than one figure",
     "output_type": "error",
     "traceback": [
      "\u001b[0;31m---------------------------------------------------------------------------\u001b[0m",
      "\u001b[0;31mRuntimeError\u001b[0m                              Traceback (most recent call last)",
      "\u001b[0;32m/tmp/ipykernel_256/1207037730.py\u001b[0m in \u001b[0;36m<module>\u001b[0;34m\u001b[0m\n\u001b[1;32m      5\u001b[0m \u001b[0munit_cells\u001b[0m\u001b[0;34m.\u001b[0m\u001b[0mset_array\u001b[0m\u001b[0;34m(\u001b[0m\u001b[0mnp\u001b[0m\u001b[0;34m.\u001b[0m\u001b[0msqrt\u001b[0m\u001b[0;34m(\u001b[0m\u001b[0mgraph_dictionary\u001b[0m\u001b[0;34m[\u001b[0m\u001b[0;34m'areas'\u001b[0m\u001b[0;34m]\u001b[0m\u001b[0;34m)\u001b[0m\u001b[0;34m)\u001b[0m\u001b[0;34m\u001b[0m\u001b[0;34m\u001b[0m\u001b[0m\n\u001b[1;32m      6\u001b[0m \u001b[0;34m\u001b[0m\u001b[0m\n\u001b[0;32m----> 7\u001b[0;31m \u001b[0mplt\u001b[0m\u001b[0;34m.\u001b[0m\u001b[0mgca\u001b[0m\u001b[0;34m(\u001b[0m\u001b[0;34m)\u001b[0m\u001b[0;34m.\u001b[0m\u001b[0madd_collection\u001b[0m\u001b[0;34m(\u001b[0m\u001b[0munit_cells\u001b[0m\u001b[0;34m)\u001b[0m\u001b[0;34m\u001b[0m\u001b[0;34m\u001b[0m\u001b[0m\n\u001b[0m\u001b[1;32m      8\u001b[0m \u001b[0mplt\u001b[0m\u001b[0;34m.\u001b[0m\u001b[0mscatter\u001b[0m\u001b[0;34m(\u001b[0m\u001b[0mcenters\u001b[0m\u001b[0;34m[\u001b[0m\u001b[0;34m:\u001b[0m\u001b[0;34m,\u001b[0m\u001b[0;36m0\u001b[0m\u001b[0;34m]\u001b[0m\u001b[0;34m,\u001b[0m\u001b[0mcenters\u001b[0m\u001b[0;34m[\u001b[0m\u001b[0;34m:\u001b[0m\u001b[0;34m,\u001b[0m\u001b[0;36m1\u001b[0m\u001b[0;34m]\u001b[0m\u001b[0;34m,\u001b[0m\u001b[0mcolor\u001b[0m\u001b[0;34m=\u001b[0m\u001b[0;34m'blue'\u001b[0m\u001b[0;34m,\u001b[0m\u001b[0malpha\u001b[0m\u001b[0;34m=\u001b[0m\u001b[0;36m0.5\u001b[0m\u001b[0;34m,\u001b[0m \u001b[0ms\u001b[0m\u001b[0;34m=\u001b[0m\u001b[0;36m2\u001b[0m\u001b[0;34m)\u001b[0m\u001b[0;34m\u001b[0m\u001b[0;34m\u001b[0m\u001b[0m\n\u001b[1;32m      9\u001b[0m \u001b[0;34m\u001b[0m\u001b[0m\n",
      "\u001b[0;32m~/.local/lib/python3.8/site-packages/matplotlib/axes/_base.py\u001b[0m in \u001b[0;36madd_collection\u001b[0;34m(self, collection, autolim)\u001b[0m\n\u001b[1;32m   2052\u001b[0m         \u001b[0mself\u001b[0m\u001b[0;34m.\u001b[0m\u001b[0mcollections\u001b[0m\u001b[0;34m.\u001b[0m\u001b[0mappend\u001b[0m\u001b[0;34m(\u001b[0m\u001b[0mcollection\u001b[0m\u001b[0;34m)\u001b[0m\u001b[0;34m\u001b[0m\u001b[0;34m\u001b[0m\u001b[0m\n\u001b[1;32m   2053\u001b[0m         \u001b[0mcollection\u001b[0m\u001b[0;34m.\u001b[0m\u001b[0m_remove_method\u001b[0m \u001b[0;34m=\u001b[0m \u001b[0mself\u001b[0m\u001b[0;34m.\u001b[0m\u001b[0mcollections\u001b[0m\u001b[0;34m.\u001b[0m\u001b[0mremove\u001b[0m\u001b[0;34m\u001b[0m\u001b[0;34m\u001b[0m\u001b[0m\n\u001b[0;32m-> 2054\u001b[0;31m         \u001b[0mself\u001b[0m\u001b[0;34m.\u001b[0m\u001b[0m_set_artist_props\u001b[0m\u001b[0;34m(\u001b[0m\u001b[0mcollection\u001b[0m\u001b[0;34m)\u001b[0m\u001b[0;34m\u001b[0m\u001b[0;34m\u001b[0m\u001b[0m\n\u001b[0m\u001b[1;32m   2055\u001b[0m \u001b[0;34m\u001b[0m\u001b[0m\n\u001b[1;32m   2056\u001b[0m         \u001b[0;32mif\u001b[0m \u001b[0mcollection\u001b[0m\u001b[0;34m.\u001b[0m\u001b[0mget_clip_path\u001b[0m\u001b[0;34m(\u001b[0m\u001b[0;34m)\u001b[0m \u001b[0;32mis\u001b[0m \u001b[0;32mNone\u001b[0m\u001b[0;34m:\u001b[0m\u001b[0;34m\u001b[0m\u001b[0;34m\u001b[0m\u001b[0m\n",
      "\u001b[0;32m~/.local/lib/python3.8/site-packages/matplotlib/axes/_base.py\u001b[0m in \u001b[0;36m_set_artist_props\u001b[0;34m(self, a)\u001b[0m\n\u001b[1;32m   1089\u001b[0m     \u001b[0;32mdef\u001b[0m \u001b[0m_set_artist_props\u001b[0m\u001b[0;34m(\u001b[0m\u001b[0mself\u001b[0m\u001b[0;34m,\u001b[0m \u001b[0ma\u001b[0m\u001b[0;34m)\u001b[0m\u001b[0;34m:\u001b[0m\u001b[0;34m\u001b[0m\u001b[0;34m\u001b[0m\u001b[0m\n\u001b[1;32m   1090\u001b[0m         \u001b[0;34m\"\"\"Set the boilerplate props for artists added to axes.\"\"\"\u001b[0m\u001b[0;34m\u001b[0m\u001b[0;34m\u001b[0m\u001b[0m\n\u001b[0;32m-> 1091\u001b[0;31m         \u001b[0ma\u001b[0m\u001b[0;34m.\u001b[0m\u001b[0mset_figure\u001b[0m\u001b[0;34m(\u001b[0m\u001b[0mself\u001b[0m\u001b[0;34m.\u001b[0m\u001b[0mfigure\u001b[0m\u001b[0;34m)\u001b[0m\u001b[0;34m\u001b[0m\u001b[0;34m\u001b[0m\u001b[0m\n\u001b[0m\u001b[1;32m   1092\u001b[0m         \u001b[0;32mif\u001b[0m \u001b[0;32mnot\u001b[0m \u001b[0ma\u001b[0m\u001b[0;34m.\u001b[0m\u001b[0mis_transform_set\u001b[0m\u001b[0;34m(\u001b[0m\u001b[0;34m)\u001b[0m\u001b[0;34m:\u001b[0m\u001b[0;34m\u001b[0m\u001b[0;34m\u001b[0m\u001b[0m\n\u001b[1;32m   1093\u001b[0m             \u001b[0ma\u001b[0m\u001b[0;34m.\u001b[0m\u001b[0mset_transform\u001b[0m\u001b[0;34m(\u001b[0m\u001b[0mself\u001b[0m\u001b[0;34m.\u001b[0m\u001b[0mtransData\u001b[0m\u001b[0;34m)\u001b[0m\u001b[0;34m\u001b[0m\u001b[0;34m\u001b[0m\u001b[0m\n",
      "\u001b[0;32m~/.local/lib/python3.8/site-packages/matplotlib/artist.py\u001b[0m in \u001b[0;36mset_figure\u001b[0;34m(self, fig)\u001b[0m\n\u001b[1;32m    728\u001b[0m         \u001b[0;31m# to more than one Axes\u001b[0m\u001b[0;34m\u001b[0m\u001b[0;34m\u001b[0m\u001b[0;34m\u001b[0m\u001b[0m\n\u001b[1;32m    729\u001b[0m         \u001b[0;32mif\u001b[0m \u001b[0mself\u001b[0m\u001b[0;34m.\u001b[0m\u001b[0mfigure\u001b[0m \u001b[0;32mis\u001b[0m \u001b[0;32mnot\u001b[0m \u001b[0;32mNone\u001b[0m\u001b[0;34m:\u001b[0m\u001b[0;34m\u001b[0m\u001b[0;34m\u001b[0m\u001b[0m\n\u001b[0;32m--> 730\u001b[0;31m             raise RuntimeError(\"Can not put single artist in \"\n\u001b[0m\u001b[1;32m    731\u001b[0m                                \"more than one figure\")\n\u001b[1;32m    732\u001b[0m         \u001b[0mself\u001b[0m\u001b[0;34m.\u001b[0m\u001b[0mfigure\u001b[0m \u001b[0;34m=\u001b[0m \u001b[0mfig\u001b[0m\u001b[0;34m\u001b[0m\u001b[0;34m\u001b[0m\u001b[0m\n",
      "\u001b[0;31mRuntimeError\u001b[0m: Can not put single artist in more than one figure"
     ]
    }
   ],
   "source": [
    "plt.figure()\n",
    "#plt.title('area of ' + main_dataset.title)\n",
    "plt.imshow(lr_dset.T, cmap = 'gray')\n",
    "\n",
    "unit_cells.set_array(np.sqrt(graph_dictionary['areas']))\n",
    "\n",
    "plt.gca().add_collection(unit_cells)\n",
    "plt.scatter(centers[:,0],centers[:,1],color='blue',alpha=0.5, s=2)\n",
    "\n",
    "cbar = plt.colorbar(unit_cells, label='$\\sqrt{area}$ [nm]')"
   ]
  },
  {
   "cell_type": "code",
   "execution_count": 227,
   "id": "d186a755-7382-40d2-bb16-2d180f256d78",
   "metadata": {},
   "outputs": [
    {
     "data": {
      "application/vnd.jupyter.widget-view+json": {
       "model_id": "c556ab191e9c4f578dac6a4c48a6b271",
       "version_major": 2,
       "version_minor": 0
      },
      "text/plain": [
       "Canvas(toolbar=Toolbar(toolitems=[('Home', 'Reset original view', 'home', 'home'), ('Back', 'Back to previous …"
      ]
     },
     "metadata": {},
     "output_type": "display_data"
    },
    {
     "data": {
      "text/plain": [
       "<matplotlib.collections.PathCollection at 0x7f818085ccd0>"
      ]
     },
     "execution_count": 227,
     "metadata": {},
     "output_type": "execute_result"
    }
   ],
   "source": [
    "polyhedra[37]\n",
    "poly = polyhedra[44]\n",
    "\n",
    "plt.figure()\n",
    "plt.imshow(lr_dset.T, vmax=9)\n",
    "plt.scatter(poly['vertices'][:, 0], poly['vertices'][:,1], color='red')"
   ]
  },
  {
   "cell_type": "code",
   "execution_count": null,
   "id": "f9f1d47f-3911-493a-845b-1ed717d722fd",
   "metadata": {},
   "outputs": [],
   "source": []
  },
  {
   "cell_type": "code",
   "execution_count": 192,
   "id": "5ba36061-2e48-48b0-998f-5b22f64a0563",
   "metadata": {},
   "outputs": [],
   "source": [
    "##################################################################\n",
    "# plotting functions\n",
    "##################################################################\n",
    "\n",
    "\n",
    "def plot_super_cell(super_cell, shift_x=0):\n",
    "    \"\"\" make a super_cell to plot with extra atoms at periodic boundaries\"\"\"\n",
    "\n",
    "    if not isinstance(super_cell, ase.Atoms):\n",
    "        raise TypeError('Need an ase Atoms object')\n",
    "\n",
    "    plot_boundary = super_cell * (2, 2, 3)\n",
    "    plot_boundary.positions[:, 0] = plot_boundary.positions[:, 0] - super_cell.cell[0, 0] * shift_x\n",
    "\n",
    "    del plot_boundary[plot_boundary.positions[:, 2] > super_cell.cell[2, 2] * 1.5 + 0.1]\n",
    "    del plot_boundary[plot_boundary.positions[:, 1] > super_cell.cell[1, 1] + 0.1]\n",
    "    del plot_boundary[plot_boundary.positions[:, 0] > super_cell.cell[0, 0] + 0.1]\n",
    "    del plot_boundary[plot_boundary.positions[:, 0] < -0.1]\n",
    "    plot_boundary.cell = super_cell.cell * (1, 1, 1.5)\n",
    "\n",
    "    return plot_boundary\n",
    "\n",
    "\n",
    "def plot_polyhedron(polyhedra, indices, center=False):\n",
    "    if isinstance(indices, int):\n",
    "        indices = [indices]\n",
    "    if len(indices) == 0:\n",
    "        print('Did not find any polyhedra')\n",
    "        return {}\n",
    "\n",
    "    center_point = np.mean(polyhedra[indices[0]]['vertices'], axis=0)\n",
    "\n",
    "    if center:\n",
    "        print(center_point)\n",
    "        center = center_point\n",
    "    else:\n",
    "        center = [0, 0, 0]\n",
    "\n",
    "    data = []\n",
    "    for index in indices:\n",
    "        polyhedron = polyhedra[index]\n",
    "\n",
    "        vertices = polyhedron['vertices'] - center\n",
    "        faces = np.array(polyhedron['triangles'])\n",
    "        x, y, z = vertices.T\n",
    "        i_i, j_j, k_k = faces.T\n",
    "\n",
    "        mesh = dict(type='mesh3d',\n",
    "                    x=x,\n",
    "                    y=y,\n",
    "                    z=z,\n",
    "                    i=i_i,\n",
    "                    j=j_j,\n",
    "                    k=k_k,\n",
    "                    name='',\n",
    "                    opacity=0.2,\n",
    "                    color=px.colors.qualitative.Light24[len(vertices) % 24]\n",
    "                    )\n",
    "        tri_vertices = vertices[faces]\n",
    "        x_e = []\n",
    "        y_e = []\n",
    "        z_e = []\n",
    "        for t_v in tri_vertices:\n",
    "            x_e += [t_v[k % 3][0] for k in range(4)] + [None]\n",
    "            y_e += [t_v[k % 3][1] for k in range(4)] + [None]\n",
    "            z_e += [t_v[k % 3][2] for k in range(4)] + [None]\n",
    "\n",
    "        # define the lines to be plotted\n",
    "        lines = dict(type='scatter3d',\n",
    "                     x=x_e,\n",
    "                     y=y_e,\n",
    "                     z=z_e,\n",
    "                     mode='lines',\n",
    "                     name='',\n",
    "                     line=dict(color='rgb(70,70,70)', width=1.5))\n",
    "        data.append(mesh)\n",
    "        data.append(lines)\n",
    "    return data"
   ]
  },
  {
   "cell_type": "code",
   "execution_count": 54,
   "id": "835658dd-a0f5-44f9-bb3f-9245800c5696",
   "metadata": {},
   "outputs": [],
   "source": [
    "def make_new_vertices(vertices, extent, smallest_lattice_parameter):\n",
    "    \"\"\" Determine whether vertices are too close and have to be replaced by median\n",
    "\n",
    "    Part of get_graph function\n",
    "    Parameters\n",
    "    ----------\n",
    "    vertices: numpy array (nx2)\n",
    "        vertices of Voronoi tiles to be evaluated\n",
    "    extent: list of float (4x1)\n",
    "        extent of image\n",
    "    smallest_lattice_parameter: float\n",
    "        determines how far the Voronoi vertices have to be apart to be considered caused by distortion\n",
    "\n",
    "    Returns\n",
    "    -------\n",
    "    new_voronoi: numpy array\n",
    "        vertices of new Voronoi tiling\n",
    "    \"\"\"\n",
    "\n",
    "    vertices_tree = scipy.spatial.cKDTree(vertices)\n",
    "\n",
    "    dis = vertices_tree.query_ball_point(vertices, r=smallest_lattice_parameter * .7, p=2)  # , return_length=True)\n",
    "    nn = vertices_tree.query_ball_point(vertices, r=smallest_lattice_parameter * .7, p=2, return_length=True)\n",
    "\n",
    "    # handle nn > 2 differently Gerd\n",
    "\n",
    "    new_voronoi = []\n",
    "    for near in dis:\n",
    "        if len(near) > 1:\n",
    "            new = np.average(vertices[near], axis=0)\n",
    "        elif len(near) > 0:\n",
    "            new = vertices[near][0]\n",
    "        else:\n",
    "            new = [-1, -1]\n",
    "\n",
    "        if (new > 0).all() and (new[0] < extent[1]) and (new[1] < extent[2]):\n",
    "            new_voronoi.append(new)\n",
    "\n",
    "    ver_sort = np.argsort(nn)\n",
    "    nn_now = nn[ver_sort[-1]]\n",
    "    done_list = []\n",
    "    i = 1\n",
    "    while nn_now > 2:\n",
    "        close_vertices = dis[ver_sort[-i]]\n",
    "        new_vert = []\n",
    "\n",
    "        for vert in close_vertices:\n",
    "            if vert not in done_list:\n",
    "                new_vert.append(vert)\n",
    "\n",
    "        done_list.extend(new_vert)\n",
    "        # check whether necessary big_vertex = np.average(vertices[new_vert], axis=0)\n",
    "        if len(new_vert) > 1:\n",
    "            big_vertex = np.average(vertices[new_vert], axis=0)\n",
    "            if (big_vertex[0] > 0) and (big_vertex[1] > 0):\n",
    "                new_voronoi.append([big_vertex[0], big_vertex[1]])\n",
    "        elif len(new_vert) > 0:\n",
    "            new_voronoi.append([(vertices[new_vert[0]])[0], (vertices[new_vert[0]])[1]])\n",
    "        i += 1\n",
    "        nn_now = nn[ver_sort[-i]]\n",
    "\n",
    "    # print(len(new_voronoi))\n",
    "    new_voronoi = np.unique(new_voronoi, axis=0)\n",
    "    return new_voronoi"
   ]
  }
 ],
 "metadata": {
  "kernelspec": {
   "display_name": "Python 3 (ipykernel)",
   "language": "python",
   "name": "python3"
  },
  "language_info": {
   "codemirror_mode": {
    "name": "ipython",
    "version": 3
   },
   "file_extension": ".py",
   "mimetype": "text/x-python",
   "name": "python",
   "nbconvert_exporter": "python",
   "pygments_lexer": "ipython3",
   "version": "3.9.12"
  }
 },
 "nbformat": 4,
 "nbformat_minor": 5
}
