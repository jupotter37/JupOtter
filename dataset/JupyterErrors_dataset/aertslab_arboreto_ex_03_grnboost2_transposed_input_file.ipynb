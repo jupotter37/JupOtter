{
 "cells": [
  {
   "cell_type": "markdown",
   "metadata": {},
   "source": [
    "# Example 01 - GRNBoost2 with transposed input file\n",
    "\n",
    "In this example notebook, we illustrate how to easily prepare the input data using a [Pandas](http://pandas.pydata.org/) [DataFrame](https://pandas.pydata.org/pandas-docs/stable/generated/pandas.DataFrame.html), in case the input file happens to be transposed with respect to the Arboreto input conventions."
   ]
  },
  {
   "cell_type": "code",
   "execution_count": 1,
   "metadata": {},
   "outputs": [],
   "source": [
    "import os\n",
    "import pandas as pd\n",
    "\n",
    "from arboreto.algo import grnboost2, genie3\n",
    "from arboreto.utils import load_tf_names"
   ]
  },
  {
   "cell_type": "markdown",
   "metadata": {},
   "source": [
    "## 1. Load and prepare the input data\n",
    "\n",
    "* We use the [Pandas](http://pandas.pydata.org/) library to read the data from a tab-separated text file.\n",
    "* Arboreto expects the `expression_data` matrix to have observations as rows and genes as columns."
   ]
  },
  {
   "cell_type": "code",
   "execution_count": 2,
   "metadata": {},
   "outputs": [],
   "source": [
    "wd = os.getcwd().split('arboreto')[0] + 'arboreto/resources/dream5/'\n",
    "\n",
    "net1_ex_path = wd + 'net1/net1_expression_data.transposed.tsv'\n",
    "net1_tf_path = wd + 'net1/net1_transcription_factors.tsv'"
   ]
  },
  {
   "cell_type": "markdown",
   "metadata": {},
   "source": [
    "* Let's first have a look at the input expression matrix"
   ]
  },
  {
   "cell_type": "code",
   "execution_count": 3,
   "metadata": {},
   "outputs": [],
   "source": [
    "wrong_ex_matrix = pd.read_csv(net1_ex_path, sep='\\t')"
   ]
  },
  {
   "cell_type": "code",
   "execution_count": 4,
   "metadata": {},
   "outputs": [
    {
     "data": {
      "text/html": [
       "<div>\n",
       "<style>\n",
       "    .dataframe thead tr:only-child th {\n",
       "        text-align: right;\n",
       "    }\n",
       "\n",
       "    .dataframe thead th {\n",
       "        text-align: left;\n",
       "    }\n",
       "\n",
       "    .dataframe tbody tr th {\n",
       "        vertical-align: top;\n",
       "    }\n",
       "</style>\n",
       "<table border=\"1\" class=\"dataframe\">\n",
       "  <thead>\n",
       "    <tr style=\"text-align: right;\">\n",
       "      <th></th>\n",
       "      <th>G1</th>\n",
       "      <th>0.4254475</th>\n",
       "      <th>0.4424002</th>\n",
       "      <th>1.0568470</th>\n",
       "      <th>1.1172264</th>\n",
       "      <th>0.9710677</th>\n",
       "      <th>1.1393856</th>\n",
       "      <th>1.0648694</th>\n",
       "      <th>0.8761173</th>\n",
       "      <th>1.2059661</th>\n",
       "      <th>...</th>\n",
       "      <th>0.8676780</th>\n",
       "      <th>0.9524525</th>\n",
       "      <th>0.8088893</th>\n",
       "      <th>0.7760007</th>\n",
       "      <th>0.7497160</th>\n",
       "      <th>0.9193069</th>\n",
       "      <th>0.7698596</th>\n",
       "      <th>0.7274581</th>\n",
       "      <th>0.8320656</th>\n",
       "      <th>0.6812067</th>\n",
       "    </tr>\n",
       "  </thead>\n",
       "  <tbody>\n",
       "    <tr>\n",
       "      <th>0</th>\n",
       "      <td>G2</td>\n",
       "      <td>0.017829</td>\n",
       "      <td>0.050525</td>\n",
       "      <td>0.208454</td>\n",
       "      <td>0.003001</td>\n",
       "      <td>0.001056</td>\n",
       "      <td>0.122047</td>\n",
       "      <td>0.140508</td>\n",
       "      <td>0.073814</td>\n",
       "      <td>0.153407</td>\n",
       "      <td>...</td>\n",
       "      <td>0.021559</td>\n",
       "      <td>0.012235</td>\n",
       "      <td>0.000125</td>\n",
       "      <td>0.014447</td>\n",
       "      <td>0.002786</td>\n",
       "      <td>0.012417</td>\n",
       "      <td>0.033997</td>\n",
       "      <td>0.003877</td>\n",
       "      <td>0.010711</td>\n",
       "      <td>0.000560</td>\n",
       "    </tr>\n",
       "    <tr>\n",
       "      <th>1</th>\n",
       "      <td>G3</td>\n",
       "      <td>0.907989</td>\n",
       "      <td>0.869368</td>\n",
       "      <td>0.467448</td>\n",
       "      <td>0.317654</td>\n",
       "      <td>0.354651</td>\n",
       "      <td>0.402465</td>\n",
       "      <td>0.481763</td>\n",
       "      <td>1.058292</td>\n",
       "      <td>0.760861</td>\n",
       "      <td>...</td>\n",
       "      <td>0.811866</td>\n",
       "      <td>0.744307</td>\n",
       "      <td>0.336347</td>\n",
       "      <td>0.832623</td>\n",
       "      <td>0.489709</td>\n",
       "      <td>0.793202</td>\n",
       "      <td>0.735370</td>\n",
       "      <td>0.356966</td>\n",
       "      <td>0.830129</td>\n",
       "      <td>0.373693</td>\n",
       "    </tr>\n",
       "    <tr>\n",
       "      <th>2</th>\n",
       "      <td>G4</td>\n",
       "      <td>0.448247</td>\n",
       "      <td>0.445851</td>\n",
       "      <td>0.505077</td>\n",
       "      <td>0.387204</td>\n",
       "      <td>0.474532</td>\n",
       "      <td>0.348436</td>\n",
       "      <td>0.474857</td>\n",
       "      <td>0.730366</td>\n",
       "      <td>0.655846</td>\n",
       "      <td>...</td>\n",
       "      <td>0.504050</td>\n",
       "      <td>0.585896</td>\n",
       "      <td>0.625708</td>\n",
       "      <td>0.434733</td>\n",
       "      <td>0.497823</td>\n",
       "      <td>0.550684</td>\n",
       "      <td>0.349348</td>\n",
       "      <td>0.615756</td>\n",
       "      <td>0.465677</td>\n",
       "      <td>0.719729</td>\n",
       "    </tr>\n",
       "    <tr>\n",
       "      <th>3</th>\n",
       "      <td>G5</td>\n",
       "      <td>0.172324</td>\n",
       "      <td>0.173311</td>\n",
       "      <td>0.244883</td>\n",
       "      <td>0.253792</td>\n",
       "      <td>0.207718</td>\n",
       "      <td>0.168614</td>\n",
       "      <td>0.182643</td>\n",
       "      <td>0.053656</td>\n",
       "      <td>0.157731</td>\n",
       "      <td>...</td>\n",
       "      <td>0.225154</td>\n",
       "      <td>0.177781</td>\n",
       "      <td>0.017787</td>\n",
       "      <td>0.194447</td>\n",
       "      <td>0.141594</td>\n",
       "      <td>0.215473</td>\n",
       "      <td>0.171566</td>\n",
       "      <td>0.081724</td>\n",
       "      <td>0.179892</td>\n",
       "      <td>0.070691</td>\n",
       "    </tr>\n",
       "    <tr>\n",
       "      <th>4</th>\n",
       "      <td>G6</td>\n",
       "      <td>0.273489</td>\n",
       "      <td>0.274889</td>\n",
       "      <td>0.208451</td>\n",
       "      <td>0.179360</td>\n",
       "      <td>0.102833</td>\n",
       "      <td>0.255774</td>\n",
       "      <td>0.112430</td>\n",
       "      <td>0.175109</td>\n",
       "      <td>0.141754</td>\n",
       "      <td>...</td>\n",
       "      <td>0.152427</td>\n",
       "      <td>0.102012</td>\n",
       "      <td>0.001400</td>\n",
       "      <td>0.159369</td>\n",
       "      <td>0.153731</td>\n",
       "      <td>0.290485</td>\n",
       "      <td>0.148841</td>\n",
       "      <td>0.117133</td>\n",
       "      <td>0.101629</td>\n",
       "      <td>0.004762</td>\n",
       "    </tr>\n",
       "  </tbody>\n",
       "</table>\n",
       "<p>5 rows × 806 columns</p>\n",
       "</div>"
      ],
      "text/plain": [
       "   G1  0.4254475  0.4424002  1.0568470  1.1172264  0.9710677  1.1393856  \\\n",
       "0  G2   0.017829   0.050525   0.208454   0.003001   0.001056   0.122047   \n",
       "1  G3   0.907989   0.869368   0.467448   0.317654   0.354651   0.402465   \n",
       "2  G4   0.448247   0.445851   0.505077   0.387204   0.474532   0.348436   \n",
       "3  G5   0.172324   0.173311   0.244883   0.253792   0.207718   0.168614   \n",
       "4  G6   0.273489   0.274889   0.208451   0.179360   0.102833   0.255774   \n",
       "\n",
       "   1.0648694  0.8761173  1.2059661    ...      0.8676780  0.9524525  \\\n",
       "0   0.140508   0.073814   0.153407    ...       0.021559   0.012235   \n",
       "1   0.481763   1.058292   0.760861    ...       0.811866   0.744307   \n",
       "2   0.474857   0.730366   0.655846    ...       0.504050   0.585896   \n",
       "3   0.182643   0.053656   0.157731    ...       0.225154   0.177781   \n",
       "4   0.112430   0.175109   0.141754    ...       0.152427   0.102012   \n",
       "\n",
       "   0.8088893  0.7760007  0.7497160  0.9193069  0.7698596  0.7274581  \\\n",
       "0   0.000125   0.014447   0.002786   0.012417   0.033997   0.003877   \n",
       "1   0.336347   0.832623   0.489709   0.793202   0.735370   0.356966   \n",
       "2   0.625708   0.434733   0.497823   0.550684   0.349348   0.615756   \n",
       "3   0.017787   0.194447   0.141594   0.215473   0.171566   0.081724   \n",
       "4   0.001400   0.159369   0.153731   0.290485   0.148841   0.117133   \n",
       "\n",
       "   0.8320656  0.6812067  \n",
       "0   0.010711   0.000560  \n",
       "1   0.830129   0.373693  \n",
       "2   0.465677   0.719729  \n",
       "3   0.179892   0.070691  \n",
       "4   0.101629   0.004762  \n",
       "\n",
       "[5 rows x 806 columns]"
      ]
     },
     "execution_count": 4,
     "metadata": {},
     "output_type": "execute_result"
    }
   ],
   "source": [
    "wrong_ex_matrix.head()"
   ]
  },
  {
   "cell_type": "code",
   "execution_count": 5,
   "metadata": {},
   "outputs": [
    {
     "ename": "AssertionError",
     "evalue": "",
     "output_type": "error",
     "traceback": [
      "\u001b[0;31m---------------------------------------------------------------------------\u001b[0m",
      "\u001b[0;31mAssertionError\u001b[0m                            Traceback (most recent call last)",
      "\u001b[0;32m<ipython-input-5-debbfda1d068>\u001b[0m in \u001b[0;36m<module>\u001b[0;34m()\u001b[0m\n\u001b[0;32m----> 1\u001b[0;31m \u001b[0;32massert\u001b[0m \u001b[0mwrong_ex_matrix\u001b[0m\u001b[0;34m.\u001b[0m\u001b[0mshape\u001b[0m \u001b[0;34m==\u001b[0m \u001b[0;34m(\u001b[0m\u001b[0;36m805\u001b[0m\u001b[0;34m,\u001b[0m \u001b[0;36m1643\u001b[0m\u001b[0;34m)\u001b[0m\u001b[0;34m\u001b[0m\u001b[0m\n\u001b[0m",
      "\u001b[0;31mAssertionError\u001b[0m: "
     ]
    }
   ],
   "source": [
    "assert wrong_ex_matrix.shape == (805, 1643)"
   ]
  },
  {
   "cell_type": "markdown",
   "metadata": {},
   "source": [
    "* **PROBLEM**: the orientation of the matrix is wrong.\n",
    "* Let's read it in a better way from file."
   ]
  },
  {
   "cell_type": "code",
   "execution_count": 6,
   "metadata": {},
   "outputs": [],
   "source": [
    "ex_matrix = pd.read_csv(net1_ex_path, sep='\\t', index_col=0, header=None).T"
   ]
  },
  {
   "cell_type": "markdown",
   "metadata": {},
   "source": [
    "* Let's quickly check the the input matrix by inspecting its shape and top 5 rows."
   ]
  },
  {
   "cell_type": "code",
   "execution_count": 7,
   "metadata": {},
   "outputs": [],
   "source": [
    "assert ex_matrix.shape == (805, 1643)"
   ]
  },
  {
   "cell_type": "code",
   "execution_count": 8,
   "metadata": {},
   "outputs": [
    {
     "data": {
      "text/plain": [
       "(805, 1643)"
      ]
     },
     "execution_count": 8,
     "metadata": {},
     "output_type": "execute_result"
    }
   ],
   "source": [
    "ex_matrix.shape"
   ]
  },
  {
   "cell_type": "code",
   "execution_count": 9,
   "metadata": {},
   "outputs": [
    {
     "data": {
      "text/html": [
       "<div>\n",
       "<style>\n",
       "    .dataframe thead tr:only-child th {\n",
       "        text-align: right;\n",
       "    }\n",
       "\n",
       "    .dataframe thead th {\n",
       "        text-align: left;\n",
       "    }\n",
       "\n",
       "    .dataframe tbody tr th {\n",
       "        vertical-align: top;\n",
       "    }\n",
       "</style>\n",
       "<table border=\"1\" class=\"dataframe\">\n",
       "  <thead>\n",
       "    <tr style=\"text-align: right;\">\n",
       "      <th></th>\n",
       "      <th>G1</th>\n",
       "      <th>G2</th>\n",
       "      <th>G3</th>\n",
       "      <th>G4</th>\n",
       "      <th>G5</th>\n",
       "      <th>G6</th>\n",
       "      <th>G7</th>\n",
       "      <th>G8</th>\n",
       "      <th>G9</th>\n",
       "      <th>G10</th>\n",
       "      <th>...</th>\n",
       "      <th>G1634</th>\n",
       "      <th>G1635</th>\n",
       "      <th>G1636</th>\n",
       "      <th>G1637</th>\n",
       "      <th>G1638</th>\n",
       "      <th>G1639</th>\n",
       "      <th>G1640</th>\n",
       "      <th>G1641</th>\n",
       "      <th>G1642</th>\n",
       "      <th>G1643</th>\n",
       "    </tr>\n",
       "  </thead>\n",
       "  <tbody>\n",
       "    <tr>\n",
       "      <th>1</th>\n",
       "      <td>0.425448</td>\n",
       "      <td>0.017829</td>\n",
       "      <td>0.907989</td>\n",
       "      <td>0.448247</td>\n",
       "      <td>0.172324</td>\n",
       "      <td>0.273489</td>\n",
       "      <td>0.843766</td>\n",
       "      <td>0.648201</td>\n",
       "      <td>1.004533</td>\n",
       "      <td>0.365305</td>\n",
       "      <td>...</td>\n",
       "      <td>0.011979</td>\n",
       "      <td>0.963306</td>\n",
       "      <td>1.169870</td>\n",
       "      <td>0.331381</td>\n",
       "      <td>0.350600</td>\n",
       "      <td>0.822844</td>\n",
       "      <td>0.304483</td>\n",
       "      <td>0.319917</td>\n",
       "      <td>0.364280</td>\n",
       "      <td>0.765945</td>\n",
       "    </tr>\n",
       "    <tr>\n",
       "      <th>2</th>\n",
       "      <td>0.442400</td>\n",
       "      <td>0.050525</td>\n",
       "      <td>0.869368</td>\n",
       "      <td>0.445851</td>\n",
       "      <td>0.173311</td>\n",
       "      <td>0.274889</td>\n",
       "      <td>0.764049</td>\n",
       "      <td>0.747870</td>\n",
       "      <td>1.022589</td>\n",
       "      <td>0.434106</td>\n",
       "      <td>...</td>\n",
       "      <td>0.022247</td>\n",
       "      <td>1.014137</td>\n",
       "      <td>0.888465</td>\n",
       "      <td>0.281649</td>\n",
       "      <td>0.485940</td>\n",
       "      <td>0.915617</td>\n",
       "      <td>0.317507</td>\n",
       "      <td>0.238074</td>\n",
       "      <td>0.509130</td>\n",
       "      <td>0.691403</td>\n",
       "    </tr>\n",
       "    <tr>\n",
       "      <th>3</th>\n",
       "      <td>1.056847</td>\n",
       "      <td>0.208454</td>\n",
       "      <td>0.467448</td>\n",
       "      <td>0.505077</td>\n",
       "      <td>0.244883</td>\n",
       "      <td>0.208451</td>\n",
       "      <td>0.665355</td>\n",
       "      <td>1.192092</td>\n",
       "      <td>0.824068</td>\n",
       "      <td>0.146987</td>\n",
       "      <td>...</td>\n",
       "      <td>0.422066</td>\n",
       "      <td>0.895203</td>\n",
       "      <td>1.028826</td>\n",
       "      <td>0.825126</td>\n",
       "      <td>0.444819</td>\n",
       "      <td>0.349069</td>\n",
       "      <td>0.042310</td>\n",
       "      <td>0.165208</td>\n",
       "      <td>0.952178</td>\n",
       "      <td>0.678781</td>\n",
       "    </tr>\n",
       "    <tr>\n",
       "      <th>4</th>\n",
       "      <td>1.117226</td>\n",
       "      <td>0.003001</td>\n",
       "      <td>0.317654</td>\n",
       "      <td>0.387204</td>\n",
       "      <td>0.253792</td>\n",
       "      <td>0.179360</td>\n",
       "      <td>0.939244</td>\n",
       "      <td>0.868668</td>\n",
       "      <td>0.963028</td>\n",
       "      <td>0.233785</td>\n",
       "      <td>...</td>\n",
       "      <td>0.001163</td>\n",
       "      <td>1.046540</td>\n",
       "      <td>1.058098</td>\n",
       "      <td>0.484225</td>\n",
       "      <td>0.150689</td>\n",
       "      <td>0.449126</td>\n",
       "      <td>0.125197</td>\n",
       "      <td>0.000047</td>\n",
       "      <td>0.878127</td>\n",
       "      <td>0.566691</td>\n",
       "    </tr>\n",
       "    <tr>\n",
       "      <th>5</th>\n",
       "      <td>0.971068</td>\n",
       "      <td>0.001056</td>\n",
       "      <td>0.354651</td>\n",
       "      <td>0.474532</td>\n",
       "      <td>0.207718</td>\n",
       "      <td>0.102833</td>\n",
       "      <td>0.745871</td>\n",
       "      <td>0.909753</td>\n",
       "      <td>1.151865</td>\n",
       "      <td>0.318988</td>\n",
       "      <td>...</td>\n",
       "      <td>0.000845</td>\n",
       "      <td>1.041745</td>\n",
       "      <td>1.061129</td>\n",
       "      <td>0.384363</td>\n",
       "      <td>0.326859</td>\n",
       "      <td>0.512270</td>\n",
       "      <td>0.261410</td>\n",
       "      <td>0.000156</td>\n",
       "      <td>0.883981</td>\n",
       "      <td>0.646715</td>\n",
       "    </tr>\n",
       "  </tbody>\n",
       "</table>\n",
       "<p>5 rows × 1643 columns</p>\n",
       "</div>"
      ],
      "text/plain": [
       "0        G1        G2        G3        G4        G5        G6        G7  \\\n",
       "1  0.425448  0.017829  0.907989  0.448247  0.172324  0.273489  0.843766   \n",
       "2  0.442400  0.050525  0.869368  0.445851  0.173311  0.274889  0.764049   \n",
       "3  1.056847  0.208454  0.467448  0.505077  0.244883  0.208451  0.665355   \n",
       "4  1.117226  0.003001  0.317654  0.387204  0.253792  0.179360  0.939244   \n",
       "5  0.971068  0.001056  0.354651  0.474532  0.207718  0.102833  0.745871   \n",
       "\n",
       "0        G8        G9       G10    ...        G1634     G1635     G1636  \\\n",
       "1  0.648201  1.004533  0.365305    ...     0.011979  0.963306  1.169870   \n",
       "2  0.747870  1.022589  0.434106    ...     0.022247  1.014137  0.888465   \n",
       "3  1.192092  0.824068  0.146987    ...     0.422066  0.895203  1.028826   \n",
       "4  0.868668  0.963028  0.233785    ...     0.001163  1.046540  1.058098   \n",
       "5  0.909753  1.151865  0.318988    ...     0.000845  1.041745  1.061129   \n",
       "\n",
       "0     G1637     G1638     G1639     G1640     G1641     G1642     G1643  \n",
       "1  0.331381  0.350600  0.822844  0.304483  0.319917  0.364280  0.765945  \n",
       "2  0.281649  0.485940  0.915617  0.317507  0.238074  0.509130  0.691403  \n",
       "3  0.825126  0.444819  0.349069  0.042310  0.165208  0.952178  0.678781  \n",
       "4  0.484225  0.150689  0.449126  0.125197  0.000047  0.878127  0.566691  \n",
       "5  0.384363  0.326859  0.512270  0.261410  0.000156  0.883981  0.646715  \n",
       "\n",
       "[5 rows x 1643 columns]"
      ]
     },
     "execution_count": 9,
     "metadata": {},
     "output_type": "execute_result"
    }
   ],
   "source": [
    "ex_matrix.head()"
   ]
  },
  {
   "cell_type": "markdown",
   "metadata": {},
   "source": [
    "* That's bettter!\n",
    "* We can now proceed as usual to infer the GRN network"
   ]
  },
  {
   "cell_type": "code",
   "execution_count": 10,
   "metadata": {},
   "outputs": [],
   "source": [
    "tf_names = load_tf_names(net1_tf_path)"
   ]
  },
  {
   "cell_type": "markdown",
   "metadata": {},
   "source": [
    "## 2. Launch gene regulatory network inference"
   ]
  },
  {
   "cell_type": "code",
   "execution_count": 11,
   "metadata": {},
   "outputs": [
    {
     "name": "stdout",
     "output_type": "stream",
     "text": [
      "CPU times: user 30.9 s, sys: 15.7 s, total: 46.6 s\n",
      "Wall time: 50.9 s\n"
     ]
    }
   ],
   "source": [
    "%%time\n",
    "network = grnboost2(expression_data=ex_matrix,\n",
    "                    tf_names=tf_names)"
   ]
  },
  {
   "cell_type": "code",
   "execution_count": 12,
   "metadata": {},
   "outputs": [
    {
     "data": {
      "text/html": [
       "<div>\n",
       "<style>\n",
       "    .dataframe thead tr:only-child th {\n",
       "        text-align: right;\n",
       "    }\n",
       "\n",
       "    .dataframe thead th {\n",
       "        text-align: left;\n",
       "    }\n",
       "\n",
       "    .dataframe tbody tr th {\n",
       "        vertical-align: top;\n",
       "    }\n",
       "</style>\n",
       "<table border=\"1\" class=\"dataframe\">\n",
       "  <thead>\n",
       "    <tr style=\"text-align: right;\">\n",
       "      <th></th>\n",
       "      <th>TF</th>\n",
       "      <th>target</th>\n",
       "      <th>importance</th>\n",
       "    </tr>\n",
       "  </thead>\n",
       "  <tbody>\n",
       "    <tr>\n",
       "      <th>108</th>\n",
       "      <td>G109</td>\n",
       "      <td>G1406</td>\n",
       "      <td>155.517394</td>\n",
       "    </tr>\n",
       "    <tr>\n",
       "      <th>15</th>\n",
       "      <td>G16</td>\n",
       "      <td>G1440</td>\n",
       "      <td>130.234599</td>\n",
       "    </tr>\n",
       "    <tr>\n",
       "      <th>15</th>\n",
       "      <td>G16</td>\n",
       "      <td>G687</td>\n",
       "      <td>128.137108</td>\n",
       "    </tr>\n",
       "    <tr>\n",
       "      <th>175</th>\n",
       "      <td>G176</td>\n",
       "      <td>G228</td>\n",
       "      <td>127.023538</td>\n",
       "    </tr>\n",
       "    <tr>\n",
       "      <th>175</th>\n",
       "      <td>G176</td>\n",
       "      <td>G367</td>\n",
       "      <td>121.146559</td>\n",
       "    </tr>\n",
       "  </tbody>\n",
       "</table>\n",
       "</div>"
      ],
      "text/plain": [
       "       TF target  importance\n",
       "108  G109  G1406  155.517394\n",
       "15    G16  G1440  130.234599\n",
       "15    G16   G687  128.137108\n",
       "175  G176   G228  127.023538\n",
       "175  G176   G367  121.146559"
      ]
     },
     "execution_count": 12,
     "metadata": {},
     "output_type": "execute_result"
    }
   ],
   "source": [
    "network.head()"
   ]
  },
  {
   "cell_type": "code",
   "execution_count": 13,
   "metadata": {},
   "outputs": [
    {
     "data": {
      "text/plain": [
       "318833"
      ]
     },
     "execution_count": 13,
     "metadata": {},
     "output_type": "execute_result"
    }
   ],
   "source": [
    "len(network)"
   ]
  },
  {
   "cell_type": "markdown",
   "metadata": {},
   "source": [
    "## 3. Write the GRN link list to file `[TF, target, importance]`."
   ]
  },
  {
   "cell_type": "code",
   "execution_count": 14,
   "metadata": {},
   "outputs": [],
   "source": [
    "network.to_csv('ex_03_network.tsv', sep='\\t', header=False, index=False)"
   ]
  },
  {
   "cell_type": "code",
   "execution_count": null,
   "metadata": {},
   "outputs": [],
   "source": []
  }
 ],
 "metadata": {
  "kernelspec": {
   "display_name": "Python [default]",
   "language": "python",
   "name": "python3"
  },
  "language_info": {
   "codemirror_mode": {
    "name": "ipython",
    "version": 3
   },
   "file_extension": ".py",
   "mimetype": "text/x-python",
   "name": "python",
   "nbconvert_exporter": "python",
   "pygments_lexer": "ipython3",
   "version": "3.5.2"
  }
 },
 "nbformat": 4,
 "nbformat_minor": 2
}
