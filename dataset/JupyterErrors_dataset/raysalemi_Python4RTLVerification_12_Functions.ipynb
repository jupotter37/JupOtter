{
 "cells": [
  {
   "cell_type": "markdown",
   "metadata": {},
   "source": [
    "# Functions"
   ]
  },
  {
   "cell_type": "markdown",
   "metadata": {},
   "source": [
    "## Defining a function"
   ]
  },
  {
   "cell_type": "code",
   "execution_count": 1,
   "metadata": {},
   "outputs": [
    {
     "name": "stdout",
     "output_type": "stream",
     "text": [
      "Hello, Heba.\n"
     ]
    }
   ],
   "source": [
    "# Figure 1: Defining a simple function\n",
    "\n",
    "def say_hello(name):\n",
    "    print(f\"Hello, {name}.\")\n",
    "\n",
    "say_hello(\"Heba\")"
   ]
  },
  {
   "cell_type": "markdown",
   "metadata": {},
   "source": [
    "## Functions are callable objects"
   ]
  },
  {
   "cell_type": "code",
   "execution_count": 1,
   "metadata": {},
   "outputs": [
    {
     "name": "stderr",
     "output_type": "stream",
     "text": [
      "<>:3: SyntaxWarning: 'int' object is not callable; perhaps you missed a comma?\n",
      "<>:3: SyntaxWarning: 'int' object is not callable; perhaps you missed a comma?\n",
      "/var/folders/hr/j_1xqjnd33q_dphptrdck2y00000gn/T/ipykernel_90139/418891004.py:3: SyntaxWarning: 'int' object is not callable; perhaps you missed a comma?\n",
      "  5()\n"
     ]
    },
    {
     "ename": "TypeError",
     "evalue": "'int' object is not callable",
     "output_type": "error",
     "traceback": [
      "\u001b[0;31m---------------------------------------------------------------------------\u001b[0m",
      "\u001b[0;31mTypeError\u001b[0m                                 Traceback (most recent call last)",
      "\u001b[0;32m/var/folders/hr/j_1xqjnd33q_dphptrdck2y00000gn/T/ipykernel_90139/418891004.py\u001b[0m in \u001b[0;36m<module>\u001b[0;34m\u001b[0m\n\u001b[1;32m      1\u001b[0m \u001b[0;31m# Figure 2: You can try to call any object, but it doesn't always work.\u001b[0m\u001b[0;34m\u001b[0m\u001b[0;34m\u001b[0m\u001b[0;34m\u001b[0m\u001b[0m\n\u001b[1;32m      2\u001b[0m \u001b[0;34m\u001b[0m\u001b[0m\n\u001b[0;32m----> 3\u001b[0;31m \u001b[0;36m5\u001b[0m\u001b[0;34m(\u001b[0m\u001b[0;34m)\u001b[0m\u001b[0;34m\u001b[0m\u001b[0;34m\u001b[0m\u001b[0m\n\u001b[0m",
      "\u001b[0;31mTypeError\u001b[0m: 'int' object is not callable"
     ]
    }
   ],
   "source": [
    "# Figure 2: You can try to call any object, but it doesn't always work.\n",
    "\n",
    "5()"
   ]
  },
  {
   "cell_type": "code",
   "execution_count": 2,
   "metadata": {},
   "outputs": [
    {
     "name": "stdout",
     "output_type": "stream",
     "text": [
      "say_hello is a <class 'function'>\n"
     ]
    }
   ],
   "source": [
    "# Figure 3: Functions are objects of type function\n",
    "\n",
    "def say_hello(name):\n",
    "    print(f\"Hello, {name}.\")\n",
    "\n",
    "print(\"say_hello is a\", type(say_hello))"
   ]
  },
  {
   "cell_type": "code",
   "execution_count": 4,
   "metadata": {},
   "outputs": [
    {
     "name": "stdout",
     "output_type": "stream",
     "text": [
      "Hello, Ali.\n"
     ]
    }
   ],
   "source": [
    "# Figure 4: Calling a function using a variable\n",
    "\n",
    "def say_hello(name):\n",
    "    print(f\"Hello, {name}.\")\n",
    "\n",
    "sh = say_hello\n",
    "\n",
    "sh(\"Ali\")"
   ]
  },
  {
   "cell_type": "code",
   "execution_count": 5,
   "metadata": {},
   "outputs": [
    {
     "name": "stdout",
     "output_type": "stream",
     "text": [
      "When Mr of Bag End "
     ]
    }
   ],
   "source": [
    "# Figure 6: Filtering out long words using a function\n",
    "\n",
    "words = \"When Mr Bilbo Baggins of Bag End announced\".split()\n",
    "\n",
    "def short_words_only(word):\n",
    "    return len(word) < 5\n",
    "\n",
    "short_word_iterator = filter(short_words_only, words)\n",
    "\n",
    "for sw in short_word_iterator:\n",
    "    print(sw, end = \" \")"
   ]
  },
  {
   "cell_type": "markdown",
   "metadata": {},
   "source": [
    "## Arguments"
   ]
  },
  {
   "cell_type": "markdown",
   "metadata": {},
   "source": [
    "### Defining Arguments"
   ]
  },
  {
   "cell_type": "code",
   "execution_count": 6,
   "metadata": {},
   "outputs": [
    {
     "name": "stdout",
     "output_type": "stream",
     "text": [
      "(5+1)%3: 0\n"
     ]
    }
   ],
   "source": [
    "# Figure 7: Passing an argument to a function\n",
    "\n",
    "def inc_mod_3(xx):\n",
    "    return (xx+1)%3\n",
    "\n",
    "print(\"(5+1)%3:\", inc_mod_3(5))"
   ]
  },
  {
   "cell_type": "code",
   "execution_count": 7,
   "metadata": {
    "scrolled": true
   },
   "outputs": [
    {
     "ename": "TypeError",
     "evalue": "inc_mod_3() missing 1 required positional argument: 'xx'",
     "output_type": "error",
     "traceback": [
      "\u001b[0;31m---------------------------------------------------------------------------\u001b[0m",
      "\u001b[0;31mTypeError\u001b[0m                                 Traceback (most recent call last)",
      "\u001b[0;32m/var/folders/hr/j_1xqjnd33q_dphptrdck2y00000gn/T/ipykernel_90139/2927563375.py\u001b[0m in \u001b[0;36m<module>\u001b[0;34m\u001b[0m\n\u001b[1;32m      4\u001b[0m     \u001b[0;32mreturn\u001b[0m \u001b[0;34m(\u001b[0m\u001b[0mxx\u001b[0m\u001b[0;34m+\u001b[0m\u001b[0;36m1\u001b[0m\u001b[0;34m)\u001b[0m\u001b[0;34m%\u001b[0m\u001b[0;36m3\u001b[0m\u001b[0;34m\u001b[0m\u001b[0;34m\u001b[0m\u001b[0m\n\u001b[1;32m      5\u001b[0m \u001b[0;34m\u001b[0m\u001b[0m\n\u001b[0;32m----> 6\u001b[0;31m \u001b[0mprint\u001b[0m\u001b[0;34m(\u001b[0m\u001b[0minc_mod_3\u001b[0m\u001b[0;34m(\u001b[0m\u001b[0;34m)\u001b[0m\u001b[0;34m)\u001b[0m\u001b[0;34m\u001b[0m\u001b[0;34m\u001b[0m\u001b[0m\n\u001b[0m",
      "\u001b[0;31mTypeError\u001b[0m: inc_mod_3() missing 1 required positional argument: 'xx'"
     ]
    }
   ],
   "source": [
    "# Figure 8: Calling a function while missing an argument\n",
    "\n",
    "def inc_mod_3(xx):\n",
    "    return (xx+1)%3\n",
    "\n",
    "print(inc_mod_3())"
   ]
  },
  {
   "cell_type": "code",
   "execution_count": 9,
   "metadata": {
    "scrolled": true
   },
   "outputs": [
    {
     "name": "stdout",
     "output_type": "stream",
     "text": [
      "default (0+1)%3: 1\n"
     ]
    }
   ],
   "source": [
    "# Figure 9: Creating an argument that has a default\n",
    "    \n",
    "def inc_mod_3(xx=0):\n",
    "    return (xx+1)%3\n",
    "\n",
    "print(\"default (0+1)%3:\", inc_mod_3())"
   ]
  },
  {
   "cell_type": "markdown",
   "metadata": {},
   "source": [
    "### Default and non-default arguments"
   ]
  },
  {
   "cell_type": "code",
   "execution_count": 5,
   "metadata": {},
   "outputs": [
    {
     "name": "stdout",
     "output_type": "stream",
     "text": [
      "2**3: 8\n"
     ]
    }
   ],
   "source": [
    "# Figure 10: Two non-default arguments\n",
    "\n",
    "def my_power(base, exponent):\n",
    "    return base**exponent\n",
    "print(\"2**3:\",my_power(2,3))"
   ]
  },
  {
   "cell_type": "code",
   "execution_count": 10,
   "metadata": {},
   "outputs": [
    {
     "name": "stdout",
     "output_type": "stream",
     "text": [
      "2**0: 1\n"
     ]
    }
   ],
   "source": [
    "# Figure 11: Defining an argument default\n",
    " \n",
    "def my_power(base, exponent=0):\n",
    "    return base**exponent\n",
    "print(\"2**0:\",my_power(2))"
   ]
  },
  {
   "cell_type": "code",
   "execution_count": 12,
   "metadata": {},
   "outputs": [
    {
     "ename": "SyntaxError",
     "evalue": "non-default argument follows default argument (2168455175.py, line 3)",
     "output_type": "error",
     "traceback": [
      "\u001b[0;36m  File \u001b[0;32m\"/var/folders/hr/j_1xqjnd33q_dphptrdck2y00000gn/T/ipykernel_90139/2168455175.py\"\u001b[0;36m, line \u001b[0;32m3\u001b[0m\n\u001b[0;31m    def my_power(base=0, exponent):\u001b[0m\n\u001b[0m                 ^\u001b[0m\n\u001b[0;31mSyntaxError\u001b[0m\u001b[0;31m:\u001b[0m non-default argument follows default argument\n"
     ]
    }
   ],
   "source": [
    "# Figure 12: A default argument must be followed by default arguemnts\n",
    "\n",
    "def my_power(base=0, exponent):\n",
    "    return base**exponent\n",
    "print(\"0**2:\",my_power(2))"
   ]
  },
  {
   "cell_type": "code",
   "execution_count": 13,
   "metadata": {},
   "outputs": [
    {
     "name": "stdout",
     "output_type": "stream",
     "text": [
      "0**0: 1\n"
     ]
    }
   ],
   "source": [
    "# Figure 13: Defining all arguments as default arguments\n",
    "\n",
    "def my_power(base=0, exponent=0):\n",
    "    return base**exponent\n",
    "print(\"0**0:\",my_power())"
   ]
  },
  {
   "cell_type": "markdown",
   "metadata": {},
   "source": [
    "## Calling a function using arguments"
   ]
  },
  {
   "cell_type": "code",
   "execution_count": 14,
   "metadata": {
    "scrolled": true
   },
   "outputs": [
    {
     "name": "stdout",
     "output_type": "stream",
     "text": [
      "positional:   1.73\n",
      "keyword args: 1.73\n"
     ]
    }
   ],
   "source": [
    "# Figure 14: Calling the same function with and without keyword assignments\n",
    "\n",
    "import math\n",
    "def vec_length(x,y,z):\n",
    "    return math.sqrt(x**2 + y**2 + z**2)\n",
    "\n",
    "print(f\"positional:   {vec_length(1,1,1):.2f}\")\n",
    "print(f\"keyword args: {vec_length(x=1, y=1, z=1):.2f}\")\n"
   ]
  },
  {
   "cell_type": "code",
   "execution_count": 15,
   "metadata": {
    "scrolled": true
   },
   "outputs": [
    {
     "ename": "SyntaxError",
     "evalue": "positional argument follows keyword argument (<fstring>, line 7)",
     "output_type": "error",
     "traceback": [
      "\u001b[0;36m  File \u001b[0;32m\"<fstring>\"\u001b[0;36m, line \u001b[0;32m7\u001b[0m\n\u001b[0;31mSyntaxError\u001b[0m\u001b[0;31m:\u001b[0m positional argument follows keyword argument\n"
     ]
    }
   ],
   "source": [
    "# Figure 15: Once you provide a value, all the following arguments need one.\n",
    "\n",
    "import math\n",
    "def vec_length(x,y,z):\n",
    "    return math.sqrt(x**2 + y**2 + z**2)\n",
    "\n",
    "print(f\"{vec_length(y=1, 2, 3):.2f}\")"
   ]
  },
  {
   "cell_type": "markdown",
   "metadata": {},
   "source": [
    "## Defining a variable number of arguments"
   ]
  },
  {
   "cell_type": "code",
   "execution_count": 17,
   "metadata": {},
   "outputs": [
    {
     "name": "stdout",
     "output_type": "stream",
     "text": [
      "three: 1.73 cm\n",
      "four : 2.00 cm\n",
      "five : 2.24 ft\n",
      " 3.74 cm\n"
     ]
    }
   ],
   "source": [
    "# Figure 17: Processing a variable number of arguments\n",
    "\n",
    "import math\n",
    "def print_vec_length(*args, **kwargs):\n",
    "    sqr_sum = 0\n",
    "    for pp in args:\n",
    "        sqr_sum += pp**2\n",
    "    len = math.sqrt(sqr_sum)\n",
    "    label = kwargs.get(\"label\", \"\")\n",
    "    units = kwargs.get(\"units\", 'cm')\n",
    "    print(f'{label} {len:2.2f} {units}')\n",
    "    \n",
    "# Figure 16: Generalizing vector length to more than three dimensions\n",
    "\n",
    "print_vec_length(1,1,1, label=\"three:\")\n",
    "print_vec_length(1,1,1,1,label=\"four :\")\n",
    "print_vec_length(1,1,1,1,1, label=\"five :\", units=\"ft\")\n",
    "\n",
    "# Figure 18: # Figure 18: Using the default values for label and unit\n",
    "\n",
    "print_vec_length(1,2,3)  # label is a default argument"
   ]
  },
  {
   "cell_type": "markdown",
   "metadata": {},
   "source": [
    "## Documentation strings"
   ]
  },
  {
   "cell_type": "code",
   "execution_count": 110,
   "metadata": {},
   "outputs": [
    {
     "name": "stdout",
     "output_type": "stream",
     "text": [
      "Help on function print_hello_world in module __main__:\n",
      "\n",
      "print_hello_world()\n",
      "    It does what you think it does\n",
      "\n"
     ]
    }
   ],
   "source": [
    "# Figure 19: A single-line docstring\n",
    "\n",
    "def print_hello_world():\n",
    "    \"\"\"It does what you think it does\"\"\"\n",
    "    \n",
    "    print(\"Hello, world.\")\n",
    "\n",
    "help(print_hello_world)"
   ]
  },
  {
   "cell_type": "code",
   "execution_count": 18,
   "metadata": {},
   "outputs": [
    {
     "name": "stdout",
     "output_type": "stream",
     "text": [
      "Help on function my_power in module __main__:\n",
      "\n",
      "my_power(base, exponent)\n",
      "    Return the base to the exponent\n",
      "    \n",
      "    base: The base number\n",
      "    exponent: The exponent\n",
      "    returns: base raised to the exponent\n",
      "\n"
     ]
    }
   ],
   "source": [
    "# Figure 20: A multi-line docstring\n",
    "\n",
    "def my_power(base, exponent):\n",
    "    \"\"\"\n",
    "    Return the base to the exponent\n",
    "    \n",
    "    base: The base number\n",
    "    exponent: The exponent\n",
    "    returns: base raised to the exponent\n",
    "    \"\"\"\n",
    "    return base**exponent\n",
    "\n",
    "help(my_power)"
   ]
  },
  {
   "cell_type": "code",
   "execution_count": null,
   "metadata": {},
   "outputs": [],
   "source": []
  }
 ],
 "metadata": {
  "kernelspec": {
   "display_name": "Python 3 (ipykernel)",
   "language": "python",
   "name": "python3"
  },
  "language_info": {
   "codemirror_mode": {
    "name": "ipython",
    "version": 3
   },
   "file_extension": ".py",
   "mimetype": "text/x-python",
   "name": "python",
   "nbconvert_exporter": "python",
   "pygments_lexer": "ipython3",
   "version": "3.8.12"
  }
 },
 "nbformat": 4,
 "nbformat_minor": 4
}
