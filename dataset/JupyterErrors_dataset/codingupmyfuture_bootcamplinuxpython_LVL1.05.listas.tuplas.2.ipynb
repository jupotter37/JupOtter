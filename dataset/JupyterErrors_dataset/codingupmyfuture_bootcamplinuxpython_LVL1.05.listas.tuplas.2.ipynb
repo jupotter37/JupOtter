{
  "cells": [
    {
      "cell_type": "markdown",
      "metadata": {
        "id": "qNgykDMA5hee"
      },
      "source": [
        "<p><img src=\"https://i.postimg.cc/cCjTSn8r/ss-cumf.png\" alt=\"\" width=\"1280\" height=\"300\" /></p>"
      ]
    },
    {
      "cell_type": "markdown",
      "metadata": {
        "id": "x3xS7_CG66Ie"
      },
      "source": [
        "# **LISTAS Y TUPLAS**"
      ]
    },
    {
      "cell_type": "markdown",
      "metadata": {
        "id": "kfjmD7cy69JB"
      },
      "source": [
        "## **LISTAS**\n",
        "\n",
        "Las listas son una estructura de datos fundamental en Python. Se utiliza para almacenar una colección ordenada de elementos. Estos elementos pueden ser de cualquier tipo, como números, cadenas de texto, objetos, u otras listas. Las listas son muy flexibles y versátiles, y se utilizan comúnmente para almacenar datos relacionados.\n",
        "\n",
        "<img src=\"https://controlautomaticoeducacion.com/wp-content/uploads/Objetos-en-una-lista-en-python-768x233.png\"\n",
        "     width=\"350\"\n",
        "     height=\"150\"  class=\"center\"/>\n",
        "\n",
        "\n",
        "Para un mejor entendimiento, veámoslo de otra manera usando Excel.\n",
        "\n",
        "\n",
        "\n",
        "```python\n",
        "objetivo: str = \"ENSEÑANZA\"\n",
        "lista: list = [1, 1.1, 'hola', True, False, [1,2,3], {1,2,3}, {1:1}, (1,2,3)]\n",
        "```\n",
        "\n",
        "\n",
        "\n",
        "<img src=\"https://i.postimg.cc/ZKbk0XfX/listeasyv2.png\"\n",
        "     width=\"250\"\n",
        "     height=\"250\"  class=\"center\"/>\n",
        "\n",
        "     \n",
        "\n",
        "\n",
        "**Consideraciones**\n",
        "\n",
        "\n",
        "\n",
        "1.  Permiten almacenar cualquier tipo de valor como enteros, cadenas y hasta otras funciones\n",
        "2.  Son mutables\n",
        "3.  Los slices vistos en strings funcionan exactamente igual en las listas"
      ]
    },
    {
      "cell_type": "code",
      "execution_count": 1,
      "metadata": {
        "id": "y6BvA3645g_0"
      },
      "outputs": [],
      "source": [
        "lista_vacia = []\n",
        "lista_numeros = [1, 2, 3, 4 ,5 ,6]\n",
        "lista_letras = [\"a\", \"b\", \"c\"]\n",
        "lista_mix = [1, True, 3.5, [1,2], str.upper, (1,2), \"hola!\"]"
      ]
    },
    {
      "cell_type": "code",
      "execution_count": 2,
      "metadata": {
        "colab": {
          "base_uri": "https://localhost:8080/"
        },
        "id": "ivut_eCd7wHD",
        "outputId": "c4d97412-d1e7-4458-d24a-5668406ddc30"
      },
      "outputs": [
        {
          "output_type": "stream",
          "name": "stdout",
          "text": [
            "ESTAMOS APRENDIENDO\n"
          ]
        }
      ],
      "source": [
        "print(lista_mix[4](\"estamos aprendiendo\"))"
      ]
    },
    {
      "cell_type": "code",
      "execution_count": 3,
      "metadata": {
        "colab": {
          "base_uri": "https://localhost:8080/"
        },
        "id": "OYj3AorH7wEX",
        "outputId": "a4a17955-02cc-4c7a-ff96-e0890202be23"
      },
      "outputs": [
        {
          "output_type": "stream",
          "name": "stdout",
          "text": [
            "larga :  2\n",
            "corta :  2\n",
            "corta :  [2, 1]\n"
          ]
        }
      ],
      "source": [
        "obtengo_lista: list = lista_mix[3]\n",
        "print(\"larga : \", obtengo_lista[1])\n",
        "print(\"corta : \", lista_mix[3][1])\n",
        "print(\"corta : \", lista_mix[3][::-1])"
      ]
    },
    {
      "cell_type": "code",
      "execution_count": 4,
      "metadata": {
        "colab": {
          "base_uri": "https://localhost:8080/"
        },
        "id": "I8RLrHhF7wBv",
        "outputId": "70a7e5cc-f66e-4f5f-8f9f-3d52680fbb97"
      },
      "outputs": [
        {
          "output_type": "stream",
          "name": "stdout",
          "text": [
            "17.5\n",
            "hola!hola!hola!hola!hola!\n"
          ]
        }
      ],
      "source": [
        "print(lista_mix[2] * 5)\n",
        "print(lista_mix[-1] * 5)"
      ]
    },
    {
      "cell_type": "code",
      "execution_count": 5,
      "metadata": {
        "colab": {
          "base_uri": "https://localhost:8080/"
        },
        "id": "xCl8lxyL7v_V",
        "outputId": "5761ffe8-fa4c-4080-9b76-e9eac76fe431"
      },
      "outputs": [
        {
          "output_type": "stream",
          "name": "stdout",
          "text": [
            "paso # 1:  [[5, 6, [7, 8]], 3, 4]\n",
            "paso # 2:  [5, 6, [7, 8]]\n",
            "paso # 3:  [7, 8]\n",
            "paso # 4:  8\n"
          ]
        }
      ],
      "source": [
        "# que lo hagan de la manera larga, definiendo variables\n",
        "valor = [1, 2, [[5,6, [7,8]],3,4 ]]\n",
        "print(\"paso # 1: \", valor[2])\n",
        "print(\"paso # 2: \", valor[2][0])\n",
        "print(\"paso # 3: \", valor[2][0][2])\n",
        "print(\"paso # 4: \", valor[2][0][2][1])"
      ]
    },
    {
      "cell_type": "code",
      "execution_count": 7,
      "metadata": {
        "colab": {
          "base_uri": "https://localhost:8080/",
          "height": 245
        },
        "id": "KcCtNwlqnwSx",
        "outputId": "0fe61408-a2d6-4472-f0f0-2ed01333eaa6"
      },
      "outputs": [
        {
          "output_type": "stream",
          "name": "stdout",
          "text": [
            "[1, 2, [[5, 6, [7, 8]], 3, 4]]\n"
          ]
        },
        {
          "output_type": "error",
          "ename": "TypeError",
          "evalue": "ignored",
          "traceback": [
            "\u001b[0;31m---------------------------------------------------------------------------\u001b[0m",
            "\u001b[0;31mTypeError\u001b[0m                                 Traceback (most recent call last)",
            "\u001b[0;32m<ipython-input-7-3a6df301109e>\u001b[0m in \u001b[0;36m<cell line: 3>\u001b[0;34m()\u001b[0m\n\u001b[1;32m      1\u001b[0m \u001b[0;31m# no soporta cuando hay listas embebidas\u001b[0m\u001b[0;34m\u001b[0m\u001b[0;34m\u001b[0m\u001b[0m\n\u001b[1;32m      2\u001b[0m \u001b[0mprint\u001b[0m\u001b[0;34m(\u001b[0m\u001b[0mvalor\u001b[0m\u001b[0;34m)\u001b[0m\u001b[0;34m\u001b[0m\u001b[0;34m\u001b[0m\u001b[0m\n\u001b[0;32m----> 3\u001b[0;31m \u001b[0mvalor\u001b[0m\u001b[0;34m.\u001b[0m\u001b[0msort\u001b[0m\u001b[0;34m(\u001b[0m\u001b[0;34m)\u001b[0m\u001b[0;34m\u001b[0m\u001b[0;34m\u001b[0m\u001b[0m\n\u001b[0m\u001b[1;32m      4\u001b[0m \u001b[0mprint\u001b[0m\u001b[0;34m(\u001b[0m\u001b[0mvalor\u001b[0m\u001b[0;34m)\u001b[0m\u001b[0;34m\u001b[0m\u001b[0;34m\u001b[0m\u001b[0m\n",
            "\u001b[0;31mTypeError\u001b[0m: '<' not supported between instances of 'list' and 'int'"
          ]
        }
      ],
      "source": [
        "# no soporta cuando hay listas embebidas\n",
        "print(valor)\n",
        "valor.sort()\n",
        "print(valor)"
      ]
    },
    {
      "cell_type": "markdown",
      "metadata": {
        "id": "fQq7UTvScshD"
      },
      "source": [
        "### **APPEND**\n",
        "\n",
        "Siempre inserta en la última posición"
      ]
    },
    {
      "cell_type": "code",
      "execution_count": 8,
      "metadata": {
        "colab": {
          "base_uri": "https://localhost:8080/"
        },
        "id": "q6yoYIU_dO6B",
        "outputId": "c1055585-a368-40c6-bba0-3204fa72f836"
      },
      "outputs": [
        {
          "output_type": "stream",
          "name": "stdout",
          "text": [
            "pepito\n",
            "PEPITO\n"
          ]
        }
      ],
      "source": [
        "nombre = \"pepito\"\n",
        "nombre.upper()\n",
        "print(nombre)\n",
        "nombre = nombre.upper()\n",
        "print(nombre)"
      ]
    },
    {
      "cell_type": "code",
      "execution_count": 9,
      "metadata": {
        "colab": {
          "base_uri": "https://localhost:8080/"
        },
        "id": "pBvkpF4Qc0m-",
        "outputId": "6df07e7c-2821-4d35-90f2-110edae786e3"
      },
      "outputs": [
        {
          "output_type": "stream",
          "name": "stdout",
          "text": [
            "[1]\n"
          ]
        }
      ],
      "source": [
        "# inplace\n",
        "lista_vacia.append(1)\n",
        "print(lista_vacia)"
      ]
    },
    {
      "cell_type": "code",
      "execution_count": 10,
      "metadata": {
        "colab": {
          "base_uri": "https://localhost:8080/"
        },
        "id": "Xo0cgPUpdvR4",
        "outputId": "5dfb0ae5-af3f-4753-aaf1-01cf314f8104"
      },
      "outputs": [
        {
          "output_type": "stream",
          "name": "stdout",
          "text": [
            "[1, 7]\n"
          ]
        }
      ],
      "source": [
        "lista_vacia.append(7)\n",
        "print(lista_vacia)"
      ]
    },
    {
      "cell_type": "code",
      "execution_count": 11,
      "metadata": {
        "colab": {
          "base_uri": "https://localhost:8080/"
        },
        "id": "7ac3X9FiowOv",
        "outputId": "4f96e996-19c6-4a00-f0b4-81fe1177b1d9"
      },
      "outputs": [
        {
          "output_type": "stream",
          "name": "stdout",
          "text": [
            "[1, 2, 3, [4, 5, 6]]\n"
          ]
        }
      ],
      "source": [
        "pregunta = [1,2,3]\n",
        "pregunta.append([4,5,6])\n",
        "print(pregunta)"
      ]
    },
    {
      "cell_type": "markdown",
      "metadata": {
        "id": "zbTn9op7d3aw"
      },
      "source": [
        "### **INSERT**\n",
        "\n",
        "(índice, elemento a adicionar)"
      ]
    },
    {
      "cell_type": "code",
      "execution_count": 12,
      "metadata": {
        "colab": {
          "base_uri": "https://localhost:8080/"
        },
        "id": "-8RHD3p9eHlA",
        "outputId": "cf113b3b-80d5-4142-b3bf-7976c951081f"
      },
      "outputs": [
        {
          "output_type": "stream",
          "name": "stdout",
          "text": [
            "[10, 1, 7]\n"
          ]
        }
      ],
      "source": [
        "lista_vacia.insert(0, 10)\n",
        "print(lista_vacia)"
      ]
    },
    {
      "cell_type": "code",
      "execution_count": 13,
      "metadata": {
        "colab": {
          "base_uri": "https://localhost:8080/"
        },
        "id": "uNdQW8u_ea5z",
        "outputId": "11cfedad-ff55-4726-8d80-8a78b4a04037"
      },
      "outputs": [
        {
          "output_type": "stream",
          "name": "stdout",
          "text": [
            "[10, 1, 7, 69]\n"
          ]
        }
      ],
      "source": [
        "lista_vacia.insert(20, 69)\n",
        "print(lista_vacia)"
      ]
    },
    {
      "cell_type": "code",
      "execution_count": 14,
      "metadata": {
        "colab": {
          "base_uri": "https://localhost:8080/"
        },
        "id": "unND9avTeqQZ",
        "outputId": "dd15a143-a84b-4b38-aeea-aecafb8b3cd6"
      },
      "outputs": [
        {
          "output_type": "execute_result",
          "data": {
            "text/plain": [
              "69"
            ]
          },
          "metadata": {},
          "execution_count": 14
        }
      ],
      "source": [
        "lista_vacia[3]"
      ]
    },
    {
      "cell_type": "code",
      "execution_count": 15,
      "metadata": {
        "colab": {
          "base_uri": "https://localhost:8080/"
        },
        "id": "h9A29KawpEq9",
        "outputId": "b51d2636-d77f-4689-aaed-66151a029d89"
      },
      "outputs": [
        {
          "output_type": "stream",
          "name": "stdout",
          "text": [
            "[1, 2, 69, 3]\n"
          ]
        }
      ],
      "source": [
        "pregunta_fredy = [1,2,3]\n",
        "pregunta_fredy.insert(-1, 69) # en esta forma en particular \"negativamente\" sí respeta el 0 | slices pero positivos\n",
        "print(pregunta_fredy)"
      ]
    },
    {
      "cell_type": "markdown",
      "metadata": {
        "id": "rPvlD6pOe8qH"
      },
      "source": [
        "### **REMOVE**"
      ]
    },
    {
      "cell_type": "code",
      "execution_count": 16,
      "metadata": {
        "colab": {
          "base_uri": "https://localhost:8080/"
        },
        "id": "bBnmZ5tze5f_",
        "outputId": "b8a44a5b-6f03-4a29-dbc6-39ad6dd02350"
      },
      "outputs": [
        {
          "output_type": "stream",
          "name": "stdout",
          "text": [
            "[10, 1, 7, 69, 7]\n"
          ]
        }
      ],
      "source": [
        "lista_vacia.append(7)\n",
        "print(lista_vacia)"
      ]
    },
    {
      "cell_type": "code",
      "execution_count": 18,
      "metadata": {
        "colab": {
          "base_uri": "https://localhost:8080/"
        },
        "id": "LqD3O8QgfIzj",
        "outputId": "ebaf733f-bc81-45b7-aa79-c3f7482d4d67"
      },
      "outputs": [
        {
          "output_type": "stream",
          "name": "stdout",
          "text": [
            "[10, 1, 69, 7]\n"
          ]
        }
      ],
      "source": [
        "lista_vacia.remove(7)\n",
        "print(lista_vacia)"
      ]
    },
    {
      "cell_type": "code",
      "execution_count": 19,
      "metadata": {
        "colab": {
          "base_uri": "https://localhost:8080/",
          "height": 193
        },
        "id": "aHrkAHOVfXsm",
        "outputId": "1f2cb111-93e0-45e9-e4b6-c72432c2fbc0"
      },
      "outputs": [
        {
          "output_type": "error",
          "ename": "ValueError",
          "evalue": "ignored",
          "traceback": [
            "\u001b[0;31m---------------------------------------------------------------------------\u001b[0m",
            "\u001b[0;31mValueError\u001b[0m                                Traceback (most recent call last)",
            "\u001b[0;32m<ipython-input-19-94579878f98c>\u001b[0m in \u001b[0;36m<cell line: 1>\u001b[0;34m()\u001b[0m\n\u001b[0;32m----> 1\u001b[0;31m \u001b[0mlista_vacia\u001b[0m\u001b[0;34m.\u001b[0m\u001b[0mremove\u001b[0m\u001b[0;34m(\u001b[0m\u001b[0;36m17\u001b[0m\u001b[0;34m)\u001b[0m\u001b[0;34m\u001b[0m\u001b[0;34m\u001b[0m\u001b[0m\n\u001b[0m\u001b[1;32m      2\u001b[0m \u001b[0mprint\u001b[0m\u001b[0;34m(\u001b[0m\u001b[0mlista_vacia\u001b[0m\u001b[0;34m)\u001b[0m\u001b[0;34m\u001b[0m\u001b[0;34m\u001b[0m\u001b[0m\n",
            "\u001b[0;31mValueError\u001b[0m: list.remove(x): x not in list"
          ]
        }
      ],
      "source": [
        "lista_vacia.remove(17)\n",
        "print(lista_vacia)"
      ]
    },
    {
      "cell_type": "markdown",
      "metadata": {
        "id": "6JNjwyz1fhy_"
      },
      "source": [
        "### **POP**\n",
        "FIFO Y LIFO: investigar\n",
        "\n",
        "\n",
        "```\n",
        "lista.pop([opcional index])\n",
        "sin índice, elimina el último\n",
        "con índice, elimina la posición designada\n",
        "```\n",
        "\n"
      ]
    },
    {
      "cell_type": "code",
      "execution_count": 20,
      "metadata": {
        "colab": {
          "base_uri": "https://localhost:8080/"
        },
        "id": "jeF3lJ91fhcx",
        "outputId": "66e26e24-f99a-4d80-bc1b-cd39d343a449"
      },
      "outputs": [
        {
          "output_type": "stream",
          "name": "stdout",
          "text": [
            "[10, 1, 69, 7]\n",
            "[10, 1, 69]\n"
          ]
        }
      ],
      "source": [
        "print(lista_vacia)\n",
        "lista_vacia.pop()\n",
        "print(lista_vacia)"
      ]
    },
    {
      "cell_type": "code",
      "execution_count": 21,
      "metadata": {
        "colab": {
          "base_uri": "https://localhost:8080/"
        },
        "id": "SromUMWYgF2G",
        "outputId": "2c30f9c8-694f-45cf-a322-902d4e5dc87e"
      },
      "outputs": [
        {
          "output_type": "stream",
          "name": "stdout",
          "text": [
            "[10, 1, 69]\n",
            "[1, 69]\n",
            "El elemento eliminado es: 10\n"
          ]
        }
      ],
      "source": [
        "print(lista_vacia)\n",
        "valor_eliminado = lista_vacia.pop(0)\n",
        "print(lista_vacia)\n",
        "print(\"El elemento eliminado es:\", valor_eliminado)"
      ]
    },
    {
      "cell_type": "markdown",
      "metadata": {
        "id": "-va3V3fXgr0Z"
      },
      "source": [
        "### **INDEX**\n",
        "\n",
        "Busca el índice donde está el valor\n",
        "\n",
        "Nota: el parámetro que se envía es el valor\n"
      ]
    },
    {
      "cell_type": "code",
      "execution_count": 22,
      "metadata": {
        "colab": {
          "base_uri": "https://localhost:8080/"
        },
        "id": "O5Tbbjj0gweQ",
        "outputId": "df1462ff-2548-4e8b-a61c-ff94630e2bcf"
      },
      "outputs": [
        {
          "output_type": "stream",
          "name": "stdout",
          "text": [
            "[1, 69, 3, 7]\n",
            "2\n"
          ]
        }
      ],
      "source": [
        "lista_vacia.append(3)\n",
        "lista_vacia.append(7)\n",
        "print(lista_vacia)\n",
        "print(lista_vacia.index(3))"
      ]
    },
    {
      "cell_type": "code",
      "execution_count": 23,
      "metadata": {
        "colab": {
          "base_uri": "https://localhost:8080/"
        },
        "id": "nq5pFetkhP3F",
        "outputId": "6335af26-ba3c-4bb0-8aa6-e57e78f776ee"
      },
      "outputs": [
        {
          "output_type": "stream",
          "name": "stdout",
          "text": [
            "[1, 69, 3, 7]\n"
          ]
        }
      ],
      "source": [
        "print(lista_vacia)"
      ]
    },
    {
      "cell_type": "code",
      "execution_count": 24,
      "metadata": {
        "colab": {
          "base_uri": "https://localhost:8080/"
        },
        "id": "UKzPJEJWhM5L",
        "outputId": "5ef3944d-9f84-40e7-86cd-9a2f73dfe3d8"
      },
      "outputs": [
        {
          "output_type": "stream",
          "name": "stdout",
          "text": [
            "2\n"
          ]
        }
      ],
      "source": [
        "lista_vacia.append(3)\n",
        "print(lista_vacia.index(3))"
      ]
    },
    {
      "cell_type": "code",
      "execution_count": 25,
      "metadata": {
        "colab": {
          "base_uri": "https://localhost:8080/",
          "height": 176
        },
        "id": "mIIOIL_FhIMS",
        "outputId": "58ccdf3a-9db4-4def-ef77-146e2ebb4f0e"
      },
      "outputs": [
        {
          "output_type": "error",
          "ename": "ValueError",
          "evalue": "ignored",
          "traceback": [
            "\u001b[0;31m---------------------------------------------------------------------------\u001b[0m",
            "\u001b[0;31mValueError\u001b[0m                                Traceback (most recent call last)",
            "\u001b[0;32m<ipython-input-25-e2d31825bd16>\u001b[0m in \u001b[0;36m<cell line: 1>\u001b[0;34m()\u001b[0m\n\u001b[0;32m----> 1\u001b[0;31m \u001b[0mprint\u001b[0m\u001b[0;34m(\u001b[0m\u001b[0mlista_vacia\u001b[0m\u001b[0;34m.\u001b[0m\u001b[0mindex\u001b[0m\u001b[0;34m(\u001b[0m\u001b[0;36m322\u001b[0m\u001b[0;34m)\u001b[0m\u001b[0;34m)\u001b[0m\u001b[0;34m\u001b[0m\u001b[0;34m\u001b[0m\u001b[0m\n\u001b[0m",
            "\u001b[0;31mValueError\u001b[0m: 322 is not in list"
          ]
        }
      ],
      "source": [
        "print(lista_vacia.index(322))"
      ]
    },
    {
      "cell_type": "markdown",
      "metadata": {
        "id": "iqgAvTAYhUou"
      },
      "source": [
        "### **COUNT**\n"
      ]
    },
    {
      "cell_type": "code",
      "execution_count": 26,
      "metadata": {
        "colab": {
          "base_uri": "https://localhost:8080/"
        },
        "id": "cFnGnWFLhYvO",
        "outputId": "46799a58-cb6f-4a6c-dcee-fb079d03f81d"
      },
      "outputs": [
        {
          "output_type": "stream",
          "name": "stdout",
          "text": [
            "[1, 69, 3, 7, 3]\n",
            "2\n"
          ]
        }
      ],
      "source": [
        "print(lista_vacia)\n",
        "print(lista_vacia.count(3))"
      ]
    },
    {
      "cell_type": "code",
      "execution_count": 27,
      "metadata": {
        "colab": {
          "base_uri": "https://localhost:8080/"
        },
        "id": "2rS0QA5lhg62",
        "outputId": "e5d8980f-f2a6-4647-d6f6-c6152b2aa120"
      },
      "outputs": [
        {
          "output_type": "stream",
          "name": "stdout",
          "text": [
            "[1, 69, 3, 7, 3, 'python1']\n",
            "1\n"
          ]
        }
      ],
      "source": [
        "lista_vacia.append(\"python1\")\n",
        "print(lista_vacia)\n",
        "print(lista_vacia.count(\"python1\"))"
      ]
    },
    {
      "cell_type": "markdown",
      "metadata": {
        "id": "mJgz3m2mhUmZ"
      },
      "source": [
        "### **SORT**"
      ]
    },
    {
      "cell_type": "code",
      "execution_count": 28,
      "metadata": {
        "colab": {
          "base_uri": "https://localhost:8080/"
        },
        "id": "mYeDqAU_hvm7",
        "outputId": "ebe7b8a3-abdf-49c3-c77e-c9704102780c"
      },
      "outputs": [
        {
          "output_type": "stream",
          "name": "stdout",
          "text": [
            "[3, 1, 2]\n",
            "[1, 2, 3]\n"
          ]
        }
      ],
      "source": [
        "resultado = [3, 1, 2]\n",
        "print(resultado)\n",
        "resultado.sort()\n",
        "print(resultado)"
      ]
    },
    {
      "cell_type": "code",
      "execution_count": 29,
      "metadata": {
        "colab": {
          "base_uri": "https://localhost:8080/"
        },
        "id": "jw0jMKx3iDLU",
        "outputId": "ee54d360-cf63-4014-f201-1b663a9b856e"
      },
      "outputs": [
        {
          "output_type": "stream",
          "name": "stdout",
          "text": [
            "[3, 1, 2]\n",
            "[3, 2, 1]\n"
          ]
        }
      ],
      "source": [
        "resultado = [3, 1, 2]\n",
        "print(resultado)\n",
        "resultado.sort(reverse=True)\n",
        "print(resultado)"
      ]
    },
    {
      "cell_type": "code",
      "execution_count": 30,
      "metadata": {
        "colab": {
          "base_uri": "https://localhost:8080/"
        },
        "id": "Usv6NA25iKEE",
        "outputId": "acee6c6a-4a60-46b4-b90f-5b9cb1a04ea3"
      },
      "outputs": [
        {
          "output_type": "stream",
          "name": "stdout",
          "text": [
            "[3, 2, 1]\n"
          ]
        }
      ],
      "source": [
        "resultado = [3, 1, 2]\n",
        "resultado.sort()\n",
        "print(resultado[::-1])"
      ]
    },
    {
      "cell_type": "markdown",
      "metadata": {
        "id": "9K20GV55ide2"
      },
      "source": [
        "### **REVERSE**"
      ]
    },
    {
      "cell_type": "code",
      "execution_count": 31,
      "metadata": {
        "colab": {
          "base_uri": "https://localhost:8080/"
        },
        "id": "jU7C3dMkigGe",
        "outputId": "fb7b6b97-d819-4756-d800-d5908e958204"
      },
      "outputs": [
        {
          "output_type": "stream",
          "name": "stdout",
          "text": [
            "[1, 69, 3, 7, 3, 'python1']\n",
            "['python1', 3, 7, 3, 69, 1]\n"
          ]
        }
      ],
      "source": [
        "print(lista_vacia)\n",
        "lista_vacia.reverse()\n",
        "print(lista_vacia)"
      ]
    },
    {
      "cell_type": "code",
      "execution_count": 32,
      "metadata": {
        "colab": {
          "base_uri": "https://localhost:8080/"
        },
        "id": "qOVH9-MSipak",
        "outputId": "19082785-a37f-41a1-d770-a32d1dbb90fc"
      },
      "outputs": [
        {
          "output_type": "execute_result",
          "data": {
            "text/plain": [
              "[1, 69, 3, 7, 3, 'python1']"
            ]
          },
          "metadata": {},
          "execution_count": 32
        }
      ],
      "source": [
        "lista_vacia[::-1]"
      ]
    },
    {
      "cell_type": "markdown",
      "metadata": {
        "id": "X2Y8XGavi4d6"
      },
      "source": [
        "### **CLEAR**"
      ]
    },
    {
      "cell_type": "code",
      "execution_count": 33,
      "metadata": {
        "colab": {
          "base_uri": "https://localhost:8080/"
        },
        "id": "67D1CPagi73y",
        "outputId": "b70c4de2-546b-4ece-8ebf-f20845830c49"
      },
      "outputs": [
        {
          "output_type": "stream",
          "name": "stdout",
          "text": [
            "[3, 1, 2]\n",
            "[]\n"
          ]
        }
      ],
      "source": [
        "resultado = [3, 1, 2]\n",
        "print(resultado)\n",
        "resultado.clear()\n",
        "print(resultado)"
      ]
    },
    {
      "cell_type": "markdown",
      "metadata": {
        "id": "SyxEKvmOjsBb"
      },
      "source": [
        "### **COPY**\n"
      ]
    },
    {
      "cell_type": "code",
      "execution_count": 34,
      "metadata": {
        "colab": {
          "base_uri": "https://localhost:8080/"
        },
        "id": "mUQr3C4CjwXQ",
        "outputId": "b5498e04-09b7-4e1d-a041-b8e57d15477c"
      },
      "outputs": [
        {
          "output_type": "stream",
          "name": "stdout",
          "text": [
            "[1, 2, 3, 4, 5, 6]\n",
            "['a', 'b', 'c']\n"
          ]
        }
      ],
      "source": [
        "# cs_lista_numeros = lista_numeros\n",
        "cs_lista_numeros = lista_numeros.copy() # esta es la recomendada\n",
        "cs_lista_letras = lista_letras.copy()\n",
        "print(cs_lista_numeros)\n",
        "print(cs_lista_letras)"
      ]
    },
    {
      "cell_type": "markdown",
      "metadata": {
        "id": "UxJRM9-7jPNM"
      },
      "source": [
        "### **EXTEND**\n",
        "\n",
        "Sirve para concatenar listas"
      ]
    },
    {
      "cell_type": "code",
      "execution_count": 35,
      "metadata": {
        "colab": {
          "base_uri": "https://localhost:8080/"
        },
        "id": "EhowhTL0jOlG",
        "outputId": "70409341-cdfe-4c30-cb19-72e00c3418ab"
      },
      "outputs": [
        {
          "output_type": "stream",
          "name": "stdout",
          "text": [
            "[1, 2, 3, 4, 5, 6]\n",
            "['a', 'b', 'c']\n"
          ]
        }
      ],
      "source": [
        "print(lista_numeros)\n",
        "print(lista_letras)"
      ]
    },
    {
      "cell_type": "code",
      "execution_count": 36,
      "metadata": {
        "colab": {
          "base_uri": "https://localhost:8080/"
        },
        "id": "gZThXiZLjNpf",
        "outputId": "ae7b06c9-5f89-475e-de5a-83cb69e69fcf"
      },
      "outputs": [
        {
          "output_type": "stream",
          "name": "stdout",
          "text": [
            "[1, 2, 3, 4, 5, 6]\n",
            "[1, 2, 3, 4, 5, 6, 'a', 'b', 'c']\n"
          ]
        }
      ],
      "source": [
        "print(lista_numeros)\n",
        "lista_numeros.extend(lista_letras)\n",
        "print(lista_numeros)"
      ]
    },
    {
      "cell_type": "code",
      "execution_count": 37,
      "metadata": {
        "colab": {
          "base_uri": "https://localhost:8080/"
        },
        "id": "fooupjMckXP8",
        "outputId": "9a51d5a2-45fa-48ed-bc9a-16d29e3e45d9"
      },
      "outputs": [
        {
          "output_type": "stream",
          "name": "stdout",
          "text": [
            "['a', 'b', 'c']\n",
            "['a', 'b', 'c', 1, 2, 3, 4, 5, 6]\n"
          ]
        }
      ],
      "source": [
        "# Es lo mismo\n",
        "print(cs_lista_letras)\n",
        "cs_lista_letras += cs_lista_numeros\n",
        "print(cs_lista_letras)"
      ]
    },
    {
      "cell_type": "code",
      "execution_count": 38,
      "metadata": {
        "colab": {
          "base_uri": "https://localhost:8080/"
        },
        "id": "aCt646gokoRo",
        "outputId": "7e380510-af8f-4988-e123-1e515f776743"
      },
      "outputs": [
        {
          "output_type": "stream",
          "name": "stdout",
          "text": [
            "['python1', 3, 7, 3, 69, 1]\n",
            "['python1', 3, 7, 3, 69, 1, 'c', 'o', 'd', 'i', 'n', 'g', '.', 'u', 'p', '.', 'm', 'y', 'f', 'u', 't', 'u', 'r', 'e']\n"
          ]
        }
      ],
      "source": [
        "# coding.up.myfuture\n",
        "print(lista_vacia)\n",
        "lista_vacia.extend(\"coding.up.myfuture\")\n",
        "print(lista_vacia)"
      ]
    },
    {
      "cell_type": "code",
      "execution_count": 39,
      "metadata": {
        "colab": {
          "base_uri": "https://localhost:8080/"
        },
        "id": "S2NoLwrnlMDV",
        "outputId": "dd9da303-f743-4fbb-b462-d0587f57b566"
      },
      "outputs": [
        {
          "output_type": "stream",
          "name": "stdout",
          "text": [
            "['python1', 3, 7, 3, 69, 1, 'c', 'o', 'd', 'i', 'n', 'g', '.', 'u', 'p', '.', 'm', 'y', 'f', 'u', 't', 'u', 'r', 'e']\n",
            "['python1', 3, 7, 3, 69, 1, 'c', 'o', 'd', 'i', 'n', 'g', '.', 'u', 'p', '.', 'm', 'y', 'f', 'u', 't', 'u', 'r', 'e', 'coding', 'up', 'myfuture']\n"
          ]
        }
      ],
      "source": [
        "print(lista_vacia)\n",
        "lista_vacia.extend(\"coding.up.myfuture\".split(\".\"))\n",
        "print(lista_vacia)"
      ]
    },
    {
      "cell_type": "code",
      "execution_count": 40,
      "metadata": {
        "colab": {
          "base_uri": "https://localhost:8080/"
        },
        "id": "_RK6HcKVlvDr",
        "outputId": "38627e52-bbb3-4352-db6b-605df337d202"
      },
      "outputs": [
        {
          "output_type": "execute_result",
          "data": {
            "text/plain": [
              "['coding', 'up', 'myfuture']"
            ]
          },
          "metadata": {},
          "execution_count": 40
        }
      ],
      "source": [
        "\"coding.up.myfuture\".split(\".\")"
      ]
    },
    {
      "cell_type": "markdown",
      "metadata": {
        "id": "Z-lTsmzomCtK"
      },
      "source": [
        "### **MODIFICANDO VALOR POR ÍNDICE**"
      ]
    },
    {
      "cell_type": "markdown",
      "metadata": {
        "id": "HgS4DHH0mZoX"
      },
      "source": [
        "#### **UN VALOR SOLITO**"
      ]
    },
    {
      "cell_type": "code",
      "execution_count": 41,
      "metadata": {
        "colab": {
          "base_uri": "https://localhost:8080/"
        },
        "id": "90J_gC-Nl-1x",
        "outputId": "c33eff96-484a-4256-e1d1-42e08f752430"
      },
      "outputs": [
        {
          "output_type": "stream",
          "name": "stdout",
          "text": [
            "['python1', 3, 7, 3, 69, 1, 'c', 'o', 'd', 'i', 'n', 'g', '.', 'u', 'p', '.', 'm', 'y', 'f', 'u', 't', 'u', 'r', 'e', 'coding', 'up', 'myfuture']\n",
            "['zero to hero', 3, 7, 3, 69, 1, 'c', 'o', 'd', 'i', 'n', 'g', '.', 'u', 'p', '.', 'm', 'y', 'f', 'u', 't', 'u', 'r', 'e', 'coding', 'up', 'myfuture']\n"
          ]
        }
      ],
      "source": [
        "print(lista_vacia)\n",
        "lista_vacia[0] = \"zero to hero\"\n",
        "print(lista_vacia)"
      ]
    },
    {
      "cell_type": "markdown",
      "metadata": {
        "id": "C2sZWwW-mctx"
      },
      "source": [
        "#### **MODIFICAR RANGO**"
      ]
    },
    {
      "cell_type": "code",
      "execution_count": 42,
      "metadata": {
        "colab": {
          "base_uri": "https://localhost:8080/"
        },
        "id": "MbxMEORKmQHn",
        "outputId": "dc1454f3-293c-4cd2-ce30-48d783499949"
      },
      "outputs": [
        {
          "output_type": "stream",
          "name": "stdout",
          "text": [
            "['zero to hero', 3, 7, 3, 69, 1, 'c', 'o', 'd', 'i', 'n', 'g', '.', 'u', 'p', '.', 'm', 'y', 'f', 'u', 't', 'u', 'r', 'e', 'coding', 'up', 'myfuture']\n",
            "['zero to hero', 3, 1, 1, 1, 1, 'c', 'o', 'd', 'i', 'n', 'g', '.', 'u', 'p', '.', 'm', 'y', 'f', 'u', 't', 'u', 'r', 'e', 'coding', 'up', 'myfuture']\n"
          ]
        }
      ],
      "source": [
        "print(lista_vacia)\n",
        "lista_vacia[2:5] = [1,1,1]\n",
        "print(lista_vacia)"
      ]
    },
    {
      "cell_type": "markdown",
      "metadata": {
        "id": "TVGMGHxgk9Vy"
      },
      "source": [
        "### **MAPEO O DESACOPLAMIENTO DE VALORES**\n",
        "\n",
        "Trucos:\n",
        "\n",
        "1. **TOTAL**: igual número de elementos de la lista, igual número de variables\n",
        "2. **PARCIAL**: solo toma una parte en variables, y la última toma todo\n",
        "**NOTA: NO EXCEDERSE**\n",
        "\n"
      ]
    },
    {
      "cell_type": "code",
      "execution_count": 43,
      "metadata": {
        "colab": {
          "base_uri": "https://localhost:8080/"
        },
        "id": "9xaLQt4llIgs",
        "outputId": "e53808dd-37b7-4fd4-bbab-3871c9433b0d"
      },
      "outputs": [
        {
          "output_type": "stream",
          "name": "stdout",
          "text": [
            "['coding', 'up', 'my', 'future']\n"
          ]
        }
      ],
      "source": [
        "datos:list = \"coding.up.my.future\".split(\".\")\n",
        "print(datos)"
      ]
    },
    {
      "cell_type": "code",
      "execution_count": 44,
      "metadata": {
        "colab": {
          "base_uri": "https://localhost:8080/"
        },
        "id": "iXoU7tsilsti",
        "outputId": "56ad292a-6ca1-4685-d69e-2721f64a1fc9"
      },
      "outputs": [
        {
          "output_type": "stream",
          "name": "stdout",
          "text": [
            "coding -- up -- my -- future\n"
          ]
        }
      ],
      "source": [
        "variable1 = datos[0]\n",
        "variable2 = datos[1]\n",
        "variable3 = datos[2]\n",
        "variable4 = datos[3]\n",
        "print(variable1,variable2,variable3,variable4, sep=\" -- \")"
      ]
    },
    {
      "cell_type": "code",
      "execution_count": 45,
      "metadata": {
        "colab": {
          "base_uri": "https://localhost:8080/"
        },
        "id": "-z4eDR3lmNhy",
        "outputId": "d21bc101-c30f-42a3-b7e5-a52b5f436a18"
      },
      "outputs": [
        {
          "output_type": "stream",
          "name": "stdout",
          "text": [
            "['c@ding', 'up', 'my', 'future']\n",
            "c@ding -- up -- my -- future\n"
          ]
        }
      ],
      "source": [
        "datos:list = \"c@ding.up.my.future\".split(\".\")\n",
        "# ['c@ding', 'up', 'my', 'future']\n",
        "#    var1.    var2 var3  var4\n",
        "print(datos)\n",
        "variable1, variable2, variable3, variable4 = datos\n",
        "print(variable1,variable2,variable3,variable4, sep=\" -- \")"
      ]
    },
    {
      "cell_type": "code",
      "execution_count": 46,
      "metadata": {
        "colab": {
          "base_uri": "https://localhost:8080/"
        },
        "id": "5rfjE7ikm65l",
        "outputId": "5276c3f8-4633-428c-9b8d-ca0435e0f93b"
      },
      "outputs": [
        {
          "output_type": "stream",
          "name": "stdout",
          "text": [
            "c@ding\n",
            "['up', 'my', 'future']\n"
          ]
        }
      ],
      "source": [
        "# primera parte\n",
        "\n",
        "que_hacemos, *el_resto = datos\n",
        "print(que_hacemos)\n",
        "print(el_resto)"
      ]
    },
    {
      "cell_type": "code",
      "execution_count": 47,
      "metadata": {
        "colab": {
          "base_uri": "https://localhost:8080/"
        },
        "id": "I40EF2QjnuFk",
        "outputId": "984400f7-3911-4669-8256-35bbb3bef804"
      },
      "outputs": [
        {
          "output_type": "stream",
          "name": "stdout",
          "text": [
            "['c@ding', 'up', 'my', 'future']\n",
            "variables c@ding up\n",
            "['my', 'future']\n"
          ]
        }
      ],
      "source": [
        "# primera parte\n",
        "print(datos)\n",
        "que_hacemos_1,que_hacemos_2, *el_resto = datos\n",
        "print(\"variables\",que_hacemos_1,que_hacemos_2)\n",
        "print(el_resto)"
      ]
    },
    {
      "cell_type": "code",
      "execution_count": 48,
      "metadata": {
        "colab": {
          "base_uri": "https://localhost:8080/",
          "height": 176
        },
        "id": "yKiqKfOXoSst",
        "outputId": "2a0b66be-3ed5-4f56-881f-d71579693d1f"
      },
      "outputs": [
        {
          "output_type": "error",
          "ename": "ValueError",
          "evalue": "ignored",
          "traceback": [
            "\u001b[0;31m---------------------------------------------------------------------------\u001b[0m",
            "\u001b[0;31mValueError\u001b[0m                                Traceback (most recent call last)",
            "\u001b[0;32m<ipython-input-48-c641f1820eec>\u001b[0m in \u001b[0;36m<cell line: 1>\u001b[0;34m()\u001b[0m\n\u001b[0;32m----> 1\u001b[0;31m \u001b[0mvariable1\u001b[0m\u001b[0;34m,\u001b[0m \u001b[0mvariable2\u001b[0m\u001b[0;34m,\u001b[0m \u001b[0mvariable3\u001b[0m\u001b[0;34m,\u001b[0m \u001b[0mvariable4\u001b[0m\u001b[0;34m,\u001b[0m \u001b[0mvariable5\u001b[0m \u001b[0;34m=\u001b[0m \u001b[0mdatos\u001b[0m\u001b[0;34m\u001b[0m\u001b[0;34m\u001b[0m\u001b[0m\n\u001b[0m",
            "\u001b[0;31mValueError\u001b[0m: not enough values to unpack (expected 5, got 4)"
          ]
        }
      ],
      "source": [
        "variable1, variable2, variable3, variable4, variable5 = datos"
      ]
    },
    {
      "cell_type": "code",
      "execution_count": 49,
      "metadata": {
        "colab": {
          "base_uri": "https://localhost:8080/",
          "height": 176
        },
        "id": "dtOMyLzLoWZm",
        "outputId": "6acd3756-ff8a-4928-b44d-958e94bba29c"
      },
      "outputs": [
        {
          "output_type": "error",
          "ename": "ValueError",
          "evalue": "ignored",
          "traceback": [
            "\u001b[0;31m---------------------------------------------------------------------------\u001b[0m",
            "\u001b[0;31mValueError\u001b[0m                                Traceback (most recent call last)",
            "\u001b[0;32m<ipython-input-49-fd5918970b25>\u001b[0m in \u001b[0;36m<cell line: 1>\u001b[0;34m()\u001b[0m\n\u001b[0;32m----> 1\u001b[0;31m \u001b[0mvariable1\u001b[0m\u001b[0;34m,\u001b[0m \u001b[0mvariable2\u001b[0m\u001b[0;34m,\u001b[0m \u001b[0mvariable3\u001b[0m \u001b[0;34m=\u001b[0m \u001b[0mdatos\u001b[0m\u001b[0;34m\u001b[0m\u001b[0;34m\u001b[0m\u001b[0m\n\u001b[0m",
            "\u001b[0;31mValueError\u001b[0m: too many values to unpack (expected 3)"
          ]
        }
      ],
      "source": [
        "variable1, variable2, variable3 = datos"
      ]
    },
    {
      "cell_type": "code",
      "execution_count": 50,
      "metadata": {
        "colab": {
          "base_uri": "https://localhost:8080/"
        },
        "id": "0fbxA7KDoeY9",
        "outputId": "476714d9-206f-4fe4-823f-240d7b61320f"
      },
      "outputs": [
        {
          "output_type": "stream",
          "name": "stdout",
          "text": [
            "c@ding\n",
            "['up', 'my', 'future']\n"
          ]
        }
      ],
      "source": [
        "# truco\n",
        "que_hacemos, *_ = datos\n",
        "print(que_hacemos)\n",
        "print(_)"
      ]
    },
    {
      "cell_type": "code",
      "execution_count": 51,
      "metadata": {
        "colab": {
          "base_uri": "https://localhost:8080/"
        },
        "id": "8lg6RIFHozgC",
        "outputId": "827c6610-03d9-4d16-922b-78f8348ee327"
      },
      "outputs": [
        {
          "output_type": "stream",
          "name": "stdout",
          "text": [
            "W\n"
          ]
        }
      ],
      "source": [
        "a,b,c,d = \"WXYZ\"\n",
        "print(a)"
      ]
    },
    {
      "cell_type": "code",
      "execution_count": 52,
      "metadata": {
        "colab": {
          "base_uri": "https://localhost:8080/"
        },
        "id": "1VOYn3CUo-UJ",
        "outputId": "2958a7d9-3c54-4e7a-b6ec-589a95889b3e"
      },
      "outputs": [
        {
          "output_type": "stream",
          "name": "stdout",
          "text": [
            "W\n",
            "['X', 'Y', 'Z']\n"
          ]
        }
      ],
      "source": [
        "a,*el_nombre_que_quieran = \"WXYZ\"\n",
        "print(a)\n",
        "print(el_nombre_que_quieran)"
      ]
    },
    {
      "cell_type": "code",
      "execution_count": 53,
      "metadata": {
        "id": "cvhHDtKtszZF"
      },
      "outputs": [],
      "source": [
        "# truco con asignación variables | con listas ok, pero con variables y valores es mala practica\n",
        "a,b,c,d = True, True,1,2\n"
      ]
    },
    {
      "cell_type": "code",
      "execution_count": 55,
      "metadata": {
        "id": "TC4jeO_KtlaF"
      },
      "outputs": [],
      "source": [
        "a,*c,n = \"ABCDW\""
      ]
    },
    {
      "cell_type": "code",
      "execution_count": 54,
      "metadata": {
        "colab": {
          "base_uri": "https://localhost:8080/",
          "height": 245
        },
        "id": "ZTl4VkDgtyrC",
        "outputId": "d1d550ec-4efd-492b-c3f9-90b1c3ddd7a5"
      },
      "outputs": [
        {
          "output_type": "stream",
          "name": "stdout",
          "text": [
            "True\n",
            "1\n"
          ]
        },
        {
          "output_type": "error",
          "ename": "NameError",
          "evalue": "ignored",
          "traceback": [
            "\u001b[0;31m---------------------------------------------------------------------------\u001b[0m",
            "\u001b[0;31mNameError\u001b[0m                                 Traceback (most recent call last)",
            "\u001b[0;32m<ipython-input-54-ba940f9741c7>\u001b[0m in \u001b[0;36m<cell line: 3>\u001b[0;34m()\u001b[0m\n\u001b[1;32m      1\u001b[0m \u001b[0mprint\u001b[0m\u001b[0;34m(\u001b[0m\u001b[0ma\u001b[0m\u001b[0;34m)\u001b[0m\u001b[0;34m\u001b[0m\u001b[0;34m\u001b[0m\u001b[0m\n\u001b[1;32m      2\u001b[0m \u001b[0mprint\u001b[0m\u001b[0;34m(\u001b[0m\u001b[0mc\u001b[0m\u001b[0;34m)\u001b[0m\u001b[0;34m\u001b[0m\u001b[0;34m\u001b[0m\u001b[0m\n\u001b[0;32m----> 3\u001b[0;31m \u001b[0mprint\u001b[0m\u001b[0;34m(\u001b[0m\u001b[0mn\u001b[0m\u001b[0;34m)\u001b[0m\u001b[0;34m\u001b[0m\u001b[0;34m\u001b[0m\u001b[0m\n\u001b[0m",
            "\u001b[0;31mNameError\u001b[0m: name 'n' is not defined"
          ]
        }
      ],
      "source": [
        "print(a)\n",
        "print(c)\n",
        "print(n)"
      ]
    },
    {
      "cell_type": "markdown",
      "metadata": {
        "id": "KDlUYlM-8e-a"
      },
      "source": [
        "## **TUPLAS**\n",
        "\n",
        "\n",
        "\n",
        "1.   Se acceden con slices\n",
        "2.   Son inmutables\n"
      ]
    },
    {
      "cell_type": "code",
      "execution_count": 56,
      "metadata": {
        "colab": {
          "base_uri": "https://localhost:8080/"
        },
        "id": "V7hqUvcJpVyH",
        "outputId": "dc3bf550-0662-4f8a-ba1d-90cf2fdbeba4"
      },
      "outputs": [
        {
          "output_type": "stream",
          "name": "stdout",
          "text": [
            "<class 'tuple'> (1, 2, 3)\n"
          ]
        }
      ],
      "source": [
        "tupla: tuple = (1,2,3)\n",
        "print(type(tupla), tupla)"
      ]
    },
    {
      "cell_type": "code",
      "execution_count": 59,
      "metadata": {
        "colab": {
          "base_uri": "https://localhost:8080/",
          "height": 176
        },
        "id": "3IvopQP2pvt9",
        "outputId": "048ed792-eddc-4dae-d051-47ea5abea9d2"
      },
      "outputs": [
        {
          "output_type": "error",
          "ename": "TypeError",
          "evalue": "ignored",
          "traceback": [
            "\u001b[0;31m---------------------------------------------------------------------------\u001b[0m",
            "\u001b[0;31mTypeError\u001b[0m                                 Traceback (most recent call last)",
            "\u001b[0;32m<ipython-input-59-ef583f1eb560>\u001b[0m in \u001b[0;36m<cell line: 1>\u001b[0;34m()\u001b[0m\n\u001b[0;32m----> 1\u001b[0;31m \u001b[0mtupla\u001b[0m\u001b[0;34m[\u001b[0m\u001b[0;36m0\u001b[0m\u001b[0;34m]\u001b[0m \u001b[0;34m=\u001b[0m \u001b[0;36m999\u001b[0m\u001b[0;34m\u001b[0m\u001b[0;34m\u001b[0m\u001b[0m\n\u001b[0m",
            "\u001b[0;31mTypeError\u001b[0m: 'tuple' object does not support item assignment"
          ]
        }
      ],
      "source": [
        "tupla[0] = 999"
      ]
    },
    {
      "cell_type": "code",
      "execution_count": 58,
      "metadata": {
        "colab": {
          "base_uri": "https://localhost:8080/"
        },
        "id": "DPHRnypNp49n",
        "outputId": "12df8291-e6b1-47f2-c83a-3b016630e5b3"
      },
      "outputs": [
        {
          "output_type": "stream",
          "name": "stdout",
          "text": [
            "(3, 2, 1)\n"
          ]
        }
      ],
      "source": [
        "print(tupla[::-1])"
      ]
    },
    {
      "cell_type": "code",
      "execution_count": 62,
      "metadata": {
        "colab": {
          "base_uri": "https://localhost:8080/"
        },
        "id": "nXiebdPYqAJO",
        "outputId": "8d5067bc-b98e-4b8b-a9e6-c93f7345a96d"
      },
      "outputs": [
        {
          "output_type": "stream",
          "name": "stdout",
          "text": [
            "antes :  <class 'list'> ['CC', 'TI', 'CE', 'PASP']\n",
            "despues :  <class 'tuple'> ('CC', 'TI', 'CE', 'PASP')\n"
          ]
        }
      ],
      "source": [
        "tipo_documento: list = [\"CC\", \"TI\", \"CE\", \"PASP\"]\n",
        "print(\"antes : \", type(tipo_documento), tipo_documento)\n",
        "tipo_documento = tuple(tipo_documento)\n",
        "print(\"despues : \", type(tipo_documento), tipo_documento)"
      ]
    },
    {
      "cell_type": "code",
      "execution_count": 61,
      "metadata": {
        "colab": {
          "base_uri": "https://localhost:8080/",
          "height": 176
        },
        "id": "llvNwrDYqjfa",
        "outputId": "2e80c43c-47cb-4994-93d7-3aad325c5a9c"
      },
      "outputs": [
        {
          "output_type": "error",
          "ename": "TypeError",
          "evalue": "ignored",
          "traceback": [
            "\u001b[0;31m---------------------------------------------------------------------------\u001b[0m",
            "\u001b[0;31mTypeError\u001b[0m                                 Traceback (most recent call last)",
            "\u001b[0;32m<ipython-input-61-430c7ec3cfe4>\u001b[0m in \u001b[0;36m<cell line: 1>\u001b[0;34m()\u001b[0m\n\u001b[0;32m----> 1\u001b[0;31m \u001b[0mtipo_documento\u001b[0m\u001b[0;34m[\u001b[0m\u001b[0;36m0\u001b[0m\u001b[0;34m:\u001b[0m\u001b[0;36m1\u001b[0m\u001b[0;34m]\u001b[0m \u001b[0;34m=\u001b[0m \u001b[0;34m[\u001b[0m\u001b[0;34m\"X\"\u001b[0m\u001b[0;34m,\u001b[0m \u001b[0;34m\"Y\"\u001b[0m\u001b[0;34m]\u001b[0m\u001b[0;34m\u001b[0m\u001b[0;34m\u001b[0m\u001b[0m\n\u001b[0m",
            "\u001b[0;31mTypeError\u001b[0m: 'tuple' object does not support item assignment"
          ]
        }
      ],
      "source": [
        "tipo_documento[0:1] = [\"X\", \"Y\"]"
      ]
    }
  ],
  "metadata": {
    "colab": {
      "provenance": []
    },
    "kernelspec": {
      "display_name": "Python 3",
      "name": "python3"
    },
    "language_info": {
      "name": "python"
    }
  },
  "nbformat": 4,
  "nbformat_minor": 0
}