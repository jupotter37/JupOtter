{
 "cells": [
  {
   "cell_type": "markdown",
   "metadata": {},
   "source": [
    "#### Loading Libraries"
   ]
  },
  {
   "cell_type": "code",
   "execution_count": 1,
   "metadata": {},
   "outputs": [
    {
     "ename": "ModuleNotFoundError",
     "evalue": "No module named 'termite'",
     "output_type": "error",
     "traceback": [
      "\u001b[0;31m---------------------------------------------------------------------------\u001b[0m",
      "\u001b[0;31mModuleNotFoundError\u001b[0m                       Traceback (most recent call last)",
      "\u001b[0;32m<ipython-input-1-e8c29308facd>\u001b[0m in \u001b[0;36m<module>\u001b[0;34m()\u001b[0m\n\u001b[1;32m     11\u001b[0m \u001b[0;32mimport\u001b[0m \u001b[0msys\u001b[0m\u001b[0;34m\u001b[0m\u001b[0m\n\u001b[1;32m     12\u001b[0m \u001b[0msys\u001b[0m\u001b[0;34m.\u001b[0m\u001b[0mpath\u001b[0m\u001b[0;34m.\u001b[0m\u001b[0mappend\u001b[0m\u001b[0;34m(\u001b[0m\u001b[0;34m'.. '\u001b[0m\u001b[0;34m)\u001b[0m\u001b[0;34m\u001b[0m\u001b[0m\n\u001b[0;32m---> 13\u001b[0;31m \u001b[0;32mimport\u001b[0m \u001b[0mtermite\u001b[0m \u001b[0;32mas\u001b[0m \u001b[0mtrmt\u001b[0m\u001b[0;34m\u001b[0m\u001b[0m\n\u001b[0m",
      "\u001b[0;31mModuleNotFoundError\u001b[0m: No module named 'termite'"
     ]
    }
   ],
   "source": [
    "%matplotlib inline\n",
    "\n",
    "import glob\n",
    "import matplotlib.pyplot as plt\n",
    "import seaborn as sns\n",
    "import networkx as nx\n",
    "from nxviz import MatrixPlot, CircosPlot, ArcPlot\n",
    "import pandas as pd\n",
    "import tqdm\n",
    "\n",
    "import sys\n",
    "sys.path.append('../')\n",
    "import termite as trmt"
   ]
  },
  {
   "cell_type": "markdown",
   "metadata": {},
   "source": [
    "#### Load Dataset"
   ]
  },
  {
   "cell_type": "markdown",
   "metadata": {},
   "source": [
    "The Experiment class in the *termite* module provides tools for preprocessing a tracking result dataset, we'll assume that the data was generated using this process from now on."
   ]
  },
  {
   "cell_type": "markdown",
   "metadata": {},
   "source": [
    "Let's proceed to load the data then..."
   ]
  },
  {
   "cell_type": "code",
   "execution_count": null,
   "metadata": {},
   "outputs": [],
   "source": [
    "nest = trmt.Experiment('/media/dmrib/tdata/Syntermes/N11HHS2018-8W4S/N11HHS2018-8W4S-1/Expanded/')"
   ]
  },
  {
   "cell_type": "markdown",
   "metadata": {},
   "source": [
    "This gives us an object containing both the nests' termites trails and their metadata so we can further investigate the underlying structure of termite self organization."
   ]
  },
  {
   "cell_type": "markdown",
   "metadata": {},
   "source": [
    "#### Encounters Graphs"
   ]
  },
  {
   "cell_type": "markdown",
   "metadata": {},
   "source": [
    "Let's build a graph representing the encounters in a given frame..."
   ]
  },
  {
   "cell_type": "code",
   "execution_count": null,
   "metadata": {},
   "outputs": [],
   "source": [
    "def build_frame_encounters_graph(nest, frame_number):\n",
    "    G = nx.Graph()\n",
    "    color_map = []\n",
    "    for termite in nest.termites:\n",
    "        G.add_node(termite.label)\n",
    "        if termite.caste == 'S':\n",
    "            color_map.append('gray')\n",
    "        else:\n",
    "            color_map.append('black')\n",
    "    for termite in nest.termites:\n",
    "        for other in nest.termites:\n",
    "            if termite != other:\n",
    "                if termite.trail.loc[frame_number, f'encountering_{other.label}']:\n",
    "                    G.add_edge(termite.label, other.label)\n",
    "                    \n",
    "    return G, color_map "
   ]
  },
  {
   "cell_type": "markdown",
   "metadata": {},
   "source": [
    "And here's how to visualize it:"
   ]
  },
  {
   "cell_type": "code",
   "execution_count": null,
   "metadata": {},
   "outputs": [],
   "source": [
    "frame_encounters, c_map = build_frame_encounters_graph(nest, 1000)\n",
    "nx.draw_circular(frame_encounters, node_color=c_map, node_size=1000, alpha=0.9, with_labels=True, edge_color='red', linewidths=3, width=5, font_color='white')"
   ]
  },
  {
   "cell_type": "markdown",
   "metadata": {},
   "source": [
    "And we can also create the graph for the entire experiment..."
   ]
  },
  {
   "cell_type": "code",
   "execution_count": null,
   "metadata": {},
   "outputs": [],
   "source": [
    "def build_encounters_graph(nest):\n",
    "    G = nx.Graph()\n",
    "    color_map = []\n",
    "    for termite in nest.termites:\n",
    "        G.add_node(termite.label)\n",
    "        if termite.caste == 'S':\n",
    "            color_map.append('gray')\n",
    "        else:\n",
    "            color_map.append('black')\n",
    "    for termite in nest.termites:\n",
    "        for other in nest.termites:\n",
    "            if termite != other:\n",
    "                if termite.trail[f'encountering_{other.label}'].sum() > 0:\n",
    "                    G.add_edge(termite.label, other.label)\n",
    "                    \n",
    "    return G\n",
    "        "
   ]
  },
  {
   "cell_type": "markdown",
   "metadata": {},
   "source": [
    "And see how it looks like:"
   ]
  },
  {
   "cell_type": "code",
   "execution_count": null,
   "metadata": {},
   "outputs": [],
   "source": [
    "all_encounters = build_encounters_graph(nest)\n",
    "nx.draw_circular(all_encounters, node_color=c_map, node_size=1000, alpha=0.9, with_labels=True, edge_color='red', linewidths=3, width=5, font_color='white')"
   ]
  },
  {
   "cell_type": "markdown",
   "metadata": {},
   "source": [
    "This one is better visualized with a matrix plot!"
   ]
  },
  {
   "cell_type": "code",
   "execution_count": null,
   "metadata": {},
   "outputs": [],
   "source": [
    "plot = MatrixPlot(all_encounters)\n",
    "plot.draw()"
   ]
  }
 ],
 "metadata": {
  "kernelspec": {
   "display_name": "Python 3",
   "language": "python",
   "name": "python3"
  },
  "language_info": {
   "codemirror_mode": {
    "name": "ipython",
    "version": 3
   },
   "file_extension": ".py",
   "mimetype": "text/x-python",
   "name": "python",
   "nbconvert_exporter": "python",
   "pygments_lexer": "ipython3",
   "version": "3.6.5"
  }
 },
 "nbformat": 4,
 "nbformat_minor": 2
}
