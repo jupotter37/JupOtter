{
 "cells": [
  {
   "cell_type": "markdown",
   "metadata": {},
   "source": [
    "# Key aspects of ECSS\n",
    "\n",
    "### *Copyright 2021-2022 Dr. George Papagiannakis,  papagian@csd.uoc.gr & Dr. Manos Kamarianakis, manos.kamarianakis@oramavr.com*\n",
    "*All Rights Reserved*\n",
    "### *University of Crete & Foundation for Research & Technology - Hellas (FORTH)*"
   ]
  },
  {
   "cell_type": "markdown",
   "metadata": {},
   "source": [
    "## 1. Creating an ECS scene"
   ]
  },
  {
   "cell_type": "markdown",
   "metadata": {},
   "source": [
    "Initially, we should load our basic libraries, using the following code."
   ]
  },
  {
   "cell_type": "code",
   "execution_count": 3,
   "metadata": {},
   "outputs": [
    {
     "ename": "AttributeError",
     "evalue": "module 'numpy' has no attribute 'float'",
     "output_type": "error",
     "traceback": [
      "\u001b[0;31m---------------------------------------------------------------------------\u001b[0m",
      "\u001b[0;31mAttributeError\u001b[0m                            Traceback (most recent call last)",
      "Cell \u001b[0;32mIn[3], line 3\u001b[0m\n\u001b[1;32m      1\u001b[0m \u001b[39mimport\u001b[39;00m \u001b[39mnumpy\u001b[39;00m \u001b[39mas\u001b[39;00m \u001b[39mnp\u001b[39;00m\n\u001b[0;32m----> 3\u001b[0m \u001b[39mimport\u001b[39;00m \u001b[39mpyECSS\u001b[39;00m\u001b[39m.\u001b[39;00m\u001b[39mutilities\u001b[39;00m \u001b[39mas\u001b[39;00m \u001b[39mutil\u001b[39;00m\n\u001b[1;32m      4\u001b[0m \u001b[39mfrom\u001b[39;00m \u001b[39mpyECSS\u001b[39;00m\u001b[39m.\u001b[39;00m\u001b[39mEntity\u001b[39;00m \u001b[39mimport\u001b[39;00m Entity\n\u001b[1;32m      5\u001b[0m \u001b[39mfrom\u001b[39;00m \u001b[39mpyECSS\u001b[39;00m\u001b[39m.\u001b[39;00m\u001b[39mComponent\u001b[39;00m \u001b[39mimport\u001b[39;00m BasicTransform, Camera, RenderMesh\n",
      "File \u001b[0;32m~/opt/anaconda3/envs/elements/lib/python3.9/site-packages/pyECSS/utilities.py:371\u001b[0m\n\u001b[1;32m    367\u001b[0m     \u001b[39mreturn\u001b[39;00m M\n\u001b[1;32m    368\u001b[0m \u001b[39m# -------------------- quaternion algebra convenience functions ----------------------\u001b[39;00m\n\u001b[1;32m    369\u001b[0m \n\u001b[1;32m    370\u001b[0m \u001b[39m#quaternion()\u001b[39;00m\n\u001b[0;32m--> 371\u001b[0m \u001b[39mdef\u001b[39;00m \u001b[39mquaternion\u001b[39m(x\u001b[39m=\u001b[39mvec(\u001b[39m0.0\u001b[39;49m, \u001b[39m0.0\u001b[39;49m, \u001b[39m0.0\u001b[39;49m, \u001b[39m0.0\u001b[39;49m), y\u001b[39m=\u001b[39m\u001b[39m0.0\u001b[39m, z\u001b[39m=\u001b[39m\u001b[39m0.0\u001b[39m, w\u001b[39m=\u001b[39m\u001b[39m1.0\u001b[39m):\n\u001b[1;32m    372\u001b[0m \u001b[39m    \u001b[39m\u001b[39m\"\"\"Generate a quaternion array from 4 values or a vec3 for vector and w for scalar parts (scalar-last list scipy)\u001b[39;00m\n\u001b[1;32m    373\u001b[0m \u001b[39m    It has been tested against: \u001b[39;00m\n\u001b[1;32m    374\u001b[0m \u001b[39m    https://docs.scipy.org/doc/scipy/reference/generated/scipy.spatial.transform.Rotation.html#scipy.spatial.transform.Rotation \u001b[39;00m\n\u001b[0;32m   (...)\u001b[0m\n\u001b[1;32m    383\u001b[0m \u001b[39m    :type w: float, optional\u001b[39;00m\n\u001b[1;32m    384\u001b[0m \u001b[39m    \"\"\"\u001b[39;00m\n\u001b[1;32m    385\u001b[0m     x, y, z \u001b[39m=\u001b[39m (x, y, z) \u001b[39mif\u001b[39;00m \u001b[39misinstance\u001b[39m(x, Number) \u001b[39melse\u001b[39;00m (x[\u001b[39m0\u001b[39m], x[\u001b[39m1\u001b[39m], x[\u001b[39m2\u001b[39m])\n",
      "File \u001b[0;32m~/opt/anaconda3/envs/elements/lib/python3.9/site-packages/pyECSS/utilities.py:26\u001b[0m, in \u001b[0;36mvec\u001b[0;34m(*iterable)\u001b[0m\n\u001b[1;32m     22\u001b[0m \u001b[39mdef\u001b[39;00m \u001b[39mvec\u001b[39m(\u001b[39m*\u001b[39miterable):\n\u001b[1;32m     23\u001b[0m \u001b[39m    \u001b[39m\u001b[39m\"\"\"\u001b[39;00m\n\u001b[1;32m     24\u001b[0m \u001b[39m    return a numpy vector out of any iterable (list, tuple...) as column-major ('F')\u001b[39;00m\n\u001b[1;32m     25\u001b[0m \u001b[39m    \"\"\"\u001b[39;00m\n\u001b[0;32m---> 26\u001b[0m     \u001b[39mreturn\u001b[39;00m np\u001b[39m.\u001b[39masarray(iterable \u001b[39mif\u001b[39;00m \u001b[39mlen\u001b[39m(iterable) \u001b[39m>\u001b[39m \u001b[39m1\u001b[39m \u001b[39melse\u001b[39;00m iterable[\u001b[39m0\u001b[39m],dtype\u001b[39m=\u001b[39mnp\u001b[39m.\u001b[39;49mfloat, order\u001b[39m=\u001b[39m\u001b[39m'\u001b[39m\u001b[39mF\u001b[39m\u001b[39m'\u001b[39m)\n",
      "File \u001b[0;32m~/opt/anaconda3/envs/elements/lib/python3.9/site-packages/numpy/__init__.py:284\u001b[0m, in \u001b[0;36m__getattr__\u001b[0;34m(attr)\u001b[0m\n\u001b[1;32m    281\u001b[0m     \u001b[39mfrom\u001b[39;00m \u001b[39m.\u001b[39;00m\u001b[39mtesting\u001b[39;00m \u001b[39mimport\u001b[39;00m Tester\n\u001b[1;32m    282\u001b[0m     \u001b[39mreturn\u001b[39;00m Tester\n\u001b[0;32m--> 284\u001b[0m \u001b[39mraise\u001b[39;00m \u001b[39mAttributeError\u001b[39;00m(\u001b[39m\"\u001b[39m\u001b[39mmodule \u001b[39m\u001b[39m{!r}\u001b[39;00m\u001b[39m has no attribute \u001b[39m\u001b[39m\"\u001b[39m\n\u001b[1;32m    285\u001b[0m                      \u001b[39m\"\u001b[39m\u001b[39m{!r}\u001b[39;00m\u001b[39m\"\u001b[39m\u001b[39m.\u001b[39mformat(\u001b[39m__name__\u001b[39m, attr))\n",
      "\u001b[0;31mAttributeError\u001b[0m: module 'numpy' has no attribute 'float'"
     ]
    }
   ],
   "source": [
    "import numpy as np\n",
    "\n",
    "import Elements.pyECSS.math_utilities as util\n",
    "from Elements.pyECSS.Entity import Entity\n",
    "from Elements.pyECSS.Component import BasicTransform, Camera, RenderMesh\n",
    "from Elements.pyECSS.System import System, TransformSystem, CameraSystem, RenderSystem\n",
    "from Elements.pyGLV.GL.Scene import Scene\n",
    "from Elements.pyECSS.ECSSManager import ECSSManager\n",
    "\n",
    "from Elements.pyGLV.GL.Shader import InitGLShaderSystem, Shader, ShaderGLDecorator, RenderGLShaderSystem\n",
    "from Elements.pyGLV.GL.VertexArray import VertexArray"
   ]
  },
  {
   "cell_type": "markdown",
   "metadata": {},
   "source": [
    "After deciding the scenegraph in our mind we can easily create the respective tree in pyglGA. For example, suppose we have the following scene in mind:\n",
    "\n",
    "![scenegraph-example.png](./Files_for_notebooks/scenegraph-example.png)"
   ]
  },
  {
   "cell_type": "markdown",
   "metadata": {},
   "source": [
    "The code implementing it is the following:"
   ]
  },
  {
   "cell_type": "code",
   "execution_count": null,
   "metadata": {},
   "outputs": [
    {
     "ename": "",
     "evalue": "",
     "output_type": "error",
     "traceback": [
      "\u001b[1;31mRunning cells with 'elements' requires ipykernel package.\n",
      "\u001b[1;31mRun the following command to install 'ipykernel' into the Python environment. \n",
      "\u001b[1;31mCommand: 'conda install -n elements ipykernel --update-deps --force-reinstall'"
     ]
    }
   ],
   "source": [
    "scene = Scene()    \n",
    "\n",
    "# Scenegraph with Entities, Components\n",
    "rootEntity = scene.world.createEntity(Entity(name=\"Root\"))\n",
    "entityCam1 = scene.world.createEntity(Entity(name=\"entityCam1\"))\n",
    "scene.world.addEntityChild(rootEntity, entityCam1)\n",
    "trans1 = scene.world.addComponent(entityCam1, BasicTransform(name=\"trans1\", trs=util.identity()))\n",
    "\n",
    "entityCam2 = scene.world.createEntity(Entity(name=\"entityCam2\"))\n",
    "scene.world.addEntityChild(entityCam1, entityCam2)\n",
    "trans2 = scene.world.addComponent(entityCam2, BasicTransform(name=\"trans2\", trs=util.identity()))\n",
    "orthoCam = scene.world.addComponent(entityCam2, Camera(util.ortho(-100.0, 100.0, -100.0, 100.0, 1.0, 100.0), \"orthoCam\",\"Camera\",\"500\"))\n",
    "\n",
    "node4 = scene.world.createEntity(Entity(name=\"node4\"))\n",
    "scene.world.addEntityChild(rootEntity, node4)\n",
    "trans4 = scene.world.addComponent(node4, BasicTransform(name=\"trans4\", trs=util.identity()))\n",
    "mesh4 = scene.world.addComponent(node4, RenderMesh(name=\"mesh4\"))"
   ]
  },
  {
   "cell_type": "markdown",
   "metadata": {},
   "source": [
    "Note that we easile created the entities with the `createEntity` command and attached to their respective parent with the `addEntityChild`. The `addComponent` command adds various components (e.g., `BasicTransform`, `Camera`, `RenderMesh`) to the entities. \n",
    "\n",
    "For more details/variations/functions that regard these components, check `Component.py` in `ECSS` folder. "
   ]
  },
  {
   "cell_type": "markdown",
   "metadata": {},
   "source": [
    "Let us now create the geometry of the `node4` entity. For example, suppose we want a cube. "
   ]
  },
  {
   "cell_type": "code",
   "execution_count": null,
   "metadata": {},
   "outputs": [
    {
     "ename": "",
     "evalue": "",
     "output_type": "error",
     "traceback": [
      "\u001b[1;31mRunning cells with 'elements' requires ipykernel package.\n",
      "\u001b[1;31mRun the following command to install 'ipykernel' into the Python environment. \n",
      "\u001b[1;31mCommand: 'conda install -n elements ipykernel --update-deps --force-reinstall'"
     ]
    }
   ],
   "source": [
    "vertexCube = np.array([\n",
    "            [-0.5, -0.5, 0.5, 1.0],\n",
    "            [-0.5, 0.5, 0.5, 1.0],\n",
    "            [0.5, 0.5, 0.5, 1.0],\n",
    "            [0.5, -0.5, 0.5, 1.0], \n",
    "            [-0.5, -0.5, -0.5, 1.0], \n",
    "            [-0.5, 0.5, -0.5, 1.0], \n",
    "            [0.5, 0.5, -0.5, 1.0], \n",
    "            [0.5, -0.5, -0.5, 1.0]\n",
    "        ],dtype=np.float32) \n",
    "colorCube = np.array([\n",
    "            [0.0, 0.0, 0.0, 1.0],\n",
    "            [1.0, 0.0, 0.0, 1.0],\n",
    "            [1.0, 1.0, 0.0, 1.0],\n",
    "            [0.0, 1.0, 0.0, 1.0],\n",
    "            [0.0, 0.0, 1.0, 1.0],\n",
    "            [1.0, 0.0, 1.0, 1.0],\n",
    "            [1.0, 1.0, 1.0, 1.0],\n",
    "            [0.0, 1.0, 1.0, 1.0]\n",
    "        ], dtype=np.float32)\n",
    "        \n",
    "\n",
    "indexCube = np.array((1,0,3, 1,3,2, \n",
    "                          2,3,7, 2,7,6,\n",
    "                          3,0,4, 3,4,7,\n",
    "                          6,5,1, 6,1,2,\n",
    "                          4,5,6, 4,6,7,\n",
    "                          5,4,0, 5,0,1), np.uint32) #rhombus out of two triangles"
   ]
  },
  {
   "cell_type": "markdown",
   "metadata": {},
   "source": [
    "We shall now add the Systems that parse the Scenegraph. "
   ]
  },
  {
   "cell_type": "code",
   "execution_count": null,
   "metadata": {},
   "outputs": [
    {
     "ename": "",
     "evalue": "",
     "output_type": "error",
     "traceback": [
      "\u001b[1;31mRunning cells with 'elements' requires ipykernel package.\n",
      "\u001b[1;31mRun the following command to install 'ipykernel' into the Python environment. \n",
      "\u001b[1;31mCommand: 'conda install -n elements ipykernel --update-deps --force-reinstall'"
     ]
    }
   ],
   "source": [
    "transUpdate = scene.world.createSystem(TransformSystem(\"transUpdate\", \"TransformSystem\", \"001\"))\n",
    "camUpdate = scene.world.createSystem(CameraSystem(\"camUpdate\", \"CameraUpdate\", \"200\"))\n",
    "renderUpdate = scene.world.createSystem(RenderGLShaderSystem())\n",
    "initUpdate = scene.world.createSystem(InitGLShaderSystem())"
   ]
  },
  {
   "cell_type": "code",
   "execution_count": null,
   "metadata": {},
   "outputs": [
    {
     "ename": "",
     "evalue": "",
     "output_type": "error",
     "traceback": [
      "\u001b[1;31mRunning cells with 'elements' requires ipykernel package.\n",
      "\u001b[1;31mRun the following command to install 'ipykernel' into the Python environment. \n",
      "\u001b[1;31mCommand: 'conda install -n elements ipykernel --update-deps --force-reinstall'"
     ]
    }
   ],
   "source": [
    "model = util.translate(0.0,0.0,0.5)\n",
    "eye = util.vec(0.0, 0.0, 5.0)\n",
    "target = util.vec(0,0,0)\n",
    "up = util.vec(0.0, 1.0, 0.0)\n",
    "view = util.lookat(eye, target, up)\n",
    "#projMat = util.frustum(-10.0, 10.0,-10.0,10.0, -1.0, 10)\n",
    "projMat = util.perspective(120.0, 1.33, 0.1, 100.0)\n",
    "# projMat = util.ortho(-100.0, 100.0, -100.0, 100.0, -0.5, 100.0)\n",
    "#projMat = util.ortho(-5.0, 5.0, -5.0, 5.0, 0.1, 100.0)\n",
    "#mvpMat = projMat @ view @ model\n",
    "mvpMat = model @ view @ projMat\n",
    "\n",
    "# decorated components and systems with sample, default pass-through shader with uniform MVP\n",
    "shaderDec4 = scene.world.addComponent(node4, ShaderGLDecorator(Shader(vertex_source = Shader.COLOR_VERT_MVP, fragment_source=Shader.COLOR_FRAG)))\n",
    "shaderDec4.setUniformVariable(key='modelViewProj', value=mvpMat, mat4=True)\n",
    "\n",
    "# attach a simple cube in a RenderMesh so that VertexArray can pick it up\n",
    "mesh4.vertex_attributes.append(vertexCube)\n",
    "mesh4.vertex_attributes.append(colorCube)\n",
    "mesh4.vertex_index.append(indexCube)\n",
    "vArray4 = scene.world.addComponent(node4, VertexArray())\n",
    "\n",
    "# \n"
   ]
  },
  {
   "cell_type": "markdown",
   "metadata": {},
   "source": [
    "We may check that these entities, compononets and systems are correctly registered by running:"
   ]
  },
  {
   "cell_type": "code",
   "execution_count": null,
   "metadata": {
    "scrolled": true
   },
   "outputs": [
    {
     "ename": "",
     "evalue": "",
     "output_type": "error",
     "traceback": [
      "\u001b[1;31mRunning cells with 'elements' requires ipykernel package.\n",
      "\u001b[1;31mRun the following command to install 'ipykernel' into the Python environment. \n",
      "\u001b[1;31mCommand: 'conda install -n elements ipykernel --update-deps --force-reinstall'"
     ]
    }
   ],
   "source": [
    "scene.world.print()"
   ]
  },
  {
   "cell_type": "markdown",
   "metadata": {},
   "source": [
    "## 2 Running the ECSS\n",
    "__Note:__ You may have to \"force quit\" the python window or/and the kernel may crash/restart!"
   ]
  },
  {
   "cell_type": "code",
   "execution_count": null,
   "metadata": {},
   "outputs": [
    {
     "ename": "",
     "evalue": "",
     "output_type": "error",
     "traceback": [
      "\u001b[1;31mRunning cells with 'elements' requires ipykernel package.\n",
      "\u001b[1;31mRun the following command to install 'ipykernel' into the Python environment. \n",
      "\u001b[1;31mCommand: 'conda install -n elements ipykernel --update-deps --force-reinstall'"
     ]
    }
   ],
   "source": [
    "running = True\n",
    "# MAIN RENDERING LOOP\n",
    "scene.init(imgui=True, windowWidth = 1024, windowHeight = 768, windowTitle = \"pyglGA Cube Scene\")\n",
    "\n",
    "# pre-pass scenegraph to initialise all GL context dependent geometry, shader classes\n",
    "# needs an active GL context\n",
    "scene.world.traverse_visit(initUpdate, scene.world.root)\n",
    "\n",
    "while running:\n",
    "    running = scene.render()\n",
    "    scene.world.traverse_visit(renderUpdate, scene.world.root)\n",
    "    scene.render_post()\n",
    "\n",
    "scene.shutdown()\n",
    "\n",
    "\n",
    "print(\"TestScene:test_renderCube END\".center(100, '-'))"
   ]
  }
 ],
 "metadata": {
  "kernelspec": {
   "display_name": "elements",
   "language": "python",
   "name": "python3"
  },
  "language_info": {
   "codemirror_mode": {
    "name": "ipython",
    "version": 3
   },
   "file_extension": ".py",
   "mimetype": "text/x-python",
   "name": "python",
   "nbconvert_exporter": "python",
   "pygments_lexer": "ipython3",
   "version": "3.9.15"
  },
  "vscode": {
   "interpreter": {
    "hash": "abf0d22b029d6db216f9dc0ceda6b51b4bd3d5cb5b1ad533de1c1203f5559cfc"
   }
  }
 },
 "nbformat": 4,
 "nbformat_minor": 4
}
