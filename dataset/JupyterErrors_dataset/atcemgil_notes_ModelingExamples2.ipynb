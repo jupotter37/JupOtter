{
 "cells": [
  {
   "cell_type": "markdown",
   "metadata": {},
   "source": [
    "# Estimation of a Categorical distribution\n",
    "\n",
    "## Maximum Likelihood Estimation\n",
    "\n",
    "We observe a dataset $\\{x^{(n)}\\}_{n=1\\dots N}$. The model for a single observation is a categorical distribution with parameter $\\pi = (\\pi_1, \\dots, \\pi_I)$ where \n",
    "\n",
    "\\begin{eqnarray}\n",
    "x^{(n)} & \\sim & p(x|\\pi) = \\prod_{i=1}^{I} \\pi_i^{\\ind{i = x^{(n)}}}\n",
    "\\end{eqnarray}\n",
    "where $\\sum_i \\pi_i  = 1$.\n",
    "\n",
    "The loglikelihood of the entire dataset is\n",
    "\n",
    "\\begin{eqnarray}\n",
    "{\\cal L}(\\pi_1,\\dots,\\pi_I) & = & \\sum_{n=1}^N\\sum_{i=1}^I \\ind{i = x^{(n)}} \\log \\pi_i\n",
    "\\end{eqnarray}\n",
    "This is a constrained optimisation problem.\n",
    "Form the Lagrangian\n",
    "\\begin{eqnarray}\n",
    "\\Lambda(\\pi, \\lambda) & = & \\sum_{n=1}^N\\sum_{i'=1}^I \\ind{i' = x^{(n)}} \\log \\pi_{i'}  + \\lambda \\left( 1 - \\sum_{i'} \\pi_{i'} \\right ) \\\\\n",
    "\\frac{\\partial \\Lambda(\\pi, \\lambda)}{\\partial \\pi_i} & = & \\sum_{n=1}^N \\ind{i = x^{(n)}} \\frac{1}{\\pi_i} - \\lambda = 0 \\\\\n",
    "\\pi_i & = & \\frac{\\sum_{n=1}^N \\ind{i = x^{(n)}}}{\\lambda}\n",
    "\\end{eqnarray}\n",
    "\n",
    "We solve for $\\lambda$\n",
    "\\begin{eqnarray}\n",
    "1 & = & \\sum_i \\pi_i = \\frac{\\sum_{i=1}^I \\sum_{n=1}^N \\ind{i = x^{(n)}}}{\\lambda} \\\\\n",
    "\\lambda & = & \\sum_{i=1}^I \\sum_{n=1}^N \\ind{i = x^{(n)}} =  \\sum_{n=1}^N 1 = N\n",
    "\\end{eqnarray}\n",
    "\n",
    "Hence\n",
    "\\begin{eqnarray}\n",
    "\\pi_i & = & \\frac{\\sum_{n=1}^N \\ind{i = x^{(n)}}}{N}\n",
    "\\end{eqnarray}"
   ]
  },
  {
   "cell_type": "code",
   "execution_count": 17,
   "metadata": {},
   "outputs": [
    {
     "data": {
      "text/html": [
       "<table width=100%><tr><td align=\"center\">\\begin{eqnarray}\\mathcal{D}(\\pi_{1:I}; a_{1:I} )\\end{eqnarray}</td><td>\\mathcal{D}(\\pi_{1:I}; a_{1:I} )</td></tr><tr><td align=\"center\">\\begin{eqnarray}\\frac{\\Gamma(\\sum_{i} a_{i})}{\\prod_{i} \\Gamma(a_{i})} \\prod_{{i}=1}^{I} {\\pi}_{i}^{a_{i} - 1} \\end{eqnarray}</td><td>\\frac{\\Gamma(\\sum_{i} a_{i})}{\\prod_{i} \\Gamma(a_{i})} \\prod_{{i}=1}^{I} {\\pi}_{i}^{a_{i} - 1} </td></tr><tr><td align=\"center\">\\begin{eqnarray}\\exp\\left(\\log{\\Gamma(\\sum_{i} a_{i})} - {\\sum_{i} \\log \\Gamma(a_{i})} + \\sum_{{i}=1}^{I} (a_{i} - 1) \\log{\\pi}_{i} \\right)\\end{eqnarray}</td><td>\\exp\\left(\\log{\\Gamma(\\sum_{i} a_{i})} - {\\sum_{i} \\log \\Gamma(a_{i})} + \\sum_{{i}=1}^{I} (a_{i} - 1) \\log{\\pi}_{i} \\right)</td></tr><tr><td align=\"center\">\\begin{eqnarray}\\log{\\Gamma(\\sum_{i} a_{i})} - {\\sum_{i} \\log \\Gamma(a_{i})} + \\sum_{{i}=1}^{I} (a_{i} - 1) \\log{\\pi}_{i} \\end{eqnarray}</td><td>\\log{\\Gamma(\\sum_{i} a_{i})} - {\\sum_{i} \\log \\Gamma(a_{i})} + \\sum_{{i}=1}^{I} (a_{i} - 1) \\log{\\pi}_{i} </td></tr></table>"
      ],
      "text/plain": [
       "<IPython.core.display.HTML object>"
      ]
     },
     "metadata": {},
     "output_type": "display_data"
    }
   ],
   "source": [
    "# %load template_equations.py\n",
    "from IPython.display import display, Math, Latex, HTML\n",
    "import notes_utilities as nut\n",
    "from importlib import reload\n",
    "reload(nut)\n",
    "Latex('$\\DeclareMathOperator{\\trace}{Tr}$')\n",
    "\n",
    "L = nut.pdf2latex_dirichlet(x=r'\\pi', a=r'a',N=r'I', i='i')\n",
    "\n",
    "display(HTML(nut.eqs2html_table(L)))"
   ]
  },
  {
   "cell_type": "markdown",
   "metadata": {},
   "source": [
    "#### Maximum A-Posteriori Estimation\n",
    "\n",
    "$$\n",
    "\\pi \\sim \\mathcal{D}(\\pi_{1:I}; a_{1:I} )\n",
    "$$\n",
    "where $\\sum_i \\pi_i  = 1$. For $n = 1\\dots N$\n",
    "\\begin{eqnarray}\n",
    "x^{(n)} & \\sim & p(x|\\pi) = \\prod_{i=1}^{I} \\pi_i^{\\ind{i = x^{(n)}}}\n",
    "\\end{eqnarray}\n",
    "$X = \\{x^{(1)},\\dots,x^{(N)} \\}$\n",
    "\n",
    "The posterior is \n",
    "\\begin{align}\n",
    "\\log p(\\pi_{1:I}| X) & =^+  \\log p(\\pi_{1:I}, X) \\\\\n",
    "& = \\log{\\Gamma(\\sum_{i} a_{i})} - {\\sum_{i} \\log \\Gamma(a_{i})} \n",
    "+ \\sum_{{i}=1}^{I} (a_{i} - 1) \\log{\\pi}_{i}  \n",
    "+ \\sum_{i=1}^I\\sum_{n=1}^N \\ind{i = x^{(n)}} \\log \\pi_i \\\\\n",
    " & =^+    \\sum_{i=1}^I \\left(a_i - 1 +  \\sum_{n=1}^N \\ind{i = x^{(n)}}\\right) \\log \\pi_i \n",
    "\\end{align}"
   ]
  },
  {
   "cell_type": "markdown",
   "metadata": {},
   "source": [
    "Finding the parameter vector $\\pi_{1:I}$ that maximizes the posterior density is a constrained optimisation problem. After omitting constant terms that do not depend on $\\pi$, we form the Lagrangian\n",
    "\\begin{eqnarray}\n",
    "\\Lambda(\\pi, \\lambda) & = & \\sum_{i=1}^I \\left(a_i - 1 +  \\sum_{n=1}^N \\ind{i = x^{(n)}}\\right) \\log \\pi_i   + \\lambda \\left( 1 - \\sum_{i'} \\pi_{i'} \\right ) \\\\\n",
    "\\frac{\\partial \\Lambda(\\pi, \\lambda)}{\\partial \\pi_i} & = & \\left(a_i - 1 + \\sum_{n=1}^N \\ind{i = x^{(n)}}\\right) \\frac{1}{\\pi_i} - \\lambda = 0 \\\\\n",
    "\\pi_i & = & \\frac{a_i - 1 + \\sum_{n=1}^N \\ind{i = x^{(n)}}}{\\lambda}\n",
    "\\end{eqnarray}\n",
    "\n",
    "\n",
    "We solve for $\\lambda$\n",
    "\\begin{eqnarray}\n",
    "1 & = & \\sum_i \\pi_i = \\frac{- I + \\sum_{i=1}^I \\left( a_i + \\sum_{n=1}^N \\ind{i = x^{(n)}  \\right) }}{\\lambda} \\\\\n",
    "\\lambda & = &  N - I + \\sum_{i=1}^I a_i\n",
    "\\end{eqnarray}\n",
    "\n",
    "Setting the count of observations equal to $i$ as $C_i \\equiv \\sum_{n=1}^N \\ind{i = x^{(n)}}$, we obtain \n",
    "\n",
    "Hence\n",
    "\\begin{eqnarray}\n",
    "\\pi_i & = & \\frac{C_i + a_i - 1}{N + \\sum_{i=1}^I a_i - I}\n",
    "\\end{eqnarray}"
   ]
  },
  {
   "cell_type": "markdown",
   "metadata": {},
   "source": [
    "## Full Bayesian Inference\n",
    "\n",
    "Setting the count of observations equal to $i$ as $C_i \\equiv \\sum_{n=1}^N \\ind{i = x^{(n)}}$, we obtain \n",
    "\n",
    "\n",
    "The posterior is \n",
    "\\begin{eqnarray}\n",
    "\\log p(\\pi_{1:I}, X) & = & \\log{\\Gamma(\\sum_{i} a_{i})} - {\\sum_{i} \\log \\Gamma(a_{i})} +  \\sum_{i=1}^I \\left(\\left(a_i + \\sum_{n=1}^N \\ind{i = x^{(n)}}\\right) - 1  \\right) \\log \\pi_i \\\\\n",
    "& =  & \\log{\\Gamma(\\sum_{i} a_{i})} - {\\sum_{i} \\log \\Gamma(a_{i})}\\\\\n",
    "& &  + \\sum_{i=1}^I (a_i + C_i - 1) \\log \\pi_i \\\\\n",
    " & & + \\log{\\Gamma(\\sum_{i} (a_{i} + C_i) )} - {\\sum_{i} \\log \\Gamma(a_{i} + C_i)} \\\\\n",
    " & & - \\log{\\Gamma(\\sum_{i} (a_{i} + C_i) )} + {\\sum_{i} \\log \\Gamma(a_{i} + C_i)} \\\\\n",
    " & = & \\log \\mathcal{D}(\\pi_{1:I}, a_{1:I} ) + \\log p(X) \n",
    "\\end{eqnarray}\n",
    "\n",
    "\\begin{eqnarray}\n",
    "\\log p(X) & = & \\log{\\Gamma(\\sum_{i} a_{i})} - {\\sum_{i} \\log \\Gamma(a_{i})} - \\log{\\Gamma(\\sum_{i} (a_{i} + C_i) )} + {\\sum_{i} \\log \\Gamma(a_{i} + C_i)}\n",
    "\\end{eqnarray}\n",
    "\n",
    "$a_+ = \\sum_{i} a_{i}$ and $C_+ = \\sum_{i}  C_i$\n",
    "\\begin{eqnarray}\n",
    "p(X) & = & \\frac{\\Gamma(a_+) \\prod_{i} \\Gamma(a_{i} + C_i)}{\\Gamma(a_+ + C_+ ) \\prod_{i} \\Gamma(a_{i})} = \\frac{ \\left(\\prod_{i} \\Gamma(a_{i} + C_i)\\right)/ \\Gamma(a_+ + C_+ )}{ \\left(\\prod_{i} \\Gamma(a_{i}) \\right)/ \\Gamma(a_+)} = \\frac{B(a + C)}{B(a)}\n",
    "\\end{eqnarray}\n"
   ]
  },
  {
   "cell_type": "markdown",
   "metadata": {},
   "source": [
    "# Are $x$ and $y$ independent?\n",
    "Suppose we observe a dataset of $(x, y)$ pairs where\n",
    "$x \\in \\{1,\\dots,I_1\\}$ and\n",
    "$y \\in \\{1,\\dots,I_2\\}$."
   ]
  },
  {
   "cell_type": "markdown",
   "metadata": {},
   "source": [
    "|  |  |\n",
    "| --- | --- |\n",
    "| $x^{(1)}$ | $y^{(1)}$ | \n",
    "| $\\vdots$ | $\\vdots$ | \n",
    "| $x^{(n)}$ | $y^{(n)}$ | \n",
    "| $\\vdots$ | $\\vdots$ | \n",
    "| $x^{(N)}$ | $y^{(N)}$ | "
   ]
  },
  {
   "cell_type": "markdown",
   "metadata": {},
   "source": [
    "$\\newcommand{\\ind}[1]{\\left[#1\\right]}$\n",
    "We are given the counts of observations where $x = i$ while $y = j$. These counts can be stored as an array, that is known as a contingency table\n",
    "$\n",
    "S_{i,j} = \\sum_{n=1}^N \\ind{x^{(n)} = i}\\ind{y^{(n)} = j}\n",
    "$"
   ]
  },
  {
   "cell_type": "code",
   "execution_count": 15,
   "metadata": {
    "hide_input": true,
    "scrolled": false
   },
   "outputs": [
    {
     "data": {
      "text/html": [
       "<TABLE cellpadding=\"4\" border=\"1\" style=\"border: 1px solid #000000; border-collapse: collapse;\">\n",
       " <TR>\n",
       "  <TD width=\"65px\">&nbsp;</TD>\n",
       "  <TD width=\"65px\">$y=1$</TD>\n",
       "  <TD width=\"65px\">$y=j$</TD>\n",
       "  <TD width=\"80px\">$y=I_2$</TD>\n",
       " </TR>\n",
       " <TR>\n",
       "  <TD>$x=1$</TD>\n",
       "  <TD>$S_{1,1}$</TD>\n",
       "  <TD>&nbsp;</TD>\n",
       "  <TD>$S_{1,I_2}$</TD>\n",
       " </TR>\n",
       " <TR>\n",
       "  <TD>$x=i$</TD>\n",
       "  <TD>&nbsp;</TD>\n",
       "  <TD>$S_{i,j}$</TD>\n",
       "  <TD>&nbsp;</TD>\n",
       " </TR>\n",
       " <TR>\n",
       "  <TD>$x=I_1$</TD>\n",
       "  <TD>$S_{I_1,1}$</TD>\n",
       "  <TD>&nbsp;</TD>\n",
       "  <TD>$S_{I_1,I_2}$</TD>\n",
       " </TR>\n",
       "</TABLE>"
      ],
      "text/plain": [
       "<IPython.core.display.HTML object>"
      ]
     },
     "metadata": {},
     "output_type": "display_data"
    }
   ],
   "source": [
    "from IPython.display import display, Math, Latex, HTML\n",
    "import html_utils as htm\n",
    "wd = '65px'\n",
    "L = [[htm.TableCell('', width=wd), htm.TableCell('$y=1$', width=wd), htm.TableCell('$y=j$', width=wd), htm.TableCell('$y=I_2$', width='80px')],\n",
    "     [r'$x=1$',r'$S_{1,1}$',r'',r'$S_{1,I_2}$'],\n",
    "     [r'$x=i$',r'',r'$S_{i,j}$',r''],\n",
    "     [r'$x=I_1$',r'$S_{I_1,1}$',r'',r'$S_{I_1,I_2}$']]\n",
    "\n",
    "t = htm.make_htmlTable(L)\n",
    "display(HTML(str(t)))\n",
    "#print(str(t))"
   ]
  },
  {
   "cell_type": "markdown",
   "metadata": {},
   "source": [
    "Our goal is deciding if the random variables $x$ and $y$ are independent or dependent, given some observations."
   ]
  },
  {
   "cell_type": "markdown",
   "metadata": {},
   "source": [
    "| |  || |\n",
    "|-|-    |-|-|\n",
    "| |$y$|| |\n",
    "|$x$ |$3$|$5$|$9$|\n",
    "| |$7$|$9$|$17$|"
   ]
  },
  {
   "cell_type": "markdown",
   "metadata": {},
   "source": [
    "## Independent model $M_1$\n",
    "\n",
    "\\begin{equation}\n",
    "p(x, y) = p(x) p(y) \n",
    "\\end{equation}\n",
    "\n",
    "\\begin{align}\n",
    "\\pi_1 & \\sim  \\mathcal{D}(\\pi_1; a_1) &\n",
    "\\pi_2 & \\sim  \\mathcal{D}(\\pi_2; a_2) \\\\\n",
    "x^{(n)} & \\sim  \\mathcal{C}(x; \\pi_1) &\n",
    "y^{(n)} & \\sim  \\mathcal{C}(y; \\pi_2) \n",
    "\\end{align}\n",
    "\n",
    "We let \n",
    "\n",
    "* $X_{i+} = \\sum_j X_{i,j}$ \n",
    "* $X_{+j} = \\sum_i X_{i,j}$\n",
    "\n",
    "The marginal likelihood can be found as \n",
    "\\begin{eqnarray}\n",
    "\\log p(X|M_1) & = & \\log{\\Gamma(\\sum_{i} a_{1}(i))} - {\\sum_{i} \\log \\Gamma(a_{1}(i)} - \\log{\\Gamma(\\sum_{i} (a_{1}(i) + \\sum_{j} C(i,j)) )} + {\\sum_{i} \\log \\Gamma(a_{1}(i) + \\sum_{j} C(i,j))} \\\\\n",
    "& & +\\log{\\Gamma(\\sum_{j} a_{2}(j)} - {\\sum_{j} \\log \\Gamma(a_{2}(j))} - \\log{\\Gamma(\\sum_{j} (a_{2}(j) + \\sum_{i} C(i,j)) )} + {\\sum_{j} \\log \\Gamma(a_{2}(j) + \\sum_{i} C(i,j))} \\\\\n",
    "& = & \\log{\\Gamma(A_1)} - \\sum_{i} \\log \\Gamma(a_{1}(i)) - \\log{\\Gamma(A_1+ N)} + {\\sum_{i} \\log \\Gamma(a_{1}(i) + C_1(i))} \\\\\n",
    "& & + \\log{\\Gamma(A_2)} - {\\sum_{j} \\log \\Gamma(a_{2}(j))} - \\log{\\Gamma(A_2 + N )} + {\\sum_{j} \\log \\Gamma(a_{2}(j) +  C_2(j))} \\\\\n",
    "\\end{eqnarray}"
   ]
  },
  {
   "cell_type": "markdown",
   "metadata": {},
   "source": [
    "### Dependent model $M_2$\n",
    "\\begin{equation}\n",
    "p(x_1, x_2)\n",
    "\\end{equation}\n",
    "\n",
    "$\\pi_{1,2}$ is a $S_1 \\times S_2$ matrix where the joint distribution of entries is Dirichlet $\\mathcal{D}(\\pi_{1,2}; a_{1,2})$ with $S_1 \\times S_2$ parameter matrix $a_{1,2}$. Then, the probability that $p(x_1 = i, x_2 = j|\\pi_{1,2}) = \\pi_{1,2}(i,j)$.\n",
    "\n",
    "\\begin{eqnarray}\n",
    "\\pi_{1,2} & \\sim & \\mathcal{D}(\\pi_{1,2}; a_{1,2}) \\\\\n",
    "(x_1, x_2)^{(n)} & \\sim & \\mathcal{C}((x_1,x_2); \\pi_{1,2}) \\\\\n",
    "\\end{eqnarray}\n",
    "\n",
    "\\begin{eqnarray}\n",
    "\\log p(X|M_2) & = & \\log{\\Gamma(A_{1,2})} - {\\sum_{i,j} \\log \\Gamma(a_{1,2}(i,j))} - \\log{\\Gamma(A_{1,2}+ N)} + {\\sum_{i,j} \\log \\Gamma(a_{1,2}(i,j) + C(i,j))} \n",
    "\\end{eqnarray}\n",
    "\n"
   ]
  },
  {
   "cell_type": "markdown",
   "metadata": {},
   "source": [
    "### Dependent model $M_3$\n",
    "\\begin{equation}\n",
    "p(x_1, x_2) = p(x_1) p(x_2|x_1) \n",
    "\\end{equation}\n",
    "\n",
    "\\begin{eqnarray}\n",
    "\\pi_1 & \\sim & \\mathcal{D}(\\pi_1; a_1) \\\\\n",
    "\\pi_{2,1} & \\sim & \\mathcal{D}(\\pi_2; a_2) \\\\\n",
    "\\vdots \\\\\n",
    "\\pi_{2,S_1} & \\sim & \\mathcal{D}(\\pi_2; a_2) \\\\\n",
    "x_1^{(n)} & \\sim & \\mathcal{C}(x_1; \\pi_1) \\\\\n",
    "x_2^{(n)} & \\sim & \\mathcal{C}(x_2; \\pi_{2}(x_1^{(n)},:)) \n",
    "\\end{eqnarray}\n",
    "\n",
    "\\begin{eqnarray}\n",
    "\\log p(x_1^{(1:N)}|\\pi_1) & = & \\sum_n \\sum_i \\sum_j \\ind{x_1^{(n)} = i} \\ind{x_2^{(n)} = j} \\log \\pi_{1}(i)  =  \\sum_i \\sum_j C(i,j) \\log \\pi_{1}(i)\n",
    "\\end{eqnarray}\n",
    "\\begin{eqnarray}\n",
    "\\log p(x_2^{(1:N)}|\\pi_2, x_1^{(1:N)} ) & = & \\sum_n \\sum_i \\sum_j \\ind{x_1^{(n)} = i} \\ind{x_2^{(n)} = j} \\log \\pi_{2}(i,j) =  \\sum_i \\sum_j C(i,j) \\log \\pi_{2}(i,j)\n",
    "\\end{eqnarray}"
   ]
  },
  {
   "cell_type": "markdown",
   "metadata": {},
   "source": [
    "\\begin{eqnarray}\n",
    "\\log p(\\pi_1) & = & \\log{\\Gamma(\\sum_{i} a_{1}(i))} - {\\sum_{i} \\log \\Gamma(a_{1}(i))} + \\sum_{{i}=1}^{S_1} (a_{1}(i) - 1) \\log{\\pi_1}(i) \n",
    "\\end{eqnarray}\n",
    "\\begin{eqnarray}\n",
    "\\log p(\\pi_2) & = & \\sum_i \\left(\\log{\\Gamma(\\sum_{j} a_{2}(i,j))} - {\\sum_{j} \\log \\Gamma(a_{2}(i,j))} + \\sum_{{j}=1}^{S_2} (a_{2}(i,j) - 1) \\log{\\pi_2}(i,j) \\right)\n",
    "\\end{eqnarray}\n",
    "\n",
    "The joint distribution is\n",
    "\\begin{eqnarray}\n",
    "\\log p(X, \\pi| M_2)&= & \\log{\\Gamma(\\sum_{i} a_{1}(i))} - {\\sum_{i} \\log \\Gamma(a_{1}(i))} + \\sum_{{i}=1}^{S_1} (a_{1}(i) + C_1(i) - 1) \\log{\\pi_1}(i)  \\\\\n",
    "& & + \\sum_i \\left(\\log{\\Gamma(\\sum_{j} a_{2}(i,j))} - {\\sum_{j} \\log \\Gamma(a_{2}(i,j))} + \\sum_{{j}=1}^{S_2} (a_{2}(i,j) + C(i,j) - 1) \\log{\\pi_2}(i,j) \\right) \n",
    "\\end{eqnarray}"
   ]
  },
  {
   "cell_type": "markdown",
   "metadata": {},
   "source": [
    "We will assume $a_2(i,j) = a_2(i',j)$ for all $i$ and $i'$.\n",
    "\n",
    "\\begin{eqnarray}\n",
    "\\log p(X| M_2) & = & \\log{\\Gamma(\\sum_{i} a_{1}(i))} \n",
    "- {\\sum_{i} \\log \\Gamma(a_{1}(i))}\n",
    "- \\log{\\Gamma(\\sum_{i} a_{1}(i) + C_1(i))} \n",
    "+ \\sum_{i} \\log \\Gamma(a_{1}(i) + C_1(i)) \\\\ \n",
    "& & + \\sum_i \\left( \\log\\Gamma(\\sum_{j} a_{2}(i,j)) - \\sum_{j} \\log \\Gamma(a_{2}(i,j)) - \\log\\Gamma( \\sum_{j} a_{2}(i,j) + C(i,j)) + \\sum_j \\log\\Gamma( a_{2}(i,j) + C(i,j) ) \\right) \\\\\n",
    "& = & \\log{\\Gamma(A_1)} - {\\sum_{i} \\log \\Gamma(a_{1}(i))} - \\log{\\Gamma(A_1+ N)} + {\\sum_{i} \\log \\Gamma(a_{1}(i) + C_1(i))} \\\\\n",
    "& & + \\sum_i \\left( \\log{\\Gamma(A_2)} - {\\sum_{j} \\log \\Gamma(a_{2}(j))} - \\log{\\Gamma(A_2 + C_1(i) )} + {\\sum_{j} \\log \\Gamma(a_{2}(j) + C(i,j))} \\right) \n",
    "\\end{eqnarray}\n",
    "\n",
    "\n",
    "### Dependent model $M_3b$\n",
    "The derivation is similar and corresponds to the factorization:\n",
    "\n",
    "\\begin{equation}\n",
    "p(x_1, x_2) = p(x_2) p(x_1|x_2) \n",
    "\\end{equation}"
   ]
  },
  {
   "cell_type": "code",
   "execution_count": 5,
   "metadata": {
    "scrolled": false
   },
   "outputs": [
    {
     "name": "stdout",
     "output_type": "stream",
     "text": [
      "M1: -25.8064501902\n",
      "M2: -24.7950874021\n",
      "M3: -24.7950874021\n",
      "M3b: -24.7950874021\n",
      "Log Odds, M1-M2\n",
      "-1.01136278809\n",
      "[ 0.26671324  0.73328676]\n",
      "Log Odds, M1-M3\n",
      "-1.01136278809\n",
      "[ 0.26671324  0.73328676]\n",
      "Log Odds, M1-M3b\n",
      "-1.01136278809\n",
      "[ 0.26671324  0.73328676]\n"
     ]
    }
   ],
   "source": [
    "import numpy as np\n",
    "from notes_utilities import randgen, log_sum_exp, normalize_exp, normalize\n",
    "\n",
    "import scipy as sc\n",
    "from scipy.special import gammaln\n",
    "\n",
    "#C = np.array([[3,1,9],[7,9,17]])\n",
    "C = 1*np.array([[4,1,1],[1,1,6]])\n",
    "\n",
    "#C = np.array([[0,1,1],[1,0,2]])\n",
    "\n",
    "C_i = np.sum(C, axis=1)\n",
    "C_j = np.sum(C, axis=0)\n",
    "\n",
    "N = np.sum(C)\n",
    "S_1 = C.shape[0]\n",
    "S_2 = C.shape[1]\n",
    "\n",
    "#M1 Parameter\n",
    "M1 = {'a_1': S_2*np.ones(S_1), 'a_2': S_1*np.ones(S_2), 'A_1': None, 'A_2': None}\n",
    "M1['A_1'] = np.sum(M1['a_1'])\n",
    "M1['A_2'] = np.sum(M1['a_2'])\n",
    "#p(x_1) p(x_2)\n",
    "log_marglik_M1 = gammaln(M1['A_1']) - np.sum(gammaln(M1['a_1'])) - gammaln(M1['A_1'] + N) + np.sum(gammaln(M1['a_1'] + C_i)) \\\n",
    "            + gammaln(M1['A_2']) - np.sum(gammaln(M1['a_2'])) - gammaln(M1['A_2'] + N) + np.sum(gammaln(M1['a_2'] + C_j))\n",
    "\n",
    "# p(x_1, x_2)\n",
    "M2 = {'a_12': np.ones((S_1,S_2)), 'A_12':None}\n",
    "M2['A_12'] = np.sum(M2['a_12'])\n",
    "log_marglik_M2 = gammaln(M2['A_12']) - np.sum(gammaln(M2['a_12'])) - gammaln(M2['A_12'] + N) + np.sum(gammaln(M2['a_12'] + C)) \n",
    "\n",
    "    \n",
    "    \n",
    "M3 = {'a_1': S_2*np.ones(S_1), 'a_2': np.ones(S_2), 'A_1': None, 'A_2': None}\n",
    "M3['A_1'] = np.sum(M3['a_1'])\n",
    "M3['A_2'] = np.sum(M3['a_2'])\n",
    "\n",
    "#p(x_1) p(x_2|x_1)\n",
    "log_marglik_M3 = gammaln(M3['A_1']) - np.sum(gammaln(M3['a_1'])) - gammaln(M3['A_1'] + N) + np.sum(gammaln(M3['a_1'] + C_i)) \n",
    "for i in range(S_1):\n",
    "    log_marglik_M3 +=  gammaln(M3['A_2']) - np.sum(gammaln(M3['a_2'])) - gammaln(M3['A_2'] + C_i[i]) + np.sum(gammaln(M3['a_2'] + C[i,:]))\n",
    "\n",
    "# Beware the prior parameters\n",
    "M3b = {'a_1': np.ones(S_1), 'a_2': S_1*np.ones(S_2), 'A_1': None, 'A_2': None}\n",
    "M3b['A_1'] = np.sum(M3b['a_1'])\n",
    "M3b['A_2'] = np.sum(M3b['a_2'])\n",
    "\n",
    "#p(x_2) p(x_1|x_2)\n",
    "log_marglik_M3b = gammaln(M3b['A_2']) - np.sum(gammaln(M3b['a_2'])) - gammaln(M3b['A_2'] + N) + np.sum(gammaln(M3b['a_2'] + C_j)) \n",
    "for j in range(S_2):\n",
    "    log_marglik_M3b +=  gammaln(M3b['A_1']) - np.sum(gammaln(M3b['a_1'])) - gammaln(M3b['A_1'] + C_j[j]) + np.sum(gammaln(M3b['a_1'] + C[:,j]))\n",
    "\n",
    "\n",
    "print('M1:', log_marglik_M1)\n",
    "print('M2:', log_marglik_M2)\n",
    "print('M3:', log_marglik_M3)\n",
    "print('M3b:', log_marglik_M3b)\n",
    "\n",
    "print('Log Odds, M1-M2')\n",
    "print(log_marglik_M1 - log_marglik_M2)\n",
    "print(normalize_exp([log_marglik_M1, log_marglik_M2]))\n",
    "\n",
    "print('Log Odds, M1-M3')\n",
    "print(log_marglik_M1 - log_marglik_M3)\n",
    "print(normalize_exp([log_marglik_M1, log_marglik_M3]))\n",
    "\n",
    "print('Log Odds, M1-M3b')\n",
    "print(log_marglik_M1 - log_marglik_M3b)\n",
    "print(normalize_exp([log_marglik_M1, log_marglik_M3b]))\n"
   ]
  },
  {
   "cell_type": "markdown",
   "metadata": {},
   "source": [
    "Conceptually $M_2$, $M_3$ and $M_3b$ should have the same marginal likelihood score, as the dependence should not depend on how we parametrize the conditional probability tables. However, this is dependent on the choice of the prior parameters. \n",
    "\n",
    "How should the prior parameters of $M_2$, $M_3$ and $M_3b$ be chosen such that we get the same evidence score?\n",
    "\n",
    "The models \n",
    "$M_2$, $M_3$ and $M_3b$ are all equivlent, if the prior parameters are chosen appropriately. For $M_2$ and $M_3$, we need to take $a_1(i) = \\sum_j a_{1,2}(i,j)$.\n",
    "\n",
    "For example, if in $M_2$, the prior parameters $a_{1,2}$ are chosen as\n",
    "\\begin{eqnarray}\n",
    "a_{1,2} & = & \\left(\\begin{array}{ccc} 1 & 1 & 1\\\\ 1 & 1 & 1 \\end{array} \\right)\n",
    "\\end{eqnarray}\n",
    "\n",
    "we need to choose in model $M_3$\n",
    "\\begin{eqnarray}\n",
    "a_{1} & = & \\left(\\begin{array}{c} 3 \\\\ 3  \\end{array} \\right)\n",
    "\\end{eqnarray}\n",
    "\\begin{eqnarray}\n",
    "a_{2} & = & \\left(\\begin{array}{ccc} 1 & 1 & 1\\\\ 1 & 1 & 1 \\end{array} \\right)\n",
    "\\end{eqnarray}\n",
    "\n",
    "and in model $M_3b$\n",
    "\\begin{eqnarray}\n",
    "a_{2} & = & \\left(\\begin{array}{ccc} 2 & 2 & 2  \\end{array} \\right)\n",
    "\\end{eqnarray}\n",
    "\\begin{eqnarray}\n",
    "a_{1} & = & \\left(\\begin{array}{ccc} 1 & 1 & 1\\\\ 1 & 1 & 1 \\end{array} \\right)\n",
    "\\end{eqnarray}\n",
    "\n",
    "This is due to fact that the marginals of a Dirichlet distribution are also Dirichlet. In particular,\n",
    "if a probability vector $x$ and corresponding parameter vector $a$ are partitioned as $x = (x_\\iota, x_{-\\iota})$ \n",
    "and $a = (a_\\iota, a_{-\\iota})$, the Dirichlet distribution\n",
    "$$\n",
    "\\mathcal{D}(x_\\iota, x_{-\\iota}; a_\\iota, a_{-\\iota})\n",
    "$$\n",
    "has marginals \n",
    "$$\n",
    "\\mathcal{D}(X_{\\iota}, X_{-\\iota}; A_{\\iota}, A_{-\\iota})\n",
    "$$\n",
    "where $X_\\iota = \\sum_{i \\in \\iota}  x_i$ and $X_{-\\iota} = \\sum_{i \\in -\\iota}  x_i$, where $A_\\iota = \\sum_{i \\in \\iota}  a_i$ and $A_{-\\iota} = \\sum_{i \\in -\\iota}  a_i$. The script below verifies that the marginals are indeed distributed according to this formula.\n"
   ]
  },
  {
   "cell_type": "code",
   "execution_count": 40,
   "metadata": {
    "scrolled": false
   },
   "outputs": [
    {
     "data": {
      "image/png": "[encoded data removed]",
      "text/plain": [
       "<matplotlib.figure.Figure at 0x110d996d8>"
      ]
     },
     "metadata": {},
     "output_type": "display_data"
    },
    {
     "data": {
      "image/png": "[encoded data removed]",
      "text/plain": [
       "<matplotlib.figure.Figure at 0x110d07240>"
      ]
     },
     "metadata": {},
     "output_type": "display_data"
    }
   ],
   "source": [
    "S_1 = 2\n",
    "S_2 = 10\n",
    "M = S_1*S_2\n",
    "\n",
    "a = np.ones(M)\n",
    "\n",
    "N = 100\n",
    "P = np.random.dirichlet(a, size=N)\n",
    "A = np.zeros((N,S_1))\n",
    "B = np.zeros((N*S_1,S_2))\n",
    "\n",
    "for n in range(N):\n",
    "    temp = P[n,:].reshape((S_1,S_2))\n",
    "    A[n,:] = np.sum(temp, axis=1)\n",
    "    for i in range(S_1):\n",
    "        B[(n*S_1+i),:] = temp[i,:]/A[n,i]\n",
    "\n",
    "import pylab as plt\n",
    "\n",
    "plt.hist(A[:,0],bins=20)\n",
    "plt.gca().set_xlim([0,1])\n",
    "#plt.plot(B[:,0],B[:,1],'.')\n",
    "plt.show()\n",
    "\n",
    "P2 = np.random.dirichlet(S_2*np.ones(S_1), size=N)\n",
    "plt.hist(P2[:,0],bins=20)\n",
    "plt.gca().set_xlim([0,1])\n",
    "plt.show()"
   ]
  },
  {
   "cell_type": "code",
   "execution_count": 83,
   "metadata": {},
   "outputs": [
    {
     "name": "stdout",
     "output_type": "stream",
     "text": [
      "-0.980829253012\n",
      "model, consistent, inconsistent\n",
      "i  j -6.99291308732 -7.37775890823\n",
      "i->j -7.02108396429 -7.15461535691\n",
      "i<-j -7.02108396429 -7.27239839257\n",
      "i--j -7.02108396429\n",
      "[[2 1]\n",
      " [0 1]]\n"
     ]
    }
   ],
   "source": [
    "import numpy as np\n",
    "from notes_utilities import randgen, log_sum_exp, normalize_exp, normalize\n",
    "\n",
    "import scipy as sc\n",
    "from scipy.special import gammaln\n",
    "\n",
    "# Log of multivariate Beta function\n",
    "def log_mbeta(a):\n",
    "    return sum(gammaln(a.flatten())) - gammaln(sum(a.flatten()))\n",
    "\n",
    "a = 1\n",
    "b = 1\n",
    "\n",
    "\n",
    "S = np.array([[2,1],[0,1]])\n",
    "#S = np.array([[2,1,0],[1,0,1]])\n",
    "\n",
    "S_ip = np.sum(S, axis=1)\n",
    "S_pj = np.sum(S, axis=0)\n",
    "S_pp = np.sum(S)\n",
    "\n",
    "gamma = 1\n",
    "alpha = gamma*np.ones_like(S)\n",
    "\n",
    "alpha_ip = np.sum(alpha, axis=1)\n",
    "alpha_pj = np.sum(alpha, axis=0)\n",
    "alpha_pp = np.sum(alpha)\n",
    "\n",
    "#\n",
    "log_const = a*np.log(b) -  (a+S_pp)*np.log(b+1) + gammaln(a + S_pp) - gammaln(a) - np.sum(gammaln(S+1))\n",
    "print(log_const)\n",
    "\n",
    "# inconsistent independent \n",
    "alpha_wrong_ip = gamma*np.ones_like(alpha_ip)\n",
    "alpha_wrong_pj = gamma*np.ones_like(alpha_pj)\n",
    "\n",
    "# i    j\n",
    "marglik_1_wrong =  log_mbeta(S_ip+alpha_wrong_ip) - log_mbeta(alpha_wrong_ip) \n",
    "marglik_1_wrong += log_mbeta(S_pj+alpha_wrong_pj) - log_mbeta(alpha_wrong_pj)\n",
    "# i -> j\n",
    "marglik_2_wrong  =  log_mbeta(S_ip+alpha_wrong_ip) - log_mbeta(alpha_wrong_ip) \n",
    "for i in range(S.shape[0]):\n",
    "    marglik_2_wrong +=  log_mbeta(S[i,:]+alpha[i,:]) - log_mbeta(alpha[i,:])\n",
    "# i <- j\n",
    "marglik_3_wrong  =  log_mbeta(S_pj+alpha_wrong_pj) - log_mbeta(alpha_wrong_pj) \n",
    "for j in range(S.shape[1]):\n",
    "    marglik_3_wrong +=  log_mbeta(S[:,j]+alpha[:,j]) - log_mbeta(alpha[:,j])\n",
    "\n",
    "# independent\n",
    "marglik_1  = log_mbeta(S_ip+alpha_ip) - log_mbeta(alpha_ip) \n",
    "marglik_1 += log_mbeta(S_pj+alpha_pj) - log_mbeta(alpha_pj)\n",
    "\n",
    "# i -> j\n",
    "marglik_2  =  log_mbeta(S_ip+alpha_ip) - log_mbeta(alpha_ip) \n",
    "for i in range(S.shape[0]):\n",
    "    marglik_2 +=  log_mbeta(S[i,:]+alpha[i,:]) - log_mbeta(alpha[i,:])\n",
    "# i <- j\n",
    "marglik_3  =  log_mbeta(S_pj+alpha_pj) - log_mbeta(alpha_pj) \n",
    "for j in range(S.shape[1]):\n",
    "    marglik_3 +=  log_mbeta(S[:,j]+alpha[:,j]) - log_mbeta(alpha[:,j])\n",
    "\n",
    "# dependent\n",
    "marglik_4 =  log_mbeta(S+alpha) - log_mbeta(alpha)\n",
    "\n",
    "# \n",
    "print('model, consistent, inconsistent')\n",
    "print('i  j', marglik_1+log_const, marglik_1_wrong+log_const)\n",
    "print('i->j', marglik_2+log_const, marglik_2_wrong+log_const)\n",
    "print('i<-j', marglik_3+log_const, marglik_3_wrong+log_const)\n",
    "print('i--j', marglik_4+log_const)\n",
    "\n",
    "print(S)"
   ]
  },
  {
   "cell_type": "markdown",
   "metadata": {},
   "source": [
    "### Question\n",
    "\n",
    "Are two given histograms drawn from the same distribution?\n",
    "\n",
    "$[3,5,12,4]$\n",
    "\n",
    "$[8, 14, 31, 14]$"
   ]
  },
  {
   "cell_type": "markdown",
   "metadata": {},
   "source": [
    "## Visualizing the Dirichlet Distribution\n",
    "\n",
    "[http://blog.bogatron.net/blog/2014/02/02/visualizing-dirichlet-distributions/]"
   ]
  },
  {
   "cell_type": "code",
   "execution_count": 5,
   "metadata": {
    "collapsed": true
   },
   "outputs": [],
   "source": [
    "%matplotlib inline\n",
    "import numpy as np\n",
    "import matplotlib.pyplot as plt\n",
    "import matplotlib.tri as tri\n",
    "from functools import reduce\n",
    "from scipy.special import gammaln\n",
    "\n",
    "corners = np.array([[0, 0], [1, 0], [0.5, 0.75**0.5]])\n",
    "triangle = tri.Triangulation(corners[:, 0], corners[:, 1])\n",
    "\n",
    "refiner = tri.UniformTriRefiner(triangle)\n",
    "trimesh = refiner.refine_triangulation(subdiv=4)\n",
    "\n",
    "\n",
    "# Mid-points of triangle sides opposite of each corner\n",
    "midpoints = [(corners[(i + 1) % 3] + corners[(i + 2) % 3]) / 2.0 \\\n",
    "             for i in range(3)]\n",
    "\n",
    "def xy2bc(xy, tol=1.e-3):\n",
    "    '''Converts 2D Cartesian coordinates to barycentric.'''\n",
    "    s = [(corners[i] - midpoints[i]).dot(xy - midpoints[i]) / 0.75 \\\n",
    "         for i in range(3)]\n",
    "    return np.clip(s, tol, 1.0 - tol)\n",
    "\n",
    "class Dirichlet(object):\n",
    "    def __init__(self, alpha):\n",
    "        self._alpha = np.array(alpha)\n",
    "        self._coef = gammaln(np.sum(self._alpha)) - np.sum(gammaln(self._alpha))\n",
    "    def log_pdf(self, x):\n",
    "        return self._coef + np.sum(np.log(x)*(self._alpha - 1)) \n",
    "    def pdf(self, x):\n",
    "        '''Returns pdf value for `x`.'''\n",
    "        return np.exp(self.log_pdf(x))\n",
    "        \n",
    "def draw_pdf_contours(dist, nlevels=200, subdiv=8, **kwargs):\n",
    "\n",
    "    refiner = tri.UniformTriRefiner(triangle)\n",
    "    trimesh = refiner.refine_triangulation(subdiv=subdiv)\n",
    "    pvals = [dist.pdf(xy2bc(xy)) for xy in zip(trimesh.x, trimesh.y)]\n",
    "\n",
    "    plt.tricontourf(trimesh, pvals, nlevels, **kwargs)\n",
    "    plt.axis('equal')\n",
    "    plt.xlim(0, 1)\n",
    "    plt.ylim(0, 0.75**0.5)\n",
    "    plt.axis('off')"
   ]
  },
  {
   "cell_type": "code",
   "execution_count": 6,
   "metadata": {},
   "outputs": [
    {
     "data": {
      "image/png": "[encoded data removed]",
      "text/plain": [
       "<matplotlib.figure.Figure at 0x106d1dba8>"
      ]
     },
     "metadata": {},
     "output_type": "display_data"
    }
   ],
   "source": [
    "draw_pdf_contours(Dirichlet([1, 3, 1]))"
   ]
  },
  {
   "cell_type": "code",
   "execution_count": 7,
   "metadata": {},
   "outputs": [
    {
     "data": {
      "image/png": "[encoded data removed]",
      "text/plain": [
       "<matplotlib.figure.Figure at 0x110ce0438>"
      ]
     },
     "metadata": {},
     "output_type": "display_data"
    }
   ],
   "source": [
    "draw_pdf_contours(Dirichlet([1.99, 3.99, 10.99]))"
   ]
  },
  {
   "cell_type": "markdown",
   "metadata": {},
   "source": [
    "# 6-faced die with repeated labels\n",
    "\n",
    "Consider a die where the numbers on each face are labeled, possibly with repetitions, from the set $1\\dots 6$. \n",
    "A 'normal' die has labels $1,2,3,4,5,6$ but we allow other labelings, for example as $1,1,3,5,5,5$ or $1,1,1,1,1,6$.\n",
    "\n",
    "Can we construct a method to find how the die has been labeled from a sequence of outcomes?  \n",
    "\n"
   ]
  },
  {
   "cell_type": "markdown",
   "metadata": {},
   "source": [
    "# Does my data have a single cluster or are there two clusters?\n",
    "\n",
    "We observe a dataset of $N$ points and want to decide if there are one or two clusters. For example, the below dataset, when visualized seems to suggest two clusters; however the separation is not very clear; perhaps a single component might have been also sufficient. How can we derive a procedure that leads to a resonable answer in this ambigious situation?\n",
    "\n",
    "<img src=\"clusters.png\" width='180' align='center'>\n",
    "\n",
    "One principled approach is based on Bayesian model selection. Our approach will be describing two alternative generative models for data. Each generative model will reflect our assumption what it means to have clusters. In other words, we should describe two different procedures: how to generate a dataset with a single cluster, or a datset that has two clusters. Once we have a description of each generative procedure, we may hope to convert our qualitative question (how many clusters?) into a well defined computational procedure. \n",
    "\n",
    "Each generative procedure will be a different probability model and we will compute the marginal posterior distribution conditioned on an observed dataset.\n",
    "\n",
    "The single cluster model will have a single cluster center, denoed as $\\mu$. Once $\\mu$ is generated, each observation is generated by a Gaussian distribution with variance $R$, centered around $\\mu$.\n",
    "\n",
    "Model $M =1$: Single Cluster\n",
    "\\begin{eqnarray}\n",
    "\\mu & \\sim & {\\mathcal N}(\\mu; 0, P) \\\\\n",
    "x_i | \\mu & \\sim & {\\mathcal N}(x; \\mu, R)\n",
    "\\end{eqnarray}\n",
    "\n",
    "The parameter $P$ denotes a natural range for the mean, $R$ denotes the variance of data, the amount of spread around the mean. To start simple, we will assume that these parameters are known; we will able to relax this assumption later easily.\n",
    "\n",
    "Below, we show an example where each data point is a scalar."
   ]
  },
  {
   "cell_type": "code",
   "execution_count": 1,
   "metadata": {},
   "outputs": [
    {
     "ename": "NameError",
     "evalue": "name 'np' is not defined",
     "output_type": "error",
     "traceback": [
      "\u001b[0;31m---------------------------------------------------------------------------\u001b[0m",
      "\u001b[0;31mNameError\u001b[0m                                 Traceback (most recent call last)",
      "\u001b[0;32m<ipython-input-1-ae8470b7f8a0>\u001b[0m in \u001b[0;36m<module>\u001b[0;34m()\u001b[0m\n\u001b[1;32m      6\u001b[0m \u001b[0mN\u001b[0m \u001b[0;34m=\u001b[0m \u001b[0;36m5\u001b[0m\u001b[0;34m\u001b[0m\u001b[0m\n\u001b[1;32m      7\u001b[0m \u001b[0;34m\u001b[0m\u001b[0m\n\u001b[0;32m----> 8\u001b[0;31m \u001b[0mmu\u001b[0m \u001b[0;34m=\u001b[0m \u001b[0mnp\u001b[0m\u001b[0;34m.\u001b[0m\u001b[0mrandom\u001b[0m\u001b[0;34m.\u001b[0m\u001b[0mnormal\u001b[0m\u001b[0;34m(\u001b[0m\u001b[0;36m0\u001b[0m\u001b[0;34m,\u001b[0m \u001b[0mnp\u001b[0m\u001b[0;34m.\u001b[0m\u001b[0msqrt\u001b[0m\u001b[0;34m(\u001b[0m\u001b[0mP\u001b[0m\u001b[0;34m)\u001b[0m\u001b[0;34m)\u001b[0m\u001b[0;34m\u001b[0m\u001b[0m\n\u001b[0m\u001b[1;32m      9\u001b[0m \u001b[0mx\u001b[0m  \u001b[0;34m=\u001b[0m \u001b[0mnp\u001b[0m\u001b[0;34m.\u001b[0m\u001b[0mrandom\u001b[0m\u001b[0;34m.\u001b[0m\u001b[0mnormal\u001b[0m\u001b[0;34m(\u001b[0m\u001b[0mmu\u001b[0m\u001b[0;34m,\u001b[0m \u001b[0mnp\u001b[0m\u001b[0;34m.\u001b[0m\u001b[0msqrt\u001b[0m\u001b[0;34m(\u001b[0m\u001b[0mR\u001b[0m\u001b[0;34m)\u001b[0m\u001b[0;34m,\u001b[0m \u001b[0msize\u001b[0m\u001b[0;34m=\u001b[0m\u001b[0;34m(\u001b[0m\u001b[0mN\u001b[0m\u001b[0;34m)\u001b[0m\u001b[0;34m)\u001b[0m\u001b[0;34m\u001b[0m\u001b[0m\n\u001b[1;32m     10\u001b[0m \u001b[0;34m\u001b[0m\u001b[0m\n",
      "\u001b[0;31mNameError\u001b[0m: name 'np' is not defined"
     ]
    }
   ],
   "source": [
    "# Parameters\n",
    "P = 100\n",
    "R = 10\n",
    "\n",
    "# Number of datapoints\n",
    "N = 5\n",
    "\n",
    "mu = np.random.normal(0, np.sqrt(P))\n",
    "x  = np.random.normal(mu, np.sqrt(R), size=(N))\n",
    "\n",
    "plt.figure(figsize=(10,1))\n",
    "plt.plot(mu, 0, 'r.')\n",
    "plt.plot(x, np.zeros_like(x), 'x')\n",
    "ax = plt.gca()\n",
    "ax.set_xlim(3*np.sqrt(P)*np.array([-1,1]))\n",
    "ax.set_ylim([-0.1,0.1])\n",
    "ax.axis('off')\n",
    "plt.show()"
   ]
  },
  {
   "cell_type": "markdown",
   "metadata": {},
   "source": [
    "Model $M = 2$: Two Clusters\n",
    "\\begin{eqnarray}\n",
    "\\mu_0 & \\sim & {\\mathcal{N}}(\\mu; 0, P) \\\\\n",
    "\\mu_1 & \\sim & {\\mathcal{N}}(\\mu; 0, P) \\\\\n",
    "c_i & \\sim & {\\mathcal{BE}}(r; 0.5) \\\\\n",
    "x_i | \\mu_0, \\mu_1, c_i & \\sim & {\\mathcal N}(x; \\mu_0, R)^{1-c_i} {\\mathcal N}(x; \\mu_1, R)^{c_i}\n",
    "\\end{eqnarray}\n",
    "\n",
    "The parameter $P$ denotes a natural range for both means, $R$ denotes the variance of data in each cluster. The variables $r_i$ are the indicators that show the assignment of each datapoint to one of the clusters."
   ]
  },
  {
   "cell_type": "code",
   "execution_count": 13,
   "metadata": {
    "scrolled": true
   },
   "outputs": [
    {
     "data": {
      "image/png": "[encoded data removed]",
      "text/plain": [
       "<matplotlib.figure.Figure at 0x11109cac8>"
      ]
     },
     "metadata": {},
     "output_type": "display_data"
    }
   ],
   "source": [
    "# Parameters\n",
    "P = 100\n",
    "R = 2\n",
    "\n",
    "# Number of datapoints\n",
    "N = 10\n",
    "\n",
    "# Number of clusters\n",
    "M = 2\n",
    "\n",
    "mu = np.random.normal(0, np.sqrt(P), size=(M))\n",
    "c = np.random.binomial(1, 0.5, size=N)\n",
    "x = np.zeros(N)\n",
    "for i in range(N):\n",
    "    x[i]  = np.random.normal(mu[c[i]], np.sqrt(R))\n",
    "\n",
    "plt.figure(figsize=(10,1))\n",
    "#plt.plot(mu, np.zeros_like(mu), 'r.')\n",
    "plt.plot(x, np.zeros_like(x), 'x')\n",
    "ax = plt.gca()\n",
    "ax.set_xlim(3*np.sqrt(P)*np.array([-1,1]))\n",
    "ax.set_ylim([-0.1,0.1])\n",
    "ax.axis('off')\n",
    "plt.show()"
   ]
  },
  {
   "cell_type": "markdown",
   "metadata": {},
   "source": [
    "#### Extension\n",
    "We dont know the component variances\n",
    "\n",
    "\n",
    "#### Combining into a single model"
   ]
  },
  {
   "cell_type": "markdown",
   "metadata": {},
   "source": [
    "Capture\n",
    "\n",
    "Recapture"
   ]
  },
  {
   "cell_type": "markdown",
   "metadata": {},
   "source": [
    "### Change point\n",
    "Coin switch\n",
    "\n",
    "Coal Mining Data\n",
    " Single Change Point\n",
    " Multiple Change Point"
   ]
  },
  {
   "cell_type": "markdown",
   "metadata": {},
   "source": [
    "# Bivariate Gaussian model selection\n",
    "\n",
    "\n",
    "Suppose we are given a dataset $X = \\{x_1, x_2, \\dots, x_N \\}$ where $x_n \\in \\mathbb{R}^K$ for $n=1 \\dots N$ and consider two competing models:\n",
    "\n",
    "- ### Model $m=1$:\n",
    "$\\newcommand{\\diag}{\\text{diag}}$\n",
    "\n",
    "- Observation\n",
    "\\begin{eqnarray}\n",
    "\\text{for}\\; n=1\\dots N&& \\\\\n",
    "x_n| s_{1:K} & \\sim &  \\mathcal{N}\\left(x; 0, \\diag\\{s_1, \\dots, s_K\\}\\right) = \\mathcal{N}\\left(x; 0, \\left(\\begin{array}{ccc} s_1 & 0 & 0\\\\0 & \\ddots & 0 \\\\ 0 & \\dots & s_K \\end{array} \\right) \\right)\n",
    "\\end{eqnarray}\n",
    "\n",
    "$$\n",
    "p(x_n| s_{1:K})  = \n",
    "\\prod_{k=1}^K \\mathcal{N}(x_{k,n}; 0, s_k) \n",
    "$$\n",
    "\n",
    "$$\n",
    "p(X|s_{1:K} ) = \\prod_{n=1}^N p(x_n| s_{1:K})  = \n",
    "\\prod_{n=1}^N \\prod_{k=1}^K \\mathcal{N}(x_{k,n}; 0, s_k) \n",
    "$$\n",
    "\n",
    "\n",
    "- Prior\n",
    "\\begin{eqnarray}\n",
    "\\text{for}\\; k=1\\dots K&& \\\\\n",
    "s_k & \\sim & \\mathcal{IG}(s_k; \\alpha, \\beta) \n",
    "\\end{eqnarray}\n",
    "\n",
    "\n",
    "\n",
    "- ### Model $m=2$:\n",
    "\n",
    "-- Observation\n",
    "\n",
    "\\begin{eqnarray}\n",
    "x_n \\sim \\mathcal{N}(x_n; 0, \\Sigma)=\\left|{ 2\\pi \\Sigma } \\right|^{-1/2} \\exp\\left(-\\frac12 {x_n}^\\top {\\Sigma}^{-1} {x_n} \\right)=\\exp\\left( -\\frac{1}{2}\\trace {\\Sigma}^{-1} {x_n}{x_n}^\\top -\\frac{1}{2}\\log \\left|2{\\pi}\\Sigma\\right|\\right)\n",
    "\\end{eqnarray}\n",
    "\n",
    "$$\n",
    "{\\cal IW}(\\Sigma; 2a, 2B)  =  \\exp( - (a + (k+1)/2) \\log |\\Sigma| - \\trace B\\Sigma^{-1}  - \\log\\Gamma_k(a) + a\\log |B|) \\\\\n",
    "$$"
   ]
  },
  {
   "cell_type": "code",
   "execution_count": 10,
   "metadata": {},
   "outputs": [
    {
     "data": {
      "text/latex": [
       "$$\\mathcal{N}(x_n; 0, \\Sigma)=\\left|{ 2\\pi \\Sigma } \\right|^{-1/2} \\exp\\left(-\\frac12 {x_n}^\\top {\\Sigma}^{-1} {x_n} \\right)=\\exp\\left(  -\\frac{1}{2}\\trace {\\Sigma}^{-1} {x_n}{x_n}^\\top  -\\frac{1}{2}\\log \\left|2{\\pi}\\Sigma\\right|\\right)$$"
      ],
      "text/plain": [
       "<IPython.core.display.Math object>"
      ]
     },
     "metadata": {},
     "output_type": "display_data"
    },
    {
     "data": {
      "text/latex": [
       "\\mathcal{N}(x_n; 0, \\Sigma)=\\left|{ 2\\pi \\Sigma } \\right|^{-1/2} \\exp\\left(-\\frac12 {x_n}^\\top {\\Sigma}^{-1} {x_n} \\right)=\\exp\\left(  -\\frac{1}{2}\\trace {\\Sigma}^{-1} {x_n}{x_n}^\\top  -\\frac{1}{2}\\log \\left|2{\\pi}\\Sigma\\right|\\right)"
      ],
      "text/plain": [
       "<IPython.core.display.Latex object>"
      ]
     },
     "metadata": {},
     "output_type": "display_data"
    },
    {
     "data": {
      "text/html": [
       "<table width=100%><tr><td align=\"center\">\\begin{eqnarray}\\mathcal{N}(x_n; 0, \\Sigma)\\end{eqnarray}</td><td>\\mathcal{N}(x_n; 0, \\Sigma)</td></tr><tr><td align=\"center\">\\begin{eqnarray}\\left|{ 2\\pi \\Sigma } \\right|^{-1/2} \\exp\\left(-\\frac12 {x_n}^\\top {\\Sigma}^{-1} {x_n} \\right)\\end{eqnarray}</td><td>\\left|{ 2\\pi \\Sigma } \\right|^{-1/2} \\exp\\left(-\\frac12 {x_n}^\\top {\\Sigma}^{-1} {x_n} \\right)</td></tr><tr><td align=\"center\">\\begin{eqnarray}\\exp\\left(  -\\frac{1}{2}\\trace {\\Sigma}^{-1} {x_n}{x_n}^\\top  -\\frac{1}{2}\\log \\left|2{\\pi}\\Sigma\\right|\\right)\\end{eqnarray}</td><td>\\exp\\left(  -\\frac{1}{2}\\trace {\\Sigma}^{-1} {x_n}{x_n}^\\top  -\\frac{1}{2}\\log \\left|2{\\pi}\\Sigma\\right|\\right)</td></tr><tr><td align=\"center\">\\begin{eqnarray}  -\\frac{1}{2}\\trace {\\Sigma}^{-1} {x_n}{x_n}^\\top  -\\frac{1}{2}\\log \\left|2{\\pi}\\Sigma\\right|\\end{eqnarray}</td><td>  -\\frac{1}{2}\\trace {\\Sigma}^{-1} {x_n}{x_n}^\\top  -\\frac{1}{2}\\log \\left|2{\\pi}\\Sigma\\right|</td></tr></table>"
      ],
      "text/plain": [
       "<IPython.core.display.HTML object>"
      ]
     },
     "metadata": {},
     "output_type": "display_data"
    }
   ],
   "source": [
    "# %load template_equations.py\n",
    "from IPython.display import display, Math, Latex, HTML\n",
    "import notes_utilities as nut\n",
    "from importlib import reload\n",
    "reload(nut)\n",
    "Latex('$\\DeclareMathOperator{\\trace}{Tr}$')\n",
    "\n",
    "#L = nut.pdf2latex_gauss(x=r's', m=r'\\mu',v=r'v')\n",
    "#L = nut.pdf2latex_mvnormal(x=r's', m=r'\\mu',v=r'\\Sigma')\n",
    "L = nut.pdf2latex_mvnormal(x=r'x_n', m=0,v=r'\\Sigma')\n",
    "#L = nut.pdf2latex_gamma(x=r'x', a=r'a',b=r'b')\n",
    "#L = nut.pdf2latex_invgamma(x=r'x', a=r'a',b=r'b')\n",
    "#L = nut.pdf2latex_beta(x=r'\\pi', a=r'\\alpha',b=r'\\beta')\n",
    "\n",
    "eq = L[0]+'='+L[1]+'='+L[2]\n",
    "display(Math(eq))\n",
    "display(Latex(eq))\n",
    "display(HTML(nut.eqs2html_table(L)))"
   ]
  },
  {
   "cell_type": "markdown",
   "metadata": {},
   "source": [
    "Computing the marginal likelihood\n",
    "\n",
    "* #### Model 1\n",
    "\n",
    "\\begin{eqnarray}\n",
    "p(X| m=1) & = & \\int d{s_{1:K}} p(X|s_{1:K}) p(s_{1:K}) = \n",
    "\\end{eqnarray}\n"
   ]
  },
  {
   "cell_type": "code",
   "execution_count": 8,
   "metadata": {},
   "outputs": [
    {
     "data": {
      "text/latex": [
       "$$\\mathcal{N}(x_t; (Ax_{t-1}), Q)=\\left|{ 2\\pi Q } \\right|^{-1/2} \\exp\\left(-\\frac12 ({x_t} - {(Ax_{t-1})} )^\\top {Q}^{-1} ({x_t} - {(Ax_{t-1})} ) \\right)=\\exp\\left(  -\\frac{1}{2}\\trace {Q}^{-1} {x_t}{x_t}^\\top + \\trace {Q}^{-1} {x_t}{(Ax_{t-1})}^\\top -\\frac{1}{2}\\trace {Q}^{-1} {(Ax_{t-1})}{(Ax_{t-1})}^\\top  -\\frac{1}{2}\\log \\left|2{\\pi}Q\\right|\\right)$$"
      ],
      "text/plain": [
       "<IPython.core.display.Math object>"
      ]
     },
     "metadata": {},
     "output_type": "display_data"
    },
    {
     "data": {
      "text/latex": [
       "$$\\mathcal{N}(y_t; (Cx_{t}), R)=\\left|{ 2\\pi R } \\right|^{-1/2} \\exp\\left(-\\frac12 ({y_t} - {(Cx_{t})} )^\\top {R}^{-1} ({y_t} - {(Cx_{t})} ) \\right)=\\exp\\left(  -\\frac{1}{2}\\trace {R}^{-1} {y_t}{y_t}^\\top + \\trace {R}^{-1} {y_t}{(Cx_{t})}^\\top -\\frac{1}{2}\\trace {R}^{-1} {(Cx_{t})}{(Cx_{t})}^\\top  -\\frac{1}{2}\\log \\left|2{\\pi}R\\right|\\right)$$"
      ],
      "text/plain": [
       "<IPython.core.display.Math object>"
      ]
     },
     "metadata": {},
     "output_type": "display_data"
    }
   ],
   "source": [
    "# %load template_equations.py\n",
    "from IPython.display import display, Math, Latex, HTML\n",
    "import notes_utilities as nut\n",
    "from importlib import reload\n",
    "reload(nut)\n",
    "Latex('$\\DeclareMathOperator{\\trace}{Tr}$')\n",
    "\n",
    "#L = nut.pdf2latex_gauss(x=r's', m=r'\\mu',v=r'v')\n",
    "L = nut.pdf2latex_mvnormal(x=r'x_t', m=r'(Ax_{t-1})',v=r'Q')\n",
    "#L = nut.pdf2latex_mvnormal(x=r's', m=0,v=r'I')\n",
    "#L = nut.pdf2latex_gamma(x=r'x', a=r'a',b=r'b')\n",
    "#L = nut.pdf2latex_invgamma(x=r'x', a=r'a',b=r'b')\n",
    "#L = nut.pdf2latex_beta(x=r'\\pi', a=r'\\alpha',b=r'\\beta')\n",
    "\n",
    "eq = L[0]+'='+L[1]+'='+L[2]\n",
    "display(Math(eq))\n",
    "\n",
    "L = nut.pdf2latex_mvnormal(x=r'y_t', m=r'(Cx_{t})',v=r'R')\n",
    "eq = L[0]+'='+L[1]+'='+L[2]\n",
    "display(Math(eq))\n"
   ]
  },
  {
   "cell_type": "code",
   "execution_count": 171,
   "metadata": {},
   "outputs": [
    {
     "name": "stdout",
     "output_type": "stream",
     "text": [
      "{\n",
      "  \"key\": \"5fe2a052-2599-465d-96fa-793a58b02ea2\",\n",
      "  \"transport\": \"tcp\",\n",
      "  \"signature_scheme\": \"hmac-sha256\",\n",
      "  \"shell_port\": 65197,\n",
      "  \"stdin_port\": 65199,\n",
      "  \"ip\": \"127.0.0.1\",\n",
      "  \"hb_port\": 65201,\n",
      "  \"control_port\": 65200,\n",
      "  \"iopub_port\": 65198\n",
      "}\n",
      "\n",
      "Paste the above JSON into a file, and connect with:\n",
      "    $> ipython <app> --existing <file>\n",
      "or, if you are local, you can connect with just:\n",
      "    $> ipython <app> --existing kernel-457030b1-3d25-4222-9094-06fb4bbdbefe.json \n",
      "or even just:\n",
      "    $> ipython <app> --existing \n",
      "if this is the most recent IPython session you have started.\n"
     ]
    }
   ],
   "source": [
    "%connect_info"
   ]
  }
 ],
 "metadata": {
  "kernelspec": {
   "display_name": "Python [default]",
   "language": "python",
   "name": "python3"
  },
  "language_info": {
   "codemirror_mode": {
    "name": "ipython",
    "version": 3
   },
   "file_extension": ".py",
   "mimetype": "text/x-python",
   "name": "python",
   "nbconvert_exporter": "python",
   "pygments_lexer": "ipython3",
   "version": "3.6.1"
  },
  "toc": {
   "nav_menu": {},
   "number_sections": true,
   "sideBar": true,
   "skip_h1_title": false,
   "toc_cell": false,
   "toc_position": {},
   "toc_section_display": "block",
   "toc_window_display": false
  }
 },
 "nbformat": 4,
 "nbformat_minor": 1
}
