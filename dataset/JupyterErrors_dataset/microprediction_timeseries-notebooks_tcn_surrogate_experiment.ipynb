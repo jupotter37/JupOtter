{
  "nbformat": 4,
  "nbformat_minor": 0,
  "metadata": {
    "colab": {
      "name": "tcn_surrogate_experiment.ipynb",
      "provenance": [],
      "collapsed_sections": [],
      "authorship_tag": "ABX9TyNKR68RUij2b0yK004hmeDy",
      "include_colab_link": true
    },
    "kernelspec": {
      "name": "python3",
      "display_name": "Python 3"
    },
    "language_info": {
      "name": "python"
    }
  },
  "cells": [
    {
      "cell_type": "markdown",
      "metadata": {
        "id": "view-in-github",
        "colab_type": "text"
      },
      "source": [
        "<a href=\"https://colab.research.google.com/github/microprediction/timeseries-notebooks/blob/main/tcn_surrogate_experiment.ipynb\" target=\"_parent\"><img src=\"https://colab.research.google.com/assets/colab-badge.svg\" alt=\"Open In Colab\"/></a>"
      ]
    },
    {
      "cell_type": "code",
      "metadata": {
        "id": "0dPvhmnU4P_K"
      },
      "source": [
        "!pip uninstall numpy\n",
        "!pip install --upgrade numpy\n",
        "!pip install keras\n",
        "!pip install timemachines\n",
        "!pip install --upgrade microprediction\n",
        "!pip install --upgrade realdata"
      ],
      "execution_count": null,
      "outputs": []
    },
    {
      "cell_type": "markdown",
      "metadata": {
        "id": "LTimMwygBsTn"
      },
      "source": [
        "# Training data\n",
        "We run a univariate model from the timemachines package and generate training examples of k=1 step ahead prediction. "
      ]
    },
    {
      "cell_type": "code",
      "metadata": {
        "colab": {
          "base_uri": "https://localhost:8080/"
        },
        "id": "--LNd8pE745x",
        "outputId": "ba677eea-8795-4335-ec37-acd40998623b"
      },
      "source": [
        "from realdata import get_values\n",
        "values = get_values()\n",
        "len(values)"
      ],
      "execution_count": 3,
      "outputs": [
        {
          "output_type": "execute_result",
          "data": {
            "text/plain": [
              "1000"
            ]
          },
          "metadata": {},
          "execution_count": 3
        }
      ]
    },
    {
      "cell_type": "code",
      "metadata": {
        "colab": {
          "base_uri": "https://localhost:8080/",
          "height": 375
        },
        "id": "Je08CyEi8OUO",
        "outputId": "5e2653f6-acaa-4796-f04e-fdedaf28766f"
      },
      "source": [
        "from microprediction import MicroReader\n",
        "mr = MicroReader()\n",
        "streams = mr.get_stream_names()\n",
        "YS = list(reversed(mr.get_lagged_values(name='electricity-fueltype-nyiso-hydro.json')))\n",
        "assert len(list(YS))>900\n",
        "YS[50:450]"
      ],
      "execution_count": 2,
      "outputs": [
        {
          "output_type": "error",
          "ename": "ContextualVersionConflict",
          "evalue": "ignored",
          "traceback": [
            "\u001b[0;31m---------------------------------------------------------------------------\u001b[0m",
            "\u001b[0;31mContextualVersionConflict\u001b[0m                 Traceback (most recent call last)",
            "\u001b[0;32m<ipython-input-2-0bcdc69a798a>\u001b[0m in \u001b[0;36m<module>\u001b[0;34m()\u001b[0m\n\u001b[0;32m----> 1\u001b[0;31m \u001b[0;32mfrom\u001b[0m \u001b[0mmicroprediction\u001b[0m \u001b[0;32mimport\u001b[0m \u001b[0mMicroReader\u001b[0m\u001b[0;34m\u001b[0m\u001b[0;34m\u001b[0m\u001b[0m\n\u001b[0m\u001b[1;32m      2\u001b[0m \u001b[0mmr\u001b[0m \u001b[0;34m=\u001b[0m \u001b[0mMicroReader\u001b[0m\u001b[0;34m(\u001b[0m\u001b[0;34m)\u001b[0m\u001b[0;34m\u001b[0m\u001b[0;34m\u001b[0m\u001b[0m\n\u001b[1;32m      3\u001b[0m \u001b[0mstreams\u001b[0m \u001b[0;34m=\u001b[0m \u001b[0mmr\u001b[0m\u001b[0;34m.\u001b[0m\u001b[0mget_stream_names\u001b[0m\u001b[0;34m(\u001b[0m\u001b[0;34m)\u001b[0m\u001b[0;34m\u001b[0m\u001b[0;34m\u001b[0m\u001b[0m\n\u001b[1;32m      4\u001b[0m \u001b[0mYS\u001b[0m \u001b[0;34m=\u001b[0m \u001b[0mlist\u001b[0m\u001b[0;34m(\u001b[0m\u001b[0mreversed\u001b[0m\u001b[0;34m(\u001b[0m\u001b[0mmr\u001b[0m\u001b[0;34m.\u001b[0m\u001b[0mget_lagged_values\u001b[0m\u001b[0;34m(\u001b[0m\u001b[0mname\u001b[0m\u001b[0;34m=\u001b[0m\u001b[0;34m'electricity-fueltype-nyiso-hydro.json'\u001b[0m\u001b[0;34m)\u001b[0m\u001b[0;34m)\u001b[0m\u001b[0;34m)\u001b[0m\u001b[0;34m\u001b[0m\u001b[0;34m\u001b[0m\u001b[0m\n\u001b[1;32m      5\u001b[0m \u001b[0;32massert\u001b[0m \u001b[0mlen\u001b[0m\u001b[0;34m(\u001b[0m\u001b[0mlist\u001b[0m\u001b[0;34m(\u001b[0m\u001b[0mYS\u001b[0m\u001b[0;34m)\u001b[0m\u001b[0;34m)\u001b[0m\u001b[0;34m>\u001b[0m\u001b[0;36m900\u001b[0m\u001b[0;34m\u001b[0m\u001b[0;34m\u001b[0m\u001b[0m\n",
            "\u001b[0;32m/usr/local/lib/python3.7/dist-packages/microprediction/__init__.py\u001b[0m in \u001b[0;36m<module>\u001b[0;34m()\u001b[0m\n\u001b[1;32m     14\u001b[0m \u001b[0;32mfrom\u001b[0m \u001b[0mmicroprediction\u001b[0m\u001b[0;34m.\u001b[0m\u001b[0munivariate\u001b[0m\u001b[0;34m.\u001b[0m\u001b[0mdistmachine\u001b[0m \u001b[0;32mimport\u001b[0m \u001b[0mDistMachine\u001b[0m\u001b[0;34m\u001b[0m\u001b[0;34m\u001b[0m\u001b[0m\n\u001b[1;32m     15\u001b[0m \u001b[0;32mfrom\u001b[0m \u001b[0mmicroprediction\u001b[0m\u001b[0;34m.\u001b[0m\u001b[0munivariate\u001b[0m\u001b[0;34m.\u001b[0m\u001b[0mskewdist\u001b[0m \u001b[0;32mimport\u001b[0m \u001b[0mSkewDist\u001b[0m\u001b[0;34m\u001b[0m\u001b[0;34m\u001b[0m\u001b[0m\n\u001b[0;32m---> 16\u001b[0;31m \u001b[0;32mfrom\u001b[0m \u001b[0mmicroprediction\u001b[0m\u001b[0;34m.\u001b[0m\u001b[0mpolling\u001b[0m \u001b[0;32mimport\u001b[0m \u001b[0mMicroPoll\u001b[0m\u001b[0;34m,\u001b[0m \u001b[0mChangePoll\u001b[0m\u001b[0;34m\u001b[0m\u001b[0;34m\u001b[0m\u001b[0m\n\u001b[0m\u001b[1;32m     17\u001b[0m \u001b[0mDistributionMachine\u001b[0m \u001b[0;34m=\u001b[0m \u001b[0mDistMachine\u001b[0m  \u001b[0;31m# Backward compat\u001b[0m\u001b[0;34m\u001b[0m\u001b[0;34m\u001b[0m\u001b[0m\n",
            "\u001b[0;32m/usr/local/lib/python3.7/dist-packages/microprediction/polling.py\u001b[0m in \u001b[0;36m<module>\u001b[0;34m()\u001b[0m\n\u001b[1;32m      2\u001b[0m \u001b[0;32mfrom\u001b[0m \u001b[0mmicroprediction\u001b[0m\u001b[0;34m.\u001b[0m\u001b[0mconventions\u001b[0m \u001b[0;32mimport\u001b[0m \u001b[0mapi_url\u001b[0m\u001b[0;34m\u001b[0m\u001b[0;34m\u001b[0m\u001b[0m\n\u001b[1;32m      3\u001b[0m \u001b[0;32mimport\u001b[0m \u001b[0mtime\u001b[0m\u001b[0;34m\u001b[0m\u001b[0;34m\u001b[0m\u001b[0m\n\u001b[0;32m----> 4\u001b[0;31m \u001b[0;32mfrom\u001b[0m \u001b[0mapscheduler\u001b[0m\u001b[0;34m.\u001b[0m\u001b[0mschedulers\u001b[0m\u001b[0;34m.\u001b[0m\u001b[0mblocking\u001b[0m \u001b[0;32mimport\u001b[0m \u001b[0mBlockingScheduler\u001b[0m\u001b[0;34m\u001b[0m\u001b[0;34m\u001b[0m\u001b[0m\n\u001b[0m\u001b[1;32m      5\u001b[0m \u001b[0;32mfrom\u001b[0m \u001b[0mpprint\u001b[0m \u001b[0;32mimport\u001b[0m \u001b[0mpprint\u001b[0m\u001b[0;34m\u001b[0m\u001b[0;34m\u001b[0m\u001b[0m\n\u001b[1;32m      6\u001b[0m \u001b[0;32mimport\u001b[0m \u001b[0mdatetime\u001b[0m\u001b[0;34m\u001b[0m\u001b[0;34m\u001b[0m\u001b[0m\n",
            "\u001b[0;32m/usr/local/lib/python3.7/dist-packages/apscheduler/__init__.py\u001b[0m in \u001b[0;36m<module>\u001b[0;34m()\u001b[0m\n\u001b[1;32m      2\u001b[0m \u001b[0;34m\u001b[0m\u001b[0m\n\u001b[1;32m      3\u001b[0m \u001b[0;32mtry\u001b[0m\u001b[0;34m:\u001b[0m\u001b[0;34m\u001b[0m\u001b[0;34m\u001b[0m\u001b[0m\n\u001b[0;32m----> 4\u001b[0;31m     \u001b[0mrelease\u001b[0m \u001b[0;34m=\u001b[0m \u001b[0mget_distribution\u001b[0m\u001b[0;34m(\u001b[0m\u001b[0;34m'APScheduler'\u001b[0m\u001b[0;34m)\u001b[0m\u001b[0;34m.\u001b[0m\u001b[0mversion\u001b[0m\u001b[0;34m.\u001b[0m\u001b[0msplit\u001b[0m\u001b[0;34m(\u001b[0m\u001b[0;34m'-'\u001b[0m\u001b[0;34m)\u001b[0m\u001b[0;34m[\u001b[0m\u001b[0;36m0\u001b[0m\u001b[0;34m]\u001b[0m\u001b[0;34m\u001b[0m\u001b[0;34m\u001b[0m\u001b[0m\n\u001b[0m\u001b[1;32m      5\u001b[0m \u001b[0;32mexcept\u001b[0m \u001b[0mDistributionNotFound\u001b[0m\u001b[0;34m:\u001b[0m\u001b[0;34m\u001b[0m\u001b[0;34m\u001b[0m\u001b[0m\n\u001b[1;32m      6\u001b[0m     \u001b[0mrelease\u001b[0m \u001b[0;34m=\u001b[0m \u001b[0;34m'3.5.0'\u001b[0m\u001b[0;34m\u001b[0m\u001b[0;34m\u001b[0m\u001b[0m\n",
            "\u001b[0;32m/usr/local/lib/python3.7/dist-packages/pkg_resources/__init__.py\u001b[0m in \u001b[0;36mget_distribution\u001b[0;34m(dist)\u001b[0m\n\u001b[1;32m    464\u001b[0m         \u001b[0mdist\u001b[0m \u001b[0;34m=\u001b[0m \u001b[0mRequirement\u001b[0m\u001b[0;34m.\u001b[0m\u001b[0mparse\u001b[0m\u001b[0;34m(\u001b[0m\u001b[0mdist\u001b[0m\u001b[0;34m)\u001b[0m\u001b[0;34m\u001b[0m\u001b[0;34m\u001b[0m\u001b[0m\n\u001b[1;32m    465\u001b[0m     \u001b[0;32mif\u001b[0m \u001b[0misinstance\u001b[0m\u001b[0;34m(\u001b[0m\u001b[0mdist\u001b[0m\u001b[0;34m,\u001b[0m \u001b[0mRequirement\u001b[0m\u001b[0;34m)\u001b[0m\u001b[0;34m:\u001b[0m\u001b[0;34m\u001b[0m\u001b[0;34m\u001b[0m\u001b[0m\n\u001b[0;32m--> 466\u001b[0;31m         \u001b[0mdist\u001b[0m \u001b[0;34m=\u001b[0m \u001b[0mget_provider\u001b[0m\u001b[0;34m(\u001b[0m\u001b[0mdist\u001b[0m\u001b[0;34m)\u001b[0m\u001b[0;34m\u001b[0m\u001b[0;34m\u001b[0m\u001b[0m\n\u001b[0m\u001b[1;32m    467\u001b[0m     \u001b[0;32mif\u001b[0m \u001b[0;32mnot\u001b[0m \u001b[0misinstance\u001b[0m\u001b[0;34m(\u001b[0m\u001b[0mdist\u001b[0m\u001b[0;34m,\u001b[0m \u001b[0mDistribution\u001b[0m\u001b[0;34m)\u001b[0m\u001b[0;34m:\u001b[0m\u001b[0;34m\u001b[0m\u001b[0;34m\u001b[0m\u001b[0m\n\u001b[1;32m    468\u001b[0m         \u001b[0;32mraise\u001b[0m \u001b[0mTypeError\u001b[0m\u001b[0;34m(\u001b[0m\u001b[0;34m\"Expected string, Requirement, or Distribution\"\u001b[0m\u001b[0;34m,\u001b[0m \u001b[0mdist\u001b[0m\u001b[0;34m)\u001b[0m\u001b[0;34m\u001b[0m\u001b[0;34m\u001b[0m\u001b[0m\n",
            "\u001b[0;32m/usr/local/lib/python3.7/dist-packages/pkg_resources/__init__.py\u001b[0m in \u001b[0;36mget_provider\u001b[0;34m(moduleOrReq)\u001b[0m\n\u001b[1;32m    340\u001b[0m     \u001b[0;34m\"\"\"Return an IResourceProvider for the named module or requirement\"\"\"\u001b[0m\u001b[0;34m\u001b[0m\u001b[0;34m\u001b[0m\u001b[0m\n\u001b[1;32m    341\u001b[0m     \u001b[0;32mif\u001b[0m \u001b[0misinstance\u001b[0m\u001b[0;34m(\u001b[0m\u001b[0mmoduleOrReq\u001b[0m\u001b[0;34m,\u001b[0m \u001b[0mRequirement\u001b[0m\u001b[0;34m)\u001b[0m\u001b[0;34m:\u001b[0m\u001b[0;34m\u001b[0m\u001b[0;34m\u001b[0m\u001b[0m\n\u001b[0;32m--> 342\u001b[0;31m         \u001b[0;32mreturn\u001b[0m \u001b[0mworking_set\u001b[0m\u001b[0;34m.\u001b[0m\u001b[0mfind\u001b[0m\u001b[0;34m(\u001b[0m\u001b[0mmoduleOrReq\u001b[0m\u001b[0;34m)\u001b[0m \u001b[0;32mor\u001b[0m \u001b[0mrequire\u001b[0m\u001b[0;34m(\u001b[0m\u001b[0mstr\u001b[0m\u001b[0;34m(\u001b[0m\u001b[0mmoduleOrReq\u001b[0m\u001b[0;34m)\u001b[0m\u001b[0;34m)\u001b[0m\u001b[0;34m[\u001b[0m\u001b[0;36m0\u001b[0m\u001b[0;34m]\u001b[0m\u001b[0;34m\u001b[0m\u001b[0;34m\u001b[0m\u001b[0m\n\u001b[0m\u001b[1;32m    343\u001b[0m     \u001b[0;32mtry\u001b[0m\u001b[0;34m:\u001b[0m\u001b[0;34m\u001b[0m\u001b[0;34m\u001b[0m\u001b[0m\n\u001b[1;32m    344\u001b[0m         \u001b[0mmodule\u001b[0m \u001b[0;34m=\u001b[0m \u001b[0msys\u001b[0m\u001b[0;34m.\u001b[0m\u001b[0mmodules\u001b[0m\u001b[0;34m[\u001b[0m\u001b[0mmoduleOrReq\u001b[0m\u001b[0;34m]\u001b[0m\u001b[0;34m\u001b[0m\u001b[0;34m\u001b[0m\u001b[0m\n",
            "\u001b[0;32m/usr/local/lib/python3.7/dist-packages/pkg_resources/__init__.py\u001b[0m in \u001b[0;36mrequire\u001b[0;34m(self, *requirements)\u001b[0m\n\u001b[1;32m    884\u001b[0m         \u001b[0mincluded\u001b[0m\u001b[0;34m,\u001b[0m \u001b[0meven\u001b[0m \u001b[0;32mif\u001b[0m \u001b[0mthey\u001b[0m \u001b[0mwere\u001b[0m \u001b[0malready\u001b[0m \u001b[0mactivated\u001b[0m \u001b[0;32min\u001b[0m \u001b[0mthis\u001b[0m \u001b[0mworking\u001b[0m \u001b[0mset\u001b[0m\u001b[0;34m.\u001b[0m\u001b[0;34m\u001b[0m\u001b[0;34m\u001b[0m\u001b[0m\n\u001b[1;32m    885\u001b[0m         \"\"\"\n\u001b[0;32m--> 886\u001b[0;31m         \u001b[0mneeded\u001b[0m \u001b[0;34m=\u001b[0m \u001b[0mself\u001b[0m\u001b[0;34m.\u001b[0m\u001b[0mresolve\u001b[0m\u001b[0;34m(\u001b[0m\u001b[0mparse_requirements\u001b[0m\u001b[0;34m(\u001b[0m\u001b[0mrequirements\u001b[0m\u001b[0;34m)\u001b[0m\u001b[0;34m)\u001b[0m\u001b[0;34m\u001b[0m\u001b[0;34m\u001b[0m\u001b[0m\n\u001b[0m\u001b[1;32m    887\u001b[0m \u001b[0;34m\u001b[0m\u001b[0m\n\u001b[1;32m    888\u001b[0m         \u001b[0;32mfor\u001b[0m \u001b[0mdist\u001b[0m \u001b[0;32min\u001b[0m \u001b[0mneeded\u001b[0m\u001b[0;34m:\u001b[0m\u001b[0;34m\u001b[0m\u001b[0;34m\u001b[0m\u001b[0m\n",
            "\u001b[0;32m/usr/local/lib/python3.7/dist-packages/pkg_resources/__init__.py\u001b[0m in \u001b[0;36mresolve\u001b[0;34m(self, requirements, env, installer, replace_conflicting, extras)\u001b[0m\n\u001b[1;32m    775\u001b[0m                 \u001b[0;31m# Oops, the \"best\" so far conflicts with a dependency\u001b[0m\u001b[0;34m\u001b[0m\u001b[0;34m\u001b[0m\u001b[0;34m\u001b[0m\u001b[0m\n\u001b[1;32m    776\u001b[0m                 \u001b[0mdependent_req\u001b[0m \u001b[0;34m=\u001b[0m \u001b[0mrequired_by\u001b[0m\u001b[0;34m[\u001b[0m\u001b[0mreq\u001b[0m\u001b[0;34m]\u001b[0m\u001b[0;34m\u001b[0m\u001b[0;34m\u001b[0m\u001b[0m\n\u001b[0;32m--> 777\u001b[0;31m                 \u001b[0;32mraise\u001b[0m \u001b[0mVersionConflict\u001b[0m\u001b[0;34m(\u001b[0m\u001b[0mdist\u001b[0m\u001b[0;34m,\u001b[0m \u001b[0mreq\u001b[0m\u001b[0;34m)\u001b[0m\u001b[0;34m.\u001b[0m\u001b[0mwith_context\u001b[0m\u001b[0;34m(\u001b[0m\u001b[0mdependent_req\u001b[0m\u001b[0;34m)\u001b[0m\u001b[0;34m\u001b[0m\u001b[0;34m\u001b[0m\u001b[0m\n\u001b[0m\u001b[1;32m    778\u001b[0m \u001b[0;34m\u001b[0m\u001b[0m\n\u001b[1;32m    779\u001b[0m             \u001b[0;31m# push the new requirements onto the stack\u001b[0m\u001b[0;34m\u001b[0m\u001b[0;34m\u001b[0m\u001b[0;34m\u001b[0m\u001b[0m\n",
            "\u001b[0;31mContextualVersionConflict\u001b[0m: (tzlocal 1.5.1 (/usr/local/lib/python3.7/dist-packages), Requirement.parse('tzlocal~=2.0'), {'APScheduler'})"
          ]
        }
      ]
    },
    {
      "cell_type": "code",
      "metadata": {
        "id": "Qdh24Gv7YpTn"
      },
      "source": [
        "from timemachines.skaters.elo.eloensembles import elo_fastest_residual_precision_ensemble"
      ],
      "execution_count": 5,
      "outputs": []
    },
    {
      "cell_type": "code",
      "metadata": {
        "colab": {
          "base_uri": "https://localhost:8080/"
        },
        "id": "9nSjPZ2K8tpN",
        "outputId": "ce30e56c-167f-4504-ec5d-ea16b980a6be"
      },
      "source": [
        "repetitions = 50\n",
        "samples = 200\n",
        "size = repetitions*samples\n",
        "time_steps = 20\n",
        "import numpy as np \n",
        "x_train = np.zeros(shape=(size, time_steps, 1))\n",
        "y_train = np.zeros(shape=(size, 1))\n",
        "x_stds = list()\n",
        "y_true = list()\n",
        "\n",
        "print(np.shape(x_train))\n",
        "for j1 in range(repetitions):\n",
        "  big_y = 10000\n",
        "  len_y = 0\n",
        "  while (big_y>1000) or (len_y<900):\n",
        "    YS = get_values()\n",
        "    big_y = np.max(YS) if YS else 0 \n",
        "    len_y = len(YS)\n",
        "  print(YS[:5])\n",
        "  print((j1,repetitions))\n",
        "  print(np.mean(x_stds))\n",
        "  for j2 in range(samples):\n",
        "    j = j1*samples+j2\n",
        "    s = {}\n",
        "    random_scale = np.random.exponential()/60.0\n",
        "    y_training = [yt for yt in YS[j2:j2+400]]\n",
        "    for t in range(samples-20): # jiggle start\n",
        "        y_training[t] = y_training[t]+1.*np.random.randn()\n",
        "    for t in range(len(y_training)): # scale randomly\n",
        "        y_training[t] = y_training[t]*random_scale \n",
        "    # Run through and get final prediction \n",
        "    for y in y_training[:-1]:\n",
        "      x,x_std, s = elo_fastest_residual_precision_ensemble(y,k=1,s=s)\n",
        "    y_true.append(y_training[-1])\n",
        "    y_train[j,0] = x[0]\n",
        "    x_stds.append(x_std[0])\n",
        "    # Give network the last data points\n",
        "    y_data = y_training[-time_steps-1:-1]\n",
        "    for k in range(time_steps):\n",
        "      x_train[j,k,0] = y_data[k]\n",
        "      \n",
        "  \n",
        "\n"
      ],
      "execution_count": 10,
      "outputs": [
        {
          "output_type": "stream",
          "name": "stdout",
          "text": [
            "(10000, 20, 1)\n",
            "[30.0, 30.0, 30.0, 30.0, 30.0]\n",
            "(0, 50)\n",
            "nan\n"
          ]
        },
        {
          "output_type": "stream",
          "name": "stderr",
          "text": [
            "/usr/local/lib/python3.7/dist-packages/numpy/core/fromnumeric.py:3441: RuntimeWarning: Mean of empty slice.\n",
            "  out=out, **kwargs)\n",
            "/usr/local/lib/python3.7/dist-packages/numpy/core/_methods.py:189: RuntimeWarning: invalid value encountered in double_scalars\n",
            "  ret = ret.dtype.type(ret / rcount)\n"
          ]
        },
        {
          "output_type": "stream",
          "name": "stdout",
          "text": [
            "[12.0, 12.0, 12.0, 12.0, 12.0]\n",
            "(1, 50)\n",
            "0.008926466457892681\n",
            "[97.0, 65.0, 65.0, 53.0, 53.0]\n",
            "(2, 50)\n",
            "0.01757616085324847\n",
            "[-0.55202, -0.55404, -0.55607, -0.55445, -0.55242]\n",
            "(3, 50)\n",
            "0.053144718768046266\n",
            "[100.0, 100.0, 119.0, 119.0, 60.0]\n",
            "(4, 50)\n",
            "0.04153460419781223\n",
            "[-0.55404, -0.55607, -0.55445, -0.55242, -0.55647]\n",
            "(5, 50)\n",
            "0.21119489805652114\n",
            "[70.0, 70.0, 53.0, 53.0, 28.0]\n",
            "(6, 50)\n",
            "0.17692195087289056\n",
            "[37.66, 35.98, 35.83, 34.53, 31.58]\n",
            "(7, 50)\n",
            "0.1990842328790362\n",
            "[-0.5, 0.5, 0.5, 0.5, 0.5]\n",
            "(8, 50)\n",
            "0.21171574150711564\n",
            "[10.0, 10.0, 10.0, 11.0, 12.0]\n",
            "(9, 50)\n",
            "0.1895554294856056\n",
            "[12.0, 12.0, 12.0, 12.0, 13.0]\n",
            "(10, 50)\n",
            "0.17153134487706279\n",
            "[368.2856, 365.8852, 365.8852, 364.682, 367.9281]\n",
            "(11, 50)\n",
            "0.1585936161995259\n",
            "[70.0, 70.0, 64.0, 94.0, 81.0]\n",
            "(12, 50)\n",
            "0.15640516775846347\n",
            "[-0.5, 0.5, 0.5, 0.5, 0.5]\n",
            "(13, 50)\n",
            "0.16104591888425457\n",
            "[146.0, 174.0, 166.0, 170.0, 160.0]\n",
            "(14, 50)\n",
            "0.1501965961625463\n",
            "[13.0, 13.0, 13.0, 12.0, 13.0]\n",
            "(15, 50)\n",
            "0.15261105269089995\n",
            "[109.0, 75.0, 98.0, 124.0, 100.0]\n",
            "(16, 50)\n",
            "0.1440709327703052\n",
            "[8.0, 8.0, 8.0, 8.0, 8.0]\n",
            "(17, 50)\n",
            "0.1475880376252984\n",
            "[1.2108, 1.2221, 1.2173, 1.214, 1.2229]\n",
            "(18, 50)\n",
            "0.14020555234447302\n",
            "[5.479465764625502, 0.0, 0.0, 5.449604767564779, 5.4200674693391875]\n",
            "(19, 50)\n",
            "0.13318207754110517\n",
            "[0.0, 0.0, 0.0, 0.0, 0.0]\n",
            "(20, 50)\n",
            "0.13324742824392308\n",
            "[0.0, 0.0, 0.0, 0.0, 0.0]\n",
            "(21, 50)\n",
            "0.13248709470068087\n",
            "[103.0, 106.0, 119.0, 148.0, 111.0]\n",
            "(22, 50)\n",
            "0.13019066236874716\n",
            "[10.0, 10.0, 10.0, 10.0, 10.0]\n",
            "(23, 50)\n",
            "0.13948673932363\n",
            "[10.0, 10.0, 10.0, 11.0, 11.0]\n",
            "(24, 50)\n",
            "0.13406193223768692\n",
            "[3.0, 3.0, 3.0, 3.0, 3.0]\n",
            "(25, 50)\n",
            "0.12933135639560686\n",
            "[24.0, 24.0, 26.0, 26.0, 26.0]\n",
            "(26, 50)\n",
            "0.12831418111693094\n",
            "[1.0, 1.0, 1.0, 1.0, 1.0]\n",
            "(27, 50)\n",
            "0.12449834199860599\n",
            "[133.0, 133.0, 146.0, 161.0, 138.0]\n",
            "(28, 50)\n",
            "0.12092484209886464\n",
            "[96.0, 85.0, 82.0, 92.0, 65.0]\n",
            "(29, 50)\n",
            "0.12306653704059264\n",
            "[34.78, 34.44, 34.44, 34.44, 33.63]\n",
            "(30, 50)\n",
            "0.12468910890704321\n",
            "[0.999617674109542, 0.0011219320490420239, 0.10820869493134672, 0.032159011791118804, 0.4474411117565499]\n",
            "(31, 50)\n",
            "0.13391933414536536\n",
            "[719.0, 818.0, 823.0, 800.0, 745.0]\n",
            "(32, 50)\n",
            "0.13007370505478155\n",
            "[37.0, 37.0, 37.0, 37.0, 16.0]\n",
            "(33, 50)\n",
            "0.1499945035836584\n",
            "[10.0, 10.0, 11.0, 10.0, 10.0]\n",
            "(34, 50)\n",
            "0.15642937078853017\n",
            "[-0.6460930598732375, -0.6274897763432818, -0.5136937546958507, 0.0, -0.03806188863563875]\n",
            "(35, 50)\n",
            "0.15239106881264855\n",
            "[29.0, 34.0, 34.0, 31.0, 31.0]\n",
            "(36, 50)\n",
            "0.14972734465846482\n",
            "[22.0, 23.0, 23.0, 27.0, 31.0]\n",
            "(37, 50)\n",
            "0.14856936605307808\n",
            "[744.0, 769.0, 801.0, 835.0, 757.0]\n",
            "(38, 50)\n",
            "0.14522882822626865\n",
            "[0.4474411117565499, 0.990801583288401, 0.9999940004900603, 0.9999984203249247, 0.9988174974591015]\n",
            "(39, 50)\n",
            "0.15785426352129128\n",
            "[116.0, 106.0, 102.0, 119.0, 108.0]\n",
            "(40, 50)\n",
            "0.1541819407147587\n",
            "[119.0, 108.0, 100.0, 107.0, 104.0]\n",
            "(41, 50)\n",
            "0.15423561409515832\n",
            "[2.0, 2.0, 2.0, 2.0, 2.0]\n",
            "(42, 50)\n",
            "0.15404388319922896\n",
            "[225.0, 189.0, 149.0, 158.0, 160.0]\n",
            "(43, 50)\n",
            "0.15061713675645114\n",
            "[0.5, -0.5, -0.5, 0.5, -0.5]\n",
            "(44, 50)\n",
            "0.1625935882973348\n",
            "[0.27156079734231753, 1.3566989079281484, 0.7454005743657035, 0.3160627636643767, 0.22569797193318664]\n",
            "(45, 50)\n",
            "0.15921634232225962\n",
            "[7.0, 6.0, 6.0, 4.0, 4.0]\n",
            "(46, 50)\n",
            "0.15681249179924733\n",
            "[36.54, 34.67, 34.67, 33.57, 32.28]\n",
            "(47, 50)\n",
            "0.15882047813715458\n",
            "[44.0, 43.0, 56.0, 66.0, 60.0]\n",
            "(48, 50)\n",
            "0.1621971127461978\n",
            "[10.0, 10.0, 10.0, 10.0, 11.0]\n",
            "(49, 50)\n",
            "0.16216810133929782\n"
          ]
        }
      ]
    },
    {
      "cell_type": "code",
      "metadata": {
        "colab": {
          "base_uri": "https://localhost:8080/"
        },
        "id": "l9sQscBDQ-dq",
        "outputId": "2a4d6c77-cbd2-484f-cf9f-00eebdd1d0d5"
      },
      "source": [
        "YS[-1]"
      ],
      "execution_count": 87,
      "outputs": [
        {
          "output_type": "execute_result",
          "data": {
            "text/plain": [
              "3906.0"
            ]
          },
          "metadata": {},
          "execution_count": 87
        }
      ]
    },
    {
      "cell_type": "markdown",
      "metadata": {
        "id": "civbasJlSAJe"
      },
      "source": [
        "# Dense NN fitting"
      ]
    },
    {
      "cell_type": "code",
      "metadata": {
        "id": "0ffx2R4DSCRv"
      },
      "source": [
        "from tensorflow.keras.layers import Dense\n",
        "from tensorflow.keras.models import Sequential"
      ],
      "execution_count": 11,
      "outputs": []
    },
    {
      "cell_type": "markdown",
      "metadata": {
        "id": "rFBLqfSXBu3j"
      },
      "source": [
        "# TCN fitting"
      ]
    },
    {
      "cell_type": "code",
      "metadata": {
        "id": "mhW_TzXnAO-X"
      },
      "source": [
        "from tcn import TCN, tcn_full_summary\n"
      ],
      "execution_count": 12,
      "outputs": []
    },
    {
      "cell_type": "code",
      "metadata": {
        "colab": {
          "base_uri": "https://localhost:8080/"
        },
        "id": "xVV0LdrpAteJ",
        "outputId": "00cb2ec0-5dc3-44df-f268-71810aa27c1e"
      },
      "source": [
        "tcn_layer = TCN(input_shape=(time_steps, 1))\n",
        "# The receptive field tells you how far the model can see in terms of timesteps.\n",
        "print('Receptive field size =', tcn_layer.receptive_field)\n",
        "\n",
        "m = Sequential([\n",
        "    tcn_layer,\n",
        "    Dense(1,activation='linear')\n",
        "])\n",
        "\n",
        "m.compile(optimizer='adam', loss='mse')"
      ],
      "execution_count": 13,
      "outputs": [
        {
          "output_type": "stream",
          "name": "stdout",
          "text": [
            "Receptive field size = 253\n"
          ]
        }
      ]
    },
    {
      "cell_type": "code",
      "metadata": {
        "colab": {
          "base_uri": "https://localhost:8080/"
        },
        "id": "c_1dxTF1A23J",
        "outputId": "37a6c99f-91aa-4b95-ec0a-b7d939135cd3"
      },
      "source": [
        "for _ in range(500):\n",
        "  m.fit(x_train, y_train, epochs=10, verbose=0)\n",
        "  y_hat = m.predict(x_train)\n",
        "  from sklearn.metrics import mean_squared_error\n",
        "  err1 = mean_squared_error(y_hat,y_train)\n",
        "  err2 = mean_squared_error(y_hat,y_true)\n",
        "  err3 = mean_squared_error(y_train,y_true)\n",
        "\n",
        "  print({'surrogate-model':err1,'surrogate-true':err2,'model-true':err3})\n",
        "  #print(list(zip(y_hat[:50],y_train[:50])))\n"
      ],
      "execution_count": null,
      "outputs": [
        {
          "output_type": "stream",
          "name": "stdout",
          "text": [
            "{'surrogate-model': 0.01634198233106872, 'surrogate-true': 0.14783343400578627, 'model-true': 0.13941624136154138}\n",
            "{'surrogate-model': 0.028343202119245216, 'surrogate-true': 0.16839307091056843, 'model-true': 0.13941624136154138}\n",
            "{'surrogate-model': 0.0048969383678299895, 'surrogate-true': 0.14210722931451436, 'model-true': 0.13941624136154138}\n",
            "{'surrogate-model': 0.061161652970525754, 'surrogate-true': 0.21466117533703447, 'model-true': 0.13941624136154138}\n",
            "{'surrogate-model': 0.010153933766188589, 'surrogate-true': 0.14708055010857451, 'model-true': 0.13941624136154138}\n",
            "{'surrogate-model': 0.004536522937049713, 'surrogate-true': 0.14181089631468602, 'model-true': 0.13941624136154138}\n",
            "{'surrogate-model': 0.009885819345595832, 'surrogate-true': 0.15336419143769714, 'model-true': 0.13941624136154138}\n",
            "{'surrogate-model': 0.003543840295044219, 'surrogate-true': 0.14371757055011808, 'model-true': 0.13941624136154138}\n",
            "{'surrogate-model': 0.0060919422162985055, 'surrogate-true': 0.15042660144642503, 'model-true': 0.13941624136154138}\n",
            "{'surrogate-model': 0.005397825940600385, 'surrogate-true': 0.14686622990399664, 'model-true': 0.13941624136154138}\n"
          ]
        }
      ]
    }
  ]
}