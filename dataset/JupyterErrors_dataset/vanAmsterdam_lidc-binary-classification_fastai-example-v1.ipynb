{
 "cells": [
  {
   "cell_type": "markdown",
   "metadata": {},
   "source": [
    "## Image classification with Convolutional Neural Networks"
   ]
  },
  {
   "cell_type": "code",
   "execution_count": 2,
   "metadata": {},
   "outputs": [],
   "source": [
    "# Put these at the top of every notebook, to get automatic reloading and inline plotting\n",
    "%reload_ext autoreload\n",
    "%autoreload 2\n",
    "%matplotlib inline"
   ]
  },
  {
   "cell_type": "markdown",
   "metadata": {},
   "source": [
    "Here we import the libraries we need. We'll learn about what each does during the course."
   ]
  },
  {
   "cell_type": "code",
   "execution_count": 3,
   "metadata": {},
   "outputs": [],
   "source": [
    "# This file contains all the main external libs we'll use\n",
    "from fastai.imports import *"
   ]
  },
  {
   "cell_type": "code",
   "execution_count": 7,
   "metadata": {},
   "outputs": [],
   "source": [
    "from fastai.vision import *\n",
    "# from fastai.conv_learner import *\n",
    "# from fastai.model import *\n",
    "# from fastai.dataset import *\n",
    "# from fastai.sgdr import *\n",
    "# from fastai.plots import *"
   ]
  },
  {
   "cell_type": "code",
   "execution_count": 8,
   "metadata": {},
   "outputs": [],
   "source": [
    "import pretrainedmodels"
   ]
  },
  {
   "cell_type": "markdown",
   "metadata": {},
   "source": [
    "`PATH` is the path to your data - if you use the recommended setup approaches from the lesson, you won't need to change this. `sz` is the size that the images will be resized to in order to ensure that the training runs quickly. We'll be talking about this parameter a lot during the course. Leave it at `224` for now."
   ]
  },
  {
   "cell_type": "code",
   "execution_count": 9,
   "metadata": {},
   "outputs": [],
   "source": [
    "# PATH = \"/local_scratch/wamsterd/data/lidc/nodules2D/\"\n",
    "HOME_PATH = \"/home/wamsterd/github/lidc-binary-classification/\"\n",
    "DATA_FOLDER = \"data/\"\n",
    "DATA_PATH = \"/local_scratch/wamsterd/data/lidc/nodules2D-unsorted/\"\n",
    "DATA_PATH = \"/local_scratch/wamsterd/data/lidc/nodulesRGB-unsorted/\"\n",
    "LABEL_PATH = \"/home/wamsterd/github/lidc-binary-classification/resources/nodule_df.csv\"\n"
   ]
  },
  {
   "cell_type": "markdown",
   "metadata": {},
   "source": [
    "## Import labels"
   ]
  },
  {
   "cell_type": "code",
   "execution_count": 6,
   "metadata": {},
   "outputs": [],
   "source": [
    "# print(os.listdir(PATH)[:5])"
   ]
  },
  {
   "cell_type": "code",
   "execution_count": 10,
   "metadata": {},
   "outputs": [
    {
     "name": "stdout",
     "output_type": "stream",
     "text": [
      "(2651, 15)\n",
      "(1246, 15)\n"
     ]
    }
   ],
   "source": [
    "label_df = pd.read_csv(LABEL_PATH, index_col=None)\n",
    "label_df[\"filename\"] = [\"%06d.png\" % x for x in label_df.nodule_idx]\n",
    "label_df[\"label\"] = np.int0(label_df.malignant)\n",
    "# label_df.head()\n",
    "\n",
    "print(label_df.shape)\n",
    "label_df = label_df[label_df['filename'].isin(os.listdir(DATA_PATH))]\n",
    "print(label_df.shape)\n",
    "\n",
    "CSV_PATH = os.path.join(HOME_PATH, \"resources\", \"labels.csv\")\n",
    "label_df[[\"filename\", \"label\"]].to_csv(CSV_PATH, index = None)"
   ]
  },
  {
   "cell_type": "markdown",
   "metadata": {},
   "source": [
    "## Improving our model"
   ]
  },
  {
   "cell_type": "markdown",
   "metadata": {
    "hidden": true
   },
   "source": [
    "Let's create a new `data` object that includes this augmentation in the transforms.\n",
    "Set max_zoom to 1, since size is the most important predictor of malignancy"
   ]
  },
  {
   "cell_type": "code",
   "execution_count": 11,
   "metadata": {},
   "outputs": [
    {
     "data": {
      "text/plain": [
       "PNASNet5Large(\n",
       "  (conv_0): Sequential(\n",
       "    (conv): Conv2d(3, 96, kernel_size=(3, 3), stride=(2, 2), bias=False)\n",
       "    (bn): BatchNorm2d(96, eps=0.001, momentum=0.1, affine=True, track_running_stats=True)\n",
       "  )\n",
       "  (cell_stem_0): CellStem0(\n",
       "    (conv_1x1): ReluConvBn(\n",
       "      (relu): ReLU()\n",
       "      (conv): Conv2d(96, 54, kernel_size=(1, 1), stride=(1, 1), bias=False)\n",
       "      (bn): BatchNorm2d(54, eps=0.001, momentum=0.1, affine=True, track_running_stats=True)\n",
       "    )\n",
       "    (comb_iter_0_left): BranchSeparables(\n",
       "      (relu_1): ReLU()\n",
       "      (separable_1): SeparableConv2d(\n",
       "        (depthwise_conv2d): Conv2d(96, 96, kernel_size=(5, 5), stride=(2, 2), padding=(2, 2), groups=96, bias=False)\n",
       "        (pointwise_conv2d): Conv2d(96, 54, kernel_size=(1, 1), stride=(1, 1), bias=False)\n",
       "      )\n",
       "      (bn_sep_1): BatchNorm2d(54, eps=0.001, momentum=0.1, affine=True, track_running_stats=True)\n",
       "      (relu_2): ReLU()\n",
       "      (separable_2): SeparableConv2d(\n",
       "        (depthwise_conv2d): Conv2d(54, 54, kernel_size=(5, 5), stride=(1, 1), padding=(2, 2), groups=54, bias=False)\n",
       "        (pointwise_conv2d): Conv2d(54, 54, kernel_size=(1, 1), stride=(1, 1), bias=False)\n",
       "      )\n",
       "      (bn_sep_2): BatchNorm2d(54, eps=0.001, momentum=0.1, affine=True, track_running_stats=True)\n",
       "    )\n",
       "    (comb_iter_0_right): Sequential(\n",
       "      (max_pool): MaxPool(\n",
       "        (pool): MaxPool2d(kernel_size=3, stride=2, padding=1, dilation=1, ceil_mode=False)\n",
       "      )\n",
       "      (conv): Conv2d(96, 54, kernel_size=(1, 1), stride=(1, 1), bias=False)\n",
       "      (bn): BatchNorm2d(54, eps=0.001, momentum=0.1, affine=True, track_running_stats=True)\n",
       "    )\n",
       "    (comb_iter_1_left): BranchSeparables(\n",
       "      (relu_1): ReLU()\n",
       "      (separable_1): SeparableConv2d(\n",
       "        (depthwise_conv2d): Conv2d(54, 54, kernel_size=(7, 7), stride=(2, 2), padding=(3, 3), groups=54, bias=False)\n",
       "        (pointwise_conv2d): Conv2d(54, 54, kernel_size=(1, 1), stride=(1, 1), bias=False)\n",
       "      )\n",
       "      (bn_sep_1): BatchNorm2d(54, eps=0.001, momentum=0.1, affine=True, track_running_stats=True)\n",
       "      (relu_2): ReLU()\n",
       "      (separable_2): SeparableConv2d(\n",
       "        (depthwise_conv2d): Conv2d(54, 54, kernel_size=(7, 7), stride=(1, 1), padding=(3, 3), groups=54, bias=False)\n",
       "        (pointwise_conv2d): Conv2d(54, 54, kernel_size=(1, 1), stride=(1, 1), bias=False)\n",
       "      )\n",
       "      (bn_sep_2): BatchNorm2d(54, eps=0.001, momentum=0.1, affine=True, track_running_stats=True)\n",
       "    )\n",
       "    (comb_iter_1_right): MaxPool(\n",
       "      (pool): MaxPool2d(kernel_size=3, stride=2, padding=1, dilation=1, ceil_mode=False)\n",
       "    )\n",
       "    (comb_iter_2_left): BranchSeparables(\n",
       "      (relu_1): ReLU()\n",
       "      (separable_1): SeparableConv2d(\n",
       "        (depthwise_conv2d): Conv2d(54, 54, kernel_size=(5, 5), stride=(2, 2), padding=(2, 2), groups=54, bias=False)\n",
       "        (pointwise_conv2d): Conv2d(54, 54, kernel_size=(1, 1), stride=(1, 1), bias=False)\n",
       "      )\n",
       "      (bn_sep_1): BatchNorm2d(54, eps=0.001, momentum=0.1, affine=True, track_running_stats=True)\n",
       "      (relu_2): ReLU()\n",
       "      (separable_2): SeparableConv2d(\n",
       "        (depthwise_conv2d): Conv2d(54, 54, kernel_size=(5, 5), stride=(1, 1), padding=(2, 2), groups=54, bias=False)\n",
       "        (pointwise_conv2d): Conv2d(54, 54, kernel_size=(1, 1), stride=(1, 1), bias=False)\n",
       "      )\n",
       "      (bn_sep_2): BatchNorm2d(54, eps=0.001, momentum=0.1, affine=True, track_running_stats=True)\n",
       "    )\n",
       "    (comb_iter_2_right): BranchSeparables(\n",
       "      (relu_1): ReLU()\n",
       "      (separable_1): SeparableConv2d(\n",
       "        (depthwise_conv2d): Conv2d(54, 54, kernel_size=(3, 3), stride=(2, 2), padding=(1, 1), groups=54, bias=False)\n",
       "        (pointwise_conv2d): Conv2d(54, 54, kernel_size=(1, 1), stride=(1, 1), bias=False)\n",
       "      )\n",
       "      (bn_sep_1): BatchNorm2d(54, eps=0.001, momentum=0.1, affine=True, track_running_stats=True)\n",
       "      (relu_2): ReLU()\n",
       "      (separable_2): SeparableConv2d(\n",
       "        (depthwise_conv2d): Conv2d(54, 54, kernel_size=(3, 3), stride=(1, 1), padding=(1, 1), groups=54, bias=False)\n",
       "        (pointwise_conv2d): Conv2d(54, 54, kernel_size=(1, 1), stride=(1, 1), bias=False)\n",
       "      )\n",
       "      (bn_sep_2): BatchNorm2d(54, eps=0.001, momentum=0.1, affine=True, track_running_stats=True)\n",
       "    )\n",
       "    (comb_iter_3_left): BranchSeparables(\n",
       "      (relu_1): ReLU()\n",
       "      (separable_1): SeparableConv2d(\n",
       "        (depthwise_conv2d): Conv2d(54, 54, kernel_size=(3, 3), stride=(1, 1), padding=(1, 1), groups=54, bias=False)\n",
       "        (pointwise_conv2d): Conv2d(54, 54, kernel_size=(1, 1), stride=(1, 1), bias=False)\n",
       "      )\n",
       "      (bn_sep_1): BatchNorm2d(54, eps=0.001, momentum=0.1, affine=True, track_running_stats=True)\n",
       "      (relu_2): ReLU()\n",
       "      (separable_2): SeparableConv2d(\n",
       "        (depthwise_conv2d): Conv2d(54, 54, kernel_size=(3, 3), stride=(1, 1), padding=(1, 1), groups=54, bias=False)\n",
       "        (pointwise_conv2d): Conv2d(54, 54, kernel_size=(1, 1), stride=(1, 1), bias=False)\n",
       "      )\n",
       "      (bn_sep_2): BatchNorm2d(54, eps=0.001, momentum=0.1, affine=True, track_running_stats=True)\n",
       "    )\n",
       "    (comb_iter_3_right): MaxPool(\n",
       "      (pool): MaxPool2d(kernel_size=3, stride=2, padding=1, dilation=1, ceil_mode=False)\n",
       "    )\n",
       "    (comb_iter_4_left): BranchSeparables(\n",
       "      (relu_1): ReLU()\n",
       "      (separable_1): SeparableConv2d(\n",
       "        (depthwise_conv2d): Conv2d(96, 96, kernel_size=(3, 3), stride=(2, 2), padding=(1, 1), groups=96, bias=False)\n",
       "        (pointwise_conv2d): Conv2d(96, 54, kernel_size=(1, 1), stride=(1, 1), bias=False)\n",
       "      )\n",
       "      (bn_sep_1): BatchNorm2d(54, eps=0.001, momentum=0.1, affine=True, track_running_stats=True)\n",
       "      (relu_2): ReLU()\n",
       "      (separable_2): SeparableConv2d(\n",
       "        (depthwise_conv2d): Conv2d(54, 54, kernel_size=(3, 3), stride=(1, 1), padding=(1, 1), groups=54, bias=False)\n",
       "        (pointwise_conv2d): Conv2d(54, 54, kernel_size=(1, 1), stride=(1, 1), bias=False)\n",
       "      )\n",
       "      (bn_sep_2): BatchNorm2d(54, eps=0.001, momentum=0.1, affine=True, track_running_stats=True)\n",
       "    )\n",
       "    (comb_iter_4_right): ReluConvBn(\n",
       "      (relu): ReLU()\n",
       "      (conv): Conv2d(54, 54, kernel_size=(1, 1), stride=(2, 2), bias=False)\n",
       "      (bn): BatchNorm2d(54, eps=0.001, momentum=0.1, affine=True, track_running_stats=True)\n",
       "    )\n",
       "  )\n",
       "  (cell_stem_1): Cell(\n",
       "    (conv_prev_1x1): FactorizedReduction(\n",
       "      (relu): ReLU()\n",
       "      (path_1): Sequential(\n",
       "        (avgpool): AvgPool2d(kernel_size=1, stride=2, padding=0)\n",
       "        (conv): Conv2d(96, 54, kernel_size=(1, 1), stride=(1, 1), bias=False)\n",
       "      )\n",
       "      (path_2): Sequential(\n",
       "        (pad): ZeroPad2d(padding=(0, 1, 0, 1), value=0)\n",
       "        (avgpool): AvgPool2d(kernel_size=1, stride=2, padding=0)\n",
       "        (conv): Conv2d(96, 54, kernel_size=(1, 1), stride=(1, 1), bias=False)\n",
       "      )\n",
       "      (final_path_bn): BatchNorm2d(108, eps=0.001, momentum=0.1, affine=True, track_running_stats=True)\n",
       "    )\n",
       "    (conv_1x1): ReluConvBn(\n",
       "      (relu): ReLU()\n",
       "      (conv): Conv2d(270, 108, kernel_size=(1, 1), stride=(1, 1), bias=False)\n",
       "      (bn): BatchNorm2d(108, eps=0.001, momentum=0.1, affine=True, track_running_stats=True)\n",
       "    )\n",
       "    (comb_iter_0_left): BranchSeparables(\n",
       "      (relu_1): ReLU()\n",
       "      (separable_1): SeparableConv2d(\n",
       "        (depthwise_conv2d): Conv2d(108, 108, kernel_size=(5, 5), stride=(2, 2), padding=(2, 2), groups=108, bias=False)\n",
       "        (pointwise_conv2d): Conv2d(108, 108, kernel_size=(1, 1), stride=(1, 1), bias=False)\n",
       "      )\n",
       "      (bn_sep_1): BatchNorm2d(108, eps=0.001, momentum=0.1, affine=True, track_running_stats=True)\n",
       "      (relu_2): ReLU()\n",
       "      (separable_2): SeparableConv2d(\n",
       "        (depthwise_conv2d): Conv2d(108, 108, kernel_size=(5, 5), stride=(1, 1), padding=(2, 2), groups=108, bias=False)\n",
       "        (pointwise_conv2d): Conv2d(108, 108, kernel_size=(1, 1), stride=(1, 1), bias=False)\n",
       "      )\n",
       "      (bn_sep_2): BatchNorm2d(108, eps=0.001, momentum=0.1, affine=True, track_running_stats=True)\n",
       "    )\n",
       "    (comb_iter_0_right): MaxPool(\n",
       "      (pool): MaxPool2d(kernel_size=3, stride=2, padding=1, dilation=1, ceil_mode=False)\n",
       "    )\n",
       "    (comb_iter_1_left): BranchSeparables(\n",
       "      (relu_1): ReLU()\n",
       "      (separable_1): SeparableConv2d(\n",
       "        (depthwise_conv2d): Conv2d(108, 108, kernel_size=(7, 7), stride=(2, 2), padding=(3, 3), groups=108, bias=False)\n",
       "        (pointwise_conv2d): Conv2d(108, 108, kernel_size=(1, 1), stride=(1, 1), bias=False)\n",
       "      )\n",
       "      (bn_sep_1): BatchNorm2d(108, eps=0.001, momentum=0.1, affine=True, track_running_stats=True)\n",
       "      (relu_2): ReLU()\n",
       "      (separable_2): SeparableConv2d(\n",
       "        (depthwise_conv2d): Conv2d(108, 108, kernel_size=(7, 7), stride=(1, 1), padding=(3, 3), groups=108, bias=False)\n",
       "        (pointwise_conv2d): Conv2d(108, 108, kernel_size=(1, 1), stride=(1, 1), bias=False)\n",
       "      )\n",
       "      (bn_sep_2): BatchNorm2d(108, eps=0.001, momentum=0.1, affine=True, track_running_stats=True)\n",
       "    )\n",
       "    (comb_iter_1_right): MaxPool(\n",
       "      (pool): MaxPool2d(kernel_size=3, stride=2, padding=1, dilation=1, ceil_mode=False)\n",
       "    )\n",
       "    (comb_iter_2_left): BranchSeparables(\n",
       "      (relu_1): ReLU()\n",
       "      (separable_1): SeparableConv2d(\n",
       "        (depthwise_conv2d): Conv2d(108, 108, kernel_size=(5, 5), stride=(2, 2), padding=(2, 2), groups=108, bias=False)\n",
       "        (pointwise_conv2d): Conv2d(108, 108, kernel_size=(1, 1), stride=(1, 1), bias=False)\n",
       "      )\n",
       "      (bn_sep_1): BatchNorm2d(108, eps=0.001, momentum=0.1, affine=True, track_running_stats=True)\n",
       "      (relu_2): ReLU()\n",
       "      (separable_2): SeparableConv2d(\n",
       "        (depthwise_conv2d): Conv2d(108, 108, kernel_size=(5, 5), stride=(1, 1), padding=(2, 2), groups=108, bias=False)\n",
       "        (pointwise_conv2d): Conv2d(108, 108, kernel_size=(1, 1), stride=(1, 1), bias=False)\n",
       "      )\n",
       "      (bn_sep_2): BatchNorm2d(108, eps=0.001, momentum=0.1, affine=True, track_running_stats=True)\n",
       "    )\n",
       "    (comb_iter_2_right): BranchSeparables(\n",
       "      (relu_1): ReLU()\n",
       "      (separable_1): SeparableConv2d(\n",
       "        (depthwise_conv2d): Conv2d(108, 108, kernel_size=(3, 3), stride=(2, 2), padding=(1, 1), groups=108, bias=False)\n",
       "        (pointwise_conv2d): Conv2d(108, 108, kernel_size=(1, 1), stride=(1, 1), bias=False)\n",
       "      )\n",
       "      (bn_sep_1): BatchNorm2d(108, eps=0.001, momentum=0.1, affine=True, track_running_stats=True)\n",
       "      (relu_2): ReLU()\n",
       "      (separable_2): SeparableConv2d(\n",
       "        (depthwise_conv2d): Conv2d(108, 108, kernel_size=(3, 3), stride=(1, 1), padding=(1, 1), groups=108, bias=False)\n",
       "        (pointwise_conv2d): Conv2d(108, 108, kernel_size=(1, 1), stride=(1, 1), bias=False)\n",
       "      )\n",
       "      (bn_sep_2): BatchNorm2d(108, eps=0.001, momentum=0.1, affine=True, track_running_stats=True)\n",
       "    )\n",
       "    (comb_iter_3_left): BranchSeparables(\n",
       "      (relu_1): ReLU()\n",
       "      (separable_1): SeparableConv2d(\n",
       "        (depthwise_conv2d): Conv2d(108, 108, kernel_size=(3, 3), stride=(1, 1), padding=(1, 1), groups=108, bias=False)\n",
       "        (pointwise_conv2d): Conv2d(108, 108, kernel_size=(1, 1), stride=(1, 1), bias=False)\n",
       "      )\n",
       "      (bn_sep_1): BatchNorm2d(108, eps=0.001, momentum=0.1, affine=True, track_running_stats=True)\n",
       "      (relu_2): ReLU()\n",
       "      (separable_2): SeparableConv2d(\n",
       "        (depthwise_conv2d): Conv2d(108, 108, kernel_size=(3, 3), stride=(1, 1), padding=(1, 1), groups=108, bias=False)\n",
       "        (pointwise_conv2d): Conv2d(108, 108, kernel_size=(1, 1), stride=(1, 1), bias=False)\n",
       "      )\n",
       "      (bn_sep_2): BatchNorm2d(108, eps=0.001, momentum=0.1, affine=True, track_running_stats=True)\n",
       "    )\n",
       "    (comb_iter_3_right): MaxPool(\n",
       "      (pool): MaxPool2d(kernel_size=3, stride=2, padding=1, dilation=1, ceil_mode=False)\n",
       "    )\n",
       "    (comb_iter_4_left): BranchSeparables(\n",
       "      (relu_1): ReLU()\n",
       "      (separable_1): SeparableConv2d(\n",
       "        (depthwise_conv2d): Conv2d(108, 108, kernel_size=(3, 3), stride=(2, 2), padding=(1, 1), groups=108, bias=False)\n",
       "        (pointwise_conv2d): Conv2d(108, 108, kernel_size=(1, 1), stride=(1, 1), bias=False)\n",
       "      )\n",
       "      (bn_sep_1): BatchNorm2d(108, eps=0.001, momentum=0.1, affine=True, track_running_stats=True)\n",
       "      (relu_2): ReLU()\n",
       "      (separable_2): SeparableConv2d(\n",
       "        (depthwise_conv2d): Conv2d(108, 108, kernel_size=(3, 3), stride=(1, 1), padding=(1, 1), groups=108, bias=False)\n",
       "        (pointwise_conv2d): Conv2d(108, 108, kernel_size=(1, 1), stride=(1, 1), bias=False)\n",
       "      )\n",
       "      (bn_sep_2): BatchNorm2d(108, eps=0.001, momentum=0.1, affine=True, track_running_stats=True)\n",
       "    )\n",
       "    (comb_iter_4_right): ReluConvBn(\n",
       "      (relu): ReLU()\n",
       "      (conv): Conv2d(108, 108, kernel_size=(1, 1), stride=(2, 2), bias=False)\n",
       "      (bn): BatchNorm2d(108, eps=0.001, momentum=0.1, affine=True, track_running_stats=True)\n",
       "    )\n",
       "  )\n",
       "  (cell_0): Cell(\n",
       "    (conv_prev_1x1): FactorizedReduction(\n",
       "      (relu): ReLU()\n",
       "      (path_1): Sequential(\n",
       "        (avgpool): AvgPool2d(kernel_size=1, stride=2, padding=0)\n",
       "        (conv): Conv2d(270, 108, kernel_size=(1, 1), stride=(1, 1), bias=False)\n",
       "      )\n",
       "      (path_2): Sequential(\n",
       "        (pad): ZeroPad2d(padding=(0, 1, 0, 1), value=0)\n",
       "        (avgpool): AvgPool2d(kernel_size=1, stride=2, padding=0)\n",
       "        (conv): Conv2d(270, 108, kernel_size=(1, 1), stride=(1, 1), bias=False)\n",
       "      )\n",
       "      (final_path_bn): BatchNorm2d(216, eps=0.001, momentum=0.1, affine=True, track_running_stats=True)\n",
       "    )\n",
       "    (conv_1x1): ReluConvBn(\n",
       "      (relu): ReLU()\n",
       "      (conv): Conv2d(540, 216, kernel_size=(1, 1), stride=(1, 1), bias=False)\n",
       "      (bn): BatchNorm2d(216, eps=0.001, momentum=0.1, affine=True, track_running_stats=True)\n",
       "    )\n",
       "    (comb_iter_0_left): BranchSeparables(\n",
       "      (relu_1): ReLU()\n",
       "      (separable_1): SeparableConv2d(\n",
       "        (depthwise_conv2d): Conv2d(216, 216, kernel_size=(5, 5), stride=(1, 1), padding=(2, 2), groups=216, bias=False)\n",
       "        (pointwise_conv2d): Conv2d(216, 216, kernel_size=(1, 1), stride=(1, 1), bias=False)\n",
       "      )\n",
       "      (bn_sep_1): BatchNorm2d(216, eps=0.001, momentum=0.1, affine=True, track_running_stats=True)\n",
       "      (relu_2): ReLU()\n",
       "      (separable_2): SeparableConv2d(\n",
       "        (depthwise_conv2d): Conv2d(216, 216, kernel_size=(5, 5), stride=(1, 1), padding=(2, 2), groups=216, bias=False)\n",
       "        (pointwise_conv2d): Conv2d(216, 216, kernel_size=(1, 1), stride=(1, 1), bias=False)\n",
       "      )\n",
       "      (bn_sep_2): BatchNorm2d(216, eps=0.001, momentum=0.1, affine=True, track_running_stats=True)\n",
       "    )\n",
       "    (comb_iter_0_right): MaxPool(\n",
       "      (pool): MaxPool2d(kernel_size=3, stride=1, padding=1, dilation=1, ceil_mode=False)\n",
       "    )\n",
       "    (comb_iter_1_left): BranchSeparables(\n",
       "      (relu_1): ReLU()\n",
       "      (separable_1): SeparableConv2d(\n",
       "        (depthwise_conv2d): Conv2d(216, 216, kernel_size=(7, 7), stride=(1, 1), padding=(3, 3), groups=216, bias=False)\n",
       "        (pointwise_conv2d): Conv2d(216, 216, kernel_size=(1, 1), stride=(1, 1), bias=False)\n",
       "      )\n",
       "      (bn_sep_1): BatchNorm2d(216, eps=0.001, momentum=0.1, affine=True, track_running_stats=True)\n",
       "      (relu_2): ReLU()\n",
       "      (separable_2): SeparableConv2d(\n",
       "        (depthwise_conv2d): Conv2d(216, 216, kernel_size=(7, 7), stride=(1, 1), padding=(3, 3), groups=216, bias=False)\n",
       "        (pointwise_conv2d): Conv2d(216, 216, kernel_size=(1, 1), stride=(1, 1), bias=False)\n",
       "      )\n",
       "      (bn_sep_2): BatchNorm2d(216, eps=0.001, momentum=0.1, affine=True, track_running_stats=True)\n",
       "    )\n",
       "    (comb_iter_1_right): MaxPool(\n",
       "      (pool): MaxPool2d(kernel_size=3, stride=1, padding=1, dilation=1, ceil_mode=False)\n",
       "    )\n",
       "    (comb_iter_2_left): BranchSeparables(\n",
       "      (relu_1): ReLU()\n",
       "      (separable_1): SeparableConv2d(\n",
       "        (depthwise_conv2d): Conv2d(216, 216, kernel_size=(5, 5), stride=(1, 1), padding=(2, 2), groups=216, bias=False)\n",
       "        (pointwise_conv2d): Conv2d(216, 216, kernel_size=(1, 1), stride=(1, 1), bias=False)\n",
       "      )\n",
       "      (bn_sep_1): BatchNorm2d(216, eps=0.001, momentum=0.1, affine=True, track_running_stats=True)\n",
       "      (relu_2): ReLU()\n",
       "      (separable_2): SeparableConv2d(\n",
       "        (depthwise_conv2d): Conv2d(216, 216, kernel_size=(5, 5), stride=(1, 1), padding=(2, 2), groups=216, bias=False)\n",
       "        (pointwise_conv2d): Conv2d(216, 216, kernel_size=(1, 1), stride=(1, 1), bias=False)\n",
       "      )\n",
       "      (bn_sep_2): BatchNorm2d(216, eps=0.001, momentum=0.1, affine=True, track_running_stats=True)\n",
       "    )\n",
       "    (comb_iter_2_right): BranchSeparables(\n",
       "      (relu_1): ReLU()\n",
       "      (separable_1): SeparableConv2d(\n",
       "        (depthwise_conv2d): Conv2d(216, 216, kernel_size=(3, 3), stride=(1, 1), padding=(1, 1), groups=216, bias=False)\n",
       "        (pointwise_conv2d): Conv2d(216, 216, kernel_size=(1, 1), stride=(1, 1), bias=False)\n",
       "      )\n",
       "      (bn_sep_1): BatchNorm2d(216, eps=0.001, momentum=0.1, affine=True, track_running_stats=True)\n",
       "      (relu_2): ReLU()\n",
       "      (separable_2): SeparableConv2d(\n",
       "        (depthwise_conv2d): Conv2d(216, 216, kernel_size=(3, 3), stride=(1, 1), padding=(1, 1), groups=216, bias=False)\n",
       "        (pointwise_conv2d): Conv2d(216, 216, kernel_size=(1, 1), stride=(1, 1), bias=False)\n",
       "      )\n",
       "      (bn_sep_2): BatchNorm2d(216, eps=0.001, momentum=0.1, affine=True, track_running_stats=True)\n",
       "    )\n",
       "    (comb_iter_3_left): BranchSeparables(\n",
       "      (relu_1): ReLU()\n",
       "      (separable_1): SeparableConv2d(\n",
       "        (depthwise_conv2d): Conv2d(216, 216, kernel_size=(3, 3), stride=(1, 1), padding=(1, 1), groups=216, bias=False)\n",
       "        (pointwise_conv2d): Conv2d(216, 216, kernel_size=(1, 1), stride=(1, 1), bias=False)\n",
       "      )\n",
       "      (bn_sep_1): BatchNorm2d(216, eps=0.001, momentum=0.1, affine=True, track_running_stats=True)\n",
       "      (relu_2): ReLU()\n",
       "      (separable_2): SeparableConv2d(\n",
       "        (depthwise_conv2d): Conv2d(216, 216, kernel_size=(3, 3), stride=(1, 1), padding=(1, 1), groups=216, bias=False)\n",
       "        (pointwise_conv2d): Conv2d(216, 216, kernel_size=(1, 1), stride=(1, 1), bias=False)\n",
       "      )\n",
       "      (bn_sep_2): BatchNorm2d(216, eps=0.001, momentum=0.1, affine=True, track_running_stats=True)\n",
       "    )\n",
       "    (comb_iter_3_right): MaxPool(\n",
       "      (pool): MaxPool2d(kernel_size=3, stride=1, padding=1, dilation=1, ceil_mode=False)\n",
       "    )\n",
       "    (comb_iter_4_left): BranchSeparables(\n",
       "      (relu_1): ReLU()\n",
       "      (separable_1): SeparableConv2d(\n",
       "        (depthwise_conv2d): Conv2d(216, 216, kernel_size=(3, 3), stride=(1, 1), padding=(1, 1), groups=216, bias=False)\n",
       "        (pointwise_conv2d): Conv2d(216, 216, kernel_size=(1, 1), stride=(1, 1), bias=False)\n",
       "      )\n",
       "      (bn_sep_1): BatchNorm2d(216, eps=0.001, momentum=0.1, affine=True, track_running_stats=True)\n",
       "      (relu_2): ReLU()\n",
       "      (separable_2): SeparableConv2d(\n",
       "        (depthwise_conv2d): Conv2d(216, 216, kernel_size=(3, 3), stride=(1, 1), padding=(1, 1), groups=216, bias=False)\n",
       "        (pointwise_conv2d): Conv2d(216, 216, kernel_size=(1, 1), stride=(1, 1), bias=False)\n",
       "      )\n",
       "      (bn_sep_2): BatchNorm2d(216, eps=0.001, momentum=0.1, affine=True, track_running_stats=True)\n",
       "    )\n",
       "  )\n",
       "  (cell_1): Cell(\n",
       "    (conv_prev_1x1): ReluConvBn(\n",
       "      (relu): ReLU()\n",
       "      (conv): Conv2d(540, 216, kernel_size=(1, 1), stride=(1, 1), bias=False)\n",
       "      (bn): BatchNorm2d(216, eps=0.001, momentum=0.1, affine=True, track_running_stats=True)\n",
       "    )\n",
       "    (conv_1x1): ReluConvBn(\n",
       "      (relu): ReLU()\n",
       "      (conv): Conv2d(1080, 216, kernel_size=(1, 1), stride=(1, 1), bias=False)\n",
       "      (bn): BatchNorm2d(216, eps=0.001, momentum=0.1, affine=True, track_running_stats=True)\n",
       "    )\n",
       "    (comb_iter_0_left): BranchSeparables(\n",
       "      (relu_1): ReLU()\n",
       "      (separable_1): SeparableConv2d(\n",
       "        (depthwise_conv2d): Conv2d(216, 216, kernel_size=(5, 5), stride=(1, 1), padding=(2, 2), groups=216, bias=False)\n",
       "        (pointwise_conv2d): Conv2d(216, 216, kernel_size=(1, 1), stride=(1, 1), bias=False)\n",
       "      )\n",
       "      (bn_sep_1): BatchNorm2d(216, eps=0.001, momentum=0.1, affine=True, track_running_stats=True)\n",
       "      (relu_2): ReLU()\n",
       "      (separable_2): SeparableConv2d(\n",
       "        (depthwise_conv2d): Conv2d(216, 216, kernel_size=(5, 5), stride=(1, 1), padding=(2, 2), groups=216, bias=False)\n",
       "        (pointwise_conv2d): Conv2d(216, 216, kernel_size=(1, 1), stride=(1, 1), bias=False)\n",
       "      )\n",
       "      (bn_sep_2): BatchNorm2d(216, eps=0.001, momentum=0.1, affine=True, track_running_stats=True)\n",
       "    )\n",
       "    (comb_iter_0_right): MaxPool(\n",
       "      (pool): MaxPool2d(kernel_size=3, stride=1, padding=1, dilation=1, ceil_mode=False)\n",
       "    )\n",
       "    (comb_iter_1_left): BranchSeparables(\n",
       "      (relu_1): ReLU()\n",
       "      (separable_1): SeparableConv2d(\n",
       "        (depthwise_conv2d): Conv2d(216, 216, kernel_size=(7, 7), stride=(1, 1), padding=(3, 3), groups=216, bias=False)\n",
       "        (pointwise_conv2d): Conv2d(216, 216, kernel_size=(1, 1), stride=(1, 1), bias=False)\n",
       "      )\n",
       "      (bn_sep_1): BatchNorm2d(216, eps=0.001, momentum=0.1, affine=True, track_running_stats=True)\n",
       "      (relu_2): ReLU()\n",
       "      (separable_2): SeparableConv2d(\n",
       "        (depthwise_conv2d): Conv2d(216, 216, kernel_size=(7, 7), stride=(1, 1), padding=(3, 3), groups=216, bias=False)\n",
       "        (pointwise_conv2d): Conv2d(216, 216, kernel_size=(1, 1), stride=(1, 1), bias=False)\n",
       "      )\n",
       "      (bn_sep_2): BatchNorm2d(216, eps=0.001, momentum=0.1, affine=True, track_running_stats=True)\n",
       "    )\n",
       "    (comb_iter_1_right): MaxPool(\n",
       "      (pool): MaxPool2d(kernel_size=3, stride=1, padding=1, dilation=1, ceil_mode=False)\n",
       "    )\n",
       "    (comb_iter_2_left): BranchSeparables(\n",
       "      (relu_1): ReLU()\n",
       "      (separable_1): SeparableConv2d(\n",
       "        (depthwise_conv2d): Conv2d(216, 216, kernel_size=(5, 5), stride=(1, 1), padding=(2, 2), groups=216, bias=False)\n",
       "        (pointwise_conv2d): Conv2d(216, 216, kernel_size=(1, 1), stride=(1, 1), bias=False)\n",
       "      )\n",
       "      (bn_sep_1): BatchNorm2d(216, eps=0.001, momentum=0.1, affine=True, track_running_stats=True)\n",
       "      (relu_2): ReLU()\n",
       "      (separable_2): SeparableConv2d(\n",
       "        (depthwise_conv2d): Conv2d(216, 216, kernel_size=(5, 5), stride=(1, 1), padding=(2, 2), groups=216, bias=False)\n",
       "        (pointwise_conv2d): Conv2d(216, 216, kernel_size=(1, 1), stride=(1, 1), bias=False)\n",
       "      )\n",
       "      (bn_sep_2): BatchNorm2d(216, eps=0.001, momentum=0.1, affine=True, track_running_stats=True)\n",
       "    )\n",
       "    (comb_iter_2_right): BranchSeparables(\n",
       "      (relu_1): ReLU()\n",
       "      (separable_1): SeparableConv2d(\n",
       "        (depthwise_conv2d): Conv2d(216, 216, kernel_size=(3, 3), stride=(1, 1), padding=(1, 1), groups=216, bias=False)\n",
       "        (pointwise_conv2d): Conv2d(216, 216, kernel_size=(1, 1), stride=(1, 1), bias=False)\n",
       "      )\n",
       "      (bn_sep_1): BatchNorm2d(216, eps=0.001, momentum=0.1, affine=True, track_running_stats=True)\n",
       "      (relu_2): ReLU()\n",
       "      (separable_2): SeparableConv2d(\n",
       "        (depthwise_conv2d): Conv2d(216, 216, kernel_size=(3, 3), stride=(1, 1), padding=(1, 1), groups=216, bias=False)\n",
       "        (pointwise_conv2d): Conv2d(216, 216, kernel_size=(1, 1), stride=(1, 1), bias=False)\n",
       "      )\n",
       "      (bn_sep_2): BatchNorm2d(216, eps=0.001, momentum=0.1, affine=True, track_running_stats=True)\n",
       "    )\n",
       "    (comb_iter_3_left): BranchSeparables(\n",
       "      (relu_1): ReLU()\n",
       "      (separable_1): SeparableConv2d(\n",
       "        (depthwise_conv2d): Conv2d(216, 216, kernel_size=(3, 3), stride=(1, 1), padding=(1, 1), groups=216, bias=False)\n",
       "        (pointwise_conv2d): Conv2d(216, 216, kernel_size=(1, 1), stride=(1, 1), bias=False)\n",
       "      )\n",
       "      (bn_sep_1): BatchNorm2d(216, eps=0.001, momentum=0.1, affine=True, track_running_stats=True)\n",
       "      (relu_2): ReLU()\n",
       "      (separable_2): SeparableConv2d(\n",
       "        (depthwise_conv2d): Conv2d(216, 216, kernel_size=(3, 3), stride=(1, 1), padding=(1, 1), groups=216, bias=False)\n",
       "        (pointwise_conv2d): Conv2d(216, 216, kernel_size=(1, 1), stride=(1, 1), bias=False)\n",
       "      )\n",
       "      (bn_sep_2): BatchNorm2d(216, eps=0.001, momentum=0.1, affine=True, track_running_stats=True)\n",
       "    )\n",
       "    (comb_iter_3_right): MaxPool(\n",
       "      (pool): MaxPool2d(kernel_size=3, stride=1, padding=1, dilation=1, ceil_mode=False)\n",
       "    )\n",
       "    (comb_iter_4_left): BranchSeparables(\n",
       "      (relu_1): ReLU()\n",
       "      (separable_1): SeparableConv2d(\n",
       "        (depthwise_conv2d): Conv2d(216, 216, kernel_size=(3, 3), stride=(1, 1), padding=(1, 1), groups=216, bias=False)\n",
       "        (pointwise_conv2d): Conv2d(216, 216, kernel_size=(1, 1), stride=(1, 1), bias=False)\n",
       "      )\n",
       "      (bn_sep_1): BatchNorm2d(216, eps=0.001, momentum=0.1, affine=True, track_running_stats=True)\n",
       "      (relu_2): ReLU()\n",
       "      (separable_2): SeparableConv2d(\n",
       "        (depthwise_conv2d): Conv2d(216, 216, kernel_size=(3, 3), stride=(1, 1), padding=(1, 1), groups=216, bias=False)\n",
       "        (pointwise_conv2d): Conv2d(216, 216, kernel_size=(1, 1), stride=(1, 1), bias=False)\n",
       "      )\n",
       "      (bn_sep_2): BatchNorm2d(216, eps=0.001, momentum=0.1, affine=True, track_running_stats=True)\n",
       "    )\n",
       "  )\n",
       "  (cell_2): Cell(\n",
       "    (conv_prev_1x1): ReluConvBn(\n",
       "      (relu): ReLU()\n",
       "      (conv): Conv2d(1080, 216, kernel_size=(1, 1), stride=(1, 1), bias=False)\n",
       "      (bn): BatchNorm2d(216, eps=0.001, momentum=0.1, affine=True, track_running_stats=True)\n",
       "    )\n",
       "    (conv_1x1): ReluConvBn(\n",
       "      (relu): ReLU()\n",
       "      (conv): Conv2d(1080, 216, kernel_size=(1, 1), stride=(1, 1), bias=False)\n",
       "      (bn): BatchNorm2d(216, eps=0.001, momentum=0.1, affine=True, track_running_stats=True)\n",
       "    )\n",
       "    (comb_iter_0_left): BranchSeparables(\n",
       "      (relu_1): ReLU()\n",
       "      (separable_1): SeparableConv2d(\n",
       "        (depthwise_conv2d): Conv2d(216, 216, kernel_size=(5, 5), stride=(1, 1), padding=(2, 2), groups=216, bias=False)\n",
       "        (pointwise_conv2d): Conv2d(216, 216, kernel_size=(1, 1), stride=(1, 1), bias=False)\n",
       "      )\n",
       "      (bn_sep_1): BatchNorm2d(216, eps=0.001, momentum=0.1, affine=True, track_running_stats=True)\n",
       "      (relu_2): ReLU()\n",
       "      (separable_2): SeparableConv2d(\n",
       "        (depthwise_conv2d): Conv2d(216, 216, kernel_size=(5, 5), stride=(1, 1), padding=(2, 2), groups=216, bias=False)\n",
       "        (pointwise_conv2d): Conv2d(216, 216, kernel_size=(1, 1), stride=(1, 1), bias=False)\n",
       "      )\n",
       "      (bn_sep_2): BatchNorm2d(216, eps=0.001, momentum=0.1, affine=True, track_running_stats=True)\n",
       "    )\n",
       "    (comb_iter_0_right): MaxPool(\n",
       "      (pool): MaxPool2d(kernel_size=3, stride=1, padding=1, dilation=1, ceil_mode=False)\n",
       "    )\n",
       "    (comb_iter_1_left): BranchSeparables(\n",
       "      (relu_1): ReLU()\n",
       "      (separable_1): SeparableConv2d(\n",
       "        (depthwise_conv2d): Conv2d(216, 216, kernel_size=(7, 7), stride=(1, 1), padding=(3, 3), groups=216, bias=False)\n",
       "        (pointwise_conv2d): Conv2d(216, 216, kernel_size=(1, 1), stride=(1, 1), bias=False)\n",
       "      )\n",
       "      (bn_sep_1): BatchNorm2d(216, eps=0.001, momentum=0.1, affine=True, track_running_stats=True)\n",
       "      (relu_2): ReLU()\n",
       "      (separable_2): SeparableConv2d(\n",
       "        (depthwise_conv2d): Conv2d(216, 216, kernel_size=(7, 7), stride=(1, 1), padding=(3, 3), groups=216, bias=False)\n",
       "        (pointwise_conv2d): Conv2d(216, 216, kernel_size=(1, 1), stride=(1, 1), bias=False)\n",
       "      )\n",
       "      (bn_sep_2): BatchNorm2d(216, eps=0.001, momentum=0.1, affine=True, track_running_stats=True)\n",
       "    )\n",
       "    (comb_iter_1_right): MaxPool(\n",
       "      (pool): MaxPool2d(kernel_size=3, stride=1, padding=1, dilation=1, ceil_mode=False)\n",
       "    )\n",
       "    (comb_iter_2_left): BranchSeparables(\n",
       "      (relu_1): ReLU()\n",
       "      (separable_1): SeparableConv2d(\n",
       "        (depthwise_conv2d): Conv2d(216, 216, kernel_size=(5, 5), stride=(1, 1), padding=(2, 2), groups=216, bias=False)\n",
       "        (pointwise_conv2d): Conv2d(216, 216, kernel_size=(1, 1), stride=(1, 1), bias=False)\n",
       "      )\n",
       "      (bn_sep_1): BatchNorm2d(216, eps=0.001, momentum=0.1, affine=True, track_running_stats=True)\n",
       "      (relu_2): ReLU()\n",
       "      (separable_2): SeparableConv2d(\n",
       "        (depthwise_conv2d): Conv2d(216, 216, kernel_size=(5, 5), stride=(1, 1), padding=(2, 2), groups=216, bias=False)\n",
       "        (pointwise_conv2d): Conv2d(216, 216, kernel_size=(1, 1), stride=(1, 1), bias=False)\n",
       "      )\n",
       "      (bn_sep_2): BatchNorm2d(216, eps=0.001, momentum=0.1, affine=True, track_running_stats=True)\n",
       "    )\n",
       "    (comb_iter_2_right): BranchSeparables(\n",
       "      (relu_1): ReLU()\n",
       "      (separable_1): SeparableConv2d(\n",
       "        (depthwise_conv2d): Conv2d(216, 216, kernel_size=(3, 3), stride=(1, 1), padding=(1, 1), groups=216, bias=False)\n",
       "        (pointwise_conv2d): Conv2d(216, 216, kernel_size=(1, 1), stride=(1, 1), bias=False)\n",
       "      )\n",
       "      (bn_sep_1): BatchNorm2d(216, eps=0.001, momentum=0.1, affine=True, track_running_stats=True)\n",
       "      (relu_2): ReLU()\n",
       "      (separable_2): SeparableConv2d(\n",
       "        (depthwise_conv2d): Conv2d(216, 216, kernel_size=(3, 3), stride=(1, 1), padding=(1, 1), groups=216, bias=False)\n",
       "        (pointwise_conv2d): Conv2d(216, 216, kernel_size=(1, 1), stride=(1, 1), bias=False)\n",
       "      )\n",
       "      (bn_sep_2): BatchNorm2d(216, eps=0.001, momentum=0.1, affine=True, track_running_stats=True)\n",
       "    )\n",
       "    (comb_iter_3_left): BranchSeparables(\n",
       "      (relu_1): ReLU()\n",
       "      (separable_1): SeparableConv2d(\n",
       "        (depthwise_conv2d): Conv2d(216, 216, kernel_size=(3, 3), stride=(1, 1), padding=(1, 1), groups=216, bias=False)\n",
       "        (pointwise_conv2d): Conv2d(216, 216, kernel_size=(1, 1), stride=(1, 1), bias=False)\n",
       "      )\n",
       "      (bn_sep_1): BatchNorm2d(216, eps=0.001, momentum=0.1, affine=True, track_running_stats=True)\n",
       "      (relu_2): ReLU()\n",
       "      (separable_2): SeparableConv2d(\n",
       "        (depthwise_conv2d): Conv2d(216, 216, kernel_size=(3, 3), stride=(1, 1), padding=(1, 1), groups=216, bias=False)\n",
       "        (pointwise_conv2d): Conv2d(216, 216, kernel_size=(1, 1), stride=(1, 1), bias=False)\n",
       "      )\n",
       "      (bn_sep_2): BatchNorm2d(216, eps=0.001, momentum=0.1, affine=True, track_running_stats=True)\n",
       "    )\n",
       "    (comb_iter_3_right): MaxPool(\n",
       "      (pool): MaxPool2d(kernel_size=3, stride=1, padding=1, dilation=1, ceil_mode=False)\n",
       "    )\n",
       "    (comb_iter_4_left): BranchSeparables(\n",
       "      (relu_1): ReLU()\n",
       "      (separable_1): SeparableConv2d(\n",
       "        (depthwise_conv2d): Conv2d(216, 216, kernel_size=(3, 3), stride=(1, 1), padding=(1, 1), groups=216, bias=False)\n",
       "        (pointwise_conv2d): Conv2d(216, 216, kernel_size=(1, 1), stride=(1, 1), bias=False)\n",
       "      )\n",
       "      (bn_sep_1): BatchNorm2d(216, eps=0.001, momentum=0.1, affine=True, track_running_stats=True)\n",
       "      (relu_2): ReLU()\n",
       "      (separable_2): SeparableConv2d(\n",
       "        (depthwise_conv2d): Conv2d(216, 216, kernel_size=(3, 3), stride=(1, 1), padding=(1, 1), groups=216, bias=False)\n",
       "        (pointwise_conv2d): Conv2d(216, 216, kernel_size=(1, 1), stride=(1, 1), bias=False)\n",
       "      )\n",
       "      (bn_sep_2): BatchNorm2d(216, eps=0.001, momentum=0.1, affine=True, track_running_stats=True)\n",
       "    )\n",
       "  )\n",
       "  (cell_3): Cell(\n",
       "    (conv_prev_1x1): ReluConvBn(\n",
       "      (relu): ReLU()\n",
       "      (conv): Conv2d(1080, 216, kernel_size=(1, 1), stride=(1, 1), bias=False)\n",
       "      (bn): BatchNorm2d(216, eps=0.001, momentum=0.1, affine=True, track_running_stats=True)\n",
       "    )\n",
       "    (conv_1x1): ReluConvBn(\n",
       "      (relu): ReLU()\n",
       "      (conv): Conv2d(1080, 216, kernel_size=(1, 1), stride=(1, 1), bias=False)\n",
       "      (bn): BatchNorm2d(216, eps=0.001, momentum=0.1, affine=True, track_running_stats=True)\n",
       "    )\n",
       "    (comb_iter_0_left): BranchSeparables(\n",
       "      (relu_1): ReLU()\n",
       "      (separable_1): SeparableConv2d(\n",
       "        (depthwise_conv2d): Conv2d(216, 216, kernel_size=(5, 5), stride=(1, 1), padding=(2, 2), groups=216, bias=False)\n",
       "        (pointwise_conv2d): Conv2d(216, 216, kernel_size=(1, 1), stride=(1, 1), bias=False)\n",
       "      )\n",
       "      (bn_sep_1): BatchNorm2d(216, eps=0.001, momentum=0.1, affine=True, track_running_stats=True)\n",
       "      (relu_2): ReLU()\n",
       "      (separable_2): SeparableConv2d(\n",
       "        (depthwise_conv2d): Conv2d(216, 216, kernel_size=(5, 5), stride=(1, 1), padding=(2, 2), groups=216, bias=False)\n",
       "        (pointwise_conv2d): Conv2d(216, 216, kernel_size=(1, 1), stride=(1, 1), bias=False)\n",
       "      )\n",
       "      (bn_sep_2): BatchNorm2d(216, eps=0.001, momentum=0.1, affine=True, track_running_stats=True)\n",
       "    )\n",
       "    (comb_iter_0_right): MaxPool(\n",
       "      (pool): MaxPool2d(kernel_size=3, stride=1, padding=1, dilation=1, ceil_mode=False)\n",
       "    )\n",
       "    (comb_iter_1_left): BranchSeparables(\n",
       "      (relu_1): ReLU()\n",
       "      (separable_1): SeparableConv2d(\n",
       "        (depthwise_conv2d): Conv2d(216, 216, kernel_size=(7, 7), stride=(1, 1), padding=(3, 3), groups=216, bias=False)\n",
       "        (pointwise_conv2d): Conv2d(216, 216, kernel_size=(1, 1), stride=(1, 1), bias=False)\n",
       "      )\n",
       "      (bn_sep_1): BatchNorm2d(216, eps=0.001, momentum=0.1, affine=True, track_running_stats=True)\n",
       "      (relu_2): ReLU()\n",
       "      (separable_2): SeparableConv2d(\n",
       "        (depthwise_conv2d): Conv2d(216, 216, kernel_size=(7, 7), stride=(1, 1), padding=(3, 3), groups=216, bias=False)\n",
       "        (pointwise_conv2d): Conv2d(216, 216, kernel_size=(1, 1), stride=(1, 1), bias=False)\n",
       "      )\n",
       "      (bn_sep_2): BatchNorm2d(216, eps=0.001, momentum=0.1, affine=True, track_running_stats=True)\n",
       "    )\n",
       "    (comb_iter_1_right): MaxPool(\n",
       "      (pool): MaxPool2d(kernel_size=3, stride=1, padding=1, dilation=1, ceil_mode=False)\n",
       "    )\n",
       "    (comb_iter_2_left): BranchSeparables(\n",
       "      (relu_1): ReLU()\n",
       "      (separable_1): SeparableConv2d(\n",
       "        (depthwise_conv2d): Conv2d(216, 216, kernel_size=(5, 5), stride=(1, 1), padding=(2, 2), groups=216, bias=False)\n",
       "        (pointwise_conv2d): Conv2d(216, 216, kernel_size=(1, 1), stride=(1, 1), bias=False)\n",
       "      )\n",
       "      (bn_sep_1): BatchNorm2d(216, eps=0.001, momentum=0.1, affine=True, track_running_stats=True)\n",
       "      (relu_2): ReLU()\n",
       "      (separable_2): SeparableConv2d(\n",
       "        (depthwise_conv2d): Conv2d(216, 216, kernel_size=(5, 5), stride=(1, 1), padding=(2, 2), groups=216, bias=False)\n",
       "        (pointwise_conv2d): Conv2d(216, 216, kernel_size=(1, 1), stride=(1, 1), bias=False)\n",
       "      )\n",
       "      (bn_sep_2): BatchNorm2d(216, eps=0.001, momentum=0.1, affine=True, track_running_stats=True)\n",
       "    )\n",
       "    (comb_iter_2_right): BranchSeparables(\n",
       "      (relu_1): ReLU()\n",
       "      (separable_1): SeparableConv2d(\n",
       "        (depthwise_conv2d): Conv2d(216, 216, kernel_size=(3, 3), stride=(1, 1), padding=(1, 1), groups=216, bias=False)\n",
       "        (pointwise_conv2d): Conv2d(216, 216, kernel_size=(1, 1), stride=(1, 1), bias=False)\n",
       "      )\n",
       "      (bn_sep_1): BatchNorm2d(216, eps=0.001, momentum=0.1, affine=True, track_running_stats=True)\n",
       "      (relu_2): ReLU()\n",
       "      (separable_2): SeparableConv2d(\n",
       "        (depthwise_conv2d): Conv2d(216, 216, kernel_size=(3, 3), stride=(1, 1), padding=(1, 1), groups=216, bias=False)\n",
       "        (pointwise_conv2d): Conv2d(216, 216, kernel_size=(1, 1), stride=(1, 1), bias=False)\n",
       "      )\n",
       "      (bn_sep_2): BatchNorm2d(216, eps=0.001, momentum=0.1, affine=True, track_running_stats=True)\n",
       "    )\n",
       "    (comb_iter_3_left): BranchSeparables(\n",
       "      (relu_1): ReLU()\n",
       "      (separable_1): SeparableConv2d(\n",
       "        (depthwise_conv2d): Conv2d(216, 216, kernel_size=(3, 3), stride=(1, 1), padding=(1, 1), groups=216, bias=False)\n",
       "        (pointwise_conv2d): Conv2d(216, 216, kernel_size=(1, 1), stride=(1, 1), bias=False)\n",
       "      )\n",
       "      (bn_sep_1): BatchNorm2d(216, eps=0.001, momentum=0.1, affine=True, track_running_stats=True)\n",
       "      (relu_2): ReLU()\n",
       "      (separable_2): SeparableConv2d(\n",
       "        (depthwise_conv2d): Conv2d(216, 216, kernel_size=(3, 3), stride=(1, 1), padding=(1, 1), groups=216, bias=False)\n",
       "        (pointwise_conv2d): Conv2d(216, 216, kernel_size=(1, 1), stride=(1, 1), bias=False)\n",
       "      )\n",
       "      (bn_sep_2): BatchNorm2d(216, eps=0.001, momentum=0.1, affine=True, track_running_stats=True)\n",
       "    )\n",
       "    (comb_iter_3_right): MaxPool(\n",
       "      (pool): MaxPool2d(kernel_size=3, stride=1, padding=1, dilation=1, ceil_mode=False)\n",
       "    )\n",
       "    (comb_iter_4_left): BranchSeparables(\n",
       "      (relu_1): ReLU()\n",
       "      (separable_1): SeparableConv2d(\n",
       "        (depthwise_conv2d): Conv2d(216, 216, kernel_size=(3, 3), stride=(1, 1), padding=(1, 1), groups=216, bias=False)\n",
       "        (pointwise_conv2d): Conv2d(216, 216, kernel_size=(1, 1), stride=(1, 1), bias=False)\n",
       "      )\n",
       "      (bn_sep_1): BatchNorm2d(216, eps=0.001, momentum=0.1, affine=True, track_running_stats=True)\n",
       "      (relu_2): ReLU()\n",
       "      (separable_2): SeparableConv2d(\n",
       "        (depthwise_conv2d): Conv2d(216, 216, kernel_size=(3, 3), stride=(1, 1), padding=(1, 1), groups=216, bias=False)\n",
       "        (pointwise_conv2d): Conv2d(216, 216, kernel_size=(1, 1), stride=(1, 1), bias=False)\n",
       "      )\n",
       "      (bn_sep_2): BatchNorm2d(216, eps=0.001, momentum=0.1, affine=True, track_running_stats=True)\n",
       "    )\n",
       "  )\n",
       "  (cell_4): Cell(\n",
       "    (conv_prev_1x1): ReluConvBn(\n",
       "      (relu): ReLU()\n",
       "      (conv): Conv2d(1080, 432, kernel_size=(1, 1), stride=(1, 1), bias=False)\n",
       "      (bn): BatchNorm2d(432, eps=0.001, momentum=0.1, affine=True, track_running_stats=True)\n",
       "    )\n",
       "    (conv_1x1): ReluConvBn(\n",
       "      (relu): ReLU()\n",
       "      (conv): Conv2d(1080, 432, kernel_size=(1, 1), stride=(1, 1), bias=False)\n",
       "      (bn): BatchNorm2d(432, eps=0.001, momentum=0.1, affine=True, track_running_stats=True)\n",
       "    )\n",
       "    (comb_iter_0_left): BranchSeparables(\n",
       "      (zero_pad): ZeroPad2d(padding=(1, 0, 1, 0), value=0)\n",
       "      (relu_1): ReLU()\n",
       "      (separable_1): SeparableConv2d(\n",
       "        (depthwise_conv2d): Conv2d(432, 432, kernel_size=(5, 5), stride=(2, 2), padding=(2, 2), groups=432, bias=False)\n",
       "        (pointwise_conv2d): Conv2d(432, 432, kernel_size=(1, 1), stride=(1, 1), bias=False)\n",
       "      )\n",
       "      (bn_sep_1): BatchNorm2d(432, eps=0.001, momentum=0.1, affine=True, track_running_stats=True)\n",
       "      (relu_2): ReLU()\n",
       "      (separable_2): SeparableConv2d(\n",
       "        (depthwise_conv2d): Conv2d(432, 432, kernel_size=(5, 5), stride=(1, 1), padding=(2, 2), groups=432, bias=False)\n",
       "        (pointwise_conv2d): Conv2d(432, 432, kernel_size=(1, 1), stride=(1, 1), bias=False)\n",
       "      )\n",
       "      (bn_sep_2): BatchNorm2d(432, eps=0.001, momentum=0.1, affine=True, track_running_stats=True)\n",
       "    )\n",
       "    (comb_iter_0_right): MaxPool(\n",
       "      (zero_pad): ZeroPad2d(padding=(1, 0, 1, 0), value=0)\n",
       "      (pool): MaxPool2d(kernel_size=3, stride=2, padding=1, dilation=1, ceil_mode=False)\n",
       "    )\n",
       "    (comb_iter_1_left): BranchSeparables(\n",
       "      (zero_pad): ZeroPad2d(padding=(1, 0, 1, 0), value=0)\n",
       "      (relu_1): ReLU()\n",
       "      (separable_1): SeparableConv2d(\n",
       "        (depthwise_conv2d): Conv2d(432, 432, kernel_size=(7, 7), stride=(2, 2), padding=(3, 3), groups=432, bias=False)\n",
       "        (pointwise_conv2d): Conv2d(432, 432, kernel_size=(1, 1), stride=(1, 1), bias=False)\n",
       "      )\n",
       "      (bn_sep_1): BatchNorm2d(432, eps=0.001, momentum=0.1, affine=True, track_running_stats=True)\n",
       "      (relu_2): ReLU()\n",
       "      (separable_2): SeparableConv2d(\n",
       "        (depthwise_conv2d): Conv2d(432, 432, kernel_size=(7, 7), stride=(1, 1), padding=(3, 3), groups=432, bias=False)\n",
       "        (pointwise_conv2d): Conv2d(432, 432, kernel_size=(1, 1), stride=(1, 1), bias=False)\n",
       "      )\n",
       "      (bn_sep_2): BatchNorm2d(432, eps=0.001, momentum=0.1, affine=True, track_running_stats=True)\n",
       "    )\n",
       "    (comb_iter_1_right): MaxPool(\n",
       "      (zero_pad): ZeroPad2d(padding=(1, 0, 1, 0), value=0)\n",
       "      (pool): MaxPool2d(kernel_size=3, stride=2, padding=1, dilation=1, ceil_mode=False)\n",
       "    )\n",
       "    (comb_iter_2_left): BranchSeparables(\n",
       "      (zero_pad): ZeroPad2d(padding=(1, 0, 1, 0), value=0)\n",
       "      (relu_1): ReLU()\n",
       "      (separable_1): SeparableConv2d(\n",
       "        (depthwise_conv2d): Conv2d(432, 432, kernel_size=(5, 5), stride=(2, 2), padding=(2, 2), groups=432, bias=False)\n",
       "        (pointwise_conv2d): Conv2d(432, 432, kernel_size=(1, 1), stride=(1, 1), bias=False)\n",
       "      )\n",
       "      (bn_sep_1): BatchNorm2d(432, eps=0.001, momentum=0.1, affine=True, track_running_stats=True)\n",
       "      (relu_2): ReLU()\n",
       "      (separable_2): SeparableConv2d(\n",
       "        (depthwise_conv2d): Conv2d(432, 432, kernel_size=(5, 5), stride=(1, 1), padding=(2, 2), groups=432, bias=False)\n",
       "        (pointwise_conv2d): Conv2d(432, 432, kernel_size=(1, 1), stride=(1, 1), bias=False)\n",
       "      )\n",
       "      (bn_sep_2): BatchNorm2d(432, eps=0.001, momentum=0.1, affine=True, track_running_stats=True)\n",
       "    )\n",
       "    (comb_iter_2_right): BranchSeparables(\n",
       "      (zero_pad): ZeroPad2d(padding=(1, 0, 1, 0), value=0)\n",
       "      (relu_1): ReLU()\n",
       "      (separable_1): SeparableConv2d(\n",
       "        (depthwise_conv2d): Conv2d(432, 432, kernel_size=(3, 3), stride=(2, 2), padding=(1, 1), groups=432, bias=False)\n",
       "        (pointwise_conv2d): Conv2d(432, 432, kernel_size=(1, 1), stride=(1, 1), bias=False)\n",
       "      )\n",
       "      (bn_sep_1): BatchNorm2d(432, eps=0.001, momentum=0.1, affine=True, track_running_stats=True)\n",
       "      (relu_2): ReLU()\n",
       "      (separable_2): SeparableConv2d(\n",
       "        (depthwise_conv2d): Conv2d(432, 432, kernel_size=(3, 3), stride=(1, 1), padding=(1, 1), groups=432, bias=False)\n",
       "        (pointwise_conv2d): Conv2d(432, 432, kernel_size=(1, 1), stride=(1, 1), bias=False)\n",
       "      )\n",
       "      (bn_sep_2): BatchNorm2d(432, eps=0.001, momentum=0.1, affine=True, track_running_stats=True)\n",
       "    )\n",
       "    (comb_iter_3_left): BranchSeparables(\n",
       "      (relu_1): ReLU()\n",
       "      (separable_1): SeparableConv2d(\n",
       "        (depthwise_conv2d): Conv2d(432, 432, kernel_size=(3, 3), stride=(1, 1), padding=(1, 1), groups=432, bias=False)\n",
       "        (pointwise_conv2d): Conv2d(432, 432, kernel_size=(1, 1), stride=(1, 1), bias=False)\n",
       "      )\n",
       "      (bn_sep_1): BatchNorm2d(432, eps=0.001, momentum=0.1, affine=True, track_running_stats=True)\n",
       "      (relu_2): ReLU()\n",
       "      (separable_2): SeparableConv2d(\n",
       "        (depthwise_conv2d): Conv2d(432, 432, kernel_size=(3, 3), stride=(1, 1), padding=(1, 1), groups=432, bias=False)\n",
       "        (pointwise_conv2d): Conv2d(432, 432, kernel_size=(1, 1), stride=(1, 1), bias=False)\n",
       "      )\n",
       "      (bn_sep_2): BatchNorm2d(432, eps=0.001, momentum=0.1, affine=True, track_running_stats=True)\n",
       "    )\n",
       "    (comb_iter_3_right): MaxPool(\n",
       "      (zero_pad): ZeroPad2d(padding=(1, 0, 1, 0), value=0)\n",
       "      (pool): MaxPool2d(kernel_size=3, stride=2, padding=1, dilation=1, ceil_mode=False)\n",
       "    )\n",
       "    (comb_iter_4_left): BranchSeparables(\n",
       "      (zero_pad): ZeroPad2d(padding=(1, 0, 1, 0), value=0)\n",
       "      (relu_1): ReLU()\n",
       "      (separable_1): SeparableConv2d(\n",
       "        (depthwise_conv2d): Conv2d(432, 432, kernel_size=(3, 3), stride=(2, 2), padding=(1, 1), groups=432, bias=False)\n",
       "        (pointwise_conv2d): Conv2d(432, 432, kernel_size=(1, 1), stride=(1, 1), bias=False)\n",
       "      )\n",
       "      (bn_sep_1): BatchNorm2d(432, eps=0.001, momentum=0.1, affine=True, track_running_stats=True)\n",
       "      (relu_2): ReLU()\n",
       "      (separable_2): SeparableConv2d(\n",
       "        (depthwise_conv2d): Conv2d(432, 432, kernel_size=(3, 3), stride=(1, 1), padding=(1, 1), groups=432, bias=False)\n",
       "        (pointwise_conv2d): Conv2d(432, 432, kernel_size=(1, 1), stride=(1, 1), bias=False)\n",
       "      )\n",
       "      (bn_sep_2): BatchNorm2d(432, eps=0.001, momentum=0.1, affine=True, track_running_stats=True)\n",
       "    )\n",
       "    (comb_iter_4_right): ReluConvBn(\n",
       "      (relu): ReLU()\n",
       "      (conv): Conv2d(432, 432, kernel_size=(1, 1), stride=(2, 2), bias=False)\n",
       "      (bn): BatchNorm2d(432, eps=0.001, momentum=0.1, affine=True, track_running_stats=True)\n",
       "    )\n",
       "  )\n",
       "  (cell_5): Cell(\n",
       "    (conv_prev_1x1): FactorizedReduction(\n",
       "      (relu): ReLU()\n",
       "      (path_1): Sequential(\n",
       "        (avgpool): AvgPool2d(kernel_size=1, stride=2, padding=0)\n",
       "        (conv): Conv2d(1080, 216, kernel_size=(1, 1), stride=(1, 1), bias=False)\n",
       "      )\n",
       "      (path_2): Sequential(\n",
       "        (pad): ZeroPad2d(padding=(0, 1, 0, 1), value=0)\n",
       "        (avgpool): AvgPool2d(kernel_size=1, stride=2, padding=0)\n",
       "        (conv): Conv2d(1080, 216, kernel_size=(1, 1), stride=(1, 1), bias=False)\n",
       "      )\n",
       "      (final_path_bn): BatchNorm2d(432, eps=0.001, momentum=0.1, affine=True, track_running_stats=True)\n",
       "    )\n",
       "    (conv_1x1): ReluConvBn(\n",
       "      (relu): ReLU()\n",
       "      (conv): Conv2d(2160, 432, kernel_size=(1, 1), stride=(1, 1), bias=False)\n",
       "      (bn): BatchNorm2d(432, eps=0.001, momentum=0.1, affine=True, track_running_stats=True)\n",
       "    )\n",
       "    (comb_iter_0_left): BranchSeparables(\n",
       "      (relu_1): ReLU()\n",
       "      (separable_1): SeparableConv2d(\n",
       "        (depthwise_conv2d): Conv2d(432, 432, kernel_size=(5, 5), stride=(1, 1), padding=(2, 2), groups=432, bias=False)\n",
       "        (pointwise_conv2d): Conv2d(432, 432, kernel_size=(1, 1), stride=(1, 1), bias=False)\n",
       "      )\n",
       "      (bn_sep_1): BatchNorm2d(432, eps=0.001, momentum=0.1, affine=True, track_running_stats=True)\n",
       "      (relu_2): ReLU()\n",
       "      (separable_2): SeparableConv2d(\n",
       "        (depthwise_conv2d): Conv2d(432, 432, kernel_size=(5, 5), stride=(1, 1), padding=(2, 2), groups=432, bias=False)\n",
       "        (pointwise_conv2d): Conv2d(432, 432, kernel_size=(1, 1), stride=(1, 1), bias=False)\n",
       "      )\n",
       "      (bn_sep_2): BatchNorm2d(432, eps=0.001, momentum=0.1, affine=True, track_running_stats=True)\n",
       "    )\n",
       "    (comb_iter_0_right): MaxPool(\n",
       "      (pool): MaxPool2d(kernel_size=3, stride=1, padding=1, dilation=1, ceil_mode=False)\n",
       "    )\n",
       "    (comb_iter_1_left): BranchSeparables(\n",
       "      (relu_1): ReLU()\n",
       "      (separable_1): SeparableConv2d(\n",
       "        (depthwise_conv2d): Conv2d(432, 432, kernel_size=(7, 7), stride=(1, 1), padding=(3, 3), groups=432, bias=False)\n",
       "        (pointwise_conv2d): Conv2d(432, 432, kernel_size=(1, 1), stride=(1, 1), bias=False)\n",
       "      )\n",
       "      (bn_sep_1): BatchNorm2d(432, eps=0.001, momentum=0.1, affine=True, track_running_stats=True)\n",
       "      (relu_2): ReLU()\n",
       "      (separable_2): SeparableConv2d(\n",
       "        (depthwise_conv2d): Conv2d(432, 432, kernel_size=(7, 7), stride=(1, 1), padding=(3, 3), groups=432, bias=False)\n",
       "        (pointwise_conv2d): Conv2d(432, 432, kernel_size=(1, 1), stride=(1, 1), bias=False)\n",
       "      )\n",
       "      (bn_sep_2): BatchNorm2d(432, eps=0.001, momentum=0.1, affine=True, track_running_stats=True)\n",
       "    )\n",
       "    (comb_iter_1_right): MaxPool(\n",
       "      (pool): MaxPool2d(kernel_size=3, stride=1, padding=1, dilation=1, ceil_mode=False)\n",
       "    )\n",
       "    (comb_iter_2_left): BranchSeparables(\n",
       "      (relu_1): ReLU()\n",
       "      (separable_1): SeparableConv2d(\n",
       "        (depthwise_conv2d): Conv2d(432, 432, kernel_size=(5, 5), stride=(1, 1), padding=(2, 2), groups=432, bias=False)\n",
       "        (pointwise_conv2d): Conv2d(432, 432, kernel_size=(1, 1), stride=(1, 1), bias=False)\n",
       "      )\n",
       "      (bn_sep_1): BatchNorm2d(432, eps=0.001, momentum=0.1, affine=True, track_running_stats=True)\n",
       "      (relu_2): ReLU()\n",
       "      (separable_2): SeparableConv2d(\n",
       "        (depthwise_conv2d): Conv2d(432, 432, kernel_size=(5, 5), stride=(1, 1), padding=(2, 2), groups=432, bias=False)\n",
       "        (pointwise_conv2d): Conv2d(432, 432, kernel_size=(1, 1), stride=(1, 1), bias=False)\n",
       "      )\n",
       "      (bn_sep_2): BatchNorm2d(432, eps=0.001, momentum=0.1, affine=True, track_running_stats=True)\n",
       "    )\n",
       "    (comb_iter_2_right): BranchSeparables(\n",
       "      (relu_1): ReLU()\n",
       "      (separable_1): SeparableConv2d(\n",
       "        (depthwise_conv2d): Conv2d(432, 432, kernel_size=(3, 3), stride=(1, 1), padding=(1, 1), groups=432, bias=False)\n",
       "        (pointwise_conv2d): Conv2d(432, 432, kernel_size=(1, 1), stride=(1, 1), bias=False)\n",
       "      )\n",
       "      (bn_sep_1): BatchNorm2d(432, eps=0.001, momentum=0.1, affine=True, track_running_stats=True)\n",
       "      (relu_2): ReLU()\n",
       "      (separable_2): SeparableConv2d(\n",
       "        (depthwise_conv2d): Conv2d(432, 432, kernel_size=(3, 3), stride=(1, 1), padding=(1, 1), groups=432, bias=False)\n",
       "        (pointwise_conv2d): Conv2d(432, 432, kernel_size=(1, 1), stride=(1, 1), bias=False)\n",
       "      )\n",
       "      (bn_sep_2): BatchNorm2d(432, eps=0.001, momentum=0.1, affine=True, track_running_stats=True)\n",
       "    )\n",
       "    (comb_iter_3_left): BranchSeparables(\n",
       "      (relu_1): ReLU()\n",
       "      (separable_1): SeparableConv2d(\n",
       "        (depthwise_conv2d): Conv2d(432, 432, kernel_size=(3, 3), stride=(1, 1), padding=(1, 1), groups=432, bias=False)\n",
       "        (pointwise_conv2d): Conv2d(432, 432, kernel_size=(1, 1), stride=(1, 1), bias=False)\n",
       "      )\n",
       "      (bn_sep_1): BatchNorm2d(432, eps=0.001, momentum=0.1, affine=True, track_running_stats=True)\n",
       "      (relu_2): ReLU()\n",
       "      (separable_2): SeparableConv2d(\n",
       "        (depthwise_conv2d): Conv2d(432, 432, kernel_size=(3, 3), stride=(1, 1), padding=(1, 1), groups=432, bias=False)\n",
       "        (pointwise_conv2d): Conv2d(432, 432, kernel_size=(1, 1), stride=(1, 1), bias=False)\n",
       "      )\n",
       "      (bn_sep_2): BatchNorm2d(432, eps=0.001, momentum=0.1, affine=True, track_running_stats=True)\n",
       "    )\n",
       "    (comb_iter_3_right): MaxPool(\n",
       "      (pool): MaxPool2d(kernel_size=3, stride=1, padding=1, dilation=1, ceil_mode=False)\n",
       "    )\n",
       "    (comb_iter_4_left): BranchSeparables(\n",
       "      (relu_1): ReLU()\n",
       "      (separable_1): SeparableConv2d(\n",
       "        (depthwise_conv2d): Conv2d(432, 432, kernel_size=(3, 3), stride=(1, 1), padding=(1, 1), groups=432, bias=False)\n",
       "        (pointwise_conv2d): Conv2d(432, 432, kernel_size=(1, 1), stride=(1, 1), bias=False)\n",
       "      )\n",
       "      (bn_sep_1): BatchNorm2d(432, eps=0.001, momentum=0.1, affine=True, track_running_stats=True)\n",
       "      (relu_2): ReLU()\n",
       "      (separable_2): SeparableConv2d(\n",
       "        (depthwise_conv2d): Conv2d(432, 432, kernel_size=(3, 3), stride=(1, 1), padding=(1, 1), groups=432, bias=False)\n",
       "        (pointwise_conv2d): Conv2d(432, 432, kernel_size=(1, 1), stride=(1, 1), bias=False)\n",
       "      )\n",
       "      (bn_sep_2): BatchNorm2d(432, eps=0.001, momentum=0.1, affine=True, track_running_stats=True)\n",
       "    )\n",
       "  )\n",
       "  (cell_6): Cell(\n",
       "    (conv_prev_1x1): ReluConvBn(\n",
       "      (relu): ReLU()\n",
       "      (conv): Conv2d(2160, 432, kernel_size=(1, 1), stride=(1, 1), bias=False)\n",
       "      (bn): BatchNorm2d(432, eps=0.001, momentum=0.1, affine=True, track_running_stats=True)\n",
       "    )\n",
       "    (conv_1x1): ReluConvBn(\n",
       "      (relu): ReLU()\n",
       "      (conv): Conv2d(2160, 432, kernel_size=(1, 1), stride=(1, 1), bias=False)\n",
       "      (bn): BatchNorm2d(432, eps=0.001, momentum=0.1, affine=True, track_running_stats=True)\n",
       "    )\n",
       "    (comb_iter_0_left): BranchSeparables(\n",
       "      (relu_1): ReLU()\n",
       "      (separable_1): SeparableConv2d(\n",
       "        (depthwise_conv2d): Conv2d(432, 432, kernel_size=(5, 5), stride=(1, 1), padding=(2, 2), groups=432, bias=False)\n",
       "        (pointwise_conv2d): Conv2d(432, 432, kernel_size=(1, 1), stride=(1, 1), bias=False)\n",
       "      )\n",
       "      (bn_sep_1): BatchNorm2d(432, eps=0.001, momentum=0.1, affine=True, track_running_stats=True)\n",
       "      (relu_2): ReLU()\n",
       "      (separable_2): SeparableConv2d(\n",
       "        (depthwise_conv2d): Conv2d(432, 432, kernel_size=(5, 5), stride=(1, 1), padding=(2, 2), groups=432, bias=False)\n",
       "        (pointwise_conv2d): Conv2d(432, 432, kernel_size=(1, 1), stride=(1, 1), bias=False)\n",
       "      )\n",
       "      (bn_sep_2): BatchNorm2d(432, eps=0.001, momentum=0.1, affine=True, track_running_stats=True)\n",
       "    )\n",
       "    (comb_iter_0_right): MaxPool(\n",
       "      (pool): MaxPool2d(kernel_size=3, stride=1, padding=1, dilation=1, ceil_mode=False)\n",
       "    )\n",
       "    (comb_iter_1_left): BranchSeparables(\n",
       "      (relu_1): ReLU()\n",
       "      (separable_1): SeparableConv2d(\n",
       "        (depthwise_conv2d): Conv2d(432, 432, kernel_size=(7, 7), stride=(1, 1), padding=(3, 3), groups=432, bias=False)\n",
       "        (pointwise_conv2d): Conv2d(432, 432, kernel_size=(1, 1), stride=(1, 1), bias=False)\n",
       "      )\n",
       "      (bn_sep_1): BatchNorm2d(432, eps=0.001, momentum=0.1, affine=True, track_running_stats=True)\n",
       "      (relu_2): ReLU()\n",
       "      (separable_2): SeparableConv2d(\n",
       "        (depthwise_conv2d): Conv2d(432, 432, kernel_size=(7, 7), stride=(1, 1), padding=(3, 3), groups=432, bias=False)\n",
       "        (pointwise_conv2d): Conv2d(432, 432, kernel_size=(1, 1), stride=(1, 1), bias=False)\n",
       "      )\n",
       "      (bn_sep_2): BatchNorm2d(432, eps=0.001, momentum=0.1, affine=True, track_running_stats=True)\n",
       "    )\n",
       "    (comb_iter_1_right): MaxPool(\n",
       "      (pool): MaxPool2d(kernel_size=3, stride=1, padding=1, dilation=1, ceil_mode=False)\n",
       "    )\n",
       "    (comb_iter_2_left): BranchSeparables(\n",
       "      (relu_1): ReLU()\n",
       "      (separable_1): SeparableConv2d(\n",
       "        (depthwise_conv2d): Conv2d(432, 432, kernel_size=(5, 5), stride=(1, 1), padding=(2, 2), groups=432, bias=False)\n",
       "        (pointwise_conv2d): Conv2d(432, 432, kernel_size=(1, 1), stride=(1, 1), bias=False)\n",
       "      )\n",
       "      (bn_sep_1): BatchNorm2d(432, eps=0.001, momentum=0.1, affine=True, track_running_stats=True)\n",
       "      (relu_2): ReLU()\n",
       "      (separable_2): SeparableConv2d(\n",
       "        (depthwise_conv2d): Conv2d(432, 432, kernel_size=(5, 5), stride=(1, 1), padding=(2, 2), groups=432, bias=False)\n",
       "        (pointwise_conv2d): Conv2d(432, 432, kernel_size=(1, 1), stride=(1, 1), bias=False)\n",
       "      )\n",
       "      (bn_sep_2): BatchNorm2d(432, eps=0.001, momentum=0.1, affine=True, track_running_stats=True)\n",
       "    )\n",
       "    (comb_iter_2_right): BranchSeparables(\n",
       "      (relu_1): ReLU()\n",
       "      (separable_1): SeparableConv2d(\n",
       "        (depthwise_conv2d): Conv2d(432, 432, kernel_size=(3, 3), stride=(1, 1), padding=(1, 1), groups=432, bias=False)\n",
       "        (pointwise_conv2d): Conv2d(432, 432, kernel_size=(1, 1), stride=(1, 1), bias=False)\n",
       "      )\n",
       "      (bn_sep_1): BatchNorm2d(432, eps=0.001, momentum=0.1, affine=True, track_running_stats=True)\n",
       "      (relu_2): ReLU()\n",
       "      (separable_2): SeparableConv2d(\n",
       "        (depthwise_conv2d): Conv2d(432, 432, kernel_size=(3, 3), stride=(1, 1), padding=(1, 1), groups=432, bias=False)\n",
       "        (pointwise_conv2d): Conv2d(432, 432, kernel_size=(1, 1), stride=(1, 1), bias=False)\n",
       "      )\n",
       "      (bn_sep_2): BatchNorm2d(432, eps=0.001, momentum=0.1, affine=True, track_running_stats=True)\n",
       "    )\n",
       "    (comb_iter_3_left): BranchSeparables(\n",
       "      (relu_1): ReLU()\n",
       "      (separable_1): SeparableConv2d(\n",
       "        (depthwise_conv2d): Conv2d(432, 432, kernel_size=(3, 3), stride=(1, 1), padding=(1, 1), groups=432, bias=False)\n",
       "        (pointwise_conv2d): Conv2d(432, 432, kernel_size=(1, 1), stride=(1, 1), bias=False)\n",
       "      )\n",
       "      (bn_sep_1): BatchNorm2d(432, eps=0.001, momentum=0.1, affine=True, track_running_stats=True)\n",
       "      (relu_2): ReLU()\n",
       "      (separable_2): SeparableConv2d(\n",
       "        (depthwise_conv2d): Conv2d(432, 432, kernel_size=(3, 3), stride=(1, 1), padding=(1, 1), groups=432, bias=False)\n",
       "        (pointwise_conv2d): Conv2d(432, 432, kernel_size=(1, 1), stride=(1, 1), bias=False)\n",
       "      )\n",
       "      (bn_sep_2): BatchNorm2d(432, eps=0.001, momentum=0.1, affine=True, track_running_stats=True)\n",
       "    )\n",
       "    (comb_iter_3_right): MaxPool(\n",
       "      (pool): MaxPool2d(kernel_size=3, stride=1, padding=1, dilation=1, ceil_mode=False)\n",
       "    )\n",
       "    (comb_iter_4_left): BranchSeparables(\n",
       "      (relu_1): ReLU()\n",
       "      (separable_1): SeparableConv2d(\n",
       "        (depthwise_conv2d): Conv2d(432, 432, kernel_size=(3, 3), stride=(1, 1), padding=(1, 1), groups=432, bias=False)\n",
       "        (pointwise_conv2d): Conv2d(432, 432, kernel_size=(1, 1), stride=(1, 1), bias=False)\n",
       "      )\n",
       "      (bn_sep_1): BatchNorm2d(432, eps=0.001, momentum=0.1, affine=True, track_running_stats=True)\n",
       "      (relu_2): ReLU()\n",
       "      (separable_2): SeparableConv2d(\n",
       "        (depthwise_conv2d): Conv2d(432, 432, kernel_size=(3, 3), stride=(1, 1), padding=(1, 1), groups=432, bias=False)\n",
       "        (pointwise_conv2d): Conv2d(432, 432, kernel_size=(1, 1), stride=(1, 1), bias=False)\n",
       "      )\n",
       "      (bn_sep_2): BatchNorm2d(432, eps=0.001, momentum=0.1, affine=True, track_running_stats=True)\n",
       "    )\n",
       "  )\n",
       "  (cell_7): Cell(\n",
       "    (conv_prev_1x1): ReluConvBn(\n",
       "      (relu): ReLU()\n",
       "      (conv): Conv2d(2160, 432, kernel_size=(1, 1), stride=(1, 1), bias=False)\n",
       "      (bn): BatchNorm2d(432, eps=0.001, momentum=0.1, affine=True, track_running_stats=True)\n",
       "    )\n",
       "    (conv_1x1): ReluConvBn(\n",
       "      (relu): ReLU()\n",
       "      (conv): Conv2d(2160, 432, kernel_size=(1, 1), stride=(1, 1), bias=False)\n",
       "      (bn): BatchNorm2d(432, eps=0.001, momentum=0.1, affine=True, track_running_stats=True)\n",
       "    )\n",
       "    (comb_iter_0_left): BranchSeparables(\n",
       "      (relu_1): ReLU()\n",
       "      (separable_1): SeparableConv2d(\n",
       "        (depthwise_conv2d): Conv2d(432, 432, kernel_size=(5, 5), stride=(1, 1), padding=(2, 2), groups=432, bias=False)\n",
       "        (pointwise_conv2d): Conv2d(432, 432, kernel_size=(1, 1), stride=(1, 1), bias=False)\n",
       "      )\n",
       "      (bn_sep_1): BatchNorm2d(432, eps=0.001, momentum=0.1, affine=True, track_running_stats=True)\n",
       "      (relu_2): ReLU()\n",
       "      (separable_2): SeparableConv2d(\n",
       "        (depthwise_conv2d): Conv2d(432, 432, kernel_size=(5, 5), stride=(1, 1), padding=(2, 2), groups=432, bias=False)\n",
       "        (pointwise_conv2d): Conv2d(432, 432, kernel_size=(1, 1), stride=(1, 1), bias=False)\n",
       "      )\n",
       "      (bn_sep_2): BatchNorm2d(432, eps=0.001, momentum=0.1, affine=True, track_running_stats=True)\n",
       "    )\n",
       "    (comb_iter_0_right): MaxPool(\n",
       "      (pool): MaxPool2d(kernel_size=3, stride=1, padding=1, dilation=1, ceil_mode=False)\n",
       "    )\n",
       "    (comb_iter_1_left): BranchSeparables(\n",
       "      (relu_1): ReLU()\n",
       "      (separable_1): SeparableConv2d(\n",
       "        (depthwise_conv2d): Conv2d(432, 432, kernel_size=(7, 7), stride=(1, 1), padding=(3, 3), groups=432, bias=False)\n",
       "        (pointwise_conv2d): Conv2d(432, 432, kernel_size=(1, 1), stride=(1, 1), bias=False)\n",
       "      )\n",
       "      (bn_sep_1): BatchNorm2d(432, eps=0.001, momentum=0.1, affine=True, track_running_stats=True)\n",
       "      (relu_2): ReLU()\n",
       "      (separable_2): SeparableConv2d(\n",
       "        (depthwise_conv2d): Conv2d(432, 432, kernel_size=(7, 7), stride=(1, 1), padding=(3, 3), groups=432, bias=False)\n",
       "        (pointwise_conv2d): Conv2d(432, 432, kernel_size=(1, 1), stride=(1, 1), bias=False)\n",
       "      )\n",
       "      (bn_sep_2): BatchNorm2d(432, eps=0.001, momentum=0.1, affine=True, track_running_stats=True)\n",
       "    )\n",
       "    (comb_iter_1_right): MaxPool(\n",
       "      (pool): MaxPool2d(kernel_size=3, stride=1, padding=1, dilation=1, ceil_mode=False)\n",
       "    )\n",
       "    (comb_iter_2_left): BranchSeparables(\n",
       "      (relu_1): ReLU()\n",
       "      (separable_1): SeparableConv2d(\n",
       "        (depthwise_conv2d): Conv2d(432, 432, kernel_size=(5, 5), stride=(1, 1), padding=(2, 2), groups=432, bias=False)\n",
       "        (pointwise_conv2d): Conv2d(432, 432, kernel_size=(1, 1), stride=(1, 1), bias=False)\n",
       "      )\n",
       "      (bn_sep_1): BatchNorm2d(432, eps=0.001, momentum=0.1, affine=True, track_running_stats=True)\n",
       "      (relu_2): ReLU()\n",
       "      (separable_2): SeparableConv2d(\n",
       "        (depthwise_conv2d): Conv2d(432, 432, kernel_size=(5, 5), stride=(1, 1), padding=(2, 2), groups=432, bias=False)\n",
       "        (pointwise_conv2d): Conv2d(432, 432, kernel_size=(1, 1), stride=(1, 1), bias=False)\n",
       "      )\n",
       "      (bn_sep_2): BatchNorm2d(432, eps=0.001, momentum=0.1, affine=True, track_running_stats=True)\n",
       "    )\n",
       "    (comb_iter_2_right): BranchSeparables(\n",
       "      (relu_1): ReLU()\n",
       "      (separable_1): SeparableConv2d(\n",
       "        (depthwise_conv2d): Conv2d(432, 432, kernel_size=(3, 3), stride=(1, 1), padding=(1, 1), groups=432, bias=False)\n",
       "        (pointwise_conv2d): Conv2d(432, 432, kernel_size=(1, 1), stride=(1, 1), bias=False)\n",
       "      )\n",
       "      (bn_sep_1): BatchNorm2d(432, eps=0.001, momentum=0.1, affine=True, track_running_stats=True)\n",
       "      (relu_2): ReLU()\n",
       "      (separable_2): SeparableConv2d(\n",
       "        (depthwise_conv2d): Conv2d(432, 432, kernel_size=(3, 3), stride=(1, 1), padding=(1, 1), groups=432, bias=False)\n",
       "        (pointwise_conv2d): Conv2d(432, 432, kernel_size=(1, 1), stride=(1, 1), bias=False)\n",
       "      )\n",
       "      (bn_sep_2): BatchNorm2d(432, eps=0.001, momentum=0.1, affine=True, track_running_stats=True)\n",
       "    )\n",
       "    (comb_iter_3_left): BranchSeparables(\n",
       "      (relu_1): ReLU()\n",
       "      (separable_1): SeparableConv2d(\n",
       "        (depthwise_conv2d): Conv2d(432, 432, kernel_size=(3, 3), stride=(1, 1), padding=(1, 1), groups=432, bias=False)\n",
       "        (pointwise_conv2d): Conv2d(432, 432, kernel_size=(1, 1), stride=(1, 1), bias=False)\n",
       "      )\n",
       "      (bn_sep_1): BatchNorm2d(432, eps=0.001, momentum=0.1, affine=True, track_running_stats=True)\n",
       "      (relu_2): ReLU()\n",
       "      (separable_2): SeparableConv2d(\n",
       "        (depthwise_conv2d): Conv2d(432, 432, kernel_size=(3, 3), stride=(1, 1), padding=(1, 1), groups=432, bias=False)\n",
       "        (pointwise_conv2d): Conv2d(432, 432, kernel_size=(1, 1), stride=(1, 1), bias=False)\n",
       "      )\n",
       "      (bn_sep_2): BatchNorm2d(432, eps=0.001, momentum=0.1, affine=True, track_running_stats=True)\n",
       "    )\n",
       "    (comb_iter_3_right): MaxPool(\n",
       "      (pool): MaxPool2d(kernel_size=3, stride=1, padding=1, dilation=1, ceil_mode=False)\n",
       "    )\n",
       "    (comb_iter_4_left): BranchSeparables(\n",
       "      (relu_1): ReLU()\n",
       "      (separable_1): SeparableConv2d(\n",
       "        (depthwise_conv2d): Conv2d(432, 432, kernel_size=(3, 3), stride=(1, 1), padding=(1, 1), groups=432, bias=False)\n",
       "        (pointwise_conv2d): Conv2d(432, 432, kernel_size=(1, 1), stride=(1, 1), bias=False)\n",
       "      )\n",
       "      (bn_sep_1): BatchNorm2d(432, eps=0.001, momentum=0.1, affine=True, track_running_stats=True)\n",
       "      (relu_2): ReLU()\n",
       "      (separable_2): SeparableConv2d(\n",
       "        (depthwise_conv2d): Conv2d(432, 432, kernel_size=(3, 3), stride=(1, 1), padding=(1, 1), groups=432, bias=False)\n",
       "        (pointwise_conv2d): Conv2d(432, 432, kernel_size=(1, 1), stride=(1, 1), bias=False)\n",
       "      )\n",
       "      (bn_sep_2): BatchNorm2d(432, eps=0.001, momentum=0.1, affine=True, track_running_stats=True)\n",
       "    )\n",
       "  )\n",
       "  (cell_8): Cell(\n",
       "    (conv_prev_1x1): ReluConvBn(\n",
       "      (relu): ReLU()\n",
       "      (conv): Conv2d(2160, 864, kernel_size=(1, 1), stride=(1, 1), bias=False)\n",
       "      (bn): BatchNorm2d(864, eps=0.001, momentum=0.1, affine=True, track_running_stats=True)\n",
       "    )\n",
       "    (conv_1x1): ReluConvBn(\n",
       "      (relu): ReLU()\n",
       "      (conv): Conv2d(2160, 864, kernel_size=(1, 1), stride=(1, 1), bias=False)\n",
       "      (bn): BatchNorm2d(864, eps=0.001, momentum=0.1, affine=True, track_running_stats=True)\n",
       "    )\n",
       "    (comb_iter_0_left): BranchSeparables(\n",
       "      (relu_1): ReLU()\n",
       "      (separable_1): SeparableConv2d(\n",
       "        (depthwise_conv2d): Conv2d(864, 864, kernel_size=(5, 5), stride=(2, 2), padding=(2, 2), groups=864, bias=False)\n",
       "        (pointwise_conv2d): Conv2d(864, 864, kernel_size=(1, 1), stride=(1, 1), bias=False)\n",
       "      )\n",
       "      (bn_sep_1): BatchNorm2d(864, eps=0.001, momentum=0.1, affine=True, track_running_stats=True)\n",
       "      (relu_2): ReLU()\n",
       "      (separable_2): SeparableConv2d(\n",
       "        (depthwise_conv2d): Conv2d(864, 864, kernel_size=(5, 5), stride=(1, 1), padding=(2, 2), groups=864, bias=False)\n",
       "        (pointwise_conv2d): Conv2d(864, 864, kernel_size=(1, 1), stride=(1, 1), bias=False)\n",
       "      )\n",
       "      (bn_sep_2): BatchNorm2d(864, eps=0.001, momentum=0.1, affine=True, track_running_stats=True)\n",
       "    )\n",
       "    (comb_iter_0_right): MaxPool(\n",
       "      (pool): MaxPool2d(kernel_size=3, stride=2, padding=1, dilation=1, ceil_mode=False)\n",
       "    )\n",
       "    (comb_iter_1_left): BranchSeparables(\n",
       "      (relu_1): ReLU()\n",
       "      (separable_1): SeparableConv2d(\n",
       "        (depthwise_conv2d): Conv2d(864, 864, kernel_size=(7, 7), stride=(2, 2), padding=(3, 3), groups=864, bias=False)\n",
       "        (pointwise_conv2d): Conv2d(864, 864, kernel_size=(1, 1), stride=(1, 1), bias=False)\n",
       "      )\n",
       "      (bn_sep_1): BatchNorm2d(864, eps=0.001, momentum=0.1, affine=True, track_running_stats=True)\n",
       "      (relu_2): ReLU()\n",
       "      (separable_2): SeparableConv2d(\n",
       "        (depthwise_conv2d): Conv2d(864, 864, kernel_size=(7, 7), stride=(1, 1), padding=(3, 3), groups=864, bias=False)\n",
       "        (pointwise_conv2d): Conv2d(864, 864, kernel_size=(1, 1), stride=(1, 1), bias=False)\n",
       "      )\n",
       "      (bn_sep_2): BatchNorm2d(864, eps=0.001, momentum=0.1, affine=True, track_running_stats=True)\n",
       "    )\n",
       "    (comb_iter_1_right): MaxPool(\n",
       "      (pool): MaxPool2d(kernel_size=3, stride=2, padding=1, dilation=1, ceil_mode=False)\n",
       "    )\n",
       "    (comb_iter_2_left): BranchSeparables(\n",
       "      (relu_1): ReLU()\n",
       "      (separable_1): SeparableConv2d(\n",
       "        (depthwise_conv2d): Conv2d(864, 864, kernel_size=(5, 5), stride=(2, 2), padding=(2, 2), groups=864, bias=False)\n",
       "        (pointwise_conv2d): Conv2d(864, 864, kernel_size=(1, 1), stride=(1, 1), bias=False)\n",
       "      )\n",
       "      (bn_sep_1): BatchNorm2d(864, eps=0.001, momentum=0.1, affine=True, track_running_stats=True)\n",
       "      (relu_2): ReLU()\n",
       "      (separable_2): SeparableConv2d(\n",
       "        (depthwise_conv2d): Conv2d(864, 864, kernel_size=(5, 5), stride=(1, 1), padding=(2, 2), groups=864, bias=False)\n",
       "        (pointwise_conv2d): Conv2d(864, 864, kernel_size=(1, 1), stride=(1, 1), bias=False)\n",
       "      )\n",
       "      (bn_sep_2): BatchNorm2d(864, eps=0.001, momentum=0.1, affine=True, track_running_stats=True)\n",
       "    )\n",
       "    (comb_iter_2_right): BranchSeparables(\n",
       "      (relu_1): ReLU()\n",
       "      (separable_1): SeparableConv2d(\n",
       "        (depthwise_conv2d): Conv2d(864, 864, kernel_size=(3, 3), stride=(2, 2), padding=(1, 1), groups=864, bias=False)\n",
       "        (pointwise_conv2d): Conv2d(864, 864, kernel_size=(1, 1), stride=(1, 1), bias=False)\n",
       "      )\n",
       "      (bn_sep_1): BatchNorm2d(864, eps=0.001, momentum=0.1, affine=True, track_running_stats=True)\n",
       "      (relu_2): ReLU()\n",
       "      (separable_2): SeparableConv2d(\n",
       "        (depthwise_conv2d): Conv2d(864, 864, kernel_size=(3, 3), stride=(1, 1), padding=(1, 1), groups=864, bias=False)\n",
       "        (pointwise_conv2d): Conv2d(864, 864, kernel_size=(1, 1), stride=(1, 1), bias=False)\n",
       "      )\n",
       "      (bn_sep_2): BatchNorm2d(864, eps=0.001, momentum=0.1, affine=True, track_running_stats=True)\n",
       "    )\n",
       "    (comb_iter_3_left): BranchSeparables(\n",
       "      (relu_1): ReLU()\n",
       "      (separable_1): SeparableConv2d(\n",
       "        (depthwise_conv2d): Conv2d(864, 864, kernel_size=(3, 3), stride=(1, 1), padding=(1, 1), groups=864, bias=False)\n",
       "        (pointwise_conv2d): Conv2d(864, 864, kernel_size=(1, 1), stride=(1, 1), bias=False)\n",
       "      )\n",
       "      (bn_sep_1): BatchNorm2d(864, eps=0.001, momentum=0.1, affine=True, track_running_stats=True)\n",
       "      (relu_2): ReLU()\n",
       "      (separable_2): SeparableConv2d(\n",
       "        (depthwise_conv2d): Conv2d(864, 864, kernel_size=(3, 3), stride=(1, 1), padding=(1, 1), groups=864, bias=False)\n",
       "        (pointwise_conv2d): Conv2d(864, 864, kernel_size=(1, 1), stride=(1, 1), bias=False)\n",
       "      )\n",
       "      (bn_sep_2): BatchNorm2d(864, eps=0.001, momentum=0.1, affine=True, track_running_stats=True)\n",
       "    )\n",
       "    (comb_iter_3_right): MaxPool(\n",
       "      (pool): MaxPool2d(kernel_size=3, stride=2, padding=1, dilation=1, ceil_mode=False)\n",
       "    )\n",
       "    (comb_iter_4_left): BranchSeparables(\n",
       "      (relu_1): ReLU()\n",
       "      (separable_1): SeparableConv2d(\n",
       "        (depthwise_conv2d): Conv2d(864, 864, kernel_size=(3, 3), stride=(2, 2), padding=(1, 1), groups=864, bias=False)\n",
       "        (pointwise_conv2d): Conv2d(864, 864, kernel_size=(1, 1), stride=(1, 1), bias=False)\n",
       "      )\n",
       "      (bn_sep_1): BatchNorm2d(864, eps=0.001, momentum=0.1, affine=True, track_running_stats=True)\n",
       "      (relu_2): ReLU()\n",
       "      (separable_2): SeparableConv2d(\n",
       "        (depthwise_conv2d): Conv2d(864, 864, kernel_size=(3, 3), stride=(1, 1), padding=(1, 1), groups=864, bias=False)\n",
       "        (pointwise_conv2d): Conv2d(864, 864, kernel_size=(1, 1), stride=(1, 1), bias=False)\n",
       "      )\n",
       "      (bn_sep_2): BatchNorm2d(864, eps=0.001, momentum=0.1, affine=True, track_running_stats=True)\n",
       "    )\n",
       "    (comb_iter_4_right): ReluConvBn(\n",
       "      (relu): ReLU()\n",
       "      (conv): Conv2d(864, 864, kernel_size=(1, 1), stride=(2, 2), bias=False)\n",
       "      (bn): BatchNorm2d(864, eps=0.001, momentum=0.1, affine=True, track_running_stats=True)\n",
       "    )\n",
       "  )\n",
       "  (cell_9): Cell(\n",
       "    (conv_prev_1x1): FactorizedReduction(\n",
       "      (relu): ReLU()\n",
       "      (path_1): Sequential(\n",
       "        (avgpool): AvgPool2d(kernel_size=1, stride=2, padding=0)\n",
       "        (conv): Conv2d(2160, 432, kernel_size=(1, 1), stride=(1, 1), bias=False)\n",
       "      )\n",
       "      (path_2): Sequential(\n",
       "        (pad): ZeroPad2d(padding=(0, 1, 0, 1), value=0)\n",
       "        (avgpool): AvgPool2d(kernel_size=1, stride=2, padding=0)\n",
       "        (conv): Conv2d(2160, 432, kernel_size=(1, 1), stride=(1, 1), bias=False)\n",
       "      )\n",
       "      (final_path_bn): BatchNorm2d(864, eps=0.001, momentum=0.1, affine=True, track_running_stats=True)\n",
       "    )\n",
       "    (conv_1x1): ReluConvBn(\n",
       "      (relu): ReLU()\n",
       "      (conv): Conv2d(4320, 864, kernel_size=(1, 1), stride=(1, 1), bias=False)\n",
       "      (bn): BatchNorm2d(864, eps=0.001, momentum=0.1, affine=True, track_running_stats=True)\n",
       "    )\n",
       "    (comb_iter_0_left): BranchSeparables(\n",
       "      (relu_1): ReLU()\n",
       "      (separable_1): SeparableConv2d(\n",
       "        (depthwise_conv2d): Conv2d(864, 864, kernel_size=(5, 5), stride=(1, 1), padding=(2, 2), groups=864, bias=False)\n",
       "        (pointwise_conv2d): Conv2d(864, 864, kernel_size=(1, 1), stride=(1, 1), bias=False)\n",
       "      )\n",
       "      (bn_sep_1): BatchNorm2d(864, eps=0.001, momentum=0.1, affine=True, track_running_stats=True)\n",
       "      (relu_2): ReLU()\n",
       "      (separable_2): SeparableConv2d(\n",
       "        (depthwise_conv2d): Conv2d(864, 864, kernel_size=(5, 5), stride=(1, 1), padding=(2, 2), groups=864, bias=False)\n",
       "        (pointwise_conv2d): Conv2d(864, 864, kernel_size=(1, 1), stride=(1, 1), bias=False)\n",
       "      )\n",
       "      (bn_sep_2): BatchNorm2d(864, eps=0.001, momentum=0.1, affine=True, track_running_stats=True)\n",
       "    )\n",
       "    (comb_iter_0_right): MaxPool(\n",
       "      (pool): MaxPool2d(kernel_size=3, stride=1, padding=1, dilation=1, ceil_mode=False)\n",
       "    )\n",
       "    (comb_iter_1_left): BranchSeparables(\n",
       "      (relu_1): ReLU()\n",
       "      (separable_1): SeparableConv2d(\n",
       "        (depthwise_conv2d): Conv2d(864, 864, kernel_size=(7, 7), stride=(1, 1), padding=(3, 3), groups=864, bias=False)\n",
       "        (pointwise_conv2d): Conv2d(864, 864, kernel_size=(1, 1), stride=(1, 1), bias=False)\n",
       "      )\n",
       "      (bn_sep_1): BatchNorm2d(864, eps=0.001, momentum=0.1, affine=True, track_running_stats=True)\n",
       "      (relu_2): ReLU()\n",
       "      (separable_2): SeparableConv2d(\n",
       "        (depthwise_conv2d): Conv2d(864, 864, kernel_size=(7, 7), stride=(1, 1), padding=(3, 3), groups=864, bias=False)\n",
       "        (pointwise_conv2d): Conv2d(864, 864, kernel_size=(1, 1), stride=(1, 1), bias=False)\n",
       "      )\n",
       "      (bn_sep_2): BatchNorm2d(864, eps=0.001, momentum=0.1, affine=True, track_running_stats=True)\n",
       "    )\n",
       "    (comb_iter_1_right): MaxPool(\n",
       "      (pool): MaxPool2d(kernel_size=3, stride=1, padding=1, dilation=1, ceil_mode=False)\n",
       "    )\n",
       "    (comb_iter_2_left): BranchSeparables(\n",
       "      (relu_1): ReLU()\n",
       "      (separable_1): SeparableConv2d(\n",
       "        (depthwise_conv2d): Conv2d(864, 864, kernel_size=(5, 5), stride=(1, 1), padding=(2, 2), groups=864, bias=False)\n",
       "        (pointwise_conv2d): Conv2d(864, 864, kernel_size=(1, 1), stride=(1, 1), bias=False)\n",
       "      )\n",
       "      (bn_sep_1): BatchNorm2d(864, eps=0.001, momentum=0.1, affine=True, track_running_stats=True)\n",
       "      (relu_2): ReLU()\n",
       "      (separable_2): SeparableConv2d(\n",
       "        (depthwise_conv2d): Conv2d(864, 864, kernel_size=(5, 5), stride=(1, 1), padding=(2, 2), groups=864, bias=False)\n",
       "        (pointwise_conv2d): Conv2d(864, 864, kernel_size=(1, 1), stride=(1, 1), bias=False)\n",
       "      )\n",
       "      (bn_sep_2): BatchNorm2d(864, eps=0.001, momentum=0.1, affine=True, track_running_stats=True)\n",
       "    )\n",
       "    (comb_iter_2_right): BranchSeparables(\n",
       "      (relu_1): ReLU()\n",
       "      (separable_1): SeparableConv2d(\n",
       "        (depthwise_conv2d): Conv2d(864, 864, kernel_size=(3, 3), stride=(1, 1), padding=(1, 1), groups=864, bias=False)\n",
       "        (pointwise_conv2d): Conv2d(864, 864, kernel_size=(1, 1), stride=(1, 1), bias=False)\n",
       "      )\n",
       "      (bn_sep_1): BatchNorm2d(864, eps=0.001, momentum=0.1, affine=True, track_running_stats=True)\n",
       "      (relu_2): ReLU()\n",
       "      (separable_2): SeparableConv2d(\n",
       "        (depthwise_conv2d): Conv2d(864, 864, kernel_size=(3, 3), stride=(1, 1), padding=(1, 1), groups=864, bias=False)\n",
       "        (pointwise_conv2d): Conv2d(864, 864, kernel_size=(1, 1), stride=(1, 1), bias=False)\n",
       "      )\n",
       "      (bn_sep_2): BatchNorm2d(864, eps=0.001, momentum=0.1, affine=True, track_running_stats=True)\n",
       "    )\n",
       "    (comb_iter_3_left): BranchSeparables(\n",
       "      (relu_1): ReLU()\n",
       "      (separable_1): SeparableConv2d(\n",
       "        (depthwise_conv2d): Conv2d(864, 864, kernel_size=(3, 3), stride=(1, 1), padding=(1, 1), groups=864, bias=False)\n",
       "        (pointwise_conv2d): Conv2d(864, 864, kernel_size=(1, 1), stride=(1, 1), bias=False)\n",
       "      )\n",
       "      (bn_sep_1): BatchNorm2d(864, eps=0.001, momentum=0.1, affine=True, track_running_stats=True)\n",
       "      (relu_2): ReLU()\n",
       "      (separable_2): SeparableConv2d(\n",
       "        (depthwise_conv2d): Conv2d(864, 864, kernel_size=(3, 3), stride=(1, 1), padding=(1, 1), groups=864, bias=False)\n",
       "        (pointwise_conv2d): Conv2d(864, 864, kernel_size=(1, 1), stride=(1, 1), bias=False)\n",
       "      )\n",
       "      (bn_sep_2): BatchNorm2d(864, eps=0.001, momentum=0.1, affine=True, track_running_stats=True)\n",
       "    )\n",
       "    (comb_iter_3_right): MaxPool(\n",
       "      (pool): MaxPool2d(kernel_size=3, stride=1, padding=1, dilation=1, ceil_mode=False)\n",
       "    )\n",
       "    (comb_iter_4_left): BranchSeparables(\n",
       "      (relu_1): ReLU()\n",
       "      (separable_1): SeparableConv2d(\n",
       "        (depthwise_conv2d): Conv2d(864, 864, kernel_size=(3, 3), stride=(1, 1), padding=(1, 1), groups=864, bias=False)\n",
       "        (pointwise_conv2d): Conv2d(864, 864, kernel_size=(1, 1), stride=(1, 1), bias=False)\n",
       "      )\n",
       "      (bn_sep_1): BatchNorm2d(864, eps=0.001, momentum=0.1, affine=True, track_running_stats=True)\n",
       "      (relu_2): ReLU()\n",
       "      (separable_2): SeparableConv2d(\n",
       "        (depthwise_conv2d): Conv2d(864, 864, kernel_size=(3, 3), stride=(1, 1), padding=(1, 1), groups=864, bias=False)\n",
       "        (pointwise_conv2d): Conv2d(864, 864, kernel_size=(1, 1), stride=(1, 1), bias=False)\n",
       "      )\n",
       "      (bn_sep_2): BatchNorm2d(864, eps=0.001, momentum=0.1, affine=True, track_running_stats=True)\n",
       "    )\n",
       "  )\n",
       "  (cell_10): Cell(\n",
       "    (conv_prev_1x1): ReluConvBn(\n",
       "      (relu): ReLU()\n",
       "      (conv): Conv2d(4320, 864, kernel_size=(1, 1), stride=(1, 1), bias=False)\n",
       "      (bn): BatchNorm2d(864, eps=0.001, momentum=0.1, affine=True, track_running_stats=True)\n",
       "    )\n",
       "    (conv_1x1): ReluConvBn(\n",
       "      (relu): ReLU()\n",
       "      (conv): Conv2d(4320, 864, kernel_size=(1, 1), stride=(1, 1), bias=False)\n",
       "      (bn): BatchNorm2d(864, eps=0.001, momentum=0.1, affine=True, track_running_stats=True)\n",
       "    )\n",
       "    (comb_iter_0_left): BranchSeparables(\n",
       "      (relu_1): ReLU()\n",
       "      (separable_1): SeparableConv2d(\n",
       "        (depthwise_conv2d): Conv2d(864, 864, kernel_size=(5, 5), stride=(1, 1), padding=(2, 2), groups=864, bias=False)\n",
       "        (pointwise_conv2d): Conv2d(864, 864, kernel_size=(1, 1), stride=(1, 1), bias=False)\n",
       "      )\n",
       "      (bn_sep_1): BatchNorm2d(864, eps=0.001, momentum=0.1, affine=True, track_running_stats=True)\n",
       "      (relu_2): ReLU()\n",
       "      (separable_2): SeparableConv2d(\n",
       "        (depthwise_conv2d): Conv2d(864, 864, kernel_size=(5, 5), stride=(1, 1), padding=(2, 2), groups=864, bias=False)\n",
       "        (pointwise_conv2d): Conv2d(864, 864, kernel_size=(1, 1), stride=(1, 1), bias=False)\n",
       "      )\n",
       "      (bn_sep_2): BatchNorm2d(864, eps=0.001, momentum=0.1, affine=True, track_running_stats=True)\n",
       "    )\n",
       "    (comb_iter_0_right): MaxPool(\n",
       "      (pool): MaxPool2d(kernel_size=3, stride=1, padding=1, dilation=1, ceil_mode=False)\n",
       "    )\n",
       "    (comb_iter_1_left): BranchSeparables(\n",
       "      (relu_1): ReLU()\n",
       "      (separable_1): SeparableConv2d(\n",
       "        (depthwise_conv2d): Conv2d(864, 864, kernel_size=(7, 7), stride=(1, 1), padding=(3, 3), groups=864, bias=False)\n",
       "        (pointwise_conv2d): Conv2d(864, 864, kernel_size=(1, 1), stride=(1, 1), bias=False)\n",
       "      )\n",
       "      (bn_sep_1): BatchNorm2d(864, eps=0.001, momentum=0.1, affine=True, track_running_stats=True)\n",
       "      (relu_2): ReLU()\n",
       "      (separable_2): SeparableConv2d(\n",
       "        (depthwise_conv2d): Conv2d(864, 864, kernel_size=(7, 7), stride=(1, 1), padding=(3, 3), groups=864, bias=False)\n",
       "        (pointwise_conv2d): Conv2d(864, 864, kernel_size=(1, 1), stride=(1, 1), bias=False)\n",
       "      )\n",
       "      (bn_sep_2): BatchNorm2d(864, eps=0.001, momentum=0.1, affine=True, track_running_stats=True)\n",
       "    )\n",
       "    (comb_iter_1_right): MaxPool(\n",
       "      (pool): MaxPool2d(kernel_size=3, stride=1, padding=1, dilation=1, ceil_mode=False)\n",
       "    )\n",
       "    (comb_iter_2_left): BranchSeparables(\n",
       "      (relu_1): ReLU()\n",
       "      (separable_1): SeparableConv2d(\n",
       "        (depthwise_conv2d): Conv2d(864, 864, kernel_size=(5, 5), stride=(1, 1), padding=(2, 2), groups=864, bias=False)\n",
       "        (pointwise_conv2d): Conv2d(864, 864, kernel_size=(1, 1), stride=(1, 1), bias=False)\n",
       "      )\n",
       "      (bn_sep_1): BatchNorm2d(864, eps=0.001, momentum=0.1, affine=True, track_running_stats=True)\n",
       "      (relu_2): ReLU()\n",
       "      (separable_2): SeparableConv2d(\n",
       "        (depthwise_conv2d): Conv2d(864, 864, kernel_size=(5, 5), stride=(1, 1), padding=(2, 2), groups=864, bias=False)\n",
       "        (pointwise_conv2d): Conv2d(864, 864, kernel_size=(1, 1), stride=(1, 1), bias=False)\n",
       "      )\n",
       "      (bn_sep_2): BatchNorm2d(864, eps=0.001, momentum=0.1, affine=True, track_running_stats=True)\n",
       "    )\n",
       "    (comb_iter_2_right): BranchSeparables(\n",
       "      (relu_1): ReLU()\n",
       "      (separable_1): SeparableConv2d(\n",
       "        (depthwise_conv2d): Conv2d(864, 864, kernel_size=(3, 3), stride=(1, 1), padding=(1, 1), groups=864, bias=False)\n",
       "        (pointwise_conv2d): Conv2d(864, 864, kernel_size=(1, 1), stride=(1, 1), bias=False)\n",
       "      )\n",
       "      (bn_sep_1): BatchNorm2d(864, eps=0.001, momentum=0.1, affine=True, track_running_stats=True)\n",
       "      (relu_2): ReLU()\n",
       "      (separable_2): SeparableConv2d(\n",
       "        (depthwise_conv2d): Conv2d(864, 864, kernel_size=(3, 3), stride=(1, 1), padding=(1, 1), groups=864, bias=False)\n",
       "        (pointwise_conv2d): Conv2d(864, 864, kernel_size=(1, 1), stride=(1, 1), bias=False)\n",
       "      )\n",
       "      (bn_sep_2): BatchNorm2d(864, eps=0.001, momentum=0.1, affine=True, track_running_stats=True)\n",
       "    )\n",
       "    (comb_iter_3_left): BranchSeparables(\n",
       "      (relu_1): ReLU()\n",
       "      (separable_1): SeparableConv2d(\n",
       "        (depthwise_conv2d): Conv2d(864, 864, kernel_size=(3, 3), stride=(1, 1), padding=(1, 1), groups=864, bias=False)\n",
       "        (pointwise_conv2d): Conv2d(864, 864, kernel_size=(1, 1), stride=(1, 1), bias=False)\n",
       "      )\n",
       "      (bn_sep_1): BatchNorm2d(864, eps=0.001, momentum=0.1, affine=True, track_running_stats=True)\n",
       "      (relu_2): ReLU()\n",
       "      (separable_2): SeparableConv2d(\n",
       "        (depthwise_conv2d): Conv2d(864, 864, kernel_size=(3, 3), stride=(1, 1), padding=(1, 1), groups=864, bias=False)\n",
       "        (pointwise_conv2d): Conv2d(864, 864, kernel_size=(1, 1), stride=(1, 1), bias=False)\n",
       "      )\n",
       "      (bn_sep_2): BatchNorm2d(864, eps=0.001, momentum=0.1, affine=True, track_running_stats=True)\n",
       "    )\n",
       "    (comb_iter_3_right): MaxPool(\n",
       "      (pool): MaxPool2d(kernel_size=3, stride=1, padding=1, dilation=1, ceil_mode=False)\n",
       "    )\n",
       "    (comb_iter_4_left): BranchSeparables(\n",
       "      (relu_1): ReLU()\n",
       "      (separable_1): SeparableConv2d(\n",
       "        (depthwise_conv2d): Conv2d(864, 864, kernel_size=(3, 3), stride=(1, 1), padding=(1, 1), groups=864, bias=False)\n",
       "        (pointwise_conv2d): Conv2d(864, 864, kernel_size=(1, 1), stride=(1, 1), bias=False)\n",
       "      )\n",
       "      (bn_sep_1): BatchNorm2d(864, eps=0.001, momentum=0.1, affine=True, track_running_stats=True)\n",
       "      (relu_2): ReLU()\n",
       "      (separable_2): SeparableConv2d(\n",
       "        (depthwise_conv2d): Conv2d(864, 864, kernel_size=(3, 3), stride=(1, 1), padding=(1, 1), groups=864, bias=False)\n",
       "        (pointwise_conv2d): Conv2d(864, 864, kernel_size=(1, 1), stride=(1, 1), bias=False)\n",
       "      )\n",
       "      (bn_sep_2): BatchNorm2d(864, eps=0.001, momentum=0.1, affine=True, track_running_stats=True)\n",
       "    )\n",
       "  )\n",
       "  (cell_11): Cell(\n",
       "    (conv_prev_1x1): ReluConvBn(\n",
       "      (relu): ReLU()\n",
       "      (conv): Conv2d(4320, 864, kernel_size=(1, 1), stride=(1, 1), bias=False)\n",
       "      (bn): BatchNorm2d(864, eps=0.001, momentum=0.1, affine=True, track_running_stats=True)\n",
       "    )\n",
       "    (conv_1x1): ReluConvBn(\n",
       "      (relu): ReLU()\n",
       "      (conv): Conv2d(4320, 864, kernel_size=(1, 1), stride=(1, 1), bias=False)\n",
       "      (bn): BatchNorm2d(864, eps=0.001, momentum=0.1, affine=True, track_running_stats=True)\n",
       "    )\n",
       "    (comb_iter_0_left): BranchSeparables(\n",
       "      (relu_1): ReLU()\n",
       "      (separable_1): SeparableConv2d(\n",
       "        (depthwise_conv2d): Conv2d(864, 864, kernel_size=(5, 5), stride=(1, 1), padding=(2, 2), groups=864, bias=False)\n",
       "        (pointwise_conv2d): Conv2d(864, 864, kernel_size=(1, 1), stride=(1, 1), bias=False)\n",
       "      )\n",
       "      (bn_sep_1): BatchNorm2d(864, eps=0.001, momentum=0.1, affine=True, track_running_stats=True)\n",
       "      (relu_2): ReLU()\n",
       "      (separable_2): SeparableConv2d(\n",
       "        (depthwise_conv2d): Conv2d(864, 864, kernel_size=(5, 5), stride=(1, 1), padding=(2, 2), groups=864, bias=False)\n",
       "        (pointwise_conv2d): Conv2d(864, 864, kernel_size=(1, 1), stride=(1, 1), bias=False)\n",
       "      )\n",
       "      (bn_sep_2): BatchNorm2d(864, eps=0.001, momentum=0.1, affine=True, track_running_stats=True)\n",
       "    )\n",
       "    (comb_iter_0_right): MaxPool(\n",
       "      (pool): MaxPool2d(kernel_size=3, stride=1, padding=1, dilation=1, ceil_mode=False)\n",
       "    )\n",
       "    (comb_iter_1_left): BranchSeparables(\n",
       "      (relu_1): ReLU()\n",
       "      (separable_1): SeparableConv2d(\n",
       "        (depthwise_conv2d): Conv2d(864, 864, kernel_size=(7, 7), stride=(1, 1), padding=(3, 3), groups=864, bias=False)\n",
       "        (pointwise_conv2d): Conv2d(864, 864, kernel_size=(1, 1), stride=(1, 1), bias=False)\n",
       "      )\n",
       "      (bn_sep_1): BatchNorm2d(864, eps=0.001, momentum=0.1, affine=True, track_running_stats=True)\n",
       "      (relu_2): ReLU()\n",
       "      (separable_2): SeparableConv2d(\n",
       "        (depthwise_conv2d): Conv2d(864, 864, kernel_size=(7, 7), stride=(1, 1), padding=(3, 3), groups=864, bias=False)\n",
       "        (pointwise_conv2d): Conv2d(864, 864, kernel_size=(1, 1), stride=(1, 1), bias=False)\n",
       "      )\n",
       "      (bn_sep_2): BatchNorm2d(864, eps=0.001, momentum=0.1, affine=True, track_running_stats=True)\n",
       "    )\n",
       "    (comb_iter_1_right): MaxPool(\n",
       "      (pool): MaxPool2d(kernel_size=3, stride=1, padding=1, dilation=1, ceil_mode=False)\n",
       "    )\n",
       "    (comb_iter_2_left): BranchSeparables(\n",
       "      (relu_1): ReLU()\n",
       "      (separable_1): SeparableConv2d(\n",
       "        (depthwise_conv2d): Conv2d(864, 864, kernel_size=(5, 5), stride=(1, 1), padding=(2, 2), groups=864, bias=False)\n",
       "        (pointwise_conv2d): Conv2d(864, 864, kernel_size=(1, 1), stride=(1, 1), bias=False)\n",
       "      )\n",
       "      (bn_sep_1): BatchNorm2d(864, eps=0.001, momentum=0.1, affine=True, track_running_stats=True)\n",
       "      (relu_2): ReLU()\n",
       "      (separable_2): SeparableConv2d(\n",
       "        (depthwise_conv2d): Conv2d(864, 864, kernel_size=(5, 5), stride=(1, 1), padding=(2, 2), groups=864, bias=False)\n",
       "        (pointwise_conv2d): Conv2d(864, 864, kernel_size=(1, 1), stride=(1, 1), bias=False)\n",
       "      )\n",
       "      (bn_sep_2): BatchNorm2d(864, eps=0.001, momentum=0.1, affine=True, track_running_stats=True)\n",
       "    )\n",
       "    (comb_iter_2_right): BranchSeparables(\n",
       "      (relu_1): ReLU()\n",
       "      (separable_1): SeparableConv2d(\n",
       "        (depthwise_conv2d): Conv2d(864, 864, kernel_size=(3, 3), stride=(1, 1), padding=(1, 1), groups=864, bias=False)\n",
       "        (pointwise_conv2d): Conv2d(864, 864, kernel_size=(1, 1), stride=(1, 1), bias=False)\n",
       "      )\n",
       "      (bn_sep_1): BatchNorm2d(864, eps=0.001, momentum=0.1, affine=True, track_running_stats=True)\n",
       "      (relu_2): ReLU()\n",
       "      (separable_2): SeparableConv2d(\n",
       "        (depthwise_conv2d): Conv2d(864, 864, kernel_size=(3, 3), stride=(1, 1), padding=(1, 1), groups=864, bias=False)\n",
       "        (pointwise_conv2d): Conv2d(864, 864, kernel_size=(1, 1), stride=(1, 1), bias=False)\n",
       "      )\n",
       "      (bn_sep_2): BatchNorm2d(864, eps=0.001, momentum=0.1, affine=True, track_running_stats=True)\n",
       "    )\n",
       "    (comb_iter_3_left): BranchSeparables(\n",
       "      (relu_1): ReLU()\n",
       "      (separable_1): SeparableConv2d(\n",
       "        (depthwise_conv2d): Conv2d(864, 864, kernel_size=(3, 3), stride=(1, 1), padding=(1, 1), groups=864, bias=False)\n",
       "        (pointwise_conv2d): Conv2d(864, 864, kernel_size=(1, 1), stride=(1, 1), bias=False)\n",
       "      )\n",
       "      (bn_sep_1): BatchNorm2d(864, eps=0.001, momentum=0.1, affine=True, track_running_stats=True)\n",
       "      (relu_2): ReLU()\n",
       "      (separable_2): SeparableConv2d(\n",
       "        (depthwise_conv2d): Conv2d(864, 864, kernel_size=(3, 3), stride=(1, 1), padding=(1, 1), groups=864, bias=False)\n",
       "        (pointwise_conv2d): Conv2d(864, 864, kernel_size=(1, 1), stride=(1, 1), bias=False)\n",
       "      )\n",
       "      (bn_sep_2): BatchNorm2d(864, eps=0.001, momentum=0.1, affine=True, track_running_stats=True)\n",
       "    )\n",
       "    (comb_iter_3_right): MaxPool(\n",
       "      (pool): MaxPool2d(kernel_size=3, stride=1, padding=1, dilation=1, ceil_mode=False)\n",
       "    )\n",
       "    (comb_iter_4_left): BranchSeparables(\n",
       "      (relu_1): ReLU()\n",
       "      (separable_1): SeparableConv2d(\n",
       "        (depthwise_conv2d): Conv2d(864, 864, kernel_size=(3, 3), stride=(1, 1), padding=(1, 1), groups=864, bias=False)\n",
       "        (pointwise_conv2d): Conv2d(864, 864, kernel_size=(1, 1), stride=(1, 1), bias=False)\n",
       "      )\n",
       "      (bn_sep_1): BatchNorm2d(864, eps=0.001, momentum=0.1, affine=True, track_running_stats=True)\n",
       "      (relu_2): ReLU()\n",
       "      (separable_2): SeparableConv2d(\n",
       "        (depthwise_conv2d): Conv2d(864, 864, kernel_size=(3, 3), stride=(1, 1), padding=(1, 1), groups=864, bias=False)\n",
       "        (pointwise_conv2d): Conv2d(864, 864, kernel_size=(1, 1), stride=(1, 1), bias=False)\n",
       "      )\n",
       "      (bn_sep_2): BatchNorm2d(864, eps=0.001, momentum=0.1, affine=True, track_running_stats=True)\n",
       "    )\n",
       "  )\n",
       "  (relu): ReLU()\n",
       "  (avg_pool): AvgPool2d(kernel_size=11, stride=1, padding=0)\n",
       "  (dropout): Dropout(p=0.5)\n",
       "  (last_linear): Linear(in_features=4320, out_features=1000, bias=True)\n",
       ")"
      ]
     },
     "execution_count": 11,
     "metadata": {},
     "output_type": "execute_result"
    }
   ],
   "source": [
    "model_name = 'pnasnet5large'\n",
    "model = pretrainedmodels.__dict__[model_name](num_classes = 1000, pretrained = 'imagenet')\n",
    "model.eval()"
   ]
  },
  {
   "cell_type": "code",
   "execution_count": 12,
   "metadata": {},
   "outputs": [],
   "source": [
    "for params in model.parameters():\n",
    "    params.requires_grad = False\n",
    "model.last_linear = nn.Linear(model.last_linear.in_features, 2)\n",
    "# model.cuda()"
   ]
  },
  {
   "cell_type": "code",
   "execution_count": 58,
   "metadata": {},
   "outputs": [],
   "source": [
    "# from pretrainedmodels.models.pnasnet import PNASNet5Large\n",
    "# # class MyModel(nn.Module):\n",
    "# class MyModel(PNASNet5Large):\n",
    "#     def __init__(self):\n",
    "#         super().__init__()\n",
    "        \n",
    "#     def get_layer_groups(self, do_fc=False):\n",
    "#         if do_fc:\n",
    "#             return [self.fc_model]\n",
    "#         idxs = [self.lr_cut]z\n",
    "#         c = children(self.top_model)\n",
    "#         if len(c)==3: c = children(c[0])+c[1:]\n",
    "#         lgs = list(split_by_idxs(c,idxs))\n",
    "#         return lgs+[self.fc_model]\n",
    "    "
   ]
  },
  {
   "cell_type": "code",
   "execution_count": 17,
   "metadata": {},
   "outputs": [
    {
     "ename": "TypeError",
     "evalue": "unsupported operand type(s) for /: 'str' and 'str'",
     "output_type": "error",
     "traceback": [
      "\u001b[0;31m---------------------------------------------------------------------------\u001b[0m",
      "\u001b[0;31mTypeError\u001b[0m                                 Traceback (most recent call last)",
      "\u001b[0;32m<ipython-input-17-554e9f37f7a8>\u001b[0m in \u001b[0;36m<module>\u001b[0;34m\u001b[0m\n\u001b[0;32m----> 1\u001b[0;31m \u001b[0mdata\u001b[0m \u001b[0;34m=\u001b[0m \u001b[0mimage_data_from_csv\u001b[0m\u001b[0;34m(\u001b[0m\u001b[0mHOME_PATH\u001b[0m\u001b[0;34m,\u001b[0m \u001b[0;34m\"data\"\u001b[0m\u001b[0;34m,\u001b[0m \u001b[0mcsv_labels\u001b[0m \u001b[0;34m=\u001b[0m \u001b[0mos\u001b[0m\u001b[0;34m.\u001b[0m\u001b[0mpath\u001b[0m\u001b[0;34m.\u001b[0m\u001b[0mjoin\u001b[0m\u001b[0;34m(\u001b[0m\u001b[0;34m\"resources\"\u001b[0m\u001b[0;34m,\u001b[0m \u001b[0;34m\"labels.csv\"\u001b[0m\u001b[0;34m)\u001b[0m\u001b[0;34m)\u001b[0m\u001b[0;34m\u001b[0m\u001b[0m\n\u001b[0m",
      "\u001b[0;32m/local_scratch/wamsterd/anaconda3/envs/fastai1/lib/python3.6/site-packages/fastai/vision/data.py\u001b[0m in \u001b[0;36mimage_data_from_csv\u001b[0;34m(path, folder, sep, csv_labels, valid_pct, test, suffix, **kwargs)\u001b[0m\n\u001b[1;32m    284\u001b[0m                         test:Optional[PathOrStr]=None, suffix:str=None, **kwargs:Any) -> DataBunch:\n\u001b[1;32m    285\u001b[0m     \u001b[0;34m\"Create a `DataBunch` from a csv file.\"\u001b[0m\u001b[0;34m\u001b[0m\u001b[0m\n\u001b[0;32m--> 286\u001b[0;31m     \u001b[0mfnames\u001b[0m\u001b[0;34m,\u001b[0m \u001b[0mlabels\u001b[0m \u001b[0;34m=\u001b[0m \u001b[0mcsv_to_fns_labels\u001b[0m\u001b[0;34m(\u001b[0m\u001b[0mpath\u001b[0m\u001b[0;34m/\u001b[0m\u001b[0mcsv_labels\u001b[0m\u001b[0;34m,\u001b[0m \u001b[0msuffix\u001b[0m\u001b[0;34m=\u001b[0m\u001b[0msuffix\u001b[0m\u001b[0;34m,\u001b[0m \u001b[0mlabel_delim\u001b[0m\u001b[0;34m=\u001b[0m\u001b[0msep\u001b[0m\u001b[0;34m)\u001b[0m\u001b[0;34m\u001b[0m\u001b[0m\n\u001b[0m\u001b[1;32m    287\u001b[0m     \u001b[0mclasses\u001b[0m \u001b[0;34m=\u001b[0m \u001b[0muniqueify\u001b[0m\u001b[0;34m(\u001b[0m\u001b[0mnp\u001b[0m\u001b[0;34m.\u001b[0m\u001b[0mconcatenate\u001b[0m\u001b[0;34m(\u001b[0m\u001b[0mlabels\u001b[0m\u001b[0;34m)\u001b[0m\u001b[0;34m)\u001b[0m \u001b[0;32mif\u001b[0m \u001b[0msep\u001b[0m \u001b[0;32melse\u001b[0m \u001b[0muniqueify\u001b[0m\u001b[0;34m(\u001b[0m\u001b[0mlabels\u001b[0m\u001b[0;34m)\u001b[0m\u001b[0;34m\u001b[0m\u001b[0m\n\u001b[1;32m    288\u001b[0m     \u001b[0;32mif\u001b[0m \u001b[0msep\u001b[0m\u001b[0;34m:\u001b[0m\u001b[0;34m\u001b[0m\u001b[0m\n",
      "\u001b[0;31mTypeError\u001b[0m: unsupported operand type(s) for /: 'str' and 'str'"
     ]
    }
   ],
   "source": [
    "data = image_data_from_csv(HOME_PATH, \"data\", csv_labels = os.path.join(\"resources\", \"labels.csv\"))"
   ]
  },
  {
   "cell_type": "code",
   "execution_count": 13,
   "metadata": {},
   "outputs": [
    {
     "ename": "NameError",
     "evalue": "name 'get_cv_idxs' is not defined",
     "output_type": "error",
     "traceback": [
      "\u001b[0;31m---------------------------------------------------------------------------\u001b[0m",
      "\u001b[0;31mNameError\u001b[0m                                 Traceback (most recent call last)",
      "\u001b[0;32m<ipython-input-13-6403d327ced0>\u001b[0m in \u001b[0;36m<module>\u001b[0;34m\u001b[0m\n\u001b[1;32m      1\u001b[0m \u001b[0;31m# setup validation set\u001b[0m\u001b[0;34m\u001b[0m\u001b[0;34m\u001b[0m\u001b[0m\n\u001b[0;32m----> 2\u001b[0;31m \u001b[0mval_idx\u001b[0m \u001b[0;34m=\u001b[0m \u001b[0mget_cv_idxs\u001b[0m\u001b[0;34m(\u001b[0m\u001b[0mlabel_df\u001b[0m\u001b[0;34m.\u001b[0m\u001b[0mshape\u001b[0m\u001b[0;34m[\u001b[0m\u001b[0;36m0\u001b[0m\u001b[0;34m]\u001b[0m\u001b[0;34m,\u001b[0m \u001b[0mseed\u001b[0m \u001b[0;34m=\u001b[0m \u001b[0;36m123\u001b[0m\u001b[0;34m)\u001b[0m\u001b[0;34m\u001b[0m\u001b[0m\n\u001b[0m\u001b[1;32m      3\u001b[0m \u001b[0;34m\u001b[0m\u001b[0m\n\u001b[1;32m      4\u001b[0m \u001b[0march\u001b[0m \u001b[0;34m=\u001b[0m \u001b[0mresnet50\u001b[0m\u001b[0;34m\u001b[0m\u001b[0m\n\u001b[1;32m      5\u001b[0m \u001b[0;31m# sz = 224\u001b[0m\u001b[0;34m\u001b[0m\u001b[0;34m\u001b[0m\u001b[0m\n",
      "\u001b[0;31mNameError\u001b[0m: name 'get_cv_idxs' is not defined"
     ]
    }
   ],
   "source": [
    "# setup validation set\n",
    "val_idx = get_cv_idxs(label_df.shape[0], seed = 123)\n",
    "\n",
    "arch = resnet50\n",
    "# sz = 224\n",
    "# sz = 299\n",
    "sz = 331\n",
    "bs = 32\n",
    "\n",
    "tfms = tfms_from_model(model, sz, aug_tfms=transforms_top_down, max_zoom=1.)\n",
    "data = ImageClassifierData.from_csv(HOME_PATH, \"data\", os.path.join(\"resources\", \"labels.csv\"),\n",
    "                                   tfms = tfms, bs = bs, val_idxs = val_idx)"
   ]
  },
  {
   "cell_type": "code",
   "execution_count": 11,
   "metadata": {},
   "outputs": [],
   "source": [
    "class LearnerModelBuilder():\n",
    "    def __init__(self,model):\n",
    "        self.model = model\n",
    "    def get_layer_groups(self):\n",
    "        return [self.model]"
   ]
  },
  {
   "cell_type": "code",
   "execution_count": 51,
   "metadata": {},
   "outputs": [
    {
     "data": {
      "text/plain": [
       "PNASNet5Large(\n",
       "  (conv_0): Sequential(\n",
       "    (conv): Conv2d(3, 96, kernel_size=(3, 3), stride=(2, 2), bias=False)\n",
       "    (bn): BatchNorm2d(96, eps=0.001, momentum=0.1, affine=True, track_running_stats=True)\n",
       "  )\n",
       "  (cell_stem_0): CellStem0(\n",
       "    (conv_1x1): ReluConvBn(\n",
       "      (relu): ReLU()\n",
       "      (conv): Conv2d(96, 54, kernel_size=(1, 1), stride=(1, 1), bias=False)\n",
       "      (bn): BatchNorm2d(54, eps=0.001, momentum=0.1, affine=True, track_running_stats=True)\n",
       "    )\n",
       "    (comb_iter_0_left): BranchSeparables(\n",
       "      (relu_1): ReLU()\n",
       "      (separable_1): SeparableConv2d(\n",
       "        (depthwise_conv2d): Conv2d(96, 96, kernel_size=(5, 5), stride=(2, 2), padding=(2, 2), groups=96, bias=False)\n",
       "        (pointwise_conv2d): Conv2d(96, 54, kernel_size=(1, 1), stride=(1, 1), bias=False)\n",
       "      )\n",
       "      (bn_sep_1): BatchNorm2d(54, eps=0.001, momentum=0.1, affine=True, track_running_stats=True)\n",
       "      (relu_2): ReLU()\n",
       "      (separable_2): SeparableConv2d(\n",
       "        (depthwise_conv2d): Conv2d(54, 54, kernel_size=(5, 5), stride=(1, 1), padding=(2, 2), groups=54, bias=False)\n",
       "        (pointwise_conv2d): Conv2d(54, 54, kernel_size=(1, 1), stride=(1, 1), bias=False)\n",
       "      )\n",
       "      (bn_sep_2): BatchNorm2d(54, eps=0.001, momentum=0.1, affine=True, track_running_stats=True)\n",
       "    )\n",
       "    (comb_iter_0_right): Sequential(\n",
       "      (max_pool): MaxPool(\n",
       "        (pool): MaxPool2d(kernel_size=3, stride=2, padding=1, dilation=1, ceil_mode=False)\n",
       "      )\n",
       "      (conv): Conv2d(96, 54, kernel_size=(1, 1), stride=(1, 1), bias=False)\n",
       "      (bn): BatchNorm2d(54, eps=0.001, momentum=0.1, affine=True, track_running_stats=True)\n",
       "    )\n",
       "    (comb_iter_1_left): BranchSeparables(\n",
       "      (relu_1): ReLU()\n",
       "      (separable_1): SeparableConv2d(\n",
       "        (depthwise_conv2d): Conv2d(54, 54, kernel_size=(7, 7), stride=(2, 2), padding=(3, 3), groups=54, bias=False)\n",
       "        (pointwise_conv2d): Conv2d(54, 54, kernel_size=(1, 1), stride=(1, 1), bias=False)\n",
       "      )\n",
       "      (bn_sep_1): BatchNorm2d(54, eps=0.001, momentum=0.1, affine=True, track_running_stats=True)\n",
       "      (relu_2): ReLU()\n",
       "      (separable_2): SeparableConv2d(\n",
       "        (depthwise_conv2d): Conv2d(54, 54, kernel_size=(7, 7), stride=(1, 1), padding=(3, 3), groups=54, bias=False)\n",
       "        (pointwise_conv2d): Conv2d(54, 54, kernel_size=(1, 1), stride=(1, 1), bias=False)\n",
       "      )\n",
       "      (bn_sep_2): BatchNorm2d(54, eps=0.001, momentum=0.1, affine=True, track_running_stats=True)\n",
       "    )\n",
       "    (comb_iter_1_right): MaxPool(\n",
       "      (pool): MaxPool2d(kernel_size=3, stride=2, padding=1, dilation=1, ceil_mode=False)\n",
       "    )\n",
       "    (comb_iter_2_left): BranchSeparables(\n",
       "      (relu_1): ReLU()\n",
       "      (separable_1): SeparableConv2d(\n",
       "        (depthwise_conv2d): Conv2d(54, 54, kernel_size=(5, 5), stride=(2, 2), padding=(2, 2), groups=54, bias=False)\n",
       "        (pointwise_conv2d): Conv2d(54, 54, kernel_size=(1, 1), stride=(1, 1), bias=False)\n",
       "      )\n",
       "      (bn_sep_1): BatchNorm2d(54, eps=0.001, momentum=0.1, affine=True, track_running_stats=True)\n",
       "      (relu_2): ReLU()\n",
       "      (separable_2): SeparableConv2d(\n",
       "        (depthwise_conv2d): Conv2d(54, 54, kernel_size=(5, 5), stride=(1, 1), padding=(2, 2), groups=54, bias=False)\n",
       "        (pointwise_conv2d): Conv2d(54, 54, kernel_size=(1, 1), stride=(1, 1), bias=False)\n",
       "      )\n",
       "      (bn_sep_2): BatchNorm2d(54, eps=0.001, momentum=0.1, affine=True, track_running_stats=True)\n",
       "    )\n",
       "    (comb_iter_2_right): BranchSeparables(\n",
       "      (relu_1): ReLU()\n",
       "      (separable_1): SeparableConv2d(\n",
       "        (depthwise_conv2d): Conv2d(54, 54, kernel_size=(3, 3), stride=(2, 2), padding=(1, 1), groups=54, bias=False)\n",
       "        (pointwise_conv2d): Conv2d(54, 54, kernel_size=(1, 1), stride=(1, 1), bias=False)\n",
       "      )\n",
       "      (bn_sep_1): BatchNorm2d(54, eps=0.001, momentum=0.1, affine=True, track_running_stats=True)\n",
       "      (relu_2): ReLU()\n",
       "      (separable_2): SeparableConv2d(\n",
       "        (depthwise_conv2d): Conv2d(54, 54, kernel_size=(3, 3), stride=(1, 1), padding=(1, 1), groups=54, bias=False)\n",
       "        (pointwise_conv2d): Conv2d(54, 54, kernel_size=(1, 1), stride=(1, 1), bias=False)\n",
       "      )\n",
       "      (bn_sep_2): BatchNorm2d(54, eps=0.001, momentum=0.1, affine=True, track_running_stats=True)\n",
       "    )\n",
       "    (comb_iter_3_left): BranchSeparables(\n",
       "      (relu_1): ReLU()\n",
       "      (separable_1): SeparableConv2d(\n",
       "        (depthwise_conv2d): Conv2d(54, 54, kernel_size=(3, 3), stride=(1, 1), padding=(1, 1), groups=54, bias=False)\n",
       "        (pointwise_conv2d): Conv2d(54, 54, kernel_size=(1, 1), stride=(1, 1), bias=False)\n",
       "      )\n",
       "      (bn_sep_1): BatchNorm2d(54, eps=0.001, momentum=0.1, affine=True, track_running_stats=True)\n",
       "      (relu_2): ReLU()\n",
       "      (separable_2): SeparableConv2d(\n",
       "        (depthwise_conv2d): Conv2d(54, 54, kernel_size=(3, 3), stride=(1, 1), padding=(1, 1), groups=54, bias=False)\n",
       "        (pointwise_conv2d): Conv2d(54, 54, kernel_size=(1, 1), stride=(1, 1), bias=False)\n",
       "      )\n",
       "      (bn_sep_2): BatchNorm2d(54, eps=0.001, momentum=0.1, affine=True, track_running_stats=True)\n",
       "    )\n",
       "    (comb_iter_3_right): MaxPool(\n",
       "      (pool): MaxPool2d(kernel_size=3, stride=2, padding=1, dilation=1, ceil_mode=False)\n",
       "    )\n",
       "    (comb_iter_4_left): BranchSeparables(\n",
       "      (relu_1): ReLU()\n",
       "      (separable_1): SeparableConv2d(\n",
       "        (depthwise_conv2d): Conv2d(96, 96, kernel_size=(3, 3), stride=(2, 2), padding=(1, 1), groups=96, bias=False)\n",
       "        (pointwise_conv2d): Conv2d(96, 54, kernel_size=(1, 1), stride=(1, 1), bias=False)\n",
       "      )\n",
       "      (bn_sep_1): BatchNorm2d(54, eps=0.001, momentum=0.1, affine=True, track_running_stats=True)\n",
       "      (relu_2): ReLU()\n",
       "      (separable_2): SeparableConv2d(\n",
       "        (depthwise_conv2d): Conv2d(54, 54, kernel_size=(3, 3), stride=(1, 1), padding=(1, 1), groups=54, bias=False)\n",
       "        (pointwise_conv2d): Conv2d(54, 54, kernel_size=(1, 1), stride=(1, 1), bias=False)\n",
       "      )\n",
       "      (bn_sep_2): BatchNorm2d(54, eps=0.001, momentum=0.1, affine=True, track_running_stats=True)\n",
       "    )\n",
       "    (comb_iter_4_right): ReluConvBn(\n",
       "      (relu): ReLU()\n",
       "      (conv): Conv2d(54, 54, kernel_size=(1, 1), stride=(2, 2), bias=False)\n",
       "      (bn): BatchNorm2d(54, eps=0.001, momentum=0.1, affine=True, track_running_stats=True)\n",
       "    )\n",
       "  )\n",
       "  (cell_stem_1): Cell(\n",
       "    (conv_prev_1x1): FactorizedReduction(\n",
       "      (relu): ReLU()\n",
       "      (path_1): Sequential(\n",
       "        (avgpool): AvgPool2d(kernel_size=1, stride=2, padding=0)\n",
       "        (conv): Conv2d(96, 54, kernel_size=(1, 1), stride=(1, 1), bias=False)\n",
       "      )\n",
       "      (path_2): Sequential(\n",
       "        (pad): ZeroPad2d(padding=(0, 1, 0, 1), value=0)\n",
       "        (avgpool): AvgPool2d(kernel_size=1, stride=2, padding=0)\n",
       "        (conv): Conv2d(96, 54, kernel_size=(1, 1), stride=(1, 1), bias=False)\n",
       "      )\n",
       "      (final_path_bn): BatchNorm2d(108, eps=0.001, momentum=0.1, affine=True, track_running_stats=True)\n",
       "    )\n",
       "    (conv_1x1): ReluConvBn(\n",
       "      (relu): ReLU()\n",
       "      (conv): Conv2d(270, 108, kernel_size=(1, 1), stride=(1, 1), bias=False)\n",
       "      (bn): BatchNorm2d(108, eps=0.001, momentum=0.1, affine=True, track_running_stats=True)\n",
       "    )\n",
       "    (comb_iter_0_left): BranchSeparables(\n",
       "      (relu_1): ReLU()\n",
       "      (separable_1): SeparableConv2d(\n",
       "        (depthwise_conv2d): Conv2d(108, 108, kernel_size=(5, 5), stride=(2, 2), padding=(2, 2), groups=108, bias=False)\n",
       "        (pointwise_conv2d): Conv2d(108, 108, kernel_size=(1, 1), stride=(1, 1), bias=False)\n",
       "      )\n",
       "      (bn_sep_1): BatchNorm2d(108, eps=0.001, momentum=0.1, affine=True, track_running_stats=True)\n",
       "      (relu_2): ReLU()\n",
       "      (separable_2): SeparableConv2d(\n",
       "        (depthwise_conv2d): Conv2d(108, 108, kernel_size=(5, 5), stride=(1, 1), padding=(2, 2), groups=108, bias=False)\n",
       "        (pointwise_conv2d): Conv2d(108, 108, kernel_size=(1, 1), stride=(1, 1), bias=False)\n",
       "      )\n",
       "      (bn_sep_2): BatchNorm2d(108, eps=0.001, momentum=0.1, affine=True, track_running_stats=True)\n",
       "    )\n",
       "    (comb_iter_0_right): MaxPool(\n",
       "      (pool): MaxPool2d(kernel_size=3, stride=2, padding=1, dilation=1, ceil_mode=False)\n",
       "    )\n",
       "    (comb_iter_1_left): BranchSeparables(\n",
       "      (relu_1): ReLU()\n",
       "      (separable_1): SeparableConv2d(\n",
       "        (depthwise_conv2d): Conv2d(108, 108, kernel_size=(7, 7), stride=(2, 2), padding=(3, 3), groups=108, bias=False)\n",
       "        (pointwise_conv2d): Conv2d(108, 108, kernel_size=(1, 1), stride=(1, 1), bias=False)\n",
       "      )\n",
       "      (bn_sep_1): BatchNorm2d(108, eps=0.001, momentum=0.1, affine=True, track_running_stats=True)\n",
       "      (relu_2): ReLU()\n",
       "      (separable_2): SeparableConv2d(\n",
       "        (depthwise_conv2d): Conv2d(108, 108, kernel_size=(7, 7), stride=(1, 1), padding=(3, 3), groups=108, bias=False)\n",
       "        (pointwise_conv2d): Conv2d(108, 108, kernel_size=(1, 1), stride=(1, 1), bias=False)\n",
       "      )\n",
       "      (bn_sep_2): BatchNorm2d(108, eps=0.001, momentum=0.1, affine=True, track_running_stats=True)\n",
       "    )\n",
       "    (comb_iter_1_right): MaxPool(\n",
       "      (pool): MaxPool2d(kernel_size=3, stride=2, padding=1, dilation=1, ceil_mode=False)\n",
       "    )\n",
       "    (comb_iter_2_left): BranchSeparables(\n",
       "      (relu_1): ReLU()\n",
       "      (separable_1): SeparableConv2d(\n",
       "        (depthwise_conv2d): Conv2d(108, 108, kernel_size=(5, 5), stride=(2, 2), padding=(2, 2), groups=108, bias=False)\n",
       "        (pointwise_conv2d): Conv2d(108, 108, kernel_size=(1, 1), stride=(1, 1), bias=False)\n",
       "      )\n",
       "      (bn_sep_1): BatchNorm2d(108, eps=0.001, momentum=0.1, affine=True, track_running_stats=True)\n",
       "      (relu_2): ReLU()\n",
       "      (separable_2): SeparableConv2d(\n",
       "        (depthwise_conv2d): Conv2d(108, 108, kernel_size=(5, 5), stride=(1, 1), padding=(2, 2), groups=108, bias=False)\n",
       "        (pointwise_conv2d): Conv2d(108, 108, kernel_size=(1, 1), stride=(1, 1), bias=False)\n",
       "      )\n",
       "      (bn_sep_2): BatchNorm2d(108, eps=0.001, momentum=0.1, affine=True, track_running_stats=True)\n",
       "    )\n",
       "    (comb_iter_2_right): BranchSeparables(\n",
       "      (relu_1): ReLU()\n",
       "      (separable_1): SeparableConv2d(\n",
       "        (depthwise_conv2d): Conv2d(108, 108, kernel_size=(3, 3), stride=(2, 2), padding=(1, 1), groups=108, bias=False)\n",
       "        (pointwise_conv2d): Conv2d(108, 108, kernel_size=(1, 1), stride=(1, 1), bias=False)\n",
       "      )\n",
       "      (bn_sep_1): BatchNorm2d(108, eps=0.001, momentum=0.1, affine=True, track_running_stats=True)\n",
       "      (relu_2): ReLU()\n",
       "      (separable_2): SeparableConv2d(\n",
       "        (depthwise_conv2d): Conv2d(108, 108, kernel_size=(3, 3), stride=(1, 1), padding=(1, 1), groups=108, bias=False)\n",
       "        (pointwise_conv2d): Conv2d(108, 108, kernel_size=(1, 1), stride=(1, 1), bias=False)\n",
       "      )\n",
       "      (bn_sep_2): BatchNorm2d(108, eps=0.001, momentum=0.1, affine=True, track_running_stats=True)\n",
       "    )\n",
       "    (comb_iter_3_left): BranchSeparables(\n",
       "      (relu_1): ReLU()\n",
       "      (separable_1): SeparableConv2d(\n",
       "        (depthwise_conv2d): Conv2d(108, 108, kernel_size=(3, 3), stride=(1, 1), padding=(1, 1), groups=108, bias=False)\n",
       "        (pointwise_conv2d): Conv2d(108, 108, kernel_size=(1, 1), stride=(1, 1), bias=False)\n",
       "      )\n",
       "      (bn_sep_1): BatchNorm2d(108, eps=0.001, momentum=0.1, affine=True, track_running_stats=True)\n",
       "      (relu_2): ReLU()\n",
       "      (separable_2): SeparableConv2d(\n",
       "        (depthwise_conv2d): Conv2d(108, 108, kernel_size=(3, 3), stride=(1, 1), padding=(1, 1), groups=108, bias=False)\n",
       "        (pointwise_conv2d): Conv2d(108, 108, kernel_size=(1, 1), stride=(1, 1), bias=False)\n",
       "      )\n",
       "      (bn_sep_2): BatchNorm2d(108, eps=0.001, momentum=0.1, affine=True, track_running_stats=True)\n",
       "    )\n",
       "    (comb_iter_3_right): MaxPool(\n",
       "      (pool): MaxPool2d(kernel_size=3, stride=2, padding=1, dilation=1, ceil_mode=False)\n",
       "    )\n",
       "    (comb_iter_4_left): BranchSeparables(\n",
       "      (relu_1): ReLU()\n",
       "      (separable_1): SeparableConv2d(\n",
       "        (depthwise_conv2d): Conv2d(108, 108, kernel_size=(3, 3), stride=(2, 2), padding=(1, 1), groups=108, bias=False)\n",
       "        (pointwise_conv2d): Conv2d(108, 108, kernel_size=(1, 1), stride=(1, 1), bias=False)\n",
       "      )\n",
       "      (bn_sep_1): BatchNorm2d(108, eps=0.001, momentum=0.1, affine=True, track_running_stats=True)\n",
       "      (relu_2): ReLU()\n",
       "      (separable_2): SeparableConv2d(\n",
       "        (depthwise_conv2d): Conv2d(108, 108, kernel_size=(3, 3), stride=(1, 1), padding=(1, 1), groups=108, bias=False)\n",
       "        (pointwise_conv2d): Conv2d(108, 108, kernel_size=(1, 1), stride=(1, 1), bias=False)\n",
       "      )\n",
       "      (bn_sep_2): BatchNorm2d(108, eps=0.001, momentum=0.1, affine=True, track_running_stats=True)\n",
       "    )\n",
       "    (comb_iter_4_right): ReluConvBn(\n",
       "      (relu): ReLU()\n",
       "      (conv): Conv2d(108, 108, kernel_size=(1, 1), stride=(2, 2), bias=False)\n",
       "      (bn): BatchNorm2d(108, eps=0.001, momentum=0.1, affine=True, track_running_stats=True)\n",
       "    )\n",
       "  )\n",
       "  (cell_0): Cell(\n",
       "    (conv_prev_1x1): FactorizedReduction(\n",
       "      (relu): ReLU()\n",
       "      (path_1): Sequential(\n",
       "        (avgpool): AvgPool2d(kernel_size=1, stride=2, padding=0)\n",
       "        (conv): Conv2d(270, 108, kernel_size=(1, 1), stride=(1, 1), bias=False)\n",
       "      )\n",
       "      (path_2): Sequential(\n",
       "        (pad): ZeroPad2d(padding=(0, 1, 0, 1), value=0)\n",
       "        (avgpool): AvgPool2d(kernel_size=1, stride=2, padding=0)\n",
       "        (conv): Conv2d(270, 108, kernel_size=(1, 1), stride=(1, 1), bias=False)\n",
       "      )\n",
       "      (final_path_bn): BatchNorm2d(216, eps=0.001, momentum=0.1, affine=True, track_running_stats=True)\n",
       "    )\n",
       "    (conv_1x1): ReluConvBn(\n",
       "      (relu): ReLU()\n",
       "      (conv): Conv2d(540, 216, kernel_size=(1, 1), stride=(1, 1), bias=False)\n",
       "      (bn): BatchNorm2d(216, eps=0.001, momentum=0.1, affine=True, track_running_stats=True)\n",
       "    )\n",
       "    (comb_iter_0_left): BranchSeparables(\n",
       "      (relu_1): ReLU()\n",
       "      (separable_1): SeparableConv2d(\n",
       "        (depthwise_conv2d): Conv2d(216, 216, kernel_size=(5, 5), stride=(1, 1), padding=(2, 2), groups=216, bias=False)\n",
       "        (pointwise_conv2d): Conv2d(216, 216, kernel_size=(1, 1), stride=(1, 1), bias=False)\n",
       "      )\n",
       "      (bn_sep_1): BatchNorm2d(216, eps=0.001, momentum=0.1, affine=True, track_running_stats=True)\n",
       "      (relu_2): ReLU()\n",
       "      (separable_2): SeparableConv2d(\n",
       "        (depthwise_conv2d): Conv2d(216, 216, kernel_size=(5, 5), stride=(1, 1), padding=(2, 2), groups=216, bias=False)\n",
       "        (pointwise_conv2d): Conv2d(216, 216, kernel_size=(1, 1), stride=(1, 1), bias=False)\n",
       "      )\n",
       "      (bn_sep_2): BatchNorm2d(216, eps=0.001, momentum=0.1, affine=True, track_running_stats=True)\n",
       "    )\n",
       "    (comb_iter_0_right): MaxPool(\n",
       "      (pool): MaxPool2d(kernel_size=3, stride=1, padding=1, dilation=1, ceil_mode=False)\n",
       "    )\n",
       "    (comb_iter_1_left): BranchSeparables(\n",
       "      (relu_1): ReLU()\n",
       "      (separable_1): SeparableConv2d(\n",
       "        (depthwise_conv2d): Conv2d(216, 216, kernel_size=(7, 7), stride=(1, 1), padding=(3, 3), groups=216, bias=False)\n",
       "        (pointwise_conv2d): Conv2d(216, 216, kernel_size=(1, 1), stride=(1, 1), bias=False)\n",
       "      )\n",
       "      (bn_sep_1): BatchNorm2d(216, eps=0.001, momentum=0.1, affine=True, track_running_stats=True)\n",
       "      (relu_2): ReLU()\n",
       "      (separable_2): SeparableConv2d(\n",
       "        (depthwise_conv2d): Conv2d(216, 216, kernel_size=(7, 7), stride=(1, 1), padding=(3, 3), groups=216, bias=False)\n",
       "        (pointwise_conv2d): Conv2d(216, 216, kernel_size=(1, 1), stride=(1, 1), bias=False)\n",
       "      )\n",
       "      (bn_sep_2): BatchNorm2d(216, eps=0.001, momentum=0.1, affine=True, track_running_stats=True)\n",
       "    )\n",
       "    (comb_iter_1_right): MaxPool(\n",
       "      (pool): MaxPool2d(kernel_size=3, stride=1, padding=1, dilation=1, ceil_mode=False)\n",
       "    )\n",
       "    (comb_iter_2_left): BranchSeparables(\n",
       "      (relu_1): ReLU()\n",
       "      (separable_1): SeparableConv2d(\n",
       "        (depthwise_conv2d): Conv2d(216, 216, kernel_size=(5, 5), stride=(1, 1), padding=(2, 2), groups=216, bias=False)\n",
       "        (pointwise_conv2d): Conv2d(216, 216, kernel_size=(1, 1), stride=(1, 1), bias=False)\n",
       "      )\n",
       "      (bn_sep_1): BatchNorm2d(216, eps=0.001, momentum=0.1, affine=True, track_running_stats=True)\n",
       "      (relu_2): ReLU()\n",
       "      (separable_2): SeparableConv2d(\n",
       "        (depthwise_conv2d): Conv2d(216, 216, kernel_size=(5, 5), stride=(1, 1), padding=(2, 2), groups=216, bias=False)\n",
       "        (pointwise_conv2d): Conv2d(216, 216, kernel_size=(1, 1), stride=(1, 1), bias=False)\n",
       "      )\n",
       "      (bn_sep_2): BatchNorm2d(216, eps=0.001, momentum=0.1, affine=True, track_running_stats=True)\n",
       "    )\n",
       "    (comb_iter_2_right): BranchSeparables(\n",
       "      (relu_1): ReLU()\n",
       "      (separable_1): SeparableConv2d(\n",
       "        (depthwise_conv2d): Conv2d(216, 216, kernel_size=(3, 3), stride=(1, 1), padding=(1, 1), groups=216, bias=False)\n",
       "        (pointwise_conv2d): Conv2d(216, 216, kernel_size=(1, 1), stride=(1, 1), bias=False)\n",
       "      )\n",
       "      (bn_sep_1): BatchNorm2d(216, eps=0.001, momentum=0.1, affine=True, track_running_stats=True)\n",
       "      (relu_2): ReLU()\n",
       "      (separable_2): SeparableConv2d(\n",
       "        (depthwise_conv2d): Conv2d(216, 216, kernel_size=(3, 3), stride=(1, 1), padding=(1, 1), groups=216, bias=False)\n",
       "        (pointwise_conv2d): Conv2d(216, 216, kernel_size=(1, 1), stride=(1, 1), bias=False)\n",
       "      )\n",
       "      (bn_sep_2): BatchNorm2d(216, eps=0.001, momentum=0.1, affine=True, track_running_stats=True)\n",
       "    )\n",
       "    (comb_iter_3_left): BranchSeparables(\n",
       "      (relu_1): ReLU()\n",
       "      (separable_1): SeparableConv2d(\n",
       "        (depthwise_conv2d): Conv2d(216, 216, kernel_size=(3, 3), stride=(1, 1), padding=(1, 1), groups=216, bias=False)\n",
       "        (pointwise_conv2d): Conv2d(216, 216, kernel_size=(1, 1), stride=(1, 1), bias=False)\n",
       "      )\n",
       "      (bn_sep_1): BatchNorm2d(216, eps=0.001, momentum=0.1, affine=True, track_running_stats=True)\n",
       "      (relu_2): ReLU()\n",
       "      (separable_2): SeparableConv2d(\n",
       "        (depthwise_conv2d): Conv2d(216, 216, kernel_size=(3, 3), stride=(1, 1), padding=(1, 1), groups=216, bias=False)\n",
       "        (pointwise_conv2d): Conv2d(216, 216, kernel_size=(1, 1), stride=(1, 1), bias=False)\n",
       "      )\n",
       "      (bn_sep_2): BatchNorm2d(216, eps=0.001, momentum=0.1, affine=True, track_running_stats=True)\n",
       "    )\n",
       "    (comb_iter_3_right): MaxPool(\n",
       "      (pool): MaxPool2d(kernel_size=3, stride=1, padding=1, dilation=1, ceil_mode=False)\n",
       "    )\n",
       "    (comb_iter_4_left): BranchSeparables(\n",
       "      (relu_1): ReLU()\n",
       "      (separable_1): SeparableConv2d(\n",
       "        (depthwise_conv2d): Conv2d(216, 216, kernel_size=(3, 3), stride=(1, 1), padding=(1, 1), groups=216, bias=False)\n",
       "        (pointwise_conv2d): Conv2d(216, 216, kernel_size=(1, 1), stride=(1, 1), bias=False)\n",
       "      )\n",
       "      (bn_sep_1): BatchNorm2d(216, eps=0.001, momentum=0.1, affine=True, track_running_stats=True)\n",
       "      (relu_2): ReLU()\n",
       "      (separable_2): SeparableConv2d(\n",
       "        (depthwise_conv2d): Conv2d(216, 216, kernel_size=(3, 3), stride=(1, 1), padding=(1, 1), groups=216, bias=False)\n",
       "        (pointwise_conv2d): Conv2d(216, 216, kernel_size=(1, 1), stride=(1, 1), bias=False)\n",
       "      )\n",
       "      (bn_sep_2): BatchNorm2d(216, eps=0.001, momentum=0.1, affine=True, track_running_stats=True)\n",
       "    )\n",
       "  )\n",
       "  (cell_1): Cell(\n",
       "    (conv_prev_1x1): ReluConvBn(\n",
       "      (relu): ReLU()\n",
       "      (conv): Conv2d(540, 216, kernel_size=(1, 1), stride=(1, 1), bias=False)\n",
       "      (bn): BatchNorm2d(216, eps=0.001, momentum=0.1, affine=True, track_running_stats=True)\n",
       "    )\n",
       "    (conv_1x1): ReluConvBn(\n",
       "      (relu): ReLU()\n",
       "      (conv): Conv2d(1080, 216, kernel_size=(1, 1), stride=(1, 1), bias=False)\n",
       "      (bn): BatchNorm2d(216, eps=0.001, momentum=0.1, affine=True, track_running_stats=True)\n",
       "    )\n",
       "    (comb_iter_0_left): BranchSeparables(\n",
       "      (relu_1): ReLU()\n",
       "      (separable_1): SeparableConv2d(\n",
       "        (depthwise_conv2d): Conv2d(216, 216, kernel_size=(5, 5), stride=(1, 1), padding=(2, 2), groups=216, bias=False)\n",
       "        (pointwise_conv2d): Conv2d(216, 216, kernel_size=(1, 1), stride=(1, 1), bias=False)\n",
       "      )\n",
       "      (bn_sep_1): BatchNorm2d(216, eps=0.001, momentum=0.1, affine=True, track_running_stats=True)\n",
       "      (relu_2): ReLU()\n",
       "      (separable_2): SeparableConv2d(\n",
       "        (depthwise_conv2d): Conv2d(216, 216, kernel_size=(5, 5), stride=(1, 1), padding=(2, 2), groups=216, bias=False)\n",
       "        (pointwise_conv2d): Conv2d(216, 216, kernel_size=(1, 1), stride=(1, 1), bias=False)\n",
       "      )\n",
       "      (bn_sep_2): BatchNorm2d(216, eps=0.001, momentum=0.1, affine=True, track_running_stats=True)\n",
       "    )\n",
       "    (comb_iter_0_right): MaxPool(\n",
       "      (pool): MaxPool2d(kernel_size=3, stride=1, padding=1, dilation=1, ceil_mode=False)\n",
       "    )\n",
       "    (comb_iter_1_left): BranchSeparables(\n",
       "      (relu_1): ReLU()\n",
       "      (separable_1): SeparableConv2d(\n",
       "        (depthwise_conv2d): Conv2d(216, 216, kernel_size=(7, 7), stride=(1, 1), padding=(3, 3), groups=216, bias=False)\n",
       "        (pointwise_conv2d): Conv2d(216, 216, kernel_size=(1, 1), stride=(1, 1), bias=False)\n",
       "      )\n",
       "      (bn_sep_1): BatchNorm2d(216, eps=0.001, momentum=0.1, affine=True, track_running_stats=True)\n",
       "      (relu_2): ReLU()\n",
       "      (separable_2): SeparableConv2d(\n",
       "        (depthwise_conv2d): Conv2d(216, 216, kernel_size=(7, 7), stride=(1, 1), padding=(3, 3), groups=216, bias=False)\n",
       "        (pointwise_conv2d): Conv2d(216, 216, kernel_size=(1, 1), stride=(1, 1), bias=False)\n",
       "      )\n",
       "      (bn_sep_2): BatchNorm2d(216, eps=0.001, momentum=0.1, affine=True, track_running_stats=True)\n",
       "    )\n",
       "    (comb_iter_1_right): MaxPool(\n",
       "      (pool): MaxPool2d(kernel_size=3, stride=1, padding=1, dilation=1, ceil_mode=False)\n",
       "    )\n",
       "    (comb_iter_2_left): BranchSeparables(\n",
       "      (relu_1): ReLU()\n",
       "      (separable_1): SeparableConv2d(\n",
       "        (depthwise_conv2d): Conv2d(216, 216, kernel_size=(5, 5), stride=(1, 1), padding=(2, 2), groups=216, bias=False)\n",
       "        (pointwise_conv2d): Conv2d(216, 216, kernel_size=(1, 1), stride=(1, 1), bias=False)\n",
       "      )\n",
       "      (bn_sep_1): BatchNorm2d(216, eps=0.001, momentum=0.1, affine=True, track_running_stats=True)\n",
       "      (relu_2): ReLU()\n",
       "      (separable_2): SeparableConv2d(\n",
       "        (depthwise_conv2d): Conv2d(216, 216, kernel_size=(5, 5), stride=(1, 1), padding=(2, 2), groups=216, bias=False)\n",
       "        (pointwise_conv2d): Conv2d(216, 216, kernel_size=(1, 1), stride=(1, 1), bias=False)\n",
       "      )\n",
       "      (bn_sep_2): BatchNorm2d(216, eps=0.001, momentum=0.1, affine=True, track_running_stats=True)\n",
       "    )\n",
       "    (comb_iter_2_right): BranchSeparables(\n",
       "      (relu_1): ReLU()\n",
       "      (separable_1): SeparableConv2d(\n",
       "        (depthwise_conv2d): Conv2d(216, 216, kernel_size=(3, 3), stride=(1, 1), padding=(1, 1), groups=216, bias=False)\n",
       "        (pointwise_conv2d): Conv2d(216, 216, kernel_size=(1, 1), stride=(1, 1), bias=False)\n",
       "      )\n",
       "      (bn_sep_1): BatchNorm2d(216, eps=0.001, momentum=0.1, affine=True, track_running_stats=True)\n",
       "      (relu_2): ReLU()\n",
       "      (separable_2): SeparableConv2d(\n",
       "        (depthwise_conv2d): Conv2d(216, 216, kernel_size=(3, 3), stride=(1, 1), padding=(1, 1), groups=216, bias=False)\n",
       "        (pointwise_conv2d): Conv2d(216, 216, kernel_size=(1, 1), stride=(1, 1), bias=False)\n",
       "      )\n",
       "      (bn_sep_2): BatchNorm2d(216, eps=0.001, momentum=0.1, affine=True, track_running_stats=True)\n",
       "    )\n",
       "    (comb_iter_3_left): BranchSeparables(\n",
       "      (relu_1): ReLU()\n",
       "      (separable_1): SeparableConv2d(\n",
       "        (depthwise_conv2d): Conv2d(216, 216, kernel_size=(3, 3), stride=(1, 1), padding=(1, 1), groups=216, bias=False)\n",
       "        (pointwise_conv2d): Conv2d(216, 216, kernel_size=(1, 1), stride=(1, 1), bias=False)\n",
       "      )\n",
       "      (bn_sep_1): BatchNorm2d(216, eps=0.001, momentum=0.1, affine=True, track_running_stats=True)\n",
       "      (relu_2): ReLU()\n",
       "      (separable_2): SeparableConv2d(\n",
       "        (depthwise_conv2d): Conv2d(216, 216, kernel_size=(3, 3), stride=(1, 1), padding=(1, 1), groups=216, bias=False)\n",
       "        (pointwise_conv2d): Conv2d(216, 216, kernel_size=(1, 1), stride=(1, 1), bias=False)\n",
       "      )\n",
       "      (bn_sep_2): BatchNorm2d(216, eps=0.001, momentum=0.1, affine=True, track_running_stats=True)\n",
       "    )\n",
       "    (comb_iter_3_right): MaxPool(\n",
       "      (pool): MaxPool2d(kernel_size=3, stride=1, padding=1, dilation=1, ceil_mode=False)\n",
       "    )\n",
       "    (comb_iter_4_left): BranchSeparables(\n",
       "      (relu_1): ReLU()\n",
       "      (separable_1): SeparableConv2d(\n",
       "        (depthwise_conv2d): Conv2d(216, 216, kernel_size=(3, 3), stride=(1, 1), padding=(1, 1), groups=216, bias=False)\n",
       "        (pointwise_conv2d): Conv2d(216, 216, kernel_size=(1, 1), stride=(1, 1), bias=False)\n",
       "      )\n",
       "      (bn_sep_1): BatchNorm2d(216, eps=0.001, momentum=0.1, affine=True, track_running_stats=True)\n",
       "      (relu_2): ReLU()\n",
       "      (separable_2): SeparableConv2d(\n",
       "        (depthwise_conv2d): Conv2d(216, 216, kernel_size=(3, 3), stride=(1, 1), padding=(1, 1), groups=216, bias=False)\n",
       "        (pointwise_conv2d): Conv2d(216, 216, kernel_size=(1, 1), stride=(1, 1), bias=False)\n",
       "      )\n",
       "      (bn_sep_2): BatchNorm2d(216, eps=0.001, momentum=0.1, affine=True, track_running_stats=True)\n",
       "    )\n",
       "  )\n",
       "  (cell_2): Cell(\n",
       "    (conv_prev_1x1): ReluConvBn(\n",
       "      (relu): ReLU()\n",
       "      (conv): Conv2d(1080, 216, kernel_size=(1, 1), stride=(1, 1), bias=False)\n",
       "      (bn): BatchNorm2d(216, eps=0.001, momentum=0.1, affine=True, track_running_stats=True)\n",
       "    )\n",
       "    (conv_1x1): ReluConvBn(\n",
       "      (relu): ReLU()\n",
       "      (conv): Conv2d(1080, 216, kernel_size=(1, 1), stride=(1, 1), bias=False)\n",
       "      (bn): BatchNorm2d(216, eps=0.001, momentum=0.1, affine=True, track_running_stats=True)\n",
       "    )\n",
       "    (comb_iter_0_left): BranchSeparables(\n",
       "      (relu_1): ReLU()\n",
       "      (separable_1): SeparableConv2d(\n",
       "        (depthwise_conv2d): Conv2d(216, 216, kernel_size=(5, 5), stride=(1, 1), padding=(2, 2), groups=216, bias=False)\n",
       "        (pointwise_conv2d): Conv2d(216, 216, kernel_size=(1, 1), stride=(1, 1), bias=False)\n",
       "      )\n",
       "      (bn_sep_1): BatchNorm2d(216, eps=0.001, momentum=0.1, affine=True, track_running_stats=True)\n",
       "      (relu_2): ReLU()\n",
       "      (separable_2): SeparableConv2d(\n",
       "        (depthwise_conv2d): Conv2d(216, 216, kernel_size=(5, 5), stride=(1, 1), padding=(2, 2), groups=216, bias=False)\n",
       "        (pointwise_conv2d): Conv2d(216, 216, kernel_size=(1, 1), stride=(1, 1), bias=False)\n",
       "      )\n",
       "      (bn_sep_2): BatchNorm2d(216, eps=0.001, momentum=0.1, affine=True, track_running_stats=True)\n",
       "    )\n",
       "    (comb_iter_0_right): MaxPool(\n",
       "      (pool): MaxPool2d(kernel_size=3, stride=1, padding=1, dilation=1, ceil_mode=False)\n",
       "    )\n",
       "    (comb_iter_1_left): BranchSeparables(\n",
       "      (relu_1): ReLU()\n",
       "      (separable_1): SeparableConv2d(\n",
       "        (depthwise_conv2d): Conv2d(216, 216, kernel_size=(7, 7), stride=(1, 1), padding=(3, 3), groups=216, bias=False)\n",
       "        (pointwise_conv2d): Conv2d(216, 216, kernel_size=(1, 1), stride=(1, 1), bias=False)\n",
       "      )\n",
       "      (bn_sep_1): BatchNorm2d(216, eps=0.001, momentum=0.1, affine=True, track_running_stats=True)\n",
       "      (relu_2): ReLU()\n",
       "      (separable_2): SeparableConv2d(\n",
       "        (depthwise_conv2d): Conv2d(216, 216, kernel_size=(7, 7), stride=(1, 1), padding=(3, 3), groups=216, bias=False)\n",
       "        (pointwise_conv2d): Conv2d(216, 216, kernel_size=(1, 1), stride=(1, 1), bias=False)\n",
       "      )\n",
       "      (bn_sep_2): BatchNorm2d(216, eps=0.001, momentum=0.1, affine=True, track_running_stats=True)\n",
       "    )\n",
       "    (comb_iter_1_right): MaxPool(\n",
       "      (pool): MaxPool2d(kernel_size=3, stride=1, padding=1, dilation=1, ceil_mode=False)\n",
       "    )\n",
       "    (comb_iter_2_left): BranchSeparables(\n",
       "      (relu_1): ReLU()\n",
       "      (separable_1): SeparableConv2d(\n",
       "        (depthwise_conv2d): Conv2d(216, 216, kernel_size=(5, 5), stride=(1, 1), padding=(2, 2), groups=216, bias=False)\n",
       "        (pointwise_conv2d): Conv2d(216, 216, kernel_size=(1, 1), stride=(1, 1), bias=False)\n",
       "      )\n",
       "      (bn_sep_1): BatchNorm2d(216, eps=0.001, momentum=0.1, affine=True, track_running_stats=True)\n",
       "      (relu_2): ReLU()\n",
       "      (separable_2): SeparableConv2d(\n",
       "        (depthwise_conv2d): Conv2d(216, 216, kernel_size=(5, 5), stride=(1, 1), padding=(2, 2), groups=216, bias=False)\n",
       "        (pointwise_conv2d): Conv2d(216, 216, kernel_size=(1, 1), stride=(1, 1), bias=False)\n",
       "      )\n",
       "      (bn_sep_2): BatchNorm2d(216, eps=0.001, momentum=0.1, affine=True, track_running_stats=True)\n",
       "    )\n",
       "    (comb_iter_2_right): BranchSeparables(\n",
       "      (relu_1): ReLU()\n",
       "      (separable_1): SeparableConv2d(\n",
       "        (depthwise_conv2d): Conv2d(216, 216, kernel_size=(3, 3), stride=(1, 1), padding=(1, 1), groups=216, bias=False)\n",
       "        (pointwise_conv2d): Conv2d(216, 216, kernel_size=(1, 1), stride=(1, 1), bias=False)\n",
       "      )\n",
       "      (bn_sep_1): BatchNorm2d(216, eps=0.001, momentum=0.1, affine=True, track_running_stats=True)\n",
       "      (relu_2): ReLU()\n",
       "      (separable_2): SeparableConv2d(\n",
       "        (depthwise_conv2d): Conv2d(216, 216, kernel_size=(3, 3), stride=(1, 1), padding=(1, 1), groups=216, bias=False)\n",
       "        (pointwise_conv2d): Conv2d(216, 216, kernel_size=(1, 1), stride=(1, 1), bias=False)\n",
       "      )\n",
       "      (bn_sep_2): BatchNorm2d(216, eps=0.001, momentum=0.1, affine=True, track_running_stats=True)\n",
       "    )\n",
       "    (comb_iter_3_left): BranchSeparables(\n",
       "      (relu_1): ReLU()\n",
       "      (separable_1): SeparableConv2d(\n",
       "        (depthwise_conv2d): Conv2d(216, 216, kernel_size=(3, 3), stride=(1, 1), padding=(1, 1), groups=216, bias=False)\n",
       "        (pointwise_conv2d): Conv2d(216, 216, kernel_size=(1, 1), stride=(1, 1), bias=False)\n",
       "      )\n",
       "      (bn_sep_1): BatchNorm2d(216, eps=0.001, momentum=0.1, affine=True, track_running_stats=True)\n",
       "      (relu_2): ReLU()\n",
       "      (separable_2): SeparableConv2d(\n",
       "        (depthwise_conv2d): Conv2d(216, 216, kernel_size=(3, 3), stride=(1, 1), padding=(1, 1), groups=216, bias=False)\n",
       "        (pointwise_conv2d): Conv2d(216, 216, kernel_size=(1, 1), stride=(1, 1), bias=False)\n",
       "      )\n",
       "      (bn_sep_2): BatchNorm2d(216, eps=0.001, momentum=0.1, affine=True, track_running_stats=True)\n",
       "    )\n",
       "    (comb_iter_3_right): MaxPool(\n",
       "      (pool): MaxPool2d(kernel_size=3, stride=1, padding=1, dilation=1, ceil_mode=False)\n",
       "    )\n",
       "    (comb_iter_4_left): BranchSeparables(\n",
       "      (relu_1): ReLU()\n",
       "      (separable_1): SeparableConv2d(\n",
       "        (depthwise_conv2d): Conv2d(216, 216, kernel_size=(3, 3), stride=(1, 1), padding=(1, 1), groups=216, bias=False)\n",
       "        (pointwise_conv2d): Conv2d(216, 216, kernel_size=(1, 1), stride=(1, 1), bias=False)\n",
       "      )\n",
       "      (bn_sep_1): BatchNorm2d(216, eps=0.001, momentum=0.1, affine=True, track_running_stats=True)\n",
       "      (relu_2): ReLU()\n",
       "      (separable_2): SeparableConv2d(\n",
       "        (depthwise_conv2d): Conv2d(216, 216, kernel_size=(3, 3), stride=(1, 1), padding=(1, 1), groups=216, bias=False)\n",
       "        (pointwise_conv2d): Conv2d(216, 216, kernel_size=(1, 1), stride=(1, 1), bias=False)\n",
       "      )\n",
       "      (bn_sep_2): BatchNorm2d(216, eps=0.001, momentum=0.1, affine=True, track_running_stats=True)\n",
       "    )\n",
       "  )\n",
       "  (cell_3): Cell(\n",
       "    (conv_prev_1x1): ReluConvBn(\n",
       "      (relu): ReLU()\n",
       "      (conv): Conv2d(1080, 216, kernel_size=(1, 1), stride=(1, 1), bias=False)\n",
       "      (bn): BatchNorm2d(216, eps=0.001, momentum=0.1, affine=True, track_running_stats=True)\n",
       "    )\n",
       "    (conv_1x1): ReluConvBn(\n",
       "      (relu): ReLU()\n",
       "      (conv): Conv2d(1080, 216, kernel_size=(1, 1), stride=(1, 1), bias=False)\n",
       "      (bn): BatchNorm2d(216, eps=0.001, momentum=0.1, affine=True, track_running_stats=True)\n",
       "    )\n",
       "    (comb_iter_0_left): BranchSeparables(\n",
       "      (relu_1): ReLU()\n",
       "      (separable_1): SeparableConv2d(\n",
       "        (depthwise_conv2d): Conv2d(216, 216, kernel_size=(5, 5), stride=(1, 1), padding=(2, 2), groups=216, bias=False)\n",
       "        (pointwise_conv2d): Conv2d(216, 216, kernel_size=(1, 1), stride=(1, 1), bias=False)\n",
       "      )\n",
       "      (bn_sep_1): BatchNorm2d(216, eps=0.001, momentum=0.1, affine=True, track_running_stats=True)\n",
       "      (relu_2): ReLU()\n",
       "      (separable_2): SeparableConv2d(\n",
       "        (depthwise_conv2d): Conv2d(216, 216, kernel_size=(5, 5), stride=(1, 1), padding=(2, 2), groups=216, bias=False)\n",
       "        (pointwise_conv2d): Conv2d(216, 216, kernel_size=(1, 1), stride=(1, 1), bias=False)\n",
       "      )\n",
       "      (bn_sep_2): BatchNorm2d(216, eps=0.001, momentum=0.1, affine=True, track_running_stats=True)\n",
       "    )\n",
       "    (comb_iter_0_right): MaxPool(\n",
       "      (pool): MaxPool2d(kernel_size=3, stride=1, padding=1, dilation=1, ceil_mode=False)\n",
       "    )\n",
       "    (comb_iter_1_left): BranchSeparables(\n",
       "      (relu_1): ReLU()\n",
       "      (separable_1): SeparableConv2d(\n",
       "        (depthwise_conv2d): Conv2d(216, 216, kernel_size=(7, 7), stride=(1, 1), padding=(3, 3), groups=216, bias=False)\n",
       "        (pointwise_conv2d): Conv2d(216, 216, kernel_size=(1, 1), stride=(1, 1), bias=False)\n",
       "      )\n",
       "      (bn_sep_1): BatchNorm2d(216, eps=0.001, momentum=0.1, affine=True, track_running_stats=True)\n",
       "      (relu_2): ReLU()\n",
       "      (separable_2): SeparableConv2d(\n",
       "        (depthwise_conv2d): Conv2d(216, 216, kernel_size=(7, 7), stride=(1, 1), padding=(3, 3), groups=216, bias=False)\n",
       "        (pointwise_conv2d): Conv2d(216, 216, kernel_size=(1, 1), stride=(1, 1), bias=False)\n",
       "      )\n",
       "      (bn_sep_2): BatchNorm2d(216, eps=0.001, momentum=0.1, affine=True, track_running_stats=True)\n",
       "    )\n",
       "    (comb_iter_1_right): MaxPool(\n",
       "      (pool): MaxPool2d(kernel_size=3, stride=1, padding=1, dilation=1, ceil_mode=False)\n",
       "    )\n",
       "    (comb_iter_2_left): BranchSeparables(\n",
       "      (relu_1): ReLU()\n",
       "      (separable_1): SeparableConv2d(\n",
       "        (depthwise_conv2d): Conv2d(216, 216, kernel_size=(5, 5), stride=(1, 1), padding=(2, 2), groups=216, bias=False)\n",
       "        (pointwise_conv2d): Conv2d(216, 216, kernel_size=(1, 1), stride=(1, 1), bias=False)\n",
       "      )\n",
       "      (bn_sep_1): BatchNorm2d(216, eps=0.001, momentum=0.1, affine=True, track_running_stats=True)\n",
       "      (relu_2): ReLU()\n",
       "      (separable_2): SeparableConv2d(\n",
       "        (depthwise_conv2d): Conv2d(216, 216, kernel_size=(5, 5), stride=(1, 1), padding=(2, 2), groups=216, bias=False)\n",
       "        (pointwise_conv2d): Conv2d(216, 216, kernel_size=(1, 1), stride=(1, 1), bias=False)\n",
       "      )\n",
       "      (bn_sep_2): BatchNorm2d(216, eps=0.001, momentum=0.1, affine=True, track_running_stats=True)\n",
       "    )\n",
       "    (comb_iter_2_right): BranchSeparables(\n",
       "      (relu_1): ReLU()\n",
       "      (separable_1): SeparableConv2d(\n",
       "        (depthwise_conv2d): Conv2d(216, 216, kernel_size=(3, 3), stride=(1, 1), padding=(1, 1), groups=216, bias=False)\n",
       "        (pointwise_conv2d): Conv2d(216, 216, kernel_size=(1, 1), stride=(1, 1), bias=False)\n",
       "      )\n",
       "      (bn_sep_1): BatchNorm2d(216, eps=0.001, momentum=0.1, affine=True, track_running_stats=True)\n",
       "      (relu_2): ReLU()\n",
       "      (separable_2): SeparableConv2d(\n",
       "        (depthwise_conv2d): Conv2d(216, 216, kernel_size=(3, 3), stride=(1, 1), padding=(1, 1), groups=216, bias=False)\n",
       "        (pointwise_conv2d): Conv2d(216, 216, kernel_size=(1, 1), stride=(1, 1), bias=False)\n",
       "      )\n",
       "      (bn_sep_2): BatchNorm2d(216, eps=0.001, momentum=0.1, affine=True, track_running_stats=True)\n",
       "    )\n",
       "    (comb_iter_3_left): BranchSeparables(\n",
       "      (relu_1): ReLU()\n",
       "      (separable_1): SeparableConv2d(\n",
       "        (depthwise_conv2d): Conv2d(216, 216, kernel_size=(3, 3), stride=(1, 1), padding=(1, 1), groups=216, bias=False)\n",
       "        (pointwise_conv2d): Conv2d(216, 216, kernel_size=(1, 1), stride=(1, 1), bias=False)\n",
       "      )\n",
       "      (bn_sep_1): BatchNorm2d(216, eps=0.001, momentum=0.1, affine=True, track_running_stats=True)\n",
       "      (relu_2): ReLU()\n",
       "      (separable_2): SeparableConv2d(\n",
       "        (depthwise_conv2d): Conv2d(216, 216, kernel_size=(3, 3), stride=(1, 1), padding=(1, 1), groups=216, bias=False)\n",
       "        (pointwise_conv2d): Conv2d(216, 216, kernel_size=(1, 1), stride=(1, 1), bias=False)\n",
       "      )\n",
       "      (bn_sep_2): BatchNorm2d(216, eps=0.001, momentum=0.1, affine=True, track_running_stats=True)\n",
       "    )\n",
       "    (comb_iter_3_right): MaxPool(\n",
       "      (pool): MaxPool2d(kernel_size=3, stride=1, padding=1, dilation=1, ceil_mode=False)\n",
       "    )\n",
       "    (comb_iter_4_left): BranchSeparables(\n",
       "      (relu_1): ReLU()\n",
       "      (separable_1): SeparableConv2d(\n",
       "        (depthwise_conv2d): Conv2d(216, 216, kernel_size=(3, 3), stride=(1, 1), padding=(1, 1), groups=216, bias=False)\n",
       "        (pointwise_conv2d): Conv2d(216, 216, kernel_size=(1, 1), stride=(1, 1), bias=False)\n",
       "      )\n",
       "      (bn_sep_1): BatchNorm2d(216, eps=0.001, momentum=0.1, affine=True, track_running_stats=True)\n",
       "      (relu_2): ReLU()\n",
       "      (separable_2): SeparableConv2d(\n",
       "        (depthwise_conv2d): Conv2d(216, 216, kernel_size=(3, 3), stride=(1, 1), padding=(1, 1), groups=216, bias=False)\n",
       "        (pointwise_conv2d): Conv2d(216, 216, kernel_size=(1, 1), stride=(1, 1), bias=False)\n",
       "      )\n",
       "      (bn_sep_2): BatchNorm2d(216, eps=0.001, momentum=0.1, affine=True, track_running_stats=True)\n",
       "    )\n",
       "  )\n",
       "  (cell_4): Cell(\n",
       "    (conv_prev_1x1): ReluConvBn(\n",
       "      (relu): ReLU()\n",
       "      (conv): Conv2d(1080, 432, kernel_size=(1, 1), stride=(1, 1), bias=False)\n",
       "      (bn): BatchNorm2d(432, eps=0.001, momentum=0.1, affine=True, track_running_stats=True)\n",
       "    )\n",
       "    (conv_1x1): ReluConvBn(\n",
       "      (relu): ReLU()\n",
       "      (conv): Conv2d(1080, 432, kernel_size=(1, 1), stride=(1, 1), bias=False)\n",
       "      (bn): BatchNorm2d(432, eps=0.001, momentum=0.1, affine=True, track_running_stats=True)\n",
       "    )\n",
       "    (comb_iter_0_left): BranchSeparables(\n",
       "      (zero_pad): ZeroPad2d(padding=(1, 0, 1, 0), value=0)\n",
       "      (relu_1): ReLU()\n",
       "      (separable_1): SeparableConv2d(\n",
       "        (depthwise_conv2d): Conv2d(432, 432, kernel_size=(5, 5), stride=(2, 2), padding=(2, 2), groups=432, bias=False)\n",
       "        (pointwise_conv2d): Conv2d(432, 432, kernel_size=(1, 1), stride=(1, 1), bias=False)\n",
       "      )\n",
       "      (bn_sep_1): BatchNorm2d(432, eps=0.001, momentum=0.1, affine=True, track_running_stats=True)\n",
       "      (relu_2): ReLU()\n",
       "      (separable_2): SeparableConv2d(\n",
       "        (depthwise_conv2d): Conv2d(432, 432, kernel_size=(5, 5), stride=(1, 1), padding=(2, 2), groups=432, bias=False)\n",
       "        (pointwise_conv2d): Conv2d(432, 432, kernel_size=(1, 1), stride=(1, 1), bias=False)\n",
       "      )\n",
       "      (bn_sep_2): BatchNorm2d(432, eps=0.001, momentum=0.1, affine=True, track_running_stats=True)\n",
       "    )\n",
       "    (comb_iter_0_right): MaxPool(\n",
       "      (zero_pad): ZeroPad2d(padding=(1, 0, 1, 0), value=0)\n",
       "      (pool): MaxPool2d(kernel_size=3, stride=2, padding=1, dilation=1, ceil_mode=False)\n",
       "    )\n",
       "    (comb_iter_1_left): BranchSeparables(\n",
       "      (zero_pad): ZeroPad2d(padding=(1, 0, 1, 0), value=0)\n",
       "      (relu_1): ReLU()\n",
       "      (separable_1): SeparableConv2d(\n",
       "        (depthwise_conv2d): Conv2d(432, 432, kernel_size=(7, 7), stride=(2, 2), padding=(3, 3), groups=432, bias=False)\n",
       "        (pointwise_conv2d): Conv2d(432, 432, kernel_size=(1, 1), stride=(1, 1), bias=False)\n",
       "      )\n",
       "      (bn_sep_1): BatchNorm2d(432, eps=0.001, momentum=0.1, affine=True, track_running_stats=True)\n",
       "      (relu_2): ReLU()\n",
       "      (separable_2): SeparableConv2d(\n",
       "        (depthwise_conv2d): Conv2d(432, 432, kernel_size=(7, 7), stride=(1, 1), padding=(3, 3), groups=432, bias=False)\n",
       "        (pointwise_conv2d): Conv2d(432, 432, kernel_size=(1, 1), stride=(1, 1), bias=False)\n",
       "      )\n",
       "      (bn_sep_2): BatchNorm2d(432, eps=0.001, momentum=0.1, affine=True, track_running_stats=True)\n",
       "    )\n",
       "    (comb_iter_1_right): MaxPool(\n",
       "      (zero_pad): ZeroPad2d(padding=(1, 0, 1, 0), value=0)\n",
       "      (pool): MaxPool2d(kernel_size=3, stride=2, padding=1, dilation=1, ceil_mode=False)\n",
       "    )\n",
       "    (comb_iter_2_left): BranchSeparables(\n",
       "      (zero_pad): ZeroPad2d(padding=(1, 0, 1, 0), value=0)\n",
       "      (relu_1): ReLU()\n",
       "      (separable_1): SeparableConv2d(\n",
       "        (depthwise_conv2d): Conv2d(432, 432, kernel_size=(5, 5), stride=(2, 2), padding=(2, 2), groups=432, bias=False)\n",
       "        (pointwise_conv2d): Conv2d(432, 432, kernel_size=(1, 1), stride=(1, 1), bias=False)\n",
       "      )\n",
       "      (bn_sep_1): BatchNorm2d(432, eps=0.001, momentum=0.1, affine=True, track_running_stats=True)\n",
       "      (relu_2): ReLU()\n",
       "      (separable_2): SeparableConv2d(\n",
       "        (depthwise_conv2d): Conv2d(432, 432, kernel_size=(5, 5), stride=(1, 1), padding=(2, 2), groups=432, bias=False)\n",
       "        (pointwise_conv2d): Conv2d(432, 432, kernel_size=(1, 1), stride=(1, 1), bias=False)\n",
       "      )\n",
       "      (bn_sep_2): BatchNorm2d(432, eps=0.001, momentum=0.1, affine=True, track_running_stats=True)\n",
       "    )\n",
       "    (comb_iter_2_right): BranchSeparables(\n",
       "      (zero_pad): ZeroPad2d(padding=(1, 0, 1, 0), value=0)\n",
       "      (relu_1): ReLU()\n",
       "      (separable_1): SeparableConv2d(\n",
       "        (depthwise_conv2d): Conv2d(432, 432, kernel_size=(3, 3), stride=(2, 2), padding=(1, 1), groups=432, bias=False)\n",
       "        (pointwise_conv2d): Conv2d(432, 432, kernel_size=(1, 1), stride=(1, 1), bias=False)\n",
       "      )\n",
       "      (bn_sep_1): BatchNorm2d(432, eps=0.001, momentum=0.1, affine=True, track_running_stats=True)\n",
       "      (relu_2): ReLU()\n",
       "      (separable_2): SeparableConv2d(\n",
       "        (depthwise_conv2d): Conv2d(432, 432, kernel_size=(3, 3), stride=(1, 1), padding=(1, 1), groups=432, bias=False)\n",
       "        (pointwise_conv2d): Conv2d(432, 432, kernel_size=(1, 1), stride=(1, 1), bias=False)\n",
       "      )\n",
       "      (bn_sep_2): BatchNorm2d(432, eps=0.001, momentum=0.1, affine=True, track_running_stats=True)\n",
       "    )\n",
       "    (comb_iter_3_left): BranchSeparables(\n",
       "      (relu_1): ReLU()\n",
       "      (separable_1): SeparableConv2d(\n",
       "        (depthwise_conv2d): Conv2d(432, 432, kernel_size=(3, 3), stride=(1, 1), padding=(1, 1), groups=432, bias=False)\n",
       "        (pointwise_conv2d): Conv2d(432, 432, kernel_size=(1, 1), stride=(1, 1), bias=False)\n",
       "      )\n",
       "      (bn_sep_1): BatchNorm2d(432, eps=0.001, momentum=0.1, affine=True, track_running_stats=True)\n",
       "      (relu_2): ReLU()\n",
       "      (separable_2): SeparableConv2d(\n",
       "        (depthwise_conv2d): Conv2d(432, 432, kernel_size=(3, 3), stride=(1, 1), padding=(1, 1), groups=432, bias=False)\n",
       "        (pointwise_conv2d): Conv2d(432, 432, kernel_size=(1, 1), stride=(1, 1), bias=False)\n",
       "      )\n",
       "      (bn_sep_2): BatchNorm2d(432, eps=0.001, momentum=0.1, affine=True, track_running_stats=True)\n",
       "    )\n",
       "    (comb_iter_3_right): MaxPool(\n",
       "      (zero_pad): ZeroPad2d(padding=(1, 0, 1, 0), value=0)\n",
       "      (pool): MaxPool2d(kernel_size=3, stride=2, padding=1, dilation=1, ceil_mode=False)\n",
       "    )\n",
       "    (comb_iter_4_left): BranchSeparables(\n",
       "      (zero_pad): ZeroPad2d(padding=(1, 0, 1, 0), value=0)\n",
       "      (relu_1): ReLU()\n",
       "      (separable_1): SeparableConv2d(\n",
       "        (depthwise_conv2d): Conv2d(432, 432, kernel_size=(3, 3), stride=(2, 2), padding=(1, 1), groups=432, bias=False)\n",
       "        (pointwise_conv2d): Conv2d(432, 432, kernel_size=(1, 1), stride=(1, 1), bias=False)\n",
       "      )\n",
       "      (bn_sep_1): BatchNorm2d(432, eps=0.001, momentum=0.1, affine=True, track_running_stats=True)\n",
       "      (relu_2): ReLU()\n",
       "      (separable_2): SeparableConv2d(\n",
       "        (depthwise_conv2d): Conv2d(432, 432, kernel_size=(3, 3), stride=(1, 1), padding=(1, 1), groups=432, bias=False)\n",
       "        (pointwise_conv2d): Conv2d(432, 432, kernel_size=(1, 1), stride=(1, 1), bias=False)\n",
       "      )\n",
       "      (bn_sep_2): BatchNorm2d(432, eps=0.001, momentum=0.1, affine=True, track_running_stats=True)\n",
       "    )\n",
       "    (comb_iter_4_right): ReluConvBn(\n",
       "      (relu): ReLU()\n",
       "      (conv): Conv2d(432, 432, kernel_size=(1, 1), stride=(2, 2), bias=False)\n",
       "      (bn): BatchNorm2d(432, eps=0.001, momentum=0.1, affine=True, track_running_stats=True)\n",
       "    )\n",
       "  )\n",
       "  (cell_5): Cell(\n",
       "    (conv_prev_1x1): FactorizedReduction(\n",
       "      (relu): ReLU()\n",
       "      (path_1): Sequential(\n",
       "        (avgpool): AvgPool2d(kernel_size=1, stride=2, padding=0)\n",
       "        (conv): Conv2d(1080, 216, kernel_size=(1, 1), stride=(1, 1), bias=False)\n",
       "      )\n",
       "      (path_2): Sequential(\n",
       "        (pad): ZeroPad2d(padding=(0, 1, 0, 1), value=0)\n",
       "        (avgpool): AvgPool2d(kernel_size=1, stride=2, padding=0)\n",
       "        (conv): Conv2d(1080, 216, kernel_size=(1, 1), stride=(1, 1), bias=False)\n",
       "      )\n",
       "      (final_path_bn): BatchNorm2d(432, eps=0.001, momentum=0.1, affine=True, track_running_stats=True)\n",
       "    )\n",
       "    (conv_1x1): ReluConvBn(\n",
       "      (relu): ReLU()\n",
       "      (conv): Conv2d(2160, 432, kernel_size=(1, 1), stride=(1, 1), bias=False)\n",
       "      (bn): BatchNorm2d(432, eps=0.001, momentum=0.1, affine=True, track_running_stats=True)\n",
       "    )\n",
       "    (comb_iter_0_left): BranchSeparables(\n",
       "      (relu_1): ReLU()\n",
       "      (separable_1): SeparableConv2d(\n",
       "        (depthwise_conv2d): Conv2d(432, 432, kernel_size=(5, 5), stride=(1, 1), padding=(2, 2), groups=432, bias=False)\n",
       "        (pointwise_conv2d): Conv2d(432, 432, kernel_size=(1, 1), stride=(1, 1), bias=False)\n",
       "      )\n",
       "      (bn_sep_1): BatchNorm2d(432, eps=0.001, momentum=0.1, affine=True, track_running_stats=True)\n",
       "      (relu_2): ReLU()\n",
       "      (separable_2): SeparableConv2d(\n",
       "        (depthwise_conv2d): Conv2d(432, 432, kernel_size=(5, 5), stride=(1, 1), padding=(2, 2), groups=432, bias=False)\n",
       "        (pointwise_conv2d): Conv2d(432, 432, kernel_size=(1, 1), stride=(1, 1), bias=False)\n",
       "      )\n",
       "      (bn_sep_2): BatchNorm2d(432, eps=0.001, momentum=0.1, affine=True, track_running_stats=True)\n",
       "    )\n",
       "    (comb_iter_0_right): MaxPool(\n",
       "      (pool): MaxPool2d(kernel_size=3, stride=1, padding=1, dilation=1, ceil_mode=False)\n",
       "    )\n",
       "    (comb_iter_1_left): BranchSeparables(\n",
       "      (relu_1): ReLU()\n",
       "      (separable_1): SeparableConv2d(\n",
       "        (depthwise_conv2d): Conv2d(432, 432, kernel_size=(7, 7), stride=(1, 1), padding=(3, 3), groups=432, bias=False)\n",
       "        (pointwise_conv2d): Conv2d(432, 432, kernel_size=(1, 1), stride=(1, 1), bias=False)\n",
       "      )\n",
       "      (bn_sep_1): BatchNorm2d(432, eps=0.001, momentum=0.1, affine=True, track_running_stats=True)\n",
       "      (relu_2): ReLU()\n",
       "      (separable_2): SeparableConv2d(\n",
       "        (depthwise_conv2d): Conv2d(432, 432, kernel_size=(7, 7), stride=(1, 1), padding=(3, 3), groups=432, bias=False)\n",
       "        (pointwise_conv2d): Conv2d(432, 432, kernel_size=(1, 1), stride=(1, 1), bias=False)\n",
       "      )\n",
       "      (bn_sep_2): BatchNorm2d(432, eps=0.001, momentum=0.1, affine=True, track_running_stats=True)\n",
       "    )\n",
       "    (comb_iter_1_right): MaxPool(\n",
       "      (pool): MaxPool2d(kernel_size=3, stride=1, padding=1, dilation=1, ceil_mode=False)\n",
       "    )\n",
       "    (comb_iter_2_left): BranchSeparables(\n",
       "      (relu_1): ReLU()\n",
       "      (separable_1): SeparableConv2d(\n",
       "        (depthwise_conv2d): Conv2d(432, 432, kernel_size=(5, 5), stride=(1, 1), padding=(2, 2), groups=432, bias=False)\n",
       "        (pointwise_conv2d): Conv2d(432, 432, kernel_size=(1, 1), stride=(1, 1), bias=False)\n",
       "      )\n",
       "      (bn_sep_1): BatchNorm2d(432, eps=0.001, momentum=0.1, affine=True, track_running_stats=True)\n",
       "      (relu_2): ReLU()\n",
       "      (separable_2): SeparableConv2d(\n",
       "        (depthwise_conv2d): Conv2d(432, 432, kernel_size=(5, 5), stride=(1, 1), padding=(2, 2), groups=432, bias=False)\n",
       "        (pointwise_conv2d): Conv2d(432, 432, kernel_size=(1, 1), stride=(1, 1), bias=False)\n",
       "      )\n",
       "      (bn_sep_2): BatchNorm2d(432, eps=0.001, momentum=0.1, affine=True, track_running_stats=True)\n",
       "    )\n",
       "    (comb_iter_2_right): BranchSeparables(\n",
       "      (relu_1): ReLU()\n",
       "      (separable_1): SeparableConv2d(\n",
       "        (depthwise_conv2d): Conv2d(432, 432, kernel_size=(3, 3), stride=(1, 1), padding=(1, 1), groups=432, bias=False)\n",
       "        (pointwise_conv2d): Conv2d(432, 432, kernel_size=(1, 1), stride=(1, 1), bias=False)\n",
       "      )\n",
       "      (bn_sep_1): BatchNorm2d(432, eps=0.001, momentum=0.1, affine=True, track_running_stats=True)\n",
       "      (relu_2): ReLU()\n",
       "      (separable_2): SeparableConv2d(\n",
       "        (depthwise_conv2d): Conv2d(432, 432, kernel_size=(3, 3), stride=(1, 1), padding=(1, 1), groups=432, bias=False)\n",
       "        (pointwise_conv2d): Conv2d(432, 432, kernel_size=(1, 1), stride=(1, 1), bias=False)\n",
       "      )\n",
       "      (bn_sep_2): BatchNorm2d(432, eps=0.001, momentum=0.1, affine=True, track_running_stats=True)\n",
       "    )\n",
       "    (comb_iter_3_left): BranchSeparables(\n",
       "      (relu_1): ReLU()\n",
       "      (separable_1): SeparableConv2d(\n",
       "        (depthwise_conv2d): Conv2d(432, 432, kernel_size=(3, 3), stride=(1, 1), padding=(1, 1), groups=432, bias=False)\n",
       "        (pointwise_conv2d): Conv2d(432, 432, kernel_size=(1, 1), stride=(1, 1), bias=False)\n",
       "      )\n",
       "      (bn_sep_1): BatchNorm2d(432, eps=0.001, momentum=0.1, affine=True, track_running_stats=True)\n",
       "      (relu_2): ReLU()\n",
       "      (separable_2): SeparableConv2d(\n",
       "        (depthwise_conv2d): Conv2d(432, 432, kernel_size=(3, 3), stride=(1, 1), padding=(1, 1), groups=432, bias=False)\n",
       "        (pointwise_conv2d): Conv2d(432, 432, kernel_size=(1, 1), stride=(1, 1), bias=False)\n",
       "      )\n",
       "      (bn_sep_2): BatchNorm2d(432, eps=0.001, momentum=0.1, affine=True, track_running_stats=True)\n",
       "    )\n",
       "    (comb_iter_3_right): MaxPool(\n",
       "      (pool): MaxPool2d(kernel_size=3, stride=1, padding=1, dilation=1, ceil_mode=False)\n",
       "    )\n",
       "    (comb_iter_4_left): BranchSeparables(\n",
       "      (relu_1): ReLU()\n",
       "      (separable_1): SeparableConv2d(\n",
       "        (depthwise_conv2d): Conv2d(432, 432, kernel_size=(3, 3), stride=(1, 1), padding=(1, 1), groups=432, bias=False)\n",
       "        (pointwise_conv2d): Conv2d(432, 432, kernel_size=(1, 1), stride=(1, 1), bias=False)\n",
       "      )\n",
       "      (bn_sep_1): BatchNorm2d(432, eps=0.001, momentum=0.1, affine=True, track_running_stats=True)\n",
       "      (relu_2): ReLU()\n",
       "      (separable_2): SeparableConv2d(\n",
       "        (depthwise_conv2d): Conv2d(432, 432, kernel_size=(3, 3), stride=(1, 1), padding=(1, 1), groups=432, bias=False)\n",
       "        (pointwise_conv2d): Conv2d(432, 432, kernel_size=(1, 1), stride=(1, 1), bias=False)\n",
       "      )\n",
       "      (bn_sep_2): BatchNorm2d(432, eps=0.001, momentum=0.1, affine=True, track_running_stats=True)\n",
       "    )\n",
       "  )\n",
       "  (cell_6): Cell(\n",
       "    (conv_prev_1x1): ReluConvBn(\n",
       "      (relu): ReLU()\n",
       "      (conv): Conv2d(2160, 432, kernel_size=(1, 1), stride=(1, 1), bias=False)\n",
       "      (bn): BatchNorm2d(432, eps=0.001, momentum=0.1, affine=True, track_running_stats=True)\n",
       "    )\n",
       "    (conv_1x1): ReluConvBn(\n",
       "      (relu): ReLU()\n",
       "      (conv): Conv2d(2160, 432, kernel_size=(1, 1), stride=(1, 1), bias=False)\n",
       "      (bn): BatchNorm2d(432, eps=0.001, momentum=0.1, affine=True, track_running_stats=True)\n",
       "    )\n",
       "    (comb_iter_0_left): BranchSeparables(\n",
       "      (relu_1): ReLU()\n",
       "      (separable_1): SeparableConv2d(\n",
       "        (depthwise_conv2d): Conv2d(432, 432, kernel_size=(5, 5), stride=(1, 1), padding=(2, 2), groups=432, bias=False)\n",
       "        (pointwise_conv2d): Conv2d(432, 432, kernel_size=(1, 1), stride=(1, 1), bias=False)\n",
       "      )\n",
       "      (bn_sep_1): BatchNorm2d(432, eps=0.001, momentum=0.1, affine=True, track_running_stats=True)\n",
       "      (relu_2): ReLU()\n",
       "      (separable_2): SeparableConv2d(\n",
       "        (depthwise_conv2d): Conv2d(432, 432, kernel_size=(5, 5), stride=(1, 1), padding=(2, 2), groups=432, bias=False)\n",
       "        (pointwise_conv2d): Conv2d(432, 432, kernel_size=(1, 1), stride=(1, 1), bias=False)\n",
       "      )\n",
       "      (bn_sep_2): BatchNorm2d(432, eps=0.001, momentum=0.1, affine=True, track_running_stats=True)\n",
       "    )\n",
       "    (comb_iter_0_right): MaxPool(\n",
       "      (pool): MaxPool2d(kernel_size=3, stride=1, padding=1, dilation=1, ceil_mode=False)\n",
       "    )\n",
       "    (comb_iter_1_left): BranchSeparables(\n",
       "      (relu_1): ReLU()\n",
       "      (separable_1): SeparableConv2d(\n",
       "        (depthwise_conv2d): Conv2d(432, 432, kernel_size=(7, 7), stride=(1, 1), padding=(3, 3), groups=432, bias=False)\n",
       "        (pointwise_conv2d): Conv2d(432, 432, kernel_size=(1, 1), stride=(1, 1), bias=False)\n",
       "      )\n",
       "      (bn_sep_1): BatchNorm2d(432, eps=0.001, momentum=0.1, affine=True, track_running_stats=True)\n",
       "      (relu_2): ReLU()\n",
       "      (separable_2): SeparableConv2d(\n",
       "        (depthwise_conv2d): Conv2d(432, 432, kernel_size=(7, 7), stride=(1, 1), padding=(3, 3), groups=432, bias=False)\n",
       "        (pointwise_conv2d): Conv2d(432, 432, kernel_size=(1, 1), stride=(1, 1), bias=False)\n",
       "      )\n",
       "      (bn_sep_2): BatchNorm2d(432, eps=0.001, momentum=0.1, affine=True, track_running_stats=True)\n",
       "    )\n",
       "    (comb_iter_1_right): MaxPool(\n",
       "      (pool): MaxPool2d(kernel_size=3, stride=1, padding=1, dilation=1, ceil_mode=False)\n",
       "    )\n",
       "    (comb_iter_2_left): BranchSeparables(\n",
       "      (relu_1): ReLU()\n",
       "      (separable_1): SeparableConv2d(\n",
       "        (depthwise_conv2d): Conv2d(432, 432, kernel_size=(5, 5), stride=(1, 1), padding=(2, 2), groups=432, bias=False)\n",
       "        (pointwise_conv2d): Conv2d(432, 432, kernel_size=(1, 1), stride=(1, 1), bias=False)\n",
       "      )\n",
       "      (bn_sep_1): BatchNorm2d(432, eps=0.001, momentum=0.1, affine=True, track_running_stats=True)\n",
       "      (relu_2): ReLU()\n",
       "      (separable_2): SeparableConv2d(\n",
       "        (depthwise_conv2d): Conv2d(432, 432, kernel_size=(5, 5), stride=(1, 1), padding=(2, 2), groups=432, bias=False)\n",
       "        (pointwise_conv2d): Conv2d(432, 432, kernel_size=(1, 1), stride=(1, 1), bias=False)\n",
       "      )\n",
       "      (bn_sep_2): BatchNorm2d(432, eps=0.001, momentum=0.1, affine=True, track_running_stats=True)\n",
       "    )\n",
       "    (comb_iter_2_right): BranchSeparables(\n",
       "      (relu_1): ReLU()\n",
       "      (separable_1): SeparableConv2d(\n",
       "        (depthwise_conv2d): Conv2d(432, 432, kernel_size=(3, 3), stride=(1, 1), padding=(1, 1), groups=432, bias=False)\n",
       "        (pointwise_conv2d): Conv2d(432, 432, kernel_size=(1, 1), stride=(1, 1), bias=False)\n",
       "      )\n",
       "      (bn_sep_1): BatchNorm2d(432, eps=0.001, momentum=0.1, affine=True, track_running_stats=True)\n",
       "      (relu_2): ReLU()\n",
       "      (separable_2): SeparableConv2d(\n",
       "        (depthwise_conv2d): Conv2d(432, 432, kernel_size=(3, 3), stride=(1, 1), padding=(1, 1), groups=432, bias=False)\n",
       "        (pointwise_conv2d): Conv2d(432, 432, kernel_size=(1, 1), stride=(1, 1), bias=False)\n",
       "      )\n",
       "      (bn_sep_2): BatchNorm2d(432, eps=0.001, momentum=0.1, affine=True, track_running_stats=True)\n",
       "    )\n",
       "    (comb_iter_3_left): BranchSeparables(\n",
       "      (relu_1): ReLU()\n",
       "      (separable_1): SeparableConv2d(\n",
       "        (depthwise_conv2d): Conv2d(432, 432, kernel_size=(3, 3), stride=(1, 1), padding=(1, 1), groups=432, bias=False)\n",
       "        (pointwise_conv2d): Conv2d(432, 432, kernel_size=(1, 1), stride=(1, 1), bias=False)\n",
       "      )\n",
       "      (bn_sep_1): BatchNorm2d(432, eps=0.001, momentum=0.1, affine=True, track_running_stats=True)\n",
       "      (relu_2): ReLU()\n",
       "      (separable_2): SeparableConv2d(\n",
       "        (depthwise_conv2d): Conv2d(432, 432, kernel_size=(3, 3), stride=(1, 1), padding=(1, 1), groups=432, bias=False)\n",
       "        (pointwise_conv2d): Conv2d(432, 432, kernel_size=(1, 1), stride=(1, 1), bias=False)\n",
       "      )\n",
       "      (bn_sep_2): BatchNorm2d(432, eps=0.001, momentum=0.1, affine=True, track_running_stats=True)\n",
       "    )\n",
       "    (comb_iter_3_right): MaxPool(\n",
       "      (pool): MaxPool2d(kernel_size=3, stride=1, padding=1, dilation=1, ceil_mode=False)\n",
       "    )\n",
       "    (comb_iter_4_left): BranchSeparables(\n",
       "      (relu_1): ReLU()\n",
       "      (separable_1): SeparableConv2d(\n",
       "        (depthwise_conv2d): Conv2d(432, 432, kernel_size=(3, 3), stride=(1, 1), padding=(1, 1), groups=432, bias=False)\n",
       "        (pointwise_conv2d): Conv2d(432, 432, kernel_size=(1, 1), stride=(1, 1), bias=False)\n",
       "      )\n",
       "      (bn_sep_1): BatchNorm2d(432, eps=0.001, momentum=0.1, affine=True, track_running_stats=True)\n",
       "      (relu_2): ReLU()\n",
       "      (separable_2): SeparableConv2d(\n",
       "        (depthwise_conv2d): Conv2d(432, 432, kernel_size=(3, 3), stride=(1, 1), padding=(1, 1), groups=432, bias=False)\n",
       "        (pointwise_conv2d): Conv2d(432, 432, kernel_size=(1, 1), stride=(1, 1), bias=False)\n",
       "      )\n",
       "      (bn_sep_2): BatchNorm2d(432, eps=0.001, momentum=0.1, affine=True, track_running_stats=True)\n",
       "    )\n",
       "  )\n",
       "  (cell_7): Cell(\n",
       "    (conv_prev_1x1): ReluConvBn(\n",
       "      (relu): ReLU()\n",
       "      (conv): Conv2d(2160, 432, kernel_size=(1, 1), stride=(1, 1), bias=False)\n",
       "      (bn): BatchNorm2d(432, eps=0.001, momentum=0.1, affine=True, track_running_stats=True)\n",
       "    )\n",
       "    (conv_1x1): ReluConvBn(\n",
       "      (relu): ReLU()\n",
       "      (conv): Conv2d(2160, 432, kernel_size=(1, 1), stride=(1, 1), bias=False)\n",
       "      (bn): BatchNorm2d(432, eps=0.001, momentum=0.1, affine=True, track_running_stats=True)\n",
       "    )\n",
       "    (comb_iter_0_left): BranchSeparables(\n",
       "      (relu_1): ReLU()\n",
       "      (separable_1): SeparableConv2d(\n",
       "        (depthwise_conv2d): Conv2d(432, 432, kernel_size=(5, 5), stride=(1, 1), padding=(2, 2), groups=432, bias=False)\n",
       "        (pointwise_conv2d): Conv2d(432, 432, kernel_size=(1, 1), stride=(1, 1), bias=False)\n",
       "      )\n",
       "      (bn_sep_1): BatchNorm2d(432, eps=0.001, momentum=0.1, affine=True, track_running_stats=True)\n",
       "      (relu_2): ReLU()\n",
       "      (separable_2): SeparableConv2d(\n",
       "        (depthwise_conv2d): Conv2d(432, 432, kernel_size=(5, 5), stride=(1, 1), padding=(2, 2), groups=432, bias=False)\n",
       "        (pointwise_conv2d): Conv2d(432, 432, kernel_size=(1, 1), stride=(1, 1), bias=False)\n",
       "      )\n",
       "      (bn_sep_2): BatchNorm2d(432, eps=0.001, momentum=0.1, affine=True, track_running_stats=True)\n",
       "    )\n",
       "    (comb_iter_0_right): MaxPool(\n",
       "      (pool): MaxPool2d(kernel_size=3, stride=1, padding=1, dilation=1, ceil_mode=False)\n",
       "    )\n",
       "    (comb_iter_1_left): BranchSeparables(\n",
       "      (relu_1): ReLU()\n",
       "      (separable_1): SeparableConv2d(\n",
       "        (depthwise_conv2d): Conv2d(432, 432, kernel_size=(7, 7), stride=(1, 1), padding=(3, 3), groups=432, bias=False)\n",
       "        (pointwise_conv2d): Conv2d(432, 432, kernel_size=(1, 1), stride=(1, 1), bias=False)\n",
       "      )\n",
       "      (bn_sep_1): BatchNorm2d(432, eps=0.001, momentum=0.1, affine=True, track_running_stats=True)\n",
       "      (relu_2): ReLU()\n",
       "      (separable_2): SeparableConv2d(\n",
       "        (depthwise_conv2d): Conv2d(432, 432, kernel_size=(7, 7), stride=(1, 1), padding=(3, 3), groups=432, bias=False)\n",
       "        (pointwise_conv2d): Conv2d(432, 432, kernel_size=(1, 1), stride=(1, 1), bias=False)\n",
       "      )\n",
       "      (bn_sep_2): BatchNorm2d(432, eps=0.001, momentum=0.1, affine=True, track_running_stats=True)\n",
       "    )\n",
       "    (comb_iter_1_right): MaxPool(\n",
       "      (pool): MaxPool2d(kernel_size=3, stride=1, padding=1, dilation=1, ceil_mode=False)\n",
       "    )\n",
       "    (comb_iter_2_left): BranchSeparables(\n",
       "      (relu_1): ReLU()\n",
       "      (separable_1): SeparableConv2d(\n",
       "        (depthwise_conv2d): Conv2d(432, 432, kernel_size=(5, 5), stride=(1, 1), padding=(2, 2), groups=432, bias=False)\n",
       "        (pointwise_conv2d): Conv2d(432, 432, kernel_size=(1, 1), stride=(1, 1), bias=False)\n",
       "      )\n",
       "      (bn_sep_1): BatchNorm2d(432, eps=0.001, momentum=0.1, affine=True, track_running_stats=True)\n",
       "      (relu_2): ReLU()\n",
       "      (separable_2): SeparableConv2d(\n",
       "        (depthwise_conv2d): Conv2d(432, 432, kernel_size=(5, 5), stride=(1, 1), padding=(2, 2), groups=432, bias=False)\n",
       "        (pointwise_conv2d): Conv2d(432, 432, kernel_size=(1, 1), stride=(1, 1), bias=False)\n",
       "      )\n",
       "      (bn_sep_2): BatchNorm2d(432, eps=0.001, momentum=0.1, affine=True, track_running_stats=True)\n",
       "    )\n",
       "    (comb_iter_2_right): BranchSeparables(\n",
       "      (relu_1): ReLU()\n",
       "      (separable_1): SeparableConv2d(\n",
       "        (depthwise_conv2d): Conv2d(432, 432, kernel_size=(3, 3), stride=(1, 1), padding=(1, 1), groups=432, bias=False)\n",
       "        (pointwise_conv2d): Conv2d(432, 432, kernel_size=(1, 1), stride=(1, 1), bias=False)\n",
       "      )\n",
       "      (bn_sep_1): BatchNorm2d(432, eps=0.001, momentum=0.1, affine=True, track_running_stats=True)\n",
       "      (relu_2): ReLU()\n",
       "      (separable_2): SeparableConv2d(\n",
       "        (depthwise_conv2d): Conv2d(432, 432, kernel_size=(3, 3), stride=(1, 1), padding=(1, 1), groups=432, bias=False)\n",
       "        (pointwise_conv2d): Conv2d(432, 432, kernel_size=(1, 1), stride=(1, 1), bias=False)\n",
       "      )\n",
       "      (bn_sep_2): BatchNorm2d(432, eps=0.001, momentum=0.1, affine=True, track_running_stats=True)\n",
       "    )\n",
       "    (comb_iter_3_left): BranchSeparables(\n",
       "      (relu_1): ReLU()\n",
       "      (separable_1): SeparableConv2d(\n",
       "        (depthwise_conv2d): Conv2d(432, 432, kernel_size=(3, 3), stride=(1, 1), padding=(1, 1), groups=432, bias=False)\n",
       "        (pointwise_conv2d): Conv2d(432, 432, kernel_size=(1, 1), stride=(1, 1), bias=False)\n",
       "      )\n",
       "      (bn_sep_1): BatchNorm2d(432, eps=0.001, momentum=0.1, affine=True, track_running_stats=True)\n",
       "      (relu_2): ReLU()\n",
       "      (separable_2): SeparableConv2d(\n",
       "        (depthwise_conv2d): Conv2d(432, 432, kernel_size=(3, 3), stride=(1, 1), padding=(1, 1), groups=432, bias=False)\n",
       "        (pointwise_conv2d): Conv2d(432, 432, kernel_size=(1, 1), stride=(1, 1), bias=False)\n",
       "      )\n",
       "      (bn_sep_2): BatchNorm2d(432, eps=0.001, momentum=0.1, affine=True, track_running_stats=True)\n",
       "    )\n",
       "    (comb_iter_3_right): MaxPool(\n",
       "      (pool): MaxPool2d(kernel_size=3, stride=1, padding=1, dilation=1, ceil_mode=False)\n",
       "    )\n",
       "    (comb_iter_4_left): BranchSeparables(\n",
       "      (relu_1): ReLU()\n",
       "      (separable_1): SeparableConv2d(\n",
       "        (depthwise_conv2d): Conv2d(432, 432, kernel_size=(3, 3), stride=(1, 1), padding=(1, 1), groups=432, bias=False)\n",
       "        (pointwise_conv2d): Conv2d(432, 432, kernel_size=(1, 1), stride=(1, 1), bias=False)\n",
       "      )\n",
       "      (bn_sep_1): BatchNorm2d(432, eps=0.001, momentum=0.1, affine=True, track_running_stats=True)\n",
       "      (relu_2): ReLU()\n",
       "      (separable_2): SeparableConv2d(\n",
       "        (depthwise_conv2d): Conv2d(432, 432, kernel_size=(3, 3), stride=(1, 1), padding=(1, 1), groups=432, bias=False)\n",
       "        (pointwise_conv2d): Conv2d(432, 432, kernel_size=(1, 1), stride=(1, 1), bias=False)\n",
       "      )\n",
       "      (bn_sep_2): BatchNorm2d(432, eps=0.001, momentum=0.1, affine=True, track_running_stats=True)\n",
       "    )\n",
       "  )\n",
       "  (cell_8): Cell(\n",
       "    (conv_prev_1x1): ReluConvBn(\n",
       "      (relu): ReLU()\n",
       "      (conv): Conv2d(2160, 864, kernel_size=(1, 1), stride=(1, 1), bias=False)\n",
       "      (bn): BatchNorm2d(864, eps=0.001, momentum=0.1, affine=True, track_running_stats=True)\n",
       "    )\n",
       "    (conv_1x1): ReluConvBn(\n",
       "      (relu): ReLU()\n",
       "      (conv): Conv2d(2160, 864, kernel_size=(1, 1), stride=(1, 1), bias=False)\n",
       "      (bn): BatchNorm2d(864, eps=0.001, momentum=0.1, affine=True, track_running_stats=True)\n",
       "    )\n",
       "    (comb_iter_0_left): BranchSeparables(\n",
       "      (relu_1): ReLU()\n",
       "      (separable_1): SeparableConv2d(\n",
       "        (depthwise_conv2d): Conv2d(864, 864, kernel_size=(5, 5), stride=(2, 2), padding=(2, 2), groups=864, bias=False)\n",
       "        (pointwise_conv2d): Conv2d(864, 864, kernel_size=(1, 1), stride=(1, 1), bias=False)\n",
       "      )\n",
       "      (bn_sep_1): BatchNorm2d(864, eps=0.001, momentum=0.1, affine=True, track_running_stats=True)\n",
       "      (relu_2): ReLU()\n",
       "      (separable_2): SeparableConv2d(\n",
       "        (depthwise_conv2d): Conv2d(864, 864, kernel_size=(5, 5), stride=(1, 1), padding=(2, 2), groups=864, bias=False)\n",
       "        (pointwise_conv2d): Conv2d(864, 864, kernel_size=(1, 1), stride=(1, 1), bias=False)\n",
       "      )\n",
       "      (bn_sep_2): BatchNorm2d(864, eps=0.001, momentum=0.1, affine=True, track_running_stats=True)\n",
       "    )\n",
       "    (comb_iter_0_right): MaxPool(\n",
       "      (pool): MaxPool2d(kernel_size=3, stride=2, padding=1, dilation=1, ceil_mode=False)\n",
       "    )\n",
       "    (comb_iter_1_left): BranchSeparables(\n",
       "      (relu_1): ReLU()\n",
       "      (separable_1): SeparableConv2d(\n",
       "        (depthwise_conv2d): Conv2d(864, 864, kernel_size=(7, 7), stride=(2, 2), padding=(3, 3), groups=864, bias=False)\n",
       "        (pointwise_conv2d): Conv2d(864, 864, kernel_size=(1, 1), stride=(1, 1), bias=False)\n",
       "      )\n",
       "      (bn_sep_1): BatchNorm2d(864, eps=0.001, momentum=0.1, affine=True, track_running_stats=True)\n",
       "      (relu_2): ReLU()\n",
       "      (separable_2): SeparableConv2d(\n",
       "        (depthwise_conv2d): Conv2d(864, 864, kernel_size=(7, 7), stride=(1, 1), padding=(3, 3), groups=864, bias=False)\n",
       "        (pointwise_conv2d): Conv2d(864, 864, kernel_size=(1, 1), stride=(1, 1), bias=False)\n",
       "      )\n",
       "      (bn_sep_2): BatchNorm2d(864, eps=0.001, momentum=0.1, affine=True, track_running_stats=True)\n",
       "    )\n",
       "    (comb_iter_1_right): MaxPool(\n",
       "      (pool): MaxPool2d(kernel_size=3, stride=2, padding=1, dilation=1, ceil_mode=False)\n",
       "    )\n",
       "    (comb_iter_2_left): BranchSeparables(\n",
       "      (relu_1): ReLU()\n",
       "      (separable_1): SeparableConv2d(\n",
       "        (depthwise_conv2d): Conv2d(864, 864, kernel_size=(5, 5), stride=(2, 2), padding=(2, 2), groups=864, bias=False)\n",
       "        (pointwise_conv2d): Conv2d(864, 864, kernel_size=(1, 1), stride=(1, 1), bias=False)\n",
       "      )\n",
       "      (bn_sep_1): BatchNorm2d(864, eps=0.001, momentum=0.1, affine=True, track_running_stats=True)\n",
       "      (relu_2): ReLU()\n",
       "      (separable_2): SeparableConv2d(\n",
       "        (depthwise_conv2d): Conv2d(864, 864, kernel_size=(5, 5), stride=(1, 1), padding=(2, 2), groups=864, bias=False)\n",
       "        (pointwise_conv2d): Conv2d(864, 864, kernel_size=(1, 1), stride=(1, 1), bias=False)\n",
       "      )\n",
       "      (bn_sep_2): BatchNorm2d(864, eps=0.001, momentum=0.1, affine=True, track_running_stats=True)\n",
       "    )\n",
       "    (comb_iter_2_right): BranchSeparables(\n",
       "      (relu_1): ReLU()\n",
       "      (separable_1): SeparableConv2d(\n",
       "        (depthwise_conv2d): Conv2d(864, 864, kernel_size=(3, 3), stride=(2, 2), padding=(1, 1), groups=864, bias=False)\n",
       "        (pointwise_conv2d): Conv2d(864, 864, kernel_size=(1, 1), stride=(1, 1), bias=False)\n",
       "      )\n",
       "      (bn_sep_1): BatchNorm2d(864, eps=0.001, momentum=0.1, affine=True, track_running_stats=True)\n",
       "      (relu_2): ReLU()\n",
       "      (separable_2): SeparableConv2d(\n",
       "        (depthwise_conv2d): Conv2d(864, 864, kernel_size=(3, 3), stride=(1, 1), padding=(1, 1), groups=864, bias=False)\n",
       "        (pointwise_conv2d): Conv2d(864, 864, kernel_size=(1, 1), stride=(1, 1), bias=False)\n",
       "      )\n",
       "      (bn_sep_2): BatchNorm2d(864, eps=0.001, momentum=0.1, affine=True, track_running_stats=True)\n",
       "    )\n",
       "    (comb_iter_3_left): BranchSeparables(\n",
       "      (relu_1): ReLU()\n",
       "      (separable_1): SeparableConv2d(\n",
       "        (depthwise_conv2d): Conv2d(864, 864, kernel_size=(3, 3), stride=(1, 1), padding=(1, 1), groups=864, bias=False)\n",
       "        (pointwise_conv2d): Conv2d(864, 864, kernel_size=(1, 1), stride=(1, 1), bias=False)\n",
       "      )\n",
       "      (bn_sep_1): BatchNorm2d(864, eps=0.001, momentum=0.1, affine=True, track_running_stats=True)\n",
       "      (relu_2): ReLU()\n",
       "      (separable_2): SeparableConv2d(\n",
       "        (depthwise_conv2d): Conv2d(864, 864, kernel_size=(3, 3), stride=(1, 1), padding=(1, 1), groups=864, bias=False)\n",
       "        (pointwise_conv2d): Conv2d(864, 864, kernel_size=(1, 1), stride=(1, 1), bias=False)\n",
       "      )\n",
       "      (bn_sep_2): BatchNorm2d(864, eps=0.001, momentum=0.1, affine=True, track_running_stats=True)\n",
       "    )\n",
       "    (comb_iter_3_right): MaxPool(\n",
       "      (pool): MaxPool2d(kernel_size=3, stride=2, padding=1, dilation=1, ceil_mode=False)\n",
       "    )\n",
       "    (comb_iter_4_left): BranchSeparables(\n",
       "      (relu_1): ReLU()\n",
       "      (separable_1): SeparableConv2d(\n",
       "        (depthwise_conv2d): Conv2d(864, 864, kernel_size=(3, 3), stride=(2, 2), padding=(1, 1), groups=864, bias=False)\n",
       "        (pointwise_conv2d): Conv2d(864, 864, kernel_size=(1, 1), stride=(1, 1), bias=False)\n",
       "      )\n",
       "      (bn_sep_1): BatchNorm2d(864, eps=0.001, momentum=0.1, affine=True, track_running_stats=True)\n",
       "      (relu_2): ReLU()\n",
       "      (separable_2): SeparableConv2d(\n",
       "        (depthwise_conv2d): Conv2d(864, 864, kernel_size=(3, 3), stride=(1, 1), padding=(1, 1), groups=864, bias=False)\n",
       "        (pointwise_conv2d): Conv2d(864, 864, kernel_size=(1, 1), stride=(1, 1), bias=False)\n",
       "      )\n",
       "      (bn_sep_2): BatchNorm2d(864, eps=0.001, momentum=0.1, affine=True, track_running_stats=True)\n",
       "    )\n",
       "    (comb_iter_4_right): ReluConvBn(\n",
       "      (relu): ReLU()\n",
       "      (conv): Conv2d(864, 864, kernel_size=(1, 1), stride=(2, 2), bias=False)\n",
       "      (bn): BatchNorm2d(864, eps=0.001, momentum=0.1, affine=True, track_running_stats=True)\n",
       "    )\n",
       "  )\n",
       "  (cell_9): Cell(\n",
       "    (conv_prev_1x1): FactorizedReduction(\n",
       "      (relu): ReLU()\n",
       "      (path_1): Sequential(\n",
       "        (avgpool): AvgPool2d(kernel_size=1, stride=2, padding=0)\n",
       "        (conv): Conv2d(2160, 432, kernel_size=(1, 1), stride=(1, 1), bias=False)\n",
       "      )\n",
       "      (path_2): Sequential(\n",
       "        (pad): ZeroPad2d(padding=(0, 1, 0, 1), value=0)\n",
       "        (avgpool): AvgPool2d(kernel_size=1, stride=2, padding=0)\n",
       "        (conv): Conv2d(2160, 432, kernel_size=(1, 1), stride=(1, 1), bias=False)\n",
       "      )\n",
       "      (final_path_bn): BatchNorm2d(864, eps=0.001, momentum=0.1, affine=True, track_running_stats=True)\n",
       "    )\n",
       "    (conv_1x1): ReluConvBn(\n",
       "      (relu): ReLU()\n",
       "      (conv): Conv2d(4320, 864, kernel_size=(1, 1), stride=(1, 1), bias=False)\n",
       "      (bn): BatchNorm2d(864, eps=0.001, momentum=0.1, affine=True, track_running_stats=True)\n",
       "    )\n",
       "    (comb_iter_0_left): BranchSeparables(\n",
       "      (relu_1): ReLU()\n",
       "      (separable_1): SeparableConv2d(\n",
       "        (depthwise_conv2d): Conv2d(864, 864, kernel_size=(5, 5), stride=(1, 1), padding=(2, 2), groups=864, bias=False)\n",
       "        (pointwise_conv2d): Conv2d(864, 864, kernel_size=(1, 1), stride=(1, 1), bias=False)\n",
       "      )\n",
       "      (bn_sep_1): BatchNorm2d(864, eps=0.001, momentum=0.1, affine=True, track_running_stats=True)\n",
       "      (relu_2): ReLU()\n",
       "      (separable_2): SeparableConv2d(\n",
       "        (depthwise_conv2d): Conv2d(864, 864, kernel_size=(5, 5), stride=(1, 1), padding=(2, 2), groups=864, bias=False)\n",
       "        (pointwise_conv2d): Conv2d(864, 864, kernel_size=(1, 1), stride=(1, 1), bias=False)\n",
       "      )\n",
       "      (bn_sep_2): BatchNorm2d(864, eps=0.001, momentum=0.1, affine=True, track_running_stats=True)\n",
       "    )\n",
       "    (comb_iter_0_right): MaxPool(\n",
       "      (pool): MaxPool2d(kernel_size=3, stride=1, padding=1, dilation=1, ceil_mode=False)\n",
       "    )\n",
       "    (comb_iter_1_left): BranchSeparables(\n",
       "      (relu_1): ReLU()\n",
       "      (separable_1): SeparableConv2d(\n",
       "        (depthwise_conv2d): Conv2d(864, 864, kernel_size=(7, 7), stride=(1, 1), padding=(3, 3), groups=864, bias=False)\n",
       "        (pointwise_conv2d): Conv2d(864, 864, kernel_size=(1, 1), stride=(1, 1), bias=False)\n",
       "      )\n",
       "      (bn_sep_1): BatchNorm2d(864, eps=0.001, momentum=0.1, affine=True, track_running_stats=True)\n",
       "      (relu_2): ReLU()\n",
       "      (separable_2): SeparableConv2d(\n",
       "        (depthwise_conv2d): Conv2d(864, 864, kernel_size=(7, 7), stride=(1, 1), padding=(3, 3), groups=864, bias=False)\n",
       "        (pointwise_conv2d): Conv2d(864, 864, kernel_size=(1, 1), stride=(1, 1), bias=False)\n",
       "      )\n",
       "      (bn_sep_2): BatchNorm2d(864, eps=0.001, momentum=0.1, affine=True, track_running_stats=True)\n",
       "    )\n",
       "    (comb_iter_1_right): MaxPool(\n",
       "      (pool): MaxPool2d(kernel_size=3, stride=1, padding=1, dilation=1, ceil_mode=False)\n",
       "    )\n",
       "    (comb_iter_2_left): BranchSeparables(\n",
       "      (relu_1): ReLU()\n",
       "      (separable_1): SeparableConv2d(\n",
       "        (depthwise_conv2d): Conv2d(864, 864, kernel_size=(5, 5), stride=(1, 1), padding=(2, 2), groups=864, bias=False)\n",
       "        (pointwise_conv2d): Conv2d(864, 864, kernel_size=(1, 1), stride=(1, 1), bias=False)\n",
       "      )\n",
       "      (bn_sep_1): BatchNorm2d(864, eps=0.001, momentum=0.1, affine=True, track_running_stats=True)\n",
       "      (relu_2): ReLU()\n",
       "      (separable_2): SeparableConv2d(\n",
       "        (depthwise_conv2d): Conv2d(864, 864, kernel_size=(5, 5), stride=(1, 1), padding=(2, 2), groups=864, bias=False)\n",
       "        (pointwise_conv2d): Conv2d(864, 864, kernel_size=(1, 1), stride=(1, 1), bias=False)\n",
       "      )\n",
       "      (bn_sep_2): BatchNorm2d(864, eps=0.001, momentum=0.1, affine=True, track_running_stats=True)\n",
       "    )\n",
       "    (comb_iter_2_right): BranchSeparables(\n",
       "      (relu_1): ReLU()\n",
       "      (separable_1): SeparableConv2d(\n",
       "        (depthwise_conv2d): Conv2d(864, 864, kernel_size=(3, 3), stride=(1, 1), padding=(1, 1), groups=864, bias=False)\n",
       "        (pointwise_conv2d): Conv2d(864, 864, kernel_size=(1, 1), stride=(1, 1), bias=False)\n",
       "      )\n",
       "      (bn_sep_1): BatchNorm2d(864, eps=0.001, momentum=0.1, affine=True, track_running_stats=True)\n",
       "      (relu_2): ReLU()\n",
       "      (separable_2): SeparableConv2d(\n",
       "        (depthwise_conv2d): Conv2d(864, 864, kernel_size=(3, 3), stride=(1, 1), padding=(1, 1), groups=864, bias=False)\n",
       "        (pointwise_conv2d): Conv2d(864, 864, kernel_size=(1, 1), stride=(1, 1), bias=False)\n",
       "      )\n",
       "      (bn_sep_2): BatchNorm2d(864, eps=0.001, momentum=0.1, affine=True, track_running_stats=True)\n",
       "    )\n",
       "    (comb_iter_3_left): BranchSeparables(\n",
       "      (relu_1): ReLU()\n",
       "      (separable_1): SeparableConv2d(\n",
       "        (depthwise_conv2d): Conv2d(864, 864, kernel_size=(3, 3), stride=(1, 1), padding=(1, 1), groups=864, bias=False)\n",
       "        (pointwise_conv2d): Conv2d(864, 864, kernel_size=(1, 1), stride=(1, 1), bias=False)\n",
       "      )\n",
       "      (bn_sep_1): BatchNorm2d(864, eps=0.001, momentum=0.1, affine=True, track_running_stats=True)\n",
       "      (relu_2): ReLU()\n",
       "      (separable_2): SeparableConv2d(\n",
       "        (depthwise_conv2d): Conv2d(864, 864, kernel_size=(3, 3), stride=(1, 1), padding=(1, 1), groups=864, bias=False)\n",
       "        (pointwise_conv2d): Conv2d(864, 864, kernel_size=(1, 1), stride=(1, 1), bias=False)\n",
       "      )\n",
       "      (bn_sep_2): BatchNorm2d(864, eps=0.001, momentum=0.1, affine=True, track_running_stats=True)\n",
       "    )\n",
       "    (comb_iter_3_right): MaxPool(\n",
       "      (pool): MaxPool2d(kernel_size=3, stride=1, padding=1, dilation=1, ceil_mode=False)\n",
       "    )\n",
       "    (comb_iter_4_left): BranchSeparables(\n",
       "      (relu_1): ReLU()\n",
       "      (separable_1): SeparableConv2d(\n",
       "        (depthwise_conv2d): Conv2d(864, 864, kernel_size=(3, 3), stride=(1, 1), padding=(1, 1), groups=864, bias=False)\n",
       "        (pointwise_conv2d): Conv2d(864, 864, kernel_size=(1, 1), stride=(1, 1), bias=False)\n",
       "      )\n",
       "      (bn_sep_1): BatchNorm2d(864, eps=0.001, momentum=0.1, affine=True, track_running_stats=True)\n",
       "      (relu_2): ReLU()\n",
       "      (separable_2): SeparableConv2d(\n",
       "        (depthwise_conv2d): Conv2d(864, 864, kernel_size=(3, 3), stride=(1, 1), padding=(1, 1), groups=864, bias=False)\n",
       "        (pointwise_conv2d): Conv2d(864, 864, kernel_size=(1, 1), stride=(1, 1), bias=False)\n",
       "      )\n",
       "      (bn_sep_2): BatchNorm2d(864, eps=0.001, momentum=0.1, affine=True, track_running_stats=True)\n",
       "    )\n",
       "  )\n",
       "  (cell_10): Cell(\n",
       "    (conv_prev_1x1): ReluConvBn(\n",
       "      (relu): ReLU()\n",
       "      (conv): Conv2d(4320, 864, kernel_size=(1, 1), stride=(1, 1), bias=False)\n",
       "      (bn): BatchNorm2d(864, eps=0.001, momentum=0.1, affine=True, track_running_stats=True)\n",
       "    )\n",
       "    (conv_1x1): ReluConvBn(\n",
       "      (relu): ReLU()\n",
       "      (conv): Conv2d(4320, 864, kernel_size=(1, 1), stride=(1, 1), bias=False)\n",
       "      (bn): BatchNorm2d(864, eps=0.001, momentum=0.1, affine=True, track_running_stats=True)\n",
       "    )\n",
       "    (comb_iter_0_left): BranchSeparables(\n",
       "      (relu_1): ReLU()\n",
       "      (separable_1): SeparableConv2d(\n",
       "        (depthwise_conv2d): Conv2d(864, 864, kernel_size=(5, 5), stride=(1, 1), padding=(2, 2), groups=864, bias=False)\n",
       "        (pointwise_conv2d): Conv2d(864, 864, kernel_size=(1, 1), stride=(1, 1), bias=False)\n",
       "      )\n",
       "      (bn_sep_1): BatchNorm2d(864, eps=0.001, momentum=0.1, affine=True, track_running_stats=True)\n",
       "      (relu_2): ReLU()\n",
       "      (separable_2): SeparableConv2d(\n",
       "        (depthwise_conv2d): Conv2d(864, 864, kernel_size=(5, 5), stride=(1, 1), padding=(2, 2), groups=864, bias=False)\n",
       "        (pointwise_conv2d): Conv2d(864, 864, kernel_size=(1, 1), stride=(1, 1), bias=False)\n",
       "      )\n",
       "      (bn_sep_2): BatchNorm2d(864, eps=0.001, momentum=0.1, affine=True, track_running_stats=True)\n",
       "    )\n",
       "    (comb_iter_0_right): MaxPool(\n",
       "      (pool): MaxPool2d(kernel_size=3, stride=1, padding=1, dilation=1, ceil_mode=False)\n",
       "    )\n",
       "    (comb_iter_1_left): BranchSeparables(\n",
       "      (relu_1): ReLU()\n",
       "      (separable_1): SeparableConv2d(\n",
       "        (depthwise_conv2d): Conv2d(864, 864, kernel_size=(7, 7), stride=(1, 1), padding=(3, 3), groups=864, bias=False)\n",
       "        (pointwise_conv2d): Conv2d(864, 864, kernel_size=(1, 1), stride=(1, 1), bias=False)\n",
       "      )\n",
       "      (bn_sep_1): BatchNorm2d(864, eps=0.001, momentum=0.1, affine=True, track_running_stats=True)\n",
       "      (relu_2): ReLU()\n",
       "      (separable_2): SeparableConv2d(\n",
       "        (depthwise_conv2d): Conv2d(864, 864, kernel_size=(7, 7), stride=(1, 1), padding=(3, 3), groups=864, bias=False)\n",
       "        (pointwise_conv2d): Conv2d(864, 864, kernel_size=(1, 1), stride=(1, 1), bias=False)\n",
       "      )\n",
       "      (bn_sep_2): BatchNorm2d(864, eps=0.001, momentum=0.1, affine=True, track_running_stats=True)\n",
       "    )\n",
       "    (comb_iter_1_right): MaxPool(\n",
       "      (pool): MaxPool2d(kernel_size=3, stride=1, padding=1, dilation=1, ceil_mode=False)\n",
       "    )\n",
       "    (comb_iter_2_left): BranchSeparables(\n",
       "      (relu_1): ReLU()\n",
       "      (separable_1): SeparableConv2d(\n",
       "        (depthwise_conv2d): Conv2d(864, 864, kernel_size=(5, 5), stride=(1, 1), padding=(2, 2), groups=864, bias=False)\n",
       "        (pointwise_conv2d): Conv2d(864, 864, kernel_size=(1, 1), stride=(1, 1), bias=False)\n",
       "      )\n",
       "      (bn_sep_1): BatchNorm2d(864, eps=0.001, momentum=0.1, affine=True, track_running_stats=True)\n",
       "      (relu_2): ReLU()\n",
       "      (separable_2): SeparableConv2d(\n",
       "        (depthwise_conv2d): Conv2d(864, 864, kernel_size=(5, 5), stride=(1, 1), padding=(2, 2), groups=864, bias=False)\n",
       "        (pointwise_conv2d): Conv2d(864, 864, kernel_size=(1, 1), stride=(1, 1), bias=False)\n",
       "      )\n",
       "      (bn_sep_2): BatchNorm2d(864, eps=0.001, momentum=0.1, affine=True, track_running_stats=True)\n",
       "    )\n",
       "    (comb_iter_2_right): BranchSeparables(\n",
       "      (relu_1): ReLU()\n",
       "      (separable_1): SeparableConv2d(\n",
       "        (depthwise_conv2d): Conv2d(864, 864, kernel_size=(3, 3), stride=(1, 1), padding=(1, 1), groups=864, bias=False)\n",
       "        (pointwise_conv2d): Conv2d(864, 864, kernel_size=(1, 1), stride=(1, 1), bias=False)\n",
       "      )\n",
       "      (bn_sep_1): BatchNorm2d(864, eps=0.001, momentum=0.1, affine=True, track_running_stats=True)\n",
       "      (relu_2): ReLU()\n",
       "      (separable_2): SeparableConv2d(\n",
       "        (depthwise_conv2d): Conv2d(864, 864, kernel_size=(3, 3), stride=(1, 1), padding=(1, 1), groups=864, bias=False)\n",
       "        (pointwise_conv2d): Conv2d(864, 864, kernel_size=(1, 1), stride=(1, 1), bias=False)\n",
       "      )\n",
       "      (bn_sep_2): BatchNorm2d(864, eps=0.001, momentum=0.1, affine=True, track_running_stats=True)\n",
       "    )\n",
       "    (comb_iter_3_left): BranchSeparables(\n",
       "      (relu_1): ReLU()\n",
       "      (separable_1): SeparableConv2d(\n",
       "        (depthwise_conv2d): Conv2d(864, 864, kernel_size=(3, 3), stride=(1, 1), padding=(1, 1), groups=864, bias=False)\n",
       "        (pointwise_conv2d): Conv2d(864, 864, kernel_size=(1, 1), stride=(1, 1), bias=False)\n",
       "      )\n",
       "      (bn_sep_1): BatchNorm2d(864, eps=0.001, momentum=0.1, affine=True, track_running_stats=True)\n",
       "      (relu_2): ReLU()\n",
       "      (separable_2): SeparableConv2d(\n",
       "        (depthwise_conv2d): Conv2d(864, 864, kernel_size=(3, 3), stride=(1, 1), padding=(1, 1), groups=864, bias=False)\n",
       "        (pointwise_conv2d): Conv2d(864, 864, kernel_size=(1, 1), stride=(1, 1), bias=False)\n",
       "      )\n",
       "      (bn_sep_2): BatchNorm2d(864, eps=0.001, momentum=0.1, affine=True, track_running_stats=True)\n",
       "    )\n",
       "    (comb_iter_3_right): MaxPool(\n",
       "      (pool): MaxPool2d(kernel_size=3, stride=1, padding=1, dilation=1, ceil_mode=False)\n",
       "    )\n",
       "    (comb_iter_4_left): BranchSeparables(\n",
       "      (relu_1): ReLU()\n",
       "      (separable_1): SeparableConv2d(\n",
       "        (depthwise_conv2d): Conv2d(864, 864, kernel_size=(3, 3), stride=(1, 1), padding=(1, 1), groups=864, bias=False)\n",
       "        (pointwise_conv2d): Conv2d(864, 864, kernel_size=(1, 1), stride=(1, 1), bias=False)\n",
       "      )\n",
       "      (bn_sep_1): BatchNorm2d(864, eps=0.001, momentum=0.1, affine=True, track_running_stats=True)\n",
       "      (relu_2): ReLU()\n",
       "      (separable_2): SeparableConv2d(\n",
       "        (depthwise_conv2d): Conv2d(864, 864, kernel_size=(3, 3), stride=(1, 1), padding=(1, 1), groups=864, bias=False)\n",
       "        (pointwise_conv2d): Conv2d(864, 864, kernel_size=(1, 1), stride=(1, 1), bias=False)\n",
       "      )\n",
       "      (bn_sep_2): BatchNorm2d(864, eps=0.001, momentum=0.1, affine=True, track_running_stats=True)\n",
       "    )\n",
       "  )\n",
       "  (cell_11): Cell(\n",
       "    (conv_prev_1x1): ReluConvBn(\n",
       "      (relu): ReLU()\n",
       "      (conv): Conv2d(4320, 864, kernel_size=(1, 1), stride=(1, 1), bias=False)\n",
       "      (bn): BatchNorm2d(864, eps=0.001, momentum=0.1, affine=True, track_running_stats=True)\n",
       "    )\n",
       "    (conv_1x1): ReluConvBn(\n",
       "      (relu): ReLU()\n",
       "      (conv): Conv2d(4320, 864, kernel_size=(1, 1), stride=(1, 1), bias=False)\n",
       "      (bn): BatchNorm2d(864, eps=0.001, momentum=0.1, affine=True, track_running_stats=True)\n",
       "    )\n",
       "    (comb_iter_0_left): BranchSeparables(\n",
       "      (relu_1): ReLU()\n",
       "      (separable_1): SeparableConv2d(\n",
       "        (depthwise_conv2d): Conv2d(864, 864, kernel_size=(5, 5), stride=(1, 1), padding=(2, 2), groups=864, bias=False)\n",
       "        (pointwise_conv2d): Conv2d(864, 864, kernel_size=(1, 1), stride=(1, 1), bias=False)\n",
       "      )\n",
       "      (bn_sep_1): BatchNorm2d(864, eps=0.001, momentum=0.1, affine=True, track_running_stats=True)\n",
       "      (relu_2): ReLU()\n",
       "      (separable_2): SeparableConv2d(\n",
       "        (depthwise_conv2d): Conv2d(864, 864, kernel_size=(5, 5), stride=(1, 1), padding=(2, 2), groups=864, bias=False)\n",
       "        (pointwise_conv2d): Conv2d(864, 864, kernel_size=(1, 1), stride=(1, 1), bias=False)\n",
       "      )\n",
       "      (bn_sep_2): BatchNorm2d(864, eps=0.001, momentum=0.1, affine=True, track_running_stats=True)\n",
       "    )\n",
       "    (comb_iter_0_right): MaxPool(\n",
       "      (pool): MaxPool2d(kernel_size=3, stride=1, padding=1, dilation=1, ceil_mode=False)\n",
       "    )\n",
       "    (comb_iter_1_left): BranchSeparables(\n",
       "      (relu_1): ReLU()\n",
       "      (separable_1): SeparableConv2d(\n",
       "        (depthwise_conv2d): Conv2d(864, 864, kernel_size=(7, 7), stride=(1, 1), padding=(3, 3), groups=864, bias=False)\n",
       "        (pointwise_conv2d): Conv2d(864, 864, kernel_size=(1, 1), stride=(1, 1), bias=False)\n",
       "      )\n",
       "      (bn_sep_1): BatchNorm2d(864, eps=0.001, momentum=0.1, affine=True, track_running_stats=True)\n",
       "      (relu_2): ReLU()\n",
       "      (separable_2): SeparableConv2d(\n",
       "        (depthwise_conv2d): Conv2d(864, 864, kernel_size=(7, 7), stride=(1, 1), padding=(3, 3), groups=864, bias=False)\n",
       "        (pointwise_conv2d): Conv2d(864, 864, kernel_size=(1, 1), stride=(1, 1), bias=False)\n",
       "      )\n",
       "      (bn_sep_2): BatchNorm2d(864, eps=0.001, momentum=0.1, affine=True, track_running_stats=True)\n",
       "    )\n",
       "    (comb_iter_1_right): MaxPool(\n",
       "      (pool): MaxPool2d(kernel_size=3, stride=1, padding=1, dilation=1, ceil_mode=False)\n",
       "    )\n",
       "    (comb_iter_2_left): BranchSeparables(\n",
       "      (relu_1): ReLU()\n",
       "      (separable_1): SeparableConv2d(\n",
       "        (depthwise_conv2d): Conv2d(864, 864, kernel_size=(5, 5), stride=(1, 1), padding=(2, 2), groups=864, bias=False)\n",
       "        (pointwise_conv2d): Conv2d(864, 864, kernel_size=(1, 1), stride=(1, 1), bias=False)\n",
       "      )\n",
       "      (bn_sep_1): BatchNorm2d(864, eps=0.001, momentum=0.1, affine=True, track_running_stats=True)\n",
       "      (relu_2): ReLU()\n",
       "      (separable_2): SeparableConv2d(\n",
       "        (depthwise_conv2d): Conv2d(864, 864, kernel_size=(5, 5), stride=(1, 1), padding=(2, 2), groups=864, bias=False)\n",
       "        (pointwise_conv2d): Conv2d(864, 864, kernel_size=(1, 1), stride=(1, 1), bias=False)\n",
       "      )\n",
       "      (bn_sep_2): BatchNorm2d(864, eps=0.001, momentum=0.1, affine=True, track_running_stats=True)\n",
       "    )\n",
       "    (comb_iter_2_right): BranchSeparables(\n",
       "      (relu_1): ReLU()\n",
       "      (separable_1): SeparableConv2d(\n",
       "        (depthwise_conv2d): Conv2d(864, 864, kernel_size=(3, 3), stride=(1, 1), padding=(1, 1), groups=864, bias=False)\n",
       "        (pointwise_conv2d): Conv2d(864, 864, kernel_size=(1, 1), stride=(1, 1), bias=False)\n",
       "      )\n",
       "      (bn_sep_1): BatchNorm2d(864, eps=0.001, momentum=0.1, affine=True, track_running_stats=True)\n",
       "      (relu_2): ReLU()\n",
       "      (separable_2): SeparableConv2d(\n",
       "        (depthwise_conv2d): Conv2d(864, 864, kernel_size=(3, 3), stride=(1, 1), padding=(1, 1), groups=864, bias=False)\n",
       "        (pointwise_conv2d): Conv2d(864, 864, kernel_size=(1, 1), stride=(1, 1), bias=False)\n",
       "      )\n",
       "      (bn_sep_2): BatchNorm2d(864, eps=0.001, momentum=0.1, affine=True, track_running_stats=True)\n",
       "    )\n",
       "    (comb_iter_3_left): BranchSeparables(\n",
       "      (relu_1): ReLU()\n",
       "      (separable_1): SeparableConv2d(\n",
       "        (depthwise_conv2d): Conv2d(864, 864, kernel_size=(3, 3), stride=(1, 1), padding=(1, 1), groups=864, bias=False)\n",
       "        (pointwise_conv2d): Conv2d(864, 864, kernel_size=(1, 1), stride=(1, 1), bias=False)\n",
       "      )\n",
       "      (bn_sep_1): BatchNorm2d(864, eps=0.001, momentum=0.1, affine=True, track_running_stats=True)\n",
       "      (relu_2): ReLU()\n",
       "      (separable_2): SeparableConv2d(\n",
       "        (depthwise_conv2d): Conv2d(864, 864, kernel_size=(3, 3), stride=(1, 1), padding=(1, 1), groups=864, bias=False)\n",
       "        (pointwise_conv2d): Conv2d(864, 864, kernel_size=(1, 1), stride=(1, 1), bias=False)\n",
       "      )\n",
       "      (bn_sep_2): BatchNorm2d(864, eps=0.001, momentum=0.1, affine=True, track_running_stats=True)\n",
       "    )\n",
       "    (comb_iter_3_right): MaxPool(\n",
       "      (pool): MaxPool2d(kernel_size=3, stride=1, padding=1, dilation=1, ceil_mode=False)\n",
       "    )\n",
       "    (comb_iter_4_left): BranchSeparables(\n",
       "      (relu_1): ReLU()\n",
       "      (separable_1): SeparableConv2d(\n",
       "        (depthwise_conv2d): Conv2d(864, 864, kernel_size=(3, 3), stride=(1, 1), padding=(1, 1), groups=864, bias=False)\n",
       "        (pointwise_conv2d): Conv2d(864, 864, kernel_size=(1, 1), stride=(1, 1), bias=False)\n",
       "      )\n",
       "      (bn_sep_1): BatchNorm2d(864, eps=0.001, momentum=0.1, affine=True, track_running_stats=True)\n",
       "      (relu_2): ReLU()\n",
       "      (separable_2): SeparableConv2d(\n",
       "        (depthwise_conv2d): Conv2d(864, 864, kernel_size=(3, 3), stride=(1, 1), padding=(1, 1), groups=864, bias=False)\n",
       "        (pointwise_conv2d): Conv2d(864, 864, kernel_size=(1, 1), stride=(1, 1), bias=False)\n",
       "      )\n",
       "      (bn_sep_2): BatchNorm2d(864, eps=0.001, momentum=0.1, affine=True, track_running_stats=True)\n",
       "    )\n",
       "  )\n",
       "  (relu): ReLU()\n",
       "  (avg_pool): AvgPool2d(kernel_size=11, stride=1, padding=0)\n",
       "  (dropout): Dropout(p=0.5)\n",
       "  (last_linear): Linear(in_features=4320, out_features=2, bias=True)\n",
       ")"
      ]
     },
     "execution_count": 51,
     "metadata": {},
     "output_type": "execute_result"
    }
   ],
   "source": [
    "criterion = nn.CrossEntropyLoss()\n",
    "\n",
    "my_learner = Learner(data,\n",
    "                    LearnerModelBuilder(model),\n",
    "                    opt_fn = torch.optim.Adam,\n",
    "#                      opt_fn = torch.optim.SGD,\n",
    "                    crit=criterion)\n",
    "my_learner.model.cuda()\n",
    "# my_learner.unfreeze()"
   ]
  },
  {
   "cell_type": "code",
   "execution_count": 52,
   "metadata": {},
   "outputs": [],
   "source": [
    "my_learner.model.layer_groups = \"foo\""
   ]
  },
  {
   "cell_type": "code",
   "execution_count": 19,
   "metadata": {},
   "outputs": [
    {
     "data": {
      "application/vnd.jupyter.widget-view+json": {
       "model_id": "4fec64ee4e134ee2afd655885b8310ae",
       "version_major": 2,
       "version_minor": 0
      },
      "text/plain": [
       "HBox(children=(IntProgress(value=0, description='Epoch', max=1), HTML(value='')))"
      ]
     },
     "metadata": {},
     "output_type": "display_data"
    },
    {
     "name": "stdout",
     "output_type": "stream",
     "text": [
      " 84%|████████▍ | 27/32 [00:18<00:03,  1.46it/s, loss=2.8]  "
     ]
    }
   ],
   "source": [
    "my_learner.lr_find()"
   ]
  },
  {
   "cell_type": "code",
   "execution_count": 25,
   "metadata": {},
   "outputs": [
    {
     "data": {
      "image/png": "[encoded data removed]",
      "text/plain": [
       "<Figure size 432x288 with 1 Axes>"
      ]
     },
     "metadata": {},
     "output_type": "display_data"
    }
   ],
   "source": [
    "skip_last_n = 4\n",
    "plt.plot(my_learner.sched.lrs[:-skip_last_n],my_learner.sched.losses[:-skip_last_n])\n",
    "plt.xscale(\"log\")"
   ]
  },
  {
   "cell_type": "code",
   "execution_count": 26,
   "metadata": {},
   "outputs": [
    {
     "data": {
      "application/vnd.jupyter.widget-view+json": {
       "model_id": "91043ff3efae4ee0acecc951b3e9c254",
       "version_major": 2,
       "version_minor": 0
      },
      "text/plain": [
       "HBox(children=(IntProgress(value=0, description='Epoch', max=1), HTML(value='')))"
      ]
     },
     "metadata": {},
     "output_type": "display_data"
    },
    {
     "name": "stdout",
     "output_type": "stream",
     "text": [
      "epoch      trn_loss   val_loss                             \n",
      "    0      0.503283   0.557134  \n"
     ]
    },
    {
     "data": {
      "text/plain": [
       "[0.5571335388953427]"
      ]
     },
     "execution_count": 26,
     "metadata": {},
     "output_type": "execute_result"
    }
   ],
   "source": [
    "lr = 1e-4\n",
    "my_learner.fit(lr, 1)"
   ]
  },
  {
   "cell_type": "code",
   "execution_count": null,
   "metadata": {},
   "outputs": [],
   "source": []
  },
  {
   "cell_type": "code",
   "execution_count": 28,
   "metadata": {},
   "outputs": [
    {
     "name": "stdout",
     "output_type": "stream",
     "text": [
      "                                             \r"
     ]
    },
    {
     "data": {
      "text/plain": [
       "0.7429718875502008"
      ]
     },
     "execution_count": 28,
     "metadata": {},
     "output_type": "execute_result"
    }
   ],
   "source": [
    "log_preds,y = my_learner.TTA()\n",
    "# log_preds = my_learner.predict()\n",
    "probs = np.mean(np.exp(log_preds),0)\n",
    "\n",
    "accuracy_np(probs, y)"
   ]
  },
  {
   "cell_type": "code",
   "execution_count": 32,
   "metadata": {},
   "outputs": [
    {
     "ename": "TypeError",
     "evalue": "object of type 'PNASNet5Large' has no len()",
     "output_type": "error",
     "traceback": [
      "\u001b[0;31m---------------------------------------------------------------------------\u001b[0m",
      "\u001b[0;31mTypeError\u001b[0m                                 Traceback (most recent call last)",
      "\u001b[0;32m<ipython-input-32-b4d5599df5d8>\u001b[0m in \u001b[0;36m<module>\u001b[0;34m()\u001b[0m\n\u001b[0;32m----> 1\u001b[0;31m \u001b[0mprint\u001b[0m\u001b[0;34m(\u001b[0m\u001b[0mlen\u001b[0m\u001b[0;34m(\u001b[0m\u001b[0mmy_learner\u001b[0m\u001b[0;34m.\u001b[0m\u001b[0mget_layer_groups\u001b[0m\u001b[0;34m(\u001b[0m\u001b[0;34m)\u001b[0m\u001b[0;34m[\u001b[0m\u001b[0;36m0\u001b[0m\u001b[0;34m]\u001b[0m\u001b[0;34m)\u001b[0m\u001b[0;34m)\u001b[0m\u001b[0;34m\u001b[0m\u001b[0m\n\u001b[0m",
      "\u001b[0;31mTypeError\u001b[0m: object of type 'PNASNet5Large' has no len()"
     ]
    }
   ],
   "source": [
    "print(len(my_learner.get_layer_groups()))"
   ]
  },
  {
   "cell_type": "code",
   "execution_count": 44,
   "metadata": {},
   "outputs": [
    {
     "name": "stdout",
     "output_type": "stream",
     "text": [
      "19\n",
      "777\n"
     ]
    }
   ],
   "source": [
    "n_children = int(0)\n",
    "n_layers = int(0)\n",
    "for child in model.children():\n",
    "    n_children += 1\n",
    "for params in model.parameters():\n",
    "    n_layers += 1\n",
    "\n",
    "print(n_children)\n",
    "print(n_layers)"
   ]
  },
  {
   "cell_type": "code",
   "execution_count": 49,
   "metadata": {},
   "outputs": [
    {
     "ename": "AttributeError",
     "evalue": "'Learner' object has no attribute 'layer_groups'",
     "output_type": "error",
     "traceback": [
      "\u001b[0;31m---------------------------------------------------------------------------\u001b[0m",
      "\u001b[0;31mAttributeError\u001b[0m                            Traceback (most recent call last)",
      "\u001b[0;32m<ipython-input-49-02f0b14eb5fc>\u001b[0m in \u001b[0;36m<module>\u001b[0;34m()\u001b[0m\n\u001b[0;32m----> 1\u001b[0;31m \u001b[0mmy_learner\u001b[0m\u001b[0;34m.\u001b[0m\u001b[0mlayer_groups\u001b[0m\u001b[0;34m(\u001b[0m\u001b[0;34m)\u001b[0m\u001b[0;34m\u001b[0m\u001b[0m\n\u001b[0m",
      "\u001b[0;31mAttributeError\u001b[0m: 'Learner' object has no attribute 'layer_groups'"
     ]
    }
   ],
   "source": [
    "my_learner.layer_groups()"
   ]
  },
  {
   "cell_type": "code",
   "execution_count": null,
   "metadata": {},
   "outputs": [],
   "source": []
  },
  {
   "cell_type": "raw",
   "metadata": {},
   "source": [
    "len(my_learner.get_layer_groups())"
   ]
  },
  {
   "cell_type": "code",
   "execution_count": 48,
   "metadata": {},
   "outputs": [
    {
     "ename": "AssertionError",
     "evalue": "",
     "output_type": "error",
     "traceback": [
      "\u001b[0;31m---------------------------------------------------------------------------\u001b[0m",
      "\u001b[0;31mAssertionError\u001b[0m                            Traceback (most recent call last)",
      "\u001b[0;32m<ipython-input-48-dc49a9d8ec53>\u001b[0m in \u001b[0;36m<module>\u001b[0;34m()\u001b[0m\n\u001b[1;32m      2\u001b[0m \u001b[0mlrs\u001b[0m \u001b[0;34m=\u001b[0m \u001b[0mnp\u001b[0m\u001b[0;34m.\u001b[0m\u001b[0marray\u001b[0m\u001b[0;34m(\u001b[0m\u001b[0;34m[\u001b[0m\u001b[0;36m1e-2\u001b[0m\u001b[0;34m,\u001b[0m \u001b[0;36m1e-1\u001b[0m\u001b[0;34m,\u001b[0m \u001b[0;36m1\u001b[0m\u001b[0;34m]\u001b[0m\u001b[0;34m)\u001b[0m \u001b[0;34m*\u001b[0m \u001b[0;36m1e-3\u001b[0m\u001b[0;34m\u001b[0m\u001b[0m\n\u001b[1;32m      3\u001b[0m \u001b[0;34m\u001b[0m\u001b[0m\n\u001b[0;32m----> 4\u001b[0;31m \u001b[0mmy_learner\u001b[0m\u001b[0;34m.\u001b[0m\u001b[0mfit\u001b[0m\u001b[0;34m(\u001b[0m\u001b[0mlrs\u001b[0m\u001b[0;34m,\u001b[0m \u001b[0;36m4\u001b[0m\u001b[0;34m,\u001b[0m \u001b[0mcycle_len\u001b[0m\u001b[0;34m=\u001b[0m\u001b[0;36m1\u001b[0m\u001b[0;34m,\u001b[0m \u001b[0mcycle_mult\u001b[0m\u001b[0;34m=\u001b[0m\u001b[0;36m2\u001b[0m\u001b[0;34m)\u001b[0m\u001b[0;34m\u001b[0m\u001b[0m\n\u001b[0m",
      "\u001b[0;32m/local_scratch/wamsterd/anaconda3/envs/torch/lib/python3.6/site-packages/fastai/learner.py\u001b[0m in \u001b[0;36mfit\u001b[0;34m(self, lrs, n_cycle, wds, **kwargs)\u001b[0m\n\u001b[1;32m    284\u001b[0m         \"\"\"\n\u001b[1;32m    285\u001b[0m         \u001b[0mself\u001b[0m\u001b[0;34m.\u001b[0m\u001b[0msched\u001b[0m \u001b[0;34m=\u001b[0m \u001b[0;32mNone\u001b[0m\u001b[0;34m\u001b[0m\u001b[0m\n\u001b[0;32m--> 286\u001b[0;31m         \u001b[0mlayer_opt\u001b[0m \u001b[0;34m=\u001b[0m \u001b[0mself\u001b[0m\u001b[0;34m.\u001b[0m\u001b[0mget_layer_opt\u001b[0m\u001b[0;34m(\u001b[0m\u001b[0mlrs\u001b[0m\u001b[0;34m,\u001b[0m \u001b[0mwds\u001b[0m\u001b[0;34m)\u001b[0m\u001b[0;34m\u001b[0m\u001b[0m\n\u001b[0m\u001b[1;32m    287\u001b[0m         \u001b[0;32mreturn\u001b[0m \u001b[0mself\u001b[0m\u001b[0;34m.\u001b[0m\u001b[0mfit_gen\u001b[0m\u001b[0;34m(\u001b[0m\u001b[0mself\u001b[0m\u001b[0;34m.\u001b[0m\u001b[0mmodel\u001b[0m\u001b[0;34m,\u001b[0m \u001b[0mself\u001b[0m\u001b[0;34m.\u001b[0m\u001b[0mdata\u001b[0m\u001b[0;34m,\u001b[0m \u001b[0mlayer_opt\u001b[0m\u001b[0;34m,\u001b[0m \u001b[0mn_cycle\u001b[0m\u001b[0;34m,\u001b[0m \u001b[0;34m**\u001b[0m\u001b[0mkwargs\u001b[0m\u001b[0;34m)\u001b[0m\u001b[0;34m\u001b[0m\u001b[0m\n\u001b[1;32m    288\u001b[0m \u001b[0;34m\u001b[0m\u001b[0m\n",
      "\u001b[0;32m/local_scratch/wamsterd/anaconda3/envs/torch/lib/python3.6/site-packages/fastai/learner.py\u001b[0m in \u001b[0;36mget_layer_opt\u001b[0;34m(self, lrs, wds)\u001b[0m\n\u001b[1;32m    256\u001b[0m             \u001b[0mAn\u001b[0m \u001b[0minstance\u001b[0m \u001b[0mof\u001b[0m \u001b[0ma\u001b[0m \u001b[0mLayerOptimizer\u001b[0m\u001b[0;34m\u001b[0m\u001b[0m\n\u001b[1;32m    257\u001b[0m         \"\"\"\n\u001b[0;32m--> 258\u001b[0;31m         \u001b[0;32mreturn\u001b[0m \u001b[0mLayerOptimizer\u001b[0m\u001b[0;34m(\u001b[0m\u001b[0mself\u001b[0m\u001b[0;34m.\u001b[0m\u001b[0mopt_fn\u001b[0m\u001b[0;34m,\u001b[0m \u001b[0mself\u001b[0m\u001b[0;34m.\u001b[0m\u001b[0mget_layer_groups\u001b[0m\u001b[0;34m(\u001b[0m\u001b[0;34m)\u001b[0m\u001b[0;34m,\u001b[0m \u001b[0mlrs\u001b[0m\u001b[0;34m,\u001b[0m \u001b[0mwds\u001b[0m\u001b[0;34m)\u001b[0m\u001b[0;34m\u001b[0m\u001b[0m\n\u001b[0m\u001b[1;32m    259\u001b[0m \u001b[0;34m\u001b[0m\u001b[0m\n\u001b[1;32m    260\u001b[0m     \u001b[0;32mdef\u001b[0m \u001b[0mfit\u001b[0m\u001b[0;34m(\u001b[0m\u001b[0mself\u001b[0m\u001b[0;34m,\u001b[0m \u001b[0mlrs\u001b[0m\u001b[0;34m,\u001b[0m \u001b[0mn_cycle\u001b[0m\u001b[0;34m,\u001b[0m \u001b[0mwds\u001b[0m\u001b[0;34m=\u001b[0m\u001b[0;32mNone\u001b[0m\u001b[0;34m,\u001b[0m \u001b[0;34m**\u001b[0m\u001b[0mkwargs\u001b[0m\u001b[0;34m)\u001b[0m\u001b[0;34m:\u001b[0m\u001b[0;34m\u001b[0m\u001b[0m\n",
      "\u001b[0;32m/local_scratch/wamsterd/anaconda3/envs/torch/lib/python3.6/site-packages/fastai/layer_optimizer.py\u001b[0m in \u001b[0;36m__init__\u001b[0;34m(self, opt_fn, layer_groups, lrs, wds)\u001b[0m\n\u001b[1;32m     15\u001b[0m         \u001b[0;32mif\u001b[0m \u001b[0mlen\u001b[0m\u001b[0;34m(\u001b[0m\u001b[0mwds\u001b[0m\u001b[0;34m)\u001b[0m\u001b[0;34m==\u001b[0m\u001b[0;36m1\u001b[0m\u001b[0;34m:\u001b[0m \u001b[0mwds\u001b[0m\u001b[0;34m=\u001b[0m\u001b[0mwds\u001b[0m\u001b[0;34m*\u001b[0m\u001b[0mlen\u001b[0m\u001b[0;34m(\u001b[0m\u001b[0mlayer_groups\u001b[0m\u001b[0;34m)\u001b[0m\u001b[0;34m\u001b[0m\u001b[0m\n\u001b[1;32m     16\u001b[0m         \u001b[0mself\u001b[0m\u001b[0;34m.\u001b[0m\u001b[0mlayer_groups\u001b[0m\u001b[0;34m,\u001b[0m\u001b[0mself\u001b[0m\u001b[0;34m.\u001b[0m\u001b[0mlrs\u001b[0m\u001b[0;34m,\u001b[0m\u001b[0mself\u001b[0m\u001b[0;34m.\u001b[0m\u001b[0mwds\u001b[0m \u001b[0;34m=\u001b[0m \u001b[0mlayer_groups\u001b[0m\u001b[0;34m,\u001b[0m\u001b[0mlrs\u001b[0m\u001b[0;34m,\u001b[0m\u001b[0mwds\u001b[0m\u001b[0;34m\u001b[0m\u001b[0m\n\u001b[0;32m---> 17\u001b[0;31m         \u001b[0mself\u001b[0m\u001b[0;34m.\u001b[0m\u001b[0mopt\u001b[0m \u001b[0;34m=\u001b[0m \u001b[0mopt_fn\u001b[0m\u001b[0;34m(\u001b[0m\u001b[0mself\u001b[0m\u001b[0;34m.\u001b[0m\u001b[0mopt_params\u001b[0m\u001b[0;34m(\u001b[0m\u001b[0;34m)\u001b[0m\u001b[0;34m)\u001b[0m\u001b[0;34m\u001b[0m\u001b[0m\n\u001b[0m\u001b[1;32m     18\u001b[0m \u001b[0;34m\u001b[0m\u001b[0m\n\u001b[1;32m     19\u001b[0m     \u001b[0;32mdef\u001b[0m \u001b[0mopt_params\u001b[0m\u001b[0;34m(\u001b[0m\u001b[0mself\u001b[0m\u001b[0;34m)\u001b[0m\u001b[0;34m:\u001b[0m\u001b[0;34m\u001b[0m\u001b[0m\n",
      "\u001b[0;32m/local_scratch/wamsterd/anaconda3/envs/torch/lib/python3.6/site-packages/fastai/layer_optimizer.py\u001b[0m in \u001b[0;36mopt_params\u001b[0;34m(self)\u001b[0m\n\u001b[1;32m     18\u001b[0m \u001b[0;34m\u001b[0m\u001b[0m\n\u001b[1;32m     19\u001b[0m     \u001b[0;32mdef\u001b[0m \u001b[0mopt_params\u001b[0m\u001b[0;34m(\u001b[0m\u001b[0mself\u001b[0m\u001b[0;34m)\u001b[0m\u001b[0;34m:\u001b[0m\u001b[0;34m\u001b[0m\u001b[0m\n\u001b[0;32m---> 20\u001b[0;31m         \u001b[0;32massert\u001b[0m\u001b[0;34m(\u001b[0m\u001b[0mlen\u001b[0m\u001b[0;34m(\u001b[0m\u001b[0mself\u001b[0m\u001b[0;34m.\u001b[0m\u001b[0mlayer_groups\u001b[0m\u001b[0;34m)\u001b[0m \u001b[0;34m==\u001b[0m \u001b[0mlen\u001b[0m\u001b[0;34m(\u001b[0m\u001b[0mself\u001b[0m\u001b[0;34m.\u001b[0m\u001b[0mlrs\u001b[0m\u001b[0;34m)\u001b[0m\u001b[0;34m)\u001b[0m\u001b[0;34m\u001b[0m\u001b[0m\n\u001b[0m\u001b[1;32m     21\u001b[0m         \u001b[0;32massert\u001b[0m\u001b[0;34m(\u001b[0m\u001b[0mlen\u001b[0m\u001b[0;34m(\u001b[0m\u001b[0mself\u001b[0m\u001b[0;34m.\u001b[0m\u001b[0mlayer_groups\u001b[0m\u001b[0;34m)\u001b[0m \u001b[0;34m==\u001b[0m \u001b[0mlen\u001b[0m\u001b[0;34m(\u001b[0m\u001b[0mself\u001b[0m\u001b[0;34m.\u001b[0m\u001b[0mwds\u001b[0m\u001b[0;34m)\u001b[0m\u001b[0;34m)\u001b[0m\u001b[0;34m\u001b[0m\u001b[0m\n\u001b[1;32m     22\u001b[0m         \u001b[0mparams\u001b[0m \u001b[0;34m=\u001b[0m \u001b[0mlist\u001b[0m\u001b[0;34m(\u001b[0m\u001b[0mzip\u001b[0m\u001b[0;34m(\u001b[0m\u001b[0mself\u001b[0m\u001b[0;34m.\u001b[0m\u001b[0mlayer_groups\u001b[0m\u001b[0;34m,\u001b[0m\u001b[0mself\u001b[0m\u001b[0;34m.\u001b[0m\u001b[0mlrs\u001b[0m\u001b[0;34m,\u001b[0m\u001b[0mself\u001b[0m\u001b[0;34m.\u001b[0m\u001b[0mwds\u001b[0m\u001b[0;34m)\u001b[0m\u001b[0;34m)\u001b[0m\u001b[0;34m\u001b[0m\u001b[0m\n",
      "\u001b[0;31mAssertionError\u001b[0m: "
     ]
    }
   ],
   "source": [
    "my_learner.unfreeze()\n",
    "lrs = np.array([1e-2, 1e-1, 1]) * 1e-3\n",
    "\n",
    "my_learner.fit(lrs, 4, cycle_len=1, cycle_mult=2)"
   ]
  },
  {
   "cell_type": "code",
   "execution_count": 87,
   "metadata": {
    "hidden": true
   },
   "outputs": [
    {
     "name": "stderr",
     "output_type": "stream",
     "text": [
      "/local_scratch/wamsterd/anaconda3/envs/torch/lib/python3.6/site-packages/fastai/initializers.py:6: UserWarning: nn.init.kaiming_normal is now deprecated in favor of nn.init.kaiming_normal_.\n",
      "  if hasattr(m, 'weight'): init_fn(m.weight)\n",
      "/local_scratch/wamsterd/anaconda3/envs/torch/lib/python3.6/site-packages/fastai/initializers.py:6: UserWarning: nn.init.kaiming_normal is now deprecated in favor of nn.init.kaiming_normal_.\n",
      "  if hasattr(m, 'weight'): init_fn(m.weight)\n"
     ]
    }
   ],
   "source": [
    "# setup validation set\n",
    "val_idx = get_cv_idxs(label_df.shape[0], seed = 123)\n",
    "\n",
    "arch = resnet50\n",
    "# sz = 224\n",
    "sz = 299\n",
    "bs = 32\n",
    "\n",
    "tfms = tfms_from_model(arch, sz, \n",
    "                       aug_tfms=transforms_top_down, \n",
    "                       max_zoom=1.0)\n",
    "\n",
    "data = ImageClassifierData.from_csv(HOME_PATH, \"data\", os.path.join(\"resources\", \"labels.csv\"),\n",
    "                                   tfms = tfms, bs = bs, val_idxs = val_idx)\n",
    "\n",
    "learn = ConvLearner.pretrained(arch, data, precompute=False)\n",
    "learn.unfreeze()"
   ]
  },
  {
   "cell_type": "code",
   "execution_count": 88,
   "metadata": {},
   "outputs": [
    {
     "data": {
      "application/vnd.jupyter.widget-view+json": {
       "model_id": "fe62a30033dd4d55a4a16f845bb71f29",
       "version_major": 2,
       "version_minor": 0
      },
      "text/plain": [
       "HBox(children=(IntProgress(value=0, description='Epoch', max=1), HTML(value='')))"
      ]
     },
     "metadata": {},
     "output_type": "display_data"
    },
    {
     "name": "stdout",
     "output_type": "stream",
     "text": [
      " 91%|█████████ | 29/32 [00:10<00:01,  2.66it/s, loss=5.26] "
     ]
    }
   ],
   "source": [
    "learn.lr_find()"
   ]
  },
  {
   "cell_type": "code",
   "execution_count": 89,
   "metadata": {},
   "outputs": [
    {
     "data": {
      "image/png": "[encoded data removed]",
      "text/plain": [
       "<Figure size 432x288 with 1 Axes>"
      ]
     },
     "metadata": {},
     "output_type": "display_data"
    }
   ],
   "source": [
    "learn.sched.plot()"
   ]
  },
  {
   "cell_type": "code",
   "execution_count": 86,
   "metadata": {},
   "outputs": [
    {
     "data": {
      "application/vnd.jupyter.widget-view+json": {
       "model_id": "1b226126b45243e0b6f3e327189731b0",
       "version_major": 2,
       "version_minor": 0
      },
      "text/plain": [
       "HBox(children=(IntProgress(value=0, description='Epoch', max=5), HTML(value='')))"
      ]
     },
     "metadata": {},
     "output_type": "display_data"
    },
    {
     "name": "stdout",
     "output_type": "stream",
     "text": [
      "epoch      trn_loss   val_loss   accuracy                 \n",
      "    0      1.744007   1.98333    0.722892  \n",
      "    1      2.219562   3.067059   0.558233                 \n",
      "    2      1.97983    1.220322   0.542169                 \n",
      "    3      1.387448   0.59751    0.783133                 \n",
      "    4      1.068051   0.666294   0.714859                 \n"
     ]
    },
    {
     "data": {
      "text/plain": [
       "[0.6662940584033369, 0.7148594384691322]"
      ]
     },
     "execution_count": 86,
     "metadata": {},
     "output_type": "execute_result"
    }
   ],
   "source": [
    "lr = 1e-1\n",
    "learn.fit(lr, 5)"
   ]
  },
  {
   "cell_type": "code",
   "execution_count": 76,
   "metadata": {},
   "outputs": [],
   "source": [
    "learn.unfreeze()"
   ]
  },
  {
   "cell_type": "code",
   "execution_count": 90,
   "metadata": {
    "hidden": true
   },
   "outputs": [
    {
     "data": {
      "application/vnd.jupyter.widget-view+json": {
       "model_id": "1ef3f7b352834681ab50c0ae7f5bb0a3",
       "version_major": 2,
       "version_minor": 0
      },
      "text/plain": [
       "HBox(children=(IntProgress(value=0, description='Epoch', max=15), HTML(value='')))"
      ]
     },
     "metadata": {},
     "output_type": "display_data"
    },
    {
     "name": "stdout",
     "output_type": "stream",
     "text": [
      "epoch      trn_loss   val_loss   accuracy                  \n",
      "    0      0.744176   0.595452   0.698795  \n",
      "    1      0.595348   0.441043   0.803213                  \n",
      "    2      0.471079   0.440442   0.811245                  \n",
      "    3      0.445709   0.546294   0.827309                  \n",
      "    4      0.385294   0.45697    0.839357                  \n",
      "    5      0.359455   0.420031   0.843373                  \n",
      "    6      0.319655   0.39442    0.843373                  \n",
      "    7      0.288704   0.378121   0.84739                   \n",
      "    8      0.30571    0.457131   0.827309                  \n",
      "    9      0.306871   0.368066   0.883534                  \n",
      "    10     0.287891   0.378287   0.875502                  \n",
      "    11     0.281368   0.357197   0.871486                  \n",
      "    12     0.238489   0.352105   0.875502                  \n",
      "    13     0.21828    0.364039   0.86747                   \n",
      "    14     0.198309   0.354391   0.875502                  \n"
     ]
    },
    {
     "data": {
      "text/plain": [
       "[0.35439124727344895, 0.8755020092290089]"
      ]
     },
     "execution_count": 90,
     "metadata": {},
     "output_type": "execute_result"
    }
   ],
   "source": [
    "# lr=np.array([1e-4,1e-3,1e-2])\n",
    "# lr=np.array([.5 * 1e-4,.75 * 1e-2,1e-2])\n",
    "lrs = np.array([1e-2, 1e-1, 1]) * 1e-2\n",
    "# lrs = np.array([1/9, 1/3, 1]) * 1e-1\n",
    "\n",
    "learn.fit(lrs, 4, cycle_len=1, cycle_mult=2)\n",
    "# learn.fit(lrs, 5, cycle_len=5)"
   ]
  },
  {
   "cell_type": "code",
   "execution_count": 62,
   "metadata": {
    "hidden": true
   },
   "outputs": [
    {
     "data": {
      "image/png": "[encoded data removed]",
      "text/plain": [
       "<Figure size 432x288 with 1 Axes>"
      ]
     },
     "metadata": {},
     "output_type": "display_data"
    }
   ],
   "source": [
    "learn.sched.plot_lr()"
   ]
  },
  {
   "cell_type": "code",
   "execution_count": 81,
   "metadata": {},
   "outputs": [
    {
     "data": {
      "image/png": "[encoded data removed]",
      "text/plain": [
       "<Figure size 432x288 with 1 Axes>"
      ]
     },
     "metadata": {},
     "output_type": "display_data"
    }
   ],
   "source": [
    "learn.sched.plot_loss()"
   ]
  },
  {
   "cell_type": "code",
   "execution_count": 64,
   "metadata": {
    "hidden": true
   },
   "outputs": [],
   "source": [
    "learn.save('299_all')"
   ]
  },
  {
   "cell_type": "code",
   "execution_count": 65,
   "metadata": {
    "hidden": true
   },
   "outputs": [],
   "source": [
    "learn.load('299_all')"
   ]
  },
  {
   "cell_type": "markdown",
   "metadata": {
    "hidden": true
   },
   "source": [
    "There is something else we can do with data augmentation: use it at *inference* time (also known as *test* time). Not surprisingly, this is known as *test time augmentation*, or just *TTA*.\n",
    "\n",
    "TTA simply makes predictions not just on the images in your validation set, but also makes predictions on a number of randomly augmented versions of them too (by default, it uses the original image along with 4 randomly augmented versions). It then takes the average prediction from these images, and uses that. To use TTA on the validation set, we can use the learner's `TTA()` method."
   ]
  },
  {
   "cell_type": "code",
   "execution_count": 39,
   "metadata": {
    "hidden": true
   },
   "outputs": [
    {
     "name": "stdout",
     "output_type": "stream",
     "text": [
      "                                             \r"
     ]
    },
    {
     "data": {
      "text/plain": [
       "0.8875502008032129"
      ]
     },
     "execution_count": 39,
     "metadata": {},
     "output_type": "execute_result"
    }
   ],
   "source": [
    "log_preds,y = learn.TTA()\n",
    "probs = np.mean(np.exp(log_preds),0)\n",
    "\n",
    "accuracy_np(probs, y)"
   ]
  },
  {
   "cell_type": "markdown",
   "metadata": {
    "hidden": true
   },
   "source": [
    "I generally see about a 10-20% reduction in error on this dataset when using TTA at this point, which is an amazing result for such a quick and easy technique!"
   ]
  },
  {
   "cell_type": "markdown",
   "metadata": {
    "heading_collapsed": true
   },
   "source": [
    "### Data augmentation visualization"
   ]
  },
  {
   "cell_type": "code",
   "execution_count": 42,
   "metadata": {
    "hidden": true
   },
   "outputs": [],
   "source": [
    "arch = resnet34\n",
    "tfms = tfms_from_model(arch, sz, \n",
    "                       aug_tfms=transforms_top_down, \n",
    "                       max_zoom=1.0)"
   ]
  },
  {
   "cell_type": "code",
   "execution_count": 31,
   "metadata": {
    "hidden": true
   },
   "outputs": [],
   "source": [
    "def get_augs():\n",
    "#     data = ImageClassifierData.from_paths(PATH, bs=2, tfms=tfms, num_workers=1)\n",
    "    data = ImageClassifierData.from_csv(HOME_PATH, \"data\", os.path.join(\"resources\", \"labels.csv\"),\n",
    "                                   tfms = tfms, bs = bs, val_idxs = val_idx)\n",
    "\n",
    "    x,_ = next(iter(data.aug_dl))\n",
    "    return data.trn_ds.denorm(x)[1]"
   ]
  },
  {
   "cell_type": "code",
   "execution_count": 32,
   "metadata": {
    "hidden": true
   },
   "outputs": [],
   "source": [
    "ims = np.stack([get_augs() for i in range(6)])"
   ]
  },
  {
   "cell_type": "code",
   "execution_count": 33,
   "metadata": {
    "hidden": true
   },
   "outputs": [
    {
     "data": {
      "image/png": "[encoded data removed]",
      "text/plain": [
       "<Figure size 864x432 with 6 Axes>"
      ]
     },
     "metadata": {},
     "output_type": "display_data"
    }
   ],
   "source": [
    "plots(ims, rows=2)"
   ]
  },
  {
   "cell_type": "markdown",
   "metadata": {},
   "source": [
    "It's important that you have a working NVidia GPU set up. The programming framework used to behind the scenes to work with NVidia GPUs is called CUDA. Therefore, you need to ensure the following line returns `True` before you proceed. If you have problems with this, please check the FAQ and ask for help on [the forums](http://forums.fast.ai)."
   ]
  },
  {
   "cell_type": "code",
   "execution_count": 5,
   "metadata": {},
   "outputs": [
    {
     "data": {
      "text/plain": [
       "True"
      ]
     },
     "execution_count": 5,
     "metadata": {},
     "output_type": "execute_result"
    }
   ],
   "source": [
    "torch.cuda.is_available()"
   ]
  },
  {
   "cell_type": "markdown",
   "metadata": {},
   "source": [
    "In addition, NVidia provides special accelerated functions for deep learning in a package called CuDNN. Although not strictly necessary, it will improve training performance significantly, and is included by default in all supported fastai configurations. Therefore, if the following does not return `True`, you may want to look into why."
   ]
  },
  {
   "cell_type": "code",
   "execution_count": 6,
   "metadata": {},
   "outputs": [
    {
     "data": {
      "text/plain": [
       "True"
      ]
     },
     "execution_count": 6,
     "metadata": {},
     "output_type": "execute_result"
    }
   ],
   "source": [
    "torch.backends.cudnn.enabled"
   ]
  },
  {
   "cell_type": "markdown",
   "metadata": {
    "heading_collapsed": true
   },
   "source": [
    "### Extra steps if NOT using Crestle or Paperspace or our scripts"
   ]
  },
  {
   "cell_type": "markdown",
   "metadata": {
    "hidden": true
   },
   "source": [
    "The dataset is available at http://files.fast.ai/data/dogscats.zip. You can download it directly on your server by running the following line in your terminal. `wget http://files.fast.ai/data/dogscats.zip`. You should put the data in a subdirectory of this notebook's directory, called `data/`. Note that this data is already available in Crestle and the Paperspace fast.ai template."
   ]
  },
  {
   "cell_type": "markdown",
   "metadata": {
    "heading_collapsed": true
   },
   "source": [
    "### Extra steps if using Crestle"
   ]
  },
  {
   "cell_type": "markdown",
   "metadata": {
    "hidden": true
   },
   "source": [
    "Crestle has the datasets required for fast.ai in /datasets, so we'll create symlinks to the data we want for this competition. (NB: we can't write to /datasets, but we need a place to store temporary files, so we create our own writable directory to put the symlinks in, and we also take advantage of Crestle's `/cache/` faster temporary storage space.)\n",
    "\n",
    "To run these commands (**which you should only do if using Crestle**) remove the `#` characters from the start of each line."
   ]
  },
  {
   "cell_type": "code",
   "execution_count": 6,
   "metadata": {
    "collapsed": true,
    "hidden": true
   },
   "outputs": [],
   "source": [
    "# os.makedirs('data/dogscats/models', exist_ok=True)\n",
    "\n",
    "# !ln -s /datasets/fast.ai/dogscats/train {PATH}\n",
    "# !ln -s /datasets/fast.ai/dogscats/test {PATH}\n",
    "# !ln -s /datasets/fast.ai/dogscats/valid {PATH}\n",
    "\n",
    "# os.makedirs('/cache/tmp', exist_ok=True)\n",
    "# !ln -fs /cache/tmp {PATH}"
   ]
  },
  {
   "cell_type": "code",
   "execution_count": 6,
   "metadata": {
    "hidden": true
   },
   "outputs": [],
   "source": [
    "# os.makedirs('/cache/tmp', exist_ok=True)\n",
    "# !ln -fs /cache/tmp {PATH}"
   ]
  },
  {
   "cell_type": "markdown",
   "metadata": {
    "heading_collapsed": true
   },
   "source": [
    "## First look at cat pictures"
   ]
  },
  {
   "cell_type": "markdown",
   "metadata": {
    "hidden": true
   },
   "source": [
    "Our library will assume that you have *train* and *valid* directories. It also assumes that each dir will have subdirs for each class you wish to recognize (in this case, 'cats' and 'dogs')."
   ]
  },
  {
   "cell_type": "code",
   "execution_count": 134,
   "metadata": {
    "hidden": true,
    "scrolled": true
   },
   "outputs": [
    {
     "data": {
      "text/plain": [
       "['057706_array.npy',\n",
       " '044503_array.npy',\n",
       " '096109_array.npy',\n",
       " '000601_array.npy',\n",
       " '073304_array.npy',\n",
       " '070104_array.npy',\n",
       " '019901_array.npy',\n",
       " '040601_array.npy',\n",
       " '046605_array.npy',\n",
       " '070704_array.npy']"
      ]
     },
     "execution_count": 134,
     "metadata": {},
     "output_type": "execute_result"
    }
   ],
   "source": [
    "os.listdir(PATH)[:10]"
   ]
  },
  {
   "cell_type": "code",
   "execution_count": 133,
   "metadata": {
    "hidden": true
   },
   "outputs": [
    {
     "ename": "FileNotFoundError",
     "evalue": "[Errno 2] No such file or directory: '/local_scratch/wamsterd/data/lidc/nodules-unsorted/valid'",
     "output_type": "error",
     "traceback": [
      "\u001b[0;31m---------------------------------------------------------------------------\u001b[0m",
      "\u001b[0;31mFileNotFoundError\u001b[0m                         Traceback (most recent call last)",
      "\u001b[0;32m<ipython-input-133-236fc2dfbdf8>\u001b[0m in \u001b[0;36m<module>\u001b[0;34m()\u001b[0m\n\u001b[0;32m----> 1\u001b[0;31m \u001b[0mos\u001b[0m\u001b[0;34m.\u001b[0m\u001b[0mlistdir\u001b[0m\u001b[0;34m(\u001b[0m\u001b[0;34mf'{PATH}valid'\u001b[0m\u001b[0;34m)\u001b[0m\u001b[0;34m\u001b[0m\u001b[0m\n\u001b[0m\u001b[1;32m      2\u001b[0m \u001b[0;31m# os.listdir(f'{PATH}heart-stack')\u001b[0m\u001b[0;34m\u001b[0m\u001b[0;34m\u001b[0m\u001b[0m\n",
      "\u001b[0;31mFileNotFoundError\u001b[0m: [Errno 2] No such file or directory: '/local_scratch/wamsterd/data/lidc/nodules-unsorted/valid'"
     ]
    }
   ],
   "source": [
    "os.listdir(f'{PATH}valid')\n",
    "# os.listdir(f'{PATH}heart-stack')"
   ]
  },
  {
   "cell_type": "markdown",
   "metadata": {
    "heading_collapsed": true
   },
   "source": [
    "## Our first model: quick start"
   ]
  },
  {
   "cell_type": "markdown",
   "metadata": {
    "hidden": true
   },
   "source": [
    "We're going to use a <b>pre-trained</b> model, that is, a model created by some one else to solve a different problem. Instead of building a model from scratch to solve a similar problem, we'll use a model trained on ImageNet (1.2 million images and 1000 classes) as a starting point. The model is a Convolutional Neural Network (CNN), a type of Neural Network that builds state-of-the-art models for computer vision. We'll be learning all about CNNs during this course.\n",
    "\n",
    "We will be using the <b>resnet34</b> model. resnet34 is a version of the model that won the 2015 ImageNet competition. Here is more info on [resnet models](https://github.com/KaimingHe/deep-residual-networks). We'll be studying them in depth later, but for now we'll focus on using them effectively.\n",
    "\n",
    "Here's how to train and evalulate a *dogs vs cats* model in 3 lines of code, and under 20 seconds:"
   ]
  },
  {
   "cell_type": "code",
   "execution_count": 341,
   "metadata": {},
   "outputs": [],
   "source": [
    "# Uncomment the below if you need to reset your precomputed activations\n",
    "# shutil.rmtree(f'{PATH}tmp', ignore_errors=True)"
   ]
  },
  {
   "cell_type": "code",
   "execution_count": 7,
   "metadata": {},
   "outputs": [
    {
     "name": "stderr",
     "output_type": "stream",
     "text": [
      "/local_scratch/wamsterd/anaconda3/envs/torch/lib/python3.6/site-packages/fastai/initializers.py:6: UserWarning: nn.init.kaiming_normal is now deprecated in favor of nn.init.kaiming_normal_.\n",
      "  if hasattr(m, 'weight'): init_fn(m.weight)\n",
      "/local_scratch/wamsterd/anaconda3/envs/torch/lib/python3.6/site-packages/fastai/initializers.py:6: UserWarning: nn.init.kaiming_normal is now deprecated in favor of nn.init.kaiming_normal_.\n",
      "  if hasattr(m, 'weight'): init_fn(m.weight)\n"
     ]
    }
   ],
   "source": [
    "sz = 224\n",
    "# sz = img[0] * img[1]\n",
    "arch = resnet34\n",
    "data = ImageClassifierData.from_paths(PATH,\n",
    "                                       tfms = tfms_from_model(arch, sz),\n",
    "#                                               classes = [\"alive\", \"deceased\"]\n",
    "                                              )\n",
    "learn = ConvLearner.pretrained(arch, data, precompute = True)\n",
    "# learn.fit(0.01, 10)"
   ]
  },
  {
   "cell_type": "code",
   "execution_count": 16,
   "metadata": {},
   "outputs": [
    {
     "data": {
      "application/vnd.jupyter.widget-view+json": {
       "model_id": "a9441836752640c094c7ecdf30a32abc",
       "version_major": 2,
       "version_minor": 0
      },
      "text/plain": [
       "HBox(children=(IntProgress(value=0, description='Epoch', max=1), HTML(value='')))"
      ]
     },
     "metadata": {},
     "output_type": "display_data"
    },
    {
     "name": "stdout",
     "output_type": "stream",
     "text": [
      "epoch      trn_loss   val_loss   accuracy                  \n",
      "    0      2.29661    266.103836 0.686992  \n",
      "\n"
     ]
    }
   ],
   "source": [
    "learn.lr_find()"
   ]
  },
  {
   "cell_type": "code",
   "execution_count": 17,
   "metadata": {},
   "outputs": [
    {
     "data": {
      "image/png": "[encoded data removed]",
      "text/plain": [
       "<Figure size 432x288 with 1 Axes>"
      ]
     },
     "metadata": {},
     "output_type": "display_data"
    }
   ],
   "source": [
    "learn.sched.plot()"
   ]
  },
  {
   "cell_type": "code",
   "execution_count": 267,
   "metadata": {
    "hidden": true,
    "scrolled": false
   },
   "outputs": [],
   "source": [
    "# arch=resnet34\n",
    "# data = ImageClassifierData.from_paths(PATH, tfms=tfms_from_model(arch, sz))\n",
    "# learn = ConvLearner.pretrained(arch, data, precompute=True)\n",
    "# learn.fit(0.01, 2)"
   ]
  },
  {
   "cell_type": "markdown",
   "metadata": {
    "hidden": true
   },
   "source": [
    "How good is this model? Well, as we mentioned, prior to this competition, the state of the art was 80% accuracy. But the competition resulted in a huge jump to 98.9% accuracy, with the author of a popular deep learning library winning the competition. Extraordinarily, less than 4 years later, we can now beat that result in seconds! Even last year in this same course, our initial model had 98.3% accuracy, which is nearly double the error we're getting just a year later, and that took around 10 minutes to compute."
   ]
  },
  {
   "cell_type": "markdown",
   "metadata": {},
   "source": [
    "### get shapes"
   ]
  },
  {
   "cell_type": "code",
   "execution_count": 18,
   "metadata": {},
   "outputs": [],
   "source": [
    "size_d = {k: PIL.Image.open(PATH + k).size for k in data.trn_ds.fnames}\n",
    "row_sz, col_sz = list(zip(*size_d.values()))\n",
    "row_sz = np.array(row_sz); col_sz = np.array(col_sz)"
   ]
  },
  {
   "cell_type": "code",
   "execution_count": 19,
   "metadata": {},
   "outputs": [
    {
     "data": {
      "text/plain": [
       "(array([  0.,   0.,   0.,   0.,   0., 989.,   0.,   0.,   0.,   0.]),\n",
       " array([50.5, 50.6, 50.7, 50.8, 50.9, 51. , 51.1, 51.2, 51.3, 51.4, 51.5]),\n",
       " <a list of 10 Patch objects>)"
      ]
     },
     "execution_count": 19,
     "metadata": {},
     "output_type": "execute_result"
    },
    {
     "data": {
      "image/png": "[encoded data removed]",
      "text/plain": [
       "<Figure size 432x288 with 2 Axes>"
      ]
     },
     "metadata": {},
     "output_type": "display_data"
    }
   ],
   "source": [
    "plt.subplot(121)\n",
    "plt.hist(row_sz)\n",
    "plt.subplot(122)\n",
    "plt.hist(col_sz)"
   ]
  },
  {
   "cell_type": "markdown",
   "metadata": {
    "hidden": true
   },
   "source": [
    "Here is how the raw data looks like"
   ]
  },
  {
   "cell_type": "code",
   "execution_count": 20,
   "metadata": {
    "hidden": true
   },
   "outputs": [
    {
     "ename": "NameError",
     "evalue": "name 'img' is not defined",
     "output_type": "error",
     "traceback": [
      "\u001b[0;31m---------------------------------------------------------------------------\u001b[0m",
      "\u001b[0;31mNameError\u001b[0m                                 Traceback (most recent call last)",
      "\u001b[0;32m<ipython-input-20-32ad6cb7aa56>\u001b[0m in \u001b[0;36m<module>\u001b[0;34m()\u001b[0m\n\u001b[0;32m----> 1\u001b[0;31m \u001b[0mimg\u001b[0m\u001b[0;34m.\u001b[0m\u001b[0mshape\u001b[0m\u001b[0;34m\u001b[0m\u001b[0m\n\u001b[0m",
      "\u001b[0;31mNameError\u001b[0m: name 'img' is not defined"
     ]
    }
   ],
   "source": [
    "img.shape"
   ]
  },
  {
   "cell_type": "code",
   "execution_count": 180,
   "metadata": {
    "hidden": true
   },
   "outputs": [
    {
     "data": {
      "text/plain": [
       "array([[[0.66667, 0.66667, 0.66667],\n",
       "        [0.66667, 0.66667, 0.66667],\n",
       "        [0.66667, 0.66667, 0.66667],\n",
       "        [0.66667, 0.66667, 0.66667]],\n",
       "\n",
       "       [[0.66667, 0.66667, 0.66667],\n",
       "        [0.66667, 0.66667, 0.66667],\n",
       "        [0.66667, 0.66667, 0.66667],\n",
       "        [0.66667, 0.66667, 0.66667]],\n",
       "\n",
       "       [[0.66667, 0.66667, 0.66667],\n",
       "        [0.66667, 0.66667, 0.66667],\n",
       "        [0.66667, 0.66667, 0.66667],\n",
       "        [0.66667, 0.66667, 0.66667]],\n",
       "\n",
       "       [[0.66667, 0.66667, 0.66667],\n",
       "        [0.66667, 0.66667, 0.66667],\n",
       "        [0.66667, 0.66667, 0.66667],\n",
       "        [0.66667, 0.66667, 0.66667]]], dtype=float32)"
      ]
     },
     "execution_count": 180,
     "metadata": {},
     "output_type": "execute_result"
    }
   ],
   "source": [
    "img[:4,:4]"
   ]
  },
  {
   "cell_type": "markdown",
   "metadata": {
    "heading_collapsed": true
   },
   "source": [
    "## Analyzing results: looking at pictures"
   ]
  },
  {
   "cell_type": "markdown",
   "metadata": {
    "hidden": true
   },
   "source": [
    "As well as looking at the overall metrics, it's also a good idea to look at examples of each of:\n",
    "1. A few correct labels at random\n",
    "2. A few incorrect labels at random\n",
    "3. The most correct labels of each class (i.e. those with highest probability that are correct)\n",
    "4. The most incorrect labels of each class (i.e. those with highest probability that are incorrect)\n",
    "5. The most uncertain labels (i.e. those with probability closest to 0.5)."
   ]
  },
  {
   "cell_type": "code",
   "execution_count": 21,
   "metadata": {
    "hidden": true
   },
   "outputs": [
    {
     "data": {
      "text/plain": [
       "array([0, 0, 0, 0])"
      ]
     },
     "execution_count": 21,
     "metadata": {},
     "output_type": "execute_result"
    }
   ],
   "source": [
    "# This is the label for a val data\n",
    "data.val_y[:4]"
   ]
  },
  {
   "cell_type": "code",
   "execution_count": 22,
   "metadata": {
    "hidden": true
   },
   "outputs": [
    {
     "data": {
      "text/plain": [
       "['benign', 'malignant']"
      ]
     },
     "execution_count": 22,
     "metadata": {},
     "output_type": "execute_result"
    }
   ],
   "source": [
    "# from here we know that 'cats' is label 0 and 'dogs' is label 1.\n",
    "data.classes"
   ]
  },
  {
   "cell_type": "code",
   "execution_count": 23,
   "metadata": {
    "hidden": true
   },
   "outputs": [
    {
     "data": {
      "text/plain": [
       "(246, 2)"
      ]
     },
     "execution_count": 23,
     "metadata": {},
     "output_type": "execute_result"
    }
   ],
   "source": [
    "# this gives prediction for validation set. Predictions are in log scale\n",
    "log_preds = learn.predict()\n",
    "log_preds.shape"
   ]
  },
  {
   "cell_type": "code",
   "execution_count": 24,
   "metadata": {
    "hidden": true
   },
   "outputs": [
    {
     "data": {
      "text/plain": [
       "array([[-0.6858 , -0.70055],\n",
       "       [-0.5251 , -0.89526],\n",
       "       [-1.39647, -0.28431],\n",
       "       [-0.48916, -0.9497 ],\n",
       "       [-1.30517, -0.31626],\n",
       "       [-0.43805, -1.03646],\n",
       "       [-0.64033, -0.74891],\n",
       "       [-0.27356, -1.42989],\n",
       "       [-0.69769, -0.68862],\n",
       "       [-0.62718, -0.76378]], dtype=float32)"
      ]
     },
     "execution_count": 24,
     "metadata": {},
     "output_type": "execute_result"
    }
   ],
   "source": [
    "log_preds[:10]"
   ]
  },
  {
   "cell_type": "code",
   "execution_count": 25,
   "metadata": {
    "hidden": true
   },
   "outputs": [],
   "source": [
    "preds = np.argmax(log_preds, axis=1)  # from log probabilities to 0 or 1\n",
    "probs = np.exp(log_preds[:,1])        # pr(dog)"
   ]
  },
  {
   "cell_type": "code",
   "execution_count": 26,
   "metadata": {
    "hidden": true
   },
   "outputs": [],
   "source": [
    "def rand_by_mask(mask): return np.random.choice(np.where(mask)[0], 4, replace=False)\n",
    "def rand_by_correct(is_correct): return rand_by_mask((preds == data.val_y)==is_correct)"
   ]
  },
  {
   "cell_type": "code",
   "execution_count": 27,
   "metadata": {},
   "outputs": [
    {
     "data": {
      "text/plain": [
       "array([184, 143, 191, 146])"
      ]
     },
     "execution_count": 27,
     "metadata": {},
     "output_type": "execute_result"
    }
   ],
   "source": [
    "rand_by_correct(True)"
   ]
  },
  {
   "cell_type": "code",
   "execution_count": 28,
   "metadata": {
    "hidden": true
   },
   "outputs": [],
   "source": [
    "def plots(ims, figsize=(12,6), rows=1, titles=None):\n",
    "    f = plt.figure(figsize=figsize)\n",
    "    for i in range(len(ims)):\n",
    "        sp = f.add_subplot(rows, len(ims)//rows, i+1)\n",
    "        sp.axis('Off')\n",
    "        if titles is not None: sp.set_title(titles[i], fontsize=16)\n",
    "        plt.imshow(ims[i])"
   ]
  },
  {
   "cell_type": "code",
   "execution_count": 29,
   "metadata": {
    "hidden": true
   },
   "outputs": [],
   "source": [
    "# def load_img_id(ds, idx): return np.array(PIL.Image.open(PATH+ds.fnames[idx]))\n",
    "def load_img_id(ds, idx): return np.array(PIL.Image.open(PATH+ds.fnames[idx]))\n",
    "\n",
    "def plot_val_with_title(idxs, title):\n",
    "    imgs = [load_img_id(data.val_ds,x) for x in idxs]\n",
    "    title_probs = [probs[x] for x in idxs]\n",
    "    print(title)\n",
    "    return plots(imgs, rows=1, titles=title_probs, figsize=(16,8))"
   ]
  },
  {
   "cell_type": "code",
   "execution_count": 112,
   "metadata": {
    "hidden": true
   },
   "outputs": [
    {
     "name": "stdout",
     "output_type": "stream",
     "text": [
      "Correctly classified\n"
     ]
    },
    {
     "data": {
      "image/png": "[encoded data removed]",
      "text/plain": [
       "<Figure size 1152x576 with 4 Axes>"
      ]
     },
     "metadata": {},
     "output_type": "display_data"
    }
   ],
   "source": [
    "# 1. A few correct labels at random\n",
    "plot_val_with_title(rand_by_correct(True), \"Correctly classified\")"
   ]
  },
  {
   "cell_type": "code",
   "execution_count": 113,
   "metadata": {
    "hidden": true
   },
   "outputs": [
    {
     "name": "stdout",
     "output_type": "stream",
     "text": [
      "Incorrectly classified\n"
     ]
    },
    {
     "data": {
      "image/png": "[encoded data removed]",
      "text/plain": [
       "<Figure size 1152x576 with 4 Axes>"
      ]
     },
     "metadata": {},
     "output_type": "display_data"
    }
   ],
   "source": [
    "# 2. A few incorrect labels at random\n",
    "plot_val_with_title(rand_by_correct(False), \"Incorrectly classified\")"
   ]
  },
  {
   "cell_type": "code",
   "execution_count": 114,
   "metadata": {
    "hidden": true
   },
   "outputs": [],
   "source": [
    "def most_by_mask(mask, mult):\n",
    "    idxs = np.where(mask)[0]\n",
    "    return idxs[np.argsort(mult * probs[idxs])[:4]]\n",
    "\n",
    "def most_by_correct(y, is_correct): \n",
    "    mult = -1 if (y==1)==is_correct else 1\n",
    "    return most_by_mask(((preds == data.val_y)==is_correct) & (data.val_y == y), mult)"
   ]
  },
  {
   "cell_type": "code",
   "execution_count": 115,
   "metadata": {
    "hidden": true
   },
   "outputs": [
    {
     "name": "stdout",
     "output_type": "stream",
     "text": [
      "Most correct benign\n"
     ]
    },
    {
     "data": {
      "image/png": "[encoded data removed]",
      "text/plain": [
       "<Figure size 1152x576 with 4 Axes>"
      ]
     },
     "metadata": {},
     "output_type": "display_data"
    }
   ],
   "source": [
    "plot_val_with_title(most_by_correct(0, True), \"Most correct benign\")"
   ]
  },
  {
   "cell_type": "code",
   "execution_count": 116,
   "metadata": {
    "hidden": true
   },
   "outputs": [
    {
     "name": "stdout",
     "output_type": "stream",
     "text": [
      "Most correct malignant\n"
     ]
    },
    {
     "data": {
      "image/png": "[encoded data removed]",
      "text/plain": [
       "<Figure size 1152x576 with 4 Axes>"
      ]
     },
     "metadata": {},
     "output_type": "display_data"
    }
   ],
   "source": [
    "plot_val_with_title(most_by_correct(1, True), \"Most correct malignant\")"
   ]
  },
  {
   "cell_type": "code",
   "execution_count": 117,
   "metadata": {
    "hidden": true
   },
   "outputs": [
    {
     "name": "stdout",
     "output_type": "stream",
     "text": [
      "Most incorrect benign\n"
     ]
    },
    {
     "data": {
      "image/png": "[encoded data removed]",
      "text/plain": [
       "<Figure size 1152x576 with 4 Axes>"
      ]
     },
     "metadata": {},
     "output_type": "display_data"
    }
   ],
   "source": [
    "plot_val_with_title(most_by_correct(0, False), \"Most incorrect benign\")"
   ]
  },
  {
   "cell_type": "code",
   "execution_count": 118,
   "metadata": {
    "hidden": true
   },
   "outputs": [
    {
     "name": "stdout",
     "output_type": "stream",
     "text": [
      "Most incorrect malignant\n"
     ]
    },
    {
     "data": {
      "image/png": "[encoded data removed]",
      "text/plain": [
       "<Figure size 1152x576 with 4 Axes>"
      ]
     },
     "metadata": {},
     "output_type": "display_data"
    }
   ],
   "source": [
    "plot_val_with_title(most_by_correct(1, False), \"Most incorrect malignant\")"
   ]
  },
  {
   "cell_type": "code",
   "execution_count": 119,
   "metadata": {
    "hidden": true
   },
   "outputs": [
    {
     "name": "stdout",
     "output_type": "stream",
     "text": [
      "Most uncertain predictions\n"
     ]
    },
    {
     "data": {
      "image/png": "[encoded data removed]",
      "text/plain": [
       "<Figure size 1152x576 with 4 Axes>"
      ]
     },
     "metadata": {},
     "output_type": "display_data"
    }
   ],
   "source": [
    "most_uncertain = np.argsort(np.abs(probs -0.5))[:4]\n",
    "plot_val_with_title(most_uncertain, \"Most uncertain predictions\")"
   ]
  },
  {
   "cell_type": "markdown",
   "metadata": {},
   "source": [
    "## Analyzing results"
   ]
  },
  {
   "cell_type": "markdown",
   "metadata": {
    "heading_collapsed": true
   },
   "source": [
    "### Confusion matrix "
   ]
  },
  {
   "cell_type": "code",
   "execution_count": 104,
   "metadata": {
    "hidden": true
   },
   "outputs": [],
   "source": [
    "preds = np.argmax(probs, axis=1)\n",
    "probs = probs[:,1]"
   ]
  },
  {
   "cell_type": "markdown",
   "metadata": {
    "hidden": true
   },
   "source": [
    "A common way to analyze the result of a classification model is to use a [confusion matrix](http://www.dataschool.io/simple-guide-to-confusion-matrix-terminology/). Scikit-learn has a convenient function we can use for this purpose:"
   ]
  },
  {
   "cell_type": "code",
   "execution_count": 105,
   "metadata": {
    "hidden": true
   },
   "outputs": [],
   "source": [
    "from sklearn.metrics import confusion_matrix\n",
    "cm = confusion_matrix(y, preds)"
   ]
  },
  {
   "cell_type": "markdown",
   "metadata": {
    "hidden": true
   },
   "source": [
    "We can just print out the confusion matrix, or we can show a graphical view (which is mainly useful for dependents with a larger number of categories)."
   ]
  },
  {
   "cell_type": "code",
   "execution_count": 122,
   "metadata": {
    "hidden": true
   },
   "outputs": [
    {
     "name": "stdout",
     "output_type": "stream",
     "text": [
      "[[166   6]\n",
      " [ 13  61]]\n"
     ]
    },
    {
     "data": {
      "image/png": "[encoded data removed]",
      "text/plain": [
       "<Figure size 432x288 with 2 Axes>"
      ]
     },
     "metadata": {},
     "output_type": "display_data"
    }
   ],
   "source": [
    "plot_confusion_matrix(cm, data.classes)"
   ]
  },
  {
   "cell_type": "markdown",
   "metadata": {
    "heading_collapsed": true
   },
   "source": [
    "### Looking at pictures again"
   ]
  },
  {
   "cell_type": "code",
   "execution_count": null,
   "metadata": {},
   "outputs": [],
   "source": []
  },
  {
   "cell_type": "code",
   "execution_count": 123,
   "metadata": {
    "hidden": true
   },
   "outputs": [
    {
     "name": "stdout",
     "output_type": "stream",
     "text": [
      "Most incorrect cats\n"
     ]
    },
    {
     "data": {
      "image/png": "[encoded data removed]",
      "text/plain": [
       "<Figure size 1152x576 with 4 Axes>"
      ]
     },
     "metadata": {},
     "output_type": "display_data"
    }
   ],
   "source": [
    "plot_val_with_title(most_by_correct(0, False), \"Most incorrect cats\")"
   ]
  },
  {
   "cell_type": "code",
   "execution_count": 70,
   "metadata": {
    "hidden": true
   },
   "outputs": [
    {
     "name": "stdout",
     "output_type": "stream",
     "text": [
      "Most incorrect dogs\n"
     ]
    },
    {
     "data": {
      "image/png": "[encoded data removed]",
      "text/plain": [
       "<Figure size 1152x576 with 4 Axes>"
      ]
     },
     "metadata": {},
     "output_type": "display_data"
    }
   ],
   "source": [
    "plot_val_with_title(most_by_correct(1, False), \"Most incorrect dogs\")"
   ]
  },
  {
   "cell_type": "markdown",
   "metadata": {
    "heading_collapsed": true
   },
   "source": [
    "## Review: easy steps to train a world-class image classifier"
   ]
  },
  {
   "cell_type": "markdown",
   "metadata": {
    "hidden": true
   },
   "source": [
    "1. precompute=True\n",
    "1. Use `lr_find()` to find highest learning rate where loss is still clearly improving\n",
    "1. Train last layer from precomputed activations for 1-2 epochs\n",
    "1. Train last layer with data augmentation (i.e. precompute=False) for 2-3 epochs with cycle_len=1\n",
    "1. Unfreeze all layers\n",
    "1. Set earlier layers to 3x-10x lower learning rate than next higher layer\n",
    "1. Use `lr_find()` again\n",
    "1. Train full network with cycle_mult=2 until over-fitting"
   ]
  }
 ],
 "metadata": {
  "kernelspec": {
   "display_name": "Python [conda env:fastai1]",
   "language": "python",
   "name": "conda-env-fastai1-py"
  },
  "language_info": {
   "codemirror_mode": {
    "name": "ipython",
    "version": 3
   },
   "file_extension": ".py",
   "mimetype": "text/x-python",
   "name": "python",
   "nbconvert_exporter": "python",
   "pygments_lexer": "ipython3",
   "version": "3.6.6"
  },
  "toc": {
   "colors": {
    "hover_highlight": "#DAA520",
    "navigate_num": "#000000",
    "navigate_text": "#333333",
    "running_highlight": "#FF0000",
    "selected_highlight": "#FFD700",
    "sidebar_border": "#EEEEEE",
    "wrapper_background": "#FFFFFF"
   },
   "moveMenuLeft": true,
   "nav_menu": {
    "height": "266px",
    "width": "252px"
   },
   "navigate_menu": true,
   "number_sections": true,
   "sideBar": true,
   "threshold": 4,
   "toc_cell": false,
   "toc_section_display": "block",
   "toc_window_display": false,
   "widenNotebook": false
  }
 },
 "nbformat": 4,
 "nbformat_minor": 2
}
