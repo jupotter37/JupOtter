{
 "cells": [
  {
   "cell_type": "code",
   "execution_count": 1,
   "metadata": {},
   "outputs": [],
   "source": [
    "############################################################################\n",
    "##\n",
    "## Copyright (C) 2021 NVIDIA Corporation.  All rights reserved.\n",
    "##\n",
    "## NVIDIA Sample Code\n",
    "##\n",
    "## Please refer to the NVIDIA end user license agreement (EULA) associated\n",
    "## with this source code for terms and conditions that govern your use of\n",
    "## this software. Any use, reproduction, disclosure, or distribution of\n",
    "## this software and related documentation outside the terms of the EULA\n",
    "## is strictly prohibited.\n",
    "##\n",
    "############################################################################"
   ]
  },
  {
   "cell_type": "markdown",
   "metadata": {
    "heading_collapsed": "true",
    "tags": []
   },
   "source": [
    "# Modeling and Explainability"
   ]
  },
  {
   "cell_type": "code",
   "execution_count": 4,
   "metadata": {
    "ExecuteTime": {
     "end_time": "2021-07-15T00:51:17.351780Z",
     "start_time": "2021-07-15T00:51:15.545826Z"
    },
    "code_folding": []
   },
   "outputs": [
    {
     "name": "stderr",
     "output_type": "stream",
     "text": [
      "/tmp/ipykernel_1272610/937460551.py:33: TqdmExperimentalWarning: Using `tqdm.autonotebook.tqdm` in notebook mode. Use `tqdm.tqdm` instead to force console mode (e.g. in jupyter console)\n",
      "  from tqdm.autonotebook import tqdm\n"
     ]
    }
   ],
   "source": [
    "###### https://degravek.github.io/project-pages/project1/2016/11/12/New-Notebook/ #################\n",
    "# with modifications and GPU acceleration by Mark J Bennett mbennett@nvidia.com and Emanuel Scoullos escoullos@nvidia.com\n",
    "\n",
    "###### Best when compared to:\n",
    "###### https://www.bankofengland.co.uk/-/media/boe/files/working-paper/2019/\n",
    "######        machine-learning-explainability-in-finance-an-application-to-default-risk-analysis.pdf\n",
    "%matplotlib inline\n",
    "import time\n",
    "total_start = time.time()\n",
    "from collections import OrderedDict\n",
    "import gc\n",
    "import glob\n",
    "import os\n",
    "import pickle\n",
    "import re\n",
    "import sys\n",
    "\n",
    "from typing import Union\n",
    "\n",
    "import cudf\n",
    "import cupy as cp\n",
    "import numpy as np\n",
    "import pandas as pd\n",
    "import seaborn as sns\n",
    "import matplotlib.pyplot as plt\n",
    "\n",
    "from sklearn.ensemble import RandomForestClassifier, RandomForestRegressor\n",
    "from sklearn.model_selection import train_test_split\n",
    "from sklearn.metrics import (classification_report, confusion_matrix, roc_auc_score, roc_curve, auc,\n",
    "                             precision_score, recall_score, precision_recall_curve, f1_score, \n",
    "                             accuracy_score)\n",
    "\n",
    "from tqdm.autonotebook import tqdm\n",
    "import xgboost as xgb"
   ]
  },
  {
   "cell_type": "code",
   "execution_count": 8,
   "metadata": {
    "ExecuteTime": {
     "end_time": "2021-07-15T00:51:17.351780Z",
     "start_time": "2021-07-15T00:51:15.545826Z"
    },
    "code_folding": []
   },
   "outputs": [
    {
     "name": "stdout",
     "output_type": "stream",
     "text": [
      "using GPU\n"
     ]
    },
    {
     "ename": "ModuleNotFoundError",
     "evalue": "No module named 'torch'",
     "output_type": "error",
     "traceback": [
      "\u001b[0;31m---------------------------------------------------------------------------\u001b[0m",
      "\u001b[0;31mModuleNotFoundError\u001b[0m                       Traceback (most recent call last)",
      "\u001b[0;32m/tmp/ipykernel_1272610/779400077.py\u001b[0m in \u001b[0;36m<module>\u001b[0;34m\u001b[0m\n\u001b[1;32m     21\u001b[0m \u001b[0;31m#import shap\u001b[0m\u001b[0;34m\u001b[0m\u001b[0;34m\u001b[0m\u001b[0;34m\u001b[0m\u001b[0m\n\u001b[1;32m     22\u001b[0m \u001b[0;34m\u001b[0m\u001b[0m\n\u001b[0;32m---> 23\u001b[0;31m \u001b[0;32mfrom\u001b[0m \u001b[0mclfmodel\u001b[0m \u001b[0;32mimport\u001b[0m \u001b[0mbinaryClassification\u001b[0m\u001b[0;34m\u001b[0m\u001b[0;34m\u001b[0m\u001b[0m\n\u001b[0m\u001b[1;32m     24\u001b[0m \u001b[0;34m\u001b[0m\u001b[0m\n\u001b[1;32m     25\u001b[0m \u001b[0mnp\u001b[0m\u001b[0;34m.\u001b[0m\u001b[0mset_printoptions\u001b[0m\u001b[0;34m(\u001b[0m\u001b[0mthreshold\u001b[0m\u001b[0;34m=\u001b[0m\u001b[0msys\u001b[0m\u001b[0;34m.\u001b[0m\u001b[0mmaxsize\u001b[0m\u001b[0;34m)\u001b[0m\u001b[0;34m\u001b[0m\u001b[0;34m\u001b[0m\u001b[0m\n",
      "\u001b[0;32m~/markGPU/credit_default_risk/clfmodel.py\u001b[0m in \u001b[0;36m<module>\u001b[0;34m\u001b[0m\n\u001b[1;32m     13\u001b[0m \u001b[0;31m############################################################################\u001b[0m\u001b[0;34m\u001b[0m\u001b[0;34m\u001b[0m\u001b[0;34m\u001b[0m\u001b[0m\n\u001b[1;32m     14\u001b[0m \u001b[0;34m\u001b[0m\u001b[0m\n\u001b[0;32m---> 15\u001b[0;31m \u001b[0;32mimport\u001b[0m \u001b[0mtorch\u001b[0m\u001b[0;34m\u001b[0m\u001b[0;34m\u001b[0m\u001b[0m\n\u001b[0m\u001b[1;32m     16\u001b[0m \u001b[0;32mimport\u001b[0m \u001b[0mtorch\u001b[0m\u001b[0;34m.\u001b[0m\u001b[0mnn\u001b[0m \u001b[0;32mas\u001b[0m \u001b[0mnn\u001b[0m\u001b[0;34m\u001b[0m\u001b[0;34m\u001b[0m\u001b[0m\n\u001b[1;32m     17\u001b[0m \u001b[0;34m\u001b[0m\u001b[0m\n",
      "\u001b[0;31mModuleNotFoundError\u001b[0m: No module named 'torch'"
     ]
    }
   ],
   "source": [
    "##############\n",
    "##############\n",
    "use_cpu = False  # whether to use CPU or GPU\n",
    "\n",
    "##############\n",
    "##############\n",
    "\n",
    "if use_cpu:\n",
    "    print('using CPU')\n",
    "    from pandas import read_parquet, concat, merge, DataFrame, get_dummies, Series, isnull\n",
    "    from sklearn.preprocessing import OneHotEncoder, StandardScaler\n",
    "    from numpy import zeros, double, int8, int16, int64, concatenate, argmax, argmin\n",
    "else:\n",
    "    print('using GPU')\n",
    "    from cudf import read_parquet, concat, merge, DataFrame, get_dummies, Series\n",
    "    from cupy import zeros,double, int8, int16, int64, concatenate, argmax, argmin\n",
    "    from cuml.model_selection import train_test_split\n",
    "    from cuml.preprocessing import OneHotEncoder, StandardScaler\n",
    "    from cuml.metrics import precision_recall_curve, roc_auc_score, confusion_matrix, accuracy_score\n",
    "    \n",
    "import shap\n",
    "\n",
    "from clfmodel import binaryClassification\n",
    "\n",
    "np.set_printoptions(threshold=sys.maxsize)\n",
    "pd.set_option('display.max_rows', 500)\n",
    "pd.set_option('display.max_columns', 500)\n",
    "pd.set_option('display.width', 1000)\n",
    "\n",
    "# make sure the path below points to the data directory where the FannieMae data was downloaded.\n",
    "clean_data_path = '/rapids/notebooks/cleaned_data'\n",
    "figures_path = '/rapids/notebooks/figures'\n",
    "os.makedirs(figures_path, exist_ok=True)"
   ]
  },
  {
   "cell_type": "code",
   "execution_count": 9,
   "metadata": {},
   "outputs": [],
   "source": [
    "def cupy2numpy(obj, use_cpu):\n",
    "    if use_cpu and isinstance(obj, cp._core.core.ndarray):\n",
    "        return obj.get()\n",
    "    elif use_cpu and isinstance(obj, cudf.core.series.Series):\n",
    "        return obj.to_array()\n",
    "    return obj"
   ]
  },
  {
   "cell_type": "code",
   "execution_count": 5,
   "metadata": {
    "ExecuteTime": {
     "end_time": "2021-07-15T00:51:19.993669Z",
     "start_time": "2021-07-15T00:51:19.989946Z"
    }
   },
   "outputs": [
    {
     "name": "stdout",
     "output_type": "stream",
     "text": [
      "Channel\n",
      "SellerName\n",
      "FTHomeBuyer\n",
      "LoanPurpose\n",
      "PropertyType\n",
      "OccStatus\n",
      "PropertyState\n",
      "Zip\n",
      "ProductType\n",
      "MortInsType\n"
     ]
    }
   ],
   "source": [
    "with open(f'{clean_data_path}/fnma_mappings.pkl', 'rb') as f:\n",
    "    mappings = pickle.load(f)\n",
    "print('\\n'.join(mappings.keys()))"
   ]
  },
  {
   "cell_type": "markdown",
   "metadata": {
    "tags": []
   },
   "source": [
    "# Read cleaned FannieMae Dataset from notebook 1"
   ]
  },
  {
   "cell_type": "code",
   "execution_count": 6,
   "metadata": {
    "ExecuteTime": {
     "end_time": "2021-07-14T20:05:19.257386Z",
     "start_time": "2021-07-14T20:05:18.024198Z"
    }
   },
   "outputs": [],
   "source": [
    "df = read_parquet(f'{clean_data_path}/fnma_cleaned.pq')"
   ]
  },
  {
   "cell_type": "code",
   "execution_count": 7,
   "metadata": {
    "ExecuteTime": {
     "end_time": "2021-07-13T20:25:50.480966Z",
     "start_time": "2021-07-13T20:25:50.477282Z"
    }
   },
   "outputs": [
    {
     "data": {
      "text/plain": [
       "(cudf.core.dataframe.DataFrame, (11232359, 22))"
      ]
     },
     "execution_count": 7,
     "metadata": {},
     "output_type": "execute_result"
    }
   ],
   "source": [
    "type(df), df.shape"
   ]
  },
  {
   "cell_type": "code",
   "execution_count": 8,
   "metadata": {},
   "outputs": [],
   "source": [
    "Xcolumns=['Channel',\n",
    "         'SellerName',\n",
    "         'OrInterestRate',\n",
    "         'OrUnpaidPrinc',\n",
    "         'OrLoanTerm',\n",
    "         'OrCLTV',\n",
    "         'NumBorrow',\n",
    "         'DTIRat',\n",
    "         'CreditScore',\n",
    "         'FTHomeBuyer',\n",
    "         'LoanPurpose',\n",
    "         'PropertyType',\n",
    "         'NumUnits',\n",
    "         'OccStatus',\n",
    "         'PropertyState',\n",
    "         'Zip',\n",
    "         'ProductType',\n",
    "         'CoCreditScore',\n",
    "         'Extra',\n",
    "         'MortInsType']\n",
    "CONTINUOUS_COLUMNS = ['OrInterestRate', 'OrUnpaidPrinc', 'OrLoanTerm', 'OrCLTV', 'NumBorrow', 'DTIRat', \n",
    "                      'CreditScore', 'NumUnits', 'CoCreditScore', 'Extra']\n",
    "CATEGORICAL_COLUMNS = sorted([i for i in Xcolumns if i not in CONTINUOUS_COLUMNS])\n",
    "LABEL_COLUMNS = ['Default']"
   ]
  },
  {
   "cell_type": "markdown",
   "metadata": {
    "tags": []
   },
   "source": [
    "# Predicting Delinquent Loans"
   ]
  },
  {
   "cell_type": "markdown",
   "metadata": {},
   "source": [
    " Train test split and apply Random Oversampling to minority class (if desired)"
   ]
  },
  {
   "cell_type": "code",
   "execution_count": 9,
   "metadata": {
    "ExecuteTime": {
     "end_time": "2021-07-14T20:05:21.640255Z",
     "start_time": "2021-07-14T20:05:21.032244Z"
    }
   },
   "outputs": [],
   "source": [
    "\n",
    "from imblearn.over_sampling import RandomOverSampler\n",
    "from imblearn.combine import SMOTEENN\n",
    "\n",
    "y = df['Default']#.values\n",
    "X = df.drop(['Default','LoanID'], axis=1)#.values\n",
    "Xcolumns = X.columns.tolist()\n",
    "\n",
    "X_train, X_test, y_train, y_test = train_test_split(X, y, test_size = 0.1, random_state=11)\n",
    "X_train = X_train[CATEGORICAL_COLUMNS + CONTINUOUS_COLUMNS]\n",
    "X_test = X_test[CATEGORICAL_COLUMNS + CONTINUOUS_COLUMNS]\n"
   ]
  },
  {
   "cell_type": "code",
   "execution_count": null,
   "metadata": {},
   "outputs": [],
   "source": []
  },
  {
   "cell_type": "code",
   "execution_count": 10,
   "metadata": {
    "ExecuteTime": {
     "end_time": "2021-07-14T20:05:21.856392Z",
     "start_time": "2021-07-14T20:05:21.851322Z"
    },
    "tags": []
   },
   "outputs": [
    {
     "name": "stdout",
     "output_type": "stream",
     "text": [
      "(10109124, 20) (10109124,)\n",
      "399797 32439\n"
     ]
    }
   ],
   "source": [
    "print(X_train.shape, y_train.shape)\n",
    "print(y_train.sum(), y_test.sum())"
   ]
  },
  {
   "cell_type": "code",
   "execution_count": 11,
   "metadata": {
    "ExecuteTime": {
     "end_time": "2021-07-14T20:05:22.449773Z",
     "start_time": "2021-07-14T20:05:22.352774Z"
    }
   },
   "outputs": [
    {
     "data": {
      "text/html": [
       "<div>\n",
       "<style scoped>\n",
       "    .dataframe tbody tr th:only-of-type {\n",
       "        vertical-align: middle;\n",
       "    }\n",
       "\n",
       "    .dataframe tbody tr th {\n",
       "        vertical-align: top;\n",
       "    }\n",
       "\n",
       "    .dataframe thead th {\n",
       "        text-align: right;\n",
       "    }\n",
       "</style>\n",
       "<table border=\"1\" class=\"dataframe\">\n",
       "  <thead>\n",
       "    <tr style=\"text-align: right;\">\n",
       "      <th></th>\n",
       "      <th>Channel</th>\n",
       "      <th>FTHomeBuyer</th>\n",
       "      <th>LoanPurpose</th>\n",
       "      <th>MortInsType</th>\n",
       "      <th>OccStatus</th>\n",
       "      <th>ProductType</th>\n",
       "      <th>PropertyState</th>\n",
       "      <th>PropertyType</th>\n",
       "      <th>SellerName</th>\n",
       "      <th>Zip</th>\n",
       "      <th>OrInterestRate</th>\n",
       "      <th>OrUnpaidPrinc</th>\n",
       "      <th>OrLoanTerm</th>\n",
       "      <th>OrCLTV</th>\n",
       "      <th>NumBorrow</th>\n",
       "      <th>DTIRat</th>\n",
       "      <th>CreditScore</th>\n",
       "      <th>NumUnits</th>\n",
       "      <th>CoCreditScore</th>\n",
       "      <th>Extra</th>\n",
       "    </tr>\n",
       "  </thead>\n",
       "  <tbody>\n",
       "    <tr>\n",
       "      <th>1550205</th>\n",
       "      <td>2</td>\n",
       "      <td>0</td>\n",
       "      <td>2</td>\n",
       "      <td>0</td>\n",
       "      <td>1</td>\n",
       "      <td>0</td>\n",
       "      <td>4</td>\n",
       "      <td>4</td>\n",
       "      <td>31</td>\n",
       "      <td>902</td>\n",
       "      <td>5.99</td>\n",
       "      <td>93000</td>\n",
       "      <td>180</td>\n",
       "      <td>19.0</td>\n",
       "      <td>1.0</td>\n",
       "      <td>23.0</td>\n",
       "      <td>805.0</td>\n",
       "      <td>1</td>\n",
       "      <td>766.868035</td>\n",
       "      <td>1.077555</td>\n",
       "    </tr>\n",
       "    <tr>\n",
       "      <th>1137124</th>\n",
       "      <td>1</td>\n",
       "      <td>0</td>\n",
       "      <td>0</td>\n",
       "      <td>0</td>\n",
       "      <td>1</td>\n",
       "      <td>0</td>\n",
       "      <td>21</td>\n",
       "      <td>3</td>\n",
       "      <td>48</td>\n",
       "      <td>120</td>\n",
       "      <td>6.50</td>\n",
       "      <td>206000</td>\n",
       "      <td>360</td>\n",
       "      <td>58.0</td>\n",
       "      <td>1.0</td>\n",
       "      <td>64.0</td>\n",
       "      <td>649.0</td>\n",
       "      <td>1</td>\n",
       "      <td>766.868035</td>\n",
       "      <td>1.077555</td>\n",
       "    </tr>\n",
       "    <tr>\n",
       "      <th>541402</th>\n",
       "      <td>2</td>\n",
       "      <td>0</td>\n",
       "      <td>0</td>\n",
       "      <td>0</td>\n",
       "      <td>1</td>\n",
       "      <td>0</td>\n",
       "      <td>23</td>\n",
       "      <td>4</td>\n",
       "      <td>31</td>\n",
       "      <td>437</td>\n",
       "      <td>6.50</td>\n",
       "      <td>85000</td>\n",
       "      <td>360</td>\n",
       "      <td>25.0</td>\n",
       "      <td>2.0</td>\n",
       "      <td>35.0</td>\n",
       "      <td>788.0</td>\n",
       "      <td>1</td>\n",
       "      <td>799.000000</td>\n",
       "      <td>1.077555</td>\n",
       "    </tr>\n",
       "    <tr>\n",
       "      <th>5374781</th>\n",
       "      <td>2</td>\n",
       "      <td>0</td>\n",
       "      <td>2</td>\n",
       "      <td>0</td>\n",
       "      <td>0</td>\n",
       "      <td>0</td>\n",
       "      <td>28</td>\n",
       "      <td>3</td>\n",
       "      <td>3</td>\n",
       "      <td>195</td>\n",
       "      <td>5.25</td>\n",
       "      <td>59000</td>\n",
       "      <td>180</td>\n",
       "      <td>74.0</td>\n",
       "      <td>1.0</td>\n",
       "      <td>38.0</td>\n",
       "      <td>676.0</td>\n",
       "      <td>1</td>\n",
       "      <td>766.868035</td>\n",
       "      <td>1.077555</td>\n",
       "    </tr>\n",
       "    <tr>\n",
       "      <th>2269471</th>\n",
       "      <td>1</td>\n",
       "      <td>0</td>\n",
       "      <td>2</td>\n",
       "      <td>0</td>\n",
       "      <td>1</td>\n",
       "      <td>0</td>\n",
       "      <td>51</td>\n",
       "      <td>4</td>\n",
       "      <td>3</td>\n",
       "      <td>475</td>\n",
       "      <td>6.25</td>\n",
       "      <td>366000</td>\n",
       "      <td>360</td>\n",
       "      <td>79.0</td>\n",
       "      <td>1.0</td>\n",
       "      <td>48.0</td>\n",
       "      <td>770.0</td>\n",
       "      <td>1</td>\n",
       "      <td>766.868035</td>\n",
       "      <td>1.077555</td>\n",
       "    </tr>\n",
       "  </tbody>\n",
       "</table>\n",
       "</div>"
      ],
      "text/plain": [
       "         Channel  FTHomeBuyer  LoanPurpose  MortInsType  OccStatus  ProductType  PropertyState  PropertyType  SellerName  Zip  OrInterestRate  OrUnpaidPrinc  OrLoanTerm  OrCLTV  NumBorrow  DTIRat  CreditScore  NumUnits  CoCreditScore     Extra\n",
       "1550205        2            0            2            0          1            0              4             4          31  902            5.99          93000         180    19.0        1.0    23.0        805.0         1     766.868035  1.077555\n",
       "1137124        1            0            0            0          1            0             21             3          48  120            6.50         206000         360    58.0        1.0    64.0        649.0         1     766.868035  1.077555\n",
       "541402         2            0            0            0          1            0             23             4          31  437            6.50          85000         360    25.0        2.0    35.0        788.0         1     799.000000  1.077555\n",
       "5374781        2            0            2            0          0            0             28             3           3  195            5.25          59000         180    74.0        1.0    38.0        676.0         1     766.868035  1.077555\n",
       "2269471        1            0            2            0          1            0             51             4           3  475            6.25         366000         360    79.0        1.0    48.0        770.0         1     766.868035  1.077555"
      ]
     },
     "execution_count": 11,
     "metadata": {},
     "output_type": "execute_result"
    }
   ],
   "source": [
    "X_train.head()"
   ]
  },
  {
   "cell_type": "code",
   "execution_count": 12,
   "metadata": {},
   "outputs": [],
   "source": [
    "data_prep_time = time.time()"
   ]
  },
  {
   "cell_type": "code",
   "execution_count": 13,
   "metadata": {},
   "outputs": [],
   "source": [
    "def plot_confusion_matrix(cm, target_names, title='Confusion Matrix', save_path=None, cmap=plt.cm.cool):\n",
    "    plt.imshow(cm, interpolation='nearest', cmap=cmap)\n",
    "    plt.title(title)\n",
    "    plt.colorbar()\n",
    "    tick_marks = np.arange(len(target_names))\n",
    "    plt.xticks(tick_marks, target_names, rotation=45)\n",
    "    plt.yticks(tick_marks, target_names)\n",
    "\n",
    "    width, height = cm.shape\n",
    "\n",
    "    for x in range(width):\n",
    "        for y in range(height):\n",
    "            plt.annotate(str(cm[x][y]), xy=(y, x), \n",
    "                        horizontalalignment='center',\n",
    "                        verticalalignment='center')\n",
    "    plt.ylabel('True Label')\n",
    "    plt.xlabel('Predicted Label')\n",
    "    plt.tight_layout()\n",
    "    if save_path and isinstance(save_path, str):\n",
    "        plt.savefig(save_path, dpi=600)\n"
   ]
  },
  {
   "cell_type": "markdown",
   "metadata": {
    "tags": []
   },
   "source": [
    "## XGBoost"
   ]
  },
  {
   "cell_type": "markdown",
   "metadata": {},
   "source": [
    "Alright, now we’re ready to make some predictions! We first randomly split the data into a training set and a test set using the Scikit-Learn train_test_split_function. From these two sets, we idenfiy the target (“Default”) vector, and feature arrays."
   ]
  },
  {
   "cell_type": "code",
   "execution_count": 63,
   "metadata": {
    "ExecuteTime": {
     "end_time": "2021-07-14T20:06:25.263450Z",
     "start_time": "2021-07-14T20:06:25.258841Z"
    }
   },
   "outputs": [
    {
     "data": {
      "text/plain": [
       "0.039548134932364074"
      ]
     },
     "execution_count": 63,
     "metadata": {},
     "output_type": "execute_result"
    }
   ],
   "source": [
    "y_train.sum()/len(y_train)"
   ]
  },
  {
   "cell_type": "code",
   "execution_count": 64,
   "metadata": {
    "ExecuteTime": {
     "end_time": "2021-07-14T20:05:24.135141Z",
     "start_time": "2021-07-14T20:05:24.130299Z"
    }
   },
   "outputs": [
    {
     "name": "stdout",
     "output_type": "stream",
     "text": [
      "scaling: 24.285642463550253\n"
     ]
    }
   ],
   "source": [
    "scaling = (len(y_train)-y_train.sum())/y_train.sum()\n",
    "scaling = float(scaling)\n",
    "\n",
    "print('scaling:', scaling )   "
   ]
  },
  {
   "cell_type": "code",
   "execution_count": 65,
   "metadata": {
    "ExecuteTime": {
     "end_time": "2021-07-14T20:05:25.544216Z",
     "start_time": "2021-07-14T20:05:25.540293Z"
    }
   },
   "outputs": [],
   "source": [
    "# parameters here are not optimized. Feel free to experiment!\n",
    "params = {\n",
    "    'num_rounds':        100,\n",
    "    'max_depth':         12,\n",
    "    'max_leaves':        0,\n",
    "    'alpha':             3,\n",
    "    'lambda':            1,\n",
    "    'eta':               0.17,\n",
    "    'subsample':         1,\n",
    "    'sampling_method':   'gradient_based',\n",
    "    'scale_pos_weight':  scaling,\n",
    "    'max_delta_step':    1,\n",
    "    'max_bin':           2048,\n",
    "    'tree_method':       'gpu_hist',\n",
    "    'grow_policy':       'lossguide',\n",
    "    'n_gpus':            1,\n",
    "    'objective':         'binary:logistic',#'binary:hinge'\n",
    "    'eval_metric':       'aucpr',#'error',#'auc', 'logloss'\n",
    "    'predictor':         'gpu_predictor',\n",
    "    'num_parallel_tree': 1,\n",
    "    \"min_child_weight\":  2,\n",
    "    'verbose':           True\n",
    "}\n",
    "\n",
    "if use_cpu:\n",
    "    print('training XGBoost model on cpu')\n",
    "    params['tree_method'] = 'hist'\n",
    "    params['sampling_method'] = 'uniform'\n",
    "    params['predictor'] = 'cpu_predictor'\n",
    "    "
   ]
  },
  {
   "cell_type": "code",
   "execution_count": 66,
   "metadata": {
    "ExecuteTime": {
     "end_time": "2021-07-14T20:06:17.885437Z",
     "start_time": "2021-07-14T20:06:17.735664Z"
    }
   },
   "outputs": [],
   "source": [
    "dtrain = xgb.DMatrix(X_train, label=y_train)\n",
    "dtest = xgb.DMatrix(X_test, label=y_test)\n",
    "    \n",
    "evals = [(dtest, 'test'), (dtrain, 'train')]"
   ]
  },
  {
   "cell_type": "code",
   "execution_count": 67,
   "metadata": {
    "ExecuteTime": {
     "end_time": "2021-07-14T20:07:54.574531Z",
     "start_time": "2021-07-14T20:06:30.373248Z"
    },
    "scrolled": true
   },
   "outputs": [
    {
     "name": "stdout",
     "output_type": "stream",
     "text": [
      "[22:27:03] WARNING: /opt/conda/envs/rapids/conda-bld/xgboost_1623267594558/work/include/xgboost/generic_parameters.h:38: \n",
      "n_gpus: \n",
      "\tDeprecated. Single process multi-GPU training is no longer supported.\n",
      "\tPlease switch to distributed training with one process per GPU.\n",
      "\tThis can be done using Dask or Spark.  See documentation for details.\n",
      "[22:27:03] WARNING: /opt/conda/envs/rapids/conda-bld/xgboost_1623267594558/work/src/learner.cc:573: \n",
      "Parameters: { \"num_rounds\", \"verbose\" } might not be used.\n",
      "\n",
      "  This may not be accurate due to some parameters are only used in language bindings but\n",
      "  passed down to XGBoost core.  Or some parameters are not used but slip through this\n",
      "  verification. Please open an issue if you find above cases.\n",
      "\n",
      "\n",
      "[0]\ttest-aucpr:0.16717\ttrain-aucpr:0.18319\n",
      "[1]\ttest-aucpr:0.18538\ttrain-aucpr:0.20131\n",
      "[2]\ttest-aucpr:0.20371\ttrain-aucpr:0.22097\n",
      "[3]\ttest-aucpr:0.22488\ttrain-aucpr:0.24358\n",
      "[4]\ttest-aucpr:0.24571\ttrain-aucpr:0.26775\n",
      "[5]\ttest-aucpr:0.26445\ttrain-aucpr:0.28947\n",
      "[6]\ttest-aucpr:0.28098\ttrain-aucpr:0.30799\n",
      "[7]\ttest-aucpr:0.29790\ttrain-aucpr:0.32879\n",
      "[8]\ttest-aucpr:0.30841\ttrain-aucpr:0.34197\n",
      "[9]\ttest-aucpr:0.31448\ttrain-aucpr:0.35073\n",
      "[10]\ttest-aucpr:0.31892\ttrain-aucpr:0.35649\n",
      "[11]\ttest-aucpr:0.32189\ttrain-aucpr:0.36103\n",
      "[12]\ttest-aucpr:0.32468\ttrain-aucpr:0.36470\n",
      "[13]\ttest-aucpr:0.32751\ttrain-aucpr:0.36847\n",
      "[14]\ttest-aucpr:0.32925\ttrain-aucpr:0.37074\n",
      "[15]\ttest-aucpr:0.33097\ttrain-aucpr:0.37435\n",
      "[16]\ttest-aucpr:0.33244\ttrain-aucpr:0.37724\n",
      "[17]\ttest-aucpr:0.33337\ttrain-aucpr:0.37947\n",
      "[18]\ttest-aucpr:0.33459\ttrain-aucpr:0.38204\n",
      "[19]\ttest-aucpr:0.33559\ttrain-aucpr:0.38411\n",
      "[20]\ttest-aucpr:0.33754\ttrain-aucpr:0.38681\n",
      "[21]\ttest-aucpr:0.33873\ttrain-aucpr:0.38872\n",
      "[22]\ttest-aucpr:0.34043\ttrain-aucpr:0.39092\n",
      "[23]\ttest-aucpr:0.34167\ttrain-aucpr:0.39285\n",
      "[24]\ttest-aucpr:0.34266\ttrain-aucpr:0.39434\n",
      "[25]\ttest-aucpr:0.34326\ttrain-aucpr:0.39557\n",
      "[26]\ttest-aucpr:0.34412\ttrain-aucpr:0.39712\n",
      "[27]\ttest-aucpr:0.34482\ttrain-aucpr:0.39861\n",
      "[28]\ttest-aucpr:0.34550\ttrain-aucpr:0.39963\n",
      "[29]\ttest-aucpr:0.34611\ttrain-aucpr:0.40062\n",
      "[30]\ttest-aucpr:0.34652\ttrain-aucpr:0.40157\n",
      "[31]\ttest-aucpr:0.34676\ttrain-aucpr:0.40310\n",
      "[32]\ttest-aucpr:0.34820\ttrain-aucpr:0.40507\n",
      "[33]\ttest-aucpr:0.34881\ttrain-aucpr:0.40632\n",
      "[34]\ttest-aucpr:0.34921\ttrain-aucpr:0.40728\n",
      "[35]\ttest-aucpr:0.34975\ttrain-aucpr:0.40844\n",
      "[36]\ttest-aucpr:0.35030\ttrain-aucpr:0.40960\n",
      "[37]\ttest-aucpr:0.35109\ttrain-aucpr:0.41050\n",
      "[38]\ttest-aucpr:0.35167\ttrain-aucpr:0.41186\n",
      "[39]\ttest-aucpr:0.35207\ttrain-aucpr:0.41271\n",
      "[40]\ttest-aucpr:0.35228\ttrain-aucpr:0.41325\n",
      "[41]\ttest-aucpr:0.35269\ttrain-aucpr:0.41382\n",
      "[42]\ttest-aucpr:0.35295\ttrain-aucpr:0.41454\n",
      "[43]\ttest-aucpr:0.35350\ttrain-aucpr:0.41531\n",
      "[44]\ttest-aucpr:0.35370\ttrain-aucpr:0.41617\n",
      "[45]\ttest-aucpr:0.35392\ttrain-aucpr:0.41676\n",
      "[46]\ttest-aucpr:0.35402\ttrain-aucpr:0.41702\n",
      "[47]\ttest-aucpr:0.35427\ttrain-aucpr:0.41734\n",
      "[48]\ttest-aucpr:0.35444\ttrain-aucpr:0.41809\n",
      "[49]\ttest-aucpr:0.35464\ttrain-aucpr:0.41867\n",
      "[50]\ttest-aucpr:0.35476\ttrain-aucpr:0.41926\n",
      "[51]\ttest-aucpr:0.35494\ttrain-aucpr:0.41958\n",
      "[52]\ttest-aucpr:0.35503\ttrain-aucpr:0.41991\n",
      "[53]\ttest-aucpr:0.35532\ttrain-aucpr:0.42077\n",
      "[54]\ttest-aucpr:0.35540\ttrain-aucpr:0.42140\n",
      "[55]\ttest-aucpr:0.35557\ttrain-aucpr:0.42182\n",
      "[56]\ttest-aucpr:0.35574\ttrain-aucpr:0.42212\n",
      "[57]\ttest-aucpr:0.35574\ttrain-aucpr:0.42243\n",
      "[58]\ttest-aucpr:0.35585\ttrain-aucpr:0.42284\n",
      "[59]\ttest-aucpr:0.35600\ttrain-aucpr:0.42331\n",
      "[60]\ttest-aucpr:0.35610\ttrain-aucpr:0.42358\n",
      "[61]\ttest-aucpr:0.35630\ttrain-aucpr:0.42409\n",
      "[62]\ttest-aucpr:0.35641\ttrain-aucpr:0.42471\n",
      "[63]\ttest-aucpr:0.35647\ttrain-aucpr:0.42490\n",
      "[64]\ttest-aucpr:0.35655\ttrain-aucpr:0.42515\n",
      "[65]\ttest-aucpr:0.35657\ttrain-aucpr:0.42540\n",
      "[66]\ttest-aucpr:0.35661\ttrain-aucpr:0.42563\n",
      "[67]\ttest-aucpr:0.35661\ttrain-aucpr:0.42624\n",
      "[68]\ttest-aucpr:0.35662\ttrain-aucpr:0.42633\n",
      "[69]\ttest-aucpr:0.35666\ttrain-aucpr:0.42649\n",
      "[70]\ttest-aucpr:0.35660\ttrain-aucpr:0.42663\n",
      "[71]\ttest-aucpr:0.35672\ttrain-aucpr:0.42720\n",
      "[72]\ttest-aucpr:0.35685\ttrain-aucpr:0.42761\n",
      "[73]\ttest-aucpr:0.35690\ttrain-aucpr:0.42781\n",
      "[74]\ttest-aucpr:0.35744\ttrain-aucpr:0.42885\n",
      "[75]\ttest-aucpr:0.35747\ttrain-aucpr:0.42898\n",
      "[76]\ttest-aucpr:0.35748\ttrain-aucpr:0.42928\n",
      "[77]\ttest-aucpr:0.35754\ttrain-aucpr:0.42960\n",
      "[78]\ttest-aucpr:0.35752\ttrain-aucpr:0.42992\n",
      "[79]\ttest-aucpr:0.35754\ttrain-aucpr:0.43016\n",
      "[80]\ttest-aucpr:0.35760\ttrain-aucpr:0.43030\n",
      "[81]\ttest-aucpr:0.35767\ttrain-aucpr:0.43070\n",
      "[82]\ttest-aucpr:0.35767\ttrain-aucpr:0.43089\n",
      "[83]\ttest-aucpr:0.35772\ttrain-aucpr:0.43133\n",
      "[84]\ttest-aucpr:0.35775\ttrain-aucpr:0.43144\n",
      "[85]\ttest-aucpr:0.35790\ttrain-aucpr:0.43200\n",
      "[86]\ttest-aucpr:0.35793\ttrain-aucpr:0.43228\n",
      "[87]\ttest-aucpr:0.35794\ttrain-aucpr:0.43242\n",
      "[88]\ttest-aucpr:0.35799\ttrain-aucpr:0.43266\n",
      "[89]\ttest-aucpr:0.35798\ttrain-aucpr:0.43278\n",
      "[90]\ttest-aucpr:0.35802\ttrain-aucpr:0.43291\n",
      "[91]\ttest-aucpr:0.35796\ttrain-aucpr:0.43330\n",
      "[92]\ttest-aucpr:0.35796\ttrain-aucpr:0.43345\n",
      "[93]\ttest-aucpr:0.35794\ttrain-aucpr:0.43357\n",
      "[94]\ttest-aucpr:0.35803\ttrain-aucpr:0.43397\n",
      "[95]\ttest-aucpr:0.35803\ttrain-aucpr:0.43406\n",
      "[96]\ttest-aucpr:0.35803\ttrain-aucpr:0.43416\n",
      "[97]\ttest-aucpr:0.35810\ttrain-aucpr:0.43444\n",
      "[98]\ttest-aucpr:0.35823\ttrain-aucpr:0.43482\n",
      "[99]\ttest-aucpr:0.35825\ttrain-aucpr:0.43516\n",
      "Elapsed time:  59.289 s\n"
     ]
    }
   ],
   "source": [
    "start = time.time()\n",
    "\n",
    "model = xgb.train(params, dtrain, params['num_rounds'], evals=evals,\n",
    "                          early_stopping_rounds=10)\n",
    "print(f'Elapsed time: {time.time() - start: 0.3f} s')"
   ]
  },
  {
   "cell_type": "code",
   "execution_count": null,
   "metadata": {},
   "outputs": [],
   "source": [
    "model.save_model(f'{clean_data_path}/xgb_model')"
   ]
  },
  {
   "cell_type": "code",
   "execution_count": 20,
   "metadata": {
    "ExecuteTime": {
     "end_time": "2021-07-14T20:08:19.561530Z",
     "start_time": "2021-07-14T20:08:19.090841Z"
    },
    "scrolled": true
   },
   "outputs": [
    {
     "name": "stdout",
     "output_type": "stream",
     "text": [
      "Threshold:  0.8486\n",
      "Precision:  0.3536\n",
      "Recall:  0.4813\n",
      "Predicted 44170\n",
      "Actual 32453\n",
      "AUC  0.9229\n",
      "Accuracy:  0.9596\n",
      "F1:  0.4077\n",
      "AUPRC:  0.3592\n"
     ]
    }
   ],
   "source": [
    "# make predictions on the test set using our trained model\n",
    "cp.cuda.Device(0).use()\n",
    "use_f1_measure = True\n",
    "\n",
    "preds = model.predict(dtest)\n",
    "if isinstance(preds, np.ndarray) and not use_cpu:\n",
    "    preds = cp.array(preds)\n",
    "    \n",
    "true_labels = y_test.astype(int).values.squeeze()\n",
    "true_labels = cupy2numpy(true_labels, use_cpu)\n",
    "precision, recall, thresholds = precision_recall_curve(true_labels, preds)\n",
    "\n",
    "if use_f1_measure:\n",
    "    # apply the threshold using F1 measure to the prediction.\n",
    "    threshold_idx = cupy2numpy(np.argmax((2 * precision * recall)/ (precision + recall+1e-7)), True)\n",
    "    pred_labels = (preds >= thresholds[threshold_idx]).astype(int)\n",
    "else:\n",
    "    # apply the threshold TPR-FPR to the prediction.\n",
    "    fpr, tpr, thresholds = roc_curve(cupy2numpy(true_labels, True), cupy2numpy(preds, True))\n",
    "    threshold_idx = cupy2numpy(np.argmax(tpr - fpr), True)\n",
    "    pred_labels = (preds >= thresholds[threshold_idx]).astype(int)\n",
    "    print(f'TPR: {tpr[threshold_idx]: 0.4f}')\n",
    "    print(f'FPR: {fpr[threshold_idx]: 0.4f}')\n",
    "    \n",
    "    \n",
    "print(f'Threshold: {thresholds[threshold_idx]: 0.4f}')\n",
    "print(f'Precision: {precision[threshold_idx]: 0.4f}')\n",
    "print(f'Recall: {recall[threshold_idx]: 0.4f}')\n",
    "print('Predicted', pred_labels.sum())\n",
    "print('Actual', true_labels.sum())\n",
    "# compute the auc, this should match the last test auc output above\n",
    "#\n",
    "auc_measure = roc_auc_score(true_labels, preds)\n",
    "\n",
    "print(f'AUC {auc_measure: 0.4f}')\n",
    "\n",
    "print (f'Accuracy: {accuracy_score(true_labels, pred_labels): 0.4f}')\n",
    "\n",
    "print (f'F1: {(2 * precision[threshold_idx] * recall[threshold_idx]) / (precision[threshold_idx] + recall[threshold_idx]): 0.4f}')\n",
    "recall = cupy2numpy(recall, True)\n",
    "precision = cupy2numpy(precision, True)\n",
    "# area under precision recall curve\n",
    "auprc= auc(recall, precision)\n",
    "print(f'AUPRC: {auprc: 0.4f}')\n"
   ]
  },
  {
   "cell_type": "code",
   "execution_count": 21,
   "metadata": {
    "ExecuteTime": {
     "end_time": "2021-07-14T20:08:22.415065Z",
     "start_time": "2021-07-14T20:08:21.728655Z"
    }
   },
   "outputs": [
    {
     "data": {
      "image/png": "[encoded data removed]",
      "text/plain": [
       "<Figure size 864x432 with 2 Axes>"
      ]
     },
     "metadata": {},
     "output_type": "display_data"
    }
   ],
   "source": [
    "sns.set()\n",
    "fig, ax = plt.subplots(nrows=1, ncols=2, figsize=(12, 6))\n",
    "no_skill = y_test.sum()/len(y_test)\n",
    "ax[0].plot(recall, precision, color='darkorange', lw=1, label='PR curve (area = %0.2f)' % auprc)\n",
    "ax[0].plot([0, 1], [no_skill, no_skill], color='navy', linestyle='--', label='No Skill')\n",
    "\n",
    "ax[0].plot(recall[threshold_idx],\n",
    "           precision[threshold_idx], 'ro', label='F1 threshold')\n",
    "\n",
    "ax[0].set_xlabel('Recall (Positive Label: 1)')\n",
    "ax[0].set_ylabel('Precision (Positive Label: 1)')\n",
    "ax[0].set_title('2-class Precision-Recall curve')\n",
    "ax[0].set_xlim([-0.02, 1.02])\n",
    "ax[0].set_ylim([-0.02, 1.02])\n",
    "ax[0].legend()\n",
    "\n",
    "fpr, tpr, thresholds = roc_curve(cupy2numpy(true_labels, True), cupy2numpy(preds, True))\n",
    "# roc_auc = roc_auc_score(true_labels, pred_labels)\n",
    "roc_auc = roc_auc_score(true_labels, preds)\n",
    "ax[1].plot(fpr, tpr, color='darkorange', lw=1, label='ROC curve (area = %0.2f)' % roc_auc)\n",
    "ax[1].plot([-0, 1], [0, 1], color='navy', linestyle='--')\n",
    "ax[1].set_xlim([-0.02, 1.02])\n",
    "ax[1].set_ylim([-0.02, 1.02])\n",
    "ax[1].set_xlabel('False Positive Rate')\n",
    "ax[1].set_ylabel('True Positive Rate')\n",
    "ax[1].set_title('Receiver operating characteristic')\n",
    "ax[1].legend(loc=\"lower right\")\n",
    "plt.tight_layout()\n",
    "plt.savefig(f'{figures_path}/xgb_pr_roc_curves.png', dpi=600)\n"
   ]
  },
  {
   "cell_type": "code",
   "execution_count": 22,
   "metadata": {
    "ExecuteTime": {
     "end_time": "2021-07-14T20:08:24.505069Z",
     "start_time": "2021-07-14T20:08:24.188926Z"
    }
   },
   "outputs": [
    {
     "name": "stdout",
     "output_type": "stream",
     "text": [
      "Confusion Matrix :\n"
     ]
    },
    {
     "data": {
      "image/png": "[encoded data removed]",
      "text/plain": [
       "<Figure size 432x288 with 2 Axes>"
      ]
     },
     "metadata": {},
     "output_type": "display_data"
    }
   ],
   "source": [
    "results = confusion_matrix(true_labels, pred_labels)\n",
    "results = cupy2numpy(results, True)\n",
    "\n",
    "print ('Confusion Matrix :')\n",
    "\n",
    "plot_confusion_matrix(results, ['Normal','Anomaly'], title='Confusion Matrix', save_path=f'{figures_path}/xgb_confusion_matrix.png')"
   ]
  },
  {
   "cell_type": "code",
   "execution_count": 23,
   "metadata": {
    "ExecuteTime": {
     "end_time": "2021-07-14T20:08:26.876032Z",
     "start_time": "2021-07-14T20:08:26.872248Z"
    }
   },
   "outputs": [
    {
     "data": {
      "text/plain": [
       "(1123235, 1123235)"
      ]
     },
     "execution_count": 23,
     "metadata": {},
     "output_type": "execute_result"
    }
   ],
   "source": [
    "len(true_labels), len(y_test)"
   ]
  },
  {
   "cell_type": "code",
   "execution_count": 24,
   "metadata": {},
   "outputs": [
    {
     "data": {
      "text/plain": [
       "cupy._core.core.ndarray"
      ]
     },
     "execution_count": 24,
     "metadata": {},
     "output_type": "execute_result"
    }
   ],
   "source": [
    "type(pred_labels)"
   ]
  },
  {
   "cell_type": "code",
   "execution_count": 25,
   "metadata": {
    "ExecuteTime": {
     "end_time": "2021-07-14T20:08:33.797781Z",
     "start_time": "2021-07-14T20:08:32.723305Z"
    }
   },
   "outputs": [
    {
     "name": "stdout",
     "output_type": "stream",
     "text": [
      "Classification Report for XGBoost Classifier: \n",
      "               precision    recall  f1-score   support\n",
      "\n",
      "           0       0.98      0.97      0.98   1090782\n",
      "           1       0.35      0.48      0.41     32453\n",
      "\n",
      "    accuracy                           0.96   1123235\n",
      "   macro avg       0.67      0.73      0.69   1123235\n",
      "weighted avg       0.97      0.96      0.96   1123235\n",
      "\n",
      "Confusion Matrix of XGBoost Classifier: \n",
      " [[1062232   28550]\n",
      " [  16833   15620]]\n"
     ]
    }
   ],
   "source": [
    "# flag\n",
    "print(\"Classification Report for XGBoost Classifier: \\n\", \n",
    "      classification_report(cupy2numpy(y_test, not use_cpu), cupy2numpy(pred_labels, not use_cpu)))\n",
    "print(\"Confusion Matrix of XGBoost Classifier: \\n\", \n",
    "      confusion_matrix(cupy2numpy(y_test, not use_cpu), cupy2numpy(pred_labels, not use_cpu)))"
   ]
  },
  {
   "cell_type": "markdown",
   "metadata": {
    "tags": []
   },
   "source": [
    "## Explainability with Shap"
   ]
  },
  {
   "cell_type": "code",
   "execution_count": 26,
   "metadata": {},
   "outputs": [],
   "source": [
    "shap_time = time.time()"
   ]
  },
  {
   "cell_type": "code",
   "execution_count": 27,
   "metadata": {
    "ExecuteTime": {
     "end_time": "2021-07-14T20:08:46.709127Z",
     "start_time": "2021-07-14T20:08:45.254006Z"
    }
   },
   "outputs": [
    {
     "data": {
      "image/png": "[encoded data removed]",
      "text/plain": [
       "<Figure size 720x432 with 1 Axes>"
      ]
     },
     "metadata": {},
     "output_type": "display_data"
    }
   ],
   "source": [
    "x = plt.rcParams[\"figure.figsize\"] = [10,6]\n",
    "fig, ax = plt.subplots()\n",
    "xgb.plot_importance(model, max_num_features=10, ax = ax)\n",
    "plt.savefig(f'{figures_path}/xgb_feat_importance.png', dpi=600)"
   ]
  },
  {
   "cell_type": "code",
   "execution_count": 28,
   "metadata": {
    "ExecuteTime": {
     "end_time": "2021-07-14T20:09:06.391330Z",
     "start_time": "2021-07-14T20:09:06.385744Z"
    }
   },
   "outputs": [
    {
     "data": {
      "image/png": "[encoded data removed]",
      "text/plain": [
       "<Figure size 720x432 with 1 Axes>"
      ]
     },
     "metadata": {},
     "output_type": "display_data"
    }
   ],
   "source": [
    "# Function for plotting Precision Recall curve and measuring AUC\n",
    "def plot_precision_recall(y_test: np.array, y_score: np.array, isPR = True) -> None:\n",
    "    #print(y_test[0:20],y_score[0:20])\n",
    "    precision, recall, _ = precision_recall_curve(y_test, y_score) if isPR else roc_curve(y_test, y_score)\n",
    "    auc_score = auc(recall, precision)\n",
    "    plt.step(recall, precision, color='b', alpha=0.2,\n",
    "             where='post')\n",
    "    plt.fill_between(recall, precision, alpha=0.2, color='b')\n",
    "    plt.xlabel('Recall')\n",
    "    plt.ylabel('Precision')\n",
    "    plt.ylim([0.0, 1.05])\n",
    "    plt.xlim([0.0, 1.05])\n",
    "    plt.title('Precision-Recall curve: AUC={0:0.4f}'.format(auc_score))\n",
    "    plt.show()\n",
    "\n",
    "plt.rcParams[\"figure.figsize\"] = [10,6]\n",
    "plot_precision_recall(cupy2numpy(y_test.values, not use_cpu), cupy2numpy(preds, True))"
   ]
  },
  {
   "cell_type": "markdown",
   "metadata": {},
   "source": [
    "Here is the key step of computing GPU-accelerated Shapley values for all rows."
   ]
  },
  {
   "cell_type": "code",
   "execution_count": 29,
   "metadata": {
    "ExecuteTime": {
     "end_time": "2021-07-14T20:20:00.191496Z",
     "start_time": "2021-07-14T20:16:27.832036Z"
    },
    "tags": []
   },
   "outputs": [
    {
     "name": "stdout",
     "output_type": "stream",
     "text": [
      "Elapsed:  79.1308 sec\n",
      "(1123235, 20)\n",
      "XGBoost version: 1.4.2\n"
     ]
    }
   ],
   "source": [
    "## shap Tree Explainer\n",
    "start = time.time()\n",
    "    \n",
    "expl = shap.TreeExplainer(model)\n",
    "shap_values = expl.shap_values(X_test)\n",
    "tshap = time.time()-start\n",
    "print(f'Elapsed: {time.time()-start: 0.4f} sec')\n",
    "print(shap_values.shape)\n",
    "print(f'XGBoost version: {xgb.__version__}')\n",
    "\n",
    "start = time.time()\n",
    "sns.set()"
   ]
  },
  {
   "cell_type": "code",
   "execution_count": 30,
   "metadata": {},
   "outputs": [],
   "source": [
    "np.save(f'{clean_data_path}/xgb_shap.npy', shap_values)"
   ]
  },
  {
   "cell_type": "code",
   "execution_count": 31,
   "metadata": {},
   "outputs": [],
   "source": [
    "# save for dashboarding\n",
    "X_train.to_parquet(f'{clean_data_path}/xgb_xtrain.parquet')\n",
    "y_train.to_frame().to_parquet(f'{clean_data_path}/xgb_ytrain.parquet')\n",
    "\n",
    "X_test.to_parquet(f'{clean_data_path}/xgb_xtest.parquet')\n",
    "y_test.to_frame().to_parquet(f'{clean_data_path}/xgb_ytest.parquet')\n"
   ]
  },
  {
   "cell_type": "code",
   "execution_count": null,
   "metadata": {},
   "outputs": [],
   "source": []
  },
  {
   "cell_type": "code",
   "execution_count": 32,
   "metadata": {
    "ExecuteTime": {
     "end_time": "2021-07-14T20:20:00.191496Z",
     "start_time": "2021-07-14T20:16:27.832036Z"
    },
    "tags": []
   },
   "outputs": [],
   "source": [
    "if False:\n",
    "  if use_cpu: \n",
    "    shap.summary_plot(shap_values, X_test)\n",
    "  else: \n",
    "    shap.summary_plot(shap_values, X_test.to_pandas(), sort=False, show=False)\n",
    "    \n",
    "  plt.tight_layout()\n",
    "\n",
    "if False:\n",
    "    ax = f.gca()\n",
    "    ax.set_xlim([-5, 5])\n",
    "\n",
    "    f = plt.gcf()\n",
    "    f.savefig(f'{figures_path}/Shap_XGBoost_1200.png', dpi=6000)\n",
    "    print(f'Elapsed: {time.time()-start: 0.4f} sec')"
   ]
  },
  {
   "cell_type": "markdown",
   "metadata": {},
   "source": [
    "Note the magnitude of the OrInterestRate and CreditScore on Default = 1 rows below."
   ]
  },
  {
   "cell_type": "markdown",
   "metadata": {
    "tags": []
   },
   "source": [
    "## PyTorch"
   ]
  },
  {
   "cell_type": "code",
   "execution_count": 61,
   "metadata": {
    "ExecuteTime": {
     "end_time": "2021-07-15T00:51:24.355593Z",
     "start_time": "2021-07-15T00:51:24.348029Z"
    }
   },
   "outputs": [
    {
     "name": "stdout",
     "output_type": "stream",
     "text": [
      "cuda:0\n"
     ]
    }
   ],
   "source": [
    "import torch\n",
    "import torch.nn as nn\n",
    "import torch.optim as optim\n",
    "\n",
    "EPOCHS = 20\n",
    "BATCH_SIZE = 2048\n",
    "LEARNING_RATE = 0.0001\n",
    "\n",
    "device = torch.device(\"cuda:0\" if torch.cuda.is_available() and not use_cpu else \"cpu\")\n",
    "print(device)"
   ]
  },
  {
   "cell_type": "code",
   "execution_count": 25,
   "metadata": {},
   "outputs": [],
   "source": [
    "pyt_time = time.time()"
   ]
  },
  {
   "cell_type": "code",
   "execution_count": 26,
   "metadata": {
    "ExecuteTime": {
     "end_time": "2021-07-15T00:51:26.008118Z",
     "start_time": "2021-07-15T00:51:26.003721Z"
    }
   },
   "outputs": [],
   "source": [
    "Xcolumns=['Channel',\n",
    "         'SellerName',\n",
    "         'OrInterestRate',\n",
    "         'OrUnpaidPrinc',\n",
    "         'OrLoanTerm',\n",
    "         'OrCLTV',\n",
    "         'NumBorrow',\n",
    "         'DTIRat',\n",
    "         'CreditScore',\n",
    "         'FTHomeBuyer',\n",
    "         'LoanPurpose',\n",
    "         'PropertyType',\n",
    "         'NumUnits',\n",
    "         'OccStatus',\n",
    "         'PropertyState',\n",
    "         'Zip',\n",
    "         'ProductType',\n",
    "         'CoCreditScore',\n",
    "         'Extra',\n",
    "         'MortInsType']\n",
    "CONTINUOUS_COLUMNS = ['OrInterestRate', 'OrUnpaidPrinc', 'OrLoanTerm', 'OrCLTV', 'NumBorrow', 'DTIRat', \n",
    "                      'CreditScore', 'NumUnits', 'CoCreditScore', 'Extra']\n",
    "CATEGORICAL_COLUMNS = sorted([i for i in Xcolumns if i not in CONTINUOUS_COLUMNS])\n",
    "LABEL_COLUMNS = ['Default']"
   ]
  },
  {
   "cell_type": "markdown",
   "metadata": {
    "tags": []
   },
   "source": [
    "### Scale numerical data"
   ]
  },
  {
   "cell_type": "code",
   "execution_count": 27,
   "metadata": {
    "ExecuteTime": {
     "end_time": "2021-07-14T20:20:22.960071Z",
     "start_time": "2021-07-14T20:20:22.957425Z"
    }
   },
   "outputs": [],
   "source": [
    "std_scaler = StandardScaler()"
   ]
  },
  {
   "cell_type": "code",
   "execution_count": 28,
   "metadata": {
    "ExecuteTime": {
     "end_time": "2021-07-14T20:20:23.629305Z",
     "start_time": "2021-07-14T20:20:23.596343Z"
    }
   },
   "outputs": [
    {
     "data": {
      "text/html": [
       "<div>\n",
       "<style scoped>\n",
       "    .dataframe tbody tr th:only-of-type {\n",
       "        vertical-align: middle;\n",
       "    }\n",
       "\n",
       "    .dataframe tbody tr th {\n",
       "        vertical-align: top;\n",
       "    }\n",
       "\n",
       "    .dataframe thead th {\n",
       "        text-align: right;\n",
       "    }\n",
       "</style>\n",
       "<table border=\"1\" class=\"dataframe\">\n",
       "  <thead>\n",
       "    <tr style=\"text-align: right;\">\n",
       "      <th></th>\n",
       "      <th>OrInterestRate</th>\n",
       "      <th>OrUnpaidPrinc</th>\n",
       "      <th>OrLoanTerm</th>\n",
       "      <th>OrCLTV</th>\n",
       "      <th>NumBorrow</th>\n",
       "      <th>DTIRat</th>\n",
       "      <th>CreditScore</th>\n",
       "      <th>NumUnits</th>\n",
       "      <th>CoCreditScore</th>\n",
       "      <th>Extra</th>\n",
       "    </tr>\n",
       "  </thead>\n",
       "  <tbody>\n",
       "    <tr>\n",
       "      <th>1550205</th>\n",
       "      <td>1.117746</td>\n",
       "      <td>-0.996131</td>\n",
       "      <td>-1.531372</td>\n",
       "      <td>-2.909084</td>\n",
       "      <td>-1.164326</td>\n",
       "      <td>-0.904846</td>\n",
       "      <td>0.985658</td>\n",
       "      <td>-0.133009</td>\n",
       "      <td>0.004986</td>\n",
       "      <td>-0.000487</td>\n",
       "    </tr>\n",
       "    <tr>\n",
       "      <th>1137124</th>\n",
       "      <td>1.616116</td>\n",
       "      <td>-0.084862</td>\n",
       "      <td>0.637020</td>\n",
       "      <td>-0.650462</td>\n",
       "      <td>-1.164326</td>\n",
       "      <td>2.717158</td>\n",
       "      <td>-2.276635</td>\n",
       "      <td>-0.133009</td>\n",
       "      <td>0.004986</td>\n",
       "      <td>-0.000487</td>\n",
       "    </tr>\n",
       "    <tr>\n",
       "      <th>541402</th>\n",
       "      <td>1.616116</td>\n",
       "      <td>-1.060646</td>\n",
       "      <td>0.637020</td>\n",
       "      <td>-2.561604</td>\n",
       "      <td>0.816595</td>\n",
       "      <td>0.155253</td>\n",
       "      <td>0.630152</td>\n",
       "      <td>-0.133009</td>\n",
       "      <td>1.013539</td>\n",
       "      <td>-0.000487</td>\n",
       "    </tr>\n",
       "    <tr>\n",
       "      <th>5374781</th>\n",
       "      <td>0.394622</td>\n",
       "      <td>-1.270318</td>\n",
       "      <td>-1.531372</td>\n",
       "      <td>0.276153</td>\n",
       "      <td>-1.164326</td>\n",
       "      <td>0.420278</td>\n",
       "      <td>-1.712007</td>\n",
       "      <td>-0.133009</td>\n",
       "      <td>0.004986</td>\n",
       "      <td>-0.000487</td>\n",
       "    </tr>\n",
       "    <tr>\n",
       "      <th>2269471</th>\n",
       "      <td>1.371817</td>\n",
       "      <td>1.205431</td>\n",
       "      <td>0.637020</td>\n",
       "      <td>0.565720</td>\n",
       "      <td>-1.164326</td>\n",
       "      <td>1.303693</td>\n",
       "      <td>0.253734</td>\n",
       "      <td>-0.133009</td>\n",
       "      <td>0.004986</td>\n",
       "      <td>-0.000487</td>\n",
       "    </tr>\n",
       "  </tbody>\n",
       "</table>\n",
       "</div>"
      ],
      "text/plain": [
       "         OrInterestRate  OrUnpaidPrinc  OrLoanTerm    OrCLTV  NumBorrow    DTIRat  CreditScore  NumUnits  CoCreditScore     Extra\n",
       "1550205        1.117746      -0.996131   -1.531372 -2.909084  -1.164326 -0.904846     0.985658 -0.133009       0.004986 -0.000487\n",
       "1137124        1.616116      -0.084862    0.637020 -0.650462  -1.164326  2.717158    -2.276635 -0.133009       0.004986 -0.000487\n",
       "541402         1.616116      -1.060646    0.637020 -2.561604   0.816595  0.155253     0.630152 -0.133009       1.013539 -0.000487\n",
       "5374781        0.394622      -1.270318   -1.531372  0.276153  -1.164326  0.420278    -1.712007 -0.133009       0.004986 -0.000487\n",
       "2269471        1.371817       1.205431    0.637020  0.565720  -1.164326  1.303693     0.253734 -0.133009       0.004986 -0.000487"
      ]
     },
     "execution_count": 28,
     "metadata": {},
     "output_type": "execute_result"
    }
   ],
   "source": [
    "X_train[CONTINUOUS_COLUMNS].head()"
   ]
  },
  {
   "cell_type": "code",
   "execution_count": 29,
   "metadata": {
    "ExecuteTime": {
     "end_time": "2021-07-14T20:20:25.355141Z",
     "start_time": "2021-07-14T20:20:24.084254Z"
    },
    "scrolled": true
   },
   "outputs": [
    {
     "data": {
      "text/html": [
       "<div>\n",
       "<style scoped>\n",
       "    .dataframe tbody tr th:only-of-type {\n",
       "        vertical-align: middle;\n",
       "    }\n",
       "\n",
       "    .dataframe tbody tr th {\n",
       "        vertical-align: top;\n",
       "    }\n",
       "\n",
       "    .dataframe thead th {\n",
       "        text-align: right;\n",
       "    }\n",
       "</style>\n",
       "<table border=\"1\" class=\"dataframe\">\n",
       "  <thead>\n",
       "    <tr style=\"text-align: right;\">\n",
       "      <th></th>\n",
       "      <th>OrInterestRate</th>\n",
       "      <th>OrUnpaidPrinc</th>\n",
       "      <th>OrLoanTerm</th>\n",
       "      <th>OrCLTV</th>\n",
       "      <th>NumBorrow</th>\n",
       "      <th>DTIRat</th>\n",
       "      <th>CreditScore</th>\n",
       "      <th>NumUnits</th>\n",
       "      <th>CoCreditScore</th>\n",
       "      <th>Extra</th>\n",
       "    </tr>\n",
       "  </thead>\n",
       "  <tbody>\n",
       "    <tr>\n",
       "      <th>1550205</th>\n",
       "      <td>1.117746</td>\n",
       "      <td>-0.996131</td>\n",
       "      <td>-1.531372</td>\n",
       "      <td>-2.909084</td>\n",
       "      <td>-1.164326</td>\n",
       "      <td>-0.904846</td>\n",
       "      <td>0.985658</td>\n",
       "      <td>-0.133009</td>\n",
       "      <td>0.004986</td>\n",
       "      <td>-0.000487</td>\n",
       "    </tr>\n",
       "    <tr>\n",
       "      <th>1137124</th>\n",
       "      <td>1.616116</td>\n",
       "      <td>-0.084862</td>\n",
       "      <td>0.637020</td>\n",
       "      <td>-0.650462</td>\n",
       "      <td>-1.164326</td>\n",
       "      <td>2.717158</td>\n",
       "      <td>-2.276635</td>\n",
       "      <td>-0.133009</td>\n",
       "      <td>0.004986</td>\n",
       "      <td>-0.000487</td>\n",
       "    </tr>\n",
       "    <tr>\n",
       "      <th>541402</th>\n",
       "      <td>1.616116</td>\n",
       "      <td>-1.060646</td>\n",
       "      <td>0.637020</td>\n",
       "      <td>-2.561604</td>\n",
       "      <td>0.816595</td>\n",
       "      <td>0.155253</td>\n",
       "      <td>0.630152</td>\n",
       "      <td>-0.133009</td>\n",
       "      <td>1.013539</td>\n",
       "      <td>-0.000487</td>\n",
       "    </tr>\n",
       "    <tr>\n",
       "      <th>5374781</th>\n",
       "      <td>0.394622</td>\n",
       "      <td>-1.270318</td>\n",
       "      <td>-1.531372</td>\n",
       "      <td>0.276153</td>\n",
       "      <td>-1.164326</td>\n",
       "      <td>0.420278</td>\n",
       "      <td>-1.712007</td>\n",
       "      <td>-0.133009</td>\n",
       "      <td>0.004986</td>\n",
       "      <td>-0.000487</td>\n",
       "    </tr>\n",
       "    <tr>\n",
       "      <th>2269471</th>\n",
       "      <td>1.371817</td>\n",
       "      <td>1.205431</td>\n",
       "      <td>0.637020</td>\n",
       "      <td>0.565720</td>\n",
       "      <td>-1.164326</td>\n",
       "      <td>1.303693</td>\n",
       "      <td>0.253734</td>\n",
       "      <td>-0.133009</td>\n",
       "      <td>0.004986</td>\n",
       "      <td>-0.000487</td>\n",
       "    </tr>\n",
       "  </tbody>\n",
       "</table>\n",
       "</div>"
      ],
      "text/plain": [
       "         OrInterestRate  OrUnpaidPrinc  OrLoanTerm    OrCLTV  NumBorrow    DTIRat  CreditScore  NumUnits  CoCreditScore     Extra\n",
       "1550205        1.117746      -0.996131   -1.531372 -2.909084  -1.164326 -0.904846     0.985658 -0.133009       0.004986 -0.000487\n",
       "1137124        1.616116      -0.084862    0.637020 -0.650462  -1.164326  2.717158    -2.276635 -0.133009       0.004986 -0.000487\n",
       "541402         1.616116      -1.060646    0.637020 -2.561604   0.816595  0.155253     0.630152 -0.133009       1.013539 -0.000487\n",
       "5374781        0.394622      -1.270318   -1.531372  0.276153  -1.164326  0.420278    -1.712007 -0.133009       0.004986 -0.000487\n",
       "2269471        1.371817       1.205431    0.637020  0.565720  -1.164326  1.303693     0.253734 -0.133009       0.004986 -0.000487"
      ]
     },
     "execution_count": 29,
     "metadata": {},
     "output_type": "execute_result"
    }
   ],
   "source": [
    "# fit and transform data on train set\n",
    "scaled_col_data = std_scaler.fit_transform(X_train[CONTINUOUS_COLUMNS])\n",
    "\n",
    "if not use_cpu:\n",
    "    scaled_col_data = scaled_col_data.values\n",
    "\n",
    "for col_num, col in enumerate(CONTINUOUS_COLUMNS):\n",
    "    X_train[col] = scaled_col_data[:, col_num]\n",
    "\n",
    "del scaled_col_data\n",
    "X_train[CONTINUOUS_COLUMNS].head()"
   ]
  },
  {
   "cell_type": "code",
   "execution_count": 30,
   "metadata": {
    "ExecuteTime": {
     "end_time": "2021-07-14T20:20:26.659284Z",
     "start_time": "2021-07-14T20:20:26.604878Z"
    }
   },
   "outputs": [
    {
     "data": {
      "text/plain": [
       "(OrInterestRate    0\n",
       " OrUnpaidPrinc     0\n",
       " OrLoanTerm        0\n",
       " OrCLTV            0\n",
       " NumBorrow         0\n",
       " DTIRat            0\n",
       " CreditScore       0\n",
       " NumUnits          0\n",
       " CoCreditScore     0\n",
       " Extra             0\n",
       " dtype: uint64,\n",
       " OrInterestRate    0\n",
       " OrUnpaidPrinc     0\n",
       " OrLoanTerm        0\n",
       " OrCLTV            0\n",
       " NumBorrow         0\n",
       " DTIRat            0\n",
       " CreditScore       0\n",
       " NumUnits          0\n",
       " CoCreditScore     0\n",
       " Extra             0\n",
       " dtype: uint64)"
      ]
     },
     "execution_count": 30,
     "metadata": {},
     "output_type": "execute_result"
    }
   ],
   "source": [
    "X_train[CONTINUOUS_COLUMNS].isna().sum(), X_test[CONTINUOUS_COLUMNS].isna().sum()"
   ]
  },
  {
   "cell_type": "code",
   "execution_count": 31,
   "metadata": {
    "ExecuteTime": {
     "end_time": "2021-07-14T20:20:28.746527Z",
     "start_time": "2021-07-14T20:20:28.688524Z"
    }
   },
   "outputs": [],
   "source": [
    "# transform data on test set\n",
    "test_scaled_col_data = std_scaler.transform(X_test[CONTINUOUS_COLUMNS])\n",
    "if not use_cpu:\n",
    "    test_scaled_col_data = test_scaled_col_data.values\n",
    "    \n",
    "for col_num, col in enumerate(CONTINUOUS_COLUMNS):\n",
    "    X_test[col] = test_scaled_col_data[:, col_num]\n",
    "del test_scaled_col_data"
   ]
  },
  {
   "cell_type": "code",
   "execution_count": 32,
   "metadata": {
    "ExecuteTime": {
     "end_time": "2021-07-14T20:20:29.378545Z",
     "start_time": "2021-07-14T20:20:29.366774Z"
    }
   },
   "outputs": [
    {
     "data": {
      "text/plain": [
       "1550205     0\n",
       "1137124     1\n",
       "541402      0\n",
       "5374781     0\n",
       "2269471     0\n",
       "           ..\n",
       "9214207     0\n",
       "10613369    0\n",
       "4343224     0\n",
       "8759119     0\n",
       "2998321     0\n",
       "Name: Default, Length: 10109124, dtype: int64"
      ]
     },
     "execution_count": 32,
     "metadata": {},
     "output_type": "execute_result"
    }
   ],
   "source": [
    "y_train"
   ]
  },
  {
   "cell_type": "markdown",
   "metadata": {
    "tags": []
   },
   "source": [
    "### OPTIONAL: Apply random over sampler of minority class"
   ]
  },
  {
   "cell_type": "code",
   "execution_count": 33,
   "metadata": {
    "ExecuteTime": {
     "end_time": "2021-07-13T14:13:13.502615Z",
     "start_time": "2021-07-13T14:13:09.597506Z"
    }
   },
   "outputs": [],
   "source": [
    "# from imblearn.over_sampling import RandomOverSampler\n",
    "# from imblearn.combine import SMOTEENN\n",
    "\n",
    "# #oversampler = SMOTEENN()\n",
    "# oversampler = RandomOverSampler(sampling_strategy=.90) #was: .90 Apply to only X_train, y_train\n",
    "# if not use_cpu:\n",
    "#     X_train, y_train = oversampler.fit_resample(X_train, y_train)\n",
    "# else:\n",
    "#     X_train, y_train = oversampler.fit_resample(X_train.as_matrix(), cp.asnumpy(y_train))\n",
    "#     X_train = DataFrame(X_train, columns=CATEGORICAL_COLUMNS + CONTINUOUS_COLUMNS)\n",
    "#     y_train = Series(y_train, name=LABEL_COLUMNS[0])\n",
    "\n",
    "# print(X_train.shape, y_train.shape)"
   ]
  },
  {
   "cell_type": "markdown",
   "metadata": {
    "tags": []
   },
   "source": [
    "### Model Definition"
   ]
  },
  {
   "cell_type": "code",
   "execution_count": 34,
   "metadata": {
    "ExecuteTime": {
     "end_time": "2021-07-15T00:51:32.002158Z",
     "start_time": "2021-07-15T00:51:31.996466Z"
    }
   },
   "outputs": [
    {
     "name": "stdout",
     "output_type": "stream",
     "text": [
      "Channel 3\n",
      "FTHomeBuyer 3\n",
      "LoanPurpose 4\n",
      "MortInsType 2\n",
      "OccStatus 3\n",
      "ProductType 1\n",
      "PropertyState 54\n",
      "PropertyType 5\n",
      "SellerName 49\n",
      "Zip 961\n"
     ]
    }
   ],
   "source": [
    "cards = []\n",
    "for key in sorted(mappings):\n",
    "    print(key, len(set(mappings[key])))\n",
    "    cards.append(len(set(mappings[key])))"
   ]
  },
  {
   "cell_type": "code",
   "execution_count": 35,
   "metadata": {},
   "outputs": [
    {
     "name": "stdout",
     "output_type": "stream",
     "text": [
      "############################################################################\n",
      "##\n",
      "## Copyright (C) 2021 NVIDIA Corporation.  All rights reserved.\n",
      "##\n",
      "## NVIDIA Sample Code\n",
      "##\n",
      "## Please refer to the NVIDIA end user license agreement (EULA) associated\n",
      "## with this source code for terms and conditions that govern your use of\n",
      "## this software. Any use, reproduction, disclosure, or distribution of\n",
      "## this software and related documentation outside the terms of the EULA\n",
      "## is strictly prohibited.\n",
      "##\n",
      "############################################################################\n",
      "\n",
      "import torch\n",
      "import torch.nn as nn\n",
      "\n",
      "class binaryClassification(nn.Module):\n",
      "    def __init__(self, cat_cards, numer_dims=10):\n",
      "        \"\"\"\n",
      "        cat_cards (list): list of integers, where each integer is the cardinality of the SORTED column names\n",
      "        numer_dims (int): number of numerical dimensions\n",
      "        \"\"\"\n",
      "        super(binaryClassification, self).__init__()\n",
      "        self.num_cats = len(cat_cards)\n",
      "        \n",
      "#         Uncomment lines below to enable categorical embeddings as well as line in forward method\n",
      "#         self.embeddings = nn.ModuleList([nn.Embedding(cat_card, min(50, cat_card//2 + 1)) for \n",
      "#                                          cat_card in cat_cards])\n",
      "        \n",
      "#         total_embed_dims = sum(i.embedding_dim for i in self.embeddings)\n",
      "        \n",
      "        # Number of input features is X_train.shape[1].\n",
      "#         self.layer_1 = nn.Linear(numer_dims + total_embed_dims, 512)\n",
      "\n",
      "        self.layer_1 = nn.Linear(self.num_cats +  numer_dims, 512)\n",
      "        self.layer_2 = nn.Linear(512, 512)\n",
      "        self.layer_3 = nn.Linear(512, 512)\n",
      "        self.layer_4 = nn.Linear(512, 512)\n",
      "        self.layer_5 = nn.Linear(512, 512)\n",
      "        self.layer_out = nn.Linear(512, 1) \n",
      "        \n",
      "        self.prelu1 = nn.PReLU()\n",
      "        self.prelu2 = nn.PReLU()\n",
      "        self.prelu3 = nn.PReLU()\n",
      "        self.prelu4 = nn.PReLU()\n",
      "        self.prelu5 = nn.PReLU()\n",
      "\n",
      "        self.dropout1 = nn.Dropout(p=0.1)\n",
      "        self.dropout2 = nn.Dropout(p=0.1)\n",
      "        self.dropout3 = nn.Dropout(p=0.1)\n",
      "        self.dropout4 = nn.Dropout(p=0.1)\n",
      "\n",
      "\n",
      "        self.batchnorm1 = nn.BatchNorm1d(512)\n",
      "        self.batchnorm2 = nn.BatchNorm1d(512)\n",
      "        self.batchnorm3 = nn.BatchNorm1d(512)\n",
      "        self.batchnorm4 = nn.BatchNorm1d(512)\n",
      "        self.batchnorm5 = nn.BatchNorm1d(512)\n",
      "        \n",
      "    def forward(self, cat_inputs, numer_inputs):\n",
      "                \n",
      "#         inputs = torch.cat([self.embeddings[col](cat_inputs[:, col]) for col in range(self.num_cats)]+[numer_inputs], dim=1)\n",
      "        \n",
      "        inputs = torch.cat([cat_inputs, numer_inputs], dim=1)\n",
      "        \n",
      "        x = self.prelu1(self.layer_1(inputs))\n",
      "        x = self.batchnorm1(x)\n",
      "        x = self.dropout1(x)\n",
      "        x = self.prelu2(self.layer_2(x))\n",
      "        x = self.batchnorm2(x)\n",
      "        x = self.dropout2(x)\n",
      "        x = self.prelu3(self.layer_3(x))\n",
      "        x = self.batchnorm3(x)\n",
      "        x = self.dropout3(x)\n",
      "        x = self.prelu4(self.layer_4(x))\n",
      "        x = self.batchnorm4(x)\n",
      "        x = self.dropout4(x)\n",
      "        x = self.prelu5(self.layer_5(x))\n",
      "        x = self.batchnorm5(x)\n",
      "        x = self.layer_out(x)\n",
      "        return x\n"
     ]
    }
   ],
   "source": [
    "# view classifier model - it is imported above\n",
    "!cat /rapids/notebooks/clfmodel.py"
   ]
  },
  {
   "cell_type": "code",
   "execution_count": 36,
   "metadata": {},
   "outputs": [],
   "source": [
    "def save_checkpoint(model, optimizer, epoch: int, best_score, file_name, threshold, save_path: str, k_fold=0):\n",
    "    \"\"\"\n",
    "    Save checkpoint to pytorch .pt file.\n",
    "    Args:\n",
    "        model: Instance of Pytorch model.\n",
    "        optimizer: pytorch optimizer ex. torch.optim.Adam() instance\n",
    "        epoch: epoch number\n",
    "        best_score: model best score acccoring to appropriate metric.\n",
    "                    Can be multiple, just save as a dict. of {'metric': score}\n",
    "        k_fold: int or string for K-folds.\n",
    "        file_name (str): filename usually including the name of the model.:\n",
    "\n",
    "    Returns:\n",
    "\n",
    "    \"\"\"\n",
    "    checkpoint = {\n",
    "        'model': model.state_dict(),\n",
    "        'optimizer': optimizer.state_dict(),\n",
    "        'k_fold': k_fold,\n",
    "        'epoch': epoch,\n",
    "        'best_score': best_score,\n",
    "        'threshold': threshold\n",
    "    }\n",
    "    if not save_path:\n",
    "        save_path = '.'\n",
    "    os.makedirs(f'{save_path}/checkpoints/', exist_ok=True)\n",
    "\n",
    "    torch.save(checkpoint, f'{save_path}/checkpoints/{file_name}.pt')\n",
    "\n",
    "\n",
    "def load_checkpoint(file_name: str, model, device: str, save_path: str):\n",
    "    \"\"\"\n",
    "    Load Checkpoint from pytorch .pt file.\n",
    "\n",
    "    Args:\n",
    "        device: str\n",
    "        file_name (str): filename usually including the name of the model.\n",
    "        model_cls: (uninstantiated) class belonging to a custom nn.Module\n",
    "        **kwargs:\n",
    "\n",
    "    Returns:\n",
    "\n",
    "    \"\"\"\n",
    "    # instantiate the model and pass in input params as kwargs.\n",
    "    model = model.to(device)\n",
    "    if not save_path:\n",
    "        save_path = '.'\n",
    "    checkpoint = torch.load(f'{save_path}/checkpoints/{file_name}.pt')\n",
    "    model.load_state_dict(checkpoint['model'])\n",
    "    model.eval()\n",
    "    return model, checkpoint['threshold']"
   ]
  },
  {
   "cell_type": "code",
   "execution_count": 37,
   "metadata": {},
   "outputs": [],
   "source": [
    "def train_epoch(model, loader, optimizer, loss_func, metric, device, epoch=''):\n",
    "    model.train()\n",
    "    model.zero_grad()\n",
    "    train_loss = torch.zeros(len(loader), requires_grad=False, device=device)\n",
    "    train_acc = torch.zeros(len(loader), requires_grad=False, device=device)\n",
    "    batch = 0\n",
    "    pbar = tqdm(loader)\n",
    "    \n",
    "    train_logits = []\n",
    "    train_targets = []\n",
    "    \n",
    "\n",
    "    for x_cat, x_cont, target in pbar:\n",
    "        # make prediction\n",
    "        logits = model(x_cat, x_cont).squeeze()\n",
    "        \n",
    "        # calculate loss\n",
    "        loss = loss_func(logits, target)  # criterion\n",
    "        loss.backward()\n",
    "        optimizer.step()\n",
    "        for param in model.parameters():\n",
    "            param.grad = None\n",
    "        \n",
    "        train_loss[batch] = loss.detach()\n",
    "        train_acc[batch] = metric(logits, target)\n",
    "        \n",
    "        train_targets.append(target.detach())\n",
    "        train_logits.append(logits.detach())\n",
    "        \n",
    "        batch += 1\n",
    "        if batch == len(loader) or not batch %100:\n",
    "            pbar.set_description(f'Epoch: {epoch} mean loss {train_loss[:batch].mean().cpu(): 0.5f}, ' \n",
    "                                 f'mean acc: {train_acc[:batch].mean().cpu(): 0.5f}')\n",
    "        \n",
    "    return train_loss, train_logits, train_targets  \n",
    "\n",
    "\n",
    "def val_epoch(model, loader, loss_func, device):\n",
    "    model.eval()\n",
    "    val_logits = []\n",
    "    val_targets = []\n",
    "    val_loss = torch.zeros(len(loader), requires_grad=False, device=device)\n",
    "    \n",
    "    with torch.no_grad():\n",
    "        batch=0\n",
    "        for x_cat, x_cont, target in tqdm(iter(loader)):\n",
    "            # make prediction\n",
    "            logits = model(x_cat, x_cont).squeeze()\n",
    "            \n",
    "            # calculate loss\n",
    "            loss = loss_func(logits, target)  # criterion\n",
    "            \n",
    "            # save some data\n",
    "            val_targets.append(target.detach())\n",
    "            val_logits.append(logits.detach())\n",
    "            val_loss[batch] = loss.detach()\n",
    "            batch+=1\n",
    "        val_loss = val_loss.mean()\n",
    "    return val_loss, val_logits, val_targets\n",
    "\n",
    "\n",
    "def calc_metrics(model, _targets, _logits, tst_loader, loss_func, device, use_cpu):\n",
    "    # scoring on train\n",
    "    if not use_cpu:\n",
    "        _targets = cp.asarray(torch.cat(_targets)).astype(int)\n",
    "        _probs = cp.asarray(torch.sigmoid(torch.cat(_logits)))\n",
    "    else:\n",
    "        _targets = np.array(torch.cat(_targets)).astype(int)\n",
    "        _probs = np.array(torch.sigmoid(torch.cat(_logits)))\n",
    "\n",
    "    # # calc precision, recall and find threshold for maximum F1 score on train.\n",
    "    precision, recall, thresholds = precision_recall_curve(_targets, _probs)\n",
    "    \n",
    "    threshold_idx = argmax((2 * precision * recall) / (precision + recall))\n",
    "    threshold = thresholds[threshold_idx]\n",
    "\n",
    "    # now on test set\n",
    "    _, _logits, _targets = val_epoch(model, tst_loader, loss_func, device)\n",
    "    if not use_cpu:\n",
    "        _targets = cp.asarray(torch.cat(_targets)).astype(int)\n",
    "        _probs = cp.asarray(torch.sigmoid(torch.cat(_logits)))\n",
    "    else:\n",
    "        _targets = np.array(torch.cat(_targets)).astype(int)\n",
    "        _probs = np.array(torch.sigmoid(torch.cat(_logits)))\n",
    "    \n",
    "    precision, recall, thresholds = precision_recall_curve(_targets, _probs)\n",
    "    # find threshold index closest to threshold value on train set.\n",
    "    \n",
    "    if not use_cpu:\n",
    "        threshold_idx = cp.argmin(cp.abs(thresholds - threshold))\n",
    "    else:\n",
    "        threshold_idx = np.argmin(np.abs(thresholds - threshold))\n",
    "    \n",
    "    pred_labels = (_probs >= threshold).astype(int)\n",
    "\n",
    "    auc_sc = roc_auc_score(_targets, _probs)\n",
    "    acc_sc = accuracy_score(_targets, pred_labels)\n",
    "    f1_sc = (2 * precision[threshold_idx] * recall[threshold_idx]) / (precision[threshold_idx] + recall[threshold_idx])\n",
    "    conf_mat = confusion_matrix(_targets, pred_labels)\n",
    "    print(f'F1: {f1_sc.item(): 0.4f} '\n",
    "          f'AUC: {auc_sc: 0.4f} '\n",
    "          f'Pr: {precision[threshold_idx].item(): 0.4f} '\n",
    "          f'Rec: {recall[threshold_idx].item(): 0.4f} ', \n",
    "          f'Acc: {acc_sc: 0.4f} '\n",
    "          f'Thresh: {threshold.item(): 0.4f} '\n",
    "          f'Pred Def: {pred_labels.sum().item()} '\n",
    "          f'Actual: {int(_targets.sum())} '\n",
    "          )\n",
    "    print('Confusion Matrix: \\n:', conf_mat)\n",
    "    return f1_sc.item(), threshold.item()\n",
    "    \n",
    "    \n",
    "def test_em(model, loader, loss_func, threshold, device, use_cpu, save_path: str = None):\n",
    "    sns.set()\n",
    "    test_loss, test_logits, test_targets = val_epoch(model, loader, loss_func, device)\n",
    "    \n",
    "    # scoring\n",
    "    if not use_cpu:\n",
    "        test_targets = cp.asarray(torch.cat(test_targets)).astype(int)\n",
    "        test_probs = cp.asarray(torch.sigmoid(torch.cat(test_logits)))\n",
    "    else:\n",
    "        test_targets = torch.cat(test_targets).numpy().astype(int)\n",
    "        test_probs = torch.sigmoid(torch.cat(test_logits)).numpy()\n",
    "    pred_labels = (test_probs >= threshold).astype(int)\n",
    "\n",
    "    precision, recall, thresholds = precision_recall_curve(test_targets, test_probs)\n",
    "    \n",
    "    if not use_cpu:\n",
    "        threshold_idx = cp.argmin(cp.abs(thresholds - threshold))\n",
    "    else:\n",
    "        threshold_idx = np.argmin(np.abs(thresholds - threshold))\n",
    "    \n",
    "    auc_sc = roc_auc_score(test_targets, test_probs)\n",
    "    acc_sc = accuracy_score(test_targets, pred_labels)\n",
    "    f1_sc = (2 * precision[threshold_idx] * recall[threshold_idx]) / (precision[threshold_idx] + recall[threshold_idx])\n",
    "    conf_mat = confusion_matrix(test_targets, pred_labels)\n",
    "    \n",
    "    auprc= auc(cupy2numpy(recall, not use_cpu), cupy2numpy(precision, not use_cpu))\n",
    "\n",
    "    print(f'Thresh: {threshold: 0.4f}', f'Prec: {precision[threshold_idx].item(): 0.4f}',\n",
    "          f'Rec: {recall[threshold_idx].item(): 0.4f}', f'Pred Def: {pred_labels.sum()}',\n",
    "          f'Actual: {int(test_targets.sum())}', f'AUC: {auc_sc: 0.4f}',\n",
    "          f'Acc: {acc_sc: 0.4f}',\n",
    "          f'F1: {f1_sc.item(): 0.4f}',\n",
    "          f'AUPRC: {auprc: 0.4f}',\n",
    "         )\n",
    "    print('Confusion Matrix: \\n:', conf_mat)\n",
    "    \n",
    "    fig, ax = plt.subplots(1, 2, figsize=(12, 6))\n",
    "    no_skill = cupy2numpy(test_targets.mean(), not use_cpu) \n",
    "    ax[0].plot(cupy2numpy(recall, not use_cpu), cupy2numpy(precision, not use_cpu), color='darkorange', lw=1, label='PR curve (area = %0.2f)' % auprc)\n",
    "    ax[0].plot([0,1], [no_skill, no_skill], color='navy', linestyle='--', label='No Skill')\n",
    "    ax[0].plot(cupy2numpy(recall[threshold_idx], not use_cpu), cupy2numpy(precision[threshold_idx], not use_cpu), 'ro', label='F1 threshold')\n",
    "    ax[0].set_xlabel('Recall')\n",
    "    ax[0].set_ylabel('Precision')\n",
    "    ax[0].set_xlim([-0.02, 1.02])\n",
    "    ax[0].set_ylim([-0.02, 1.02])\n",
    "    ax[0].set_title('Precision-Recall curve')\n",
    "    ax[0].legend()\n",
    "    \n",
    "    fpr, tpr, threshold = roc_curve(cupy2numpy(test_targets, not use_cpu), cupy2numpy(test_probs, not use_cpu))\n",
    "    roc_auc = auc(fpr, tpr)\n",
    "\n",
    "    ax[1].set_title('Receiver Operating Characteristic')\n",
    "    ax[1].plot(fpr, tpr, 'b', label = 'ROC curve (area = %0.2f)' % roc_auc)\n",
    "    ax[1].legend(loc = 'lower right')\n",
    "    ax[1].plot([0, 1], [0, 1],'r--')\n",
    "    ax[1].set_xlim([-0.02, 1.02])\n",
    "    ax[1].set_ylim([-0.02, 1.02])\n",
    "    ax[1].set_ylabel('True Positive Rate')\n",
    "    ax[1].set_xlabel('False Positive Rate')   \n",
    "    \n",
    "    plt.tight_layout()\n",
    "    if save_path and isinstance(save_path, str):\n",
    "        plt.savefig(save_path, dpi=600)\n",
    "    print(\"Classification Report for Pytorch Classifier: \\n\",\n",
    "          classification_report(cupy2numpy(test_targets, not use_cpu), cupy2numpy(pred_labels, not use_cpu)))\n",
    "    return test_targets, pred_labels"
   ]
  },
  {
   "cell_type": "markdown",
   "metadata": {
    "tags": []
   },
   "source": [
    "### Pick ONE of NVTabular (recommended w/ GPU) OR Pytorch Dataloader"
   ]
  },
  {
   "cell_type": "code",
   "execution_count": 38,
   "metadata": {},
   "outputs": [],
   "source": [
    "# for explainability later.\n",
    "y_pos = y_test.loc[y_test==1].sample(n=BATCH_SIZE, random_state=8675309)\n",
    "y_neg = y_test.loc[y_test==0].sample(n=BATCH_SIZE, random_state=8675309)\n",
    "X_test_pos = X_test.loc[y_pos.index]\n",
    "X_test_neg = X_test.loc[y_neg.index]\n"
   ]
  },
  {
   "cell_type": "code",
   "execution_count": 39,
   "metadata": {},
   "outputs": [],
   "source": [
    "pyt_data_prep_time = time.time()"
   ]
  },
  {
   "cell_type": "markdown",
   "metadata": {
    "tags": []
   },
   "source": [
    "### Pytorch Dataloader and Dataset"
   ]
  },
  {
   "cell_type": "code",
   "execution_count": 36,
   "metadata": {
    "ExecuteTime": {
     "end_time": "2021-07-14T20:21:58.704930Z",
     "start_time": "2021-07-14T20:21:58.702373Z"
    }
   },
   "outputs": [],
   "source": [
    "from torch.utils.data import Dataset, DataLoader"
   ]
  },
  {
   "cell_type": "code",
   "execution_count": 37,
   "metadata": {
    "ExecuteTime": {
     "end_time": "2021-07-14T20:23:22.802704Z",
     "start_time": "2021-07-14T20:23:22.764268Z"
    }
   },
   "outputs": [
    {
     "data": {
      "text/plain": [
       "(10109124, 20)"
      ]
     },
     "execution_count": 37,
     "metadata": {},
     "output_type": "execute_result"
    }
   ],
   "source": [
    "X_train.shape"
   ]
  },
  {
   "cell_type": "code",
   "execution_count": 38,
   "metadata": {
    "ExecuteTime": {
     "end_time": "2021-07-14T20:32:39.295879Z",
     "start_time": "2021-07-14T20:32:39.226206Z"
    }
   },
   "outputs": [
    {
     "data": {
      "text/html": [
       "<div>\n",
       "<style scoped>\n",
       "    .dataframe tbody tr th:only-of-type {\n",
       "        vertical-align: middle;\n",
       "    }\n",
       "\n",
       "    .dataframe tbody tr th {\n",
       "        vertical-align: top;\n",
       "    }\n",
       "\n",
       "    .dataframe thead th {\n",
       "        text-align: right;\n",
       "    }\n",
       "</style>\n",
       "<table border=\"1\" class=\"dataframe\">\n",
       "  <thead>\n",
       "    <tr style=\"text-align: right;\">\n",
       "      <th></th>\n",
       "      <th>OrInterestRate</th>\n",
       "      <th>OrUnpaidPrinc</th>\n",
       "      <th>OrLoanTerm</th>\n",
       "      <th>OrCLTV</th>\n",
       "      <th>NumBorrow</th>\n",
       "      <th>DTIRat</th>\n",
       "      <th>CreditScore</th>\n",
       "      <th>NumUnits</th>\n",
       "      <th>CoCreditScore</th>\n",
       "      <th>Extra</th>\n",
       "    </tr>\n",
       "  </thead>\n",
       "  <tbody>\n",
       "    <tr>\n",
       "      <th>1550205</th>\n",
       "      <td>1.117743</td>\n",
       "      <td>-0.996140</td>\n",
       "      <td>-1.531366</td>\n",
       "      <td>-2.909132</td>\n",
       "      <td>-1.164328</td>\n",
       "      <td>-0.904860</td>\n",
       "      <td>0.985665</td>\n",
       "      <td>-0.132996</td>\n",
       "      <td>0.005000</td>\n",
       "      <td>-0.000504</td>\n",
       "    </tr>\n",
       "    <tr>\n",
       "      <th>1137124</th>\n",
       "      <td>1.616121</td>\n",
       "      <td>-0.084862</td>\n",
       "      <td>0.637021</td>\n",
       "      <td>-0.650480</td>\n",
       "      <td>-1.164328</td>\n",
       "      <td>2.717126</td>\n",
       "      <td>-2.276593</td>\n",
       "      <td>-0.132996</td>\n",
       "      <td>0.005000</td>\n",
       "      <td>-0.000504</td>\n",
       "    </tr>\n",
       "    <tr>\n",
       "      <th>541402</th>\n",
       "      <td>1.616121</td>\n",
       "      <td>-1.060655</td>\n",
       "      <td>0.637021</td>\n",
       "      <td>-2.561647</td>\n",
       "      <td>0.816602</td>\n",
       "      <td>0.155234</td>\n",
       "      <td>0.630162</td>\n",
       "      <td>-0.132996</td>\n",
       "      <td>1.013563</td>\n",
       "      <td>-0.000504</td>\n",
       "    </tr>\n",
       "    <tr>\n",
       "      <th>5374781</th>\n",
       "      <td>0.394607</td>\n",
       "      <td>-1.270329</td>\n",
       "      <td>-1.531366</td>\n",
       "      <td>0.276147</td>\n",
       "      <td>-1.164328</td>\n",
       "      <td>0.420257</td>\n",
       "      <td>-1.711971</td>\n",
       "      <td>-0.132996</td>\n",
       "      <td>0.005000</td>\n",
       "      <td>-0.000504</td>\n",
       "    </tr>\n",
       "    <tr>\n",
       "      <th>2269471</th>\n",
       "      <td>1.371818</td>\n",
       "      <td>1.205442</td>\n",
       "      <td>0.637021</td>\n",
       "      <td>0.565717</td>\n",
       "      <td>-1.164328</td>\n",
       "      <td>1.303668</td>\n",
       "      <td>0.253748</td>\n",
       "      <td>-0.132996</td>\n",
       "      <td>0.005000</td>\n",
       "      <td>-0.000504</td>\n",
       "    </tr>\n",
       "    <tr>\n",
       "      <th>...</th>\n",
       "      <td>...</td>\n",
       "      <td>...</td>\n",
       "      <td>...</td>\n",
       "      <td>...</td>\n",
       "      <td>...</td>\n",
       "      <td>...</td>\n",
       "      <td>...</td>\n",
       "      <td>...</td>\n",
       "      <td>...</td>\n",
       "      <td>...</td>\n",
       "    </tr>\n",
       "    <tr>\n",
       "      <th>9214207</th>\n",
       "      <td>-0.826907</td>\n",
       "      <td>1.584468</td>\n",
       "      <td>0.637021</td>\n",
       "      <td>-0.997965</td>\n",
       "      <td>0.816602</td>\n",
       "      <td>-1.964953</td>\n",
       "      <td>0.567426</td>\n",
       "      <td>-0.132996</td>\n",
       "      <td>0.605517</td>\n",
       "      <td>-0.000504</td>\n",
       "    </tr>\n",
       "    <tr>\n",
       "      <th>10613369</th>\n",
       "      <td>-1.193361</td>\n",
       "      <td>-0.673564</td>\n",
       "      <td>0.637021</td>\n",
       "      <td>0.623631</td>\n",
       "      <td>-1.164328</td>\n",
       "      <td>-0.639836</td>\n",
       "      <td>0.671986</td>\n",
       "      <td>-0.132996</td>\n",
       "      <td>0.005000</td>\n",
       "      <td>-0.000504</td>\n",
       "    </tr>\n",
       "    <tr>\n",
       "      <th>4343224</th>\n",
       "      <td>0.150304</td>\n",
       "      <td>-0.213893</td>\n",
       "      <td>-1.531366</td>\n",
       "      <td>-0.824222</td>\n",
       "      <td>0.816602</td>\n",
       "      <td>-0.904860</td>\n",
       "      <td>-0.018107</td>\n",
       "      <td>-0.132996</td>\n",
       "      <td>0.856622</td>\n",
       "      <td>-0.000504</td>\n",
       "    </tr>\n",
       "    <tr>\n",
       "      <th>8759119</th>\n",
       "      <td>-1.559815</td>\n",
       "      <td>0.519968</td>\n",
       "      <td>-1.531366</td>\n",
       "      <td>0.565717</td>\n",
       "      <td>-1.164328</td>\n",
       "      <td>-0.816519</td>\n",
       "      <td>1.194784</td>\n",
       "      <td>-0.132996</td>\n",
       "      <td>0.005000</td>\n",
       "      <td>-0.000504</td>\n",
       "    </tr>\n",
       "    <tr>\n",
       "      <th>2998321</th>\n",
       "      <td>0.028153</td>\n",
       "      <td>1.479631</td>\n",
       "      <td>0.637021</td>\n",
       "      <td>-0.534652</td>\n",
       "      <td>0.816602</td>\n",
       "      <td>-0.904860</td>\n",
       "      <td>0.797457</td>\n",
       "      <td>-0.132996</td>\n",
       "      <td>1.139116</td>\n",
       "      <td>-0.000504</td>\n",
       "    </tr>\n",
       "  </tbody>\n",
       "</table>\n",
       "<p>10109124 rows × 10 columns</p>\n",
       "</div>"
      ],
      "text/plain": [
       "          OrInterestRate  OrUnpaidPrinc  OrLoanTerm    OrCLTV  NumBorrow    DTIRat  CreditScore  NumUnits  CoCreditScore     Extra\n",
       "1550205         1.117743      -0.996140   -1.531366 -2.909132  -1.164328 -0.904860     0.985665 -0.132996       0.005000 -0.000504\n",
       "1137124         1.616121      -0.084862    0.637021 -0.650480  -1.164328  2.717126    -2.276593 -0.132996       0.005000 -0.000504\n",
       "541402          1.616121      -1.060655    0.637021 -2.561647   0.816602  0.155234     0.630162 -0.132996       1.013563 -0.000504\n",
       "5374781         0.394607      -1.270329   -1.531366  0.276147  -1.164328  0.420257    -1.711971 -0.132996       0.005000 -0.000504\n",
       "2269471         1.371818       1.205442    0.637021  0.565717  -1.164328  1.303668     0.253748 -0.132996       0.005000 -0.000504\n",
       "...                  ...            ...         ...       ...        ...       ...          ...       ...            ...       ...\n",
       "9214207        -0.826907       1.584468    0.637021 -0.997965   0.816602 -1.964953     0.567426 -0.132996       0.605517 -0.000504\n",
       "10613369       -1.193361      -0.673564    0.637021  0.623631  -1.164328 -0.639836     0.671986 -0.132996       0.005000 -0.000504\n",
       "4343224         0.150304      -0.213893   -1.531366 -0.824222   0.816602 -0.904860    -0.018107 -0.132996       0.856622 -0.000504\n",
       "8759119        -1.559815       0.519968   -1.531366  0.565717  -1.164328 -0.816519     1.194784 -0.132996       0.005000 -0.000504\n",
       "2998321         0.028153       1.479631    0.637021 -0.534652   0.816602 -0.904860     0.797457 -0.132996       1.139116 -0.000504\n",
       "\n",
       "[10109124 rows x 10 columns]"
      ]
     },
     "execution_count": 38,
     "metadata": {},
     "output_type": "execute_result"
    }
   ],
   "source": [
    "X_train[CONTINUOUS_COLUMNS]"
   ]
  },
  {
   "cell_type": "code",
   "execution_count": 53,
   "metadata": {},
   "outputs": [
    {
     "data": {
      "text/plain": [
       "['Channel',\n",
       " 'FTHomeBuyer',\n",
       " 'LoanPurpose',\n",
       " 'MortInsType',\n",
       " 'OccStatus',\n",
       " 'ProductType',\n",
       " 'PropertyState',\n",
       " 'PropertyType',\n",
       " 'SellerName',\n",
       " 'Zip']"
      ]
     },
     "execution_count": 53,
     "metadata": {},
     "output_type": "execute_result"
    }
   ],
   "source": [
    "CATEGORICAL_COLUMNS"
   ]
  },
  {
   "cell_type": "code",
   "execution_count": 149,
   "metadata": {
    "ExecuteTime": {
     "end_time": "2021-07-14T21:20:46.332924Z",
     "start_time": "2021-07-14T21:20:46.275848Z"
    }
   },
   "outputs": [],
   "source": [
    "## train data\n",
    "class PytData(Dataset):\n",
    "\n",
    "    def __init__(self, X_data, y_data, cont_cols, cat_cols, device):\n",
    "        if device.type != 'cpu':\n",
    "            self.X_data_cont = torch.tensor(X_data[cont_cols].as_gpu_matrix(), dtype=torch.float32, device=device)\n",
    "            self.X_data_cat = torch.tensor(X_data[cat_cols].as_gpu_matrix(), dtype=torch.int64, device=device)\n",
    "        else:\n",
    "            self.X_data_cont = torch.tensor(X_data[cont_cols].values, dtype=torch.float32, device=device)\n",
    "            self.X_data_cat = torch.tensor(X_data[cat_cols].values, dtype=torch.int64, device=device)\n",
    "        \n",
    "        assert len(cont_cols) == self.X_data_cont.shape[1]\n",
    "        assert len(cat_cols) == self.X_data_cat.shape[1]\n",
    "        \n",
    "        self.y_data = torch.tensor(y_data.values, dtype=torch.float32, device=device)\n",
    "        \n",
    "    def __getitem__(self, index):\n",
    "        return self.X_data_cat[index], self.X_data_cont[index], self.y_data[index]\n",
    "        \n",
    "    def __len__ (self):\n",
    "        return len(self.y_data)\n",
    "\n",
    "\n",
    "train_data = PytData(X_train, y_train, CONTINUOUS_COLUMNS, CATEGORICAL_COLUMNS, device)\n",
    "test_data = PytData(X_test, y_test, CONTINUOUS_COLUMNS, CATEGORICAL_COLUMNS, device)\n",
    "\n",
    "train_loader = DataLoader(dataset=train_data, batch_size=BATCH_SIZE, shuffle=True)\n",
    "test_loader = DataLoader(dataset=test_data, batch_size=BATCH_SIZE)\n",
    "\n",
    "#for explainability later\n",
    "pos_data = PytData(X_test_pos, y_pos, CONTINUOUS_COLUMNS, CATEGORICAL_COLUMNS, device)\n",
    "neg_data = PytData(X_test_neg, y_neg, CONTINUOUS_COLUMNS, CATEGORICAL_COLUMNS, device)\n",
    "\n",
    "pos_loader = DataLoader(dataset=pos_data, batch_size=BATCH_SIZE)\n",
    "neg_loader = DataLoader(dataset=neg_data, batch_size=BATCH_SIZE)\n",
    "\n",
    "with open(f'{clean_data_path}/pos_loader.pkl', 'wb') as f:\n",
    "    pickle.dump(pos_loader, f)\n",
    "    \n",
    "with open(f'{clean_data_path}/neg_loader.pkl', 'wb') as f:\n",
    "    pickle.dump(neg_loader, f)\n",
    "\n",
    "with open(f'{clean_data_path}/test_loader.pkl', 'wb') as f:\n",
    "    pickle.dump(test_loader, f)\n"
   ]
  },
  {
   "cell_type": "markdown",
   "metadata": {
    "heading_collapsed": "true",
    "tags": []
   },
   "source": [
    "### Model Training - Pytorch Dataloader"
   ]
  },
  {
   "cell_type": "code",
   "execution_count": 150,
   "metadata": {
    "ExecuteTime": {
     "end_time": "2021-07-15T00:52:35.695727Z",
     "start_time": "2021-07-15T00:52:33.332346Z"
    }
   },
   "outputs": [
    {
     "name": "stdout",
     "output_type": "stream",
     "text": [
      "binaryClassification(\n",
      "  (layer_1): Linear(in_features=20, out_features=512, bias=True)\n",
      "  (layer_2): Linear(in_features=512, out_features=512, bias=True)\n",
      "  (layer_3): Linear(in_features=512, out_features=512, bias=True)\n",
      "  (layer_4): Linear(in_features=512, out_features=512, bias=True)\n",
      "  (layer_5): Linear(in_features=512, out_features=512, bias=True)\n",
      "  (layer_out): Linear(in_features=512, out_features=1, bias=True)\n",
      "  (prelu1): PReLU(num_parameters=1)\n",
      "  (prelu2): PReLU(num_parameters=1)\n",
      "  (prelu3): PReLU(num_parameters=1)\n",
      "  (prelu4): PReLU(num_parameters=1)\n",
      "  (prelu5): PReLU(num_parameters=1)\n",
      "  (dropout1): Dropout(p=0.1, inplace=False)\n",
      "  (dropout2): Dropout(p=0.1, inplace=False)\n",
      "  (dropout3): Dropout(p=0.1, inplace=False)\n",
      "  (dropout4): Dropout(p=0.1, inplace=False)\n",
      "  (batchnorm1): BatchNorm1d(512, eps=1e-05, momentum=0.1, affine=True, track_running_stats=True)\n",
      "  (batchnorm2): BatchNorm1d(512, eps=1e-05, momentum=0.1, affine=True, track_running_stats=True)\n",
      "  (batchnorm3): BatchNorm1d(512, eps=1e-05, momentum=0.1, affine=True, track_running_stats=True)\n",
      "  (batchnorm4): BatchNorm1d(512, eps=1e-05, momentum=0.1, affine=True, track_running_stats=True)\n",
      "  (batchnorm5): BatchNorm1d(512, eps=1e-05, momentum=0.1, affine=True, track_running_stats=True)\n",
      ") cuda:0\n"
     ]
    }
   ],
   "source": [
    "\n",
    "model = binaryClassification(cat_cards=cards, numer_dims=len(CONTINUOUS_COLUMNS)).to(device)\n",
    "print(model, device)\n",
    "criterion = nn.BCEWithLogitsLoss()\n",
    "optimizer = optim.Adam(model.parameters(), lr=LEARNING_RATE)"
   ]
  },
  {
   "cell_type": "code",
   "execution_count": 59,
   "metadata": {
    "tags": []
   },
   "outputs": [
    {
     "data": {
      "application/vnd.jupyter.widget-view+json": {
       "model_id": "9dfcb5d87d2d4f23bc5946975796247d",
       "version_major": 2,
       "version_minor": 0
      },
      "text/plain": [
       "  0%|          | 0/4937 [00:00<?, ?it/s]"
      ]
     },
     "metadata": {},
     "output_type": "display_data"
    },
    {
     "data": {
      "application/vnd.jupyter.widget-view+json": {
       "model_id": "c76cc58927564b8fb59971f39f2318a4",
       "version_major": 2,
       "version_minor": 0
      },
      "text/plain": [
       "  0%|          | 0/549 [00:00<?, ?it/s]"
      ]
     },
     "metadata": {},
     "output_type": "display_data"
    },
    {
     "name": "stdout",
     "output_type": "stream",
     "text": [
      "F1:  0.3751 AUC:  0.9130 Pr:  0.3079 Rec:  0.4798  Acc:  0.9538 Thresh:  0.1903 Pred Def: 50577 Actual: 32453 \n",
      "Confusion Matrix: \n",
      ": [[1055776   35006]\n",
      " [  16882   15571]]\n"
     ]
    },
    {
     "data": {
      "application/vnd.jupyter.widget-view+json": {
       "model_id": "bd310681aa394fed870a19f5d63fedbe",
       "version_major": 2,
       "version_minor": 0
      },
      "text/plain": [
       "  0%|          | 0/4937 [00:00<?, ?it/s]"
      ]
     },
     "metadata": {},
     "output_type": "display_data"
    },
    {
     "data": {
      "application/vnd.jupyter.widget-view+json": {
       "model_id": "257b308a19654cffbf8f6dd6de840ad9",
       "version_major": 2,
       "version_minor": 0
      },
      "text/plain": [
       "  0%|          | 0/549 [00:00<?, ?it/s]"
      ]
     },
     "metadata": {},
     "output_type": "display_data"
    },
    {
     "name": "stdout",
     "output_type": "stream",
     "text": [
      "F1:  0.3859 AUC:  0.9157 Pr:  0.3256 Rec:  0.4737  Acc:  0.9564 Thresh:  0.1909 Pred Def: 47211 Actual: 32453 \n",
      "Confusion Matrix: \n",
      ": [[1058944   31838]\n",
      " [  17080   15373]]\n",
      "Total time: 260.4687271118164\n"
     ]
    }
   ],
   "source": [
    "\n",
    "def binary_acc(y_pred, y_test):\n",
    "    y_pred_tag = torch.round(torch.sigmoid(y_pred))\n",
    "    correct_results_sum = (y_pred_tag == y_test).sum().float()\n",
    "    acc = correct_results_sum/y_test.shape[0]\n",
    "    return acc\n",
    "\n",
    "\n",
    "model_name = 'fnma_model_mlp_pyt'\n",
    "\n",
    "start = time.time()\n",
    "max_f1 = 0\n",
    "for e in range(1, EPOCHS+1):\n",
    "    epoch_loss = 0\n",
    "    epoch_acc = 0\n",
    "    train_loss, train_logits, train_targets = train_epoch(model, train_loader, optimizer, criterion, metric=binary_acc, device=device,\n",
    "                             epoch=e)\n",
    "    epoch_f1_score, threshold = calc_metrics(model, train_targets, train_logits, test_loader, criterion, device, use_cpu=use_cpu)\n",
    "    if epoch_f1_score > max_f1:\n",
    "        max_f1 = epoch_f1_score\n",
    "        # save the model\n",
    "        save_checkpoint(model, optimizer, e, epoch_f1_score, model_name, threshold=threshold, save_path=clean_data_path)\n",
    "    \n",
    "print(f'Total time: {time.time() - start}')"
   ]
  },
  {
   "cell_type": "code",
   "execution_count": 60,
   "metadata": {},
   "outputs": [],
   "source": [
    "model, threshold = load_checkpoint(model_name, model, device, save_path=clean_data_path)"
   ]
  },
  {
   "cell_type": "code",
   "execution_count": 61,
   "metadata": {},
   "outputs": [
    {
     "data": {
      "application/vnd.jupyter.widget-view+json": {
       "model_id": "18c8a15a15a04407b5a9947149e90792",
       "version_major": 2,
       "version_minor": 0
      },
      "text/plain": [
       "  0%|          | 0/4937 [00:00<?, ?it/s]"
      ]
     },
     "metadata": {},
     "output_type": "display_data"
    },
    {
     "name": "stdout",
     "output_type": "stream",
     "text": [
      "Thresh:  0.1909 Prec:  0.3269 Rec:  0.5120 Pred Def: 626182 Actual: 399783 AUC:  0.9098 Acc:  0.9390 F1:  0.3990 AUPRC:  0.3402\n",
      "Confusion Matrix: \n",
      ": [[9287852  421489]\n",
      " [ 195090  204693]]\n",
      "Classification Report for Pytorch Classifier: \n",
      "               precision    recall  f1-score   support\n",
      "\n",
      "           0       0.98      0.96      0.97   9709341\n",
      "           1       0.33      0.51      0.40    399783\n",
      "\n",
      "    accuracy                           0.94  10109124\n",
      "   macro avg       0.65      0.73      0.68  10109124\n",
      "weighted avg       0.95      0.94      0.95  10109124\n",
      "\n"
     ]
    },
    {
     "data": {
      "image/png": "[encoded data removed]",
      "text/plain": [
       "<Figure size 864x432 with 2 Axes>"
      ]
     },
     "metadata": {},
     "output_type": "display_data"
    }
   ],
   "source": [
    "_ = test_em(model, train_loader, criterion, threshold, device, use_cpu=use_cpu,\n",
    "        save_path=f'{figures_path}/in_sample_mlp_pyt_pr_roc.png' )"
   ]
  },
  {
   "cell_type": "code",
   "execution_count": 62,
   "metadata": {},
   "outputs": [
    {
     "data": {
      "application/vnd.jupyter.widget-view+json": {
       "model_id": "d8e058edc472457aa132102c7d04b4ea",
       "version_major": 2,
       "version_minor": 0
      },
      "text/plain": [
       "  0%|          | 0/549 [00:00<?, ?it/s]"
      ]
     },
     "metadata": {},
     "output_type": "display_data"
    },
    {
     "name": "stdout",
     "output_type": "stream",
     "text": [
      "Thresh:  0.1909 Prec:  0.3256 Rec:  0.4737 Pred Def: 47211 Actual: 32453 AUC:  0.9157 Acc:  0.9564 F1:  0.3859 AUPRC:  0.3190\n",
      "Confusion Matrix: \n",
      ": [[1058944   31838]\n",
      " [  17080   15373]]\n",
      "Classification Report for Pytorch Classifier: \n",
      "               precision    recall  f1-score   support\n",
      "\n",
      "           0       0.98      0.97      0.98   1090782\n",
      "           1       0.33      0.47      0.39     32453\n",
      "\n",
      "    accuracy                           0.96   1123235\n",
      "   macro avg       0.65      0.72      0.68   1123235\n",
      "weighted avg       0.97      0.96      0.96   1123235\n",
      "\n"
     ]
    },
    {
     "data": {
      "image/png": "[encoded data removed]",
      "text/plain": [
       "<Figure size 864x432 with 2 Axes>"
      ]
     },
     "metadata": {},
     "output_type": "display_data"
    }
   ],
   "source": [
    "true_labels, pred_labels = test_em(model, test_loader, criterion, threshold, device, use_cpu=use_cpu, \n",
    "                                   save_path=f'{figures_path}/out_of_sample_mlp_pyt_pr_roc.png')"
   ]
  },
  {
   "cell_type": "code",
   "execution_count": 63,
   "metadata": {},
   "outputs": [
    {
     "data": {
      "text/plain": [
       "numpy.ndarray"
      ]
     },
     "execution_count": 63,
     "metadata": {},
     "output_type": "execute_result"
    }
   ],
   "source": [
    "type(results)"
   ]
  },
  {
   "cell_type": "code",
   "execution_count": 64,
   "metadata": {},
   "outputs": [
    {
     "data": {
      "image/png": "[encoded data removed]",
      "text/plain": [
       "<Figure size 720x432 with 2 Axes>"
      ]
     },
     "metadata": {},
     "output_type": "display_data"
    }
   ],
   "source": [
    "results = confusion_matrix(true_labels, pred_labels)\n",
    "results = cupy2numpy(results, True)\n",
    "plot_confusion_matrix(results, ['Normal','Anomaly'], title='Confusion Matrix', save_path=f'{figures_path}/pyt_mlp_confusion_matrix.png')"
   ]
  },
  {
   "cell_type": "code",
   "execution_count": 40,
   "metadata": {},
   "outputs": [],
   "source": [
    "import cudf\n",
    "import pyarrow.parquet as pq\n",
    "#!pip install librosa --user\n",
    "#!pip install llvmlite --ignore-installed\n",
    "#!pip install nvtabular==0.5.3\n",
    "pyt_dl_time = time.time()"
   ]
  },
  {
   "cell_type": "markdown",
   "metadata": {
    "heading_collapsed": "true",
    "tags": []
   },
   "source": [
    "### (GPU only) NVTabular Dataloader and Dataset"
   ]
  },
  {
   "cell_type": "code",
   "execution_count": 40,
   "metadata": {
    "ExecuteTime": {
     "end_time": "2021-07-15T00:52:52.370925Z",
     "start_time": "2021-07-15T00:52:52.068786Z"
    }
   },
   "outputs": [],
   "source": [
    "import nvtabular as nvt\n",
    "from nvtabular.loader.torch import TorchAsyncItr, DLDataLoader\n",
    "\n",
    "if use_cpu:\n",
    "    raise Exception('This section is for GPU only.')\n",
    "        "
   ]
  },
  {
   "cell_type": "code",
   "execution_count": 42,
   "metadata": {},
   "outputs": [
    {
     "data": {
      "text/plain": [
       "'0.5.3'"
      ]
     },
     "execution_count": 42,
     "metadata": {},
     "output_type": "execute_result"
    }
   ],
   "source": [
    "nvt.__version__"
   ]
  },
  {
   "cell_type": "code",
   "execution_count": 43,
   "metadata": {
    "ExecuteTime": {
     "end_time": "2021-07-14T21:39:27.664378Z",
     "start_time": "2021-07-14T21:39:27.605802Z"
    }
   },
   "outputs": [
    {
     "data": {
      "text/html": [
       "<div>\n",
       "<style scoped>\n",
       "    .dataframe tbody tr th:only-of-type {\n",
       "        vertical-align: middle;\n",
       "    }\n",
       "\n",
       "    .dataframe tbody tr th {\n",
       "        vertical-align: top;\n",
       "    }\n",
       "\n",
       "    .dataframe thead th {\n",
       "        text-align: right;\n",
       "    }\n",
       "</style>\n",
       "<table border=\"1\" class=\"dataframe\">\n",
       "  <thead>\n",
       "    <tr style=\"text-align: right;\">\n",
       "      <th></th>\n",
       "      <th>Channel</th>\n",
       "      <th>CoCreditScore</th>\n",
       "      <th>CreditScore</th>\n",
       "      <th>DTIRat</th>\n",
       "      <th>Extra</th>\n",
       "      <th>FTHomeBuyer</th>\n",
       "      <th>LoanPurpose</th>\n",
       "      <th>MortInsType</th>\n",
       "      <th>NumBorrow</th>\n",
       "      <th>NumUnits</th>\n",
       "      <th>OccStatus</th>\n",
       "      <th>OrCLTV</th>\n",
       "      <th>OrInterestRate</th>\n",
       "      <th>OrLoanTerm</th>\n",
       "      <th>OrUnpaidPrinc</th>\n",
       "      <th>ProductType</th>\n",
       "      <th>PropertyState</th>\n",
       "      <th>PropertyType</th>\n",
       "      <th>SellerName</th>\n",
       "      <th>Zip</th>\n",
       "      <th>Default</th>\n",
       "    </tr>\n",
       "  </thead>\n",
       "  <tbody>\n",
       "    <tr>\n",
       "      <th>1550205</th>\n",
       "      <td>2</td>\n",
       "      <td>0.004986</td>\n",
       "      <td>0.985658</td>\n",
       "      <td>-0.904846</td>\n",
       "      <td>-0.000487</td>\n",
       "      <td>0</td>\n",
       "      <td>2</td>\n",
       "      <td>0</td>\n",
       "      <td>-1.164326</td>\n",
       "      <td>-0.133009</td>\n",
       "      <td>1</td>\n",
       "      <td>-2.909084</td>\n",
       "      <td>1.117746</td>\n",
       "      <td>-1.531372</td>\n",
       "      <td>-0.996131</td>\n",
       "      <td>0</td>\n",
       "      <td>4</td>\n",
       "      <td>4</td>\n",
       "      <td>31</td>\n",
       "      <td>902</td>\n",
       "      <td>0</td>\n",
       "    </tr>\n",
       "    <tr>\n",
       "      <th>1137124</th>\n",
       "      <td>1</td>\n",
       "      <td>0.004986</td>\n",
       "      <td>-2.276635</td>\n",
       "      <td>2.717158</td>\n",
       "      <td>-0.000487</td>\n",
       "      <td>0</td>\n",
       "      <td>0</td>\n",
       "      <td>0</td>\n",
       "      <td>-1.164326</td>\n",
       "      <td>-0.133009</td>\n",
       "      <td>1</td>\n",
       "      <td>-0.650462</td>\n",
       "      <td>1.616116</td>\n",
       "      <td>0.637020</td>\n",
       "      <td>-0.084862</td>\n",
       "      <td>0</td>\n",
       "      <td>21</td>\n",
       "      <td>3</td>\n",
       "      <td>48</td>\n",
       "      <td>120</td>\n",
       "      <td>1</td>\n",
       "    </tr>\n",
       "    <tr>\n",
       "      <th>541402</th>\n",
       "      <td>2</td>\n",
       "      <td>1.013539</td>\n",
       "      <td>0.630152</td>\n",
       "      <td>0.155253</td>\n",
       "      <td>-0.000487</td>\n",
       "      <td>0</td>\n",
       "      <td>0</td>\n",
       "      <td>0</td>\n",
       "      <td>0.816595</td>\n",
       "      <td>-0.133009</td>\n",
       "      <td>1</td>\n",
       "      <td>-2.561604</td>\n",
       "      <td>1.616116</td>\n",
       "      <td>0.637020</td>\n",
       "      <td>-1.060646</td>\n",
       "      <td>0</td>\n",
       "      <td>23</td>\n",
       "      <td>4</td>\n",
       "      <td>31</td>\n",
       "      <td>437</td>\n",
       "      <td>0</td>\n",
       "    </tr>\n",
       "    <tr>\n",
       "      <th>5374781</th>\n",
       "      <td>2</td>\n",
       "      <td>0.004986</td>\n",
       "      <td>-1.712007</td>\n",
       "      <td>0.420278</td>\n",
       "      <td>-0.000487</td>\n",
       "      <td>0</td>\n",
       "      <td>2</td>\n",
       "      <td>0</td>\n",
       "      <td>-1.164326</td>\n",
       "      <td>-0.133009</td>\n",
       "      <td>0</td>\n",
       "      <td>0.276153</td>\n",
       "      <td>0.394622</td>\n",
       "      <td>-1.531372</td>\n",
       "      <td>-1.270318</td>\n",
       "      <td>0</td>\n",
       "      <td>28</td>\n",
       "      <td>3</td>\n",
       "      <td>3</td>\n",
       "      <td>195</td>\n",
       "      <td>0</td>\n",
       "    </tr>\n",
       "    <tr>\n",
       "      <th>2269471</th>\n",
       "      <td>1</td>\n",
       "      <td>0.004986</td>\n",
       "      <td>0.253734</td>\n",
       "      <td>1.303693</td>\n",
       "      <td>-0.000487</td>\n",
       "      <td>0</td>\n",
       "      <td>2</td>\n",
       "      <td>0</td>\n",
       "      <td>-1.164326</td>\n",
       "      <td>-0.133009</td>\n",
       "      <td>1</td>\n",
       "      <td>0.565720</td>\n",
       "      <td>1.371817</td>\n",
       "      <td>0.637020</td>\n",
       "      <td>1.205431</td>\n",
       "      <td>0</td>\n",
       "      <td>51</td>\n",
       "      <td>4</td>\n",
       "      <td>3</td>\n",
       "      <td>475</td>\n",
       "      <td>0</td>\n",
       "    </tr>\n",
       "  </tbody>\n",
       "</table>\n",
       "</div>"
      ],
      "text/plain": [
       "         Channel  CoCreditScore  CreditScore    DTIRat     Extra  FTHomeBuyer  LoanPurpose  MortInsType  NumBorrow  NumUnits  OccStatus    OrCLTV  OrInterestRate  OrLoanTerm  OrUnpaidPrinc  ProductType  PropertyState  PropertyType  SellerName  Zip  Default\n",
       "1550205        2       0.004986     0.985658 -0.904846 -0.000487            0            2            0  -1.164326 -0.133009          1 -2.909084        1.117746   -1.531372      -0.996131            0              4             4          31  902        0\n",
       "1137124        1       0.004986    -2.276635  2.717158 -0.000487            0            0            0  -1.164326 -0.133009          1 -0.650462        1.616116    0.637020      -0.084862            0             21             3          48  120        1\n",
       "541402         2       1.013539     0.630152  0.155253 -0.000487            0            0            0   0.816595 -0.133009          1 -2.561604        1.616116    0.637020      -1.060646            0             23             4          31  437        0\n",
       "5374781        2       0.004986    -1.712007  0.420278 -0.000487            0            2            0  -1.164326 -0.133009          0  0.276153        0.394622   -1.531372      -1.270318            0             28             3           3  195        0\n",
       "2269471        1       0.004986     0.253734  1.303693 -0.000487            0            2            0  -1.164326 -0.133009          1  0.565720        1.371817    0.637020       1.205431            0             51             4           3  475        0"
      ]
     },
     "execution_count": 43,
     "metadata": {},
     "output_type": "execute_result"
    }
   ],
   "source": [
    "train = concat([X_train[sorted(X_train.columns)],  y_train], axis=1)\n",
    "train[CATEGORICAL_COLUMNS] = train[CATEGORICAL_COLUMNS].astype(int16)\n",
    "train.head()"
   ]
  },
  {
   "cell_type": "code",
   "execution_count": 44,
   "metadata": {
    "ExecuteTime": {
     "end_time": "2021-07-14T21:39:28.169798Z",
     "start_time": "2021-07-14T21:39:28.122762Z"
    }
   },
   "outputs": [
    {
     "data": {
      "text/html": [
       "<div>\n",
       "<style scoped>\n",
       "    .dataframe tbody tr th:only-of-type {\n",
       "        vertical-align: middle;\n",
       "    }\n",
       "\n",
       "    .dataframe tbody tr th {\n",
       "        vertical-align: top;\n",
       "    }\n",
       "\n",
       "    .dataframe thead th {\n",
       "        text-align: right;\n",
       "    }\n",
       "</style>\n",
       "<table border=\"1\" class=\"dataframe\">\n",
       "  <thead>\n",
       "    <tr style=\"text-align: right;\">\n",
       "      <th></th>\n",
       "      <th>Channel</th>\n",
       "      <th>CoCreditScore</th>\n",
       "      <th>CreditScore</th>\n",
       "      <th>DTIRat</th>\n",
       "      <th>Extra</th>\n",
       "      <th>FTHomeBuyer</th>\n",
       "      <th>LoanPurpose</th>\n",
       "      <th>MortInsType</th>\n",
       "      <th>NumBorrow</th>\n",
       "      <th>NumUnits</th>\n",
       "      <th>OccStatus</th>\n",
       "      <th>OrCLTV</th>\n",
       "      <th>OrInterestRate</th>\n",
       "      <th>OrLoanTerm</th>\n",
       "      <th>OrUnpaidPrinc</th>\n",
       "      <th>ProductType</th>\n",
       "      <th>PropertyState</th>\n",
       "      <th>PropertyType</th>\n",
       "      <th>SellerName</th>\n",
       "      <th>Zip</th>\n",
       "      <th>Default</th>\n",
       "    </tr>\n",
       "  </thead>\n",
       "  <tbody>\n",
       "    <tr>\n",
       "      <th>9793327</th>\n",
       "      <td>1</td>\n",
       "      <td>-0.461690</td>\n",
       "      <td>-0.352718</td>\n",
       "      <td>-0.728163</td>\n",
       "      <td>-0.000487</td>\n",
       "      <td>0</td>\n",
       "      <td>2</td>\n",
       "      <td>0</td>\n",
       "      <td>0.816595</td>\n",
       "      <td>-0.133009</td>\n",
       "      <td>1</td>\n",
       "      <td>1.086941</td>\n",
       "      <td>-0.949021</td>\n",
       "      <td>0.637020</td>\n",
       "      <td>-0.939681</td>\n",
       "      <td>0</td>\n",
       "      <td>9</td>\n",
       "      <td>4</td>\n",
       "      <td>18</td>\n",
       "      <td>273</td>\n",
       "      <td>0</td>\n",
       "    </tr>\n",
       "    <tr>\n",
       "      <th>4115999</th>\n",
       "      <td>0</td>\n",
       "      <td>-1.277774</td>\n",
       "      <td>-1.063731</td>\n",
       "      <td>0.155253</td>\n",
       "      <td>-0.000487</td>\n",
       "      <td>0</td>\n",
       "      <td>2</td>\n",
       "      <td>0</td>\n",
       "      <td>0.816595</td>\n",
       "      <td>-0.133009</td>\n",
       "      <td>1</td>\n",
       "      <td>-0.476721</td>\n",
       "      <td>-0.460423</td>\n",
       "      <td>-1.531372</td>\n",
       "      <td>-0.592915</td>\n",
       "      <td>0</td>\n",
       "      <td>45</td>\n",
       "      <td>3</td>\n",
       "      <td>18</td>\n",
       "      <td>734</td>\n",
       "      <td>0</td>\n",
       "    </tr>\n",
       "    <tr>\n",
       "      <th>8502057</th>\n",
       "      <td>2</td>\n",
       "      <td>-2.313573</td>\n",
       "      <td>-1.586534</td>\n",
       "      <td>0.950327</td>\n",
       "      <td>-0.000487</td>\n",
       "      <td>0</td>\n",
       "      <td>0</td>\n",
       "      <td>0</td>\n",
       "      <td>0.816595</td>\n",
       "      <td>-0.133009</td>\n",
       "      <td>1</td>\n",
       "      <td>-0.882115</td>\n",
       "      <td>-1.510908</td>\n",
       "      <td>-1.531372</td>\n",
       "      <td>-1.036453</td>\n",
       "      <td>0</td>\n",
       "      <td>51</td>\n",
       "      <td>4</td>\n",
       "      <td>31</td>\n",
       "      <td>470</td>\n",
       "      <td>0</td>\n",
       "    </tr>\n",
       "    <tr>\n",
       "      <th>6870604</th>\n",
       "      <td>1</td>\n",
       "      <td>1.201866</td>\n",
       "      <td>0.922922</td>\n",
       "      <td>-0.816504</td>\n",
       "      <td>-0.000487</td>\n",
       "      <td>0</td>\n",
       "      <td>2</td>\n",
       "      <td>0</td>\n",
       "      <td>0.816595</td>\n",
       "      <td>-0.133009</td>\n",
       "      <td>1</td>\n",
       "      <td>0.160326</td>\n",
       "      <td>-0.460423</td>\n",
       "      <td>-0.808575</td>\n",
       "      <td>-0.181634</td>\n",
       "      <td>0</td>\n",
       "      <td>16</td>\n",
       "      <td>3</td>\n",
       "      <td>26</td>\n",
       "      <td>396</td>\n",
       "      <td>0</td>\n",
       "    </tr>\n",
       "    <tr>\n",
       "      <th>6856426</th>\n",
       "      <td>1</td>\n",
       "      <td>1.013539</td>\n",
       "      <td>0.860186</td>\n",
       "      <td>0.066911</td>\n",
       "      <td>-0.000487</td>\n",
       "      <td>0</td>\n",
       "      <td>1</td>\n",
       "      <td>0</td>\n",
       "      <td>0.816595</td>\n",
       "      <td>-0.133009</td>\n",
       "      <td>1</td>\n",
       "      <td>0.623633</td>\n",
       "      <td>-0.338274</td>\n",
       "      <td>0.637020</td>\n",
       "      <td>-0.826780</td>\n",
       "      <td>0</td>\n",
       "      <td>34</td>\n",
       "      <td>3</td>\n",
       "      <td>26</td>\n",
       "      <td>847</td>\n",
       "      <td>0</td>\n",
       "    </tr>\n",
       "  </tbody>\n",
       "</table>\n",
       "</div>"
      ],
      "text/plain": [
       "         Channel  CoCreditScore  CreditScore    DTIRat     Extra  FTHomeBuyer  LoanPurpose  MortInsType  NumBorrow  NumUnits  OccStatus    OrCLTV  OrInterestRate  OrLoanTerm  OrUnpaidPrinc  ProductType  PropertyState  PropertyType  SellerName  Zip  Default\n",
       "9793327        1      -0.461690    -0.352718 -0.728163 -0.000487            0            2            0   0.816595 -0.133009          1  1.086941       -0.949021    0.637020      -0.939681            0              9             4          18  273        0\n",
       "4115999        0      -1.277774    -1.063731  0.155253 -0.000487            0            2            0   0.816595 -0.133009          1 -0.476721       -0.460423   -1.531372      -0.592915            0             45             3          18  734        0\n",
       "8502057        2      -2.313573    -1.586534  0.950327 -0.000487            0            0            0   0.816595 -0.133009          1 -0.882115       -1.510908   -1.531372      -1.036453            0             51             4          31  470        0\n",
       "6870604        1       1.201866     0.922922 -0.816504 -0.000487            0            2            0   0.816595 -0.133009          1  0.160326       -0.460423   -0.808575      -0.181634            0             16             3          26  396        0\n",
       "6856426        1       1.013539     0.860186  0.066911 -0.000487            0            1            0   0.816595 -0.133009          1  0.623633       -0.338274    0.637020      -0.826780            0             34             3          26  847        0"
      ]
     },
     "execution_count": 44,
     "metadata": {},
     "output_type": "execute_result"
    }
   ],
   "source": [
    "test = concat([X_test[sorted(X_test.columns)],  y_test], axis=1)\n",
    "test[CATEGORICAL_COLUMNS] = test[CATEGORICAL_COLUMNS].astype(cp.int16)\n",
    "test.head()"
   ]
  },
  {
   "cell_type": "code",
   "execution_count": 45,
   "metadata": {},
   "outputs": [],
   "source": [
    "# for explainability later.\n",
    "y_pos = y_test.loc[y_test==1].sample(n=BATCH_SIZE, random_state=8675309)\n",
    "y_neg = y_test.loc[y_test==0].sample(n=BATCH_SIZE, random_state=8675309)\n",
    "\n",
    "X_test_pos = X_test.loc[y_pos.index]\n",
    "X_test_neg = X_test.loc[y_neg.index]\n",
    "\n",
    "pos_data = concat([X_test_pos[sorted(X_test_pos.columns)],  y_pos], axis=1)\n",
    "pos_data[CATEGORICAL_COLUMNS] = pos_data[CATEGORICAL_COLUMNS].astype(int16)\n",
    "\n",
    "neg_data = concat([X_test_neg[sorted(X_test_neg.columns)],  y_neg], axis=1)\n",
    "neg_data[CATEGORICAL_COLUMNS] = neg_data[CATEGORICAL_COLUMNS].astype(int16)\n",
    "\n",
    "pos_path = f'{clean_data_path}/fnma_pos_test.parquet'\n",
    "neg_path = f'{clean_data_path}/fnma_neg_test.parquet'\n",
    "\n",
    "pos_data.to_parquet(pos_path)\n",
    "neg_data.to_parquet(neg_path)"
   ]
  },
  {
   "cell_type": "code",
   "execution_count": 46,
   "metadata": {
    "ExecuteTime": {
     "end_time": "2021-07-15T00:52:56.078717Z",
     "start_time": "2021-07-15T00:52:56.076015Z"
    }
   },
   "outputs": [],
   "source": [
    "# save train and test (not necessary but saves time from re-processing data if you restart kernel)\n",
    "\n",
    "# train_path = 'fnma_train_nvt_ros.parquet'\n",
    "# test_path = 'fnma_test_nvt_ros.parquet'\n",
    "\n",
    "train_path = f'{clean_data_path}/fnma_train_nvt.parquet'\n",
    "test_path = f'{clean_data_path}/fnma_test_nvt.parquet'"
   ]
  },
  {
   "cell_type": "code",
   "execution_count": 47,
   "metadata": {
    "ExecuteTime": {
     "end_time": "2021-07-14T21:39:40.490022Z",
     "start_time": "2021-07-14T21:39:40.427344Z"
    },
    "tags": []
   },
   "outputs": [],
   "source": [
    "train.to_parquet(train_path)\n",
    "test.to_parquet(test_path)"
   ]
  },
  {
   "cell_type": "code",
   "execution_count": 48,
   "metadata": {
    "ExecuteTime": {
     "end_time": "2021-07-15T00:52:59.115849Z",
     "start_time": "2021-07-15T00:52:57.666504Z"
    }
   },
   "outputs": [],
   "source": [
    "train_dataset = TorchAsyncItr(\n",
    "    nvt.Dataset(train_path),\n",
    "    cats=CATEGORICAL_COLUMNS,\n",
    "    conts=CONTINUOUS_COLUMNS,\n",
    "    labels=LABEL_COLUMNS,\n",
    "    batch_size=BATCH_SIZE,\n",
    "    shuffle=True\n",
    ")\n",
    "\n",
    "train_loader = DLDataLoader(\n",
    "   train_dataset,\n",
    "   batch_size=None,\n",
    "   pin_memory=False,\n",
    "   num_workers=0\n",
    ")\n",
    "\n",
    "test_dataset = TorchAsyncItr(\n",
    "   nvt.Dataset(test_path),\n",
    "   cats=CATEGORICAL_COLUMNS,\n",
    "   conts=CONTINUOUS_COLUMNS,\n",
    "   labels=LABEL_COLUMNS,\n",
    "   batch_size=BATCH_SIZE\n",
    ")\n",
    "\n",
    "test_loader = DLDataLoader(\n",
    "   test_dataset,\n",
    "   batch_size=None,\n",
    "   pin_memory=False,\n",
    "   num_workers=0\n",
    ")\n"
   ]
  },
  {
   "cell_type": "markdown",
   "metadata": {
    "heading_collapsed": "true",
    "tags": []
   },
   "source": [
    "### Model Training - NVTabular Dataloader"
   ]
  },
  {
   "cell_type": "code",
   "execution_count": 49,
   "metadata": {
    "ExecuteTime": {
     "end_time": "2021-07-15T00:53:08.400498Z",
     "start_time": "2021-07-15T00:53:08.382295Z"
    }
   },
   "outputs": [
    {
     "name": "stdout",
     "output_type": "stream",
     "text": [
      "binaryClassification(\n",
      "  (layer_1): Linear(in_features=20, out_features=512, bias=True)\n",
      "  (layer_2): Linear(in_features=512, out_features=512, bias=True)\n",
      "  (layer_3): Linear(in_features=512, out_features=512, bias=True)\n",
      "  (layer_4): Linear(in_features=512, out_features=512, bias=True)\n",
      "  (layer_5): Linear(in_features=512, out_features=512, bias=True)\n",
      "  (layer_out): Linear(in_features=512, out_features=1, bias=True)\n",
      "  (prelu1): PReLU(num_parameters=1)\n",
      "  (prelu2): PReLU(num_parameters=1)\n",
      "  (prelu3): PReLU(num_parameters=1)\n",
      "  (prelu4): PReLU(num_parameters=1)\n",
      "  (prelu5): PReLU(num_parameters=1)\n",
      "  (dropout1): Dropout(p=0.1, inplace=False)\n",
      "  (dropout2): Dropout(p=0.1, inplace=False)\n",
      "  (dropout3): Dropout(p=0.1, inplace=False)\n",
      "  (dropout4): Dropout(p=0.1, inplace=False)\n",
      "  (batchnorm1): BatchNorm1d(512, eps=1e-05, momentum=0.1, affine=True, track_running_stats=True)\n",
      "  (batchnorm2): BatchNorm1d(512, eps=1e-05, momentum=0.1, affine=True, track_running_stats=True)\n",
      "  (batchnorm3): BatchNorm1d(512, eps=1e-05, momentum=0.1, affine=True, track_running_stats=True)\n",
      "  (batchnorm4): BatchNorm1d(512, eps=1e-05, momentum=0.1, affine=True, track_running_stats=True)\n",
      "  (batchnorm5): BatchNorm1d(512, eps=1e-05, momentum=0.1, affine=True, track_running_stats=True)\n",
      ")\n"
     ]
    }
   ],
   "source": [
    "\n",
    "model = binaryClassification(cat_cards=cards, numer_dims=len(CONTINUOUS_COLUMNS)).to(device)\n",
    "\n",
    "print(model)\n",
    "criterion = nn.BCEWithLogitsLoss() # pos_weight=torch.tensor(25, device=device)\n",
    "optimizer = optim.Adam(model.parameters(), lr=LEARNING_RATE)"
   ]
  },
  {
   "cell_type": "code",
   "execution_count": 62,
   "metadata": {
    "ExecuteTime": {
     "end_time": "2021-07-15T00:53:17.976178Z",
     "start_time": "2021-07-15T00:53:16.989705Z"
    },
    "tags": []
   },
   "outputs": [
    {
     "data": {
      "application/vnd.jupyter.widget-view+json": {
       "model_id": "12dd2fe5e86440e7858f6427ce9feb9e",
       "version_major": 2,
       "version_minor": 0
      },
      "text/plain": [
       "  0%|          | 0/4937 [00:00<?, ?it/s]"
      ]
     },
     "metadata": {},
     "output_type": "display_data"
    },
    {
     "data": {
      "application/vnd.jupyter.widget-view+json": {
       "model_id": "9149e6d97b0e4f59b0bc7fb1c6fae83e",
       "version_major": 2,
       "version_minor": 0
      },
      "text/plain": [
       "0it [00:00, ?it/s]"
      ]
     },
     "metadata": {},
     "output_type": "display_data"
    },
    {
     "name": "stdout",
     "output_type": "stream",
     "text": [
      "F1:  0.3836 AUC:  0.9155 Pr:  0.3367 Rec:  0.4457  Acc:  0.9586 Thresh:  0.1956 Pred Def: 42941 Actual: 32439 \n",
      "Confusion Matrix: \n",
      ": [[1062314   28482]\n",
      " [  17980   14459]]\n"
     ]
    },
    {
     "data": {
      "application/vnd.jupyter.widget-view+json": {
       "model_id": "2439a967729f4cae97875b7bd9bfed92",
       "version_major": 2,
       "version_minor": 0
      },
      "text/plain": [
       "  0%|          | 0/4937 [00:00<?, ?it/s]"
      ]
     },
     "metadata": {},
     "output_type": "display_data"
    },
    {
     "data": {
      "application/vnd.jupyter.widget-view+json": {
       "model_id": "b6bed2e1b9f64dbea05367a926091759",
       "version_major": 2,
       "version_minor": 0
      },
      "text/plain": [
       "0it [00:00, ?it/s]"
      ]
     },
     "metadata": {},
     "output_type": "display_data"
    },
    {
     "name": "stdout",
     "output_type": "stream",
     "text": [
      "F1:  0.3835 AUC:  0.9157 Pr:  0.3419 Rec:  0.4367  Acc:  0.9595 Thresh:  0.1930 Pred Def: 41435 Actual: 32439 \n",
      "Confusion Matrix: \n",
      ": [[1063528   27268]\n",
      " [  18272   14167]]\n"
     ]
    },
    {
     "data": {
      "application/vnd.jupyter.widget-view+json": {
       "model_id": "df737611459541f495d9903742df96cc",
       "version_major": 2,
       "version_minor": 0
      },
      "text/plain": [
       "  0%|          | 0/4937 [00:00<?, ?it/s]"
      ]
     },
     "metadata": {},
     "output_type": "display_data"
    },
    {
     "data": {
      "application/vnd.jupyter.widget-view+json": {
       "model_id": "631e1fae6f7d4489bc4ffe04dc09289d",
       "version_major": 2,
       "version_minor": 0
      },
      "text/plain": [
       "0it [00:00, ?it/s]"
      ]
     },
     "metadata": {},
     "output_type": "display_data"
    },
    {
     "name": "stdout",
     "output_type": "stream",
     "text": [
      "F1:  0.3899 AUC:  0.9175 Pr:  0.3443 Rec:  0.4492  Acc:  0.9594 Thresh:  0.1937 Pred Def: 42322 Actual: 32439 \n",
      "Confusion Matrix: \n",
      ": [[1063047   27749]\n",
      " [  17866   14573]]\n"
     ]
    },
    {
     "data": {
      "application/vnd.jupyter.widget-view+json": {
       "model_id": "cfb6f1b8c65d40ea9397fda3b2e945c3",
       "version_major": 2,
       "version_minor": 0
      },
      "text/plain": [
       "  0%|          | 0/4937 [00:00<?, ?it/s]"
      ]
     },
     "metadata": {},
     "output_type": "display_data"
    },
    {
     "data": {
      "application/vnd.jupyter.widget-view+json": {
       "model_id": "416b4e93e4c745e197d048a859ee5960",
       "version_major": 2,
       "version_minor": 0
      },
      "text/plain": [
       "0it [00:00, ?it/s]"
      ]
     },
     "metadata": {},
     "output_type": "display_data"
    },
    {
     "name": "stdout",
     "output_type": "stream",
     "text": [
      "F1:  0.3932 AUC:  0.9187 Pr:  0.3259 Rec:  0.4955  Acc:  0.9558 Thresh:  0.1998 Pred Def: 49325 Actual: 32439 \n",
      "Confusion Matrix: \n",
      ": [[1057546   33250]\n",
      " [  16364   16075]]\n"
     ]
    },
    {
     "data": {
      "application/vnd.jupyter.widget-view+json": {
       "model_id": "5ce6369c1f81490db8fbaa7392ea31e5",
       "version_major": 2,
       "version_minor": 0
      },
      "text/plain": [
       "  0%|          | 0/4937 [00:00<?, ?it/s]"
      ]
     },
     "metadata": {},
     "output_type": "display_data"
    },
    {
     "data": {
      "application/vnd.jupyter.widget-view+json": {
       "model_id": "51fe14cae8a3499e8f21d86cf2ac4b36",
       "version_major": 2,
       "version_minor": 0
      },
      "text/plain": [
       "0it [00:00, ?it/s]"
      ]
     },
     "metadata": {},
     "output_type": "display_data"
    },
    {
     "name": "stdout",
     "output_type": "stream",
     "text": [
      "F1:  0.0001 AUC:  0.9199 Pr:  1.0000 Rec:  0.0000  Acc:  0.9711 Thresh:  0.9517 Pred Def: 0 Actual: 32439 \n",
      "Confusion Matrix: \n",
      ": [[1090796       0]\n",
      " [  32439       0]]\n"
     ]
    },
    {
     "data": {
      "application/vnd.jupyter.widget-view+json": {
       "model_id": "bedf844858ec483c89edc9a8238dc783",
       "version_major": 2,
       "version_minor": 0
      },
      "text/plain": [
       "  0%|          | 0/4937 [00:00<?, ?it/s]"
      ]
     },
     "metadata": {},
     "output_type": "display_data"
    },
    {
     "data": {
      "application/vnd.jupyter.widget-view+json": {
       "model_id": "c10f37bb47a142a0978999e8c9bbba09",
       "version_major": 2,
       "version_minor": 0
      },
      "text/plain": [
       "0it [00:00, ?it/s]"
      ]
     },
     "metadata": {},
     "output_type": "display_data"
    },
    {
     "name": "stdout",
     "output_type": "stream",
     "text": [
      "F1:  0.3946 AUC:  0.9199 Pr:  0.3265 Rec:  0.4987  Acc:  0.9558 Thresh:  0.1999 Pred Def: 49550 Actual: 32439 \n",
      "Confusion Matrix: \n",
      ": [[1057424   33372]\n",
      " [  16261   16178]]\n"
     ]
    },
    {
     "data": {
      "application/vnd.jupyter.widget-view+json": {
       "model_id": "509bfdc740ea4160a393f1a3eccfbab8",
       "version_major": 2,
       "version_minor": 0
      },
      "text/plain": [
       "  0%|          | 0/4937 [00:00<?, ?it/s]"
      ]
     },
     "metadata": {},
     "output_type": "display_data"
    },
    {
     "data": {
      "application/vnd.jupyter.widget-view+json": {
       "model_id": "5705bd2e11874efa841defc48617ce3d",
       "version_major": 2,
       "version_minor": 0
      },
      "text/plain": [
       "0it [00:00, ?it/s]"
      ]
     },
     "metadata": {},
     "output_type": "display_data"
    },
    {
     "name": "stdout",
     "output_type": "stream",
     "text": [
      "F1:  0.3969 AUC:  0.9202 Pr:  0.3433 Rec:  0.4702  Acc:  0.9587 Thresh:  0.1992 Pred Def: 44427 Actual: 32439 \n",
      "Confusion Matrix: \n",
      ": [[1061622   29174]\n",
      " [  17186   15253]]\n"
     ]
    },
    {
     "data": {
      "application/vnd.jupyter.widget-view+json": {
       "model_id": "5810936080da4f1eb286c19dd770e35c",
       "version_major": 2,
       "version_minor": 0
      },
      "text/plain": [
       "  0%|          | 0/4937 [00:00<?, ?it/s]"
      ]
     },
     "metadata": {},
     "output_type": "display_data"
    },
    {
     "data": {
      "application/vnd.jupyter.widget-view+json": {
       "model_id": "2e51e2ab5ca644b983a472b89ebde8a4",
       "version_major": 2,
       "version_minor": 0
      },
      "text/plain": [
       "0it [00:00, ?it/s]"
      ]
     },
     "metadata": {},
     "output_type": "display_data"
    },
    {
     "name": "stdout",
     "output_type": "stream",
     "text": [
      "F1:  0.3980 AUC:  0.9207 Pr:  0.3324 Rec:  0.4959  Acc:  0.9567 Thresh:  0.1959 Pred Def: 48384 Actual: 32439 \n",
      "Confusion Matrix: \n",
      ": [[1058497   32299]\n",
      " [  16354   16085]]\n"
     ]
    },
    {
     "data": {
      "application/vnd.jupyter.widget-view+json": {
       "model_id": "bd2fcf56ec164d06bfcf58d14ad57a36",
       "version_major": 2,
       "version_minor": 0
      },
      "text/plain": [
       "  0%|          | 0/4937 [00:00<?, ?it/s]"
      ]
     },
     "metadata": {},
     "output_type": "display_data"
    },
    {
     "data": {
      "application/vnd.jupyter.widget-view+json": {
       "model_id": "20223417dbdf45f8bcef273b5fd3ec56",
       "version_major": 2,
       "version_minor": 0
      },
      "text/plain": [
       "0it [00:00, ?it/s]"
      ]
     },
     "metadata": {},
     "output_type": "display_data"
    },
    {
     "name": "stdout",
     "output_type": "stream",
     "text": [
      "F1:  0.3981 AUC:  0.9206 Pr:  0.3494 Rec:  0.4626  Acc:  0.9596 Thresh:  0.2029 Pred Def: 42948 Actual: 32439 \n",
      "Confusion Matrix: \n",
      ": [[1062855   27941]\n",
      " [  17432   15007]]\n"
     ]
    },
    {
     "data": {
      "application/vnd.jupyter.widget-view+json": {
       "model_id": "0d432c43c7ed46a8863740201c06f191",
       "version_major": 2,
       "version_minor": 0
      },
      "text/plain": [
       "  0%|          | 0/4937 [00:00<?, ?it/s]"
      ]
     },
     "metadata": {},
     "output_type": "display_data"
    },
    {
     "data": {
      "application/vnd.jupyter.widget-view+json": {
       "model_id": "c226081d2cf54076a67d58401615efa6",
       "version_major": 2,
       "version_minor": 0
      },
      "text/plain": [
       "0it [00:00, ?it/s]"
      ]
     },
     "metadata": {},
     "output_type": "display_data"
    },
    {
     "name": "stdout",
     "output_type": "stream",
     "text": [
      "F1:  0.0001 AUC:  0.9209 Pr:  1.0000 Rec:  0.0000  Acc:  0.9711 Thresh:  0.9437 Pred Def: 0 Actual: 32439 \n",
      "Confusion Matrix: \n",
      ": [[1090796       0]\n",
      " [  32439       0]]\n"
     ]
    },
    {
     "data": {
      "application/vnd.jupyter.widget-view+json": {
       "model_id": "53546fc54904488f9d4796d972932942",
       "version_major": 2,
       "version_minor": 0
      },
      "text/plain": [
       "  0%|          | 0/4937 [00:00<?, ?it/s]"
      ]
     },
     "metadata": {},
     "output_type": "display_data"
    },
    {
     "data": {
      "application/vnd.jupyter.widget-view+json": {
       "model_id": "9c39d2cc418541d6bfaa8a26b1a6dcfd",
       "version_major": 2,
       "version_minor": 0
      },
      "text/plain": [
       "0it [00:00, ?it/s]"
      ]
     },
     "metadata": {},
     "output_type": "display_data"
    },
    {
     "name": "stdout",
     "output_type": "stream",
     "text": [
      "F1:  0.3999 AUC:  0.9212 Pr:  0.3472 Rec:  0.4715  Acc:  0.9591 Thresh:  0.2005 Pred Def: 44049 Actual: 32439 \n",
      "Confusion Matrix: \n",
      ": [[1062042   28754]\n",
      " [  17144   15295]]\n"
     ]
    },
    {
     "data": {
      "application/vnd.jupyter.widget-view+json": {
       "model_id": "99e7f4c9bed24aebbe1b0c586fb740ac",
       "version_major": 2,
       "version_minor": 0
      },
      "text/plain": [
       "  0%|          | 0/4937 [00:00<?, ?it/s]"
      ]
     },
     "metadata": {},
     "output_type": "display_data"
    },
    {
     "data": {
      "application/vnd.jupyter.widget-view+json": {
       "model_id": "6207722577c6473691d843495cf96d4e",
       "version_major": 2,
       "version_minor": 0
      },
      "text/plain": [
       "0it [00:00, ?it/s]"
      ]
     },
     "metadata": {},
     "output_type": "display_data"
    },
    {
     "name": "stdout",
     "output_type": "stream",
     "text": [
      "F1:  0.3971 AUC:  0.9212 Pr:  0.3315 Rec:  0.4953  Acc:  0.9566 Thresh:  0.1993 Pred Def: 48473 Actual: 32439 \n",
      "Confusion Matrix: \n",
      ": [[1058390   32406]\n",
      " [  16372   16067]]\n"
     ]
    },
    {
     "data": {
      "application/vnd.jupyter.widget-view+json": {
       "model_id": "78d329b67d234c2e99088a06a4b2f6cc",
       "version_major": 2,
       "version_minor": 0
      },
      "text/plain": [
       "  0%|          | 0/4937 [00:00<?, ?it/s]"
      ]
     },
     "metadata": {},
     "output_type": "display_data"
    },
    {
     "data": {
      "application/vnd.jupyter.widget-view+json": {
       "model_id": "5db3b543cdea40f7b0eebf353dc097f7",
       "version_major": 2,
       "version_minor": 0
      },
      "text/plain": [
       "0it [00:00, ?it/s]"
      ]
     },
     "metadata": {},
     "output_type": "display_data"
    },
    {
     "name": "stdout",
     "output_type": "stream",
     "text": [
      "F1:  0.0001 AUC:  0.9215 Pr:  1.0000 Rec:  0.0000  Acc:  0.9711 Thresh:  0.9547 Pred Def: 0 Actual: 32439 \n",
      "Confusion Matrix: \n",
      ": [[1090796       0]\n",
      " [  32439       0]]\n"
     ]
    },
    {
     "data": {
      "application/vnd.jupyter.widget-view+json": {
       "model_id": "399738e8f67a4f50a6919fcaa716e479",
       "version_major": 2,
       "version_minor": 0
      },
      "text/plain": [
       "  0%|          | 0/4937 [00:00<?, ?it/s]"
      ]
     },
     "metadata": {},
     "output_type": "display_data"
    },
    {
     "data": {
      "application/vnd.jupyter.widget-view+json": {
       "model_id": "3f369adc47ea4079adb3d2a9a7b2b9a4",
       "version_major": 2,
       "version_minor": 0
      },
      "text/plain": [
       "0it [00:00, ?it/s]"
      ]
     },
     "metadata": {},
     "output_type": "display_data"
    },
    {
     "name": "stdout",
     "output_type": "stream",
     "text": [
      "F1:  0.3991 AUC:  0.9216 Pr:  0.3737 Rec:  0.4281  Acc:  0.9628 Thresh:  0.2061 Pred Def: 37166 Actual: 32439 \n",
      "Confusion Matrix: \n",
      ": [[1067518   23278]\n",
      " [  18551   13888]]\n"
     ]
    },
    {
     "data": {
      "application/vnd.jupyter.widget-view+json": {
       "model_id": "7835481d65834c1db73c3907c7e6ff96",
       "version_major": 2,
       "version_minor": 0
      },
      "text/plain": [
       "  0%|          | 0/4937 [00:00<?, ?it/s]"
      ]
     },
     "metadata": {},
     "output_type": "display_data"
    },
    {
     "data": {
      "application/vnd.jupyter.widget-view+json": {
       "model_id": "d6b1407a8eb4403987423889d82e49a2",
       "version_major": 2,
       "version_minor": 0
      },
      "text/plain": [
       "0it [00:00, ?it/s]"
      ]
     },
     "metadata": {},
     "output_type": "display_data"
    },
    {
     "name": "stdout",
     "output_type": "stream",
     "text": [
      "F1:  0.3976 AUC:  0.9207 Pr:  0.3349 Rec:  0.4893  Acc:  0.9572 Thresh:  0.2086 Pred Def: 47396 Actual: 32439 \n",
      "Confusion Matrix: \n",
      ": [[1059271   31525]\n",
      " [  16568   15871]]\n"
     ]
    },
    {
     "data": {
      "application/vnd.jupyter.widget-view+json": {
       "model_id": "897a54829ee54f819a68513dba7018e1",
       "version_major": 2,
       "version_minor": 0
      },
      "text/plain": [
       "  0%|          | 0/4937 [00:00<?, ?it/s]"
      ]
     },
     "metadata": {},
     "output_type": "display_data"
    },
    {
     "data": {
      "application/vnd.jupyter.widget-view+json": {
       "model_id": "aa57e399b9404c498fa48404bbd593ac",
       "version_major": 2,
       "version_minor": 0
      },
      "text/plain": [
       "0it [00:00, ?it/s]"
      ]
     },
     "metadata": {},
     "output_type": "display_data"
    },
    {
     "name": "stdout",
     "output_type": "stream",
     "text": [
      "F1:  0.3987 AUC:  0.9217 Pr:  0.3337 Rec:  0.4952  Acc:  0.9569 Thresh:  0.2029 Pred Def: 48136 Actual: 32439 \n",
      "Confusion Matrix: \n",
      ": [[1058723   32073]\n",
      " [  16376   16063]]\n"
     ]
    },
    {
     "data": {
      "application/vnd.jupyter.widget-view+json": {
       "model_id": "14fcbe780bcf47f2a03e7c8a2f5801b5",
       "version_major": 2,
       "version_minor": 0
      },
      "text/plain": [
       "  0%|          | 0/4937 [00:00<?, ?it/s]"
      ]
     },
     "metadata": {},
     "output_type": "display_data"
    },
    {
     "data": {
      "application/vnd.jupyter.widget-view+json": {
       "model_id": "969effc8e9064ffc9325a51d28725946",
       "version_major": 2,
       "version_minor": 0
      },
      "text/plain": [
       "0it [00:00, ?it/s]"
      ]
     },
     "metadata": {},
     "output_type": "display_data"
    },
    {
     "name": "stdout",
     "output_type": "stream",
     "text": [
      "F1:  0.4010 AUC:  0.9221 Pr:  0.3529 Rec:  0.4642  Acc:  0.9599 Thresh:  0.2048 Pred Def: 42666 Actual: 32439 \n",
      "Confusion Matrix: \n",
      ": [[1063188   27608]\n",
      " [  17381   15058]]\n"
     ]
    },
    {
     "data": {
      "application/vnd.jupyter.widget-view+json": {
       "model_id": "b89504eed96d409fa56407095e44aef5",
       "version_major": 2,
       "version_minor": 0
      },
      "text/plain": [
       "  0%|          | 0/4937 [00:00<?, ?it/s]"
      ]
     },
     "metadata": {},
     "output_type": "display_data"
    },
    {
     "data": {
      "application/vnd.jupyter.widget-view+json": {
       "model_id": "20283f3978774e6c92b38bf137864777",
       "version_major": 2,
       "version_minor": 0
      },
      "text/plain": [
       "0it [00:00, ?it/s]"
      ]
     },
     "metadata": {},
     "output_type": "display_data"
    },
    {
     "name": "stdout",
     "output_type": "stream",
     "text": [
      "F1:  0.4002 AUC:  0.9217 Pr:  0.3634 Rec:  0.4454  Acc:  0.9614 Thresh:  0.2049 Pred Def: 39762 Actual: 32439 \n",
      "Confusion Matrix: \n",
      ": [[1065482   25314]\n",
      " [  17991   14448]]\n"
     ]
    },
    {
     "data": {
      "application/vnd.jupyter.widget-view+json": {
       "model_id": "fbc7bcf5d0454a3e9a8ec5f1830fdf56",
       "version_major": 2,
       "version_minor": 0
      },
      "text/plain": [
       "  0%|          | 0/4937 [00:00<?, ?it/s]"
      ]
     },
     "metadata": {},
     "output_type": "display_data"
    },
    {
     "data": {
      "application/vnd.jupyter.widget-view+json": {
       "model_id": "dadc87429cbe48ca94d6a47aa2e1e268",
       "version_major": 2,
       "version_minor": 0
      },
      "text/plain": [
       "0it [00:00, ?it/s]"
      ]
     },
     "metadata": {},
     "output_type": "display_data"
    },
    {
     "name": "stdout",
     "output_type": "stream",
     "text": [
      "F1:  0.4010 AUC:  0.9224 Pr:  0.3402 Rec:  0.4884  Acc:  0.9579 Thresh:  0.2031 Pred Def: 46576 Actual: 32439 \n",
      "Confusion Matrix: \n",
      ": [[1060064   30732]\n",
      " [  16595   15844]]\n"
     ]
    },
    {
     "data": {
      "application/vnd.jupyter.widget-view+json": {
       "model_id": "2856bd0d9e0140a49000b8393fca8c5d",
       "version_major": 2,
       "version_minor": 0
      },
      "text/plain": [
       "  0%|          | 0/4937 [00:00<?, ?it/s]"
      ]
     },
     "metadata": {},
     "output_type": "display_data"
    },
    {
     "data": {
      "application/vnd.jupyter.widget-view+json": {
       "model_id": "25cbfc8b072f4191b1c144eb854331e0",
       "version_major": 2,
       "version_minor": 0
      },
      "text/plain": [
       "0it [00:00, ?it/s]"
      ]
     },
     "metadata": {},
     "output_type": "display_data"
    },
    {
     "name": "stdout",
     "output_type": "stream",
     "text": [
      "F1:  0.3996 AUC:  0.9222 Pr:  0.3594 Rec:  0.4500  Acc:  0.9609 Thresh:  0.2071 Pred Def: 40623 Actual: 32439 \n",
      "Confusion Matrix: \n",
      ": [[1064772   26024]\n",
      " [  17840   14599]]\n",
      "Total time: 382.2052869796753\n"
     ]
    }
   ],
   "source": [
    "def binary_acc(y_pred, y_test):\n",
    "    with torch.no_grad():\n",
    "        y_pred_tag = torch.round(torch.sigmoid(y_pred))\n",
    "        correct_results_sum = (y_pred_tag == y_test).sum().float()\n",
    "        acc = correct_results_sum/y_test.shape[0]\n",
    "    return acc\n",
    "\n",
    "model_name = 'fnma_model_mlp_nvt'\n",
    "\n",
    "start = time.time()\n",
    "max_f1 = 0\n",
    "for e in range(1, EPOCHS+1):\n",
    "    epoch_loss = 0\n",
    "    epoch_acc = 0\n",
    "    train_loss, train_logits, train_targets = train_epoch(model, train_loader, optimizer, criterion, metric=binary_acc, device=device,\n",
    "                             epoch=e)\n",
    "    epoch_f1_score, threshold = calc_metrics(model, train_targets, train_logits, test_loader, criterion, device, use_cpu)\n",
    "    if epoch_f1_score > max_f1:\n",
    "        max_f1 = epoch_f1_score\n",
    "        # save the model\n",
    "        save_checkpoint(model, optimizer, e, epoch_f1_score, model_name, threshold=threshold, save_path=clean_data_path)\n",
    "    \n",
    "print(f'Total time: {time.time() - start}')\n"
   ]
  },
  {
   "cell_type": "code",
   "execution_count": 52,
   "metadata": {
    "ExecuteTime": {
     "end_time": "2021-07-14T21:54:07.702568Z",
     "start_time": "2021-07-14T21:54:07.677309Z"
    }
   },
   "outputs": [],
   "source": [
    "model, threshold = load_checkpoint(model_name, model, device, save_path=clean_data_path)"
   ]
  },
  {
   "cell_type": "code",
   "execution_count": 53,
   "metadata": {},
   "outputs": [
    {
     "data": {
      "application/vnd.jupyter.widget-view+json": {
       "model_id": "8beef426c448473fa4cd713cc272faeb",
       "version_major": 2,
       "version_minor": 0
      },
      "text/plain": [
       "0it [00:00, ?it/s]"
      ]
     },
     "metadata": {},
     "output_type": "display_data"
    },
    {
     "name": "stdout",
     "output_type": "stream",
     "text": [
      "Thresh:  0.1900 Prec:  0.3335 Rec:  0.4758 Pred Def: 570338 Actual: 399797 AUC:  0.9070 Acc:  0.9417 F1:  0.3922 AUPRC:  0.3326\n",
      "Confusion Matrix: \n",
      ": [[9329222  380105]\n",
      " [ 209564  190233]]\n",
      "Classification Report for Pytorch Classifier: \n",
      "               precision    recall  f1-score   support\n",
      "\n",
      "           0       0.98      0.96      0.97   9709327\n",
      "           1       0.33      0.48      0.39    399797\n",
      "\n",
      "    accuracy                           0.94  10109124\n",
      "   macro avg       0.66      0.72      0.68  10109124\n",
      "weighted avg       0.95      0.94      0.95  10109124\n",
      "\n"
     ]
    },
    {
     "data": {
      "image/png": "[encoded data removed]",
      "text/plain": [
       "<Figure size 864x432 with 2 Axes>"
      ]
     },
     "metadata": {},
     "output_type": "display_data"
    }
   ],
   "source": [
    "# in sample performance.\n",
    "_ = test_em(model, train_loader, criterion, threshold, device, use_cpu=use_cpu,\n",
    "            save_path=f'{figures_path}/in_sample_nvt_mlp_pyt_pr_roc.png')"
   ]
  },
  {
   "cell_type": "code",
   "execution_count": 54,
   "metadata": {
    "ExecuteTime": {
     "end_time": "2021-07-14T21:55:24.017092Z",
     "start_time": "2021-07-14T21:55:21.499715Z"
    }
   },
   "outputs": [
    {
     "data": {
      "application/vnd.jupyter.widget-view+json": {
       "model_id": "f462d9f328d04147836b33810ae142a7",
       "version_major": 2,
       "version_minor": 0
      },
      "text/plain": [
       "0it [00:00, ?it/s]"
      ]
     },
     "metadata": {},
     "output_type": "display_data"
    },
    {
     "name": "stdout",
     "output_type": "stream",
     "text": [
      "Thresh:  0.1900 Prec:  0.3310 Rec:  0.4388 Pred Def: 42994 Actual: 32439 AUC:  0.9135 Acc:  0.9582 F1:  0.3774 AUPRC:  0.3104\n",
      "Confusion Matrix: \n",
      ": [[1062035   28761]\n",
      " [  18206   14233]]\n",
      "Classification Report for Pytorch Classifier: \n",
      "               precision    recall  f1-score   support\n",
      "\n",
      "           0       0.98      0.97      0.98   1090796\n",
      "           1       0.33      0.44      0.38     32439\n",
      "\n",
      "    accuracy                           0.96   1123235\n",
      "   macro avg       0.66      0.71      0.68   1123235\n",
      "weighted avg       0.96      0.96      0.96   1123235\n",
      "\n"
     ]
    },
    {
     "data": {
      "image/png": "[encoded data removed]",
      "text/plain": [
       "<Figure size 864x432 with 2 Axes>"
      ]
     },
     "metadata": {},
     "output_type": "display_data"
    }
   ],
   "source": [
    "# out of sample performance.\n",
    "true_labels, pred_labels = test_em(model, test_loader, criterion, threshold, device, use_cpu=use_cpu,\n",
    "                                   save_path=f'{figures_path}/out_of_sample_nvt_mlp_pyt_pr_roc.png')"
   ]
  },
  {
   "cell_type": "code",
   "execution_count": 55,
   "metadata": {},
   "outputs": [
    {
     "data": {
      "image/png": "[encoded data removed]",
      "text/plain": [
       "<Figure size 432x288 with 2 Axes>"
      ]
     },
     "metadata": {},
     "output_type": "display_data"
    }
   ],
   "source": [
    "results = confusion_matrix(true_labels, pred_labels)\n",
    "results = cupy2numpy(results, True)\n",
    "plot_confusion_matrix(results, ['Normal','Anomaly'], title='Confusion Matrix', save_path=f'{figures_path}/nvt_mlp_confusion_matrix.png')"
   ]
  },
  {
   "cell_type": "markdown",
   "metadata": {
    "heading_collapsed": "true",
    "tags": []
   },
   "source": [
    "# Timings"
   ]
  },
  {
   "cell_type": "code",
   "execution_count": 56,
   "metadata": {},
   "outputs": [],
   "source": [
    "nvt_time = time.time()"
   ]
  },
  {
   "cell_type": "code",
   "execution_count": 57,
   "metadata": {},
   "outputs": [],
   "source": [
    "figures_path = '/rapids/notebooks/figures'"
   ]
  },
  {
   "cell_type": "code",
   "execution_count": 58,
   "metadata": {},
   "outputs": [],
   "source": [
    "import seaborn as sns\n",
    "sns.set()"
   ]
  },
  {
   "cell_type": "code",
   "execution_count": 5,
   "metadata": {
    "ExecuteTime": {
     "end_time": "2021-07-14T20:20:11.944557Z",
     "start_time": "2021-07-14T20:20:11.784209Z"
    }
   },
   "outputs": [
    {
     "data": {
      "text/plain": [
       "Text(0.5, 0, 'latency in seconds')"
      ]
     },
     "execution_count": 5,
     "metadata": {},
     "output_type": "execute_result"
    },
    {
     "data": {
      "image/png": "[encoded data removed]",
      "text/plain": [
       "<Figure size 720x432 with 1 Axes>"
      ]
     },
     "metadata": {
      "needs_background": "light"
     },
     "output_type": "display_data"
    }
   ],
   "source": [
    "#Orig from Aug 2 2021:\n",
    "fig, ax = plt.subplots(figsize=(10,6))\n",
    "#These timings are current as of Sep 2, 2020\n",
    "data = [[614.2, 19.5, 125.9, .176, 1821.1, 9370.6, 27.7, 0.0, 504.0],\n",
    "         [16.4, .137, 54.6, .007, 102.1, 3712.4, 4.3, 631.0, 254.9]]\n",
    "\n",
    "steps = ['read_csv', 'merge', 'xgb train', 'xgb inference',\n",
    "         'xgb shap', 'pyt train', 'pyt inference', 'nvtabular train\\n(GPU only)',\n",
    "         'captum\\ngradientshap']\n",
    "steps.reverse()\n",
    "data[0].reverse()\n",
    "data[1].reverse()\n",
    "#data[2].reverse()\n",
    "cpu = data[0]\n",
    "a100 = data[1]\n",
    "#a100 = data[2]\n",
    "DF = pd.DataFrame({#'NVIDIA A100 GPU': a100,\n",
    "                   'NVIDIA A100 GPU': a100,\n",
    "                   'Intel Xeon E5-2698 CPU': cpu}, index=steps)\n",
    "dict = {#\"NVIDIA A100 GPU\": \"darkgreen\",\n",
    "    \"NVIDIA A100 GPU\": \"#76B900\",\"CPU\": \"turquoise\"}\n",
    "_ = DF.plot.barh(color=dict.values(), ax=ax)\n",
    "plt.suptitle(\"RAPIDS GPU Acceleration of read_csv, merge, ML training ML inference, and Shapley ML Explanation\")\n",
    "ax.set_title('Run times on CPU and GPU - Lower is better')\n",
    "ax.set_xlabel('latency in seconds')\n",
    "\n",
    "# print(\"               RAPIDS GPU Acceleration of read_csv, merge, ML training,\")\n",
    "# print(\"                       ML inference, and Shapley ML Explanation\")"
   ]
  },
  {
   "cell_type": "code",
   "execution_count": 14,
   "metadata": {},
   "outputs": [
    {
     "ename": "PermissionError",
     "evalue": "[Errno 13] Permission denied: '/rapids/notebooks/figures/perf_plot_preprocess.png'",
     "output_type": "error",
     "traceback": [
      "\u001b[0;31m---------------------------------------------------------------------------\u001b[0m",
      "\u001b[0;31mPermissionError\u001b[0m                           Traceback (most recent call last)",
      "\u001b[0;32m/tmp/ipykernel_1272610/2633115805.py\u001b[0m in \u001b[0;36m<module>\u001b[0;34m\u001b[0m\n\u001b[1;32m     21\u001b[0m \u001b[0mplt\u001b[0m\u001b[0;34m.\u001b[0m\u001b[0mtight_layout\u001b[0m\u001b[0;34m(\u001b[0m\u001b[0;34m)\u001b[0m\u001b[0;34m\u001b[0m\u001b[0;34m\u001b[0m\u001b[0m\n\u001b[1;32m     22\u001b[0m \u001b[0;31m# print(\"                  RAPIDS GPU Acceleration of read_csv, merge, DL inference\")\u001b[0m\u001b[0;34m\u001b[0m\u001b[0;34m\u001b[0m\u001b[0;34m\u001b[0m\u001b[0m\n\u001b[0;32m---> 23\u001b[0;31m \u001b[0mplt\u001b[0m\u001b[0;34m.\u001b[0m\u001b[0msavefig\u001b[0m\u001b[0;34m(\u001b[0m\u001b[0;34mf'{figures_path}/perf_plot_preprocess.png'\u001b[0m\u001b[0;34m,\u001b[0m \u001b[0mdpi\u001b[0m\u001b[0;34m=\u001b[0m\u001b[0;36m600\u001b[0m\u001b[0;34m)\u001b[0m\u001b[0;34m\u001b[0m\u001b[0;34m\u001b[0m\u001b[0m\n\u001b[0m",
      "\u001b[0;32m~/miniconda/envs/rapids-21.10/lib/python3.8/site-packages/matplotlib/pyplot.py\u001b[0m in \u001b[0;36msavefig\u001b[0;34m(*args, **kwargs)\u001b[0m\n\u001b[1;32m    964\u001b[0m \u001b[0;32mdef\u001b[0m \u001b[0msavefig\u001b[0m\u001b[0;34m(\u001b[0m\u001b[0;34m*\u001b[0m\u001b[0margs\u001b[0m\u001b[0;34m,\u001b[0m \u001b[0;34m**\u001b[0m\u001b[0mkwargs\u001b[0m\u001b[0;34m)\u001b[0m\u001b[0;34m:\u001b[0m\u001b[0;34m\u001b[0m\u001b[0;34m\u001b[0m\u001b[0m\n\u001b[1;32m    965\u001b[0m     \u001b[0mfig\u001b[0m \u001b[0;34m=\u001b[0m \u001b[0mgcf\u001b[0m\u001b[0;34m(\u001b[0m\u001b[0;34m)\u001b[0m\u001b[0;34m\u001b[0m\u001b[0;34m\u001b[0m\u001b[0m\n\u001b[0;32m--> 966\u001b[0;31m     \u001b[0mres\u001b[0m \u001b[0;34m=\u001b[0m \u001b[0mfig\u001b[0m\u001b[0;34m.\u001b[0m\u001b[0msavefig\u001b[0m\u001b[0;34m(\u001b[0m\u001b[0;34m*\u001b[0m\u001b[0margs\u001b[0m\u001b[0;34m,\u001b[0m \u001b[0;34m**\u001b[0m\u001b[0mkwargs\u001b[0m\u001b[0;34m)\u001b[0m\u001b[0;34m\u001b[0m\u001b[0;34m\u001b[0m\u001b[0m\n\u001b[0m\u001b[1;32m    967\u001b[0m     \u001b[0mfig\u001b[0m\u001b[0;34m.\u001b[0m\u001b[0mcanvas\u001b[0m\u001b[0;34m.\u001b[0m\u001b[0mdraw_idle\u001b[0m\u001b[0;34m(\u001b[0m\u001b[0;34m)\u001b[0m   \u001b[0;31m# need this if 'transparent=True' to reset colors\u001b[0m\u001b[0;34m\u001b[0m\u001b[0;34m\u001b[0m\u001b[0m\n\u001b[1;32m    968\u001b[0m     \u001b[0;32mreturn\u001b[0m \u001b[0mres\u001b[0m\u001b[0;34m\u001b[0m\u001b[0;34m\u001b[0m\u001b[0m\n",
      "\u001b[0;32m~/miniconda/envs/rapids-21.10/lib/python3.8/site-packages/matplotlib/figure.py\u001b[0m in \u001b[0;36msavefig\u001b[0;34m(self, fname, transparent, **kwargs)\u001b[0m\n\u001b[1;32m   3013\u001b[0m                 \u001b[0mpatch\u001b[0m\u001b[0;34m.\u001b[0m\u001b[0mset_edgecolor\u001b[0m\u001b[0;34m(\u001b[0m\u001b[0;34m'none'\u001b[0m\u001b[0;34m)\u001b[0m\u001b[0;34m\u001b[0m\u001b[0;34m\u001b[0m\u001b[0m\n\u001b[1;32m   3014\u001b[0m \u001b[0;34m\u001b[0m\u001b[0m\n\u001b[0;32m-> 3015\u001b[0;31m         \u001b[0mself\u001b[0m\u001b[0;34m.\u001b[0m\u001b[0mcanvas\u001b[0m\u001b[0;34m.\u001b[0m\u001b[0mprint_figure\u001b[0m\u001b[0;34m(\u001b[0m\u001b[0mfname\u001b[0m\u001b[0;34m,\u001b[0m \u001b[0;34m**\u001b[0m\u001b[0mkwargs\u001b[0m\u001b[0;34m)\u001b[0m\u001b[0;34m\u001b[0m\u001b[0;34m\u001b[0m\u001b[0m\n\u001b[0m\u001b[1;32m   3016\u001b[0m \u001b[0;34m\u001b[0m\u001b[0m\n\u001b[1;32m   3017\u001b[0m         \u001b[0;32mif\u001b[0m \u001b[0mtransparent\u001b[0m\u001b[0;34m:\u001b[0m\u001b[0;34m\u001b[0m\u001b[0;34m\u001b[0m\u001b[0m\n",
      "\u001b[0;32m~/miniconda/envs/rapids-21.10/lib/python3.8/site-packages/matplotlib/backend_bases.py\u001b[0m in \u001b[0;36mprint_figure\u001b[0;34m(self, filename, dpi, facecolor, edgecolor, orientation, format, bbox_inches, pad_inches, bbox_extra_artists, backend, **kwargs)\u001b[0m\n\u001b[1;32m   2253\u001b[0m                 \u001b[0;31m# force the figure dpi to 72), so we need to set it again here.\u001b[0m\u001b[0;34m\u001b[0m\u001b[0;34m\u001b[0m\u001b[0;34m\u001b[0m\u001b[0m\n\u001b[1;32m   2254\u001b[0m                 \u001b[0;32mwith\u001b[0m \u001b[0mcbook\u001b[0m\u001b[0;34m.\u001b[0m\u001b[0m_setattr_cm\u001b[0m\u001b[0;34m(\u001b[0m\u001b[0mself\u001b[0m\u001b[0;34m.\u001b[0m\u001b[0mfigure\u001b[0m\u001b[0;34m,\u001b[0m \u001b[0mdpi\u001b[0m\u001b[0;34m=\u001b[0m\u001b[0mdpi\u001b[0m\u001b[0;34m)\u001b[0m\u001b[0;34m:\u001b[0m\u001b[0;34m\u001b[0m\u001b[0;34m\u001b[0m\u001b[0m\n\u001b[0;32m-> 2255\u001b[0;31m                     result = print_method(\n\u001b[0m\u001b[1;32m   2256\u001b[0m                         \u001b[0mfilename\u001b[0m\u001b[0;34m,\u001b[0m\u001b[0;34m\u001b[0m\u001b[0;34m\u001b[0m\u001b[0m\n\u001b[1;32m   2257\u001b[0m                         \u001b[0mfacecolor\u001b[0m\u001b[0;34m=\u001b[0m\u001b[0mfacecolor\u001b[0m\u001b[0;34m,\u001b[0m\u001b[0;34m\u001b[0m\u001b[0;34m\u001b[0m\u001b[0m\n",
      "\u001b[0;32m~/miniconda/envs/rapids-21.10/lib/python3.8/site-packages/matplotlib/backend_bases.py\u001b[0m in \u001b[0;36mwrapper\u001b[0;34m(*args, **kwargs)\u001b[0m\n\u001b[1;32m   1667\u001b[0m             \u001b[0mkwargs\u001b[0m\u001b[0;34m.\u001b[0m\u001b[0mpop\u001b[0m\u001b[0;34m(\u001b[0m\u001b[0marg\u001b[0m\u001b[0;34m)\u001b[0m\u001b[0;34m\u001b[0m\u001b[0;34m\u001b[0m\u001b[0m\n\u001b[1;32m   1668\u001b[0m \u001b[0;34m\u001b[0m\u001b[0m\n\u001b[0;32m-> 1669\u001b[0;31m         \u001b[0;32mreturn\u001b[0m \u001b[0mfunc\u001b[0m\u001b[0;34m(\u001b[0m\u001b[0;34m*\u001b[0m\u001b[0margs\u001b[0m\u001b[0;34m,\u001b[0m \u001b[0;34m**\u001b[0m\u001b[0mkwargs\u001b[0m\u001b[0;34m)\u001b[0m\u001b[0;34m\u001b[0m\u001b[0;34m\u001b[0m\u001b[0m\n\u001b[0m\u001b[1;32m   1670\u001b[0m \u001b[0;34m\u001b[0m\u001b[0m\n\u001b[1;32m   1671\u001b[0m     \u001b[0;32mreturn\u001b[0m \u001b[0mwrapper\u001b[0m\u001b[0;34m\u001b[0m\u001b[0;34m\u001b[0m\u001b[0m\n",
      "\u001b[0;32m~/miniconda/envs/rapids-21.10/lib/python3.8/site-packages/matplotlib/backends/backend_agg.py\u001b[0m in \u001b[0;36mprint_png\u001b[0;34m(self, filename_or_obj, metadata, pil_kwargs, *args)\u001b[0m\n\u001b[1;32m    507\u001b[0m         \"\"\"\n\u001b[1;32m    508\u001b[0m         \u001b[0mFigureCanvasAgg\u001b[0m\u001b[0;34m.\u001b[0m\u001b[0mdraw\u001b[0m\u001b[0;34m(\u001b[0m\u001b[0mself\u001b[0m\u001b[0;34m)\u001b[0m\u001b[0;34m\u001b[0m\u001b[0;34m\u001b[0m\u001b[0m\n\u001b[0;32m--> 509\u001b[0;31m         mpl.image.imsave(\n\u001b[0m\u001b[1;32m    510\u001b[0m             \u001b[0mfilename_or_obj\u001b[0m\u001b[0;34m,\u001b[0m \u001b[0mself\u001b[0m\u001b[0;34m.\u001b[0m\u001b[0mbuffer_rgba\u001b[0m\u001b[0;34m(\u001b[0m\u001b[0;34m)\u001b[0m\u001b[0;34m,\u001b[0m \u001b[0mformat\u001b[0m\u001b[0;34m=\u001b[0m\u001b[0;34m\"png\"\u001b[0m\u001b[0;34m,\u001b[0m \u001b[0morigin\u001b[0m\u001b[0;34m=\u001b[0m\u001b[0;34m\"upper\"\u001b[0m\u001b[0;34m,\u001b[0m\u001b[0;34m\u001b[0m\u001b[0;34m\u001b[0m\u001b[0m\n\u001b[1;32m    511\u001b[0m             dpi=self.figure.dpi, metadata=metadata, pil_kwargs=pil_kwargs)\n",
      "\u001b[0;32m~/miniconda/envs/rapids-21.10/lib/python3.8/site-packages/matplotlib/image.py\u001b[0m in \u001b[0;36mimsave\u001b[0;34m(fname, arr, vmin, vmax, cmap, format, origin, dpi, metadata, pil_kwargs)\u001b[0m\n\u001b[1;32m   1614\u001b[0m         \u001b[0mpil_kwargs\u001b[0m\u001b[0;34m.\u001b[0m\u001b[0msetdefault\u001b[0m\u001b[0;34m(\u001b[0m\u001b[0;34m\"format\"\u001b[0m\u001b[0;34m,\u001b[0m \u001b[0mformat\u001b[0m\u001b[0;34m)\u001b[0m\u001b[0;34m\u001b[0m\u001b[0;34m\u001b[0m\u001b[0m\n\u001b[1;32m   1615\u001b[0m         \u001b[0mpil_kwargs\u001b[0m\u001b[0;34m.\u001b[0m\u001b[0msetdefault\u001b[0m\u001b[0;34m(\u001b[0m\u001b[0;34m\"dpi\"\u001b[0m\u001b[0;34m,\u001b[0m \u001b[0;34m(\u001b[0m\u001b[0mdpi\u001b[0m\u001b[0;34m,\u001b[0m \u001b[0mdpi\u001b[0m\u001b[0;34m)\u001b[0m\u001b[0;34m)\u001b[0m\u001b[0;34m\u001b[0m\u001b[0;34m\u001b[0m\u001b[0m\n\u001b[0;32m-> 1616\u001b[0;31m         \u001b[0mimage\u001b[0m\u001b[0;34m.\u001b[0m\u001b[0msave\u001b[0m\u001b[0;34m(\u001b[0m\u001b[0mfname\u001b[0m\u001b[0;34m,\u001b[0m \u001b[0;34m**\u001b[0m\u001b[0mpil_kwargs\u001b[0m\u001b[0;34m)\u001b[0m\u001b[0;34m\u001b[0m\u001b[0;34m\u001b[0m\u001b[0m\n\u001b[0m\u001b[1;32m   1617\u001b[0m \u001b[0;34m\u001b[0m\u001b[0m\n\u001b[1;32m   1618\u001b[0m \u001b[0;34m\u001b[0m\u001b[0m\n",
      "\u001b[0;32m~/miniconda/envs/rapids-21.10/lib/python3.8/site-packages/PIL/Image.py\u001b[0m in \u001b[0;36msave\u001b[0;34m(self, fp, format, **params)\u001b[0m\n\u001b[1;32m   2235\u001b[0m                 \u001b[0mfp\u001b[0m \u001b[0;34m=\u001b[0m \u001b[0mbuiltins\u001b[0m\u001b[0;34m.\u001b[0m\u001b[0mopen\u001b[0m\u001b[0;34m(\u001b[0m\u001b[0mfilename\u001b[0m\u001b[0;34m,\u001b[0m \u001b[0;34m\"r+b\"\u001b[0m\u001b[0;34m)\u001b[0m\u001b[0;34m\u001b[0m\u001b[0;34m\u001b[0m\u001b[0m\n\u001b[1;32m   2236\u001b[0m             \u001b[0;32melse\u001b[0m\u001b[0;34m:\u001b[0m\u001b[0;34m\u001b[0m\u001b[0;34m\u001b[0m\u001b[0m\n\u001b[0;32m-> 2237\u001b[0;31m                 \u001b[0mfp\u001b[0m \u001b[0;34m=\u001b[0m \u001b[0mbuiltins\u001b[0m\u001b[0;34m.\u001b[0m\u001b[0mopen\u001b[0m\u001b[0;34m(\u001b[0m\u001b[0mfilename\u001b[0m\u001b[0;34m,\u001b[0m \u001b[0;34m\"w+b\"\u001b[0m\u001b[0;34m)\u001b[0m\u001b[0;34m\u001b[0m\u001b[0;34m\u001b[0m\u001b[0m\n\u001b[0m\u001b[1;32m   2238\u001b[0m \u001b[0;34m\u001b[0m\u001b[0m\n\u001b[1;32m   2239\u001b[0m         \u001b[0;32mtry\u001b[0m\u001b[0;34m:\u001b[0m\u001b[0;34m\u001b[0m\u001b[0;34m\u001b[0m\u001b[0m\n",
      "\u001b[0;31mPermissionError\u001b[0m: [Errno 13] Permission denied: '/rapids/notebooks/figures/perf_plot_preprocess.png'"
     ]
    },
    {
     "data": {
      "image/png": "[encoded data removed]",
      "text/plain": [
       "<Figure size 720x432 with 1 Axes>"
      ]
     },
     "metadata": {
      "needs_background": "light"
     },
     "output_type": "display_data"
    }
   ],
   "source": [
    "fig, ax = plt.subplots(figsize=(10,6))\n",
    "#These timings are current as of Aug 2, 2021\n",
    "data = [[614.2, 19.5, 27.7],\n",
    "         [16.4, .137, 4.3]]\n",
    "\n",
    "steps = ['read_csv','merge', 'pyt inference']\n",
    "\n",
    "steps.reverse()\n",
    "data[0].reverse()\n",
    "data[1].reverse()\n",
    "cpu = data[0]\n",
    "a100 = data[1]\n",
    "DF = pd.DataFrame({'NVIDIA Ampere A100 GPU': a100,\n",
    "                   'Intel Xeon E5-2698 CPU': cpu}, index=steps)\n",
    "dct = {\"NVIDIA Ampere A100 GPU\": \"#76B900\",\"CPU\": \"turquoise\"}\n",
    "_ = DF.plot.barh(color=dct.values(), ax=ax)\n",
    "ax.set_title('Run times on CPU and GPU')\n",
    "ax.set_xlabel('latency in seconds')\n",
    "plt.suptitle(\"                  RAPIDS GPU Acceleration of read_csv, merge, DL inference\")\n",
    "ax.legend(loc='lower right')\n",
    "plt.tight_layout()\n",
    "# print(\"                  RAPIDS GPU Acceleration of read_csv, merge, DL inference\")\n",
    "plt.savefig(f'{figures_path}/perf_plot_preprocess.png', dpi=600)"
   ]
  },
  {
   "cell_type": "code",
   "execution_count": 15,
   "metadata": {},
   "outputs": [
    {
     "data": {
      "image/png": "[encoded data removed]",
      "text/plain": [
       "<Figure size 864x432 with 1 Axes>"
      ]
     },
     "metadata": {
      "needs_background": "light"
     },
     "output_type": "display_data"
    }
   ],
   "source": [
    "fig, ax = plt.subplots(figsize=(12,6))\n",
    "#These timings are current as of Aug 2, 2021\n",
    "data = [[125.9, 1821.1, 9370.6, 0.0, 504.0],\n",
    "         [54.6, 102.1, 3712.4, 631.0, 254.9]]\n",
    "\n",
    "steps = ['xgb train', 'xgb shap', 'pyt train', 'nvtabular train\\n(GPU only)',\n",
    "         'captum\\ngradientshap']\n",
    "steps.reverse()\n",
    "data[0].reverse()\n",
    "data[1].reverse()\n",
    "cpu = data[0]\n",
    "a100 = data[1]\n",
    "DF = pd.DataFrame({'NVIDIA A100 GPU': a100,\n",
    "                   'Intel Xeon E5-2698 CPU': cpu}, index=steps)\n",
    "dct = {\"NVIDIA Ampere A100 GPU\": \"#76B900\",\"CPU\": \"turquoise\"}\n",
    "_ = DF.plot.barh(color=dict.values(), ax=ax)\n",
    "ax.set_title('Run times on CPU and GPU')\n",
    "ax.set_xlabel('latency in seconds')\n",
    "plt.suptitle(\"                  RAPIDS GPU Acceleration of ML and DL train, NVTabular train, and Shapley ML and DL Explanation\")\n",
    "ax.legend(loc='lower right')\n",
    "plt.tight_layout()\n",
    "plt.savefig(f'{figures_path}/perf_plot_train.png', dpi=800)\n",
    "# print(\"    RAPIDS GPU Acceleration of ML and DL train, NVTabular train, and Shapley ML and DL Explanation\")"
   ]
  },
  {
   "cell_type": "code",
   "execution_count": 17,
   "metadata": {},
   "outputs": [
    {
     "data": {
      "image/png": "[encoded data removed]",
      "text/plain": [
       "<Figure size 720x432 with 1 Axes>"
      ]
     },
     "metadata": {
      "needs_background": "light"
     },
     "output_type": "display_data"
    }
   ],
   "source": [
    "fig, ax = plt.subplots(figsize=(10,6))\n",
    "#These timings are current as of Aug 2, 2021\n",
    "data = [[382.2], [2567.3]]\n",
    "\n",
    "# steps = ['xgb train', 'xgb shap', 'pyt train', 'nvtabular train\\n(GPU only)',\n",
    "#          'captum\\ngradientshap']\n",
    "# steps.reverse()\n",
    "# data[0].reverse()\n",
    "# data[1].reverse()\n",
    "nvt_a100 = data[0]\n",
    "pyt_a100 = data[1]\n",
    "DF = pd.DataFrame({'PyTorch via NVTabular API on GPU': nvt_a100, 'PyTorch on GPU': pyt_a100},\n",
    "                  index=['training\\nepoch\\nloop'],\n",
    "                 )\n",
    "color_dict = {\"PyTorch via NVTabular API on GPU\":  \"#76B900\", \"PyTorch on GPU\": \"pink\"}\n",
    "_ = DF.plot.barh(color=color_dict.values(), ax=ax)\n",
    "ax.set_title('Model train times with and without NVTabular on GPU')\n",
    "ax.set_xlabel('latency in seconds')\n",
    "# ax.set_ylabel('training\\nepoch\\nloop', rotation=0)\n",
    "# plt.suptitle(\"                  Train times with and without NVTabular on GPU\")\n",
    "ax.legend(loc='upper right')\n",
    "handles, labels = ax.get_legend_handles_labels()\n",
    "ax.legend(handles[::-1], labels[::-1])\n",
    "plt.tight_layout()\n",
    "plt.savefig(f'{figures_path}/perf_plot_nvt_train.png', dpi=600)\n",
    "\n",
    "# fig.subplots_adjust()"
   ]
  },
  {
   "cell_type": "code",
   "execution_count": null,
   "metadata": {},
   "outputs": [],
   "source": [
    "DF"
   ]
  },
  {
   "cell_type": "code",
   "execution_count": null,
   "metadata": {},
   "outputs": [],
   "source": [
    "pyt_a100"
   ]
  },
  {
   "cell_type": "code",
   "execution_count": null,
   "metadata": {},
   "outputs": [],
   "source": [
    "fig, ax = plt.subplots()\n",
    "ax.barh(y=[0,1], width=[nvt_a100[0], pyt_a100[0]], color=['pink', 'lightgreen'])\n",
    "_=ax.set_yticklabels([])"
   ]
  },
  {
   "cell_type": "code",
   "execution_count": null,
   "metadata": {},
   "outputs": [],
   "source": []
  },
  {
   "cell_type": "code",
   "execution_count": null,
   "metadata": {},
   "outputs": [],
   "source": [
    "# total run time\n",
    "print(nvt_time - total_start )"
   ]
  },
  {
   "cell_type": "code",
   "execution_count": null,
   "metadata": {},
   "outputs": [],
   "source": [
    "cum_time = [i - total_start for i in [data_prep_time, shap_time, pyt_time, pyt_data_prep_time, pyt_dl_time, nvt_time]]\n",
    "print(cum_time)"
   ]
  },
  {
   "cell_type": "code",
   "execution_count": null,
   "metadata": {},
   "outputs": [],
   "source": [
    "#  Tested on n a A100 32 GB GPU CUDA 11.2 Driver 460.32.03 on July 16, 2021\n",
    "# gpu_cum_time = [5.847876310348511, 77.14555883407593, 345.10619354248047, 347.9490294456482, 2602.528173685074, 2990.594742298126]"
   ]
  },
  {
   "cell_type": "code",
   "execution_count": null,
   "metadata": {},
   "outputs": [],
   "source": []
  }
 ],
 "metadata": {
  "kernelspec": {
   "display_name": "Python 3 (ipykernel)",
   "language": "python",
   "name": "python3"
  },
  "language_info": {
   "codemirror_mode": {
    "name": "ipython",
    "version": 3
   },
   "file_extension": ".py",
   "mimetype": "text/x-python",
   "name": "python",
   "nbconvert_exporter": "python",
   "pygments_lexer": "ipython3",
   "version": "3.8.12"
  }
 },
 "nbformat": 4,
 "nbformat_minor": 4
}
