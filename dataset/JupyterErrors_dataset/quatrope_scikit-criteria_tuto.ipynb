{
 "cells": [
  {
   "cell_type": "markdown",
   "metadata": {},
   "source": [
    "# Tutorial of how to use scikit-criteria AHP extension module\n",
    "\n",
    "- Author: Juan B Cabral <jbc.develop@gmail.com>\n",
    "- 2018-feb-11\n",
    "\n",
    "\n",
    "## Considerations\n",
    "\n",
    "- This tutorial asumes that you know the [AHP method](https://en.wikipedia.org/wiki/Analytic_hierarchy_process)\n",
    "- The full example is [here](https://docs.google.com/presentation/d/e/2PACX-1vRM9OXDQFtY5s8VUkf8t7k9ah8RzgX9cgoRbTPyXZl0z66s2kZTHyPkjW-ask-5qFQWEnMpdvZeSsA4/pub?start=false&loop=false&delayms=3000) (Spanish only)\n",
    "\n",
    "## Citation\n",
    "\n",
    "If you use scikit-criteria or the AHP extension in a scientific publication or thesis, we would appreciate citations to the following paper:\n",
    "\n",
    "> Cabral, Juan B., Nadia Ayelen Luczywo, and José Luis Zanazzi 2016 Scikit-Criteria: Colección de Métodos de Análisis Multi-Criterio Integrado Al Stack Científico de Python. In XLV Jornadas Argentinas de Informática E Investigación Operativa (45JAIIO)-XIV Simposio Argentino de Investigación Operativa (SIO) (Buenos Aires, 2016) Pp. 59–66. http://45jaiio.sadio.org.ar/sites/default/files/Sio-23.pdf.\n",
    "\n",
    "Bibtex entry:\n",
    "\n",
    "```bibtex\n",
    "@inproceedings{scikit-criteria,\n",
    "    author={\n",
    "        Juan B Cabral and Nadia Ayelen Luczywo and Jos\\'{e} Luis Zanazzi},\n",
    "    title={\n",
    "        Scikit-Criteria: Colecci\\'{o}n de m\\'{e}todos de an\\'{a}lisis\n",
    "        multi-criterio integrado al stack cient\\'{i}fico de {P}ython},\n",
    "    booktitle = {\n",
    "        XLV Jornadas Argentinas de Inform{\\'a}tica\n",
    "        e Investigaci{\\'o}n Operativa (45JAIIO)-\n",
    "        XIV Simposio Argentino de Investigaci\\'{o}n Operativa (SIO)\n",
    "        (Buenos Aires, 2016)},\n",
    "    year={2016},\n",
    "    pages = {59--66},\n",
    "    url={http://45jaiio.sadio.org.ar/sites/default/files/Sio-23.pdf}\n",
    "}\n",
    "```\n",
    "\n",
    "## Instalation\n",
    "\n",
    "1. **Installing Scikit-Criteria:** http://scikit-criteria.org/en/latest/install.html\n",
    "2. Download the ahp.py module.\n",
    "\n",
    "\n",
    "## Why AHP is not part of Scikit-Criteria\n",
    "\n",
    "The main problem is how the data are feeded to AHP. All the methods included in Scikit-Criteria uses the clasical \n",
    "\n",
    "$$\n",
    "    SkC_{madm}(mtx, criteria, weights)\n",
    "$$\n",
    "\n",
    "Where\n",
    "\n",
    "- $SkC_{madm}$ is a Scikit-Criteria multi-attribute-decision-making method\n",
    "- $mtx$ is the alternative  2D array-like matrix, where where every column is a criteria, and every row is an alternative.\n",
    "- $criteria$ 1D array-like whit the same number of elements than columns has the alternative mattrix (mtx) where every component represent the optimal sense of every criteria.\n",
    "- $weights$ weights 1D array like.\n",
    "\n",
    "All this 3 components can be modeled as the single scikit-criteria DATA object:"
   ]
  },
  {
   "cell_type": "code",
   "execution_count": 3,
   "metadata": {},
   "outputs": [],
   "source": [
    "from skcriteria import Data, MIN, MAX"
   ]
  },
  {
   "cell_type": "code",
   "execution_count": 5,
   "metadata": {},
   "outputs": [
    {
     "data": {
      "text/plain": [
       "[[1, 2, 3], [4, 5, 6]]"
      ]
     },
     "execution_count": 5,
     "metadata": {},
     "output_type": "execute_result"
    }
   ],
   "source": [
    "mtx = [\n",
    "    [1, 2, 3],  # alternative 1\n",
    "    [4, 5, 6],  # alternative 2\n",
    "]\n",
    "mtx"
   ]
  },
  {
   "cell_type": "code",
   "execution_count": 6,
   "metadata": {},
   "outputs": [
    {
     "data": {
      "text/plain": [
       "[1, 1, -1]"
      ]
     },
     "execution_count": 6,
     "metadata": {},
     "output_type": "execute_result"
    }
   ],
   "source": [
    "# let's says the first two alternatives are\n",
    "# for maximization and the last one for minimization\n",
    "criteria = [MAX, MAX, MIN]\n",
    "criteria"
   ]
  },
  {
   "cell_type": "code",
   "execution_count": 7,
   "metadata": {},
   "outputs": [
    {
     "data": {
      "text/plain": [
       "[0.5, 0.05, 0.45]"
      ]
     },
     "execution_count": 7,
     "metadata": {},
     "output_type": "execute_result"
    }
   ],
   "source": [
    "# et’s asume we know in our case, that the importance of\n",
    "# the autonomy is the 50%, the confort only a 5% and\n",
    "# the price is 45%\n",
    "weights = [0.5, 0.05, 0.45]\n",
    "weights"
   ]
  },
  {
   "cell_type": "code",
   "execution_count": 9,
   "metadata": {},
   "outputs": [
    {
     "data": {
      "text/html": [
       "<table>\n",
       "<thead>\n",
       "<tr><th style=\"text-align: center;\"> ALT./CRIT. </th><th style=\"text-align: center;\"> C0 (max) W.0.5 </th><th style=\"text-align: center;\"> C1 (max) W.0.05 </th><th style=\"text-align: center;\"> C2 (min) W.0.45 </th></tr>\n",
       "</thead>\n",
       "<tbody>\n",
       "<tr><td style=\"text-align: center;\">     A0     </td><td style=\"text-align: center;\">       1        </td><td style=\"text-align: center;\">        2        </td><td style=\"text-align: center;\">        3        </td></tr>\n",
       "<tr><td style=\"text-align: center;\">     A1     </td><td style=\"text-align: center;\">       4        </td><td style=\"text-align: center;\">        5        </td><td style=\"text-align: center;\">        6        </td></tr>\n",
       "</tbody>\n",
       "</table>"
      ],
      "text/plain": [
       " ALT./CRIT.    C0 (max) W.0.5    C1 (max) W.0.05    C2 (min) W.0.45\n",
       "------------  ----------------  -----------------  -----------------\n",
       "     A0              1                  2                  3\n",
       "     A1              4                  5                  6"
      ]
     },
     "execution_count": 9,
     "metadata": {},
     "output_type": "execute_result"
    }
   ],
   "source": [
    "data = Data(mtx, criteria, weights)\n",
    "data"
   ]
  },
  {
   "cell_type": "markdown",
   "metadata": {},
   "source": [
    "In other hand AHP uses as an in put 2 totally different \n",
    "\n",
    "$$\n",
    "AHP(CvC, AvA)\n",
    "$$\n",
    "\n",
    "Where:\n",
    "\n",
    "- $CVC$: A triangular matrix of criteria vs criteria with values from **Satty Scale**\n",
    "- $AvA$: A collection of $n$ triangular matrices of alternative vs alternative with values from **Satty Scale**\n",
    "\n",
    "## AHP Turorial\n",
    "\n",
    "### 1. Creating triangular matrices\n",
    "\n",
    "first we need to import the ahp module"
   ]
  },
  {
   "cell_type": "code",
   "execution_count": 24,
   "metadata": {},
   "outputs": [],
   "source": [
    "import ahp"
   ]
  },
  {
   "cell_type": "markdown",
   "metadata": {},
   "source": [
    "The function `ahp.t` (from triangular) accept the lower half of the mattrix and return a complete mattrix with the reciprocal values"
   ]
  },
  {
   "cell_type": "code",
   "execution_count": 25,
   "metadata": {},
   "outputs": [
    {
     "data": {
      "text/plain": [
       "array([[1.        , 1.        , 3.        ],\n",
       "       [1.        , 1.        , 6.        ],\n",
       "       [0.33333333, 0.16666667, 1.        ]])"
      ]
     },
     "execution_count": 25,
     "metadata": {},
     "output_type": "execute_result"
    }
   ],
   "source": [
    "mtx = ahp.t([[1], [1.0, 1], [1 / 3.0, 1 / 6.0, 1]])\n",
    "mtx"
   ]
  },
  {
   "cell_type": "markdown",
   "metadata": {},
   "source": [
    "### 2. Validating the data (optional)\n",
    "\n",
    "You can validate if some mattrix has the correct values for AHP with the function \n",
    "\n",
    "```python\n",
    "    ahp.validate_ahp_matrix(n, mtx)\n",
    "```\n",
    "\n",
    "Where:\n",
    "\n",
    "- `n`: is the number of rows and columns (remember all mattrix in AHP has the same rows and columns).\n",
    "- `mtx`: The mattrix to validate.\n",
    "\n",
    "#### Example 1 - Correct Mattrix"
   ]
  },
  {
   "cell_type": "code",
   "execution_count": 26,
   "metadata": {},
   "outputs": [],
   "source": [
    "# this validate the data\n",
    "ahp.validate_ahp_matrix(3, mtx)"
   ]
  },
  {
   "cell_type": "markdown",
   "metadata": {},
   "source": [
    "#### Example 2 invalid Satty Values in the cell `(0, 1)`"
   ]
  },
  {
   "cell_type": "code",
   "execution_count": 28,
   "metadata": {},
   "outputs": [
    {
     "data": {
      "text/plain": [
       "array([[ 1.        , 89.        ,  3.        ],\n",
       "       [ 1.        ,  1.        ,  6.        ],\n",
       "       [ 0.33333333,  0.16666667,  1.        ]])"
      ]
     },
     "execution_count": 28,
     "metadata": {},
     "output_type": "execute_result"
    }
   ],
   "source": [
    "invalid_mtx = mtx.copy()\n",
    "invalid_mtx[0, 1] = 89\n",
    "invalid_mtx"
   ]
  },
  {
   "cell_type": "code",
   "execution_count": 29,
   "metadata": {},
   "outputs": [
    {
     "ename": "ValueError",
     "evalue": "All values must >= 1 and <= 9",
     "output_type": "error",
     "traceback": [
      "\u001b[0;31m---------------------------------------------------------------------------\u001b[0m",
      "\u001b[0;31mValueError\u001b[0m                                Traceback (most recent call last)",
      "\u001b[0;32m<ipython-input-29-70f781c61428>\u001b[0m in \u001b[0;36m<module>\u001b[0;34m()\u001b[0m\n\u001b[0;32m----> 1\u001b[0;31m \u001b[0mahp\u001b[0m\u001b[0;34m.\u001b[0m\u001b[0mvalidate_ahp_matrix\u001b[0m\u001b[0;34m(\u001b[0m\u001b[0;36m3\u001b[0m\u001b[0;34m,\u001b[0m \u001b[0minvalid_mtx\u001b[0m\u001b[0;34m)\u001b[0m\u001b[0;34m\u001b[0m\u001b[0m\n\u001b[0m",
      "\u001b[0;32m~/proyectos/skcriteria/src/ahp.py\u001b[0m in \u001b[0;36mvalidate_ahp_matrix\u001b[0;34m(rows_and_columns, mtx, mtxtype)\u001b[0m\n\u001b[1;32m    165\u001b[0m         \u001b[0;32mraise\u001b[0m \u001b[0mValueError\u001b[0m\u001b[0;34m(\u001b[0m\u001b[0mmsg\u001b[0m\u001b[0;34m)\u001b[0m\u001b[0;34m\u001b[0m\u001b[0m\n\u001b[1;32m    166\u001b[0m \u001b[0;34m\u001b[0m\u001b[0m\n\u001b[0;32m--> 167\u001b[0;31m     \u001b[0mvalidate_values\u001b[0m\u001b[0;34m(\u001b[0m\u001b[0mmtx\u001b[0m\u001b[0;34m)\u001b[0m\u001b[0;34m\u001b[0m\u001b[0m\n\u001b[0m\u001b[1;32m    168\u001b[0m \u001b[0;34m\u001b[0m\u001b[0m\n\u001b[1;32m    169\u001b[0m     \u001b[0mtriu\u001b[0m\u001b[0;34m,\u001b[0m \u001b[0mtril\u001b[0m \u001b[0;34m=\u001b[0m \u001b[0mnp\u001b[0m\u001b[0;34m.\u001b[0m\u001b[0mtriu\u001b[0m\u001b[0;34m(\u001b[0m\u001b[0mmtx\u001b[0m\u001b[0;34m)\u001b[0m\u001b[0;34m,\u001b[0m \u001b[0mnp\u001b[0m\u001b[0;34m.\u001b[0m\u001b[0mtril\u001b[0m\u001b[0;34m(\u001b[0m\u001b[0mmtx\u001b[0m\u001b[0;34m)\u001b[0m\u001b[0;34m\u001b[0m\u001b[0m\n",
      "\u001b[0;32m~/proyectos/skcriteria/src/ahp.py\u001b[0m in \u001b[0;36mvalidate_values\u001b[0;34m(values)\u001b[0m\n\u001b[1;32m    131\u001b[0m     \u001b[0;32mif\u001b[0m \u001b[0;32mnot\u001b[0m \u001b[0mnp\u001b[0m\u001b[0;34m.\u001b[0m\u001b[0mall\u001b[0m\u001b[0;34m(\u001b[0m\u001b[0;34m(\u001b[0m\u001b[0mvalues\u001b[0m \u001b[0;34m>\u001b[0m \u001b[0mSAATY_MIN\u001b[0m\u001b[0;34m)\u001b[0m \u001b[0;34m&\u001b[0m \u001b[0;34m(\u001b[0m\u001b[0mvalues\u001b[0m \u001b[0;34m<\u001b[0m \u001b[0mSAATY_MAX\u001b[0m\u001b[0;34m)\u001b[0m\u001b[0;34m)\u001b[0m\u001b[0;34m:\u001b[0m\u001b[0;34m\u001b[0m\u001b[0m\n\u001b[1;32m    132\u001b[0m         \u001b[0mmsg\u001b[0m \u001b[0;34m=\u001b[0m \u001b[0;34m\"All values must >= {} and <= {}\"\u001b[0m\u001b[0;34m\u001b[0m\u001b[0m\n\u001b[0;32m--> 133\u001b[0;31m         \u001b[0;32mraise\u001b[0m \u001b[0mValueError\u001b[0m\u001b[0;34m(\u001b[0m\u001b[0mmsg\u001b[0m\u001b[0;34m.\u001b[0m\u001b[0mformat\u001b[0m\u001b[0;34m(\u001b[0m\u001b[0mSAATY_MIN\u001b[0m\u001b[0;34m+\u001b[0m\u001b[0;36m1\u001b[0m\u001b[0;34m,\u001b[0m \u001b[0mSAATY_MAX\u001b[0m\u001b[0;34m-\u001b[0m\u001b[0;36m1\u001b[0m\u001b[0;34m)\u001b[0m\u001b[0;34m)\u001b[0m\u001b[0;34m\u001b[0m\u001b[0m\n\u001b[0m\u001b[1;32m    134\u001b[0m \u001b[0;34m\u001b[0m\u001b[0m\n\u001b[1;32m    135\u001b[0m \u001b[0;34m\u001b[0m\u001b[0m\n",
      "\u001b[0;31mValueError\u001b[0m: All values must >= 1 and <= 9"
     ]
    }
   ],
   "source": [
    "ahp.validate_ahp_matrix(3, invalid_mtx)"
   ]
  },
  {
   "cell_type": "markdown",
   "metadata": {},
   "source": [
    "####  Example 3:  Matrix with un-recriprocal values"
   ]
  },
  {
   "cell_type": "code",
   "execution_count": 32,
   "metadata": {},
   "outputs": [
    {
     "data": {
      "text/plain": [
       "array([[1.        , 0.5       , 3.        ],\n",
       "       [1.        , 1.        , 6.        ],\n",
       "       [0.33333333, 0.16666667, 1.        ]])"
      ]
     },
     "execution_count": 32,
     "metadata": {},
     "output_type": "execute_result"
    }
   ],
   "source": [
    "invalid_mtx = mtx.copy()\n",
    "invalid_mtx[0, 1] = 0.5\n",
    "invalid_mtx"
   ]
  },
  {
   "cell_type": "code",
   "execution_count": 33,
   "metadata": {},
   "outputs": [
    {
     "ename": "ValueError",
     "evalue": "The matix is not symmetric with reciprocal values",
     "output_type": "error",
     "traceback": [
      "\u001b[0;31m---------------------------------------------------------------------------\u001b[0m",
      "\u001b[0;31mValueError\u001b[0m                                Traceback (most recent call last)",
      "\u001b[0;32m<ipython-input-33-70f781c61428>\u001b[0m in \u001b[0;36m<module>\u001b[0;34m()\u001b[0m\n\u001b[0;32m----> 1\u001b[0;31m \u001b[0mahp\u001b[0m\u001b[0;34m.\u001b[0m\u001b[0mvalidate_ahp_matrix\u001b[0m\u001b[0;34m(\u001b[0m\u001b[0;36m3\u001b[0m\u001b[0;34m,\u001b[0m \u001b[0minvalid_mtx\u001b[0m\u001b[0;34m)\u001b[0m\u001b[0;34m\u001b[0m\u001b[0m\n\u001b[0m",
      "\u001b[0;32m~/proyectos/skcriteria/src/ahp.py\u001b[0m in \u001b[0;36mvalidate_ahp_matrix\u001b[0;34m(rows_and_columns, mtx, mtxtype)\u001b[0m\n\u001b[1;32m    178\u001b[0m \u001b[0;34m\u001b[0m\u001b[0m\n\u001b[1;32m    179\u001b[0m     \u001b[0;32mif\u001b[0m \u001b[0;32mnot\u001b[0m \u001b[0mnp\u001b[0m\u001b[0;34m.\u001b[0m\u001b[0mallclose\u001b[0m\u001b[0;34m(\u001b[0m\u001b[0mtriu\u001b[0m\u001b[0;34m,\u001b[0m \u001b[0mtrilu\u001b[0m\u001b[0;34m)\u001b[0m\u001b[0;34m:\u001b[0m\u001b[0;34m\u001b[0m\u001b[0m\n\u001b[0;32m--> 180\u001b[0;31m         \u001b[0;32mraise\u001b[0m \u001b[0mValueError\u001b[0m\u001b[0;34m(\u001b[0m\u001b[0;34m\"The matix is not symmetric with reciprocal values\"\u001b[0m\u001b[0;34m)\u001b[0m\u001b[0;34m\u001b[0m\u001b[0m\n\u001b[0m\u001b[1;32m    181\u001b[0m \u001b[0;34m\u001b[0m\u001b[0m\n\u001b[1;32m    182\u001b[0m \u001b[0;34m\u001b[0m\u001b[0m\n",
      "\u001b[0;31mValueError\u001b[0m: The matix is not symmetric with reciprocal values"
     ]
    }
   ],
   "source": [
    "ahp.validate_ahp_matrix(3, invalid_mtx)"
   ]
  },
  {
   "cell_type": "markdown",
   "metadata": {},
   "source": [
    "### 3. Running AHP\n",
    "\n",
    "First lets create a criteria vs criteria mattrix"
   ]
  },
  {
   "cell_type": "code",
   "execution_count": 35,
   "metadata": {},
   "outputs": [
    {
     "data": {
      "text/plain": [
       "array([[1.        , 3.        , 3.        ],\n",
       "       [0.33333333, 1.        , 2.        ],\n",
       "       [0.33333333, 0.5       , 1.        ]])"
      ]
     },
     "execution_count": 35,
     "metadata": {},
     "output_type": "execute_result"
    }
   ],
   "source": [
    "crit_vs_crit = ahp.t([[1.0], [1.0 / 3.0, 1.0], [1.0 / 3.0, 1.0 / 2.0, 1.0]])\n",
    "crit_vs_crit"
   ]
  },
  {
   "cell_type": "markdown",
   "metadata": {},
   "source": [
    "And lets asume we have 3 alternatives, and because we have 3 criteria: 3 alternatives vs alternatives mattrix must be created"
   ]
  },
  {
   "cell_type": "code",
   "execution_count": 36,
   "metadata": {},
   "outputs": [
    {
     "data": {
      "text/plain": [
       "[array([[1.        , 5.        , 3.        ],\n",
       "        [0.2       , 1.        , 0.33333333],\n",
       "        [0.33333333, 3.        , 1.        ]]),\n",
       " array([[1.        , 0.11111111, 0.33333333],\n",
       "        [9.        , 1.        , 5.        ],\n",
       "        [3.        , 0.2       , 1.        ]]),\n",
       " array([[1.        , 2.        , 0.2       ],\n",
       "        [0.5       , 1.        , 0.14285714],\n",
       "        [5.        , 7.        , 1.        ]])]"
      ]
     },
     "execution_count": 36,
     "metadata": {},
     "output_type": "execute_result"
    }
   ],
   "source": [
    "alt_vs_alt_by_crit = [\n",
    "    ahp.t([[1.0], [1.0 / 5.0, 1.0], [1.0 / 3.0, 3.0, 1.0]]),\n",
    "    ahp.t([[1.0], [9.0, 1.0], [3.0, 1.0 / 5.0, 1.0]]),\n",
    "    ahp.t([[1.0], [1 / 2.0, 1.0], [5.0, 7.0, 1.0]]),\n",
    "]\n",
    "\n",
    "alt_vs_alt_by_crit"
   ]
  },
  {
   "cell_type": "markdown",
   "metadata": {},
   "source": [
    "Now run th `ahp.ahp()` function. This function return 6 values\n",
    "\n",
    "1. The rank of the alternatives (`rank`).\n",
    "2. The points of every alternative (`points`).\n",
    "3. The criteria consistence index (`crit_ci`)\n",
    "4. The alternative vs alternative by criteria consistency index (`avabc_ci`)\n",
    "5. The criteria consistence ratio (`crit_cr`). \n",
    "   ranked, points, crit_ci, avabc_ci, crit_cr, avabc_cr\n",
    "6. The alternative vs alternative by criteria consistency ratio (`avabc_cr`)"
   ]
  },
  {
   "cell_type": "code",
   "execution_count": 49,
   "metadata": {},
   "outputs": [],
   "source": [
    "result = ahp.ahp(crit_vs_crit, alt_vs_alt_by_crit)\n",
    "rank, points, crit_ci, avabc_ci, crit_cr, avabc_cr = result"
   ]
  },
  {
   "cell_type": "markdown",
   "metadata": {},
   "source": [
    "### 4. Analysing the results\n",
    "\n",
    "The `rank` vector:"
   ]
  },
  {
   "cell_type": "code",
   "execution_count": 50,
   "metadata": {},
   "outputs": [
    {
     "data": {
      "text/plain": [
       "array([1, 3, 2])"
      ]
     },
     "execution_count": 50,
     "metadata": {},
     "output_type": "execute_result"
    }
   ],
   "source": [
    "rank"
   ]
  },
  {
   "cell_type": "markdown",
   "metadata": {},
   "source": [
    "So ouer best altetnative is the first one, and the worst is the second one"
   ]
  },
  {
   "cell_type": "markdown",
   "metadata": {},
   "source": [
    "The final points of every alternative is:"
   ]
  },
  {
   "cell_type": "code",
   "execution_count": 51,
   "metadata": {},
   "outputs": [
    {
     "data": {
      "text/plain": [
       "array([0.41765182, 0.26598058, 0.3163676 ])"
      ]
     },
     "execution_count": 51,
     "metadata": {},
     "output_type": "execute_result"
    }
   ],
   "source": [
    "points"
   ]
  }
 ],
 "metadata": {
  "kernelspec": {
   "display_name": "Python 3",
   "language": "python",
   "name": "python"
  },
  "language_info": {
   "codemirror_mode": {
    "name": "ipython",
    "version": 3
   },
   "file_extension": ".py",
   "mimetype": "text/x-python",
   "name": "python",
   "nbconvert_exporter": "python",
   "pygments_lexer": "python3",
   "version": "3.6.3"
  }
 },
 "nbformat": 4,
 "nbformat_minor": 2
}
