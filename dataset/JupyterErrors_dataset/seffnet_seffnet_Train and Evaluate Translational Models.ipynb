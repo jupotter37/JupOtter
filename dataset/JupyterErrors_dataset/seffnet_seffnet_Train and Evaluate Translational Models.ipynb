{
 "cells": [
  {
   "cell_type": "code",
   "execution_count": 2,
   "metadata": {},
   "outputs": [],
   "source": [
    "from biokeen.convert import to_pykeen_df, to_pykeen_path\n",
    "import pybel\n",
    "import biokeen\n",
    "import pykeen\n",
    "from pykeen.kge_models import TransH\n",
    "from pykeen.kge_models import TransR\n",
    "import logging\n",
    "import os\n",
    "import sys\n",
    "import time"
   ]
  },
  {
   "cell_type": "code",
   "execution_count": 2,
   "metadata": {},
   "outputs": [],
   "source": [
    "logging.basicConfig(level=logging.INFO)\n",
    "logging.getLogger('pykeen').setLevel(logging.INFO)"
   ]
  },
  {
   "cell_type": "code",
   "execution_count": 3,
   "metadata": {},
   "outputs": [],
   "source": [
    "full_graph = pybel.from_pickle(\"/home/raldisi/Desktop/full_graph.pickle\")"
   ]
  },
  {
   "cell_type": "code",
   "execution_count": 1,
   "metadata": {},
   "outputs": [],
   "source": [
    "#full_df = to_pykeen_df(full_graph)"
   ]
  },
  {
   "cell_type": "code",
   "execution_count": 4,
   "metadata": {},
   "outputs": [
    {
     "data": {
      "text/plain": [
       "True"
      ]
     },
     "execution_count": 4,
     "metadata": {},
     "output_type": "execute_result"
    }
   ],
   "source": [
    "to_pykeen_path(full_df, 'full_graph.keen.tsv')"
   ]
  },
  {
   "cell_type": "code",
   "execution_count": 3,
   "metadata": {},
   "outputs": [],
   "source": [
    "config = dict(\n",
    "    training_set_path           = '/home/rana/master_thesis/full_graph.keen.tsv',\n",
    "    execution_mode              = 'Training_mode',\n",
    "    random_seed                 = 0,\n",
    "    kg_embedding_model_name     = 'TransH',\n",
    "    embedding_dim               = 50,\n",
    "    scoring_function            = 2,  # corresponds to L2\n",
    "    margin_loss                 = 0.05,\n",
    "    weighting_soft_constraint   = 0.015625,\n",
    "    learning_rate               = 0.01,\n",
    "    num_epochs                  = 10,  \n",
    "    batch_size                  = 64,\n",
    "    test_set_ratio              = 0.1, # 10% of training set will be used as a test set\n",
    "    filter_negative_triples     = True,\n",
    "    preferred_device            = 'cpu'\n",
    ")"
   ]
  },
  {
   "cell_type": "code",
   "execution_count": 4,
   "metadata": {},
   "outputs": [
    {
     "name": "stderr",
     "output_type": "stream",
     "text": [
      "INFO:pykeen.utilities.pipeline:-------------Train KG Embeddings-------------\n",
      "Training epoch: 100%|██████████| 10/10 [20:47<00:00, 129.84s/it]\n",
      "INFO:pykeen.utilities.pipeline:-------------Start Evaluation-------------\n",
      "⚽️ corrupting triples: 100%|██████████| 19364/19364 [7:14:38<00:00,  1.31s/it]  \n",
      "INFO:pykeen.utilities.evaluation_utils.metrics_computations:Evaluation took 26087.35s seconds\n"
     ]
    }
   ],
   "source": [
    "results_TransH = pykeen.run(\n",
    "    config=config,\n",
    "    output_directory='/home/rana/master_thesis/TransH',\n",
    ")"
   ]
  },
  {
   "cell_type": "code",
   "execution_count": 5,
   "metadata": {},
   "outputs": [
    {
     "data": {
      "text/plain": [
       "odict_keys(['trained_model', 'losses', 'entity_to_embedding', 'relation_to_embedding', 'eval_summary', 'entity_to_id', 'relation_to_id', 'final_configuration'])"
      ]
     },
     "execution_count": 5,
     "metadata": {},
     "output_type": "execute_result"
    }
   ],
   "source": [
    "results_TransH.results.keys()"
   ]
  },
  {
   "cell_type": "code",
   "execution_count": 7,
   "metadata": {},
   "outputs": [
    {
     "data": {
      "text/plain": [
       "{'mean_rank': 1263.4400692005784,\n",
       " 'hits@k': {1: 0.007436480066102045,\n",
       "  3: 0.021793017971493495,\n",
       "  5: 0.03227638917579013,\n",
       "  10: 0.05435343937203057}}"
      ]
     },
     "execution_count": 7,
     "metadata": {},
     "output_type": "execute_result"
    }
   ],
   "source": [
    "results_TransH.results['eval_summary']"
   ]
  },
  {
   "cell_type": "code",
   "execution_count": 11,
   "metadata": {},
   "outputs": [],
   "source": [
    "import numpy as np\n",
    "import matplotlib.pyplot as plt"
   ]
  },
  {
   "cell_type": "code",
   "execution_count": 12,
   "metadata": {},
   "outputs": [
    {
     "data": {
      "image/png": "[encoded data removed]",
      "text/plain": [
       "<Figure size 432x288 with 1 Axes>"
      ]
     },
     "metadata": {
      "needs_background": "light"
     },
     "output_type": "display_data"
    }
   ],
   "source": [
    "losses = results.results['losses']\n",
    "epochs = np.arange(len(losses))\n",
    "plt.title(r'Loss Per Epoch')\n",
    "plt.xlabel('epoch')\n",
    "plt.ylabel('loss')\n",
    "plt.plot(epochs, losses)\n",
    "plt.show()\n"
   ]
  },
  {
   "cell_type": "code",
   "execution_count": 9,
   "metadata": {},
   "outputs": [],
   "source": [
    "sider_graph = pybel.from_pickle(\"/home/raldisi/Desktop/sider_graph.pickle\")"
   ]
  },
  {
   "cell_type": "code",
   "execution_count": 10,
   "metadata": {},
   "outputs": [
    {
     "name": "stderr",
     "output_type": "stream",
     "text": [
      "preparing TSV: 100%|██████████| 180203/180203 [00:02<00:00, 65343.22it/s]\n"
     ]
    },
    {
     "data": {
      "text/plain": [
       "True"
      ]
     },
     "execution_count": 10,
     "metadata": {},
     "output_type": "execute_result"
    }
   ],
   "source": [
    "sider_df = to_pykeen_df(sider_graph)\n",
    "to_pykeen_path(sider_df, 'sider_graph.keen.tsv')"
   ]
  },
  {
   "cell_type": "code",
   "execution_count": 3,
   "metadata": {},
   "outputs": [],
   "source": [
    "config = dict(\n",
    "    training_set_path           = '/home/raldisi/SE_KGE/notebooks/sider_graph.keen.tsv',\n",
    "    execution_mode              = 'Training_mode',\n",
    "    random_seed                 = 0,\n",
    "    kg_embedding_model_name     = 'TransR',\n",
    "    embedding_dim               = 50,\n",
    "    relation_embedding_dim      = 20,\n",
    "    scoring_function            = 2,  # corresponds to L2\n",
    "    margin_loss                 = 0.05,\n",
    "    learning_rate               = 0.01,\n",
    "    num_epochs                  = 10,  \n",
    "    batch_size                  = 64,\n",
    "    test_set_ratio              = 0.1, # 10% of training set will be used as a test set\n",
    "    filter_negative_triples     = True,\n",
    "    preferred_device            = 'cpu'\n",
    ")\n"
   ]
  },
  {
   "cell_type": "code",
   "execution_count": 4,
   "metadata": {},
   "outputs": [
    {
     "name": "stderr",
     "output_type": "stream",
     "text": [
      "INFO:pykeen.utilities.pipeline:-------------Train KG Embeddings-------------\n",
      "Training epoch: 100%|██████████| 10/10 [02:40<00:00, 16.07s/it]\n",
      "INFO:pykeen.utilities.pipeline:-------------Start Evaluation-------------\n",
      "⚽️ corrupting triples: 100%|██████████| 18021/18021 [44:08<00:00,  6.89it/s]\n",
      "INFO:pykeen.utilities.evaluation_utils.metrics_computations:Evaluation took 2649.38s seconds\n"
     ]
    }
   ],
   "source": [
    "#using origin branch\n",
    "results_TransR = pykeen.run(\n",
    "    config=config,\n",
    "    output_directory='/home/raldisi/Desktop/TransR',\n",
    ")"
   ]
  },
  {
   "cell_type": "code",
   "execution_count": 4,
   "metadata": {},
   "outputs": [
    {
     "name": "stderr",
     "output_type": "stream",
     "text": [
      "INFO:pykeen.utilities.pipeline:-------------Train KG Embeddings-------------\n",
      "Training epoch: 100%|██████████| 10/10 [02:40<00:00, 16.06s/it]\n",
      "INFO:pykeen.utilities.pipeline:-------------Start Evaluation-------------\n",
      "⚽️ corrupting triples: 100%|██████████| 18021/18021 [00:12<00:00, 1438.00it/s]\n",
      "⚽️ computing ranks: 100%|██████████| 18021/18021 [45:44<00:00,  6.71it/s] \n",
      "INFO:pykeen.utilities.evaluation_utils.metrics_computations:Evaluation took 2757.81 seconds\n"
     ]
    }
   ],
   "source": [
    "#using mapify-metric-computations branch\n",
    "results_TransR_01 = pykeen.run(\n",
    "    config=config,\n",
    "    output_directory='/home/raldisi/Desktop/TransR_01',\n",
    ")"
   ]
  },
  {
   "cell_type": "code",
   "execution_count": null,
   "metadata": {},
   "outputs": [],
   "source": []
  },
  {
   "cell_type": "code",
   "execution_count": 20,
   "metadata": {},
   "outputs": [
    {
     "data": {
      "image/png": "[encoded data removed]",
      "text/plain": [
       "<Figure size 432x288 with 1 Axes>"
      ]
     },
     "metadata": {
      "needs_background": "light"
     },
     "output_type": "display_data"
    }
   ],
   "source": [
    "losses = results_TransR.results['losses']\n",
    "epochs = np.arange(len(losses))\n",
    "plt.title(r'Loss Per Epoch')\n",
    "plt.xlabel('epoch')\n",
    "plt.ylabel('loss')\n",
    "plt.plot(epochs, losses)\n",
    "plt.show()\n"
   ]
  },
  {
   "cell_type": "code",
   "execution_count": 23,
   "metadata": {},
   "outputs": [
    {
     "data": {
      "text/plain": [
       "{'training_set_path': '/home/rana/master_thesis/full_graph.keen.tsv',\n",
       " 'execution_mode': 'Training_mode',\n",
       " 'random_seed': 0,\n",
       " 'kg_embedding_model_name': 'TransH',\n",
       " 'embedding_dim': 50,\n",
       " 'scoring_function': 2,\n",
       " 'margin_loss': 0.05,\n",
       " 'weighting_soft_constraint': 0.015625,\n",
       " 'learning_rate': 0.01,\n",
       " 'num_epochs': 10,\n",
       " 'batch_size': 64,\n",
       " 'preferred_device': 'cpu',\n",
       " 'num_entities': 13973,\n",
       " 'num_relations': 3}"
      ]
     },
     "execution_count": 23,
     "metadata": {},
     "output_type": "execute_result"
    }
   ],
   "source": [
    "results.results[\"final_configuration\"]"
   ]
  },
  {
   "cell_type": "code",
   "execution_count": 1,
   "metadata": {},
   "outputs": [
    {
     "ename": "NameError",
     "evalue": "name 'pybel' is not defined",
     "output_type": "error",
     "traceback": [
      "\u001b[0;31m---------------------------------------------------------------------------\u001b[0m",
      "\u001b[0;31mNameError\u001b[0m                                 Traceback (most recent call last)",
      "\u001b[0;32m<ipython-input-1-58fe33389e6c>\u001b[0m in \u001b[0;36m<module>\u001b[0;34m\u001b[0m\n\u001b[0;32m----> 1\u001b[0;31m \u001b[0msider_graph\u001b[0m \u001b[0;34m=\u001b[0m \u001b[0mpybel\u001b[0m\u001b[0;34m.\u001b[0m\u001b[0mfrom_pickle\u001b[0m\u001b[0;34m(\u001b[0m\u001b[0;34m\"/home/rana/Downloads/sider_graph.pickle\"\u001b[0m\u001b[0;34m)\u001b[0m\u001b[0;34m\u001b[0m\u001b[0m\n\u001b[0m",
      "\u001b[0;31mNameError\u001b[0m: name 'pybel' is not defined"
     ]
    }
   ],
   "source": [
    "sider_graph = pybel.from_pickle(\"/home/rana/Downloads/sider_graph.pickle\")"
   ]
  },
  {
   "cell_type": "code",
   "execution_count": 3,
   "metadata": {},
   "outputs": [],
   "source": [
    "config = dict(\n",
    "    training_set_path           = '/home/rana/master_thesis/sider_graph.keen.tsv',\n",
    "    execution_mode              = 'Training_mode',\n",
    "    random_seed                 = 0,\n",
    "    kg_embedding_model_name     = 'TransH',\n",
    "    embedding_dim               = 20,\n",
    "    scoring_function            = 2,  # corresponds to L2\n",
    "    margin_loss                 = 0.05,\n",
    "    weighting_soft_constraint   = 0.015625,\n",
    "    learning_rate               = 0.01,\n",
    "    num_epochs                  = 10,  \n",
    "    batch_size                  = 64,\n",
    "    test_set_ratio              = 0.1, # 10% of training set will be used as a test set\n",
    "    filter_negative_triples     = True,\n",
    "    preferred_device            = 'cpu'\n",
    ")"
   ]
  },
  {
   "cell_type": "code",
   "execution_count": 3,
   "metadata": {
    "scrolled": false
   },
   "outputs": [
    {
     "name": "stderr",
     "output_type": "stream",
     "text": [
      "Training epoch: 100%|██████████| 10/10 [12:52<00:00, 76.64s/it]\n",
      "⚽️ corrupting triples: 100%|██████████| 18021/18021 [4:44:00<00:00,  1.13it/s]  \n"
     ]
    }
   ],
   "source": [
    "sider_TransH = pykeen.run(\n",
    "    config=config,\n",
    "    output_directory='/home/rana/master_thesis/sider_TransH',\n",
    ")"
   ]
  },
  {
   "cell_type": "code",
   "execution_count": 7,
   "metadata": {},
   "outputs": [
    {
     "data": {
      "text/plain": [
       "{'mean_rank': 5211.04478108873,\n",
       " 'hits@k': {1: 0.0,\n",
       "  3: 0.00011098163253981466,\n",
       "  5: 0.00027745408134953665,\n",
       "  10: 0.000998834692858332}}"
      ]
     },
     "execution_count": 7,
     "metadata": {},
     "output_type": "execute_result"
    }
   ],
   "source": [
    "sider_TransH.results['eval_summary']"
   ]
  },
  {
   "cell_type": "code",
   "execution_count": 24,
   "metadata": {},
   "outputs": [
    {
     "name": "stderr",
     "output_type": "stream",
     "text": [
      "preparing TSV: 100%|██████████| 114735/114735 [00:01<00:00, 70429.01it/s]\n"
     ]
    },
    {
     "data": {
      "text/plain": [
       "True"
      ]
     },
     "execution_count": 24,
     "metadata": {},
     "output_type": "execute_result"
    }
   ],
   "source": [
    "chem_sim_graph = pybel.from_pickle(\"/home/raldisi/SE_KGE/resources/chem_sim_graph.pickle\")\n",
    "chem_sim_graph_df = to_pykeen_df(chem_sim_graph)\n",
    "to_pykeen_path(chem_sim_graph_df, 'chem_sim_graph.keen.tsv')"
   ]
  },
  {
   "cell_type": "code",
   "execution_count": 26,
   "metadata": {},
   "outputs": [],
   "source": [
    "config = dict(\n",
    "    training_set_path           = ['/home/raldisi/SE_KGE/notebooks/sider_graph.keen.tsv',\n",
    "    '/home/raldisi/SE_KGE/notebooks/chem_sim_graph.keen.tsv'],\n",
    "    execution_mode              = 'Training_mode',\n",
    "    random_seed                 = 0,\n",
    "    kg_embedding_model_name     = 'TransR',\n",
    "    embedding_dim               = 50,\n",
    "    relation_embedding_dim      = 20,\n",
    "    scoring_function            = 2,  # corresponds to L2\n",
    "    margin_loss                 = 0.05,\n",
    "    learning_rate               = 0.01,\n",
    "    num_epochs                  = 10,  \n",
    "    batch_size                  = 64,\n",
    "    test_set_ratio              = 0.1, # 10% of training set will be used as a test set\n",
    "    filter_negative_triples     = True,\n",
    "    preferred_device            = 'cpu'\n",
    ")"
   ]
  },
  {
   "cell_type": "code",
   "execution_count": 27,
   "metadata": {},
   "outputs": [
    {
     "name": "stderr",
     "output_type": "stream",
     "text": [
      "INFO:pykeen.utilities.pipeline:-------------Train KG Embeddings-------------\n",
      "Training epoch: 100%|██████████| 10/10 [04:22<00:00, 27.01s/it]\n",
      "INFO:pykeen.utilities.pipeline:-------------Start Evaluation-------------\n",
      "⚽️ corrupting triples: 100%|██████████| 29494/29494 [1:19:14<00:00,  6.26it/s]\n",
      "INFO:pykeen.utilities.evaluation_utils.metrics_computations:Evaluation took 4756.15s seconds\n"
     ]
    }
   ],
   "source": [
    "chemsim_sider_TransH = pykeen.run(\n",
    "    config=config,\n",
    "    output_directory='/home/raldisi/Desktop/chemsim_sider',\n",
    ")"
   ]
  },
  {
   "cell_type": "code",
   "execution_count": 28,
   "metadata": {},
   "outputs": [
    {
     "data": {
      "text/plain": [
       "{'mean_rank': 773.8134027259782,\n",
       " 'hits@k': {1: 3.390520105784227e-05,\n",
       "  3: 0.008238963857055673,\n",
       "  5: 0.014884383264392757,\n",
       "  10: 0.02866684749440564}}"
      ]
     },
     "execution_count": 28,
     "metadata": {},
     "output_type": "execute_result"
    }
   ],
   "source": [
    "chemsim_sider_TransH.results['eval_summary']"
   ]
  },
  {
   "cell_type": "code",
   "execution_count": 5,
   "metadata": {},
   "outputs": [
    {
     "name": "stderr",
     "output_type": "stream",
     "text": [
      "preparing TSV: 100%|██████████| 162952/162952 [00:02<00:00, 66861.61it/s]\n"
     ]
    }
   ],
   "source": [
    "sider_graph_se = pybel.from_pickle(\"/home/raldisi/Desktop/sider_graph_SE.pickle\")\n",
    "sider_graph_se_df = to_pykeen_df(sider_graph_se)\n"
   ]
  },
  {
   "cell_type": "code",
   "execution_count": 6,
   "metadata": {},
   "outputs": [
    {
     "data": {
      "text/plain": [
       "True"
      ]
     },
     "execution_count": 6,
     "metadata": {},
     "output_type": "execute_result"
    }
   ],
   "source": [
    "to_pykeen_path(sider_graph_se_df, 'sider_graph_se.keen.tsv')"
   ]
  },
  {
   "cell_type": "code",
   "execution_count": 8,
   "metadata": {},
   "outputs": [],
   "source": [
    "config = dict(\n",
    "    training_set_path           = ['/home/raldisi/SE_KGE/notebooks/sider_graph_se.keen.tsv',\n",
    "    '/home/raldisi/SE_KGE/notebooks/chem_sim_graph.keen.tsv'],\n",
    "    execution_mode              = 'Training_mode',\n",
    "    random_seed                 = 0,\n",
    "    kg_embedding_model_name     = 'TransH',\n",
    "    embedding_dim               = 50,\n",
    "    scoring_function            = 2,  # corresponds to L2\n",
    "    margin_loss                 = 0.05,\n",
    "    weighting_soft_constraint   = 0.015625,\n",
    "    learning_rate               = 0.01,\n",
    "    num_epochs                  = 10,  \n",
    "    batch_size                  = 64,\n",
    "    test_set_ratio              = 0.1, # 10% of training set will be used as a test set\n",
    "    filter_negative_triples     = True,\n",
    "    preferred_device            = 'cpu'\n",
    ")"
   ]
  },
  {
   "cell_type": "code",
   "execution_count": 9,
   "metadata": {},
   "outputs": [
    {
     "name": "stderr",
     "output_type": "stream",
     "text": [
      "Training epoch: 100%|██████████| 10/10 [04:03<00:00, 24.01s/it]\n",
      "⚽️ corrupting triples: 100%|██████████| 27769/27769 [55:30<00:00,  8.30it/s]\n"
     ]
    }
   ],
   "source": [
    "chemsim_sider_TransH = pykeen.run(\n",
    "    config=config,\n",
    "    output_directory='/home/raldisi/Desktop/chemsim_sider_se',\n",
    ")"
   ]
  },
  {
   "cell_type": "code",
   "execution_count": 10,
   "metadata": {},
   "outputs": [
    {
     "data": {
      "text/plain": [
       "{'mean_rank': 4256.747902337139,\n",
       " 'hits@k': {1: 0.00010803413878785697,\n",
       "  3: 0.001566495012423926,\n",
       "  5: 0.002142677085959163,\n",
       "  10: 0.0030969786452518995}}"
      ]
     },
     "execution_count": 10,
     "metadata": {},
     "output_type": "execute_result"
    }
   ],
   "source": [
    "chemsim_sider_TransH.results['eval_summary']"
   ]
  },
  {
   "cell_type": "code",
   "execution_count": null,
   "metadata": {},
   "outputs": [],
   "source": []
  }
 ],
 "metadata": {
  "kernelspec": {
   "display_name": "Python 3",
   "language": "python",
   "name": "python3"
  },
  "language_info": {
   "codemirror_mode": {
    "name": "ipython",
    "version": 3
   },
   "file_extension": ".py",
   "mimetype": "text/x-python",
   "name": "python",
   "nbconvert_exporter": "python",
   "pygments_lexer": "ipython3",
   "version": "3.6.6"
  }
 },
 "nbformat": 4,
 "nbformat_minor": 2
}
