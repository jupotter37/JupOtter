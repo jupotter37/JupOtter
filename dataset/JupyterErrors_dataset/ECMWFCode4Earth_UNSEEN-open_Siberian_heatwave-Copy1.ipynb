{
 "cells": [
  {
   "cell_type": "markdown",
   "metadata": {},
   "source": [
    "## 1. Retrieve\n",
    "\n",
    "\n"
   ]
  },
  {
   "cell_type": "markdown",
   "metadata": {},
   "source": [
    "### Import packages"
   ]
  },
  {
   "cell_type": "code",
   "execution_count": 2,
   "metadata": {},
   "outputs": [],
   "source": [
    "%load_ext autoreload\n",
    "\n",
    "%autoreload 2"
   ]
  },
  {
   "cell_type": "code",
   "execution_count": 3,
   "metadata": {},
   "outputs": [],
   "source": [
    "##This is so variables get printed within jupyter\n",
    "from IPython.core.interactiveshell import InteractiveShell \n",
    "InteractiveShell.ast_node_interactivity = \"all\""
   ]
  },
  {
   "cell_type": "code",
   "execution_count": 4,
   "metadata": {},
   "outputs": [],
   "source": [
    "##import packages\n",
    "import os\n",
    "import cdsapi ## check the current working directory, which should be the UNSEEN-open directory\n",
    "import numpy as np\n",
    "import xarray as xr\n",
    "import matplotlib.pyplot as plt\n",
    "import cartopy\n",
    "import cartopy.crs as ccrs"
   ]
  },
  {
   "cell_type": "code",
   "execution_count": 4,
   "metadata": {},
   "outputs": [],
   "source": [
    "import sys\n",
    "\n",
    "sys.path.append('../../')"
   ]
  },
  {
   "cell_type": "code",
   "execution_count": 5,
   "metadata": {},
   "outputs": [],
   "source": [
    "from src.CDSretrieve import retrieve"
   ]
  },
  {
   "cell_type": "code",
   "execution_count": 6,
   "metadata": {
    "scrolled": false
   },
   "outputs": [
    {
     "data": {
      "text/plain": [
       "'/lustre/soge1/projects/ls/personal/timo/UNSEEN-open/Notebooks/1.Download'"
      ]
     },
     "execution_count": 6,
     "metadata": {},
     "output_type": "execute_result"
    },
    {
     "data": {
      "text/plain": [
       "'/lustre/soge1/projects/ls/personal/timo/UNSEEN-open'"
      ]
     },
     "execution_count": 6,
     "metadata": {},
     "output_type": "execute_result"
    }
   ],
   "source": [
    "##We want the working directory to be the UNSEEN-open directory\n",
    "pwd = os.getcwd() ##current working directory is UNSEEN-open/Notebooks/1.Download\n",
    "pwd #print the present working directory\n",
    "os.chdir(pwd+'/../../') # Change the working directory to UNSEEN-open\n",
    "os.getcwd() #print the working directory"
   ]
  },
  {
   "cell_type": "markdown",
   "metadata": {},
   "source": [
    "## Download all data"
   ]
  },
  {
   "cell_type": "markdown",
   "metadata": {},
   "source": [
    "We will be using the SEAS5 hindcast, which is a dataset running from 1981-2016. The hindcast is initialized every month with 25 ensemble members and the forecast run for 6 months, indicated by blue horizontal bars below. February is forecasted by 6 initialization months (September-February). We discard the first month of the forecast because of dependence between the forecasts, explained in the evaluation section and are left with 5 initialization months (Sep-Jan) and 25 ensemble members forecasting february precipitation each year, totalling to an increase of 125 times the observed length.\n",
    "\n",
    "For a summary of all available C3S seasonal hindcasts, their initialization months and more specifics, please see [ECMWF page](https://confluence.ecmwf.int/display/CKB/C3S+Seasonal+Forecasts) and the [SEAS5 paper](https://doi.org/10.5194/gmd-12-1087-2019).  "
   ]
  },
  {
   "cell_type": "markdown",
   "metadata": {},
   "source": [
    "\n",
    "\n",
    "![title](../../graphs/Data_illustration.png)"
   ]
  },
  {
   "cell_type": "markdown",
   "metadata": {},
   "source": [
    "The first download example above downloaded all 25 ensemble members for the forecast initialized in January (the bottom bar). We should repeat this over the other initialization month and over all years (1981-2016)."
   ]
  },
  {
   "cell_type": "code",
   "execution_count": 48,
   "metadata": {},
   "outputs": [],
   "source": [
    "def get_init_months(target_month):\n",
    "    target = target_month if isinstance(target_month, list) else [target_month]\n",
    "    init_list = [target[0] - x for x in range(1,7 - len(target))]\n",
    "    init_months = [12 + i if i < 1 else i for i in init_list]\n",
    "    leadtimes = [np.arange(x, x + len(target)) for x in range(2,8 - len(target))]\n",
    "    return(init_months, leadtimes)\n",
    "\n"
   ]
  },
  {
   "cell_type": "code",
   "execution_count": 49,
   "metadata": {
    "scrolled": true
   },
   "outputs": [
    {
     "data": {
      "text/plain": [
       "([10, 9, 8], [array([2, 3, 4]), array([3, 4, 5]), array([4, 5, 6])])"
      ]
     },
     "execution_count": 49,
     "metadata": {},
     "output_type": "execute_result"
    }
   ],
   "source": [
    "get_init_months(target_month=[11,12,1])"
   ]
  },
  {
   "cell_type": "markdown",
   "metadata": {
    "scrolled": true
   },
   "source": [
    "Leadtimes should be [[2,3,4],[3,4,5],[4,5,6]]"
   ]
  },
  {
   "cell_type": "code",
   "execution_count": 44,
   "metadata": {},
   "outputs": [],
   "source": [
    "# np.arange(1981, 2017)\n",
    "def print_retrieve_arguments(target_months):\n",
    "    target_months = target_months if isinstance(target_months, list) else [target_months]\n",
    "    init_months, leadtimes = get_init_months(target_months)\n",
    "    for j in range(2):  ##add if error still continue\n",
    "        for i in range(len(init_months)):\n",
    "            init_month = init_months[i]\n",
    "            leadtime_months = leadtimes[i]\n",
    "            if 12 in init_months:\n",
    "                if init_month < 6:\n",
    "                    year = years[j] + 1\n",
    "                else:\n",
    "                    year = years[j]\n",
    "            else:\n",
    "                year = years[j]\n",
    "            print('year = ' + str(year) + ' init_month = ' + str(init_month) +\n",
    "                  ' leadtime_month = ' + str(leadtime_months))"
   ]
  },
  {
   "cell_type": "code",
   "execution_count": 1,
   "metadata": {},
   "outputs": [
    {
     "ename": "NameError",
     "evalue": "name 'print_retrieve_arguments' is not defined",
     "output_type": "error",
     "traceback": [
      "\u001b[0;31m---------------------------------------------------------------------------\u001b[0m",
      "\u001b[0;31mNameError\u001b[0m                                 Traceback (most recent call last)",
      "\u001b[0;32m<ipython-input-1-09b72a56bb28>\u001b[0m in \u001b[0;36m<module>\u001b[0;34m\u001b[0m\n\u001b[0;32m----> 1\u001b[0;31m \u001b[0mprint_retrieve_arguments\u001b[0m\u001b[0;34m(\u001b[0m\u001b[0;34m[\u001b[0m\u001b[0;36m3\u001b[0m\u001b[0;34m,\u001b[0m\u001b[0;36m4\u001b[0m\u001b[0;34m,\u001b[0m\u001b[0;36m5\u001b[0m\u001b[0;34m]\u001b[0m\u001b[0;34m)\u001b[0m\u001b[0;34m\u001b[0m\u001b[0;34m\u001b[0m\u001b[0m\n\u001b[0m",
      "\u001b[0;31mNameError\u001b[0m: name 'print_retrieve_arguments' is not defined"
     ]
    }
   ],
   "source": [
    "print_retrieve_arguments([3,4,5])"
   ]
  },
  {
   "cell_type": "markdown",
   "metadata": {},
   "source": [
    "For our download, we loop over initialization months and years. Because we only want February precipitation, the leadtime month (forecast length) changes with the initialization month. For example, in the September initialized forecasts, we only want the leadtime month 6 = February. For August initialized this is leadtime 5, etc. Furthermore, the year the forecast is initialized is required for the download. For September - December initialized forecasts, this is the target year-1. For January it is the same year as the target year. For example, for the first two target years this looks like the following:"
   ]
  },
  {
   "cell_type": "markdown",
   "metadata": {},
   "source": [
    "Write a function that is used for the download."
   ]
  },
  {
   "cell_type": "markdown",
   "metadata": {},
   "source": [
    "And start the download! In total, we request 35 years x  initialization dates = 175 requests. \n",
    "I could try sending just 5 request of the different initialization dates for all years?"
   ]
  },
  {
   "cell_type": "code",
   "execution_count": 36,
   "metadata": {},
   "outputs": [],
   "source": [
    "c = cdsapi.Client()\n",
    "def retrieve_single(variables, year, init_month, leadtimes, area, folder):\n",
    "    \"\"\"Retrieve SEAS5 data from CDS.\n",
    "        \n",
    "        Parameters\n",
    "        ----------\n",
    "        variable : str\n",
    "        year : int\n",
    "            str(year) is used in the function\n",
    "        init_month : Initialization month, integer. \n",
    "            For example, if the target month is February (2), initialization months are August-January (8-12,1) forecasting February\n",
    "        leadtime_month : The lead times you want, integer. \n",
    "            Use of single months is much faster. The first lead time is 1 (Leadtime 0 does not exist).\n",
    "            For example, for forecasting February from initialization month 1 (January), the leadtime months is 2. \n",
    "            For initialization month 12 (december), the lead time month is 3 (February).\n",
    "        folder : The path to the folder where to store the data. \n",
    "\n",
    "        Returns\n",
    "        -------\n",
    "        Saves the files in the specified folder.\n",
    "    \"\"\"\n",
    "    c.retrieve(\n",
    "        'seasonal-monthly-single-levels',\n",
    "        {\n",
    "            'format': 'netcdf',\n",
    "            'originating_centre': 'ecmwf',\n",
    "            'system': '5',\n",
    "            'variable': variables,\n",
    "            'product_type': ['monthly_mean'], #'monthly_maximum',, 'monthly_standard_deviation',],\n",
    "            'year': str(year),  #data before 1993 is available.  \n",
    "            'month': \"%.2i\" % init_month,\n",
    "            'leadtime_month': [str(a) for a in leadtimes],\n",
    "            'area': area,\n",
    "        },\n",
    "        folder + str(year) + \"%.2i\" % init_month + '.nc')"
   ]
  },
  {
   "cell_type": "code",
   "execution_count": 40,
   "metadata": {},
   "outputs": [],
   "source": [
    "def retrieve_SEAS5(variables, target_months, area, folder, years=np.arange(1981, 2017)):\n",
    "    \"\"\"Retrieve SEAS5 data from CDS.\n",
    "        \n",
    "        Parameters\n",
    "        ----------\n",
    "        variables : The variables to be downloaded, str. Can also be one variable.\n",
    "        target_months : The month(s) of interest, int.\n",
    "            For example, for JJA, use [6,7,8]. \n",
    "            Must be consecutive (e.g. no May, July, August).\n",
    "        area : The domain to download the data over, [North, West, South, East,].\n",
    "            For example, to dowload longitude 30,70 and latitude -10, 120, use [70, -11, 30, 120,]\n",
    "        years : Defaults to the entire hindcast years from 1981-2016\n",
    "        folder : The path to the folder where to store the data. \n",
    "\n",
    "        Returns\n",
    "        -------\n",
    "        Saves the files in the specified folder.\n",
    "    \"\"\"\n",
    "    init_months, leadtimes = get_init_months(target_months)\n",
    "    for j in range(len(years)):  ##add if error still continue\n",
    "        for i in range(len(init_months)):\n",
    "            init_month = init_months[i]\n",
    "            leadtime_months = leadtimes[i]\n",
    "            if 12 in init_months:\n",
    "                if init_month < 6:\n",
    "                    year = years[j]\n",
    "                else:\n",
    "                    year = years[j] - 1\n",
    "            else:\n",
    "                year = years[j]\n",
    "\n",
    "            if not os.path.isfile(folder + str(year) + \"%.2i\" % init_month + '.nc'):\n",
    "                retrieve_single(variables=variables,\n",
    "                                year=year,\n",
    "                                init_month=init_month,\n",
    "                                leadtimes=leadtime_months,\n",
    "                                area = area,\n",
    "                                folder=folder)"
   ]
  },
  {
   "cell_type": "markdown",
   "metadata": {},
   "source": [
    "The download sometimes fails. When redoing the request it does download. I don't know what is causing the failure? Below I donwload the file that failed. "
   ]
  },
  {
   "cell_type": "code",
   "execution_count": 34,
   "metadata": {},
   "outputs": [],
   "source": [
    "retrieve_SEAS5(variables = ['2m_temperature','2m_dewpoint_temperature'], target_months = [6,7,8], \n",
    "         area = [70, -11, 30, 120,], folder = '../Siberia_example/')"
   ]
  },
  {
   "cell_type": "markdown",
   "metadata": {},
   "source": [
    "## ERA5 data download\n",
    "\n",
    "ERA5 is downloaded using the monthly means for single levels `reanalysis-era5-single-levels-monthly-means`. \n",
    "The function takes the variables, target months, area and folder. The function downloads the data on a 1x1 degree grid, similar to the SEAS5 data. The default dataset is 0.25 x 0.25 (so higher resolution data is available). \n"
   ]
  },
  {
   "cell_type": "code",
   "execution_count": 38,
   "metadata": {},
   "outputs": [
    {
     "name": "stderr",
     "output_type": "stream",
     "text": [
      "2020-08-31 10:48:48,744 INFO Welcome to the CDS\n",
      "2020-08-31 10:48:48,746 INFO Sending request to https://cds.climate.copernicus.eu/api/v2/resources/reanalysis-era5-single-levels-monthly-means\n",
      "2020-08-31 10:48:54,251 INFO Request is queued\n",
      "2020-08-31 10:48:55,267 INFO Request is running\n",
      "2020-08-31 10:53:12,220 INFO Request is completed\n",
      "2020-08-31 10:53:12,222 INFO Downloading http://136.156.133.36/cache-compute-0010/cache/data8/adaptor.mars.internal-1598867335.2534816-8321-21-66d0138a-814c-4c5b-8160-2aca9e46f31d.nc to ../Siberia_example/ERA5_Siberia1x1.nc (20.6M)\n",
      "2020-08-31 10:53:13,111 INFO Download rate 23.2M/s  \n"
     ]
    },
    {
     "data": {
      "text/plain": [
       "Result(content_length=21608812,content_type=application/x-netcdf,location=http://136.156.133.36/cache-compute-0010/cache/data8/adaptor.mars.internal-1598867335.2534816-8321-21-66d0138a-814c-4c5b-8160-2aca9e46f31d.nc)"
      ]
     },
     "execution_count": 38,
     "metadata": {},
     "output_type": "execute_result"
    }
   ],
   "source": [
    "c.retrieve(\n",
    "    'reanalysis-era5-single-levels-monthly-means',\n",
    "    {\n",
    "        'format': 'netcdf',\n",
    "        'product_type': 'monthly_averaged_reanalysis',\n",
    "        'variable': [\n",
    "            '2m_dewpoint_temperature', '2m_temperature',\n",
    "        ],\n",
    "        'area'          : [70, -11, 30, 120], # North, West, South, East.          Default: global\n",
    "        'grid'          : [1.0, 1.0],       # Latitude/longitude grid.           Default: 0.25 x 0.25\n",
    "        'year': [\n",
    "            '1979', '1980', '1981',\n",
    "            '1982', '1983', '1984',\n",
    "            '1985', '1986', '1987',\n",
    "            '1988', '1989', '1990',\n",
    "            '1991', '1992', '1993',\n",
    "            '1994', '1995', '1996',\n",
    "            '1997', '1998', '1999',\n",
    "            '2000', '2001', '2002',\n",
    "            '2003', '2004', '2005',\n",
    "            '2006', '2007', '2008',\n",
    "            '2009', '2010', '2011',\n",
    "            '2012', '2013', '2014',\n",
    "            '2015', '2016', '2017',\n",
    "            '2018', '2019', '2020',\n",
    "        ],\n",
    "        'month': [\n",
    "            '01', '02', '03',\n",
    "            '04', '05', '06',\n",
    "            '07', '08', '09',\n",
    "            '10', '11', '12',\n",
    "        ],\n",
    "        'time': '00:00',\n",
    "    },\n",
    "    '../Siberia_example/ERA5_Siberia1x1.nc')"
   ]
  }
 ],
 "metadata": {
  "kernelspec": {
   "display_name": "UNSEEN-open",
   "language": "python",
   "name": "unseen-open"
  },
  "language_info": {
   "codemirror_mode": {
    "name": "ipython",
    "version": 3
   },
   "file_extension": ".py",
   "mimetype": "text/x-python",
   "name": "python",
   "nbconvert_exporter": "python",
   "pygments_lexer": "ipython3",
   "version": "3.8.2"
  }
 },
 "nbformat": 4,
 "nbformat_minor": 4
}
