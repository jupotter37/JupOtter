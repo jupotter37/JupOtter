{
 "cells": [
  {
   "cell_type": "markdown",
   "metadata": {},
   "source": [
    "## Bayesian AGN Decomposition Analysis for SDSS Spectra (BADASS)\n",
    "### Single Spectrum\n",
    "\n",
    "####  Remington O. Sexton$^{2}$, Sara M. Doan$^{1}$, William Matzko$^{1}$ Michael A. Reefe$^{1}$, \n",
    "$^{1}$United States Naval Observatory, $^{2}$George Mason University\n"
   ]
  },
  {
   "cell_type": "code",
   "execution_count": 1,
   "metadata": {
    "tags": []
   },
   "outputs": [
    {
     "ename": "ModuleNotFoundError",
     "evalue": "No module named 'badass'",
     "output_type": "error",
     "traceback": [
      "\u001b[0;31m---------------------------------------------------------------------------\u001b[0m",
      "\u001b[0;31mModuleNotFoundError\u001b[0m                       Traceback (most recent call last)",
      "Cell \u001b[0;32mIn[1], line 11\u001b[0m\n\u001b[1;32m      9\u001b[0m \u001b[38;5;28;01mimport\u001b[39;00m \u001b[38;5;21;01mnatsort\u001b[39;00m\n\u001b[1;32m     10\u001b[0m \u001b[38;5;66;03m# Import BADASS here\u001b[39;00m\n\u001b[0;32m---> 11\u001b[0m \u001b[38;5;28;01mimport\u001b[39;00m \u001b[38;5;21;01mbadass\u001b[39;00m \u001b[38;5;28;01mas\u001b[39;00m \u001b[38;5;21;01mbadass\u001b[39;00m\n\u001b[1;32m     12\u001b[0m \u001b[38;5;28;01mimport\u001b[39;00m \u001b[38;5;21;01mbadass_utils\u001b[39;00m \u001b[38;5;28;01mas\u001b[39;00m \u001b[38;5;21;01mbadass_utils\u001b[39;00m\n\u001b[1;32m     13\u001b[0m \u001b[38;5;28;01mimport\u001b[39;00m \u001b[38;5;21;01mbadass_ncomp_options\u001b[39;00m\n",
      "\u001b[0;31mModuleNotFoundError\u001b[0m: No module named 'badass'"
     ]
    }
   ],
   "source": [
    "import glob\n",
    "import time\n",
    "import natsort\n",
    "from IPython.display import clear_output\n",
    "# import multiprocess as mp\n",
    "import os\n",
    "import sys\n",
    "import psutil\n",
    "import pathlib\n",
    "import natsort\n",
    "# Import BADASS here\n",
    "sys.path.insert(1, '../')\n",
    "import badass as badass\n",
    "import badass_utils as badass_utils\n",
    "import badass_ncomp_options\n",
    "import badass_absrp_test\n",
    "\n",
    "from IPython.display import display, HTML\n",
    "display(HTML(\"<style>.container { width:90% !important; }</style>\"))"
   ]
  },
  {
   "cell_type": "markdown",
   "metadata": {},
   "source": [
    "### BADASS Options"
   ]
  },
  {
   "cell_type": "code",
   "execution_count": null,
   "metadata": {
    "tags": []
   },
   "outputs": [],
   "source": [
    "options_file = \"badass_ncomp_options.py\"\n",
    "\n",
    "if os.path.exists(options_file):\n",
    "    print(\"\\n Options file %s found.\\n\" % (options_file))"
   ]
  },
  {
   "cell_type": "markdown",
   "metadata": {},
   "source": [
    "### Run BADASS on a single spectrum\n",
    "\n",
    "The following is shows how to fit single SDSS spectra."
   ]
  },
  {
   "cell_type": "markdown",
   "metadata": {},
   "source": [
    "#### Directory Structure"
   ]
  },
  {
   "cell_type": "code",
   "execution_count": null,
   "metadata": {
    "tags": []
   },
   "outputs": [],
   "source": [
    "nobj = 5 # Object in the spec_dir list\n",
    "########################## Directory Structure #################################\n",
    "spec_dir = 'examples/' # folder with spectra in it\n",
    "# Get full list of spectrum folders; these will be the working directories\n",
    "spec_loc = natsort.natsorted( glob.glob(spec_dir+'*') )[nobj]\n",
    "\n",
    "################################################################################\n",
    "print(len(spec_loc))\n",
    "print(spec_loc)\n"
   ]
  },
  {
   "cell_type": "markdown",
   "metadata": {},
   "source": [
    "#### Choose Spectrum "
   ]
  },
  {
   "cell_type": "code",
   "execution_count": null,
   "metadata": {
    "tags": []
   },
   "outputs": [],
   "source": [
    "file = glob.glob(spec_loc+'/*.fits')[0] # Get name of FITS spectra file\n",
    "print(file)"
   ]
  },
  {
   "cell_type": "markdown",
   "metadata": {},
   "source": [
    "#### Run IRSA Dust Query\n",
    "To correct for Galactic extinction.  This only needs to be done once so that the data is stored locally."
   ]
  },
  {
   "cell_type": "code",
   "execution_count": null,
   "metadata": {},
   "outputs": [],
   "source": [
    "# badass_utils.fetch_IRSA_dust(spec_loc)"
   ]
  },
  {
   "cell_type": "markdown",
   "metadata": {},
   "source": [
    "#### Run "
   ]
  },
  {
   "cell_type": "code",
   "execution_count": null,
   "metadata": {},
   "outputs": [],
   "source": [
    "import importlib\n",
    "import numpy as np\n",
    "importlib.reload(badass)\n",
    "importlib.reload(badass_utils)\n",
    "importlib.reload(badass_ncomp_options)\n",
    "importlib.reload(badass_absrp_test)\n",
    "\n",
    "\n",
    "for i in range(1):\n",
    "    np.random.seed()\n",
    "    print(\"\\n---------------------------------------------------------\")\n",
    "    print(\" Begin Test %d of %d\" % (i+1,10))\n",
    "    print(\"---------------------------------------------------------\")\n",
    "    \n",
    "    # Call the main function in BADASS\n",
    "    badass.run_BADASS(pathlib.Path(file),\n",
    "                      options_file = options_file,\n",
    "                     )\n",
    "        #"
   ]
  },
  {
   "cell_type": "code",
   "execution_count": null,
   "metadata": {},
   "outputs": [],
   "source": []
  }
 ],
 "metadata": {
  "kernelspec": {
   "display_name": "Python 3 (ipykernel)",
   "language": "python",
   "name": "python3"
  },
  "language_info": {
   "codemirror_mode": {
    "name": "ipython",
    "version": 3
   },
   "file_extension": ".py",
   "mimetype": "text/x-python",
   "name": "python",
   "nbconvert_exporter": "python",
   "pygments_lexer": "ipython3",
   "version": "3.10.10"
  }
 },
 "nbformat": 4,
 "nbformat_minor": 4
}
