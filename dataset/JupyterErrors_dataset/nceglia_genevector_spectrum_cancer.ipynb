{
 "cells": [
  {
   "cell_type": "code",
   "execution_count": 1,
   "id": "1f6c8e2c-5971-479f-9d6c-9e0cb5abe232",
   "metadata": {},
   "outputs": [
    {
     "name": "stderr",
     "output_type": "stream",
     "text": [
      "/Users/ceglian/gvenv/lib/python3.9/site-packages/tqdm/auto.py:22: TqdmWarning: IProgress not found. Please update jupyter and ipywidgets. See https://ipywidgets.readthedocs.io/en/stable/user_install.html\n",
      "  from .autonotebook import tqdm as notebook_tqdm\n"
     ]
    },
    {
     "name": "stdout",
     "output_type": "stream",
     "text": [
      "scanpy==1.9.1 anndata==0.8.0 umap==0.5.3 numpy==1.22.4 scipy==1.9.0 pandas==1.5.1 scikit-learn==1.2.1 statsmodels==0.13.5 python-igraph==0.9.11 pynndescent==0.5.8\n"
     ]
    }
   ],
   "source": [
    "import scanpy as sc\n",
    "from genevector.data import GeneVectorDataset\n",
    "from genevector.model import GeneVector\n",
    "from genevector.embedding import GeneEmbedding, CellEmbedding\n",
    "\n",
    "import os\n",
    "sc.settings.verbosity = 3\n",
    "sc.logging.print_header()\n",
    "sc.settings.set_figure_params(dpi=100, facecolor='white')"
   ]
  },
  {
   "cell_type": "code",
   "execution_count": 7,
   "id": "2c874fe7",
   "metadata": {},
   "outputs": [
    {
     "name": "stderr",
     "output_type": "stream",
     "text": [
      "/Users/ceglian/gvenv/lib/python3.9/site-packages/anndata/_core/anndata.py:121: ImplicitModificationWarning: Transforming to str index.\n",
      "  warnings.warn(\"Transforming to str index.\", ImplicitModificationWarning)\n"
     ]
    }
   ],
   "source": [
    "\n",
    "adata = sc.read(\"spectrum_cancer.h5ad\")"
   ]
  },
  {
   "cell_type": "markdown",
   "id": "b11a9aaf",
   "metadata": {},
   "source": [
    "# Load Cancer Cell Embedding"
   ]
  },
  {
   "cell_type": "code",
   "execution_count": 8,
   "id": "9b901c0f",
   "metadata": {},
   "outputs": [
    {
     "name": "stdout",
     "output_type": "stream",
     "text": [
      "\u001b[92mLoading Expression.\u001b[0m\n",
      "\u001b[1mIndexing expression.\u001b[0m\n"
     ]
    },
    {
     "name": "stderr",
     "output_type": "stream",
     "text": [
      "100%|███████████████████████████████████████████████████████████████████████████████████████████████████████████████████████████████████████████████████████████████████████████████████████████████████████████████████████| 14085376/14085376 [00:07<00:00, 1846702.21it/s]\n"
     ]
    },
    {
     "name": "stdout",
     "output_type": "stream",
     "text": [
      "\u001b[92mFinished.\u001b[0m\n"
     ]
    }
   ],
   "source": [
    "dataset = GeneVectorDataset(adata)"
   ]
  },
  {
   "cell_type": "code",
   "execution_count": 10,
   "id": "58bbb9f2",
   "metadata": {},
   "outputs": [
    {
     "name": "stdout",
     "output_type": "stream",
     "text": [
      "Loading average of 1st and 2nd weights.\n"
     ]
    },
    {
     "name": "stderr",
     "output_type": "stream",
     "text": [
      "100%|███████████████████████████████████████████████████████████████████████████████████████████████████████████████████████████████████████████████████████████████████████████████████████████████████████████████████████████████| 2500/2500 [00:00<00:00, 4000671.50it/s]\n"
     ]
    }
   ],
   "source": [
    "embed = GeneEmbedding(\"embeddings/spectrum_cancer.vec\", dataset,vector=\"average\")"
   ]
  },
  {
   "cell_type": "code",
   "execution_count": 11,
   "id": "bdd30a52",
   "metadata": {},
   "outputs": [
    {
     "name": "stdout",
     "output_type": "stream",
     "text": [
      "normalizing counts per cell\n",
      "    finished (0:00:00)\n",
      "WARNING: adata.X seems to be already log-transformed.\n"
     ]
    },
    {
     "name": "stderr",
     "output_type": "stream",
     "text": [
      "100%|████████████████████████████████████████████████████████████████████████████████████████████████████████████████████████████████████████████████████████████████████████████████████████████████████████████████████████| 14085376/14085376 [00:22<00:00, 613502.06it/s]\n"
     ]
    },
    {
     "name": "stdout",
     "output_type": "stream",
     "text": [
      "\u001b[92mGenerating Cell Vectors.\u001b[0m\n"
     ]
    },
    {
     "name": "stderr",
     "output_type": "stream",
     "text": [
      "100%|███████████████████████████████████████████████████████████████████████████████████████████████████████████████████████████████████████████████████████████████████████████████████████████████████████████████████████████████| 87229/87229 [00:06<00:00, 13400.21it/s]\n"
     ]
    },
    {
     "name": "stdout",
     "output_type": "stream",
     "text": [
      "Found 0 Cells with No Counts.\n",
      "\u001b[1mFinished.\u001b[0m\n",
      "\u001b[92mLoading embedding in X_genevector.\u001b[0m\n",
      "\u001b[92mRunning Scanpy neighbors and umap.\u001b[0m\n",
      "computing neighbors\n",
      "    finished: added to `.uns['neighbors']`\n",
      "    `.obsp['distances']`, distances for each pair of neighbors\n",
      "    `.obsp['connectivities']`, weighted adjacency matrix (0:00:14)\n",
      "computing UMAP\n",
      "    finished: added\n",
      "    'X_umap', UMAP coordinates (adata.obsm) (0:00:53)\n",
      "WARNING: The title list is shorter than the number of panels. Using 'color' value instead for some plots.\n"
     ]
    },
    {
     "name": "stderr",
     "output_type": "stream",
     "text": [
      "/Users/ceglian/gvenv/lib/python3.9/site-packages/scanpy/plotting/_tools/scatterplots.py:369: UserWarning: No data for colormapping provided via 'c'. Parameters 'cmap' will be ignored\n",
      "  ax.scatter(\n",
      "/Users/ceglian/gvenv/lib/python3.9/site-packages/scanpy/plotting/_tools/scatterplots.py:379: UserWarning: No data for colormapping provided via 'c'. Parameters 'cmap' will be ignored\n",
      "  ax.scatter(\n",
      "/Users/ceglian/gvenv/lib/python3.9/site-packages/scanpy/plotting/_tools/scatterplots.py:392: UserWarning: No data for colormapping provided via 'c'. Parameters 'cmap' will be ignored\n",
      "  cax = scatter(\n",
      "/Users/ceglian/gvenv/lib/python3.9/site-packages/scanpy/plotting/_tools/scatterplots.py:369: UserWarning: No data for colormapping provided via 'c'. Parameters 'cmap' will be ignored\n",
      "  ax.scatter(\n",
      "/Users/ceglian/gvenv/lib/python3.9/site-packages/scanpy/plotting/_tools/scatterplots.py:379: UserWarning: No data for colormapping provided via 'c'. Parameters 'cmap' will be ignored\n",
      "  ax.scatter(\n",
      "/Users/ceglian/gvenv/lib/python3.9/site-packages/scanpy/plotting/_tools/scatterplots.py:392: UserWarning: No data for colormapping provided via 'c'. Parameters 'cmap' will be ignored\n",
      "  cax = scatter(\n"
     ]
    },
    {
     "data": {
      "image/png": "[encoded data removed]",
      "text/plain": [
       "<Figure size 1280x400 with 2 Axes>"
      ]
     },
     "metadata": {
      "image/png": {
       "height": 378,
       "width": 1143
      }
     },
     "output_type": "display_data"
    }
   ],
   "source": [
    "cembed = CellEmbedding(dataset, embed)\n",
    "adata = cembed.get_adata()\n",
    "sc.pl.umap(adata,palette=\"tab10\",color=[\"author_cell_type\",\"site\"],\n",
    "           title=[\"SPECTRUM Bowel and Adnexa Samples\"],add_outline=True,wspace=0.6)"
   ]
  },
  {
   "cell_type": "markdown",
   "id": "59b82027-d385-4a9e-a8ed-77cfd3bd17e4",
   "metadata": {},
   "source": [
    "# Generate Metagenes"
   ]
  },
  {
   "cell_type": "code",
   "execution_count": 12,
   "id": "032a9a80-354b-495d-a88e-618702dd18fa",
   "metadata": {},
   "outputs": [
    {
     "name": "stdout",
     "output_type": "stream",
     "text": [
      "computing neighbors\n",
      "    finished: added to `.uns['neighbors']`\n",
      "    `.obsp['distances']`, distances for each pair of neighbors\n",
      "    `.obsp['connectivities']`, weighted adjacency matrix (0:00:01)\n",
      "running Leiden clustering\n",
      "    finished: found 312 clusters and added\n",
      "    'leiden', the cluster labels (adata.obs, categorical) (0:00:00)\n",
      "computing UMAP\n",
      "    finished: added\n",
      "    'X_umap', UMAP coordinates (adata.obsm) (0:00:02)\n"
     ]
    }
   ],
   "source": [
    "gdata = embed.get_adata(resolution=28.2)\n",
    "metagenes = embed.get_metagenes(gdata)"
   ]
  },
  {
   "cell_type": "code",
   "execution_count": 13,
   "id": "67b6ce2c-687a-42ad-9647-716665131bac",
   "metadata": {},
   "outputs": [
    {
     "name": "stdout",
     "output_type": "stream",
     "text": [
      "computing score '25_SCORE'\n",
      "WARNING: genes are not in var_names and ignored: ['FSIP2', 'LFNG', 'TAF7L', 'IL11RA', 'TPBGL', 'NTF3', 'LRP3', 'FXYD7', 'APLP1']\n",
      "    finished: added\n",
      "    '25_SCORE', score of gene set (adata.obs).\n",
      "    245 total control genes are used. (0:00:00)\n",
      "computing score '60_SCORE'\n",
      "WARNING: genes are not in var_names and ignored: ['CCR5', 'AMOTL2', 'TES', 'ACTN4']\n"
     ]
    },
    {
     "name": "stderr",
     "output_type": "stream",
     "text": [
      "/Users/ceglian/gvenv/lib/python3.9/site-packages/scanpy/tools/_score_genes.py:151: FutureWarning: Passing a set as an indexer is deprecated and will raise in a future version. Use a list instead.\n",
      "  for cut in np.unique(obs_cut.loc[gene_list]):\n",
      "/Users/ceglian/gvenv/lib/python3.9/site-packages/scanpy/tools/_score_genes.py:151: FutureWarning: Passing a set as an indexer is deprecated and will raise in a future version. Use a list instead.\n",
      "  for cut in np.unique(obs_cut.loc[gene_list]):\n"
     ]
    },
    {
     "name": "stdout",
     "output_type": "stream",
     "text": [
      "    finished: added\n",
      "    '60_SCORE', score of gene set (adata.obs).\n",
      "    293 total control genes are used. (0:00:00)\n",
      "computing score '218_SCORE'\n",
      "WARNING: genes are not in var_names and ignored: ['IL36RN', 'C19ORF66']\n",
      "    finished: added\n",
      "    '218_SCORE', score of gene set (adata.obs).\n",
      "    96 total control genes are used. (0:00:00)\n",
      "computing score '212_SCORE'\n",
      "WARNING: genes are not in var_names and ignored: ['RNF223', 'CCK', 'CMYA5', 'RELN']\n"
     ]
    },
    {
     "name": "stderr",
     "output_type": "stream",
     "text": [
      "/Users/ceglian/gvenv/lib/python3.9/site-packages/scanpy/tools/_score_genes.py:151: FutureWarning: Passing a set as an indexer is deprecated and will raise in a future version. Use a list instead.\n",
      "  for cut in np.unique(obs_cut.loc[gene_list]):\n"
     ]
    },
    {
     "name": "stdout",
     "output_type": "stream",
     "text": [
      "    finished: added\n",
      "    '212_SCORE', score of gene set (adata.obs).\n",
      "    98 total control genes are used. (0:00:00)\n",
      "computing score '15_SCORE'\n",
      "WARNING: genes are not in var_names and ignored: ['AIM2', 'CCDC190', 'CALN1', 'TMEM35A', 'LRRC55', 'DNAJC12', 'MIA']\n"
     ]
    },
    {
     "name": "stderr",
     "output_type": "stream",
     "text": [
      "/Users/ceglian/gvenv/lib/python3.9/site-packages/scanpy/tools/_score_genes.py:151: FutureWarning: Passing a set as an indexer is deprecated and will raise in a future version. Use a list instead.\n",
      "  for cut in np.unique(obs_cut.loc[gene_list]):\n",
      "/Users/ceglian/gvenv/lib/python3.9/site-packages/scanpy/tools/_score_genes.py:151: FutureWarning: Passing a set as an indexer is deprecated and will raise in a future version. Use a list instead.\n",
      "  for cut in np.unique(obs_cut.loc[gene_list]):\n"
     ]
    },
    {
     "name": "stdout",
     "output_type": "stream",
     "text": [
      "    finished: added\n",
      "    '15_SCORE', score of gene set (adata.obs).\n",
      "    341 total control genes are used. (0:00:00)\n",
      "computing score '72_SCORE'\n",
      "WARNING: genes are not in var_names and ignored: ['ADAMTSL4', 'PTGES', 'VSTM2L', 'DSCR8']\n",
      "    finished: added\n",
      "    '72_SCORE', score of gene set (adata.obs).\n",
      "    244 total control genes are used. (0:00:00)\n",
      "computing score '43_SCORE'\n",
      "WARNING: genes are not in var_names and ignored: ['ANKRD65', 'PRKCI', 'KCNQ1OT1', 'TM7SF2', 'KCNK15', 'PARD6B', 'NR2F6', 'SPINT2']\n"
     ]
    },
    {
     "name": "stderr",
     "output_type": "stream",
     "text": [
      "/Users/ceglian/gvenv/lib/python3.9/site-packages/scanpy/tools/_score_genes.py:151: FutureWarning: Passing a set as an indexer is deprecated and will raise in a future version. Use a list instead.\n",
      "  for cut in np.unique(obs_cut.loc[gene_list]):\n",
      "/Users/ceglian/gvenv/lib/python3.9/site-packages/scanpy/tools/_score_genes.py:151: FutureWarning: Passing a set as an indexer is deprecated and will raise in a future version. Use a list instead.\n",
      "  for cut in np.unique(obs_cut.loc[gene_list]):\n"
     ]
    },
    {
     "name": "stdout",
     "output_type": "stream",
     "text": [
      "    finished: added\n",
      "    '43_SCORE', score of gene set (adata.obs).\n",
      "    147 total control genes are used. (0:00:00)\n",
      "computing score '178_SCORE'\n",
      "WARNING: genes are not in var_names and ignored: ['VWA1', 'TMEM176A', 'HSBP1L1', 'BCAS4', 'BCAS1']\n",
      "    finished: added\n",
      "    '178_SCORE', score of gene set (adata.obs).\n",
      "    49 total control genes are used. (0:00:00)\n",
      "computing score '145_SCORE'\n",
      "WARNING: genes are not in var_names and ignored: ['PHACTR2', 'SVIL', 'NDFIP2', 'RHPN2']\n"
     ]
    },
    {
     "name": "stderr",
     "output_type": "stream",
     "text": [
      "/Users/ceglian/gvenv/lib/python3.9/site-packages/scanpy/tools/_score_genes.py:151: FutureWarning: Passing a set as an indexer is deprecated and will raise in a future version. Use a list instead.\n",
      "  for cut in np.unique(obs_cut.loc[gene_list]):\n",
      "/Users/ceglian/gvenv/lib/python3.9/site-packages/scanpy/tools/_score_genes.py:151: FutureWarning: Passing a set as an indexer is deprecated and will raise in a future version. Use a list instead.\n",
      "  for cut in np.unique(obs_cut.loc[gene_list]):\n"
     ]
    },
    {
     "name": "stdout",
     "output_type": "stream",
     "text": [
      "    finished: added\n",
      "    '145_SCORE', score of gene set (adata.obs).\n",
      "    146 total control genes are used. (0:00:00)\n",
      "computing score '93_SCORE'\n",
      "WARNING: genes are not in var_names and ignored: ['NREP', 'PAGE5', 'ADNP', 'DPM1', 'PFDN4', 'CEACAM21']\n",
      "    finished: added\n",
      "    '93_SCORE', score of gene set (adata.obs).\n",
      "    147 total control genes are used. (0:00:00)\n",
      "computing score '66_SCORE'\n",
      "WARNING: genes are not in var_names and ignored: ['AJAP1', 'RAP1GAP', 'NMNAT2', 'SLC3A1', 'FABP6', 'AKAP6', 'MEOX1']\n"
     ]
    },
    {
     "name": "stderr",
     "output_type": "stream",
     "text": [
      "/Users/ceglian/gvenv/lib/python3.9/site-packages/scanpy/tools/_score_genes.py:151: FutureWarning: Passing a set as an indexer is deprecated and will raise in a future version. Use a list instead.\n",
      "  for cut in np.unique(obs_cut.loc[gene_list]):\n",
      "/Users/ceglian/gvenv/lib/python3.9/site-packages/scanpy/tools/_score_genes.py:151: FutureWarning: Passing a set as an indexer is deprecated and will raise in a future version. Use a list instead.\n",
      "  for cut in np.unique(obs_cut.loc[gene_list]):\n"
     ]
    },
    {
     "name": "stdout",
     "output_type": "stream",
     "text": [
      "    finished: added\n",
      "    '66_SCORE', score of gene set (adata.obs).\n",
      "    196 total control genes are used. (0:00:00)\n",
      "computing score '52_SCORE'\n",
      "WARNING: genes are not in var_names and ignored: ['GPR153', 'TENT5A', 'EYA4', 'RCOR2', 'HRK', 'TMEM132B', 'DACH1', 'FBN3']\n",
      "    finished: added\n",
      "    '52_SCORE', score of gene set (adata.obs).\n",
      "    147 total control genes are used. (0:00:00)\n",
      "computing score '69_SCORE'\n",
      "WARNING: genes are not in var_names and ignored: ['SASH1', 'FSCN1', 'SAP25', 'ASCL2', 'HSPB8', 'ARID3A', 'EPS8L1', 'RUNX1']\n"
     ]
    },
    {
     "name": "stderr",
     "output_type": "stream",
     "text": [
      "/Users/ceglian/gvenv/lib/python3.9/site-packages/scanpy/tools/_score_genes.py:151: FutureWarning: Passing a set as an indexer is deprecated and will raise in a future version. Use a list instead.\n",
      "  for cut in np.unique(obs_cut.loc[gene_list]):\n",
      "/Users/ceglian/gvenv/lib/python3.9/site-packages/scanpy/tools/_score_genes.py:151: FutureWarning: Passing a set as an indexer is deprecated and will raise in a future version. Use a list instead.\n",
      "  for cut in np.unique(obs_cut.loc[gene_list]):\n"
     ]
    },
    {
     "name": "stdout",
     "output_type": "stream",
     "text": [
      "    finished: added\n",
      "    '69_SCORE', score of gene set (adata.obs).\n",
      "    98 total control genes are used. (0:00:00)\n",
      "computing score '148_SCORE'\n",
      "WARNING: genes are not in var_names and ignored: ['UTS2', 'PKLR', 'GDF10', 'BPIFB3', 'EDN3']\n",
      "    finished: added\n",
      "    '148_SCORE', score of gene set (adata.obs).\n",
      "    97 total control genes are used. (0:00:00)\n",
      "computing score '1_SCORE'\n",
      "WARNING: genes are not in var_names and ignored: ['SELP', 'EMCN', 'MYCT1', 'CXORF36', 'APLN']\n"
     ]
    },
    {
     "name": "stderr",
     "output_type": "stream",
     "text": [
      "/Users/ceglian/gvenv/lib/python3.9/site-packages/scanpy/tools/_score_genes.py:151: FutureWarning: Passing a set as an indexer is deprecated and will raise in a future version. Use a list instead.\n",
      "  for cut in np.unique(obs_cut.loc[gene_list]):\n",
      "/Users/ceglian/gvenv/lib/python3.9/site-packages/scanpy/tools/_score_genes.py:151: FutureWarning: Passing a set as an indexer is deprecated and will raise in a future version. Use a list instead.\n",
      "  for cut in np.unique(obs_cut.loc[gene_list]):\n"
     ]
    },
    {
     "name": "stdout",
     "output_type": "stream",
     "text": [
      "    finished: added\n",
      "    '1_SCORE', score of gene set (adata.obs).\n",
      "    331 total control genes are used. (0:00:00)\n",
      "computing score '189_SCORE'\n",
      "WARNING: genes are not in var_names and ignored: ['ANGPTL7', 'MYLK', 'SUSD3', 'GCSH']\n",
      "    finished: added\n",
      "    '189_SCORE', score of gene set (adata.obs).\n",
      "    98 total control genes are used. (0:00:00)\n",
      "computing score '273_SCORE'\n",
      "WARNING: genes are not in var_names and ignored: ['VPS13D', 'GPT']\n"
     ]
    },
    {
     "name": "stderr",
     "output_type": "stream",
     "text": [
      "/Users/ceglian/gvenv/lib/python3.9/site-packages/scanpy/tools/_score_genes.py:151: FutureWarning: Passing a set as an indexer is deprecated and will raise in a future version. Use a list instead.\n",
      "  for cut in np.unique(obs_cut.loc[gene_list]):\n",
      "/Users/ceglian/gvenv/lib/python3.9/site-packages/scanpy/tools/_score_genes.py:151: FutureWarning: Passing a set as an indexer is deprecated and will raise in a future version. Use a list instead.\n",
      "  for cut in np.unique(obs_cut.loc[gene_list]):\n"
     ]
    },
    {
     "name": "stdout",
     "output_type": "stream",
     "text": [
      "    finished: added\n",
      "    '273_SCORE', score of gene set (adata.obs).\n",
      "    98 total control genes are used. (0:00:00)\n",
      "computing score '122_SCORE'\n",
      "WARNING: genes are not in var_names and ignored: ['DHRS3', 'IER5L', 'LDLR']\n",
      "    finished: added\n",
      "    '122_SCORE', score of gene set (adata.obs).\n",
      "    195 total control genes are used. (0:00:00)\n",
      "computing score '89_SCORE'\n",
      "WARNING: genes are not in var_names and ignored: ['C1ORF158', 'MAP3K19', 'STMND1', 'C11ORF88', 'TEKT1', 'C20ORF85']\n"
     ]
    },
    {
     "name": "stderr",
     "output_type": "stream",
     "text": [
      "/Users/ceglian/gvenv/lib/python3.9/site-packages/scanpy/tools/_score_genes.py:151: FutureWarning: Passing a set as an indexer is deprecated and will raise in a future version. Use a list instead.\n",
      "  for cut in np.unique(obs_cut.loc[gene_list]):\n",
      "/Users/ceglian/gvenv/lib/python3.9/site-packages/scanpy/tools/_score_genes.py:151: FutureWarning: Passing a set as an indexer is deprecated and will raise in a future version. Use a list instead.\n",
      "  for cut in np.unique(obs_cut.loc[gene_list]):\n"
     ]
    },
    {
     "name": "stdout",
     "output_type": "stream",
     "text": [
      "    finished: added\n",
      "    '89_SCORE', score of gene set (adata.obs).\n",
      "    146 total control genes are used. (0:00:00)\n",
      "computing score '73_SCORE'\n",
      "WARNING: genes are not in var_names and ignored: ['KAZN', 'TSPAN2', 'LMCD1', 'CLIC5', 'ITGB8', 'SKAP2', 'TSPAN12']\n",
      "    finished: added\n",
      "    '73_SCORE', score of gene set (adata.obs).\n",
      "    97 total control genes are used. (0:00:00)\n",
      "computing score '121_SCORE'\n",
      "WARNING: genes are not in var_names and ignored: ['FBLIM1', 'SDC1', 'KLHL8', 'CDKN2AIP', 'RHOV', 'BIK']\n"
     ]
    },
    {
     "name": "stderr",
     "output_type": "stream",
     "text": [
      "/Users/ceglian/gvenv/lib/python3.9/site-packages/scanpy/tools/_score_genes.py:151: FutureWarning: Passing a set as an indexer is deprecated and will raise in a future version. Use a list instead.\n",
      "  for cut in np.unique(obs_cut.loc[gene_list]):\n",
      "/Users/ceglian/gvenv/lib/python3.9/site-packages/scanpy/tools/_score_genes.py:151: FutureWarning: Passing a set as an indexer is deprecated and will raise in a future version. Use a list instead.\n",
      "  for cut in np.unique(obs_cut.loc[gene_list]):\n"
     ]
    },
    {
     "name": "stdout",
     "output_type": "stream",
     "text": [
      "    finished: added\n",
      "    '121_SCORE', score of gene set (adata.obs).\n",
      "    98 total control genes are used. (0:00:00)\n",
      "computing score '8_SCORE'\n",
      "WARNING: genes are not in var_names and ignored: ['SRARP', 'DIO1', 'ATP6V1C2', 'PROK2', 'NDP', 'SRPK3', 'SPAG11B', 'SPAG11A', 'MUC6', 'UCN3']\n",
      "    finished: added\n",
      "    '8_SCORE', score of gene set (adata.obs).\n",
      "    242 total control genes are used. (0:00:00)\n",
      "computing score '192_SCORE'\n",
      "WARNING: genes are not in var_names and ignored: ['MEX3A', 'CSRNP3', 'SOX6', 'BCL7A']\n"
     ]
    },
    {
     "name": "stderr",
     "output_type": "stream",
     "text": [
      "/Users/ceglian/gvenv/lib/python3.9/site-packages/scanpy/tools/_score_genes.py:151: FutureWarning: Passing a set as an indexer is deprecated and will raise in a future version. Use a list instead.\n",
      "  for cut in np.unique(obs_cut.loc[gene_list]):\n",
      "/Users/ceglian/gvenv/lib/python3.9/site-packages/scanpy/tools/_score_genes.py:151: FutureWarning: Passing a set as an indexer is deprecated and will raise in a future version. Use a list instead.\n",
      "  for cut in np.unique(obs_cut.loc[gene_list]):\n"
     ]
    },
    {
     "name": "stdout",
     "output_type": "stream",
     "text": [
      "    finished: added\n",
      "    '192_SCORE', score of gene set (adata.obs).\n",
      "    98 total control genes are used. (0:00:00)\n",
      "computing score '17_SCORE'\n",
      "WARNING: genes are not in var_names and ignored: ['IGSF21', 'CXORF21', 'GPR34', 'BNC2', 'HRCT1', 'NR4A3', 'MS4A4A', 'VWCE', 'CCDC3', 'NINJ2']\n",
      "    finished: added\n",
      "    '17_SCORE', score of gene set (adata.obs).\n",
      "    294 total control genes are used. (0:00:00)\n",
      "computing score '290_SCORE'\n",
      "WARNING: genes are not in var_names and ignored: ['NBL1', 'ANXA2']\n"
     ]
    },
    {
     "name": "stderr",
     "output_type": "stream",
     "text": [
      "/Users/ceglian/gvenv/lib/python3.9/site-packages/scanpy/tools/_score_genes.py:151: FutureWarning: Passing a set as an indexer is deprecated and will raise in a future version. Use a list instead.\n",
      "  for cut in np.unique(obs_cut.loc[gene_list]):\n",
      "/Users/ceglian/gvenv/lib/python3.9/site-packages/scanpy/tools/_score_genes.py:151: FutureWarning: Passing a set as an indexer is deprecated and will raise in a future version. Use a list instead.\n",
      "  for cut in np.unique(obs_cut.loc[gene_list]):\n"
     ]
    },
    {
     "name": "stdout",
     "output_type": "stream",
     "text": [
      "    finished: added\n",
      "    '290_SCORE', score of gene set (adata.obs).\n",
      "    49 total control genes are used. (0:00:00)\n",
      "computing score '200_SCORE'\n",
      "WARNING: genes are not in var_names and ignored: ['RNF186', 'ITM2C', 'BMP7', 'HOMER3']\n",
      "    finished: added\n",
      "    '200_SCORE', score of gene set (adata.obs).\n",
      "    48 total control genes are used. (0:00:00)\n",
      "computing score '34_SCORE'\n",
      "WARNING: genes are not in var_names and ignored: ['PRR9', 'AOX1', 'ADH1B', 'DPYS', 'PAPPA', 'CHAC1', 'SYT4']\n"
     ]
    },
    {
     "name": "stderr",
     "output_type": "stream",
     "text": [
      "/Users/ceglian/gvenv/lib/python3.9/site-packages/scanpy/tools/_score_genes.py:151: FutureWarning: Passing a set as an indexer is deprecated and will raise in a future version. Use a list instead.\n",
      "  for cut in np.unique(obs_cut.loc[gene_list]):\n",
      "/Users/ceglian/gvenv/lib/python3.9/site-packages/scanpy/tools/_score_genes.py:151: FutureWarning: Passing a set as an indexer is deprecated and will raise in a future version. Use a list instead.\n",
      "  for cut in np.unique(obs_cut.loc[gene_list]):\n"
     ]
    },
    {
     "name": "stdout",
     "output_type": "stream",
     "text": [
      "    finished: added\n",
      "    '34_SCORE', score of gene set (adata.obs).\n",
      "    194 total control genes are used. (0:00:00)\n",
      "computing score '117_SCORE'\n",
      "WARNING: genes are not in var_names and ignored: ['LURAP1L', 'SLC22A18AS', 'GDPD3']\n",
      "    finished: added\n",
      "    '117_SCORE', score of gene set (adata.obs).\n",
      "    145 total control genes are used. (0:00:00)\n",
      "computing score '81_SCORE'\n",
      "WARNING: genes are not in var_names and ignored: ['ALPL', 'CDKN2C', 'POLQ', 'FAM189A2', 'PPM1N']\n"
     ]
    },
    {
     "name": "stderr",
     "output_type": "stream",
     "text": [
      "/Users/ceglian/gvenv/lib/python3.9/site-packages/scanpy/tools/_score_genes.py:151: FutureWarning: Passing a set as an indexer is deprecated and will raise in a future version. Use a list instead.\n",
      "  for cut in np.unique(obs_cut.loc[gene_list]):\n",
      "/Users/ceglian/gvenv/lib/python3.9/site-packages/scanpy/tools/_score_genes.py:151: FutureWarning: Passing a set as an indexer is deprecated and will raise in a future version. Use a list instead.\n",
      "  for cut in np.unique(obs_cut.loc[gene_list]):\n"
     ]
    },
    {
     "name": "stdout",
     "output_type": "stream",
     "text": [
      "    finished: added\n",
      "    '81_SCORE', score of gene set (adata.obs).\n",
      "    245 total control genes are used. (0:00:00)\n",
      "computing score '208_SCORE'\n",
      "WARNING: genes are not in var_names and ignored: ['HSPG2', 'SLC35F5', 'SEMA3C', 'PSAT1', 'TCF4', 'PIGT']\n",
      "computing score '26_SCORE'\n",
      "WARNING: genes are not in var_names and ignored: ['MSR1', 'SLCO2B1', 'ADAP2']\n",
      "    finished: added\n",
      "    '26_SCORE', score of gene set (adata.obs).\n",
      "    189 total control genes are used. (0:00:00)\n",
      "computing score '3_SCORE'\n",
      "WARNING: genes are not in var_names and ignored: ['RUNX3', 'LCK', 'CD8A', 'CD8B', 'CYTIP', 'CD27', 'BATF', 'CD7', 'GRAP2']\n"
     ]
    },
    {
     "name": "stderr",
     "output_type": "stream",
     "text": [
      "/Users/ceglian/gvenv/lib/python3.9/site-packages/scanpy/tools/_score_genes.py:151: FutureWarning: Passing a set as an indexer is deprecated and will raise in a future version. Use a list instead.\n",
      "  for cut in np.unique(obs_cut.loc[gene_list]):\n",
      "/Users/ceglian/gvenv/lib/python3.9/site-packages/scanpy/tools/_score_genes.py:151: FutureWarning: Passing a set as an indexer is deprecated and will raise in a future version. Use a list instead.\n",
      "  for cut in np.unique(obs_cut.loc[gene_list]):\n"
     ]
    },
    {
     "name": "stdout",
     "output_type": "stream",
     "text": [
      "    finished: added\n",
      "    '3_SCORE', score of gene set (adata.obs).\n",
      "    238 total control genes are used. (0:00:00)\n",
      "computing score '21_SCORE'\n",
      "WARNING: genes are not in var_names and ignored: ['STMN1', 'HMGN2', 'NASP', 'PHGDH', 'ANP32E', 'H2AFZ', 'TUBB', 'PRKDC', 'TMEM106C', 'CBX5', 'PA2G4', 'NAP1L1', 'DNMT1']\n",
      "    finished: added\n",
      "    '21_SCORE', score of gene set (adata.obs).\n",
      "    98 total control genes are used. (0:00:00)\n",
      "computing score '29_SCORE'\n",
      "WARNING: genes are not in var_names and ignored: ['PRF1', 'ADRA2A', 'TRAC', 'GZMM']\n"
     ]
    },
    {
     "name": "stderr",
     "output_type": "stream",
     "text": [
      "/Users/ceglian/gvenv/lib/python3.9/site-packages/scanpy/tools/_score_genes.py:151: FutureWarning: Passing a set as an indexer is deprecated and will raise in a future version. Use a list instead.\n",
      "  for cut in np.unique(obs_cut.loc[gene_list]):\n"
     ]
    },
    {
     "name": "stdout",
     "output_type": "stream",
     "text": [
      "    finished: added\n",
      "    '29_SCORE', score of gene set (adata.obs).\n",
      "    241 total control genes are used. (0:00:00)\n",
      "computing score '214_SCORE'\n",
      "WARNING: genes are not in var_names and ignored: ['TCF19', 'GGH', 'RAB27A', 'GINS2']\n"
     ]
    },
    {
     "name": "stderr",
     "output_type": "stream",
     "text": [
      "/Users/ceglian/gvenv/lib/python3.9/site-packages/scanpy/tools/_score_genes.py:151: FutureWarning: Passing a set as an indexer is deprecated and will raise in a future version. Use a list instead.\n",
      "  for cut in np.unique(obs_cut.loc[gene_list]):\n",
      "/Users/ceglian/gvenv/lib/python3.9/site-packages/scanpy/tools/_score_genes.py:151: FutureWarning: Passing a set as an indexer is deprecated and will raise in a future version. Use a list instead.\n",
      "  for cut in np.unique(obs_cut.loc[gene_list]):\n"
     ]
    },
    {
     "name": "stdout",
     "output_type": "stream",
     "text": [
      "    finished: added\n",
      "    '214_SCORE', score of gene set (adata.obs).\n",
      "    98 total control genes are used. (0:00:00)\n",
      "computing score '157_SCORE'\n",
      "WARNING: genes are not in var_names and ignored: ['SFN', 'S100A11', 'CAST', 'SERPINB1', 'RAB11FIP1', 'LGALS3']\n",
      "    finished: added\n",
      "    '157_SCORE', score of gene set (adata.obs).\n",
      "    49 total control genes are used. (0:00:00)\n",
      "computing score '39_SCORE'\n",
      "WARNING: genes are not in var_names and ignored: ['FYB1', 'SLA', 'LSP1', 'ALOX5AP', 'ITGB2']\n"
     ]
    },
    {
     "name": "stderr",
     "output_type": "stream",
     "text": [
      "/Users/ceglian/gvenv/lib/python3.9/site-packages/scanpy/tools/_score_genes.py:151: FutureWarning: Passing a set as an indexer is deprecated and will raise in a future version. Use a list instead.\n",
      "  for cut in np.unique(obs_cut.loc[gene_list]):\n",
      "/Users/ceglian/gvenv/lib/python3.9/site-packages/scanpy/tools/_score_genes.py:151: FutureWarning: Passing a set as an indexer is deprecated and will raise in a future version. Use a list instead.\n",
      "  for cut in np.unique(obs_cut.loc[gene_list]):\n"
     ]
    },
    {
     "name": "stdout",
     "output_type": "stream",
     "text": [
      "    finished: added\n",
      "    '39_SCORE', score of gene set (adata.obs).\n",
      "    243 total control genes are used. (0:00:00)\n",
      "computing score '289_SCORE'\n",
      "    finished: added\n",
      "    '289_SCORE', score of gene set (adata.obs).\n",
      "    147 total control genes are used. (0:00:00)\n",
      "computing score '68_SCORE'\n",
      "WARNING: genes are not in var_names and ignored: ['CAPN2', 'NAPRT', 'PLEC', 'B4GALT1', 'KLK6']\n"
     ]
    },
    {
     "name": "stderr",
     "output_type": "stream",
     "text": [
      "/Users/ceglian/gvenv/lib/python3.9/site-packages/scanpy/tools/_score_genes.py:151: FutureWarning: Passing a set as an indexer is deprecated and will raise in a future version. Use a list instead.\n",
      "  for cut in np.unique(obs_cut.loc[gene_list]):\n",
      "/Users/ceglian/gvenv/lib/python3.9/site-packages/scanpy/tools/_score_genes.py:151: FutureWarning: Passing a set as an indexer is deprecated and will raise in a future version. Use a list instead.\n",
      "  for cut in np.unique(obs_cut.loc[gene_list]):\n"
     ]
    },
    {
     "name": "stdout",
     "output_type": "stream",
     "text": [
      "    finished: added\n",
      "    '68_SCORE', score of gene set (adata.obs).\n",
      "    145 total control genes are used. (0:00:00)\n",
      "computing score '206_SCORE'\n",
      "WARNING: genes are not in var_names and ignored: ['DUSP10', 'KHDRBS3']\n",
      "    finished: added\n",
      "    '206_SCORE', score of gene set (adata.obs).\n",
      "    196 total control genes are used. (0:00:00)\n",
      "computing score '271_SCORE'\n",
      "WARNING: genes are not in var_names and ignored: ['CSMD2', 'ALDH3B2']\n"
     ]
    },
    {
     "name": "stderr",
     "output_type": "stream",
     "text": [
      "/Users/ceglian/gvenv/lib/python3.9/site-packages/scanpy/tools/_score_genes.py:151: FutureWarning: Passing a set as an indexer is deprecated and will raise in a future version. Use a list instead.\n",
      "  for cut in np.unique(obs_cut.loc[gene_list]):\n"
     ]
    },
    {
     "name": "stdout",
     "output_type": "stream",
     "text": [
      "    finished: added\n",
      "    '271_SCORE', score of gene set (adata.obs).\n",
      "    98 total control genes are used. (0:00:00)\n",
      "computing score '74_SCORE'\n",
      "WARNING: genes are not in var_names and ignored: ['C1ORF94', 'SERTAD4', 'RIPOR2', 'GJB1', 'ABO', 'LPAR6', 'CSF3']\n"
     ]
    },
    {
     "name": "stderr",
     "output_type": "stream",
     "text": [
      "/Users/ceglian/gvenv/lib/python3.9/site-packages/scanpy/tools/_score_genes.py:151: FutureWarning: Passing a set as an indexer is deprecated and will raise in a future version. Use a list instead.\n",
      "  for cut in np.unique(obs_cut.loc[gene_list]):\n",
      "/Users/ceglian/gvenv/lib/python3.9/site-packages/scanpy/tools/_score_genes.py:151: FutureWarning: Passing a set as an indexer is deprecated and will raise in a future version. Use a list instead.\n",
      "  for cut in np.unique(obs_cut.loc[gene_list]):\n"
     ]
    },
    {
     "name": "stdout",
     "output_type": "stream",
     "text": [
      "    finished: added\n",
      "    '74_SCORE', score of gene set (adata.obs).\n",
      "    147 total control genes are used. (0:00:00)\n",
      "computing score '142_SCORE'\n",
      "WARNING: genes are not in var_names and ignored: ['FAM178B', 'NGEF', 'SPDEF', 'NPTX2', 'MPPED2', 'ISLR', 'RBFOX1']\n",
      "    finished: added\n",
      "    '142_SCORE', score of gene set (adata.obs).\n",
      "    49 total control genes are used. (0:00:00)\n",
      "computing score '104_SCORE'\n",
      "WARNING: genes are not in var_names and ignored: ['UBE2T', 'DHFR', 'E2F8', 'SMC1B']\n"
     ]
    },
    {
     "name": "stderr",
     "output_type": "stream",
     "text": [
      "/Users/ceglian/gvenv/lib/python3.9/site-packages/scanpy/tools/_score_genes.py:151: FutureWarning: Passing a set as an indexer is deprecated and will raise in a future version. Use a list instead.\n",
      "  for cut in np.unique(obs_cut.loc[gene_list]):\n",
      "/Users/ceglian/gvenv/lib/python3.9/site-packages/scanpy/tools/_score_genes.py:151: FutureWarning: Passing a set as an indexer is deprecated and will raise in a future version. Use a list instead.\n",
      "  for cut in np.unique(obs_cut.loc[gene_list]):\n"
     ]
    },
    {
     "name": "stdout",
     "output_type": "stream",
     "text": [
      "    finished: added\n",
      "    '104_SCORE', score of gene set (adata.obs).\n",
      "    245 total control genes are used. (0:00:00)\n",
      "computing score '88_SCORE'\n",
      "WARNING: genes are not in var_names and ignored: ['LCE3E', 'CFAP45', 'CCDC96', 'SPAG1', 'CEP126', 'ARMC3']\n",
      "    finished: added\n",
      "    '88_SCORE', score of gene set (adata.obs).\n",
      "    146 total control genes are used. (0:00:00)\n",
      "computing score '248_SCORE'\n",
      "WARNING: genes are not in var_names and ignored: ['EVA1B', 'PHLDA3', 'PXDN', 'UNC5B', 'VCL']\n",
      "computing score '161_SCORE'\n",
      "WARNING: genes are not in var_names and ignored: ['ZC3H12A', 'MCUB', 'TRIM47', 'FXYD3']\n"
     ]
    },
    {
     "name": "stderr",
     "output_type": "stream",
     "text": [
      "/Users/ceglian/gvenv/lib/python3.9/site-packages/scanpy/tools/_score_genes.py:151: FutureWarning: Passing a set as an indexer is deprecated and will raise in a future version. Use a list instead.\n",
      "  for cut in np.unique(obs_cut.loc[gene_list]):\n",
      "/Users/ceglian/gvenv/lib/python3.9/site-packages/scanpy/tools/_score_genes.py:151: FutureWarning: Passing a set as an indexer is deprecated and will raise in a future version. Use a list instead.\n",
      "  for cut in np.unique(obs_cut.loc[gene_list]):\n"
     ]
    },
    {
     "name": "stdout",
     "output_type": "stream",
     "text": [
      "    finished: added\n",
      "    '161_SCORE', score of gene set (adata.obs).\n",
      "    147 total control genes are used. (0:00:00)\n",
      "computing score '37_SCORE'\n",
      "WARNING: genes are not in var_names and ignored: ['DNALI1', 'C5ORF49', 'METTL27', 'C9ORF116', 'ALDH3B1', 'MNS1', 'TMEM231', 'FOXJ1']\n",
      "    finished: added\n",
      "    '37_SCORE', score of gene set (adata.obs).\n",
      "    195 total control genes are used. (0:00:00)\n",
      "computing score '61_SCORE'\n",
      "WARNING: genes are not in var_names and ignored: ['RSPO1', 'RNF212', 'NAT8L', 'SLC7A11', 'SMARCD3', 'ENHO', 'LRRC32', 'HUNK']\n"
     ]
    },
    {
     "name": "stderr",
     "output_type": "stream",
     "text": [
      "/Users/ceglian/gvenv/lib/python3.9/site-packages/scanpy/tools/_score_genes.py:151: FutureWarning: Passing a set as an indexer is deprecated and will raise in a future version. Use a list instead.\n",
      "  for cut in np.unique(obs_cut.loc[gene_list]):\n",
      "/Users/ceglian/gvenv/lib/python3.9/site-packages/scanpy/tools/_score_genes.py:151: FutureWarning: Passing a set as an indexer is deprecated and will raise in a future version. Use a list instead.\n",
      "  for cut in np.unique(obs_cut.loc[gene_list]):\n"
     ]
    },
    {
     "name": "stdout",
     "output_type": "stream",
     "text": [
      "    finished: added\n",
      "    '61_SCORE', score of gene set (adata.obs).\n",
      "    147 total control genes are used. (0:00:00)\n",
      "computing score '5_SCORE'\n",
      "WARNING: genes are not in var_names and ignored: ['CDCA8', 'BUB1', 'ANLN', 'MAGEA1', 'FOXM1', 'KNSTRN', 'SHCBP1', 'CENPN']\n",
      "    finished: added\n",
      "    '5_SCORE', score of gene set (adata.obs).\n",
      "    337 total control genes are used. (0:00:00)\n",
      "computing score '283_SCORE'\n",
      "WARNING: genes are not in var_names and ignored: ['WDR77', 'BOP1']\n"
     ]
    },
    {
     "name": "stderr",
     "output_type": "stream",
     "text": [
      "/Users/ceglian/gvenv/lib/python3.9/site-packages/scanpy/tools/_score_genes.py:151: FutureWarning: Passing a set as an indexer is deprecated and will raise in a future version. Use a list instead.\n",
      "  for cut in np.unique(obs_cut.loc[gene_list]):\n",
      "/Users/ceglian/gvenv/lib/python3.9/site-packages/scanpy/tools/_score_genes.py:151: FutureWarning: Passing a set as an indexer is deprecated and will raise in a future version. Use a list instead.\n",
      "  for cut in np.unique(obs_cut.loc[gene_list]):\n"
     ]
    },
    {
     "name": "stdout",
     "output_type": "stream",
     "text": [
      "    finished: added\n",
      "    '283_SCORE', score of gene set (adata.obs).\n",
      "    98 total control genes are used. (0:00:00)\n",
      "computing score '257_SCORE'\n",
      "WARNING: genes are not in var_names and ignored: ['CITED4', 'IER5', 'SPINT1', 'CDC42EP1']\n",
      "    finished: added\n",
      "    '257_SCORE', score of gene set (adata.obs).\n",
      "    49 total control genes are used. (0:00:00)\n",
      "computing score '284_SCORE'\n",
      "WARNING: genes are not in var_names and ignored: ['EZR', 'SDC4']\n"
     ]
    },
    {
     "name": "stderr",
     "output_type": "stream",
     "text": [
      "/Users/ceglian/gvenv/lib/python3.9/site-packages/scanpy/tools/_score_genes.py:151: FutureWarning: Passing a set as an indexer is deprecated and will raise in a future version. Use a list instead.\n",
      "  for cut in np.unique(obs_cut.loc[gene_list]):\n",
      "/Users/ceglian/gvenv/lib/python3.9/site-packages/scanpy/tools/_score_genes.py:151: FutureWarning: Passing a set as an indexer is deprecated and will raise in a future version. Use a list instead.\n",
      "  for cut in np.unique(obs_cut.loc[gene_list]):\n"
     ]
    },
    {
     "name": "stdout",
     "output_type": "stream",
     "text": [
      "    finished: added\n",
      "    '284_SCORE', score of gene set (adata.obs).\n",
      "    98 total control genes are used. (0:00:00)\n",
      "computing score '6_SCORE'\n",
      "WARNING: genes are not in var_names and ignored: ['C1ORF194', 'SPATA18', 'FAM81B', 'RSPH9', 'EFCAB10', 'AKAP14', 'C9ORF135', 'WDR38', 'ENKUR', 'SAXO2', 'ADGRG3', 'DYNLRB2', 'ZACN', 'CFAP53', 'LKAAEAR1']\n",
      "    finished: added\n",
      "    '6_SCORE', score of gene set (adata.obs).\n",
      "    145 total control genes are used. (0:00:00)\n",
      "computing score '155_SCORE'\n",
      "WARNING: genes are not in var_names and ignored: ['ARTN', 'NPAS2', 'CNKSR2']\n"
     ]
    },
    {
     "name": "stderr",
     "output_type": "stream",
     "text": [
      "/Users/ceglian/gvenv/lib/python3.9/site-packages/scanpy/tools/_score_genes.py:151: FutureWarning: Passing a set as an indexer is deprecated and will raise in a future version. Use a list instead.\n",
      "  for cut in np.unique(obs_cut.loc[gene_list]):\n",
      "/Users/ceglian/gvenv/lib/python3.9/site-packages/scanpy/tools/_score_genes.py:151: FutureWarning: Passing a set as an indexer is deprecated and will raise in a future version. Use a list instead.\n",
      "  for cut in np.unique(obs_cut.loc[gene_list]):\n"
     ]
    },
    {
     "name": "stdout",
     "output_type": "stream",
     "text": [
      "    finished: added\n",
      "    '155_SCORE', score of gene set (adata.obs).\n",
      "    196 total control genes are used. (0:00:00)\n",
      "computing score '143_SCORE'\n",
      "WARNING: genes are not in var_names and ignored: ['KIF2C', 'CD84', 'KIF4A', 'TROAP', 'PRC1', 'NDC80', 'GTSE1']\n",
      "    finished: added\n",
      "    '143_SCORE', score of gene set (adata.obs).\n",
      "    49 total control genes are used. (0:00:00)\n",
      "computing score '166_SCORE'\n",
      "WARNING: genes are not in var_names and ignored: ['PLK3', 'OXR1', 'FAM102A']\n"
     ]
    },
    {
     "name": "stderr",
     "output_type": "stream",
     "text": [
      "/Users/ceglian/gvenv/lib/python3.9/site-packages/scanpy/tools/_score_genes.py:151: FutureWarning: Passing a set as an indexer is deprecated and will raise in a future version. Use a list instead.\n",
      "  for cut in np.unique(obs_cut.loc[gene_list]):\n",
      "/Users/ceglian/gvenv/lib/python3.9/site-packages/scanpy/tools/_score_genes.py:151: FutureWarning: Passing a set as an indexer is deprecated and will raise in a future version. Use a list instead.\n",
      "  for cut in np.unique(obs_cut.loc[gene_list]):\n"
     ]
    },
    {
     "name": "stdout",
     "output_type": "stream",
     "text": [
      "    finished: added\n",
      "    '166_SCORE', score of gene set (adata.obs).\n",
      "    146 total control genes are used. (0:00:00)\n",
      "computing score '97_SCORE'\n",
      "WARNING: genes are not in var_names and ignored: ['TCTEX1D4', 'SYT10']\n",
      "    finished: added\n",
      "    '97_SCORE', score of gene set (adata.obs).\n",
      "    243 total control genes are used. (0:00:00)\n",
      "computing score '51_SCORE'\n",
      "WARNING: genes are not in var_names and ignored: ['HOMER2', 'LRG1']\n"
     ]
    },
    {
     "name": "stderr",
     "output_type": "stream",
     "text": [
      "/Users/ceglian/gvenv/lib/python3.9/site-packages/scanpy/tools/_score_genes.py:151: FutureWarning: Passing a set as an indexer is deprecated and will raise in a future version. Use a list instead.\n",
      "  for cut in np.unique(obs_cut.loc[gene_list]):\n",
      "/Users/ceglian/gvenv/lib/python3.9/site-packages/scanpy/tools/_score_genes.py:151: FutureWarning: Passing a set as an indexer is deprecated and will raise in a future version. Use a list instead.\n",
      "  for cut in np.unique(obs_cut.loc[gene_list]):\n"
     ]
    },
    {
     "name": "stdout",
     "output_type": "stream",
     "text": [
      "    finished: added\n",
      "    '51_SCORE', score of gene set (adata.obs).\n",
      "    241 total control genes are used. (0:00:00)\n",
      "computing score '177_SCORE'\n",
      "WARNING: genes are not in var_names and ignored: ['LRRC41', 'MRLN', 'FGFR2', 'LTA4H', 'MOCS3']\n",
      "    finished: added\n",
      "    '177_SCORE', score of gene set (adata.obs).\n",
      "    49 total control genes are used. (0:00:00)\n",
      "computing score '58_SCORE'\n",
      "WARNING: genes are not in var_names and ignored: ['UQCRH', 'MZT2A', 'CYCS', 'ASRGL1', 'STXBP6', 'TMEM238', 'ISOC2']\n"
     ]
    },
    {
     "name": "stderr",
     "output_type": "stream",
     "text": [
      "/Users/ceglian/gvenv/lib/python3.9/site-packages/scanpy/tools/_score_genes.py:151: FutureWarning: Passing a set as an indexer is deprecated and will raise in a future version. Use a list instead.\n",
      "  for cut in np.unique(obs_cut.loc[gene_list]):\n",
      "/Users/ceglian/gvenv/lib/python3.9/site-packages/scanpy/tools/_score_genes.py:151: FutureWarning: Passing a set as an indexer is deprecated and will raise in a future version. Use a list instead.\n",
      "  for cut in np.unique(obs_cut.loc[gene_list]):\n"
     ]
    },
    {
     "name": "stdout",
     "output_type": "stream",
     "text": [
      "    finished: added\n",
      "    '58_SCORE', score of gene set (adata.obs).\n",
      "    97 total control genes are used. (0:00:00)\n",
      "computing score '167_SCORE'\n",
      "WARNING: genes are not in var_names and ignored: ['SELENBP1', 'MAST4', 'OPLAH', 'FRMD4A', 'SLC9A3R2']\n",
      "    finished: added\n",
      "    '167_SCORE', score of gene set (adata.obs).\n",
      "    98 total control genes are used. (0:00:00)\n",
      "computing score '2_SCORE'\n",
      "WARNING: genes are not in var_names and ignored: ['FOXE3', 'DUSP27', 'CCDC74B', 'MCIDAS', 'MORN5', 'LHX2', 'FIBCD1', 'DEUP1', 'MUC19', 'E2F7', 'FOXN4', 'DRC7', 'SMIM6', 'RASSF2', 'SHISA8', 'RIBC2']\n"
     ]
    },
    {
     "name": "stderr",
     "output_type": "stream",
     "text": [
      "/Users/ceglian/gvenv/lib/python3.9/site-packages/scanpy/tools/_score_genes.py:151: FutureWarning: Passing a set as an indexer is deprecated and will raise in a future version. Use a list instead.\n",
      "  for cut in np.unique(obs_cut.loc[gene_list]):\n",
      "/Users/ceglian/gvenv/lib/python3.9/site-packages/scanpy/tools/_score_genes.py:151: FutureWarning: Passing a set as an indexer is deprecated and will raise in a future version. Use a list instead.\n",
      "  for cut in np.unique(obs_cut.loc[gene_list]):\n"
     ]
    },
    {
     "name": "stdout",
     "output_type": "stream",
     "text": [
      "    finished: added\n",
      "    '2_SCORE', score of gene set (adata.obs).\n",
      "    145 total control genes are used. (0:00:00)\n",
      "computing score '147_SCORE'\n",
      "WARNING: genes are not in var_names and ignored: ['LDLRAD1', 'BST1', 'HIST1H2AC', 'HIST1H2BD', 'HIST1H4H', 'TNFSF15', 'PRRX2']\n",
      "    finished: added\n",
      "    '147_SCORE', score of gene set (adata.obs).\n",
      "    49 total control genes are used. (0:00:00)\n",
      "computing score '139_SCORE'\n",
      "WARNING: genes are not in var_names and ignored: ['PERP', 'CKB']\n"
     ]
    },
    {
     "name": "stderr",
     "output_type": "stream",
     "text": [
      "/Users/ceglian/gvenv/lib/python3.9/site-packages/scanpy/tools/_score_genes.py:151: FutureWarning: Passing a set as an indexer is deprecated and will raise in a future version. Use a list instead.\n",
      "  for cut in np.unique(obs_cut.loc[gene_list]):\n",
      "/Users/ceglian/gvenv/lib/python3.9/site-packages/scanpy/tools/_score_genes.py:151: FutureWarning: Passing a set as an indexer is deprecated and will raise in a future version. Use a list instead.\n",
      "  for cut in np.unique(obs_cut.loc[gene_list]):\n"
     ]
    },
    {
     "name": "stdout",
     "output_type": "stream",
     "text": [
      "    finished: added\n",
      "    '139_SCORE', score of gene set (adata.obs).\n",
      "    294 total control genes are used. (0:00:00)\n",
      "computing score '95_SCORE'\n",
      "WARNING: genes are not in var_names and ignored: ['FGGY', 'C1ORF116', 'DEGS1', 'CDC42EP3', 'B4GALT5', 'CERS4', 'NOTCH3']\n",
      "    finished: added\n",
      "    '95_SCORE', score of gene set (adata.obs).\n",
      "    98 total control genes are used. (0:00:00)\n",
      "computing score '186_SCORE'\n",
      "WARNING: genes are not in var_names and ignored: ['KANK4', 'SGCD', 'HIST1H4E', 'GDPD2', 'CHST1', 'COLEC12']\n",
      "computing score '18_SCORE'\n",
      "WARNING: genes are not in var_names and ignored: ['TCTEX1D1', 'C1ORF141', 'LRRC71', 'SRD5A2', 'CHN1', 'CROCC2', 'ANKUB1', 'C11ORF97', 'CABCOCO1', 'FAM216B', 'F10', 'WFDC6', 'PLPPR3', 'C22ORF15']\n"
     ]
    },
    {
     "name": "stderr",
     "output_type": "stream",
     "text": [
      "/Users/ceglian/gvenv/lib/python3.9/site-packages/scanpy/tools/_score_genes.py:151: FutureWarning: Passing a set as an indexer is deprecated and will raise in a future version. Use a list instead.\n",
      "  for cut in np.unique(obs_cut.loc[gene_list]):\n",
      "/Users/ceglian/gvenv/lib/python3.9/site-packages/scanpy/tools/_score_genes.py:151: FutureWarning: Passing a set as an indexer is deprecated and will raise in a future version. Use a list instead.\n",
      "  for cut in np.unique(obs_cut.loc[gene_list]):\n"
     ]
    },
    {
     "name": "stdout",
     "output_type": "stream",
     "text": [
      "    finished: added\n",
      "    '18_SCORE', score of gene set (adata.obs).\n",
      "    97 total control genes are used. (0:00:00)\n",
      "computing score '171_SCORE'\n",
      "WARNING: genes are not in var_names and ignored: ['PLOD2', 'NCOA7', 'GLIPR2', 'SOX9', 'YWHAH']\n",
      "    finished: added\n",
      "    '171_SCORE', score of gene set (adata.obs).\n",
      "    98 total control genes are used. (0:00:00)\n",
      "computing score '49_SCORE'\n",
      "WARNING: genes are not in var_names and ignored: ['DEPDC1', 'CKAP2L', 'DEPDC1B', 'KIF20A', 'CDC25C', 'CDCA2', 'KIF18A', 'GAS2L3', 'FAM83D']\n"
     ]
    },
    {
     "name": "stderr",
     "output_type": "stream",
     "text": [
      "/Users/ceglian/gvenv/lib/python3.9/site-packages/scanpy/tools/_score_genes.py:151: FutureWarning: Passing a set as an indexer is deprecated and will raise in a future version. Use a list instead.\n",
      "  for cut in np.unique(obs_cut.loc[gene_list]):\n",
      "/Users/ceglian/gvenv/lib/python3.9/site-packages/scanpy/tools/_score_genes.py:151: FutureWarning: Passing a set as an indexer is deprecated and will raise in a future version. Use a list instead.\n",
      "  for cut in np.unique(obs_cut.loc[gene_list]):\n"
     ]
    },
    {
     "name": "stdout",
     "output_type": "stream",
     "text": [
      "    finished: added\n",
      "    '49_SCORE', score of gene set (adata.obs).\n",
      "    98 total control genes are used. (0:00:00)\n",
      "computing score '0_SCORE'\n",
      "WARNING: genes are not in var_names and ignored: ['PTGER3', 'NPPC', 'LRRC3B', 'BEND4', 'FBN2', 'GRM4', 'MAGEA4', 'AKR1C2', 'C10ORF99', 'CDHR1', 'ATP8B4', 'CA4', 'VSTM1']\n",
      "    finished: added\n",
      "    '0_SCORE', score of gene set (adata.obs).\n",
      "    339 total control genes are used. (0:00:00)\n",
      "computing score '16_SCORE'\n",
      "WARNING: genes are not in var_names and ignored: ['ANKRD35', 'APOBEC4', 'DRC1', 'TTC29', 'CCDC69', 'GSTA3', 'DNAI1', 'STOML3', 'CCL17', 'DNAI2', 'CATSPERD', 'NWD1', 'CRLF1']\n"
     ]
    },
    {
     "name": "stderr",
     "output_type": "stream",
     "text": [
      "/Users/ceglian/gvenv/lib/python3.9/site-packages/scanpy/tools/_score_genes.py:151: FutureWarning: Passing a set as an indexer is deprecated and will raise in a future version. Use a list instead.\n",
      "  for cut in np.unique(obs_cut.loc[gene_list]):\n",
      "/Users/ceglian/gvenv/lib/python3.9/site-packages/scanpy/tools/_score_genes.py:151: FutureWarning: Passing a set as an indexer is deprecated and will raise in a future version. Use a list instead.\n",
      "  for cut in np.unique(obs_cut.loc[gene_list]):\n"
     ]
    },
    {
     "name": "stdout",
     "output_type": "stream",
     "text": [
      "    finished: added\n",
      "    '16_SCORE', score of gene set (adata.obs).\n",
      "    147 total control genes are used. (0:00:00)\n",
      "computing score '75_SCORE'\n",
      "WARNING: genes are not in var_names and ignored: ['ST6GALNAC5', 'GPR171', 'PTPN13', 'CRB2', 'SLAIN1', 'TYRO3', 'GATA6', 'SYNDIG1']\n",
      "    finished: added\n",
      "    '75_SCORE', score of gene set (adata.obs).\n",
      "    98 total control genes are used. (0:00:00)\n",
      "computing score '305_SCORE'\n",
      "WARNING: genes are not in var_names and ignored: ['NEXN']\n"
     ]
    },
    {
     "name": "stderr",
     "output_type": "stream",
     "text": [
      "/Users/ceglian/gvenv/lib/python3.9/site-packages/scanpy/tools/_score_genes.py:151: FutureWarning: Passing a set as an indexer is deprecated and will raise in a future version. Use a list instead.\n",
      "  for cut in np.unique(obs_cut.loc[gene_list]):\n",
      "/Users/ceglian/gvenv/lib/python3.9/site-packages/scanpy/tools/_score_genes.py:151: FutureWarning: Passing a set as an indexer is deprecated and will raise in a future version. Use a list instead.\n",
      "  for cut in np.unique(obs_cut.loc[gene_list]):\n"
     ]
    },
    {
     "name": "stdout",
     "output_type": "stream",
     "text": [
      "    finished: added\n",
      "    '305_SCORE', score of gene set (adata.obs).\n",
      "    49 total control genes are used. (0:00:00)\n",
      "computing score '9_SCORE'\n",
      "WARNING: genes are not in var_names and ignored: ['IFI44', 'CMPK2', 'SP110', 'XCR1', 'LAMP3', 'DDX60L', 'SAMD9L', 'OAS2']\n",
      "    finished: added\n",
      "    '9_SCORE', score of gene set (adata.obs).\n",
      "    390 total control genes are used. (0:00:00)\n",
      "computing score '129_SCORE'\n",
      "WARNING: genes are not in var_names and ignored: ['LPAR3', 'SH3RF1', 'VGLL1', 'KLF10', 'TP53I11']\n"
     ]
    },
    {
     "name": "stderr",
     "output_type": "stream",
     "text": [
      "/Users/ceglian/gvenv/lib/python3.9/site-packages/scanpy/tools/_score_genes.py:151: FutureWarning: Passing a set as an indexer is deprecated and will raise in a future version. Use a list instead.\n",
      "  for cut in np.unique(obs_cut.loc[gene_list]):\n"
     ]
    },
    {
     "name": "stdout",
     "output_type": "stream",
     "text": [
      "    finished: added\n",
      "    '129_SCORE', score of gene set (adata.obs).\n",
      "    147 total control genes are used. (0:00:00)\n",
      "computing score '245_SCORE'\n",
      "WARNING: genes are not in var_names and ignored: ['PON3', 'MAGEA10', 'CCDC114']\n"
     ]
    },
    {
     "name": "stderr",
     "output_type": "stream",
     "text": [
      "/Users/ceglian/gvenv/lib/python3.9/site-packages/scanpy/tools/_score_genes.py:151: FutureWarning: Passing a set as an indexer is deprecated and will raise in a future version. Use a list instead.\n",
      "  for cut in np.unique(obs_cut.loc[gene_list]):\n"
     ]
    },
    {
     "name": "stdout",
     "output_type": "stream",
     "text": [
      "    finished: added\n",
      "    '245_SCORE', score of gene set (adata.obs).\n",
      "    98 total control genes are used. (0:00:00)\n",
      "computing score '111_SCORE'\n",
      "WARNING: genes are not in var_names and ignored: ['CD200', 'PIK3R1', 'AHR', 'FAM84B', 'CAVIN3', 'ITPR2']\n"
     ]
    },
    {
     "name": "stderr",
     "output_type": "stream",
     "text": [
      "/Users/ceglian/gvenv/lib/python3.9/site-packages/scanpy/tools/_score_genes.py:151: FutureWarning: Passing a set as an indexer is deprecated and will raise in a future version. Use a list instead.\n",
      "  for cut in np.unique(obs_cut.loc[gene_list]):\n",
      "/Users/ceglian/gvenv/lib/python3.9/site-packages/scanpy/tools/_score_genes.py:151: FutureWarning: Passing a set as an indexer is deprecated and will raise in a future version. Use a list instead.\n",
      "  for cut in np.unique(obs_cut.loc[gene_list]):\n"
     ]
    },
    {
     "name": "stdout",
     "output_type": "stream",
     "text": [
      "    finished: added\n",
      "    '111_SCORE', score of gene set (adata.obs).\n",
      "    147 total control genes are used. (0:00:00)\n",
      "computing score '30_SCORE'\n",
      "WARNING: genes are not in var_names and ignored: ['CLCA4', 'HPGDS', 'MUC22', 'FAM9A', 'RIPPLY1', 'KLRC4', 'FOXG1', 'KCNH5', 'JMJD7', 'CD300E', 'CD300LF', 'IGFL3', 'FPR2']\n",
      "computing score '96_SCORE'\n",
      "WARNING: genes are not in var_names and ignored: ['GBP3', 'DAPP1', 'TNFAIP8', 'PIR', 'RIPK2', 'SOCS1', 'BBC3']\n",
      "    finished: added\n",
      "    '96_SCORE', score of gene set (adata.obs).\n",
      "    98 total control genes are used. (0:00:00)\n",
      "computing score '83_SCORE'\n",
      "WARNING: genes are not in var_names and ignored: ['GBP2', 'CYSTM1', 'B2M', 'CDC42EP4']\n"
     ]
    },
    {
     "name": "stderr",
     "output_type": "stream",
     "text": [
      "/Users/ceglian/gvenv/lib/python3.9/site-packages/scanpy/tools/_score_genes.py:151: FutureWarning: Passing a set as an indexer is deprecated and will raise in a future version. Use a list instead.\n",
      "  for cut in np.unique(obs_cut.loc[gene_list]):\n",
      "/Users/ceglian/gvenv/lib/python3.9/site-packages/scanpy/tools/_score_genes.py:151: FutureWarning: Passing a set as an indexer is deprecated and will raise in a future version. Use a list instead.\n",
      "  for cut in np.unique(obs_cut.loc[gene_list]):\n"
     ]
    },
    {
     "name": "stdout",
     "output_type": "stream",
     "text": [
      "    finished: added\n",
      "    '83_SCORE', score of gene set (adata.obs).\n",
      "    144 total control genes are used. (0:00:00)\n",
      "computing score '42_SCORE'\n",
      "WARNING: genes are not in var_names and ignored: ['RTP4', 'TAP2', 'PSMB8', 'PSMB9', 'TAP1', 'TRIM22', 'CD82', 'UBE2L6', 'OAS1', 'EPSTI1']\n",
      "    finished: added\n",
      "    '42_SCORE', score of gene set (adata.obs).\n",
      "    98 total control genes are used. (0:00:00)\n",
      "computing score '57_SCORE'\n",
      "WARNING: genes are not in var_names and ignored: ['HLA-F', 'ETV7', 'OAS3', 'TNFSF13B', 'IFI35']\n"
     ]
    },
    {
     "name": "stderr",
     "output_type": "stream",
     "text": [
      "/Users/ceglian/gvenv/lib/python3.9/site-packages/scanpy/tools/_score_genes.py:151: FutureWarning: Passing a set as an indexer is deprecated and will raise in a future version. Use a list instead.\n",
      "  for cut in np.unique(obs_cut.loc[gene_list]):\n",
      "/Users/ceglian/gvenv/lib/python3.9/site-packages/scanpy/tools/_score_genes.py:151: FutureWarning: Passing a set as an indexer is deprecated and will raise in a future version. Use a list instead.\n",
      "  for cut in np.unique(obs_cut.loc[gene_list]):\n"
     ]
    },
    {
     "name": "stdout",
     "output_type": "stream",
     "text": [
      "    finished: added\n",
      "    '57_SCORE', score of gene set (adata.obs).\n",
      "    244 total control genes are used. (0:00:00)\n",
      "computing score '174_SCORE'\n",
      "WARNING: genes are not in var_names and ignored: ['ARHGAP29', 'KRT18', 'ATP9A']\n",
      "    finished: added\n",
      "    '174_SCORE', score of gene set (adata.obs).\n",
      "    146 total control genes are used. (0:00:00)\n",
      "computing score '238_SCORE'\n",
      "WARNING: genes are not in var_names and ignored: ['LRRC75A']\n"
     ]
    },
    {
     "name": "stderr",
     "output_type": "stream",
     "text": [
      "/Users/ceglian/gvenv/lib/python3.9/site-packages/scanpy/tools/_score_genes.py:151: FutureWarning: Passing a set as an indexer is deprecated and will raise in a future version. Use a list instead.\n",
      "  for cut in np.unique(obs_cut.loc[gene_list]):\n"
     ]
    },
    {
     "name": "stdout",
     "output_type": "stream",
     "text": [
      "    finished: added\n",
      "    '238_SCORE', score of gene set (adata.obs).\n",
      "    146 total control genes are used. (0:00:00)\n",
      "computing score '173_SCORE'\n",
      "WARNING: genes are not in var_names and ignored: ['FHL2', 'TACC1', 'CCDC107', 'PRUNE2']\n"
     ]
    },
    {
     "name": "stderr",
     "output_type": "stream",
     "text": [
      "/Users/ceglian/gvenv/lib/python3.9/site-packages/scanpy/tools/_score_genes.py:151: FutureWarning: Passing a set as an indexer is deprecated and will raise in a future version. Use a list instead.\n",
      "  for cut in np.unique(obs_cut.loc[gene_list]):\n"
     ]
    },
    {
     "name": "stdout",
     "output_type": "stream",
     "text": [
      "    finished: added\n",
      "    '173_SCORE', score of gene set (adata.obs).\n",
      "    147 total control genes are used. (0:00:00)\n",
      "computing score '146_SCORE'\n",
      "WARNING: genes are not in var_names and ignored: ['S1PR1']\n"
     ]
    },
    {
     "name": "stderr",
     "output_type": "stream",
     "text": [
      "/Users/ceglian/gvenv/lib/python3.9/site-packages/scanpy/tools/_score_genes.py:151: FutureWarning: Passing a set as an indexer is deprecated and will raise in a future version. Use a list instead.\n",
      "  for cut in np.unique(obs_cut.loc[gene_list]):\n",
      "/Users/ceglian/gvenv/lib/python3.9/site-packages/scanpy/tools/_score_genes.py:151: FutureWarning: Passing a set as an indexer is deprecated and will raise in a future version. Use a list instead.\n",
      "  for cut in np.unique(obs_cut.loc[gene_list]):\n"
     ]
    },
    {
     "name": "stdout",
     "output_type": "stream",
     "text": [
      "    finished: added\n",
      "    '146_SCORE', score of gene set (adata.obs).\n",
      "    243 total control genes are used. (0:00:00)\n",
      "computing score '44_SCORE'\n",
      "WARNING: genes are not in var_names and ignored: ['TNNI2', 'AMN']\n",
      "    finished: added\n",
      "    '44_SCORE', score of gene set (adata.obs).\n",
      "    291 total control genes are used. (0:00:00)\n",
      "computing score '137_SCORE'\n",
      "WARNING: genes are not in var_names and ignored: ['GPSM2', 'CENPL', 'TFPI', 'SLITRK3', 'OLFM1', 'SDR9C7', 'CYSLTR2']\n"
     ]
    },
    {
     "name": "stderr",
     "output_type": "stream",
     "text": [
      "/Users/ceglian/gvenv/lib/python3.9/site-packages/scanpy/tools/_score_genes.py:151: FutureWarning: Passing a set as an indexer is deprecated and will raise in a future version. Use a list instead.\n",
      "  for cut in np.unique(obs_cut.loc[gene_list]):\n",
      "/Users/ceglian/gvenv/lib/python3.9/site-packages/scanpy/tools/_score_genes.py:151: FutureWarning: Passing a set as an indexer is deprecated and will raise in a future version. Use a list instead.\n",
      "  for cut in np.unique(obs_cut.loc[gene_list]):\n"
     ]
    },
    {
     "name": "stdout",
     "output_type": "stream",
     "text": [
      "    finished: added\n",
      "    '137_SCORE', score of gene set (adata.obs).\n",
      "    49 total control genes are used. (0:00:00)\n",
      "computing score '197_SCORE'\n",
      "WARNING: genes are not in var_names and ignored: ['GPM6B', 'AR', 'CA8']\n",
      "    finished: added\n",
      "    '197_SCORE', score of gene set (adata.obs).\n",
      "    147 total control genes are used. (0:00:00)\n",
      "computing score '53_SCORE'\n",
      "WARNING: genes are not in var_names and ignored: ['PSRC1', 'NES', 'LBR', 'FANCD2', 'CIP2A', 'ECT2', 'TRIP13', 'HIST1H1E', 'NCAPG2', 'ARHGAP11A']\n"
     ]
    },
    {
     "name": "stderr",
     "output_type": "stream",
     "text": [
      "/Users/ceglian/gvenv/lib/python3.9/site-packages/scanpy/tools/_score_genes.py:151: FutureWarning: Passing a set as an indexer is deprecated and will raise in a future version. Use a list instead.\n",
      "  for cut in np.unique(obs_cut.loc[gene_list]):\n",
      "/Users/ceglian/gvenv/lib/python3.9/site-packages/scanpy/tools/_score_genes.py:151: FutureWarning: Passing a set as an indexer is deprecated and will raise in a future version. Use a list instead.\n",
      "  for cut in np.unique(obs_cut.loc[gene_list]):\n"
     ]
    },
    {
     "name": "stdout",
     "output_type": "stream",
     "text": [
      "    finished: added\n",
      "    '53_SCORE', score of gene set (adata.obs).\n",
      "    49 total control genes are used. (0:00:00)\n",
      "computing score '124_SCORE'\n",
      "WARNING: genes are not in var_names and ignored: ['GSTM3', 'NCEH1', 'CDKN1C', 'FBLN5', 'NLRP2']\n",
      "    finished: added\n",
      "    '124_SCORE', score of gene set (adata.obs).\n",
      "    147 total control genes are used. (0:00:00)\n",
      "computing score '182_SCORE'\n",
      "WARNING: genes are not in var_names and ignored: ['CSF1', 'STC2', 'ASNS', 'SHMT2', 'MZT1']\n"
     ]
    },
    {
     "name": "stderr",
     "output_type": "stream",
     "text": [
      "/Users/ceglian/gvenv/lib/python3.9/site-packages/scanpy/tools/_score_genes.py:151: FutureWarning: Passing a set as an indexer is deprecated and will raise in a future version. Use a list instead.\n",
      "  for cut in np.unique(obs_cut.loc[gene_list]):\n",
      "/Users/ceglian/gvenv/lib/python3.9/site-packages/scanpy/tools/_score_genes.py:151: FutureWarning: Passing a set as an indexer is deprecated and will raise in a future version. Use a list instead.\n",
      "  for cut in np.unique(obs_cut.loc[gene_list]):\n"
     ]
    },
    {
     "name": "stdout",
     "output_type": "stream",
     "text": [
      "    finished: added\n",
      "    '182_SCORE', score of gene set (adata.obs).\n",
      "    49 total control genes are used. (0:00:00)\n",
      "computing score '90_SCORE'\n",
      "WARNING: genes are not in var_names and ignored: ['FAM3D', 'C6ORF15']\n",
      "    finished: added\n",
      "    '90_SCORE', score of gene set (adata.obs).\n",
      "    243 total control genes are used. (0:00:00)\n",
      "computing score '33_SCORE'\n",
      "WARNING: genes are not in var_names and ignored: ['KCND3', 'PRELP', 'IMPG2', 'SH3RF2', 'GJA1', 'PGAM2', 'MATN2', 'LGI1', 'TEPP', 'CPXM1']\n"
     ]
    },
    {
     "name": "stderr",
     "output_type": "stream",
     "text": [
      "/Users/ceglian/gvenv/lib/python3.9/site-packages/scanpy/tools/_score_genes.py:151: FutureWarning: Passing a set as an indexer is deprecated and will raise in a future version. Use a list instead.\n",
      "  for cut in np.unique(obs_cut.loc[gene_list]):\n",
      "/Users/ceglian/gvenv/lib/python3.9/site-packages/scanpy/tools/_score_genes.py:151: FutureWarning: Passing a set as an indexer is deprecated and will raise in a future version. Use a list instead.\n",
      "  for cut in np.unique(obs_cut.loc[gene_list]):\n"
     ]
    },
    {
     "name": "stdout",
     "output_type": "stream",
     "text": [
      "    finished: added\n",
      "    '33_SCORE', score of gene set (adata.obs).\n",
      "    147 total control genes are used. (0:00:00)\n",
      "computing score '78_SCORE'\n",
      "WARNING: genes are not in var_names and ignored: ['TMIGD3', 'FCGR1A', 'FCGR2B', 'STAB1', 'CSF1R', 'FOLR2', 'IL18', 'CMKLR1', 'CD300C']\n",
      "    finished: added\n",
      "    '78_SCORE', score of gene set (adata.obs).\n",
      "    49 total control genes are used. (0:00:00)\n",
      "computing score '63_SCORE'\n",
      "WARNING: genes are not in var_names and ignored: ['ADORA3', 'CD14', 'CLEC7A', 'RNASE6', 'FCGBP', 'C5AR1']\n"
     ]
    },
    {
     "name": "stderr",
     "output_type": "stream",
     "text": [
      "/Users/ceglian/gvenv/lib/python3.9/site-packages/scanpy/tools/_score_genes.py:151: FutureWarning: Passing a set as an indexer is deprecated and will raise in a future version. Use a list instead.\n",
      "  for cut in np.unique(obs_cut.loc[gene_list]):\n",
      "/Users/ceglian/gvenv/lib/python3.9/site-packages/scanpy/tools/_score_genes.py:151: FutureWarning: Passing a set as an indexer is deprecated and will raise in a future version. Use a list instead.\n",
      "  for cut in np.unique(obs_cut.loc[gene_list]):\n"
     ]
    },
    {
     "name": "stdout",
     "output_type": "stream",
     "text": [
      "    finished: added\n",
      "    '63_SCORE', score of gene set (adata.obs).\n",
      "    145 total control genes are used. (0:00:00)\n",
      "computing score '220_SCORE'\n",
      "WARNING: genes are not in var_names and ignored: ['TENT5C', 'GLDC', 'NTRK2', 'PSTPIP2']\n",
      "    finished: added\n",
      "    '220_SCORE', score of gene set (adata.obs).\n",
      "    98 total control genes are used. (0:00:00)\n",
      "computing score '133_SCORE'\n",
      "WARNING: genes are not in var_names and ignored: ['FAM83A', 'ADGRB1', 'CAPN5', 'CX3CL1', 'SUSD2']\n"
     ]
    },
    {
     "name": "stderr",
     "output_type": "stream",
     "text": [
      "/Users/ceglian/gvenv/lib/python3.9/site-packages/scanpy/tools/_score_genes.py:151: FutureWarning: Passing a set as an indexer is deprecated and will raise in a future version. Use a list instead.\n",
      "  for cut in np.unique(obs_cut.loc[gene_list]):\n",
      "/Users/ceglian/gvenv/lib/python3.9/site-packages/scanpy/tools/_score_genes.py:151: FutureWarning: Passing a set as an indexer is deprecated and will raise in a future version. Use a list instead.\n",
      "  for cut in np.unique(obs_cut.loc[gene_list]):\n"
     ]
    },
    {
     "name": "stdout",
     "output_type": "stream",
     "text": [
      "    finished: added\n",
      "    '133_SCORE', score of gene set (adata.obs).\n",
      "    147 total control genes are used. (0:00:00)\n",
      "computing score '259_SCORE'\n",
      "WARNING: genes are not in var_names and ignored: ['HIST2H2AC', 'FANCI', 'SLFN13', 'MCM8']\n",
      "    finished: added\n",
      "    '259_SCORE', score of gene set (adata.obs).\n",
      "    49 total control genes are used. (0:00:00)\n",
      "computing score '54_SCORE'\n",
      "WARNING: genes are not in var_names and ignored: ['PLEKHO1', 'HBEGF', 'NEDD9', 'TREM1', 'MPEG1']\n"
     ]
    },
    {
     "name": "stderr",
     "output_type": "stream",
     "text": [
      "/Users/ceglian/gvenv/lib/python3.9/site-packages/scanpy/tools/_score_genes.py:175: PerformanceWarning: DataFrame is highly fragmented.  This is usually the result of calling `frame.insert` many times, which has poor performance.  Consider joining all columns at once using pd.concat(axis=1) instead. To get a de-fragmented frame, use `newframe = frame.copy()`\n",
      "  adata.obs[score_name] = pd.Series(\n",
      "/Users/ceglian/gvenv/lib/python3.9/site-packages/scanpy/tools/_score_genes.py:151: FutureWarning: Passing a set as an indexer is deprecated and will raise in a future version. Use a list instead.\n",
      "  for cut in np.unique(obs_cut.loc[gene_list]):\n",
      "/Users/ceglian/gvenv/lib/python3.9/site-packages/scanpy/tools/_score_genes.py:175: PerformanceWarning: DataFrame is highly fragmented.  This is usually the result of calling `frame.insert` many times, which has poor performance.  Consider joining all columns at once using pd.concat(axis=1) instead. To get a de-fragmented frame, use `newframe = frame.copy()`\n",
      "  adata.obs[score_name] = pd.Series(\n"
     ]
    },
    {
     "name": "stdout",
     "output_type": "stream",
     "text": [
      "    finished: added\n",
      "    '54_SCORE', score of gene set (adata.obs).\n",
      "    294 total control genes are used. (0:00:00)\n",
      "computing score '71_SCORE'\n",
      "WARNING: genes are not in var_names and ignored: ['RAP2B', 'ARHGAP26', 'LYN', 'KLF4', 'C15ORF48', 'SQOR', 'TYMP']\n"
     ]
    },
    {
     "name": "stderr",
     "output_type": "stream",
     "text": [
      "/Users/ceglian/gvenv/lib/python3.9/site-packages/scanpy/tools/_score_genes.py:151: FutureWarning: Passing a set as an indexer is deprecated and will raise in a future version. Use a list instead.\n",
      "  for cut in np.unique(obs_cut.loc[gene_list]):\n",
      "/Users/ceglian/gvenv/lib/python3.9/site-packages/scanpy/tools/_score_genes.py:175: PerformanceWarning: DataFrame is highly fragmented.  This is usually the result of calling `frame.insert` many times, which has poor performance.  Consider joining all columns at once using pd.concat(axis=1) instead. To get a de-fragmented frame, use `newframe = frame.copy()`\n",
      "  adata.obs[score_name] = pd.Series(\n",
      "/Users/ceglian/gvenv/lib/python3.9/site-packages/scanpy/tools/_score_genes.py:151: FutureWarning: Passing a set as an indexer is deprecated and will raise in a future version. Use a list instead.\n",
      "  for cut in np.unique(obs_cut.loc[gene_list]):\n"
     ]
    },
    {
     "name": "stdout",
     "output_type": "stream",
     "text": [
      "    finished: added\n",
      "    '71_SCORE', score of gene set (adata.obs).\n",
      "    147 total control genes are used. (0:00:00)\n",
      "computing score '80_SCORE'\n",
      "WARNING: genes are not in var_names and ignored: ['ANXA9', 'PTH1R', 'UPK3BL1', 'ATG9B', 'UPK1A', 'LYPD3']\n",
      "    finished: added\n",
      "    '80_SCORE', score of gene set (adata.obs).\n",
      "    146 total control genes are used. (0:00:00)\n",
      "computing score '262_SCORE'\n",
      "WARNING: genes are not in var_names and ignored: ['GSN']\n"
     ]
    },
    {
     "name": "stderr",
     "output_type": "stream",
     "text": [
      "/Users/ceglian/gvenv/lib/python3.9/site-packages/scanpy/tools/_score_genes.py:175: PerformanceWarning: DataFrame is highly fragmented.  This is usually the result of calling `frame.insert` many times, which has poor performance.  Consider joining all columns at once using pd.concat(axis=1) instead. To get a de-fragmented frame, use `newframe = frame.copy()`\n",
      "  adata.obs[score_name] = pd.Series(\n",
      "/Users/ceglian/gvenv/lib/python3.9/site-packages/scanpy/tools/_score_genes.py:151: FutureWarning: Passing a set as an indexer is deprecated and will raise in a future version. Use a list instead.\n",
      "  for cut in np.unique(obs_cut.loc[gene_list]):\n",
      "/Users/ceglian/gvenv/lib/python3.9/site-packages/scanpy/tools/_score_genes.py:175: PerformanceWarning: DataFrame is highly fragmented.  This is usually the result of calling `frame.insert` many times, which has poor performance.  Consider joining all columns at once using pd.concat(axis=1) instead. To get a de-fragmented frame, use `newframe = frame.copy()`\n",
      "  adata.obs[score_name] = pd.Series(\n"
     ]
    },
    {
     "name": "stdout",
     "output_type": "stream",
     "text": [
      "    finished: added\n",
      "    '262_SCORE', score of gene set (adata.obs).\n",
      "    147 total control genes are used. (0:00:00)\n",
      "computing score '103_SCORE'\n",
      "WARNING: genes are not in var_names and ignored: ['GLRA2', 'SLURP2', 'CYP1A2', 'ALPK2']\n"
     ]
    },
    {
     "name": "stderr",
     "output_type": "stream",
     "text": [
      "/Users/ceglian/gvenv/lib/python3.9/site-packages/scanpy/tools/_score_genes.py:151: FutureWarning: Passing a set as an indexer is deprecated and will raise in a future version. Use a list instead.\n",
      "  for cut in np.unique(obs_cut.loc[gene_list]):\n",
      "/Users/ceglian/gvenv/lib/python3.9/site-packages/scanpy/tools/_score_genes.py:175: PerformanceWarning: DataFrame is highly fragmented.  This is usually the result of calling `frame.insert` many times, which has poor performance.  Consider joining all columns at once using pd.concat(axis=1) instead. To get a de-fragmented frame, use `newframe = frame.copy()`\n",
      "  adata.obs[score_name] = pd.Series(\n"
     ]
    },
    {
     "name": "stdout",
     "output_type": "stream",
     "text": [
      "    finished: added\n",
      "    '103_SCORE', score of gene set (adata.obs).\n",
      "    245 total control genes are used. (0:00:00)\n",
      "computing score '20_SCORE'\n",
      "WARNING: genes are not in var_names and ignored: ['ZNF735', 'ZAN', 'MMP12', 'CCL18', 'LOXHD1', 'FAM71E2']\n"
     ]
    },
    {
     "name": "stderr",
     "output_type": "stream",
     "text": [
      "/Users/ceglian/gvenv/lib/python3.9/site-packages/scanpy/tools/_score_genes.py:151: FutureWarning: Passing a set as an indexer is deprecated and will raise in a future version. Use a list instead.\n",
      "  for cut in np.unique(obs_cut.loc[gene_list]):\n",
      "/Users/ceglian/gvenv/lib/python3.9/site-packages/scanpy/tools/_score_genes.py:175: PerformanceWarning: DataFrame is highly fragmented.  This is usually the result of calling `frame.insert` many times, which has poor performance.  Consider joining all columns at once using pd.concat(axis=1) instead. To get a de-fragmented frame, use `newframe = frame.copy()`\n",
      "  adata.obs[score_name] = pd.Series(\n",
      "/Users/ceglian/gvenv/lib/python3.9/site-packages/scanpy/tools/_score_genes.py:151: FutureWarning: Passing a set as an indexer is deprecated and will raise in a future version. Use a list instead.\n",
      "  for cut in np.unique(obs_cut.loc[gene_list]):\n"
     ]
    },
    {
     "name": "stdout",
     "output_type": "stream",
     "text": [
      "    finished: added\n",
      "    '20_SCORE', score of gene set (adata.obs).\n",
      "    240 total control genes are used. (0:00:00)\n",
      "computing score '116_SCORE'\n",
      "WARNING: genes are not in var_names and ignored: ['ATP1A4', 'ELF5', 'SERPINB7', 'CD177']\n",
      "    finished: added\n",
      "    '116_SCORE', score of gene set (adata.obs).\n",
      "    144 total control genes are used. (0:00:00)\n",
      "computing score '162_SCORE'\n",
      "WARNING: genes are not in var_names and ignored: ['SPRR2A', 'MOBP', 'GABRG1', 'GDF6']\n"
     ]
    },
    {
     "name": "stderr",
     "output_type": "stream",
     "text": [
      "/Users/ceglian/gvenv/lib/python3.9/site-packages/scanpy/tools/_score_genes.py:175: PerformanceWarning: DataFrame is highly fragmented.  This is usually the result of calling `frame.insert` many times, which has poor performance.  Consider joining all columns at once using pd.concat(axis=1) instead. To get a de-fragmented frame, use `newframe = frame.copy()`\n",
      "  adata.obs[score_name] = pd.Series(\n",
      "/Users/ceglian/gvenv/lib/python3.9/site-packages/scanpy/tools/_score_genes.py:151: FutureWarning: Passing a set as an indexer is deprecated and will raise in a future version. Use a list instead.\n",
      "  for cut in np.unique(obs_cut.loc[gene_list]):\n",
      "/Users/ceglian/gvenv/lib/python3.9/site-packages/scanpy/tools/_score_genes.py:175: PerformanceWarning: DataFrame is highly fragmented.  This is usually the result of calling `frame.insert` many times, which has poor performance.  Consider joining all columns at once using pd.concat(axis=1) instead. To get a de-fragmented frame, use `newframe = frame.copy()`\n",
      "  adata.obs[score_name] = pd.Series(\n"
     ]
    },
    {
     "name": "stdout",
     "output_type": "stream",
     "text": [
      "    finished: added\n",
      "    '162_SCORE', score of gene set (adata.obs).\n",
      "    147 total control genes are used. (0:00:00)\n",
      "computing score '59_SCORE'\n",
      "WARNING: genes are not in var_names and ignored: ['KCNE4', 'TESC', 'TBX2']\n"
     ]
    },
    {
     "name": "stderr",
     "output_type": "stream",
     "text": [
      "/Users/ceglian/gvenv/lib/python3.9/site-packages/scanpy/tools/_score_genes.py:151: FutureWarning: Passing a set as an indexer is deprecated and will raise in a future version. Use a list instead.\n",
      "  for cut in np.unique(obs_cut.loc[gene_list]):\n",
      "/Users/ceglian/gvenv/lib/python3.9/site-packages/scanpy/tools/_score_genes.py:175: PerformanceWarning: DataFrame is highly fragmented.  This is usually the result of calling `frame.insert` many times, which has poor performance.  Consider joining all columns at once using pd.concat(axis=1) instead. To get a de-fragmented frame, use `newframe = frame.copy()`\n",
      "  adata.obs[score_name] = pd.Series(\n",
      "/Users/ceglian/gvenv/lib/python3.9/site-packages/scanpy/tools/_score_genes.py:151: FutureWarning: Passing a set as an indexer is deprecated and will raise in a future version. Use a list instead.\n",
      "  for cut in np.unique(obs_cut.loc[gene_list]):\n"
     ]
    },
    {
     "name": "stdout",
     "output_type": "stream",
     "text": [
      "    finished: added\n",
      "    '59_SCORE', score of gene set (adata.obs).\n",
      "    242 total control genes are used. (0:00:00)\n",
      "computing score '202_SCORE'\n",
      "WARNING: genes are not in var_names and ignored: ['S100A7A', 'FCN1', 'HERPUD1']\n",
      "    finished: added\n",
      "    '202_SCORE', score of gene set (adata.obs).\n",
      "    147 total control genes are used. (0:00:00)\n",
      "computing score '82_SCORE'\n",
      "WARNING: genes are not in var_names and ignored: ['ADAMTS4', 'HAS2', 'TG', 'LRRC26', 'CNN1', 'MLC1']\n"
     ]
    },
    {
     "name": "stderr",
     "output_type": "stream",
     "text": [
      "/Users/ceglian/gvenv/lib/python3.9/site-packages/scanpy/tools/_score_genes.py:175: PerformanceWarning: DataFrame is highly fragmented.  This is usually the result of calling `frame.insert` many times, which has poor performance.  Consider joining all columns at once using pd.concat(axis=1) instead. To get a de-fragmented frame, use `newframe = frame.copy()`\n",
      "  adata.obs[score_name] = pd.Series(\n",
      "/Users/ceglian/gvenv/lib/python3.9/site-packages/scanpy/tools/_score_genes.py:151: FutureWarning: Passing a set as an indexer is deprecated and will raise in a future version. Use a list instead.\n",
      "  for cut in np.unique(obs_cut.loc[gene_list]):\n",
      "/Users/ceglian/gvenv/lib/python3.9/site-packages/scanpy/tools/_score_genes.py:175: PerformanceWarning: DataFrame is highly fragmented.  This is usually the result of calling `frame.insert` many times, which has poor performance.  Consider joining all columns at once using pd.concat(axis=1) instead. To get a de-fragmented frame, use `newframe = frame.copy()`\n",
      "  adata.obs[score_name] = pd.Series(\n"
     ]
    },
    {
     "name": "stdout",
     "output_type": "stream",
     "text": [
      "    finished: added\n",
      "    '82_SCORE', score of gene set (adata.obs).\n",
      "    146 total control genes are used. (0:00:00)\n",
      "computing score '14_SCORE'\n",
      "WARNING: genes are not in var_names and ignored: ['C1ORF105', 'CNGA1', 'LY6G6C', 'ATP6V0A4', 'KRT78', 'HCAR2', 'SLC39A2', 'SMIM5']\n"
     ]
    },
    {
     "name": "stderr",
     "output_type": "stream",
     "text": [
      "/Users/ceglian/gvenv/lib/python3.9/site-packages/scanpy/tools/_score_genes.py:151: FutureWarning: Passing a set as an indexer is deprecated and will raise in a future version. Use a list instead.\n",
      "  for cut in np.unique(obs_cut.loc[gene_list]):\n",
      "/Users/ceglian/gvenv/lib/python3.9/site-packages/scanpy/tools/_score_genes.py:175: PerformanceWarning: DataFrame is highly fragmented.  This is usually the result of calling `frame.insert` many times, which has poor performance.  Consider joining all columns at once using pd.concat(axis=1) instead. To get a de-fragmented frame, use `newframe = frame.copy()`\n",
      "  adata.obs[score_name] = pd.Series(\n",
      "/Users/ceglian/gvenv/lib/python3.9/site-packages/scanpy/tools/_score_genes.py:151: FutureWarning: Passing a set as an indexer is deprecated and will raise in a future version. Use a list instead.\n",
      "  for cut in np.unique(obs_cut.loc[gene_list]):\n"
     ]
    },
    {
     "name": "stdout",
     "output_type": "stream",
     "text": [
      "    finished: added\n",
      "    '14_SCORE', score of gene set (adata.obs).\n",
      "    241 total control genes are used. (0:00:00)\n",
      "computing score '105_SCORE'\n",
      "WARNING: genes are not in var_names and ignored: ['LMNA', 'SUSD4', 'SCD5', 'TMEM173', 'PLPP2']\n"
     ]
    },
    {
     "name": "stderr",
     "output_type": "stream",
     "text": [
      "/Users/ceglian/gvenv/lib/python3.9/site-packages/scanpy/tools/_score_genes.py:175: PerformanceWarning: DataFrame is highly fragmented.  This is usually the result of calling `frame.insert` many times, which has poor performance.  Consider joining all columns at once using pd.concat(axis=1) instead. To get a de-fragmented frame, use `newframe = frame.copy()`\n",
      "  adata.obs[score_name] = pd.Series(\n",
      "/Users/ceglian/gvenv/lib/python3.9/site-packages/scanpy/tools/_score_genes.py:151: FutureWarning: Passing a set as an indexer is deprecated and will raise in a future version. Use a list instead.\n",
      "  for cut in np.unique(obs_cut.loc[gene_list]):\n"
     ]
    },
    {
     "name": "stdout",
     "output_type": "stream",
     "text": [
      "    finished: added\n",
      "    '105_SCORE', score of gene set (adata.obs).\n",
      "    96 total control genes are used. (0:00:00)\n",
      "computing score '303_SCORE'\n",
      "WARNING: genes are not in var_names and ignored: ['S100A3', 'FOXS1']\n",
      "computing score '221_SCORE'\n",
      "WARNING: genes are not in var_names and ignored: ['RAI14', 'EFNB2']\n",
      "    finished: added\n",
      "    '221_SCORE', score of gene set (adata.obs).\n",
      "    97 total control genes are used. (0:00:00)\n",
      "computing score '285_SCORE'\n",
      "WARNING: genes are not in var_names and ignored: ['S100A16', 'PDLIM2', 'RERG', 'UACA']\n",
      "computing score '64_SCORE'\n",
      "WARNING: genes are not in var_names and ignored: ['S100A14', 'DERL1', 'PUF60', 'CYC1', 'ATP6V1G1', 'ARF6', 'PDIA3', 'EMP2', 'ATP5F1A', 'C18ORF25']\n"
     ]
    },
    {
     "name": "stderr",
     "output_type": "stream",
     "text": [
      "/Users/ceglian/gvenv/lib/python3.9/site-packages/scanpy/tools/_score_genes.py:175: PerformanceWarning: DataFrame is highly fragmented.  This is usually the result of calling `frame.insert` many times, which has poor performance.  Consider joining all columns at once using pd.concat(axis=1) instead. To get a de-fragmented frame, use `newframe = frame.copy()`\n",
      "  adata.obs[score_name] = pd.Series(\n",
      "/Users/ceglian/gvenv/lib/python3.9/site-packages/genevector-0.1.0-py3.9.egg/genevector/embedding.py:152: PerformanceWarning: DataFrame is highly fragmented.  This is usually the result of calling `frame.insert` many times, which has poor performance.  Consider joining all columns at once using pd.concat(axis=1) instead. To get a de-fragmented frame, use `newframe = frame.copy()`\n",
      "  adata.obs[str(p)+\"_SCORE\"] = 0.\n",
      "/Users/ceglian/gvenv/lib/python3.9/site-packages/scanpy/tools/_score_genes.py:151: FutureWarning: Passing a set as an indexer is deprecated and will raise in a future version. Use a list instead.\n",
      "  for cut in np.unique(obs_cut.loc[gene_list]):\n",
      "/Users/ceglian/gvenv/lib/python3.9/site-packages/scanpy/tools/_score_genes.py:175: PerformanceWarning: DataFrame is highly fragmented.  This is usually the result of calling `frame.insert` many times, which has poor performance.  Consider joining all columns at once using pd.concat(axis=1) instead. To get a de-fragmented frame, use `newframe = frame.copy()`\n",
      "  adata.obs[score_name] = pd.Series(\n",
      "/Users/ceglian/gvenv/lib/python3.9/site-packages/genevector-0.1.0-py3.9.egg/genevector/embedding.py:152: PerformanceWarning: DataFrame is highly fragmented.  This is usually the result of calling `frame.insert` many times, which has poor performance.  Consider joining all columns at once using pd.concat(axis=1) instead. To get a de-fragmented frame, use `newframe = frame.copy()`\n",
      "  adata.obs[str(p)+\"_SCORE\"] = 0.\n"
     ]
    },
    {
     "name": "stdout",
     "output_type": "stream",
     "text": [
      "    finished: added\n",
      "    '64_SCORE', score of gene set (adata.obs).\n",
      "    49 total control genes are used. (0:00:00)\n",
      "computing score '277_SCORE'\n",
      "WARNING: genes are not in var_names and ignored: ['NPR1']\n"
     ]
    },
    {
     "name": "stderr",
     "output_type": "stream",
     "text": [
      "/Users/ceglian/gvenv/lib/python3.9/site-packages/scanpy/tools/_score_genes.py:151: FutureWarning: Passing a set as an indexer is deprecated and will raise in a future version. Use a list instead.\n",
      "  for cut in np.unique(obs_cut.loc[gene_list]):\n",
      "/Users/ceglian/gvenv/lib/python3.9/site-packages/scanpy/tools/_score_genes.py:175: PerformanceWarning: DataFrame is highly fragmented.  This is usually the result of calling `frame.insert` many times, which has poor performance.  Consider joining all columns at once using pd.concat(axis=1) instead. To get a de-fragmented frame, use `newframe = frame.copy()`\n",
      "  adata.obs[score_name] = pd.Series(\n",
      "/Users/ceglian/gvenv/lib/python3.9/site-packages/scanpy/tools/_score_genes.py:151: FutureWarning: Passing a set as an indexer is deprecated and will raise in a future version. Use a list instead.\n",
      "  for cut in np.unique(obs_cut.loc[gene_list]):\n"
     ]
    },
    {
     "name": "stdout",
     "output_type": "stream",
     "text": [
      "    finished: added\n",
      "    '277_SCORE', score of gene set (adata.obs).\n",
      "    147 total control genes are used. (0:00:00)\n",
      "computing score '281_SCORE'\n",
      "WARNING: genes are not in var_names and ignored: ['KCNN3', 'RASGEF1B', 'RNF150', 'SLC5A3']\n",
      "computing score '28_SCORE'\n",
      "WARNING: genes are not in var_names and ignored: ['CKS1B', 'SMC4', 'EZH2', 'HMGB3', 'CKAP5', 'NCAPD2', 'MIS18BP1']\n"
     ]
    },
    {
     "name": "stderr",
     "output_type": "stream",
     "text": [
      "/Users/ceglian/gvenv/lib/python3.9/site-packages/scanpy/tools/_score_genes.py:175: PerformanceWarning: DataFrame is highly fragmented.  This is usually the result of calling `frame.insert` many times, which has poor performance.  Consider joining all columns at once using pd.concat(axis=1) instead. To get a de-fragmented frame, use `newframe = frame.copy()`\n",
      "  adata.obs[score_name] = pd.Series(\n",
      "/Users/ceglian/gvenv/lib/python3.9/site-packages/genevector-0.1.0-py3.9.egg/genevector/embedding.py:152: PerformanceWarning: DataFrame is highly fragmented.  This is usually the result of calling `frame.insert` many times, which has poor performance.  Consider joining all columns at once using pd.concat(axis=1) instead. To get a de-fragmented frame, use `newframe = frame.copy()`\n",
      "  adata.obs[str(p)+\"_SCORE\"] = 0.\n",
      "/Users/ceglian/gvenv/lib/python3.9/site-packages/scanpy/tools/_score_genes.py:151: FutureWarning: Passing a set as an indexer is deprecated and will raise in a future version. Use a list instead.\n",
      "  for cut in np.unique(obs_cut.loc[gene_list]):\n"
     ]
    },
    {
     "name": "stdout",
     "output_type": "stream",
     "text": [
      "    finished: added\n",
      "    '28_SCORE', score of gene set (adata.obs).\n",
      "    193 total control genes are used. (0:00:00)\n",
      "computing score '250_SCORE'\n",
      "WARNING: genes are not in var_names and ignored: ['SYT11', 'TCF7L1', 'HMGA2', 'ZNF93', 'NFKBID']\n",
      "computing score '79_SCORE'\n",
      "WARNING: genes are not in var_names and ignored: ['RAB25', 'PPIC', 'UPK3B', 'NDUFA3']\n"
     ]
    },
    {
     "name": "stderr",
     "output_type": "stream",
     "text": [
      "/Users/ceglian/gvenv/lib/python3.9/site-packages/scanpy/tools/_score_genes.py:175: PerformanceWarning: DataFrame is highly fragmented.  This is usually the result of calling `frame.insert` many times, which has poor performance.  Consider joining all columns at once using pd.concat(axis=1) instead. To get a de-fragmented frame, use `newframe = frame.copy()`\n",
      "  adata.obs[score_name] = pd.Series(\n",
      "/Users/ceglian/gvenv/lib/python3.9/site-packages/genevector-0.1.0-py3.9.egg/genevector/embedding.py:152: PerformanceWarning: DataFrame is highly fragmented.  This is usually the result of calling `frame.insert` many times, which has poor performance.  Consider joining all columns at once using pd.concat(axis=1) instead. To get a de-fragmented frame, use `newframe = frame.copy()`\n",
      "  adata.obs[str(p)+\"_SCORE\"] = 0.\n",
      "/Users/ceglian/gvenv/lib/python3.9/site-packages/scanpy/tools/_score_genes.py:151: FutureWarning: Passing a set as an indexer is deprecated and will raise in a future version. Use a list instead.\n",
      "  for cut in np.unique(obs_cut.loc[gene_list]):\n"
     ]
    },
    {
     "name": "stdout",
     "output_type": "stream",
     "text": [
      "    finished: added\n",
      "    '79_SCORE', score of gene set (adata.obs).\n",
      "    244 total control genes are used. (0:00:00)\n",
      "computing score '310_SCORE'\n",
      "WARNING: genes are not in var_names and ignored: ['C1ORF61']\n",
      "computing score '46_SCORE'\n",
      "WARNING: genes are not in var_names and ignored: ['IQGAP3', 'TMEFF2', 'MME', 'CYTL1', 'EDIL3', 'GAGE1', 'GAGE2A']\n",
      "    finished: added\n",
      "    '46_SCORE', score of gene set (adata.obs).\n",
      "    146 total control genes are used. (0:00:00)\n",
      "computing score '40_SCORE'\n",
      "WARNING: genes are not in var_names and ignored: ['ETV3L', 'PGC', 'THEMIS', 'SFTPC', 'CASP5', 'LACRT', 'GIP', 'CD300LB', 'SERPINB10']\n"
     ]
    },
    {
     "name": "stderr",
     "output_type": "stream",
     "text": [
      "/Users/ceglian/gvenv/lib/python3.9/site-packages/scanpy/tools/_score_genes.py:175: PerformanceWarning: DataFrame is highly fragmented.  This is usually the result of calling `frame.insert` many times, which has poor performance.  Consider joining all columns at once using pd.concat(axis=1) instead. To get a de-fragmented frame, use `newframe = frame.copy()`\n",
      "  adata.obs[score_name] = pd.Series(\n",
      "/Users/ceglian/gvenv/lib/python3.9/site-packages/genevector-0.1.0-py3.9.egg/genevector/embedding.py:152: PerformanceWarning: DataFrame is highly fragmented.  This is usually the result of calling `frame.insert` many times, which has poor performance.  Consider joining all columns at once using pd.concat(axis=1) instead. To get a de-fragmented frame, use `newframe = frame.copy()`\n",
      "  adata.obs[str(p)+\"_SCORE\"] = 0.\n",
      "/Users/ceglian/gvenv/lib/python3.9/site-packages/scanpy/tools/_score_genes.py:151: FutureWarning: Passing a set as an indexer is deprecated and will raise in a future version. Use a list instead.\n",
      "  for cut in np.unique(obs_cut.loc[gene_list]):\n",
      "/Users/ceglian/gvenv/lib/python3.9/site-packages/scanpy/tools/_score_genes.py:175: PerformanceWarning: DataFrame is highly fragmented.  This is usually the result of calling `frame.insert` many times, which has poor performance.  Consider joining all columns at once using pd.concat(axis=1) instead. To get a de-fragmented frame, use `newframe = frame.copy()`\n",
      "  adata.obs[score_name] = pd.Series(\n"
     ]
    },
    {
     "name": "stdout",
     "output_type": "stream",
     "text": [
      "    finished: added\n",
      "    '40_SCORE', score of gene set (adata.obs).\n",
      "    96 total control genes are used. (0:00:00)\n",
      "computing score '109_SCORE'\n",
      "WARNING: genes are not in var_names and ignored: ['IFI16', 'TMOD1', 'C1S', 'C1R', 'DUSP6']\n"
     ]
    },
    {
     "name": "stderr",
     "output_type": "stream",
     "text": [
      "/Users/ceglian/gvenv/lib/python3.9/site-packages/scanpy/tools/_score_genes.py:151: FutureWarning: Passing a set as an indexer is deprecated and will raise in a future version. Use a list instead.\n",
      "  for cut in np.unique(obs_cut.loc[gene_list]):\n",
      "/Users/ceglian/gvenv/lib/python3.9/site-packages/scanpy/tools/_score_genes.py:175: PerformanceWarning: DataFrame is highly fragmented.  This is usually the result of calling `frame.insert` many times, which has poor performance.  Consider joining all columns at once using pd.concat(axis=1) instead. To get a de-fragmented frame, use `newframe = frame.copy()`\n",
      "  adata.obs[score_name] = pd.Series(\n",
      "/Users/ceglian/gvenv/lib/python3.9/site-packages/scanpy/tools/_score_genes.py:151: FutureWarning: Passing a set as an indexer is deprecated and will raise in a future version. Use a list instead.\n",
      "  for cut in np.unique(obs_cut.loc[gene_list]):\n"
     ]
    },
    {
     "name": "stdout",
     "output_type": "stream",
     "text": [
      "    finished: added\n",
      "    '109_SCORE', score of gene set (adata.obs).\n",
      "    146 total control genes are used. (0:00:00)\n",
      "computing score '50_SCORE'\n",
      "WARNING: genes are not in var_names and ignored: ['RTP3', 'FOXD1', 'SLC22A2', 'TMEM196', 'WNT16', 'KCNJ1', 'CCL11', 'DSEL']\n",
      "    finished: added\n",
      "    '50_SCORE', score of gene set (adata.obs).\n",
      "    97 total control genes are used. (0:00:00)\n",
      "computing score '48_SCORE'\n",
      "WARNING: genes are not in var_names and ignored: ['CD48', 'IL2RG', 'LCP1', 'PTGER2', 'LIMD2', 'MATK', 'HCST']\n"
     ]
    },
    {
     "name": "stderr",
     "output_type": "stream",
     "text": [
      "/Users/ceglian/gvenv/lib/python3.9/site-packages/scanpy/tools/_score_genes.py:175: PerformanceWarning: DataFrame is highly fragmented.  This is usually the result of calling `frame.insert` many times, which has poor performance.  Consider joining all columns at once using pd.concat(axis=1) instead. To get a de-fragmented frame, use `newframe = frame.copy()`\n",
      "  adata.obs[score_name] = pd.Series(\n",
      "/Users/ceglian/gvenv/lib/python3.9/site-packages/scanpy/tools/_score_genes.py:151: FutureWarning: Passing a set as an indexer is deprecated and will raise in a future version. Use a list instead.\n",
      "  for cut in np.unique(obs_cut.loc[gene_list]):\n",
      "/Users/ceglian/gvenv/lib/python3.9/site-packages/scanpy/tools/_score_genes.py:175: PerformanceWarning: DataFrame is highly fragmented.  This is usually the result of calling `frame.insert` many times, which has poor performance.  Consider joining all columns at once using pd.concat(axis=1) instead. To get a de-fragmented frame, use `newframe = frame.copy()`\n",
      "  adata.obs[score_name] = pd.Series(\n"
     ]
    },
    {
     "name": "stdout",
     "output_type": "stream",
     "text": [
      "    finished: added\n",
      "    '48_SCORE', score of gene set (adata.obs).\n",
      "    146 total control genes are used. (0:00:00)\n",
      "computing score '41_SCORE'\n",
      "WARNING: genes are not in var_names and ignored: ['SLAMF7', 'LMOD1', 'CHRNA1', 'AFAP1L1', 'KIAA1210', 'BAALC', 'ARHGEF39', 'PRKCB', 'CD226', 'FERMT1']\n"
     ]
    },
    {
     "name": "stderr",
     "output_type": "stream",
     "text": [
      "/Users/ceglian/gvenv/lib/python3.9/site-packages/scanpy/tools/_score_genes.py:151: FutureWarning: Passing a set as an indexer is deprecated and will raise in a future version. Use a list instead.\n",
      "  for cut in np.unique(obs_cut.loc[gene_list]):\n",
      "/Users/ceglian/gvenv/lib/python3.9/site-packages/scanpy/tools/_score_genes.py:175: PerformanceWarning: DataFrame is highly fragmented.  This is usually the result of calling `frame.insert` many times, which has poor performance.  Consider joining all columns at once using pd.concat(axis=1) instead. To get a de-fragmented frame, use `newframe = frame.copy()`\n",
      "  adata.obs[score_name] = pd.Series(\n",
      "/Users/ceglian/gvenv/lib/python3.9/site-packages/scanpy/tools/_score_genes.py:151: FutureWarning: Passing a set as an indexer is deprecated and will raise in a future version. Use a list instead.\n",
      "  for cut in np.unique(obs_cut.loc[gene_list]):\n"
     ]
    },
    {
     "name": "stdout",
     "output_type": "stream",
     "text": [
      "    finished: added\n",
      "    '41_SCORE', score of gene set (adata.obs).\n",
      "    98 total control genes are used. (0:00:00)\n",
      "computing score '299_SCORE'\n",
      "WARNING: genes are not in var_names and ignored: ['MGST1']\n",
      "    finished: added\n",
      "    '299_SCORE', score of gene set (adata.obs).\n",
      "    98 total control genes are used. (0:00:00)\n",
      "computing score '107_SCORE'\n",
      "WARNING: genes are not in var_names and ignored: ['ITLN2', 'CRYGB', 'SAMD7', 'FNDC9', 'GATA1', 'GAGE13', 'TBATA', 'ZBTB32']\n"
     ]
    },
    {
     "name": "stderr",
     "output_type": "stream",
     "text": [
      "/Users/ceglian/gvenv/lib/python3.9/site-packages/scanpy/tools/_score_genes.py:175: PerformanceWarning: DataFrame is highly fragmented.  This is usually the result of calling `frame.insert` many times, which has poor performance.  Consider joining all columns at once using pd.concat(axis=1) instead. To get a de-fragmented frame, use `newframe = frame.copy()`\n",
      "  adata.obs[score_name] = pd.Series(\n",
      "/Users/ceglian/gvenv/lib/python3.9/site-packages/scanpy/tools/_score_genes.py:151: FutureWarning: Passing a set as an indexer is deprecated and will raise in a future version. Use a list instead.\n",
      "  for cut in np.unique(obs_cut.loc[gene_list]):\n",
      "/Users/ceglian/gvenv/lib/python3.9/site-packages/scanpy/tools/_score_genes.py:175: PerformanceWarning: DataFrame is highly fragmented.  This is usually the result of calling `frame.insert` many times, which has poor performance.  Consider joining all columns at once using pd.concat(axis=1) instead. To get a de-fragmented frame, use `newframe = frame.copy()`\n",
      "  adata.obs[score_name] = pd.Series(\n"
     ]
    },
    {
     "name": "stdout",
     "output_type": "stream",
     "text": [
      "    finished: added\n",
      "    '107_SCORE', score of gene set (adata.obs).\n",
      "    48 total control genes are used. (0:00:00)\n",
      "computing score '136_SCORE'\n",
      "WARNING: genes are not in var_names and ignored: ['HIST1H2BH', 'NLRP7']\n"
     ]
    },
    {
     "name": "stderr",
     "output_type": "stream",
     "text": [
      "/Users/ceglian/gvenv/lib/python3.9/site-packages/scanpy/tools/_score_genes.py:151: FutureWarning: Passing a set as an indexer is deprecated and will raise in a future version. Use a list instead.\n",
      "  for cut in np.unique(obs_cut.loc[gene_list]):\n",
      "/Users/ceglian/gvenv/lib/python3.9/site-packages/scanpy/tools/_score_genes.py:175: PerformanceWarning: DataFrame is highly fragmented.  This is usually the result of calling `frame.insert` many times, which has poor performance.  Consider joining all columns at once using pd.concat(axis=1) instead. To get a de-fragmented frame, use `newframe = frame.copy()`\n",
      "  adata.obs[score_name] = pd.Series(\n",
      "/Users/ceglian/gvenv/lib/python3.9/site-packages/scanpy/tools/_score_genes.py:151: FutureWarning: Passing a set as an indexer is deprecated and will raise in a future version. Use a list instead.\n",
      "  for cut in np.unique(obs_cut.loc[gene_list]):\n"
     ]
    },
    {
     "name": "stdout",
     "output_type": "stream",
     "text": [
      "    finished: added\n",
      "    '136_SCORE', score of gene set (adata.obs).\n",
      "    244 total control genes are used. (0:00:00)\n",
      "computing score '31_SCORE'\n",
      "WARNING: genes are not in var_names and ignored: ['TACC3', 'SLC6A5']\n",
      "    finished: added\n",
      "    '31_SCORE', score of gene set (adata.obs).\n",
      "    239 total control genes are used. (0:00:00)\n"
     ]
    },
    {
     "name": "stderr",
     "output_type": "stream",
     "text": [
      "/Users/ceglian/gvenv/lib/python3.9/site-packages/scanpy/tools/_score_genes.py:175: PerformanceWarning: DataFrame is highly fragmented.  This is usually the result of calling `frame.insert` many times, which has poor performance.  Consider joining all columns at once using pd.concat(axis=1) instead. To get a de-fragmented frame, use `newframe = frame.copy()`\n",
      "  adata.obs[score_name] = pd.Series(\n",
      "/Users/ceglian/gvenv/lib/python3.9/site-packages/scanpy/tools/_score_genes.py:151: FutureWarning: Passing a set as an indexer is deprecated and will raise in a future version. Use a list instead.\n",
      "  for cut in np.unique(obs_cut.loc[gene_list]):\n",
      "/Users/ceglian/gvenv/lib/python3.9/site-packages/scanpy/tools/_score_genes.py:175: PerformanceWarning: DataFrame is highly fragmented.  This is usually the result of calling `frame.insert` many times, which has poor performance.  Consider joining all columns at once using pd.concat(axis=1) instead. To get a de-fragmented frame, use `newframe = frame.copy()`\n",
      "  adata.obs[score_name] = pd.Series(\n"
     ]
    },
    {
     "name": "stdout",
     "output_type": "stream",
     "text": [
      "computing score '254_SCORE'\n",
      "WARNING: genes are not in var_names and ignored: ['TRAT1']\n",
      "    finished: added\n",
      "    '254_SCORE', score of gene set (adata.obs).\n",
      "    46 total control genes are used. (0:00:00)\n",
      "computing score '240_SCORE'\n",
      "WARNING: genes are not in var_names and ignored: ['ATP1B1']\n"
     ]
    },
    {
     "name": "stderr",
     "output_type": "stream",
     "text": [
      "/Users/ceglian/gvenv/lib/python3.9/site-packages/scanpy/tools/_score_genes.py:151: FutureWarning: Passing a set as an indexer is deprecated and will raise in a future version. Use a list instead.\n",
      "  for cut in np.unique(obs_cut.loc[gene_list]):\n",
      "/Users/ceglian/gvenv/lib/python3.9/site-packages/scanpy/tools/_score_genes.py:175: PerformanceWarning: DataFrame is highly fragmented.  This is usually the result of calling `frame.insert` many times, which has poor performance.  Consider joining all columns at once using pd.concat(axis=1) instead. To get a de-fragmented frame, use `newframe = frame.copy()`\n",
      "  adata.obs[score_name] = pd.Series(\n",
      "/Users/ceglian/gvenv/lib/python3.9/site-packages/scanpy/tools/_score_genes.py:151: FutureWarning: Passing a set as an indexer is deprecated and will raise in a future version. Use a list instead.\n",
      "  for cut in np.unique(obs_cut.loc[gene_list]):\n"
     ]
    },
    {
     "name": "stdout",
     "output_type": "stream",
     "text": [
      "    finished: added\n",
      "    '240_SCORE', score of gene set (adata.obs).\n",
      "    96 total control genes are used. (0:00:00)\n",
      "computing score '86_SCORE'\n",
      "WARNING: genes are not in var_names and ignored: ['SELE', 'SLC5A7', 'HAND1', 'PTF1A', 'HPSE2', 'MYBPC1', 'PCDH8', 'NOS2', 'CYP2A6', 'CYP2A7']\n",
      "computing score '55_SCORE'\n",
      "WARNING: genes are not in var_names and ignored: ['B3GALT1', 'CALCB', 'SMIM24']\n",
      "    finished: added\n",
      "    '55_SCORE', score of gene set (adata.obs).\n",
      "    292 total control genes are used. (0:00:00)\n",
      "computing score '246_SCORE'\n",
      "WARNING: genes are not in var_names and ignored: ['FAM43A', 'EMID1']\n"
     ]
    },
    {
     "name": "stderr",
     "output_type": "stream",
     "text": [
      "/Users/ceglian/gvenv/lib/python3.9/site-packages/scanpy/tools/_score_genes.py:175: PerformanceWarning: DataFrame is highly fragmented.  This is usually the result of calling `frame.insert` many times, which has poor performance.  Consider joining all columns at once using pd.concat(axis=1) instead. To get a de-fragmented frame, use `newframe = frame.copy()`\n",
      "  adata.obs[score_name] = pd.Series(\n",
      "/Users/ceglian/gvenv/lib/python3.9/site-packages/genevector-0.1.0-py3.9.egg/genevector/embedding.py:152: PerformanceWarning: DataFrame is highly fragmented.  This is usually the result of calling `frame.insert` many times, which has poor performance.  Consider joining all columns at once using pd.concat(axis=1) instead. To get a de-fragmented frame, use `newframe = frame.copy()`\n",
      "  adata.obs[str(p)+\"_SCORE\"] = 0.\n",
      "/Users/ceglian/gvenv/lib/python3.9/site-packages/scanpy/tools/_score_genes.py:151: FutureWarning: Passing a set as an indexer is deprecated and will raise in a future version. Use a list instead.\n",
      "  for cut in np.unique(obs_cut.loc[gene_list]):\n",
      "/Users/ceglian/gvenv/lib/python3.9/site-packages/scanpy/tools/_score_genes.py:175: PerformanceWarning: DataFrame is highly fragmented.  This is usually the result of calling `frame.insert` many times, which has poor performance.  Consider joining all columns at once using pd.concat(axis=1) instead. To get a de-fragmented frame, use `newframe = frame.copy()`\n",
      "  adata.obs[score_name] = pd.Series(\n"
     ]
    },
    {
     "name": "stdout",
     "output_type": "stream",
     "text": [
      "    finished: added\n",
      "    '246_SCORE', score of gene set (adata.obs).\n",
      "    147 total control genes are used. (0:00:00)\n",
      "computing score '253_SCORE'\n",
      "WARNING: genes are not in var_names and ignored: ['LAMC2', 'POU2F3', 'SLC4A11']\n"
     ]
    },
    {
     "name": "stderr",
     "output_type": "stream",
     "text": [
      "/Users/ceglian/gvenv/lib/python3.9/site-packages/scanpy/tools/_score_genes.py:151: FutureWarning: Passing a set as an indexer is deprecated and will raise in a future version. Use a list instead.\n",
      "  for cut in np.unique(obs_cut.loc[gene_list]):\n",
      "/Users/ceglian/gvenv/lib/python3.9/site-packages/scanpy/tools/_score_genes.py:175: PerformanceWarning: DataFrame is highly fragmented.  This is usually the result of calling `frame.insert` many times, which has poor performance.  Consider joining all columns at once using pd.concat(axis=1) instead. To get a de-fragmented frame, use `newframe = frame.copy()`\n",
      "  adata.obs[score_name] = pd.Series(\n",
      "/Users/ceglian/gvenv/lib/python3.9/site-packages/scanpy/tools/_score_genes.py:151: FutureWarning: Passing a set as an indexer is deprecated and will raise in a future version. Use a list instead.\n",
      "  for cut in np.unique(obs_cut.loc[gene_list]):\n"
     ]
    },
    {
     "name": "stdout",
     "output_type": "stream",
     "text": [
      "    finished: added\n",
      "    '253_SCORE', score of gene set (adata.obs).\n",
      "    98 total control genes are used. (0:00:00)\n",
      "computing score '38_SCORE'\n",
      "WARNING: genes are not in var_names and ignored: ['NCF2', 'DPYSL2', 'CELF2', 'HTRA1', 'KCNB1', 'DACT3', 'LILRB1']\n",
      "    finished: added\n",
      "    '38_SCORE', score of gene set (adata.obs).\n",
      "    245 total control genes are used. (0:00:00)\n",
      "computing score '236_SCORE'\n",
      "WARNING: genes are not in var_names and ignored: ['C1ORF21']\n"
     ]
    },
    {
     "name": "stderr",
     "output_type": "stream",
     "text": [
      "/Users/ceglian/gvenv/lib/python3.9/site-packages/scanpy/tools/_score_genes.py:175: PerformanceWarning: DataFrame is highly fragmented.  This is usually the result of calling `frame.insert` many times, which has poor performance.  Consider joining all columns at once using pd.concat(axis=1) instead. To get a de-fragmented frame, use `newframe = frame.copy()`\n",
      "  adata.obs[score_name] = pd.Series(\n",
      "/Users/ceglian/gvenv/lib/python3.9/site-packages/scanpy/tools/_score_genes.py:151: FutureWarning: Passing a set as an indexer is deprecated and will raise in a future version. Use a list instead.\n",
      "  for cut in np.unique(obs_cut.loc[gene_list]):\n",
      "/Users/ceglian/gvenv/lib/python3.9/site-packages/scanpy/tools/_score_genes.py:175: PerformanceWarning: DataFrame is highly fragmented.  This is usually the result of calling `frame.insert` many times, which has poor performance.  Consider joining all columns at once using pd.concat(axis=1) instead. To get a de-fragmented frame, use `newframe = frame.copy()`\n",
      "  adata.obs[score_name] = pd.Series(\n"
     ]
    },
    {
     "name": "stdout",
     "output_type": "stream",
     "text": [
      "    finished: added\n",
      "    '236_SCORE', score of gene set (adata.obs).\n",
      "    196 total control genes are used. (0:00:00)\n",
      "computing score '13_SCORE'\n",
      "WARNING: genes are not in var_names and ignored: ['NLRP3', 'CCRL2', 'HAVCR2', 'DOCK2', 'NCF1', 'SDS', 'GPR183', 'APOBR', 'IFI30', 'FPR3']\n"
     ]
    },
    {
     "name": "stderr",
     "output_type": "stream",
     "text": [
      "/Users/ceglian/gvenv/lib/python3.9/site-packages/scanpy/tools/_score_genes.py:151: FutureWarning: Passing a set as an indexer is deprecated and will raise in a future version. Use a list instead.\n",
      "  for cut in np.unique(obs_cut.loc[gene_list]):\n",
      "/Users/ceglian/gvenv/lib/python3.9/site-packages/scanpy/tools/_score_genes.py:175: PerformanceWarning: DataFrame is highly fragmented.  This is usually the result of calling `frame.insert` many times, which has poor performance.  Consider joining all columns at once using pd.concat(axis=1) instead. To get a de-fragmented frame, use `newframe = frame.copy()`\n",
      "  adata.obs[score_name] = pd.Series(\n"
     ]
    },
    {
     "name": "stdout",
     "output_type": "stream",
     "text": [
      "    finished: added\n",
      "    '13_SCORE', score of gene set (adata.obs).\n",
      "    243 total control genes are used. (0:00:00)\n",
      "computing score '76_SCORE'\n",
      "WARNING: genes are not in var_names and ignored: ['DPP4', 'PDE1A', 'ABI3BP']\n"
     ]
    },
    {
     "name": "stderr",
     "output_type": "stream",
     "text": [
      "/Users/ceglian/gvenv/lib/python3.9/site-packages/scanpy/tools/_score_genes.py:151: FutureWarning: Passing a set as an indexer is deprecated and will raise in a future version. Use a list instead.\n",
      "  for cut in np.unique(obs_cut.loc[gene_list]):\n",
      "/Users/ceglian/gvenv/lib/python3.9/site-packages/scanpy/tools/_score_genes.py:175: PerformanceWarning: DataFrame is highly fragmented.  This is usually the result of calling `frame.insert` many times, which has poor performance.  Consider joining all columns at once using pd.concat(axis=1) instead. To get a de-fragmented frame, use `newframe = frame.copy()`\n",
      "  adata.obs[score_name] = pd.Series(\n",
      "/Users/ceglian/gvenv/lib/python3.9/site-packages/scanpy/tools/_score_genes.py:151: FutureWarning: Passing a set as an indexer is deprecated and will raise in a future version. Use a list instead.\n",
      "  for cut in np.unique(obs_cut.loc[gene_list]):\n"
     ]
    },
    {
     "name": "stdout",
     "output_type": "stream",
     "text": [
      "    finished: added\n",
      "    '76_SCORE', score of gene set (adata.obs).\n",
      "    243 total control genes are used. (0:00:00)\n",
      "computing score '110_SCORE'\n",
      "WARNING: genes are not in var_names and ignored: ['OR2T12', 'HMX1', 'HELT', 'OR2V1', 'SIRPG', 'CHRNA4']\n",
      "    finished: added\n",
      "    '110_SCORE', score of gene set (adata.obs).\n",
      "    46 total control genes are used. (0:00:00)\n",
      "computing score '4_SCORE'\n",
      "WARNING: genes are not in var_names and ignored: ['NCAPH', 'SPC25', 'HJURP', 'KIF15', 'NCAPG', 'CCNA2', 'MXD3', 'KIFC1', 'PBK', 'KIF11', 'BUB1B', 'KNL1', 'PKMYT1', 'AURKB', 'SPAG5', 'SPC24']\n"
     ]
    },
    {
     "name": "stderr",
     "output_type": "stream",
     "text": [
      "/Users/ceglian/gvenv/lib/python3.9/site-packages/scanpy/tools/_score_genes.py:175: PerformanceWarning: DataFrame is highly fragmented.  This is usually the result of calling `frame.insert` many times, which has poor performance.  Consider joining all columns at once using pd.concat(axis=1) instead. To get a de-fragmented frame, use `newframe = frame.copy()`\n",
      "  adata.obs[score_name] = pd.Series(\n",
      "/Users/ceglian/gvenv/lib/python3.9/site-packages/scanpy/tools/_score_genes.py:151: FutureWarning: Passing a set as an indexer is deprecated and will raise in a future version. Use a list instead.\n",
      "  for cut in np.unique(obs_cut.loc[gene_list]):\n",
      "/Users/ceglian/gvenv/lib/python3.9/site-packages/scanpy/tools/_score_genes.py:175: PerformanceWarning: DataFrame is highly fragmented.  This is usually the result of calling `frame.insert` many times, which has poor performance.  Consider joining all columns at once using pd.concat(axis=1) instead. To get a de-fragmented frame, use `newframe = frame.copy()`\n",
      "  adata.obs[score_name] = pd.Series(\n"
     ]
    },
    {
     "name": "stdout",
     "output_type": "stream",
     "text": [
      "    finished: added\n",
      "    '4_SCORE', score of gene set (adata.obs).\n",
      "    196 total control genes are used. (0:00:00)\n",
      "computing score '67_SCORE'\n",
      "WARNING: genes are not in var_names and ignored: ['PLXNA2', 'EFHD1', 'TM4SF19', 'BARX2', 'MRC1', 'COL13A1', 'SULF2']\n"
     ]
    },
    {
     "name": "stderr",
     "output_type": "stream",
     "text": [
      "/Users/ceglian/gvenv/lib/python3.9/site-packages/scanpy/tools/_score_genes.py:151: FutureWarning: Passing a set as an indexer is deprecated and will raise in a future version. Use a list instead.\n",
      "  for cut in np.unique(obs_cut.loc[gene_list]):\n",
      "/Users/ceglian/gvenv/lib/python3.9/site-packages/scanpy/tools/_score_genes.py:175: PerformanceWarning: DataFrame is highly fragmented.  This is usually the result of calling `frame.insert` many times, which has poor performance.  Consider joining all columns at once using pd.concat(axis=1) instead. To get a de-fragmented frame, use `newframe = frame.copy()`\n",
      "  adata.obs[score_name] = pd.Series(\n",
      "/Users/ceglian/gvenv/lib/python3.9/site-packages/scanpy/tools/_score_genes.py:151: FutureWarning: Passing a set as an indexer is deprecated and will raise in a future version. Use a list instead.\n",
      "  for cut in np.unique(obs_cut.loc[gene_list]):\n"
     ]
    },
    {
     "name": "stdout",
     "output_type": "stream",
     "text": [
      "    finished: added\n",
      "    '67_SCORE', score of gene set (adata.obs).\n",
      "    196 total control genes are used. (0:00:00)\n",
      "computing score '118_SCORE'\n",
      "WARNING: genes are not in var_names and ignored: ['C6', 'CCNA1', 'IFNL3', 'IFNL2']\n",
      "    finished: added\n",
      "    '118_SCORE', score of gene set (adata.obs).\n",
      "    146 total control genes are used. (0:00:00)\n",
      "computing score '239_SCORE'\n",
      "WARNING: genes are not in var_names and ignored: ['LRIG1', 'SOX17', 'AHNAK']\n"
     ]
    },
    {
     "name": "stderr",
     "output_type": "stream",
     "text": [
      "/Users/ceglian/gvenv/lib/python3.9/site-packages/scanpy/tools/_score_genes.py:175: PerformanceWarning: DataFrame is highly fragmented.  This is usually the result of calling `frame.insert` many times, which has poor performance.  Consider joining all columns at once using pd.concat(axis=1) instead. To get a de-fragmented frame, use `newframe = frame.copy()`\n",
      "  adata.obs[score_name] = pd.Series(\n",
      "/Users/ceglian/gvenv/lib/python3.9/site-packages/scanpy/tools/_score_genes.py:151: FutureWarning: Passing a set as an indexer is deprecated and will raise in a future version. Use a list instead.\n",
      "  for cut in np.unique(obs_cut.loc[gene_list]):\n",
      "/Users/ceglian/gvenv/lib/python3.9/site-packages/scanpy/tools/_score_genes.py:175: PerformanceWarning: DataFrame is highly fragmented.  This is usually the result of calling `frame.insert` many times, which has poor performance.  Consider joining all columns at once using pd.concat(axis=1) instead. To get a de-fragmented frame, use `newframe = frame.copy()`\n",
      "  adata.obs[score_name] = pd.Series(\n"
     ]
    },
    {
     "name": "stdout",
     "output_type": "stream",
     "text": [
      "    finished: added\n",
      "    '239_SCORE', score of gene set (adata.obs).\n",
      "    98 total control genes are used. (0:00:00)\n",
      "computing score '120_SCORE'\n",
      "WARNING: genes are not in var_names and ignored: ['CD38', 'PRDM1', 'SLC4A8', 'TIMELESS', 'PIMREG', 'CBR3']\n"
     ]
    },
    {
     "name": "stderr",
     "output_type": "stream",
     "text": [
      "/Users/ceglian/gvenv/lib/python3.9/site-packages/scanpy/tools/_score_genes.py:151: FutureWarning: Passing a set as an indexer is deprecated and will raise in a future version. Use a list instead.\n",
      "  for cut in np.unique(obs_cut.loc[gene_list]):\n",
      "/Users/ceglian/gvenv/lib/python3.9/site-packages/scanpy/tools/_score_genes.py:175: PerformanceWarning: DataFrame is highly fragmented.  This is usually the result of calling `frame.insert` many times, which has poor performance.  Consider joining all columns at once using pd.concat(axis=1) instead. To get a de-fragmented frame, use `newframe = frame.copy()`\n",
      "  adata.obs[score_name] = pd.Series(\n",
      "/Users/ceglian/gvenv/lib/python3.9/site-packages/scanpy/tools/_score_genes.py:151: FutureWarning: Passing a set as an indexer is deprecated and will raise in a future version. Use a list instead.\n",
      "  for cut in np.unique(obs_cut.loc[gene_list]):\n"
     ]
    },
    {
     "name": "stdout",
     "output_type": "stream",
     "text": [
      "    finished: added\n",
      "    '120_SCORE', score of gene set (adata.obs).\n",
      "    98 total control genes are used. (0:00:00)\n",
      "computing score '130_SCORE'\n",
      "WARNING: genes are not in var_names and ignored: ['LEMD1', 'EEF1D', 'PPP1R16A', 'FOXB1', 'CYBA', 'APRT']\n",
      "    finished: added\n",
      "    '130_SCORE', score of gene set (adata.obs).\n",
      "    48 total control genes are used. (0:00:00)\n",
      "computing score '193_SCORE'\n",
      "WARNING: genes are not in var_names and ignored: ['GAP43', 'CMBL', 'TNS4']\n"
     ]
    },
    {
     "name": "stderr",
     "output_type": "stream",
     "text": [
      "/Users/ceglian/gvenv/lib/python3.9/site-packages/scanpy/tools/_score_genes.py:175: PerformanceWarning: DataFrame is highly fragmented.  This is usually the result of calling `frame.insert` many times, which has poor performance.  Consider joining all columns at once using pd.concat(axis=1) instead. To get a de-fragmented frame, use `newframe = frame.copy()`\n",
      "  adata.obs[score_name] = pd.Series(\n",
      "/Users/ceglian/gvenv/lib/python3.9/site-packages/scanpy/tools/_score_genes.py:151: FutureWarning: Passing a set as an indexer is deprecated and will raise in a future version. Use a list instead.\n",
      "  for cut in np.unique(obs_cut.loc[gene_list]):\n",
      "/Users/ceglian/gvenv/lib/python3.9/site-packages/scanpy/tools/_score_genes.py:175: PerformanceWarning: DataFrame is highly fragmented.  This is usually the result of calling `frame.insert` many times, which has poor performance.  Consider joining all columns at once using pd.concat(axis=1) instead. To get a de-fragmented frame, use `newframe = frame.copy()`\n",
      "  adata.obs[score_name] = pd.Series(\n"
     ]
    },
    {
     "name": "stdout",
     "output_type": "stream",
     "text": [
      "    finished: added\n",
      "    '193_SCORE', score of gene set (adata.obs).\n",
      "    147 total control genes are used. (0:00:00)\n",
      "computing score '12_SCORE'\n",
      "WARNING: genes are not in var_names and ignored: ['IL20', 'TRIM71', 'PFKFB4', 'NRN1', 'PLPP4', 'SIAH3', 'GREM1', 'HCRT', 'GFAP', 'TFF2']\n"
     ]
    },
    {
     "name": "stderr",
     "output_type": "stream",
     "text": [
      "/Users/ceglian/gvenv/lib/python3.9/site-packages/scanpy/tools/_score_genes.py:151: FutureWarning: Passing a set as an indexer is deprecated and will raise in a future version. Use a list instead.\n",
      "  for cut in np.unique(obs_cut.loc[gene_list]):\n",
      "/Users/ceglian/gvenv/lib/python3.9/site-packages/scanpy/tools/_score_genes.py:175: PerformanceWarning: DataFrame is highly fragmented.  This is usually the result of calling `frame.insert` many times, which has poor performance.  Consider joining all columns at once using pd.concat(axis=1) instead. To get a de-fragmented frame, use `newframe = frame.copy()`\n",
      "  adata.obs[score_name] = pd.Series(\n",
      "/Users/ceglian/gvenv/lib/python3.9/site-packages/scanpy/tools/_score_genes.py:151: FutureWarning: Passing a set as an indexer is deprecated and will raise in a future version. Use a list instead.\n",
      "  for cut in np.unique(obs_cut.loc[gene_list]):\n"
     ]
    },
    {
     "name": "stdout",
     "output_type": "stream",
     "text": [
      "    finished: added\n",
      "    '12_SCORE', score of gene set (adata.obs).\n",
      "    293 total control genes are used. (0:00:00)\n",
      "computing score '298_SCORE'\n",
      "WARNING: genes are not in var_names and ignored: ['TMPRSS11E']\n",
      "    finished: added\n",
      "    '298_SCORE', score of gene set (adata.obs).\n",
      "    98 total control genes are used. (0:00:00)\n",
      "computing score '108_SCORE'\n",
      "WARNING: genes are not in var_names and ignored: ['MMD', 'SEC14L1']\n"
     ]
    },
    {
     "name": "stderr",
     "output_type": "stream",
     "text": [
      "/Users/ceglian/gvenv/lib/python3.9/site-packages/scanpy/tools/_score_genes.py:175: PerformanceWarning: DataFrame is highly fragmented.  This is usually the result of calling `frame.insert` many times, which has poor performance.  Consider joining all columns at once using pd.concat(axis=1) instead. To get a de-fragmented frame, use `newframe = frame.copy()`\n",
      "  adata.obs[score_name] = pd.Series(\n",
      "/Users/ceglian/gvenv/lib/python3.9/site-packages/scanpy/tools/_score_genes.py:151: FutureWarning: Passing a set as an indexer is deprecated and will raise in a future version. Use a list instead.\n",
      "  for cut in np.unique(obs_cut.loc[gene_list]):\n",
      "/Users/ceglian/gvenv/lib/python3.9/site-packages/scanpy/tools/_score_genes.py:175: PerformanceWarning: DataFrame is highly fragmented.  This is usually the result of calling `frame.insert` many times, which has poor performance.  Consider joining all columns at once using pd.concat(axis=1) instead. To get a de-fragmented frame, use `newframe = frame.copy()`\n",
      "  adata.obs[score_name] = pd.Series(\n"
     ]
    },
    {
     "name": "stdout",
     "output_type": "stream",
     "text": [
      "    finished: added\n",
      "    '108_SCORE', score of gene set (adata.obs).\n",
      "    243 total control genes are used. (0:00:00)\n",
      "computing score '224_SCORE'\n",
      "WARNING: genes are not in var_names and ignored: ['DTL', 'CDCA7', 'SEMA3A', 'MCM10', 'CDC6']\n",
      "computing score '196_SCORE'\n"
     ]
    },
    {
     "name": "stderr",
     "output_type": "stream",
     "text": [
      "/Users/ceglian/gvenv/lib/python3.9/site-packages/scanpy/tools/_score_genes.py:151: FutureWarning: Passing a set as an indexer is deprecated and will raise in a future version. Use a list instead.\n",
      "  for cut in np.unique(obs_cut.loc[gene_list]):\n",
      "/Users/ceglian/gvenv/lib/python3.9/site-packages/scanpy/tools/_score_genes.py:175: PerformanceWarning: DataFrame is highly fragmented.  This is usually the result of calling `frame.insert` many times, which has poor performance.  Consider joining all columns at once using pd.concat(axis=1) instead. To get a de-fragmented frame, use `newframe = frame.copy()`\n",
      "  adata.obs[score_name] = pd.Series(\n",
      "/Users/ceglian/gvenv/lib/python3.9/site-packages/genevector-0.1.0-py3.9.egg/genevector/embedding.py:152: PerformanceWarning: DataFrame is highly fragmented.  This is usually the result of calling `frame.insert` many times, which has poor performance.  Consider joining all columns at once using pd.concat(axis=1) instead. To get a de-fragmented frame, use `newframe = frame.copy()`\n",
      "  adata.obs[str(p)+\"_SCORE\"] = 0.\n",
      "/Users/ceglian/gvenv/lib/python3.9/site-packages/scanpy/tools/_score_genes.py:151: FutureWarning: Passing a set as an indexer is deprecated and will raise in a future version. Use a list instead.\n",
      "  for cut in np.unique(obs_cut.loc[gene_list]):\n"
     ]
    },
    {
     "name": "stdout",
     "output_type": "stream",
     "text": [
      "    finished: added\n",
      "    '196_SCORE', score of gene set (adata.obs).\n",
      "    144 total control genes are used. (0:00:00)\n",
      "computing score '70_SCORE'\n",
      "WARNING: genes are not in var_names and ignored: ['CHRND', 'TBX18', 'HOXA3', 'TBX22', 'FGFR1', 'ADCY8', 'INSL4', 'SNRPF']\n",
      "    finished: added\n",
      "    '70_SCORE', score of gene set (adata.obs).\n",
      "    98 total control genes are used. (0:00:00)\n",
      "computing score '100_SCORE'\n",
      "WARNING: genes are not in var_names and ignored: ['D2HGDH', 'SERINC5', 'PORCN', 'PIP4P2', 'FZD4', 'C20ORF204']\n"
     ]
    },
    {
     "name": "stderr",
     "output_type": "stream",
     "text": [
      "/Users/ceglian/gvenv/lib/python3.9/site-packages/scanpy/tools/_score_genes.py:175: PerformanceWarning: DataFrame is highly fragmented.  This is usually the result of calling `frame.insert` many times, which has poor performance.  Consider joining all columns at once using pd.concat(axis=1) instead. To get a de-fragmented frame, use `newframe = frame.copy()`\n",
      "  adata.obs[score_name] = pd.Series(\n",
      "/Users/ceglian/gvenv/lib/python3.9/site-packages/scanpy/tools/_score_genes.py:151: FutureWarning: Passing a set as an indexer is deprecated and will raise in a future version. Use a list instead.\n",
      "  for cut in np.unique(obs_cut.loc[gene_list]):\n",
      "/Users/ceglian/gvenv/lib/python3.9/site-packages/scanpy/tools/_score_genes.py:175: PerformanceWarning: DataFrame is highly fragmented.  This is usually the result of calling `frame.insert` many times, which has poor performance.  Consider joining all columns at once using pd.concat(axis=1) instead. To get a de-fragmented frame, use `newframe = frame.copy()`\n",
      "  adata.obs[score_name] = pd.Series(\n"
     ]
    },
    {
     "name": "stdout",
     "output_type": "stream",
     "text": [
      "    finished: added\n",
      "    '100_SCORE', score of gene set (adata.obs).\n",
      "    147 total control genes are used. (0:00:00)\n",
      "computing score '191_SCORE'\n",
      "WARNING: genes are not in var_names and ignored: ['EXO1', 'SPINK2', 'SORCS1', 'SOST']\n"
     ]
    },
    {
     "name": "stderr",
     "output_type": "stream",
     "text": [
      "/Users/ceglian/gvenv/lib/python3.9/site-packages/scanpy/tools/_score_genes.py:151: FutureWarning: Passing a set as an indexer is deprecated and will raise in a future version. Use a list instead.\n",
      "  for cut in np.unique(obs_cut.loc[gene_list]):\n",
      "/Users/ceglian/gvenv/lib/python3.9/site-packages/scanpy/tools/_score_genes.py:175: PerformanceWarning: DataFrame is highly fragmented.  This is usually the result of calling `frame.insert` many times, which has poor performance.  Consider joining all columns at once using pd.concat(axis=1) instead. To get a de-fragmented frame, use `newframe = frame.copy()`\n",
      "  adata.obs[score_name] = pd.Series(\n",
      "/Users/ceglian/gvenv/lib/python3.9/site-packages/scanpy/tools/_score_genes.py:151: FutureWarning: Passing a set as an indexer is deprecated and will raise in a future version. Use a list instead.\n",
      "  for cut in np.unique(obs_cut.loc[gene_list]):\n"
     ]
    },
    {
     "name": "stdout",
     "output_type": "stream",
     "text": [
      "    finished: added\n",
      "    '191_SCORE', score of gene set (adata.obs).\n",
      "    98 total control genes are used. (0:00:00)\n",
      "computing score '222_SCORE'\n",
      "WARNING: genes are not in var_names and ignored: ['TMEM47']\n",
      "    finished: added\n",
      "    '222_SCORE', score of gene set (adata.obs).\n",
      "    196 total control genes are used. (0:00:00)\n",
      "computing score '24_SCORE'\n",
      "WARNING: genes are not in var_names and ignored: ['AAK1', 'CTSC', 'SNHG9', 'FBXL20', 'MED1', 'GSTT4']\n"
     ]
    },
    {
     "name": "stderr",
     "output_type": "stream",
     "text": [
      "/Users/ceglian/gvenv/lib/python3.9/site-packages/scanpy/tools/_score_genes.py:175: PerformanceWarning: DataFrame is highly fragmented.  This is usually the result of calling `frame.insert` many times, which has poor performance.  Consider joining all columns at once using pd.concat(axis=1) instead. To get a de-fragmented frame, use `newframe = frame.copy()`\n",
      "  adata.obs[score_name] = pd.Series(\n",
      "/Users/ceglian/gvenv/lib/python3.9/site-packages/scanpy/tools/_score_genes.py:151: FutureWarning: Passing a set as an indexer is deprecated and will raise in a future version. Use a list instead.\n",
      "  for cut in np.unique(obs_cut.loc[gene_list]):\n",
      "/Users/ceglian/gvenv/lib/python3.9/site-packages/scanpy/tools/_score_genes.py:175: PerformanceWarning: DataFrame is highly fragmented.  This is usually the result of calling `frame.insert` many times, which has poor performance.  Consider joining all columns at once using pd.concat(axis=1) instead. To get a de-fragmented frame, use `newframe = frame.copy()`\n",
      "  adata.obs[score_name] = pd.Series(\n"
     ]
    },
    {
     "name": "stdout",
     "output_type": "stream",
     "text": [
      "    finished: added\n",
      "    '24_SCORE', score of gene set (adata.obs).\n",
      "    192 total control genes are used. (0:00:00)\n",
      "computing score '85_SCORE'\n",
      "WARNING: genes are not in var_names and ignored: ['CYS1', 'THBS4', 'ENTPD8', 'C11ORF96', 'SCNN1B', 'ATP1B2']\n"
     ]
    },
    {
     "name": "stderr",
     "output_type": "stream",
     "text": [
      "/Users/ceglian/gvenv/lib/python3.9/site-packages/scanpy/tools/_score_genes.py:151: FutureWarning: Passing a set as an indexer is deprecated and will raise in a future version. Use a list instead.\n",
      "  for cut in np.unique(obs_cut.loc[gene_list]):\n",
      "/Users/ceglian/gvenv/lib/python3.9/site-packages/scanpy/tools/_score_genes.py:175: PerformanceWarning: DataFrame is highly fragmented.  This is usually the result of calling `frame.insert` many times, which has poor performance.  Consider joining all columns at once using pd.concat(axis=1) instead. To get a de-fragmented frame, use `newframe = frame.copy()`\n",
      "  adata.obs[score_name] = pd.Series(\n",
      "/Users/ceglian/gvenv/lib/python3.9/site-packages/scanpy/tools/_score_genes.py:151: FutureWarning: Passing a set as an indexer is deprecated and will raise in a future version. Use a list instead.\n",
      "  for cut in np.unique(obs_cut.loc[gene_list]):\n"
     ]
    },
    {
     "name": "stdout",
     "output_type": "stream",
     "text": [
      "    finished: added\n",
      "    '85_SCORE', score of gene set (adata.obs).\n",
      "    196 total control genes are used. (0:00:00)\n",
      "computing score '10_SCORE'\n",
      "WARNING: genes are not in var_names and ignored: ['MND1', 'CENPU', 'CCNE2', 'DSCC1', 'TONSL', 'RECQL4', 'MELK', 'ZNF367', 'CHEK1', 'WDR76', 'CDT1', 'BRCA1', 'UHRF1', 'ASF1B']\n",
      "    finished: added\n",
      "    '10_SCORE', score of gene set (adata.obs).\n",
      "    147 total control genes are used. (0:00:00)\n",
      "computing score '62_SCORE'\n",
      "WARNING: genes are not in var_names and ignored: ['C2ORF48', 'TMEM178A', 'LY6H', 'SLC1A2', 'CNIH2', 'HYLS1', 'SCG5']\n"
     ]
    },
    {
     "name": "stderr",
     "output_type": "stream",
     "text": [
      "/Users/ceglian/gvenv/lib/python3.9/site-packages/scanpy/tools/_score_genes.py:175: PerformanceWarning: DataFrame is highly fragmented.  This is usually the result of calling `frame.insert` many times, which has poor performance.  Consider joining all columns at once using pd.concat(axis=1) instead. To get a de-fragmented frame, use `newframe = frame.copy()`\n",
      "  adata.obs[score_name] = pd.Series(\n",
      "/Users/ceglian/gvenv/lib/python3.9/site-packages/scanpy/tools/_score_genes.py:151: FutureWarning: Passing a set as an indexer is deprecated and will raise in a future version. Use a list instead.\n",
      "  for cut in np.unique(obs_cut.loc[gene_list]):\n",
      "/Users/ceglian/gvenv/lib/python3.9/site-packages/scanpy/tools/_score_genes.py:175: PerformanceWarning: DataFrame is highly fragmented.  This is usually the result of calling `frame.insert` many times, which has poor performance.  Consider joining all columns at once using pd.concat(axis=1) instead. To get a de-fragmented frame, use `newframe = frame.copy()`\n",
      "  adata.obs[score_name] = pd.Series(\n"
     ]
    },
    {
     "name": "stdout",
     "output_type": "stream",
     "text": [
      "    finished: added\n",
      "    '62_SCORE', score of gene set (adata.obs).\n",
      "    146 total control genes are used. (0:00:00)\n",
      "computing score '141_SCORE'\n",
      "WARNING: genes are not in var_names and ignored: ['ODC1', 'ITGB5', 'LNPEP', 'HDAC2', 'IRS2', 'WSB1', 'CSE1L', 'ATF5']\n",
      "computing score '211_SCORE'\n",
      "WARNING: genes are not in var_names and ignored: ['KCNF1', 'GPR12']\n"
     ]
    },
    {
     "name": "stderr",
     "output_type": "stream",
     "text": [
      "/Users/ceglian/gvenv/lib/python3.9/site-packages/scanpy/tools/_score_genes.py:151: FutureWarning: Passing a set as an indexer is deprecated and will raise in a future version. Use a list instead.\n",
      "  for cut in np.unique(obs_cut.loc[gene_list]):\n",
      "/Users/ceglian/gvenv/lib/python3.9/site-packages/scanpy/tools/_score_genes.py:175: PerformanceWarning: DataFrame is highly fragmented.  This is usually the result of calling `frame.insert` many times, which has poor performance.  Consider joining all columns at once using pd.concat(axis=1) instead. To get a de-fragmented frame, use `newframe = frame.copy()`\n",
      "  adata.obs[score_name] = pd.Series(\n",
      "/Users/ceglian/gvenv/lib/python3.9/site-packages/genevector-0.1.0-py3.9.egg/genevector/embedding.py:152: PerformanceWarning: DataFrame is highly fragmented.  This is usually the result of calling `frame.insert` many times, which has poor performance.  Consider joining all columns at once using pd.concat(axis=1) instead. To get a de-fragmented frame, use `newframe = frame.copy()`\n",
      "  adata.obs[str(p)+\"_SCORE\"] = 0.\n",
      "/Users/ceglian/gvenv/lib/python3.9/site-packages/scanpy/tools/_score_genes.py:151: FutureWarning: Passing a set as an indexer is deprecated and will raise in a future version. Use a list instead.\n",
      "  for cut in np.unique(obs_cut.loc[gene_list]):\n"
     ]
    },
    {
     "name": "stdout",
     "output_type": "stream",
     "text": [
      "    finished: added\n",
      "    '211_SCORE', score of gene set (adata.obs).\n",
      "    196 total control genes are used. (0:00:00)\n",
      "computing score '132_SCORE'\n",
      "WARNING: genes are not in var_names and ignored: ['MYCN', 'FGF2', 'ELN', 'PCDH19', 'ADAMTSL1', 'SAPCD2', 'HOXB5']\n",
      "    finished: added\n",
      "    '132_SCORE', score of gene set (adata.obs).\n",
      "    49 total control genes are used. (0:00:00)\n",
      "computing score '56_SCORE'\n",
      "WARNING: genes are not in var_names and ignored: ['RHOB', 'RBP1', 'CLDN4', 'ZFP36L1', 'JUNB', 'IER2', 'BST2', 'JUND', 'ZFP36']\n"
     ]
    },
    {
     "name": "stderr",
     "output_type": "stream",
     "text": [
      "/Users/ceglian/gvenv/lib/python3.9/site-packages/scanpy/tools/_score_genes.py:175: PerformanceWarning: DataFrame is highly fragmented.  This is usually the result of calling `frame.insert` many times, which has poor performance.  Consider joining all columns at once using pd.concat(axis=1) instead. To get a de-fragmented frame, use `newframe = frame.copy()`\n",
      "  adata.obs[score_name] = pd.Series(\n",
      "/Users/ceglian/gvenv/lib/python3.9/site-packages/scanpy/tools/_score_genes.py:151: FutureWarning: Passing a set as an indexer is deprecated and will raise in a future version. Use a list instead.\n",
      "  for cut in np.unique(obs_cut.loc[gene_list]):\n",
      "/Users/ceglian/gvenv/lib/python3.9/site-packages/scanpy/tools/_score_genes.py:175: PerformanceWarning: DataFrame is highly fragmented.  This is usually the result of calling `frame.insert` many times, which has poor performance.  Consider joining all columns at once using pd.concat(axis=1) instead. To get a de-fragmented frame, use `newframe = frame.copy()`\n",
      "  adata.obs[score_name] = pd.Series(\n"
     ]
    },
    {
     "name": "stdout",
     "output_type": "stream",
     "text": [
      "    finished: added\n",
      "    '56_SCORE', score of gene set (adata.obs).\n",
      "    98 total control genes are used. (0:00:00)\n",
      "computing score '179_SCORE'\n",
      "WARNING: genes are not in var_names and ignored: ['PLP2', 'CEBPB', 'HELZ2', 'MYADM']\n"
     ]
    },
    {
     "name": "stderr",
     "output_type": "stream",
     "text": [
      "/Users/ceglian/gvenv/lib/python3.9/site-packages/scanpy/tools/_score_genes.py:151: FutureWarning: Passing a set as an indexer is deprecated and will raise in a future version. Use a list instead.\n",
      "  for cut in np.unique(obs_cut.loc[gene_list]):\n",
      "/Users/ceglian/gvenv/lib/python3.9/site-packages/scanpy/tools/_score_genes.py:175: PerformanceWarning: DataFrame is highly fragmented.  This is usually the result of calling `frame.insert` many times, which has poor performance.  Consider joining all columns at once using pd.concat(axis=1) instead. To get a de-fragmented frame, use `newframe = frame.copy()`\n",
      "  adata.obs[score_name] = pd.Series(\n",
      "/Users/ceglian/gvenv/lib/python3.9/site-packages/scanpy/tools/_score_genes.py:151: FutureWarning: Passing a set as an indexer is deprecated and will raise in a future version. Use a list instead.\n",
      "  for cut in np.unique(obs_cut.loc[gene_list]):\n"
     ]
    },
    {
     "name": "stdout",
     "output_type": "stream",
     "text": [
      "    finished: added\n",
      "    '179_SCORE', score of gene set (adata.obs).\n",
      "    98 total control genes are used. (0:00:00)\n",
      "computing score '138_SCORE'\n",
      "WARNING: genes are not in var_names and ignored: ['LTBP1', 'PKP2', 'TIMM44', 'FXYD1', 'FXYD5']\n",
      "    finished: added\n",
      "    '138_SCORE', score of gene set (adata.obs).\n",
      "    147 total control genes are used. (0:00:00)\n",
      "computing score '7_SCORE'\n",
      "WARNING: genes are not in var_names and ignored: ['QPCT', 'ARL14', 'ACTBL2', 'ADRB2', 'RBP4', 'DUOXA2', 'SSTR2']\n"
     ]
    },
    {
     "name": "stderr",
     "output_type": "stream",
     "text": [
      "/Users/ceglian/gvenv/lib/python3.9/site-packages/scanpy/tools/_score_genes.py:175: PerformanceWarning: DataFrame is highly fragmented.  This is usually the result of calling `frame.insert` many times, which has poor performance.  Consider joining all columns at once using pd.concat(axis=1) instead. To get a de-fragmented frame, use `newframe = frame.copy()`\n",
      "  adata.obs[score_name] = pd.Series(\n",
      "/Users/ceglian/gvenv/lib/python3.9/site-packages/scanpy/tools/_score_genes.py:151: FutureWarning: Passing a set as an indexer is deprecated and will raise in a future version. Use a list instead.\n",
      "  for cut in np.unique(obs_cut.loc[gene_list]):\n",
      "/Users/ceglian/gvenv/lib/python3.9/site-packages/scanpy/tools/_score_genes.py:175: PerformanceWarning: DataFrame is highly fragmented.  This is usually the result of calling `frame.insert` many times, which has poor performance.  Consider joining all columns at once using pd.concat(axis=1) instead. To get a de-fragmented frame, use `newframe = frame.copy()`\n",
      "  adata.obs[score_name] = pd.Series(\n"
     ]
    },
    {
     "name": "stdout",
     "output_type": "stream",
     "text": [
      "    finished: added\n",
      "    '7_SCORE', score of gene set (adata.obs).\n",
      "    388 total control genes are used. (0:00:00)\n",
      "computing score '140_SCORE'\n",
      "WARNING: genes are not in var_names and ignored: ['NSG1', 'PLA2G12A', 'CFI', 'FBXO21', 'TNNT1', 'NRIP1']\n"
     ]
    },
    {
     "name": "stderr",
     "output_type": "stream",
     "text": [
      "/Users/ceglian/gvenv/lib/python3.9/site-packages/scanpy/tools/_score_genes.py:151: FutureWarning: Passing a set as an indexer is deprecated and will raise in a future version. Use a list instead.\n",
      "  for cut in np.unique(obs_cut.loc[gene_list]):\n",
      "/Users/ceglian/gvenv/lib/python3.9/site-packages/scanpy/tools/_score_genes.py:175: PerformanceWarning: DataFrame is highly fragmented.  This is usually the result of calling `frame.insert` many times, which has poor performance.  Consider joining all columns at once using pd.concat(axis=1) instead. To get a de-fragmented frame, use `newframe = frame.copy()`\n",
      "  adata.obs[score_name] = pd.Series(\n",
      "/Users/ceglian/gvenv/lib/python3.9/site-packages/scanpy/tools/_score_genes.py:151: FutureWarning: Passing a set as an indexer is deprecated and will raise in a future version. Use a list instead.\n",
      "  for cut in np.unique(obs_cut.loc[gene_list]):\n"
     ]
    },
    {
     "name": "stdout",
     "output_type": "stream",
     "text": [
      "    finished: added\n",
      "    '140_SCORE', score of gene set (adata.obs).\n",
      "    98 total control genes are used. (0:00:00)\n",
      "computing score '170_SCORE'\n",
      "WARNING: genes are not in var_names and ignored: ['SLC8A1', 'HCLS1', 'CD68']\n",
      "    finished: added\n",
      "    '170_SCORE', score of gene set (adata.obs).\n",
      "    196 total control genes are used. (0:00:00)\n",
      "computing score '195_SCORE'\n",
      "WARNING: genes are not in var_names and ignored: ['CMTM6', 'PABPC1', 'EIF3E', 'RAD21', 'LDHA']\n"
     ]
    },
    {
     "name": "stderr",
     "output_type": "stream",
     "text": [
      "/Users/ceglian/gvenv/lib/python3.9/site-packages/scanpy/tools/_score_genes.py:175: PerformanceWarning: DataFrame is highly fragmented.  This is usually the result of calling `frame.insert` many times, which has poor performance.  Consider joining all columns at once using pd.concat(axis=1) instead. To get a de-fragmented frame, use `newframe = frame.copy()`\n",
      "  adata.obs[score_name] = pd.Series(\n",
      "/Users/ceglian/gvenv/lib/python3.9/site-packages/scanpy/tools/_score_genes.py:151: FutureWarning: Passing a set as an indexer is deprecated and will raise in a future version. Use a list instead.\n",
      "  for cut in np.unique(obs_cut.loc[gene_list]):\n",
      "/Users/ceglian/gvenv/lib/python3.9/site-packages/scanpy/tools/_score_genes.py:175: PerformanceWarning: DataFrame is highly fragmented.  This is usually the result of calling `frame.insert` many times, which has poor performance.  Consider joining all columns at once using pd.concat(axis=1) instead. To get a de-fragmented frame, use `newframe = frame.copy()`\n",
      "  adata.obs[score_name] = pd.Series(\n"
     ]
    },
    {
     "name": "stdout",
     "output_type": "stream",
     "text": [
      "    finished: added\n",
      "    '195_SCORE', score of gene set (adata.obs).\n",
      "    49 total control genes are used. (0:00:00)\n",
      "computing score '11_SCORE'\n",
      "WARNING: genes are not in var_names and ignored: ['NRXN1', 'MAFA', 'GFRA1', 'WNT5B', 'NOG', 'RBFOX3', 'PCAT14']\n"
     ]
    },
    {
     "name": "stderr",
     "output_type": "stream",
     "text": [
      "/Users/ceglian/gvenv/lib/python3.9/site-packages/scanpy/tools/_score_genes.py:151: FutureWarning: Passing a set as an indexer is deprecated and will raise in a future version. Use a list instead.\n",
      "  for cut in np.unique(obs_cut.loc[gene_list]):\n",
      "/Users/ceglian/gvenv/lib/python3.9/site-packages/scanpy/tools/_score_genes.py:175: PerformanceWarning: DataFrame is highly fragmented.  This is usually the result of calling `frame.insert` many times, which has poor performance.  Consider joining all columns at once using pd.concat(axis=1) instead. To get a de-fragmented frame, use `newframe = frame.copy()`\n",
      "  adata.obs[score_name] = pd.Series(\n",
      "/Users/ceglian/gvenv/lib/python3.9/site-packages/scanpy/tools/_score_genes.py:151: FutureWarning: Passing a set as an indexer is deprecated and will raise in a future version. Use a list instead.\n",
      "  for cut in np.unique(obs_cut.loc[gene_list]):\n"
     ]
    },
    {
     "name": "stdout",
     "output_type": "stream",
     "text": [
      "    finished: added\n",
      "    '11_SCORE', score of gene set (adata.obs).\n",
      "    240 total control genes are used. (0:00:00)\n",
      "computing score '265_SCORE'\n",
      "WARNING: genes are not in var_names and ignored: ['CAPG', 'KIF1A']\n",
      "    finished: added\n",
      "    '265_SCORE', score of gene set (adata.obs).\n",
      "    98 total control genes are used. (0:00:00)\n",
      "computing score '125_SCORE'\n",
      "WARNING: genes are not in var_names and ignored: ['NDNF', 'CPXM2']\n"
     ]
    },
    {
     "name": "stderr",
     "output_type": "stream",
     "text": [
      "/Users/ceglian/gvenv/lib/python3.9/site-packages/scanpy/tools/_score_genes.py:175: PerformanceWarning: DataFrame is highly fragmented.  This is usually the result of calling `frame.insert` many times, which has poor performance.  Consider joining all columns at once using pd.concat(axis=1) instead. To get a de-fragmented frame, use `newframe = frame.copy()`\n",
      "  adata.obs[score_name] = pd.Series(\n",
      "/Users/ceglian/gvenv/lib/python3.9/site-packages/scanpy/tools/_score_genes.py:151: FutureWarning: Passing a set as an indexer is deprecated and will raise in a future version. Use a list instead.\n",
      "  for cut in np.unique(obs_cut.loc[gene_list]):\n",
      "/Users/ceglian/gvenv/lib/python3.9/site-packages/scanpy/tools/_score_genes.py:175: PerformanceWarning: DataFrame is highly fragmented.  This is usually the result of calling `frame.insert` many times, which has poor performance.  Consider joining all columns at once using pd.concat(axis=1) instead. To get a de-fragmented frame, use `newframe = frame.copy()`\n",
      "  adata.obs[score_name] = pd.Series(\n"
     ]
    },
    {
     "name": "stdout",
     "output_type": "stream",
     "text": [
      "    finished: added\n",
      "    '125_SCORE', score of gene set (adata.obs).\n",
      "    194 total control genes are used. (0:00:00)\n",
      "computing score '268_SCORE'\n",
      "WARNING: genes are not in var_names and ignored: ['WDR54', 'CCDC74A', 'USP13']\n"
     ]
    },
    {
     "name": "stderr",
     "output_type": "stream",
     "text": [
      "/Users/ceglian/gvenv/lib/python3.9/site-packages/scanpy/tools/_score_genes.py:151: FutureWarning: Passing a set as an indexer is deprecated and will raise in a future version. Use a list instead.\n",
      "  for cut in np.unique(obs_cut.loc[gene_list]):\n",
      "/Users/ceglian/gvenv/lib/python3.9/site-packages/scanpy/tools/_score_genes.py:175: PerformanceWarning: DataFrame is highly fragmented.  This is usually the result of calling `frame.insert` many times, which has poor performance.  Consider joining all columns at once using pd.concat(axis=1) instead. To get a de-fragmented frame, use `newframe = frame.copy()`\n",
      "  adata.obs[score_name] = pd.Series(\n",
      "/Users/ceglian/gvenv/lib/python3.9/site-packages/scanpy/tools/_score_genes.py:151: FutureWarning: Passing a set as an indexer is deprecated and will raise in a future version. Use a list instead.\n",
      "  for cut in np.unique(obs_cut.loc[gene_list]):\n"
     ]
    },
    {
     "name": "stdout",
     "output_type": "stream",
     "text": [
      "    finished: added\n",
      "    '268_SCORE', score of gene set (adata.obs).\n",
      "    49 total control genes are used. (0:00:00)\n",
      "computing score '184_SCORE'\n",
      "WARNING: genes are not in var_names and ignored: ['REG3A', 'ADAMDEC1', 'C10ORF120', 'DPEP2NB']\n",
      "    finished: added\n",
      "    '184_SCORE', score of gene set (adata.obs).\n",
      "    97 total control genes are used. (0:00:00)\n",
      "computing score '153_SCORE'\n",
      "WARNING: genes are not in var_names and ignored: ['IDH1', 'SLC25A38', 'SPRY1', 'TNS3', 'ZNF503', 'EMX2OS']\n"
     ]
    },
    {
     "name": "stderr",
     "output_type": "stream",
     "text": [
      "/Users/ceglian/gvenv/lib/python3.9/site-packages/scanpy/tools/_score_genes.py:175: PerformanceWarning: DataFrame is highly fragmented.  This is usually the result of calling `frame.insert` many times, which has poor performance.  Consider joining all columns at once using pd.concat(axis=1) instead. To get a de-fragmented frame, use `newframe = frame.copy()`\n",
      "  adata.obs[score_name] = pd.Series(\n",
      "/Users/ceglian/gvenv/lib/python3.9/site-packages/scanpy/tools/_score_genes.py:151: FutureWarning: Passing a set as an indexer is deprecated and will raise in a future version. Use a list instead.\n",
      "  for cut in np.unique(obs_cut.loc[gene_list]):\n",
      "/Users/ceglian/gvenv/lib/python3.9/site-packages/scanpy/tools/_score_genes.py:175: PerformanceWarning: DataFrame is highly fragmented.  This is usually the result of calling `frame.insert` many times, which has poor performance.  Consider joining all columns at once using pd.concat(axis=1) instead. To get a de-fragmented frame, use `newframe = frame.copy()`\n",
      "  adata.obs[score_name] = pd.Series(\n"
     ]
    },
    {
     "name": "stdout",
     "output_type": "stream",
     "text": [
      "    finished: added\n",
      "    '153_SCORE', score of gene set (adata.obs).\n",
      "    49 total control genes are used. (0:00:00)\n",
      "computing score '247_SCORE'\n",
      "WARNING: genes are not in var_names and ignored: ['PROM2', 'ZBED2', 'LTC4S', 'TRPS1']\n"
     ]
    },
    {
     "name": "stderr",
     "output_type": "stream",
     "text": [
      "/Users/ceglian/gvenv/lib/python3.9/site-packages/scanpy/tools/_score_genes.py:151: FutureWarning: Passing a set as an indexer is deprecated and will raise in a future version. Use a list instead.\n",
      "  for cut in np.unique(obs_cut.loc[gene_list]):\n",
      "/Users/ceglian/gvenv/lib/python3.9/site-packages/scanpy/tools/_score_genes.py:175: PerformanceWarning: DataFrame is highly fragmented.  This is usually the result of calling `frame.insert` many times, which has poor performance.  Consider joining all columns at once using pd.concat(axis=1) instead. To get a de-fragmented frame, use `newframe = frame.copy()`\n",
      "  adata.obs[score_name] = pd.Series(\n",
      "/Users/ceglian/gvenv/lib/python3.9/site-packages/scanpy/tools/_score_genes.py:151: FutureWarning: Passing a set as an indexer is deprecated and will raise in a future version. Use a list instead.\n",
      "  for cut in np.unique(obs_cut.loc[gene_list]):\n"
     ]
    },
    {
     "name": "stdout",
     "output_type": "stream",
     "text": [
      "    finished: added\n",
      "    '247_SCORE', score of gene set (adata.obs).\n",
      "    49 total control genes are used. (0:00:00)\n",
      "computing score '209_SCORE'\n",
      "WARNING: genes are not in var_names and ignored: ['GPAT2', 'OBP2B']\n",
      "    finished: added\n",
      "    '209_SCORE', score of gene set (adata.obs).\n",
      "    196 total control genes are used. (0:00:00)\n",
      "computing score '201_SCORE'\n",
      "WARNING: genes are not in var_names and ignored: ['ATP1B3', 'SOCS3', 'CCNE1']\n"
     ]
    },
    {
     "name": "stderr",
     "output_type": "stream",
     "text": [
      "/Users/ceglian/gvenv/lib/python3.9/site-packages/scanpy/tools/_score_genes.py:175: PerformanceWarning: DataFrame is highly fragmented.  This is usually the result of calling `frame.insert` many times, which has poor performance.  Consider joining all columns at once using pd.concat(axis=1) instead. To get a de-fragmented frame, use `newframe = frame.copy()`\n",
      "  adata.obs[score_name] = pd.Series(\n",
      "/Users/ceglian/gvenv/lib/python3.9/site-packages/scanpy/tools/_score_genes.py:151: FutureWarning: Passing a set as an indexer is deprecated and will raise in a future version. Use a list instead.\n",
      "  for cut in np.unique(obs_cut.loc[gene_list]):\n",
      "/Users/ceglian/gvenv/lib/python3.9/site-packages/scanpy/tools/_score_genes.py:175: PerformanceWarning: DataFrame is highly fragmented.  This is usually the result of calling `frame.insert` many times, which has poor performance.  Consider joining all columns at once using pd.concat(axis=1) instead. To get a de-fragmented frame, use `newframe = frame.copy()`\n",
      "  adata.obs[score_name] = pd.Series(\n"
     ]
    },
    {
     "name": "stdout",
     "output_type": "stream",
     "text": [
      "    finished: added\n",
      "    '201_SCORE', score of gene set (adata.obs).\n",
      "    97 total control genes are used. (0:00:00)\n",
      "computing score '47_SCORE'\n",
      "WARNING: genes are not in var_names and ignored: ['NEURL3', 'UBD', 'HLA-DOB', 'CDKN2B', 'MCAM', 'AKR1C1', 'PLA2G10']\n"
     ]
    },
    {
     "name": "stderr",
     "output_type": "stream",
     "text": [
      "/Users/ceglian/gvenv/lib/python3.9/site-packages/scanpy/tools/_score_genes.py:151: FutureWarning: Passing a set as an indexer is deprecated and will raise in a future version. Use a list instead.\n",
      "  for cut in np.unique(obs_cut.loc[gene_list]):\n",
      "/Users/ceglian/gvenv/lib/python3.9/site-packages/scanpy/tools/_score_genes.py:175: PerformanceWarning: DataFrame is highly fragmented.  This is usually the result of calling `frame.insert` many times, which has poor performance.  Consider joining all columns at once using pd.concat(axis=1) instead. To get a de-fragmented frame, use `newframe = frame.copy()`\n",
      "  adata.obs[score_name] = pd.Series(\n",
      "/Users/ceglian/gvenv/lib/python3.9/site-packages/scanpy/tools/_score_genes.py:151: FutureWarning: Passing a set as an indexer is deprecated and will raise in a future version. Use a list instead.\n",
      "  for cut in np.unique(obs_cut.loc[gene_list]):\n"
     ]
    },
    {
     "name": "stdout",
     "output_type": "stream",
     "text": [
      "    finished: added\n",
      "    '47_SCORE', score of gene set (adata.obs).\n",
      "    146 total control genes are used. (0:00:00)\n",
      "computing score '256_SCORE'\n",
      "WARNING: genes are not in var_names and ignored: ['NMNAT3', 'NPDC1', 'ZNF592', 'CYB5A']\n",
      "    finished: added\n",
      "    '256_SCORE', score of gene set (adata.obs).\n",
      "    49 total control genes are used. (0:00:00)\n",
      "computing score '131_SCORE'\n",
      "WARNING: genes are not in var_names and ignored: ['IL1R1', 'KLHL2', 'FAT1', 'SMAD6', 'IL4R', 'SNTB2', 'SLC5A1']\n"
     ]
    },
    {
     "name": "stderr",
     "output_type": "stream",
     "text": [
      "/Users/ceglian/gvenv/lib/python3.9/site-packages/scanpy/tools/_score_genes.py:175: PerformanceWarning: DataFrame is highly fragmented.  This is usually the result of calling `frame.insert` many times, which has poor performance.  Consider joining all columns at once using pd.concat(axis=1) instead. To get a de-fragmented frame, use `newframe = frame.copy()`\n",
      "  adata.obs[score_name] = pd.Series(\n",
      "/Users/ceglian/gvenv/lib/python3.9/site-packages/scanpy/tools/_score_genes.py:151: FutureWarning: Passing a set as an indexer is deprecated and will raise in a future version. Use a list instead.\n",
      "  for cut in np.unique(obs_cut.loc[gene_list]):\n",
      "/Users/ceglian/gvenv/lib/python3.9/site-packages/scanpy/tools/_score_genes.py:175: PerformanceWarning: DataFrame is highly fragmented.  This is usually the result of calling `frame.insert` many times, which has poor performance.  Consider joining all columns at once using pd.concat(axis=1) instead. To get a de-fragmented frame, use `newframe = frame.copy()`\n",
      "  adata.obs[score_name] = pd.Series(\n"
     ]
    },
    {
     "name": "stdout",
     "output_type": "stream",
     "text": [
      "    finished: added\n",
      "    '131_SCORE', score of gene set (adata.obs).\n",
      "    49 total control genes are used. (0:00:00)\n",
      "computing score '112_SCORE'\n",
      "WARNING: genes are not in var_names and ignored: ['SLC9A2', 'RNF180', 'TSPAN13', 'HOXA4', 'HOXA5', 'LRRC4C', 'ZNF439']\n"
     ]
    },
    {
     "name": "stderr",
     "output_type": "stream",
     "text": [
      "/Users/ceglian/gvenv/lib/python3.9/site-packages/scanpy/tools/_score_genes.py:151: FutureWarning: Passing a set as an indexer is deprecated and will raise in a future version. Use a list instead.\n",
      "  for cut in np.unique(obs_cut.loc[gene_list]):\n",
      "/Users/ceglian/gvenv/lib/python3.9/site-packages/scanpy/tools/_score_genes.py:175: PerformanceWarning: DataFrame is highly fragmented.  This is usually the result of calling `frame.insert` many times, which has poor performance.  Consider joining all columns at once using pd.concat(axis=1) instead. To get a de-fragmented frame, use `newframe = frame.copy()`\n",
      "  adata.obs[score_name] = pd.Series(\n",
      "/Users/ceglian/gvenv/lib/python3.9/site-packages/scanpy/tools/_score_genes.py:151: FutureWarning: Passing a set as an indexer is deprecated and will raise in a future version. Use a list instead.\n",
      "  for cut in np.unique(obs_cut.loc[gene_list]):\n"
     ]
    },
    {
     "name": "stdout",
     "output_type": "stream",
     "text": [
      "    finished: added\n",
      "    '112_SCORE', score of gene set (adata.obs).\n",
      "    48 total control genes are used. (0:00:00)\n",
      "computing score '123_SCORE'\n",
      "WARNING: genes are not in var_names and ignored: ['C2ORF40', 'THSD7A']\n",
      "    finished: added\n",
      "    '123_SCORE', score of gene set (adata.obs).\n",
      "    194 total control genes are used. (0:00:00)\n",
      "computing score '128_SCORE'\n",
      "WARNING: genes are not in var_names and ignored: ['SULT1C2', 'BIN1', 'SNHG7', 'CRACR2B', 'NDRG2', 'ARL4D', 'B3GNT3']\n"
     ]
    },
    {
     "name": "stderr",
     "output_type": "stream",
     "text": [
      "/Users/ceglian/gvenv/lib/python3.9/site-packages/scanpy/tools/_score_genes.py:175: PerformanceWarning: DataFrame is highly fragmented.  This is usually the result of calling `frame.insert` many times, which has poor performance.  Consider joining all columns at once using pd.concat(axis=1) instead. To get a de-fragmented frame, use `newframe = frame.copy()`\n",
      "  adata.obs[score_name] = pd.Series(\n",
      "/Users/ceglian/gvenv/lib/python3.9/site-packages/scanpy/tools/_score_genes.py:151: FutureWarning: Passing a set as an indexer is deprecated and will raise in a future version. Use a list instead.\n",
      "  for cut in np.unique(obs_cut.loc[gene_list]):\n",
      "/Users/ceglian/gvenv/lib/python3.9/site-packages/scanpy/tools/_score_genes.py:175: PerformanceWarning: DataFrame is highly fragmented.  This is usually the result of calling `frame.insert` many times, which has poor performance.  Consider joining all columns at once using pd.concat(axis=1) instead. To get a de-fragmented frame, use `newframe = frame.copy()`\n",
      "  adata.obs[score_name] = pd.Series(\n"
     ]
    },
    {
     "name": "stdout",
     "output_type": "stream",
     "text": [
      "    finished: added\n",
      "    '128_SCORE', score of gene set (adata.obs).\n",
      "    49 total control genes are used. (0:00:00)\n",
      "computing score '204_SCORE'\n",
      "WARNING: genes are not in var_names and ignored: ['IGF2BP3', 'MEST', 'OTUD1', 'COL18A1']\n"
     ]
    },
    {
     "name": "stderr",
     "output_type": "stream",
     "text": [
      "/Users/ceglian/gvenv/lib/python3.9/site-packages/scanpy/tools/_score_genes.py:151: FutureWarning: Passing a set as an indexer is deprecated and will raise in a future version. Use a list instead.\n",
      "  for cut in np.unique(obs_cut.loc[gene_list]):\n",
      "/Users/ceglian/gvenv/lib/python3.9/site-packages/scanpy/tools/_score_genes.py:175: PerformanceWarning: DataFrame is highly fragmented.  This is usually the result of calling `frame.insert` many times, which has poor performance.  Consider joining all columns at once using pd.concat(axis=1) instead. To get a de-fragmented frame, use `newframe = frame.copy()`\n",
      "  adata.obs[score_name] = pd.Series(\n",
      "/Users/ceglian/gvenv/lib/python3.9/site-packages/scanpy/tools/_score_genes.py:151: FutureWarning: Passing a set as an indexer is deprecated and will raise in a future version. Use a list instead.\n",
      "  for cut in np.unique(obs_cut.loc[gene_list]):\n"
     ]
    },
    {
     "name": "stdout",
     "output_type": "stream",
     "text": [
      "    finished: added\n",
      "    '204_SCORE', score of gene set (adata.obs).\n",
      "    98 total control genes are used. (0:00:00)\n",
      "computing score '32_SCORE'\n",
      "WARNING: genes are not in var_names and ignored: ['TUBA3D', 'TPPP', 'DNAH5', 'CCDC170', 'PSCA', 'C9ORF24', 'MUC15', 'LRRC10B', 'PLEKHS1', 'CES1']\n",
      "    finished: added\n",
      "    '32_SCORE', score of gene set (adata.obs).\n",
      "    147 total control genes are used. (0:00:00)\n",
      "computing score '243_SCORE'\n",
      "WARNING: genes are not in var_names and ignored: ['IFITM1', 'TMPRSS4']\n"
     ]
    },
    {
     "name": "stderr",
     "output_type": "stream",
     "text": [
      "/Users/ceglian/gvenv/lib/python3.9/site-packages/scanpy/tools/_score_genes.py:175: PerformanceWarning: DataFrame is highly fragmented.  This is usually the result of calling `frame.insert` many times, which has poor performance.  Consider joining all columns at once using pd.concat(axis=1) instead. To get a de-fragmented frame, use `newframe = frame.copy()`\n",
      "  adata.obs[score_name] = pd.Series(\n",
      "/Users/ceglian/gvenv/lib/python3.9/site-packages/scanpy/tools/_score_genes.py:151: FutureWarning: Passing a set as an indexer is deprecated and will raise in a future version. Use a list instead.\n",
      "  for cut in np.unique(obs_cut.loc[gene_list]):\n",
      "/Users/ceglian/gvenv/lib/python3.9/site-packages/scanpy/tools/_score_genes.py:175: PerformanceWarning: DataFrame is highly fragmented.  This is usually the result of calling `frame.insert` many times, which has poor performance.  Consider joining all columns at once using pd.concat(axis=1) instead. To get a de-fragmented frame, use `newframe = frame.copy()`\n",
      "  adata.obs[score_name] = pd.Series(\n"
     ]
    },
    {
     "name": "stdout",
     "output_type": "stream",
     "text": [
      "    finished: added\n",
      "    '243_SCORE', score of gene set (adata.obs).\n",
      "    147 total control genes are used. (0:00:00)\n",
      "computing score '19_SCORE'\n",
      "WARNING: genes are not in var_names and ignored: ['MCM6', 'MCM2', 'RFC4', 'MCM3', 'MCM7', 'GINS4', 'MCM4', 'RRM1', 'FEN1', 'FADS1', 'UNG', 'PNP', 'RMI2', 'PCNA', 'E2F1']\n"
     ]
    },
    {
     "name": "stderr",
     "output_type": "stream",
     "text": [
      "/Users/ceglian/gvenv/lib/python3.9/site-packages/scanpy/tools/_score_genes.py:151: FutureWarning: Passing a set as an indexer is deprecated and will raise in a future version. Use a list instead.\n",
      "  for cut in np.unique(obs_cut.loc[gene_list]):\n",
      "/Users/ceglian/gvenv/lib/python3.9/site-packages/scanpy/tools/_score_genes.py:175: PerformanceWarning: DataFrame is highly fragmented.  This is usually the result of calling `frame.insert` many times, which has poor performance.  Consider joining all columns at once using pd.concat(axis=1) instead. To get a de-fragmented frame, use `newframe = frame.copy()`\n",
      "  adata.obs[score_name] = pd.Series(\n"
     ]
    },
    {
     "name": "stdout",
     "output_type": "stream",
     "text": [
      "    finished: added\n",
      "    '19_SCORE', score of gene set (adata.obs).\n",
      "    49 total control genes are used. (0:00:00)\n",
      "computing score '152_SCORE'\n",
      "WARNING: genes are not in var_names and ignored: ['CD47', 'IFT57', 'RNASET2', 'BTG1']\n"
     ]
    },
    {
     "name": "stderr",
     "output_type": "stream",
     "text": [
      "/Users/ceglian/gvenv/lib/python3.9/site-packages/scanpy/tools/_score_genes.py:151: FutureWarning: Passing a set as an indexer is deprecated and will raise in a future version. Use a list instead.\n",
      "  for cut in np.unique(obs_cut.loc[gene_list]):\n",
      "/Users/ceglian/gvenv/lib/python3.9/site-packages/scanpy/tools/_score_genes.py:175: PerformanceWarning: DataFrame is highly fragmented.  This is usually the result of calling `frame.insert` many times, which has poor performance.  Consider joining all columns at once using pd.concat(axis=1) instead. To get a de-fragmented frame, use `newframe = frame.copy()`\n",
      "  adata.obs[score_name] = pd.Series(\n",
      "/Users/ceglian/gvenv/lib/python3.9/site-packages/scanpy/tools/_score_genes.py:151: FutureWarning: Passing a set as an indexer is deprecated and will raise in a future version. Use a list instead.\n",
      "  for cut in np.unique(obs_cut.loc[gene_list]):\n"
     ]
    },
    {
     "name": "stdout",
     "output_type": "stream",
     "text": [
      "    finished: added\n",
      "    '152_SCORE', score of gene set (adata.obs).\n",
      "    147 total control genes are used. (0:00:00)\n",
      "computing score '84_SCORE'\n",
      "WARNING: genes are not in var_names and ignored: ['LYPD6B', 'LRBA', 'FZD6', 'FAM83H', 'NRBP2', 'CRNDE', 'ARL2BP', 'CKLF', 'CMTM4']\n",
      "    finished: added\n",
      "    '84_SCORE', score of gene set (adata.obs).\n",
      "    49 total control genes are used. (0:00:00)\n",
      "computing score '286_SCORE'\n",
      "WARNING: genes are not in var_names and ignored: ['RND3', 'ANKRD37', 'CTXN1']\n"
     ]
    },
    {
     "name": "stderr",
     "output_type": "stream",
     "text": [
      "/Users/ceglian/gvenv/lib/python3.9/site-packages/scanpy/tools/_score_genes.py:175: PerformanceWarning: DataFrame is highly fragmented.  This is usually the result of calling `frame.insert` many times, which has poor performance.  Consider joining all columns at once using pd.concat(axis=1) instead. To get a de-fragmented frame, use `newframe = frame.copy()`\n",
      "  adata.obs[score_name] = pd.Series(\n",
      "/Users/ceglian/gvenv/lib/python3.9/site-packages/scanpy/tools/_score_genes.py:151: FutureWarning: Passing a set as an indexer is deprecated and will raise in a future version. Use a list instead.\n",
      "  for cut in np.unique(obs_cut.loc[gene_list]):\n",
      "/Users/ceglian/gvenv/lib/python3.9/site-packages/scanpy/tools/_score_genes.py:175: PerformanceWarning: DataFrame is highly fragmented.  This is usually the result of calling `frame.insert` many times, which has poor performance.  Consider joining all columns at once using pd.concat(axis=1) instead. To get a de-fragmented frame, use `newframe = frame.copy()`\n",
      "  adata.obs[score_name] = pd.Series(\n"
     ]
    },
    {
     "name": "stdout",
     "output_type": "stream",
     "text": [
      "    finished: added\n",
      "    '286_SCORE', score of gene set (adata.obs).\n",
      "    49 total control genes are used. (0:00:00)\n",
      "computing score '251_SCORE'\n",
      "WARNING: genes are not in var_names and ignored: ['TCEAL9', 'MYC', 'MYLPF', 'ISYNA1']\n"
     ]
    },
    {
     "name": "stderr",
     "output_type": "stream",
     "text": [
      "/Users/ceglian/gvenv/lib/python3.9/site-packages/scanpy/tools/_score_genes.py:151: FutureWarning: Passing a set as an indexer is deprecated and will raise in a future version. Use a list instead.\n",
      "  for cut in np.unique(obs_cut.loc[gene_list]):\n",
      "/Users/ceglian/gvenv/lib/python3.9/site-packages/scanpy/tools/_score_genes.py:175: PerformanceWarning: DataFrame is highly fragmented.  This is usually the result of calling `frame.insert` many times, which has poor performance.  Consider joining all columns at once using pd.concat(axis=1) instead. To get a de-fragmented frame, use `newframe = frame.copy()`\n",
      "  adata.obs[score_name] = pd.Series(\n",
      "/Users/ceglian/gvenv/lib/python3.9/site-packages/scanpy/tools/_score_genes.py:151: FutureWarning: Passing a set as an indexer is deprecated and will raise in a future version. Use a list instead.\n",
      "  for cut in np.unique(obs_cut.loc[gene_list]):\n"
     ]
    },
    {
     "name": "stdout",
     "output_type": "stream",
     "text": [
      "    finished: added\n",
      "    '251_SCORE', score of gene set (adata.obs).\n",
      "    49 total control genes are used. (0:00:00)\n",
      "computing score '119_SCORE'\n",
      "WARNING: genes are not in var_names and ignored: ['PLA2R1', 'GXYLT2', 'TMCC3', 'SSH1', 'TNFRSF19', 'PRR36', 'KLK1']\n",
      "    finished: added\n",
      "    '119_SCORE', score of gene set (adata.obs).\n",
      "    49 total control genes are used. (0:00:00)\n",
      "computing score '176_SCORE'\n",
      "WARNING: genes are not in var_names and ignored: ['FIGN', 'COL23A1', 'ZBTB16', 'NOXO1', 'OLFM2']\n"
     ]
    },
    {
     "name": "stderr",
     "output_type": "stream",
     "text": [
      "/Users/ceglian/gvenv/lib/python3.9/site-packages/scanpy/tools/_score_genes.py:175: PerformanceWarning: DataFrame is highly fragmented.  This is usually the result of calling `frame.insert` many times, which has poor performance.  Consider joining all columns at once using pd.concat(axis=1) instead. To get a de-fragmented frame, use `newframe = frame.copy()`\n",
      "  adata.obs[score_name] = pd.Series(\n",
      "/Users/ceglian/gvenv/lib/python3.9/site-packages/scanpy/tools/_score_genes.py:151: FutureWarning: Passing a set as an indexer is deprecated and will raise in a future version. Use a list instead.\n",
      "  for cut in np.unique(obs_cut.loc[gene_list]):\n",
      "/Users/ceglian/gvenv/lib/python3.9/site-packages/scanpy/tools/_score_genes.py:175: PerformanceWarning: DataFrame is highly fragmented.  This is usually the result of calling `frame.insert` many times, which has poor performance.  Consider joining all columns at once using pd.concat(axis=1) instead. To get a de-fragmented frame, use `newframe = frame.copy()`\n",
      "  adata.obs[score_name] = pd.Series(\n"
     ]
    },
    {
     "name": "stdout",
     "output_type": "stream",
     "text": [
      "    finished: added\n",
      "    '176_SCORE', score of gene set (adata.obs).\n",
      "    98 total control genes are used. (0:00:00)\n",
      "computing score '213_SCORE'\n",
      "WARNING: genes are not in var_names and ignored: ['HOXD8', 'NFKBIZ', 'HSPA1B', 'KLF6']\n"
     ]
    },
    {
     "name": "stderr",
     "output_type": "stream",
     "text": [
      "/Users/ceglian/gvenv/lib/python3.9/site-packages/scanpy/tools/_score_genes.py:151: FutureWarning: Passing a set as an indexer is deprecated and will raise in a future version. Use a list instead.\n",
      "  for cut in np.unique(obs_cut.loc[gene_list]):\n",
      "/Users/ceglian/gvenv/lib/python3.9/site-packages/scanpy/tools/_score_genes.py:175: PerformanceWarning: DataFrame is highly fragmented.  This is usually the result of calling `frame.insert` many times, which has poor performance.  Consider joining all columns at once using pd.concat(axis=1) instead. To get a de-fragmented frame, use `newframe = frame.copy()`\n",
      "  adata.obs[score_name] = pd.Series(\n",
      "/Users/ceglian/gvenv/lib/python3.9/site-packages/scanpy/tools/_score_genes.py:151: FutureWarning: Passing a set as an indexer is deprecated and will raise in a future version. Use a list instead.\n",
      "  for cut in np.unique(obs_cut.loc[gene_list]):\n"
     ]
    },
    {
     "name": "stdout",
     "output_type": "stream",
     "text": [
      "    finished: added\n",
      "    '213_SCORE', score of gene set (adata.obs).\n",
      "    98 total control genes are used. (0:00:00)\n",
      "computing score '216_SCORE'\n",
      "WARNING: genes are not in var_names and ignored: ['HAGLR', 'NCALD', 'AZIN1', 'IQANK1', 'CNGB1']\n",
      "    finished: added\n",
      "    '216_SCORE', score of gene set (adata.obs).\n",
      "    49 total control genes are used. (0:00:00)\n",
      "computing score '45_SCORE'\n",
      "WARNING: genes are not in var_names and ignored: ['CERKL', 'IL5RA', 'CDHR4', 'RSPH4A', 'IL13RA2', 'CFAP77', 'CCDC60', 'KIF19']\n"
     ]
    },
    {
     "name": "stderr",
     "output_type": "stream",
     "text": [
      "/Users/ceglian/gvenv/lib/python3.9/site-packages/scanpy/tools/_score_genes.py:175: PerformanceWarning: DataFrame is highly fragmented.  This is usually the result of calling `frame.insert` many times, which has poor performance.  Consider joining all columns at once using pd.concat(axis=1) instead. To get a de-fragmented frame, use `newframe = frame.copy()`\n",
      "  adata.obs[score_name] = pd.Series(\n",
      "/Users/ceglian/gvenv/lib/python3.9/site-packages/scanpy/tools/_score_genes.py:151: FutureWarning: Passing a set as an indexer is deprecated and will raise in a future version. Use a list instead.\n",
      "  for cut in np.unique(obs_cut.loc[gene_list]):\n",
      "/Users/ceglian/gvenv/lib/python3.9/site-packages/scanpy/tools/_score_genes.py:175: PerformanceWarning: DataFrame is highly fragmented.  This is usually the result of calling `frame.insert` many times, which has poor performance.  Consider joining all columns at once using pd.concat(axis=1) instead. To get a de-fragmented frame, use `newframe = frame.copy()`\n",
      "  adata.obs[score_name] = pd.Series(\n"
     ]
    },
    {
     "name": "stdout",
     "output_type": "stream",
     "text": [
      "    finished: added\n",
      "    '45_SCORE', score of gene set (adata.obs).\n",
      "    97 total control genes are used. (0:00:00)\n",
      "computing score '258_SCORE'\n"
     ]
    },
    {
     "name": "stderr",
     "output_type": "stream",
     "text": [
      "/Users/ceglian/gvenv/lib/python3.9/site-packages/scanpy/tools/_score_genes.py:151: FutureWarning: Passing a set as an indexer is deprecated and will raise in a future version. Use a list instead.\n",
      "  for cut in np.unique(obs_cut.loc[gene_list]):\n",
      "/Users/ceglian/gvenv/lib/python3.9/site-packages/scanpy/tools/_score_genes.py:175: PerformanceWarning: DataFrame is highly fragmented.  This is usually the result of calling `frame.insert` many times, which has poor performance.  Consider joining all columns at once using pd.concat(axis=1) instead. To get a de-fragmented frame, use `newframe = frame.copy()`\n",
      "  adata.obs[score_name] = pd.Series(\n",
      "/Users/ceglian/gvenv/lib/python3.9/site-packages/scanpy/tools/_score_genes.py:151: FutureWarning: Passing a set as an indexer is deprecated and will raise in a future version. Use a list instead.\n",
      "  for cut in np.unique(obs_cut.loc[gene_list]):\n"
     ]
    },
    {
     "name": "stdout",
     "output_type": "stream",
     "text": [
      "    finished: added\n",
      "    '258_SCORE', score of gene set (adata.obs).\n",
      "    245 total control genes are used. (0:00:00)\n",
      "computing score '165_SCORE'\n",
      "WARNING: genes are not in var_names and ignored: ['C2ORF88', 'PREX2', 'KCNE3', 'DCUN1D3', 'EVI2B']\n",
      "    finished: added\n",
      "    '165_SCORE', score of gene set (adata.obs).\n",
      "    98 total control genes are used. (0:00:00)\n",
      "computing score '92_SCORE'\n",
      "WARNING: genes are not in var_names and ignored: ['PARP14', 'PLSCR1', 'PSME2', 'RNF213']\n"
     ]
    },
    {
     "name": "stderr",
     "output_type": "stream",
     "text": [
      "/Users/ceglian/gvenv/lib/python3.9/site-packages/scanpy/tools/_score_genes.py:175: PerformanceWarning: DataFrame is highly fragmented.  This is usually the result of calling `frame.insert` many times, which has poor performance.  Consider joining all columns at once using pd.concat(axis=1) instead. To get a de-fragmented frame, use `newframe = frame.copy()`\n",
      "  adata.obs[score_name] = pd.Series(\n",
      "/Users/ceglian/gvenv/lib/python3.9/site-packages/scanpy/tools/_score_genes.py:151: FutureWarning: Passing a set as an indexer is deprecated and will raise in a future version. Use a list instead.\n",
      "  for cut in np.unique(obs_cut.loc[gene_list]):\n",
      "/Users/ceglian/gvenv/lib/python3.9/site-packages/scanpy/tools/_score_genes.py:175: PerformanceWarning: DataFrame is highly fragmented.  This is usually the result of calling `frame.insert` many times, which has poor performance.  Consider joining all columns at once using pd.concat(axis=1) instead. To get a de-fragmented frame, use `newframe = frame.copy()`\n",
      "  adata.obs[score_name] = pd.Series(\n"
     ]
    },
    {
     "name": "stdout",
     "output_type": "stream",
     "text": [
      "    finished: added\n",
      "    '92_SCORE', score of gene set (adata.obs).\n",
      "    145 total control genes are used. (0:00:00)\n",
      "computing score '199_SCORE'\n",
      "WARNING: genes are not in var_names and ignored: ['FZD7', 'CCDC71L']\n"
     ]
    },
    {
     "name": "stderr",
     "output_type": "stream",
     "text": [
      "/Users/ceglian/gvenv/lib/python3.9/site-packages/scanpy/tools/_score_genes.py:151: FutureWarning: Passing a set as an indexer is deprecated and will raise in a future version. Use a list instead.\n",
      "  for cut in np.unique(obs_cut.loc[gene_list]):\n",
      "/Users/ceglian/gvenv/lib/python3.9/site-packages/scanpy/tools/_score_genes.py:175: PerformanceWarning: DataFrame is highly fragmented.  This is usually the result of calling `frame.insert` many times, which has poor performance.  Consider joining all columns at once using pd.concat(axis=1) instead. To get a de-fragmented frame, use `newframe = frame.copy()`\n",
      "  adata.obs[score_name] = pd.Series(\n"
     ]
    },
    {
     "name": "stdout",
     "output_type": "stream",
     "text": [
      "    finished: added\n",
      "    '199_SCORE', score of gene set (adata.obs).\n",
      "    196 total control genes are used. (0:00:00)\n",
      "computing score '278_SCORE'\n",
      "WARNING: genes are not in var_names and ignored: ['TIGIT', 'LRRN3']\n"
     ]
    },
    {
     "name": "stderr",
     "output_type": "stream",
     "text": [
      "/Users/ceglian/gvenv/lib/python3.9/site-packages/scanpy/tools/_score_genes.py:151: FutureWarning: Passing a set as an indexer is deprecated and will raise in a future version. Use a list instead.\n",
      "  for cut in np.unique(obs_cut.loc[gene_list]):\n",
      "/Users/ceglian/gvenv/lib/python3.9/site-packages/scanpy/tools/_score_genes.py:175: PerformanceWarning: DataFrame is highly fragmented.  This is usually the result of calling `frame.insert` many times, which has poor performance.  Consider joining all columns at once using pd.concat(axis=1) instead. To get a de-fragmented frame, use `newframe = frame.copy()`\n",
      "  adata.obs[score_name] = pd.Series(\n",
      "/Users/ceglian/gvenv/lib/python3.9/site-packages/scanpy/tools/_score_genes.py:151: FutureWarning: Passing a set as an indexer is deprecated and will raise in a future version. Use a list instead.\n",
      "  for cut in np.unique(obs_cut.loc[gene_list]):\n"
     ]
    },
    {
     "name": "stdout",
     "output_type": "stream",
     "text": [
      "    finished: added\n",
      "    '278_SCORE', score of gene set (adata.obs).\n",
      "    98 total control genes are used. (0:00:00)\n",
      "computing score '158_SCORE'\n",
      "WARNING: genes are not in var_names and ignored: ['GFOD1', 'ST3GAL1', 'ABLIM1']\n",
      "    finished: added\n",
      "    '158_SCORE', score of gene set (adata.obs).\n",
      "    146 total control genes are used. (0:00:00)\n"
     ]
    },
    {
     "name": "stderr",
     "output_type": "stream",
     "text": [
      "/Users/ceglian/gvenv/lib/python3.9/site-packages/scanpy/tools/_score_genes.py:175: PerformanceWarning: DataFrame is highly fragmented.  This is usually the result of calling `frame.insert` many times, which has poor performance.  Consider joining all columns at once using pd.concat(axis=1) instead. To get a de-fragmented frame, use `newframe = frame.copy()`\n",
      "  adata.obs[score_name] = pd.Series(\n",
      "/Users/ceglian/gvenv/lib/python3.9/site-packages/scanpy/tools/_score_genes.py:151: FutureWarning: Passing a set as an indexer is deprecated and will raise in a future version. Use a list instead.\n",
      "  for cut in np.unique(obs_cut.loc[gene_list]):\n",
      "/Users/ceglian/gvenv/lib/python3.9/site-packages/scanpy/tools/_score_genes.py:175: PerformanceWarning: DataFrame is highly fragmented.  This is usually the result of calling `frame.insert` many times, which has poor performance.  Consider joining all columns at once using pd.concat(axis=1) instead. To get a de-fragmented frame, use `newframe = frame.copy()`\n",
      "  adata.obs[score_name] = pd.Series(\n"
     ]
    },
    {
     "name": "stdout",
     "output_type": "stream",
     "text": [
      "computing score '102_SCORE'\n",
      "WARNING: genes are not in var_names and ignored: ['CRYGC', 'PALLD', 'C5ORF46', 'IRF4', 'FBXL6', 'COMMD5', 'DUT', 'S100B']\n",
      "    finished: added\n",
      "    '102_SCORE', score of gene set (adata.obs).\n",
      "    49 total control genes are used. (0:00:00)\n",
      "computing score '304_SCORE'\n",
      "WARNING: genes are not in var_names and ignored: ['ERBB4', 'PCDH7']\n",
      "computing score '210_SCORE'\n",
      "WARNING: genes are not in var_names and ignored: ['BARD1', 'DTYMK', 'CENPH', 'DNAJC9', 'UBALD2']\n"
     ]
    },
    {
     "name": "stderr",
     "output_type": "stream",
     "text": [
      "/Users/ceglian/gvenv/lib/python3.9/site-packages/scanpy/tools/_score_genes.py:151: FutureWarning: Passing a set as an indexer is deprecated and will raise in a future version. Use a list instead.\n",
      "  for cut in np.unique(obs_cut.loc[gene_list]):\n",
      "/Users/ceglian/gvenv/lib/python3.9/site-packages/scanpy/tools/_score_genes.py:175: PerformanceWarning: DataFrame is highly fragmented.  This is usually the result of calling `frame.insert` many times, which has poor performance.  Consider joining all columns at once using pd.concat(axis=1) instead. To get a de-fragmented frame, use `newframe = frame.copy()`\n",
      "  adata.obs[score_name] = pd.Series(\n",
      "/Users/ceglian/gvenv/lib/python3.9/site-packages/genevector-0.1.0-py3.9.egg/genevector/embedding.py:152: PerformanceWarning: DataFrame is highly fragmented.  This is usually the result of calling `frame.insert` many times, which has poor performance.  Consider joining all columns at once using pd.concat(axis=1) instead. To get a de-fragmented frame, use `newframe = frame.copy()`\n",
      "  adata.obs[str(p)+\"_SCORE\"] = 0.\n",
      "/Users/ceglian/gvenv/lib/python3.9/site-packages/scanpy/tools/_score_genes.py:151: FutureWarning: Passing a set as an indexer is deprecated and will raise in a future version. Use a list instead.\n",
      "  for cut in np.unique(obs_cut.loc[gene_list]):\n"
     ]
    },
    {
     "name": "stdout",
     "output_type": "stream",
     "text": [
      "    finished: added\n",
      "    '210_SCORE', score of gene set (adata.obs).\n",
      "    49 total control genes are used. (0:00:00)\n",
      "computing score '159_SCORE'\n",
      "WARNING: genes are not in var_names and ignored: ['PXDC1', 'RHOD', 'SLC16A3', 'FSTL3']\n",
      "    finished: added\n",
      "    '159_SCORE', score of gene set (adata.obs).\n",
      "    147 total control genes are used. (0:00:00)\n",
      "computing score '308_SCORE'\n",
      "WARNING: genes are not in var_names and ignored: ['MARCH4']\n"
     ]
    },
    {
     "name": "stderr",
     "output_type": "stream",
     "text": [
      "/Users/ceglian/gvenv/lib/python3.9/site-packages/scanpy/tools/_score_genes.py:175: PerformanceWarning: DataFrame is highly fragmented.  This is usually the result of calling `frame.insert` many times, which has poor performance.  Consider joining all columns at once using pd.concat(axis=1) instead. To get a de-fragmented frame, use `newframe = frame.copy()`\n",
      "  adata.obs[score_name] = pd.Series(\n",
      "/Users/ceglian/gvenv/lib/python3.9/site-packages/scanpy/tools/_score_genes.py:151: FutureWarning: Passing a set as an indexer is deprecated and will raise in a future version. Use a list instead.\n",
      "  for cut in np.unique(obs_cut.loc[gene_list]):\n",
      "/Users/ceglian/gvenv/lib/python3.9/site-packages/scanpy/tools/_score_genes.py:175: PerformanceWarning: DataFrame is highly fragmented.  This is usually the result of calling `frame.insert` many times, which has poor performance.  Consider joining all columns at once using pd.concat(axis=1) instead. To get a de-fragmented frame, use `newframe = frame.copy()`\n",
      "  adata.obs[score_name] = pd.Series(\n"
     ]
    },
    {
     "name": "stdout",
     "output_type": "stream",
     "text": [
      "    finished: added\n",
      "    '308_SCORE', score of gene set (adata.obs).\n",
      "    48 total control genes are used. (0:00:00)\n",
      "computing score '65_SCORE'\n",
      "WARNING: genes are not in var_names and ignored: ['NECTIN3', 'PDLIM7', 'EMX2', 'SLC38A1']\n"
     ]
    },
    {
     "name": "stderr",
     "output_type": "stream",
     "text": [
      "/Users/ceglian/gvenv/lib/python3.9/site-packages/scanpy/tools/_score_genes.py:151: FutureWarning: Passing a set as an indexer is deprecated and will raise in a future version. Use a list instead.\n",
      "  for cut in np.unique(obs_cut.loc[gene_list]):\n",
      "/Users/ceglian/gvenv/lib/python3.9/site-packages/scanpy/tools/_score_genes.py:175: PerformanceWarning: DataFrame is highly fragmented.  This is usually the result of calling `frame.insert` many times, which has poor performance.  Consider joining all columns at once using pd.concat(axis=1) instead. To get a de-fragmented frame, use `newframe = frame.copy()`\n",
      "  adata.obs[score_name] = pd.Series(\n",
      "/Users/ceglian/gvenv/lib/python3.9/site-packages/scanpy/tools/_score_genes.py:151: FutureWarning: Passing a set as an indexer is deprecated and will raise in a future version. Use a list instead.\n",
      "  for cut in np.unique(obs_cut.loc[gene_list]):\n"
     ]
    },
    {
     "name": "stdout",
     "output_type": "stream",
     "text": [
      "    finished: added\n",
      "    '65_SCORE', score of gene set (adata.obs).\n",
      "    243 total control genes are used. (0:00:00)\n",
      "computing score '115_SCORE'\n",
      "WARNING: genes are not in var_names and ignored: ['WNT10A', 'PDGFA', 'AKR1B1', 'EPHA1', 'AFAP1L2', 'FUOM', 'KREMEN2']\n",
      "    finished: added\n",
      "    '115_SCORE', score of gene set (adata.obs).\n",
      "    98 total control genes are used. (0:00:00)\n",
      "computing score '194_SCORE'\n",
      "WARNING: genes are not in var_names and ignored: ['HPSE', 'FAM20C', 'WEE1', 'CDH1']\n"
     ]
    },
    {
     "name": "stderr",
     "output_type": "stream",
     "text": [
      "/Users/ceglian/gvenv/lib/python3.9/site-packages/scanpy/tools/_score_genes.py:175: PerformanceWarning: DataFrame is highly fragmented.  This is usually the result of calling `frame.insert` many times, which has poor performance.  Consider joining all columns at once using pd.concat(axis=1) instead. To get a de-fragmented frame, use `newframe = frame.copy()`\n",
      "  adata.obs[score_name] = pd.Series(\n",
      "/Users/ceglian/gvenv/lib/python3.9/site-packages/scanpy/tools/_score_genes.py:151: FutureWarning: Passing a set as an indexer is deprecated and will raise in a future version. Use a list instead.\n",
      "  for cut in np.unique(obs_cut.loc[gene_list]):\n",
      "/Users/ceglian/gvenv/lib/python3.9/site-packages/scanpy/tools/_score_genes.py:175: PerformanceWarning: DataFrame is highly fragmented.  This is usually the result of calling `frame.insert` many times, which has poor performance.  Consider joining all columns at once using pd.concat(axis=1) instead. To get a de-fragmented frame, use `newframe = frame.copy()`\n",
      "  adata.obs[score_name] = pd.Series(\n"
     ]
    },
    {
     "name": "stdout",
     "output_type": "stream",
     "text": [
      "    finished: added\n",
      "    '194_SCORE', score of gene set (adata.obs).\n",
      "    98 total control genes are used. (0:00:00)\n",
      "computing score '228_SCORE'\n",
      "WARNING: genes are not in var_names and ignored: ['OBSL1', 'ADRA2C', 'PLLP']\n"
     ]
    },
    {
     "name": "stderr",
     "output_type": "stream",
     "text": [
      "/Users/ceglian/gvenv/lib/python3.9/site-packages/scanpy/tools/_score_genes.py:151: FutureWarning: Passing a set as an indexer is deprecated and will raise in a future version. Use a list instead.\n",
      "  for cut in np.unique(obs_cut.loc[gene_list]):\n",
      "/Users/ceglian/gvenv/lib/python3.9/site-packages/scanpy/tools/_score_genes.py:175: PerformanceWarning: DataFrame is highly fragmented.  This is usually the result of calling `frame.insert` many times, which has poor performance.  Consider joining all columns at once using pd.concat(axis=1) instead. To get a de-fragmented frame, use `newframe = frame.copy()`\n",
      "  adata.obs[score_name] = pd.Series(\n",
      "/Users/ceglian/gvenv/lib/python3.9/site-packages/scanpy/tools/_score_genes.py:151: FutureWarning: Passing a set as an indexer is deprecated and will raise in a future version. Use a list instead.\n",
      "  for cut in np.unique(obs_cut.loc[gene_list]):\n"
     ]
    },
    {
     "name": "stdout",
     "output_type": "stream",
     "text": [
      "    finished: added\n",
      "    '228_SCORE', score of gene set (adata.obs).\n",
      "    98 total control genes are used. (0:00:00)\n",
      "computing score '181_SCORE'\n",
      "WARNING: genes are not in var_names and ignored: ['SGPP2', 'SLC2A12', 'ACTN3', 'ZNF714']\n",
      "    finished: added\n",
      "    '181_SCORE', score of gene set (adata.obs).\n",
      "    98 total control genes are used. (0:00:00)\n",
      "computing score '77_SCORE'\n",
      "WARNING: genes are not in var_names and ignored: ['HEG1', 'MELTF', 'PITX1', 'CYP3A5', 'XKR4', 'CNTFR', 'ENTPD2', 'LINGO1']\n"
     ]
    },
    {
     "name": "stderr",
     "output_type": "stream",
     "text": [
      "/Users/ceglian/gvenv/lib/python3.9/site-packages/scanpy/tools/_score_genes.py:175: PerformanceWarning: DataFrame is highly fragmented.  This is usually the result of calling `frame.insert` many times, which has poor performance.  Consider joining all columns at once using pd.concat(axis=1) instead. To get a de-fragmented frame, use `newframe = frame.copy()`\n",
      "  adata.obs[score_name] = pd.Series(\n",
      "/Users/ceglian/gvenv/lib/python3.9/site-packages/scanpy/tools/_score_genes.py:151: FutureWarning: Passing a set as an indexer is deprecated and will raise in a future version. Use a list instead.\n",
      "  for cut in np.unique(obs_cut.loc[gene_list]):\n",
      "/Users/ceglian/gvenv/lib/python3.9/site-packages/scanpy/tools/_score_genes.py:175: PerformanceWarning: DataFrame is highly fragmented.  This is usually the result of calling `frame.insert` many times, which has poor performance.  Consider joining all columns at once using pd.concat(axis=1) instead. To get a de-fragmented frame, use `newframe = frame.copy()`\n",
      "  adata.obs[score_name] = pd.Series(\n"
     ]
    },
    {
     "name": "stdout",
     "output_type": "stream",
     "text": [
      "    finished: added\n",
      "    '77_SCORE', score of gene set (adata.obs).\n",
      "    98 total control genes are used. (0:00:00)\n",
      "computing score '35_SCORE'\n",
      "WARNING: genes are not in var_names and ignored: ['MARCH11', 'SCUBE3', 'C6ORF141', 'PIK3C2G', 'MEG8', 'PDIA2', 'SHISA9', 'CRYM']\n"
     ]
    },
    {
     "name": "stderr",
     "output_type": "stream",
     "text": [
      "/Users/ceglian/gvenv/lib/python3.9/site-packages/scanpy/tools/_score_genes.py:151: FutureWarning: Passing a set as an indexer is deprecated and will raise in a future version. Use a list instead.\n",
      "  for cut in np.unique(obs_cut.loc[gene_list]):\n",
      "/Users/ceglian/gvenv/lib/python3.9/site-packages/scanpy/tools/_score_genes.py:175: PerformanceWarning: DataFrame is highly fragmented.  This is usually the result of calling `frame.insert` many times, which has poor performance.  Consider joining all columns at once using pd.concat(axis=1) instead. To get a de-fragmented frame, use `newframe = frame.copy()`\n",
      "  adata.obs[score_name] = pd.Series(\n",
      "/Users/ceglian/gvenv/lib/python3.9/site-packages/scanpy/tools/_score_genes.py:151: FutureWarning: Passing a set as an indexer is deprecated and will raise in a future version. Use a list instead.\n",
      "  for cut in np.unique(obs_cut.loc[gene_list]):\n"
     ]
    },
    {
     "name": "stdout",
     "output_type": "stream",
     "text": [
      "    finished: added\n",
      "    '35_SCORE', score of gene set (adata.obs).\n",
      "    245 total control genes are used. (0:00:00)\n",
      "computing score '22_SCORE'\n",
      "WARNING: genes are not in var_names and ignored: ['INPP5D', 'CX3CR1', 'LY86', 'TFEC', 'CYBB', 'PLD4', 'IGSF6', 'EPB41L3', 'EBI3']\n",
      "    finished: added\n",
      "    '22_SCORE', score of gene set (adata.obs).\n",
      "    194 total control genes are used. (0:00:00)\n",
      "computing score '276_SCORE'\n",
      "WARNING: genes are not in var_names and ignored: ['APOLD1', 'RNF152']\n"
     ]
    },
    {
     "name": "stderr",
     "output_type": "stream",
     "text": [
      "/Users/ceglian/gvenv/lib/python3.9/site-packages/scanpy/tools/_score_genes.py:175: PerformanceWarning: DataFrame is highly fragmented.  This is usually the result of calling `frame.insert` many times, which has poor performance.  Consider joining all columns at once using pd.concat(axis=1) instead. To get a de-fragmented frame, use `newframe = frame.copy()`\n",
      "  adata.obs[score_name] = pd.Series(\n",
      "/Users/ceglian/gvenv/lib/python3.9/site-packages/scanpy/tools/_score_genes.py:151: FutureWarning: Passing a set as an indexer is deprecated and will raise in a future version. Use a list instead.\n",
      "  for cut in np.unique(obs_cut.loc[gene_list]):\n",
      "/Users/ceglian/gvenv/lib/python3.9/site-packages/scanpy/tools/_score_genes.py:175: PerformanceWarning: DataFrame is highly fragmented.  This is usually the result of calling `frame.insert` many times, which has poor performance.  Consider joining all columns at once using pd.concat(axis=1) instead. To get a de-fragmented frame, use `newframe = frame.copy()`\n",
      "  adata.obs[score_name] = pd.Series(\n"
     ]
    },
    {
     "name": "stdout",
     "output_type": "stream",
     "text": [
      "    finished: added\n",
      "    '276_SCORE', score of gene set (adata.obs).\n",
      "    98 total control genes are used. (0:00:00)\n",
      "computing score '217_SCORE'\n",
      "WARNING: genes are not in var_names and ignored: ['CEND1']\n"
     ]
    },
    {
     "name": "stderr",
     "output_type": "stream",
     "text": [
      "/Users/ceglian/gvenv/lib/python3.9/site-packages/scanpy/tools/_score_genes.py:151: FutureWarning: Passing a set as an indexer is deprecated and will raise in a future version. Use a list instead.\n",
      "  for cut in np.unique(obs_cut.loc[gene_list]):\n",
      "/Users/ceglian/gvenv/lib/python3.9/site-packages/scanpy/tools/_score_genes.py:175: PerformanceWarning: DataFrame is highly fragmented.  This is usually the result of calling `frame.insert` many times, which has poor performance.  Consider joining all columns at once using pd.concat(axis=1) instead. To get a de-fragmented frame, use `newframe = frame.copy()`\n",
      "  adata.obs[score_name] = pd.Series(\n",
      "/Users/ceglian/gvenv/lib/python3.9/site-packages/scanpy/tools/_score_genes.py:151: FutureWarning: Passing a set as an indexer is deprecated and will raise in a future version. Use a list instead.\n",
      "  for cut in np.unique(obs_cut.loc[gene_list]):\n"
     ]
    },
    {
     "name": "stdout",
     "output_type": "stream",
     "text": [
      "    finished: added\n",
      "    '217_SCORE', score of gene set (adata.obs).\n",
      "    195 total control genes are used. (0:00:00)\n",
      "computing score '101_SCORE'\n",
      "WARNING: genes are not in var_names and ignored: ['AGXT', 'IRGM', 'MRGPRX3', 'EDDM3B', 'ACSM2B', 'NLRP5']\n",
      "    finished: added\n",
      "    '101_SCORE', score of gene set (adata.obs).\n",
      "    46 total control genes are used. (0:00:00)\n",
      "computing score '232_SCORE'\n",
      "WARNING: genes are not in var_names and ignored: ['C2ORF54', 'SLC6A6', 'EFNA5', 'ZNF793', 'YIF1B']\n",
      "computing score '293_SCORE'\n",
      "WARNING: genes are not in var_names and ignored: ['BHLHE40']\n"
     ]
    },
    {
     "name": "stderr",
     "output_type": "stream",
     "text": [
      "/Users/ceglian/gvenv/lib/python3.9/site-packages/scanpy/tools/_score_genes.py:175: PerformanceWarning: DataFrame is highly fragmented.  This is usually the result of calling `frame.insert` many times, which has poor performance.  Consider joining all columns at once using pd.concat(axis=1) instead. To get a de-fragmented frame, use `newframe = frame.copy()`\n",
      "  adata.obs[score_name] = pd.Series(\n",
      "/Users/ceglian/gvenv/lib/python3.9/site-packages/scanpy/tools/_score_genes.py:151: FutureWarning: Passing a set as an indexer is deprecated and will raise in a future version. Use a list instead.\n",
      "  for cut in np.unique(obs_cut.loc[gene_list]):\n",
      "/Users/ceglian/gvenv/lib/python3.9/site-packages/scanpy/tools/_score_genes.py:175: PerformanceWarning: DataFrame is highly fragmented.  This is usually the result of calling `frame.insert` many times, which has poor performance.  Consider joining all columns at once using pd.concat(axis=1) instead. To get a de-fragmented frame, use `newframe = frame.copy()`\n",
      "  adata.obs[score_name] = pd.Series(\n",
      "/Users/ceglian/gvenv/lib/python3.9/site-packages/genevector-0.1.0-py3.9.egg/genevector/embedding.py:152: PerformanceWarning: DataFrame is highly fragmented.  This is usually the result of calling `frame.insert` many times, which has poor performance.  Consider joining all columns at once using pd.concat(axis=1) instead. To get a de-fragmented frame, use `newframe = frame.copy()`\n",
      "  adata.obs[str(p)+\"_SCORE\"] = 0.\n"
     ]
    },
    {
     "name": "stdout",
     "output_type": "stream",
     "text": [
      "    finished: added\n",
      "    '293_SCORE', score of gene set (adata.obs).\n",
      "    98 total control genes are used. (0:00:00)\n",
      "computing score '149_SCORE'\n",
      "WARNING: genes are not in var_names and ignored: ['FBLN2', 'ACPP', 'VWC2', 'GPC6', 'TGM1']\n"
     ]
    },
    {
     "name": "stderr",
     "output_type": "stream",
     "text": [
      "/Users/ceglian/gvenv/lib/python3.9/site-packages/scanpy/tools/_score_genes.py:151: FutureWarning: Passing a set as an indexer is deprecated and will raise in a future version. Use a list instead.\n",
      "  for cut in np.unique(obs_cut.loc[gene_list]):\n",
      "/Users/ceglian/gvenv/lib/python3.9/site-packages/scanpy/tools/_score_genes.py:175: PerformanceWarning: DataFrame is highly fragmented.  This is usually the result of calling `frame.insert` many times, which has poor performance.  Consider joining all columns at once using pd.concat(axis=1) instead. To get a de-fragmented frame, use `newframe = frame.copy()`\n",
      "  adata.obs[score_name] = pd.Series(\n",
      "/Users/ceglian/gvenv/lib/python3.9/site-packages/scanpy/tools/_score_genes.py:151: FutureWarning: Passing a set as an indexer is deprecated and will raise in a future version. Use a list instead.\n",
      "  for cut in np.unique(obs_cut.loc[gene_list]):\n"
     ]
    },
    {
     "name": "stdout",
     "output_type": "stream",
     "text": [
      "    finished: added\n",
      "    '149_SCORE', score of gene set (adata.obs).\n",
      "    98 total control genes are used. (0:00:00)\n",
      "computing score '113_SCORE'\n",
      "WARNING: genes are not in var_names and ignored: ['WNT7A', 'UGT2B7', 'FGF18', 'DCDC2']\n"
     ]
    },
    {
     "name": "stderr",
     "output_type": "stream",
     "text": [
      "/Users/ceglian/gvenv/lib/python3.9/site-packages/scanpy/tools/_score_genes.py:175: PerformanceWarning: DataFrame is highly fragmented.  This is usually the result of calling `frame.insert` many times, which has poor performance.  Consider joining all columns at once using pd.concat(axis=1) instead. To get a de-fragmented frame, use `newframe = frame.copy()`\n",
      "  adata.obs[score_name] = pd.Series(\n",
      "/Users/ceglian/gvenv/lib/python3.9/site-packages/scanpy/tools/_score_genes.py:151: FutureWarning: Passing a set as an indexer is deprecated and will raise in a future version. Use a list instead.\n",
      "  for cut in np.unique(obs_cut.loc[gene_list]):\n"
     ]
    },
    {
     "name": "stdout",
     "output_type": "stream",
     "text": [
      "    finished: added\n",
      "    '113_SCORE', score of gene set (adata.obs).\n",
      "    245 total control genes are used. (0:00:00)\n",
      "computing score '175_SCORE'\n",
      "WARNING: genes are not in var_names and ignored: ['CASP6', 'TWIST1', 'ACY3']\n",
      "    finished: added\n",
      "    '175_SCORE', score of gene set (adata.obs).\n",
      "    146 total control genes are used. (0:00:00)\n",
      "computing score '280_SCORE'\n",
      "WARNING: genes are not in var_names and ignored: ['SGO1', 'LMNB1', 'ZWINT', 'TMPO']\n",
      "computing score '27_SCORE'\n",
      "WARNING: genes are not in var_names and ignored: ['BANCR', 'SYCE1', 'COX8C', 'STARD3', 'PNMT']\n"
     ]
    },
    {
     "name": "stderr",
     "output_type": "stream",
     "text": [
      "/Users/ceglian/gvenv/lib/python3.9/site-packages/scanpy/tools/_score_genes.py:175: PerformanceWarning: DataFrame is highly fragmented.  This is usually the result of calling `frame.insert` many times, which has poor performance.  Consider joining all columns at once using pd.concat(axis=1) instead. To get a de-fragmented frame, use `newframe = frame.copy()`\n",
      "  adata.obs[score_name] = pd.Series(\n",
      "/Users/ceglian/gvenv/lib/python3.9/site-packages/scanpy/tools/_score_genes.py:151: FutureWarning: Passing a set as an indexer is deprecated and will raise in a future version. Use a list instead.\n",
      "  for cut in np.unique(obs_cut.loc[gene_list]):\n",
      "/Users/ceglian/gvenv/lib/python3.9/site-packages/scanpy/tools/_score_genes.py:175: PerformanceWarning: DataFrame is highly fragmented.  This is usually the result of calling `frame.insert` many times, which has poor performance.  Consider joining all columns at once using pd.concat(axis=1) instead. To get a de-fragmented frame, use `newframe = frame.copy()`\n",
      "  adata.obs[score_name] = pd.Series(\n",
      "/Users/ceglian/gvenv/lib/python3.9/site-packages/genevector-0.1.0-py3.9.egg/genevector/embedding.py:152: PerformanceWarning: DataFrame is highly fragmented.  This is usually the result of calling `frame.insert` many times, which has poor performance.  Consider joining all columns at once using pd.concat(axis=1) instead. To get a de-fragmented frame, use `newframe = frame.copy()`\n",
      "  adata.obs[str(p)+\"_SCORE\"] = 0.\n"
     ]
    },
    {
     "name": "stdout",
     "output_type": "stream",
     "text": [
      "    finished: added\n",
      "    '27_SCORE', score of gene set (adata.obs).\n",
      "    391 total control genes are used. (0:00:00)\n",
      "computing score '183_SCORE'\n",
      "WARNING: genes are not in var_names and ignored: ['STEAP4', 'LINP1']\n"
     ]
    },
    {
     "name": "stderr",
     "output_type": "stream",
     "text": [
      "/Users/ceglian/gvenv/lib/python3.9/site-packages/scanpy/tools/_score_genes.py:151: FutureWarning: Passing a set as an indexer is deprecated and will raise in a future version. Use a list instead.\n",
      "  for cut in np.unique(obs_cut.loc[gene_list]):\n",
      "/Users/ceglian/gvenv/lib/python3.9/site-packages/scanpy/tools/_score_genes.py:175: PerformanceWarning: DataFrame is highly fragmented.  This is usually the result of calling `frame.insert` many times, which has poor performance.  Consider joining all columns at once using pd.concat(axis=1) instead. To get a de-fragmented frame, use `newframe = frame.copy()`\n",
      "  adata.obs[score_name] = pd.Series(\n",
      "/Users/ceglian/gvenv/lib/python3.9/site-packages/scanpy/tools/_score_genes.py:151: FutureWarning: Passing a set as an indexer is deprecated and will raise in a future version. Use a list instead.\n",
      "  for cut in np.unique(obs_cut.loc[gene_list]):\n"
     ]
    },
    {
     "name": "stdout",
     "output_type": "stream",
     "text": [
      "    finished: added\n",
      "    '183_SCORE', score of gene set (adata.obs).\n",
      "    196 total control genes are used. (0:00:00)\n",
      "computing score '226_SCORE'\n",
      "WARNING: genes are not in var_names and ignored: ['CCDC51', 'STX18', 'COTL1']\n",
      "    finished: added\n",
      "    '226_SCORE', score of gene set (adata.obs).\n",
      "    98 total control genes are used. (0:00:00)\n",
      "computing score '23_SCORE'\n",
      "WARNING: genes are not in var_names and ignored: ['SYNPR', 'TRH', 'GABRA2', 'OPRK1', 'BAMBI', 'SLC18A3', 'GRIN2B', 'IGDCC3', 'BMP2', 'SEMG2', 'BIRC7', 'KLHDC7B']\n"
     ]
    },
    {
     "name": "stderr",
     "output_type": "stream",
     "text": [
      "/Users/ceglian/gvenv/lib/python3.9/site-packages/scanpy/tools/_score_genes.py:175: PerformanceWarning: DataFrame is highly fragmented.  This is usually the result of calling `frame.insert` many times, which has poor performance.  Consider joining all columns at once using pd.concat(axis=1) instead. To get a de-fragmented frame, use `newframe = frame.copy()`\n",
      "  adata.obs[score_name] = pd.Series(\n",
      "/Users/ceglian/gvenv/lib/python3.9/site-packages/scanpy/tools/_score_genes.py:151: FutureWarning: Passing a set as an indexer is deprecated and will raise in a future version. Use a list instead.\n",
      "  for cut in np.unique(obs_cut.loc[gene_list]):\n",
      "/Users/ceglian/gvenv/lib/python3.9/site-packages/scanpy/tools/_score_genes.py:175: PerformanceWarning: DataFrame is highly fragmented.  This is usually the result of calling `frame.insert` many times, which has poor performance.  Consider joining all columns at once using pd.concat(axis=1) instead. To get a de-fragmented frame, use `newframe = frame.copy()`\n",
      "  adata.obs[score_name] = pd.Series(\n"
     ]
    },
    {
     "name": "stdout",
     "output_type": "stream",
     "text": [
      "    finished: added\n",
      "    '23_SCORE', score of gene set (adata.obs).\n",
      "    147 total control genes are used. (0:00:00)\n",
      "computing score '255_SCORE'\n",
      "WARNING: genes are not in var_names and ignored: ['GPR27', 'PDGFC', 'MSMO1', 'F2R', 'RGS3']\n",
      "computing score '244_SCORE'\n",
      "WARNING: genes are not in var_names and ignored: ['H1FOO', 'DBH', 'AMER2', 'VSTM2B', 'SLC25A18']\n",
      "computing score '36_SCORE'\n",
      "WARNING: genes are not in var_names and ignored: ['CLSTN2', 'HLA-DMB', 'HLA-DMA', 'HLA-DOA', 'VSIR']\n"
     ]
    },
    {
     "name": "stderr",
     "output_type": "stream",
     "text": [
      "/Users/ceglian/gvenv/lib/python3.9/site-packages/scanpy/tools/_score_genes.py:151: FutureWarning: Passing a set as an indexer is deprecated and will raise in a future version. Use a list instead.\n",
      "  for cut in np.unique(obs_cut.loc[gene_list]):\n",
      "/Users/ceglian/gvenv/lib/python3.9/site-packages/scanpy/tools/_score_genes.py:175: PerformanceWarning: DataFrame is highly fragmented.  This is usually the result of calling `frame.insert` many times, which has poor performance.  Consider joining all columns at once using pd.concat(axis=1) instead. To get a de-fragmented frame, use `newframe = frame.copy()`\n",
      "  adata.obs[score_name] = pd.Series(\n",
      "/Users/ceglian/gvenv/lib/python3.9/site-packages/genevector-0.1.0-py3.9.egg/genevector/embedding.py:152: PerformanceWarning: DataFrame is highly fragmented.  This is usually the result of calling `frame.insert` many times, which has poor performance.  Consider joining all columns at once using pd.concat(axis=1) instead. To get a de-fragmented frame, use `newframe = frame.copy()`\n",
      "  adata.obs[str(p)+\"_SCORE\"] = 0.\n",
      "/Users/ceglian/gvenv/lib/python3.9/site-packages/genevector-0.1.0-py3.9.egg/genevector/embedding.py:152: PerformanceWarning: DataFrame is highly fragmented.  This is usually the result of calling `frame.insert` many times, which has poor performance.  Consider joining all columns at once using pd.concat(axis=1) instead. To get a de-fragmented frame, use `newframe = frame.copy()`\n",
      "  adata.obs[str(p)+\"_SCORE\"] = 0.\n",
      "/Users/ceglian/gvenv/lib/python3.9/site-packages/scanpy/tools/_score_genes.py:151: FutureWarning: Passing a set as an indexer is deprecated and will raise in a future version. Use a list instead.\n",
      "  for cut in np.unique(obs_cut.loc[gene_list]):\n"
     ]
    },
    {
     "name": "stdout",
     "output_type": "stream",
     "text": [
      "    finished: added\n",
      "    '36_SCORE', score of gene set (adata.obs).\n",
      "    292 total control genes are used. (0:00:00)\n",
      "computing score '185_SCORE'\n",
      "WARNING: genes are not in var_names and ignored: ['PCOLCE2', 'SYT12', 'PMP22']\n",
      "    finished: added\n",
      "    '185_SCORE', score of gene set (adata.obs).\n",
      "    147 total control genes are used. (0:00:00)\n",
      "computing score '135_SCORE'\n",
      "WARNING: genes are not in var_names and ignored: ['TIPARP', 'RASSF9', 'ERO1A', 'ALYREF', 'CENPX', 'CTCFL']\n"
     ]
    },
    {
     "name": "stderr",
     "output_type": "stream",
     "text": [
      "/Users/ceglian/gvenv/lib/python3.9/site-packages/scanpy/tools/_score_genes.py:175: PerformanceWarning: DataFrame is highly fragmented.  This is usually the result of calling `frame.insert` many times, which has poor performance.  Consider joining all columns at once using pd.concat(axis=1) instead. To get a de-fragmented frame, use `newframe = frame.copy()`\n",
      "  adata.obs[score_name] = pd.Series(\n",
      "/Users/ceglian/gvenv/lib/python3.9/site-packages/scanpy/tools/_score_genes.py:151: FutureWarning: Passing a set as an indexer is deprecated and will raise in a future version. Use a list instead.\n",
      "  for cut in np.unique(obs_cut.loc[gene_list]):\n",
      "/Users/ceglian/gvenv/lib/python3.9/site-packages/scanpy/tools/_score_genes.py:175: PerformanceWarning: DataFrame is highly fragmented.  This is usually the result of calling `frame.insert` many times, which has poor performance.  Consider joining all columns at once using pd.concat(axis=1) instead. To get a de-fragmented frame, use `newframe = frame.copy()`\n",
      "  adata.obs[score_name] = pd.Series(\n"
     ]
    },
    {
     "name": "stdout",
     "output_type": "stream",
     "text": [
      "    finished: added\n",
      "    '135_SCORE', score of gene set (adata.obs).\n",
      "    98 total control genes are used. (0:00:00)\n",
      "computing score '106_SCORE'\n",
      "WARNING: genes are not in var_names and ignored: ['PGM5', 'HRASLS2', 'FZD8', 'ZNF486']\n"
     ]
    },
    {
     "name": "stderr",
     "output_type": "stream",
     "text": [
      "/Users/ceglian/gvenv/lib/python3.9/site-packages/scanpy/tools/_score_genes.py:151: FutureWarning: Passing a set as an indexer is deprecated and will raise in a future version. Use a list instead.\n",
      "  for cut in np.unique(obs_cut.loc[gene_list]):\n",
      "/Users/ceglian/gvenv/lib/python3.9/site-packages/scanpy/tools/_score_genes.py:175: PerformanceWarning: DataFrame is highly fragmented.  This is usually the result of calling `frame.insert` many times, which has poor performance.  Consider joining all columns at once using pd.concat(axis=1) instead. To get a de-fragmented frame, use `newframe = frame.copy()`\n",
      "  adata.obs[score_name] = pd.Series(\n",
      "/Users/ceglian/gvenv/lib/python3.9/site-packages/scanpy/tools/_score_genes.py:151: FutureWarning: Passing a set as an indexer is deprecated and will raise in a future version. Use a list instead.\n",
      "  for cut in np.unique(obs_cut.loc[gene_list]):\n"
     ]
    },
    {
     "name": "stdout",
     "output_type": "stream",
     "text": [
      "    finished: added\n",
      "    '106_SCORE', score of gene set (adata.obs).\n",
      "    195 total control genes are used. (0:00:00)\n",
      "computing score '225_SCORE'\n",
      "WARNING: genes are not in var_names and ignored: ['SERPINI2', 'FILIP1', 'RTKN2']\n",
      "    finished: added\n",
      "    '225_SCORE', score of gene set (adata.obs).\n",
      "    98 total control genes are used. (0:00:00)\n",
      "computing score '264_SCORE'\n",
      "WARNING: genes are not in var_names and ignored: ['C3']\n"
     ]
    },
    {
     "name": "stderr",
     "output_type": "stream",
     "text": [
      "/Users/ceglian/gvenv/lib/python3.9/site-packages/scanpy/tools/_score_genes.py:175: PerformanceWarning: DataFrame is highly fragmented.  This is usually the result of calling `frame.insert` many times, which has poor performance.  Consider joining all columns at once using pd.concat(axis=1) instead. To get a de-fragmented frame, use `newframe = frame.copy()`\n",
      "  adata.obs[score_name] = pd.Series(\n",
      "/Users/ceglian/gvenv/lib/python3.9/site-packages/scanpy/tools/_score_genes.py:151: FutureWarning: Passing a set as an indexer is deprecated and will raise in a future version. Use a list instead.\n",
      "  for cut in np.unique(obs_cut.loc[gene_list]):\n",
      "/Users/ceglian/gvenv/lib/python3.9/site-packages/scanpy/tools/_score_genes.py:175: PerformanceWarning: DataFrame is highly fragmented.  This is usually the result of calling `frame.insert` many times, which has poor performance.  Consider joining all columns at once using pd.concat(axis=1) instead. To get a de-fragmented frame, use `newframe = frame.copy()`\n",
      "  adata.obs[score_name] = pd.Series(\n"
     ]
    },
    {
     "name": "stdout",
     "output_type": "stream",
     "text": [
      "    finished: added\n",
      "    '264_SCORE', score of gene set (adata.obs).\n",
      "    97 total control genes are used. (0:00:00)\n",
      "computing score '154_SCORE'\n",
      "WARNING: genes are not in var_names and ignored: ['EPHB3', 'SLC39A8', 'CYP2U1', 'PPP2R2B', 'SLC15A3', 'SORBS1', 'CABLES1']\n",
      "computing score '151_SCORE'\n",
      "WARNING: genes are not in var_names and ignored: ['ETV5', 'RAI2', 'DUSP4', 'PAG1', 'EPN3']\n"
     ]
    },
    {
     "name": "stderr",
     "output_type": "stream",
     "text": [
      "/Users/ceglian/gvenv/lib/python3.9/site-packages/scanpy/tools/_score_genes.py:151: FutureWarning: Passing a set as an indexer is deprecated and will raise in a future version. Use a list instead.\n",
      "  for cut in np.unique(obs_cut.loc[gene_list]):\n",
      "/Users/ceglian/gvenv/lib/python3.9/site-packages/scanpy/tools/_score_genes.py:175: PerformanceWarning: DataFrame is highly fragmented.  This is usually the result of calling `frame.insert` many times, which has poor performance.  Consider joining all columns at once using pd.concat(axis=1) instead. To get a de-fragmented frame, use `newframe = frame.copy()`\n",
      "  adata.obs[score_name] = pd.Series(\n",
      "/Users/ceglian/gvenv/lib/python3.9/site-packages/genevector-0.1.0-py3.9.egg/genevector/embedding.py:152: PerformanceWarning: DataFrame is highly fragmented.  This is usually the result of calling `frame.insert` many times, which has poor performance.  Consider joining all columns at once using pd.concat(axis=1) instead. To get a de-fragmented frame, use `newframe = frame.copy()`\n",
      "  adata.obs[str(p)+\"_SCORE\"] = 0.\n"
     ]
    },
    {
     "name": "stdout",
     "output_type": "stream",
     "text": [
      "    finished: added\n",
      "    '151_SCORE', score of gene set (adata.obs).\n",
      "    98 total control genes are used. (0:00:00)\n",
      "computing score '198_SCORE'\n",
      "WARNING: genes are not in var_names and ignored: ['ST6GAL1', 'SLC44A4', 'SLC6A8', 'FAM129B', 'ALDH2']\n"
     ]
    },
    {
     "name": "stderr",
     "output_type": "stream",
     "text": [
      "/Users/ceglian/gvenv/lib/python3.9/site-packages/scanpy/tools/_score_genes.py:151: FutureWarning: Passing a set as an indexer is deprecated and will raise in a future version. Use a list instead.\n",
      "  for cut in np.unique(obs_cut.loc[gene_list]):\n",
      "/Users/ceglian/gvenv/lib/python3.9/site-packages/scanpy/tools/_score_genes.py:175: PerformanceWarning: DataFrame is highly fragmented.  This is usually the result of calling `frame.insert` many times, which has poor performance.  Consider joining all columns at once using pd.concat(axis=1) instead. To get a de-fragmented frame, use `newframe = frame.copy()`\n",
      "  adata.obs[score_name] = pd.Series(\n",
      "/Users/ceglian/gvenv/lib/python3.9/site-packages/scanpy/tools/_score_genes.py:151: FutureWarning: Passing a set as an indexer is deprecated and will raise in a future version. Use a list instead.\n",
      "  for cut in np.unique(obs_cut.loc[gene_list]):\n"
     ]
    },
    {
     "name": "stdout",
     "output_type": "stream",
     "text": [
      "    finished: added\n",
      "    '198_SCORE', score of gene set (adata.obs).\n",
      "    49 total control genes are used. (0:00:00)\n",
      "computing score '223_SCORE'\n"
     ]
    },
    {
     "name": "stderr",
     "output_type": "stream",
     "text": [
      "/Users/ceglian/gvenv/lib/python3.9/site-packages/scanpy/tools/_score_genes.py:175: PerformanceWarning: DataFrame is highly fragmented.  This is usually the result of calling `frame.insert` many times, which has poor performance.  Consider joining all columns at once using pd.concat(axis=1) instead. To get a de-fragmented frame, use `newframe = frame.copy()`\n",
      "  adata.obs[score_name] = pd.Series(\n",
      "/Users/ceglian/gvenv/lib/python3.9/site-packages/scanpy/tools/_score_genes.py:151: FutureWarning: Passing a set as an indexer is deprecated and will raise in a future version. Use a list instead.\n",
      "  for cut in np.unique(obs_cut.loc[gene_list]):\n"
     ]
    },
    {
     "name": "stdout",
     "output_type": "stream",
     "text": [
      "    finished: added\n",
      "    '223_SCORE', score of gene set (adata.obs).\n",
      "    195 total control genes are used. (0:00:00)\n",
      "computing score '150_SCORE'\n",
      "WARNING: genes are not in var_names and ignored: ['IL1RAP', 'IL17B', 'HEY2', 'STON2', 'CAVIN1', 'ZNF738']\n",
      "    finished: added\n",
      "    '150_SCORE', score of gene set (adata.obs).\n",
      "    49 total control genes are used. (0:00:00)\n",
      "computing score '127_SCORE'\n",
      "WARNING: genes are not in var_names and ignored: ['FLNA', 'TSC22D1']\n"
     ]
    },
    {
     "name": "stderr",
     "output_type": "stream",
     "text": [
      "/Users/ceglian/gvenv/lib/python3.9/site-packages/scanpy/tools/_score_genes.py:175: PerformanceWarning: DataFrame is highly fragmented.  This is usually the result of calling `frame.insert` many times, which has poor performance.  Consider joining all columns at once using pd.concat(axis=1) instead. To get a de-fragmented frame, use `newframe = frame.copy()`\n",
      "  adata.obs[score_name] = pd.Series(\n",
      "/Users/ceglian/gvenv/lib/python3.9/site-packages/scanpy/tools/_score_genes.py:151: FutureWarning: Passing a set as an indexer is deprecated and will raise in a future version. Use a list instead.\n",
      "  for cut in np.unique(obs_cut.loc[gene_list]):\n",
      "/Users/ceglian/gvenv/lib/python3.9/site-packages/scanpy/tools/_score_genes.py:175: PerformanceWarning: DataFrame is highly fragmented.  This is usually the result of calling `frame.insert` many times, which has poor performance.  Consider joining all columns at once using pd.concat(axis=1) instead. To get a de-fragmented frame, use `newframe = frame.copy()`\n",
      "  adata.obs[score_name] = pd.Series(\n"
     ]
    },
    {
     "name": "stdout",
     "output_type": "stream",
     "text": [
      "    finished: added\n",
      "    '127_SCORE', score of gene set (adata.obs).\n",
      "    244 total control genes are used. (0:00:00)\n",
      "computing score '205_SCORE'\n",
      "WARNING: genes are not in var_names and ignored: ['TCTEX1D2', 'C4ORF48', 'CEP85L', 'AKR1C3', 'PLTP']\n"
     ]
    },
    {
     "name": "stderr",
     "output_type": "stream",
     "text": [
      "/Users/ceglian/gvenv/lib/python3.9/site-packages/scanpy/tools/_score_genes.py:151: FutureWarning: Passing a set as an indexer is deprecated and will raise in a future version. Use a list instead.\n",
      "  for cut in np.unique(obs_cut.loc[gene_list]):\n",
      "/Users/ceglian/gvenv/lib/python3.9/site-packages/scanpy/tools/_score_genes.py:175: PerformanceWarning: DataFrame is highly fragmented.  This is usually the result of calling `frame.insert` many times, which has poor performance.  Consider joining all columns at once using pd.concat(axis=1) instead. To get a de-fragmented frame, use `newframe = frame.copy()`\n",
      "  adata.obs[score_name] = pd.Series(\n",
      "/Users/ceglian/gvenv/lib/python3.9/site-packages/scanpy/tools/_score_genes.py:151: FutureWarning: Passing a set as an indexer is deprecated and will raise in a future version. Use a list instead.\n",
      "  for cut in np.unique(obs_cut.loc[gene_list]):\n"
     ]
    },
    {
     "name": "stdout",
     "output_type": "stream",
     "text": [
      "    finished: added\n",
      "    '205_SCORE', score of gene set (adata.obs).\n",
      "    49 total control genes are used. (0:00:00)\n",
      "computing score '219_SCORE'\n",
      "WARNING: genes are not in var_names and ignored: ['TMEM213', 'FXYD4', 'SLC12A3']\n",
      "    finished: added\n",
      "    '219_SCORE', score of gene set (adata.obs).\n",
      "    146 total control genes are used. (0:00:00)\n",
      "computing score '274_SCORE'\n",
      "WARNING: genes are not in var_names and ignored: ['MID1IP1', 'MRPS2']\n"
     ]
    },
    {
     "name": "stderr",
     "output_type": "stream",
     "text": [
      "/Users/ceglian/gvenv/lib/python3.9/site-packages/scanpy/tools/_score_genes.py:175: PerformanceWarning: DataFrame is highly fragmented.  This is usually the result of calling `frame.insert` many times, which has poor performance.  Consider joining all columns at once using pd.concat(axis=1) instead. To get a de-fragmented frame, use `newframe = frame.copy()`\n",
      "  adata.obs[score_name] = pd.Series(\n",
      "/Users/ceglian/gvenv/lib/python3.9/site-packages/scanpy/tools/_score_genes.py:151: FutureWarning: Passing a set as an indexer is deprecated and will raise in a future version. Use a list instead.\n",
      "  for cut in np.unique(obs_cut.loc[gene_list]):\n",
      "/Users/ceglian/gvenv/lib/python3.9/site-packages/scanpy/tools/_score_genes.py:175: PerformanceWarning: DataFrame is highly fragmented.  This is usually the result of calling `frame.insert` many times, which has poor performance.  Consider joining all columns at once using pd.concat(axis=1) instead. To get a de-fragmented frame, use `newframe = frame.copy()`\n",
      "  adata.obs[score_name] = pd.Series(\n"
     ]
    },
    {
     "name": "stdout",
     "output_type": "stream",
     "text": [
      "    finished: added\n",
      "    '274_SCORE', score of gene set (adata.obs).\n",
      "    98 total control genes are used. (0:00:00)\n",
      "computing score '231_SCORE'\n",
      "WARNING: genes are not in var_names and ignored: ['LAP3', 'HLA-E']\n"
     ]
    },
    {
     "name": "stderr",
     "output_type": "stream",
     "text": [
      "/Users/ceglian/gvenv/lib/python3.9/site-packages/scanpy/tools/_score_genes.py:151: FutureWarning: Passing a set as an indexer is deprecated and will raise in a future version. Use a list instead.\n",
      "  for cut in np.unique(obs_cut.loc[gene_list]):\n",
      "/Users/ceglian/gvenv/lib/python3.9/site-packages/scanpy/tools/_score_genes.py:175: PerformanceWarning: DataFrame is highly fragmented.  This is usually the result of calling `frame.insert` many times, which has poor performance.  Consider joining all columns at once using pd.concat(axis=1) instead. To get a de-fragmented frame, use `newframe = frame.copy()`\n",
      "  adata.obs[score_name] = pd.Series(\n",
      "/Users/ceglian/gvenv/lib/python3.9/site-packages/scanpy/tools/_score_genes.py:151: FutureWarning: Passing a set as an indexer is deprecated and will raise in a future version. Use a list instead.\n",
      "  for cut in np.unique(obs_cut.loc[gene_list]):\n"
     ]
    },
    {
     "name": "stdout",
     "output_type": "stream",
     "text": [
      "    finished: added\n",
      "    '231_SCORE', score of gene set (adata.obs).\n",
      "    147 total control genes are used. (0:00:00)\n",
      "computing score '160_SCORE'\n",
      "WARNING: genes are not in var_names and ignored: ['C4ORF3', 'CSRP2', 'C12ORF75', 'PSMC4']\n"
     ]
    },
    {
     "name": "stderr",
     "output_type": "stream",
     "text": [
      "/Users/ceglian/gvenv/lib/python3.9/site-packages/scanpy/tools/_score_genes.py:175: PerformanceWarning: DataFrame is highly fragmented.  This is usually the result of calling `frame.insert` many times, which has poor performance.  Consider joining all columns at once using pd.concat(axis=1) instead. To get a de-fragmented frame, use `newframe = frame.copy()`\n",
      "  adata.obs[score_name] = pd.Series(\n",
      "/Users/ceglian/gvenv/lib/python3.9/site-packages/scanpy/tools/_score_genes.py:151: FutureWarning: Passing a set as an indexer is deprecated and will raise in a future version. Use a list instead.\n",
      "  for cut in np.unique(obs_cut.loc[gene_list]):\n"
     ]
    },
    {
     "name": "stdout",
     "output_type": "stream",
     "text": [
      "    finished: added\n",
      "    '160_SCORE', score of gene set (adata.obs).\n",
      "    147 total control genes are used. (0:00:00)\n",
      "computing score '282_SCORE'\n",
      "WARNING: genes are not in var_names and ignored: ['SRD5A3', 'CTSD', 'LMO7', 'UNC13D']\n",
      "computing score '99_SCORE'\n",
      "WARNING: genes are not in var_names and ignored: ['UGT2B17', 'SPINK7', 'TRIM55']\n",
      "    finished: added\n",
      "    '99_SCORE', score of gene set (adata.obs).\n",
      "    244 total control genes are used. (0:00:00)\n",
      "computing score '300_SCORE'\n"
     ]
    },
    {
     "name": "stderr",
     "output_type": "stream",
     "text": [
      "/Users/ceglian/gvenv/lib/python3.9/site-packages/scanpy/tools/_score_genes.py:175: PerformanceWarning: DataFrame is highly fragmented.  This is usually the result of calling `frame.insert` many times, which has poor performance.  Consider joining all columns at once using pd.concat(axis=1) instead. To get a de-fragmented frame, use `newframe = frame.copy()`\n",
      "  adata.obs[score_name] = pd.Series(\n",
      "/Users/ceglian/gvenv/lib/python3.9/site-packages/genevector-0.1.0-py3.9.egg/genevector/embedding.py:152: PerformanceWarning: DataFrame is highly fragmented.  This is usually the result of calling `frame.insert` many times, which has poor performance.  Consider joining all columns at once using pd.concat(axis=1) instead. To get a de-fragmented frame, use `newframe = frame.copy()`\n",
      "  adata.obs[str(p)+\"_SCORE\"] = 0.\n",
      "/Users/ceglian/gvenv/lib/python3.9/site-packages/scanpy/tools/_score_genes.py:151: FutureWarning: Passing a set as an indexer is deprecated and will raise in a future version. Use a list instead.\n",
      "  for cut in np.unique(obs_cut.loc[gene_list]):\n",
      "/Users/ceglian/gvenv/lib/python3.9/site-packages/scanpy/tools/_score_genes.py:175: PerformanceWarning: DataFrame is highly fragmented.  This is usually the result of calling `frame.insert` many times, which has poor performance.  Consider joining all columns at once using pd.concat(axis=1) instead. To get a de-fragmented frame, use `newframe = frame.copy()`\n",
      "  adata.obs[score_name] = pd.Series(\n"
     ]
    },
    {
     "name": "stdout",
     "output_type": "stream",
     "text": [
      "    finished: added\n",
      "    '300_SCORE', score of gene set (adata.obs).\n",
      "    147 total control genes are used. (0:00:00)\n",
      "computing score '260_SCORE'\n",
      "WARNING: genes are not in var_names and ignored: ['SLC13A2', 'PIPOX', 'LGALS2']\n"
     ]
    },
    {
     "name": "stderr",
     "output_type": "stream",
     "text": [
      "/Users/ceglian/gvenv/lib/python3.9/site-packages/scanpy/tools/_score_genes.py:151: FutureWarning: Passing a set as an indexer is deprecated and will raise in a future version. Use a list instead.\n",
      "  for cut in np.unique(obs_cut.loc[gene_list]):\n",
      "/Users/ceglian/gvenv/lib/python3.9/site-packages/scanpy/tools/_score_genes.py:175: PerformanceWarning: DataFrame is highly fragmented.  This is usually the result of calling `frame.insert` many times, which has poor performance.  Consider joining all columns at once using pd.concat(axis=1) instead. To get a de-fragmented frame, use `newframe = frame.copy()`\n",
      "  adata.obs[score_name] = pd.Series(\n",
      "/Users/ceglian/gvenv/lib/python3.9/site-packages/scanpy/tools/_score_genes.py:151: FutureWarning: Passing a set as an indexer is deprecated and will raise in a future version. Use a list instead.\n",
      "  for cut in np.unique(obs_cut.loc[gene_list]):\n"
     ]
    },
    {
     "name": "stdout",
     "output_type": "stream",
     "text": [
      "    finished: added\n",
      "    '260_SCORE', score of gene set (adata.obs).\n",
      "    98 total control genes are used. (0:00:00)\n",
      "computing score '267_SCORE'\n",
      "WARNING: genes are not in var_names and ignored: ['ANXA3', 'SYK', 'C9ORF3', 'TUBB6']\n",
      "computing score '91_SCORE'\n",
      "WARNING: genes are not in var_names and ignored: ['BMP3', 'KAZALD1', 'FGF9', 'SPRY2']\n",
      "    finished: added\n",
      "    '91_SCORE', score of gene set (adata.obs).\n",
      "    245 total control genes are used. (0:00:00)\n",
      "computing score '163_SCORE'\n",
      "WARNING: genes are not in var_names and ignored: ['SNHG8', 'SELENOP', 'MYL6B', 'PET100']\n"
     ]
    },
    {
     "name": "stderr",
     "output_type": "stream",
     "text": [
      "/Users/ceglian/gvenv/lib/python3.9/site-packages/scanpy/tools/_score_genes.py:175: PerformanceWarning: DataFrame is highly fragmented.  This is usually the result of calling `frame.insert` many times, which has poor performance.  Consider joining all columns at once using pd.concat(axis=1) instead. To get a de-fragmented frame, use `newframe = frame.copy()`\n",
      "  adata.obs[score_name] = pd.Series(\n",
      "/Users/ceglian/gvenv/lib/python3.9/site-packages/genevector-0.1.0-py3.9.egg/genevector/embedding.py:152: PerformanceWarning: DataFrame is highly fragmented.  This is usually the result of calling `frame.insert` many times, which has poor performance.  Consider joining all columns at once using pd.concat(axis=1) instead. To get a de-fragmented frame, use `newframe = frame.copy()`\n",
      "  adata.obs[str(p)+\"_SCORE\"] = 0.\n",
      "/Users/ceglian/gvenv/lib/python3.9/site-packages/scanpy/tools/_score_genes.py:151: FutureWarning: Passing a set as an indexer is deprecated and will raise in a future version. Use a list instead.\n",
      "  for cut in np.unique(obs_cut.loc[gene_list]):\n",
      "/Users/ceglian/gvenv/lib/python3.9/site-packages/scanpy/tools/_score_genes.py:175: PerformanceWarning: DataFrame is highly fragmented.  This is usually the result of calling `frame.insert` many times, which has poor performance.  Consider joining all columns at once using pd.concat(axis=1) instead. To get a de-fragmented frame, use `newframe = frame.copy()`\n",
      "  adata.obs[score_name] = pd.Series(\n"
     ]
    },
    {
     "name": "stdout",
     "output_type": "stream",
     "text": [
      "    finished: added\n",
      "    '163_SCORE', score of gene set (adata.obs).\n",
      "    97 total control genes are used. (0:00:00)\n",
      "computing score '164_SCORE'\n",
      "WARNING: genes are not in var_names and ignored: ['MAD2L1', 'TTK', 'PHF19', 'KIF20B', 'RACGAP1', 'PARPBP', 'CKAP2']\n",
      "computing score '227_SCORE'\n",
      "WARNING: genes are not in var_names and ignored: ['GUCY1B1', 'DDX60', 'SLC12A2', 'CYB5R2', 'SECTM1']\n",
      "computing score '180_SCORE'\n",
      "WARNING: genes are not in var_names and ignored: ['SAP30', 'DBF4', 'BRCA2', 'FAM20A']\n"
     ]
    },
    {
     "name": "stderr",
     "output_type": "stream",
     "text": [
      "/Users/ceglian/gvenv/lib/python3.9/site-packages/scanpy/tools/_score_genes.py:151: FutureWarning: Passing a set as an indexer is deprecated and will raise in a future version. Use a list instead.\n",
      "  for cut in np.unique(obs_cut.loc[gene_list]):\n",
      "/Users/ceglian/gvenv/lib/python3.9/site-packages/scanpy/tools/_score_genes.py:175: PerformanceWarning: DataFrame is highly fragmented.  This is usually the result of calling `frame.insert` many times, which has poor performance.  Consider joining all columns at once using pd.concat(axis=1) instead. To get a de-fragmented frame, use `newframe = frame.copy()`\n",
      "  adata.obs[score_name] = pd.Series(\n",
      "/Users/ceglian/gvenv/lib/python3.9/site-packages/genevector-0.1.0-py3.9.egg/genevector/embedding.py:152: PerformanceWarning: DataFrame is highly fragmented.  This is usually the result of calling `frame.insert` many times, which has poor performance.  Consider joining all columns at once using pd.concat(axis=1) instead. To get a de-fragmented frame, use `newframe = frame.copy()`\n",
      "  adata.obs[str(p)+\"_SCORE\"] = 0.\n",
      "/Users/ceglian/gvenv/lib/python3.9/site-packages/genevector-0.1.0-py3.9.egg/genevector/embedding.py:152: PerformanceWarning: DataFrame is highly fragmented.  This is usually the result of calling `frame.insert` many times, which has poor performance.  Consider joining all columns at once using pd.concat(axis=1) instead. To get a de-fragmented frame, use `newframe = frame.copy()`\n",
      "  adata.obs[str(p)+\"_SCORE\"] = 0.\n"
     ]
    },
    {
     "name": "stdout",
     "output_type": "stream",
     "text": [
      "    finished: added\n",
      "    '180_SCORE', score of gene set (adata.obs).\n",
      "    98 total control genes are used. (0:00:00)\n",
      "computing score '114_SCORE'\n",
      "WARNING: genes are not in var_names and ignored: ['CENPK', 'XRCC2', 'SMC2', 'CDCA5', 'H2AFX', 'RAD51AP1', 'CENPM', 'C21ORF58']\n"
     ]
    },
    {
     "name": "stderr",
     "output_type": "stream",
     "text": [
      "/Users/ceglian/gvenv/lib/python3.9/site-packages/scanpy/tools/_score_genes.py:151: FutureWarning: Passing a set as an indexer is deprecated and will raise in a future version. Use a list instead.\n",
      "  for cut in np.unique(obs_cut.loc[gene_list]):\n",
      "/Users/ceglian/gvenv/lib/python3.9/site-packages/scanpy/tools/_score_genes.py:175: PerformanceWarning: DataFrame is highly fragmented.  This is usually the result of calling `frame.insert` many times, which has poor performance.  Consider joining all columns at once using pd.concat(axis=1) instead. To get a de-fragmented frame, use `newframe = frame.copy()`\n",
      "  adata.obs[score_name] = pd.Series(\n",
      "/Users/ceglian/gvenv/lib/python3.9/site-packages/scanpy/tools/_score_genes.py:151: FutureWarning: Passing a set as an indexer is deprecated and will raise in a future version. Use a list instead.\n",
      "  for cut in np.unique(obs_cut.loc[gene_list]):\n"
     ]
    },
    {
     "name": "stdout",
     "output_type": "stream",
     "text": [
      "    finished: added\n",
      "    '114_SCORE', score of gene set (adata.obs).\n",
      "    49 total control genes are used. (0:00:00)\n",
      "computing score '249_SCORE'\n",
      "WARNING: genes are not in var_names and ignored: ['PRICKLE1', 'HOXB8', 'ADAMTS5']\n",
      "    finished: added\n",
      "    '249_SCORE', score of gene set (adata.obs).\n",
      "    98 total control genes are used. (0:00:00)\n",
      "computing score '301_SCORE'\n",
      "WARNING: genes are not in var_names and ignored: ['PAM', 'HAPLN3', 'APOL2']\n",
      "computing score '87_SCORE'\n",
      "WARNING: genes are not in var_names and ignored: ['PCDH1', 'SCML1', 'MROH6', 'PARP10', 'LYRM1', 'ASPHD1', 'AARS', 'BACE2']\n"
     ]
    },
    {
     "name": "stderr",
     "output_type": "stream",
     "text": [
      "/Users/ceglian/gvenv/lib/python3.9/site-packages/scanpy/tools/_score_genes.py:175: PerformanceWarning: DataFrame is highly fragmented.  This is usually the result of calling `frame.insert` many times, which has poor performance.  Consider joining all columns at once using pd.concat(axis=1) instead. To get a de-fragmented frame, use `newframe = frame.copy()`\n",
      "  adata.obs[score_name] = pd.Series(\n",
      "/Users/ceglian/gvenv/lib/python3.9/site-packages/scanpy/tools/_score_genes.py:151: FutureWarning: Passing a set as an indexer is deprecated and will raise in a future version. Use a list instead.\n",
      "  for cut in np.unique(obs_cut.loc[gene_list]):\n",
      "/Users/ceglian/gvenv/lib/python3.9/site-packages/scanpy/tools/_score_genes.py:175: PerformanceWarning: DataFrame is highly fragmented.  This is usually the result of calling `frame.insert` many times, which has poor performance.  Consider joining all columns at once using pd.concat(axis=1) instead. To get a de-fragmented frame, use `newframe = frame.copy()`\n",
      "  adata.obs[score_name] = pd.Series(\n",
      "/Users/ceglian/gvenv/lib/python3.9/site-packages/genevector-0.1.0-py3.9.egg/genevector/embedding.py:152: PerformanceWarning: DataFrame is highly fragmented.  This is usually the result of calling `frame.insert` many times, which has poor performance.  Consider joining all columns at once using pd.concat(axis=1) instead. To get a de-fragmented frame, use `newframe = frame.copy()`\n",
      "  adata.obs[str(p)+\"_SCORE\"] = 0.\n"
     ]
    },
    {
     "name": "stdout",
     "output_type": "stream",
     "text": [
      "    finished: added\n",
      "    '87_SCORE', score of gene set (adata.obs).\n",
      "    98 total control genes are used. (0:00:00)\n",
      "computing score '297_SCORE'\n",
      "WARNING: genes are not in var_names and ignored: ['NEURL1B', 'NDE1', 'PRR11']\n",
      "computing score '126_SCORE'\n",
      "WARNING: genes are not in var_names and ignored: ['CPEB4', 'PPP1R14C', 'PDP1', 'RNF139', 'LAYN', 'ZNF248', 'C14ORF132', 'ADGRL1']\n",
      "computing score '292_SCORE'\n",
      "WARNING: genes are not in var_names and ignored: ['BTNL9', 'PNCK']\n"
     ]
    },
    {
     "name": "stderr",
     "output_type": "stream",
     "text": [
      "/Users/ceglian/gvenv/lib/python3.9/site-packages/scanpy/tools/_score_genes.py:151: FutureWarning: Passing a set as an indexer is deprecated and will raise in a future version. Use a list instead.\n",
      "  for cut in np.unique(obs_cut.loc[gene_list]):\n",
      "/Users/ceglian/gvenv/lib/python3.9/site-packages/scanpy/tools/_score_genes.py:175: PerformanceWarning: DataFrame is highly fragmented.  This is usually the result of calling `frame.insert` many times, which has poor performance.  Consider joining all columns at once using pd.concat(axis=1) instead. To get a de-fragmented frame, use `newframe = frame.copy()`\n",
      "  adata.obs[score_name] = pd.Series(\n",
      "/Users/ceglian/gvenv/lib/python3.9/site-packages/genevector-0.1.0-py3.9.egg/genevector/embedding.py:152: PerformanceWarning: DataFrame is highly fragmented.  This is usually the result of calling `frame.insert` many times, which has poor performance.  Consider joining all columns at once using pd.concat(axis=1) instead. To get a de-fragmented frame, use `newframe = frame.copy()`\n",
      "  adata.obs[str(p)+\"_SCORE\"] = 0.\n",
      "/Users/ceglian/gvenv/lib/python3.9/site-packages/genevector-0.1.0-py3.9.egg/genevector/embedding.py:152: PerformanceWarning: DataFrame is highly fragmented.  This is usually the result of calling `frame.insert` many times, which has poor performance.  Consider joining all columns at once using pd.concat(axis=1) instead. To get a de-fragmented frame, use `newframe = frame.copy()`\n",
      "  adata.obs[str(p)+\"_SCORE\"] = 0.\n",
      "/Users/ceglian/gvenv/lib/python3.9/site-packages/scanpy/tools/_score_genes.py:151: FutureWarning: Passing a set as an indexer is deprecated and will raise in a future version. Use a list instead.\n",
      "  for cut in np.unique(obs_cut.loc[gene_list]):\n"
     ]
    },
    {
     "name": "stdout",
     "output_type": "stream",
     "text": [
      "    finished: added\n",
      "    '292_SCORE', score of gene set (adata.obs).\n",
      "    49 total control genes are used. (0:00:00)\n",
      "computing score '252_SCORE'\n",
      "WARNING: genes are not in var_names and ignored: ['TUBB2A', 'INCENP', 'RGS10', 'INTS6']\n",
      "    finished: added\n",
      "    '252_SCORE', score of gene set (adata.obs).\n",
      "    49 total control genes are used. (0:00:00)\n",
      "computing score '270_SCORE'\n",
      "WARNING: genes are not in var_names and ignored: ['BLM']\n"
     ]
    },
    {
     "name": "stderr",
     "output_type": "stream",
     "text": [
      "/Users/ceglian/gvenv/lib/python3.9/site-packages/scanpy/tools/_score_genes.py:175: PerformanceWarning: DataFrame is highly fragmented.  This is usually the result of calling `frame.insert` many times, which has poor performance.  Consider joining all columns at once using pd.concat(axis=1) instead. To get a de-fragmented frame, use `newframe = frame.copy()`\n",
      "  adata.obs[score_name] = pd.Series(\n",
      "/Users/ceglian/gvenv/lib/python3.9/site-packages/scanpy/tools/_score_genes.py:151: FutureWarning: Passing a set as an indexer is deprecated and will raise in a future version. Use a list instead.\n",
      "  for cut in np.unique(obs_cut.loc[gene_list]):\n",
      "/Users/ceglian/gvenv/lib/python3.9/site-packages/scanpy/tools/_score_genes.py:175: PerformanceWarning: DataFrame is highly fragmented.  This is usually the result of calling `frame.insert` many times, which has poor performance.  Consider joining all columns at once using pd.concat(axis=1) instead. To get a de-fragmented frame, use `newframe = frame.copy()`\n",
      "  adata.obs[score_name] = pd.Series(\n"
     ]
    },
    {
     "name": "stdout",
     "output_type": "stream",
     "text": [
      "    finished: added\n",
      "    '270_SCORE', score of gene set (adata.obs).\n",
      "    147 total control genes are used. (0:00:00)\n",
      "computing score '203_SCORE'\n",
      "WARNING: genes are not in var_names and ignored: ['PIM1', 'EIF4EBP1', 'TUBA1C', 'CEBPG', 'PEPD']\n"
     ]
    },
    {
     "name": "stderr",
     "output_type": "stream",
     "text": [
      "/Users/ceglian/gvenv/lib/python3.9/site-packages/scanpy/tools/_score_genes.py:151: FutureWarning: Passing a set as an indexer is deprecated and will raise in a future version. Use a list instead.\n",
      "  for cut in np.unique(obs_cut.loc[gene_list]):\n",
      "/Users/ceglian/gvenv/lib/python3.9/site-packages/scanpy/tools/_score_genes.py:175: PerformanceWarning: DataFrame is highly fragmented.  This is usually the result of calling `frame.insert` many times, which has poor performance.  Consider joining all columns at once using pd.concat(axis=1) instead. To get a de-fragmented frame, use `newframe = frame.copy()`\n",
      "  adata.obs[score_name] = pd.Series(\n",
      "/Users/ceglian/gvenv/lib/python3.9/site-packages/scanpy/tools/_score_genes.py:151: FutureWarning: Passing a set as an indexer is deprecated and will raise in a future version. Use a list instead.\n",
      "  for cut in np.unique(obs_cut.loc[gene_list]):\n"
     ]
    },
    {
     "name": "stdout",
     "output_type": "stream",
     "text": [
      "    finished: added\n",
      "    '203_SCORE', score of gene set (adata.obs).\n",
      "    49 total control genes are used. (0:00:00)\n",
      "computing score '188_SCORE'\n",
      "WARNING: genes are not in var_names and ignored: ['NOX4', 'VSIG2', 'CDH16']\n",
      "    finished: added\n",
      "    '188_SCORE', score of gene set (adata.obs).\n",
      "    147 total control genes are used. (0:00:00)\n",
      "computing score '134_SCORE'\n",
      "WARNING: genes are not in var_names and ignored: ['RAB32', 'L1CAM', 'KRT80', 'LILRA2']\n"
     ]
    },
    {
     "name": "stderr",
     "output_type": "stream",
     "text": [
      "/Users/ceglian/gvenv/lib/python3.9/site-packages/scanpy/tools/_score_genes.py:175: PerformanceWarning: DataFrame is highly fragmented.  This is usually the result of calling `frame.insert` many times, which has poor performance.  Consider joining all columns at once using pd.concat(axis=1) instead. To get a de-fragmented frame, use `newframe = frame.copy()`\n",
      "  adata.obs[score_name] = pd.Series(\n",
      "/Users/ceglian/gvenv/lib/python3.9/site-packages/scanpy/tools/_score_genes.py:151: FutureWarning: Passing a set as an indexer is deprecated and will raise in a future version. Use a list instead.\n",
      "  for cut in np.unique(obs_cut.loc[gene_list]):\n",
      "/Users/ceglian/gvenv/lib/python3.9/site-packages/scanpy/tools/_score_genes.py:175: PerformanceWarning: DataFrame is highly fragmented.  This is usually the result of calling `frame.insert` many times, which has poor performance.  Consider joining all columns at once using pd.concat(axis=1) instead. To get a de-fragmented frame, use `newframe = frame.copy()`\n",
      "  adata.obs[score_name] = pd.Series(\n"
     ]
    },
    {
     "name": "stdout",
     "output_type": "stream",
     "text": [
      "    finished: added\n",
      "    '134_SCORE', score of gene set (adata.obs).\n",
      "    196 total control genes are used. (0:00:00)\n",
      "computing score '295_SCORE'\n",
      "WARNING: genes are not in var_names and ignored: ['RRAGD', 'KLK2', 'AIRE']\n",
      "computing score '168_SCORE'\n",
      "WARNING: genes are not in var_names and ignored: ['ENPP1', 'IL23A', 'BCL11B']\n"
     ]
    },
    {
     "name": "stderr",
     "output_type": "stream",
     "text": [
      "/Users/ceglian/gvenv/lib/python3.9/site-packages/scanpy/tools/_score_genes.py:151: FutureWarning: Passing a set as an indexer is deprecated and will raise in a future version. Use a list instead.\n",
      "  for cut in np.unique(obs_cut.loc[gene_list]):\n",
      "/Users/ceglian/gvenv/lib/python3.9/site-packages/scanpy/tools/_score_genes.py:175: PerformanceWarning: DataFrame is highly fragmented.  This is usually the result of calling `frame.insert` many times, which has poor performance.  Consider joining all columns at once using pd.concat(axis=1) instead. To get a de-fragmented frame, use `newframe = frame.copy()`\n",
      "  adata.obs[score_name] = pd.Series(\n",
      "/Users/ceglian/gvenv/lib/python3.9/site-packages/genevector-0.1.0-py3.9.egg/genevector/embedding.py:152: PerformanceWarning: DataFrame is highly fragmented.  This is usually the result of calling `frame.insert` many times, which has poor performance.  Consider joining all columns at once using pd.concat(axis=1) instead. To get a de-fragmented frame, use `newframe = frame.copy()`\n",
      "  adata.obs[str(p)+\"_SCORE\"] = 0.\n",
      "/Users/ceglian/gvenv/lib/python3.9/site-packages/scanpy/tools/_score_genes.py:151: FutureWarning: Passing a set as an indexer is deprecated and will raise in a future version. Use a list instead.\n",
      "  for cut in np.unique(obs_cut.loc[gene_list]):\n"
     ]
    },
    {
     "name": "stdout",
     "output_type": "stream",
     "text": [
      "    finished: added\n",
      "    '168_SCORE', score of gene set (adata.obs).\n",
      "    196 total control genes are used. (0:00:00)\n",
      "computing score '187_SCORE'\n",
      "WARNING: genes are not in var_names and ignored: ['FBXO5', 'ESCO2', 'CIT', 'DIAPH3', 'CCNF']\n",
      "    finished: added\n",
      "    '187_SCORE', score of gene set (adata.obs).\n",
      "    49 total control genes are used. (0:00:00)\n",
      "computing score '190_SCORE'\n",
      "WARNING: genes are not in var_names and ignored: ['TOMM7', 'LSM8', 'SPON1', 'KIAA1551', 'PRDX2']\n"
     ]
    },
    {
     "name": "stderr",
     "output_type": "stream",
     "text": [
      "/Users/ceglian/gvenv/lib/python3.9/site-packages/scanpy/tools/_score_genes.py:175: PerformanceWarning: DataFrame is highly fragmented.  This is usually the result of calling `frame.insert` many times, which has poor performance.  Consider joining all columns at once using pd.concat(axis=1) instead. To get a de-fragmented frame, use `newframe = frame.copy()`\n",
      "  adata.obs[score_name] = pd.Series(\n",
      "/Users/ceglian/gvenv/lib/python3.9/site-packages/scanpy/tools/_score_genes.py:151: FutureWarning: Passing a set as an indexer is deprecated and will raise in a future version. Use a list instead.\n",
      "  for cut in np.unique(obs_cut.loc[gene_list]):\n",
      "/Users/ceglian/gvenv/lib/python3.9/site-packages/scanpy/tools/_score_genes.py:175: PerformanceWarning: DataFrame is highly fragmented.  This is usually the result of calling `frame.insert` many times, which has poor performance.  Consider joining all columns at once using pd.concat(axis=1) instead. To get a de-fragmented frame, use `newframe = frame.copy()`\n",
      "  adata.obs[score_name] = pd.Series(\n"
     ]
    },
    {
     "name": "stdout",
     "output_type": "stream",
     "text": [
      "    finished: added\n",
      "    '190_SCORE', score of gene set (adata.obs).\n",
      "    49 total control genes are used. (0:00:00)\n",
      "computing score '169_SCORE'\n",
      "WARNING: genes are not in var_names and ignored: ['TRGC2', 'ELK3', 'ANKRD13A', 'SIRPB1']\n"
     ]
    },
    {
     "name": "stderr",
     "output_type": "stream",
     "text": [
      "/Users/ceglian/gvenv/lib/python3.9/site-packages/scanpy/tools/_score_genes.py:151: FutureWarning: Passing a set as an indexer is deprecated and will raise in a future version. Use a list instead.\n",
      "  for cut in np.unique(obs_cut.loc[gene_list]):\n",
      "/Users/ceglian/gvenv/lib/python3.9/site-packages/scanpy/tools/_score_genes.py:175: PerformanceWarning: DataFrame is highly fragmented.  This is usually the result of calling `frame.insert` many times, which has poor performance.  Consider joining all columns at once using pd.concat(axis=1) instead. To get a de-fragmented frame, use `newframe = frame.copy()`\n",
      "  adata.obs[score_name] = pd.Series(\n",
      "/Users/ceglian/gvenv/lib/python3.9/site-packages/scanpy/tools/_score_genes.py:151: FutureWarning: Passing a set as an indexer is deprecated and will raise in a future version. Use a list instead.\n",
      "  for cut in np.unique(obs_cut.loc[gene_list]):\n"
     ]
    },
    {
     "name": "stdout",
     "output_type": "stream",
     "text": [
      "    finished: added\n",
      "    '169_SCORE', score of gene set (adata.obs).\n",
      "    97 total control genes are used. (0:00:00)\n",
      "computing score '279_SCORE'\n"
     ]
    },
    {
     "name": "stderr",
     "output_type": "stream",
     "text": [
      "/Users/ceglian/gvenv/lib/python3.9/site-packages/scanpy/tools/_score_genes.py:175: PerformanceWarning: DataFrame is highly fragmented.  This is usually the result of calling `frame.insert` many times, which has poor performance.  Consider joining all columns at once using pd.concat(axis=1) instead. To get a de-fragmented frame, use `newframe = frame.copy()`\n",
      "  adata.obs[score_name] = pd.Series(\n",
      "/Users/ceglian/gvenv/lib/python3.9/site-packages/scanpy/tools/_score_genes.py:151: FutureWarning: Passing a set as an indexer is deprecated and will raise in a future version. Use a list instead.\n",
      "  for cut in np.unique(obs_cut.loc[gene_list]):\n"
     ]
    },
    {
     "name": "stdout",
     "output_type": "stream",
     "text": [
      "    finished: added\n",
      "    '279_SCORE', score of gene set (adata.obs).\n",
      "    196 total control genes are used. (0:00:00)\n",
      "computing score '235_SCORE'\n",
      "WARNING: genes are not in var_names and ignored: ['NUPR2', 'ZNF704']\n"
     ]
    },
    {
     "name": "stderr",
     "output_type": "stream",
     "text": [
      "/Users/ceglian/gvenv/lib/python3.9/site-packages/scanpy/tools/_score_genes.py:175: PerformanceWarning: DataFrame is highly fragmented.  This is usually the result of calling `frame.insert` many times, which has poor performance.  Consider joining all columns at once using pd.concat(axis=1) instead. To get a de-fragmented frame, use `newframe = frame.copy()`\n",
      "  adata.obs[score_name] = pd.Series(\n",
      "/Users/ceglian/gvenv/lib/python3.9/site-packages/scanpy/tools/_score_genes.py:151: FutureWarning: Passing a set as an indexer is deprecated and will raise in a future version. Use a list instead.\n",
      "  for cut in np.unique(obs_cut.loc[gene_list]):\n"
     ]
    },
    {
     "name": "stdout",
     "output_type": "stream",
     "text": [
      "    finished: added\n",
      "    '235_SCORE', score of gene set (adata.obs).\n",
      "    147 total control genes are used. (0:00:00)\n",
      "computing score '94_SCORE'\n",
      "WARNING: genes are not in var_names and ignored: ['TBL1X', 'DEPTOR', 'RHPN1', 'PAQR4', 'TMC5', 'IRX5', 'CPNE2']\n",
      "    finished: added\n",
      "    '94_SCORE', score of gene set (adata.obs).\n",
      "    98 total control genes are used. (0:00:00)\n",
      "computing score '237_SCORE'\n",
      "WARNING: genes are not in var_names and ignored: ['TMEM132A']\n"
     ]
    },
    {
     "name": "stderr",
     "output_type": "stream",
     "text": [
      "/Users/ceglian/gvenv/lib/python3.9/site-packages/scanpy/tools/_score_genes.py:175: PerformanceWarning: DataFrame is highly fragmented.  This is usually the result of calling `frame.insert` many times, which has poor performance.  Consider joining all columns at once using pd.concat(axis=1) instead. To get a de-fragmented frame, use `newframe = frame.copy()`\n",
      "  adata.obs[score_name] = pd.Series(\n",
      "/Users/ceglian/gvenv/lib/python3.9/site-packages/scanpy/tools/_score_genes.py:151: FutureWarning: Passing a set as an indexer is deprecated and will raise in a future version. Use a list instead.\n",
      "  for cut in np.unique(obs_cut.loc[gene_list]):\n",
      "/Users/ceglian/gvenv/lib/python3.9/site-packages/scanpy/tools/_score_genes.py:175: PerformanceWarning: DataFrame is highly fragmented.  This is usually the result of calling `frame.insert` many times, which has poor performance.  Consider joining all columns at once using pd.concat(axis=1) instead. To get a de-fragmented frame, use `newframe = frame.copy()`\n",
      "  adata.obs[score_name] = pd.Series(\n"
     ]
    },
    {
     "name": "stdout",
     "output_type": "stream",
     "text": [
      "    finished: added\n",
      "    '237_SCORE', score of gene set (adata.obs).\n",
      "    146 total control genes are used. (0:00:00)\n",
      "computing score '233_SCORE'\n",
      "WARNING: genes are not in var_names and ignored: ['UCP2', 'SERF2', 'IDH2', 'RBM38']\n"
     ]
    },
    {
     "name": "stderr",
     "output_type": "stream",
     "text": [
      "/Users/ceglian/gvenv/lib/python3.9/site-packages/scanpy/tools/_score_genes.py:151: FutureWarning: Passing a set as an indexer is deprecated and will raise in a future version. Use a list instead.\n",
      "  for cut in np.unique(obs_cut.loc[gene_list]):\n",
      "/Users/ceglian/gvenv/lib/python3.9/site-packages/scanpy/tools/_score_genes.py:175: PerformanceWarning: DataFrame is highly fragmented.  This is usually the result of calling `frame.insert` many times, which has poor performance.  Consider joining all columns at once using pd.concat(axis=1) instead. To get a de-fragmented frame, use `newframe = frame.copy()`\n",
      "  adata.obs[score_name] = pd.Series(\n",
      "/Users/ceglian/gvenv/lib/python3.9/site-packages/scanpy/tools/_score_genes.py:151: FutureWarning: Passing a set as an indexer is deprecated and will raise in a future version. Use a list instead.\n",
      "  for cut in np.unique(obs_cut.loc[gene_list]):\n"
     ]
    },
    {
     "name": "stdout",
     "output_type": "stream",
     "text": [
      "    finished: added\n",
      "    '233_SCORE', score of gene set (adata.obs).\n",
      "    49 total control genes are used. (0:00:00)\n",
      "computing score '215_SCORE'\n",
      "WARNING: genes are not in var_names and ignored: ['TRIB1', 'CAMK1D', 'INSR', 'ZNF562', 'CLIC6']\n",
      "    finished: added\n",
      "    '215_SCORE', score of gene set (adata.obs).\n",
      "    49 total control genes are used. (0:00:00)\n",
      "computing score '302_SCORE'\n",
      "WARNING: genes are not in var_names and ignored: ['IRX6']\n"
     ]
    },
    {
     "name": "stderr",
     "output_type": "stream",
     "text": [
      "/Users/ceglian/gvenv/lib/python3.9/site-packages/scanpy/tools/_score_genes.py:175: PerformanceWarning: DataFrame is highly fragmented.  This is usually the result of calling `frame.insert` many times, which has poor performance.  Consider joining all columns at once using pd.concat(axis=1) instead. To get a de-fragmented frame, use `newframe = frame.copy()`\n",
      "  adata.obs[score_name] = pd.Series(\n",
      "/Users/ceglian/gvenv/lib/python3.9/site-packages/scanpy/tools/_score_genes.py:151: FutureWarning: Passing a set as an indexer is deprecated and will raise in a future version. Use a list instead.\n",
      "  for cut in np.unique(obs_cut.loc[gene_list]):\n",
      "/Users/ceglian/gvenv/lib/python3.9/site-packages/scanpy/tools/_score_genes.py:175: PerformanceWarning: DataFrame is highly fragmented.  This is usually the result of calling `frame.insert` many times, which has poor performance.  Consider joining all columns at once using pd.concat(axis=1) instead. To get a de-fragmented frame, use `newframe = frame.copy()`\n",
      "  adata.obs[score_name] = pd.Series(\n"
     ]
    },
    {
     "name": "stdout",
     "output_type": "stream",
     "text": [
      "    finished: added\n",
      "    '302_SCORE', score of gene set (adata.obs).\n",
      "    98 total control genes are used. (0:00:00)\n",
      "computing score '288_SCORE'\n",
      "WARNING: genes are not in var_names and ignored: ['KISS1R']\n"
     ]
    },
    {
     "name": "stderr",
     "output_type": "stream",
     "text": [
      "/Users/ceglian/gvenv/lib/python3.9/site-packages/scanpy/tools/_score_genes.py:151: FutureWarning: Passing a set as an indexer is deprecated and will raise in a future version. Use a list instead.\n",
      "  for cut in np.unique(obs_cut.loc[gene_list]):\n",
      "/Users/ceglian/gvenv/lib/python3.9/site-packages/scanpy/tools/_score_genes.py:175: PerformanceWarning: DataFrame is highly fragmented.  This is usually the result of calling `frame.insert` many times, which has poor performance.  Consider joining all columns at once using pd.concat(axis=1) instead. To get a de-fragmented frame, use `newframe = frame.copy()`\n",
      "  adata.obs[score_name] = pd.Series(\n",
      "/Users/ceglian/gvenv/lib/python3.9/site-packages/scanpy/tools/_score_genes.py:151: FutureWarning: Passing a set as an indexer is deprecated and will raise in a future version. Use a list instead.\n",
      "  for cut in np.unique(obs_cut.loc[gene_list]):\n"
     ]
    },
    {
     "name": "stdout",
     "output_type": "stream",
     "text": [
      "    finished: added\n",
      "    '288_SCORE', score of gene set (adata.obs).\n",
      "    98 total control genes are used. (0:00:00)\n",
      "computing score '241_SCORE'\n",
      "WARNING: genes are not in var_names and ignored: ['ZNF703', 'BBOX1', 'PHYHIPL', 'DLGAP1']\n",
      "    finished: added\n",
      "    '241_SCORE', score of gene set (adata.obs).\n",
      "    49 total control genes are used. (0:00:00)\n",
      "computing score '291_SCORE'\n",
      "WARNING: genes are not in var_names and ignored: ['SDR16C5', 'IL11']\n"
     ]
    },
    {
     "name": "stderr",
     "output_type": "stream",
     "text": [
      "/Users/ceglian/gvenv/lib/python3.9/site-packages/scanpy/tools/_score_genes.py:175: PerformanceWarning: DataFrame is highly fragmented.  This is usually the result of calling `frame.insert` many times, which has poor performance.  Consider joining all columns at once using pd.concat(axis=1) instead. To get a de-fragmented frame, use `newframe = frame.copy()`\n",
      "  adata.obs[score_name] = pd.Series(\n",
      "/Users/ceglian/gvenv/lib/python3.9/site-packages/scanpy/tools/_score_genes.py:151: FutureWarning: Passing a set as an indexer is deprecated and will raise in a future version. Use a list instead.\n",
      "  for cut in np.unique(obs_cut.loc[gene_list]):\n",
      "/Users/ceglian/gvenv/lib/python3.9/site-packages/scanpy/tools/_score_genes.py:175: PerformanceWarning: DataFrame is highly fragmented.  This is usually the result of calling `frame.insert` many times, which has poor performance.  Consider joining all columns at once using pd.concat(axis=1) instead. To get a de-fragmented frame, use `newframe = frame.copy()`\n",
      "  adata.obs[score_name] = pd.Series(\n"
     ]
    },
    {
     "name": "stdout",
     "output_type": "stream",
     "text": [
      "    finished: added\n",
      "    '291_SCORE', score of gene set (adata.obs).\n",
      "    49 total control genes are used. (0:00:00)\n",
      "computing score '98_SCORE'\n",
      "WARNING: genes are not in var_names and ignored: ['ZBTB10', 'SLC25A25', 'WT1', 'CORO1A', 'ADGRG1', 'ETV4']\n"
     ]
    },
    {
     "name": "stderr",
     "output_type": "stream",
     "text": [
      "/Users/ceglian/gvenv/lib/python3.9/site-packages/scanpy/tools/_score_genes.py:151: FutureWarning: Passing a set as an indexer is deprecated and will raise in a future version. Use a list instead.\n",
      "  for cut in np.unique(obs_cut.loc[gene_list]):\n",
      "/Users/ceglian/gvenv/lib/python3.9/site-packages/scanpy/tools/_score_genes.py:175: PerformanceWarning: DataFrame is highly fragmented.  This is usually the result of calling `frame.insert` many times, which has poor performance.  Consider joining all columns at once using pd.concat(axis=1) instead. To get a de-fragmented frame, use `newframe = frame.copy()`\n",
      "  adata.obs[score_name] = pd.Series(\n",
      "/Users/ceglian/gvenv/lib/python3.9/site-packages/scanpy/tools/_score_genes.py:151: FutureWarning: Passing a set as an indexer is deprecated and will raise in a future version. Use a list instead.\n",
      "  for cut in np.unique(obs_cut.loc[gene_list]):\n"
     ]
    },
    {
     "name": "stdout",
     "output_type": "stream",
     "text": [
      "    finished: added\n",
      "    '98_SCORE', score of gene set (adata.obs).\n",
      "    97 total control genes are used. (0:00:00)\n",
      "computing score '156_SCORE'\n",
      "WARNING: genes are not in var_names and ignored: ['KCNQ3', 'ADAMTS8', 'EGR2', 'SIX1', 'PTGER1']\n",
      "    finished: added\n",
      "    '156_SCORE', score of gene set (adata.obs).\n",
      "    98 total control genes are used. (0:00:00)\n",
      "computing score '229_SCORE'\n",
      "WARNING: genes are not in var_names and ignored: ['LAPTM4B', 'NDUFB9', 'GPAA1', 'MYH10']\n"
     ]
    },
    {
     "name": "stderr",
     "output_type": "stream",
     "text": [
      "/Users/ceglian/gvenv/lib/python3.9/site-packages/scanpy/tools/_score_genes.py:175: PerformanceWarning: DataFrame is highly fragmented.  This is usually the result of calling `frame.insert` many times, which has poor performance.  Consider joining all columns at once using pd.concat(axis=1) instead. To get a de-fragmented frame, use `newframe = frame.copy()`\n",
      "  adata.obs[score_name] = pd.Series(\n",
      "/Users/ceglian/gvenv/lib/python3.9/site-packages/scanpy/tools/_score_genes.py:151: FutureWarning: Passing a set as an indexer is deprecated and will raise in a future version. Use a list instead.\n",
      "  for cut in np.unique(obs_cut.loc[gene_list]):\n",
      "/Users/ceglian/gvenv/lib/python3.9/site-packages/scanpy/tools/_score_genes.py:175: PerformanceWarning: DataFrame is highly fragmented.  This is usually the result of calling `frame.insert` many times, which has poor performance.  Consider joining all columns at once using pd.concat(axis=1) instead. To get a de-fragmented frame, use `newframe = frame.copy()`\n",
      "  adata.obs[score_name] = pd.Series(\n"
     ]
    },
    {
     "name": "stdout",
     "output_type": "stream",
     "text": [
      "    finished: added\n",
      "    '229_SCORE', score of gene set (adata.obs).\n",
      "    49 total control genes are used. (0:00:00)\n",
      "computing score '306_SCORE'\n",
      "WARNING: genes are not in var_names and ignored: ['NELL2']\n"
     ]
    },
    {
     "name": "stderr",
     "output_type": "stream",
     "text": [
      "/Users/ceglian/gvenv/lib/python3.9/site-packages/scanpy/tools/_score_genes.py:151: FutureWarning: Passing a set as an indexer is deprecated and will raise in a future version. Use a list instead.\n",
      "  for cut in np.unique(obs_cut.loc[gene_list]):\n",
      "/Users/ceglian/gvenv/lib/python3.9/site-packages/scanpy/tools/_score_genes.py:175: PerformanceWarning: DataFrame is highly fragmented.  This is usually the result of calling `frame.insert` many times, which has poor performance.  Consider joining all columns at once using pd.concat(axis=1) instead. To get a de-fragmented frame, use `newframe = frame.copy()`\n",
      "  adata.obs[score_name] = pd.Series(\n",
      "/Users/ceglian/gvenv/lib/python3.9/site-packages/scanpy/tools/_score_genes.py:151: FutureWarning: Passing a set as an indexer is deprecated and will raise in a future version. Use a list instead.\n",
      "  for cut in np.unique(obs_cut.loc[gene_list]):\n"
     ]
    },
    {
     "name": "stdout",
     "output_type": "stream",
     "text": [
      "    finished: added\n",
      "    '306_SCORE', score of gene set (adata.obs).\n",
      "    49 total control genes are used. (0:00:00)\n",
      "computing score '144_SCORE'\n",
      "WARNING: genes are not in var_names and ignored: ['EXT1', 'MFSD3', 'PACSIN3', 'TMTC1', 'MINDY2', 'TFAP2C']\n",
      "    finished: added\n",
      "    '144_SCORE', score of gene set (adata.obs).\n",
      "    98 total control genes are used. (0:00:00)\n",
      "computing score '242_SCORE'\n",
      "WARNING: genes are not in var_names and ignored: ['MAL2', 'EPPK1', 'PLA2G16']\n"
     ]
    },
    {
     "name": "stderr",
     "output_type": "stream",
     "text": [
      "/Users/ceglian/gvenv/lib/python3.9/site-packages/scanpy/tools/_score_genes.py:175: PerformanceWarning: DataFrame is highly fragmented.  This is usually the result of calling `frame.insert` many times, which has poor performance.  Consider joining all columns at once using pd.concat(axis=1) instead. To get a de-fragmented frame, use `newframe = frame.copy()`\n",
      "  adata.obs[score_name] = pd.Series(\n",
      "/Users/ceglian/gvenv/lib/python3.9/site-packages/scanpy/tools/_score_genes.py:151: FutureWarning: Passing a set as an indexer is deprecated and will raise in a future version. Use a list instead.\n",
      "  for cut in np.unique(obs_cut.loc[gene_list]):\n",
      "/Users/ceglian/gvenv/lib/python3.9/site-packages/scanpy/tools/_score_genes.py:175: PerformanceWarning: DataFrame is highly fragmented.  This is usually the result of calling `frame.insert` many times, which has poor performance.  Consider joining all columns at once using pd.concat(axis=1) instead. To get a de-fragmented frame, use `newframe = frame.copy()`\n",
      "  adata.obs[score_name] = pd.Series(\n"
     ]
    },
    {
     "name": "stdout",
     "output_type": "stream",
     "text": [
      "    finished: added\n",
      "    '242_SCORE', score of gene set (adata.obs).\n",
      "    98 total control genes are used. (0:00:00)\n",
      "computing score '207_SCORE'\n",
      "WARNING: genes are not in var_names and ignored: ['KRT19', 'DSC2', 'C19ORF33']\n"
     ]
    },
    {
     "name": "stderr",
     "output_type": "stream",
     "text": [
      "/Users/ceglian/gvenv/lib/python3.9/site-packages/scanpy/tools/_score_genes.py:151: FutureWarning: Passing a set as an indexer is deprecated and will raise in a future version. Use a list instead.\n",
      "  for cut in np.unique(obs_cut.loc[gene_list]):\n",
      "/Users/ceglian/gvenv/lib/python3.9/site-packages/scanpy/tools/_score_genes.py:175: PerformanceWarning: DataFrame is highly fragmented.  This is usually the result of calling `frame.insert` many times, which has poor performance.  Consider joining all columns at once using pd.concat(axis=1) instead. To get a de-fragmented frame, use `newframe = frame.copy()`\n",
      "  adata.obs[score_name] = pd.Series(\n"
     ]
    },
    {
     "name": "stdout",
     "output_type": "stream",
     "text": [
      "    finished: added\n",
      "    '207_SCORE', score of gene set (adata.obs).\n",
      "    147 total control genes are used. (0:00:00)\n",
      "computing score '230_SCORE'\n",
      "WARNING: genes are not in var_names and ignored: ['PTP4A3', 'OLFML2A', 'EHD4', 'GAMT', 'CDC42EP5']\n",
      "computing score '296_SCORE'\n",
      "WARNING: genes are not in var_names and ignored: ['SLC39A4', 'COMTD1', 'DOK5']\n",
      "computing score '234_SCORE'\n",
      "WARNING: genes are not in var_names and ignored: ['CEP78', 'KDELC2', 'PLCE1', 'DBNDD1', 'CDKN2D']\n",
      "computing score '266_SCORE'\n",
      "WARNING: genes are not in var_names and ignored: ['NXNL2', 'NUCB2', 'CADM1', 'NQO1']\n",
      "computing score '172_SCORE'\n",
      "WARNING: genes are not in var_names and ignored: ['CCDC34', 'FJX1', 'BACE1', 'KCNMB4', 'FOXA2']\n"
     ]
    },
    {
     "name": "stderr",
     "output_type": "stream",
     "text": [
      "/Users/ceglian/gvenv/lib/python3.9/site-packages/scanpy/tools/_score_genes.py:151: FutureWarning: Passing a set as an indexer is deprecated and will raise in a future version. Use a list instead.\n",
      "  for cut in np.unique(obs_cut.loc[gene_list]):\n",
      "/Users/ceglian/gvenv/lib/python3.9/site-packages/scanpy/tools/_score_genes.py:175: PerformanceWarning: DataFrame is highly fragmented.  This is usually the result of calling `frame.insert` many times, which has poor performance.  Consider joining all columns at once using pd.concat(axis=1) instead. To get a de-fragmented frame, use `newframe = frame.copy()`\n",
      "  adata.obs[score_name] = pd.Series(\n",
      "/Users/ceglian/gvenv/lib/python3.9/site-packages/genevector-0.1.0-py3.9.egg/genevector/embedding.py:152: PerformanceWarning: DataFrame is highly fragmented.  This is usually the result of calling `frame.insert` many times, which has poor performance.  Consider joining all columns at once using pd.concat(axis=1) instead. To get a de-fragmented frame, use `newframe = frame.copy()`\n",
      "  adata.obs[str(p)+\"_SCORE\"] = 0.\n",
      "/Users/ceglian/gvenv/lib/python3.9/site-packages/genevector-0.1.0-py3.9.egg/genevector/embedding.py:152: PerformanceWarning: DataFrame is highly fragmented.  This is usually the result of calling `frame.insert` many times, which has poor performance.  Consider joining all columns at once using pd.concat(axis=1) instead. To get a de-fragmented frame, use `newframe = frame.copy()`\n",
      "  adata.obs[str(p)+\"_SCORE\"] = 0.\n",
      "/Users/ceglian/gvenv/lib/python3.9/site-packages/genevector-0.1.0-py3.9.egg/genevector/embedding.py:152: PerformanceWarning: DataFrame is highly fragmented.  This is usually the result of calling `frame.insert` many times, which has poor performance.  Consider joining all columns at once using pd.concat(axis=1) instead. To get a de-fragmented frame, use `newframe = frame.copy()`\n",
      "  adata.obs[str(p)+\"_SCORE\"] = 0.\n",
      "/Users/ceglian/gvenv/lib/python3.9/site-packages/genevector-0.1.0-py3.9.egg/genevector/embedding.py:152: PerformanceWarning: DataFrame is highly fragmented.  This is usually the result of calling `frame.insert` many times, which has poor performance.  Consider joining all columns at once using pd.concat(axis=1) instead. To get a de-fragmented frame, use `newframe = frame.copy()`\n",
      "  adata.obs[str(p)+\"_SCORE\"] = 0.\n"
     ]
    },
    {
     "name": "stdout",
     "output_type": "stream",
     "text": [
      "    finished: added\n",
      "    '172_SCORE', score of gene set (adata.obs).\n",
      "    98 total control genes are used. (0:00:00)\n",
      "computing score '269_SCORE'\n",
      "WARNING: genes are not in var_names and ignored: ['GABBR2', 'PAPSS2']\n"
     ]
    },
    {
     "name": "stderr",
     "output_type": "stream",
     "text": [
      "/Users/ceglian/gvenv/lib/python3.9/site-packages/scanpy/tools/_score_genes.py:151: FutureWarning: Passing a set as an indexer is deprecated and will raise in a future version. Use a list instead.\n",
      "  for cut in np.unique(obs_cut.loc[gene_list]):\n",
      "/Users/ceglian/gvenv/lib/python3.9/site-packages/scanpy/tools/_score_genes.py:175: PerformanceWarning: DataFrame is highly fragmented.  This is usually the result of calling `frame.insert` many times, which has poor performance.  Consider joining all columns at once using pd.concat(axis=1) instead. To get a de-fragmented frame, use `newframe = frame.copy()`\n",
      "  adata.obs[score_name] = pd.Series(\n",
      "/Users/ceglian/gvenv/lib/python3.9/site-packages/scanpy/tools/_score_genes.py:151: FutureWarning: Passing a set as an indexer is deprecated and will raise in a future version. Use a list instead.\n",
      "  for cut in np.unique(obs_cut.loc[gene_list]):\n"
     ]
    },
    {
     "name": "stdout",
     "output_type": "stream",
     "text": [
      "    finished: added\n",
      "    '269_SCORE', score of gene set (adata.obs).\n",
      "    98 total control genes are used. (0:00:00)\n",
      "computing score '307_SCORE'\n",
      "WARNING: genes are not in var_names and ignored: ['AIF1L', 'MYL9']\n",
      "computing score '263_SCORE'\n",
      "WARNING: genes are not in var_names and ignored: ['LCN12', 'EYA2']\n"
     ]
    },
    {
     "name": "stderr",
     "output_type": "stream",
     "text": [
      "/Users/ceglian/gvenv/lib/python3.9/site-packages/scanpy/tools/_score_genes.py:175: PerformanceWarning: DataFrame is highly fragmented.  This is usually the result of calling `frame.insert` many times, which has poor performance.  Consider joining all columns at once using pd.concat(axis=1) instead. To get a de-fragmented frame, use `newframe = frame.copy()`\n",
      "  adata.obs[score_name] = pd.Series(\n",
      "/Users/ceglian/gvenv/lib/python3.9/site-packages/genevector-0.1.0-py3.9.egg/genevector/embedding.py:152: PerformanceWarning: DataFrame is highly fragmented.  This is usually the result of calling `frame.insert` many times, which has poor performance.  Consider joining all columns at once using pd.concat(axis=1) instead. To get a de-fragmented frame, use `newframe = frame.copy()`\n",
      "  adata.obs[str(p)+\"_SCORE\"] = 0.\n",
      "/Users/ceglian/gvenv/lib/python3.9/site-packages/scanpy/tools/_score_genes.py:151: FutureWarning: Passing a set as an indexer is deprecated and will raise in a future version. Use a list instead.\n",
      "  for cut in np.unique(obs_cut.loc[gene_list]):\n"
     ]
    },
    {
     "name": "stdout",
     "output_type": "stream",
     "text": [
      "    finished: added\n",
      "    '263_SCORE', score of gene set (adata.obs).\n",
      "    98 total control genes are used. (0:00:00)\n",
      "computing score '261_SCORE'\n",
      "WARNING: genes are not in var_names and ignored: ['PTDSS2', 'MACROD2', 'KCNG1']\n",
      "    finished: added\n",
      "    '261_SCORE', score of gene set (adata.obs).\n",
      "    49 total control genes are used. (0:00:00)\n",
      "computing score '294_SCORE'\n",
      "WARNING: genes are not in var_names and ignored: ['NELL1', 'PCDH15']\n"
     ]
    },
    {
     "name": "stderr",
     "output_type": "stream",
     "text": [
      "/Users/ceglian/gvenv/lib/python3.9/site-packages/scanpy/tools/_score_genes.py:175: PerformanceWarning: DataFrame is highly fragmented.  This is usually the result of calling `frame.insert` many times, which has poor performance.  Consider joining all columns at once using pd.concat(axis=1) instead. To get a de-fragmented frame, use `newframe = frame.copy()`\n",
      "  adata.obs[score_name] = pd.Series(\n",
      "/Users/ceglian/gvenv/lib/python3.9/site-packages/scanpy/tools/_score_genes.py:151: FutureWarning: Passing a set as an indexer is deprecated and will raise in a future version. Use a list instead.\n",
      "  for cut in np.unique(obs_cut.loc[gene_list]):\n",
      "/Users/ceglian/gvenv/lib/python3.9/site-packages/scanpy/tools/_score_genes.py:175: PerformanceWarning: DataFrame is highly fragmented.  This is usually the result of calling `frame.insert` many times, which has poor performance.  Consider joining all columns at once using pd.concat(axis=1) instead. To get a de-fragmented frame, use `newframe = frame.copy()`\n",
      "  adata.obs[score_name] = pd.Series(\n"
     ]
    },
    {
     "name": "stdout",
     "output_type": "stream",
     "text": [
      "    finished: added\n",
      "    '294_SCORE', score of gene set (adata.obs).\n",
      "    49 total control genes are used. (0:00:00)\n",
      "computing score '287_SCORE'\n",
      "WARNING: genes are not in var_names and ignored: ['FAM111A', 'BUB3', 'YPEL2', 'CDC25B']\n",
      "computing score '272_SCORE'\n",
      "WARNING: genes are not in var_names and ignored: ['P2RY6', 'TRIM29']\n"
     ]
    },
    {
     "name": "stderr",
     "output_type": "stream",
     "text": [
      "/Users/ceglian/gvenv/lib/python3.9/site-packages/scanpy/tools/_score_genes.py:151: FutureWarning: Passing a set as an indexer is deprecated and will raise in a future version. Use a list instead.\n",
      "  for cut in np.unique(obs_cut.loc[gene_list]):\n",
      "/Users/ceglian/gvenv/lib/python3.9/site-packages/scanpy/tools/_score_genes.py:175: PerformanceWarning: DataFrame is highly fragmented.  This is usually the result of calling `frame.insert` many times, which has poor performance.  Consider joining all columns at once using pd.concat(axis=1) instead. To get a de-fragmented frame, use `newframe = frame.copy()`\n",
      "  adata.obs[score_name] = pd.Series(\n",
      "/Users/ceglian/gvenv/lib/python3.9/site-packages/genevector-0.1.0-py3.9.egg/genevector/embedding.py:152: PerformanceWarning: DataFrame is highly fragmented.  This is usually the result of calling `frame.insert` many times, which has poor performance.  Consider joining all columns at once using pd.concat(axis=1) instead. To get a de-fragmented frame, use `newframe = frame.copy()`\n",
      "  adata.obs[str(p)+\"_SCORE\"] = 0.\n",
      "/Users/ceglian/gvenv/lib/python3.9/site-packages/scanpy/tools/_score_genes.py:151: FutureWarning: Passing a set as an indexer is deprecated and will raise in a future version. Use a list instead.\n",
      "  for cut in np.unique(obs_cut.loc[gene_list]):\n"
     ]
    },
    {
     "name": "stdout",
     "output_type": "stream",
     "text": [
      "    finished: added\n",
      "    '272_SCORE', score of gene set (adata.obs).\n",
      "    98 total control genes are used. (0:00:00)\n",
      "computing score '275_SCORE'\n",
      "WARNING: genes are not in var_names and ignored: ['C11ORF52', 'ZBP1', 'CACNA1A']\n",
      "    finished: added\n",
      "    '275_SCORE', score of gene set (adata.obs).\n",
      "    49 total control genes are used. (0:00:00)\n",
      "computing score '311_SCORE'\n",
      "WARNING: genes are not in var_names and ignored: ['BORA']\n",
      "computing score '309_SCORE'\n",
      "WARNING: genes are not in var_names and ignored: ['CNDP1', 'TNFAIP8L1']\n"
     ]
    },
    {
     "name": "stderr",
     "output_type": "stream",
     "text": [
      "/Users/ceglian/gvenv/lib/python3.9/site-packages/scanpy/tools/_score_genes.py:175: PerformanceWarning: DataFrame is highly fragmented.  This is usually the result of calling `frame.insert` many times, which has poor performance.  Consider joining all columns at once using pd.concat(axis=1) instead. To get a de-fragmented frame, use `newframe = frame.copy()`\n",
      "  adata.obs[score_name] = pd.Series(\n",
      "/Users/ceglian/gvenv/lib/python3.9/site-packages/scanpy/tools/_score_genes.py:151: FutureWarning: Passing a set as an indexer is deprecated and will raise in a future version. Use a list instead.\n",
      "  for cut in np.unique(obs_cut.loc[gene_list]):\n",
      "/Users/ceglian/gvenv/lib/python3.9/site-packages/scanpy/tools/_score_genes.py:175: PerformanceWarning: DataFrame is highly fragmented.  This is usually the result of calling `frame.insert` many times, which has poor performance.  Consider joining all columns at once using pd.concat(axis=1) instead. To get a de-fragmented frame, use `newframe = frame.copy()`\n",
      "  adata.obs[score_name] = pd.Series(\n",
      "/Users/ceglian/gvenv/lib/python3.9/site-packages/genevector-0.1.0-py3.9.egg/genevector/embedding.py:152: PerformanceWarning: DataFrame is highly fragmented.  This is usually the result of calling `frame.insert` many times, which has poor performance.  Consider joining all columns at once using pd.concat(axis=1) instead. To get a de-fragmented frame, use `newframe = frame.copy()`\n",
      "  adata.obs[str(p)+\"_SCORE\"] = 0.\n",
      "/Users/ceglian/gvenv/lib/python3.9/site-packages/genevector-0.1.0-py3.9.egg/genevector/embedding.py:152: PerformanceWarning: DataFrame is highly fragmented.  This is usually the result of calling `frame.insert` many times, which has poor performance.  Consider joining all columns at once using pd.concat(axis=1) instead. To get a de-fragmented frame, use `newframe = frame.copy()`\n",
      "  adata.obs[str(p)+\"_SCORE\"] = 0.\n"
     ]
    }
   ],
   "source": [
    "embed.score_metagenes(adata, metagenes)"
   ]
  },
  {
   "cell_type": "markdown",
   "id": "c45f63ab-a75f-4bc4-9066-4909452272eb",
   "metadata": {},
   "source": [
    "# Generate Vectors for each Site"
   ]
  },
  {
   "cell_type": "code",
   "execution_count": 14,
   "id": "154dd99a-8748-410b-a409-ccc6366e31e0",
   "metadata": {},
   "outputs": [],
   "source": [
    "subad = adata[adata.obs[\"site\"]==\"ADNEXA\"]\n",
    "subbo = adata[adata.obs[\"site\"]==\"BOWEL\"]"
   ]
  },
  {
   "cell_type": "code",
   "execution_count": 15,
   "id": "8123b0a7-3b11-473b-92d5-3ed01ca4bda3",
   "metadata": {},
   "outputs": [
    {
     "ename": "NameError",
     "evalue": "name 'collections' is not defined",
     "output_type": "error",
     "traceback": [
      "\u001b[0;31m---------------------------------------------------------------------------\u001b[0m",
      "\u001b[0;31mNameError\u001b[0m                                 Traceback (most recent call last)",
      "Cell \u001b[0;32mIn[15], line 3\u001b[0m\n\u001b[1;32m      1\u001b[0m \u001b[38;5;28;01mimport\u001b[39;00m \u001b[38;5;21;01mmatplotlib\u001b[39;00m\u001b[38;5;21;01m.\u001b[39;00m\u001b[38;5;21;01mpyplot\u001b[39;00m \u001b[38;5;28;01mas\u001b[39;00m \u001b[38;5;21;01mplt\u001b[39;00m\n\u001b[1;32m      2\u001b[0m mapped_components \u001b[38;5;241m=\u001b[39m \u001b[38;5;28mdict\u001b[39m(\u001b[38;5;28mzip\u001b[39m(\u001b[38;5;28mlist\u001b[39m(cembed\u001b[38;5;241m.\u001b[39mdata\u001b[38;5;241m.\u001b[39mkeys()),cembed\u001b[38;5;241m.\u001b[39mmatrix))\n\u001b[0;32m----> 3\u001b[0m comps \u001b[38;5;241m=\u001b[39m \u001b[43mcollections\u001b[49m\u001b[38;5;241m.\u001b[39mdefaultdict(\u001b[38;5;28mlist\u001b[39m)\n\u001b[1;32m      4\u001b[0m \u001b[38;5;28;01mfor\u001b[39;00m bc,x,y \u001b[38;5;129;01min\u001b[39;00m \u001b[38;5;28mzip\u001b[39m(annotated_adata\u001b[38;5;241m.\u001b[39mobs\u001b[38;5;241m.\u001b[39mindex,annotated_adata\u001b[38;5;241m.\u001b[39mobs[\u001b[38;5;124m\"\u001b[39m\u001b[38;5;124msite\u001b[39m\u001b[38;5;124m\"\u001b[39m],annotated_adata\u001b[38;5;241m.\u001b[39mobs[\u001b[38;5;124m\"\u001b[39m\u001b[38;5;124mgenevector\u001b[39m\u001b[38;5;124m\"\u001b[39m]):\n\u001b[1;32m      5\u001b[0m     comps[x \u001b[38;5;241m+\u001b[39m\u001b[38;5;124m\"\u001b[39m\u001b[38;5;124m-\u001b[39m\u001b[38;5;124m\"\u001b[39m\u001b[38;5;241m+\u001b[39m y]\u001b[38;5;241m.\u001b[39mappend(mapped_components[bc])\n",
      "\u001b[0;31mNameError\u001b[0m: name 'collections' is not defined"
     ]
    }
   ],
   "source": [
    "import matplotlib.pyplot as plt\n",
    "mapped_components = dict(zip(list(cembed.data.keys()),cembed.matrix))\n",
    "comps = collections.defaultdict(list)\n",
    "for bc,x,y in zip(annotated_adata.obs.index,annotated_adata.obs[\"site\"],annotated_adata.obs[\"genevector\"]):\n",
    "    comps[x +\"-\"+ y].append(mapped_components[bc])\n",
    "vectors = dict()\n",
    "mean_vecs = []\n",
    "for x, vec in comps.items():\n",
    "    print(x)\n",
    "    ovecs = []\n",
    "    vec = numpy.mean(vec,axis=0)\n",
    "    for oph, ovec in comps.items():\n",
    "        for o in ovec:\n",
    "            ovecs.append(o)\n",
    "    aovec = numpy.average(ovecs,axis=0)\n",
    "    vector = numpy.subtract(vec,aovec)\n",
    "    vector = numpy.subtract(vector,cembed.dataset_vector)\n",
    "    vectors[x] = vector\n",
    "markers = dict()\n",
    "fig,ax = plt.subplots(1,12,figsize=(25,6))\n",
    "i = 0\n",
    "for x, mvec in vectors.items():\n",
    "    ct_sig = embed.get_similar_genes(mvec)[:25]\n",
    "    sns.barplot(data=ct_sig,y=\"Gene\",x=\"Similarity\",palette=\"Dark2\",ax=ax[i])\n",
    "    ax[i].set_title(x)\n",
    "    i += 1\n",
    "fig.tight_layout()"
   ]
  },
  {
   "cell_type": "code",
   "execution_count": null,
   "id": "dfc0ac3d",
   "metadata": {},
   "outputs": [],
   "source": [
    "import matplotlib.pyplot as plt\n",
    "mapped_components = dict(zip(list(cembed.data.keys()),cembed.matrix))\n",
    "comps = collections.defaultdict(list)\n",
    "for bc,x in zip(adata.obs.index,adata.obs[\"site\"]):\n",
    "    comps[x].append(mapped_components[bc])\n",
    "vectors = dict()\n",
    "mean_vecs = []\n",
    "for x, vec in comps.items():\n",
    "    print(x)\n",
    "    ovecs = []\n",
    "    vec = numpy.mean(vec,axis=0)\n",
    "    for oph, ovec in comps.items():\n",
    "        for o in ovec:\n",
    "            ovecs.append(o)\n",
    "    aovec = numpy.average(ovecs,axis=0)\n",
    "    vector = numpy.subtract(vec,aovec)\n",
    "    vector = numpy.subtract(vector,cembed.dataset_vector)\n",
    "    vectors[x] = vector\n",
    "markers = dict()\n",
    "fig,ax = plt.subplots(1,2,figsize=(8,6))\n",
    "i = 0\n",
    "for x, mvec in vectors.items():\n",
    "    ct_sig = embed.get_similar_genes(mvec)[:25]\n",
    "    sns.barplot(data=ct_sig,y=\"Gene\",x=\"Similarity\",palette=\"Dark2\",ax=ax[i])\n",
    "    ax[i].set_title(x)\n",
    "    i += 1\n",
    "fig.tight_layout()"
   ]
  },
  {
   "cell_type": "markdown",
   "id": "164279be-ee3a-4b61-9094-6ff15608ced8",
   "metadata": {},
   "source": [
    "# Find Metagenes similar to Adnexa - Bowel (Vector Arithmetic)"
   ]
  },
  {
   "cell_type": "code",
   "execution_count": null,
   "id": "9e3d56e1-743b-430e-a31c-49ccb89579a8",
   "metadata": {},
   "outputs": [],
   "source": [
    "from scipy.spatial import distance\n",
    "res = numpy.subtract(vectors[\"ADNEXA-Ovarian.cancer.cell\"],vectors[\"BOWEL-Ovarian.cancer.cell\"])\n",
    "mgs_down = dict()\n",
    "distances = dict()\n",
    "for mg, genes in metagenes.items():\n",
    "    mgvec = embed.generate_vector(genes)\n",
    "    dist = 1.0 - distance.cosine(res,mgvec)\n",
    "    distances[mg] = dist\n",
    "sorted_x = list(reversed(sorted(distances.items(), key=lambda kv: kv[1])))\n",
    "for mg, dist in sorted_x[:5]:\n",
    "    print(mg, dist, metagenes[mg])\n",
    "    mgs_down[mg] = metagenes[mg]"
   ]
  },
  {
   "cell_type": "markdown",
   "id": "569cb0cf-f66b-4d42-9521-e636a0032d4b",
   "metadata": {},
   "source": [
    "# Find Metagenes similar to Bowel - Adnexa"
   ]
  },
  {
   "cell_type": "code",
   "execution_count": null,
   "id": "55848ae5-beb6-48c9-8d68-002825351242",
   "metadata": {},
   "outputs": [],
   "source": [
    "from scipy.spatial import distance\n",
    "res = numpy.subtract(vectors[\"BOWEL-Ovarian.cancer.cell\"],vectors[\"ADNEXA-Ovarian.cancer.cell\"])\n",
    "mgs_up = dict()\n",
    "distances = dict()\n",
    "for mg, genes in metagenes.items():\n",
    "    mgvec = embed.generate_vector(genes)\n",
    "    dist = 1.0 - distance.cosine(res,mgvec)\n",
    "    distances[mg] = dist\n",
    "sorted_x = list(reversed(sorted(distances.items(), key=lambda kv: kv[1])))\n",
    "for mg, dist in sorted_x[:5]:\n",
    "    print(mg, dist, metagenes[mg])\n",
    "    mgs_up[mg] = metagenes[mg]"
   ]
  },
  {
   "cell_type": "markdown",
   "id": "1c5d4f2b-8797-4da2-89f5-7e9ea38b255d",
   "metadata": {},
   "source": [
    "# GSEA Enrichment of Metagenes"
   ]
  },
  {
   "cell_type": "code",
   "execution_count": null,
   "id": "da5b492d-096a-4428-a090-f8a169a4e4cb",
   "metadata": {},
   "outputs": [],
   "source": [
    "import pandas\n",
    "sns.set(font_scale=0.9)\n",
    "import gseapy as gp\n",
    "enrc = collections.defaultdict(dict)\n",
    "terms = set()\n",
    "mgs = []\n",
    "for mg, genes in mgs_up.items():\n",
    "    enr = gp.enrichr(gene_list=genes,\n",
    "                     gene_sets=['MSigDB_Hallmark_2020'],\n",
    "                     organism='Human', \n",
    "                     description='test_name',\n",
    "                     outdir='test/enrichr_kegg',\n",
    "                     cutoff=0.001 \n",
    "                    )    \n",
    "    mgs.append(mg)\n",
    "    for x,y in zip(enr.res2d[\"Term\"],enr.res2d[\"Combined Score\"]):\n",
    "        if y > 0:\n",
    "            enrc[mg][x] = y\n",
    "            terms.add(x)\n",
    "mat = []\n",
    "for term in terms:\n",
    "    row = []\n",
    "    for mg in mgs:\n",
    "        if term in enrc[mg]:\n",
    "            row.append(enrc[mg][term])\n",
    "        else:\n",
    "            row.append(0.0)\n",
    "    mat.append(row)\n",
    "print(mat)\n",
    "df = pandas.DataFrame(numpy.array(mat),columns=mgs,index=terms).T\n",
    "fig, ax = plt.subplots(1,1,figsize=(12,7))\n",
    "sns.heatmap(df,yticklabels=True,xticklabels=True,ax=ax, vmax=500,cmap=\"viridis\")\n",
    "ax.set_title(\"Hallmark Combined Enrichment Score\")\n",
    "fig.tight_layout()"
   ]
  },
  {
   "cell_type": "code",
   "execution_count": null,
   "id": "00aafd7d",
   "metadata": {},
   "outputs": [],
   "source": [
    "import matplotlib.pyplot as plt\n",
    "import collections\n",
    "import numpy\n",
    "import seaborn as sns\n",
    "import pandas\n",
    "sns.set(font_scale=0.9)\n",
    "import gseapy as gp\n",
    "for p in set(adata.obs[\"patient\"]):\n",
    "    sub = adata[adata.obs[\"patient\"]==p]\n",
    "    mapped_components = dict(zip(list(cembed.data.keys()),cembed.matrix))\n",
    "    comps = collections.defaultdict(list)\n",
    "    for bc,x in zip(sub.obs.index,sub.obs[\"site\"]):\n",
    "        comps[x].append(mapped_components[bc])\n",
    "    vectors = dict()\n",
    "    mean_vecs = []\n",
    "    for x, vec in comps.items():\n",
    "        print(x)\n",
    "        ovecs = []\n",
    "        vec = numpy.mean(vec,axis=0)\n",
    "        for oph, ovec in comps.items():\n",
    "            for o in ovec:\n",
    "                ovecs.append(o)\n",
    "        aovec = numpy.average(ovecs,axis=0)\n",
    "        vector = numpy.subtract(vec,aovec)\n",
    "        vector = numpy.subtract(vector,cembed.dataset_vector)\n",
    "        vectors[x] = vector\n",
    "    res = numpy.subtract(vectors[\"BOWEL\"],vectors[\"ADNEXA\"])\n",
    "    mgs_up = dict()\n",
    "    distances = dict()\n",
    "    for mg, genes in metagenes.items():\n",
    "        mgvec = embed.generate_vector(genes)\n",
    "        dist = 1.0 - distance.cosine(res,mgvec)\n",
    "        distances[mg] = dist\n",
    "    sorted_x = list(reversed(sorted(distances.items(), key=lambda kv: kv[1])))\n",
    "    for mg, dist in sorted_x[:15]:\n",
    "        print(mg, dist, metagenes[mg])\n",
    "        mgs_up[mg] = metagenes[mg]\n",
    "\n",
    "    enrc = collections.defaultdict(dict)\n",
    "    terms = set()\n",
    "    mgs = []\n",
    "    for mg, genes in mgs_up.items():\n",
    "        enr = gp.enrichr(gene_list=genes,\n",
    "                        gene_sets=['MSigDB_Hallmark_2020'],\n",
    "                        organism='Human', \n",
    "                        description='test_name',\n",
    "                        outdir='test/enrichr_kegg',\n",
    "                        cutoff=0.001 \n",
    "                        )    \n",
    "        mgs.append(mg)\n",
    "        for x,y in zip(enr.res2d[\"Term\"],enr.res2d[\"Combined Score\"]):\n",
    "            if y > 0:\n",
    "                enrc[mg][x] = y\n",
    "                terms.add(x)\n",
    "    mat = []\n",
    "    for term in terms:\n",
    "        row = []\n",
    "        for mg in mgs:\n",
    "            if term in enrc[mg]:\n",
    "                row.append(enrc[mg][term])\n",
    "            else:\n",
    "                row.append(0.0)\n",
    "        mat.append(row)\n",
    "    print(mat)\n",
    "    df = pandas.DataFrame(numpy.array(mat),columns=mgs,index=list(terms)).T\n",
    "    fig, ax = plt.subplots(1,1,figsize=(12,7))\n",
    "    sns.heatmap(df,yticklabels=True,xticklabels=True,ax=ax, vmax=500,cmap=\"viridis\")\n",
    "    ax.set_title(\"Hallmark Combined Enrichment Score - {}\".format(p))\n",
    "    fig.tight_layout()"
   ]
  },
  {
   "cell_type": "code",
   "execution_count": null,
   "id": "7f801897",
   "metadata": {},
   "outputs": [],
   "source": []
  }
 ],
 "metadata": {
  "kernelspec": {
   "display_name": "Python 3 (ipykernel)",
   "language": "python",
   "name": "python3"
  },
  "language_info": {
   "codemirror_mode": {
    "name": "ipython",
    "version": 3
   },
   "file_extension": ".py",
   "mimetype": "text/x-python",
   "name": "python",
   "nbconvert_exporter": "python",
   "pygments_lexer": "ipython3",
   "version": "3.9.6"
  },
  "vscode": {
   "interpreter": {
    "hash": "f27e93ed4435eabb2ef1df46c51935510959c39405f2c071364c7337bf643072"
   }
  }
 },
 "nbformat": 4,
 "nbformat_minor": 5
}
