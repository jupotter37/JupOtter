{
 "cells": [
  {
   "cell_type": "markdown",
   "metadata": {},
   "source": [
    "# DEPRECATED! GO HERE FOR LATEST WORKING: <a href=\"../../job/gabbard/animated_gabbard.ipynb\">job/gabbard/animated_gabbard.ipynb</a>\n",
    "\n",
    "#### Please leave this alone though!"
   ]
  },
  {
   "cell_type": "code",
   "execution_count": 1,
   "metadata": {},
   "outputs": [
    {
     "ename": "Exception",
     "evalue": "STOP! THIS IS DEPRECATED!",
     "output_type": "error",
     "traceback": [
      "\u001b[0;31m---------------------------------------------------------------------------\u001b[0m",
      "\u001b[0;31mException\u001b[0m                                 Traceback (most recent call last)",
      "\u001b[0;32m<ipython-input-1-10bd9f2e988c>\u001b[0m in \u001b[0;36m<module>\u001b[0;34m\u001b[0m\n\u001b[0;32m----> 1\u001b[0;31m \u001b[0;32mraise\u001b[0m \u001b[0mException\u001b[0m\u001b[0;34m(\u001b[0m\u001b[0;34m\"STOP! THIS IS DEPRECATED!\"\u001b[0m\u001b[0;34m)\u001b[0m\u001b[0;34m\u001b[0m\u001b[0;34m\u001b[0m\u001b[0m\n\u001b[0m",
      "\u001b[0;31mException\u001b[0m: STOP! THIS IS DEPRECATED!"
     ]
    }
   ],
   "source": [
    "raise Exception(\"STOP! THIS IS DEPRECATED!\")"
   ]
  },
  {
   "cell_type": "code",
   "execution_count": null,
   "metadata": {},
   "outputs": [],
   "source": [
    "import numpy as np\n",
    "import pandas as pd\n",
    "import matplotlib as mpl\n",
    "import matplotlib.pyplot as plt\n",
    "import matplotlib.ticker as ticker\n",
    "from matplotlib.animation import FuncAnimation, FFMpegWriter\n",
    "from tqdm import tqdm"
   ]
  },
  {
   "cell_type": "code",
   "execution_count": null,
   "metadata": {},
   "outputs": [],
   "source": [
    "input_file_path = '../../../siads591 data/processed_data/gabbard/gabbard_36H20.pkl'\n",
    "freq = '36H'\n",
    "\n",
    "output_file_path = './test_breakup_event2.mp4'"
   ]
  },
  {
   "cell_type": "code",
   "execution_count": null,
   "metadata": {},
   "outputs": [],
   "source": [
    "bitrate = 1000\n",
    "dpi = 600\n",
    "fps = 60\n",
    "use_slice = slice(None, None, None) # 2 ways to slice the data, this is index slicing for the date range\n",
    "lasts_for = pd.Timedelta(\"600 days\")"
   ]
  },
  {
   "cell_type": "code",
   "execution_count": null,
   "metadata": {},
   "outputs": [],
   "source": [
    "df = pd.read_pickle(f'{input_file_path}')\n",
    "# df = df[(df.index >= \"1980-01-01\") & (df.index <= \"2021-01-20\")] # manually set min/max range based on datetime\n",
    "# df = df[(df.index >= \"2000-10-01\") & (df.index <= \"2021-01-01\")] # manually set min/max range based on datetime\n",
    "# df = df[(df.index >= \"2005-01-01\") & (df.index <= \"2015-01-01\")] # manually set min/max range based on datetime\n",
    "# df = df[(df.index >= \"2007-01-01\") & (df.index <= \"2009-05-01\")] # manually set min/max range based on datetime\n",
    "\n",
    "display(df.info())\n",
    "display(df.head(4))"
   ]
  },
  {
   "cell_type": "code",
   "execution_count": null,
   "metadata": {},
   "outputs": [],
   "source": [
    "dates = pd.date_range(start=df.index.min(), end=df.index.max(), freq=freq)\n",
    "dates = dates[use_slice]\n",
    "print(f'{len(dates)} frames')"
   ]
  },
  {
   "cell_type": "code",
   "execution_count": null,
   "metadata": {},
   "outputs": [],
   "source": [
    "# debris with breakup date\n",
    "satcat = pd.read_pickle(\"../../data/satcat_incl_breakup_dates.pkl.gz\", compression=\"gzip\")\n",
    "debris_event = pd.read_csv(\"breakup_custom.csv\").merge(satcat, how=\"left\", left_on='US SATELLITE NUMBER', right_on='NORAD_CAT_ID').merge(satcat[satcat.OBJECT_TYPE=='DEBRIS'], how=\"left\", left_on=\"launch_designator\", right_on=\"launch_designator\")[['NORAD_CAT_ID_y','US SATELLITE NUMBER', 'BREAKUP DATE']].dropna(subset=['NORAD_CAT_ID_y'])\n",
    "debris_event = debris_event.rename(columns={'NORAD_CAT_ID_y':'debris_id', 'US SATELLITE NUMBER':'parent_id', 'BREAKUP DATE':'breakup_date'})\n",
    "debris_event['debris_id'] = debris_event['debris_id'].astype(np.uint16)\n",
    "debris_event['parent_id'] = debris_event['parent_id'].astype(np.uint16)\n",
    "debris_event.loc[debris_event['parent_id'] == 25942,\"breakup_date\"] = \"3/11/2000\" # double event CBERS 1/SACI 1 R/B, attribute to earlier since the later one is dwarfed by FY1C anyways\n",
    "debris_event.loc[debris_event['parent_id'] == 43947,\"breakup_date\"] = \"3/29/2019\" # microsat-r\n",
    "debris_event['breakup_date'] = debris_event['breakup_date'].astype(np.datetime64)\n",
    "display(debris_event.info())"
   ]
  },
  {
   "cell_type": "code",
   "execution_count": null,
   "metadata": {},
   "outputs": [],
   "source": [
    "# breakup event display\n",
    "all_ids = debris_event['parent_id'].unique()\n",
    "event_display = pd.read_csv(\"breakup_custom.csv\")[['SATELLITE NAME', 'US SATELLITE NUMBER', 'BREAKUP DATE', 'DEBRIS CATALOGED', 'ASSESSED CAUSE', 'ADDITIONAL INFORMATION', 'Show', 'Message']]\n",
    "event_display = event_display[event_display['Show']]\n",
    "event_display[\"BREAKUP DATE\"] = event_display[\"BREAKUP DATE\"].astype(np.datetime64)\n",
    "event_display = event_display.sort_values(by=\"BREAKUP DATE\")\n",
    "event_display = event_display.fillna(\"\")\n",
    "event_display[\"message\"] = event_display.apply(lambda x:f'[{x[\"BREAKUP DATE\"].month_name()} {x[\"BREAKUP DATE\"].year}]  {x[\"SATELLITE NAME\"]}: {x[\"Message\"]} (+{x[\"DEBRIS CATALOGED\"]})', axis=1)"
   ]
  },
  {
   "cell_type": "code",
   "execution_count": null,
   "metadata": {},
   "outputs": [],
   "source": [
    "def get_new_debris(devents, cdf, e):\n",
    "    debris = devents[(devents.breakup_date + lasts_for > e) & (devents.breakup_date < e)].copy()\n",
    "    debris = debris.merge(cdf, left_on=\"debris_id\", right_on=\"NORAD_CAT_ID\")\n",
    "    debris = debris.drop(columns=['debris_id'])\n",
    "    debris['color'] = (1-((e - debris.breakup_date) / (lasts_for))) * 1\n",
    "    debris['color2'] = debris.color.apply(lambda x: f'#014762{\"{:02x}\".format(int(x*255))}')\n",
    "    debris['color'] = debris.color.apply(lambda x: f'#771300{\"{:02x}\".format(int(x*255))}')\n",
    "    return debris"
   ]
  },
  {
   "cell_type": "code",
   "execution_count": null,
   "metadata": {
    "scrolled": false
   },
   "outputs": [],
   "source": [
    "## set this to a specific frame number to draw only 1 frame in the notebook to test output\n",
    "# Set None to generate full video\n",
    "draw_one_frame = None\n",
    "\n",
    "fig, ax = plt.subplots(dpi=dpi, figsize=(8,5))\n",
    "fig.set_facecolor(\"white\")\n",
    "\n",
    "# turns out that you can scale the axis label!\n",
    "# do that instead of wasting computation time on data conversion\n",
    "ax.set_xlim(87*500,130*500)\n",
    "ax.set_ylim(100*20,2750*20)\n",
    "ticks_x = ticker.FuncFormatter(lambda x, pos: '{0:g}'.format(x/500))\n",
    "ax.xaxis.set_major_formatter(ticks_x)\n",
    "ticks_y = ticker.FuncFormatter(lambda x, pos: '{0:g}'.format(x/20))\n",
    "ax.yaxis.set_major_formatter(ticks_y)\n",
    "\n",
    "ax.set_xlabel(\"Orbital Period (min)\")\n",
    "ax.set_ylabel(\"Altitude (km)\")\n",
    "artists = []\n",
    "text_artist = []\n",
    "text_cache = set()\n",
    "\n",
    "def plot_it(ax,e):\n",
    "    global df, event_display, debris_event, text_artist, text_cache, artists\n",
    "    \n",
    "    # get data for frame\n",
    "    cdf = df[df.index==e]\n",
    "    debris = get_new_debris(debris_event, cdf, e)\n",
    "    \n",
    "#     s = slice(None,125,2)\n",
    "#     for a,b,c in zip(cdf.period_series[s], cdf.apoapsis_series[s], cdf.periapsis_series[s]):\n",
    "#         plt.plot([a, a], [b, c], '-', color='purple', lw=0.5, alpha= 0.3)\n",
    "    \n",
    "    # draw text annotations\n",
    "    events = event_display[(event_display['BREAKUP DATE'] + lasts_for*2/3 > e) & (event_display['BREAKUP DATE'] < e)]\n",
    "    if text_cache != set(events.index):\n",
    "        text_cache = set(events.index)\n",
    "        for a in text_artist:\n",
    "            a.remove()\n",
    "        text_artist = []\n",
    "        for i, event in enumerate(list(events.iterrows())):\n",
    "            a = ax.text(0.025, 0.95 - (i*0.035), event[1]['message'], color='k',\n",
    "                        horizontalalignment='left', verticalalignment='center', transform=ax.transAxes,\n",
    "                        fontsize=9, fontname='Arial Narrow')\n",
    "            text_artist.append(a)\n",
    "    \n",
    "    apo = ax.scatter(cdf.PERIOD_x500, cdf.APOAPSIS_x20, color='#fe2700', marker='o', edgecolors='none', alpha=0.2, s=1, label=\"Apoapsis\")\n",
    "    peri = ax.scatter(cdf.PERIOD_x500, cdf.PERIAPSIS_x20, color='#038fd5', marker='o', edgecolors='none', alpha=0.2, s=1, label=\"Periapsis\")\n",
    "    dapo = ax.scatter(debris.PERIOD_x500, debris.APOAPSIS_x20, color=debris.color, marker='o', edgecolors='none', s=0.8, label=\"_\")\n",
    "    dperi = ax.scatter(debris.PERIOD_x500, debris.PERIAPSIS_x20, color=debris.color2, marker='o', edgecolors='none', s=0.8, label=\"_\")\n",
    "    plt.legend(loc=\"upper right\", numpoints=1, fontsize=10, markerscale=10)\n",
    "    \n",
    "    return [apo,peri,dapo,dperi]\n",
    "\n",
    "def update(f):\n",
    "    global pbar, artists, yr\n",
    "    i, date = f\n",
    "    ax.set_title(f\"{date.month_name()} {date.year} (frame {i})\", loc='right')\n",
    "    for a in artists:\n",
    "        a.remove()\n",
    "    artists = plot_it(ax,date)\n",
    "    pbar.update(1)\n",
    "\n",
    "if type(draw_one_frame) == int:\n",
    "    update((draw_one_frame,dates[draw_one_frame]))\n",
    "else:\n",
    "    pbar = tqdm(total=len(dates)+1)\n",
    "    ani = FuncAnimation(fig, update, list(enumerate(dates)))\n",
    "    writervideo = FFMpegWriter(fps=fps, bitrate=bitrate)\n",
    "    ani.save(f'{output_file_path}', writer=writervideo, dpi=dpi)\n",
    "    pbar.close()"
   ]
  },
  {
   "cell_type": "code",
   "execution_count": null,
   "metadata": {},
   "outputs": [],
   "source": []
  },
  {
   "cell_type": "code",
   "execution_count": null,
   "metadata": {},
   "outputs": [],
   "source": []
  }
 ],
 "metadata": {
  "kernelspec": {
   "display_name": "Python 3",
   "language": "python",
   "name": "python3"
  },
  "language_info": {
   "codemirror_mode": {
    "name": "ipython",
    "version": 3
   },
   "file_extension": ".py",
   "mimetype": "text/x-python",
   "name": "python",
   "nbconvert_exporter": "python",
   "pygments_lexer": "ipython3",
   "version": "3.8.5"
  }
 },
 "nbformat": 4,
 "nbformat_minor": 4
}
