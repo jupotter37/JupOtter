{
 "cells": [
  {
   "cell_type": "markdown",
   "metadata": {},
   "source": [
    "# 02. Start Developing Meijer Module.\n",
    "\n",
    "Turn all the scripting junk into a somewhat useful module."
   ]
  },
  {
   "cell_type": "code",
   "execution_count": 2,
   "metadata": {},
   "outputs": [],
   "source": [
    "import os\n",
    "import requests\n",
    "import base64\n",
    "from cached_property import cached_property"
   ]
  },
  {
   "cell_type": "code",
   "execution_count": 30,
   "metadata": {},
   "outputs": [
    {
     "ename": "AssertionError",
     "evalue": "",
     "output_type": "error",
     "traceback": [
      "\u001b[0;31m---------------------------------------------------------------------------\u001b[0m",
      "\u001b[0;31mAssertionError\u001b[0m                            Traceback (most recent call last)",
      "\u001b[0;32m<ipython-input-30-6d5971687228>\u001b[0m in \u001b[0;36m<module>\u001b[0;34m\u001b[0m\n\u001b[1;32m     76\u001b[0m         \u001b[0ms\u001b[0m\u001b[0;34m.\u001b[0m\u001b[0mheaders\u001b[0m\u001b[0;34m[\u001b[0m\u001b[0;34m\"Build\"\u001b[0m\u001b[0;34m]\u001b[0m \u001b[0;34m=\u001b[0m \u001b[0;34m\"51000000\"\u001b[0m\u001b[0;34m\u001b[0m\u001b[0m\n\u001b[1;32m     77\u001b[0m         \u001b[0;32mreturn\u001b[0m \u001b[0ms\u001b[0m\u001b[0;34m\u001b[0m\u001b[0m\n\u001b[0;32m---> 78\u001b[0;31m \u001b[0mm\u001b[0m \u001b[0;34m=\u001b[0m \u001b[0mMeijer\u001b[0m\u001b[0;34m(\u001b[0m\u001b[0;34m)\u001b[0m\u001b[0;34m\u001b[0m\u001b[0m\n\u001b[0m\u001b[1;32m     79\u001b[0m \u001b[0mm\u001b[0m\u001b[0;34m.\u001b[0m\u001b[0mlogin\u001b[0m\u001b[0;34m(\u001b[0m\u001b[0;34m)\u001b[0m\u001b[0;34m\u001b[0m\u001b[0m\n",
      "\u001b[0;32m<ipython-input-30-6d5971687228>\u001b[0m in \u001b[0;36m__init__\u001b[0;34m(self, user, password, account_id)\u001b[0m\n\u001b[1;32m     22\u001b[0m         \u001b[0;31m#\u001b[0m\u001b[0;34m\u001b[0m\u001b[0;34m\u001b[0m\u001b[0m\n\u001b[1;32m     23\u001b[0m         \u001b[0mself\u001b[0m\u001b[0;34m.\u001b[0m\u001b[0mbearer_token\u001b[0m \u001b[0;34m=\u001b[0m \u001b[0;32mNone\u001b[0m\u001b[0;34m\u001b[0m\u001b[0m\n\u001b[0;32m---> 24\u001b[0;31m         \u001b[0mself\u001b[0m\u001b[0;34m.\u001b[0m\u001b[0mlogin\u001b[0m\u001b[0;34m(\u001b[0m\u001b[0;34m)\u001b[0m\u001b[0;34m\u001b[0m\u001b[0m\n\u001b[0m\u001b[1;32m     25\u001b[0m \u001b[0;34m\u001b[0m\u001b[0m\n\u001b[1;32m     26\u001b[0m     \u001b[0;32mdef\u001b[0m \u001b[0mlogin\u001b[0m\u001b[0;34m(\u001b[0m\u001b[0mself\u001b[0m\u001b[0;34m)\u001b[0m\u001b[0;34m:\u001b[0m\u001b[0;34m\u001b[0m\u001b[0m\n",
      "\u001b[0;32m<ipython-input-30-6d5971687228>\u001b[0m in \u001b[0;36mlogin\u001b[0;34m(self)\u001b[0m\n\u001b[1;32m     44\u001b[0m         \u001b[0mr\u001b[0m \u001b[0;34m=\u001b[0m \u001b[0mself\u001b[0m\u001b[0;34m.\u001b[0m\u001b[0msession\u001b[0m\u001b[0;34m.\u001b[0m\u001b[0mpost\u001b[0m\u001b[0;34m(\u001b[0m\u001b[0;34m**\u001b[0m\u001b[0mrequest\u001b[0m\u001b[0;34m)\u001b[0m\u001b[0;34m\u001b[0m\u001b[0m\n\u001b[1;32m     45\u001b[0m         \u001b[0mself\u001b[0m\u001b[0;34m.\u001b[0m\u001b[0mr_\u001b[0m \u001b[0;34m=\u001b[0m \u001b[0mr\u001b[0m \u001b[0;31m# debugs\u001b[0m\u001b[0;34m\u001b[0m\u001b[0m\n\u001b[0;32m---> 46\u001b[0;31m         \u001b[0;32massert\u001b[0m \u001b[0mr\u001b[0m\u001b[0;34m.\u001b[0m\u001b[0mstatus_code\u001b[0m\u001b[0;34m==\u001b[0m\u001b[0;36m200\u001b[0m\u001b[0;34m\u001b[0m\u001b[0m\n\u001b[0m\u001b[1;32m     47\u001b[0m \u001b[0;34m\u001b[0m\u001b[0m\n\u001b[1;32m     48\u001b[0m         \u001b[0mself\u001b[0m\u001b[0;34m.\u001b[0m\u001b[0mbearer_token\u001b[0m \u001b[0;34m=\u001b[0m \u001b[0mr\u001b[0m\u001b[0;34m.\u001b[0m\u001b[0mjson\u001b[0m\u001b[0;34m(\u001b[0m\u001b[0;34m)\u001b[0m\u001b[0;34m[\u001b[0m\u001b[0;34m\"access_token\"\u001b[0m\u001b[0;34m]\u001b[0m\u001b[0;34m\u001b[0m\u001b[0m\n",
      "\u001b[0;31mAssertionError\u001b[0m: "
     ]
    }
   ],
   "source": [
    "class Meijer(object):\n",
    "    account_services_secret=\"drAqas76Re7RekeBanaMaNEMah7paDE5\"\n",
    "    basic_token=base64.encodebytes(\"mma:{}\".format(account_services_secret).encode(\"UTF-8\")).decode(\"UTF-8\").strip()\n",
    "\n",
    "    \n",
    "    def __init__(self, user=None, password=None, account_id=None):\n",
    "        #\n",
    "        if user is None:\n",
    "            self.user = os.environ[\"MEIJER_USER\"]\n",
    "        else:\n",
    "            self.user = user\n",
    "        #   \n",
    "        if password is None:\n",
    "            self.password = os.environ[\"MEIJER_PASS\"]\n",
    "        else:\n",
    "            self.password = password\n",
    "        #\n",
    "        if account_id is None:\n",
    "            self.account_id = os.environ[\"MEIJER_ID\"]\n",
    "        else:\n",
    "            self.account_id = account_id\n",
    "        #   \n",
    "        self.bearer_token = None\n",
    "        self.login()\n",
    "            \n",
    "    def login(self):\n",
    "        request=dict()\n",
    "        request[\"url\"] = \"https://login.meijer.com/as/token.oauth2\"\n",
    "        request[\"headers\"] = {\n",
    "            'Platform': 'Android',\n",
    "            'Version': '5.10.0',\n",
    "            'Build': '51000000',\n",
    "            'Content-Type': 'application/x-www-form-urlencoded',\n",
    "            'Connection': \"Keep-Alive\",\n",
    "            'Accept-Encoding': 'gzip',\n",
    "            'User-Agent': 'okhttp/3.8.0'\n",
    "        }\n",
    "        request[\"params\"] =  {\n",
    "            'grant_type': 'password',\n",
    "            'scope': 'openid',\n",
    "            \"username\": self.user,\n",
    "            \"password\": self.password\n",
    "        }\n",
    "        r = self.session.post(**request)\n",
    "        self.r_ = r # debugs\n",
    "        assert r.status_code==200\n",
    "        \n",
    "        self.bearer_token = r.json()[\"access_token\"]\n",
    "        self.session.headers['Authorization']= 'Bearer {}'.format(self.bearer_token)\n",
    "        \n",
    "    @cached_property\n",
    "    def account_dict(self):\n",
    "        request=dict()\n",
    "        request[\"url\"] = \"https://mservices.meijer.com/dgtlmma/accounts/getAccount?id={}\".format(self.account_id)\n",
    "        request[\"headers\"] = {\n",
    "            'Accept': 'application/vnd.meijer.account.account-v1.0+json',\n",
    "            'Content-Type': 'application/json',\n",
    "        }\n",
    "        r = self.session.get(**request)\n",
    "        assert r.status_code==200\n",
    "        return r.json()\n",
    "\n",
    "    @cached_property\n",
    "    def session(self):\n",
    "        # Lets try a session.\n",
    "        s = requests.Session()\n",
    "        #\n",
    "        s.headers['Authorization']: 'Basic {}'.format(Meijer.basic_token)\n",
    "        #\n",
    "        s.headers[\"User-Agent\"] = \"okhttp/3.8.0\"\n",
    "        s.headers[\"Accept-Encoding\"] = \"gzip\"\n",
    "        s.headers[\"Connection\"] = \"Keep-Alive\"\n",
    "        #\n",
    "        s.headers[\"Platform\"] = \"Android\"\n",
    "        s.headers[\"Version\"] = \"5.10.0\"\n",
    "        s.headers[\"Build\"] = \"51000000\"\n",
    "        return s\n",
    "m = Meijer()\n",
    "m.login()"
   ]
  },
  {
   "cell_type": "code",
   "execution_count": 24,
   "metadata": {
    "scrolled": true
   },
   "outputs": [
    {
     "data": {
      "text/plain": [
       "dict_keys(['accountId', 'firstName', 'lastName', 'email', 'upgradeEmail', 'birthDate', 'zip', 'storeId', 'password', 'accountStatus', 'mPerksId', 'mPerksPhone', 'mPerksShopperId', 'mPerksExternalShopperId', 'mPerksPin', 'mPerksStoreId', 'mPerkStatus', 'eGuestId', 'eGuestStatus', 'employeeId', 'employeeStoreId', 'employeeStatus', 'ePanelId', 'ePanelStatus', 'createDate', 'createdBy', 'updatedDate', 'updatedBy', 'vehicleInformation', 'loyaltyCardNumber'])"
      ]
     },
     "execution_count": 24,
     "metadata": {},
     "output_type": "execute_result"
    }
   ],
   "source": [
    "m.account_dict.keys()"
   ]
  },
  {
   "cell_type": "code",
   "execution_count": 1,
   "metadata": {},
   "outputs": [
    {
     "ename": "NameError",
     "evalue": "name 'm' is not defined",
     "output_type": "error",
     "traceback": [
      "\u001b[0;31m---------------------------------------------------------------------------\u001b[0m",
      "\u001b[0;31mNameError\u001b[0m                                 Traceback (most recent call last)",
      "\u001b[0;32m<ipython-input-1-29f1161783ad>\u001b[0m in \u001b[0;36m<module>\u001b[0;34m\u001b[0m\n\u001b[0;32m----> 1\u001b[0;31m \u001b[0mself\u001b[0m\u001b[0;34m=\u001b[0m\u001b[0mm\u001b[0m\u001b[0;34m\u001b[0m\u001b[0;34m\u001b[0m\u001b[0m\n\u001b[0m\u001b[1;32m      2\u001b[0m \u001b[0;32mdef\u001b[0m \u001b[0mget_store\u001b[0m\u001b[0;34m(\u001b[0m\u001b[0mself\u001b[0m\u001b[0;34m,\u001b[0m \u001b[0mstore_id\u001b[0m\u001b[0;34m)\u001b[0m\u001b[0;34m:\u001b[0m\u001b[0;34m\u001b[0m\u001b[0;34m\u001b[0m\u001b[0m\n\u001b[1;32m      3\u001b[0m     \u001b[0mrequest\u001b[0m\u001b[0;34m=\u001b[0m\u001b[0mdict\u001b[0m\u001b[0;34m(\u001b[0m\u001b[0;34m)\u001b[0m\u001b[0;34m\u001b[0m\u001b[0;34m\u001b[0m\u001b[0m\n\u001b[1;32m      4\u001b[0m     \u001b[0mrequest\u001b[0m\u001b[0;34m[\u001b[0m\u001b[0;34m\"url\"\u001b[0m\u001b[0;34m]\u001b[0m \u001b[0;34m=\u001b[0m \u001b[0;34m\"https://mservices.meijer.com/storeinfo/api/mobile/stores/{}?dataVariant=2\"\u001b[0m\u001b[0;34m.\u001b[0m\u001b[0mformat\u001b[0m\u001b[0;34m(\u001b[0m\u001b[0mstore_id\u001b[0m\u001b[0;34m)\u001b[0m\u001b[0;34m\u001b[0m\u001b[0;34m\u001b[0m\u001b[0m\n\u001b[1;32m      5\u001b[0m     request[\"headers\"] = {\n",
      "\u001b[0;31mNameError\u001b[0m: name 'm' is not defined"
     ]
    }
   ],
   "source": [
    "self=m\n",
    "def get_store(self, store_id):\n",
    "    request=dict()\n",
    "    request[\"url\"] = \"https://mservices.meijer.com/storeinfo/api/mobile/stores/{}?dataVariant=2\".format(store_id)\n",
    "    request[\"headers\"] = {\n",
    "        'Version': '7',\n",
    "        'Authorization': 'Bearer {}'.format(self.bearer_token),\n",
    "        'Host': 'mservices.meijer.com',\n",
    "    }\n",
    "    r = self.session.get(**request)\n",
    "    assert r.status_code==200\n",
    "    return r.json()\n",
    "    "
   ]
  },
  {
   "cell_type": "code",
   "execution_count": 28,
   "metadata": {},
   "outputs": [
    {
     "data": {
      "text/plain": [
       "{'store': [{'AuxUnitInfo': {'AuxUnitId': 3071,\n",
       "    'UnitId': 71,\n",
       "    'Address': '1800 Holton Rd',\n",
       "    'AddressLine2': '',\n",
       "    'LongName': 'Holton Road - North Muskegon',\n",
       "    'ShortName': 'GS-3071',\n",
       "    'PhoneNumber': '231744-7629',\n",
       "    'City': 'North Muskegon',\n",
       "    'State': 'MI',\n",
       "    'ZipCode': '494451532',\n",
       "    'OpenDate': '1990-11-13T00:00:00',\n",
       "    'CloseDate': '1901-01-01T00:00:00',\n",
       "    'UpdatedTimestamp': '0001-01-01T00:00:00',\n",
       "    'Latitude': 43.28586,\n",
       "    'Longitude': -86.22109,\n",
       "    'ImageURL': 'http://us411.co/liberty_tax/images/Meijer_Logo2.jpg',\n",
       "    'ImageSize': 720,\n",
       "    'ImageFormat': 'jpg',\n",
       "    'TimeZone': 'E',\n",
       "    'DaylightSavings': '1',\n",
       "    'AuxUnitTypeId': 0,\n",
       "    'AuxUnitType': None},\n",
       "   'GasStationAmenities': [{'UnitId': 71,\n",
       "     'AuxiliaryUnitId': 3071,\n",
       "     'AmentityType': 'Beer',\n",
       "     'AmentityGroupType': 'Station'},\n",
       "    {'UnitId': 71,\n",
       "     'AuxiliaryUnitId': 3071,\n",
       "     'AmentityType': 'Kerosene',\n",
       "     'AmentityGroupType': 'Station'},\n",
       "    {'UnitId': 71,\n",
       "     'AuxiliaryUnitId': 3071,\n",
       "     'AmentityType': 'Open 24 Hrs',\n",
       "     'AmentityGroupType': 'Station'},\n",
       "    {'UnitId': 71,\n",
       "     'AuxiliaryUnitId': 3071,\n",
       "     'AmentityType': 'Atm',\n",
       "     'AmentityGroupType': 'Station'},\n",
       "    {'UnitId': 71,\n",
       "     'AuxiliaryUnitId': 3071,\n",
       "     'AmentityType': 'Lotto',\n",
       "     'AmentityGroupType': 'Station'},\n",
       "    {'UnitId': 71,\n",
       "     'AuxiliaryUnitId': 3071,\n",
       "     'AmentityType': 'RestRoom',\n",
       "     'AmentityGroupType': 'Station'},\n",
       "    {'UnitId': 71,\n",
       "     'AuxiliaryUnitId': 3071,\n",
       "     'AmentityType': 'Gift Cards',\n",
       "     'AmentityGroupType': 'Station'},\n",
       "    {'UnitId': 71,\n",
       "     'AuxiliaryUnitId': 3071,\n",
       "     'AmentityType': 'Tobacco',\n",
       "     'AmentityGroupType': 'Station'},\n",
       "    {'UnitId': 71,\n",
       "     'AuxiliaryUnitId': 3071,\n",
       "     'AmentityType': 'Propane',\n",
       "     'AmentityGroupType': 'Station'}],\n",
       "   'GasStationHours': [{'DayOfTheWeek': 'Sunday',\n",
       "     'OpenTime': '00:00:00',\n",
       "     'CloseTime': '00:00:00'},\n",
       "    {'DayOfTheWeek': 'Monday',\n",
       "     'OpenTime': '00:00:00',\n",
       "     'CloseTime': '00:00:00'},\n",
       "    {'DayOfTheWeek': 'Tuesday',\n",
       "     'OpenTime': '00:00:00',\n",
       "     'CloseTime': '00:00:00'},\n",
       "    {'DayOfTheWeek': 'Wednesday',\n",
       "     'OpenTime': '00:00:00',\n",
       "     'CloseTime': '00:00:00'},\n",
       "    {'DayOfTheWeek': 'Thursday',\n",
       "     'OpenTime': '00:00:00',\n",
       "     'CloseTime': '00:00:00'},\n",
       "    {'DayOfTheWeek': 'Friday',\n",
       "     'OpenTime': '00:00:00',\n",
       "     'CloseTime': '00:00:00'},\n",
       "    {'DayOfTheWeek': 'Saturday',\n",
       "     'OpenTime': '00:00:00',\n",
       "     'CloseTime': '00:00:00'}],\n",
       "   'FuelPrices': [{'FuelType': 'UNL-Regular Unleaded',\n",
       "     'FuelPrice': 2.629,\n",
       "     'PriceEffectiveDate': '2018-11-05T08:02:45.617'},\n",
       "    {'FuelType': 'MID-Medium Unleaded',\n",
       "     'FuelPrice': 2.929,\n",
       "     'PriceEffectiveDate': '2018-11-05T08:02:45.617'},\n",
       "    {'FuelType': 'PREM-Premium Unleaded',\n",
       "     'FuelPrice': 3.229,\n",
       "     'PriceEffectiveDate': '2018-11-05T08:02:45.617'},\n",
       "    {'FuelType': 'DSL-Diesel',\n",
       "     'FuelPrice': 3.289,\n",
       "     'PriceEffectiveDate': '2018-11-05T08:02:45.617'},\n",
       "    {'FuelType': 'KERO-Kerosene',\n",
       "     'FuelPrice': 4.199,\n",
       "     'PriceEffectiveDate': '2018-11-05T08:02:45.617'}],\n",
       "   'StoreFlag': None,\n",
       "   'UnitType': 'MS',\n",
       "   'IsMobileShoppingEnabled': 'Y',\n",
       "   'IsMobilePaymentEnabled': 'N',\n",
       "   'unitid': 71,\n",
       "   'streetAddress': '1800 Holton Rd',\n",
       "   'city': 'North Muskegon',\n",
       "   'state': 'MI',\n",
       "   'zip': '49445',\n",
       "   'latitude': 43.28345,\n",
       "   'longitude': -86.22025,\n",
       "   'storeHours': 'Open 24 hrs a day, 364 days a year.',\n",
       "   'storeName': '1800 Holton Rd, North Muskegon, MI 49445',\n",
       "   'milesFrom': 0.0,\n",
       "   'storeShortName': 'Holton Rd',\n",
       "   'storePhoneNumber': '2317447441',\n",
       "   'pharmacyPhone': '2317447610',\n",
       "   'isPharmacy': False,\n",
       "   'pharmacyHours': [{'dayHours': '8:00 AM - 9:00 PM', 'dayOfTheWeek': 'M-F'},\n",
       "    {'dayHours': '9:00 AM - 7:00 PM', 'dayOfTheWeek': 'Sat'},\n",
       "    {'dayHours': '10:00 AM - 6:00 PM', 'dayOfTheWeek': 'Sun'}]}]}"
      ]
     },
     "execution_count": 28,
     "metadata": {},
     "output_type": "execute_result"
    }
   ],
   "source": [
    "get_store(self, 71)"
   ]
  },
  {
   "cell_type": "code",
   "execution_count": null,
   "metadata": {},
   "outputs": [],
   "source": []
  },
  {
   "cell_type": "code",
   "execution_count": null,
   "metadata": {},
   "outputs": [],
   "source": []
  },
  {
   "cell_type": "code",
   "execution_count": null,
   "metadata": {},
   "outputs": [],
   "source": []
  },
  {
   "cell_type": "code",
   "execution_count": null,
   "metadata": {},
   "outputs": [],
   "source": []
  },
  {
   "cell_type": "code",
   "execution_count": null,
   "metadata": {},
   "outputs": [],
   "source": [
    "mid = os.environ[\"MEIJER_ID\"]\n",
    "\n",
    "request=dict()\n",
    "request[\"url\"] = \"https://mservices.meijer.com/dgtlmma/accounts/getAccount?id={}\".format(mid)\n",
    "request[\"headers\"] = {\n",
    "    'Accept': 'application/vnd.meijer.account.account-v1.0+json',\n",
    "    'Authorization': 'Bearer {}'.format(access_token),\n",
    "    'Content-Type': 'application/json',\n",
    "    'Platform': 'Android',\n",
    "    'Version': '5.10.0',\n",
    "    'Build': '51000000',\n",
    "    'User-Agent': 'okhttp/3.8.0'\n",
    "}\n",
    "r = requests.get(**request)\n",
    "assert r.status_code==200\n",
    "r.json().keys()"
   ]
  },
  {
   "cell_type": "code",
   "execution_count": null,
   "metadata": {},
   "outputs": [],
   "source": [
    "r.json()"
   ]
  },
  {
   "cell_type": "code",
   "execution_count": null,
   "metadata": {},
   "outputs": [],
   "source": []
  }
 ],
 "metadata": {
  "kernelspec": {
   "display_name": "Python 3",
   "language": "python",
   "name": "python3"
  },
  "language_info": {
   "codemirror_mode": {
    "name": "ipython",
    "version": 3
   },
   "file_extension": ".py",
   "mimetype": "text/x-python",
   "name": "python",
   "nbconvert_exporter": "python",
   "pygments_lexer": "ipython3",
   "version": "3.7.3"
  }
 },
 "nbformat": 4,
 "nbformat_minor": 2
}
