{
 "cells": [
  {
   "cell_type": "code",
   "execution_count": 21,
   "metadata": {},
   "outputs": [],
   "source": [
    "import numpy as np\n",
    "import pandas as pd"
   ]
  },
  {
   "cell_type": "code",
   "execution_count": 2,
   "metadata": {},
   "outputs": [],
   "source": [
    "data_dir = \".\"\n",
    "model_label = \"finnish_model_100_size\"\n",
    "from main import explain_using_raw_probs\n",
    "indexed_Cs, zero_centered_Ps, id_to_morpho_tag, explanations, explanations_nparray_dict = \\\n",
    "            explain_using_raw_probs(model_label, data_dir)"
   ]
  },
  {
   "cell_type": "code",
   "execution_count": 3,
   "metadata": {},
   "outputs": [
    {
     "data": {
      "text/plain": [
       "dict_keys(['ORG', 'TIT', 'PER', 'TIM', 'LOC', 'DATE', 'PRO', 'MISC', 'EVENT', 'OUTSIDE'])"
      ]
     },
     "execution_count": 3,
     "metadata": {},
     "output_type": "execute_result"
    }
   ],
   "source": [
    "indexed_Cs.keys()"
   ]
  },
  {
   "cell_type": "code",
   "execution_count": 4,
   "metadata": {},
   "outputs": [],
   "source": [
    "\n",
    "M = indexed_Cs['LOC'][0][0].shape[0]"
   ]
  },
  {
   "cell_type": "code",
   "execution_count": 5,
   "metadata": {},
   "outputs": [
    {
     "data": {
      "text/plain": [
       "(2040,)"
      ]
     },
     "execution_count": 5,
     "metadata": {},
     "output_type": "execute_result"
    }
   ],
   "source": [
    "indexed_Cs['LOC'].shape"
   ]
  },
  {
   "cell_type": "code",
   "execution_count": 6,
   "metadata": {},
   "outputs": [
    {
     "data": {
      "text/plain": [
       "(9, 89)"
      ]
     },
     "execution_count": 6,
     "metadata": {},
     "output_type": "execute_result"
    }
   ],
   "source": [
    "indexed_Cs['LOC'][0].shape"
   ]
  },
  {
   "cell_type": "code",
   "execution_count": 7,
   "metadata": {},
   "outputs": [],
   "source": [
    "n_samples_0 = indexed_Cs['LOC'][0].shape[0]"
   ]
  },
  {
   "cell_type": "code",
   "execution_count": 8,
   "metadata": {},
   "outputs": [
    {
     "data": {
      "text/plain": [
       "array([[ 1,  1,  1,  1,  0,  1,  0,  1,  0,  0,  1,  0,  0,  0,  0,  0,\n",
       "         0,  0,  0,  0,  0,  1,  0,  0,  0,  0,  0,  0,  0,  0,  0,  0,\n",
       "         0,  0,  0,  0,  0,  0,  0,  0,  0,  0,  0,  0,  0,  0,  0,  0,\n",
       "         0,  0,  0,  0,  0,  0,  0,  0,  0,  0,  0,  0,  0,  0,  0,  0,\n",
       "         0,  0,  0,  0,  0,  0,  0,  0,  0,  0,  0,  0,  0,  0,  0,  0,\n",
       "         0,  0,  0,  0,  0,  0,  0,  0,  0],\n",
       "       [-1,  1,  1,  1,  0,  1,  0,  1,  0,  0,  1,  0,  0,  0,  0,  0,\n",
       "         0,  0,  0,  0,  0,  1,  0,  0,  0,  0,  0,  0,  0,  0,  0,  0,\n",
       "         0,  0,  0,  0,  0,  0,  0,  0,  0,  0,  0,  0,  0,  0,  0,  0,\n",
       "         0,  0,  0,  0,  0,  0,  0,  0,  0,  0,  0,  0,  0,  0,  0,  0,\n",
       "         0,  0,  0,  0,  0,  0,  0,  0,  0,  0,  0,  0,  0,  0,  0,  0,\n",
       "         0,  0,  0,  0,  0,  0,  0,  0,  0],\n",
       "       [ 1, -1,  1,  1,  0,  1,  0,  1,  0,  0,  1,  0,  0,  0,  0,  0,\n",
       "         0,  0,  0,  0,  0,  1,  0,  0,  0,  0,  0,  0,  0,  0,  0,  0,\n",
       "         0,  0,  0,  0,  0,  0,  0,  0,  0,  0,  0,  0,  0,  0,  0,  0,\n",
       "         0,  0,  0,  0,  0,  0,  0,  0,  0,  0,  0,  0,  0,  0,  0,  0,\n",
       "         0,  0,  0,  0,  0,  0,  0,  0,  0,  0,  0,  0,  0,  0,  0,  0,\n",
       "         0,  0,  0,  0,  0,  0,  0,  0,  0]])"
      ]
     },
     "execution_count": 8,
     "metadata": {},
     "output_type": "execute_result"
    }
   ],
   "source": [
    "indexed_Cs['LOC'][0][:3]"
   ]
  },
  {
   "cell_type": "code",
   "execution_count": 9,
   "metadata": {},
   "outputs": [
    {
     "data": {
      "text/plain": [
       "[0.0,\n",
       " 0.003384900000000024,\n",
       " 0.0,\n",
       " 0.0,\n",
       " 0.0,\n",
       " 0.0,\n",
       " 0.00011309999999997711,\n",
       " 0.0,\n",
       " 0.0]"
      ]
     },
     "execution_count": 9,
     "metadata": {},
     "output_type": "execute_result"
    }
   ],
   "source": [
    "zero_centered_Ps['LOC'][0]"
   ]
  },
  {
   "cell_type": "code",
   "execution_count": 10,
   "metadata": {},
   "outputs": [],
   "source": [
    "import seaborn as sns"
   ]
  },
  {
   "cell_type": "code",
   "execution_count": 11,
   "metadata": {
    "scrolled": false
   },
   "outputs": [
    {
     "data": {
      "text/plain": [
       "<matplotlib.axes._subplots.AxesSubplot at 0x14b2780b8>"
      ]
     },
     "execution_count": 11,
     "metadata": {},
     "output_type": "execute_result"
    },
    {
     "data": {
      "image/png": "[encoded data removed]",
      "text/plain": [
       "<Figure size 432x288 with 1 Axes>"
      ]
     },
     "metadata": {
      "needs_background": "light"
     },
     "output_type": "display_data"
    }
   ],
   "source": [
    "sns.scatterplot(range(n_samples_0), zero_centered_Ps['LOC'][0])"
   ]
  },
  {
   "cell_type": "code",
   "execution_count": 13,
   "metadata": {},
   "outputs": [
    {
     "name": "stdout",
     "output_type": "stream",
     "text": [
      "ORG\n",
      "TIT\n",
      "PER\n",
      "TIM\n",
      "LOC\n",
      "DATE\n",
      "PRO\n",
      "MISC\n",
      "EVENT\n",
      "OUTSIDE\n",
      "ORG\n",
      "TIT\n",
      "PER\n",
      "TIM\n",
      "LOC\n",
      "DATE\n",
      "PRO\n",
      "MISC\n",
      "EVENT\n",
      "OUTSIDE\n"
     ]
    }
   ],
   "source": [
    "norm_explanations_nparray_dict = dict()\n",
    "for entity_type in explanations_nparray_dict.keys():\n",
    "    norm_explanations_nparray_dict[entity_type] = (explanations_nparray_dict[entity_type]-np.mean(explanations_nparray_dict[entity_type], axis=1, keepdims=True))/np.std(explanations_nparray_dict[entity_type], axis=1, keepdims=True)\n",
    "    \n",
    "concatenated_norm_explanations = None\n",
    "norm_region_entity_types = []\n",
    "for entity_type in norm_explanations_nparray_dict.keys():\n",
    "    print(entity_type)\n",
    "    norm_region_entity_types += [entity_type] * norm_explanations_nparray_dict[entity_type].shape[0]\n",
    "    if concatenated_norm_explanations is None:\n",
    "        concatenated_norm_explanations = norm_explanations_nparray_dict[entity_type]\n",
    "    else:\n",
    "        concatenated_norm_explanations = np.concatenate((concatenated_norm_explanations,\n",
    "                                                         norm_explanations_nparray_dict[entity_type]),\n",
    "                                                        axis=0)\n",
    "\n",
    "concatenated_unnorm_explanations = None\n",
    "unnorm_region_entity_types = []\n",
    "for entity_type in explanations_nparray_dict.keys():\n",
    "    print(entity_type)\n",
    "    unnorm_region_entity_types += [entity_type] * explanations_nparray_dict[entity_type].shape[0]\n",
    "    if concatenated_unnorm_explanations is None:\n",
    "        concatenated_unnorm_explanations = explanations_nparray_dict[entity_type]\n",
    "    else:\n",
    "        concatenated_unnorm_explanations = np.concatenate((concatenated_unnorm_explanations,\n",
    "                                                         explanations_nparray_dict[entity_type]),\n",
    "                                                        axis=0)\n",
    "                                                         \n",
    "                                                         \n",
    "                                                         \n",
    "                                                         "
   ]
  },
  {
   "cell_type": "code",
   "execution_count": 19,
   "metadata": {},
   "outputs": [],
   "source": [
    "def plot_single_case(entity_type, morpho_tag_id):\n",
    "    single_case_X = concatenated_unnorm_explanations[:, morpho_tag_id].reshape([-1,1])\n",
    "    single_case_y = np.array([int(x == entity_type) for x in unnorm_region_entity_types]).reshape([-1, 1])\n",
    "    \n",
    "    single_case_df = pd.DataFrame(np.concatenate((single_case_X, single_case_y), axis=1), columns=[\"X\", \"y\"])\n",
    "    \n",
    "    sns.scatterplot(data=single_case_df, x=\"X\", y=\"y\", style=\"y\", hue=\"y\")"
   ]
  },
  {
   "cell_type": "code",
   "execution_count": 15,
   "metadata": {},
   "outputs": [
    {
     "ename": "NameError",
     "evalue": "name 'fig' is not defined",
     "output_type": "error",
     "traceback": [
      "\u001b[0;31m---------------------------------------------------------------------------\u001b[0m",
      "\u001b[0;31mNameError\u001b[0m                                 Traceback (most recent call last)",
      "\u001b[0;32m<ipython-input-15-aabb90a3e805>\u001b[0m in \u001b[0;36m<module>\u001b[0;34m\u001b[0m\n\u001b[0;32m----> 1\u001b[0;31m \u001b[0mfig\u001b[0m\u001b[0;34m.\u001b[0m\u001b[0msavefig\u001b[0m\u001b[0;34m(\u001b[0m\u001b[0;34m\"Finnish-LOC-plot-binary-classification-problems.pdf\"\u001b[0m\u001b[0;34m)\u001b[0m\u001b[0;34m\u001b[0m\u001b[0m\n\u001b[0m",
      "\u001b[0;31mNameError\u001b[0m: name 'fig' is not defined"
     ]
    }
   ],
   "source": [
    "fig.savefig(\"Finnish-LOC-plot-binary-classification-problems.pdf\")"
   ]
  },
  {
   "cell_type": "code",
   "execution_count": 22,
   "metadata": {},
   "outputs": [
    {
     "data": {
      "image/png": "[encoded data removed]",
      "text/plain": [
       "<Figure size 432x288 with 1 Axes>"
      ]
     },
     "metadata": {
      "needs_background": "light"
     },
     "output_type": "display_data"
    }
   ],
   "source": [
    "plot_single_case('LOC', 6)"
   ]
  },
  {
   "cell_type": "code",
   "execution_count": 41,
   "metadata": {},
   "outputs": [
    {
     "name": "stdout",
     "output_type": "stream",
     "text": [
      "('ENDED', 'ORG')\n",
      "('ENDED', 'TIT')\n",
      "('ENDED', 'PER')\n",
      "('ENDED', 'TIM')\n",
      "('ENDED', 'LOC')\n",
      "('ENDED', 'DATE')\n",
      "('ENDED', 'PRO')\n",
      "('ENDED', 'MISC')\n",
      "('ENDED', 'EVENT')\n",
      "('ENDED', 'OUTSIDE')\n"
     ]
    }
   ],
   "source": [
    "import sklearn\n",
    "from sklearn.cluster import SpectralClustering, MiniBatchKMeans\n",
    "from collections import defaultdict\n",
    "\n",
    "spectral_cmodels = {entity_tag: dict() for entity_tag in norm_explanations_nparray_dict.keys()}\n",
    "\n",
    "mis_scores = defaultdict(list)\n",
    "\n",
    "for entity_tag in norm_explanations_nparray_dict.keys():\n",
    "    for morpho_tag_id, morpho_tag in id_to_morpho_tag.items():\n",
    "\n",
    "        # spectral_cmodels[entity_tag][morpho_tag] = SpectralClustering(n_clusters=2,\n",
    "        #                                                              eigen_solver=\"arpack\", \n",
    "        #                                                              assign_labels=\"discretize\", \n",
    "        #                                                              affinity=\"nearest_neighbors\",\n",
    "        #                                                             n_jobs=4)\n",
    "        spectral_cmodels[entity_tag][morpho_tag] = MiniBatchKMeans(n_clusters=2, verbose=0)\n",
    "        spectral_cmodels[entity_tag][morpho_tag].fit(concatenated_unnorm_explanations[:, morpho_tag_id].reshape([-1, 1]))\n",
    "        \n",
    "        binarized_y = [int(x == entity_tag) for x in unnorm_region_entity_types]\n",
    "        \n",
    "        mis_score = sklearn.metrics.mutual_info_score(binarized_y, \n",
    "                                                      spectral_cmodels[entity_tag][morpho_tag].labels_)\n",
    "        mis_scores[entity_tag].append((entity_tag, morpho_tag, mis_score))\n",
    "    print((\"ENDED\", entity_tag))\n",
    "        \n"
   ]
  },
  {
   "cell_type": "code",
   "execution_count": 53,
   "metadata": {},
   "outputs": [
    {
     "name": "stdout",
     "output_type": "stream",
     "text": [
      "('ORG', 'NumType=Card', 0.010989978540495562)\n",
      "('ORG', 'VerbForm=Inf', 0.00998515810892639)\n",
      "('ORG', 'InfForm=2', 0.009935899014902688)\n",
      "('ORG', 'Case=Par', 0.0073123141743958245)\n",
      "('ORG', 'Derivation=Minen', 0.00625456663137218)\n",
      "('ORG', 'Case=Nom', 0.005402219305568813)\n",
      "('ORG', 'VerbForm=Part', 0.005367138066530221)\n",
      "('ORG', 'Person[psor]=3', 0.00400551705077343)\n",
      "('ORG', 'Derivation=Sti', 0.0037050854604428634)\n",
      "('ORG', 'Case=Ins', 0.00366170209296452)\n",
      "{'Case=Nom'}\n",
      "====\n",
      "('TIT', 'Foreign=Yes', 0.002009941701200753)\n",
      "('TIT', 'Person=0', 0.0016760783851705128)\n",
      "('TIT', 'Case=Ins', 0.0011647906869846764)\n",
      "('TIT', 'Case=Ine', 0.0010738402573609862)\n",
      "('TIT', 'InfForm=2', 0.0008909141678929353)\n",
      "('TIT', 'Case=Ill', 0.0007002905890604802)\n",
      "('TIT', 'Derivation=Minen', 0.0006792008343174602)\n",
      "('TIT', 'Case=Par', 0.0006732549296087475)\n",
      "('TIT', 'Tense=Pres', 0.0006196827578739475)\n",
      "('TIT', 'NumType=Ord', 0.0005910202816931318)\n",
      "{'Case=Par'}\n",
      "====\n",
      "('PER', 'Number=Sing', 0.014351352986040997)\n",
      "('PER', 'Style=Coll', 0.0032119655960005655)\n",
      "('PER', 'VerbForm=Fin', 0.0013916952009882903)\n",
      "('PER', 'Case=Gen', 0.0012824266566488912)\n",
      "('PER', 'Derivation=Minen', 0.0011172910379746714)\n",
      "('PER', 'Case=Par', 0.0010483623055470561)\n",
      "('PER', 'Case=Ins', 0.000966288903104507)\n",
      "('PER', 'Derivation=Lainen', 0.0008513275411910111)\n",
      "('PER', 'PronType=Dem', 0.0008050596209021946)\n",
      "('PER', 'Derivation=Sti', 0.0007789866435498572)\n",
      "{'Case=Par', 'Case=Gen', 'Number=Sing'}\n",
      "====\n",
      "('TIM', 'PartForm=Past', 0.01480866578882447)\n",
      "('TIM', 'Case=Ess', 0.013880822048494036)\n",
      "('TIM', 'Degree=Cmp', 0.01079360547727408)\n",
      "('TIM', 'Case=Gen', 0.00857684887142085)\n",
      "('TIM', 'Number=Plur', 0.007876908115534265)\n",
      "('TIM', 'Derivation=Vs', 0.007344517073321091)\n",
      "('TIM', 'Mood=Ind', 0.006802414767373255)\n",
      "('TIM', 'InfForm=2', 0.0044911397699671125)\n",
      "('TIM', 'VerbForm=Inf', 0.003996717129798197)\n",
      "('TIM', 'AdpType=Post', 0.0038082549928011925)\n",
      "{'Case=Ess', 'Number=Plur', 'Case=Gen'}\n",
      "====\n",
      "('LOC', 'Case=Ine', 0.002764109403871673)\n",
      "('LOC', 'Style=Coll', 0.0025587065112747135)\n",
      "('LOC', 'InfForm=2', 0.002296946099375122)\n",
      "('LOC', 'Derivation=Ja', 0.001818885816220632)\n",
      "('LOC', 'Case=Ela', 0.001313829893550944)\n",
      "('LOC', 'Case=All', 0.0012114860481285197)\n",
      "('LOC', 'Derivation=Sti', 0.0009414018833748816)\n",
      "('LOC', 'Case=Ins', 0.0008418512570909152)\n",
      "('LOC', 'Case=Ade', 0.0008392461087042015)\n",
      "('LOC', 'Number=Sing', 0.0007041297129834062)\n",
      "{'Case=Ade', 'Case=Ine', 'Case=Ela', 'Number=Sing'}\n",
      "====\n",
      "('DATE', 'Case=Ill', 0.0033854002195621846)\n",
      "('DATE', 'VerbForm=Fin', 0.0031405009281203337)\n",
      "('DATE', 'Tense=Pres', 0.002427668044718563)\n",
      "('DATE', 'Case=Par', 0.0016888291192803126)\n",
      "('DATE', 'Abbr=Yes', 0.001646176254984512)\n",
      "('DATE', 'Mood=Ind', 0.001527205500746677)\n",
      "('DATE', 'Person=3', 0.0015225846358192059)\n",
      "('DATE', 'AdpType=Post', 0.0009838338419429563)\n",
      "('DATE', 'Case=Ins', 0.0009416495675273412)\n",
      "('DATE', 'Case=Nom', 0.0008270178656374126)\n",
      "{'Case=Nom'}\n",
      "====\n",
      "('PRO', 'Number=Sing', 0.013303828096243059)\n",
      "('PRO', 'NumType=Card', 0.010637540033036477)\n",
      "('PRO', 'Number=Plur', 0.005230744138139912)\n",
      "('PRO', 'NumType=Ord', 0.005130397186192785)\n",
      "('PRO', 'Foreign=Yes', 0.004802725708737424)\n",
      "('PRO', 'Connegative=Yes', 0.003130655147772065)\n",
      "('PRO', 'Case=Nom', 0.0030608441813233245)\n",
      "('PRO', 'Mood=Pot', 0.002800542629392222)\n",
      "('PRO', 'Person=1', 0.002558246306594788)\n",
      "('PRO', 'Abbr=Yes', 0.002230279853662257)\n",
      "{'Case=Nom', 'Person=1', 'Number=Sing'}\n",
      "====\n",
      "('MISC', 'Mood=Ind', 0.002448669382691597)\n",
      "('MISC', 'Person[psor]=3', 0.001822922959003142)\n",
      "('MISC', 'Abbr=Yes', 0.0005682511400408857)\n",
      "('MISC', 'NumType=Ord', 0.0005055929777253396)\n",
      "('MISC', 'PronType=Dem', 0.00038105563489550855)\n",
      "('MISC', 'Case=All', 0.00037728943468290886)\n",
      "('MISC', 'Degree=Cmp', 0.0003507670620129591)\n",
      "('MISC', 'Foreign=Yes', 0.0003467530855322475)\n",
      "('MISC', 'VerbForm=Fin', 0.0003375048797207913)\n",
      "('MISC', 'Tense=Pres', 0.000311063801373212)\n",
      "{'Abbr=Yes', 'Person[psor]=3'}\n",
      "====\n",
      "('EVENT', 'VerbForm=Inf', 0.0008626142985427533)\n",
      "('EVENT', 'Case=Nom', 0.00038507846545229353)\n",
      "('EVENT', 'Case=Ine', 0.00028540627818244603)\n",
      "('EVENT', '*UNKNOWN*', 0.0002277283461984119)\n",
      "('EVENT', 'Degree=Pos', 0.00020883862833663558)\n",
      "('EVENT', 'Number=Plur', 0.0002010450036735445)\n",
      "('EVENT', 'Voice=Act', 0.00010475429612724152)\n",
      "('EVENT', 'Person=3', 0.00010312959985128017)\n",
      "('EVENT', 'InfForm=1', 9.129503808261185e-05)\n",
      "('EVENT', 'Voice=Pass', 7.234726194091726e-05)\n",
      "{'*UNKNOWN*', 'Case=Ine', 'Case=Nom', 'Degree=Pos', 'Number=Plur', 'InfForm=1'}\n",
      "====\n",
      "('OUTSIDE', 'VerbForm=Fin', 1.753926026614144e-05)\n",
      "('OUTSIDE', 'Voice=Act', 1.6041770525354517e-05)\n",
      "('OUTSIDE', 'Tense=Pres', 1.5213830481810523e-05)\n",
      "('OUTSIDE', 'Style=Coll', 1.3945621895292224e-05)\n",
      "('OUTSIDE', 'Person=3', 9.34596413891195e-06)\n",
      "('OUTSIDE', 'NumType=Card', 8.585774603791238e-06)\n",
      "('OUTSIDE', 'Case=Nom', 6.243854739228574e-06)\n",
      "('OUTSIDE', 'Person=1', 5.99937593790973e-06)\n",
      "('OUTSIDE', 'VerbForm=Part', 5.173566959321314e-06)\n",
      "('OUTSIDE', 'PartForm=Past', 5.150023601958051e-06)\n",
      "{'Tense=Pres', 'Case=Nom', 'Voice=Act', 'VerbForm=Fin'}\n",
      "====\n"
     ]
    }
   ],
   "source": [
    "common_morpho_tags_mis_scores = dict()\n",
    "for entity_tag in norm_explanations_nparray_dict.keys():\n",
    "    print(\"\\n\".join([str(x) for x in sorted(mis_scores[entity_tag], key=lambda x: x[2], reverse=True)[:10]]))\n",
    "    mean_explanations_finnish = sorted([(entity_tag, id_to_morpho_tag[idx], abs(mean_explanation_for_morpho_tag)) for idx, mean_explanation_for_morpho_tag in enumerate(list(np.mean(explanations_nparray_dict[entity_tag], axis=0)))],\n",
    "       key=lambda x: x[2],\n",
    "       reverse=True)[:10]\n",
    "    common_morpho_tags_mis_scores[entity_type] = set([x[1] for x in sorted(mis_scores[entity_tag], key=lambda x: x[2], reverse=True)[:10]]).intersection(set([x[1] for x in mean_explanations_finnish]))\n",
    "    print(common_morpho_tags_mis_scores[entity_type])\n",
    "    print(\"====\")"
   ]
  },
  {
   "cell_type": "code",
   "execution_count": null,
   "metadata": {},
   "outputs": [],
   "source": []
  },
  {
   "cell_type": "code",
   "execution_count": 56,
   "metadata": {},
   "outputs": [
    {
     "name": "stdout",
     "output_type": "stream",
     "text": [
      "('ENDED', 'ORG')\n",
      "('ENDED', 'TIT')\n",
      "('ENDED', 'PER')\n",
      "('ENDED', 'TIM')\n",
      "('ENDED', 'LOC')\n",
      "('ENDED', 'DATE')\n",
      "('ENDED', 'PRO')\n",
      "('ENDED', 'MISC')\n",
      "('ENDED', 'EVENT')\n",
      "('ENDED', 'OUTSIDE')\n"
     ]
    }
   ],
   "source": [
    "import sklearn\n",
    "from sklearn.cluster import SpectralClustering, MiniBatchKMeans\n",
    "from collections import defaultdict\n",
    "\n",
    "spectral_cmodels = {entity_tag: dict() for entity_tag in norm_explanations_nparray_dict.keys()}\n",
    "\n",
    "mis_scores = defaultdict(list)\n",
    "\n",
    "for entity_tag in norm_explanations_nparray_dict.keys():\n",
    "    for morpho_tag_id, morpho_tag in id_to_morpho_tag.items():\n",
    "\n",
    "        # spectral_cmodels[entity_tag][morpho_tag] = SpectralClustering(n_clusters=2,\n",
    "        #                                                              eigen_solver=\"arpack\", \n",
    "        #                                                              assign_labels=\"discretize\", \n",
    "        #                                                              affinity=\"nearest_neighbors\",\n",
    "        #                                                             n_jobs=4)\n",
    "        spectral_cmodels[entity_tag][morpho_tag] = MiniBatchKMeans(n_clusters=2, verbose=0)\n",
    "        spectral_cmodels[entity_tag][morpho_tag].fit(concatenated_norm_explanations[:, morpho_tag_id].reshape([-1, 1]))\n",
    "        \n",
    "        binarized_y = [int(x == entity_tag) for x in norm_region_entity_types]\n",
    "        \n",
    "        mis_score = sklearn.metrics.mutual_info_score(binarized_y, \n",
    "                                                      spectral_cmodels[entity_tag][morpho_tag].labels_)\n",
    "        mis_scores[entity_tag].append((entity_tag, morpho_tag, mis_score))\n",
    "    print((\"ENDED\", entity_tag))\n",
    "        \n"
   ]
  },
  {
   "cell_type": "code",
   "execution_count": 57,
   "metadata": {},
   "outputs": [
    {
     "name": "stdout",
     "output_type": "stream",
     "text": [
      "('ORG', 'Clitic=Kin', 0.14474517821659744)\n",
      "('ORG', 'Polarity=Neg', 0.14060785843570012)\n",
      "('ORG', 'Derivation=Sti', 0.13680578599683013)\n",
      "('ORG', 'Person=0', 0.1361917934560236)\n",
      "('ORG', 'PronType=Rel', 0.1338871408496162)\n",
      "('ORG', '*BLANK*', 0.13206736848206807)\n",
      "('ORG', 'Clitic=Pa', 0.1314679698314255)\n",
      "('ORG', 'Clitic=Han,Pa', 0.13127118214379807)\n",
      "('ORG', 'PronType=Rcp', 0.13124480099348082)\n",
      "('ORG', 'Clitic=Han,Ko', 0.1312212008262424)\n",
      "set()\n",
      "====\n",
      "('TIT', 'InfForm=3', 0.014148104674451965)\n",
      "('TIT', 'Clitic=Kaan', 0.014111229591512075)\n",
      "('TIT', 'Derivation=Ton', 0.014078512047560355)\n",
      "('TIT', 'Clitic=Han,Pa', 0.013893502420327032)\n",
      "('TIT', 'Clitic=Pa', 0.013881367593511683)\n",
      "('TIT', 'Number[psor]=Plur', 0.013871261212763582)\n",
      "('TIT', 'Clitic=Ko,S', 0.013842992200926276)\n",
      "('TIT', 'Case=Com', 0.01381476562834634)\n",
      "('TIT', 'Clitic=Ko', 0.013804694974585852)\n",
      "('TIT', 'Reflex=Yes', 0.013788593148191593)\n",
      "set()\n",
      "====\n",
      "('PER', 'Derivation=Sti', 0.009842748891689082)\n",
      "('PER', 'Number[psor]=Sing', 0.00668960418607463)\n",
      "('PER', 'Derivation=Vs', 0.005686186922254394)\n",
      "('PER', 'Mood=Pot', 0.004755391882328652)\n",
      "('PER', 'Person[psor]=2', 0.0043902602943336755)\n",
      "('PER', 'PronType=Prs', 0.004385218126487955)\n",
      "('PER', 'Clitic=Kaan', 0.004320998348259997)\n",
      "('PER', 'InfForm=3', 0.004202872004815464)\n",
      "('PER', 'Style=Coll', 0.003962762556461705)\n",
      "('PER', 'Derivation=Ttain', 0.003713400413232315)\n",
      "{'Style=Coll'}\n",
      "====\n",
      "('TIM', 'Polarity=Neg', 0.03871981902413123)\n",
      "('TIM', 'Derivation=Ton', 0.03704170705887769)\n",
      "('TIM', 'PartForm=Agt', 0.035784518173572505)\n",
      "('TIM', 'PronType=Int', 0.03497011808307754)\n",
      "('TIM', 'Person[psor]=3', 0.03422364408614076)\n",
      "('TIM', 'InfForm=3', 0.034131411611170503)\n",
      "('TIM', 'Case=Abe', 0.033928676488712756)\n",
      "('TIM', 'AdpType=Prep', 0.033559904082716946)\n",
      "('TIM', 'PronType=Rcp', 0.03335363222102797)\n",
      "('TIM', 'Number[psor]=Plur', 0.032775215116108425)\n",
      "set()\n",
      "====\n",
      "('LOC', 'Case=Ine', 0.027889874129138473)\n",
      "('LOC', 'Mood=Pot', 0.018285416999950968)\n",
      "('LOC', 'Clitic=Kaan', 0.015795753212046126)\n",
      "('LOC', 'Case=Abe', 0.01576315364750673)\n",
      "('LOC', 'PronType=Int', 0.015592097089302634)\n",
      "('LOC', 'Polarity=Neg', 0.01510525074620618)\n",
      "('LOC', 'Person[psor]=2', 0.014978491030108343)\n",
      "('LOC', 'InfForm=3', 0.014533082194503374)\n",
      "('LOC', 'Derivation=Ja', 0.014388631172811792)\n",
      "('LOC', 'Reflex=Yes', 0.013303472860630813)\n",
      "{'Case=Ine'}\n",
      "====\n",
      "('DATE', 'Voice=Pass', 0.02518500043777607)\n",
      "('DATE', 'PartForm=Past', 0.022863974237880162)\n",
      "('DATE', 'VerbForm=Part', 0.02136440425649131)\n",
      "('DATE', 'Case=Nom', 0.01579736478451472)\n",
      "('DATE', 'Case=Ess', 0.008136848286281199)\n",
      "('DATE', 'VerbForm=Fin', 0.004499850551626067)\n",
      "('DATE', '*UNKNOWN*', 0.004162510741782687)\n",
      "('DATE', 'Mood=Ind', 0.004097683080244956)\n",
      "('DATE', 'Clitic=Ko', 0.0040627358907446565)\n",
      "('DATE', 'Derivation=Ton', 0.004022111030179878)\n",
      "{'*UNKNOWN*', 'Voice=Pass', 'Case=Ess', 'PartForm=Past', 'VerbForm=Part'}\n",
      "====\n",
      "('PRO', '*UNKNOWN*', 0.006091385251986534)\n",
      "('PRO', 'Case=Tra', 0.004906346936560835)\n",
      "('PRO', '*BLANK*', 0.00477411858862592)\n",
      "('PRO', 'Person[psor]=2', 0.004475769463135021)\n",
      "('PRO', 'InfForm=2', 0.00442439564192647)\n",
      "('PRO', 'Clitic=S', 0.004356482457746391)\n",
      "('PRO', 'Person[psor]=1', 0.004127013915539601)\n",
      "('PRO', 'Number[psor]=Sing', 0.004116712452803872)\n",
      "('PRO', 'Derivation=Ttain', 0.004027701689666263)\n",
      "('PRO', 'Reflex=Yes', 0.004008664389307276)\n",
      "{'*UNKNOWN*'}\n",
      "====\n",
      "('MISC', 'Derivation=Inen', 0.0062001356087553056)\n",
      "('MISC', '*UNKNOWN*', 0.0061989563184311)\n",
      "('MISC', 'Mood=Cnd', 0.006054272586046364)\n",
      "('MISC', 'Number[psor]=Sing', 0.006052726139905047)\n",
      "('MISC', 'Style=Arch', 0.006049541618445828)\n",
      "('MISC', 'PronType=Rcp', 0.005965893847483382)\n",
      "('MISC', 'Number[psor]=Plur', 0.005964244063474608)\n",
      "('MISC', 'Reflex=Yes', 0.0059632123940354664)\n",
      "('MISC', 'Derivation=U', 0.00595559726225936)\n",
      "('MISC', 'PartForm=Neg', 0.005954859955734942)\n",
      "{'*UNKNOWN*'}\n",
      "====\n",
      "('EVENT', 'Tense=Past', 0.00023120884950731183)\n",
      "('EVENT', 'Case=Gen', 0.00019830764653748414)\n",
      "('EVENT', '*UNKNOWN*', 0.0001928439060278754)\n",
      "('EVENT', 'Mood=Ind', 0.00018920344406979503)\n",
      "('EVENT', 'Case=Par', 0.0001549207299184202)\n",
      "('EVENT', 'Person=1', 0.0001533392431213661)\n",
      "('EVENT', 'VerbForm=Fin', 0.0001394738556368771)\n",
      "('EVENT', 'Number=Sing', 0.00012331506109447728)\n",
      "('EVENT', 'Foreign=Yes', 0.00012324384997930936)\n",
      "('EVENT', 'Mood=Cnd', 0.00011420965648883269)\n",
      "{'*UNKNOWN*', 'Case=Gen', 'Number=Sing'}\n",
      "====\n",
      "('OUTSIDE', 'Case=Nom', 8.837611353202388e-05)\n",
      "('OUTSIDE', 'Mood=Ind', 8.71049747445048e-05)\n",
      "('OUTSIDE', 'Person=3', 4.507128002108145e-05)\n",
      "('OUTSIDE', 'Voice=Act', 4.428918539133844e-05)\n",
      "('OUTSIDE', 'Case=Gen', 3.79228695630892e-05)\n",
      "('OUTSIDE', 'VerbForm=Fin', 3.6038928190035855e-05)\n",
      "('OUTSIDE', 'Person[psor]=1', 2.409554388719073e-05)\n",
      "('OUTSIDE', 'Tense=Pres', 2.182653591920134e-05)\n",
      "('OUTSIDE', 'Case=Abe', 2.1373413020559146e-05)\n",
      "('OUTSIDE', 'InfForm=3', 2.0586100055359352e-05)\n",
      "{'Voice=Act', 'Mood=Ind', 'Person=3', 'Tense=Pres', 'VerbForm=Fin', 'Case=Gen', 'Case=Nom'}\n",
      "====\n"
     ]
    }
   ],
   "source": [
    "common_morpho_tags_mis_scores = dict()\n",
    "for entity_tag in norm_explanations_nparray_dict.keys():\n",
    "    print(\"\\n\".join([str(x) for x in sorted(mis_scores[entity_tag], key=lambda x: x[2], reverse=True)[:10]]))\n",
    "    mean_explanations_finnish = sorted([(entity_tag, id_to_morpho_tag[idx], abs(mean_explanation_for_morpho_tag)) for idx, mean_explanation_for_morpho_tag in enumerate(list(np.mean(norm_explanations_nparray_dict[entity_tag], axis=0)))],\n",
    "       key=lambda x: x[2],\n",
    "       reverse=True)[:10]\n",
    "    common_morpho_tags_mis_scores[entity_type] = set([x[1] for x in sorted(mis_scores[entity_tag], key=lambda x: x[2], reverse=True)[:10]]).intersection(set([x[1] for x in mean_explanations_finnish]))\n",
    "    print(common_morpho_tags_mis_scores[entity_type])\n",
    "    print(\"====\")"
   ]
  },
  {
   "cell_type": "code",
   "execution_count": null,
   "metadata": {},
   "outputs": [],
   "source": []
  }
 ],
 "metadata": {
  "kernelspec": {
   "display_name": "Python 3",
   "language": "python",
   "name": "python3"
  },
  "language_info": {
   "codemirror_mode": {
    "name": "ipython",
    "version": 3
   },
   "file_extension": ".py",
   "mimetype": "text/x-python",
   "name": "python",
   "nbconvert_exporter": "python",
   "pygments_lexer": "ipython3",
   "version": "3.6.5"
  }
 },
 "nbformat": 4,
 "nbformat_minor": 2
}
