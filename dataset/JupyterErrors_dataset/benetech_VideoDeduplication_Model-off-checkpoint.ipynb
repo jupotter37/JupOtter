{
 "cells": [
  {
   "cell_type": "markdown",
   "metadata": {},
   "source": [
    "## Model Results Comparison\n",
    "\n",
    "Objectives:\n",
    "\n",
    "    1. Establish clear concepts / methodology for assessment\n",
    "    2. Assess Vendor Performance using definitions above\n",
    "    3. Assess Model performance by using same metrics"
   ]
  },
  {
   "cell_type": "code",
   "execution_count": 1,
   "metadata": {},
   "outputs": [],
   "source": [
    "import pandas as pd\n",
    "import numpy as np\n",
    "import matplotlib.pyplot as plt\n",
    "from glob import glob\n",
    "import os"
   ]
  },
  {
   "cell_type": "code",
   "execution_count": 2,
   "metadata": {},
   "outputs": [],
   "source": [
    "# Test Dataset information\n",
    "videos = glob('/datadrive/test_dataset/**')\n",
    "VIDEOS_LIST = os.path.abspath('syria_videos.txt')\n",
    "FRAME_LEVEL_SAVE_FOLDER = os.path.abspath('/datadrive/intermediate/frame_level')\n",
    "VIDEO_LEVEL_SAVE_FOLDER = '/datadrive/intermediate/video_level'\n",
    "VIDEO_SIGNATURES_SAVE_FOLDER = '/datadrive/intermediate/video_signatures'"
   ]
  },
  {
   "cell_type": "code",
   "execution_count": 3,
   "metadata": {},
   "outputs": [
    {
     "data": {
      "text/plain": [
       "3843"
      ]
     },
     "execution_count": 3,
     "metadata": {},
     "output_type": "execute_result"
    }
   ],
   "source": [
    "len(videos)"
   ]
  },
  {
   "cell_type": "code",
   "execution_count": 4,
   "metadata": {},
   "outputs": [],
   "source": [
    "vendorquery_df = pd.read_excel('Benetech_Deduping Report_25Jan2019.xlsx',sheet_name='Queries')"
   ]
  },
  {
   "cell_type": "code",
   "execution_count": 5,
   "metadata": {},
   "outputs": [
    {
     "data": {
      "text/html": [
       "<div>\n",
       "<style scoped>\n",
       "    .dataframe tbody tr th:only-of-type {\n",
       "        vertical-align: middle;\n",
       "    }\n",
       "\n",
       "    .dataframe tbody tr th {\n",
       "        vertical-align: top;\n",
       "    }\n",
       "\n",
       "    .dataframe thead th {\n",
       "        text-align: right;\n",
       "    }\n",
       "</style>\n",
       "<table border=\"1\" class=\"dataframe\">\n",
       "  <thead>\n",
       "    <tr style=\"text-align: right;\">\n",
       "      <th></th>\n",
       "      <th>Q ID</th>\n",
       "      <th>filename</th>\n",
       "    </tr>\n",
       "  </thead>\n",
       "  <tbody>\n",
       "    <tr>\n",
       "      <th>0</th>\n",
       "      <td>s3.videocitestest/_5g95MUIieM-7673d38ccc6e268b...</td>\n",
       "      <td>_5g95MUIieM-7673d38ccc6e268bf6d79e61f388d37b.mp4</td>\n",
       "    </tr>\n",
       "    <tr>\n",
       "      <th>1</th>\n",
       "      <td>s3.videocitestest/_a8srUndP8Y-48644a14cbb89129...</td>\n",
       "      <td>_a8srUndP8Y-48644a14cbb89129dccdcde0f5715de3.mp4</td>\n",
       "    </tr>\n",
       "    <tr>\n",
       "      <th>2</th>\n",
       "      <td>s3.videocitestest/_afTSrDroHs-06d2f1b68aabc513...</td>\n",
       "      <td>_afTSrDroHs-06d2f1b68aabc513424f74184663caa9.mp4</td>\n",
       "    </tr>\n",
       "    <tr>\n",
       "      <th>3</th>\n",
       "      <td>s3.videocitestest/_bja8VCDY_w-129f9c4b34cfe622...</td>\n",
       "      <td>_bja8VCDY_w-129f9c4b34cfe6227d4311231e08ee3f.mp4</td>\n",
       "    </tr>\n",
       "    <tr>\n",
       "      <th>4</th>\n",
       "      <td>s3.videocitestest/_cmXD8JT2hY-2b0c77a29384fe93...</td>\n",
       "      <td>_cmXD8JT2hY-2b0c77a29384fe9387b37408888ea96e.mp4</td>\n",
       "    </tr>\n",
       "  </tbody>\n",
       "</table>\n",
       "</div>"
      ],
      "text/plain": [
       "                                                Q ID  \\\n",
       "0  s3.videocitestest/_5g95MUIieM-7673d38ccc6e268b...   \n",
       "1  s3.videocitestest/_a8srUndP8Y-48644a14cbb89129...   \n",
       "2  s3.videocitestest/_afTSrDroHs-06d2f1b68aabc513...   \n",
       "3  s3.videocitestest/_bja8VCDY_w-129f9c4b34cfe622...   \n",
       "4  s3.videocitestest/_cmXD8JT2hY-2b0c77a29384fe93...   \n",
       "\n",
       "                                           filename  \n",
       "0  _5g95MUIieM-7673d38ccc6e268bf6d79e61f388d37b.mp4  \n",
       "1  _a8srUndP8Y-48644a14cbb89129dccdcde0f5715de3.mp4  \n",
       "2  _afTSrDroHs-06d2f1b68aabc513424f74184663caa9.mp4  \n",
       "3  _bja8VCDY_w-129f9c4b34cfe6227d4311231e08ee3f.mp4  \n",
       "4  _cmXD8JT2hY-2b0c77a29384fe9387b37408888ea96e.mp4  "
      ]
     },
     "execution_count": 5,
     "metadata": {},
     "output_type": "execute_result"
    }
   ],
   "source": [
    "vendorquery_df['filename'] = vendorquery_df['Q ID'].apply(lambda x:x.split('/')[-1])\n",
    "vendorquery_df.head()"
   ]
  },
  {
   "cell_type": "code",
   "execution_count": 6,
   "metadata": {},
   "outputs": [
    {
     "data": {
      "text/plain": [
       "b3725180c18c43f0bd99ffb03b2d2775.ogv                1\n",
       "660e5c6a2e7741cd8c56791950d70657.mp4                1\n",
       "a50586f2cd7c4741998b808f7e5f09dd.mp4                1\n",
       "WPlemPk0ftQ-7fd469b3130c7cd1a622b7dbad4284bc.mp4    1\n",
       "1bXXImILUds-a47532bc9ac2bf302ee56194d88f6a6e.mp4    1\n",
       "72845679b7cb40cb89b4a640c1b8f3cd.mp4                1\n",
       "3QMvwN1z8w4-3c7641ceea0a009c3c72c8bbf74fb295.mp4    1\n",
       "Q-3Hnc5lph4-fdd520832dde0a2e318ec196c4c59fd0.mp4    1\n",
       "c2d1c6ad89e140c7b685557f08c2d742.ogv                1\n",
       "47bb8bd537a54498a90e9792fb713b1a.webm               1\n",
       "TBoKUTYWLws-070ffb0e9d0a26dc43d50f7abc596d5d.mp4    1\n",
       "1fe16156c5df4cb0957af8cf92e1b441.mp4                1\n",
       "9ea590d7a9784e95b541751bd252f7ac.mp4                1\n",
       "rCZSuzJs4zc-c859578ffb45b422c0d737a005066f9f.mp4    1\n",
       "717b94f5176b4b08811498fac50dfa1b.webm               1\n",
       "2f958a2b9bee4ae4aef2af60c479a107.mp4                1\n",
       "koA4jc98aNQ-9d22df646f8bf67ee1e7f1e26dd57429.mp4    1\n",
       "c584c2c771824652be510daa3bf08754.ogv                1\n",
       "87cc4487729c4c8cbb3b48e9eb33d85d.mp4                1\n",
       "20e230f41b444e15919a8c2d7bd37b93.webm               1\n",
       "8743a4b3b02540fcb5134e9e379e1306.webm               1\n",
       "LtHU3-aQiyw-7f0abba57159ec7428f01b9dfd2bc2c0.mp4    1\n",
       "4deca46a16d04847aaab996abab49f62.ogv                1\n",
       "qxaCQFr1ywA-70795193fbef384b469aed1ae3c12c14.mp4    1\n",
       "4a2385137e214ba2bff27b18d912a6b4.mp4                1\n",
       "986243e9ca914631bddbaeb1466bb159.webm               1\n",
       "31c73700b180485a93b7d59304132da0.ogv                1\n",
       "57d3b444ab0c4b138d8db16236906ffe.webm               1\n",
       "21e5b74e557b4347b771fffbdbefe1a8.mp4                1\n",
       "7b8555486d36406da2366cd6a785683a.webm               1\n",
       "                                                   ..\n",
       "32d43ef5cb994abb9337136913eec83c.webm               1\n",
       "7e32818b65bf446595e7c9710725978c.mp4                1\n",
       "20bc8920692148928ba99f004379eaac.ogv                1\n",
       "2676fbefe121488d93798a4094111f9e.mp4                1\n",
       "q80AZNKj2lQ-168122fb3f99bd4cc36816b1d06837fa.mp4    1\n",
       "zmz9kYX7Mgo-98902ca6426d5b368f42c63a0513b5d0.mp4    1\n",
       "bFw4gUuZR3I-dc551d0d4141ea2ae2816c17b4da40cf.mp4    1\n",
       "b6ff7baa9fa241589f298e415769a81e.mp4                1\n",
       "14acb7e5d6db46f3a8eca682d2c2735f.webm               1\n",
       "69Ri7ItDmS4-5717b7b1f2d8f77c3a22532f2b1ce160.mp4    1\n",
       "4fc8df2958eb4efea026cf8c0f859589.webm               1\n",
       "6YmKwon4X0c-f518e04bd71707ddd985f89f03cc7784.mp4    1\n",
       "7c78db9b04654891a69b8b4f895dc6cb.webm               1\n",
       "9i01YWDt7fU-0254dd18e2af4c9d76abcfb0c61a35a5.mp4    1\n",
       "5e3caacaf4314449aaeae8ee9124ce46.webm               1\n",
       "2712226703ea4ae0a53cea246340a95e.mp4                1\n",
       "0433cbb0ae9649208ff5fb77bccf50b6.webm               1\n",
       "3e5187042ab745f4b058beddbb24efe5.ogv                1\n",
       "ZgFDmPKxsxc-22b7812d2ed5a6ef17e0e2bf6364abf8.mp4    1\n",
       "c034458bedc94f68b81ec070ebe38f42.webm               1\n",
       "8b31c92b14c94d1385dc335fa0c3f4e8.ogv                1\n",
       "CMcPeaMK6xo-4bc269214315a2c0c2095c7214d60438.mp4    1\n",
       "57b2f7a882af484e9b4ac2553f8b34a0.mp4                1\n",
       "T4iMAxU5PW8-6382b2d78b847fa4e1ab1eece85f05cc.mp4    1\n",
       "96530c1a141c4d4f89068713ecf95730.ogv                1\n",
       "d09af8ce8948405d9ec6d0833df15979.mp4                1\n",
       "0d4164bf34bf4a6d91eddaa86d7cf79f.webm               1\n",
       "6bf07b8328204563bcc42c35710a6c99.webm               1\n",
       "qx2fVS9AdZY-7f3a7a9562926e8576d7607916a71297.mp4    1\n",
       "ff3607078ba449a283a841a87796d6c8.mp4                1\n",
       "Name: filename, Length: 2500, dtype: int64"
      ]
     },
     "execution_count": 6,
     "metadata": {},
     "output_type": "execute_result"
    }
   ],
   "source": [
    "vendorquery_df['filename'].value_counts()"
   ]
  },
  {
   "cell_type": "markdown",
   "metadata": {},
   "source": [
    "## Match Query summary"
   ]
  },
  {
   "cell_type": "code",
   "execution_count": 7,
   "metadata": {},
   "outputs": [
    {
     "ename": "NameError",
     "evalue": "name 'vendor_df' is not defined",
     "output_type": "error",
     "traceback": [
      "\u001b[0;31m---------------------------------------------------------------------------\u001b[0m",
      "\u001b[0;31mNameError\u001b[0m                                 Traceback (most recent call last)",
      "\u001b[0;32m<ipython-input-7-ecb121b907bc>\u001b[0m in \u001b[0;36m<module>\u001b[0;34m\u001b[0m\n\u001b[0;32m----> 1\u001b[0;31m \u001b[0mvendor_df\u001b[0m\u001b[0;34m[\u001b[0m\u001b[0;34m'q_filename'\u001b[0m\u001b[0;34m]\u001b[0m\u001b[0;34m.\u001b[0m\u001b[0mvalue_counts\u001b[0m\u001b[0;34m(\u001b[0m\u001b[0;34m)\u001b[0m\u001b[0;34m[\u001b[0m\u001b[0;34m:\u001b[0m\u001b[0;36m20\u001b[0m\u001b[0;34m]\u001b[0m\u001b[0;34m\u001b[0m\u001b[0m\n\u001b[0m",
      "\u001b[0;31mNameError\u001b[0m: name 'vendor_df' is not defined"
     ]
    }
   ],
   "source": [
    "vendor_df['q_filename'].value_counts()[:20]"
   ]
  },
  {
   "cell_type": "markdown",
   "metadata": {},
   "source": [
    "Assumption: Each query on the Queries sheet, was performed against the remaining dataset. This explains the reason why there are multiple queries for a given filename."
   ]
  },
  {
   "cell_type": "code",
   "execution_count": 8,
   "metadata": {},
   "outputs": [
    {
     "data": {
      "text/html": [
       "<div>\n",
       "<style scoped>\n",
       "    .dataframe tbody tr th:only-of-type {\n",
       "        vertical-align: middle;\n",
       "    }\n",
       "\n",
       "    .dataframe tbody tr th {\n",
       "        vertical-align: top;\n",
       "    }\n",
       "\n",
       "    .dataframe thead th {\n",
       "        text-align: right;\n",
       "    }\n",
       "</style>\n",
       "<table border=\"1\" class=\"dataframe\">\n",
       "  <thead>\n",
       "    <tr style=\"text-align: right;\">\n",
       "      <th></th>\n",
       "      <th>Q ID</th>\n",
       "      <th>Q URL</th>\n",
       "      <th>Q Duration</th>\n",
       "      <th>Q Width</th>\n",
       "      <th>Q Height</th>\n",
       "      <th>Q FPS</th>\n",
       "      <th>M ID</th>\n",
       "      <th>M URL</th>\n",
       "      <th>M Duration</th>\n",
       "      <th>M Status</th>\n",
       "      <th>q_filename</th>\n",
       "      <th>m_filename</th>\n",
       "    </tr>\n",
       "  </thead>\n",
       "  <tbody>\n",
       "    <tr>\n",
       "      <th>1</th>\n",
       "      <td>s3.videocitestest/QGFBGnpXMqE-07d9e6754f49d3eb...</td>\n",
       "      <td>https://videocitestest.s3.amazonaws.com/QGFBGn...</td>\n",
       "      <td>81</td>\n",
       "      <td>640</td>\n",
       "      <td>360</td>\n",
       "      <td>30.0</td>\n",
       "      <td>s3.videocitestest/6YmKwon4X0c-f518e04bd71707dd...</td>\n",
       "      <td>https://videocitestest.s3.amazonaws.com/6YmKwo...</td>\n",
       "      <td>179</td>\n",
       "      <td>match</td>\n",
       "      <td>QGFBGnpXMqE-07d9e6754f49d3eb87d95767bff7e696.mp4</td>\n",
       "      <td>6YmKwon4X0c-f518e04bd71707ddd985f89f03cc7784.mp4</td>\n",
       "    </tr>\n",
       "    <tr>\n",
       "      <th>71</th>\n",
       "      <td>s3.videocitestest/QGFBGnpXMqE-07d9e6754f49d3eb...</td>\n",
       "      <td>https://videocitestest.s3.amazonaws.com/QGFBGn...</td>\n",
       "      <td>81</td>\n",
       "      <td>640</td>\n",
       "      <td>360</td>\n",
       "      <td>30.0</td>\n",
       "      <td>s3.videocitestest/sW02MYKmUaM-f8c6ef6974e0d853...</td>\n",
       "      <td>https://videocitestest.s3.amazonaws.com/sW02MY...</td>\n",
       "      <td>64</td>\n",
       "      <td>match</td>\n",
       "      <td>QGFBGnpXMqE-07d9e6754f49d3eb87d95767bff7e696.mp4</td>\n",
       "      <td>sW02MYKmUaM-f8c6ef6974e0d853df113f45e1242628.mp4</td>\n",
       "    </tr>\n",
       "    <tr>\n",
       "      <th>77</th>\n",
       "      <td>s3.videocitestest/QGFBGnpXMqE-07d9e6754f49d3eb...</td>\n",
       "      <td>https://videocitestest.s3.amazonaws.com/QGFBGn...</td>\n",
       "      <td>81</td>\n",
       "      <td>640</td>\n",
       "      <td>360</td>\n",
       "      <td>30.0</td>\n",
       "      <td>s3.videocitestest/018MsV21q00-3419176ec77eea4d...</td>\n",
       "      <td>https://videocitestest.s3.amazonaws.com/018MsV...</td>\n",
       "      <td>81</td>\n",
       "      <td>match</td>\n",
       "      <td>QGFBGnpXMqE-07d9e6754f49d3eb87d95767bff7e696.mp4</td>\n",
       "      <td>018MsV21q00-3419176ec77eea4da5161cf6faa05a3d.mp4</td>\n",
       "    </tr>\n",
       "    <tr>\n",
       "      <th>163</th>\n",
       "      <td>s3.videocitestest/QGFBGnpXMqE-07d9e6754f49d3eb...</td>\n",
       "      <td>https://videocitestest.s3.amazonaws.com/QGFBGn...</td>\n",
       "      <td>81</td>\n",
       "      <td>640</td>\n",
       "      <td>360</td>\n",
       "      <td>30.0</td>\n",
       "      <td>s3.videocitestest/4fbf84566d434628bc6954a36e77...</td>\n",
       "      <td>https://videocitestest.s3.amazonaws.com/4fbf84...</td>\n",
       "      <td>79</td>\n",
       "      <td>match</td>\n",
       "      <td>QGFBGnpXMqE-07d9e6754f49d3eb87d95767bff7e696.mp4</td>\n",
       "      <td>4fbf84566d434628bc6954a36e7722d5.webm</td>\n",
       "    </tr>\n",
       "    <tr>\n",
       "      <th>169</th>\n",
       "      <td>s3.videocitestest/QGFBGnpXMqE-07d9e6754f49d3eb...</td>\n",
       "      <td>https://videocitestest.s3.amazonaws.com/QGFBGn...</td>\n",
       "      <td>81</td>\n",
       "      <td>640</td>\n",
       "      <td>360</td>\n",
       "      <td>30.0</td>\n",
       "      <td>s3.videocitestest/7faf034173f4451398b05e6f1686...</td>\n",
       "      <td>https://videocitestest.s3.amazonaws.com/7faf03...</td>\n",
       "      <td>83</td>\n",
       "      <td>match</td>\n",
       "      <td>QGFBGnpXMqE-07d9e6754f49d3eb87d95767bff7e696.mp4</td>\n",
       "      <td>7faf034173f4451398b05e6f1686a896.webm</td>\n",
       "    </tr>\n",
       "    <tr>\n",
       "      <th>175</th>\n",
       "      <td>s3.videocitestest/QGFBGnpXMqE-07d9e6754f49d3eb...</td>\n",
       "      <td>https://videocitestest.s3.amazonaws.com/QGFBGn...</td>\n",
       "      <td>81</td>\n",
       "      <td>640</td>\n",
       "      <td>360</td>\n",
       "      <td>30.0</td>\n",
       "      <td>s3.videocitestest/4214d032b0924870a216958e84a7...</td>\n",
       "      <td>https://videocitestest.s3.amazonaws.com/4214d0...</td>\n",
       "      <td>86</td>\n",
       "      <td>match</td>\n",
       "      <td>QGFBGnpXMqE-07d9e6754f49d3eb87d95767bff7e696.mp4</td>\n",
       "      <td>4214d032b0924870a216958e84a7544a.ogv</td>\n",
       "    </tr>\n",
       "  </tbody>\n",
       "</table>\n",
       "</div>"
      ],
      "text/plain": [
       "                                                  Q ID  \\\n",
       "1    s3.videocitestest/QGFBGnpXMqE-07d9e6754f49d3eb...   \n",
       "71   s3.videocitestest/QGFBGnpXMqE-07d9e6754f49d3eb...   \n",
       "77   s3.videocitestest/QGFBGnpXMqE-07d9e6754f49d3eb...   \n",
       "163  s3.videocitestest/QGFBGnpXMqE-07d9e6754f49d3eb...   \n",
       "169  s3.videocitestest/QGFBGnpXMqE-07d9e6754f49d3eb...   \n",
       "175  s3.videocitestest/QGFBGnpXMqE-07d9e6754f49d3eb...   \n",
       "\n",
       "                                                 Q URL  Q Duration  Q Width  \\\n",
       "1    https://videocitestest.s3.amazonaws.com/QGFBGn...          81      640   \n",
       "71   https://videocitestest.s3.amazonaws.com/QGFBGn...          81      640   \n",
       "77   https://videocitestest.s3.amazonaws.com/QGFBGn...          81      640   \n",
       "163  https://videocitestest.s3.amazonaws.com/QGFBGn...          81      640   \n",
       "169  https://videocitestest.s3.amazonaws.com/QGFBGn...          81      640   \n",
       "175  https://videocitestest.s3.amazonaws.com/QGFBGn...          81      640   \n",
       "\n",
       "     Q Height  Q FPS                                               M ID  \\\n",
       "1         360   30.0  s3.videocitestest/6YmKwon4X0c-f518e04bd71707dd...   \n",
       "71        360   30.0  s3.videocitestest/sW02MYKmUaM-f8c6ef6974e0d853...   \n",
       "77        360   30.0  s3.videocitestest/018MsV21q00-3419176ec77eea4d...   \n",
       "163       360   30.0  s3.videocitestest/4fbf84566d434628bc6954a36e77...   \n",
       "169       360   30.0  s3.videocitestest/7faf034173f4451398b05e6f1686...   \n",
       "175       360   30.0  s3.videocitestest/4214d032b0924870a216958e84a7...   \n",
       "\n",
       "                                                 M URL  M Duration M Status  \\\n",
       "1    https://videocitestest.s3.amazonaws.com/6YmKwo...         179    match   \n",
       "71   https://videocitestest.s3.amazonaws.com/sW02MY...          64    match   \n",
       "77   https://videocitestest.s3.amazonaws.com/018MsV...          81    match   \n",
       "163  https://videocitestest.s3.amazonaws.com/4fbf84...          79    match   \n",
       "169  https://videocitestest.s3.amazonaws.com/7faf03...          83    match   \n",
       "175  https://videocitestest.s3.amazonaws.com/4214d0...          86    match   \n",
       "\n",
       "                                           q_filename  \\\n",
       "1    QGFBGnpXMqE-07d9e6754f49d3eb87d95767bff7e696.mp4   \n",
       "71   QGFBGnpXMqE-07d9e6754f49d3eb87d95767bff7e696.mp4   \n",
       "77   QGFBGnpXMqE-07d9e6754f49d3eb87d95767bff7e696.mp4   \n",
       "163  QGFBGnpXMqE-07d9e6754f49d3eb87d95767bff7e696.mp4   \n",
       "169  QGFBGnpXMqE-07d9e6754f49d3eb87d95767bff7e696.mp4   \n",
       "175  QGFBGnpXMqE-07d9e6754f49d3eb87d95767bff7e696.mp4   \n",
       "\n",
       "                                           m_filename  \n",
       "1    6YmKwon4X0c-f518e04bd71707ddd985f89f03cc7784.mp4  \n",
       "71   sW02MYKmUaM-f8c6ef6974e0d853df113f45e1242628.mp4  \n",
       "77   018MsV21q00-3419176ec77eea4da5161cf6faa05a3d.mp4  \n",
       "163             4fbf84566d434628bc6954a36e7722d5.webm  \n",
       "169             7faf034173f4451398b05e6f1686a896.webm  \n",
       "175              4214d032b0924870a216958e84a7544a.ogv  "
      ]
     },
     "execution_count": 8,
     "metadata": {},
     "output_type": "execute_result"
    }
   ],
   "source": [
    "# Vendor Results spreadsheet\n",
    "vendor_df = pd.read_excel('Benetech_Deduping Report_25Jan2019.xlsx')\n",
    "# Additional filename fields for both Query / Match Videos\n",
    "vendor_df['q_filename'] = vendor_df['Q ID'].apply(lambda x:x.split('/')[-1])\n",
    "vendor_df['m_filename'] = vendor_df['M ID'].apply(lambda x:x.split('/')[-1])\n",
    "# \n",
    "unique_qs = vendor_df['q_filename'].value_counts().index\n",
    "vendor_df.loc[vendor_df['q_filename'] == unique_qs[0],:]"
   ]
  },
  {
   "cell_type": "code",
   "execution_count": 9,
   "metadata": {},
   "outputs": [],
   "source": [
    "augmentation_manifesto = pd.read_csv('/home/felipeb/augmenter/augmented_dataset_manifest')"
   ]
  },
  {
   "cell_type": "code",
   "execution_count": 10,
   "metadata": {},
   "outputs": [
    {
     "name": "stderr",
     "output_type": "stream",
     "text": [
      "/home/felipeb/.conda/envs/winnow/lib/python3.6/site-packages/ipykernel_launcher.py:4: SettingWithCopyWarning: \n",
      "A value is trying to be set on a copy of a slice from a DataFrame.\n",
      "Try using .loc[row_indexer,col_indexer] = value instead\n",
      "\n",
      "See the caveats in the documentation: http://pandas.pydata.org/pandas-docs/stable/indexing.html#indexing-view-versus-copy\n",
      "  after removing the cwd from sys.path.\n"
     ]
    }
   ],
   "source": [
    "augmentation_manifesto['original_basename'] = augmentation_manifesto['file_path'].apply(lambda x:os.path.basename(x))\n",
    "test_dataset = [os.path.basename(x) for x in videos]\n",
    "used = augmentation_manifesto.loc[augmentation_manifesto['new_filename'].isin(test_dataset),:]\n",
    "used['isAugmented'] = True"
   ]
  },
  {
   "cell_type": "code",
   "execution_count": 11,
   "metadata": {},
   "outputs": [],
   "source": [
    "augmented_files = used['new_filename'].values"
   ]
  },
  {
   "cell_type": "code",
   "execution_count": 13,
   "metadata": {},
   "outputs": [],
   "source": [
    "vendor_df['augmented_q'] = False\n",
    "vendor_df['augmented_m'] = False\n",
    "\n",
    "vendor_df.loc[vendor_df['q_filename'].isin(augmented_files),'augmented_q'] = True\n",
    "vendor_df.loc[vendor_df['m_filename'].isin(augmented_files),'augmented_m'] = True"
   ]
  },
  {
   "cell_type": "markdown",
   "metadata": {},
   "source": [
    "In order to assess performance, we'll we'll restrain the problem to the files that we actually have the answer (augmented files). Even though there might be additional files for which the vendor has reported the right answer but the only way to verify it is to perform manual validation."
   ]
  },
  {
   "cell_type": "code",
   "execution_count": 14,
   "metadata": {},
   "outputs": [
    {
     "data": {
      "text/html": [
       "<div>\n",
       "<style scoped>\n",
       "    .dataframe tbody tr th:only-of-type {\n",
       "        vertical-align: middle;\n",
       "    }\n",
       "\n",
       "    .dataframe tbody tr th {\n",
       "        vertical-align: top;\n",
       "    }\n",
       "\n",
       "    .dataframe thead th {\n",
       "        text-align: right;\n",
       "    }\n",
       "</style>\n",
       "<table border=\"1\" class=\"dataframe\">\n",
       "  <thead>\n",
       "    <tr style=\"text-align: right;\">\n",
       "      <th></th>\n",
       "      <th>Q ID</th>\n",
       "      <th>filename</th>\n",
       "    </tr>\n",
       "  </thead>\n",
       "  <tbody>\n",
       "    <tr>\n",
       "      <th>0</th>\n",
       "      <td>s3.videocitestest/_5g95MUIieM-7673d38ccc6e268b...</td>\n",
       "      <td>_5g95MUIieM-7673d38ccc6e268bf6d79e61f388d37b.mp4</td>\n",
       "    </tr>\n",
       "    <tr>\n",
       "      <th>1</th>\n",
       "      <td>s3.videocitestest/_a8srUndP8Y-48644a14cbb89129...</td>\n",
       "      <td>_a8srUndP8Y-48644a14cbb89129dccdcde0f5715de3.mp4</td>\n",
       "    </tr>\n",
       "    <tr>\n",
       "      <th>2</th>\n",
       "      <td>s3.videocitestest/_afTSrDroHs-06d2f1b68aabc513...</td>\n",
       "      <td>_afTSrDroHs-06d2f1b68aabc513424f74184663caa9.mp4</td>\n",
       "    </tr>\n",
       "    <tr>\n",
       "      <th>3</th>\n",
       "      <td>s3.videocitestest/_bja8VCDY_w-129f9c4b34cfe622...</td>\n",
       "      <td>_bja8VCDY_w-129f9c4b34cfe6227d4311231e08ee3f.mp4</td>\n",
       "    </tr>\n",
       "    <tr>\n",
       "      <th>4</th>\n",
       "      <td>s3.videocitestest/_cmXD8JT2hY-2b0c77a29384fe93...</td>\n",
       "      <td>_cmXD8JT2hY-2b0c77a29384fe9387b37408888ea96e.mp4</td>\n",
       "    </tr>\n",
       "  </tbody>\n",
       "</table>\n",
       "</div>"
      ],
      "text/plain": [
       "                                                Q ID  \\\n",
       "0  s3.videocitestest/_5g95MUIieM-7673d38ccc6e268b...   \n",
       "1  s3.videocitestest/_a8srUndP8Y-48644a14cbb89129...   \n",
       "2  s3.videocitestest/_afTSrDroHs-06d2f1b68aabc513...   \n",
       "3  s3.videocitestest/_bja8VCDY_w-129f9c4b34cfe622...   \n",
       "4  s3.videocitestest/_cmXD8JT2hY-2b0c77a29384fe93...   \n",
       "\n",
       "                                           filename  \n",
       "0  _5g95MUIieM-7673d38ccc6e268bf6d79e61f388d37b.mp4  \n",
       "1  _a8srUndP8Y-48644a14cbb89129dccdcde0f5715de3.mp4  \n",
       "2  _afTSrDroHs-06d2f1b68aabc513424f74184663caa9.mp4  \n",
       "3  _bja8VCDY_w-129f9c4b34cfe6227d4311231e08ee3f.mp4  \n",
       "4  _cmXD8JT2hY-2b0c77a29384fe9387b37408888ea96e.mp4  "
      ]
     },
     "execution_count": 14,
     "metadata": {},
     "output_type": "execute_result"
    }
   ],
   "source": [
    "vendorquery_df.head()"
   ]
  },
  {
   "cell_type": "code",
   "execution_count": 15,
   "metadata": {},
   "outputs": [],
   "source": [
    "m_q = dict(zip(vendor_df['m_filename'],vendor_df['q_filename']))"
   ]
  },
  {
   "cell_type": "code",
   "execution_count": 16,
   "metadata": {},
   "outputs": [],
   "source": [
    "def matching(x,d):\n",
    "    try:\n",
    "        return d[x]\n",
    "    except:\n",
    "        return x"
   ]
  },
  {
   "cell_type": "code",
   "execution_count": 17,
   "metadata": {},
   "outputs": [],
   "source": [
    "vendorquery_df['match_filename'] = vendorquery_df['filename'].apply(lambda x:matching(x,m_q))"
   ]
  },
  {
   "cell_type": "code",
   "execution_count": 18,
   "metadata": {},
   "outputs": [
    {
     "data": {
      "text/plain": [
       "2356"
      ]
     },
     "execution_count": 18,
     "metadata": {},
     "output_type": "execute_result"
    }
   ],
   "source": [
    "vendorquery_df['match_filename'].nunique()"
   ]
  },
  {
   "cell_type": "code",
   "execution_count": 19,
   "metadata": {},
   "outputs": [],
   "source": [
    "vendorquery_df['isUnique'] = vendorquery_df.apply(lambda x: x['filename'] == x['match_filename'],axis=1)"
   ]
  },
  {
   "cell_type": "code",
   "execution_count": 20,
   "metadata": {},
   "outputs": [
    {
     "data": {
      "text/plain": [
       "True     2246\n",
       "False     254\n",
       "Name: isUnique, dtype: int64"
      ]
     },
     "execution_count": 20,
     "metadata": {},
     "output_type": "execute_result"
    }
   ],
   "source": [
    "vendorquery_df.isUnique.value_counts()"
   ]
  },
  {
   "cell_type": "markdown",
   "metadata": {},
   "source": [
    "Unless there are two files from the same source, or the source itself, we cannot make any assumptions about a file being unique. Now we need to implement a few helper functions to evaluate the results in a way to account for these details."
   ]
  },
  {
   "cell_type": "code",
   "execution_count": 21,
   "metadata": {},
   "outputs": [
    {
     "data": {
      "text/html": [
       "<div>\n",
       "<style scoped>\n",
       "    .dataframe tbody tr th:only-of-type {\n",
       "        vertical-align: middle;\n",
       "    }\n",
       "\n",
       "    .dataframe tbody tr th {\n",
       "        vertical-align: top;\n",
       "    }\n",
       "\n",
       "    .dataframe thead th {\n",
       "        text-align: right;\n",
       "    }\n",
       "</style>\n",
       "<table border=\"1\" class=\"dataframe\">\n",
       "  <thead>\n",
       "    <tr style=\"text-align: right;\">\n",
       "      <th></th>\n",
       "      <th>Unnamed: 0</th>\n",
       "      <th>banner</th>\n",
       "      <th>bitrate</th>\n",
       "      <th>color_intensity</th>\n",
       "      <th>crop</th>\n",
       "      <th>extension</th>\n",
       "      <th>file_path</th>\n",
       "      <th>intensity</th>\n",
       "      <th>logo</th>\n",
       "      <th>offset</th>\n",
       "      <th>shaky</th>\n",
       "      <th>shaky_after_logo</th>\n",
       "      <th>speed_change</th>\n",
       "      <th>filename</th>\n",
       "      <th>original_extension</th>\n",
       "      <th>new_filename</th>\n",
       "      <th>original_basename</th>\n",
       "    </tr>\n",
       "  </thead>\n",
       "  <tbody>\n",
       "    <tr>\n",
       "      <th>0</th>\n",
       "      <td>0</td>\n",
       "      <td>NaN</td>\n",
       "      <td>32k</td>\n",
       "      <td>0.42</td>\n",
       "      <td>NaN</td>\n",
       "      <td>NaN</td>\n",
       "      <td>/datadrive/videos/BVx0nR366sk-3b0933b1902d9a66...</td>\n",
       "      <td>-0.09</td>\n",
       "      <td>NaN</td>\n",
       "      <td>NaN</td>\n",
       "      <td>False</td>\n",
       "      <td>True</td>\n",
       "      <td>-0.09</td>\n",
       "      <td>BVx0nR366sk-3b0933b1902d9a66730d447258c425ec</td>\n",
       "      <td>webm</td>\n",
       "      <td>16560611413745a1b33748cad5cdb726.webm</td>\n",
       "      <td>BVx0nR366sk-3b0933b1902d9a66730d447258c425ec.webm</td>\n",
       "    </tr>\n",
       "    <tr>\n",
       "      <th>1</th>\n",
       "      <td>1</td>\n",
       "      <td>NaN</td>\n",
       "      <td>64k</td>\n",
       "      <td>0.24</td>\n",
       "      <td>NaN</td>\n",
       "      <td>NaN</td>\n",
       "      <td>/datadrive/videos/6Y1uTg7wCV8-b068dba553b7529e...</td>\n",
       "      <td>-0.05</td>\n",
       "      <td>logos/jazeera.png</td>\n",
       "      <td>6.0</td>\n",
       "      <td>False</td>\n",
       "      <td>True</td>\n",
       "      <td>NaN</td>\n",
       "      <td>6Y1uTg7wCV8-b068dba553b7529eb2c2c4727c47fed9</td>\n",
       "      <td>webm</td>\n",
       "      <td>4fe31156621142de9be93e3c6a4a8bd9.webm</td>\n",
       "      <td>6Y1uTg7wCV8-b068dba553b7529eb2c2c4727c47fed9.webm</td>\n",
       "    </tr>\n",
       "    <tr>\n",
       "      <th>2</th>\n",
       "      <td>2</td>\n",
       "      <td>False</td>\n",
       "      <td>NaN</td>\n",
       "      <td>NaN</td>\n",
       "      <td>NaN</td>\n",
       "      <td>NaN</td>\n",
       "      <td>/datadrive/videos/VuW-M9TB7tM-73472a9187f950d4...</td>\n",
       "      <td>-0.12</td>\n",
       "      <td>logos/fox.png</td>\n",
       "      <td>2.0</td>\n",
       "      <td>False</td>\n",
       "      <td>False</td>\n",
       "      <td>NaN</td>\n",
       "      <td>VuW-M9TB7tM-73472a9187f950d4812582d25154f1d4</td>\n",
       "      <td>mp4</td>\n",
       "      <td>49f397b693eb41a9b7c8a95b0147c6a0.mp4</td>\n",
       "      <td>VuW-M9TB7tM-73472a9187f950d4812582d25154f1d4.mp4</td>\n",
       "    </tr>\n",
       "    <tr>\n",
       "      <th>3</th>\n",
       "      <td>3</td>\n",
       "      <td>NaN</td>\n",
       "      <td>NaN</td>\n",
       "      <td>NaN</td>\n",
       "      <td>[0.11 0.15]</td>\n",
       "      <td>NaN</td>\n",
       "      <td>/datadrive/videos/gMz2bJykKaY-31b60bdf2a061902...</td>\n",
       "      <td>NaN</td>\n",
       "      <td>NaN</td>\n",
       "      <td>3.0</td>\n",
       "      <td>False</td>\n",
       "      <td>True</td>\n",
       "      <td>0.34</td>\n",
       "      <td>gMz2bJykKaY-31b60bdf2a061902a1c004eab2ced596</td>\n",
       "      <td>webm</td>\n",
       "      <td>e366f4367c2148c3bb4e88a6bf3b0835.webm</td>\n",
       "      <td>gMz2bJykKaY-31b60bdf2a061902a1c004eab2ced596.webm</td>\n",
       "    </tr>\n",
       "    <tr>\n",
       "      <th>4</th>\n",
       "      <td>4</td>\n",
       "      <td>NaN</td>\n",
       "      <td>NaN</td>\n",
       "      <td>NaN</td>\n",
       "      <td>[0.04 0.03]</td>\n",
       "      <td>NaN</td>\n",
       "      <td>/datadrive/videos/6QWIAsPOlxM-907ba6ac2932e487...</td>\n",
       "      <td>-0.19</td>\n",
       "      <td>logos/sbt.gif</td>\n",
       "      <td>3.0</td>\n",
       "      <td>False</td>\n",
       "      <td>False</td>\n",
       "      <td>0.31</td>\n",
       "      <td>6QWIAsPOlxM-907ba6ac2932e487c215c9b364d06e14</td>\n",
       "      <td>webm</td>\n",
       "      <td>7611fe4baab94392a82f5a8a28bdeba2.webm</td>\n",
       "      <td>6QWIAsPOlxM-907ba6ac2932e487c215c9b364d06e14.webm</td>\n",
       "    </tr>\n",
       "  </tbody>\n",
       "</table>\n",
       "</div>"
      ],
      "text/plain": [
       "   Unnamed: 0 banner bitrate  color_intensity         crop extension  \\\n",
       "0           0    NaN     32k             0.42          NaN       NaN   \n",
       "1           1    NaN     64k             0.24          NaN       NaN   \n",
       "2           2  False     NaN              NaN          NaN       NaN   \n",
       "3           3    NaN     NaN              NaN  [0.11 0.15]       NaN   \n",
       "4           4    NaN     NaN              NaN  [0.04 0.03]       NaN   \n",
       "\n",
       "                                           file_path  intensity  \\\n",
       "0  /datadrive/videos/BVx0nR366sk-3b0933b1902d9a66...      -0.09   \n",
       "1  /datadrive/videos/6Y1uTg7wCV8-b068dba553b7529e...      -0.05   \n",
       "2  /datadrive/videos/VuW-M9TB7tM-73472a9187f950d4...      -0.12   \n",
       "3  /datadrive/videos/gMz2bJykKaY-31b60bdf2a061902...        NaN   \n",
       "4  /datadrive/videos/6QWIAsPOlxM-907ba6ac2932e487...      -0.19   \n",
       "\n",
       "                logo  offset  shaky  shaky_after_logo  speed_change  \\\n",
       "0                NaN     NaN  False              True         -0.09   \n",
       "1  logos/jazeera.png     6.0  False              True           NaN   \n",
       "2      logos/fox.png     2.0  False             False           NaN   \n",
       "3                NaN     3.0  False              True          0.34   \n",
       "4      logos/sbt.gif     3.0  False             False          0.31   \n",
       "\n",
       "                                       filename original_extension  \\\n",
       "0  BVx0nR366sk-3b0933b1902d9a66730d447258c425ec               webm   \n",
       "1  6Y1uTg7wCV8-b068dba553b7529eb2c2c4727c47fed9               webm   \n",
       "2  VuW-M9TB7tM-73472a9187f950d4812582d25154f1d4                mp4   \n",
       "3  gMz2bJykKaY-31b60bdf2a061902a1c004eab2ced596               webm   \n",
       "4  6QWIAsPOlxM-907ba6ac2932e487c215c9b364d06e14               webm   \n",
       "\n",
       "                            new_filename  \\\n",
       "0  16560611413745a1b33748cad5cdb726.webm   \n",
       "1  4fe31156621142de9be93e3c6a4a8bd9.webm   \n",
       "2   49f397b693eb41a9b7c8a95b0147c6a0.mp4   \n",
       "3  e366f4367c2148c3bb4e88a6bf3b0835.webm   \n",
       "4  7611fe4baab94392a82f5a8a28bdeba2.webm   \n",
       "\n",
       "                                   original_basename  \n",
       "0  BVx0nR366sk-3b0933b1902d9a66730d447258c425ec.webm  \n",
       "1  6Y1uTg7wCV8-b068dba553b7529eb2c2c4727c47fed9.webm  \n",
       "2   VuW-M9TB7tM-73472a9187f950d4812582d25154f1d4.mp4  \n",
       "3  gMz2bJykKaY-31b60bdf2a061902a1c004eab2ced596.webm  \n",
       "4  6QWIAsPOlxM-907ba6ac2932e487c215c9b364d06e14.webm  "
      ]
     },
     "execution_count": 21,
     "metadata": {},
     "output_type": "execute_result"
    }
   ],
   "source": [
    "augmentation_manifesto.head()"
   ]
  },
  {
   "cell_type": "code",
   "execution_count": 22,
   "metadata": {},
   "outputs": [],
   "source": [
    "# Match Augmented to their counterparts\n",
    "a_o = dict(zip(augmentation_manifesto['new_filename'],augmentation_manifesto['original_basename']))\n",
    "vendorquery_df['original_basename_q'] = vendorquery_df['filename'].apply(lambda x:matching(x,a_o))\n",
    "vendorquery_df['original_basename_m'] = vendorquery_df['match_filename'].apply(lambda x:matching(x,a_o))"
   ]
  },
  {
   "cell_type": "code",
   "execution_count": 23,
   "metadata": {},
   "outputs": [],
   "source": [
    "per_a = vendorquery_df['original_basename_q'].value_counts()\n",
    "msk = per_a[per_a > 1].index.values"
   ]
  },
  {
   "cell_type": "code",
   "execution_count": 24,
   "metadata": {},
   "outputs": [
    {
     "data": {
      "text/plain": [
       "(209, 6)"
      ]
     },
     "execution_count": 24,
     "metadata": {},
     "output_type": "execute_result"
    }
   ],
   "source": [
    "restricted = vendorquery_df.loc[vendorquery_df['original_basename_q'].isin(msk),:]\n",
    "restricted = restricted.loc[restricted.isUnique == False,:]\n",
    "restricted.shape"
   ]
  },
  {
   "cell_type": "code",
   "execution_count": 25,
   "metadata": {},
   "outputs": [
    {
     "data": {
      "text/plain": [
       "0.6746411483253588"
      ]
     },
     "execution_count": 25,
     "metadata": {},
     "output_type": "execute_result"
    }
   ],
   "source": [
    "sum(restricted['original_basename_m'] == restricted['original_basename_q']) / restricted.shape[0]"
   ]
  },
  {
   "cell_type": "code",
   "execution_count": 26,
   "metadata": {},
   "outputs": [
    {
     "data": {
      "text/plain": [
       "2387"
      ]
     },
     "execution_count": 26,
     "metadata": {},
     "output_type": "execute_result"
    }
   ],
   "source": [
    "sum(vendorquery_df['original_basename_m'] == vendorquery_df['original_basename_q'])"
   ]
  },
  {
   "cell_type": "markdown",
   "metadata": {},
   "source": [
    "## Analysing Results from our model"
   ]
  },
  {
   "cell_type": "code",
   "execution_count": 27,
   "metadata": {},
   "outputs": [
    {
     "name": "stdout",
     "output_type": "stream",
     "text": [
      "(3843, 4096)\n"
     ]
    },
    {
     "data": {
      "text/plain": [
       "(3843, 500)"
      ]
     },
     "execution_count": 27,
     "metadata": {},
     "output_type": "execute_result"
    }
   ],
   "source": [
    "from winnow.feature_extraction import SimilarityModel\n",
    "\n",
    "\n",
    "sm = SimilarityModel()\n",
    "\n",
    "video_signatures = sm.predict(VIDEO_LEVEL_SAVE_FOLDER)\n",
    "# Save Signatires\n",
    "video_signatures.shape"
   ]
  },
  {
   "cell_type": "code",
   "execution_count": 28,
   "metadata": {},
   "outputs": [],
   "source": [
    "video_signatures = np.nan_to_num(video_signatures)"
   ]
  },
  {
   "cell_type": "code",
   "execution_count": 29,
   "metadata": {},
   "outputs": [],
   "source": [
    "filenames = [x.split('_vgg')[0].split('/')[-1] for x in  sm.index]"
   ]
  },
  {
   "cell_type": "code",
   "execution_count": 30,
   "metadata": {},
   "outputs": [],
   "source": [
    "in_q = vendorquery_df['filename'].apply(lambda x:x.split('.')[0])"
   ]
  },
  {
   "cell_type": "code",
   "execution_count": 31,
   "metadata": {},
   "outputs": [],
   "source": [
    "video_space = video_signatures[np.isin(filenames,in_q)]\n",
    "labels = np.array(filenames)[np.isin(filenames,in_q)]"
   ]
  },
  {
   "cell_type": "code",
   "execution_count": 32,
   "metadata": {},
   "outputs": [],
   "source": [
    "from sklearn.cluster import DBSCAN"
   ]
  },
  {
   "cell_type": "code",
   "execution_count": 33,
   "metadata": {},
   "outputs": [],
   "source": [
    "clusters = DBSCAN(metric='cosine',eps=0.1,min_samples=1).fit_predict(video_space)"
   ]
  },
  {
   "cell_type": "code",
   "execution_count": 34,
   "metadata": {},
   "outputs": [],
   "source": [
    "model_results = pd.DataFrame({'filename':labels,'cluster':clusters})"
   ]
  },
  {
   "cell_type": "code",
   "execution_count": 35,
   "metadata": {},
   "outputs": [],
   "source": [
    "filename_original = a_o = dict(zip(augmentation_manifesto['new_filename'].apply(lambda x:x.split('.')[0]),augmentation_manifesto['original_basename']))"
   ]
  },
  {
   "cell_type": "code",
   "execution_count": 36,
   "metadata": {},
   "outputs": [],
   "source": [
    "model_results['original_basename_q'] = model_results['filename'].apply(lambda x:matching(x,filename_original))\n",
    "model_results['original_basename_q'] = model_results['original_basename_q'].apply(lambda x:x.split('.')[0])"
   ]
  },
  {
   "cell_type": "code",
   "execution_count": 37,
   "metadata": {},
   "outputs": [],
   "source": [
    "model_results ['original_basename_m'] = 'NA'"
   ]
  },
  {
   "cell_type": "code",
   "execution_count": 38,
   "metadata": {},
   "outputs": [],
   "source": [
    "for c in model_results.cluster.unique():\n",
    "    \n",
    "    msk = model_results.cluster == c\n",
    "    prevailing = model_results.loc[msk,:].original_basename_q.value_counts().index.values[0]\n",
    "    model_results.loc[msk,'original_basename_m'] = prevailing\n",
    "\n",
    "    \n",
    "    \n",
    "    \n",
    "    "
   ]
  },
  {
   "cell_type": "code",
   "execution_count": 39,
   "metadata": {},
   "outputs": [
    {
     "data": {
      "text/plain": [
       "2486"
      ]
     },
     "execution_count": 39,
     "metadata": {},
     "output_type": "execute_result"
    }
   ],
   "source": [
    "sum(model_results['original_basename_m'] == model_results['original_basename_q'])"
   ]
  },
  {
   "cell_type": "code",
   "execution_count": 43,
   "metadata": {},
   "outputs": [
    {
     "data": {
      "text/plain": [
       "2500"
      ]
     },
     "execution_count": 43,
     "metadata": {},
     "output_type": "execute_result"
    }
   ],
   "source": [
    "model_results['filename'].nunique()"
   ]
  },
  {
   "cell_type": "code",
   "execution_count": 77,
   "metadata": {},
   "outputs": [],
   "source": [
    "model_results['isUnique'] = model_results['original_basename_m'] == model_results['original_basename_q']"
   ]
  },
  {
   "cell_type": "code",
   "execution_count": 78,
   "metadata": {},
   "outputs": [
    {
     "data": {
      "text/plain": [
       "True     2486\n",
       "False      14\n",
       "Name: isUnique, dtype: int64"
      ]
     },
     "execution_count": 78,
     "metadata": {},
     "output_type": "execute_result"
    }
   ],
   "source": [
    "model_results.isUnique.value_counts()"
   ]
  },
  {
   "cell_type": "code",
   "execution_count": 79,
   "metadata": {},
   "outputs": [
    {
     "data": {
      "text/plain": [
       "(2500, 5)"
      ]
     },
     "execution_count": 79,
     "metadata": {},
     "output_type": "execute_result"
    }
   ],
   "source": []
  },
  {
   "cell_type": "code",
   "execution_count": null,
   "metadata": {},
   "outputs": [],
   "source": []
  }
 ],
 "metadata": {
  "kernelspec": {
   "display_name": "Python 3",
   "language": "python",
   "name": "python3"
  },
  "language_info": {
   "codemirror_mode": {
    "name": "ipython",
    "version": 3
   },
   "file_extension": ".py",
   "mimetype": "text/x-python",
   "name": "python",
   "nbconvert_exporter": "python",
   "pygments_lexer": "ipython3",
   "version": "3.6.6"
  }
 },
 "nbformat": 4,
 "nbformat_minor": 2
}
