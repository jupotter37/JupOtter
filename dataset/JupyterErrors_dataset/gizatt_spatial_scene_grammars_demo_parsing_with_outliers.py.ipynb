{
 "cells": [
  {
   "cell_type": "code",
   "execution_count": 1,
   "metadata": {},
   "outputs": [],
   "source": [
    "%load_ext autoreload\n",
    "%autoreload 2\n",
    "\n",
    "import matplotlib.pyplot as plt\n",
    "import networkx as nx\n",
    "import numpy as np\n",
    "import os\n",
    "import time\n",
    "\n",
    "import torch\n",
    "torch.set_default_tensor_type(torch.DoubleTensor)\n",
    "\n",
    "from spatial_scene_grammars.nodes import *\n",
    "from spatial_scene_grammars.rules import *\n",
    "from spatial_scene_grammars.scene_grammar import *\n",
    "from spatial_scene_grammars.visualization import *\n",
    "from spatial_scene_grammars_examples.oriented_clusters.grammar_with_extra_pathway import *\n",
    "from spatial_scene_grammars.parsing import *\n",
    "from spatial_scene_grammars.sampling import *\n",
    "\n",
    "import meshcat\n",
    "import meshcat.geometry as meshcat_geom"
   ]
  },
  {
   "cell_type": "code",
   "execution_count": 2,
   "metadata": {},
   "outputs": [
    {
     "name": "stdout",
     "output_type": "stream",
     "text": [
      "You can open the visualizer by visiting the following URL:\n",
      "http://127.0.0.1:7005/static/\n",
      "Meshcat url:  http://127.0.0.1:7005/static/\n"
     ]
    },
    {
     "data": {
      "text/html": [
       "\n",
       "    <div style=\"height: 400px; width: 100%; overflow-x: auto; overflow-y: hidden; resize: both\">\n",
       "    <iframe src=\"http://127.0.0.1:7005/static/\" style=\"width: 100%; height: 100%; border: none\"></iframe>\n",
       "</div>\n"
      ],
      "text/plain": [
       "<IPython.core.display.HTML object>"
      ]
     },
     "execution_count": 2,
     "metadata": {},
     "output_type": "execute_result"
    }
   ],
   "source": [
    "if 'vis' not in globals():\n",
    "    vis = meshcat.Visualizer()\n",
    "\n",
    "base_url = \"http://127.0.0.1\"\n",
    "meshcat_url = base_url + \":\" + vis.url().split(\":\")[-1]\n",
    "print(\"Meshcat url: \", meshcat_url)\n",
    "from IPython.display import HTML\n",
    "HTML(\"\"\"\n",
    "    <div style=\"height: 400px; width: 100%; overflow-x: auto; overflow-y: hidden; resize: both\">\n",
    "    <iframe src=\"{url}\" style=\"width: 100%; height: 100%; border: none\"></iframe>\n",
    "</div>\n",
    "\"\"\".format(url=meshcat_url))"
   ]
  },
  {
   "cell_type": "code",
   "execution_count": 3,
   "metadata": {},
   "outputs": [
    {
     "name": "stderr",
     "output_type": "stream",
     "text": [
      "WARNING:root:Detaching BinghamDistribution parameters.\n",
      "WARNING:root:Prior over parameters of WorldFrameBinghamRotationRule are Deltas.\n",
      "[2021-10-14 18:39:11.839] [console] [warning] FindResource ignoring DRAKE_RESOURCE_ROOT='/home/gizatt/drake' because it does not contain a 'drake' subdirectory.\n"
     ]
    },
    {
     "name": "stdout",
     "output_type": "stream",
     "text": [
      "Sampled scene with 1 clusters and 3 boxes.\n",
      "Sampled tree has score -4.334289\n"
     ]
    }
   ],
   "source": [
    "# Draw a random sample from the grammar and visualize it.\n",
    "pyro.set_rng_seed(42)\n",
    "grammar = SpatialSceneGrammar(\n",
    "    root_node_type = OrientedClusterRoot,\n",
    "    root_node_tf = torch.eye(4)\n",
    ")\n",
    "tree = grammar.sample_tree(detach=True)\n",
    "observed_nodes = tree.get_observed_nodes()\n",
    "print(\"Sampled scene with %d clusters and %d boxes.\" % \n",
    "      (len(tree.find_nodes_by_type(OrientedCluster)),\n",
    "       len(tree.find_nodes_by_type(LongBox))))\n",
    "print(\"Sampled tree has score %f\" % tree.score().item())\n",
    "draw_scene_tree_contents_meshcat(tree, zmq_url=vis.window.zmq_url)\n",
    "draw_scene_tree_structure_meshcat(tree, zmq_url=vis.window.zmq_url, alpha=0.5, node_sphere_size=0.01)"
   ]
  },
  {
   "cell_type": "code",
   "execution_count": 4,
   "metadata": {},
   "outputs": [
    {
     "name": "stdout",
     "output_type": "stream",
     "text": [
      "Super tree has 24 nodes\n"
     ]
    },
    {
     "data": {
      "image/png": "[encoded data removed]",
      "text/plain": [
       "<Figure size 432x288 with 1 Axes>"
      ]
     },
     "metadata": {},
     "output_type": "display_data"
    }
   ],
   "source": [
    "# Draw supertree for this grammar\n",
    "super_tree = grammar.make_super_tree(max_recursion_depth=10)\n",
    "nx.draw_networkx(super_tree, with_labels=False)\n",
    "plt.title(\"Super tree for oriented clusters grammar\")\n",
    "print(\"Super tree has %d nodes\" % len(list(super_tree.nodes)))"
   ]
  },
  {
   "cell_type": "code",
   "execution_count": 5,
   "metadata": {},
   "outputs": [
    {
     "name": "stdout",
     "output_type": "stream",
     "text": [
      "Starting setup.\n",
      "Activation vars allocated.\n",
      "Continuous variables and SO(3) constraints allocated for all equivalence sets.\n",
      "Setup time:  0.5154693126678467\n",
      "Num vars:  3906\n",
      "Num constraints:  12107\n",
      "Optimization success?:  True\n",
      "Logfile: \n",
      "\n",
      "Gurobi 9.0.2 (linux64) logging started Thu Oct 14 18:39:12 2021\n",
      "\n",
      "Gurobi Optimizer version 9.0.2 build v9.0.2rc0 (linux64)\n",
      "Optimize a model with 9203 rows, 4032 columns and 60218 nonzeros\n",
      "Model fingerprint: 0x19aba2a2\n",
      "Model has 21 quadratic constraints\n",
      "Variable types: 3843 continuous, 189 integer (189 binary)\n",
      "Coefficient statistics:\n",
      "  Matrix range     [1e-01, 1e+01]\n",
      "  QMatrix range    [1e+00, 1e+00]\n",
      "  Objective range  [1e-18, 1e+03]\n",
      "  Bounds range     [1e+00, 1e+00]\n",
      "  RHS range        [2e-01, 1e+01]\n",
      "Presolve removed 3559 rows and 305 columns\n",
      "Presolve time: 0.10s\n",
      "Presolved: 5644 rows, 3727 columns, 44226 nonzeros\n",
      "Presolved model has 21 quadratic constraint(s)\n",
      "Variable types: 3549 continuous, 178 integer (178 binary)\n",
      "\n",
      "Root relaxation: objective -1.999813e+03, 2899 iterations, 0.15 seconds\n",
      "\n",
      "    Nodes    |    Current Node    |     Objective Bounds      |     Work\n",
      " Expl Unexpl |  Obj  Depth IntInf | Incumbent    BestBd   Gap | It/Node Time\n",
      "\n",
      "     0     0 -1999.8134    0   14          - -1999.8134      -     -    0s\n",
      "     0     0 -1551.8996    0   68          - -1551.8996      -     -    1s\n",
      "     0     0 -1551.8996    0   68          - -1551.8996      -     -    1s\n",
      "     0     0 -669.60767    0   77          - -669.60767      -     -    1s\n",
      "     0     0 -669.60767    0   77          - -669.60767      -     -    1s\n",
      "     0     0 -639.43771    0   82          - -639.43771      -     -    1s\n",
      "     0     0 -639.43771    0   81          - -639.43771      -     -    1s\n",
      "     0     0 -639.43449    0   76          - -639.43449      -     -    1s\n",
      "     0     0 -639.43449    0   75          - -639.43449      -     -    1s\n",
      "     0     0 -639.43142    0   81          - -639.43142      -     -    2s\n",
      "     0     0 -639.43142    0   77          - -639.43142      -     -    2s\n",
      "     0     0 -639.43038    0   85          - -639.43038      -     -    2s\n",
      "     0     0 -639.43038    0   20          - -639.43038      -     -    2s\n",
      "     0     2 -639.43038    0   18          - -639.43038      -     -    3s\n",
      "   651   559    8.16398   30   24          -    4.23816      -   142    5s\n",
      "   677   584    9.18153   19   62          -    4.23817      -   176   10s\n",
      "*  992   811              42       4.2432810    4.23817  0.12%   156   11s\n",
      "* 1465   742              40       4.2390488    4.23837  0.02%   123   11s\n",
      "H 1780   412                       4.2385855    4.23856  0.00%   114   12s\n",
      "H 2573   772                       4.2385854    4.23856  0.00%  93.2   12s\n",
      "* 4667  1738              53       4.2385852    4.23858  0.00%  73.1   14s\n",
      "\n",
      "Cutting planes:\n",
      "  Gomory: 2\n",
      "  Projected implied bound: 10\n",
      "  MIR: 21\n",
      "  Flow cover: 31\n",
      "  RLT: 8\n",
      "  Relax-and-lift: 11\n",
      "\n",
      "Explored 5260 nodes (395877 simplex iterations) in 14.69 seconds\n",
      "Thread count was 12 (of 12 available processors)\n",
      "\n",
      "Solution count 10: 4.23859 4.23859 4.23859 ... 4.23859\n",
      "\n",
      "Optimal solution found (tolerance 1.00e-03)\n",
      "Best objective 4.238585169773e+00, best bound 4.238582340992e+00, gap 0.0001%\n",
      "\n",
      "Solve time:  14.784139394760132\n",
      "Total time:  15.299608707427979\n",
      "Avg elementwise deviation from R^T R = I:  tensor(6.4763e-17)\n",
      "Avg elementwise deviation from R^T R = I:  tensor(6.4763e-17)\n",
      "Avg elementwise deviation from R^T R = I:  tensor(6.4763e-17)\n",
      "Avg elementwise deviation from R^T R = I:  tensor(1.7887e-16)\n",
      "Avg elementwise deviation from R^T R = I:  tensor(0.0296)\n",
      "Avg elementwise deviation from R^T R = I:  tensor(3.1948e-16)\n",
      "Avg elementwise deviation from R^T R = I:  tensor(2.7931e-16)\n"
     ]
    }
   ],
   "source": [
    "# Parse this tree\n",
    "inference_results = infer_mle_tree_with_mip(\n",
    "    grammar, observed_nodes, verbose=True, max_scene_extent_in_any_dir=5., N_solutions=10\n",
    ")\n",
    "mip_optimized_trees = get_optimized_trees_from_mip_results(inference_results)\n",
    "vis[\"mip\"].delete()\n",
    "for k, mip_optimized_tree in enumerate(mip_optimized_trees):\n",
    "    draw_scene_tree_structure_meshcat(mip_optimized_tree, zmq_url=vis.window.zmq_url, prefix=\"mip/tree_%d\" % k, node_sphere_size=0.01)\n",
    "\n",
    "for node in mip_optimized_tree:\n",
    "    err = torch.matmul(node.rotation.transpose(0, 1), node.rotation) - torch.eye(3)\n",
    "    print(\"Avg elementwise deviation from R^T R = I: \", err.abs().mean())"
   ]
  },
  {
   "cell_type": "code",
   "execution_count": 6,
   "metadata": {},
   "outputs": [
    {
     "name": "stdout",
     "output_type": "stream",
     "text": [
      "Optimized tree scores:  [tensor([-4.2392]), tensor([-4.2392]), tensor([-4.2392]), tensor([-4.2392]), tensor([-4.2392]), tensor([-4.2392]), tensor([-4.2392]), tensor([-4.2392]), tensor([-4.2392]), tensor([-4.2392])]\n",
      "GT tree score:  tensor([-4.3343])\n"
     ]
    }
   ],
   "source": [
    "print(\"Optimized tree scores: \", [mip_optimized_tree.score(include_discrete=True, include_continuous=True) for mip_optimized_tree in mip_optimized_trees])\n",
    "print(\"GT tree score: \", tree.score(include_discrete=True, include_continuous=True))"
   ]
  },
  {
   "cell_type": "code",
   "execution_count": 7,
   "metadata": {},
   "outputs": [
    {
     "name": "stdout",
     "output_type": "stream",
     "text": [
      "<spatial_scene_grammars.rules.SamePositionRule object at 0x7f0c7f245080> <spatial_scene_grammars.rules.SameRotationRule object at 0x7f0c7f245208>\n",
      "<spatial_scene_grammars.rules.SamePositionRule object at 0x7f0c7f2452e8> <spatial_scene_grammars.rules.SameRotationRule object at 0x7f0c7f245358>\n",
      "<spatial_scene_grammars.rules.SamePositionRule object at 0x7f0c7f245978> <spatial_scene_grammars.rules.WorldFrameBinghamRotationRule object at 0x7f0c7f2459e8>\n"
     ]
    },
    {
     "ename": "RuntimeError",
     "evalue": "(if (((R_3(0,0) + R_3(1,1) + R_3(2,2)) >= R_3(0,0)) and ((R_3(0,0) + R_3(1,1) + R_3(2,2)) >= R_3(1,1)) and ((R_3(0,0) + R_3(1,1) + R_3(2,2)) >= R_3(2,2))) then (R_3(1,0) - R_3(0,1)) else (if ((R_3(0,0) >= R_3(1,1)) and (R_3(0,0) >= R_3(2,2))) then (R_3(2,0) + R_3(0,2)) else (if (R_3(1,1) >= R_3(2,2)) then (R_3(2,1) + R_3(1,2)) else (1 - R_3(0,0) - R_3(1,1) + R_3(2,2))))) is not differentiable with respect to R_3(0,0).",
     "output_type": "error",
     "traceback": [
      "\u001b[0;31m---------------------------------------------------------------------------\u001b[0m",
      "\u001b[0;31mRuntimeError\u001b[0m                              Traceback (most recent call last)",
      "\u001b[0;32m<ipython-input-7-6aab8fe6dc2b>\u001b[0m in \u001b[0;36m<module>\u001b[0;34m\u001b[0m\n\u001b[1;32m      1\u001b[0m \u001b[0;31m# Do NLP refinement of tree\u001b[0m\u001b[0;34m\u001b[0m\u001b[0;34m\u001b[0m\u001b[0;34m\u001b[0m\u001b[0m\n\u001b[0;32m----> 2\u001b[0;31m \u001b[0mrefinement_results\u001b[0m \u001b[0;34m=\u001b[0m \u001b[0moptimize_scene_tree_with_nlp\u001b[0m\u001b[0;34m(\u001b[0m\u001b[0mgrammar\u001b[0m\u001b[0;34m,\u001b[0m \u001b[0mmip_optimized_trees\u001b[0m\u001b[0;34m[\u001b[0m\u001b[0;36m0\u001b[0m\u001b[0;34m]\u001b[0m\u001b[0;34m,\u001b[0m \u001b[0mverbose\u001b[0m\u001b[0;34m=\u001b[0m\u001b[0;32mTrue\u001b[0m\u001b[0;34m)\u001b[0m\u001b[0;34m\u001b[0m\u001b[0;34m\u001b[0m\u001b[0m\n\u001b[0m\u001b[1;32m      3\u001b[0m \u001b[0mrefined_tree\u001b[0m \u001b[0;34m=\u001b[0m \u001b[0mrefinement_results\u001b[0m\u001b[0;34m.\u001b[0m\u001b[0mrefined_tree\u001b[0m\u001b[0;34m\u001b[0m\u001b[0;34m\u001b[0m\u001b[0m\n\u001b[1;32m      4\u001b[0m \u001b[0mdraw_scene_tree_structure_meshcat\u001b[0m\u001b[0;34m(\u001b[0m\u001b[0mrefined_tree\u001b[0m\u001b[0;34m,\u001b[0m \u001b[0mzmq_url\u001b[0m\u001b[0;34m=\u001b[0m\u001b[0mvis\u001b[0m\u001b[0;34m.\u001b[0m\u001b[0mwindow\u001b[0m\u001b[0;34m.\u001b[0m\u001b[0mzmq_url\u001b[0m\u001b[0;34m,\u001b[0m \u001b[0mprefix\u001b[0m\u001b[0;34m=\u001b[0m\u001b[0;34m\"refined_scene_tree\"\u001b[0m\u001b[0;34m,\u001b[0m \u001b[0mnode_sphere_size\u001b[0m\u001b[0;34m=\u001b[0m\u001b[0;36m0.01\u001b[0m\u001b[0;34m)\u001b[0m\u001b[0;34m\u001b[0m\u001b[0;34m\u001b[0m\u001b[0m\n",
      "\u001b[0;32m~/projects/spatial_scene_grammars/spatial_scene_grammars/parsing.py\u001b[0m in \u001b[0;36moptimize_scene_tree_with_nlp\u001b[0;34m(grammar, scene_tree, initial_guess_tree, objective, verbose, max_scene_extent_in_any_dir)\u001b[0m\n\u001b[1;32m    766\u001b[0m                 \u001b[0mprint\u001b[0m\u001b[0;34m(\u001b[0m\u001b[0mrule\u001b[0m\u001b[0;34m.\u001b[0m\u001b[0mxyz_rule\u001b[0m\u001b[0;34m,\u001b[0m \u001b[0mrule\u001b[0m\u001b[0;34m.\u001b[0m\u001b[0mrotation_rule\u001b[0m\u001b[0;34m)\u001b[0m\u001b[0;34m\u001b[0m\u001b[0;34m\u001b[0m\u001b[0m\n\u001b[1;32m    767\u001b[0m                 rule.encode_cost(\n\u001b[0;32m--> 768\u001b[0;31m                     \u001b[0mprog\u001b[0m\u001b[0;34m,\u001b[0m \u001b[0mxyz_optim_params\u001b[0m\u001b[0;34m,\u001b[0m \u001b[0mrot_optim_params\u001b[0m\u001b[0;34m,\u001b[0m \u001b[0;32mTrue\u001b[0m\u001b[0;34m,\u001b[0m \u001b[0mparent_node\u001b[0m\u001b[0;34m,\u001b[0m \u001b[0mchild_node\u001b[0m\u001b[0;34m,\u001b[0m \u001b[0mmax_scene_extent_in_any_dir\u001b[0m\u001b[0;34m\u001b[0m\u001b[0;34m\u001b[0m\u001b[0m\n\u001b[0m\u001b[1;32m    769\u001b[0m                 )\n\u001b[1;32m    770\u001b[0m \u001b[0;34m\u001b[0m\u001b[0m\n",
      "\u001b[0;32m~/projects/spatial_scene_grammars/spatial_scene_grammars/rules.py\u001b[0m in \u001b[0;36mencode_cost\u001b[0;34m(self, prog, xyz_optim_params, rot_optim_params, active, parent, child, max_scene_extent_in_any_dir)\u001b[0m\n\u001b[1;32m    160\u001b[0m         encoders in a more sensible way with a less obtuse interface. '''\n\u001b[1;32m    161\u001b[0m         \u001b[0mself\u001b[0m\u001b[0;34m.\u001b[0m\u001b[0mxyz_rule\u001b[0m\u001b[0;34m.\u001b[0m\u001b[0mencode_cost\u001b[0m\u001b[0;34m(\u001b[0m\u001b[0mprog\u001b[0m\u001b[0;34m,\u001b[0m \u001b[0mxyz_optim_params\u001b[0m\u001b[0;34m,\u001b[0m \u001b[0mactive\u001b[0m\u001b[0;34m,\u001b[0m \u001b[0mparent\u001b[0m\u001b[0;34m,\u001b[0m \u001b[0mchild\u001b[0m\u001b[0;34m,\u001b[0m \u001b[0mmax_scene_extent_in_any_dir\u001b[0m\u001b[0;34m)\u001b[0m\u001b[0;34m\u001b[0m\u001b[0;34m\u001b[0m\u001b[0m\n\u001b[0;32m--> 162\u001b[0;31m         \u001b[0mself\u001b[0m\u001b[0;34m.\u001b[0m\u001b[0mrotation_rule\u001b[0m\u001b[0;34m.\u001b[0m\u001b[0mencode_cost\u001b[0m\u001b[0;34m(\u001b[0m\u001b[0mprog\u001b[0m\u001b[0;34m,\u001b[0m \u001b[0mrot_optim_params\u001b[0m\u001b[0;34m,\u001b[0m \u001b[0mactive\u001b[0m\u001b[0;34m,\u001b[0m \u001b[0mparent\u001b[0m\u001b[0;34m,\u001b[0m \u001b[0mchild\u001b[0m\u001b[0;34m,\u001b[0m \u001b[0mmax_scene_extent_in_any_dir\u001b[0m\u001b[0;34m)\u001b[0m\u001b[0;34m\u001b[0m\u001b[0;34m\u001b[0m\u001b[0m\n\u001b[0m\u001b[1;32m    163\u001b[0m \u001b[0;34m\u001b[0m\u001b[0m\n\u001b[1;32m    164\u001b[0m \u001b[0;31m## XYZ Production rules\u001b[0m\u001b[0;34m\u001b[0m\u001b[0;34m\u001b[0m\u001b[0;34m\u001b[0m\u001b[0m\n",
      "\u001b[0;32m~/projects/spatial_scene_grammars/spatial_scene_grammars/rules.py\u001b[0m in \u001b[0;36mencode_cost\u001b[0;34m(self, prog, optim_params, active, parent, child, max_scene_extent_in_any_dir)\u001b[0m\n\u001b[1;32m   1184\u001b[0m         \u001b[0mZ\u001b[0m \u001b[0;34m=\u001b[0m \u001b[0mnp\u001b[0m\u001b[0;34m.\u001b[0m\u001b[0mdiag\u001b[0m\u001b[0;34m(\u001b[0m\u001b[0moptim_params\u001b[0m\u001b[0;34m[\u001b[0m\u001b[0;34m\"Z\"\u001b[0m\u001b[0;34m]\u001b[0m\u001b[0;34m)\u001b[0m\u001b[0;34m\u001b[0m\u001b[0;34m\u001b[0m\u001b[0m\n\u001b[1;32m   1185\u001b[0m         \u001b[0mlog_normalizer\u001b[0m \u001b[0;34m=\u001b[0m \u001b[0mtorch\u001b[0m\u001b[0;34m.\u001b[0m\u001b[0mlog\u001b[0m\u001b[0;34m(\u001b[0m\u001b[0mself\u001b[0m\u001b[0;34m.\u001b[0m\u001b[0m_bingham_dist\u001b[0m\u001b[0;34m.\u001b[0m\u001b[0m_norm_const\u001b[0m\u001b[0;34m)\u001b[0m\u001b[0;34m.\u001b[0m\u001b[0mdetach\u001b[0m\u001b[0;34m(\u001b[0m\u001b[0;34m)\u001b[0m\u001b[0;34m.\u001b[0m\u001b[0mnumpy\u001b[0m\u001b[0;34m(\u001b[0m\u001b[0;34m)\u001b[0m\u001b[0;34m\u001b[0m\u001b[0;34m\u001b[0m\u001b[0m\n\u001b[0;32m-> 1186\u001b[0;31m         \u001b[0madd_bingham_cost\u001b[0m\u001b[0;34m(\u001b[0m\u001b[0mprog\u001b[0m\u001b[0;34m,\u001b[0m \u001b[0mR\u001b[0m\u001b[0;34m,\u001b[0m \u001b[0mactive\u001b[0m\u001b[0;34m,\u001b[0m \u001b[0mM\u001b[0m\u001b[0;34m,\u001b[0m \u001b[0mZ\u001b[0m\u001b[0;34m,\u001b[0m \u001b[0mlog_normalizer\u001b[0m\u001b[0;34m)\u001b[0m\u001b[0;34m\u001b[0m\u001b[0;34m\u001b[0m\u001b[0m\n\u001b[0m\u001b[1;32m   1187\u001b[0m \u001b[0;34m\u001b[0m\u001b[0m\n\u001b[1;32m   1188\u001b[0m \u001b[0;34m\u001b[0m\u001b[0m\n",
      "\u001b[0;32m~/projects/spatial_scene_grammars/spatial_scene_grammars/rules.py\u001b[0m in \u001b[0;36madd_bingham_cost\u001b[0;34m(prog, R, active, M, Z, log_normalizer)\u001b[0m\n\u001b[1;32m   1009\u001b[0m         \u001b[0;32mfor\u001b[0m \u001b[0mi\u001b[0m \u001b[0;32min\u001b[0m \u001b[0mrange\u001b[0m\u001b[0;34m(\u001b[0m\u001b[0;36m4\u001b[0m\u001b[0;34m)\u001b[0m\u001b[0;34m:\u001b[0m\u001b[0;34m\u001b[0m\u001b[0;34m\u001b[0m\u001b[0m\n\u001b[1;32m   1010\u001b[0m             \u001b[0;32mfor\u001b[0m \u001b[0mj\u001b[0m \u001b[0;32min\u001b[0m \u001b[0mrange\u001b[0m\u001b[0;34m(\u001b[0m\u001b[0;36m4\u001b[0m\u001b[0;34m)\u001b[0m\u001b[0;34m:\u001b[0m\u001b[0;34m\u001b[0m\u001b[0;34m\u001b[0m\u001b[0m\n\u001b[0;32m-> 1011\u001b[0;31m                 \u001b[0mprog\u001b[0m\u001b[0;34m.\u001b[0m\u001b[0mAddConstraint\u001b[0m\u001b[0;34m(\u001b[0m\u001b[0mqqt\u001b[0m\u001b[0;34m[\u001b[0m\u001b[0mi\u001b[0m\u001b[0;34m,\u001b[0m \u001b[0mj\u001b[0m\u001b[0;34m]\u001b[0m \u001b[0;34m==\u001b[0m \u001b[0mqqt_matrix\u001b[0m\u001b[0;34m[\u001b[0m\u001b[0mi\u001b[0m\u001b[0;34m,\u001b[0m \u001b[0mj\u001b[0m\u001b[0;34m]\u001b[0m\u001b[0;34m)\u001b[0m\u001b[0;34m\u001b[0m\u001b[0;34m\u001b[0m\u001b[0m\n\u001b[0m\u001b[1;32m   1012\u001b[0m         \u001b[0mll\u001b[0m \u001b[0;34m=\u001b[0m \u001b[0mnp\u001b[0m\u001b[0;34m.\u001b[0m\u001b[0mtrace\u001b[0m\u001b[0;34m(\u001b[0m\u001b[0mZ\u001b[0m\u001b[0;34m.\u001b[0m\u001b[0mdot\u001b[0m\u001b[0;34m(\u001b[0m\u001b[0mM\u001b[0m\u001b[0;34m.\u001b[0m\u001b[0mT\u001b[0m\u001b[0;34m.\u001b[0m\u001b[0mdot\u001b[0m\u001b[0;34m(\u001b[0m\u001b[0mqqt_matrix\u001b[0m\u001b[0;34m.\u001b[0m\u001b[0mdot\u001b[0m\u001b[0;34m(\u001b[0m\u001b[0mM\u001b[0m\u001b[0;34m)\u001b[0m\u001b[0;34m)\u001b[0m\u001b[0;34m)\u001b[0m\u001b[0;34m)\u001b[0m \u001b[0;34m-\u001b[0m \u001b[0mlog_normalizer\u001b[0m\u001b[0;34m\u001b[0m\u001b[0;34m\u001b[0m\u001b[0m\n\u001b[1;32m   1013\u001b[0m         \u001b[0mprog\u001b[0m\u001b[0;34m.\u001b[0m\u001b[0mAddLinearCost\u001b[0m\u001b[0;34m(\u001b[0m\u001b[0;34m-\u001b[0m\u001b[0mll\u001b[0m\u001b[0;34m)\u001b[0m\u001b[0;34m\u001b[0m\u001b[0;34m\u001b[0m\u001b[0m\n",
      "\u001b[0;31mRuntimeError\u001b[0m: (if (((R_3(0,0) + R_3(1,1) + R_3(2,2)) >= R_3(0,0)) and ((R_3(0,0) + R_3(1,1) + R_3(2,2)) >= R_3(1,1)) and ((R_3(0,0) + R_3(1,1) + R_3(2,2)) >= R_3(2,2))) then (R_3(1,0) - R_3(0,1)) else (if ((R_3(0,0) >= R_3(1,1)) and (R_3(0,0) >= R_3(2,2))) then (R_3(2,0) + R_3(0,2)) else (if (R_3(1,1) >= R_3(2,2)) then (R_3(2,1) + R_3(1,2)) else (1 - R_3(0,0) - R_3(1,1) + R_3(2,2))))) is not differentiable with respect to R_3(0,0)."
     ]
    }
   ],
   "source": [
    "# Do NLP refinement of tree\n",
    "refinement_results = optimize_scene_tree_with_nlp(grammar, mip_optimized_trees[0], verbose=True)\n",
    "refined_tree = refinement_results.refined_tree\n",
    "draw_scene_tree_structure_meshcat(refined_tree, zmq_url=vis.window.zmq_url, prefix=\"refined_scene_tree\", node_sphere_size=0.01)"
   ]
  },
  {
   "cell_type": "code",
   "execution_count": null,
   "metadata": {},
   "outputs": [],
   "source": [
    "print(\"Pre-refined tree score: \", mip_optimized_trees[0].score(include_discrete=False))\n",
    "print(\"Refined tree score: \", refined_tree.score(include_discrete=False))\n",
    "print(\"Original tree score: \", tree.score(include_discrete=False))"
   ]
  },
  {
   "cell_type": "code",
   "execution_count": null,
   "metadata": {},
   "outputs": [],
   "source": []
  },
  {
   "cell_type": "code",
   "execution_count": null,
   "metadata": {},
   "outputs": [],
   "source": []
  }
 ],
 "metadata": {
  "kernelspec": {
   "display_name": "Python 3",
   "language": "python",
   "name": "python3"
  },
  "language_info": {
   "codemirror_mode": {
    "name": "ipython",
    "version": 3
   },
   "file_extension": ".py",
   "mimetype": "text/x-python",
   "name": "python",
   "nbconvert_exporter": "python",
   "pygments_lexer": "ipython3",
   "version": "3.6.13"
  }
 },
 "nbformat": 4,
 "nbformat_minor": 4
}
