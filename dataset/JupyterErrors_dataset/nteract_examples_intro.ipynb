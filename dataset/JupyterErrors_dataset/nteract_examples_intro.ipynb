{
 "cells": [
  {
   "cell_type": "markdown",
   "metadata": {},
   "source": [
    "## The Notable Nteract Notebook\n",
    "\n",
    "![comp](https://assets-cdn.github.com/images/icons/emoji/unicode/1f4d3.png)\n",
    "\n",
    "**It's a notebook!**\n",
    "\n",
    "This is a standalone notebook for interacting with the REPL of your choice, being built at [nteract/nteract](https://github.com/nteract/nteract). The primary goals are:\n",
    "\n",
    "* Standalone distributable application for the notebook (in Electron!)\n",
    "* One click installers for macOS and Windows\n",
    "* Bundles a kernel with scientific Python packages\n",
    "* Integrates well with the current ecosystem of tooling\n",
    "  * Should be able to detect other kernels\n",
    "  * Comms should work (for ipywidgets)"
   ]
  },
  {
   "cell_type": "code",
   "execution_count": 1,
   "metadata": {
    "collapsed": false
   },
   "outputs": [
    {
     "data": {
      "text/html": [
       "<h1>Multiple</h1>"
      ],
      "text/plain": [
       "<IPython.core.display.HTML object>"
      ]
     },
     "metadata": {},
     "output_type": "display_data"
    },
    {
     "data": {
      "text/html": [
       "<p>Display Elements</p>"
      ],
      "text/plain": [
       "<IPython.core.display.HTML object>"
      ]
     },
     "metadata": {},
     "output_type": "display_data"
    },
    {
     "data": {
      "text/markdown": [
       "**awesome**"
      ],
      "text/plain": [
       "<IPython.core.display.Markdown object>"
      ]
     },
     "metadata": {},
     "output_type": "display_data"
    },
    {
     "name": "stdout",
     "output_type": "stream",
     "text": [
      "hey\n"
     ]
    },
    {
     "data": {
      "text/plain": [
       "42"
      ]
     },
     "execution_count": 1,
     "metadata": {},
     "output_type": "execute_result"
    }
   ],
   "source": [
    "import IPython\n",
    "\n",
    "from IPython.display import HTML\n",
    "from IPython.display import Markdown\n",
    "from IPython.display import display\n",
    "\n",
    "display(HTML(\"<h1>Multiple</h1>\"))\n",
    "display(HTML(\"<p>Display Elements</p>\"))\n",
    "display(Markdown('**awesome**'))\n",
    "\n",
    "print('hey')\n",
    "42"
   ]
  },
  {
   "cell_type": "code",
   "execution_count": 2,
   "metadata": {
    "collapsed": false
   },
   "outputs": [
    {
     "name": "stdout",
     "output_type": "stream",
     "text": [
      "PACKAGING-NOTES.md \u001b[34mbin\u001b[m\u001b[m                \u001b[34msrc\u001b[m\u001b[m                webpack.prod.js\r\n",
      "README.md          \u001b[34mbuild\u001b[m\u001b[m              \u001b[34mstatic\u001b[m\u001b[m\r\n",
      "\u001b[34m__mocks__\u001b[m\u001b[m          \u001b[34mexample-notebooks\u001b[m\u001b[m  webpack.common.js\r\n",
      "\u001b[34m__tests__\u001b[m\u001b[m          package.json       webpack.dev.js\r\n"
     ]
    }
   ],
   "source": [
    "! ls .."
   ]
  },
  {
   "cell_type": "code",
   "execution_count": 3,
   "metadata": {
    "collapsed": false
   },
   "outputs": [
    {
     "ename": "NameError",
     "evalue": "name 'thistextwillerror' is not defined",
     "output_type": "error",
     "traceback": [
      "\u001b[0;31m---------------------------------------------------------------------------\u001b[0m",
      "\u001b[0;31mNameError\u001b[0m                                 Traceback (most recent call last)",
      "\u001b[0;32m<ipython-input-3-7a4f84098db6>\u001b[0m in \u001b[0;36m<module>\u001b[0;34m()\u001b[0m\n\u001b[0;32m----> 1\u001b[0;31m \u001b[0mthistextwillerror\u001b[0m\u001b[0;34m\u001b[0m\u001b[0m\n\u001b[0m",
      "\u001b[0;31mNameError\u001b[0m: name 'thistextwillerror' is not defined"
     ]
    }
   ],
   "source": [
    "thistextwillerror"
   ]
  },
  {
   "cell_type": "code",
   "execution_count": 7,
   "metadata": {
    "collapsed": false
   },
   "outputs": [
    {
     "data": {
      "text/html": [
       "<img src=\"https://avatars2.githubusercontent.com/u/12401040?v=3&s=200\"/>"
      ],
      "text/plain": [
       "<IPython.core.display.Image object>"
      ]
     },
     "execution_count": 7,
     "metadata": {},
     "output_type": "execute_result"
    }
   ],
   "source": [
    "from IPython.display import Image\n",
    "Image(url='https://avatars2.githubusercontent.com/u/12401040?v=3&s=200')"
   ]
  },
  {
   "cell_type": "code",
   "execution_count": null,
   "metadata": {
    "collapsed": true
   },
   "outputs": [],
   "source": []
  }
 ],
 "metadata": {
  "kernel_info": {
   "name": "python3"
  },
  "kernelspec": {
   "display_name": "Python 3",
   "language": "python",
   "name": "python3"
  },
  "language_info": {
   "codemirror_mode": {
    "name": "ipython",
    "version": 3
   },
   "file_extension": ".py",
   "mimetype": "text/x-python",
   "name": "python",
   "nbconvert_exporter": "python",
   "pygments_lexer": "ipython3",
   "version": "3.7.2"
  },
  "nteract": {
   "version": "nteract-on-jupyter@2.0.4"
  },
  "title": "Introduce nteract"
 },
 "nbformat": 4,
 "nbformat_minor": 0
}
