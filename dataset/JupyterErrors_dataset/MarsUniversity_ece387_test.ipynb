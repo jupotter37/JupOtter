{
 "cells": [
  {
   "cell_type": "code",
   "execution_count": 9,
   "metadata": {},
   "outputs": [],
   "source": [
    "%matplotlib inline\n",
    "from __future__ import print_function\n",
    "from __future__ import division\n",
    "import numpy as np\n",
    "from matplotlib import pyplot as plt\n",
    "import random"
   ]
  },
  {
   "cell_type": "code",
   "execution_count": 10,
   "metadata": {},
   "outputs": [
    {
     "name": "stdout",
     "output_type": "stream",
     "text": [
      "1.0 -0.95\n"
     ]
    }
   ],
   "source": [
    "x = np.array([0, 1, 2, 3])\n",
    "y = np.array([-1, 0.2, 0.9, 2.1])\n",
    "A = np.vstack([x, np.ones(len(x))]).T\n",
    "m, c = np.linalg.lstsq(A, y)[0]\n",
    "print(m,c)"
   ]
  },
  {
   "cell_type": "code",
   "execution_count": 11,
   "metadata": {},
   "outputs": [
    {
     "data": {
      "text/plain": [
       "(array([ 1.  , -0.95]), array([ 0.05]), 2, array([ 4.10003045,  1.09075677]))"
      ]
     },
     "execution_count": 11,
     "metadata": {},
     "output_type": "execute_result"
    },
    {
     "data": {
      "image/png": "[encoded data removed]",
      "text/plain": [
       "<matplotlib.figure.Figure at 0x10af0a390>"
      ]
     },
     "metadata": {},
     "output_type": "display_data"
    }
   ],
   "source": [
    "plt.plot(x,y)\n",
    "np.linalg.lstsq(A, y)"
   ]
  },
  {
   "cell_type": "code",
   "execution_count": 12,
   "metadata": {},
   "outputs": [
    {
     "name": "stdout",
     "output_type": "stream",
     "text": [
      "Help on function lstsq in module numpy.linalg.linalg:\n",
      "\n",
      "lstsq(a, b, rcond=-1)\n",
      "    Return the least-squares solution to a linear matrix equation.\n",
      "    \n",
      "    Solves the equation `a x = b` by computing a vector `x` that\n",
      "    minimizes the Euclidean 2-norm `|| b - a x ||^2`.  The equation may\n",
      "    be under-, well-, or over- determined (i.e., the number of\n",
      "    linearly independent rows of `a` can be less than, equal to, or\n",
      "    greater than its number of linearly independent columns).  If `a`\n",
      "    is square and of full rank, then `x` (but for round-off error) is\n",
      "    the \"exact\" solution of the equation.\n",
      "    \n",
      "    Parameters\n",
      "    ----------\n",
      "    a : (M, N) array_like\n",
      "        \"Coefficient\" matrix.\n",
      "    b : {(M,), (M, K)} array_like\n",
      "        Ordinate or \"dependent variable\" values. If `b` is two-dimensional,\n",
      "        the least-squares solution is calculated for each of the `K` columns\n",
      "        of `b`.\n",
      "    rcond : float, optional\n",
      "        Cut-off ratio for small singular values of `a`.\n",
      "        For the purposes of rank determination, singular values are treated\n",
      "        as zero if they are smaller than `rcond` times the largest singular\n",
      "        value of `a`.\n",
      "    \n",
      "    Returns\n",
      "    -------\n",
      "    x : {(N,), (N, K)} ndarray\n",
      "        Least-squares solution. If `b` is two-dimensional,\n",
      "        the solutions are in the `K` columns of `x`.\n",
      "    residuals : {(), (1,), (K,)} ndarray\n",
      "        Sums of residuals; squared Euclidean 2-norm for each column in\n",
      "        ``b - a*x``.\n",
      "        If the rank of `a` is < N or M <= N, this is an empty array.\n",
      "        If `b` is 1-dimensional, this is a (1,) shape array.\n",
      "        Otherwise the shape is (K,).\n",
      "    rank : int\n",
      "        Rank of matrix `a`.\n",
      "    s : (min(M, N),) ndarray\n",
      "        Singular values of `a`.\n",
      "    \n",
      "    Raises\n",
      "    ------\n",
      "    LinAlgError\n",
      "        If computation does not converge.\n",
      "    \n",
      "    Notes\n",
      "    -----\n",
      "    If `b` is a matrix, then all array results are returned as matrices.\n",
      "    \n",
      "    Examples\n",
      "    --------\n",
      "    Fit a line, ``y = mx + c``, through some noisy data-points:\n",
      "    \n",
      "    >>> x = np.array([0, 1, 2, 3])\n",
      "    >>> y = np.array([-1, 0.2, 0.9, 2.1])\n",
      "    \n",
      "    By examining the coefficients, we see that the line should have a\n",
      "    gradient of roughly 1 and cut the y-axis at, more or less, -1.\n",
      "    \n",
      "    We can rewrite the line equation as ``y = Ap``, where ``A = [[x 1]]``\n",
      "    and ``p = [[m], [c]]``.  Now use `lstsq` to solve for `p`:\n",
      "    \n",
      "    >>> A = np.vstack([x, np.ones(len(x))]).T\n",
      "    >>> A\n",
      "    array([[ 0.,  1.],\n",
      "           [ 1.,  1.],\n",
      "           [ 2.,  1.],\n",
      "           [ 3.,  1.]])\n",
      "    \n",
      "    >>> m, c = np.linalg.lstsq(A, y)[0]\n",
      "    >>> print(m, c)\n",
      "    1.0 -0.95\n",
      "    \n",
      "    Plot the data along with the fitted line:\n",
      "    \n",
      "    >>> import matplotlib.pyplot as plt\n",
      "    >>> plt.plot(x, y, 'o', label='Original data', markersize=10)\n",
      "    >>> plt.plot(x, m*x + c, 'r', label='Fitted line')\n",
      "    >>> plt.legend()\n",
      "    >>> plt.show()\n",
      "\n"
     ]
    }
   ],
   "source": [
    "help(np.linalg.lstsq)"
   ]
  },
  {
   "cell_type": "markdown",
   "metadata": {},
   "source": [
    "Calibration object, used for storing and applying the calibration parameters.\n",
    "Computes the Zero G levels, Sensitivity, Scale factor Matrix and the\n",
    "bias vector of a MEMS accelerometer.\n",
    "\n",
    "The procedure exploits the fact that, in static conditions, the\n",
    "modulus of the accelerometer output vector matches that of the\n",
    "gravity acceleration. The calibration model incorporates the bias\n",
    "and scale factor for each axis and the cross-axis symmetrical\n",
    "factors. The parameters are computed through Gauss-Newton\n",
    "nonlinear optimization.\n",
    "\n",
    "The mathematical model used is  $a = M(r - b)$\n",
    "where $M$ and $b$ are scale factor matrix and\n",
    "bias vector respectively and $r$ is the raw accelerometer\n",
    "reading.\n",
    "    \n",
    "\\begin{eqnarray}\n",
    "M = \\begin{bmatrix}\n",
    "        M_{xx} & M_{xy} & M_{xz} \\\\\n",
    "        M_{yx} & M_{yy} & M_{yz} \\\\\n",
    "        M_{zx} & M_{zy} & M_{zz}\n",
    "    \\end{bmatrix} \\\\\n",
    "b = \\begin{bmatrix}\n",
    "        b_{x} \\\\\n",
    "        b_{y} \\\\\n",
    "        b_{z}\n",
    "    \\end{bmatrix} \\\\\n",
    "        M_{xy} = M_{yx} \\\\\n",
    "        M_{xz} = M_{zx} \\\\\n",
    "        M_{yz} = M_{zy} \\\\\n",
    "\\end{eqnarray}\n",
    "\n",
    "The diagonal elements of M represent the scale factors along the\n",
    "three axes, whereas the other elements of M are called cross-axis\n",
    "factors. These terms allow describing both the axes’ misalignment\n",
    "and the crosstalk effect between different channels caused\n",
    "by the sensor electronics. In an ideal world, $M = I$ and\n",
    "$B = \\mathbb{0}$."
   ]
  },
  {
   "cell_type": "code",
   "execution_count": 13,
   "metadata": {},
   "outputs": [],
   "source": [
    "from __future__ import division\n",
    "from __future__ import print_function\n",
    "from __future__ import unicode_literals\n",
    "from __future__ import absolute_import\n",
    "\n",
    "import copy\n",
    "\n",
    "import six\n",
    "import numpy as np\n",
    "\n",
    "# Version information.\n",
    "# __version__ = '0.2.0'\n",
    "# version = __version__  # backwards compatibility name\n",
    "# version_info = (0, 2, 0)\n",
    "\n",
    "\n",
    "class Calibraxis(object):\n",
    "    \"\"\"Calibration object, used for storing and applying the\n",
    "    calibration parameters.\n",
    "\n",
    "    Computes the Zero G levels, Sensitivity, Scale factor Matrix and the\n",
    "    bias vector of a MEMS accelerometer.\n",
    "\n",
    "    The procedure exploits the fact that, in static conditions, the\n",
    "    modulus of the accelerometer output vector matches that of the\n",
    "    gravity acceleration. The calibration model incorporates the bias\n",
    "    and scale factor for each axis and the cross-axis symmetrical\n",
    "    factors. The parameters are computed through Gauss-Newton\n",
    "    nonlinear optimization.\n",
    "\n",
    "    The mathematical model used is  :math:`a = M(r - b)`\n",
    "    where :math:`M` and :math:`b` are scale factor matrix and\n",
    "    bias vector respectively and :math:`r` is the raw accelerometer\n",
    "    reading.\n",
    "\n",
    "    .. math::\n",
    "\n",
    "        M = \\begin{matrix}\n",
    "                M_{xx} & M_{xy} & M_{xz} \\\\\n",
    "                M_{yx} & M_{yy} & M_{yz} \\\\\n",
    "                M_{zx} & M_{zy} & M_{zz}\n",
    "            \\end{matrix}\n",
    "\n",
    "        b = \\begin{matrix}\n",
    "                b_{x} \\\\\n",
    "                b_{y} \\\\\n",
    "                b_{z}\n",
    "            \\end{matrix}\n",
    "\n",
    "    where\n",
    "\n",
    "    .. math::\n",
    "\n",
    "        M_{xy} = M_{yx}\n",
    "\n",
    "        M_{xz} = M_{zx}\n",
    "\n",
    "        M_{yz} = M_{zy}.\n",
    "\n",
    "    The diagonal elements of M represent the scale factors along the\n",
    "    three axes, whereas the other elements of M are called cross-axis\n",
    "    factors. These terms allow describing both the axes’ misalignment\n",
    "    and the crosstalk effect between different channels caused\n",
    "    by the sensor electronics. In an ideal world, :math:`M = I` and\n",
    "    :math:`B = \\mathbb{0}`.\n",
    "\n",
    "    Reference:\n",
    "    Iuri Frosio, Federico Pedersini, N. Alberto Borghese\n",
    "    \"Autocalibration of MEMS Accelerometers\"\n",
    "    IEEE TRANSACTIONS ON INSTRUMENTATION AND MEASUREMENT, VOL. 58, NO. 6, JUNE 2009\n",
    "\n",
    "    This is a Python reimplementation of the Matlab routines found at\n",
    "    `Matlab File Central <http://se.mathworks.com/matlabcentral/fileexchange/\n",
    "    33252-mems-accelerometer-calibration-using-gauss-newton-method>`_.\n",
    "\n",
    "    :param bool verbose: Print optimization progress data.\n",
    "\n",
    "    \"\"\"\n",
    "\n",
    "    def __init__(self, verbose=False):\n",
    "\n",
    "        self._points = []\n",
    "        self._verbose = verbose\n",
    "\n",
    "        # Accelerometer calibration parameters.\n",
    "        self._calibration_points = []\n",
    "        self._calibration_errors = None\n",
    "\n",
    "        self.bias_vector = None\n",
    "        self.scale_factor_matrix = None\n",
    "\n",
    "    def add_points(self, points):\n",
    "        \"\"\"Add point(s) to the calibration procedure.\n",
    "\n",
    "        :param list, tuple, numpy.ndarray points: The point(s) to add to the\n",
    "            calibration point storage.\n",
    "\n",
    "        \"\"\"\n",
    "        if isinstance(points, (list, tuple)):\n",
    "            if len(points) > 0:\n",
    "                if isinstance(points[0], (list, tuple, np.ndarray)):\n",
    "                    # Multiple points sent as list of lists.\n",
    "                    for p in points:\n",
    "                        self._calibration_points.append(copy.deepcopy(p))\n",
    "                else:\n",
    "                    # Assume single point sent in as list/tuple/array.\n",
    "                    self._calibration_points.append(copy.deepcopy(points))\n",
    "            else:\n",
    "                # Empty list/tuple. Skip.\n",
    "                pass\n",
    "        elif isinstance(points, np.ndarray):\n",
    "            if points.ndim > 1:\n",
    "                for p in points:\n",
    "                    self._calibration_points.append(p.copy())\n",
    "            elif points.ndim == 1:\n",
    "                self._calibration_points.append(points.copy())\n",
    "\n",
    "    def calibrate_accelerometer(self):\n",
    "        \"\"\"Perform the calibration of accelerometer using the\n",
    "        stored points.\n",
    "        \"\"\"\n",
    "        points = np.array(self._calibration_points)\n",
    "        self._perform_accelerometer_calibration_optimisation(points)\n",
    "\n",
    "    def _perform_accelerometer_calibration_optimisation(self, points):\n",
    "        \"\"\"Perform the Gauss-Newton optimisation for parameters.\"\"\"\n",
    "        nbr_points = len(points)\n",
    "        if nbr_points < 9:\n",
    "            raise ValueError(\n",
    "                'Need at least 9 measurements for the calibration procedure!')\n",
    "\n",
    "        def error_function(M_mat, b_vec, y):\n",
    "            \"\"\"Optimisation error function for a point.\n",
    "\n",
    "            :param numpy.ndarray M_mat: The scale factor matrix\n",
    "                of this iteration.\n",
    "            :param numpy.ndarray b_vec: The zero-g offset vector\n",
    "                of this iteration.\n",
    "            :param numpy.ndarray y: The point ot estimate error for.\n",
    "            :return: The square sum of the error of this point.\n",
    "            :rtype: float\n",
    "\n",
    "            \"\"\"\n",
    "            return float(np.sum((M_mat.dot((y - b_vec)) ** 2)) - 1)\n",
    "\n",
    "        def calculate_jacobian(M_mat, b_vec, point):\n",
    "            \"\"\"Calculate the Jacobian for a point.\n",
    "\n",
    "            :param numpy.ndarray M_mat: The scale factor matrix\n",
    "                of this iteration.\n",
    "            :param numpy.ndarray b_vec: The zero-g offset vector\n",
    "                of this iteration.\n",
    "            :param numpy.ndarray y: The point ot estimate error for.\n",
    "            :return: The square sum of the error of this point.\n",
    "            :rtype: float\n",
    "\n",
    "            \"\"\"\n",
    "            jac = np.zeros((9,), 'float')\n",
    "\n",
    "            jac[0] = 2 * (b_vec[0] - point[0]) * (\n",
    "                M_mat[0, 0] * (b_vec[0] - point[0]) + M_mat[0, 1] * (\n",
    "                b_vec[1] - point[1]) + M_mat[0, 2] * (\n",
    "                    b_vec[2] - point[2]))\n",
    "            jac[1] = 2 * (b_vec[1] - point[1]) * (\n",
    "                M_mat[0, 0] * (b_vec[0] - point[0]) + M_mat[0, 1] * (\n",
    "                b_vec[1] - point[1]) + M_mat[0, 2] * (\n",
    "                    b_vec[2] - point[2])) + 2 * (b_vec[0] - point[0]) * (\n",
    "                M_mat[0, 1] * (b_vec[0] - point[0]) + M_mat[1, 1] * (\n",
    "                b_vec[1] - point[1]) + M_mat[1, 2] * (\n",
    "                    b_vec[2] - point[2]))\n",
    "            jac[2] = 2 * (b_vec[0] - point[0]) * (\n",
    "                M_mat[0, 2] * (b_vec[0] - point[0]) + M_mat[1, 2] * (\n",
    "                b_vec[1] - point[1]) + M_mat[2, 2] * (\n",
    "                    b_vec[2] - point[2])) + 2 * (b_vec[2] - point[2]) * (\n",
    "                M_mat[0, 0] * (b_vec[0] - point[0]) + M_mat[0, 1] * (\n",
    "                b_vec[1] - point[1]) + M_mat[0, 2] * (\n",
    "                    b_vec[2] - point[2]))\n",
    "            jac[3] = 2 * (b_vec[1] - point[1]) * (\n",
    "                M_mat[0, 1] * (b_vec[0] - point[0]) + M_mat[1, 1] * (\n",
    "                b_vec[1] - point[1]) + M_mat[1, 2] * (\n",
    "                    b_vec[2] - point[2]))\n",
    "            jac[4] = 2 * (b_vec[1] - point[1]) * (\n",
    "                M_mat[0, 2] * (b_vec[0] - point[0]) + M_mat[1, 2] * (\n",
    "                b_vec[1] - point[1]) + M_mat[2, 2] * (\n",
    "                    b_vec[2] - point[2])) + 2 * (b_vec[2] - point[2]) * (\n",
    "                M_mat[0, 1] * (b_vec[0] - point[0]) + M_mat[1, 1] * (\n",
    "                b_vec[1] - point[1]) + M_mat[1, 2] * (\n",
    "                    b_vec[2] - point[2]))\n",
    "            jac[5] = 2 * (b_vec[2] - point[2]) * (\n",
    "                M_mat[0, 2] * (b_vec[0] - point[0]) + M_mat[1, 2] * (\n",
    "                b_vec[1] - point[1]) + M_mat[2, 2] * (\n",
    "                    b_vec[2] - point[2]))\n",
    "            jac[6] = 2 * M_mat[0, 0] * (\n",
    "                M_mat[0, 0] * (b_vec[0] - point[0]) + M_mat[0, 1] * (\n",
    "                b_vec[1] - point[1]) + M_mat[0, 2] * (\n",
    "                    b_vec[2] - point[2])) + 2 * M_mat[0, 1] * (\n",
    "                M_mat[0, 1] * (b_vec[0] - point[0]) + M_mat[1, 1] * (\n",
    "                b_vec[1] - point[1]) + M_mat[1, 2] * (\n",
    "                    b_vec[2] - point[2])) + 2 * M_mat[0, 2] * (\n",
    "                M_mat[0, 2] * (b_vec[0] - point[0]) + M_mat[1, 2] * (\n",
    "                b_vec[1] - point[1]) + M_mat[2, 2] * (\n",
    "                    b_vec[2] - point[2]))\n",
    "            jac[7] = 2 * M_mat[0, 1] * (\n",
    "                M_mat[0, 0] * (b_vec[0] - point[0]) + M_mat[0, 1] * (\n",
    "                b_vec[1] - point[1]) + M_mat[0, 2] * (\n",
    "                    b_vec[2] - point[2])) + 2 * M_mat[1, 1] * (\n",
    "                M_mat[0, 1] * (b_vec[0] - point[0]) + M_mat[1, 1] * (\n",
    "                b_vec[1] - point[1]) + M_mat[1, 2] * (\n",
    "                    b_vec[2] - point[2])) + 2 * M_mat[1, 2] * (\n",
    "                M_mat[0, 2] * (b_vec[0] - point[0]) + M_mat[1, 2] * (\n",
    "                b_vec[1] - point[1]) + M_mat[2, 2] * (\n",
    "                    b_vec[2] - point[2]))\n",
    "            jac[8] = 2 * M_mat[0, 2] * (\n",
    "                M_mat[0, 0] * (b_vec[0] - point[0]) + M_mat[0, 1] * (\n",
    "                b_vec[1] - point[1]) + M_mat[0, 2] * (\n",
    "                    b_vec[2] - point[2])) + 2 * M_mat[1, 2] * (\n",
    "                M_mat[0, 1] * (b_vec[0] - point[0]) + M_mat[1, 1] * (\n",
    "                b_vec[1] - point[1]) + M_mat[1, 2] * (\n",
    "                    b_vec[2] - point[2])) + 2 * M_mat[2, 2] * (\n",
    "                M_mat[0, 2] * (b_vec[0] - point[0]) + M_mat[1, 2] * (\n",
    "                b_vec[1] - point[1]) + M_mat[2, 2] * (\n",
    "                    b_vec[2] - point[2]))\n",
    "\n",
    "            return jac\n",
    "\n",
    "        def optvec_to_M_and_b(v):\n",
    "            \"\"\"\n",
    "            Convenience method for moving between optimisation\n",
    "            vector and correct lin.alg. formulation.\n",
    "            \"\"\"\n",
    "            return (np.array([[v[0], v[1], v[2]],\n",
    "                              [v[1], v[3], v[4]],\n",
    "                              [v[2], v[4], v[5]]]),\n",
    "                    v[6:].copy())\n",
    "\n",
    "        gain = 1  # Damping Gain - Start with 1\n",
    "        damping = 0.01    # Damping parameter - has to be less than 1.\n",
    "        tolerance = 1e-12\n",
    "        R_prior = 100000\n",
    "        self._calibration_errors = []\n",
    "        nbr_iterations = 200\n",
    "\n",
    "        # Initial Guess values of M and b.\n",
    "        if self.bias_vector is not None:\n",
    "            # Recalibration using prior optimization results.\n",
    "            x = np.array([self.scale_factor_matrix[0, 0],\n",
    "                          self.scale_factor_matrix[0, 1],\n",
    "                          self.scale_factor_matrix[0, 2],\n",
    "                          self.scale_factor_matrix[1, 1],\n",
    "                          self.scale_factor_matrix[1, 2],\n",
    "                          self.scale_factor_matrix[2, 2],\n",
    "                          self.bias_vector[0],\n",
    "                          self.bias_vector[1],\n",
    "                          self.bias_vector[2]])\n",
    "        else:\n",
    "            # Fresh calibration.\n",
    "            sensitivity = 1 / np.sqrt((points ** 2).sum(axis=1)).mean()\n",
    "            x = np.array([sensitivity, 0.0, 0.0,\n",
    "                          sensitivity, 0.0, sensitivity,\n",
    "                          0.0, 0.0, 0.0])\n",
    "        last_x = x.copy()\n",
    "\n",
    "        # Residuals vector\n",
    "        R = np.zeros((nbr_points, ), 'float')\n",
    "\n",
    "        # Jacobian matrix\n",
    "        J = np.zeros((nbr_points, 9), 'float')\n",
    "\n",
    "        for n in six.moves.range(nbr_iterations):\n",
    "            # Calculate the Jacobian and error for each point.\n",
    "            M, b = optvec_to_M_and_b(x)\n",
    "            for i in six.moves.range(nbr_points):\n",
    "                R[i] = error_function(M, b, points[i, :])\n",
    "                J[i, :] = calculate_jacobian(M, b, points[i, :])\n",
    "\n",
    "            # Calculate Hessian, Gain matrix and apply it to solution vector.\n",
    "            H = np.linalg.inv(J.T.dot(J))\n",
    "            D = J.T.dot(R).T\n",
    "            x -= gain * (D.dot(H)).T\n",
    "            R_post = np.linalg.norm(R)\n",
    "            if self._verbose:\n",
    "                print(\"{0}: {1} ({2})\".format(\n",
    "                    n, R_post, \", \".join([\"{0:0.9g}\".format(v) for v in x])))\n",
    "\n",
    "            # This is to make sure that the error is\n",
    "            # decreasing with every iteration.\n",
    "            if R_post <= R_prior:\n",
    "                gain -= damping * gain\n",
    "            else:\n",
    "                gain *= damping\n",
    "\n",
    "            # Iterations are stopped when the following\n",
    "            # convergence criteria is satisfied.\n",
    "            if abs(max(2 * (x - last_x) / (x + last_x))) <= tolerance:\n",
    "                self.scale_factor_matrix, self.bias_vector = optvec_to_M_and_b(x)\n",
    "                break\n",
    "\n",
    "            last_x = x.copy()\n",
    "            R_prior = R_post\n",
    "            self._calibration_errors.append(R_post)\n",
    "\n",
    "    def apply(self, acc_values):\n",
    "        \"\"\"Apply the calibration scale matrix and bias to accelerometer values.\n",
    "\n",
    "        :param list, tuple, numpy.ndarray acc_values: The accelerometer data.\n",
    "        :return: The transformed accelerometer values.\n",
    "        :rtype: tuple\n",
    "\n",
    "        \"\"\"\n",
    "        converted_g_values = self.scale_factor_matrix.dot(\n",
    "            np.array(acc_values) - self.bias_vector)\n",
    "        return tuple(converted_g_values.tolist())\n",
    "\n",
    "    def batch_apply(self, acc_values):\n",
    "        \"\"\"Apply the calibration scale matrix and bias to an array of\n",
    "        accelerometer data\n",
    "\n",
    "        Assumes that the input is either a list or tuple containing three\n",
    "        element lists, tuples or arrays or a [N x 3] NumPy array.\n",
    "\n",
    "        :param list, tuple, numpy.ndarray acc_values: The accelerometer data.\n",
    "        :return: The transformed accelerometer values.\n",
    "        :rtype: list\n",
    "\n",
    "        \"\"\"\n",
    "        return [self.apply(a) for a in acc_values]"
   ]
  },
  {
   "cell_type": "code",
   "execution_count": 15,
   "metadata": {},
   "outputs": [
    {
     "data": {
      "image/png": "[encoded data removed]",
      "text/plain": [
       "<matplotlib.figure.Figure at 0x10ae2fc90>"
      ]
     },
     "metadata": {},
     "output_type": "display_data"
    }
   ],
   "source": [
    "pts = []\n",
    "for i in range(100):\n",
    "    scale = 0.01\n",
    "    m = np.array([scale*np.random.normal(), scale*np.random.normal(), -1+scale*np.random.normal()])\n",
    "    pts.append(m)\n",
    "plt.plot(pts)\n",
    "plt.grid(True);"
   ]
  },
  {
   "cell_type": "code",
   "execution_count": null,
   "metadata": {},
   "outputs": [],
   "source": [
    "np.random.normal()"
   ]
  },
  {
   "cell_type": "code",
   "execution_count": null,
   "metadata": {},
   "outputs": [],
   "source": [
    "c = Calibraxis(True)\n",
    "c.add_points(pts)\n",
    "c.calibrate_accelerometer()\n",
    "print('bias:', c.bias_vector)\n",
    "print('scale:', c.scale_factor_matrix)"
   ]
  },
  {
   "cell_type": "code",
   "execution_count": null,
   "metadata": {},
   "outputs": [],
   "source": [
    "c.apply((0,.05,-1.020))"
   ]
  },
  {
   "cell_type": "code",
   "execution_count": null,
   "metadata": {},
   "outputs": [],
   "source": [
    "from __future__ import division\n",
    "from scipy import optimize\n",
    "# import random\n",
    "# optimize.newton(kepler_eq, M, kepler_eq_der, args=(), tol=1e-10, maxiter=50)"
   ]
  },
  {
   "cell_type": "code",
   "execution_count": null,
   "metadata": {},
   "outputs": [],
   "source": [
    "datasize = 30\n",
    "s = .9\n",
    "b = -.1\n",
    "# ax = np.random.rand(datasize)\n",
    "ax = [1.0+0.001*n for n in np.random.rand(datasize)]\n",
    "am = [(s*x+b) for x in ax]"
   ]
  },
  {
   "cell_type": "code",
   "execution_count": null,
   "metadata": {},
   "outputs": [],
   "source": [
    "plt.subplot(1,2,1)\n",
    "plt.plot(range(datasize), ax);\n",
    "plt.title('good data')\n",
    "plt.xlabel('sample')\n",
    "plt.ylabel('offsets')\n",
    "\n",
    "plt.subplot(1,2,2)\n",
    "plt.plot(range(datasize), am);\n",
    "plt.title('noisey data')\n",
    "plt.xlabel('sample')\n",
    "plt.ylabel('offsets')"
   ]
  },
  {
   "cell_type": "code",
   "execution_count": null,
   "metadata": {},
   "outputs": [],
   "source": [
    "# from math import sqrt\n",
    "\n",
    "# def eqns(M, *args):\n",
    "#     s = M[0]\n",
    "#     b = M[1]\n",
    "#     xx = args\n",
    "# #     print('xx eqns', xx)\n",
    "#     sum = 0\n",
    "#     for x in xx:\n",
    "# #         print('x', x)\n",
    "#         sum += ((x - b)/2.0)**2 - 1.0\n",
    "# #         print('sum', sum)\n",
    "#     return sum\n",
    "\n",
    "# def eqns_der(M, *args):\n",
    "#     print('M', M)\n",
    "#     s = M[0]\n",
    "#     b = M[1]\n",
    "#     xx = args\n",
    "# #     print('xx', xx)\n",
    "#     sum = 0\n",
    "#     for x in xx:\n",
    "# #         sum += np.array([-2*(x-b)**2*s**-3, -(x+2*b)/s**2])\n",
    "#         sum += sqrt((-2*(x-b)**2*s**-3)**2 + (-(x+2*b)/s**2)**2)\n",
    "# #     print('sum', sum)\n",
    "#     return sum\n",
    "\n",
    "# # optimize.newton(kepler_eq, M, kepler_eq_der, args=(), tol=1e-10, maxiter=50)\n",
    "# optimize.newton(eqns, np.array([.7, .2]), eqns_der, args=tuple(am), tol=1e-10, maxiter=5)"
   ]
  },
  {
   "cell_type": "code",
   "execution_count": null,
   "metadata": {},
   "outputs": [],
   "source": [
    "datasize = 30\n",
    "s = .5\n",
    "b = -.1\n",
    "ax = [1.0+0.001*n for n in np.random.rand(datasize)]\n",
    "am = [(s*x+b) for x in ax]"
   ]
  },
  {
   "cell_type": "code",
   "execution_count": 2,
   "metadata": {
    "collapsed": true
   },
   "outputs": [],
   "source": [
    "from __future__ import division\n",
    "from scipy import optimize\n",
    "import scipy.optimize as optimization"
   ]
  },
  {
   "cell_type": "code",
   "execution_count": null,
   "metadata": {},
   "outputs": [],
   "source": [
    "def eqns(M, *args):\n",
    "    s, b = M\n",
    "#     print('args', args[0],type(args[0]))\n",
    "    xx = args[0]\n",
    "    err = np.sqrt(((xx - b)/s)**2) - 1.0\n",
    "#     ret = sum(err)\n",
    "    ret = err\n",
    "#     print('ret', ret)\n",
    "    return ret\n",
    "\n",
    "def eqns_der(M, *args):\n",
    "    s, b = M\n",
    "    xx = args[0]\n",
    "#     print('xx', type(xx))\n",
    "    sdot = (2*(xx-b)**2)/(s**3)\n",
    "    bdot = (xx+2.0*b)/(s**2)\n",
    "    ret = np.vstack((sdot, bdot))\n",
    "#     ret = np.array([sdot, bdot])\n",
    "#     print(ret)\n",
    "    return np.transpose(ret)\n",
    "\n",
    "# optimization.leastsq(eqns, np.array([.7, .2]), args=(np.transpose(np.array(am))))\n",
    "# optimization.leastsq(eqns, np.array([1.0, 1.0]), args=(np.transpose(np.array(am))), Dfun=eqns_der)\n",
    "# optimization.leastsq(eqns, np.array([1.0, .04]), args=(np.array(am)))\n",
    "optimization.leastsq(eqns, np.array([1.0, .01]), args=(np.array(am)), Dfun=eqns_der, full_output=False)"
   ]
  },
  {
   "cell_type": "code",
   "execution_count": null,
   "metadata": {},
   "outputs": [],
   "source": []
  },
  {
   "cell_type": "code",
   "execution_count": null,
   "metadata": {},
   "outputs": [],
   "source": [
    "sum(np.array([[1,2,3],[1,2,3]]))"
   ]
  },
  {
   "cell_type": "code",
   "execution_count": null,
   "metadata": {},
   "outputs": [],
   "source": [
    "a=np.array([1,2,3])\n",
    "-a"
   ]
  },
  {
   "cell_type": "code",
   "execution_count": null,
   "metadata": {
    "collapsed": true
   },
   "outputs": [],
   "source": [
    "aa,bb,cc = a"
   ]
  },
  {
   "cell_type": "code",
   "execution_count": null,
   "metadata": {},
   "outputs": [],
   "source": [
    "sum(a)"
   ]
  },
  {
   "cell_type": "code",
   "execution_count": null,
   "metadata": {},
   "outputs": [],
   "source": [
    "a.shape"
   ]
  },
  {
   "cell_type": "code",
   "execution_count": null,
   "metadata": {},
   "outputs": [],
   "source": [
    "def eqns(M, *args):\n",
    "    s, b = M\n",
    "#     print('args', args[0],type(args[0]))\n",
    "    xx = np.array(args)\n",
    "    err = ((xx - b)/s)**2 - 1.0\n",
    "    ret = float(sum(err))\n",
    "#     ret = err\n",
    "    print('ret eqns', ret, type(ret))\n",
    "    return ret\n",
    "\n",
    "def eqns_der(M, *args):\n",
    "    s, b = M\n",
    "    xx = np.array(args)\n",
    "#     print('xx', type(xx))\n",
    "    sdot = sum((2*(xx-b)**2)/(s**3))\n",
    "    bdot = sum((xx+2.0*b)/(s**2))\n",
    "#     ret = np.vstack((sdot, bdot))\n",
    "#     ret = np.array([sdot, bdot])\n",
    "#     print(ret)\n",
    "#     ret = np.transpose(ret)\n",
    "    ret = float(np.sqrt(sdot**2 + bdot**2))\n",
    "    print('ret eqns_der', ret, type(ret))\n",
    "    return ret\n",
    "\n",
    "# optimize.newton(eqns, np.array([.7, .2]), eqns_der, args=tuple(np.array(am)), tol=1e-10, maxiter=5)\n",
    "optimize.newton(eqns, np.array([.7, .2]), eqns_der, args=tuple(am), tol=1e-10, maxiter=5)"
   ]
  },
  {
   "cell_type": "code",
   "execution_count": null,
   "metadata": {},
   "outputs": [],
   "source": [
    "type(np.array(am))"
   ]
  },
  {
   "cell_type": "code",
   "execution_count": null,
   "metadata": {},
   "outputs": [],
   "source": [
    "np.array((1,2,3))"
   ]
  },
  {
   "cell_type": "code",
   "execution_count": null,
   "metadata": {},
   "outputs": [],
   "source": [
    "optimize.newton(lambda x: x**2 - 1, x0=.2, fprime=lambda x: 2*x)"
   ]
  },
  {
   "cell_type": "code",
   "execution_count": null,
   "metadata": {},
   "outputs": [],
   "source": [
    "optimize.newton(lambda x: x - 1, x0=.2, fprime=lambda x: 2*x)"
   ]
  },
  {
   "cell_type": "code",
   "execution_count": null,
   "metadata": {},
   "outputs": [],
   "source": [
    "xx=[3*x+1 for x in range(10)]\n",
    "\n",
    "def func(params, x, y):\n",
    "    m, b = params\n",
    "    err = ((m*x+b) - y)**2\n",
    "    ret = sum(err)\n",
    "    return 0.1\n",
    "\n",
    "optimize.newton(func, x0=np.array([2,0]), args=np.transpose(np.array([xx, np.array(range(10))])))"
   ]
  },
  {
   "cell_type": "code",
   "execution_count": null,
   "metadata": {},
   "outputs": [],
   "source": [
    "np.array(3*[1])"
   ]
  },
  {
   "cell_type": "code",
   "execution_count": 3,
   "metadata": {
    "collapsed": true
   },
   "outputs": [],
   "source": [
    "from numpy import arange, random\n",
    "from numpy import pi, sin\n",
    "from scipy.optimize import leastsq"
   ]
  },
  {
   "cell_type": "code",
   "execution_count": null,
   "metadata": {},
   "outputs": [],
   "source": [
    "x = arange(0,6e-2,6e-2/30)\n",
    "A,k,theta = 10, 1.0/3e-2, pi/6\n",
    "print('k', k)\n",
    "print('theta', theta)\n",
    "y_true = A*sin(2*pi*k*x+theta)\n",
    "y_meas = y_true + 2*np.random.randn(len(x))\n",
    "\n",
    "print('true', type(y_true), 'meas', type(y_meas))"
   ]
  },
  {
   "cell_type": "code",
   "execution_count": null,
   "metadata": {},
   "outputs": [],
   "source": [
    "def residuals(p, y, x):\n",
    "    A,k,theta = p\n",
    "    err = y-A*sin(2*pi*k*x+theta)\n",
    "    return err"
   ]
  },
  {
   "cell_type": "code",
   "execution_count": null,
   "metadata": {},
   "outputs": [],
   "source": [
    "p0 = [8, 1/2.3e-2, pi/3]\n",
    "leastsq(residuals, p0, args=(y_meas, x))"
   ]
  },
  {
   "cell_type": "code",
   "execution_count": 27,
   "metadata": {},
   "outputs": [
    {
     "data": {
      "text/plain": [
       "(array([ 0.87608138,  0.0739186 ]), 2)"
      ]
     },
     "execution_count": 27,
     "metadata": {},
     "output_type": "execute_result"
    }
   ],
   "source": [
    "\"\"\"\n",
    "ier : int\n",
    "        An integer flag.  If it is equal to 1, 2, 3 or 4, the solution was\n",
    "        found.  Otherwise, the solution was not found. In either case, the\n",
    "        optional output variable 'mesg' gives more information.\n",
    "\"\"\"\n",
    "\n",
    "x_true = np.array(30*[1])\n",
    "S = 0.95\n",
    "B = 0.0\n",
    "# x_meas = S*x_true + B - 0.0001*np.random.randn(len(x_true))\n",
    "x_meas = S*x_true + B\n",
    "\n",
    "def residuals2(p, x):\n",
    "    s, b = p\n",
    "    err = np.sqrt(((x-b)/s)**2) - 1\n",
    "    return err\n",
    "\n",
    "def eqns_der(p, xx):\n",
    "    s, b = p\n",
    "    sdot = (-2.0*(xx-b)**2)/(s**3)\n",
    "    bdot = (-xx+2.0*b)/(s**2)\n",
    "#     sdot = -(xx-b)/(s**2)\n",
    "#     bdot = -(xx-xx)/s\n",
    "    ret = np.transpose((sdot, bdot))\n",
    "    return ret\n",
    "\n",
    "p0 = [1, 0.1]\n",
    "leastsq(residuals2, p0, args=(x_meas), Dfun=eqns_der)\n",
    "# leastsq(residuals2, p0, args=(x_meas))"
   ]
  },
  {
   "cell_type": "code",
   "execution_count": null,
   "metadata": {},
   "outputs": [],
   "source": [
    "1/1.4"
   ]
  },
  {
   "cell_type": "code",
   "execution_count": 38,
   "metadata": {},
   "outputs": [
    {
     "ename": "TypeError",
     "evalue": "Improper input: N=6 must not exceed M=3",
     "output_type": "error",
     "traceback": [
      "\u001b[0;31m---------------------------------------------------------------------------\u001b[0m",
      "\u001b[0;31mTypeError\u001b[0m                                 Traceback (most recent call last)",
      "\u001b[0;32m<ipython-input-38-fc7ce8ac3539>\u001b[0m in \u001b[0;36m<module>\u001b[0;34m()\u001b[0m\n\u001b[1;32m     32\u001b[0m \u001b[0;34m\u001b[0m\u001b[0m\n\u001b[1;32m     33\u001b[0m \u001b[0mp0\u001b[0m \u001b[0;34m=\u001b[0m \u001b[0;34m[\u001b[0m\u001b[0;36m1\u001b[0m\u001b[0;34m,\u001b[0m \u001b[0;36m0.1\u001b[0m\u001b[0;34m,\u001b[0m\u001b[0;36m1\u001b[0m\u001b[0;34m,\u001b[0m \u001b[0;36m0.1\u001b[0m\u001b[0;34m,\u001b[0m\u001b[0;36m1\u001b[0m\u001b[0;34m,\u001b[0m \u001b[0;36m0.1\u001b[0m\u001b[0;34m]\u001b[0m\u001b[0;34m\u001b[0m\u001b[0m\n\u001b[0;32m---> 34\u001b[0;31m \u001b[0mcal\u001b[0m\u001b[0;34m(\u001b[0m\u001b[0mmeas\u001b[0m\u001b[0;34m,\u001b[0m \u001b[0mp0\u001b[0m\u001b[0;34m)\u001b[0m\u001b[0;34m\u001b[0m\u001b[0m\n\u001b[0m",
      "\u001b[0;32m<ipython-input-38-fc7ce8ac3539>\u001b[0m in \u001b[0;36mcal\u001b[0;34m(data, p0)\u001b[0m\n\u001b[1;32m     22\u001b[0m \u001b[0;34m\u001b[0m\u001b[0m\n\u001b[1;32m     23\u001b[0m \u001b[0;31m#     return leastsq(res, p0, args=data, Dfun=eqns_der)\u001b[0m\u001b[0;34m\u001b[0m\u001b[0;34m\u001b[0m\u001b[0m\n\u001b[0;32m---> 24\u001b[0;31m     \u001b[0;32mreturn\u001b[0m \u001b[0mleastsq\u001b[0m\u001b[0;34m(\u001b[0m\u001b[0mres\u001b[0m\u001b[0;34m,\u001b[0m \u001b[0mp0\u001b[0m\u001b[0;34m,\u001b[0m \u001b[0margs\u001b[0m\u001b[0;34m=\u001b[0m\u001b[0mdata\u001b[0m\u001b[0;34m)\u001b[0m\u001b[0;34m\u001b[0m\u001b[0m\n\u001b[0m\u001b[1;32m     25\u001b[0m \u001b[0;34m\u001b[0m\u001b[0m\n\u001b[1;32m     26\u001b[0m \u001b[0mx_true\u001b[0m \u001b[0;34m=\u001b[0m \u001b[0mnp\u001b[0m\u001b[0;34m.\u001b[0m\u001b[0marray\u001b[0m\u001b[0;34m(\u001b[0m\u001b[0;36m300\u001b[0m\u001b[0;34m*\u001b[0m\u001b[0;34m[\u001b[0m\u001b[0;36m1\u001b[0m\u001b[0;34m]\u001b[0m\u001b[0;34m)\u001b[0m\u001b[0;34m\u001b[0m\u001b[0m\n",
      "\u001b[0;32m/usr/local/lib/python2.7/site-packages/scipy/optimize/minpack.pyc\u001b[0m in \u001b[0;36mleastsq\u001b[0;34m(func, x0, args, Dfun, full_output, col_deriv, ftol, xtol, gtol, maxfev, epsfcn, factor, diag)\u001b[0m\n\u001b[1;32m    378\u001b[0m     \u001b[0mm\u001b[0m \u001b[0;34m=\u001b[0m \u001b[0mshape\u001b[0m\u001b[0;34m[\u001b[0m\u001b[0;36m0\u001b[0m\u001b[0;34m]\u001b[0m\u001b[0;34m\u001b[0m\u001b[0m\n\u001b[1;32m    379\u001b[0m     \u001b[0;32mif\u001b[0m \u001b[0mn\u001b[0m \u001b[0;34m>\u001b[0m \u001b[0mm\u001b[0m\u001b[0;34m:\u001b[0m\u001b[0;34m\u001b[0m\u001b[0m\n\u001b[0;32m--> 380\u001b[0;31m         \u001b[0;32mraise\u001b[0m \u001b[0mTypeError\u001b[0m\u001b[0;34m(\u001b[0m\u001b[0;34m'Improper input: N=%s must not exceed M=%s'\u001b[0m \u001b[0;34m%\u001b[0m \u001b[0;34m(\u001b[0m\u001b[0mn\u001b[0m\u001b[0;34m,\u001b[0m \u001b[0mm\u001b[0m\u001b[0;34m)\u001b[0m\u001b[0;34m)\u001b[0m\u001b[0;34m\u001b[0m\u001b[0m\n\u001b[0m\u001b[1;32m    381\u001b[0m     \u001b[0;32mif\u001b[0m \u001b[0mepsfcn\u001b[0m \u001b[0;32mis\u001b[0m \u001b[0mNone\u001b[0m\u001b[0;34m:\u001b[0m\u001b[0;34m\u001b[0m\u001b[0m\n\u001b[1;32m    382\u001b[0m         \u001b[0mepsfcn\u001b[0m \u001b[0;34m=\u001b[0m \u001b[0mfinfo\u001b[0m\u001b[0;34m(\u001b[0m\u001b[0mdtype\u001b[0m\u001b[0;34m)\u001b[0m\u001b[0;34m.\u001b[0m\u001b[0meps\u001b[0m\u001b[0;34m\u001b[0m\u001b[0m\n",
      "\u001b[0;31mTypeError\u001b[0m: Improper input: N=6 must not exceed M=3"
     ]
    }
   ],
   "source": [
    "def cal(data, p0):\n",
    "    def residules(p, x):\n",
    "        s, b = p\n",
    "        err = np.sqrt(((x-b)/s)**2) - 1\n",
    "        return err\n",
    "    \n",
    "    def res(p, x):\n",
    "        return np.vstack((\n",
    "            residules(p[0:2],x[0]),\n",
    "            residules(p[2:4],x[1]),\n",
    "            residules(p[4:6],x[2])\n",
    "        ))\n",
    "\n",
    "    def eqns_der(p, xx):\n",
    "        s, b = p\n",
    "        sdot = (-2.0*(xx-b)**2)/(s**3)\n",
    "        bdot = (-xx+2.0*b)/(s**2)\n",
    "    #     sdot = -(xx-b)/(s**2)\n",
    "    #     bdot = -(xx-xx)/s\n",
    "        ret = np.transpose((sdot, bdot))\n",
    "        return ret\n",
    "    \n",
    "#     return leastsq(res, p0, args=data, Dfun=eqns_der)\n",
    "    return leastsq(res, p0, args=data)\n",
    "    \n",
    "x_true = np.array(300*[1])\n",
    "S = 0.95\n",
    "B = 0.0\n",
    "# x_meas = S*x_true + B - 0.0001*np.random.randn(len(x_true))\n",
    "x_meas = S*x_true + B\n",
    "meas = np.transpose((x_meas, x_meas, x_meas))\n",
    "\n",
    "p0 = [1, 0.1,1, 0.1,1, 0.1]\n",
    "cal(meas, p0)"
   ]
  },
  {
   "cell_type": "code",
   "execution_count": 8,
   "metadata": {},
   "outputs": [
    {
     "name": "stdout",
     "output_type": "stream",
     "text": [
      "Estimated coefficients (true, linear regression, RANSAC):\n",
      "82.1903908408 [ 54.17236387] [ 82.08533159]\n"
     ]
    },
    {
     "data": {
      "text/plain": [
       "Text(0,0.5,u'Response')"
      ]
     },
     "execution_count": 8,
     "metadata": {},
     "output_type": "execute_result"
    },
    {
     "data": {
      "image/png": "[encoded data removed]",
      "text/plain": [
       "<matplotlib.figure.Figure at 0x10d32d890>"
      ]
     },
     "metadata": {},
     "output_type": "display_data"
    }
   ],
   "source": [
    "from sklearn import linear_model, datasets\n",
    "\n",
    "\n",
    "n_samples = 1000\n",
    "n_outliers = 50\n",
    "\n",
    "\n",
    "X, y, coef = datasets.make_regression(n_samples=n_samples, n_features=1,\n",
    "                                      n_informative=1, noise=10,\n",
    "                                      coef=True, random_state=0)\n",
    "\n",
    "# Add outlier data\n",
    "np.random.seed(0)\n",
    "X[:n_outliers] = 3 + 0.5 * np.random.normal(size=(n_outliers, 1))\n",
    "y[:n_outliers] = -3 + 10 * np.random.normal(size=n_outliers)\n",
    "\n",
    "# Fit line using all data\n",
    "lr = linear_model.LinearRegression()\n",
    "lr.fit(X, y)\n",
    "\n",
    "# Robustly fit linear model with RANSAC algorithm\n",
    "ransac = linear_model.RANSACRegressor()\n",
    "ransac.fit(X, y)\n",
    "inlier_mask = ransac.inlier_mask_\n",
    "outlier_mask = np.logical_not(inlier_mask)\n",
    "\n",
    "# Predict data of estimated models\n",
    "line_X = np.arange(X.min(), X.max())[:, np.newaxis]\n",
    "line_y = lr.predict(line_X)\n",
    "line_y_ransac = ransac.predict(line_X)\n",
    "\n",
    "# Compare estimated coefficients\n",
    "print(\"Estimated coefficients (true, linear regression, RANSAC):\")\n",
    "print(coef, lr.coef_, ransac.estimator_.coef_)\n",
    "\n",
    "lw = 2\n",
    "plt.scatter(X[inlier_mask], y[inlier_mask], color='yellowgreen', marker='.',\n",
    "            label='Inliers')\n",
    "plt.scatter(X[outlier_mask], y[outlier_mask], color='gold', marker='.',\n",
    "            label='Outliers')\n",
    "plt.plot(line_X, line_y, color='navy', linewidth=lw, label='Linear regressor')\n",
    "plt.plot(line_X, line_y_ransac, color='cornflowerblue', linewidth=lw,\n",
    "         label='RANSAC regressor')\n",
    "plt.legend(loc='lower right')\n",
    "plt.xlabel(\"Input\")\n",
    "plt.ylabel(\"Response\")"
   ]
  },
  {
   "cell_type": "code",
   "execution_count": 18,
   "metadata": {},
   "outputs": [
    {
     "data": {
      "text/plain": [
       "100"
      ]
     },
     "execution_count": 18,
     "metadata": {},
     "output_type": "execute_result"
    }
   ],
   "source": [
    "len(pts)"
   ]
  },
  {
   "cell_type": "code",
   "execution_count": 23,
   "metadata": {},
   "outputs": [
    {
     "name": "stdout",
     "output_type": "stream",
     "text": [
      "[ 0.00766663  0.00356293 -1.01768538]\n"
     ]
    },
    {
     "data": {
      "text/plain": [
       "array([  3.56292817e-03,   8.14519822e-03,  -8.07648488e-03,\n",
       "        -3.09114445e-03,   6.84501107e-03,   1.51999486e-02,\n",
       "         5.82224591e-03,  -1.30106954e-03,  -2.73967717e-02,\n",
       "        -4.66845546e-03,   2.76871906e-03,   8.21585712e-03,\n",
       "         7.82601752e-04,  -8.59307670e-04,  -1.15107468e-03,\n",
       "        -7.82629156e-03,   8.20247837e-03,   3.38904125e-03,\n",
       "        -2.20144129e-02,  -5.17519043e-03,   1.81338429e-03,\n",
       "        -9.60504382e-03,   2.51484415e-03,  -2.75670535e-03,\n",
       "         9.94394391e-03,   1.12859406e-02,   1.02943883e-02,\n",
       "         8.62596011e-03,   5.53132064e-03,  -1.02993528e-02,\n",
       "         1.29802197e-02,  -6.58552967e-03,  -7.78547559e-04,\n",
       "         1.09634685e-02,  -5.81268477e-03,  -1.17915793e-02,\n",
       "         1.37496407e-02,  -6.60056320e-03,   1.04797216e-02,\n",
       "        -2.22605681e-03,  -8.88971358e-03,   9.36742464e-03,\n",
       "         8.64052300e-03,   1.22487056e-02,  -5.85431204e-03,\n",
       "        -2.02896841e-03,  -1.20857365e-02,  -3.84645423e-03,\n",
       "        -2.55918467e-02,   1.63928572e-03,  -2.67594746e-03,\n",
       "        -2.36417382e-02,  -7.61573388e-03,   1.95069697e-03,\n",
       "         1.96557401e-03,   8.62789892e-05,  -1.82974041e-02,\n",
       "         5.89879821e-03,  -1.11831192e-02,  -1.95180410e-02,\n",
       "         7.84957521e-03,  -2.16949570e-03,  -3.04614305e-02,\n",
       "        -2.19541028e-03,   3.79235534e-03,  -9.30156503e-03,\n",
       "         4.17318821e-03,  -1.40596292e-02,  -1.66069981e-02,\n",
       "        -1.74235620e-02,   8.95555986e-03,   2.23843563e-03,\n",
       "        -1.50699840e-02,  -2.24258934e-03,  -1.22619619e-02,\n",
       "        -5.61330204e-04,  -1.17474546e-03,  -4.53804041e-03,\n",
       "         2.52496627e-03,  -9.03820073e-04,  -9.96212640e-03,\n",
       "         1.02893549e-02,   1.55224318e-02,   3.17160626e-03,\n",
       "         4.49712100e-03,  -3.70704003e-03,  -1.26306835e-02,\n",
       "        -4.48165363e-03,   1.07919473e-02,  -5.45711974e-03,\n",
       "        -9.12783494e-03,  -9.38981573e-03,   3.96086585e-03,\n",
       "         7.55395696e-03,  -2.83455451e-02,  -3.57680719e-04,\n",
       "         9.49246474e-03,  -5.32702792e-03,  -7.94636321e-03,\n",
       "        -1.44494020e-02])"
      ]
     },
     "execution_count": 23,
     "metadata": {},
     "output_type": "execute_result"
    }
   ],
   "source": [
    "p = np.array(pts)\n",
    "print(p[0])\n",
    "p[:,1]"
   ]
  },
  {
   "cell_type": "code",
   "execution_count": 24,
   "metadata": {},
   "outputs": [
    {
     "ename": "ValueError",
     "evalue": "Expected 2D array, got 1D array instead:\narray=[ 0.00766663  0.00355482 -0.00185054  0.00800298  0.01732721  0.00142062\n  0.00929505  0.00123722  0.00943046  0.00269904  0.00868963  0.00314817\n  0.00800565 -0.01159421  0.00875833 -0.00964612 -0.01054628  0.00279096\n -0.00468864 -0.00050604 -0.0043919   0.02412454 -0.0228862  -0.00539455\n  0.01738873 -0.00882419  0.00771406 -0.00424318  0.01513328  0.00220508\n  0.01100284 -0.00073925 -0.01018042 -0.00034242 -0.00347451 -0.01567768\n  0.0089526  -0.01968625  0.0049869   0.01742669 -0.01681218 -0.0088872\n -0.02369587  0.00401499 -0.01279689 -0.00182245  0.0021348   0.01518261\n  0.01078197 -0.00631904  0.00942468  0.01297846 -0.01347925 -0.00044595\n -0.00729045  0.00616887  0.00453782  0.00767902 -0.00805627  0.0113308\n -0.01139802 -0.00470638 -0.00392389  0.00439043  0.0035178  -0.00216731\n -0.01550429  0.00238103 -0.00110489 -0.00379148  0.0060512   0.00404762\n  0.01285984 -0.00382009 -0.00375147  0.01670943 -0.00687299 -0.00370242\n -0.00918005  0.01359949  0.0103441  -0.00304964 -0.00600658 -0.02320594\n  0.00225609 -0.01318396 -0.00932741  0.00097896 -0.00023423  0.00376877\n -0.01945703  0.00393063  0.01422983  0.01124419 -0.00656464 -0.01610878\n  0.00330577 -0.01777667 -0.00346249  0.01081935].\nReshape your data either using array.reshape(-1, 1) if your data has a single feature or array.reshape(1, -1) if it contains a single sample.",
     "output_type": "error",
     "traceback": [
      "\u001b[0;31m---------------------------------------------------------------------------\u001b[0m",
      "\u001b[0;31mValueError\u001b[0m                                Traceback (most recent call last)",
      "\u001b[0;32m<ipython-input-24-c93e62392edb>\u001b[0m in \u001b[0;36m<module>\u001b[0;34m()\u001b[0m\n\u001b[1;32m      3\u001b[0m \u001b[0;31m# Fit line using all data\u001b[0m\u001b[0;34m\u001b[0m\u001b[0;34m\u001b[0m\u001b[0m\n\u001b[1;32m      4\u001b[0m \u001b[0mlr\u001b[0m \u001b[0;34m=\u001b[0m \u001b[0mlinear_model\u001b[0m\u001b[0;34m.\u001b[0m\u001b[0mLinearRegression\u001b[0m\u001b[0;34m(\u001b[0m\u001b[0;34m)\u001b[0m\u001b[0;34m\u001b[0m\u001b[0m\n\u001b[0;32m----> 5\u001b[0;31m \u001b[0mlr\u001b[0m\u001b[0;34m.\u001b[0m\u001b[0mfit\u001b[0m\u001b[0;34m(\u001b[0m\u001b[0mX\u001b[0m\u001b[0;34m,\u001b[0m \u001b[0my\u001b[0m\u001b[0;34m)\u001b[0m\u001b[0;34m\u001b[0m\u001b[0m\n\u001b[0m\u001b[1;32m      6\u001b[0m \u001b[0;34m\u001b[0m\u001b[0m\n\u001b[1;32m      7\u001b[0m \u001b[0;31m# Robustly fit linear model with RANSAC algorithm\u001b[0m\u001b[0;34m\u001b[0m\u001b[0;34m\u001b[0m\u001b[0m\n",
      "\u001b[0;32m/usr/local/lib/python2.7/site-packages/sklearn/linear_model/base.pyc\u001b[0m in \u001b[0;36mfit\u001b[0;34m(self, X, y, sample_weight)\u001b[0m\n\u001b[1;32m    480\u001b[0m         \u001b[0mn_jobs_\u001b[0m \u001b[0;34m=\u001b[0m \u001b[0mself\u001b[0m\u001b[0;34m.\u001b[0m\u001b[0mn_jobs\u001b[0m\u001b[0;34m\u001b[0m\u001b[0m\n\u001b[1;32m    481\u001b[0m         X, y = check_X_y(X, y, accept_sparse=['csr', 'csc', 'coo'],\n\u001b[0;32m--> 482\u001b[0;31m                          y_numeric=True, multi_output=True)\n\u001b[0m\u001b[1;32m    483\u001b[0m \u001b[0;34m\u001b[0m\u001b[0m\n\u001b[1;32m    484\u001b[0m         \u001b[0;32mif\u001b[0m \u001b[0msample_weight\u001b[0m \u001b[0;32mis\u001b[0m \u001b[0;32mnot\u001b[0m \u001b[0mNone\u001b[0m \u001b[0;32mand\u001b[0m \u001b[0mnp\u001b[0m\u001b[0;34m.\u001b[0m\u001b[0matleast_1d\u001b[0m\u001b[0;34m(\u001b[0m\u001b[0msample_weight\u001b[0m\u001b[0;34m)\u001b[0m\u001b[0;34m.\u001b[0m\u001b[0mndim\u001b[0m \u001b[0;34m>\u001b[0m \u001b[0;36m1\u001b[0m\u001b[0;34m:\u001b[0m\u001b[0;34m\u001b[0m\u001b[0m\n",
      "\u001b[0;32m/usr/local/lib/python2.7/site-packages/sklearn/utils/validation.pyc\u001b[0m in \u001b[0;36mcheck_X_y\u001b[0;34m(X, y, accept_sparse, dtype, order, copy, force_all_finite, ensure_2d, allow_nd, multi_output, ensure_min_samples, ensure_min_features, y_numeric, warn_on_dtype, estimator)\u001b[0m\n\u001b[1;32m    571\u001b[0m     X = check_array(X, accept_sparse, dtype, order, copy, force_all_finite,\n\u001b[1;32m    572\u001b[0m                     \u001b[0mensure_2d\u001b[0m\u001b[0;34m,\u001b[0m \u001b[0mallow_nd\u001b[0m\u001b[0;34m,\u001b[0m \u001b[0mensure_min_samples\u001b[0m\u001b[0;34m,\u001b[0m\u001b[0;34m\u001b[0m\u001b[0m\n\u001b[0;32m--> 573\u001b[0;31m                     ensure_min_features, warn_on_dtype, estimator)\n\u001b[0m\u001b[1;32m    574\u001b[0m     \u001b[0;32mif\u001b[0m \u001b[0mmulti_output\u001b[0m\u001b[0;34m:\u001b[0m\u001b[0;34m\u001b[0m\u001b[0m\n\u001b[1;32m    575\u001b[0m         y = check_array(y, 'csr', force_all_finite=True, ensure_2d=False,\n",
      "\u001b[0;32m/usr/local/lib/python2.7/site-packages/sklearn/utils/validation.pyc\u001b[0m in \u001b[0;36mcheck_array\u001b[0;34m(array, accept_sparse, dtype, order, copy, force_all_finite, ensure_2d, allow_nd, ensure_min_samples, ensure_min_features, warn_on_dtype, estimator)\u001b[0m\n\u001b[1;32m    439\u001b[0m                     \u001b[0;34m\"Reshape your data either using array.reshape(-1, 1) if \"\u001b[0m\u001b[0;34m\u001b[0m\u001b[0m\n\u001b[1;32m    440\u001b[0m                     \u001b[0;34m\"your data has a single feature or array.reshape(1, -1) \"\u001b[0m\u001b[0;34m\u001b[0m\u001b[0m\n\u001b[0;32m--> 441\u001b[0;31m                     \"if it contains a single sample.\".format(array))\n\u001b[0m\u001b[1;32m    442\u001b[0m             \u001b[0marray\u001b[0m \u001b[0;34m=\u001b[0m \u001b[0mnp\u001b[0m\u001b[0;34m.\u001b[0m\u001b[0matleast_2d\u001b[0m\u001b[0;34m(\u001b[0m\u001b[0marray\u001b[0m\u001b[0;34m)\u001b[0m\u001b[0;34m\u001b[0m\u001b[0m\n\u001b[1;32m    443\u001b[0m             \u001b[0;31m# To ensure that array flags are maintained\u001b[0m\u001b[0;34m\u001b[0m\u001b[0;34m\u001b[0m\u001b[0m\n",
      "\u001b[0;31mValueError\u001b[0m: Expected 2D array, got 1D array instead:\narray=[ 0.00766663  0.00355482 -0.00185054  0.00800298  0.01732721  0.00142062\n  0.00929505  0.00123722  0.00943046  0.00269904  0.00868963  0.00314817\n  0.00800565 -0.01159421  0.00875833 -0.00964612 -0.01054628  0.00279096\n -0.00468864 -0.00050604 -0.0043919   0.02412454 -0.0228862  -0.00539455\n  0.01738873 -0.00882419  0.00771406 -0.00424318  0.01513328  0.00220508\n  0.01100284 -0.00073925 -0.01018042 -0.00034242 -0.00347451 -0.01567768\n  0.0089526  -0.01968625  0.0049869   0.01742669 -0.01681218 -0.0088872\n -0.02369587  0.00401499 -0.01279689 -0.00182245  0.0021348   0.01518261\n  0.01078197 -0.00631904  0.00942468  0.01297846 -0.01347925 -0.00044595\n -0.00729045  0.00616887  0.00453782  0.00767902 -0.00805627  0.0113308\n -0.01139802 -0.00470638 -0.00392389  0.00439043  0.0035178  -0.00216731\n -0.01550429  0.00238103 -0.00110489 -0.00379148  0.0060512   0.00404762\n  0.01285984 -0.00382009 -0.00375147  0.01670943 -0.00687299 -0.00370242\n -0.00918005  0.01359949  0.0103441  -0.00304964 -0.00600658 -0.02320594\n  0.00225609 -0.01318396 -0.00932741  0.00097896 -0.00023423  0.00376877\n -0.01945703  0.00393063  0.01422983  0.01124419 -0.00656464 -0.01610878\n  0.00330577 -0.01777667 -0.00346249  0.01081935].\nReshape your data either using array.reshape(-1, 1) if your data has a single feature or array.reshape(1, -1) if it contains a single sample."
     ]
    }
   ],
   "source": [
    "X = p[:,0:1]\n",
    "y = p[:,1]\n",
    "# Fit line using all data\n",
    "lr = linear_model.LinearRegression()\n",
    "lr.fit(X, y)\n",
    "\n",
    "# Robustly fit linear model with RANSAC algorithm\n",
    "ransac = linear_model.RANSACRegressor()\n",
    "ransac.fit(X, y)\n",
    "inlier_mask = ransac.inlier_mask_\n",
    "outlier_mask = np.logical_not(inlier_mask)\n",
    "\n",
    "# Predict data of estimated models\n",
    "line_X = np.arange(X.min(), X.max())[:, np.newaxis]\n",
    "line_y = lr.predict(line_X)\n",
    "line_y_ransac = ransac.predict(line_X)\n",
    "\n",
    "# Compare estimated coefficients\n",
    "print(\"Estimated coefficients (true, linear regression, RANSAC):\")\n",
    "print(coef, lr.coef_, ransac.estimator_.coef_)\n",
    "\n",
    "lw = 2\n",
    "plt.scatter(X[inlier_mask], y[inlier_mask], color='yellowgreen', marker='.',\n",
    "            label='Inliers')\n",
    "plt.scatter(X[outlier_mask], y[outlier_mask], color='gold', marker='.',\n",
    "            label='Outliers')\n",
    "plt.plot(line_X, line_y, color='navy', linewidth=lw, label='Linear regressor')\n",
    "plt.plot(line_X, line_y_ransac, color='cornflowerblue', linewidth=lw,\n",
    "         label='RANSAC regressor')\n",
    "plt.legend(loc='lower right')\n",
    "plt.xlabel(\"Input\")\n",
    "plt.ylabel(\"Response\")"
   ]
  },
  {
   "cell_type": "code",
   "execution_count": null,
   "metadata": {},
   "outputs": [],
   "source": []
  }
 ],
 "metadata": {
  "kernelspec": {
   "display_name": "Python 2",
   "language": "python",
   "name": "python2"
  },
  "language_info": {
   "codemirror_mode": {
    "name": "ipython",
    "version": 2
   },
   "file_extension": ".py",
   "mimetype": "text/x-python",
   "name": "python",
   "nbconvert_exporter": "python",
   "pygments_lexer": "ipython2",
   "version": "2.7.14"
  }
 },
 "nbformat": 4,
 "nbformat_minor": 2
}
