{
 "cells": [
  {
   "cell_type": "markdown",
   "metadata": {},
   "source": [
    "# Neural Language Modeling"
   ]
  },
  {
   "cell_type": "markdown",
   "metadata": {},
   "source": [
    "## 1. Data Processing\n",
    "## 2. Encoder: Bag of Words\n",
    "## 3. Decoder: MLP\n",
    "## 4. Training Neural LM\n",
    "## 5. Sentence Score\n",
    "## 6. Sentence Generation"
   ]
  },
  {
   "cell_type": "code",
   "execution_count": 1,
   "metadata": {},
   "outputs": [
    {
     "name": "stdout",
     "output_type": "stream",
     "text": [
      "--2019-03-12 10:31:17--  http://ikulikov.name/neural_lm_amazon_model_N10.pt\n",
      "Resolving ikulikov.name (ikulikov.name)... 173.255.226.199\n",
      "Connecting to ikulikov.name (ikulikov.name)|173.255.226.199|:80... connected.\n",
      "HTTP request sent, awaiting response... 200 OK\n",
      "Length: 46933906 (45M) [application/octet-stream]\n",
      "Saving to: ‘neural_lm_amazon_model_N10.pt’\n",
      "\n",
      "neural_lm_amazon_mo 100%[===================>]  44.76M  12.1MB/s    in 4.2s    \n",
      "\n",
      "2019-03-12 10:31:22 (10.6 MB/s) - ‘neural_lm_amazon_model_N10.pt’ saved [46933906/46933906]\n",
      "\n",
      "--2019-03-12 10:31:22--  http://ikulikov.name/neural_lm_amazon_model_N7.pt\n",
      "Resolving ikulikov.name (ikulikov.name)... 173.255.226.199\n",
      "Connecting to ikulikov.name (ikulikov.name)|173.255.226.199|:80... connected.\n",
      "HTTP request sent, awaiting response... 200 OK\n",
      "Length: 46933906 (45M) [application/octet-stream]\n",
      "Saving to: ‘neural_lm_amazon_model_N7.pt’\n",
      "\n",
      "neural_lm_amazon_mo 100%[===================>]  44.76M  12.1MB/s    in 4.1s    \n",
      "\n",
      "2019-03-12 10:31:27 (11.0 MB/s) - ‘neural_lm_amazon_model_N7.pt’ saved [46933906/46933906]\n",
      "\n",
      "--2019-03-12 10:31:27--  http://ikulikov.name/neural_lm_amazon_model_N5.pt\n",
      "Resolving ikulikov.name (ikulikov.name)... 173.255.226.199\n",
      "Connecting to ikulikov.name (ikulikov.name)|173.255.226.199|:80... connected.\n",
      "HTTP request sent, awaiting response... 200 OK\n",
      "Length: 46933906 (45M) [application/octet-stream]\n",
      "Saving to: ‘neural_lm_amazon_model_N5.pt’\n",
      "\n",
      "neural_lm_amazon_mo 100%[===================>]  44.76M  12.2MB/s    in 4.2s    \n",
      "\n",
      "2019-03-12 10:31:31 (10.6 MB/s) - ‘neural_lm_amazon_model_N5.pt’ saved [46933906/46933906]\n",
      "\n",
      "--2019-03-12 10:31:31--  http://ikulikov.name/neural_lm_amazon_model_N3.pt\n",
      "Resolving ikulikov.name (ikulikov.name)... 173.255.226.199\n",
      "Connecting to ikulikov.name (ikulikov.name)|173.255.226.199|:80... connected.\n",
      "HTTP request sent, awaiting response... 200 OK\n",
      "Length: 46933906 (45M) [application/octet-stream]\n",
      "Saving to: ‘neural_lm_amazon_model_N3.pt’\n",
      "\n",
      "neural_lm_amazon_mo 100%[===================>]  44.76M  12.0MB/s    in 4.3s    \n",
      "\n",
      "2019-03-12 10:31:36 (10.5 MB/s) - ‘neural_lm_amazon_model_N3.pt’ saved [46933906/46933906]\n",
      "\n"
     ]
    }
   ],
   "source": [
    "# !wget http://ikulikov.name/neural_lm_amazon_model_N10.pt\n",
    "# !wget http://ikulikov.name/neural_lm_amazon_model_N7.pt\n",
    "# !wget http://ikulikov.name/neural_lm_amazon_model_N5.pt\n",
    "# !wget http://ikulikov.name/neural_lm_amazon_model_N3.pt"
   ]
  },
  {
   "cell_type": "code",
   "execution_count": 28,
   "metadata": {},
   "outputs": [],
   "source": [
    "import os\n",
    "import sys\n",
    "sys.path.append('utils/')\n",
    "import torch\n",
    "import numpy as np\n",
    "import torch.nn as nn\n",
    "import random\n",
    "import math\n",
    "\n",
    "import utils.ngram_utils as ngram_utils\n",
    "from utils.ngram_utils import NgramLM\n",
    "from utils.amazon_dataset import AmazonDataset, pad, batchify\n",
    "from torch.utils.data import DataLoader\n",
    "from utils.neural_lm import BagOfNGrams, DecoderMLP, seq2seq\n",
    "import utils.global_variables as gl\n",
    "import torch\n",
    "from tqdm import tqdm_notebook, tqdm\n",
    "_tqdm = tqdm_notebook"
   ]
  },
  {
   "cell_type": "code",
   "execution_count": 2,
   "metadata": {},
   "outputs": [
    {
     "data": {
      "text/plain": [
       "<torch._C.Generator at 0x7fb0b5ed2070>"
      ]
     },
     "execution_count": 2,
     "metadata": {},
     "output_type": "execute_result"
    }
   ],
   "source": [
    "torch.manual_seed(1)\n"
   ]
  },
  {
   "cell_type": "code",
   "execution_count": 3,
   "metadata": {},
   "outputs": [],
   "source": [
    "USE_CUDA = True\n",
    "device = torch.device(\"cuda\" if (torch.cuda.is_available() and USE_CUDA) else \"cpu\")"
   ]
  },
  {
   "cell_type": "markdown",
   "metadata": {},
   "source": [
    "# Data Processing"
   ]
  },
  {
   "cell_type": "code",
   "execution_count": 4,
   "metadata": {},
   "outputs": [],
   "source": [
    "# Read data from .txt files and create lists of reviews\n",
    "train_data = []\n",
    "# create a list of all the reviews \n",
    "with open('../data/amazon_train.txt', 'r') as f:\n",
    "    train_data = [review for review in f.read().split('\\n') if review]\n",
    "    \n",
    "valid_data = []\n",
    "# create a list of all the reviews \n",
    "with open('../data/amazon_valid.txt', 'r') as f:\n",
    "    valid_data = [review for review in f.read().split('\\n') if review]\n",
    "    "
   ]
  },
  {
   "cell_type": "code",
   "execution_count": 5,
   "metadata": {},
   "outputs": [
    {
     "data": {
      "text/plain": [
       "(\"this is a great tutu and at a really great price . it doesn ' t look cheap at all . i ' m so glad i looked on amazon and found such an affordable tutu that isn ' t made poorly . a + + \",\n",
       " list,\n",
       " 22288,\n",
       " str)"
      ]
     },
     "execution_count": 5,
     "metadata": {},
     "output_type": "execute_result"
    }
   ],
   "source": [
    "train_data[0], valid_data[0]\n",
    "train_data = train_data#[:100]\n",
    "valid_data = valid_data#[:10]\n",
    "train_data[0], type(train_data), len(train_data), type(train_data[0])"
   ]
  },
  {
   "cell_type": "code",
   "execution_count": 6,
   "metadata": {},
   "outputs": [
    {
     "data": {
      "application/vnd.jupyter.widget-view+json": {
       "model_id": "f965e776afde4f4292b2123e102fd09e",
       "version_major": 2,
       "version_minor": 0
      },
      "text/plain": [
       "HBox(children=(IntProgress(value=1, bar_style='info', max=1), HTML(value='')))"
      ]
     },
     "metadata": {},
     "output_type": "display_data"
    },
    {
     "name": "stdout",
     "output_type": "stream",
     "text": [
      "\n"
     ]
    },
    {
     "data": {
      "application/vnd.jupyter.widget-view+json": {
       "model_id": "2415a09417bc44e1a832a39af8cb3ba2",
       "version_major": 2,
       "version_minor": 0
      },
      "text/plain": [
       "HBox(children=(IntProgress(value=1, bar_style='info', max=1), HTML(value='')))"
      ]
     },
     "metadata": {},
     "output_type": "display_data"
    },
    {
     "name": "stdout",
     "output_type": "stream",
     "text": [
      "\n"
     ]
    }
   ],
   "source": [
    "# Tokenize the Datasets\n",
    "# TODO: this takes a really long time !! why?\n",
    "train_data_tokenized, all_tokens_train = ngram_utils.tokenize_dataset(train_data)\n",
    "valid_data_tokenized, all_tokens_valid = ngram_utils.tokenize_dataset(valid_data)\n"
   ]
  },
  {
   "cell_type": "code",
   "execution_count": 7,
   "metadata": {},
   "outputs": [],
   "source": [
    "N = 5"
   ]
  },
  {
   "cell_type": "code",
   "execution_count": 8,
   "metadata": {},
   "outputs": [],
   "source": [
    "train_data_padded = ngram_utils.pad_dataset(train_data_tokenized, n=N)\n",
    "valid_data_padded = ngram_utils.pad_dataset(valid_data_tokenized, n=N)"
   ]
  },
  {
   "cell_type": "code",
   "execution_count": 9,
   "metadata": {},
   "outputs": [
    {
     "data": {
      "text/plain": [
       "(20805, ('<eos>', '<sos>', '.', 'the', 'i', ',', 'and', 'a', 'to', \"'\"))"
      ]
     },
     "execution_count": 9,
     "metadata": {},
     "output_type": "execute_result"
    }
   ],
   "source": [
    "vocab = ngram_utils.get_vocab(train_data_padded)\n",
    "vocab_size = len(vocab)\n",
    "vocab_size, vocab[:10]"
   ]
  },
  {
   "cell_type": "code",
   "execution_count": 10,
   "metadata": {},
   "outputs": [
    {
     "data": {
      "text/plain": [
       "(20808, 20806)"
      ]
     },
     "execution_count": 10,
     "metadata": {},
     "output_type": "execute_result"
    }
   ],
   "source": [
    "id2token, token2id = ngram_utils.get_dict(vocab)\n",
    "len(id2token), len(token2id)"
   ]
  },
  {
   "cell_type": "code",
   "execution_count": 11,
   "metadata": {},
   "outputs": [],
   "source": [
    "train_data_ids = ngram_utils.get_ids(train_data_padded, token2id)\n",
    "valid_data_ids = ngram_utils.get_ids(valid_data_padded, token2id)"
   ]
  },
  {
   "cell_type": "code",
   "execution_count": 12,
   "metadata": {},
   "outputs": [],
   "source": [
    "BATCH_SIZE = 2048"
   ]
  },
  {
   "cell_type": "code",
   "execution_count": 13,
   "metadata": {},
   "outputs": [
    {
     "name": "stderr",
     "output_type": "stream",
     "text": [
      "100%|██████████| 107790/107790 [00:06<00:00, 16200.06it/s]\n"
     ]
    }
   ],
   "source": [
    "train_dataset = AmazonDataset(train_data_ids, max_inp_length=None, use_cuda=USE_CUDA)\n",
    "train_dataset_ngrams = []\n",
    "for t in train_dataset:\n",
    "    for i in range(len(t) - N):\n",
    "        train_dataset_ngrams.append((t[i:i + N], t[i + N]))\n",
    "train_loader = DataLoader(train_dataset_ngrams, batch_size=BATCH_SIZE, collate_fn=batchify, shuffle=True)"
   ]
  },
  {
   "cell_type": "code",
   "execution_count": 14,
   "metadata": {},
   "outputs": [
    {
     "name": "stderr",
     "output_type": "stream",
     "text": [
      "100%|██████████| 15172/15172 [00:00<00:00, 29778.23it/s]\n"
     ]
    }
   ],
   "source": [
    "valid_dataset = AmazonDataset(valid_data_ids, max_inp_length=None, use_cuda=USE_CUDA)\n",
    "valid_dataset_ngrams = []\n",
    "for t in valid_dataset:\n",
    "    for i in range(len(t) - N):\n",
    "        valid_dataset_ngrams.append((t[i:i + N], t[i + N]))\n",
    "valid_loader = DataLoader(valid_dataset_ngrams, batch_size=BATCH_SIZE, collate_fn=batchify, shuffle=True)"
   ]
  },
  {
   "cell_type": "code",
   "execution_count": 15,
   "metadata": {},
   "outputs": [
    {
     "data": {
      "text/plain": [
       "(1946816, 280739)"
      ]
     },
     "execution_count": 15,
     "metadata": {},
     "output_type": "execute_result"
    }
   ],
   "source": [
    "num_train = len(train_dataset_ngrams)\n",
    "num_valid = len(valid_dataset_ngrams)\n",
    "num_train, num_valid"
   ]
  },
  {
   "cell_type": "code",
   "execution_count": 16,
   "metadata": {},
   "outputs": [],
   "source": [
    "EMB_DIM = 300\n",
    "HIDDEN_SIZE = 256\n",
    "ENC_SIZE = 128\n",
    "ACTIVATION = 'ReLU'\n",
    "NUM_LAYERS = 2\n",
    "REDUCE = 'mean'\n",
    "DROPOUT = 0.1\n",
    "LEARNING_RATE = 0.1\n",
    "BATCH_NORM = False"
   ]
  },
  {
   "cell_type": "markdown",
   "metadata": {},
   "source": [
    "# Encoder"
   ]
  },
  {
   "cell_type": "code",
   "execution_count": 17,
   "metadata": {},
   "outputs": [
    {
     "data": {
      "text/plain": [
       "BagOfNGrams(\n",
       "  (embedding): EmbeddingBag(20808, 300, mode=mean)\n",
       "  (layers): ModuleList(\n",
       "    (0): Linear(in_features=300, out_features=256, bias=True)\n",
       "    (1): ReLU()\n",
       "    (2): Dropout(p=0.1)\n",
       "    (3): Linear(in_features=256, out_features=128, bias=True)\n",
       "  )\n",
       ")"
      ]
     },
     "execution_count": 17,
     "metadata": {},
     "output_type": "execute_result"
    }
   ],
   "source": [
    "encoder = BagOfNGrams(len(id2token), emb_dim=EMB_DIM, hidden_size=HIDDEN_SIZE, out_size=ENC_SIZE, activation=ACTIVATION, \\\n",
    "                        nlayers=NUM_LAYERS, reduce=REDUCE, dropout=DROPOUT, batch_norm=BATCH_NORM)\n",
    "encoder"
   ]
  },
  {
   "cell_type": "markdown",
   "metadata": {},
   "source": [
    "# Decoder"
   ]
  },
  {
   "cell_type": "code",
   "execution_count": 18,
   "metadata": {},
   "outputs": [
    {
     "data": {
      "text/plain": [
       "DecoderMLP(\n",
       "  (linear): Linear(in_features=128, out_features=256, bias=True)\n",
       "  (out): Linear(in_features=256, out_features=20808, bias=True)\n",
       "  (log_softmax): LogSoftmax()\n",
       ")"
      ]
     },
     "execution_count": 18,
     "metadata": {},
     "output_type": "execute_result"
    }
   ],
   "source": [
    "decoder = DecoderMLP(input_size=ENC_SIZE, output_size=len(id2token), hidden_size=HIDDEN_SIZE)\n",
    "decoder"
   ]
  },
  {
   "cell_type": "markdown",
   "metadata": {},
   "source": [
    "# Model"
   ]
  },
  {
   "cell_type": "code",
   "execution_count": 19,
   "metadata": {},
   "outputs": [
    {
     "data": {
      "text/plain": [
       "seq2seq(\n",
       "  (encoder): BagOfNGrams(\n",
       "    (embedding): EmbeddingBag(20808, 300, mode=mean)\n",
       "    (layers): ModuleList(\n",
       "      (0): Linear(in_features=300, out_features=256, bias=True)\n",
       "      (1): ReLU()\n",
       "      (2): Dropout(p=0.1)\n",
       "      (3): Linear(in_features=256, out_features=128, bias=True)\n",
       "    )\n",
       "  )\n",
       "  (decoder): DecoderMLP(\n",
       "    (linear): Linear(in_features=128, out_features=256, bias=True)\n",
       "    (out): Linear(in_features=256, out_features=20808, bias=True)\n",
       "    (log_softmax): LogSoftmax()\n",
       "  )\n",
       "  (criterion): NLLLoss()\n",
       ")"
      ]
     },
     "execution_count": 19,
     "metadata": {},
     "output_type": "execute_result"
    }
   ],
   "source": [
    "model = seq2seq(encoder, decoder, id2token, use_cuda=USE_CUDA, lr=LEARNING_RATE, size_ngrams=N) \n",
    "model"
   ]
  },
  {
   "cell_type": "code",
   "execution_count": 20,
   "metadata": {},
   "outputs": [],
   "source": [
    "TRAIN = False"
   ]
  },
  {
   "cell_type": "markdown",
   "metadata": {},
   "source": [
    "# Training"
   ]
  },
  {
   "cell_type": "code",
   "execution_count": null,
   "metadata": {},
   "outputs": [
    {
     "name": "stdout",
     "output_type": "stream",
     "text": [
      "| Epoch   0 | Train Loss  4.69 | Train PPL   109.34 |  1000/ 9386 Batches\n",
      "| Epoch   0 | Train Loss  4.13 | Train PPL    62.38 |  2000/ 9386 Batches\n",
      "| Epoch   0 | Train Loss  4.04 | Train PPL    56.74 |  3000/ 9386 Batches\n",
      "| Epoch   0 | Train Loss  3.99 | Train PPL    54.11 |  4000/ 9386 Batches\n",
      "| Epoch   0 | Train Loss  3.95 | Train PPL    52.07 |  5000/ 9386 Batches\n",
      "| Epoch   0 | Train Loss  3.93 | Train PPL    51.02 |  6000/ 9386 Batches\n",
      "| Epoch   0 | Train Loss  3.91 | Train PPL    49.67 |  7000/ 9386 Batches\n",
      "| Epoch   0 | Train Loss  3.89 | Train PPL    48.86 |  8000/ 9386 Batches\n",
      "| Epoch   0 | Train Loss  3.88 | Train PPL    48.32 |  9000/ 9386 Batches\n",
      "-----------------------------------------------------------------------------------------\n",
      "| Epoch   0 | Valid Loss  3.68 | Valid PPL    39.72\n",
      "-----------------------------------------------------------------------------------------\n",
      "| Epoch   1 | Train Loss  3.85 | Train PPL    47.07 |  1000/ 9386 Batches\n",
      "| Epoch   1 | Train Loss  3.84 | Train PPL    46.50 |  2000/ 9386 Batches\n",
      "| Epoch   1 | Train Loss  3.83 | Train PPL    46.05 |  3000/ 9386 Batches\n"
     ]
    }
   ],
   "source": [
    "if TRAIN:\n",
    "    num_epochs = 10\n",
    "    log_interval = 1000\n",
    "    best_eval_loss = np.inf\n",
    "\n",
    "    for epoch in range(num_epochs):\n",
    "        # Train on entire train data using minibatches\n",
    "        cur_loss = 0\n",
    "        for i, (data, labels) in enumerate(train_loader):\n",
    "            prediction, loss = model.train_step(data, labels)\n",
    "            cur_loss += loss\n",
    "\n",
    "            if i % log_interval == 0 and i > 0:\n",
    "                cur_loss = cur_loss / log_interval\n",
    "                print('| Epoch {:3d} | Train Loss {:5.2f} | Train PPL {:8.2f} | {:5d}/{:5d} Batches'.format(\n",
    "                    epoch, cur_loss, math.exp(cur_loss), i, int(num_train/len(data))))\n",
    "                cur_loss = 0\n",
    "\n",
    "        # Eval at the end of every epoch\n",
    "        eval_loss = 0\n",
    "        for i, (data, labels) in enumerate(valid_loader):\n",
    "            prediction, loss = model.eval_step(data, labels)\n",
    "            eval_loss += len(data) * loss\n",
    "        eval_loss = eval_loss / num_valid \n",
    "        print('-' * 89)\n",
    "        print('| Epoch {:3d} | Valid Loss {:5.2f} | Valid PPL {:8.2f}'.format(\n",
    "            epoch, eval_loss, math.exp(eval_loss)))\n",
    "        print('-' * 89)\n",
    "\n",
    "        # Save the model if the validation loss is the best we've seen so far.\n",
    "        if not best_eval_loss or eval_loss < best_eval_loss:\n",
    "            model.save_model('neural_lm_amazon_model_N{}'.format(N) + '.pt')\n",
    "            best_eval_loss = eval_loss\n",
    "            \n",
    "    pretrained_model = model\n",
    "\n",
    "else:\n",
    "    # Load Pretrained Model\n",
    "    pretrained_model = seq2seq(encoder, decoder, id2token, use_cuda=USE_CUDA, lr=LEARNING_RATE, size_ngrams=N) \n",
    "    pretrained_model.load_model('neural_lm_amazon_model_N{}'.format(N) + '.pt')\n",
    "    pretrained_model"
   ]
  },
  {
   "cell_type": "markdown",
   "metadata": {},
   "source": [
    "### Get Loader for Some N"
   ]
  },
  {
   "cell_type": "code",
   "execution_count": 21,
   "metadata": {},
   "outputs": [],
   "source": [
    "def get_loader(train_data_tokenized, valid_data_tokenized, N):\n",
    "    # Tokenize the Datasets\n",
    "    # TODO: this takes a really long time !! why?\n",
    "    train_data_tokenized, all_tokens_train = ngram_utils.tokenize_dataset(train_data)\n",
    "    valid_data_tokenized, all_tokens_valid = ngram_utils.tokenize_dataset(valid_data)\n",
    "    \n",
    "    train_data_padded = ngram_utils.pad_dataset(train_data_tokenized, n=N)\n",
    "    valid_data_padded = ngram_utils.pad_dataset(valid_data_tokenized, n=N)\n",
    "    \n",
    "    vocab = ngram_utils.get_vocab(train_data_padded)\n",
    "    id2token, token2id = ngram_utils.get_dict(vocab)\n",
    "    \n",
    "    train_data_ids = ngram_utils.get_ids(train_data_padded, token2id)\n",
    "    valid_data_ids = ngram_utils.get_ids(valid_data_padded, token2id)\n",
    "\n",
    "    train_dataset = AmazonDataset(train_data_ids, max_inp_length=None, use_cuda=USE_CUDA)\n",
    "    train_dataset_ngrams = []\n",
    "    for t in train_dataset:\n",
    "        for i in range(len(t) - N):\n",
    "            train_dataset_ngrams.append((t[i:i + N], t[i + N]))\n",
    "    train_loader = DataLoader(train_dataset_ngrams, batch_size=BATCH_SIZE, collate_fn=batchify, shuffle=True)\n",
    "\n",
    "    valid_dataset = AmazonDataset(valid_data_ids, max_inp_length=None, use_cuda=USE_CUDA)\n",
    "    valid_dataset_ngrams = []\n",
    "    for t in valid_dataset:\n",
    "        for i in range(len(t) - N):\n",
    "            valid_dataset_ngrams.append((t[i:i + N], t[i + N]))\n",
    "    valid_loader = DataLoader(valid_dataset_ngrams, batch_size=BATCH_SIZE, collate_fn=batchify, shuffle=True)\n",
    "    \n",
    "    num_train = len(train_dataset_ngrams)\n",
    "    num_valid = len(valid_dataset_ngrams)\n",
    "    \n",
    "    return train_loader, num_train, valid_loader, num_valid"
   ]
  },
  {
   "cell_type": "markdown",
   "metadata": {},
   "source": [
    "## Perplexity (Train + Valid Data)"
   ]
  },
  {
   "cell_type": "code",
   "execution_count": 22,
   "metadata": {},
   "outputs": [],
   "source": [
    "def get_perplexity(loader, num_data, model):\n",
    "    total_loss = 0\n",
    "    total_count = 0\n",
    "    for i, (data, labels) in enumerate(loader):\n",
    "        prediction, loss = model.eval_step(data, labels)\n",
    "        total_loss += len(data) * loss\n",
    "        total_count += len(data)\n",
    "    total_loss = total_loss / total_count\n",
    "    ppl = math.exp(total_loss)\n",
    "    return ppl"
   ]
  },
  {
   "cell_type": "code",
   "execution_count": 23,
   "metadata": {},
   "outputs": [
    {
     "name": "stdout",
     "output_type": "stream",
     "text": [
      "Ngrams:  3\n",
      "Model:  seq2seq(\n",
      "  (encoder): BagOfNGrams(\n",
      "    (embedding): EmbeddingBag(20808, 300, mode=mean)\n",
      "    (layers): ModuleList(\n",
      "      (0): Linear(in_features=300, out_features=256, bias=True)\n",
      "      (1): ReLU()\n",
      "      (2): Dropout(p=0.1)\n",
      "      (3): Linear(in_features=256, out_features=128, bias=True)\n",
      "    )\n",
      "  )\n",
      "  (decoder): DecoderMLP(\n",
      "    (linear): Linear(in_features=128, out_features=256, bias=True)\n",
      "    (out): Linear(in_features=256, out_features=20808, bias=True)\n",
      "    (log_softmax): LogSoftmax()\n",
      "  )\n",
      "  (criterion): NLLLoss()\n",
      ")\n"
     ]
    },
    {
     "data": {
      "application/vnd.jupyter.widget-view+json": {
       "model_id": "a11f4cddda3d414e86b89f749e8e3dbd",
       "version_major": 2,
       "version_minor": 0
      },
      "text/plain": [
       "HBox(children=(IntProgress(value=1, bar_style='info', max=1), HTML(value='')))"
      ]
     },
     "metadata": {},
     "output_type": "display_data"
    },
    {
     "name": "stdout",
     "output_type": "stream",
     "text": [
      "\n"
     ]
    },
    {
     "data": {
      "application/vnd.jupyter.widget-view+json": {
       "model_id": "806af51cd51b4528a05075a5b15d01d7",
       "version_major": 2,
       "version_minor": 0
      },
      "text/plain": [
       "HBox(children=(IntProgress(value=1, bar_style='info', max=1), HTML(value='')))"
      ]
     },
     "metadata": {},
     "output_type": "display_data"
    },
    {
     "name": "stdout",
     "output_type": "stream",
     "text": [
      "\n"
     ]
    },
    {
     "name": "stderr",
     "output_type": "stream",
     "text": [
      "100%|██████████| 107790/107790 [00:03<00:00, 29464.88it/s]\n",
      "100%|██████████| 15172/15172 [00:00<00:00, 30064.85it/s]\n"
     ]
    },
    {
     "name": "stdout",
     "output_type": "stream",
     "text": [
      "Validation Perplexity:  132.2111764559884\n",
      "Training Perplexity:  117.42600925705602\n"
     ]
    }
   ],
   "source": [
    "# Load Pretrained Model\n",
    "N = 3\n",
    "print(\"Ngrams: \", N)\n",
    "\n",
    "model_n3 = seq2seq(encoder, decoder, id2token, use_cuda=USE_CUDA, lr=LEARNING_RATE, size_ngrams=N) \n",
    "model_n3.load_model('neural_lm_amazon_model_N{}'.format(N) + '.pt')\n",
    "print(\"Model: \", model_n3)\n",
    "\n",
    "train_loader, num_train, valid_loader, num_valid = get_loader(train_data_tokenized, valid_data_tokenized, N)\n",
    "\n",
    "valid_ppl = get_perplexity(valid_loader, num_valid, model_n3)\n",
    "print(\"Validation Perplexity: \", valid_ppl)\n",
    "\n",
    "train_ppl = get_perplexity(train_loader, num_train, model_n3)\n",
    "print(\"Training Perplexity: \", train_ppl)\n"
   ]
  },
  {
   "cell_type": "code",
   "execution_count": 32,
   "metadata": {},
   "outputs": [
    {
     "name": "stdout",
     "output_type": "stream",
     "text": [
      "Ngrams:  5\n",
      "Model:  seq2seq(\n",
      "  (encoder): BagOfNGrams(\n",
      "    (embedding): EmbeddingBag(20808, 300, mode=mean)\n",
      "    (layers): ModuleList(\n",
      "      (0): Linear(in_features=300, out_features=256, bias=True)\n",
      "      (1): ReLU()\n",
      "      (2): Dropout(p=0.1)\n",
      "      (3): Linear(in_features=256, out_features=128, bias=True)\n",
      "    )\n",
      "  )\n",
      "  (decoder): DecoderMLP(\n",
      "    (linear): Linear(in_features=128, out_features=256, bias=True)\n",
      "    (out): Linear(in_features=256, out_features=20808, bias=True)\n",
      "    (log_softmax): LogSoftmax()\n",
      "  )\n",
      "  (criterion): NLLLoss()\n",
      ")\n"
     ]
    },
    {
     "data": {
      "application/vnd.jupyter.widget-view+json": {
       "model_id": "215cf8cfef5f4d83a4c49651ffb1eb8d",
       "version_major": 2,
       "version_minor": 0
      },
      "text/plain": [
       "HBox(children=(IntProgress(value=1, bar_style='info', max=1), HTML(value='')))"
      ]
     },
     "metadata": {},
     "output_type": "display_data"
    },
    {
     "name": "stdout",
     "output_type": "stream",
     "text": [
      "\n"
     ]
    },
    {
     "data": {
      "application/vnd.jupyter.widget-view+json": {
       "model_id": "a6bba5c7ad994921a3dca25d8e903833",
       "version_major": 2,
       "version_minor": 0
      },
      "text/plain": [
       "HBox(children=(IntProgress(value=1, bar_style='info', max=1), HTML(value='')))"
      ]
     },
     "metadata": {},
     "output_type": "display_data"
    },
    {
     "name": "stdout",
     "output_type": "stream",
     "text": [
      "\n"
     ]
    },
    {
     "name": "stderr",
     "output_type": "stream",
     "text": [
      "100%|██████████| 107790/107790 [00:03<00:00, 30537.51it/s]\n",
      "100%|██████████| 15172/15172 [00:00<00:00, 30075.63it/s]\n"
     ]
    },
    {
     "name": "stdout",
     "output_type": "stream",
     "text": [
      "Validation Perplexity:  80.90786768026997\n",
      "Training Perplexity:  74.61620960861192\n"
     ]
    }
   ],
   "source": [
    "# Load Pretrained Model\n",
    "N = 5\n",
    "print(\"Ngrams: \", N)\n",
    "\n",
    "model_n5 = seq2seq(encoder, decoder, id2token, use_cuda=USE_CUDA, lr=LEARNING_RATE, size_ngrams=N) \n",
    "model_n5.load_model('neural_lm_amazon_model_N{}'.format(N) + '.pt')\n",
    "print(\"Model: \", model_n5)\n",
    "\n",
    "train_loader, num_train, valid_loader, num_valid = get_loader(train_data_tokenized, valid_data_tokenized, N)\n",
    "\n",
    "valid_ppl = get_perplexity(valid_loader, num_valid, model_n5)\n",
    "print(\"Validation Perplexity: \", valid_ppl)\n",
    "\n",
    "train_ppl = get_perplexity(train_loader, num_train, model_n5)\n",
    "print(\"Training Perplexity: \", train_ppl)\n"
   ]
  },
  {
   "cell_type": "code",
   "execution_count": null,
   "metadata": {},
   "outputs": [],
   "source": [
    "# Load Pretrained Model\n",
    "N = 7\n",
    "print(\"Ngrams: \", N)\n",
    "\n",
    "model_n7 = seq2seq(encoder, decoder, id2token, use_cuda=USE_CUDA, lr=LEARNING_RATE, size_ngrams=N) \n",
    "model_n7.load_model('neural_lm_amazon_model_N{}'.format(N) + '.pt')\n",
    "print(\"Model: \", model_n7)\n",
    "\n",
    "train_loader, num_train, valid_loader, num_valid = get_loader(train_data_tokenized, valid_data_tokenized, N)\n",
    "\n",
    "valid_ppl = get_perplexity(valid_loader, num_valid, model_n7)\n",
    "print(\"Validation Perplexity: \", valid_ppl)\n",
    "\n",
    "train_ppl = get_perplexity(train_loader, num_train, model_n7)\n",
    "print(\"Training Perplexity: \", train_ppl)\n"
   ]
  },
  {
   "cell_type": "code",
   "execution_count": 28,
   "metadata": {},
   "outputs": [
    {
     "name": "stdout",
     "output_type": "stream",
     "text": [
      "Validation Perplexity:  33.31333717417352\n",
      "Training Perplexity:  29.76822279473455\n"
     ]
    }
   ],
   "source": [
    "# Load Pretrained Model\n",
    "N = 10\n",
    "print(\"Ngrams: \", N)\n",
    "\n",
    "model_n10 = seq2seq(encoder, decoder, id2token, use_cuda=USE_CUDA, lr=LEARNING_RATE, size_ngrams=N) \n",
    "model_n10.load_model('neural_lm_amazon_model_N{}'.format(N) + '.pt')\n",
    "print(\"Model: \", model_n10)\n",
    "\n",
    "train_loader, num_train, valid_loader, num_valid = get_loader(train_data_tokenized, valid_data_tokenized, N)\n",
    "\n",
    "valid_ppl = get_perplexity(valid_loader, num_valid, model_n10)\n",
    "print(\"Validation Perplexity: \", valid_ppl)\n",
    "\n",
    "train_ppl = get_perplexity(train_loader, num_train, model_n10)\n",
    "print(\"Training Perplexity: \", train_ppl)\n"
   ]
  },
  {
   "cell_type": "markdown",
   "metadata": {},
   "source": [
    "## Score Sentences"
   ]
  },
  {
   "cell_type": "code",
   "execution_count": 29,
   "metadata": {},
   "outputs": [],
   "source": [
    "def score_sentence(sent, model):\n",
    "    tokenized, _ = ngram_utils.tokenize_dataset(sent)\n",
    "    sent_ids = ngram_utils.get_ids(tokenized, token2id)\n",
    "    sent_tensor = torch.LongTensor(sent_ids).to(device)\n",
    "    generated, scores = model.evaluate(sent_tensor, score_only=True)\n",
    "    ppl = math.exp(scores)\n",
    "    return ppl"
   ]
  },
  {
   "cell_type": "code",
   "execution_count": 30,
   "metadata": {},
   "outputs": [
    {
     "data": {
      "application/vnd.jupyter.widget-view+json": {
       "model_id": "0d0b4c65e4b1436689d04f79bd41e375",
       "version_major": 2,
       "version_minor": 0
      },
      "text/plain": [
       "HBox(children=(IntProgress(value=1, bar_style='info', max=1), HTML(value='')))"
      ]
     },
     "metadata": {},
     "output_type": "display_data"
    },
    {
     "name": "stdout",
     "output_type": "stream",
     "text": [
      "\n"
     ]
    },
    {
     "ename": "RuntimeError",
     "evalue": "Expected object of backend CUDA but got backend CPU for sequence element 1 in sequence argument at position #1 'tensors'",
     "output_type": "error",
     "traceback": [
      "\u001b[0;31m---------------------------------------------------------------------------\u001b[0m",
      "\u001b[0;31mRuntimeError\u001b[0m                              Traceback (most recent call last)",
      "\u001b[0;32m<ipython-input-30-9890e6edbf3b>\u001b[0m in \u001b[0;36m<module>\u001b[0;34m\u001b[0m\n\u001b[1;32m      1\u001b[0m \u001b[0msentence\u001b[0m \u001b[0;34m=\u001b[0m \u001b[0;34m[\u001b[0m\u001b[0;34m'i like this product very much .'\u001b[0m\u001b[0;34m]\u001b[0m\u001b[0;34m\u001b[0m\u001b[0m\n\u001b[0;32m----> 2\u001b[0;31m \u001b[0mppl3\u001b[0m \u001b[0;34m=\u001b[0m \u001b[0mscore_sentence\u001b[0m\u001b[0;34m(\u001b[0m\u001b[0msentence\u001b[0m\u001b[0;34m,\u001b[0m \u001b[0mmodel_n3\u001b[0m\u001b[0;34m)\u001b[0m\u001b[0;34m\u001b[0m\u001b[0m\n\u001b[0m\u001b[1;32m      3\u001b[0m \u001b[0mppl5\u001b[0m \u001b[0;34m=\u001b[0m \u001b[0mscore_sentence\u001b[0m\u001b[0;34m(\u001b[0m\u001b[0msentence\u001b[0m\u001b[0;34m,\u001b[0m \u001b[0mmodel_n5\u001b[0m\u001b[0;34m)\u001b[0m\u001b[0;34m\u001b[0m\u001b[0m\n\u001b[1;32m      4\u001b[0m \u001b[0mppl7\u001b[0m \u001b[0;34m=\u001b[0m \u001b[0mscore_sentence\u001b[0m\u001b[0;34m(\u001b[0m\u001b[0msentence\u001b[0m\u001b[0;34m,\u001b[0m \u001b[0mmodel_n7\u001b[0m\u001b[0;34m)\u001b[0m\u001b[0;34m\u001b[0m\u001b[0m\n\u001b[1;32m      5\u001b[0m \u001b[0mppl10\u001b[0m \u001b[0;34m=\u001b[0m \u001b[0mscore_sentence\u001b[0m\u001b[0;34m(\u001b[0m\u001b[0msentence\u001b[0m\u001b[0;34m,\u001b[0m \u001b[0mmodel_n10\u001b[0m\u001b[0;34m)\u001b[0m\u001b[0;34m\u001b[0m\u001b[0m\n",
      "\u001b[0;32m<ipython-input-29-0160c0642a0b>\u001b[0m in \u001b[0;36mscore_sentence\u001b[0;34m(sent, model)\u001b[0m\n\u001b[1;32m      3\u001b[0m     \u001b[0msent_ids\u001b[0m \u001b[0;34m=\u001b[0m \u001b[0mngram_utils\u001b[0m\u001b[0;34m.\u001b[0m\u001b[0mget_ids\u001b[0m\u001b[0;34m(\u001b[0m\u001b[0mtokenized\u001b[0m\u001b[0;34m,\u001b[0m \u001b[0mtoken2id\u001b[0m\u001b[0;34m)\u001b[0m\u001b[0;34m\u001b[0m\u001b[0m\n\u001b[1;32m      4\u001b[0m     \u001b[0msent_tensor\u001b[0m \u001b[0;34m=\u001b[0m \u001b[0mtorch\u001b[0m\u001b[0;34m.\u001b[0m\u001b[0mLongTensor\u001b[0m\u001b[0;34m(\u001b[0m\u001b[0msent_ids\u001b[0m\u001b[0;34m)\u001b[0m\u001b[0;34m.\u001b[0m\u001b[0mto\u001b[0m\u001b[0;34m(\u001b[0m\u001b[0mdevice\u001b[0m\u001b[0;34m)\u001b[0m\u001b[0;34m\u001b[0m\u001b[0m\n\u001b[0;32m----> 5\u001b[0;31m     \u001b[0mgenerated\u001b[0m\u001b[0;34m,\u001b[0m \u001b[0mscores\u001b[0m \u001b[0;34m=\u001b[0m \u001b[0mmodel\u001b[0m\u001b[0;34m.\u001b[0m\u001b[0mevaluate\u001b[0m\u001b[0;34m(\u001b[0m\u001b[0msent_tensor\u001b[0m\u001b[0;34m,\u001b[0m \u001b[0mscore_only\u001b[0m\u001b[0;34m=\u001b[0m\u001b[0;32mTrue\u001b[0m\u001b[0;34m)\u001b[0m\u001b[0;34m\u001b[0m\u001b[0m\n\u001b[0m\u001b[1;32m      6\u001b[0m     \u001b[0mppl\u001b[0m \u001b[0;34m=\u001b[0m \u001b[0mmath\u001b[0m\u001b[0;34m.\u001b[0m\u001b[0mexp\u001b[0m\u001b[0;34m(\u001b[0m\u001b[0mscores\u001b[0m\u001b[0;34m)\u001b[0m\u001b[0;34m\u001b[0m\u001b[0m\n\u001b[1;32m      7\u001b[0m     \u001b[0;32mreturn\u001b[0m \u001b[0mppl\u001b[0m\u001b[0;34m\u001b[0m\u001b[0m\n",
      "\u001b[0;32m~/AMMI-2019-NLP-Part2/01-day-LM/utils/neural_lm.py\u001b[0m in \u001b[0;36mevaluate\u001b[0;34m(self, xs, use_context, score_only)\u001b[0m\n\u001b[1;32m    182\u001b[0m         \u001b[0mbsz\u001b[0m \u001b[0;34m=\u001b[0m \u001b[0mxs\u001b[0m\u001b[0;34m.\u001b[0m\u001b[0msize\u001b[0m\u001b[0;34m(\u001b[0m\u001b[0;36m0\u001b[0m\u001b[0;34m)\u001b[0m\u001b[0;34m\u001b[0m\u001b[0m\n\u001b[1;32m    183\u001b[0m         \u001b[0mys\u001b[0m \u001b[0;34m=\u001b[0m \u001b[0mtorch\u001b[0m\u001b[0;34m.\u001b[0m\u001b[0mcat\u001b[0m\u001b[0;34m(\u001b[0m\u001b[0;34m(\u001b[0m\u001b[0mxs\u001b[0m\u001b[0;34m[\u001b[0m\u001b[0;36m0\u001b[0m\u001b[0;34m,\u001b[0m \u001b[0;36m1\u001b[0m\u001b[0;34m:\u001b[0m\u001b[0;34m]\u001b[0m\u001b[0;34m.\u001b[0m\u001b[0munsqueeze\u001b[0m\u001b[0;34m(\u001b[0m\u001b[0;36m0\u001b[0m\u001b[0;34m)\u001b[0m\u001b[0;34m,\u001b[0m \u001b[0mtorch\u001b[0m\u001b[0;34m.\u001b[0m\u001b[0mLongTensor\u001b[0m\u001b[0;34m(\u001b[0m\u001b[0;34m[\u001b[0m\u001b[0;34m[\u001b[0m\u001b[0mgl\u001b[0m\u001b[0;34m.\u001b[0m\u001b[0mEOS_IDX\u001b[0m\u001b[0;34m]\u001b[0m\u001b[0;34m]\u001b[0m\u001b[0;34m)\u001b[0m\u001b[0;34m)\u001b[0m\u001b[0;34m,\u001b[0m \u001b[0mdim\u001b[0m\u001b[0;34m=\u001b[0m\u001b[0;36m1\u001b[0m\u001b[0;34m)\u001b[0m\u001b[0;34m\u001b[0m\u001b[0m\n\u001b[0;32m--> 184\u001b[0;31m \u001b[0;34m\u001b[0m\u001b[0m\n\u001b[0m\u001b[1;32m    185\u001b[0m         \u001b[0mxs\u001b[0m \u001b[0;34m=\u001b[0m \u001b[0mxs\u001b[0m\u001b[0;34m.\u001b[0m\u001b[0mto\u001b[0m\u001b[0;34m(\u001b[0m\u001b[0mself\u001b[0m\u001b[0;34m.\u001b[0m\u001b[0mdevice\u001b[0m\u001b[0;34m)\u001b[0m\u001b[0;34m\u001b[0m\u001b[0m\n\u001b[1;32m    186\u001b[0m         \u001b[0mys\u001b[0m \u001b[0;34m=\u001b[0m \u001b[0mys\u001b[0m\u001b[0;34m.\u001b[0m\u001b[0mto\u001b[0m\u001b[0;34m(\u001b[0m\u001b[0mself\u001b[0m\u001b[0;34m.\u001b[0m\u001b[0mdevice\u001b[0m\u001b[0;34m)\u001b[0m\u001b[0;34m\u001b[0m\u001b[0m\n",
      "\u001b[0;31mRuntimeError\u001b[0m: Expected object of backend CUDA but got backend CPU for sequence element 1 in sequence argument at position #1 'tensors'"
     ]
    }
   ],
   "source": [
    "sentence = ['i like this product very much .']\n",
    "ppl3 = score_sentence(sentence, model_n3)\n",
    "ppl5 = score_sentence(sentence, model_n5)\n",
    "ppl7 = score_sentence(sentence, model_n7)\n",
    "ppl10 = score_sentence(sentence, model_n10)\n",
    "ppl3, ppl5, ppl7, ppl10"
   ]
  },
  {
   "cell_type": "code",
   "execution_count": null,
   "metadata": {},
   "outputs": [],
   "source": [
    "sentence = ['i like pandas']\n",
    "ppl3 = score_sentence(sentence, model_n3)\n",
    "ppl5 = score_sentence(sentence, model_n5)\n",
    "ppl7 = score_sentence(sentence, model_n7)\n",
    "ppl10 = score_sentence(sentence, model_n10)\n",
    "ppl3, ppl5, ppl7, ppl10"
   ]
  },
  {
   "cell_type": "code",
   "execution_count": null,
   "metadata": {},
   "outputs": [],
   "source": [
    "sentences = ['this color is very ugly !']\n",
    "ppl3 = score_sentence(sentence, model_n3)\n",
    "ppl5 = score_sentence(sentence, model_n5)\n",
    "ppl7 = score_sentence(sentence, model_n7)\n",
    "ppl10 = score_sentence(sentence, model_n10)\n",
    "ppl3, ppl5, ppl7, ppl10"
   ]
  },
  {
   "cell_type": "code",
   "execution_count": null,
   "metadata": {},
   "outputs": [],
   "source": [
    "sentences = ['kigali is an awesome city !']\n",
    "ppl3 = score_sentence(sentence, model_n3)\n",
    "ppl5 = score_sentence(sentence, model_n5)\n",
    "ppl7 = score_sentence(sentence, model_n7)\n",
    "ppl10 = score_sentence(sentence, model_n10)\n",
    "ppl3, ppl5, ppl7, ppl10"
   ]
  },
  {
   "cell_type": "code",
   "execution_count": null,
   "metadata": {},
   "outputs": [],
   "source": [
    "sentences = ['my wife loves the color of this dress']\n",
    "ppl3 = score_sentence(sentence, model_n3)\n",
    "ppl5 = score_sentence(sentence, model_n5)\n",
    "ppl7 = score_sentence(sentence, model_n7)\n",
    "ppl10 = score_sentence(sentence, model_n10)\n",
    "ppl3, ppl5, ppl7, ppl10"
   ]
  },
  {
   "cell_type": "code",
   "execution_count": null,
   "metadata": {},
   "outputs": [
    {
     "data": {
      "application/vnd.jupyter.widget-view+json": {
       "model_id": "d38c75ec81d249bba975e00a20783c0c",
       "version_major": 2,
       "version_minor": 0
      },
      "text/plain": [
       "HBox(children=(IntProgress(value=1, bar_style='info', max=1), HTML(value='')))"
      ]
     },
     "metadata": {},
     "output_type": "display_data"
    },
    {
     "name": "stdout",
     "output_type": "stream",
     "text": [
      "\n"
     ]
    },
    {
     "ename": "RuntimeError",
     "evalue": "Expected object of backend CUDA but got backend CPU for sequence element 1 in sequence argument at position #1 'tensors'",
     "output_type": "error",
     "traceback": [
      "\u001b[0;31m---------------------------------------------------------------------------\u001b[0m",
      "\u001b[0;31mRuntimeError\u001b[0m                              Traceback (most recent call last)",
      "\u001b[0;32m<ipython-input-31-0a224cfdd22d>\u001b[0m in \u001b[0;36m<module>\u001b[0;34m\u001b[0m\n\u001b[1;32m      1\u001b[0m \u001b[0msentence\u001b[0m \u001b[0;34m=\u001b[0m \u001b[0;34m[\u001b[0m\u001b[0;34m'i like pandas'\u001b[0m\u001b[0;34m]\u001b[0m\u001b[0;34m\u001b[0m\u001b[0m\n\u001b[0;32m----> 2\u001b[0;31m \u001b[0mppl3\u001b[0m \u001b[0;34m=\u001b[0m \u001b[0mscore_sentence\u001b[0m\u001b[0;34m(\u001b[0m\u001b[0msentence\u001b[0m\u001b[0;34m,\u001b[0m \u001b[0mmodel_n3\u001b[0m\u001b[0;34m)\u001b[0m\u001b[0;34m\u001b[0m\u001b[0m\n\u001b[0m\u001b[1;32m      3\u001b[0m \u001b[0mppl5\u001b[0m \u001b[0;34m=\u001b[0m \u001b[0mscore_sentence\u001b[0m\u001b[0;34m(\u001b[0m\u001b[0msentence\u001b[0m\u001b[0;34m,\u001b[0m \u001b[0mmodel_n5\u001b[0m\u001b[0;34m)\u001b[0m\u001b[0;34m\u001b[0m\u001b[0m\n\u001b[1;32m      4\u001b[0m \u001b[0mppl7\u001b[0m \u001b[0;34m=\u001b[0m \u001b[0mscore_sentence\u001b[0m\u001b[0;34m(\u001b[0m\u001b[0msentence\u001b[0m\u001b[0;34m,\u001b[0m \u001b[0mmodel_n7\u001b[0m\u001b[0;34m)\u001b[0m\u001b[0;34m\u001b[0m\u001b[0m\n\u001b[1;32m      5\u001b[0m \u001b[0mppl10\u001b[0m \u001b[0;34m=\u001b[0m \u001b[0mscore_sentence\u001b[0m\u001b[0;34m(\u001b[0m\u001b[0msentence\u001b[0m\u001b[0;34m,\u001b[0m \u001b[0mmodel_n10\u001b[0m\u001b[0;34m)\u001b[0m\u001b[0;34m\u001b[0m\u001b[0m\n",
      "\u001b[0;32m<ipython-input-30-0160c0642a0b>\u001b[0m in \u001b[0;36mscore_sentence\u001b[0;34m(sent, model)\u001b[0m\n\u001b[1;32m      3\u001b[0m     \u001b[0msent_ids\u001b[0m \u001b[0;34m=\u001b[0m \u001b[0mngram_utils\u001b[0m\u001b[0;34m.\u001b[0m\u001b[0mget_ids\u001b[0m\u001b[0;34m(\u001b[0m\u001b[0mtokenized\u001b[0m\u001b[0;34m,\u001b[0m \u001b[0mtoken2id\u001b[0m\u001b[0;34m)\u001b[0m\u001b[0;34m\u001b[0m\u001b[0m\n\u001b[1;32m      4\u001b[0m     \u001b[0msent_tensor\u001b[0m \u001b[0;34m=\u001b[0m \u001b[0mtorch\u001b[0m\u001b[0;34m.\u001b[0m\u001b[0mLongTensor\u001b[0m\u001b[0;34m(\u001b[0m\u001b[0msent_ids\u001b[0m\u001b[0;34m)\u001b[0m\u001b[0;34m.\u001b[0m\u001b[0mto\u001b[0m\u001b[0;34m(\u001b[0m\u001b[0mdevice\u001b[0m\u001b[0;34m)\u001b[0m\u001b[0;34m\u001b[0m\u001b[0m\n\u001b[0;32m----> 5\u001b[0;31m     \u001b[0mgenerated\u001b[0m\u001b[0;34m,\u001b[0m \u001b[0mscores\u001b[0m \u001b[0;34m=\u001b[0m \u001b[0mmodel\u001b[0m\u001b[0;34m.\u001b[0m\u001b[0mevaluate\u001b[0m\u001b[0;34m(\u001b[0m\u001b[0msent_tensor\u001b[0m\u001b[0;34m,\u001b[0m \u001b[0mscore_only\u001b[0m\u001b[0;34m=\u001b[0m\u001b[0;32mTrue\u001b[0m\u001b[0;34m)\u001b[0m\u001b[0;34m\u001b[0m\u001b[0m\n\u001b[0m\u001b[1;32m      6\u001b[0m     \u001b[0mppl\u001b[0m \u001b[0;34m=\u001b[0m \u001b[0mmath\u001b[0m\u001b[0;34m.\u001b[0m\u001b[0mexp\u001b[0m\u001b[0;34m(\u001b[0m\u001b[0mscores\u001b[0m\u001b[0;34m)\u001b[0m\u001b[0;34m\u001b[0m\u001b[0m\n\u001b[1;32m      7\u001b[0m     \u001b[0;32mreturn\u001b[0m \u001b[0mppl\u001b[0m\u001b[0;34m\u001b[0m\u001b[0m\n",
      "\u001b[0;32m~/AMMI-2019-NLP-Part2/01-day-LM/utils/neural_lm.py\u001b[0m in \u001b[0;36mevaluate\u001b[0;34m(self, xs, use_context, score_only)\u001b[0m\n\u001b[1;32m    182\u001b[0m         \u001b[0mxs\u001b[0m \u001b[0;34m=\u001b[0m \u001b[0mxs\u001b[0m\u001b[0;34m.\u001b[0m\u001b[0mto\u001b[0m\u001b[0;34m(\u001b[0m\u001b[0mself\u001b[0m\u001b[0;34m.\u001b[0m\u001b[0mdevice\u001b[0m\u001b[0;34m)\u001b[0m\u001b[0;34m\u001b[0m\u001b[0m\n\u001b[1;32m    183\u001b[0m         \u001b[0mbsz\u001b[0m \u001b[0;34m=\u001b[0m \u001b[0mxs\u001b[0m\u001b[0;34m.\u001b[0m\u001b[0msize\u001b[0m\u001b[0;34m(\u001b[0m\u001b[0;36m0\u001b[0m\u001b[0;34m)\u001b[0m\u001b[0;34m\u001b[0m\u001b[0m\n\u001b[0;32m--> 184\u001b[0;31m         \u001b[0mys\u001b[0m \u001b[0;34m=\u001b[0m \u001b[0mtorch\u001b[0m\u001b[0;34m.\u001b[0m\u001b[0mcat\u001b[0m\u001b[0;34m(\u001b[0m\u001b[0;34m(\u001b[0m\u001b[0mxs\u001b[0m\u001b[0;34m[\u001b[0m\u001b[0;36m0\u001b[0m\u001b[0;34m,\u001b[0m \u001b[0;36m1\u001b[0m\u001b[0;34m:\u001b[0m\u001b[0;34m]\u001b[0m\u001b[0;34m.\u001b[0m\u001b[0munsqueeze\u001b[0m\u001b[0;34m(\u001b[0m\u001b[0;36m0\u001b[0m\u001b[0;34m)\u001b[0m\u001b[0;34m,\u001b[0m \u001b[0mtorch\u001b[0m\u001b[0;34m.\u001b[0m\u001b[0mLongTensor\u001b[0m\u001b[0;34m(\u001b[0m\u001b[0;34m[\u001b[0m\u001b[0;34m[\u001b[0m\u001b[0mgl\u001b[0m\u001b[0;34m.\u001b[0m\u001b[0mEOS_IDX\u001b[0m\u001b[0;34m]\u001b[0m\u001b[0;34m]\u001b[0m\u001b[0;34m)\u001b[0m\u001b[0;34m)\u001b[0m\u001b[0;34m,\u001b[0m \u001b[0mdim\u001b[0m\u001b[0;34m=\u001b[0m\u001b[0;36m1\u001b[0m\u001b[0;34m)\u001b[0m\u001b[0;34m\u001b[0m\u001b[0m\n\u001b[0m\u001b[1;32m    185\u001b[0m \u001b[0;34m\u001b[0m\u001b[0m\n\u001b[1;32m    186\u001b[0m         \u001b[0;31m# just predict\u001b[0m\u001b[0;34m\u001b[0m\u001b[0;34m\u001b[0m\u001b[0m\n",
      "\u001b[0;31mRuntimeError\u001b[0m: Expected object of backend CUDA but got backend CPU for sequence element 1 in sequence argument at position #1 'tensors'"
     ]
    }
   ],
   "source": [
    "sentence = ['i like pandas']\n",
    "ppl3 = score_sentence(sentence, model_n3)\n",
    "ppl5 = score_sentence(sentence, model_n5)\n",
    "ppl7 = score_sentence(sentence, model_n7)\n",
    "ppl10 = score_sentence(sentence, model_n10)\n",
    "ppl3, ppl5, ppl7, ppl10"
   ]
  },
  {
   "cell_type": "markdown",
   "metadata": {},
   "source": [
    "## Generate Sentences"
   ]
  },
  {
   "cell_type": "code",
   "execution_count": null,
   "metadata": {},
   "outputs": [],
   "source": [
    "def generate_sentence(model, context=None):\n",
    "    if context is None:\n",
    "        dummy_context = torch.LongTensor([[0]]).to(device)\n",
    "        generated, scores = model.evaluate(dummy_context, use_context=False)\n",
    "    else:\n",
    "        tokenized, _ = ngram_utils.tokenize_dataset(context)\n",
    "        context_ids = ngram_utils.get_ids(tokenized, token2id)\n",
    "        context_tensor = torch.LongTensor(context_ids).to(device)\n",
    "        generated, scores = model.evaluate(context_tensor, use_context=True)\n",
    "    \n",
    "    ppl = math.exp(scores)\n",
    "    return generated, scores"
   ]
  },
  {
   "cell_type": "markdown",
   "metadata": {},
   "source": [
    "### No Context"
   ]
  },
  {
   "cell_type": "code",
   "execution_count": null,
   "metadata": {},
   "outputs": [],
   "source": [
    "generated, scores = generate_sentence(model_n3)\n",
    "print(' '.join(word[0] for word in generated)), scores"
   ]
  },
  {
   "cell_type": "code",
   "execution_count": null,
   "metadata": {},
   "outputs": [],
   "source": [
    "generated, scores = generate_sentence(model_n5)\n",
    "print(' '.join(word[0] for word in generated))"
   ]
  },
  {
   "cell_type": "code",
   "execution_count": null,
   "metadata": {},
   "outputs": [],
   "source": [
    "generated, scores = generate_sentence(model_n7)\n",
    "print(' '.join(word[0] for word in generated))"
   ]
  },
  {
   "cell_type": "code",
   "execution_count": null,
   "metadata": {},
   "outputs": [],
   "source": [
    "generated, scores = generate_sentence(model_n10)\n",
    "print(' '.join(word[0] for word in generated))"
   ]
  },
  {
   "cell_type": "markdown",
   "metadata": {},
   "source": [
    "### With Context"
   ]
  },
  {
   "cell_type": "code",
   "execution_count": null,
   "metadata": {},
   "outputs": [],
   "source": [
    "generated, scores = generate_sentence(model_n3, context=['this dress'])\n",
    "print(' '.join(word[0] for word in generated))"
   ]
  },
  {
   "cell_type": "code",
   "execution_count": null,
   "metadata": {},
   "outputs": [],
   "source": [
    "generated, scores = generate_sentence(model_n5, context=['this dress'])\n",
    "print(' '.join(word[0] for word in generated))"
   ]
  },
  {
   "cell_type": "code",
   "execution_count": null,
   "metadata": {},
   "outputs": [],
   "source": [
    "generated, scores = generate_sentence(model_n7, context=['this dress'])\n",
    "print(' '.join(word[0] for word in generated))"
   ]
  },
  {
   "cell_type": "code",
   "execution_count": null,
   "metadata": {},
   "outputs": [],
   "source": [
    "generated, scores = generate_sentence(model_n10, context=['this dress'])\n",
    "print(' '.join(word[0] for word in generated))"
   ]
  },
  {
   "cell_type": "code",
   "execution_count": null,
   "metadata": {},
   "outputs": [],
   "source": []
  },
  {
   "cell_type": "code",
   "execution_count": null,
   "metadata": {},
   "outputs": [],
   "source": [
    "generated, scores = generate_sentence(model_n3, context=['i like'])\n",
    "print(' '.join(word[0] for word in generated))"
   ]
  },
  {
   "cell_type": "code",
   "execution_count": null,
   "metadata": {},
   "outputs": [],
   "source": [
    "generated, scores = generate_sentence(model_n5, context=['i like'])\n",
    "print(' '.join(word[0] for word in generated))"
   ]
  },
  {
   "cell_type": "code",
   "execution_count": null,
   "metadata": {},
   "outputs": [],
   "source": [
    "generated, scores = generate_sentence(model_n7, context=['i like'])\n",
    "print(' '.join(word[0] for word in generated))"
   ]
  },
  {
   "cell_type": "code",
   "execution_count": null,
   "metadata": {},
   "outputs": [],
   "source": [
    "generated, scores = generate_sentence(model_n10, context=['i like'])\n",
    "print(' '.join(word[0] for word in generated))"
   ]
  },
  {
   "cell_type": "code",
   "execution_count": null,
   "metadata": {},
   "outputs": [],
   "source": []
  },
  {
   "cell_type": "code",
   "execution_count": null,
   "metadata": {},
   "outputs": [],
   "source": []
  }
 ],
 "metadata": {
  "kernelspec": {
   "display_name": "Python 3",
   "language": "python",
   "name": "python3"
  },
  "language_info": {
   "codemirror_mode": {
    "name": "ipython",
    "version": 3
   },
   "file_extension": ".py",
   "mimetype": "text/x-python",
   "name": "python",
   "nbconvert_exporter": "python",
   "pygments_lexer": "ipython3",
   "version": "3.5.3"
  }
 },
 "nbformat": 4,
 "nbformat_minor": 2
}
