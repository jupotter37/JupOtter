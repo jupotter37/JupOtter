{
 "cells": [
  {
   "cell_type": "markdown",
   "metadata": {},
   "source": [
    "# Protected variables"
   ]
  },
  {
   "cell_type": "code",
   "execution_count": 2,
   "metadata": {},
   "outputs": [
    {
     "name": "stdout",
     "output_type": "stream",
     "text": [
      "Freezing is 32 Celsius\n"
     ]
    }
   ],
   "source": [
    "# Figure 1: Misusing class variables.\n",
    "# Freezing is not 32 Celsius\n",
    "\n",
    "class Temperature:\n",
    "    def __init__(self, temp):\n",
    "        self.temp = temp\n",
    "    \n",
    "    def to_f(self):\n",
    "        ft = self.temp * 9 / 5 + 32\n",
    "    \n",
    "    def to_c(self):\n",
    "        return self.temp\n",
    "\n",
    "tt = Temperature(0)\n",
    "# Later in the code\n",
    "tt.temp = 32 \n",
    "print(f\"Freezing is {tt.to_c()} Celsius\")"
   ]
  },
  {
   "cell_type": "markdown",
   "metadata": {},
   "source": [
    "## Protected variables"
   ]
  },
  {
   "cell_type": "code",
   "execution_count": 4,
   "metadata": {
    "scrolled": true
   },
   "outputs": [
    {
     "name": "stdout",
     "output_type": "stream",
     "text": [
      "Freezing is 32 Celsius\n"
     ]
    }
   ],
   "source": [
    "# Figure 2: Bad programmer misuses our class\n",
    "\n",
    "class Temperature:\n",
    "    def __init__(self, temp):\n",
    "        self._temp = temp\n",
    "    \n",
    "    def set_c_temp(self, c_temp):\n",
    "        self._temp = c_temp\n",
    "        \n",
    "    def set_f_temp(self, f_temp):\n",
    "        self._temp = (f_temp - 32) * 5 / 9\n",
    "\n",
    "    def get_f_temp(self):\n",
    "        ft = self._temp * 9 / 5 + 32\n",
    "    \n",
    "    def get_c_temp(self):\n",
    "        return self._temp\n",
    "\n",
    "tt = Temperature(0)\n",
    "tt._temp = 32  #No! Bad programmer!\n",
    "print(f\"Freezing is {tt.get_c_temp()} Celsius\")"
   ]
  },
  {
   "cell_type": "markdown",
   "metadata": {},
   "source": [
    "## Private variables"
   ]
  },
  {
   "cell_type": "code",
   "execution_count": 2,
   "metadata": {},
   "outputs": [
    {
     "name": "stdout",
     "output_type": "stream",
     "text": [
      "Temp in Celsius: 0\n"
     ]
    }
   ],
   "source": [
    "# Figure 3: User tries to misuse our private variable. Fails.\n",
    "\n",
    "class Temperature:\n",
    "    def __init__(self, temp):\n",
    "        self.__temp = temp\n",
    "    \n",
    "    def set_c_temp(self, c_temp):\n",
    "        self.__temp = c_temp\n",
    "        \n",
    "    def set_f_temp(self, f_temp):\n",
    "        self.__temp = (f_temp - 32) * 5 / 9\n",
    "\n",
    "    def get_f_temp(self):\n",
    "        ft = self.__temp * 9 / 5 + 32\n",
    "    \n",
    "    def get_c_temp(self):\n",
    "        return self.__temp\n",
    "\n",
    "tt = Temperature(0)\n",
    "tt.__temp = 32 # Bad programmer!\n",
    "print (\"Temp in Celsius:\", tt.get_c_temp())"
   ]
  },
  {
   "cell_type": "markdown",
   "metadata": {},
   "source": [
    "## Properties"
   ]
  },
  {
   "cell_type": "code",
   "execution_count": 1,
   "metadata": {},
   "outputs": [
    {
     "name": "stdout",
     "output_type": "stream",
     "text": [
      "tt: 0.0 C == 32.0 F\n",
      "unset tt: "
     ]
    },
    {
     "ename": "ValueError",
     "evalue": "Temperature not set",
     "output_type": "error",
     "traceback": [
      "\u001b[0;31m---------------------------------------------------------------------------\u001b[0m",
      "\u001b[0;31mValueError\u001b[0m                                Traceback (most recent call last)",
      "\u001b[0;32m/var/folders/hr/j_1xqjnd33q_dphptrdck2y00000gn/T/ipykernel_83645/1678541101.py\u001b[0m in \u001b[0;36m<module>\u001b[0;34m\u001b[0m\n\u001b[1;32m     37\u001b[0m \u001b[0mprint\u001b[0m\u001b[0;34m(\u001b[0m\u001b[0;34m\"tt:\"\u001b[0m\u001b[0;34m,\u001b[0m \u001b[0mtt\u001b[0m\u001b[0;34m)\u001b[0m\u001b[0;34m\u001b[0m\u001b[0;34m\u001b[0m\u001b[0m\n\u001b[1;32m     38\u001b[0m \u001b[0mtt\u001b[0m \u001b[0;34m=\u001b[0m \u001b[0mTemperature\u001b[0m\u001b[0;34m(\u001b[0m\u001b[0;34m)\u001b[0m\u001b[0;34m\u001b[0m\u001b[0;34m\u001b[0m\u001b[0m\n\u001b[0;32m---> 39\u001b[0;31m \u001b[0mprint\u001b[0m\u001b[0;34m(\u001b[0m\u001b[0;34m\"unset tt:\"\u001b[0m\u001b[0;34m,\u001b[0m \u001b[0mtt\u001b[0m\u001b[0;34m)\u001b[0m\u001b[0;34m\u001b[0m\u001b[0;34m\u001b[0m\u001b[0m\n\u001b[0m",
      "\u001b[0;32m/var/folders/hr/j_1xqjnd33q_dphptrdck2y00000gn/T/ipykernel_83645/1678541101.py\u001b[0m in \u001b[0;36m__str__\u001b[0;34m(self)\u001b[0m\n\u001b[1;32m     30\u001b[0m \u001b[0;34m\u001b[0m\u001b[0m\n\u001b[1;32m     31\u001b[0m     \u001b[0;32mdef\u001b[0m \u001b[0m__str__\u001b[0m\u001b[0;34m(\u001b[0m\u001b[0mself\u001b[0m\u001b[0;34m)\u001b[0m\u001b[0;34m:\u001b[0m\u001b[0;34m\u001b[0m\u001b[0;34m\u001b[0m\u001b[0m\n\u001b[0;32m---> 32\u001b[0;31m         \u001b[0;32mreturn\u001b[0m \u001b[0;34mf\"{self.c_temp:.1f} C == {self.f_temp:.1f} F\"\u001b[0m\u001b[0;34m\u001b[0m\u001b[0;34m\u001b[0m\u001b[0m\n\u001b[0m\u001b[1;32m     33\u001b[0m \u001b[0;34m\u001b[0m\u001b[0m\n\u001b[1;32m     34\u001b[0m \u001b[0;31m# Figure 6: # Figure 6: Printing the Temperature object\u001b[0m\u001b[0;34m\u001b[0m\u001b[0;34m\u001b[0m\u001b[0;34m\u001b[0m\u001b[0m\n",
      "\u001b[0;32m/var/folders/hr/j_1xqjnd33q_dphptrdck2y00000gn/T/ipykernel_83645/1678541101.py\u001b[0m in \u001b[0;36mc_temp\u001b[0;34m(self)\u001b[0m\n\u001b[1;32m      8\u001b[0m     \u001b[0;32mdef\u001b[0m \u001b[0mc_temp\u001b[0m\u001b[0;34m(\u001b[0m\u001b[0mself\u001b[0m\u001b[0;34m)\u001b[0m\u001b[0;34m:\u001b[0m\u001b[0;34m\u001b[0m\u001b[0;34m\u001b[0m\u001b[0m\n\u001b[1;32m      9\u001b[0m         \u001b[0;32mif\u001b[0m \u001b[0mself\u001b[0m\u001b[0;34m.\u001b[0m\u001b[0m__temp\u001b[0m \u001b[0;32mis\u001b[0m \u001b[0;32mNone\u001b[0m\u001b[0;34m:\u001b[0m\u001b[0;34m\u001b[0m\u001b[0;34m\u001b[0m\u001b[0m\n\u001b[0;32m---> 10\u001b[0;31m             \u001b[0;32mraise\u001b[0m \u001b[0mValueError\u001b[0m\u001b[0;34m(\u001b[0m\u001b[0;34m\"Temperature not set\"\u001b[0m\u001b[0;34m)\u001b[0m\u001b[0;34m\u001b[0m\u001b[0;34m\u001b[0m\u001b[0m\n\u001b[0m\u001b[1;32m     11\u001b[0m         \u001b[0;32mreturn\u001b[0m \u001b[0mself\u001b[0m\u001b[0;34m.\u001b[0m\u001b[0m__temp\u001b[0m\u001b[0;34m\u001b[0m\u001b[0;34m\u001b[0m\u001b[0m\n\u001b[1;32m     12\u001b[0m \u001b[0;34m\u001b[0m\u001b[0m\n",
      "\u001b[0;31mValueError\u001b[0m: Temperature not set"
     ]
    }
   ],
   "source": [
    "# Figure 4: Defining properties\n",
    "  \n",
    "class Temperature:\n",
    "    def __init__(self, c_temp=None):\n",
    "        self.__temp = c_temp\n",
    "    \n",
    "    @property   \n",
    "    def c_temp(self):\n",
    "        if self.__temp is None:\n",
    "            raise ValueError(\"Temperature not set\")\n",
    "        return self.__temp\n",
    "\n",
    "    \n",
    "    @c_temp.setter\n",
    "    def c_temp(self, c_temp):\n",
    "        self.__temp = c_temp\n",
    "\n",
    "# Figure 5: Creating additional properties\n",
    "        \n",
    "    @property\n",
    "    def f_temp(self):\n",
    "        if self.__temp is None:\n",
    "            raise ValueError(\"Temperature not set\")\n",
    "            return None\n",
    "        return self.__temp * 9 / 5 + 32\n",
    "\n",
    "    @f_temp.setter\n",
    "    def f_temp(self, f_temp):\n",
    "        self.__temp = (f_temp - 32) * 5 / 9\n",
    "    \n",
    "    def __str__(self):\n",
    "        return f\"{self.c_temp:.1f} C == {self.f_temp:.1f} F\"\n",
    "    \n",
    "# Figure 6: # Figure 6: Printing the Temperature object\n",
    "# Exception if temperature not set\n",
    "tt = Temperature(0)\n",
    "print(\"tt:\", tt)\n",
    "tt = Temperature()\n",
    "print(\"unset tt:\", tt)"
   ]
  },
  {
   "cell_type": "code",
   "execution_count": null,
   "metadata": {},
   "outputs": [],
   "source": []
  }
 ],
 "metadata": {
  "kernelspec": {
   "display_name": "Python 3 (ipykernel)",
   "language": "python",
   "name": "python3"
  },
  "language_info": {
   "codemirror_mode": {
    "name": "ipython",
    "version": 3
   },
   "file_extension": ".py",
   "mimetype": "text/x-python",
   "name": "python",
   "nbconvert_exporter": "python",
   "pygments_lexer": "ipython3",
   "version": "3.8.12"
  }
 },
 "nbformat": 4,
 "nbformat_minor": 4
}
