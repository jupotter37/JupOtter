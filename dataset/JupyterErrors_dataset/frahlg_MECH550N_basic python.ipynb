{
  "cells": [
    {
      "cell_type": "markdown",
      "source": [
        "<h1>\n",
        "Python Basics for Data Science\n",
        "</h1>\n",
        "<b>Author: </b> <a href=\"https://towardsdatascience.com/@ventsislav94\">Ventsislav Yordanov</a><br/>\n",
        "<b>Original article: </b> <a href=\"https://towardsdatascience.com/python-basics-for-data-science-6a6c987f2755\">towardsdatascience.com</a><br/><br/>\n",
        "\n",
        "<img src=\"https://miro.medium.com/max/1400/1*7EUX9QIjq2x1JyFKcjhXsA.png\"/>\n",
        "\n",
        "<h1 id=\"7464\">\n",
        "Python Data Types\n",
        "</h1>\n",
        "<p id=\"1c30\">\n",
        "In Python, we have many data types. The most common ones are float (floating point), int (integer), str (string), bool (Boolean), list, and dict (dictionary).\n",
        "</p>\n",
        "<ul>\n",
        "<li id=\"2c2e\">\n",
        "float - used for real numbers.\n",
        "</li>\n",
        "<li id=\"a366\">\n",
        "int - used for integers.\n",
        "</li>\n",
        "<li id=\"1a7f\">\n",
        "str - used for texts. We can define strings using single quotes\n",
        "<code>\n",
        "'value'\n",
        "</code>\n",
        ", double quotes\n",
        "<code>\n",
        "\"value\"\n",
        "</code>\n",
        ", or triple quotes\n",
        "<code>\n",
        "\"\"\"value\"\"\"\n",
        "</code>\n",
        ". The triple quoted strings can be on multiple lines, the new lines will be included in the value of the variable. They’re also used for writing function documentation.\n",
        "</li>\n",
        "<li id=\"9187\">\n",
        "bool - used for truthy values. Useful to perform a filtering operation on a data.\n",
        "</li>\n",
        "<li id=\"56a0\">\n",
        "list - used to store a collection of values.\n",
        "</li>\n",
        "<li id=\"0107\">\n",
        "dict - used to store a key-values pairs.\n",
        "</li>\n",
        "</ul>\n",
        "<p id=\"57ee\">\n",
        "We can use the\n",
        "<code>\n",
        "type(variable_name)\n",
        "</code>\n",
        "function to check the type of a specific variable. Operators in Python behave differently depending on the variable’s type and there are different built-in methods for each one.\n",
        "</p>\n",
        "<p id=\"d207\">\n",
        "Here we can look at some examples with creating a floating points, intergers, strings and booleans in Python.\n",
        "</p>"
      ],
      "metadata": {}
    },
    {
      "cell_type": "code",
      "source": [
        "year_of_birth = 1994\n",
        "height_cm = 170.50\n",
        "subject = \"Data Science\"\n",
        "is_success = True\n",
        "\n",
        "print(type(year_of_birth), type(height_cm), type(subject), type(is_success))"
      ],
      "outputs": [
        {
          "output_type": "stream",
          "name": "stdout",
          "text": [
            "<class 'int'> <class 'float'> <class 'str'> <class 'bool'>\n"
          ]
        }
      ],
      "execution_count": null,
      "metadata": {
        "tags": []
      }
    },
    {
      "cell_type": "markdown",
      "source": [
        "<h1 id=\"a308\">\n",
        "Python Lists\n",
        "</h1>\n",
        "<p id=\"2182\">\n",
        "Python list is a basic sequence type. We can use this type to store a collection of values. One list can contain values of\n",
        "<strong>\n",
        "any type\n",
        "</strong>\n",
        ". It is possible that one list contains another nested lists for its values. It’s not commonly used, but you can have a list with a mix of Python types. You can create a new one using square brackets like this:\n",
        "</p>\n",
        "<p id=\"da02\">\n",
        "<code>\n",
        "fruits = [\"pineapple\", \"apple\", \"lemon\", \"strawberry\", \"orange\", \"kiwi\"]\n",
        "</code>\n",
        "</p>\n",
        "<h2 id=\"e372\">\n",
        "Subsetting Lists\n",
        "</h2>\n",
        "<p id=\"abda\">\n",
        "You can use indexes to get element or elements from the list. In Python, the indexes start from\n",
        "<code>\n",
        "0.\n",
        "</code>\n",
        "Therefore, the first element in the list will have an index\n",
        "<code>\n",
        "0\n",
        "</code>\n",
        ". We can also use negative indexes to access elements. The last element in the list will have an index\n",
        "<code>\n",
        "-1\n",
        "</code>\n",
        ", the one before the last one will have an index\n",
        "<code>\n",
        "-2\n",
        "</code>\n",
        "and so on. We have also something called\n",
        "<strong>\n",
        "list slicing\n",
        "</strong>\n",
        "in Python which can be used to get multiple elements from a list. We can use it like this:\n",
        "<code>\n",
        "sliceable[start_index:end_index:step].\n",
        "</code>\n",
        "</p>\n",
        "<ul>\n",
        "<li id=\"b202\">\n",
        "The\n",
        "<code>\n",
        "start_index\n",
        "</code>\n",
        "is the beginning index of the slice, the element at this index will be included to the result, the default value is\n",
        "<code>\n",
        "0\n",
        "</code>\n",
        ".\n",
        "</li>\n",
        "<li id=\"e1d3\">\n",
        "The\n",
        "<code>\n",
        "end_index\n",
        "</code>\n",
        "is the end index of the slice, the element at this index will\n",
        "<strong>\n",
        "not be included\n",
        "</strong>\n",
        "to the result, the default value will be the\n",
        "<code>\n",
        "length of the list\n",
        "</code>\n",
        ". Also, the default value can be\n",
        "<code>\n",
        "- length of the list -1\n",
        "</code>\n",
        "if the step is negative. If you skip this, you will get all the elements from the start index to the end.\n",
        "</li>\n",
        "<li id=\"2875\">\n",
        "The\n",
        "<code>\n",
        "step\n",
        "</code>\n",
        "is the amount by which the index increases,\n",
        "<br/>\n",
        "the default value is\n",
        "<code>\n",
        "1\n",
        "</code>\n",
        ". If we set a negative value for the step, we’ll move backward.\n",
        "</li>\n",
        "</ul>"
      ],
      "metadata": {
        "tags": []
      }
    },
    {
      "cell_type": "code",
      "source": [
        "fruits = [\"pineapple\", \"apple\", \"lemon\", \"strawberry\", \"orange\", \"kiwi\"]\n",
        "fruits[1]  # apple\n",
        "fruits[0]  # \"pineapple\"\n",
        "fruits[-1] # \"kiwi\"\n",
        "fruits[5]  # \"kiwi\"\n",
        "fruits[-3] # \"strawberry\"\n",
        "\n",
        "# List slicing\n",
        "fruits[::]    # [\"pineapple\", \"apple\", \"lemon\", \"strawberry\", \"orange\", \"kiwi\"]\n",
        "fruits[0:2]   # [\"pineapple\", \"apple\"]\n",
        "fruits[-2:-1] # [\"orange\"]\n",
        "fruits[3:]    # [\"strawberry\", \"orange\", \"kiwi\"]\n",
        "fruits[:4]    # [\"pineapple\", \"apple\", \"lemon\", \"strawberry\"]\n",
        "fruits[:]     # [\"pineapple\", \"apple\", \"lemon\", \"strawberry\", \"orange\", \"kiwi\"]\n",
        "fruits[::-1]  # [\"kiwi\", \"orange\", \"strawberry\", \"lemon\", \"apple\", \"pineapple\"]\n",
        "fruits[::-2]  # [\"kiwi\", \"strawberry\", \"apple\"]\n",
        "fruits[::2]   # [\"pineapple\", \"lemon\", \"orange\"]"
      ],
      "outputs": [
        {
          "output_type": "execute_result",
          "execution_count": 4,
          "data": {
            "text/plain": [
              "['pineapple', 'lemon', 'orange']"
            ]
          },
          "metadata": {}
        }
      ],
      "execution_count": null,
      "metadata": {
        "tags": []
      }
    },
    {
      "cell_type": "markdown",
      "source": [
        "<h2 id=\"3916\">\n",
        "List Manipulation\n",
        "</h2>\n",
        "<ul>\n",
        "<li id=\"b899\">\n",
        "We can add element or elements to a list using\n",
        "<code>\n",
        "append\n",
        "</code>\n",
        "method or by using the\n",
        "<code>\n",
        "plus operator\n",
        "</code>\n",
        ". If you’re using the plus operator on two lists, Python will give a new list of the contents of the two lists.\n",
        "</li>\n",
        "<li id=\"24ae\">\n",
        "We can change element or elements to list using the same square brackets that we already used for indexing and list slicing.\n",
        "</li>\n",
        "<li id=\"40ba\">\n",
        "We can delete an element from a list with the\n",
        "<code>\n",
        "remove(value)\n",
        "</code>\n",
        "method. This method will delete the first element of the list with the passed value.\n",
        "</li>\n",
        "</ul>"
      ],
      "metadata": {
        "tags": []
      }
    },
    {
      "cell_type": "code",
      "source": [
        "# Add values to a list\n",
        "fruits.append(\"peach\")\n",
        "fruits # [\"pineapple\", \"apple\", \"lemon\", \"strawberry\", \"orange\", \"kiwi\", \"peach\"]\n",
        "fruits = fruits + [\"fig\", \"melon\"]\n",
        "fruits # [\"pineapple\", \"apple\", \"lemon\", \"strawberry\", \"orange\", \"kiwi\", \"peach\", \"fig\", \"melon\"]\n",
        "\n",
        "# Change values from a list\n",
        "fruits[0:2] = [\"grape\", \"mango\"]\n",
        "fruits # [\"grape\", \"mango\", \"lemon\", \"strawberry\", \"orange\", \"kiwi\", \"peach\", \"fig\", \"melon\"]\n",
        "\n",
        "# Delete values from a list\n",
        "fruits.remove(\"mango\")\n",
        "fruits # [\"grape\", \"lemon\", \"strawberry\", \"orange\", \"kiwi\", \"peach\", \"fig\", \"melon\"]"
      ],
      "outputs": [],
      "execution_count": null,
      "metadata": {
        "tags": []
      }
    },
    {
      "cell_type": "markdown",
      "source": [
        "<p id=\"6b4e\">\n",
        "It’s important to understand how lists work behind the scenes in Python. When you create a new list\n",
        "<code>\n",
        "my_list\n",
        "</code>\n",
        ", you’re storing the list in your computer memory, and the address of that list is stored in the\n",
        "<code>\n",
        "my_list\n",
        "</code>\n",
        "variable. The variable\n",
        "<code>\n",
        "my_list\n",
        "</code>\n",
        "doesn’t contain the elements of the list. It contains a reference to the list. If we copy a list with the equal sign only like this\n",
        "<code>\n",
        "my_list_copy = my_list\n",
        "</code>\n",
        ", you’ll have the reference copied in the\n",
        "<code>\n",
        "my_list_copy\n",
        "</code>\n",
        "variable instead of the list values. So, if you want to copy the actual values, you can use the\n",
        "<code>\n",
        "list(my_list)\n",
        "</code>\n",
        "function or slicing\n",
        "<code>\n",
        "[:]\n",
        "</code>\n",
        ".\n",
        "</p>"
      ],
      "metadata": {
        "tags": []
      }
    },
    {
      "cell_type": "code",
      "source": [
        "numbers = [10, 42, 28, 420]\n",
        "numbers_copy = numbers\n",
        "numbers_copy[2] = 100\n",
        "numbers      # [10, 42, 100, 420]\n",
        "numbers_copy # [10, 42, 100, 420]\n",
        "\n",
        "ratings = [4.5, 5.0, 3.5, 4.75, 4.00]\n",
        "ratings_copy = ratings[:]\n",
        "ratings_copy[0] = 2.0\n",
        "ratings      # [4.5, 5.0, 3.5, 4.75, 4.0]\n",
        "ratings_copy # [2.0, 5.0, 3.5, 4.75, 4.0]\n",
        "\n",
        "characters = [\"A\", \"B\", \"C\"]\n",
        "characters_copy = list(characters)\n",
        "characters_copy[-1] = \"D\"\n",
        "characters      # [\"A\", \"B\", \"C\"]\n",
        "characters_copy # [\"A\", \"B\", \"D\"]"
      ],
      "outputs": [
        {
          "output_type": "execute_result",
          "execution_count": 6,
          "data": {
            "text/plain": [
              "['A', 'B', 'D']"
            ]
          },
          "metadata": {}
        }
      ],
      "execution_count": null,
      "metadata": {
        "tags": []
      }
    },
    {
      "cell_type": "markdown",
      "source": [
        "<h1 id=\"5c62\">\n",
        "Python Dictionaries\n",
        "</h1>\n",
        "<p id=\"ea53\">\n",
        "The dictionaries are used to store\n",
        "<strong>\n",
        "key-value pairs\n",
        "</strong>\n",
        ". They are helpful when you want your values to be indexed by\n",
        "<strong>\n",
        "unique keys\n",
        "</strong>\n",
        ". In Python, you can create a dictionary using\n",
        "<strong>\n",
        "curly braces\n",
        "</strong>\n",
        ". Also, a key and a value are separated by a\n",
        "<strong>\n",
        "colon\n",
        "</strong>\n",
        ". If we want to get the value for a given key, we can do it like that:\n",
        "<code>\n",
        "our_dict[key]\n",
        "</code>\n",
        ".\n",
        "</p>\n",
        "<h2 id=\"d159\">\n",
        "Dictionaries vs Lists\n",
        "</h2>\n",
        "<p id=\"a0f6\">\n",
        "Let’s see an example and compare the lists versus dictionaries. Imagine that we have some movies and you want to store the ratings for them. Also, we want to access the rating for a movie very fast by having the movie name. We can do this by using two lists or one dictionary. In examples the\n",
        "<code>\n",
        "movies.index(“Ex Machina”)\n",
        "</code>\n",
        "code returns the index for the “Ex Machina” movie.\n",
        "</p>"
      ],
      "metadata": {
        "tags": []
      }
    },
    {
      "cell_type": "code",
      "source": [
        "movies = [\"Ex Machina\", \"Mad Max: Fury Road\", \"1408\"]\n",
        "ratings = [7.7, 8.1, 6.8]\n",
        "\n",
        "movie_choice_index = movies.index(\"Ex Machina\")\n",
        "print(ratings[movie_choice_index]) # 7.7"
      ],
      "outputs": [
        {
          "output_type": "stream",
          "name": "stdout",
          "text": [
            "7.7\n"
          ]
        }
      ],
      "execution_count": null,
      "metadata": {
        "tags": []
      }
    },
    {
      "cell_type": "code",
      "source": [
        "ratings = {\n",
        "    \"Ex Machina\": 7.7,\n",
        "    \"Mad Max: Fury Road\": 8.1,\n",
        "    \"1408\" : 6.8\n",
        "}\n",
        "\n",
        "print(ratings[\"Ex Machina\"]) # 7.7"
      ],
      "outputs": [
        {
          "output_type": "stream",
          "name": "stdout",
          "text": [
            "7.7\n"
          ]
        }
      ],
      "execution_count": null,
      "metadata": {
        "tags": []
      }
    },
    {
      "cell_type": "markdown",
      "source": [
        "<p id=\"b36f\">\n",
        "In this case, the usage of a dictionary is a more intuitive and convenient way to represent the ratings.\n",
        "</p>\n",
        "<h2 id=\"12e9\">\n",
        "Dictionaries Operations\n",
        "</h2>\n",
        "<p id=\"4ad9\">\n",
        "We can\n",
        "<strong>\n",
        "add\n",
        "</strong>\n",
        ",\n",
        "<strong>\n",
        "update\n",
        "</strong>\n",
        ", and\n",
        "<strong>\n",
        "delete\n",
        "</strong>\n",
        "data from our dictionaries. When we want to add or update the data we can simply use this code\n",
        "<code>\n",
        "our_dict[key] = value\n",
        "</code>\n",
        ". When we want to delete a key-value pair we do this like that\n",
        "<code>\n",
        "del(our_dict[key])\n",
        "</code>\n",
        ".\n",
        "</p>"
      ],
      "metadata": {
        "tags": []
      }
    },
    {
      "cell_type": "code",
      "source": [
        "ratings[\"Deadpool\"] = 8.0\n",
        "print(ratings) # {'Ex Machina': 7.7, 'Mad Max: Fury Road': 8.1, '1408': 6.8, 'Deadpool': 8.0}\n",
        "\n",
        "ratings[\"Ex Machina\"] = 7.8\n",
        "print(ratings) # {'Ex Machina': 7.8, 'Mad Max: Fury Road': 8.1, '1408': 6.8, 'Deadpool': 8.0}\n",
        "\n",
        "del(ratings[\"1408\"])\n",
        "print(ratings) # {'Ex Machina': 7.8, 'Mad Max: Fury Road': 8.1, 'Deadpool': 8.0}"
      ],
      "outputs": [
        {
          "output_type": "stream",
          "name": "stdout",
          "text": [
            "{'Ex Machina': 7.7, 'Mad Max: Fury Road': 8.1, '1408': 6.8, 'Deadpool': 8.0}\n",
            "{'Ex Machina': 7.8, 'Mad Max: Fury Road': 8.1, '1408': 6.8, 'Deadpool': 8.0}\n",
            "{'Ex Machina': 7.8, 'Mad Max: Fury Road': 8.1, 'Deadpool': 8.0}\n"
          ]
        }
      ],
      "execution_count": null,
      "metadata": {
        "tags": []
      }
    },
    {
      "cell_type": "markdown",
      "source": [
        "<p id=\"0054\">\n",
        "We can also check if a given key is in our dictionary like that:\n",
        "<code>\n",
        "key in our_dict\n",
        "</code>\n",
        ".\n",
        "</p>\n"
      ],
      "metadata": {
        "tags": []
      }
    },
    {
      "cell_type": "code",
      "source": [
        "print(\"Ex Machina\" in ratings) # True"
      ],
      "outputs": [
        {
          "output_type": "stream",
          "name": "stdout",
          "text": [
            "True\n"
          ]
        }
      ],
      "execution_count": null,
      "metadata": {
        "tags": []
      }
    },
    {
      "cell_type": "markdown",
      "source": [
        "<h1 id=\"70ce\">\n",
        "Functions\n",
        "</h1>\n",
        "<p id=\"df8c\">\n",
        "A function is a piece of reusable code solving a specific task. We can write our functions using the\n",
        "<code>\n",
        "def\n",
        "</code>\n",
        "keyword like that:\n",
        "</p>"
      ],
      "metadata": {
        "tags": []
      }
    },
    {
      "cell_type": "code",
      "source": [
        "def is_prime(n):\n",
        "    if n <= 1:\n",
        "        return False\n",
        "    elif n <= 3:\n",
        "        return True\n",
        "    elif n % 2 == 0 or n % 3 == 0:\n",
        "        return False\n",
        "    current_number = 5\n",
        "    while current_number * current_number <= n:\n",
        "        if n % current_number == 0 or n % (current_number + 2) == 0:\n",
        "            return False\n",
        "        current_number = current_number + 6\n",
        "    return True"
      ],
      "outputs": [],
      "execution_count": null,
      "metadata": {
        "tags": []
      }
    },
    {
      "cell_type": "markdown",
      "source": [
        "\n",
        "<p id=\"b707\">\n",
        "However, there are many built-in function in Python like\n",
        "<code>\n",
        "max(iterable [, key]),\n",
        "</code>\n",
        ",\n",
        "<code>\n",
        "min(iterable [, key])\n",
        "</code>\n",
        ",\n",
        "<code>\n",
        "type(object)\n",
        "</code>\n",
        ",\n",
        "<code>\n",
        "round(number [, ndigits])\n",
        "</code>\n",
        ", etc. So, in many cases when we need a function that solves a given task, we can research for a built-in function that solves this task or a Python package for that. We don’t have to “\n",
        "<a href=\"https://en.wikipedia.org/wiki/Reinventing_the_wheel\">\n",
        "reinventing the wheel\n",
        "</a>\n",
        "”.\n",
        "</p>\n",
        "<p id=\"8d75\">\n",
        "Most of the functions take some input and return some output. These functions have arguments, and Python matches the passed inputs in a function call to the arguments. If square brackets surround an argument, it’s optional.\n",
        "</p>\n",
        "<p id=\"8160\">\n",
        "We can use the function\n",
        "<code>\n",
        "help([object])\n",
        "</code>\n",
        "or\n",
        "<code>\n",
        "?function_name\n",
        "</code>\n",
        "to see the documentation of any function. If we’re using Jupyter Notebook, the\n",
        "<code>\n",
        "help\n",
        "</code>\n",
        "function will show us the documentation in the current cell, while the second option will show us the documentation in the pager.\n",
        "</p>\n",
        "<h1 id=\"ac88\">\n",
        "Methods\n",
        "</h1>\n",
        "<p id=\"4533\">\n",
        "We’ve seen that we have strings, floats, integers, booleans, etc. in Python. Each one of these data structures is an object. A method is a function that is available for a given object depending on the object’s type. So, each object has a specific type and a set of methods depending on this type.\n",
        "</p>"
      ],
      "metadata": {
        "tags": []
      }
    },
    {
      "cell_type": "code",
      "source": [
        "# String methods\n",
        "text = \"Data Science\" \n",
        "text.upper() # \"DATA SCIENCE\"\n",
        "text.lower() # \"data science\"\n",
        "text.capitalize() # \"Data science\"\n",
        "\n",
        "# Lists methods\n",
        "numbers = [1, 4, 0, 2, 9, 9, 10]\n",
        "numbers.reverse()\n",
        "print(numbers) # [10, 9, 9, 2, 0, 4, 1]\n",
        "numbers.sort()\n",
        "print(numbers) # [0, 1, 2, 4, 9, 9, 10]\n",
        "\n",
        "# Dictionaris methods\n",
        "ratings = {\n",
        "    \"Ex Machina\": 7.7,\n",
        "    \"Mad Max: Fury Road\": 8.1,\n",
        "    \"1408\" : 6.8\n",
        "}\n",
        "\n",
        "print(ratings.keys()) # dict_keys(['Ex Machina', 'Mad Max: Fury Road', '1408'])\n",
        "print(ratings.values()) # dict_values([7.7, 8.1, 6.8])\n",
        "print(ratings.items()) # dict_items([('Ex Machina', 7.7), ('Mad Max: Fury Road', 8.1), ('1408', 6.8)])"
      ],
      "outputs": [
        {
          "output_type": "stream",
          "name": "stdout",
          "text": [
            "[10, 9, 9, 2, 0, 4, 1]\n",
            "[0, 1, 2, 4, 9, 9, 10]\n",
            "dict_keys(['Ex Machina', 'Mad Max: Fury Road', '1408'])\n",
            "dict_values([7.7, 8.1, 6.8])\n",
            "dict_items([('Ex Machina', 7.7), ('Mad Max: Fury Road', 8.1), ('1408', 6.8)])\n"
          ]
        }
      ],
      "execution_count": null,
      "metadata": {
        "tags": []
      }
    },
    {
      "cell_type": "markdown",
      "source": [
        "<p id=\"3b91\">\n",
        "Objects with different type can have methods with the same name. Depending on the object’s type, methods have different behavior.\n",
        "</p>"
      ],
      "metadata": {
        "tags": []
      }
    },
    {
      "cell_type": "code",
      "source": [
        "numbers = [10, 30, 55, 40, 8, 30]\n",
        "text = \"Data Science\"\n",
        "\n",
        "numbers.index(8)  # 4\n",
        "text.index(\"a\")   # 1\n",
        "\n",
        "numbers.count(30) # 2\n",
        "text.count(\"i\")   # 1dd"
      ],
      "outputs": [
        {
          "output_type": "execute_result",
          "execution_count": 14,
          "data": {
            "text/plain": [
              "1"
            ]
          },
          "metadata": {}
        }
      ],
      "execution_count": null,
      "metadata": {
        "tags": []
      }
    },
    {
      "cell_type": "markdown",
      "source": [
        "<p id=\"cef1\">\n",
        "Watch out! Some methods can change the objects they are called on. For example, the\n",
        "<code>\n",
        "append()\n",
        "</code>\n",
        "method called on list type.\n",
        "</p>\n",
        "<h1 id=\"2ab5\">\n",
        "Packages\n",
        "</h1>\n",
        "<p id=\"2275\">\n",
        "A module is a file containing Python definitions and statements. Modules specify functions, methods and new Python types which solved particular problems.\n",
        "</p>\n",
        "<p id=\"7a4f\">\n",
        "A package is a collection of modules in directories. There are many available packages for Python covering different problems. For example, “NumPy”, “matplotlib”, “seaborn”, and “scikit-learn” are very famous data science packages.\n",
        "</p>\n",
        "<ul>\n",
        "<li id=\"de87\">\n",
        "“NumPy” is used for efficiently working with arrays\n",
        "</li>\n",
        "<li id=\"1957\">\n",
        "“matplotlib” and “seaborn” are popular libraries used for data visualization\n",
        "</li>\n",
        "<li id=\"2090\">\n",
        "“scikit-learn” is a powerful library for machine learning\n",
        "</li>\n",
        "</ul>\n",
        "<p id=\"6a4b\">\n",
        "There are some packages available in Python by default, but there are also so many packages that we need and that we don’t have by default. If we want to use some package, we have to have it installed already or just install it using pip (package maintenance system for Python).\n",
        "</p>\n",
        "<p id=\"6128\">\n",
        "However, there is also something called “Anaconda”.\n",
        "</p>\n",
        "<blockquote>\n",
        "<p id=\"3967\">\n",
        "Anaconda Distribution is a free, easy-to-install package manager, environment manager and Python distribution with a collection of 1,000+ open source packages with free community support.\n",
        "</p>\n",
        "</blockquote>\n",
        "<p id=\"4feb\">\n",
        "So, if you don’t want to install many packages, I’ll recommend you to use the “Anaconda”. There are so many useful packages in this distribution.\n",
        "</p>\n",
        "<h2 id=\"38a8\">\n",
        "Import Statements\n",
        "</h2>\n",
        "<p id=\"cbf2\">\n",
        "Once you have installed the needed packages, you can import them into your Python files. We can import an entire package, submodules or specific functions from it. Also, we can add an alias for a package. We can see the different ways of import statements from the examples below.\n",
        "</p>"
      ],
      "metadata": {
        "tags": []
      }
    },
    {
      "cell_type": "code",
      "source": [
        "import numpy\n",
        "numbers = numpy.array([3, 4, 20, 15, 7, 19, 0])"
      ],
      "outputs": [],
      "execution_count": null,
      "metadata": {
        "tags": []
      }
    },
    {
      "cell_type": "code",
      "source": [
        "import numpy as np # np is an alias for the numpy package\n",
        "numbers = np.array([3, 4, 20, 15, 7, 19, 0]) # works fine\n",
        "numbers = numpy.array([3, 4, 20, 15, 7, 19, 0]) # NameError: name 'numpy' is not defined"
      ],
      "outputs": [],
      "execution_count": null,
      "metadata": {
        "tags": []
      }
    },
    {
      "cell_type": "code",
      "source": [
        "# import the \"pyplot\" submodule from the \"matplotlib\" package with alias \"plt\"\n",
        "import matplotlib.pyplot as plt"
      ],
      "outputs": [],
      "execution_count": null,
      "metadata": {
        "tags": []
      }
    },
    {
      "cell_type": "code",
      "source": [
        "from numpy import array\n",
        "numbers = array([3, 4, 20, 15, 7, 19, 0]) # works fine\n",
        "numbers = numpy.array([3, 4, 20, 15, 7, 19, 0]) # NameError: name 'numpy' is not defined\n",
        "type(numbers) # numpy.ndarray"
      ],
      "outputs": [
        {
          "output_type": "execute_result",
          "execution_count": 19,
          "data": {
            "text/plain": [
              "numpy.ndarray"
            ]
          },
          "metadata": {}
        }
      ],
      "execution_count": null,
      "metadata": {
        "tags": []
      }
    },
    {
      "cell_type": "markdown",
      "source": [
        "<p id=\"ead5\">\n",
        "We can also do something like this\n",
        "<code>\n",
        "from numpy import *\n",
        "</code>\n",
        ". The asterisk symbol here means to import everything from that module. This import statement creates references in the current namespace to all public objects defined by the\n",
        "<code>\n",
        "numpy\n",
        "</code>\n",
        "module. In other words, we can just use all available functions from\n",
        "<code>\n",
        "numpy\n",
        "</code>\n",
        "only with their names without prefix. For example, now we can use the NumPy’s absolute function like that\n",
        "<code>\n",
        "absolute()\n",
        "</code>\n",
        "instead of\n",
        "<code>\n",
        "numpy.absolute()\n",
        "</code>\n",
        ".\n",
        "<br/>\n",
        "However, I’m not recommending you to use that because:\n",
        "</p>\n",
        "<ul>\n",
        "<li id=\"3e30\">\n",
        "If we import all functions from some modules like that, the current namespace will be filled with so many functions and if someone looks our code, he or she can get confused from which package is a specific function.\n",
        "</li>\n",
        "<li id=\"0186\">\n",
        "If two modules have a function with the same name, the second import will override the function of the first.\n",
        "</li>\n",
        "</ul>\n",
        "<h1 id=\"e885\">\n",
        "NumPy\n",
        "</h1>\n",
        "<p id=\"6765\">\n",
        "NumPy is a fundamental package for scientific computing with Python. It’s very fast and easy to use. This package helps us to make calculations element-wise (element by element).\n",
        "</p>\n",
        "<p id=\"e9c5\">\n",
        "The regular Python list doesn’t know how to do operations element-wise. Of course, we can use Python lists, but they’re slow, and we need more code to achieve a wanted result. A better decision in most cases is to use\n",
        "<code>\n",
        "NumPy\n",
        "</code>\n",
        ".\n",
        "</p>\n",
        "<p id=\"f686\">\n",
        "Unlike the regular Python list, the NumPy array always has one single type. If we pass an array with different types to the\n",
        "<code>\n",
        "np.array()\n",
        "</code>\n",
        ", we can choose the wanted type using the parameter\n",
        "<code>\n",
        "dtype\n",
        "</code>\n",
        ". If this parameter is not given, then the type will be determined as the minimum type required to hold the objects.\n",
        "</p>"
      ],
      "metadata": {
        "tags": []
      }
    },
    {
      "cell_type": "code",
      "source": [
        "np.array([False, 42, \"Data Science\"])       # array([\"False\", \"42\", \"Data Science\"], dtype=\"<U12\")\n",
        "np.array([False, 42], dtype = int)          # array([ 0, 42])\n",
        "np.array([False, 42, 53.99], dtype = float) # array([  0.  ,  42.  ,  53.99])\n",
        "\n",
        "# Invalid converting\n",
        "np.array([False, 42, \"Data Science\"], dtype = float) # could not convert string to float: 'Data Science'"
      ],
      "outputs": [
        {
          "output_type": "error",
          "ename": "ValueError",
          "evalue": "could not convert string to float: 'Data Science'",
          "traceback": [
            "\u001b[0;31m---------------------------------------------------------------------------\u001b[0m",
            "\u001b[0;31mValueError\u001b[0m                                Traceback (most recent call last)",
            "\u001b[0;32m<ipython-input-20-868251ddcd97>\u001b[0m in \u001b[0;36m<module>\u001b[0;34m\u001b[0m\n\u001b[1;32m      4\u001b[0m \u001b[0;34m\u001b[0m\u001b[0m\n\u001b[1;32m      5\u001b[0m \u001b[0;31m# Invalid converting\u001b[0m\u001b[0;34m\u001b[0m\u001b[0;34m\u001b[0m\u001b[0;34m\u001b[0m\u001b[0m\n\u001b[0;32m----> 6\u001b[0;31m \u001b[0mnp\u001b[0m\u001b[0;34m.\u001b[0m\u001b[0marray\u001b[0m\u001b[0;34m(\u001b[0m\u001b[0;34m[\u001b[0m\u001b[0;32mFalse\u001b[0m\u001b[0;34m,\u001b[0m \u001b[0;36m42\u001b[0m\u001b[0;34m,\u001b[0m \u001b[0;34m\"Data Science\"\u001b[0m\u001b[0;34m]\u001b[0m\u001b[0;34m,\u001b[0m \u001b[0mdtype\u001b[0m \u001b[0;34m=\u001b[0m \u001b[0mfloat\u001b[0m\u001b[0;34m)\u001b[0m \u001b[0;31m# could not convert string to float: 'Data Science'\u001b[0m\u001b[0;34m\u001b[0m\u001b[0;34m\u001b[0m\u001b[0m\n\u001b[0m",
            "\u001b[0;31mValueError\u001b[0m: could not convert string to float: 'Data Science'"
          ]
        },
        {
          "output_type": "error",
          "ename": "ValueError",
          "evalue": "could not convert string to float: 'Data Science'",
          "traceback": [
            "\u001b[0;31m---------------------------------------------------------------------------\u001b[0m",
            "\u001b[0;31mValueError\u001b[0m                                Traceback (most recent call last)",
            "\u001b[0;32m<ipython-input-20-868251ddcd97>\u001b[0m in \u001b[0;36m<module>\u001b[0;34m\u001b[0m\n\u001b[1;32m      4\u001b[0m \u001b[0;34m\u001b[0m\u001b[0m\n\u001b[1;32m      5\u001b[0m \u001b[0;31m# Invalid converting\u001b[0m\u001b[0;34m\u001b[0m\u001b[0;34m\u001b[0m\u001b[0;34m\u001b[0m\u001b[0m\n\u001b[0;32m----> 6\u001b[0;31m \u001b[0mnp\u001b[0m\u001b[0;34m.\u001b[0m\u001b[0marray\u001b[0m\u001b[0;34m(\u001b[0m\u001b[0;34m[\u001b[0m\u001b[0;32mFalse\u001b[0m\u001b[0;34m,\u001b[0m \u001b[0;36m42\u001b[0m\u001b[0;34m,\u001b[0m \u001b[0;34m\"Data Science\"\u001b[0m\u001b[0;34m]\u001b[0m\u001b[0;34m,\u001b[0m \u001b[0mdtype\u001b[0m \u001b[0;34m=\u001b[0m \u001b[0mfloat\u001b[0m\u001b[0;34m)\u001b[0m \u001b[0;31m# could not convert string to float: 'Data Science'\u001b[0m\u001b[0;34m\u001b[0m\u001b[0;34m\u001b[0m\u001b[0m\n\u001b[0m",
            "\u001b[0;31mValueError\u001b[0m: could not convert string to float: 'Data Science'"
          ]
        }
      ],
      "execution_count": null,
      "metadata": {
        "tags": []
      }
    },
    {
      "cell_type": "markdown",
      "source": [
        "<p id=\"3980\">\n",
        "NumPy array comes with his own attributes and methods. Remember that the operators in Python behave differently on the different data types? Well, in NumPy the operators behave element-wise.\n",
        "</p>"
      ],
      "metadata": {
        "tags": []
      }
    },
    {
      "cell_type": "code",
      "source": [
        "np.array([37, 48, 50]) + 1 # array([38, 49, 51])\n",
        "np.array([20, 30, 40]) * 2 # array([40, 60, 80])\n",
        "np.array([42, 10, 60]) / 2 # array([ 21.,   5.,  30.])\n",
        "\n",
        "np.array([1, 2, 3]) * np.array([10, 20, 30]) # array([10, 40, 90])\n",
        "np.array([1, 2, 3]) - np.array([10, 20, 30]) # array([ -9, -18, -27])"
      ],
      "outputs": [
        {
          "output_type": "execute_result",
          "execution_count": 24,
          "data": {
            "text/plain": [
              "array([ -9, -18, -27])"
            ]
          },
          "metadata": {}
        }
      ],
      "execution_count": null,
      "metadata": {
        "tags": []
      }
    },
    {
      "cell_type": "markdown",
      "source": [
        "<p id=\"d692\">\n",
        "If we check the type of a NumPy array the result will be\n",
        "<code>\n",
        "numpy.ndarray\n",
        "</code>\n",
        ". Ndarray means n-dimensional array. In the examples above we used 1-dimensional arrays, but nothing can stop us to make 2, 3, 4 or more dimensional array. We can do subsetting on an array independently of that how much dimensions this array has. I’ll show you some examples with a 2-dimensional array.\n",
        "</p>"
      ],
      "metadata": {
        "tags": []
      }
    },
    {
      "cell_type": "code",
      "source": [
        "numbers = np.array([\n",
        "    [1, 2, 3],\n",
        "    [4, 5, 6],\n",
        "    [7, 8, 9],\n",
        "    [10, 11, 12]\n",
        "])\n",
        "\n",
        "numbers[2, 1]     # 8\n",
        "numbers[-1, 0]    # 10\n",
        "numbers[0]        # array([1, 2, 3])\n",
        "numbers[:, 0]     # array([ 1,  4,  7, 10])\n",
        "numbers[0:3, 2]   # array([3, 6, 9])\n",
        "numbers[1:3, 1:3] # array([[5, 6],[8, 9]])"
      ],
      "outputs": [
        {
          "output_type": "execute_result",
          "execution_count": 21,
          "data": {
            "text/plain": [
              "array([[5, 6],\n",
              "       [8, 9]])"
            ]
          },
          "metadata": {}
        }
      ],
      "execution_count": null,
      "metadata": {
        "tags": []
      }
    },
    {
      "cell_type": "markdown",
      "source": [
        "<p id=\"c00a\">\n",
        "If we want to see how many dimensional is our array and how much elements have each dimension, we can use the\n",
        "<code>\n",
        "shape\n",
        "</code>\n",
        "attribute. For 2-dimensional arrays, the first element of the tuple will be the number of rows and the second the number of the columns.\n",
        "</p>"
      ],
      "metadata": {
        "tags": []
      }
    },
    {
      "cell_type": "code",
      "source": [
        "numbers = np.array([\n",
        "    [1, 2, 3],\n",
        "    [4, 5, 6],\n",
        "    [7, 8, 9],\n",
        "    [10, 11, 12],\n",
        "    [13, 14, 15]\n",
        "])\n",
        "\n",
        "numbers.shape # (5, 3)"
      ],
      "outputs": [
        {
          "output_type": "execute_result",
          "execution_count": 22,
          "data": {
            "text/plain": [
              "(5, 3)"
            ]
          },
          "metadata": {}
        }
      ],
      "execution_count": null,
      "metadata": {
        "tags": []
      }
    },
    {
      "cell_type": "markdown",
      "source": [
        "<h2 id=\"bfb9\">\n",
        "Basic Statistics\n",
        "</h2>\n",
        "<p id=\"3628\">\n",
        "The first step of analyzing data is to get familiar with the data. NumPy has a lot of methods which help us to do that. We’ll see some basic methods to make statistics on our data.\n",
        "</p>\n",
        "<ul>\n",
        "<li id=\"7c8f\">\n",
        "<code>\n",
        "np.mean()\n",
        "</code>\n",
        "- returns the arithmetic mean (the sum of the elements divided by the length of the elements).\n",
        "</li>\n",
        "<li id=\"ac08\">\n",
        "<code>\n",
        "np.median()\n",
        "</code>\n",
        "- returns the median (the middle value of a sorted copy of the passed array, if the length of array is even - the average of the two middle values will be computed)\n",
        "</li>\n",
        "<li id=\"3e99\">\n",
        "<code>\n",
        "np.corrcoef()\n",
        "</code>\n",
        "- returns a correlation matrix. This function is useful when we want to see if there is a correlation between two variables in our dataset or with other words, between two arrays with the same length.\n",
        "</li>\n",
        "<li id=\"fefa\">\n",
        "<code>\n",
        "np.std()\n",
        "</code>\n",
        "- returns a standard deviation\n",
        "</li>\n",
        "</ul>"
      ],
      "metadata": {
        "tags": []
      }
    },
    {
      "cell_type": "code",
      "source": [
        "\n",
        "learning_hours = [1, 2, 6, 4, 10]\n",
        "grades = [3, 4, 6, 5, 6]\n",
        "\n",
        "np.mean(learning_hours)   # 4.6\n",
        "np.median(learning_hours) # 4.0\n",
        "np.std(learning_hours)    # 3.2\n",
        "np.corrcoef(learning_hours, grades) # [[ 1.          0.88964891][ 0.88964891  1.        ]]"
      ],
      "outputs": [
        {
          "output_type": "execute_result",
          "execution_count": 23,
          "data": {
            "text/plain": [
              "array([[1.        , 0.88964891],\n",
              "       [0.88964891, 1.        ]])"
            ]
          },
          "metadata": {}
        }
      ],
      "execution_count": null,
      "metadata": {
        "tags": []
      }
    },
    {
      "cell_type": "markdown",
      "source": [
        "<p id=\"dbfc\">\n",
        "From the example above, we can see that there is a high correlation between the hours of learning and the grade.\n",
        "<br/>\n",
        "Also, we can see that:\n",
        "</p>\n",
        "<ul>\n",
        "<li id=\"9442\">\n",
        "the mean for the learning hours is 4.6\n",
        "</li>\n",
        "<li id=\"d496\">\n",
        "the median for the learning hours is 4.0\n",
        "</li>\n",
        "<li id=\"4c52\">\n",
        "the standard deviation for the learning hours is 3.2\n",
        "</li>\n",
        "</ul>\n",
        "<p id=\"bd51\">\n",
        "NumPy also has some basic functions like\n",
        "<code>\n",
        "np.sort()\n",
        "</code>\n",
        "and\n",
        "<code>\n",
        "np.sum()\n",
        "</code>\n",
        "which exists in the basic Python lists, too. An important note here is that NumPy enforces a single type in an array and this speeds up the calculations.\n",
        "</p>\n",
        "<h1 id=\"78b2\">\n",
        "Exercises\n",
        "</h1>\n",
        "<p id=\"35ed\">\n",
        "I have prepared some exercises including subsetting, element-wise operations, and basic statistics. If you want, you can try to solve them.\n",
        "</p>\n",
        "<ul>\n",
        "<li id=\"ca17\">\n",
        "<a href=\"https://gist.github.com/Ventsislav-Yordanov/fb14e1c52a2b4d18422dc7075d5a09cb\">\n",
        "Subsetting Python list\n",
        "</a>\n",
        "</li>\n",
        "<li id=\"9d69\">\n",
        "<a href=\"https://gist.github.com/Ventsislav-Yordanov/3ef4587b274643a161e4bea0952950ab\">\n",
        "Subsetting 2-dimensional NumPy array\n",
        "</a>\n",
        "</li>\n",
        "<li id=\"19e1\">\n",
        "<a href=\"https://gist.github.com/Ventsislav-Yordanov/48a5e73ae43c668e2f2f725a503ca96c\">\n",
        "NumPy element-wise operations\n",
        "</a>\n",
        "</li>\n",
        "<li id=\"9267\">\n",
        "<a href=\"https://gist.github.com/Ventsislav-Yordanov/8b7e47cda7b63bf97cfa5c80f05f50b3\">\n",
        "NumPy basic statistics\n",
        "</a>\n",
        "</li>\n",
        "</ul>\n",
        "<h1 id=\"1164\">\n",
        "Other Blog Posts by Me\n",
        "</h1>\n",
        "<ul>\n",
        "<li id=\"ef19\">\n",
        "<a href=\"https://medium.com/@ventsislav94/jypyter-notebook-shortcuts-bf0101a98330\">\n",
        "Jupyter Notebook shortcuts\n",
        "</a>\n",
        ".\n",
        "</li>\n",
        "<li id=\"a267\">\n",
        "<a href=\"/python-basics-iteration-and-looping-6ca63b30835c\">\n",
        "Python Basics: Iteration and Looping\n",
        "</a>\n",
        "</li>\n",
        "<li id=\"ad18\">\n",
        "<a href=\"/python-basics-list-comprehensions-631278f22c40\">\n",
        "Python Basics: List Comprehensions\n",
        "</a>\n",
        "</li>\n",
        "<li id=\"a2a1\">\n",
        "<a href=\"/data-science-with-python-intro-to-data-visualization-and-matplotlib-5f799b7c6d82\">\n",
        "Data Science with Python: Intro to Data Visualization with Matplotlib\n",
        "</a>\n",
        "</li>\n",
        "<li id=\"84db\">\n",
        "<a href=\"/data-science-with-python-intro-to-loading-and-subsetting-data-with-pandas-9f26895ddd7f\">\n",
        "Data Science with Python: Intro to Loading, Subsetting, and Filtering Data with pandas\n",
        "</a>\n",
        "</li>\n",
        "<li id=\"25c7\">\n",
        "<a href=\"/introduction-to-natural-language-processing-for-text-df845750fb63\">\n",
        "Introduction to Natural Language Processing for Text\n",
        "</a>\n",
        "</li>\n",
        "</ul>\n",
        "<h1 id=\"79d5\">\n",
        "LinkedIn\n",
        "</h1>\n",
        "<p id=\"517f\">\n",
        "Here is\n",
        "<a href=\"https://www.linkedin.com/in/ventsislav-yordanov-a657b086/\">\n",
        "my LinkedIn profile\n",
        "</a>\n",
        "in case you want to connect with me. I’ll be happy to be connected with you.\n",
        "</p>\n",
        "<h1 id=\"14a3\">\n",
        "Final Words\n",
        "</h1>\n",
        "<p id=\"3d6a\">\n",
        "Thank you for the read. If you like this post, please hold the clap button and share it with your friends. Also, I’ll be happy to hear your feedback. If you want to be notified when I create a new blog post, you can subscribe to\n",
        "<a href=\"https://buttondown.email/Ventsislav\">\n",
        "my newsletter\n",
        "</a>\n",
        ".\n",
        "</p>"
      ],
      "metadata": {
        "tags": []
      }
    }
  ],
  "metadata": {
    "kernelspec": {
      "display_name": "Python 3",
      "language": "python",
      "name": "python3"
    },
    "language_info": {
      "codemirror_mode": {
        "name": "ipython",
        "version": 3
      },
      "file_extension": ".py",
      "mimetype": "text/x-python",
      "name": "python",
      "nbconvert_exporter": "python",
      "pygments_lexer": "ipython3",
      "version": "3.6.3"
    },
    "deepnoteSessionId": "6ab8dd8a-179a-448c-a3ca-3b37af9986fc",
    "nteract": {
      "version": "0.21.0"
    }
  },
  "nbformat": 4,
  "nbformat_minor": 2
}