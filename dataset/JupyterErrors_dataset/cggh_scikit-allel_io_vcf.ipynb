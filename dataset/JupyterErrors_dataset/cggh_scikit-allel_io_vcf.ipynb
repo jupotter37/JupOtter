{
 "cells": [
  {
   "cell_type": "code",
   "execution_count": 1,
   "metadata": {
    "collapsed": true
   },
   "outputs": [],
   "source": [
    "import sys\n",
    "sys.path.insert(0, '../..')\n",
    "from allel.io_vcf_read import read_vcf, read_vcf_chunks, vcf_to_npz, vcf_to_hdf5, vcf_to_zarr\n",
    "# from allel.opt.io_vcf_read import (iter_vcf, \n",
    "#                                    CalldataParser_parse, \n",
    "#                                    GenotypeInt8Parser_parse, \n",
    "#                                    ParserContext_next, \n",
    "#                                    BufferedReader_read\n",
    "#                                   )\n",
    "\n",
    "prof_vcf_fn = '../../profdata/2L_2358158_2431617.vcf'\n",
    "sample_vcf_fn = '../../fixture/sample.vcf'"
   ]
  },
  {
   "cell_type": "code",
   "execution_count": 2,
   "metadata": {
    "collapsed": true
   },
   "outputs": [],
   "source": [
    "# create a slightly larger profiling file\n",
    "!cat {prof_vcf_fn} > ../../profdata/prof_gt.vcf\n",
    "!for i in `seq 1 100`; do cat {prof_vcf_fn} | grep -v '^#' >> ../../profdata/prof_gt.vcf; done\n",
    "!gzip -f ../../profdata/prof_gt.vcf"
   ]
  },
  {
   "cell_type": "code",
   "execution_count": 3,
   "metadata": {
    "collapsed": false
   },
   "outputs": [
    {
     "name": "stdout",
     "output_type": "stream",
     "text": [
      "1979\r\n"
     ]
    }
   ],
   "source": [
    "!cat {prof_vcf_fn} | wc -l"
   ]
  },
  {
   "cell_type": "code",
   "execution_count": 4,
   "metadata": {
    "collapsed": false
   },
   "outputs": [
    {
     "name": "stdout",
     "output_type": "stream",
     "text": [
      "198679\r\n"
     ]
    }
   ],
   "source": [
    "!zcat ../../profdata/prof_gt.vcf.gz | wc -l"
   ]
  },
  {
   "cell_type": "code",
   "execution_count": 5,
   "metadata": {
    "collapsed": false
   },
   "outputs": [
    {
     "name": "stdout",
     "output_type": "stream",
     "text": [
      "##fileformat=VCFv4.0\r\n",
      "##fileDate=20090805\r\n",
      "##source=myImputationProgramV3.1\r\n",
      "##reference=1000GenomesPilot-NCBI36\r\n",
      "##phasing=partial\r\n",
      "##INFO=<ID=NS,Number=1,Type=Integer,Description=\"Number of Samples With Data\">\r\n",
      "##INFO=<ID=AN,Number=1,Type=Integer,Description=\"Total number of alleles in called genotypes\">\r\n",
      "##INFO=<ID=AC,Number=.,Type=Integer,Description=\"Allele count in genotypes, for each ALT allele, in the same order as listed\">\r\n",
      "##INFO=<ID=DP,Number=1,Type=Integer,Description=\"Total Depth\">\r\n",
      "##INFO=<ID=AF,Number=.,Type=Float,Description=\"Allele Frequency\">\r\n",
      "##INFO=<ID=AA,Number=1,Type=String,Description=\"Ancestral Allele\">\r\n",
      "##INFO=<ID=DB,Number=0,Type=Flag,Description=\"dbSNP membership, build 129\">\r\n",
      "##INFO=<ID=H2,Number=0,Type=Flag,Description=\"HapMap2 membership\">\r\n",
      "##FILTER=<ID=s50,Description=\"Less than 50% of samples have data\">\r\n",
      "##FILTER=<ID=q10,Description=\"Quality below 10\">\r\n",
      "##FORMAT=<ID=GT,Number=1,Type=String,Description=\"Genotype\">\r\n",
      "##FORMAT=<ID=GQ,Number=1,Type=Integer,Description=\"Genotype Quality\">\r\n",
      "##FORMAT=<ID=DP,Number=1,Type=Integer,Description=\"Read Depth\">\r\n",
      "##FORMAT=<ID=HQ,Number=2,Type=Integer,Description=\"Haplotype Quality\">\r\n",
      "##ALT=<ID=DEL:ME:ALU,Description=\"Deletion of ALU element\">\r\n",
      "##ALT=<ID=CNV,Description=\"Copy number variable region\">\r\n",
      "#CHROM\tPOS\tID\tREF\tALT\tQUAL\tFILTER\tINFO\tFORMAT\tNA00001\tNA00002\tNA00003\r\n",
      "19\t111\t.\tA\tC\t9.6\t.\t.\tGT:HQ\t0|0:10,10\t0|0:10,10\t0/1:3,3\r\n",
      "19\t112\t.\tA\tG\t10\t.\t.\tGT:HQ\t0|0:10,10\t0|0:10,10\t0/1:3,3\r\n",
      "20\t14370\trs6054257\tG\tA\t29\tPASS\tNS=3;DP=14;AF=0.5;DB;H2\tGT:GQ:DP:HQ\t0|0:48:1:51,51\t1|0:48:8:51,51\t1/1:43:5:.,.\r\n",
      "20\t17330\t.\tT\tA\t3\tq10\tNS=3;DP=11;AF=0.017\tGT:GQ:DP:HQ\t0|0:49:3:58,50\t0|1:3:5:65,3\t0/0:41:3:.,.\r\n",
      "20\t1110696\trs6040355\tA\tG,T\t67\tPASS\tNS=2;DP=10;AF=0.333,0.667;AA=T;DB\tGT:GQ:DP:HQ\t1|2:21:6:23,27\t2|1:2:0:18,2\t2/2:35:4:.,.\r\n",
      "20\t1230237\t.\tT\t.\t47\tPASS\tNS=3;DP=13;AA=T\tGT:GQ:DP:HQ\t0|0:54:.:56,60\t0|0:48:4:51,51\t0/0:61:2:.,.\r\n",
      "20\t1234567\tmicrosat1\tG\tGA,GAC\t50\tPASS\tNS=3;DP=9;AA=G;AN=6;AC=3,1\tGT:GQ:DP\t0/1:.:4\t0/2:17:2\t./.:40:3\r\n",
      "20\t1235237\t.\tT\t.\t.\t.\t.\tGT\t0/0\t0|0\t./.\r\n",
      "X\t10\trsTest\tAC\tA,ATG\t10\tPASS\t.\tGT\t0\t0/1\t0|2\r\n"
     ]
    }
   ],
   "source": [
    "!cat {sample_vcf_fn}"
   ]
  },
  {
   "cell_type": "code",
   "execution_count": 6,
   "metadata": {
    "collapsed": false
   },
   "outputs": [
    {
     "data": {
      "text/plain": [
       "['NA00001', 'NA00002', 'NA00003']"
      ]
     },
     "execution_count": 6,
     "metadata": {},
     "output_type": "execute_result"
    }
   ],
   "source": [
    "headers, chunks = read_vcf_chunks(sample_vcf_fn, buffer_size=2**15, chunk_length=3, \n",
    "                                  fields='*',\n",
    "                                  types={'CHROM': 'S4', 'ID': 'S20', 'DP': 'i8', 'AF': 'f8', 'HQ': 'i1', 'GQ': 'i1'},\n",
    "                                  numbers={'ALT': 2, 'AF': 2, 'AA': 2}\n",
    "                                 )\n",
    "headers.samples"
   ]
  },
  {
   "cell_type": "code",
   "execution_count": 7,
   "metadata": {
    "collapsed": false
   },
   "outputs": [
    {
     "data": {
      "text/plain": [
       "{'q10': {'Description': 'Quality below 10', 'ID': 'q10'},\n",
       " 's50': {'Description': 'Less than 50% of samples have data', 'ID': 's50'}}"
      ]
     },
     "execution_count": 7,
     "metadata": {},
     "output_type": "execute_result"
    }
   ],
   "source": [
    "headers.filters"
   ]
  },
  {
   "cell_type": "code",
   "execution_count": 8,
   "metadata": {
    "collapsed": false
   },
   "outputs": [
    {
     "data": {
      "text/plain": [
       "{'AA': {'Description': 'Ancestral Allele',\n",
       "  'ID': 'AA',\n",
       "  'Number': '1',\n",
       "  'Type': 'String'},\n",
       " 'AC': {'Description': 'Allele count in genotypes, for each ALT allele, in the same order as listed',\n",
       "  'ID': 'AC',\n",
       "  'Number': '.',\n",
       "  'Type': 'Integer'},\n",
       " 'AF': {'Description': 'Allele Frequency',\n",
       "  'ID': 'AF',\n",
       "  'Number': '.',\n",
       "  'Type': 'Float'},\n",
       " 'AN': {'Description': 'Total number of alleles in called genotypes',\n",
       "  'ID': 'AN',\n",
       "  'Number': '1',\n",
       "  'Type': 'Integer'},\n",
       " 'DB': {'Description': 'dbSNP membership, build 129',\n",
       "  'ID': 'DB',\n",
       "  'Number': '0',\n",
       "  'Type': 'Flag'},\n",
       " 'DP': {'Description': 'Total Depth',\n",
       "  'ID': 'DP',\n",
       "  'Number': '1',\n",
       "  'Type': 'Integer'},\n",
       " 'H2': {'Description': 'HapMap2 membership',\n",
       "  'ID': 'H2',\n",
       "  'Number': '0',\n",
       "  'Type': 'Flag'},\n",
       " 'NS': {'Description': 'Number of Samples With Data',\n",
       "  'ID': 'NS',\n",
       "  'Number': '1',\n",
       "  'Type': 'Integer'}}"
      ]
     },
     "execution_count": 8,
     "metadata": {},
     "output_type": "execute_result"
    }
   ],
   "source": [
    "headers.infos"
   ]
  },
  {
   "cell_type": "code",
   "execution_count": 9,
   "metadata": {
    "collapsed": false
   },
   "outputs": [
    {
     "data": {
      "text/plain": [
       "{'DP': {'Description': 'Read Depth',\n",
       "  'ID': 'DP',\n",
       "  'Number': '1',\n",
       "  'Type': 'Integer'},\n",
       " 'GQ': {'Description': 'Genotype Quality',\n",
       "  'ID': 'GQ',\n",
       "  'Number': '1',\n",
       "  'Type': 'Integer'},\n",
       " 'GT': {'Description': 'Genotype',\n",
       "  'ID': 'GT',\n",
       "  'Number': '1',\n",
       "  'Type': 'String'},\n",
       " 'HQ': {'Description': 'Haplotype Quality',\n",
       "  'ID': 'HQ',\n",
       "  'Number': '2',\n",
       "  'Type': 'Integer'}}"
      ]
     },
     "execution_count": 9,
     "metadata": {},
     "output_type": "execute_result"
    }
   ],
   "source": [
    "headers.formats"
   ]
  },
  {
   "cell_type": "code",
   "execution_count": 10,
   "metadata": {
    "collapsed": false,
    "scrolled": false
   },
   "outputs": [
    {
     "data": {
      "text/plain": [
       "3"
      ]
     },
     "execution_count": 10,
     "metadata": {},
     "output_type": "execute_result"
    }
   ],
   "source": [
    "chunks = list(chunks)\n",
    "len(chunks)"
   ]
  },
  {
   "cell_type": "code",
   "execution_count": 11,
   "metadata": {
    "collapsed": false
   },
   "outputs": [
    {
     "data": {
      "text/plain": [
       "['calldata/DP',\n",
       " 'calldata/GQ',\n",
       " 'calldata/GT',\n",
       " 'calldata/HQ',\n",
       " 'variants/AA',\n",
       " 'variants/AC',\n",
       " 'variants/AF',\n",
       " 'variants/ALT',\n",
       " 'variants/AN',\n",
       " 'variants/CHROM',\n",
       " 'variants/DB',\n",
       " 'variants/DP',\n",
       " 'variants/FILTER_PASS',\n",
       " 'variants/FILTER_q10',\n",
       " 'variants/FILTER_s50',\n",
       " 'variants/H2',\n",
       " 'variants/ID',\n",
       " 'variants/NS',\n",
       " 'variants/POS',\n",
       " 'variants/QUAL',\n",
       " 'variants/REF']"
      ]
     },
     "execution_count": 11,
     "metadata": {},
     "output_type": "execute_result"
    }
   ],
   "source": [
    "sorted(chunks[0].keys())"
   ]
  },
  {
   "cell_type": "code",
   "execution_count": 12,
   "metadata": {
    "collapsed": false
   },
   "outputs": [
    {
     "data": {
      "text/plain": [
       "9"
      ]
     },
     "execution_count": 12,
     "metadata": {},
     "output_type": "execute_result"
    }
   ],
   "source": [
    "sum([r['variants/CHROM'].shape[0] for r in chunks])"
   ]
  },
  {
   "cell_type": "code",
   "execution_count": 13,
   "metadata": {
    "collapsed": false
   },
   "outputs": [
    {
     "data": {
      "text/plain": [
       "array([b'19', b'19', b'20'], \n",
       "      dtype='|S4')"
      ]
     },
     "execution_count": 13,
     "metadata": {},
     "output_type": "execute_result"
    }
   ],
   "source": [
    "chunks[0]['variants/CHROM']"
   ]
  },
  {
   "cell_type": "code",
   "execution_count": 14,
   "metadata": {
    "collapsed": false
   },
   "outputs": [
    {
     "data": {
      "text/plain": [
       "array([b'20', b'20', b'X'], \n",
       "      dtype='|S4')"
      ]
     },
     "execution_count": 14,
     "metadata": {},
     "output_type": "execute_result"
    }
   ],
   "source": [
    "chunks[-1]['variants/CHROM']"
   ]
  },
  {
   "cell_type": "code",
   "execution_count": 15,
   "metadata": {
    "collapsed": false
   },
   "outputs": [
    {
     "data": {
      "text/plain": [
       "array([  111,   112, 14370], dtype=int32)"
      ]
     },
     "execution_count": 15,
     "metadata": {},
     "output_type": "execute_result"
    }
   ],
   "source": [
    "chunks[0]['variants/POS']"
   ]
  },
  {
   "cell_type": "code",
   "execution_count": 16,
   "metadata": {
    "collapsed": false
   },
   "outputs": [
    {
     "data": {
      "text/plain": [
       "array([1234567, 1235237,      10], dtype=int32)"
      ]
     },
     "execution_count": 16,
     "metadata": {},
     "output_type": "execute_result"
    }
   ],
   "source": [
    "chunks[-1]['variants/POS']"
   ]
  },
  {
   "cell_type": "code",
   "execution_count": 17,
   "metadata": {
    "collapsed": false
   },
   "outputs": [
    {
     "data": {
      "text/plain": [
       "array([b'.', b'.', b'rs6054257'], \n",
       "      dtype='|S20')"
      ]
     },
     "execution_count": 17,
     "metadata": {},
     "output_type": "execute_result"
    }
   ],
   "source": [
    "chunks[0]['variants/ID']"
   ]
  },
  {
   "cell_type": "code",
   "execution_count": 18,
   "metadata": {
    "collapsed": false
   },
   "outputs": [
    {
     "data": {
      "text/plain": [
       "array([b'A', b'A', b'G'], \n",
       "      dtype='|S1')"
      ]
     },
     "execution_count": 18,
     "metadata": {},
     "output_type": "execute_result"
    }
   ],
   "source": [
    "chunks[0]['variants/REF']"
   ]
  },
  {
   "cell_type": "code",
   "execution_count": 19,
   "metadata": {
    "collapsed": false
   },
   "outputs": [
    {
     "data": {
      "text/plain": [
       "array([[b'C', b''],\n",
       "       [b'G', b''],\n",
       "       [b'A', b'']], \n",
       "      dtype='|S1')"
      ]
     },
     "execution_count": 19,
     "metadata": {},
     "output_type": "execute_result"
    }
   ],
   "source": [
    "chunks[0]['variants/ALT']"
   ]
  },
  {
   "cell_type": "code",
   "execution_count": 20,
   "metadata": {
    "collapsed": false
   },
   "outputs": [
    {
     "data": {
      "text/plain": [
       "array([[b'G', b'G'],\n",
       "       [b'.', b''],\n",
       "       [b'A', b'A']], \n",
       "      dtype='|S1')"
      ]
     },
     "execution_count": 20,
     "metadata": {},
     "output_type": "execute_result"
    }
   ],
   "source": [
    "chunks[-1]['variants/ALT']"
   ]
  },
  {
   "cell_type": "code",
   "execution_count": 21,
   "metadata": {
    "collapsed": false
   },
   "outputs": [
    {
     "data": {
      "text/plain": [
       "array([  9.60000038,  10.        ,  29.        ], dtype=float32)"
      ]
     },
     "execution_count": 21,
     "metadata": {},
     "output_type": "execute_result"
    }
   ],
   "source": [
    "chunks[0]['variants/QUAL']"
   ]
  },
  {
   "cell_type": "code",
   "execution_count": 22,
   "metadata": {
    "collapsed": false
   },
   "outputs": [
    {
     "data": {
      "text/plain": [
       "array([False, False,  True], dtype=bool)"
      ]
     },
     "execution_count": 22,
     "metadata": {},
     "output_type": "execute_result"
    }
   ],
   "source": [
    "chunks[0]['variants/FILTER_PASS']"
   ]
  },
  {
   "cell_type": "code",
   "execution_count": 23,
   "metadata": {
    "collapsed": false
   },
   "outputs": [
    {
     "data": {
      "text/plain": [
       "array([-1, -1,  3], dtype=int32)"
      ]
     },
     "execution_count": 23,
     "metadata": {},
     "output_type": "execute_result"
    }
   ],
   "source": [
    "chunks[0]['variants/NS']"
   ]
  },
  {
   "cell_type": "code",
   "execution_count": 24,
   "metadata": {
    "collapsed": false
   },
   "outputs": [
    {
     "data": {
      "text/plain": [
       "array([-1, -1, 14])"
      ]
     },
     "execution_count": 24,
     "metadata": {},
     "output_type": "execute_result"
    }
   ],
   "source": [
    "chunks[0]['variants/DP']"
   ]
  },
  {
   "cell_type": "code",
   "execution_count": 25,
   "metadata": {
    "collapsed": false
   },
   "outputs": [
    {
     "data": {
      "text/plain": [
       "array([[ nan,  nan],\n",
       "       [ nan,  nan],\n",
       "       [ 0.5,  nan]])"
      ]
     },
     "execution_count": 25,
     "metadata": {},
     "output_type": "execute_result"
    }
   ],
   "source": [
    "chunks[0]['variants/AF']"
   ]
  },
  {
   "cell_type": "code",
   "execution_count": 26,
   "metadata": {
    "collapsed": false
   },
   "outputs": [
    {
     "data": {
      "text/plain": [
       "array([[ 3,  1, -1],\n",
       "       [-1, -1, -1],\n",
       "       [-1, -1, -1]], dtype=int32)"
      ]
     },
     "execution_count": 26,
     "metadata": {},
     "output_type": "execute_result"
    }
   ],
   "source": [
    "chunks[-1]['variants/AC']"
   ]
  },
  {
   "cell_type": "code",
   "execution_count": 27,
   "metadata": {
    "collapsed": false
   },
   "outputs": [
    {
     "data": {
      "text/plain": [
       "array([-1, -1,  3], dtype=int32)"
      ]
     },
     "execution_count": 27,
     "metadata": {},
     "output_type": "execute_result"
    }
   ],
   "source": [
    "chunks[0]['variants/NS']"
   ]
  },
  {
   "cell_type": "code",
   "execution_count": 28,
   "metadata": {
    "collapsed": false
   },
   "outputs": [
    {
     "data": {
      "text/plain": [
       "array([-1, -1, -1], dtype=int32)"
      ]
     },
     "execution_count": 28,
     "metadata": {},
     "output_type": "execute_result"
    }
   ],
   "source": [
    "chunks[0]['variants/AN']"
   ]
  },
  {
   "cell_type": "code",
   "execution_count": 29,
   "metadata": {
    "collapsed": false
   },
   "outputs": [
    {
     "data": {
      "text/plain": [
       "array([False, False,  True], dtype=bool)"
      ]
     },
     "execution_count": 29,
     "metadata": {},
     "output_type": "execute_result"
    }
   ],
   "source": [
    "chunks[0]['variants/DB']"
   ]
  },
  {
   "cell_type": "code",
   "execution_count": 30,
   "metadata": {
    "collapsed": false
   },
   "outputs": [
    {
     "data": {
      "text/plain": [
       "array([False, False,  True], dtype=bool)"
      ]
     },
     "execution_count": 30,
     "metadata": {},
     "output_type": "execute_result"
    }
   ],
   "source": [
    "chunks[0]['variants/H2']"
   ]
  },
  {
   "cell_type": "code",
   "execution_count": 31,
   "metadata": {
    "collapsed": false
   },
   "outputs": [
    {
     "data": {
      "text/plain": [
       "array([[b'', b''],\n",
       "       [b'T', b''],\n",
       "       [b'T', b'']], \n",
       "      dtype='|S12')"
      ]
     },
     "execution_count": 31,
     "metadata": {},
     "output_type": "execute_result"
    }
   ],
   "source": [
    "chunks[1]['variants/AA']"
   ]
  },
  {
   "cell_type": "code",
   "execution_count": 32,
   "metadata": {
    "collapsed": false
   },
   "outputs": [
    {
     "data": {
      "text/plain": [
       "array([[[0, 0],\n",
       "        [0, 0],\n",
       "        [0, 1]],\n",
       "\n",
       "       [[0, 0],\n",
       "        [0, 0],\n",
       "        [0, 1]],\n",
       "\n",
       "       [[0, 0],\n",
       "        [1, 0],\n",
       "        [1, 1]]], dtype=int8)"
      ]
     },
     "execution_count": 32,
     "metadata": {},
     "output_type": "execute_result"
    }
   ],
   "source": [
    "chunks[0]['calldata/GT']"
   ]
  },
  {
   "cell_type": "code",
   "execution_count": 33,
   "metadata": {
    "collapsed": false
   },
   "outputs": [
    {
     "data": {
      "text/plain": [
       "array([[-1, -1, -1],\n",
       "       [-1, -1, -1],\n",
       "       [48, 48, 43]], dtype=int8)"
      ]
     },
     "execution_count": 33,
     "metadata": {},
     "output_type": "execute_result"
    }
   ],
   "source": [
    "chunks[0]['calldata/GQ']"
   ]
  },
  {
   "cell_type": "code",
   "execution_count": 34,
   "metadata": {
    "collapsed": false
   },
   "outputs": [
    {
     "data": {
      "text/plain": [
       "array([[[10, 10],\n",
       "        [10, 10],\n",
       "        [ 3,  3]],\n",
       "\n",
       "       [[10, 10],\n",
       "        [10, 10],\n",
       "        [ 3,  3]],\n",
       "\n",
       "       [[51, 51],\n",
       "        [51, 51],\n",
       "        [-1, -1]]], dtype=int8)"
      ]
     },
     "execution_count": 34,
     "metadata": {},
     "output_type": "execute_result"
    }
   ],
   "source": [
    "chunks[0]['calldata/HQ']"
   ]
  },
  {
   "cell_type": "code",
   "execution_count": 35,
   "metadata": {
    "collapsed": false
   },
   "outputs": [
    {
     "data": {
      "text/plain": [
       "array([[-1, -1, -1],\n",
       "       [-1, -1, -1],\n",
       "       [ 1,  8,  5]], dtype=int16)"
      ]
     },
     "execution_count": 35,
     "metadata": {},
     "output_type": "execute_result"
    }
   ],
   "source": [
    "chunks[0]['calldata/DP']"
   ]
  },
  {
   "cell_type": "code",
   "execution_count": 36,
   "metadata": {
    "collapsed": false
   },
   "outputs": [
    {
     "data": {
      "text/plain": [
       "['calldata/GT',\n",
       " 'samples',\n",
       " 'variants/ALT',\n",
       " 'variants/CHROM',\n",
       " 'variants/FILTER_PASS',\n",
       " 'variants/ID',\n",
       " 'variants/POS',\n",
       " 'variants/QUAL',\n",
       " 'variants/REF']"
      ]
     },
     "execution_count": 36,
     "metadata": {},
     "output_type": "execute_result"
    }
   ],
   "source": [
    "callset = read_vcf(sample_vcf_fn, buffer_size=2**15, chunk_length=1000)\n",
    "sorted(callset.keys())"
   ]
  },
  {
   "cell_type": "code",
   "execution_count": 37,
   "metadata": {
    "collapsed": true
   },
   "outputs": [],
   "source": [
    "callset = read_vcf(sample_vcf_fn, fields='FILTER',\n",
    "                   buffer_size=2**15, chunk_length=1000)"
   ]
  },
  {
   "cell_type": "code",
   "execution_count": 38,
   "metadata": {
    "collapsed": false
   },
   "outputs": [
    {
     "data": {
      "text/plain": [
       "['variants/FILTER_PASS', 'variants/FILTER_q10', 'variants/FILTER_s50']"
      ]
     },
     "execution_count": 38,
     "metadata": {},
     "output_type": "execute_result"
    }
   ],
   "source": [
    "sorted(callset.keys())"
   ]
  },
  {
   "cell_type": "code",
   "execution_count": 39,
   "metadata": {
    "collapsed": false
   },
   "outputs": [
    {
     "data": {
      "text/plain": [
       "array([False, False, False,  True, False, False, False, False, False], dtype=bool)"
      ]
     },
     "execution_count": 39,
     "metadata": {},
     "output_type": "execute_result"
    }
   ],
   "source": [
    "callset['variants/FILTER_q10']"
   ]
  },
  {
   "cell_type": "code",
   "execution_count": 40,
   "metadata": {
    "collapsed": false
   },
   "outputs": [
    {
     "data": {
      "text/plain": [
       "array([False, False, False, False, False, False, False, False, False], dtype=bool)"
      ]
     },
     "execution_count": 40,
     "metadata": {},
     "output_type": "execute_result"
    }
   ],
   "source": [
    "callset['variants/FILTER_s50']"
   ]
  },
  {
   "cell_type": "code",
   "execution_count": 41,
   "metadata": {
    "collapsed": true
   },
   "outputs": [],
   "source": [
    "callset = read_vcf(sample_vcf_fn, fields='variants/*')"
   ]
  },
  {
   "cell_type": "code",
   "execution_count": 42,
   "metadata": {
    "collapsed": false
   },
   "outputs": [
    {
     "data": {
      "text/plain": [
       "['calldata/DP',\n",
       " 'calldata/GQ',\n",
       " 'calldata/GT',\n",
       " 'calldata/HQ',\n",
       " 'samples',\n",
       " 'variants/AA',\n",
       " 'variants/AC',\n",
       " 'variants/AF',\n",
       " 'variants/ALT',\n",
       " 'variants/AN',\n",
       " 'variants/CHROM',\n",
       " 'variants/DB',\n",
       " 'variants/DP',\n",
       " 'variants/FILTER_PASS',\n",
       " 'variants/FILTER_q10',\n",
       " 'variants/FILTER_s50',\n",
       " 'variants/H2',\n",
       " 'variants/ID',\n",
       " 'variants/NS',\n",
       " 'variants/POS',\n",
       " 'variants/QUAL',\n",
       " 'variants/REF']"
      ]
     },
     "execution_count": 42,
     "metadata": {},
     "output_type": "execute_result"
    }
   ],
   "source": [
    "callset = read_vcf(sample_vcf_fn, fields='*', numbers=dict(ALT=1, AA=1),\n",
    "                   buffer_size=2**15, chunk_length=1000)\n",
    "sorted(callset.keys())"
   ]
  },
  {
   "cell_type": "code",
   "execution_count": 43,
   "metadata": {
    "collapsed": false
   },
   "outputs": [
    {
     "data": {
      "text/plain": [
       "(9,)"
      ]
     },
     "execution_count": 43,
     "metadata": {},
     "output_type": "execute_result"
    }
   ],
   "source": [
    "callset['variants/ALT'].shape"
   ]
  },
  {
   "cell_type": "code",
   "execution_count": 44,
   "metadata": {
    "collapsed": false
   },
   "outputs": [
    {
     "data": {
      "text/plain": [
       "array([b'C', b'G', b'A', b'A', b'G', b'.', b'G', b'.', b'A'], \n",
       "      dtype='|S1')"
      ]
     },
     "execution_count": 44,
     "metadata": {},
     "output_type": "execute_result"
    }
   ],
   "source": [
    "callset['variants/ALT']"
   ]
  },
  {
   "cell_type": "code",
   "execution_count": 45,
   "metadata": {
    "collapsed": false
   },
   "outputs": [
    {
     "data": {
      "text/plain": [
       "array([b'', b'', b'', b'', b'T', b'T', b'G', b'', b''], \n",
       "      dtype='|S12')"
      ]
     },
     "execution_count": 45,
     "metadata": {},
     "output_type": "execute_result"
    }
   ],
   "source": [
    "callset['variants/AA']"
   ]
  },
  {
   "cell_type": "code",
   "execution_count": 46,
   "metadata": {
    "collapsed": true
   },
   "outputs": [],
   "source": [
    "callset = read_vcf(prof_vcf_fn, buffer_size=2**15, chunk_length=1000)"
   ]
  },
  {
   "cell_type": "code",
   "execution_count": 47,
   "metadata": {
    "collapsed": false
   },
   "outputs": [
    {
     "data": {
      "text/plain": [
       "['calldata/GT',\n",
       " 'samples',\n",
       " 'variants/ALT',\n",
       " 'variants/CHROM',\n",
       " 'variants/FILTER_PASS',\n",
       " 'variants/ID',\n",
       " 'variants/POS',\n",
       " 'variants/QUAL',\n",
       " 'variants/REF']"
      ]
     },
     "execution_count": 47,
     "metadata": {},
     "output_type": "execute_result"
    }
   ],
   "source": [
    "sorted(callset.keys())"
   ]
  },
  {
   "cell_type": "code",
   "execution_count": 48,
   "metadata": {
    "collapsed": false
   },
   "outputs": [
    {
     "data": {
      "text/plain": [
       "array([b'AB0085-C', b'AB0087-C', b'AB0088-C', b'AB0089-C', b'AB0090-C',\n",
       "       b'AB0091-C', b'AB0092-C', b'AB0094-C', b'AB0095-C', b'AB0097-C',\n",
       "       b'AB0098-C', b'AB0099-C', b'AB0100-C', b'AB0101-C', b'AB0103-C',\n",
       "       b'AB0104-C', b'AB0109-C', b'AB0110-C', b'AB0111-C', b'AB0112-C',\n",
       "       b'AB0113-C', b'AB0114-C', b'AB0117-C', b'AB0119-C', b'AB0122-C',\n",
       "       b'AB0123-C', b'AB0124-C', b'AB0126-C', b'AB0127-C', b'AB0128-C',\n",
       "       b'AB0129-C', b'AB0130-C', b'AB0133-C', b'AB0134-C', b'AB0135-C',\n",
       "       b'AB0136-C', b'AB0137-C', b'AB0138-C', b'AB0139-C', b'AB0140-C',\n",
       "       b'AB0142-C', b'AB0143-C', b'AB0145-C', b'AB0146-C', b'AB0147-C',\n",
       "       b'AB0148-C', b'AB0151-C', b'AB0153-C', b'AB0155-C', b'AB0157-C',\n",
       "       b'AB0158-C', b'AB0159-C', b'AB0160-C', b'AB0161-C', b'AB0164-C',\n",
       "       b'AB0166-C', b'AB0169-C', b'AB0170-C', b'AB0171-C', b'AB0172-C',\n",
       "       b'AB0173-C', b'AB0174-C', b'AB0175-C', b'AB0176-C', b'AB0177-C',\n",
       "       b'AB0178-C', b'AB0179-C', b'AB0181-C', b'AB0182-C', b'AB0183-C',\n",
       "       b'AB0184-C', b'AB0185-C', b'AB0186-C', b'AB0187-C', b'AB0188-C',\n",
       "       b'AB0189-C', b'AB0190-C', b'AB0191-C', b'AB0192-C', b'AB0197-C',\n",
       "       b'AB0198-C', b'AB0199-C', b'AB0201-C', b'AB0202-C', b'AB0203-C',\n",
       "       b'AB0204-C', b'AB0205-C', b'AB0206-C', b'AB0207-C', b'AB0208-C',\n",
       "       b'AB0209-C', b'AB0210-C', b'AB0211-C', b'AB0212-C', b'AB0213-C',\n",
       "       b'AB0217-C', b'AB0219-C', b'AB0221-C', b'AB0222-C', b'AB0223-C',\n",
       "       b'AB0224-C', b'AB0226-C', b'AB0227-C', b'AB0228-C', b'AB0229-C',\n",
       "       b'AB0231-C', b'AB0233-C', b'AB0234-C', b'AB0235-C', b'AB0236-C',\n",
       "       b'AB0237-C', b'AB0238-C', b'AB0239-C', b'AB0240-C', b'AB0241-C',\n",
       "       b'AB0242-C', b'AB0243-C', b'AB0244-C', b'AB0246-C', b'AB0249-C',\n",
       "       b'AB0250-C', b'AB0251-C', b'AB0252-C', b'AB0253-C', b'AB0256-C',\n",
       "       b'AB0257-C', b'AB0258-C', b'AB0260-C', b'AB0261-C', b'AB0262-C',\n",
       "       b'AB0263-C', b'AB0264-C', b'AB0265-C', b'AB0266-C', b'AB0267-C',\n",
       "       b'AB0268-C', b'AB0270-C', b'AB0271-C', b'AB0272-C', b'AB0273-C',\n",
       "       b'AB0274-C', b'AB0276-C', b'AB0277-C', b'AB0278-C', b'AB0279-C',\n",
       "       b'AB0280-C', b'AB0281-C', b'AB0282-C', b'AB0283-C', b'AB0284-C',\n",
       "       b'AC0090-C', b'AC0091-C', b'AC0092-C', b'AC0093-C', b'AC0094-C',\n",
       "       b'AC0095-C', b'AC0096-C', b'AC0097-C', b'AC0098-C', b'AC0099-C',\n",
       "       b'AC0100-C', b'AC0101-C', b'AC0102-C', b'AC0103-C', b'AC0104-C',\n",
       "       b'AC0106-C', b'AC0107-C', b'AC0108-C', b'AC0109-C', b'AC0110-C',\n",
       "       b'AC0111-C', b'AC0112-C', b'AC0113-C', b'AC0114-C', b'AC0115-C',\n",
       "       b'AC0116-C', b'AC0117-C', b'AC0118-C', b'AC0119-C', b'AC0120-C',\n",
       "       b'AC0121-C', b'AC0122-C', b'AC0123-C', b'AC0124-C', b'AC0125-C',\n",
       "       b'AC0126-C', b'AC0127-C', b'AC0128-C', b'AC0129-C', b'AC0130-C',\n",
       "       b'AC0131-C', b'AC0132-C', b'AC0133-C', b'AC0135-C', b'AC0136-C',\n",
       "       b'AC0137-C', b'AC0138-C', b'AC0139-C', b'AC0140-C', b'AC0142-C',\n",
       "       b'AC0143-C', b'AC0144-C', b'AC0145-C', b'AC0147-C', b'AC0148-C',\n",
       "       b'AC0149-C', b'AC0150-C', b'AC0151-C', b'AC0152-C', b'AC0153-C',\n",
       "       b'AC0154-C', b'AC0156-C', b'AC0158-C', b'AC0159-C', b'AC0160-C',\n",
       "       b'AC0161-C', b'AC0162-C', b'AC0163-C', b'AC0164-C', b'AC0166-C',\n",
       "       b'AC0167-C', b'AC0168-C', b'AC0169-C', b'AC0170-C', b'AC0171-C',\n",
       "       b'AC0172-C', b'AC0173-C', b'AC0174-C', b'AC0176-C', b'AC0178-C',\n",
       "       b'AC0179-C', b'AC0180-C', b'AC0181-C', b'AC0182-C', b'AC0183-C',\n",
       "       b'AC0184-C', b'AC0186-C', b'AC0187-C', b'AC0188-C', b'AC0189-C',\n",
       "       b'AC0190-C', b'AC0191-C', b'AC0192-C', b'AC0193-C', b'AC0194-C',\n",
       "       b'AC0195-C', b'AC0196-C', b'AC0197-C', b'AC0199-C', b'AC0200-C',\n",
       "       b'AC0201-C', b'AC0202-C', b'AC0203-C', b'AJ0023-C', b'AJ0024-C',\n",
       "       b'AJ0032-C', b'AJ0035-C', b'AJ0036-C', b'AJ0039-C', b'AJ0043-C',\n",
       "       b'AJ0044-C', b'AJ0045-C', b'AJ0047-C', b'AJ0051-C', b'AJ0052-C',\n",
       "       b'AJ0056-C', b'AJ0061-C', b'AJ0063-C', b'AJ0064-C', b'AJ0066-C',\n",
       "       b'AJ0070-C', b'AJ0071-C', b'AJ0072-C', b'AJ0074-C', b'AJ0075-C',\n",
       "       b'AJ0076-C', b'AJ0077-C', b'AJ0078-C', b'AJ0081-C', b'AJ0084-C',\n",
       "       b'AJ0085-C', b'AJ0086-C', b'AJ0088-C', b'AJ0090-C', b'AJ0092-C',\n",
       "       b'AJ0093-C', b'AJ0096-C', b'AJ0097-C', b'AJ0098-C', b'AJ0100-C',\n",
       "       b'AJ0101-C', b'AJ0102-C', b'AJ0103-C', b'AJ0105-C', b'AJ0107-C',\n",
       "       b'AJ0109-C', b'AJ0113-C', b'AJ0115-C', b'AJ0116-C', b'AK0065-C',\n",
       "       b'AK0066-C', b'AK0067-C', b'AK0068-C', b'AK0069-C', b'AK0070-C',\n",
       "       b'AK0072-C', b'AK0073-C', b'AK0074-C', b'AK0075-C', b'AK0076-C',\n",
       "       b'AK0077-C', b'AK0078-C', b'AK0079-C', b'AK0080-C', b'AK0081-C',\n",
       "       b'AK0082-C', b'AK0085-C', b'AK0086-C', b'AK0087-C', b'AK0088-C',\n",
       "       b'AK0089-C', b'AK0090-C', b'AK0091-C', b'AK0092-C', b'AK0093-C',\n",
       "       b'AK0094-C', b'AK0095-C', b'AK0096-C', b'AK0098-C', b'AK0099-C',\n",
       "       b'AK0100-C', b'AK0101-C', b'AK0102-C', b'AK0103-C', b'AK0104-C',\n",
       "       b'AK0105-C', b'AK0106-C', b'AK0108-C', b'AK0109-C', b'AK0110-C',\n",
       "       b'AK0116-C', b'AK0119-C', b'AK0127-C', b'AN0007-C', b'AN0008-C',\n",
       "       b'AN0009-C', b'AN0010-C', b'AN0011-C', b'AN0012-C', b'AN0014-C',\n",
       "       b'AN0016-C', b'AN0017-C', b'AN0018-C', b'AN0019-C', b'AN0020-C',\n",
       "       b'AN0022-C', b'AN0023-C', b'AN0024-C', b'AN0025-C', b'AN0026-C',\n",
       "       b'AN0027-C', b'AN0028-C', b'AN0029-C', b'AN0030-C', b'AN0031-C',\n",
       "       b'AN0032-C', b'AN0033-C', b'AN0034-C', b'AN0035-C', b'AN0036-C',\n",
       "       b'AN0037-C', b'AN0038-C', b'AN0039-C', b'AN0040-C', b'AN0041-C',\n",
       "       b'AN0042-C', b'AN0043-C', b'AN0045-C', b'AN0046-C', b'AN0047-C',\n",
       "       b'AN0048-C', b'AN0049-C', b'AN0050-C', b'AN0051-C', b'AN0053-C',\n",
       "       b'AN0054-C', b'AN0055-C', b'AN0056-C', b'AN0057-C', b'AN0058-C',\n",
       "       b'AN0059-C', b'AN0060-C', b'AN0063-C', b'AN0064-C', b'AN0065-C',\n",
       "       b'AN0066-C', b'AN0067-C', b'AN0068-C', b'AN0069-C', b'AN0070-C',\n",
       "       b'AN0071-C', b'AN0072-C', b'AN0073-C', b'AN0074-C', b'AN0075-C',\n",
       "       b'AN0076-C', b'AN0077-C', b'AN0079-C', b'AN0080-C', b'AN0081-C',\n",
       "       b'AN0082-C', b'AN0083-C', b'AN0084-C', b'AN0085-C', b'AN0086-C',\n",
       "       b'AN0087-C', b'AN0088-C', b'AN0089-C', b'AN0090-C', b'AN0091-C',\n",
       "       b'AN0092-C', b'AN0093-C', b'AN0094-C', b'AN0095-C', b'AN0096-C',\n",
       "       b'AN0097-C', b'AN0098-C', b'AN0099-C', b'AN0100-C', b'AN0101-C',\n",
       "       b'AN0102-C', b'AN0103-C', b'AN0104-C', b'AN0105-C', b'AN0106-C',\n",
       "       b'AN0107-C', b'AN0108-C', b'AN0109-C', b'AN0111-C', b'AN0112-C',\n",
       "       b'AN0113-C', b'AN0114-C', b'AN0115-C', b'AN0117-C', b'AN0120-C',\n",
       "       b'AN0121-C', b'AN0122-C', b'AN0123-C', b'AN0124-C', b'AN0125-C',\n",
       "       b'AN0126-C', b'AN0127-C', b'AN0128-C', b'AN0129-C', b'AN0130-C',\n",
       "       b'AN0131-C', b'AN0132-C', b'AN0134-C', b'AN0135-C', b'AN0136-C',\n",
       "       b'AN0137-C', b'AN0138-C', b'AN0139-C', b'AN0140-C', b'AN0141-C',\n",
       "       b'AN0143-C', b'AN0147-C', b'AN0149-C', b'AN0151-C', b'AN0152-C',\n",
       "       b'AN0153-C', b'AN0154-C', b'AN0155-C', b'AN0156-C', b'AN0157-C',\n",
       "       b'AN0158-C', b'AN0159-C', b'AN0160-C', b'AN0162-C', b'AN0163-C',\n",
       "       b'AN0164-C', b'AN0165-C', b'AN0166-C', b'AN0167-C', b'AN0168-C',\n",
       "       b'AN0169-C', b'AN0170-C', b'AN0171-C', b'AN0172-C', b'AN0173-C',\n",
       "       b'AN0174-C', b'AN0175-C', b'AN0176-C', b'AN0177-C', b'AN0178-C',\n",
       "       b'AN0179-C', b'AN0180-C', b'AN0181-C', b'AN0182-C', b'AN0183-C',\n",
       "       b'AN0184-C', b'AN0185-C', b'AN0186-C', b'AN0187-C', b'AN0188-C',\n",
       "       b'AN0189-C', b'AN0190-C', b'AN0191-C', b'AN0192-C', b'AN0193-C',\n",
       "       b'AN0194-C', b'AN0196-C', b'AN0197-C', b'AN0198-C', b'AN0199-C',\n",
       "       b'AN0200-C', b'AN0201-C', b'AN0202-C', b'AN0203-C', b'AN0204-C',\n",
       "       b'AN0205-C', b'AN0206-C', b'AN0207-C', b'AN0208-C', b'AN0209-C',\n",
       "       b'AN0210-C', b'AN0212-C', b'AN0213-C', b'AN0214-C', b'AN0215-C',\n",
       "       b'AN0217-C', b'AN0218-C', b'AN0219-C', b'AN0220-C', b'AN0221-C',\n",
       "       b'AN0222-C', b'AN0223-C', b'AN0224-C', b'AN0225-C', b'AN0226-C',\n",
       "       b'AN0227-C', b'AN0228-C', b'AN0229-C', b'AN0230-C', b'AN0231-C',\n",
       "       b'AN0233-C', b'AN0234-C', b'AN0235-C', b'AN0236-C', b'AN0237-C',\n",
       "       b'AN0238-C', b'AN0239-C', b'AN0240-C', b'AN0241-C', b'AN0242-C',\n",
       "       b'AN0243-C', b'AN0244-C', b'AN0245-C', b'AN0246-C', b'AN0247-C',\n",
       "       b'AN0248-C', b'AN0250-C', b'AN0251-C', b'AN0252-C', b'AN0253-C',\n",
       "       b'AN0254-C', b'AN0255-C', b'AN0256-C', b'AN0258-C', b'AN0259-C',\n",
       "       b'AN0260-C', b'AN0261-C', b'AN0262-C', b'AN0263-C', b'AN0264-C',\n",
       "       b'AN0266-C', b'AN0267-C', b'AN0268-C', b'AN0269-C', b'AN0270-C',\n",
       "       b'AN0272-C', b'AN0275-C', b'AN0276-C', b'AN0277-C', b'AN0280-C',\n",
       "       b'AN0282-C', b'AN0283-C', b'AN0284-C', b'AN0285-C', b'AN0286-C',\n",
       "       b'AN0287-C', b'AN0288-C', b'AN0290-C', b'AN0291-C', b'AN0292-C',\n",
       "       b'AN0294-C', b'AN0295-C', b'AN0296-C', b'AN0297-C', b'AN0298-C',\n",
       "       b'AN0299-C', b'AN0300-C', b'AN0301-C', b'AN0303-C', b'AN0304-C',\n",
       "       b'AN0305-C', b'AN0307-C', b'AN0308-C', b'AN0309-C', b'AN0310-C',\n",
       "       b'AN0312-C', b'AN0313-C', b'AN0314-C', b'AN0315-C', b'AN0317-C',\n",
       "       b'AN0318-C', b'AN0319-C', b'AN0321-C', b'AR0007-C', b'AR0008-C',\n",
       "       b'AR0009-C', b'AR0010-C', b'AR0011-C', b'AR0012-C', b'AR0014-C',\n",
       "       b'AR0015-C', b'AR0017-C', b'AR0019-C', b'AR0020-C', b'AR0021-C',\n",
       "       b'AR0022-C', b'AR0023-C', b'AR0024-C', b'AR0026-C', b'AR0027-C',\n",
       "       b'AR0034-C', b'AR0035-C', b'AR0042-C', b'AR0043-C', b'AR0045-C',\n",
       "       b'AR0047-C', b'AR0049-C', b'AR0050-C', b'AR0051-C', b'AR0053-C',\n",
       "       b'AR0054-C', b'AR0057-C', b'AR0059-C', b'AR0061-C', b'AR0062-C',\n",
       "       b'AR0063-C', b'AR0065-C', b'AR0066-C', b'AR0069-C', b'AR0070-C',\n",
       "       b'AR0071-C', b'AR0072-C', b'AR0073-C', b'AR0074-C', b'AR0075-C',\n",
       "       b'AR0076-C', b'AR0078-C', b'AR0079-C', b'AR0080-C', b'AR0081-C',\n",
       "       b'AR0083-C', b'AR0084-C', b'AR0086-C', b'AR0087-C', b'AR0089-C',\n",
       "       b'AR0090-C', b'AR0092-C', b'AR0093-C', b'AR0095-C', b'AR0096-C',\n",
       "       b'AR0098-C', b'AR0099-C', b'AR0100-C', b'AS0001-C', b'AS0002-C',\n",
       "       b'AS0003-C', b'AS0004-C', b'AS0006-C', b'AS0007-C', b'AS0008-C',\n",
       "       b'AS0009-C', b'AS0010-C', b'AS0011-C', b'AS0012-C', b'AS0013-C',\n",
       "       b'AS0014-C', b'AS0015-C', b'AS0016-C', b'AS0017-C', b'AS0018-C',\n",
       "       b'AS0019-C', b'AS0020-C', b'AS0021-C', b'AS0022-C', b'AS0024-C',\n",
       "       b'AS0026-C', b'AS0028-C', b'AS0030-C', b'AS0032-C', b'AS0033-C',\n",
       "       b'AS0034-C', b'AS0035-C', b'AS0036-C', b'AS0037-C', b'AS0039-C',\n",
       "       b'AS0042-C', b'AS0044-C', b'AS0045-C', b'AS0047-C', b'AS0049-C',\n",
       "       b'AS0052-C', b'AS0053-C', b'AS0054-C', b'AS0055-C', b'AS0056-C',\n",
       "       b'AS0058-C', b'AS0059-C', b'AS0064-C', b'AS0065-C', b'AS0066-C',\n",
       "       b'AS0068-C', b'AS0069-C', b'AS0070-C', b'AS0071-C', b'AS0072-C',\n",
       "       b'AS0073-C', b'AS0074-C', b'AS0076-C', b'AS0077-C', b'AV0001-C',\n",
       "       b'AV0002-C', b'AV0003-C', b'AV0004-C', b'AV0005-C', b'AV0007-C',\n",
       "       b'AV0008-C', b'AV0009-C', b'AV0010-C', b'AV0011-C', b'AV0012-C',\n",
       "       b'AV0013-C', b'AV0014-C', b'AV0015-C', b'AV0018-C', b'AV0024-C',\n",
       "       b'AV0026-C', b'AV0027-C', b'AV0029-C', b'AV0030-C', b'AV0031-C',\n",
       "       b'AV0032-C', b'AV0033-C', b'AV0034-C', b'AV0035-C', b'AV0036-C',\n",
       "       b'AV0039-C', b'AV0041-C', b'AV0044-C', b'AV0045-C', b'AV0047-C',\n",
       "       b'AD0231-C', b'AD0232-C', b'AD0254-C', b'AD0255-C', b'AD0305-C',\n",
       "       b'AD0306-C', b'AD0347-C', b'AD0348-C'], \n",
       "      dtype='|S8')"
      ]
     },
     "execution_count": 48,
     "metadata": {},
     "output_type": "execute_result"
    }
   ],
   "source": [
    "callset['samples']"
   ]
  },
  {
   "cell_type": "code",
   "execution_count": 49,
   "metadata": {
    "collapsed": false
   },
   "outputs": [
    {
     "data": {
      "text/plain": [
       "(1967, 773, 2)"
      ]
     },
     "execution_count": 49,
     "metadata": {},
     "output_type": "execute_result"
    }
   ],
   "source": [
    "callset['calldata/GT'].shape"
   ]
  },
  {
   "cell_type": "code",
   "execution_count": 50,
   "metadata": {
    "collapsed": false
   },
   "outputs": [
    {
     "data": {
      "text/plain": [
       "(1967, 773, 2)"
      ]
     },
     "execution_count": 50,
     "metadata": {},
     "output_type": "execute_result"
    }
   ],
   "source": [
    "callset['calldata/GT'].shape"
   ]
  },
  {
   "cell_type": "code",
   "execution_count": 51,
   "metadata": {
    "collapsed": false
   },
   "outputs": [
    {
     "data": {
      "text/plain": [
       "array([b'2L', b'2L', b'2L', ..., b'2L', b'2L', b'2L'], \n",
       "      dtype='|S12')"
      ]
     },
     "execution_count": 51,
     "metadata": {},
     "output_type": "execute_result"
    }
   ],
   "source": [
    "callset['variants/CHROM']"
   ]
  },
  {
   "cell_type": "code",
   "execution_count": 52,
   "metadata": {
    "collapsed": false
   },
   "outputs": [
    {
     "data": {
      "text/plain": [
       "array([2353212, 2353223, 2353234, ..., 2436558, 2436585, 2436615], dtype=int32)"
      ]
     },
     "execution_count": 52,
     "metadata": {},
     "output_type": "execute_result"
    }
   ],
   "source": [
    "callset['variants/POS']"
   ]
  },
  {
   "cell_type": "code",
   "execution_count": 53,
   "metadata": {
    "collapsed": false
   },
   "outputs": [
    {
     "data": {
      "text/plain": [
       "array([b'G', b'T', b'G', ..., b'G', b'A', b'C'], \n",
       "      dtype='|S1')"
      ]
     },
     "execution_count": 53,
     "metadata": {},
     "output_type": "execute_result"
    }
   ],
   "source": [
    "callset['variants/REF']"
   ]
  },
  {
   "cell_type": "code",
   "execution_count": 54,
   "metadata": {
    "collapsed": false
   },
   "outputs": [
    {
     "data": {
      "text/plain": [
       "array([[b'A', b'', b''],\n",
       "       [b'G', b'', b''],\n",
       "       [b'C', b'', b''],\n",
       "       ..., \n",
       "       [b'A', b'', b''],\n",
       "       [b'C', b'', b''],\n",
       "       [b'A', b'', b'']], \n",
       "      dtype='|S1')"
      ]
     },
     "execution_count": 54,
     "metadata": {},
     "output_type": "execute_result"
    }
   ],
   "source": [
    "callset['variants/ALT']"
   ]
  },
  {
   "cell_type": "markdown",
   "metadata": {},
   "source": [
    "## Format conversion"
   ]
  },
  {
   "cell_type": "code",
   "execution_count": 55,
   "metadata": {
    "collapsed": false
   },
   "outputs": [
    {
     "ename": "ValueError",
     "evalue": "file exists at path 'sample.npz'; use overwrite=True to replace",
     "output_type": "error",
     "traceback": [
      "\u001b[0;31m---------------------------------------------------------------------------\u001b[0m",
      "\u001b[0;31mValueError\u001b[0m                                Traceback (most recent call last)",
      "\u001b[0;32m<ipython-input-55-fe36617e2a57>\u001b[0m in \u001b[0;36m<module>\u001b[0;34m()\u001b[0m\n\u001b[1;32m      1\u001b[0m \u001b[0mnpz_fn\u001b[0m \u001b[0;34m=\u001b[0m \u001b[0;34m'sample.npz'\u001b[0m\u001b[0;34m\u001b[0m\u001b[0m\n\u001b[0;32m----> 2\u001b[0;31m \u001b[0mvcf_to_npz\u001b[0m\u001b[0;34m(\u001b[0m\u001b[0msample_vcf_fn\u001b[0m\u001b[0;34m,\u001b[0m \u001b[0mnpz_fn\u001b[0m\u001b[0;34m,\u001b[0m \u001b[0mfields\u001b[0m\u001b[0;34m=\u001b[0m\u001b[0;34m'*'\u001b[0m\u001b[0;34m,\u001b[0m \u001b[0mchunk_length\u001b[0m\u001b[0;34m=\u001b[0m\u001b[0;36m3\u001b[0m\u001b[0;34m,\u001b[0m \u001b[0moverwrite\u001b[0m\u001b[0;34m=\u001b[0m\u001b[0;32mFalse\u001b[0m\u001b[0;34m)\u001b[0m\u001b[0;34m\u001b[0m\u001b[0m\n\u001b[0m",
      "\u001b[0;32m/home/aliman/src/github/cggh/scikit-allel/allel/io_vcf_read.py\u001b[0m in \u001b[0;36mvcf_to_npz\u001b[0;34m(input_path, output_path, compressed, overwrite, fields, types, numbers, buffer_size, chunk_length)\u001b[0m\n\u001b[1;32m    176\u001b[0m     \u001b[0;32mif\u001b[0m \u001b[0;32mnot\u001b[0m \u001b[0moverwrite\u001b[0m \u001b[0;32mand\u001b[0m \u001b[0mos\u001b[0m\u001b[0;34m.\u001b[0m\u001b[0mpath\u001b[0m\u001b[0;34m.\u001b[0m\u001b[0mexists\u001b[0m\u001b[0;34m(\u001b[0m\u001b[0moutput_path\u001b[0m\u001b[0;34m)\u001b[0m\u001b[0;34m:\u001b[0m\u001b[0;34m\u001b[0m\u001b[0m\n\u001b[1;32m    177\u001b[0m         \u001b[0;31m# TODO right exception class?\u001b[0m\u001b[0;34m\u001b[0m\u001b[0;34m\u001b[0m\u001b[0m\n\u001b[0;32m--> 178\u001b[0;31m         \u001b[0;32mraise\u001b[0m \u001b[0mValueError\u001b[0m\u001b[0;34m(\u001b[0m\u001b[0;34m'file exists at path %r; use overwrite=True to replace'\u001b[0m \u001b[0;34m%\u001b[0m \u001b[0moutput_path\u001b[0m\u001b[0;34m)\u001b[0m\u001b[0;34m\u001b[0m\u001b[0m\n\u001b[0m\u001b[1;32m    179\u001b[0m \u001b[0;34m\u001b[0m\u001b[0m\n\u001b[1;32m    180\u001b[0m     \u001b[0;31m# read all data into memory\u001b[0m\u001b[0;34m\u001b[0m\u001b[0;34m\u001b[0m\u001b[0m\n",
      "\u001b[0;31mValueError\u001b[0m: file exists at path 'sample.npz'; use overwrite=True to replace"
     ]
    }
   ],
   "source": [
    "npz_fn = 'sample.npz'\n",
    "vcf_to_npz(sample_vcf_fn, npz_fn, fields='*', chunk_length=3, overwrite=False)"
   ]
  },
  {
   "cell_type": "code",
   "execution_count": 56,
   "metadata": {
    "collapsed": true
   },
   "outputs": [],
   "source": [
    "vcf_to_npz(sample_vcf_fn, npz_fn, fields='*', chunk_length=3, overwrite=True)"
   ]
  },
  {
   "cell_type": "code",
   "execution_count": 57,
   "metadata": {
    "collapsed": false
   },
   "outputs": [
    {
     "name": "stdout",
     "output_type": "stream",
     "text": [
      "-rw-r--r-- 1 aliman aliman 4.3K Jun  8 15:59 sample.npz\r\n"
     ]
    }
   ],
   "source": [
    "!ls -lh {npz_fn}"
   ]
  },
  {
   "cell_type": "code",
   "execution_count": 58,
   "metadata": {
    "collapsed": true
   },
   "outputs": [],
   "source": [
    "import numpy as np"
   ]
  },
  {
   "cell_type": "code",
   "execution_count": 59,
   "metadata": {
    "collapsed": false
   },
   "outputs": [
    {
     "data": {
      "text/plain": [
       "<numpy.lib.npyio.NpzFile at 0x7f196851eba8>"
      ]
     },
     "execution_count": 59,
     "metadata": {},
     "output_type": "execute_result"
    }
   ],
   "source": [
    "callset = np.load(npz_fn)\n",
    "callset"
   ]
  },
  {
   "cell_type": "code",
   "execution_count": 60,
   "metadata": {
    "collapsed": false
   },
   "outputs": [
    {
     "data": {
      "text/plain": [
       "['calldata/DP',\n",
       " 'calldata/GQ',\n",
       " 'calldata/GT',\n",
       " 'calldata/HQ',\n",
       " 'samples',\n",
       " 'variants/AA',\n",
       " 'variants/AC',\n",
       " 'variants/AF',\n",
       " 'variants/ALT',\n",
       " 'variants/AN',\n",
       " 'variants/CHROM',\n",
       " 'variants/DB',\n",
       " 'variants/DP',\n",
       " 'variants/FILTER_PASS',\n",
       " 'variants/FILTER_q10',\n",
       " 'variants/FILTER_s50',\n",
       " 'variants/H2',\n",
       " 'variants/ID',\n",
       " 'variants/NS',\n",
       " 'variants/POS',\n",
       " 'variants/QUAL',\n",
       " 'variants/REF']"
      ]
     },
     "execution_count": 60,
     "metadata": {},
     "output_type": "execute_result"
    }
   ],
   "source": [
    "sorted(callset.keys())"
   ]
  },
  {
   "cell_type": "code",
   "execution_count": 61,
   "metadata": {
    "collapsed": false
   },
   "outputs": [
    {
     "data": {
      "text/plain": [
       "array([b'NA00001', b'NA00002', b'NA00003'], \n",
       "      dtype='|S7')"
      ]
     },
     "execution_count": 61,
     "metadata": {},
     "output_type": "execute_result"
    }
   ],
   "source": [
    "callset['samples']"
   ]
  },
  {
   "cell_type": "code",
   "execution_count": 62,
   "metadata": {
    "collapsed": false
   },
   "outputs": [
    {
     "data": {
      "text/plain": [
       "array([    111,     112,   14370,   17330, 1110696, 1230237, 1234567,\n",
       "       1235237,      10], dtype=int32)"
      ]
     },
     "execution_count": 62,
     "metadata": {},
     "output_type": "execute_result"
    }
   ],
   "source": [
    "callset['variants/POS']"
   ]
  },
  {
   "cell_type": "code",
   "execution_count": 63,
   "metadata": {
    "collapsed": false
   },
   "outputs": [
    {
     "data": {
      "text/plain": [
       "array([b'19', b'19', b'20', b'20', b'20', b'20', b'20', b'20', b'X'], \n",
       "      dtype='|S12')"
      ]
     },
     "execution_count": 63,
     "metadata": {},
     "output_type": "execute_result"
    }
   ],
   "source": [
    "callset['variants/CHROM']"
   ]
  },
  {
   "cell_type": "code",
   "execution_count": 64,
   "metadata": {
    "collapsed": false
   },
   "outputs": [
    {
     "data": {
      "text/plain": [
       "array([[[ 0,  0],\n",
       "        [ 0,  0],\n",
       "        [ 0,  1]],\n",
       "\n",
       "       [[ 0,  0],\n",
       "        [ 0,  0],\n",
       "        [ 0,  1]],\n",
       "\n",
       "       [[ 0,  0],\n",
       "        [ 1,  0],\n",
       "        [ 1,  1]],\n",
       "\n",
       "       [[ 0,  0],\n",
       "        [ 0,  1],\n",
       "        [ 0,  0]],\n",
       "\n",
       "       [[ 1,  2],\n",
       "        [ 2,  1],\n",
       "        [ 2,  2]],\n",
       "\n",
       "       [[ 0,  0],\n",
       "        [ 0,  0],\n",
       "        [ 0,  0]],\n",
       "\n",
       "       [[ 0,  1],\n",
       "        [ 0,  2],\n",
       "        [-1, -1]],\n",
       "\n",
       "       [[ 0,  0],\n",
       "        [ 0,  0],\n",
       "        [-1, -1]],\n",
       "\n",
       "       [[ 0, -1],\n",
       "        [ 0,  1],\n",
       "        [ 0,  2]]], dtype=int8)"
      ]
     },
     "execution_count": 64,
     "metadata": {},
     "output_type": "execute_result"
    }
   ],
   "source": [
    "callset['calldata/GT']"
   ]
  },
  {
   "cell_type": "code",
   "execution_count": 65,
   "metadata": {
    "collapsed": false
   },
   "outputs": [
    {
     "ename": "ValueError",
     "evalue": "dataset exists at path 'samples'; use overwrite=True to replace",
     "output_type": "error",
     "traceback": [
      "\u001b[0;31m---------------------------------------------------------------------------\u001b[0m",
      "\u001b[0;31mValueError\u001b[0m                                Traceback (most recent call last)",
      "\u001b[0;32m<ipython-input-65-ddbb299760ca>\u001b[0m in \u001b[0;36m<module>\u001b[0;34m()\u001b[0m\n\u001b[1;32m      1\u001b[0m \u001b[0mhdf5_fn\u001b[0m \u001b[0;34m=\u001b[0m \u001b[0;34m'sample.h5'\u001b[0m\u001b[0;34m\u001b[0m\u001b[0m\n\u001b[0;32m----> 2\u001b[0;31m \u001b[0mvcf_to_hdf5\u001b[0m\u001b[0;34m(\u001b[0m\u001b[0msample_vcf_fn\u001b[0m\u001b[0;34m,\u001b[0m \u001b[0mhdf5_fn\u001b[0m\u001b[0;34m,\u001b[0m \u001b[0mfields\u001b[0m\u001b[0;34m=\u001b[0m\u001b[0;34m'*'\u001b[0m\u001b[0;34m,\u001b[0m \u001b[0mchunk_length\u001b[0m\u001b[0;34m=\u001b[0m\u001b[0;36m3\u001b[0m\u001b[0;34m)\u001b[0m\u001b[0;34m\u001b[0m\u001b[0m\n\u001b[0m",
      "\u001b[0;32m/home/aliman/src/github/cggh/scikit-allel/allel/io_vcf_read.py\u001b[0m in \u001b[0;36mvcf_to_hdf5\u001b[0;34m(input_path, output_path, group, compression, compression_opts, shuffle, overwrite, fields, types, numbers, buffer_size, chunk_length, chunk_width)\u001b[0m\n\u001b[1;32m    299\u001b[0m                 \u001b[0;32melse\u001b[0m\u001b[0;34m:\u001b[0m\u001b[0;34m\u001b[0m\u001b[0m\n\u001b[1;32m    300\u001b[0m                     \u001b[0;31m# TODO right exception class?\u001b[0m\u001b[0;34m\u001b[0m\u001b[0;34m\u001b[0m\u001b[0m\n\u001b[0;32m--> 301\u001b[0;31m                     \u001b[0;32mraise\u001b[0m \u001b[0mValueError\u001b[0m\u001b[0;34m(\u001b[0m\u001b[0;34m'dataset exists at path %r; use overwrite=True to replace'\u001b[0m \u001b[0;34m%\u001b[0m \u001b[0mname\u001b[0m\u001b[0;34m)\u001b[0m\u001b[0;34m\u001b[0m\u001b[0m\n\u001b[0m\u001b[1;32m    302\u001b[0m             root[group].create_dataset(name, data=np.array(headers.samples).astype('S'),\n\u001b[1;32m    303\u001b[0m                                        chunks=None)\n",
      "\u001b[0;31mValueError\u001b[0m: dataset exists at path 'samples'; use overwrite=True to replace"
     ]
    }
   ],
   "source": [
    "hdf5_fn = 'sample.h5'\n",
    "vcf_to_hdf5(sample_vcf_fn, hdf5_fn, fields='*', chunk_length=3)"
   ]
  },
  {
   "cell_type": "code",
   "execution_count": 66,
   "metadata": {
    "collapsed": true
   },
   "outputs": [],
   "source": [
    "vcf_to_hdf5(sample_vcf_fn, hdf5_fn, fields='*', chunk_length=3, overwrite=True)"
   ]
  },
  {
   "cell_type": "code",
   "execution_count": 67,
   "metadata": {
    "collapsed": false
   },
   "outputs": [
    {
     "name": "stdout",
     "output_type": "stream",
     "text": [
      "-rw-r--r-- 1 aliman aliman 88K Jun  8 15:59 sample.h5\r\n"
     ]
    }
   ],
   "source": [
    "!ls -lh {hdf5_fn}"
   ]
  },
  {
   "cell_type": "code",
   "execution_count": 68,
   "metadata": {
    "collapsed": false
   },
   "outputs": [
    {
     "name": "stdout",
     "output_type": "stream",
     "text": [
      "calldata                 Group\r\n",
      "samples                  Dataset {3}\r\n",
      "variants                 Group\r\n"
     ]
    }
   ],
   "source": [
    "!h5ls {hdf5_fn}"
   ]
  },
  {
   "cell_type": "code",
   "execution_count": 69,
   "metadata": {
    "collapsed": false
   },
   "outputs": [
    {
     "name": "stdout",
     "output_type": "stream",
     "text": [
      "AA                       Dataset {9/Inf}\r\n",
      "AC                       Dataset {9/Inf, 3}\r\n",
      "AF                       Dataset {9/Inf, 3}\r\n",
      "ALT                      Dataset {9/Inf, 3}\r\n",
      "AN                       Dataset {9/Inf}\r\n",
      "CHROM                    Dataset {9/Inf}\r\n",
      "DB                       Dataset {9/Inf}\r\n",
      "DP                       Dataset {9/Inf}\r\n",
      "FILTER                   Dataset {9/Inf, 1}\r\n",
      "FILTER_PASS              Dataset {9/Inf}\r\n",
      "FILTER_q10               Dataset {9/Inf}\r\n",
      "FILTER_s50               Dataset {9/Inf}\r\n",
      "H2                       Dataset {9/Inf}\r\n",
      "ID                       Dataset {9/Inf}\r\n",
      "NS                       Dataset {9/Inf}\r\n",
      "POS                      Dataset {9/Inf}\r\n",
      "QUAL                     Dataset {9/Inf}\r\n",
      "REF                      Dataset {9/Inf}\r\n"
     ]
    }
   ],
   "source": [
    "!h5ls {hdf5_fn}/variants"
   ]
  },
  {
   "cell_type": "code",
   "execution_count": 70,
   "metadata": {
    "collapsed": false
   },
   "outputs": [
    {
     "name": "stdout",
     "output_type": "stream",
     "text": [
      "CHROM                    Dataset {9/Inf}\r\n"
     ]
    }
   ],
   "source": [
    "!h5ls {hdf5_fn}/variants/CHROM"
   ]
  },
  {
   "cell_type": "code",
   "execution_count": 71,
   "metadata": {
    "collapsed": false
   },
   "outputs": [
    {
     "name": "stdout",
     "output_type": "stream",
     "text": [
      "DP                       Dataset {9/Inf, 3}\r\n",
      "GQ                       Dataset {9/Inf, 3}\r\n",
      "GT                       Dataset {9/Inf, 3, 2}\r\n",
      "HQ                       Dataset {9/Inf, 3, 2}\r\n"
     ]
    }
   ],
   "source": [
    "!h5ls {hdf5_fn}/calldata"
   ]
  },
  {
   "cell_type": "code",
   "execution_count": 72,
   "metadata": {
    "collapsed": false
   },
   "outputs": [
    {
     "name": "stdout",
     "output_type": "stream",
     "text": [
      "GT                       Dataset {9/Inf, 3, 2}\r\n"
     ]
    }
   ],
   "source": [
    "!h5ls {hdf5_fn}/calldata/GT"
   ]
  },
  {
   "cell_type": "code",
   "execution_count": 73,
   "metadata": {
    "collapsed": true
   },
   "outputs": [],
   "source": [
    "import h5py"
   ]
  },
  {
   "cell_type": "code",
   "execution_count": 74,
   "metadata": {
    "collapsed": false
   },
   "outputs": [
    {
     "name": "stdout",
     "output_type": "stream",
     "text": [
      "[b'NA00001' b'NA00002' b'NA00003']\n",
      "[b'19' b'19' b'20' b'20' b'20' b'20' b'20' b'20' b'X']\n",
      "[    111     112   14370   17330 1110696 1230237 1234567 1235237      10]\n",
      "[[[ 0  0]\n",
      "  [ 0  0]\n",
      "  [ 0  1]]\n",
      "\n",
      " [[ 0  0]\n",
      "  [ 0  0]\n",
      "  [ 0  1]]\n",
      "\n",
      " [[ 0  0]\n",
      "  [ 1  0]\n",
      "  [ 1  1]]\n",
      "\n",
      " [[ 0  0]\n",
      "  [ 0  1]\n",
      "  [ 0  0]]\n",
      "\n",
      " [[ 1  2]\n",
      "  [ 2  1]\n",
      "  [ 2  2]]\n",
      "\n",
      " [[ 0  0]\n",
      "  [ 0  0]\n",
      "  [ 0  0]]\n",
      "\n",
      " [[ 0  1]\n",
      "  [ 0  2]\n",
      "  [-1 -1]]\n",
      "\n",
      " [[ 0  0]\n",
      "  [ 0  0]\n",
      "  [-1 -1]]\n",
      "\n",
      " [[ 0 -1]\n",
      "  [ 0  1]\n",
      "  [ 0  2]]]\n"
     ]
    }
   ],
   "source": [
    "with h5py.File(hdf5_fn, mode='r') as h5f:\n",
    "    print(h5f['samples'][:])\n",
    "    print(h5f['variants/CHROM'][:])\n",
    "    print(h5f['variants/POS'][:])\n",
    "    print(h5f['calldata/GT'][:])\n",
    "    "
   ]
  },
  {
   "cell_type": "code",
   "execution_count": 75,
   "metadata": {
    "collapsed": false
   },
   "outputs": [
    {
     "ename": "KeyError",
     "evalue": "\"path 'samples' contains an array\"",
     "output_type": "error",
     "traceback": [
      "\u001b[0;31m---------------------------------------------------------------------------\u001b[0m",
      "\u001b[0;31mKeyError\u001b[0m                                  Traceback (most recent call last)",
      "\u001b[0;32m<ipython-input-75-afd148abc966>\u001b[0m in \u001b[0;36m<module>\u001b[0;34m()\u001b[0m\n\u001b[1;32m      1\u001b[0m \u001b[0mzarr_fn\u001b[0m \u001b[0;34m=\u001b[0m \u001b[0;34m'sample.zarr'\u001b[0m\u001b[0;34m\u001b[0m\u001b[0m\n\u001b[0;32m----> 2\u001b[0;31m \u001b[0mvcf_to_zarr\u001b[0m\u001b[0;34m(\u001b[0m\u001b[0msample_vcf_fn\u001b[0m\u001b[0;34m,\u001b[0m \u001b[0mzarr_fn\u001b[0m\u001b[0;34m,\u001b[0m \u001b[0mfields\u001b[0m\u001b[0;34m=\u001b[0m\u001b[0;34m'*'\u001b[0m\u001b[0;34m,\u001b[0m \u001b[0mchunk_length\u001b[0m\u001b[0;34m=\u001b[0m\u001b[0;36m3\u001b[0m\u001b[0;34m)\u001b[0m\u001b[0;34m\u001b[0m\u001b[0m\n\u001b[0m",
      "\u001b[0;32m/home/aliman/src/github/cggh/scikit-allel/allel/io_vcf_read.py\u001b[0m in \u001b[0;36mvcf_to_zarr\u001b[0;34m(input_path, output_path, group, compressor, fill_value, order, overwrite, fields, types, numbers, buffer_size, chunk_length, chunk_width)\u001b[0m\n\u001b[1;32m    395\u001b[0m         \u001b[0;31m# store samples\u001b[0m\u001b[0;34m\u001b[0m\u001b[0;34m\u001b[0m\u001b[0m\n\u001b[1;32m    396\u001b[0m         root[group].create_dataset('samples', data=np.array(headers.samples).astype('S'),\n\u001b[0;32m--> 397\u001b[0;31m                                    compressor=None, overwrite=overwrite)\n\u001b[0m\u001b[1;32m    398\u001b[0m \u001b[0;34m\u001b[0m\u001b[0m\n\u001b[1;32m    399\u001b[0m     \u001b[0;31m# read first chunk\u001b[0m\u001b[0;34m\u001b[0m\u001b[0;34m\u001b[0m\u001b[0m\n",
      "\u001b[0;32m/home/aliman/miniconda3/envs/biipy_20170126_py35/lib/python3.5/site-packages/zarr/hierarchy.py\u001b[0m in \u001b[0;36mcreate_dataset\u001b[0;34m(self, name, **kwargs)\u001b[0m\n\u001b[1;32m    569\u001b[0m         \"\"\"  # flake8: noqa\n\u001b[1;32m    570\u001b[0m \u001b[0;34m\u001b[0m\u001b[0m\n\u001b[0;32m--> 571\u001b[0;31m         \u001b[0;32mreturn\u001b[0m \u001b[0mself\u001b[0m\u001b[0;34m.\u001b[0m\u001b[0m_write_op\u001b[0m\u001b[0;34m(\u001b[0m\u001b[0mself\u001b[0m\u001b[0;34m.\u001b[0m\u001b[0m_create_dataset_nosync\u001b[0m\u001b[0;34m,\u001b[0m \u001b[0mname\u001b[0m\u001b[0;34m,\u001b[0m \u001b[0;34m**\u001b[0m\u001b[0mkwargs\u001b[0m\u001b[0;34m)\u001b[0m\u001b[0;34m\u001b[0m\u001b[0m\n\u001b[0m\u001b[1;32m    572\u001b[0m \u001b[0;34m\u001b[0m\u001b[0m\n\u001b[1;32m    573\u001b[0m     \u001b[0;32mdef\u001b[0m \u001b[0m_create_dataset_nosync\u001b[0m\u001b[0;34m(\u001b[0m\u001b[0mself\u001b[0m\u001b[0;34m,\u001b[0m \u001b[0mname\u001b[0m\u001b[0;34m,\u001b[0m \u001b[0mdata\u001b[0m\u001b[0;34m=\u001b[0m\u001b[0;32mNone\u001b[0m\u001b[0;34m,\u001b[0m \u001b[0;34m**\u001b[0m\u001b[0mkwargs\u001b[0m\u001b[0;34m)\u001b[0m\u001b[0;34m:\u001b[0m\u001b[0;34m\u001b[0m\u001b[0m\n",
      "\u001b[0;32m/home/aliman/miniconda3/envs/biipy_20170126_py35/lib/python3.5/site-packages/zarr/hierarchy.py\u001b[0m in \u001b[0;36m_write_op\u001b[0;34m(self, f, *args, **kwargs)\u001b[0m\n\u001b[1;32m    423\u001b[0m         \u001b[0;31m# synchronization\u001b[0m\u001b[0;34m\u001b[0m\u001b[0;34m\u001b[0m\u001b[0m\n\u001b[1;32m    424\u001b[0m         \u001b[0;32mif\u001b[0m \u001b[0mself\u001b[0m\u001b[0;34m.\u001b[0m\u001b[0m_synchronizer\u001b[0m \u001b[0;32mis\u001b[0m \u001b[0;32mNone\u001b[0m\u001b[0;34m:\u001b[0m\u001b[0;34m\u001b[0m\u001b[0m\n\u001b[0;32m--> 425\u001b[0;31m             \u001b[0;32mreturn\u001b[0m \u001b[0mf\u001b[0m\u001b[0;34m(\u001b[0m\u001b[0;34m*\u001b[0m\u001b[0margs\u001b[0m\u001b[0;34m,\u001b[0m \u001b[0;34m**\u001b[0m\u001b[0mkwargs\u001b[0m\u001b[0;34m)\u001b[0m\u001b[0;34m\u001b[0m\u001b[0m\n\u001b[0m\u001b[1;32m    426\u001b[0m         \u001b[0;32melse\u001b[0m\u001b[0;34m:\u001b[0m\u001b[0;34m\u001b[0m\u001b[0m\n\u001b[1;32m    427\u001b[0m             \u001b[0;31m# synchronize on the root group\u001b[0m\u001b[0;34m\u001b[0m\u001b[0;34m\u001b[0m\u001b[0m\n",
      "\u001b[0;32m/home/aliman/miniconda3/envs/biipy_20170126_py35/lib/python3.5/site-packages/zarr/hierarchy.py\u001b[0m in \u001b[0;36m_create_dataset_nosync\u001b[0;34m(self, name, data, **kwargs)\u001b[0m\n\u001b[1;32m    585\u001b[0m         \u001b[0;32melse\u001b[0m\u001b[0;34m:\u001b[0m\u001b[0;34m\u001b[0m\u001b[0m\n\u001b[1;32m    586\u001b[0m             a = array(data, store=self._store, path=path,\n\u001b[0;32m--> 587\u001b[0;31m                       chunk_store=self._chunk_store, **kwargs)\n\u001b[0m\u001b[1;32m    588\u001b[0m \u001b[0;34m\u001b[0m\u001b[0m\n\u001b[1;32m    589\u001b[0m         \u001b[0;32mreturn\u001b[0m \u001b[0ma\u001b[0m\u001b[0;34m\u001b[0m\u001b[0m\n",
      "\u001b[0;32m/home/aliman/miniconda3/envs/biipy_20170126_py35/lib/python3.5/site-packages/zarr/creation.py\u001b[0m in \u001b[0;36marray\u001b[0;34m(data, **kwargs)\u001b[0m\n\u001b[1;32m    306\u001b[0m \u001b[0;34m\u001b[0m\u001b[0m\n\u001b[1;32m    307\u001b[0m     \u001b[0;31m# instantiate array\u001b[0m\u001b[0;34m\u001b[0m\u001b[0;34m\u001b[0m\u001b[0m\n\u001b[0;32m--> 308\u001b[0;31m     \u001b[0mz\u001b[0m \u001b[0;34m=\u001b[0m \u001b[0mcreate\u001b[0m\u001b[0;34m(\u001b[0m\u001b[0;34m**\u001b[0m\u001b[0mkwargs\u001b[0m\u001b[0;34m)\u001b[0m\u001b[0;34m\u001b[0m\u001b[0m\n\u001b[0m\u001b[1;32m    309\u001b[0m \u001b[0;34m\u001b[0m\u001b[0m\n\u001b[1;32m    310\u001b[0m     \u001b[0;31m# fill with data\u001b[0m\u001b[0;34m\u001b[0m\u001b[0;34m\u001b[0m\u001b[0m\n",
      "\u001b[0;32m/home/aliman/miniconda3/envs/biipy_20170126_py35/lib/python3.5/site-packages/zarr/creation.py\u001b[0m in \u001b[0;36mcreate\u001b[0;34m(shape, chunks, dtype, compressor, fill_value, order, store, synchronizer, overwrite, path, chunk_store, filters, cache_metadata, **kwargs)\u001b[0m\n\u001b[1;32m     84\u001b[0m                \u001b[0mcompressor\u001b[0m\u001b[0;34m=\u001b[0m\u001b[0mcompressor\u001b[0m\u001b[0;34m,\u001b[0m \u001b[0mfill_value\u001b[0m\u001b[0;34m=\u001b[0m\u001b[0mfill_value\u001b[0m\u001b[0;34m,\u001b[0m \u001b[0morder\u001b[0m\u001b[0;34m=\u001b[0m\u001b[0morder\u001b[0m\u001b[0;34m,\u001b[0m\u001b[0;34m\u001b[0m\u001b[0m\n\u001b[1;32m     85\u001b[0m                \u001b[0moverwrite\u001b[0m\u001b[0;34m=\u001b[0m\u001b[0moverwrite\u001b[0m\u001b[0;34m,\u001b[0m \u001b[0mpath\u001b[0m\u001b[0;34m=\u001b[0m\u001b[0mpath\u001b[0m\u001b[0;34m,\u001b[0m \u001b[0mchunk_store\u001b[0m\u001b[0;34m=\u001b[0m\u001b[0mchunk_store\u001b[0m\u001b[0;34m,\u001b[0m\u001b[0;34m\u001b[0m\u001b[0m\n\u001b[0;32m---> 86\u001b[0;31m                filters=filters)\n\u001b[0m\u001b[1;32m     87\u001b[0m \u001b[0;34m\u001b[0m\u001b[0m\n\u001b[1;32m     88\u001b[0m     \u001b[0;31m# instantiate array\u001b[0m\u001b[0;34m\u001b[0m\u001b[0;34m\u001b[0m\u001b[0m\n",
      "\u001b[0;32m/home/aliman/miniconda3/envs/biipy_20170126_py35/lib/python3.5/site-packages/zarr/storage.py\u001b[0m in \u001b[0;36minit_array\u001b[0;34m(store, shape, chunks, dtype, compressor, fill_value, order, overwrite, path, chunk_store, filters)\u001b[0m\n\u001b[1;32m    256\u001b[0m                          \u001b[0mcompressor\u001b[0m\u001b[0;34m=\u001b[0m\u001b[0mcompressor\u001b[0m\u001b[0;34m,\u001b[0m \u001b[0mfill_value\u001b[0m\u001b[0;34m=\u001b[0m\u001b[0mfill_value\u001b[0m\u001b[0;34m,\u001b[0m\u001b[0;34m\u001b[0m\u001b[0m\n\u001b[1;32m    257\u001b[0m                          \u001b[0morder\u001b[0m\u001b[0;34m=\u001b[0m\u001b[0morder\u001b[0m\u001b[0;34m,\u001b[0m \u001b[0moverwrite\u001b[0m\u001b[0;34m=\u001b[0m\u001b[0moverwrite\u001b[0m\u001b[0;34m,\u001b[0m \u001b[0mpath\u001b[0m\u001b[0;34m=\u001b[0m\u001b[0mpath\u001b[0m\u001b[0;34m,\u001b[0m\u001b[0;34m\u001b[0m\u001b[0m\n\u001b[0;32m--> 258\u001b[0;31m                          chunk_store=chunk_store, filters=filters)\n\u001b[0m\u001b[1;32m    259\u001b[0m \u001b[0;34m\u001b[0m\u001b[0m\n\u001b[1;32m    260\u001b[0m \u001b[0;34m\u001b[0m\u001b[0m\n",
      "\u001b[0;32m/home/aliman/miniconda3/envs/biipy_20170126_py35/lib/python3.5/site-packages/zarr/storage.py\u001b[0m in \u001b[0;36m_init_array_metadata\u001b[0;34m(store, shape, chunks, dtype, compressor, fill_value, order, overwrite, path, chunk_store, filters)\u001b[0m\n\u001b[1;32m    271\u001b[0m             \u001b[0mrmdir\u001b[0m\u001b[0;34m(\u001b[0m\u001b[0mchunk_store\u001b[0m\u001b[0;34m,\u001b[0m \u001b[0mpath\u001b[0m\u001b[0;34m)\u001b[0m\u001b[0;34m\u001b[0m\u001b[0m\n\u001b[1;32m    272\u001b[0m     \u001b[0;32melif\u001b[0m \u001b[0mcontains_array\u001b[0m\u001b[0;34m(\u001b[0m\u001b[0mstore\u001b[0m\u001b[0;34m,\u001b[0m \u001b[0mpath\u001b[0m\u001b[0;34m)\u001b[0m\u001b[0;34m:\u001b[0m\u001b[0;34m\u001b[0m\u001b[0m\n\u001b[0;32m--> 273\u001b[0;31m         \u001b[0merr_contains_array\u001b[0m\u001b[0;34m(\u001b[0m\u001b[0mpath\u001b[0m\u001b[0;34m)\u001b[0m\u001b[0;34m\u001b[0m\u001b[0m\n\u001b[0m\u001b[1;32m    274\u001b[0m     \u001b[0;32melif\u001b[0m \u001b[0mcontains_group\u001b[0m\u001b[0;34m(\u001b[0m\u001b[0mstore\u001b[0m\u001b[0;34m,\u001b[0m \u001b[0mpath\u001b[0m\u001b[0;34m)\u001b[0m\u001b[0;34m:\u001b[0m\u001b[0;34m\u001b[0m\u001b[0m\n\u001b[1;32m    275\u001b[0m         \u001b[0merr_contains_group\u001b[0m\u001b[0;34m(\u001b[0m\u001b[0mpath\u001b[0m\u001b[0;34m)\u001b[0m\u001b[0;34m\u001b[0m\u001b[0m\n",
      "\u001b[0;32m/home/aliman/miniconda3/envs/biipy_20170126_py35/lib/python3.5/site-packages/zarr/errors.py\u001b[0m in \u001b[0;36merr_contains_array\u001b[0;34m(path)\u001b[0m\n\u001b[1;32m     25\u001b[0m \u001b[0;34m\u001b[0m\u001b[0m\n\u001b[1;32m     26\u001b[0m \u001b[0;32mdef\u001b[0m \u001b[0merr_contains_array\u001b[0m\u001b[0;34m(\u001b[0m\u001b[0mpath\u001b[0m\u001b[0;34m)\u001b[0m\u001b[0;34m:\u001b[0m\u001b[0;34m\u001b[0m\u001b[0m\n\u001b[0;32m---> 27\u001b[0;31m     \u001b[0;32mraise\u001b[0m \u001b[0mKeyError\u001b[0m\u001b[0;34m(\u001b[0m\u001b[0;34m'path %r contains an array'\u001b[0m \u001b[0;34m%\u001b[0m \u001b[0mpath\u001b[0m\u001b[0;34m)\u001b[0m\u001b[0;34m\u001b[0m\u001b[0m\n\u001b[0m\u001b[1;32m     28\u001b[0m \u001b[0;34m\u001b[0m\u001b[0m\n\u001b[1;32m     29\u001b[0m \u001b[0;34m\u001b[0m\u001b[0m\n",
      "\u001b[0;31mKeyError\u001b[0m: \"path 'samples' contains an array\""
     ]
    }
   ],
   "source": [
    "zarr_fn = 'sample.zarr'\n",
    "vcf_to_zarr(sample_vcf_fn, zarr_fn, fields='*', chunk_length=3)"
   ]
  },
  {
   "cell_type": "code",
   "execution_count": 76,
   "metadata": {
    "collapsed": true
   },
   "outputs": [],
   "source": [
    "vcf_to_zarr(sample_vcf_fn, zarr_fn, fields='*', chunk_length=3, overwrite=True)"
   ]
  },
  {
   "cell_type": "code",
   "execution_count": 77,
   "metadata": {
    "collapsed": false
   },
   "outputs": [
    {
     "data": {
      "text/plain": [
       "Group(/, 3)\n",
       "  arrays: 1; samples\n",
       "  groups: 2; calldata, variants\n",
       "  store: DirectoryStore"
      ]
     },
     "execution_count": 77,
     "metadata": {},
     "output_type": "execute_result"
    }
   ],
   "source": [
    "import zarr\n",
    "callset = zarr.open_group('sample.zarr')\n",
    "callset"
   ]
  },
  {
   "cell_type": "code",
   "execution_count": 78,
   "metadata": {
    "collapsed": false
   },
   "outputs": [
    {
     "data": {
      "text/plain": [
       "array([b'NA00001', b'NA00002', b'NA00003'], \n",
       "      dtype='|S7')"
      ]
     },
     "execution_count": 78,
     "metadata": {},
     "output_type": "execute_result"
    }
   ],
   "source": [
    "callset['samples'][:]"
   ]
  },
  {
   "cell_type": "code",
   "execution_count": 79,
   "metadata": {
    "collapsed": false
   },
   "outputs": [
    {
     "data": {
      "text/plain": [
       "Group(/variants, 18)\n",
       "  arrays: 18; AA, AC, AF, ALT, AN, CHROM, DB, DP, FILTER, FILTER_PASS, FILTE...\n",
       "  store: DirectoryStore"
      ]
     },
     "execution_count": 79,
     "metadata": {},
     "output_type": "execute_result"
    }
   ],
   "source": [
    "callset['variants']"
   ]
  },
  {
   "cell_type": "code",
   "execution_count": 80,
   "metadata": {
    "collapsed": false
   },
   "outputs": [
    {
     "data": {
      "text/plain": [
       "array([    111,     112,   14370,   17330, 1110696, 1230237, 1234567,\n",
       "       1235237,      10], dtype=int32)"
      ]
     },
     "execution_count": 80,
     "metadata": {},
     "output_type": "execute_result"
    }
   ],
   "source": [
    "callset['variants/POS'][:]"
   ]
  },
  {
   "cell_type": "code",
   "execution_count": 81,
   "metadata": {
    "collapsed": false
   },
   "outputs": [
    {
     "data": {
      "text/plain": [
       "array([b'19', b'19', b'20', b'20', b'20', b'20', b'20', b'20', b'X'], \n",
       "      dtype='|S12')"
      ]
     },
     "execution_count": 81,
     "metadata": {},
     "output_type": "execute_result"
    }
   ],
   "source": [
    "callset['variants/CHROM'][:]"
   ]
  },
  {
   "cell_type": "code",
   "execution_count": 82,
   "metadata": {
    "collapsed": false
   },
   "outputs": [
    {
     "data": {
      "text/plain": [
       "Group(/calldata, 4)\n",
       "  arrays: 4; DP, GQ, GT, HQ\n",
       "  store: DirectoryStore"
      ]
     },
     "execution_count": 82,
     "metadata": {},
     "output_type": "execute_result"
    }
   ],
   "source": [
    "callset['calldata']"
   ]
  },
  {
   "cell_type": "code",
   "execution_count": 83,
   "metadata": {
    "collapsed": false
   },
   "outputs": [
    {
     "data": {
      "text/plain": [
       "array([[[ 0,  0],\n",
       "        [ 0,  0],\n",
       "        [ 0,  1]],\n",
       "\n",
       "       [[ 0,  0],\n",
       "        [ 0,  0],\n",
       "        [ 0,  1]],\n",
       "\n",
       "       [[ 0,  0],\n",
       "        [ 1,  0],\n",
       "        [ 1,  1]],\n",
       "\n",
       "       [[ 0,  0],\n",
       "        [ 0,  1],\n",
       "        [ 0,  0]],\n",
       "\n",
       "       [[ 1,  2],\n",
       "        [ 2,  1],\n",
       "        [ 2,  2]],\n",
       "\n",
       "       [[ 0,  0],\n",
       "        [ 0,  0],\n",
       "        [ 0,  0]],\n",
       "\n",
       "       [[ 0,  1],\n",
       "        [ 0,  2],\n",
       "        [-1, -1]],\n",
       "\n",
       "       [[ 0,  0],\n",
       "        [ 0,  0],\n",
       "        [-1, -1]],\n",
       "\n",
       "       [[ 0, -1],\n",
       "        [ 0,  1],\n",
       "        [ 0,  2]]], dtype=int8)"
      ]
     },
     "execution_count": 83,
     "metadata": {},
     "output_type": "execute_result"
    }
   ],
   "source": [
    "callset['calldata/GT'][:]"
   ]
  },
  {
   "cell_type": "code",
   "execution_count": 84,
   "metadata": {
    "collapsed": false
   },
   "outputs": [
    {
     "data": {
      "text/plain": [
       "array([[-1, -1, -1],\n",
       "       [-1, -1, -1],\n",
       "       [48, 48, 43],\n",
       "       [49,  3, 41],\n",
       "       [21,  2, 35],\n",
       "       [54, 48, 61],\n",
       "       [-1, 17, 40],\n",
       "       [-1, -1, -1],\n",
       "       [-1, -1, -1]], dtype=int8)"
      ]
     },
     "execution_count": 84,
     "metadata": {},
     "output_type": "execute_result"
    }
   ],
   "source": [
    "callset['calldata/GQ'][:]"
   ]
  },
  {
   "cell_type": "markdown",
   "metadata": {},
   "source": [
    "## Profiling"
   ]
  },
  {
   "cell_type": "code",
   "execution_count": 1,
   "metadata": {
    "collapsed": false
   },
   "outputs": [],
   "source": [
    "import sys\n",
    "sys.path.insert(0, '../..')\n",
    "import cProfile\n",
    "from allel.io_vcf_read import read_vcf, vcf_to_npz, vcf_to_hdf5, vcf_to_zarr\n",
    "\n",
    "sample_vcf_fn = '../../fixture/sample.vcf'\n",
    "prof_vcf_fn = '../../profdata/2L_2358158_2431617.vcf'"
   ]
  },
  {
   "cell_type": "code",
   "execution_count": 2,
   "metadata": {
    "collapsed": false
   },
   "outputs": [
    {
     "name": "stdout",
     "output_type": "stream",
     "text": [
      "CPU times: user 92 ms, sys: 8 ms, total: 100 ms\n",
      "Wall time: 94.3 ms\n"
     ]
    },
    {
     "data": {
      "text/plain": [
       "{'calldata/GT': array([[[0, 0],\n",
       "         [0, 0],\n",
       "         [0, 0],\n",
       "         ..., \n",
       "         [0, 0],\n",
       "         [0, 0],\n",
       "         [0, 0]],\n",
       " \n",
       "        [[0, 0],\n",
       "         [0, 0],\n",
       "         [0, 0],\n",
       "         ..., \n",
       "         [0, 0],\n",
       "         [0, 0],\n",
       "         [0, 0]],\n",
       " \n",
       "        [[0, 0],\n",
       "         [0, 0],\n",
       "         [0, 0],\n",
       "         ..., \n",
       "         [0, 0],\n",
       "         [0, 0],\n",
       "         [0, 0]],\n",
       " \n",
       "        ..., \n",
       "        [[0, 0],\n",
       "         [0, 0],\n",
       "         [0, 0],\n",
       "         ..., \n",
       "         [0, 0],\n",
       "         [0, 0],\n",
       "         [0, 0]],\n",
       " \n",
       "        [[1, 1],\n",
       "         [0, 1],\n",
       "         [1, 1],\n",
       "         ..., \n",
       "         [0, 0],\n",
       "         [1, 1],\n",
       "         [0, 1]],\n",
       " \n",
       "        [[0, 0],\n",
       "         [0, 0],\n",
       "         [0, 0],\n",
       "         ..., \n",
       "         [0, 0],\n",
       "         [0, 0],\n",
       "         [0, 0]]], dtype=int8),\n",
       " 'samples': array(['AB0085-C', 'AB0087-C', 'AB0088-C', 'AB0089-C', 'AB0090-C',\n",
       "        'AB0091-C', 'AB0092-C', 'AB0094-C', 'AB0095-C', 'AB0097-C',\n",
       "        'AB0098-C', 'AB0099-C', 'AB0100-C', 'AB0101-C', 'AB0103-C',\n",
       "        'AB0104-C', 'AB0109-C', 'AB0110-C', 'AB0111-C', 'AB0112-C',\n",
       "        'AB0113-C', 'AB0114-C', 'AB0117-C', 'AB0119-C', 'AB0122-C',\n",
       "        'AB0123-C', 'AB0124-C', 'AB0126-C', 'AB0127-C', 'AB0128-C',\n",
       "        'AB0129-C', 'AB0130-C', 'AB0133-C', 'AB0134-C', 'AB0135-C',\n",
       "        'AB0136-C', 'AB0137-C', 'AB0138-C', 'AB0139-C', 'AB0140-C',\n",
       "        'AB0142-C', 'AB0143-C', 'AB0145-C', 'AB0146-C', 'AB0147-C',\n",
       "        'AB0148-C', 'AB0151-C', 'AB0153-C', 'AB0155-C', 'AB0157-C',\n",
       "        'AB0158-C', 'AB0159-C', 'AB0160-C', 'AB0161-C', 'AB0164-C',\n",
       "        'AB0166-C', 'AB0169-C', 'AB0170-C', 'AB0171-C', 'AB0172-C',\n",
       "        'AB0173-C', 'AB0174-C', 'AB0175-C', 'AB0176-C', 'AB0177-C',\n",
       "        'AB0178-C', 'AB0179-C', 'AB0181-C', 'AB0182-C', 'AB0183-C',\n",
       "        'AB0184-C', 'AB0185-C', 'AB0186-C', 'AB0187-C', 'AB0188-C',\n",
       "        'AB0189-C', 'AB0190-C', 'AB0191-C', 'AB0192-C', 'AB0197-C',\n",
       "        'AB0198-C', 'AB0199-C', 'AB0201-C', 'AB0202-C', 'AB0203-C',\n",
       "        'AB0204-C', 'AB0205-C', 'AB0206-C', 'AB0207-C', 'AB0208-C',\n",
       "        'AB0209-C', 'AB0210-C', 'AB0211-C', 'AB0212-C', 'AB0213-C',\n",
       "        'AB0217-C', 'AB0219-C', 'AB0221-C', 'AB0222-C', 'AB0223-C',\n",
       "        'AB0224-C', 'AB0226-C', 'AB0227-C', 'AB0228-C', 'AB0229-C',\n",
       "        'AB0231-C', 'AB0233-C', 'AB0234-C', 'AB0235-C', 'AB0236-C',\n",
       "        'AB0237-C', 'AB0238-C', 'AB0239-C', 'AB0240-C', 'AB0241-C',\n",
       "        'AB0242-C', 'AB0243-C', 'AB0244-C', 'AB0246-C', 'AB0249-C',\n",
       "        'AB0250-C', 'AB0251-C', 'AB0252-C', 'AB0253-C', 'AB0256-C',\n",
       "        'AB0257-C', 'AB0258-C', 'AB0260-C', 'AB0261-C', 'AB0262-C',\n",
       "        'AB0263-C', 'AB0264-C', 'AB0265-C', 'AB0266-C', 'AB0267-C',\n",
       "        'AB0268-C', 'AB0270-C', 'AB0271-C', 'AB0272-C', 'AB0273-C',\n",
       "        'AB0274-C', 'AB0276-C', 'AB0277-C', 'AB0278-C', 'AB0279-C',\n",
       "        'AB0280-C', 'AB0281-C', 'AB0282-C', 'AB0283-C', 'AB0284-C',\n",
       "        'AC0090-C', 'AC0091-C', 'AC0092-C', 'AC0093-C', 'AC0094-C',\n",
       "        'AC0095-C', 'AC0096-C', 'AC0097-C', 'AC0098-C', 'AC0099-C',\n",
       "        'AC0100-C', 'AC0101-C', 'AC0102-C', 'AC0103-C', 'AC0104-C',\n",
       "        'AC0106-C', 'AC0107-C', 'AC0108-C', 'AC0109-C', 'AC0110-C',\n",
       "        'AC0111-C', 'AC0112-C', 'AC0113-C', 'AC0114-C', 'AC0115-C',\n",
       "        'AC0116-C', 'AC0117-C', 'AC0118-C', 'AC0119-C', 'AC0120-C',\n",
       "        'AC0121-C', 'AC0122-C', 'AC0123-C', 'AC0124-C', 'AC0125-C',\n",
       "        'AC0126-C', 'AC0127-C', 'AC0128-C', 'AC0129-C', 'AC0130-C',\n",
       "        'AC0131-C', 'AC0132-C', 'AC0133-C', 'AC0135-C', 'AC0136-C',\n",
       "        'AC0137-C', 'AC0138-C', 'AC0139-C', 'AC0140-C', 'AC0142-C',\n",
       "        'AC0143-C', 'AC0144-C', 'AC0145-C', 'AC0147-C', 'AC0148-C',\n",
       "        'AC0149-C', 'AC0150-C', 'AC0151-C', 'AC0152-C', 'AC0153-C',\n",
       "        'AC0154-C', 'AC0156-C', 'AC0158-C', 'AC0159-C', 'AC0160-C',\n",
       "        'AC0161-C', 'AC0162-C', 'AC0163-C', 'AC0164-C', 'AC0166-C',\n",
       "        'AC0167-C', 'AC0168-C', 'AC0169-C', 'AC0170-C', 'AC0171-C',\n",
       "        'AC0172-C', 'AC0173-C', 'AC0174-C', 'AC0176-C', 'AC0178-C',\n",
       "        'AC0179-C', 'AC0180-C', 'AC0181-C', 'AC0182-C', 'AC0183-C',\n",
       "        'AC0184-C', 'AC0186-C', 'AC0187-C', 'AC0188-C', 'AC0189-C',\n",
       "        'AC0190-C', 'AC0191-C', 'AC0192-C', 'AC0193-C', 'AC0194-C',\n",
       "        'AC0195-C', 'AC0196-C', 'AC0197-C', 'AC0199-C', 'AC0200-C',\n",
       "        'AC0201-C', 'AC0202-C', 'AC0203-C', 'AJ0023-C', 'AJ0024-C',\n",
       "        'AJ0032-C', 'AJ0035-C', 'AJ0036-C', 'AJ0039-C', 'AJ0043-C',\n",
       "        'AJ0044-C', 'AJ0045-C', 'AJ0047-C', 'AJ0051-C', 'AJ0052-C',\n",
       "        'AJ0056-C', 'AJ0061-C', 'AJ0063-C', 'AJ0064-C', 'AJ0066-C',\n",
       "        'AJ0070-C', 'AJ0071-C', 'AJ0072-C', 'AJ0074-C', 'AJ0075-C',\n",
       "        'AJ0076-C', 'AJ0077-C', 'AJ0078-C', 'AJ0081-C', 'AJ0084-C',\n",
       "        'AJ0085-C', 'AJ0086-C', 'AJ0088-C', 'AJ0090-C', 'AJ0092-C',\n",
       "        'AJ0093-C', 'AJ0096-C', 'AJ0097-C', 'AJ0098-C', 'AJ0100-C',\n",
       "        'AJ0101-C', 'AJ0102-C', 'AJ0103-C', 'AJ0105-C', 'AJ0107-C',\n",
       "        'AJ0109-C', 'AJ0113-C', 'AJ0115-C', 'AJ0116-C', 'AK0065-C',\n",
       "        'AK0066-C', 'AK0067-C', 'AK0068-C', 'AK0069-C', 'AK0070-C',\n",
       "        'AK0072-C', 'AK0073-C', 'AK0074-C', 'AK0075-C', 'AK0076-C',\n",
       "        'AK0077-C', 'AK0078-C', 'AK0079-C', 'AK0080-C', 'AK0081-C',\n",
       "        'AK0082-C', 'AK0085-C', 'AK0086-C', 'AK0087-C', 'AK0088-C',\n",
       "        'AK0089-C', 'AK0090-C', 'AK0091-C', 'AK0092-C', 'AK0093-C',\n",
       "        'AK0094-C', 'AK0095-C', 'AK0096-C', 'AK0098-C', 'AK0099-C',\n",
       "        'AK0100-C', 'AK0101-C', 'AK0102-C', 'AK0103-C', 'AK0104-C',\n",
       "        'AK0105-C', 'AK0106-C', 'AK0108-C', 'AK0109-C', 'AK0110-C',\n",
       "        'AK0116-C', 'AK0119-C', 'AK0127-C', 'AN0007-C', 'AN0008-C',\n",
       "        'AN0009-C', 'AN0010-C', 'AN0011-C', 'AN0012-C', 'AN0014-C',\n",
       "        'AN0016-C', 'AN0017-C', 'AN0018-C', 'AN0019-C', 'AN0020-C',\n",
       "        'AN0022-C', 'AN0023-C', 'AN0024-C', 'AN0025-C', 'AN0026-C',\n",
       "        'AN0027-C', 'AN0028-C', 'AN0029-C', 'AN0030-C', 'AN0031-C',\n",
       "        'AN0032-C', 'AN0033-C', 'AN0034-C', 'AN0035-C', 'AN0036-C',\n",
       "        'AN0037-C', 'AN0038-C', 'AN0039-C', 'AN0040-C', 'AN0041-C',\n",
       "        'AN0042-C', 'AN0043-C', 'AN0045-C', 'AN0046-C', 'AN0047-C',\n",
       "        'AN0048-C', 'AN0049-C', 'AN0050-C', 'AN0051-C', 'AN0053-C',\n",
       "        'AN0054-C', 'AN0055-C', 'AN0056-C', 'AN0057-C', 'AN0058-C',\n",
       "        'AN0059-C', 'AN0060-C', 'AN0063-C', 'AN0064-C', 'AN0065-C',\n",
       "        'AN0066-C', 'AN0067-C', 'AN0068-C', 'AN0069-C', 'AN0070-C',\n",
       "        'AN0071-C', 'AN0072-C', 'AN0073-C', 'AN0074-C', 'AN0075-C',\n",
       "        'AN0076-C', 'AN0077-C', 'AN0079-C', 'AN0080-C', 'AN0081-C',\n",
       "        'AN0082-C', 'AN0083-C', 'AN0084-C', 'AN0085-C', 'AN0086-C',\n",
       "        'AN0087-C', 'AN0088-C', 'AN0089-C', 'AN0090-C', 'AN0091-C',\n",
       "        'AN0092-C', 'AN0093-C', 'AN0094-C', 'AN0095-C', 'AN0096-C',\n",
       "        'AN0097-C', 'AN0098-C', 'AN0099-C', 'AN0100-C', 'AN0101-C',\n",
       "        'AN0102-C', 'AN0103-C', 'AN0104-C', 'AN0105-C', 'AN0106-C',\n",
       "        'AN0107-C', 'AN0108-C', 'AN0109-C', 'AN0111-C', 'AN0112-C',\n",
       "        'AN0113-C', 'AN0114-C', 'AN0115-C', 'AN0117-C', 'AN0120-C',\n",
       "        'AN0121-C', 'AN0122-C', 'AN0123-C', 'AN0124-C', 'AN0125-C',\n",
       "        'AN0126-C', 'AN0127-C', 'AN0128-C', 'AN0129-C', 'AN0130-C',\n",
       "        'AN0131-C', 'AN0132-C', 'AN0134-C', 'AN0135-C', 'AN0136-C',\n",
       "        'AN0137-C', 'AN0138-C', 'AN0139-C', 'AN0140-C', 'AN0141-C',\n",
       "        'AN0143-C', 'AN0147-C', 'AN0149-C', 'AN0151-C', 'AN0152-C',\n",
       "        'AN0153-C', 'AN0154-C', 'AN0155-C', 'AN0156-C', 'AN0157-C',\n",
       "        'AN0158-C', 'AN0159-C', 'AN0160-C', 'AN0162-C', 'AN0163-C',\n",
       "        'AN0164-C', 'AN0165-C', 'AN0166-C', 'AN0167-C', 'AN0168-C',\n",
       "        'AN0169-C', 'AN0170-C', 'AN0171-C', 'AN0172-C', 'AN0173-C',\n",
       "        'AN0174-C', 'AN0175-C', 'AN0176-C', 'AN0177-C', 'AN0178-C',\n",
       "        'AN0179-C', 'AN0180-C', 'AN0181-C', 'AN0182-C', 'AN0183-C',\n",
       "        'AN0184-C', 'AN0185-C', 'AN0186-C', 'AN0187-C', 'AN0188-C',\n",
       "        'AN0189-C', 'AN0190-C', 'AN0191-C', 'AN0192-C', 'AN0193-C',\n",
       "        'AN0194-C', 'AN0196-C', 'AN0197-C', 'AN0198-C', 'AN0199-C',\n",
       "        'AN0200-C', 'AN0201-C', 'AN0202-C', 'AN0203-C', 'AN0204-C',\n",
       "        'AN0205-C', 'AN0206-C', 'AN0207-C', 'AN0208-C', 'AN0209-C',\n",
       "        'AN0210-C', 'AN0212-C', 'AN0213-C', 'AN0214-C', 'AN0215-C',\n",
       "        'AN0217-C', 'AN0218-C', 'AN0219-C', 'AN0220-C', 'AN0221-C',\n",
       "        'AN0222-C', 'AN0223-C', 'AN0224-C', 'AN0225-C', 'AN0226-C',\n",
       "        'AN0227-C', 'AN0228-C', 'AN0229-C', 'AN0230-C', 'AN0231-C',\n",
       "        'AN0233-C', 'AN0234-C', 'AN0235-C', 'AN0236-C', 'AN0237-C',\n",
       "        'AN0238-C', 'AN0239-C', 'AN0240-C', 'AN0241-C', 'AN0242-C',\n",
       "        'AN0243-C', 'AN0244-C', 'AN0245-C', 'AN0246-C', 'AN0247-C',\n",
       "        'AN0248-C', 'AN0250-C', 'AN0251-C', 'AN0252-C', 'AN0253-C',\n",
       "        'AN0254-C', 'AN0255-C', 'AN0256-C', 'AN0258-C', 'AN0259-C',\n",
       "        'AN0260-C', 'AN0261-C', 'AN0262-C', 'AN0263-C', 'AN0264-C',\n",
       "        'AN0266-C', 'AN0267-C', 'AN0268-C', 'AN0269-C', 'AN0270-C',\n",
       "        'AN0272-C', 'AN0275-C', 'AN0276-C', 'AN0277-C', 'AN0280-C',\n",
       "        'AN0282-C', 'AN0283-C', 'AN0284-C', 'AN0285-C', 'AN0286-C',\n",
       "        'AN0287-C', 'AN0288-C', 'AN0290-C', 'AN0291-C', 'AN0292-C',\n",
       "        'AN0294-C', 'AN0295-C', 'AN0296-C', 'AN0297-C', 'AN0298-C',\n",
       "        'AN0299-C', 'AN0300-C', 'AN0301-C', 'AN0303-C', 'AN0304-C',\n",
       "        'AN0305-C', 'AN0307-C', 'AN0308-C', 'AN0309-C', 'AN0310-C',\n",
       "        'AN0312-C', 'AN0313-C', 'AN0314-C', 'AN0315-C', 'AN0317-C',\n",
       "        'AN0318-C', 'AN0319-C', 'AN0321-C', 'AR0007-C', 'AR0008-C',\n",
       "        'AR0009-C', 'AR0010-C', 'AR0011-C', 'AR0012-C', 'AR0014-C',\n",
       "        'AR0015-C', 'AR0017-C', 'AR0019-C', 'AR0020-C', 'AR0021-C',\n",
       "        'AR0022-C', 'AR0023-C', 'AR0024-C', 'AR0026-C', 'AR0027-C',\n",
       "        'AR0034-C', 'AR0035-C', 'AR0042-C', 'AR0043-C', 'AR0045-C',\n",
       "        'AR0047-C', 'AR0049-C', 'AR0050-C', 'AR0051-C', 'AR0053-C',\n",
       "        'AR0054-C', 'AR0057-C', 'AR0059-C', 'AR0061-C', 'AR0062-C',\n",
       "        'AR0063-C', 'AR0065-C', 'AR0066-C', 'AR0069-C', 'AR0070-C',\n",
       "        'AR0071-C', 'AR0072-C', 'AR0073-C', 'AR0074-C', 'AR0075-C',\n",
       "        'AR0076-C', 'AR0078-C', 'AR0079-C', 'AR0080-C', 'AR0081-C',\n",
       "        'AR0083-C', 'AR0084-C', 'AR0086-C', 'AR0087-C', 'AR0089-C',\n",
       "        'AR0090-C', 'AR0092-C', 'AR0093-C', 'AR0095-C', 'AR0096-C',\n",
       "        'AR0098-C', 'AR0099-C', 'AR0100-C', 'AS0001-C', 'AS0002-C',\n",
       "        'AS0003-C', 'AS0004-C', 'AS0006-C', 'AS0007-C', 'AS0008-C',\n",
       "        'AS0009-C', 'AS0010-C', 'AS0011-C', 'AS0012-C', 'AS0013-C',\n",
       "        'AS0014-C', 'AS0015-C', 'AS0016-C', 'AS0017-C', 'AS0018-C',\n",
       "        'AS0019-C', 'AS0020-C', 'AS0021-C', 'AS0022-C', 'AS0024-C',\n",
       "        'AS0026-C', 'AS0028-C', 'AS0030-C', 'AS0032-C', 'AS0033-C',\n",
       "        'AS0034-C', 'AS0035-C', 'AS0036-C', 'AS0037-C', 'AS0039-C',\n",
       "        'AS0042-C', 'AS0044-C', 'AS0045-C', 'AS0047-C', 'AS0049-C',\n",
       "        'AS0052-C', 'AS0053-C', 'AS0054-C', 'AS0055-C', 'AS0056-C',\n",
       "        'AS0058-C', 'AS0059-C', 'AS0064-C', 'AS0065-C', 'AS0066-C',\n",
       "        'AS0068-C', 'AS0069-C', 'AS0070-C', 'AS0071-C', 'AS0072-C',\n",
       "        'AS0073-C', 'AS0074-C', 'AS0076-C', 'AS0077-C', 'AV0001-C',\n",
       "        'AV0002-C', 'AV0003-C', 'AV0004-C', 'AV0005-C', 'AV0007-C',\n",
       "        'AV0008-C', 'AV0009-C', 'AV0010-C', 'AV0011-C', 'AV0012-C',\n",
       "        'AV0013-C', 'AV0014-C', 'AV0015-C', 'AV0018-C', 'AV0024-C',\n",
       "        'AV0026-C', 'AV0027-C', 'AV0029-C', 'AV0030-C', 'AV0031-C',\n",
       "        'AV0032-C', 'AV0033-C', 'AV0034-C', 'AV0035-C', 'AV0036-C',\n",
       "        'AV0039-C', 'AV0041-C', 'AV0044-C', 'AV0045-C', 'AV0047-C',\n",
       "        'AD0231-C', 'AD0232-C', 'AD0254-C', 'AD0255-C', 'AD0305-C',\n",
       "        'AD0306-C', 'AD0347-C', 'AD0348-C'], dtype=object),\n",
       " 'variants/AC': array([[-1, -1, -1],\n",
       "        [-1, -1, -1],\n",
       "        [-1, -1, -1],\n",
       "        ..., \n",
       "        [-1, -1, -1],\n",
       "        [-1, -1, -1],\n",
       "        [-1, -1, -1]], dtype=int32),\n",
       " 'variants/ALT': array([['A', '', ''],\n",
       "        ['G', '', ''],\n",
       "        ['C', '', ''],\n",
       "        ..., \n",
       "        ['A', '', ''],\n",
       "        ['C', '', ''],\n",
       "        ['A', '', '']], dtype=object),\n",
       " 'variants/CHROM': array(['2L', '2L', '2L', ..., '2L', '2L', '2L'], dtype=object),\n",
       " 'variants/FILTER_PASS': array([False, False, False, ..., False, False, False], dtype=bool),\n",
       " 'variants/ID': array(['.', '.', '.', ..., '.', '.', '.'], dtype=object),\n",
       " 'variants/POS': array([2353212, 2353223, 2353234, ..., 2436558, 2436585, 2436615], dtype=int32),\n",
       " 'variants/QUAL': array([ 0.,  0.,  0., ...,  0.,  0.,  0.], dtype=float32),\n",
       " 'variants/REF': array(['G', 'T', 'G', ..., 'G', 'A', 'C'], dtype=object),\n",
       " 'variants/numalt': array([1, 1, 1, ..., 1, 1, 1], dtype=int32),\n",
       " 'variants/svlen': array([[0, 0, 0],\n",
       "        [0, 0, 0],\n",
       "        [0, 0, 0],\n",
       "        ..., \n",
       "        [0, 0, 0],\n",
       "        [0, 0, 0],\n",
       "        [0, 0, 0]], dtype=int32)}"
      ]
     },
     "execution_count": 2,
     "metadata": {},
     "output_type": "execute_result"
    }
   ],
   "source": [
    "%time read_vcf(prof_vcf_fn, fields='*', chunk_length=1000)"
   ]
  },
  {
   "cell_type": "code",
   "execution_count": 3,
   "metadata": {
    "collapsed": false
   },
   "outputs": [
    {
     "name": "stdout",
     "output_type": "stream",
     "text": [
      "CPU times: user 116 ms, sys: 4 ms, total: 120 ms\n",
      "Wall time: 208 ms\n"
     ]
    }
   ],
   "source": [
    "%time _ = read_vcf(prof_vcf_fn, n_threads=1, chunk_length=1000, block_length=100)"
   ]
  },
  {
   "cell_type": "code",
   "execution_count": 4,
   "metadata": {
    "collapsed": false
   },
   "outputs": [
    {
     "name": "stdout",
     "output_type": "stream",
     "text": [
      "1979\r\n"
     ]
    }
   ],
   "source": [
    "!cat {prof_vcf_fn} | wc -l"
   ]
  },
  {
   "cell_type": "code",
   "execution_count": 5,
   "metadata": {
    "collapsed": true
   },
   "outputs": [],
   "source": [
    "#!zcat ../../profdata/prof_gt.vcf.gz | wc -l"
   ]
  },
  {
   "cell_type": "code",
   "execution_count": 6,
   "metadata": {
    "collapsed": false
   },
   "outputs": [
    {
     "name": "stdout",
     "output_type": "stream",
     "text": [
      "10 loops, best of 3: 70.4 ms per loop\n"
     ]
    }
   ],
   "source": [
    "%timeit _ = read_vcf(prof_vcf_fn, chunk_length=1000)"
   ]
  },
  {
   "cell_type": "code",
   "execution_count": 7,
   "metadata": {
    "collapsed": false,
    "scrolled": false
   },
   "outputs": [
    {
     "name": "stdout",
     "output_type": "stream",
     "text": [
      "         184 function calls in 0.093 seconds\n",
      "\n",
      "   Ordered by: internal time\n",
      "\n",
      "   ncalls  tottime  percall  cumtime  percall filename:lineno(function)\n",
      "        1    0.089    0.089    0.089    0.089 io_vcf_read.py:261(<listcomp>)\n",
      "        1    0.002    0.002    0.003    0.003 io_vcf_read.py:1433(_iter_vcf_stream)\n",
      "        8    0.001    0.000    0.001    0.000 {built-in method numpy.core.multiarray.concatenate}\n",
      "        1    0.000    0.000    0.093    0.093 <string>:1(<module>)\n",
      "        1    0.000    0.000    0.003    0.003 io_vcf_read.py:857(iter_vcf_chunks)\n",
      "        1    0.000    0.000    0.000    0.000 io_vcf_read.py:1492(_read_vcf_headers)\n",
      "       17    0.000    0.000    0.000    0.000 {method 'split' of 'str' objects}\n",
      "        1    0.000    0.000    0.093    0.093 io_vcf_read.py:191(read_vcf)\n",
      "       12    0.000    0.000    0.000    0.000 {method 'readline' of 'allel.opt.io_vcf_read.FileInputStream' objects}\n",
      "        1    0.000    0.000    0.093    0.093 {built-in method builtins.exec}\n",
      "        1    0.000    0.000    0.000    0.000 {built-in method numpy.core.multiarray.array}\n",
      "        1    0.000    0.000    0.000    0.000 io_vcf_read.py:1403(_normalize_samples)\n",
      "        1    0.000    0.000    0.000    0.000 {built-in method io.open}\n",
      "        7    0.000    0.000    0.000    0.000 io_vcf_read.py:1193(_normalize_type)\n",
      "        1    0.000    0.000    0.000    0.000 io_vcf_read.py:1235(_normalize_types)\n",
      "        1    0.000    0.000    0.000    0.000 io_vcf_read.py:1331(_normalize_numbers)\n",
      "        1    0.000    0.000    0.000    0.000 {built-in method numpy.core.multiarray.zeros}\n",
      "        1    0.000    0.000    0.000    0.000 {method 'fill' of 'numpy.ndarray' objects}\n",
      "       60    0.000    0.000    0.000    0.000 {method 'startswith' of 'str' objects}\n",
      "        1    0.000    0.000    0.000    0.000 io_vcf_read.py:1112(_add_all_fixed_variants_fields)\n",
      "        1    0.000    0.000    0.000    0.000 {built-in method builtins.sorted}\n",
      "        2    0.000    0.000    0.000    0.000 {method 'match' of '_sre.SRE_Pattern' objects}\n",
      "        1    0.000    0.000    0.000    0.000 io_vcf_read.py:1385(_normalize_fills)\n",
      "        1    0.000    0.000    0.000    0.000 <string>:12(__new__)\n",
      "       20    0.000    0.000    0.000    0.000 {method 'append' of 'list' objects}\n",
      "        8    0.000    0.000    0.000    0.000 io_vcf_read.py:276(<listcomp>)\n",
      "        2    0.000    0.000    0.000    0.000 {method 'groups' of '_sre.SRE_Match' objects}\n",
      "        1    0.000    0.000    0.000    0.000 {built-in method __new__ of type object at 0x7fc74547cd20}\n",
      "        3    0.000    0.000    0.000    0.000 {method 'items' of 'dict' objects}\n",
      "        1    0.000    0.000    0.000    0.000 {method 'endswith' of 'str' objects}\n",
      "        1    0.000    0.000    0.000    0.000 io_vcf_read.py:1336(<dictcomp>)\n",
      "        1    0.000    0.000    0.000    0.000 {method 'strip' of 'str' objects}\n",
      "        1    0.000    0.000    0.000    0.000 io_vcf_read.py:51(_prep_fields_param)\n",
      "        1    0.000    0.000    0.000    0.000 io_vcf_read.py:1240(<dictcomp>)\n",
      "        1    0.000    0.000    0.000    0.000 {method 'keys' of 'dict' objects}\n",
      "        1    0.000    0.000    0.000    0.000 {method 'disable' of '_lsprof.Profiler' objects}\n",
      "       15    0.000    0.000    0.000    0.000 {built-in method builtins.isinstance}\n",
      "        3    0.000    0.000    0.000    0.000 {built-in method builtins.len}\n",
      "        1    0.000    0.000    0.000    0.000 io_vcf_read.py:1389(<dictcomp>)\n",
      "\n",
      "\n"
     ]
    }
   ],
   "source": [
    "cProfile.run('read_vcf(prof_vcf_fn, chunk_length=1000)', sort='time')"
   ]
  },
  {
   "cell_type": "code",
   "execution_count": 8,
   "metadata": {
    "collapsed": true
   },
   "outputs": [],
   "source": [
    "# from allel.opt.io_vcf_read import vcf_genotype_parse\n",
    "# import line_profiler\n",
    "# l = line_profiler.LineProfiler()\n",
    "# l.add_function(vcf_genotype_parse)\n",
    "# l.runcall(read_vcf, prof_vcf_fn, buffer_size=2**15, chunk_length=1000)\n",
    "# l.print_stats()"
   ]
  },
  {
   "cell_type": "code",
   "execution_count": null,
   "metadata": {
    "collapsed": true
   },
   "outputs": [],
   "source": []
  },
  {
   "cell_type": "code",
   "execution_count": 9,
   "metadata": {
    "collapsed": false
   },
   "outputs": [
    {
     "name": "stdout",
     "output_type": "stream",
     "text": [
      "CPU times: user 196 ms, sys: 8 ms, total: 204 ms\n",
      "Wall time: 199 ms\n"
     ]
    }
   ],
   "source": [
    "%time vcf_to_npz(prof_vcf_fn, 'prof.npz', chunk_length=200, overwrite=True)"
   ]
  },
  {
   "cell_type": "code",
   "execution_count": 10,
   "metadata": {
    "collapsed": false
   },
   "outputs": [
    {
     "name": "stdout",
     "output_type": "stream",
     "text": [
      "CPU times: user 164 ms, sys: 8 ms, total: 172 ms\n",
      "Wall time: 167 ms\n"
     ]
    }
   ],
   "source": [
    "%time vcf_to_hdf5(prof_vcf_fn, 'prof.h5', chunk_length=200, overwrite=True)"
   ]
  },
  {
   "cell_type": "code",
   "execution_count": 11,
   "metadata": {
    "collapsed": false
   },
   "outputs": [
    {
     "name": "stdout",
     "output_type": "stream",
     "text": [
      "CPU times: user 196 ms, sys: 28 ms, total: 224 ms\n",
      "Wall time: 229 ms\n"
     ]
    }
   ],
   "source": [
    "%time vcf_to_zarr(prof_vcf_fn, 'prof.zarr', chunk_length=200, overwrite=True)"
   ]
  },
  {
   "cell_type": "code",
   "execution_count": 12,
   "metadata": {
    "collapsed": false
   },
   "outputs": [
    {
     "name": "stdout",
     "output_type": "stream",
     "text": [
      "198679\r\n"
     ]
    }
   ],
   "source": [
    "!zcat ../../profdata/prof_gt.vcf.gz | wc -l"
   ]
  },
  {
   "cell_type": "code",
   "execution_count": 12,
   "metadata": {
    "collapsed": false
   },
   "outputs": [
    {
     "name": "stderr",
     "output_type": "stream",
     "text": [
      "[read_vcf] 65536 rows in 3.19s; chunk in 3.19s (20547 rows/s); 2L\u0000:2383306\n",
      "[read_vcf] 131072 rows in 6.32s; chunk in 3.13s (20955 rows/s); 2L\u0000:2403926\n",
      "[read_vcf] 196608 rows in 9.42s; chunk in 3.11s (21085 rows/s); 2L\u0000:2434126\n",
      "[read_vcf] 198667 rows in 9.61s; chunk in 0.18s (11297 rows/s); :0\n",
      "[read_vcf] all done (20677 rows/s)\n"
     ]
    },
    {
     "name": "stdout",
     "output_type": "stream",
     "text": [
      "CPU times: user 9.71 s, sys: 64 ms, total: 9.77 s\n",
      "Wall time: 9.76 s\n"
     ]
    }
   ],
   "source": [
    "%time _ = read_vcf('../../profdata/prof_gt.vcf.gz', log=sys.stderr)"
   ]
  },
  {
   "cell_type": "code",
   "execution_count": 13,
   "metadata": {
    "collapsed": false
   },
   "outputs": [
    {
     "name": "stderr",
     "output_type": "stream",
     "text": [
      "[read_vcf] 65536 rows in 3.71s; chunk in 3.71s (17685 rows/s); 2L\u0000:2383306\n",
      "[read_vcf] 131072 rows in 7.36s; chunk in 3.65s (17947 rows/s); 2L\u0000:2403926\n",
      "[read_vcf] 196608 rows in 11.02s; chunk in 3.66s (17903 rows/s); 2L\u0000:2434126\n",
      "[read_vcf] 198667 rows in 11.22s; chunk in 0.20s (10187 rows/s); :0\n",
      "[read_vcf] all done (17550 rows/s)\n"
     ]
    },
    {
     "name": "stdout",
     "output_type": "stream",
     "text": [
      "CPU times: user 11.4 s, sys: 128 ms, total: 11.5 s\n",
      "Wall time: 11.5 s\n"
     ]
    }
   ],
   "source": [
    "%time _ = read_vcf('../../profdata/prof_gt.vcf.gz', n_threads=1, log=sys.stderr)"
   ]
  },
  {
   "cell_type": "code",
   "execution_count": 14,
   "metadata": {
    "collapsed": false
   },
   "outputs": [
    {
     "name": "stderr",
     "output_type": "stream",
     "text": [
      "[read_vcf] 65536 rows in 3.66s; chunk in 3.66s (17894 rows/s); 2L\u0000:2383306\n",
      "[read_vcf] 131072 rows in 7.28s; chunk in 3.62s (18092 rows/s); 2L\u0000:2403926\n",
      "[read_vcf] 196608 rows in 10.90s; chunk in 3.62s (18116 rows/s); 2L\u0000:2434126\n",
      "[read_vcf] 198667 rows in 11.11s; chunk in 0.20s (10075 rows/s); :0\n",
      "[read_vcf] all done (17728 rows/s)\n"
     ]
    }
   ],
   "source": [
    "_ = read_vcf('../../profdata/prof_gt.vcf.gz', n_threads=2, log=sys.stderr)"
   ]
  },
  {
   "cell_type": "code",
   "execution_count": 14,
   "metadata": {
    "collapsed": false
   },
   "outputs": [
    {
     "name": "stderr",
     "output_type": "stream",
     "text": [
      "[read_vcf] 65536 rows in 1.67s; chunk in 1.67s (39302 rows/s); 2L\u0000:2383306\n",
      "[read_vcf] 131072 rows in 3.32s; chunk in 1.65s (39739 rows/s); 2L\u0000:2403926\n",
      "[read_vcf] 196608 rows in 5.16s; chunk in 1.84s (35526 rows/s); 2L\u0000:2434126\n",
      "[read_vcf] 198667 rows in 5.37s; chunk in 0.21s (9895 rows/s); :0\n",
      "[read_vcf] all done (35779 rows/s)\n"
     ]
    },
    {
     "name": "stdout",
     "output_type": "stream",
     "text": [
      "CPU times: user 12.1 s, sys: 92 ms, total: 12.2 s\n",
      "Wall time: 5.73 s\n"
     ]
    }
   ],
   "source": [
    "%time _ = read_vcf('../../profdata/prof_gt.vcf.gz', n_threads=3, log=sys.stderr)"
   ]
  },
  {
   "cell_type": "code",
   "execution_count": 15,
   "metadata": {
    "collapsed": false
   },
   "outputs": [
    {
     "name": "stderr",
     "output_type": "stream",
     "text": [
      "[read_vcf] 65536 rows in 2.26s; chunk in 2.26s (28991 rows/s); 2L\u0000:2383306\n",
      "[read_vcf] 131072 rows in 4.51s; chunk in 2.25s (29074 rows/s); 2L\u0000:2403926\n",
      "[read_vcf] 196608 rows in 6.46s; chunk in 1.95s (33637 rows/s); 2L\u0000:2434126\n",
      "[read_vcf] 198667 rows in 6.66s; chunk in 0.20s (10390 rows/s); :0\n",
      "[read_vcf] all done (29477 rows/s)\n"
     ]
    },
    {
     "name": "stdout",
     "output_type": "stream",
     "text": [
      "CPU times: user 14.8 s, sys: 112 ms, total: 14.9 s\n",
      "Wall time: 6.91 s\n"
     ]
    }
   ],
   "source": [
    "%time _ = read_vcf('../../profdata/prof_gt.vcf.gz', n_threads=4, log=sys.stderr)"
   ]
  },
  {
   "cell_type": "code",
   "execution_count": 16,
   "metadata": {
    "collapsed": false
   },
   "outputs": [
    {
     "name": "stderr",
     "output_type": "stream",
     "text": [
      "[read_vcf] 65536 rows in 1.95s; chunk in 1.95s (33672 rows/s); 2L\u0000:2383306\n",
      "[read_vcf] 131072 rows in 3.64s; chunk in 1.69s (38788 rows/s); 2L\u0000:2403926\n",
      "[read_vcf] 196608 rows in 5.87s; chunk in 2.24s (29291 rows/s); 2L\u0000:2434126\n",
      "[read_vcf] 198667 rows in 6.13s; chunk in 0.26s (7874 rows/s); :0\n",
      "[read_vcf] all done (31343 rows/s)\n"
     ]
    },
    {
     "name": "stdout",
     "output_type": "stream",
     "text": [
      "CPU times: user 14.1 s, sys: 124 ms, total: 14.2 s\n",
      "Wall time: 6.57 s\n"
     ]
    }
   ],
   "source": [
    "%time _ = read_vcf('../../profdata/prof_gt.vcf.gz', n_threads=8, log=sys.stderr)"
   ]
  },
  {
   "cell_type": "code",
   "execution_count": 23,
   "metadata": {
    "collapsed": false
   },
   "outputs": [
    {
     "name": "stderr",
     "output_type": "stream",
     "text": [
      "[vcf_to_hdf5] 65536 rows in 3.11s; chunk in 3.11s (21104 rows/s); 2L:2383306\n",
      "[vcf_to_hdf5] 131072 rows in 6.93s; chunk in 3.82s (17143 rows/s); 2L:2403926\n",
      "[vcf_to_hdf5] 196608 rows in 10.78s; chunk in 3.85s (17034 rows/s); 2L:2434126\n",
      "[vcf_to_hdf5] 198667 rows in 11.60s; chunk in 0.83s (2482 rows/s); 2L:2436615\n",
      "[vcf_to_hdf5] all done (16397 rows/s)\n"
     ]
    },
    {
     "name": "stdout",
     "output_type": "stream",
     "text": [
      "CPU times: user 12.1 s, sys: 100 ms, total: 12.2 s\n",
      "Wall time: 12.2 s\n"
     ]
    }
   ],
   "source": [
    "%time vcf_to_hdf5('../../profdata/prof_gt.vcf.gz', '../../profdata/prof_gt.h5', overwrite=True, log=sys.stderr)"
   ]
  },
  {
   "cell_type": "code",
   "execution_count": 24,
   "metadata": {
    "collapsed": false
   },
   "outputs": [
    {
     "name": "stderr",
     "output_type": "stream",
     "text": [
      "[vcf_to_hdf5] 65536 rows in 2.40s; chunk in 2.40s (27332 rows/s); 2L:2383306\n",
      "[vcf_to_hdf5] 131072 rows in 5.42s; chunk in 3.02s (21714 rows/s); 2L:2403926\n",
      "[vcf_to_hdf5] 196608 rows in 8.42s; chunk in 3.00s (21842 rows/s); 2L:2434126\n",
      "[vcf_to_hdf5] 198667 rows in 9.23s; chunk in 0.81s (2545 rows/s); 2L:2436615\n",
      "[vcf_to_hdf5] all done (20347 rows/s)\n"
     ]
    },
    {
     "name": "stdout",
     "output_type": "stream",
     "text": [
      "CPU times: user 20.1 s, sys: 116 ms, total: 20.2 s\n",
      "Wall time: 9.86 s\n"
     ]
    }
   ],
   "source": [
    "%time vcf_to_hdf5('../../profdata/prof_gt.vcf.gz', '../../profdata/prof_gt.h5', n_threads=2, overwrite=True, log=sys.stderr)"
   ]
  },
  {
   "cell_type": "code",
   "execution_count": 25,
   "metadata": {
    "collapsed": false
   },
   "outputs": [
    {
     "name": "stderr",
     "output_type": "stream",
     "text": [
      "[vcf_to_zarr] 65536 rows in 3.10s; chunk in 3.10s (21118 rows/s); 2L:2383306\n",
      "[vcf_to_zarr] 131072 rows in 6.23s; chunk in 3.13s (20937 rows/s); 2L:2403926\n",
      "[vcf_to_zarr] 196608 rows in 9.32s; chunk in 3.09s (21241 rows/s); 2L:2434126\n",
      "[vcf_to_zarr] 198667 rows in 9.56s; chunk in 0.24s (8454 rows/s); 2L:2436615\n",
      "[vcf_to_zarr] all done (20699 rows/s)\n"
     ]
    },
    {
     "name": "stdout",
     "output_type": "stream",
     "text": [
      "CPU times: user 9.71 s, sys: 140 ms, total: 9.85 s\n",
      "Wall time: 9.69 s\n"
     ]
    }
   ],
   "source": [
    "%time vcf_to_zarr('../../profdata/prof_gt.vcf.gz', '../../profdata/prof_gt.zarr', overwrite=True, log=sys.stderr)"
   ]
  },
  {
   "cell_type": "code",
   "execution_count": 29,
   "metadata": {
    "collapsed": false
   },
   "outputs": [
    {
     "name": "stderr",
     "output_type": "stream",
     "text": [
      "[vcf_to_zarr] 65536 rows in 1.68s; chunk in 1.68s (39087 rows/s); 2L:2383306\n",
      "[vcf_to_zarr] 131072 rows in 3.39s; chunk in 1.71s (38350 rows/s); 2L:2403926\n",
      "[vcf_to_zarr] 196608 rows in 5.07s; chunk in 1.69s (38845 rows/s); 2L:2434126\n",
      "[vcf_to_zarr] 198667 rows in 5.33s; chunk in 0.26s (7916 rows/s); 2L:2436615\n",
      "[vcf_to_zarr] all done (35716 rows/s)\n"
     ]
    },
    {
     "name": "stdout",
     "output_type": "stream",
     "text": [
      "CPU times: user 11.5 s, sys: 124 ms, total: 11.6 s\n",
      "Wall time: 5.65 s\n"
     ]
    }
   ],
   "source": [
    "%time vcf_to_zarr('../../profdata/prof_gt.vcf.gz', '../../profdata/prof_gt.zarr', n_threads=2, overwrite=True, log=sys.stderr)"
   ]
  },
  {
   "cell_type": "code",
   "execution_count": 19,
   "metadata": {
    "collapsed": false
   },
   "outputs": [
    {
     "name": "stderr",
     "output_type": "stream",
     "text": [
      "../../allel/io_vcf_read.py:676: UserWarning: exception occurred attempting tabix (Could not load .tbi/.csi index of ../../profdata/accessibility.X.vcf.gz); falling back to scanning to region\n",
      "  'scanning to region' % e)\n",
      "[read_vcf] 500000 rows in 7.04s; chunk in 7.04s (71057 rows/s); X\u0000:5499999\n",
      "[read_vcf] 1000000 rows in 7.72s; chunk in 0.69s (728332 rows/s); X\u0000:5999999\n",
      "[read_vcf] 1500000 rows in 8.43s; chunk in 0.71s (708055 rows/s); X\u0000:6499999\n",
      "[read_vcf] 2000000 rows in 9.14s; chunk in 0.71s (705014 rows/s); X\u0000:6999999\n",
      "[read_vcf] 2000001 rows in 9.14s; chunk in 0.00s (322 rows/s); X\u0000:7000001\n",
      "[read_vcf] all done (218765 rows/s)\n"
     ]
    },
    {
     "name": "stdout",
     "output_type": "stream",
     "text": [
      "CPU times: user 9.1 s, sys: 72 ms, total: 9.18 s\n",
      "Wall time: 9.18 s\n"
     ]
    },
    {
     "data": {
      "text/plain": [
       "{'samples': array([], \n",
       "       dtype='|S32'), 'variants/ALT': array([[b'A', b'C', b'T'],\n",
       "        [b'A', b'C', b'T'],\n",
       "        [b'A', b'C', b'T'],\n",
       "        ..., \n",
       "        [b'A', b'C', b'T'],\n",
       "        [b'A', b'C', b'T'],\n",
       "        [b'A', b'C', b'T']], \n",
       "       dtype='|S1'), 'variants/CHROM': array([b'X', b'X', b'X', ..., b'X', b'X', b'X'], \n",
       "       dtype='|S12'), 'variants/FILTER_PASS': array([ True,  True,  True, ...,  True,  True,  True], dtype=bool), 'variants/ID': array([b'.', b'.', b'.', ..., b'.', b'.', b'.'], \n",
       "       dtype='|S12'), 'variants/POS': array([5000000, 5000001, 5000002, ..., 6999998, 6999999, 7000000], dtype=int32), 'variants/QUAL': array([ nan,  nan,  nan, ...,  nan,  nan,  nan], dtype=float32), 'variants/REF': array([b'C', b'C', b'C', ..., b'C', b'T', b'G'], \n",
       "       dtype='|S1')}"
      ]
     },
     "execution_count": 19,
     "metadata": {},
     "output_type": "execute_result"
    }
   ],
   "source": [
    "%time read_vcf('../../profdata/accessibility.X.vcf.gz', chunk_length=500000, log=sys.stderr, region='X:5000000-7000000')"
   ]
  },
  {
   "cell_type": "code",
   "execution_count": 5,
   "metadata": {
    "collapsed": false
   },
   "outputs": [
    {
     "name": "stderr",
     "output_type": "stream",
     "text": [
      "[read_vcf] 500000 rows in 0.77s; chunk in 0.77s (648096 rows/s); X:500000\n",
      "[read_vcf] 1000000 rows in 1.49s; chunk in 0.72s (697566 rows/s); X:1000000\n",
      "[read_vcf] 1500000 rows in 2.21s; chunk in 0.72s (692344 rows/s); X:1500000\n",
      "[read_vcf] 2000000 rows in 2.93s; chunk in 0.72s (691420 rows/s); X:2000000\n",
      "[read_vcf] 2500000 rows in 3.64s; chunk in 0.71s (706240 rows/s); X:2500000\n",
      "[read_vcf] 3000000 rows in 4.34s; chunk in 0.70s (716039 rows/s); X:3000000\n",
      "[read_vcf] 3500000 rows in 5.06s; chunk in 0.72s (694415 rows/s); X:3500000\n",
      "[read_vcf] 4000000 rows in 5.76s; chunk in 0.70s (709976 rows/s); X:4000000\n",
      "[read_vcf] 4500000 rows in 6.46s; chunk in 0.69s (720302 rows/s); X:4500000\n",
      "[read_vcf] 5000000 rows in 7.16s; chunk in 0.71s (708804 rows/s); X:5000000\n",
      "[read_vcf] 5500000 rows in 7.86s; chunk in 0.70s (717294 rows/s); X:5500000\n",
      "[read_vcf] 6000000 rows in 8.56s; chunk in 0.70s (712266 rows/s); X:6000000\n",
      "[read_vcf] 6500000 rows in 9.29s; chunk in 0.73s (689261 rows/s); X:6500000\n",
      "[read_vcf] 7000000 rows in 10.00s; chunk in 0.72s (698657 rows/s); X:7000000\n",
      "[read_vcf] 7500000 rows in 10.76s; chunk in 0.75s (665124 rows/s); X:7500000\n",
      "[read_vcf] 8000000 rows in 11.60s; chunk in 0.85s (591536 rows/s); X:8000000\n",
      "[read_vcf] 8500000 rows in 12.78s; chunk in 1.18s (423418 rows/s); X:8500000\n",
      "[read_vcf] 9000000 rows in 13.80s; chunk in 1.02s (489201 rows/s); X:9000000\n",
      "[read_vcf] 9500000 rows in 14.55s; chunk in 0.75s (669570 rows/s); X:9500000\n",
      "[read_vcf] 10000000 rows in 15.35s; chunk in 0.80s (628579 rows/s); X:10000000\n",
      "[read_vcf] 10500000 rows in 16.08s; chunk in 0.73s (681576 rows/s); X:10500000\n",
      "[read_vcf] 11000000 rows in 16.86s; chunk in 0.78s (636963 rows/s); X:11000000\n",
      "[read_vcf] 11500000 rows in 17.64s; chunk in 0.77s (645603 rows/s); X:11500000\n",
      "[read_vcf] 12000000 rows in 18.48s; chunk in 0.84s (591883 rows/s); X:12000000\n",
      "[read_vcf] 12500000 rows in 19.29s; chunk in 0.81s (617510 rows/s); X:12500000\n",
      "[read_vcf] 13000000 rows in 20.12s; chunk in 0.83s (603020 rows/s); X:13000000\n",
      "[read_vcf] 13500000 rows in 20.90s; chunk in 0.78s (642415 rows/s); X:13500000\n",
      "[read_vcf] 14000000 rows in 21.67s; chunk in 0.77s (651698 rows/s); X:14000000\n",
      "[read_vcf] 14500000 rows in 22.39s; chunk in 0.72s (692180 rows/s); X:14500000\n",
      "[read_vcf] 15000000 rows in 23.13s; chunk in 0.74s (677016 rows/s); X:15000000\n",
      "[read_vcf] 15500000 rows in 23.90s; chunk in 0.77s (649790 rows/s); X:15500000\n",
      "[read_vcf] 16000000 rows in 24.74s; chunk in 0.84s (592426 rows/s); X:16000000\n",
      "[read_vcf] 16500000 rows in 25.47s; chunk in 0.73s (685892 rows/s); X:16500000\n",
      "[read_vcf] 17000000 rows in 26.23s; chunk in 0.76s (656731 rows/s); X:17000000\n",
      "[read_vcf] 17500000 rows in 26.99s; chunk in 0.75s (664302 rows/s); X:17500000\n",
      "[read_vcf] 18000000 rows in 27.70s; chunk in 0.71s (699343 rows/s); X:18000000\n",
      "[read_vcf] 18500000 rows in 28.42s; chunk in 0.72s (695785 rows/s); X:18500000\n",
      "[read_vcf] 19000000 rows in 29.19s; chunk in 0.77s (650063 rows/s); X:19000000\n",
      "[read_vcf] 19500000 rows in 29.97s; chunk in 0.78s (638425 rows/s); X:19500000\n",
      "[read_vcf] 20000000 rows in 30.75s; chunk in 0.78s (641042 rows/s); X:20000000\n",
      "[read_vcf] 20500000 rows in 31.70s; chunk in 0.95s (524657 rows/s); X:20500000\n",
      "[read_vcf] 21000000 rows in 32.67s; chunk in 0.97s (517538 rows/s); X:21000000\n",
      "[read_vcf] 21500000 rows in 33.53s; chunk in 0.86s (583308 rows/s); X:21500000\n",
      "[read_vcf] 22000000 rows in 34.44s; chunk in 0.91s (549253 rows/s); X:22000000\n",
      "[read_vcf] 22500000 rows in 35.29s; chunk in 0.86s (584019 rows/s); X:22500000\n",
      "[read_vcf] 23000000 rows in 36.14s; chunk in 0.84s (592837 rows/s); X:23000000\n",
      "[read_vcf] 23500000 rows in 37.03s; chunk in 0.89s (561498 rows/s); X:23500000\n",
      "[read_vcf] 24000000 rows in 37.88s; chunk in 0.85s (585176 rows/s); X:24000000\n"
     ]
    },
    {
     "name": "stdout",
     "output_type": "stream",
     "text": [
      "CPU times: user 38.4 s, sys: 396 ms, total: 38.8 s\n",
      "Wall time: 38.7 s\n"
     ]
    },
    {
     "name": "stderr",
     "output_type": "stream",
     "text": [
      "[read_vcf] 24393108 rows in 38.57s; chunk in 0.69s (569157 rows/s); X:24393108\n",
      "[read_vcf] all done (632384 rows/s)\n"
     ]
    },
    {
     "data": {
      "text/plain": [
       "{'samples': array([], \n",
       "       dtype='|S32'), 'variants/ALT': array([[b'A', b'C', b'T'],\n",
       "        [b'A', b'C', b'T'],\n",
       "        [b'A', b'C', b'T'],\n",
       "        ..., \n",
       "        [b'A', b'C', b'T'],\n",
       "        [b'A', b'C', b'T'],\n",
       "        [b'A', b'C', b'T']], \n",
       "       dtype='|S1'), 'variants/CHROM': array([b'X', b'X', b'X', ..., b'X', b'X', b'X'], \n",
       "       dtype='|S12'), 'variants/FILTER_PASS': array([False, False, False, ..., False, False, False], dtype=bool), 'variants/ID': array([b'.', b'.', b'.', ..., b'.', b'.', b'.'], \n",
       "       dtype='|S12'), 'variants/POS': array([       1,        2,        3, ..., 24393106, 24393107, 24393108], dtype=int32), 'variants/QUAL': array([ nan,  nan,  nan, ...,  nan,  nan,  nan], dtype=float32), 'variants/REF': array([b'G', b'C', b'G', ..., b'T', b'G', b'G'], \n",
       "       dtype='|S1')}"
      ]
     },
     "execution_count": 5,
     "metadata": {},
     "output_type": "execute_result"
    }
   ],
   "source": [
    "%time read_vcf('../../profdata/accessibility.X.vcf.gz', chunk_length=500000, log=sys.stderr)"
   ]
  },
  {
   "cell_type": "code",
   "execution_count": 10,
   "metadata": {
    "collapsed": false
   },
   "outputs": [
    {
     "name": "stderr",
     "output_type": "stream",
     "text": [
      "[read_vcf] 500000 rows in 0.76s; chunk in 0.76s (655865 rows/s); X:500000\n",
      "[read_vcf] 1000000 rows in 1.47s; chunk in 0.70s (711281 rows/s); X:1000000\n",
      "[read_vcf] 1500000 rows in 2.41s; chunk in 0.95s (528492 rows/s); X:1500000\n",
      "[read_vcf] 2000000 rows in 3.15s; chunk in 0.74s (678544 rows/s); X:2000000\n",
      "[read_vcf] 2500000 rows in 3.85s; chunk in 0.70s (712446 rows/s); X:2500000\n",
      "[read_vcf] 3000000 rows in 4.55s; chunk in 0.70s (717525 rows/s); X:3000000\n",
      "[read_vcf] 3500000 rows in 5.26s; chunk in 0.71s (705292 rows/s); X:3500000\n",
      "[read_vcf] 4000000 rows in 5.96s; chunk in 0.70s (713554 rows/s); X:4000000\n",
      "[read_vcf] 4500000 rows in 6.68s; chunk in 0.72s (691443 rows/s); X:4500000\n",
      "[read_vcf] 5000000 rows in 7.41s; chunk in 0.73s (687898 rows/s); X:5000000\n",
      "[read_vcf] 5500000 rows in 8.20s; chunk in 0.79s (630294 rows/s); X:5500000\n",
      "[read_vcf] 6000000 rows in 8.93s; chunk in 0.73s (687695 rows/s); X:6000000\n",
      "[read_vcf] 6500000 rows in 10.13s; chunk in 1.20s (415256 rows/s); X:6500000\n",
      "[read_vcf] 7000000 rows in 11.30s; chunk in 1.17s (428159 rows/s); X:7000000\n",
      "[read_vcf] 7500000 rows in 12.01s; chunk in 0.71s (701757 rows/s); X:7500000\n",
      "[read_vcf] 8000000 rows in 12.72s; chunk in 0.71s (701151 rows/s); X:8000000\n",
      "[read_vcf] 8500000 rows in 13.44s; chunk in 0.72s (698297 rows/s); X:8500000\n",
      "[read_vcf] 9000000 rows in 14.18s; chunk in 0.73s (680422 rows/s); X:9000000\n",
      "[read_vcf] 9500000 rows in 14.88s; chunk in 0.71s (709041 rows/s); X:9500000\n",
      "[read_vcf] 10000000 rows in 15.61s; chunk in 0.73s (681562 rows/s); X:10000000\n",
      "[read_vcf] 10500000 rows in 16.35s; chunk in 0.74s (678061 rows/s); X:10500000\n",
      "[read_vcf] 11000000 rows in 17.08s; chunk in 0.73s (686943 rows/s); X:11000000\n",
      "[read_vcf] 11500000 rows in 17.80s; chunk in 0.72s (690488 rows/s); X:11500000\n",
      "[read_vcf] 12000000 rows in 18.56s; chunk in 0.75s (663181 rows/s); X:12000000\n",
      "[read_vcf] 12500000 rows in 19.34s; chunk in 0.78s (641062 rows/s); X:12500000\n",
      "[read_vcf] 13000000 rows in 20.11s; chunk in 0.77s (648421 rows/s); X:13000000\n",
      "[read_vcf] 13500000 rows in 21.10s; chunk in 0.99s (504343 rows/s); X:13500000\n",
      "[read_vcf] 14000000 rows in 21.81s; chunk in 0.71s (702544 rows/s); X:14000000\n",
      "[read_vcf] 14500000 rows in 22.54s; chunk in 0.72s (690832 rows/s); X:14500000\n",
      "[read_vcf] 15000000 rows in 23.25s; chunk in 0.72s (698183 rows/s); X:15000000\n",
      "[read_vcf] 15500000 rows in 24.00s; chunk in 0.74s (671663 rows/s); X:15500000\n",
      "[read_vcf] 16000000 rows in 24.74s; chunk in 0.74s (672330 rows/s); X:16000000\n",
      "[read_vcf] 16500000 rows in 25.91s; chunk in 1.17s (428465 rows/s); X:16500000\n",
      "[read_vcf] 17000000 rows in 27.12s; chunk in 1.22s (410367 rows/s); X:17000000\n",
      "[read_vcf] 17500000 rows in 28.37s; chunk in 1.25s (400492 rows/s); X:17500000\n",
      "[read_vcf] 18000000 rows in 29.39s; chunk in 1.02s (490749 rows/s); X:18000000\n",
      "[read_vcf] 18500000 rows in 30.24s; chunk in 0.85s (591632 rows/s); X:18500000\n",
      "[read_vcf] 19000000 rows in 31.10s; chunk in 0.87s (577033 rows/s); X:19000000\n",
      "[read_vcf] 19500000 rows in 31.93s; chunk in 0.83s (603421 rows/s); X:19500000\n",
      "[read_vcf] 20000000 rows in 32.69s; chunk in 0.76s (658829 rows/s); X:20000000\n",
      "[read_vcf] 20500000 rows in 33.55s; chunk in 0.86s (583646 rows/s); X:20500000\n",
      "[read_vcf] 21000000 rows in 34.39s; chunk in 0.84s (596808 rows/s); X:21000000\n",
      "[read_vcf] 21500000 rows in 35.24s; chunk in 0.86s (584716 rows/s); X:21500000\n",
      "[read_vcf] 22000000 rows in 36.54s; chunk in 1.30s (386071 rows/s); X:22000000\n",
      "[read_vcf] 22500000 rows in 37.88s; chunk in 1.35s (370707 rows/s); X:22500000\n",
      "[read_vcf] 23000000 rows in 39.35s; chunk in 1.47s (341209 rows/s); X:23000000\n",
      "[read_vcf] 23500000 rows in 40.65s; chunk in 1.30s (384288 rows/s); X:23500000\n",
      "[read_vcf] 24000000 rows in 41.50s; chunk in 0.85s (589081 rows/s); X:24000000\n",
      "[read_vcf] 24393108 rows in 42.41s; chunk in 0.91s (430549 rows/s); X:24393108\n",
      "[read_vcf] all done (574129 rows/s)\n"
     ]
    },
    {
     "name": "stdout",
     "output_type": "stream",
     "text": [
      "CPU times: user 55.8 s, sys: 556 ms, total: 56.3 s\n",
      "Wall time: 42.7 s\n"
     ]
    },
    {
     "data": {
      "text/plain": [
       "{'samples': array([], \n",
       "       dtype='|S32'), 'variants/ALT': array([[b'A', b'C', b'T'],\n",
       "        [b'A', b'C', b'T'],\n",
       "        [b'A', b'C', b'T'],\n",
       "        ..., \n",
       "        [b'A', b'C', b'T'],\n",
       "        [b'A', b'C', b'T'],\n",
       "        [b'A', b'C', b'T']], \n",
       "       dtype='|S1'), 'variants/CHROM': array([b'X', b'X', b'X', ..., b'X', b'X', b'X'], \n",
       "       dtype='|S12'), 'variants/FILTER_PASS': array([False, False, False, ..., False, False, False], dtype=bool), 'variants/ID': array([b'.', b'.', b'.', ..., b'.', b'.', b'.'], \n",
       "       dtype='|S12'), 'variants/POS': array([       1,        2,        3, ..., 24393106, 24393107, 24393108], dtype=int32), 'variants/QUAL': array([ nan,  nan,  nan, ...,  nan,  nan,  nan], dtype=float32), 'variants/REF': array([b'G', b'C', b'G', ..., b'T', b'G', b'G'], \n",
       "       dtype='|S1')}"
      ]
     },
     "execution_count": 10,
     "metadata": {},
     "output_type": "execute_result"
    }
   ],
   "source": [
    "%time read_vcf('../../profdata/accessibility.X.vcf.gz', chunk_length=500000, block_length=50000, n_threads=2, log=sys.stderr)"
   ]
  },
  {
   "cell_type": "code",
   "execution_count": 11,
   "metadata": {
    "collapsed": false
   },
   "outputs": [
    {
     "name": "stderr",
     "output_type": "stream",
     "text": [
      "[read_vcf] 500000 rows in 1.39s; chunk in 1.39s (360821 rows/s); X:500000\n",
      "[read_vcf] 1000000 rows in 2.79s; chunk in 1.41s (355866 rows/s); X:1000000\n",
      "[read_vcf] 1500000 rows in 3.75s; chunk in 0.96s (522496 rows/s); X:1500000\n",
      "[read_vcf] 2000000 rows in 4.72s; chunk in 0.97s (515406 rows/s); X:2000000\n",
      "[read_vcf] 2500000 rows in 5.73s; chunk in 1.01s (494436 rows/s); X:2500000\n",
      "[read_vcf] 3000000 rows in 6.87s; chunk in 1.14s (438925 rows/s); X:3000000\n",
      "[read_vcf] 3500000 rows in 8.22s; chunk in 1.35s (371203 rows/s); X:3500000\n",
      "[read_vcf] 4000000 rows in 9.20s; chunk in 0.99s (506288 rows/s); X:4000000\n",
      "[read_vcf] 4500000 rows in 10.18s; chunk in 0.98s (512664 rows/s); X:4500000\n",
      "[read_vcf] 5000000 rows in 11.16s; chunk in 0.98s (508986 rows/s); X:5000000\n",
      "[read_vcf] 5500000 rows in 12.13s; chunk in 0.97s (513810 rows/s); X:5500000\n",
      "[read_vcf] 6000000 rows in 13.10s; chunk in 0.97s (516498 rows/s); X:6000000\n",
      "[read_vcf] 6500000 rows in 14.11s; chunk in 1.00s (497744 rows/s); X:6500000\n",
      "[read_vcf] 7000000 rows in 15.12s; chunk in 1.01s (493001 rows/s); X:7000000\n",
      "[read_vcf] 7500000 rows in 16.15s; chunk in 1.03s (487527 rows/s); X:7500000\n",
      "[read_vcf] 8000000 rows in 17.23s; chunk in 1.09s (459740 rows/s); X:8000000\n",
      "[read_vcf] 8500000 rows in 18.29s; chunk in 1.06s (473213 rows/s); X:8500000\n",
      "[read_vcf] 9000000 rows in 19.43s; chunk in 1.14s (440146 rows/s); X:9000000\n",
      "[read_vcf] 9500000 rows in 20.45s; chunk in 1.02s (490024 rows/s); X:9500000\n",
      "[read_vcf] 10000000 rows in 21.44s; chunk in 1.00s (500984 rows/s); X:10000000\n",
      "[read_vcf] 10500000 rows in 22.56s; chunk in 1.11s (449063 rows/s); X:10500000\n",
      "[read_vcf] 11000000 rows in 23.67s; chunk in 1.11s (449976 rows/s); X:11000000\n",
      "[read_vcf] 11500000 rows in 24.83s; chunk in 1.16s (432273 rows/s); X:11500000\n",
      "[read_vcf] 12000000 rows in 26.04s; chunk in 1.21s (413103 rows/s); X:12000000\n",
      "[read_vcf] 12500000 rows in 27.08s; chunk in 1.05s (476899 rows/s); X:12500000\n",
      "[read_vcf] 13000000 rows in 28.10s; chunk in 1.02s (490641 rows/s); X:13000000\n",
      "[read_vcf] 13500000 rows in 29.10s; chunk in 1.00s (502433 rows/s); X:13500000\n",
      "[read_vcf] 14000000 rows in 30.07s; chunk in 0.97s (515785 rows/s); X:14000000\n",
      "[read_vcf] 14500000 rows in 31.04s; chunk in 0.97s (514577 rows/s); X:14500000\n",
      "[read_vcf] 15000000 rows in 32.02s; chunk in 0.98s (511272 rows/s); X:15000000\n",
      "[read_vcf] 15500000 rows in 33.13s; chunk in 1.11s (450218 rows/s); X:15500000\n",
      "[read_vcf] 16000000 rows in 34.16s; chunk in 1.04s (482419 rows/s); X:16000000\n",
      "[read_vcf] 16500000 rows in 35.30s; chunk in 1.14s (439949 rows/s); X:16500000\n",
      "[read_vcf] 17000000 rows in 36.44s; chunk in 1.14s (438688 rows/s); X:17000000\n",
      "[read_vcf] 17500000 rows in 37.47s; chunk in 1.03s (485042 rows/s); X:17500000\n",
      "[read_vcf] 18000000 rows in 38.45s; chunk in 0.98s (511517 rows/s); X:18000000\n",
      "[read_vcf] 18500000 rows in 39.53s; chunk in 1.08s (463024 rows/s); X:18500000\n",
      "[read_vcf] 19000000 rows in 40.57s; chunk in 1.04s (479909 rows/s); X:19000000\n",
      "[read_vcf] 19500000 rows in 41.95s; chunk in 1.38s (362035 rows/s); X:19500000\n",
      "[read_vcf] 20000000 rows in 43.05s; chunk in 1.10s (454497 rows/s); X:20000000\n",
      "[read_vcf] 20500000 rows in 44.23s; chunk in 1.18s (424404 rows/s); X:20500000\n",
      "[read_vcf] 21000000 rows in 45.39s; chunk in 1.16s (430268 rows/s); X:21000000\n",
      "[read_vcf] 21500000 rows in 46.61s; chunk in 1.22s (409108 rows/s); X:21500000\n",
      "[read_vcf] 22000000 rows in 47.78s; chunk in 1.16s (429737 rows/s); X:22000000\n",
      "[read_vcf] 22500000 rows in 48.95s; chunk in 1.17s (428309 rows/s); X:22500000\n",
      "[read_vcf] 23000000 rows in 50.12s; chunk in 1.17s (426046 rows/s); X:23000000\n",
      "[read_vcf] 23500000 rows in 51.31s; chunk in 1.19s (419717 rows/s); X:23500000\n",
      "[read_vcf] 24000000 rows in 52.49s; chunk in 1.18s (423805 rows/s); X:24000000\n",
      "[read_vcf] 24393108 rows in 53.40s; chunk in 0.91s (432403 rows/s); X:24393108\n",
      "[read_vcf] all done (456805 rows/s)\n"
     ]
    },
    {
     "name": "stdout",
     "output_type": "stream",
     "text": [
      "CPU times: user 53.2 s, sys: 792 ms, total: 54 s\n",
      "Wall time: 54 s\n"
     ]
    },
    {
     "data": {
      "text/plain": [
       "{'samples': array([], \n",
       "       dtype='|S32'), 'variants/ALT': array([[b'A', b'C', b'T'],\n",
       "        [b'A', b'C', b'T'],\n",
       "        [b'A', b'C', b'T'],\n",
       "        ..., \n",
       "        [b'A', b'C', b'T'],\n",
       "        [b'A', b'C', b'T'],\n",
       "        [b'A', b'C', b'T']], \n",
       "       dtype='|S1'), 'variants/Accessible': array([False, False, False, ..., False, False, False], dtype=bool), 'variants/CHROM': array([b'X', b'X', b'X', ..., b'X', b'X', b'X'], \n",
       "       dtype='|S12'), 'variants/Coverage': array([10955, 11176, 11579, ...,  3969,  3848,  1743], dtype=int32), 'variants/CoverageMQ0': array([   0,    0,    0, ..., 3933, 3821, 1727], dtype=int32), 'variants/FILTER_HighCoverage': array([False, False, False, ..., False, False, False], dtype=bool), 'variants/FILTER_HighMQ0': array([False, False, False, ...,  True,  True,  True], dtype=bool), 'variants/FILTER_LowCoverage': array([ True,  True,  True, ...,  True,  True,  True], dtype=bool), 'variants/FILTER_LowMQ': array([ True,  True,  True, ...,  True,  True,  True], dtype=bool), 'variants/FILTER_NoCoverage': array([False, False, False, ...,  True,  True,  True], dtype=bool), 'variants/FILTER_PASS': array([False, False, False, ..., False, False, False], dtype=bool), 'variants/FILTER_RefN': array([False, False, False, ..., False, False, False], dtype=bool), 'variants/FILTER_RepeatDUST': array([False, False, False, ..., False, False, False], dtype=bool), 'variants/HighCoverage': array([0, 0, 0, ..., 0, 0, 0], dtype=int32), 'variants/HighMQ0': array([  0,   0,   0, ..., 657, 636, 563], dtype=int32), 'variants/ID': array([b'.', b'.', b'.', ..., b'.', b'.', b'.'], \n",
       "       dtype='|S12'), 'variants/LowCoverage': array([505, 485, 437, ..., 644, 622, 564], dtype=int32), 'variants/LowMQ': array([622, 491, 319, ..., 659, 637, 565], dtype=int32), 'variants/LowPairing': array([ 18,  33,  64, ..., 621, 620, 538], dtype=int32), 'variants/NoCoverage': array([  0,   0,   0, ..., 106, 128, 200], dtype=int32), 'variants/POS': array([       1,        2,        3, ..., 24393106, 24393107, 24393108], dtype=int32), 'variants/QUAL': array([ nan,  nan,  nan, ...,  nan,  nan,  nan], dtype=float32), 'variants/REF': array([b'G', b'C', b'G', ..., b'T', b'G', b'G'], \n",
       "       dtype='|S1'), 'variants/RefMasked': array([ True,  True,  True, ...,  True,  True,  True], dtype=bool), 'variants/RefN': array([False, False, False, ..., False, False, False], dtype=bool), 'variants/RepeatDUST': array([False, False, False, ..., False, False, False], dtype=bool), 'variants/RepeatMasker': array([ True,  True,  True, ...,  True,  True,  True], dtype=bool), 'variants/RepeatTRF': array([False, False, False, ..., False, False, False], dtype=bool)}"
      ]
     },
     "execution_count": 11,
     "metadata": {},
     "output_type": "execute_result"
    }
   ],
   "source": [
    "%time read_vcf('../../profdata/accessibility.X.vcf.gz', fields='*', chunk_length=500000, log=sys.stderr)"
   ]
  },
  {
   "cell_type": "code",
   "execution_count": 9,
   "metadata": {
    "collapsed": false
   },
   "outputs": [
    {
     "name": "stdout",
     "output_type": "stream",
     "text": [
      "CPU times: user 38.2 s, sys: 1.08 s, total: 39.3 s\n",
      "Wall time: 37.9 s\n"
     ]
    }
   ],
   "source": [
    "%time vcf_to_zarr('../../profdata/accessibility.X.vcf.gz', '../../profdata/accessibility.X.zarr', buffer_size=2**15, chunk_length=50000, overwrite=True)"
   ]
  },
  {
   "cell_type": "code",
   "execution_count": 10,
   "metadata": {
    "collapsed": false
   },
   "outputs": [
    {
     "name": "stdout",
     "output_type": "stream",
     "text": [
      "CPU times: user 1min 2s, sys: 2.85 s, total: 1min 5s\n",
      "Wall time: 1min 1s\n"
     ]
    }
   ],
   "source": [
    "%time vcf_to_zarr('../../profdata/accessibility.X.vcf.gz', '../../profdata/accessibility.X.zarr', fields='*', buffer_size=2**15, chunk_length=50000, overwrite=True)"
   ]
  },
  {
   "cell_type": "code",
   "execution_count": 37,
   "metadata": {
    "collapsed": false
   },
   "outputs": [
    {
     "name": "stdout",
     "output_type": "stream",
     "text": [
      "39984\r\n"
     ]
    }
   ],
   "source": [
    "!zcat ../../profdata/ag1000g.phase1.ar3.2L.partial.vcf.gz | wc -l"
   ]
  },
  {
   "cell_type": "code",
   "execution_count": 12,
   "metadata": {
    "collapsed": false
   },
   "outputs": [
    {
     "name": "stderr",
     "output_type": "stream",
     "text": [
      "[vcf_to_zarr] 10000 rows in 4.51s; chunk in 4.51s (2217 rows/s); 2L:98451\n",
      "[vcf_to_zarr] 20000 rows in 9.22s; chunk in 4.71s (2125 rows/s); 2L:196622\n",
      "[vcf_to_zarr] 30000 rows in 13.71s; chunk in 4.49s (2226 rows/s); 2L:301246\n",
      "[vcf_to_zarr] 39894 rows in 18.73s; chunk in 5.02s (1969 rows/s); 2L:399982\n"
     ]
    },
    {
     "name": "stdout",
     "output_type": "stream",
     "text": [
      "CPU times: user 20.2 s, sys: 400 ms, total: 20.6 s\n",
      "Wall time: 19.2 s\n"
     ]
    },
    {
     "name": "stderr",
     "output_type": "stream",
     "text": [
      "[vcf_to_zarr] all done (2087 rows/s)\n"
     ]
    }
   ],
   "source": [
    "%time vcf_to_zarr('../../profdata/ag1000g.phase1.ar3.2L.partial.vcf.gz', '../../profdata/ag1000g.phase1.ar3.2L.partial.zarr', fields='*', chunk_length=10000, overwrite=True, log=sys.stderr)"
   ]
  },
  {
   "cell_type": "code",
   "execution_count": 17,
   "metadata": {
    "collapsed": false
   },
   "outputs": [
    {
     "name": "stderr",
     "output_type": "stream",
     "text": [
      "[vcf_to_zarr] 10000 rows in 3.01s; chunk in 3.01s (3321 rows/s); 2L:98451\n",
      "[vcf_to_zarr] 20000 rows in 6.26s; chunk in 3.25s (3074 rows/s); 2L:196622\n",
      "[vcf_to_zarr] 30000 rows in 9.38s; chunk in 3.12s (3203 rows/s); 2L:301246\n",
      "[vcf_to_zarr] 39894 rows in 12.68s; chunk in 3.29s (3004 rows/s); 2L:399982\n"
     ]
    },
    {
     "name": "stdout",
     "output_type": "stream",
     "text": [
      "CPU times: user 22.3 s, sys: 400 ms, total: 22.7 s\n",
      "Wall time: 13.2 s\n"
     ]
    },
    {
     "name": "stderr",
     "output_type": "stream",
     "text": [
      "[vcf_to_zarr] all done (3039 rows/s)\n"
     ]
    }
   ],
   "source": [
    "%time vcf_to_zarr('../../profdata/ag1000g.phase1.ar3.2L.partial.vcf.gz', '../../profdata/ag1000g.phase1.ar3.2L.partial.zarr', fields='*', chunk_length=10000, block_length=1000, n_threads=4, overwrite=True, log=sys.stderr)"
   ]
  },
  {
   "cell_type": "code",
   "execution_count": 18,
   "metadata": {
    "collapsed": false
   },
   "outputs": [
    {
     "name": "stderr",
     "output_type": "stream",
     "text": [
      "[vcf_to_zarr] 10000 rows in 2.97s; chunk in 2.97s (3369 rows/s); 2L:98451\n",
      "[vcf_to_zarr] 20000 rows in 5.64s; chunk in 2.67s (3741 rows/s); 2L:196622\n",
      "[vcf_to_zarr] 30000 rows in 8.20s; chunk in 2.56s (3903 rows/s); 2L:301246\n"
     ]
    },
    {
     "name": "stdout",
     "output_type": "stream",
     "text": [
      "CPU times: user 11 s, sys: 60 ms, total: 11 s\n",
      "Wall time: 11 s\n"
     ]
    },
    {
     "name": "stderr",
     "output_type": "stream",
     "text": [
      "[vcf_to_zarr] 39894 rows in 10.97s; chunk in 2.77s (3574 rows/s); 2L:399982\n",
      "[vcf_to_zarr] all done (3627 rows/s)\n"
     ]
    }
   ],
   "source": [
    "%time vcf_to_zarr('../../profdata/ag1000g.phase1.ar3.2L.partial.vcf.gz', '../../profdata/ag1000g.phase1.ar3.2L.partial.zarr', fields='INFO', chunk_length=10000, block_length=1000, n_threads=1, overwrite=True, log=sys.stderr)"
   ]
  },
  {
   "cell_type": "code",
   "execution_count": 19,
   "metadata": {
    "collapsed": false
   },
   "outputs": [
    {
     "name": "stderr",
     "output_type": "stream",
     "text": [
      "[read_vcf] 10000 rows in 3.03s; chunk in 3.03s (3297 rows/s); 2L:98451\n",
      "[read_vcf] 20000 rows in 5.65s; chunk in 2.61s (3827 rows/s); 2L:196622\n",
      "[read_vcf] 30000 rows in 8.18s; chunk in 2.54s (3938 rows/s); 2L:301246\n"
     ]
    },
    {
     "name": "stdout",
     "output_type": "stream",
     "text": [
      "CPU times: user 10.8 s, sys: 64 ms, total: 10.9 s\n",
      "Wall time: 10.9 s\n"
     ]
    },
    {
     "name": "stderr",
     "output_type": "stream",
     "text": [
      "[read_vcf] 39894 rows in 10.88s; chunk in 2.69s (3672 rows/s); 2L:399982\n",
      "[read_vcf] all done (3667 rows/s)\n"
     ]
    },
    {
     "data": {
      "text/plain": [
       "{'variants/ABHet': array([        nan,         nan,  0.667     , ...,         nan,\n",
       "         0.64999998,  0.755     ], dtype=float32),\n",
       " 'variants/ABHom': array([ 0.801     ,  0.74699998,  0.97600001, ...,         nan,\n",
       "         0.99900001,  0.93300003], dtype=float32),\n",
       " 'variants/AC': array([[ 4, -1, -1],\n",
       "        [38, -1, -1],\n",
       "        [ 8, -1, -1],\n",
       "        ..., \n",
       "        [ 1,  1, -1],\n",
       "        [ 4, -1, -1],\n",
       "        [15, -1, -1]], dtype=int32),\n",
       " 'variants/AF': array([[ 0.14300001,         nan,         nan],\n",
       "        [ 0.54299998,         nan,         nan],\n",
       "        [ 0.068     ,         nan,         nan],\n",
       "        ..., \n",
       "        [ 0.0006536 ,  0.0006536 ,         nan],\n",
       "        [ 0.002614  ,         nan,         nan],\n",
       "        [ 0.009804  ,         nan,         nan]], dtype=float32),\n",
       " 'variants/AN': array([  28,   70,  118, ..., 1530, 1530, 1530], dtype=int32),\n",
       " 'variants/ANN': array([b'T|intergenic', b'A|intergenic', b'A|intergenic', ...,\n",
       "        b'A|intergenic', b'A|intergenic', b'G|intergenic'], \n",
       "       dtype='|S12'),\n",
       " 'variants/Accessible': array([False, False, False, ..., False, False, False], dtype=bool),\n",
       " 'variants/BaseCounts': array([[    3,  4541,     2,  2526],\n",
       "        [ 4713,     2,  3916,     4],\n",
       "        [   48,     1,  8911,     6],\n",
       "        ..., \n",
       "        [   40, 31716,     5,    32],\n",
       "        [  167,     4, 31361,    14],\n",
       "        [27816,    15,  2167,    50]], dtype=int32),\n",
       " 'variants/BaseQRankSum': array([-2.00200009, -1.52600002,  0.294     , ..., -5.63100004,\n",
       "        -3.30200005,  3.13499999], dtype=float32),\n",
       " 'variants/Coverage': array([ 7198,  9242, 10797, ..., 30252, 29969, 28441], dtype=int32),\n",
       " 'variants/CoverageMQ0': array([ 7161,  9153, 10577, ...,  1234,   978,   320], dtype=int32),\n",
       " 'variants/DP': array([  118,   344,   669, ..., 29243, 28995, 26846], dtype=int32),\n",
       " 'variants/DS': array([False, False, False, ..., False, False, False], dtype=bool),\n",
       " 'variants/Dels': array([ 0.,  0.,  0., ...,  0.,  0.,  0.], dtype=float32),\n",
       " 'variants/FS': array([  0.        ,   0.        ,   0.        , ...,   0.        ,\n",
       "          9.67800045,  67.66300201], dtype=float32),\n",
       " 'variants/HRun': array([ 0,  1,  0, ..., -1,  1,  1], dtype=int32),\n",
       " 'variants/HW': array([  41.70000076,  151.8999939 ,   45.90000153, ...,    0.        ,\n",
       "           0.        ,    0.        ], dtype=float32),\n",
       " 'variants/HaplotypeScore': array([ 0.0432    ,  0.0549    ,  0.0828    , ...,  1.06560004,\n",
       "         1.38800001,  1.33159995], dtype=float32),\n",
       " 'variants/HighCoverage': array([ 1,  1,  1, ..., 20, 17, 10], dtype=int32),\n",
       " 'variants/HighMQ0': array([763, 765, 764, ...,  50,  29,   2], dtype=int32),\n",
       " 'variants/InbreedingCoeff': array([ 0.19760001,  0.36289999,  0.0037    , ...,  0.0016    ,\n",
       "        -0.0059    , -0.0119    ], dtype=float32),\n",
       " 'variants/LOF': array([b'', b'', b'', ..., b'', b'', b''], \n",
       "       dtype='|S12'),\n",
       " 'variants/LowCoverage': array([701, 589, 464, ...,   4,   5,   9], dtype=int32),\n",
       " 'variants/LowMQ': array([763, 765, 764, ...,   0,   0,   0], dtype=int32),\n",
       " 'variants/LowPairing': array([551, 664, 723, ...,   5,   2,   2], dtype=int32),\n",
       " 'variants/MLEAC': array([[-1, -1, -1],\n",
       "        [-1, -1, -1],\n",
       "        [-1, -1, -1],\n",
       "        ..., \n",
       "        [-1, -1, -1],\n",
       "        [-1, -1, -1],\n",
       "        [-1, -1, -1]], dtype=int32),\n",
       " 'variants/MLEAF': array([[ nan,  nan,  nan],\n",
       "        [ nan,  nan,  nan],\n",
       "        [ nan,  nan,  nan],\n",
       "        ..., \n",
       "        [ nan,  nan,  nan],\n",
       "        [ nan,  nan,  nan],\n",
       "        [ nan,  nan,  nan]], dtype=float32),\n",
       " 'variants/MQ': array([  1.55999994,   2.32999992,   2.77999997, ...,  45.52999878,\n",
       "         45.86000061,  46.75      ], dtype=float32),\n",
       " 'variants/MQ0': array([7022, 8515, 8708, ..., 1167,  934,  335], dtype=int32),\n",
       " 'variants/MQRankSum': array([ -1.477     ,  -4.51399994,   1.75699997, ...,   0.35800001,\n",
       "          2.15400004, -69.93099976], dtype=float32),\n",
       " 'variants/NDA': array([1, 1, 1, ..., 2, 1, 2], dtype=int32),\n",
       " 'variants/NMD': array([b'', b'', b'', ..., b'', b'', b''], \n",
       "       dtype='|S12'),\n",
       " 'variants/NoCoverage': array([2, 0, 1, ..., 0, 0, 0], dtype=int32),\n",
       " 'variants/OND': array([ 0.198     ,  0.26100001,  0.022     , ...,         nan,\n",
       "         0.001423  ,  0.068     ], dtype=float32),\n",
       " 'variants/QD': array([ 1.66999996,  2.1099999 ,  4.11999989, ...,  7.61000013,\n",
       "         9.31999969,  0.14      ], dtype=float32),\n",
       " 'variants/RPA': array([-1, -1, -1, ..., -1, -1, -1], dtype=int32),\n",
       " 'variants/RU': array([b'', b'', b'', ..., b'', b'', b''], \n",
       "       dtype='|S12'),\n",
       " 'variants/ReadPosRankSum': array([ -0.49200001,  -1.60300004,  -1.08399999, ...,  -1.421     ,\n",
       "          2.796     , -10.38899994], dtype=float32),\n",
       " 'variants/RefMasked': array([ True,  True,  True, ..., False, False, False], dtype=bool),\n",
       " 'variants/RefN': array([False, False, False, ..., False, False, False], dtype=bool),\n",
       " 'variants/RepeatDUST': array([False, False, False, ..., False, False, False], dtype=bool),\n",
       " 'variants/RepeatMasker': array([ True,  True,  True, ..., False, False, False], dtype=bool),\n",
       " 'variants/RepeatTRF': array([False, False, False, ...,  True,  True,  True], dtype=bool),\n",
       " 'variants/STR': array([False, False, False, ..., False, False, False], dtype=bool),\n",
       " 'variants/VariantType': array([b'SNP', b'SNP', b'SNP', ..., b'MULTIALLELIC', b'SNP', b'SNP'], \n",
       "       dtype='|S12')}"
      ]
     },
     "execution_count": 19,
     "metadata": {},
     "output_type": "execute_result"
    }
   ],
   "source": [
    "%time read_vcf('../../profdata/ag1000g.phase1.ar3.2L.partial.vcf.gz', fields='INFO', chunk_length=10000, n_threads=1, log=sys.stderr)"
   ]
  },
  {
   "cell_type": "markdown",
   "metadata": {},
   "source": [
    "## Check region and tabix"
   ]
  },
  {
   "cell_type": "code",
   "execution_count": 1,
   "metadata": {
    "collapsed": true
   },
   "outputs": [],
   "source": [
    "import sys\n",
    "sys.path.insert(0, '../..')\n",
    "from allel.io_vcf_read import read_vcf"
   ]
  },
  {
   "cell_type": "code",
   "execution_count": 2,
   "metadata": {
    "collapsed": false
   },
   "outputs": [
    {
     "name": "stderr",
     "output_type": "stream",
     "text": [
      "[read_vcf] 10000 rows in 0.96s; chunk in 0.96s (10450 rows/s); 2L\u0000:98451\n",
      "[read_vcf] 10301 rows in 0.99s; chunk in 0.03s (8646 rows/s); :0\n",
      "[read_vcf] all done (10378 rows/s)\n"
     ]
    },
    {
     "data": {
      "text/plain": [
       "{'variants/CHROM': array([b'2L', b'2L', b'2L', ..., b'2L', b'2L', b'2L'], \n",
       "       dtype='|S12'),\n",
       " 'variants/POS': array([  103,   163,   192, ..., 99993, 99996, 99997], dtype=int32)}"
      ]
     },
     "execution_count": 2,
     "metadata": {},
     "output_type": "execute_result"
    }
   ],
   "source": [
    "read_vcf('../../profdata/ag1000g.phase1.ar3.2L.partial.vcf.gz', fields=['CHROM', 'POS'], chunk_length=10000, log=sys.stderr, region='2L:1-100000')"
   ]
  },
  {
   "cell_type": "code",
   "execution_count": 3,
   "metadata": {
    "collapsed": false
   },
   "outputs": [
    {
     "name": "stderr",
     "output_type": "stream",
     "text": [
      "../../allel/io_vcf_read.py:678: UserWarning: exception occurred attempting tabix (Could not load .tbi/.csi index of ../../profdata/accessibility.X.vcf.gz); falling back to scanning to region\n",
      "  'scanning to region' % e)\n",
      "[read_vcf] 100000 rows in 1.43s; chunk in 1.43s (69955 rows/s); X\u0000:1099999\n",
      "[read_vcf] 200000 rows in 1.59s; chunk in 0.16s (636490 rows/s); X\u0000:1199999\n",
      "[read_vcf] 300000 rows in 1.74s; chunk in 0.15s (646018 rows/s); X\u0000:1299999\n",
      "[read_vcf] 400000 rows in 1.90s; chunk in 0.16s (625514 rows/s); X\u0000:1399999\n",
      "[read_vcf] 500000 rows in 2.06s; chunk in 0.16s (628348 rows/s); X\u0000:1499999\n",
      "[read_vcf] 600000 rows in 2.22s; chunk in 0.16s (644555 rows/s); X\u0000:1599999\n",
      "[read_vcf] 700000 rows in 2.37s; chunk in 0.15s (645166 rows/s); X\u0000:1699999\n",
      "[read_vcf] 800000 rows in 2.53s; chunk in 0.16s (634715 rows/s); X\u0000:1799999\n",
      "[read_vcf] 900000 rows in 2.70s; chunk in 0.17s (597541 rows/s); X\u0000:1899999\n",
      "[read_vcf] 1000000 rows in 2.85s; chunk in 0.15s (647056 rows/s); X\u0000:1999999\n",
      "[read_vcf] 1000001 rows in 2.85s; chunk in 0.00s (1495 rows/s); X\u0000:2000001\n",
      "[read_vcf] all done (350738 rows/s)\n"
     ]
    },
    {
     "data": {
      "text/plain": [
       "{'variants/CHROM': array([b'X', b'X', b'X', ..., b'X', b'X', b'X'], \n",
       "       dtype='|S12'),\n",
       " 'variants/POS': array([1000000, 1000001, 1000002, ..., 1999998, 1999999, 2000000], dtype=int32)}"
      ]
     },
     "execution_count": 3,
     "metadata": {},
     "output_type": "execute_result"
    }
   ],
   "source": [
    "read_vcf('../../profdata/accessibility.X.vcf.gz', fields=['CHROM', 'POS'], chunk_length=100000, log=sys.stderr, region='X:1000000-2000000')"
   ]
  },
  {
   "cell_type": "code",
   "execution_count": 4,
   "metadata": {
    "collapsed": false
   },
   "outputs": [
    {
     "name": "stderr",
     "output_type": "stream",
     "text": [
      "[read_vcf] 100000 rows in 1.46s; chunk in 1.46s (68691 rows/s); X\u0000:1099999\n",
      "[read_vcf] 200000 rows in 1.62s; chunk in 0.16s (626667 rows/s); X\u0000:1199999\n",
      "[read_vcf] 300000 rows in 1.77s; chunk in 0.16s (638279 rows/s); X\u0000:1299999\n",
      "[read_vcf] 400000 rows in 1.93s; chunk in 0.16s (614899 rows/s); X\u0000:1399999\n",
      "[read_vcf] 500000 rows in 2.10s; chunk in 0.17s (591599 rows/s); X\u0000:1499999\n",
      "[read_vcf] 600000 rows in 2.27s; chunk in 0.17s (605465 rows/s); X\u0000:1599999\n",
      "[read_vcf] 700000 rows in 2.43s; chunk in 0.16s (611707 rows/s); X\u0000:1699999\n",
      "[read_vcf] 800000 rows in 2.60s; chunk in 0.17s (595219 rows/s); X\u0000:1799999\n",
      "[read_vcf] 900000 rows in 2.77s; chunk in 0.17s (587222 rows/s); X\u0000:1899999\n",
      "[read_vcf] 1000000 rows in 2.95s; chunk in 0.18s (561287 rows/s); X\u0000:1999999\n",
      "[read_vcf] 1000001 rows in 2.95s; chunk in 0.00s (782 rows/s); X\u0000:2000001\n",
      "[read_vcf] all done (338868 rows/s)\n"
     ]
    },
    {
     "data": {
      "text/plain": [
       "{'variants/CHROM': array([b'X', b'X', b'X', ..., b'X', b'X', b'X'], \n",
       "       dtype='|S12'),\n",
       " 'variants/POS': array([1000000, 1000001, 1000002, ..., 1999998, 1999999, 2000000], dtype=int32)}"
      ]
     },
     "execution_count": 4,
     "metadata": {},
     "output_type": "execute_result"
    }
   ],
   "source": [
    "read_vcf('../../profdata/accessibility.X.vcf.gz', fields=['CHROM', 'POS'], chunk_length=100000, log=sys.stderr, region='X:1000000-2000000', tabix=None)"
   ]
  },
  {
   "cell_type": "markdown",
   "metadata": {},
   "source": [
    "## Profile INFO"
   ]
  },
  {
   "cell_type": "code",
   "execution_count": 1,
   "metadata": {
    "collapsed": true
   },
   "outputs": [],
   "source": [
    "import sys\n",
    "sys.path.insert(0, '../..')\n",
    "import cProfile\n",
    "from allel.io_vcf_read import read_vcf, vcf_to_npz, vcf_to_hdf5, vcf_to_zarr, ANNTransformer, vcf_to_csv, \\\n",
    "    vcf_to_dataframe, vcf_to_recarray\n",
    "# from allel.opt.io_vcf_read import (iter_vcf, \n",
    "#                                    CalldataParser_parse, \n",
    "#                                    GenotypeInt8Parser_parse, \n",
    "#                                    ParserContext_next, \n",
    "#                                    BufferedReader_read\n",
    "#                                  )\n",
    "\n",
    "sample_vcf_fn = '../../fixture/sample.vcf'\n",
    "prof_vcf_fn = '../../profdata/2L_2358158_2431617.vcf'"
   ]
  },
  {
   "cell_type": "code",
   "execution_count": 2,
   "metadata": {
    "collapsed": false
   },
   "outputs": [
    {
     "name": "stderr",
     "output_type": "stream",
     "text": [
      "[vcf_to_csv] 100000 rows in 1.47s; chunk in 1.47s (68026 rows/s); X\u0000:1099999\n",
      "[vcf_to_csv] 200000 rows in 2.90s; chunk in 1.43s (69884 rows/s); X\u0000:1199999\n",
      "[vcf_to_csv] 300000 rows in 4.27s; chunk in 1.37s (73235 rows/s); X\u0000:1299999\n",
      "[vcf_to_csv] 400000 rows in 5.63s; chunk in 1.36s (73475 rows/s); X\u0000:1399999\n",
      "[vcf_to_csv] 500000 rows in 6.98s; chunk in 1.36s (73719 rows/s); X\u0000:1499999\n",
      "[vcf_to_csv] 600000 rows in 8.35s; chunk in 1.36s (73444 rows/s); X\u0000:1599999\n",
      "[vcf_to_csv] 700000 rows in 9.70s; chunk in 1.36s (73627 rows/s); X\u0000:1699999\n",
      "[vcf_to_csv] 800000 rows in 11.11s; chunk in 1.41s (71133 rows/s); X\u0000:1799999\n",
      "[vcf_to_csv] 900000 rows in 12.49s; chunk in 1.38s (72488 rows/s); X\u0000:1899999\n",
      "[vcf_to_csv] 1000000 rows in 13.87s; chunk in 1.38s (72423 rows/s); X\u0000:1999999\n",
      "[vcf_to_csv] 1000001 rows in 15.05s; chunk in 1.18s (0 rows/s); X\u0000:2000001\n",
      "[vcf_to_csv] all done (66422 rows/s)\n"
     ]
    }
   ],
   "source": [
    "vcf_to_csv('../../profdata/accessibility.X.vcf.gz', '../../profdata/accessibility.X.tsv', \n",
    "           fields='*', chunk_length=100000, log=sys.stderr, \n",
    "           region='X:1000000-2000000', tabix=None, sep='\\t')"
   ]
  },
  {
   "cell_type": "code",
   "execution_count": 3,
   "metadata": {
    "collapsed": false
   },
   "outputs": [
    {
     "name": "stdout",
     "output_type": "stream",
     "text": [
      "CHROM\tPOS\tID\tREF\tALT_1\tALT_2\tALT_3\tQUAL\tHighCoverage\tRepeatTRF\tCoverage\tLowPairing\tAccessible\tCoverageMQ0\tRefN\tHighMQ0\tNoCoverage\tLowMQ\tRepeatMasker\tRefMasked\tLowCoverage\tRepeatDUST\tFILTER_PASS\tFILTER_HighCoverage\tFILTER_HighMQ0\tFILTER_NoCoverage\tFILTER_LowMQ\tFILTER_LowCoverage\tFILTER_RefN\tFILTER_RepeatDUST\tnumalt\tsvlen_1\tsvlen_2\tsvlen_3\r\n",
      "X\t1000000\t.\tT\tA\tC\tT\t\t3\tFalse\t25835\t2\tTrue\t2\tFalse\t0\t0\t0\tFalse\tFalse\t1\tFalse\tTrue\tFalse\tFalse\tFalse\tFalse\tFalse\tFalse\tFalse\t4\t0\t0\t0\r\n",
      "X\t1000001\t.\tC\tA\tC\tT\t\t2\tFalse\t25854\t2\tTrue\t2\tFalse\t0\t0\t0\tFalse\tFalse\t1\tFalse\tTrue\tFalse\tFalse\tFalse\tFalse\tFalse\tFalse\tFalse\t4\t0\t0\t0\r\n",
      "X\t1000002\t.\tA\tA\tC\tT\t\t2\tFalse\t25708\t2\tTrue\t2\tFalse\t0\t0\t0\tFalse\tFalse\t1\tFalse\tTrue\tFalse\tFalse\tFalse\tFalse\tFalse\tFalse\tFalse\t4\t0\t0\t0\r\n",
      "X\t1000003\t.\tC\tA\tC\tT\t\t2\tFalse\t25662\t2\tTrue\t2\tFalse\t0\t0\t0\tFalse\tFalse\t1\tFalse\tTrue\tFalse\tFalse\tFalse\tFalse\tFalse\tFalse\tFalse\t4\t0\t0\t0\r\n",
      "X\t1000004\t.\tA\tA\tC\tT\t\t2\tFalse\t25626\t2\tTrue\t2\tFalse\t0\t0\t0\tFalse\tFalse\t1\tFalse\tTrue\tFalse\tFalse\tFalse\tFalse\tFalse\tFalse\tFalse\t4\t0\t0\t0\r\n",
      "X\t1000005\t.\tG\tA\tC\tT\t\t2\tFalse\t25656\t2\tTrue\t2\tFalse\t0\t0\t0\tFalse\tFalse\t1\tFalse\tTrue\tFalse\tFalse\tFalse\tFalse\tFalse\tFalse\tFalse\t4\t0\t0\t0\r\n",
      "X\t1000006\t.\tG\tA\tC\tT\t\t2\tFalse\t25479\t2\tTrue\t2\tFalse\t0\t0\t0\tFalse\tFalse\t2\tFalse\tTrue\tFalse\tFalse\tFalse\tFalse\tFalse\tFalse\tFalse\t4\t0\t0\t0\r\n",
      "X\t1000007\t.\tC\tA\tC\tT\t\t2\tFalse\t25469\t2\tTrue\t2\tFalse\t0\t0\t0\tFalse\tFalse\t2\tFalse\tTrue\tFalse\tFalse\tFalse\tFalse\tFalse\tFalse\tFalse\t4\t0\t0\t0\r\n",
      "X\t1000008\t.\tT\tA\tC\tT\t\t2\tFalse\t25489\t1\tTrue\t2\tFalse\t0\t0\t0\tFalse\tFalse\t3\tFalse\tTrue\tFalse\tFalse\tFalse\tFalse\tFalse\tFalse\tFalse\t4\t0\t0\t0\r\n"
     ]
    }
   ],
   "source": [
    "!head ../../profdata/accessibility.X.tsv"
   ]
  },
  {
   "cell_type": "code",
   "execution_count": 2,
   "metadata": {
    "collapsed": false
   },
   "outputs": [
    {
     "name": "stderr",
     "output_type": "stream",
     "text": [
      "[vcf_to_dataframe] 100000 rows in 1.46s; chunk in 1.46s (68271 rows/s); X\u0000:1099999\n",
      "[vcf_to_dataframe] 200000 rows in 1.68s; chunk in 0.21s (466964 rows/s); X\u0000:1199999\n",
      "[vcf_to_dataframe] 300000 rows in 1.89s; chunk in 0.21s (466957 rows/s); X\u0000:1299999\n",
      "[vcf_to_dataframe] 400000 rows in 2.11s; chunk in 0.21s (471392 rows/s); X\u0000:1399999\n",
      "[vcf_to_dataframe] 500000 rows in 2.31s; chunk in 0.21s (486027 rows/s); X\u0000:1499999\n",
      "[vcf_to_dataframe] 500001 rows in 2.31s; chunk in 0.00s (336 rows/s); X\u0000:1500001\n",
      "[vcf_to_dataframe] all done (216024 rows/s)\n"
     ]
    },
    {
     "data": {
      "text/html": [
       "<div>\n",
       "<table border=\"1\" class=\"dataframe\">\n",
       "  <thead>\n",
       "    <tr style=\"text-align: right;\">\n",
       "      <th></th>\n",
       "      <th>CHROM</th>\n",
       "      <th>POS</th>\n",
       "      <th>ID</th>\n",
       "      <th>REF</th>\n",
       "      <th>ALT_1</th>\n",
       "      <th>ALT_2</th>\n",
       "      <th>ALT_3</th>\n",
       "      <th>QUAL</th>\n",
       "      <th>RefMasked</th>\n",
       "      <th>LowMQ</th>\n",
       "      <th>...</th>\n",
       "      <th>FILTER_HighMQ0</th>\n",
       "      <th>FILTER_NoCoverage</th>\n",
       "      <th>FILTER_RefN</th>\n",
       "      <th>FILTER_RepeatDUST</th>\n",
       "      <th>FILTER_LowCoverage</th>\n",
       "      <th>FILTER_HighCoverage</th>\n",
       "      <th>numalt</th>\n",
       "      <th>svlen_1</th>\n",
       "      <th>svlen_2</th>\n",
       "      <th>svlen_3</th>\n",
       "    </tr>\n",
       "  </thead>\n",
       "  <tbody>\n",
       "    <tr>\n",
       "      <th>0</th>\n",
       "      <td>X</td>\n",
       "      <td>1000000</td>\n",
       "      <td>.</td>\n",
       "      <td>T</td>\n",
       "      <td>A</td>\n",
       "      <td>C</td>\n",
       "      <td>T</td>\n",
       "      <td>NaN</td>\n",
       "      <td>False</td>\n",
       "      <td>0</td>\n",
       "      <td>...</td>\n",
       "      <td>False</td>\n",
       "      <td>False</td>\n",
       "      <td>False</td>\n",
       "      <td>False</td>\n",
       "      <td>False</td>\n",
       "      <td>False</td>\n",
       "      <td>4</td>\n",
       "      <td>0</td>\n",
       "      <td>0</td>\n",
       "      <td>0</td>\n",
       "    </tr>\n",
       "    <tr>\n",
       "      <th>1</th>\n",
       "      <td>X</td>\n",
       "      <td>1000001</td>\n",
       "      <td>.</td>\n",
       "      <td>C</td>\n",
       "      <td>A</td>\n",
       "      <td>C</td>\n",
       "      <td>T</td>\n",
       "      <td>NaN</td>\n",
       "      <td>False</td>\n",
       "      <td>0</td>\n",
       "      <td>...</td>\n",
       "      <td>False</td>\n",
       "      <td>False</td>\n",
       "      <td>False</td>\n",
       "      <td>False</td>\n",
       "      <td>False</td>\n",
       "      <td>False</td>\n",
       "      <td>4</td>\n",
       "      <td>0</td>\n",
       "      <td>0</td>\n",
       "      <td>0</td>\n",
       "    </tr>\n",
       "    <tr>\n",
       "      <th>2</th>\n",
       "      <td>X</td>\n",
       "      <td>1000002</td>\n",
       "      <td>.</td>\n",
       "      <td>A</td>\n",
       "      <td>A</td>\n",
       "      <td>C</td>\n",
       "      <td>T</td>\n",
       "      <td>NaN</td>\n",
       "      <td>False</td>\n",
       "      <td>0</td>\n",
       "      <td>...</td>\n",
       "      <td>False</td>\n",
       "      <td>False</td>\n",
       "      <td>False</td>\n",
       "      <td>False</td>\n",
       "      <td>False</td>\n",
       "      <td>False</td>\n",
       "      <td>4</td>\n",
       "      <td>0</td>\n",
       "      <td>0</td>\n",
       "      <td>0</td>\n",
       "    </tr>\n",
       "    <tr>\n",
       "      <th>3</th>\n",
       "      <td>X</td>\n",
       "      <td>1000003</td>\n",
       "      <td>.</td>\n",
       "      <td>C</td>\n",
       "      <td>A</td>\n",
       "      <td>C</td>\n",
       "      <td>T</td>\n",
       "      <td>NaN</td>\n",
       "      <td>False</td>\n",
       "      <td>0</td>\n",
       "      <td>...</td>\n",
       "      <td>False</td>\n",
       "      <td>False</td>\n",
       "      <td>False</td>\n",
       "      <td>False</td>\n",
       "      <td>False</td>\n",
       "      <td>False</td>\n",
       "      <td>4</td>\n",
       "      <td>0</td>\n",
       "      <td>0</td>\n",
       "      <td>0</td>\n",
       "    </tr>\n",
       "    <tr>\n",
       "      <th>4</th>\n",
       "      <td>X</td>\n",
       "      <td>1000004</td>\n",
       "      <td>.</td>\n",
       "      <td>A</td>\n",
       "      <td>A</td>\n",
       "      <td>C</td>\n",
       "      <td>T</td>\n",
       "      <td>NaN</td>\n",
       "      <td>False</td>\n",
       "      <td>0</td>\n",
       "      <td>...</td>\n",
       "      <td>False</td>\n",
       "      <td>False</td>\n",
       "      <td>False</td>\n",
       "      <td>False</td>\n",
       "      <td>False</td>\n",
       "      <td>False</td>\n",
       "      <td>4</td>\n",
       "      <td>0</td>\n",
       "      <td>0</td>\n",
       "      <td>0</td>\n",
       "    </tr>\n",
       "  </tbody>\n",
       "</table>\n",
       "<p>5 rows × 34 columns</p>\n",
       "</div>"
      ],
      "text/plain": [
       "  CHROM      POS ID REF ALT_1 ALT_2 ALT_3  QUAL RefMasked  LowMQ   ...    \\\n",
       "0     X  1000000  .   T     A     C     T   NaN     False      0   ...     \n",
       "1     X  1000001  .   C     A     C     T   NaN     False      0   ...     \n",
       "2     X  1000002  .   A     A     C     T   NaN     False      0   ...     \n",
       "3     X  1000003  .   C     A     C     T   NaN     False      0   ...     \n",
       "4     X  1000004  .   A     A     C     T   NaN     False      0   ...     \n",
       "\n",
       "   FILTER_HighMQ0 FILTER_NoCoverage  FILTER_RefN FILTER_RepeatDUST  \\\n",
       "0           False             False        False             False   \n",
       "1           False             False        False             False   \n",
       "2           False             False        False             False   \n",
       "3           False             False        False             False   \n",
       "4           False             False        False             False   \n",
       "\n",
       "  FILTER_LowCoverage  FILTER_HighCoverage numalt  svlen_1  svlen_2 svlen_3  \n",
       "0              False                False      4        0        0       0  \n",
       "1              False                False      4        0        0       0  \n",
       "2              False                False      4        0        0       0  \n",
       "3              False                False      4        0        0       0  \n",
       "4              False                False      4        0        0       0  \n",
       "\n",
       "[5 rows x 34 columns]"
      ]
     },
     "execution_count": 2,
     "metadata": {},
     "output_type": "execute_result"
    }
   ],
   "source": [
    "df = vcf_to_dataframe('../../profdata/accessibility.X.vcf.gz',\n",
    "                      fields='*', chunk_length=100000, log=sys.stderr, \n",
    "                      region='X:1000000-1500000', tabix=None)\n",
    "df.head()"
   ]
  },
  {
   "cell_type": "code",
   "execution_count": 3,
   "metadata": {
    "collapsed": false
   },
   "outputs": [
    {
     "name": "stderr",
     "output_type": "stream",
     "text": [
      "[vcf_to_recarray] 100000 rows in 1.54s; chunk in 1.54s (64981 rows/s); X\u0000:1099999\n",
      "[vcf_to_recarray] 200000 rows in 1.85s; chunk in 0.31s (317530 rows/s); X\u0000:1199999\n",
      "[vcf_to_recarray] 300000 rows in 2.09s; chunk in 0.24s (418168 rows/s); X\u0000:1299999\n",
      "[vcf_to_recarray] 400000 rows in 2.31s; chunk in 0.21s (469614 rows/s); X\u0000:1399999\n",
      "[vcf_to_recarray] 500000 rows in 2.51s; chunk in 0.21s (478443 rows/s); X\u0000:1499999\n",
      "[vcf_to_recarray] 500001 rows in 2.52s; chunk in 0.00s (278 rows/s); X\u0000:1500001\n",
      "[vcf_to_recarray] all done (198483 rows/s)\n"
     ]
    },
    {
     "data": {
      "text/plain": [
       "array([ (b'X', 1000000, b'.', b'T', b'A', b'C', b'T', nan, False, 0, 0, True, 2, False, False, 2, False, 1, 0, False, 25835, 3, True, False, False, False, False, False, False, False, 4, 0, 0, 0),\n",
       "       (b'X', 1000001, b'.', b'C', b'A', b'C', b'T', nan, False, 0, 0, True, 2, False, False, 2, False, 1, 0, False, 25854, 2, True, False, False, False, False, False, False, False, 4, 0, 0, 0),\n",
       "       (b'X', 1000002, b'.', b'A', b'A', b'C', b'T', nan, False, 0, 0, True, 2, False, False, 2, False, 1, 0, False, 25708, 2, True, False, False, False, False, False, False, False, 4, 0, 0, 0),\n",
       "       ...,\n",
       "       (b'X', 1499998, b'.', b'G', b'A', b'C', b'T', nan, False, 0, 0, True, 12, False, False, 4, False, 9, 0, False, 21716, 0, True, False, False, False, False, False, False, False, 4, 0, 0, 0),\n",
       "       (b'X', 1499999, b'.', b'C', b'A', b'C', b'T', nan, False, 0, 0, True, 12, False, False, 4, False, 11, 0, False, 21698, 0, True, False, False, False, False, False, False, False, 4, 0, 0, 0),\n",
       "       (b'X', 1500000, b'.', b'G', b'A', b'C', b'T', nan, False, 0, 0, True, 12, False, False, 4, False, 12, 0, False, 21756, 0, True, False, False, False, False, False, False, False, 4, 0, 0, 0)], \n",
       "      dtype=(numpy.record, [('CHROM', 'S12'), ('POS', '<i4'), ('ID', 'S12'), ('REF', 'S30'), ('ALT_1', 'S30'), ('ALT_2', 'S30'), ('ALT_3', 'S30'), ('QUAL', '<f4'), ('RefMasked', '?'), ('LowMQ', '<i4'), ('HighMQ0', '<i4'), ('Accessible', '?'), ('CoverageMQ0', '<i4'), ('RepeatDUST', '?'), ('RepeatMasker', '?'), ('LowPairing', '<i4'), ('RepeatTRF', '?'), ('LowCoverage', '<i4'), ('NoCoverage', '<i4'), ('RefN', '?'), ('Coverage', '<i4'), ('HighCoverage', '<i4'), ('FILTER_PASS', '?'), ('FILTER_LowMQ', '?'), ('FILTER_HighMQ0', '?'), ('FILTER_NoCoverage', '?'), ('FILTER_RefN', '?'), ('FILTER_RepeatDUST', '?'), ('FILTER_LowCoverage', '?'), ('FILTER_HighCoverage', '?'), ('numalt', '<i4'), ('svlen_1', '<i4'), ('svlen_2', '<i4'), ('svlen_3', '<i4')]))"
      ]
     },
     "execution_count": 3,
     "metadata": {},
     "output_type": "execute_result"
    }
   ],
   "source": [
    "ra = vcf_to_recarray('../../profdata/accessibility.X.vcf.gz',\n",
    "                     fields='*', chunk_length=100000, log=sys.stderr, \n",
    "                     region='X:1000000-1500000', tabix=None)\n",
    "ra"
   ]
  },
  {
   "cell_type": "code",
   "execution_count": 4,
   "metadata": {
    "collapsed": false
   },
   "outputs": [
    {
     "data": {
      "text/html": [
       "<div class=\"allel allel-DisplayAsTable\"><span>&lt;VariantTable shape=(500001,) dtype=(numpy.record, [('CHROM', 'S12'), ('POS', '&lt;i4'), ('ID', 'S12'), ('REF', 'S30'), ('ALT_1', 'S30'), ('ALT_2', 'S30'), ('ALT_3', 'S30'), ('QUAL', '&lt;f4'), ('RefMasked', '?'), ('LowMQ', '&lt;i4'), ('HighMQ0', '&lt;i4'), ('Accessible', '?'), ('CoverageMQ0', '&lt;i4'), ('RepeatDUST', '?'), ('RepeatMasker', '?'), ('LowPairing', '&lt;i4'), ('RepeatTRF', '?'), ('LowCoverage', '&lt;i4'), ('NoCoverage', '&lt;i4'), ('RefN', '?'), ('Coverage', '&lt;i4'), ('HighCoverage', '&lt;i4'), ('FILTER_PASS', '?'), ('FILTER_LowMQ', '?'), ('FILTER_HighMQ0', '?'), ('FILTER_NoCoverage', '?'), ('FILTER_RefN', '?'), ('FILTER_RepeatDUST', '?'), ('FILTER_LowCoverage', '?'), ('FILTER_HighCoverage', '?'), ('numalt', '&lt;i4'), ('svlen_1', '&lt;i4'), ('svlen_2', '&lt;i4'), ('svlen_3', '&lt;i4')])&gt;</span><table><tr><th></th><th style=\"text-align: center\">CHROM</th><th style=\"text-align: center\">POS</th><th style=\"text-align: center\">ID</th><th style=\"text-align: center\">REF</th><th style=\"text-align: center\">ALT_1</th><th style=\"text-align: center\">ALT_2</th><th style=\"text-align: center\">ALT_3</th><th style=\"text-align: center\">QUAL</th><th style=\"text-align: center\">RefMasked</th><th style=\"text-align: center\">LowMQ</th><th style=\"text-align: center\">HighMQ0</th><th style=\"text-align: center\">Accessible</th><th style=\"text-align: center\">CoverageMQ0</th><th style=\"text-align: center\">RepeatDUST</th><th style=\"text-align: center\">RepeatMasker</th><th style=\"text-align: center\">LowPairing</th><th style=\"text-align: center\">RepeatTRF</th><th style=\"text-align: center\">LowCoverage</th><th style=\"text-align: center\">NoCoverage</th><th style=\"text-align: center\">RefN</th><th style=\"text-align: center\">Coverage</th><th style=\"text-align: center\">HighCoverage</th><th style=\"text-align: center\">FILTER_PASS</th><th style=\"text-align: center\">FILTER_LowMQ</th><th style=\"text-align: center\">FILTER_HighMQ0</th><th style=\"text-align: center\">FILTER_NoCoverage</th><th style=\"text-align: center\">FILTER_RefN</th><th style=\"text-align: center\">FILTER_RepeatDUST</th><th style=\"text-align: center\">FILTER_LowCoverage</th><th style=\"text-align: center\">FILTER_HighCoverage</th><th style=\"text-align: center\">numalt</th><th style=\"text-align: center\">svlen_1</th><th style=\"text-align: center\">svlen_2</th><th style=\"text-align: center\">svlen_3</th></tr><tr><th style=\"text-align: center\">0</th><td style=\"text-align: center\">b'X'</td><td style=\"text-align: center\">1000000</td><td style=\"text-align: center\">b'.'</td><td style=\"text-align: center\">b'T'</td><td style=\"text-align: center\">b'A'</td><td style=\"text-align: center\">b'C'</td><td style=\"text-align: center\">b'T'</td><td style=\"text-align: center\">nan</td><td style=\"text-align: center\">False</td><td style=\"text-align: center\">0</td><td style=\"text-align: center\">0</td><td style=\"text-align: center\">True</td><td style=\"text-align: center\">2</td><td style=\"text-align: center\">False</td><td style=\"text-align: center\">False</td><td style=\"text-align: center\">2</td><td style=\"text-align: center\">False</td><td style=\"text-align: center\">1</td><td style=\"text-align: center\">0</td><td style=\"text-align: center\">False</td><td style=\"text-align: center\">25835</td><td style=\"text-align: center\">3</td><td style=\"text-align: center\">True</td><td style=\"text-align: center\">False</td><td style=\"text-align: center\">False</td><td style=\"text-align: center\">False</td><td style=\"text-align: center\">False</td><td style=\"text-align: center\">False</td><td style=\"text-align: center\">False</td><td style=\"text-align: center\">False</td><td style=\"text-align: center\">4</td><td style=\"text-align: center\">0</td><td style=\"text-align: center\">0</td><td style=\"text-align: center\">0</td></tr><tr><th style=\"text-align: center\">1</th><td style=\"text-align: center\">b'X'</td><td style=\"text-align: center\">1000001</td><td style=\"text-align: center\">b'.'</td><td style=\"text-align: center\">b'C'</td><td style=\"text-align: center\">b'A'</td><td style=\"text-align: center\">b'C'</td><td style=\"text-align: center\">b'T'</td><td style=\"text-align: center\">nan</td><td style=\"text-align: center\">False</td><td style=\"text-align: center\">0</td><td style=\"text-align: center\">0</td><td style=\"text-align: center\">True</td><td style=\"text-align: center\">2</td><td style=\"text-align: center\">False</td><td style=\"text-align: center\">False</td><td style=\"text-align: center\">2</td><td style=\"text-align: center\">False</td><td style=\"text-align: center\">1</td><td style=\"text-align: center\">0</td><td style=\"text-align: center\">False</td><td style=\"text-align: center\">25854</td><td style=\"text-align: center\">2</td><td style=\"text-align: center\">True</td><td style=\"text-align: center\">False</td><td style=\"text-align: center\">False</td><td style=\"text-align: center\">False</td><td style=\"text-align: center\">False</td><td style=\"text-align: center\">False</td><td style=\"text-align: center\">False</td><td style=\"text-align: center\">False</td><td style=\"text-align: center\">4</td><td style=\"text-align: center\">0</td><td style=\"text-align: center\">0</td><td style=\"text-align: center\">0</td></tr><tr><th style=\"text-align: center\">2</th><td style=\"text-align: center\">b'X'</td><td style=\"text-align: center\">1000002</td><td style=\"text-align: center\">b'.'</td><td style=\"text-align: center\">b'A'</td><td style=\"text-align: center\">b'A'</td><td style=\"text-align: center\">b'C'</td><td style=\"text-align: center\">b'T'</td><td style=\"text-align: center\">nan</td><td style=\"text-align: center\">False</td><td style=\"text-align: center\">0</td><td style=\"text-align: center\">0</td><td style=\"text-align: center\">True</td><td style=\"text-align: center\">2</td><td style=\"text-align: center\">False</td><td style=\"text-align: center\">False</td><td style=\"text-align: center\">2</td><td style=\"text-align: center\">False</td><td style=\"text-align: center\">1</td><td style=\"text-align: center\">0</td><td style=\"text-align: center\">False</td><td style=\"text-align: center\">25708</td><td style=\"text-align: center\">2</td><td style=\"text-align: center\">True</td><td style=\"text-align: center\">False</td><td style=\"text-align: center\">False</td><td style=\"text-align: center\">False</td><td style=\"text-align: center\">False</td><td style=\"text-align: center\">False</td><td style=\"text-align: center\">False</td><td style=\"text-align: center\">False</td><td style=\"text-align: center\">4</td><td style=\"text-align: center\">0</td><td style=\"text-align: center\">0</td><td style=\"text-align: center\">0</td></tr><tr><th style=\"text-align: center\">...</th><td style=\"text-align: center\" colspan=\"35\">...</td></tr><tr><th style=\"text-align: center\">499998</th><td style=\"text-align: center\">b'X'</td><td style=\"text-align: center\">1499998</td><td style=\"text-align: center\">b'.'</td><td style=\"text-align: center\">b'G'</td><td style=\"text-align: center\">b'A'</td><td style=\"text-align: center\">b'C'</td><td style=\"text-align: center\">b'T'</td><td style=\"text-align: center\">nan</td><td style=\"text-align: center\">False</td><td style=\"text-align: center\">0</td><td style=\"text-align: center\">0</td><td style=\"text-align: center\">True</td><td style=\"text-align: center\">12</td><td style=\"text-align: center\">False</td><td style=\"text-align: center\">False</td><td style=\"text-align: center\">4</td><td style=\"text-align: center\">False</td><td style=\"text-align: center\">9</td><td style=\"text-align: center\">0</td><td style=\"text-align: center\">False</td><td style=\"text-align: center\">21716</td><td style=\"text-align: center\">0</td><td style=\"text-align: center\">True</td><td style=\"text-align: center\">False</td><td style=\"text-align: center\">False</td><td style=\"text-align: center\">False</td><td style=\"text-align: center\">False</td><td style=\"text-align: center\">False</td><td style=\"text-align: center\">False</td><td style=\"text-align: center\">False</td><td style=\"text-align: center\">4</td><td style=\"text-align: center\">0</td><td style=\"text-align: center\">0</td><td style=\"text-align: center\">0</td></tr><tr><th style=\"text-align: center\">499999</th><td style=\"text-align: center\">b'X'</td><td style=\"text-align: center\">1499999</td><td style=\"text-align: center\">b'.'</td><td style=\"text-align: center\">b'C'</td><td style=\"text-align: center\">b'A'</td><td style=\"text-align: center\">b'C'</td><td style=\"text-align: center\">b'T'</td><td style=\"text-align: center\">nan</td><td style=\"text-align: center\">False</td><td style=\"text-align: center\">0</td><td style=\"text-align: center\">0</td><td style=\"text-align: center\">True</td><td style=\"text-align: center\">12</td><td style=\"text-align: center\">False</td><td style=\"text-align: center\">False</td><td style=\"text-align: center\">4</td><td style=\"text-align: center\">False</td><td style=\"text-align: center\">11</td><td style=\"text-align: center\">0</td><td style=\"text-align: center\">False</td><td style=\"text-align: center\">21698</td><td style=\"text-align: center\">0</td><td style=\"text-align: center\">True</td><td style=\"text-align: center\">False</td><td style=\"text-align: center\">False</td><td style=\"text-align: center\">False</td><td style=\"text-align: center\">False</td><td style=\"text-align: center\">False</td><td style=\"text-align: center\">False</td><td style=\"text-align: center\">False</td><td style=\"text-align: center\">4</td><td style=\"text-align: center\">0</td><td style=\"text-align: center\">0</td><td style=\"text-align: center\">0</td></tr><tr><th style=\"text-align: center\">500000</th><td style=\"text-align: center\">b'X'</td><td style=\"text-align: center\">1500000</td><td style=\"text-align: center\">b'.'</td><td style=\"text-align: center\">b'G'</td><td style=\"text-align: center\">b'A'</td><td style=\"text-align: center\">b'C'</td><td style=\"text-align: center\">b'T'</td><td style=\"text-align: center\">nan</td><td style=\"text-align: center\">False</td><td style=\"text-align: center\">0</td><td style=\"text-align: center\">0</td><td style=\"text-align: center\">True</td><td style=\"text-align: center\">12</td><td style=\"text-align: center\">False</td><td style=\"text-align: center\">False</td><td style=\"text-align: center\">4</td><td style=\"text-align: center\">False</td><td style=\"text-align: center\">12</td><td style=\"text-align: center\">0</td><td style=\"text-align: center\">False</td><td style=\"text-align: center\">21756</td><td style=\"text-align: center\">0</td><td style=\"text-align: center\">True</td><td style=\"text-align: center\">False</td><td style=\"text-align: center\">False</td><td style=\"text-align: center\">False</td><td style=\"text-align: center\">False</td><td style=\"text-align: center\">False</td><td style=\"text-align: center\">False</td><td style=\"text-align: center\">False</td><td style=\"text-align: center\">4</td><td style=\"text-align: center\">0</td><td style=\"text-align: center\">0</td><td style=\"text-align: center\">0</td></tr></table></div>"
      ],
      "text/plain": [
       "<VariantTable shape=(500001,) dtype=(numpy.record, [('CHROM', 'S12'), ('POS', '<i4'), ('ID', 'S12'), ('REF', 'S30'), ('ALT_1', 'S30'), ('ALT_2', 'S30'), ('ALT_3', 'S30'), ('QUAL', '<f4'), ('RefMasked', '?'), ('LowMQ', '<i4'), ('HighMQ0', '<i4'), ('Accessible', '?'), ('CoverageMQ0', '<i4'), ('RepeatDUST', '?'), ('RepeatMasker', '?'), ('LowPairing', '<i4'), ('RepeatTRF', '?'), ('LowCoverage', '<i4'), ('NoCoverage', '<i4'), ('RefN', '?'), ('Coverage', '<i4'), ('HighCoverage', '<i4'), ('FILTER_PASS', '?'), ('FILTER_LowMQ', '?'), ('FILTER_HighMQ0', '?'), ('FILTER_NoCoverage', '?'), ('FILTER_RefN', '?'), ('FILTER_RepeatDUST', '?'), ('FILTER_LowCoverage', '?'), ('FILTER_HighCoverage', '?'), ('numalt', '<i4'), ('svlen_1', '<i4'), ('svlen_2', '<i4'), ('svlen_3', '<i4')])>\n",
       "[ (b'X', 1000000, b'.', b'T', b'A', b'C', b'T', nan, False, 0, 0, True, 2, False, False, 2, False, 1, 0, False, 25835, 3, True, False, False, False, False, False, False, False, 4, 0, 0, 0)\n",
       " (b'X', 1000001, b'.', b'C', b'A', b'C', b'T', nan, False, 0, 0, True, 2, False, False, 2, False, 1, 0, False, 25854, 2, True, False, False, False, False, False, False, False, 4, 0, 0, 0)\n",
       " (b'X', 1000002, b'.', b'A', b'A', b'C', b'T', nan, False, 0, 0, True, 2, False, False, 2, False, 1, 0, False, 25708, 2, True, False, False, False, False, False, False, False, 4, 0, 0, 0)\n",
       " ...,\n",
       " (b'X', 1499998, b'.', b'G', b'A', b'C', b'T', nan, False, 0, 0, True, 12, False, False, 4, False, 9, 0, False, 21716, 0, True, False, False, False, False, False, False, False, 4, 0, 0, 0)\n",
       " (b'X', 1499999, b'.', b'C', b'A', b'C', b'T', nan, False, 0, 0, True, 12, False, False, 4, False, 11, 0, False, 21698, 0, True, False, False, False, False, False, False, False, 4, 0, 0, 0)\n",
       " (b'X', 1500000, b'.', b'G', b'A', b'C', b'T', nan, False, 0, 0, True, 12, False, False, 4, False, 12, 0, False, 21756, 0, True, False, False, False, False, False, False, False, 4, 0, 0, 0)]"
      ]
     },
     "execution_count": 4,
     "metadata": {},
     "output_type": "execute_result"
    }
   ],
   "source": [
    "import allel\n",
    "allel.VariantTable(ra)"
   ]
  },
  {
   "cell_type": "code",
   "execution_count": 2,
   "metadata": {
    "collapsed": false
   },
   "outputs": [
    {
     "name": "stderr",
     "output_type": "stream",
     "text": [
      "[read_vcf] 10000 rows in 2.54s; chunk in 2.54s (3934 rows/s); 2L\u0000:98451\n",
      "[read_vcf] 20000 rows in 5.02s; chunk in 2.48s (4031 rows/s); 2L\u0000:196622\n",
      "[read_vcf] 30000 rows in 7.44s; chunk in 2.41s (4144 rows/s); 2L\u0000:301246\n",
      "[read_vcf] 39894 rows in 10.02s; chunk in 2.58s (3835 rows/s); :0\n",
      "[read_vcf] all done (3983 rows/s)\n"
     ]
    },
    {
     "data": {
      "text/plain": [
       "{'variants/ANN': array([ b'T|intergenic_region|MODIFIER|AGAP004677|AGAP004677|intergenic_region|AGAP004677|||||||||',\n",
       "        b'A|intergenic_region|MODIFIER|AGAP004677|AGAP004677|intergenic_region|AGAP004677|||||||||',\n",
       "        b'A|intergenic_region|MODIFIER|AGAP004677|AGAP004677|intergenic_region|AGAP004677|||||||||',\n",
       "        ...,\n",
       "        b'A|intergenic_region|MODIFIER|AGAP004681-AGAP004682|AGAP004681-AGAP004682|intergenic_region|AGAP004681-AGAP004682|||||||||',\n",
       "        b'A|intergenic_region|MODIFIER|AGAP004681-AGAP004682|AGAP004681-AGAP004682|intergenic_region|AGAP004681-AGAP004682|||||||||',\n",
       "        b'G|intergenic_region|MODIFIER|AGAP004681-AGAP004682|AGAP004681-AGAP004682|intergenic_region|AGAP004681-AGAP004682|||||||||'], \n",
       "       dtype='|S200')}"
      ]
     },
     "execution_count": 2,
     "metadata": {},
     "output_type": "execute_result"
    }
   ],
   "source": [
    "read_vcf('../../profdata/ag1000g.phase1.ar3.2L.partial.vcf.gz', fields='ANN', types={'ANN': 'S200'}, chunk_length=10000, log=sys.stderr)"
   ]
  },
  {
   "cell_type": "code",
   "execution_count": 3,
   "metadata": {
    "collapsed": false
   },
   "outputs": [
    {
     "name": "stderr",
     "output_type": "stream",
     "text": [
      "[read_vcf] 10000 rows in 2.55s; chunk in 2.55s (3915 rows/s); 2L\u0000:98451\n",
      "[read_vcf] 20000 rows in 5.05s; chunk in 2.50s (4002 rows/s); 2L\u0000:196622\n",
      "[read_vcf] 30000 rows in 7.48s; chunk in 2.43s (4112 rows/s); 2L\u0000:301246\n",
      "[read_vcf] 39894 rows in 10.07s; chunk in 2.59s (3821 rows/s); :0\n",
      "[read_vcf] all done (3960 rows/s)\n"
     ]
    },
    {
     "data": {
      "text/plain": [
       "{'variants/ANN_AA': array([[-1, -1],\n",
       "        [-1, -1],\n",
       "        [-1, -1],\n",
       "        ..., \n",
       "        [-1, -1],\n",
       "        [-1, -1],\n",
       "        [-1, -1]], dtype=int32),\n",
       " 'variants/ANN_Allele': array([b'T', b'A', b'A', ..., b'A', b'A', b'G'], \n",
       "       dtype='|S1'),\n",
       " 'variants/ANN_Annotation': array([b'intergenic_region', b'intergenic_region', b'intergenic_region',\n",
       "        ..., b'intergenic_region', b'intergenic_region',\n",
       "        b'intergenic_region'], \n",
       "       dtype='|S34'),\n",
       " 'variants/ANN_Annotation_Impact': array([b'MODIFIER', b'MODIFIER', b'MODIFIER', ..., b'MODIFIER',\n",
       "        b'MODIFIER', b'MODIFIER'], \n",
       "       dtype='|S8'),\n",
       " 'variants/ANN_CDS': array([[-1, -1],\n",
       "        [-1, -1],\n",
       "        [-1, -1],\n",
       "        ..., \n",
       "        [-1, -1],\n",
       "        [-1, -1],\n",
       "        [-1, -1]], dtype=int32),\n",
       " 'variants/ANN_Distance': array([-1, -1, -1, ..., -1, -1, -1], dtype=int32),\n",
       " 'variants/ANN_Feature_ID': array([b'AGAP004677', b'AGAP004677', b'AGAP004677', ..., b'AGAP004681-AGA',\n",
       "        b'AGAP004681-AGA', b'AGAP004681-AGA'], \n",
       "       dtype='|S14'),\n",
       " 'variants/ANN_Feature_Type': array([b'intergenic_region', b'intergenic_region', b'intergenic_region',\n",
       "        ..., b'intergenic_region', b'intergenic_region',\n",
       "        b'intergenic_region'], \n",
       "       dtype='|S20'),\n",
       " 'variants/ANN_Gene_ID': array([b'AGAP004677', b'AGAP004677', b'AGAP004677', ..., b'AGAP004681-AGA',\n",
       "        b'AGAP004681-AGA', b'AGAP004681-AGA'], \n",
       "       dtype='|S14'),\n",
       " 'variants/ANN_Gene_Name': array([b'AGAP004677', b'AGAP004677', b'AGAP004677', ..., b'AGAP004681-AGA',\n",
       "        b'AGAP004681-AGA', b'AGAP004681-AGA'], \n",
       "       dtype='|S14'),\n",
       " 'variants/ANN_HGVS_c': array([b'', b'', b'', ..., b'', b'', b''], \n",
       "       dtype='|S16'),\n",
       " 'variants/ANN_HGVS_p': array([b'', b'', b'', ..., b'', b'', b''], \n",
       "       dtype='|S16'),\n",
       " 'variants/ANN_Rank': array([[-1, -1],\n",
       "        [-1, -1],\n",
       "        [-1, -1],\n",
       "        ..., \n",
       "        [-1, -1],\n",
       "        [-1, -1],\n",
       "        [-1, -1]], dtype=int8),\n",
       " 'variants/ANN_Transcript_BioType': array([b'', b'', b'', ..., b'', b'', b''], \n",
       "       dtype='|S20'),\n",
       " 'variants/ANN_cDNA': array([[-1, -1],\n",
       "        [-1, -1],\n",
       "        [-1, -1],\n",
       "        ..., \n",
       "        [-1, -1],\n",
       "        [-1, -1],\n",
       "        [-1, -1]], dtype=int32)}"
      ]
     },
     "execution_count": 3,
     "metadata": {},
     "output_type": "execute_result"
    }
   ],
   "source": [
    "read_vcf('../../profdata/ag1000g.phase1.ar3.2L.partial.vcf.gz', fields='ANN', transformers=[ANNTransformer()], chunk_length=10000, log=sys.stderr)"
   ]
  },
  {
   "cell_type": "code",
   "execution_count": null,
   "metadata": {
    "collapsed": true
   },
   "outputs": [],
   "source": []
  },
  {
   "cell_type": "code",
   "execution_count": null,
   "metadata": {
    "collapsed": true
   },
   "outputs": [],
   "source": []
  },
  {
   "cell_type": "code",
   "execution_count": null,
   "metadata": {
    "collapsed": true
   },
   "outputs": [],
   "source": []
  },
  {
   "cell_type": "code",
   "execution_count": 41,
   "metadata": {
    "collapsed": false
   },
   "outputs": [
    {
     "name": "stdout",
     "output_type": "stream",
     "text": [
      "CPU times: user 24.8 s, sys: 248 ms, total: 25.1 s\n",
      "Wall time: 14.5 s\n"
     ]
    }
   ],
   "source": [
    "%time vcf_to_zarr('../../profdata/ag1000g.phase1.ar3.2L.partial.vcf.gz', '../../profdata/ag1000g.phase1.ar3.2L.partial.zarr', fields='*', buffer_size=2**15, chunk_length=10000, block_length=1000, n_threads=4, overwrite=True)"
   ]
  },
  {
   "cell_type": "code",
   "execution_count": null,
   "metadata": {
    "collapsed": true
   },
   "outputs": [],
   "source": []
  },
  {
   "cell_type": "code",
   "execution_count": 17,
   "metadata": {
    "collapsed": false
   },
   "outputs": [
    {
     "name": "stdout",
     "output_type": "stream",
     "text": [
      "CPU times: user 10.5 s, sys: 32 ms, total: 10.5 s\n",
      "Wall time: 10.5 s\n"
     ]
    }
   ],
   "source": [
    "%time vcf_to_zarr('../../profdata/ag1000g.phase1.ar3.2L.partial.vcf.gz', '../../profdata/ag1000g.phase1.ar3.2L.partial.zarr', fields=['CHROM', 'POS'], buffer_size=2**15, chunk_length=50000, overwrite=True)"
   ]
  },
  {
   "cell_type": "code",
   "execution_count": 2,
   "metadata": {
    "collapsed": false
   },
   "outputs": [
    {
     "name": "stdout",
     "output_type": "stream",
     "text": [
      "CPU times: user 19.6 s, sys: 1.09 s, total: 20.7 s\n",
      "Wall time: 18.8 s\n"
     ]
    }
   ],
   "source": [
    "%time vcf_to_zarr('../../profdata/ag1000g.phase1.ar3.2L.partial.vcf.gz', '../../profdata/ag1000g.phase1.ar3.2L.partial.zarr', fields='calldata/*', buffer_size=2**15, chunk_length=50000, overwrite=True)"
   ]
  },
  {
   "cell_type": "code",
   "execution_count": 3,
   "metadata": {
    "collapsed": false
   },
   "outputs": [
    {
     "name": "stdout",
     "output_type": "stream",
     "text": [
      "CPU times: user 12.5 s, sys: 60 ms, total: 12.6 s\n",
      "Wall time: 12.5 s\n"
     ]
    }
   ],
   "source": [
    "%time vcf_to_zarr('../../profdata/ag1000g.phase1.ar3.2L.partial.vcf.gz', '../../profdata/ag1000g.phase1.ar3.2L.partial.zarr', fields='calldata/GT', buffer_size=2**15, chunk_length=50000, overwrite=True)"
   ]
  },
  {
   "cell_type": "code",
   "execution_count": 4,
   "metadata": {
    "collapsed": false
   },
   "outputs": [
    {
     "name": "stdout",
     "output_type": "stream",
     "text": [
      "CPU times: user 20.5 s, sys: 1 s, total: 21.5 s\n",
      "Wall time: 19.6 s\n"
     ]
    }
   ],
   "source": [
    "%time vcf_to_zarr('../../profdata/ag1000g.phase1.ar3.2L.partial.vcf.gz', '../../profdata/ag1000g.phase1.ar3.2L.partial.zarr', fields='*', buffer_size=2**15, chunk_length=50000, overwrite=True)"
   ]
  },
  {
   "cell_type": "code",
   "execution_count": 15,
   "metadata": {
    "collapsed": false
   },
   "outputs": [
    {
     "data": {
      "text/plain": [
       "Group(/, 2)\n",
       "  groups: 2; calldata, variants\n",
       "  store: DirectoryStore"
      ]
     },
     "execution_count": 15,
     "metadata": {},
     "output_type": "execute_result"
    }
   ],
   "source": [
    "import zarr\n",
    "callset = zarr.open_group('../../profdata/ag1000g.phase1.ar3.2L.partial.zarr')\n",
    "callset"
   ]
  },
  {
   "cell_type": "code",
   "execution_count": 18,
   "metadata": {
    "collapsed": false
   },
   "outputs": [
    {
     "data": {
      "text/plain": [
       "array([        nan,         nan,  0.667     , ...,         nan,\n",
       "        0.64999998,  0.755     ], dtype=float32)"
      ]
     },
     "execution_count": 18,
     "metadata": {},
     "output_type": "execute_result"
    }
   ],
   "source": [
    "callset['variants']['ABHet'][:]"
   ]
  },
  {
   "cell_type": "code",
   "execution_count": 19,
   "metadata": {
    "collapsed": false
   },
   "outputs": [
    {
     "data": {
      "text/plain": [
       "Group(/calldata, 7)\n",
       "  arrays: 7; AB, AD, DP, GQ, GT, MQ0, PL\n",
       "  store: DirectoryStore"
      ]
     },
     "execution_count": 19,
     "metadata": {},
     "output_type": "execute_result"
    }
   ],
   "source": [
    "callset['calldata']"
   ]
  },
  {
   "cell_type": "code",
   "execution_count": 20,
   "metadata": {
    "collapsed": false
   },
   "outputs": [
    {
     "data": {
      "text/plain": [
       "Array(/calldata/GT, (39894, 765, 2), int8, chunks=(50000, 64, 2), order=C)\n",
       "  nbytes: 58.2M; nbytes_stored: 7.2M; ratio: 8.1; initialized: 12/12\n",
       "  compressor: Blosc(cname='lz4', clevel=5, shuffle=1)\n",
       "  store: DirectoryStore"
      ]
     },
     "execution_count": 20,
     "metadata": {},
     "output_type": "execute_result"
    }
   ],
   "source": [
    "callset['calldata/GT']"
   ]
  },
  {
   "cell_type": "code",
   "execution_count": 21,
   "metadata": {
    "collapsed": false
   },
   "outputs": [
    {
     "data": {
      "text/plain": [
       "array([[[-1, -1],\n",
       "        [-1, -1],\n",
       "        [-1, -1],\n",
       "        ..., \n",
       "        [ 0,  0],\n",
       "        [-1, -1],\n",
       "        [-1, -1]],\n",
       "\n",
       "       [[-1, -1],\n",
       "        [-1, -1],\n",
       "        [-1, -1],\n",
       "        ..., \n",
       "        [-1, -1],\n",
       "        [-1, -1],\n",
       "        [-1, -1]],\n",
       "\n",
       "       [[-1, -1],\n",
       "        [-1, -1],\n",
       "        [-1, -1],\n",
       "        ..., \n",
       "        [-1, -1],\n",
       "        [-1, -1],\n",
       "        [-1, -1]],\n",
       "\n",
       "       ..., \n",
       "       [[ 0,  0],\n",
       "        [ 0,  0],\n",
       "        [ 0,  0],\n",
       "        ..., \n",
       "        [ 0,  0],\n",
       "        [ 0,  0],\n",
       "        [ 0,  0]],\n",
       "\n",
       "       [[ 0,  0],\n",
       "        [ 0,  0],\n",
       "        [ 0,  0],\n",
       "        ..., \n",
       "        [ 0,  0],\n",
       "        [ 0,  0],\n",
       "        [ 0,  0]],\n",
       "\n",
       "       [[ 0,  0],\n",
       "        [ 0,  0],\n",
       "        [ 0,  0],\n",
       "        ..., \n",
       "        [ 0,  0],\n",
       "        [ 0,  0],\n",
       "        [ 0,  0]]], dtype=int8)"
      ]
     },
     "execution_count": 21,
     "metadata": {},
     "output_type": "execute_result"
    }
   ],
   "source": [
    "callset['calldata/GT'][:]"
   ]
  },
  {
   "cell_type": "code",
   "execution_count": null,
   "metadata": {
    "collapsed": true
   },
   "outputs": [],
   "source": []
  },
  {
   "cell_type": "code",
   "execution_count": 15,
   "metadata": {
    "collapsed": false
   },
   "outputs": [
    {
     "data": {
      "text/plain": [
       "16.666666666666668"
      ]
     },
     "execution_count": 15,
     "metadata": {},
     "output_type": "execute_result"
    }
   ],
   "source": [
    "(20000000/20000)/60"
   ]
  },
  {
   "cell_type": "code",
   "execution_count": 16,
   "metadata": {
    "collapsed": false
   },
   "outputs": [
    {
     "name": "stdout",
     "output_type": "stream",
     "text": [
      "         71850 function calls (70986 primitive calls) in 0.191 seconds\n",
      "\n",
      "   Ordered by: internal time\n",
      "\n",
      "   ncalls  tottime  percall  cumtime  percall filename:lineno(function)\n",
      "        1    0.040    0.040    0.191    0.191 io_vcf_read.py:360(vcf_to_zarr)\n",
      "       76    0.033    0.000    0.056    0.001 {built-in method builtins.next}\n",
      "      377    0.023    0.000    0.023    0.000 {method 'decompress' of 'zlib.Decompress' objects}\n",
      "      473    0.010    0.000    0.010    0.000 {built-in method zlib.crc32}\n",
      "8157/7773    0.010    0.000    0.052    0.000 {method 'read' of '_io.BufferedReader' objects}\n",
      "     7744    0.009    0.000    0.066    0.000 gzip.py:269(read)\n",
      "       12    0.007    0.001    0.031    0.003 io_vcf_read.py:829(_binary_readline)\n",
      "     7744    0.004    0.000    0.006    0.000 _compression.py:12(_check_not_closed)\n",
      "      649    0.004    0.000    0.004    0.000 {built-in method posix.stat}\n",
      "      219    0.002    0.000    0.002    0.000 {built-in method posix.unlink}\n",
      "      378    0.002    0.000    0.040    0.000 gzip.py:436(read)\n",
      "     7744    0.002    0.000    0.002    0.000 gzip.py:296(closed)\n",
      "       40    0.002    0.000    0.002    0.000 {zarr.blosc.compress}\n",
      "      105    0.002    0.000    0.002    0.000 {built-in method io.open}\n",
      "      378    0.002    0.000    0.042    0.000 _compression.py:66(readinto)\n",
      "      949    0.002    0.000    0.002    0.000 gzip.py:80(read)\n",
      "        1    0.001    0.001    0.033    0.033 io_vcf_read.py:790(_read_vcf)\n",
      "       84    0.001    0.000    0.001    0.000 {built-in method posix.open}\n",
      "       75    0.001    0.000    0.016    0.000 storage.py:614(__setitem__)\n",
      "       75    0.001    0.000    0.001    0.000 {method '__exit__' of '_io._IOBase' objects}\n",
      "      489    0.001    0.000    0.002    0.000 posixpath.py:71(join)\n",
      "1930/1450    0.001    0.000    0.002    0.000 encoder.py:332(_iterencode_dict)\n",
      "       41    0.001    0.000    0.013    0.000 core.py:700(_chunk_setitem_nosync)\n",
      "     8461    0.001    0.000    0.001    0.000 {method 'append' of 'list' objects}\n",
      "      145    0.001    0.000    0.001    0.000 util.py:251(normalize_storage_path)\n",
      "       50    0.001    0.000    0.003    0.000 storage.py:606(__getitem__)\n",
      "       75    0.001    0.000    0.001    0.000 {built-in method posix.rename}\n",
      "       76    0.001    0.000    0.001    0.000 posixpath.py:319(normpath)\n",
      "     3047    0.001    0.000    0.001    0.000 {built-in method builtins.isinstance}\n",
      "        9    0.001    0.000    0.005    0.001 shutil.py:396(_rmtree_safe_fd)\n",
      "       72    0.001    0.000    0.001    0.000 {built-in method numpy.core.multiarray.array}\n",
      "      600    0.001    0.000    0.001    0.000 random.py:229(_randbelow)\n",
      "       17    0.001    0.000    0.015    0.001 core.py:496(__setitem__)\n",
      "      376    0.001    0.000    0.011    0.000 gzip.py:487(_add_read_data)\n",
      "      600    0.000    0.000    0.001    0.000 random.py:259(choice)\n",
      "      471    0.000    0.000    0.001    0.000 gzip.py:93(prepend)\n",
      "       75    0.000    0.000    0.001    0.000 functools.py:43(update_wrapper)\n",
      "       75    0.000    0.000    0.005    0.000 tempfile.py:249(_mkstemp_inner)\n",
      "       75    0.000    0.000    0.002    0.000 tempfile.py:473(__getattr__)\n",
      "       34    0.000    0.000    0.001    0.000 encoder.py:203(iterencode)\n",
      "      794    0.000    0.000    0.000    0.000 {method 'startswith' of 'str' objects}\n",
      "      675    0.000    0.000    0.000    0.000 {built-in method builtins.getattr}\n",
      "     3847    0.000    0.000    0.000    0.000 {built-in method builtins.len}\n",
      "       75    0.000    0.000    0.007    0.000 tempfile.py:522(NamedTemporaryFile)\n",
      "       95    0.000    0.000    0.001    0.000 gzip.py:491(_read_eof)\n",
      "       97    0.000    0.000    0.001    0.000 gzip.py:403(_read_gzip_header)\n",
      "     1450    0.000    0.000    0.002    0.000 encoder.py:411(_iterencode)\n",
      "       29    0.000    0.000    0.000    0.000 decoder.py:345(raw_decode)\n",
      "      649    0.000    0.000    0.001    0.000 posixpath.py:39(_get_sep)\n",
      "       34    0.000    0.000    0.003    0.000 encoder.py:181(encode)\n",
      "       75    0.000    0.000    0.000    0.000 {method 'write' of '_io.BufferedWriter' objects}\n",
      "      380    0.000    0.000    0.001    0.000 gzip.py:387(_read_exact)\n",
      "       16    0.000    0.000    0.022    0.001 core.py:1001(_append_nosync)\n",
      "      185    0.000    0.000    0.002    0.000 genericpath.py:27(isfile)\n",
      "       84    0.000    0.000    0.000    0.000 posixpath.py:99(split)\n",
      "      221    0.000    0.000    0.000    0.000 {method 'split' of 'str' objects}\n",
      "       16    0.000    0.000    0.000    0.000 {built-in method posix.remove}\n",
      "       96    0.000    0.000    0.000    0.000 {built-in method zlib.decompressobj}\n",
      "        9    0.000    0.000    0.011    0.001 storage.py:261(_init_array_metadata)\n",
      "       25    0.000    0.000    0.001    0.000 meta.py:16(decode_array_metadata)\n",
      "       50    0.000    0.000    0.000    0.000 {built-in method builtins.sorted}\n",
      "        9    0.000    0.000    0.000    0.000 {built-in method posix.listdir}\n",
      "       75    0.000    0.000    0.002    0.000 tempfile.py:160(<listcomp>)\n",
      "      243    0.000    0.000    0.000    0.000 {method 'join' of 'str' objects}\n",
      "       25    0.000    0.000    0.000    0.000 ufunclike.py:54(isposinf)\n",
      "      218    0.000    0.000    0.000    0.000 encoder.py:276(_iterencode_list)\n",
      "       75    0.000    0.000    0.002    0.000 tempfile.py:157(__next__)\n",
      "       16    0.000    0.000    0.007    0.000 core.py:925(_resize_nosync)\n",
      "       25    0.000    0.000    0.001    0.000 meta.py:126(encode_fill_value)\n",
      "       16    0.000    0.000    0.007    0.000 core.py:154(_flush_metadata_nosync)\n",
      "       12    0.000    0.000    0.000    0.000 {method 'join' of 'bytes' objects}\n",
      "        1    0.000    0.000    0.191    0.191 {built-in method builtins.exec}\n",
      "      160    0.000    0.000    0.001    0.000 genericpath.py:16(exists)\n",
      "     1090    0.000    0.000    0.000    0.000 {method 'getrandbits' of '_random.Random' objects}\n",
      "      285    0.000    0.000    0.000    0.000 {built-in method _struct.unpack}\n",
      "       60    0.000    0.000    0.001    0.000 storage.py:657(__contains__)\n",
      "       34    0.000    0.000    0.003    0.000 __init__.py:182(dumps)\n",
      "       25    0.000    0.000    0.004    0.000 meta.py:42(encode_array_metadata)\n",
      "        9    0.000    0.000    0.000    0.000 {built-in method posix.mkdir}\n",
      "       21    0.000    0.000    0.000    0.000 {method 'fill' of 'numpy.ndarray' objects}\n",
      "       85    0.000    0.000    0.001    0.000 genericpath.py:39(isdir)\n",
      "       25    0.000    0.000    0.003    0.000 core.py:79(__init__)\n",
      "        4    0.000    0.000    0.002    0.001 hierarchy.py:77(__init__)\n",
      "        1    0.000    0.000    0.031    0.031 io_vcf_read.py:859(read_vcf_headers)\n",
      "       25    0.000    0.000    0.002    0.000 core.py:116(_load_metadata_nosync)\n",
      "      136    0.000    0.000    0.000    0.000 core.py:595(<genexpr>)\n",
      "      378    0.000    0.000    0.000    0.000 {method 'cast' of 'memoryview' objects}\n",
      "       29    0.000    0.000    0.001    0.000 decoder.py:334(decode)\n",
      "      136    0.000    0.000    0.000    0.000 core.py:611(<genexpr>)\n",
      "       38    0.000    0.000    0.000    0.000 core.py:312(<genexpr>)\n",
      "       71    0.000    0.000    0.000    0.000 {built-in method numpy.core.multiarray.empty}\n",
      "      150    0.000    0.000    0.000    0.000 tempfile.py:439(close)\n",
      "       75    0.000    0.000    0.001    0.000 tempfile.py:500(__exit__)\n",
      "       41    0.000    0.000    0.000    0.000 util.py:109(is_total_slice)\n",
      "      490    0.000    0.000    0.000    0.000 {method 'endswith' of 'str' objects}\n",
      "       38    0.000    0.000    0.000    0.000 core.py:938(<genexpr>)\n",
      "       25    0.000    0.000    0.000    0.000 ufunclike.py:116(isneginf)\n",
      "       75    0.000    0.000    0.000    0.000 tempfile.py:467(__init__)\n",
      "       78    0.000    0.000    0.000    0.000 numeric.py:2064(isscalar)\n",
      "        9    0.000    0.000    0.000    0.000 {built-in method posix.rmdir}\n",
      "       76    0.000    0.000    0.001    0.000 posixpath.py:356(abspath)\n",
      "       75    0.000    0.000    0.000    0.000 tempfile.py:97(_infer_return_type)\n",
      "       60    0.000    0.000    0.000    0.000 {method 'match' of '_sre.SRE_Pattern' objects}\n",
      "       39    0.000    0.000    0.001    0.000 storage.py:45(contains_array)\n",
      "       41    0.000    0.000    0.013    0.000 core.py:677(_chunk_setitem)\n",
      "        9    0.000    0.000    0.000    0.000 {built-in method posix.close}\n",
      "      119    0.000    0.000    0.000    0.000 util.py:278(<listcomp>)\n",
      "       17    0.000    0.000    0.000    0.000 util.py:201(<listcomp>)\n",
      "        2    0.000    0.000    0.025    0.012 io_vcf_read.py:351(_zarr_store_chunk)\n",
      "      108    0.000    0.000    0.000    0.000 util.py:124(<genexpr>)\n",
      "      375    0.000    0.000    0.000    0.000 {built-in method builtins.setattr}\n",
      "       75    0.000    0.000    0.000    0.000 tempfile.py:146(rng)\n",
      "       17    0.000    0.000    0.003    0.000 hierarchy.py:266(__getitem__)\n",
      "        2    0.000    0.000    0.001    0.001 hierarchy.py:501(_require_group_nosync)\n",
      "       29    0.000    0.000    0.001    0.000 __init__.py:271(loads)\n",
      "        4    0.000    0.000    0.000    0.000 meta.py:83(decode_group_metadata)\n",
      "       97    0.000    0.000    0.000    0.000 gzip.py:383(_init_read)\n",
      "       75    0.000    0.000    0.000    0.000 functools.py:73(wraps)\n",
      "       17    0.000    0.000    0.000    0.000 util.py:169(normalize_array_selection)\n",
      "       40    0.000    0.000    0.002    0.000 codecs.py:351(encode)\n",
      "       41    0.000    0.000    0.002    0.000 core.py:796(_encode_chunk)\n",
      "       16    0.000    0.000    0.000    0.000 util.py:208(normalize_resize_args)\n",
      "      394    0.000    0.000    0.000    0.000 {built-in method _json.encode_basestring_ascii}\n",
      "      600    0.000    0.000    0.000    0.000 {method 'bit_length' of 'int' objects}\n",
      "        1    0.000    0.000    0.012    0.012 io_vcf_read.py:322(_zarr_setup_datasets)\n",
      "        9    0.000    0.000    0.005    0.001 shutil.py:445(rmtree)\n",
      "      120    0.000    0.000    0.000    0.000 {method 'replace' of 'str' objects}\n",
      "       41    0.000    0.000    0.000    0.000 core.py:769(_chunk_key)\n",
      "       76    0.000    0.000    0.000    0.000 posixpath.py:61(isabs)\n",
      "       75    0.000    0.000    0.000    0.000 tempfile.py:118(_sanitize_params)\n",
      "       24    0.000    0.000    0.000    0.000 codecs.py:357(get_config)\n",
      "       25    0.000    0.000    0.000    0.000 meta.py:78(decode_dtype)\n",
      "       25    0.000    0.000    0.000    0.000 meta.py:58(encode_dtype)\n",
      "       25    0.000    0.000    0.000    0.000 encoder.py:258(_make_iterencode)\n",
      "        1    0.000    0.000    0.000    0.000 {method 'astype' of 'numpy.ndarray' objects}\n",
      "       28    0.000    0.000    0.000    0.000 hierarchy.py:234(_item_path)\n",
      "       75    0.000    0.000    0.000    0.000 tempfile.py:494(__enter__)\n",
      "        9    0.000    0.000    0.013    0.001 hierarchy.py:573(_create_dataset_nosync)\n",
      "        1    0.000    0.000    0.191    0.191 <string>:1(<module>)\n",
      "        9    0.000    0.000    0.001    0.000 storage.py:128(_require_parent_group)\n",
      "      190    0.000    0.000    0.000    0.000 {built-in method builtins.max}\n",
      "       24    0.000    0.000    0.000    0.000 codecs.py:92(from_config)\n",
      "       21    0.000    0.000    0.001    0.000 storage.py:53(contains_group)\n",
      "       24    0.000    0.000    0.000    0.000 codecs.py:20(get_codec)\n",
      "       40    0.000    0.000    0.000    0.000 threading.py:1224(current_thread)\n",
      "        9    0.000    0.000    0.013    0.001 creation.py:17(create)\n",
      "       75    0.000    0.000    0.000    0.000 tempfile.py:505(close)\n",
      "       84    0.000    0.000    0.000    0.000 {method 'rfind' of 'str' objects}\n",
      "      192    0.000    0.000    0.000    0.000 {built-in method builtins.min}\n",
      "       41    0.000    0.000    0.000    0.000 core.py:591(<listcomp>)\n",
      "       23    0.000    0.000    0.000    0.000 util.py:133(normalize_axis_selection)\n",
      "       50    0.000    0.000    0.000    0.000 numeric.py:414(asarray)\n",
      "       84    0.000    0.000    0.000    0.000 {method 'rstrip' of 'str' objects}\n",
      "       58    0.000    0.000    0.000    0.000 {method 'encode' of 'str' objects}\n",
      "       75    0.000    0.000    0.000    0.000 {method '__enter__' of '_io._IOBase' objects}\n",
      "      121    0.000    0.000    0.000    0.000 {built-in method builtins.hasattr}\n",
      "       75    0.000    0.000    0.000    0.000 tempfile.py:481(func_wrapper)\n",
      "       75    0.000    0.000    0.000    0.000 tempfile.py:449(__del__)\n",
      "      296    0.000    0.000    0.000    0.000 encoder.py:352(<lambda>)\n",
      "       75    0.000    0.000    0.000    0.000 tempfile.py:424(__init__)\n",
      "       25    0.000    0.000    0.000    0.000 encoder.py:104(__init__)\n",
      "       24    0.000    0.000    0.000    0.000 codecs.py:344(__init__)\n",
      "       16    0.000    0.000    0.022    0.001 core.py:865(_synchronized_op)\n",
      "       11    0.000    0.000    0.015    0.001 hierarchy.py:417(_write_op)\n",
      "       61    0.000    0.000    0.000    0.000 {built-in method builtins.all}\n",
      "        1    0.000    0.000    0.000    0.000 gzip.py:123(__init__)\n",
      "      245    0.000    0.000    0.000    0.000 {built-in method _stat.S_ISDIR}\n",
      "        9    0.000    0.000    0.005    0.001 storage.py:694(rmdir)\n",
      "       16    0.000    0.000    0.000    0.000 core.py:310(_cdata_shape)\n",
      "        9    0.000    0.000    0.000    0.000 util.py:12(normalize_shape)\n",
      "       29    0.000    0.000    0.000    0.000 attrs.py:13(__init__)\n",
      "       16    0.000    0.000    0.000    0.000 core.py:942(<listcomp>)\n",
      "        1    0.000    0.000    0.002    0.002 hierarchy.py:817(open_group)\n",
      "      132    0.000    0.000    0.000    0.000 {built-in method _stat.S_ISREG}\n",
      "        9    0.000    0.000    0.012    0.001 storage.py:141(init_array)\n",
      "       78    0.000    0.000    0.000    0.000 storage.py:36(_path_to_prefix)\n",
      "      119    0.000    0.000    0.000    0.000 {built-in method builtins.any}\n",
      "       16    0.000    0.000    0.022    0.001 core.py:880(_write_op)\n",
      "       16    0.000    0.000    0.022    0.001 core.py:953(append)\n",
      "        1    0.000    0.000    0.000    0.000 _compression.py:39(__init__)\n",
      "        9    0.000    0.000    0.000    0.000 util.py:78(normalize_chunks)\n",
      "       19    0.000    0.000    0.000    0.000 numeric.py:535(ascontiguousarray)\n",
      "        1    0.000    0.000    0.000    0.000 storage.py:597(__init__)\n",
      "       55    0.000    0.000    0.000    0.000 {method 'get' of 'dict' objects}\n",
      "       75    0.000    0.000    0.000    0.000 {method 'update' of 'dict' objects}\n",
      "        1    0.000    0.000    0.000    0.000 util.py:34(guess_chunks)\n",
      "       75    0.000    0.000    0.000    0.000 {method 'close' of '_io.BufferedWriter' objects}\n",
      "        1    0.000    0.000    0.000    0.000 gzip.py:376(__init__)\n",
      "       17    0.000    0.000    0.000    0.000 util.py:198(get_chunk_range)\n",
      "       38    0.000    0.000    0.000    0.000 util.py:223(<genexpr>)\n",
      "        1    0.000    0.000    0.000    0.000 {built-in method posix.getcwd}\n",
      "        9    0.000    0.000    0.013    0.001 hierarchy.py:518(create_dataset)\n",
      "       38    0.000    0.000    0.000    0.000 core.py:1030(<genexpr>)\n",
      "       40    0.000    0.000    0.000    0.000 core.py:574(<genexpr>)\n",
      "        9    0.000    0.000    0.000    0.000 {built-in method posix.lstat}\n",
      "       25    0.000    0.000    0.000    0.000 meta.py:112(decode_fill_value)\n",
      "       38    0.000    0.000    0.000    0.000 core.py:1020(<genexpr>)\n",
      "       25    0.000    0.000    0.002    0.000 core.py:107(_load_metadata)\n",
      "       75    0.000    0.000    0.000    0.000 tempfile.py:235(_get_candidate_names)\n",
      "        1    0.000    0.000    0.033    0.033 io_vcf_read.py:420(read_vcf_chunks)\n",
      "       40    0.000    0.000    0.000    0.000 threading.py:1298(main_thread)\n",
      "        9    0.000    0.000    0.005    0.001 storage.py:69(rmdir)\n",
      "        2    0.000    0.000    0.000    0.000 {method 'reduce' of 'numpy.ufunc' objects}\n",
      "        1    0.000    0.000    0.000    0.000 hierarchy.py:751(_handle_store_arg)\n",
      "       25    0.000    0.000    0.000    0.000 meta.py:65(_decode_dtype_descr)\n",
      "        1    0.000    0.000    0.000    0.000 io_vcf_read.py:644(normalize_types)\n",
      "        1    0.000    0.000    0.000    0.000 gzip.py:20(open)\n",
      "        9    0.000    0.000    0.000    0.000 os.py:216(makedirs)\n",
      "       22    0.000    0.000    0.000    0.000 core.py:1008(<genexpr>)\n",
      "        9    0.000    0.000    0.000    0.000 util.py:244(normalize_order)\n",
      "       40    0.000    0.000    0.000    0.000 util.py:185(<genexpr>)\n",
      "        2    0.000    0.000    0.001    0.001 hierarchy.py:473(require_group)\n",
      "       75    0.000    0.000    0.000    0.000 {built-in method posix.getpid}\n",
      "        1    0.000    0.000    0.000    0.000 io_vcf_read.py:542(add_all_fixed_variants_fields)\n",
      "       99    0.000    0.000    0.000    0.000 {built-in method builtins.id}\n",
      "        9    0.000    0.000    0.000    0.000 creation.py:104(_handle_kwargs)\n",
      "        9    0.000    0.000    0.000    0.000 {built-in method posix.fstat}\n",
      "       67    0.000    0.000    0.000    0.000 core.py:943(<genexpr>)\n",
      "        9    0.000    0.000    0.000    0.000 storage.py:661(__eq__)\n",
      "       58    0.000    0.000    0.000    0.000 {method 'end' of '_sre.SRE_Match' objects}\n",
      "        7    0.000    0.000    0.000    0.000 io_vcf_read.py:609(normalize_type)\n",
      "        1    0.000    0.000    0.001    0.001 creation.py:267(array)\n",
      "        2    0.000    0.000    0.000    0.000 fromnumeric.py:1851(product)\n",
      "       40    0.000    0.000    0.000    0.000 {built-in method _thread.get_ident}\n",
      "       19    0.000    0.000    0.000    0.000 util.py:102(<genexpr>)\n",
      "       51    0.000    0.000    0.000    0.000 {method 'items' of 'dict' objects}\n",
      "        2    0.000    0.000    0.000    0.000 {method 'groups' of '_sre.SRE_Match' objects}\n",
      "       24    0.000    0.000    0.000    0.000 {method 'pop' of 'dict' objects}\n",
      "       21    0.000    0.000    0.000    0.000 util.py:23(<genexpr>)\n",
      "        1    0.000    0.000    0.000    0.000 gzip.py:74(__init__)\n",
      "       22    0.000    0.000    0.000    0.000 core.py:1010(<genexpr>)\n",
      "        1    0.000    0.000    0.000    0.000 <string>:12(__new__)\n",
      "        9    0.000    0.000    0.000    0.000 creation.py:95(_handle_store_arg)\n",
      "       16    0.000    0.000    0.000    0.000 core.py:150(_refresh_metadata_nosync)\n",
      "        9    0.000    0.000    0.000    0.000 genericpath.py:81(samestat)\n",
      "        1    0.000    0.000    0.000    0.000 io_vcf_read.py:736(normalize_numbers)\n",
      "        2    0.000    0.000    0.000    0.000 util.py:75(<genexpr>)\n",
      "        9    0.000    0.000    0.000    0.000 {method 'upper' of 'str' objects}\n",
      "        1    0.000    0.000    0.000    0.000 creation.py:247(_get_shape_chunks)\n",
      "        8    0.000    0.000    0.000    0.000 {method 'add' of 'set' objects}\n",
      "        1    0.000    0.000    0.000    0.000 io_vcf_read.py:83(_prep_fields_arg)\n",
      "        1    0.000    0.000    0.000    0.000 {built-in method __new__ of type object at 0x7f6f46712d20}\n",
      "        1    0.000    0.000    0.000    0.000 {method 'keys' of 'dict' objects}\n",
      "        1    0.000    0.000    0.000    0.000 _compression.py:150(tell)\n",
      "        1    0.000    0.000    0.000    0.000 _compression.py:36(readable)\n",
      "        9    0.000    0.000    0.000    0.000 {method 'setdefault' of 'dict' objects}\n",
      "        1    0.000    0.000    0.000    0.000 io_vcf_read.py:742(<dictcomp>)\n",
      "        1    0.000    0.000    0.000    0.000 {method 'disable' of '_lsprof.Profiler' objects}\n",
      "        1    0.000    0.000    0.000    0.000 io_vcf_read.py:650(<dictcomp>)\n",
      "\n",
      "\n"
     ]
    }
   ],
   "source": [
    "cProfile.run(\"vcf_to_zarr(prof_vcf_fn, 'prof.zarr', buffer_size=2**15, chunk_length=1000, overwrite=True)\", sort='time')"
   ]
  },
  {
   "cell_type": "code",
   "execution_count": 103,
   "metadata": {
    "collapsed": false
   },
   "outputs": [
    {
     "name": "stdout",
     "output_type": "stream",
     "text": [
      " "
     ]
    }
   ],
   "source": [
    "%prun vcf_to_hdf5(prof_vcf_fn, 'prof.h5', buffer_size=2**15, chunk_length=1000, overwrite=True)"
   ]
  },
  {
   "cell_type": "code",
   "execution_count": 11,
   "metadata": {
    "collapsed": false,
    "scrolled": false
   },
   "outputs": [
    {
     "name": "stdout",
     "output_type": "stream",
     "text": [
      "Timer unit: 1e-06 s\n",
      "\n",
      "Total time: 23.9421 s\n",
      "File: /home/aliman/src/github/cggh/scikit-allel/allel/opt/io_vcf_read.pyx\n",
      "Function: iter_vcf at line 71\n",
      "\n",
      "Line #      Hits         Time  Per Hit   % Time  Line Contents\n",
      "==============================================================\n",
      "    71                                           def iter_vcf(binary_file, int buffer_size, int chunk_length, int temp_max_size, headers, fields,\n",
      "    72                                                        types, numbers):\n",
      "    73                                               cdef:\n",
      "    74                                                   ParserContext context\n",
      "    75                                                   Parser chrom_parser\n",
      "    76                                                   Parser pos_parser\n",
      "    77                                                   Parser id_parser\n",
      "    78                                                   Parser ref_parser\n",
      "    79                                                   Parser alt_parser\n",
      "    80                                                   Parser qual_parser\n",
      "    81                                                   Parser filter_parser\n",
      "    82                                                   Parser info_parser\n",
      "    83                                                   Parser format_parser\n",
      "    84                                                   Parser calldata_parser\n",
      "    85                                           \n",
      "    86                                               # setup output\n",
      "    87                                               # TODO yield chunks\n",
      "    88         1            2      2.0      0.0      chunks = []\n",
      "    89                                           \n",
      "    90                                               # setup reader\n",
      "    91         1          253    253.0      0.0      reader = BufferedReader(binary_file, buffer_size=buffer_size)\n",
      "    92                                           \n",
      "    93                                               # setup context\n",
      "    94         1            4      4.0      0.0      n_samples = len(headers.samples)\n",
      "    95         1            4      4.0      0.0      context = ParserContext(reader, temp_max_size=temp_max_size, n_samples=n_samples)\n",
      "    96                                           \n",
      "    97                                               # read in first character\n",
      "    98         1            2      2.0      0.0      ParserContext_next(context)\n",
      "    99                                           \n",
      "   100                                               # copy so we don't modify someone else's data\n",
      "   101         1            2      2.0      0.0      fields = set(fields)\n",
      "   102                                           \n",
      "   103                                               # setup CHROM parser\n",
      "   104         1            1      1.0      0.0      if CHROM_FIELD in fields:\n",
      "   105         2           29     14.5      0.0          chrom_parser = StringParser(field=CHROM_FIELD, chunk_length=chunk_length,\n",
      "   106         1            1      1.0      0.0                                      dtype=types[CHROM_FIELD])\n",
      "   107         1            2      2.0      0.0          fields.remove(CHROM_FIELD)\n",
      "   108                                               else:\n",
      "   109                                                   chrom_parser = SkipChromParser()\n",
      "   110                                           \n",
      "   111                                               # setup POS parser\n",
      "   112         1            1      1.0      0.0      if POS_FIELD in fields:\n",
      "   113                                                   # TODO user-provided type\n",
      "   114         1           10     10.0      0.0          pos_parser = PosInt32Parser(chunk_length=chunk_length)\n",
      "   115         1            2      2.0      0.0          fields.remove(POS_FIELD)\n",
      "   116                                               else:\n",
      "   117                                                   pos_parser = SkipPosParser()\n",
      "   118                                           \n",
      "   119                                               # setup ID parser\n",
      "   120         1            1      1.0      0.0      if ID_FIELD in fields:\n",
      "   121         2           11      5.5      0.0          id_parser = StringParser(field=ID_FIELD, chunk_length=chunk_length,\n",
      "   122         1            1      1.0      0.0                                   dtype=types[ID_FIELD])\n",
      "   123         1            1      1.0      0.0          fields.remove(ID_FIELD)\n",
      "   124                                               else:\n",
      "   125                                                   id_parser = SkipParser()\n",
      "   126                                           \n",
      "   127                                               # setup REF parser\n",
      "   128         1            1      1.0      0.0      if REF_FIELD in fields:\n",
      "   129         2           10      5.0      0.0          ref_parser = StringParser(field=REF_FIELD, chunk_length=chunk_length,\n",
      "   130         1            1      1.0      0.0                                    dtype=types[REF_FIELD])\n",
      "   131         1            1      1.0      0.0          fields.remove(REF_FIELD)\n",
      "   132                                               else:\n",
      "   133                                                   ref_parser = SkipParser()\n",
      "   134                                           \n",
      "   135                                               # setup ALT parser\n",
      "   136         1            1      1.0      0.0      if ALT_FIELD in fields:\n",
      "   137         1            0      0.0      0.0          t = types[ALT_FIELD]\n",
      "   138         1            1      1.0      0.0          n = numbers[ALT_FIELD]\n",
      "   139         1           15     15.0      0.0          alt_parser = AltParser(chunk_length=chunk_length, dtype=t, number=n)\n",
      "   140         1            1      1.0      0.0          fields.remove(ALT_FIELD)\n",
      "   141                                               else:\n",
      "   142                                                   alt_parser = SkipParser()\n",
      "   143                                           \n",
      "   144                                               # setup QUAL parser\n",
      "   145         1            1      1.0      0.0      if QUAL_FIELD in fields:\n",
      "   146                                                   # TODO user-provided type\n",
      "   147         1           12     12.0      0.0          qual_parser = QualFloat32Parser(chunk_length=chunk_length, fill=-1)\n",
      "   148         1            1      1.0      0.0          fields.remove(QUAL_FIELD)\n",
      "   149                                               else:\n",
      "   150                                                   qual_parser = SkipParser()\n",
      "   151                                           \n",
      "   152                                               # setup FILTER parser\n",
      "   153         1            1      1.0      0.0      filters = list()\n",
      "   154         3            3      1.0      0.0      for field in list(fields):\n",
      "   155         2            3      1.5      0.0          if field.startswith('variants/FILTER_'):\n",
      "   156         1            2      2.0      0.0              filter = field[16:].encode('ascii')\n",
      "   157         1            1      1.0      0.0              filters.append(filter)\n",
      "   158         1            1      1.0      0.0              fields.remove(field)\n",
      "   159         1            1      1.0      0.0      if filters:\n",
      "   160         1           12     12.0      0.0          filter_parser = FilterParser(chunk_length=chunk_length, filters=filters)\n",
      "   161                                               else:\n",
      "   162                                                   filter_parser = SkipParser()\n",
      "   163                                           \n",
      "   164                                               # setup INFO parsers\n",
      "   165         1            1      1.0      0.0      infos = list()\n",
      "   166         1            0      0.0      0.0      info_types = dict()\n",
      "   167         1            1      1.0      0.0      info_numbers = dict()\n",
      "   168                                               # assume any variants fields left are INFO\n",
      "   169         2            2      1.0      0.0      for field in list(fields):\n",
      "   170         1            2      2.0      0.0          group, name = field.split('/')\n",
      "   171         1            1      1.0      0.0          if group == 'variants':\n",
      "   172                                                       key = name.encode('ascii')\n",
      "   173                                                       infos.append(key)\n",
      "   174                                                       fields.remove(field)\n",
      "   175                                                       info_types[key] = types[field]\n",
      "   176                                                       info_numbers[key] = numbers[field]\n",
      "   177         1            1      1.0      0.0      if infos:\n",
      "   178                                                   info_parser = InfoParser(chunk_length=chunk_length, infos=infos, types=info_types,\n",
      "   179                                                                            numbers=info_numbers)\n",
      "   180                                               else:\n",
      "   181         1            1      1.0      0.0          info_parser = SkipParser()\n",
      "   182                                           \n",
      "   183                                               # setup FORMAT and calldata parsers\n",
      "   184         1            0      0.0      0.0      formats = list()\n",
      "   185         1            1      1.0      0.0      format_types = dict()\n",
      "   186         1            1      1.0      0.0      format_numbers = dict()\n",
      "   187         2            1      0.5      0.0      for field in list(fields):\n",
      "   188         1            4      4.0      0.0          group, name = field.split('/')\n",
      "   189         1            1      1.0      0.0          if group == 'calldata':\n",
      "   190         1            2      2.0      0.0              key = name.encode('ascii')\n",
      "   191         1            1      1.0      0.0              formats.append(key)\n",
      "   192         1            1      1.0      0.0              fields.remove(field)\n",
      "   193         1            1      1.0      0.0              format_types[key] = types[field]\n",
      "   194         1            1      1.0      0.0              format_numbers[key] = numbers[field]\n",
      "   195         1            1      1.0      0.0      if formats:\n",
      "   196         1            2      2.0      0.0          format_parser = FormatParser()\n",
      "   197         2         1498    749.0      0.0          calldata_parser = CalldataParser(chunk_length=chunk_length,\n",
      "   198         1            1      1.0      0.0                                           formats=formats, types=format_types,\n",
      "   199         1            0      0.0      0.0                                           numbers=format_numbers,\n",
      "   200         1            1      1.0      0.0                                           n_samples=context.n_samples,\n",
      "   201                                                                                    ploidy=2)\n",
      "   202                                               else:\n",
      "   203                                                   format_parser = SkipParser()\n",
      "   204                                                   calldata_parser = SkipParser()\n",
      "   205                                           \n",
      "   206         1            1      1.0      0.0      if fields:\n",
      "   207                                                   # shouldn't ever be any left over\n",
      "   208                                                   raise RuntimeError('unexpected fields left over: %r' % set(fields))\n",
      "   209                                           \n",
      "   210         1            1      1.0      0.0      while True:\n",
      "   211                                           \n",
      "   212     19671         9382      0.5      0.0          if context.c == 0:\n",
      "   213         1            0      0.0      0.0              break\n",
      "   214                                           \n",
      "   215     19670         9411      0.5      0.0          elif context.state == ParserState.CHROM:\n",
      "   216      1967         7764      3.9      0.0              chrom_parser.parse(context)\n",
      "   217      1967         1031      0.5      0.0              context.state = ParserState.POS\n",
      "   218                                           \n",
      "   219     17703         8456      0.5      0.0          elif context.state == ParserState.POS:\n",
      "   220      1967        17697      9.0      0.1              pos_parser.parse(context)\n",
      "   221      1967         1091      0.6      0.0              context.state = ParserState.ID\n",
      "   222                                           \n",
      "   223     15736         7584      0.5      0.0          elif context.state == ParserState.ID:\n",
      "   224      1967         4719      2.4      0.0              id_parser.parse(context)\n",
      "   225      1967         1077      0.5      0.0              context.state = ParserState.REF\n",
      "   226                                           \n",
      "   227     13769         6644      0.5      0.0          elif context.state == ParserState.REF:\n",
      "   228      1967         4863      2.5      0.0              ref_parser.parse(context)\n",
      "   229      1967         1097      0.6      0.0              context.state = ParserState.ALT\n",
      "   230                                           \n",
      "   231     11802         5623      0.5      0.0          elif context.state == ParserState.ALT:\n",
      "   232      1967         6807      3.5      0.0              alt_parser.parse(context)\n",
      "   233      1967         1030      0.5      0.0              context.state = ParserState.QUAL\n",
      "   234                                           \n",
      "   235      9835         4785      0.5      0.0          elif context.state == ParserState.QUAL:\n",
      "   236      1967         8932      4.5      0.0              qual_parser.parse(context)\n",
      "   237      1967         1079      0.5      0.0              context.state = ParserState.FILTER\n",
      "   238                                           \n",
      "   239      7868         3943      0.5      0.0          elif context.state == ParserState.FILTER:\n",
      "   240      1967         6563      3.3      0.0              filter_parser.parse(context)\n",
      "   241      1967         1081      0.5      0.0              context.state = ParserState.INFO\n",
      "   242                                           \n",
      "   243      5901         3024      0.5      0.0          elif context.state == ParserState.INFO:\n",
      "   244                                                       # debug(context.variant_index, 'parse INFO')\n",
      "   245      1967         4709      2.4      0.0              info_parser.parse(context)\n",
      "   246      1967         1108      0.6      0.0              context.state = ParserState.FORMAT\n",
      "   247                                           \n",
      "   248      3934         2063      0.5      0.0          elif context.state == ParserState.FORMAT:\n",
      "   249      1967        10955      5.6      0.0              format_parser.parse(context)\n",
      "   250      1967         1179      0.6      0.0              context.state = ParserState.CALLDATA\n",
      "   251                                           \n",
      "   252      1967          953      0.5      0.0          elif context.state == ParserState.CALLDATA:\n",
      "   253      1967     23788570  12093.8     99.4              calldata_parser.parse(context)\n",
      "   254      1967         1093      0.6      0.0              context.state = ParserState.CHROM\n",
      "   255                                           \n",
      "   256                                                       # setup next variant\n",
      "   257                                                       # debug('setup next variant')\n",
      "   258      1967          973      0.5      0.0              context.variant_index += 1\n",
      "   259      1967          922      0.5      0.0              if context.chunk_variant_index < chunk_length - 1:\n",
      "   260      1966          986      0.5      0.0                  context.chunk_variant_index += 1\n",
      "   261                                           \n",
      "   262                                                       else:\n",
      "   263                                           \n",
      "   264                                                           # build chunk for output\n",
      "   265         1            2      2.0      0.0                  chunk = dict()\n",
      "   266         1           47     47.0      0.0                  chrom_parser.mkchunk(chunk)\n",
      "   267         1           11     11.0      0.0                  pos_parser.mkchunk(chunk)\n",
      "   268         1           12     12.0      0.0                  id_parser.mkchunk(chunk)\n",
      "   269         1            9      9.0      0.0                  ref_parser.mkchunk(chunk)\n",
      "   270         1           16     16.0      0.0                  alt_parser.mkchunk(chunk)\n",
      "   271         1           10     10.0      0.0                  qual_parser.mkchunk(chunk)\n",
      "   272         1           16     16.0      0.0                  filter_parser.mkchunk(chunk)\n",
      "   273         1            1      1.0      0.0                  info_parser.mkchunk(chunk)\n",
      "   274         1         1460   1460.0      0.0                  calldata_parser.mkchunk(chunk)\n",
      "   275                                                           # TODO yield\n",
      "   276         1            2      2.0      0.0                  chunks.append(chunk)\n",
      "   277                                           \n",
      "   278                                                           # setup next chunk\n",
      "   279         1            1      1.0      0.0                  context.chunk_variant_index = 0\n",
      "   280                                           \n",
      "   281                                                   else:\n",
      "   282                                                       # shouldn't ever happen\n",
      "   283                                                       raise RuntimeError('unexpected parser state')\n",
      "   284                                           \n",
      "   285                                               # left-over chunk\n",
      "   286         1            1      1.0      0.0      limit = context.chunk_variant_index\n",
      "   287         1            0      0.0      0.0      if limit > 0:\n",
      "   288         1            1      1.0      0.0          chunk = dict()\n",
      "   289         1           27     27.0      0.0          chrom_parser.mkchunk(chunk, limit=limit)\n",
      "   290         1           10     10.0      0.0          pos_parser.mkchunk(chunk, limit=limit)\n",
      "   291         1            9      9.0      0.0          id_parser.mkchunk(chunk, limit=limit)\n",
      "   292         1            7      7.0      0.0          ref_parser.mkchunk(chunk, limit=limit)\n",
      "   293         1           15     15.0      0.0          alt_parser.mkchunk(chunk, limit=limit)\n",
      "   294         1           18     18.0      0.0          qual_parser.mkchunk(chunk, limit=limit)\n",
      "   295         1           14     14.0      0.0          filter_parser.mkchunk(chunk, limit=limit)\n",
      "   296         1            1      1.0      0.0          info_parser.mkchunk(chunk, limit=limit)\n",
      "   297         1         1256   1256.0      0.0          calldata_parser.mkchunk(chunk, limit=limit)\n",
      "   298                                                   # TODO yield\n",
      "   299         1            1      1.0      0.0          chunks.append(chunk)\n",
      "   300                                           \n",
      "   301                                               # TODO yield\n",
      "   302         1           17     17.0      0.0      return chunks\n",
      "\n",
      "Total time: 13.673 s\n",
      "File: /home/aliman/src/github/cggh/scikit-allel/allel/opt/io_vcf_read.pyx\n",
      "Function: GenotypeInt8Parser_parse at line 1452\n",
      "\n",
      "Line #      Hits         Time  Per Hit   % Time  Line Contents\n",
      "==============================================================\n",
      "  1452                                           cpdef inline void GenotypeInt8Parser_parse(GenotypeInt8Parser self, ParserContext context):\n",
      "  1453                                               cdef:\n",
      "  1454   1520491       418450      0.3      3.1          int allele_index = 0\n",
      "  1455                                               # debug('GenotypeInt8Parser_parse')\n",
      "  1456                                           \n",
      "  1457                                               # reset temporary buffer\n",
      "  1458   1520491       563282      0.4      4.1      temp_clear(context)\n",
      "  1459                                           \n",
      "  1460   1520491       317756      0.2      2.3      while True:\n",
      "  1461                                           \n",
      "  1462   6081964      1218841      0.2      8.9          if context.c == PERIOD:\n",
      "  1463                                                       pass\n",
      "  1464                                           \n",
      "  1465   6081964      1249002      0.2      9.1          elif context.c == SLASH or context.c == PIPE:\n",
      "  1466                                           \n",
      "  1467   1520491      1531151      1.0     11.2              GenotypeInt8Parser_store(self, context, allele_index)\n",
      "  1468   1520491       309492      0.2      2.3              allele_index += 1\n",
      "  1469   1520491       572537      0.4      4.2              temp_clear(context)\n",
      "  1470                                           \n",
      "  1471   4561473       970231      0.2      7.1          elif context.c == COLON or context.c == TAB or context.c == NEWLINE:\n",
      "  1472                                           \n",
      "  1473   1520491      1500280      1.0     11.0              GenotypeInt8Parser_store(self, context, allele_index)\n",
      "  1474   1520491       309290      0.2      2.3              break\n",
      "  1475                                           \n",
      "  1476                                                   else:\n",
      "  1477                                           \n",
      "  1478   3040982      1399506      0.5     10.2              temp_append(context)\n",
      "  1479                                           \n",
      "  1480   4561473      3313201      0.7     24.2          ParserContext_next(context)\n",
      "  1481                                           \n",
      "  1482                                               # debug(context.variant_index, context.sample_index, 'GT',\n",
      "  1483                                               #       self.values[context.chunk_variant_index, context.sample_index])\n",
      "  1484                                           \n",
      "  1485                                           \n",
      "  1486                                           cdef inline void GenotypeInt8Parser_store(GenotypeInt8Parser self, ParserContext context,\n",
      "  1487                                                                                     int allele_index):\n",
      "  1488                                               cdef:\n",
      "  1489                                                   long allele\n",
      "  1490                                                   char* str_end\n",
      "  1491                                           \n",
      "  1492                                               if allele_index >= self.ploidy:\n",
      "  1493                                                   # more alleles than we've made room for, ignore\n",
      "  1494                                                   return\n",
      "  1495                                           \n",
      "  1496                                               if context.temp_size == 0:\n",
      "  1497                                                   # empty allele - note strictly kosher\n",
      "  1498                                                   return\n",
      "  1499                                           \n",
      "  1500                                               # attempt to parse allele\n",
      "  1501                                               allele = temp_strtol(context, -1)\n",
      "  1502                                           \n",
      "  1503                                               # store value\n",
      "  1504                                               self.memory[context.chunk_variant_index, context.sample_index, allele_index] = allele\n",
      "  1505                                           \n",
      "  1506                                           \n",
      "  1507                                           cdef class SkipInfoParser(Parser):\n",
      "  1508                                           \n",
      "  1509                                               def __cinit__(self):\n",
      "  1510                                                   pass\n",
      "  1511                                           \n",
      "  1512                                               cdef parse(self, ParserContext context):\n",
      "  1513                                                   # debug(context.variant_index, 'SkipInfoParser.parse', bytes([context.c]))\n",
      "  1514                                                   SkipInfoParser_parse(self, context)\n",
      "\n"
     ]
    }
   ],
   "source": [
    "import line_profiler\n",
    "l = line_profiler.LineProfiler()\n",
    "# l.add_function(_read_vcf)\n",
    "l.add_function(iter_vcf)\n",
    "# l.add_function(CalldataParser_parse)\n",
    "l.add_function(GenotypeInt8Parser_parse)\n",
    "# l.add_function(ParserContext_next)\n",
    "# l.add_function(BufferedReader_read)\n",
    "l.runcall(read_vcf, prof_vcf_fn, buffer_size=2**15, chunk_length=1000)\n",
    "l.print_stats()"
   ]
  },
  {
   "cell_type": "code",
   "execution_count": 26,
   "metadata": {
    "collapsed": true
   },
   "outputs": [],
   "source": [
    "import vcfnp"
   ]
  },
  {
   "cell_type": "code",
   "execution_count": 28,
   "metadata": {
    "collapsed": false
   },
   "outputs": [
    {
     "name": "stderr",
     "output_type": "stream",
     "text": [
      "[vcfnp] 2017-05-24 14:49:30.651145 :: caching is disabled\n",
      "[vcfnp] 2017-05-24 14:49:30.651788 :: building array\n"
     ]
    },
    {
     "name": "stdout",
     "output_type": "stream",
     "text": [
      "CPU times: user 4.31 s, sys: 0 ns, total: 4.31 s\n",
      "Wall time: 4.3 s\n"
     ]
    },
    {
     "data": {
      "text/plain": [
       "array([ (([0, 0],), ([0, 0],), ([0, 0],), ([0, 0],), ([0, 0],), ([0, 0],), ([0, 0],), ([0, 0],), ([0, 0],), ([0, 0],), ([0, 0],), ([0, 0],), ([0, 0],), ([0, 0],), ([0, 0],), ([0, 0],), ([0, 0],), ([0, 0],), ([0, 0],), ([0, 0],), ([0, 0],), ([0, 0],), ([0, 0],), ([0, 0],), ([0, 0],), ([0, 0],), ([0, 0],), ([0, 0],), ([0, 0],), ([0, 0],), ([0, 0],), ([0, 0],), ([0, 0],), ([0, 0],), ([0, 0],), ([0, 0],), ([0, 0],), ([0, 0],), ([0, 0],), ([0, 0],), ([0, 0],), ([0, 0],), ([0, 0],), ([0, 0],), ([0, 0],), ([0, 0],), ([0, 0],), ([0, 0],), ([0, 0],), ([0, 0],), ([0, 0],), ([0, 0],), ([0, 0],), ([0, 0],), ([0, 0],), ([0, 0],), ([0, 0],), ([0, 0],), ([0, 0],), ([0, 0],), ([0, 0],), ([0, 0],), ([0, 0],), ([0, 0],), ([0, 0],), ([0, 0],), ([0, 0],), ([0, 0],), ([0, 0],), ([0, 0],), ([0, 0],), ([0, 0],), ([0, 0],), ([0, 0],), ([0, 0],), ([0, 0],), ([0, 0],), ([0, 0],), ([0, 0],), ([0, 0],), ([0, 0],), ([0, 0],), ([0, 0],), ([0, 0],), ([0, 0],), ([0, 0],), ([0, 0],), ([0, 0],), ([0, 0],), ([0, 0],), ([0, 0],), ([0, 0],), ([0, 0],), ([0, 0],), ([0, 0],), ([0, 0],), ([0, 0],), ([0, 0],), ([0, 0],), ([0, 0],), ([0, 0],), ([0, 0],), ([0, 0],), ([0, 0],), ([0, 0],), ([0, 0],), ([0, 0],), ([0, 0],), ([0, 0],), ([0, 0],), ([0, 0],), ([0, 0],), ([0, 0],), ([0, 0],), ([0, 0],), ([0, 0],), ([0, 0],), ([0, 0],), ([0, 0],), ([0, 0],), ([0, 0],), ([0, 0],), ([0, 0],), ([0, 0],), ([0, 0],), ([0, 0],), ([0, 0],), ([0, 0],), ([0, 0],), ([0, 0],), ([0, 0],), ([0, 0],), ([0, 0],), ([0, 0],), ([0, 0],), ([0, 0],), ([0, 0],), ([0, 0],), ([0, 0],), ([0, 0],), ([0, 0],), ([0, 0],), ([0, 0],), ([0, 0],), ([0, 0],), ([0, 0],), ([0, 0],), ([0, 0],), ([0, 0],), ([0, 0],), ([0, 0],), ([0, 0],), ([0, 0],), ([0, 0],), ([0, 0],), ([0, 0],), ([0, 1],), ([1, 0],), ([0, 0],), ([0, 0],), ([0, 0],), ([0, 0],), ([1, 0],), ([0, 0],), ([0, 0],), ([0, 0],), ([1, 0],), ([0, 0],), ([0, 0],), ([0, 0],), ([0, 0],), ([0, 0],), ([0, 0],), ([0, 0],), ([0, 0],), ([0, 0],), ([0, 1],), ([1, 0],), ([1, 0],), ([0, 0],), ([0, 0],), ([0, 0],), ([0, 0],), ([0, 0],), ([0, 0],), ([0, 0],), ([0, 0],), ([0, 0],), ([1, 0],), ([0, 0],), ([0, 1],), ([0, 0],), ([0, 0],), ([0, 0],), ([0, 0],), ([0, 0],), ([0, 0],), ([0, 0],), ([0, 0],), ([0, 0],), ([0, 0],), ([0, 0],), ([0, 0],), ([1, 0],), ([0, 0],), ([0, 0],), ([0, 1],), ([0, 0],), ([0, 1],), ([0, 0],), ([0, 0],), ([0, 0],), ([0, 1],), ([0, 0],), ([0, 0],), ([1, 0],), ([0, 0],), ([1, 0],), ([0, 0],), ([0, 0],), ([0, 0],), ([0, 1],), ([0, 0],), ([0, 0],), ([0, 0],), ([1, 0],), ([0, 0],), ([0, 0],), ([0, 0],), ([0, 0],), ([0, 1],), ([0, 0],), ([0, 0],), ([0, 0],), ([0, 0],), ([0, 0],), ([0, 0],), ([0, 1],), ([0, 0],), ([0, 1],), ([0, 0],), ([0, 0],), ([0, 0],), ([0, 0],), ([0, 0],), ([0, 1],), ([1, 0],), ([0, 0],), ([0, 0],), ([0, 0],), ([0, 0],), ([0, 0],), ([0, 0],), ([0, 0],), ([0, 0],), ([0, 0],), ([0, 0],), ([0, 0],), ([0, 0],), ([0, 0],), ([0, 0],), ([0, 0],), ([0, 0],), ([0, 0],), ([0, 0],), ([0, 0],), ([0, 0],), ([0, 0],), ([0, 0],), ([0, 0],), ([0, 0],), ([0, 0],), ([0, 0],), ([0, 0],), ([0, 0],), ([0, 0],), ([0, 0],), ([0, 0],), ([0, 0],), ([0, 0],), ([0, 0],), ([0, 0],), ([0, 0],), ([0, 0],), ([0, 0],), ([0, 0],), ([0, 0],), ([0, 0],), ([0, 0],), ([0, 0],), ([0, 0],), ([0, 0],), ([0, 0],), ([0, 0],), ([0, 0],), ([0, 0],), ([0, 0],), ([0, 0],), ([0, 0],), ([0, 0],), ([0, 0],), ([0, 0],), ([0, 0],), ([0, 0],), ([0, 0],), ([0, 0],), ([0, 0],), ([0, 0],), ([0, 0],), ([0, 0],), ([0, 0],), ([0, 0],), ([0, 0],), ([0, 0],), ([0, 0],), ([0, 0],), ([0, 0],), ([0, 0],), ([0, 0],), ([0, 0],), ([0, 0],), ([0, 0],), ([0, 0],), ([0, 0],), ([0, 0],), ([0, 0],), ([0, 0],), ([0, 0],), ([0, 0],), ([0, 0],), ([0, 0],), ([0, 0],), ([0, 0],), ([0, 0],), ([0, 0],), ([0, 0],), ([0, 0],), ([0, 0],), ([0, 0],), ([0, 0],), ([0, 0],), ([0, 0],), ([0, 0],), ([0, 0],), ([0, 0],), ([0, 0],), ([0, 0],), ([0, 0],), ([0, 0],), ([0, 0],), ([0, 0],), ([0, 0],), ([0, 0],), ([0, 0],), ([0, 0],), ([0, 0],), ([0, 0],), ([0, 0],), ([0, 0],), ([0, 0],), ([0, 0],), ([0, 0],), ([0, 0],), ([0, 0],), ([0, 0],), ([0, 0],), ([0, 0],), ([0, 0],), ([0, 0],), ([0, 0],), ([0, 0],), ([0, 0],), ([0, 0],), ([0, 0],), ([0, 0],), ([0, 0],), ([0, 0],), ([0, 0],), ([0, 0],), ([0, 0],), ([0, 0],), ([0, 0],), ([0, 0],), ([0, 0],), ([0, 0],), ([0, 0],), ([0, 0],), ([0, 0],), ([0, 0],), ([0, 0],), ([0, 0],), ([0, 0],), ([0, 0],), ([0, 0],), ([0, 0],), ([0, 0],), ([0, 0],), ([0, 0],), ([0, 0],), ([0, 0],), ([0, 0],), ([0, 0],), ([0, 0],), ([0, 0],), ([0, 0],), ([0, 0],), ([0, 0],), ([0, 0],), ([0, 0],), ([0, 0],), ([0, 0],), ([0, 0],), ([0, 0],), ([0, 0],), ([0, 0],), ([0, 0],), ([0, 0],), ([0, 0],), ([0, 0],), ([0, 0],), ([0, 0],), ([0, 0],), ([0, 0],), ([0, 0],), ([0, 0],), ([0, 0],), ([0, 0],), ([0, 0],), ([0, 0],), ([0, 0],), ([0, 0],), ([0, 0],), ([0, 0],), ([0, 0],), ([0, 0],), ([0, 0],), ([0, 0],), ([0, 0],), ([0, 0],), ([0, 0],), ([0, 0],), ([0, 0],), ([0, 0],), ([0, 0],), ([0, 0],), ([0, 0],), ([0, 0],), ([0, 0],), ([0, 0],), ([0, 0],), ([0, 0],), ([0, 0],), ([0, 0],), ([0, 0],), ([0, 0],), ([0, 0],), ([0, 0],), ([0, 0],), ([0, 0],), ([0, 0],), ([0, 0],), ([0, 0],), ([0, 0],), ([0, 0],), ([0, 0],), ([0, 0],), ([0, 0],), ([0, 0],), ([0, 0],), ([0, 0],), ([0, 0],), ([0, 0],), ([0, 0],), ([0, 0],), ([0, 0],), ([0, 0],), ([0, 0],), ([0, 0],), ([0, 0],), ([0, 0],), ([0, 0],), ([0, 0],), ([0, 0],), ([0, 0],), ([0, 0],), ([0, 0],), ([0, 0],), ([0, 0],), ([0, 0],), ([0, 0],), ([0, 0],), ([0, 0],), ([0, 0],), ([0, 0],), ([0, 0],), ([0, 0],), ([0, 0],), ([0, 0],), ([0, 0],), ([0, 0],), ([0, 0],), ([0, 0],), ([0, 0],), ([0, 0],), ([0, 0],), ([0, 0],), ([0, 0],), ([0, 0],), ([0, 0],), ([0, 0],), ([0, 0],), ([0, 0],), ([0, 0],), ([0, 0],), ([0, 0],), ([0, 0],), ([0, 0],), ([0, 0],), ([0, 0],), ([0, 0],), ([0, 0],), ([0, 0],), ([0, 0],), ([0, 0],), ([0, 0],), ([0, 0],), ([0, 0],), ([0, 0],), ([0, 0],), ([0, 0],), ([0, 0],), ([0, 0],), ([0, 0],), ([0, 0],), ([0, 0],), ([0, 0],), ([0, 0],), ([0, 0],), ([0, 0],), ([0, 0],), ([0, 0],), ([0, 0],), ([0, 0],), ([0, 0],), ([0, 0],), ([0, 0],), ([0, 0],), ([0, 0],), ([0, 0],), ([0, 0],), ([0, 0],), ([0, 0],), ([0, 0],), ([0, 0],), ([0, 0],), ([0, 0],), ([0, 0],), ([0, 0],), ([0, 0],), ([0, 0],), ([0, 0],), ([0, 0],), ([0, 0],), ([0, 0],), ([0, 0],), ([0, 0],), ([0, 0],), ([0, 0],), ([0, 0],), ([0, 0],), ([0, 0],), ([0, 0],), ([0, 0],), ([0, 0],), ([0, 0],), ([0, 0],), ([0, 0],), ([0, 0],), ([0, 0],), ([0, 0],), ([0, 0],), ([0, 0],), ([0, 0],), ([0, 0],), ([0, 0],), ([0, 0],), ([0, 0],), ([0, 0],), ([0, 0],), ([0, 0],), ([0, 0],), ([0, 0],), ([0, 0],), ([0, 0],), ([0, 0],), ([0, 0],), ([0, 0],), ([0, 0],), ([0, 0],), ([0, 0],), ([0, 0],), ([0, 0],), ([0, 0],), ([0, 0],), ([0, 0],), ([0, 0],), ([0, 0],), ([0, 0],), ([0, 0],), ([0, 0],), ([0, 0],), ([0, 0],), ([0, 0],), ([0, 0],), ([0, 0],), ([0, 0],), ([0, 0],), ([0, 0],), ([0, 0],), ([0, 0],), ([0, 0],), ([0, 0],), ([0, 0],), ([0, 0],), ([0, 0],), ([0, 0],), ([0, 0],), ([0, 0],), ([0, 0],), ([0, 0],), ([0, 0],), ([0, 0],), ([0, 0],), ([0, 0],), ([0, 0],), ([0, 0],), ([0, 0],), ([0, 0],), ([0, 0],), ([0, 0],), ([0, 0],), ([0, 0],), ([0, 0],), ([0, 0],), ([0, 0],), ([0, 0],), ([0, 0],), ([0, 0],), ([0, 0],), ([0, 0],), ([0, 0],), ([0, 0],), ([0, 0],), ([0, 0],), ([0, 0],), ([0, 0],), ([0, 0],), ([0, 0],), ([0, 0],), ([0, 0],), ([0, 0],), ([0, 0],), ([0, 0],), ([0, 0],), ([0, 0],), ([0, 0],), ([0, 0],), ([0, 0],), ([0, 0],), ([0, 0],), ([0, 0],), ([0, 0],), ([0, 0],), ([0, 0],), ([0, 0],), ([0, 0],), ([0, 0],), ([0, 0],), ([0, 0],), ([0, 0],), ([0, 0],), ([0, 0],), ([0, 0],), ([0, 0],), ([0, 0],), ([0, 0],), ([0, 0],), ([0, 0],), ([0, 0],), ([0, 0],), ([0, 0],), ([0, 0],), ([0, 0],), ([0, 0],), ([0, 0],), ([0, 0],), ([0, 0],), ([0, 0],), ([0, 0],), ([0, 0],), ([0, 0],), ([0, 0],), ([0, 0],), ([0, 0],), ([0, 0],), ([0, 0],), ([0, 0],), ([0, 0],), ([0, 0],), ([0, 0],), ([0, 0],), ([0, 0],), ([0, 0],), ([0, 0],), ([0, 0],), ([0, 0],), ([0, 0],), ([0, 0],), ([0, 0],), ([0, 0],), ([0, 0],), ([0, 0],), ([0, 0],), ([0, 0],), ([0, 0],), ([0, 0],), ([0, 0],), ([0, 0],), ([0, 0],), ([0, 0],), ([0, 0],), ([0, 0],), ([0, 0],), ([0, 0],), ([0, 0],), ([0, 0],), ([0, 0],), ([0, 0],), ([0, 0],), ([0, 0],), ([0, 0],), ([0, 0],), ([0, 0],), ([0, 0],), ([0, 0],), ([0, 0],), ([0, 0],), ([0, 0],), ([0, 0],), ([0, 0],), ([0, 0],), ([0, 0],), ([0, 0],), ([0, 0],), ([0, 0],), ([0, 0],), ([0, 0],), ([0, 0],), ([0, 0],), ([0, 0],), ([0, 0],), ([0, 0],), ([0, 0],), ([0, 0],), ([0, 0],), ([0, 0],), ([0, 0],), ([0, 0],), ([0, 0],), ([0, 0],), ([0, 0],), ([0, 0],), ([0, 0],)),\n",
       "       (([0, 0],), ([0, 0],), ([0, 0],), ([0, 0],), ([0, 0],), ([0, 0],), ([0, 0],), ([0, 0],), ([0, 0],), ([0, 0],), ([0, 0],), ([0, 0],), ([0, 0],), ([0, 0],), ([0, 0],), ([0, 0],), ([0, 0],), ([0, 0],), ([0, 0],), ([0, 0],), ([0, 0],), ([0, 0],), ([0, 0],), ([0, 0],), ([0, 0],), ([0, 0],), ([0, 0],), ([0, 0],), ([0, 0],), ([0, 0],), ([0, 0],), ([0, 0],), ([0, 0],), ([0, 0],), ([0, 0],), ([0, 0],), ([0, 0],), ([0, 0],), ([0, 0],), ([0, 0],), ([0, 0],), ([0, 0],), ([0, 0],), ([0, 0],), ([0, 0],), ([0, 0],), ([0, 0],), ([0, 0],), ([0, 0],), ([0, 0],), ([0, 0],), ([0, 0],), ([0, 0],), ([0, 0],), ([0, 0],), ([0, 0],), ([0, 0],), ([0, 0],), ([0, 0],), ([0, 0],), ([0, 0],), ([0, 0],), ([0, 0],), ([0, 0],), ([0, 0],), ([0, 0],), ([0, 0],), ([0, 0],), ([0, 0],), ([0, 0],), ([0, 0],), ([0, 0],), ([0, 0],), ([0, 0],), ([0, 0],), ([0, 0],), ([0, 0],), ([0, 0],), ([0, 0],), ([0, 0],), ([0, 0],), ([0, 0],), ([0, 0],), ([0, 0],), ([0, 0],), ([0, 0],), ([0, 0],), ([0, 0],), ([0, 0],), ([0, 0],), ([0, 0],), ([0, 0],), ([0, 0],), ([0, 0],), ([0, 0],), ([0, 0],), ([0, 0],), ([0, 0],), ([0, 0],), ([0, 0],), ([0, 0],), ([0, 0],), ([0, 0],), ([0, 0],), ([0, 0],), ([0, 0],), ([0, 0],), ([0, 0],), ([0, 0],), ([0, 0],), ([0, 0],), ([0, 0],), ([0, 0],), ([0, 0],), ([0, 0],), ([0, 0],), ([0, 0],), ([0, 0],), ([0, 0],), ([0, 0],), ([0, 0],), ([0, 0],), ([0, 0],), ([0, 0],), ([0, 0],), ([0, 0],), ([0, 0],), ([0, 0],), ([0, 0],), ([0, 0],), ([0, 0],), ([0, 0],), ([0, 0],), ([0, 0],), ([0, 0],), ([0, 0],), ([0, 0],), ([0, 0],), ([0, 0],), ([0, 0],), ([0, 0],), ([0, 0],), ([0, 0],), ([0, 0],), ([0, 0],), ([0, 0],), ([0, 0],), ([0, 0],), ([0, 0],), ([0, 0],), ([0, 0],), ([0, 0],), ([0, 0],), ([0, 0],), ([0, 0],), ([0, 0],), ([0, 0],), ([0, 0],), ([0, 0],), ([0, 0],), ([0, 0],), ([0, 0],), ([0, 0],), ([0, 0],), ([0, 0],), ([0, 0],), ([0, 0],), ([0, 0],), ([0, 0],), ([0, 0],), ([0, 0],), ([0, 0],), ([0, 0],), ([0, 0],), ([0, 0],), ([0, 0],), ([0, 0],), ([0, 0],), ([0, 0],), ([0, 0],), ([0, 0],), ([0, 0],), ([0, 0],), ([0, 0],), ([0, 0],), ([0, 0],), ([0, 0],), ([0, 0],), ([0, 0],), ([0, 0],), ([0, 0],), ([0, 0],), ([0, 0],), ([0, 0],), ([0, 0],), ([0, 0],), ([0, 0],), ([0, 0],), ([0, 0],), ([0, 0],), ([0, 0],), ([0, 0],), ([0, 0],), ([0, 0],), ([0, 0],), ([0, 0],), ([0, 0],), ([0, 0],), ([0, 0],), ([0, 0],), ([0, 0],), ([0, 0],), ([0, 0],), ([0, 0],), ([0, 0],), ([0, 0],), ([0, 0],), ([0, 0],), ([0, 0],), ([0, 0],), ([0, 0],), ([0, 0],), ([0, 0],), ([0, 0],), ([0, 0],), ([0, 0],), ([0, 0],), ([0, 0],), ([0, 0],), ([0, 0],), ([0, 0],), ([0, 0],), ([0, 0],), ([0, 0],), ([0, 0],), ([0, 0],), ([0, 0],), ([0, 0],), ([0, 0],), ([0, 0],), ([0, 0],), ([0, 0],), ([0, 0],), ([0, 0],), ([0, 0],), ([0, 0],), ([0, 0],), ([0, 0],), ([0, 0],), ([0, 0],), ([0, 0],), ([0, 0],), ([0, 0],), ([0, 1],), ([1, 1],), ([0, 1],), ([1, 1],), ([1, 0],), ([0, 1],), ([0, 0],), ([0, 1],), ([0, 0],), ([1, 1],), ([0, 0],), ([1, 1],), ([0, 1],), ([0, 1],), ([1, 0],), ([1, 1],), ([0, 0],), ([1, 1],), ([0, 0],), ([1, 1],), ([1, 1],), ([0, 1],), ([0, 1],), ([0, 1],), ([1, 1],), ([1, 1],), ([0, 1],), ([0, 0],), ([0, 1],), ([0, 1],), ([0, 1],), ([0, 0],), ([0, 0],), ([0, 0],), ([0, 1],), ([1, 1],), ([0, 0],), ([0, 0],), ([0, 1],), ([0, 1],), ([0, 0],), ([0, 0],), ([0, 0],), ([0, 0],), ([0, 0],), ([0, 0],), ([0, 0],), ([0, 0],), ([0, 0],), ([0, 0],), ([0, 0],), ([0, 0],), ([0, 0],), ([0, 0],), ([0, 0],), ([0, 0],), ([0, 0],), ([0, 0],), ([0, 0],), ([0, 0],), ([0, 0],), ([0, 0],), ([0, 0],), ([0, 0],), ([0, 0],), ([0, 0],), ([0, 0],), ([0, 0],), ([0, 0],), ([0, 0],), ([0, 0],), ([0, 0],), ([0, 0],), ([0, 0],), ([0, 0],), ([0, 0],), ([0, 0],), ([0, 0],), ([0, 0],), ([0, 0],), ([0, 0],), ([0, 0],), ([0, 0],), ([0, 0],), ([0, 0],), ([0, 0],), ([0, 0],), ([0, 0],), ([0, 0],), ([0, 0],), ([0, 0],), ([0, 0],), ([0, 0],), ([0, 0],), ([0, 0],), ([0, 0],), ([0, 0],), ([0, 0],), ([0, 0],), ([0, 0],), ([0, 0],), ([0, 0],), ([0, 0],), ([0, 0],), ([0, 0],), ([0, 0],), ([0, 0],), ([0, 0],), ([0, 0],), ([0, 0],), ([0, 0],), ([0, 0],), ([0, 0],), ([0, 0],), ([0, 0],), ([0, 0],), ([0, 0],), ([0, 0],), ([0, 0],), ([0, 0],), ([0, 0],), ([0, 0],), ([0, 0],), ([0, 0],), ([0, 0],), ([0, 0],), ([0, 0],), ([0, 0],), ([0, 0],), ([0, 0],), ([0, 0],), ([0, 0],), ([0, 0],), ([0, 0],), ([0, 0],), ([0, 0],), ([0, 0],), ([0, 0],), ([0, 0],), ([0, 0],), ([0, 0],), ([0, 0],), ([0, 0],), ([0, 0],), ([0, 0],), ([0, 0],), ([0, 0],), ([0, 0],), ([0, 0],), ([0, 0],), ([0, 0],), ([0, 0],), ([0, 0],), ([0, 0],), ([0, 0],), ([0, 0],), ([0, 0],), ([0, 0],), ([0, 0],), ([0, 0],), ([0, 0],), ([0, 0],), ([0, 0],), ([0, 0],), ([0, 0],), ([0, 0],), ([0, 0],), ([0, 0],), ([0, 0],), ([0, 0],), ([0, 0],), ([0, 0],), ([0, 0],), ([0, 0],), ([0, 0],), ([0, 0],), ([0, 0],), ([0, 0],), ([0, 0],), ([0, 0],), ([0, 0],), ([0, 0],), ([0, 0],), ([0, 0],), ([0, 0],), ([0, 0],), ([0, 0],), ([0, 0],), ([0, 0],), ([0, 0],), ([0, 0],), ([0, 0],), ([0, 0],), ([0, 0],), ([0, 0],), ([0, 0],), ([0, 0],), ([0, 0],), ([0, 0],), ([0, 0],), ([0, 0],), ([0, 0],), ([0, 0],), ([0, 0],), ([0, 0],), ([0, 0],), ([0, 0],), ([0, 0],), ([0, 0],), ([0, 0],), ([0, 0],), ([0, 0],), ([0, 0],), ([0, 0],), ([0, 0],), ([0, 0],), ([0, 0],), ([0, 0],), ([0, 0],), ([0, 0],), ([0, 0],), ([0, 0],), ([0, 0],), ([0, 0],), ([0, 0],), ([0, 0],), ([0, 0],), ([0, 0],), ([0, 0],), ([0, 0],), ([0, 0],), ([0, 0],), ([0, 0],), ([0, 0],), ([0, 0],), ([0, 0],), ([0, 0],), ([0, 0],), ([0, 0],), ([0, 0],), ([0, 0],), ([0, 0],), ([0, 0],), ([0, 0],), ([0, 0],), ([0, 0],), ([0, 0],), ([0, 0],), ([0, 0],), ([0, 0],), ([0, 0],), ([0, 0],), ([0, 0],), ([0, 0],), ([0, 0],), ([0, 0],), ([0, 0],), ([0, 0],), ([0, 0],), ([0, 0],), ([0, 0],), ([0, 0],), ([0, 0],), ([0, 0],), ([0, 0],), ([0, 0],), ([0, 0],), ([0, 0],), ([0, 0],), ([0, 0],), ([0, 0],), ([0, 0],), ([0, 0],), ([0, 0],), ([0, 0],), ([0, 0],), ([0, 0],), ([0, 0],), ([0, 0],), ([0, 0],), ([0, 0],), ([0, 0],), ([0, 0],), ([0, 0],), ([0, 0],), ([0, 0],), ([0, 0],), ([0, 0],), ([0, 0],), ([0, 0],), ([0, 0],), ([0, 0],), ([0, 0],), ([0, 0],), ([0, 0],), ([0, 0],), ([0, 0],), ([0, 0],), ([0, 0],), ([0, 0],), ([0, 0],), ([0, 0],), ([0, 0],), ([0, 0],), ([0, 0],), ([0, 0],), ([0, 0],), ([0, 0],), ([0, 0],), ([0, 0],), ([0, 0],), ([0, 0],), ([0, 0],), ([0, 0],), ([0, 0],), ([0, 0],), ([0, 0],), ([0, 0],), ([0, 0],), ([0, 0],), ([0, 0],), ([0, 0],), ([0, 0],), ([0, 0],), ([0, 0],), ([0, 0],), ([0, 0],), ([0, 0],), ([0, 0],), ([0, 0],), ([0, 0],), ([0, 0],), ([0, 0],), ([0, 0],), ([0, 0],), ([0, 0],), ([0, 0],), ([0, 0],), ([0, 0],), ([0, 0],), ([0, 0],), ([0, 0],), ([0, 0],), ([0, 0],), ([0, 0],), ([0, 0],), ([0, 0],), ([0, 0],), ([0, 0],), ([0, 0],), ([0, 0],), ([0, 0],), ([0, 0],), ([0, 0],), ([0, 0],), ([0, 0],), ([0, 0],), ([0, 0],), ([0, 0],), ([0, 0],), ([0, 0],), ([0, 0],), ([0, 0],), ([0, 0],), ([0, 0],), ([0, 0],), ([0, 0],), ([0, 0],), ([0, 0],), ([0, 0],), ([0, 0],), ([0, 0],), ([0, 0],), ([0, 0],), ([0, 0],), ([0, 0],), ([0, 0],), ([0, 0],), ([0, 0],), ([0, 0],), ([0, 0],), ([0, 0],), ([0, 0],), ([0, 0],), ([0, 0],), ([0, 0],), ([0, 0],), ([0, 0],), ([0, 0],), ([0, 0],), ([0, 0],), ([0, 0],), ([0, 0],), ([0, 0],), ([0, 0],), ([0, 0],), ([0, 0],), ([0, 0],), ([0, 0],), ([0, 0],), ([0, 0],), ([0, 0],), ([0, 0],), ([0, 0],), ([0, 0],), ([0, 0],), ([0, 0],), ([0, 0],), ([0, 0],), ([0, 0],), ([0, 0],), ([0, 0],), ([0, 0],), ([0, 0],), ([0, 0],), ([0, 0],), ([0, 0],), ([0, 0],), ([0, 0],), ([0, 0],), ([0, 0],), ([0, 0],), ([0, 0],), ([0, 0],), ([0, 0],), ([0, 0],), ([0, 0],), ([0, 0],), ([0, 0],), ([0, 0],), ([0, 0],), ([0, 0],), ([0, 0],), ([0, 0],), ([0, 0],), ([0, 0],), ([0, 0],), ([0, 0],), ([0, 0],), ([0, 0],), ([0, 0],), ([0, 0],), ([0, 0],), ([0, 0],), ([0, 0],), ([0, 0],), ([0, 0],), ([0, 0],), ([0, 0],), ([0, 0],), ([0, 0],), ([0, 0],), ([0, 0],), ([0, 0],), ([0, 0],), ([0, 0],), ([0, 0],), ([0, 0],), ([0, 0],), ([0, 0],), ([0, 0],), ([0, 0],), ([0, 0],), ([0, 0],), ([0, 0],), ([0, 0],), ([0, 0],), ([0, 0],), ([0, 0],), ([0, 0],), ([0, 0],), ([0, 0],), ([0, 0],), ([0, 0],), ([0, 0],), ([0, 0],), ([0, 0],), ([0, 0],), ([0, 0],), ([0, 0],), ([0, 0],), ([0, 0],), ([0, 0],), ([0, 0],), ([0, 0],), ([0, 0],), ([0, 0],), ([0, 0],), ([0, 0],), ([0, 0],), ([0, 0],), ([0, 0],), ([0, 0],), ([0, 0],), ([0, 0],), ([0, 0],), ([0, 0],), ([0, 0],), ([0, 0],), ([0, 0],), ([0, 0],), ([0, 0],), ([0, 0],), ([0, 0],), ([0, 0],), ([0, 0],), ([0, 0],), ([0, 0],), ([0, 0],), ([0, 0],), ([0, 0],), ([0, 0],), ([0, 0],), ([0, 0],), ([0, 0],), ([0, 0],), ([0, 0],), ([0, 0],), ([0, 0],), ([0, 0],)),\n",
       "       (([0, 0],), ([0, 0],), ([0, 0],), ([0, 0],), ([0, 0],), ([0, 0],), ([0, 0],), ([0, 0],), ([0, 0],), ([0, 0],), ([0, 0],), ([0, 0],), ([0, 0],), ([0, 0],), ([0, 0],), ([0, 0],), ([0, 0],), ([0, 0],), ([0, 0],), ([0, 0],), ([0, 0],), ([0, 0],), ([0, 0],), ([0, 0],), ([0, 0],), ([0, 0],), ([0, 0],), ([0, 0],), ([0, 0],), ([0, 0],), ([0, 0],), ([0, 0],), ([0, 0],), ([0, 0],), ([0, 0],), ([0, 0],), ([0, 0],), ([0, 0],), ([0, 0],), ([0, 0],), ([0, 0],), ([0, 0],), ([0, 0],), ([0, 0],), ([0, 0],), ([0, 0],), ([0, 0],), ([0, 0],), ([0, 0],), ([0, 0],), ([0, 0],), ([0, 0],), ([0, 0],), ([0, 0],), ([0, 0],), ([0, 0],), ([0, 0],), ([0, 0],), ([0, 0],), ([0, 0],), ([0, 0],), ([0, 0],), ([0, 0],), ([0, 0],), ([0, 0],), ([0, 0],), ([0, 0],), ([0, 0],), ([0, 0],), ([0, 0],), ([0, 0],), ([0, 0],), ([0, 0],), ([0, 0],), ([0, 0],), ([0, 0],), ([0, 0],), ([0, 0],), ([0, 0],), ([0, 0],), ([0, 0],), ([0, 0],), ([0, 0],), ([0, 0],), ([0, 0],), ([0, 0],), ([0, 0],), ([0, 0],), ([0, 0],), ([0, 0],), ([0, 0],), ([0, 0],), ([0, 0],), ([0, 0],), ([0, 0],), ([0, 0],), ([0, 0],), ([0, 0],), ([0, 0],), ([0, 0],), ([0, 0],), ([0, 0],), ([0, 0],), ([0, 0],), ([0, 0],), ([0, 0],), ([0, 0],), ([0, 0],), ([0, 0],), ([0, 0],), ([0, 0],), ([0, 0],), ([0, 0],), ([0, 0],), ([0, 0],), ([0, 0],), ([0, 0],), ([0, 0],), ([0, 0],), ([0, 0],), ([0, 0],), ([0, 0],), ([0, 0],), ([0, 0],), ([0, 0],), ([0, 0],), ([0, 0],), ([0, 0],), ([0, 0],), ([0, 0],), ([0, 0],), ([0, 0],), ([0, 0],), ([0, 0],), ([0, 0],), ([0, 0],), ([0, 0],), ([0, 0],), ([0, 0],), ([0, 0],), ([0, 0],), ([0, 0],), ([0, 0],), ([0, 0],), ([0, 0],), ([0, 0],), ([0, 0],), ([0, 0],), ([0, 0],), ([0, 0],), ([0, 0],), ([0, 0],), ([0, 0],), ([0, 0],), ([0, 0],), ([0, 0],), ([0, 0],), ([0, 0],), ([0, 0],), ([0, 0],), ([0, 0],), ([0, 0],), ([0, 0],), ([0, 0],), ([0, 0],), ([0, 0],), ([0, 0],), ([0, 0],), ([0, 0],), ([0, 0],), ([0, 0],), ([0, 0],), ([0, 0],), ([0, 0],), ([0, 0],), ([0, 0],), ([0, 0],), ([0, 0],), ([0, 0],), ([0, 0],), ([0, 0],), ([0, 0],), ([0, 0],), ([0, 0],), ([0, 0],), ([0, 0],), ([0, 0],), ([0, 0],), ([0, 0],), ([0, 0],), ([0, 0],), ([0, 0],), ([0, 0],), ([0, 0],), ([0, 0],), ([0, 0],), ([0, 0],), ([0, 0],), ([0, 0],), ([0, 0],), ([0, 0],), ([0, 0],), ([0, 0],), ([0, 0],), ([0, 0],), ([0, 0],), ([0, 0],), ([0, 0],), ([0, 0],), ([0, 0],), ([0, 0],), ([0, 0],), ([0, 0],), ([0, 0],), ([0, 0],), ([0, 0],), ([0, 0],), ([0, 0],), ([0, 0],), ([0, 0],), ([0, 0],), ([0, 0],), ([0, 0],), ([0, 0],), ([0, 0],), ([0, 0],), ([0, 0],), ([0, 0],), ([0, 0],), ([0, 0],), ([0, 0],), ([0, 0],), ([0, 0],), ([0, 0],), ([0, 0],), ([0, 0],), ([0, 0],), ([0, 0],), ([0, 0],), ([0, 0],), ([0, 0],), ([0, 0],), ([0, 0],), ([0, 0],), ([0, 0],), ([0, 0],), ([0, 0],), ([0, 0],), ([0, 0],), ([0, 0],), ([0, 0],), ([0, 0],), ([0, 0],), ([0, 0],), ([0, 0],), ([0, 0],), ([0, 0],), ([0, 0],), ([0, 0],), ([0, 0],), ([0, 0],), ([0, 0],), ([0, 0],), ([0, 0],), ([0, 0],), ([0, 0],), ([0, 0],), ([0, 0],), ([0, 0],), ([0, 0],), ([0, 0],), ([0, 0],), ([0, 0],), ([0, 0],), ([1, 0],), ([0, 0],), ([0, 0],), ([0, 0],), ([0, 0],), ([0, 0],), ([0, 0],), ([0, 0],), ([0, 0],), ([0, 0],), ([0, 0],), ([0, 0],), ([0, 0],), ([0, 0],), ([0, 0],), ([0, 0],), ([0, 0],), ([0, 0],), ([0, 0],), ([0, 0],), ([0, 0],), ([0, 0],), ([0, 1],), ([0, 0],), ([0, 0],), ([0, 0],), ([0, 0],), ([0, 0],), ([0, 0],), ([0, 0],), ([0, 0],), ([0, 0],), ([0, 0],), ([0, 0],), ([0, 0],), ([0, 0],), ([0, 0],), ([0, 0],), ([0, 0],), ([0, 0],), ([0, 0],), ([0, 0],), ([0, 0],), ([0, 0],), ([0, 0],), ([0, 0],), ([0, 0],), ([0, 0],), ([0, 0],), ([0, 0],), ([0, 0],), ([0, 0],), ([0, 0],), ([0, 0],), ([0, 0],), ([0, 0],), ([0, 0],), ([0, 0],), ([0, 0],), ([0, 0],), ([0, 0],), ([0, 0],), ([0, 0],), ([0, 0],), ([0, 0],), ([0, 0],), ([0, 0],), ([0, 0],), ([0, 0],), ([0, 0],), ([0, 0],), ([0, 0],), ([0, 0],), ([0, 0],), ([0, 0],), ([0, 0],), ([0, 0],), ([0, 0],), ([0, 0],), ([0, 0],), ([0, 0],), ([0, 0],), ([0, 0],), ([0, 0],), ([0, 0],), ([0, 0],), ([0, 0],), ([0, 0],), ([0, 0],), ([0, 0],), ([0, 0],), ([0, 0],), ([0, 0],), ([0, 0],), ([0, 0],), ([0, 0],), ([0, 0],), ([0, 0],), ([0, 0],), ([0, 0],), ([0, 0],), ([0, 0],), ([0, 0],), ([0, 0],), ([0, 0],), ([0, 0],), ([0, 0],), ([0, 0],), ([0, 0],), ([0, 0],), ([0, 0],), ([0, 0],), ([0, 0],), ([0, 0],), ([0, 0],), ([0, 0],), ([0, 0],), ([0, 0],), ([0, 0],), ([0, 0],), ([0, 0],), ([0, 0],), ([0, 0],), ([0, 0],), ([0, 0],), ([0, 0],), ([0, 0],), ([0, 0],), ([0, 0],), ([0, 0],), ([0, 0],), ([0, 0],), ([0, 0],), ([0, 0],), ([0, 0],), ([0, 0],), ([0, 0],), ([0, 0],), ([0, 0],), ([0, 0],), ([0, 0],), ([0, 0],), ([0, 0],), ([0, 0],), ([0, 0],), ([0, 0],), ([0, 0],), ([0, 0],), ([0, 0],), ([0, 0],), ([0, 0],), ([0, 0],), ([0, 0],), ([0, 0],), ([0, 0],), ([0, 0],), ([0, 0],), ([0, 0],), ([0, 0],), ([0, 0],), ([0, 0],), ([0, 0],), ([0, 0],), ([0, 0],), ([0, 0],), ([0, 0],), ([0, 0],), ([0, 0],), ([0, 0],), ([0, 0],), ([0, 0],), ([0, 0],), ([0, 0],), ([0, 0],), ([0, 0],), ([0, 0],), ([0, 0],), ([0, 0],), ([0, 0],), ([0, 0],), ([0, 0],), ([0, 0],), ([0, 0],), ([0, 0],), ([0, 0],), ([0, 0],), ([0, 0],), ([0, 0],), ([0, 0],), ([0, 0],), ([0, 0],), ([0, 0],), ([0, 0],), ([0, 0],), ([0, 0],), ([0, 0],), ([0, 0],), ([0, 0],), ([0, 0],), ([0, 0],), ([0, 0],), ([0, 0],), ([0, 0],), ([0, 0],), ([0, 0],), ([0, 0],), ([0, 0],), ([0, 0],), ([0, 0],), ([0, 0],), ([0, 0],), ([0, 0],), ([0, 0],), ([0, 0],), ([0, 0],), ([0, 0],), ([0, 0],), ([0, 0],), ([0, 0],), ([0, 0],), ([0, 0],), ([0, 0],), ([0, 0],), ([0, 0],), ([0, 0],), ([0, 0],), ([0, 0],), ([0, 0],), ([0, 0],), ([0, 0],), ([0, 0],), ([0, 0],), ([0, 0],), ([0, 0],), ([0, 0],), ([0, 0],), ([0, 0],), ([0, 0],), ([0, 0],), ([0, 0],), ([0, 0],), ([0, 0],), ([0, 0],), ([0, 0],), ([0, 0],), ([0, 0],), ([0, 0],), ([0, 0],), ([0, 0],), ([0, 0],), ([0, 0],), ([0, 0],), ([0, 0],), ([0, 0],), ([0, 0],), ([0, 0],), ([0, 0],), ([0, 0],), ([0, 0],), ([0, 0],), ([0, 0],), ([0, 0],), ([0, 0],), ([0, 0],), ([0, 0],), ([0, 0],), ([0, 0],), ([0, 0],), ([0, 0],), ([0, 0],), ([0, 0],), ([0, 0],), ([0, 0],), ([0, 0],), ([0, 0],), ([0, 0],), ([0, 0],), ([0, 0],), ([0, 0],), ([0, 0],), ([0, 0],), ([0, 0],), ([0, 0],), ([0, 0],), ([0, 0],), ([0, 0],), ([0, 0],), ([0, 0],), ([0, 0],), ([0, 0],), ([0, 0],), ([0, 0],), ([0, 0],), ([0, 0],), ([0, 0],), ([0, 0],), ([0, 0],), ([0, 0],), ([0, 0],), ([0, 0],), ([0, 0],), ([0, 0],), ([0, 0],), ([0, 0],), ([0, 0],), ([0, 0],), ([0, 0],), ([0, 0],), ([0, 0],), ([0, 0],), ([0, 0],), ([0, 0],), ([0, 0],), ([0, 0],), ([0, 0],), ([0, 0],), ([0, 0],), ([0, 0],), ([0, 0],), ([0, 0],), ([0, 0],), ([0, 0],), ([0, 0],), ([0, 0],), ([0, 0],), ([0, 0],), ([0, 0],), ([0, 0],), ([0, 0],), ([0, 0],), ([0, 0],), ([0, 0],), ([0, 0],), ([0, 0],), ([0, 0],), ([0, 0],), ([0, 0],), ([0, 0],), ([0, 0],), ([0, 0],), ([0, 0],), ([0, 0],), ([0, 0],), ([0, 0],), ([0, 0],), ([0, 0],), ([0, 0],), ([0, 0],), ([0, 0],), ([0, 0],), ([0, 0],), ([0, 0],), ([0, 0],), ([0, 0],), ([0, 0],), ([0, 0],), ([0, 0],), ([0, 0],), ([0, 0],), ([0, 0],), ([0, 0],), ([0, 0],), ([0, 0],), ([0, 0],), ([0, 0],), ([0, 0],), ([0, 0],), ([0, 0],), ([0, 0],), ([0, 0],), ([0, 0],), ([0, 0],), ([0, 0],), ([0, 0],), ([0, 0],), ([0, 0],), ([0, 0],), ([0, 0],), ([0, 0],), ([0, 0],), ([0, 0],), ([0, 0],), ([0, 0],), ([0, 0],), ([0, 0],), ([0, 0],), ([0, 0],), ([0, 0],), ([0, 0],), ([0, 0],), ([0, 0],), ([0, 0],), ([0, 0],), ([0, 0],), ([0, 0],), ([0, 0],), ([0, 0],), ([0, 0],), ([0, 0],), ([0, 0],), ([0, 0],), ([0, 0],), ([0, 0],), ([0, 0],), ([0, 0],), ([0, 0],), ([0, 0],), ([0, 0],), ([0, 0],), ([0, 0],), ([0, 0],), ([0, 0],), ([0, 0],), ([0, 0],), ([0, 0],), ([0, 0],), ([0, 0],), ([0, 0],), ([0, 0],), ([0, 0],), ([0, 0],), ([0, 0],), ([0, 0],), ([0, 0],), ([0, 0],), ([0, 0],), ([0, 0],), ([0, 0],), ([0, 0],), ([0, 0],), ([0, 0],), ([0, 0],), ([0, 0],), ([0, 0],), ([0, 0],), ([0, 0],), ([0, 0],), ([0, 0],), ([0, 0],), ([0, 0],), ([0, 0],), ([0, 0],), ([0, 0],), ([0, 0],), ([0, 0],), ([0, 0],), ([0, 0],), ([0, 0],), ([0, 0],), ([0, 0],), ([0, 0],), ([0, 0],), ([0, 0],), ([0, 0],), ([0, 0],), ([0, 0],), ([0, 0],), ([0, 0],), ([0, 0],), ([0, 0],), ([0, 0],), ([0, 0],), ([0, 0],), ([0, 0],), ([0, 0],), ([0, 0],), ([0, 0],), ([0, 0],), ([0, 0],), ([0, 0],), ([0, 0],), ([0, 0],), ([0, 0],), ([0, 0],), ([0, 0],), ([0, 0],), ([0, 0],), ([0, 0],), ([0, 0],), ([0, 0],), ([0, 0],), ([0, 0],), ([0, 0],), ([0, 0],), ([0, 0],), ([0, 0],), ([0, 0],), ([0, 0],), ([0, 0],), ([0, 0],), ([0, 0],), ([0, 0],), ([0, 0],), ([0, 0],), ([0, 0],), ([0, 0],), ([0, 0],), ([0, 0],), ([0, 0],)),\n",
       "       ...,\n",
       "       (([0, 0],), ([0, 0],), ([0, 0],), ([0, 0],), ([0, 0],), ([0, 0],), ([0, 0],), ([0, 0],), ([0, 0],), ([0, 0],), ([0, 0],), ([0, 0],), ([0, 0],), ([0, 0],), ([0, 0],), ([0, 0],), ([0, 0],), ([0, 0],), ([0, 0],), ([0, 0],), ([0, 0],), ([0, 0],), ([0, 0],), ([0, 0],), ([0, 0],), ([0, 0],), ([0, 0],), ([0, 0],), ([0, 0],), ([0, 0],), ([0, 0],), ([0, 0],), ([0, 0],), ([0, 0],), ([0, 0],), ([0, 0],), ([0, 0],), ([0, 0],), ([0, 0],), ([0, 0],), ([0, 0],), ([0, 0],), ([0, 0],), ([0, 0],), ([0, 0],), ([0, 0],), ([0, 0],), ([0, 0],), ([0, 0],), ([0, 0],), ([0, 0],), ([0, 0],), ([0, 0],), ([0, 0],), ([0, 0],), ([0, 0],), ([0, 0],), ([0, 0],), ([0, 0],), ([0, 0],), ([0, 0],), ([0, 0],), ([0, 0],), ([0, 0],), ([0, 0],), ([0, 0],), ([0, 0],), ([0, 0],), ([0, 0],), ([0, 0],), ([0, 0],), ([0, 0],), ([0, 0],), ([0, 0],), ([0, 0],), ([0, 0],), ([0, 0],), ([0, 0],), ([0, 0],), ([0, 0],), ([0, 0],), ([0, 0],), ([0, 0],), ([0, 0],), ([0, 0],), ([0, 0],), ([0, 0],), ([0, 0],), ([0, 0],), ([0, 0],), ([0, 0],), ([0, 0],), ([0, 0],), ([0, 0],), ([0, 0],), ([0, 0],), ([0, 0],), ([0, 0],), ([0, 0],), ([0, 0],), ([0, 0],), ([0, 0],), ([0, 0],), ([0, 0],), ([0, 0],), ([0, 0],), ([0, 0],), ([0, 0],), ([0, 0],), ([0, 0],), ([0, 0],), ([0, 0],), ([0, 0],), ([0, 0],), ([0, 0],), ([0, 0],), ([0, 0],), ([0, 0],), ([0, 0],), ([0, 0],), ([0, 0],), ([0, 0],), ([0, 0],), ([0, 0],), ([0, 0],), ([0, 0],), ([0, 0],), ([0, 0],), ([0, 0],), ([0, 0],), ([0, 0],), ([0, 0],), ([0, 0],), ([0, 0],), ([0, 0],), ([0, 0],), ([0, 0],), ([0, 0],), ([0, 0],), ([0, 0],), ([0, 0],), ([0, 0],), ([0, 0],), ([0, 0],), ([0, 0],), ([0, 0],), ([0, 0],), ([0, 0],), ([0, 0],), ([0, 0],), ([0, 0],), ([0, 0],), ([0, 0],), ([0, 0],), ([0, 0],), ([0, 0],), ([0, 0],), ([0, 0],), ([0, 0],), ([0, 0],), ([0, 0],), ([0, 0],), ([0, 0],), ([0, 0],), ([0, 0],), ([0, 0],), ([0, 0],), ([0, 0],), ([0, 0],), ([0, 0],), ([0, 0],), ([0, 0],), ([0, 0],), ([0, 0],), ([0, 0],), ([0, 0],), ([0, 0],), ([0, 0],), ([0, 0],), ([0, 0],), ([0, 0],), ([0, 0],), ([0, 0],), ([0, 0],), ([0, 0],), ([0, 0],), ([0, 0],), ([0, 0],), ([0, 0],), ([0, 0],), ([0, 0],), ([0, 0],), ([0, 0],), ([0, 0],), ([0, 0],), ([0, 0],), ([0, 0],), ([0, 0],), ([0, 0],), ([0, 0],), ([0, 0],), ([0, 0],), ([0, 0],), ([0, 0],), ([0, 0],), ([0, 0],), ([0, 0],), ([0, 0],), ([0, 0],), ([0, 0],), ([0, 0],), ([0, 0],), ([0, 0],), ([0, 0],), ([0, 0],), ([0, 0],), ([0, 0],), ([0, 0],), ([0, 0],), ([0, 0],), ([0, 0],), ([0, 0],), ([0, 0],), ([0, 0],), ([0, 0],), ([0, 0],), ([0, 0],), ([0, 0],), ([0, 0],), ([0, 0],), ([0, 0],), ([0, 0],), ([0, 0],), ([0, 0],), ([0, 0],), ([0, 0],), ([0, 0],), ([0, 0],), ([0, 0],), ([0, 0],), ([0, 0],), ([0, 0],), ([0, 0],), ([0, 0],), ([0, 0],), ([0, 0],), ([0, 0],), ([0, 0],), ([0, 0],), ([0, 0],), ([0, 0],), ([0, 0],), ([0, 0],), ([0, 0],), ([0, 0],), ([0, 0],), ([0, 0],), ([0, 0],), ([0, 0],), ([0, 0],), ([0, 0],), ([0, 0],), ([0, 0],), ([0, 0],), ([0, 0],), ([0, 0],), ([0, 0],), ([0, 0],), ([0, 0],), ([0, 0],), ([0, 0],), ([0, 0],), ([0, 0],), ([0, 0],), ([0, 0],), ([0, 0],), ([0, 0],), ([0, 0],), ([0, 0],), ([0, 0],), ([0, 0],), ([0, 0],), ([0, 0],), ([0, 0],), ([0, 0],), ([0, 0],), ([0, 0],), ([0, 0],), ([0, 0],), ([0, 0],), ([0, 0],), ([0, 0],), ([0, 0],), ([0, 0],), ([0, 0],), ([0, 0],), ([0, 0],), ([0, 0],), ([0, 0],), ([0, 0],), ([0, 0],), ([0, 0],), ([0, 0],), ([0, 0],), ([0, 0],), ([0, 0],), ([0, 0],), ([0, 0],), ([0, 0],), ([0, 0],), ([0, 0],), ([0, 0],), ([0, 0],), ([0, 0],), ([0, 0],), ([0, 0],), ([0, 0],), ([0, 0],), ([0, 0],), ([0, 0],), ([0, 0],), ([0, 0],), ([0, 0],), ([0, 0],), ([0, 0],), ([0, 0],), ([0, 0],), ([0, 0],), ([0, 0],), ([0, 0],), ([0, 0],), ([0, 0],), ([0, 0],), ([0, 0],), ([0, 0],), ([0, 0],), ([0, 0],), ([0, 0],), ([0, 0],), ([0, 0],), ([0, 0],), ([0, 0],), ([0, 0],), ([0, 0],), ([0, 0],), ([0, 0],), ([0, 0],), ([0, 0],), ([0, 0],), ([0, 0],), ([0, 0],), ([0, 0],), ([0, 0],), ([0, 0],), ([0, 0],), ([0, 0],), ([0, 0],), ([0, 0],), ([0, 0],), ([0, 0],), ([0, 0],), ([0, 0],), ([0, 0],), ([0, 0],), ([0, 0],), ([0, 0],), ([0, 0],), ([0, 0],), ([0, 0],), ([0, 0],), ([0, 0],), ([0, 0],), ([0, 0],), ([0, 0],), ([0, 0],), ([0, 0],), ([0, 0],), ([0, 0],), ([0, 0],), ([0, 0],), ([0, 0],), ([0, 0],), ([0, 0],), ([0, 0],), ([0, 0],), ([0, 0],), ([0, 0],), ([0, 0],), ([0, 0],), ([0, 0],), ([0, 0],), ([0, 0],), ([0, 0],), ([0, 0],), ([0, 0],), ([0, 0],), ([0, 0],), ([0, 0],), ([0, 0],), ([0, 0],), ([0, 0],), ([0, 0],), ([0, 0],), ([0, 0],), ([0, 0],), ([0, 0],), ([0, 0],), ([0, 0],), ([0, 0],), ([0, 0],), ([0, 0],), ([0, 0],), ([0, 0],), ([0, 0],), ([0, 0],), ([0, 0],), ([0, 0],), ([0, 0],), ([0, 0],), ([0, 0],), ([0, 0],), ([0, 0],), ([0, 0],), ([0, 0],), ([0, 0],), ([0, 0],), ([0, 0],), ([0, 0],), ([0, 0],), ([0, 0],), ([0, 0],), ([0, 0],), ([0, 0],), ([0, 0],), ([0, 0],), ([0, 0],), ([0, 0],), ([0, 0],), ([0, 0],), ([0, 0],), ([0, 0],), ([0, 0],), ([0, 0],), ([0, 0],), ([0, 0],), ([0, 0],), ([0, 0],), ([0, 0],), ([0, 0],), ([0, 0],), ([0, 0],), ([0, 0],), ([0, 0],), ([0, 0],), ([0, 0],), ([0, 0],), ([0, 0],), ([0, 0],), ([0, 0],), ([0, 0],), ([0, 0],), ([0, 0],), ([0, 0],), ([0, 0],), ([0, 0],), ([0, 0],), ([0, 0],), ([0, 0],), ([0, 0],), ([0, 0],), ([0, 0],), ([0, 0],), ([0, 0],), ([0, 0],), ([0, 0],), ([0, 0],), ([0, 0],), ([0, 0],), ([0, 0],), ([0, 0],), ([0, 0],), ([0, 0],), ([0, 0],), ([0, 0],), ([0, 0],), ([0, 0],), ([0, 0],), ([0, 0],), ([0, 0],), ([0, 0],), ([0, 0],), ([0, 0],), ([0, 0],), ([0, 0],), ([0, 0],), ([0, 0],), ([0, 0],), ([0, 0],), ([0, 0],), ([0, 0],), ([0, 0],), ([0, 0],), ([0, 0],), ([0, 0],), ([0, 0],), ([0, 0],), ([0, 0],), ([0, 0],), ([0, 0],), ([0, 0],), ([0, 0],), ([0, 0],), ([0, 0],), ([0, 0],), ([0, 0],), ([0, 0],), ([0, 0],), ([0, 0],), ([0, 0],), ([0, 0],), ([0, 0],), ([0, 0],), ([0, 0],), ([0, 0],), ([0, 0],), ([0, 0],), ([0, 0],), ([0, 0],), ([0, 0],), ([0, 0],), ([0, 0],), ([0, 0],), ([0, 0],), ([0, 0],), ([0, 0],), ([0, 0],), ([0, 0],), ([0, 0],), ([0, 0],), ([0, 0],), ([0, 0],), ([0, 0],), ([0, 0],), ([0, 0],), ([0, 0],), ([0, 0],), ([0, 0],), ([0, 0],), ([0, 0],), ([0, 0],), ([0, 0],), ([0, 0],), ([0, 0],), ([0, 0],), ([0, 0],), ([0, 0],), ([0, 0],), ([0, 0],), ([0, 0],), ([0, 0],), ([0, 0],), ([0, 0],), ([0, 0],), ([0, 0],), ([0, 0],), ([0, 0],), ([0, 0],), ([0, 0],), ([0, 0],), ([0, 0],), ([0, 0],), ([0, 0],), ([0, 0],), ([0, 0],), ([0, 0],), ([0, 0],), ([0, 0],), ([0, 0],), ([0, 0],), ([0, 0],), ([0, 0],), ([0, 0],), ([0, 0],), ([0, 0],), ([0, 0],), ([0, 0],), ([0, 0],), ([0, 0],), ([0, 0],), ([0, 0],), ([0, 0],), ([0, 0],), ([0, 0],), ([0, 0],), ([0, 0],), ([0, 0],), ([0, 0],), ([0, 0],), ([0, 0],), ([0, 0],), ([0, 0],), ([0, 0],), ([0, 0],), ([0, 0],), ([0, 0],), ([0, 0],), ([0, 0],), ([0, 0],), ([0, 0],), ([0, 0],), ([0, 0],), ([0, 0],), ([0, 0],), ([0, 0],), ([0, 0],), ([0, 0],), ([0, 0],), ([0, 0],), ([0, 0],), ([0, 0],), ([0, 0],), ([0, 0],), ([0, 0],), ([0, 0],), ([0, 0],), ([0, 0],), ([0, 0],), ([0, 0],), ([0, 0],), ([0, 0],), ([0, 0],), ([0, 0],), ([0, 0],), ([0, 0],), ([1, 0],), ([0, 0],), ([0, 0],), ([0, 0],), ([0, 0],), ([0, 0],), ([0, 0],), ([0, 0],), ([0, 0],), ([0, 0],), ([0, 0],), ([0, 0],), ([0, 0],), ([0, 0],), ([0, 0],), ([0, 0],), ([0, 0],), ([0, 0],), ([0, 0],), ([0, 0],), ([0, 0],), ([0, 0],), ([0, 0],), ([0, 0],), ([0, 0],), ([0, 0],), ([1, 0],), ([0, 0],), ([0, 0],), ([0, 0],), ([0, 0],), ([0, 0],), ([0, 0],), ([0, 0],), ([0, 0],), ([0, 0],), ([0, 0],), ([0, 0],), ([0, 0],), ([0, 0],), ([0, 0],), ([0, 0],), ([0, 0],), ([0, 0],), ([0, 0],), ([0, 0],), ([0, 0],), ([0, 0],), ([0, 0],), ([0, 0],), ([0, 0],), ([0, 0],), ([0, 0],), ([0, 0],), ([0, 0],), ([0, 0],), ([0, 0],), ([0, 0],), ([0, 0],), ([0, 0],), ([0, 0],), ([0, 0],), ([0, 0],), ([0, 0],), ([0, 0],), ([0, 0],), ([0, 0],), ([0, 0],), ([0, 0],), ([0, 0],), ([0, 0],), ([0, 0],), ([0, 0],), ([0, 0],), ([0, 0],), ([0, 0],), ([0, 0],), ([0, 0],), ([0, 0],), ([0, 0],), ([0, 0],), ([0, 0],), ([0, 0],), ([0, 0],), ([0, 0],), ([0, 0],), ([0, 0],), ([0, 0],), ([0, 0],), ([0, 0],), ([0, 0],), ([0, 0],), ([0, 0],), ([0, 0],), ([0, 0],), ([0, 0],), ([0, 0],), ([0, 0],), ([0, 0],), ([0, 0],), ([0, 0],), ([0, 0],), ([0, 0],), ([0, 0],), ([0, 0],), ([0, 0],), ([0, 0],), ([0, 0],), ([0, 0],), ([0, 0],), ([0, 0],), ([0, 0],), ([0, 0],), ([0, 0],), ([0, 0],), ([0, 0],), ([0, 0],), ([0, 0],), ([0, 0],), ([0, 0],), ([0, 0],), ([0, 0],), ([0, 0],), ([0, 0],), ([0, 0],), ([0, 0],), ([0, 0],), ([0, 0],), ([0, 0],), ([0, 0],), ([0, 0],), ([0, 0],), ([0, 0],), ([0, 0],), ([0, 0],), ([0, 0],), ([0, 0],), ([0, 0],), ([0, 0],)),\n",
       "       (([1, 1],), ([0, 1],), ([1, 1],), ([1, 1],), ([0, 1],), ([0, 1],), ([1, 1],), ([1, 1],), ([1, 1],), ([1, 1],), ([1, 1],), ([1, 1],), ([1, 1],), ([1, 1],), ([1, 1],), ([1, 1],), ([1, 1],), ([0, 1],), ([1, 1],), ([0, 1],), ([1, 1],), ([1, 1],), ([1, 1],), ([1, 1],), ([1, 1],), ([1, 1],), ([1, 1],), ([1, 1],), ([1, 1],), ([1, 1],), ([1, 1],), ([1, 1],), ([1, 1],), ([1, 1],), ([1, 1],), ([1, 1],), ([1, 1],), ([0, 1],), ([1, 1],), ([1, 1],), ([1, 1],), ([1, 1],), ([1, 1],), ([1, 1],), ([1, 1],), ([1, 1],), ([1, 1],), ([1, 1],), ([1, 1],), ([1, 1],), ([1, 1],), ([1, 1],), ([1, 1],), ([1, 1],), ([1, 1],), ([1, 1],), ([1, 1],), ([1, 1],), ([1, 1],), ([1, 1],), ([1, 1],), ([1, 1],), ([1, 1],), ([1, 1],), ([1, 1],), ([1, 1],), ([1, 1],), ([0, 1],), ([1, 1],), ([1, 1],), ([1, 1],), ([1, 1],), ([1, 1],), ([1, 1],), ([0, 1],), ([1, 1],), ([1, 1],), ([1, 1],), ([0, 1],), ([1, 1],), ([1, 1],), ([1, 1],), ([1, 1],), ([1, 1],), ([1, 1],), ([0, 1],), ([1, 1],), ([1, 1],), ([1, 1],), ([1, 1],), ([1, 1],), ([1, 1],), ([1, 1],), ([0, 1],), ([1, 1],), ([1, 1],), ([1, 1],), ([1, 1],), ([1, 1],), ([1, 1],), ([1, 1],), ([0, 1],), ([1, 1],), ([1, 1],), ([0, 1],), ([1, 1],), ([1, 1],), ([1, 1],), ([1, 1],), ([1, 1],), ([1, 1],), ([1, 1],), ([1, 1],), ([0, 1],), ([1, 1],), ([1, 0],), ([1, 1],), ([1, 1],), ([0, 1],), ([1, 1],), ([1, 1],), ([1, 1],), ([1, 1],), ([1, 1],), ([1, 1],), ([0, 1],), ([1, 1],), ([1, 1],), ([1, 1],), ([1, 1],), ([0, 1],), ([1, 1],), ([1, 1],), ([0, 0],), ([1, 0],), ([1, 1],), ([1, 1],), ([1, 1],), ([1, 1],), ([1, 1],), ([1, 1],), ([1, 1],), ([1, 1],), ([1, 1],), ([1, 1],), ([1, 1],), ([1, 1],), ([1, 1],), ([1, 1],), ([1, 1],), ([1, 1],), ([1, 1],), ([1, 1],), ([1, 1],), ([1, 1],), ([1, 1],), ([1, 1],), ([1, 1],), ([1, 1],), ([1, 1],), ([1, 1],), ([1, 1],), ([1, 1],), ([1, 1],), ([1, 1],), ([1, 1],), ([1, 1],), ([1, 1],), ([1, 1],), ([1, 1],), ([1, 1],), ([1, 1],), ([1, 1],), ([1, 1],), ([1, 1],), ([1, 1],), ([1, 1],), ([1, 1],), ([1, 1],), ([1, 1],), ([1, 1],), ([1, 1],), ([1, 1],), ([1, 1],), ([1, 1],), ([1, 1],), ([1, 1],), ([1, 1],), ([1, 1],), ([1, 1],), ([1, 1],), ([1, 1],), ([1, 1],), ([1, 1],), ([1, 1],), ([1, 1],), ([1, 1],), ([1, 1],), ([1, 1],), ([1, 1],), ([1, 1],), ([1, 1],), ([1, 1],), ([1, 1],), ([1, 1],), ([1, 1],), ([1, 1],), ([1, 1],), ([1, 1],), ([1, 1],), ([1, 1],), ([1, 1],), ([1, 1],), ([1, 1],), ([1, 1],), ([1, 1],), ([1, 1],), ([1, 1],), ([1, 1],), ([1, 1],), ([1, 1],), ([1, 1],), ([1, 1],), ([1, 1],), ([1, 1],), ([1, 1],), ([1, 1],), ([1, 1],), ([1, 1],), ([1, 1],), ([1, 1],), ([1, 1],), ([1, 1],), ([1, 1],), ([1, 1],), ([1, 1],), ([1, 1],), ([1, 1],), ([1, 1],), ([1, 1],), ([1, 1],), ([1, 1],), ([1, 1],), ([1, 1],), ([1, 1],), ([1, 1],), ([1, 1],), ([1, 1],), ([1, 1],), ([1, 1],), ([1, 1],), ([1, 1],), ([1, 1],), ([0, 1],), ([1, 1],), ([1, 1],), ([1, 1],), ([1, 0],), ([1, 1],), ([1, 1],), ([1, 0],), ([1, 1],), ([1, 1],), ([1, 0],), ([1, 1],), ([1, 1],), ([1, 1],), ([1, 1],), ([1, 0],), ([0, 1],), ([0, 1],), ([1, 0],), ([1, 1],), ([1, 1],), ([1, 1],), ([0, 1],), ([1, 0],), ([1, 1],), ([1, 1],), ([1, 1],), ([0, 1],), ([1, 1],), ([1, 1],), ([1, 1],), ([0, 0],), ([0, 1],), ([1, 1],), ([0, 1],), ([1, 1],), ([0, 1],), ([0, 1],), ([1, 0],), ([1, 1],), ([0, 1],), ([0, 1],), ([1, 0],), ([1, 1],), ([1, 1],), ([0, 0],), ([1, 0],), ([1, 1],), ([1, 1],), ([1, 1],), ([0, 1],), ([1, 1],), ([1, 0],), ([1, 0],), ([0, 1],), ([1, 0],), ([0, 0],), ([1, 0],), ([1, 1],), ([0, 0],), ([1, 0],), ([1, 1],), ([1, 1],), ([1, 1],), ([1, 1],), ([1, 1],), ([1, 1],), ([1, 1],), ([1, 1],), ([1, 1],), ([1, 1],), ([1, 1],), ([1, 1],), ([1, 1],), ([1, 1],), ([1, 1],), ([0, 1],), ([1, 1],), ([1, 1],), ([1, 1],), ([0, 1],), ([1, 1],), ([1, 1],), ([1, 1],), ([1, 1],), ([0, 1],), ([1, 1],), ([1, 1],), ([0, 1],), ([1, 1],), ([1, 1],), ([1, 1],), ([1, 1],), ([1, 1],), ([1, 1],), ([1, 1],), ([1, 1],), ([1, 1],), ([1, 1],), ([1, 1],), ([1, 1],), ([1, 1],), ([1, 1],), ([1, 1],), ([1, 1],), ([1, 1],), ([1, 1],), ([1, 1],), ([1, 1],), ([1, 1],), ([1, 1],), ([1, 1],), ([1, 1],), ([1, 1],), ([1, 1],), ([1, 1],), ([1, 1],), ([1, 1],), ([1, 1],), ([1, 1],), ([1, 1],), ([1, 1],), ([1, 1],), ([1, 1],), ([1, 1],), ([1, 1],), ([1, 1],), ([1, 1],), ([1, 1],), ([1, 1],), ([1, 1],), ([1, 1],), ([1, 1],), ([1, 1],), ([1, 1],), ([1, 1],), ([1, 1],), ([1, 1],), ([1, 1],), ([1, 1],), ([1, 1],), ([1, 1],), ([1, 1],), ([1, 1],), ([1, 1],), ([1, 1],), ([1, 1],), ([1, 1],), ([1, 1],), ([1, 1],), ([1, 1],), ([1, 1],), ([1, 1],), ([1, 1],), ([1, 1],), ([1, 1],), ([1, 1],), ([1, 1],), ([1, 1],), ([1, 1],), ([1, 1],), ([1, 1],), ([1, 1],), ([1, 1],), ([1, 1],), ([1, 1],), ([1, 1],), ([1, 1],), ([1, 1],), ([1, 1],), ([1, 1],), ([1, 1],), ([1, 1],), ([1, 1],), ([1, 1],), ([1, 1],), ([1, 1],), ([1, 1],), ([1, 1],), ([1, 1],), ([1, 1],), ([1, 1],), ([1, 1],), ([1, 1],), ([1, 1],), ([1, 1],), ([1, 1],), ([1, 1],), ([1, 1],), ([1, 1],), ([1, 1],), ([1, 1],), ([1, 1],), ([1, 1],), ([1, 1],), ([1, 1],), ([1, 1],), ([1, 1],), ([1, 1],), ([1, 1],), ([1, 1],), ([1, 1],), ([1, 1],), ([1, 1],), ([1, 1],), ([1, 1],), ([1, 1],), ([1, 1],), ([1, 1],), ([1, 1],), ([1, 1],), ([1, 1],), ([1, 1],), ([1, 1],), ([1, 1],), ([1, 1],), ([1, 1],), ([1, 1],), ([1, 1],), ([1, 1],), ([1, 1],), ([1, 1],), ([1, 1],), ([1, 1],), ([1, 1],), ([1, 1],), ([1, 1],), ([1, 1],), ([1, 1],), ([1, 1],), ([1, 1],), ([1, 1],), ([1, 1],), ([1, 1],), ([1, 1],), ([1, 1],), ([1, 1],), ([1, 1],), ([1, 1],), ([1, 1],), ([1, 1],), ([1, 1],), ([1, 1],), ([1, 1],), ([1, 1],), ([1, 1],), ([1, 1],), ([1, 1],), ([1, 1],), ([1, 1],), ([1, 1],), ([1, 1],), ([1, 1],), ([1, 1],), ([1, 1],), ([1, 1],), ([1, 1],), ([1, 1],), ([1, 1],), ([1, 1],), ([1, 1],), ([1, 1],), ([1, 1],), ([1, 1],), ([1, 1],), ([1, 1],), ([1, 1],), ([1, 1],), ([1, 1],), ([1, 1],), ([1, 1],), ([1, 1],), ([1, 1],), ([1, 1],), ([1, 1],), ([1, 1],), ([1, 1],), ([1, 1],), ([1, 1],), ([1, 1],), ([1, 1],), ([1, 1],), ([1, 1],), ([1, 1],), ([1, 1],), ([1, 1],), ([1, 1],), ([1, 1],), ([1, 1],), ([1, 1],), ([1, 1],), ([1, 1],), ([1, 1],), ([1, 1],), ([1, 1],), ([1, 1],), ([1, 1],), ([1, 1],), ([1, 1],), ([1, 1],), ([1, 1],), ([1, 1],), ([1, 1],), ([1, 1],), ([1, 1],), ([1, 1],), ([1, 1],), ([1, 1],), ([1, 1],), ([1, 1],), ([1, 1],), ([1, 1],), ([1, 1],), ([1, 1],), ([1, 1],), ([1, 1],), ([1, 1],), ([1, 1],), ([1, 1],), ([1, 1],), ([1, 1],), ([1, 1],), ([1, 1],), ([1, 1],), ([1, 1],), ([1, 1],), ([1, 1],), ([1, 1],), ([1, 1],), ([1, 1],), ([1, 1],), ([1, 1],), ([1, 1],), ([1, 1],), ([1, 1],), ([1, 1],), ([1, 1],), ([1, 1],), ([1, 1],), ([1, 1],), ([1, 1],), ([1, 1],), ([1, 1],), ([1, 1],), ([1, 1],), ([1, 1],), ([1, 1],), ([1, 1],), ([1, 1],), ([1, 1],), ([1, 1],), ([1, 1],), ([1, 1],), ([1, 1],), ([1, 1],), ([1, 1],), ([1, 1],), ([1, 1],), ([1, 1],), ([1, 1],), ([1, 1],), ([1, 1],), ([1, 1],), ([1, 1],), ([1, 1],), ([1, 1],), ([1, 1],), ([1, 1],), ([1, 1],), ([1, 1],), ([0, 1],), ([1, 1],), ([1, 1],), ([1, 1],), ([1, 1],), ([1, 1],), ([1, 1],), ([1, 1],), ([1, 1],), ([0, 0],), ([0, 1],), ([0, 1],), ([0, 1],), ([1, 1],), ([1, 1],), ([1, 1],), ([1, 1],), ([1, 1],), ([1, 1],), ([1, 1],), ([1, 1],), ([0, 1],), ([1, 1],), ([1, 1],), ([1, 1],), ([1, 1],), ([0, 1],), ([1, 1],), ([1, 1],), ([1, 1],), ([1, 1],), ([1, 1],), ([0, 1],), ([1, 1],), ([1, 1],), ([0, 1],), ([0, 1],), ([0, 1],), ([1, 1],), ([1, 1],), ([0, 1],), ([1, 1],), ([1, 1],), ([0, 0],), ([1, 1],), ([0, 1],), ([1, 1],), ([1, 1],), ([1, 1],), ([1, 1],), ([1, 1],), ([1, 1],), ([1, 1],), ([1, 1],), ([0, 1],), ([1, 1],), ([1, 1],), ([1, 1],), ([1, 1],), ([1, 1],), ([1, 1],), ([1, 1],), ([1, 1],), ([1, 1],), ([1, 1],), ([1, 1],), ([1, 1],), ([1, 1],), ([1, 1],), ([1, 1],), ([1, 1],), ([1, 1],), ([1, 1],), ([1, 1],), ([1, 1],), ([1, 1],), ([1, 1],), ([1, 1],), ([1, 1],), ([1, 1],), ([1, 1],), ([1, 1],), ([1, 1],), ([1, 1],), ([1, 1],), ([1, 1],), ([1, 1],), ([1, 1],), ([1, 1],), ([1, 1],), ([1, 1],), ([1, 1],), ([1, 1],), ([1, 1],), ([1, 1],), ([1, 1],), ([1, 1],), ([1, 1],), ([1, 1],), ([1, 1],), ([1, 1],), ([1, 1],), ([1, 1],), ([1, 1],), ([1, 1],), ([1, 1],), ([1, 1],), ([1, 1],), ([1, 1],), ([1, 1],), ([1, 1],), ([1, 1],), ([1, 1],), ([1, 1],), ([1, 1],), ([1, 1],), ([1, 1],), ([1, 1],), ([1, 1],), ([1, 1],), ([1, 1],), ([1, 1],), ([1, 1],), ([1, 1],), ([1, 1],), ([1, 1],), ([1, 1],), ([1, 1],), ([1, 1],), ([1, 1],), ([1, 1],), ([1, 1],), ([1, 1],), ([1, 1],), ([1, 1],), ([1, 1],), ([1, 1],), ([1, 1],), ([1, 1],), ([1, 1],), ([1, 1],), ([1, 1],), ([1, 1],), ([0, 0],), ([0, 1],), ([0, 0],), ([1, 0],), ([0, 0],), ([1, 1],), ([0, 1],)),\n",
       "       (([0, 0],), ([0, 0],), ([0, 0],), ([0, 0],), ([0, 0],), ([0, 0],), ([0, 0],), ([0, 0],), ([0, 0],), ([0, 0],), ([0, 0],), ([0, 0],), ([0, 0],), ([0, 0],), ([0, 0],), ([0, 0],), ([0, 0],), ([0, 0],), ([0, 0],), ([0, 0],), ([0, 0],), ([0, 0],), ([0, 0],), ([0, 0],), ([0, 0],), ([0, 0],), ([0, 0],), ([0, 0],), ([0, 0],), ([0, 0],), ([0, 0],), ([0, 0],), ([0, 0],), ([0, 0],), ([0, 0],), ([0, 0],), ([0, 0],), ([0, 0],), ([0, 0],), ([0, 0],), ([0, 0],), ([0, 0],), ([0, 0],), ([0, 0],), ([0, 0],), ([0, 0],), ([0, 0],), ([0, 0],), ([0, 0],), ([0, 0],), ([0, 0],), ([0, 0],), ([0, 0],), ([0, 0],), ([0, 0],), ([0, 0],), ([0, 0],), ([0, 0],), ([0, 0],), ([0, 0],), ([0, 0],), ([0, 0],), ([0, 0],), ([0, 0],), ([0, 0],), ([0, 0],), ([0, 0],), ([0, 0],), ([0, 0],), ([0, 0],), ([0, 0],), ([0, 0],), ([0, 0],), ([0, 0],), ([0, 0],), ([0, 0],), ([0, 0],), ([0, 0],), ([0, 0],), ([0, 0],), ([0, 0],), ([0, 0],), ([0, 0],), ([0, 0],), ([0, 0],), ([0, 0],), ([0, 0],), ([0, 0],), ([0, 0],), ([0, 0],), ([0, 0],), ([0, 0],), ([0, 0],), ([0, 0],), ([0, 0],), ([0, 0],), ([0, 0],), ([0, 0],), ([0, 0],), ([0, 0],), ([0, 0],), ([0, 0],), ([0, 0],), ([0, 0],), ([0, 0],), ([0, 0],), ([0, 0],), ([0, 0],), ([0, 0],), ([0, 0],), ([0, 0],), ([0, 0],), ([0, 0],), ([0, 0],), ([0, 0],), ([0, 0],), ([0, 0],), ([0, 0],), ([0, 0],), ([0, 0],), ([0, 0],), ([0, 0],), ([0, 0],), ([0, 0],), ([0, 0],), ([0, 0],), ([0, 0],), ([0, 0],), ([0, 0],), ([0, 0],), ([0, 0],), ([0, 0],), ([0, 0],), ([0, 0],), ([0, 0],), ([0, 0],), ([0, 0],), ([0, 0],), ([0, 0],), ([0, 0],), ([0, 0],), ([0, 0],), ([0, 0],), ([0, 0],), ([0, 0],), ([0, 0],), ([0, 0],), ([0, 0],), ([0, 0],), ([0, 0],), ([0, 0],), ([0, 0],), ([0, 0],), ([0, 0],), ([0, 0],), ([0, 0],), ([0, 0],), ([0, 0],), ([0, 0],), ([0, 0],), ([0, 0],), ([0, 0],), ([0, 0],), ([0, 0],), ([0, 0],), ([0, 0],), ([0, 0],), ([0, 0],), ([0, 0],), ([0, 0],), ([0, 0],), ([0, 0],), ([0, 0],), ([0, 0],), ([0, 0],), ([0, 0],), ([0, 0],), ([0, 0],), ([0, 0],), ([0, 0],), ([0, 0],), ([0, 0],), ([0, 0],), ([0, 0],), ([0, 0],), ([0, 0],), ([0, 0],), ([0, 0],), ([0, 0],), ([0, 0],), ([0, 0],), ([0, 0],), ([0, 0],), ([0, 0],), ([0, 0],), ([0, 0],), ([0, 0],), ([0, 0],), ([0, 0],), ([0, 0],), ([0, 0],), ([0, 0],), ([0, 0],), ([0, 0],), ([0, 0],), ([0, 0],), ([0, 0],), ([0, 0],), ([0, 0],), ([0, 0],), ([0, 0],), ([0, 0],), ([0, 0],), ([0, 0],), ([0, 0],), ([0, 0],), ([0, 0],), ([0, 0],), ([0, 0],), ([0, 0],), ([0, 0],), ([0, 0],), ([0, 0],), ([0, 0],), ([0, 0],), ([0, 0],), ([0, 0],), ([0, 0],), ([0, 0],), ([0, 0],), ([0, 0],), ([0, 0],), ([0, 0],), ([0, 0],), ([0, 0],), ([0, 0],), ([0, 0],), ([0, 0],), ([0, 0],), ([0, 0],), ([0, 0],), ([0, 0],), ([0, 0],), ([0, 0],), ([0, 0],), ([0, 0],), ([0, 0],), ([0, 0],), ([0, 0],), ([0, 0],), ([0, 0],), ([0, 0],), ([0, 0],), ([0, 0],), ([0, 0],), ([0, 0],), ([0, 0],), ([0, 0],), ([0, 0],), ([0, 0],), ([0, 0],), ([0, 0],), ([0, 0],), ([0, 0],), ([0, 1],), ([0, 0],), ([0, 0],), ([0, 0],), ([0, 0],), ([0, 0],), ([0, 0],), ([0, 0],), ([0, 0],), ([0, 0],), ([0, 0],), ([0, 0],), ([0, 0],), ([0, 0],), ([0, 0],), ([0, 0],), ([0, 0],), ([0, 0],), ([0, 0],), ([0, 0],), ([0, 0],), ([0, 0],), ([0, 0],), ([0, 0],), ([0, 0],), ([0, 0],), ([0, 0],), ([0, 0],), ([0, 0],), ([0, 0],), ([0, 0],), ([0, 0],), ([0, 0],), ([0, 0],), ([0, 0],), ([0, 0],), ([0, 0],), ([0, 0],), ([0, 0],), ([0, 0],), ([0, 0],), ([0, 0],), ([0, 0],), ([0, 0],), ([0, 0],), ([0, 0],), ([0, 0],), ([0, 0],), ([0, 0],), ([0, 0],), ([0, 0],), ([0, 0],), ([0, 0],), ([0, 0],), ([0, 0],), ([0, 0],), ([0, 0],), ([0, 0],), ([0, 0],), ([0, 0],), ([0, 0],), ([0, 0],), ([0, 0],), ([0, 0],), ([0, 0],), ([0, 0],), ([0, 0],), ([0, 0],), ([0, 0],), ([0, 0],), ([0, 0],), ([0, 0],), ([0, 0],), ([0, 0],), ([0, 0],), ([0, 0],), ([0, 0],), ([0, 0],), ([0, 0],), ([0, 0],), ([0, 0],), ([0, 0],), ([0, 0],), ([0, 0],), ([0, 0],), ([0, 0],), ([0, 0],), ([0, 0],), ([0, 0],), ([0, 0],), ([0, 0],), ([0, 0],), ([0, 0],), ([0, 0],), ([0, 0],), ([0, 0],), ([0, 0],), ([0, 0],), ([0, 0],), ([0, 0],), ([0, 0],), ([0, 0],), ([0, 0],), ([0, 0],), ([0, 0],), ([0, 0],), ([0, 0],), ([0, 0],), ([0, 0],), ([0, 0],), ([0, 0],), ([0, 0],), ([0, 0],), ([0, 0],), ([0, 0],), ([0, 0],), ([0, 0],), ([0, 0],), ([0, 0],), ([0, 0],), ([0, 0],), ([0, 0],), ([0, 0],), ([0, 0],), ([0, 0],), ([0, 0],), ([0, 0],), ([0, 0],), ([0, 0],), ([0, 0],), ([0, 0],), ([0, 0],), ([0, 0],), ([0, 0],), ([0, 0],), ([0, 0],), ([0, 0],), ([0, 0],), ([0, 0],), ([0, 0],), ([0, 0],), ([0, 0],), ([0, 0],), ([0, 0],), ([0, 0],), ([0, 0],), ([0, 0],), ([0, 0],), ([0, 0],), ([0, 0],), ([0, 0],), ([0, 0],), ([0, 0],), ([0, 0],), ([0, 0],), ([0, 0],), ([0, 0],), ([0, 0],), ([0, 0],), ([0, 0],), ([0, 0],), ([0, 0],), ([0, 0],), ([0, 0],), ([0, 0],), ([0, 0],), ([0, 0],), ([0, 0],), ([0, 0],), ([0, 0],), ([0, 0],), ([0, 0],), ([0, 0],), ([0, 0],), ([0, 0],), ([0, 0],), ([0, 0],), ([0, 0],), ([0, 0],), ([0, 0],), ([0, 0],), ([0, 0],), ([0, 0],), ([0, 0],), ([0, 0],), ([0, 0],), ([0, 0],), ([0, 0],), ([0, 0],), ([0, 0],), ([0, 0],), ([0, 0],), ([0, 0],), ([0, 0],), ([0, 0],), ([0, 0],), ([0, 0],), ([0, 0],), ([0, 0],), ([0, 0],), ([0, 0],), ([0, 0],), ([0, 0],), ([0, 0],), ([0, 0],), ([0, 0],), ([0, 0],), ([0, 0],), ([0, 0],), ([0, 0],), ([0, 0],), ([0, 0],), ([0, 0],), ([0, 0],), ([0, 0],), ([0, 0],), ([0, 0],), ([0, 0],), ([0, 0],), ([0, 0],), ([0, 0],), ([0, 0],), ([0, 0],), ([0, 0],), ([0, 0],), ([0, 0],), ([0, 0],), ([0, 0],), ([0, 0],), ([0, 0],), ([0, 0],), ([0, 0],), ([0, 0],), ([0, 0],), ([0, 0],), ([0, 0],), ([0, 0],), ([0, 0],), ([0, 0],), ([0, 0],), ([0, 0],), ([0, 0],), ([0, 0],), ([0, 0],), ([0, 0],), ([0, 0],), ([0, 0],), ([0, 0],), ([0, 0],), ([0, 0],), ([0, 0],), ([0, 0],), ([0, 0],), ([0, 0],), ([0, 0],), ([0, 0],), ([0, 0],), ([0, 0],), ([0, 0],), ([0, 0],), ([0, 0],), ([0, 0],), ([0, 0],), ([0, 0],), ([0, 0],), ([0, 0],), ([0, 0],), ([0, 0],), ([0, 0],), ([0, 0],), ([0, 0],), ([0, 0],), ([0, 0],), ([0, 0],), ([0, 0],), ([0, 0],), ([0, 0],), ([0, 0],), ([0, 0],), ([0, 0],), ([0, 0],), ([0, 0],), ([0, 0],), ([0, 0],), ([0, 0],), ([0, 0],), ([0, 0],), ([0, 0],), ([0, 0],), ([0, 0],), ([0, 0],), ([0, 0],), ([0, 0],), ([0, 0],), ([0, 0],), ([0, 0],), ([0, 0],), ([0, 0],), ([0, 0],), ([0, 0],), ([0, 0],), ([0, 0],), ([0, 0],), ([0, 0],), ([0, 0],), ([0, 0],), ([0, 0],), ([0, 0],), ([0, 0],), ([0, 0],), ([0, 0],), ([0, 0],), ([0, 0],), ([0, 0],), ([0, 0],), ([0, 0],), ([0, 0],), ([0, 0],), ([0, 0],), ([0, 0],), ([0, 0],), ([0, 0],), ([0, 0],), ([0, 0],), ([0, 0],), ([0, 0],), ([0, 0],), ([0, 0],), ([0, 0],), ([0, 0],), ([0, 0],), ([0, 0],), ([0, 0],), ([0, 0],), ([0, 0],), ([0, 0],), ([0, 0],), ([0, 0],), ([0, 0],), ([0, 0],), ([0, 0],), ([0, 0],), ([0, 0],), ([0, 0],), ([0, 0],), ([0, 0],), ([0, 0],), ([0, 0],), ([0, 0],), ([0, 0],), ([0, 0],), ([0, 0],), ([0, 0],), ([0, 0],), ([0, 0],), ([0, 0],), ([0, 0],), ([0, 0],), ([0, 0],), ([0, 0],), ([0, 0],), ([0, 0],), ([0, 0],), ([0, 0],), ([0, 0],), ([0, 0],), ([0, 0],), ([0, 0],), ([0, 0],), ([0, 0],), ([0, 0],), ([0, 0],), ([0, 0],), ([0, 0],), ([0, 0],), ([0, 0],), ([0, 0],), ([0, 0],), ([0, 0],), ([0, 0],), ([0, 0],), ([0, 0],), ([0, 0],), ([0, 0],), ([0, 0],), ([0, 0],), ([0, 0],), ([0, 0],), ([0, 0],), ([0, 0],), ([0, 0],), ([0, 0],), ([0, 0],), ([0, 0],), ([0, 0],), ([0, 0],), ([0, 0],), ([0, 0],), ([0, 0],), ([0, 0],), ([0, 0],), ([0, 0],), ([0, 0],), ([0, 0],), ([0, 0],), ([0, 0],), ([0, 0],), ([0, 0],), ([0, 0],), ([0, 0],), ([0, 0],), ([0, 0],), ([0, 0],), ([0, 0],), ([0, 0],), ([0, 0],), ([0, 0],), ([0, 0],), ([0, 0],), ([0, 0],), ([0, 0],), ([0, 0],), ([0, 0],), ([0, 0],), ([0, 0],), ([0, 0],), ([0, 0],), ([0, 0],), ([0, 0],), ([0, 0],), ([0, 0],), ([0, 0],), ([0, 0],), ([0, 0],), ([0, 0],), ([0, 0],), ([0, 0],), ([0, 0],), ([0, 0],), ([0, 0],), ([0, 0],), ([0, 0],), ([0, 0],), ([0, 0],), ([0, 0],), ([0, 0],), ([0, 0],), ([0, 0],), ([0, 0],), ([0, 0],), ([0, 0],), ([0, 0],), ([0, 0],), ([0, 0],), ([0, 0],), ([0, 0],), ([0, 0],), ([0, 0],), ([0, 0],), ([0, 0],), ([0, 0],), ([0, 0],), ([0, 0],), ([0, 0],), ([0, 0],), ([0, 0],), ([0, 0],), ([0, 0],), ([0, 0],), ([0, 0],), ([0, 0],), ([0, 0],), ([0, 0],), ([0, 0],), ([0, 0],), ([0, 0],), ([0, 0],), ([0, 0],), ([0, 0],), ([0, 0],), ([0, 0],), ([0, 0],), ([0, 0],), ([0, 0],), ([0, 0],), ([0, 0],), ([0, 0],), ([0, 0],), ([0, 0],), ([0, 0],), ([0, 0],), ([0, 0],), ([0, 0],), ([0, 0],), ([0, 0],), ([0, 0],), ([0, 0],), ([0, 0],), ([0, 0],), ([0, 0],), ([0, 0],), ([0, 0],), ([0, 0],), ([0, 0],), ([0, 0],), ([0, 0],), ([0, 0],), ([0, 0],), ([0, 0],))], \n",
       "      dtype=[('AB0085-C', [('genotype', 'i1', (2,))]), ('AB0087-C', [('genotype', 'i1', (2,))]), ('AB0088-C', [('genotype', 'i1', (2,))]), ('AB0089-C', [('genotype', 'i1', (2,))]), ('AB0090-C', [('genotype', 'i1', (2,))]), ('AB0091-C', [('genotype', 'i1', (2,))]), ('AB0092-C', [('genotype', 'i1', (2,))]), ('AB0094-C', [('genotype', 'i1', (2,))]), ('AB0095-C', [('genotype', 'i1', (2,))]), ('AB0097-C', [('genotype', 'i1', (2,))]), ('AB0098-C', [('genotype', 'i1', (2,))]), ('AB0099-C', [('genotype', 'i1', (2,))]), ('AB0100-C', [('genotype', 'i1', (2,))]), ('AB0101-C', [('genotype', 'i1', (2,))]), ('AB0103-C', [('genotype', 'i1', (2,))]), ('AB0104-C', [('genotype', 'i1', (2,))]), ('AB0109-C', [('genotype', 'i1', (2,))]), ('AB0110-C', [('genotype', 'i1', (2,))]), ('AB0111-C', [('genotype', 'i1', (2,))]), ('AB0112-C', [('genotype', 'i1', (2,))]), ('AB0113-C', [('genotype', 'i1', (2,))]), ('AB0114-C', [('genotype', 'i1', (2,))]), ('AB0117-C', [('genotype', 'i1', (2,))]), ('AB0119-C', [('genotype', 'i1', (2,))]), ('AB0122-C', [('genotype', 'i1', (2,))]), ('AB0123-C', [('genotype', 'i1', (2,))]), ('AB0124-C', [('genotype', 'i1', (2,))]), ('AB0126-C', [('genotype', 'i1', (2,))]), ('AB0127-C', [('genotype', 'i1', (2,))]), ('AB0128-C', [('genotype', 'i1', (2,))]), ('AB0129-C', [('genotype', 'i1', (2,))]), ('AB0130-C', [('genotype', 'i1', (2,))]), ('AB0133-C', [('genotype', 'i1', (2,))]), ('AB0134-C', [('genotype', 'i1', (2,))]), ('AB0135-C', [('genotype', 'i1', (2,))]), ('AB0136-C', [('genotype', 'i1', (2,))]), ('AB0137-C', [('genotype', 'i1', (2,))]), ('AB0138-C', [('genotype', 'i1', (2,))]), ('AB0139-C', [('genotype', 'i1', (2,))]), ('AB0140-C', [('genotype', 'i1', (2,))]), ('AB0142-C', [('genotype', 'i1', (2,))]), ('AB0143-C', [('genotype', 'i1', (2,))]), ('AB0145-C', [('genotype', 'i1', (2,))]), ('AB0146-C', [('genotype', 'i1', (2,))]), ('AB0147-C', [('genotype', 'i1', (2,))]), ('AB0148-C', [('genotype', 'i1', (2,))]), ('AB0151-C', [('genotype', 'i1', (2,))]), ('AB0153-C', [('genotype', 'i1', (2,))]), ('AB0155-C', [('genotype', 'i1', (2,))]), ('AB0157-C', [('genotype', 'i1', (2,))]), ('AB0158-C', [('genotype', 'i1', (2,))]), ('AB0159-C', [('genotype', 'i1', (2,))]), ('AB0160-C', [('genotype', 'i1', (2,))]), ('AB0161-C', [('genotype', 'i1', (2,))]), ('AB0164-C', [('genotype', 'i1', (2,))]), ('AB0166-C', [('genotype', 'i1', (2,))]), ('AB0169-C', [('genotype', 'i1', (2,))]), ('AB0170-C', [('genotype', 'i1', (2,))]), ('AB0171-C', [('genotype', 'i1', (2,))]), ('AB0172-C', [('genotype', 'i1', (2,))]), ('AB0173-C', [('genotype', 'i1', (2,))]), ('AB0174-C', [('genotype', 'i1', (2,))]), ('AB0175-C', [('genotype', 'i1', (2,))]), ('AB0176-C', [('genotype', 'i1', (2,))]), ('AB0177-C', [('genotype', 'i1', (2,))]), ('AB0178-C', [('genotype', 'i1', (2,))]), ('AB0179-C', [('genotype', 'i1', (2,))]), ('AB0181-C', [('genotype', 'i1', (2,))]), ('AB0182-C', [('genotype', 'i1', (2,))]), ('AB0183-C', [('genotype', 'i1', (2,))]), ('AB0184-C', [('genotype', 'i1', (2,))]), ('AB0185-C', [('genotype', 'i1', (2,))]), ('AB0186-C', [('genotype', 'i1', (2,))]), ('AB0187-C', [('genotype', 'i1', (2,))]), ('AB0188-C', [('genotype', 'i1', (2,))]), ('AB0189-C', [('genotype', 'i1', (2,))]), ('AB0190-C', [('genotype', 'i1', (2,))]), ('AB0191-C', [('genotype', 'i1', (2,))]), ('AB0192-C', [('genotype', 'i1', (2,))]), ('AB0197-C', [('genotype', 'i1', (2,))]), ('AB0198-C', [('genotype', 'i1', (2,))]), ('AB0199-C', [('genotype', 'i1', (2,))]), ('AB0201-C', [('genotype', 'i1', (2,))]), ('AB0202-C', [('genotype', 'i1', (2,))]), ('AB0203-C', [('genotype', 'i1', (2,))]), ('AB0204-C', [('genotype', 'i1', (2,))]), ('AB0205-C', [('genotype', 'i1', (2,))]), ('AB0206-C', [('genotype', 'i1', (2,))]), ('AB0207-C', [('genotype', 'i1', (2,))]), ('AB0208-C', [('genotype', 'i1', (2,))]), ('AB0209-C', [('genotype', 'i1', (2,))]), ('AB0210-C', [('genotype', 'i1', (2,))]), ('AB0211-C', [('genotype', 'i1', (2,))]), ('AB0212-C', [('genotype', 'i1', (2,))]), ('AB0213-C', [('genotype', 'i1', (2,))]), ('AB0217-C', [('genotype', 'i1', (2,))]), ('AB0219-C', [('genotype', 'i1', (2,))]), ('AB0221-C', [('genotype', 'i1', (2,))]), ('AB0222-C', [('genotype', 'i1', (2,))]), ('AB0223-C', [('genotype', 'i1', (2,))]), ('AB0224-C', [('genotype', 'i1', (2,))]), ('AB0226-C', [('genotype', 'i1', (2,))]), ('AB0227-C', [('genotype', 'i1', (2,))]), ('AB0228-C', [('genotype', 'i1', (2,))]), ('AB0229-C', [('genotype', 'i1', (2,))]), ('AB0231-C', [('genotype', 'i1', (2,))]), ('AB0233-C', [('genotype', 'i1', (2,))]), ('AB0234-C', [('genotype', 'i1', (2,))]), ('AB0235-C', [('genotype', 'i1', (2,))]), ('AB0236-C', [('genotype', 'i1', (2,))]), ('AB0237-C', [('genotype', 'i1', (2,))]), ('AB0238-C', [('genotype', 'i1', (2,))]), ('AB0239-C', [('genotype', 'i1', (2,))]), ('AB0240-C', [('genotype', 'i1', (2,))]), ('AB0241-C', [('genotype', 'i1', (2,))]), ('AB0242-C', [('genotype', 'i1', (2,))]), ('AB0243-C', [('genotype', 'i1', (2,))]), ('AB0244-C', [('genotype', 'i1', (2,))]), ('AB0246-C', [('genotype', 'i1', (2,))]), ('AB0249-C', [('genotype', 'i1', (2,))]), ('AB0250-C', [('genotype', 'i1', (2,))]), ('AB0251-C', [('genotype', 'i1', (2,))]), ('AB0252-C', [('genotype', 'i1', (2,))]), ('AB0253-C', [('genotype', 'i1', (2,))]), ('AB0256-C', [('genotype', 'i1', (2,))]), ('AB0257-C', [('genotype', 'i1', (2,))]), ('AB0258-C', [('genotype', 'i1', (2,))]), ('AB0260-C', [('genotype', 'i1', (2,))]), ('AB0261-C', [('genotype', 'i1', (2,))]), ('AB0262-C', [('genotype', 'i1', (2,))]), ('AB0263-C', [('genotype', 'i1', (2,))]), ('AB0264-C', [('genotype', 'i1', (2,))]), ('AB0265-C', [('genotype', 'i1', (2,))]), ('AB0266-C', [('genotype', 'i1', (2,))]), ('AB0267-C', [('genotype', 'i1', (2,))]), ('AB0268-C', [('genotype', 'i1', (2,))]), ('AB0270-C', [('genotype', 'i1', (2,))]), ('AB0271-C', [('genotype', 'i1', (2,))]), ('AB0272-C', [('genotype', 'i1', (2,))]), ('AB0273-C', [('genotype', 'i1', (2,))]), ('AB0274-C', [('genotype', 'i1', (2,))]), ('AB0276-C', [('genotype', 'i1', (2,))]), ('AB0277-C', [('genotype', 'i1', (2,))]), ('AB0278-C', [('genotype', 'i1', (2,))]), ('AB0279-C', [('genotype', 'i1', (2,))]), ('AB0280-C', [('genotype', 'i1', (2,))]), ('AB0281-C', [('genotype', 'i1', (2,))]), ('AB0282-C', [('genotype', 'i1', (2,))]), ('AB0283-C', [('genotype', 'i1', (2,))]), ('AB0284-C', [('genotype', 'i1', (2,))]), ('AC0090-C', [('genotype', 'i1', (2,))]), ('AC0091-C', [('genotype', 'i1', (2,))]), ('AC0092-C', [('genotype', 'i1', (2,))]), ('AC0093-C', [('genotype', 'i1', (2,))]), ('AC0094-C', [('genotype', 'i1', (2,))]), ('AC0095-C', [('genotype', 'i1', (2,))]), ('AC0096-C', [('genotype', 'i1', (2,))]), ('AC0097-C', [('genotype', 'i1', (2,))]), ('AC0098-C', [('genotype', 'i1', (2,))]), ('AC0099-C', [('genotype', 'i1', (2,))]), ('AC0100-C', [('genotype', 'i1', (2,))]), ('AC0101-C', [('genotype', 'i1', (2,))]), ('AC0102-C', [('genotype', 'i1', (2,))]), ('AC0103-C', [('genotype', 'i1', (2,))]), ('AC0104-C', [('genotype', 'i1', (2,))]), ('AC0106-C', [('genotype', 'i1', (2,))]), ('AC0107-C', [('genotype', 'i1', (2,))]), ('AC0108-C', [('genotype', 'i1', (2,))]), ('AC0109-C', [('genotype', 'i1', (2,))]), ('AC0110-C', [('genotype', 'i1', (2,))]), ('AC0111-C', [('genotype', 'i1', (2,))]), ('AC0112-C', [('genotype', 'i1', (2,))]), ('AC0113-C', [('genotype', 'i1', (2,))]), ('AC0114-C', [('genotype', 'i1', (2,))]), ('AC0115-C', [('genotype', 'i1', (2,))]), ('AC0116-C', [('genotype', 'i1', (2,))]), ('AC0117-C', [('genotype', 'i1', (2,))]), ('AC0118-C', [('genotype', 'i1', (2,))]), ('AC0119-C', [('genotype', 'i1', (2,))]), ('AC0120-C', [('genotype', 'i1', (2,))]), ('AC0121-C', [('genotype', 'i1', (2,))]), ('AC0122-C', [('genotype', 'i1', (2,))]), ('AC0123-C', [('genotype', 'i1', (2,))]), ('AC0124-C', [('genotype', 'i1', (2,))]), ('AC0125-C', [('genotype', 'i1', (2,))]), ('AC0126-C', [('genotype', 'i1', (2,))]), ('AC0127-C', [('genotype', 'i1', (2,))]), ('AC0128-C', [('genotype', 'i1', (2,))]), ('AC0129-C', [('genotype', 'i1', (2,))]), ('AC0130-C', [('genotype', 'i1', (2,))]), ('AC0131-C', [('genotype', 'i1', (2,))]), ('AC0132-C', [('genotype', 'i1', (2,))]), ('AC0133-C', [('genotype', 'i1', (2,))]), ('AC0135-C', [('genotype', 'i1', (2,))]), ('AC0136-C', [('genotype', 'i1', (2,))]), ('AC0137-C', [('genotype', 'i1', (2,))]), ('AC0138-C', [('genotype', 'i1', (2,))]), ('AC0139-C', [('genotype', 'i1', (2,))]), ('AC0140-C', [('genotype', 'i1', (2,))]), ('AC0142-C', [('genotype', 'i1', (2,))]), ('AC0143-C', [('genotype', 'i1', (2,))]), ('AC0144-C', [('genotype', 'i1', (2,))]), ('AC0145-C', [('genotype', 'i1', (2,))]), ('AC0147-C', [('genotype', 'i1', (2,))]), ('AC0148-C', [('genotype', 'i1', (2,))]), ('AC0149-C', [('genotype', 'i1', (2,))]), ('AC0150-C', [('genotype', 'i1', (2,))]), ('AC0151-C', [('genotype', 'i1', (2,))]), ('AC0152-C', [('genotype', 'i1', (2,))]), ('AC0153-C', [('genotype', 'i1', (2,))]), ('AC0154-C', [('genotype', 'i1', (2,))]), ('AC0156-C', [('genotype', 'i1', (2,))]), ('AC0158-C', [('genotype', 'i1', (2,))]), ('AC0159-C', [('genotype', 'i1', (2,))]), ('AC0160-C', [('genotype', 'i1', (2,))]), ('AC0161-C', [('genotype', 'i1', (2,))]), ('AC0162-C', [('genotype', 'i1', (2,))]), ('AC0163-C', [('genotype', 'i1', (2,))]), ('AC0164-C', [('genotype', 'i1', (2,))]), ('AC0166-C', [('genotype', 'i1', (2,))]), ('AC0167-C', [('genotype', 'i1', (2,))]), ('AC0168-C', [('genotype', 'i1', (2,))]), ('AC0169-C', [('genotype', 'i1', (2,))]), ('AC0170-C', [('genotype', 'i1', (2,))]), ('AC0171-C', [('genotype', 'i1', (2,))]), ('AC0172-C', [('genotype', 'i1', (2,))]), ('AC0173-C', [('genotype', 'i1', (2,))]), ('AC0174-C', [('genotype', 'i1', (2,))]), ('AC0176-C', [('genotype', 'i1', (2,))]), ('AC0178-C', [('genotype', 'i1', (2,))]), ('AC0179-C', [('genotype', 'i1', (2,))]), ('AC0180-C', [('genotype', 'i1', (2,))]), ('AC0181-C', [('genotype', 'i1', (2,))]), ('AC0182-C', [('genotype', 'i1', (2,))]), ('AC0183-C', [('genotype', 'i1', (2,))]), ('AC0184-C', [('genotype', 'i1', (2,))]), ('AC0186-C', [('genotype', 'i1', (2,))]), ('AC0187-C', [('genotype', 'i1', (2,))]), ('AC0188-C', [('genotype', 'i1', (2,))]), ('AC0189-C', [('genotype', 'i1', (2,))]), ('AC0190-C', [('genotype', 'i1', (2,))]), ('AC0191-C', [('genotype', 'i1', (2,))]), ('AC0192-C', [('genotype', 'i1', (2,))]), ('AC0193-C', [('genotype', 'i1', (2,))]), ('AC0194-C', [('genotype', 'i1', (2,))]), ('AC0195-C', [('genotype', 'i1', (2,))]), ('AC0196-C', [('genotype', 'i1', (2,))]), ('AC0197-C', [('genotype', 'i1', (2,))]), ('AC0199-C', [('genotype', 'i1', (2,))]), ('AC0200-C', [('genotype', 'i1', (2,))]), ('AC0201-C', [('genotype', 'i1', (2,))]), ('AC0202-C', [('genotype', 'i1', (2,))]), ('AC0203-C', [('genotype', 'i1', (2,))]), ('AJ0023-C', [('genotype', 'i1', (2,))]), ('AJ0024-C', [('genotype', 'i1', (2,))]), ('AJ0032-C', [('genotype', 'i1', (2,))]), ('AJ0035-C', [('genotype', 'i1', (2,))]), ('AJ0036-C', [('genotype', 'i1', (2,))]), ('AJ0039-C', [('genotype', 'i1', (2,))]), ('AJ0043-C', [('genotype', 'i1', (2,))]), ('AJ0044-C', [('genotype', 'i1', (2,))]), ('AJ0045-C', [('genotype', 'i1', (2,))]), ('AJ0047-C', [('genotype', 'i1', (2,))]), ('AJ0051-C', [('genotype', 'i1', (2,))]), ('AJ0052-C', [('genotype', 'i1', (2,))]), ('AJ0056-C', [('genotype', 'i1', (2,))]), ('AJ0061-C', [('genotype', 'i1', (2,))]), ('AJ0063-C', [('genotype', 'i1', (2,))]), ('AJ0064-C', [('genotype', 'i1', (2,))]), ('AJ0066-C', [('genotype', 'i1', (2,))]), ('AJ0070-C', [('genotype', 'i1', (2,))]), ('AJ0071-C', [('genotype', 'i1', (2,))]), ('AJ0072-C', [('genotype', 'i1', (2,))]), ('AJ0074-C', [('genotype', 'i1', (2,))]), ('AJ0075-C', [('genotype', 'i1', (2,))]), ('AJ0076-C', [('genotype', 'i1', (2,))]), ('AJ0077-C', [('genotype', 'i1', (2,))]), ('AJ0078-C', [('genotype', 'i1', (2,))]), ('AJ0081-C', [('genotype', 'i1', (2,))]), ('AJ0084-C', [('genotype', 'i1', (2,))]), ('AJ0085-C', [('genotype', 'i1', (2,))]), ('AJ0086-C', [('genotype', 'i1', (2,))]), ('AJ0088-C', [('genotype', 'i1', (2,))]), ('AJ0090-C', [('genotype', 'i1', (2,))]), ('AJ0092-C', [('genotype', 'i1', (2,))]), ('AJ0093-C', [('genotype', 'i1', (2,))]), ('AJ0096-C', [('genotype', 'i1', (2,))]), ('AJ0097-C', [('genotype', 'i1', (2,))]), ('AJ0098-C', [('genotype', 'i1', (2,))]), ('AJ0100-C', [('genotype', 'i1', (2,))]), ('AJ0101-C', [('genotype', 'i1', (2,))]), ('AJ0102-C', [('genotype', 'i1', (2,))]), ('AJ0103-C', [('genotype', 'i1', (2,))]), ('AJ0105-C', [('genotype', 'i1', (2,))]), ('AJ0107-C', [('genotype', 'i1', (2,))]), ('AJ0109-C', [('genotype', 'i1', (2,))]), ('AJ0113-C', [('genotype', 'i1', (2,))]), ('AJ0115-C', [('genotype', 'i1', (2,))]), ('AJ0116-C', [('genotype', 'i1', (2,))]), ('AK0065-C', [('genotype', 'i1', (2,))]), ('AK0066-C', [('genotype', 'i1', (2,))]), ('AK0067-C', [('genotype', 'i1', (2,))]), ('AK0068-C', [('genotype', 'i1', (2,))]), ('AK0069-C', [('genotype', 'i1', (2,))]), ('AK0070-C', [('genotype', 'i1', (2,))]), ('AK0072-C', [('genotype', 'i1', (2,))]), ('AK0073-C', [('genotype', 'i1', (2,))]), ('AK0074-C', [('genotype', 'i1', (2,))]), ('AK0075-C', [('genotype', 'i1', (2,))]), ('AK0076-C', [('genotype', 'i1', (2,))]), ('AK0077-C', [('genotype', 'i1', (2,))]), ('AK0078-C', [('genotype', 'i1', (2,))]), ('AK0079-C', [('genotype', 'i1', (2,))]), ('AK0080-C', [('genotype', 'i1', (2,))]), ('AK0081-C', [('genotype', 'i1', (2,))]), ('AK0082-C', [('genotype', 'i1', (2,))]), ('AK0085-C', [('genotype', 'i1', (2,))]), ('AK0086-C', [('genotype', 'i1', (2,))]), ('AK0087-C', [('genotype', 'i1', (2,))]), ('AK0088-C', [('genotype', 'i1', (2,))]), ('AK0089-C', [('genotype', 'i1', (2,))]), ('AK0090-C', [('genotype', 'i1', (2,))]), ('AK0091-C', [('genotype', 'i1', (2,))]), ('AK0092-C', [('genotype', 'i1', (2,))]), ('AK0093-C', [('genotype', 'i1', (2,))]), ('AK0094-C', [('genotype', 'i1', (2,))]), ('AK0095-C', [('genotype', 'i1', (2,))]), ('AK0096-C', [('genotype', 'i1', (2,))]), ('AK0098-C', [('genotype', 'i1', (2,))]), ('AK0099-C', [('genotype', 'i1', (2,))]), ('AK0100-C', [('genotype', 'i1', (2,))]), ('AK0101-C', [('genotype', 'i1', (2,))]), ('AK0102-C', [('genotype', 'i1', (2,))]), ('AK0103-C', [('genotype', 'i1', (2,))]), ('AK0104-C', [('genotype', 'i1', (2,))]), ('AK0105-C', [('genotype', 'i1', (2,))]), ('AK0106-C', [('genotype', 'i1', (2,))]), ('AK0108-C', [('genotype', 'i1', (2,))]), ('AK0109-C', [('genotype', 'i1', (2,))]), ('AK0110-C', [('genotype', 'i1', (2,))]), ('AK0116-C', [('genotype', 'i1', (2,))]), ('AK0119-C', [('genotype', 'i1', (2,))]), ('AK0127-C', [('genotype', 'i1', (2,))]), ('AN0007-C', [('genotype', 'i1', (2,))]), ('AN0008-C', [('genotype', 'i1', (2,))]), ('AN0009-C', [('genotype', 'i1', (2,))]), ('AN0010-C', [('genotype', 'i1', (2,))]), ('AN0011-C', [('genotype', 'i1', (2,))]), ('AN0012-C', [('genotype', 'i1', (2,))]), ('AN0014-C', [('genotype', 'i1', (2,))]), ('AN0016-C', [('genotype', 'i1', (2,))]), ('AN0017-C', [('genotype', 'i1', (2,))]), ('AN0018-C', [('genotype', 'i1', (2,))]), ('AN0019-C', [('genotype', 'i1', (2,))]), ('AN0020-C', [('genotype', 'i1', (2,))]), ('AN0022-C', [('genotype', 'i1', (2,))]), ('AN0023-C', [('genotype', 'i1', (2,))]), ('AN0024-C', [('genotype', 'i1', (2,))]), ('AN0025-C', [('genotype', 'i1', (2,))]), ('AN0026-C', [('genotype', 'i1', (2,))]), ('AN0027-C', [('genotype', 'i1', (2,))]), ('AN0028-C', [('genotype', 'i1', (2,))]), ('AN0029-C', [('genotype', 'i1', (2,))]), ('AN0030-C', [('genotype', 'i1', (2,))]), ('AN0031-C', [('genotype', 'i1', (2,))]), ('AN0032-C', [('genotype', 'i1', (2,))]), ('AN0033-C', [('genotype', 'i1', (2,))]), ('AN0034-C', [('genotype', 'i1', (2,))]), ('AN0035-C', [('genotype', 'i1', (2,))]), ('AN0036-C', [('genotype', 'i1', (2,))]), ('AN0037-C', [('genotype', 'i1', (2,))]), ('AN0038-C', [('genotype', 'i1', (2,))]), ('AN0039-C', [('genotype', 'i1', (2,))]), ('AN0040-C', [('genotype', 'i1', (2,))]), ('AN0041-C', [('genotype', 'i1', (2,))]), ('AN0042-C', [('genotype', 'i1', (2,))]), ('AN0043-C', [('genotype', 'i1', (2,))]), ('AN0045-C', [('genotype', 'i1', (2,))]), ('AN0046-C', [('genotype', 'i1', (2,))]), ('AN0047-C', [('genotype', 'i1', (2,))]), ('AN0048-C', [('genotype', 'i1', (2,))]), ('AN0049-C', [('genotype', 'i1', (2,))]), ('AN0050-C', [('genotype', 'i1', (2,))]), ('AN0051-C', [('genotype', 'i1', (2,))]), ('AN0053-C', [('genotype', 'i1', (2,))]), ('AN0054-C', [('genotype', 'i1', (2,))]), ('AN0055-C', [('genotype', 'i1', (2,))]), ('AN0056-C', [('genotype', 'i1', (2,))]), ('AN0057-C', [('genotype', 'i1', (2,))]), ('AN0058-C', [('genotype', 'i1', (2,))]), ('AN0059-C', [('genotype', 'i1', (2,))]), ('AN0060-C', [('genotype', 'i1', (2,))]), ('AN0063-C', [('genotype', 'i1', (2,))]), ('AN0064-C', [('genotype', 'i1', (2,))]), ('AN0065-C', [('genotype', 'i1', (2,))]), ('AN0066-C', [('genotype', 'i1', (2,))]), ('AN0067-C', [('genotype', 'i1', (2,))]), ('AN0068-C', [('genotype', 'i1', (2,))]), ('AN0069-C', [('genotype', 'i1', (2,))]), ('AN0070-C', [('genotype', 'i1', (2,))]), ('AN0071-C', [('genotype', 'i1', (2,))]), ('AN0072-C', [('genotype', 'i1', (2,))]), ('AN0073-C', [('genotype', 'i1', (2,))]), ('AN0074-C', [('genotype', 'i1', (2,))]), ('AN0075-C', [('genotype', 'i1', (2,))]), ('AN0076-C', [('genotype', 'i1', (2,))]), ('AN0077-C', [('genotype', 'i1', (2,))]), ('AN0079-C', [('genotype', 'i1', (2,))]), ('AN0080-C', [('genotype', 'i1', (2,))]), ('AN0081-C', [('genotype', 'i1', (2,))]), ('AN0082-C', [('genotype', 'i1', (2,))]), ('AN0083-C', [('genotype', 'i1', (2,))]), ('AN0084-C', [('genotype', 'i1', (2,))]), ('AN0085-C', [('genotype', 'i1', (2,))]), ('AN0086-C', [('genotype', 'i1', (2,))]), ('AN0087-C', [('genotype', 'i1', (2,))]), ('AN0088-C', [('genotype', 'i1', (2,))]), ('AN0089-C', [('genotype', 'i1', (2,))]), ('AN0090-C', [('genotype', 'i1', (2,))]), ('AN0091-C', [('genotype', 'i1', (2,))]), ('AN0092-C', [('genotype', 'i1', (2,))]), ('AN0093-C', [('genotype', 'i1', (2,))]), ('AN0094-C', [('genotype', 'i1', (2,))]), ('AN0095-C', [('genotype', 'i1', (2,))]), ('AN0096-C', [('genotype', 'i1', (2,))]), ('AN0097-C', [('genotype', 'i1', (2,))]), ('AN0098-C', [('genotype', 'i1', (2,))]), ('AN0099-C', [('genotype', 'i1', (2,))]), ('AN0100-C', [('genotype', 'i1', (2,))]), ('AN0101-C', [('genotype', 'i1', (2,))]), ('AN0102-C', [('genotype', 'i1', (2,))]), ('AN0103-C', [('genotype', 'i1', (2,))]), ('AN0104-C', [('genotype', 'i1', (2,))]), ('AN0105-C', [('genotype', 'i1', (2,))]), ('AN0106-C', [('genotype', 'i1', (2,))]), ('AN0107-C', [('genotype', 'i1', (2,))]), ('AN0108-C', [('genotype', 'i1', (2,))]), ('AN0109-C', [('genotype', 'i1', (2,))]), ('AN0111-C', [('genotype', 'i1', (2,))]), ('AN0112-C', [('genotype', 'i1', (2,))]), ('AN0113-C', [('genotype', 'i1', (2,))]), ('AN0114-C', [('genotype', 'i1', (2,))]), ('AN0115-C', [('genotype', 'i1', (2,))]), ('AN0117-C', [('genotype', 'i1', (2,))]), ('AN0120-C', [('genotype', 'i1', (2,))]), ('AN0121-C', [('genotype', 'i1', (2,))]), ('AN0122-C', [('genotype', 'i1', (2,))]), ('AN0123-C', [('genotype', 'i1', (2,))]), ('AN0124-C', [('genotype', 'i1', (2,))]), ('AN0125-C', [('genotype', 'i1', (2,))]), ('AN0126-C', [('genotype', 'i1', (2,))]), ('AN0127-C', [('genotype', 'i1', (2,))]), ('AN0128-C', [('genotype', 'i1', (2,))]), ('AN0129-C', [('genotype', 'i1', (2,))]), ('AN0130-C', [('genotype', 'i1', (2,))]), ('AN0131-C', [('genotype', 'i1', (2,))]), ('AN0132-C', [('genotype', 'i1', (2,))]), ('AN0134-C', [('genotype', 'i1', (2,))]), ('AN0135-C', [('genotype', 'i1', (2,))]), ('AN0136-C', [('genotype', 'i1', (2,))]), ('AN0137-C', [('genotype', 'i1', (2,))]), ('AN0138-C', [('genotype', 'i1', (2,))]), ('AN0139-C', [('genotype', 'i1', (2,))]), ('AN0140-C', [('genotype', 'i1', (2,))]), ('AN0141-C', [('genotype', 'i1', (2,))]), ('AN0143-C', [('genotype', 'i1', (2,))]), ('AN0147-C', [('genotype', 'i1', (2,))]), ('AN0149-C', [('genotype', 'i1', (2,))]), ('AN0151-C', [('genotype', 'i1', (2,))]), ('AN0152-C', [('genotype', 'i1', (2,))]), ('AN0153-C', [('genotype', 'i1', (2,))]), ('AN0154-C', [('genotype', 'i1', (2,))]), ('AN0155-C', [('genotype', 'i1', (2,))]), ('AN0156-C', [('genotype', 'i1', (2,))]), ('AN0157-C', [('genotype', 'i1', (2,))]), ('AN0158-C', [('genotype', 'i1', (2,))]), ('AN0159-C', [('genotype', 'i1', (2,))]), ('AN0160-C', [('genotype', 'i1', (2,))]), ('AN0162-C', [('genotype', 'i1', (2,))]), ('AN0163-C', [('genotype', 'i1', (2,))]), ('AN0164-C', [('genotype', 'i1', (2,))]), ('AN0165-C', [('genotype', 'i1', (2,))]), ('AN0166-C', [('genotype', 'i1', (2,))]), ('AN0167-C', [('genotype', 'i1', (2,))]), ('AN0168-C', [('genotype', 'i1', (2,))]), ('AN0169-C', [('genotype', 'i1', (2,))]), ('AN0170-C', [('genotype', 'i1', (2,))]), ('AN0171-C', [('genotype', 'i1', (2,))]), ('AN0172-C', [('genotype', 'i1', (2,))]), ('AN0173-C', [('genotype', 'i1', (2,))]), ('AN0174-C', [('genotype', 'i1', (2,))]), ('AN0175-C', [('genotype', 'i1', (2,))]), ('AN0176-C', [('genotype', 'i1', (2,))]), ('AN0177-C', [('genotype', 'i1', (2,))]), ('AN0178-C', [('genotype', 'i1', (2,))]), ('AN0179-C', [('genotype', 'i1', (2,))]), ('AN0180-C', [('genotype', 'i1', (2,))]), ('AN0181-C', [('genotype', 'i1', (2,))]), ('AN0182-C', [('genotype', 'i1', (2,))]), ('AN0183-C', [('genotype', 'i1', (2,))]), ('AN0184-C', [('genotype', 'i1', (2,))]), ('AN0185-C', [('genotype', 'i1', (2,))]), ('AN0186-C', [('genotype', 'i1', (2,))]), ('AN0187-C', [('genotype', 'i1', (2,))]), ('AN0188-C', [('genotype', 'i1', (2,))]), ('AN0189-C', [('genotype', 'i1', (2,))]), ('AN0190-C', [('genotype', 'i1', (2,))]), ('AN0191-C', [('genotype', 'i1', (2,))]), ('AN0192-C', [('genotype', 'i1', (2,))]), ('AN0193-C', [('genotype', 'i1', (2,))]), ('AN0194-C', [('genotype', 'i1', (2,))]), ('AN0196-C', [('genotype', 'i1', (2,))]), ('AN0197-C', [('genotype', 'i1', (2,))]), ('AN0198-C', [('genotype', 'i1', (2,))]), ('AN0199-C', [('genotype', 'i1', (2,))]), ('AN0200-C', [('genotype', 'i1', (2,))]), ('AN0201-C', [('genotype', 'i1', (2,))]), ('AN0202-C', [('genotype', 'i1', (2,))]), ('AN0203-C', [('genotype', 'i1', (2,))]), ('AN0204-C', [('genotype', 'i1', (2,))]), ('AN0205-C', [('genotype', 'i1', (2,))]), ('AN0206-C', [('genotype', 'i1', (2,))]), ('AN0207-C', [('genotype', 'i1', (2,))]), ('AN0208-C', [('genotype', 'i1', (2,))]), ('AN0209-C', [('genotype', 'i1', (2,))]), ('AN0210-C', [('genotype', 'i1', (2,))]), ('AN0212-C', [('genotype', 'i1', (2,))]), ('AN0213-C', [('genotype', 'i1', (2,))]), ('AN0214-C', [('genotype', 'i1', (2,))]), ('AN0215-C', [('genotype', 'i1', (2,))]), ('AN0217-C', [('genotype', 'i1', (2,))]), ('AN0218-C', [('genotype', 'i1', (2,))]), ('AN0219-C', [('genotype', 'i1', (2,))]), ('AN0220-C', [('genotype', 'i1', (2,))]), ('AN0221-C', [('genotype', 'i1', (2,))]), ('AN0222-C', [('genotype', 'i1', (2,))]), ('AN0223-C', [('genotype', 'i1', (2,))]), ('AN0224-C', [('genotype', 'i1', (2,))]), ('AN0225-C', [('genotype', 'i1', (2,))]), ('AN0226-C', [('genotype', 'i1', (2,))]), ('AN0227-C', [('genotype', 'i1', (2,))]), ('AN0228-C', [('genotype', 'i1', (2,))]), ('AN0229-C', [('genotype', 'i1', (2,))]), ('AN0230-C', [('genotype', 'i1', (2,))]), ('AN0231-C', [('genotype', 'i1', (2,))]), ('AN0233-C', [('genotype', 'i1', (2,))]), ('AN0234-C', [('genotype', 'i1', (2,))]), ('AN0235-C', [('genotype', 'i1', (2,))]), ('AN0236-C', [('genotype', 'i1', (2,))]), ('AN0237-C', [('genotype', 'i1', (2,))]), ('AN0238-C', [('genotype', 'i1', (2,))]), ('AN0239-C', [('genotype', 'i1', (2,))]), ('AN0240-C', [('genotype', 'i1', (2,))]), ('AN0241-C', [('genotype', 'i1', (2,))]), ('AN0242-C', [('genotype', 'i1', (2,))]), ('AN0243-C', [('genotype', 'i1', (2,))]), ('AN0244-C', [('genotype', 'i1', (2,))]), ('AN0245-C', [('genotype', 'i1', (2,))]), ('AN0246-C', [('genotype', 'i1', (2,))]), ('AN0247-C', [('genotype', 'i1', (2,))]), ('AN0248-C', [('genotype', 'i1', (2,))]), ('AN0250-C', [('genotype', 'i1', (2,))]), ('AN0251-C', [('genotype', 'i1', (2,))]), ('AN0252-C', [('genotype', 'i1', (2,))]), ('AN0253-C', [('genotype', 'i1', (2,))]), ('AN0254-C', [('genotype', 'i1', (2,))]), ('AN0255-C', [('genotype', 'i1', (2,))]), ('AN0256-C', [('genotype', 'i1', (2,))]), ('AN0258-C', [('genotype', 'i1', (2,))]), ('AN0259-C', [('genotype', 'i1', (2,))]), ('AN0260-C', [('genotype', 'i1', (2,))]), ('AN0261-C', [('genotype', 'i1', (2,))]), ('AN0262-C', [('genotype', 'i1', (2,))]), ('AN0263-C', [('genotype', 'i1', (2,))]), ('AN0264-C', [('genotype', 'i1', (2,))]), ('AN0266-C', [('genotype', 'i1', (2,))]), ('AN0267-C', [('genotype', 'i1', (2,))]), ('AN0268-C', [('genotype', 'i1', (2,))]), ('AN0269-C', [('genotype', 'i1', (2,))]), ('AN0270-C', [('genotype', 'i1', (2,))]), ('AN0272-C', [('genotype', 'i1', (2,))]), ('AN0275-C', [('genotype', 'i1', (2,))]), ('AN0276-C', [('genotype', 'i1', (2,))]), ('AN0277-C', [('genotype', 'i1', (2,))]), ('AN0280-C', [('genotype', 'i1', (2,))]), ('AN0282-C', [('genotype', 'i1', (2,))]), ('AN0283-C', [('genotype', 'i1', (2,))]), ('AN0284-C', [('genotype', 'i1', (2,))]), ('AN0285-C', [('genotype', 'i1', (2,))]), ('AN0286-C', [('genotype', 'i1', (2,))]), ('AN0287-C', [('genotype', 'i1', (2,))]), ('AN0288-C', [('genotype', 'i1', (2,))]), ('AN0290-C', [('genotype', 'i1', (2,))]), ('AN0291-C', [('genotype', 'i1', (2,))]), ('AN0292-C', [('genotype', 'i1', (2,))]), ('AN0294-C', [('genotype', 'i1', (2,))]), ('AN0295-C', [('genotype', 'i1', (2,))]), ('AN0296-C', [('genotype', 'i1', (2,))]), ('AN0297-C', [('genotype', 'i1', (2,))]), ('AN0298-C', [('genotype', 'i1', (2,))]), ('AN0299-C', [('genotype', 'i1', (2,))]), ('AN0300-C', [('genotype', 'i1', (2,))]), ('AN0301-C', [('genotype', 'i1', (2,))]), ('AN0303-C', [('genotype', 'i1', (2,))]), ('AN0304-C', [('genotype', 'i1', (2,))]), ('AN0305-C', [('genotype', 'i1', (2,))]), ('AN0307-C', [('genotype', 'i1', (2,))]), ('AN0308-C', [('genotype', 'i1', (2,))]), ('AN0309-C', [('genotype', 'i1', (2,))]), ('AN0310-C', [('genotype', 'i1', (2,))]), ('AN0312-C', [('genotype', 'i1', (2,))]), ('AN0313-C', [('genotype', 'i1', (2,))]), ('AN0314-C', [('genotype', 'i1', (2,))]), ('AN0315-C', [('genotype', 'i1', (2,))]), ('AN0317-C', [('genotype', 'i1', (2,))]), ('AN0318-C', [('genotype', 'i1', (2,))]), ('AN0319-C', [('genotype', 'i1', (2,))]), ('AN0321-C', [('genotype', 'i1', (2,))]), ('AR0007-C', [('genotype', 'i1', (2,))]), ('AR0008-C', [('genotype', 'i1', (2,))]), ('AR0009-C', [('genotype', 'i1', (2,))]), ('AR0010-C', [('genotype', 'i1', (2,))]), ('AR0011-C', [('genotype', 'i1', (2,))]), ('AR0012-C', [('genotype', 'i1', (2,))]), ('AR0014-C', [('genotype', 'i1', (2,))]), ('AR0015-C', [('genotype', 'i1', (2,))]), ('AR0017-C', [('genotype', 'i1', (2,))]), ('AR0019-C', [('genotype', 'i1', (2,))]), ('AR0020-C', [('genotype', 'i1', (2,))]), ('AR0021-C', [('genotype', 'i1', (2,))]), ('AR0022-C', [('genotype', 'i1', (2,))]), ('AR0023-C', [('genotype', 'i1', (2,))]), ('AR0024-C', [('genotype', 'i1', (2,))]), ('AR0026-C', [('genotype', 'i1', (2,))]), ('AR0027-C', [('genotype', 'i1', (2,))]), ('AR0034-C', [('genotype', 'i1', (2,))]), ('AR0035-C', [('genotype', 'i1', (2,))]), ('AR0042-C', [('genotype', 'i1', (2,))]), ('AR0043-C', [('genotype', 'i1', (2,))]), ('AR0045-C', [('genotype', 'i1', (2,))]), ('AR0047-C', [('genotype', 'i1', (2,))]), ('AR0049-C', [('genotype', 'i1', (2,))]), ('AR0050-C', [('genotype', 'i1', (2,))]), ('AR0051-C', [('genotype', 'i1', (2,))]), ('AR0053-C', [('genotype', 'i1', (2,))]), ('AR0054-C', [('genotype', 'i1', (2,))]), ('AR0057-C', [('genotype', 'i1', (2,))]), ('AR0059-C', [('genotype', 'i1', (2,))]), ('AR0061-C', [('genotype', 'i1', (2,))]), ('AR0062-C', [('genotype', 'i1', (2,))]), ('AR0063-C', [('genotype', 'i1', (2,))]), ('AR0065-C', [('genotype', 'i1', (2,))]), ('AR0066-C', [('genotype', 'i1', (2,))]), ('AR0069-C', [('genotype', 'i1', (2,))]), ('AR0070-C', [('genotype', 'i1', (2,))]), ('AR0071-C', [('genotype', 'i1', (2,))]), ('AR0072-C', [('genotype', 'i1', (2,))]), ('AR0073-C', [('genotype', 'i1', (2,))]), ('AR0074-C', [('genotype', 'i1', (2,))]), ('AR0075-C', [('genotype', 'i1', (2,))]), ('AR0076-C', [('genotype', 'i1', (2,))]), ('AR0078-C', [('genotype', 'i1', (2,))]), ('AR0079-C', [('genotype', 'i1', (2,))]), ('AR0080-C', [('genotype', 'i1', (2,))]), ('AR0081-C', [('genotype', 'i1', (2,))]), ('AR0083-C', [('genotype', 'i1', (2,))]), ('AR0084-C', [('genotype', 'i1', (2,))]), ('AR0086-C', [('genotype', 'i1', (2,))]), ('AR0087-C', [('genotype', 'i1', (2,))]), ('AR0089-C', [('genotype', 'i1', (2,))]), ('AR0090-C', [('genotype', 'i1', (2,))]), ('AR0092-C', [('genotype', 'i1', (2,))]), ('AR0093-C', [('genotype', 'i1', (2,))]), ('AR0095-C', [('genotype', 'i1', (2,))]), ('AR0096-C', [('genotype', 'i1', (2,))]), ('AR0098-C', [('genotype', 'i1', (2,))]), ('AR0099-C', [('genotype', 'i1', (2,))]), ('AR0100-C', [('genotype', 'i1', (2,))]), ('AS0001-C', [('genotype', 'i1', (2,))]), ('AS0002-C', [('genotype', 'i1', (2,))]), ('AS0003-C', [('genotype', 'i1', (2,))]), ('AS0004-C', [('genotype', 'i1', (2,))]), ('AS0006-C', [('genotype', 'i1', (2,))]), ('AS0007-C', [('genotype', 'i1', (2,))]), ('AS0008-C', [('genotype', 'i1', (2,))]), ('AS0009-C', [('genotype', 'i1', (2,))]), ('AS0010-C', [('genotype', 'i1', (2,))]), ('AS0011-C', [('genotype', 'i1', (2,))]), ('AS0012-C', [('genotype', 'i1', (2,))]), ('AS0013-C', [('genotype', 'i1', (2,))]), ('AS0014-C', [('genotype', 'i1', (2,))]), ('AS0015-C', [('genotype', 'i1', (2,))]), ('AS0016-C', [('genotype', 'i1', (2,))]), ('AS0017-C', [('genotype', 'i1', (2,))]), ('AS0018-C', [('genotype', 'i1', (2,))]), ('AS0019-C', [('genotype', 'i1', (2,))]), ('AS0020-C', [('genotype', 'i1', (2,))]), ('AS0021-C', [('genotype', 'i1', (2,))]), ('AS0022-C', [('genotype', 'i1', (2,))]), ('AS0024-C', [('genotype', 'i1', (2,))]), ('AS0026-C', [('genotype', 'i1', (2,))]), ('AS0028-C', [('genotype', 'i1', (2,))]), ('AS0030-C', [('genotype', 'i1', (2,))]), ('AS0032-C', [('genotype', 'i1', (2,))]), ('AS0033-C', [('genotype', 'i1', (2,))]), ('AS0034-C', [('genotype', 'i1', (2,))]), ('AS0035-C', [('genotype', 'i1', (2,))]), ('AS0036-C', [('genotype', 'i1', (2,))]), ('AS0037-C', [('genotype', 'i1', (2,))]), ('AS0039-C', [('genotype', 'i1', (2,))]), ('AS0042-C', [('genotype', 'i1', (2,))]), ('AS0044-C', [('genotype', 'i1', (2,))]), ('AS0045-C', [('genotype', 'i1', (2,))]), ('AS0047-C', [('genotype', 'i1', (2,))]), ('AS0049-C', [('genotype', 'i1', (2,))]), ('AS0052-C', [('genotype', 'i1', (2,))]), ('AS0053-C', [('genotype', 'i1', (2,))]), ('AS0054-C', [('genotype', 'i1', (2,))]), ('AS0055-C', [('genotype', 'i1', (2,))]), ('AS0056-C', [('genotype', 'i1', (2,))]), ('AS0058-C', [('genotype', 'i1', (2,))]), ('AS0059-C', [('genotype', 'i1', (2,))]), ('AS0064-C', [('genotype', 'i1', (2,))]), ('AS0065-C', [('genotype', 'i1', (2,))]), ('AS0066-C', [('genotype', 'i1', (2,))]), ('AS0068-C', [('genotype', 'i1', (2,))]), ('AS0069-C', [('genotype', 'i1', (2,))]), ('AS0070-C', [('genotype', 'i1', (2,))]), ('AS0071-C', [('genotype', 'i1', (2,))]), ('AS0072-C', [('genotype', 'i1', (2,))]), ('AS0073-C', [('genotype', 'i1', (2,))]), ('AS0074-C', [('genotype', 'i1', (2,))]), ('AS0076-C', [('genotype', 'i1', (2,))]), ('AS0077-C', [('genotype', 'i1', (2,))]), ('AV0001-C', [('genotype', 'i1', (2,))]), ('AV0002-C', [('genotype', 'i1', (2,))]), ('AV0003-C', [('genotype', 'i1', (2,))]), ('AV0004-C', [('genotype', 'i1', (2,))]), ('AV0005-C', [('genotype', 'i1', (2,))]), ('AV0007-C', [('genotype', 'i1', (2,))]), ('AV0008-C', [('genotype', 'i1', (2,))]), ('AV0009-C', [('genotype', 'i1', (2,))]), ('AV0010-C', [('genotype', 'i1', (2,))]), ('AV0011-C', [('genotype', 'i1', (2,))]), ('AV0012-C', [('genotype', 'i1', (2,))]), ('AV0013-C', [('genotype', 'i1', (2,))]), ('AV0014-C', [('genotype', 'i1', (2,))]), ('AV0015-C', [('genotype', 'i1', (2,))]), ('AV0018-C', [('genotype', 'i1', (2,))]), ('AV0024-C', [('genotype', 'i1', (2,))]), ('AV0026-C', [('genotype', 'i1', (2,))]), ('AV0027-C', [('genotype', 'i1', (2,))]), ('AV0029-C', [('genotype', 'i1', (2,))]), ('AV0030-C', [('genotype', 'i1', (2,))]), ('AV0031-C', [('genotype', 'i1', (2,))]), ('AV0032-C', [('genotype', 'i1', (2,))]), ('AV0033-C', [('genotype', 'i1', (2,))]), ('AV0034-C', [('genotype', 'i1', (2,))]), ('AV0035-C', [('genotype', 'i1', (2,))]), ('AV0036-C', [('genotype', 'i1', (2,))]), ('AV0039-C', [('genotype', 'i1', (2,))]), ('AV0041-C', [('genotype', 'i1', (2,))]), ('AV0044-C', [('genotype', 'i1', (2,))]), ('AV0045-C', [('genotype', 'i1', (2,))]), ('AV0047-C', [('genotype', 'i1', (2,))]), ('AD0231-C', [('genotype', 'i1', (2,))]), ('AD0232-C', [('genotype', 'i1', (2,))]), ('AD0254-C', [('genotype', 'i1', (2,))]), ('AD0255-C', [('genotype', 'i1', (2,))]), ('AD0305-C', [('genotype', 'i1', (2,))]), ('AD0306-C', [('genotype', 'i1', (2,))]), ('AD0347-C', [('genotype', 'i1', (2,))]), ('AD0348-C', [('genotype', 'i1', (2,))])])"
      ]
     },
     "execution_count": 28,
     "metadata": {},
     "output_type": "execute_result"
    }
   ],
   "source": [
    "%time vcfnp.calldata(prof_vcf_fn, fields=('genotype',))"
   ]
  },
  {
   "cell_type": "code",
   "execution_count": 29,
   "metadata": {
    "collapsed": false
   },
   "outputs": [
    {
     "data": {
      "text/plain": [
       "47.77777777777778"
      ]
     },
     "execution_count": 29,
     "metadata": {},
     "output_type": "execute_result"
    }
   ],
   "source": [
    "4.3 / 0.09"
   ]
  },
  {
   "cell_type": "markdown",
   "metadata": {},
   "source": [
    "## Legacy"
   ]
  },
  {
   "cell_type": "code",
   "execution_count": null,
   "metadata": {
    "collapsed": true
   },
   "outputs": [],
   "source": [
    "vcf_block_read(vcf_fn, buffer_size=2**15, block_size=2**25)"
   ]
  },
  {
   "cell_type": "code",
   "execution_count": 3,
   "metadata": {
    "collapsed": false
   },
   "outputs": [
    {
     "name": "stdout",
     "output_type": "stream",
     "text": [
      "CPU times: user 700 ms, sys: 0 ns, total: 700 ms\n",
      "Wall time: 697 ms\n"
     ]
    },
    {
     "data": {
      "text/plain": [
       "6140661"
      ]
     },
     "execution_count": 3,
     "metadata": {},
     "output_type": "execute_result"
    }
   ],
   "source": [
    "%time spike_read_len(vcf_fn, buffer_size=10)"
   ]
  },
  {
   "cell_type": "code",
   "execution_count": 4,
   "metadata": {
    "collapsed": false
   },
   "outputs": [
    {
     "name": "stdout",
     "output_type": "stream",
     "text": [
      "10 loops, best of 3: 105 ms per loop\n"
     ]
    }
   ],
   "source": [
    "%timeit spike_read_len(vcf_fn, buffer_size=100)"
   ]
  },
  {
   "cell_type": "code",
   "execution_count": 5,
   "metadata": {
    "collapsed": false
   },
   "outputs": [
    {
     "name": "stdout",
     "output_type": "stream",
     "text": [
      "10 loops, best of 3: 50 ms per loop\n"
     ]
    }
   ],
   "source": [
    "%timeit spike_read_len(vcf_fn, buffer_size=1000)"
   ]
  },
  {
   "cell_type": "code",
   "execution_count": 6,
   "metadata": {
    "collapsed": false
   },
   "outputs": [
    {
     "name": "stdout",
     "output_type": "stream",
     "text": [
      "10 loops, best of 3: 39 ms per loop\n"
     ]
    }
   ],
   "source": [
    "%timeit spike_read_len(vcf_fn, buffer_size=2**15)"
   ]
  },
  {
   "cell_type": "code",
   "execution_count": 7,
   "metadata": {
    "collapsed": false
   },
   "outputs": [
    {
     "name": "stdout",
     "output_type": "stream",
     "text": [
      "10 loops, best of 3: 45.3 ms per loop\n"
     ]
    }
   ],
   "source": [
    "%timeit spike_read_len(vcf_fn, buffer_size=2**12)"
   ]
  },
  {
   "cell_type": "code",
   "execution_count": 8,
   "metadata": {
    "collapsed": true
   },
   "outputs": [],
   "source": [
    "import cProfile"
   ]
  },
  {
   "cell_type": "code",
   "execution_count": 9,
   "metadata": {
    "collapsed": false
   },
   "outputs": [
    {
     "name": "stdout",
     "output_type": "stream",
     "text": [
      "         6146762 function calls (6146566 primitive calls) in 0.941 seconds\n",
      "\n",
      "   Ordered by: internal time\n",
      "\n",
      "   ncalls  tottime  percall  cumtime  percall filename:lineno(function)\n",
      "        1    0.584    0.584    0.941    0.941 io_vcf.pyx:90(spike_read_len)\n",
      "  6140662    0.322    0.000    0.356    0.000 io_vcf.pyx:74(BufferedInputStream_next)\n",
      "      189    0.019    0.000    0.019    0.000 {method 'decompress' of 'zlib.Decompress' objects}\n",
      "      285    0.008    0.000    0.008    0.000 {built-in method zlib.crc32}\n",
      "  385/189    0.001    0.000    0.033    0.000 {method 'read' of '_io.BufferedReader' objects}\n",
      "      190    0.001    0.000    0.031    0.000 gzip.py:436(read)\n",
      "      190    0.001    0.000    0.033    0.000 _compression.py:66(readinto)\n",
      "      761    0.001    0.000    0.001    0.000 gzip.py:80(read)\n",
      "      189    0.001    0.000    0.034    0.000 gzip.py:269(read)\n",
      "      189    0.000    0.000    0.035    0.000 io_vcf.pyx:56(BufferedInputStream_fill_buffer)\n",
      "       97    0.000    0.000    0.001    0.000 gzip.py:403(_read_gzip_header)\n",
      "       95    0.000    0.000    0.001    0.000 gzip.py:491(_read_eof)\n",
      "      188    0.000    0.000    0.008    0.000 gzip.py:487(_add_read_data)\n",
      "      380    0.000    0.000    0.001    0.000 gzip.py:387(_read_exact)\n",
      "      283    0.000    0.000    0.000    0.000 gzip.py:93(prepend)\n",
      "       96    0.000    0.000    0.000    0.000 {built-in method zlib.decompressobj}\n",
      "      189    0.000    0.000    0.000    0.000 _compression.py:12(_check_not_closed)\n",
      "     1610    0.000    0.000    0.000    0.000 {built-in method builtins.len}\n",
      "      285    0.000    0.000    0.000    0.000 {built-in method _struct.unpack}\n",
      "        1    0.000    0.000    0.941    0.941 {built-in method builtins.exec}\n",
      "      190    0.000    0.000    0.000    0.000 {method 'cast' of 'memoryview' objects}\n",
      "        1    0.000    0.000    0.000    0.000 {built-in method io.open}\n",
      "       97    0.000    0.000    0.000    0.000 gzip.py:383(_init_read)\n",
      "      191    0.000    0.000    0.000    0.000 gzip.py:296(closed)\n",
      "        1    0.000    0.000    0.000    0.000 gzip.py:123(__init__)\n",
      "        1    0.000    0.000    0.000    0.000 gzip.py:20(open)\n",
      "        1    0.000    0.000    0.000    0.000 gzip.py:376(__init__)\n",
      "        2    0.000    0.000    0.000    0.000 {method 'close' of '_io.BufferedReader' objects}\n",
      "        1    0.000    0.000    0.000    0.000 _compression.py:39(__init__)\n",
      "        1    0.000    0.000    0.000    0.000 gzip.py:74(__init__)\n",
      "        1    0.000    0.000    0.941    0.941 <string>:1(<module>)\n",
      "        1    0.000    0.000    0.000    0.000 _compression.py:59(close)\n",
      "        1    0.000    0.000    0.000    0.000 gzip.py:300(close)\n",
      "        1    0.000    0.000    0.001    0.001 io_vcf.pyx:44(__cinit__)\n",
      "        1    0.000    0.000    0.000    0.000 {method 'replace' of 'str' objects}\n",
      "        1    0.000    0.000    0.000    0.000 _compression.py:150(tell)\n",
      "        1    0.000    0.000    0.000    0.000 {method 'startswith' of 'str' objects}\n",
      "        1    0.000    0.000    0.000    0.000 {built-in method builtins.isinstance}\n",
      "        1    0.000    0.000    0.000    0.000 _compression.py:36(readable)\n",
      "        1    0.000    0.000    0.000    0.000 {function DecompressReader.close at 0x7f1ca6ab9c80}\n",
      "        1    0.000    0.000    0.000    0.000 {method 'disable' of '_lsprof.Profiler' objects}\n",
      "\n",
      "\n"
     ]
    }
   ],
   "source": [
    "cProfile.run('spike_read_len(vcf_fn, buffer_size=2**15)', sort='time')"
   ]
  },
  {
   "cell_type": "code",
   "execution_count": 10,
   "metadata": {
    "collapsed": true
   },
   "outputs": [],
   "source": [
    "import line_profiler\n",
    "\n",
    "l = line_profiler.LineProfiler()\n",
    "l.add_function(spike_read_len)\n",
    "l.add_function(BufferedInputStream_next)\n",
    "l.add_function(BufferedInputStream_fill_buffer)\n",
    "l.runcall(spike_read_len, vcf_fn, buffer_size=2**14)\n",
    "l.print_stats()"
   ]
  },
  {
   "cell_type": "markdown",
   "metadata": {},
   "source": [
    "## Legacy"
   ]
  },
  {
   "cell_type": "code",
   "execution_count": null,
   "metadata": {
    "collapsed": true
   },
   "outputs": [],
   "source": [
    "l = line_profiler.CLineProfiler"
   ]
  },
  {
   "cell_type": "code",
   "execution_count": 3,
   "metadata": {
    "collapsed": false
   },
   "outputs": [
    {
     "data": {
      "text/plain": [
       "32768"
      ]
     },
     "execution_count": 3,
     "metadata": {},
     "output_type": "execute_result"
    }
   ],
   "source": [
    "2**15"
   ]
  },
  {
   "cell_type": "code",
   "execution_count": null,
   "metadata": {
    "collapsed": false
   },
   "outputs": [
    {
     "name": "stderr",
     "output_type": "stream",
     "text": [
      "HeaderParser_parse 37873392 35\n",
      "20\n",
      "b'##fileformat=VCFv4.1'\n",
      "HeaderParser_parse 37873413 35\n",
      "60\n",
      "b'##FORMAT=<ID=GT,Number=1,Type=String,Description=\"Genotype\">'\n",
      "HeaderParser_parse 37873474 35\n",
      "124\n",
      "b'##INFO=<ID=AC,Number=A,Type=Integer,Description=\"Allele countin genotypes, for each ALT allele, in the same order aslisted\">'\n",
      "HeaderParser_parse 37873599 35\n",
      "32\n",
      "b'##contig=<ID=2L,length=49364325>'\n",
      "HeaderParser_parse 37873632 35\n",
      "32\n",
      "b'##contig=<ID=2R,length=61545105>'\n",
      "HeaderParser_parse 37873665 35\n",
      "32\n",
      "b'##contig=<ID=3L,length=41963435>'\n",
      "HeaderParser_parse 37873698 35\n",
      "32\n",
      "b'##contig=<ID=3R,length=53200684>'\n",
      "HeaderParser_parse 37873731 35\n",
      "34\n",
      "b'##contig=<ID=UNKN,length=42389979>'\n",
      "HeaderParser_parse 37873766 35\n",
      "31\n",
      "b'##contig=<ID=X,length=24393108>'\n",
      "HeaderParser_parse 37873798 35\n",
      "38\n",
      "b'##contig=<ID=Y_unplaced,length=237045>'\n",
      "HeaderParser_parse 37873837 35\n",
      "106\n",
      "b'##reference=file:///data/anopheles/ag1000g/data/genome/AgamP3/Anopheles-gambiae-PEST_CHROMOSOMES_AgamP3.fa'\n",
      "HeaderParser_parse 37873944 35\n",
      "7002\n"
     ]
    }
   ],
   "source": [
    "blocks = io_vcf.vcf_block_read(vcf_fn, buffer_size=2**16, block_size=1000)"
   ]
  },
  {
   "cell_type": "code",
   "execution_count": null,
   "metadata": {
    "collapsed": true
   },
   "outputs": [],
   "source": []
  }
 ],
 "metadata": {
  "kernelspec": {
   "display_name": "Python 3",
   "language": "python",
   "name": "python3"
  },
  "language_info": {
   "codemirror_mode": {
    "name": "ipython",
    "version": 3
   },
   "file_extension": ".py",
   "mimetype": "text/x-python",
   "name": "python",
   "nbconvert_exporter": "python",
   "pygments_lexer": "ipython3",
   "version": "3.5.3"
  }
 },
 "nbformat": 4,
 "nbformat_minor": 2
}
