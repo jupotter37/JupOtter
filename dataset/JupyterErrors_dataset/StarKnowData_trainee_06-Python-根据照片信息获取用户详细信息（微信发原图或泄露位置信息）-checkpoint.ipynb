{
 "cells": [
  {
   "cell_type": "markdown",
   "metadata": {},
   "source": [
    "可交换图像文件格式（英语：Exchangeable image file format，官方简称Exif），是专门为数码相机的照片设定的，可以记录数码照片的属性信息和拍摄数据。\n",
    "\n",
    "Exif最初由日本电子工业发展协会在1996年制定，版本为1.0。1998年，升级到2.1，增加了对音频文件的支持。2002年3月，发表了2.2版。\n",
    "\n",
    "👉详细请见百度百科[《Exif》](https://baike.baidu.com/item/Exif/422825?fr=aladdin)[baike.baidu.com/item/Exif/4…](https://baike.baidu.com/item/Exif/422825?fr=aladdin)"
   ]
  },
  {
   "cell_type": "code",
   "execution_count": 1,
   "metadata": {},
   "outputs": [
    {
     "name": "stdout",
     "output_type": "stream",
     "text": [
      "Collecting exifread\n",
      "  Downloading https://files.pythonhosted.org/packages/95/04/ce499f2e97cec694690f4421cdb578c5dd34e30d542eb89e1c0389446b4a/ExifRead-2.2.1-py3-none-any.whl\n",
      "Installing collected packages: exifread\n",
      "Successfully installed exifread-2.2.1\n"
     ]
    }
   ],
   "source": [
    "!pip3 install exifread\n"
   ]
  },
  {
   "cell_type": "code",
   "execution_count": 2,
   "metadata": {},
   "outputs": [
    {
     "name": "stdout",
     "output_type": "stream",
     "text": [
      "Requirement already satisfied: geopy in /Users/lw/anaconda3/lib/python3.6/site-packages (1.20.0)\n",
      "Requirement already satisfied: geographiclib<2,>=1.49 in /Users/lw/anaconda3/lib/python3.6/site-packages (from geopy) (1.50)\n"
     ]
    }
   ],
   "source": [
    "!pip3 install geopy"
   ]
  },
  {
   "cell_type": "code",
   "execution_count": 5,
   "metadata": {},
   "outputs": [
    {
     "name": "stdout",
     "output_type": "stream",
     "text": [
      "ERROR:图片中不包含Gps信息\n",
      "None\n"
     ]
    },
    {
     "ename": "TypeError",
     "evalue": "'NoneType' object is not subscriptable",
     "output_type": "error",
     "traceback": [
      "\u001b[0;31m---------------------------------------------------------------------------\u001b[0m",
      "\u001b[0;31mTypeError\u001b[0m                                 Traceback (most recent call last)",
      "\u001b[0;32m<ipython-input-5-a6df04986030>\u001b[0m in \u001b[0;36m<module>\u001b[0;34m\u001b[0m\n\u001b[1;32m     54\u001b[0m     \u001b[0minfor_tup\u001b[0m \u001b[0;34m=\u001b[0m \u001b[0mget_img_infor_tup\u001b[0m\u001b[0;34m(\u001b[0m\u001b[0;34m'./IMG_20200724_094127.jpg'\u001b[0m\u001b[0;34m)\u001b[0m\u001b[0;34m\u001b[0m\u001b[0;34m\u001b[0m\u001b[0m\n\u001b[1;32m     55\u001b[0m     \u001b[0mprint\u001b[0m\u001b[0;34m(\u001b[0m\u001b[0minfor_tup\u001b[0m\u001b[0;34m)\u001b[0m\u001b[0;34m\u001b[0m\u001b[0;34m\u001b[0m\u001b[0m\n\u001b[0;32m---> 56\u001b[0;31m     \u001b[0mget_detail_infor\u001b[0m\u001b[0;34m(\u001b[0m\u001b[0minfor_tup\u001b[0m\u001b[0;34m[\u001b[0m\u001b[0;36m1\u001b[0m\u001b[0;34m]\u001b[0m\u001b[0;34m,\u001b[0m \u001b[0minfor_tup\u001b[0m\u001b[0;34m[\u001b[0m\u001b[0;36m0\u001b[0m\u001b[0;34m]\u001b[0m\u001b[0;34m)\u001b[0m\u001b[0;34m\u001b[0m\u001b[0;34m\u001b[0m\u001b[0m\n\u001b[0m",
      "\u001b[0;31mTypeError\u001b[0m: 'NoneType' object is not subscriptable"
     ]
    }
   ],
   "source": [
    "import exifread\n",
    "import json\n",
    "import urllib.request\n",
    "import sys\n",
    "from geopy.geocoders import Nominatim\n",
    "\n",
    "# 获取照片的详细信息\n",
    "def get_img_infor_tup(photo):\n",
    "    img_file = open(photo, 'rb')\n",
    "    image_map = exifread.process_file(img_file)\n",
    "\n",
    "    try:\n",
    "        #图片的经度\n",
    "        img_longitude_ref = image_map[\"GPS GPSLongitudeRef\"].printable\n",
    "        img_longitude = image_map[\"GPS GPSLongitude\"].printable[1:-1].replace(\" \",\"\").replace(\"/\",\",\").split(\",\")\n",
    "        img_longitude = float(img_longitude[0])+float(img_longitude[1])/60+float(img_longitude[2])/float(img_longitude[3])/3600\n",
    "        if img_longitude_ref != \"E\":\n",
    "            img_longitude = img_longitude * (-1)\n",
    "\n",
    "        #图片的纬度\n",
    "        img_latitude_ref = image_map[\"GPS GPSLatitudeRef\"].printable\n",
    "        img_latitude = image_map[\"GPS GPSLatitude\"].printable[1:-1].replace(\" \",\"\").replace(\"/\",\",\").split(\",\")\n",
    "        img_latitude = float(img_latitude[0])+float(img_latitude[1])/60+float(img_latitude[2])/float(img_latitude[3])/3600\n",
    "        if img_latitude_ref != \"N\":\n",
    "            img_latitude = img_latitude*(-1)\n",
    "\n",
    "        #照片拍摄时间\n",
    "        img_create_date = image_map[\"EXIF DateTimeOriginal\"].printable\n",
    "\n",
    "        img_file.close()\n",
    "\n",
    "        # 返回经纬度元组\n",
    "        return img_longitude, img_latitude, img_create_date\n",
    "\n",
    "    except Exception as e:\n",
    "        print('ERROR:图片中不包含Gps信息')\n",
    "\n",
    "# 根据经纬度获取详细的信息\n",
    "def get_detail_infor(lat, lon):\n",
    "    reverse_value = str(lat) + ', ' + str(lon)\n",
    "    geolocator = Nominatim()\n",
    "    location = geolocator.reverse(reverse_value)\n",
    "\n",
    "    print('照片的经纬度信息：')\n",
    "    print((location.latitude, location.longitude))\n",
    "\n",
    "    print('照片的地址信息：')\n",
    "    print(location.address)\n",
    "    \n",
    "    print('照片的全部信息：')\n",
    "    print(location.raw)\n",
    "\n",
    "if __name__ == '__main__':\n",
    "    infor_tup = get_img_infor_tup('./IMG_20200724_094127.jpg')\n",
    "    print(infor_tup)\n",
    "    get_detail_infor(infor_tup[1], infor_tup[0])"
   ]
  },
  {
   "cell_type": "markdown",
   "metadata": {},
   "source": [
    "照片的经纬度信息：\n",
    "(31.2734692, 121.4653229)\n",
    "\n",
    "照片的地址信息：\n",
    "Appart Jeje, 45, 柳营路, 卓悦局, 静安区, 上海市, 200072, China 中国\n",
    "\n",
    "照片的全部信息：\n",
    "{'place_id': 245107137, 'licence': 'Data © OpenStreetMap contributors, ODbL 1.0. https://osm.org/copyright', 'osm_type': 'node', 'osm_id': 6066843985, 'lat': '31.2734692', 'lon': '121.4653229', 'display_name': 'Appart Jeje, 45, 柳营路, 卓悦局, 静安区, 上海市, 200072, China 中国', 'address': {'address29': 'Appart Jeje', 'house_number': '45', 'road': '柳营路', 'neighbourhood': '卓悦局', 'city': '静安区', 'county': '静安区', 'state': '上海市', 'postcode': '200072', 'country': 'China 中国', 'country_code': 'cn'}, 'boundingbox': ['31.2733692', '31.2735692', '121.4652229', '121.4654229']}\n",
    "\n"
   ]
  },
  {
   "cell_type": "markdown",
   "metadata": {},
   "source": [
    "[Python Pillow模块教程|打开图片,获取图像信息:格式,大小,宽度,高度,颜色值](https://www.pythonf.cn/read/71)\n",
    "\n"
   ]
  },
  {
   "cell_type": "code",
   "execution_count": 6,
   "metadata": {},
   "outputs": [
    {
     "name": "stdout",
     "output_type": "stream",
     "text": [
      "图像的格式： JPEG\n",
      "图像的大小： (827, 891)\n",
      "图像的宽度： 827\n",
      "图像的高度： 891\n",
      "获取某个像素点的颜色值： (235, 235, 235)\n"
     ]
    }
   ],
   "source": [
    "from PIL import Image\n",
    "# 打开图片\n",
    "im = Image.open('IMG_20200724_093601.jpg')\n",
    "# 显示图片\n",
    "im.show()\n",
    "print('图像的格式：', im.format)\n",
    "print('图像的大小：', im.size)\n",
    "print('图像的宽度：', im.width)\n",
    "print('图像的高度：', im.height)\n",
    "# 传入坐标的元组\n",
    "print('获取某个像素点的颜色值：', im.getpixel((100, 100)))"
   ]
  },
  {
   "cell_type": "code",
   "execution_count": 8,
   "metadata": {},
   "outputs": [
    {
     "name": "stdout",
     "output_type": "stream",
     "text": [
      "图像的格式： JPEG\n",
      "图像的大小： (1080, 1242)\n",
      "图像的宽度： 1080\n",
      "图像的高度： 1242\n",
      "获取某个像素点的颜色值： (237, 237, 237)\n"
     ]
    }
   ],
   "source": [
    "from PIL import Image\n",
    "# 打开图片\n",
    "im = Image.open('IMG_20200724_094127.jpg')\n",
    "# 显示图片\n",
    "im.show()\n",
    "print('图像的格式：', im.format)\n",
    "print('图像的大小：', im.size)\n",
    "print('图像的宽度：', im.width)\n",
    "print('图像的高度：', im.height)\n",
    "# 传入坐标的元组\n",
    "print('获取某个像素点的颜色值：', im.getpixel((100, 100)))"
   ]
  },
  {
   "cell_type": "markdown",
   "metadata": {},
   "source": [
    "[Python-OpenCV基础入门](http://www.1zlab.com/wiki/python-opencv-tutorial/)"
   ]
  },
  {
   "cell_type": "code",
   "execution_count": 10,
   "metadata": {},
   "outputs": [
    {
     "name": "stdout",
     "output_type": "stream",
     "text": [
      "Requirement already satisfied: jupyter in /Users/lw/anaconda3/lib/python3.6/site-packages (1.0.0)\n",
      "Requirement already satisfied: ipython in /Users/lw/anaconda3/lib/python3.6/site-packages (7.2.0)\n",
      "Requirement already satisfied: numpy in /Users/lw/anaconda3/lib/python3.6/site-packages (1.18.1)\n",
      "Requirement already satisfied: scipy in /Users/lw/anaconda3/lib/python3.6/site-packages (1.2.0)\n",
      "Requirement already satisfied: matplotlib in /Users/lw/anaconda3/lib/python3.6/site-packages (3.0.2)\n",
      "Requirement already satisfied: notebook in /Users/lw/anaconda3/lib/python3.6/site-packages (from jupyter) (5.7.4)\n",
      "Requirement already satisfied: qtconsole in /Users/lw/anaconda3/lib/python3.6/site-packages (from jupyter) (4.4.3)\n",
      "Requirement already satisfied: ipykernel in /Users/lw/anaconda3/lib/python3.6/site-packages (from jupyter) (5.1.0)\n",
      "Requirement already satisfied: nbconvert in /Users/lw/anaconda3/lib/python3.6/site-packages (from jupyter) (5.4.0)\n",
      "Requirement already satisfied: jupyter-console in /Users/lw/anaconda3/lib/python3.6/site-packages (from jupyter) (6.0.0)\n",
      "Requirement already satisfied: ipywidgets in /Users/lw/anaconda3/lib/python3.6/site-packages (from jupyter) (7.4.2)\n",
      "Requirement already satisfied: decorator in /Users/lw/anaconda3/lib/python3.6/site-packages (from ipython) (4.3.0)\n",
      "Requirement already satisfied: setuptools>=18.5 in /Users/lw/anaconda3/lib/python3.6/site-packages (from ipython) (41.6.0)\n",
      "Requirement already satisfied: backcall in /Users/lw/anaconda3/lib/python3.6/site-packages (from ipython) (0.1.0)\n",
      "Requirement already satisfied: jedi>=0.10 in /Users/lw/anaconda3/lib/python3.6/site-packages (from ipython) (0.13.2)\n",
      "Requirement already satisfied: pexpect; sys_platform != \"win32\" in /Users/lw/anaconda3/lib/python3.6/site-packages (from ipython) (4.6.0)\n",
      "Requirement already satisfied: appnope; sys_platform == \"darwin\" in /Users/lw/anaconda3/lib/python3.6/site-packages (from ipython) (0.1.0)\n",
      "Requirement already satisfied: pickleshare in /Users/lw/anaconda3/lib/python3.6/site-packages (from ipython) (0.7.5)\n",
      "Requirement already satisfied: pygments in /Users/lw/anaconda3/lib/python3.6/site-packages (from ipython) (2.3.1)\n",
      "Requirement already satisfied: traitlets>=4.2 in /Users/lw/anaconda3/lib/python3.6/site-packages (from ipython) (4.3.2)\n",
      "Requirement already satisfied: prompt-toolkit<2.1.0,>=2.0.0 in /Users/lw/anaconda3/lib/python3.6/site-packages (from ipython) (2.0.7)\n",
      "Requirement already satisfied: kiwisolver>=1.0.1 in /Users/lw/anaconda3/lib/python3.6/site-packages (from matplotlib) (1.0.1)\n",
      "Requirement already satisfied: python-dateutil>=2.1 in /Users/lw/anaconda3/lib/python3.6/site-packages (from matplotlib) (2.7.5)\n",
      "Requirement already satisfied: pyparsing!=2.0.4,!=2.1.2,!=2.1.6,>=2.0.1 in /Users/lw/anaconda3/lib/python3.6/site-packages (from matplotlib) (2.3.0)\n",
      "Requirement already satisfied: cycler>=0.10 in /Users/lw/anaconda3/lib/python3.6/site-packages (from matplotlib) (0.10.0)\n",
      "Requirement already satisfied: pyzmq>=17 in /Users/lw/anaconda3/lib/python3.6/site-packages (from notebook->jupyter) (17.1.2)\n",
      "Requirement already satisfied: ipython-genutils in /Users/lw/anaconda3/lib/python3.6/site-packages (from notebook->jupyter) (0.2.0)\n",
      "Requirement already satisfied: prometheus-client in /Users/lw/anaconda3/lib/python3.6/site-packages (from notebook->jupyter) (0.5.0)\n",
      "Requirement already satisfied: Send2Trash in /Users/lw/anaconda3/lib/python3.6/site-packages (from notebook->jupyter) (1.5.0)\n",
      "Requirement already satisfied: jupyter-client>=5.2.0 in /Users/lw/anaconda3/lib/python3.6/site-packages (from notebook->jupyter) (5.2.4)\n",
      "Requirement already satisfied: jinja2 in /Users/lw/anaconda3/lib/python3.6/site-packages (from notebook->jupyter) (2.10)\n",
      "Requirement already satisfied: jupyter-core>=4.4.0 in /Users/lw/anaconda3/lib/python3.6/site-packages (from notebook->jupyter) (4.4.0)\n",
      "Requirement already satisfied: tornado>=4 in /Users/lw/anaconda3/lib/python3.6/site-packages (from notebook->jupyter) (5.1.1)\n",
      "Requirement already satisfied: nbformat in /Users/lw/anaconda3/lib/python3.6/site-packages (from notebook->jupyter) (4.4.0)\n",
      "Requirement already satisfied: terminado>=0.8.1 in /Users/lw/anaconda3/lib/python3.6/site-packages (from notebook->jupyter) (0.8.1)\n",
      "Requirement already satisfied: mistune>=0.8.1 in /Users/lw/anaconda3/lib/python3.6/site-packages (from nbconvert->jupyter) (0.8.4)\n",
      "Requirement already satisfied: entrypoints>=0.2.2 in /Users/lw/anaconda3/lib/python3.6/site-packages (from nbconvert->jupyter) (0.2.3)\n",
      "Requirement already satisfied: bleach in /Users/lw/anaconda3/lib/python3.6/site-packages (from nbconvert->jupyter) (3.0.2)\n",
      "Requirement already satisfied: pandocfilters>=1.4.1 in /Users/lw/anaconda3/lib/python3.6/site-packages (from nbconvert->jupyter) (1.4.2)\n",
      "Requirement already satisfied: testpath in /Users/lw/anaconda3/lib/python3.6/site-packages (from nbconvert->jupyter) (0.4.2)\n",
      "Requirement already satisfied: defusedxml in /Users/lw/anaconda3/lib/python3.6/site-packages (from nbconvert->jupyter) (0.5.0)\n",
      "Requirement already satisfied: widgetsnbextension~=3.4.0 in /Users/lw/anaconda3/lib/python3.6/site-packages (from ipywidgets->jupyter) (3.4.2)\n",
      "Requirement already satisfied: parso>=0.3.0 in /Users/lw/anaconda3/lib/python3.6/site-packages (from jedi>=0.10->ipython) (0.3.1)\n",
      "Requirement already satisfied: ptyprocess>=0.5 in /Users/lw/anaconda3/lib/python3.6/site-packages (from pexpect; sys_platform != \"win32\"->ipython) (0.6.0)\n",
      "Requirement already satisfied: six in /Users/lw/anaconda3/lib/python3.6/site-packages (from traitlets>=4.2->ipython) (1.12.0)\n",
      "Requirement already satisfied: wcwidth in /Users/lw/anaconda3/lib/python3.6/site-packages (from prompt-toolkit<2.1.0,>=2.0.0->ipython) (0.1.7)\n",
      "Requirement already satisfied: MarkupSafe>=0.23 in /Users/lw/anaconda3/lib/python3.6/site-packages (from jinja2->notebook->jupyter) (1.1.0)\n",
      "Requirement already satisfied: jsonschema!=2.5.0,>=2.4 in /Users/lw/anaconda3/lib/python3.6/site-packages (from nbformat->notebook->jupyter) (2.6.0)\n",
      "Requirement already satisfied: webencodings in /Users/lw/anaconda3/lib/python3.6/site-packages (from bleach->nbconvert->jupyter) (0.5.1)\n"
     ]
    }
   ],
   "source": [
    "!pip3 install jupyter ipython numpy scipy matplotlib"
   ]
  },
  {
   "cell_type": "code",
   "execution_count": 18,
   "metadata": {},
   "outputs": [
    {
     "name": "stdout",
     "output_type": "stream",
     "text": [
      "Collecting opencv-contrib-python\n",
      "\u001b[?25l  Downloading https://files.pythonhosted.org/packages/59/1f/8e3768deb3f089002cd6846228ed920f131d69ce49f9593adcdc8286a568/opencv_contrib_python-4.3.0.36-cp36-cp36m-macosx_10_9_x86_64.whl (64.0MB)\n",
      "\u001b[K    100% |████████████████████████████████| 64.0MB 57kB/s ta 0:00:016\n",
      "\u001b[?25hRequirement already satisfied: numpy>=1.11.3 in /Users/lw/anaconda3/lib/python3.6/site-packages (from opencv-contrib-python) (1.18.1)\n",
      "Installing collected packages: opencv-contrib-python\n",
      "Successfully installed opencv-contrib-python-4.3.0.36\n"
     ]
    }
   ],
   "source": [
    "!pip install opencv-contrib-python"
   ]
  },
  {
   "cell_type": "code",
   "execution_count": null,
   "metadata": {},
   "outputs": [
    {
     "name": "stdout",
     "output_type": "stream",
     "text": [
      "选中矩形区域\n"
     ]
    }
   ],
   "source": [
    "'''\n",
    "回车或者空格确认选择\n",
    "c键 撤销选择\n",
    "'''\n",
    "import numpy as np\n",
    "import cv2\n",
    "\n",
    "# 设定文件路径\n",
    "img_path = './IMG_20200724_093601.jpg'\n",
    "# Read image\n",
    "img = cv2.imread(img_path)\n",
    "\n",
    "# 创建一个窗口\n",
    "cv2.namedWindow(\"image\", flags= cv2.WINDOW_NORMAL | cv2.WINDOW_FREERATIO)\n",
    "cv2.namedWindow(\"image_roi\", flags= cv2.WINDOW_NORMAL | cv2.WINDOW_FREERATIO)\n",
    "\n",
    "cv2.imshow(\"image\", img)\n",
    "# 是否显示网格 \n",
    "showCrosshair = True\n",
    "# 如果为Ture的话 , 则鼠标的其实位置就作为了roi的中心\n",
    "# False: 从左上角到右下角选中区域\n",
    "fromCenter = False\n",
    "# Select ROI\n",
    "rect = cv2.selectROI(\"image\", img, showCrosshair, fromCenter)\n",
    "\n",
    "print(\"选中矩形区域\")\n",
    "(x, y, w, h) = rect\n",
    "\n",
    "# Crop image\n",
    "imCrop = img[y : y+h, x:x+w]\n",
    "\n",
    "# Display cropped image\n",
    "cv2.imshow(\"image_roi\", imCrop)\n",
    "cv2.imwrite(\"image_roi.png\", imCrop)\n",
    "cv2.waitKey(0)"
   ]
  },
  {
   "cell_type": "code",
   "execution_count": null,
   "metadata": {},
   "outputs": [],
   "source": [
    "# -*- coding: utf-8 -*- \n",
    "import numpy as np\n",
    "import cv2\n",
    "\n",
    "# 导入一张图像 模式为彩色图片\n",
    "img = cv2.imread('IMG_20200724_093601.jpg', cv2.IMREAD_COLOR)\n",
    "\n",
    "print(\"================打印一下图像的属性================\")\n",
    "print(\"图像对象的类型 {}\".format(type(img)))\n",
    "print(img.shape)\n",
    "print(\"图像宽度: {} pixels\".format(img.shape[1]))\n",
    "print(\"图像高度: {} pixels\".format(img.shape[0]))\n",
    "print(\"通道: {}\".format(img.shape[2]))\n",
    "print(\"图像分辨率: {}\".format(img.size))\n",
    "print(\"数据类型: {}\".format(img.dtype))"
   ]
  },
  {
   "cell_type": "code",
   "execution_count": 16,
   "metadata": {},
   "outputs": [
    {
     "ename": "KeyError",
     "evalue": "'EXIF DateTimeOriginal'",
     "output_type": "error",
     "traceback": [
      "\u001b[0;31m---------------------------------------------------------------------------\u001b[0m",
      "\u001b[0;31mKeyError\u001b[0m                                  Traceback (most recent call last)",
      "\u001b[0;32m<ipython-input-16-cbe119de6258>\u001b[0m in \u001b[0;36m<module>\u001b[0;34m\u001b[0m\n\u001b[1;32m     37\u001b[0m \u001b[0;34m\u001b[0m\u001b[0m\n\u001b[1;32m     38\u001b[0m \u001b[0;32mif\u001b[0m \u001b[0m__name__\u001b[0m \u001b[0;34m==\u001b[0m \u001b[0;34m'__main__'\u001b[0m\u001b[0;34m:\u001b[0m\u001b[0;34m\u001b[0m\u001b[0;34m\u001b[0m\u001b[0m\n\u001b[0;32m---> 39\u001b[0;31m     \u001b[0mlist_file\u001b[0m\u001b[0;34m(\u001b[0m\u001b[0;34m)\u001b[0m\u001b[0;34m\u001b[0m\u001b[0;34m\u001b[0m\u001b[0m\n\u001b[0m",
      "\u001b[0;32m<ipython-input-16-cbe119de6258>\u001b[0m in \u001b[0;36mlist_file\u001b[0;34m()\u001b[0m\n\u001b[1;32m     28\u001b[0m         \u001b[0mf\u001b[0m \u001b[0;34m=\u001b[0m \u001b[0mopen\u001b[0m\u001b[0;34m(\u001b[0m\u001b[0mfile_path\u001b[0m\u001b[0;34m,\u001b[0m \u001b[0;34m'rb'\u001b[0m\u001b[0;34m)\u001b[0m\u001b[0;34m\u001b[0m\u001b[0;34m\u001b[0m\u001b[0m\n\u001b[1;32m     29\u001b[0m         \u001b[0mtags\u001b[0m \u001b[0;34m=\u001b[0m \u001b[0mexifread\u001b[0m\u001b[0;34m.\u001b[0m\u001b[0mprocess_file\u001b[0m\u001b[0;34m(\u001b[0m\u001b[0mf\u001b[0m\u001b[0;34m)\u001b[0m\u001b[0;34m\u001b[0m\u001b[0;34m\u001b[0m\u001b[0m\n\u001b[0;32m---> 30\u001b[0;31m         \u001b[0mtime\u001b[0m \u001b[0;34m=\u001b[0m \u001b[0mtags\u001b[0m\u001b[0;34m[\u001b[0m\u001b[0;34m'EXIF DateTimeOriginal'\u001b[0m\u001b[0;34m]\u001b[0m\u001b[0;34m.\u001b[0m\u001b[0mprintable\u001b[0m\u001b[0;34m;\u001b[0m\u001b[0;34m\u001b[0m\u001b[0;34m\u001b[0m\u001b[0m\n\u001b[0m\u001b[1;32m     31\u001b[0m         \u001b[0madd_time\u001b[0m\u001b[0;34m(\u001b[0m\u001b[0mimage\u001b[0m\u001b[0;34m,\u001b[0m \u001b[0mdatetime\u001b[0m\u001b[0;34m.\u001b[0m\u001b[0mstrftime\u001b[0m\u001b[0;34m(\u001b[0m\u001b[0mdatetime\u001b[0m\u001b[0;34m.\u001b[0m\u001b[0mstrptime\u001b[0m\u001b[0;34m(\u001b[0m\u001b[0mtime\u001b[0m\u001b[0;34m,\u001b[0m \u001b[0;34m'%Y:%m:%d %H:%M:%S'\u001b[0m\u001b[0;34m)\u001b[0m\u001b[0;34m,\u001b[0m \u001b[0;34m'%Y-%m-%d %H:%M:%S'\u001b[0m\u001b[0;34m)\u001b[0m\u001b[0;34m)\u001b[0m\u001b[0;34m\u001b[0m\u001b[0;34m\u001b[0m\u001b[0m\n\u001b[1;32m     32\u001b[0m \u001b[0;34m\u001b[0m\u001b[0m\n",
      "\u001b[0;31mKeyError\u001b[0m: 'EXIF DateTimeOriginal'"
     ]
    }
   ],
   "source": [
    "from PIL import Image, ImageDraw, ImageFont\n",
    "\n",
    "from datetime import datetime\n",
    "import os\n",
    "import exifread\n",
    "\n",
    "#font = ImageFont.truetype(\n",
    "#    '/Users/daren/PycharmProjects/MyFirstScrapyProject/MyFirstScrapyProject/spiders/DMFT1553353872846-2.ttf', 90)\n",
    "\n",
    "\n",
    "def add_time(img, text):\n",
    "    draw = ImageDraw.Draw(img)\n",
    "    fillcolor = \"#ffffff\"\n",
    "    text_size_x, text_size_y = draw.textsize(text, font=font)\n",
    "    text_xy = (img.size[0] - text_size_x - 50, img.size[1] - text_size_y * 3)\n",
    "    draw.text(text_xy, text, font=font, fill=fillcolor)\n",
    "    img.save(new_path + '{}.jpg'.format(text + str(datetime.now().timestamp())), 'jpeg')\n",
    "\n",
    "\n",
    "def list_file():\n",
    "    for file in os.listdir(origin_path):\n",
    "        file_path = origin_path + file\n",
    "        f,e = os.path.splitext(file_path)\n",
    "        if e.lower() not in ('.jpg','.png','.mp4'):\n",
    "            continue\n",
    "\n",
    "        image = Image.open(file_path)\n",
    "        f = open(file_path, 'rb')\n",
    "        tags = exifread.process_file(f)\n",
    "        time = tags['EXIF DateTimeOriginal'].printable;\n",
    "        add_time(image, datetime.strftime(datetime.strptime(time, '%Y:%m:%d %H:%M:%S'), '%Y-%m-%d %H:%M:%S'))\n",
    "\n",
    "\n",
    "origin_path = './'\n",
    "new_path = './new/'\n",
    "\n",
    "\n",
    "if __name__ == '__main__':\n",
    "    list_file()"
   ]
  },
  {
   "cell_type": "code",
   "execution_count": 17,
   "metadata": {},
   "outputs": [
    {
     "name": "stdout",
     "output_type": "stream",
     "text": [
      "Key: Image ImageWidth, value 827\n",
      "Key: Image ImageLength, value 891\n",
      "Key: Image DateTime, value 2020:07:24 09:36:01\n",
      "Key: Image Orientation, value Horizontal (normal)\n",
      "Key: Image ExifOffset, value 94\n",
      "Key: EXIF ExifImageLength, value 891\n",
      "Key: EXIF ExifImageWidth, value 827\n"
     ]
    }
   ],
   "source": [
    "import exifread\n",
    "\n",
    "# Open image file for reading (binary mode)\n",
    "path_name = \"./IMG_20200724_093601.jpg\"\n",
    "\n",
    "f = open(path_name, 'rb')\n",
    "\n",
    "# Return Exif tags\n",
    "tags = exifread.process_file(f)\n",
    "\n",
    "for tag in tags.keys():\n",
    "    if tag not in ('JPEGThumbnail', 'TIFFThumbnail', 'Filename', 'EXIF MakerNote'):\n",
    "        print(\"Key: %s, value %s\" % (tag, tags[tag]))"
   ]
  },
  {
   "cell_type": "code",
   "execution_count": null,
   "metadata": {},
   "outputs": [],
   "source": []
  }
 ],
 "metadata": {
  "kernelspec": {
   "display_name": "Python 3",
   "language": "python",
   "name": "python3"
  },
  "language_info": {
   "codemirror_mode": {
    "name": "ipython",
    "version": 3
   },
   "file_extension": ".py",
   "mimetype": "text/x-python",
   "name": "python",
   "nbconvert_exporter": "python",
   "pygments_lexer": "ipython3",
   "version": "3.6.8"
  },
  "toc": {
   "base_numbering": 1,
   "nav_menu": {},
   "number_sections": true,
   "sideBar": true,
   "skip_h1_title": false,
   "title_cell": "Table of Contents",
   "title_sidebar": "Contents",
   "toc_cell": false,
   "toc_position": {},
   "toc_section_display": true,
   "toc_window_display": false
  },
  "varInspector": {
   "cols": {
    "lenName": 16,
    "lenType": 16,
    "lenVar": 40
   },
   "kernels_config": {
    "python": {
     "delete_cmd_postfix": "",
     "delete_cmd_prefix": "del ",
     "library": "var_list.py",
     "varRefreshCmd": "print(var_dic_list())"
    },
    "r": {
     "delete_cmd_postfix": ") ",
     "delete_cmd_prefix": "rm(",
     "library": "var_list.r",
     "varRefreshCmd": "cat(var_dic_list()) "
    }
   },
   "types_to_exclude": [
    "module",
    "function",
    "builtin_function_or_method",
    "instance",
    "_Feature"
   ],
   "window_display": false
  }
 },
 "nbformat": 4,
 "nbformat_minor": 2
}
