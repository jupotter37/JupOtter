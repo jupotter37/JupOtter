{
 "cells": [
  {
   "cell_type": "code",
   "execution_count": null,
   "metadata": {},
   "outputs": [],
   "source": [
    "pip install st_annotated_text"
   ]
  },
  {
   "cell_type": "code",
   "execution_count": 1,
   "metadata": {},
   "outputs": [],
   "source": [
    "import spacy\n",
    "from spacy import displacy\n",
    "\n",
    "nlp = spacy.load(\"en_core_web_sm\")"
   ]
  },
  {
   "cell_type": "code",
   "execution_count": 2,
   "metadata": {},
   "outputs": [],
   "source": [
    "import pandas as pd\n",
    "import re"
   ]
  },
  {
   "cell_type": "code",
   "execution_count": 3,
   "metadata": {},
   "outputs": [],
   "source": [
    "t = \"Google News is a news aggregator service developed by Google. It presents a continuous flow of articles organized from thousands of publishers and magazines. Google News is available as an app on Android, iOS, and the Web. Google released a beta version in September 2002 and the official app in January 2006.\""
   ]
  },
  {
   "cell_type": "code",
   "execution_count": 4,
   "metadata": {},
   "outputs": [],
   "source": [
    "nlp_doc = nlp(t)"
   ]
  },
  {
   "cell_type": "code",
   "execution_count": 5,
   "metadata": {},
   "outputs": [],
   "source": [
    "nlp = spacy.load(\"en_core_web_sm\")\n",
    "\n",
    "privacy_type_mapping_filename = 'privacy_type_mapping.csv'\n",
    "privacy_type_mapping = pd.read_csv(\n",
    "    privacy_type_mapping_filename,\n",
    "    index_col=0,\n",
    "    keep_default_na=False,\n",
    "    converters={\"Requirements\": lambda x: x.split(\"\\n\") if x else None},\n",
    ").to_dict('index')\n",
    "\n",
    "\n",
    "def extract_email(text):\n",
    "    return re.findall('[A-Za-z0-9]+[A-Za-z0-9._%+-]*@\\w+.\\w{2,4}', text)\n",
    "\n",
    "\n",
    "def extract_phone(text):\n",
    "    return re.findall('(\\d{3}[-\\.\\s]??\\d{3}[-\\.\\s]??\\d{4}|\\(\\d{3}\\)\\s*\\d{3}[-\\.\\s]??\\d{4}|\\d{3}[-\\.\\s]??\\d{4})', text)\n",
    "\n",
    "\n",
    "def extract_chd(text):\n",
    "    return re.findall('[0-9]{16}', text)"
   ]
  },
  {
   "cell_type": "code",
   "execution_count": 6,
   "metadata": {},
   "outputs": [
    {
     "name": "stdout",
     "output_type": "stream",
     "text": [
      "{'type': 'PERSON', 'value': 'Android', 'requirements': ['GLBA', 'CCPA ', 'PIPEDA']}\n",
      "{'type': 'DATE', 'value': 'September 2002', 'requirements': ['GLBA', 'CCPA', 'PIPEDA']}\n",
      "{'type': 'DATE', 'value': 'January 2006', 'requirements': ['GLBA', 'CCPA', 'PIPEDA']}\n"
     ]
    }
   ],
   "source": [
    "data_matchings = []\n",
    "    \n",
    "for entity in nlp_doc.ents:\n",
    "    if entity.label_ in privacy_type_mapping and privacy_type_mapping[entity.label_]['Requirements']:\n",
    "        data_matching_object = {\n",
    "            'type': entity.label_,\n",
    "            'value': entity.text,\n",
    "            'requirements': privacy_type_mapping[entity.label_]['Requirements'],\n",
    "        }\n",
    "        data_matchings.append(data_matching_object)\n",
    "        print(data_matching_object)\n",
    "\n",
    "for extracted in extract_email(nlp_doc.text) + extract_phone(nlp_doc.text):\n",
    "    data_matching_object = {\n",
    "        'type': 'CONTACT',\n",
    "        'value': extracted,\n",
    "        'requirements': ['GLBA', 'CCPA', 'PIPEDA'],\n",
    "    }\n",
    "    data_matchings.append(data_matching_object)\n",
    "    print(data_matching_object)\n",
    "\n",
    "for extracted in extract_chd(nlp_doc.text):\n",
    "    data_matching_object = {\n",
    "        'type': 'CHD',\n",
    "        'value': extracted,\n",
    "        'requirements': ['PCI'],\n",
    "    }\n",
    "    data_matchings.append(data_matching_object)\n",
    "    print(data_matching_object)\n",
    "\n",
    "data_result = {\n",
    "    'match': bool(data_matchings),\n",
    "    'matchings': data_matchings,\n",
    "}"
   ]
  },
  {
   "cell_type": "code",
   "execution_count": 12,
   "metadata": {},
   "outputs": [],
   "source": [
    "def allindices(string, sub, offset=0):\n",
    "    listindex=[]\n",
    "    i = string.find(sub, offset)\n",
    "    while i >= 0:\n",
    "        listindex.append(i)\n",
    "        i = string.find(sub, i + 1)\n",
    "        \n",
    "    res = [(l, l+len(sub)) for l in listindex]\n",
    "    return res"
   ]
  },
  {
   "cell_type": "code",
   "execution_count": null,
   "metadata": {},
   "outputs": [],
   "source": []
  },
  {
   "cell_type": "code",
   "execution_count": 13,
   "metadata": {},
   "outputs": [
    {
     "data": {
      "text/plain": [
       "[(196, 203)]"
      ]
     },
     "execution_count": 13,
     "metadata": {},
     "output_type": "execute_result"
    }
   ],
   "source": [
    "allindices(t, \"Android\")"
   ]
  },
  {
   "cell_type": "code",
   "execution_count": 14,
   "metadata": {},
   "outputs": [],
   "source": [
    "for m in data_matchings:\n",
    "    m['offsets'] = allindices(t, m['value'])"
   ]
  },
  {
   "cell_type": "code",
   "execution_count": 15,
   "metadata": {},
   "outputs": [
    {
     "data": {
      "text/plain": [
       "[{'type': 'PERSON',\n",
       "  'value': 'Android',\n",
       "  'requirements': ['GLBA', 'CCPA ', 'PIPEDA'],\n",
       "  'offsets': [(196, 203)]},\n",
       " {'type': 'DATE',\n",
       "  'value': 'September 2002',\n",
       "  'requirements': ['GLBA', 'CCPA', 'PIPEDA'],\n",
       "  'offsets': [(257, 271)]},\n",
       " {'type': 'DATE',\n",
       "  'value': 'January 2006',\n",
       "  'requirements': ['GLBA', 'CCPA', 'PIPEDA'],\n",
       "  'offsets': [(296, 308)]}]"
      ]
     },
     "execution_count": 15,
     "metadata": {},
     "output_type": "execute_result"
    }
   ],
   "source": [
    "data_matchings"
   ]
  },
  {
   "cell_type": "code",
   "execution_count": 24,
   "metadata": {},
   "outputs": [],
   "source": [
    "def include_all(l):\n",
    "    return \"(\" + \", \".join(l) + \")\""
   ]
  },
  {
   "cell_type": "code",
   "execution_count": 20,
   "metadata": {},
   "outputs": [],
   "source": [
    "offset2data = {}"
   ]
  },
  {
   "cell_type": "code",
   "execution_count": 21,
   "metadata": {},
   "outputs": [],
   "source": [
    "all_offsets = []\n",
    "for m in data_matchings:\n",
    "    all_offsets += m['offsets']\n",
    "    for o in m['offsets']:\n",
    "        offset2data[o] = m"
   ]
  },
  {
   "cell_type": "code",
   "execution_count": 22,
   "metadata": {},
   "outputs": [],
   "source": [
    "all_offsets.sort()"
   ]
  },
  {
   "cell_type": "code",
   "execution_count": 23,
   "metadata": {},
   "outputs": [
    {
     "data": {
      "text/plain": [
       "[(196, 203), (257, 271), (296, 308)]"
      ]
     },
     "execution_count": 23,
     "metadata": {},
     "output_type": "execute_result"
    }
   ],
   "source": [
    "all_offsets"
   ]
  },
  {
   "cell_type": "code",
   "execution_count": 28,
   "metadata": {},
   "outputs": [],
   "source": [
    "starting_index = 0\n",
    "seg = []\n",
    "for idx, off in enumerate(all_offsets):\n",
    "    if idx == 0:\n",
    "        seg.append(t[0:off[0]])\n",
    "    data = offset2data[off]\n",
    "    seg.append((data['value'], data['type'] + \"|\" + include_all(data['requirements']), \"#8ef\"))\n",
    "seg.append(t[off[1]:])"
   ]
  },
  {
   "cell_type": "code",
   "execution_count": 29,
   "metadata": {},
   "outputs": [
    {
     "data": {
      "text/plain": [
       "['Google News is a news aggregator service developed by Google. It presents a continuous flow of articles organized from thousands of publishers and magazines. Google News is available as an app on ',\n",
       " ('Android', 'PERSON|(GLBA, CCPA , PIPEDA)', '#8ef'),\n",
       " ('September 2002', 'DATE|(GLBA, CCPA, PIPEDA)', '#8ef'),\n",
       " ('January 2006', 'DATE|(GLBA, CCPA, PIPEDA)', '#8ef'),\n",
       " '.']"
      ]
     },
     "execution_count": 29,
     "metadata": {},
     "output_type": "execute_result"
    }
   ],
   "source": [
    "seg"
   ]
  },
  {
   "cell_type": "code",
   "execution_count": 9,
   "metadata": {},
   "outputs": [
    {
     "ename": "ModuleNotFoundError",
     "evalue": "No module named 'st_annotated_text'",
     "output_type": "error",
     "traceback": [
      "\u001b[0;31m---------------------------------------------------------------------------\u001b[0m",
      "\u001b[0;31mModuleNotFoundError\u001b[0m                       Traceback (most recent call last)",
      "\u001b[0;32m<ipython-input-9-95c94241b8dc>\u001b[0m in \u001b[0;36m<module>\u001b[0;34m\u001b[0m\n\u001b[1;32m      1\u001b[0m \u001b[0;32mimport\u001b[0m \u001b[0mstreamlit\u001b[0m \u001b[0;32mas\u001b[0m \u001b[0mst\u001b[0m\u001b[0;34m\u001b[0m\u001b[0;34m\u001b[0m\u001b[0m\n\u001b[0;32m----> 2\u001b[0;31m \u001b[0;32mfrom\u001b[0m \u001b[0mst_annotated_text\u001b[0m \u001b[0;32mimport\u001b[0m \u001b[0mannotated_text\u001b[0m\u001b[0;34m\u001b[0m\u001b[0;34m\u001b[0m\u001b[0m\n\u001b[0m\u001b[1;32m      3\u001b[0m \u001b[0;34m\u001b[0m\u001b[0m\n\u001b[1;32m      4\u001b[0m \"\"\"\n\u001b[1;32m      5\u001b[0m \u001b[0;31m# Annotated text example\u001b[0m\u001b[0;34m\u001b[0m\u001b[0;34m\u001b[0m\u001b[0;34m\u001b[0m\u001b[0m\n",
      "\u001b[0;31mModuleNotFoundError\u001b[0m: No module named 'st_annotated_text'"
     ]
    }
   ],
   "source": [
    "import streamlit as st\n",
    "from st_annotated_text import annotated_text\n",
    "\n",
    "\"\"\"\n",
    "# Annotated text example\n",
    "\n",
    "Below is an example of how to use the annotated_text function:\n",
    "\"\"\"\n",
    "\n",
    "annotated_text(\n",
    "    \"This \",\n",
    "    (\"is\", \"verb\", \"#8ef\"),\n",
    "    \" some \",\n",
    "    (\"annotated\", \"adj\", \"#faa\"),\n",
    "    (\"text\", \"noun\", \"#afa\"),\n",
    "    \" for those of \",\n",
    "    (\"you\", \"pronoun\", \"#fea\"),\n",
    "    \" who \",\n",
    "    (\"like\", \"verb\", \"#8ef\"),\n",
    "    \" this sort of \",\n",
    "    (\"thing\", \"noun\", \"#afa\"),\n",
    ")"
   ]
  },
  {
   "cell_type": "code",
   "execution_count": 10,
   "metadata": {},
   "outputs": [
    {
     "name": "stdout",
     "output_type": "stream",
     "text": [
      "Looking in indexes: https://registry.affirm-stage.com/artifactory/api/pypi/pypi/simple, https://pypi.org/simple\n",
      "Looking in links: /var/cache/pip/wheelhouse\n",
      "Requirement already satisfied: st_annotated_text in ./.env/lib/python3.7/site-packages (1.0.1)\n",
      "Requirement already satisfied: htbuilder in ./.env/lib/python3.7/site-packages (from st_annotated_text) (0.3.0)\n",
      "Requirement already satisfied: iteration-utilities in ./.env/lib/python3.7/site-packages (from htbuilder->st_annotated_text) (0.11.0)\n",
      "\u001b[33mWARNING: You are using pip version 20.2.4; however, version 20.3.3 is available.\n",
      "You should consider upgrading via the '/Users/jiaruixu/work_space/privacy_api/.env/bin/python -m pip install --upgrade pip' command.\u001b[0m\n",
      "Note: you may need to restart the kernel to use updated packages.\n"
     ]
    }
   ],
   "source": [
    "pip install st_annotated_text"
   ]
  },
  {
   "cell_type": "code",
   "execution_count": 1,
   "metadata": {},
   "outputs": [
    {
     "ename": "ModuleNotFoundError",
     "evalue": "No module named 'matplotlib'",
     "output_type": "error",
     "traceback": [
      "\u001b[0;31m---------------------------------------------------------------------------\u001b[0m",
      "\u001b[0;31mModuleNotFoundError\u001b[0m                       Traceback (most recent call last)",
      "\u001b[0;32m<ipython-input-1-0484cd13f94d>\u001b[0m in \u001b[0;36m<module>\u001b[0;34m\u001b[0m\n\u001b[0;32m----> 1\u001b[0;31m \u001b[0;32mimport\u001b[0m \u001b[0mmatplotlib\u001b[0m\u001b[0;34m\u001b[0m\u001b[0;34m\u001b[0m\u001b[0m\n\u001b[0m",
      "\u001b[0;31mModuleNotFoundError\u001b[0m: No module named 'matplotlib'"
     ]
    }
   ],
   "source": [
    "import matplotlib\n"
   ]
  },
  {
   "cell_type": "code",
   "execution_count": null,
   "metadata": {},
   "outputs": [],
   "source": []
  }
 ],
 "metadata": {
  "kernelspec": {
   "display_name": "Python 3",
   "language": "python",
   "name": "python3"
  },
  "language_info": {
   "codemirror_mode": {
    "name": "ipython",
    "version": 3
   },
   "file_extension": ".py",
   "mimetype": "text/x-python",
   "name": "python",
   "nbconvert_exporter": "python",
   "pygments_lexer": "ipython3",
   "version": "3.7.4"
  }
 },
 "nbformat": 4,
 "nbformat_minor": 4
}
