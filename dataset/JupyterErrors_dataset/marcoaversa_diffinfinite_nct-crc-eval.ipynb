{
 "cells": [
  {
   "cell_type": "markdown",
   "id": "de1a554a",
   "metadata": {
    "_cell_guid": "edef3af9-2ade-48e2-9041-af04580ad02c",
    "_uuid": "b95e0566-534d-4d71-b5d8-ff9d08272ba0",
    "papermill": {
     "duration": 0.00604,
     "end_time": "2023-10-19T13:30:32.922737",
     "exception": false,
     "start_time": "2023-10-19T13:30:32.916697",
     "status": "completed"
    },
    "tags": []
   },
   "source": [
    "\n",
    "1.\tADI: adipose tissue, consists of adipocytes\n",
    "2.\tBACK: background of histopathological images\n",
    "3.\tDEB: debris, usefull for diagnosis of cancer\n",
    "4.\tLYM: lymphocytes, cells of lymphatic system\n",
    "5.\tMUC: mucus, protective layer on tissue\n",
    "6.\tMUS: smooth muscle\n",
    "7.\tNORM: normal tissue of colon\n",
    "8.\tSTR: stroma tissue associated with cancer\n",
    "9.\tTUM: epithelium tissues of adenocarcinoma\n"
   ]
  },
  {
   "cell_type": "markdown",
   "id": "350f9d55",
   "metadata": {
    "papermill": {
     "duration": 0.005242,
     "end_time": "2023-10-19T13:30:32.933316",
     "exception": false,
     "start_time": "2023-10-19T13:30:32.928074",
     "status": "completed"
    },
    "tags": []
   },
   "source": [
    "credit: based on the [nct/crc notebook](https://www.kaggle.com/code/hosseindaqiqi/diagnosing-colon-cancer-using-transfer-learning?scriptVersionId=92363738) by [mayson](https://www.kaggle.com/hosseindaqiqi)"
   ]
  },
  {
   "cell_type": "code",
   "execution_count": 1,
   "id": "c2dd594d",
   "metadata": {
    "_cell_guid": "058dc093-474d-4ba2-86f7-f7bba0706b88",
    "_uuid": "1e581559-cc00-4f44-903d-918791ae1741",
    "execution": {
     "iopub.execute_input": "2023-10-19T13:30:32.944978Z",
     "iopub.status.busy": "2023-10-19T13:30:32.944679Z",
     "iopub.status.idle": "2023-10-19T13:30:42.623981Z",
     "shell.execute_reply": "2023-10-19T13:30:42.623286Z"
    },
    "papermill": {
     "duration": 9.687255,
     "end_time": "2023-10-19T13:30:42.625879",
     "exception": false,
     "start_time": "2023-10-19T13:30:32.938624",
     "status": "completed"
    },
    "tags": []
   },
   "outputs": [
    {
     "name": "stderr",
     "output_type": "stream",
     "text": [
      "/opt/conda/lib/python3.10/site-packages/scipy/__init__.py:146: UserWarning: A NumPy version >=1.16.5 and <1.23.0 is required for this version of SciPy (detected version 1.23.5\n",
      "  warnings.warn(f\"A NumPy version >={np_minversion} and <{np_maxversion}\"\n"
     ]
    }
   ],
   "source": [
    "# Imports\n",
    "import os, warnings, cv2\n",
    "import matplotlib.pyplot as plt\n",
    "import seaborn as sns\n",
    "\n",
    "import numpy as np\n",
    "import tensorflow as tf\n",
    "import pandas as pd\n",
    "\n",
    "from os import listdir\n",
    "from os.path import isfile, join\n",
    "from shutil import rmtree\n",
    "\n",
    "from tensorflow import keras\n",
    "from tensorflow.keras.applications.vgg19 import VGG19\n",
    "from tensorflow.keras.callbacks import ModelCheckpoint,  ReduceLROnPlateau\n",
    "from tensorflow.keras.preprocessing.image import ImageDataGenerator\n",
    "from tensorflow.keras.layers import Dense, Flatten\n",
    "\n",
    "from sklearn.model_selection import train_test_split\n",
    "from sklearn.metrics import classification_report, confusion_matrix\n",
    "from sklearn.datasets import make_classification"
   ]
  },
  {
   "cell_type": "code",
   "execution_count": 2,
   "id": "0124fdd0",
   "metadata": {
    "execution": {
     "iopub.execute_input": "2023-10-19T13:30:42.638042Z",
     "iopub.status.busy": "2023-10-19T13:30:42.637578Z",
     "iopub.status.idle": "2023-10-19T13:30:43.085186Z",
     "shell.execute_reply": "2023-10-19T13:30:43.084320Z"
    },
    "papermill": {
     "duration": 0.455591,
     "end_time": "2023-10-19T13:30:43.087129",
     "exception": false,
     "start_time": "2023-10-19T13:30:42.631538",
     "status": "completed"
    },
    "tags": []
   },
   "outputs": [
    {
     "name": "stdout",
     "output_type": "stream",
     "text": [
      "2.12.0\n",
      "PhysicalDevice(name='/physical_device:GPU:0', device_type='GPU')\n"
     ]
    }
   ],
   "source": [
    "#sanity check tf\n",
    "print(tf.__version__)\n",
    "#sanity check gpus on system\n",
    "gpus = tf.config.experimental.list_physical_devices('GPU')\n",
    "for gpu in gpus:\n",
    "    print(gpu)"
   ]
  },
  {
   "cell_type": "code",
   "execution_count": 3,
   "id": "b278abd5",
   "metadata": {
    "_cell_guid": "3fbca759-9469-43d9-afc5-2e0c3c64b98c",
    "_uuid": "05ebb751-0b60-4af2-806d-3fa03f5bf708",
    "collapsed": false,
    "execution": {
     "iopub.execute_input": "2023-10-19T13:30:43.099222Z",
     "iopub.status.busy": "2023-10-19T13:30:43.098977Z",
     "iopub.status.idle": "2023-10-19T13:30:43.105764Z",
     "shell.execute_reply": "2023-10-19T13:30:43.105174Z"
    },
    "jupyter": {
     "outputs_hidden": false
    },
    "papermill": {
     "duration": 0.014412,
     "end_time": "2023-10-19T13:30:43.107234",
     "exception": false,
     "start_time": "2023-10-19T13:30:43.092822",
     "status": "completed"
    },
    "tags": []
   },
   "outputs": [],
   "source": [
    "#Load the directory\n",
    "main_path = '../input/nct-crc-he-100k/NCT-CRC-HE-100K'\n",
    "sub_dir =os.listdir(main_path)"
   ]
  },
  {
   "cell_type": "code",
   "execution_count": 4,
   "id": "e304db73",
   "metadata": {
    "_cell_guid": "0a980a2b-282d-4218-a319-6a97cf9316a8",
    "_uuid": "e8d9355f-d613-4850-9d16-0c1aee70194f",
    "collapsed": false,
    "execution": {
     "iopub.execute_input": "2023-10-19T13:30:43.118468Z",
     "iopub.status.busy": "2023-10-19T13:30:43.118244Z",
     "iopub.status.idle": "2023-10-19T13:30:46.196555Z",
     "shell.execute_reply": "2023-10-19T13:30:46.195623Z"
    },
    "jupyter": {
     "outputs_hidden": false
    },
    "papermill": {
     "duration": 3.085826,
     "end_time": "2023-10-19T13:30:46.198297",
     "exception": false,
     "start_time": "2023-10-19T13:30:43.112471",
     "status": "completed"
    },
    "tags": []
   },
   "outputs": [
    {
     "data": {
      "text/html": [
       "<div>\n",
       "<style scoped>\n",
       "    .dataframe tbody tr th:only-of-type {\n",
       "        vertical-align: middle;\n",
       "    }\n",
       "\n",
       "    .dataframe tbody tr th {\n",
       "        vertical-align: top;\n",
       "    }\n",
       "\n",
       "    .dataframe thead th {\n",
       "        text-align: right;\n",
       "    }\n",
       "</style>\n",
       "<table border=\"1\" class=\"dataframe\">\n",
       "  <thead>\n",
       "    <tr style=\"text-align: right;\">\n",
       "      <th></th>\n",
       "      <th>ID</th>\n",
       "      <th>Class</th>\n",
       "      <th>Old_class</th>\n",
       "    </tr>\n",
       "  </thead>\n",
       "  <tbody>\n",
       "    <tr>\n",
       "      <th>0</th>\n",
       "      <td>MUC-GQLYEALK.tif</td>\n",
       "      <td>0</td>\n",
       "      <td>MUC</td>\n",
       "    </tr>\n",
       "    <tr>\n",
       "      <th>1</th>\n",
       "      <td>MUC-FYTGWFGD.tif</td>\n",
       "      <td>0</td>\n",
       "      <td>MUC</td>\n",
       "    </tr>\n",
       "    <tr>\n",
       "      <th>2</th>\n",
       "      <td>MUC-AVNDTFWS.tif</td>\n",
       "      <td>0</td>\n",
       "      <td>MUC</td>\n",
       "    </tr>\n",
       "    <tr>\n",
       "      <th>3</th>\n",
       "      <td>MUC-DQPFGFLS.tif</td>\n",
       "      <td>0</td>\n",
       "      <td>MUC</td>\n",
       "    </tr>\n",
       "    <tr>\n",
       "      <th>4</th>\n",
       "      <td>MUC-FNEDYLHG.tif</td>\n",
       "      <td>0</td>\n",
       "      <td>MUC</td>\n",
       "    </tr>\n",
       "    <tr>\n",
       "      <th>...</th>\n",
       "      <td>...</td>\n",
       "      <td>...</td>\n",
       "      <td>...</td>\n",
       "    </tr>\n",
       "    <tr>\n",
       "      <th>10441</th>\n",
       "      <td>STR-NQFCFNPH.tif</td>\n",
       "      <td>0</td>\n",
       "      <td>STR</td>\n",
       "    </tr>\n",
       "    <tr>\n",
       "      <th>10442</th>\n",
       "      <td>STR-KPWLGGCI.tif</td>\n",
       "      <td>0</td>\n",
       "      <td>STR</td>\n",
       "    </tr>\n",
       "    <tr>\n",
       "      <th>10443</th>\n",
       "      <td>STR-FFCLCFPE.tif</td>\n",
       "      <td>0</td>\n",
       "      <td>STR</td>\n",
       "    </tr>\n",
       "    <tr>\n",
       "      <th>10444</th>\n",
       "      <td>STR-HGPELQKY.tif</td>\n",
       "      <td>0</td>\n",
       "      <td>STR</td>\n",
       "    </tr>\n",
       "    <tr>\n",
       "      <th>10445</th>\n",
       "      <td>STR-KSMCARID.tif</td>\n",
       "      <td>0</td>\n",
       "      <td>STR</td>\n",
       "    </tr>\n",
       "  </tbody>\n",
       "</table>\n",
       "<p>100000 rows × 3 columns</p>\n",
       "</div>"
      ],
      "text/plain": [
       "                     ID  Class Old_class\n",
       "0      MUC-GQLYEALK.tif      0       MUC\n",
       "1      MUC-FYTGWFGD.tif      0       MUC\n",
       "2      MUC-AVNDTFWS.tif      0       MUC\n",
       "3      MUC-DQPFGFLS.tif      0       MUC\n",
       "4      MUC-FNEDYLHG.tif      0       MUC\n",
       "...                 ...    ...       ...\n",
       "10441  STR-NQFCFNPH.tif      0       STR\n",
       "10442  STR-KPWLGGCI.tif      0       STR\n",
       "10443  STR-FFCLCFPE.tif      0       STR\n",
       "10444  STR-HGPELQKY.tif      0       STR\n",
       "10445  STR-KSMCARID.tif      0       STR\n",
       "\n",
       "[100000 rows x 3 columns]"
      ]
     },
     "execution_count": 4,
     "metadata": {},
     "output_type": "execute_result"
    }
   ],
   "source": [
    "#Creat The DataFrame\n",
    "Data_df=pd.DataFrame({'ID': [], 'Class':[]})\n",
    "\n",
    "for subdir in sub_dir:\n",
    "    mypath = join(main_path,subdir)\n",
    "    files=[f for f in listdir(mypath)]\n",
    "    classes=[subdir for c in files]\n",
    "    files_df = pd.DataFrame({'ID':files, 'Class':classes})\n",
    "    Data_df = pd.concat([Data_df, files_df])\n",
    "\n",
    "Data_df['Old_class'] = Data_df['Class']\n",
    "#merge classes for our setting\n",
    "Data_df['Class'] = Data_df['Class'].apply(lambda x: 1 if x in ['TUM'] else 0)\n",
    "Data_df"
   ]
  },
  {
   "cell_type": "code",
   "execution_count": 5,
   "id": "45bbf157",
   "metadata": {
    "_cell_guid": "caadd03c-b81b-4038-b06f-e91a35772084",
    "_uuid": "b57e72d3-0c1b-4142-a879-7c670b513388",
    "collapsed": false,
    "execution": {
     "iopub.execute_input": "2023-10-19T13:30:46.212195Z",
     "iopub.status.busy": "2023-10-19T13:30:46.211947Z",
     "iopub.status.idle": "2023-10-19T13:30:46.222809Z",
     "shell.execute_reply": "2023-10-19T13:30:46.222008Z"
    },
    "jupyter": {
     "outputs_hidden": false
    },
    "papermill": {
     "duration": 0.020246,
     "end_time": "2023-10-19T13:30:46.224320",
     "exception": false,
     "start_time": "2023-10-19T13:30:46.204074",
     "status": "completed"
    },
    "tags": []
   },
   "outputs": [
    {
     "name": "stdout",
     "output_type": "stream",
     "text": [
      "Distribution of classes is as followed:\n",
      "Class\n",
      "1    14317\n",
      "0    85683\n",
      "Name: count, dtype: int64 \n",
      " \n",
      "\n"
     ]
    }
   ],
   "source": [
    "# Distribution of the Classes\n",
    "class_of_patch = Data_df.Class.value_counts()\n",
    "print('Distribution of classes is as followed:\\n{}'.format(class_of_patch[::-1]),'\\n','\\n')"
   ]
  },
  {
   "cell_type": "markdown",
   "id": "458295a3",
   "metadata": {
    "_cell_guid": "d67f7b0d-8f0d-4933-b592-046e941f6e59",
    "_uuid": "00aa6867-40b8-421b-b461-61e1d319164d",
    "papermill": {
     "duration": 0.00527,
     "end_time": "2023-10-19T13:30:46.235206",
     "exception": false,
     "start_time": "2023-10-19T13:30:46.229936",
     "status": "completed"
    },
    "tags": []
   },
   "source": [
    "# split data "
   ]
  },
  {
   "cell_type": "code",
   "execution_count": 6,
   "id": "c10f52b1",
   "metadata": {
    "_cell_guid": "4538b04c-4c75-42bf-b55c-ffa8755596d3",
    "_uuid": "04c12fbb-9581-4002-98de-2ff0f275972c",
    "execution": {
     "iopub.execute_input": "2023-10-19T13:30:46.247187Z",
     "iopub.status.busy": "2023-10-19T13:30:46.246963Z",
     "iopub.status.idle": "2023-10-19T13:30:46.317470Z",
     "shell.execute_reply": "2023-10-19T13:30:46.316795Z"
    },
    "papermill": {
     "duration": 0.078831,
     "end_time": "2023-10-19T13:30:46.319437",
     "exception": false,
     "start_time": "2023-10-19T13:30:46.240606",
     "status": "completed"
    },
    "tags": []
   },
   "outputs": [],
   "source": [
    "# split validation and training data\n",
    "y_1 = Data_df['Class']\n",
    "\n",
    "train_test_df, val_df = train_test_split(Data_df,train_size = 0.85,random_state=101,shuffle=True,stratify=y_1 ) \n",
    "\n",
    "y_2 = train_test_df['Class']\n",
    "\n",
    "train_df, test_df = train_test_split(train_test_df,train_size=0.823529,random_state=101,shuffle=True,stratify=y_2)"
   ]
  },
  {
   "cell_type": "code",
   "execution_count": 7,
   "id": "7cd7542c",
   "metadata": {
    "_cell_guid": "c8ab9782-26e1-44f4-8d9c-d33cf5cdd59e",
    "_uuid": "b8fd64df-113c-43d1-801f-785ab59ae23d",
    "collapsed": false,
    "execution": {
     "iopub.execute_input": "2023-10-19T13:30:46.331962Z",
     "iopub.status.busy": "2023-10-19T13:30:46.331670Z",
     "iopub.status.idle": "2023-10-19T13:30:46.340080Z",
     "shell.execute_reply": "2023-10-19T13:30:46.339155Z"
    },
    "jupyter": {
     "outputs_hidden": false
    },
    "papermill": {
     "duration": 0.016452,
     "end_time": "2023-10-19T13:30:46.341705",
     "exception": false,
     "start_time": "2023-10-19T13:30:46.325253",
     "status": "completed"
    },
    "tags": []
   },
   "outputs": [
    {
     "name": "stdout",
     "output_type": "stream",
     "text": [
      "Class Distribution of Training Examples:\n",
      "Class\n",
      "0    59978\n",
      "1    10021\n",
      "Name: count, dtype: int64 \n",
      " \n",
      " \n",
      " \n",
      "\n",
      "Class Distribution of Validation Examples:\n",
      "Class\n",
      "0    12852\n",
      "1     2148\n",
      "Name: count, dtype: int64 \n",
      " \n",
      " \n",
      " \n",
      "\n",
      "Class Distribution of Test Examples:\n",
      "Class\n",
      "0    12853\n",
      "1     2148\n",
      "Name: count, dtype: int64 \n",
      " \n",
      " \n",
      " \n",
      "\n"
     ]
    }
   ],
   "source": [
    "#check the distribution of data in training and validation sets\n",
    "class_of_train_patch = train_df.Class.value_counts()\n",
    "class_of_val_patch = val_df.Class.value_counts()\n",
    "class_of_test_patch = test_df.Class.value_counts()\n",
    "\n",
    "print('Class Distribution of Training Examples:\\n{}'.format(class_of_train_patch),'\\n','\\n','\\n','\\n')\n",
    "print('Class Distribution of Validation Examples:\\n{}'.format(class_of_val_patch),'\\n','\\n','\\n','\\n')\n",
    "print('Class Distribution of Test Examples:\\n{}'.format(class_of_test_patch),'\\n','\\n','\\n','\\n')"
   ]
  },
  {
   "cell_type": "markdown",
   "id": "7c33555d",
   "metadata": {
    "_cell_guid": "24de03e6-e520-40ce-aee9-878724b6b5bf",
    "_uuid": "04dcb570-f668-4eeb-aa30-a485700fbd0a",
    "papermill": {
     "duration": 0.005542,
     "end_time": "2023-10-19T13:30:46.352990",
     "exception": false,
     "start_time": "2023-10-19T13:30:46.347448",
     "status": "completed"
    },
    "tags": []
   },
   "source": [
    "## write splits to local filesystem"
   ]
  },
  {
   "cell_type": "code",
   "execution_count": 8,
   "id": "c427ca73",
   "metadata": {
    "_cell_guid": "fdd17dd8-01ea-4a20-a619-a79f585d66b2",
    "_uuid": "5b1923f5-5200-4e0d-aa1c-b25ebdbd8e49",
    "execution": {
     "iopub.execute_input": "2023-10-19T13:30:46.365813Z",
     "iopub.status.busy": "2023-10-19T13:30:46.365560Z",
     "iopub.status.idle": "2023-10-19T13:30:46.370739Z",
     "shell.execute_reply": "2023-10-19T13:30:46.370109Z"
    },
    "papermill": {
     "duration": 0.013395,
     "end_time": "2023-10-19T13:30:46.372233",
     "exception": false,
     "start_time": "2023-10-19T13:30:46.358838",
     "status": "completed"
    },
    "tags": []
   },
   "outputs": [
    {
     "data": {
      "text/plain": [
       "'\\nmain_dir = \\'SplittedData\\'\\nos.mkdir(main_dir)\\n\\ntrain_dir = join(main_dir,\\'Training\\')\\nos.mkdir(train_dir)\\n\\nval_dir = join(main_dir,\\'Validation\\')\\nos.mkdir(val_dir)\\n\\ntest_dir = join(main_dir,\\'Test\\')\\nos.mkdir(test_dir)\\n\\n\\nfor subdir in [\"0\", \"1\"]:\\n    train_sub_dir = join(train_dir,subdir)\\n    os.mkdir(train_sub_dir)\\n    \\n    val_sub_dir = join(val_dir,subdir)\\n    os.mkdir(val_sub_dir)\\n    \\n    test_sub_dir = join(test_dir,subdir)\\n    os.mkdir(test_sub_dir)\\n'"
      ]
     },
     "execution_count": 8,
     "metadata": {},
     "output_type": "execute_result"
    }
   ],
   "source": [
    "\"\"\"\n",
    "main_dir = 'SplittedData'\n",
    "os.mkdir(main_dir)\n",
    "\n",
    "train_dir = join(main_dir,'Training')\n",
    "os.mkdir(train_dir)\n",
    "\n",
    "val_dir = join(main_dir,'Validation')\n",
    "os.mkdir(val_dir)\n",
    "\n",
    "test_dir = join(main_dir,'Test')\n",
    "os.mkdir(test_dir)\n",
    "\n",
    "\n",
    "for subdir in [\"0\", \"1\"]:\n",
    "    train_sub_dir = join(train_dir,subdir)\n",
    "    os.mkdir(train_sub_dir)\n",
    "    \n",
    "    val_sub_dir = join(val_dir,subdir)\n",
    "    os.mkdir(val_sub_dir)\n",
    "    \n",
    "    test_sub_dir = join(test_dir,subdir)\n",
    "    os.mkdir(test_sub_dir)\n",
    "\"\"\""
   ]
  },
  {
   "cell_type": "code",
   "execution_count": 9,
   "id": "4780fabf",
   "metadata": {
    "execution": {
     "iopub.execute_input": "2023-10-19T13:30:46.384475Z",
     "iopub.status.busy": "2023-10-19T13:30:46.384268Z",
     "iopub.status.idle": "2023-10-19T13:30:46.387854Z",
     "shell.execute_reply": "2023-10-19T13:30:46.387145Z"
    },
    "papermill": {
     "duration": 0.01159,
     "end_time": "2023-10-19T13:30:46.389423",
     "exception": false,
     "start_time": "2023-10-19T13:30:46.377833",
     "status": "completed"
    },
    "tags": []
   },
   "outputs": [],
   "source": [
    "main_dir = 'SplittedData'\n",
    "\n",
    "train_dir = join(main_dir,'Training')\n",
    "\n",
    "val_dir = join(main_dir,'Validation')\n",
    "\n",
    "test_dir = join(main_dir,'Test')\n"
   ]
  },
  {
   "cell_type": "code",
   "execution_count": 10,
   "id": "0b4166cb",
   "metadata": {
    "_cell_guid": "bbe7a3d7-3192-4cdb-9f1f-dcf8219f45dd",
    "_uuid": "d3874d4a-2a4b-4e41-8a9c-343572e44197",
    "execution": {
     "iopub.execute_input": "2023-10-19T13:30:46.401884Z",
     "iopub.status.busy": "2023-10-19T13:30:46.401647Z",
     "iopub.status.idle": "2023-10-19T13:30:46.406624Z",
     "shell.execute_reply": "2023-10-19T13:30:46.405929Z"
    },
    "papermill": {
     "duration": 0.012863,
     "end_time": "2023-10-19T13:30:46.408271",
     "exception": false,
     "start_time": "2023-10-19T13:30:46.395408",
     "status": "completed"
    },
    "tags": []
   },
   "outputs": [
    {
     "data": {
      "text/plain": [
       "\"\\nData_df.set_index('ID', inplace=True)\\n\\nfor img in train_df['ID']:\\n    label_old = Data_df.loc[img,'Old_class']\\n    label_new = Data_df.loc[img,'Class']\\n    source = join(main_path,label_old,img)\\n    dest = join(train_dir,str(label_new),img)\\n    \\n    cv2_img = cv2.imread(source)\\n    cv2.imwrite(dest,cv2_img)\\n\\n    \\nfor img in val_df['ID']:\\n    label_old = Data_df.loc[img,'Old_class']\\n    label_new = Data_df.loc[img,'Class']\\n    source = join(main_path,label_old,img)\\n    dest = join(val_dir,str(label_new),img)\\n    \\n    cv2_img = cv2.imread(source)\\n    cv2.imwrite(dest,cv2_img)\\n\\n    \\nfor img in test_df['ID']:\\n    label_old = Data_df.loc[img,'Old_class']\\n    label_new = Data_df.loc[img,'Class']\\n    source = join(main_path,label_old,img)\\n    dest = join(test_dir,str(label_new),img)\\n    \\n    cv2_img = cv2.imread(source)\\n    cv2.imwrite(dest,cv2_img)\\n\""
      ]
     },
     "execution_count": 10,
     "metadata": {},
     "output_type": "execute_result"
    }
   ],
   "source": [
    "\"\"\"\n",
    "Data_df.set_index('ID', inplace=True)\n",
    "\n",
    "for img in train_df['ID']:\n",
    "    label_old = Data_df.loc[img,'Old_class']\n",
    "    label_new = Data_df.loc[img,'Class']\n",
    "    source = join(main_path,label_old,img)\n",
    "    dest = join(train_dir,str(label_new),img)\n",
    "    \n",
    "    cv2_img = cv2.imread(source)\n",
    "    cv2.imwrite(dest,cv2_img)\n",
    "\n",
    "    \n",
    "for img in val_df['ID']:\n",
    "    label_old = Data_df.loc[img,'Old_class']\n",
    "    label_new = Data_df.loc[img,'Class']\n",
    "    source = join(main_path,label_old,img)\n",
    "    dest = join(val_dir,str(label_new),img)\n",
    "    \n",
    "    cv2_img = cv2.imread(source)\n",
    "    cv2.imwrite(dest,cv2_img)\n",
    "\n",
    "    \n",
    "for img in test_df['ID']:\n",
    "    label_old = Data_df.loc[img,'Old_class']\n",
    "    label_new = Data_df.loc[img,'Class']\n",
    "    source = join(main_path,label_old,img)\n",
    "    dest = join(test_dir,str(label_new),img)\n",
    "    \n",
    "    cv2_img = cv2.imread(source)\n",
    "    cv2.imwrite(dest,cv2_img)\n",
    "\"\"\""
   ]
  },
  {
   "cell_type": "markdown",
   "id": "0c4d9dd6",
   "metadata": {
    "_cell_guid": "141a8b0a-9cac-458c-9b07-edd21302d16a",
    "_uuid": "d7fd4bbb-ca98-40ca-934e-7be981dd7d26",
    "papermill": {
     "duration": 0.005569,
     "end_time": "2023-10-19T13:30:46.419719",
     "exception": false,
     "start_time": "2023-10-19T13:30:46.414150",
     "status": "completed"
    },
    "tags": []
   },
   "source": [
    "# data loaders using keras flow from dir"
   ]
  },
  {
   "cell_type": "code",
   "execution_count": 11,
   "id": "ffa8dbf2",
   "metadata": {
    "_cell_guid": "74a7302d-2031-4118-8ba9-93ebd308bf00",
    "_uuid": "9d692639-8fd3-480f-8130-61766304bae0",
    "collapsed": false,
    "execution": {
     "iopub.execute_input": "2023-10-19T13:30:46.432272Z",
     "iopub.status.busy": "2023-10-19T13:30:46.432064Z",
     "iopub.status.idle": "2023-10-19T13:30:47.042839Z",
     "shell.execute_reply": "2023-10-19T13:30:47.041661Z"
    },
    "jupyter": {
     "outputs_hidden": false
    },
    "papermill": {
     "duration": 0.618798,
     "end_time": "2023-10-19T13:30:47.044294",
     "exception": true,
     "start_time": "2023-10-19T13:30:46.425496",
     "status": "failed"
    },
    "tags": []
   },
   "outputs": [
    {
     "ename": "FileNotFoundError",
     "evalue": "[Errno 2] No such file or directory: 'SplittedData/Training'",
     "output_type": "error",
     "traceback": [
      "\u001b[0;31m---------------------------------------------------------------------------\u001b[0m",
      "\u001b[0;31mFileNotFoundError\u001b[0m                         Traceback (most recent call last)",
      "Cell \u001b[0;32mIn[11], line 13\u001b[0m\n\u001b[1;32m     10\u001b[0m datagen \u001b[38;5;241m=\u001b[39m ImageDataGenerator()\n\u001b[1;32m     12\u001b[0m \u001b[38;5;66;03m#turn shuffle off for train\u001b[39;00m\n\u001b[0;32m---> 13\u001b[0m train_ds\u001b[38;5;241m=\u001b[39m \u001b[43mdatagen\u001b[49m\u001b[38;5;241;43m.\u001b[39;49m\u001b[43mflow_from_directory\u001b[49m\u001b[43m(\u001b[49m\u001b[43mtrain_dir\u001b[49m\u001b[43m,\u001b[49m\n\u001b[1;32m     14\u001b[0m \u001b[43m                                     \u001b[49m\u001b[43mtarget_size\u001b[49m\u001b[38;5;241;43m=\u001b[39;49m\u001b[43m(\u001b[49m\u001b[43mimg_size\u001b[49m\u001b[43m,\u001b[49m\u001b[43mimg_size\u001b[49m\u001b[43m)\u001b[49m\u001b[43m,\u001b[49m\n\u001b[1;32m     15\u001b[0m \u001b[43m                                     \u001b[49m\u001b[43mbatch_size\u001b[49m\u001b[38;5;241;43m=\u001b[39;49m\u001b[43mBATCH_size\u001b[49m\u001b[43m,\u001b[49m\n\u001b[1;32m     16\u001b[0m \u001b[43m                                     \u001b[49m\u001b[43mshuffle\u001b[49m\u001b[43m \u001b[49m\u001b[38;5;241;43m=\u001b[39;49m\u001b[43m \u001b[49m\u001b[38;5;28;43;01mFalse\u001b[39;49;00m\u001b[43m,\u001b[49m\n\u001b[1;32m     17\u001b[0m \u001b[43m                                     \u001b[49m\u001b[43mseed\u001b[49m\u001b[43m \u001b[49m\u001b[38;5;241;43m=\u001b[39;49m\u001b[43m \u001b[49m\u001b[38;5;241;43m101\u001b[39;49m\u001b[43m,\u001b[49m\n\u001b[1;32m     18\u001b[0m \u001b[43m                                     \u001b[49m\u001b[43minterpolation\u001b[49m\u001b[43m \u001b[49m\u001b[38;5;241;43m=\u001b[39;49m\u001b[43m \u001b[49m\u001b[38;5;124;43m'\u001b[39;49m\u001b[38;5;124;43mnearest\u001b[39;49m\u001b[38;5;124;43m'\u001b[39;49m\u001b[43m,\u001b[49m\n\u001b[1;32m     19\u001b[0m \u001b[43m                                     \u001b[49m\u001b[43mclass_mode\u001b[49m\u001b[38;5;241;43m=\u001b[39;49m\u001b[38;5;124;43m'\u001b[39;49m\u001b[38;5;124;43mbinary\u001b[39;49m\u001b[38;5;124;43m'\u001b[39;49m\u001b[43m)\u001b[49m\n\u001b[1;32m     20\u001b[0m val_ds \u001b[38;5;241m=\u001b[39m datagen\u001b[38;5;241m.\u001b[39mflow_from_directory(val_dir,\n\u001b[1;32m     21\u001b[0m                                      target_size\u001b[38;5;241m=\u001b[39m(img_size,img_size),\n\u001b[1;32m     22\u001b[0m                                      batch_size\u001b[38;5;241m=\u001b[39mBATCH_size,\n\u001b[1;32m     23\u001b[0m                                      shuffle \u001b[38;5;241m=\u001b[39m \u001b[38;5;28;01mFalse\u001b[39;00m,\n\u001b[1;32m     24\u001b[0m                                      interpolation \u001b[38;5;241m=\u001b[39m \u001b[38;5;124m'\u001b[39m\u001b[38;5;124mnearest\u001b[39m\u001b[38;5;124m'\u001b[39m,\n\u001b[1;32m     25\u001b[0m                                      class_mode\u001b[38;5;241m=\u001b[39m\u001b[38;5;124m'\u001b[39m\u001b[38;5;124mbinary\u001b[39m\u001b[38;5;124m'\u001b[39m)\n\u001b[1;32m     27\u001b[0m test_ds \u001b[38;5;241m=\u001b[39m datagen\u001b[38;5;241m.\u001b[39mflow_from_directory(test_dir,\n\u001b[1;32m     28\u001b[0m                                      target_size\u001b[38;5;241m=\u001b[39m(img_size,img_size),\n\u001b[1;32m     29\u001b[0m                                      batch_size\u001b[38;5;241m=\u001b[39mBATCH_size,\n\u001b[1;32m     30\u001b[0m                                      shuffle \u001b[38;5;241m=\u001b[39m \u001b[38;5;28;01mFalse\u001b[39;00m,\n\u001b[1;32m     31\u001b[0m                                      interpolation \u001b[38;5;241m=\u001b[39m \u001b[38;5;124m'\u001b[39m\u001b[38;5;124mnearest\u001b[39m\u001b[38;5;124m'\u001b[39m,\n\u001b[1;32m     32\u001b[0m                                      class_mode\u001b[38;5;241m=\u001b[39m\u001b[38;5;124m'\u001b[39m\u001b[38;5;124mbinary\u001b[39m\u001b[38;5;124m'\u001b[39m)\n",
      "File \u001b[0;32m/opt/conda/lib/python3.10/site-packages/keras/preprocessing/image.py:1648\u001b[0m, in \u001b[0;36mImageDataGenerator.flow_from_directory\u001b[0;34m(self, directory, target_size, color_mode, classes, class_mode, batch_size, shuffle, seed, save_to_dir, save_prefix, save_format, follow_links, subset, interpolation, keep_aspect_ratio)\u001b[0m\n\u001b[1;32m   1562\u001b[0m \u001b[38;5;28;01mdef\u001b[39;00m \u001b[38;5;21mflow_from_directory\u001b[39m(\n\u001b[1;32m   1563\u001b[0m     \u001b[38;5;28mself\u001b[39m,\n\u001b[1;32m   1564\u001b[0m     directory,\n\u001b[0;32m   (...)\u001b[0m\n\u001b[1;32m   1578\u001b[0m     keep_aspect_ratio\u001b[38;5;241m=\u001b[39m\u001b[38;5;28;01mFalse\u001b[39;00m,\n\u001b[1;32m   1579\u001b[0m ):\n\u001b[1;32m   1580\u001b[0m \u001b[38;5;250m    \u001b[39m\u001b[38;5;124;03m\"\"\"Takes the path to a directory & generates batches of augmented data.\u001b[39;00m\n\u001b[1;32m   1581\u001b[0m \n\u001b[1;32m   1582\u001b[0m \u001b[38;5;124;03m    Args:\u001b[39;00m\n\u001b[0;32m   (...)\u001b[0m\n\u001b[1;32m   1646\u001b[0m \u001b[38;5;124;03m            and `y` is a numpy array of corresponding labels.\u001b[39;00m\n\u001b[1;32m   1647\u001b[0m \u001b[38;5;124;03m    \"\"\"\u001b[39;00m\n\u001b[0;32m-> 1648\u001b[0m     \u001b[38;5;28;01mreturn\u001b[39;00m \u001b[43mDirectoryIterator\u001b[49m\u001b[43m(\u001b[49m\n\u001b[1;32m   1649\u001b[0m \u001b[43m        \u001b[49m\u001b[43mdirectory\u001b[49m\u001b[43m,\u001b[49m\n\u001b[1;32m   1650\u001b[0m \u001b[43m        \u001b[49m\u001b[38;5;28;43mself\u001b[39;49m\u001b[43m,\u001b[49m\n\u001b[1;32m   1651\u001b[0m \u001b[43m        \u001b[49m\u001b[43mtarget_size\u001b[49m\u001b[38;5;241;43m=\u001b[39;49m\u001b[43mtarget_size\u001b[49m\u001b[43m,\u001b[49m\n\u001b[1;32m   1652\u001b[0m \u001b[43m        \u001b[49m\u001b[43mcolor_mode\u001b[49m\u001b[38;5;241;43m=\u001b[39;49m\u001b[43mcolor_mode\u001b[49m\u001b[43m,\u001b[49m\n\u001b[1;32m   1653\u001b[0m \u001b[43m        \u001b[49m\u001b[43mkeep_aspect_ratio\u001b[49m\u001b[38;5;241;43m=\u001b[39;49m\u001b[43mkeep_aspect_ratio\u001b[49m\u001b[43m,\u001b[49m\n\u001b[1;32m   1654\u001b[0m \u001b[43m        \u001b[49m\u001b[43mclasses\u001b[49m\u001b[38;5;241;43m=\u001b[39;49m\u001b[43mclasses\u001b[49m\u001b[43m,\u001b[49m\n\u001b[1;32m   1655\u001b[0m \u001b[43m        \u001b[49m\u001b[43mclass_mode\u001b[49m\u001b[38;5;241;43m=\u001b[39;49m\u001b[43mclass_mode\u001b[49m\u001b[43m,\u001b[49m\n\u001b[1;32m   1656\u001b[0m \u001b[43m        \u001b[49m\u001b[43mdata_format\u001b[49m\u001b[38;5;241;43m=\u001b[39;49m\u001b[38;5;28;43mself\u001b[39;49m\u001b[38;5;241;43m.\u001b[39;49m\u001b[43mdata_format\u001b[49m\u001b[43m,\u001b[49m\n\u001b[1;32m   1657\u001b[0m \u001b[43m        \u001b[49m\u001b[43mbatch_size\u001b[49m\u001b[38;5;241;43m=\u001b[39;49m\u001b[43mbatch_size\u001b[49m\u001b[43m,\u001b[49m\n\u001b[1;32m   1658\u001b[0m \u001b[43m        \u001b[49m\u001b[43mshuffle\u001b[49m\u001b[38;5;241;43m=\u001b[39;49m\u001b[43mshuffle\u001b[49m\u001b[43m,\u001b[49m\n\u001b[1;32m   1659\u001b[0m \u001b[43m        \u001b[49m\u001b[43mseed\u001b[49m\u001b[38;5;241;43m=\u001b[39;49m\u001b[43mseed\u001b[49m\u001b[43m,\u001b[49m\n\u001b[1;32m   1660\u001b[0m \u001b[43m        \u001b[49m\u001b[43msave_to_dir\u001b[49m\u001b[38;5;241;43m=\u001b[39;49m\u001b[43msave_to_dir\u001b[49m\u001b[43m,\u001b[49m\n\u001b[1;32m   1661\u001b[0m \u001b[43m        \u001b[49m\u001b[43msave_prefix\u001b[49m\u001b[38;5;241;43m=\u001b[39;49m\u001b[43msave_prefix\u001b[49m\u001b[43m,\u001b[49m\n\u001b[1;32m   1662\u001b[0m \u001b[43m        \u001b[49m\u001b[43msave_format\u001b[49m\u001b[38;5;241;43m=\u001b[39;49m\u001b[43msave_format\u001b[49m\u001b[43m,\u001b[49m\n\u001b[1;32m   1663\u001b[0m \u001b[43m        \u001b[49m\u001b[43mfollow_links\u001b[49m\u001b[38;5;241;43m=\u001b[39;49m\u001b[43mfollow_links\u001b[49m\u001b[43m,\u001b[49m\n\u001b[1;32m   1664\u001b[0m \u001b[43m        \u001b[49m\u001b[43msubset\u001b[49m\u001b[38;5;241;43m=\u001b[39;49m\u001b[43msubset\u001b[49m\u001b[43m,\u001b[49m\n\u001b[1;32m   1665\u001b[0m \u001b[43m        \u001b[49m\u001b[43minterpolation\u001b[49m\u001b[38;5;241;43m=\u001b[39;49m\u001b[43minterpolation\u001b[49m\u001b[43m,\u001b[49m\n\u001b[1;32m   1666\u001b[0m \u001b[43m        \u001b[49m\u001b[43mdtype\u001b[49m\u001b[38;5;241;43m=\u001b[39;49m\u001b[38;5;28;43mself\u001b[39;49m\u001b[38;5;241;43m.\u001b[39;49m\u001b[43mdtype\u001b[49m\u001b[43m,\u001b[49m\n\u001b[1;32m   1667\u001b[0m \u001b[43m    \u001b[49m\u001b[43m)\u001b[49m\n",
      "File \u001b[0;32m/opt/conda/lib/python3.10/site-packages/keras/preprocessing/image.py:563\u001b[0m, in \u001b[0;36mDirectoryIterator.__init__\u001b[0;34m(self, directory, image_data_generator, target_size, color_mode, classes, class_mode, batch_size, shuffle, seed, data_format, save_to_dir, save_prefix, save_format, follow_links, subset, interpolation, keep_aspect_ratio, dtype)\u001b[0m\n\u001b[1;32m    561\u001b[0m \u001b[38;5;28;01mif\u001b[39;00m \u001b[38;5;129;01mnot\u001b[39;00m classes:\n\u001b[1;32m    562\u001b[0m     classes \u001b[38;5;241m=\u001b[39m []\n\u001b[0;32m--> 563\u001b[0m     \u001b[38;5;28;01mfor\u001b[39;00m subdir \u001b[38;5;129;01min\u001b[39;00m \u001b[38;5;28msorted\u001b[39m(\u001b[43mos\u001b[49m\u001b[38;5;241;43m.\u001b[39;49m\u001b[43mlistdir\u001b[49m\u001b[43m(\u001b[49m\u001b[43mdirectory\u001b[49m\u001b[43m)\u001b[49m):\n\u001b[1;32m    564\u001b[0m         \u001b[38;5;28;01mif\u001b[39;00m os\u001b[38;5;241m.\u001b[39mpath\u001b[38;5;241m.\u001b[39misdir(os\u001b[38;5;241m.\u001b[39mpath\u001b[38;5;241m.\u001b[39mjoin(directory, subdir)):\n\u001b[1;32m    565\u001b[0m             classes\u001b[38;5;241m.\u001b[39mappend(subdir)\n",
      "\u001b[0;31mFileNotFoundError\u001b[0m: [Errno 2] No such file or directory: 'SplittedData/Training'"
     ]
    }
   ],
   "source": [
    "img_size = 224\n",
    "img_channel=3\n",
    "input_shape=(img_size,img_size,img_channel)\n",
    "BATCH_size =1024\n",
    "learning_rate = 3E-4\n",
    "train_step = (len(train_df)/BATCH_size)\n",
    "val_step = (len(val_df)/BATCH_size)\n",
    "\n",
    "#datagen = ImageDataGenerator(rescale=1.0/255)\n",
    "datagen = ImageDataGenerator()\n",
    "\n",
    "#turn shuffle off for train\n",
    "train_ds= datagen.flow_from_directory(train_dir,\n",
    "                                     target_size=(img_size,img_size),\n",
    "                                     batch_size=BATCH_size,\n",
    "                                     shuffle = False,\n",
    "                                     seed = 101,\n",
    "                                     interpolation = 'nearest',\n",
    "                                     class_mode='binary')\n",
    "val_ds = datagen.flow_from_directory(val_dir,\n",
    "                                     target_size=(img_size,img_size),\n",
    "                                     batch_size=BATCH_size,\n",
    "                                     shuffle = False,\n",
    "                                     interpolation = 'nearest',\n",
    "                                     class_mode='binary')\n",
    "\n",
    "test_ds = datagen.flow_from_directory(test_dir,\n",
    "                                     target_size=(img_size,img_size),\n",
    "                                     batch_size=BATCH_size,\n",
    "                                     shuffle = False,\n",
    "                                     interpolation = 'nearest',\n",
    "                                     class_mode='binary')\n",
    "\n",
    "print(train_ds.class_indices)"
   ]
  },
  {
   "cell_type": "markdown",
   "id": "1652a289",
   "metadata": {
    "_cell_guid": "85093698-6966-475e-9bec-ee633251aa60",
    "_uuid": "73abe5e5-58a2-4ae8-bff3-bb514c3bcd8a",
    "papermill": {
     "duration": null,
     "end_time": null,
     "exception": null,
     "start_time": null,
     "status": "pending"
    },
    "tags": []
   },
   "source": [
    "# model eval"
   ]
  },
  {
   "cell_type": "code",
   "execution_count": null,
   "id": "5b927090",
   "metadata": {
    "papermill": {
     "duration": null,
     "end_time": null,
     "exception": null,
     "start_time": null,
     "status": "pending"
    },
    "tags": []
   },
   "outputs": [],
   "source": [
    "#get kai's model from gh\n",
    "#!git clone https://github.com/luisoala/kai-class.git"
   ]
  },
  {
   "cell_type": "code",
   "execution_count": null,
   "id": "b8069951",
   "metadata": {
    "_cell_guid": "29d6015d-67ae-4790-9a91-280b8907ef92",
    "_uuid": "ff3b0b67-b88a-4b2b-b739-0797612c2f5b",
    "execution": {
     "iopub.execute_input": "2023-10-19T10:48:09.610232Z",
     "iopub.status.busy": "2023-10-19T10:48:09.609868Z",
     "iopub.status.idle": "2023-10-19T10:48:32.337398Z",
     "shell.execute_reply": "2023-10-19T10:48:32.336655Z",
     "shell.execute_reply.started": "2023-10-19T10:48:09.610205Z"
    },
    "papermill": {
     "duration": null,
     "end_time": null,
     "exception": null,
     "start_time": null,
     "status": "pending"
    },
    "tags": []
   },
   "outputs": [],
   "source": [
    "#load model\n",
    "real_model1 = tf.saved_model.load('kai-class/real/real/seed1/network')\n",
    "real_model2 = tf.saved_model.load('kai-class/real/real/seed2/network')\n",
    "real_model3 = tf.saved_model.load('kai-class/real/real/seed0/network')\n",
    "syn_model1 = tf.saved_model.load('kai-class/fake/fake/seed1/network')\n",
    "syn_model2 = tf.saved_model.load('kai-class/fake/fake/seed2/network')\n",
    "syn_model3 = tf.saved_model.load('kai-class/fake/fake/seed0/network')\n",
    "aug_model1 = tf.saved_model.load('kai-class/augmented/augmented/seed1/network')\n",
    "aug_model2 = tf.saved_model.load('kai-class/augmented/augmented/seed2/network')\n",
    "aug_model3 = tf.saved_model.load('kai-class/augmented/augmented/seed0/network')\n",
    "\n",
    "rm_pred1 = real_model1.signatures[\"pred_fn\"]\n",
    "rm_pred2 = real_model2.signatures[\"pred_fn\"]\n",
    "rm_pred3 = real_model3.signatures[\"pred_fn\"]\n",
    "syn_pred1 = syn_model1.signatures[\"pred_fn\"]\n",
    "syn_pred2 = syn_model2.signatures[\"pred_fn\"]\n",
    "syn_pred3 = syn_model3.signatures[\"pred_fn\"]\n",
    "aug_pred1 = aug_model1.signatures[\"pred_fn\"]\n",
    "aug_pred2 = aug_model2.signatures[\"pred_fn\"]\n",
    "aug_pred3 = aug_model3.signatures[\"pred_fn\"]"
   ]
  },
  {
   "cell_type": "code",
   "execution_count": null,
   "id": "15e3d0fe",
   "metadata": {
    "papermill": {
     "duration": null,
     "end_time": null,
     "exception": null,
     "start_time": null,
     "status": "pending"
    },
    "tags": []
   },
   "outputs": [],
   "source": [
    "#get keys for pred\n",
    "#print(list(real_model.signatures.keys()))\n",
    "#print(list(syn_model.signatures.keys()))"
   ]
  },
  {
   "cell_type": "code",
   "execution_count": null,
   "id": "7f2e1776",
   "metadata": {
    "papermill": {
     "duration": null,
     "end_time": null,
     "exception": null,
     "start_time": null,
     "status": "pending"
    },
    "tags": []
   },
   "outputs": [],
   "source": [
    "\"\"\"\n",
    "rm_pred = real_model.signatures[\"pred_fn\"]\n",
    "syn_pred = syn_model.signatures[\"pred_fn\"]\n",
    "aug_pred = aug_model.signatures[\"pred_fn\"]\n",
    "\"\"\""
   ]
  },
  {
   "cell_type": "code",
   "execution_count": null,
   "id": "0002df54",
   "metadata": {
    "execution": {
     "iopub.execute_input": "2023-10-19T10:49:08.379132Z",
     "iopub.status.busy": "2023-10-19T10:49:08.378400Z",
     "iopub.status.idle": "2023-10-19T10:49:08.384085Z",
     "shell.execute_reply": "2023-10-19T10:49:08.383043Z",
     "shell.execute_reply.started": "2023-10-19T10:49:08.379097Z"
    },
    "papermill": {
     "duration": null,
     "end_time": null,
     "exception": null,
     "start_time": null,
     "status": "pending"
    },
    "tags": []
   },
   "outputs": [],
   "source": [
    "def get_preds(model, ds, steps):\n",
    "    all_predictions = []\n",
    "\n",
    "    # iterate over all batches in val_ds\n",
    "    for i in range(int(steps)+1):\n",
    "        images, labels = ds.next()\n",
    "        batch_predictions = model(tf.constant(images))['output_0'].numpy()\n",
    "        all_predictions.append(batch_predictions)\n",
    "\n",
    "    # concatenate all batch predictions\n",
    "    all_predictions = np.concatenate(all_predictions, axis=0)\n",
    "    \n",
    "    return all_predictions\n"
   ]
  },
  {
   "cell_type": "code",
   "execution_count": null,
   "id": "75266fb6",
   "metadata": {
    "execution": {
     "iopub.execute_input": "2023-10-19T10:49:11.758217Z",
     "iopub.status.busy": "2023-10-19T10:49:11.757579Z",
     "iopub.status.idle": "2023-10-19T10:49:11.762013Z",
     "shell.execute_reply": "2023-10-19T10:49:11.761045Z",
     "shell.execute_reply.started": "2023-10-19T10:49:11.758186Z"
    },
    "papermill": {
     "duration": null,
     "end_time": null,
     "exception": null,
     "start_time": null,
     "status": "pending"
    },
    "tags": []
   },
   "outputs": [],
   "source": [
    "import sklearn"
   ]
  },
  {
   "cell_type": "code",
   "execution_count": null,
   "id": "92c32b5c",
   "metadata": {
    "execution": {
     "iopub.execute_input": "2023-10-19T10:49:39.130265Z",
     "iopub.status.busy": "2023-10-19T10:49:39.129901Z",
     "iopub.status.idle": "2023-10-19T11:47:26.986758Z",
     "shell.execute_reply": "2023-10-19T11:47:26.985854Z",
     "shell.execute_reply.started": "2023-10-19T10:49:39.130239Z"
    },
    "papermill": {
     "duration": null,
     "end_time": null,
     "exception": null,
     "start_time": null,
     "status": "pending"
    },
    "tags": []
   },
   "outputs": [],
   "source": [
    "models = [rm_pred1, rm_pred2, rm_pred3, syn_pred1, syn_pred2, syn_pred3, aug_pred1, aug_pred2, aug_pred3]\n",
    "#models = [aug_pred2, aug_pred3]\n",
    "splits = [train_ds, val_ds, test_ds]\n",
    "stepss = [train_step, val_step, val_step]\n",
    "#model loop\n",
    "for model in models:\n",
    "    #print(model)\n",
    "    #data loop\n",
    "    for data, steps in zip(splits, stepss):\n",
    "        #print(data)\n",
    "        y_true = data.classes\n",
    "        #print(y_true)\n",
    "        preds = get_preds(model, data, steps)\n",
    "        y_pred=np.argmax(preds,axis=1)\n",
    "        #print(y_pred)   \n",
    "        \n",
    "        ba = sklearn.metrics.balanced_accuracy_score(y_true, y_pred)\n",
    "        print(ba)"
   ]
  },
  {
   "cell_type": "markdown",
   "id": "dcc09b15",
   "metadata": {
    "papermill": {
     "duration": null,
     "end_time": null,
     "exception": null,
     "start_time": null,
     "status": "pending"
    },
    "tags": []
   },
   "source": [
    "# crc data"
   ]
  },
  {
   "cell_type": "code",
   "execution_count": null,
   "id": "5b226217",
   "metadata": {
    "execution": {
     "iopub.execute_input": "2023-10-19T11:52:35.455288Z",
     "iopub.status.busy": "2023-10-19T11:52:35.454895Z",
     "iopub.status.idle": "2023-10-19T11:52:35.469075Z",
     "shell.execute_reply": "2023-10-19T11:52:35.468454Z",
     "shell.execute_reply.started": "2023-10-19T11:52:35.455252Z"
    },
    "papermill": {
     "duration": null,
     "end_time": null,
     "exception": null,
     "start_time": null,
     "status": "pending"
    },
    "tags": []
   },
   "outputs": [],
   "source": [
    "#Load the directory\n",
    "main_path = '../input/crc-val-he-7k/CRC-VAL-HE-7K'\n",
    "sub_dir =os.listdir(main_path)"
   ]
  },
  {
   "cell_type": "code",
   "execution_count": null,
   "id": "3b38ddb7",
   "metadata": {
    "execution": {
     "iopub.execute_input": "2023-10-19T12:47:33.080900Z",
     "iopub.status.busy": "2023-10-19T12:47:33.080299Z",
     "iopub.status.idle": "2023-10-19T12:47:33.114084Z",
     "shell.execute_reply": "2023-10-19T12:47:33.113223Z",
     "shell.execute_reply.started": "2023-10-19T12:47:33.080868Z"
    },
    "papermill": {
     "duration": null,
     "end_time": null,
     "exception": null,
     "start_time": null,
     "status": "pending"
    },
    "tags": []
   },
   "outputs": [],
   "source": [
    "#Creat The DataFrame\n",
    "Data_df=pd.DataFrame({'ID': [], 'Class':[]})\n",
    "\n",
    "for subdir in sub_dir:\n",
    "    mypath = join(main_path,subdir)\n",
    "    files=[f for f in listdir(mypath)]\n",
    "    classes=[subdir for c in files]\n",
    "    files_df = pd.DataFrame({'ID':files, 'Class':classes})\n",
    "    Data_df = pd.concat([Data_df, files_df])\n",
    "\n",
    "Data_df['Old_class'] = Data_df['Class']\n",
    "#merge classes for our setting\n",
    "Data_df['Class'] = Data_df['Class'].apply(lambda x: 1 if x in ['TUM'] else 0)\n",
    "Data_df"
   ]
  },
  {
   "cell_type": "code",
   "execution_count": null,
   "id": "2d25526f",
   "metadata": {
    "execution": {
     "iopub.execute_input": "2023-10-19T12:47:36.320373Z",
     "iopub.status.busy": "2023-10-19T12:47:36.319968Z",
     "iopub.status.idle": "2023-10-19T12:47:36.325600Z",
     "shell.execute_reply": "2023-10-19T12:47:36.324631Z",
     "shell.execute_reply.started": "2023-10-19T12:47:36.320344Z"
    },
    "papermill": {
     "duration": null,
     "end_time": null,
     "exception": null,
     "start_time": null,
     "status": "pending"
    },
    "tags": []
   },
   "outputs": [],
   "source": [
    "print(Data_df.columns.tolist())"
   ]
  },
  {
   "cell_type": "code",
   "execution_count": null,
   "id": "b2d9a8f5",
   "metadata": {
    "execution": {
     "iopub.execute_input": "2023-10-19T12:47:37.640146Z",
     "iopub.status.busy": "2023-10-19T12:47:37.639793Z",
     "iopub.status.idle": "2023-10-19T12:47:37.646569Z",
     "shell.execute_reply": "2023-10-19T12:47:37.645667Z",
     "shell.execute_reply.started": "2023-10-19T12:47:37.640121Z"
    },
    "papermill": {
     "duration": null,
     "end_time": null,
     "exception": null,
     "start_time": null,
     "status": "pending"
    },
    "tags": []
   },
   "outputs": [],
   "source": [
    "# Distribution of the Classes\n",
    "class_of_patch = Data_df.Class.value_counts()\n",
    "print('Distribution of classes is as followed:\\n{}'.format(class_of_patch[::-1]),'\\n','\\n')"
   ]
  },
  {
   "cell_type": "code",
   "execution_count": null,
   "id": "280d2ad9",
   "metadata": {
    "execution": {
     "iopub.execute_input": "2023-10-19T12:08:46.842131Z",
     "iopub.status.busy": "2023-10-19T12:08:46.841763Z",
     "iopub.status.idle": "2023-10-19T12:08:46.847521Z",
     "shell.execute_reply": "2023-10-19T12:08:46.846702Z",
     "shell.execute_reply.started": "2023-10-19T12:08:46.842097Z"
    },
    "papermill": {
     "duration": null,
     "end_time": null,
     "exception": null,
     "start_time": null,
     "status": "pending"
    },
    "tags": []
   },
   "outputs": [],
   "source": [
    "\"\"\"\n",
    "main_dir = 'crc'\n",
    "os.mkdir(main_dir)\n",
    "\n",
    "test_dir = join(main_dir,'Test')\n",
    "os.mkdir(test_dir)\n",
    "\n",
    "\n",
    "for subdir in [\"0\", \"1\"]:\n",
    "    test_sub_dir = join(test_dir,subdir)\n",
    "    os.mkdir(test_sub_dir)\n",
    "\"\"\""
   ]
  },
  {
   "cell_type": "code",
   "execution_count": null,
   "id": "63d113a0",
   "metadata": {
    "execution": {
     "iopub.execute_input": "2023-10-19T12:47:39.801028Z",
     "iopub.status.busy": "2023-10-19T12:47:39.800123Z",
     "iopub.status.idle": "2023-10-19T12:47:39.805224Z",
     "shell.execute_reply": "2023-10-19T12:47:39.804221Z",
     "shell.execute_reply.started": "2023-10-19T12:47:39.800969Z"
    },
    "papermill": {
     "duration": null,
     "end_time": null,
     "exception": null,
     "start_time": null,
     "status": "pending"
    },
    "tags": []
   },
   "outputs": [],
   "source": [
    "main_dir = 'crc'\n",
    "\n",
    "test_dir = join(main_dir,'Test')"
   ]
  },
  {
   "cell_type": "code",
   "execution_count": null,
   "id": "aafb248a",
   "metadata": {
    "execution": {
     "iopub.execute_input": "2023-10-19T12:47:41.570374Z",
     "iopub.status.busy": "2023-10-19T12:47:41.570030Z",
     "iopub.status.idle": "2023-10-19T12:48:13.500484Z",
     "shell.execute_reply": "2023-10-19T12:48:13.499467Z",
     "shell.execute_reply.started": "2023-10-19T12:47:41.570348Z"
    },
    "papermill": {
     "duration": null,
     "end_time": null,
     "exception": null,
     "start_time": null,
     "status": "pending"
    },
    "tags": []
   },
   "outputs": [],
   "source": [
    "\n",
    "test_df = Data_df.copy(deep=True)\n",
    "print(test_df)\n",
    "\n",
    "Data_df.set_index('ID', inplace=True)\n",
    "\n",
    "for img in test_df['ID']:\n",
    "    label_old = Data_df.loc[img,'Old_class']\n",
    "    #print(label_old)\n",
    "    label_new = Data_df.loc[img,'Class']\n",
    "    source = join(main_path,label_old,img)\n",
    "    dest = join(test_dir,str(label_new),img)\n",
    "    \n",
    "    cv2_img = cv2.imread(source)\n",
    "    cv2.imwrite(dest,cv2_img)\n"
   ]
  },
  {
   "cell_type": "code",
   "execution_count": null,
   "id": "50559039",
   "metadata": {
    "execution": {
     "iopub.execute_input": "2023-10-19T12:48:13.502562Z",
     "iopub.status.busy": "2023-10-19T12:48:13.502244Z",
     "iopub.status.idle": "2023-10-19T12:48:13.649715Z",
     "shell.execute_reply": "2023-10-19T12:48:13.648995Z",
     "shell.execute_reply.started": "2023-10-19T12:48:13.502537Z"
    },
    "papermill": {
     "duration": null,
     "end_time": null,
     "exception": null,
     "start_time": null,
     "status": "pending"
    },
    "tags": []
   },
   "outputs": [],
   "source": [
    "crc_ds = datagen.flow_from_directory(test_dir, target_size= (224,224),batch_size = BATCH_size, \n",
    "                                       shuffle = False , class_mode='binary' )"
   ]
  },
  {
   "cell_type": "code",
   "execution_count": null,
   "id": "3c6babdb",
   "metadata": {
    "execution": {
     "iopub.execute_input": "2023-10-19T12:48:13.659023Z",
     "iopub.status.busy": "2023-10-19T12:48:13.658716Z",
     "iopub.status.idle": "2023-10-19T12:48:13.669025Z",
     "shell.execute_reply": "2023-10-19T12:48:13.668269Z",
     "shell.execute_reply.started": "2023-10-19T12:48:13.658979Z"
    },
    "papermill": {
     "duration": null,
     "end_time": null,
     "exception": null,
     "start_time": null,
     "status": "pending"
    },
    "tags": []
   },
   "outputs": [],
   "source": [
    "import sklearn"
   ]
  },
  {
   "cell_type": "code",
   "execution_count": null,
   "id": "04eddebc",
   "metadata": {
    "execution": {
     "iopub.execute_input": "2023-10-19T12:52:30.510430Z",
     "iopub.status.busy": "2023-10-19T12:52:30.510121Z",
     "iopub.status.idle": "2023-10-19T12:56:45.942482Z",
     "shell.execute_reply": "2023-10-19T12:56:45.941592Z",
     "shell.execute_reply.started": "2023-10-19T12:52:30.510406Z"
    },
    "papermill": {
     "duration": null,
     "end_time": null,
     "exception": null,
     "start_time": null,
     "status": "pending"
    },
    "tags": []
   },
   "outputs": [],
   "source": [
    "models = models = [rm_pred1, rm_pred2, rm_pred3, syn_pred1, syn_pred2, syn_pred3, aug_pred1, aug_pred2, aug_pred3]\n",
    "splits = [crc_ds]\n",
    "stepss = [7180/BATCH_size]\n",
    "#model loop\n",
    "for model in models:\n",
    "    #print(model)\n",
    "    #data loop\n",
    "    for data, steps in zip(splits, stepss):\n",
    "        #print(data)\n",
    "        y_true = data.classes\n",
    "        #print(len(y_true))\n",
    "        preds = get_preds(model, data, steps)\n",
    "        y_pred=np.argmax(preds,axis=1)\n",
    "        #print(len(y_pred))\n",
    "        ba = sklearn.metrics.balanced_accuracy_score(y_true, y_pred)\n",
    "        print(ba)"
   ]
  },
  {
   "cell_type": "code",
   "execution_count": null,
   "id": "f2f734e2",
   "metadata": {
    "papermill": {
     "duration": null,
     "end_time": null,
     "exception": null,
     "start_time": null,
     "status": "pending"
    },
    "tags": []
   },
   "outputs": [],
   "source": []
  }
 ],
 "metadata": {
  "kernelspec": {
   "display_name": "Python 3",
   "language": "python",
   "name": "python3"
  },
  "language_info": {
   "codemirror_mode": {
    "name": "ipython",
    "version": 3
   },
   "file_extension": ".py",
   "mimetype": "text/x-python",
   "name": "python",
   "nbconvert_exporter": "python",
   "pygments_lexer": "ipython3",
   "version": "3.10.12"
  },
  "papermill": {
   "default_parameters": {},
   "duration": 19.372299,
   "end_time": "2023-10-19T13:30:49.359653",
   "environment_variables": {},
   "exception": true,
   "input_path": "__notebook__.ipynb",
   "output_path": "__notebook__.ipynb",
   "parameters": {},
   "start_time": "2023-10-19T13:30:29.987354",
   "version": "2.4.0"
  }
 },
 "nbformat": 4,
 "nbformat_minor": 5
}
