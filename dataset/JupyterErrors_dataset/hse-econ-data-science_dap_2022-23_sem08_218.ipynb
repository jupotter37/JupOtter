{
 "cells": [
  {
   "cell_type": "markdown",
   "id": "c4cf1432",
   "metadata": {},
   "source": [
    "# Семинар 8: полезности и одна задача"
   ]
  },
  {
   "cell_type": "markdown",
   "id": "caef45e9",
   "metadata": {},
   "source": [
    "### Вопросики"
   ]
  },
  {
   "cell_type": "code",
   "execution_count": 126,
   "id": "2c70894c",
   "metadata": {},
   "outputs": [
    {
     "data": {
      "text/plain": [
       "[-10, -5, 1, 2]"
      ]
     },
     "execution_count": 126,
     "metadata": {},
     "output_type": "execute_result"
    }
   ],
   "source": [
    "a = [1, 2, -5, -10]\n",
    "sorted(a)"
   ]
  },
  {
   "cell_type": "code",
   "execution_count": 127,
   "id": "c8eef7fb",
   "metadata": {},
   "outputs": [
    {
     "data": {
      "text/plain": [
       "[2, 1, -5, -10]"
      ]
     },
     "execution_count": 127,
     "metadata": {},
     "output_type": "execute_result"
    }
   ],
   "source": [
    "sorted(a, reverse=True)"
   ]
  },
  {
   "cell_type": "code",
   "execution_count": 128,
   "id": "54382511",
   "metadata": {},
   "outputs": [
    {
     "data": {
      "text/plain": [
       "['Вася', 'Маша', 'Яна']"
      ]
     },
     "execution_count": 128,
     "metadata": {},
     "output_type": "execute_result"
    }
   ],
   "source": [
    "a = ['Маша', \"Вася\", 'Яна']\n",
    "sorted(a)"
   ]
  },
  {
   "cell_type": "code",
   "execution_count": 129,
   "id": "901a25fd",
   "metadata": {},
   "outputs": [
    {
     "data": {
      "text/plain": [
       "['Маша', 'Яна', 'Вася']"
      ]
     },
     "execution_count": 129,
     "metadata": {},
     "output_type": "execute_result"
    }
   ],
   "source": [
    "sorted(a, key=lambda w: w[-1])"
   ]
  },
  {
   "cell_type": "code",
   "execution_count": 130,
   "id": "74159d1b",
   "metadata": {},
   "outputs": [],
   "source": [
    "x = \"\"\"njlgljnge\n",
    "lnfwlewgln\n",
    "nfewlnwfelnk\n",
    "lknfwlnkdeglk\"\"\"\n",
    "\n",
    "with open('file.txt', 'w') as f:\n",
    "    f.write(x)"
   ]
  },
  {
   "cell_type": "code",
   "execution_count": 131,
   "id": "6081592c",
   "metadata": {},
   "outputs": [
    {
     "name": "stdout",
     "output_type": "stream",
     "text": [
      "njlgljnge\n",
      "lnfwlewgln\n",
      "nfewlnwfelnk\n",
      "lknfwlnkdeglk\n"
     ]
    }
   ],
   "source": [
    "with open('file.txt', 'r') as f:\n",
    "    b = f.readlines()\n",
    "    \n",
    "print(''.join(b))"
   ]
  },
  {
   "cell_type": "markdown",
   "id": "30f71a02",
   "metadata": {},
   "source": [
    "## Задача"
   ]
  },
  {
   "cell_type": "markdown",
   "id": "051c2fc3",
   "metadata": {},
   "source": [
    "В файлике `markup.json` лежит разметка новостных статей на четыре категории. Разметку делали [в толоке.](https://toloka.yandex.ru/tasks)\n",
    "\n",
    "```\n",
    "{'inputValues': {'id': 1, 'version': 1},\n",
    " 'workerId': 465,\n",
    " 'taskId': 0,\n",
    " 'outputValues': {'result': 'ok'}}\n",
    "```\n",
    "\n",
    "- в поле `inputValues` лежит `id` документа и его версия\n",
    "- в поле `workerId` лежит `id` модератора, который делал разметку\n",
    "- в поле `taskId` лежит номер таски, в которой модератору показалась новость (в одной таске могут быть несколько новостей)\n",
    "- в поле `outputValues` лежат результаты разметки"
   ]
  },
  {
   "cell_type": "code",
   "execution_count": 132,
   "id": "9dbcc154",
   "metadata": {},
   "outputs": [
    {
     "data": {
      "text/plain": [
       "[{'inputValues': {'id': 1, 'version': 1},\n",
       "  'workerId': 465,\n",
       "  'taskId': 0,\n",
       "  'outputValues': {'result': 'ok'}},\n",
       " {'inputValues': {'id': 1, 'version': 1},\n",
       "  'workerId': 365,\n",
       "  'taskId': 0,\n",
       "  'outputValues': {'result': 'ok'}},\n",
       " {'inputValues': {'id': 1, 'version': 1},\n",
       "  'workerId': 619,\n",
       "  'taskId': 0,\n",
       "  'outputValues': {'result': 'local'}},\n",
       " {'inputValues': {'id': 2, 'version': 1},\n",
       "  'workerId': 759,\n",
       "  'taskId': 0,\n",
       "  'outputValues': {'result': 'ok'}},\n",
       " {'inputValues': {'id': 2, 'version': 1},\n",
       "  'workerId': 694,\n",
       "  'taskId': 0,\n",
       "  'outputValues': {'result': 'ok'}}]"
      ]
     },
     "execution_count": 132,
     "metadata": {},
     "output_type": "execute_result"
    }
   ],
   "source": [
    "import json\n",
    "\n",
    "with open(\"sem07_211/markup.json\", \"r\") as f:\n",
    "    x = json.load(f)    \n",
    "x[:5]"
   ]
  },
  {
   "cell_type": "markdown",
   "id": "b4d35148",
   "metadata": {},
   "source": [
    "__Задание 1__ Ответьте по данным на следующие вопросы:\n",
    "\n",
    "__а)__ Сколько всего уникальных новостей было размечено?"
   ]
  },
  {
   "cell_type": "code",
   "execution_count": 28,
   "id": "871e7ee8",
   "metadata": {},
   "outputs": [
    {
     "data": {
      "text/plain": [
       "1000"
      ]
     },
     "execution_count": 28,
     "metadata": {},
     "output_type": "execute_result"
    }
   ],
   "source": [
    "# your code here ( ⚆ _ ⚆)\n",
    "len(set([item['inputValues']['id'] for item in x]))"
   ]
  },
  {
   "cell_type": "markdown",
   "id": "efd5da12",
   "metadata": {},
   "source": [
    "__б)__ Сколько всего есть уникальных категорий в поле `result`? Как они называются? "
   ]
  },
  {
   "cell_type": "code",
   "execution_count": 40,
   "id": "1f5b8a18",
   "metadata": {},
   "outputs": [
    {
     "data": {
      "text/plain": [
       "Counter({'ok': 1448, 'local': 543, 'violence': 508, 'federal': 501})"
      ]
     },
     "execution_count": 40,
     "metadata": {},
     "output_type": "execute_result"
    }
   ],
   "source": [
    "# your code here ( ⚆ ω ⚆)\n",
    "from collections import Counter\n",
    "\n",
    "cnt = Counter([item['outputValues']['result'] for item in x])\n",
    "cnt"
   ]
  },
  {
   "cell_type": "code",
   "execution_count": 41,
   "id": "aa0010ca",
   "metadata": {},
   "outputs": [
    {
     "data": {
      "text/plain": [
       "[('ok', 1448), ('local', 543), ('violence', 508), ('federal', 501)]"
      ]
     },
     "execution_count": 41,
     "metadata": {},
     "output_type": "execute_result"
    }
   ],
   "source": [
    "cnt.most_common()"
   ]
  },
  {
   "cell_type": "markdown",
   "id": "2de69afd",
   "metadata": {},
   "source": [
    "__в)__ Сколько человек занимались разметкой?"
   ]
  },
  {
   "cell_type": "code",
   "execution_count": 51,
   "id": "67f9edfb",
   "metadata": {},
   "outputs": [
    {
     "data": {
      "text/plain": [
       "957"
      ]
     },
     "execution_count": 51,
     "metadata": {},
     "output_type": "execute_result"
    }
   ],
   "source": [
    "# your code here  ( ͡° ͜ʖ ͡°)\n",
    "len(set([item['workerId'] for item in x]))"
   ]
  },
  {
   "cell_type": "code",
   "execution_count": 52,
   "id": "698b25b2",
   "metadata": {},
   "outputs": [
    {
     "data": {
      "text/plain": [
       "3000"
      ]
     },
     "execution_count": 52,
     "metadata": {},
     "output_type": "execute_result"
    }
   ],
   "source": [
    "len(x)"
   ]
  },
  {
   "cell_type": "markdown",
   "id": "28177a31",
   "metadata": {},
   "source": [
    "__г)__ Сколько новостей в среднем приходится на один `taskId`? "
   ]
  },
  {
   "cell_type": "code",
   "execution_count": 63,
   "id": "f0eda58a",
   "metadata": {},
   "outputs": [
    {
     "data": {
      "text/plain": [
       "8.982035928143713"
      ]
     },
     "execution_count": 63,
     "metadata": {},
     "output_type": "execute_result"
    }
   ],
   "source": [
    "# your code here  ლ(ಠ益ಠლ)\n",
    "cnt = Counter([item['taskId'] for item in x])\n",
    "taskId_cnt = cnt.values()\n",
    "sum(taskId_cnt)/len(taskId_cnt)"
   ]
  },
  {
   "cell_type": "markdown",
   "id": "414396be",
   "metadata": {},
   "source": [
    "Обратите внимание, что все генераторы ленивые и по ним можно ходить только один раз!"
   ]
  },
  {
   "cell_type": "code",
   "execution_count": 111,
   "id": "b3646ee9",
   "metadata": {},
   "outputs": [
    {
     "data": {
      "text/plain": [
       "8.982035928143713"
      ]
     },
     "execution_count": 111,
     "metadata": {},
     "output_type": "execute_result"
    }
   ],
   "source": [
    "from itertools import groupby\n",
    "\n",
    "news_by_typeId = map(\n",
    "    lambda w: len(list(w[1])),\n",
    "        groupby(\n",
    "            sorted(x, key=lambda w: w['taskId']),\n",
    "            key=lambda w: w['taskId']\n",
    "        )\n",
    "    )\n",
    "\n",
    "news_by_typeId = list(news_by_typeId)\n",
    "sum(news_by_typeId)/len(news_by_typeId)"
   ]
  },
  {
   "cell_type": "code",
   "execution_count": null,
   "id": "2db58b26",
   "metadata": {},
   "outputs": [],
   "source": [
    "# Если не делать лист работать не будет! \n",
    "# Посчитает только первый вызов и поделит на ноль\n",
    "\n",
    "# news_by_typeId = list(news_by_typeId)\n",
    "sum(news_by_typeId)/len(news_by_typeId)"
   ]
  },
  {
   "cell_type": "markdown",
   "id": "fda2ddec",
   "metadata": {},
   "source": [
    "__д)__ Правда ли, что все входные поля имеют структуру описанную выше? Напишите функцию, которая будет проверять консистентность входных данных. Если данные имеют другую структуру, функция должна вызывать исключение типа `ValueError`."
   ]
  },
  {
   "cell_type": "code",
   "execution_count": 133,
   "id": "1f4741b8",
   "metadata": {},
   "outputs": [
    {
     "data": {
      "text/plain": [
       "{'inputValues': {'id': 1, 'version': 1},\n",
       " 'workerId': 465,\n",
       " 'taskId': 0,\n",
       " 'outputValues': {'result': 'ok'}}"
      ]
     },
     "execution_count": 133,
     "metadata": {},
     "output_type": "execute_result"
    }
   ],
   "source": []
  },
  {
   "cell_type": "code",
   "execution_count": 135,
   "id": "ab6535d2",
   "metadata": {},
   "outputs": [
    {
     "data": {
      "text/plain": [
       "True"
      ]
     },
     "execution_count": 135,
     "metadata": {},
     "output_type": "execute_result"
    }
   ],
   "source": [
    "cn = ('inputValues' in x[0])\n",
    "cn"
   ]
  },
  {
   "cell_type": "code",
   "execution_count": 136,
   "id": "c49d6dd7",
   "metadata": {},
   "outputs": [
    {
     "data": {
      "text/plain": [
       "4"
      ]
     },
     "execution_count": 136,
     "metadata": {},
     "output_type": "execute_result"
    }
   ],
   "source": [
    "len(x[0])"
   ]
  },
  {
   "cell_type": "code",
   "execution_count": 137,
   "id": "66549bfb",
   "metadata": {},
   "outputs": [
    {
     "data": {
      "text/plain": [
       "True"
      ]
     },
     "execution_count": 137,
     "metadata": {},
     "output_type": "execute_result"
    }
   ],
   "source": [
    "isinstance(4, int)"
   ]
  },
  {
   "cell_type": "code",
   "execution_count": 139,
   "id": "990189f8",
   "metadata": {},
   "outputs": [
    {
     "data": {
      "text/plain": [
       "False"
      ]
     },
     "execution_count": 139,
     "metadata": {},
     "output_type": "execute_result"
    }
   ],
   "source": [
    "isinstance('4', int)"
   ]
  },
  {
   "cell_type": "code",
   "execution_count": 150,
   "id": "b0d0145d",
   "metadata": {},
   "outputs": [],
   "source": [
    "def check_format(item):\n",
    "    # Можно чекнуть что есть ключи \n",
    "    # Можно чекнуть что значения инты а не дичь\n",
    "    # Можно чекнуть что нет лишних полей\n",
    "    \n",
    "    cond_input = [\n",
    "        ('inputValues' in item),\n",
    "        (item.get('workerId') is not None),\n",
    "        (item.get('taskId') is not None),\n",
    "        ('outputValues' in item),\n",
    "        len(item) == 4,\n",
    "        isinstance(item.get('workerId'), int)\n",
    "    ]\n",
    "    \n",
    "    if not all(cond_input):\n",
    "        raise ValueError('Что-то не так с входными данными') \n",
    "    else:\n",
    "        return item"
   ]
  },
  {
   "cell_type": "code",
   "execution_count": 151,
   "id": "2895ce66",
   "metadata": {},
   "outputs": [
    {
     "data": {
      "text/plain": [
       "{'inputValues': {'id': 2, 'version': 1},\n",
       " 'workerId': 182,\n",
       " 'taskId': 0,\n",
       " 'outputValues': {'result': 'ok'}}"
      ]
     },
     "execution_count": 151,
     "metadata": {},
     "output_type": "execute_result"
    }
   ],
   "source": [
    "check_format(x[5])"
   ]
  },
  {
   "cell_type": "code",
   "execution_count": 152,
   "id": "36d84d57",
   "metadata": {},
   "outputs": [
    {
     "ename": "ValueError",
     "evalue": "Что-то не так с входными данными",
     "output_type": "error",
     "traceback": [
      "\u001b[0;31m---------------------------------------------------------------------------\u001b[0m",
      "\u001b[0;31mValueError\u001b[0m                                Traceback (most recent call last)",
      "\u001b[0;32m<ipython-input-152-88ac7a251044>\u001b[0m in \u001b[0;36m<module>\u001b[0;34m\u001b[0m\n\u001b[1;32m      1\u001b[0m check_format(\n\u001b[1;32m      2\u001b[0m     {'inputValues': {'id': 2, 'version': 1},\n\u001b[0;32m----> 3\u001b[0;31m  'outputValues': {'result': 'ok'}}\n\u001b[0m\u001b[1;32m      4\u001b[0m )\n",
      "\u001b[0;32m<ipython-input-150-11dbdd5a0cc2>\u001b[0m in \u001b[0;36mcheck_format\u001b[0;34m(item)\u001b[0m\n\u001b[1;32m     14\u001b[0m \u001b[0;34m\u001b[0m\u001b[0m\n\u001b[1;32m     15\u001b[0m     \u001b[0;32mif\u001b[0m \u001b[0;32mnot\u001b[0m \u001b[0mall\u001b[0m\u001b[0;34m(\u001b[0m\u001b[0mcond_input\u001b[0m\u001b[0;34m)\u001b[0m\u001b[0;34m:\u001b[0m\u001b[0;34m\u001b[0m\u001b[0;34m\u001b[0m\u001b[0m\n\u001b[0;32m---> 16\u001b[0;31m         \u001b[0;32mraise\u001b[0m \u001b[0mValueError\u001b[0m\u001b[0;34m(\u001b[0m\u001b[0;34m'Что-то не так с входными данными'\u001b[0m\u001b[0;34m)\u001b[0m\u001b[0;34m\u001b[0m\u001b[0;34m\u001b[0m\u001b[0m\n\u001b[0m\u001b[1;32m     17\u001b[0m     \u001b[0;32melse\u001b[0m\u001b[0;34m:\u001b[0m\u001b[0;34m\u001b[0m\u001b[0;34m\u001b[0m\u001b[0m\n\u001b[1;32m     18\u001b[0m         \u001b[0;32mreturn\u001b[0m \u001b[0mitem\u001b[0m\u001b[0;34m\u001b[0m\u001b[0;34m\u001b[0m\u001b[0m\n",
      "\u001b[0;31mValueError\u001b[0m: Что-то не так с входными данными"
     ]
    }
   ],
   "source": [
    "check_format(\n",
    "    {'inputValues': {'id': 2, 'version': 1},\n",
    " 'outputValues': {'result': 'ok'}}\n",
    ")"
   ]
  },
  {
   "cell_type": "markdown",
   "id": "2a799479",
   "metadata": {},
   "source": [
    "__Задание 2__ \n",
    "\n",
    "Каждая новость даётся на разметку нескольким модераторам. Мы хотим агрегировать разметку до одного числа. Напишите функцию `aggregate`, которая будет делать это методом большинства. \n",
    "\n",
    "На выходе мы должны получить json вида: \n",
    "\n",
    "```\n",
    "{'inputValues': {'id': 1, 'version': 1},\n",
    " 'workers': [465, 10, 55],\n",
    " 'taskIds': [0, 1, 18],\n",
    " 'rawnumber': 3,\n",
    " 'probability': 0.66,\n",
    " 'algorithm': 'majority_vote',\n",
    " 'outputValues': {'result': 'ok'}}\n",
    "```"
   ]
  },
  {
   "cell_type": "markdown",
   "id": "aee31686",
   "metadata": {},
   "source": [
    "В поле `rawNumber` записано количество ответов модераторов. В поле `probability` доля ответов за больший класс (majority vote).\n",
    "\n",
    "Если все три модератора проголосовали разные вердикты, выбирайте рандомный."
   ]
  },
  {
   "cell_type": "code",
   "execution_count": 159,
   "id": "8de96e0f",
   "metadata": {},
   "outputs": [],
   "source": [
    "from operator import itemgetter as at\n",
    "from itertools import groupby"
   ]
  },
  {
   "cell_type": "code",
   "execution_count": 189,
   "id": "5aa32c63",
   "metadata": {},
   "outputs": [],
   "source": [
    "def aggregate(assigments):\n",
    "    \n",
    "    agg_x = []\n",
    "    \n",
    "    for item in assigments:\n",
    "        item['key'] = (item['inputValues']['id'], item['inputValues']['version'])\n",
    "    \n",
    "    cnt = 0\n",
    "    for k, item in groupby(sorted(assigments, key=at('key')), key=at('key')):\n",
    "        \n",
    "        aggregated = { }\n",
    "\n",
    "        ret = at('taskId', 'workerId', 'inputValues', 'outputValues')\n",
    "        taskIds, workerIds, inp, output =  zip(*map(ret, item))\n",
    "\n",
    "        aggregated['workerIds'] = list(workerIds)\n",
    "        aggregated['taskIds'] = list(taskIds)\n",
    "        aggregated['inputValues'] = inp[0]\n",
    "        aggregated['outputValues'] = {'result': [at('result')(jtem) for jtem in output]}\n",
    "        agg_x.append(aggregated)\n",
    "    return  agg_x"
   ]
  },
  {
   "cell_type": "code",
   "execution_count": 181,
   "id": "fdb6a97e",
   "metadata": {},
   "outputs": [],
   "source": [
    "jtem = [{'inputValues': {'id': 1, 'version': 1}, 'workerId': 465, 'taskId': 0, 'outputValues': {'result': 'ok'}, 'key': (1, 1)}, {'inputValues': {'id': 1, 'version': 1}, 'workerId': 365, 'taskId': 0, 'outputValues': {'result': 'ok'}, 'key': (1, 1)}, {'inputValues': {'id': 1, 'version': 1}, 'workerId': 619, 'taskId': 0, 'outputValues': {'result': 'local'}, 'key': (1, 1)}]"
   ]
  },
  {
   "cell_type": "code",
   "execution_count": 182,
   "id": "8256fece",
   "metadata": {},
   "outputs": [],
   "source": [
    "ret = at('taskId', 'workerId', 'inputValues', 'outputValues')"
   ]
  },
  {
   "cell_type": "code",
   "execution_count": 185,
   "id": "f6132d06",
   "metadata": {},
   "outputs": [
    {
     "data": {
      "text/plain": [
       "[(0, 465, {'id': 1, 'version': 1}, {'result': 'ok'}),\n",
       " (0, 365, {'id': 1, 'version': 1}, {'result': 'ok'}),\n",
       " (0, 619, {'id': 1, 'version': 1}, {'result': 'local'})]"
      ]
     },
     "execution_count": 185,
     "metadata": {},
     "output_type": "execute_result"
    }
   ],
   "source": [
    "list(map(ret, jtem))"
   ]
  },
  {
   "cell_type": "code",
   "execution_count": 187,
   "id": "13fc2ac2",
   "metadata": {},
   "outputs": [
    {
     "data": {
      "text/plain": [
       "(0, 0, 0)"
      ]
     },
     "execution_count": 187,
     "metadata": {},
     "output_type": "execute_result"
    }
   ],
   "source": [
    "taskIds, workerIds, inp, output = zip(*map(ret, jtem))\n",
    "taskIds"
   ]
  },
  {
   "cell_type": "code",
   "execution_count": 188,
   "id": "574fd589",
   "metadata": {},
   "outputs": [
    {
     "data": {
      "text/plain": [
       "(465, 365, 619)"
      ]
     },
     "execution_count": 188,
     "metadata": {},
     "output_type": "execute_result"
    }
   ],
   "source": [
    "workerIds"
   ]
  },
  {
   "cell_type": "code",
   "execution_count": 190,
   "id": "9f077ddf",
   "metadata": {},
   "outputs": [
    {
     "data": {
      "text/plain": [
       "({'id': 1, 'version': 1}, {'id': 1, 'version': 1}, {'id': 1, 'version': 1})"
      ]
     },
     "execution_count": 190,
     "metadata": {},
     "output_type": "execute_result"
    }
   ],
   "source": [
    "inp"
   ]
  },
  {
   "cell_type": "code",
   "execution_count": 192,
   "id": "e60afb40",
   "metadata": {},
   "outputs": [
    {
     "data": {
      "text/plain": [
       "({'result': 'ok'}, {'result': 'ok'}, {'result': 'local'})"
      ]
     },
     "execution_count": 192,
     "metadata": {},
     "output_type": "execute_result"
    }
   ],
   "source": [
    "output"
   ]
  },
  {
   "cell_type": "code",
   "execution_count": 193,
   "id": "91dac967",
   "metadata": {},
   "outputs": [
    {
     "data": {
      "text/plain": [
       "[{'workerIds': [465, 365, 619],\n",
       "  'taskIds': [0, 0, 0],\n",
       "  'inputValues': {'id': 1, 'version': 1},\n",
       "  'outputValues': {'result': ['ok', 'ok', 'local']}},\n",
       " {'workerIds': [759, 694, 182],\n",
       "  'taskIds': [0, 0, 0],\n",
       "  'inputValues': {'id': 2, 'version': 1},\n",
       "  'outputValues': {'result': ['ok', 'ok', 'ok']}}]"
      ]
     },
     "execution_count": 193,
     "metadata": {},
     "output_type": "execute_result"
    }
   ],
   "source": [
    "aggregated = aggregate(x)\n",
    "aggregated[:2]"
   ]
  },
  {
   "cell_type": "code",
   "execution_count": null,
   "id": "f87624c1",
   "metadata": {},
   "outputs": [],
   "source": []
  },
  {
   "cell_type": "code",
   "execution_count": null,
   "id": "1f5d45a3",
   "metadata": {},
   "outputs": [],
   "source": []
  },
  {
   "cell_type": "code",
   "execution_count": null,
   "id": "0a445591",
   "metadata": {},
   "outputs": [],
   "source": []
  },
  {
   "cell_type": "code",
   "execution_count": null,
   "id": "0ce28d93",
   "metadata": {},
   "outputs": [],
   "source": [
    "\n",
    "agg = aggregate(x)\n",
    "len(agg)"
   ]
  },
  {
   "cell_type": "code",
   "execution_count": null,
   "id": "cd362d40",
   "metadata": {},
   "outputs": [],
   "source": []
  },
  {
   "cell_type": "code",
   "execution_count": null,
   "id": "c31198e3",
   "metadata": {},
   "outputs": [],
   "source": []
  },
  {
   "cell_type": "code",
   "execution_count": null,
   "id": "b7fd804f",
   "metadata": {},
   "outputs": [],
   "source": [
    "# your code here  (ﾉ´ з `)ノ\n",
    "\n",
    "def simple_mv(output):\n",
    "    pass\n"
   ]
  },
  {
   "cell_type": "code",
   "execution_count": null,
   "id": "259e770c",
   "metadata": {},
   "outputs": [],
   "source": []
  },
  {
   "cell_type": "code",
   "execution_count": null,
   "id": "bb6c7368",
   "metadata": {},
   "outputs": [],
   "source": []
  },
  {
   "cell_type": "markdown",
   "id": "6248d6d2",
   "metadata": {},
   "source": [
    "__Задание 3__\n",
    "\n",
    "В данных иногда встречаются ситуации, когда три модератора сказали разные вердикты. Не очень понятно что делать с разметкой в таком случае. Давайте будем обрабатывать такие краевые ситуации с помощью какого-нибудь бизнес-правила.\n",
    "\n",
    "Пусть на множестве наших вердикто задан порядок. Я хочу реализовать два правила: \n",
    "\n",
    "__1)__ брать самый жёсткий из выставленных\n",
    "\n",
    "__2)__ брать взвешенный вердикт\n",
    "\n"
   ]
  },
  {
   "cell_type": "code",
   "execution_count": 4,
   "id": "575dfcda",
   "metadata": {},
   "outputs": [],
   "source": [
    "WEIGHTS = {\n",
    "    'ok': 0,\n",
    "    'violence': 1,\n",
    "    'local': 0.5,\n",
    "    'federal': 0\n",
    "}\n",
    "\n",
    "AGG_METHOD = 'max'"
   ]
  },
  {
   "cell_type": "code",
   "execution_count": 5,
   "id": "684a43ae",
   "metadata": {},
   "outputs": [],
   "source": [
    "def get_most_dangerous(output, w=WEIGHTS):\n",
    "    pass"
   ]
  },
  {
   "cell_type": "code",
   "execution_count": 6,
   "id": "a7f88734",
   "metadata": {},
   "outputs": [],
   "source": [
    "def get_average(output, w=WEIGHTS):\n",
    "    pass"
   ]
  },
  {
   "cell_type": "code",
   "execution_count": 7,
   "id": "b0e5817b",
   "metadata": {},
   "outputs": [],
   "source": [
    "def get_verdict(output, w=WEIGHTS):\n",
    "    mv_verd, prob = simple_mv(output)\n",
    "    if prob > 0.5:\n",
    "        return mv_verd\n",
    "    else:\n",
    "        if AGG_METHOD == 'max':\n",
    "            raise NotImplementedError\n",
    "        elif AGG_METHOD == 'avg':\n",
    "            raise NotImplementedError\n",
    "        elif AGG_METHOD == 'random':\n",
    "            raise NotImplementedError\n",
    "        else:\n",
    "            raise NotImplementedError"
   ]
  },
  {
   "cell_type": "markdown",
   "id": "db1fea09",
   "metadata": {},
   "source": [
    "# Справочная информация"
   ]
  },
  {
   "cell_type": "markdown",
   "id": "8c38b8d2",
   "metadata": {},
   "source": [
    "## 1. Исключения"
   ]
  },
  {
   "cell_type": "code",
   "execution_count": 113,
   "id": "8cad696f",
   "metadata": {},
   "outputs": [
    {
     "name": "stdout",
     "output_type": "stream",
     "text": [
      "6.0\n",
      "5.25\n",
      "4.666666666666667\n"
     ]
    },
    {
     "ename": "ZeroDivisionError",
     "evalue": "division by zero",
     "output_type": "error",
     "traceback": [
      "\u001b[0;31m---------------------------------------------------------------------------\u001b[0m",
      "\u001b[0;31mZeroDivisionError\u001b[0m                         Traceback (most recent call last)",
      "\u001b[0;32m<ipython-input-113-8dde0874cf7e>\u001b[0m in \u001b[0;36m<module>\u001b[0;34m\u001b[0m\n\u001b[1;32m      2\u001b[0m \u001b[0;34m\u001b[0m\u001b[0m\n\u001b[1;32m      3\u001b[0m \u001b[0;32mfor\u001b[0m \u001b[0mitem\u001b[0m \u001b[0;32min\u001b[0m \u001b[0mx\u001b[0m\u001b[0;34m:\u001b[0m\u001b[0;34m\u001b[0m\u001b[0;34m\u001b[0m\u001b[0m\n\u001b[0;32m----> 4\u001b[0;31m     \u001b[0mprint\u001b[0m\u001b[0;34m(\u001b[0m\u001b[0;36m42\u001b[0m \u001b[0;34m/\u001b[0m \u001b[0mitem\u001b[0m\u001b[0;34m)\u001b[0m\u001b[0;34m\u001b[0m\u001b[0;34m\u001b[0m\u001b[0m\n\u001b[0m",
      "\u001b[0;31mZeroDivisionError\u001b[0m: division by zero"
     ]
    }
   ],
   "source": [
    "x = [7, 8, 9, 0, 4, -5]\n",
    "\n",
    "for item in x:\n",
    "    print(42 / item)"
   ]
  },
  {
   "cell_type": "code",
   "execution_count": 114,
   "id": "af8a453e",
   "metadata": {},
   "outputs": [
    {
     "name": "stdout",
     "output_type": "stream",
     "text": [
      "6.0\n",
      "5.25\n",
      "4.666666666666667\n",
      "Не могу делить, начальник!\n",
      "10.5\n",
      "-8.4\n"
     ]
    }
   ],
   "source": [
    "x = [7, 8, 9, 0, 4, -5]\n",
    "\n",
    "for item in x:\n",
    "    try:\n",
    "        print(42 / item)\n",
    "    except:\n",
    "        print('Не могу делить, начальник!')"
   ]
  },
  {
   "cell_type": "code",
   "execution_count": 115,
   "id": "05dc3a48",
   "metadata": {},
   "outputs": [
    {
     "name": "stdout",
     "output_type": "stream",
     "text": [
      "20.19773057244549\n",
      "19.115023759163584\n",
      "18.240368239936576\n",
      "Не могу делить, начальник!\n",
      "26.096067251503698\n"
     ]
    },
    {
     "ename": "ValueError",
     "evalue": "math domain error",
     "output_type": "error",
     "traceback": [
      "\u001b[0;31m---------------------------------------------------------------------------\u001b[0m",
      "\u001b[0;31mValueError\u001b[0m                                Traceback (most recent call last)",
      "\u001b[0;32m<ipython-input-115-5cf31aee7ccc>\u001b[0m in \u001b[0;36m<module>\u001b[0;34m\u001b[0m\n\u001b[1;32m      5\u001b[0m \u001b[0;32mfor\u001b[0m \u001b[0mitem\u001b[0m \u001b[0;32min\u001b[0m \u001b[0mx\u001b[0m\u001b[0;34m:\u001b[0m\u001b[0;34m\u001b[0m\u001b[0;34m\u001b[0m\u001b[0m\n\u001b[1;32m      6\u001b[0m     \u001b[0;32mtry\u001b[0m\u001b[0;34m:\u001b[0m\u001b[0;34m\u001b[0m\u001b[0;34m\u001b[0m\u001b[0m\n\u001b[0;32m----> 7\u001b[0;31m         \u001b[0mprint\u001b[0m\u001b[0;34m(\u001b[0m\u001b[0;36m42\u001b[0m \u001b[0;34m/\u001b[0m \u001b[0mlog\u001b[0m\u001b[0;34m(\u001b[0m\u001b[0mitem\u001b[0m \u001b[0;34m+\u001b[0m \u001b[0;36m1\u001b[0m\u001b[0;34m)\u001b[0m\u001b[0;34m)\u001b[0m\u001b[0;34m\u001b[0m\u001b[0;34m\u001b[0m\u001b[0m\n\u001b[0m\u001b[1;32m      8\u001b[0m     \u001b[0;32mexcept\u001b[0m \u001b[0mZeroDivisionError\u001b[0m\u001b[0;34m:\u001b[0m\u001b[0;34m\u001b[0m\u001b[0;34m\u001b[0m\u001b[0m\n\u001b[1;32m      9\u001b[0m         \u001b[0mprint\u001b[0m\u001b[0;34m(\u001b[0m\u001b[0;34m'Не могу делить, начальник!'\u001b[0m\u001b[0;34m)\u001b[0m\u001b[0;34m\u001b[0m\u001b[0;34m\u001b[0m\u001b[0m\n",
      "\u001b[0;31mValueError\u001b[0m: math domain error"
     ]
    }
   ],
   "source": [
    "from math import log\n",
    "\n",
    "x = [7, 8, 9, 0, 4, -5]\n",
    "\n",
    "for item in x:\n",
    "    try:\n",
    "        print(42 / log(item + 1))\n",
    "    except ZeroDivisionError:\n",
    "        print('Не могу делить, начальник!')"
   ]
  },
  {
   "cell_type": "code",
   "execution_count": 116,
   "id": "b9a783c2",
   "metadata": {},
   "outputs": [
    {
     "name": "stdout",
     "output_type": "stream",
     "text": [
      "20.19773057244549\n",
      "19.115023759163584\n",
      "18.240368239936576\n",
      "Не могу делить, начальник!\n",
      "26.096067251503698\n",
      "Не могу искать лоагрифм, начальник!\n"
     ]
    }
   ],
   "source": [
    "from math import log\n",
    "\n",
    "x = [7, 8, 9, 0, 4, -5]\n",
    "\n",
    "for item in x:\n",
    "    try:\n",
    "        print(42 / log(item + 1))\n",
    "    except ZeroDivisionError:\n",
    "        print('Не могу делить, начальник!')\n",
    "    except ValueError:\n",
    "        print('Не могу искать лоагрифм, начальник!')"
   ]
  },
  {
   "cell_type": "code",
   "execution_count": 117,
   "id": "1c1a0fd1",
   "metadata": {},
   "outputs": [],
   "source": [
    "x = 4\n",
    "assert x < 5, 'На самом деле это не так'"
   ]
  },
  {
   "cell_type": "code",
   "execution_count": 118,
   "id": "80d7324e",
   "metadata": {},
   "outputs": [
    {
     "ename": "AssertionError",
     "evalue": "На самом деле это не так",
     "output_type": "error",
     "traceback": [
      "\u001b[0;31m---------------------------------------------------------------------------\u001b[0m",
      "\u001b[0;31mAssertionError\u001b[0m                            Traceback (most recent call last)",
      "\u001b[0;32m<ipython-input-118-5159f99b8bc5>\u001b[0m in \u001b[0;36m<module>\u001b[0;34m\u001b[0m\n\u001b[1;32m      1\u001b[0m \u001b[0mx\u001b[0m \u001b[0;34m=\u001b[0m \u001b[0;36m15\u001b[0m\u001b[0;34m\u001b[0m\u001b[0;34m\u001b[0m\u001b[0m\n\u001b[0;32m----> 2\u001b[0;31m \u001b[0;32massert\u001b[0m \u001b[0mx\u001b[0m \u001b[0;34m<\u001b[0m \u001b[0;36m5\u001b[0m\u001b[0;34m,\u001b[0m \u001b[0;34m'На самом деле это не так'\u001b[0m\u001b[0;34m\u001b[0m\u001b[0;34m\u001b[0m\u001b[0m\n\u001b[0m",
      "\u001b[0;31mAssertionError\u001b[0m: На самом деле это не так"
     ]
    }
   ],
   "source": [
    "x = 15\n",
    "assert x < 5, 'На самом деле это не так'"
   ]
  },
  {
   "cell_type": "code",
   "execution_count": 120,
   "id": "d6bb6bbf",
   "metadata": {},
   "outputs": [],
   "source": [
    "def f(x):\n",
    "    if x > 5:\n",
    "        raise ValueError('На вход пришли плохие данные, посмотри на них!')\n",
    "    else:\n",
    "        return x"
   ]
  },
  {
   "cell_type": "code",
   "execution_count": 121,
   "id": "a32e2bbc",
   "metadata": {},
   "outputs": [
    {
     "data": {
      "text/plain": [
       "3"
      ]
     },
     "execution_count": 121,
     "metadata": {},
     "output_type": "execute_result"
    }
   ],
   "source": [
    "f(3)"
   ]
  },
  {
   "cell_type": "code",
   "execution_count": 122,
   "id": "7943befe",
   "metadata": {},
   "outputs": [
    {
     "ename": "ValueError",
     "evalue": "На вход пришли плохие данные, посмотри на них!",
     "output_type": "error",
     "traceback": [
      "\u001b[0;31m---------------------------------------------------------------------------\u001b[0m",
      "\u001b[0;31mValueError\u001b[0m                                Traceback (most recent call last)",
      "\u001b[0;32m<ipython-input-122-c2c1dafb2d0e>\u001b[0m in \u001b[0;36m<module>\u001b[0;34m\u001b[0m\n\u001b[0;32m----> 1\u001b[0;31m \u001b[0mf\u001b[0m\u001b[0;34m(\u001b[0m\u001b[0;36m17\u001b[0m\u001b[0;34m)\u001b[0m\u001b[0;34m\u001b[0m\u001b[0;34m\u001b[0m\u001b[0m\n\u001b[0m",
      "\u001b[0;32m<ipython-input-120-82edbe967fa0>\u001b[0m in \u001b[0;36mf\u001b[0;34m(x)\u001b[0m\n\u001b[1;32m      1\u001b[0m \u001b[0;32mdef\u001b[0m \u001b[0mf\u001b[0m\u001b[0;34m(\u001b[0m\u001b[0mx\u001b[0m\u001b[0;34m)\u001b[0m\u001b[0;34m:\u001b[0m\u001b[0;34m\u001b[0m\u001b[0;34m\u001b[0m\u001b[0m\n\u001b[1;32m      2\u001b[0m     \u001b[0;32mif\u001b[0m \u001b[0mx\u001b[0m \u001b[0;34m>\u001b[0m \u001b[0;36m5\u001b[0m\u001b[0;34m:\u001b[0m\u001b[0;34m\u001b[0m\u001b[0;34m\u001b[0m\u001b[0m\n\u001b[0;32m----> 3\u001b[0;31m         \u001b[0;32mraise\u001b[0m \u001b[0mValueError\u001b[0m\u001b[0;34m(\u001b[0m\u001b[0;34m'На вход пришли плохие данные, посмотри на них!'\u001b[0m\u001b[0;34m)\u001b[0m\u001b[0;34m\u001b[0m\u001b[0;34m\u001b[0m\u001b[0m\n\u001b[0m\u001b[1;32m      4\u001b[0m     \u001b[0;32melse\u001b[0m\u001b[0;34m:\u001b[0m\u001b[0;34m\u001b[0m\u001b[0;34m\u001b[0m\u001b[0m\n\u001b[1;32m      5\u001b[0m         \u001b[0;32mreturn\u001b[0m \u001b[0mx\u001b[0m\u001b[0;34m\u001b[0m\u001b[0;34m\u001b[0m\u001b[0m\n",
      "\u001b[0;31mValueError\u001b[0m: На вход пришли плохие данные, посмотри на них!"
     ]
    }
   ],
   "source": [
    "f(17)"
   ]
  },
  {
   "cell_type": "markdown",
   "id": "724d8a33",
   "metadata": {},
   "source": [
    "Можно отлавливать конкретные ошибки и записывать их в массив!"
   ]
  },
  {
   "cell_type": "code",
   "execution_count": 123,
   "id": "f20456ff",
   "metadata": {},
   "outputs": [
    {
     "name": "stdout",
     "output_type": "stream",
     "text": [
      "4\n",
      "5\n",
      "Возникла ошибка и я запомнил данные где она произошла\n",
      "Возникла ошибка и я запомнил данные где она произошла\n",
      "0\n",
      "5\n",
      "Возникла ошибка и я запомнил данные где она произошла\n",
      "2\n"
     ]
    }
   ],
   "source": [
    "errors = [ ]\n",
    "\n",
    "for x in [4, 5, 17, 22, 0, 5 , 8, 2]:\n",
    "    try:\n",
    "        print(f(x))\n",
    "    except ValueError:\n",
    "        errors.append(x)\n",
    "        print('Возникла ошибка и я запомнил данные где она произошла')"
   ]
  },
  {
   "cell_type": "code",
   "execution_count": 124,
   "id": "a14be0bc",
   "metadata": {},
   "outputs": [
    {
     "data": {
      "text/plain": [
       "[17, 22, 8]"
      ]
     },
     "execution_count": 124,
     "metadata": {},
     "output_type": "execute_result"
    }
   ],
   "source": [
    "errors"
   ]
  },
  {
   "cell_type": "markdown",
   "id": "527fc49e",
   "metadata": {},
   "source": [
    "## 2. List comprehension"
   ]
  },
  {
   "cell_type": "markdown",
   "id": "84454e72",
   "metadata": {},
   "source": [
    "Я хочу посчитать сумму первых ста чисел.\n",
    "\n"
   ]
  },
  {
   "cell_type": "code",
   "execution_count": 29,
   "id": "93aea499",
   "metadata": {},
   "outputs": [
    {
     "data": {
      "text/plain": [
       "5050"
      ]
     },
     "execution_count": 29,
     "metadata": {},
     "output_type": "execute_result"
    }
   ],
   "source": [
    "n = 100\n",
    "s = 0\n",
    "\n",
    "for i in range(1, n + 1):\n",
    "    s += i\n",
    "s"
   ]
  },
  {
   "cell_type": "code",
   "execution_count": 30,
   "id": "15b25a46",
   "metadata": {},
   "outputs": [
    {
     "data": {
      "text/plain": [
       "[0, 1, 2, 3, 4, 5, 6, 7, 8, 9]"
      ]
     },
     "execution_count": 30,
     "metadata": {},
     "output_type": "execute_result"
    }
   ],
   "source": [
    "[i for i in range(10)]"
   ]
  },
  {
   "cell_type": "code",
   "execution_count": 31,
   "id": "120ed348",
   "metadata": {},
   "outputs": [
    {
     "data": {
      "text/plain": [
       "5050"
      ]
     },
     "execution_count": 31,
     "metadata": {},
     "output_type": "execute_result"
    }
   ],
   "source": [
    "sum([i for i in range(1, 101)])"
   ]
  },
  {
   "cell_type": "markdown",
   "id": "cd87a492",
   "metadata": {},
   "source": [
    "Я хочу посчитать сумму квадротов первых ста чисел если они четные"
   ]
  },
  {
   "cell_type": "code",
   "execution_count": 32,
   "id": "b34e9154",
   "metadata": {},
   "outputs": [
    {
     "data": {
      "text/plain": [
       "[0, 4, 16, 36, 64]"
      ]
     },
     "execution_count": 32,
     "metadata": {},
     "output_type": "execute_result"
    }
   ],
   "source": [
    "[i ** 2 for i in range(10) if i % 2 == 0]"
   ]
  },
  {
   "cell_type": "code",
   "execution_count": 33,
   "id": "cfba8d0c",
   "metadata": {},
   "outputs": [
    {
     "data": {
      "text/plain": [
       "171700"
      ]
     },
     "execution_count": 33,
     "metadata": {},
     "output_type": "execute_result"
    }
   ],
   "source": [
    "sum([i ** 2 for i in range(1, 101) if i % 2 == 0])"
   ]
  },
  {
   "cell_type": "code",
   "execution_count": 34,
   "id": "8d04f582",
   "metadata": {},
   "outputs": [
    {
     "data": {
      "text/plain": [
       "'even'"
      ]
     },
     "execution_count": 34,
     "metadata": {},
     "output_type": "execute_result"
    }
   ],
   "source": [
    "# Тернарные выражения\n",
    "a = 6\n",
    "\n",
    "ans = 'even' if a % 2 == 0  else 'odd'\n",
    "ans"
   ]
  },
  {
   "cell_type": "code",
   "execution_count": 35,
   "id": "df73964e",
   "metadata": {},
   "outputs": [
    {
     "data": {
      "text/plain": [
       "['even', 'odd', 'even', 'odd', 'even', 'odd', 'even', 'odd', 'even', 'odd']"
      ]
     },
     "execution_count": 35,
     "metadata": {},
     "output_type": "execute_result"
    }
   ],
   "source": [
    "['even' if i % 2 == 0  else 'odd'  for i in range(10)]"
   ]
  },
  {
   "cell_type": "code",
   "execution_count": 36,
   "id": "1e62b136",
   "metadata": {},
   "outputs": [
    {
     "data": {
      "text/plain": [
       "[[0, 1, 2, 3, 4],\n",
       " [1, 2, 3, 4, 5],\n",
       " [2, 3, 4, 5, 6],\n",
       " [3, 4, 5, 6, 7],\n",
       " [4, 5, 6, 7, 8]]"
      ]
     },
     "execution_count": 36,
     "metadata": {},
     "output_type": "execute_result"
    }
   ],
   "source": [
    "[[i + j for i in range(5)] for j in range(5)]"
   ]
  },
  {
   "cell_type": "markdown",
   "id": "d4ccb62e",
   "metadata": {},
   "source": [
    "## 3. Полезные мелочи"
   ]
  },
  {
   "cell_type": "code",
   "execution_count": null,
   "id": "a0995d68",
   "metadata": {},
   "outputs": [],
   "source": [
    "# все внутри должно быть True\n",
    "all([True, False, True])"
   ]
  },
  {
   "cell_type": "code",
   "execution_count": null,
   "id": "31938596",
   "metadata": {},
   "outputs": [],
   "source": [
    "# хотябы 1 объект нутри должно быть True\n",
    "any([True, False, True])"
   ]
  },
  {
   "cell_type": "code",
   "execution_count": null,
   "id": "9476abe7",
   "metadata": {},
   "outputs": [],
   "source": [
    "a = [1, 2, 3, 4, 5]\n",
    "\n",
    "fun = lambda w: w ** 2\n",
    "\n",
    "map(fun, a) # обещание применить функцию fun к каждому объекту из a"
   ]
  },
  {
   "cell_type": "markdown",
   "id": "48f105ba",
   "metadata": {},
   "source": [
    "Оставьте в тексте ниже только цифры"
   ]
  },
  {
   "cell_type": "code",
   "execution_count": null,
   "id": "f439e93c",
   "metadata": {},
   "outputs": [],
   "source": [
    "text = \"Все 4 ваши 8 проб15лемы реш17ит ко23д 42\""
   ]
  },
  {
   "cell_type": "code",
   "execution_count": null,
   "id": "e597ea10",
   "metadata": {},
   "outputs": [],
   "source": [
    "''.join([letter for letter in text if letter.isdigit()])"
   ]
  },
  {
   "cell_type": "code",
   "execution_count": null,
   "id": "727c8e80",
   "metadata": {},
   "outputs": [],
   "source": [
    "list(map(lambda w: w.isdigit(), text))"
   ]
  },
  {
   "cell_type": "code",
   "execution_count": null,
   "id": "659263c6",
   "metadata": {},
   "outputs": [],
   "source": [
    "''.join(filter(lambda w: w.isdigit(), text))"
   ]
  },
  {
   "cell_type": "markdown",
   "id": "1f66fb86",
   "metadata": {},
   "source": [
    "## 4. Модуль collections\n",
    "\n",
    "Внутри этого модуля куча полезных структур данных."
   ]
  },
  {
   "cell_type": "code",
   "execution_count": 42,
   "id": "328e8bb0",
   "metadata": {},
   "outputs": [
    {
     "data": {
      "text/plain": [
       "Counter({'red': 2, 'blue': 3, 'green': 1})"
      ]
     },
     "execution_count": 42,
     "metadata": {},
     "output_type": "execute_result"
    }
   ],
   "source": [
    "from collections import Counter\n",
    "\n",
    "a = ['red', 'blue', 'red', 'green', 'blue', 'blue']\n",
    "cnt = Counter(a)\n",
    "cnt"
   ]
  },
  {
   "cell_type": "code",
   "execution_count": 43,
   "id": "eb6eb272",
   "metadata": {},
   "outputs": [
    {
     "data": {
      "text/plain": [
       "2"
      ]
     },
     "execution_count": 43,
     "metadata": {},
     "output_type": "execute_result"
    }
   ],
   "source": [
    "cnt['red']"
   ]
  },
  {
   "cell_type": "code",
   "execution_count": 44,
   "id": "0f617d27",
   "metadata": {},
   "outputs": [
    {
     "data": {
      "text/plain": [
       "[('blue', 3), ('red', 2), ('green', 1)]"
      ]
     },
     "execution_count": 44,
     "metadata": {},
     "output_type": "execute_result"
    }
   ],
   "source": [
    "cnt.most_common()"
   ]
  },
  {
   "cell_type": "markdown",
   "id": "33ea0b25",
   "metadata": {},
   "source": [
    "Для удобной работы со словарями есть `defaultdict`"
   ]
  },
  {
   "cell_type": "code",
   "execution_count": 45,
   "id": "a5130603",
   "metadata": {},
   "outputs": [
    {
     "data": {
      "text/plain": [
       "{'The': 1,\n",
       " 'red': 1,\n",
       " 'for': 2,\n",
       " 'jumped': 1,\n",
       " 'over': 1,\n",
       " 'the': 2,\n",
       " 'fence': 1,\n",
       " 'and': 1,\n",
       " 'ran': 1,\n",
       " 'to': 1,\n",
       " 'zoo': 1,\n",
       " 'food': 1}"
      ]
     },
     "execution_count": 45,
     "metadata": {},
     "output_type": "execute_result"
    }
   ],
   "source": [
    "sentence = \"The red for jumped over the fence and ran to the zoo for food\"\n",
    "words = sentence.split(' ')\n",
    " \n",
    "reg_dict = {}\n",
    "for word in words:\n",
    "    if word in reg_dict:\n",
    "        reg_dict[word] += 1\n",
    "    else:\n",
    "        reg_dict[word] = 1\n",
    "\n",
    "reg_dict"
   ]
  },
  {
   "cell_type": "code",
   "execution_count": 49,
   "id": "0a7ba0a7",
   "metadata": {},
   "outputs": [
    {
     "data": {
      "text/plain": [
       "{'The': 1,\n",
       " 'red': 1,\n",
       " 'for': 2,\n",
       " 'jumped': 1,\n",
       " 'over': 1,\n",
       " 'the': 2,\n",
       " 'fence': 1,\n",
       " 'and': 1,\n",
       " 'ran': 1,\n",
       " 'to': 1,\n",
       " 'zoo': 1,\n",
       " 'food': 1}"
      ]
     },
     "execution_count": 49,
     "metadata": {},
     "output_type": "execute_result"
    }
   ],
   "source": [
    "from collections import defaultdict\n",
    "\n",
    "sentence = \"The red for jumped over the fence and ran to the zoo for food\"\n",
    "words = sentence.split(' ')\n",
    " \n",
    "reg_dict = defaultdict(lambda: 0)\n",
    "for word in words:\n",
    "    reg_dict[word] += 1\n",
    "\n",
    "dict(reg_dict)"
   ]
  },
  {
   "cell_type": "markdown",
   "id": "c509d21d",
   "metadata": {},
   "source": [
    "- [документация](https://docs.python.org/3.9/library/collections.html?highlight=collections#module-collections)\n",
    "- [примеры использования](https://python-scripts.com/import-collections)"
   ]
  },
  {
   "cell_type": "markdown",
   "id": "a02efea2",
   "metadata": {},
   "source": [
    "## 5. Модуль itertools\n",
    "\n",
    "Внутри этого модуля куча полезных итераторов.\n",
    "\n",
    "Внутри набор быстрых и эффективных по памяти иснтументов. Вместе формируют \"алгебру итераторов\", которая позволяет лаконично и эффективно создвать на python разные штуки. Многие очень специфичные, но рано или поздно могут пригодиться. Рекомендую почитать что есть внутри."
   ]
  },
  {
   "cell_type": "code",
   "execution_count": 64,
   "id": "689be4d2",
   "metadata": {},
   "outputs": [
    {
     "data": {
      "text/plain": [
       "<itertools.permutations at 0x7f52d7549360>"
      ]
     },
     "execution_count": 64,
     "metadata": {},
     "output_type": "execute_result"
    }
   ],
   "source": [
    "from itertools import permutations\n",
    "\n",
    "# Обещание сгенерировать все перестановки (генератор)\n",
    "permutations([1, 2, 3])"
   ]
  },
  {
   "cell_type": "code",
   "execution_count": 65,
   "id": "62002a86",
   "metadata": {},
   "outputs": [
    {
     "data": {
      "text/plain": [
       "[(1, 2, 3), (1, 3, 2), (2, 1, 3), (2, 3, 1), (3, 1, 2), (3, 2, 1)]"
      ]
     },
     "execution_count": 65,
     "metadata": {},
     "output_type": "execute_result"
    }
   ],
   "source": [
    "list(permutations([1, 2, 3]))"
   ]
  },
  {
   "cell_type": "code",
   "execution_count": 66,
   "id": "ac4408e4",
   "metadata": {},
   "outputs": [
    {
     "data": {
      "text/plain": [
       "[('Вика', 'Tom', 'Alex'),\n",
       " ('Вика', 'Alex', 'Tom'),\n",
       " ('Tom', 'Вика', 'Alex'),\n",
       " ('Tom', 'Alex', 'Вика'),\n",
       " ('Alex', 'Вика', 'Tom'),\n",
       " ('Alex', 'Tom', 'Вика')]"
      ]
     },
     "execution_count": 66,
     "metadata": {},
     "output_type": "execute_result"
    }
   ],
   "source": [
    "list(permutations(['Вика', 'Tom', 'Alex']))"
   ]
  },
  {
   "cell_type": "markdown",
   "id": "73dfbad5",
   "metadata": {},
   "source": [
    "Другое полезный пример - это groupby!"
   ]
  },
  {
   "cell_type": "code",
   "execution_count": 77,
   "id": "e0dc88fe",
   "metadata": {},
   "outputs": [],
   "source": [
    "from itertools import groupby\n",
    "\n",
    "student = [\n",
    "        ('john', 'A', 15),\n",
    "        ('jane', 'B', 12),\n",
    "        ('daavee', 'B', 10),\n",
    "    ]"
   ]
  },
  {
   "cell_type": "markdown",
   "id": "29e2748d",
   "metadata": {},
   "source": [
    "По ключу `key` можно указать функцию, которая вычисляется при работе функции."
   ]
  },
  {
   "cell_type": "code",
   "execution_count": 78,
   "id": "7f749aa9",
   "metadata": {},
   "outputs": [
    {
     "data": {
      "text/plain": [
       "('john', 'A', 15)"
      ]
     },
     "execution_count": 78,
     "metadata": {},
     "output_type": "execute_result"
    }
   ],
   "source": [
    "def f(w):\n",
    "    return w[-1]\n",
    "    \n",
    "max(student, key=f)"
   ]
  },
  {
   "cell_type": "code",
   "execution_count": 79,
   "id": "296b3888",
   "metadata": {},
   "outputs": [
    {
     "data": {
      "text/plain": [
       "('john', 'A', 15)"
      ]
     },
     "execution_count": 79,
     "metadata": {},
     "output_type": "execute_result"
    }
   ],
   "source": [
    "max(student, key=lambda w: w[-1])"
   ]
  },
  {
   "cell_type": "code",
   "execution_count": 80,
   "id": "7b6b768d",
   "metadata": {},
   "outputs": [
    {
     "data": {
      "text/plain": [
       "('daavee', 'B', 10)"
      ]
     },
     "execution_count": 80,
     "metadata": {},
     "output_type": "execute_result"
    }
   ],
   "source": [
    "max(student, key=lambda w: len(w[0]))"
   ]
  },
  {
   "cell_type": "code",
   "execution_count": 81,
   "id": "fb4fa7c9",
   "metadata": {},
   "outputs": [
    {
     "data": {
      "text/plain": [
       "[('daavee', 'B', 10), ('jane', 'B', 12), ('john', 'A', 15)]"
      ]
     },
     "execution_count": 81,
     "metadata": {},
     "output_type": "execute_result"
    }
   ],
   "source": [
    "sorted(student, key=lambda w: w[-1])"
   ]
  },
  {
   "cell_type": "code",
   "execution_count": 82,
   "id": "10dc4abe",
   "metadata": {},
   "outputs": [
    {
     "data": {
      "text/plain": [
       "<itertools.groupby at 0x7f52d754e1d8>"
      ]
     },
     "execution_count": 82,
     "metadata": {},
     "output_type": "execute_result"
    }
   ],
   "source": [
    "groupby(student, key=lambda w: w[1])"
   ]
  },
  {
   "cell_type": "code",
   "execution_count": 83,
   "id": "aeba2f2d",
   "metadata": {},
   "outputs": [
    {
     "data": {
      "text/plain": [
       "[('A', <itertools._grouper at 0x7f52d755fe80>),\n",
       " ('B', <itertools._grouper at 0x7f52d755f6d8>)]"
      ]
     },
     "execution_count": 83,
     "metadata": {},
     "output_type": "execute_result"
    }
   ],
   "source": [
    "list( groupby(student, key=lambda w: w[1]))"
   ]
  },
  {
   "cell_type": "code",
   "execution_count": 84,
   "id": "2d4f96e0",
   "metadata": {},
   "outputs": [
    {
     "data": {
      "text/plain": [
       "[('A', [('john', 'A', 15)]), ('B', [('jane', 'B', 12), ('daavee', 'B', 10)])]"
      ]
     },
     "execution_count": 84,
     "metadata": {},
     "output_type": "execute_result"
    }
   ],
   "source": [
    "[(i, list(v)) for i,v in groupby(student, key=lambda w: w[1]) ]"
   ]
  },
  {
   "cell_type": "markdown",
   "id": "e3b1e810",
   "metadata": {},
   "source": [
    "__Важно:__ этот `groupby` глуповат и умеет группировать только отсротированные данные."
   ]
  },
  {
   "cell_type": "code",
   "execution_count": 85,
   "id": "c10892d1",
   "metadata": {},
   "outputs": [
    {
     "data": {
      "text/plain": [
       "[('B', [('jane', 'B', 12)]),\n",
       " ('A', [('john', 'A', 15)]),\n",
       " ('B', [('daavee', 'B', 10)])]"
      ]
     },
     "execution_count": 85,
     "metadata": {},
     "output_type": "execute_result"
    }
   ],
   "source": [
    "student = [\n",
    "        ('jane', 'B', 12),\n",
    "        ('john', 'A', 15),\n",
    "        ('daavee', 'B', 10),\n",
    "    ]\n",
    "\n",
    "[(i, list(v)) for i,v in groupby(student, key=lambda w: w[1]) ]"
   ]
  },
  {
   "cell_type": "code",
   "execution_count": 86,
   "id": "a8fbceac",
   "metadata": {},
   "outputs": [
    {
     "data": {
      "text/plain": [
       "[('A', [('john', 'A', 15)]), ('B', [('jane', 'B', 12), ('daavee', 'B', 10)])]"
      ]
     },
     "execution_count": 86,
     "metadata": {},
     "output_type": "execute_result"
    }
   ],
   "source": [
    "[(i, list(v)) for i,v in groupby(sorted(student, key=lambda w: w[1]), key=lambda w: w[1]) ]"
   ]
  },
  {
   "cell_type": "markdown",
   "id": "ae530c49",
   "metadata": {},
   "source": [
    "- [Документация](https://docs.python.org/3.9/library/itertools.html?highlight=itertools)\n",
    "- [Обзорная статья на хабре с примерами кода](https://habr.com/ru/company/otus/blog/529356/)"
   ]
  },
  {
   "cell_type": "markdown",
   "id": "96284938",
   "metadata": {},
   "source": [
    "## 6. Модуль operator\n",
    "\n",
    "Внутри разные стандартные штуки вроде сложения, умножения и тп, но реализованные эффективно по памяти. Этот модуль очень удобно совмещать с itertools, код работает быстрее.\n",
    "\n",
    "Одна из самых необычных штук - концепция геттеров. Это функция, которая извлекает по указанному пути нужные части структуры. Они полезны при работе с итераторами или генераторами последовательностей, так как вычисляются эффективнее, чем лямбда-функции, записанные в key."
   ]
  },
  {
   "cell_type": "code",
   "execution_count": 153,
   "id": "f52c8465",
   "metadata": {},
   "outputs": [
    {
     "data": {
      "text/plain": [
       "[('daavee', 'B', 10), ('jane', 'B', 12), ('john', 'A', 15)]"
      ]
     },
     "execution_count": 153,
     "metadata": {},
     "output_type": "execute_result"
    }
   ],
   "source": [
    "from operator import itemgetter as at\n",
    "\n",
    "student = [\n",
    "        ('john', 'A', 15),\n",
    "        ('jane', 'B', 12),\n",
    "        ('daavee', 'B', 10),\n",
    "    ]\n",
    "\n",
    "# указал 2 координату\n",
    "# lambda w: w[2]\n",
    "sorted(student, key=at(2))"
   ]
  },
  {
   "cell_type": "code",
   "execution_count": 154,
   "id": "42aef12c",
   "metadata": {},
   "outputs": [
    {
     "data": {
      "text/plain": [
       "[('john', 'A', 15), ('jane', 'B', 12), ('daavee', 'B', 10)]"
      ]
     },
     "execution_count": 154,
     "metadata": {},
     "output_type": "execute_result"
    }
   ],
   "source": [
    "# указал 1 координату\n",
    "sorted(student, key=at(1))"
   ]
  },
  {
   "cell_type": "code",
   "execution_count": 156,
   "id": "85769f8d",
   "metadata": {},
   "outputs": [
    {
     "data": {
      "text/plain": [
       "[('daavee', 'B', 10), ('jane', 'B', 12), ('john', 'A', 15)]"
      ]
     },
     "execution_count": 156,
     "metadata": {},
     "output_type": "execute_result"
    }
   ],
   "source": [
    "# сортируем сначала по оценке, а потом и по возрасту\n",
    "sorted(student, key=at(2,1))"
   ]
  },
  {
   "cell_type": "code",
   "execution_count": 157,
   "id": "1dc6d1b5",
   "metadata": {},
   "outputs": [
    {
     "data": {
      "text/plain": [
       "[('A', [('john', 'A', 15)]), ('B', [('jane', 'B', 12), ('daavee', 'B', 10)])]"
      ]
     },
     "execution_count": 157,
     "metadata": {},
     "output_type": "execute_result"
    }
   ],
   "source": [
    "# распаковка groupby\n",
    "[(i, list(v)) for i,v in groupby(student, key=at(1)) ]"
   ]
  },
  {
   "cell_type": "markdown",
   "id": "e739b79e",
   "metadata": {},
   "source": [
    "Можно заставлять его вытаскивать конкретные ключи, а не координаты!\n",
    "\n"
   ]
  },
  {
   "cell_type": "code",
   "execution_count": 158,
   "id": "5b5df10f",
   "metadata": {},
   "outputs": [
    {
     "data": {
      "text/plain": [
       "[(1, [{'a': 1}, {'a': 1}]), (5, [{'a': 5}])]"
      ]
     },
     "execution_count": 158,
     "metadata": {},
     "output_type": "execute_result"
    }
   ],
   "source": [
    "adict = [{'a': 1}, {'a': 1}, {'a': 5}]\n",
    "\n",
    "[(i, list(v)) for i,v in groupby(adict, at('a'))]"
   ]
  },
  {
   "cell_type": "markdown",
   "id": "9a737e22",
   "metadata": {},
   "source": [
    "- [Документация](https://docs.python.org/3.9/library/operator.html)\n",
    "- [Примеры использования, но сложноватые](https://pymotw.com/2/operator/)"
   ]
  },
  {
   "cell_type": "markdown",
   "id": "16d92f6b",
   "metadata": {},
   "source": [
    " "
   ]
  }
 ],
 "metadata": {
  "kernelspec": {
   "display_name": "Python 3",
   "language": "python",
   "name": "python3"
  },
  "language_info": {
   "codemirror_mode": {
    "name": "ipython",
    "version": 3
   },
   "file_extension": ".py",
   "mimetype": "text/x-python",
   "name": "python",
   "nbconvert_exporter": "python",
   "pygments_lexer": "ipython3",
   "version": "3.6.9"
  }
 },
 "nbformat": 4,
 "nbformat_minor": 5
}
