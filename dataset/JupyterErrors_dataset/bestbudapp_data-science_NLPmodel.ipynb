{
 "cells": [
  {
   "cell_type": "code",
   "execution_count": 4,
   "metadata": {},
   "outputs": [],
   "source": [
    "# import statements\n",
    "import matplotlib.pyplot as plt\n",
    "import numpy as np\n",
    "import pandas as pd\n",
    "import spacy\n",
    "import squarify\n",
    "\n",
    "from sklearn.feature_extraction.text import CountVectorizer\n",
    "from sklearn.feature_extraction.text import TfidfVectorizer\n",
    "from sklearn.neighbors import NearestNeighbors\n",
    "from collections import Counter\n",
    "from spacy.tokenizer import Tokenizer\n",
    "# nlp = spacy.load(\"en_core_web_md\")"
   ]
  },
  {
   "cell_type": "code",
   "execution_count": 5,
   "metadata": {},
   "outputs": [],
   "source": [
    "df = pd.read_csv('./final_df_percentsep.csv', sep='%', index_col='Unnamed: 0')"
   ]
  },
  {
   "cell_type": "code",
   "execution_count": 6,
   "metadata": {},
   "outputs": [
    {
     "data": {
      "text/html": [
       "<div>\n",
       "<style scoped>\n",
       "    .dataframe tbody tr th:only-of-type {\n",
       "        vertical-align: middle;\n",
       "    }\n",
       "\n",
       "    .dataframe tbody tr th {\n",
       "        vertical-align: top;\n",
       "    }\n",
       "\n",
       "    .dataframe thead th {\n",
       "        text-align: right;\n",
       "    }\n",
       "</style>\n",
       "<table border=\"1\" class=\"dataframe\">\n",
       "  <thead>\n",
       "    <tr style=\"text-align: right;\">\n",
       "      <th></th>\n",
       "      <th>name</th>\n",
       "      <th>flavors</th>\n",
       "      <th>race</th>\n",
       "      <th>positive_effects</th>\n",
       "      <th>negative_effects</th>\n",
       "      <th>medical_uses</th>\n",
       "      <th>Rating</th>\n",
       "      <th>Description</th>\n",
       "    </tr>\n",
       "  </thead>\n",
       "  <tbody>\n",
       "    <tr>\n",
       "      <td>1</td>\n",
       "      <td>Afpak</td>\n",
       "      <td>Earthy, Chemical, Pine, SpicyHerbal</td>\n",
       "      <td>hybrid</td>\n",
       "      <td>Relaxed, Hungry, Happy, Sleepy, Creative, Focused</td>\n",
       "      <td>Dizzy</td>\n",
       "      <td>Depression, Insomnia, Pain, Stress, Lack of Ap...</td>\n",
       "      <td>4.2</td>\n",
       "      <td>Afpak named for its direct Afghani and Pakista...</td>\n",
       "    </tr>\n",
       "    <tr>\n",
       "      <td>2</td>\n",
       "      <td>African</td>\n",
       "      <td>SpicyHerbal, Pungent, Earthy, Pepper</td>\n",
       "      <td>sativa</td>\n",
       "      <td>Euphoric, Happy, Creative, Energetic, Talkativ...</td>\n",
       "      <td>Dry Mouth</td>\n",
       "      <td>Depression, Pain, Stress, Lack of Appetite, Na...</td>\n",
       "      <td>3.9</td>\n",
       "      <td>African refers to the indigenous varieties of ...</td>\n",
       "    </tr>\n",
       "    <tr>\n",
       "      <td>3</td>\n",
       "      <td>Afternoon Delight</td>\n",
       "      <td>Pepper, Flowery, Pine, Pungent, Citrus, Tropical</td>\n",
       "      <td>hybrid</td>\n",
       "      <td>Relaxed, Hungry, Euphoric, Uplifted, Tingly, T...</td>\n",
       "      <td>Dizzy, Dry Mouth, Paranoid</td>\n",
       "      <td>Depression, Insomnia, Pain, Stress, Cramps, He...</td>\n",
       "      <td>4.8</td>\n",
       "      <td>Afternoon Delight created by Colorado Seed Inc...</td>\n",
       "    </tr>\n",
       "    <tr>\n",
       "      <td>4</td>\n",
       "      <td>Afwreck</td>\n",
       "      <td>Pine, Earthy, Flowery, Pungent</td>\n",
       "      <td>hybrid</td>\n",
       "      <td>Relaxed, Happy, Creative, Uplifted, Sleepy, Eu...</td>\n",
       "      <td>Dizzy, Dry Mouth, Paranoid, Dry Eyes</td>\n",
       "      <td>Pain, Stress, Headache, Fatigue, Headaches, Mu...</td>\n",
       "      <td>4.2</td>\n",
       "      <td>Afwreck is a hybrid cross of Afghani and Train...</td>\n",
       "    </tr>\n",
       "    <tr>\n",
       "      <td>5</td>\n",
       "      <td>Agent Orange</td>\n",
       "      <td>Citrus, Orange, Sweet, Earthy</td>\n",
       "      <td>hybrid</td>\n",
       "      <td>Relaxed, Euphoric, Happy, Energetic, Uplifted</td>\n",
       "      <td>Dizzy, Dry Mouth, Paranoid, Dry Eyes</td>\n",
       "      <td>Depression, Pain, Stress, Nausea, Headache, He...</td>\n",
       "      <td>4.2</td>\n",
       "      <td>Don’t let the name scare you! The only herbici...</td>\n",
       "    </tr>\n",
       "  </tbody>\n",
       "</table>\n",
       "</div>"
      ],
      "text/plain": [
       "                name                                           flavors  \\\n",
       "1              Afpak               Earthy, Chemical, Pine, SpicyHerbal   \n",
       "2            African              SpicyHerbal, Pungent, Earthy, Pepper   \n",
       "3  Afternoon Delight  Pepper, Flowery, Pine, Pungent, Citrus, Tropical   \n",
       "4            Afwreck                    Pine, Earthy, Flowery, Pungent   \n",
       "5       Agent Orange                     Citrus, Orange, Sweet, Earthy   \n",
       "\n",
       "     race                                   positive_effects  \\\n",
       "1  hybrid  Relaxed, Hungry, Happy, Sleepy, Creative, Focused   \n",
       "2  sativa  Euphoric, Happy, Creative, Energetic, Talkativ...   \n",
       "3  hybrid  Relaxed, Hungry, Euphoric, Uplifted, Tingly, T...   \n",
       "4  hybrid  Relaxed, Happy, Creative, Uplifted, Sleepy, Eu...   \n",
       "5  hybrid      Relaxed, Euphoric, Happy, Energetic, Uplifted   \n",
       "\n",
       "                       negative_effects  \\\n",
       "1                                 Dizzy   \n",
       "2                             Dry Mouth   \n",
       "3            Dizzy, Dry Mouth, Paranoid   \n",
       "4  Dizzy, Dry Mouth, Paranoid, Dry Eyes   \n",
       "5  Dizzy, Dry Mouth, Paranoid, Dry Eyes   \n",
       "\n",
       "                                        medical_uses  Rating  \\\n",
       "1  Depression, Insomnia, Pain, Stress, Lack of Ap...     4.2   \n",
       "2  Depression, Pain, Stress, Lack of Appetite, Na...     3.9   \n",
       "3  Depression, Insomnia, Pain, Stress, Cramps, He...     4.8   \n",
       "4  Pain, Stress, Headache, Fatigue, Headaches, Mu...     4.2   \n",
       "5  Depression, Pain, Stress, Nausea, Headache, He...     4.2   \n",
       "\n",
       "                                         Description  \n",
       "1  Afpak named for its direct Afghani and Pakista...  \n",
       "2  African refers to the indigenous varieties of ...  \n",
       "3  Afternoon Delight created by Colorado Seed Inc...  \n",
       "4  Afwreck is a hybrid cross of Afghani and Train...  \n",
       "5  Don’t let the name scare you! The only herbici...  "
      ]
     },
     "execution_count": 6,
     "metadata": {},
     "output_type": "execute_result"
    }
   ],
   "source": [
    "df.head()"
   ]
  },
  {
   "cell_type": "code",
   "execution_count": 7,
   "metadata": {},
   "outputs": [
    {
     "data": {
      "text/plain": [
       "name                  0\n",
       "flavors               0\n",
       "race                  0\n",
       "positive_effects      0\n",
       "negative_effects    263\n",
       "medical_uses          0\n",
       "Rating                0\n",
       "Description          22\n",
       "dtype: int64"
      ]
     },
     "execution_count": 7,
     "metadata": {},
     "output_type": "execute_result"
    }
   ],
   "source": [
    "df.isnull().sum()"
   ]
  },
  {
   "cell_type": "code",
   "execution_count": 8,
   "metadata": {},
   "outputs": [],
   "source": [
    "df = df.fillna('none')"
   ]
  },
  {
   "cell_type": "code",
   "execution_count": 9,
   "metadata": {},
   "outputs": [
    {
     "data": {
      "text/plain": [
       "name                0\n",
       "flavors             0\n",
       "race                0\n",
       "positive_effects    0\n",
       "negative_effects    0\n",
       "medical_uses        0\n",
       "Rating              0\n",
       "Description         0\n",
       "dtype: int64"
      ]
     },
     "execution_count": 9,
     "metadata": {},
     "output_type": "execute_result"
    }
   ],
   "source": [
    "df.isnull().sum()"
   ]
  },
  {
   "cell_type": "code",
   "execution_count": 10,
   "metadata": {},
   "outputs": [
    {
     "ename": "NameError",
     "evalue": "name 'nlp' is not defined",
     "output_type": "error",
     "traceback": [
      "\u001b[0;31m---------------------------------------------------------------------------\u001b[0m",
      "\u001b[0;31mNameError\u001b[0m                                 Traceback (most recent call last)",
      "\u001b[0;32m<ipython-input-10-d952d73b3c6d>\u001b[0m in \u001b[0;36m<module>\u001b[0;34m\u001b[0m\n\u001b[1;32m      1\u001b[0m \u001b[0;31m# Tokenizer\u001b[0m\u001b[0;34m\u001b[0m\u001b[0;34m\u001b[0m\u001b[0;34m\u001b[0m\u001b[0m\n\u001b[0;32m----> 2\u001b[0;31m \u001b[0mtokenizer\u001b[0m \u001b[0;34m=\u001b[0m \u001b[0mTokenizer\u001b[0m\u001b[0;34m(\u001b[0m\u001b[0mnlp\u001b[0m\u001b[0;34m.\u001b[0m\u001b[0mvocab\u001b[0m\u001b[0;34m)\u001b[0m\u001b[0;34m\u001b[0m\u001b[0;34m\u001b[0m\u001b[0m\n\u001b[0m",
      "\u001b[0;31mNameError\u001b[0m: name 'nlp' is not defined"
     ]
    }
   ],
   "source": [
    "# Tokenizer\n",
    "tokenizer = Tokenizer(nlp.vocab)"
   ]
  },
  {
   "cell_type": "code",
   "execution_count": 10,
   "metadata": {},
   "outputs": [],
   "source": [
    "def tokenize(doc):\n",
    "        \"\"\"Return the tokens\"\"\"\n",
    "        return [token.text for token in tokenizer(doc)]"
   ]
  },
  {
   "cell_type": "code",
   "execution_count": 11,
   "metadata": {},
   "outputs": [],
   "source": [
    "# combine all text features into one string:\n",
    "\n",
    "df['combined_text'] = df.name + \" \" + df.flavors +  \" \" + df.race + \" \" + df.positive_effects + \" \" + df.negative_effects + \" \" + df.medical_uses + \" \" + df.Description\n",
    "# Removing punctuations from our string\n",
    "df[\"combined_text\"] = df['combined_text'].str.replace('[^\\w\\s]',' ')"
   ]
  },
  {
   "cell_type": "code",
   "execution_count": 12,
   "metadata": {},
   "outputs": [
    {
     "data": {
      "text/html": [
       "<div>\n",
       "<style scoped>\n",
       "    .dataframe tbody tr th:only-of-type {\n",
       "        vertical-align: middle;\n",
       "    }\n",
       "\n",
       "    .dataframe tbody tr th {\n",
       "        vertical-align: top;\n",
       "    }\n",
       "\n",
       "    .dataframe thead th {\n",
       "        text-align: right;\n",
       "    }\n",
       "</style>\n",
       "<table border=\"1\" class=\"dataframe\">\n",
       "  <thead>\n",
       "    <tr style=\"text-align: right;\">\n",
       "      <th></th>\n",
       "      <th>name</th>\n",
       "      <th>flavors</th>\n",
       "      <th>race</th>\n",
       "      <th>positive_effects</th>\n",
       "      <th>negative_effects</th>\n",
       "      <th>medical_uses</th>\n",
       "      <th>Rating</th>\n",
       "      <th>Description</th>\n",
       "      <th>combined_text</th>\n",
       "    </tr>\n",
       "  </thead>\n",
       "  <tbody>\n",
       "    <tr>\n",
       "      <td>1</td>\n",
       "      <td>Afpak</td>\n",
       "      <td>Earthy, Chemical, Pine, SpicyHerbal</td>\n",
       "      <td>hybrid</td>\n",
       "      <td>Relaxed, Hungry, Happy, Sleepy, Creative, Focused</td>\n",
       "      <td>Dizzy</td>\n",
       "      <td>Depression, Insomnia, Pain, Stress, Lack of Ap...</td>\n",
       "      <td>4.2</td>\n",
       "      <td>Afpak named for its direct Afghani and Pakista...</td>\n",
       "      <td>Afpak Earthy  Chemical  Pine  SpicyHerbal hybr...</td>\n",
       "    </tr>\n",
       "    <tr>\n",
       "      <td>2</td>\n",
       "      <td>African</td>\n",
       "      <td>SpicyHerbal, Pungent, Earthy, Pepper</td>\n",
       "      <td>sativa</td>\n",
       "      <td>Euphoric, Happy, Creative, Energetic, Talkativ...</td>\n",
       "      <td>Dry Mouth</td>\n",
       "      <td>Depression, Pain, Stress, Lack of Appetite, Na...</td>\n",
       "      <td>3.9</td>\n",
       "      <td>African refers to the indigenous varieties of ...</td>\n",
       "      <td>African SpicyHerbal  Pungent  Earthy  Pepper s...</td>\n",
       "    </tr>\n",
       "    <tr>\n",
       "      <td>3</td>\n",
       "      <td>Afternoon Delight</td>\n",
       "      <td>Pepper, Flowery, Pine, Pungent, Citrus, Tropical</td>\n",
       "      <td>hybrid</td>\n",
       "      <td>Relaxed, Hungry, Euphoric, Uplifted, Tingly, T...</td>\n",
       "      <td>Dizzy, Dry Mouth, Paranoid</td>\n",
       "      <td>Depression, Insomnia, Pain, Stress, Cramps, He...</td>\n",
       "      <td>4.8</td>\n",
       "      <td>Afternoon Delight created by Colorado Seed Inc...</td>\n",
       "      <td>Afternoon Delight Pepper  Flowery  Pine  Punge...</td>\n",
       "    </tr>\n",
       "    <tr>\n",
       "      <td>4</td>\n",
       "      <td>Afwreck</td>\n",
       "      <td>Pine, Earthy, Flowery, Pungent</td>\n",
       "      <td>hybrid</td>\n",
       "      <td>Relaxed, Happy, Creative, Uplifted, Sleepy, Eu...</td>\n",
       "      <td>Dizzy, Dry Mouth, Paranoid, Dry Eyes</td>\n",
       "      <td>Pain, Stress, Headache, Fatigue, Headaches, Mu...</td>\n",
       "      <td>4.2</td>\n",
       "      <td>Afwreck is a hybrid cross of Afghani and Train...</td>\n",
       "      <td>Afwreck Pine  Earthy  Flowery  Pungent hybrid ...</td>\n",
       "    </tr>\n",
       "    <tr>\n",
       "      <td>5</td>\n",
       "      <td>Agent Orange</td>\n",
       "      <td>Citrus, Orange, Sweet, Earthy</td>\n",
       "      <td>hybrid</td>\n",
       "      <td>Relaxed, Euphoric, Happy, Energetic, Uplifted</td>\n",
       "      <td>Dizzy, Dry Mouth, Paranoid, Dry Eyes</td>\n",
       "      <td>Depression, Pain, Stress, Nausea, Headache, He...</td>\n",
       "      <td>4.2</td>\n",
       "      <td>Don’t let the name scare you! The only herbici...</td>\n",
       "      <td>Agent Orange Citrus  Orange  Sweet  Earthy hyb...</td>\n",
       "    </tr>\n",
       "  </tbody>\n",
       "</table>\n",
       "</div>"
      ],
      "text/plain": [
       "                name                                           flavors  \\\n",
       "1              Afpak               Earthy, Chemical, Pine, SpicyHerbal   \n",
       "2            African              SpicyHerbal, Pungent, Earthy, Pepper   \n",
       "3  Afternoon Delight  Pepper, Flowery, Pine, Pungent, Citrus, Tropical   \n",
       "4            Afwreck                    Pine, Earthy, Flowery, Pungent   \n",
       "5       Agent Orange                     Citrus, Orange, Sweet, Earthy   \n",
       "\n",
       "     race                                   positive_effects  \\\n",
       "1  hybrid  Relaxed, Hungry, Happy, Sleepy, Creative, Focused   \n",
       "2  sativa  Euphoric, Happy, Creative, Energetic, Talkativ...   \n",
       "3  hybrid  Relaxed, Hungry, Euphoric, Uplifted, Tingly, T...   \n",
       "4  hybrid  Relaxed, Happy, Creative, Uplifted, Sleepy, Eu...   \n",
       "5  hybrid      Relaxed, Euphoric, Happy, Energetic, Uplifted   \n",
       "\n",
       "                       negative_effects  \\\n",
       "1                                 Dizzy   \n",
       "2                             Dry Mouth   \n",
       "3            Dizzy, Dry Mouth, Paranoid   \n",
       "4  Dizzy, Dry Mouth, Paranoid, Dry Eyes   \n",
       "5  Dizzy, Dry Mouth, Paranoid, Dry Eyes   \n",
       "\n",
       "                                        medical_uses  Rating  \\\n",
       "1  Depression, Insomnia, Pain, Stress, Lack of Ap...     4.2   \n",
       "2  Depression, Pain, Stress, Lack of Appetite, Na...     3.9   \n",
       "3  Depression, Insomnia, Pain, Stress, Cramps, He...     4.8   \n",
       "4  Pain, Stress, Headache, Fatigue, Headaches, Mu...     4.2   \n",
       "5  Depression, Pain, Stress, Nausea, Headache, He...     4.2   \n",
       "\n",
       "                                         Description  \\\n",
       "1  Afpak named for its direct Afghani and Pakista...   \n",
       "2  African refers to the indigenous varieties of ...   \n",
       "3  Afternoon Delight created by Colorado Seed Inc...   \n",
       "4  Afwreck is a hybrid cross of Afghani and Train...   \n",
       "5  Don’t let the name scare you! The only herbici...   \n",
       "\n",
       "                                       combined_text  \n",
       "1  Afpak Earthy  Chemical  Pine  SpicyHerbal hybr...  \n",
       "2  African SpicyHerbal  Pungent  Earthy  Pepper s...  \n",
       "3  Afternoon Delight Pepper  Flowery  Pine  Punge...  \n",
       "4  Afwreck Pine  Earthy  Flowery  Pungent hybrid ...  \n",
       "5  Agent Orange Citrus  Orange  Sweet  Earthy hyb...  "
      ]
     },
     "execution_count": 12,
     "metadata": {},
     "output_type": "execute_result"
    }
   ],
   "source": [
    "df.head()"
   ]
  },
  {
   "cell_type": "code",
   "execution_count": 15,
   "metadata": {},
   "outputs": [
    {
     "data": {
      "text/plain": [
       "id                                                                325\n",
       "name                                                     Cherry Skunk\n",
       "flavors                                   Sweet, Berry, Skunk, Earthy\n",
       "race                                                           hybrid\n",
       "positive_effects    Relaxed, Euphoric, Creative, Uplifted, Focused...\n",
       "negative_effects                           Dizzy, Dry Mouth, Dry Eyes\n",
       "medical_uses        Depression, Pain, Stress, Lack of Appetite, He...\n",
       "Rating                                                            4.4\n",
       "Description         Cherry Skunk is an indica-dominant hybrid that...\n",
       "combined_text       Cherry Skunk Sweet  Berry  Skunk  Earthy hybri...\n",
       "Name: 325, dtype: object"
      ]
     },
     "execution_count": 15,
     "metadata": {},
     "output_type": "execute_result"
    }
   ],
   "source": [
    "df.iloc[259]"
   ]
  },
  {
   "cell_type": "code",
   "execution_count": 16,
   "metadata": {},
   "outputs": [],
   "source": [
    "def get_lemmas2(text):\n",
    "\n",
    "    nlp = spacy.load(\"en_core_web_md\")\n",
    "\n",
    "    tokenizer = Tokenizer(nlp.vocab)\n",
    "\n",
    "    STOP_WORDS = nlp.Defaults.stop_words.union(['  ', '-PRON-'])\n",
    "\n",
    "    lemmas = []\n",
    "\n",
    "    doc = nlp(text)\n",
    "\n",
    "\n",
    "    for token in doc:\n",
    "        lemmas.append(token.lemma_)\n",
    "\n",
    "    lemma_summary = []\n",
    "\n",
    "\n",
    "    working_set = \"\"\n",
    "    for lemma in lemmas:\n",
    "        working_set += lemma + ' '\n",
    "    lemma_summary.append(working_set)\n",
    "\n",
    "\n",
    "    description = [lemma_summary[0]]\n",
    "\n",
    "    tokens = []\n",
    "\n",
    "    for doc in tokenizer.pipe(description, batch_size=500):\n",
    "\n",
    "        doc_tokens = []\n",
    "\n",
    "        for token in doc:\n",
    "            if ((token.is_stop == False) and (token.is_punct == False)) and (token.pos_!= 'PRON'):\n",
    "                if token.text.lower() not in STOP_WORDS:\n",
    "                    doc_tokens.append(token.text.lower())\n",
    "\n",
    "        tokens.append(doc_tokens)\n",
    "\n",
    "    token_summary = []\n",
    "\n",
    "    for set_of_tokens in tokens:\n",
    "        working_set = \"\"\n",
    "        for variable in set_of_tokens:\n",
    "            working_set += variable + ' '\n",
    "        token_summary.append(working_set)\n",
    "\n",
    "    return token_summary[0]"
   ]
  },
  {
   "cell_type": "code",
   "execution_count": null,
   "metadata": {},
   "outputs": [],
   "source": [
    "df['new_lemmas'] = df['combined_text'].apply(get_lemmas2)"
   ]
  },
  {
   "cell_type": "code",
   "execution_count": 10,
   "metadata": {},
   "outputs": [],
   "source": [
    "def get_lemmas(text):\n",
    "        \"\"\"Return the Lemmas\"\"\"\n",
    "        lemmas = []\n",
    "        doc = nlp(text)\n",
    "    \n",
    "        for token in doc: \n",
    "            if ((token.is_stop == False) and (token.is_punct == False)) and (token.pos_ != 'PRON'):\n",
    "                lemmas.append(token.lemma_)\n",
    "    \n",
    "        return lemmas"
   ]
  },
  {
   "cell_type": "code",
   "execution_count": 11,
   "metadata": {},
   "outputs": [],
   "source": [
    "df['all_lemmas'] = df['combined_text'].apply(get_lemmas)"
   ]
  },
  {
   "cell_type": "code",
   "execution_count": 14,
   "metadata": {},
   "outputs": [
    {
     "data": {
      "text/html": [
       "<div>\n",
       "<style scoped>\n",
       "    .dataframe tbody tr th:only-of-type {\n",
       "        vertical-align: middle;\n",
       "    }\n",
       "\n",
       "    .dataframe tbody tr th {\n",
       "        vertical-align: top;\n",
       "    }\n",
       "\n",
       "    .dataframe thead th {\n",
       "        text-align: right;\n",
       "    }\n",
       "</style>\n",
       "<table border=\"1\" class=\"dataframe\">\n",
       "  <thead>\n",
       "    <tr style=\"text-align: right;\">\n",
       "      <th></th>\n",
       "      <th>Unnamed: 0</th>\n",
       "      <th>name</th>\n",
       "      <th>flavors</th>\n",
       "      <th>race</th>\n",
       "      <th>positive_effects</th>\n",
       "      <th>negative_effects</th>\n",
       "      <th>medical_uses</th>\n",
       "      <th>Rating</th>\n",
       "      <th>Description</th>\n",
       "      <th>combined_text</th>\n",
       "      <th>all_lemmas</th>\n",
       "    </tr>\n",
       "  </thead>\n",
       "  <tbody>\n",
       "    <tr>\n",
       "      <th>0</th>\n",
       "      <td>1</td>\n",
       "      <td>Afpak</td>\n",
       "      <td>Earthy, Chemical, Pine, SpicyHerbal</td>\n",
       "      <td>hybrid</td>\n",
       "      <td>Relaxed, Hungry, Happy, Sleepy, Creative, Focused</td>\n",
       "      <td>Dizzy</td>\n",
       "      <td>Depression, Insomnia, Pain, Stress, Lack of Ap...</td>\n",
       "      <td>4.2</td>\n",
       "      <td>Afpak named for its direct Afghani and Pakista...</td>\n",
       "      <td>Afpak Earthy  Chemical  Pine  SpicyHerbal hybr...</td>\n",
       "      <td>[Afpak, Earthy,  , Chemical,  , Pine,  , Spicy...</td>\n",
       "    </tr>\n",
       "    <tr>\n",
       "      <th>1</th>\n",
       "      <td>2</td>\n",
       "      <td>African</td>\n",
       "      <td>SpicyHerbal, Pungent, Earthy, Pepper</td>\n",
       "      <td>sativa</td>\n",
       "      <td>Euphoric, Happy, Creative, Energetic, Talkativ...</td>\n",
       "      <td>Dry Mouth</td>\n",
       "      <td>Depression, Pain, Stress, Lack of Appetite, Na...</td>\n",
       "      <td>3.9</td>\n",
       "      <td>African refers to the indigenous varieties of ...</td>\n",
       "      <td>African SpicyHerbal  Pungent  Earthy  Pepper s...</td>\n",
       "      <td>[African, SpicyHerbal,  , pungent,  , Earthy, ...</td>\n",
       "    </tr>\n",
       "    <tr>\n",
       "      <th>2</th>\n",
       "      <td>3</td>\n",
       "      <td>Afternoon Delight</td>\n",
       "      <td>Pepper, Flowery, Pine, Pungent, Citrus, Tropical</td>\n",
       "      <td>hybrid</td>\n",
       "      <td>Relaxed, Hungry, Euphoric, Uplifted, Tingly, T...</td>\n",
       "      <td>Dizzy, Dry Mouth, Paranoid</td>\n",
       "      <td>Depression, Insomnia, Pain, Stress, Cramps, He...</td>\n",
       "      <td>4.8</td>\n",
       "      <td>Afternoon Delight created by Colorado Seed Inc...</td>\n",
       "      <td>Afternoon Delight Pepper  Flowery  Pine  Punge...</td>\n",
       "      <td>[afternoon, Delight, Pepper,  , flowery,  , Pi...</td>\n",
       "    </tr>\n",
       "    <tr>\n",
       "      <th>3</th>\n",
       "      <td>4</td>\n",
       "      <td>Afwreck</td>\n",
       "      <td>Pine, Earthy, Flowery, Pungent</td>\n",
       "      <td>hybrid</td>\n",
       "      <td>Relaxed, Happy, Creative, Uplifted, Sleepy, Eu...</td>\n",
       "      <td>Dizzy, Dry Mouth, Paranoid, Dry Eyes</td>\n",
       "      <td>Pain, Stress, Headache, Fatigue, Headaches, Mu...</td>\n",
       "      <td>4.2</td>\n",
       "      <td>Afwreck is a hybrid cross of Afghani and Train...</td>\n",
       "      <td>Afwreck Pine  Earthy  Flowery  Pungent hybrid ...</td>\n",
       "      <td>[Afwreck, Pine,  , Earthy,  , Flowery,  , pung...</td>\n",
       "    </tr>\n",
       "    <tr>\n",
       "      <th>4</th>\n",
       "      <td>5</td>\n",
       "      <td>Agent Orange</td>\n",
       "      <td>Citrus, Orange, Sweet, Earthy</td>\n",
       "      <td>hybrid</td>\n",
       "      <td>Relaxed, Euphoric, Happy, Energetic, Uplifted</td>\n",
       "      <td>Dizzy, Dry Mouth, Paranoid, Dry Eyes</td>\n",
       "      <td>Depression, Pain, Stress, Nausea, Headache, He...</td>\n",
       "      <td>4.2</td>\n",
       "      <td>Don’t let the name scare you! The only herbici...</td>\n",
       "      <td>Agent Orange Citrus  Orange  Sweet  Earthy hyb...</td>\n",
       "      <td>[Agent, Orange, Citrus,  , Orange,  , sweet,  ...</td>\n",
       "    </tr>\n",
       "  </tbody>\n",
       "</table>\n",
       "</div>"
      ],
      "text/plain": [
       "   Unnamed: 0               name  \\\n",
       "0           1              Afpak   \n",
       "1           2            African   \n",
       "2           3  Afternoon Delight   \n",
       "3           4            Afwreck   \n",
       "4           5       Agent Orange   \n",
       "\n",
       "                                            flavors    race  \\\n",
       "0               Earthy, Chemical, Pine, SpicyHerbal  hybrid   \n",
       "1              SpicyHerbal, Pungent, Earthy, Pepper  sativa   \n",
       "2  Pepper, Flowery, Pine, Pungent, Citrus, Tropical  hybrid   \n",
       "3                    Pine, Earthy, Flowery, Pungent  hybrid   \n",
       "4                     Citrus, Orange, Sweet, Earthy  hybrid   \n",
       "\n",
       "                                    positive_effects  \\\n",
       "0  Relaxed, Hungry, Happy, Sleepy, Creative, Focused   \n",
       "1  Euphoric, Happy, Creative, Energetic, Talkativ...   \n",
       "2  Relaxed, Hungry, Euphoric, Uplifted, Tingly, T...   \n",
       "3  Relaxed, Happy, Creative, Uplifted, Sleepy, Eu...   \n",
       "4      Relaxed, Euphoric, Happy, Energetic, Uplifted   \n",
       "\n",
       "                       negative_effects  \\\n",
       "0                                 Dizzy   \n",
       "1                             Dry Mouth   \n",
       "2            Dizzy, Dry Mouth, Paranoid   \n",
       "3  Dizzy, Dry Mouth, Paranoid, Dry Eyes   \n",
       "4  Dizzy, Dry Mouth, Paranoid, Dry Eyes   \n",
       "\n",
       "                                        medical_uses  Rating  \\\n",
       "0  Depression, Insomnia, Pain, Stress, Lack of Ap...     4.2   \n",
       "1  Depression, Pain, Stress, Lack of Appetite, Na...     3.9   \n",
       "2  Depression, Insomnia, Pain, Stress, Cramps, He...     4.8   \n",
       "3  Pain, Stress, Headache, Fatigue, Headaches, Mu...     4.2   \n",
       "4  Depression, Pain, Stress, Nausea, Headache, He...     4.2   \n",
       "\n",
       "                                         Description  \\\n",
       "0  Afpak named for its direct Afghani and Pakista...   \n",
       "1  African refers to the indigenous varieties of ...   \n",
       "2  Afternoon Delight created by Colorado Seed Inc...   \n",
       "3  Afwreck is a hybrid cross of Afghani and Train...   \n",
       "4  Don’t let the name scare you! The only herbici...   \n",
       "\n",
       "                                       combined_text  \\\n",
       "0  Afpak Earthy  Chemical  Pine  SpicyHerbal hybr...   \n",
       "1  African SpicyHerbal  Pungent  Earthy  Pepper s...   \n",
       "2  Afternoon Delight Pepper  Flowery  Pine  Punge...   \n",
       "3  Afwreck Pine  Earthy  Flowery  Pungent hybrid ...   \n",
       "4  Agent Orange Citrus  Orange  Sweet  Earthy hyb...   \n",
       "\n",
       "                                          all_lemmas  \n",
       "0  [Afpak, Earthy,  , Chemical,  , Pine,  , Spicy...  \n",
       "1  [African, SpicyHerbal,  , pungent,  , Earthy, ...  \n",
       "2  [afternoon, Delight, Pepper,  , flowery,  , Pi...  \n",
       "3  [Afwreck, Pine,  , Earthy,  , Flowery,  , pung...  \n",
       "4  [Agent, Orange, Citrus,  , Orange,  , sweet,  ...  "
      ]
     },
     "execution_count": 14,
     "metadata": {},
     "output_type": "execute_result"
    }
   ],
   "source": [
    "df.head()"
   ]
  },
  {
   "cell_type": "code",
   "execution_count": 13,
   "metadata": {},
   "outputs": [],
   "source": [
    "tfidf = TfidfVectorizer(stop_words='english')"
   ]
  },
  {
   "cell_type": "code",
   "execution_count": 14,
   "metadata": {},
   "outputs": [],
   "source": [
    "dtm = tfidf.fit_transform(df['combined_text'])"
   ]
  },
  {
   "cell_type": "code",
   "execution_count": 15,
   "metadata": {},
   "outputs": [],
   "source": [
    "dtm = pd.DataFrame(dtm.todense(), columns=tfidf.get_feature_names())"
   ]
  },
  {
   "cell_type": "code",
   "execution_count": 16,
   "metadata": {},
   "outputs": [
    {
     "data": {
      "text/html": [
       "<div>\n",
       "<style scoped>\n",
       "    .dataframe tbody tr th:only-of-type {\n",
       "        vertical-align: middle;\n",
       "    }\n",
       "\n",
       "    .dataframe tbody tr th {\n",
       "        vertical-align: top;\n",
       "    }\n",
       "\n",
       "    .dataframe thead th {\n",
       "        text-align: right;\n",
       "    }\n",
       "</style>\n",
       "<table border=\"1\" class=\"dataframe\">\n",
       "  <thead>\n",
       "    <tr style=\"text-align: right;\">\n",
       "      <th></th>\n",
       "      <th>11</th>\n",
       "      <th>12</th>\n",
       "      <th>13</th>\n",
       "      <th>1974</th>\n",
       "      <th>43</th>\n",
       "      <th>44</th>\n",
       "      <th>47</th>\n",
       "      <th>51</th>\n",
       "      <th>69</th>\n",
       "      <th>91</th>\n",
       "      <th>...</th>\n",
       "      <th>zeta</th>\n",
       "      <th>zingers</th>\n",
       "      <th>zion</th>\n",
       "      <th>zipping</th>\n",
       "      <th>zkittlez</th>\n",
       "      <th>zombie</th>\n",
       "      <th>zombies</th>\n",
       "      <th>zone</th>\n",
       "      <th>zoning</th>\n",
       "      <th>zoom</th>\n",
       "    </tr>\n",
       "  </thead>\n",
       "  <tbody>\n",
       "    <tr>\n",
       "      <td>0</td>\n",
       "      <td>0.0</td>\n",
       "      <td>0.0</td>\n",
       "      <td>0.0</td>\n",
       "      <td>0.0</td>\n",
       "      <td>0.0</td>\n",
       "      <td>0.0</td>\n",
       "      <td>0.0</td>\n",
       "      <td>0.0</td>\n",
       "      <td>0.0</td>\n",
       "      <td>0.0</td>\n",
       "      <td>...</td>\n",
       "      <td>0.0</td>\n",
       "      <td>0.0</td>\n",
       "      <td>0.0</td>\n",
       "      <td>0.0</td>\n",
       "      <td>0.0</td>\n",
       "      <td>0.0</td>\n",
       "      <td>0.0</td>\n",
       "      <td>0.0</td>\n",
       "      <td>0.0</td>\n",
       "      <td>0.0</td>\n",
       "    </tr>\n",
       "    <tr>\n",
       "      <td>1</td>\n",
       "      <td>0.0</td>\n",
       "      <td>0.0</td>\n",
       "      <td>0.0</td>\n",
       "      <td>0.0</td>\n",
       "      <td>0.0</td>\n",
       "      <td>0.0</td>\n",
       "      <td>0.0</td>\n",
       "      <td>0.0</td>\n",
       "      <td>0.0</td>\n",
       "      <td>0.0</td>\n",
       "      <td>...</td>\n",
       "      <td>0.0</td>\n",
       "      <td>0.0</td>\n",
       "      <td>0.0</td>\n",
       "      <td>0.0</td>\n",
       "      <td>0.0</td>\n",
       "      <td>0.0</td>\n",
       "      <td>0.0</td>\n",
       "      <td>0.0</td>\n",
       "      <td>0.0</td>\n",
       "      <td>0.0</td>\n",
       "    </tr>\n",
       "    <tr>\n",
       "      <td>2</td>\n",
       "      <td>0.0</td>\n",
       "      <td>0.0</td>\n",
       "      <td>0.0</td>\n",
       "      <td>0.0</td>\n",
       "      <td>0.0</td>\n",
       "      <td>0.0</td>\n",
       "      <td>0.0</td>\n",
       "      <td>0.0</td>\n",
       "      <td>0.0</td>\n",
       "      <td>0.0</td>\n",
       "      <td>...</td>\n",
       "      <td>0.0</td>\n",
       "      <td>0.0</td>\n",
       "      <td>0.0</td>\n",
       "      <td>0.0</td>\n",
       "      <td>0.0</td>\n",
       "      <td>0.0</td>\n",
       "      <td>0.0</td>\n",
       "      <td>0.0</td>\n",
       "      <td>0.0</td>\n",
       "      <td>0.0</td>\n",
       "    </tr>\n",
       "    <tr>\n",
       "      <td>3</td>\n",
       "      <td>0.0</td>\n",
       "      <td>0.0</td>\n",
       "      <td>0.0</td>\n",
       "      <td>0.0</td>\n",
       "      <td>0.0</td>\n",
       "      <td>0.0</td>\n",
       "      <td>0.0</td>\n",
       "      <td>0.0</td>\n",
       "      <td>0.0</td>\n",
       "      <td>0.0</td>\n",
       "      <td>...</td>\n",
       "      <td>0.0</td>\n",
       "      <td>0.0</td>\n",
       "      <td>0.0</td>\n",
       "      <td>0.0</td>\n",
       "      <td>0.0</td>\n",
       "      <td>0.0</td>\n",
       "      <td>0.0</td>\n",
       "      <td>0.0</td>\n",
       "      <td>0.0</td>\n",
       "      <td>0.0</td>\n",
       "    </tr>\n",
       "    <tr>\n",
       "      <td>4</td>\n",
       "      <td>0.0</td>\n",
       "      <td>0.0</td>\n",
       "      <td>0.0</td>\n",
       "      <td>0.0</td>\n",
       "      <td>0.0</td>\n",
       "      <td>0.0</td>\n",
       "      <td>0.0</td>\n",
       "      <td>0.0</td>\n",
       "      <td>0.0</td>\n",
       "      <td>0.0</td>\n",
       "      <td>...</td>\n",
       "      <td>0.0</td>\n",
       "      <td>0.0</td>\n",
       "      <td>0.0</td>\n",
       "      <td>0.0</td>\n",
       "      <td>0.0</td>\n",
       "      <td>0.0</td>\n",
       "      <td>0.0</td>\n",
       "      <td>0.0</td>\n",
       "      <td>0.0</td>\n",
       "      <td>0.0</td>\n",
       "    </tr>\n",
       "  </tbody>\n",
       "</table>\n",
       "<p>5 rows × 6685 columns</p>\n",
       "</div>"
      ],
      "text/plain": [
       "    11   12   13  1974   43   44   47   51   69   91  ...  zeta  zingers  \\\n",
       "0  0.0  0.0  0.0   0.0  0.0  0.0  0.0  0.0  0.0  0.0  ...   0.0      0.0   \n",
       "1  0.0  0.0  0.0   0.0  0.0  0.0  0.0  0.0  0.0  0.0  ...   0.0      0.0   \n",
       "2  0.0  0.0  0.0   0.0  0.0  0.0  0.0  0.0  0.0  0.0  ...   0.0      0.0   \n",
       "3  0.0  0.0  0.0   0.0  0.0  0.0  0.0  0.0  0.0  0.0  ...   0.0      0.0   \n",
       "4  0.0  0.0  0.0   0.0  0.0  0.0  0.0  0.0  0.0  0.0  ...   0.0      0.0   \n",
       "\n",
       "   zion  zipping  zkittlez  zombie  zombies  zone  zoning  zoom  \n",
       "0   0.0      0.0       0.0     0.0      0.0   0.0     0.0   0.0  \n",
       "1   0.0      0.0       0.0     0.0      0.0   0.0     0.0   0.0  \n",
       "2   0.0      0.0       0.0     0.0      0.0   0.0     0.0   0.0  \n",
       "3   0.0      0.0       0.0     0.0      0.0   0.0     0.0   0.0  \n",
       "4   0.0      0.0       0.0     0.0      0.0   0.0     0.0   0.0  \n",
       "\n",
       "[5 rows x 6685 columns]"
      ]
     },
     "execution_count": 16,
     "metadata": {},
     "output_type": "execute_result"
    }
   ],
   "source": [
    "dtm.head()"
   ]
  },
  {
   "cell_type": "code",
   "execution_count": 17,
   "metadata": {},
   "outputs": [
    {
     "data": {
      "text/plain": [
       "NearestNeighbors(algorithm='ball_tree', leaf_size=30, metric='minkowski',\n",
       "                 metric_params=None, n_jobs=None, n_neighbors=5, p=2,\n",
       "                 radius=1.0)"
      ]
     },
     "execution_count": 17,
     "metadata": {},
     "output_type": "execute_result"
    }
   ],
   "source": [
    "# Fit on DTM\n",
    "nn = NearestNeighbors(n_neighbors=5, algorithm='ball_tree')\n",
    "nn.fit(dtm)"
   ]
  },
  {
   "cell_type": "code",
   "execution_count": 18,
   "metadata": {},
   "outputs": [],
   "source": [
    "test_input = [\"Looking for something to help with depression and insomnia\"]\n",
    "user_input = tfidf.transform(test_input)\n",
    "score, strain_index = nn.kneighbors(user_input.todense())"
   ]
  },
  {
   "cell_type": "code",
   "execution_count": 19,
   "metadata": {},
   "outputs": [
    {
     "name": "stdout",
     "output_type": "stream",
     "text": [
      "[[1309 1232   20  503 1261]]\n"
     ]
    }
   ],
   "source": [
    "print(strain_index)"
   ]
  },
  {
   "cell_type": "code",
   "execution_count": 21,
   "metadata": {},
   "outputs": [
    {
     "data": {
      "text/plain": [
       "name                                                   Tangerine Haze\n",
       "flavors                                         Citrus, Orange, Sweet\n",
       "race                                                           hybrid\n",
       "positive_effects    Euphoric, Happy, Creative, Energetic, Uplifted...\n",
       "negative_effects                  Dizzy, Dry Mouth, Dry Eyes, Anxious\n",
       "medical_uses        Depression, Pain, Stress, Headache, Fatigue, E...\n",
       "Rating                                                            4.5\n",
       "Description         Tangerine Haze is a sativa-dominant hybrid tha...\n",
       "combined_text       Tangerine Haze Citrus  Orange  Sweet hybrid Eu...\n",
       "Name: 1309, dtype: object"
      ]
     },
     "execution_count": 21,
     "metadata": {},
     "output_type": "execute_result"
    }
   ],
   "source": [
    "df.loc[1309]"
   ]
  },
  {
   "cell_type": "code",
   "execution_count": 33,
   "metadata": {},
   "outputs": [
    {
     "data": {
      "text/html": [
       "<div>\n",
       "<style scoped>\n",
       "    .dataframe tbody tr th:only-of-type {\n",
       "        vertical-align: middle;\n",
       "    }\n",
       "\n",
       "    .dataframe tbody tr th {\n",
       "        vertical-align: top;\n",
       "    }\n",
       "\n",
       "    .dataframe thead th {\n",
       "        text-align: right;\n",
       "    }\n",
       "</style>\n",
       "<table border=\"1\" class=\"dataframe\">\n",
       "  <thead>\n",
       "    <tr style=\"text-align: right;\">\n",
       "      <th></th>\n",
       "      <th>name</th>\n",
       "      <th>flavors</th>\n",
       "      <th>race</th>\n",
       "      <th>positive_effects</th>\n",
       "      <th>negative_effects</th>\n",
       "      <th>medical_uses</th>\n",
       "      <th>Rating</th>\n",
       "      <th>Description</th>\n",
       "      <th>combined_text</th>\n",
       "    </tr>\n",
       "  </thead>\n",
       "  <tbody>\n",
       "    <tr>\n",
       "      <th>1060</th>\n",
       "      <td>Pure Power Plant</td>\n",
       "      <td>Citrus, Earthy, Pungent, Pine</td>\n",
       "      <td>hybrid</td>\n",
       "      <td>Relaxed, Happy, Creative, Energetic, Focused, ...</td>\n",
       "      <td>Dizzy, Dry Mouth, Paranoid, Dry Eyes</td>\n",
       "      <td>Depression, Pain, Stress, Headache, Fatigue, H...</td>\n",
       "      <td>4.4</td>\n",
       "      <td>If you’re searching for a potent sativa Pure P...</td>\n",
       "      <td>Pure Power Plant Citrus  Earthy  Pungent  Pine...</td>\n",
       "    </tr>\n",
       "  </tbody>\n",
       "</table>\n",
       "</div>"
      ],
      "text/plain": [
       "                  name                        flavors    race  \\\n",
       "1060  Pure Power Plant  Citrus, Earthy, Pungent, Pine  hybrid   \n",
       "\n",
       "                                       positive_effects  \\\n",
       "1060  Relaxed, Happy, Creative, Energetic, Focused, ...   \n",
       "\n",
       "                          negative_effects  \\\n",
       "1060  Dizzy, Dry Mouth, Paranoid, Dry Eyes   \n",
       "\n",
       "                                           medical_uses  Rating  \\\n",
       "1060  Depression, Pain, Stress, Headache, Fatigue, H...     4.4   \n",
       "\n",
       "                                            Description  \\\n",
       "1060  If you’re searching for a potent sativa Pure P...   \n",
       "\n",
       "                                          combined_text  \n",
       "1060  Pure Power Plant Citrus  Earthy  Pungent  Pine...  "
      ]
     },
     "execution_count": 33,
     "metadata": {},
     "output_type": "execute_result"
    }
   ],
   "source": [
    "df[df['name'] == \"Pure Power Plant\"]"
   ]
  },
  {
   "cell_type": "code",
   "execution_count": 22,
   "metadata": {},
   "outputs": [],
   "source": [
    "strains = [df[['name', 'medical_uses']].loc[n] for n in strain_index]"
   ]
  },
  {
   "cell_type": "code",
   "execution_count": 23,
   "metadata": {},
   "outputs": [
    {
     "name": "stdout",
     "output_type": "stream",
     "text": [
      "[                     name                                       medical_uses\n",
      "1309       Tangerine Haze  Depression, Pain, Stress, Headache, Fatigue, E...\n",
      "1232     Strawberry Cough  Depression, Pain, Stress, Lack of Appetite, Fa...\n",
      "20    Alien Hallucination  Depression, Pain, Stress, Headache, Fatigue, M...\n",
      "503          Eugene Cream         Depression, Insomnia, Pain, Stress, Cramps\n",
      "1261     Super Blue Dream  Depression, Stress, Lack of Appetite, Nausea, ...]\n"
     ]
    }
   ],
   "source": [
    "print(strains)"
   ]
  },
  {
   "cell_type": "code",
   "execution_count": 23,
   "metadata": {},
   "outputs": [
    {
     "data": {
      "text/plain": [
       "['baseline_compressed.pkl']"
      ]
     },
     "execution_count": 23,
     "metadata": {},
     "output_type": "execute_result"
    }
   ],
   "source": [
    "from sklearn.externals import joblib \n",
    "joblib.dump(nn, 'baseline_compressed.pkl', compress=3)"
   ]
  },
  {
   "cell_type": "code",
   "execution_count": 24,
   "metadata": {},
   "outputs": [
    {
     "data": {
      "text/plain": [
       "['tfidf.pkl']"
      ]
     },
     "execution_count": 24,
     "metadata": {},
     "output_type": "execute_result"
    }
   ],
   "source": [
    "joblib.dump(tfidf, \"tfidf.pkl\")"
   ]
  },
  {
   "cell_type": "code",
   "execution_count": null,
   "metadata": {},
   "outputs": [],
   "source": []
  }
 ],
 "metadata": {
  "kernelspec": {
   "display_name": "Python 3",
   "language": "python",
   "name": "python3"
  },
  "language_info": {
   "codemirror_mode": {
    "name": "ipython",
    "version": 3
   },
   "file_extension": ".py",
   "mimetype": "text/x-python",
   "name": "python",
   "nbconvert_exporter": "python",
   "pygments_lexer": "ipython3",
   "version": "3.7.4"
  }
 },
 "nbformat": 4,
 "nbformat_minor": 4
}
