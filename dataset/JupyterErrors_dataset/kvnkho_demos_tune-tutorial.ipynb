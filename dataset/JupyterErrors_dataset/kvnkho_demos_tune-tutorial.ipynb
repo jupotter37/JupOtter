{
 "cells": [
  {
   "cell_type": "markdown",
   "id": "b32f97ee",
   "metadata": {},
   "source": [
    "# Tune Tutorial\n",
    "\n",
    "Fugue Tune [repository](https://github.com/fugue-project/tune)\n",
    "\n",
    "[PyData Talk](https://www.youtube.com/watch?v=MRa0ao4tfWc)"
   ]
  },
  {
   "cell_type": "markdown",
   "id": "8ef9ff35",
   "metadata": {},
   "source": [
    "<img src=\"https://github.com/fugue-project/fugue/raw/master/images/logo.svg\" style=\"height:200px\">"
   ]
  },
  {
   "cell_type": "markdown",
   "id": "bfcf12a4",
   "metadata": {},
   "source": [
    "## Space"
   ]
  },
  {
   "cell_type": "code",
   "execution_count": 1,
   "id": "5fb29e8d",
   "metadata": {},
   "outputs": [],
   "source": [
    "from tune import Space, Grid, Rand, RandInt, Choice"
   ]
  },
  {
   "cell_type": "code",
   "execution_count": 2,
   "id": "345f63af",
   "metadata": {},
   "outputs": [
    {
     "data": {
      "text/plain": [
       "[{'a': 1, 'b': 2}]"
      ]
     },
     "execution_count": 2,
     "metadata": {},
     "output_type": "execute_result"
    }
   ],
   "source": [
    "space = Space(a=1, b=2)\n",
    "\n",
    "list(space) "
   ]
  },
  {
   "cell_type": "markdown",
   "id": "2988973c",
   "metadata": {},
   "source": [
    "## Grid"
   ]
  },
  {
   "cell_type": "code",
   "execution_count": 3,
   "id": "ee0661c5",
   "metadata": {},
   "outputs": [
    {
     "data": {
      "text/plain": [
       "[{'a': 1, 'b': 2, 'c': 'a'},\n",
       " {'a': 1, 'b': 2, 'c': 'b'},\n",
       " {'a': 1, 'b': 3, 'c': 'a'},\n",
       " {'a': 1, 'b': 3, 'c': 'b'}]"
      ]
     },
     "execution_count": 3,
     "metadata": {},
     "output_type": "execute_result"
    }
   ],
   "source": [
    "space = Space(a=1, b=Grid(2,3), c=Grid(\"a\",\"b\"))\n",
    "\n",
    "list(space)"
   ]
  },
  {
   "cell_type": "markdown",
   "id": "ababef4d",
   "metadata": {},
   "source": [
    "## Random"
   ]
  },
  {
   "cell_type": "code",
   "execution_count": 4,
   "id": "ee11e3a1",
   "metadata": {},
   "outputs": [
    {
     "data": {
      "text/plain": [
       "[{'a': 1, 'b': Rand(low=0, high=1, q=None, log=False, include_high=True), 'c': Choice('a', 'b')}]"
      ]
     },
     "execution_count": 4,
     "metadata": {},
     "output_type": "execute_result"
    }
   ],
   "source": [
    "space = Space(a=1, b=Rand(0,1), c=Choice(\"a\",\"b\"))\n",
    "\n",
    "list(space)"
   ]
  },
  {
   "cell_type": "code",
   "execution_count": 5,
   "id": "41e0872c",
   "metadata": {},
   "outputs": [
    {
     "data": {
      "text/plain": [
       "[{'a': 1, 'b': 0.771320643266746, 'c': 'b'},\n",
       " {'a': 1, 'b': 0.0207519493594015, 'c': 'a'},\n",
       " {'a': 1, 'b': 0.6336482349262754, 'c': 'b'}]"
      ]
     },
     "execution_count": 5,
     "metadata": {},
     "output_type": "execute_result"
    }
   ],
   "source": [
    "space = Space(a=1, b=Rand(0,1), c=Choice(\"a\",\"b\"))\n",
    "\n",
    "list(space.sample(3, seed=10))"
   ]
  },
  {
   "cell_type": "markdown",
   "id": "c0171bb7",
   "metadata": {},
   "source": [
    "## Random Search without Sampling"
   ]
  },
  {
   "cell_type": "code",
   "execution_count": 6,
   "id": "93ab7fdc",
   "metadata": {},
   "outputs": [
    {
     "data": {
      "text/plain": [
       "[{'a': 1, 'b': Rand(low=0, high=1, q=None, log=False, include_high=True), 'c': Choice('a', 'b')}]"
      ]
     },
     "execution_count": 6,
     "metadata": {},
     "output_type": "execute_result"
    }
   ],
   "source": [
    "space = Space(a=1, b=Rand(0,1), c=Choice(\"a\",\"b\"))\n",
    "\n",
    "list(space)"
   ]
  },
  {
   "cell_type": "markdown",
   "id": "30ef1893",
   "metadata": {},
   "source": [
    "## Grid + Random"
   ]
  },
  {
   "cell_type": "code",
   "execution_count": 7,
   "id": "47328cf7",
   "metadata": {},
   "outputs": [
    {
     "data": {
      "text/plain": [
       "[{'a': 1, 'b': 1, 'c': Rand(low=0, high=1, q=None, log=False, include_high=True)},\n",
       " {'a': 1, 'b': 2, 'c': Rand(low=0, high=1, q=None, log=False, include_high=True)}]"
      ]
     },
     "execution_count": 7,
     "metadata": {},
     "output_type": "execute_result"
    }
   ],
   "source": [
    "space = Space(a=1, b=Grid(1,2), c=Rand(0,1))\n",
    "\n",
    "list(space)"
   ]
  },
  {
   "cell_type": "code",
   "execution_count": 8,
   "id": "048915aa",
   "metadata": {},
   "outputs": [
    {
     "data": {
      "text/plain": [
       "[{'a': 1, 'b': 1, 'c': 0.5833217369377363},\n",
       " {'a': 1, 'b': 2, 'c': 0.5833217369377363},\n",
       " {'a': 1, 'b': 1, 'c': 0.02517172841774562},\n",
       " {'a': 1, 'b': 2, 'c': 0.02517172841774562},\n",
       " {'a': 1, 'b': 1, 'c': 0.709208009843012},\n",
       " {'a': 1, 'b': 2, 'c': 0.709208009843012}]"
      ]
     },
     "execution_count": 8,
     "metadata": {},
     "output_type": "execute_result"
    }
   ],
   "source": [
    "space = Space(a=1, b=Grid(1,2), c=Rand(0,1)).sample(3)\n",
    "\n",
    "list(space)"
   ]
  },
  {
   "cell_type": "markdown",
   "id": "34752559",
   "metadata": {},
   "source": [
    "## Summary"
   ]
  },
  {
   "cell_type": "code",
   "execution_count": 9,
   "id": "bc283ada",
   "metadata": {},
   "outputs": [],
   "source": [
    "space1 = Space(model=\"model1\", a=1, b=Grid(2,3))  # Grid search\n",
    "space2 = Space(model=\"model2\", x=Rand(3,4)).sample(2) # Random search\n",
    "space3 = Space(model=\"model3\", y=Rand(3,4))  # Bayesian Optimization"
   ]
  },
  {
   "cell_type": "code",
   "execution_count": 10,
   "id": "13ce5fd7",
   "metadata": {},
   "outputs": [
    {
     "data": {
      "text/plain": [
       "[{'model': 'model1', 'a': 1, 'b': 2},\n",
       " {'model': 'model1', 'a': 1, 'b': 3},\n",
       " {'model': 'model2', 'x': 3.265566126772097},\n",
       " {'model': 'model2', 'x': 3.2636028460289523},\n",
       " {'model': 'model3', 'y': Rand(low=3, high=4, q=None, log=False, include_high=True)}]"
      ]
     },
     "execution_count": 10,
     "metadata": {},
     "output_type": "execute_result"
    }
   ],
   "source": [
    "union_space = space1 + space2 + space3\n",
    "\n",
    "list(union_space)"
   ]
  },
  {
   "cell_type": "code",
   "execution_count": 11,
   "id": "3a1d80bc",
   "metadata": {},
   "outputs": [
    {
     "data": {
      "text/plain": [
       "[{'model': 'model1', 'a': 1, 'b': 2},\n",
       " {'model': 'model1', 'a': 1, 'b': 3},\n",
       " {'model': 'model2', 'x': 3.265566126772097},\n",
       " {'model': 'model2', 'x': 3.2636028460289523},\n",
       " {'model': 'model3', 'y': Rand(low=3, high=4, q=None, log=False, include_high=True)}]"
      ]
     },
     "execution_count": 11,
     "metadata": {},
     "output_type": "execute_result"
    }
   ],
   "source": [
    "union_space = sum([space1, space2, space3])\n",
    "\n",
    "list(union_space)"
   ]
  },
  {
   "cell_type": "markdown",
   "id": "2e6350ba",
   "metadata": {},
   "source": [
    "## Cross Product"
   ]
  },
  {
   "cell_type": "code",
   "execution_count": 12,
   "id": "d35f6a59",
   "metadata": {},
   "outputs": [
    {
     "data": {
      "text/plain": [
       "[{'model': 'model1', 'a': 1, 'b': 2, 'random_state': 0, 'fit_intercept': True},\n",
       " {'model': 'model1', 'a': 1, 'b': 2, 'random_state': 0, 'fit_intercept': False},\n",
       " {'model': 'model1', 'a': 1, 'b': 3, 'random_state': 0, 'fit_intercept': True},\n",
       " {'model': 'model1', 'a': 1, 'b': 3, 'random_state': 0, 'fit_intercept': False},\n",
       " {'model': 'model2', 'x': 3.265566126772097, 'random_state': 0, 'fit_intercept': True},\n",
       " {'model': 'model2', 'x': 3.265566126772097, 'random_state': 0, 'fit_intercept': False},\n",
       " {'model': 'model2', 'x': 3.2636028460289523, 'random_state': 0, 'fit_intercept': True},\n",
       " {'model': 'model2', 'x': 3.2636028460289523, 'random_state': 0, 'fit_intercept': False},\n",
       " {'model': 'model3', 'y': Rand(low=3, high=4, q=None, log=False, include_high=True), 'random_state': 0, 'fit_intercept': True},\n",
       " {'model': 'model3', 'y': Rand(low=3, high=4, q=None, log=False, include_high=True), 'random_state': 0, 'fit_intercept': False}]"
      ]
     },
     "execution_count": 12,
     "metadata": {},
     "output_type": "execute_result"
    }
   ],
   "source": [
    "space = sum([space1, space2, space3]) * Space(random_state=0, fit_intercept=Grid(True, False))\n",
    "\n",
    "list(space)"
   ]
  },
  {
   "cell_type": "markdown",
   "id": "5afc0db5",
   "metadata": {},
   "source": [
    "## Using tune"
   ]
  },
  {
   "cell_type": "code",
   "execution_count": 13,
   "id": "d4171211",
   "metadata": {},
   "outputs": [
    {
     "data": {
      "text/html": [
       "<div>\n",
       "<style scoped>\n",
       "    .dataframe tbody tr th:only-of-type {\n",
       "        vertical-align: middle;\n",
       "    }\n",
       "\n",
       "    .dataframe tbody tr th {\n",
       "        vertical-align: top;\n",
       "    }\n",
       "\n",
       "    .dataframe thead th {\n",
       "        text-align: right;\n",
       "    }\n",
       "</style>\n",
       "<table border=\"1\" class=\"dataframe\">\n",
       "  <thead>\n",
       "    <tr style=\"text-align: right;\">\n",
       "      <th></th>\n",
       "      <th>Fare</th>\n",
       "      <th>Age</th>\n",
       "      <th>Pclass</th>\n",
       "      <th>gender</th>\n",
       "      <th>C</th>\n",
       "      <th>Q</th>\n",
       "      <th>S</th>\n",
       "      <th>Family</th>\n",
       "      <th>Title</th>\n",
       "      <th>T_A4</th>\n",
       "      <th>...</th>\n",
       "      <th>T_SOC</th>\n",
       "      <th>T_SOPP</th>\n",
       "      <th>T_SOTONO2</th>\n",
       "      <th>T_SOTONOQ</th>\n",
       "      <th>T_STONO</th>\n",
       "      <th>T_STONO2</th>\n",
       "      <th>T_WC</th>\n",
       "      <th>T_WEP</th>\n",
       "      <th>T_X</th>\n",
       "      <th>label</th>\n",
       "    </tr>\n",
       "  </thead>\n",
       "  <tbody>\n",
       "    <tr>\n",
       "      <th>140</th>\n",
       "      <td>-0.341452</td>\n",
       "      <td>-0.104637</td>\n",
       "      <td>0.827377</td>\n",
       "      <td>-1.355574</td>\n",
       "      <td>2.074505</td>\n",
       "      <td>-0.307562</td>\n",
       "      <td>-1.623803</td>\n",
       "      <td>1.231645</td>\n",
       "      <td>-0.947423</td>\n",
       "      <td>-0.088986</td>\n",
       "      <td>...</td>\n",
       "      <td>-0.082339</td>\n",
       "      <td>-0.058124</td>\n",
       "      <td>-0.047431</td>\n",
       "      <td>-0.130856</td>\n",
       "      <td>-0.116841</td>\n",
       "      <td>-0.082339</td>\n",
       "      <td>-0.10654</td>\n",
       "      <td>-0.058124</td>\n",
       "      <td>0.589879</td>\n",
       "      <td>0</td>\n",
       "    </tr>\n",
       "    <tr>\n",
       "      <th>439</th>\n",
       "      <td>-0.437007</td>\n",
       "      <td>0.125912</td>\n",
       "      <td>-0.369365</td>\n",
       "      <td>0.737695</td>\n",
       "      <td>-0.482043</td>\n",
       "      <td>-0.307562</td>\n",
       "      <td>0.615838</td>\n",
       "      <td>-0.811922</td>\n",
       "      <td>0.666638</td>\n",
       "      <td>-0.088986</td>\n",
       "      <td>...</td>\n",
       "      <td>-0.082339</td>\n",
       "      <td>-0.058124</td>\n",
       "      <td>-0.047431</td>\n",
       "      <td>-0.130856</td>\n",
       "      <td>-0.116841</td>\n",
       "      <td>-0.082339</td>\n",
       "      <td>-0.10654</td>\n",
       "      <td>-0.058124</td>\n",
       "      <td>-1.695262</td>\n",
       "      <td>0</td>\n",
       "    </tr>\n",
       "    <tr>\n",
       "      <th>817</th>\n",
       "      <td>0.096646</td>\n",
       "      <td>0.125912</td>\n",
       "      <td>-0.369365</td>\n",
       "      <td>0.737695</td>\n",
       "      <td>2.074505</td>\n",
       "      <td>-0.307562</td>\n",
       "      <td>-1.623803</td>\n",
       "      <td>1.231645</td>\n",
       "      <td>0.666638</td>\n",
       "      <td>-0.088986</td>\n",
       "      <td>...</td>\n",
       "      <td>-0.082339</td>\n",
       "      <td>-0.058124</td>\n",
       "      <td>-0.047431</td>\n",
       "      <td>-0.130856</td>\n",
       "      <td>-0.116841</td>\n",
       "      <td>-0.082339</td>\n",
       "      <td>-0.10654</td>\n",
       "      <td>-0.058124</td>\n",
       "      <td>-1.695262</td>\n",
       "      <td>0</td>\n",
       "    </tr>\n",
       "    <tr>\n",
       "      <th>378</th>\n",
       "      <td>-0.567631</td>\n",
       "      <td>-0.719436</td>\n",
       "      <td>0.827377</td>\n",
       "      <td>0.737695</td>\n",
       "      <td>2.074505</td>\n",
       "      <td>-0.307562</td>\n",
       "      <td>-1.623803</td>\n",
       "      <td>-0.811922</td>\n",
       "      <td>0.666638</td>\n",
       "      <td>-0.088986</td>\n",
       "      <td>...</td>\n",
       "      <td>-0.082339</td>\n",
       "      <td>-0.058124</td>\n",
       "      <td>-0.047431</td>\n",
       "      <td>-0.130856</td>\n",
       "      <td>-0.116841</td>\n",
       "      <td>-0.082339</td>\n",
       "      <td>-0.10654</td>\n",
       "      <td>-0.058124</td>\n",
       "      <td>0.589879</td>\n",
       "      <td>0</td>\n",
       "    </tr>\n",
       "    <tr>\n",
       "      <th>491</th>\n",
       "      <td>-0.502445</td>\n",
       "      <td>-0.642586</td>\n",
       "      <td>0.827377</td>\n",
       "      <td>0.737695</td>\n",
       "      <td>-0.482043</td>\n",
       "      <td>-0.307562</td>\n",
       "      <td>0.615838</td>\n",
       "      <td>-0.811922</td>\n",
       "      <td>0.666638</td>\n",
       "      <td>-0.088986</td>\n",
       "      <td>...</td>\n",
       "      <td>-0.082339</td>\n",
       "      <td>-0.058124</td>\n",
       "      <td>-0.047431</td>\n",
       "      <td>7.641989</td>\n",
       "      <td>-0.116841</td>\n",
       "      <td>-0.082339</td>\n",
       "      <td>-0.10654</td>\n",
       "      <td>-0.058124</td>\n",
       "      <td>-1.695262</td>\n",
       "      <td>0</td>\n",
       "    </tr>\n",
       "  </tbody>\n",
       "</table>\n",
       "<p>5 rows × 31 columns</p>\n",
       "</div>"
      ],
      "text/plain": [
       "         Fare       Age    Pclass    gender         C         Q         S  \\\n",
       "140 -0.341452 -0.104637  0.827377 -1.355574  2.074505 -0.307562 -1.623803   \n",
       "439 -0.437007  0.125912 -0.369365  0.737695 -0.482043 -0.307562  0.615838   \n",
       "817  0.096646  0.125912 -0.369365  0.737695  2.074505 -0.307562 -1.623803   \n",
       "378 -0.567631 -0.719436  0.827377  0.737695  2.074505 -0.307562 -1.623803   \n",
       "491 -0.502445 -0.642586  0.827377  0.737695 -0.482043 -0.307562  0.615838   \n",
       "\n",
       "       Family     Title      T_A4  ...     T_SOC    T_SOPP  T_SOTONO2  \\\n",
       "140  1.231645 -0.947423 -0.088986  ... -0.082339 -0.058124  -0.047431   \n",
       "439 -0.811922  0.666638 -0.088986  ... -0.082339 -0.058124  -0.047431   \n",
       "817  1.231645  0.666638 -0.088986  ... -0.082339 -0.058124  -0.047431   \n",
       "378 -0.811922  0.666638 -0.088986  ... -0.082339 -0.058124  -0.047431   \n",
       "491 -0.811922  0.666638 -0.088986  ... -0.082339 -0.058124  -0.047431   \n",
       "\n",
       "     T_SOTONOQ   T_STONO  T_STONO2     T_WC     T_WEP       T_X  label  \n",
       "140  -0.130856 -0.116841 -0.082339 -0.10654 -0.058124  0.589879      0  \n",
       "439  -0.130856 -0.116841 -0.082339 -0.10654 -0.058124 -1.695262      0  \n",
       "817  -0.130856 -0.116841 -0.082339 -0.10654 -0.058124 -1.695262      0  \n",
       "378  -0.130856 -0.116841 -0.082339 -0.10654 -0.058124  0.589879      0  \n",
       "491   7.641989 -0.116841 -0.082339 -0.10654 -0.058124 -1.695262      0  \n",
       "\n",
       "[5 rows x 31 columns]"
      ]
     },
     "execution_count": 13,
     "metadata": {},
     "output_type": "execute_result"
    }
   ],
   "source": [
    "import pandas as pd\n",
    "import warnings\n",
    "warnings.filterwarnings(\"ignore\")\n",
    "from sklearn.model_selection import train_test_split\n",
    "\n",
    "train_set = pd.read_parquet(\"titanic.parquet\")\n",
    "\n",
    "train, test = train_test_split(train_set, test_size=0.20, random_state=0)\n",
    "train.head()"
   ]
  },
  {
   "cell_type": "code",
   "execution_count": 14,
   "id": "ac5fc19a",
   "metadata": {},
   "outputs": [],
   "source": [
    "from sklearn.linear_model import LogisticRegression\n",
    "from sklearn.ensemble import RandomForestClassifier, GradientBoostingClassifier\n",
    "\n",
    "from tune import TUNE_OBJECT_FACTORY\n",
    "from tune import Space, Grid, Rand, RandInt, Choice\n",
    "from tune_sklearn import sk_space, suggest_sk_models, suggest_sk_models_by_cv\n",
    "\n",
    "TUNE_OBJECT_FACTORY.set_temp_path(\"/tmp\")"
   ]
  },
  {
   "cell_type": "code",
   "execution_count": 15,
   "id": "40137eb9",
   "metadata": {},
   "outputs": [
    {
     "name": "stderr",
     "output_type": "stream",
     "text": [
      "NativeExecutionEngine doesn't respect num_partitions ROWCOUNT\n"
     ]
    },
    {
     "name": "stdout",
     "output_type": "stream",
     "text": [
      "[{'__space__model': 'sklearn.linear_model._logistic.LogisticRegression'}]\n",
      "0.7988826815642458 [] {'__space__model': 'sklearn.linear_model._logistic.LogisticRegression'}\n"
     ]
    }
   ],
   "source": [
    "space = sk_space(LogisticRegression)\n",
    "print(list(space))\n",
    "\n",
    "result = suggest_sk_models(\n",
    "    space,\n",
    "    train, test,\n",
    "    scoring=\"accuracy\",\n",
    ")\n",
    "\n",
    "# The following code is just for demo purpose\n",
    "for r in result:\n",
    "    print(r.metric, r.trial.keys, r.trial.params)"
   ]
  },
  {
   "cell_type": "code",
   "execution_count": 16,
   "id": "eaf63795",
   "metadata": {},
   "outputs": [
    {
     "name": "stderr",
     "output_type": "stream",
     "text": [
      "NativeExecutionEngine doesn't respect num_partitions ROWCOUNT\n"
     ]
    },
    {
     "name": "stdout",
     "output_type": "stream",
     "text": [
      "0.8435754189944135 [] {'__space__model': 'sklearn.ensemble._forest.RandomForestClassifier', 'n_estimators': 10}\n"
     ]
    }
   ],
   "source": [
    "space = sum([\n",
    "    sk_space(LogisticRegression),\n",
    "    sk_space(RandomForestClassifier, n_estimators=10)\n",
    "])\n",
    "\n",
    "result = suggest_sk_models(\n",
    "    space,\n",
    "    train, test,\n",
    "    scoring=\"accuracy\",\n",
    ")\n",
    "\n",
    "for r in result:\n",
    "    print(r.metric, r.trial.keys, r.trial.params)"
   ]
  },
  {
   "cell_type": "code",
   "execution_count": 17,
   "id": "baf59ee5",
   "metadata": {},
   "outputs": [
    {
     "name": "stderr",
     "output_type": "stream",
     "text": [
      "NativeExecutionEngine doesn't respect num_partitions ROWCOUNT\n"
     ]
    },
    {
     "name": "stdout",
     "output_type": "stream",
     "text": [
      "0.8435754189944135 [] {'__space__model': 'sklearn.ensemble._gb.GradientBoostingClassifier', 'n_estimators': 10, 'max_depth': 5, 'learning_rate': 0.4186815646085225}\n"
     ]
    }
   ],
   "source": [
    "space = sum([\n",
    "    sk_space(LogisticRegression),\n",
    "    sk_space(GradientBoostingClassifier, n_estimators=Grid(5,10), max_depth=Grid(5,10), learning_rate=Rand(0.01,0.99)).sample(5,1)\n",
    "])\n",
    "\n",
    "result = suggest_sk_models(\n",
    "    space,\n",
    "    train, test,\n",
    "    scoring=\"accuracy\",\n",
    ")\n",
    "\n",
    "for r in result:\n",
    "    print(r.metric, r.trial.keys, r.trial.params)"
   ]
  },
  {
   "cell_type": "code",
   "execution_count": 18,
   "id": "34b6acfa",
   "metadata": {},
   "outputs": [],
   "source": [
    "from tune import NonIterativeObjectiveLocalOptimizer\n",
    "from tune_hyperopt import HyperoptLocalOptimizer\n",
    "from tune_optuna import OptunaLocalOptimizer\n",
    "import optuna\n",
    "\n",
    "optuna.logging.disable_default_handler()\n",
    "\n",
    "def to_optimizer(obj):\n",
    "    if isinstance(obj, NonIterativeObjectiveLocalOptimizer):\n",
    "        return obj\n",
    "    if obj is None or \"hyperopt\"==obj:\n",
    "        return HyperoptLocalOptimizer(max_iter=20, seed=0)\n",
    "    if \"optuna\" == obj:\n",
    "        return OptunaLocalOptimizer(max_iter=20)\n",
    "    raise NotImplementedError\n",
    "\n",
    "# make default level 2 optimizer HyperoptLocalOptimizer, so you will not need to set again\n",
    "TUNE_OBJECT_FACTORY.set_noniterative_local_optimizer_converter(to_optimizer)"
   ]
  },
  {
   "cell_type": "code",
   "execution_count": 19,
   "id": "ab7d4b5e",
   "metadata": {},
   "outputs": [
    {
     "name": "stderr",
     "output_type": "stream",
     "text": [
      "NativeExecutionEngine doesn't respect num_partitions ROWCOUNT\n",
      "_9 _State.RUNNING -> _State.FAILED  template contains tuning expressions\n"
     ]
    },
    {
     "ename": "ValueError",
     "evalue": "template contains tuning expressions",
     "output_type": "error",
     "traceback": [
      "\u001b[0;31m---------------------------------------------------------------------------\u001b[0m",
      "\u001b[0;31mValueError\u001b[0m                                Traceback (most recent call last)",
      "\u001b[0;32m<ipython-input-19-536e2fbfd055>\u001b[0m in \u001b[0;36m<module>\u001b[0;34m\u001b[0m\n\u001b[1;32m      4\u001b[0m ])\n\u001b[1;32m      5\u001b[0m \u001b[0;34m\u001b[0m\u001b[0m\n\u001b[0;32m----> 6\u001b[0;31m result = suggest_sk_models(\n\u001b[0m\u001b[1;32m      7\u001b[0m     \u001b[0mspace\u001b[0m\u001b[0;34m,\u001b[0m\u001b[0;34m\u001b[0m\u001b[0;34m\u001b[0m\u001b[0m\n\u001b[1;32m      8\u001b[0m     \u001b[0mtrain\u001b[0m\u001b[0;34m,\u001b[0m \u001b[0mtest\u001b[0m\u001b[0;34m,\u001b[0m\u001b[0;34m\u001b[0m\u001b[0;34m\u001b[0m\u001b[0m\n",
      "\u001b[0;32m/opt/miniconda3/lib/python3.8/site-packages/tune_sklearn/suggest.py\u001b[0m in \u001b[0;36msuggest_sk_models\u001b[0;34m(space, train_df, test_df, scoring, temp_path, feature_prefix, label_col, save_model, partition_keys, top_n, local_optimizer, monitor, stopper, stop_check_interval, distributed, execution_engine, execution_engine_conf)\u001b[0m\n\u001b[1;32m     61\u001b[0m \u001b[0;34m\u001b[0m\u001b[0m\n\u001b[1;32m     62\u001b[0m     rows = list(\n\u001b[0;32m---> 63\u001b[0;31m         dag.run(\n\u001b[0m\u001b[1;32m     64\u001b[0m             \u001b[0mexecution_engine\u001b[0m\u001b[0;34m,\u001b[0m\u001b[0;34m\u001b[0m\u001b[0;34m\u001b[0m\u001b[0m\n\u001b[1;32m     65\u001b[0m             \u001b[0mconf\u001b[0m\u001b[0;34m=\u001b[0m\u001b[0mexecution_engine_conf\u001b[0m\u001b[0;34m,\u001b[0m\u001b[0;34m\u001b[0m\u001b[0;34m\u001b[0m\u001b[0m\n",
      "\u001b[0;32m/opt/miniconda3/lib/python3.8/site-packages/fugue/workflow/workflow.py\u001b[0m in \u001b[0;36mrun\u001b[0;34m(self, *args, **kwargs)\u001b[0m\n\u001b[1;32m   1516\u001b[0m                 \u001b[0;32mif\u001b[0m \u001b[0mctb\u001b[0m \u001b[0;32mis\u001b[0m \u001b[0;32mNone\u001b[0m\u001b[0;34m:\u001b[0m  \u001b[0;31m# pragma: no cover\u001b[0m\u001b[0;34m\u001b[0m\u001b[0;34m\u001b[0m\u001b[0m\n\u001b[1;32m   1517\u001b[0m                     \u001b[0;32mraise\u001b[0m\u001b[0;34m\u001b[0m\u001b[0;34m\u001b[0m\u001b[0m\n\u001b[0;32m-> 1518\u001b[0;31m                 \u001b[0;32mraise\u001b[0m \u001b[0mex\u001b[0m\u001b[0;34m.\u001b[0m\u001b[0mwith_traceback\u001b[0m\u001b[0;34m(\u001b[0m\u001b[0mctb\u001b[0m\u001b[0;34m)\u001b[0m\u001b[0;34m\u001b[0m\u001b[0;34m\u001b[0m\u001b[0m\n\u001b[0m\u001b[1;32m   1519\u001b[0m             \u001b[0mself\u001b[0m\u001b[0;34m.\u001b[0m\u001b[0m_computed\u001b[0m \u001b[0;34m=\u001b[0m \u001b[0;32mTrue\u001b[0m\u001b[0;34m\u001b[0m\u001b[0;34m\u001b[0m\u001b[0m\n\u001b[1;32m   1520\u001b[0m         return DataFrames(\n",
      "\u001b[0;32m/opt/miniconda3/lib/python3.8/site-packages/tune_sklearn/suggest.py\u001b[0m in \u001b[0;36msuggest_sk_models\u001b[0;34m(space, train_df, test_df, scoring, temp_path, feature_prefix, label_col, save_model, partition_keys, top_n, local_optimizer, monitor, stopper, stop_check_interval, distributed, execution_engine, execution_engine_conf)\u001b[0m\n\u001b[1;32m     49\u001b[0m         \u001b[0mcheckpoint_path\u001b[0m\u001b[0;34m=\u001b[0m\u001b[0mtemp_path\u001b[0m \u001b[0;32mif\u001b[0m \u001b[0msave_model\u001b[0m \u001b[0;32melse\u001b[0m \u001b[0;32mNone\u001b[0m\u001b[0;34m,\u001b[0m\u001b[0;34m\u001b[0m\u001b[0;34m\u001b[0m\u001b[0m\n\u001b[1;32m     50\u001b[0m     )\n\u001b[0;32m---> 51\u001b[0;31m     study = optimize_noniterative(\n\u001b[0m\u001b[1;32m     52\u001b[0m         \u001b[0mobjective\u001b[0m\u001b[0;34m=\u001b[0m\u001b[0mobjective\u001b[0m\u001b[0;34m,\u001b[0m\u001b[0;34m\u001b[0m\u001b[0;34m\u001b[0m\u001b[0m\n\u001b[1;32m     53\u001b[0m         \u001b[0mdataset\u001b[0m\u001b[0;34m=\u001b[0m\u001b[0mdataset\u001b[0m\u001b[0;34m,\u001b[0m\u001b[0;34m\u001b[0m\u001b[0;34m\u001b[0m\u001b[0m\n",
      "\u001b[0;32m/opt/miniconda3/lib/python3.8/site-packages/tune/api/optimize.py\u001b[0m in \u001b[0;36moptimize_noniterative\u001b[0;34m(objective, dataset, optimizer, distributed, monitor, stopper, stop_check_interval)\u001b[0m\n\u001b[1;32m     27\u001b[0m     \u001b[0m_monitor\u001b[0m \u001b[0;34m=\u001b[0m \u001b[0mTUNE_OBJECT_FACTORY\u001b[0m\u001b[0;34m.\u001b[0m\u001b[0mmake_monitor\u001b[0m\u001b[0;34m(\u001b[0m\u001b[0mmonitor\u001b[0m\u001b[0;34m)\u001b[0m\u001b[0;34m\u001b[0m\u001b[0;34m\u001b[0m\u001b[0m\n\u001b[1;32m     28\u001b[0m     \u001b[0mstudy\u001b[0m \u001b[0;34m=\u001b[0m \u001b[0mNonIterativeStudy\u001b[0m\u001b[0;34m(\u001b[0m\u001b[0m_objective\u001b[0m\u001b[0;34m,\u001b[0m \u001b[0m_optimizer\u001b[0m\u001b[0;34m)\u001b[0m\u001b[0;34m\u001b[0m\u001b[0;34m\u001b[0m\u001b[0m\n\u001b[0;32m---> 29\u001b[0;31m     return study.optimize(\n\u001b[0m\u001b[1;32m     30\u001b[0m         \u001b[0mdataset\u001b[0m\u001b[0;34m,\u001b[0m\u001b[0;34m\u001b[0m\u001b[0;34m\u001b[0m\u001b[0m\n\u001b[1;32m     31\u001b[0m         \u001b[0mdistributed\u001b[0m\u001b[0;34m=\u001b[0m\u001b[0mdistributed\u001b[0m\u001b[0;34m,\u001b[0m\u001b[0;34m\u001b[0m\u001b[0;34m\u001b[0m\u001b[0m\n",
      "\u001b[0;32m/opt/miniconda3/lib/python3.8/site-packages/tune/noniterative/study.py\u001b[0m in \u001b[0;36moptimize\u001b[0;34m(self, dataset, distributed, monitor, stopper, stop_check_interval)\u001b[0m\n\u001b[1;32m     87\u001b[0m         \u001b[0;32melse\u001b[0m\u001b[0;34m:\u001b[0m\u001b[0;34m\u001b[0m\u001b[0;34m\u001b[0m\u001b[0m\n\u001b[1;32m     88\u001b[0m             res = (\n\u001b[0;32m---> 89\u001b[0;31m                 \u001b[0mdataset\u001b[0m\u001b[0;34m.\u001b[0m\u001b[0mdata\u001b[0m\u001b[0;34m.\u001b[0m\u001b[0mprocess\u001b[0m\u001b[0;34m(\u001b[0m\u001b[0mpreprocess\u001b[0m\u001b[0;34m)\u001b[0m\u001b[0;34m\u001b[0m\u001b[0;34m\u001b[0m\u001b[0m\n\u001b[0m\u001b[1;32m     90\u001b[0m                 \u001b[0;34m.\u001b[0m\u001b[0mper_row\u001b[0m\u001b[0;34m(\u001b[0m\u001b[0;34m)\u001b[0m\u001b[0;34m\u001b[0m\u001b[0;34m\u001b[0m\u001b[0m\n\u001b[1;32m     91\u001b[0m                 .transform(\n",
      "\u001b[0;32m/opt/miniconda3/lib/python3.8/site-packages/tune/noniterative/study.py\u001b[0m in \u001b[0;36m_compute_transformer\u001b[0;34m(self, df, entrypoint, stop_check_interval)\u001b[0m\n\u001b[1;32m    147\u001b[0m                         \u001b[0;32myield\u001b[0m \u001b[0mreport\u001b[0m\u001b[0;34m.\u001b[0m\u001b[0mfill_dict\u001b[0m\u001b[0;34m(\u001b[0m\u001b[0mdict\u001b[0m\u001b[0;34m(\u001b[0m\u001b[0mrow\u001b[0m\u001b[0;34m)\u001b[0m\u001b[0;34m)\u001b[0m\u001b[0;34m\u001b[0m\u001b[0;34m\u001b[0m\u001b[0m\n\u001b[1;32m    148\u001b[0m                 \u001b[0;32melse\u001b[0m\u001b[0;34m:\u001b[0m\u001b[0;34m\u001b[0m\u001b[0;34m\u001b[0m\u001b[0m\n\u001b[0;32m--> 149\u001b[0;31m                     \u001b[0mreport\u001b[0m \u001b[0;34m=\u001b[0m \u001b[0mself\u001b[0m\u001b[0;34m.\u001b[0m\u001b[0m_local_process_trial\u001b[0m\u001b[0;34m(\u001b[0m\u001b[0mrow\u001b[0m\u001b[0;34m,\u001b[0m \u001b[0mn\u001b[0m\u001b[0;34m)\u001b[0m\u001b[0;34m\u001b[0m\u001b[0;34m\u001b[0m\u001b[0m\n\u001b[0m\u001b[1;32m    150\u001b[0m                     \u001b[0;32myield\u001b[0m \u001b[0mreport\u001b[0m\u001b[0;34m.\u001b[0m\u001b[0mfill_dict\u001b[0m\u001b[0;34m(\u001b[0m\u001b[0mdict\u001b[0m\u001b[0;34m(\u001b[0m\u001b[0mrow\u001b[0m\u001b[0;34m)\u001b[0m\u001b[0;34m)\u001b[0m\u001b[0;34m\u001b[0m\u001b[0;34m\u001b[0m\u001b[0m\n\u001b[1;32m    151\u001b[0m \u001b[0;34m\u001b[0m\u001b[0m\n",
      "\u001b[0;32m/opt/miniconda3/lib/python3.8/site-packages/tune/noniterative/study.py\u001b[0m in \u001b[0;36m_local_process_trial\u001b[0;34m(self, row, idx)\u001b[0m\n\u001b[1;32m    152\u001b[0m     \u001b[0;32mdef\u001b[0m \u001b[0m_local_process_trial\u001b[0m\u001b[0;34m(\u001b[0m\u001b[0mself\u001b[0m\u001b[0;34m,\u001b[0m \u001b[0mrow\u001b[0m\u001b[0;34m:\u001b[0m \u001b[0mDict\u001b[0m\u001b[0;34m[\u001b[0m\u001b[0mstr\u001b[0m\u001b[0;34m,\u001b[0m \u001b[0mAny\u001b[0m\u001b[0;34m]\u001b[0m\u001b[0;34m,\u001b[0m \u001b[0midx\u001b[0m\u001b[0;34m:\u001b[0m \u001b[0mint\u001b[0m\u001b[0;34m)\u001b[0m \u001b[0;34m->\u001b[0m \u001b[0mTrialReport\u001b[0m\u001b[0;34m:\u001b[0m\u001b[0;34m\u001b[0m\u001b[0;34m\u001b[0m\u001b[0m\n\u001b[1;32m    153\u001b[0m         \u001b[0mtrial\u001b[0m \u001b[0;34m=\u001b[0m \u001b[0mlist\u001b[0m\u001b[0;34m(\u001b[0m\u001b[0m_get_trials_from_row\u001b[0m\u001b[0;34m(\u001b[0m\u001b[0mrow\u001b[0m\u001b[0;34m)\u001b[0m\u001b[0;34m)\u001b[0m\u001b[0;34m[\u001b[0m\u001b[0midx\u001b[0m\u001b[0;34m]\u001b[0m\u001b[0;34m\u001b[0m\u001b[0;34m\u001b[0m\u001b[0m\n\u001b[0;32m--> 154\u001b[0;31m         \u001b[0;32mreturn\u001b[0m \u001b[0mself\u001b[0m\u001b[0;34m.\u001b[0m\u001b[0m_optimizer\u001b[0m\u001b[0;34m.\u001b[0m\u001b[0mrun\u001b[0m\u001b[0;34m(\u001b[0m\u001b[0mself\u001b[0m\u001b[0;34m.\u001b[0m\u001b[0m_objective\u001b[0m\u001b[0;34m,\u001b[0m \u001b[0mtrial\u001b[0m\u001b[0;34m)\u001b[0m\u001b[0;34m\u001b[0m\u001b[0;34m\u001b[0m\u001b[0m\n\u001b[0m",
      "\u001b[0;32m/opt/miniconda3/lib/python3.8/site-packages/tune/noniterative/objective.py\u001b[0m in \u001b[0;36mrun\u001b[0;34m(self, func, trial)\u001b[0m\n\u001b[1;32m     25\u001b[0m     \u001b[0;32mdef\u001b[0m \u001b[0mrun\u001b[0m\u001b[0;34m(\u001b[0m\u001b[0mself\u001b[0m\u001b[0;34m,\u001b[0m \u001b[0mfunc\u001b[0m\u001b[0;34m:\u001b[0m \u001b[0mNonIterativeObjectiveFunc\u001b[0m\u001b[0;34m,\u001b[0m \u001b[0mtrial\u001b[0m\u001b[0;34m:\u001b[0m \u001b[0mTrial\u001b[0m\u001b[0;34m)\u001b[0m \u001b[0;34m->\u001b[0m \u001b[0mTrialReport\u001b[0m\u001b[0;34m:\u001b[0m\u001b[0;34m\u001b[0m\u001b[0;34m\u001b[0m\u001b[0m\n\u001b[1;32m     26\u001b[0m         \u001b[0;31m# TODO: how to utilize execution_engine?\u001b[0m\u001b[0;34m\u001b[0m\u001b[0;34m\u001b[0m\u001b[0;34m\u001b[0m\u001b[0m\n\u001b[0;32m---> 27\u001b[0;31m         \u001b[0;32mreturn\u001b[0m \u001b[0mfunc\u001b[0m\u001b[0;34m.\u001b[0m\u001b[0msafe_run\u001b[0m\u001b[0;34m(\u001b[0m\u001b[0mtrial\u001b[0m\u001b[0;34m)\u001b[0m\u001b[0;34m\u001b[0m\u001b[0;34m\u001b[0m\u001b[0m\n\u001b[0m\u001b[1;32m     28\u001b[0m \u001b[0;34m\u001b[0m\u001b[0m\n\u001b[1;32m     29\u001b[0m     def run_monitored_process(\n",
      "\u001b[0;32m/opt/miniconda3/lib/python3.8/site-packages/tune/noniterative/objective.py\u001b[0m in \u001b[0;36msafe_run\u001b[0;34m(self, trial)\u001b[0m\n\u001b[1;32m     14\u001b[0m \u001b[0;34m\u001b[0m\u001b[0m\n\u001b[1;32m     15\u001b[0m     \u001b[0;32mdef\u001b[0m \u001b[0msafe_run\u001b[0m\u001b[0;34m(\u001b[0m\u001b[0mself\u001b[0m\u001b[0;34m,\u001b[0m \u001b[0mtrial\u001b[0m\u001b[0;34m:\u001b[0m \u001b[0mTrial\u001b[0m\u001b[0;34m)\u001b[0m \u001b[0;34m->\u001b[0m \u001b[0mTrialReport\u001b[0m\u001b[0;34m:\u001b[0m\u001b[0;34m\u001b[0m\u001b[0;34m\u001b[0m\u001b[0m\n\u001b[0;32m---> 16\u001b[0;31m         \u001b[0mreport\u001b[0m \u001b[0;34m=\u001b[0m \u001b[0mself\u001b[0m\u001b[0;34m.\u001b[0m\u001b[0mrun\u001b[0m\u001b[0;34m(\u001b[0m\u001b[0mtrial\u001b[0m\u001b[0;34m)\u001b[0m\u001b[0;34m\u001b[0m\u001b[0;34m\u001b[0m\u001b[0m\n\u001b[0m\u001b[1;32m     17\u001b[0m         \u001b[0;32mreturn\u001b[0m \u001b[0mreport\u001b[0m\u001b[0;34m.\u001b[0m\u001b[0mwith_sort_metric\u001b[0m\u001b[0;34m(\u001b[0m\u001b[0mself\u001b[0m\u001b[0;34m.\u001b[0m\u001b[0mgenerate_sort_metric\u001b[0m\u001b[0;34m(\u001b[0m\u001b[0mreport\u001b[0m\u001b[0;34m.\u001b[0m\u001b[0mmetric\u001b[0m\u001b[0;34m)\u001b[0m\u001b[0;34m)\u001b[0m\u001b[0;34m\u001b[0m\u001b[0;34m\u001b[0m\u001b[0m\n\u001b[1;32m     18\u001b[0m \u001b[0;34m\u001b[0m\u001b[0m\n",
      "\u001b[0;32m/opt/miniconda3/lib/python3.8/site-packages/tune_sklearn/objective.py\u001b[0m in \u001b[0;36mrun\u001b[0;34m(self, trial)\u001b[0m\n\u001b[1;32m     47\u001b[0m \u001b[0;34m\u001b[0m\u001b[0m\n\u001b[1;32m     48\u001b[0m     \u001b[0;32mdef\u001b[0m \u001b[0mrun\u001b[0m\u001b[0;34m(\u001b[0m\u001b[0mself\u001b[0m\u001b[0;34m,\u001b[0m \u001b[0mtrial\u001b[0m\u001b[0;34m:\u001b[0m \u001b[0mTrial\u001b[0m\u001b[0;34m)\u001b[0m \u001b[0;34m->\u001b[0m \u001b[0mTrialReport\u001b[0m\u001b[0;34m:\u001b[0m\u001b[0;34m\u001b[0m\u001b[0;34m\u001b[0m\u001b[0m\n\u001b[0;32m---> 49\u001b[0;31m         \u001b[0mparams\u001b[0m \u001b[0;34m=\u001b[0m \u001b[0mdict\u001b[0m\u001b[0;34m(\u001b[0m\u001b[0mtrial\u001b[0m\u001b[0;34m.\u001b[0m\u001b[0mparams\u001b[0m\u001b[0;34m.\u001b[0m\u001b[0msimple_value\u001b[0m\u001b[0;34m)\u001b[0m\u001b[0;34m\u001b[0m\u001b[0;34m\u001b[0m\u001b[0m\n\u001b[0m\u001b[1;32m     50\u001b[0m         \u001b[0;32mif\u001b[0m \u001b[0mtrial\u001b[0m\u001b[0;34m.\u001b[0m\u001b[0mtrial_id\u001b[0m \u001b[0;34m!=\u001b[0m \u001b[0mself\u001b[0m\u001b[0;34m.\u001b[0m\u001b[0m_last_id\u001b[0m\u001b[0;34m:\u001b[0m\u001b[0;34m\u001b[0m\u001b[0;34m\u001b[0m\u001b[0m\n\u001b[1;32m     51\u001b[0m             \u001b[0mself\u001b[0m\u001b[0;34m.\u001b[0m\u001b[0m_model_type\u001b[0m \u001b[0;34m=\u001b[0m \u001b[0mto_sk_model\u001b[0m\u001b[0;34m(\u001b[0m\u001b[0mparams\u001b[0m\u001b[0;34m.\u001b[0m\u001b[0mpop\u001b[0m\u001b[0;34m(\u001b[0m\u001b[0mSPACE_MODEL_NAME\u001b[0m\u001b[0;34m)\u001b[0m\u001b[0;34m)\u001b[0m\u001b[0;34m\u001b[0m\u001b[0;34m\u001b[0m\u001b[0m\n",
      "\u001b[0;32m/opt/miniconda3/lib/python3.8/site-packages/tune/concepts/space/parameters.py\u001b[0m in \u001b[0;36msimple_value\u001b[0;34m(self)\u001b[0m\n\u001b[1;32m    562\u001b[0m         \u001b[0mwill\u001b[0m \u001b[0mbe\u001b[0m \u001b[0mraised\u001b[0m\u001b[0;34m\u001b[0m\u001b[0;34m\u001b[0m\u001b[0m\n\u001b[1;32m    563\u001b[0m         \"\"\"\n\u001b[0;32m--> 564\u001b[0;31m         \u001b[0massert_or_throw\u001b[0m\u001b[0;34m(\u001b[0m\u001b[0mself\u001b[0m\u001b[0;34m.\u001b[0m\u001b[0mempty\u001b[0m\u001b[0;34m,\u001b[0m \u001b[0mValueError\u001b[0m\u001b[0;34m(\u001b[0m\u001b[0;34m\"template contains tuning expressions\"\u001b[0m\u001b[0;34m)\u001b[0m\u001b[0;34m)\u001b[0m\u001b[0;34m\u001b[0m\u001b[0;34m\u001b[0m\u001b[0m\n\u001b[0m\u001b[1;32m    565\u001b[0m         \u001b[0;32mif\u001b[0m \u001b[0mlen\u001b[0m\u001b[0;34m(\u001b[0m\u001b[0mself\u001b[0m\u001b[0;34m.\u001b[0m\u001b[0m_func_positions\u001b[0m\u001b[0;34m)\u001b[0m \u001b[0;34m==\u001b[0m \u001b[0;36m0\u001b[0m\u001b[0;34m:\u001b[0m\u001b[0;34m\u001b[0m\u001b[0;34m\u001b[0m\u001b[0m\n\u001b[1;32m    566\u001b[0m             \u001b[0;32mreturn\u001b[0m \u001b[0mself\u001b[0m\u001b[0;34m.\u001b[0m\u001b[0m_template\u001b[0m\u001b[0;34m\u001b[0m\u001b[0;34m\u001b[0m\u001b[0m\n",
      "\u001b[0;32m/opt/miniconda3/lib/python3.8/site-packages/triad/utils/assertion.py\u001b[0m in \u001b[0;36massert_or_throw\u001b[0;34m(bool_exp, exception)\u001b[0m\n\u001b[1;32m     40\u001b[0m             \u001b[0;32mraise\u001b[0m \u001b[0mAssertionError\u001b[0m\u001b[0;34m(\u001b[0m\u001b[0;34m)\u001b[0m\u001b[0;34m\u001b[0m\u001b[0;34m\u001b[0m\u001b[0m\n\u001b[1;32m     41\u001b[0m         \u001b[0;32mif\u001b[0m \u001b[0misinstance\u001b[0m\u001b[0;34m(\u001b[0m\u001b[0m_exception\u001b[0m\u001b[0;34m,\u001b[0m \u001b[0mException\u001b[0m\u001b[0;34m)\u001b[0m\u001b[0;34m:\u001b[0m\u001b[0;34m\u001b[0m\u001b[0;34m\u001b[0m\u001b[0m\n\u001b[0;32m---> 42\u001b[0;31m             \u001b[0;32mraise\u001b[0m \u001b[0m_exception\u001b[0m\u001b[0;34m\u001b[0m\u001b[0;34m\u001b[0m\u001b[0m\n\u001b[0m\u001b[1;32m     43\u001b[0m         \u001b[0;32mif\u001b[0m \u001b[0misinstance\u001b[0m\u001b[0;34m(\u001b[0m\u001b[0m_exception\u001b[0m\u001b[0;34m,\u001b[0m \u001b[0mstr\u001b[0m\u001b[0;34m)\u001b[0m\u001b[0;34m:\u001b[0m\u001b[0;34m\u001b[0m\u001b[0;34m\u001b[0m\u001b[0m\n\u001b[1;32m     44\u001b[0m             \u001b[0;32mraise\u001b[0m \u001b[0mAssertionError\u001b[0m\u001b[0;34m(\u001b[0m\u001b[0m_exception\u001b[0m\u001b[0;34m)\u001b[0m\u001b[0;34m\u001b[0m\u001b[0;34m\u001b[0m\u001b[0m\n",
      "\u001b[0;31mValueError\u001b[0m: template contains tuning expressions"
     ]
    }
   ],
   "source": [
    "space = sum([\n",
    "    sk_space(LogisticRegression),\n",
    "    sk_space(GradientBoostingClassifier, n_estimators=Grid(5,10), max_depth=Grid(5,10), learning_rate=Rand(0.01,0.99))\n",
    "])\n",
    "\n",
    "result = suggest_sk_models(\n",
    "    space,\n",
    "    train, test,\n",
    "    scoring=\"accuracy\",\n",
    ")\n",
    "\n",
    "for r in result:\n",
    "    print(r.metric, r.trial.keys, r.trial.params)"
   ]
  },
  {
   "cell_type": "markdown",
   "id": "f72124e0",
   "metadata": {},
   "source": [
    "## Cross Product"
   ]
  },
  {
   "cell_type": "code",
   "execution_count": null,
   "id": "62aae7db",
   "metadata": {},
   "outputs": [],
   "source": [
    "space = sum([\n",
    "    sk_space(LogisticRegression),\n",
    "    sk_space(GradientBoostingClassifier, n_estimators=Grid(5,10), learning_rate=Rand(0.01,0.99)) * Space(max_depth=RandInt(1,100)).sample(5,0)\n",
    "])\n",
    "\n",
    "result = suggest_sk_models(\n",
    "    space,\n",
    "    train, test,\n",
    "    scoring=\"accuracy\",\n",
    ")\n",
    "\n",
    "for r in result:\n",
    "    print(r.metric, r.trial.keys, r.trial.params)"
   ]
  },
  {
   "cell_type": "markdown",
   "id": "c27ce010",
   "metadata": {},
   "source": [
    "## Partition"
   ]
  },
  {
   "cell_type": "code",
   "execution_count": null,
   "id": "e678564d",
   "metadata": {},
   "outputs": [],
   "source": [
    "space = sum([\n",
    "    sk_space(LogisticRegression),\n",
    "    sk_space(GradientBoostingClassifier, n_estimators=Grid(5,10), max_depth=Grid(5,10), learning_rate=Rand(0.01,0.99))\n",
    "])\n",
    "\n",
    "result = suggest_sk_models(\n",
    "    space,\n",
    "    train, test,\n",
    "    scoring=\"accuracy\",\n",
    "    partition_keys=[\"gender\"]\n",
    ")\n",
    "\n",
    "for r in result:\n",
    "    print(r.metric, r.trial.keys, r.trial.params)"
   ]
  },
  {
   "cell_type": "markdown",
   "id": "4615d550",
   "metadata": {},
   "source": [
    "## Bringing to Dask"
   ]
  },
  {
   "cell_type": "code",
   "execution_count": null,
   "id": "6ba17b44",
   "metadata": {},
   "outputs": [],
   "source": [
    "import fugue_dask\n",
    "space = sum([\n",
    "    sk_space(LogisticRegression),\n",
    "    sk_space(GradientBoostingClassifier, n_estimators=Grid(5,10), max_depth=Grid(5,10), learning_rate=Rand(0.01,0.99))\n",
    "])\n",
    "\n",
    "result = suggest_sk_models(\n",
    "    space,\n",
    "    train, test,\n",
    "    scoring=\"accuracy\",\n",
    "    partition_keys=[\"gender\"],\n",
    "    execution_engine=\"dask\"\n",
    ")\n",
    "\n",
    "for r in result:\n",
    "    print(r.metric, r.trial.keys, r.trial.params)"
   ]
  }
 ],
 "metadata": {
  "kernelspec": {
   "display_name": "Python 3 (ipykernel)",
   "language": "python",
   "name": "python3"
  },
  "language_info": {
   "codemirror_mode": {
    "name": "ipython",
    "version": 3
   },
   "file_extension": ".py",
   "mimetype": "text/x-python",
   "name": "python",
   "nbconvert_exporter": "python",
   "pygments_lexer": "ipython3",
   "version": "3.8.12"
  }
 },
 "nbformat": 4,
 "nbformat_minor": 5
}
