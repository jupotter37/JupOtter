{
 "cells": [
  {
   "cell_type": "markdown",
   "metadata": {},
   "source": [
    "# <center>异常的处理让python更健壮</center>"
   ]
  },
  {
   "cell_type": "markdown",
   "metadata": {},
   "source": [
    "By [青衣极客 Blue Geek](https://mp.weixin.qq.com/s/_w5vQoqWzufhMu2xHeuqJw)\n",
    "\n",
    "In 2019-09-21"
   ]
  },
  {
   "cell_type": "markdown",
   "metadata": {},
   "source": [
    "在使用python程序的过程中会不可避免地遇到程序处理出错的状况，比如：除数为零，调用不存在的函数，传递传递错误类型的参数等等。\n",
    "在这种情况下，可能会有两个常见需求：1. 给出明确的错误信息，以便于问题排查和修复； 2. 即使出错，后面的程序还需要继续执行。\n",
    "那么就需要一套异常的捕获和处理机制，而python提供了一种完善并且简单易用的异常操作接口。"
   ]
  },
  {
   "cell_type": "markdown",
   "metadata": {},
   "source": [
    "## 1. 什么是异常？"
   ]
  },
  {
   "cell_type": "markdown",
   "metadata": {},
   "source": [
    "首先我们来了解一下什么是python下的异常，异常到底长什么样儿？"
   ]
  },
  {
   "cell_type": "code",
   "execution_count": 2,
   "metadata": {},
   "outputs": [
    {
     "ename": "ZeroDivisionError",
     "evalue": "division by zero",
     "output_type": "error",
     "traceback": [
      "\u001b[0;31m---------------------------------------------------------------------------\u001b[0m",
      "\u001b[0;31mZeroDivisionError\u001b[0m                         Traceback (most recent call last)",
      "\u001b[0;32m<ipython-input-2-6a8f83430dbe>\u001b[0m in \u001b[0;36m<module>\u001b[0;34m\u001b[0m\n\u001b[0;32m----> 1\u001b[0;31m \u001b[0ma\u001b[0m \u001b[0;34m=\u001b[0m \u001b[0;36m1\u001b[0m \u001b[0;34m/\u001b[0m \u001b[0;36m0\u001b[0m\u001b[0;34m\u001b[0m\u001b[0;34m\u001b[0m\u001b[0m\n\u001b[0m",
      "\u001b[0;31mZeroDivisionError\u001b[0m: division by zero"
     ]
    }
   ],
   "source": [
    "a = 1 / 0"
   ]
  },
  {
   "cell_type": "markdown",
   "metadata": {},
   "source": [
    "比如这个表达式“1 / 0”，只要学过数学的应该都是知道这种表达式无法计算，因此在计算机中将中情况称为“除零异常”。从这个例子可以总结出：异常就是由于某种错误而导致程序无法正常执行的情况。"
   ]
  },
  {
   "cell_type": "markdown",
   "metadata": {},
   "source": [
    "## 2. 异常是如何抛出的？"
   ]
  },
  {
   "cell_type": "markdown",
   "metadata": {},
   "source": [
    "那么异常到底是如何被抛出来的呢？我们是否需要关系抛异常的过程呢？首先回答第二个问题：我们不仅需要关心抛异常的过程，有时我们还需要自己跑异常。这就跟做人一样，遇到无法解决的问题千万不要一个人死扛，抛出去让上层解决就行。这里先演示一下一个简单的抛异常的例子。"
   ]
  },
  {
   "cell_type": "code",
   "execution_count": 5,
   "metadata": {},
   "outputs": [
    {
     "ename": "ValueError",
     "evalue": "异常2",
     "output_type": "error",
     "traceback": [
      "\u001b[0;31m---------------------------------------------------------------------------\u001b[0m",
      "\u001b[0;31mValueError\u001b[0m                                Traceback (most recent call last)",
      "\u001b[0;32m<ipython-input-5-d8b50705c935>\u001b[0m in \u001b[0;36m<module>\u001b[0;34m\u001b[0m\n\u001b[1;32m      2\u001b[0m     \u001b[0;32mraise\u001b[0m \u001b[0mValueError\u001b[0m\u001b[0;34m(\u001b[0m\u001b[0;34m'异常1'\u001b[0m\u001b[0;34m)\u001b[0m\u001b[0;34m\u001b[0m\u001b[0;34m\u001b[0m\u001b[0m\n\u001b[1;32m      3\u001b[0m \u001b[0;32mif\u001b[0m \u001b[0;32mTrue\u001b[0m\u001b[0;34m:\u001b[0m\u001b[0;34m\u001b[0m\u001b[0;34m\u001b[0m\u001b[0m\n\u001b[0;32m----> 4\u001b[0;31m     \u001b[0;32mraise\u001b[0m \u001b[0mValueError\u001b[0m\u001b[0;34m(\u001b[0m\u001b[0;34m'异常2'\u001b[0m\u001b[0;34m)\u001b[0m\u001b[0;34m\u001b[0m\u001b[0;34m\u001b[0m\u001b[0m\n\u001b[0m",
      "\u001b[0;31mValueError\u001b[0m: 异常2"
     ]
    }
   ],
   "source": [
    "if False:\n",
    "    raise ValueError('异常1')\n",
    "if True:\n",
    "    raise ValueError('异常2')"
   ]
  },
  {
   "cell_type": "markdown",
   "metadata": {},
   "source": [
    "异常是一种运行时错误，只有执行到才会报错。python是一种动态语言，因此除了格式等少数问题会导致程序无法启动之外，遇到的到多数错误都是运行时的错误，也就是异常。python内建以下几种异常：\n",
    "Exception,\n",
    "AttributeError, \n",
    "OSError, \n",
    "IndexError, \n",
    "eyError, \n",
    "NameError, \n",
    "SyntaxError, \n",
    "TypeError, \n",
    "ValueError, \n",
    "ZeroDivisionError。\n",
    "其中Exception是其他异常类的超类。\n",
    "\n",
    "那如果我们想抛出的异常不在这些类型中该怎么办？解决这个问题就需要自定义异常类型了。"
   ]
  },
  {
   "cell_type": "code",
   "execution_count": 4,
   "metadata": {},
   "outputs": [
    {
     "ename": "MyExcept",
     "evalue": "自定义的异常",
     "output_type": "error",
     "traceback": [
      "\u001b[0;31m---------------------------------------------------------------------------\u001b[0m",
      "\u001b[0;31mMyExcept\u001b[0m                                  Traceback (most recent call last)",
      "\u001b[0;32m<ipython-input-4-30ffed614c22>\u001b[0m in \u001b[0;36m<module>\u001b[0;34m\u001b[0m\n\u001b[1;32m      2\u001b[0m     \u001b[0;32mpass\u001b[0m\u001b[0;34m\u001b[0m\u001b[0;34m\u001b[0m\u001b[0m\n\u001b[1;32m      3\u001b[0m \u001b[0;34m\u001b[0m\u001b[0m\n\u001b[0;32m----> 4\u001b[0;31m \u001b[0;32mraise\u001b[0m \u001b[0mMyExcept\u001b[0m\u001b[0;34m(\u001b[0m\u001b[0;34m'自定义的异常'\u001b[0m\u001b[0;34m)\u001b[0m\u001b[0;34m\u001b[0m\u001b[0;34m\u001b[0m\u001b[0m\n\u001b[0m",
      "\u001b[0;31mMyExcept\u001b[0m: 自定义的异常"
     ]
    }
   ],
   "source": [
    "class MyExcept(Exception):\n",
    "    pass\n",
    "\n",
    "raise MyExcept('自定义的异常')"
   ]
  },
  {
   "cell_type": "markdown",
   "metadata": {},
   "source": [
    "自定义的异常类型只需要继承Exception即可。然后在自己需要上报异常的地方抛出。"
   ]
  },
  {
   "cell_type": "markdown",
   "metadata": {},
   "source": [
    "## 3. 怎样捕获异常？"
   ]
  },
  {
   "cell_type": "markdown",
   "metadata": {},
   "source": [
    "有可能大家没有抛异常的需求，但是捕获异常的需求确实真真切切。下面就演示以下“除零异常”的捕获"
   ]
  },
  {
   "cell_type": "code",
   "execution_count": 15,
   "metadata": {},
   "outputs": [
    {
     "name": "stdout",
     "output_type": "stream",
     "text": [
      "除零异常 division by zero\n",
      "a = 0\n"
     ]
    }
   ],
   "source": [
    "a = 10\n",
    "try: \n",
    "    a = 1 / 0\n",
    "    raise TypeError()\n",
    "except ZeroDivisionError as e:  # 捕获可能出现的具体的异常\n",
    "    print('除零异常', e)\n",
    "except  Exception as e:         # 捕获可能出现的所有未知异常\n",
    "    print('所有异常', e)\n",
    "else:\n",
    "    print('没有异常，万事大吉')    # 在没有异常时执行的代码\n",
    "finally:\n",
    "    a = 0                       # 收尾操作\n",
    "print('a =', a)"
   ]
  },
  {
   "cell_type": "markdown",
   "metadata": {},
   "source": [
    "其实跟捕获异常相关的也就是四个关键字：try、except、else、finally。可能出现异常的代码放在try的子句中，对异常的处理放在except的子句中，没有发生异常的处理放在else子句中，无论是否发生异常都需要执行的收尾工作放在finally子句中。其中try和except是一定需要的，至于else和finally可以根据具体情况决定是否添加。不得不提醒一下的是，异常处理是需要付出一点性能上的代价的。因此可千万别什么程序都用try...except包围起来，还是要区分有威胁的代码和正常的代码。"
   ]
  },
  {
   "cell_type": "markdown",
   "metadata": {},
   "source": [
    "## 4. 怎样给出警告但是不终止？"
   ]
  },
  {
   "cell_type": "markdown",
   "metadata": {},
   "source": [
    "实际开发中有时会遇到一种纠结的情况，那就是确实程序除了问题，但是这个问题还没达到错误的级别，那么还要不要抛异常呢？当然是不能抛异常了，因为抛异常就意味着程序有停机的风险。而对于一些并不严重的问题抛出这种风险是不明智的。不过程序既然出问题了就需要让人知道，以便于评估和修复。python提供了warnings模块可以解决这种报错不停机的需求。"
   ]
  },
  {
   "cell_type": "code",
   "execution_count": 21,
   "metadata": {},
   "outputs": [
    {
     "name": "stdout",
     "output_type": "stream",
     "text": [
      "hello warning\n"
     ]
    },
    {
     "name": "stderr",
     "output_type": "stream",
     "text": [
      "/usr/local/lib/python3.7/site-packages/ipykernel_launcher.py:1: UserWarning: 警告\n",
      "  \"\"\"Entry point for launching an IPython kernel.\n"
     ]
    }
   ],
   "source": [
    "warnings.warn('警告')    # 发出警告\n",
    "print('hello warning')  # 警告之后程序没有终止"
   ]
  },
  {
   "cell_type": "markdown",
   "metadata": {},
   "source": [
    "异常其实并不复杂，跟许多其他的语法相比，甚至还十分简单。不过很多使用python的朋友却并不注意对异常的处理，所以常常出现程序崩溃的情况。通过本文的讨论和演示，希望广大的python程序员能够对异常重视起来，毕竟谁也不愿意看见自己的程序莫名其妙地崩溃。"
   ]
  }
 ],
 "metadata": {
  "kernelspec": {
   "display_name": "Python 3",
   "language": "python",
   "name": "python3"
  },
  "language_info": {
   "codemirror_mode": {
    "name": "ipython",
    "version": 3
   },
   "file_extension": ".py",
   "mimetype": "text/x-python",
   "name": "python",
   "nbconvert_exporter": "python",
   "pygments_lexer": "ipython3",
   "version": "3.7.7"
  }
 },
 "nbformat": 4,
 "nbformat_minor": 2
}
