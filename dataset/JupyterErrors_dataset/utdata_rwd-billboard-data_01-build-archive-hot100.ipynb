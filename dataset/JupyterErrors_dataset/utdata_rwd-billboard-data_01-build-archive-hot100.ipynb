{
 "cells": [
  {
   "cell_type": "markdown",
   "metadata": {},
   "source": [
    "## Build Hot 100 archive\n",
    "\n",
    "> There are some significant flaws in the files resulting from these scripts that make the data fairly unusable. Since titles and artists mix quotes and include commas, columns are not parsed correctly. This could possible be fixed in the script, or after the fact, but I don't have it in me to figure it out.\n",
    "\n",
    "Idea of this notebook is to build an archive of the Hot 100 from the the current date to the oldest date __1958-08-02__. It's currently set up to pull a year's worth. The idea is to stack them later. (I started doing it by year after hitting the timeouts listed above, just in case it was a reading error locally on a large file. The doesn't appear to be the case.)\n",
    "\n",
    "There is a rate limit on requests to the billboard site. I've had it time out after 10 requests, but I've also had it time out after one if I've run other requests recently.\n",
    "\n",
    "For each chart, we have `chart.previousDate` to work with, which allows us to walk back in time. The loop works like this:\n",
    "\n",
    "- Open our file\n",
    "- check for the oldest date, start new if not results already\n",
    "- Find the next oldest chart\n",
    "- Start a loop and counter and write the results of that week's chart\n",
    "- Set the chart date to the next oldest date\n",
    "- Check if that is in our current year. Break if not.\n",
    "- Wait a time interval and loop again if counter is not maxed\n",
    "\n",
    "This doesn't completely solve the rate limit, but does pretty well at 10 seconds a week.\n"
   ]
  },
  {
   "cell_type": "code",
   "execution_count": 1,
   "metadata": {},
   "outputs": [],
   "source": [
    "import billboard\n",
    "from datetime import datetime, timedelta, date\n",
    "import os\n",
    "import pandas as pd\n",
    "import time"
   ]
  },
  {
   "cell_type": "markdown",
   "metadata": {},
   "source": [
    "## Settings"
   ]
  },
  {
   "cell_type": "code",
   "execution_count": 2,
   "metadata": {},
   "outputs": [
    {
     "name": "stdout",
     "output_type": "stream",
     "text": [
      "../data/hot-100-2021.csv\n"
     ]
    }
   ],
   "source": [
    "# chart type from api\n",
    "chart_type = 'hot-100'\n",
    "\n",
    "# year we are working on\n",
    "output_year = \"2021\"\n",
    "\n",
    "# output path\n",
    "outfilename = \"../data/hot-100-\" + output_year + \".csv\"\n",
    "\n",
    "print(outfilename)"
   ]
  },
  {
   "cell_type": "markdown",
   "metadata": {},
   "source": [
    "## Create the file"
   ]
  },
  {
   "cell_type": "code",
   "execution_count": 3,
   "metadata": {},
   "outputs": [
    {
     "name": "stdout",
     "output_type": "stream",
     "text": [
      "File created with header\n"
     ]
    }
   ],
   "source": [
    "# headers\n",
    "header = 'date,title,artist,current,previous,peak,weeks\\n'\n",
    "\n",
    "# set exists flag\n",
    "file_exists = os.path.exists(outfilename)\n",
    "\n",
    "# checks if file exists and writes if not\n",
    "if file_exists != True:\n",
    "    with open(outfilename, 'a') as outputfile:\n",
    "        outputfile.write(header)\n",
    "        print(\"File created with header\")\n",
    "# checks if file empty and writes header if not\n",
    "else:\n",
    "    file_empty = os.stat(outfilename).st_size == 0\n",
    "    if file_empty:\n",
    "        with open(outfilename, 'a') as outputfile:\n",
    "            outputfile.write(header)\n",
    "            print(\"Added header\")\n",
    "    else:\n",
    "        print(\"File has data\")"
   ]
  },
  {
   "cell_type": "markdown",
   "metadata": {},
   "source": [
    "## Chart loop\n",
    "\n",
    "This loop checks the most recent date of the current year's file. If it is new, it starts with the last chart in December and then through older charts. If there are charts already, it picks up where it left off.\n",
    "\n",
    "Beyond `output_year` above, there are two settings to help control rate limiting:\n",
    "\n",
    "- counter: How many loops it will do before stopping.\n",
    "- timer_interval: How long to wait before getting the next chart."
   ]
  },
  {
   "cell_type": "code",
   "execution_count": 5,
   "metadata": {},
   "outputs": [
    {
     "name": "stdout",
     "output_type": "stream",
     "text": [
      "Starting new year\n",
      "Beginning date: 2021-12-25\n",
      "2021-12-25: 'All I Want For Christmas Is You' by Mariah Carey\n"
     ]
    },
    {
     "ename": "ValueError",
     "evalue": "Date argument is not in YYYY-MM-DD format",
     "output_type": "error",
     "traceback": [
      "\u001b[0;31m---------------------------------------------------------------------------\u001b[0m",
      "\u001b[0;31mValueError\u001b[0m                                Traceback (most recent call last)",
      "\u001b[0;32m/var/folders/k1/lcmm7t2d19l_yxb1469rj95c86dkkh/T/ipykernel_80825/589347412.py\u001b[0m in \u001b[0;36m<module>\u001b[0;34m\u001b[0m\n\u001b[1;32m     35\u001b[0m                 \u001b[0moutputfile\u001b[0m\u001b[0;34m.\u001b[0m\u001b[0mwrite\u001b[0m\u001b[0;34m(\u001b[0m\u001b[0mline_out\u001b[0m\u001b[0;34m)\u001b[0m\u001b[0;34m\u001b[0m\u001b[0;34m\u001b[0m\u001b[0m\n\u001b[1;32m     36\u001b[0m         \u001b[0mprint\u001b[0m\u001b[0;34m(\u001b[0m\u001b[0mchart\u001b[0m\u001b[0;34m.\u001b[0m\u001b[0mdate\u001b[0m \u001b[0;34m+\u001b[0m \u001b[0;34m\": \"\u001b[0m \u001b[0;34m+\u001b[0m \u001b[0mstr\u001b[0m\u001b[0;34m(\u001b[0m\u001b[0mchart\u001b[0m\u001b[0;34m[\u001b[0m\u001b[0;36m0\u001b[0m\u001b[0;34m]\u001b[0m\u001b[0;34m)\u001b[0m\u001b[0;34m)\u001b[0m\u001b[0;34m\u001b[0m\u001b[0;34m\u001b[0m\u001b[0m\n\u001b[0;32m---> 37\u001b[0;31m         \u001b[0mchart\u001b[0m \u001b[0;34m=\u001b[0m \u001b[0mbillboard\u001b[0m\u001b[0;34m.\u001b[0m\u001b[0mChartData\u001b[0m\u001b[0;34m(\u001b[0m\u001b[0mchart_type\u001b[0m\u001b[0;34m,\u001b[0m \u001b[0mstr\u001b[0m\u001b[0;34m(\u001b[0m\u001b[0mchart\u001b[0m\u001b[0;34m.\u001b[0m\u001b[0mpreviousDate\u001b[0m\u001b[0;34m)\u001b[0m\u001b[0;34m)\u001b[0m\u001b[0;34m\u001b[0m\u001b[0;34m\u001b[0m\u001b[0m\n\u001b[0m\u001b[1;32m     38\u001b[0m         \u001b[0;31m# check if year is over\u001b[0m\u001b[0;34m\u001b[0m\u001b[0;34m\u001b[0m\u001b[0m\n\u001b[1;32m     39\u001b[0m         \u001b[0;32mif\u001b[0m \u001b[0mchart\u001b[0m\u001b[0;34m.\u001b[0m\u001b[0mdate\u001b[0m\u001b[0;34m[\u001b[0m\u001b[0;34m:\u001b[0m\u001b[0;36m4\u001b[0m\u001b[0;34m]\u001b[0m \u001b[0;34m!=\u001b[0m \u001b[0moutput_year\u001b[0m\u001b[0;34m:\u001b[0m\u001b[0;34m\u001b[0m\u001b[0;34m\u001b[0m\u001b[0m\n",
      "\u001b[0;32m~/miniforge3/envs/billboard/lib/python3.10/site-packages/billboard.py\u001b[0m in \u001b[0;36m__init__\u001b[0;34m(self, name, date, year, fetch, max_retries, timeout)\u001b[0m\n\u001b[1;32m    169\u001b[0m         \u001b[0;32mif\u001b[0m \u001b[0mdate\u001b[0m \u001b[0;32mis\u001b[0m \u001b[0;32mnot\u001b[0m \u001b[0;32mNone\u001b[0m\u001b[0;34m:\u001b[0m\u001b[0;34m\u001b[0m\u001b[0;34m\u001b[0m\u001b[0m\n\u001b[1;32m    170\u001b[0m             \u001b[0;32mif\u001b[0m \u001b[0;32mnot\u001b[0m \u001b[0mre\u001b[0m\u001b[0;34m.\u001b[0m\u001b[0mmatch\u001b[0m\u001b[0;34m(\u001b[0m\u001b[0;34mr\"\\d{4}-\\d{2}-\\d{2}\"\u001b[0m\u001b[0;34m,\u001b[0m \u001b[0mstr\u001b[0m\u001b[0;34m(\u001b[0m\u001b[0mdate\u001b[0m\u001b[0;34m)\u001b[0m\u001b[0;34m)\u001b[0m\u001b[0;34m:\u001b[0m\u001b[0;34m\u001b[0m\u001b[0;34m\u001b[0m\u001b[0m\n\u001b[0;32m--> 171\u001b[0;31m                 \u001b[0;32mraise\u001b[0m \u001b[0mValueError\u001b[0m\u001b[0;34m(\u001b[0m\u001b[0;34m\"Date argument is not in YYYY-MM-DD format\"\u001b[0m\u001b[0;34m)\u001b[0m\u001b[0;34m\u001b[0m\u001b[0;34m\u001b[0m\u001b[0m\n\u001b[0m\u001b[1;32m    172\u001b[0m             \u001b[0;32mtry\u001b[0m\u001b[0;34m:\u001b[0m\u001b[0;34m\u001b[0m\u001b[0;34m\u001b[0m\u001b[0m\n\u001b[1;32m    173\u001b[0m                 \u001b[0mdatetime\u001b[0m\u001b[0;34m.\u001b[0m\u001b[0mdatetime\u001b[0m\u001b[0;34m(\u001b[0m\u001b[0;34m*\u001b[0m\u001b[0;34m(\u001b[0m\u001b[0mint\u001b[0m\u001b[0;34m(\u001b[0m\u001b[0mx\u001b[0m\u001b[0;34m)\u001b[0m \u001b[0;32mfor\u001b[0m \u001b[0mx\u001b[0m \u001b[0;32min\u001b[0m \u001b[0mstr\u001b[0m\u001b[0;34m(\u001b[0m\u001b[0mdate\u001b[0m\u001b[0;34m)\u001b[0m\u001b[0;34m.\u001b[0m\u001b[0msplit\u001b[0m\u001b[0;34m(\u001b[0m\u001b[0;34m\"-\"\u001b[0m\u001b[0;34m)\u001b[0m\u001b[0;34m)\u001b[0m\u001b[0;34m)\u001b[0m\u001b[0;34m\u001b[0m\u001b[0;34m\u001b[0m\u001b[0m\n",
      "\u001b[0;31mValueError\u001b[0m: Date argument is not in YYYY-MM-DD format"
     ]
    }
   ],
   "source": [
    "# set the counter\n",
    "counter = 53\n",
    "\n",
    "# set the time intervval\n",
    "timer_interval = 10\n",
    "\n",
    "# read in file\n",
    "top_100 = pd.read_csv(outfilename)\n",
    "\n",
    "# find most oldest week in output\n",
    "oldest_date = top_100.date.min()\n",
    "\n",
    "# if oldest_date isnull, then use begin_chart date\n",
    "if pd.isnull(oldest_date):\n",
    "    begin_chart_date = output_year + \"-12-25\"\n",
    "    chart = billboard.ChartData(chart_type, date=begin_chart_date)\n",
    "    print(\"Starting new year\")\n",
    "    print(\"Beginning date: \" + chart.date)\n",
    "# else, use next previous date\n",
    "else:\n",
    "    chart = billboard.ChartData(chart_type, date=oldest_date)\n",
    "    chart = billboard.ChartData(chart_type, str(chart.previousDate))\n",
    "    print(\"Picking up after: \" + oldest_date)\n",
    "    print(\"Beginning date: \" + chart.date)\n",
    "\n",
    "with open(outfilename, 'a') as outputfile:\n",
    "    start_time = time.time()\n",
    "    for i in range (1,counter+1):\n",
    "        for position in range (0,100):\n",
    "            song = chart[position]\n",
    "            line_out = str(chart.date) + ',' + '\"' + song.title + '\"' + ',' + '\"' \\\n",
    "            + song.artist + '\"' + ','  + str(song.rank) + ',' + str(song.lastPos) \\\n",
    "            + ',' + str(song.peakPos) + ',' + str(song.weeks) + '\\n'\n",
    "            with open(outfilename, 'a') as outputfile:\n",
    "                outputfile.write(line_out)\n",
    "        print(chart.date + \": \" + str(chart[0]))\n",
    "        chart = billboard.ChartData(chart_type, str(chart.previousDate))\n",
    "        # check if year is over\n",
    "        if chart.date[:4] != output_year:\n",
    "            print(\"Year is over\")\n",
    "            break\n",
    "        else:\n",
    "            time.sleep(timer_interval)\n",
    "    print('done')\n",
    "outputfile.close()"
   ]
  },
  {
   "cell_type": "code",
   "execution_count": 9,
   "metadata": {},
   "outputs": [
    {
     "name": "stdout",
     "output_type": "stream",
     "text": [
      "None\n"
     ]
    }
   ],
   "source": [
    "print(chart.)"
   ]
  },
  {
   "cell_type": "markdown",
   "metadata": {},
   "source": [
    "## Some testing\n",
    "\n",
    "This checks the lengh of the last file processed. Should be 5200, unless it is a leap year that starts on a Saturday, like 2016."
   ]
  },
  {
   "cell_type": "code",
   "execution_count": null,
   "metadata": {},
   "outputs": [],
   "source": [
    "# read in the file\n",
    "chart_peek = pd.read_csv(outfilename)\n",
    "\n",
    "# check the length\n",
    "len(chart_peek)"
   ]
  },
  {
   "cell_type": "code",
   "execution_count": null,
   "metadata": {},
   "outputs": [],
   "source": []
  }
 ],
 "metadata": {
  "kernelspec": {
   "display_name": "Python 3 (ipykernel)",
   "language": "python",
   "name": "python3"
  },
  "language_info": {
   "codemirror_mode": {
    "name": "ipython",
    "version": 3
   },
   "file_extension": ".py",
   "mimetype": "text/x-python",
   "name": "python",
   "nbconvert_exporter": "python",
   "pygments_lexer": "ipython3",
   "version": "3.10.1"
  }
 },
 "nbformat": 4,
 "nbformat_minor": 4
}
