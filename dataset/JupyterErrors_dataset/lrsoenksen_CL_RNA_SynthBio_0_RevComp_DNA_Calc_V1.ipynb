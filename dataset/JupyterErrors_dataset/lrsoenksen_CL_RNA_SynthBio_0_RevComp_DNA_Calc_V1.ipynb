{
 "cells": [
  {
   "cell_type": "markdown",
   "metadata": {},
   "source": [
    "# REVERSE COMPLEMENT CALCULATOR (DNA SEQUENCES)\n",
    "## by Luis Soenksen\n",
    "### Rev 0.1 20190218"
   ]
  },
  {
   "cell_type": "code",
   "execution_count": 1,
   "metadata": {},
   "outputs": [
    {
     "name": "stderr",
     "output_type": "stream",
     "text": [
      "Using TensorFlow backend.\n"
     ]
    }
   ],
   "source": [
    "## Import Libraries\n",
    "# General system libraries\n",
    "import os\n",
    "import numpy as np\n",
    "import pandas as pd\n",
    "from time import time\n",
    "from IPython.display import Image\n",
    "\n",
    "# Multiprocessing\n",
    "import multiprocessing\n",
    "\n",
    "# DNA/RNA Analysis Libraries (Biopython, ViennaRNA, pysster)\n",
    "# Biopython Lib\n",
    "import Bio\n",
    "from Bio import SeqIO\n",
    "from Bio.Seq import Seq\n",
    "from Bio.SeqRecord import SeqRecord\n",
    "from Bio.Alphabet import Alphabet, DNAAlphabet, ProteinAlphabet\n",
    "from Bio.Alphabet import generic_rna, generic_dna, generic_protein, IUPAC\n",
    "# ViennaRNA Lib\n",
    "import RNA\n",
    "# pysster Lib\n",
    "from pysster import utils\n",
    "from pysster.Data import Data\n",
    "from pysster.Grid_Search import Grid_Search\n",
    "from pysster.One_Hot_Encoder import One_Hot_Encoder\n",
    "from pysster.Alphabet_Encoder import Alphabet_Encoder\n",
    "\n",
    "# Import TPOT libs\n",
    "from tpot import TPOTRegressor\n",
    "\n",
    "# Import sklearn libs\n",
    "from sklearn import preprocessing\n",
    "from sklearn.preprocessing import OneHotEncoder\n",
    "from sklearn.model_selection import train_test_split\n",
    "from sklearn.metrics import explained_variance_score, mean_absolute_error\n",
    "from sklearn.metrics import mean_squared_error, mean_squared_log_error\n",
    "from sklearn.metrics import median_absolute_error, r2_score\n",
    "\n",
    "# Math & Visualization Libs\n",
    "import seaborn as sns\n",
    "import matplotlib.pyplot as plt\n",
    "from scipy import stats\n",
    "\n",
    "# Progress Bar\n",
    "from tqdm import tqdm\n",
    "\n",
    "# Warnings\n",
    "import warnings"
   ]
  },
  {
   "cell_type": "code",
   "execution_count": 2,
   "metadata": {},
   "outputs": [
    {
     "name": "stdout",
     "output_type": "stream",
     "text": [
      "data/gate_data/Off_Gate4_R3_Rev_counts.csv\n",
      "data/gate_data/Off_Gate1_R3_Rev_counts.csv\n",
      "data/gate_data/Off_Gate2_R3_Rev_counts.csv\n",
      "data/gate_data/Off_Gate3_R3_Rev_counts.csv\n",
      "data/gate_data/On_Gate2_R3_Rev_counts.csv\n",
      "data/gate_data/On_Gate3_R3_Rev_counts.csv\n",
      "data/gate_data/Off_Gate1_R3_Rev_counts_RevComp.csv\n",
      "data/gate_data/On_Gate1_R3_Rev_counts.csv\n",
      "data/gate_data/On_Gate4_R3_Rev_counts.csv\n"
     ]
    }
   ],
   "source": [
    "# Create Data folder if not existent\n",
    "data_folder = \"data/gate_data/\"\n",
    "if not os.path.isdir(data_folder):\n",
    "    os.makedirs(data_folder)\n",
    "    \n",
    "for filename in os.listdir(data_folder):\n",
    "    if filename.endswith(\".csv\"): \n",
    "        print(os.path.join(data_folder, filename))"
   ]
  },
  {
   "cell_type": "code",
   "execution_count": 3,
   "metadata": {},
   "outputs": [
    {
     "data": {
      "text/html": [
       "<div>\n",
       "<style scoped>\n",
       "    .dataframe tbody tr th:only-of-type {\n",
       "        vertical-align: middle;\n",
       "    }\n",
       "\n",
       "    .dataframe tbody tr th {\n",
       "        vertical-align: top;\n",
       "    }\n",
       "\n",
       "    .dataframe thead th {\n",
       "        text-align: right;\n",
       "    }\n",
       "</style>\n",
       "<table border=\"1\" class=\"dataframe\">\n",
       "  <thead>\n",
       "    <tr style=\"text-align: right;\">\n",
       "      <th></th>\n",
       "      <th>counts</th>\n",
       "      <th>seq</th>\n",
       "    </tr>\n",
       "  </thead>\n",
       "  <tbody>\n",
       "    <tr>\n",
       "      <th>0</th>\n",
       "      <td>1</td>\n",
       "      <td>AAAAAAAAAAATGGAAAATCTCCTCTGTTTTTTCCATTTTTTTTTT...</td>\n",
       "    </tr>\n",
       "    <tr>\n",
       "      <th>1</th>\n",
       "      <td>1</td>\n",
       "      <td>AAAAAAAAAACATGGAAAATCTCCTCTGTTTTTTACATTTTTTTTT...</td>\n",
       "    </tr>\n",
       "    <tr>\n",
       "      <th>2</th>\n",
       "      <td>1</td>\n",
       "      <td>AAAAAAAAAACATGGAAAATTTCCTCTGTTTTTTTCATTTTTTTTT...</td>\n",
       "    </tr>\n",
       "    <tr>\n",
       "      <th>3</th>\n",
       "      <td>1</td>\n",
       "      <td>AAAAAAAAAACATTGTCGCTCTCCTCTGTTGCGACAGCATTTTTTT...</td>\n",
       "    </tr>\n",
       "    <tr>\n",
       "      <th>4</th>\n",
       "      <td>1</td>\n",
       "      <td>AAAAAAAAACATAAAAAATCTCCTCTGTTTTTTTTTTTTTTTTTGT...</td>\n",
       "    </tr>\n",
       "  </tbody>\n",
       "</table>\n",
       "</div>"
      ],
      "text/plain": [
       "   counts                                                seq\n",
       "0       1  AAAAAAAAAAATGGAAAATCTCCTCTGTTTTTTCCATTTTTTTTTT...\n",
       "1       1  AAAAAAAAAACATGGAAAATCTCCTCTGTTTTTTACATTTTTTTTT...\n",
       "2       1  AAAAAAAAAACATGGAAAATTTCCTCTGTTTTTTTCATTTTTTTTT...\n",
       "3       1  AAAAAAAAAACATTGTCGCTCTCCTCTGTTGCGACAGCATTTTTTT...\n",
       "4       1  AAAAAAAAACATAAAAAATCTCCTCTGTTTTTTTTTTTTTTTTTGT..."
      ]
     },
     "execution_count": 3,
     "metadata": {},
     "output_type": "execute_result"
    }
   ],
   "source": [
    "# Define path to load desired Toehold dataset file (.csv)\n",
    "#data_filename = \"Off_Gate1_R3_Rev_counts.csv\"\n",
    "data_filename = \"Off_Gate2_R3_Rev_counts.csv\"\n",
    "#data_filename = \"Off_Gate3_R3_Rev_counts.csv\"\n",
    "#data_filename = \"Off_Gate4_R3_Rev_counts.csv\"\n",
    "#data_filename = \"On_Gate1_R3_Rev_counts.csv\"\n",
    "#data_filename = \"On_Gate2_R3_Rev_counts.csv\"\n",
    "#data_filename = \"On_Gate3_R3_Rev_counts.csv\"\n",
    "#data_filename = \"On_Gate4_R3_Rev_counts.csv\"\n",
    "\n",
    "data_path = data_folder + data_filename\n",
    "data = pd.read_csv(data_path, low_memory=False)\n",
    "\n",
    "#Show dataframe\n",
    "data.head()"
   ]
  },
  {
   "cell_type": "code",
   "execution_count": 4,
   "metadata": {},
   "outputs": [
    {
     "name": "stderr",
     "output_type": "stream",
     "text": [
      " 81%|████████  | 428287/531712 [00:40<00:09, 10442.91it/s]"
     ]
    },
    {
     "ename": "TypeError",
     "evalue": "The sequence data given to a Seq object should be a string (not another Seq object etc)",
     "output_type": "error",
     "traceback": [
      "\u001b[0;31m---------------------------------------------------------------------------\u001b[0m",
      "\u001b[0;31mTypeError\u001b[0m                                 Traceback (most recent call last)",
      "\u001b[0;32m<ipython-input-4-825506d5d1fb>\u001b[0m in \u001b[0;36m<module>\u001b[0;34m()\u001b[0m\n\u001b[1;32m      5\u001b[0m \u001b[0;32mfor\u001b[0m \u001b[0mindex\u001b[0m\u001b[0;34m,\u001b[0m \u001b[0mrow\u001b[0m \u001b[0;32min\u001b[0m \u001b[0mdata\u001b[0m\u001b[0;34m.\u001b[0m\u001b[0miterrows\u001b[0m\u001b[0;34m(\u001b[0m\u001b[0;34m)\u001b[0m\u001b[0;34m:\u001b[0m\u001b[0;34m\u001b[0m\u001b[0m\n\u001b[1;32m      6\u001b[0m     \u001b[0;31m# Calculate and update DNA reverse complement\u001b[0m\u001b[0;34m\u001b[0m\u001b[0;34m\u001b[0m\u001b[0m\n\u001b[0;32m----> 7\u001b[0;31m     \u001b[0mi_seq\u001b[0m \u001b[0;34m=\u001b[0m \u001b[0mSeq\u001b[0m\u001b[0;34m(\u001b[0m\u001b[0mdata\u001b[0m\u001b[0;34m[\u001b[0m\u001b[0;34m'seq'\u001b[0m\u001b[0;34m]\u001b[0m\u001b[0;34m[\u001b[0m\u001b[0mindex\u001b[0m\u001b[0;34m]\u001b[0m\u001b[0;34m,\u001b[0m \u001b[0mgeneric_dna\u001b[0m\u001b[0;34m)\u001b[0m\u001b[0;34m\u001b[0m\u001b[0m\n\u001b[0m\u001b[1;32m      8\u001b[0m     \u001b[0mdata\u001b[0m\u001b[0;34m.\u001b[0m\u001b[0mat\u001b[0m\u001b[0;34m[\u001b[0m\u001b[0mindex\u001b[0m\u001b[0;34m,\u001b[0m\u001b[0;34m'seq'\u001b[0m\u001b[0;34m]\u001b[0m \u001b[0;34m=\u001b[0m \u001b[0mstr\u001b[0m\u001b[0;34m(\u001b[0m\u001b[0mi_seq\u001b[0m\u001b[0;34m.\u001b[0m\u001b[0mreverse_complement\u001b[0m\u001b[0;34m(\u001b[0m\u001b[0;34m)\u001b[0m\u001b[0;34m)\u001b[0m\u001b[0;34m\u001b[0m\u001b[0m\n\u001b[1;32m      9\u001b[0m     \u001b[0;31m#Update process bar\u001b[0m\u001b[0;34m\u001b[0m\u001b[0;34m\u001b[0m\u001b[0m\n",
      "\u001b[0;32m/anaconda3/envs/py35/lib/python3.5/site-packages/Bio/Seq.py\u001b[0m in \u001b[0;36m__init__\u001b[0;34m(self, data, alphabet)\u001b[0m\n\u001b[1;32m    114\u001b[0m         \u001b[0;31m# Enforce string storage\u001b[0m\u001b[0;34m\u001b[0m\u001b[0;34m\u001b[0m\u001b[0m\n\u001b[1;32m    115\u001b[0m         \u001b[0;32mif\u001b[0m \u001b[0;32mnot\u001b[0m \u001b[0misinstance\u001b[0m\u001b[0;34m(\u001b[0m\u001b[0mdata\u001b[0m\u001b[0;34m,\u001b[0m \u001b[0mbasestring\u001b[0m\u001b[0;34m)\u001b[0m\u001b[0;34m:\u001b[0m\u001b[0;34m\u001b[0m\u001b[0m\n\u001b[0;32m--> 116\u001b[0;31m             raise TypeError(\"The sequence data given to a Seq object should \"\n\u001b[0m\u001b[1;32m    117\u001b[0m                             \"be a string (not another Seq object etc)\")\n\u001b[1;32m    118\u001b[0m         \u001b[0mself\u001b[0m\u001b[0;34m.\u001b[0m\u001b[0m_data\u001b[0m \u001b[0;34m=\u001b[0m \u001b[0mdata\u001b[0m\u001b[0;34m\u001b[0m\u001b[0m\n",
      "\u001b[0;31mTypeError\u001b[0m: The sequence data given to a Seq object should be a string (not another Seq object etc)"
     ]
    },
    {
     "name": "stderr",
     "output_type": "stream",
     "text": [
      "\r",
      " 81%|████████  | 429351/531712 [01:00<00:09, 10442.91it/s]"
     ]
    }
   ],
   "source": [
    "#Initialize the process bar to count until the number of rows in dataframe\n",
    "pbar = tqdm(total=data.shape[0])\n",
    "\n",
    "#Iterate over dataframe data\n",
    "for index, row in data.iterrows():\n",
    "    # Calculate and update DNA reverse complement\n",
    "    i_seq = Seq(data['seq'][index], generic_dna)\n",
    "    data.at[index,'seq'] = str(i_seq.reverse_complement())\n",
    "    #Update process bar\n",
    "    pbar.update(1)\n",
    "#Conclude process bar\n",
    "pbar.close()"
   ]
  },
  {
   "cell_type": "code",
   "execution_count": null,
   "metadata": {},
   "outputs": [],
   "source": [
    "data_path_proc = (data_folder + data_filename.replace('.csv','_RevComp.csv'))\n",
    "data.to_csv(data_path_proc, index=False)\n",
    "\n",
    "#Show reverse complement data\n",
    "display(data.head())"
   ]
  }
 ],
 "metadata": {
  "kernelspec": {
   "display_name": "py35",
   "language": "python",
   "name": "py35"
  },
  "language_info": {
   "codemirror_mode": {
    "name": "ipython",
    "version": 3
   },
   "file_extension": ".py",
   "mimetype": "text/x-python",
   "name": "python",
   "nbconvert_exporter": "python",
   "pygments_lexer": "ipython3",
   "version": "3.5.6"
  }
 },
 "nbformat": 4,
 "nbformat_minor": 2
}
