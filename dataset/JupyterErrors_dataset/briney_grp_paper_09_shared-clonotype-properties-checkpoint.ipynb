{
 "cells": [
  {
   "cell_type": "markdown",
   "metadata": {},
   "source": [
    "# Shared clonotype properties\n",
    "\n",
    "In this notebook, we're going to make the following figure panels:\n",
    "\n",
    "  * Shared clonotype CDR3 frequency distribution (**Figure 3d**)\n",
    "  * Shared clonotype Shannon entropy (**Figure 3e**)\n",
    "  * CDR3 WebLogos (**Figures 3f** and **3g**)\n",
    "\n",
    "The following Python packages are required to run the code in this notebook:\n",
    "  * matplotlib\n",
    "  * natsort\n",
    "  * numpy\n",
    "  * pandas\n",
    "  * seaborn\n",
    "  * weblogo\n",
    "  * [abutils](https://github.com/briney/abutils)\n",
    "\n",
    "They can be install by running `pip install matplotlib natsort numpy pandas seaborn weblogo abutils`"
   ]
  },
  {
   "cell_type": "code",
   "execution_count": 3,
   "metadata": {},
   "outputs": [],
   "source": [
    "from __future__ import print_function\n",
    "\n",
    "from collections import Counter\n",
    "import os\n",
    "import subprocess as sp\n",
    "import sys\n",
    "\n",
    "import seaborn as sns\n",
    "import matplotlib as mpl\n",
    "import matplotlib.pyplot as plt\n",
    "\n",
    "import numpy as np\n",
    "import pandas as pd\n",
    "\n",
    "from natsort import natsorted\n",
    "\n",
    "from weblogolib import read_seq_data, LogoData, LogoOptions, LogoFormat, eps_formatter\n",
    "from weblogolib.colorscheme import ColorScheme, IndexColor, SymbolColor\n",
    "\n",
    "from abutils.utils.pipeline import list_files, make_dir\n",
    "\n",
    "%matplotlib inline"
   ]
  },
  {
   "cell_type": "markdown",
   "metadata": {},
   "source": [
    "## Load CDR3 length data\n",
    "\n",
    "There are two ways to load the CDR3 length data. First is to load the pre-computed CDR3 length frequencies for each shared group (included in this GitHub repository) using the following code block. This results in loading of CDR3 length frequency distributions for three sets of data:\n",
    "\n",
    "  1. Observed data\n",
    "  2. Synthetic sequences computed using IGoR's default recombination model\n",
    "  3. Synthetic sequences computed using a recombination models inferred from each of the subjects in the observed dataset"
   ]
  },
  {
   "cell_type": "code",
   "execution_count": 7,
   "metadata": {},
   "outputs": [],
   "source": [
    "obs_df = pd.read_csv('../data_processing/data/cross-subject_CDR3len_freqs/observed.csv', header=0, index_col=0)\n",
    "dsynth_df = pd.read_csv('../data_processing/data/cross-subject_CDR3len_freqs/synthetic_default-model.csv', header=0, index_col=0)\n",
    "ssynth_df = pd.read_csv('../data_processing/data/cross-subject_CDR3len_freqs/synthetic_subject-specific-models.csv', header=0, index_col=0)"
   ]
  },
  {
   "cell_type": "markdown",
   "metadata": {},
   "source": [
    "The second way is to compute the CDR3 length frequencies directly from raw shared clonotype data. This raw dataset is far too large to be included in this repository, but a compressed archive containing the necessary raw data files can be downloaded [**HERE**](http://burtonlab.s3.amazonaws.com/GRP_github_data/dedup_10-subject_pools.tar.gz). If downloading the raw clonotype data, decompressing the archive in the `./data/` directory will allow the following code to run without modification. If the archive is uncompressed in a different location, make sure to update the below path variables as necessary.\n",
    "\n",
    "If you loaded the pre-computed CDR3 length frequencies, skip the next two code blocks.\n",
    "\n",
    "***NOTE:*** *The raw shared clonotype data is fairly large (about 20GB uncompressed), so ensure adequate disk space is available before downloading. Additionally, computing the CDR3 length frequencies will probably take ~30 minutes, depending on CPU speed.*"
   ]
  },
  {
   "cell_type": "code",
   "execution_count": 5,
   "metadata": {},
   "outputs": [],
   "source": [
    "def calc_cdr3_length_freqs(counts_file):\n",
    "    counts = {str(i): [] for i in range(1, 11)}\n",
    "    with open(counts_file) as f:\n",
    "        for line in f:\n",
    "            try:\n",
    "                c = line.strip().split()[0]\n",
    "                aa = line.strip().split()[3]\n",
    "                counts[c].append(len(aa))\n",
    "            except:\n",
    "                continue\n",
    "    df = pd.DataFrame({subject: Counter(counts[subject]) for subject in counts}).fillna(0)\n",
    "    df['gt5'] = df['6'] + df['7'] + df['8'] + df['9'] + df['10']\n",
    "    norm_df = df.fillna(0) / df.fillna(0).sum()\n",
    "    return norm_df"
   ]
  },
  {
   "cell_type": "code",
   "execution_count": 6,
   "metadata": {},
   "outputs": [
    {
     "ename": "FileNotFoundError",
     "evalue": "[Errno 2] No such file or directory: '/data/dedup_10-subject_pools/10-subject_dedup_pool_with-counts.txt'",
     "output_type": "error",
     "traceback": [
      "\u001b[0;31m---------------------------------------------------------------------------\u001b[0m",
      "\u001b[0;31mFileNotFoundError\u001b[0m                         Traceback (most recent call last)",
      "\u001b[0;32m<ipython-input-6-10d40acb7a59>\u001b[0m in \u001b[0;36m<module>\u001b[0;34m()\u001b[0m\n\u001b[0;32m----> 1\u001b[0;31m \u001b[0mobs_df\u001b[0m \u001b[0;34m=\u001b[0m \u001b[0mcalc_cdr3_length_freqs\u001b[0m\u001b[0;34m(\u001b[0m\u001b[0;34m'/data/dedup_10-subject_pools/10-subject_dedup_pool_with-counts.txt'\u001b[0m\u001b[0;34m)\u001b[0m\u001b[0;34m\u001b[0m\u001b[0m\n\u001b[0m\u001b[1;32m      2\u001b[0m \u001b[0mdsynth_df\u001b[0m \u001b[0;34m=\u001b[0m \u001b[0mcalc_cdr3_length_freqs\u001b[0m\u001b[0;34m(\u001b[0m\u001b[0;34m'/data/dedup_10-subject_pools/10-sample_dedup_pool_synthetic_default-model_with-counts.txt'\u001b[0m\u001b[0;34m)\u001b[0m\u001b[0;34m\u001b[0m\u001b[0m\n\u001b[1;32m      3\u001b[0m \u001b[0mssynth_df\u001b[0m \u001b[0;34m=\u001b[0m \u001b[0mcalc_cdr3_length_freqs\u001b[0m\u001b[0;34m(\u001b[0m\u001b[0;34m'/data/dedup_10-subject_pools/10-sample_dedup_pool_synthetic_subject-specific-models_with-counts.txt'\u001b[0m\u001b[0;34m)\u001b[0m\u001b[0;34m\u001b[0m\u001b[0m\n",
      "\u001b[0;32m<ipython-input-5-b52ec542ab21>\u001b[0m in \u001b[0;36mcalc_cdr3_length_freqs\u001b[0;34m(counts_file)\u001b[0m\n\u001b[1;32m      1\u001b[0m \u001b[0;32mdef\u001b[0m \u001b[0mcalc_cdr3_length_freqs\u001b[0m\u001b[0;34m(\u001b[0m\u001b[0mcounts_file\u001b[0m\u001b[0;34m)\u001b[0m\u001b[0;34m:\u001b[0m\u001b[0;34m\u001b[0m\u001b[0m\n\u001b[1;32m      2\u001b[0m     \u001b[0mcounts\u001b[0m \u001b[0;34m=\u001b[0m \u001b[0;34m{\u001b[0m\u001b[0mstr\u001b[0m\u001b[0;34m(\u001b[0m\u001b[0mi\u001b[0m\u001b[0;34m)\u001b[0m\u001b[0;34m:\u001b[0m \u001b[0;34m[\u001b[0m\u001b[0;34m]\u001b[0m \u001b[0;32mfor\u001b[0m \u001b[0mi\u001b[0m \u001b[0;32min\u001b[0m \u001b[0mrange\u001b[0m\u001b[0;34m(\u001b[0m\u001b[0;36m1\u001b[0m\u001b[0;34m,\u001b[0m \u001b[0;36m11\u001b[0m\u001b[0;34m)\u001b[0m\u001b[0;34m}\u001b[0m\u001b[0;34m\u001b[0m\u001b[0m\n\u001b[0;32m----> 3\u001b[0;31m     \u001b[0;32mwith\u001b[0m \u001b[0mopen\u001b[0m\u001b[0;34m(\u001b[0m\u001b[0mcounts_file\u001b[0m\u001b[0;34m)\u001b[0m \u001b[0;32mas\u001b[0m \u001b[0mf\u001b[0m\u001b[0;34m:\u001b[0m\u001b[0;34m\u001b[0m\u001b[0m\n\u001b[0m\u001b[1;32m      4\u001b[0m         \u001b[0;32mfor\u001b[0m \u001b[0mline\u001b[0m \u001b[0;32min\u001b[0m \u001b[0mf\u001b[0m\u001b[0;34m:\u001b[0m\u001b[0;34m\u001b[0m\u001b[0m\n\u001b[1;32m      5\u001b[0m             \u001b[0;32mtry\u001b[0m\u001b[0;34m:\u001b[0m\u001b[0;34m\u001b[0m\u001b[0m\n",
      "\u001b[0;31mFileNotFoundError\u001b[0m: [Errno 2] No such file or directory: '/data/dedup_10-subject_pools/10-subject_dedup_pool_with-counts.txt'"
     ]
    }
   ],
   "source": [
    "obs_df = calc_cdr3_length_freqs('/data/dedup_10-subject_pools/10-subject_dedup_pool_with-counts.txt')\n",
    "dsynth_df = calc_cdr3_length_freqs('/data/dedup_10-subject_pools/10-sample_dedup_pool_synthetic_default-model_with-counts.txt')\n",
    "ssynth_df = calc_cdr3_length_freqs('/data/dedup_10-subject_pools/10-sample_dedup_pool_synthetic_subject-specific-models_with-counts.txt')"
   ]
  },
  {
   "cell_type": "markdown",
   "metadata": {},
   "source": [
    "## CDR3 length step plot"
   ]
  },
  {
   "cell_type": "code",
   "execution_count": 10,
   "metadata": {},
   "outputs": [],
   "source": [
    "def step(x, ys, colors=None, labels=None, figfile=None, figsize=(8, 3), color=[0.3] * 3,\n",
    "                ylim=None, xlim=None, xtick_interval=1, linewidth=1.25, xlabel=None, show_legend=False):\n",
    "    \n",
    "    sns.set_style('white')\n",
    "\n",
    "    # set some reasonable defaults (if not provided)\n",
    "    if xlim is None:\n",
    "        xlim = (-0.5, len(xs))\n",
    "    if ylim is None:\n",
    "        ylim = (0, 1.1 * max([max(y) for y in ys]))\n",
    "    if colors is None:\n",
    "        colors = sns.color_palette('muted', len(ys))\n",
    "    if labels is None:\n",
    "        labels = [None] * len(ys)\n",
    "\n",
    "    # plot the data\n",
    "    plt.figure(figsize=figsize)\n",
    "    for y, color, label in zip(ys, colors, labels):\n",
    "        plot = plt.step(x, y, where='mid', color=color, linewidth=linewidth, label=label)\n",
    "        plt.fill_between(x, y, step='mid', color=color, alpha=0.1)\n",
    "\n",
    "    # axis labels and ticks\n",
    "    ax = plt.gca()\n",
    "    ax.set_ylabel('Frequency', size=14, labelpad=8)\n",
    "    if xlabel is not None:\n",
    "        ax.set_xlabel(xlabel, size=14, labelpad=8)\n",
    "    plt.xticks(x[::xtick_interval], x[::xtick_interval], size='medium')\n",
    "    ax.tick_params(axis='x', which='major', labelsize=12)\n",
    "    ax.tick_params(axis='y', which='major', labelsize=12, length=6, width=1.25, pad=12, right=False)\n",
    "    \n",
    "    # hide top, left and right spines\n",
    "    ax.spines['top'].set_visible(False)\n",
    "    ax.spines['right'].set_visible(False)\n",
    "    ax.spines['left'].set_visible(False)\n",
    "\n",
    "    # axis limits\n",
    "    ax.set_xlim(xlim)\n",
    "    if ylim is not None:\n",
    "        ax.set_ylim(ylim)\n",
    "    \n",
    "    # legend\n",
    "    if show_legend:\n",
    "        plt.legend(fontsize=12, handlelength=1)\n",
    "    \n",
    "    # save or show\n",
    "    plt.tight_layout()\n",
    "    if figfile is not None:\n",
    "        plt.savefig(figfile)\n",
    "    else:\n",
    "        plt.show()"
   ]
  },
  {
   "cell_type": "markdown",
   "metadata": {},
   "source": [
    "#### Unshared CDR3 length distribution"
   ]
  },
  {
   "cell_type": "code",
   "execution_count": 13,
   "metadata": {},
   "outputs": [
    {
     "data": {
      "image/png": "[encoded data removed]",
      "text/plain": [
       "<matplotlib.figure.Figure at 0x1a1a882128>"
      ]
     },
     "metadata": {},
     "output_type": "display_data"
    }
   ],
   "source": [
    "unshared_df = pd.DataFrame({'observed': obs_df['1'],\n",
    "                            'synthetic (default)': dsynth_df['1'],\n",
    "                            'synthetic (subject-specific)': ssynth_df['1']}).fillna(0)\n",
    "\n",
    "x = unshared_df.index.values\n",
    "labels = unshared_df.columns.values\n",
    "ys = [list(unshared_df[l]) for l in labels]\n",
    "colors = ['k', 'r', 'b']\n",
    "\n",
    "step(x, ys, colors=colors, labels=labels, xlim=[1, 30], xtick_interval=2,\n",
    "     figsize=(5, 3), linewidth=1.5, xlabel='CDR3 length (IMGT)',\n",
    "     figfile='./figures/unshared_CDR3len_step-plot.pdf'\n",
    "    )"
   ]
  },
  {
   "cell_type": "markdown",
   "metadata": {},
   "source": [
    "#### Majority-shared CDR3 length distribution"
   ]
  },
  {
   "cell_type": "code",
   "execution_count": 14,
   "metadata": {},
   "outputs": [
    {
     "data": {
      "image/png": "[encoded data removed]",
      "text/plain": [
       "<matplotlib.figure.Figure at 0x1a11a21470>"
      ]
     },
     "metadata": {},
     "output_type": "display_data"
    }
   ],
   "source": [
    "gt5_df = pd.DataFrame({'observed': obs_df['gt5'],\n",
    "                       'synthetic (default)': dsynth_df['gt5'],\n",
    "                       'synthetic (subject-specific)': ssynth_df['gt5']}).fillna(0)\n",
    "\n",
    "x = gt5_df.index.values\n",
    "labels = gt5_df.columns.values\n",
    "ys = [list(gt5_df[l]) for l in labels]\n",
    "colors = ['k', 'r', 'b']\n",
    "\n",
    "step(x, ys, colors=colors, labels=labels, xlim=[1, 30], xtick_interval=2,\n",
    "     figsize=(5, 3), linewidth=1.5, show_legend=True, xlabel='CDR3 length (IMGT)',\n",
    "     figfile='./figures/shared_CDR3len_step-plot.pdf'\n",
    "    )"
   ]
  },
  {
   "cell_type": "code",
   "execution_count": null,
   "metadata": {},
   "outputs": [],
   "source": []
  },
  {
   "cell_type": "markdown",
   "metadata": {},
   "source": [
    "## CDR3 entropy\n",
    "\n",
    "Here, we'll load pre-computed CDR3 entropy data for observed and synthetic sequence datasets. Code used to calculate the per-position entropies can be found [**HERE**](LINK)."
   ]
  },
  {
   "cell_type": "code",
   "execution_count": 46,
   "metadata": {},
   "outputs": [],
   "source": [
    "entropy_df = pd.read_csv('../data_processing/data/per-position_shannon_entropies.csv',\n",
    "                         header=0, index_col=0)"
   ]
  },
  {
   "cell_type": "markdown",
   "metadata": {},
   "source": [
    "#### Plot entropies"
   ]
  },
  {
   "cell_type": "code",
   "execution_count": 47,
   "metadata": {},
   "outputs": [],
   "source": [
    "def get_fit_function(df):\n",
    "    xs = df['CDR3 length']\n",
    "    ys = df['Shannon entropy']\n",
    "    fit = np.polyfit(xs, ys, 1)\n",
    "    return np.poly1d(fit)"
   ]
  },
  {
   "cell_type": "code",
   "execution_count": 48,
   "metadata": {},
   "outputs": [
    {
     "data": {
      "image/png": "[encoded data removed]",
      "text/plain": [
       "<matplotlib.figure.Figure at 0x11cabc470>"
      ]
     },
     "metadata": {},
     "output_type": "display_data"
    }
   ],
   "source": [
    "sns.set_style('white')\n",
    "sns.factorplot(data=entropy_df, x='CDR3 length', y='Shannon entropy', hue='sample',\n",
    "               errwidth=2,\n",
    "               markersize=7,\n",
    "               palette=['k', 'k', 'b', 'b'],\n",
    "               join=False, size=4, scale=1,\n",
    "               legend=False, aspect=1.25)\n",
    "\n",
    "xs = list(range(7, 15))\n",
    "\n",
    "# OBSERVED DATASET\n",
    "edf = entropy_df[entropy_df['seq_type'] == 'observed']\n",
    "# best fit line for unshared entropies\n",
    "unshared_fit_fn = get_fit_function(edf[edf['shared'] == 'unshared'])\n",
    "plt.plot([x - 7 for x in xs], unshared_fit_fn(xs), 'k-', lw=3)\n",
    "# best fit line for shared entropies\n",
    "shared_fit_fn = get_fit_function(edf[edf['shared'] == 'shared'])\n",
    "plt.plot([x - 7 for x in xs], shared_fit_fn(xs), c='k', ls=':', lw=3)\n",
    "# proxies for plotting the legend\n",
    "unshared_line_proxy = mpl.lines.Line2D([0], [0], color='k', linewidth=2.5)\n",
    "shared_line_proxy = mpl.lines.Line2D([0], [0], color='k', linewidth=2.5, ls=':')\n",
    "unshared_proxy = mpl.lines.Line2D([0], [0], color='k', linewidth=0, marker='o', ms=8, mec='k')\n",
    "shared_proxy = mpl.lines.Line2D([0], [0], color='k', linewidth=0, marker='o', ms=8, mec='k')\n",
    "\n",
    "# SYNTHETIC (SUBJECT-SPECIFIC MODELS)\n",
    "edf = entropy_df[entropy_df['seq_type'] == 'subject-specific synthetic']\n",
    "# best fit line for synthetic unshared entropies\n",
    "unshared_synth_fit_fn = get_fit_function(edf[edf['shared'] == 'unshared'])\n",
    "plt.plot([x - 7 for x in xs], unshared_synth_fit_fn(xs), c='b', ls='-', lw=3)\n",
    "# best fit line for synthetic shared entropies\n",
    "shared_synth_fit_fn = get_fit_function(edf[edf['shared'] == 'shared'])\n",
    "plt.plot([x - 7 for x in xs], shared_synth_fit_fn(xs), c='b', ls=':', lw=3)\n",
    "# proxies for plotting the legend\n",
    "unshared_synth_line_proxy = mpl.lines.Line2D([0], [0], color='b', ls='-', linewidth=2.5)\n",
    "shared_synth_line_proxy = mpl.lines.Line2D([0], [0], color='b', ls=':', linewidth=2.5)\n",
    "unshared_synth_proxy = mpl.lines.Line2D([0], [0], color='b', linewidth=0, marker='o', ms=8, mec='b')\n",
    "shared_synth_proxy = mpl.lines.Line2D([0], [0], color='b', linewidth=0, marker='o', ms=8, mec='b')\n",
    "\n",
    "# set plot parameters\n",
    "ax = plt.gca()\n",
    "ax.tick_params(axis='x', labelsize='12', bottom=True)\n",
    "ax.tick_params(axis='y', which='major', labelsize=12, length=6, width=1.25, pad=12, right=False)\n",
    "ax.spines['top'].set_visible(False)\n",
    "ax.spines['right'].set_visible(False)\n",
    "ax.spines['left'].set_visible(False)\n",
    "ax.set_xlabel('CDR3 length (IMGT)', fontsize=14)\n",
    "ax.set_ylabel('Shannon entropy', fontsize=14)\n",
    "ax.legend([(unshared_proxy, unshared_line_proxy), (shared_proxy, shared_line_proxy), \n",
    "           (unshared_synth_proxy, unshared_synth_line_proxy), (shared_synth_proxy, shared_synth_line_proxy)],\n",
    "          ['unshared', 'shared', 'unshared (synthetic)', 'shared (synthetic)'],\n",
    "          loc='lower left', fontsize=11.5, handlelength=2.5, numpoints=1)\n",
    "ax.set_ylim((0.4, 1.0))\n",
    "\n",
    "# save or show\n",
    "plt.tight_layout()\n",
    "# plt.show()\n",
    "plt.savefig('./figures/CDR3_shannon-entropy_synthetic-vs-observed.pdf')"
   ]
  },
  {
   "cell_type": "code",
   "execution_count": null,
   "metadata": {},
   "outputs": [],
   "source": []
  },
  {
   "cell_type": "markdown",
   "metadata": {},
   "source": [
    "## CDR3 WebLogos\n",
    "\n",
    "Here, we'll make a total of 6 WebLogos, representing the CDR3 sequences of shared and unshared clonotypes of two different CDR3 lengths (8AA and 13AA). The sequence data is included in the Github repository, and the code used to compile each of the seqeunce populations can be found [**HERE**](LINK).\n",
    "\n",
    "First, we'll set up the default WebLogo options:"
   ]
  },
  {
   "cell_type": "code",
   "execution_count": 79,
   "metadata": {},
   "outputs": [],
   "source": [
    "opts_kwargs = {'unit_name': 'probability',\n",
    "               'show_xaxis': False,\n",
    "               'show_yaxis': False,\n",
    "               'show_fineprint': False,\n",
    "               'stack_aspect_ratio': 3}"
   ]
  },
  {
   "cell_type": "markdown",
   "metadata": {},
   "source": [
    "#### 8AA CDR3 weblogos"
   ]
  },
  {
   "cell_type": "code",
   "execution_count": 80,
   "metadata": {},
   "outputs": [],
   "source": [
    "rules_8AA = [IndexColor(range(3), '#C0C0C0'),\n",
    "             IndexColor(range(5, 8), '#C0C0C0'),\n",
    "             SymbolColor(\"GSTYC\", \"green\", \"polar\"),\n",
    "             SymbolColor(\"NQ\", \"purple\", \"neutral\"),\n",
    "             SymbolColor(\"KRH\", \"blue\", \"basic\"),\n",
    "             SymbolColor(\"DE\", \"red\", \"acidic\"),\n",
    "             SymbolColor(\"PAWFLIMV\", \"black\", \"hydrophobic\")]\n",
    "\n",
    "colorscheme_8AA = ColorScheme(rules_8AA)\n",
    "\n",
    "options = LogoOptions(**opts_kwargs)\n",
    "options.color_scheme = colorscheme_8AA\n",
    "\n",
    "files_8AA = {'observed_shared': '../data_processing/data/weblogo_data/observed_shared_8AA.txt',\n",
    "             'observed_unshared': '../data_processing/data/weblogo_data/observed_unshared_8AA.txt',\n",
    "             'synthetic_shared': '../data_processing/data/weblogo_data/synthetic_shared_8AA.txt'}\n",
    "\n",
    "for prefix, seq_file in files_8AA.items():\n",
    "    with open(seq_file) as f:\n",
    "        seqs = read_seq_data(f)\n",
    "        data = LogoData.from_seqs(seqs)\n",
    "        fmt = LogoFormat(data, options)\n",
    "        eps = eps_formatter(data, fmt)\n",
    "        with open('./figures/{}_8AA_weblogo.eps'.format(prefix), 'wb') as eps_file:\n",
    "            eps_file.write(eps)"
   ]
  },
  {
   "cell_type": "markdown",
   "metadata": {},
   "source": [
    "#### 13AA CDR3 weblogos"
   ]
  },
  {
   "cell_type": "code",
   "execution_count": 78,
   "metadata": {},
   "outputs": [],
   "source": [
    "rules_13AA = [IndexColor(range(3), '#C0C0C0'),\n",
    "              IndexColor(range(10, 13), '#C0C0C0'),\n",
    "              SymbolColor(\"GSTYC\", \"green\", \"polar\"),\n",
    "              SymbolColor(\"NQ\", \"purple\", \"neutral\"),\n",
    "              SymbolColor(\"KRH\", \"blue\", \"basic\"),\n",
    "              SymbolColor(\"DE\", \"red\", \"acidic\"),\n",
    "              SymbolColor(\"PAWFLIMV\", \"black\", \"hydrophobic\")]\n",
    "\n",
    "colorscheme_13AA = ColorScheme(rules_13AA)\n",
    "\n",
    "options = LogoOptions(**opts_kwargs)\n",
    "options.color_scheme = colorscheme_13AA\n",
    "\n",
    "files_13AA = {'observed_shared': '../data_processing/data/weblogo_data/observed_shared_13AA.txt',\n",
    "             'observed_unshared': '../data_processing/data/weblogo_data/observed_unshared_13AA.txt',\n",
    "             'synthetic_shared': '../data_processing/data/weblogo_data/synthetic_shared_13AA.txt'}\n",
    "\n",
    "for prefix, seq_file in files_13AA.items():\n",
    "    with open(seq_file) as f:\n",
    "        seqs = read_seq_data(f)\n",
    "        data = LogoData.from_seqs(seqs)\n",
    "        fmt = LogoFormat(data, options)\n",
    "        eps = eps_formatter(data, fmt)\n",
    "        with open('./figures/{}_13AA_weblogo.eps'.format(prefix), 'wb') as eps_file:\n",
    "            eps_file.write(eps)"
   ]
  },
  {
   "cell_type": "code",
   "execution_count": null,
   "metadata": {},
   "outputs": [],
   "source": []
  }
 ],
 "metadata": {
  "kernelspec": {
   "display_name": "Python 3",
   "language": "python",
   "name": "python3"
  },
  "language_info": {
   "codemirror_mode": {
    "name": "ipython",
    "version": 3
   },
   "file_extension": ".py",
   "mimetype": "text/x-python",
   "name": "python",
   "nbconvert_exporter": "python",
   "pygments_lexer": "ipython3",
   "version": "3.6.4"
  }
 },
 "nbformat": 4,
 "nbformat_minor": 2
}
