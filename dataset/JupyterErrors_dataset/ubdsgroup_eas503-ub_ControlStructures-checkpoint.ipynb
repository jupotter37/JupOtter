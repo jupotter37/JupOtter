{
 "cells": [
  {
   "cell_type": "markdown",
   "metadata": {},
   "source": [
    " # Programming and Database Fundamentals for Data Scientists - EAS503"
   ]
  },
  {
   "cell_type": "markdown",
   "metadata": {},
   "source": [
    "## Control Structures\n",
    "A control structure is a block of programming that analyzes variables and chooses a direction in which to go based on given parameters. The term flow control details the direction the program takes (which way program control \"flows\"). Hence it is the basic decision-making process in computing; flow control determines how a computer will respond when given certain conditions and parameters.\n",
    "\n",
    "We will study two classes of control structures - **conditionals** and **loops**. `Python` allows several ways to define the two types of control structures. Additionally, we will also look at _exception handling_ in `Python`, which is another form of control structure.\n",
    "\n",
    "### Using if-else\n",
    "_Problem_: Write a program to convert celsius to fahrenheit and vice-versa"
   ]
  },
  {
   "cell_type": "code",
   "execution_count": 1,
   "metadata": {},
   "outputs": [],
   "source": [
    "a = 4 # this is an assignment"
   ]
  },
  {
   "cell_type": "code",
   "execution_count": 2,
   "metadata": {},
   "outputs": [
    {
     "data": {
      "text/plain": [
       "True"
      ]
     },
     "execution_count": 2,
     "metadata": {},
     "output_type": "execute_result"
    }
   ],
   "source": [
    "a == 4 # this is an expression"
   ]
  },
  {
   "cell_type": "code",
   "execution_count": 3,
   "metadata": {},
   "outputs": [
    {
     "ename": "SyntaxError",
     "evalue": "invalid syntax (<ipython-input-3-204f59354034>, line 9)",
     "output_type": "error",
     "traceback": [
      "\u001b[0;36m  File \u001b[0;32m\"<ipython-input-3-204f59354034>\"\u001b[0;36m, line \u001b[0;32m9\u001b[0m\n\u001b[0;31m    if unit = 'F':\u001b[0m\n\u001b[0m            ^\u001b[0m\n\u001b[0;31mSyntaxError\u001b[0m\u001b[0;31m:\u001b[0m invalid syntax\n"
     ]
    }
   ],
   "source": [
    "def convertTemperature(value,unit):\n",
    "    '''\n",
    "    The function expects the original temperature and a unit \n",
    "    Either F or C or K.\n",
    "    '''\n",
    "    # value is the input temperature\n",
    "    # unit is current unit (F or C or K)\n",
    "\n",
    "    if unit == 'F':\n",
    "        c = (value - 32)/1.8\n",
    "    else:\n",
    "        if unit == 'C':\n",
    "            c = 1.8*value + 32\n",
    "        else:\n",
    "            if unit == 'K':\n",
    "                c = value + 273\n",
    "            else:\n",
    "                c = -1 #error situation\n",
    "    return c"
   ]
  },
  {
   "cell_type": "code",
   "execution_count": 6,
   "metadata": {},
   "outputs": [
    {
     "name": "stdout",
     "output_type": "stream",
     "text": [
      "Help on function convertTemperature in module __main__:\n",
      "\n",
      "convertTemperature(value, unit)\n",
      "    The function expects the original temperature and a unit \n",
      "    Either F or C or K.\n",
      "\n"
     ]
    }
   ],
   "source": [
    "help(convertTemperature)"
   ]
  },
  {
   "cell_type": "code",
   "execution_count": 7,
   "metadata": {},
   "outputs": [
    {
     "data": {
      "text/plain": [
       "208.4"
      ]
     },
     "execution_count": 7,
     "metadata": {},
     "output_type": "execute_result"
    }
   ],
   "source": [
    "convertTemperature(98,'C')"
   ]
  },
  {
   "cell_type": "markdown",
   "metadata": {},
   "source": [
    "### Using if-elif-else\n",
    "Writing cleaner code"
   ]
  },
  {
   "cell_type": "code",
   "execution_count": null,
   "metadata": {},
   "outputs": [],
   "source": [
    "# a cleaner way\n",
    "def convertTemperature(value,unit):\n",
    "    '''\n",
    "    The function expects the original temperature and a unit \n",
    "    Either F or C or K.\n",
    "    '''\n",
    "    # value is the input temperature\n",
    "    # unit is current unit (F or C or K)\n",
    "\n",
    "    if unit == 'F':\n",
    "        c = (value - 32)/1.8\n",
    "    elif unit == 'C':\n",
    "        c = 1.8*value + 32\n",
    "    elif unit == 'K':\n",
    "        c = value + 273\n",
    "    else:\n",
    "        c = -1\n",
    "    return c"
   ]
  },
  {
   "cell_type": "markdown",
   "metadata": {},
   "source": [
    "### Error Handling in Python\n",
    "How do we handle errors? What if the user enters an incorrect argument?"
   ]
  },
  {
   "cell_type": "code",
   "execution_count": 8,
   "metadata": {},
   "outputs": [
    {
     "data": {
      "text/plain": [
       "-1"
      ]
     },
     "execution_count": 8,
     "metadata": {},
     "output_type": "execute_result"
    }
   ],
   "source": [
    "convertTemperature(98,'M')"
   ]
  },
  {
   "cell_type": "code",
   "execution_count": 10,
   "metadata": {},
   "outputs": [
    {
     "ename": "TypeError",
     "evalue": "unsupported operand type(s) for -: 'str' and 'int'",
     "output_type": "error",
     "traceback": [
      "\u001b[0;31m---------------------------------------------------------------------------\u001b[0m",
      "\u001b[0;31mTypeError\u001b[0m                                 Traceback (most recent call last)",
      "\u001b[0;32m<ipython-input-10-b3f72ab98673>\u001b[0m in \u001b[0;36m<module>\u001b[0;34m()\u001b[0m\n\u001b[0;32m----> 1\u001b[0;31m \u001b[0mconvertTemperature\u001b[0m\u001b[0;34m(\u001b[0m\u001b[0;34m'F'\u001b[0m\u001b[0;34m,\u001b[0m\u001b[0;34m'F'\u001b[0m\u001b[0;34m)\u001b[0m\u001b[0;34m\u001b[0m\u001b[0m\n\u001b[0m",
      "\u001b[0;32m<ipython-input-2-9289e7da65c7>\u001b[0m in \u001b[0;36mconvertTemperature\u001b[0;34m(value, unit)\u001b[0m\n\u001b[1;32m      8\u001b[0m \u001b[0;34m\u001b[0m\u001b[0m\n\u001b[1;32m      9\u001b[0m     \u001b[0;32mif\u001b[0m \u001b[0munit\u001b[0m \u001b[0;34m==\u001b[0m \u001b[0;34m'F'\u001b[0m\u001b[0;34m:\u001b[0m\u001b[0;34m\u001b[0m\u001b[0m\n\u001b[0;32m---> 10\u001b[0;31m         \u001b[0mc\u001b[0m \u001b[0;34m=\u001b[0m \u001b[0;34m(\u001b[0m\u001b[0mvalue\u001b[0m \u001b[0;34m-\u001b[0m \u001b[0;36m32\u001b[0m\u001b[0;34m)\u001b[0m\u001b[0;34m/\u001b[0m\u001b[0;36m1.8\u001b[0m\u001b[0;34m\u001b[0m\u001b[0m\n\u001b[0m\u001b[1;32m     11\u001b[0m     \u001b[0;32melse\u001b[0m\u001b[0;34m:\u001b[0m\u001b[0;34m\u001b[0m\u001b[0m\n\u001b[1;32m     12\u001b[0m         \u001b[0;32mif\u001b[0m \u001b[0munit\u001b[0m \u001b[0;34m==\u001b[0m \u001b[0;34m'C'\u001b[0m\u001b[0;34m:\u001b[0m\u001b[0;34m\u001b[0m\u001b[0m\n",
      "\u001b[0;31mTypeError\u001b[0m: unsupported operand type(s) for -: 'str' and 'int'"
     ]
    }
   ],
   "source": [
    "convertTemperature('F','F')"
   ]
  },
  {
   "cell_type": "code",
   "execution_count": 11,
   "metadata": {},
   "outputs": [
    {
     "ename": "TypeError",
     "evalue": "convertTemperature() missing 1 required positional argument: 'unit'",
     "output_type": "error",
     "traceback": [
      "\u001b[0;31m---------------------------------------------------------------------------\u001b[0m",
      "\u001b[0;31mTypeError\u001b[0m                                 Traceback (most recent call last)",
      "\u001b[0;32m<ipython-input-11-6dd1234b3801>\u001b[0m in \u001b[0;36m<module>\u001b[0;34m()\u001b[0m\n\u001b[0;32m----> 1\u001b[0;31m \u001b[0mconvertTemperature\u001b[0m\u001b[0;34m(\u001b[0m\u001b[0;36m98\u001b[0m\u001b[0;34m)\u001b[0m\u001b[0;34m\u001b[0m\u001b[0m\n\u001b[0m",
      "\u001b[0;31mTypeError\u001b[0m: convertTemperature() missing 1 required positional argument: 'unit'"
     ]
    }
   ],
   "source": [
    "convertTemperature(98)"
   ]
  },
  {
   "cell_type": "markdown",
   "metadata": {},
   "source": [
    "While we can rely on the Python runtime environment to provide an error, it often does not provide a meaningful message to the user.\n",
    "\n",
    "Often times, we want to handle exceptions in a custom manner."
   ]
  },
  {
   "cell_type": "code",
   "execution_count": 16,
   "metadata": {},
   "outputs": [],
   "source": [
    "# Raising custom exceptions\n",
    "def convertTemperature(value,unit):\n",
    "    '''\n",
    "    The function expects the original temperature and a unit \n",
    "    Either F or C or K.\n",
    "    \n",
    "    Raises a ValueError exception.\n",
    "    '''\n",
    "    # value is the input temperature\n",
    "    # unit is current unit (F or C or K)\n",
    "\n",
    "    if unit == 'F':\n",
    "        c = (value - 32)/1.8\n",
    "    elif unit == 'C':\n",
    "        c = 1.8*value + 32\n",
    "    elif unit == 'K':\n",
    "        c = value + 273\n",
    "    else:\n",
    "        raise ValueError('Incorrect unit provided')\n",
    "    return c"
   ]
  },
  {
   "cell_type": "code",
   "execution_count": 17,
   "metadata": {},
   "outputs": [
    {
     "ename": "ValueError",
     "evalue": "Incorrect unit provided",
     "output_type": "error",
     "traceback": [
      "\u001b[0;31m---------------------------------------------------------------------------\u001b[0m",
      "\u001b[0;31mValueError\u001b[0m                                Traceback (most recent call last)",
      "\u001b[0;32m<ipython-input-17-0eeb6693c53a>\u001b[0m in \u001b[0;36m<module>\u001b[0;34m()\u001b[0m\n\u001b[0;32m----> 1\u001b[0;31m \u001b[0mc\u001b[0m \u001b[0;34m=\u001b[0m \u001b[0mconvertTemperature\u001b[0m\u001b[0;34m(\u001b[0m\u001b[0;36m20\u001b[0m\u001b[0;34m,\u001b[0m\u001b[0;34m'Q'\u001b[0m\u001b[0;34m)\u001b[0m\u001b[0;34m\u001b[0m\u001b[0m\n\u001b[0m\u001b[1;32m      2\u001b[0m \u001b[0mprint\u001b[0m\u001b[0;34m(\u001b[0m\u001b[0mc\u001b[0m\u001b[0;34m)\u001b[0m\u001b[0;34m\u001b[0m\u001b[0m\n",
      "\u001b[0;32m<ipython-input-16-5384ac6fabf8>\u001b[0m in \u001b[0;36mconvertTemperature\u001b[0;34m(value, unit)\u001b[0m\n\u001b[1;32m     17\u001b[0m         \u001b[0mc\u001b[0m \u001b[0;34m=\u001b[0m \u001b[0mvalue\u001b[0m \u001b[0;34m+\u001b[0m \u001b[0;36m273\u001b[0m\u001b[0;34m\u001b[0m\u001b[0m\n\u001b[1;32m     18\u001b[0m     \u001b[0;32melse\u001b[0m\u001b[0;34m:\u001b[0m\u001b[0;34m\u001b[0m\u001b[0m\n\u001b[0;32m---> 19\u001b[0;31m         \u001b[0;32mraise\u001b[0m \u001b[0mValueError\u001b[0m\u001b[0;34m(\u001b[0m\u001b[0;34m'Incorrect unit provided'\u001b[0m\u001b[0;34m)\u001b[0m\u001b[0;34m\u001b[0m\u001b[0m\n\u001b[0m\u001b[1;32m     20\u001b[0m     \u001b[0;32mreturn\u001b[0m \u001b[0mc\u001b[0m\u001b[0;34m\u001b[0m\u001b[0m\n",
      "\u001b[0;31mValueError\u001b[0m: Incorrect unit provided"
     ]
    }
   ],
   "source": [
    "c = convertTemperature(20,'Q')\n",
    "print(c)"
   ]
  },
  {
   "cell_type": "markdown",
   "metadata": {},
   "source": [
    "## Syntax Errors and Exceptions\n",
    "There are two types of errors that are encountered when running a `Python` program. The program terminates as soon as one of these types of errors are encountered.\n",
    "### Syntax error\n",
    "Syntax errors occur when the `Python` parser detects an incorrect statement."
   ]
  },
  {
   "cell_type": "code",
   "execution_count": 18,
   "metadata": {},
   "outputs": [
    {
     "ename": "SyntaxError",
     "evalue": "EOL while scanning string literal (<ipython-input-18-1603235d6d20>, line 1)",
     "output_type": "error",
     "traceback": [
      "\u001b[0;36m  File \u001b[0;32m\"<ipython-input-18-1603235d6d20>\"\u001b[0;36m, line \u001b[0;32m1\u001b[0m\n\u001b[0;31m    print('This is an incorrect print statement)\u001b[0m\n\u001b[0m                                                ^\u001b[0m\n\u001b[0;31mSyntaxError\u001b[0m\u001b[0;31m:\u001b[0m EOL while scanning string literal\n"
     ]
    }
   ],
   "source": [
    "print('This is an incorrect print statement)"
   ]
  },
  {
   "cell_type": "markdown",
   "metadata": {},
   "source": [
    "Note the term `SyntaxError` at the beginning of the last line."
   ]
  },
  {
   "cell_type": "markdown",
   "metadata": {},
   "source": [
    "### Exceptions\n",
    "Exceptions or Exception errors occur during the running of a syntactically correct program."
   ]
  },
  {
   "cell_type": "code",
   "execution_count": 19,
   "metadata": {},
   "outputs": [
    {
     "ename": "ZeroDivisionError",
     "evalue": "division by zero",
     "output_type": "error",
     "traceback": [
      "\u001b[0;31m---------------------------------------------------------------------------\u001b[0m",
      "\u001b[0;31mZeroDivisionError\u001b[0m                         Traceback (most recent call last)",
      "\u001b[0;32m<ipython-input-19-1babb3b33639>\u001b[0m in \u001b[0;36m<module>\u001b[0;34m()\u001b[0m\n\u001b[0;32m----> 1\u001b[0;31m \u001b[0mprint\u001b[0m\u001b[0;34m(\u001b[0m\u001b[0;36m0\u001b[0m\u001b[0;34m/\u001b[0m\u001b[0;36m0\u001b[0m\u001b[0;34m)\u001b[0m\u001b[0;34m\u001b[0m\u001b[0m\n\u001b[0m",
      "\u001b[0;31mZeroDivisionError\u001b[0m: division by zero"
     ]
    }
   ],
   "source": [
    "print(0/0)"
   ]
  },
  {
   "cell_type": "markdown",
   "metadata": {},
   "source": [
    "Again, the first term of the last line tells you the type of error, while the rest of the output allows you to trace the error."
   ]
  },
  {
   "cell_type": "code",
   "execution_count": 20,
   "metadata": {},
   "outputs": [
    {
     "ename": "ZeroDivisionError",
     "evalue": "division by zero",
     "output_type": "error",
     "traceback": [
      "\u001b[0;31m---------------------------------------------------------------------------\u001b[0m",
      "\u001b[0;31mZeroDivisionError\u001b[0m                         Traceback (most recent call last)",
      "\u001b[0;32m<ipython-input-20-f1222aef92b4>\u001b[0m in \u001b[0;36m<module>\u001b[0;34m()\u001b[0m\n\u001b[1;32m      5\u001b[0m \u001b[0;32mdef\u001b[0m \u001b[0mfunc3\u001b[0m\u001b[0;34m(\u001b[0m\u001b[0;34m)\u001b[0m\u001b[0;34m:\u001b[0m\u001b[0;34m\u001b[0m\u001b[0m\n\u001b[1;32m      6\u001b[0m     \u001b[0;32mreturn\u001b[0m \u001b[0mfunc2\u001b[0m\u001b[0;34m(\u001b[0m\u001b[0;34m)\u001b[0m\u001b[0;34m\u001b[0m\u001b[0m\n\u001b[0;32m----> 7\u001b[0;31m \u001b[0mfunc3\u001b[0m\u001b[0;34m(\u001b[0m\u001b[0;34m)\u001b[0m\u001b[0;34m\u001b[0m\u001b[0m\n\u001b[0m",
      "\u001b[0;32m<ipython-input-20-f1222aef92b4>\u001b[0m in \u001b[0;36mfunc3\u001b[0;34m()\u001b[0m\n\u001b[1;32m      4\u001b[0m     \u001b[0;32mreturn\u001b[0m \u001b[0mfunc1\u001b[0m\u001b[0;34m(\u001b[0m\u001b[0;34m)\u001b[0m\u001b[0;34m\u001b[0m\u001b[0m\n\u001b[1;32m      5\u001b[0m \u001b[0;32mdef\u001b[0m \u001b[0mfunc3\u001b[0m\u001b[0;34m(\u001b[0m\u001b[0;34m)\u001b[0m\u001b[0;34m:\u001b[0m\u001b[0;34m\u001b[0m\u001b[0m\n\u001b[0;32m----> 6\u001b[0;31m     \u001b[0;32mreturn\u001b[0m \u001b[0mfunc2\u001b[0m\u001b[0;34m(\u001b[0m\u001b[0;34m)\u001b[0m\u001b[0;34m\u001b[0m\u001b[0m\n\u001b[0m\u001b[1;32m      7\u001b[0m \u001b[0mfunc3\u001b[0m\u001b[0;34m(\u001b[0m\u001b[0;34m)\u001b[0m\u001b[0;34m\u001b[0m\u001b[0m\n",
      "\u001b[0;32m<ipython-input-20-f1222aef92b4>\u001b[0m in \u001b[0;36mfunc2\u001b[0;34m()\u001b[0m\n\u001b[1;32m      2\u001b[0m     \u001b[0;32mreturn\u001b[0m \u001b[0;36m0\u001b[0m\u001b[0;34m/\u001b[0m\u001b[0;36m0\u001b[0m\u001b[0;34m\u001b[0m\u001b[0m\n\u001b[1;32m      3\u001b[0m \u001b[0;32mdef\u001b[0m \u001b[0mfunc2\u001b[0m\u001b[0;34m(\u001b[0m\u001b[0;34m)\u001b[0m\u001b[0;34m:\u001b[0m\u001b[0;34m\u001b[0m\u001b[0m\n\u001b[0;32m----> 4\u001b[0;31m     \u001b[0;32mreturn\u001b[0m \u001b[0mfunc1\u001b[0m\u001b[0;34m(\u001b[0m\u001b[0;34m)\u001b[0m\u001b[0;34m\u001b[0m\u001b[0m\n\u001b[0m\u001b[1;32m      5\u001b[0m \u001b[0;32mdef\u001b[0m \u001b[0mfunc3\u001b[0m\u001b[0;34m(\u001b[0m\u001b[0;34m)\u001b[0m\u001b[0;34m:\u001b[0m\u001b[0;34m\u001b[0m\u001b[0m\n\u001b[1;32m      6\u001b[0m     \u001b[0;32mreturn\u001b[0m \u001b[0mfunc2\u001b[0m\u001b[0;34m(\u001b[0m\u001b[0;34m)\u001b[0m\u001b[0;34m\u001b[0m\u001b[0m\n",
      "\u001b[0;32m<ipython-input-20-f1222aef92b4>\u001b[0m in \u001b[0;36mfunc1\u001b[0;34m()\u001b[0m\n\u001b[1;32m      1\u001b[0m \u001b[0;32mdef\u001b[0m \u001b[0mfunc1\u001b[0m\u001b[0;34m(\u001b[0m\u001b[0;34m)\u001b[0m\u001b[0;34m:\u001b[0m\u001b[0;34m\u001b[0m\u001b[0m\n\u001b[0;32m----> 2\u001b[0;31m     \u001b[0;32mreturn\u001b[0m \u001b[0;36m0\u001b[0m\u001b[0;34m/\u001b[0m\u001b[0;36m0\u001b[0m\u001b[0;34m\u001b[0m\u001b[0m\n\u001b[0m\u001b[1;32m      3\u001b[0m \u001b[0;32mdef\u001b[0m \u001b[0mfunc2\u001b[0m\u001b[0;34m(\u001b[0m\u001b[0;34m)\u001b[0m\u001b[0;34m:\u001b[0m\u001b[0;34m\u001b[0m\u001b[0m\n\u001b[1;32m      4\u001b[0m     \u001b[0;32mreturn\u001b[0m \u001b[0mfunc1\u001b[0m\u001b[0;34m(\u001b[0m\u001b[0;34m)\u001b[0m\u001b[0;34m\u001b[0m\u001b[0m\n\u001b[1;32m      5\u001b[0m \u001b[0;32mdef\u001b[0m \u001b[0mfunc3\u001b[0m\u001b[0;34m(\u001b[0m\u001b[0;34m)\u001b[0m\u001b[0;34m:\u001b[0m\u001b[0;34m\u001b[0m\u001b[0m\n",
      "\u001b[0;31mZeroDivisionError\u001b[0m: division by zero"
     ]
    }
   ],
   "source": [
    "def func1():\n",
    "    return 0/0\n",
    "def func2():\n",
    "    return func1()\n",
    "def func3():\n",
    "    return func2()\n",
    "func3() "
   ]
  },
  {
   "cell_type": "markdown",
   "metadata": {},
   "source": [
    "**How are exceptions raised?**\n",
    "\n",
    "Each in-built function in `Python` checks for various scenarios (through `if-else` statements) and raise various types of inbuilt exceptions.\n",
    "\n",
    "We can raise exceptions in user defined functions as well, as we saw in the `convertTemperature` example above, using the keyword `raise`. This is also known as **throwing an exception**.\n",
    "\n",
    "`Python` provides a variety of built-in exceptions (most general being just `Exception`). In addition to the type of exception, one can also include a useful error message for the user."
   ]
  },
  {
   "cell_type": "code",
   "execution_count": 23,
   "metadata": {},
   "outputs": [
    {
     "ename": "Exception",
     "evalue": "x should not exceed 5. The value of x was: 10",
     "output_type": "error",
     "traceback": [
      "\u001b[0;31m---------------------------------------------------------------------------\u001b[0m",
      "\u001b[0;31mException\u001b[0m                                 Traceback (most recent call last)",
      "\u001b[0;32m<ipython-input-23-3dcc1a597936>\u001b[0m in \u001b[0;36m<module>\u001b[0;34m()\u001b[0m\n\u001b[1;32m      1\u001b[0m \u001b[0mx\u001b[0m \u001b[0;34m=\u001b[0m \u001b[0;36m10\u001b[0m\u001b[0;34m\u001b[0m\u001b[0m\n\u001b[1;32m      2\u001b[0m \u001b[0;32mif\u001b[0m \u001b[0mx\u001b[0m \u001b[0;34m>\u001b[0m \u001b[0;36m5\u001b[0m\u001b[0;34m:\u001b[0m\u001b[0;34m\u001b[0m\u001b[0m\n\u001b[0;32m----> 3\u001b[0;31m     \u001b[0;32mraise\u001b[0m \u001b[0mException\u001b[0m\u001b[0;34m(\u001b[0m\u001b[0;34m'x should not exceed 5. The value of x was: {}'\u001b[0m\u001b[0;34m.\u001b[0m\u001b[0mformat\u001b[0m\u001b[0;34m(\u001b[0m\u001b[0mx\u001b[0m\u001b[0;34m)\u001b[0m\u001b[0;34m)\u001b[0m\u001b[0;34m\u001b[0m\u001b[0m\n\u001b[0m",
      "\u001b[0;31mException\u001b[0m: x should not exceed 5. The value of x was: 10"
     ]
    }
   ],
   "source": [
    "x = 10\n",
    "if x > 5:\n",
    "    raise Exception('x should not exceed 5. The value of x was: {}'.format(x))"
   ]
  },
  {
   "cell_type": "markdown",
   "metadata": {},
   "source": [
    "### The `AssertionException` Exception\n",
    "Sometimes, instead of waiting for your program to crash midway, you can explicitly make an assertion during the program and then throw an `AssertionException` if the assertion is not true.\n",
    "> **Assert** statements in `Python` is essentially a debugging helper tool that allows you to check for certain conditions during the execution of the program. One can use an `assert` statement anywhere, for example:\n",
    "> ```python\n",
    "x = -4\n",
    "assert(x >= 0)\n",
    "```\n",
    "If the condition is not met, an `AssertionException` is raised. Otherwise the program continues as intended.\n",
    "\n",
    "> However, the proper use of `assert` is to inform developers about unrecoverable errors in a program.  You can think of them as internal self-checks for your program. They work by declaring some conditions as impossible in your code. If one of these conditions doesn’t hold that means there’s a bug in the program. This makes it much easier to track down and fix bugs in your programs."
   ]
  },
  {
   "cell_type": "markdown",
   "metadata": {},
   "source": [
    "### Handling Exceptions in `Python`\n",
    "Your program will stop executing as soon as an `Exception` is raised. What if you want to handle them in a different way? The `try`-`except` and `try`-`except`-`else` blocks allow you to handle exceptions."
   ]
  },
  {
   "cell_type": "code",
   "execution_count": 29,
   "metadata": {},
   "outputs": [
    {
     "name": "stdout",
     "output_type": "stream",
     "text": [
      "Sorry\n",
      "moving on\n"
     ]
    }
   ],
   "source": [
    "try:\n",
    "    c = convertTemperature(50,'K1')\n",
    "    print(c)\n",
    "except ValueError:\n",
    "    print(\"Sorry\")\n",
    "print(\"moving on\")"
   ]
  },
  {
   "cell_type": "markdown",
   "metadata": {},
   "source": [
    "Sometimes you do not want to do anything in the `except` clause. You can use the keyword `pass` to \"do nothing\"."
   ]
  },
  {
   "cell_type": "code",
   "execution_count": 30,
   "metadata": {},
   "outputs": [
    {
     "name": "stdout",
     "output_type": "stream",
     "text": [
      "moving on\n"
     ]
    }
   ],
   "source": [
    "try:\n",
    "    c = convertTemperature(50,'K1')\n",
    "    print(c)\n",
    "except ValueError:\n",
    "    pass\n",
    "print(\"moving on\")"
   ]
  },
  {
   "cell_type": "markdown",
   "metadata": {},
   "source": [
    "Though typically printing out a helpful message is always a good idea."
   ]
  },
  {
   "cell_type": "markdown",
   "metadata": {},
   "source": [
    "#### Bare `except` clauses\n",
    "The above examples are what we call _bare except clauses_. However, in `Python` you can handle different types of exceptions in a different way. That is always a better idea. During the course of execution of a block, several different types of exceptions can be thrown. Having custom handlers for different types makes it easier to track errors. Additionally, you can print out the \"message\" associated with each exception.\n",
    "\n",
    "Of course, it will be impossible, and often unnecessary, to handle all types of exceptions. In that case, you can always handle the generic `Exception` as a \"catch all\"."
   ]
  },
  {
   "cell_type": "code",
   "execution_count": 48,
   "metadata": {},
   "outputs": [],
   "source": [
    "import math\n",
    "def divides(x,y):\n",
    "    try:\n",
    "        z = math.sqrt(x)/y\n",
    "    except ZeroDivisionError:\n",
    "        print(\"Incorrect arguments\")\n",
    "        z = 0\n",
    "    except TypeError as te:\n",
    "        print(\"Wrong types\")\n",
    "        print(te)\n",
    "        z = 0\n",
    "    except Exception as e:\n",
    "        print(\"Unrecognized error happened\")\n",
    "        print(e)\n",
    "        z = 0\n",
    "    finally:\n",
    "        print(\"Returning from the function after cleaning up.\")\n",
    "        \n",
    "    return z"
   ]
  },
  {
   "cell_type": "code",
   "execution_count": 47,
   "metadata": {},
   "outputs": [
    {
     "name": "stdout",
     "output_type": "stream",
     "text": [
      "Returning from the function\n",
      "0.4330127018922193\n",
      "----------\n",
      "Wrong types\n",
      "unsupported operand type(s) for /: 'float' and 'str'\n",
      "Returning from the function\n",
      "0\n",
      "----------\n",
      "Incorrect arguments\n",
      "Returning from the function\n",
      "0\n",
      "----------\n",
      "Unrecognized error happened\n",
      "math domain error\n",
      "Returning from the function\n",
      "0\n"
     ]
    }
   ],
   "source": [
    "print(divides(3,4))\n",
    "print('----------')\n",
    "print(divides(3,'w'))\n",
    "print('----------')\n",
    "print(divides(4,0))\n",
    "print('----------')\n",
    "print(divides(-0.9,8))"
   ]
  },
  {
   "cell_type": "markdown",
   "metadata": {},
   "source": [
    "#### Using `finally`\n",
    "In the above example, the last clause uses the keyword `finally`. This is used to create the block where the final housekeeping is done. This block is visited, regardless of if any exception was raised or not. Very useful to do some cleaning up (closing files, database connections, freeing up memory, etc.)"
   ]
  },
  {
   "cell_type": "markdown",
   "metadata": {},
   "source": [
    "#### The `try-catch-else` block\n",
    "An `else` block can be added to the `try-catch` blocks to run some code *only* if the `try` code is successful, i.e., there are no exceptions."
   ]
  },
  {
   "cell_type": "code",
   "execution_count": 49,
   "metadata": {},
   "outputs": [],
   "source": [
    "import math\n",
    "def divides(x,y):\n",
    "    try:\n",
    "        z = math.sqrt(x)/y\n",
    "    except ZeroDivisionError:\n",
    "        print(\"Incorrect arguments\")\n",
    "        z = 0\n",
    "    except TypeError as te:\n",
    "        print(\"Wrong types\")\n",
    "        print(te)\n",
    "        z = 0\n",
    "    except Exception as e:\n",
    "        print(\"Unrecognized error happened\")\n",
    "        print(e)\n",
    "        z = 0\n",
    "    else:\n",
    "        print(\"Succesfully completed the operation.\")\n",
    "    finally:\n",
    "        print(\"Returning from the function after cleaning up.\")\n",
    "        \n",
    "    return z"
   ]
  },
  {
   "cell_type": "code",
   "execution_count": 50,
   "metadata": {},
   "outputs": [
    {
     "name": "stdout",
     "output_type": "stream",
     "text": [
      "Succesfully completed the operation.\n",
      "Returning from the function after cleaning up.\n"
     ]
    },
    {
     "data": {
      "text/plain": [
       "0.4"
      ]
     },
     "execution_count": 50,
     "metadata": {},
     "output_type": "execute_result"
    }
   ],
   "source": [
    "divides(4,5)"
   ]
  },
  {
   "cell_type": "markdown",
   "metadata": {},
   "source": [
    "### Loops in `Python`\n",
    "There are two main ways to create loops in `Python`. First is the `for` loop and the second is the `while` loop."
   ]
  },
  {
   "cell_type": "markdown",
   "metadata": {},
   "source": [
    "#### `for` loops\n",
    "The `for` loop that is used to iterate over elements of a sequence, it is often \n",
    "used when you have a piece of code which you want to repeat \"n\" number of time. \n",
    "\n",
    "It works like this: \" for all elements in an iterable sequence, do this \"\n",
    "\n",
    "For example:"
   ]
  },
  {
   "cell_type": "code",
   "execution_count": 52,
   "metadata": {},
   "outputs": [
    {
     "name": "stdout",
     "output_type": "stream",
     "text": [
      "Apple\n",
      "Asus\n",
      "Dell\n",
      "Samsung\n"
     ]
    }
   ],
   "source": [
    "computer_brands = [\"Apple\", \"Asus\", \"Dell\", \"Samsung\"]\n",
    "for brands in computer_brands:\n",
    "    print(brands)"
   ]
  },
  {
   "cell_type": "code",
   "execution_count": 57,
   "metadata": {},
   "outputs": [
    {
     "name": "stdout",
     "output_type": "stream",
     "text": [
      "151\n"
     ]
    }
   ],
   "source": [
    "numbers = [1,10,20,30,40,50]\n",
    "s = 0\n",
    "for number in numbers:\n",
    "    s = s + number\n",
    "    #s += number\n",
    "print(s)"
   ]
  },
  {
   "cell_type": "markdown",
   "metadata": {},
   "source": [
    "#### Reading text files\n",
    "In `Python`, text files can be iterated over using a `for` loop, just as another iterable."
   ]
  },
  {
   "cell_type": "code",
   "execution_count": 58,
   "metadata": {},
   "outputs": [
    {
     "name": "stdout",
     "output_type": "stream",
     "text": [
      "This\n",
      "is\n",
      "EAS503\n",
      "Introduction to Programming and Databases\n",
      "at University at Buffalo\n"
     ]
    }
   ],
   "source": [
    "# file loops\n",
    "f = open('testfile.txt','r')\n",
    "for l in f:\n",
    "    l = l.strip()\n",
    "    print(l)\n",
    "f.close()"
   ]
  },
  {
   "cell_type": "markdown",
   "metadata": {},
   "source": [
    "Note the use of `open()` to open a connection to the file and then a `close()` to close the connection. It is always a good practice to ensure that all files are closed after use. This is where, having a `finally` block is useful.\n",
    "\n",
    "#### Using `with`\n",
    "Another way to ensure that files (and other resources) are properly closed, is to use a `with` block."
   ]
  },
  {
   "cell_type": "code",
   "execution_count": null,
   "metadata": {},
   "outputs": [],
   "source": [
    "# file loops\n",
    "with open('testfile.txt','r') as f:\n",
    "    for l in f:\n",
    "        l = l.strip()\n",
    "        print(l)\n"
   ]
  },
  {
   "cell_type": "markdown",
   "metadata": {},
   "source": [
    "#### Jumping out of loops\n",
    "`Python` allows you to jump out of a loop by using keywords `break` and `continue`."
   ]
  },
  {
   "cell_type": "code",
   "execution_count": 61,
   "metadata": {},
   "outputs": [
    {
     "name": "stdout",
     "output_type": "stream",
     "text": [
      "1\n",
      "2\n"
     ]
    }
   ],
   "source": [
    "for i in range(1,10):\n",
    "    if i == 3:\n",
    "        break\n",
    "    print(i)"
   ]
  },
  {
   "cell_type": "code",
   "execution_count": 62,
   "metadata": {},
   "outputs": [
    {
     "name": "stdout",
     "output_type": "stream",
     "text": [
      "1\n",
      "2\n",
      "4\n",
      "5\n",
      "6\n",
      "7\n",
      "8\n",
      "9\n"
     ]
    }
   ],
   "source": [
    "for i in range(1,10):\n",
    "    if i == 3:\n",
    "        continue\n",
    "    print(i)"
   ]
  },
  {
   "cell_type": "markdown",
   "metadata": {},
   "source": [
    "### `while` loop\n",
    "Also known as a _sentinel_ loop, the `while` loop tells the computer to do something as long as the condition is met - it's construct consists of a block of code and a condition. \n",
    "\n",
    "It works like this: \" while this is true, do this \""
   ]
  },
  {
   "cell_type": "code",
   "execution_count": null,
   "metadata": {
    "collapsed": true
   },
   "outputs": [],
   "source": [
    "numattempts = 0\n",
    "while (numattempts < 4):\n",
    "    try:\n",
    "        x = int(input(\"Please enter a number: \"))\n",
    "        numattempts = numattempts + 1\n",
    "    except ValueError:\n",
    "        print(\"Oops!  That was no valid number.  Try again...\")"
   ]
  },
  {
   "cell_type": "code",
   "execution_count": null,
   "metadata": {
    "collapsed": true
   },
   "outputs": [],
   "source": [
    "while True:\n",
    "    try:\n",
    "        x = int(input(\"Please enter a number: \"))\n",
    "        if(x == -99):\n",
    "            break\n",
    "    except ValueError as v:\n",
    "        print(\"Oops!  That was no valid number.  Try again...\")\n",
    "        print(v)\n",
    "        print(v.args)"
   ]
  },
  {
   "cell_type": "code",
   "execution_count": null,
   "metadata": {},
   "outputs": [],
   "source": [
    "# post-test loops\n",
    "x = 0\n",
    "while(True):\n",
    "    x = x + 1\n",
    "    \n",
    "    if x == 100000:\n",
    "        break\n",
    "print(x)"
   ]
  },
  {
   "cell_type": "code",
   "execution_count": null,
   "metadata": {},
   "outputs": [],
   "source": [
    "# sentinel loops\n",
    "x = 0\n",
    "while(x < 100000):\n",
    "    x = x + 1\n",
    "print(x)"
   ]
  },
  {
   "cell_type": "markdown",
   "metadata": {},
   "source": [
    "### Designing clean algorithms\n",
    "Find maximum of three numbers"
   ]
  },
  {
   "cell_type": "code",
   "execution_count": 127,
   "metadata": {
    "collapsed": true
   },
   "outputs": [],
   "source": [
    "def findmax(x1,x2,x3):\n",
    "    # find the maximum of the three and return it\n",
    "    if x1 > x2:\n",
    "        if x1 > x3:\n",
    "            mx = x1\n",
    "        else:\n",
    "            mx = x3\n",
    "    else:\n",
    "        if x2 > x3:\n",
    "            mx = x2\n",
    "        else:\n",
    "            mx = x3\n",
    "    return mx"
   ]
  },
  {
   "cell_type": "code",
   "execution_count": 171,
   "metadata": {
    "collapsed": true
   },
   "outputs": [],
   "source": [
    "def findmax(xlist):\n",
    "    # find the maximum of the three and return it\n",
    "    mx = xlist[0]\n",
    "    for i in xlist[1:]:\n",
    "        if i > mx:\n",
    "            mx = i\n",
    "    return mx"
   ]
  },
  {
   "cell_type": "code",
   "execution_count": 172,
   "metadata": {},
   "outputs": [
    {
     "data": {
      "text/plain": [
       "90.2"
      ]
     },
     "execution_count": 172,
     "metadata": {},
     "output_type": "execute_result"
    }
   ],
   "source": [
    "findmax([3,2,8,90.2,1])"
   ]
  },
  {
   "cell_type": "code",
   "execution_count": 174,
   "metadata": {},
   "outputs": [
    {
     "data": {
      "text/plain": [
       "'sorted'"
      ]
     },
     "execution_count": 174,
     "metadata": {},
     "output_type": "execute_result"
    }
   ],
   "source": [
    "findmax(['alphabetically','sorted','list'])"
   ]
  }
 ],
 "metadata": {
  "kernelspec": {
   "display_name": "Python 3",
   "language": "python",
   "name": "python3"
  },
  "language_info": {
   "codemirror_mode": {
    "name": "ipython",
    "version": 3
   },
   "file_extension": ".py",
   "mimetype": "text/x-python",
   "name": "python",
   "nbconvert_exporter": "python",
   "pygments_lexer": "ipython3",
   "version": "3.6.4"
  }
 },
 "nbformat": 4,
 "nbformat_minor": 2
}
