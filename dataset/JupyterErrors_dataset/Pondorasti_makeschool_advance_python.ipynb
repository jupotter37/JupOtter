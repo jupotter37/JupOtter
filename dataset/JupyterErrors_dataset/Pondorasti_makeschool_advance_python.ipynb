{
 "cells": [
  {
   "cell_type": "markdown",
   "metadata": {},
   "source": [
    "# Learning Objectives\n",
    "\n",
    "- What is Generator in Python, why do we need it\n",
    "\n",
    "- Learn about Abstract Method, Class Method and Static Method\n",
    "\n",
    "- Learn about functional programming and decorators in Python\n",
    "\n"
   ]
  },
  {
   "cell_type": "markdown",
   "metadata": {},
   "source": [
    "## Iterator - Generator\n",
    "\n",
    "- Any function that uses the ‘yield’ statement is the generator\n",
    "\n",
    "- Each yield temporarily suspends processing, remem- bering the location execution state\n",
    "\n",
    "- When the generator iteration resumes, it picks-up where it left-off"
   ]
  },
  {
   "cell_type": "code",
   "execution_count": 54,
   "metadata": {},
   "outputs": [
    {
     "name": "stdout",
     "output_type": "stream",
     "text": [
      "1\n",
      "3\n",
      "6\n",
      "10\n"
     ]
    }
   ],
   "source": [
    "def generator_ex(ls):\n",
    "    s = 0\n",
    "    for i in ls:\n",
    "        s += i\n",
    "        yield s\n",
    "        \n",
    "G = generator_ex([1, 2, 3, 4])\n",
    "\n",
    "for item in G:\n",
    "    print(item)"
   ]
  },
  {
   "cell_type": "code",
   "execution_count": 55,
   "metadata": {},
   "outputs": [],
   "source": [
    "for item in G:\n",
    "    print(item)"
   ]
  },
  {
   "cell_type": "markdown",
   "metadata": {},
   "source": [
    "### Explain why nothing will be printed for above?"
   ]
  },
  {
   "cell_type": "code",
   "execution_count": 5,
   "metadata": {},
   "outputs": [
    {
     "name": "stdout",
     "output_type": "stream",
     "text": [
      "1\n"
     ]
    }
   ],
   "source": [
    "G = generator_ex([1, 2, 3, 4])\n",
    "print(next(G))"
   ]
  },
  {
   "cell_type": "code",
   "execution_count": 6,
   "metadata": {},
   "outputs": [
    {
     "name": "stdout",
     "output_type": "stream",
     "text": [
      "3\n"
     ]
    }
   ],
   "source": [
    "print(next(G))"
   ]
  },
  {
   "cell_type": "code",
   "execution_count": 7,
   "metadata": {},
   "outputs": [],
   "source": [
    "iter_ex = [1, 2, 3, 4]"
   ]
  },
  {
   "cell_type": "code",
   "execution_count": 8,
   "metadata": {},
   "outputs": [
    {
     "ename": "TypeError",
     "evalue": "'list' object is not an iterator",
     "output_type": "error",
     "traceback": [
      "\u001b[0;31m---------------------------------------------------------------------------\u001b[0m",
      "\u001b[0;31mTypeError\u001b[0m                                 Traceback (most recent call last)",
      "\u001b[0;32m<ipython-input-8-347d46ab7517>\u001b[0m in \u001b[0;36m<module>\u001b[0;34m()\u001b[0m\n\u001b[0;32m----> 1\u001b[0;31m \u001b[0mprint\u001b[0m\u001b[0;34m(\u001b[0m\u001b[0mnext\u001b[0m\u001b[0;34m(\u001b[0m\u001b[0miter_ex\u001b[0m\u001b[0;34m)\u001b[0m\u001b[0;34m)\u001b[0m\u001b[0;34m\u001b[0m\u001b[0m\n\u001b[0m",
      "\u001b[0;31mTypeError\u001b[0m: 'list' object is not an iterator"
     ]
    }
   ],
   "source": [
    "print(next(iter_ex))"
   ]
  },
  {
   "cell_type": "code",
   "execution_count": 12,
   "metadata": {},
   "outputs": [],
   "source": [
    "iter_ex = iter((1, 2, 3, 4))"
   ]
  },
  {
   "cell_type": "code",
   "execution_count": 13,
   "metadata": {},
   "outputs": [
    {
     "name": "stdout",
     "output_type": "stream",
     "text": [
      "1\n"
     ]
    }
   ],
   "source": [
    "print(next(iter_ex))"
   ]
  },
  {
   "cell_type": "code",
   "execution_count": 14,
   "metadata": {},
   "outputs": [
    {
     "name": "stdout",
     "output_type": "stream",
     "text": [
      "2\n"
     ]
    }
   ],
   "source": [
    "print(next(iter_ex))"
   ]
  },
  {
   "cell_type": "code",
   "execution_count": 61,
   "metadata": {},
   "outputs": [
    {
     "name": "stdout",
     "output_type": "stream",
     "text": [
      "1\n",
      "3\n",
      "6\n",
      "10\n"
     ]
    }
   ],
   "source": [
    "G = generator_ex(iter((1, 2, 3, 4)))\n",
    "\n",
    "for item in G:\n",
    "    print(item)\n",
    "            "
   ]
  },
  {
   "cell_type": "code",
   "execution_count": 23,
   "metadata": {},
   "outputs": [
    {
     "name": "stdout",
     "output_type": "stream",
     "text": [
      "<class 'range'>\n"
     ]
    }
   ],
   "source": [
    "a = range(1, 4)\n",
    "print(type(a))"
   ]
  },
  {
   "cell_type": "code",
   "execution_count": 24,
   "metadata": {},
   "outputs": [
    {
     "name": "stdout",
     "output_type": "stream",
     "text": [
      "1\n"
     ]
    }
   ],
   "source": [
    "print(a[0])"
   ]
  },
  {
   "cell_type": "markdown",
   "metadata": {},
   "source": [
    "## Generator Expressions"
   ]
  },
  {
   "cell_type": "code",
   "execution_count": 59,
   "metadata": {},
   "outputs": [],
   "source": [
    "b = (x*x for x in range(10))"
   ]
  },
  {
   "cell_type": "code",
   "execution_count": 34,
   "metadata": {},
   "outputs": [
    {
     "name": "stdout",
     "output_type": "stream",
     "text": [
      "<class 'generator'>\n"
     ]
    }
   ],
   "source": [
    "print(type(b))"
   ]
  },
  {
   "cell_type": "code",
   "execution_count": 27,
   "metadata": {},
   "outputs": [
    {
     "ename": "TypeError",
     "evalue": "'generator' object is not subscriptable",
     "output_type": "error",
     "traceback": [
      "\u001b[0;31m---------------------------------------------------------------------------\u001b[0m",
      "\u001b[0;31mTypeError\u001b[0m                                 Traceback (most recent call last)",
      "\u001b[0;32m<ipython-input-27-23821ec76b06>\u001b[0m in \u001b[0;36m<module>\u001b[0;34m()\u001b[0m\n\u001b[0;32m----> 1\u001b[0;31m \u001b[0mprint\u001b[0m\u001b[0;34m(\u001b[0m\u001b[0ma\u001b[0m\u001b[0;34m[\u001b[0m\u001b[0;36m0\u001b[0m\u001b[0;34m]\u001b[0m\u001b[0;34m)\u001b[0m\u001b[0;34m\u001b[0m\u001b[0m\n\u001b[0m",
      "\u001b[0;31mTypeError\u001b[0m: 'generator' object is not subscriptable"
     ]
    }
   ],
   "source": [
    "print(b[0])"
   ]
  },
  {
   "cell_type": "code",
   "execution_count": 57,
   "metadata": {},
   "outputs": [
    {
     "name": "stdout",
     "output_type": "stream",
     "text": [
      "1\n",
      "9\n",
      "25\n",
      "49\n",
      "81\n"
     ]
    }
   ],
   "source": [
    "for i in b:\n",
    "    print(next(b))"
   ]
  },
  {
   "cell_type": "code",
   "execution_count": 36,
   "metadata": {},
   "outputs": [
    {
     "ename": "StopIteration",
     "evalue": "",
     "output_type": "error",
     "traceback": [
      "\u001b[0;31m---------------------------------------------------------------------------\u001b[0m",
      "\u001b[0;31mStopIteration\u001b[0m                             Traceback (most recent call last)",
      "\u001b[0;32m<ipython-input-36-0b064482c990>\u001b[0m in \u001b[0;36m<module>\u001b[0;34m()\u001b[0m\n\u001b[0;32m----> 1\u001b[0;31m \u001b[0mprint\u001b[0m\u001b[0;34m(\u001b[0m\u001b[0mnext\u001b[0m\u001b[0;34m(\u001b[0m\u001b[0mb\u001b[0m\u001b[0;34m)\u001b[0m\u001b[0;34m)\u001b[0m\u001b[0;34m\u001b[0m\u001b[0m\n\u001b[0m",
      "\u001b[0;31mStopIteration\u001b[0m: "
     ]
    }
   ],
   "source": [
    "print(next(b))"
   ]
  },
  {
   "cell_type": "code",
   "execution_count": 60,
   "metadata": {},
   "outputs": [
    {
     "name": "stdout",
     "output_type": "stream",
     "text": [
      "285\n"
     ]
    }
   ],
   "source": [
    "print(sum(b))"
   ]
  },
  {
   "cell_type": "code",
   "execution_count": 72,
   "metadata": {},
   "outputs": [],
   "source": [
    "c = (x*x for x in iter([1, 2, 3, 4]))"
   ]
  },
  {
   "cell_type": "code",
   "execution_count": 73,
   "metadata": {},
   "outputs": [
    {
     "name": "stdout",
     "output_type": "stream",
     "text": [
      "1\n",
      "4\n",
      "9\n",
      "16\n"
     ]
    }
   ],
   "source": [
    "for i in c:\n",
    "    print(i)"
   ]
  },
  {
   "cell_type": "code",
   "execution_count": null,
   "metadata": {},
   "outputs": [],
   "source": [
    "def firstn(ls):\n",
    "    n = len(ls)\n",
    "    ls = iter(ls)\n",
    "    S = 0\n",
    "    for _ in range(n):\n",
    "        S = S + next(ls)\n",
    "        yield S\n",
    "\n",
    "G = firstn(range(100000))\n",
    "\n",
    "for i in G:\n",
    "    print(i)"
   ]
  },
  {
   "cell_type": "markdown",
   "metadata": {},
   "source": [
    "## Resources:\n",
    "\n",
    "- https://nvie.com/posts/iterators-vs-generators/\n",
    "    "
   ]
  },
  {
   "cell_type": "markdown",
   "metadata": {},
   "source": [
    "## How to check memory and time  \n",
    "\n",
    "- Let's assume that I want to find n**2 for all numbers smaller than 20000000"
   ]
  },
  {
   "cell_type": "code",
   "execution_count": 32,
   "metadata": {},
   "outputs": [
    {
     "name": "stdout",
     "output_type": "stream",
     "text": [
      "Used Mem = 8.392333984375e-05\n",
      "Calculation time = 278.102680683136\n"
     ]
    }
   ],
   "source": [
    "import time, psutil, gc\n",
    "import sys\n",
    "\n",
    "# gc.collect()\n",
    "# mem_before = psutil.virtual_memory()[3]\n",
    "# time1 = time.time()\n",
    "\n",
    "x = (i**2 for i in range(20000000))\n",
    "sys.getsizeof(x)\n",
    "\n",
    "time2 = time.time()\n",
    "# mem_after =  psutil.virtual_memory()[3]\n",
    "print('Used Mem = {}'.format(sys.getsizeof(x)/1024**2)) # convert Byte to Megabyte\n",
    "print('Calculation time = {}'.format(time2 - time1))"
   ]
  },
  {
   "cell_type": "markdown",
   "metadata": {},
   "source": [
    "## Abstract Methods\n",
    "\n",
    "- Abstract methods are the methods which does not contain any implemetation\n",
    "\n",
    "- But the child-class need to implement these methods. Otherwise error will be reported\n"
   ]
  },
  {
   "cell_type": "code",
   "execution_count": 76,
   "metadata": {},
   "outputs": [
    {
     "name": "stdout",
     "output_type": "stream",
     "text": [
      "3\n",
      "6\n",
      "16\n",
      "4.0\n"
     ]
    }
   ],
   "source": [
    "from abc import ABC, abstractmethod\n",
    "\n",
    "\n",
    "class AbstractOperation(ABC):\n",
    "\n",
    "    def __init__(self, operand_a, operand_b):\n",
    "        self.operand_a = operand_a\n",
    "        self.operand_b = operand_b\n",
    "        super(AbstractOperation, self).__init__()\n",
    "\n",
    "    @abstractmethod\n",
    "    def execute(self):\n",
    "        pass\n",
    "\n",
    "\n",
    "class AddOperation(AbstractOperation):\n",
    "    def execute(self):\n",
    "        return self.operand_a + self.operand_b\n",
    "\n",
    "\n",
    "class SubtractOperation(AbstractOperation):\n",
    "    def execute(self):\n",
    "        return self.operand_a - self.operand_b\n",
    "\n",
    "\n",
    "class MultiplyOperation(AbstractOperation):\n",
    "    def execute(self):\n",
    "        return self.operand_a * self.operand_b\n",
    "\n",
    "\n",
    "class DivideOperation(AbstractOperation):\n",
    "    def execute(self):\n",
    "        return self.operand_a / self.operand_b\n",
    "\n",
    "\n",
    "operation = AddOperation(1, 2)\n",
    "print(operation.execute())\n",
    "operation = SubtractOperation(8, 2)\n",
    "print(operation.execute())\n",
    "operation = MultiplyOperation(8, 2)\n",
    "print(operation.execute())\n",
    "operation = DivideOperation(8, 2)\n",
    "print(operation.execute())"
   ]
  },
  {
   "cell_type": "markdown",
   "metadata": {},
   "source": [
    "## Classmethod, Staticmethod"
   ]
  },
  {
   "cell_type": "code",
   "execution_count": 130,
   "metadata": {},
   "outputs": [
    {
     "name": "stdout",
     "output_type": "stream",
     "text": [
      "Adam's age is: 19\n",
      "John's age is: 34\n"
     ]
    }
   ],
   "source": [
    "from datetime import date\n",
    "\n",
    "# random Person\n",
    "class Person:\n",
    "    def __init__(self, name, age):\n",
    "        self.name = name\n",
    "        self.age = age\n",
    "\n",
    "    @classmethod\n",
    "    def fromBirthYear(cls, name, birthYear):\n",
    "        return cls(name, date.today().year - birthYear)\n",
    "\n",
    "    def display(self):\n",
    "        print(self.name + \"'s age is: \" + str(self.age))\n",
    "\n",
    "person = Person('Adam', 19)\n",
    "person.display()\n",
    "\n",
    "person1 = Person.fromBirthYear('John',  1985)\n",
    "person1.display()"
   ]
  },
  {
   "cell_type": "code",
   "execution_count": 132,
   "metadata": {},
   "outputs": [
    {
     "name": "stdout",
     "output_type": "stream",
     "text": [
      "True\n",
      "False\n"
     ]
    }
   ],
   "source": [
    "from datetime import date\n",
    "\n",
    "\n",
    "# random Person\n",
    "class Person:\n",
    "    def __init__(self, name, age):\n",
    "        self.name = name\n",
    "        self.age = age\n",
    "\n",
    "    @staticmethod\n",
    "    def from_fathers_age(name, father_age, father_person_age_diff):\n",
    "        return Person(name, date.today().year - father_age + father_person_age_diff)\n",
    "\n",
    "    @classmethod\n",
    "    def from_birth_year(cls, name, birth_year):\n",
    "        return cls(name, date.today().year - birth_year)\n",
    "\n",
    "    def display(self):\n",
    "        print(self.name + \"'s age is: \" + str(self.age))\n",
    "\n",
    "\n",
    "class Man(Person):\n",
    "    sex = 'Male'\n",
    "\n",
    "\n",
    "man = Man.from_birth_year('John', 1985)\n",
    "print(isinstance(man, Man))\n",
    "\n",
    "man1 = Man.from_fathers_age('John', 1965, 20)\n",
    "print(isinstance(man1, Man))"
   ]
  },
  {
   "cell_type": "code",
   "execution_count": 142,
   "metadata": {},
   "outputs": [
    {
     "name": "stdout",
     "output_type": "stream",
     "text": [
      "Got grades: [90, 80, 85, 94, 70]\n",
      "Invalid!\n"
     ]
    }
   ],
   "source": [
    "class ClassGrades:\n",
    "\n",
    "    def __init__(self, grades):\n",
    "        self.grades = grades\n",
    "\n",
    "    @classmethod\n",
    "    def from_csv(cls, grade_csv_str):\n",
    "        grades = list(map(int, grade_csv_str.split(', ')))\n",
    "        cls.validate(grades)\n",
    "        return cls(grades)\n",
    "\n",
    "\n",
    "    @staticmethod\n",
    "    def validate(grades):\n",
    "        for g in grades:\n",
    "            if g < 0 or g > 100:\n",
    "                raise Exception()\n",
    "\n",
    "try:  \n",
    "    # Try out some valid grades\n",
    "    class_grades_valid = ClassGrades.from_csv('90, 80, 85, 94, 70')\n",
    "    print('Got grades:', class_grades_valid.grades)\n",
    "\n",
    "    # Should fail with invalid grades\n",
    "    class_grades_invalid = ClassGrades.from_csv('92, -15, 99, 101, 77, 65, 100')\n",
    "    print(class_grades_invalid.grades)\n",
    "except:  \n",
    "    print('Invalid!')\n"
   ]
  },
  {
   "cell_type": "code",
   "execution_count": 77,
   "metadata": {},
   "outputs": [
    {
     "name": "stdout",
     "output_type": "stream",
     "text": [
      "{'day': 11, 'month': 9, 'year': 2012}\n"
     ]
    }
   ],
   "source": [
    "class Date(object):\n",
    "\n",
    "    def __init__(self, day=0, month=0, year=0):\n",
    "        self.day = day\n",
    "        self.month = month\n",
    "        self.year = year\n",
    "        \n",
    "    @classmethod\n",
    "    def from_string(cls, date_as_string):\n",
    "        day, month, year = map(int, date_as_string.split('-'))\n",
    "        date1 = cls(day, month, year)\n",
    "        return date1\n",
    "\n",
    "date2 = Date.from_string('11-09-2012')\n",
    "print(date2.__dict__)"
   ]
  },
  {
   "cell_type": "code",
   "execution_count": 1,
   "metadata": {},
   "outputs": [
    {
     "name": "stdout",
     "output_type": "stream",
     "text": [
      "{'name': 0}\n",
      "{'name': 'Funky 1'}\n",
      "<class '__main__.UniqueIdentifier'>\n",
      "<class '__main__.FunkyUniqueIdentifier'>\n",
      "1\n",
      "0\n",
      "Funky 1\n"
     ]
    }
   ],
   "source": [
    "class UniqueIdentifier(object):\n",
    "\n",
    "    value = 0\n",
    "\n",
    "    def __init__(self, name):\n",
    "        self.name = name\n",
    "\n",
    "    @classmethod\n",
    "    def produce(cls):\n",
    "        instance = cls(cls.value)\n",
    "        cls.value += 1\n",
    "        return instance\n",
    "\n",
    "class FunkyUniqueIdentifier(UniqueIdentifier):\n",
    "\n",
    "    @classmethod\n",
    "    def produce(cls):\n",
    "        instance = super(FunkyUniqueIdentifier, cls).produce()\n",
    "        instance.name = \"Funky %s\" % instance.name\n",
    "        return instance\n",
    "\n",
    "\n",
    "x = UniqueIdentifier.produce()\n",
    "y = FunkyUniqueIdentifier.produce()\n",
    "\n",
    "print(x.__dict__)\n",
    "print(y.__dict__)\n",
    "print(type(x))\n",
    "print(type(y))\n",
    "print(x.value)\n",
    "print(x.name)\n",
    "print(y.name)"
   ]
  },
  {
   "cell_type": "markdown",
   "metadata": {},
   "source": [
    "## Class Variable, object variable"
   ]
  },
  {
   "cell_type": "code",
   "execution_count": 79,
   "metadata": {},
   "outputs": [],
   "source": [
    "# empCount is a class variable\n",
    "class Employee:\n",
    "    'Common base class for all employees'\n",
    "    empCount = 0\n",
    "\n",
    "    def __init__(self, name, salary):\n",
    "        self.name = name\n",
    "        self.salary = salary\n",
    "        Employee.empCount += 1\n",
    "\n",
    "    def displayCount(self):\n",
    "        print(\"Total Employee %d\" % Employee.empCount)\n",
    "\n",
    "    def displayEmployee(self):\n",
    "        print(\"Name : \", self.name, \", Salary: \", self.salary)"
   ]
  },
  {
   "cell_type": "code",
   "execution_count": 80,
   "metadata": {},
   "outputs": [
    {
     "name": "stdout",
     "output_type": "stream",
     "text": [
      "Total Employee 2\n"
     ]
    }
   ],
   "source": [
    "# \"This would create first object of Employee class\"\n",
    "emp1 = Employee(\"Zara\", 2000)\n",
    "# \"This would create second object of Employee class\"\n",
    "emp2 = Employee(\"Manni\", 5000)\n",
    "print(\"Total Employee %d\" % Employee.empCount)"
   ]
  },
  {
   "cell_type": "markdown",
   "metadata": {},
   "source": [
    "### But if we change the code to this:"
   ]
  },
  {
   "cell_type": "code",
   "execution_count": 87,
   "metadata": {},
   "outputs": [
    {
     "name": "stdout",
     "output_type": "stream",
     "text": [
      "0\n",
      "1\n"
     ]
    }
   ],
   "source": [
    "class Employee:\n",
    "    'Common base class for all employees'\n",
    "    empCount = 0\n",
    "\n",
    "    def __init__(self, name, salary):\n",
    "        self.name = name\n",
    "        self.salary = salary\n",
    "        self.empCount += 1\n",
    "\n",
    "    def displayCount(self):\n",
    "        print(\"Total Employee %d\" % self.empCount)\n",
    "\n",
    "    def displayEmployee(self):\n",
    "        print(\"Name : \", self.name, \", Salary: \", self.salary)\n",
    "\n",
    "\n",
    "# \"This would create first object of Employee class\"\n",
    "emp1 = Employee(\"Zara\", 2000)\n",
    "# \"This would create second object of Employee class\"\n",
    "emp2 = Employee(\"Manni\", 5000)\n",
    "\n",
    "print(Employee.empCount)\n",
    "print(emp1.empCount)"
   ]
  },
  {
   "cell_type": "markdown",
   "metadata": {},
   "source": [
    "### Although the second code is running without any error but does not satisfy our intention"
   ]
  },
  {
   "cell_type": "markdown",
   "metadata": {},
   "source": [
    "## Another Example for class variable and object variable"
   ]
  },
  {
   "cell_type": "code",
   "execution_count": 82,
   "metadata": {},
   "outputs": [
    {
     "name": "stdout",
     "output_type": "stream",
     "text": [
      "1\n",
      "2\n"
     ]
    }
   ],
   "source": [
    "class A:\n",
    "    i = 1\n",
    "\n",
    "    def __init__(self):\n",
    "        self.i = 2\n",
    "\n",
    "\n",
    "print(A.i)\n",
    "print(A().i)"
   ]
  },
  {
   "cell_type": "markdown",
   "metadata": {},
   "source": [
    "## Method, Classmethod, Staticmethod\n",
    "\n",
    "Assume the class is written for addition\n",
    "\n",
    "- Method : it uses the instance variable (self.x) for addition, which is set by __init__ function\n",
    "\n",
    "- classmethod : it uses class variable for addition\n",
    "\n",
    "- staticmethod : it uses the value of x which is defined in main program (i.e. outside the class)"
   ]
  },
  {
   "cell_type": "code",
   "execution_count": 96,
   "metadata": {},
   "outputs": [
    {
     "name": "stdout",
     "output_type": "stream",
     "text": [
      "method: 14\n",
      "classmethod: 19\n",
      "staticmethod: 30\n"
     ]
    }
   ],
   "source": [
    "#Resource:  https://media.readthedocs.org/pdf/pythonguide/latest/pythonguide.pdf\n",
    "\n",
    "# below x will be used by static method\n",
    "# if we do not define it, the staticmethod will generate error.\n",
    "\n",
    "x = 20\n",
    "\n",
    "\n",
    "class Add(object):\n",
    "    x = 9  # class variable\n",
    "\n",
    "    def __init__(self, x):\n",
    "        self.x = x  # instance variable\n",
    "\n",
    "    def addMethod(self, y):\n",
    "        print(\"method:\", self.x + y)\n",
    "\n",
    "    @classmethod\n",
    "    # as convention, cls must be used for classmethod, instead of self\n",
    "    def addClass(cls, y):\n",
    "        print(\"classmethod:\", cls.x + y)\n",
    "\n",
    "    @staticmethod\n",
    "    def addStatic(y):\n",
    "        print(\"staticmethod:\", x + y)\n",
    "\n",
    "\n",
    "def main():  # method\n",
    "    m = Add(x=4)  # or m=Add(4)\n",
    "    # for method, above x = 4, will be used for addition\n",
    "    m.addMethod(10) # method : 14\n",
    "    # classmethod\n",
    "    c = Add(4)\n",
    "    # for class method, class variable x = 9, will be used for addition\n",
    "    c.addClass(10) # classmethod : 19\n",
    "    # for static method, x=20 (at the top of file), will be used for addition\n",
    "    s = Add(4)\n",
    "    s.addStatic(10)  # staticmethod : 30\n",
    "    \n",
    "main()"
   ]
  },
  {
   "cell_type": "markdown",
   "metadata": {},
   "source": [
    "## Decorator\n",
    "\n",
    "- Decorator is a function that creates a wrapper around another function\n",
    "\n",
    "- This wrapper adds some additional functionality to existing code"
   ]
  },
  {
   "cell_type": "code",
   "execution_count": 2,
   "metadata": {},
   "outputs": [
    {
     "name": "stdout",
     "output_type": "stream",
     "text": [
      "2\n",
      "adding One\n",
      "3\n"
     ]
    }
   ],
   "source": [
    "def addOne(myFunc):\n",
    "    def addOneInside(x):\n",
    "        print(\"adding One\")\n",
    "        return myFunc(x) + 1\n",
    "    return addOneInside\n",
    "\n",
    "def subThree(x):\n",
    "    return x - 3\n",
    "\n",
    "result = addOne(subThree)\n",
    "print(subThree(5))\n",
    "print(result(5))\n"
   ]
  },
  {
   "cell_type": "code",
   "execution_count": 3,
   "metadata": {},
   "outputs": [
    {
     "name": "stdout",
     "output_type": "stream",
     "text": [
      "adding One\n",
      "3\n"
     ]
    }
   ],
   "source": [
    "@addOne\n",
    "def subThree(x):\n",
    "    return x - 3\n",
    "\n",
    "print(subThree(5))"
   ]
  },
  {
   "cell_type": "code",
   "execution_count": 4,
   "metadata": {},
   "outputs": [
    {
     "name": "stdout",
     "output_type": "stream",
     "text": [
      "102334155\n"
     ]
    }
   ],
   "source": [
    "def memoize(f):\n",
    "    memo = {}\n",
    "    def helper(x):\n",
    "        if x not in memo:            \n",
    "            memo[x] = f(x)\n",
    "        return memo[x]\n",
    "    return helper\n",
    "    \n",
    "\n",
    "def fib(n):\n",
    "    if n == 0:\n",
    "        return 0\n",
    "    elif n == 1:\n",
    "        return 1\n",
    "    else:\n",
    "        return fib(n-1) + fib(n-2)\n",
    "\n",
    "result = memoize(fib)\n",
    "\n",
    "print(result(40))"
   ]
  },
  {
   "cell_type": "markdown",
   "metadata": {},
   "source": [
    "### Explain why the above code is slow"
   ]
  },
  {
   "cell_type": "code",
   "execution_count": 5,
   "metadata": {},
   "outputs": [
    {
     "name": "stdout",
     "output_type": "stream",
     "text": [
      "102334155\n"
     ]
    }
   ],
   "source": [
    "def memoize(f):\n",
    "    memo = {}\n",
    "    \n",
    "    def helper(x):\n",
    "        if x not in memo:\n",
    "            memo[x] = f(x)\n",
    "        return memo[x]\n",
    "    return helper\n",
    "\n",
    "\n",
    "def fib(n):\n",
    "    if n == 0:\n",
    "        return 0\n",
    "    elif n == 1:\n",
    "        return 1\n",
    "    else:\n",
    "        return fib(n - 1) + fib(n - 2)\n",
    "\n",
    "\n",
    "fib = memoize(fib)\n",
    "\n",
    "print(fib(40))"
   ]
  },
  {
   "cell_type": "code",
   "execution_count": 6,
   "metadata": {},
   "outputs": [
    {
     "name": "stdout",
     "output_type": "stream",
     "text": [
      "102334155\n"
     ]
    }
   ],
   "source": [
    "@memoize\n",
    "def fib(n):\n",
    "    if n == 0:\n",
    "        return 0\n",
    "    elif n == 1:\n",
    "        return 1\n",
    "    else:\n",
    "        return fib(n - 1) + fib(n - 2)\n",
    "\n",
    "print(fib(40))"
   ]
  },
  {
   "cell_type": "code",
   "execution_count": 19,
   "metadata": {},
   "outputs": [
    {
     "name": "stdout",
     "output_type": "stream",
     "text": [
      "[0, 1, 4, 9, 16]\n"
     ]
    }
   ],
   "source": [
    "def call(*argv, **kwargs):\n",
    "    def call_fn(fn):\n",
    "        return fn(*argv, **kwargs)\n",
    "    return call_fn\n",
    "  \n",
    "#@call(5)\n",
    "def table(n):\n",
    "    value = []\n",
    "    for i in range(n):\n",
    "        value.append(i*i)\n",
    "    return value\n",
    "  \n",
    "table = call(5)(table)\n",
    "print(table)"
   ]
  },
  {
   "cell_type": "code",
   "execution_count": 17,
   "metadata": {},
   "outputs": [
    {
     "name": "stdout",
     "output_type": "stream",
     "text": [
      "[0, 1, 4, 9, 16]\n"
     ]
    }
   ],
   "source": [
    "def call(*argv, **kwargs):\n",
    "    def call_fn(fn):\n",
    "        return fn(*argv, **kwargs)\n",
    "    return call_fn\n",
    "  \n",
    "@call(5)\n",
    "def table(n):\n",
    "    value = []\n",
    "    for i in range(n):\n",
    "        value.append(i*i)\n",
    "    return value\n",
    "  \n",
    "# table = call(5)(table)\n",
    "print(table)\n",
    "# print(len(table), table[3])"
   ]
  },
  {
   "cell_type": "markdown",
   "metadata": {},
   "source": [
    "## Functional Programming"
   ]
  },
  {
   "cell_type": "code",
   "execution_count": 144,
   "metadata": {},
   "outputs": [
    {
     "name": "stdout",
     "output_type": "stream",
     "text": [
      "5\n",
      "1\n"
     ]
    }
   ],
   "source": [
    "def cal(f, x, y):\n",
    "    return f(x, y)\n",
    "\n",
    "def addition(x, y):\n",
    "    return x + y\n",
    "\n",
    "def subtraction(x, y):\n",
    "    return x - y\n",
    "\n",
    "print(cal(addition, 3, 2))\n",
    "\n",
    "print(cal(subtraction, 3, 2))"
   ]
  },
  {
   "cell_type": "code",
   "execution_count": 23,
   "metadata": {},
   "outputs": [
    {
     "name": "stdout",
     "output_type": "stream",
     "text": [
      "[1.0, 1.5, 1.4167, 1.4142]\n"
     ]
    }
   ],
   "source": [
    "def next_(n, x):\n",
    "    return (x+n/x)/2\n",
    "\n",
    "n= 2\n",
    "f= lambda x: next_(n, x)\n",
    "a0= 1.0\n",
    "print([round(x, 4) for x in (a0, f(a0), f(f(a0)), f(f(f(a0))))])"
   ]
  },
  {
   "cell_type": "code",
   "execution_count": 121,
   "metadata": {},
   "outputs": [
    {
     "name": "stdout",
     "output_type": "stream",
     "text": [
      "1\n",
      "1.5\n",
      "1.4166666666666665\n",
      "1.4142156862745097\n"
     ]
    }
   ],
   "source": [
    "m = 4 \n",
    "def repeat(f, a):\n",
    "#     global m\n",
    "    # need global m if want to change m in the function (m = m)\n",
    "    for _ in range(m):\n",
    "        yield a\n",
    "        a = f(a)    \n",
    "    \n",
    "for i in repeat(f, 1):\n",
    "    print(i)"
   ]
  },
  {
   "cell_type": "markdown",
   "metadata": {},
   "source": [
    "### Global Variable "
   ]
  },
  {
   "cell_type": "code",
   "execution_count": 127,
   "metadata": {},
   "outputs": [
    {
     "name": "stdout",
     "output_type": "stream",
     "text": [
      "27\n"
     ]
    }
   ],
   "source": [
    "x = 10\n",
    "def mathEx(a, b):\n",
    "    \"\"\" calculate (a+b)*x \"\"\"\n",
    "    global x\n",
    "    x = x - 1\n",
    "    c=(a+b)*x\n",
    "    return c\n",
    "\n",
    "print(mathEx(1,2))"
   ]
  },
  {
   "cell_type": "code",
   "execution_count": null,
   "metadata": {},
   "outputs": [],
   "source": []
  }
 ],
 "metadata": {
  "kernelspec": {
   "display_name": "Python 3",
   "language": "python",
   "name": "python3"
  },
  "language_info": {
   "codemirror_mode": {
    "name": "ipython",
    "version": 3
   },
   "file_extension": ".py",
   "mimetype": "text/x-python",
   "name": "python",
   "nbconvert_exporter": "python",
   "pygments_lexer": "ipython3",
   "version": "3.6.5"
  }
 },
 "nbformat": 4,
 "nbformat_minor": 2
}
