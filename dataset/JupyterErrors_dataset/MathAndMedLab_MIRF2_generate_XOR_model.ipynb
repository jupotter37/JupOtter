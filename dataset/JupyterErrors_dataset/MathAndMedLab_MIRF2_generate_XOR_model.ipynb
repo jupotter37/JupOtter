{
 "cells": [
  {
   "cell_type": "markdown",
   "metadata": {},
   "source": [
    "# Generatiing .pb file for XOR neural network"
   ]
  },
  {
   "cell_type": "markdown",
   "metadata": {},
   "source": [
    "This notebook includes code for generation of tensorflow .pb file for a simple model. The model will behave like an XOR valve, using two inputs, both of which can be either zero or one, and produce one output that will be zero if both inputs are identical, and one otherwise. In addition, since it will be a deep model, it will have two hidden layers: one with four neurons and the other with three neurons. You can change the number of hidden layers and the number of neurons they contain."
   ]
  },
  {
   "cell_type": "code",
   "execution_count": null,
   "metadata": {},
   "outputs": [],
   "source": [
    "import tflearn\n",
    "import tensorflow as tf"
   ]
  },
  {
   "cell_type": "code",
   "execution_count": null,
   "metadata": {},
   "outputs": [],
   "source": [
    "X = [\n",
    "    [0, 0],\n",
    "    [0, 1],\n",
    "    [1, 0],\n",
    "    [1, 1]\n",
    "]\n",
    " \n",
    "Y = [\n",
    "    [0],  # Desired output for inputs 0, 0\n",
    "    [1],  # Desired output for inputs 0, 1\n",
    "    [1],  # Desired output for inputs 1, 0\n",
    "    [0]   # Desired output for inputs 1, 1\n",
    "]"
   ]
  },
  {
   "cell_type": "code",
   "execution_count": null,
   "metadata": {},
   "outputs": [],
   "source": [
    "weights = tflearn.initializations.uniform(minval = -1, maxval = 1)\n",
    "# Input layer\n",
    "net = tflearn.input_data(\n",
    "        shape = [None, 2],\n",
    "        name = 'my_input'\n",
    ")\n",
    " \n",
    "# Hidden layers\n",
    "net = tflearn.fully_connected(net, 4,\n",
    "        activation = 'sigmoid',\n",
    "        weights_init = weights\n",
    ")\n",
    "net = tflearn.fully_connected(net, 3,\n",
    "        activation = 'sigmoid',\n",
    "        weights_init = weights\n",
    ")\n",
    " \n",
    "# Output layer\n",
    "net = tflearn.fully_connected(net, 1,\n",
    "        activation = 'sigmoid', \n",
    "        weights_init = weights,\n",
    "        name = 'my_output'\n",
    ")"
   ]
  },
  {
   "cell_type": "code",
   "execution_count": null,
   "metadata": {},
   "outputs": [],
   "source": [
    "net = tflearn.regression(net,\n",
    "        learning_rate = 2,\n",
    "        optimizer = 'sgd',\n",
    "        loss = 'mean_square'\n",
    ")\n",
    "model = tflearn.DNN(net)\n",
    "model.fit(X, Y, 5000)"
   ]
  },
  {
   "cell_type": "markdown",
   "metadata": {},
   "source": [
    "Check how our model trained."
   ]
  },
  {
   "cell_type": "code",
   "execution_count": 15,
   "metadata": {},
   "outputs": [
    {
     "name": "stdout",
     "output_type": "stream",
     "text": [
      "1 XOR 0 = 0.980426\n",
      "1 XOR 1 = 0.013819\n",
      "0 XOR 1 = 0.988445\n",
      "0 XOR 0 = 0.028224\n"
     ]
    }
   ],
   "source": [
    "print(\"1 XOR 0 = %f\" % model.predict([[1,0]]).item(0))\n",
    "print(\"1 XOR 1 = %f\" % model.predict([[1,1]]).item(0))\n",
    "print(\"0 XOR 1 = %f\" % model.predict([[0,1]]).item(0))\n",
    "print(\"0 XOR 0 = %f\" % model.predict([[0,0]]).item(0))"
   ]
  },
  {
   "cell_type": "markdown",
   "metadata": {},
   "source": [
    "Removing training information and saving trained model"
   ]
  },
  {
   "cell_type": "code",
   "execution_count": null,
   "metadata": {},
   "outputs": [],
   "source": [
    "# Remove train ops\n",
    "with net.graph.as_default():\n",
    "    del tf.get_collection_ref(tf.GraphKeys.TRAIN_OPS)[:]\n",
    "# Save the model\n",
    "model.save('xor.tflearn')"
   ]
  },
  {
   "cell_type": "markdown",
   "metadata": {},
   "source": [
    "### Freezing model\n",
    "The process of freezing a model involves the conversion of all its variables into constants. In addition, the frozen model must be a single binary file that conforms to the serialization format of the Google Protocol Buffers."
   ]
  },
  {
   "cell_type": "code",
   "execution_count": 1,
   "metadata": {},
   "outputs": [
    {
     "ename": "NameError",
     "evalue": "name 'tf' is not defined",
     "output_type": "error",
     "traceback": [
      "\u001b[0;31m---------------------------------------------------------------------------\u001b[0m",
      "\u001b[0;31mNameError\u001b[0m                                 Traceback (most recent call last)",
      "\u001b[0;32m<ipython-input-1-102b2f685863>\u001b[0m in \u001b[0;36m<module>\u001b[0;34m\u001b[0m\n\u001b[0;32m----> 1\u001b[0;31m \u001b[0;32mwith\u001b[0m \u001b[0mtf\u001b[0m\u001b[0;34m.\u001b[0m\u001b[0mSession\u001b[0m\u001b[0;34m(\u001b[0m\u001b[0;34m)\u001b[0m \u001b[0;32mas\u001b[0m \u001b[0msession\u001b[0m\u001b[0;34m:\u001b[0m\u001b[0;34m\u001b[0m\u001b[0;34m\u001b[0m\u001b[0m\n\u001b[0m\u001b[1;32m      2\u001b[0m     \u001b[0mmy_saver\u001b[0m \u001b[0;34m=\u001b[0m \u001b[0mtf\u001b[0m\u001b[0;34m.\u001b[0m\u001b[0mtrain\u001b[0m\u001b[0;34m.\u001b[0m\u001b[0mimport_meta_graph\u001b[0m\u001b[0;34m(\u001b[0m\u001b[0;34m'xor.tflearn.meta'\u001b[0m\u001b[0;34m)\u001b[0m\u001b[0;34m\u001b[0m\u001b[0;34m\u001b[0m\u001b[0m\n\u001b[1;32m      3\u001b[0m     \u001b[0mmy_saver\u001b[0m\u001b[0;34m.\u001b[0m\u001b[0mrestore\u001b[0m\u001b[0;34m(\u001b[0m\u001b[0msession\u001b[0m\u001b[0;34m,\u001b[0m \u001b[0mtf\u001b[0m\u001b[0;34m.\u001b[0m\u001b[0mtrain\u001b[0m\u001b[0;34m.\u001b[0m\u001b[0mlatest_checkpoint\u001b[0m\u001b[0;34m(\u001b[0m\u001b[0;34m'.'\u001b[0m\u001b[0;34m)\u001b[0m\u001b[0;34m)\u001b[0m\u001b[0;34m\u001b[0m\u001b[0;34m\u001b[0m\u001b[0m\n\u001b[1;32m      4\u001b[0m     \u001b[0;31m# As its inputs, the function expects the current session,\u001b[0m\u001b[0;34m\u001b[0m\u001b[0;34m\u001b[0m\u001b[0;34m\u001b[0m\u001b[0m\n\u001b[1;32m      5\u001b[0m     \u001b[0;31m# the definition of the graph of the current session,\u001b[0m\u001b[0;34m\u001b[0m\u001b[0;34m\u001b[0m\u001b[0;34m\u001b[0m\u001b[0m\n",
      "\u001b[0;31mNameError\u001b[0m: name 'tf' is not defined"
     ]
    }
   ],
   "source": [
    "with tf.Session() as session:\n",
    "    my_saver = tf.train.import_meta_graph('xor.tflearn.meta')\n",
    "    my_saver.restore(session, tf.train.latest_checkpoint('.'))\n",
    "    # As its inputs, the function expects the current session, \n",
    "    # the definition of the graph of the current session,\n",
    "    # a list containing the names of the output levels of the model.\n",
    "    frozen_graph = tf.graph_util.convert_variables_to_constants(\n",
    "        session,\n",
    "        session.graph_def,\n",
    "        ['my_output/Sigmoid']\n",
    "    )\n",
    "    with open('frozen_model.pb', 'wb') as f:\n",
    "        f.write(frozen_graph.SerializeToString())"
   ]
  },
  {
   "cell_type": "code",
   "execution_count": null,
   "metadata": {},
   "outputs": [],
   "source": []
  }
 ],
 "metadata": {
  "kernelspec": {
   "display_name": "Python 3",
   "language": "python",
   "name": "python3"
  },
  "language_info": {
   "codemirror_mode": {
    "name": "ipython",
    "version": 3
   },
   "file_extension": ".py",
   "mimetype": "text/x-python",
   "name": "python",
   "nbconvert_exporter": "python",
   "pygments_lexer": "ipython3",
   "version": "3.7.2"
  }
 },
 "nbformat": 4,
 "nbformat_minor": 2
}
