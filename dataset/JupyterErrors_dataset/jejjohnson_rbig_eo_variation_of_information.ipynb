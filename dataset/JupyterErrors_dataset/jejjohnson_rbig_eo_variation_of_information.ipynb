{
 "cells": [
  {
   "cell_type": "markdown",
   "metadata": {},
   "source": [
    "# Exploring: Variation of Information"
   ]
  },
  {
   "cell_type": "markdown",
   "metadata": {},
   "source": [
    "## Background"
   ]
  },
  {
   "cell_type": "markdown",
   "metadata": {},
   "source": [
    "My projects involve trying to compare the outputs of different climate models. There are currently more than 20+ climate models from different companies and each of them try to produce the most accurate prediction of some physical phenomena, e.g. Sea Surface Temperature, Mean Sea Level Pressure, etc. However, it's a difficult task to provide accurate comparison techniques for each of the models. There exist some methods such as the mean and standard deviation. There is also a very common framework of visually summarizing this information in the form of Taylor Diagrams. However, the drawback of using these methods is that they are typically non-linear methods and they cannot handle multidimensional, multivariate data. \n",
    "\n",
    "Another way to measure similarity would be in the family of Information Theory Measures (ITMs). Instead of directly measuring first-order output statistics, these methods summarize the information via a probability distribution function (PDF) of the dataset. These can measure non-linear relationships and are naturally multivariate that offers solutions to the shortcomings of the standard methods. I would like to explore this and see if this is a useful way of summarizing information."
   ]
  },
  {
   "cell_type": "markdown",
   "metadata": {},
   "source": [
    "This is removing the "
   ]
  },
  {
   "cell_type": "markdown",
   "metadata": {},
   "source": [
    "## Code"
   ]
  },
  {
   "cell_type": "code",
   "execution_count": 13,
   "metadata": {},
   "outputs": [
    {
     "name": "stdout",
     "output_type": "stream",
     "text": [
      "The autoreload extension is already loaded. To reload it, use:\n",
      "  %reload_ext autoreload\n"
     ]
    }
   ],
   "source": [
    "import numpy as np\n",
    "import seaborn as sns\n",
    "import pandas as pd\n",
    "import statsmodels.api as smi\n",
    "\n",
    "import sys\n",
    "sys.path.insert(0, '/home/emmanuel/code/kernel_model_zoo/')\n",
    "\n",
    "\n",
    "import matplotlib.pyplot as plt\n",
    "plt.style.use('seaborn-talk')\n",
    "\n",
    "%matplotlib inline\n",
    "%load_ext autoreload\n",
    "%autoreload 2"
   ]
  },
  {
   "cell_type": "code",
   "execution_count": 14,
   "metadata": {},
   "outputs": [],
   "source": [
    "from kernellib.dependence import HSIC"
   ]
  },
  {
   "cell_type": "code",
   "execution_count": 15,
   "metadata": {},
   "outputs": [],
   "source": [
    "SAVE_PATH = \"/home/emmanuel/projects/2020_rbig_rs/reports/figures/explore/vi/\""
   ]
  },
  {
   "cell_type": "markdown",
   "metadata": {},
   "source": [
    "## Data"
   ]
  },
  {
   "cell_type": "markdown",
   "metadata": {},
   "source": [
    "We will use the classic dataset for Anscombe's quartet. This is a staple dataset which shows how we need to take care when comparing two datasets. In the example, we will show how visually, two datasets will look similar, but using a correlation measure like the Pearson's coefficient will fail because it is not able to capture the non-linear relationship between the two distributions."
   ]
  },
  {
   "cell_type": "code",
   "execution_count": 418,
   "metadata": {},
   "outputs": [],
   "source": [
    "# load dataset\n",
    "df_anscombe = sns.load_dataset('anscombe')"
   ]
  },
  {
   "cell_type": "code",
   "execution_count": 419,
   "metadata": {},
   "outputs": [
    {
     "data": {
      "text/plain": [
       "array(['I', 'II', 'III', 'IV'], dtype=object)"
      ]
     },
     "execution_count": 419,
     "metadata": {},
     "output_type": "execute_result"
    }
   ],
   "source": [
    "df_anscombe.dataset.unique()"
   ]
  },
  {
   "cell_type": "code",
   "execution_count": 420,
   "metadata": {},
   "outputs": [],
   "source": [
    "def get_case(df: pd.DataFrame, case: str='I'):\n",
    "    return df[df['dataset'] == case]"
   ]
  },
  {
   "cell_type": "code",
   "execution_count": null,
   "metadata": {},
   "outputs": [],
   "source": []
  },
  {
   "cell_type": "code",
   "execution_count": 423,
   "metadata": {},
   "outputs": [],
   "source": [
    "def plot_cases(df: pd.DataFrame, case: str='I', save=True, plot_type='reg'):\n",
    "    \n",
    "    df = get_case(df, case)\n",
    "    \n",
    "    plt.figure(figsize=(4,4))\n",
    "    if plot_type == 'reg':\n",
    "        pts = sns.regplot(\n",
    "            x=\"x\", \n",
    "            y=\"y\", \n",
    "            data=df, \n",
    "        )\n",
    "    elif plot_type == 'joint':\n",
    "        pts = sns.jointplot(\n",
    "            x=\"x\", \n",
    "            y=\"y\", \n",
    "            data=df, \n",
    "            kind=\"regplot\",\n",
    "        )\n",
    "    elif plot_type == 'density':\n",
    "        pts = sns.jointplot(\n",
    "            x=\"x\", \n",
    "            y=\"y\", \n",
    "            data=df, \n",
    "            kind=\"kde\",\n",
    "        )\n",
    "    else:\n",
    "        raise ValueError('')\n",
    "    plt.xlabel(\"\")\n",
    "    plt.ylabel(\"\")\n",
    "    plt.xticks([])\n",
    "    plt.yticks([])\n",
    "#     plt.axis('off')\n",
    "    plt.tight_layout()\n",
    "    if save is not None:\n",
    "        plt.savefig(SAVE_PATH + f'demo_case{case}_{plot_type}.png', dpi=200, transparent=True)\n",
    "    return None\n"
   ]
  },
  {
   "cell_type": "code",
   "execution_count": 431,
   "metadata": {},
   "outputs": [
    {
     "data": {
      "image/png": "[encoded data removed]",
      "text/plain": [
       "<Figure size 288x288 with 1 Axes>"
      ]
     },
     "metadata": {},
     "output_type": "display_data"
    }
   ],
   "source": [
    "plot_cases(df_anscombe, 'III', plot_type='reg')"
   ]
  },
  {
   "cell_type": "markdown",
   "metadata": {},
   "source": [
    "This is a very simple case where we have a linear relationship between the datasets. The regression plot above shows a linear line that is fit between the two distributions. We can also see the marginal distributions (the histograms) for X and Y. As you can see, they are definitely similar. But now, we are going to look at a way to summarize this information."
   ]
  },
  {
   "cell_type": "markdown",
   "metadata": {},
   "source": [
    "## Mathematics\n",
    "\n",
    "There are a few important quantities to consider when we need to represent the statistics and compare two datasets. \n",
    "\n",
    "* Variance\n",
    "* Covariance\n",
    "* Correlation\n",
    "* Root Mean Squared"
   ]
  },
  {
   "cell_type": "markdown",
   "metadata": {},
   "source": [
    "### Covariance\n",
    "\n",
    "The covariance is a measure to determine how much two variances change. The covariance between X and Y is given by:\n",
    "\n",
    "$$C(X,Y)=\\frac{1}{N}\\sum_{i=1}^N (x_i - \\mu_x)(y_i - \\mu_i)$$\n",
    "\n",
    "where $N$ is the number of elements in both datasets. Notice how this formula assumes that the number of samples for X and Y are equivalent. This measure is unbounded as it can have a value between $-\\infty$ and $\\infty$. Let's look at an example of how to calculate this below."
   ]
  },
  {
   "cell_type": "code",
   "execution_count": 21,
   "metadata": {},
   "outputs": [],
   "source": [
    "# covariance formula\n",
    "def cov(X, Y):\n",
    "    \n",
    "    n_samples = X.shape[0]\n",
    "    \n",
    "    # get mean\n",
    "    X_mu = X.mean()\n",
    "    Y_mu = Y.mean()\n",
    "        \n",
    "    cov_xy = 0\n",
    "\n",
    "    # loop through the data points\n",
    "    for ix in range(n_samples):\n",
    "        cov_xy += (X.values[ix] - X_mu) * (Y.values[ix] - Y_mu)\n",
    "        \n",
    "    \n",
    "    return cov_xy / n_samples"
   ]
  },
  {
   "cell_type": "code",
   "execution_count": 22,
   "metadata": {},
   "outputs": [
    {
     "name": "stdout",
     "output_type": "stream",
     "text": [
      "5.000909090909091\n"
     ]
    }
   ],
   "source": [
    "# extract the data\n",
    "X = get_case(df_anscombe, 'I')['x']\n",
    "Y = get_case(df_anscombe, 'I')['y']\n",
    "\n",
    "# get covariance\n",
    "cov_xy = cov(X,Y)\n",
    "\n",
    "print(cov_xy)"
   ]
  },
  {
   "cell_type": "code",
   "execution_count": 23,
   "metadata": {},
   "outputs": [
    {
     "data": {
      "text/plain": [
       "(11, 1)"
      ]
     },
     "execution_count": 23,
     "metadata": {},
     "output_type": "execute_result"
    }
   ],
   "source": [
    "X.values[:, None].reshape(-1, 1).shape"
   ]
  },
  {
   "cell_type": "markdown",
   "metadata": {},
   "source": [
    "That number is fairly meaningless now. But we can compare the covariance number of this versus the other cases."
   ]
  },
  {
   "cell_type": "markdown",
   "metadata": {},
   "source": [
    "#### Refactor\n",
    "\n",
    "We can remove the loop by doing a matrix multiplication.\n",
    "\n",
    "$$C(X,Y)=\\frac{1}{N} (X-X_\\mu)^\\top (Y-Y_\\mu)$$\n",
    "\n",
    "where $X,Y \\in \\mathbb{R}^{N\\times 1}$"
   ]
  },
  {
   "cell_type": "code",
   "execution_count": 24,
   "metadata": {},
   "outputs": [],
   "source": [
    "np.dot(X[:, None].T-X.mean(), Y[:, None]-Y.mean())/X.shape[0]\n",
    "\n",
    "# covariance formula\n",
    "def cov(X, Y):\n",
    "    \n",
    "    n_samples = X.shape[0]\n",
    "    \n",
    "    # get mean\n",
    "    X_mu = X.mean()\n",
    "    Y_mu = Y.mean()\n",
    "        \n",
    "    # remove mean from data\n",
    "    X -= X_mu\n",
    "    Y -= Y_mu\n",
    "    \n",
    "    # Ensure 2d\n",
    "    X = np.atleast_2d(X).reshape(-1, 1)\n",
    "    Y = np.atleast_2d(Y).reshape(-1, 1)\n",
    "\n",
    "    # calculate the covariance\n",
    "    cov_xy = X.T @ Y    \n",
    "    return (cov_xy / n_samples).item()"
   ]
  },
  {
   "cell_type": "code",
   "execution_count": 25,
   "metadata": {},
   "outputs": [],
   "source": [
    "def test_anscombe(func, save_name=None):\n",
    "    \n",
    "    fig, axs = plt.subplots(nrows=2, ncols=2, figsize=(7,5))\n",
    "\n",
    "    for iax, icase in zip(axs.ravel(), ['I', 'II', 'III', 'IV']):\n",
    "\n",
    "        # data\n",
    "        X = get_case(df_anscombe, icase)['x']\n",
    "        Y = get_case(df_anscombe, icase)['y']\n",
    "\n",
    "        output = func(X.values,Y.values)\n",
    "\n",
    "        iax.scatter(X.values, Y.values, label=f\"Case {icase}: $C$={output:.2f}\")\n",
    "        iax.legend()\n",
    "    #     iax.legend(f\"Case: {icase}\")\n",
    "        # get covariance\n",
    "\n",
    "\n",
    "    #     print(f\"Case {icase}: {cov_xy.item()}\")\n",
    "    plt.tight_layout()\n",
    "    \n",
    "    if save_name is not None:\n",
    "        plt.savefig(SAVE_PATH + f\"demo_{save_name}.png\")\n",
    "        \n",
    "    plt.show()"
   ]
  },
  {
   "cell_type": "code",
   "execution_count": 26,
   "metadata": {},
   "outputs": [
    {
     "data": {
      "image/png": "[encoded data removed]",
      "text/plain": [
       "<Figure size 504x360 with 4 Axes>"
      ]
     },
     "metadata": {
      "needs_background": "light"
     },
     "output_type": "display_data"
    }
   ],
   "source": [
    "test_anscombe(cov, 'cov')"
   ]
  },
  {
   "cell_type": "markdown",
   "metadata": {},
   "source": [
    "#### Multi-Variate (Multi-Dimensional)"
   ]
  },
  {
   "cell_type": "code",
   "execution_count": 408,
   "metadata": {},
   "outputs": [
    {
     "name": "stdout",
     "output_type": "stream",
     "text": [
      "(20, 2) (20, 2) (40, 40)\n"
     ]
    }
   ],
   "source": [
    "np.random.seed(123)\n",
    "\n",
    "X = np.random.randn(20, 2)\n",
    "Y = 0.5 * X\n",
    "\n",
    "# calculate covariance matrix\n",
    "cov = np.cov(X.squeeze(), Y.squeeze())\n",
    "\n",
    "print(X.shape, Y.shape, cov.shape)"
   ]
  },
  {
   "cell_type": "code",
   "execution_count": 409,
   "metadata": {},
   "outputs": [
    {
     "data": {
      "text/plain": [
       "(40, 40)"
      ]
     },
     "execution_count": 409,
     "metadata": {},
     "output_type": "execute_result"
    }
   ],
   "source": [
    "cov.shape"
   ]
  },
  {
   "cell_type": "code",
   "execution_count": 410,
   "metadata": {},
   "outputs": [],
   "source": [
    "def cov_hs_features(X, Y):\n",
    "    \n",
    "    # calculate covariance matrix\n",
    "    cov_xy = np.cov(X, Y)\n",
    "    \n",
    "    # summarize information\n",
    "    cov_sum = np.linalg.norm(cov, ord='fro')\n",
    "    \n",
    "    return cov_sum"
   ]
  },
  {
   "cell_type": "code",
   "execution_count": 411,
   "metadata": {},
   "outputs": [
    {
     "name": "stdout",
     "output_type": "stream",
     "text": [
      "379.05326003069405\n",
      "379.053260030694\n"
     ]
    }
   ],
   "source": [
    "# ||X.T @ Y||_F - feature space \n",
    "lhs = np.linalg.norm(X.T @ Y, ord='fro')**2\n",
    "print(lhs)\n",
    "\n",
    "# ||XX.T @ YY.T||_F - sample space\n",
    "mhs = np.trace(X @ X.T @ Y @ Y.T)\n",
    "print(mhs)"
   ]
  },
  {
   "cell_type": "code",
   "execution_count": 412,
   "metadata": {},
   "outputs": [
    {
     "name": "stdout",
     "output_type": "stream",
     "text": [
      "913.0831824181817\n",
      "379.053260030694\n"
     ]
    }
   ],
   "source": [
    "# ||X.T @ Y||_F - feature space \n",
    "lhs = np.linalg.norm(np.cov(X,Y), ord='fro')**2\n",
    "print(lhs)\n",
    "\n",
    "# ||XX.T @ YY.T||_F - sample space\n",
    "mhs = np.trace(X @ X.T @ Y @ Y.T)\n",
    "print(mhs)"
   ]
  },
  {
   "cell_type": "code",
   "execution_count": 396,
   "metadata": {},
   "outputs": [
    {
     "name": "stdout",
     "output_type": "stream",
     "text": [
      "1.0\n"
     ]
    }
   ],
   "source": [
    "# RHS\n",
    "raw = np.trace(X @ Y.T) / np.sqrt(np.trace(X @ X.T) * np.trace(Y @ Y.T))\n",
    "print(raw)\n",
    "\n",
    "# MHS\n"
   ]
  },
  {
   "cell_type": "markdown",
   "metadata": {},
   "source": [
    "#### Formula 1\n",
    "\n",
    "$$\\frac{tr(XY^\\top}{\\sqrt{tr(XX^\\top)tr(YY^T)}}$$"
   ]
  },
  {
   "cell_type": "code",
   "execution_count": 404,
   "metadata": {},
   "outputs": [
    {
     "name": "stdout",
     "output_type": "stream",
     "text": [
      "1.0\n",
      "229.5889532845504 15.152193018984098\n"
     ]
    }
   ],
   "source": [
    "# raw formula\n",
    "raw = np.trace(X @ Y.T) / np.sqrt(np.trace(X @ X.T) * np.trace(Y @ Y.T))\n",
    "\n",
    "print(raw)\n",
    "\n",
    "# numerator \n",
    "numer1 = np.trace(X @ Y.T)**2\n",
    "numer2 = np.linalg.norm(X @ Y.T)\n",
    "print(numer1, numer2)\n"
   ]
  },
  {
   "cell_type": "markdown",
   "metadata": {},
   "source": [
    "#### Formula II\n",
    "\n",
    "$$\\frac{tr(XX\\top YY^\\top)}{\\sqrt{tr(XX^\\top XX^\\top)tr(YY^\\top YY^\\top)}}$$"
   ]
  },
  {
   "cell_type": "code",
   "execution_count": 395,
   "metadata": {},
   "outputs": [
    {
     "name": "stdout",
     "output_type": "stream",
     "text": [
      "0.9999999999999999\n",
      "229.5889532845504 229.58895328455043\n",
      "229.58895328455043 229.58895328455043\n"
     ]
    }
   ],
   "source": [
    "# formula 2\n",
    "S = X @ X.T\n",
    "T = Y @ Y.T\n",
    "\n",
    "raw  = np.trace(S.T @ T) / np.sqrt(np.trace(S.T @ S) * np.trace(T.T @ T))\n",
    "\n",
    "print(raw)\n",
    "\n",
    "# numerator \n",
    "numer1 = np.trace(S.T @ T)\n",
    "numer2 = np.linalg.norm(S.T @ T)\n",
    "print(numer1, numer2)\n",
    "\n",
    "# denominator\n",
    "denom1 = np.sqrt(np.trace(S.T @ S) * np.trace(T.T @ T))\n",
    "denom2 = np.sqrt(np.linalg.norm(S.T @ S) * np.linalg.norm(T.T @ T))\n",
    "print(denom1, denom2)"
   ]
  },
  {
   "cell_type": "markdown",
   "metadata": {},
   "source": [
    "#### Proposed\n",
    "\n",
    "$$\\frac{tr(X^\\top Y)}{\\sqrt{tr(X^\\top X)tr(Y^\\top Y)}}$$"
   ]
  },
  {
   "cell_type": "code",
   "execution_count": 390,
   "metadata": {},
   "outputs": [
    {
     "name": "stdout",
     "output_type": "stream",
     "text": [
      "1.0\n",
      "15.152193018984097 15.152193018984097\n"
     ]
    }
   ],
   "source": [
    "# proposed\n",
    "raw = np.trace(X.T @ Y) / np.sqrt(np.trace(X.T @ X) * np.trace(Y.T @ Y))\n",
    "\n",
    "print(raw)\n",
    "\n",
    "# numerator \n",
    "numer1 = np.trace(X.T @ Y)\n",
    "numer2 = np.linalg.norm(X.T @ Y)\n",
    "print(numer1, numer2)"
   ]
  },
  {
   "cell_type": "code",
   "execution_count": 334,
   "metadata": {},
   "outputs": [
    {
     "name": "stdout",
     "output_type": "stream",
     "text": [
      "1.1016198535241324\n",
      "0.9077541556653632\n"
     ]
    }
   ],
   "source": [
    "cov_feat_norm = cov_hs_features(X, Y)\n",
    "print(cov_feat_norm)\n",
    "\n",
    "X_ft_norm = cov_hs_features(X,X)\n",
    "Y_ft_norm = cov_hs_features(Y,Y)\n",
    "\n",
    "corr_feat_norm = cov_feat_norm / (X_ft_norm * Y_ft_norm)\n",
    "print(corr_feat_norm)"
   ]
  },
  {
   "cell_type": "code",
   "execution_count": 352,
   "metadata": {},
   "outputs": [
    {
     "ename": "ValueError",
     "evalue": "all the input array dimensions for the concatenation axis must match exactly, but along dimension 1, the array at index 0 has size 1 and the array at index 1 has size 20",
     "output_type": "error",
     "traceback": [
      "\u001b[0;31m---------------------------------------------------------------------------\u001b[0m",
      "\u001b[0;31mValueError\u001b[0m                                Traceback (most recent call last)",
      "\u001b[0;32m<ipython-input-352-625ad9b4cf86>\u001b[0m in \u001b[0;36m<module>\u001b[0;34m\u001b[0m\n\u001b[0;32m----> 1\u001b[0;31m \u001b[0mnp\u001b[0m\u001b[0;34m.\u001b[0m\u001b[0minner\u001b[0m\u001b[0;34m(\u001b[0m\u001b[0mnp\u001b[0m\u001b[0;34m.\u001b[0m\u001b[0mcov\u001b[0m\u001b[0;34m(\u001b[0m\u001b[0mX\u001b[0m\u001b[0;34m,\u001b[0m\u001b[0mX\u001b[0m\u001b[0;34m.\u001b[0m\u001b[0mT\u001b[0m\u001b[0;34m)\u001b[0m\u001b[0;34m,\u001b[0m \u001b[0mnp\u001b[0m\u001b[0;34m.\u001b[0m\u001b[0mcov\u001b[0m\u001b[0;34m(\u001b[0m\u001b[0mY\u001b[0m\u001b[0;34m,\u001b[0m\u001b[0mY\u001b[0m\u001b[0;34m.\u001b[0m\u001b[0mT\u001b[0m\u001b[0;34m)\u001b[0m\u001b[0;34m)\u001b[0m\u001b[0;34m\u001b[0m\u001b[0;34m\u001b[0m\u001b[0m\n\u001b[0m",
      "\u001b[0;32m<__array_function__ internals>\u001b[0m in \u001b[0;36mcov\u001b[0;34m(*args, **kwargs)\u001b[0m\n",
      "\u001b[0;32m~/.conda/envs/it4dnn/lib/python3.6/site-packages/numpy/lib/function_base.py\u001b[0m in \u001b[0;36mcov\u001b[0;34m(m, y, rowvar, bias, ddof, fweights, aweights)\u001b[0m\n\u001b[1;32m   2388\u001b[0m         \u001b[0;32mif\u001b[0m \u001b[0;32mnot\u001b[0m \u001b[0mrowvar\u001b[0m \u001b[0;32mand\u001b[0m \u001b[0my\u001b[0m\u001b[0;34m.\u001b[0m\u001b[0mshape\u001b[0m\u001b[0;34m[\u001b[0m\u001b[0;36m0\u001b[0m\u001b[0;34m]\u001b[0m \u001b[0;34m!=\u001b[0m \u001b[0;36m1\u001b[0m\u001b[0;34m:\u001b[0m\u001b[0;34m\u001b[0m\u001b[0;34m\u001b[0m\u001b[0m\n\u001b[1;32m   2389\u001b[0m             \u001b[0my\u001b[0m \u001b[0;34m=\u001b[0m \u001b[0my\u001b[0m\u001b[0;34m.\u001b[0m\u001b[0mT\u001b[0m\u001b[0;34m\u001b[0m\u001b[0;34m\u001b[0m\u001b[0m\n\u001b[0;32m-> 2390\u001b[0;31m         \u001b[0mX\u001b[0m \u001b[0;34m=\u001b[0m \u001b[0mnp\u001b[0m\u001b[0;34m.\u001b[0m\u001b[0mconcatenate\u001b[0m\u001b[0;34m(\u001b[0m\u001b[0;34m(\u001b[0m\u001b[0mX\u001b[0m\u001b[0;34m,\u001b[0m \u001b[0my\u001b[0m\u001b[0;34m)\u001b[0m\u001b[0;34m,\u001b[0m \u001b[0maxis\u001b[0m\u001b[0;34m=\u001b[0m\u001b[0;36m0\u001b[0m\u001b[0;34m)\u001b[0m\u001b[0;34m\u001b[0m\u001b[0;34m\u001b[0m\u001b[0m\n\u001b[0m\u001b[1;32m   2391\u001b[0m \u001b[0;34m\u001b[0m\u001b[0m\n\u001b[1;32m   2392\u001b[0m     \u001b[0;32mif\u001b[0m \u001b[0mddof\u001b[0m \u001b[0;32mis\u001b[0m \u001b[0;32mNone\u001b[0m\u001b[0;34m:\u001b[0m\u001b[0;34m\u001b[0m\u001b[0;34m\u001b[0m\u001b[0m\n",
      "\u001b[0;32m<__array_function__ internals>\u001b[0m in \u001b[0;36mconcatenate\u001b[0;34m(*args, **kwargs)\u001b[0m\n",
      "\u001b[0;31mValueError\u001b[0m: all the input array dimensions for the concatenation axis must match exactly, but along dimension 1, the array at index 0 has size 1 and the array at index 1 has size 20"
     ]
    }
   ],
   "source": [
    "np.inner(np.cov(X,X.T), np.cov(Y,Y.T))"
   ]
  },
  {
   "cell_type": "code",
   "execution_count": 328,
   "metadata": {},
   "outputs": [],
   "source": [
    "def cov_hs_samples(X, Y):\n",
    "    \n",
    "    # calculate samples covariance matrix\n",
    "    K_x = np.cov(X.T)\n",
    "    K_y = np.cov(Y.T)\n",
    "    \n",
    "    # summarize\n",
    "    return np.sum(K_x * K_y)"
   ]
  },
  {
   "cell_type": "code",
   "execution_count": 336,
   "metadata": {},
   "outputs": [
    {
     "name": "stdout",
     "output_type": "stream",
     "text": [
      "0.0014930782114528126\n",
      "1.0\n"
     ]
    }
   ],
   "source": [
    "cov_samp_norm = cov_hs_samples(X, Y)\n",
    "print(cov_samp_norm)\n",
    "\n",
    "X_samp_norm = cov_hs_samples(X,X)\n",
    "Y_samp_norm = cov_hs_samples(Y,Y)\n",
    "\n",
    "corr_samp_norm = cov_samp_norm / np.sqrt(X_samp_norm * Y_samp_norm)\n",
    "print(corr_samp_norm)"
   ]
  },
  {
   "cell_type": "code",
   "execution_count": 330,
   "metadata": {},
   "outputs": [
    {
     "name": "stdout",
     "output_type": "stream",
     "text": [
      "1.1016198535241324\n"
     ]
    }
   ],
   "source": [
    "cov_norm = cov_hs_features(X, Y)\n",
    "print(cov_norm)"
   ]
  },
  {
   "cell_type": "code",
   "execution_count": 279,
   "metadata": {},
   "outputs": [],
   "source": [
    "def get_linear_hsic(X, Y):\n",
    "    \n",
    "    hsic_model = HSIC(kernel='linear', scorer='hsic', bias=True)\n",
    "\n",
    "    hsic_model.fit(X,Y);\n",
    "\n",
    "    hsic_score = hsic_model.score(X)\n",
    "    \n",
    "    return hsic_score"
   ]
  },
  {
   "cell_type": "code",
   "execution_count": 338,
   "metadata": {},
   "outputs": [],
   "source": [
    "def get_linear_cka(X, Y):\n",
    "    \n",
    "    hsic_model = HSIC(kernel='linear', scorer='tka')\n",
    "\n",
    "    hsic_model.fit(X,Y);\n",
    "\n",
    "    hsic_score = hsic_model.score(X)\n",
    "    \n",
    "    return hsic_score"
   ]
  },
  {
   "cell_type": "code",
   "execution_count": 339,
   "metadata": {},
   "outputs": [
    {
     "name": "stdout",
     "output_type": "stream",
     "text": [
      "1.0000000000000002\n"
     ]
    }
   ],
   "source": [
    "cka_score = get_linear_cka(X, Y)\n",
    "print(cka_score)"
   ]
  },
  {
   "cell_type": "code",
   "execution_count": 281,
   "metadata": {},
   "outputs": [
    {
     "name": "stdout",
     "output_type": "stream",
     "text": [
      "0.0060638424362907456\n"
     ]
    }
   ],
   "source": [
    "hsic_score = get_linear_hsic(X, Y)\n",
    "print(hsic_score)"
   ]
  },
  {
   "cell_type": "code",
   "execution_count": 286,
   "metadata": {},
   "outputs": [
    {
     "data": {
      "text/plain": [
       "0.00671893898757977"
      ]
     },
     "execution_count": 286,
     "metadata": {},
     "output_type": "execute_result"
    }
   ],
   "source": [
    "# Samples Covariance Trace\n",
    "np.trace(np.cov(X.T) @ np.cov(Y.T))"
   ]
  },
  {
   "cell_type": "code",
   "execution_count": 288,
   "metadata": {},
   "outputs": [
    {
     "data": {
      "text/plain": [
       "0.20492283589774365"
      ]
     },
     "execution_count": 288,
     "metadata": {},
     "output_type": "execute_result"
    }
   ],
   "source": [
    "# Feature Covariance Trace\n",
    "np.linalg.norm(np.cov(X,Y), ord='fro')"
   ]
  },
  {
   "cell_type": "code",
   "execution_count": 271,
   "metadata": {},
   "outputs": [
    {
     "data": {
      "text/plain": [
       "13.366924136623567"
      ]
     },
     "execution_count": 271,
     "metadata": {},
     "output_type": "execute_result"
    }
   ],
   "source": [
    "np.linalg.norm(X.T @ Y, ord='fro')"
   ]
  },
  {
   "cell_type": "code",
   "execution_count": 269,
   "metadata": {},
   "outputs": [],
   "source": [
    "def corr_hs(X, Y):\n",
    "    \n",
    "    # calculate summarize covariance matrix\n",
    "    cov_sum = cov_hs(X, Y)\n",
    "    \n",
    "    # summarize \n",
    "    X_sum = cov_hs(X, X)\n",
    "    Y_sum = cov_hs(Y, Y)\n",
    "    \n",
    "    # calculate correlation\n",
    "    return cov_sum / np.sqrt(X_sum * Y_sum)"
   ]
  },
  {
   "cell_type": "code",
   "execution_count": 270,
   "metadata": {},
   "outputs": [
    {
     "name": "stdout",
     "output_type": "stream",
     "text": [
      "1.0\n"
     ]
    }
   ],
   "source": [
    "corr_sum = corr_hs(X,Y)\n",
    "print(corr_sum)"
   ]
  },
  {
   "cell_type": "code",
   "execution_count": null,
   "metadata": {},
   "outputs": [],
   "source": []
  },
  {
   "cell_type": "code",
   "execution_count": 235,
   "metadata": {},
   "outputs": [
    {
     "data": {
      "text/plain": [
       "array([[2.55059567, 2.2232904 , 1.81886892, 2.1282874 , 2.6284517 ],\n",
       "       [2.2232904 , 3.78740257, 2.82952369, 2.78454246, 2.93383308],\n",
       "       [1.81886892, 2.82952369, 2.83388253, 2.62597812, 2.54855784],\n",
       "       [2.1282874 , 2.78454246, 2.62597812, 2.92247425, 2.66389554],\n",
       "       [2.6284517 , 2.93383308, 2.54855784, 2.66389554, 3.48777985]])"
      ]
     },
     "execution_count": 235,
     "metadata": {},
     "output_type": "execute_result"
    }
   ],
   "source": [
    "# calculate empirical covariance\n",
    "cov = X.T @ Y\n",
    "assert cov.shape == (X.shape[1], Y.shape[1])\n",
    "\n",
    "cov"
   ]
  },
  {
   "cell_type": "markdown",
   "metadata": {},
   "source": [
    "So, we see that the covariance doesn't seem to change very much between datasets. "
   ]
  },
  {
   "cell_type": "markdown",
   "metadata": {},
   "source": [
    "### Correlation\n",
    "\n",
    "This is the normalized version of the covariance measured mentioned above. This is done by dividing the covariance by the product of the standard deviation of the two samples X and Y. So the forumaltion is:\n",
    "\n",
    "$$\\rho(X, Y) = \\frac{C(X,Y)}{\\sigma_x \\sigma_y}$$\n",
    "\n",
    "With this normalization, we now have a measure that is bounded between -1 and 1. This makes it much more interpretable and also invariant to isotropic scaling, $\\rho(X,Y)=\\rho(\\alpha X, \\beta Y)$ where $\\alpha, \\beta \\in \\mathbb{R}^{+}$"
   ]
  },
  {
   "cell_type": "code",
   "execution_count": 27,
   "metadata": {},
   "outputs": [],
   "source": [
    "def corr(X, Y):\n",
    "    \n",
    "    # get standard deviation\n",
    "    X_std, Y_std = X.std(), Y.std()\n",
    "    \n",
    "    # calculate the correlation\n",
    "    cov_xy = cov(X, Y)\n",
    "    \n",
    "    # calculate the correlation\n",
    "    return (cov_xy / (X_std * Y_std)).item()"
   ]
  },
  {
   "cell_type": "code",
   "execution_count": 28,
   "metadata": {},
   "outputs": [
    {
     "name": "stdout",
     "output_type": "stream",
     "text": [
      "0.7422004694043999\n"
     ]
    }
   ],
   "source": [
    "corr_xy = corr(X, Y)\n",
    "\n",
    "print(corr_xy)"
   ]
  },
  {
   "cell_type": "markdown",
   "metadata": {},
   "source": [
    "Now that it is bounded between -1 and 1, this value let's us know that this value is equivalent to being close to 1. So fairly similar."
   ]
  },
  {
   "cell_type": "code",
   "execution_count": 29,
   "metadata": {},
   "outputs": [
    {
     "data": {
      "image/png": "[encoded data removed]",
      "text/plain": [
       "<Figure size 504x360 with 4 Axes>"
      ]
     },
     "metadata": {
      "needs_background": "light"
     },
     "output_type": "display_data"
    }
   ],
   "source": [
    "test_anscombe(corr, 'corr')"
   ]
  },
  {
   "cell_type": "markdown",
   "metadata": {},
   "source": [
    "So at this point, this is a bit of a red flag. All of the $\\rho$ values are the same but we can see very clearly that there are some key differences between the distributions. The covariance nor the correlation measure gave us useful information."
   ]
  },
  {
   "cell_type": "markdown",
   "metadata": {},
   "source": [
    "### Root Mean Squared\n",
    "\n",
    "This is a popular measure for measuring the errors between two datasets. More or less, it is a covariance measure that penalizes higher deviations between the datasets."
   ]
  },
  {
   "cell_type": "code",
   "execution_count": 30,
   "metadata": {},
   "outputs": [],
   "source": [
    "# covariance formula\n",
    "def rmse(X, Y):\n",
    "    \n",
    "    n_samples = X.shape[0]\n",
    "    \n",
    "    # get mean\n",
    "    X_mu = X.mean()\n",
    "    Y_mu = Y.mean()\n",
    "        \n",
    "    # remove mean from data\n",
    "    X -= X_mu\n",
    "    Y -= Y_mu\n",
    "\n",
    "    # calculate the squared covariance\n",
    "    cov_xy = np.average((X - Y) ** 2, axis=0)   \n",
    "    \n",
    "    return np.sqrt((cov_xy))"
   ]
  },
  {
   "cell_type": "code",
   "execution_count": 31,
   "metadata": {},
   "outputs": [
    {
     "name": "stdout",
     "output_type": "stream",
     "text": [
      "1.936554834777258\n"
     ]
    }
   ],
   "source": [
    "rmse_xy = rmse(X, Y)\n",
    "\n",
    "print(rmse_xy)"
   ]
  },
  {
   "cell_type": "markdown",
   "metadata": {},
   "source": [
    "#### Refactor\n",
    "\n",
    "The scikit-learn library has a built-in `mean_sqared_error` function which you can call and then use the `np.sqrt` on the output."
   ]
  },
  {
   "cell_type": "code",
   "execution_count": 32,
   "metadata": {},
   "outputs": [],
   "source": [
    "from sklearn.metrics import mean_squared_error"
   ]
  },
  {
   "cell_type": "code",
   "execution_count": 33,
   "metadata": {},
   "outputs": [],
   "source": [
    "def rmse(X, Y):\n",
    "    # calculate the squared covariance\n",
    "    rmse_xy = mean_squared_error(X, Y)  \n",
    "    \n",
    "    return np.sqrt(rmse_xy)"
   ]
  },
  {
   "cell_type": "code",
   "execution_count": 34,
   "metadata": {},
   "outputs": [
    {
     "name": "stdout",
     "output_type": "stream",
     "text": [
      "1.936554834777258\n"
     ]
    }
   ],
   "source": [
    "rmse_xy = rmse(X,Y)\n",
    "print(rmse_xy)"
   ]
  },
  {
   "cell_type": "code",
   "execution_count": 35,
   "metadata": {},
   "outputs": [
    {
     "data": {
      "image/png": "[encoded data removed]",
      "text/plain": [
       "<Figure size 504x360 with 4 Axes>"
      ]
     },
     "metadata": {
      "needs_background": "light"
     },
     "output_type": "display_data"
    }
   ],
   "source": [
    "test_anscombe(rmse, 'rmse')"
   ]
  },
  {
   "cell_type": "markdown",
   "metadata": {},
   "source": [
    "### HSIC"
   ]
  },
  {
   "cell_type": "code",
   "execution_count": 60,
   "metadata": {},
   "outputs": [],
   "source": [
    "def get_linear_hsic(X, Y):\n",
    "    \n",
    "    hsic_model = HSIC(kernel='linear', scorer='hsic', bias=True)\n",
    "\n",
    "    hsic_model.fit(X[:, None],Y[:, None]);\n",
    "\n",
    "    hsic_score = hsic_model.score(X[:, None])\n",
    "    \n",
    "    return hsic_score"
   ]
  },
  {
   "cell_type": "code",
   "execution_count": null,
   "metadata": {},
   "outputs": [],
   "source": []
  },
  {
   "cell_type": "code",
   "execution_count": 61,
   "metadata": {},
   "outputs": [
    {
     "name": "stdout",
     "output_type": "stream",
     "text": [
      "24.972734710743808\n"
     ]
    }
   ],
   "source": [
    "hsic_score = get_linear_hsic(X,Y)\n",
    "\n",
    "print(hsic_score)"
   ]
  },
  {
   "cell_type": "code",
   "execution_count": 62,
   "metadata": {},
   "outputs": [
    {
     "data": {
      "image/png": "[encoded data removed]",
      "text/plain": [
       "<Figure size 504x360 with 4 Axes>"
      ]
     },
     "metadata": {
      "needs_background": "light"
     },
     "output_type": "display_data"
    }
   ],
   "source": [
    "test_anscombe(get_linear_hsic, 'hsic_lin')"
   ]
  },
  {
   "cell_type": "markdown",
   "metadata": {},
   "source": [
    "#### RBF Kernel"
   ]
  },
  {
   "cell_type": "code",
   "execution_count": 55,
   "metadata": {},
   "outputs": [],
   "source": [
    "def get_rbf_hsic(X, Y):\n",
    "    \n",
    "    hsic_model = HSIC(kernel='rbf', scorer='hsic')\n",
    "\n",
    "    hsic_model.fit(X[:, None],Y[:, None]);\n",
    "\n",
    "    hsic_score = hsic_model.score(X[:, None])\n",
    "    \n",
    "    return hsic_score"
   ]
  },
  {
   "cell_type": "code",
   "execution_count": 56,
   "metadata": {},
   "outputs": [
    {
     "data": {
      "image/png": "[encoded data removed]",
      "text/plain": [
       "<Figure size 504x360 with 4 Axes>"
      ]
     },
     "metadata": {
      "needs_background": "light"
     },
     "output_type": "display_data"
    }
   ],
   "source": [
    "test_anscombe(get_rbf_hsic, 'hsic_rbf')"
   ]
  },
  {
   "cell_type": "markdown",
   "metadata": {},
   "source": [
    "### Kernel Alignment"
   ]
  },
  {
   "cell_type": "markdown",
   "metadata": {},
   "source": [
    "#### Linear"
   ]
  },
  {
   "cell_type": "code",
   "execution_count": 64,
   "metadata": {},
   "outputs": [],
   "source": [
    "def get_linear_ka(X, Y):\n",
    "    \n",
    "    hsic_model = HSIC(kernel='linear', scorer='tka')\n",
    "\n",
    "    hsic_model.fit(X[:, None],Y[:, None]);\n",
    "\n",
    "    hsic_score = hsic_model.score(X[:, None])\n",
    "    \n",
    "    return hsic_score"
   ]
  },
  {
   "cell_type": "code",
   "execution_count": 65,
   "metadata": {},
   "outputs": [
    {
     "data": {
      "image/png": "[encoded data removed]",
      "text/plain": [
       "<Figure size 504x360 with 4 Axes>"
      ]
     },
     "metadata": {
      "needs_background": "light"
     },
     "output_type": "display_data"
    }
   ],
   "source": [
    "test_anscombe(get_linear_ka, 'cka_lin')"
   ]
  },
  {
   "cell_type": "markdown",
   "metadata": {},
   "source": [
    "#### RBF Kernel"
   ]
  },
  {
   "cell_type": "code",
   "execution_count": 66,
   "metadata": {},
   "outputs": [],
   "source": [
    "def get_rbf_ka(X, Y):\n",
    "    \n",
    "    hsic_model = HSIC(kernel='rbf', scorer='tka')\n",
    "\n",
    "    hsic_model.fit(X[:, None],Y[:, None]);\n",
    "\n",
    "    hsic_score = hsic_model.score(X[:, None])\n",
    "    \n",
    "    return hsic_score"
   ]
  },
  {
   "cell_type": "code",
   "execution_count": 67,
   "metadata": {},
   "outputs": [
    {
     "data": {
      "image/png": "[encoded data removed]",
      "text/plain": [
       "<Figure size 504x360 with 4 Axes>"
      ]
     },
     "metadata": {
      "needs_background": "light"
     },
     "output_type": "display_data"
    }
   ],
   "source": [
    "test_anscombe(get_rbf_ka, 'ka_rbf')"
   ]
  },
  {
   "cell_type": "markdown",
   "metadata": {},
   "source": [
    "## Mutual Information\n",
    "\n",
    "In this section, I will be doing the same thing as before except this time I will use the equivalent Information Theory Measures. In principle, they should be better at capturing non-linear relationships and I will be able to add different representations using spatial-temporal information."
   ]
  },
  {
   "cell_type": "markdown",
   "metadata": {},
   "source": [
    "### Entropy\n",
    "\n",
    "This is the simplest and it is analogous to the standard deviation $\\sigma$. Entropy is defined by\n",
    "\n",
    "$$H(X) = - \\int_{X} f(x) \\log f(x) dx$$\n",
    "\n",
    "This is the expected amount of uncertainty present in a given distributin function $f(X)$. It captures the amount of surprise within a distribution. So if there are a large number of low probability events, then the expected uncertainty will be higher. Whereas distributions with fairly equally likely events will have low entropy values as there are not many surprise events, e.g. Uniform."
   ]
  },
  {
   "cell_type": "code",
   "execution_count": 101,
   "metadata": {},
   "outputs": [
    {
     "name": "stdout",
     "output_type": "stream",
     "text": [
      "1.9670005831544313\n"
     ]
    },
    {
     "data": {
      "text/plain": [
       "[<matplotlib.lines.Line2D at 0x7faec83543c8>]"
      ]
     },
     "execution_count": 101,
     "metadata": {},
     "output_type": "execute_result"
    },
    {
     "data": {
      "image/png": "[encoded data removed]",
      "text/plain": [
       "<Figure size 432x288 with 1 Axes>"
      ]
     },
     "metadata": {
      "needs_background": "light"
     },
     "output_type": "display_data"
    }
   ],
   "source": [
    "kde = smi.nonparametric.KDEUnivariate(Y)\n",
    "kde.fit()\n",
    "print(kde.entropy)\n",
    "plt.plot(kde.support, kde.density)"
   ]
  },
  {
   "cell_type": "code",
   "execution_count": 194,
   "metadata": {},
   "outputs": [],
   "source": [
    "import scipy.stats\n",
    "\n",
    "def entropy(data, method='counts'):\n",
    "    \n",
    "\n",
    "    if method == 'counts':\n",
    "        _, pdata = np.unique(data, return_counts=True)\n",
    "        entropy = scipy.stats.entropy(pdata)\n",
    "    elif method == 'kde':\n",
    "        kde = smi.nonparametric.KDEUnivariate(data)\n",
    "        kde.fit()\n",
    "        entropy = kde.entropy\n",
    "    else:\n",
    "        raise ValueError('Unrecognized method.')\n",
    "    return entropy"
   ]
  },
  {
   "cell_type": "code",
   "execution_count": 195,
   "metadata": {},
   "outputs": [
    {
     "name": "stdout",
     "output_type": "stream",
     "text": [
      "2.3978952727983707 2.3978952727983707\n"
     ]
    }
   ],
   "source": [
    "Hx = entropy(X, 'counts')\n",
    "Hy = entropy(Y, 'counts')\n",
    "\n",
    "print(Hx, Hy)"
   ]
  },
  {
   "cell_type": "markdown",
   "metadata": {},
   "source": [
    "### Mutual Information"
   ]
  },
  {
   "cell_type": "markdown",
   "metadata": {},
   "source": [
    "Given two distributions X and Y, we can calculate the mutual information as\n",
    "\n",
    "$$I(X,Y) = \\int_X\\int_Y p(x,y) \\log \\frac{p(x,y)}{p_x(x)p_y(y)}dxdy$$\n",
    "\n",
    "where $p(x,y)$ is the joint probability and $p_x(x), p_y(y)$ are the marginal probabilities of $X$ and $Y$ respectively. We can also express the mutual information as a function of the Entropy $H(X)$\n",
    "\n",
    "$$I(X,Y)=H(X) + H(Y) - H(X,Y)$$"
   ]
  },
  {
   "cell_type": "code",
   "execution_count": 200,
   "metadata": {},
   "outputs": [],
   "source": [
    "def mutual_info(X,Y, method='kde'):\n",
    "    \n",
    "    Hx = entropy(X, method)\n",
    "    Hy = entropy(Y, method)\n",
    "    Hxy = entropy(np.concatenate((X,Y)), method)\n",
    "    return Hx + Hy - Hxy"
   ]
  },
  {
   "cell_type": "code",
   "execution_count": 201,
   "metadata": {},
   "outputs": [
    {
     "name": "stdout",
     "output_type": "stream",
     "text": [
      "2.203120400100416\n"
     ]
    }
   ],
   "source": [
    "Hxy = entropy(pd.concat((X,Y)))\n",
    "\n",
    "mi_xy = mutual_info(X.values, Y.values)\n",
    "\n",
    "print(mi_xy)"
   ]
  },
  {
   "cell_type": "code",
   "execution_count": 202,
   "metadata": {},
   "outputs": [
    {
     "name": "stderr",
     "output_type": "stream",
     "text": [
      "/home/emmanuel/.conda/envs/it4dnn/lib/python3.6/site-packages/statsmodels/sandbox/nonparametric/kernels.py:204: RuntimeWarning: divide by zero encountered in double_scalars\n",
      "  w = 1. / (h * n) * np.sum(self((xs-x)/h), axis=0)\n",
      "/home/emmanuel/.conda/envs/it4dnn/lib/python3.6/site-packages/statsmodels/sandbox/nonparametric/kernels.py:204: RuntimeWarning: divide by zero encountered in true_divide\n",
      "  w = 1. / (h * n) * np.sum(self((xs-x)/h), axis=0)\n",
      "/home/emmanuel/.conda/envs/it4dnn/lib/python3.6/site-packages/statsmodels/sandbox/nonparametric/kernels.py:204: RuntimeWarning: invalid value encountered in multiply\n",
      "  w = 1. / (h * n) * np.sum(self((xs-x)/h), axis=0)\n",
      "/home/emmanuel/.conda/envs/it4dnn/lib/python3.6/site-packages/statsmodels/nonparametric/kde.py:232: IntegrationWarning: The occurrence of roundoff error is detected, which prevents \n",
      "  the requested tolerance from being achieved.  The error may be \n",
      "  underestimated.\n",
      "  return -integrate.quad(entr, a, b, args=(endog,))[0]\n"
     ]
    },
    {
     "data": {
      "image/png": "[encoded data removed]",
      "text/plain": [
       "<Figure size 504x360 with 4 Axes>"
      ]
     },
     "metadata": {
      "needs_background": "light"
     },
     "output_type": "display_data"
    }
   ],
   "source": [
    "test_anscombe(mutual_info, 'kde')"
   ]
  },
  {
   "cell_type": "code",
   "execution_count": 215,
   "metadata": {},
   "outputs": [],
   "source": [
    "def norm_mutual_info(X,Y, method='kde'):\n",
    "    \n",
    "    Hx = entropy(X, method)\n",
    "    Hy = entropy(Y, method)\n",
    "    Hxy = entropy(np.concatenate((X,Y)), method)\n",
    "    \n",
    "    # mutual information\n",
    "    mi_xy =  Hx + Hy - Hxy\n",
    "    return (mi_xy / (np.sqrt(Hx * Hy)))"
   ]
  },
  {
   "cell_type": "code",
   "execution_count": 216,
   "metadata": {},
   "outputs": [
    {
     "data": {
      "image/png": "[encoded data removed]",
      "text/plain": [
       "<Figure size 504x360 with 4 Axes>"
      ]
     },
     "metadata": {
      "needs_background": "light"
     },
     "output_type": "display_data"
    }
   ],
   "source": [
    "test_anscombe(norm_mutual_info, 'nkde')"
   ]
  },
  {
   "cell_type": "code",
   "execution_count": 221,
   "metadata": {},
   "outputs": [],
   "source": [
    "def red_mutual_info(X,Y, method='kde'):\n",
    "    \n",
    "    Hx = entropy(X, method)\n",
    "    Hy = entropy(Y, method)\n",
    "    Hxy = entropy(np.concatenate((X,Y)), method)\n",
    "    \n",
    "    # mutual information\n",
    "    mi_xy =  Hx + Hy - Hxy\n",
    "    return (2 * mi_xy / (Hx + Hy))"
   ]
  },
  {
   "cell_type": "code",
   "execution_count": 222,
   "metadata": {},
   "outputs": [
    {
     "data": {
      "image/png": "[encoded data removed]",
      "text/plain": [
       "<Figure size 504x360 with 4 Axes>"
      ]
     },
     "metadata": {
      "needs_background": "light"
     },
     "output_type": "display_data"
    }
   ],
   "source": [
    "test_anscombe(red_mutual_info, 'rkde')"
   ]
  },
  {
   "cell_type": "markdown",
   "metadata": {},
   "source": [
    "### Variation of Information\n",
    "\n",
    "$$\n",
    "\\begin{aligned}\n",
    "VI(X,Y) &= H(X) + H(Y) - 2I(X,Y) \\\\\n",
    "&= I(X,X) + I(Y,Y) - 2I(X,Y)\n",
    "\\end{aligned}$$"
   ]
  },
  {
   "cell_type": "code",
   "execution_count": 223,
   "metadata": {},
   "outputs": [],
   "source": [
    "def variation_info(X,Y, method='kde'):\n",
    "    \n",
    "    Hx = entropy(X, method)\n",
    "    Hy = entropy(Y, method)\n",
    "    Hxy = entropy(np.concatenate((X,Y)), method)\n",
    "    \n",
    "    # mutual information\n",
    "    mi_xy =  Hx + Hy - Hxy\n",
    "    \n",
    "    # variation of information\n",
    "    vi_xy = Hx + Hy - 2 * mi_xy\n",
    "    return vi_xy"
   ]
  },
  {
   "cell_type": "code",
   "execution_count": 224,
   "metadata": {},
   "outputs": [
    {
     "data": {
      "image/png": "[encoded data removed]",
      "text/plain": [
       "<Figure size 504x360 with 4 Axes>"
      ]
     },
     "metadata": {
      "needs_background": "light"
     },
     "output_type": "display_data"
    }
   ],
   "source": [
    "test_anscombe(variation_info, 'vikde')"
   ]
  },
  {
   "cell_type": "markdown",
   "metadata": {},
   "source": [
    "### RVI-Based Diagram"
   ]
  },
  {
   "cell_type": "markdown",
   "metadata": {},
   "source": [
    "Analagous to the Taylor Diagram, we can summarize the ITMs in a way that was easy to interpret. It used the relationship between the entropy, the mutual information and the normalized mutual information via the triangle inequality. Assuming we can draw a diagram using the law of cosines;\n",
    "\n",
    "$$c^2 = a^2 + b^2 - 2ab \\cos \\phi$$\n",
    "\n",
    "\n"
   ]
  },
  {
   "cell_type": "markdown",
   "metadata": {},
   "source": [
    "we can write this in terms of $\\sigma$, $\\rho$ and $RMSE$ as we have expressed above.\n",
    "\n",
    "$$\\begin{aligned}\n",
    "\\text{RVI}^2 &= H(X) + H(Y) - 2 \\sqrt{H(X)H(Y)} \\frac{I(X,Y)}{\\sqrt{H(X)H(Y)}} \\\\\n",
    "&= H(X) + H(Y) - 2 \\sqrt{H(X)H(Y)} \\rho\n",
    "\\end{aligned}$$\n",
    "\n",
    "where The sides are as follows:\n",
    "\n",
    "* $a = \\sigma_{\\text{obs}}$ - the entropy of the observed data\n",
    "* $b = \\sigma_{\\text{sim}}$ - the entropy of the simulated data\n",
    "* $\\rho = \\frac{I(X,Y)}{\\sqrt{H(X)H(Y)}}$ - the normalized mutual information\n",
    "* $RMSE$ - the variation of information between the two datasets"
   ]
  },
  {
   "cell_type": "code",
   "execution_count": 203,
   "metadata": {},
   "outputs": [
    {
     "name": "stdout",
     "output_type": "stream",
     "text": [
      "H(X),H(Y): 2.3978952727983707 1.967000583154429\n",
      "H(X,Y): 2.51573500302577\n",
      "MI(X,Y): 1.8491608529270298\n",
      "NMI(X,Y): 0.8514464531077769\n",
      "SMI(X,Y): 0.986290574938243\n",
      "C_XY: 0.972581149876486\n",
      "VI(X,Y): 0.6665741500987403\n"
     ]
    }
   ],
   "source": [
    "h_a = entropy(X, 'counts')\n",
    "h_b = entropy(Y, 'kde')\n",
    "print('H(X),H(Y):',h_a, h_b)\n",
    "\n",
    "# joint entropy\n",
    "h_ab = entropy(pd.concat((X,Y)), 'kde')\n",
    "print('H(X,Y):',h_ab)\n",
    "\n",
    "# mutual information\n",
    "mi_ab = h_a + h_b - h_ab\n",
    "print('MI(X,Y):', mi_ab)\n",
    "\n",
    "# normalized mutual information\n",
    "nmi_ab = mi_ab / np.sqrt(h_a * h_b)\n",
    "print('NMI(X,Y):', nmi_ab)\n",
    "\n",
    "# scaled mutual info\n",
    "smi_ab = mi_ab * (h_ab / (h_a * h_b))\n",
    "print('SMI(X,Y):', smi_ab)\n",
    "\n",
    "# cos rho term\n",
    "c_ab = 2 * smi_ab - 1\n",
    "print('C_XY:', c_ab)\n",
    "\n",
    "# vi\n",
    "vi = h_a + h_b  - 2 * np.sqrt(h_a * h_b) * nmi_ab\n",
    "\n",
    "print('VI(X,Y):',vi)"
   ]
  },
  {
   "cell_type": "code",
   "execution_count": null,
   "metadata": {},
   "outputs": [],
   "source": []
  },
  {
   "cell_type": "code",
   "execution_count": 204,
   "metadata": {},
   "outputs": [],
   "source": [
    "def vi_coeffs(X, Y, method='counts'):\n",
    "    \n",
    "    # entropy observations\n",
    "    h_a = entropy(X, method)\n",
    "    \n",
    "    # entropy simulated\n",
    "    h_b = entropy(Y, method)\n",
    "    \n",
    "    # joint entropy\n",
    "    h_ab = entropy(pd.concat((X,Y)), method)    \n",
    "    \n",
    "    # mutual information\n",
    "    mi_ab = h_a + h_b - h_ab\n",
    "    \n",
    "    # normalized mutual information\n",
    "    nmi_ab = mi_ab / np.sqrt(h_a * h_b)\n",
    "    \n",
    "    # scaled mutual information\n",
    "    smi_ab = 2 * mi_ab * (h_ab / (h_a * h_b)) - 1\n",
    "    \n",
    "    # vi\n",
    "    vi_ab = h_a + h_b  - 2 * np.sqrt((h_a * h_b)) * nmi_ab\n",
    "        \n",
    "    # save coefficients\n",
    "    data = {\n",
    "        'h_a': h_a,\n",
    "        'h_b': h_b,\n",
    "        'nmi': nmi_ab,\n",
    "        'smi': smi_ab,\n",
    "        'theta': np.arccos(nmi_ab),\n",
    "        'vi': vi_ab\n",
    "    }\n",
    "    return data"
   ]
  },
  {
   "cell_type": "code",
   "execution_count": 205,
   "metadata": {},
   "outputs": [
    {
     "name": "stdout",
     "output_type": "stream",
     "text": [
      "{'h_a': 2.7518548199717574, 'h_b': 2.2080793522856723, 'nmi': 0.9751276249886281, 'smi': 1.0224173292681424, 'theta': 0.2235002023733858, 'vi': 0.15251984951237407}\n",
      "{'h_a': 2.7518548199717574, 'h_b': 2.1269598407974937, 'nmi': 0.9842327930994981, 'smi': 1.0321990011233386, 'theta': 0.1778134760779669, 'vi': 0.11647649545914085}\n",
      "{'h_a': 2.7518548199717574, 'h_b': 1.967000583154429, 'nmi': 0.9469416711631927, 'smi': 1.0478734393463243, 'theta': 0.32721332665482533, 'vi': 0.31261460292535403}\n"
     ]
    }
   ],
   "source": [
    "# Model I\n",
    "X = get_case(df_anscombe, 'I')['x']\n",
    "Y = get_case(df_anscombe, 'I')['y']\n",
    "data1 = vi_coeffs(X, Y, 'kde')\n",
    "print(data1)\n",
    "\n",
    "# Model II\n",
    "X = get_case(df_anscombe, 'II')['x']\n",
    "Y = get_case(df_anscombe, 'II')['y']\n",
    "data2 = vi_coeffs(X, Y, 'kde')\n",
    "print(data2)\n",
    "\n",
    "# Model III\n",
    "X = get_case(df_anscombe, 'III')['x']\n",
    "Y = get_case(df_anscombe, 'III')['y']\n",
    "data3 = vi_coeffs(X, Y, 'kde')\n",
    "print(data3)\n",
    "\n",
    "# # Model IV\n",
    "# X = get_case(df_anscombe, 'IV')['x']\n",
    "# Y = get_case(df_anscombe, 'IV')['y']\n",
    "# data4 = vi_coeffs(X, Y)\n",
    "# print(data4)"
   ]
  },
  {
   "cell_type": "code",
   "execution_count": 206,
   "metadata": {},
   "outputs": [
    {
     "data": {
      "image/png": "[encoded data removed]",
      "text/plain": [
       "<Figure size 504x360 with 1 Axes>"
      ]
     },
     "metadata": {
      "needs_background": "light"
     },
     "output_type": "display_data"
    }
   ],
   "source": [
    "import matplotlib.pyplot as plt\n",
    "import numpy as np\n",
    "\n",
    "theta = np.linspace(0,np.pi)\n",
    "r = np.sin(theta)\n",
    "\n",
    "fig = plt.figure(figsize=(7,5))\n",
    "ax = fig.add_subplot(111, polar=True)\n",
    "m = ax.scatter(0, data1['h_a'], s=200, alpha=0.75, label='Data', zorder=0)\n",
    "m1 = ax.scatter(data1['theta'], data1['h_b'], s=150, alpha=0.75, marker='x', label='Model I')\n",
    "m1 = ax.scatter(data2['theta'], data2['h_b'], s=150, alpha=0.75, marker='o', label='Model II')\n",
    "m1 = ax.scatter(data3['theta'], data3['h_b'], s=150, alpha=0.75, marker='.', label='Model III')\n",
    "# m1 = ax.scatter(theta4, b4, s=100, alpha=0.75, marker='o', label='Model II')\n",
    "# ax.plot(0)\n",
    "ax.set_ylim([0, 3])\n",
    "# ax.set_xticks([0.1, 0.2, 0.3, 0.9])\n",
    "# ax.set_xticklabels([1.0, 0.9, 0.8, 0.6, 0.3, 0.2, 0.1])\n",
    "# m1 = ax.scatter(theta1, a, s=50, alpha=0.75)\n",
    "# m1 = ax.scatter(theta1, a, s=50, alpha=0.75)\n",
    "c = ax.plot(theta, data1['h_a'] * np.ones(theta.shape), color='black', linestyle='dashed', alpha=0.75)\n",
    "ax.set_xlabel('Entropy', labelpad=20)\n",
    "ax.set_ylabel('Entropy', labelpad=20)\n",
    "plt.legend()\n",
    "ax.set_thetamin(0)\n",
    "ax.set_thetamax(90)\n",
    "plt.tight_layout()\n",
    "plt.savefig(SAVE_PATH + 'demo_vi.png')\n",
    "plt.show()"
   ]
  },
  {
   "cell_type": "code",
   "execution_count": null,
   "metadata": {},
   "outputs": [],
   "source": []
  }
 ],
 "metadata": {
  "kernelspec": {
   "display_name": "Python [conda env:.conda-it4dnn]",
   "language": "python",
   "name": "conda-env-.conda-it4dnn-py"
  },
  "language_info": {
   "codemirror_mode": {
    "name": "ipython",
    "version": 3
   },
   "file_extension": ".py",
   "mimetype": "text/x-python",
   "name": "python",
   "nbconvert_exporter": "python",
   "pygments_lexer": "ipython3",
   "version": "3.6.10"
  }
 },
 "nbformat": 4,
 "nbformat_minor": 4
}
