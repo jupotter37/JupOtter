{
 "cells": [
  {
   "cell_type": "code",
   "execution_count": 1,
   "id": "3809d74f-a0d6-4c4c-bac2-54f7a04d46a3",
   "metadata": {},
   "outputs": [],
   "source": [
    "import os"
   ]
  },
  {
   "cell_type": "code",
   "execution_count": 45,
   "id": "6e00fc23-9e96-470c-a072-90d47b5802ea",
   "metadata": {},
   "outputs": [],
   "source": [
    "def file_name_change(name):\n",
    "    \"\"\"Function removes space in filename, \n",
    "    changes case to lower case\"\"\"\n",
    "    ch_name = name.replace(' ','_')\n",
    "    ch_name = ch_name.replace('#','')\n",
    "    ch_name = ch_name.lower()\n",
    "    os.rename(name,ch_name)"
   ]
  },
  {
   "cell_type": "code",
   "execution_count": 5,
   "id": "86993110-a93f-450e-aafd-36eb55d09a4c",
   "metadata": {},
   "outputs": [],
   "source": [
    "trial = 'This is a File Name'"
   ]
  },
  {
   "cell_type": "code",
   "execution_count": 6,
   "id": "ba819a06-c1b4-4683-91b5-de996d4eb4f6",
   "metadata": {},
   "outputs": [
    {
     "data": {
      "text/plain": [
       "'this_is_a_file_name'"
      ]
     },
     "execution_count": 6,
     "metadata": {},
     "output_type": "execute_result"
    }
   ],
   "source": [
    "file_name_change(trial)"
   ]
  },
  {
   "cell_type": "code",
   "execution_count": 20,
   "id": "ce052a4f-e70f-40cb-9e4d-74455f2abce7",
   "metadata": {},
   "outputs": [],
   "source": [
    "!touch 'This is a FileName'"
   ]
  },
  {
   "cell_type": "code",
   "execution_count": 21,
   "id": "0d6c3cec-72ba-43d3-b7d0-50dbcaeef564",
   "metadata": {},
   "outputs": [],
   "source": [
    "!touch 'This is another fileName'"
   ]
  },
  {
   "cell_type": "code",
   "execution_count": 12,
   "id": "ba52c981-fb69-4a87-a111-1729cdfd67a6",
   "metadata": {},
   "outputs": [],
   "source": [
    "list_files = os.listdir()"
   ]
  },
  {
   "cell_type": "code",
   "execution_count": 14,
   "id": "87649670-1539-45f0-bd08-c0e79c6a8524",
   "metadata": {},
   "outputs": [
    {
     "data": {
      "text/plain": [
       "['This is a FileName',\n",
       " 'This is another fileName',\n",
       " 'linux_play.txt',\n",
       " 'vim_play.txt',\n",
       " '.ipynb_checkpoints']"
      ]
     },
     "execution_count": 14,
     "metadata": {},
     "output_type": "execute_result"
    }
   ],
   "source": [
    "list_files"
   ]
  },
  {
   "cell_type": "code",
   "execution_count": 16,
   "id": "e3b86fe2-bea5-409c-9b8e-9a93e22879c1",
   "metadata": {},
   "outputs": [],
   "source": [
    "name1 = 'This is a FileName'\n",
    "name2 = 'This is another fileName'"
   ]
  },
  {
   "cell_type": "code",
   "execution_count": 22,
   "id": "95cbfcff-ad3f-48ed-8844-1163c5d46195",
   "metadata": {},
   "outputs": [],
   "source": [
    "file_name_change(name1)"
   ]
  },
  {
   "cell_type": "code",
   "execution_count": 23,
   "id": "897b5ea4-509d-4006-9968-c4b6b4005a04",
   "metadata": {},
   "outputs": [],
   "source": [
    "file_name_change(name2)"
   ]
  },
  {
   "cell_type": "code",
   "execution_count": 24,
   "id": "331904d7-6873-47c6-a30b-1db3d8694e4a",
   "metadata": {},
   "outputs": [
    {
     "name": "stdout",
     "output_type": "stream",
     "text": [
      "/home/kamal/gitfolders/python_de_learners_data/code_script_notebooks/playbooks\n"
     ]
    }
   ],
   "source": [
    "!pwd"
   ]
  },
  {
   "cell_type": "code",
   "execution_count": 28,
   "id": "2b37aed5-bd35-43c9-b0cb-ce2161ceebc5",
   "metadata": {},
   "outputs": [],
   "source": [
    "file_path = '/media/kamal/DATA/tutorial_vids/django_lms_vids/'"
   ]
  },
  {
   "cell_type": "code",
   "execution_count": 31,
   "id": "d2974024-aa73-4a1c-9275-cae6802c9291",
   "metadata": {},
   "outputs": [],
   "source": [
    "os.chdir(file_path)"
   ]
  },
  {
   "cell_type": "code",
   "execution_count": 34,
   "id": "dd7745ce-f885-4980-a234-78e8aaf3bb2b",
   "metadata": {},
   "outputs": [
    {
     "data": {
      "text/plain": [
       "'/media/kamal/DATA/tutorial_vids/django_lms_vids'"
      ]
     },
     "execution_count": 34,
     "metadata": {},
     "output_type": "execute_result"
    }
   ],
   "source": [
    "os.getcwd()"
   ]
  },
  {
   "cell_type": "code",
   "execution_count": 46,
   "id": "f64f1c45-11a9-4097-a3df-0e79828dfdd3",
   "metadata": {},
   "outputs": [],
   "source": [
    "list_files = os.listdir(path=file_path)"
   ]
  },
  {
   "cell_type": "code",
   "execution_count": 41,
   "id": "ce9fcb42-c717-4291-9505-837ef0e3d62d",
   "metadata": {
    "collapsed": true,
    "jupyter": {
     "outputs_hidden": true
    }
   },
   "outputs": [
    {
     "data": {
      "text/plain": [
       "['#3_create_base_file_in_learning_management_website_project_#learningmanagementsystem__#python3_[i7kecp7thji].mp4',\n",
       " '#2 Learning Management System (LMS) Website Project Setup In PyCharm #learningmanagementsystem [NWBL9nJH1HU].mp4',\n",
       " '#1 Learning Management System Website Using Python Django - Overview  #learningmanagementsystem [hEMkB5wngSc].mp4',\n",
       " 'All videos can be show if the course is Enrolled [JTCUiy7ocSo].mp4',\n",
       " 'Verify Payment Page Success and Fail Page Design [03y95dsqDWk].mp4',\n",
       " '#4 Create Many Pages In Learning Management System Website Project#learningmanagementsystem #django [XMRVFEutoDg].mp4',\n",
       " '#5 Login and Registration System In Learning Management System Website Using Python Django #python3 [U6J3wD_eIoY].mp4',\n",
       " '#6 Forgot Password Using Email in Learning Management System Project Using Python Django [8ILCojlavFc].mp4',\n",
       " '#7 Profile Update Function In Learning Management System Website #pythondjango #lms [lfD9qk0Ri6g].mp4',\n",
       " '#8 Create Category Model And Retrieved All Categories and Show In Home Page #python #django #lms [TF_VrHEjLt0].mp4',\n",
       " '#9 Create Course Model and Author Model ｜ Show Courses In Carousel#learningmanagementsystem #python [N8bO3dSPDPA].mp4',\n",
       " '#10 Discount Course Price Using Template Tags in Python Django #learningmanagementsystem #python [B_RHIph16_I].mp4',\n",
       " '#11 Dropdown In Show Course Category And Courses #learningmanagementsystem #pythondjango #django [l-t4zHHxuQM].mp4',\n",
       " '#12 Create Course Page and Retrieved Category , Price And Level Models Data #pythondjango #django [rvqVGgCjz-M].mp4',\n",
       " '#13 Course List Page in retrieved Courses Using Python for loop #learningmanagementsystem #python [_Gici8v_DcM].mp4',\n",
       " '#14 Filter by Category and Level Using Ajax jQuery In  Django #learningmanagementsystem #django [N7T_2RF-CiI].mp4',\n",
       " '#15 All ,Paid And Free Course Filter Using Ajax jQuery In Python Django #learningmanagementsystem [mtMNrMxDZW4].mp4',\n",
       " '#16 Count All, Paid and Free Courses in Course List Page #learningmanagementsystem #pythondjango [4KmHloGW6V8].mp4',\n",
       " '#17 Search Course Using Course Name ｜ Django Search Function Using Icontains #python3 #django [zdIFSxbR2JA].mp4',\n",
       " '#18 Create Course Slug Automatically Using Title in Django ｜ Django LMS project [Ig8a5FLEB_c].mp4',\n",
       " '#19 Course Details Page in Course are Not Exists Then Redirect 404 Error Page #pythondjango #python [JltjD1KgwZQ].mp4',\n",
       " '#20 Course Details Page in Overview Section In Retrieved All Course Details #django #python [IDfK6HAXgqk].mp4',\n",
       " 'Create Lesson and Video Model ｜ Curriculum In show Lesson And Videos ｜ #learningmanagementsystem [wOBzgf65lsw].mp4',\n",
       " 'Course Related Details Show Like Duration , Lectures , Skill Level , Certificate etc. #pythondjango [L9b8zM8lDeo].mp4',\n",
       " 'How To Enroll Free Courses In learning Management System Website Project #pythondjango [YAcH5CoQUX0].mp4',\n",
       " 'Create My-course Page ｜ This Page In Show All Enrolled Courses #learningmanagementsystem [cwzZB9000DU].mp4',\n",
       " 'Show Success Message Using Django Message Freamwork #learningmanagementsystem [PLtcmK_kV_I].mp4',\n",
       " 'Enroll Paid Course Using Razor Pay Payment Gateway ｜ How to use Razor Pay Payment Gateway In Django [eJAIZ4naNEw].mp4',\n",
       " 'Razor Pay Payment Gateway In Calculate Discount Price [xzifsI2IN7g].mp4',\n",
       " 'Curriculum in Preview Video Show Without Enroll Course [rUyv-0O6h8k].mp4',\n",
       " 'Create Watch Course ｜ Part - 1 [4aSN07-ZdZs].mp4',\n",
       " 'Watch Course ｜ Part - 2 ｜ In Hindi [alci0EM4Ers].mp4']"
      ]
     },
     "execution_count": 41,
     "metadata": {},
     "output_type": "execute_result"
    }
   ],
   "source": [
    "list_files"
   ]
  },
  {
   "cell_type": "code",
   "execution_count": 43,
   "id": "ddf8b4bd-aeec-4a55-b77e-ecb2a7355c02",
   "metadata": {
    "collapsed": true,
    "jupyter": {
     "outputs_hidden": true
    },
    "scrolled": true
   },
   "outputs": [
    {
     "ename": "FileNotFoundError",
     "evalue": "[Errno 2] No such file or directory: '#3_create_base_file_in_learning_management_website_project_#learningmanagementsystem__#python3_[i7kecp7thji].mp4' -> '3_create_base_file_in_learning_management_website_project_learningmanagementsystem__python3_[i7kecp7thji].mp4'",
     "output_type": "error",
     "traceback": [
      "\u001b[0;31m---------------------------------------------------------------------------\u001b[0m",
      "\u001b[0;31mFileNotFoundError\u001b[0m                         Traceback (most recent call last)",
      "Cell \u001b[0;32mIn[43], line 1\u001b[0m\n\u001b[0;32m----> 1\u001b[0m \u001b[43mfile_name_change\u001b[49m\u001b[43m(\u001b[49m\u001b[43mlist_files\u001b[49m\u001b[43m[\u001b[49m\u001b[38;5;241;43m0\u001b[39;49m\u001b[43m]\u001b[49m\u001b[43m)\u001b[49m\n",
      "Cell \u001b[0;32mIn[38], line 7\u001b[0m, in \u001b[0;36mfile_name_change\u001b[0;34m(name)\u001b[0m\n\u001b[1;32m      5\u001b[0m ch_name \u001b[38;5;241m=\u001b[39m name\u001b[38;5;241m.\u001b[39mreplace(\u001b[38;5;124m'\u001b[39m\u001b[38;5;124m#\u001b[39m\u001b[38;5;124m'\u001b[39m,\u001b[38;5;124m'\u001b[39m\u001b[38;5;124m'\u001b[39m)\n\u001b[1;32m      6\u001b[0m ch_name \u001b[38;5;241m=\u001b[39m ch_name\u001b[38;5;241m.\u001b[39mlower()\n\u001b[0;32m----> 7\u001b[0m \u001b[43mos\u001b[49m\u001b[38;5;241;43m.\u001b[39;49m\u001b[43mrename\u001b[49m\u001b[43m(\u001b[49m\u001b[43mname\u001b[49m\u001b[43m,\u001b[49m\u001b[43mch_name\u001b[49m\u001b[43m)\u001b[49m\n",
      "\u001b[0;31mFileNotFoundError\u001b[0m: [Errno 2] No such file or directory: '#3_create_base_file_in_learning_management_website_project_#learningmanagementsystem__#python3_[i7kecp7thji].mp4' -> '3_create_base_file_in_learning_management_website_project_learningmanagementsystem__python3_[i7kecp7thji].mp4'"
     ]
    }
   ],
   "source": [
    "file_name_change(list_files[0])"
   ]
  },
  {
   "cell_type": "code",
   "execution_count": 47,
   "id": "a1422e9b-2697-49d9-b0f0-b2695e0ffa9c",
   "metadata": {
    "collapsed": true,
    "jupyter": {
     "outputs_hidden": true
    }
   },
   "outputs": [
    {
     "name": "stdout",
     "output_type": "stream",
     "text": [
      "Changing file name 2 learning management system (lms) website project setup in pycharm learningmanagementsystem [nwbl9njh1hu].mp4\n",
      "Changing file name 1 learning management system website using python django - overview  learningmanagementsystem [hemkb5wngsc].mp4\n",
      "Changing file name All videos can be show if the course is Enrolled [JTCUiy7ocSo].mp4\n",
      "Changing file name Verify Payment Page Success and Fail Page Design [03y95dsqDWk].mp4\n",
      "Changing file name 4 create many pages in learning management system website projectlearningmanagementsystem django [xmrvfeutodg].mp4\n",
      "Changing file name 5 login and registration system in learning management system website using python django python3 [u6j3wd_eioy].mp4\n",
      "Changing file name 6 forgot password using email in learning management system project using python django [8ilcojlavfc].mp4\n",
      "Changing file name 7 profile update function in learning management system website pythondjango lms [lfd9qk0ri6g].mp4\n",
      "Changing file name 8 create category model and retrieved all categories and show in home page python django lms [tf_vrhejlt0].mp4\n",
      "Changing file name 9 create course model and author model ｜ show courses in carousellearningmanagementsystem python [n8bo3dspdpa].mp4\n",
      "Changing file name 10 discount course price using template tags in python django learningmanagementsystem python [b_rhiph16_i].mp4\n",
      "Changing file name 11 dropdown in show course category and courses learningmanagementsystem pythondjango django [l-t4zhhxuqm].mp4\n",
      "Changing file name 12 create course page and retrieved category , price and level models data pythondjango django [rvqvggcjz-m].mp4\n",
      "Changing file name 13 course list page in retrieved courses using python for loop learningmanagementsystem python [_gici8v_dcm].mp4\n",
      "Changing file name 14 filter by category and level using ajax jquery in  django learningmanagementsystem django [n7t_2rf-cii].mp4\n",
      "Changing file name 15 all ,paid and free course filter using ajax jquery in python django learningmanagementsystem [mtmnrmxdzw4].mp4\n",
      "Changing file name 16 count all, paid and free courses in course list page learningmanagementsystem pythondjango [4kmhlogw6v8].mp4\n",
      "Changing file name 17 search course using course name ｜ django search function using icontains python3 django [zdifsxbr2ja].mp4\n",
      "Changing file name 18 create course slug automatically using title in django ｜ django lms project [ig8a5fleb_c].mp4\n",
      "Changing file name 19 course details page in course are not exists then redirect 404 error page pythondjango python [jltjd1kgwzq].mp4\n",
      "Changing file name 20 course details page in overview section in retrieved all course details django python [idfk6haxgqk].mp4\n",
      "Changing file name create lesson and video model ｜ curriculum in show lesson and videos ｜ learningmanagementsystem [wobzgf65lsw].mp4\n",
      "Changing file name course related details show like duration , lectures , skill level , certificate etc. pythondjango [l9b8zm8ldeo].mp4\n",
      "Changing file name how to enroll free courses in learning management system website project pythondjango [yach5coqux0].mp4\n",
      "Changing file name create my-course page ｜ this page in show all enrolled courses learningmanagementsystem [cwzzb9000du].mp4\n",
      "Changing file name show success message using django message freamwork learningmanagementsystem [pltcmk_kv_i].mp4\n",
      "Changing file name Enroll Paid Course Using Razor Pay Payment Gateway ｜ How to use Razor Pay Payment Gateway In Django [eJAIZ4naNEw].mp4\n",
      "Changing file name Razor Pay Payment Gateway In Calculate Discount Price [xzifsI2IN7g].mp4\n",
      "Changing file name Curriculum in Preview Video Show Without Enroll Course [rUyv-0O6h8k].mp4\n",
      "Changing file name Create Watch Course ｜ Part - 1 [4aSN07-ZdZs].mp4\n",
      "Changing file name Watch Course ｜ Part - 2 ｜ In Hindi [alci0EM4Ers].mp4\n"
     ]
    }
   ],
   "source": [
    "for f in list_files[1:]:\n",
    "    print(f\"Changing file name {f}\")\n",
    "    file_name_change(f)"
   ]
  }
 ],
 "metadata": {
  "kernelspec": {
   "display_name": "Python 3 (ipykernel)",
   "language": "python",
   "name": "python3"
  },
  "language_info": {
   "codemirror_mode": {
    "name": "ipython",
    "version": 3
   },
   "file_extension": ".py",
   "mimetype": "text/x-python",
   "name": "python",
   "nbconvert_exporter": "python",
   "pygments_lexer": "ipython3",
   "version": "3.11.4"
  }
 },
 "nbformat": 4,
 "nbformat_minor": 5
}
