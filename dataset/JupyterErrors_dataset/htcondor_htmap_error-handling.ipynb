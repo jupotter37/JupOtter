{
 "cells": [
  {
   "cell_type": "markdown",
   "metadata": {},
   "source": [
    "# Error Handling\n",
    "[![Binder](https://mybinder.org/badge_logo.svg)](https://mybinder.org/v2/gh/htcondor/htmap/master?urlpath=lab%2Ftree%2Ferror-handling.ipynb)"
   ]
  },
  {
   "cell_type": "markdown",
   "metadata": {},
   "source": [
    "## Holds\n",
    "\n",
    "In previous tutorials we mentioned that HTMap is able to track the status of your components and inform you about something called a \"hold\".\n",
    "A hold occurs when HTCondor notices something wrong about your map component.\n",
    "Perhaps an input file is missing, or your component tried to use a file that didn't exist.\n",
    "\n",
    "The last one is easy to force, so let's do it and see what happens:"
   ]
  },
  {
   "cell_type": "code",
   "execution_count": 1,
   "metadata": {},
   "outputs": [],
   "source": [
    "import htmap\n",
    "\n",
    "@htmap.mapped\n",
    "def foo(_):  # _ is a perfectly legal argument name, often used to mean \"I don't actually use it\"\n",
    "    return \"I didn't get held!\""
   ]
  },
  {
   "cell_type": "code",
   "execution_count": 2,
   "metadata": {},
   "outputs": [
    {
     "name": "stdout",
     "output_type": "stream",
     "text": [
      "Created map angry-husky-law with 1 components\n"
     ]
    }
   ],
   "source": [
    "path = htmap.TransferPath('this-file-does-not-exist.txt')\n",
    "will_get_held = foo.map(\n",
    "    [path],\n",
    ")"
   ]
  },
  {
   "cell_type": "markdown",
   "metadata": {},
   "source": [
    "We know that the component will fail, but HTMap won't know about it until we try to look at the output:"
   ]
  },
  {
   "cell_type": "code",
   "execution_count": 3,
   "metadata": {},
   "outputs": [
    {
     "ename": "MapComponentHeld",
     "evalue": "Component 0 of map angry-husky-law is held: [13] Error from slot1_6@1bea834c10a5: SHADOW at 172.17.0.2 failed to send file(s) to <172.17.0.2:33571>: error reading from /home/jovyan/tutorials/this-file-does-not-exist.txt: (errno 2) No such file or directory; STARTER failed to receive file(s) from <172.17.0.2:9618>",
     "output_type": "error",
     "traceback": [
      "\u001b[0;31m---------------------------------------------------------------------------\u001b[0m",
      "\u001b[0;31mMapComponentHeld\u001b[0m                          Traceback (most recent call last)",
      "\u001b[0;32m<ipython-input-3-68dfbf32680e>\u001b[0m in \u001b[0;36m<module>\u001b[0;34m\u001b[0m\n\u001b[0;32m----> 1\u001b[0;31m \u001b[0mprint\u001b[0m\u001b[0;34m(\u001b[0m\u001b[0mwill_get_held\u001b[0m\u001b[0;34m.\u001b[0m\u001b[0mget\u001b[0m\u001b[0;34m(\u001b[0m\u001b[0;36m0\u001b[0m\u001b[0;34m)\u001b[0m\u001b[0;34m)\u001b[0m\u001b[0;34m\u001b[0m\u001b[0;34m\u001b[0m\u001b[0m\n\u001b[0m",
      "\u001b[0;32m~/htmap/htmap/maps.py\u001b[0m in \u001b[0;36m_protect\u001b[0;34m(self, *args, **kwargs)\u001b[0m\n\u001b[1;32m     43\u001b[0m         \u001b[0;32mif\u001b[0m \u001b[0;32mnot\u001b[0m \u001b[0mself\u001b[0m\u001b[0;34m.\u001b[0m\u001b[0mexists\u001b[0m\u001b[0;34m:\u001b[0m\u001b[0;34m\u001b[0m\u001b[0;34m\u001b[0m\u001b[0m\n\u001b[1;32m     44\u001b[0m             \u001b[0;32mraise\u001b[0m \u001b[0mexceptions\u001b[0m\u001b[0;34m.\u001b[0m\u001b[0mMapWasRemoved\u001b[0m\u001b[0;34m(\u001b[0m\u001b[0;34mf'Cannot call {method} for map {self.tag} because it has been removed'\u001b[0m\u001b[0;34m)\u001b[0m\u001b[0;34m\u001b[0m\u001b[0;34m\u001b[0m\u001b[0m\n\u001b[0;32m---> 45\u001b[0;31m         \u001b[0;32mreturn\u001b[0m \u001b[0mmethod\u001b[0m\u001b[0;34m(\u001b[0m\u001b[0mself\u001b[0m\u001b[0;34m,\u001b[0m \u001b[0;34m*\u001b[0m\u001b[0margs\u001b[0m\u001b[0;34m,\u001b[0m \u001b[0;34m**\u001b[0m\u001b[0mkwargs\u001b[0m\u001b[0;34m)\u001b[0m\u001b[0;34m\u001b[0m\u001b[0;34m\u001b[0m\u001b[0m\n\u001b[0m\u001b[1;32m     46\u001b[0m \u001b[0;34m\u001b[0m\u001b[0m\n\u001b[1;32m     47\u001b[0m     \u001b[0;32mreturn\u001b[0m \u001b[0m_protect\u001b[0m\u001b[0;34m\u001b[0m\u001b[0;34m\u001b[0m\u001b[0m\n",
      "\u001b[0;32m~/htmap/htmap/maps.py\u001b[0m in \u001b[0;36mget\u001b[0;34m(self, component, timeout)\u001b[0m\n\u001b[1;32m    390\u001b[0m             \u001b[0mIf\u001b[0m\u001b[0;31m \u001b[0m\u001b[0;31m`\u001b[0m\u001b[0;31m`\u001b[0m\u001b[0;32mNone\u001b[0m\u001b[0;31m`\u001b[0m\u001b[0;31m`\u001b[0m\u001b[0;34m,\u001b[0m \u001b[0mwait\u001b[0m \u001b[0mforever\u001b[0m\u001b[0;34m.\u001b[0m\u001b[0;34m\u001b[0m\u001b[0;34m\u001b[0m\u001b[0m\n\u001b[1;32m    391\u001b[0m         \"\"\"\n\u001b[0;32m--> 392\u001b[0;31m         \u001b[0;32mreturn\u001b[0m \u001b[0mself\u001b[0m\u001b[0;34m.\u001b[0m\u001b[0m_load_output\u001b[0m\u001b[0;34m(\u001b[0m\u001b[0mcomponent\u001b[0m\u001b[0;34m,\u001b[0m \u001b[0mtimeout\u001b[0m \u001b[0;34m=\u001b[0m \u001b[0mtimeout\u001b[0m\u001b[0;34m)\u001b[0m\u001b[0;34m\u001b[0m\u001b[0;34m\u001b[0m\u001b[0m\n\u001b[0m\u001b[1;32m    393\u001b[0m \u001b[0;34m\u001b[0m\u001b[0m\n\u001b[1;32m    394\u001b[0m     \u001b[0;32mdef\u001b[0m \u001b[0m__getitem__\u001b[0m\u001b[0;34m(\u001b[0m\u001b[0mself\u001b[0m\u001b[0;34m,\u001b[0m \u001b[0mitem\u001b[0m\u001b[0;34m:\u001b[0m \u001b[0mint\u001b[0m\u001b[0;34m)\u001b[0m \u001b[0;34m->\u001b[0m \u001b[0mAny\u001b[0m\u001b[0;34m:\u001b[0m\u001b[0;34m\u001b[0m\u001b[0;34m\u001b[0m\u001b[0m\n",
      "\u001b[0;32m~/htmap/htmap/maps.py\u001b[0m in \u001b[0;36m_load_output\u001b[0;34m(self, component, timeout)\u001b[0m\n\u001b[1;32m    341\u001b[0m             \u001b[0;32mraise\u001b[0m \u001b[0mIndexError\u001b[0m\u001b[0;34m(\u001b[0m\u001b[0;34mf'Tried to get output for component {component}, but map {self.tag} only has {len(self)} components'\u001b[0m\u001b[0;34m)\u001b[0m\u001b[0;34m\u001b[0m\u001b[0;34m\u001b[0m\u001b[0m\n\u001b[1;32m    342\u001b[0m \u001b[0;34m\u001b[0m\u001b[0m\n\u001b[0;32m--> 343\u001b[0;31m         \u001b[0mself\u001b[0m\u001b[0;34m.\u001b[0m\u001b[0m_wait_for_component\u001b[0m\u001b[0;34m(\u001b[0m\u001b[0mcomponent\u001b[0m\u001b[0;34m,\u001b[0m \u001b[0mtimeout\u001b[0m\u001b[0;34m)\u001b[0m\u001b[0;34m\u001b[0m\u001b[0;34m\u001b[0m\u001b[0m\n\u001b[0m\u001b[1;32m    344\u001b[0m \u001b[0;34m\u001b[0m\u001b[0m\n\u001b[1;32m    345\u001b[0m         \u001b[0mstatus_and_result\u001b[0m \u001b[0;34m=\u001b[0m \u001b[0mhtio\u001b[0m\u001b[0;34m.\u001b[0m\u001b[0mload_objects\u001b[0m\u001b[0;34m(\u001b[0m\u001b[0mself\u001b[0m\u001b[0;34m.\u001b[0m\u001b[0m_output_file_path\u001b[0m\u001b[0;34m(\u001b[0m\u001b[0mcomponent\u001b[0m\u001b[0;34m)\u001b[0m\u001b[0;34m)\u001b[0m\u001b[0;34m\u001b[0m\u001b[0;34m\u001b[0m\u001b[0m\n",
      "\u001b[0;32m~/htmap/htmap/maps.py\u001b[0m in \u001b[0;36m_wait_for_component\u001b[0;34m(self, component, timeout)\u001b[0m\n\u001b[1;32m    307\u001b[0m                 \u001b[0;32mbreak\u001b[0m\u001b[0;34m\u001b[0m\u001b[0;34m\u001b[0m\u001b[0m\n\u001b[1;32m    308\u001b[0m             \u001b[0;32melif\u001b[0m \u001b[0mcomponent_status\u001b[0m \u001b[0;32mis\u001b[0m \u001b[0mstate\u001b[0m\u001b[0;34m.\u001b[0m\u001b[0mComponentStatus\u001b[0m\u001b[0;34m.\u001b[0m\u001b[0mHELD\u001b[0m\u001b[0;34m:\u001b[0m\u001b[0;34m\u001b[0m\u001b[0;34m\u001b[0m\u001b[0m\n\u001b[0;32m--> 309\u001b[0;31m                 \u001b[0;32mraise\u001b[0m \u001b[0mexceptions\u001b[0m\u001b[0;34m.\u001b[0m\u001b[0mMapComponentHeld\u001b[0m\u001b[0;34m(\u001b[0m\u001b[0;34mf'Component {component} of map {self.tag} is held: {self.holds[component]}'\u001b[0m\u001b[0;34m)\u001b[0m\u001b[0;34m\u001b[0m\u001b[0;34m\u001b[0m\u001b[0m\n\u001b[0m\u001b[1;32m    310\u001b[0m \u001b[0;34m\u001b[0m\u001b[0m\n\u001b[1;32m    311\u001b[0m             \u001b[0;32mif\u001b[0m \u001b[0mtimeout\u001b[0m \u001b[0;32mis\u001b[0m \u001b[0;32mnot\u001b[0m \u001b[0;32mNone\u001b[0m \u001b[0;32mand\u001b[0m \u001b[0;34m(\u001b[0m\u001b[0mtime\u001b[0m\u001b[0;34m.\u001b[0m\u001b[0mtime\u001b[0m\u001b[0;34m(\u001b[0m\u001b[0;34m)\u001b[0m \u001b[0;34m>=\u001b[0m \u001b[0mstart_time\u001b[0m \u001b[0;34m+\u001b[0m \u001b[0mtimeout\u001b[0m\u001b[0;34m)\u001b[0m\u001b[0;34m:\u001b[0m\u001b[0;34m\u001b[0m\u001b[0;34m\u001b[0m\u001b[0m\n",
      "\u001b[0;31mMapComponentHeld\u001b[0m: Component 0 of map angry-husky-law is held: [13] Error from slot1_6@1bea834c10a5: SHADOW at 172.17.0.2 failed to send file(s) to <172.17.0.2:33571>: error reading from /home/jovyan/tutorials/this-file-does-not-exist.txt: (errno 2) No such file or directory; STARTER failed to receive file(s) from <172.17.0.2:9618>"
     ]
    }
   ],
   "source": [
    "print(will_get_held.get(0))"
   ]
  },
  {
   "cell_type": "markdown",
   "metadata": {},
   "source": [
    "Yikes!\n",
    "HTMap has raised an exception to inform us that a component of our map got held.\n",
    "It also tells us why HTCondor held the component: `error reading from /home/jovyan/tutorials/this-file-does-not-exist: (errno 2) No such file or directory; STARTER failed to receive file(s) from <172.17.0.2:9618>`.\n",
    "\n",
    "This time around the hold reason is pretty clear: a local file that HTCondor expected to exist didn't.\n",
    "We could fix the problem by creating the file, and then releasing the map, which tells HTCondor to try again:"
   ]
  },
  {
   "cell_type": "code",
   "execution_count": 4,
   "metadata": {},
   "outputs": [],
   "source": [
    "path.touch()  # this creates an empty file"
   ]
  },
  {
   "cell_type": "markdown",
   "metadata": {},
   "source": [
    "Now the map will run successfully.\n",
    "We tell HTMap to \"release\" the hold, allowing the map to continue running."
   ]
  },
  {
   "cell_type": "code",
   "execution_count": 5,
   "metadata": {},
   "outputs": [
    {
     "name": "stdout",
     "output_type": "stream",
     "text": [
      "I didn't get held!\n"
     ]
    }
   ],
   "source": [
    "will_get_held.release()\n",
    "print(will_get_held.get(0))"
   ]
  },
  {
   "cell_type": "markdown",
   "metadata": {},
   "source": [
    "### Debugging holds"
   ]
  },
  {
   "cell_type": "markdown",
   "metadata": {},
   "source": [
    "Unfortunately, holds will often not be so easy to resolve.\n",
    "Sometimes they are simply ephemeral errors that can be resolved by releasing the map without changing anything.\n",
    "But sometimes you'll need to talk to your HTCondor pool administrator to figure out what's going wrong."
   ]
  },
  {
   "cell_type": "markdown",
   "metadata": {},
   "source": [
    "Sometimes these errors are caused by additional parameters specified in your `~/.htmaprc` file. Are you sure `~/.htmaprc` has the intended parameters?\n",
    "\n",
    "If you're feeling really adventurous, look at files in the directory `~/.htmap/`. The standard output and error files are contained within this directory. This might help solve your problem."
   ]
  },
  {
   "cell_type": "markdown",
   "metadata": {},
   "source": [
    "## Execution Errors"
   ]
  },
  {
   "cell_type": "markdown",
   "metadata": {},
   "source": [
    "HTMap can also detect Python exceptions that occur during component execution.\n",
    "To see this in action, let's define a function where a component will have a problem:"
   ]
  },
  {
   "cell_type": "code",
   "execution_count": 6,
   "metadata": {},
   "outputs": [],
   "source": [
    "@htmap.mapped\n",
    "def inverse(x):\n",
    "    return 1 / x"
   ]
  },
  {
   "cell_type": "markdown",
   "metadata": {},
   "source": [
    "When `x = 0`, `inverse(x)` will fail with a `ZeroDivisionError`.\n",
    "If we run it locally, the error will halt execution and drop a traceback into our laps:"
   ]
  },
  {
   "cell_type": "code",
   "execution_count": 7,
   "metadata": {},
   "outputs": [
    {
     "ename": "ZeroDivisionError",
     "evalue": "division by zero",
     "output_type": "error",
     "traceback": [
      "\u001b[0;31m---------------------------------------------------------------------------\u001b[0m",
      "\u001b[0;31mZeroDivisionError\u001b[0m                         Traceback (most recent call last)",
      "\u001b[0;32m<ipython-input-7-7538d73c586c>\u001b[0m in \u001b[0;36m<module>\u001b[0;34m\u001b[0m\n\u001b[0;32m----> 1\u001b[0;31m \u001b[0minverse\u001b[0m\u001b[0;34m(\u001b[0m\u001b[0;36m0\u001b[0m\u001b[0;34m)\u001b[0m\u001b[0;34m\u001b[0m\u001b[0;34m\u001b[0m\u001b[0m\n\u001b[0m",
      "\u001b[0;32m~/htmap/htmap/mapped.py\u001b[0m in \u001b[0;36m__call__\u001b[0;34m(self, *args, **kwargs)\u001b[0m\n\u001b[1;32m     50\u001b[0m     \u001b[0;32mdef\u001b[0m \u001b[0m__call__\u001b[0m\u001b[0;34m(\u001b[0m\u001b[0mself\u001b[0m\u001b[0;34m,\u001b[0m \u001b[0;34m*\u001b[0m\u001b[0margs\u001b[0m\u001b[0;34m,\u001b[0m \u001b[0;34m**\u001b[0m\u001b[0mkwargs\u001b[0m\u001b[0;34m)\u001b[0m\u001b[0;34m:\u001b[0m\u001b[0;34m\u001b[0m\u001b[0;34m\u001b[0m\u001b[0m\n\u001b[1;32m     51\u001b[0m         \u001b[0;34m\"\"\"Call the function as normal, locally.\"\"\"\u001b[0m\u001b[0;34m\u001b[0m\u001b[0;34m\u001b[0m\u001b[0m\n\u001b[0;32m---> 52\u001b[0;31m         \u001b[0;32mreturn\u001b[0m \u001b[0mself\u001b[0m\u001b[0;34m.\u001b[0m\u001b[0mfunc\u001b[0m\u001b[0;34m(\u001b[0m\u001b[0;34m*\u001b[0m\u001b[0margs\u001b[0m\u001b[0;34m,\u001b[0m \u001b[0;34m**\u001b[0m\u001b[0mkwargs\u001b[0m\u001b[0;34m)\u001b[0m\u001b[0;34m\u001b[0m\u001b[0;34m\u001b[0m\u001b[0m\n\u001b[0m\u001b[1;32m     53\u001b[0m \u001b[0;34m\u001b[0m\u001b[0m\n\u001b[1;32m     54\u001b[0m     def map(\n",
      "\u001b[0;32m<ipython-input-6-769ac4dfb4b6>\u001b[0m in \u001b[0;36minverse\u001b[0;34m(x)\u001b[0m\n\u001b[1;32m      1\u001b[0m \u001b[0;34m@\u001b[0m\u001b[0mhtmap\u001b[0m\u001b[0;34m.\u001b[0m\u001b[0mmapped\u001b[0m\u001b[0;34m\u001b[0m\u001b[0;34m\u001b[0m\u001b[0m\n\u001b[1;32m      2\u001b[0m \u001b[0;32mdef\u001b[0m \u001b[0minverse\u001b[0m\u001b[0;34m(\u001b[0m\u001b[0mx\u001b[0m\u001b[0;34m)\u001b[0m\u001b[0;34m:\u001b[0m\u001b[0;34m\u001b[0m\u001b[0;34m\u001b[0m\u001b[0m\n\u001b[0;32m----> 3\u001b[0;31m     \u001b[0;32mreturn\u001b[0m \u001b[0;36m1\u001b[0m \u001b[0;34m/\u001b[0m \u001b[0mx\u001b[0m\u001b[0;34m\u001b[0m\u001b[0;34m\u001b[0m\u001b[0m\n\u001b[0m",
      "\u001b[0;31mZeroDivisionError\u001b[0m: division by zero"
     ]
    }
   ],
   "source": [
    "inverse(0)"
   ]
  },
  {
   "cell_type": "markdown",
   "metadata": {},
   "source": [
    "The traceback has a lot of critically-useful information in it. In fact, it tells us exactly the line that raised the error (remember that tracebacks should be read in reverse - the last block of source code is where the error began).\n",
    "\n",
    "HTMap is able to transport this kind of information back from an executing component, but like the regular output of a map we won't see it until we try to load up the output for the failed component.\n",
    "We'll make a one-component map to demonstrate what happens:"
   ]
  },
  {
   "cell_type": "code",
   "execution_count": 8,
   "metadata": {},
   "outputs": [
    {
     "name": "stdout",
     "output_type": "stream",
     "text": [
      "Created map fair-sly-drone with 1 components\n"
     ]
    },
    {
     "ename": "MapComponentError",
     "evalue": "Component 0 of map fair-sly-drone encountered error while executing. Error report:\n==========  Start error report for component 0 of map fair-sly-drone  ==========\nLanded on execute node 1bea834c10a5 (172.17.0.2) at 2020-05-21 17:45:40.954824\n\nPython executable is /opt/conda/bin/python3 (version 3.7.6)\nwith installed packages\n  alembic==1.4.2\n  async-generator==1.10\n  attrs==19.3.0\n  backcall==0.1.0\n  bleach==3.1.4\n  blinker==1.4\n  brotlipy==0.7.0\n  certifi==2020.4.5.1\n  certipy==0.1.3\n  cffi==1.14.0\n  chardet==3.0.4\n  click==7.1.2\n  click-didyoumean==0.0.3\n  cloudpickle==1.4.1\n  colorama==0.4.3\n  conda==4.8.2\n  conda-package-handling==1.6.0\n  cryptography==2.9.2\n  cursor==1.3.4\n  decorator==4.4.2\n  defusedxml==0.6.0\n  entrypoints==0.3\n  halo==0.0.29\n  htchirp==1.0\n  htcondor==8.9.6\n  -e git+https://github.com/htcondor/htmap.git@e0fd6de94fcad0295ae674e5479fac51cf57f34f#egg=htmap\n  idna==2.9\n  importlib-metadata==1.6.0\n  ipykernel==5.2.1\n  ipython @ file:///home/conda/feedstock_root/build_artifacts/ipython_1588362967322/work\n  ipython-genutils==0.2.0\n  jedi==0.17.0\n  Jinja2==2.11.2\n  json5==0.9.0\n  jsonschema==3.2.0\n  jupyter-client==6.1.3\n  jupyter-core==4.6.3\n  jupyter-telemetry==0.0.5\n  jupyterhub==1.1.0\n  jupyterlab==2.1.1\n  jupyterlab-server==1.1.1\n  log-symbols==0.0.14\n  Mako==1.1.0\n  MarkupSafe==1.1.1\n  mistune==0.8.4\n  nbconvert==5.6.1\n  nbformat==5.0.6\n  nbstripout==0.3.7\n  notebook==6.0.3\n  oauthlib==3.0.1\n  pamela==1.0.0\n  pandocfilters==1.4.2\n  parso==0.7.0\n  pexpect==4.8.0\n  pickleshare==0.7.5\n  prometheus-client==0.7.1\n  prompt-toolkit==3.0.5\n  ptyprocess==0.6.0\n  pycosat==0.6.3\n  pycparser==2.20\n  pycurl==7.43.0.5\n  Pygments==2.6.1\n  PyJWT==1.7.1\n  pyOpenSSL==19.1.0\n  pyrsistent==0.16.0\n  PySocks==1.7.1\n  python-dateutil==2.8.1\n  python-editor==1.0.4\n  python-json-logger==0.1.11\n  pyzmq==19.0.0\n  requests==2.23.0\n  ruamel-yaml==0.15.80\n  ruamel.yaml.clib==0.2.0\n  Send2Trash==1.5.0\n  six==1.14.0\n  spinners==0.0.24\n  SQLAlchemy==1.3.16\n  termcolor==1.1.0\n  terminado==0.8.3\n  testpath==0.4.4\n  toml==0.10.0\n  tornado==6.0.4\n  tqdm==4.46.0\n  traitlets==4.3.3\n  urllib3==1.25.9\n  wcwidth==0.1.9\n  webencodings==0.5.1\n  zipp==3.1.0\n\nScratch directory contents are\n  /home/jovyan/.condor/local/execute/dir_461/.chirp.config\n  /home/jovyan/.condor/local/execute/dir_461/_htmap_user_transfer\n  /home/jovyan/.condor/local/execute/dir_461/.job.ad\n  /home/jovyan/.condor/local/execute/dir_461/_condor_stderr\n  /home/jovyan/.condor/local/execute/dir_461/.machine.ad\n  /home/jovyan/.condor/local/execute/dir_461/func\n  /home/jovyan/.condor/local/execute/dir_461/_condor_stdout\n  /home/jovyan/.condor/local/execute/dir_461/0.in\n  /home/jovyan/.condor/local/execute/dir_461/_htmap_transfer\n  /home/jovyan/.condor/local/execute/dir_461/_htmap_do_output_transfer\n  /home/jovyan/.condor/local/execute/dir_461/_htmap_transfer_plugin_cache\n  /home/jovyan/.condor/local/execute/dir_461/condor_exec.exe\n  /home/jovyan/.condor/local/execute/dir_461/.update.ad\n\nException and traceback (most recent call last):\n  File \"<ipython-input-6-769ac4dfb4b6>\", line 3, in inverse\n    return 1 / x\n\n    Local variables:\n      x = 0\n\n  ZeroDivisionError: division by zero\n\n===========  End error report for component 0 of map fair-sly-drone  ===========",
     "output_type": "error",
     "traceback": [
      "\u001b[0;31m---------------------------------------------------------------------------\u001b[0m",
      "\u001b[0;31mMapComponentError\u001b[0m                         Traceback (most recent call last)",
      "\u001b[0;32m<ipython-input-8-d23b8117e4db>\u001b[0m in \u001b[0;36m<module>\u001b[0;34m\u001b[0m\n\u001b[1;32m      1\u001b[0m \u001b[0mbad_map\u001b[0m \u001b[0;34m=\u001b[0m \u001b[0minverse\u001b[0m\u001b[0;34m.\u001b[0m\u001b[0mmap\u001b[0m\u001b[0;34m(\u001b[0m\u001b[0;34m[\u001b[0m\u001b[0;36m0\u001b[0m\u001b[0;34m]\u001b[0m\u001b[0;34m)\u001b[0m\u001b[0;34m\u001b[0m\u001b[0;34m\u001b[0m\u001b[0m\n\u001b[0;32m----> 2\u001b[0;31m \u001b[0mbad_map\u001b[0m\u001b[0;34m.\u001b[0m\u001b[0mget\u001b[0m\u001b[0;34m(\u001b[0m\u001b[0;36m0\u001b[0m\u001b[0;34m)\u001b[0m\u001b[0;34m\u001b[0m\u001b[0;34m\u001b[0m\u001b[0m\n\u001b[0m",
      "\u001b[0;32m~/htmap/htmap/maps.py\u001b[0m in \u001b[0;36m_protect\u001b[0;34m(self, *args, **kwargs)\u001b[0m\n\u001b[1;32m     43\u001b[0m         \u001b[0;32mif\u001b[0m \u001b[0;32mnot\u001b[0m \u001b[0mself\u001b[0m\u001b[0;34m.\u001b[0m\u001b[0mexists\u001b[0m\u001b[0;34m:\u001b[0m\u001b[0;34m\u001b[0m\u001b[0;34m\u001b[0m\u001b[0m\n\u001b[1;32m     44\u001b[0m             \u001b[0;32mraise\u001b[0m \u001b[0mexceptions\u001b[0m\u001b[0;34m.\u001b[0m\u001b[0mMapWasRemoved\u001b[0m\u001b[0;34m(\u001b[0m\u001b[0;34mf'Cannot call {method} for map {self.tag} because it has been removed'\u001b[0m\u001b[0;34m)\u001b[0m\u001b[0;34m\u001b[0m\u001b[0;34m\u001b[0m\u001b[0m\n\u001b[0;32m---> 45\u001b[0;31m         \u001b[0;32mreturn\u001b[0m \u001b[0mmethod\u001b[0m\u001b[0;34m(\u001b[0m\u001b[0mself\u001b[0m\u001b[0;34m,\u001b[0m \u001b[0;34m*\u001b[0m\u001b[0margs\u001b[0m\u001b[0;34m,\u001b[0m \u001b[0;34m**\u001b[0m\u001b[0mkwargs\u001b[0m\u001b[0;34m)\u001b[0m\u001b[0;34m\u001b[0m\u001b[0;34m\u001b[0m\u001b[0m\n\u001b[0m\u001b[1;32m     46\u001b[0m \u001b[0;34m\u001b[0m\u001b[0m\n\u001b[1;32m     47\u001b[0m     \u001b[0;32mreturn\u001b[0m \u001b[0m_protect\u001b[0m\u001b[0;34m\u001b[0m\u001b[0;34m\u001b[0m\u001b[0m\n",
      "\u001b[0;32m~/htmap/htmap/maps.py\u001b[0m in \u001b[0;36mget\u001b[0;34m(self, component, timeout)\u001b[0m\n\u001b[1;32m    390\u001b[0m             \u001b[0mIf\u001b[0m\u001b[0;31m \u001b[0m\u001b[0;31m`\u001b[0m\u001b[0;31m`\u001b[0m\u001b[0;32mNone\u001b[0m\u001b[0;31m`\u001b[0m\u001b[0;31m`\u001b[0m\u001b[0;34m,\u001b[0m \u001b[0mwait\u001b[0m \u001b[0mforever\u001b[0m\u001b[0;34m.\u001b[0m\u001b[0;34m\u001b[0m\u001b[0;34m\u001b[0m\u001b[0m\n\u001b[1;32m    391\u001b[0m         \"\"\"\n\u001b[0;32m--> 392\u001b[0;31m         \u001b[0;32mreturn\u001b[0m \u001b[0mself\u001b[0m\u001b[0;34m.\u001b[0m\u001b[0m_load_output\u001b[0m\u001b[0;34m(\u001b[0m\u001b[0mcomponent\u001b[0m\u001b[0;34m,\u001b[0m \u001b[0mtimeout\u001b[0m \u001b[0;34m=\u001b[0m \u001b[0mtimeout\u001b[0m\u001b[0;34m)\u001b[0m\u001b[0;34m\u001b[0m\u001b[0;34m\u001b[0m\u001b[0m\n\u001b[0m\u001b[1;32m    393\u001b[0m \u001b[0;34m\u001b[0m\u001b[0m\n\u001b[1;32m    394\u001b[0m     \u001b[0;32mdef\u001b[0m \u001b[0m__getitem__\u001b[0m\u001b[0;34m(\u001b[0m\u001b[0mself\u001b[0m\u001b[0;34m,\u001b[0m \u001b[0mitem\u001b[0m\u001b[0;34m:\u001b[0m \u001b[0mint\u001b[0m\u001b[0;34m)\u001b[0m \u001b[0;34m->\u001b[0m \u001b[0mAny\u001b[0m\u001b[0;34m:\u001b[0m\u001b[0;34m\u001b[0m\u001b[0;34m\u001b[0m\u001b[0m\n",
      "\u001b[0;32m~/htmap/htmap/maps.py\u001b[0m in \u001b[0;36m_load_output\u001b[0;34m(self, component, timeout)\u001b[0m\n\u001b[1;32m    348\u001b[0m             \u001b[0;32mreturn\u001b[0m \u001b[0mnext\u001b[0m\u001b[0;34m(\u001b[0m\u001b[0mstatus_and_result\u001b[0m\u001b[0;34m)\u001b[0m\u001b[0;34m\u001b[0m\u001b[0;34m\u001b[0m\u001b[0m\n\u001b[1;32m    349\u001b[0m         \u001b[0;32melif\u001b[0m \u001b[0mstatus\u001b[0m \u001b[0;34m==\u001b[0m \u001b[0;34m'ERR'\u001b[0m\u001b[0;34m:\u001b[0m\u001b[0;34m\u001b[0m\u001b[0;34m\u001b[0m\u001b[0m\n\u001b[0;32m--> 350\u001b[0;31m             \u001b[0;32mraise\u001b[0m \u001b[0mexceptions\u001b[0m\u001b[0;34m.\u001b[0m\u001b[0mMapComponentError\u001b[0m\u001b[0;34m(\u001b[0m\u001b[0;34mf'Component {component} of map {self.tag} encountered error while executing. Error report:\\n{self._load_error(component).report()}'\u001b[0m\u001b[0;34m)\u001b[0m\u001b[0;34m\u001b[0m\u001b[0;34m\u001b[0m\u001b[0m\n\u001b[0m\u001b[1;32m    351\u001b[0m         \u001b[0;32melse\u001b[0m\u001b[0;34m:\u001b[0m\u001b[0;34m\u001b[0m\u001b[0;34m\u001b[0m\u001b[0m\n\u001b[1;32m    352\u001b[0m             \u001b[0;32mraise\u001b[0m \u001b[0mexceptions\u001b[0m\u001b[0;34m.\u001b[0m\u001b[0mInvalidOutputStatus\u001b[0m\u001b[0;34m(\u001b[0m\u001b[0;34mf'Output status {status} is not valid'\u001b[0m\u001b[0;34m)\u001b[0m\u001b[0;34m\u001b[0m\u001b[0;34m\u001b[0m\u001b[0m\n",
      "\u001b[0;31mMapComponentError\u001b[0m: Component 0 of map fair-sly-drone encountered error while executing. Error report:\n==========  Start error report for component 0 of map fair-sly-drone  ==========\nLanded on execute node 1bea834c10a5 (172.17.0.2) at 2020-05-21 17:45:40.954824\n\nPython executable is /opt/conda/bin/python3 (version 3.7.6)\nwith installed packages\n  alembic==1.4.2\n  async-generator==1.10\n  attrs==19.3.0\n  backcall==0.1.0\n  bleach==3.1.4\n  blinker==1.4\n  brotlipy==0.7.0\n  certifi==2020.4.5.1\n  certipy==0.1.3\n  cffi==1.14.0\n  chardet==3.0.4\n  click==7.1.2\n  click-didyoumean==0.0.3\n  cloudpickle==1.4.1\n  colorama==0.4.3\n  conda==4.8.2\n  conda-package-handling==1.6.0\n  cryptography==2.9.2\n  cursor==1.3.4\n  decorator==4.4.2\n  defusedxml==0.6.0\n  entrypoints==0.3\n  halo==0.0.29\n  htchirp==1.0\n  htcondor==8.9.6\n  -e git+https://github.com/htcondor/htmap.git@e0fd6de94fcad0295ae674e5479fac51cf57f34f#egg=htmap\n  idna==2.9\n  importlib-metadata==1.6.0\n  ipykernel==5.2.1\n  ipython @ file:///home/conda/feedstock_root/build_artifacts/ipython_1588362967322/work\n  ipython-genutils==0.2.0\n  jedi==0.17.0\n  Jinja2==2.11.2\n  json5==0.9.0\n  jsonschema==3.2.0\n  jupyter-client==6.1.3\n  jupyter-core==4.6.3\n  jupyter-telemetry==0.0.5\n  jupyterhub==1.1.0\n  jupyterlab==2.1.1\n  jupyterlab-server==1.1.1\n  log-symbols==0.0.14\n  Mako==1.1.0\n  MarkupSafe==1.1.1\n  mistune==0.8.4\n  nbconvert==5.6.1\n  nbformat==5.0.6\n  nbstripout==0.3.7\n  notebook==6.0.3\n  oauthlib==3.0.1\n  pamela==1.0.0\n  pandocfilters==1.4.2\n  parso==0.7.0\n  pexpect==4.8.0\n  pickleshare==0.7.5\n  prometheus-client==0.7.1\n  prompt-toolkit==3.0.5\n  ptyprocess==0.6.0\n  pycosat==0.6.3\n  pycparser==2.20\n  pycurl==7.43.0.5\n  Pygments==2.6.1\n  PyJWT==1.7.1\n  pyOpenSSL==19.1.0\n  pyrsistent==0.16.0\n  PySocks==1.7.1\n  python-dateutil==2.8.1\n  python-editor==1.0.4\n  python-json-logger==0.1.11\n  pyzmq==19.0.0\n  requests==2.23.0\n  ruamel-yaml==0.15.80\n  ruamel.yaml.clib==0.2.0\n  Send2Trash==1.5.0\n  six==1.14.0\n  spinners==0.0.24\n  SQLAlchemy==1.3.16\n  termcolor==1.1.0\n  terminado==0.8.3\n  testpath==0.4.4\n  toml==0.10.0\n  tornado==6.0.4\n  tqdm==4.46.0\n  traitlets==4.3.3\n  urllib3==1.25.9\n  wcwidth==0.1.9\n  webencodings==0.5.1\n  zipp==3.1.0\n\nScratch directory contents are\n  /home/jovyan/.condor/local/execute/dir_461/.chirp.config\n  /home/jovyan/.condor/local/execute/dir_461/_htmap_user_transfer\n  /home/jovyan/.condor/local/execute/dir_461/.job.ad\n  /home/jovyan/.condor/local/execute/dir_461/_condor_stderr\n  /home/jovyan/.condor/local/execute/dir_461/.machine.ad\n  /home/jovyan/.condor/local/execute/dir_461/func\n  /home/jovyan/.condor/local/execute/dir_461/_condor_stdout\n  /home/jovyan/.condor/local/execute/dir_461/0.in\n  /home/jovyan/.condor/local/execute/dir_461/_htmap_transfer\n  /home/jovyan/.condor/local/execute/dir_461/_htmap_do_output_transfer\n  /home/jovyan/.condor/local/execute/dir_461/_htmap_transfer_plugin_cache\n  /home/jovyan/.condor/local/execute/dir_461/condor_exec.exe\n  /home/jovyan/.condor/local/execute/dir_461/.update.ad\n\nException and traceback (most recent call last):\n  File \"<ipython-input-6-769ac4dfb4b6>\", line 3, in inverse\n    return 1 / x\n\n    Local variables:\n      x = 0\n\n  ZeroDivisionError: division by zero\n\n===========  End error report for component 0 of map fair-sly-drone  ==========="
     ]
    }
   ],
   "source": [
    "bad_map = inverse.map([0])\n",
    "bad_map.get(0)"
   ]
  },
  {
   "cell_type": "markdown",
   "metadata": {},
   "source": [
    "Neat!\n",
    "This traceback is, unfortunately, harder to read than the other one.\n",
    "We need to ignore everything above `MapComponentError: component 0 of map <tag> encountered error while executing. Error report:` - it's just about the internal error that HTMap is raising to propagate the error to us.\n",
    "The real error is the stuff below `=========  Start error report for component 0 of map <tag>  =========`.\n",
    "\n",
    "Since we're trying to debug remotely, HTMap has gathered some metadata about the HTCondor \"execute node\" where the component was running.\n",
    "First it tell us where it is and when the component started executing.\n",
    "Next, the report tells us about the Python environment that was used to execute your function, including a list of installed packages.\n",
    "We also get a listing of the contents of the working directory - in this example, because we didn't add any extra input files, it's just a bunch of files that HTCondor and HTMap are using.\n",
    "\n",
    "The meat of the error is the last thing in the error report.\n",
    "We get roughly the same information that we got in the local traceback, but we also get a printout of the local variables in each stack frame."
   ]
  },
  {
   "cell_type": "markdown",
   "metadata": {},
   "source": [
    "Since the local HTMap error is raised as soon as it finds a bad component, you may find it convenient to look at _all_ of the error reports for your map (hopefully not too many!).\n",
    "[htmap.Map.error_reports](https://htmap.readthedocs.io/en/stable/api.html#htmap.Map.error_reports) provides exactly this functionality:"
   ]
  },
  {
   "cell_type": "code",
   "execution_count": 9,
   "metadata": {},
   "outputs": [
    {
     "name": "stdout",
     "output_type": "stream",
     "text": [
      "Created map firm-vast-oven with 3 components\n",
      "==========  Start error report for component 0 of map firm-vast-oven  ==========\n",
      "Landed on execute node 1bea834c10a5 (172.17.0.2) at 2020-05-21 17:45:44.454503\n",
      "\n",
      "Python executable is /opt/conda/bin/python3 (version 3.7.6)\n",
      "with installed packages\n",
      "  alembic==1.4.2\n",
      "  async-generator==1.10\n",
      "  attrs==19.3.0\n",
      "  backcall==0.1.0\n",
      "  bleach==3.1.4\n",
      "  blinker==1.4\n",
      "  brotlipy==0.7.0\n",
      "  certifi==2020.4.5.1\n",
      "  certipy==0.1.3\n",
      "  cffi==1.14.0\n",
      "  chardet==3.0.4\n",
      "  click==7.1.2\n",
      "  click-didyoumean==0.0.3\n",
      "  cloudpickle==1.4.1\n",
      "  colorama==0.4.3\n",
      "  conda==4.8.2\n",
      "  conda-package-handling==1.6.0\n",
      "  cryptography==2.9.2\n",
      "  cursor==1.3.4\n",
      "  decorator==4.4.2\n",
      "  defusedxml==0.6.0\n",
      "  entrypoints==0.3\n",
      "  halo==0.0.29\n",
      "  htchirp==1.0\n",
      "  htcondor==8.9.6\n",
      "  -e git+https://github.com/htcondor/htmap.git@e0fd6de94fcad0295ae674e5479fac51cf57f34f#egg=htmap\n",
      "  idna==2.9\n",
      "  importlib-metadata==1.6.0\n",
      "  ipykernel==5.2.1\n",
      "  ipython @ file:///home/conda/feedstock_root/build_artifacts/ipython_1588362967322/work\n",
      "  ipython-genutils==0.2.0\n",
      "  jedi==0.17.0\n",
      "  Jinja2==2.11.2\n",
      "  json5==0.9.0\n",
      "  jsonschema==3.2.0\n",
      "  jupyter-client==6.1.3\n",
      "  jupyter-core==4.6.3\n",
      "  jupyter-telemetry==0.0.5\n",
      "  jupyterhub==1.1.0\n",
      "  jupyterlab==2.1.1\n",
      "  jupyterlab-server==1.1.1\n",
      "  log-symbols==0.0.14\n",
      "  Mako==1.1.0\n",
      "  MarkupSafe==1.1.1\n",
      "  mistune==0.8.4\n",
      "  nbconvert==5.6.1\n",
      "  nbformat==5.0.6\n",
      "  nbstripout==0.3.7\n",
      "  notebook==6.0.3\n",
      "  oauthlib==3.0.1\n",
      "  pamela==1.0.0\n",
      "  pandocfilters==1.4.2\n",
      "  parso==0.7.0\n",
      "  pexpect==4.8.0\n",
      "  pickleshare==0.7.5\n",
      "  prometheus-client==0.7.1\n",
      "  prompt-toolkit==3.0.5\n",
      "  ptyprocess==0.6.0\n",
      "  pycosat==0.6.3\n",
      "  pycparser==2.20\n",
      "  pycurl==7.43.0.5\n",
      "  Pygments==2.6.1\n",
      "  PyJWT==1.7.1\n",
      "  pyOpenSSL==19.1.0\n",
      "  pyrsistent==0.16.0\n",
      "  PySocks==1.7.1\n",
      "  python-dateutil==2.8.1\n",
      "  python-editor==1.0.4\n",
      "  python-json-logger==0.1.11\n",
      "  pyzmq==19.0.0\n",
      "  requests==2.23.0\n",
      "  ruamel-yaml==0.15.80\n",
      "  ruamel.yaml.clib==0.2.0\n",
      "  Send2Trash==1.5.0\n",
      "  six==1.14.0\n",
      "  spinners==0.0.24\n",
      "  SQLAlchemy==1.3.16\n",
      "  termcolor==1.1.0\n",
      "  terminado==0.8.3\n",
      "  testpath==0.4.4\n",
      "  toml==0.10.0\n",
      "  tornado==6.0.4\n",
      "  tqdm==4.46.0\n",
      "  traitlets==4.3.3\n",
      "  urllib3==1.25.9\n",
      "  wcwidth==0.1.9\n",
      "  webencodings==0.5.1\n",
      "  zipp==3.1.0\n",
      "\n",
      "Scratch directory contents are\n",
      "  /home/jovyan/.condor/local/execute/dir_492/.chirp.config\n",
      "  /home/jovyan/.condor/local/execute/dir_492/_htmap_user_transfer\n",
      "  /home/jovyan/.condor/local/execute/dir_492/.job.ad\n",
      "  /home/jovyan/.condor/local/execute/dir_492/_condor_stderr\n",
      "  /home/jovyan/.condor/local/execute/dir_492/.machine.ad\n",
      "  /home/jovyan/.condor/local/execute/dir_492/func\n",
      "  /home/jovyan/.condor/local/execute/dir_492/_condor_stdout\n",
      "  /home/jovyan/.condor/local/execute/dir_492/0.in\n",
      "  /home/jovyan/.condor/local/execute/dir_492/_htmap_transfer\n",
      "  /home/jovyan/.condor/local/execute/dir_492/_htmap_do_output_transfer\n",
      "  /home/jovyan/.condor/local/execute/dir_492/_htmap_transfer_plugin_cache\n",
      "  /home/jovyan/.condor/local/execute/dir_492/condor_exec.exe\n",
      "  /home/jovyan/.condor/local/execute/dir_492/.update.ad\n",
      "\n",
      "Exception and traceback (most recent call last):\n",
      "  File \"<ipython-input-6-769ac4dfb4b6>\", line 3, in inverse\n",
      "    return 1 / x\n",
      "\n",
      "    Local variables:\n",
      "      x = 0\n",
      "\n",
      "  ZeroDivisionError: division by zero\n",
      "\n",
      "===========  End error report for component 0 of map firm-vast-oven  ===========\n",
      "\n",
      "==========  Start error report for component 1 of map firm-vast-oven  ==========\n",
      "Landed on execute node 1bea834c10a5 (172.17.0.2) at 2020-05-21 17:45:44.216714\n",
      "\n",
      "Python executable is /opt/conda/bin/python3 (version 3.7.6)\n",
      "with installed packages\n",
      "  alembic==1.4.2\n",
      "  async-generator==1.10\n",
      "  attrs==19.3.0\n",
      "  backcall==0.1.0\n",
      "  bleach==3.1.4\n",
      "  blinker==1.4\n",
      "  brotlipy==0.7.0\n",
      "  certifi==2020.4.5.1\n",
      "  certipy==0.1.3\n",
      "  cffi==1.14.0\n",
      "  chardet==3.0.4\n",
      "  click==7.1.2\n",
      "  click-didyoumean==0.0.3\n",
      "  cloudpickle==1.4.1\n",
      "  colorama==0.4.3\n",
      "  conda==4.8.2\n",
      "  conda-package-handling==1.6.0\n",
      "  cryptography==2.9.2\n",
      "  cursor==1.3.4\n",
      "  decorator==4.4.2\n",
      "  defusedxml==0.6.0\n",
      "  entrypoints==0.3\n",
      "  halo==0.0.29\n",
      "  htchirp==1.0\n",
      "  htcondor==8.9.6\n",
      "  -e git+https://github.com/htcondor/htmap.git@e0fd6de94fcad0295ae674e5479fac51cf57f34f#egg=htmap\n",
      "  idna==2.9\n",
      "  importlib-metadata==1.6.0\n",
      "  ipykernel==5.2.1\n",
      "  ipython @ file:///home/conda/feedstock_root/build_artifacts/ipython_1588362967322/work\n",
      "  ipython-genutils==0.2.0\n",
      "  jedi==0.17.0\n",
      "  Jinja2==2.11.2\n",
      "  json5==0.9.0\n",
      "  jsonschema==3.2.0\n",
      "  jupyter-client==6.1.3\n",
      "  jupyter-core==4.6.3\n",
      "  jupyter-telemetry==0.0.5\n",
      "  jupyterhub==1.1.0\n",
      "  jupyterlab==2.1.1\n",
      "  jupyterlab-server==1.1.1\n",
      "  log-symbols==0.0.14\n",
      "  Mako==1.1.0\n",
      "  MarkupSafe==1.1.1\n",
      "  mistune==0.8.4\n",
      "  nbconvert==5.6.1\n",
      "  nbformat==5.0.6\n",
      "  nbstripout==0.3.7\n",
      "  notebook==6.0.3\n",
      "  oauthlib==3.0.1\n",
      "  pamela==1.0.0\n",
      "  pandocfilters==1.4.2\n",
      "  parso==0.7.0\n",
      "  pexpect==4.8.0\n",
      "  pickleshare==0.7.5\n",
      "  prometheus-client==0.7.1\n",
      "  prompt-toolkit==3.0.5\n",
      "  ptyprocess==0.6.0\n",
      "  pycosat==0.6.3\n",
      "  pycparser==2.20\n",
      "  pycurl==7.43.0.5\n",
      "  Pygments==2.6.1\n",
      "  PyJWT==1.7.1\n",
      "  pyOpenSSL==19.1.0\n",
      "  pyrsistent==0.16.0\n",
      "  PySocks==1.7.1\n",
      "  python-dateutil==2.8.1\n",
      "  python-editor==1.0.4\n",
      "  python-json-logger==0.1.11\n",
      "  pyzmq==19.0.0\n",
      "  requests==2.23.0\n",
      "  ruamel-yaml==0.15.80\n",
      "  ruamel.yaml.clib==0.2.0\n",
      "  Send2Trash==1.5.0\n",
      "  six==1.14.0\n",
      "  spinners==0.0.24\n",
      "  SQLAlchemy==1.3.16\n",
      "  termcolor==1.1.0\n",
      "  terminado==0.8.3\n",
      "  testpath==0.4.4\n",
      "  toml==0.10.0\n",
      "  tornado==6.0.4\n",
      "  tqdm==4.46.0\n",
      "  traitlets==4.3.3\n",
      "  urllib3==1.25.9\n",
      "  wcwidth==0.1.9\n",
      "  webencodings==0.5.1\n",
      "  zipp==3.1.0\n",
      "\n",
      "Scratch directory contents are\n",
      "  /home/jovyan/.condor/local/execute/dir_487/.chirp.config\n",
      "  /home/jovyan/.condor/local/execute/dir_487/_htmap_user_transfer\n",
      "  /home/jovyan/.condor/local/execute/dir_487/.job.ad\n",
      "  /home/jovyan/.condor/local/execute/dir_487/_condor_stderr\n",
      "  /home/jovyan/.condor/local/execute/dir_487/.machine.ad\n",
      "  /home/jovyan/.condor/local/execute/dir_487/func\n",
      "  /home/jovyan/.condor/local/execute/dir_487/_condor_stdout\n",
      "  /home/jovyan/.condor/local/execute/dir_487/_htmap_transfer\n",
      "  /home/jovyan/.condor/local/execute/dir_487/1.in\n",
      "  /home/jovyan/.condor/local/execute/dir_487/_htmap_do_output_transfer\n",
      "  /home/jovyan/.condor/local/execute/dir_487/_htmap_transfer_plugin_cache\n",
      "  /home/jovyan/.condor/local/execute/dir_487/condor_exec.exe\n",
      "  /home/jovyan/.condor/local/execute/dir_487/.update.ad\n",
      "\n",
      "Exception and traceback (most recent call last):\n",
      "  File \"<ipython-input-6-769ac4dfb4b6>\", line 3, in inverse\n",
      "    return 1 / x\n",
      "\n",
      "    Local variables:\n",
      "      x = 0\n",
      "\n",
      "  ZeroDivisionError: division by zero\n",
      "\n",
      "===========  End error report for component 1 of map firm-vast-oven  ===========\n",
      "\n",
      "==========  Start error report for component 2 of map firm-vast-oven  ==========\n",
      "Landed on execute node 1bea834c10a5 (172.17.0.2) at 2020-05-21 17:45:44.383019\n",
      "\n",
      "Python executable is /opt/conda/bin/python3 (version 3.7.6)\n",
      "with installed packages\n",
      "  alembic==1.4.2\n",
      "  async-generator==1.10\n",
      "  attrs==19.3.0\n",
      "  backcall==0.1.0\n",
      "  bleach==3.1.4\n",
      "  blinker==1.4\n",
      "  brotlipy==0.7.0\n",
      "  certifi==2020.4.5.1\n",
      "  certipy==0.1.3\n",
      "  cffi==1.14.0\n",
      "  chardet==3.0.4\n",
      "  click==7.1.2\n",
      "  click-didyoumean==0.0.3\n",
      "  cloudpickle==1.4.1\n",
      "  colorama==0.4.3\n",
      "  conda==4.8.2\n",
      "  conda-package-handling==1.6.0\n",
      "  cryptography==2.9.2\n",
      "  cursor==1.3.4\n",
      "  decorator==4.4.2\n",
      "  defusedxml==0.6.0\n",
      "  entrypoints==0.3\n",
      "  halo==0.0.29\n",
      "  htchirp==1.0\n",
      "  htcondor==8.9.6\n",
      "  -e git+https://github.com/htcondor/htmap.git@e0fd6de94fcad0295ae674e5479fac51cf57f34f#egg=htmap\n",
      "  idna==2.9\n",
      "  importlib-metadata==1.6.0\n",
      "  ipykernel==5.2.1\n",
      "  ipython @ file:///home/conda/feedstock_root/build_artifacts/ipython_1588362967322/work\n",
      "  ipython-genutils==0.2.0\n",
      "  jedi==0.17.0\n",
      "  Jinja2==2.11.2\n",
      "  json5==0.9.0\n",
      "  jsonschema==3.2.0\n",
      "  jupyter-client==6.1.3\n",
      "  jupyter-core==4.6.3\n",
      "  jupyter-telemetry==0.0.5\n",
      "  jupyterhub==1.1.0\n",
      "  jupyterlab==2.1.1\n",
      "  jupyterlab-server==1.1.1\n",
      "  log-symbols==0.0.14\n",
      "  Mako==1.1.0\n",
      "  MarkupSafe==1.1.1\n",
      "  mistune==0.8.4\n",
      "  nbconvert==5.6.1\n",
      "  nbformat==5.0.6\n",
      "  nbstripout==0.3.7\n",
      "  notebook==6.0.3\n",
      "  oauthlib==3.0.1\n",
      "  pamela==1.0.0\n",
      "  pandocfilters==1.4.2\n",
      "  parso==0.7.0\n",
      "  pexpect==4.8.0\n",
      "  pickleshare==0.7.5\n",
      "  prometheus-client==0.7.1\n",
      "  prompt-toolkit==3.0.5\n",
      "  ptyprocess==0.6.0\n",
      "  pycosat==0.6.3\n",
      "  pycparser==2.20\n",
      "  pycurl==7.43.0.5\n",
      "  Pygments==2.6.1\n",
      "  PyJWT==1.7.1\n",
      "  pyOpenSSL==19.1.0\n",
      "  pyrsistent==0.16.0\n",
      "  PySocks==1.7.1\n",
      "  python-dateutil==2.8.1\n",
      "  python-editor==1.0.4\n",
      "  python-json-logger==0.1.11\n",
      "  pyzmq==19.0.0\n",
      "  requests==2.23.0\n",
      "  ruamel-yaml==0.15.80\n",
      "  ruamel.yaml.clib==0.2.0\n",
      "  Send2Trash==1.5.0\n",
      "  six==1.14.0\n",
      "  spinners==0.0.24\n",
      "  SQLAlchemy==1.3.16\n",
      "  termcolor==1.1.0\n",
      "  terminado==0.8.3\n",
      "  testpath==0.4.4\n",
      "  toml==0.10.0\n",
      "  tornado==6.0.4\n",
      "  tqdm==4.46.0\n",
      "  traitlets==4.3.3\n",
      "  urllib3==1.25.9\n",
      "  wcwidth==0.1.9\n",
      "  webencodings==0.5.1\n",
      "  zipp==3.1.0\n",
      "\n",
      "Scratch directory contents are\n",
      "  /home/jovyan/.condor/local/execute/dir_488/.chirp.config\n",
      "  /home/jovyan/.condor/local/execute/dir_488/_htmap_user_transfer\n",
      "  /home/jovyan/.condor/local/execute/dir_488/.job.ad\n",
      "  /home/jovyan/.condor/local/execute/dir_488/_condor_stderr\n",
      "  /home/jovyan/.condor/local/execute/dir_488/.machine.ad\n",
      "  /home/jovyan/.condor/local/execute/dir_488/func\n",
      "  /home/jovyan/.condor/local/execute/dir_488/_condor_stdout\n",
      "  /home/jovyan/.condor/local/execute/dir_488/_htmap_transfer\n",
      "  /home/jovyan/.condor/local/execute/dir_488/2.in\n",
      "  /home/jovyan/.condor/local/execute/dir_488/_htmap_do_output_transfer\n",
      "  /home/jovyan/.condor/local/execute/dir_488/_htmap_transfer_plugin_cache\n",
      "  /home/jovyan/.condor/local/execute/dir_488/condor_exec.exe\n",
      "  /home/jovyan/.condor/local/execute/dir_488/.update.ad\n",
      "\n",
      "Exception and traceback (most recent call last):\n",
      "  File \"<ipython-input-6-769ac4dfb4b6>\", line 3, in inverse\n",
      "    return 1 / x\n",
      "\n",
      "    Local variables:\n",
      "      x = 0\n",
      "\n",
      "  ZeroDivisionError: division by zero\n",
      "\n",
      "===========  End error report for component 2 of map firm-vast-oven  ===========\n",
      "\n"
     ]
    }
   ],
   "source": [
    "worse_map = inverse.map([0, 0, 0])\n",
    "worse_map.wait(errors_ok = True)  # wait for all of the components to hit the error\n",
    "for report in worse_map.error_reports():\n",
    "    print(report + '\\n')"
   ]
  },
  {
   "cell_type": "markdown",
   "metadata": {},
   "source": [
    "Unlike holds, you generally won't want to re-run components that experienced errors (they'll just fail again).\n",
    "Instead, an error is usually a signal that you've got a bug in your own code.\n",
    "Remove your map, debug the error locally, then create a new map."
   ]
  },
  {
   "cell_type": "markdown",
   "metadata": {},
   "source": [
    "## Standard Output and Error"
   ]
  },
  {
   "cell_type": "markdown",
   "metadata": {},
   "source": [
    "When handling trickier errors, you may need to look at the `stdout` and `stderr` from your map components. `stdout` and `stderr` are what you would see on the terminal if you executed your code locally - things like `print` and exceptions normally display their information there. HTMap provides access to `stdout` and `stderr` for each component through the appropriately-named attributes of your maps: "
   ]
  },
  {
   "cell_type": "code",
   "execution_count": 10,
   "metadata": {},
   "outputs": [
    {
     "name": "stdout",
     "output_type": "stream",
     "text": [
      "Created map quick-calm-stream with 1 components\n"
     ]
    }
   ],
   "source": [
    "import sys\n",
    "\n",
    "@htmap.mapped\n",
    "def stdx(_):\n",
    "    print(\"Hi from stdout!\")  # stdout is the default\n",
    "    print(\"Hi from stderr!\", file = sys.stderr)\n",
    "    \n",
    "m = stdx.map([None])"
   ]
  },
  {
   "cell_type": "code",
   "execution_count": 11,
   "metadata": {},
   "outputs": [
    {
     "data": {
      "text/plain": [
       "Landed on execute node 1bea834c10a5 (172.17.0.2) at 2020-05-21 17:45:47.056114 as jovyan\n",
       "\n",
       "Scratch directory contents before run:\n",
       "|- .chirp.config\n",
       "|- .job.ad\n",
       "|- .machine.ad\n",
       "|- .update.ad\n",
       "|- 0.in\n",
       "|- _condor_stderr\n",
       "|- _condor_stdout\n",
       "|- _htmap_do_output_transfer\n",
       "|- * _htmap_transfer\n",
       "|- * _htmap_transfer_plugin_cache\n",
       "|- * _htmap_user_transfer\n",
       "|  \\- * 0\n",
       "|- condor_exec.exe\n",
       "\\- func\n",
       "\n",
       "Python executable is /opt/conda/bin/python3 (version 3.7.6)\n",
       "with installed packages\n",
       "  alembic==1.4.2\n",
       "  async-generator==1.10\n",
       "  attrs==19.3.0\n",
       "  backcall==0.1.0\n",
       "  bleach==3.1.4\n",
       "  blinker==1.4\n",
       "  brotlipy==0.7.0\n",
       "  certifi==2020.4.5.1\n",
       "  certipy==0.1.3\n",
       "  cffi==1.14.0\n",
       "  chardet==3.0.4\n",
       "  click==7.1.2\n",
       "  click-didyoumean==0.0.3\n",
       "  cloudpickle==1.4.1\n",
       "  colorama==0.4.3\n",
       "  conda==4.8.2\n",
       "  conda-package-handling==1.6.0\n",
       "  cryptography==2.9.2\n",
       "  cursor==1.3.4\n",
       "  decorator==4.4.2\n",
       "  defusedxml==0.6.0\n",
       "  entrypoints==0.3\n",
       "  halo==0.0.29\n",
       "  htchirp==1.0\n",
       "  htcondor==8.9.6\n",
       "  -e git+https://github.com/htcondor/htmap.git@e0fd6de94fcad0295ae674e5479fac51cf57f34f#egg=htmap\n",
       "  idna==2.9\n",
       "  importlib-metadata==1.6.0\n",
       "  ipykernel==5.2.1\n",
       "  ipython @ file:///home/conda/feedstock_root/build_artifacts/ipython_1588362967322/work\n",
       "  ipython-genutils==0.2.0\n",
       "  jedi==0.17.0\n",
       "  Jinja2==2.11.2\n",
       "  json5==0.9.0\n",
       "  jsonschema==3.2.0\n",
       "  jupyter-client==6.1.3\n",
       "  jupyter-core==4.6.3\n",
       "  jupyter-telemetry==0.0.5\n",
       "  jupyterhub==1.1.0\n",
       "  jupyterlab==2.1.1\n",
       "  jupyterlab-server==1.1.1\n",
       "  log-symbols==0.0.14\n",
       "  Mako==1.1.0\n",
       "  MarkupSafe==1.1.1\n",
       "  mistune==0.8.4\n",
       "  nbconvert==5.6.1\n",
       "  nbformat==5.0.6\n",
       "  nbstripout==0.3.7\n",
       "  notebook==6.0.3\n",
       "  oauthlib==3.0.1\n",
       "  pamela==1.0.0\n",
       "  pandocfilters==1.4.2\n",
       "  parso==0.7.0\n",
       "  pexpect==4.8.0\n",
       "  pickleshare==0.7.5\n",
       "  prometheus-client==0.7.1\n",
       "  prompt-toolkit==3.0.5\n",
       "  ptyprocess==0.6.0\n",
       "  pycosat==0.6.3\n",
       "  pycparser==2.20\n",
       "  pycurl==7.43.0.5\n",
       "  Pygments==2.6.1\n",
       "  PyJWT==1.7.1\n",
       "  pyOpenSSL==19.1.0\n",
       "  pyrsistent==0.16.0\n",
       "  PySocks==1.7.1\n",
       "  python-dateutil==2.8.1\n",
       "  python-editor==1.0.4\n",
       "  python-json-logger==0.1.11\n",
       "  pyzmq==19.0.0\n",
       "  requests==2.23.0\n",
       "  ruamel-yaml==0.15.80\n",
       "  ruamel.yaml.clib==0.2.0\n",
       "  Send2Trash==1.5.0\n",
       "  six==1.14.0\n",
       "  spinners==0.0.24\n",
       "  SQLAlchemy==1.3.16\n",
       "  termcolor==1.1.0\n",
       "  terminado==0.8.3\n",
       "  testpath==0.4.4\n",
       "  toml==0.10.0\n",
       "  tornado==6.0.4\n",
       "  tqdm==4.46.0\n",
       "  traitlets==4.3.3\n",
       "  urllib3==1.25.9\n",
       "  wcwidth==0.1.9\n",
       "  webencodings==0.5.1\n",
       "  zipp==3.1.0\n",
       "\n",
       "Running component 0\n",
       "  <function stdx at 0x146c42004680>\n",
       "with args\n",
       "  (None,)\n",
       "and kwargs\n",
       "  {}\n",
       "\n",
       "----- MAP COMPONENT OUTPUT START -----\n",
       "\n",
       "Hi from stdout!\n",
       "\n",
       "-----  MAP COMPONENT OUTPUT END  -----\n",
       "\n",
       "Finished executing component at 2020-05-21 17:45:47.256167\n",
       "\n",
       "Scratch directory contents after run:\n",
       "|- .chirp.config\n",
       "|- .job.ad\n",
       "|- .machine.ad\n",
       "|- .update.ad\n",
       "|- 0.in\n",
       "|- _condor_stderr\n",
       "|- _condor_stdout\n",
       "|- * _htmap_current_checkpoint\n",
       "|- _htmap_do_output_transfer\n",
       "|- * _htmap_transfer\n",
       "|  \\- 0.out\n",
       "|- * _htmap_transfer_plugin_cache\n",
       "|- * _htmap_user_transfer\n",
       "|  \\- * 0\n",
       "|- condor_exec.exe\n",
       "\\- func"
      ]
     },
     "execution_count": 11,
     "metadata": {},
     "output_type": "execute_result"
    }
   ],
   "source": [
    "m.stdout.get(0)  # get will wait for the stdout to become available, m.stdout[0] wouldn't"
   ]
  },
  {
   "cell_type": "markdown",
   "metadata": {},
   "source": [
    "Note that much of the same information from the error report is included in the component `stdout` for convenience."
   ]
  },
  {
   "cell_type": "code",
   "execution_count": 12,
   "metadata": {},
   "outputs": [
    {
     "data": {
      "text/plain": [
       "Hi from stderr!"
      ]
     },
     "execution_count": 12,
     "metadata": {},
     "output_type": "execute_result"
    }
   ],
   "source": [
    "m.stderr.get(0)"
   ]
  },
  {
   "cell_type": "markdown",
   "metadata": {},
   "source": [
    "These attributes are both iterable sequences, which means that you can do something like this:"
   ]
  },
  {
   "cell_type": "code",
   "execution_count": 13,
   "metadata": {},
   "outputs": [
    {
     "name": "stderr",
     "output_type": "stream",
     "text": [
      "green-happy-year:   0%|          | 0/5 [00:00<?, ?component/s]"
     ]
    },
    {
     "name": "stdout",
     "output_type": "stream",
     "text": [
      "Created map green-happy-year with 5 components\n"
     ]
    },
    {
     "name": "stderr",
     "output_type": "stream",
     "text": [
      "green-happy-year: 100%|##########| 5/5 [00:04<00:00,  1.25component/s]"
     ]
    },
    {
     "name": "stdout",
     "output_type": "stream",
     "text": [
      "Hi from stderr! 0\n",
      "\n",
      "Hi from stderr! 1\n",
      "\n",
      "Hi from stderr! 2\n",
      "\n",
      "Hi from stderr! 3\n",
      "\n",
      "Hi from stderr! 4\n",
      "\n"
     ]
    },
    {
     "name": "stderr",
     "output_type": "stream",
     "text": [
      "\n"
     ]
    }
   ],
   "source": [
    "@htmap.mapped\n",
    "def err(x):\n",
    "    print(f\"Hi from stderr! {x}\", file = sys.stderr)\n",
    "    \n",
    "err_map = err.map(range(5))\n",
    "err_map.wait(show_progress_bar = True)\n",
    "\n",
    "for e in err_map.stderr:\n",
    "    print(e)"
   ]
  },
  {
   "cell_type": "code",
   "execution_count": null,
   "metadata": {},
   "outputs": [],
   "source": []
  }
 ],
 "metadata": {
  "kernelspec": {
   "display_name": "Python 3",
   "language": "python",
   "name": "python3"
  },
  "language_info": {
   "codemirror_mode": {
    "name": "ipython",
    "version": 3
   },
   "file_extension": ".py",
   "mimetype": "text/x-python",
   "name": "python",
   "nbconvert_exporter": "python",
   "pygments_lexer": "ipython3",
   "version": "3.7.6"
  }
 },
 "nbformat": 4,
 "nbformat_minor": 4
}
