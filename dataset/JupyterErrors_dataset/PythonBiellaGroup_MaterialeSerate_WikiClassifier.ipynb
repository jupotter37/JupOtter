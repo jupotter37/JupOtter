{
 "cells": [
  {
   "cell_type": "code",
   "execution_count": 1,
   "metadata": {},
   "outputs": [],
   "source": [
    "%config IPCompleter.greedy=True\n",
    "%config Completer.use_jedi = False"
   ]
  },
  {
   "cell_type": "code",
   "execution_count": 2,
   "metadata": {},
   "outputs": [],
   "source": [
    "import glob as glob\n",
    "import re\n",
    "import string\n",
    "import numpy as np\n",
    "import pandas as pd\n",
    "import json"
   ]
  },
  {
   "cell_type": "code",
   "execution_count": 3,
   "metadata": {},
   "outputs": [],
   "source": [
    "import spacy"
   ]
  },
  {
   "cell_type": "code",
   "execution_count": 4,
   "metadata": {},
   "outputs": [
    {
     "data": {
      "text/plain": [
       "'3.0.3'"
      ]
     },
     "execution_count": 4,
     "metadata": {},
     "output_type": "execute_result"
    }
   ],
   "source": [
    "spacy.__version__"
   ]
  },
  {
   "cell_type": "code",
   "execution_count": 5,
   "metadata": {},
   "outputs": [
    {
     "name": "stdout",
     "output_type": "stream",
     "text": [
      "1) Mi\n",
      "2) piace\n",
      "3) New\n",
      "4) York\n"
     ]
    }
   ],
   "source": [
    "nlp = spacy.load(\"it_core_news_sm\")\n",
    "\n",
    "frase_esempio = \"Mi piace New York\"\n",
    "\n",
    "doc = nlp(frase_esempio)\n",
    "\n",
    "for n, token in enumerate(doc):\n",
    "    print(f\"{n+1}) {token}\")"
   ]
  },
  {
   "cell_type": "code",
   "execution_count": 6,
   "metadata": {},
   "outputs": [
    {
     "name": "stdout",
     "output_type": "stream",
     "text": [
      "1) Mi\n",
      "2) piace\n",
      "3) New York\n"
     ]
    }
   ],
   "source": [
    "nlp.add_pipe(\"merge_entities\")\n",
    "\n",
    "doc = nlp(frase_esempio)\n",
    "\n",
    "for n, token in enumerate(doc):\n",
    "    print(f\"{n+1}) {token}\")"
   ]
  },
  {
   "cell_type": "markdown",
   "metadata": {},
   "source": [
    "## Generator articoli"
   ]
  },
  {
   "cell_type": "markdown",
   "metadata": {},
   "source": [
    "Quando il dataset si compone di moltissimi articoli diventa dispendioso, in termini di tempo, costruire prima una lista con i nomi dei files e poi ciclare nuovamente quest'ultima per elaborarne il contenuto.\n",
    "\n",
    "A questo scopo è utile utilizzare la libreria \"glob\" la quale permette anche di \"filtrare\" gli articoli in base al nome ed all'estensione."
   ]
  },
  {
   "cell_type": "code",
   "execution_count": 7,
   "metadata": {},
   "outputs": [],
   "source": [
    "articoli = iter(glob.glob(\"archivio/*.txt\"))"
   ]
  },
  {
   "cell_type": "code",
   "execution_count": 8,
   "metadata": {},
   "outputs": [
    {
     "data": {
      "text/plain": [
       "'archivio/articolo_tecnologia_69.txt'"
      ]
     },
     "execution_count": 8,
     "metadata": {},
     "output_type": "execute_result"
    }
   ],
   "source": [
    "next(articoli)"
   ]
  },
  {
   "cell_type": "markdown",
   "metadata": {},
   "source": [
    "##### La classe di appartenenza dell'articolo è inserita nel nome del file tra due \"_\", la estrarremo attraverso una espressione regolare"
   ]
  },
  {
   "cell_type": "markdown",
   "metadata": {},
   "source": [
    "Strumenti come Spacy e le regular expression possono essere molto utili per costruire un dataset strutturato partendo da dati semi-strutturati o, peggio, non strutturati."
   ]
  },
  {
   "cell_type": "code",
   "execution_count": 9,
   "metadata": {},
   "outputs": [],
   "source": [
    "keywords = re.compile(r\"_(\\w+)_\")"
   ]
  },
  {
   "cell_type": "markdown",
   "metadata": {},
   "source": [
    "#### Anteprima file"
   ]
  },
  {
   "cell_type": "markdown",
   "metadata": {},
   "source": [
    "Prima di costruire la funzione per estrarre il contenuto del file guardiamo un'anteprima"
   ]
  },
  {
   "cell_type": "code",
   "execution_count": 10,
   "metadata": {},
   "outputs": [
    {
     "name": "stdout",
     "output_type": "stream",
     "text": [
      "<article><title>Potenza Calcio</title><body>Il Potenza Calcio S.r.l., meglio noto come Potenza, è un\n",
      "----------------------------------------------------------------------------------------------------\n",
      "'Internet Archive\", 'Categoria:Voci con modulo citazione e parametro pagine']</categories></article>\n"
     ]
    }
   ],
   "source": [
    "articolo = next(articoli)\n",
    "\n",
    "with open(articolo, 'r') as f:\n",
    "    testo = f.readlines()\n",
    "    testo = \"\".join(testo)\n",
    "\n",
    "print(testo[:100])\n",
    "print(\"-\"*100)\n",
    "print(testo[-100:])"
   ]
  },
  {
   "cell_type": "markdown",
   "metadata": {},
   "source": [
    "Il contenuto del file è organizzato in tag annidati, attraverso le regular expressions possiamo estrarre queste informazioni in modo strutturato.\n",
    "\n",
    "In particolare possiamo notare che il tag \"categories\" necessita di particolare \"pulizia\"."
   ]
  },
  {
   "cell_type": "markdown",
   "metadata": {},
   "source": [
    "##### Altra regular expression per estrarre i dati in formato dictionary"
   ]
  },
  {
   "cell_type": "code",
   "execution_count": 11,
   "metadata": {},
   "outputs": [],
   "source": [
    "tags = re.compile(r\"<title>(?P<titolo>.*)</title><body>(?P<corpo>.*)</body><categories>(?P<categorie>.*)</categories>\")"
   ]
  },
  {
   "cell_type": "markdown",
   "metadata": {},
   "source": [
    "##### Estrazione e Primo preprocessing"
   ]
  },
  {
   "cell_type": "code",
   "execution_count": 12,
   "metadata": {},
   "outputs": [],
   "source": [
    "def estrati_dati(articolo):\n",
    "    \n",
    "    # Identificazione della class/keywords estraendola dal nome del file\n",
    "    kw = keywords.findall(articolo)[0]\n",
    "\n",
    "    with open(articolo, 'r') as f:\n",
    "        testo = f.readlines()\n",
    "        \n",
    "    testo = \"\".join(testo)\n",
    "    testo = testo.replace(\"\\n\",\"\")\n",
    "    \n",
    "    # Estrazione dei campi di interesse per ottenere il dictionary\n",
    "    m = tags.search(testo)\n",
    "    dati = m.groupdict()\n",
    "    \n",
    "    # Qui applicheremo la pulizia \"speciale\" per il testo\n",
    "    # del tag categorie (se presente)\n",
    "    if 'categorie' in dati.keys():\n",
    "\n",
    "        get_text = re.compile(\"\\'|\\\\[|\\\\]|Categoria:\")\n",
    "\n",
    "        categorie = m.group('categorie')\n",
    "        elenco_categorie = []\n",
    "\n",
    "        for categ in get_text.sub(\"\", categorie).split(\",\"):\n",
    "            elenco_categorie.append(categ.strip())\n",
    "\n",
    "        dati['categorie'] = \",\".join(elenco_categorie)\n",
    "    \n",
    "    # Rimozione della keyword, che identifica la classe, per aumentare \n",
    "    # la capacità di generalizzare del classificatore\n",
    "    # Ho utilizzato un'assegnazione dinamica del valore \"wk\" per otterene:\n",
    "    #                                                  r\"\\bsalute\\b\" - r\"\\btecnologia\\b\" - r\"\\bsport\\b\"\n",
    "    remove_kw = re.compile(fr\"\\b{kw}\\b\", re.IGNORECASE)\n",
    "\n",
    "    testo = \" \".join([txt for k, txt in dati.items()])\n",
    "    testo = re.sub(\"\\W|\\d\", \" \", testo)\n",
    "    testo = re.sub(\"[ ]+\", \" \", testo)\n",
    "    testo = remove_kw.sub(\"\", testo)\n",
    "    \n",
    "    return [testo, kw]\n",
    "    "
   ]
  },
  {
   "cell_type": "markdown",
   "metadata": {},
   "source": [
    "##### Un secondo preprocessing consiste nel lemming delle parole"
   ]
  },
  {
   "cell_type": "markdown",
   "metadata": {},
   "source": [
    "Il lemming () permette una riduzione dello spazio dimensionale delle variabili/dei parametri elaborati dall'algoritmo. Questo implica, tra l'altro, un minor tempo di elaborazione.\n",
    "\n",
    "Questo processo assomiglia un poco alla standardizzazione che si applica alle variabili quantitative prima di una regressione statistica."
   ]
  },
  {
   "cell_type": "code",
   "execution_count": 13,
   "metadata": {},
   "outputs": [
    {
     "name": "stdout",
     "output_type": "stream",
     "text": [
      "Classe tecnologia \n",
      "\n",
      "Frase originale contiene n.1215 parole diverse:\n",
      "\n",
      "  di Star Trek L universo di Star Trek la serie televisiva fantascientifica originariamente ideata da Gene Roddenberry nel è inscindibilmente legato ad una immagine di avanzato sviluppo tecnologico Il divario tecnologico è uno degli aspetti che più sp \n",
      "\n",
      "Frase lemmizzata senza stop_words contiente n.777 parole diverse:\n",
      "\n",
      "   Star Trek L universo di Star Trek serio televisivo fantascientifico originariamente ideare Gene Roddenberry essere inscindibilmente legare immagine avanzare sviluppare tecnologico Il divario tecnologico essere aspetto emergere puntato Star Trek voc\n"
     ]
    }
   ],
   "source": [
    "articolo = next(articoli)\n",
    "\n",
    "testo, classe = estrati_dati(articolo)\n",
    "doc = nlp(testo)\n",
    "\n",
    "print(f\"Classe {classe} \\n\")\n",
    "\n",
    "print(f\"Frase originale contiene n.{len(testo.split(' '))} parole diverse:\\n\\n\", estrati_dati(articolo)[0][:250], \"\\n\")\n",
    "\n",
    "lemma_text = \" \".join(token.lemma_ for token in doc if not token.is_stop)\n",
    "\n",
    "print(f\"Frase lemmizzata senza stop_words contiente n.{len(lemma_text.split(' '))} parole diverse:\\n\\n\",lemma_text[:250])"
   ]
  },
  {
   "cell_type": "markdown",
   "metadata": {},
   "source": [
    "### Un esempio pratico"
   ]
  },
  {
   "cell_type": "markdown",
   "metadata": {},
   "source": [
    "##### Dati senza lemming:"
   ]
  },
  {
   "cell_type": "markdown",
   "metadata": {},
   "source": [
    "PAROLE|CLASSE\n",
    "---------|-------\n",
    " |\n",
    "**TRAINING**|\n",
    "corrono|sport\n",
    "correva|sport\n",
    "corro|sport\n",
    " |\n",
    "**TEST**|\n",
    "corre|**???**"
   ]
  },
  {
   "cell_type": "markdown",
   "metadata": {},
   "source": [
    "I dati test potrebbero contenere parole che l'algoritmo non conosce, ad esempio \"corre\". In questo caso l'algoritmo li tratterebbe come outliers (valori anomali) non assegnando ad essi nessun valore a discapito della precisione nella classificazione.\n",
    "\n",
    "**Possiamo dire che, in questo caso, il classificatore invece di generalizzare si addestra a riconoscere una serie di eccezioni... quindi potrebbe anche funzionare ma non perchè lo stiamo applicando nel modo corretto.**"
   ]
  },
  {
   "cell_type": "code",
   "execution_count": 14,
   "metadata": {},
   "outputs": [
    {
     "name": "stdout",
     "output_type": "stream",
     "text": [
      "corrono ---> correre\n",
      "correva ---> correre\n",
      "corro ---> correre\n",
      "corre ---> correre\n"
     ]
    }
   ],
   "source": [
    "parole = nlp(\"corrono correva corro corre\")\n",
    "\n",
    "for parola in parole:\n",
    "    print(f\"{parola} ---> {parola.lemma_}\")"
   ]
  },
  {
   "cell_type": "markdown",
   "metadata": {},
   "source": [
    "Dall'esempio di cui sopra si può notare come, attraverso, il lemming abbiamo bisogno di meno parametri, le 3 diverse parole (corrono, correva, corro) diventano solo 1 (correre) senza che ciò comporti una sensibile perdita di informazione che solitamente avviene quando si applicano tecniche di riduzione."
   ]
  },
  {
   "cell_type": "markdown",
   "metadata": {},
   "source": [
    "### Introduzione del Vocabolario"
   ]
  },
  {
   "cell_type": "markdown",
   "metadata": {},
   "source": [
    "Il vocabolario è l'insieme di parole \"conosciute\" dall'algoritmo e della frequenze assolute con la quale esse sono presenti in tutti gli articoli processati.\n",
    "\n",
    "Per costruirlo utilizzeremo un particolare tipo di dictionary: il default dictionary (defaultdict).\n",
    "\n",
    "Questo tipo di dictionary ha una particolarità non \"fallisce\" quando cerchiamo in esso un indice non presente... ma vediamo un esempio prima con un normale dictionary."
   ]
  },
  {
   "cell_type": "code",
   "execution_count": 15,
   "metadata": {},
   "outputs": [],
   "source": [
    "d = dict()"
   ]
  },
  {
   "cell_type": "code",
   "execution_count": 16,
   "metadata": {},
   "outputs": [],
   "source": [
    "lista_esempio = [\"parola 1\",\"parola 1\",\"parola 1\",\"New York\",\"parola2\"]"
   ]
  },
  {
   "cell_type": "code",
   "execution_count": 17,
   "metadata": {},
   "outputs": [
    {
     "ename": "KeyError",
     "evalue": "'parola 1'",
     "output_type": "error",
     "traceback": [
      "\u001b[0;31m---------------------------------------------------------------------------\u001b[0m",
      "\u001b[0;31mKeyError\u001b[0m                                  Traceback (most recent call last)",
      "\u001b[0;32m<ipython-input-17-222f98b1cdec>\u001b[0m in \u001b[0;36m<module>\u001b[0;34m\u001b[0m\n\u001b[1;32m      1\u001b[0m \u001b[0;32mfor\u001b[0m \u001b[0mparola\u001b[0m \u001b[0;32min\u001b[0m \u001b[0mlista_esempio\u001b[0m\u001b[0;34m:\u001b[0m\u001b[0;34m\u001b[0m\u001b[0;34m\u001b[0m\u001b[0m\n\u001b[1;32m      2\u001b[0m \u001b[0;34m\u001b[0m\u001b[0m\n\u001b[0;32m----> 3\u001b[0;31m     \u001b[0md\u001b[0m\u001b[0;34m[\u001b[0m\u001b[0mparola\u001b[0m\u001b[0;34m]\u001b[0m \u001b[0;34m+=\u001b[0m \u001b[0;36m1\u001b[0m\u001b[0;34m\u001b[0m\u001b[0;34m\u001b[0m\u001b[0m\n\u001b[0m",
      "\u001b[0;31mKeyError\u001b[0m: 'parola 1'"
     ]
    }
   ],
   "source": [
    "for parola in lista_esempio:\n",
    "      \n",
    "    d[parola] += 1"
   ]
  },
  {
   "cell_type": "code",
   "execution_count": 18,
   "metadata": {},
   "outputs": [],
   "source": [
    "from collections import defaultdict\n",
    "import json"
   ]
  },
  {
   "cell_type": "code",
   "execution_count": 19,
   "metadata": {},
   "outputs": [
    {
     "data": {
      "text/plain": [
       "defaultdict(int, {'parola 1': 3, 'New York': 1, 'parola2': 1})"
      ]
     },
     "execution_count": 19,
     "metadata": {},
     "output_type": "execute_result"
    }
   ],
   "source": [
    "dd = defaultdict(int)\n",
    "\n",
    "for parola in lista_esempio:\n",
    "    \n",
    "    dd[parola] += 1\n",
    "\n",
    "dd"
   ]
  },
  {
   "cell_type": "markdown",
   "metadata": {},
   "source": [
    "##### Per la costruzione del vocabolario ho costruito una classe che oltre al conteggio delle frequenze mi aiuti a fare anche altre operazioni."
   ]
  },
  {
   "cell_type": "code",
   "execution_count": 20,
   "metadata": {},
   "outputs": [],
   "source": [
    "class Vocabulary():\n",
    "        \n",
    "    def __init__(self, nome_file = \"\", tokens = False):\n",
    "        self.nome_file = nome_file\n",
    "        self.vocab = defaultdict(int)\n",
    "        self.tokens = tokens\n",
    "        self.word2idx = None\n",
    "        self.idx2word = None\n",
    "        self.stopwords = []\n",
    "        \n",
    "        if self.nome_file != \"\":\n",
    "            self.load(self.nome_file, self.tokens)\n",
    "            \n",
    "    \n",
    "    def import_stopwords(self, nome_file):        \n",
    "        with open(nome_file, 'r') as f:\n",
    "            for line in f.readlines():\n",
    "                self.stopwords.append(line.replace(\"\\n\", \"\"))\n",
    "                \n",
    "            \n",
    "    def builder(self, token):\n",
    "        \n",
    "        \"\"\"\n",
    "        Aggiuge il conteggio dei token al vocabolario\n",
    "        \"\"\"\n",
    "        \n",
    "        self.vocab[str(token)] += 1\n",
    "            \n",
    "            \n",
    "    def reduce(self, filter_func = lambda x, y=5: x>y):\n",
    "        \n",
    "        \"\"\"\n",
    "        Trasforma in vocabolario senza frequenze\n",
    "        \"\"\"\n",
    "        \n",
    "        self.word2idx = defaultdict(int)\n",
    "        self.idx2word = defaultdict()\n",
    "        \n",
    "        self.word2idx['OOV'] = 0\n",
    "        self.idx2word['0'] = 'OOV'\n",
    "        \n",
    "        i = 1\n",
    "        \n",
    "        for k in self.vocab.keys():\n",
    "        \n",
    "            if filter_func(self.vocab[k]):\n",
    "\n",
    "                self.word2idx[k] = i\n",
    "                self.idx2word[str(i)] = k\n",
    "                i += 1\n",
    "                \n",
    "        print(f\"Dopo la riduzione ci sono n.{len(self.word2idx)} elementi\")\n",
    "\n",
    "                \n",
    "    def delete(self):\n",
    "        \n",
    "        del self.vocab, self.word2idx, self.idx2word\n",
    "        self.vocab = defaultdict(int)\n",
    "        self.word2idx = None\n",
    "        self.idx2word = None\n",
    "\n",
    "        \n",
    "    def save(self, nome_file, tokens = False):\n",
    "        \n",
    "        \"\"\"\n",
    "        Con tokens = True salva il vocabolario senza frequenze\n",
    "        \"\"\"\n",
    "        \n",
    "        dati = self.vocab\n",
    "        \n",
    "        if tokens:\n",
    "            self.reduce()\n",
    "            dati = self.word2idx\n",
    "        \n",
    "        with open(nome_file, 'w', encoding='utf-8') as f:\n",
    "            json.dump(dati, f, ensure_ascii=False, indent=4)\n",
    "\n",
    "            \n",
    "    def load(self, nome_file, tokens = False):\n",
    "        \n",
    "        \"\"\"\n",
    "        Con tokens = True carica il vocabolario senza frequenze\n",
    "        \"\"\"\n",
    "        \n",
    "        with open(nome_file, 'r') as f:\n",
    "            self.vocab = json.load(f)\n",
    "            \n",
    "            print(f\"Sono stati caricati n.{len(self.vocab)} elementi\")\n",
    "            \n",
    "        if self.tokens:\n",
    "            self.reduce()\n",
    "        \n",
    "        \n",
    "    def get(self):\n",
    "        \n",
    "        \"\"\"\n",
    "        Restituisce il vocabolario\n",
    "        \"\"\"\n",
    "        \n",
    "        return self.vocab\n",
    "        \n",
    "    \n",
    "    def get_tokens(self):\n",
    "        \n",
    "        \"\"\"\n",
    "        Restituisce il dict con gli indici\n",
    "        \"\"\"\n",
    "        \n",
    "        if self.word2idx is None or self.idx2word is None:\n",
    "            self.reduce()\n",
    "            \n",
    "        return self.word2idx, self.idx2word\n",
    "    \n",
    "    def get_stats(self):\n",
    "        \n",
    "        data = [v for v in self.vocab.values()]\n",
    "        \n",
    "        self.stats = {}\n",
    "        self.stats['min'] = np.min(data)\n",
    "        self.stats['media'] = np.mean(data)\n",
    "        self.stats['max'] = np.max(data)\n",
    "        \n",
    "        return self.stats"
   ]
  },
  {
   "cell_type": "markdown",
   "metadata": {},
   "source": [
    "##### Esempio uso classe"
   ]
  },
  {
   "cell_type": "code",
   "execution_count": 21,
   "metadata": {},
   "outputs": [],
   "source": [
    "vocab = Vocabulary()"
   ]
  },
  {
   "cell_type": "code",
   "execution_count": 22,
   "metadata": {},
   "outputs": [],
   "source": [
    "for parola in lista_esempio:\n",
    "    vocab.builder(parola.replace(\" \",\"_\"))"
   ]
  },
  {
   "cell_type": "code",
   "execution_count": 23,
   "metadata": {},
   "outputs": [
    {
     "data": {
      "text/plain": [
       "defaultdict(int, {'parola_1': 3, 'New_York': 1, 'parola2': 1})"
      ]
     },
     "execution_count": 23,
     "metadata": {},
     "output_type": "execute_result"
    }
   ],
   "source": [
    "vocab.vocab"
   ]
  },
  {
   "cell_type": "code",
   "execution_count": 24,
   "metadata": {},
   "outputs": [
    {
     "data": {
      "text/plain": [
       "{'min': 1, 'media': 1.6666666666666667, 'max': 3}"
      ]
     },
     "execution_count": 24,
     "metadata": {},
     "output_type": "execute_result"
    }
   ],
   "source": [
    "vocab.get_stats()"
   ]
  },
  {
   "cell_type": "markdown",
   "metadata": {},
   "source": [
    "##### Il metodo reduce esegue una funzione che può essere assegnata direttamente dall'utente"
   ]
  },
  {
   "cell_type": "markdown",
   "metadata": {},
   "source": [
    "Questo permette di \"personalizzare\" la riduzione a seconda dei casi. \n",
    "\n",
    "Ad esempio andremo ad escludere le parole più frequenti perchè, in questo caso, potrebbero essere parole contenute in tutte e 3 le classi e pertanto potrebbero non avere potere esplicativo.\n",
    "Questo è un altro metodo di riduzione dimensionale dei parametri... da usare però con il condizionale!!!"
   ]
  },
  {
   "cell_type": "code",
   "execution_count": 25,
   "metadata": {},
   "outputs": [
    {
     "name": "stdout",
     "output_type": "stream",
     "text": [
      "Dopo la riduzione ci sono n.3 elementi\n"
     ]
    }
   ],
   "source": [
    "vocab.reduce(lambda x,y=1,z=2: x>=y and x<=z)"
   ]
  },
  {
   "cell_type": "markdown",
   "metadata": {},
   "source": [
    "##### Gli algoritmi lavorano con i numeri quindi la classe ci restituisce 2 dizionari che ci permettono di \"trasformare\" le parole in numeri e viceversa."
   ]
  },
  {
   "cell_type": "code",
   "execution_count": 26,
   "metadata": {},
   "outputs": [
    {
     "data": {
      "text/plain": [
       "(defaultdict(int, {'OOV': 0, 'New_York': 1, 'parola2': 2}),\n",
       " defaultdict(None, {'0': 'OOV', '1': 'New_York', '2': 'parola2'}))"
      ]
     },
     "execution_count": 26,
     "metadata": {},
     "output_type": "execute_result"
    }
   ],
   "source": [
    "vocab.get_tokens()"
   ]
  },
  {
   "cell_type": "code",
   "execution_count": 27,
   "metadata": {},
   "outputs": [
    {
     "name": "stdout",
     "output_type": "stream",
     "text": [
      "Sono stati caricati n.81039 elementi\n"
     ]
    }
   ],
   "source": [
    "vocab = Vocabulary('vocab.json', tokens = False)\n",
    "vocab.import_stopwords(\"stopwords_ita.txt\")"
   ]
  },
  {
   "cell_type": "code",
   "execution_count": 28,
   "metadata": {},
   "outputs": [
    {
     "data": {
      "text/plain": [
       "{'min': 1, 'media': 17.437838571551968, 'max': 26707}"
      ]
     },
     "execution_count": 28,
     "metadata": {},
     "output_type": "execute_result"
    }
   ],
   "source": [
    "vocab.get_stats()"
   ]
  },
  {
   "cell_type": "code",
   "execution_count": 29,
   "metadata": {},
   "outputs": [
    {
     "name": "stdout",
     "output_type": "stream",
     "text": [
      "Dopo la riduzione ci sono n.20426 elementi\n"
     ]
    }
   ],
   "source": [
    "vocab.reduce(lambda x,y=5,z=18*100: x>=y and x<=z)"
   ]
  },
  {
   "cell_type": "markdown",
   "metadata": {},
   "source": [
    "##### Le seguenti variabili saranno usate per la costruzione del WordCloud"
   ]
  },
  {
   "cell_type": "code",
   "execution_count": 31,
   "metadata": {},
   "outputs": [],
   "source": [
    "salute = \"\"\n",
    "tecnologia = \"\"\n",
    "sport = \"\""
   ]
  },
  {
   "cell_type": "markdown",
   "metadata": {},
   "source": [
    "#####  La seguente porzione di codice serve per costruire il vocaboraio e conteggiare la frequenza del numero di parole"
   ]
  },
  {
   "cell_type": "markdown",
   "metadata": {},
   "source": [
    "Andiamo quindi ad impiegare tutte le funzioni vista in precedenza"
   ]
  },
  {
   "cell_type": "code",
   "execution_count": 33,
   "metadata": {},
   "outputs": [],
   "source": [
    "articoli = iter(glob.glob(\"archivio/*.txt\"))"
   ]
  },
  {
   "cell_type": "code",
   "execution_count": 34,
   "metadata": {},
   "outputs": [
    {
     "name": "stdout",
     "output_type": "stream",
     "text": [
      "Fine\n"
     ]
    }
   ],
   "source": [
    "# Inizializzazione della classe\n",
    "vocabs = Vocabulary()\n",
    "\n",
    "# Importazione di un elenco personalizzato di stopwords\n",
    "vocabs.import_stopwords(\"stopwords_ita.txt\")\n",
    "\n",
    "i = 0\n",
    "\n",
    "while True:\n",
    "    \n",
    "    i += 1\n",
    "    \n",
    "#     if i == 10:\n",
    "#         break\n",
    "        \n",
    "    try:\n",
    "    \n",
    "        articolo = next(articoli)\n",
    "        estrati_dati(articolo)\n",
    "        \n",
    "        dati = estrati_dati(articolo)\n",
    "        classe = dati[1]\n",
    "                \n",
    "        doc = nlp(dati[0])\n",
    "        \n",
    "        # Filtro dei tokens (lemmizzati) che non sono stop_words\n",
    "        tokens = [token.lemma_.lower() for token in doc if not (token.lemma_ in vocabs.stopwords)]\n",
    "        \n",
    "        for token in tokens:\n",
    "            \n",
    "            # Ulteriore filtro è sulla lunghezza della parola\n",
    "            if len(str(token)) > 3:\n",
    "\n",
    "                vocabs.builder(token.replace(\" \",\"_\"))\n",
    "\n",
    "\n",
    "                \"\"\"\n",
    "                Il seguente codice servirà per la costruzione del WordCloud\n",
    "                \n",
    "                Qui andiamo ad \"accodare\", in 3 distinte variabili, \n",
    "                le parole che compongono i vari articoli\n",
    "                \"\"\"\n",
    "\n",
    "                if classe == \"salute\":\n",
    "\n",
    "                    salute += \" \" + str(token)\n",
    "                    \n",
    "\n",
    "                elif classe == \"sport\":\n",
    "\n",
    "                    sport += \" \" + str(token)\n",
    "\n",
    "                else:\n",
    "\n",
    "                    tecnologia += \" \" + str(token)\n",
    "            \n",
    "    \n",
    "    except StopIteration:\n",
    "        print(\"Fine\")\n",
    "        break"
   ]
  },
  {
   "cell_type": "code",
   "execution_count": 43,
   "metadata": {},
   "outputs": [],
   "source": [
    "from wordcloud import WordCloud, STOPWORDS, ImageColorGenerator\n",
    "import matplotlib.pyplot as plt"
   ]
  },
  {
   "cell_type": "code",
   "execution_count": 44,
   "metadata": {},
   "outputs": [
    {
     "data": {
      "image/png": "[encoded data removed]",
      "text/plain": [
       "<Figure size 432x288 with 1 Axes>"
      ]
     },
     "metadata": {
      "needs_background": "light"
     },
     "output_type": "display_data"
    }
   ],
   "source": [
    "wordcloud = WordCloud(max_font_size=50, max_words=25, background_color='blue', colormap='autumn')\n",
    "wordcloud.generate(salute)\n",
    "\n",
    "plt.figure()\n",
    "plt.title(\"Salute\")\n",
    "plt.imshow(wordcloud, interpolation='bilinear')\n",
    "plt.axis('off')\n",
    "plt.show()"
   ]
  },
  {
   "cell_type": "code",
   "execution_count": 45,
   "metadata": {},
   "outputs": [
    {
     "data": {
      "image/png": "[encoded data removed]",
      "text/plain": [
       "<Figure size 432x288 with 1 Axes>"
      ]
     },
     "metadata": {
      "needs_background": "light"
     },
     "output_type": "display_data"
    }
   ],
   "source": [
    "wordcloud = WordCloud(max_font_size=50, max_words=25, background_color='blue', colormap='autumn')\n",
    "wordcloud.generate(tecnologia)\n",
    "\n",
    "plt.figure()\n",
    "plt.title(\"Tecnologia\")\n",
    "plt.imshow(wordcloud, interpolation='bilinear')\n",
    "plt.axis('off')\n",
    "plt.show()"
   ]
  },
  {
   "cell_type": "code",
   "execution_count": 46,
   "metadata": {},
   "outputs": [
    {
     "data": {
      "image/png": "[encoded data removed]",
      "text/plain": [
       "<Figure size 432x288 with 1 Axes>"
      ]
     },
     "metadata": {
      "needs_background": "light"
     },
     "output_type": "display_data"
    }
   ],
   "source": [
    "wordcloud = WordCloud(max_font_size=50, max_words=25, background_color='blue', colormap='autumn')\n",
    "wordcloud.generate(sport)\n",
    "\n",
    "plt.figure()\n",
    "plt.title(\"Sport\")\n",
    "plt.imshow(wordcloud, interpolation='bilinear')\n",
    "plt.axis('off')\n",
    "plt.show()"
   ]
  },
  {
   "cell_type": "markdown",
   "metadata": {},
   "source": [
    "### Costruire WordCloud senza common words"
   ]
  },
  {
   "cell_type": "code",
   "execution_count": 47,
   "metadata": {},
   "outputs": [
    {
     "data": {
      "image/png": "[encoded data removed]",
      "text/plain": [
       "<Figure size 432x288 with 1 Axes>"
      ]
     },
     "metadata": {
      "needs_background": "light"
     },
     "output_type": "display_data"
    }
   ],
   "source": [
    "wordcloud = WordCloud(max_font_size=50, max_words=25, background_color='blue', colormap='autumn')\n",
    "wordcloud.generate(salute_wc)\n",
    "\n",
    "plt.figure()\n",
    "plt.title(\"Salute\")\n",
    "plt.imshow(wordcloud, interpolation='bilinear')\n",
    "plt.axis('off')\n",
    "plt.show()"
   ]
  },
  {
   "cell_type": "markdown",
   "metadata": {},
   "source": [
    "### Scikit learn (sklearn)... una libreria indispensabile per il machine learning con Python"
   ]
  },
  {
   "cell_type": "markdown",
   "metadata": {},
   "source": [
    "All'interno di sklearn si trovano molti \"strumenti\" già pronti all'uso per effettuare molte operazioni comuni nel trattamento dei dati in ambito machine learning come ad esempio:\n",
    "\n",
    "- la standardizzazione delle variabili ---> sklearn.preprocessing.StandardScaler\n",
    "- suddivisione del dataset in train e test set ---> sklearn.model_selection.train_test_split\n",
    "\n",
    "Oltre a tanti algoritmi di ML naturalmente...:\n",
    "\n",
    "- Regressione logistica ---> sklearn.linear_model.LogisticRegression\n",
    "- Eccetera eccetera\n"
   ]
  },
  {
   "cell_type": "code",
   "execution_count": 48,
   "metadata": {},
   "outputs": [],
   "source": [
    "from sklearn.feature_extraction.text import CountVectorizer"
   ]
  },
  {
   "cell_type": "markdown",
   "metadata": {},
   "source": [
    "##### Spiegazione"
   ]
  },
  {
   "cell_type": "markdown",
   "metadata": {},
   "source": [
    "CountVectorizer costruisce un dizionario con la frequenza delle parole e permette, inoltre, alcune operazioni con i dati.\n",
    "\n",
    "In particolare andremo a costruire, frase per frase, un array di zeri (0) di lunghezza pari al numero di parole presenti nel vocabolario.\n",
    "\n",
    "Siccome le parole rappresentano l'indice dell'array, per ogni parola presente nella frase l'array avrà valore uno (1)."
   ]
  },
  {
   "cell_type": "markdown",
   "metadata": {},
   "source": [
    "##### Esempio pratico"
   ]
  },
  {
   "cell_type": "code",
   "execution_count": 49,
   "metadata": {},
   "outputs": [],
   "source": [
    "cv_esempio = CountVectorizer()"
   ]
  },
  {
   "cell_type": "code",
   "execution_count": 50,
   "metadata": {},
   "outputs": [],
   "source": [
    "testo_prova = \"primo testo di prova\"\n",
    "\n",
    "testo_test = \"secondo testo di prova\""
   ]
  },
  {
   "cell_type": "markdown",
   "metadata": {},
   "source": [
    "In questo caso la lunghezza dell'array sarà di 4"
   ]
  },
  {
   "cell_type": "code",
   "execution_count": 51,
   "metadata": {},
   "outputs": [
    {
     "data": {
      "text/plain": [
       "['di', 'primo', 'prova', 'testo']"
      ]
     },
     "execution_count": 51,
     "metadata": {},
     "output_type": "execute_result"
    }
   ],
   "source": [
    "cv_esempio.fit(testo_prova.split())\n",
    "\n",
    "cv_esempio.get_feature_names()"
   ]
  },
  {
   "cell_type": "code",
   "execution_count": 52,
   "metadata": {},
   "outputs": [
    {
     "data": {
      "text/plain": [
       "3"
      ]
     },
     "execution_count": 52,
     "metadata": {},
     "output_type": "execute_result"
    }
   ],
   "source": [
    "cv_esempio.get_feature_names().index('testo')"
   ]
  },
  {
   "cell_type": "code",
   "execution_count": 53,
   "metadata": {},
   "outputs": [
    {
     "name": "stdout",
     "output_type": "stream",
     "text": [
      "primo testo di prova\n"
     ]
    },
    {
     "data": {
      "text/plain": [
       "array([[0, 1, 0, 0],\n",
       "       [0, 0, 0, 1],\n",
       "       [1, 0, 0, 0],\n",
       "       [0, 0, 1, 0]])"
      ]
     },
     "execution_count": 53,
     "metadata": {},
     "output_type": "execute_result"
    }
   ],
   "source": [
    "print(testo_prova)\n",
    "\n",
    "cv_esempio.transform(testo_prova.split()).toarray()"
   ]
  },
  {
   "cell_type": "code",
   "execution_count": 54,
   "metadata": {},
   "outputs": [
    {
     "data": {
      "text/plain": [
       "array([1, 1, 1, 1])"
      ]
     },
     "execution_count": 54,
     "metadata": {},
     "output_type": "execute_result"
    }
   ],
   "source": [
    "np.max(cv_esempio.transform(testo_prova.split()).toarray(), axis=0)"
   ]
  },
  {
   "cell_type": "code",
   "execution_count": 55,
   "metadata": {},
   "outputs": [
    {
     "data": {
      "text/html": [
       "<div>\n",
       "<style scoped>\n",
       "    .dataframe tbody tr th:only-of-type {\n",
       "        vertical-align: middle;\n",
       "    }\n",
       "\n",
       "    .dataframe tbody tr th {\n",
       "        vertical-align: top;\n",
       "    }\n",
       "\n",
       "    .dataframe thead th {\n",
       "        text-align: right;\n",
       "    }\n",
       "</style>\n",
       "<table border=\"1\" class=\"dataframe\">\n",
       "  <thead>\n",
       "    <tr style=\"text-align: right;\">\n",
       "      <th></th>\n",
       "      <th>di</th>\n",
       "      <th>primo</th>\n",
       "      <th>prova</th>\n",
       "      <th>testo</th>\n",
       "    </tr>\n",
       "  </thead>\n",
       "  <tbody>\n",
       "    <tr>\n",
       "      <th>0</th>\n",
       "      <td>1</td>\n",
       "      <td>1</td>\n",
       "      <td>1</td>\n",
       "      <td>1</td>\n",
       "    </tr>\n",
       "  </tbody>\n",
       "</table>\n",
       "</div>"
      ],
      "text/plain": [
       "   di  primo  prova  testo\n",
       "0   1      1      1      1"
      ]
     },
     "execution_count": 55,
     "metadata": {},
     "output_type": "execute_result"
    }
   ],
   "source": [
    "df = pd.DataFrame(data = np.max(cv_esempio.transform(testo_prova.split(\" \")).toarray(), axis=0).reshape((1,4)), \\\n",
    "                  columns=cv_esempio.get_feature_names())\n",
    "df"
   ]
  },
  {
   "cell_type": "markdown",
   "metadata": {},
   "source": [
    "Cosa accade quando c'è una parola che non conosce?"
   ]
  },
  {
   "cell_type": "code",
   "execution_count": 56,
   "metadata": {},
   "outputs": [
    {
     "name": "stdout",
     "output_type": "stream",
     "text": [
      "secondo testo di prova\n"
     ]
    },
    {
     "data": {
      "text/plain": [
       "array([[0, 0, 0, 0],\n",
       "       [0, 0, 0, 1],\n",
       "       [1, 0, 0, 0],\n",
       "       [0, 0, 1, 0]])"
      ]
     },
     "execution_count": 56,
     "metadata": {},
     "output_type": "execute_result"
    }
   ],
   "source": [
    "print(testo_test)\n",
    "\n",
    "cv_esempio.transform(testo_test.split()).toarray()"
   ]
  },
  {
   "cell_type": "markdown",
   "metadata": {},
   "source": [
    "Semplicemente la scarta!"
   ]
  },
  {
   "cell_type": "code",
   "execution_count": 57,
   "metadata": {},
   "outputs": [
    {
     "data": {
      "text/plain": [
       "array([1, 0, 1, 1])"
      ]
     },
     "execution_count": 57,
     "metadata": {},
     "output_type": "execute_result"
    }
   ],
   "source": [
    "np.max(cv_esempio.transform(testo_test.split()).toarray(), axis=0)"
   ]
  },
  {
   "cell_type": "code",
   "execution_count": 58,
   "metadata": {},
   "outputs": [
    {
     "data": {
      "text/html": [
       "<div>\n",
       "<style scoped>\n",
       "    .dataframe tbody tr th:only-of-type {\n",
       "        vertical-align: middle;\n",
       "    }\n",
       "\n",
       "    .dataframe tbody tr th {\n",
       "        vertical-align: top;\n",
       "    }\n",
       "\n",
       "    .dataframe thead th {\n",
       "        text-align: right;\n",
       "    }\n",
       "</style>\n",
       "<table border=\"1\" class=\"dataframe\">\n",
       "  <thead>\n",
       "    <tr style=\"text-align: right;\">\n",
       "      <th></th>\n",
       "      <th>di</th>\n",
       "      <th>primo</th>\n",
       "      <th>prova</th>\n",
       "      <th>testo</th>\n",
       "    </tr>\n",
       "  </thead>\n",
       "  <tbody>\n",
       "    <tr>\n",
       "      <th>0</th>\n",
       "      <td>1</td>\n",
       "      <td>0</td>\n",
       "      <td>1</td>\n",
       "      <td>1</td>\n",
       "    </tr>\n",
       "  </tbody>\n",
       "</table>\n",
       "</div>"
      ],
      "text/plain": [
       "   di  primo  prova  testo\n",
       "0   1      0      1      1"
      ]
     },
     "execution_count": 58,
     "metadata": {},
     "output_type": "execute_result"
    }
   ],
   "source": [
    "df = pd.DataFrame(data = np.max(cv_esempio.transform(testo_test.split()).toarray(), axis=0).reshape((1,4)), \\\n",
    "                  columns=cv_esempio.get_feature_names())\n",
    "df"
   ]
  },
  {
   "cell_type": "code",
   "execution_count": 59,
   "metadata": {},
   "outputs": [
    {
     "name": "stdout",
     "output_type": "stream",
     "text": [
      "Sono stati caricati n.81039 elementi\n",
      "Dopo la riduzione ci sono n.18101 elementi\n"
     ]
    }
   ],
   "source": [
    "vocab = Vocabulary('vocab.json', tokens = True)\n",
    "vocab.import_stopwords(\"stopwords_ita.txt\")"
   ]
  },
  {
   "cell_type": "markdown",
   "metadata": {},
   "source": [
    "##### Applicazione"
   ]
  },
  {
   "cell_type": "markdown",
   "metadata": {},
   "source": [
    "Con questa operazione importiamo direttamente il dizionario nel CountVectorizer senza che quest'ultimo processi prima i vari articoli."
   ]
  },
  {
   "cell_type": "code",
   "execution_count": 60,
   "metadata": {},
   "outputs": [],
   "source": [
    "cv = CountVectorizer(vocabulary = vocab.word2idx)"
   ]
  },
  {
   "cell_type": "markdown",
   "metadata": {},
   "source": [
    "Altro strumento molto importante che troviamo nella libreria sklearn è LabelEncoder.\n",
    "\n",
    "Come dice il nome ci permette di codificare le etichette, ovvero trasformarle in numeri. La trasformazione di stringhe in numeri è sempre un passaggio obbligato dato che gli algoritmi di ML lavorano con i numeri non con le parole.\n",
    "\n",
    "E' solitamente utilizzata per la codifica delle variabili risposta in problemi di classificazione (classi).\n",
    "\n",
    "Si compone di un metodo \"fit\" che addestra l'oggetto e di un metodo \"tranform\" che le codifica in numeri."
   ]
  },
  {
   "cell_type": "code",
   "execution_count": 61,
   "metadata": {},
   "outputs": [
    {
     "data": {
      "text/plain": [
       "array([0, 2, 1])"
      ]
     },
     "execution_count": 61,
     "metadata": {},
     "output_type": "execute_result"
    }
   ],
   "source": [
    "from sklearn.preprocessing import LabelEncoder\n",
    "labelencoder = LabelEncoder()\n",
    "\n",
    "labelencoder.fit(['salute','tecnologia','sport'])\n",
    "\n",
    "classes = labelencoder.transform(['salute','tecnologia','sport'])\n",
    "\n",
    "classes"
   ]
  },
  {
   "cell_type": "markdown",
   "metadata": {},
   "source": [
    "Codifica in indice"
   ]
  },
  {
   "cell_type": "code",
   "execution_count": 62,
   "metadata": {},
   "outputs": [
    {
     "data": {
      "text/plain": [
       "array([0])"
      ]
     },
     "execution_count": 62,
     "metadata": {},
     "output_type": "execute_result"
    }
   ],
   "source": [
    "labelencoder.transform(['salute'])"
   ]
  },
  {
   "cell_type": "markdown",
   "metadata": {},
   "source": [
    "Decodifica in classe"
   ]
  },
  {
   "cell_type": "code",
   "execution_count": 63,
   "metadata": {},
   "outputs": [
    {
     "data": {
      "text/plain": [
       "'salute'"
      ]
     },
     "execution_count": 63,
     "metadata": {},
     "output_type": "execute_result"
    }
   ],
   "source": [
    "labelencoder.classes_[0]"
   ]
  },
  {
   "cell_type": "markdown",
   "metadata": {},
   "source": [
    "##### Mettiamo tutto insieme..."
   ]
  },
  {
   "cell_type": "code",
   "execution_count": 64,
   "metadata": {},
   "outputs": [],
   "source": [
    "def preparazione_dati(articolo):\n",
    "\n",
    "        estrati_dati(articolo)\n",
    "\n",
    "        dati = estrati_dati(articolo)\n",
    "                \n",
    "        y = dati[1]\n",
    "        \n",
    "        y = labelencoder.transform([y])[0]\n",
    "\n",
    "        doc = nlp(dati[0])\n",
    "        \n",
    "        \"\"\"\n",
    "        Esclude le parole che sono stopwords e \n",
    "        trasforma in OOV le parole non comprese nel vocabolario\n",
    "        \n",
    "        OOV = Out Of Vocabulary\n",
    "        \n",
    "        \"\"\"\n",
    "\n",
    "        tokens = [token.lemma_.lower() if token.lemma_ in vocab.word2idx.keys() else 'OOV' for token in doc if not (token.lemma_ in vocab.stopwords)]\n",
    "\n",
    "        testo = \"\"\n",
    "\n",
    "        for token in tokens:\n",
    "           \n",
    "            testo += \" \" + token\n",
    "            \n",
    "        X = cv.transform(testo.split()).toarray()\n",
    "        X = np.max(X, axis=0).tolist()\n",
    "        \n",
    "        return X, y"
   ]
  },
  {
   "cell_type": "markdown",
   "metadata": {},
   "source": [
    "#### Carichiamo l'algoritmo di ML"
   ]
  },
  {
   "cell_type": "code",
   "execution_count": 65,
   "metadata": {},
   "outputs": [],
   "source": [
    "from sklearn.linear_model import SGDClassifier\n",
    "\n",
    "classifier = SGDClassifier(fit_intercept=False)"
   ]
  },
  {
   "cell_type": "markdown",
   "metadata": {},
   "source": [
    "Ho scelto quest'algoritmo semplicemente perchè ha un metodo che mi permette di estrarre più facilmente l'importanza associata ad ogni parola. Anche se non è l'unico che permette di fare questo."
   ]
  },
  {
   "cell_type": "markdown",
   "metadata": {},
   "source": [
    "Come per il LabelEncoder gli algoritmi di ML devono essere prima addestrati passando loro un dataset *(train set)* che comprende il valore della variabile risposta (in questo caso la classe) e poi testati su un dataset *(test set)* che contiene solo le varibili esplicative."
   ]
  },
  {
   "cell_type": "code",
   "execution_count": 66,
   "metadata": {},
   "outputs": [],
   "source": [
    "articoli = iter(glob.glob(\"archivio/*.txt\"))"
   ]
  },
  {
   "cell_type": "code",
   "execution_count": 67,
   "metadata": {},
   "outputs": [
    {
     "name": "stdout",
     "output_type": "stream",
     "text": [
      "Fine\n"
     ]
    }
   ],
   "source": [
    "arr_X, arr_y = [], []\n",
    "\n",
    "i = 0\n",
    "\n",
    "# Rappresenta la dimension (numero di articoli)\n",
    "# che l'algoritmo prcocessa ad ogni step\n",
    "batch_size = 64\n",
    "\n",
    "while True:\n",
    "    \n",
    "    \n",
    "    try:\n",
    "        \n",
    "        i += 1\n",
    "        \n",
    "        # Faremo stoppare l'addestramento del modello (fitting)\n",
    "        # dopo i primi 1024 articoli così da usare i rimanenti\n",
    "        # come test set.\n",
    "        if i > 1024:\n",
    "            raise StopIteration\n",
    "\n",
    "        articolo = next(articoli)\n",
    "        \n",
    "        # La variabile risp contiene\n",
    "        # indice 0 l'array di dati\n",
    "        # indice 1 l'array della classe di appartenenza\n",
    "        risp = preparazione_dati(articolo)\n",
    "\n",
    "        # Qui andiamo a costruire la matrice (X) e l'array (y)\n",
    "        # che saranno processati dal classificatore\n",
    "        arr_X.append(risp[0])\n",
    "        arr_y.append(risp[1]) \n",
    "\n",
    "        # Il classificatore effettua i suoi calcoli solo quando\n",
    "        # la dimensione dell'array X è pari al batch size\n",
    "        if i % batch_size == 0:\n",
    "\n",
    "            classifier.partial_fit(arr_X, arr_y, classes)\n",
    "\n",
    "            # Ad ogni step di addestramento azzeriamo\n",
    "            # i valori per caricarli nuovamente per il\n",
    "            # nuovo batch\n",
    "            arr_X, arr_y = [], []\n",
    "                    \n",
    "    except StopIteration:\n",
    "        print(\"Fine\")\n",
    "        break\n"
   ]
  },
  {
   "cell_type": "markdown",
   "metadata": {},
   "source": [
    "#### Come si valuta la bontà del modello?"
   ]
  },
  {
   "cell_type": "markdown",
   "metadata": {},
   "source": [
    "Se si trattasse di statistica inferenziale avremmo la possibilità di applicare dei test statistici che, attraverso l'esame del valore soglia, ci dicono se possiamo accettare o meno il modello... ma in questo caso ?"
   ]
  },
  {
   "cell_type": "markdown",
   "metadata": {},
   "source": [
    "citazione: _**\"TUTTI I MODELLI SONO SBAGLIATI... ALCUNI SONO UTILI\"**_."
   ]
  },
  {
   "cell_type": "markdown",
   "metadata": {},
   "source": [
    "Nei problemi di classificazione (come questo) **uno dei modi** per valutare la bontà del modello è misurare quante volte classifica correttamente gli articoli del test_set diviso il totale degli articoli che compongono il test_set. Questa misura si chiama \"accuracy\". Si confronta, poi, il valore ottenuto con l'accuracy del trainset."
   ]
  },
  {
   "cell_type": "markdown",
   "metadata": {},
   "source": [
    "**Se i due valori sono elevati e, soprattutto, sono abbastanza vicino tra loro possiamo dire che l'algoritmo è stato in grado di generalizzare** ovvero di interpolare la regola che determina il fenomeno osservato."
   ]
  },
  {
   "cell_type": "markdown",
   "metadata": {},
   "source": [
    "Ricordo che il test set potrebbe/dovrebbe contenere parole sulle quali l'algorimo non è stato addestrato."
   ]
  },
  {
   "cell_type": "markdown",
   "metadata": {},
   "source": [
    "#### Applichiamo il classificatore al test set"
   ]
  },
  {
   "cell_type": "code",
   "execution_count": 68,
   "metadata": {},
   "outputs": [],
   "source": [
    "articolo = next(articoli)\n",
    "risp = preparazione_dati(articolo)"
   ]
  },
  {
   "cell_type": "code",
   "execution_count": 69,
   "metadata": {},
   "outputs": [
    {
     "data": {
      "text/plain": [
       "0"
      ]
     },
     "execution_count": 69,
     "metadata": {},
     "output_type": "execute_result"
    }
   ],
   "source": [
    "# Classe di appartenenza dell'articolo\n",
    "risp[1]"
   ]
  },
  {
   "cell_type": "code",
   "execution_count": 70,
   "metadata": {},
   "outputs": [
    {
     "data": {
      "text/plain": [
       "0"
      ]
     },
     "execution_count": 70,
     "metadata": {},
     "output_type": "execute_result"
    }
   ],
   "source": [
    "# Classe prevista dal classificatore\n",
    "classifier.predict([risp[0]])[0]"
   ]
  },
  {
   "cell_type": "markdown",
   "metadata": {},
   "source": [
    "### Costruzione dell'accuracy per i test set"
   ]
  },
  {
   "cell_type": "code",
   "execution_count": 71,
   "metadata": {},
   "outputs": [
    {
     "name": "stdout",
     "output_type": "stream",
     "text": [
      "partial 80%\n",
      "partial 83%\n",
      "partial 84%\n",
      "partial 85%\n",
      "Fine: 85.71%\n"
     ]
    }
   ],
   "source": [
    "n = 0\n",
    "\n",
    "# Totale articoli processati\n",
    "total = 0\n",
    "\n",
    "# Numero articoli correttamente classificati\n",
    "correct = 0\n",
    "\n",
    "\n",
    "while True:\n",
    "    \n",
    "    n += 1\n",
    "\n",
    "    try:\n",
    "        \n",
    "        total += 1\n",
    "        \n",
    "        articolo = next(articoli)\n",
    "        \n",
    "        risp = preparazione_dati(articolo)\n",
    "        \n",
    "        \"\"\"\n",
    "        Costruzione manuale dell'accuracy\n",
    "        \"\"\"\n",
    "        \n",
    "        # Se l'algoritmo classifica correttamente allora\n",
    "        # incrementare la varibile correct\n",
    "        if risp[1] == classifier.predict([risp[0]])[0]:\n",
    "            \n",
    "            correct += 1\n",
    "            \n",
    "        if n % 100 == 0:\n",
    "            print(f\"partial {int(correct/total * 100)}%\")\n",
    "            \n",
    "                \n",
    "    except StopIteration:\n",
    "        # Qui stampa l'accuracy finale\n",
    "        print(f\"Fine: {correct/total*100:0.2f}%\")\n",
    "        break"
   ]
  },
  {
   "cell_type": "markdown",
   "metadata": {},
   "source": [
    "##### Qualche dettaglio sul classificatore"
   ]
  },
  {
   "cell_type": "markdown",
   "metadata": {},
   "source": [
    "L'indice che identifica la classe \"salute\" è:"
   ]
  },
  {
   "cell_type": "code",
   "execution_count": 72,
   "metadata": {},
   "outputs": [
    {
     "data": {
      "text/plain": [
       "0"
      ]
     },
     "execution_count": 72,
     "metadata": {},
     "output_type": "execute_result"
    }
   ],
   "source": [
    "labelencoder.transform(['salute'])[0]"
   ]
  },
  {
   "cell_type": "markdown",
   "metadata": {},
   "source": [
    "I pesi che l'algoritmo assegna a questa classe si estraggono attraverso il metodo coef_ _(Ecco perchè avevo scelto quest'algoritmo)_.\n",
    "\n",
    "Come si può notare, la lunghezza di questi pesi corrisponde alla lunghezza delle parole del vocabolario (o meglio dei tokens)."
   ]
  },
  {
   "cell_type": "code",
   "execution_count": 73,
   "metadata": {},
   "outputs": [
    {
     "name": "stdout",
     "output_type": "stream",
     "text": [
      "18101\n",
      "18101\n"
     ]
    }
   ],
   "source": [
    "print(len(classifier.coef_[0]))\n",
    "print(len(vocab.idx2word))"
   ]
  },
  {
   "cell_type": "markdown",
   "metadata": {},
   "source": [
    "Estraiamo adesso il valore massimo assunto dai pesi e poi l'indice associato."
   ]
  },
  {
   "cell_type": "code",
   "execution_count": 74,
   "metadata": {},
   "outputs": [
    {
     "data": {
      "text/plain": [
       "74.14730598121594"
      ]
     },
     "execution_count": 74,
     "metadata": {},
     "output_type": "execute_result"
    }
   ],
   "source": [
    "# Valore max\n",
    "np.max(classifier.coef_[0])"
   ]
  },
  {
   "cell_type": "code",
   "execution_count": 75,
   "metadata": {},
   "outputs": [
    {
     "name": "stdout",
     "output_type": "stream",
     "text": [
      "1559\n"
     ]
    }
   ],
   "source": [
    "# Indice della parola con valore max\n",
    "indice = str(np.argmax(classifier.coef_[0]))\n",
    "print(indice)"
   ]
  },
  {
   "cell_type": "markdown",
   "metadata": {},
   "source": [
    "L'indice ci serve per individuare qual'è la parola, per la classe \"salute\", alla quale viene attribuita l'importanza maggiore."
   ]
  },
  {
   "cell_type": "code",
   "execution_count": 76,
   "metadata": {},
   "outputs": [
    {
     "data": {
      "text/plain": [
       "'malattia'"
      ]
     },
     "execution_count": 76,
     "metadata": {},
     "output_type": "execute_result"
    }
   ],
   "source": [
    "# Parola con valore max\n",
    "vocab.idx2word[indice]"
   ]
  },
  {
   "cell_type": "markdown",
   "metadata": {},
   "source": [
    "#### Un DataFrame per meglio visualizzare..."
   ]
  },
  {
   "cell_type": "code",
   "execution_count": 77,
   "metadata": {},
   "outputs": [],
   "source": [
    "tot = {k:v for k,v in zip(vocab.word2idx.keys(), classifier.coef_[0])}"
   ]
  },
  {
   "cell_type": "code",
   "execution_count": 78,
   "metadata": {},
   "outputs": [],
   "source": [
    "tot_salute = {k:v for k,v in sorted(tot.items(), key=lambda item: item[1], reverse=True)}"
   ]
  },
  {
   "cell_type": "code",
   "execution_count": 79,
   "metadata": {},
   "outputs": [
    {
     "name": "stdout",
     "output_type": "stream",
     "text": [
      "Prime 10 parole:\n",
      "                      0\n",
      "malattia     74.147306\n",
      "marzo        69.204152\n",
      "sanitario    59.317845\n",
      "ospedale     59.317845\n",
      "attribuire   59.317845\n",
      "ottenere     54.374691\n",
      "strutturare  54.374691\n",
      "ricordare    54.374691\n",
      "quotidiano   49.431537\n",
      "riferimento  49.431537\n",
      "\n",
      "\n",
      "Ultime 10 parole:\n",
      "                      0\n",
      "campo       -44.488384\n",
      "gara        -49.431537\n",
      "ormai       -49.431537\n",
      "ingegneria  -54.374691\n",
      "sportivo    -59.317845\n",
      "salute      -59.317845\n",
      "tecnologia  -69.204152\n",
      "società     -69.204152\n",
      "tecnologico -74.147306\n",
      "tecnico     -79.090460\n"
     ]
    }
   ],
   "source": [
    "df = pd.DataFrame()\n",
    "df = df.from_dict(tot_salute, orient='index')\n",
    "\n",
    "print(f\"Prime 10 parole:\\n {df.head(10)}\\n\\n\")\n",
    "\n",
    "print(f\"Ultime 10 parole:\\n {df.tail(10)}\")"
   ]
  }
 ],
 "metadata": {
  "kernelspec": {
   "display_name": "Python 3",
   "language": "python",
   "name": "python3"
  },
  "language_info": {
   "codemirror_mode": {
    "name": "ipython",
    "version": 3
   },
   "file_extension": ".py",
   "mimetype": "text/x-python",
   "name": "python",
   "nbconvert_exporter": "python",
   "pygments_lexer": "ipython3",
   "version": "3.8.5"
  }
 },
 "nbformat": 4,
 "nbformat_minor": 4
}
