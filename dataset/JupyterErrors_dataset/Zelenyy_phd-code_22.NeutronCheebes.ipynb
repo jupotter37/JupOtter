{
 "cells": [
  {
   "cell_type": "code",
   "execution_count": 122,
   "outputs": [],
   "source": [
    "from dataclasses import dataclass\n",
    "import numpy as np\n",
    "import matplotlib.pyplot as plt\n",
    "import matplotlib as mpl\n",
    "import tables\n",
    "import matplotlib as mpl\n",
    "\n",
    "mpl.rcParams[\"font.size\"] = 16"
   ],
   "metadata": {
    "collapsed": false,
    "pycharm": {
     "name": "#%%\n"
    }
   }
  },
  {
   "cell_type": "code",
   "execution_count": 12,
   "outputs": [],
   "source": [
    "path = \"/mnt/storage2/phd/data/thunderstorm/neutron/spacecraft.hdf5\"\n",
    "path = \"/mnt/storage2/phd/data/thunderstorm/neutron/spacecraft_opt4.hdf5\""
   ],
   "metadata": {
    "collapsed": false,
    "pycharm": {
     "name": "#%%\n"
    }
   }
  },
  {
   "cell_type": "code",
   "execution_count": 113,
   "outputs": [
    {
     "name": "stdout",
     "output_type": "stream",
     "text": [
      "/sim0000/stacking_simple._v_attrs (AttributeSet), 29 attributes:\n",
      "   [CLASS := 'TABLE',\n",
      "    FIELD_0_FILL := 0,\n",
      "    FIELD_0_NAME := 'event',\n",
      "    FIELD_1_FILL := 0,\n",
      "    FIELD_1_NAME := 'id',\n",
      "    FIELD_2_FILL := 0,\n",
      "    FIELD_2_NAME := 'parent_id',\n",
      "    FIELD_3_FILL := 0,\n",
      "    FIELD_3_NAME := 'particle',\n",
      "    FIELD_4_FILL := 0.0,\n",
      "    FIELD_4_NAME := 'energy',\n",
      "    FIELD_5_FILL := 0.0,\n",
      "    FIELD_5_NAME := 'theta',\n",
      "    FIELD_6_FILL := 0.0,\n",
      "    FIELD_6_NAME := 'radius',\n",
      "    FIELD_7_FILL := 0.0,\n",
      "    FIELD_7_NAME := 'z',\n",
      "    FIELD_8_FILL := 0.0,\n",
      "    FIELD_8_NAME := 'time',\n",
      "    NROWS := 175,\n",
      "    TITLE := '',\n",
      "    VERSION := '2.7',\n",
      "    path := 'sim0000',\n",
      "    text := '/npm/geometry/type gdml\\n/npm/geometry/gdml ../SpaceCraftFullAtmosphere.gdml\\n/npm/thunderstorm/physics FTFP_BERT_opt4\\n/npm/thunderstorm/minimal_energy 10.0 MeV\\n/npm/thunderstorm/stacking/electron false\\n/npm/thunderstorm/stacking/positron false\\n/npm/thunderstorm/stacking/gamma true\\n/npm/thunderstorm/stacking/save_gamma false\\n/npm/thunderstorm/stacking/save_electron false\\n/npm/thunderstorm/stacking/save_neutron true\\n/npm/thunderstorm/tracking/save_gamma true\\n/npm/thunderstorm/tracking/save_electron false\\n\\n/gps/particle gamma\\n/gps/position 0.0 0.0 15000.0 meter\\n/gps/direction 0 0 1\\n/gps/ene/mono 100 MeV\\n/run/beamOn 100000\\nexit\\n',\n",
      "    values_macros_energy := 100,\n",
      "    values_macros_number := 100000,\n",
      "    values_macros_path := '../SpaceCraftFullAtmosphere.gdml',\n",
      "    values_macros_physics := 'FTFP_BERT_opt4',\n",
      "    values_time := 30.415437815710902]\n"
     ]
    }
   ],
   "source": [
    "path = \"/mnt/storage2/phd/data/thunderstorm/neutron/spacecraft_opt4_h10km.hdf5\"\n",
    "with tables.open_file(path) as h5file:\n",
    "    result = []\n",
    "    for group in h5file.root:\n",
    "        table = h5file.get_node(group, \"stacking_simple\")\n",
    "        print(repr(table.attrs))\n",
    "        break"
   ],
   "metadata": {
    "collapsed": false,
    "pycharm": {
     "name": "#%%\n"
    }
   }
  },
  {
   "cell_type": "code",
   "execution_count": 124,
   "outputs": [],
   "source": [
    "def get_data(path):\n",
    "    with tables.open_file(path) as h5file:\n",
    "        result = []\n",
    "        n = 0\n",
    "        for group in h5file.root:\n",
    "            table = h5file.get_node(group, \"stacking_simple\")\n",
    "            number = table.attrs[\"values_macros_number\"]\n",
    "            n += number\n",
    "            data = table.read()\n",
    "            result.append(data)\n",
    "        return np.hstack(result), 1.0/n"
   ],
   "metadata": {
    "collapsed": false,
    "pycharm": {
     "name": "#%%\n"
    }
   }
  },
  {
   "cell_type": "code",
   "execution_count": 44,
   "outputs": [],
   "source": [],
   "metadata": {
    "collapsed": false,
    "pycharm": {
     "name": "#%%\n"
    }
   }
  },
  {
   "cell_type": "code",
   "execution_count": 118,
   "outputs": [],
   "source": [
    "def plot_z_hist(data, name=\"air.png\", weight = 1):\n",
    "    indx = data[\"z\"] < 800000\n",
    "\n",
    "    plt.hist(data[\"z\"][indx]/1000, weights=weight*np.ones(np.sum(indx)))\n",
    "    plt.yscale(\"log\")\n",
    "    plt.xlabel(\"Высота, км\")\n",
    "    plt.ylabel(\"Число нейтронов\")\n",
    "    plt.tight_layout()\n",
    "    plt.savefig(name, fmt=\"png\", dpi=600, transparent=True)\n",
    "    print(\"Отношение рожденных в корабле к рожденным в атмосфере: {}\".format(np.sum(np.logical_not(indx))/np.sum(indx)))"
   ],
   "metadata": {
    "collapsed": false,
    "pycharm": {
     "name": "#%%\n"
    }
   }
  },
  {
   "cell_type": "code",
   "execution_count": 175,
   "outputs": [],
   "source": [
    "def plot_spacecraft(data, name=\"solid.png\", weight = 1):\n",
    "    indx = data[\"z\"] > 880000\n",
    "    data = data[\"z\"][indx]-880000\n",
    "    data = data[data < 500]\n",
    "    plt.hist(data, weights=weight*np.ones(data.size))\n",
    "    plt.yscale(\"log\")\n",
    "    plt.xlabel(\"Толщина детектора, метры\")\n",
    "    plt.ylabel(\"Число нейтронов\")\n",
    "    plt.tight_layout()\n",
    "    plt.savefig(name, fmt=\"png\", dpi=600, transparent=True)"
   ],
   "metadata": {
    "collapsed": false,
    "pycharm": {
     "name": "#%%\n"
    }
   }
  },
  {
   "cell_type": "code",
   "execution_count": 159,
   "outputs": [],
   "source": [
    "def plot_radius(data, name=\"solid.png\", weight = 1):\n",
    "    indx = data[\"z\"] < 880000\n",
    "    radius = 1\n",
    "    data_air = data[\"radius\"][indx]\n",
    "    indx1 = data_air < radius\n",
    "    data_air = data_air[indx1]\n",
    "    plt.hist(data_air, bins=100)\n",
    "    plt\n",
    "    # data_solid = data[\"radius\"][np.logical_not(indx)]\n",
    "    # indx1 = data_solid < radius\n",
    "    # data_solid = data_solid[indx1]\n",
    "    # plt.hist(data_solid, density=True, bins=100)\n",
    "    plt.xlabel(\"Разброс, метры\")\n",
    "    plt.ylabel(\"Доля нейтронов\")\n",
    "    plt.tight_layout()\n",
    "    # plt.savefig(name, fmt=\"png\", dpi=600, transparent=True)\n"
   ],
   "metadata": {
    "collapsed": false,
    "pycharm": {
     "name": "#%%\n"
    }
   }
  },
  {
   "cell_type": "code",
   "execution_count": 96,
   "outputs": [],
   "source": [
    "def plot_ratio(data, thickness = 100, name=\"ratio.png\"):\n",
    "    indx = data[\"z\"] < 880000\n",
    "    n_air = np.sum(indx)\n",
    "    data = data[\"z\"][np.logical_not(indx)] - 880000\n",
    "    data = data[data <  thickness ]\n",
    "    bins=np.arange(0,  thickness + 1 , 1)\n",
    "    hist, _ = np.histogram(data, bins=bins)\n",
    "    data = np.cumsum(hist)\n",
    "    plt.grid(True)\n",
    "    plt.plot(bins[:-1], data/n_air)\n",
    "    plt.xlabel(\"Толщина детектора, метры\")\n",
    "    plt.ylabel(\"Отношение рожденных в детекторе\\n к рожденным в атмосфере\")\n",
    "    plt.tight_layout()\n",
    "    plt.savefig(name, fmt=\"png\", dpi=600, transparent=True)"
   ],
   "metadata": {
    "collapsed": false,
    "pycharm": {
     "name": "#%%\n"
    }
   }
  },
  {
   "cell_type": "code",
   "execution_count": 216,
   "outputs": [],
   "source": [
    "def get_data_tracking(path):\n",
    "    with tables.open_file(path) as h5file:\n",
    "        result = []\n",
    "        n = 0\n",
    "        for group in h5file.root:\n",
    "            table = h5file.get_node(group, \"tracking_post\")\n",
    "            number = table.attrs[\"values_macros_number\"]\n",
    "            n += number\n",
    "            data = table.read()\n",
    "            result.append(data)\n",
    "        return np.hstack(result), 1.0/n\n"
   ],
   "metadata": {
    "collapsed": false,
    "pycharm": {
     "name": "#%%\n"
    }
   }
  },
  {
   "cell_type": "code",
   "execution_count": 125,
   "outputs": [],
   "source": [
    "path = \"/mnt/storage2/phd/data/thunderstorm/neutron/spacecraft.hdf5\"\n",
    "data, weight = get_data(path)"
   ],
   "metadata": {
    "collapsed": false,
    "pycharm": {
     "name": "#%%\n"
    }
   }
  },
  {
   "cell_type": "code",
   "execution_count": 126,
   "outputs": [
    {
     "name": "stdout",
     "output_type": "stream",
     "text": [
      "Отношение рожденных в корабле к рожденным в атмосфере: 29.294418604651163\n"
     ]
    },
    {
     "data": {
      "text/plain": "<Figure size 432x288 with 1 Axes>",
      "image/png": "[encoded data removed]"
     },
     "metadata": {
      "needs_background": "light"
     },
     "output_type": "display_data"
    }
   ],
   "source": [
    "plot_z_hist(data, weight=weight)"
   ],
   "metadata": {
    "collapsed": false,
    "pycharm": {
     "name": "#%%\n"
    }
   }
  },
  {
   "cell_type": "code",
   "execution_count": 99,
   "outputs": [
    {
     "data": {
      "text/plain": "<Figure size 432x288 with 1 Axes>",
      "image/png": "[encoded data removed]"
     },
     "metadata": {
      "needs_background": "light"
     },
     "output_type": "display_data"
    }
   ],
   "source": [
    "plot_spacecraft(data, weight=1e-5)"
   ],
   "metadata": {
    "collapsed": false,
    "pycharm": {
     "name": "#%%\n"
    }
   }
  },
  {
   "cell_type": "code",
   "execution_count": 100,
   "outputs": [
    {
     "data": {
      "text/plain": "<Figure size 432x288 with 1 Axes>",
      "image/png": "[encoded data removed]"
     },
     "metadata": {
      "needs_background": "light"
     },
     "output_type": "display_data"
    }
   ],
   "source": [
    "plot_ratio(data)"
   ],
   "metadata": {
    "collapsed": false,
    "pycharm": {
     "name": "#%%\n"
    }
   }
  },
  {
   "cell_type": "code",
   "execution_count": 112,
   "outputs": [
    {
     "data": {
      "text/plain": "(array([3.131e+03, 0.000e+00, 0.000e+00, 0.000e+00, 0.000e+00, 0.000e+00,\n        0.000e+00, 0.000e+00, 0.000e+00, 2.000e+00]),\n array([0.        , 0.00593557, 0.01187115, 0.01780672, 0.0237423 ,\n        0.02967787, 0.03561344, 0.04154902, 0.04748459, 0.05342016,\n        0.05935574]),\n <a list of 10 Patch objects>)"
     },
     "execution_count": 112,
     "metadata": {},
     "output_type": "execute_result"
    },
    {
     "data": {
      "text/plain": "<Figure size 432x288 with 1 Axes>",
      "image/png": "[encoded data removed]"
     },
     "metadata": {
      "needs_background": "light"
     },
     "output_type": "display_data"
    }
   ],
   "source": [],
   "metadata": {
    "collapsed": false,
    "pycharm": {
     "name": "#%%\n"
    }
   }
  },
  {
   "cell_type": "code",
   "execution_count": 104,
   "outputs": [
    {
     "data": {
      "text/plain": "(array([1.25905e+05, 0.00000e+00, 2.00000e+00, 5.00000e+00, 1.00000e+00,\n        8.00000e+00, 1.30000e+01, 6.00000e+00, 9.00000e+00, 1.70000e+01]),\n array([  0.        ,  38.8564637 ,  77.7129274 , 116.5693911 ,\n        155.4258548 , 194.2823185 , 233.13878219, 271.99524589,\n        310.85170959, 349.70817329, 388.56463699]),\n <a list of 10 Patch objects>)"
     },
     "execution_count": 104,
     "metadata": {},
     "output_type": "execute_result"
    },
    {
     "data": {
      "text/plain": "<Figure size 432x288 with 1 Axes>",
      "image/png": "[encoded data removed]"
     },
     "metadata": {
      "needs_background": "light"
     },
     "output_type": "display_data"
    }
   ],
   "source": [
    "plt.hist(data[\"radius\"][np.logical_not(indx)]/1000)\n"
   ],
   "metadata": {
    "collapsed": false,
    "pycharm": {
     "name": "#%%\n"
    }
   }
  },
  {
   "cell_type": "code",
   "execution_count": 222,
   "outputs": [],
   "source": [
    "path = \"/mnt/storage2/phd/data/thunderstorm/neutron/spacecraft_opt4_h15km.hdf5\"\n",
    "data_opt4, weight = get_data(path)"
   ],
   "metadata": {
    "collapsed": false,
    "pycharm": {
     "name": "#%%\n"
    }
   }
  },
  {
   "cell_type": "code",
   "execution_count": 217,
   "outputs": [],
   "source": [
    "data_tr_opt4, weight = get_data_tracking(path)"
   ],
   "metadata": {
    "collapsed": false,
    "pycharm": {
     "name": "#%%\n"
    }
   }
  },
  {
   "cell_type": "code",
   "execution_count": 167,
   "outputs": [
    {
     "name": "stdout",
     "output_type": "stream",
     "text": [
      "Отношение рожденных в корабле к рожденным в атмосфере: 0.07946635730858469\n"
     ]
    },
    {
     "data": {
      "text/plain": "<Figure size 432x288 with 1 Axes>",
      "image/png": "[encoded data removed]"
     },
     "metadata": {
      "needs_background": "light"
     },
     "output_type": "display_data"
    }
   ],
   "source": [
    "plot_z_hist(data_opt4, weight=weight)"
   ],
   "metadata": {
    "collapsed": false,
    "pycharm": {
     "name": "#%%\n"
    }
   }
  },
  {
   "cell_type": "code",
   "execution_count": 176,
   "outputs": [
    {
     "data": {
      "text/plain": "<Figure size 432x288 with 1 Axes>",
      "image/png": "[encoded data removed]"
     },
     "metadata": {
      "needs_background": "light"
     },
     "output_type": "display_data"
    }
   ],
   "source": [
    "plot_spacecraft(data_opt4,  weight=weight)"
   ],
   "metadata": {
    "collapsed": false,
    "pycharm": {
     "name": "#%%\n"
    }
   }
  },
  {
   "cell_type": "code",
   "execution_count": 177,
   "outputs": [
    {
     "data": {
      "text/plain": "<Figure size 432x288 with 1 Axes>",
      "image/png": "[encoded data removed]"
     },
     "metadata": {
      "needs_background": "light"
     },
     "output_type": "display_data"
    }
   ],
   "source": [
    "plot_ratio(data_opt4)"
   ],
   "metadata": {
    "collapsed": false,
    "pycharm": {
     "name": "#%%\n"
    }
   }
  },
  {
   "cell_type": "code",
   "execution_count": 160,
   "outputs": [
    {
     "data": {
      "text/plain": "<Figure size 432x288 with 1 Axes>",
      "image/png": "[encoded data removed]"
     },
     "metadata": {
      "needs_background": "light"
     },
     "output_type": "display_data"
    }
   ],
   "source": [
    "plot_radius(data_opt4, weight=weight)\n",
    "\n"
   ],
   "metadata": {
    "collapsed": false,
    "pycharm": {
     "name": "#%%\n"
    }
   }
  },
  {
   "cell_type": "code",
   "execution_count": 189,
   "outputs": [],
   "source": [
    "indx1 = data_opt4[\"z\"] < 800000"
   ],
   "metadata": {
    "collapsed": false,
    "pycharm": {
     "name": "#%%\n"
    }
   }
  },
  {
   "cell_type": "code",
   "execution_count": 227,
   "outputs": [
    {
     "data": {
      "text/plain": "(array([ 59., 181., 211., 269., 274., 258., 190., 158.,  93.,  31.]),\n array([0.01960048, 0.33071919, 0.6418379 , 0.9529566 , 1.26407531,\n        1.57519401, 1.88631272, 2.19743143, 2.50855013, 2.81966884,\n        3.13078755]),\n <a list of 10 Patch objects>)"
     },
     "execution_count": 227,
     "metadata": {},
     "output_type": "execute_result"
    },
    {
     "data": {
      "text/plain": "<Figure size 432x288 with 1 Axes>",
      "image/png": "[encoded data removed]"
     },
     "metadata": {
      "needs_background": "light"
     },
     "output_type": "display_data"
    }
   ],
   "source": [
    "plt.hist(data_opt4[\"theta\"][indx1])"
   ],
   "metadata": {
    "collapsed": false,
    "pycharm": {
     "name": "#%%\n"
    }
   }
  },
  {
   "cell_type": "code",
   "execution_count": 208,
   "outputs": [
    {
     "data": {
      "text/plain": "Text(0, 0.5, 'Разброс, километры')"
     },
     "execution_count": 208,
     "metadata": {},
     "output_type": "execute_result"
    },
    {
     "data": {
      "text/plain": "<Figure size 432x288 with 1 Axes>",
      "image/png": "[encoded data removed]"
     },
     "metadata": {
      "needs_background": "light"
     },
     "output_type": "display_data"
    }
   ],
   "source": [
    "indx = np.logical_and(indx1, data_opt4[\"radius\"]<10)\n",
    "plt.boxplot(data_opt4[\"radius\"][indx])\n",
    "plt.ylabel(\"Разброс, километры\")"
   ],
   "metadata": {
    "collapsed": false,
    "pycharm": {
     "name": "#%%\n"
    }
   }
  },
  {
   "cell_type": "code",
   "execution_count": 201,
   "outputs": [
    {
     "data": {
      "text/plain": "{'whiskers': [<matplotlib.lines.Line2D at 0x7fc2613d01d0>,\n  <matplotlib.lines.Line2D at 0x7fc26138efd0>],\n 'caps': [<matplotlib.lines.Line2D at 0x7fc2613cb250>,\n  <matplotlib.lines.Line2D at 0x7fc2613cb490>],\n 'boxes': [<matplotlib.lines.Line2D at 0x7fc26138e210>],\n 'medians': [<matplotlib.lines.Line2D at 0x7fc2613cb350>],\n 'fliers': [<matplotlib.lines.Line2D at 0x7fc2613b5710>],\n 'means': []}"
     },
     "execution_count": 201,
     "metadata": {},
     "output_type": "execute_result"
    },
    {
     "data": {
      "text/plain": "<Figure size 432x288 with 1 Axes>",
      "image/png": "[encoded data removed]"
     },
     "metadata": {
      "needs_background": "light"
     },
     "output_type": "display_data"
    }
   ],
   "source": [
    "plt.boxplot(data_opt4[\"radius\"][np.logical_not(indx1)]/1000)"
   ],
   "metadata": {
    "collapsed": false,
    "pycharm": {
     "name": "#%%\n"
    }
   }
  },
  {
   "cell_type": "code",
   "execution_count": 192,
   "outputs": [
    {
     "ename": "TypeError",
     "evalue": "scatter() missing 1 required positional argument: 'y'",
     "output_type": "error",
     "traceback": [
      "\u001B[0;31m---------------------------------------------------------------------------\u001B[0m",
      "\u001B[0;31mTypeError\u001B[0m                                 Traceback (most recent call last)",
      "\u001B[0;32m<ipython-input-192-d0377db49218>\u001B[0m in \u001B[0;36m<module>\u001B[0;34m\u001B[0m\n\u001B[0;32m----> 1\u001B[0;31m \u001B[0mplt\u001B[0m\u001B[0;34m.\u001B[0m\u001B[0mscatter\u001B[0m\u001B[0;34m(\u001B[0m\u001B[0mdata_opt4\u001B[0m\u001B[0;34m[\u001B[0m\u001B[0;34m\"z\"\u001B[0m\u001B[0;34m]\u001B[0m\u001B[0;34m[\u001B[0m\u001B[0mnp\u001B[0m\u001B[0;34m.\u001B[0m\u001B[0mlogical_not\u001B[0m\u001B[0;34m(\u001B[0m\u001B[0mindx1\u001B[0m\u001B[0;34m)\u001B[0m\u001B[0;34m]\u001B[0m\u001B[0;34m/\u001B[0m\u001B[0;36m1000\u001B[0m\u001B[0;34m)\u001B[0m\u001B[0;34m\u001B[0m\u001B[0;34m\u001B[0m\u001B[0m\n\u001B[0m",
      "\u001B[0;31mTypeError\u001B[0m: scatter() missing 1 required positional argument: 'y'"
     ]
    }
   ],
   "source": [
    "plt.scatter(data_opt4[\"z\"][np.logical_not(indx1)]/1000)"
   ],
   "metadata": {
    "collapsed": false,
    "pycharm": {
     "name": "#%%\n"
    }
   }
  },
  {
   "cell_type": "code",
   "execution_count": 195,
   "outputs": [
    {
     "data": {
      "text/plain": "array([880.00008605, 880.00107208, 880.00040755, 880.00040755,\n       880.00083403, 880.00083403, 880.00014243, 880.00064624,\n       880.00064624, 880.00076925, 880.00135667, 880.00100966,\n       880.00126887, 880.00023925, 880.00000992, 880.00063421,\n       880.0010759 , 880.00188045, 880.00188045, 880.00104949,\n       880.00022711, 880.00034336, 880.00208207, 880.00208207,\n       880.0004356 , 880.00130514, 880.00043594, 880.00138614,\n       880.0010212 , 880.0010212 , 880.00075472, 880.00075472,\n       880.00014798, 880.00153643, 880.0031155 , 880.00046621,\n       880.00025183, 880.00025183, 880.00010073, 880.00118534,\n       880.00118534, 880.00213797, 880.0015276 , 880.00374145,\n       880.00035563, 880.00265343, 880.00004614, 880.00004614,\n       880.00159338, 880.00159338, 880.00143291, 880.00143291,\n       880.00013593, 880.00013593, 880.00125575, 880.00037509,\n       880.00002878, 880.00126865, 880.00071648, 880.00012414,\n       880.00031223, 880.00064048, 880.00002225, 880.00002225,\n       880.00042181, 880.00019446, 880.00019446, 880.00036411,\n       880.00285944, 880.0003465 , 880.0003465 , 880.00108307,\n       880.00108307, 880.00022458, 880.0003408 , 880.00020627,\n       880.00070335, 880.00021923, 880.00081394, 880.00081394,\n       880.00126102, 880.00016634, 880.0008598 , 880.0008598 ,\n       880.00075351, 880.00006739, 880.00002957, 880.00002957,\n       880.00003552, 880.00084192, 880.00017363, 880.00218701,\n       880.00218701, 880.00250499, 880.00005651, 880.00042515,\n       880.00042515, 880.00149324, 880.00149324, 880.00002744,\n       880.00094887, 880.00094887, 880.00010942, 880.00021577,\n       880.00031854, 880.00028551, 880.00028551, 880.0016306 ,\n       880.0016306 , 880.00001647, 880.00001647, 880.0001564 ,\n       880.00200606, 880.00200606, 880.0001068 , 880.0001068 ,\n       880.00044828, 880.00044828, 880.00073353, 880.00073353,\n       880.00073353, 880.00115055, 880.00115055, 880.00039445,\n       880.00085182, 880.00085182, 880.00039528, 880.00039528,\n       880.00018954, 880.00013569, 880.00094006, 880.00045291,\n       880.00045291, 880.00011058, 880.00004011, 880.00004011,\n       880.00055958])"
     },
     "execution_count": 195,
     "metadata": {},
     "output_type": "execute_result"
    }
   ],
   "source": [
    "data_opt4[\"z\"][np.logical_not(indx1)]/1000"
   ],
   "metadata": {
    "collapsed": false,
    "pycharm": {
     "name": "#%%\n"
    }
   }
  },
  {
   "cell_type": "code",
   "execution_count": 211,
   "outputs": [
    {
     "data": {
      "text/plain": "1448"
     },
     "execution_count": 211,
     "metadata": {},
     "output_type": "execute_result"
    }
   ],
   "source": [
    "(data_opt4[\"radius\"]<1).sum()"
   ],
   "metadata": {
    "collapsed": false,
    "pycharm": {
     "name": "#%%\n"
    }
   }
  },
  {
   "cell_type": "code",
   "execution_count": 213,
   "outputs": [
    {
     "data": {
      "text/plain": "(array([0.00000000e+00, 1.81504843e-02, 3.38916622e-02, 4.07097902e-02,\n        6.84665136e-02, 9.35224661e-02, 1.51615874e-01, 1.56370393e-01,\n        3.43236430e-01, 3.43621037e-01, 3.44498764e-01, 3.15389129e+00,\n        3.48865305e+00, 4.20479988e+00, 4.43300579e+00, 5.30273744e+00,\n        5.50105583e+00, 5.52043328e+00, 6.34597220e+00, 8.50885245e+00,\n        1.26939518e+01, 1.53924203e+01, 1.63361815e+01, 1.70597379e+01,\n        1.82650009e+01, 2.26384102e+01, 2.27604502e+01, 2.46942172e+01,\n        2.65655047e+01, 2.90192930e+01, 3.02842475e+01, 3.17410416e+01,\n        3.35946707e+01, 3.44746577e+01, 3.51888835e+01, 3.55117703e+01,\n        3.58559695e+01, 3.66888174e+01, 3.81061477e+01, 3.92877689e+01,\n        3.95180681e+01, 3.96665009e+01, 4.22867481e+01, 4.73751219e+01,\n        4.77476472e+01, 5.25813419e+01, 5.29132546e+01, 5.31900360e+01,\n        5.36236406e+01, 5.40317483e+01, 5.69136718e+01, 5.76362645e+01,\n        5.83435211e+01, 5.87131742e+01, 6.04095788e+01, 6.25729942e+01,\n        6.31129181e+01, 6.31990771e+01, 6.56734476e+01, 6.60888702e+01,\n        6.79355921e+01, 7.35336433e+01, 7.57607038e+01, 7.76221525e+01,\n        7.90775530e+01, 8.06285522e+01, 8.19126706e+01, 8.26910391e+01,\n        8.39570727e+01, 8.79194462e+01, 8.98847386e+01, 9.14356667e+01,\n        9.53655766e+01, 9.60320425e+01, 9.82622370e+01, 9.97550938e+01,\n        1.00878887e+02, 1.01110963e+02, 1.03287099e+02, 1.04108579e+02,\n        1.05372913e+02, 1.07305484e+02, 1.07951565e+02, 1.08222371e+02,\n        1.08869219e+02, 1.09889856e+02, 1.13276315e+02, 1.13620995e+02,\n        1.18614850e+02, 1.24683142e+02, 1.26089590e+02, 1.26450639e+02,\n        1.27838088e+02, 1.30043483e+02, 1.31286871e+02, 1.32266545e+02,\n        1.32468690e+02, 1.32732911e+02, 1.33859245e+02, 1.34125001e+02,\n        1.35424728e+02, 1.35783664e+02, 1.36211408e+02, 1.36555754e+02,\n        1.36589357e+02, 1.38984011e+02, 1.39605195e+02, 1.42464583e+02,\n        1.43149061e+02, 1.43840867e+02, 1.44787955e+02, 1.44969409e+02,\n        1.49571543e+02, 1.52396355e+02, 1.53065422e+02, 1.53480736e+02,\n        1.58324605e+02, 1.58684961e+02, 1.59574393e+02, 1.60832918e+02,\n        1.64579171e+02, 1.65021667e+02, 1.65412831e+02, 1.68582313e+02,\n        1.71038753e+02, 1.71445216e+02, 1.79480507e+02, 1.90734817e+02,\n        1.92049902e+02, 1.92872776e+02, 1.94081296e+02, 1.94762461e+02,\n        1.94997061e+02, 1.96982998e+02, 1.98914918e+02, 1.99272025e+02,\n        2.02417342e+02, 2.04360675e+02, 2.05511217e+02, 2.16998282e+02,\n        2.17484237e+02, 2.19136428e+02, 2.19451655e+02, 2.22888595e+02,\n        2.23394539e+02, 2.23646390e+02, 2.23703851e+02, 2.25065800e+02,\n        2.29750721e+02, 2.30362110e+02, 2.35218416e+02, 2.40145280e+02,\n        2.40457365e+02, 2.41353345e+02, 2.42988811e+02, 2.45036874e+02,\n        2.45336686e+02, 2.50057674e+02, 2.52198141e+02, 2.55637738e+02,\n        2.60698516e+02, 2.60783686e+02, 2.64972018e+02, 2.67788767e+02,\n        2.68537398e+02, 2.68727179e+02, 2.72679400e+02, 2.74638684e+02,\n        2.74835183e+02, 2.75896636e+02, 2.80599680e+02, 2.88285263e+02,\n        2.88300083e+02, 2.89638614e+02, 2.90311385e+02, 2.93566397e+02,\n        2.95084856e+02, 2.97479563e+02, 2.98064389e+02, 2.98231428e+02,\n        2.99528335e+02, 3.04741920e+02, 3.04987197e+02, 3.10101766e+02,\n        3.10120447e+02, 3.13306518e+02, 3.14087867e+02, 3.14887485e+02,\n        3.16284231e+02, 3.25655431e+02, 3.29893404e+02, 3.31015157e+02,\n        3.36977204e+02, 3.44100017e+02, 3.44311205e+02, 3.50609074e+02,\n        3.51951578e+02, 3.65180775e+02, 3.66355896e+02, 3.71347484e+02,\n        3.71850382e+02, 3.71910751e+02, 3.72939306e+02, 3.72948842e+02,\n        3.74324358e+02, 3.77919308e+02, 3.80384395e+02, 3.80944527e+02,\n        3.87719739e+02, 3.90945216e+02, 3.95500388e+02, 3.99702891e+02,\n        4.00531276e+02, 4.03012637e+02, 4.08735311e+02, 4.10508663e+02,\n        4.11039403e+02, 4.12030356e+02, 4.17004598e+02, 4.19521242e+02,\n        4.29080794e+02, 4.33641573e+02, 4.35249163e+02, 4.38593494e+02,\n        4.38949681e+02, 4.41355350e+02, 4.42878775e+02, 4.49511250e+02,\n        4.49790937e+02, 4.52078039e+02, 4.53158329e+02, 4.55114675e+02,\n        4.59544221e+02, 4.60642656e+02, 4.74234539e+02, 4.74308392e+02,\n        4.75438827e+02, 4.76232655e+02, 4.88718250e+02, 4.88762852e+02,\n        4.90466267e+02, 4.95139491e+02, 4.96667800e+02, 4.99332134e+02,\n        4.99523518e+02, 5.03198380e+02, 5.06571477e+02, 5.12685988e+02,\n        5.32362173e+02, 5.33464475e+02, 5.38236155e+02, 5.44336311e+02,\n        5.50127158e+02, 5.51495807e+02, 5.51513253e+02, 5.55121932e+02,\n        5.66438281e+02, 5.80229333e+02, 5.81184374e+02, 5.83928212e+02,\n        5.88690544e+02, 5.92127564e+02, 5.96527293e+02, 5.98127914e+02,\n        5.99831747e+02, 6.03571380e+02, 6.09590867e+02, 6.11190164e+02,\n        6.16512465e+02, 6.28831200e+02, 6.41169066e+02, 6.47267233e+02,\n        6.48670331e+02, 6.49376312e+02, 6.49919427e+02, 6.50348835e+02,\n        6.69719723e+02, 6.69867680e+02, 6.79478312e+02, 6.96122031e+02,\n        7.08426460e+02, 7.14772592e+02, 7.15165287e+02, 7.18489122e+02,\n        7.26587513e+02, 7.27796586e+02, 7.27827889e+02, 7.41039851e+02,\n        7.58696915e+02, 7.67622888e+02, 7.69005803e+02, 7.77711351e+02,\n        7.78405060e+02, 7.80033190e+02, 8.19067073e+02, 8.24475943e+02,\n        8.26870376e+02, 8.43368943e+02, 8.44467605e+02, 8.58298401e+02,\n        8.84014173e+02, 8.84696093e+02, 9.07209855e+02, 9.10197475e+02,\n        9.25480402e+02, 9.32260236e+02, 9.34174452e+02, 1.03495627e+03,\n        1.04093346e+03, 1.04638729e+03, 1.09733072e+03, 1.11353942e+03,\n        1.12102352e+03, 1.13294503e+03, 1.15989686e+03, 1.16928307e+03,\n        1.18728316e+03, 1.21186838e+03, 1.22711512e+03, 1.25450585e+03,\n        1.25612021e+03, 1.34712622e+03, 1.37700212e+03, 1.38982404e+03,\n        1.41612271e+03, 1.42073970e+03, 1.42739276e+03, 1.43605656e+03,\n        1.45534834e+03, 1.51725071e+03, 1.52950089e+03, 1.57843914e+03,\n        1.58666797e+03, 1.60074577e+03, 1.60973695e+03, 1.65617652e+03,\n        1.66729561e+03, 1.66959204e+03, 1.75340105e+03, 1.80474335e+03,\n        1.84400665e+03, 1.85343886e+03, 1.91857015e+03, 1.96780423e+03,\n        2.01756206e+03, 2.04320584e+03, 2.04654441e+03, 2.05353975e+03,\n        2.09614839e+03, 2.11017677e+03, 2.13954829e+03, 2.15459791e+03,\n        2.23708977e+03, 2.26120415e+03, 2.26658557e+03, 2.40645875e+03,\n        2.46758074e+03, 2.56996023e+03, 2.62690365e+03, 2.70999460e+03,\n        2.84527080e+03, 3.04653904e+03, 3.09836129e+03, 3.17883718e+03,\n        3.23770328e+03, 3.27626698e+03, 3.28033427e+03, 3.48544612e+03,\n        3.55213146e+03, 3.89020783e+03, 4.74879924e+03, 4.90638477e+03,\n        5.08373290e+03, 7.61011759e+03, 8.89446582e+03, 2.83792160e+04,\n        2.94606362e+04, 3.85927052e+04, 4.84207270e+04, 5.63203983e+04,\n        5.70966762e+04, 6.90840032e+04, 7.01392502e+04, 8.28723451e+04,\n        8.50867929e+04, 9.04848148e+04, 9.46401683e+04, 9.47706221e+04,\n        1.03501961e+05, 1.08561986e+05, 1.11533350e+05, 1.11731766e+05,\n        1.15742026e+05, 1.18951396e+05, 1.20585109e+05, 1.22278532e+05,\n        1.22306422e+05, 1.28415212e+05, 1.29838147e+05, 1.32523042e+05,\n        1.41359381e+05, 1.52812128e+05, 1.54953316e+05, 1.55221179e+05,\n        1.55442309e+05, 1.57315500e+05, 1.73989354e+05, 1.82055509e+05]),\n array([1438,    1,    1,    1,    1,    1,    1,    1,    1,    1,    1,\n           1,    1,    1,    2,    1,    1,    2,    1,    1,    1,    1,\n           1,    1,    2,    1,    1,    1,    1,    1,    1,    1,    1,\n           1,    1,    1,    1,    1,    1,    1,    1,    1,    1,    1,\n           1,    1,    2,    1,    1,    1,    1,    1,    1,    1,    1,\n           1,    1,    1,    1,    1,    1,    1,    1,    1,    1,    1,\n           1,    1,    1,    1,    1,    1,    1,    1,    1,    1,    1,\n           2,    1,    1,    1,    1,    1,    1,    1,    1,    1,    1,\n           1,    1,    1,    1,    1,    1,    1,    1,    1,    1,    1,\n           1,    1,    1,    1,    1,    2,    1,    1,    1,    1,    1,\n           1,    1,    1,    1,    1,    1,    1,    1,    1,    2,    1,\n           1,    1,    1,    1,    1,    1,    1,    1,    1,    1,    1,\n           1,    1,    1,    1,    1,    1,    1,    1,    1,    1,    1,\n           1,    1,    1,    1,    1,    1,    1,    1,    1,    1,    1,\n           1,    1,    1,    1,    1,    1,    1,    1,    1,    2,    1,\n           1,    1,    1,    1,    1,    1,    1,    1,    1,    1,    1,\n           1,    1,    1,    1,    1,    1,    1,    1,    1,    1,    1,\n           1,    1,    1,    1,    2,    1,    1,    1,    1,    3,    1,\n           1,    1,    1,    1,    2,    1,    1,    1,    1,    1,    1,\n           1,    1,    1,    1,    1,    1,    1,    1,    1,    1,    1,\n           1,    1,    1,    1,    1,    1,    1,    1,    1,    1,    1,\n           1,    1,    1,    1,    1,    1,    1,    1,    1,    1,    1,\n           1,    1,    1,    1,    1,    1,    1,    1,    1,    1,    1,\n           1,    1,    2,    1,    1,    1,    1,    1,    1,    1,    1,\n           1,    1,    1,    1,    1,    1,    1,    1,    1,    1,    1,\n           1,    1,    1,    1,    1,    1,    1,    1,    1,    1,    1,\n           1,    1,    1,    1,    1,    1,    1,    1,    1,    1,    1,\n           1,    1,    1,    1,    1,    1,    1,    1,    1,    1,    1,\n           1,    1,    1,    1,    1,    1,    1,    1,    1,    1,    1,\n           1,    1,    1,    1,    1,    1,    1,    1,    1,    1,    1,\n           1,    1,    1,    1,    1,    1,    1,    1,    1,    1,    1,\n           1,    1,    1,    1,    1,    1,    1,    2,    1,    1,    1,\n           2,    1,    1,    1,    1,    1,    1,    1,    1,    1,    1,\n           1,    1,    1,    1,    1,    1,    1,    1,    1,    1,    1,\n           1,    1,    1,    1,    1,    1,    1,    1,    1,    1,    2,\n           1,    1,    1,    1,    1,    1,    1,    1,    1,    1,    1,\n           1,    1,    1,    1,    1,    1,    1,    1,    1,    1,    1,\n           1]))"
     },
     "execution_count": 213,
     "metadata": {},
     "output_type": "execute_result"
    }
   ],
   "source": [
    "np.unique(data_opt4[\"radius\"], return_counts=True)"
   ],
   "metadata": {
    "collapsed": false,
    "pycharm": {
     "name": "#%%\n"
    }
   }
  },
  {
   "cell_type": "code",
   "execution_count": 214,
   "outputs": [
    {
     "data": {
      "text/plain": "84.58823529411764"
     },
     "execution_count": 214,
     "metadata": {},
     "output_type": "execute_result"
    }
   ],
   "source": [
    "100*(1438/1700)"
   ],
   "metadata": {
    "collapsed": false,
    "pycharm": {
     "name": "#%%\n"
    }
   }
  },
  {
   "cell_type": "code",
   "execution_count": 220,
   "outputs": [
    {
     "data": {
      "text/plain": "(array([3.96900e+03, 3.28000e+02, 3.00000e+00, 0.00000e+00, 0.00000e+00,\n        0.00000e+00, 0.00000e+00, 0.00000e+00, 0.00000e+00, 1.25966e+05]),\n array([3.39482923e+00, 8.83145727e+04, 1.76625751e+05, 2.64936928e+05,\n        3.53248106e+05, 4.41559284e+05, 5.29870462e+05, 6.18181640e+05,\n        7.06492818e+05, 7.94803996e+05, 8.83115174e+05]),\n <a list of 10 Patch objects>)"
     },
     "execution_count": 220,
     "metadata": {},
     "output_type": "execute_result"
    },
    {
     "data": {
      "text/plain": "<Figure size 432x288 with 1 Axes>",
      "image/png": "[encoded data removed]"
     },
     "metadata": {
      "needs_background": "light"
     },
     "output_type": "display_data"
    }
   ],
   "source": [
    "plt.hist(data[\"z\"])"
   ],
   "metadata": {
    "collapsed": false,
    "pycharm": {
     "name": "#%%\n"
    }
   }
  },
  {
   "cell_type": "code",
   "execution_count": 221,
   "outputs": [
    {
     "data": {
      "text/plain": "0.0043"
     },
     "execution_count": 221,
     "metadata": {},
     "output_type": "execute_result"
    }
   ],
   "source": [
    "((data[\"z\"]<800000).sum())/1e6"
   ],
   "metadata": {
    "collapsed": false,
    "pycharm": {
     "name": "#%%\n"
    }
   }
  },
  {
   "cell_type": "code",
   "execution_count": 223,
   "outputs": [
    {
     "data": {
      "text/plain": "15000.972589615081"
     },
     "execution_count": 223,
     "metadata": {},
     "output_type": "execute_result"
    }
   ],
   "source": [
    "data_opt4[\"z\"].min()"
   ],
   "metadata": {
    "collapsed": false,
    "pycharm": {
     "name": "#%%\n"
    }
   }
  },
  {
   "cell_type": "code",
   "execution_count": 224,
   "outputs": [],
   "source": [
    "path = \"/mnt/storage2/phd/data/thunderstorm/neutron/spacecraft_opt4_h15km_e15MeV.hdf5\"\n",
    "data_opt4_15, weight = get_data(path)\n"
   ],
   "metadata": {
    "collapsed": false,
    "pycharm": {
     "name": "#%%\n"
    }
   }
  },
  {
   "cell_type": "code",
   "execution_count": 225,
   "outputs": [
    {
     "name": "stdout",
     "output_type": "stream",
     "text": [
      "Отношение рожденных в корабле к рожденным в атмосфере: 0.0\n"
     ]
    },
    {
     "data": {
      "text/plain": "<Figure size 432x288 with 1 Axes>",
      "image/png": "[encoded data removed]"
     },
     "metadata": {
      "needs_background": "light"
     },
     "output_type": "display_data"
    }
   ],
   "source": [
    "plot_z_hist(data_opt4_15, weight=weight, name=\"air15.png\")\n"
   ],
   "metadata": {
    "collapsed": false,
    "pycharm": {
     "name": "#%%\n"
    }
   }
  },
  {
   "cell_type": "code",
   "execution_count": 229,
   "outputs": [
    {
     "data": {
      "text/plain": "659"
     },
     "execution_count": 229,
     "metadata": {},
     "output_type": "execute_result"
    }
   ],
   "source": [
    "(data_opt4_15[\"z\"] < 80000).sum()"
   ],
   "metadata": {
    "collapsed": false,
    "pycharm": {
     "name": "#%%\n"
    }
   }
  },
  {
   "cell_type": "code",
   "execution_count": 230,
   "outputs": [],
   "source": [
    "data_tr_opt4_15, weight = get_data_tracking(path)"
   ],
   "metadata": {
    "collapsed": false,
    "pycharm": {
     "name": "#%%\n"
    }
   }
  },
  {
   "cell_type": "code",
   "execution_count": 235,
   "outputs": [
    {
     "data": {
      "text/plain": "5.1931"
     },
     "execution_count": 235,
     "metadata": {},
     "output_type": "execute_result"
    }
   ],
   "source": [
    "\n",
    "(data_tr_opt4_15[\"z\"] > 800000).sum()/1e4"
   ],
   "metadata": {
    "collapsed": false,
    "pycharm": {
     "name": "#%%\n"
    }
   }
  },
  {
   "cell_type": "code",
   "execution_count": 234,
   "outputs": [
    {
     "data": {
      "text/plain": "948897"
     },
     "execution_count": 234,
     "metadata": {},
     "output_type": "execute_result"
    }
   ],
   "source": [
    "(data_tr_opt4_15[\"z\"] < 800000).sum()"
   ],
   "metadata": {
    "collapsed": false,
    "pycharm": {
     "name": "#%%\n"
    }
   }
  },
  {
   "cell_type": "code",
   "execution_count": 236,
   "outputs": [
    {
     "data": {
      "text/plain": "(array([ 29.,  54.,  69.,  81.,  97., 103.,  91.,  73.,  36.,  26.]),\n array([0.08882005, 0.39154634, 0.69427264, 0.99699893, 1.29972522,\n        1.60245151, 1.9051778 , 2.2079041 , 2.51063039, 2.81335668,\n        3.11608297]),\n <a list of 10 Patch objects>)"
     },
     "execution_count": 236,
     "metadata": {},
     "output_type": "execute_result"
    },
    {
     "data": {
      "text/plain": "<Figure size 432x288 with 1 Axes>",
      "image/png": "[encoded data removed]"
     },
     "metadata": {
      "needs_background": "light"
     },
     "output_type": "display_data"
    }
   ],
   "source": [
    "plt.hist(data_opt4_15[\"theta\"] )"
   ],
   "metadata": {
    "collapsed": false,
    "pycharm": {
     "name": "#%%\n"
    }
   }
  },
  {
   "cell_type": "code",
   "execution_count": 237,
   "outputs": [
    {
     "data": {
      "text/plain": "0.3049106779729929"
     },
     "execution_count": 237,
     "metadata": {},
     "output_type": "execute_result"
    }
   ],
   "source": [
    "\n",
    "(1 - (1/1.05)**2)**0.5"
   ],
   "metadata": {
    "collapsed": false,
    "pycharm": {
     "name": "#%%\n"
    }
   }
  },
  {
   "cell_type": "code",
   "execution_count": 239,
   "outputs": [
    {
     "data": {
      "text/plain": "(array([452., 128.,  38.,  18.,  13.,   4.,   2.,   2.,   0.,   2.]),\n array([1.55134564e-02, 1.01057774e+01, 2.01960413e+01, 3.02863052e+01,\n        4.03765691e+01, 5.04668330e+01, 6.05570970e+01, 7.06473609e+01,\n        8.07376248e+01, 9.08278887e+01, 1.00918153e+02]),\n <a list of 10 Patch objects>)"
     },
     "execution_count": 239,
     "metadata": {},
     "output_type": "execute_result"
    },
    {
     "data": {
      "text/plain": "<Figure size 432x288 with 1 Axes>",
      "image/png": "[encoded data removed]"
     },
     "metadata": {
      "needs_background": "light"
     },
     "output_type": "display_data"
    }
   ],
   "source": [
    "plt.hist(data_opt4_15[\"time\"]/1000 )"
   ],
   "metadata": {
    "collapsed": false,
    "pycharm": {
     "name": "#%%\n"
    }
   }
  },
  {
   "cell_type": "code",
   "execution_count": null,
   "outputs": [],
   "source": [],
   "metadata": {
    "collapsed": false,
    "pycharm": {
     "name": "#%%\n"
    }
   }
  }
 ],
 "metadata": {
  "kernelspec": {
   "display_name": "Python 3",
   "language": "python",
   "name": "python3"
  },
  "language_info": {
   "codemirror_mode": {
    "name": "ipython",
    "version": 2
   },
   "file_extension": ".py",
   "mimetype": "text/x-python",
   "name": "python",
   "nbconvert_exporter": "python",
   "pygments_lexer": "ipython2",
   "version": "2.7.6"
  }
 },
 "nbformat": 4,
 "nbformat_minor": 0
}