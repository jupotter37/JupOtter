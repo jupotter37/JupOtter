{
 "cells": [
  {
   "cell_type": "markdown",
   "metadata": {},
   "source": [
    "# Python3 集合\n",
    "\n",
    "集合（set）是一个无序的不重复元素序列。\n",
    "\n",
    "可以使用大括号 { } 或者 set() 函数创建集合，注意：创建一个空集合必须用 set() 而不是 { }，因为 { } 是用来创建一个空字典。\n",
    "\n",
    "创建格式：\n",
    "\n",
    "```python\n",
    "\n",
    "parame = {value01,value02,...}\n",
    "或者\n",
    "set(value)\n",
    "\n",
    "```"
   ]
  },
  {
   "cell_type": "code",
   "execution_count": 4,
   "metadata": {},
   "outputs": [
    {
     "name": "stdout",
     "output_type": "stream",
     "text": [
      "{'apple', 'orange', 'banana', 'pear'}\n",
      "{'r', 'c', 'd', 'a', 'b'}\n",
      "{'b', 'd', 'r'}\n",
      "{'r', 'd', 'c', 'a', 'b', 'z', 'l', 'm'}\n",
      "{'a', 'c'}\n",
      "{'b', 'z', 'r', 'l', 'd', 'm'}\n",
      "{'d', 'r'}\n"
     ]
    }
   ],
   "source": [
    "basket = {'apple', 'orange', 'apple', 'pear', 'orange', 'banana'}\n",
    "print(basket)                      # 这里演示的是去重功能\n",
    "\n",
    "'orange' in basket                 # 快速判断元素是否在集合内\n",
    "\n",
    "'crabgrass' in basket\n",
    "\n",
    " \n",
    "# 下面展示两个集合间的运算.\n",
    "\n",
    "a = set('abracadabra')\n",
    "b = set('alacazam')\n",
    "print(a)                                  \n",
    "\n",
    "print(a - b)                              # 集合a中包含元素\n",
    "\n",
    "print(a | b)                              # 集合a或b中包含的所有元素\n",
    "\n",
    "print(a & b)                              # 集合a和b中都包含了的元素\n",
    "\n",
    "print(a ^ b)                              # 不同时包含于a和b的元素\n",
    "\n",
    "\n",
    "# 类似列表推导式，同样集合支持集合推导式(Set comprehension):\n",
    "\n",
    "aa = {x for x in 'abracadabra' if x not in 'abc'}\n",
    "\n",
    "\n",
    "print(aa)"
   ]
  },
  {
   "cell_type": "markdown",
   "metadata": {},
   "source": [
    "## 集合的基本操作\n",
    "\n",
    "### 1、添加元素\n",
    "\n",
    "**语法格式如下：**\n",
    "\n",
    "<pre class=\"prettyprint prettyprinted\" style=\"\">\n",
    "s.add( x )\n",
    "</pre>\n",
    "\n",
    "将元素 x 添加到集合 s 中，如果元素已存在，则不进行任何操作。"
   ]
  },
  {
   "cell_type": "code",
   "execution_count": 5,
   "metadata": {},
   "outputs": [
    {
     "name": "stdout",
     "output_type": "stream",
     "text": [
      "{'Taobao', 'Runoob', 'Facebook', 'Google'}\n"
     ]
    }
   ],
   "source": [
    "thisset = set((\"Google\", \"Runoob\", \"Taobao\"))\n",
    "thisset.add(\"Facebook\")\n",
    "print(thisset)\n"
   ]
  },
  {
   "cell_type": "markdown",
   "metadata": {},
   "source": [
    "还有一个方法，也可以添加元素，且参数可以是列表，元组，字典等，语法格式如下：\n",
    "\n",
    "```python\n",
    "\n",
    "s.update( x )\n",
    "\n",
    "```\n",
    "\n",
    "x 可以有多个，用逗号分开。"
   ]
  },
  {
   "cell_type": "code",
   "execution_count": 6,
   "metadata": {},
   "outputs": [
    {
     "name": "stdout",
     "output_type": "stream",
     "text": [
      "{'Taobao', 1, 'Runoob', 3, 'Google'}\n",
      "{'Taobao', 1, 'Runoob', 3, 4, 5, 6, 'Google'}\n"
     ]
    }
   ],
   "source": [
    "thisset = set((\"Google\", \"Runoob\", \"Taobao\"))\n",
    "thisset.update({1,3})\n",
    "print(thisset)\n",
    "\n",
    "thisset.update([1,4],[5,6])  \n",
    "print(thisset)\n"
   ]
  },
  {
   "cell_type": "markdown",
   "metadata": {},
   "source": [
    "### 2、移除元素\n",
    "\n",
    "**语法格式如下：**\n",
    "\n",
    "<pre class=\"prettyprint prettyprinted\" style=\"\">\n",
    "s.remove( x )\n",
    "</pre>\n",
    "\n",
    "将元素 x 从集合 s 中移除，如果元素不存在，则会发生错误。"
   ]
  },
  {
   "cell_type": "code",
   "execution_count": 7,
   "metadata": {},
   "outputs": [
    {
     "name": "stdout",
     "output_type": "stream",
     "text": [
      "{'Runoob', 'Google'}\n"
     ]
    },
    {
     "ename": "KeyError",
     "evalue": "'Facebook'",
     "output_type": "error",
     "traceback": [
      "\u001b[0;31m---------------------------------------------------------------------------\u001b[0m",
      "\u001b[0;31mKeyError\u001b[0m                                  Traceback (most recent call last)",
      "\u001b[0;32m<ipython-input-7-243017629abe>\u001b[0m in \u001b[0;36m<module>\u001b[0;34m()\u001b[0m\n\u001b[1;32m      3\u001b[0m \u001b[0mprint\u001b[0m\u001b[0;34m(\u001b[0m\u001b[0mthisset\u001b[0m\u001b[0;34m)\u001b[0m\u001b[0;34m\u001b[0m\u001b[0m\n\u001b[1;32m      4\u001b[0m \u001b[0;34m\u001b[0m\u001b[0m\n\u001b[0;32m----> 5\u001b[0;31m \u001b[0mthisset\u001b[0m\u001b[0;34m.\u001b[0m\u001b[0mremove\u001b[0m\u001b[0;34m(\u001b[0m\u001b[0;34m\"Facebook\"\u001b[0m\u001b[0;34m)\u001b[0m   \u001b[0;31m# 不存在会发生错误\u001b[0m\u001b[0;34m\u001b[0m\u001b[0m\n\u001b[0m",
      "\u001b[0;31mKeyError\u001b[0m: 'Facebook'"
     ]
    }
   ],
   "source": [
    "thisset = set((\"Google\", \"Runoob\", \"Taobao\"))\n",
    "thisset.remove(\"Taobao\")\n",
    "print(thisset)\n",
    "\n",
    "thisset.remove(\"Facebook\")   # 不存在会发生错误"
   ]
  },
  {
   "cell_type": "markdown",
   "metadata": {},
   "source": [
    "此外还有一个方法也是移除集合中的元素，且如果元素不存在，不会发生错误。格式如下所示：\n",
    "\n",
    "```python\n",
    "s.discard( x )\n",
    "```"
   ]
  },
  {
   "cell_type": "code",
   "execution_count": 8,
   "metadata": {},
   "outputs": [
    {
     "name": "stdout",
     "output_type": "stream",
     "text": [
      "{'Taobao', 'Runoob', 'Google'}\n"
     ]
    }
   ],
   "source": [
    "thisset = set((\"Google\", \"Runoob\", \"Taobao\"))\n",
    "thisset.discard(\"Facebook\")  # 不存在不会发生错误\n",
    "print(thisset)"
   ]
  },
  {
   "cell_type": "markdown",
   "metadata": {},
   "source": [
    "我们也可以设置随机删除集合中的一个元素，语法格式如下:\n",
    "\n",
    "```python\n",
    "\n",
    "s.pop() \n",
    "\n",
    "```\n",
    "\n",
    "![](https://ws3.sinaimg.cn/large/006tNbRwly1fwu3jghkbpj31ak0tggq7.jpg)"
   ]
  },
  {
   "cell_type": "markdown",
   "metadata": {},
   "source": [
    "### 3、计算集合元素个数\n",
    "\n",
    "**语法格式如下：**\n",
    "\n",
    "<pre class=\"prettyprint prettyprinted\" style=\"\">\n",
    "len(s)\n",
    "</pre>\n",
    "\n",
    "计算集合 s 元素个数。"
   ]
  },
  {
   "cell_type": "code",
   "execution_count": 23,
   "metadata": {},
   "outputs": [
    {
     "data": {
      "text/plain": [
       "3"
      ]
     },
     "execution_count": 23,
     "metadata": {},
     "output_type": "execute_result"
    }
   ],
   "source": [
    "thisset = set((\"Google\", \"Runoob\", \"Taobao\"))\n",
    "len(thisset)\n"
   ]
  },
  {
   "cell_type": "markdown",
   "metadata": {},
   "source": [
    "### 4、清空集合\n",
    "\n",
    "**语法格式如下：**\n",
    "\n",
    "<pre class=\"prettyprint prettyprinted\" style=\"\">\n",
    "s.clear()\n",
    "</pre>\n",
    "\n",
    "清空集合 s。"
   ]
  },
  {
   "cell_type": "code",
   "execution_count": 24,
   "metadata": {},
   "outputs": [
    {
     "name": "stdout",
     "output_type": "stream",
     "text": [
      "set()\n"
     ]
    }
   ],
   "source": [
    "thisset = set((\"Google\", \"Runoob\", \"Taobao\"))\n",
    "thisset.clear()\n",
    "print(thisset)\n"
   ]
  },
  {
   "cell_type": "markdown",
   "metadata": {},
   "source": [
    "### 5、判断元素是否在集合中存在\n",
    "\n",
    "**语法格式如下：**\n",
    "\n",
    "<pre class=\"prettyprint prettyprinted\" style=\"\">\n",
    "x in s\n",
    "</pre>\n",
    "\n",
    "判断元素 s 是否在集合 x 中，存在返回 True，不存在返回 False。"
   ]
  },
  {
   "cell_type": "code",
   "execution_count": 25,
   "metadata": {},
   "outputs": [
    {
     "data": {
      "text/plain": [
       "False"
      ]
     },
     "execution_count": 25,
     "metadata": {},
     "output_type": "execute_result"
    }
   ],
   "source": [
    "thisset = set((\"Google\", \"Runoob\", \"Taobao\"))\n",
    "\"Runoob\" in thisset\n",
    "\n",
    "\"Facebook\" in thisset\n"
   ]
  },
  {
   "cell_type": "markdown",
   "metadata": {},
   "source": [
    "### 集合内置方法完整列表\n",
    "\n",
    "方法                                                                                                     | 描述                                                \n",
    "------------------------------------------------------------------------------------------------------- | --------------------------------------------------\n",
    "[add()](http://www.runoob.com/python3/ref-set-add.html)                                                 | 为集合添加元素                                           \n",
    "[clear()](http://www.runoob.com/python3/ref-set-clear.html)                                             | 移除集合中的所有元素                                        \n",
    "[copy()](http://www.runoob.com/python3/ref-set-copy.html)                                               | 拷贝一个集合                                            \n",
    "[difference()](http://www.runoob.com/python3/ref-set-difference.html)                                   | 返回多个集合的差集                                         \n",
    "[difference_update()](http://www.runoob.com/python3/ref-set-difference_update.html)                     | 移除集合中的元素，该元素在指定的集合也存在。                            \n",
    "[discard()](http://www.runoob.com/python3/ref-set-discard.html)                                         | 删除集合中指定的元素                                        \n",
    "[intersection()](http://www.runoob.com/python3/ref-set-intersection.html)                               | 返回集合的交集                                           \n",
    "[intersection_update()](http://www.runoob.com/python3/ref-set-intersection_update.html)                 |   删除集合中的元素，该元素在指定的集合中不存在。                         \n",
    "[isdisjoint()](http://www.runoob.com/python3/ref-set-isdisjoint.html)                                   | 判断两个集合是否包含相同的元素，如果没有返回 True，否则返回 False。           \n",
    "[issubset()](http://www.runoob.com/python3/ref-set-issubset.html)                                       | 判断指定集合是否为该方法参数集合的子集。                              \n",
    "[issuperset()](http://www.runoob.com/python3/ref-set-issuperset.html)                                   | 判断该方法的参数集合是否为指定集合的子集                              \n",
    "[pop()](http://www.runoob.com/python3/ref-set-pop.html)                                                 | 随机移除元素                                            \n",
    "[remove()](http://www.runoob.com/python3/ref-set-remove.html)                                           | 移除指定元素                                            \n",
    "[symmetric_difference()](http://www.runoob.com/python3/ref-set-symmetric_difference.html)               | 返回两个集合中不重复的元素集合。                                  \n",
    "[symmetric_difference_update()](http://www.runoob.com/python3/ref-set-symmetric_difference_update.html) |   移除当前集合中在另外一个指定集合相同的元素，并将另外一个指定集合中不同的元素插入到当前集合中。 \n",
    "[union()](http://www.runoob.com/python3/ref-set-union.html)                                             | 返回两个集合的并集                                         \n",
    "[update()](http://www.runoob.com/python3/ref-set-update.html)                                           | 给集合添加元素                                           "
   ]
  },
  {
   "cell_type": "code",
   "execution_count": null,
   "metadata": {},
   "outputs": [],
   "source": []
  }
 ],
 "metadata": {
  "kernelspec": {
   "display_name": "Python 3",
   "language": "python",
   "name": "python3"
  },
  "language_info": {
   "codemirror_mode": {
    "name": "ipython",
    "version": 3
   },
   "file_extension": ".py",
   "mimetype": "text/x-python",
   "name": "python",
   "nbconvert_exporter": "python",
   "pygments_lexer": "ipython3",
   "version": "3.7.0"
  }
 },
 "nbformat": 4,
 "nbformat_minor": 2
}
