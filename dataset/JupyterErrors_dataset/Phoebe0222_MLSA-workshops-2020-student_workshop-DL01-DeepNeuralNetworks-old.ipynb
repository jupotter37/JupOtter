{
 "cells": [
  {
   "cell_type": "markdown",
   "metadata": {},
   "source": [
    "# Workshop DL01: Deep Neural Networks\n",
    "\n",
    "## Agenda:\n",
    "- Introduction to deep learning  \n",
    "- Apply DNN to MNIST dataset and IEEE fraud dataset\n",
    "\n",
    "For this workshop we are gonna talk about deep learning algorithms and train DNN models with 2 datasets. We will first start with an easier dataset as demonstration, namely the MNIST dataset. Then we will move on to the harder dataset, which is the IEEE fraud detection dataset, so we can also compare the performance of supervised learning and deep learning models.\n",
    "\n",
    "## Exercies:\n",
    "- Think about what features to include in your model and how they should be represented.  \n",
    "- Think about when we should use traditional models such as Random Forest or deep learning models. (hint: think about the dataset size)"
   ]
  },
  {
   "cell_type": "markdown",
   "metadata": {},
   "source": [
    "### Deep Learning Paradigm:\n",
    "There is no clear cut definition of deep learning as many people tend to have different definitions, but the most popular opinion is that deep-learning could be defined as neural network with more than 2 hidden layers and later evolved into including unsupervised neural architectures. \n",
    "<img src=\"paradigm.png\">\n",
    "\n",
    "### Deep Learning Application:\n",
    "| Neural Network | Application |\n",
    "| :------------: | :---------: | \n",
    "|Standard NN|Real Estate, Online Advertising|\n",
    "|Convolutional NN|Photo Tagging|\n",
    "|Recurrent NN|Speech Recognition, Machine Translation|\n",
    "|Unsupervised NN|Fraud Detection|"
   ]
  },
  {
   "cell_type": "markdown",
   "metadata": {},
   "source": [
    "### So what is a neural network?\n",
    "Recall that in the classification workshop we have introduced a GLM model called **Perceptron**. This is actually the very structural building block of neural network (NN).\n",
    "\n",
    "| Perceptron | Activation |\n",
    "|:----------:| :--------: |\n",
    "|<img src=\"perceptron.png\">|<img src=\"activation.png\">|\n",
    "\n",
    "Notations:\n",
    "- $g$: activation function (activation function is to capture the non-linearities in the dataset) \n",
    "- $X$: input matrix \n",
    "- $w_0$: bias \n",
    "- $W$: weight matrix\n"
   ]
  },
  {
   "cell_type": "markdown",
   "metadata": {},
   "source": [
    "A **NN** can then be viewed as a stack of multi-output perceptrons. For example, the hidden layer is a perceptron with 4 outputs and the output layer is a perceptron with 2 outputs: \n",
    "<img src=\"SNN.png\" width=\"500\">\n",
    "Note that the subscripts indicates the number of layer, e.g. $W^{(1)}$ is the weight matrix for the first layer. \n",
    "\n",
    "Vectorization representation: \n",
    "$$ Z = w_0^{(1)} + X^TW^{(1)}$$\n",
    "$$ Y = g(w_0^{(2)} + Z^TW^{(2)})$$\n",
    "There are many conventions of representing NN, but they mean the same thing."
   ]
  },
  {
   "cell_type": "markdown",
   "metadata": {},
   "source": [
    "A **deep neural network (DNN)** is an extension of a single-layer NN with more than 2 hidden layers. For example, some DNN can have upto hundreds of layers:\n",
    "<img src=\"DNN.png\" width=\"500\">\n",
    "\n",
    "Note that input and output layers are not counted as the number of layers of a NN. \n",
    "\n",
    "Suppose we have a $l$-layer NN then the vectorization representation is: \n",
    "$$ Z^{(k)} = w_0^{(k)} + g(Z^{(k-1)})^TW^{(k)}, where \\space k = 1,2,..l-1$$\n",
    "$$ Y = g(w_0^{(l)} + Z^{(l-1)T}W^{(l)})$$\n",
    "\n",
    "Getting the matrix dimemsion correct can be quite tricky."
   ]
  },
  {
   "cell_type": "markdown",
   "metadata": {},
   "source": [
    "### Then how do we train a NN?\n",
    "First we need to define a **cost function** then update the parameters ($W,w_0$) by minimising the cost. This is known as **back propagation**, whereas computing output is known as **forward propagation**. \n",
    "\n",
    "Considering a sample size of n, cost function is a function of predicted output ($\\hat{Y^{[i]}}=f(X^{[i]},W)$) and actual output ($Y^{[i]}$): \n",
    "$$J(\\hat{Y^{[i]}},W) = \\frac{1}{n} \\sum_{i=1}^n{L(\\hat{Y^{[i]}},Y^{[i]})}$$, where $L$ could be:\n",
    "- binary cross entropy loss: $Y^{[i]}\\log{(\\hat{Y^{[i]}})}+(1-Y^{[i]})\\log{(1-\\hat{Y^{[i]}})}$\n",
    "- mean square loss: $(Y^{[i]}-\\hat{Y^{[i]}})^2$\n",
    "\n",
    "After we define a cost function, we need a way to update the parameters that minimise the cost. There are many ways but let's start with the most basic one, namely **gradient descent**. As the name suggests, we want to find the parameters by decreasing gradient gradually because a function decreases the fastest if one goes from a random point in the opposite direction of the gradient at that point. So we update the parameters like this:\n",
    "$$new W = old W - \\alpha \\frac{\\partial J(old W)}{\\partial old W}$$\n",
    "where $\\alpha$ is the learning rate.\n",
    "\n",
    "Graph Representation:\n",
    "\n",
    "|Step 1|Step 2|\n",
    "|:----:|:----:|\n",
    "|<img src=\"step1.png\">|<img src=\"step2.png\">|\n",
    "\n",
    "|Step 3|Step 4|\n",
    "|:----:|:----:|\n",
    "|<img src=\"step3.png\">|<img src=\"step4.png\">|\n",
    "\n",
    "\n",
    "Notice that $J$ is not a direct funtion of $W$, so differentiating it with respect to $W$ is not straight forward. So we need to use Chain Rule: \n",
    "$$\\frac{\\partial J(\\hat{Y^{[i]}},W)}{\\partial W} = \\frac{\\partial J(\\hat{Y^{[i]}},W)}{\\partial \\hat{Y^{[i]}}}\\frac{\\partial \\hat{Y^{[i]}}}{\\partial Z^{[i]}}\\frac{\\partial Z^{[i]}}{\\partial W}$$\n",
    "\n",
    "\n",
    "Imgages Source: ©MIT 6.S191: Introduction to Deep Learning [introtodeeplearning.com](http://introtodeeplearning.com/)"
   ]
  },
  {
   "cell_type": "markdown",
   "metadata": {},
   "source": [
    "### Alternative ways of training NNs:\n",
    "We have only covered one way of training NN, which is gradient descent. In practise, there are many other concerns as well. For example, the choice of learning rate $\\alpha$ have great impact on the whether we can find the true minimum. Too small the $\\alpha$ converges slowly and can get stuck in local minima, whereas too big the $\\alpha$ will overshoot and might not converge. We can try different values of $\\alpha$ which could take a long time, or we can use **adaptive learning rate** (Momentum, RMSProp, Adam, Afagrad, Adadelta, learning rate decay etc.). \n",
    "\n",
    "Other than choosing learning rate, there are many popular options to improve training or fitting. Here we provide a list for you to consider:\n",
    "- Train a small size of data each time: Minibatch Training, Stochastic Gradient Descent\n",
    "- Normalisation of input, Batch Normalisation\n",
    "- Regularization: add $l_1, l_2$ in cost funtion, dropout, early stopping, data augmentation  \n",
    "- Parallelize computation, use of GPU/TPU \n",
    "\n",
    "Now enough with the jiber jaber and let's train a DNN!"
   ]
  },
  {
   "cell_type": "markdown",
   "metadata": {},
   "source": [
    "### Example 1: MNIST Data with Feed Forward Neural Networks "
   ]
  },
  {
   "cell_type": "markdown",
   "metadata": {},
   "source": [
    "Our task would be to label each image, as to which number it belong to exactly. For any image classification task, first, we have to understand how are image stored on devices. In this example, all images are 28x28 pixels, hence the input layer dimension would be 784 (28*28). For demonstration, we use a feedforward neural network with 2 hidden layers here. Of course, there are much more complicated neural architectures such as CNN's etc. "
   ]
  },
  {
   "cell_type": "markdown",
   "metadata": {},
   "source": [
    "<img src=\"MnistExamples.png\">"
   ]
  },
  {
   "cell_type": "code",
   "execution_count": 8,
   "metadata": {},
   "outputs": [
    {
     "name": "stdout",
     "output_type": "stream",
     "text": [
      "1.14.0\n",
      "2.2.4-tf\n"
     ]
    }
   ],
   "source": [
    "from __future__ import absolute_import, division, print_function, unicode_literals\n",
    "import numpy as np\n",
    "import os\n",
    "import matplotlib.pyplot as plt\n",
    "from matplotlib import pyplot\n",
    "import seaborn as sns \n",
    "import pandas as pd \n",
    "import tensorflow as tf \n",
    "from tensorflow import keras\n",
    "\n",
    "#Keras Packages  \n",
    "#from tensorflow.python import keras\n",
    "from keras.layers import Input, Dense, Lambda\n",
    "from keras import optimizers\n",
    "from keras.utils import plot_model, to_categorical \n",
    "from keras.callbacks import ModelCheckpoint, TensorBoard\n",
    "from keras import regularizers\n",
    "from keras.models import Model, load_model, save_model\n",
    "from keras.datasets import mnist\n",
    "print(tf.__version__)\n",
    "print(tf.keras.__version__)"
   ]
  },
  {
   "cell_type": "markdown",
   "metadata": {},
   "source": [
    "#### Step 1: Importing the data and Visualization"
   ]
  },
  {
   "cell_type": "code",
   "execution_count": 9,
   "metadata": {
    "scrolled": false
   },
   "outputs": [
    {
     "name": "stdout",
     "output_type": "stream",
     "text": [
      "Training input data shape: (60000, 28, 28)\n",
      "Testing input data shape: (10000, 28, 28)\n"
     ]
    },
    {
     "data": {
      "image/png": "[encoded data removed]",
      "text/plain": [
       "<Figure size 432x288 with 9 Axes>"
      ]
     },
     "metadata": {
      "needs_background": "light"
     },
     "output_type": "display_data"
    },
    {
     "data": {
      "text/plain": [
       "<matplotlib.axes._subplots.AxesSubplot at 0x1a459c6f90>"
      ]
     },
     "execution_count": 9,
     "metadata": {},
     "output_type": "execute_result"
    },
    {
     "data": {
      "image/png": "[encoded data removed]",
      "text/plain": [
       "<Figure size 432x288 with 1 Axes>"
      ]
     },
     "metadata": {
      "needs_background": "light"
     },
     "output_type": "display_data"
    }
   ],
   "source": [
    "(x_train, y_train), (x_test, y_test) = mnist.load_data()\n",
    "print(\"Training input data shape: {}\".format(x_train.shape))\n",
    "#This implies there exist 60,000 images with 28x28 pixels \n",
    "print(\"Testing input data shape: {}\".format(x_test.shape))\n",
    "#This implies there exist 10,0000 images with 28x28\n",
    "\n",
    "for i in range(9):\n",
    "    pyplot.subplot(330 + 1 + i)\n",
    "    pyplot.imshow(x_train[i], cmap=pyplot.get_cmap('gray'))\n",
    "pyplot.show()\n",
    "\n",
    "sns.countplot(y_train)"
   ]
  },
  {
   "cell_type": "markdown",
   "metadata": {},
   "source": [
    "#### Step 2: Data preparation "
   ]
  },
  {
   "cell_type": "code",
   "execution_count": 4,
   "metadata": {},
   "outputs": [
    {
     "name": "stdout",
     "output_type": "stream",
     "text": [
      "Training data shape after reshaping: (60000, 784)\n",
      "Testing data shape: (10000, 784)\n",
      "Output training data: (60000, 10)\n",
      "Output testing data: (10000, 10)\n"
     ]
    }
   ],
   "source": [
    "input_vector_dimension = 28*28\n",
    "num_classes = 10\n",
    "\n",
    "x_train = x_train.reshape(x_train.shape[0], input_vector_dimension).astype('float32') / 255\n",
    "print(\"Training data shape after reshaping: {}\".format(x_train.shape))\n",
    "x_test = x_test.reshape(x_test.shape[0], input_vector_dimension).astype('float32') / 255\n",
    "print(\"Testing data shape: {}\".format(x_test.shape))\n",
    "#Why divide by 255? \n",
    "\n",
    "y_train = to_categorical(y_train, num_classes)\n",
    "print(\"Output training data: {}\".format(y_train.shape))\n",
    "y_test = to_categorical(y_test, num_classes)\n",
    "print(\"Output testing data: {}\".format(y_test.shape))"
   ]
  },
  {
   "cell_type": "markdown",
   "metadata": {},
   "source": [
    "#### Step 3: Designing the neural architecture "
   ]
  },
  {
   "cell_type": "code",
   "execution_count": 5,
   "metadata": {},
   "outputs": [
    {
     "name": "stderr",
     "output_type": "stream",
     "text": [
      "WARNING: Logging before flag parsing goes to stderr.\n",
      "W0821 16:30:39.928954 4646323648 deprecation_wrapper.py:119] From /anaconda3/envs/mlsa/lib/python3.7/site-packages/keras/backend/tensorflow_backend.py:74: The name tf.get_default_graph is deprecated. Please use tf.compat.v1.get_default_graph instead.\n",
      "\n",
      "W0821 16:30:39.961920 4646323648 deprecation_wrapper.py:119] From /anaconda3/envs/mlsa/lib/python3.7/site-packages/keras/backend/tensorflow_backend.py:517: The name tf.placeholder is deprecated. Please use tf.compat.v1.placeholder instead.\n",
      "\n",
      "W0821 16:30:39.965196 4646323648 deprecation_wrapper.py:119] From /anaconda3/envs/mlsa/lib/python3.7/site-packages/keras/backend/tensorflow_backend.py:4138: The name tf.random_uniform is deprecated. Please use tf.random.uniform instead.\n",
      "\n"
     ]
    },
    {
     "name": "stdout",
     "output_type": "stream",
     "text": [
      "_________________________________________________________________\n",
      "Layer (type)                 Output Shape              Param #   \n",
      "=================================================================\n",
      "input_1 (InputLayer)         (None, 784)               0         \n",
      "_________________________________________________________________\n",
      "dense_1 (Dense)              (None, 50)                39250     \n",
      "_________________________________________________________________\n",
      "dense_2 (Dense)              (None, 50)                2550      \n",
      "_________________________________________________________________\n",
      "dense_3 (Dense)              (None, 10)                510       \n",
      "=================================================================\n",
      "Total params: 42,310\n",
      "Trainable params: 42,310\n",
      "Non-trainable params: 0\n",
      "_________________________________________________________________\n"
     ]
    },
    {
     "name": "stderr",
     "output_type": "stream",
     "text": [
      "/anaconda3/envs/mlsa/lib/python3.7/site-packages/ipykernel_launcher.py:9: UserWarning: Update your `Model` call to the Keras 2 API: `Model(inputs=Tensor(\"in..., outputs=Tensor(\"de...)`\n",
      "  if __name__ == '__main__':\n"
     ]
    }
   ],
   "source": [
    "#We will use Keras Functional API, not the sequestion model API\n",
    "\n",
    "input_layer = Input(shape=(input_vector_dimension,))\n",
    "\n",
    "hidden_layer_1 = Dense(50, activation='relu',activity_regularizer=regularizers.l1(10e-5))(input_layer)\n",
    "hidden_layer_2 = Dense(50, activation='relu')(hidden_layer_1)\n",
    "output_layer = Dense(10, activation='softmax')(hidden_layer_2)\n",
    "\n",
    "nn_model = Model(inputs=input_layer, output=output_layer)\n",
    "nn_model.summary()\n",
    "\n",
    "# plot_model(nn_model, 'my_first_model.png',show_shapes=True)\n",
    "# Use Colab when running the above command, so much less trouble \n",
    "\n"
   ]
  },
  {
   "attachments": {
    "my_first_model.png": {
     "image/png": "[encoded data removed]"
    }
   },
   "cell_type": "markdown",
   "metadata": {},
   "source": [
    "![my_first_model.png](attachment:my_first_model.png)"
   ]
  },
  {
   "cell_type": "markdown",
   "metadata": {},
   "source": [
    "#### Step 4: Train the model "
   ]
  },
  {
   "cell_type": "code",
   "execution_count": 6,
   "metadata": {},
   "outputs": [
    {
     "name": "stderr",
     "output_type": "stream",
     "text": [
      "W0821 16:30:41.719826 4646323648 deprecation_wrapper.py:119] From /anaconda3/envs/mlsa/lib/python3.7/site-packages/keras/optimizers.py:790: The name tf.train.Optimizer is deprecated. Please use tf.compat.v1.train.Optimizer instead.\n",
      "\n",
      "W0821 16:30:41.728665 4646323648 deprecation_wrapper.py:119] From /anaconda3/envs/mlsa/lib/python3.7/site-packages/keras/backend/tensorflow_backend.py:3295: The name tf.log is deprecated. Please use tf.math.log instead.\n",
      "\n",
      "W0821 16:30:41.849961 4646323648 deprecation.py:323] From /anaconda3/envs/mlsa/lib/python3.7/site-packages/tensorflow/python/ops/math_grad.py:1250: add_dispatch_support.<locals>.wrapper (from tensorflow.python.ops.array_ops) is deprecated and will be removed in a future version.\n",
      "Instructions for updating:\n",
      "Use tf.where in 2.0, which has the same broadcast rule as np.where\n",
      "W0821 16:30:41.928127 4646323648 deprecation_wrapper.py:119] From /anaconda3/envs/mlsa/lib/python3.7/site-packages/keras/backend/tensorflow_backend.py:986: The name tf.assign_add is deprecated. Please use tf.compat.v1.assign_add instead.\n",
      "\n"
     ]
    },
    {
     "name": "stdout",
     "output_type": "stream",
     "text": [
      "Train on 54000 samples, validate on 6000 samples\n",
      "Epoch 1/5\n",
      "54000/54000 [==============================] - 10s 185us/step - loss: 0.3256 - acc: 0.9191 - val_loss: 0.1669 - val_acc: 0.9590\n",
      "Epoch 2/5\n",
      "54000/54000 [==============================] - 9s 168us/step - loss: 0.1609 - acc: 0.9600 - val_loss: 0.1509 - val_acc: 0.9633\n",
      "Epoch 3/5\n",
      "54000/54000 [==============================] - 10s 177us/step - loss: 0.1353 - acc: 0.9677 - val_loss: 0.1491 - val_acc: 0.9655\n",
      "Epoch 4/5\n",
      "54000/54000 [==============================] - 9s 168us/step - loss: 0.1285 - acc: 0.9696 - val_loss: 0.1550 - val_acc: 0.9633\n",
      "Epoch 5/5\n",
      "54000/54000 [==============================] - 9s 173us/step - loss: 0.1308 - acc: 0.9697 - val_loss: 0.1541 - val_acc: 0.9657\n",
      "10000/10000 [==============================] - 0s 22us/step\n",
      "Test loss: 0.17636034208834173\n",
      "Test accuracy: 0.9617\n"
     ]
    }
   ],
   "source": [
    "# specifying the training configuration\n",
    "nn_model.compile(loss='categorical_crossentropy',\n",
    "              optimizer=optimizers.RMSprop(),\n",
    "              metrics=['accuracy'])\n",
    "\n",
    "# training \n",
    "history = nn_model.fit(x_train, y_train,\n",
    "                    batch_size=20,\n",
    "                    epochs=5,\n",
    "                    validation_split=0.1,verbose=1)\n",
    "\n",
    "test_scores = nn_model.evaluate(x_test, y_test)\n",
    "\n",
    "print('Test loss:', test_scores[0])\n",
    "print('Test accuracy:', test_scores[1])"
   ]
  },
  {
   "cell_type": "markdown",
   "metadata": {},
   "source": [
    "#### Step 4: Monitoring Performance "
   ]
  },
  {
   "cell_type": "markdown",
   "metadata": {},
   "source": [
    "Lastly, save the trained model so you can load it later"
   ]
  },
  {
   "cell_type": "code",
   "execution_count": 7,
   "metadata": {},
   "outputs": [
    {
     "data": {
      "image/png": "[encoded data removed]",
      "text/plain": [
       "<Figure size 432x288 with 1 Axes>"
      ]
     },
     "metadata": {
      "needs_background": "light"
     },
     "output_type": "display_data"
    }
   ],
   "source": [
    "#save_model(nn_model, 'nn_1_model.h5',overwrite=True)\n",
    "#nn_model.save('nn__model.h5')\n",
    "#model = keras.models.load_model('nn_model.h5')\n",
    "plt.plot(history.history['acc'])\n",
    "plt.plot(history.history['val_acc'])\n",
    "plt.title('model accuracy')\n",
    "plt.ylabel('accuracy')\n",
    "plt.xlabel('epoch')\n",
    "plt.legend(['training', 'validation'], loc='best')\n",
    "plt.show()"
   ]
  },
  {
   "cell_type": "markdown",
   "metadata": {},
   "source": [
    "### Example 2: IEEE Data "
   ]
  },
  {
   "cell_type": "code",
   "execution_count": 10,
   "metadata": {},
   "outputs": [],
   "source": [
    "# read csv file into a dataframe\n",
    "X_train = pd.read_csv('X_train.csv')\n",
    "Y_train = pd.read_csv('Y_train.csv')"
   ]
  },
  {
   "cell_type": "code",
   "execution_count": 11,
   "metadata": {},
   "outputs": [],
   "source": [
    "from sklearn.model_selection import train_test_split\n",
    "train_size = int(0.8*X_train.shape[0])\n",
    "test_size = X_train.shape[0]-train_size\n",
    "X_train, X_test, Y_train, Y_test = train_test_split(\n",
    "    X_train, Y_train, train_size=train_size, test_size=test_size, random_state=4)"
   ]
  },
  {
   "cell_type": "code",
   "execution_count": 12,
   "metadata": {},
   "outputs": [
    {
     "data": {
      "text/plain": [
       "(472432, 431)"
      ]
     },
     "execution_count": 12,
     "metadata": {},
     "output_type": "execute_result"
    }
   ],
   "source": [
    "X_train.shape"
   ]
  },
  {
   "cell_type": "code",
   "execution_count": 13,
   "metadata": {},
   "outputs": [
    {
     "ename": "NameError",
     "evalue": "name 'Dense' is not defined",
     "output_type": "error",
     "traceback": [
      "\u001b[0;31m---------------------------------------------------------------------------\u001b[0m",
      "\u001b[0;31mNameError\u001b[0m                                 Traceback (most recent call last)",
      "\u001b[0;32m<ipython-input-13-2798b1fe3616>\u001b[0m in \u001b[0;36m<module>\u001b[0;34m\u001b[0m\n\u001b[1;32m      2\u001b[0m \u001b[0minput_layer\u001b[0m \u001b[0;34m=\u001b[0m \u001b[0mInput\u001b[0m\u001b[0;34m(\u001b[0m\u001b[0mshape\u001b[0m\u001b[0;34m=\u001b[0m\u001b[0;34m(\u001b[0m\u001b[0mX_train\u001b[0m\u001b[0;34m.\u001b[0m\u001b[0mshape\u001b[0m\u001b[0;34m[\u001b[0m\u001b[0;36m1\u001b[0m\u001b[0;34m]\u001b[0m\u001b[0;34m,\u001b[0m\u001b[0;34m)\u001b[0m\u001b[0;34m)\u001b[0m\u001b[0;34m\u001b[0m\u001b[0;34m\u001b[0m\u001b[0m\n\u001b[1;32m      3\u001b[0m \u001b[0;34m\u001b[0m\u001b[0m\n\u001b[0;32m----> 4\u001b[0;31m \u001b[0mhidden_layer_1\u001b[0m \u001b[0;34m=\u001b[0m \u001b[0mDense\u001b[0m\u001b[0;34m(\u001b[0m \u001b[0;36m250\u001b[0m\u001b[0;34m,\u001b[0m \u001b[0mactivation\u001b[0m\u001b[0;34m=\u001b[0m\u001b[0;34m'relu'\u001b[0m\u001b[0;34m,\u001b[0m\u001b[0mactivity_regularizer\u001b[0m\u001b[0;34m=\u001b[0m\u001b[0mregularizers\u001b[0m\u001b[0;34m.\u001b[0m\u001b[0ml1\u001b[0m\u001b[0;34m(\u001b[0m\u001b[0;36m10e-5\u001b[0m\u001b[0;34m)\u001b[0m\u001b[0;34m)\u001b[0m\u001b[0;34m(\u001b[0m\u001b[0minput_layer\u001b[0m\u001b[0;34m)\u001b[0m\u001b[0;34m\u001b[0m\u001b[0;34m\u001b[0m\u001b[0m\n\u001b[0m\u001b[1;32m      5\u001b[0m \u001b[0mhidden_layer_2\u001b[0m \u001b[0;34m=\u001b[0m \u001b[0mDense\u001b[0m\u001b[0;34m(\u001b[0m \u001b[0;36m200\u001b[0m\u001b[0;34m,\u001b[0m \u001b[0mactivation\u001b[0m\u001b[0;34m=\u001b[0m\u001b[0;34m'relu'\u001b[0m\u001b[0;34m)\u001b[0m\u001b[0;34m(\u001b[0m\u001b[0mhidden_layer_1\u001b[0m\u001b[0;34m)\u001b[0m\u001b[0;34m\u001b[0m\u001b[0;34m\u001b[0m\u001b[0m\n\u001b[1;32m      6\u001b[0m \u001b[0mhidden_layer_3\u001b[0m \u001b[0;34m=\u001b[0m \u001b[0mDense\u001b[0m\u001b[0;34m(\u001b[0m \u001b[0;36m150\u001b[0m\u001b[0;34m,\u001b[0m \u001b[0mactivation\u001b[0m\u001b[0;34m=\u001b[0m\u001b[0;34m'relu'\u001b[0m\u001b[0;34m)\u001b[0m\u001b[0;34m(\u001b[0m\u001b[0mhidden_layer_2\u001b[0m\u001b[0;34m)\u001b[0m\u001b[0;34m\u001b[0m\u001b[0;34m\u001b[0m\u001b[0m\n",
      "\u001b[0;31mNameError\u001b[0m: name 'Dense' is not defined"
     ]
    }
   ],
   "source": [
    "# putting everything together\n",
    "input_layer = Input(shape=(X_train.shape[1],))\n",
    "\n",
    "hidden_layer_1 = Dense( 250, activation='relu',activity_regularizer=regularizers.l1(10e-5))(input_layer)\n",
    "hidden_layer_2 = Dense( 200, activation='relu')(hidden_layer_1)\n",
    "hidden_layer_3 = Dense( 150, activation='relu')(hidden_layer_2)\n",
    "hidden_layer_4 = Dense( 100, activation='relu')(hidden_layer_3)\n",
    "hidden_layer_5 = Dense( 50, activation='relu')(hidden_layer_4)\n",
    "\n",
    "output_layer = Dense(1, activation='sigmoid')(hidden_layer_5)\n",
    "\n",
    "nn_model = Model(inputs=input_layer, output=output_layer)\n",
    "nn_model.summary()\n",
    "\n",
    "nn_model.compile(loss='binary_crossentropy',\n",
    "              optimizer=optimizers.RMSprop(),\n",
    "              metrics=['accuracy'])\n",
    "\n",
    "#Define training parameters \n",
    "history = nn_model.fit(X_train, Y_train,\n",
    "                    batch_size=64,\n",
    "                    epochs=20,\n",
    "                    validation_split=0.1)\n",
    "\n",
    "test_scores = nn_model.evaluate(X_test, Y_test, verbose=0)\n",
    "\n",
    "print('Test loss:', test_scores[0])\n",
    "print('Test accuracy:', test_scores[1])\n",
    "\n",
    "nn_model.save('nn_model.h5')"
   ]
  },
  {
   "cell_type": "code",
   "execution_count": 30,
   "metadata": {},
   "outputs": [
    {
     "name": "stdout",
     "output_type": "stream",
     "text": [
      "[[113954      0]\n",
      " [  4154      0]]\n"
     ]
    }
   ],
   "source": [
    "from sklearn.metrics import classification_report, confusion_matrix\n",
    "\n",
    "yhat_classes = nn_model.predict(X_test)\n",
    "yhat_classes.dtype\n",
    "yhat_classes = np.argmax(yhat_classes, axis=1)\n",
    "yhat_classes[0:5]\n",
    "\n",
    "#Y_test.dtype\n",
    "matrix = confusion_matrix(Y_test.values, yhat_classes)\n",
    "print(matrix)"
   ]
  },
  {
   "cell_type": "code",
   "execution_count": null,
   "metadata": {},
   "outputs": [],
   "source": []
  }
 ],
 "metadata": {
  "kernelspec": {
   "display_name": "mlsa",
   "language": "python",
   "name": "mlsa"
  },
  "language_info": {
   "codemirror_mode": {
    "name": "ipython",
    "version": 3
   },
   "file_extension": ".py",
   "mimetype": "text/x-python",
   "name": "python",
   "nbconvert_exporter": "python",
   "pygments_lexer": "ipython3",
   "version": "3.7.4"
  }
 },
 "nbformat": 4,
 "nbformat_minor": 2
}
