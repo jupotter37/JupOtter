{
 "cells": [
  {
   "cell_type": "code",
   "execution_count": 91,
   "metadata": {},
   "outputs": [],
   "source": [
    "import os\n",
    "import matplotlib.pyplot as plt\n",
    "\n",
    "import rasterio as rio\n",
    "import cartopy.crs as ccrs\n",
    "\n",
    "from subprocess import Popen\n",
    "\n",
    "import pandas as pd\n",
    "\n",
    "\n",
    "import seaborn as sns"
   ]
  },
  {
   "cell_type": "code",
   "execution_count": 61,
   "metadata": {},
   "outputs": [],
   "source": [
    "# first class == 1! (1-indexed)\n",
    "koppen = \"/Users/tony/Downloads/Map_KG-Global/KG_1986-2010.grd\"\n",
    "classes = ['Af', 'Am', 'As', 'Aw', 'BSh', 'BSk', 'BWh', 'BWk', 'Cfa', 'Cfb','Cfc', 'Csa', 'Csb', 'Csc', 'Cwa','Cwb', 'Cwc', 'Dfa', 'Dfb', 'Dfc','Dfd', 'Dsa', 'Dsb', 'Dsc', 'Dsd','Dwa', 'Dwb', 'Dwc', 'Dwd', 'EF','ET', 'Ocean']\n"
   ]
  },
  {
   "cell_type": "code",
   "execution_count": 27,
   "metadata": {},
   "outputs": [],
   "source": [
    "tuolumne = \"/Users/tony/Dropbox/Projects/UW/planet-snowcover/experiments/ASO_Tuolumne/locator-figure/tuolumneboundaryshapefile/tuol-larger.geojson\"\n",
    "# tuolumne = \"/Users/tony/Downloads/USCATE_footprints.geojson\"\n",
    "colorado = \"/Users/tony/Downloads/co-watershed.geojson\""
   ]
  },
  {
   "cell_type": "code",
   "execution_count": 50,
   "metadata": {},
   "outputs": [],
   "source": [
    "clip_cmd = \"source activate qgis; gdalwarp -dstnodata -9999 -cutline {cutline} -s_srs EPSG:4326 -overwrite -crop_to_cutline {raster} $(dirname {raster})/$(basename {raster} .grd)_{loc}_clip.tif\""
   ]
  },
  {
   "cell_type": "code",
   "execution_count": 51,
   "metadata": {},
   "outputs": [
    {
     "name": "stdout",
     "output_type": "stream",
     "text": [
      "source activate qgis; gdalwarp -dstnodata -9999 -cutline /Users/tony/Dropbox/Projects/UW/planet-snowcover/experiments/ASO_Tuolumne/locator-figure/tuolumneboundaryshapefile/tuol-larger.geojson -s_srs EPSG:4326 -overwrite -crop_to_cutline /Users/tony/Downloads/Map_KG-Global/KG_1986-2010.grd $(dirname /Users/tony/Downloads/Map_KG-Global/KG_1986-2010.grd)/$(basename /Users/tony/Downloads/Map_KG-Global/KG_1986-2010.grd .grd)_tuolumne_clip.tif\n"
     ]
    },
    {
     "data": {
      "text/plain": [
       "(None, None)"
      ]
     },
     "execution_count": 51,
     "metadata": {},
     "output_type": "execute_result"
    }
   ],
   "source": [
    "cmd = clip_cmd.format(cutline = tuolumne, raster = koppen, loc='tuolumne')\n",
    "print(cmd)\n",
    "Popen(cmd, shell=True).communicate()"
   ]
  },
  {
   "cell_type": "code",
   "execution_count": 52,
   "metadata": {},
   "outputs": [
    {
     "name": "stdout",
     "output_type": "stream",
     "text": [
      "source activate qgis; gdalwarp -dstnodata -9999 -cutline /Users/tony/Downloads/co-watershed.geojson -s_srs EPSG:4326 -overwrite -crop_to_cutline /Users/tony/Downloads/Map_KG-Global/KG_1986-2010.grd $(dirname /Users/tony/Downloads/Map_KG-Global/KG_1986-2010.grd)/$(basename /Users/tony/Downloads/Map_KG-Global/KG_1986-2010.grd .grd)_colorado_clip.tif\n"
     ]
    },
    {
     "data": {
      "text/plain": [
       "(None, None)"
      ]
     },
     "execution_count": 52,
     "metadata": {},
     "output_type": "execute_result"
    }
   ],
   "source": [
    "cmd = clip_cmd.format(cutline = colorado, raster = koppen, loc='colorado')\n",
    "print(cmd)\n",
    "Popen(cmd, shell=True).communicate()"
   ]
  },
  {
   "cell_type": "code",
   "execution_count": 53,
   "metadata": {},
   "outputs": [],
   "source": [
    "koppen_tuol = rio.open(os.path.join(os.path.dirname(koppen), os.path.splitext(koppen)[0]+\"_tuolumne_clip.tif\"))\n",
    "koppen_colo = rio.open(os.path.join(os.path.dirname(koppen), os.path.splitext(koppen)[0]+\"_colorado_clip.tif\"))\n"
   ]
  },
  {
   "cell_type": "code",
   "execution_count": 54,
   "metadata": {},
   "outputs": [],
   "source": [
    "koppen_colo_data = koppen_colo.read(1)\n",
    "koppen_colo_data = koppen_colo_data[~(koppen_colo_data == -9999) & (koppen_colo_data > 0)].flatten()\n",
    "koppen_tuol_data = koppen_tuol.read(1)\n",
    "koppen_tuol_data = koppen_tuol_data[~(koppen_tuol_data == -9999) & (koppen_tuol_data > 0)].flatten()"
   ]
  },
  {
   "cell_type": "code",
   "execution_count": 57,
   "metadata": {},
   "outputs": [],
   "source": []
  },
  {
   "cell_type": "code",
   "execution_count": 55,
   "metadata": {},
   "outputs": [
    {
     "data": {
      "text/plain": [
       "(array([11.,  0.,  0.,  0.,  0.,  0.,  0.,  0.,  0.,  5.]),\n",
       " array([13. , 14.1, 15.2, 16.3, 17.4, 18.5, 19.6, 20.7, 21.8, 22.9, 24. ]),\n",
       " <a list of 10 Patch objects>)"
      ]
     },
     "execution_count": 55,
     "metadata": {},
     "output_type": "execute_result"
    },
    {
     "data": {
      "image/png": "[encoded data removed]",
      "text/plain": [
       "<Figure size 576x432 with 1 Axes>"
      ]
     },
     "metadata": {},
     "output_type": "display_data"
    }
   ],
   "source": [
    "from matplotlib.ticker import FuncFormatter, MaxNLocator\n",
    "\n",
    "fig, ax = plt.subplots(1,1, figsize=(8,6))\n",
    "ax.hist(koppen_tuol.read(masked=True).flatten())\n",
    "# ax.xaxis.set_major_formatter(FuncFormatter(format_sturm))\n",
    "# ax.xaxis.set_major_locator(MaxNLocator(integer=True))"
   ]
  },
  {
   "cell_type": "code",
   "execution_count": 56,
   "metadata": {},
   "outputs": [
    {
     "data": {
      "text/plain": [
       "(array([ 3.,  0.,  0.,  0.,  0.,  0.,  0.,  0.,  0., 34.]),\n",
       " array([ 6. ,  7.4,  8.8, 10.2, 11.6, 13. , 14.4, 15.8, 17.2, 18.6, 20. ]),\n",
       " <a list of 10 Patch objects>)"
      ]
     },
     "execution_count": 56,
     "metadata": {},
     "output_type": "execute_result"
    },
    {
     "data": {
      "image/png": "[encoded data removed]",
      "text/plain": [
       "<Figure size 576x432 with 1 Axes>"
      ]
     },
     "metadata": {},
     "output_type": "display_data"
    }
   ],
   "source": [
    "from matplotlib.ticker import FuncFormatter, MaxNLocator\n",
    "\n",
    "fig, ax = plt.subplots(1,1, figsize=(8,6))\n",
    "ax.hist(koppen_colo.read(masked=True).flatten())\n",
    "# ax.xaxis.set_major_formatter(FuncFormatter(format_sturm))\n",
    "# ax.xaxis.set_major_locator(MaxNLocator(integer=True))"
   ]
  },
  {
   "cell_type": "code",
   "execution_count": 75,
   "metadata": {},
   "outputs": [
    {
     "data": {
      "text/plain": [
       "Text(0.0, 1.0, 'Köppen – Colorado')"
      ]
     },
     "execution_count": 75,
     "metadata": {},
     "output_type": "execute_result"
    },
    {
     "data": {
      "image/png": "[encoded data removed]",
      "text/plain": [
       "<Figure size 432x288 with 1 Axes>"
      ]
     },
     "metadata": {},
     "output_type": "display_data"
    }
   ],
   "source": [
    "sns.countplot(list(map(lambda x: classes[x], koppen_colo_data + 1)), color='red')\n",
    "plt.title(\"Köppen – Colorado\", loc='left')"
   ]
  },
  {
   "cell_type": "code",
   "execution_count": 141,
   "metadata": {},
   "outputs": [
    {
     "data": {
      "text/plain": [
       "<matplotlib.axes._subplots.AxesSubplot at 0x12b1f9710>"
      ]
     },
     "execution_count": 141,
     "metadata": {},
     "output_type": "execute_result"
    },
    {
     "data": {
      "image/png": "[encoded data removed]",
      "text/plain": [
       "<Figure size 432x288 with 1 Axes>"
      ]
     },
     "metadata": {},
     "output_type": "display_data"
    }
   ],
   "source": [
    "colo_classes = list(map(lambda x: classes[x], koppen_colo_data + 1))\n",
    "type_counts = pd.Series(colo_classes) \\\n",
    "                .value_counts(normalize=True)\\\n",
    "                .rename('percentage').mul(100)\\\n",
    "                .sort_values(ascending=False)\\\n",
    "                .reset_index()\n",
    "sns.barplot(x='index', y='percentage', data=type_counts, color=sns.color_palette()[0])"
   ]
  },
  {
   "cell_type": "code",
   "execution_count": 143,
   "metadata": {},
   "outputs": [
    {
     "data": {
      "text/plain": [
       "<matplotlib.axes._subplots.AxesSubplot at 0x12b2c3c18>"
      ]
     },
     "execution_count": 143,
     "metadata": {},
     "output_type": "execute_result"
    },
    {
     "data": {
      "image/png": "[encoded data removed]",
      "text/plain": [
       "<Figure size 432x288 with 1 Axes>"
      ]
     },
     "metadata": {},
     "output_type": "display_data"
    }
   ],
   "source": [
    "tuol_classes = colo_classes = list(map(lambda x: classes[x], koppen_tuol_data + 1))\n",
    "\n",
    "type_counts = pd.Series(tuol_classes) \\\n",
    "                .value_counts(normalize=True)\\\n",
    "                .rename('percentage').mul(100)\\\n",
    "                .sort_values(ascending=False)\\\n",
    "                .reset_index()\n",
    "sns.barplot(x='index', y='percentage', data=type_counts, color=sns.color_palette()[0])"
   ]
  },
  {
   "cell_type": "code",
   "execution_count": 136,
   "metadata": {},
   "outputs": [
    {
     "data": {
      "text/plain": [
       "(0.12156862745098039, 0.4666666666666667, 0.7058823529411765)"
      ]
     },
     "execution_count": 136,
     "metadata": {},
     "output_type": "execute_result"
    }
   ],
   "source": [
    "sns.color_palette()[0]"
   ]
  },
  {
   "cell_type": "code",
   "execution_count": 69,
   "metadata": {},
   "outputs": [
    {
     "data": {
      "text/plain": [
       "'Dfc'"
      ]
     },
     "execution_count": 69,
     "metadata": {},
     "output_type": "execute_result"
    }
   ],
   "source": [
    "classes[20-1]"
   ]
  },
  {
   "cell_type": "code",
   "execution_count": 65,
   "metadata": {},
   "outputs": [
    {
     "ename": "NameError",
     "evalue": "name 'np' is not defined",
     "output_type": "error",
     "traceback": [
      "\u001b[0;31m---------------------------------------------------------------------------\u001b[0m",
      "\u001b[0;31mNameError\u001b[0m                                 Traceback (most recent call last)",
      "\u001b[0;32m<ipython-input-65-db02150d81ca>\u001b[0m in \u001b[0;36m<module>\u001b[0;34m()\u001b[0m\n\u001b[0;32m----> 1\u001b[0;31m \u001b[0mnp\u001b[0m\u001b[0;34m.\u001b[0m\u001b[0mmap\u001b[0m\u001b[0;34m\u001b[0m\u001b[0;34m\u001b[0m\u001b[0m\n\u001b[0m",
      "\u001b[0;31mNameError\u001b[0m: name 'np' is not defined"
     ]
    }
   ],
   "source": [
    "np.map"
   ]
  },
  {
   "cell_type": "code",
   "execution_count": null,
   "metadata": {},
   "outputs": [],
   "source": []
  }
 ],
 "metadata": {
  "kernelspec": {
   "display_name": "Python [conda env:process_results]",
   "language": "python",
   "name": "conda-env-process_results-py"
  },
  "language_info": {
   "codemirror_mode": {
    "name": "ipython",
    "version": 3
   },
   "file_extension": ".py",
   "mimetype": "text/x-python",
   "name": "python",
   "nbconvert_exporter": "python",
   "pygments_lexer": "ipython3",
   "version": "3.6.8"
  }
 },
 "nbformat": 4,
 "nbformat_minor": 2
}
