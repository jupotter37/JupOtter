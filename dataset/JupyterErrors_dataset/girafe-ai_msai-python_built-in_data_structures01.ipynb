{
 "cells": [
  {
   "cell_type": "code",
   "execution_count": null,
   "metadata": {
    "id": "f3geqZyCxcZU"
   },
   "outputs": [],
   "source": [
    "from IPython.core.interactiveshell import InteractiveShell\n",
    "InteractiveShell.ast_node_interactivity = \"all\""
   ]
  },
  {
   "cell_type": "markdown",
   "metadata": {
    "id": "3Y78MsRx0kPC"
   },
   "source": [
    "# Today:\n",
    "\n",
    "- None\n",
    "- bool\n",
    "- list + methods, slices\n",
    "- tuple, immutable objects\n",
    "- dict + methods\n",
    "- set + methods\n",
    "- frozenset"
   ]
  },
  {
   "cell_type": "markdown",
   "metadata": {
    "id": "eh9leeboxcZf"
   },
   "source": [
    "## None"
   ]
  },
  {
   "cell_type": "code",
   "execution_count": null,
   "metadata": {
    "id": "kO_RDFQz6NUl"
   },
   "outputs": [],
   "source": [
    "database = None"
   ]
  },
  {
   "cell_type": "code",
   "execution_count": null,
   "metadata": {
    "id": "fMWNq1EO0tUC"
   },
   "outputs": [],
   "source": [
    "None"
   ]
  },
  {
   "cell_type": "code",
   "execution_count": null,
   "metadata": {
    "id": "-brVZqfH6Zfe"
   },
   "outputs": [],
   "source": [
    "print(database)"
   ]
  },
  {
   "cell_type": "code",
   "execution_count": null,
   "metadata": {
    "id": "yJs4Rczy0xoV"
   },
   "outputs": [],
   "source": [
    "type(None)"
   ]
  },
  {
   "cell_type": "code",
   "execution_count": null,
   "metadata": {
    "id": "bhknLjEu6pWU"
   },
   "outputs": [],
   "source": [
    "a = None\n",
    "b = None\n",
    "a is b"
   ]
  },
  {
   "cell_type": "markdown",
   "metadata": {
    "id": "vrL84YSwxcZh"
   },
   "source": [
    "## Containers"
   ]
  },
  {
   "cell_type": "code",
   "execution_count": null,
   "metadata": {
    "id": "YaIhD2fSxcZi"
   },
   "outputs": [],
   "source": [
    "s = 'abcdef'                # str\n",
    "l = [1, 2, 2.5, 'abc']      # list\n",
    "t = (42, 41, True)          # tuple\n",
    "se = {1, 2, 3}              # set\n",
    "d = {1: 2, 'key': 'value'}  # dict"
   ]
  },
  {
   "cell_type": "code",
   "execution_count": null,
   "metadata": {
    "colab": {
     "base_uri": "https://localhost:8080/"
    },
    "id": "C6AHZXnRicJv",
    "outputId": "cb7a8c83-c645-42b3-e3a8-3eae542d859e"
   },
   "outputs": [
    {
     "data": {
      "text/plain": [
       "[2, 'value']"
      ]
     },
     "execution_count": 111,
     "metadata": {},
     "output_type": "execute_result"
    }
   ],
   "source": [
    "list(d.values())"
   ]
  },
  {
   "cell_type": "code",
   "execution_count": null,
   "metadata": {
    "id": "BWBNPVqr8Kxt"
   },
   "outputs": [],
   "source": [
    "print(type(s))\n",
    "print(type(l))\n",
    "print(type(t))\n",
    "print(type(se))\n",
    "print(type(d))"
   ]
  },
  {
   "cell_type": "code",
   "execution_count": null,
   "metadata": {
    "id": "0lboanTcxcZi"
   },
   "outputs": [],
   "source": [
    "type(s)\n",
    "type(l)\n",
    "type(t)\n",
    "type(s)\n",
    "type(d)"
   ]
  },
  {
   "cell_type": "code",
   "execution_count": null,
   "metadata": {
    "id": "3gEix-8T8vAv"
   },
   "outputs": [],
   "source": [
    "l = [1, 2, 2.5, 'abc']\n",
    "l"
   ]
  },
  {
   "cell_type": "code",
   "execution_count": null,
   "metadata": {
    "id": "sK_tqeY1xcZi"
   },
   "outputs": [],
   "source": [
    "# List\n",
    "l[1] = 378272\n",
    "print(l)\n",
    "l[-1] = 'cba'\n",
    "print(l)\n",
    "\n",
    "len(l)"
   ]
  },
  {
   "cell_type": "code",
   "execution_count": null,
   "metadata": {
    "id": "UU6q5aM-9bqr"
   },
   "outputs": [],
   "source": [
    "t"
   ]
  },
  {
   "cell_type": "code",
   "execution_count": null,
   "metadata": {
    "colab": {
     "base_uri": "https://localhost:8080/"
    },
    "id": "_n12MUYC96MR",
    "outputId": "ace899e5-b7cf-4e36-b344-28b0ed21266b"
   },
   "outputs": [
    {
     "name": "stdout",
     "output_type": "stream",
     "text": [
      "140448273090480\n",
      "140448274483312\n",
      "Strings are immutable objects!\n"
     ]
    }
   ],
   "source": [
    "string = 'sojfbgisehbgoh piau npseunrb'\n",
    "print(id(string))\n",
    "string = string[:6]\n",
    "print(id(string))\n",
    "\n",
    "print('Strings are immutable objects!')"
   ]
  },
  {
   "cell_type": "code",
   "execution_count": null,
   "metadata": {
    "colab": {
     "base_uri": "https://localhost:8080/",
     "height": 194
    },
    "id": "Z-e8poPExcZi",
    "outputId": "47bc2ba2-bc23-4983-f3e1-109d9ffde207",
    "scrolled": true
   },
   "outputs": [
    {
     "ename": "TypeError",
     "evalue": "ignored",
     "output_type": "error",
     "traceback": [
      "\u001b[0;31m---------------------------------------------------------------------------\u001b[0m",
      "\u001b[0;31mTypeError\u001b[0m                                 Traceback (most recent call last)",
      "\u001b[0;32m<ipython-input-29-0ac23e849d51>\u001b[0m in \u001b[0;36m<module>\u001b[0;34m\u001b[0m\n\u001b[1;32m      1\u001b[0m \u001b[0mt\u001b[0m \u001b[0;34m=\u001b[0m \u001b[0;34m(\u001b[0m\u001b[0;34m'i'\u001b[0m\u001b[0;34m,\u001b[0m \u001b[0;34m'cannot'\u001b[0m\u001b[0;34m,\u001b[0m \u001b[0;34m'be'\u001b[0m\u001b[0;34m,\u001b[0m \u001b[0;34m'modified'\u001b[0m\u001b[0;34m)\u001b[0m\u001b[0;34m\u001b[0m\u001b[0;34m\u001b[0m\u001b[0m\n\u001b[0;32m----> 2\u001b[0;31m \u001b[0mt\u001b[0m\u001b[0;34m[\u001b[0m\u001b[0;36m1\u001b[0m\u001b[0;34m]\u001b[0m \u001b[0;34m=\u001b[0m \u001b[0;34m'can'\u001b[0m\u001b[0;34m\u001b[0m\u001b[0;34m\u001b[0m\u001b[0m\n\u001b[0m",
      "\u001b[0;31mTypeError\u001b[0m: 'tuple' object does not support item assignment"
     ]
    }
   ],
   "source": [
    "t = ('i', 'cannot', 'be', 'modified')\n",
    "t[1] = 'can'"
   ]
  },
  {
   "cell_type": "code",
   "execution_count": null,
   "metadata": {
    "colab": {
     "base_uri": "https://localhost:8080/"
    },
    "id": "22o4PkWVxcZi",
    "outputId": "491be20a-2b20-4433-f0dd-eb402fe5dd46"
   },
   "outputs": [
    {
     "data": {
      "text/plain": [
       "tuple"
      ]
     },
     "execution_count": 31,
     "metadata": {},
     "output_type": "execute_result"
    }
   ],
   "source": [
    "empty_tuple = ()\n",
    "type(empty_tuple)"
   ]
  },
  {
   "cell_type": "code",
   "execution_count": null,
   "metadata": {
    "colab": {
     "base_uri": "https://localhost:8080/"
    },
    "id": "JhvYh4FPxcZi",
    "outputId": "40b7f4a8-bc30-4e0a-8fad-efadf31bdb0d"
   },
   "outputs": [
    {
     "data": {
      "text/plain": [
       "{'a': 1, 'b': 4, 'c': 3}"
      ]
     },
     "execution_count": 33,
     "metadata": {},
     "output_type": "execute_result"
    }
   ],
   "source": [
    "# Dictionary: \n",
    "d = {'a': 1, 'b': 2, 'c': 3}\n",
    "d['b'] = 4  # mutable\n",
    "d"
   ]
  },
  {
   "cell_type": "code",
   "execution_count": null,
   "metadata": {
    "colab": {
     "base_uri": "https://localhost:8080/"
    },
    "id": "s-49mT1txcZi",
    "outputId": "6f408ca9-0d8e-49bc-ba96-2c029a28da17"
   },
   "outputs": [
    {
     "data": {
      "text/plain": [
       "{1, 2, 3}"
      ]
     },
     "execution_count": 34,
     "metadata": {},
     "output_type": "execute_result"
    }
   ],
   "source": [
    "# Set\n",
    "{3, 3, 3, 1, 1, 1, 2, 2, 2, 3, 3, 3}"
   ]
  },
  {
   "cell_type": "code",
   "execution_count": null,
   "metadata": {
    "colab": {
     "base_uri": "https://localhost:8080/"
    },
    "id": "gywCpiG2xcZi",
    "outputId": "da51b743-5ff6-4dde-c7a8-33e2912540da"
   },
   "outputs": [
    {
     "data": {
      "text/plain": [
       "dict"
      ]
     },
     "execution_count": 35,
     "metadata": {},
     "output_type": "execute_result"
    }
   ],
   "source": [
    "empty_what = {}\n",
    "type(empty_what)"
   ]
  },
  {
   "cell_type": "code",
   "execution_count": null,
   "metadata": {
    "colab": {
     "base_uri": "https://localhost:8080/"
    },
    "collapsed": true,
    "id": "moRCzwnyxcZj",
    "outputId": "33ea9669-0af3-4844-deb1-4a105dec8100"
   },
   "outputs": [
    {
     "data": {
      "text/plain": [
       "({}, set())"
      ]
     },
     "execution_count": 37,
     "metadata": {},
     "output_type": "execute_result"
    }
   ],
   "source": [
    "empty_dict = {}\n",
    "empty_set = set()\n",
    "empty_dict, empty_set"
   ]
  },
  {
   "cell_type": "code",
   "execution_count": null,
   "metadata": {
    "colab": {
     "base_uri": "https://localhost:8080/"
    },
    "id": "MQ9xHVQmADuo",
    "outputId": "d2797655-687e-46e2-f48c-46ba3a041461"
   },
   "outputs": [
    {
     "data": {
      "text/plain": [
       "{}"
      ]
     },
     "execution_count": 38,
     "metadata": {},
     "output_type": "execute_result"
    }
   ],
   "source": [
    "empty_dict"
   ]
  },
  {
   "cell_type": "code",
   "execution_count": null,
   "metadata": {
    "colab": {
     "base_uri": "https://localhost:8080/"
    },
    "id": "KIqTnEQ3AHQb",
    "outputId": "55f33915-959a-4189-d235-22548bb58431"
   },
   "outputs": [
    {
     "data": {
      "text/plain": [
       "set()"
      ]
     },
     "execution_count": 39,
     "metadata": {},
     "output_type": "execute_result"
    }
   ],
   "source": [
    "empty_set"
   ]
  },
  {
   "cell_type": "code",
   "execution_count": null,
   "metadata": {
    "colab": {
     "base_uri": "https://localhost:8080/"
    },
    "id": "fxGnB9nqAbFa",
    "outputId": "116c9ac8-43d6-4494-b8e9-d823d2e4f918"
   },
   "outputs": [
    {
     "data": {
      "text/plain": [
       "({}, set(), {}, {}, {}, {})"
      ]
     },
     "execution_count": 43,
     "metadata": {},
     "output_type": "execute_result"
    }
   ],
   "source": [
    "empty_dict, empty_set, empty_dict, empty_dict, empty_dict, empty_dict"
   ]
  },
  {
   "cell_type": "code",
   "execution_count": null,
   "metadata": {
    "colab": {
     "base_uri": "https://localhost:8080/"
    },
    "id": "S_YZTeeEAOlc",
    "outputId": "b1f0279b-8d6b-4fec-a969-c4e9f1b8185d"
   },
   "outputs": [
    {
     "data": {
      "text/plain": [
       "tuple"
      ]
     },
     "execution_count": 42,
     "metadata": {},
     "output_type": "execute_result"
    }
   ],
   "source": [
    "type((empty_dict, empty_set, empty_dict, empty_dict, empty_dict, empty_dict))"
   ]
  },
  {
   "cell_type": "code",
   "execution_count": null,
   "metadata": {
    "colab": {
     "base_uri": "https://localhost:8080/"
    },
    "id": "hP7mYLvpxcZk",
    "outputId": "b2b5efdf-9bd0-4a37-8d2c-9d5535428324"
   },
   "outputs": [
    {
     "name": "stdout",
     "output_type": "stream",
     "text": [
      "100000000\n",
      "150.0\n",
      "inf\n",
      "nan\n"
     ]
    }
   ],
   "source": [
    "# Features of float numbers\n",
    "\n",
    "num = 100_000_000\n",
    "print(num)\n",
    "\n",
    "num = 1.5e2\n",
    "print(num)\n",
    "\n",
    "num = float('inf')\n",
    "print(num)\n",
    "\n",
    "num = float('nan')  # not a number\n",
    "print(num)"
   ]
  },
  {
   "cell_type": "code",
   "execution_count": null,
   "metadata": {
    "colab": {
     "base_uri": "https://localhost:8080/"
    },
    "id": "AptdMXYAxcZk",
    "outputId": "812b2eed-3938-46dc-9d20-0e00a048124e"
   },
   "outputs": [
    {
     "name": "stdout",
     "output_type": "stream",
     "text": [
      "(4+0j)\n",
      "(5+1j)\n",
      "5.0\n",
      "1.0\n"
     ]
    }
   ],
   "source": [
    "# Complex numbers\n",
    "\n",
    "num = complex(4)\n",
    "print(num)\n",
    "\n",
    "num = 5 + 1j\n",
    "print(num)\n",
    "\n",
    "print(num.real)\n",
    "print(num.imag)"
   ]
  },
  {
   "cell_type": "code",
   "execution_count": null,
   "metadata": {
    "colab": {
     "base_uri": "https://localhost:8080/"
    },
    "id": "z_wIcRb_xcZk",
    "outputId": "a61e6f53-7c91-4891-acef-fb0874ca1797"
   },
   "outputs": [
    {
     "data": {
      "text/plain": [
       "{1, 2, 5, 6}"
      ]
     },
     "execution_count": 46,
     "metadata": {},
     "output_type": "execute_result"
    }
   ],
   "source": [
    "l = [1, 2, 1, 5, 5, 6]\n",
    "l_set = set(l)\n",
    "l_set"
   ]
  },
  {
   "cell_type": "code",
   "execution_count": null,
   "metadata": {
    "colab": {
     "base_uri": "https://localhost:8080/"
    },
    "id": "hbbAYB-QBpNa",
    "outputId": "c3cacf4c-ec4b-471d-bc3e-a82b7937a8ad"
   },
   "outputs": [
    {
     "data": {
      "text/plain": [
       "[1, 2, 5, 6]"
      ]
     },
     "execution_count": 49,
     "metadata": {},
     "output_type": "execute_result"
    }
   ],
   "source": [
    "l_list = list(l_set)\n",
    "l_list"
   ]
  },
  {
   "cell_type": "code",
   "execution_count": null,
   "metadata": {
    "colab": {
     "base_uri": "https://localhost:8080/"
    },
    "id": "iilSwAU_xcZk",
    "outputId": "5cd062ef-f29f-4975-eed8-4534ee22d751"
   },
   "outputs": [
    {
     "data": {
      "text/plain": [
       "[1, 5]"
      ]
     },
     "execution_count": 47,
     "metadata": {},
     "output_type": "execute_result"
    }
   ],
   "source": [
    "t = (1, 5)\n",
    "list(t)"
   ]
  },
  {
   "cell_type": "code",
   "execution_count": null,
   "metadata": {
    "colab": {
     "base_uri": "https://localhost:8080/"
    },
    "id": "79F0nn7ExcZk",
    "outputId": "b9c49621-0f5e-44c6-f847-86b1a35fdba7"
   },
   "outputs": [
    {
     "data": {
      "text/plain": [
       "(('a', 'b', 'a', 'b'), ['a', 'b', 'a', 'b'], {'a', 'b'})"
      ]
     },
     "execution_count": 51,
     "metadata": {},
     "output_type": "execute_result"
    }
   ],
   "source": [
    "s = \"abab\"\n",
    "tuple(s), list(s), set(s)"
   ]
  },
  {
   "cell_type": "code",
   "execution_count": null,
   "metadata": {
    "colab": {
     "base_uri": "https://localhost:8080/"
    },
    "id": "i4t44rjGxcZk",
    "outputId": "7f3d429d-d886-475b-e83e-998ff5a82931"
   },
   "outputs": [
    {
     "name": "stdout",
     "output_type": "stream",
     "text": [
      "1 <class 'int'>\n",
      "(1,) <class 'tuple'>\n"
     ]
    }
   ],
   "source": [
    "# Peculiarity of tuple\n",
    "\n",
    "tup = (1)\n",
    "print(tup, type(tup))\n",
    "\n",
    "tup = (1,)\n",
    "print(tup, type(tup))"
   ]
  },
  {
   "cell_type": "markdown",
   "metadata": {
    "id": "3pN2q0D7Cu7I"
   },
   "source": [
    "# Bool"
   ]
  },
  {
   "cell_type": "code",
   "execution_count": null,
   "metadata": {
    "colab": {
     "base_uri": "https://localhost:8080/"
    },
    "id": "hnDxs5EhCi2e",
    "outputId": "e4bc74c5-356b-47cb-c7b1-1aa5ca3e8b29"
   },
   "outputs": [
    {
     "data": {
      "text/plain": [
       "True"
      ]
     },
     "execution_count": 55,
     "metadata": {},
     "output_type": "execute_result"
    }
   ],
   "source": [
    "t = True\n",
    "t"
   ]
  },
  {
   "cell_type": "code",
   "execution_count": null,
   "metadata": {
    "colab": {
     "base_uri": "https://localhost:8080/"
    },
    "id": "xND1MlPmCqVI",
    "outputId": "2dc4ddca-cea2-48d9-f42f-c7c7645bd847"
   },
   "outputs": [
    {
     "data": {
      "text/plain": [
       "False"
      ]
     },
     "execution_count": 56,
     "metadata": {},
     "output_type": "execute_result"
    }
   ],
   "source": [
    "f = False\n",
    "f"
   ]
  },
  {
   "cell_type": "code",
   "execution_count": null,
   "metadata": {
    "colab": {
     "base_uri": "https://localhost:8080/"
    },
    "id": "McxsVZ6nCx1l",
    "outputId": "d77fcd89-0686-4fa1-a46b-2b3625e1c7f7"
   },
   "outputs": [
    {
     "data": {
      "text/plain": [
       "bool"
      ]
     },
     "execution_count": 57,
     "metadata": {},
     "output_type": "execute_result"
    }
   ],
   "source": [
    "type(t)"
   ]
  },
  {
   "cell_type": "markdown",
   "metadata": {
    "id": "ABE2n5IgxcZk"
   },
   "source": [
    "## Conversion to bool"
   ]
  },
  {
   "cell_type": "code",
   "execution_count": null,
   "metadata": {
    "colab": {
     "base_uri": "https://localhost:8080/"
    },
    "id": "R_hUth6CxcZk",
    "outputId": "38364a82-885e-4a1c-9d1b-e9a60124e680"
   },
   "outputs": [
    {
     "name": "stdout",
     "output_type": "stream",
     "text": [
      "False\n",
      "True\n",
      "True\n"
     ]
    }
   ],
   "source": [
    "print(bool(0))\n",
    "print(bool(1))\n",
    "print(bool(-2))"
   ]
  },
  {
   "cell_type": "code",
   "execution_count": null,
   "metadata": {
    "colab": {
     "base_uri": "https://localhost:8080/"
    },
    "id": "QQI6RY90xcZk",
    "outputId": "7b1cc41f-d060-4bd2-a2a1-5d75fc9b5432"
   },
   "outputs": [
    {
     "name": "stdout",
     "output_type": "stream",
     "text": [
      "False\n",
      "True\n",
      "True\n"
     ]
    }
   ],
   "source": [
    "print(bool(0.0))\n",
    "print(bool(-12.3))\n",
    "print(bool(24.1))"
   ]
  },
  {
   "cell_type": "code",
   "execution_count": null,
   "metadata": {
    "colab": {
     "base_uri": "https://localhost:8080/"
    },
    "id": "UFFHzPE_xcZl",
    "outputId": "eed2450f-b581-43de-8694-5b266d3e7c9f"
   },
   "outputs": [
    {
     "name": "stdout",
     "output_type": "stream",
     "text": [
      "False\n",
      "True\n"
     ]
    }
   ],
   "source": [
    "print(bool(''))\n",
    "print(bool('abc'))"
   ]
  },
  {
   "cell_type": "code",
   "execution_count": null,
   "metadata": {
    "colab": {
     "base_uri": "https://localhost:8080/"
    },
    "id": "qeT484AZxcZl",
    "outputId": "a96160b9-cf6d-4218-a908-777c759e0164"
   },
   "outputs": [
    {
     "name": "stdout",
     "output_type": "stream",
     "text": [
      "True\n",
      "False\n"
     ]
    }
   ],
   "source": [
    "print(bool((1, 2)))\n",
    "print(bool(()))"
   ]
  },
  {
   "cell_type": "code",
   "execution_count": null,
   "metadata": {
    "colab": {
     "base_uri": "https://localhost:8080/"
    },
    "id": "3iIaPvAhxcZl",
    "outputId": "d9a49ec4-df8f-4721-9fb2-c07cba256635"
   },
   "outputs": [
    {
     "name": "stdout",
     "output_type": "stream",
     "text": [
      "True\n",
      "False\n",
      "True\n",
      "False\n",
      "True\n",
      "False\n"
     ]
    }
   ],
   "source": [
    "print(bool(['x', 'y',]))\n",
    "print(bool([]))\n",
    "print(bool({12.5, 45.7}))\n",
    "print(bool(set()))\n",
    "print(bool({'a': 1, 'b': 2, 'c': 3}))\n",
    "print(bool({}))"
   ]
  },
  {
   "cell_type": "code",
   "execution_count": null,
   "metadata": {
    "colab": {
     "base_uri": "https://localhost:8080/"
    },
    "id": "or9PTvxKD-P3",
    "outputId": "e2d94fcd-e01f-4f26-ba7e-fc3c6cad6ea4"
   },
   "outputs": [
    {
     "name": "stdout",
     "output_type": "stream",
     "text": [
      "0\n"
     ]
    }
   ],
   "source": [
    "if []:\n",
    "    print(1)\n",
    "else:\n",
    "    print(0)"
   ]
  },
  {
   "cell_type": "markdown",
   "metadata": {
    "id": "GuaMNxCXxcZl"
   },
   "source": [
    "## Comparisons"
   ]
  },
  {
   "cell_type": "code",
   "execution_count": null,
   "metadata": {
    "colab": {
     "base_uri": "https://localhost:8080/"
    },
    "id": "3YT65KlgxcZl",
    "outputId": "8f806bd0-a044-47c6-fc85-05cc935088ff"
   },
   "outputs": [
    {
     "data": {
      "text/plain": [
       "True"
      ]
     },
     "execution_count": 68,
     "metadata": {},
     "output_type": "execute_result"
    }
   ],
   "source": [
    "3 > 1"
   ]
  },
  {
   "cell_type": "code",
   "execution_count": null,
   "metadata": {
    "colab": {
     "base_uri": "https://localhost:8080/"
    },
    "id": "ul5CjqdZxcZl",
    "outputId": "d909d1b4-0081-4ca7-b5a1-610bf45c5f99"
   },
   "outputs": [
    {
     "data": {
      "text/plain": [
       "True"
      ]
     },
     "execution_count": 69,
     "metadata": {},
     "output_type": "execute_result"
    }
   ],
   "source": [
    "2 <= 5"
   ]
  },
  {
   "cell_type": "code",
   "execution_count": null,
   "metadata": {
    "colab": {
     "base_uri": "https://localhost:8080/"
    },
    "id": "CY_ekkq3xcZl",
    "outputId": "82256235-79cd-4287-aede-7a6411ec1829"
   },
   "outputs": [
    {
     "name": "stdout",
     "output_type": "stream",
     "text": [
      "False\n",
      "True\n"
     ]
    }
   ],
   "source": [
    "print(1 == -1)\n",
    "print(1 == 1)"
   ]
  },
  {
   "cell_type": "code",
   "execution_count": null,
   "metadata": {
    "colab": {
     "base_uri": "https://localhost:8080/"
    },
    "id": "4JjCdz7dxcZl",
    "outputId": "00cb59c9-6550-41d6-ff99-664cee7cd1b8"
   },
   "outputs": [
    {
     "name": "stdout",
     "output_type": "stream",
     "text": [
      "True\n",
      "False\n"
     ]
    }
   ],
   "source": [
    "print(1 != -1)\n",
    "print(1 != 1)"
   ]
  },
  {
   "cell_type": "code",
   "execution_count": null,
   "metadata": {
    "colab": {
     "base_uri": "https://localhost:8080/"
    },
    "id": "tSbRdW1fxcZl",
    "outputId": "c7a2e73d-7a17-4031-c098-a0883f4f3cb3"
   },
   "outputs": [
    {
     "data": {
      "text/plain": [
       "False"
      ]
     },
     "execution_count": 75,
     "metadata": {},
     "output_type": "execute_result"
    }
   ],
   "source": [
    "'a' > 'b'  # strings are compared lexicographically: by letter number in the alphabet"
   ]
  },
  {
   "cell_type": "code",
   "execution_count": null,
   "metadata": {
    "colab": {
     "base_uri": "https://localhost:8080/"
    },
    "id": "No_BIFRpxcZm",
    "outputId": "4af11b30-6280-4446-c963-9b1bdbcc5fc3"
   },
   "outputs": [
    {
     "data": {
      "text/plain": [
       "False"
      ]
     },
     "execution_count": 76,
     "metadata": {},
     "output_type": "execute_result"
    }
   ],
   "source": [
    "'aa' > 'ab'  # letters are compared in order"
   ]
  },
  {
   "cell_type": "code",
   "execution_count": null,
   "metadata": {
    "colab": {
     "base_uri": "https://localhost:8080/"
    },
    "id": "Jvmrt7TXEvIF",
    "outputId": "9c65dde8-7d81-474d-af8b-6ec1ea76650e"
   },
   "outputs": [
    {
     "data": {
      "text/plain": [
       "False"
      ]
     },
     "execution_count": 77,
     "metadata": {},
     "output_type": "execute_result"
    }
   ],
   "source": [
    "'A' > 'a'"
   ]
  },
  {
   "cell_type": "markdown",
   "metadata": {
    "id": "RWXVi4AMxcZm"
   },
   "source": [
    "## Boolean algebra\n",
    "\n",
    "A     | B     | A or B | A and B \n",
    "----- | ----- | ------ | -----\n",
    "False | False | False  | False\n",
    "False | True  | True   | False\n",
    "True  | False | True   | False\n",
    "True  | True  | True   | True "
   ]
  },
  {
   "cell_type": "code",
   "execution_count": null,
   "metadata": {
    "colab": {
     "base_uri": "https://localhost:8080/"
    },
    "id": "mf1EXhudxcZm",
    "outputId": "95022f3a-188d-4410-c59b-6a8272d991d6"
   },
   "outputs": [
    {
     "data": {
      "text/plain": [
       "False"
      ]
     },
     "execution_count": 79,
     "metadata": {},
     "output_type": "execute_result"
    }
   ],
   "source": [
    "True and False"
   ]
  },
  {
   "cell_type": "code",
   "execution_count": null,
   "metadata": {
    "colab": {
     "base_uri": "https://localhost:8080/"
    },
    "id": "3IzPr4kvFIn3",
    "outputId": "485838cb-2190-42c6-d5c3-9fecc6995a56"
   },
   "outputs": [
    {
     "data": {
      "text/plain": [
       "False"
      ]
     },
     "execution_count": 80,
     "metadata": {},
     "output_type": "execute_result"
    }
   ],
   "source": [
    "True and False and True and True and True and True and True"
   ]
  },
  {
   "cell_type": "code",
   "execution_count": null,
   "metadata": {
    "colab": {
     "base_uri": "https://localhost:8080/"
    },
    "id": "LACSI80CFMun",
    "outputId": "3f19245b-6591-4c00-dff0-01cc07ab81e3"
   },
   "outputs": [
    {
     "data": {
      "text/plain": [
       "True"
      ]
     },
     "execution_count": 81,
     "metadata": {},
     "output_type": "execute_result"
    }
   ],
   "source": [
    "True and True and True and True and True and True and True"
   ]
  },
  {
   "cell_type": "code",
   "execution_count": null,
   "metadata": {
    "colab": {
     "base_uri": "https://localhost:8080/"
    },
    "id": "90sY7H4axcZm",
    "outputId": "a9b894b3-9e05-4e43-a479-52f48c50b7ba"
   },
   "outputs": [
    {
     "data": {
      "text/plain": [
       "True"
      ]
     },
     "execution_count": 82,
     "metadata": {},
     "output_type": "execute_result"
    }
   ],
   "source": [
    "True or False"
   ]
  },
  {
   "cell_type": "code",
   "execution_count": null,
   "metadata": {
    "colab": {
     "base_uri": "https://localhost:8080/"
    },
    "id": "EYMeWbZBFUKs",
    "outputId": "35f7051f-affc-4dce-c053-832c0e2feba6"
   },
   "outputs": [
    {
     "data": {
      "text/plain": [
       "True"
      ]
     },
     "execution_count": 83,
     "metadata": {},
     "output_type": "execute_result"
    }
   ],
   "source": [
    "True or False or True or True or True or True or True"
   ]
  },
  {
   "cell_type": "code",
   "execution_count": null,
   "metadata": {
    "colab": {
     "base_uri": "https://localhost:8080/"
    },
    "id": "Txbj0cj6FbEl",
    "outputId": "be160e00-bc4d-474e-b3ad-b342ccfc0edf"
   },
   "outputs": [
    {
     "data": {
      "text/plain": [
       "False"
      ]
     },
     "execution_count": 85,
     "metadata": {},
     "output_type": "execute_result"
    }
   ],
   "source": [
    "False or False or False or False or False "
   ]
  },
  {
   "cell_type": "code",
   "execution_count": null,
   "metadata": {
    "colab": {
     "base_uri": "https://localhost:8080/"
    },
    "id": "LNFHXD3cxcZm",
    "outputId": "3cd2a061-173d-4cbb-96de-0b74cc3ebfc9"
   },
   "outputs": [
    {
     "data": {
      "text/plain": [
       "(False, True)"
      ]
     },
     "execution_count": 87,
     "metadata": {},
     "output_type": "execute_result"
    }
   ],
   "source": [
    "not True, not False"
   ]
  },
  {
   "cell_type": "markdown",
   "metadata": {
    "id": "TtjmgNNQxcZm"
   },
   "source": [
    "Applicable to objects!\n",
    "\n",
    "\n",
    "bool(A) | bool(B) | A or B | A and B \n",
    "------- | ------- | ------ | --- \n",
    "False   | -       | B      | A\n",
    "True    | -       | A      | B"
   ]
  },
  {
   "cell_type": "code",
   "execution_count": null,
   "metadata": {
    "colab": {
     "base_uri": "https://localhost:8080/"
    },
    "id": "Az41wHEOxcZm",
    "outputId": "3d789f22-6ce8-4b0b-ec7f-bfdf704cf0ce"
   },
   "outputs": [
    {
     "data": {
      "text/plain": [
       "[]"
      ]
     },
     "execution_count": 88,
     "metadata": {},
     "output_type": "execute_result"
    }
   ],
   "source": [
    "[] and [1]"
   ]
  },
  {
   "cell_type": "code",
   "execution_count": null,
   "metadata": {
    "colab": {
     "base_uri": "https://localhost:8080/",
     "height": 36
    },
    "id": "LZUGpuwoxcZm",
    "outputId": "d045f925-3c89-4103-add6-7d71b6c99852"
   },
   "outputs": [
    {
     "data": {
      "application/vnd.google.colaboratory.intrinsic+json": {
       "type": "string"
      },
      "text/plain": [
       "'spam'"
      ]
     },
     "execution_count": 89,
     "metadata": {},
     "output_type": "execute_result"
    }
   ],
   "source": [
    "'' or 'spam'"
   ]
  },
  {
   "cell_type": "code",
   "execution_count": null,
   "metadata": {
    "id": "_Bltbf7qGEif"
   },
   "outputs": [],
   "source": [
    "n = None\n",
    "t = True\n",
    "f = False"
   ]
  },
  {
   "cell_type": "code",
   "execution_count": null,
   "metadata": {
    "colab": {
     "base_uri": "https://localhost:8080/"
    },
    "collapsed": true,
    "id": "8lGp7ShWxcZm",
    "outputId": "c9015ce9-5a9e-473d-adc9-b4e127066319"
   },
   "outputs": [
    {
     "name": "stdout",
     "output_type": "stream",
     "text": [
      "None\n"
     ]
    }
   ],
   "source": [
    "print(n and t)  # None and smth == None"
   ]
  },
  {
   "cell_type": "code",
   "execution_count": null,
   "metadata": {
    "colab": {
     "base_uri": "https://localhost:8080/"
    },
    "id": "uaOVVnT7xcZm",
    "outputId": "a3a4c5d9-d0ae-4c51-8490-9488f3fc2b60"
   },
   "outputs": [
    {
     "name": "stdout",
     "output_type": "stream",
     "text": [
      "False\n"
     ]
    }
   ],
   "source": [
    "print(n or f)  # None or smth == smth"
   ]
  },
  {
   "cell_type": "markdown",
   "metadata": {
    "id": "Vof4zSkR2KvL"
   },
   "source": [
    "### Files"
   ]
  },
  {
   "cell_type": "code",
   "execution_count": null,
   "metadata": {
    "colab": {
     "base_uri": "https://localhost:8080/"
    },
    "id": "AZajue5eG3ng",
    "outputId": "71df0c11-bd68-4aa6-e7db-ff12e2412730"
   },
   "outputs": [
    {
     "name": "stdout",
     "output_type": "stream",
     "text": [
      "/content\n"
     ]
    }
   ],
   "source": [
    "import os\n",
    "\n",
    "print(os.getcwd())"
   ]
  },
  {
   "cell_type": "code",
   "execution_count": null,
   "metadata": {
    "id": "l8C318e12Jku"
   },
   "outputs": [],
   "source": [
    "# Create file with name input.txt\n",
    "\n",
    "file_variable = open('input.txt', 'w')"
   ]
  },
  {
   "cell_type": "code",
   "execution_count": null,
   "metadata": {
    "id": "-JhJhFhTHdA0"
   },
   "outputs": [],
   "source": [
    "file_variable.write('asdf\\nghjk\\nqwer')\n",
    "file_variable.close()  # :("
   ]
  },
  {
   "cell_type": "code",
   "execution_count": null,
   "metadata": {
    "collapsed": true,
    "id": "mAJEDHN1xcZn"
   },
   "outputs": [],
   "source": [
    "# working with files\n",
    "\n",
    "file1 = open('input.txt', 'r')  # open file for reading\n",
    "file2 = open('output.txt', 'w')  # open file for writing\n",
    "\n",
    "# file = open('input.txt', 'a')  # open file for appending\n",
    "# file = open('input.txt', 'r+') # open file for reading and writing (read and write from the beginning)\n",
    "# file = open('input.txt', 'a+') # open file for reading and appending (read from the beginning, write below the last line)\n",
    "\n",
    "line  = file1.readline()  # reading a line\n",
    "lines = file1.readlines()  # reading all lines into list\n",
    "\n",
    "file1.close() # Closing file 1\n",
    "file2.close() # Closing file 2"
   ]
  },
  {
   "cell_type": "code",
   "execution_count": null,
   "metadata": {
    "colab": {
     "base_uri": "https://localhost:8080/",
     "height": 36
    },
    "id": "GBJ4yn71IWQF",
    "outputId": "ba667a09-6730-4fad-8557-c04859721f23"
   },
   "outputs": [
    {
     "data": {
      "application/vnd.google.colaboratory.intrinsic+json": {
       "type": "string"
      },
      "text/plain": [
       "'asdf\\n'"
      ]
     },
     "execution_count": 100,
     "metadata": {},
     "output_type": "execute_result"
    }
   ],
   "source": [
    "line"
   ]
  },
  {
   "cell_type": "code",
   "execution_count": null,
   "metadata": {
    "colab": {
     "base_uri": "https://localhost:8080/"
    },
    "id": "S0zFo2YoIhdA",
    "outputId": "c9fdf02a-87db-4f5c-cf9b-a14760efad57"
   },
   "outputs": [
    {
     "data": {
      "text/plain": [
       "['ghjk\\n', 'qwer']"
      ]
     },
     "execution_count": 101,
     "metadata": {},
     "output_type": "execute_result"
    }
   ],
   "source": [
    "lines"
   ]
  },
  {
   "cell_type": "code",
   "execution_count": null,
   "metadata": {
    "colab": {
     "base_uri": "https://localhost:8080/"
    },
    "id": "FQFd_ImyIxvK",
    "outputId": "9637be1a-3755-46b8-a9bb-ad4e6c03e95a"
   },
   "outputs": [
    {
     "name": "stdout",
     "output_type": "stream",
     "text": [
      "out of with operator\n",
      "['asdf\\n', 'ghjk\\n', 'qwer']\n"
     ]
    }
   ],
   "source": [
    "with open('input.txt') as file_object_name:\n",
    "    lines = file_object_name.readlines()\n",
    "\n",
    "\n",
    "print('out of with operator')\n",
    "print(lines)"
   ]
  },
  {
   "cell_type": "code",
   "execution_count": null,
   "metadata": {
    "colab": {
     "base_uri": "https://localhost:8080/"
    },
    "id": "MUPXk2GwxcZn",
    "outputId": "1f472a38-c583-435d-94e9-be831788d950"
   },
   "outputs": [
    {
     "name": "stdout",
     "output_type": "stream",
     "text": [
      "True\n",
      "True\n",
      "{True: 4}\n",
      "{False: 5}\n"
     ]
    }
   ],
   "source": [
    "# Be careful using boolean types as dictionary keys\n",
    "\n",
    "# Since\n",
    "print(True == 1)\n",
    "\n",
    "# And\n",
    "print(hash(True) == hash(1))\n",
    "\n",
    "# So when creating such a dictionary we get something bad\n",
    "print({True: 2, 1: 4})\n",
    "\n",
    "# The same with False and 0\n",
    "print({False: 1, 0: 5})"
   ]
  },
  {
   "cell_type": "markdown",
   "metadata": {
    "collapsed": true,
    "id": "knhVK3jzxcZn"
   },
   "source": [
    "## Useful links"
   ]
  },
  {
   "cell_type": "markdown",
   "metadata": {
    "id": "kcO048U0xcZn"
   },
   "source": [
    "https://docs.python.org/3/ - Python3 Documentation.\n",
    "\n",
    "https://www.python.org/dev/peps/pep-0008/ - PEP 8, Style Guide for Python Code.\n",
    "\n",
    "https://pypi.org/ - Python Package Index.\n",
    "\n",
    "https://github.com/vinta/awesome-python - A curated list of awesome Python frameworks, libraries, software and resources.\n",
    "\n",
    "https://www.pythoncheatsheet.org/ - Python Cheatsheet.\n",
    "\n",
    "https://pythonworld.ru/samouchitel-python - Teach-yourself book (in russian).\n",
    "\n",
    "https://metanit.com/python/tutorial/ - Python Programming Language Guide (in russian)."
   ]
  }
 ],
 "metadata": {
  "celltoolbar": "Slideshow",
  "colab": {
   "provenance": []
  },
  "kernelspec": {
   "display_name": "Python 3 (ipykernel)",
   "language": "python",
   "name": "python3"
  },
  "language_info": {
   "codemirror_mode": {
    "name": "ipython",
    "version": 3
   },
   "file_extension": ".py",
   "mimetype": "text/x-python",
   "name": "python",
   "nbconvert_exporter": "python",
   "pygments_lexer": "ipython3",
   "version": "3.8.12"
  }
 },
 "nbformat": 4,
 "nbformat_minor": 1
}
