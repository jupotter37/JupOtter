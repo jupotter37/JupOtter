{
 "cells": [
  {
   "cell_type": "code",
   "execution_count": 1,
   "metadata": {
    "ExecuteTime": {
     "end_time": "2020-09-13T20:16:35.377834Z",
     "start_time": "2020-09-13T20:16:35.353626Z"
    }
   },
   "outputs": [],
   "source": [
    "%load_ext autoreload\n",
    "%autoreload 2"
   ]
  },
  {
   "cell_type": "code",
   "execution_count": 2,
   "metadata": {
    "ExecuteTime": {
     "end_time": "2020-09-13T20:16:36.500322Z",
     "start_time": "2020-09-13T20:16:35.960897Z"
    }
   },
   "outputs": [],
   "source": [
    "import pandas as pd\n",
    "import numpy as np"
   ]
  },
  {
   "cell_type": "code",
   "execution_count": 3,
   "metadata": {
    "ExecuteTime": {
     "end_time": "2020-09-13T20:16:36.528541Z",
     "start_time": "2020-09-13T20:16:36.502965Z"
    }
   },
   "outputs": [],
   "source": [
    "def random_float_df(size: int, num_cols: int):\n",
    "    return pd.DataFrame(np.random.uniform(low=0.5, high=13.3, size=(size, num_cols)),\n",
    "                        columns=list('ABCDEFGHIJKLMNOPQRSTUVWXYZabcdefghijklmnopqrstuvwxyz')[0:num_cols])\n",
    "\n",
    "def random_cat_df(size: int, num_cols: int):\n",
    "    return pd.DataFrame(np.random.choice(['pooh', 'rabbit', 'piglet'], size=(size, num_cols)),\n",
    "                        columns=list('ABCDEFGHIJKLMNOPQRSTUVWXYZabcdefghijklmnopqrstuvwxyz')[0:num_cols])"
   ]
  },
  {
   "cell_type": "code",
   "execution_count": 4,
   "metadata": {
    "ExecuteTime": {
     "end_time": "2020-09-13T20:16:36.648738Z",
     "start_time": "2020-09-13T20:16:36.626022Z"
    }
   },
   "outputs": [],
   "source": [
    "import sys\n",
    "sys.path.append(\"../../src\")"
   ]
  },
  {
   "cell_type": "code",
   "execution_count": 5,
   "metadata": {
    "ExecuteTime": {
     "end_time": "2020-09-13T20:16:37.024492Z",
     "start_time": "2020-09-13T20:16:36.992701Z"
    }
   },
   "outputs": [
    {
     "data": {
      "text/plain": [
       "'1.0.3'"
      ]
     },
     "execution_count": 5,
     "metadata": {},
     "output_type": "execute_result"
    }
   ],
   "source": [
    "pd.__version__"
   ]
  },
  {
   "cell_type": "code",
   "execution_count": 8,
   "metadata": {
    "ExecuteTime": {
     "end_time": "2020-09-13T20:18:08.022719Z",
     "start_time": "2020-09-13T20:18:06.991679Z"
    },
    "scrolled": false
   },
   "outputs": [
    {
     "data": {
      "application/vnd.jupyter.widget-view+json": {
       "model_id": "8772334c746847bf99b5ef01055afaf7",
       "version_major": 2,
       "version_minor": 0
      },
      "text/plain": [
       "VBox(children=(ToggleButtons(_dom_classes=('layout-ef9e67009be347e1a79cb8e14f796bbc',), description='Selection…"
      ]
     },
     "metadata": {},
     "output_type": "display_data"
    }
   ],
   "source": [
    "from IPython.core.display import display\n",
    "from pandas_visual_analysis import VisualAnalysis\n",
    "import pandas as pd\n",
    "import ssl\n",
    "\n",
    "data_url = \"https://raw.githubusercontent.com/mwaskom/seaborn-data/master/mpg.csv\"\n",
    "ssl._create_default_https_context = ssl._create_unverified_context\n",
    "df = pd.read_csv(data_url)\n",
    "\n",
    "# df = random_float_df(5000, 30)\n",
    "\n",
    "va = VisualAnalysis(df, alpha=0.75, row_height=300, select_color='#922d50', categorical_columns=[\"origin\", \"name\", \"model_year\"])\n",
    "va"
   ]
  },
  {
   "cell_type": "code",
   "execution_count": 7,
   "metadata": {
    "ExecuteTime": {
     "end_time": "2020-09-13T19:44:32.552025Z",
     "start_time": "2020-09-13T19:44:31.693409Z"
    }
   },
   "outputs": [
    {
     "data": {
      "application/vnd.jupyter.widget-view+json": {
       "model_id": "5ac13cee457e4918a7e09ce42ed70b01",
       "version_major": 2,
       "version_minor": 0
      },
      "text/plain": [
       "VBox(children=(ToggleButtons(_dom_classes=('layout-8794c53e8d154b7d8dd532e056ab11cf',), description='Selection…"
      ]
     },
     "metadata": {},
     "output_type": "display_data"
    }
   ],
   "source": [
    "VisualAnalysis(df)"
   ]
  },
  {
   "cell_type": "code",
   "execution_count": 38,
   "metadata": {
    "ExecuteTime": {
     "end_time": "2020-08-09T21:21:01.295524Z",
     "start_time": "2020-08-09T21:21:01.254181Z"
    }
   },
   "outputs": [],
   "source": [
    "from pandas_visual_analysis.widgets import ParallelCoordinatesWidget"
   ]
  },
  {
   "cell_type": "code",
   "execution_count": 39,
   "metadata": {
    "ExecuteTime": {
     "end_time": "2020-08-09T21:21:03.217071Z",
     "start_time": "2020-08-09T21:21:03.178416Z"
    }
   },
   "outputs": [],
   "source": [
    "import ipywidgets as widgets\n",
    "import plotly.graph_objects as go"
   ]
  },
  {
   "cell_type": "code",
   "execution_count": 41,
   "metadata": {
    "ExecuteTime": {
     "end_time": "2020-08-09T21:21:40.469121Z",
     "start_time": "2020-08-09T21:21:40.366886Z"
    }
   },
   "outputs": [],
   "source": [
    "# f = go.FigureWidget(data=[go.Histogram(x=df['mpg'])])\n",
    "f = ParallelCoordinatesWidget(va.data_source, 0, 0, 1.0, 400)\n",
    "f_widget = f.build()"
   ]
  },
  {
   "cell_type": "code",
   "execution_count": 43,
   "metadata": {
    "ExecuteTime": {
     "end_time": "2020-08-09T21:22:09.224658Z",
     "start_time": "2020-08-09T21:22:09.183087Z"
    }
   },
   "outputs": [],
   "source": [
    "def on_selection_print(self, points, selector):\n",
    "    print(selector)\n",
    "    print(points.point_inds)\n",
    "    # print(type(points.point_inds[0]))\n",
    "    # print(dir(points.point_inds[0]))\n",
    "\n",
    "f.figure_widget.data[0].on_selection(on_selection_print)\n",
    "f.figure_widget.data[0].on_click(on_selection_print)"
   ]
  },
  {
   "cell_type": "code",
   "execution_count": 62,
   "metadata": {
    "ExecuteTime": {
     "end_time": "2020-08-17T11:03:38.268823Z",
     "start_time": "2020-08-17T11:03:38.209090Z"
    }
   },
   "outputs": [
    {
     "ename": "NameError",
     "evalue": "name 'f_widget' is not defined",
     "output_type": "error",
     "traceback": [
      "\u001b[0;31m---------------------------------------------------------------------------\u001b[0m",
      "\u001b[0;31mNameError\u001b[0m                                 Traceback (most recent call last)",
      "\u001b[0;32m<ipython-input-62-28529d2ae232>\u001b[0m in \u001b[0;36m<module>\u001b[0;34m\u001b[0m\n\u001b[0;32m----> 1\u001b[0;31m \u001b[0mf_widget\u001b[0m\u001b[0;34m\u001b[0m\u001b[0;34m\u001b[0m\u001b[0m\n\u001b[0m",
      "\u001b[0;31mNameError\u001b[0m: name 'f_widget' is not defined"
     ]
    }
   ],
   "source": [
    "f_widget"
   ]
  },
  {
   "cell_type": "code",
   "execution_count": 59,
   "metadata": {
    "ExecuteTime": {
     "end_time": "2020-08-09T17:51:06.811519Z",
     "start_time": "2020-08-09T17:51:06.775226Z"
    }
   },
   "outputs": [],
   "source": [
    "f.data[0].visible = True"
   ]
  },
  {
   "cell_type": "code",
   "execution_count": 62,
   "metadata": {
    "ExecuteTime": {
     "end_time": "2020-08-09T17:53:10.677867Z",
     "start_time": "2020-08-09T17:53:10.635582Z"
    }
   },
   "outputs": [],
   "source": [
    "def small_df():\n",
    "    return pd.DataFrame({'a': [1, 2, 3, 4, 5],\n",
    "                         'b': ['v', 'W', 'X', 'Y', 'Z'],\n",
    "                         'c': [1.5, 2.5, 3.5, 4.5, 5.5],\n",
    "                         'd': [np.datetime64('now'), np.datetime64('now'), np.datetime64('now'), np.datetime64('now'), np.datetime64('now')],\n",
    "                         'e': [True, True, False, False, True]\n",
    "                         })"
   ]
  },
  {
   "cell_type": "code",
   "execution_count": 97,
   "metadata": {
    "ExecuteTime": {
     "end_time": "2020-08-17T15:47:17.991359Z",
     "start_time": "2020-08-17T15:47:17.950146Z"
    }
   },
   "outputs": [],
   "source": [
    "import numpy as np\n",
    "\n",
    "x0 = np.random.randn(500)\n",
    "# Add 1 to shift the mean of the Gaussian distribution\n",
    "x1 = np.random.randn(500) + 1"
   ]
  },
  {
   "cell_type": "code",
   "execution_count": 110,
   "metadata": {
    "ExecuteTime": {
     "end_time": "2020-08-17T17:08:37.903778Z",
     "start_time": "2020-08-17T17:08:37.394994Z"
    },
    "scrolled": false
   },
   "outputs": [],
   "source": [
    "import plotly.graph_objects as go\n",
    "\n",
    "def on_selection_print(self, points, selector):\n",
    "    # print(self)\n",
    "    # print(selector)\n",
    "    print(points.point_inds)\n",
    "\n",
    "def on_deselection_print(self, points):\n",
    "    print(points)\n",
    "\n",
    "fig = go.Figure()\n",
    "#fig.add_trace(go.Histogram(x=x0, marker_color='rgb(12,12,255)', opacity=0.5))\n",
    "fig.add_trace(go.Scatter(x=x0, marker_color='rgb(12,12,255)', opacity=0.5, mode=\"markers\"))\n",
    "fig.update_layout(barmode='overlay')\n",
    "\n",
    "f = go.FigureWidget(fig)\n",
    "# f.data[0].on_click(on_selection_print)\n",
    "# f.data[1].on_click(on_selection_print)\n",
    "\n",
    "f.data[0].on_deselect(on_deselection_print)\n",
    "# f.data[1].on_deselect(on_deselection_print)\n",
    "f.data[0].on_selection(on_selection_print)\n",
    "# f.data[1].on_selection(on_selection_print)\n",
    "\n"
   ]
  },
  {
   "cell_type": "code",
   "execution_count": 111,
   "metadata": {
    "ExecuteTime": {
     "end_time": "2020-08-17T17:08:37.985206Z",
     "start_time": "2020-08-17T17:08:37.918784Z"
    },
    "scrolled": false
   },
   "outputs": [
    {
     "data": {
      "application/vnd.jupyter.widget-view+json": {
       "model_id": "2a85d62b96f04e17ad3b596e77085b5a",
       "version_major": 2,
       "version_minor": 0
      },
      "text/plain": [
       "FigureWidget({\n",
       "    'data': [{'marker': {'color': 'rgb(12,12,255)'},\n",
       "              'mode': 'markers',\n",
       "         …"
      ]
     },
     "metadata": {},
     "output_type": "display_data"
    },
    {
     "name": "stdout",
     "output_type": "stream",
     "text": [
      "[153, 168, 175, 187, 201, 215, 219, 222, 224, 226, 236, 238, 244, 259, 260, 262, 267, 273, 275, 277, 281, 298, 302, 307, 312, 328, 329, 330, 334, 336, 355, 357, 363, 370, 371, 378, 389, 394, 397, 398, 401, 404, 405, 407, 425, 432, 444]\n"
     ]
    }
   ],
   "source": [
    "f"
   ]
  },
  {
   "cell_type": "code",
   "execution_count": 6,
   "metadata": {
    "ExecuteTime": {
     "end_time": "2020-08-17T20:19:29.856772Z",
     "start_time": "2020-08-17T20:19:29.788718Z"
    }
   },
   "outputs": [],
   "source": [
    "from pandas_visual_analysis.widgets.helpers.multi_select import MultiSelectWidget"
   ]
  },
  {
   "cell_type": "code",
   "execution_count": 7,
   "metadata": {
    "ExecuteTime": {
     "end_time": "2020-08-17T20:19:30.070749Z",
     "start_time": "2020-08-17T20:19:30.048625Z"
    }
   },
   "outputs": [],
   "source": [
    "options = [\"Option\" + str(i) for i in range(20)]"
   ]
  },
  {
   "cell_type": "code",
   "execution_count": 8,
   "metadata": {
    "ExecuteTime": {
     "end_time": "2020-08-17T20:19:30.544521Z",
     "start_time": "2020-08-17T20:19:30.325045Z"
    }
   },
   "outputs": [],
   "source": [
    "ms = MultiSelectWidget(options, None, 0.2, 400)\n",
    "\n",
    "from traitlets import HasTraits, List, observe\n",
    "\n",
    "def observe_selection(change):\n",
    "    print(change['new'])\n",
    "\n",
    "HasTraits.observe(ms, observe_selection, 'selected_options')"
   ]
  },
  {
   "cell_type": "code",
   "execution_count": 10,
   "metadata": {
    "ExecuteTime": {
     "end_time": "2020-08-17T20:38:05.018242Z",
     "start_time": "2020-08-17T20:38:04.747660Z"
    }
   },
   "outputs": [
    {
     "data": {
      "application/vnd.jupyter.widget-view+json": {
       "model_id": "85eb36a77ab9470b94a38b4f212fb308",
       "version_major": 2,
       "version_minor": 0
      },
      "text/plain": [
       "VBox(children=(HBox(children=(Button(description='Select All', icon='check', style=ButtonStyle()), Button(desc…"
      ]
     },
     "metadata": {},
     "output_type": "display_data"
    }
   ],
   "source": [
    "value = display(ms.build())"
   ]
  },
  {
   "cell_type": "code",
   "execution_count": 12,
   "metadata": {
    "ExecuteTime": {
     "end_time": "2020-08-17T20:38:12.902991Z",
     "start_time": "2020-08-17T20:38:12.878255Z"
    }
   },
   "outputs": [
    {
     "name": "stdout",
     "output_type": "stream",
     "text": [
      "None\n"
     ]
    }
   ],
   "source": [
    "print(value)"
   ]
  },
  {
   "cell_type": "code",
   "execution_count": null,
   "metadata": {},
   "outputs": [],
   "source": []
  }
 ],
 "metadata": {
  "kernelspec": {
   "display_name": "Python 3.7.2 64-bit",
   "language": "python",
   "name": "python37264bitffd1f3ddb1ea48af86fb93807cd0240f"
  },
  "language_info": {
   "codemirror_mode": {
    "name": "ipython",
    "version": 3
   },
   "file_extension": ".py",
   "mimetype": "text/x-python",
   "name": "python",
   "nbconvert_exporter": "python",
   "pygments_lexer": "ipython3",
   "version": "3.7.2"
  },
  "widgets": {
   "application/vnd.jupyter.widget-state+json": {
    "state": {
     "027d3bbdf3f241bbb8674e75f91b7318": {
      "model_module": "@jupyter-widgets/controls",
      "model_module_version": "1.5.0",
      "model_name": "HBoxModel",
      "state": {
       "children": [
        "IPY_MODEL_c23f1c9d9fc24dba96afc18a87f4c74a",
        "IPY_MODEL_b7484fe7c40c4a7880b858b0e5fbb6a8",
        "IPY_MODEL_bb3ddca237a44c568cb650e529da0e7b"
       ],
       "layout": "IPY_MODEL_abc2708ce3344566a7126742117ac1d6"
      }
     },
     "02dcd24173974a4fbe8e7d302cc4263a": {
      "model_module": "@jupyter-widgets/base",
      "model_module_version": "1.2.0",
      "model_name": "LayoutModel",
      "state": {}
     },
     "115aecc4147645f39e7ea421581297d9": {
      "model_module": "@jupyter-widgets/base",
      "model_module_version": "1.2.0",
      "model_name": "LayoutModel",
      "state": {}
     },
     "11d458d7f8db4d9d9138ace22aa7345a": {
      "model_module": "@jupyter-widgets/controls",
      "model_module_version": "1.5.0",
      "model_name": "DescriptionStyleModel",
      "state": {
       "description_width": ""
      }
     },
     "14f667217fb84687a4f3774c76d2db46": {
      "model_module": "@jupyter-widgets/controls",
      "model_module_version": "1.5.0",
      "model_name": "VBoxModel",
      "state": {
       "children": [
        "IPY_MODEL_28beb48139ae4af0916efcff1b942fa7"
       ],
       "layout": "IPY_MODEL_fc55330415c84efa915730ece18aefe4"
      }
     },
     "1b1d9ee5a59b49ecb9fcf2c7f679b1c7": {
      "buffers": [
       {
        "data": "9ExwvUC8J0DwEjF7HRUIQGPUNeyaIxRA/NGXFQ8CGkAz9T3dehckQOxcJ9qK4ClAoBnea/NgBUCEjoEsgusMQP/Mtj57ZydA2ujCqzNmJkCo1WJqlu0gQKc5pHgPX/4/nPFHs1nNKEBMFMe7jPwkQBoq9fVa/QxAJ0Nipa/S/D/kr3CN2XMaQDQiUYHL9SZAesb35eQxE0DYQVsU3tgkQPgNSLPyIiBAYLVkLfRBJkCmENd2JWb1P6gEh15/kCZAuzRu/ETaIkBsn0KHGiMoQKGVr5vJHSVAfXUlC29MA0B/0N4j1jsYQPrH+l1L0BdA8JEEDeS2FUBkupXM7f0HQHNr5Hur5yFA+gRfYoS98z9HQ6JNrwQSQLDEFLrR+yZAVfiSQWeNH0BKEonMXiIaQOzQ8Aa1GiJAinotSrIMDUBtP0dKbxr2P+hoQcEqsx5AyJW47An/J0DQsAfLWs8gQIdFEHG9KChAAFJ3fdx19T/U6c1HkzwRQHoAQ5mEvA9Axv6BzoXs8D+5aZBfZV0oQB400vuZVCRAoD+6Rq/0FUDshcY/E9YmQCcXAcyMHPw/sO61PVziKUDkBseu/98pQJivpKWuyRNASNqVYwh9J0BNZUrlOcMeQA6jwnYPYylAt3iygL+fHEAHlw/j2cT/P5gO9Axz5hVAwPh42kQo6j9pEJ7ANxgiQFQI1hEACSVAih1TQxuyFECvTX11UpccQCysWi6H1xVA3lEOayrbIUDiFYSC5CAWQEi5KHbsmyZAv3DV/y3BJkA/sBfnwc8bQDtF5hOYASZAfXDsl1niF0AmqJINK8/oP23Cl9YItClATbAWeF8I6z9FsyzsUO4WQD/HgjuxzRhAp043xkCZGEBSGjZAIGsTQAm1K3Sc7CJAYIkXhkNmDEBtnZHw713/P9gZRpbb4BhA+4lgytb9E0AUgwJBM4IHQIgT+bV3iSRAYRLxTYouI0BcF/V2q0ElQJ0+5YSksyNATM1Si6kkGkDyQOEMPfslQAbTMqEJ4/U/NBYq7l8iIEBs76x69joaQOc9HJWGzBxAFHRwBiZ8CkA+5xIdn/AoQBcJvdmLIBdADLu36HmUIEChP/ppVGQpQErk3b8mshFA0fIvQIimI0AH/1pr1X/9P2zcoTfI+CZAPEy/6hmqKEDdYJqlu4QJQHhv/buGvyVAcOqdTsBGJkAFLDD833wkQL316GA5wCBAfCYx99HOJEDLsIe1hG8jQAFrBnssPCNANCqLJg17AEDn87umR4MYQKEeYnQdxiNARyJlMd0dBECE2CpnBEAWQLBILth8IARAUIU5EtrpBEAlFpKNn+kfQKw/5tWdNxlAWmiI8xpzEkD0JbB33yEPQF1XezJzXBxAerkAVAp3JECkWoehGzskQK/0VquFExtAOqzifjoI+D8FwEhVUV4qQCdVKk01ViNAaJe7QBPlEkBEsKENCTQXQNhRgUPeKClAatpnMfQ1AEC/dXC2kC4cQODDWa0K0vw/m+se+cwfIUCmAtqIPJTvP9e4yY+QjhZAZdOKv9pdHkCf2MspfP4kQPuTCyDX/iVAlI4PGN2BD0CYSVvshWkXQH+vQPW0jChAreuL8Q/EE0Am7g62aB/qP+rmfXNyhSZA1K3vFOPnB0AUzSUoBiEiQKJgqVjkGxhABoIjgZfuEEBDopG+xG0GQB8ZXRMU9yNAEuJ1tKhyKEDtqQxGBab8P2MKu7oTtQRAvTuJccwxF0BPP8gnIgsTQMu79nPbKxRAtvdKDwxWKUBTASoNYl4oQFdyjg+KAhZA2j+pUoOqC0C6LpEdPCklQDR+aOM+IgBAYBDgLgPGA0D355b02UYaQFRvUNplYCBARgYsBkC0KUC6UcoG9WT/P6m5bFg9mihAyJBDNMKPKUB6PRwadtYWQLf/X+3yTglALethcNKAHUCoBVUk2mcbQGyRsT936ydADlFvQ66zJkAArlATih4UQDfWMQFTjg5An7TvESr4E0CmMes3Gu71Px3ouwRqASdA4LP/rgry+T/4Tw6V8P8pQKDkgPqdLPI/rzlVWAVvIUB6S1vTwz37P+RM1SGINShAUEw058yFKEDpDoAlfEMkQK3ta3vzRfQ/x88XyWyAE0BHvDnPei0mQCZhBcbY6SZAvWrT6tKAD0DF37FMhGYdQHAHSK4cDRdA3vPKWiuzJUDdpO8ZKKYfQMRk/d4aXRlAnYGy+8UoEEB9/lGSBvQZQAEyRz8h0yBAN5b3PkwJCEDUA6+77xQQQIj13Xw0XBBAXTX5A1dBAkCAI6txIIYGQK1gMt9bnhxAxcmdOH/cHkB4Jti9b/glQPIuWfP45RVA6JAg2RVgJUBUTo6tpOf9P2DGvWtxFPw/HBTV9PvxG0DmVbkXFk7xP9z1XE5uyBpA2Dm980E2GEDoCDrhBeElQNDfQApfuB1AkEH7wn3AFUC4cyT0X8sjQNClRmlWyhVAqBzWyBU1JUACyYsoWHUeQGHS/vyuRiRAGL/PSHkiHkAyos8QC+YmQJjAsgJ/piBAenlQeFrR9z/ApnoqJZ0PQHcC8Jag/BxAmYQLCQ6uJEBaSj2R4Q/iP8u1Z4a1vxJAo9Eu8pJNJ0Ca3nJ/Fr3hPwo2FIDTFRhA2u+qlqYyFUBnABlrwJEMQBrDGl2EOCBALSayBzutHEDVwDlHYD8oQC6lPS8uTSZA0FkzxF1FJEA6vTqM1mYVQHCRt5XDryVA5Zh4WcPXJkAK+k0b5HQHQIDkfSNYICBAcMiiwKjBFEBcr+y5kYUlQAau4h6kPPU/2uMbjItnH0AWVuiNf2EAQNodkf7PZxhA2qDI/kHkCUBBlitv9RolQBBZ7PCpcBdAXSgIbcwgCEBU+4hP68AoQArt/+vfTyNArTnjPkx/HkBAbQbju+UpQNBgZvKtPxxA8zRNXvZxI0ACycn9xroiQADy2zD17SBAeF/c8gb2H0AA40jWCPgfQAARY4FwmClAEsnO1jyZFUCaftsd3B/0PxgDAsbXMBlAXa828l29B0DdM87RZrgWQPYYzkDYNylAWuTA/mTWBUAAHEbdtRgbQPD/hgWzdBNA5EeAV3D6H0A9I47RgHgOQITsvV91xQlAfzCSe9t6HkBH4VKbDyoKQPQmqc23Bv0/JyzJ2Otn/D/QgImh1N0pQPoqYqiRvB9AJILdmn99GECTe331BekjQMDFKasjGes/5/s+x0DuDEAPPg6ikigkQFgbYHeGjh5AnoAUSyGfEEAShsLXLr0nQAjPC8aXvilA95JniJZZJEDa5sDRCvDqPwSOc0VXJiJAJTtigZomG0A1Xa8ID1kmQDVwxtZFyBBA7SQHbqLXAkBmiSmYMvjiP0ebQBYM4iJAOLvOz7p+I0BEwaTeOmIpQO0iUUSzsf4/kFcKA5bqHUBfHTq1HYQaQFC6Qx+9TCVAndWG6AFwKEBAuSp23dEBQAu2bsnXWiJA6l3E8yMhHEAJw7pzzEskQKRHUmwN6SlAC54kFX2wJECQ4p+4MMAZQFSqnC+D6ApADO7cAtYCI0D4vmh/I98cQCBXfMbDhBVAo+Fm9R8ZIkDADmwrCQD/P8pwTqojWChAe7asArxmI0DimHIXjb0YQPpVHVexsfM/zx1HbxAZEkAU1DciWI7/P4V9GT5WACpA8Ev+luylDEBgtoBvBAYXQJqwwnkA4hRAnlsE/26RJUCkpOvRTxcqQJj/cyt98yZAqog2tVwiBkC077NxTrroP8COX6hu9hxAtyfgm1kTCkAiyw9rXYIQQJCMAukJEBVAcAgpfojqKEAQgExKyswkQHZFkxM1DiBARM4ESmc8H0Dd2eu82wYGQP3GGzv0JCFAVULSV9DwG0BtMdrtFhkGQGRI2EYeoQJAyFAxmXACKkB/2I/r8NMkQG0wqch5Pg5AenlkaXU9CkBqDNX1S4wiQNo1AoKZXhJAUzFIFmsmIUCfgu/nTBkYQIQrtt+FgRFA2keDZuCOKUAtWDBtoKogQF+Aus9K8ShAEqsiFMTxGkBf8syeYKopQE3ZWY2bpiVAoy3f1ucpEkCl2zVjId8jQGIV1ymmARxA0PtOC37OHkBuTsIhnm8RQMhF6CpwbxNAYsCmXFfIE0AaAxnS6JD7P1i2G3dxnxJAX1scFAueHEBlWqZSRYIfQGHI1VphViJApU24LER/FkC/tIpf+ZcmQHLmIY08UidA1aEiIo18G0B8bc6OAFcfQNABDfLCjRRAWCtcolgAHUBmhFxZBF3vPxoqeuuL5PU/AAhtr2/9DUDQS3lKkE8IQEBrGPIZwAxAOg9CbdHzGEAQPOrsBcEJQCWoU9RyeSlASoPZy/1nBECyeoieMacoQGZZakzqcyFAUAcrsOpWKUD+dpENc8gmQOaSOP1JGClAmgxwX5epEEB2Jmkgp1EQQI1MBDiaGgNAJq1Uq6Y96D/e+fJUvWogQHLn35PMqyFAcERu9QTGA0B0z6zEU/H0PyZAPgKF2ANAbWCmR+Mw9D/nlvjbFkD4P4xiHjp0LBZA39cNlgs0KECaqOYwib8YQI0vqSJJPhNARJc2cODCDUCPSBFDg2IXQO7DVq4z0RBAbxjhpdRJJkBqagzpIHwNQAC9lVTt6fI/WJdLRtCmJ0C1PP0IXdEaQE3acVeeaPQ/jckXEUX6IED9r3cLucUoQFBv9+1jrhlAxSiIYJhlEEDZz8ZKp1YoQHx41fMgKSRAGklfmkkCEkCjjmKSeuEiQFosLdIkWRpAemr3q3c4GkCqa4QKN+wfQIX+n0WheSBA3w7o3n3WIUDAFJXc8pIVQM+M5jR6whJAmkwq6L6b8D/G21x3elT2P0A59RyOYAtAM2znv7GTI0AFeFHRN+8jQAKCwupczhhAeCLmVvFuE0AwSYeHxJcVQAV6fQkwuiNAgARVBIjqJUDkJCYwjtgmQO619esTniBA9G60I1CDDECQZuDgKgMoQGoujtJfFgBAaThjpOp4I0AJhJ1dWDkpQEypvIEF8xBAq49T4ZXYJ0AdoOmE1FwHQHH2DpHADSZA1kWTH2YIAEB1B5valKgXQOhwgWnm4ihA+r4yvDo2EED9Fo+BaXwEQHckvEHTdh5APUalZSpbAkB6Ova/20EWQD0k2aqduhNAjQzKRzN3JUAQMDQE1bMoQFuUBuluWyNAHZMjXgWsEkDY9R0yWjgfQMZRAL4roidACoDxNpsbEECgZ+CDrQYlQDZVDBWvvyNA4qb0oRe+IEAUaylC27wlQLFjobhRjCJAjzdBl74MIUCAW7flc3gkQHKG6OplvxZAU+0AF5Sh+j/AW6gf0YL1P4B7ee1G/eE/cPxEbPAQGkDyo3ycxOAkQBRtrXbn9ihAB0zaNdPtD0AVvj+0edAWQFYZSGv9nyJA4JK638J7J0AzFlXIwmviPwnY5nH5WyRAQBb05pIaIUDzPIcyQJoEQCoZNqj4pCBAuCNj/C2OH0AAVwI6+QT9PxqMicFkMu0/xNJI2HN4JECzbj76bf0iQOunmITQACRAn+ACDl1qJUDaY5DuhyX/P2oSr/5EKhJAeuz38kAQAkBQvZQAv3EEQNC+Ol/xWhpAsNfqE75tDkAHclrkqtz+PyJLyizI+SFA2EdE1k9uJEDPqZJilY0jQARmn/klQwNA6qpBxIcZDUBAEaC+JsrxPxYixS7f+gJAFJQgTcjACUDm6+vyaIspQKxFhI/lqSlA05pE0XgA+D96vRprFQIKQNbOPaxQnSdAbOBpaT0GIkDFiIkS44AiQODb3krG4AJAMX99YeeLJEBMC2z/flUkQGjUcw0lxR1A3yzdRwPUI0Ad2DdEITUWQD3gNRpBAwJAScltjzGMKkD3sOzfM98EQJ18IIMIdSRAd8AlRWvCFkBwT2sGra4pQKCj1gTsh/4/dLkZzaavEECpxrBif6UkQOBjC5C/Ovw/WFEnVQ0aGkAXYpad8A4fQOcLzHs+PSpA6OqVmqaFJkByGTzVm9IiQDwZPwk11CdAnL8jTyhjJEC3Ub9Br+QeQHUU4lJzfyhA7/+8P74AJUCwXGErpMkPQCjWHhIVuSVAAHuYvBWLJUDfiYF0b7ohQOhRnhS7vhBAF8Lr4d/KCUA4qD7VStMmQBQpPQ4crvE/CreARUMXKUB6wu4ph1L5P3rL18X1uPw/26SKevGkIkDrJUgdC5MTQPotQqARzylANFb2UO3yFkBSla4AFJcRQI2oI0ig1B1A3dsYiVVzHEAGPSrxTtLxP4AQxVIwaRBA6HoBzjsRFUDaUvQ6yBIBQEXiSs6yOhNA7fB+yGld9T8QMTIK+DoTQD0hUuFmlBlAX1jJJffSHEB0L8ryLbQmQNXl0KSXfiNACK8KVQCxHkBdeAwrUT0hQAgu9IJjPxBAk3AHS2eIKUDtVEGfxYsFQLdfv6TFnSVAYAFzClQe9D/63MCpMagNQB/1cJgGTR9Afc7e+jj0HUBUBE/5jlQPQC6HK0J1GSRACHIZ5UbSFkA6B/1vpKgIQH4F9khCUCVANOWoqHFJFUDYwQmESykTQIBo2DAbSvw/Mq5XtsxSGEC4Z4nu/tIRQEyJUM2GcSlA9g4XeJs6I0At/xvcMvoNQIE5R5M3EilAx9MnznufC0DJ7+hBlU0qQC0YG8vIUxFAxHML7BbbI0D/3ZM2/2ATQBSXKZaDqxxA6LL+foa1JEAesivJrockQMZ63JPkciJA8gIxqe0iFUCYoacYFDUlQBJPluiAxBhAEXMhJr3nI0AQzGGBqdwpQGLYW89UXR9AGultwunwKUDLad7fNrgUQDq0fUjnHgRAtOf3WsyGJkBQXOoDB2YXQLPRUeQaF+U/79S4vVSgH0Bqc/elS9MnQEfN53e9rCZARHZvzRE3A0BkXvz+IjkQQER/NB/WJSVAZB+gXkqdEUAI7xL9FCooQD1stHqJXShAf7gBHcbpFkB397XNoo8dQPHk3T2tpChAjw6Ys1NGIUANwGsp16gEQA1ZWmzK2vo/NNDr/ebnEEBAkdF1kKAHQJhb/GcZChZAWn7u2ml/G0CiLBusufAlQIRdjCPZMylAhEQc/FVtIEB0BkcyUYkHQP1FiYX5zRFASN2b+fuhFUC9ZmEq6awmQNP+obOIZBNAWwtJIsbDJkDayUNeMun3P5qbgoJBHPs/6I4jfa4/JkDytSVNlGITQHjgvoCjRiNAAOR9448XHUAgpFNpmmckQAs5wLPNYxJAysUvT4A1I0DU5NyZKBsnQHiG4vFClhxAAWa6/EzXJEDkTWKLgXwVQDSfZnlmdSZA+uOdVI+Q9z/VOmYY1kUhQIQer7eqAQtAY2PgiYS9BkDnnfvekb0NQHR7rpH+ESJAjUoKScUsCUBNDRDZ3HTwP07x5uSfRiRAIAuIYqqwJ0BNjjo1RV8LQI2UugVamwFAHT/+/5pFE0BapgVfR9YnQGCZc2YVIQdAJx+ql0JSDEC+SvNZOisiQO0hEkKCZidACLRII7tQJkDkHmU4gXojQMCFQ93qgwxAMPDEdWilKUBAXDzb63IKQCPDhiPmggZA8NIyliAcHUDSW/CzD2cVQJh102d26xpAWAIb6a9HIEBRMEl1ZyMiQJOya192uyNAf1rLiTR9KkAocsx5LrcmQGRTKqaCyihAnC1oABOlJUCUyfL5yegfQELTg21BhyJAfCSIziZKJ0ACve50HkskQAjyFro+niRALdq4al5FEUByRyAAwqAcQDQbU7L0viJA1whKS0P6DEBglM5AWHkSQGifpL2++yRA6xbcim+PJkA85LrVSNspQMgH5YulzxRA/ChET3X8JUCNLGGpUuD5P9NvhEJbXyZAaYPb/O1UKEBg9EYBIjQmQOO0otMQEgZA6lp0EX+UBECkMHLt4FMJQK1zhxCqDvc/Tb6Zq++aGkAsKg6vPxkoQEBowPNzYRZAj20s2tPnI0C3K7mB6csNQIoeJqAl2RZAh119r67YGkB6JTaVfcwgQKD7h530ox1Ard7l/0IBAkAzc/hylegGQBOMKSjAAvk/FTjt8MvhIUB1E6pycnciQNBBMXPGUiZA1Zmjc+aKJ0AnyLyi2EUmQAR6q7td4BVAtx+ih2S5DkDwKL6sankSQHdyx4Z1wQ5ADcq8LRCVGkBydjV1ZikZQAW8o4aPTRZAqC48vER/KkADFvNOus4iQCgYA6qNxSNAGPtmoOQ8JkBixZdMGWcTQIBnBruHYyNA85MZ+GILKEBAqxsJkrEXQLZcCEGJuSJAGGCibI8yHkCTpXE+a8sFQNpElIG5RgBACkE6rbjsKEBtMDvJ5QESQE9Xb+eXSilADQ1FPNv1KEBMofx9rbsjQGxzqSUmpSdA7RVadA4eCECxpdBCY34qQCSdazjNDhtALemBsVWQAUCwEmF17lAGQDTPh47ARgBA/DkTXalDF0D/viz0qrUdQPjzmCxpHBlAioOBT7qoFUCz1jdlFEYlQP0TT9TJ+BFAIi12jh0aF0Ba7mB9PsnrP8XARRTPZR1A1KlAU5s/KUB1ukDcj2UdQPhybvknSyZAynA0TLX1CUBNvtZXlwIhQLRFnmGogydAWrVI4xvEEEDl418dVZYjQLpiKPUpQQJAVcMj7mVIG0B0URkDYvQdQMCtlZl2tSFAspJNIjVTHkBnsjm28Y0IQDSYKoW+sClAa7oeVUUDFUCoMKoUNxMoQEiT2+gHCCNA5ocOp7rB5z9ykktFSiIjQBF2gmew6ilAOPuW+8qdIUBPUfo2hY4ZQHiiKPPfcShAQJRf3muq6z8W4VfrdXgBQDVy9S7C1xZAOIra/PUlGUCke6gxSa0MQM38D58Sh/g/dKxL6MXD7T9iiqB8kFopQLejbKDKRwpA1PqMzqROGEBNjTrHX3keQEqv17iXKyZAFKdTvXDPI0By8+Pu6u0VQLLGhAY9nSdA5M2Q4TubKUAUbfI90esfQMC7wjeof/E/VzHnP+SFGkCKuRNlbMooQKvVNx3NgiFAvwi3e4hLIUBzX5ILxjnhP9UVGQyWqCNAwBhIKMqi9z8jsO/MRGMGQAYxvC8HsfE/9F07FHQ4HUBaeVzaOhEdQInyVGSm/yJAJk2Da/qcAEDAso7RDKYnQG2RohfaTChAmn9LoXuS9j9tGT8bUzb3P200hRRZBPc/rYYA8Rmk8z+wfGv5Z+cJQN3mBT6OBg9AtI+DjH78D0B9H+UJH5ghQJqL6JXue/k/DwrIqlIWG0C7DgxHgj0nQP+55HCRRx9AFHmdi098IEAlZpuLctggQJXNx2DaDB9AXn73qoGdIkCNqPtgDIIWQAMFftz1LgRAk+NaRPoOJEBHRpf8yI0jQG0yAcBxtfI/Le/GEZMPKUBzVTnqzwjlPzYTtRwiXCVAyUlt0HJdIEAUnRy8URoMQJXQjFED5ilAfL0zf5E2HUAqV8+ncyolQAIUda5XbRdAgH2LUqG/BEBa5CGDYpriP3LAcGAxqxZAQSizxmEtIEAeEUGJxXAkQLTt30Fw8gFALPlzzyfDJEBNz/IE+zUeQMJ+O3WKoiJAhmmONNScJ0AjknZMjEUiQBy25FSkzxtAWokLxGGp6j8qCyvmckoSQBX58//GvBZA5KWcBuwWHUCaCcsii2v+P3TSrsDjPPY/xo51cnWWJ0CUKnDc0wwkQFqzthLkDyJANJf/FerlFkCIAr4QTNwQQOCu50GnRwBAwD4dcmGsIUCnKQUgcQAJQECHxxmHGylA6C1SzXF3FkDoLjX+OEklQK2lUIIe7ClAYrLVG7biGkB0IESrFEsqQNRM5wlieR1A2gY4KNMFB0Cax54SPoXtPzpV11t9mgVAFAv/8tobKEAlJ4Z80yQWQBMkrPLm1ydAONRnFd5MKkCJQLi7AE0jQBBumZH+XCpAzWTUvXc96z/87R2DZ6cVQAg+A9X6kCdAtElSUpwXA0D1Ghy2x7klQHeC5cEpShxADw8yudrZKUAQZYKBA7cYQBQG7Rx3o/s/t4e4ly3kIUD6yDVCIxL9PwCuN0RJ1+Y/qyf5qzRBJkD1NnKRVAonQKUL8RFfWxBAx8P8++7kI0B2Al/oBSslQEAF3OMjmyZAzq9EtkU9KUCV+P/Bfx8UQHo+fwSJLiBA4hZyHTNEIECHgXA9FL4eQBxkQdhmSxtA8MkgE9zvGkA6CsEUSBEXQAJcN7PCzh5A3bse6pzfHUBF4EQ3mpMXQIcZ7Ae57CJAzwe07ak/FUABPiuYsvQiQAqYbjHQnCBA07BGXM/ZEkCt/HxTqwsGQHsL/1dPLiNABgAvtibK9z/Xzpz4vjkSQIUir+VfPBNAAoZWHvETGEDQ9JFMolskQEB9xhPF3hpABNc0dgVDF0D6y3cnLlMJQHt8DJP9QyRAdEdEkU8aIECUw3YmWJT2P8ev42mpbRJAAB+OZzFG8D+QGgHgYjwKQEm3gNGntSRAkKuHsNttBEA9Ek8i6nMKQBs+oCyMbhRAJpVdDnHkKEBQE+EeoeYAQMV/VCrqRChAwsXZGs5HKUBmLQf27EryP2f2r8BRjRRACCOl1kGnHEAwV1gHDuwQQJYTyxAELiRAjTvIuIJD4D/AuSb6i0MZQEc3mVuK4gpA7hm3z7ZkKECRD7UjoEchQE1m6frhPSlAUoJTB5aPE0AgPi6DPvIpQISPqw6iDyBABHcjm6CtKEDIzs7ZM+omQASzlhMvMSdAv5VlQZaXE0A=",
        "encoding": "base64",
        "path": [
         "_data",
         0,
         "x",
         "value"
        ]
       },
       {
        "data": "9ExwvUC8J0DwEjF7HRUIQGPUNeyaIxRA/NGXFQ8CGkAz9T3dehckQOxcJ9qK4ClAoBnea/NgBUCEjoEsgusMQP/Mtj57ZydA2ujCqzNmJkCo1WJqlu0gQKc5pHgPX/4/nPFHs1nNKEBMFMe7jPwkQBoq9fVa/QxAJ0Nipa/S/D/kr3CN2XMaQDQiUYHL9SZAesb35eQxE0DYQVsU3tgkQPgNSLPyIiBAYLVkLfRBJkCmENd2JWb1P6gEh15/kCZAuzRu/ETaIkBsn0KHGiMoQKGVr5vJHSVAfXUlC29MA0B/0N4j1jsYQPrH+l1L0BdA8JEEDeS2FUBkupXM7f0HQHNr5Hur5yFA+gRfYoS98z9HQ6JNrwQSQLDEFLrR+yZAVfiSQWeNH0BKEonMXiIaQOzQ8Aa1GiJAinotSrIMDUBtP0dKbxr2P+hoQcEqsx5AyJW47An/J0DQsAfLWs8gQIdFEHG9KChAAFJ3fdx19T/U6c1HkzwRQHoAQ5mEvA9Axv6BzoXs8D+5aZBfZV0oQB400vuZVCRAoD+6Rq/0FUDshcY/E9YmQCcXAcyMHPw/sO61PVziKUDkBseu/98pQJivpKWuyRNASNqVYwh9J0BNZUrlOcMeQA6jwnYPYylAt3iygL+fHEAHlw/j2cT/P5gO9Axz5hVAwPh42kQo6j9pEJ7ANxgiQFQI1hEACSVAih1TQxuyFECvTX11UpccQCysWi6H1xVA3lEOayrbIUDiFYSC5CAWQEi5KHbsmyZAv3DV/y3BJkA/sBfnwc8bQDtF5hOYASZAfXDsl1niF0AmqJINK8/oP23Cl9YItClATbAWeF8I6z9FsyzsUO4WQD/HgjuxzRhAp043xkCZGEBSGjZAIGsTQAm1K3Sc7CJAYIkXhkNmDEBtnZHw713/P9gZRpbb4BhA+4lgytb9E0AUgwJBM4IHQIgT+bV3iSRAYRLxTYouI0BcF/V2q0ElQJ0+5YSksyNATM1Si6kkGkDyQOEMPfslQAbTMqEJ4/U/NBYq7l8iIEBs76x69joaQOc9HJWGzBxAFHRwBiZ8CkA+5xIdn/AoQBcJvdmLIBdADLu36HmUIEChP/ppVGQpQErk3b8mshFA0fIvQIimI0AH/1pr1X/9P2zcoTfI+CZAPEy/6hmqKEDdYJqlu4QJQHhv/buGvyVAcOqdTsBGJkAFLDD833wkQL316GA5wCBAfCYx99HOJEDLsIe1hG8jQAFrBnssPCNANCqLJg17AEDn87umR4MYQKEeYnQdxiNARyJlMd0dBECE2CpnBEAWQLBILth8IARAUIU5EtrpBEAlFpKNn+kfQKw/5tWdNxlAWmiI8xpzEkD0JbB33yEPQF1XezJzXBxAerkAVAp3JECkWoehGzskQK/0VquFExtAOqzifjoI+D8FwEhVUV4qQCdVKk01ViNAaJe7QBPlEkBEsKENCTQXQNhRgUPeKClAatpnMfQ1AEC/dXC2kC4cQODDWa0K0vw/m+se+cwfIUCmAtqIPJTvP9e4yY+QjhZAZdOKv9pdHkCf2MspfP4kQPuTCyDX/iVAlI4PGN2BD0CYSVvshWkXQH+vQPW0jChAreuL8Q/EE0Am7g62aB/qP+rmfXNyhSZA1K3vFOPnB0AUzSUoBiEiQKJgqVjkGxhABoIjgZfuEEBDopG+xG0GQB8ZXRMU9yNAEuJ1tKhyKEDtqQxGBab8P2MKu7oTtQRAvTuJccwxF0BPP8gnIgsTQMu79nPbKxRAtvdKDwxWKUBTASoNYl4oQFdyjg+KAhZA2j+pUoOqC0C6LpEdPCklQDR+aOM+IgBAYBDgLgPGA0D355b02UYaQFRvUNplYCBARgYsBkC0KUC6UcoG9WT/P6m5bFg9mihAyJBDNMKPKUB6PRwadtYWQLf/X+3yTglALethcNKAHUCoBVUk2mcbQGyRsT936ydADlFvQ66zJkAArlATih4UQDfWMQFTjg5An7TvESr4E0CmMes3Gu71Px3ouwRqASdA4LP/rgry+T/4Tw6V8P8pQKDkgPqdLPI/rzlVWAVvIUB6S1vTwz37P+RM1SGINShAUEw058yFKEDpDoAlfEMkQK3ta3vzRfQ/x88XyWyAE0BHvDnPei0mQCZhBcbY6SZAvWrT6tKAD0DF37FMhGYdQHAHSK4cDRdA3vPKWiuzJUDdpO8ZKKYfQMRk/d4aXRlAnYGy+8UoEEB9/lGSBvQZQAEyRz8h0yBAN5b3PkwJCEDUA6+77xQQQIj13Xw0XBBAXTX5A1dBAkCAI6txIIYGQK1gMt9bnhxAxcmdOH/cHkB4Jti9b/glQPIuWfP45RVA6JAg2RVgJUBUTo6tpOf9P2DGvWtxFPw/HBTV9PvxG0DmVbkXFk7xP9z1XE5uyBpA2Dm980E2GEDoCDrhBeElQNDfQApfuB1AkEH7wn3AFUC4cyT0X8sjQNClRmlWyhVAqBzWyBU1JUACyYsoWHUeQGHS/vyuRiRAGL/PSHkiHkAyos8QC+YmQJjAsgJ/piBAenlQeFrR9z/ApnoqJZ0PQHcC8Jag/BxAmYQLCQ6uJEBaSj2R4Q/iP8u1Z4a1vxJAo9Eu8pJNJ0Ca3nJ/Fr3hPwo2FIDTFRhA2u+qlqYyFUBnABlrwJEMQBrDGl2EOCBALSayBzutHEDVwDlHYD8oQC6lPS8uTSZA0FkzxF1FJEA6vTqM1mYVQHCRt5XDryVA5Zh4WcPXJkAK+k0b5HQHQIDkfSNYICBAcMiiwKjBFEBcr+y5kYUlQAau4h6kPPU/2uMbjItnH0AWVuiNf2EAQNodkf7PZxhA2qDI/kHkCUBBlitv9RolQBBZ7PCpcBdAXSgIbcwgCEBU+4hP68AoQArt/+vfTyNArTnjPkx/HkBAbQbju+UpQNBgZvKtPxxA8zRNXvZxI0ACycn9xroiQADy2zD17SBAeF/c8gb2H0AA40jWCPgfQAARY4FwmClAEsnO1jyZFUCaftsd3B/0PxgDAsbXMBlAXa828l29B0DdM87RZrgWQPYYzkDYNylAWuTA/mTWBUAAHEbdtRgbQPD/hgWzdBNA5EeAV3D6H0A9I47RgHgOQITsvV91xQlAfzCSe9t6HkBH4VKbDyoKQPQmqc23Bv0/JyzJ2Otn/D/QgImh1N0pQPoqYqiRvB9AJILdmn99GECTe331BekjQMDFKasjGes/5/s+x0DuDEAPPg6ikigkQFgbYHeGjh5AnoAUSyGfEEAShsLXLr0nQAjPC8aXvilA95JniJZZJEDa5sDRCvDqPwSOc0VXJiJAJTtigZomG0A1Xa8ID1kmQDVwxtZFyBBA7SQHbqLXAkBmiSmYMvjiP0ebQBYM4iJAOLvOz7p+I0BEwaTeOmIpQO0iUUSzsf4/kFcKA5bqHUBfHTq1HYQaQFC6Qx+9TCVAndWG6AFwKEBAuSp23dEBQAu2bsnXWiJA6l3E8yMhHEAJw7pzzEskQKRHUmwN6SlAC54kFX2wJECQ4p+4MMAZQFSqnC+D6ApADO7cAtYCI0D4vmh/I98cQCBXfMbDhBVAo+Fm9R8ZIkDADmwrCQD/P8pwTqojWChAe7asArxmI0DimHIXjb0YQPpVHVexsfM/zx1HbxAZEkAU1DciWI7/P4V9GT5WACpA8Ev+luylDEBgtoBvBAYXQJqwwnkA4hRAnlsE/26RJUCkpOvRTxcqQJj/cyt98yZAqog2tVwiBkC077NxTrroP8COX6hu9hxAtyfgm1kTCkAiyw9rXYIQQJCMAukJEBVAcAgpfojqKEAQgExKyswkQHZFkxM1DiBARM4ESmc8H0Dd2eu82wYGQP3GGzv0JCFAVULSV9DwG0BtMdrtFhkGQGRI2EYeoQJAyFAxmXACKkB/2I/r8NMkQG0wqch5Pg5AenlkaXU9CkBqDNX1S4wiQNo1AoKZXhJAUzFIFmsmIUCfgu/nTBkYQIQrtt+FgRFA2keDZuCOKUAtWDBtoKogQF+Aus9K8ShAEqsiFMTxGkBf8syeYKopQE3ZWY2bpiVAoy3f1ucpEkCl2zVjId8jQGIV1ymmARxA0PtOC37OHkBuTsIhnm8RQMhF6CpwbxNAYsCmXFfIE0AaAxnS6JD7P1i2G3dxnxJAX1scFAueHEBlWqZSRYIfQGHI1VphViJApU24LER/FkC/tIpf+ZcmQHLmIY08UidA1aEiIo18G0B8bc6OAFcfQNABDfLCjRRAWCtcolgAHUBmhFxZBF3vPxoqeuuL5PU/AAhtr2/9DUDQS3lKkE8IQEBrGPIZwAxAOg9CbdHzGEAQPOrsBcEJQCWoU9RyeSlASoPZy/1nBECyeoieMacoQGZZakzqcyFAUAcrsOpWKUD+dpENc8gmQOaSOP1JGClAmgxwX5epEEB2Jmkgp1EQQI1MBDiaGgNAJq1Uq6Y96D/e+fJUvWogQHLn35PMqyFAcERu9QTGA0B0z6zEU/H0PyZAPgKF2ANAbWCmR+Mw9D/nlvjbFkD4P4xiHjp0LBZA39cNlgs0KECaqOYwib8YQI0vqSJJPhNARJc2cODCDUCPSBFDg2IXQO7DVq4z0RBAbxjhpdRJJkBqagzpIHwNQAC9lVTt6fI/WJdLRtCmJ0C1PP0IXdEaQE3acVeeaPQ/jckXEUX6IED9r3cLucUoQFBv9+1jrhlAxSiIYJhlEEDZz8ZKp1YoQHx41fMgKSRAGklfmkkCEkCjjmKSeuEiQFosLdIkWRpAemr3q3c4GkCqa4QKN+wfQIX+n0WheSBA3w7o3n3WIUDAFJXc8pIVQM+M5jR6whJAmkwq6L6b8D/G21x3elT2P0A59RyOYAtAM2znv7GTI0AFeFHRN+8jQAKCwupczhhAeCLmVvFuE0AwSYeHxJcVQAV6fQkwuiNAgARVBIjqJUDkJCYwjtgmQO619esTniBA9G60I1CDDECQZuDgKgMoQGoujtJfFgBAaThjpOp4I0AJhJ1dWDkpQEypvIEF8xBAq49T4ZXYJ0AdoOmE1FwHQHH2DpHADSZA1kWTH2YIAEB1B5valKgXQOhwgWnm4ihA+r4yvDo2EED9Fo+BaXwEQHckvEHTdh5APUalZSpbAkB6Ova/20EWQD0k2aqduhNAjQzKRzN3JUAQMDQE1bMoQFuUBuluWyNAHZMjXgWsEkDY9R0yWjgfQMZRAL4roidACoDxNpsbEECgZ+CDrQYlQDZVDBWvvyNA4qb0oRe+IEAUaylC27wlQLFjobhRjCJAjzdBl74MIUCAW7flc3gkQHKG6OplvxZAU+0AF5Sh+j/AW6gf0YL1P4B7ee1G/eE/cPxEbPAQGkDyo3ycxOAkQBRtrXbn9ihAB0zaNdPtD0AVvj+0edAWQFYZSGv9nyJA4JK638J7J0AzFlXIwmviPwnY5nH5WyRAQBb05pIaIUDzPIcyQJoEQCoZNqj4pCBAuCNj/C2OH0AAVwI6+QT9PxqMicFkMu0/xNJI2HN4JECzbj76bf0iQOunmITQACRAn+ACDl1qJUDaY5DuhyX/P2oSr/5EKhJAeuz38kAQAkBQvZQAv3EEQNC+Ol/xWhpAsNfqE75tDkAHclrkqtz+PyJLyizI+SFA2EdE1k9uJEDPqZJilY0jQARmn/klQwNA6qpBxIcZDUBAEaC+JsrxPxYixS7f+gJAFJQgTcjACUDm6+vyaIspQKxFhI/lqSlA05pE0XgA+D96vRprFQIKQNbOPaxQnSdAbOBpaT0GIkDFiIkS44AiQODb3krG4AJAMX99YeeLJEBMC2z/flUkQGjUcw0lxR1A3yzdRwPUI0Ad2DdEITUWQD3gNRpBAwJAScltjzGMKkD3sOzfM98EQJ18IIMIdSRAd8AlRWvCFkBwT2sGra4pQKCj1gTsh/4/dLkZzaavEECpxrBif6UkQOBjC5C/Ovw/WFEnVQ0aGkAXYpad8A4fQOcLzHs+PSpA6OqVmqaFJkByGTzVm9IiQDwZPwk11CdAnL8jTyhjJEC3Ub9Br+QeQHUU4lJzfyhA7/+8P74AJUCwXGErpMkPQCjWHhIVuSVAAHuYvBWLJUDfiYF0b7ohQOhRnhS7vhBAF8Lr4d/KCUA4qD7VStMmQBQpPQ4crvE/CreARUMXKUB6wu4ph1L5P3rL18X1uPw/26SKevGkIkDrJUgdC5MTQPotQqARzylANFb2UO3yFkBSla4AFJcRQI2oI0ig1B1A3dsYiVVzHEAGPSrxTtLxP4AQxVIwaRBA6HoBzjsRFUDaUvQ6yBIBQEXiSs6yOhNA7fB+yGld9T8QMTIK+DoTQD0hUuFmlBlAX1jJJffSHEB0L8ryLbQmQNXl0KSXfiNACK8KVQCxHkBdeAwrUT0hQAgu9IJjPxBAk3AHS2eIKUDtVEGfxYsFQLdfv6TFnSVAYAFzClQe9D/63MCpMagNQB/1cJgGTR9Afc7e+jj0HUBUBE/5jlQPQC6HK0J1GSRACHIZ5UbSFkA6B/1vpKgIQH4F9khCUCVANOWoqHFJFUDYwQmESykTQIBo2DAbSvw/Mq5XtsxSGEC4Z4nu/tIRQEyJUM2GcSlA9g4XeJs6I0At/xvcMvoNQIE5R5M3EilAx9MnznufC0DJ7+hBlU0qQC0YG8vIUxFAxHML7BbbI0D/3ZM2/2ATQBSXKZaDqxxA6LL+foa1JEAesivJrockQMZ63JPkciJA8gIxqe0iFUCYoacYFDUlQBJPluiAxBhAEXMhJr3nI0AQzGGBqdwpQGLYW89UXR9AGultwunwKUDLad7fNrgUQDq0fUjnHgRAtOf3WsyGJkBQXOoDB2YXQLPRUeQaF+U/79S4vVSgH0Bqc/elS9MnQEfN53e9rCZARHZvzRE3A0BkXvz+IjkQQER/NB/WJSVAZB+gXkqdEUAI7xL9FCooQD1stHqJXShAf7gBHcbpFkB397XNoo8dQPHk3T2tpChAjw6Ys1NGIUANwGsp16gEQA1ZWmzK2vo/NNDr/ebnEEBAkdF1kKAHQJhb/GcZChZAWn7u2ml/G0CiLBusufAlQIRdjCPZMylAhEQc/FVtIEB0BkcyUYkHQP1FiYX5zRFASN2b+fuhFUC9ZmEq6awmQNP+obOIZBNAWwtJIsbDJkDayUNeMun3P5qbgoJBHPs/6I4jfa4/JkDytSVNlGITQHjgvoCjRiNAAOR9448XHUAgpFNpmmckQAs5wLPNYxJAysUvT4A1I0DU5NyZKBsnQHiG4vFClhxAAWa6/EzXJEDkTWKLgXwVQDSfZnlmdSZA+uOdVI+Q9z/VOmYY1kUhQIQer7eqAQtAY2PgiYS9BkDnnfvekb0NQHR7rpH+ESJAjUoKScUsCUBNDRDZ3HTwP07x5uSfRiRAIAuIYqqwJ0BNjjo1RV8LQI2UugVamwFAHT/+/5pFE0BapgVfR9YnQGCZc2YVIQdAJx+ql0JSDEC+SvNZOisiQO0hEkKCZidACLRII7tQJkDkHmU4gXojQMCFQ93qgwxAMPDEdWilKUBAXDzb63IKQCPDhiPmggZA8NIyliAcHUDSW/CzD2cVQJh102d26xpAWAIb6a9HIEBRMEl1ZyMiQJOya192uyNAf1rLiTR9KkAocsx5LrcmQGRTKqaCyihAnC1oABOlJUCUyfL5yegfQELTg21BhyJAfCSIziZKJ0ACve50HkskQAjyFro+niRALdq4al5FEUByRyAAwqAcQDQbU7L0viJA1whKS0P6DEBglM5AWHkSQGifpL2++yRA6xbcim+PJkA85LrVSNspQMgH5YulzxRA/ChET3X8JUCNLGGpUuD5P9NvhEJbXyZAaYPb/O1UKEBg9EYBIjQmQOO0otMQEgZA6lp0EX+UBECkMHLt4FMJQK1zhxCqDvc/Tb6Zq++aGkAsKg6vPxkoQEBowPNzYRZAj20s2tPnI0C3K7mB6csNQIoeJqAl2RZAh119r67YGkB6JTaVfcwgQKD7h530ox1Ard7l/0IBAkAzc/hylegGQBOMKSjAAvk/FTjt8MvhIUB1E6pycnciQNBBMXPGUiZA1Zmjc+aKJ0AnyLyi2EUmQAR6q7td4BVAtx+ih2S5DkDwKL6sankSQHdyx4Z1wQ5ADcq8LRCVGkBydjV1ZikZQAW8o4aPTRZAqC48vER/KkADFvNOus4iQCgYA6qNxSNAGPtmoOQ8JkBixZdMGWcTQIBnBruHYyNA85MZ+GILKEBAqxsJkrEXQLZcCEGJuSJAGGCibI8yHkCTpXE+a8sFQNpElIG5RgBACkE6rbjsKEBtMDvJ5QESQE9Xb+eXSilADQ1FPNv1KEBMofx9rbsjQGxzqSUmpSdA7RVadA4eCECxpdBCY34qQCSdazjNDhtALemBsVWQAUCwEmF17lAGQDTPh47ARgBA/DkTXalDF0D/viz0qrUdQPjzmCxpHBlAioOBT7qoFUCz1jdlFEYlQP0TT9TJ+BFAIi12jh0aF0Ba7mB9PsnrP8XARRTPZR1A1KlAU5s/KUB1ukDcj2UdQPhybvknSyZAynA0TLX1CUBNvtZXlwIhQLRFnmGogydAWrVI4xvEEEDl418dVZYjQLpiKPUpQQJAVcMj7mVIG0B0URkDYvQdQMCtlZl2tSFAspJNIjVTHkBnsjm28Y0IQDSYKoW+sClAa7oeVUUDFUCoMKoUNxMoQEiT2+gHCCNA5ocOp7rB5z9ykktFSiIjQBF2gmew6ilAOPuW+8qdIUBPUfo2hY4ZQHiiKPPfcShAQJRf3muq6z8W4VfrdXgBQDVy9S7C1xZAOIra/PUlGUCke6gxSa0MQM38D58Sh/g/dKxL6MXD7T9iiqB8kFopQLejbKDKRwpA1PqMzqROGEBNjTrHX3keQEqv17iXKyZAFKdTvXDPI0By8+Pu6u0VQLLGhAY9nSdA5M2Q4TubKUAUbfI90esfQMC7wjeof/E/VzHnP+SFGkCKuRNlbMooQKvVNx3NgiFAvwi3e4hLIUBzX5ILxjnhP9UVGQyWqCNAwBhIKMqi9z8jsO/MRGMGQAYxvC8HsfE/9F07FHQ4HUBaeVzaOhEdQInyVGSm/yJAJk2Da/qcAEDAso7RDKYnQG2RohfaTChAmn9LoXuS9j9tGT8bUzb3P200hRRZBPc/rYYA8Rmk8z+wfGv5Z+cJQN3mBT6OBg9AtI+DjH78D0B9H+UJH5ghQJqL6JXue/k/DwrIqlIWG0C7DgxHgj0nQP+55HCRRx9AFHmdi098IEAlZpuLctggQJXNx2DaDB9AXn73qoGdIkCNqPtgDIIWQAMFftz1LgRAk+NaRPoOJEBHRpf8yI0jQG0yAcBxtfI/Le/GEZMPKUBzVTnqzwjlPzYTtRwiXCVAyUlt0HJdIEAUnRy8URoMQJXQjFED5ilAfL0zf5E2HUAqV8+ncyolQAIUda5XbRdAgH2LUqG/BEBa5CGDYpriP3LAcGAxqxZAQSizxmEtIEAeEUGJxXAkQLTt30Fw8gFALPlzzyfDJEBNz/IE+zUeQMJ+O3WKoiJAhmmONNScJ0AjknZMjEUiQBy25FSkzxtAWokLxGGp6j8qCyvmckoSQBX58//GvBZA5KWcBuwWHUCaCcsii2v+P3TSrsDjPPY/xo51cnWWJ0CUKnDc0wwkQFqzthLkDyJANJf/FerlFkCIAr4QTNwQQOCu50GnRwBAwD4dcmGsIUCnKQUgcQAJQECHxxmHGylA6C1SzXF3FkDoLjX+OEklQK2lUIIe7ClAYrLVG7biGkB0IESrFEsqQNRM5wlieR1A2gY4KNMFB0Cax54SPoXtPzpV11t9mgVAFAv/8tobKEAlJ4Z80yQWQBMkrPLm1ydAONRnFd5MKkCJQLi7AE0jQBBumZH+XCpAzWTUvXc96z/87R2DZ6cVQAg+A9X6kCdAtElSUpwXA0D1Ghy2x7klQHeC5cEpShxADw8yudrZKUAQZYKBA7cYQBQG7Rx3o/s/t4e4ly3kIUD6yDVCIxL9PwCuN0RJ1+Y/qyf5qzRBJkD1NnKRVAonQKUL8RFfWxBAx8P8++7kI0B2Al/oBSslQEAF3OMjmyZAzq9EtkU9KUCV+P/Bfx8UQHo+fwSJLiBA4hZyHTNEIECHgXA9FL4eQBxkQdhmSxtA8MkgE9zvGkA6CsEUSBEXQAJcN7PCzh5A3bse6pzfHUBF4EQ3mpMXQIcZ7Ae57CJAzwe07ak/FUABPiuYsvQiQAqYbjHQnCBA07BGXM/ZEkCt/HxTqwsGQHsL/1dPLiNABgAvtibK9z/Xzpz4vjkSQIUir+VfPBNAAoZWHvETGEDQ9JFMolskQEB9xhPF3hpABNc0dgVDF0D6y3cnLlMJQHt8DJP9QyRAdEdEkU8aIECUw3YmWJT2P8ev42mpbRJAAB+OZzFG8D+QGgHgYjwKQEm3gNGntSRAkKuHsNttBEA9Ek8i6nMKQBs+oCyMbhRAJpVdDnHkKEBQE+EeoeYAQMV/VCrqRChAwsXZGs5HKUBmLQf27EryP2f2r8BRjRRACCOl1kGnHEAwV1gHDuwQQJYTyxAELiRAjTvIuIJD4D/AuSb6i0MZQEc3mVuK4gpA7hm3z7ZkKECRD7UjoEchQE1m6frhPSlAUoJTB5aPE0AgPi6DPvIpQISPqw6iDyBABHcjm6CtKEDIzs7ZM+omQASzlhMvMSdAv5VlQZaXE0A=",
        "encoding": "base64",
        "path": [
         "_data",
         0,
         "y",
         "value"
        ]
       }
      ],
      "model_module": "plotlywidget",
      "model_module_version": "^4.9.0",
      "model_name": "FigureModel",
      "state": {
       "_config": {
        "plotlyServerURL": "https://plot.ly"
       },
       "_data": [
        {
         "marker": {
          "color": "rgb(138,140,147)"
         },
         "mode": "markers",
         "opacity": 0.75,
         "selected": {
          "marker": {
           "color": "rgb(50,62,236)"
          }
         },
         "type": "scattergl",
         "uid": "9ca3d809-ae25-4412-8228-c56e6aed9fea",
         "unselected": {
          "marker": {
           "opacity": 0.375
          }
         },
         "x": {
          "dtype": "float64",
          "shape": [
           1000
          ],
          "value": {}
         },
         "y": {
          "dtype": "float64",
          "shape": [
           1000
          ],
          "value": {}
         }
        }
       ],
       "_js2py_pointsCallback": {},
       "_js2py_restyle": {},
       "_js2py_update": {},
       "_last_layout_edit_id": 1,
       "_layout": {
        "autosize": true,
        "template": {
         "data": {
          "bar": [
           {
            "error_x": {
             "color": "#2a3f5f"
            },
            "error_y": {
             "color": "#2a3f5f"
            },
            "marker": {
             "line": {
              "color": "#E5ECF6",
              "width": 0.5
             }
            },
            "type": "bar"
           }
          ],
          "barpolar": [
           {
            "marker": {
             "line": {
              "color": "#E5ECF6",
              "width": 0.5
             }
            },
            "type": "barpolar"
           }
          ],
          "carpet": [
           {
            "aaxis": {
             "endlinecolor": "#2a3f5f",
             "gridcolor": "white",
             "linecolor": "white",
             "minorgridcolor": "white",
             "startlinecolor": "#2a3f5f"
            },
            "baxis": {
             "endlinecolor": "#2a3f5f",
             "gridcolor": "white",
             "linecolor": "white",
             "minorgridcolor": "white",
             "startlinecolor": "#2a3f5f"
            },
            "type": "carpet"
           }
          ],
          "choropleth": [
           {
            "colorbar": {
             "outlinewidth": 0,
             "ticks": ""
            },
            "type": "choropleth"
           }
          ],
          "contour": [
           {
            "colorbar": {
             "outlinewidth": 0,
             "ticks": ""
            },
            "colorscale": [
             [
              0,
              "#0d0887"
             ],
             [
              0.1111111111111111,
              "#46039f"
             ],
             [
              0.2222222222222222,
              "#7201a8"
             ],
             [
              0.3333333333333333,
              "#9c179e"
             ],
             [
              0.4444444444444444,
              "#bd3786"
             ],
             [
              0.5555555555555556,
              "#d8576b"
             ],
             [
              0.6666666666666666,
              "#ed7953"
             ],
             [
              0.7777777777777778,
              "#fb9f3a"
             ],
             [
              0.8888888888888888,
              "#fdca26"
             ],
             [
              1,
              "#f0f921"
             ]
            ],
            "type": "contour"
           }
          ],
          "contourcarpet": [
           {
            "colorbar": {
             "outlinewidth": 0,
             "ticks": ""
            },
            "type": "contourcarpet"
           }
          ],
          "heatmap": [
           {
            "colorbar": {
             "outlinewidth": 0,
             "ticks": ""
            },
            "colorscale": [
             [
              0,
              "#0d0887"
             ],
             [
              0.1111111111111111,
              "#46039f"
             ],
             [
              0.2222222222222222,
              "#7201a8"
             ],
             [
              0.3333333333333333,
              "#9c179e"
             ],
             [
              0.4444444444444444,
              "#bd3786"
             ],
             [
              0.5555555555555556,
              "#d8576b"
             ],
             [
              0.6666666666666666,
              "#ed7953"
             ],
             [
              0.7777777777777778,
              "#fb9f3a"
             ],
             [
              0.8888888888888888,
              "#fdca26"
             ],
             [
              1,
              "#f0f921"
             ]
            ],
            "type": "heatmap"
           }
          ],
          "heatmapgl": [
           {
            "colorbar": {
             "outlinewidth": 0,
             "ticks": ""
            },
            "colorscale": [
             [
              0,
              "#0d0887"
             ],
             [
              0.1111111111111111,
              "#46039f"
             ],
             [
              0.2222222222222222,
              "#7201a8"
             ],
             [
              0.3333333333333333,
              "#9c179e"
             ],
             [
              0.4444444444444444,
              "#bd3786"
             ],
             [
              0.5555555555555556,
              "#d8576b"
             ],
             [
              0.6666666666666666,
              "#ed7953"
             ],
             [
              0.7777777777777778,
              "#fb9f3a"
             ],
             [
              0.8888888888888888,
              "#fdca26"
             ],
             [
              1,
              "#f0f921"
             ]
            ],
            "type": "heatmapgl"
           }
          ],
          "histogram": [
           {
            "marker": {
             "colorbar": {
              "outlinewidth": 0,
              "ticks": ""
             }
            },
            "type": "histogram"
           }
          ],
          "histogram2d": [
           {
            "colorbar": {
             "outlinewidth": 0,
             "ticks": ""
            },
            "colorscale": [
             [
              0,
              "#0d0887"
             ],
             [
              0.1111111111111111,
              "#46039f"
             ],
             [
              0.2222222222222222,
              "#7201a8"
             ],
             [
              0.3333333333333333,
              "#9c179e"
             ],
             [
              0.4444444444444444,
              "#bd3786"
             ],
             [
              0.5555555555555556,
              "#d8576b"
             ],
             [
              0.6666666666666666,
              "#ed7953"
             ],
             [
              0.7777777777777778,
              "#fb9f3a"
             ],
             [
              0.8888888888888888,
              "#fdca26"
             ],
             [
              1,
              "#f0f921"
             ]
            ],
            "type": "histogram2d"
           }
          ],
          "histogram2dcontour": [
           {
            "colorbar": {
             "outlinewidth": 0,
             "ticks": ""
            },
            "colorscale": [
             [
              0,
              "#0d0887"
             ],
             [
              0.1111111111111111,
              "#46039f"
             ],
             [
              0.2222222222222222,
              "#7201a8"
             ],
             [
              0.3333333333333333,
              "#9c179e"
             ],
             [
              0.4444444444444444,
              "#bd3786"
             ],
             [
              0.5555555555555556,
              "#d8576b"
             ],
             [
              0.6666666666666666,
              "#ed7953"
             ],
             [
              0.7777777777777778,
              "#fb9f3a"
             ],
             [
              0.8888888888888888,
              "#fdca26"
             ],
             [
              1,
              "#f0f921"
             ]
            ],
            "type": "histogram2dcontour"
           }
          ],
          "mesh3d": [
           {
            "colorbar": {
             "outlinewidth": 0,
             "ticks": ""
            },
            "type": "mesh3d"
           }
          ],
          "parcoords": [
           {
            "line": {
             "colorbar": {
              "outlinewidth": 0,
              "ticks": ""
             }
            },
            "type": "parcoords"
           }
          ],
          "pie": [
           {
            "automargin": true,
            "type": "pie"
           }
          ],
          "scatter": [
           {
            "marker": {
             "colorbar": {
              "outlinewidth": 0,
              "ticks": ""
             }
            },
            "type": "scatter"
           }
          ],
          "scatter3d": [
           {
            "line": {
             "colorbar": {
              "outlinewidth": 0,
              "ticks": ""
             }
            },
            "marker": {
             "colorbar": {
              "outlinewidth": 0,
              "ticks": ""
             }
            },
            "type": "scatter3d"
           }
          ],
          "scattercarpet": [
           {
            "marker": {
             "colorbar": {
              "outlinewidth": 0,
              "ticks": ""
             }
            },
            "type": "scattercarpet"
           }
          ],
          "scattergeo": [
           {
            "marker": {
             "colorbar": {
              "outlinewidth": 0,
              "ticks": ""
             }
            },
            "type": "scattergeo"
           }
          ],
          "scattergl": [
           {
            "marker": {
             "colorbar": {
              "outlinewidth": 0,
              "ticks": ""
             }
            },
            "type": "scattergl"
           }
          ],
          "scattermapbox": [
           {
            "marker": {
             "colorbar": {
              "outlinewidth": 0,
              "ticks": ""
             }
            },
            "type": "scattermapbox"
           }
          ],
          "scatterpolar": [
           {
            "marker": {
             "colorbar": {
              "outlinewidth": 0,
              "ticks": ""
             }
            },
            "type": "scatterpolar"
           }
          ],
          "scatterpolargl": [
           {
            "marker": {
             "colorbar": {
              "outlinewidth": 0,
              "ticks": ""
             }
            },
            "type": "scatterpolargl"
           }
          ],
          "scatterternary": [
           {
            "marker": {
             "colorbar": {
              "outlinewidth": 0,
              "ticks": ""
             }
            },
            "type": "scatterternary"
           }
          ],
          "surface": [
           {
            "colorbar": {
             "outlinewidth": 0,
             "ticks": ""
            },
            "colorscale": [
             [
              0,
              "#0d0887"
             ],
             [
              0.1111111111111111,
              "#46039f"
             ],
             [
              0.2222222222222222,
              "#7201a8"
             ],
             [
              0.3333333333333333,
              "#9c179e"
             ],
             [
              0.4444444444444444,
              "#bd3786"
             ],
             [
              0.5555555555555556,
              "#d8576b"
             ],
             [
              0.6666666666666666,
              "#ed7953"
             ],
             [
              0.7777777777777778,
              "#fb9f3a"
             ],
             [
              0.8888888888888888,
              "#fdca26"
             ],
             [
              1,
              "#f0f921"
             ]
            ],
            "type": "surface"
           }
          ],
          "table": [
           {
            "cells": {
             "fill": {
              "color": "#EBF0F8"
             },
             "line": {
              "color": "white"
             }
            },
            "header": {
             "fill": {
              "color": "#C8D4E3"
             },
             "line": {
              "color": "white"
             }
            },
            "type": "table"
           }
          ]
         },
         "layout": {
          "annotationdefaults": {
           "arrowcolor": "#2a3f5f",
           "arrowhead": 0,
           "arrowwidth": 1
          },
          "coloraxis": {
           "colorbar": {
            "outlinewidth": 0,
            "ticks": ""
           }
          },
          "colorscale": {
           "diverging": [
            [
             0,
             "#8e0152"
            ],
            [
             0.1,
             "#c51b7d"
            ],
            [
             0.2,
             "#de77ae"
            ],
            [
             0.3,
             "#f1b6da"
            ],
            [
             0.4,
             "#fde0ef"
            ],
            [
             0.5,
             "#f7f7f7"
            ],
            [
             0.6,
             "#e6f5d0"
            ],
            [
             0.7,
             "#b8e186"
            ],
            [
             0.8,
             "#7fbc41"
            ],
            [
             0.9,
             "#4d9221"
            ],
            [
             1,
             "#276419"
            ]
           ],
           "sequential": [
            [
             0,
             "#0d0887"
            ],
            [
             0.1111111111111111,
             "#46039f"
            ],
            [
             0.2222222222222222,
             "#7201a8"
            ],
            [
             0.3333333333333333,
             "#9c179e"
            ],
            [
             0.4444444444444444,
             "#bd3786"
            ],
            [
             0.5555555555555556,
             "#d8576b"
            ],
            [
             0.6666666666666666,
             "#ed7953"
            ],
            [
             0.7777777777777778,
             "#fb9f3a"
            ],
            [
             0.8888888888888888,
             "#fdca26"
            ],
            [
             1,
             "#f0f921"
            ]
           ],
           "sequentialminus": [
            [
             0,
             "#0d0887"
            ],
            [
             0.1111111111111111,
             "#46039f"
            ],
            [
             0.2222222222222222,
             "#7201a8"
            ],
            [
             0.3333333333333333,
             "#9c179e"
            ],
            [
             0.4444444444444444,
             "#bd3786"
            ],
            [
             0.5555555555555556,
             "#d8576b"
            ],
            [
             0.6666666666666666,
             "#ed7953"
            ],
            [
             0.7777777777777778,
             "#fb9f3a"
            ],
            [
             0.8888888888888888,
             "#fdca26"
            ],
            [
             1,
             "#f0f921"
            ]
           ]
          },
          "colorway": [
           "#636efa",
           "#EF553B",
           "#00cc96",
           "#ab63fa",
           "#FFA15A",
           "#19d3f3",
           "#FF6692",
           "#B6E880",
           "#FF97FF",
           "#FECB52"
          ],
          "font": {
           "color": "#2a3f5f"
          },
          "geo": {
           "bgcolor": "white",
           "lakecolor": "white",
           "landcolor": "#E5ECF6",
           "showlakes": true,
           "showland": true,
           "subunitcolor": "white"
          },
          "hoverlabel": {
           "align": "left"
          },
          "hovermode": "closest",
          "mapbox": {
           "style": "light"
          },
          "paper_bgcolor": "white",
          "plot_bgcolor": "#E5ECF6",
          "polar": {
           "angularaxis": {
            "gridcolor": "white",
            "linecolor": "white",
            "ticks": ""
           },
           "bgcolor": "#E5ECF6",
           "radialaxis": {
            "gridcolor": "white",
            "linecolor": "white",
            "ticks": ""
           }
          },
          "scene": {
           "xaxis": {
            "backgroundcolor": "#E5ECF6",
            "gridcolor": "white",
            "gridwidth": 2,
            "linecolor": "white",
            "showbackground": true,
            "ticks": "",
            "zerolinecolor": "white"
           },
           "yaxis": {
            "backgroundcolor": "#E5ECF6",
            "gridcolor": "white",
            "gridwidth": 2,
            "linecolor": "white",
            "showbackground": true,
            "ticks": "",
            "zerolinecolor": "white"
           },
           "zaxis": {
            "backgroundcolor": "#E5ECF6",
            "gridcolor": "white",
            "gridwidth": 2,
            "linecolor": "white",
            "showbackground": true,
            "ticks": "",
            "zerolinecolor": "white"
           }
          },
          "shapedefaults": {
           "line": {
            "color": "#2a3f5f"
           }
          },
          "ternary": {
           "aaxis": {
            "gridcolor": "white",
            "linecolor": "white",
            "ticks": ""
           },
           "baxis": {
            "gridcolor": "white",
            "linecolor": "white",
            "ticks": ""
           },
           "bgcolor": "#E5ECF6",
           "caxis": {
            "gridcolor": "white",
            "linecolor": "white",
            "ticks": ""
           }
          },
          "title": {
           "x": 0.05
          },
          "xaxis": {
           "automargin": true,
           "gridcolor": "white",
           "linecolor": "white",
           "ticks": "",
           "title": {
            "standoff": 15
           },
           "zerolinecolor": "white",
           "zerolinewidth": 2
          },
          "yaxis": {
           "automargin": true,
           "gridcolor": "white",
           "linecolor": "white",
           "ticks": "",
           "title": {
            "standoff": 15
           },
           "zerolinecolor": "white",
           "zerolinewidth": 2
          }
         }
        },
        "title": {
         "text": "Scatter"
        }
       },
       "_py2js_addTraces": {},
       "_py2js_animate": {},
       "_py2js_deleteTraces": {},
       "_py2js_moveTraces": {},
       "_py2js_removeLayoutProps": {},
       "_py2js_removeTraceProps": {},
       "_py2js_restyle": {},
       "_py2js_update": {},
       "_view_count": 0
      }
     },
     "1e27c398a353451aa77af9d863beea66": {
      "model_module": "@jupyter-widgets/base",
      "model_module_version": "1.2.0",
      "model_name": "LayoutModel",
      "state": {}
     },
     "1f226461f07b41299c32293ad526cfd2": {
      "model_module": "@jupyter-widgets/base",
      "model_module_version": "1.2.0",
      "model_name": "LayoutModel",
      "state": {}
     },
     "24bfb57412c14150b0431d4a37adc3f9": {
      "model_module": "@jupyter-widgets/controls",
      "model_module_version": "1.5.0",
      "model_name": "VBoxModel",
      "state": {
       "children": [
        "IPY_MODEL_9b77b2d337104a51820faf4cc4b9a39f",
        "IPY_MODEL_28a50eb26e35487894878247457aa39e"
       ],
       "layout": "IPY_MODEL_a951995bba6144e8b67cf9d4b25119b2"
      }
     },
     "265388bc237d44dcbcf8a2f52bfb196f": {
      "model_module": "@jupyter-widgets/controls",
      "model_module_version": "1.5.0",
      "model_name": "VBoxModel",
      "state": {
       "children": [
        "IPY_MODEL_027d3bbdf3f241bbb8674e75f91b7318",
        "IPY_MODEL_285155bd504e4b3ba3aaa31d15a3d743"
       ],
       "layout": "IPY_MODEL_be4c679ad10b46ed8d2ec05ffd35ce51"
      }
     },
     "278c17de9fc54c83b256cd6d1008dc72": {
      "model_module": "@jupyter-widgets/base",
      "model_module_version": "1.2.0",
      "model_name": "LayoutModel",
      "state": {}
     },
     "285155bd504e4b3ba3aaa31d15a3d743": {
      "buffers": [
       {
        "data": "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",
        "encoding": "base64",
        "path": [
         "_data",
         0,
         "x",
         "value"
        ]
       },
       {
        "data": "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",
        "encoding": "base64",
        "path": [
         "_data",
         0,
         "y",
         "value"
        ]
       }
      ],
      "model_module": "plotlywidget",
      "model_module_version": "^4.9.0",
      "model_name": "FigureModel",
      "state": {
       "_config": {
        "plotlyServerURL": "https://plot.ly"
       },
       "_data": [
        {
         "marker": {
          "color": "rgb(138,140,147)"
         },
         "mode": "markers",
         "opacity": 0.75,
         "selected": {
          "marker": {
           "color": "rgb(50,62,236)"
          }
         },
         "type": "scattergl",
         "uid": "3922ca49-1e76-4f82-9b00-80632fe62e15",
         "unselected": {
          "marker": {
           "opacity": 0.375
          }
         },
         "x": {
          "dtype": "float64",
          "shape": [
           1000
          ],
          "value": {}
         },
         "y": {
          "dtype": "float64",
          "shape": [
           1000
          ],
          "value": {}
         }
        }
       ],
       "_js2py_pointsCallback": {},
       "_js2py_restyle": {},
       "_js2py_update": {},
       "_last_layout_edit_id": 1,
       "_layout": {
        "autosize": true,
        "template": {
         "data": {
          "bar": [
           {
            "error_x": {
             "color": "#2a3f5f"
            },
            "error_y": {
             "color": "#2a3f5f"
            },
            "marker": {
             "line": {
              "color": "#E5ECF6",
              "width": 0.5
             }
            },
            "type": "bar"
           }
          ],
          "barpolar": [
           {
            "marker": {
             "line": {
              "color": "#E5ECF6",
              "width": 0.5
             }
            },
            "type": "barpolar"
           }
          ],
          "carpet": [
           {
            "aaxis": {
             "endlinecolor": "#2a3f5f",
             "gridcolor": "white",
             "linecolor": "white",
             "minorgridcolor": "white",
             "startlinecolor": "#2a3f5f"
            },
            "baxis": {
             "endlinecolor": "#2a3f5f",
             "gridcolor": "white",
             "linecolor": "white",
             "minorgridcolor": "white",
             "startlinecolor": "#2a3f5f"
            },
            "type": "carpet"
           }
          ],
          "choropleth": [
           {
            "colorbar": {
             "outlinewidth": 0,
             "ticks": ""
            },
            "type": "choropleth"
           }
          ],
          "contour": [
           {
            "colorbar": {
             "outlinewidth": 0,
             "ticks": ""
            },
            "colorscale": [
             [
              0,
              "#0d0887"
             ],
             [
              0.1111111111111111,
              "#46039f"
             ],
             [
              0.2222222222222222,
              "#7201a8"
             ],
             [
              0.3333333333333333,
              "#9c179e"
             ],
             [
              0.4444444444444444,
              "#bd3786"
             ],
             [
              0.5555555555555556,
              "#d8576b"
             ],
             [
              0.6666666666666666,
              "#ed7953"
             ],
             [
              0.7777777777777778,
              "#fb9f3a"
             ],
             [
              0.8888888888888888,
              "#fdca26"
             ],
             [
              1,
              "#f0f921"
             ]
            ],
            "type": "contour"
           }
          ],
          "contourcarpet": [
           {
            "colorbar": {
             "outlinewidth": 0,
             "ticks": ""
            },
            "type": "contourcarpet"
           }
          ],
          "heatmap": [
           {
            "colorbar": {
             "outlinewidth": 0,
             "ticks": ""
            },
            "colorscale": [
             [
              0,
              "#0d0887"
             ],
             [
              0.1111111111111111,
              "#46039f"
             ],
             [
              0.2222222222222222,
              "#7201a8"
             ],
             [
              0.3333333333333333,
              "#9c179e"
             ],
             [
              0.4444444444444444,
              "#bd3786"
             ],
             [
              0.5555555555555556,
              "#d8576b"
             ],
             [
              0.6666666666666666,
              "#ed7953"
             ],
             [
              0.7777777777777778,
              "#fb9f3a"
             ],
             [
              0.8888888888888888,
              "#fdca26"
             ],
             [
              1,
              "#f0f921"
             ]
            ],
            "type": "heatmap"
           }
          ],
          "heatmapgl": [
           {
            "colorbar": {
             "outlinewidth": 0,
             "ticks": ""
            },
            "colorscale": [
             [
              0,
              "#0d0887"
             ],
             [
              0.1111111111111111,
              "#46039f"
             ],
             [
              0.2222222222222222,
              "#7201a8"
             ],
             [
              0.3333333333333333,
              "#9c179e"
             ],
             [
              0.4444444444444444,
              "#bd3786"
             ],
             [
              0.5555555555555556,
              "#d8576b"
             ],
             [
              0.6666666666666666,
              "#ed7953"
             ],
             [
              0.7777777777777778,
              "#fb9f3a"
             ],
             [
              0.8888888888888888,
              "#fdca26"
             ],
             [
              1,
              "#f0f921"
             ]
            ],
            "type": "heatmapgl"
           }
          ],
          "histogram": [
           {
            "marker": {
             "colorbar": {
              "outlinewidth": 0,
              "ticks": ""
             }
            },
            "type": "histogram"
           }
          ],
          "histogram2d": [
           {
            "colorbar": {
             "outlinewidth": 0,
             "ticks": ""
            },
            "colorscale": [
             [
              0,
              "#0d0887"
             ],
             [
              0.1111111111111111,
              "#46039f"
             ],
             [
              0.2222222222222222,
              "#7201a8"
             ],
             [
              0.3333333333333333,
              "#9c179e"
             ],
             [
              0.4444444444444444,
              "#bd3786"
             ],
             [
              0.5555555555555556,
              "#d8576b"
             ],
             [
              0.6666666666666666,
              "#ed7953"
             ],
             [
              0.7777777777777778,
              "#fb9f3a"
             ],
             [
              0.8888888888888888,
              "#fdca26"
             ],
             [
              1,
              "#f0f921"
             ]
            ],
            "type": "histogram2d"
           }
          ],
          "histogram2dcontour": [
           {
            "colorbar": {
             "outlinewidth": 0,
             "ticks": ""
            },
            "colorscale": [
             [
              0,
              "#0d0887"
             ],
             [
              0.1111111111111111,
              "#46039f"
             ],
             [
              0.2222222222222222,
              "#7201a8"
             ],
             [
              0.3333333333333333,
              "#9c179e"
             ],
             [
              0.4444444444444444,
              "#bd3786"
             ],
             [
              0.5555555555555556,
              "#d8576b"
             ],
             [
              0.6666666666666666,
              "#ed7953"
             ],
             [
              0.7777777777777778,
              "#fb9f3a"
             ],
             [
              0.8888888888888888,
              "#fdca26"
             ],
             [
              1,
              "#f0f921"
             ]
            ],
            "type": "histogram2dcontour"
           }
          ],
          "mesh3d": [
           {
            "colorbar": {
             "outlinewidth": 0,
             "ticks": ""
            },
            "type": "mesh3d"
           }
          ],
          "parcoords": [
           {
            "line": {
             "colorbar": {
              "outlinewidth": 0,
              "ticks": ""
             }
            },
            "type": "parcoords"
           }
          ],
          "pie": [
           {
            "automargin": true,
            "type": "pie"
           }
          ],
          "scatter": [
           {
            "marker": {
             "colorbar": {
              "outlinewidth": 0,
              "ticks": ""
             }
            },
            "type": "scatter"
           }
          ],
          "scatter3d": [
           {
            "line": {
             "colorbar": {
              "outlinewidth": 0,
              "ticks": ""
             }
            },
            "marker": {
             "colorbar": {
              "outlinewidth": 0,
              "ticks": ""
             }
            },
            "type": "scatter3d"
           }
          ],
          "scattercarpet": [
           {
            "marker": {
             "colorbar": {
              "outlinewidth": 0,
              "ticks": ""
             }
            },
            "type": "scattercarpet"
           }
          ],
          "scattergeo": [
           {
            "marker": {
             "colorbar": {
              "outlinewidth": 0,
              "ticks": ""
             }
            },
            "type": "scattergeo"
           }
          ],
          "scattergl": [
           {
            "marker": {
             "colorbar": {
              "outlinewidth": 0,
              "ticks": ""
             }
            },
            "type": "scattergl"
           }
          ],
          "scattermapbox": [
           {
            "marker": {
             "colorbar": {
              "outlinewidth": 0,
              "ticks": ""
             }
            },
            "type": "scattermapbox"
           }
          ],
          "scatterpolar": [
           {
            "marker": {
             "colorbar": {
              "outlinewidth": 0,
              "ticks": ""
             }
            },
            "type": "scatterpolar"
           }
          ],
          "scatterpolargl": [
           {
            "marker": {
             "colorbar": {
              "outlinewidth": 0,
              "ticks": ""
             }
            },
            "type": "scatterpolargl"
           }
          ],
          "scatterternary": [
           {
            "marker": {
             "colorbar": {
              "outlinewidth": 0,
              "ticks": ""
             }
            },
            "type": "scatterternary"
           }
          ],
          "surface": [
           {
            "colorbar": {
             "outlinewidth": 0,
             "ticks": ""
            },
            "colorscale": [
             [
              0,
              "#0d0887"
             ],
             [
              0.1111111111111111,
              "#46039f"
             ],
             [
              0.2222222222222222,
              "#7201a8"
             ],
             [
              0.3333333333333333,
              "#9c179e"
             ],
             [
              0.4444444444444444,
              "#bd3786"
             ],
             [
              0.5555555555555556,
              "#d8576b"
             ],
             [
              0.6666666666666666,
              "#ed7953"
             ],
             [
              0.7777777777777778,
              "#fb9f3a"
             ],
             [
              0.8888888888888888,
              "#fdca26"
             ],
             [
              1,
              "#f0f921"
             ]
            ],
            "type": "surface"
           }
          ],
          "table": [
           {
            "cells": {
             "fill": {
              "color": "#EBF0F8"
             },
             "line": {
              "color": "white"
             }
            },
            "header": {
             "fill": {
              "color": "#C8D4E3"
             },
             "line": {
              "color": "white"
             }
            },
            "type": "table"
           }
          ]
         },
         "layout": {
          "annotationdefaults": {
           "arrowcolor": "#2a3f5f",
           "arrowhead": 0,
           "arrowwidth": 1
          },
          "coloraxis": {
           "colorbar": {
            "outlinewidth": 0,
            "ticks": ""
           }
          },
          "colorscale": {
           "diverging": [
            [
             0,
             "#8e0152"
            ],
            [
             0.1,
             "#c51b7d"
            ],
            [
             0.2,
             "#de77ae"
            ],
            [
             0.3,
             "#f1b6da"
            ],
            [
             0.4,
             "#fde0ef"
            ],
            [
             0.5,
             "#f7f7f7"
            ],
            [
             0.6,
             "#e6f5d0"
            ],
            [
             0.7,
             "#b8e186"
            ],
            [
             0.8,
             "#7fbc41"
            ],
            [
             0.9,
             "#4d9221"
            ],
            [
             1,
             "#276419"
            ]
           ],
           "sequential": [
            [
             0,
             "#0d0887"
            ],
            [
             0.1111111111111111,
             "#46039f"
            ],
            [
             0.2222222222222222,
             "#7201a8"
            ],
            [
             0.3333333333333333,
             "#9c179e"
            ],
            [
             0.4444444444444444,
             "#bd3786"
            ],
            [
             0.5555555555555556,
             "#d8576b"
            ],
            [
             0.6666666666666666,
             "#ed7953"
            ],
            [
             0.7777777777777778,
             "#fb9f3a"
            ],
            [
             0.8888888888888888,
             "#fdca26"
            ],
            [
             1,
             "#f0f921"
            ]
           ],
           "sequentialminus": [
            [
             0,
             "#0d0887"
            ],
            [
             0.1111111111111111,
             "#46039f"
            ],
            [
             0.2222222222222222,
             "#7201a8"
            ],
            [
             0.3333333333333333,
             "#9c179e"
            ],
            [
             0.4444444444444444,
             "#bd3786"
            ],
            [
             0.5555555555555556,
             "#d8576b"
            ],
            [
             0.6666666666666666,
             "#ed7953"
            ],
            [
             0.7777777777777778,
             "#fb9f3a"
            ],
            [
             0.8888888888888888,
             "#fdca26"
            ],
            [
             1,
             "#f0f921"
            ]
           ]
          },
          "colorway": [
           "#636efa",
           "#EF553B",
           "#00cc96",
           "#ab63fa",
           "#FFA15A",
           "#19d3f3",
           "#FF6692",
           "#B6E880",
           "#FF97FF",
           "#FECB52"
          ],
          "font": {
           "color": "#2a3f5f"
          },
          "geo": {
           "bgcolor": "white",
           "lakecolor": "white",
           "landcolor": "#E5ECF6",
           "showlakes": true,
           "showland": true,
           "subunitcolor": "white"
          },
          "hoverlabel": {
           "align": "left"
          },
          "hovermode": "closest",
          "mapbox": {
           "style": "light"
          },
          "paper_bgcolor": "white",
          "plot_bgcolor": "#E5ECF6",
          "polar": {
           "angularaxis": {
            "gridcolor": "white",
            "linecolor": "white",
            "ticks": ""
           },
           "bgcolor": "#E5ECF6",
           "radialaxis": {
            "gridcolor": "white",
            "linecolor": "white",
            "ticks": ""
           }
          },
          "scene": {
           "xaxis": {
            "backgroundcolor": "#E5ECF6",
            "gridcolor": "white",
            "gridwidth": 2,
            "linecolor": "white",
            "showbackground": true,
            "ticks": "",
            "zerolinecolor": "white"
           },
           "yaxis": {
            "backgroundcolor": "#E5ECF6",
            "gridcolor": "white",
            "gridwidth": 2,
            "linecolor": "white",
            "showbackground": true,
            "ticks": "",
            "zerolinecolor": "white"
           },
           "zaxis": {
            "backgroundcolor": "#E5ECF6",
            "gridcolor": "white",
            "gridwidth": 2,
            "linecolor": "white",
            "showbackground": true,
            "ticks": "",
            "zerolinecolor": "white"
           }
          },
          "shapedefaults": {
           "line": {
            "color": "#2a3f5f"
           }
          },
          "ternary": {
           "aaxis": {
            "gridcolor": "white",
            "linecolor": "white",
            "ticks": ""
           },
           "baxis": {
            "gridcolor": "white",
            "linecolor": "white",
            "ticks": ""
           },
           "bgcolor": "#E5ECF6",
           "caxis": {
            "gridcolor": "white",
            "linecolor": "white",
            "ticks": ""
           }
          },
          "title": {
           "x": 0.05
          },
          "xaxis": {
           "automargin": true,
           "gridcolor": "white",
           "linecolor": "white",
           "ticks": "",
           "title": {
            "standoff": 15
           },
           "zerolinecolor": "white",
           "zerolinewidth": 2
          },
          "yaxis": {
           "automargin": true,
           "gridcolor": "white",
           "linecolor": "white",
           "ticks": "",
           "title": {
            "standoff": 15
           },
           "zerolinecolor": "white",
           "zerolinewidth": 2
          }
         }
        },
        "title": {
         "text": "Scatter"
        }
       },
       "_py2js_addTraces": {},
       "_py2js_animate": {},
       "_py2js_deleteTraces": {},
       "_py2js_moveTraces": {},
       "_py2js_removeLayoutProps": {},
       "_py2js_removeTraceProps": {},
       "_py2js_restyle": {},
       "_py2js_update": {},
       "_view_count": 1
      }
     },
     "28a50eb26e35487894878247457aa39e": {
      "buffers": [
       {
        "data": "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",
        "encoding": "base64",
        "path": [
         "_data",
         0,
         "x",
         "value"
        ]
       },
       {
        "data": "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",
        "encoding": "base64",
        "path": [
         "_data",
         0,
         "y",
         "value"
        ]
       }
      ],
      "model_module": "plotlywidget",
      "model_module_version": "^4.9.0",
      "model_name": "FigureModel",
      "state": {
       "_config": {
        "plotlyServerURL": "https://plot.ly"
       },
       "_data": [
        {
         "marker": {
          "color": "rgb(138,140,147)"
         },
         "mode": "markers",
         "opacity": 0.75,
         "selected": {
          "marker": {
           "color": "rgb(50,62,236)"
          }
         },
         "type": "scattergl",
         "uid": "d5ffb72f-718a-4100-a1ae-5a624c420f19",
         "unselected": {
          "marker": {
           "opacity": 0.375
          }
         },
         "x": {
          "dtype": "float64",
          "shape": [
           1000
          ],
          "value": {}
         },
         "y": {
          "dtype": "float64",
          "shape": [
           1000
          ],
          "value": {}
         }
        }
       ],
       "_js2py_restyle": {},
       "_js2py_update": {},
       "_last_layout_edit_id": 3,
       "_layout": {
        "autosize": true,
        "template": {
         "data": {
          "bar": [
           {
            "error_x": {
             "color": "#2a3f5f"
            },
            "error_y": {
             "color": "#2a3f5f"
            },
            "marker": {
             "line": {
              "color": "#E5ECF6",
              "width": 0.5
             }
            },
            "type": "bar"
           }
          ],
          "barpolar": [
           {
            "marker": {
             "line": {
              "color": "#E5ECF6",
              "width": 0.5
             }
            },
            "type": "barpolar"
           }
          ],
          "carpet": [
           {
            "aaxis": {
             "endlinecolor": "#2a3f5f",
             "gridcolor": "white",
             "linecolor": "white",
             "minorgridcolor": "white",
             "startlinecolor": "#2a3f5f"
            },
            "baxis": {
             "endlinecolor": "#2a3f5f",
             "gridcolor": "white",
             "linecolor": "white",
             "minorgridcolor": "white",
             "startlinecolor": "#2a3f5f"
            },
            "type": "carpet"
           }
          ],
          "choropleth": [
           {
            "colorbar": {
             "outlinewidth": 0,
             "ticks": ""
            },
            "type": "choropleth"
           }
          ],
          "contour": [
           {
            "colorbar": {
             "outlinewidth": 0,
             "ticks": ""
            },
            "colorscale": [
             [
              0,
              "#0d0887"
             ],
             [
              0.1111111111111111,
              "#46039f"
             ],
             [
              0.2222222222222222,
              "#7201a8"
             ],
             [
              0.3333333333333333,
              "#9c179e"
             ],
             [
              0.4444444444444444,
              "#bd3786"
             ],
             [
              0.5555555555555556,
              "#d8576b"
             ],
             [
              0.6666666666666666,
              "#ed7953"
             ],
             [
              0.7777777777777778,
              "#fb9f3a"
             ],
             [
              0.8888888888888888,
              "#fdca26"
             ],
             [
              1,
              "#f0f921"
             ]
            ],
            "type": "contour"
           }
          ],
          "contourcarpet": [
           {
            "colorbar": {
             "outlinewidth": 0,
             "ticks": ""
            },
            "type": "contourcarpet"
           }
          ],
          "heatmap": [
           {
            "colorbar": {
             "outlinewidth": 0,
             "ticks": ""
            },
            "colorscale": [
             [
              0,
              "#0d0887"
             ],
             [
              0.1111111111111111,
              "#46039f"
             ],
             [
              0.2222222222222222,
              "#7201a8"
             ],
             [
              0.3333333333333333,
              "#9c179e"
             ],
             [
              0.4444444444444444,
              "#bd3786"
             ],
             [
              0.5555555555555556,
              "#d8576b"
             ],
             [
              0.6666666666666666,
              "#ed7953"
             ],
             [
              0.7777777777777778,
              "#fb9f3a"
             ],
             [
              0.8888888888888888,
              "#fdca26"
             ],
             [
              1,
              "#f0f921"
             ]
            ],
            "type": "heatmap"
           }
          ],
          "heatmapgl": [
           {
            "colorbar": {
             "outlinewidth": 0,
             "ticks": ""
            },
            "colorscale": [
             [
              0,
              "#0d0887"
             ],
             [
              0.1111111111111111,
              "#46039f"
             ],
             [
              0.2222222222222222,
              "#7201a8"
             ],
             [
              0.3333333333333333,
              "#9c179e"
             ],
             [
              0.4444444444444444,
              "#bd3786"
             ],
             [
              0.5555555555555556,
              "#d8576b"
             ],
             [
              0.6666666666666666,
              "#ed7953"
             ],
             [
              0.7777777777777778,
              "#fb9f3a"
             ],
             [
              0.8888888888888888,
              "#fdca26"
             ],
             [
              1,
              "#f0f921"
             ]
            ],
            "type": "heatmapgl"
           }
          ],
          "histogram": [
           {
            "marker": {
             "colorbar": {
              "outlinewidth": 0,
              "ticks": ""
             }
            },
            "type": "histogram"
           }
          ],
          "histogram2d": [
           {
            "colorbar": {
             "outlinewidth": 0,
             "ticks": ""
            },
            "colorscale": [
             [
              0,
              "#0d0887"
             ],
             [
              0.1111111111111111,
              "#46039f"
             ],
             [
              0.2222222222222222,
              "#7201a8"
             ],
             [
              0.3333333333333333,
              "#9c179e"
             ],
             [
              0.4444444444444444,
              "#bd3786"
             ],
             [
              0.5555555555555556,
              "#d8576b"
             ],
             [
              0.6666666666666666,
              "#ed7953"
             ],
             [
              0.7777777777777778,
              "#fb9f3a"
             ],
             [
              0.8888888888888888,
              "#fdca26"
             ],
             [
              1,
              "#f0f921"
             ]
            ],
            "type": "histogram2d"
           }
          ],
          "histogram2dcontour": [
           {
            "colorbar": {
             "outlinewidth": 0,
             "ticks": ""
            },
            "colorscale": [
             [
              0,
              "#0d0887"
             ],
             [
              0.1111111111111111,
              "#46039f"
             ],
             [
              0.2222222222222222,
              "#7201a8"
             ],
             [
              0.3333333333333333,
              "#9c179e"
             ],
             [
              0.4444444444444444,
              "#bd3786"
             ],
             [
              0.5555555555555556,
              "#d8576b"
             ],
             [
              0.6666666666666666,
              "#ed7953"
             ],
             [
              0.7777777777777778,
              "#fb9f3a"
             ],
             [
              0.8888888888888888,
              "#fdca26"
             ],
             [
              1,
              "#f0f921"
             ]
            ],
            "type": "histogram2dcontour"
           }
          ],
          "mesh3d": [
           {
            "colorbar": {
             "outlinewidth": 0,
             "ticks": ""
            },
            "type": "mesh3d"
           }
          ],
          "parcoords": [
           {
            "line": {
             "colorbar": {
              "outlinewidth": 0,
              "ticks": ""
             }
            },
            "type": "parcoords"
           }
          ],
          "pie": [
           {
            "automargin": true,
            "type": "pie"
           }
          ],
          "scatter": [
           {
            "marker": {
             "colorbar": {
              "outlinewidth": 0,
              "ticks": ""
             }
            },
            "type": "scatter"
           }
          ],
          "scatter3d": [
           {
            "line": {
             "colorbar": {
              "outlinewidth": 0,
              "ticks": ""
             }
            },
            "marker": {
             "colorbar": {
              "outlinewidth": 0,
              "ticks": ""
             }
            },
            "type": "scatter3d"
           }
          ],
          "scattercarpet": [
           {
            "marker": {
             "colorbar": {
              "outlinewidth": 0,
              "ticks": ""
             }
            },
            "type": "scattercarpet"
           }
          ],
          "scattergeo": [
           {
            "marker": {
             "colorbar": {
              "outlinewidth": 0,
              "ticks": ""
             }
            },
            "type": "scattergeo"
           }
          ],
          "scattergl": [
           {
            "marker": {
             "colorbar": {
              "outlinewidth": 0,
              "ticks": ""
             }
            },
            "type": "scattergl"
           }
          ],
          "scattermapbox": [
           {
            "marker": {
             "colorbar": {
              "outlinewidth": 0,
              "ticks": ""
             }
            },
            "type": "scattermapbox"
           }
          ],
          "scatterpolar": [
           {
            "marker": {
             "colorbar": {
              "outlinewidth": 0,
              "ticks": ""
             }
            },
            "type": "scatterpolar"
           }
          ],
          "scatterpolargl": [
           {
            "marker": {
             "colorbar": {
              "outlinewidth": 0,
              "ticks": ""
             }
            },
            "type": "scatterpolargl"
           }
          ],
          "scatterternary": [
           {
            "marker": {
             "colorbar": {
              "outlinewidth": 0,
              "ticks": ""
             }
            },
            "type": "scatterternary"
           }
          ],
          "surface": [
           {
            "colorbar": {
             "outlinewidth": 0,
             "ticks": ""
            },
            "colorscale": [
             [
              0,
              "#0d0887"
             ],
             [
              0.1111111111111111,
              "#46039f"
             ],
             [
              0.2222222222222222,
              "#7201a8"
             ],
             [
              0.3333333333333333,
              "#9c179e"
             ],
             [
              0.4444444444444444,
              "#bd3786"
             ],
             [
              0.5555555555555556,
              "#d8576b"
             ],
             [
              0.6666666666666666,
              "#ed7953"
             ],
             [
              0.7777777777777778,
              "#fb9f3a"
             ],
             [
              0.8888888888888888,
              "#fdca26"
             ],
             [
              1,
              "#f0f921"
             ]
            ],
            "type": "surface"
           }
          ],
          "table": [
           {
            "cells": {
             "fill": {
              "color": "#EBF0F8"
             },
             "line": {
              "color": "white"
             }
            },
            "header": {
             "fill": {
              "color": "#C8D4E3"
             },
             "line": {
              "color": "white"
             }
            },
            "type": "table"
           }
          ]
         },
         "layout": {
          "annotationdefaults": {
           "arrowcolor": "#2a3f5f",
           "arrowhead": 0,
           "arrowwidth": 1
          },
          "coloraxis": {
           "colorbar": {
            "outlinewidth": 0,
            "ticks": ""
           }
          },
          "colorscale": {
           "diverging": [
            [
             0,
             "#8e0152"
            ],
            [
             0.1,
             "#c51b7d"
            ],
            [
             0.2,
             "#de77ae"
            ],
            [
             0.3,
             "#f1b6da"
            ],
            [
             0.4,
             "#fde0ef"
            ],
            [
             0.5,
             "#f7f7f7"
            ],
            [
             0.6,
             "#e6f5d0"
            ],
            [
             0.7,
             "#b8e186"
            ],
            [
             0.8,
             "#7fbc41"
            ],
            [
             0.9,
             "#4d9221"
            ],
            [
             1,
             "#276419"
            ]
           ],
           "sequential": [
            [
             0,
             "#0d0887"
            ],
            [
             0.1111111111111111,
             "#46039f"
            ],
            [
             0.2222222222222222,
             "#7201a8"
            ],
            [
             0.3333333333333333,
             "#9c179e"
            ],
            [
             0.4444444444444444,
             "#bd3786"
            ],
            [
             0.5555555555555556,
             "#d8576b"
            ],
            [
             0.6666666666666666,
             "#ed7953"
            ],
            [
             0.7777777777777778,
             "#fb9f3a"
            ],
            [
             0.8888888888888888,
             "#fdca26"
            ],
            [
             1,
             "#f0f921"
            ]
           ],
           "sequentialminus": [
            [
             0,
             "#0d0887"
            ],
            [
             0.1111111111111111,
             "#46039f"
            ],
            [
             0.2222222222222222,
             "#7201a8"
            ],
            [
             0.3333333333333333,
             "#9c179e"
            ],
            [
             0.4444444444444444,
             "#bd3786"
            ],
            [
             0.5555555555555556,
             "#d8576b"
            ],
            [
             0.6666666666666666,
             "#ed7953"
            ],
            [
             0.7777777777777778,
             "#fb9f3a"
            ],
            [
             0.8888888888888888,
             "#fdca26"
            ],
            [
             1,
             "#f0f921"
            ]
           ]
          },
          "colorway": [
           "#636efa",
           "#EF553B",
           "#00cc96",
           "#ab63fa",
           "#FFA15A",
           "#19d3f3",
           "#FF6692",
           "#B6E880",
           "#FF97FF",
           "#FECB52"
          ],
          "font": {
           "color": "#2a3f5f"
          },
          "geo": {
           "bgcolor": "white",
           "lakecolor": "white",
           "landcolor": "#E5ECF6",
           "showlakes": true,
           "showland": true,
           "subunitcolor": "white"
          },
          "hoverlabel": {
           "align": "left"
          },
          "hovermode": "closest",
          "mapbox": {
           "style": "light"
          },
          "paper_bgcolor": "white",
          "plot_bgcolor": "#E5ECF6",
          "polar": {
           "angularaxis": {
            "gridcolor": "white",
            "linecolor": "white",
            "ticks": ""
           },
           "bgcolor": "#E5ECF6",
           "radialaxis": {
            "gridcolor": "white",
            "linecolor": "white",
            "ticks": ""
           }
          },
          "scene": {
           "xaxis": {
            "backgroundcolor": "#E5ECF6",
            "gridcolor": "white",
            "gridwidth": 2,
            "linecolor": "white",
            "showbackground": true,
            "ticks": "",
            "zerolinecolor": "white"
           },
           "yaxis": {
            "backgroundcolor": "#E5ECF6",
            "gridcolor": "white",
            "gridwidth": 2,
            "linecolor": "white",
            "showbackground": true,
            "ticks": "",
            "zerolinecolor": "white"
           },
           "zaxis": {
            "backgroundcolor": "#E5ECF6",
            "gridcolor": "white",
            "gridwidth": 2,
            "linecolor": "white",
            "showbackground": true,
            "ticks": "",
            "zerolinecolor": "white"
           }
          },
          "shapedefaults": {
           "line": {
            "color": "#2a3f5f"
           }
          },
          "ternary": {
           "aaxis": {
            "gridcolor": "white",
            "linecolor": "white",
            "ticks": ""
           },
           "baxis": {
            "gridcolor": "white",
            "linecolor": "white",
            "ticks": ""
           },
           "bgcolor": "#E5ECF6",
           "caxis": {
            "gridcolor": "white",
            "linecolor": "white",
            "ticks": ""
           }
          },
          "title": {
           "x": 0.05
          },
          "xaxis": {
           "automargin": true,
           "gridcolor": "white",
           "linecolor": "white",
           "ticks": "",
           "title": {
            "standoff": 15
           },
           "zerolinecolor": "white",
           "zerolinewidth": 2
          },
          "yaxis": {
           "automargin": true,
           "gridcolor": "white",
           "linecolor": "white",
           "ticks": "",
           "title": {
            "standoff": 15
           },
           "zerolinecolor": "white",
           "zerolinewidth": 2
          }
         }
        },
        "title": {
         "text": "Scatter"
        },
        "xaxis": {
         "autorange": true
        },
        "yaxis": {
         "autorange": true
        }
       },
       "_py2js_addTraces": {},
       "_py2js_animate": {},
       "_py2js_deleteTraces": {},
       "_py2js_moveTraces": {},
       "_py2js_removeTraceProps": {},
       "_py2js_restyle": {},
       "_py2js_update": {},
       "_view_count": 0
      }
     },
     "28beb48139ae4af0916efcff1b942fa7": {
      "model_module": "@jupyter-widgets/controls",
      "model_module_version": "1.5.0",
      "model_name": "HBoxModel",
      "state": {
       "children": [
        "IPY_MODEL_663825e2a90847799cb9946f386c69d8"
       ],
       "layout": "IPY_MODEL_9fea7738c879462b9bd7f51a408818bf"
      }
     },
     "2b1abac7f7e94d0a8e062b176b28c5b9": {
      "model_module": "@jupyter-widgets/controls",
      "model_module_version": "1.5.0",
      "model_name": "VBoxModel",
      "state": {
       "children": [
        "IPY_MODEL_2df01e7a2f6b438ab1e6f51ac9c63ed3"
       ],
       "layout": "IPY_MODEL_34433660d38c4b8f8a86e62610590ac3"
      }
     },
     "2c657eede1574e7fa63a26822a8d2084": {
      "model_module": "@jupyter-widgets/base",
      "model_module_version": "1.2.0",
      "model_name": "LayoutModel",
      "state": {}
     },
     "2df01e7a2f6b438ab1e6f51ac9c63ed3": {
      "model_module": "@jupyter-widgets/controls",
      "model_module_version": "1.5.0",
      "model_name": "HBoxModel",
      "state": {
       "children": [
        "IPY_MODEL_24bfb57412c14150b0431d4a37adc3f9"
       ],
       "layout": "IPY_MODEL_406aed21a7fe418d88abc777caa7113f"
      }
     },
     "34433660d38c4b8f8a86e62610590ac3": {
      "model_module": "@jupyter-widgets/base",
      "model_module_version": "1.2.0",
      "model_name": "LayoutModel",
      "state": {}
     },
     "363531195a9245be9fb7ab25185b229d": {
      "model_module": "@jupyter-widgets/base",
      "model_module_version": "1.2.0",
      "model_name": "LayoutModel",
      "state": {}
     },
     "3dc5f27ccb7546d28863f34894ff6735": {
      "model_module": "@jupyter-widgets/base",
      "model_module_version": "1.2.0",
      "model_name": "LayoutModel",
      "state": {}
     },
     "406aed21a7fe418d88abc777caa7113f": {
      "model_module": "@jupyter-widgets/base",
      "model_module_version": "1.2.0",
      "model_name": "LayoutModel",
      "state": {}
     },
     "4ab735a63c0f420490fff8c7b15dbd2c": {
      "model_module": "@jupyter-widgets/controls",
      "model_module_version": "1.5.0",
      "model_name": "DescriptionStyleModel",
      "state": {
       "description_width": ""
      }
     },
     "4c210287810449849b539da607189ab8": {
      "model_module": "@jupyter-widgets/controls",
      "model_module_version": "1.5.0",
      "model_name": "DescriptionStyleModel",
      "state": {
       "description_width": ""
      }
     },
     "50b72f3e74d24d3d9c9e6174f63ebc55": {
      "model_module": "@jupyter-widgets/controls",
      "model_module_version": "1.5.0",
      "model_name": "DropdownModel",
      "state": {
       "_options_labels": [
        "None",
        "A",
        "B",
        "C",
        "D"
       ],
       "description": "Size:",
       "index": 0,
       "layout": "IPY_MODEL_1f226461f07b41299c32293ad526cfd2",
       "style": "IPY_MODEL_4c210287810449849b539da607189ab8"
      }
     },
     "54ebf8e31c1f46d79f3bb08cf2dccb18": {
      "model_module": "@jupyter-widgets/controls",
      "model_module_version": "1.5.0",
      "model_name": "DescriptionStyleModel",
      "state": {
       "description_width": ""
      }
     },
     "5cef2f1771434bfebe3a17290db95eaf": {
      "model_module": "@jupyter-widgets/base",
      "model_module_version": "1.2.0",
      "model_name": "LayoutModel",
      "state": {}
     },
     "5d06a1f7e3d54d4f90b028e12754df7d": {
      "model_module": "@jupyter-widgets/controls",
      "model_module_version": "1.5.0",
      "model_name": "DropdownModel",
      "state": {
       "_options_labels": [
        "None",
        "A",
        "B",
        "C",
        "D"
       ],
       "description": "Size:",
       "index": 0,
       "layout": "IPY_MODEL_1e27c398a353451aa77af9d863beea66",
       "style": "IPY_MODEL_f0dd1786701148828ad155b1c99fb51b"
      }
     },
     "61f130fe691f48138672de2eb165780b": {
      "model_module": "@jupyter-widgets/controls",
      "model_module_version": "1.5.0",
      "model_name": "DescriptionStyleModel",
      "state": {
       "description_width": ""
      }
     },
     "638052f8449c4284b3bf16f0161dbb04": {
      "model_module": "@jupyter-widgets/base",
      "model_module_version": "1.2.0",
      "model_name": "LayoutModel",
      "state": {}
     },
     "663825e2a90847799cb9946f386c69d8": {
      "model_module": "@jupyter-widgets/controls",
      "model_module_version": "1.5.0",
      "model_name": "VBoxModel",
      "state": {
       "children": [
        "IPY_MODEL_863b1670a5b84c1cbd43109bcf24089b",
        "IPY_MODEL_1b1d9ee5a59b49ecb9fcf2c7f679b1c7"
       ],
       "layout": "IPY_MODEL_c6dafa5ba7a340dcab0fabe3ff811d8b"
      }
     },
     "6abba05643e44a56a2865d78498a2a63": {
      "model_module": "@jupyter-widgets/base",
      "model_module_version": "1.2.0",
      "model_name": "LayoutModel",
      "state": {}
     },
     "6c0f988c41e4450fb82b36e7afc1c972": {
      "model_module": "@jupyter-widgets/controls",
      "model_module_version": "1.5.0",
      "model_name": "DescriptionStyleModel",
      "state": {
       "description_width": ""
      }
     },
     "7eacabc3cf84458c81ba849b886455ba": {
      "model_module": "@jupyter-widgets/base",
      "model_module_version": "1.2.0",
      "model_name": "LayoutModel",
      "state": {}
     },
     "7fd888f7a9f94530a5a32fe84795d673": {
      "model_module": "@jupyter-widgets/controls",
      "model_module_version": "1.5.0",
      "model_name": "DescriptionStyleModel",
      "state": {
       "description_width": ""
      }
     },
     "842b1e0d843d4c1cb170e3ace399476a": {
      "model_module": "@jupyter-widgets/controls",
      "model_module_version": "1.5.0",
      "model_name": "DropdownModel",
      "state": {
       "_options_labels": [
        "A",
        "B",
        "C",
        "D"
       ],
       "description": "x-Value:",
       "index": 0,
       "layout": "IPY_MODEL_b7ac9d0e5893455cb6d386e9ec9d52c5",
       "style": "IPY_MODEL_6c0f988c41e4450fb82b36e7afc1c972"
      }
     },
     "863b1670a5b84c1cbd43109bcf24089b": {
      "model_module": "@jupyter-widgets/controls",
      "model_module_version": "1.5.0",
      "model_name": "HBoxModel",
      "state": {
       "children": [
        "IPY_MODEL_842b1e0d843d4c1cb170e3ace399476a",
        "IPY_MODEL_8b18492194ee488a82da1b24194be890",
        "IPY_MODEL_50b72f3e74d24d3d9c9e6174f63ebc55"
       ],
       "layout": "IPY_MODEL_5cef2f1771434bfebe3a17290db95eaf"
      }
     },
     "8b18492194ee488a82da1b24194be890": {
      "model_module": "@jupyter-widgets/controls",
      "model_module_version": "1.5.0",
      "model_name": "DropdownModel",
      "state": {
       "_options_labels": [
        "A",
        "B",
        "C",
        "D"
       ],
       "description": "y-Value:",
       "index": 0,
       "layout": "IPY_MODEL_3dc5f27ccb7546d28863f34894ff6735",
       "style": "IPY_MODEL_4ab735a63c0f420490fff8c7b15dbd2c"
      }
     },
     "95e14b6534584852a79bc85d0e22f8bd": {
      "model_module": "@jupyter-widgets/controls",
      "model_module_version": "1.5.0",
      "model_name": "DropdownModel",
      "state": {
       "_options_labels": [
        "A",
        "B",
        "C",
        "D"
       ],
       "description": "y-Value:",
       "index": 1,
       "layout": "IPY_MODEL_363531195a9245be9fb7ab25185b229d",
       "style": "IPY_MODEL_ecd0c1d01244412c941e64fe905baf10"
      }
     },
     "9b77b2d337104a51820faf4cc4b9a39f": {
      "model_module": "@jupyter-widgets/controls",
      "model_module_version": "1.5.0",
      "model_name": "HBoxModel",
      "state": {
       "children": [
        "IPY_MODEL_bfbe86e97eb746d8a8394c49816a1f38",
        "IPY_MODEL_bd3b1118608246bbbb12f2946be461ef",
        "IPY_MODEL_5d06a1f7e3d54d4f90b028e12754df7d"
       ],
       "layout": "IPY_MODEL_638052f8449c4284b3bf16f0161dbb04"
      }
     },
     "9edcacdadccd4777be74338e89915cb4": {
      "model_module": "@jupyter-widgets/controls",
      "model_module_version": "1.5.0",
      "model_name": "VBoxModel",
      "state": {
       "children": [
        "IPY_MODEL_ed2d1c2875bf48f493707954abb934e8",
        "IPY_MODEL_fbe75cd79f1a4477884b4d6335529b93"
       ],
       "layout": "IPY_MODEL_e512df1b8a16482c9900449d18b3fbf6"
      }
     },
     "9fea7738c879462b9bd7f51a408818bf": {
      "model_module": "@jupyter-widgets/base",
      "model_module_version": "1.2.0",
      "model_name": "LayoutModel",
      "state": {}
     },
     "a951995bba6144e8b67cf9d4b25119b2": {
      "model_module": "@jupyter-widgets/base",
      "model_module_version": "1.2.0",
      "model_name": "LayoutModel",
      "state": {}
     },
     "abc2708ce3344566a7126742117ac1d6": {
      "model_module": "@jupyter-widgets/base",
      "model_module_version": "1.2.0",
      "model_name": "LayoutModel",
      "state": {}
     },
     "b7484fe7c40c4a7880b858b0e5fbb6a8": {
      "model_module": "@jupyter-widgets/controls",
      "model_module_version": "1.5.0",
      "model_name": "DropdownModel",
      "state": {
       "_options_labels": [
        "A",
        "B",
        "C",
        "D"
       ],
       "description": "y-Value:",
       "index": 0,
       "layout": "IPY_MODEL_7eacabc3cf84458c81ba849b886455ba",
       "style": "IPY_MODEL_11d458d7f8db4d9d9138ace22aa7345a"
      }
     },
     "b7ac9d0e5893455cb6d386e9ec9d52c5": {
      "model_module": "@jupyter-widgets/base",
      "model_module_version": "1.2.0",
      "model_name": "LayoutModel",
      "state": {}
     },
     "ba9cc1af1c204e509946a8990d7f5b59": {
      "model_module": "@jupyter-widgets/controls",
      "model_module_version": "1.5.0",
      "model_name": "HBoxModel",
      "state": {
       "children": [
        "IPY_MODEL_9edcacdadccd4777be74338e89915cb4"
       ],
       "layout": "IPY_MODEL_02dcd24173974a4fbe8e7d302cc4263a"
      }
     },
     "bb3ddca237a44c568cb650e529da0e7b": {
      "model_module": "@jupyter-widgets/controls",
      "model_module_version": "1.5.0",
      "model_name": "DropdownModel",
      "state": {
       "_options_labels": [
        "None",
        "A",
        "B",
        "C",
        "D"
       ],
       "description": "Size:",
       "index": 0,
       "layout": "IPY_MODEL_f1780ee06e3f49d98325af6c7a64a636",
       "style": "IPY_MODEL_e67536a79c5a4bb0a38b8ac97cd7cace"
      }
     },
     "bd3b1118608246bbbb12f2946be461ef": {
      "model_module": "@jupyter-widgets/controls",
      "model_module_version": "1.5.0",
      "model_name": "DropdownModel",
      "state": {
       "_options_labels": [
        "A",
        "B",
        "C",
        "D"
       ],
       "description": "y-Value:",
       "index": 1,
       "layout": "IPY_MODEL_6abba05643e44a56a2865d78498a2a63",
       "style": "IPY_MODEL_61f130fe691f48138672de2eb165780b"
      }
     },
     "be4c679ad10b46ed8d2ec05ffd35ce51": {
      "model_module": "@jupyter-widgets/base",
      "model_module_version": "1.2.0",
      "model_name": "LayoutModel",
      "state": {}
     },
     "be6ec526bce643d3ab0a734320887129": {
      "model_module": "@jupyter-widgets/base",
      "model_module_version": "1.2.0",
      "model_name": "LayoutModel",
      "state": {}
     },
     "bfbe86e97eb746d8a8394c49816a1f38": {
      "model_module": "@jupyter-widgets/controls",
      "model_module_version": "1.5.0",
      "model_name": "DropdownModel",
      "state": {
       "_options_labels": [
        "A",
        "B",
        "C",
        "D"
       ],
       "description": "x-Value:",
       "index": 0,
       "layout": "IPY_MODEL_278c17de9fc54c83b256cd6d1008dc72",
       "style": "IPY_MODEL_54ebf8e31c1f46d79f3bb08cf2dccb18"
      }
     },
     "c23f1c9d9fc24dba96afc18a87f4c74a": {
      "model_module": "@jupyter-widgets/controls",
      "model_module_version": "1.5.0",
      "model_name": "DropdownModel",
      "state": {
       "_options_labels": [
        "A",
        "B",
        "C",
        "D"
       ],
       "description": "x-Value:",
       "index": 2,
       "layout": "IPY_MODEL_d929cafe4178447f98dd442b460b06db",
       "style": "IPY_MODEL_7fd888f7a9f94530a5a32fe84795d673"
      }
     },
     "c6dafa5ba7a340dcab0fabe3ff811d8b": {
      "model_module": "@jupyter-widgets/base",
      "model_module_version": "1.2.0",
      "model_name": "LayoutModel",
      "state": {}
     },
     "cefdd23f26234e9085e0ff22909c484e": {
      "model_module": "@jupyter-widgets/controls",
      "model_module_version": "1.5.0",
      "model_name": "DropdownModel",
      "state": {
       "_options_labels": [
        "None",
        "A",
        "B",
        "C",
        "D"
       ],
       "description": "Size:",
       "index": 0,
       "layout": "IPY_MODEL_db38240122584043bfecf5ba74e98f8b",
       "style": "IPY_MODEL_db96452224644aa9950a7b48b9ababe1"
      }
     },
     "cfb17bf7b62a4f9e80ab69b70d7aec8d": {
      "model_module": "@jupyter-widgets/controls",
      "model_module_version": "1.5.0",
      "model_name": "DropdownModel",
      "state": {
       "_options_labels": [
        "A",
        "B",
        "C",
        "D"
       ],
       "description": "x-Value:",
       "index": 0,
       "layout": "IPY_MODEL_115aecc4147645f39e7ea421581297d9",
       "style": "IPY_MODEL_e7bee3545f6c467eb5980fb43819676e"
      }
     },
     "d929cafe4178447f98dd442b460b06db": {
      "model_module": "@jupyter-widgets/base",
      "model_module_version": "1.2.0",
      "model_name": "LayoutModel",
      "state": {}
     },
     "db38240122584043bfecf5ba74e98f8b": {
      "model_module": "@jupyter-widgets/base",
      "model_module_version": "1.2.0",
      "model_name": "LayoutModel",
      "state": {}
     },
     "db96452224644aa9950a7b48b9ababe1": {
      "model_module": "@jupyter-widgets/controls",
      "model_module_version": "1.5.0",
      "model_name": "DescriptionStyleModel",
      "state": {
       "description_width": ""
      }
     },
     "dfc56695933b4e8aaf90b4055ce7a04d": {
      "model_module": "@jupyter-widgets/controls",
      "model_module_version": "1.5.0",
      "model_name": "VBoxModel",
      "state": {
       "children": [
        "IPY_MODEL_ba9cc1af1c204e509946a8990d7f5b59"
       ],
       "layout": "IPY_MODEL_be6ec526bce643d3ab0a734320887129"
      }
     },
     "e512df1b8a16482c9900449d18b3fbf6": {
      "model_module": "@jupyter-widgets/base",
      "model_module_version": "1.2.0",
      "model_name": "LayoutModel",
      "state": {}
     },
     "e67536a79c5a4bb0a38b8ac97cd7cace": {
      "model_module": "@jupyter-widgets/controls",
      "model_module_version": "1.5.0",
      "model_name": "DescriptionStyleModel",
      "state": {
       "description_width": ""
      }
     },
     "e7bee3545f6c467eb5980fb43819676e": {
      "model_module": "@jupyter-widgets/controls",
      "model_module_version": "1.5.0",
      "model_name": "DescriptionStyleModel",
      "state": {
       "description_width": ""
      }
     },
     "ecd0c1d01244412c941e64fe905baf10": {
      "model_module": "@jupyter-widgets/controls",
      "model_module_version": "1.5.0",
      "model_name": "DescriptionStyleModel",
      "state": {
       "description_width": ""
      }
     },
     "ed2d1c2875bf48f493707954abb934e8": {
      "model_module": "@jupyter-widgets/controls",
      "model_module_version": "1.5.0",
      "model_name": "HBoxModel",
      "state": {
       "children": [
        "IPY_MODEL_cfb17bf7b62a4f9e80ab69b70d7aec8d",
        "IPY_MODEL_95e14b6534584852a79bc85d0e22f8bd",
        "IPY_MODEL_cefdd23f26234e9085e0ff22909c484e"
       ],
       "layout": "IPY_MODEL_2c657eede1574e7fa63a26822a8d2084"
      }
     },
     "f0dd1786701148828ad155b1c99fb51b": {
      "model_module": "@jupyter-widgets/controls",
      "model_module_version": "1.5.0",
      "model_name": "DescriptionStyleModel",
      "state": {
       "description_width": ""
      }
     },
     "f1780ee06e3f49d98325af6c7a64a636": {
      "model_module": "@jupyter-widgets/base",
      "model_module_version": "1.2.0",
      "model_name": "LayoutModel",
      "state": {}
     },
     "fbe75cd79f1a4477884b4d6335529b93": {
      "buffers": [
       {
        "data": "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",
        "encoding": "base64",
        "path": [
         "_data",
         0,
         "x",
         "value"
        ]
       },
       {
        "data": "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",
        "encoding": "base64",
        "path": [
         "_data",
         0,
         "y",
         "value"
        ]
       }
      ],
      "model_module": "plotlywidget",
      "model_module_version": "^4.9.0",
      "model_name": "FigureModel",
      "state": {
       "_config": {
        "plotlyServerURL": "https://plot.ly"
       },
       "_data": [
        {
         "marker": {
          "color": "rgb(138,140,147)"
         },
         "mode": "markers",
         "opacity": 0.75,
         "selected": {
          "marker": {
           "color": "rgb(50,62,236)"
          }
         },
         "type": "scattergl",
         "uid": "9d02e4c3-2681-4e3e-9f71-068e6e54ddc8",
         "unselected": {
          "marker": {
           "opacity": 0.375
          }
         },
         "x": {
          "dtype": "float64",
          "shape": [
           1000
          ],
          "value": {}
         },
         "y": {
          "dtype": "float64",
          "shape": [
           1000
          ],
          "value": {}
         }
        }
       ],
       "_js2py_restyle": {},
       "_js2py_update": {},
       "_last_layout_edit_id": 10,
       "_last_trace_edit_id": 8,
       "_layout": {
        "autosize": true,
        "dragmode": "lasso",
        "template": {
         "data": {
          "bar": [
           {
            "error_x": {
             "color": "#2a3f5f"
            },
            "error_y": {
             "color": "#2a3f5f"
            },
            "marker": {
             "line": {
              "color": "#E5ECF6",
              "width": 0.5
             }
            },
            "type": "bar"
           }
          ],
          "barpolar": [
           {
            "marker": {
             "line": {
              "color": "#E5ECF6",
              "width": 0.5
             }
            },
            "type": "barpolar"
           }
          ],
          "carpet": [
           {
            "aaxis": {
             "endlinecolor": "#2a3f5f",
             "gridcolor": "white",
             "linecolor": "white",
             "minorgridcolor": "white",
             "startlinecolor": "#2a3f5f"
            },
            "baxis": {
             "endlinecolor": "#2a3f5f",
             "gridcolor": "white",
             "linecolor": "white",
             "minorgridcolor": "white",
             "startlinecolor": "#2a3f5f"
            },
            "type": "carpet"
           }
          ],
          "choropleth": [
           {
            "colorbar": {
             "outlinewidth": 0,
             "ticks": ""
            },
            "type": "choropleth"
           }
          ],
          "contour": [
           {
            "colorbar": {
             "outlinewidth": 0,
             "ticks": ""
            },
            "colorscale": [
             [
              0,
              "#0d0887"
             ],
             [
              0.1111111111111111,
              "#46039f"
             ],
             [
              0.2222222222222222,
              "#7201a8"
             ],
             [
              0.3333333333333333,
              "#9c179e"
             ],
             [
              0.4444444444444444,
              "#bd3786"
             ],
             [
              0.5555555555555556,
              "#d8576b"
             ],
             [
              0.6666666666666666,
              "#ed7953"
             ],
             [
              0.7777777777777778,
              "#fb9f3a"
             ],
             [
              0.8888888888888888,
              "#fdca26"
             ],
             [
              1,
              "#f0f921"
             ]
            ],
            "type": "contour"
           }
          ],
          "contourcarpet": [
           {
            "colorbar": {
             "outlinewidth": 0,
             "ticks": ""
            },
            "type": "contourcarpet"
           }
          ],
          "heatmap": [
           {
            "colorbar": {
             "outlinewidth": 0,
             "ticks": ""
            },
            "colorscale": [
             [
              0,
              "#0d0887"
             ],
             [
              0.1111111111111111,
              "#46039f"
             ],
             [
              0.2222222222222222,
              "#7201a8"
             ],
             [
              0.3333333333333333,
              "#9c179e"
             ],
             [
              0.4444444444444444,
              "#bd3786"
             ],
             [
              0.5555555555555556,
              "#d8576b"
             ],
             [
              0.6666666666666666,
              "#ed7953"
             ],
             [
              0.7777777777777778,
              "#fb9f3a"
             ],
             [
              0.8888888888888888,
              "#fdca26"
             ],
             [
              1,
              "#f0f921"
             ]
            ],
            "type": "heatmap"
           }
          ],
          "heatmapgl": [
           {
            "colorbar": {
             "outlinewidth": 0,
             "ticks": ""
            },
            "colorscale": [
             [
              0,
              "#0d0887"
             ],
             [
              0.1111111111111111,
              "#46039f"
             ],
             [
              0.2222222222222222,
              "#7201a8"
             ],
             [
              0.3333333333333333,
              "#9c179e"
             ],
             [
              0.4444444444444444,
              "#bd3786"
             ],
             [
              0.5555555555555556,
              "#d8576b"
             ],
             [
              0.6666666666666666,
              "#ed7953"
             ],
             [
              0.7777777777777778,
              "#fb9f3a"
             ],
             [
              0.8888888888888888,
              "#fdca26"
             ],
             [
              1,
              "#f0f921"
             ]
            ],
            "type": "heatmapgl"
           }
          ],
          "histogram": [
           {
            "marker": {
             "colorbar": {
              "outlinewidth": 0,
              "ticks": ""
             }
            },
            "type": "histogram"
           }
          ],
          "histogram2d": [
           {
            "colorbar": {
             "outlinewidth": 0,
             "ticks": ""
            },
            "colorscale": [
             [
              0,
              "#0d0887"
             ],
             [
              0.1111111111111111,
              "#46039f"
             ],
             [
              0.2222222222222222,
              "#7201a8"
             ],
             [
              0.3333333333333333,
              "#9c179e"
             ],
             [
              0.4444444444444444,
              "#bd3786"
             ],
             [
              0.5555555555555556,
              "#d8576b"
             ],
             [
              0.6666666666666666,
              "#ed7953"
             ],
             [
              0.7777777777777778,
              "#fb9f3a"
             ],
             [
              0.8888888888888888,
              "#fdca26"
             ],
             [
              1,
              "#f0f921"
             ]
            ],
            "type": "histogram2d"
           }
          ],
          "histogram2dcontour": [
           {
            "colorbar": {
             "outlinewidth": 0,
             "ticks": ""
            },
            "colorscale": [
             [
              0,
              "#0d0887"
             ],
             [
              0.1111111111111111,
              "#46039f"
             ],
             [
              0.2222222222222222,
              "#7201a8"
             ],
             [
              0.3333333333333333,
              "#9c179e"
             ],
             [
              0.4444444444444444,
              "#bd3786"
             ],
             [
              0.5555555555555556,
              "#d8576b"
             ],
             [
              0.6666666666666666,
              "#ed7953"
             ],
             [
              0.7777777777777778,
              "#fb9f3a"
             ],
             [
              0.8888888888888888,
              "#fdca26"
             ],
             [
              1,
              "#f0f921"
             ]
            ],
            "type": "histogram2dcontour"
           }
          ],
          "mesh3d": [
           {
            "colorbar": {
             "outlinewidth": 0,
             "ticks": ""
            },
            "type": "mesh3d"
           }
          ],
          "parcoords": [
           {
            "line": {
             "colorbar": {
              "outlinewidth": 0,
              "ticks": ""
             }
            },
            "type": "parcoords"
           }
          ],
          "pie": [
           {
            "automargin": true,
            "type": "pie"
           }
          ],
          "scatter": [
           {
            "marker": {
             "colorbar": {
              "outlinewidth": 0,
              "ticks": ""
             }
            },
            "type": "scatter"
           }
          ],
          "scatter3d": [
           {
            "line": {
             "colorbar": {
              "outlinewidth": 0,
              "ticks": ""
             }
            },
            "marker": {
             "colorbar": {
              "outlinewidth": 0,
              "ticks": ""
             }
            },
            "type": "scatter3d"
           }
          ],
          "scattercarpet": [
           {
            "marker": {
             "colorbar": {
              "outlinewidth": 0,
              "ticks": ""
             }
            },
            "type": "scattercarpet"
           }
          ],
          "scattergeo": [
           {
            "marker": {
             "colorbar": {
              "outlinewidth": 0,
              "ticks": ""
             }
            },
            "type": "scattergeo"
           }
          ],
          "scattergl": [
           {
            "marker": {
             "colorbar": {
              "outlinewidth": 0,
              "ticks": ""
             }
            },
            "type": "scattergl"
           }
          ],
          "scattermapbox": [
           {
            "marker": {
             "colorbar": {
              "outlinewidth": 0,
              "ticks": ""
             }
            },
            "type": "scattermapbox"
           }
          ],
          "scatterpolar": [
           {
            "marker": {
             "colorbar": {
              "outlinewidth": 0,
              "ticks": ""
             }
            },
            "type": "scatterpolar"
           }
          ],
          "scatterpolargl": [
           {
            "marker": {
             "colorbar": {
              "outlinewidth": 0,
              "ticks": ""
             }
            },
            "type": "scatterpolargl"
           }
          ],
          "scatterternary": [
           {
            "marker": {
             "colorbar": {
              "outlinewidth": 0,
              "ticks": ""
             }
            },
            "type": "scatterternary"
           }
          ],
          "surface": [
           {
            "colorbar": {
             "outlinewidth": 0,
             "ticks": ""
            },
            "colorscale": [
             [
              0,
              "#0d0887"
             ],
             [
              0.1111111111111111,
              "#46039f"
             ],
             [
              0.2222222222222222,
              "#7201a8"
             ],
             [
              0.3333333333333333,
              "#9c179e"
             ],
             [
              0.4444444444444444,
              "#bd3786"
             ],
             [
              0.5555555555555556,
              "#d8576b"
             ],
             [
              0.6666666666666666,
              "#ed7953"
             ],
             [
              0.7777777777777778,
              "#fb9f3a"
             ],
             [
              0.8888888888888888,
              "#fdca26"
             ],
             [
              1,
              "#f0f921"
             ]
            ],
            "type": "surface"
           }
          ],
          "table": [
           {
            "cells": {
             "fill": {
              "color": "#EBF0F8"
             },
             "line": {
              "color": "white"
             }
            },
            "header": {
             "fill": {
              "color": "#C8D4E3"
             },
             "line": {
              "color": "white"
             }
            },
            "type": "table"
           }
          ]
         },
         "layout": {
          "annotationdefaults": {
           "arrowcolor": "#2a3f5f",
           "arrowhead": 0,
           "arrowwidth": 1
          },
          "coloraxis": {
           "colorbar": {
            "outlinewidth": 0,
            "ticks": ""
           }
          },
          "colorscale": {
           "diverging": [
            [
             0,
             "#8e0152"
            ],
            [
             0.1,
             "#c51b7d"
            ],
            [
             0.2,
             "#de77ae"
            ],
            [
             0.3,
             "#f1b6da"
            ],
            [
             0.4,
             "#fde0ef"
            ],
            [
             0.5,
             "#f7f7f7"
            ],
            [
             0.6,
             "#e6f5d0"
            ],
            [
             0.7,
             "#b8e186"
            ],
            [
             0.8,
             "#7fbc41"
            ],
            [
             0.9,
             "#4d9221"
            ],
            [
             1,
             "#276419"
            ]
           ],
           "sequential": [
            [
             0,
             "#0d0887"
            ],
            [
             0.1111111111111111,
             "#46039f"
            ],
            [
             0.2222222222222222,
             "#7201a8"
            ],
            [
             0.3333333333333333,
             "#9c179e"
            ],
            [
             0.4444444444444444,
             "#bd3786"
            ],
            [
             0.5555555555555556,
             "#d8576b"
            ],
            [
             0.6666666666666666,
             "#ed7953"
            ],
            [
             0.7777777777777778,
             "#fb9f3a"
            ],
            [
             0.8888888888888888,
             "#fdca26"
            ],
            [
             1,
             "#f0f921"
            ]
           ],
           "sequentialminus": [
            [
             0,
             "#0d0887"
            ],
            [
             0.1111111111111111,
             "#46039f"
            ],
            [
             0.2222222222222222,
             "#7201a8"
            ],
            [
             0.3333333333333333,
             "#9c179e"
            ],
            [
             0.4444444444444444,
             "#bd3786"
            ],
            [
             0.5555555555555556,
             "#d8576b"
            ],
            [
             0.6666666666666666,
             "#ed7953"
            ],
            [
             0.7777777777777778,
             "#fb9f3a"
            ],
            [
             0.8888888888888888,
             "#fdca26"
            ],
            [
             1,
             "#f0f921"
            ]
           ]
          },
          "colorway": [
           "#636efa",
           "#EF553B",
           "#00cc96",
           "#ab63fa",
           "#FFA15A",
           "#19d3f3",
           "#FF6692",
           "#B6E880",
           "#FF97FF",
           "#FECB52"
          ],
          "font": {
           "color": "#2a3f5f"
          },
          "geo": {
           "bgcolor": "white",
           "lakecolor": "white",
           "landcolor": "#E5ECF6",
           "showlakes": true,
           "showland": true,
           "subunitcolor": "white"
          },
          "hoverlabel": {
           "align": "left"
          },
          "hovermode": "closest",
          "mapbox": {
           "style": "light"
          },
          "paper_bgcolor": "white",
          "plot_bgcolor": "#E5ECF6",
          "polar": {
           "angularaxis": {
            "gridcolor": "white",
            "linecolor": "white",
            "ticks": ""
           },
           "bgcolor": "#E5ECF6",
           "radialaxis": {
            "gridcolor": "white",
            "linecolor": "white",
            "ticks": ""
           }
          },
          "scene": {
           "xaxis": {
            "backgroundcolor": "#E5ECF6",
            "gridcolor": "white",
            "gridwidth": 2,
            "linecolor": "white",
            "showbackground": true,
            "ticks": "",
            "zerolinecolor": "white"
           },
           "yaxis": {
            "backgroundcolor": "#E5ECF6",
            "gridcolor": "white",
            "gridwidth": 2,
            "linecolor": "white",
            "showbackground": true,
            "ticks": "",
            "zerolinecolor": "white"
           },
           "zaxis": {
            "backgroundcolor": "#E5ECF6",
            "gridcolor": "white",
            "gridwidth": 2,
            "linecolor": "white",
            "showbackground": true,
            "ticks": "",
            "zerolinecolor": "white"
           }
          },
          "shapedefaults": {
           "line": {
            "color": "#2a3f5f"
           }
          },
          "ternary": {
           "aaxis": {
            "gridcolor": "white",
            "linecolor": "white",
            "ticks": ""
           },
           "baxis": {
            "gridcolor": "white",
            "linecolor": "white",
            "ticks": ""
           },
           "bgcolor": "#E5ECF6",
           "caxis": {
            "gridcolor": "white",
            "linecolor": "white",
            "ticks": ""
           }
          },
          "title": {
           "x": 0.05
          },
          "xaxis": {
           "automargin": true,
           "gridcolor": "white",
           "linecolor": "white",
           "ticks": "",
           "title": {
            "standoff": 15
           },
           "zerolinecolor": "white",
           "zerolinewidth": 2
          },
          "yaxis": {
           "automargin": true,
           "gridcolor": "white",
           "linecolor": "white",
           "ticks": "",
           "title": {
            "standoff": 15
           },
           "zerolinecolor": "white",
           "zerolinewidth": 2
          }
         }
        },
        "title": {
         "text": "Scatter"
        }
       },
       "_py2js_addTraces": {},
       "_py2js_animate": {},
       "_py2js_deleteTraces": {},
       "_py2js_moveTraces": {},
       "_py2js_removeLayoutProps": {},
       "_py2js_removeTraceProps": {},
       "_py2js_update": {},
       "_view_count": 1
      }
     },
     "fc55330415c84efa915730ece18aefe4": {
      "model_module": "@jupyter-widgets/base",
      "model_module_version": "1.2.0",
      "model_name": "LayoutModel",
      "state": {}
     }
    },
    "version_major": 2,
    "version_minor": 0
   }
  }
 },
 "nbformat": 4,
 "nbformat_minor": 1
}
