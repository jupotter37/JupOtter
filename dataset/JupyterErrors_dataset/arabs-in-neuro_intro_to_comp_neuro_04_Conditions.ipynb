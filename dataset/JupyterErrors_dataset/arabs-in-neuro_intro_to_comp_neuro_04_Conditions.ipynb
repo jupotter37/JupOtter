{
  "nbformat": 4,
  "nbformat_minor": 0,
  "metadata": {
    "colab": {
      "name": "04 Conditions.ipynb",
      "provenance": [],
      "authorship_tag": "ABX9TyP1B3HxjBNXFD4suULeyRzy",
      "include_colab_link": true
    },
    "kernelspec": {
      "name": "python3",
      "display_name": "Python 3"
    }
  },
  "cells": [
    {
      "cell_type": "markdown",
      "metadata": {
        "id": "view-in-github",
        "colab_type": "text"
      },
      "source": [
        "<a href=\"https://colab.research.google.com/github/arabs-in-neuro/intro_to_comp_neuro/blob/main/04_Conditions.ipynb\" target=\"_parent\"><img src=\"https://colab.research.google.com/assets/colab-badge.svg\" alt=\"Open In Colab\"/></a>"
      ]
    },
    {
      "cell_type": "code",
      "metadata": {
        "id": "PIJuz18J0Ws8"
      },
      "source": [
        ""
      ],
      "execution_count": null,
      "outputs": []
    },
    {
      "cell_type": "markdown",
      "metadata": {
        "id": "DPIsaWLT2eN0"
      },
      "source": [
        "# Conditions and Decision Control"
      ]
    },
    {
      "cell_type": "markdown",
      "metadata": {
        "id": "Qa-of1II2kCs"
      },
      "source": [
        "# Conditions"
      ]
    },
    {
      "cell_type": "code",
      "metadata": {
        "id": "Z-HUYFyX2jHw",
        "colab": {
          "base_uri": "https://localhost:8080/",
          "height": 51
        },
        "outputId": "579f65ee-7d3b-4033-9204-1de778abab02"
      },
      "source": [
        "#recall\n",
        "print(type(True),print(type(False)))"
      ],
      "execution_count": null,
      "outputs": [
        {
          "output_type": "stream",
          "text": [
            "<class 'bool'>\n",
            "<class 'bool'> None\n"
          ],
          "name": "stdout"
        }
      ]
    },
    {
      "cell_type": "markdown",
      "metadata": {
        "id": "PonFkM0s2s7O"
      },
      "source": [
        "### Logical Operators"
      ]
    },
    {
      "cell_type": "code",
      "metadata": {
        "id": "UIq_Hr2N2qbV",
        "colab": {
          "base_uri": "https://localhost:8080/",
          "height": 86
        },
        "outputId": "777aa898-c5d5-438a-c8e2-830439beb37c"
      },
      "source": [
        "# and\n",
        "print(True and True) #True\n",
        "print(True and False)\n",
        "print(False and True)\n",
        "print(False and False)"
      ],
      "execution_count": null,
      "outputs": [
        {
          "output_type": "stream",
          "text": [
            "True\n",
            "False\n",
            "False\n",
            "False\n"
          ],
          "name": "stdout"
        }
      ]
    },
    {
      "cell_type": "code",
      "metadata": {
        "id": "lB21IU1k249U",
        "colab": {
          "base_uri": "https://localhost:8080/",
          "height": 86
        },
        "outputId": "d04b64b0-b54e-4eaf-9c38-a64e7b33f78e"
      },
      "source": [
        "#or\n",
        "print(True and True)\n",
        "print(True and False)\n",
        "print(False and True)\n",
        "print(False and False) # False"
      ],
      "execution_count": null,
      "outputs": [
        {
          "output_type": "stream",
          "text": [
            "True\n",
            "False\n",
            "False\n",
            "False\n"
          ],
          "name": "stdout"
        }
      ]
    },
    {
      "cell_type": "code",
      "metadata": {
        "id": "xYOXKsvW3Cyu",
        "colab": {
          "base_uri": "https://localhost:8080/",
          "height": 51
        },
        "outputId": "a340f4de-eb65-43e0-8181-9b2a9ed6e465"
      },
      "source": [
        "# not\n",
        "print(not True)\n",
        "print(not False)"
      ],
      "execution_count": null,
      "outputs": [
        {
          "output_type": "stream",
          "text": [
            "False\n",
            "True\n"
          ],
          "name": "stdout"
        }
      ]
    },
    {
      "cell_type": "markdown",
      "metadata": {
        "id": "u1JcspZh3IyV"
      },
      "source": [
        "### Comparison Operators"
      ]
    },
    {
      "cell_type": "code",
      "metadata": {
        "id": "fqQ_9Z_z3GqX",
        "colab": {
          "base_uri": "https://localhost:8080/",
          "height": 34
        },
        "outputId": "6de4e8f1-2897-4d95-a656-f2bc56bc5d2f"
      },
      "source": [
        "#equality ==\n",
        "print(1==5)"
      ],
      "execution_count": null,
      "outputs": [
        {
          "output_type": "stream",
          "text": [
            "False\n"
          ],
          "name": "stdout"
        }
      ]
    },
    {
      "cell_type": "code",
      "metadata": {
        "id": "2K5WBFRU3PLj",
        "colab": {
          "base_uri": "https://localhost:8080/",
          "height": 34
        },
        "outputId": "ef125491-33c5-4782-ea86-ce488d5370e5"
      },
      "source": [
        "animal1=\"cat\"\n",
        "animal2=\"dog\"\n",
        "print(animal1==animal2)"
      ],
      "execution_count": null,
      "outputs": [
        {
          "output_type": "stream",
          "text": [
            "False\n"
          ],
          "name": "stdout"
        }
      ]
    },
    {
      "cell_type": "code",
      "metadata": {
        "id": "AO2KluoL3WgJ",
        "colab": {
          "base_uri": "https://localhost:8080/",
          "height": 34
        },
        "outputId": "fa7b4227-08e1-453a-cbac-47192e57604a"
      },
      "source": [
        "#not equal !=\n",
        "print(animal1 != animal2)"
      ],
      "execution_count": null,
      "outputs": [
        {
          "output_type": "stream",
          "text": [
            "True\n"
          ],
          "name": "stdout"
        }
      ]
    },
    {
      "cell_type": "code",
      "metadata": {
        "id": "I7Et1EXi3eX5",
        "colab": {
          "base_uri": "https://localhost:8080/",
          "height": 51
        },
        "outputId": "055d9251-d64c-4208-c229-97811bcda2e4"
      },
      "source": [
        "# greater/less than > <\n",
        "print(12 > 4)\n",
        "print(12<4)"
      ],
      "execution_count": null,
      "outputs": [
        {
          "output_type": "stream",
          "text": [
            "True\n",
            "False\n"
          ],
          "name": "stdout"
        }
      ]
    },
    {
      "cell_type": "code",
      "metadata": {
        "id": "ny2vuiM83mlL",
        "colab": {
          "base_uri": "https://localhost:8080/",
          "height": 34
        },
        "outputId": "7f114392-9180-4170-da5c-107acad5ac41"
      },
      "source": [
        "print(12 != 4)"
      ],
      "execution_count": null,
      "outputs": [
        {
          "output_type": "stream",
          "text": [
            "True\n"
          ],
          "name": "stdout"
        }
      ]
    },
    {
      "cell_type": "code",
      "metadata": {
        "id": "KuhtVuOS3pto",
        "colab": {
          "base_uri": "https://localhost:8080/",
          "height": 34
        },
        "outputId": "6f2a3314-10b3-4bed-a13a-42082297aad4"
      },
      "source": [
        "#greater/less than or equal  >= <=\n",
        "print(1>=1.0)"
      ],
      "execution_count": null,
      "outputs": [
        {
          "output_type": "stream",
          "text": [
            "True\n"
          ],
          "name": "stdout"
        }
      ]
    },
    {
      "cell_type": "code",
      "metadata": {
        "id": "dfL9Y6tD3x4L",
        "colab": {
          "base_uri": "https://localhost:8080/",
          "height": 34
        },
        "outputId": "ac6c034d-1bca-46d6-ea7c-0a9112d6f609"
      },
      "source": [
        "print(\"0\"<\"1\")"
      ],
      "execution_count": null,
      "outputs": [
        {
          "output_type": "stream",
          "text": [
            "True\n"
          ],
          "name": "stdout"
        }
      ]
    },
    {
      "cell_type": "code",
      "metadata": {
        "id": "_hxu2ZTY3049",
        "colab": {
          "base_uri": "https://localhost:8080/",
          "height": 34
        },
        "outputId": "7fa62375-4c12-4394-dc27-7312d69d826e"
      },
      "source": [
        "print(\"A\">\"a\") #??"
      ],
      "execution_count": null,
      "outputs": [
        {
          "output_type": "stream",
          "text": [
            "False\n"
          ],
          "name": "stdout"
        }
      ]
    },
    {
      "cell_type": "code",
      "metadata": {
        "id": "CYrJDbUf34Ze"
      },
      "source": [
        ""
      ],
      "execution_count": null,
      "outputs": []
    },
    {
      "cell_type": "markdown",
      "metadata": {
        "id": "7lHPmvQU36Ku"
      },
      "source": [
        "order (from smallest) in strings\n",
        "\n",
        "1. \"0\" < \"1\" < ..\n",
        "2. \"A\" < \"B\" < ... \"Z\"\n",
        "3. \"a\" < \"b\" < ... \"z\""
      ]
    },
    {
      "cell_type": "code",
      "metadata": {
        "id": "qI4rgcer4IJx",
        "colab": {
          "base_uri": "https://localhost:8080/",
          "height": 34
        },
        "outputId": "a189fd7a-52cb-4065-923c-8ee242d4dbdf"
      },
      "source": [
        "print(True >= False) #? remember true is 1\n"
      ],
      "execution_count": null,
      "outputs": [
        {
          "output_type": "stream",
          "text": [
            "True\n"
          ],
          "name": "stdout"
        }
      ]
    },
    {
      "cell_type": "code",
      "metadata": {
        "id": "Rw6FcfZ34NuY"
      },
      "source": [
        "# because true > false (1>0)"
      ],
      "execution_count": null,
      "outputs": []
    },
    {
      "cell_type": "markdown",
      "metadata": {
        "id": "7ZGeIIcI4TX3"
      },
      "source": [
        "### Membership Operators"
      ]
    },
    {
      "cell_type": "code",
      "metadata": {
        "id": "kldCgDzo4SBi"
      },
      "source": [
        "review1=\"I like the X product\"\n",
        "review2=\"this product is SO GOOD\"\n",
        "review3=\"I recomment the product\""
      ],
      "execution_count": null,
      "outputs": []
    },
    {
      "cell_type": "code",
      "metadata": {
        "id": "YZ8rfVji4hDD",
        "colab": {
          "base_uri": "https://localhost:8080/",
          "height": 34
        },
        "outputId": "2f80a356-bbf0-4371-cfdf-7da57d88e2f1"
      },
      "source": [
        "#in\n",
        "print(\"like\" in review1)"
      ],
      "execution_count": null,
      "outputs": [
        {
          "output_type": "stream",
          "text": [
            "True\n"
          ],
          "name": "stdout"
        }
      ]
    },
    {
      "cell_type": "code",
      "metadata": {
        "id": "4wZkpzOk4mIF",
        "colab": {
          "base_uri": "https://localhost:8080/",
          "height": 34
        },
        "outputId": "3a50db45-b6b8-44ca-d6e3-51d76c5d6cf2"
      },
      "source": [
        "print('good' in review2)"
      ],
      "execution_count": null,
      "outputs": [
        {
          "output_type": "stream",
          "text": [
            "False\n"
          ],
          "name": "stdout"
        }
      ]
    },
    {
      "cell_type": "code",
      "metadata": {
        "id": "05liOOlq4q-U",
        "colab": {
          "base_uri": "https://localhost:8080/",
          "height": 51
        },
        "outputId": "c81e943c-8123-4a10-e262-c06f147f3ea5"
      },
      "source": [
        "print(review2)\n",
        "print(review2.lower())"
      ],
      "execution_count": null,
      "outputs": [
        {
          "output_type": "stream",
          "text": [
            "this product is SO GOOD\n",
            "this product is so good\n"
          ],
          "name": "stdout"
        }
      ]
    },
    {
      "cell_type": "code",
      "metadata": {
        "id": "EKc2TwoV4wit",
        "colab": {
          "base_uri": "https://localhost:8080/",
          "height": 34
        },
        "outputId": "25426f10-86e9-421d-e8c9-c5fde2e318ac"
      },
      "source": [
        "print('good' in review2.lower())"
      ],
      "execution_count": null,
      "outputs": [
        {
          "output_type": "stream",
          "text": [
            "True\n"
          ],
          "name": "stdout"
        }
      ]
    },
    {
      "cell_type": "code",
      "metadata": {
        "id": "8mBIdRUh4zbo",
        "colab": {
          "base_uri": "https://localhost:8080/",
          "height": 34
        },
        "outputId": "9b814c24-dd0c-4d33-93c8-e012cf0741b6"
      },
      "source": [
        "print('good'.upper() in review2)"
      ],
      "execution_count": null,
      "outputs": [
        {
          "output_type": "stream",
          "text": [
            "True\n"
          ],
          "name": "stdout"
        }
      ]
    },
    {
      "cell_type": "code",
      "metadata": {
        "id": "oGyDbyP645QP",
        "colab": {
          "base_uri": "https://localhost:8080/",
          "height": 34
        },
        "outputId": "dc9ec886-f3a0-4f9e-e845-33153614a3f0"
      },
      "source": [
        "# not in\n",
        "print('s' not in \"home\")"
      ],
      "execution_count": null,
      "outputs": [
        {
          "output_type": "stream",
          "text": [
            "True\n"
          ],
          "name": "stdout"
        }
      ]
    },
    {
      "cell_type": "code",
      "metadata": {
        "id": "dFJcfjK15A2O",
        "colab": {
          "base_uri": "https://localhost:8080/",
          "height": 34
        },
        "outputId": "c7e262e8-f0b0-4d50-80a1-d43660348b0a"
      },
      "source": [
        "print('s' not in \"Sarah\")"
      ],
      "execution_count": null,
      "outputs": [
        {
          "output_type": "stream",
          "text": [
            "True\n"
          ],
          "name": "stdout"
        }
      ]
    },
    {
      "cell_type": "code",
      "metadata": {
        "id": "X2OUPhXt5Ei9",
        "colab": {
          "base_uri": "https://localhost:8080/",
          "height": 34
        },
        "outputId": "91e0335e-001f-4422-dd1c-72a34c80dedd"
      },
      "source": [
        "print(review2)"
      ],
      "execution_count": null,
      "outputs": [
        {
          "output_type": "stream",
          "text": [
            "this product is SO GOOD\n"
          ],
          "name": "stdout"
        }
      ]
    },
    {
      "cell_type": "code",
      "metadata": {
        "id": "SWVXRW-Z5GfV",
        "colab": {
          "base_uri": "https://localhost:8080/",
          "height": 34
        },
        "outputId": "5baf3641-efd2-4c17-af6b-c733a3b69e8a"
      },
      "source": [
        "print('m' not in review2)"
      ],
      "execution_count": null,
      "outputs": [
        {
          "output_type": "stream",
          "text": [
            "True\n"
          ],
          "name": "stdout"
        }
      ]
    },
    {
      "cell_type": "markdown",
      "metadata": {
        "id": "7VWKjOxt5Lz7"
      },
      "source": [
        "### Conditions using Built-in Functions"
      ]
    },
    {
      "cell_type": "code",
      "metadata": {
        "id": "BrPKTjss5J4N",
        "colab": {
          "base_uri": "https://localhost:8080/",
          "height": 34
        },
        "outputId": "fc1c73fb-2ae9-4a37-cb01-bfc963381cf8"
      },
      "source": [
        "print(review1)"
      ],
      "execution_count": null,
      "outputs": [
        {
          "output_type": "stream",
          "text": [
            "I like the X product\n"
          ],
          "name": "stdout"
        }
      ]
    },
    {
      "cell_type": "code",
      "metadata": {
        "id": "uqDrsRlS5Q1I",
        "colab": {
          "base_uri": "https://localhost:8080/",
          "height": 34
        },
        "outputId": "383579c1-89b0-438e-9b4d-cf0f6dca069f"
      },
      "source": [
        "print(review1.startswith(\"I\"))"
      ],
      "execution_count": null,
      "outputs": [
        {
          "output_type": "stream",
          "text": [
            "True\n"
          ],
          "name": "stdout"
        }
      ]
    },
    {
      "cell_type": "code",
      "metadata": {
        "id": "FNrLhpJp5Vj9",
        "colab": {
          "base_uri": "https://localhost:8080/",
          "height": 34
        },
        "outputId": "371594f9-c661-4393-dff1-20fc26cbf138"
      },
      "source": [
        "print(review1.endswith(\"s\"))"
      ],
      "execution_count": null,
      "outputs": [
        {
          "output_type": "stream",
          "text": [
            "False\n"
          ],
          "name": "stdout"
        }
      ]
    },
    {
      "cell_type": "code",
      "metadata": {
        "id": "actBeMBn5ZaC",
        "colab": {
          "base_uri": "https://localhost:8080/",
          "height": 34
        },
        "outputId": "03041b1d-5387-4f9b-807f-9aafe42ed06b"
      },
      "source": [
        "print(\" \".isspace())"
      ],
      "execution_count": null,
      "outputs": [
        {
          "output_type": "stream",
          "text": [
            "True\n"
          ],
          "name": "stdout"
        }
      ]
    },
    {
      "cell_type": "code",
      "metadata": {
        "id": "FBs7Y7dW5gCR",
        "colab": {
          "base_uri": "https://localhost:8080/",
          "height": 34
        },
        "outputId": "f59364ac-c736-4ca0-ba1d-aedd577f875d"
      },
      "source": [
        "print(\"9093\".isnumeric())"
      ],
      "execution_count": null,
      "outputs": [
        {
          "output_type": "stream",
          "text": [
            "True\n"
          ],
          "name": "stdout"
        }
      ]
    },
    {
      "cell_type": "markdown",
      "metadata": {
        "id": "NuufEHlC-e3n"
      },
      "source": [
        "# If Statements"
      ]
    },
    {
      "cell_type": "markdown",
      "metadata": {
        "id": "SLGx48Xt5l5l"
      },
      "source": [
        "\n",
        "![](https://www.tutorialspoint.com/python/images/if_else_statement.jpg)\n",
        "\n",
        "---\n",
        "\n",
        "if syntax\n",
        "[link text](https://)\n",
        "```\n",
        "\n",
        "if condition:\n",
        "  statement(s)\n",
        "```\n",
        "\n",
        "\n",
        "\n",
        "---\n",
        "\n",
        "if and else Syntax\n",
        "\n",
        "```\n",
        "if condition:\n",
        "  statement(s)\n",
        "else:\n",
        "  statement(s)\n",
        "```\n",
        "---\n",
        "\n"
      ]
    },
    {
      "cell_type": "code",
      "metadata": {
        "id": "digw7-NP5kJd"
      },
      "source": [
        "# if\n",
        "n1= 15\n",
        "n2=-5\n",
        "# test if both positive\n",
        "if n1>0 and n2>0:\n",
        "  print(\"both positives\")"
      ],
      "execution_count": null,
      "outputs": []
    },
    {
      "cell_type": "code",
      "metadata": {
        "id": "H4XtWHeI6LEq",
        "colab": {
          "base_uri": "https://localhost:8080/",
          "height": 34
        },
        "outputId": "6a20b0a6-35c8-4e1f-e843-15462d265e0a"
      },
      "source": [
        "if n1>0 and n2>0:\n",
        "  print(\"both positives\")\n",
        "\n",
        "print(\"end of the test\")"
      ],
      "execution_count": null,
      "outputs": [
        {
          "output_type": "stream",
          "text": [
            "end of the test\n"
          ],
          "name": "stdout"
        }
      ]
    },
    {
      "cell_type": "code",
      "metadata": {
        "id": "yZTdRfTF6P2v",
        "colab": {
          "base_uri": "https://localhost:8080/",
          "height": 34
        },
        "outputId": "002c7ab7-5986-4981-8615-591818ae93e8"
      },
      "source": [
        "# use else\n",
        "\n",
        "if n1>0 and n2>0:\n",
        "  print(\"both positives\")\n",
        "else:\n",
        "  print(\"at least one is negative\")"
      ],
      "execution_count": null,
      "outputs": [
        {
          "output_type": "stream",
          "text": [
            "at least one is negative\n"
          ],
          "name": "stdout"
        }
      ]
    },
    {
      "cell_type": "code",
      "metadata": {
        "id": "s984gXpl6WX6",
        "colab": {
          "base_uri": "https://localhost:8080/",
          "height": 34
        },
        "outputId": "deb1c538-333d-4f1c-bc20-22b79e953f93"
      },
      "source": [
        "zoo=['lion','tiger','zibra','elephant']\n",
        "animal=input(\"enter an animal name\")"
      ],
      "execution_count": null,
      "outputs": [
        {
          "output_type": "stream",
          "text": [
            "enter an animal namecat\n"
          ],
          "name": "stdout"
        }
      ]
    },
    {
      "cell_type": "code",
      "metadata": {
        "id": "DLh3oFOe6hfT",
        "colab": {
          "base_uri": "https://localhost:8080/",
          "height": 34
        },
        "outputId": "4dd601a8-441f-45ab-eeda-3ab86a13765d"
      },
      "source": [
        "#test if it in zoo\n",
        "if animal in zoo:\n",
        "  print(\"animal {} in zoo\".format(animal))\n",
        "else:\n",
        "  print(\"animal {} in NOT in zoo\".format(animal))"
      ],
      "execution_count": null,
      "outputs": [
        {
          "output_type": "stream",
          "text": [
            "animal cat in NOT in zoo\n"
          ],
          "name": "stdout"
        }
      ]
    },
    {
      "cell_type": "markdown",
      "metadata": {
        "id": "iyuiobD969iw"
      },
      "source": [
        "### Elif\n",
        "![](https://physics.nyu.edu/pine/pymanual/html/_images/flow_if_elif_else.png)\n",
        "\n",
        "---\n",
        "if elif else syntax:\n",
        "\n",
        "\n",
        "```\n",
        "if condition1:\n",
        "  statement(s)\n",
        "elif condition2:\n",
        "  statement(s)\n",
        "else:\n",
        "  statement(s)\n",
        "```\n",
        "\n"
      ]
    },
    {
      "cell_type": "code",
      "metadata": {
        "id": "mhoJ0h9P6zCb",
        "colab": {
          "base_uri": "https://localhost:8080/",
          "height": 34
        },
        "outputId": "4e7f38ad-5efd-4e3a-cd12-0b054a81aa5f"
      },
      "source": [
        "# cat, dog , lion in zoo?\n",
        "a1='cat'\n",
        "a2='dog'\n",
        "a3='lion'\n",
        "if a1 in zoo:\n",
        "  print(a1, 'in zoo')\n",
        "elif a2 in zoo:\n",
        "  print(a2,'in zoo')\n",
        "elif a3 in zoo:\n",
        "  print(a3, 'in zoo')"
      ],
      "execution_count": null,
      "outputs": [
        {
          "output_type": "stream",
          "text": [
            "lion in zoo\n"
          ],
          "name": "stdout"
        }
      ]
    },
    {
      "cell_type": "code",
      "metadata": {
        "id": "_nIAJ3-27gVN",
        "colab": {
          "base_uri": "https://localhost:8080/",
          "height": 34
        },
        "outputId": "2b208e10-33a8-4f23-de41-5a16e4511620"
      },
      "source": [
        "# we want to test if n positive/negative or zero\n",
        "n=input('enter n')"
      ],
      "execution_count": null,
      "outputs": [
        {
          "output_type": "stream",
          "text": [
            "enter n3\n"
          ],
          "name": "stdout"
        }
      ]
    },
    {
      "cell_type": "code",
      "metadata": {
        "id": "249-gOUQ7pzS",
        "colab": {
          "base_uri": "https://localhost:8080/",
          "height": 34
        },
        "outputId": "4f46b1f8-1ba5-46d0-ec18-48c5b14ec343"
      },
      "source": [
        "print(type(n))"
      ],
      "execution_count": null,
      "outputs": [
        {
          "output_type": "stream",
          "text": [
            "<class 'str'>\n"
          ],
          "name": "stdout"
        }
      ]
    },
    {
      "cell_type": "code",
      "metadata": {
        "id": "VXq4TLXc7tKG",
        "colab": {
          "base_uri": "https://localhost:8080/",
          "height": 34
        },
        "outputId": "a261e7b8-7d9f-4d28-8d4a-7a542f441043"
      },
      "source": [
        "n=int(input('enter n'))"
      ],
      "execution_count": null,
      "outputs": [
        {
          "output_type": "stream",
          "text": [
            "enter n15\n"
          ],
          "name": "stdout"
        }
      ]
    },
    {
      "cell_type": "code",
      "metadata": {
        "id": "U-NmkMWi7v_4",
        "colab": {
          "base_uri": "https://localhost:8080/",
          "height": 34
        },
        "outputId": "9e69f1e2-05db-414e-f206-3919b0c109de"
      },
      "source": [
        "print(type(n))"
      ],
      "execution_count": null,
      "outputs": [
        {
          "output_type": "stream",
          "text": [
            "<class 'int'>\n"
          ],
          "name": "stdout"
        }
      ]
    },
    {
      "cell_type": "code",
      "metadata": {
        "id": "wEJPIwaa7zU5",
        "colab": {
          "base_uri": "https://localhost:8080/",
          "height": 51
        },
        "outputId": "0aad59f8-7182-4f2d-c567-b02d1e0249d7"
      },
      "source": [
        "if n>0:\n",
        "  print(\"n is positive\")\n",
        "  print(n)\n",
        "elif n==0:\n",
        "  print(\"n is zero\")\n",
        "  print(n)\n",
        "else:\n",
        "  print(\"n is negative\",n)"
      ],
      "execution_count": null,
      "outputs": [
        {
          "output_type": "stream",
          "text": [
            "n is positive\n",
            "15\n"
          ],
          "name": "stdout"
        }
      ]
    },
    {
      "cell_type": "code",
      "metadata": {
        "id": "-lxbh9tb8Dpv",
        "colab": {
          "base_uri": "https://localhost:8080/",
          "height": 51
        },
        "outputId": "e4eaca8b-4c41-4580-9f92-290b65015f6c"
      },
      "source": [
        "#nested if\n",
        "if n >= 0:\n",
        "  print(\"n is > = 0\")\n",
        "  if n==0:\n",
        "    print(\"n is zero\")\n",
        "  else:\n",
        "    print(\"n is positive\")\n",
        "else:\n",
        "  print(\"n is negative\")"
      ],
      "execution_count": null,
      "outputs": [
        {
          "output_type": "stream",
          "text": [
            "n is > = 0\n",
            "n is positive\n"
          ],
          "name": "stdout"
        }
      ]
    },
    {
      "cell_type": "markdown",
      "metadata": {
        "id": "UKnNGMTC8vsJ"
      },
      "source": [
        "# Possible Errors"
      ]
    },
    {
      "cell_type": "code",
      "metadata": {
        "id": "xFBuzr5N8aNX",
        "colab": {
          "base_uri": "https://localhost:8080/",
          "height": 164
        },
        "outputId": "c520649f-ad44-4e9e-dd08-d41ee8ca2857"
      },
      "source": [
        "print(true)"
      ],
      "execution_count": null,
      "outputs": [
        {
          "output_type": "error",
          "ename": "NameError",
          "evalue": "ignored",
          "traceback": [
            "\u001b[0;31m---------------------------------------------------------------------------\u001b[0m",
            "\u001b[0;31mNameError\u001b[0m                                 Traceback (most recent call last)",
            "\u001b[0;32m<ipython-input-44-d6f700e50a15>\u001b[0m in \u001b[0;36m<module>\u001b[0;34m()\u001b[0m\n\u001b[0;32m----> 1\u001b[0;31m \u001b[0mprint\u001b[0m\u001b[0;34m(\u001b[0m\u001b[0mtrue\u001b[0m\u001b[0;34m)\u001b[0m\u001b[0;34m\u001b[0m\u001b[0;34m\u001b[0m\u001b[0m\n\u001b[0m",
            "\u001b[0;31mNameError\u001b[0m: name 'true' is not defined"
          ]
        }
      ]
    },
    {
      "cell_type": "code",
      "metadata": {
        "id": "gmuXs2kn_Vvm",
        "colab": {
          "base_uri": "https://localhost:8080/",
          "height": 164
        },
        "outputId": "1e0c0f7a-11ea-4e46-df23-e21d19b52ed3"
      },
      "source": [
        "print(TRUE) #True"
      ],
      "execution_count": null,
      "outputs": [
        {
          "output_type": "error",
          "ename": "NameError",
          "evalue": "ignored",
          "traceback": [
            "\u001b[0;31m---------------------------------------------------------------------------\u001b[0m",
            "\u001b[0;31mNameError\u001b[0m                                 Traceback (most recent call last)",
            "\u001b[0;32m<ipython-input-45-fd683b6344ec>\u001b[0m in \u001b[0;36m<module>\u001b[0;34m()\u001b[0m\n\u001b[0;32m----> 1\u001b[0;31m \u001b[0mprint\u001b[0m\u001b[0;34m(\u001b[0m\u001b[0mTRUE\u001b[0m\u001b[0;34m)\u001b[0m \u001b[0;31m#True\u001b[0m\u001b[0;34m\u001b[0m\u001b[0;34m\u001b[0m\u001b[0m\n\u001b[0m",
            "\u001b[0;31mNameError\u001b[0m: name 'TRUE' is not defined"
          ]
        }
      ]
    },
    {
      "cell_type": "code",
      "metadata": {
        "id": "E_9T5-9c_YE9",
        "colab": {
          "base_uri": "https://localhost:8080/",
          "height": 130
        },
        "outputId": "377a3b15-3e85-405d-c182-fe29d5401e51"
      },
      "source": [
        "if 0>9:\n",
        "print(\"0>9\")"
      ],
      "execution_count": null,
      "outputs": [
        {
          "output_type": "error",
          "ename": "IndentationError",
          "evalue": "ignored",
          "traceback": [
            "\u001b[0;36m  File \u001b[0;32m\"<ipython-input-46-4231ca77fb4a>\"\u001b[0;36m, line \u001b[0;32m2\u001b[0m\n\u001b[0;31m    print(\"0>9\")\u001b[0m\n\u001b[0m        ^\u001b[0m\n\u001b[0;31mIndentationError\u001b[0m\u001b[0;31m:\u001b[0m expected an indented block\n"
          ]
        }
      ]
    },
    {
      "cell_type": "code",
      "metadata": {
        "id": "rqV_K81K_fZQ",
        "colab": {
          "base_uri": "https://localhost:8080/",
          "height": 130
        },
        "outputId": "c5961216-0034-4570-9a0d-926d01e4cb2c"
      },
      "source": [
        "if 0>9:\n",
        "  print(\"0>9\")\n",
        "else\n",
        "  print(\"not sure?\")"
      ],
      "execution_count": null,
      "outputs": [
        {
          "output_type": "error",
          "ename": "SyntaxError",
          "evalue": "ignored",
          "traceback": [
            "\u001b[0;36m  File \u001b[0;32m\"<ipython-input-47-ef55f714d556>\"\u001b[0;36m, line \u001b[0;32m3\u001b[0m\n\u001b[0;31m    else\u001b[0m\n\u001b[0m        ^\u001b[0m\n\u001b[0;31mSyntaxError\u001b[0m\u001b[0;31m:\u001b[0m invalid syntax\n"
          ]
        }
      ]
    },
    {
      "cell_type": "code",
      "metadata": {
        "id": "RJ0E7l7-_o_S",
        "colab": {
          "base_uri": "https://localhost:8080/",
          "height": 130
        },
        "outputId": "60983fbf-5207-48fa-d5b5-0589d7a1ea79"
      },
      "source": [
        "if 0>9:\n",
        "  print(\"0>9\")\n",
        "  else:\n",
        "  print(\"not sure?\")"
      ],
      "execution_count": null,
      "outputs": [
        {
          "output_type": "error",
          "ename": "SyntaxError",
          "evalue": "ignored",
          "traceback": [
            "\u001b[0;36m  File \u001b[0;32m\"<ipython-input-48-d5a1d4fccba9>\"\u001b[0;36m, line \u001b[0;32m3\u001b[0m\n\u001b[0;31m    else:\u001b[0m\n\u001b[0m       ^\u001b[0m\n\u001b[0;31mSyntaxError\u001b[0m\u001b[0;31m:\u001b[0m invalid syntax\n"
          ]
        }
      ]
    },
    {
      "cell_type": "code",
      "metadata": {
        "id": "LGSKpP7G_wb1",
        "colab": {
          "base_uri": "https://localhost:8080/",
          "height": 164
        },
        "outputId": "31220f79-8946-42b0-95ad-b6a3de51d765"
      },
      "source": [
        "print(\"name\".loer()) #lower"
      ],
      "execution_count": null,
      "outputs": [
        {
          "output_type": "error",
          "ename": "AttributeError",
          "evalue": "ignored",
          "traceback": [
            "\u001b[0;31m---------------------------------------------------------------------------\u001b[0m",
            "\u001b[0;31mAttributeError\u001b[0m                            Traceback (most recent call last)",
            "\u001b[0;32m<ipython-input-49-9462f51155f3>\u001b[0m in \u001b[0;36m<module>\u001b[0;34m()\u001b[0m\n\u001b[0;32m----> 1\u001b[0;31m \u001b[0mprint\u001b[0m\u001b[0;34m(\u001b[0m\u001b[0;34m\"name\"\u001b[0m\u001b[0;34m.\u001b[0m\u001b[0mloer\u001b[0m\u001b[0;34m(\u001b[0m\u001b[0;34m)\u001b[0m\u001b[0;34m)\u001b[0m\u001b[0;34m\u001b[0m\u001b[0;34m\u001b[0m\u001b[0m\n\u001b[0m",
            "\u001b[0;31mAttributeError\u001b[0m: 'str' object has no attribute 'loer'"
          ]
        }
      ]
    },
    {
      "cell_type": "markdown",
      "metadata": {
        "id": "8y16-Ex0_zWT"
      },
      "source": [
        "*THNK YOUU*\n",
        "_THANK YOU_\n",
        "\n",
        "**THANK YOU**\n",
        "__THANK YOU__"
      ]
    },
    {
      "cell_type": "code",
      "metadata": {
        "id": "zp3ZobwJACA5"
      },
      "source": [
        ""
      ],
      "execution_count": null,
      "outputs": []
    }
  ]
}