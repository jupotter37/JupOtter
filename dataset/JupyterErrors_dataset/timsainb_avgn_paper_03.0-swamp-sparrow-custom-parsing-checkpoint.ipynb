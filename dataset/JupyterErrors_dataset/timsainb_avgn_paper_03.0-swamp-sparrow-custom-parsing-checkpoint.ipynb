{
 "cells": [
  {
   "cell_type": "markdown",
   "metadata": {},
   "source": [
    "### Swamp sparrow custom parsing\n",
    "- This dataset has:\n",
    "    - A number of CSVs with individual, element, and song information\n",
    "- The data was originally in [luscinia](https://rflachlan.github.io/Luscinia/) format (h2 db). I exported individual tables as CSVs so that I could import them into python. \n",
    "- Because the data is already well annotated, all this notebook does is save data as WAV and generate JSONs corresponding to the data. \n",
    "- Dataset origin:\n",
    "    - https://figshare.com/articles/SwampSparrow_luscdb_zip/5625310"
   ]
  },
  {
   "cell_type": "code",
   "execution_count": null,
   "metadata": {},
   "outputs": [],
   "source": [
    "%load_ext autoreload\n",
    "%autoreload 2"
   ]
  },
  {
   "cell_type": "code",
   "execution_count": 1,
   "metadata": {
    "ExecuteTime": {
     "end_time": "2020-03-13T15:22:41.758977Z",
     "start_time": "2020-03-13T15:22:41.756675Z"
    }
   },
   "outputs": [],
   "source": [
    "DATASET_ID = 'swamp_sparrow'"
   ]
  },
  {
   "cell_type": "code",
   "execution_count": 2,
   "metadata": {
    "ExecuteTime": {
     "end_time": "2020-03-13T15:22:43.653836Z",
     "start_time": "2020-03-13T15:22:41.761142Z"
    }
   },
   "outputs": [
    {
     "name": "stderr",
     "output_type": "stream",
     "text": [
      "/mnt/cube/tsainbur/conda_envs/tpy3/lib/python3.6/site-packages/tqdm/autonotebook/__init__.py:14: TqdmExperimentalWarning: Using `tqdm.autonotebook.tqdm` in notebook mode. Use `tqdm.tqdm` instead to force console mode (e.g. in jupyter console)\n",
      "  \" (e.g. in jupyter console)\", TqdmExperimentalWarning)\n"
     ]
    }
   ],
   "source": [
    "from avgn.utils.general import prepare_env"
   ]
  },
  {
   "cell_type": "code",
   "execution_count": 3,
   "metadata": {
    "ExecuteTime": {
     "end_time": "2020-03-13T15:22:43.677658Z",
     "start_time": "2020-03-13T15:22:43.655193Z"
    }
   },
   "outputs": [
    {
     "name": "stdout",
     "output_type": "stream",
     "text": [
      "env: CUDA_VISIBLE_DEVICES=GPU\n"
     ]
    }
   ],
   "source": [
    "prepare_env()"
   ]
  },
  {
   "cell_type": "markdown",
   "metadata": {},
   "source": [
    "### Import relevant packages"
   ]
  },
  {
   "cell_type": "code",
   "execution_count": 4,
   "metadata": {
    "ExecuteTime": {
     "end_time": "2020-03-13T15:22:44.158397Z",
     "start_time": "2020-03-13T15:22:43.678660Z"
    }
   },
   "outputs": [],
   "source": [
    "from joblib import Parallel, delayed\n",
    "from tqdm.autonotebook import tqdm\n",
    "import pandas as pd\n",
    "pd.options.display.max_columns = None\n",
    "import librosa\n",
    "from datetime import datetime\n",
    "import numpy as np"
   ]
  },
  {
   "cell_type": "code",
   "execution_count": 5,
   "metadata": {
    "ExecuteTime": {
     "end_time": "2020-03-13T15:22:44.213673Z",
     "start_time": "2020-03-13T15:22:44.159972Z"
    }
   },
   "outputs": [],
   "source": [
    "import avgn\n",
    "from avgn.custom_parsing.lachlan_swampsparrow import string2int16, annotate_bouts\n",
    "from avgn.utils.paths import DATA_DIR"
   ]
  },
  {
   "cell_type": "markdown",
   "metadata": {},
   "source": [
    "### Load data in original format"
   ]
  },
  {
   "cell_type": "code",
   "execution_count": 6,
   "metadata": {
    "ExecuteTime": {
     "end_time": "2020-03-13T15:22:44.234253Z",
     "start_time": "2020-03-13T15:22:44.215507Z"
    }
   },
   "outputs": [
    {
     "data": {
      "text/plain": [
       "'2020-03-13_08-22-44'"
      ]
     },
     "execution_count": 6,
     "metadata": {},
     "output_type": "execute_result"
    }
   ],
   "source": [
    "# create a unique datetime identifier for the files output by this notebook\n",
    "DT_ID = datetime.now().strftime(\"%Y-%m-%d_%H-%M-%S\")\n",
    "DT_ID"
   ]
  },
  {
   "cell_type": "code",
   "execution_count": 7,
   "metadata": {
    "ExecuteTime": {
     "end_time": "2020-03-13T15:22:44.249318Z",
     "start_time": "2020-03-13T15:22:44.235271Z"
    }
   },
   "outputs": [],
   "source": [
    "DSLOC = avgn.utils.paths.Path('/mnt/cube/Datasets/swampsparrow/swampsparrow-xml/')"
   ]
  },
  {
   "cell_type": "code",
   "execution_count": 8,
   "metadata": {
    "ExecuteTime": {
     "end_time": "2020-03-13T15:22:44.346510Z",
     "start_time": "2020-03-13T15:22:44.250312Z"
    }
   },
   "outputs": [
    {
     "data": {
      "text/html": [
       "<div>\n",
       "<style scoped>\n",
       "    .dataframe tbody tr th:only-of-type {\n",
       "        vertical-align: middle;\n",
       "    }\n",
       "\n",
       "    .dataframe tbody tr th {\n",
       "        vertical-align: top;\n",
       "    }\n",
       "\n",
       "    .dataframe thead th {\n",
       "        text-align: right;\n",
       "    }\n",
       "</style>\n",
       "<table border=\"1\" class=\"dataframe\">\n",
       "  <thead>\n",
       "    <tr style=\"text-align: right;\">\n",
       "      <th></th>\n",
       "      <th>ID</th>\n",
       "      <th>NUMSONGS</th>\n",
       "      <th>NAME</th>\n",
       "      <th>SPECID</th>\n",
       "      <th>POPID</th>\n",
       "      <th>LOCDESC</th>\n",
       "      <th>GRIDTYPE</th>\n",
       "      <th>GRIDX</th>\n",
       "      <th>GRIDY</th>\n",
       "      <th>SEX</th>\n",
       "      <th>RANK</th>\n",
       "      <th>AGE</th>\n",
       "    </tr>\n",
       "  </thead>\n",
       "  <tbody>\n",
       "    <tr>\n",
       "      <th>0</th>\n",
       "      <td>48</td>\n",
       "      <td>NaN</td>\n",
       "      <td>MIWAT01</td>\n",
       "      <td>Swamp Sparrow</td>\n",
       "      <td>Waterloo, MI</td>\n",
       "      <td>NaN</td>\n",
       "      <td>UTM</td>\n",
       "      <td>42.360523</td>\n",
       "      <td>-84.1779184</td>\n",
       "      <td>NaN</td>\n",
       "      <td>NaN</td>\n",
       "      <td>NaN</td>\n",
       "    </tr>\n",
       "    <tr>\n",
       "      <th>1</th>\n",
       "      <td>49</td>\n",
       "      <td>NaN</td>\n",
       "      <td>MIWAT02</td>\n",
       "      <td>Swamp Sparrow</td>\n",
       "      <td>Waterloo, MI</td>\n",
       "      <td>NaN</td>\n",
       "      <td>UTM</td>\n",
       "      <td>42.360924</td>\n",
       "      <td>-84.1781069</td>\n",
       "      <td>NaN</td>\n",
       "      <td>NaN</td>\n",
       "      <td>NaN</td>\n",
       "    </tr>\n",
       "    <tr>\n",
       "      <th>2</th>\n",
       "      <td>50</td>\n",
       "      <td>NaN</td>\n",
       "      <td>MIWAT03</td>\n",
       "      <td>Swamp Sparrow</td>\n",
       "      <td>Waterloo, MI</td>\n",
       "      <td></td>\n",
       "      <td>UTM</td>\n",
       "      <td>42.360829</td>\n",
       "      <td>-84.1782932</td>\n",
       "      <td>NaN</td>\n",
       "      <td>NaN</td>\n",
       "      <td>NaN</td>\n",
       "    </tr>\n",
       "  </tbody>\n",
       "</table>\n",
       "</div>"
      ],
      "text/plain": [
       "   ID  NUMSONGS     NAME         SPECID         POPID LOCDESC GRIDTYPE  \\\n",
       "0  48       NaN  MIWAT01  Swamp Sparrow  Waterloo, MI     NaN      UTM   \n",
       "1  49       NaN  MIWAT02  Swamp Sparrow  Waterloo, MI     NaN      UTM   \n",
       "2  50       NaN  MIWAT03  Swamp Sparrow  Waterloo, MI              UTM   \n",
       "\n",
       "       GRIDX        GRIDY  SEX  RANK  AGE  \n",
       "0  42.360523  -84.1779184  NaN   NaN  NaN  \n",
       "1  42.360924  -84.1781069  NaN   NaN  NaN  \n",
       "2  42.360829  -84.1782932  NaN   NaN  NaN  "
      ]
     },
     "execution_count": 8,
     "metadata": {},
     "output_type": "execute_result"
    }
   ],
   "source": [
    "individual = pd.read_csv(DSLOC / 'INDIVIDUAL.csv')\n",
    "individual[:3]"
   ]
  },
  {
   "cell_type": "code",
   "execution_count": 9,
   "metadata": {
    "ExecuteTime": {
     "end_time": "2020-03-13T15:22:44.384289Z",
     "start_time": "2020-03-13T15:22:44.348853Z"
    }
   },
   "outputs": [
    {
     "data": {
      "text/html": [
       "<div>\n",
       "<style scoped>\n",
       "    .dataframe tbody tr th:only-of-type {\n",
       "        vertical-align: middle;\n",
       "    }\n",
       "\n",
       "    .dataframe tbody tr th {\n",
       "        vertical-align: top;\n",
       "    }\n",
       "\n",
       "    .dataframe thead th {\n",
       "        text-align: right;\n",
       "    }\n",
       "</style>\n",
       "<table border=\"1\" class=\"dataframe\">\n",
       "  <thead>\n",
       "    <tr style=\"text-align: right;\">\n",
       "      <th></th>\n",
       "      <th>SONGID</th>\n",
       "      <th>STARTTIME</th>\n",
       "      <th>ENDTIME</th>\n",
       "    </tr>\n",
       "  </thead>\n",
       "  <tbody>\n",
       "    <tr>\n",
       "      <th>0</th>\n",
       "      <td>2531</td>\n",
       "      <td>1220</td>\n",
       "      <td>1536</td>\n",
       "    </tr>\n",
       "    <tr>\n",
       "      <th>1</th>\n",
       "      <td>2531</td>\n",
       "      <td>1223</td>\n",
       "      <td>1297</td>\n",
       "    </tr>\n",
       "    <tr>\n",
       "      <th>2</th>\n",
       "      <td>2531</td>\n",
       "      <td>1306</td>\n",
       "      <td>1378</td>\n",
       "    </tr>\n",
       "  </tbody>\n",
       "</table>\n",
       "</div>"
      ],
      "text/plain": [
       "   SONGID  STARTTIME  ENDTIME\n",
       "0    2531       1220     1536\n",
       "1    2531       1223     1297\n",
       "2    2531       1306     1378"
      ]
     },
     "execution_count": 9,
     "metadata": {},
     "output_type": "execute_result"
    }
   ],
   "source": [
    "syllables = pd.read_csv(DSLOC / 'SYLLABLE.csv')\n",
    "syllables[:3]"
   ]
  },
  {
   "cell_type": "code",
   "execution_count": 10,
   "metadata": {
    "ExecuteTime": {
     "end_time": "2020-03-13T15:22:56.874953Z",
     "start_time": "2020-03-13T15:22:44.385330Z"
    }
   },
   "outputs": [
    {
     "data": {
      "text/html": [
       "<div>\n",
       "<style scoped>\n",
       "    .dataframe tbody tr th:only-of-type {\n",
       "        vertical-align: middle;\n",
       "    }\n",
       "\n",
       "    .dataframe tbody tr th {\n",
       "        vertical-align: top;\n",
       "    }\n",
       "\n",
       "    .dataframe thead th {\n",
       "        text-align: right;\n",
       "    }\n",
       "</style>\n",
       "<table border=\"1\" class=\"dataframe\">\n",
       "  <thead>\n",
       "    <tr style=\"text-align: right;\">\n",
       "      <th></th>\n",
       "      <th>ID</th>\n",
       "      <th>SONGID</th>\n",
       "      <th>SIGNAL</th>\n",
       "      <th>PEAKFREQ</th>\n",
       "      <th>FUNDFREQ</th>\n",
       "      <th>MEANFREQ</th>\n",
       "      <th>MEDIANFREQ</th>\n",
       "      <th>PEAKFREQCHANGE</th>\n",
       "      <th>FUNDFREQCHANGE</th>\n",
       "      <th>MEANFREQCHANGE</th>\n",
       "      <th>MEDIANFREQCHANGE</th>\n",
       "      <th>HARMONICITY</th>\n",
       "      <th>WIENER</th>\n",
       "      <th>BANDWIDTH</th>\n",
       "      <th>AMPLITUDE</th>\n",
       "      <th>REVERBERATION</th>\n",
       "      <th>TRILLAMP</th>\n",
       "      <th>TRILLRATE</th>\n",
       "      <th>POWERSPECTRUM</th>\n",
       "      <th>STARTTIME</th>\n",
       "      <th>OVERALLPEAKFREQ1</th>\n",
       "      <th>OVERALLPEAKFREQ2</th>\n",
       "      <th>TIMELENGTH</th>\n",
       "      <th>GAPBEFORE</th>\n",
       "      <th>GAPAFTER</th>\n",
       "      <th>TIMESTEP</th>\n",
       "      <th>FRAMELENGTH</th>\n",
       "      <th>MAXF</th>\n",
       "      <th>WINDOWMETHOD</th>\n",
       "      <th>DY</th>\n",
       "      <th>DYNRANGE</th>\n",
       "      <th>DYNCOMP</th>\n",
       "      <th>ECHORANGE</th>\n",
       "      <th>ECHOCOMP</th>\n",
       "    </tr>\n",
       "  </thead>\n",
       "  <tbody>\n",
       "    <tr>\n",
       "      <th>0</th>\n",
       "      <td>1820682</td>\n",
       "      <td>2011</td>\n",
       "      <td>3 177 145 139 3 178 146 137 3 179 146 137 3 18...</td>\n",
       "      <td>4263.57421875 3832.91015625 15.0 0.0 4062.5976...</td>\n",
       "      <td>4283.673733543762 3815.8396713317325 19.0 0.0 ...</td>\n",
       "      <td>4270.3427222250075 3826.5109432227587 19.0 0.0...</td>\n",
       "      <td>4306.266418097342 3843.9194083976013 14.0 3.0 ...</td>\n",
       "      <td>0.007604770101606771 0.006679462853040866 0.0 ...</td>\n",
       "      <td>0.007604770101606771 0.006679462853040866 0.0 ...</td>\n",
       "      <td>0.007604770101606771 0.006679462853040866 0.0 ...</td>\n",
       "      <td>0.007604770101606771 0.006679462853040866 0.0 ...</td>\n",
       "      <td>0.6417240713887844 0.5782139509622957 13.0 0.0...</td>\n",
       "      <td>-0.028506678217236365 -0.1948960193124872 19.0...</td>\n",
       "      <td>301.46484375 -86.1328125 18.0 0.0 -76.19441105...</td>\n",
       "      <td>35.679351806640625 11.216655731201172 19.0 11....</td>\n",
       "      <td>100.0 0.5 2.0 8.5 27.82051282051282 43.5 50.0 ...</td>\n",
       "      <td>0.0 0.0 0.0 0.0 0.0 0.0 0.0 0.0 0.0 0.0 0.0 0....</td>\n",
       "      <td>40.0 40.0 0.0 0.0 40.0 40.0 40.0 40.0 40.0 40....</td>\n",
       "      <td>0.0 0.0 0.0 0.0 0.0 0.0 0.0 0.0 0.0 0.0 0.0 0....</td>\n",
       "      <td>177</td>\n",
       "      <td>4134.375</td>\n",
       "      <td>4134.375</td>\n",
       "      <td>19.0</td>\n",
       "      <td>-10000.0</td>\n",
       "      <td>7.5</td>\n",
       "      <td>0.5</td>\n",
       "      <td>5.0</td>\n",
       "      <td>10000</td>\n",
       "      <td>NaN</td>\n",
       "      <td>43.066406</td>\n",
       "      <td>200.0</td>\n",
       "      <td>36.0</td>\n",
       "      <td>25</td>\n",
       "      <td>1.0</td>\n",
       "    </tr>\n",
       "    <tr>\n",
       "      <th>1</th>\n",
       "      <td>1820683</td>\n",
       "      <td>2011</td>\n",
       "      <td>3 230 60 57 3 231 63 57 3 232 64 57 3 233 66 5...</td>\n",
       "      <td>7407.421875 3100.78125 0.0 42.0 4587.030418882...</td>\n",
       "      <td>7389.1988844382295 3027.87251546893 0.0 42.5 4...</td>\n",
       "      <td>7409.13028952881 3048.31062821831 0.0 43.0 455...</td>\n",
       "      <td>7426.946155956237 3060.4056743941146 0.0 44.0 ...</td>\n",
       "      <td>-0.012553735012542117 -0.03338982031684048 28....</td>\n",
       "      <td>-0.012553735012542117 -0.03338982031684048 28....</td>\n",
       "      <td>-0.012553735012542117 -0.03338982031684048 28....</td>\n",
       "      <td>-0.012553735012542117 -0.03338982031684048 28....</td>\n",
       "      <td>0.6734669894201485 0.5877230486423247 16.5 5.0...</td>\n",
       "      <td>-0.04550707709243979 -0.2510391688153517 0.0 1...</td>\n",
       "      <td>516.796875 -86.1328125 17.5 0.0 -75.5952875664...</td>\n",
       "      <td>35.076597929000854 7.0471343994140625 0.0 17.5...</td>\n",
       "      <td>100.0 0.5 0.0 7.0 26.829787234042552 100.0 100...</td>\n",
       "      <td>0.0 0.0 0.0 0.0 0.0 0.0 0.0 0.0 0.0 0.0 0.0 0....</td>\n",
       "      <td>40.0 40.0 0.0 0.0 40.0 40.0 40.0 40.0 40.0 40....</td>\n",
       "      <td>0.0 0.0 0.0 0.0 0.0 0.0 0.0 0.0 0.0 0.0 0.0 0....</td>\n",
       "      <td>230</td>\n",
       "      <td>4565.039</td>\n",
       "      <td>3186.914</td>\n",
       "      <td>46.5</td>\n",
       "      <td>7.5</td>\n",
       "      <td>2.5</td>\n",
       "      <td>0.5</td>\n",
       "      <td>5.0</td>\n",
       "      <td>10000</td>\n",
       "      <td>NaN</td>\n",
       "      <td>43.066406</td>\n",
       "      <td>200.0</td>\n",
       "      <td>36.0</td>\n",
       "      <td>25</td>\n",
       "      <td>1.0</td>\n",
       "    </tr>\n",
       "    <tr>\n",
       "      <th>2</th>\n",
       "      <td>1820684</td>\n",
       "      <td>2011</td>\n",
       "      <td>5 328 115 111 103 102 3 329 126 101 3 330 134 ...</td>\n",
       "      <td>4995.703125 3316.11328125 0.0 4.5 4117.1484375...</td>\n",
       "      <td>5137.39993108298 3399.0993019123976 0.0 4.0 42...</td>\n",
       "      <td>5047.68551414882 3327.0782209257077 0.0 4.5 41...</td>\n",
       "      <td>5064.723596006633 3325.6770996024384 0.0 4.5 4...</td>\n",
       "      <td>-0.12936507276325204 -0.12951987178017654 0.0 ...</td>\n",
       "      <td>-0.12936507276325204 -0.12951987178017654 0.0 ...</td>\n",
       "      <td>-0.12936507276325204 -0.12951987178017654 0.0 ...</td>\n",
       "      <td>-0.12936507276325204 -0.12951987178017654 0.0 ...</td>\n",
       "      <td>0.7165497097891279 0.5925254874604499 0.0 4.0 ...</td>\n",
       "      <td>-0.047124243903335805 -0.27740346752434225 0.0...</td>\n",
       "      <td>1421.19140625 -86.1328125 2.0 0.5 482.34375 43...</td>\n",
       "      <td>33.46252632141113 24.335822105407715 4.5 1.5 2...</td>\n",
       "      <td>100.0 47.5 1.5 0.5 87.35 72.0 47.5 54.0 100.0 ...</td>\n",
       "      <td>0.0 0.0 0.0 0.0 0.0 0.0 0.0 0.0 0.0 0.0 0.0 0....</td>\n",
       "      <td>40.0 40.0 0.0 0.0 40.0 40.0 40.0 40.0 40.0 40....</td>\n",
       "      <td>0.0 0.0 0.0 0.0 0.0 0.0 0.0 0.0 0.0 0.0 0.0 0....</td>\n",
       "      <td>328</td>\n",
       "      <td>4263.574</td>\n",
       "      <td>3402.246</td>\n",
       "      <td>4.5</td>\n",
       "      <td>2.5</td>\n",
       "      <td>28.5</td>\n",
       "      <td>0.5</td>\n",
       "      <td>5.0</td>\n",
       "      <td>10000</td>\n",
       "      <td>NaN</td>\n",
       "      <td>43.066406</td>\n",
       "      <td>200.0</td>\n",
       "      <td>36.0</td>\n",
       "      <td>25</td>\n",
       "      <td>1.0</td>\n",
       "    </tr>\n",
       "  </tbody>\n",
       "</table>\n",
       "</div>"
      ],
      "text/plain": [
       "        ID  SONGID                                             SIGNAL  \\\n",
       "0  1820682    2011  3 177 145 139 3 178 146 137 3 179 146 137 3 18...   \n",
       "1  1820683    2011  3 230 60 57 3 231 63 57 3 232 64 57 3 233 66 5...   \n",
       "2  1820684    2011  5 328 115 111 103 102 3 329 126 101 3 330 134 ...   \n",
       "\n",
       "                                            PEAKFREQ  \\\n",
       "0  4263.57421875 3832.91015625 15.0 0.0 4062.5976...   \n",
       "1  7407.421875 3100.78125 0.0 42.0 4587.030418882...   \n",
       "2  4995.703125 3316.11328125 0.0 4.5 4117.1484375...   \n",
       "\n",
       "                                            FUNDFREQ  \\\n",
       "0  4283.673733543762 3815.8396713317325 19.0 0.0 ...   \n",
       "1  7389.1988844382295 3027.87251546893 0.0 42.5 4...   \n",
       "2  5137.39993108298 3399.0993019123976 0.0 4.0 42...   \n",
       "\n",
       "                                            MEANFREQ  \\\n",
       "0  4270.3427222250075 3826.5109432227587 19.0 0.0...   \n",
       "1  7409.13028952881 3048.31062821831 0.0 43.0 455...   \n",
       "2  5047.68551414882 3327.0782209257077 0.0 4.5 41...   \n",
       "\n",
       "                                          MEDIANFREQ  \\\n",
       "0  4306.266418097342 3843.9194083976013 14.0 3.0 ...   \n",
       "1  7426.946155956237 3060.4056743941146 0.0 44.0 ...   \n",
       "2  5064.723596006633 3325.6770996024384 0.0 4.5 4...   \n",
       "\n",
       "                                      PEAKFREQCHANGE  \\\n",
       "0  0.007604770101606771 0.006679462853040866 0.0 ...   \n",
       "1  -0.012553735012542117 -0.03338982031684048 28....   \n",
       "2  -0.12936507276325204 -0.12951987178017654 0.0 ...   \n",
       "\n",
       "                                      FUNDFREQCHANGE  \\\n",
       "0  0.007604770101606771 0.006679462853040866 0.0 ...   \n",
       "1  -0.012553735012542117 -0.03338982031684048 28....   \n",
       "2  -0.12936507276325204 -0.12951987178017654 0.0 ...   \n",
       "\n",
       "                                      MEANFREQCHANGE  \\\n",
       "0  0.007604770101606771 0.006679462853040866 0.0 ...   \n",
       "1  -0.012553735012542117 -0.03338982031684048 28....   \n",
       "2  -0.12936507276325204 -0.12951987178017654 0.0 ...   \n",
       "\n",
       "                                    MEDIANFREQCHANGE  \\\n",
       "0  0.007604770101606771 0.006679462853040866 0.0 ...   \n",
       "1  -0.012553735012542117 -0.03338982031684048 28....   \n",
       "2  -0.12936507276325204 -0.12951987178017654 0.0 ...   \n",
       "\n",
       "                                         HARMONICITY  \\\n",
       "0  0.6417240713887844 0.5782139509622957 13.0 0.0...   \n",
       "1  0.6734669894201485 0.5877230486423247 16.5 5.0...   \n",
       "2  0.7165497097891279 0.5925254874604499 0.0 4.0 ...   \n",
       "\n",
       "                                              WIENER  \\\n",
       "0  -0.028506678217236365 -0.1948960193124872 19.0...   \n",
       "1  -0.04550707709243979 -0.2510391688153517 0.0 1...   \n",
       "2  -0.047124243903335805 -0.27740346752434225 0.0...   \n",
       "\n",
       "                                           BANDWIDTH  \\\n",
       "0  301.46484375 -86.1328125 18.0 0.0 -76.19441105...   \n",
       "1  516.796875 -86.1328125 17.5 0.0 -75.5952875664...   \n",
       "2  1421.19140625 -86.1328125 2.0 0.5 482.34375 43...   \n",
       "\n",
       "                                           AMPLITUDE  \\\n",
       "0  35.679351806640625 11.216655731201172 19.0 11....   \n",
       "1  35.076597929000854 7.0471343994140625 0.0 17.5...   \n",
       "2  33.46252632141113 24.335822105407715 4.5 1.5 2...   \n",
       "\n",
       "                                       REVERBERATION  \\\n",
       "0  100.0 0.5 2.0 8.5 27.82051282051282 43.5 50.0 ...   \n",
       "1  100.0 0.5 0.0 7.0 26.829787234042552 100.0 100...   \n",
       "2  100.0 47.5 1.5 0.5 87.35 72.0 47.5 54.0 100.0 ...   \n",
       "\n",
       "                                            TRILLAMP  \\\n",
       "0  0.0 0.0 0.0 0.0 0.0 0.0 0.0 0.0 0.0 0.0 0.0 0....   \n",
       "1  0.0 0.0 0.0 0.0 0.0 0.0 0.0 0.0 0.0 0.0 0.0 0....   \n",
       "2  0.0 0.0 0.0 0.0 0.0 0.0 0.0 0.0 0.0 0.0 0.0 0....   \n",
       "\n",
       "                                           TRILLRATE  \\\n",
       "0  40.0 40.0 0.0 0.0 40.0 40.0 40.0 40.0 40.0 40....   \n",
       "1  40.0 40.0 0.0 0.0 40.0 40.0 40.0 40.0 40.0 40....   \n",
       "2  40.0 40.0 0.0 0.0 40.0 40.0 40.0 40.0 40.0 40....   \n",
       "\n",
       "                                       POWERSPECTRUM  STARTTIME  \\\n",
       "0  0.0 0.0 0.0 0.0 0.0 0.0 0.0 0.0 0.0 0.0 0.0 0....        177   \n",
       "1  0.0 0.0 0.0 0.0 0.0 0.0 0.0 0.0 0.0 0.0 0.0 0....        230   \n",
       "2  0.0 0.0 0.0 0.0 0.0 0.0 0.0 0.0 0.0 0.0 0.0 0....        328   \n",
       "\n",
       "   OVERALLPEAKFREQ1  OVERALLPEAKFREQ2  TIMELENGTH  GAPBEFORE  GAPAFTER  \\\n",
       "0          4134.375          4134.375        19.0   -10000.0       7.5   \n",
       "1          4565.039          3186.914        46.5        7.5       2.5   \n",
       "2          4263.574          3402.246         4.5        2.5      28.5   \n",
       "\n",
       "   TIMESTEP  FRAMELENGTH   MAXF  WINDOWMETHOD         DY  DYNRANGE  DYNCOMP  \\\n",
       "0       0.5          5.0  10000           NaN  43.066406     200.0     36.0   \n",
       "1       0.5          5.0  10000           NaN  43.066406     200.0     36.0   \n",
       "2       0.5          5.0  10000           NaN  43.066406     200.0     36.0   \n",
       "\n",
       "   ECHORANGE  ECHOCOMP  \n",
       "0         25       1.0  \n",
       "1         25       1.0  \n",
       "2         25       1.0  "
      ]
     },
     "execution_count": 10,
     "metadata": {},
     "output_type": "execute_result"
    }
   ],
   "source": [
    "elements = pd.read_csv(DSLOC / 'ELEMENT.csv')\n",
    "elements[:3]"
   ]
  },
  {
   "cell_type": "code",
   "execution_count": 11,
   "metadata": {
    "ExecuteTime": {
     "end_time": "2020-03-13T15:22:56.922515Z",
     "start_time": "2020-03-13T15:22:56.876346Z"
    }
   },
   "outputs": [
    {
     "data": {
      "text/html": [
       "<div>\n",
       "<style scoped>\n",
       "    .dataframe tbody tr th:only-of-type {\n",
       "        vertical-align: middle;\n",
       "    }\n",
       "\n",
       "    .dataframe tbody tr th {\n",
       "        vertical-align: top;\n",
       "    }\n",
       "\n",
       "    .dataframe thead th {\n",
       "        text-align: right;\n",
       "    }\n",
       "</style>\n",
       "<table border=\"1\" class=\"dataframe\">\n",
       "  <thead>\n",
       "    <tr style=\"text-align: right;\">\n",
       "      <th></th>\n",
       "      <th>ID</th>\n",
       "      <th>INDIVIDUALID</th>\n",
       "      <th>NAME</th>\n",
       "      <th>ECHOCOMP</th>\n",
       "      <th>ECHORANGE</th>\n",
       "      <th>DYNCOMP</th>\n",
       "      <th>DYNRANGE</th>\n",
       "      <th>MAXFREQ</th>\n",
       "      <th>FRAMELENGTH</th>\n",
       "      <th>TIMESTEP</th>\n",
       "      <th>FILTERCUTOFF</th>\n",
       "      <th>WINDOWMETHOD</th>\n",
       "      <th>DX</th>\n",
       "      <th>DY</th>\n",
       "      <th>SAMPLERATE</th>\n",
       "      <th>USER</th>\n",
       "      <th>CALL_LOCATION</th>\n",
       "      <th>CALL_CONTEXT</th>\n",
       "      <th>RECORDINGEQUIPMENT</th>\n",
       "      <th>RECORDER</th>\n",
       "      <th>NOISE1</th>\n",
       "      <th>NOISE2</th>\n",
       "      <th>NOISE3</th>\n",
       "      <th>TIME</th>\n",
       "      <th>QUALITY</th>\n",
       "      <th>TYPE</th>\n",
       "      <th>CUSTOM0</th>\n",
       "      <th>CUSTOM1</th>\n",
       "    </tr>\n",
       "  </thead>\n",
       "  <tbody>\n",
       "    <tr>\n",
       "      <th>0</th>\n",
       "      <td>2193</td>\n",
       "      <td>561</td>\n",
       "      <td>TypeS-CentroidA-C2.wav</td>\n",
       "      <td>1.0</td>\n",
       "      <td>50</td>\n",
       "      <td>40.0</td>\n",
       "      <td>200</td>\n",
       "      <td>10000</td>\n",
       "      <td>5.0</td>\n",
       "      <td>0.5</td>\n",
       "      <td>1000.0</td>\n",
       "      <td>1</td>\n",
       "      <td>0.0</td>\n",
       "      <td>0.0</td>\n",
       "      <td>0</td>\n",
       "      <td>NaN</td>\n",
       "      <td></td>\n",
       "      <td></td>\n",
       "      <td>Sony PCM D50 / Shure SM57 / Sony PBR330</td>\n",
       "      <td>R F Lachlan</td>\n",
       "      <td>0.0</td>\n",
       "      <td>200</td>\n",
       "      <td>15</td>\n",
       "      <td>1301475691000</td>\n",
       "      <td></td>\n",
       "      <td></td>\n",
       "      <td>NaN</td>\n",
       "      <td>NaN</td>\n",
       "    </tr>\n",
       "    <tr>\n",
       "      <th>1</th>\n",
       "      <td>2011</td>\n",
       "      <td>251</td>\n",
       "      <td>SWSP09HVTIV29K1.wav</td>\n",
       "      <td>1.0</td>\n",
       "      <td>50</td>\n",
       "      <td>40.0</td>\n",
       "      <td>200</td>\n",
       "      <td>10000</td>\n",
       "      <td>5.0</td>\n",
       "      <td>0.5</td>\n",
       "      <td>1000.0</td>\n",
       "      <td>1</td>\n",
       "      <td>0.0</td>\n",
       "      <td>0.0</td>\n",
       "      <td>0</td>\n",
       "      <td>NaN</td>\n",
       "      <td></td>\n",
       "      <td></td>\n",
       "      <td>Sony PCM D50 / Shure SM57 / Sony PBR330</td>\n",
       "      <td>R F Lachlan</td>\n",
       "      <td>0.0</td>\n",
       "      <td>200</td>\n",
       "      <td>15</td>\n",
       "      <td>1259216618000</td>\n",
       "      <td></td>\n",
       "      <td></td>\n",
       "      <td>NaN</td>\n",
       "      <td>NaN</td>\n",
       "    </tr>\n",
       "    <tr>\n",
       "      <th>2</th>\n",
       "      <td>2010</td>\n",
       "      <td>251</td>\n",
       "      <td>SWSP09HVTIV29GG1.wav</td>\n",
       "      <td>1.0</td>\n",
       "      <td>50</td>\n",
       "      <td>40.0</td>\n",
       "      <td>200</td>\n",
       "      <td>10000</td>\n",
       "      <td>5.0</td>\n",
       "      <td>0.5</td>\n",
       "      <td>1000.0</td>\n",
       "      <td>1</td>\n",
       "      <td>0.0</td>\n",
       "      <td>0.0</td>\n",
       "      <td>0</td>\n",
       "      <td>NaN</td>\n",
       "      <td></td>\n",
       "      <td></td>\n",
       "      <td>Sony PCM D50 / Shure SM57 / Sony PBR330</td>\n",
       "      <td>R F Lachlan</td>\n",
       "      <td>0.0</td>\n",
       "      <td>200</td>\n",
       "      <td>15</td>\n",
       "      <td>1259216653000</td>\n",
       "      <td></td>\n",
       "      <td></td>\n",
       "      <td>NaN</td>\n",
       "      <td>NaN</td>\n",
       "    </tr>\n",
       "  </tbody>\n",
       "</table>\n",
       "</div>"
      ],
      "text/plain": [
       "     ID  INDIVIDUALID                    NAME  ECHOCOMP  ECHORANGE  DYNCOMP  \\\n",
       "0  2193           561  TypeS-CentroidA-C2.wav       1.0         50     40.0   \n",
       "1  2011           251     SWSP09HVTIV29K1.wav       1.0         50     40.0   \n",
       "2  2010           251    SWSP09HVTIV29GG1.wav       1.0         50     40.0   \n",
       "\n",
       "   DYNRANGE  MAXFREQ  FRAMELENGTH  TIMESTEP  FILTERCUTOFF  WINDOWMETHOD   DX  \\\n",
       "0       200    10000          5.0       0.5        1000.0             1  0.0   \n",
       "1       200    10000          5.0       0.5        1000.0             1  0.0   \n",
       "2       200    10000          5.0       0.5        1000.0             1  0.0   \n",
       "\n",
       "    DY  SAMPLERATE  USER CALL_LOCATION CALL_CONTEXT  \\\n",
       "0  0.0           0   NaN                              \n",
       "1  0.0           0   NaN                              \n",
       "2  0.0           0   NaN                              \n",
       "\n",
       "                        RECORDINGEQUIPMENT     RECORDER  NOISE1  NOISE2  \\\n",
       "0  Sony PCM D50 / Shure SM57 / Sony PBR330  R F Lachlan     0.0     200   \n",
       "1  Sony PCM D50 / Shure SM57 / Sony PBR330  R F Lachlan     0.0     200   \n",
       "2  Sony PCM D50 / Shure SM57 / Sony PBR330  R F Lachlan     0.0     200   \n",
       "\n",
       "   NOISE3           TIME QUALITY TYPE  CUSTOM0  CUSTOM1  \n",
       "0      15  1301475691000                   NaN      NaN  \n",
       "1      15  1259216618000                   NaN      NaN  \n",
       "2      15  1259216653000                   NaN      NaN  "
      ]
     },
     "execution_count": 11,
     "metadata": {},
     "output_type": "execute_result"
    }
   ],
   "source": [
    "songdata = pd.read_csv(DSLOC / 'SONGDATA.csv')\n",
    "songdata[:3]"
   ]
  },
  {
   "cell_type": "code",
   "execution_count": 12,
   "metadata": {
    "ExecuteTime": {
     "end_time": "2020-03-13T15:23:04.187585Z",
     "start_time": "2020-03-13T15:22:56.923603Z"
    }
   },
   "outputs": [
    {
     "data": {
      "text/html": [
       "<div>\n",
       "<style scoped>\n",
       "    .dataframe tbody tr th:only-of-type {\n",
       "        vertical-align: middle;\n",
       "    }\n",
       "\n",
       "    .dataframe tbody tr th {\n",
       "        vertical-align: top;\n",
       "    }\n",
       "\n",
       "    .dataframe thead th {\n",
       "        text-align: right;\n",
       "    }\n",
       "</style>\n",
       "<table border=\"1\" class=\"dataframe\">\n",
       "  <thead>\n",
       "    <tr style=\"text-align: right;\">\n",
       "      <th></th>\n",
       "      <th>ID</th>\n",
       "      <th>SONGID</th>\n",
       "      <th>FILENAME</th>\n",
       "      <th>WAV</th>\n",
       "      <th>SAMPLERATE</th>\n",
       "      <th>FRAMESIZE</th>\n",
       "      <th>STEREO</th>\n",
       "      <th>BIGEND</th>\n",
       "      <th>SIGNED</th>\n",
       "      <th>SSIZEINBITS</th>\n",
       "      <th>TIME</th>\n",
       "    </tr>\n",
       "  </thead>\n",
       "  <tbody>\n",
       "    <tr>\n",
       "      <th>0</th>\n",
       "      <td>71</td>\n",
       "      <td>71</td>\n",
       "      <td>PymConneaut08T50C-Z.wav</td>\n",
       "      <td>ebffe8ffdbffe3ffdfffddffe2ffdfffe3ffc8ffc4ffcd...</td>\n",
       "      <td>44100.0</td>\n",
       "      <td>2</td>\n",
       "      <td>1</td>\n",
       "      <td>0</td>\n",
       "      <td>1</td>\n",
       "      <td>16</td>\n",
       "      <td>1222840401000</td>\n",
       "    </tr>\n",
       "    <tr>\n",
       "      <th>1</th>\n",
       "      <td>72</td>\n",
       "      <td>72</td>\n",
       "      <td>PymConneaut08T42B-RA</td>\n",
       "      <td>c7ffb3ffc6ffd7ffd8fff8fffbff0400eaffdeffc2ffa8...</td>\n",
       "      <td>44100.0</td>\n",
       "      <td>2</td>\n",
       "      <td>1</td>\n",
       "      <td>0</td>\n",
       "      <td>1</td>\n",
       "      <td>16</td>\n",
       "      <td>1222837577000</td>\n",
       "    </tr>\n",
       "    <tr>\n",
       "      <th>2</th>\n",
       "      <td>73</td>\n",
       "      <td>73</td>\n",
       "      <td>PymConneaut08T42A-A.wav</td>\n",
       "      <td>e7ffe9fff0fffcfff6fff3fffffff2ffeeffebffe2fffa...</td>\n",
       "      <td>44100.0</td>\n",
       "      <td>2</td>\n",
       "      <td>1</td>\n",
       "      <td>0</td>\n",
       "      <td>1</td>\n",
       "      <td>16</td>\n",
       "      <td>1222837530000</td>\n",
       "    </tr>\n",
       "  </tbody>\n",
       "</table>\n",
       "</div>"
      ],
      "text/plain": [
       "   ID  SONGID                 FILENAME  \\\n",
       "0  71      71  PymConneaut08T50C-Z.wav   \n",
       "1  72      72     PymConneaut08T42B-RA   \n",
       "2  73      73  PymConneaut08T42A-A.wav   \n",
       "\n",
       "                                                 WAV  SAMPLERATE  FRAMESIZE  \\\n",
       "0  ebffe8ffdbffe3ffdfffddffe2ffdfffe3ffc8ffc4ffcd...     44100.0          2   \n",
       "1  c7ffb3ffc6ffd7ffd8fff8fffbff0400eaffdeffc2ffa8...     44100.0          2   \n",
       "2  e7ffe9fff0fffcfff6fff3fffffff2ffeeffebffe2fffa...     44100.0          2   \n",
       "\n",
       "   STEREO  BIGEND  SIGNED  SSIZEINBITS           TIME  \n",
       "0       1       0       1           16  1222840401000  \n",
       "1       1       0       1           16  1222837577000  \n",
       "2       1       0       1           16  1222837530000  "
      ]
     },
     "execution_count": 12,
     "metadata": {},
     "output_type": "execute_result"
    }
   ],
   "source": [
    "wavs = pd.read_csv(DSLOC / 'WAVS.csv')\n",
    "wavs[:3]"
   ]
  },
  {
   "cell_type": "markdown",
   "metadata": {},
   "source": [
    "### generate wavs and textgrids"
   ]
  },
  {
   "cell_type": "code",
   "execution_count": 14,
   "metadata": {
    "ExecuteTime": {
     "end_time": "2020-03-13T15:23:42.195320Z",
     "start_time": "2020-03-13T15:23:42.008052Z"
    }
   },
   "outputs": [
    {
     "data": {
      "application/vnd.jupyter.widget-view+json": {
       "model_id": "e7a1ef8f6af948219dc19cd942eadd6e",
       "version_major": 2,
       "version_minor": 0
      },
      "text/plain": [
       "HBox(children=(IntProgress(value=0, max=1870), HTML(value='')))"
      ]
     },
     "metadata": {},
     "output_type": "display_data"
    },
    {
     "name": "stderr",
     "output_type": "stream",
     "text": [
      "[Parallel(n_jobs=1)]: Using backend SequentialBackend with 1 concurrent workers.\n"
     ]
    },
    {
     "ename": "AttributeError",
     "evalue": "'Series' object has no attribute 'split'",
     "output_type": "error",
     "traceback": [
      "\u001b[0;31m---------------------------------------------------------------------------\u001b[0m",
      "\u001b[0;31mAttributeError\u001b[0m                            Traceback (most recent call last)",
      "\u001b[0;32m<ipython-input-14-d84988f07e43>\u001b[0m in \u001b[0;36m<module>\u001b[0;34m\u001b[0m\n\u001b[1;32m      8\u001b[0m             \u001b[0msyllables\u001b[0m\u001b[0;34m[\u001b[0m\u001b[0msyllables\u001b[0m\u001b[0;34m.\u001b[0m\u001b[0mSONGID\u001b[0m \u001b[0;34m==\u001b[0m \u001b[0mrow\u001b[0m\u001b[0;34m.\u001b[0m\u001b[0mSONGID\u001b[0m\u001b[0;34m]\u001b[0m\u001b[0;34m,\u001b[0m\u001b[0;34m\u001b[0m\u001b[0;34m\u001b[0m\u001b[0m\n\u001b[1;32m      9\u001b[0m             DT_ID)\n\u001b[0;32m---> 10\u001b[0;31m         \u001b[0;32mfor\u001b[0m \u001b[0midx\u001b[0m\u001b[0;34m,\u001b[0m \u001b[0mrow\u001b[0m \u001b[0;32min\u001b[0m \u001b[0mtqdm\u001b[0m\u001b[0;34m(\u001b[0m\u001b[0mwavs\u001b[0m\u001b[0;34m.\u001b[0m\u001b[0miterrows\u001b[0m\u001b[0;34m(\u001b[0m\u001b[0;34m)\u001b[0m\u001b[0;34m,\u001b[0m \u001b[0mtotal\u001b[0m\u001b[0;34m=\u001b[0m\u001b[0mlen\u001b[0m\u001b[0;34m(\u001b[0m\u001b[0mwavs\u001b[0m\u001b[0;34m)\u001b[0m\u001b[0;34m)\u001b[0m\u001b[0;34m\u001b[0m\u001b[0;34m\u001b[0m\u001b[0m\n\u001b[0m\u001b[1;32m     11\u001b[0m     );\n",
      "\u001b[0;32m/mnt/cube/tsainbur/conda_envs/tpy3/lib/python3.6/site-packages/joblib/parallel.py\u001b[0m in \u001b[0;36m__call__\u001b[0;34m(self, iterable)\u001b[0m\n\u001b[1;32m    919\u001b[0m             \u001b[0;31m# remaining jobs.\u001b[0m\u001b[0;34m\u001b[0m\u001b[0;34m\u001b[0m\u001b[0;34m\u001b[0m\u001b[0m\n\u001b[1;32m    920\u001b[0m             \u001b[0mself\u001b[0m\u001b[0;34m.\u001b[0m\u001b[0m_iterating\u001b[0m \u001b[0;34m=\u001b[0m \u001b[0;32mFalse\u001b[0m\u001b[0;34m\u001b[0m\u001b[0;34m\u001b[0m\u001b[0m\n\u001b[0;32m--> 921\u001b[0;31m             \u001b[0;32mif\u001b[0m \u001b[0mself\u001b[0m\u001b[0;34m.\u001b[0m\u001b[0mdispatch_one_batch\u001b[0m\u001b[0;34m(\u001b[0m\u001b[0miterator\u001b[0m\u001b[0;34m)\u001b[0m\u001b[0;34m:\u001b[0m\u001b[0;34m\u001b[0m\u001b[0;34m\u001b[0m\u001b[0m\n\u001b[0m\u001b[1;32m    922\u001b[0m                 \u001b[0mself\u001b[0m\u001b[0;34m.\u001b[0m\u001b[0m_iterating\u001b[0m \u001b[0;34m=\u001b[0m \u001b[0mself\u001b[0m\u001b[0;34m.\u001b[0m\u001b[0m_original_iterator\u001b[0m \u001b[0;32mis\u001b[0m \u001b[0;32mnot\u001b[0m \u001b[0;32mNone\u001b[0m\u001b[0;34m\u001b[0m\u001b[0;34m\u001b[0m\u001b[0m\n\u001b[1;32m    923\u001b[0m \u001b[0;34m\u001b[0m\u001b[0m\n",
      "\u001b[0;32m/mnt/cube/tsainbur/conda_envs/tpy3/lib/python3.6/site-packages/joblib/parallel.py\u001b[0m in \u001b[0;36mdispatch_one_batch\u001b[0;34m(self, iterator)\u001b[0m\n\u001b[1;32m    757\u001b[0m                 \u001b[0;32mreturn\u001b[0m \u001b[0;32mFalse\u001b[0m\u001b[0;34m\u001b[0m\u001b[0;34m\u001b[0m\u001b[0m\n\u001b[1;32m    758\u001b[0m             \u001b[0;32melse\u001b[0m\u001b[0;34m:\u001b[0m\u001b[0;34m\u001b[0m\u001b[0;34m\u001b[0m\u001b[0m\n\u001b[0;32m--> 759\u001b[0;31m                 \u001b[0mself\u001b[0m\u001b[0;34m.\u001b[0m\u001b[0m_dispatch\u001b[0m\u001b[0;34m(\u001b[0m\u001b[0mtasks\u001b[0m\u001b[0;34m)\u001b[0m\u001b[0;34m\u001b[0m\u001b[0;34m\u001b[0m\u001b[0m\n\u001b[0m\u001b[1;32m    760\u001b[0m                 \u001b[0;32mreturn\u001b[0m \u001b[0;32mTrue\u001b[0m\u001b[0;34m\u001b[0m\u001b[0;34m\u001b[0m\u001b[0m\n\u001b[1;32m    761\u001b[0m \u001b[0;34m\u001b[0m\u001b[0m\n",
      "\u001b[0;32m/mnt/cube/tsainbur/conda_envs/tpy3/lib/python3.6/site-packages/joblib/parallel.py\u001b[0m in \u001b[0;36m_dispatch\u001b[0;34m(self, batch)\u001b[0m\n\u001b[1;32m    714\u001b[0m         \u001b[0;32mwith\u001b[0m \u001b[0mself\u001b[0m\u001b[0;34m.\u001b[0m\u001b[0m_lock\u001b[0m\u001b[0;34m:\u001b[0m\u001b[0;34m\u001b[0m\u001b[0;34m\u001b[0m\u001b[0m\n\u001b[1;32m    715\u001b[0m             \u001b[0mjob_idx\u001b[0m \u001b[0;34m=\u001b[0m \u001b[0mlen\u001b[0m\u001b[0;34m(\u001b[0m\u001b[0mself\u001b[0m\u001b[0;34m.\u001b[0m\u001b[0m_jobs\u001b[0m\u001b[0;34m)\u001b[0m\u001b[0;34m\u001b[0m\u001b[0;34m\u001b[0m\u001b[0m\n\u001b[0;32m--> 716\u001b[0;31m             \u001b[0mjob\u001b[0m \u001b[0;34m=\u001b[0m \u001b[0mself\u001b[0m\u001b[0;34m.\u001b[0m\u001b[0m_backend\u001b[0m\u001b[0;34m.\u001b[0m\u001b[0mapply_async\u001b[0m\u001b[0;34m(\u001b[0m\u001b[0mbatch\u001b[0m\u001b[0;34m,\u001b[0m \u001b[0mcallback\u001b[0m\u001b[0;34m=\u001b[0m\u001b[0mcb\u001b[0m\u001b[0;34m)\u001b[0m\u001b[0;34m\u001b[0m\u001b[0;34m\u001b[0m\u001b[0m\n\u001b[0m\u001b[1;32m    717\u001b[0m             \u001b[0;31m# A job can complete so quickly than its callback is\u001b[0m\u001b[0;34m\u001b[0m\u001b[0;34m\u001b[0m\u001b[0;34m\u001b[0m\u001b[0m\n\u001b[1;32m    718\u001b[0m             \u001b[0;31m# called before we get here, causing self._jobs to\u001b[0m\u001b[0;34m\u001b[0m\u001b[0;34m\u001b[0m\u001b[0;34m\u001b[0m\u001b[0m\n",
      "\u001b[0;32m/mnt/cube/tsainbur/conda_envs/tpy3/lib/python3.6/site-packages/joblib/_parallel_backends.py\u001b[0m in \u001b[0;36mapply_async\u001b[0;34m(self, func, callback)\u001b[0m\n\u001b[1;32m    180\u001b[0m     \u001b[0;32mdef\u001b[0m \u001b[0mapply_async\u001b[0m\u001b[0;34m(\u001b[0m\u001b[0mself\u001b[0m\u001b[0;34m,\u001b[0m \u001b[0mfunc\u001b[0m\u001b[0;34m,\u001b[0m \u001b[0mcallback\u001b[0m\u001b[0;34m=\u001b[0m\u001b[0;32mNone\u001b[0m\u001b[0;34m)\u001b[0m\u001b[0;34m:\u001b[0m\u001b[0;34m\u001b[0m\u001b[0;34m\u001b[0m\u001b[0m\n\u001b[1;32m    181\u001b[0m         \u001b[0;34m\"\"\"Schedule a func to be run\"\"\"\u001b[0m\u001b[0;34m\u001b[0m\u001b[0;34m\u001b[0m\u001b[0m\n\u001b[0;32m--> 182\u001b[0;31m         \u001b[0mresult\u001b[0m \u001b[0;34m=\u001b[0m \u001b[0mImmediateResult\u001b[0m\u001b[0;34m(\u001b[0m\u001b[0mfunc\u001b[0m\u001b[0;34m)\u001b[0m\u001b[0;34m\u001b[0m\u001b[0;34m\u001b[0m\u001b[0m\n\u001b[0m\u001b[1;32m    183\u001b[0m         \u001b[0;32mif\u001b[0m \u001b[0mcallback\u001b[0m\u001b[0;34m:\u001b[0m\u001b[0;34m\u001b[0m\u001b[0;34m\u001b[0m\u001b[0m\n\u001b[1;32m    184\u001b[0m             \u001b[0mcallback\u001b[0m\u001b[0;34m(\u001b[0m\u001b[0mresult\u001b[0m\u001b[0;34m)\u001b[0m\u001b[0;34m\u001b[0m\u001b[0;34m\u001b[0m\u001b[0m\n",
      "\u001b[0;32m/mnt/cube/tsainbur/conda_envs/tpy3/lib/python3.6/site-packages/joblib/_parallel_backends.py\u001b[0m in \u001b[0;36m__init__\u001b[0;34m(self, batch)\u001b[0m\n\u001b[1;32m    547\u001b[0m         \u001b[0;31m# Don't delay the application, to avoid keeping the input\u001b[0m\u001b[0;34m\u001b[0m\u001b[0;34m\u001b[0m\u001b[0;34m\u001b[0m\u001b[0m\n\u001b[1;32m    548\u001b[0m         \u001b[0;31m# arguments in memory\u001b[0m\u001b[0;34m\u001b[0m\u001b[0;34m\u001b[0m\u001b[0;34m\u001b[0m\u001b[0m\n\u001b[0;32m--> 549\u001b[0;31m         \u001b[0mself\u001b[0m\u001b[0;34m.\u001b[0m\u001b[0mresults\u001b[0m \u001b[0;34m=\u001b[0m \u001b[0mbatch\u001b[0m\u001b[0;34m(\u001b[0m\u001b[0;34m)\u001b[0m\u001b[0;34m\u001b[0m\u001b[0;34m\u001b[0m\u001b[0m\n\u001b[0m\u001b[1;32m    550\u001b[0m \u001b[0;34m\u001b[0m\u001b[0m\n\u001b[1;32m    551\u001b[0m     \u001b[0;32mdef\u001b[0m \u001b[0mget\u001b[0m\u001b[0;34m(\u001b[0m\u001b[0mself\u001b[0m\u001b[0;34m)\u001b[0m\u001b[0;34m:\u001b[0m\u001b[0;34m\u001b[0m\u001b[0;34m\u001b[0m\u001b[0m\n",
      "\u001b[0;32m/mnt/cube/tsainbur/conda_envs/tpy3/lib/python3.6/site-packages/joblib/parallel.py\u001b[0m in \u001b[0;36m__call__\u001b[0;34m(self)\u001b[0m\n\u001b[1;32m    223\u001b[0m         \u001b[0;32mwith\u001b[0m \u001b[0mparallel_backend\u001b[0m\u001b[0;34m(\u001b[0m\u001b[0mself\u001b[0m\u001b[0;34m.\u001b[0m\u001b[0m_backend\u001b[0m\u001b[0;34m,\u001b[0m \u001b[0mn_jobs\u001b[0m\u001b[0;34m=\u001b[0m\u001b[0mself\u001b[0m\u001b[0;34m.\u001b[0m\u001b[0m_n_jobs\u001b[0m\u001b[0;34m)\u001b[0m\u001b[0;34m:\u001b[0m\u001b[0;34m\u001b[0m\u001b[0;34m\u001b[0m\u001b[0m\n\u001b[1;32m    224\u001b[0m             return [func(*args, **kwargs)\n\u001b[0;32m--> 225\u001b[0;31m                     for func, args, kwargs in self.items]\n\u001b[0m\u001b[1;32m    226\u001b[0m \u001b[0;34m\u001b[0m\u001b[0m\n\u001b[1;32m    227\u001b[0m     \u001b[0;32mdef\u001b[0m \u001b[0m__len__\u001b[0m\u001b[0;34m(\u001b[0m\u001b[0mself\u001b[0m\u001b[0;34m)\u001b[0m\u001b[0;34m:\u001b[0m\u001b[0;34m\u001b[0m\u001b[0;34m\u001b[0m\u001b[0m\n",
      "\u001b[0;32m/mnt/cube/tsainbur/conda_envs/tpy3/lib/python3.6/site-packages/joblib/parallel.py\u001b[0m in \u001b[0;36m<listcomp>\u001b[0;34m(.0)\u001b[0m\n\u001b[1;32m    223\u001b[0m         \u001b[0;32mwith\u001b[0m \u001b[0mparallel_backend\u001b[0m\u001b[0;34m(\u001b[0m\u001b[0mself\u001b[0m\u001b[0;34m.\u001b[0m\u001b[0m_backend\u001b[0m\u001b[0;34m,\u001b[0m \u001b[0mn_jobs\u001b[0m\u001b[0;34m=\u001b[0m\u001b[0mself\u001b[0m\u001b[0;34m.\u001b[0m\u001b[0m_n_jobs\u001b[0m\u001b[0;34m)\u001b[0m\u001b[0;34m:\u001b[0m\u001b[0;34m\u001b[0m\u001b[0;34m\u001b[0m\u001b[0m\n\u001b[1;32m    224\u001b[0m             return [func(*args, **kwargs)\n\u001b[0;32m--> 225\u001b[0;31m                     for func, args, kwargs in self.items]\n\u001b[0m\u001b[1;32m    226\u001b[0m \u001b[0;34m\u001b[0m\u001b[0m\n\u001b[1;32m    227\u001b[0m     \u001b[0;32mdef\u001b[0m \u001b[0m__len__\u001b[0m\u001b[0;34m(\u001b[0m\u001b[0mself\u001b[0m\u001b[0;34m)\u001b[0m\u001b[0;34m:\u001b[0m\u001b[0;34m\u001b[0m\u001b[0;34m\u001b[0m\u001b[0m\n",
      "\u001b[0;32m/mnt/cube/tsainbur/Projects/github_repos/avgn_paper/avgn/custom_parsing/lachlan_swampsparrow.py\u001b[0m in \u001b[0;36mannotate_bouts\u001b[0;34m(row, songdata_row, individual_row, wav_elements, wav_syllables, DT_ID)\u001b[0m\n\u001b[1;32m    104\u001b[0m \u001b[0;34m\u001b[0m\u001b[0m\n\u001b[1;32m    105\u001b[0m         \u001b[0;31m# Peak frequency\u001b[0m\u001b[0;34m\u001b[0m\u001b[0;34m\u001b[0m\u001b[0;34m\u001b[0m\u001b[0m\n\u001b[0;32m--> 106\u001b[0;31m         \u001b[0mfreq_list\u001b[0m \u001b[0;34m=\u001b[0m \u001b[0mnp\u001b[0m\u001b[0;34m.\u001b[0m\u001b[0marray\u001b[0m\u001b[0;34m(\u001b[0m\u001b[0melement_row\u001b[0m\u001b[0;34m.\u001b[0m\u001b[0msplit\u001b[0m\u001b[0;34m(\u001b[0m\u001b[0;34m\" \"\u001b[0m\u001b[0;34m)\u001b[0m\u001b[0;34m)\u001b[0m\u001b[0;34m[\u001b[0m\u001b[0;34m:\u001b[0m\u001b[0;34m-\u001b[0m\u001b[0;36m1\u001b[0m\u001b[0;34m]\u001b[0m\u001b[0;34m.\u001b[0m\u001b[0mastype\u001b[0m\u001b[0;34m(\u001b[0m\u001b[0;34m\"float\"\u001b[0m\u001b[0;34m)\u001b[0m\u001b[0;34m\u001b[0m\u001b[0;34m\u001b[0m\u001b[0m\n\u001b[0m\u001b[1;32m    107\u001b[0m         \u001b[0melement_pf_start\u001b[0m\u001b[0;34m.\u001b[0m\u001b[0mappend\u001b[0m\u001b[0;34m(\u001b[0m\u001b[0mfreq_list\u001b[0m\u001b[0;34m[\u001b[0m\u001b[0;36m0\u001b[0m\u001b[0;34m]\u001b[0m\u001b[0;34m)\u001b[0m\u001b[0;34m\u001b[0m\u001b[0;34m\u001b[0m\u001b[0m\n\u001b[1;32m    108\u001b[0m         \u001b[0melement_pf_end\u001b[0m\u001b[0;34m.\u001b[0m\u001b[0mappend\u001b[0m\u001b[0;34m(\u001b[0m\u001b[0mfreq_list\u001b[0m\u001b[0;34m[\u001b[0m\u001b[0;34m-\u001b[0m\u001b[0;36m1\u001b[0m\u001b[0;34m]\u001b[0m\u001b[0;34m)\u001b[0m\u001b[0;34m\u001b[0m\u001b[0;34m\u001b[0m\u001b[0m\n",
      "\u001b[0;32m/mnt/cube/tsainbur/conda_envs/tpy3/lib/python3.6/site-packages/pandas/core/generic.py\u001b[0m in \u001b[0;36m__getattr__\u001b[0;34m(self, name)\u001b[0m\n\u001b[1;32m   5065\u001b[0m             \u001b[0;32mif\u001b[0m \u001b[0mself\u001b[0m\u001b[0;34m.\u001b[0m\u001b[0m_info_axis\u001b[0m\u001b[0;34m.\u001b[0m\u001b[0m_can_hold_identifiers_and_holds_name\u001b[0m\u001b[0;34m(\u001b[0m\u001b[0mname\u001b[0m\u001b[0;34m)\u001b[0m\u001b[0;34m:\u001b[0m\u001b[0;34m\u001b[0m\u001b[0;34m\u001b[0m\u001b[0m\n\u001b[1;32m   5066\u001b[0m                 \u001b[0;32mreturn\u001b[0m \u001b[0mself\u001b[0m\u001b[0;34m[\u001b[0m\u001b[0mname\u001b[0m\u001b[0;34m]\u001b[0m\u001b[0;34m\u001b[0m\u001b[0;34m\u001b[0m\u001b[0m\n\u001b[0;32m-> 5067\u001b[0;31m             \u001b[0;32mreturn\u001b[0m \u001b[0mobject\u001b[0m\u001b[0;34m.\u001b[0m\u001b[0m__getattribute__\u001b[0m\u001b[0;34m(\u001b[0m\u001b[0mself\u001b[0m\u001b[0;34m,\u001b[0m \u001b[0mname\u001b[0m\u001b[0;34m)\u001b[0m\u001b[0;34m\u001b[0m\u001b[0;34m\u001b[0m\u001b[0m\n\u001b[0m\u001b[1;32m   5068\u001b[0m \u001b[0;34m\u001b[0m\u001b[0m\n\u001b[1;32m   5069\u001b[0m     \u001b[0;32mdef\u001b[0m \u001b[0m__setattr__\u001b[0m\u001b[0;34m(\u001b[0m\u001b[0mself\u001b[0m\u001b[0;34m,\u001b[0m \u001b[0mname\u001b[0m\u001b[0;34m,\u001b[0m \u001b[0mvalue\u001b[0m\u001b[0;34m)\u001b[0m\u001b[0;34m:\u001b[0m\u001b[0;34m\u001b[0m\u001b[0;34m\u001b[0m\u001b[0m\n",
      "\u001b[0;31mAttributeError\u001b[0m: 'Series' object has no attribute 'split'"
     ]
    }
   ],
   "source": [
    "with Parallel(n_jobs=1, verbose=10) as parallel:\n",
    "    parallel(\n",
    "        delayed(annotate_bouts)(\n",
    "            row, \n",
    "            songdata[songdata.ID == row.ID].iloc[0], \n",
    "            individual[individual.ID == songdata[songdata.ID == row.ID].iloc[0].INDIVIDUALID].iloc[0], \n",
    "            elements[elements.SONGID == row.SONGID], \n",
    "            syllables[syllables.SONGID == row.SONGID], \n",
    "            DT_ID)\n",
    "        for idx, row in tqdm(wavs.iterrows(), total=len(wavs))\n",
    "    );\n"
   ]
  },
  {
   "cell_type": "code",
   "execution_count": null,
   "metadata": {},
   "outputs": [],
   "source": []
  },
  {
   "cell_type": "code",
   "execution_count": null,
   "metadata": {
    "ExecuteTime": {
     "end_time": "2020-03-13T15:23:14.028743Z",
     "start_time": "2020-03-13T15:22:41.733Z"
    }
   },
   "outputs": [],
   "source": [
    "\"\"\"for idx, row in tqdm(wavs.iterrows(), total=len(wavs)):\n",
    "    annotate_bouts(\n",
    "            row, \n",
    "            songdata[songdata.ID == row.ID].iloc[0], \n",
    "            individual[individual.ID == songdata[songdata.ID == row.ID].iloc[0].INDIVIDUALID].iloc[0], \n",
    "            elements[elements.SONGID == row.SONGID], \n",
    "            syllables[syllables.SONGID == row.SONGID], \n",
    "            DT_ID\n",
    "    )\"\"\""
   ]
  },
  {
   "cell_type": "code",
   "execution_count": null,
   "metadata": {},
   "outputs": [],
   "source": []
  }
 ],
 "metadata": {
  "kernelspec": {
   "display_name": "Python 3",
   "language": "python",
   "name": "python3"
  },
  "language_info": {
   "codemirror_mode": {
    "name": "ipython",
    "version": 3
   },
   "file_extension": ".py",
   "mimetype": "text/x-python",
   "name": "python",
   "nbconvert_exporter": "python",
   "pygments_lexer": "ipython3",
   "version": "3.6.7"
  }
 },
 "nbformat": 4,
 "nbformat_minor": 2
}
