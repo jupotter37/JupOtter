{
 "cells": [
  {
   "cell_type": "markdown",
   "metadata": {},
   "source": [
    "## Initialize the environment"
   ]
  },
  {
   "cell_type": "code",
   "execution_count": null,
   "metadata": {},
   "outputs": [],
   "source": [
    "from pathlib import Path\n",
    "from datetime import datetime\n",
    "import logging\n",
    "import os\n",
    "import sys\n",
    "\n",
    "ENV = \"jupytern\"\n",
    "os.environ['CS_ENV'] = \"jupytern\"\n",
    "BASE_DIR = \"/home/jupyter/CivilServant\"\n",
    "sys.path.append(BASE_DIR)\n",
    "\n",
    "LOG_PATH = str(Path(BASE_DIR, \"logs\", \"praw_messenger_%s.log\" % ENV))\n",
    "logging.basicConfig(filename=LOG_PATH, level=logging.INFO)\n",
    "logging.getLogger().addHandler(logging.StreamHandler(sys.stdout))\n",
    "\n",
    "notebook_dir = os.getcwd()\n",
    "os.chdir(BASE_DIR)\n",
    "import reddit.connection\n",
    "conn = reddit.connection.Connect(base_dir=BASE_DIR, env=\"jupytern\")\n",
    "r = conn.connect(use_db_keys=False)\n",
    "os.chdir(notebook_dir)\n",
    "import praw.errors\n"
   ]
  },
  {
   "cell_type": "markdown",
   "metadata": {},
   "source": [
    "## Define the message template"
   ]
  },
  {
   "cell_type": "code",
   "execution_count": null,
   "metadata": {},
   "outputs": [],
   "source": [
    "MESSAGE_SUBJECT = \"Survey Notification\"\n",
    "MESSAGE_TEMPLATE = \"\"\"Dear {user},\n",
    "Please take the following survey: {url}\n",
    "\n",
    "Pretending these are being passed into the form:\n",
    "\n",
    "first_comment_age: {first_comment_age}\n",
    "get_info_date: {get_info_date}\n",
    "deleted: {deleted}\n",
    "\"\"\""
   ]
  },
  {
   "cell_type": "markdown",
   "metadata": {},
   "source": [
    "## Add the ability to validate users"
   ]
  },
  {
   "cell_type": "code",
   "execution_count": null,
   "metadata": {},
   "outputs": [],
   "source": [
    "def get_reddit_user(username):\n",
    "    try:\n",
    "        user_dict = r.get_redditor(username, fetch=True).json_dict\n",
    "        logging.info(\"User %s found: %s\" %(username, str(user_dict)))\n",
    "        return user_dict\n",
    "    except praw.errors.NotFound as e:\n",
    "        logging.error(\"User not found: %s\" % username)\n",
    "    except Exception as e:\n",
    "        logging.exception(\"Failed to retrieve user\")"
   ]
  },
  {
   "cell_type": "markdown",
   "metadata": {},
   "source": [
    "## Add the ability to send messages"
   ]
  },
  {
   "cell_type": "code",
   "execution_count": null,
   "metadata": {},
   "outputs": [],
   "source": [
    "def send_reddit_message(**message_data):\n",
    "    user = message_data[\"user\"]\n",
    "    message = MESSAGE_TEMPLATE.format(**message_data)\n",
    "    try:\n",
    "        logging.info(\"Sending a message to user %s with data %s\" % (user, str(message_data)))\n",
    "        response = r.send_message(user, MESSAGE_SUBJECT, message, raise_captcha_exception=True)\n",
    "        if response[\"errors\"]:\n",
    "            logging.error(\"Error in response when sending a message to user %s: %s\" % (user, str(response)))\n",
    "        else:\n",
    "            logging.info(\"Message successfully sent to user %s\" % user)\n",
    "    except praw.errors.InvalidCaptcha as e:\n",
    "        logging.exception(\"Message sending requires a captcha\")\n",
    "        logging.error(e.response)\n",
    "    except Exception as e:\n",
    "        logging.exception(\"Failed to send message to %s\" % user)"
   ]
  },
  {
   "cell_type": "markdown",
   "metadata": {},
   "source": [
    "## Wrap the messenger function with anything survey-specific"
   ]
  },
  {
   "cell_type": "code",
   "execution_count": 2,
   "metadata": {},
   "outputs": [],
   "source": [
    "def send_survey_message(**message_data):\n",
    "    logging.info(\"first_comment_age: %s\" % message_data[\"first_comment_age\"])\n",
    "    logging.info(\"url: %s\" % message_data[\"url\"])\n",
    "    logging.info(\"get_info_data: %s\" % message_data[\"get_info_date\"])\n",
    "    logging.info(\"deleted: %s\" % message_data[\"deleted\"])\n",
    "    send_reddit_message(**message_data)"
   ]
  },
  {
   "cell_type": "markdown",
   "metadata": {},
   "source": [
    "## Send a message to each valid reddit user"
   ]
  },
  {
   "cell_type": "code",
   "execution_count": 3,
   "metadata": {},
   "outputs": [
    {
     "ename": "NameError",
     "evalue": "name 'logging' is not defined",
     "output_type": "error",
     "traceback": [
      "\u001b[0;31m---------------------------------------------------------------------------\u001b[0m",
      "\u001b[0;31mNameError\u001b[0m                                 Traceback (most recent call last)",
      "\u001b[0;32m<ipython-input-3-074143117355>\u001b[0m in \u001b[0;36m<module>\u001b[0;34m()\u001b[0m\n\u001b[1;32m      4\u001b[0m \u001b[0;34m\u001b[0m\u001b[0m\n\u001b[1;32m      5\u001b[0m \u001b[0;32mfor\u001b[0m \u001b[0musername\u001b[0m \u001b[0;32min\u001b[0m \u001b[0musers\u001b[0m\u001b[0;34m:\u001b[0m\u001b[0;34m\u001b[0m\u001b[0m\n\u001b[0;32m----> 6\u001b[0;31m     \u001b[0mlogging\u001b[0m\u001b[0;34m.\u001b[0m\u001b[0minfo\u001b[0m\u001b[0;34m(\u001b[0m\u001b[0;34m\"Attempting to a send a message to user %s\"\u001b[0m \u001b[0;34m%\u001b[0m \u001b[0musername\u001b[0m\u001b[0;34m)\u001b[0m\u001b[0;34m\u001b[0m\u001b[0m\n\u001b[0m\u001b[1;32m      7\u001b[0m     \u001b[0muser\u001b[0m \u001b[0;34m=\u001b[0m \u001b[0mget_reddit_user\u001b[0m\u001b[0;34m(\u001b[0m\u001b[0musername\u001b[0m\u001b[0;34m)\u001b[0m\u001b[0;34m\u001b[0m\u001b[0m\n\u001b[1;32m      8\u001b[0m     \u001b[0;32mif\u001b[0m \u001b[0muser\u001b[0m\u001b[0;34m:\u001b[0m\u001b[0;34m\u001b[0m\u001b[0m\n",
      "\u001b[0;31mNameError\u001b[0m: name 'logging' is not defined"
     ]
    }
   ],
   "source": [
    "#users = [\"this_user_does_not_exist\", \"epenn\", \"natematias\"]\n",
    "users = [\"this_user_does_not_exist\", \"natematias\"]\n",
    "\n",
    "\n",
    "for username in users:\n",
    "    logging.info(\"Attempting to a send a message to user %s\" % username)\n",
    "    user = get_reddit_user(username)\n",
    "    if user:\n",
    "        send_survey_message(\n",
    "            user = username,\n",
    "            first_comment_age = 100,\n",
    "            get_info_date = str(datetime.utcnow()),\n",
    "            deleted = False,\n",
    "            url = \"http://dummy.survey.url.com\")"
   ]
  },
  {
   "cell_type": "code",
   "execution_count": null,
   "metadata": {},
   "outputs": [],
   "source": []
  }
 ],
 "metadata": {
  "kernelspec": {
   "display_name": "Python 3",
   "language": "python",
   "name": "python3"
  },
  "language_info": {
   "codemirror_mode": {
    "name": "ipython",
    "version": 3
   },
   "file_extension": ".py",
   "mimetype": "text/x-python",
   "name": "python",
   "nbconvert_exporter": "python",
   "pygments_lexer": "ipython3",
   "version": "3.5.2"
  }
 },
 "nbformat": 4,
 "nbformat_minor": 2
}
