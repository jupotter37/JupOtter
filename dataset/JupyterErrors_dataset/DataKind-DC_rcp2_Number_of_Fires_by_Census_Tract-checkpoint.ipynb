{
 "cells": [
  {
   "cell_type": "code",
   "execution_count": 1,
   "metadata": {},
   "outputs": [],
   "source": [
    "# this code takes the NFIRS Dataset and outputs a count of fires by zipcode\n",
    "# requires NFIRS_2009_2016_geocoded_with_tract.csv to be in the main path "
   ]
  },
  {
   "cell_type": "code",
   "execution_count": 38,
   "metadata": {},
   "outputs": [],
   "source": [
    "import os\n",
    "import pandas as pd\n",
    "\n",
    "\n"
   ]
  },
  {
   "cell_type": "code",
   "execution_count": 39,
   "metadata": {},
   "outputs": [
    {
     "ename": "FileNotFoundError",
     "evalue": "[Errno 2] No such file or directory: '../Data/Raw'",
     "output_type": "error",
     "traceback": [
      "\u001b[0;31m---------------------------------------------------------------------------\u001b[0m",
      "\u001b[0;31mFileNotFoundError\u001b[0m                         Traceback (most recent call last)",
      "\u001b[0;32m<ipython-input-39-2f705907f0cc>\u001b[0m in \u001b[0;36m<module>\u001b[0;34m()\u001b[0m\n\u001b[1;32m      1\u001b[0m \u001b[0;31m# Change to your filepath to data and uncomment if NFIRS_2009_2016_geocoded_with_tract.csv not in the main path\u001b[0m\u001b[0;34m\u001b[0m\u001b[0;34m\u001b[0m\u001b[0m\n\u001b[0;32m----> 2\u001b[0;31m \u001b[0mos\u001b[0m\u001b[0;34m.\u001b[0m\u001b[0mchdir\u001b[0m\u001b[0;34m(\u001b[0m\u001b[0;34m'../Data/Raw'\u001b[0m\u001b[0;34m)\u001b[0m\u001b[0;34m\u001b[0m\u001b[0m\n\u001b[0m",
      "\u001b[0;31mFileNotFoundError\u001b[0m: [Errno 2] No such file or directory: '../Data/Raw'"
     ]
    }
   ],
   "source": [
    "# Change to your filepath to data and uncomment if NFIRS_2009_2016_geocoded_with_tract.csv not in the main path \n",
    "#os.chdir('../Data/Raw')"
   ]
  },
  {
   "cell_type": "code",
   "execution_count": 51,
   "metadata": {},
   "outputs": [],
   "source": [
    "NFIR = pd.read_csv('NFIRS_2009_2016_geocoded_with_tract.csv',\n",
    "                   encoding='latin_1',\n",
    "                   index_col=0,\n",
    "                   low_memory=False)"
   ]
  },
  {
   "cell_type": "code",
   "execution_count": 41,
   "metadata": {},
   "outputs": [
    {
     "data": {
      "text/html": [
       "<div>\n",
       "<style scoped>\n",
       "    .dataframe tbody tr th:only-of-type {\n",
       "        vertical-align: middle;\n",
       "    }\n",
       "\n",
       "    .dataframe tbody tr th {\n",
       "        vertical-align: top;\n",
       "    }\n",
       "\n",
       "    .dataframe thead th {\n",
       "        text-align: right;\n",
       "    }\n",
       "</style>\n",
       "<table border=\"1\" class=\"dataframe\">\n",
       "  <thead>\n",
       "    <tr style=\"text-align: right;\">\n",
       "      <th></th>\n",
       "      <th>ORIGINAL_ADDRESS</th>\n",
       "      <th>MATCH</th>\n",
       "      <th>MATCH_TYPE</th>\n",
       "      <th>MATCHED_ADDRESS</th>\n",
       "      <th>X</th>\n",
       "      <th>Y</th>\n",
       "      <th>TIGER_LINE_ID</th>\n",
       "      <th>TIGER_LINE_SIDE</th>\n",
       "      <th>STATE</th>\n",
       "      <th>state_fips</th>\n",
       "      <th>COUNTYFP</th>\n",
       "      <th>TRACTCE</th>\n",
       "      <th>GEOID</th>\n",
       "      <th>NAME</th>\n",
       "      <th>NAMELSAD</th>\n",
       "      <th>MTFCC</th>\n",
       "      <th>FUNCSTAT</th>\n",
       "    </tr>\n",
       "    <tr>\n",
       "      <th>ID</th>\n",
       "      <th></th>\n",
       "      <th></th>\n",
       "      <th></th>\n",
       "      <th></th>\n",
       "      <th></th>\n",
       "      <th></th>\n",
       "      <th></th>\n",
       "      <th></th>\n",
       "      <th></th>\n",
       "      <th></th>\n",
       "      <th></th>\n",
       "      <th></th>\n",
       "      <th></th>\n",
       "      <th></th>\n",
       "      <th></th>\n",
       "      <th></th>\n",
       "      <th></th>\n",
       "    </tr>\n",
       "  </thead>\n",
       "  <tbody>\n",
       "    <tr>\n",
       "      <th>rcp2_id1868</th>\n",
       "      <td>300 Navaho ST, Enterprise, AL, 36331</td>\n",
       "      <td>No_Match</td>\n",
       "      <td>NaN</td>\n",
       "      <td>NaN</td>\n",
       "      <td>NaN</td>\n",
       "      <td>NaN</td>\n",
       "      <td>NaN</td>\n",
       "      <td>NaN</td>\n",
       "      <td>AL</td>\n",
       "      <td>1.0</td>\n",
       "      <td>NaN</td>\n",
       "      <td>NaN</td>\n",
       "      <td>NaN</td>\n",
       "      <td>NaN</td>\n",
       "      <td>NaN</td>\n",
       "      <td>NaN</td>\n",
       "      <td>NaN</td>\n",
       "    </tr>\n",
       "    <tr>\n",
       "      <th>rcp2_id9390</th>\n",
       "      <td>253 BALD ROCK RD, BERRY_CRK, CA, 95934</td>\n",
       "      <td>No_Match</td>\n",
       "      <td>NaN</td>\n",
       "      <td>NaN</td>\n",
       "      <td>NaN</td>\n",
       "      <td>NaN</td>\n",
       "      <td>NaN</td>\n",
       "      <td>NaN</td>\n",
       "      <td>CA</td>\n",
       "      <td>6.0</td>\n",
       "      <td>NaN</td>\n",
       "      <td>NaN</td>\n",
       "      <td>NaN</td>\n",
       "      <td>NaN</td>\n",
       "      <td>NaN</td>\n",
       "      <td>NaN</td>\n",
       "      <td>NaN</td>\n",
       "    </tr>\n",
       "    <tr>\n",
       "      <th>rcp2_id1869</th>\n",
       "      <td>105 Yellowleaf DR, Enterprise, AL, 36331</td>\n",
       "      <td>Match</td>\n",
       "      <td>Non_Exact</td>\n",
       "      <td>105 YELLOWLEAF DR, ENTERPRISE, AL, 36330</td>\n",
       "      <td>-85.807050</td>\n",
       "      <td>31.328058</td>\n",
       "      <td>99550660.0</td>\n",
       "      <td>L</td>\n",
       "      <td>AL</td>\n",
       "      <td>1.0</td>\n",
       "      <td>31.0</td>\n",
       "      <td>11202.0</td>\n",
       "      <td>1.031011e+09</td>\n",
       "      <td>112.02</td>\n",
       "      <td>Census Tract 112.02</td>\n",
       "      <td>G5020</td>\n",
       "      <td>S</td>\n",
       "    </tr>\n",
       "    <tr>\n",
       "      <th>rcp2_id9391</th>\n",
       "      <td>464 SHELDON AVE, GRDLY, CA, 95956</td>\n",
       "      <td>Match</td>\n",
       "      <td>Non_Exact</td>\n",
       "      <td>464 SHELDON AVE, GRIDLEY, CA, 95948</td>\n",
       "      <td>-121.666460</td>\n",
       "      <td>39.350815</td>\n",
       "      <td>636052867.0</td>\n",
       "      <td>R</td>\n",
       "      <td>CA</td>\n",
       "      <td>6.0</td>\n",
       "      <td>7.0</td>\n",
       "      <td>3400.0</td>\n",
       "      <td>6.007003e+09</td>\n",
       "      <td>34.00</td>\n",
       "      <td>Census Tract 34</td>\n",
       "      <td>G5020</td>\n",
       "      <td>S</td>\n",
       "    </tr>\n",
       "    <tr>\n",
       "      <th>rcp2_id9392</th>\n",
       "      <td>11336 YANKEE HILL RD, CONCOW, CA, 95965</td>\n",
       "      <td>Match</td>\n",
       "      <td>Non_Exact</td>\n",
       "      <td>11336 YANKEE HILL RD, YANKEE HILL, CA, 95965</td>\n",
       "      <td>-121.520836</td>\n",
       "      <td>39.712353</td>\n",
       "      <td>68417518.0</td>\n",
       "      <td>R</td>\n",
       "      <td>CA</td>\n",
       "      <td>6.0</td>\n",
       "      <td>7.0</td>\n",
       "      <td>2400.0</td>\n",
       "      <td>6.007002e+09</td>\n",
       "      <td>24.00</td>\n",
       "      <td>Census Tract 24</td>\n",
       "      <td>G5020</td>\n",
       "      <td>S</td>\n",
       "    </tr>\n",
       "  </tbody>\n",
       "</table>\n",
       "</div>"
      ],
      "text/plain": [
       "                                     ORIGINAL_ADDRESS     MATCH MATCH_TYPE  \\\n",
       "ID                                                                           \n",
       "rcp2_id1868      300 Navaho ST, Enterprise, AL, 36331  No_Match        NaN   \n",
       "rcp2_id9390    253 BALD ROCK RD, BERRY_CRK, CA, 95934  No_Match        NaN   \n",
       "rcp2_id1869  105 Yellowleaf DR, Enterprise, AL, 36331     Match  Non_Exact   \n",
       "rcp2_id9391         464 SHELDON AVE, GRDLY, CA, 95956     Match  Non_Exact   \n",
       "rcp2_id9392   11336 YANKEE HILL RD, CONCOW, CA, 95965     Match  Non_Exact   \n",
       "\n",
       "                                          MATCHED_ADDRESS           X  \\\n",
       "ID                                                                      \n",
       "rcp2_id1868                                           NaN         NaN   \n",
       "rcp2_id9390                                           NaN         NaN   \n",
       "rcp2_id1869      105 YELLOWLEAF DR, ENTERPRISE, AL, 36330  -85.807050   \n",
       "rcp2_id9391           464 SHELDON AVE, GRIDLEY, CA, 95948 -121.666460   \n",
       "rcp2_id9392  11336 YANKEE HILL RD, YANKEE HILL, CA, 95965 -121.520836   \n",
       "\n",
       "                     Y  TIGER_LINE_ID TIGER_LINE_SIDE STATE  state_fips  \\\n",
       "ID                                                                        \n",
       "rcp2_id1868        NaN            NaN             NaN    AL         1.0   \n",
       "rcp2_id9390        NaN            NaN             NaN    CA         6.0   \n",
       "rcp2_id1869  31.328058     99550660.0               L    AL         1.0   \n",
       "rcp2_id9391  39.350815    636052867.0               R    CA         6.0   \n",
       "rcp2_id9392  39.712353     68417518.0               R    CA         6.0   \n",
       "\n",
       "             COUNTYFP  TRACTCE         GEOID    NAME             NAMELSAD  \\\n",
       "ID                                                                          \n",
       "rcp2_id1868       NaN      NaN           NaN     NaN                  NaN   \n",
       "rcp2_id9390       NaN      NaN           NaN     NaN                  NaN   \n",
       "rcp2_id1869      31.0  11202.0  1.031011e+09  112.02  Census Tract 112.02   \n",
       "rcp2_id9391       7.0   3400.0  6.007003e+09   34.00      Census Tract 34   \n",
       "rcp2_id9392       7.0   2400.0  6.007002e+09   24.00      Census Tract 24   \n",
       "\n",
       "             MTFCC FUNCSTAT  \n",
       "ID                           \n",
       "rcp2_id1868    NaN      NaN  \n",
       "rcp2_id9390    NaN      NaN  \n",
       "rcp2_id1869  G5020        S  \n",
       "rcp2_id9391  G5020        S  \n",
       "rcp2_id9392  G5020        S  "
      ]
     },
     "execution_count": 41,
     "metadata": {},
     "output_type": "execute_result"
    }
   ],
   "source": [
    "NFIR.head()"
   ]
  },
  {
   "cell_type": "code",
   "execution_count": 42,
   "metadata": {},
   "outputs": [
    {
     "data": {
      "text/plain": [
       "Index(['ORIGINAL_ADDRESS', 'MATCH', 'MATCH_TYPE', 'MATCHED_ADDRESS', 'X', 'Y',\n",
       "       'TIGER_LINE_ID', 'TIGER_LINE_SIDE', 'STATE', 'state_fips', 'COUNTYFP',\n",
       "       'TRACTCE', 'GEOID', 'NAME', 'NAMELSAD', 'MTFCC', 'FUNCSTAT'],\n",
       "      dtype='object')"
      ]
     },
     "execution_count": 42,
     "metadata": {},
     "output_type": "execute_result"
    }
   ],
   "source": [
    "NFIR.columns"
   ]
  },
  {
   "cell_type": "code",
   "execution_count": 55,
   "metadata": {},
   "outputs": [],
   "source": [
    "OUT =  NFIR.groupby(['STATE','COUNTYFP'] )['TRACTCE'].value_counts()"
   ]
  },
  {
   "cell_type": "code",
   "execution_count": 61,
   "metadata": {},
   "outputs": [],
   "source": [
    "OUT.name = 'COUNT'"
   ]
  },
  {
   "cell_type": "markdown",
   "metadata": {},
   "source": [
    "Output"
   ]
  },
  {
   "cell_type": "code",
   "execution_count": 64,
   "metadata": {},
   "outputs": [],
   "source": [
    "OUT.to_csv('Fires_by_Census_Tract.csv',header= True)"
   ]
  }
 ],
 "metadata": {
  "kernelspec": {
   "display_name": "Python 3",
   "language": "python",
   "name": "python3"
  },
  "language_info": {
   "codemirror_mode": {
    "name": "ipython",
    "version": 3
   },
   "file_extension": ".py",
   "mimetype": "text/x-python",
   "name": "python",
   "nbconvert_exporter": "python",
   "pygments_lexer": "ipython3",
   "version": "3.6.4"
  }
 },
 "nbformat": 4,
 "nbformat_minor": 2
}
