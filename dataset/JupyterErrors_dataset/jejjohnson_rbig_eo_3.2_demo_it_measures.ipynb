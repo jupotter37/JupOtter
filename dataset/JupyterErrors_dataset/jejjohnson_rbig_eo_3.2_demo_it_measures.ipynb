{
 "cells": [
  {
   "cell_type": "markdown",
   "metadata": {},
   "source": [
    "# Information Theory Measures\n",
    "\n",
    "In this notebook, I will be demonstrating some of the aspects of information theory measures."
   ]
  },
  {
   "cell_type": "markdown",
   "metadata": {},
   "source": [
    "## Data - Climate Models"
   ]
  },
  {
   "cell_type": "code",
   "execution_count": 1,
   "metadata": {},
   "outputs": [],
   "source": [
    "import os, sys\n",
    "cwd = os.getcwd()\n",
    "source_path = f\"{cwd}/../../../\"\n",
    "sys.path.insert(0, f'{source_path}')\n",
    "\n",
    "import numpy as np\n",
    "\n",
    "# Data Loaders\n",
    "from src.data.climate.amip import DataDownloader, DataLoader\n",
    "\n",
    "from src.data.climate.era5 import get_era5_data\n",
    "from src.data.climate.ncep import get_ncep_data\n",
    "from src.features.climate.build_features import (\n",
    "    get_time_overlap, check_time_coords, regrid_2_lower_res, get_spatial_cubes, normalize_data)\n",
    "\n",
    "from src.experiments.climate.amip_global import (\n",
    "    experiment_loop_comparative, \n",
    "    experiment_loop_individual\n",
    ")\n",
    "# Stat Tools\n",
    "from src.models.information.entropy import RBIGEstimator as RBIGENTEST\n",
    "from src.models.information.mutual_information import RBIGEstimator as RBIGMIEST\n",
    "\n",
    "from scipy import stats\n",
    "\n",
    "import pandas as pd\n",
    "import xarray as xr\n",
    "from tqdm import tqdm\n",
    "from sklearn import preprocessing\n",
    "\n",
    "import seaborn as sns\n",
    "import matplotlib.pyplot as plt\n",
    "plt.style.use('ggplot')\n",
    "%matplotlib inline\n",
    "\n",
    "%load_ext autoreload\n",
    "%autoreload 2"
   ]
  },
  {
   "cell_type": "code",
   "execution_count": 2,
   "metadata": {},
   "outputs": [],
   "source": [
    "amip_data_path = f\"/home/emmanuel/projects/2020_rbig_rs/data/climate/raw/amip/\"\n",
    "era5_path = f\"/home/emmanuel/projects/2020_rbig_rs/data/climate/raw/era5/\"\n",
    "ncep_path = f\"/home/emmanuel/projects/2020_rbig_rs/data/climate/raw/ncep/\"\n",
    "results_path = f\"/home/emmanuel/projects/2020_rbig_rs/data/climate/results/\"\n",
    "fig_path = f\"/home/emmanuel/projects/2020_rbig_rs/reports/figures/climate/\""
   ]
  },
  {
   "cell_type": "markdown",
   "metadata": {},
   "source": [
    "## Demo Experiment"
   ]
  },
  {
   "cell_type": "markdown",
   "metadata": {},
   "source": [
    "### Experimental Paams"
   ]
  },
  {
   "cell_type": "code",
   "execution_count": 3,
   "metadata": {},
   "outputs": [],
   "source": [
    "class DataArgs:\n",
    "    data_path = \"/home/emmanuel/projects/2020_rbig_rs/data/climate/raw/amip/\"\n",
    "    results_path = \"/home/emmanuel/projects/2020_rbig_rs/data/climate/results/amip\"\n",
    "\n",
    "class CMIPArgs:\n",
    "\n",
    "        \n",
    "    # Fixed Params\n",
    "    spatial_windows = [\n",
    "        1, 2,                # Spatial Window for Density Cubes\n",
    "        3,4,5,6,7,8,9,10\n",
    "    ]\n",
    "\n",
    "    # Free Params\n",
    "    variables = [\n",
    "        'psl'               # Mean Surface Pressure\n",
    "    ]\n",
    "    cmip_models = [\n",
    "        \"inmcm4\",\n",
    "        \"access1_0\",\n",
    "        \"bcc_csm1_1\",\n",
    "        \"bcc_csm1_1_m\",\n",
    "        \"bnu_esm\",\n",
    "        \"giss_e2_r\",\n",
    "        \"cnrm_cm5\",\n",
    "        \"ipsl_cm5a_lr\",\n",
    "        \"ipsl_cm5a_mr\",\n",
    "        \"ipsl_cm5b_lr\",\n",
    "        \"mpi_esm_lr\",\n",
    "        \"mpi_esm_mr\",\n",
    "        \"noresm1_m\",\n",
    "    ]\n",
    "    \n",
    "    base_models = [\n",
    "        'ncep',\n",
    "        \"era5\"\n",
    "    ]\n",
    "        "
   ]
  },
  {
   "cell_type": "markdown",
   "metadata": {},
   "source": [
    "### Part I - Grab Data"
   ]
  },
  {
   "cell_type": "code",
   "execution_count": 4,
   "metadata": {},
   "outputs": [],
   "source": [
    "from src.data.climate.amip import get_base_model\n",
    "\n",
    "base_dat = get_base_model(CMIPArgs.base_models[0], CMIPArgs.variables[0])\n",
    "# base_dat"
   ]
  },
  {
   "cell_type": "code",
   "execution_count": 5,
   "metadata": {},
   "outputs": [],
   "source": [
    "from src.data.climate.cmip5 import get_cmip5_model\n",
    "\n",
    "\n",
    "cmip_dat = get_cmip5_model(CMIPArgs.cmip_models[0], CMIPArgs.variables[0])\n",
    "# cmip_dat"
   ]
  },
  {
   "cell_type": "markdown",
   "metadata": {},
   "source": [
    "### Part II - Regrid Data"
   ]
  },
  {
   "cell_type": "code",
   "execution_count": 6,
   "metadata": {},
   "outputs": [
    {
     "name": "stdout",
     "output_type": "stream",
     "text": [
      "Create weight file: nearest_s2d_120x180_73x144.nc\n",
      "Remove file nearest_s2d_120x180_73x144.nc\n"
     ]
    }
   ],
   "source": [
    "base_dat, cmip_dat = regrid_2_lower_res(base_dat, cmip_dat)\n",
    "\n",
    "assert(base_dat.shape[1] == cmip_dat.shape[1])\n",
    "assert(base_dat.shape[2] == cmip_dat.shape[2])\n",
    "# base_dat"
   ]
  },
  {
   "cell_type": "markdown",
   "metadata": {},
   "source": [
    "### Part III - Find Overlapping Times"
   ]
  },
  {
   "cell_type": "code",
   "execution_count": 7,
   "metadata": {},
   "outputs": [
    {
     "data": {
      "text/plain": [
       "((489, 73, 144), (360, 73, 144))"
      ]
     },
     "execution_count": 7,
     "metadata": {},
     "output_type": "execute_result"
    }
   ],
   "source": [
    "base_dat.shape, cmip_dat.shape"
   ]
  },
  {
   "cell_type": "code",
   "execution_count": 8,
   "metadata": {},
   "outputs": [],
   "source": [
    "base_dat, cmip_dat = get_time_overlap(base_dat, cmip_dat)"
   ]
  },
  {
   "cell_type": "markdown",
   "metadata": {},
   "source": [
    "### Part IV - Get Density Cubes"
   ]
  },
  {
   "cell_type": "code",
   "execution_count": 9,
   "metadata": {},
   "outputs": [],
   "source": [
    "base_df = get_spatial_cubes(base_dat, CMIPArgs.spatial_windows[3])\n",
    "cmip_df = get_spatial_cubes(cmip_dat, CMIPArgs.spatial_windows[3])"
   ]
  },
  {
   "cell_type": "code",
   "execution_count": 10,
   "metadata": {},
   "outputs": [
    {
     "data": {
      "text/plain": [
       "(3543330, 16)"
      ]
     },
     "execution_count": 10,
     "metadata": {},
     "output_type": "execute_result"
    }
   ],
   "source": [
    "base_df.shape"
   ]
  },
  {
   "cell_type": "markdown",
   "metadata": {},
   "source": [
    "### Normalize"
   ]
  },
  {
   "cell_type": "code",
   "execution_count": 11,
   "metadata": {},
   "outputs": [],
   "source": [
    "base_df = normalize_data(base_df)\n",
    "cmip_df = normalize_data(cmip_df)"
   ]
  },
  {
   "cell_type": "markdown",
   "metadata": {},
   "source": [
    "## Information Theory Measures"
   ]
  },
  {
   "cell_type": "markdown",
   "metadata": {},
   "source": [
    "### Entropy, H($X$)"
   ]
  },
  {
   "cell_type": "code",
   "execution_count": 13,
   "metadata": {},
   "outputs": [
    {
     "data": {
      "text/plain": [
       "-33.116467738349236"
      ]
     },
     "execution_count": 13,
     "metadata": {},
     "output_type": "execute_result"
    }
   ],
   "source": [
    "subsample = 10_000\n",
    "batch_size = None\n",
    "bootstrap = False\n",
    "ent_est = RBIGENTEST(\n",
    "    batch_size=batch_size,\n",
    "    bootstrap=bootstrap,\n",
    ")\n",
    "\n",
    "ent_est.fit(base_df[:subsample])\n",
    "\n",
    "h = ent_est.score(base_df[:subsample])\n",
    "\n",
    "h"
   ]
  },
  {
   "cell_type": "markdown",
   "metadata": {},
   "source": [
    "#### with Bootstrap"
   ]
  },
  {
   "cell_type": "code",
   "execution_count": 19,
   "metadata": {},
   "outputs": [
    {
     "data": {
      "text/plain": [
       "-31.881844520814997"
      ]
     },
     "execution_count": 19,
     "metadata": {},
     "output_type": "execute_result"
    }
   ],
   "source": [
    "batch_size = 10_000\n",
    "bootstrap = True\n",
    "n_iterations = 100\n",
    "\n",
    "ent_est = RBIGENTEST(\n",
    "    batch_size=batch_size,\n",
    "    bootstrap=bootstrap,\n",
    "    n_iterations=n_iterations\n",
    ")\n",
    "\n",
    "ent_est.fit(base_df)\n",
    "\n",
    "h = ent_est.score(base_df)\n",
    "\n",
    "h"
   ]
  },
  {
   "cell_type": "code",
   "execution_count": null,
   "metadata": {},
   "outputs": [],
   "source": [
    "plt.hist(ent_est.raw_scores)"
   ]
  },
  {
   "cell_type": "code",
   "execution_count": 17,
   "metadata": {},
   "outputs": [
    {
     "data": {
      "text/plain": [
       "-28.48503649185888"
      ]
     },
     "execution_count": 17,
     "metadata": {},
     "output_type": "execute_result"
    }
   ],
   "source": []
  },
  {
   "cell_type": "code",
   "execution_count": 18,
   "metadata": {},
   "outputs": [
    {
     "data": {
      "text/plain": [
       "(array([ 1.,  0.,  1.,  0.,  9., 11., 26., 28., 14., 10.]),\n",
       " array([-30.9162801 , -30.56606644, -30.21585278, -29.86563913,\n",
       "        -29.51542547, -29.16521182, -28.81499816, -28.46478451,\n",
       "        -28.11457085, -27.76435719, -27.41414354]),\n",
       " <a list of 10 Patch objects>)"
      ]
     },
     "execution_count": 18,
     "metadata": {},
     "output_type": "execute_result"
    },
    {
     "data": {
      "image/png": "[encoded data removed]",
      "text/plain": [
       "<Figure size 432x288 with 1 Axes>"
      ]
     },
     "metadata": {
      "needs_background": "light"
     },
     "output_type": "display_data"
    }
   ],
   "source": [
    "plt.hist(ent_est.raw_scores)"
   ]
  },
  {
   "cell_type": "markdown",
   "metadata": {},
   "source": [
    "#### W. Batches"
   ]
  },
  {
   "cell_type": "code",
   "execution_count": 73,
   "metadata": {},
   "outputs": [
    {
     "data": {
      "text/plain": [
       "-31.84759524855099"
      ]
     },
     "execution_count": 73,
     "metadata": {},
     "output_type": "execute_result"
    }
   ],
   "source": [
    "subsample = 40_000\n",
    "\n",
    "ent_est = RBIGENTEST(batch_size=10_000)\n",
    "\n",
    "ent_est.fit(base_df[:subsample])\n",
    "\n",
    "h = ent_est.score(base_df[:subsample])\n",
    "\n",
    "h"
   ]
  },
  {
   "cell_type": "code",
   "execution_count": 74,
   "metadata": {},
   "outputs": [
    {
     "data": {
      "text/plain": [
       "[-32.17903374504498,\n",
       " -31.753140917432507,\n",
       " -31.67399995592763,\n",
       " -31.784206375798846]"
      ]
     },
     "execution_count": 74,
     "metadata": {},
     "output_type": "execute_result"
    }
   ],
   "source": [
    "ent_est.raw_scores"
   ]
  },
  {
   "cell_type": "markdown",
   "metadata": {},
   "source": [
    "### Total Correlation, TC($X$)"
   ]
  },
  {
   "cell_type": "code",
   "execution_count": 78,
   "metadata": {},
   "outputs": [
    {
     "data": {
      "text/plain": [
       "51.735384060195784"
      ]
     },
     "execution_count": 78,
     "metadata": {},
     "output_type": "execute_result"
    }
   ],
   "source": [
    "subsample = 40_000\n",
    "\n",
    "tc_est = RBIGMIEST(batch_size=None)\n",
    "\n",
    "tc_est.fit(base_df[:subsample])\n",
    "\n",
    "tc = tc_est.score(base_df[:subsample])\n",
    "\n",
    "tc"
   ]
  },
  {
   "cell_type": "markdown",
   "metadata": {},
   "source": [
    "#### w. Batches"
   ]
  },
  {
   "cell_type": "code",
   "execution_count": 79,
   "metadata": {},
   "outputs": [
    {
     "data": {
      "text/plain": [
       "50.6219155716329"
      ]
     },
     "execution_count": 79,
     "metadata": {},
     "output_type": "execute_result"
    }
   ],
   "source": [
    "subsample = 40_000\n",
    "\n",
    "tc_est = RBIGMIEST(batch_size=10_000)\n",
    "\n",
    "tc_est.fit(base_df[:subsample])\n",
    "\n",
    "tc = tc_est.score(base_df[:subsample])\n",
    "\n",
    "tc"
   ]
  },
  {
   "cell_type": "code",
   "execution_count": 80,
   "metadata": {},
   "outputs": [
    {
     "data": {
      "text/plain": [
       "[50.29844313632438, 51.03391865505402, 50.72933249988033, 50.425967995272856]"
      ]
     },
     "execution_count": 80,
     "metadata": {},
     "output_type": "execute_result"
    }
   ],
   "source": [
    "tc_est.raw_scores"
   ]
  },
  {
   "cell_type": "markdown",
   "metadata": {},
   "source": [
    "### Mutual Information, MI($X$)"
   ]
  },
  {
   "cell_type": "code",
   "execution_count": 81,
   "metadata": {},
   "outputs": [
    {
     "data": {
      "text/plain": [
       "1.2438747143982896"
      ]
     },
     "execution_count": 81,
     "metadata": {},
     "output_type": "execute_result"
    }
   ],
   "source": [
    "subsample = 100_000\n",
    "\n",
    "mi_est = RBIGMIEST(batch_size=None)\n",
    "\n",
    "mi_est.fit(\n",
    "    base_df[:subsample],\n",
    "    cmip_df[:subsample]\n",
    ")\n",
    "\n",
    "mi = mi_est.score(base_df[:subsample])\n",
    "\n",
    "mi"
   ]
  },
  {
   "cell_type": "markdown",
   "metadata": {},
   "source": [
    "#### w. Batches"
   ]
  },
  {
   "cell_type": "code",
   "execution_count": 83,
   "metadata": {},
   "outputs": [
    {
     "data": {
      "text/plain": [
       "1.215228412628969"
      ]
     },
     "execution_count": 83,
     "metadata": {},
     "output_type": "execute_result"
    }
   ],
   "source": [
    "subsample = 100_000\n",
    "\n",
    "mi_est = RBIGMIEST(batch_size=50_000)\n",
    "\n",
    "mi_est.fit(\n",
    "    base_df[:subsample],\n",
    "    cmip_df[:subsample]\n",
    ")\n",
    "\n",
    "mi = mi_est.score(base_df[:subsample])\n",
    "\n",
    "mi"
   ]
  },
  {
   "cell_type": "code",
   "execution_count": 84,
   "metadata": {},
   "outputs": [
    {
     "ename": "AttributeError",
     "evalue": "'RBIGEstimator' object has no attribute 'raw_values'",
     "output_type": "error",
     "traceback": [
      "\u001b[0;31m---------------------------------------------------------------------------\u001b[0m",
      "\u001b[0;31mAttributeError\u001b[0m                            Traceback (most recent call last)",
      "\u001b[0;32m<ipython-input-84-f0a0474b33b1>\u001b[0m in \u001b[0;36m<module>\u001b[0;34m\u001b[0m\n\u001b[0;32m----> 1\u001b[0;31m \u001b[0mmi_est\u001b[0m\u001b[0;34m.\u001b[0m\u001b[0mraw_values\u001b[0m\u001b[0;34m\u001b[0m\u001b[0;34m\u001b[0m\u001b[0m\n\u001b[0m",
      "\u001b[0;31mAttributeError\u001b[0m: 'RBIGEstimator' object has no attribute 'raw_values'"
     ]
    }
   ],
   "source": [
    "mi_est.raw_values"
   ]
  },
  {
   "cell_type": "markdown",
   "metadata": {},
   "source": [
    "### Mutual Information II, H(X) + H(Y) - H(X,Y)"
   ]
  },
  {
   "cell_type": "code",
   "execution_count": 57,
   "metadata": {},
   "outputs": [
    {
     "name": "stdout",
     "output_type": "stream",
     "text": [
      "H(X)\n",
      "H(Y)\n",
      "H(X,Y)\n"
     ]
    }
   ],
   "source": [
    "subsample = 100_000\n",
    "batch_size = 25_000\n",
    "\n",
    "# H(X)\n",
    "print('H(X)')\n",
    "x_ent_est = RBIGENTEST(batch_size=batch_size)\n",
    "\n",
    "x_ent_est.fit(base_df.values[:subsample])\n",
    "\n",
    "h_x = x_ent_est.score(base_df.values[:subsample])\n",
    "\n",
    "# H(Y)\n",
    "print('H(Y)')\n",
    "y_ent_est = RBIGENTEST(batch_size=batch_size)\n",
    "\n",
    "y_ent_est.fit(cmip_df.values[:subsample])\n",
    "\n",
    "h_y = y_ent_est.score(cmip_df.values[:subsample])\n",
    "\n",
    "# H(X,Y)\n",
    "print('H(X,Y)')\n",
    "xy_ent_est = RBIGENTEST(batch_size=50_000)\n",
    "\n",
    "xy_ent_est.fit(\n",
    "    np.hstack(\n",
    "        (\n",
    "            base_df.values[:subsample],\n",
    "            cmip_df.values[:subsample]\n",
    "        )\n",
    "    ),\n",
    "    \n",
    ")\n",
    "\n",
    "h_xy = xy_ent_est.score(base_df.values[:subsample])"
   ]
  },
  {
   "cell_type": "code",
   "execution_count": 55,
   "metadata": {},
   "outputs": [
    {
     "name": "stdout",
     "output_type": "stream",
     "text": [
      "H(X,Y)\n"
     ]
    },
    {
     "data": {
      "text/plain": [
       "165.23978712025018"
      ]
     },
     "execution_count": 55,
     "metadata": {},
     "output_type": "execute_result"
    }
   ],
   "source": [
    "# H(X,Y)\n",
    "print('H(X,Y)')\n",
    "xy_ent_est = RBIGENTEST(batch_size=50_000)\n",
    "\n",
    "xy_ent_est.fit(\n",
    "    np.hstack(\n",
    "        (\n",
    "            base_df.values[:subsample],\n",
    "            cmip_df.values[:subsample]\n",
    "        )\n",
    "    ),\n",
    "    \n",
    ")\n",
    "\n",
    "h_xy = xy_ent_est.score(base_df.values[:subsample])\n",
    "h_xy"
   ]
  },
  {
   "cell_type": "code",
   "execution_count": 58,
   "metadata": {},
   "outputs": [
    {
     "data": {
      "text/plain": [
       "(79.10616714936484, 87.19046271977632, 165.45410606367204, 0.8425238054691135)"
      ]
     },
     "execution_count": 58,
     "metadata": {},
     "output_type": "execute_result"
    }
   ],
   "source": [
    "h_x, h_y, h_xy, h_x + h_y - h_xy"
   ]
  },
  {
   "cell_type": "code",
   "execution_count": 52,
   "metadata": {},
   "outputs": [
    {
     "data": {
      "text/plain": [
       "0.4360788203771051"
      ]
     },
     "execution_count": 52,
     "metadata": {},
     "output_type": "execute_result"
    }
   ],
   "source": []
  },
  {
   "cell_type": "markdown",
   "metadata": {},
   "source": [
    "### Correlation: Pearson, Spearman, KendallTau"
   ]
  },
  {
   "cell_type": "code",
   "execution_count": null,
   "metadata": {},
   "outputs": [],
   "source": [
    "pear = stats.pearsonr(\n",
    "    base_df[:subsample].ravel(),\n",
    "    cmip_df[:subsample].ravel(),\n",
    ")\n",
    "\n",
    "spear = stats.spearmanr(\n",
    "    base_df[:subsample].ravel(),\n",
    "    cmip_df[:subsample].ravel(),\n",
    ")\n",
    "\n",
    "kend = stats.kendalltau(\n",
    "    base_df[:subsample].ravel(),\n",
    "    cmip_df[:subsample].ravel(),\n",
    ")\n",
    "\n",
    "pear[0], spear[0], kend[0]"
   ]
  },
  {
   "cell_type": "code",
   "execution_count": null,
   "metadata": {},
   "outputs": [],
   "source": []
  }
 ],
 "metadata": {
  "kernelspec": {
   "display_name": "Python [conda env:.conda-2019_rbig_ad]",
   "language": "python",
   "name": "conda-env-.conda-2019_rbig_ad-py"
  },
  "language_info": {
   "codemirror_mode": {
    "name": "ipython",
    "version": 3
   },
   "file_extension": ".py",
   "mimetype": "text/x-python",
   "name": "python",
   "nbconvert_exporter": "python",
   "pygments_lexer": "ipython3",
   "version": "3.6.9"
  }
 },
 "nbformat": 4,
 "nbformat_minor": 4
}
