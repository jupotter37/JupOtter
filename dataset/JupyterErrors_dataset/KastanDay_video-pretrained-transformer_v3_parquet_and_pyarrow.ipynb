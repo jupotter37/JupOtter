{
 "cells": [
  {
   "cell_type": "code",
   "execution_count": null,
   "metadata": {},
   "outputs": [],
   "source": [
    "import os \n",
    "import cv2\n",
    "import numpy as np\n",
    "import clip\n",
    "import torch\n",
    "from PIL import Image\n",
    "from tqdm import tqdm\n",
    "import pathlib\n",
    "from pathlib import Path\n",
    "import glob\n",
    "import argparse\n",
    "import json\n",
    "import jsonlines\n",
    "import json_numpy\n",
    "import pandas as pd\n",
    "import pyarrow as pa\n",
    "import time\n",
    "import fastparquet"
   ]
  },
  {
   "cell_type": "code",
   "execution_count": 61,
   "metadata": {},
   "outputs": [],
   "source": [
    "from dask.distributed import Client\n",
    "import os\n",
    "import dask\n",
    "import numpy as np\n",
    "import pandas as pd\n",
    "import xarray\n",
    "import zarr\n",
    "import numcodecs\n",
    "\n",
    "import dask.array as da\n",
    "import dask.dataframe as dd\n",
    "import zarr"
   ]
  },
  {
   "cell_type": "code",
   "execution_count": 33,
   "metadata": {},
   "outputs": [
    {
     "data": {
      "text/plain": [
       "[{'title': 'The Matrix',\n",
       "  'a': '{\"__numpy__\": \"AH/U+4h/AACA7Pn8iH8AAAB0chaJfwAA\", \"dtype\": \"|O\", \"shape\": [3]}'},\n",
       " {'title': 'The Matrix',\n",
       "  'a': '{\"__numpy__\": \"AH/U+4h/AACA7Pn8iH8AAAB0chaJfwAA\", \"dtype\": \"|O\", \"shape\": [3]}'}]"
      ]
     },
     "execution_count": 33,
     "metadata": {},
     "output_type": "execute_result"
    }
   ],
   "source": [
    "import json_numpy\n",
    "import numpy as np\n",
    "import jdata as jd\n",
    "dumped = {\n",
    "  'title': 'The Matrix',\n",
    "  'a': json_numpy.dumps(np.array([[1, 2, 3], [1,2], [1]], dtype=bytearray)),\n",
    "}\n",
    "\n",
    "# dumped={'str': 'test','num':1.2, 'list':[1.1,[2.1]], 'nan': float('nan'), 'np': np.arange(1,5,dtype=np.uint8)}\n",
    "# dumped=jd.encode(dumped, {'compression':'zlib','base64':1})\n",
    "\n",
    "dumped  = [dumped, dumped]\n",
    "dumped"
   ]
  },
  {
   "cell_type": "code",
   "execution_count": 48,
   "metadata": {},
   "outputs": [],
   "source": [
    "import dask.array as da\n",
    "import dask.dataframe as dd\n",
    "import zarr"
   ]
  },
  {
   "cell_type": "code",
   "execution_count": 49,
   "metadata": {},
   "outputs": [],
   "source": [
    "z1 = zarr.open('example.zarr', mode='w', shape=(10000, 10000),\n",
    "               chunks=(1000, 1000), dtype='i4')"
   ]
  },
  {
   "cell_type": "code",
   "execution_count": null,
   "metadata": {},
   "outputs": [],
   "source": [
    "# z = zarr.empty(4, dtype=object, object_codec=numcodecs.VLenArray(int))"
   ]
  },
  {
   "cell_type": "code",
   "execution_count": 59,
   "metadata": {},
   "outputs": [
    {
     "ename": "TypeError",
     "evalue": "can not serialize 'Array' object",
     "output_type": "error",
     "traceback": [
      "\u001b[0;31m---------------------------------------------------------------------------\u001b[0m",
      "\u001b[0;31mTypeError\u001b[0m                                 Traceback (most recent call last)",
      "Cell \u001b[0;32mIn [59], line 25\u001b[0m\n\u001b[1;32m      4\u001b[0m           \u001b[39m#  one_segment_output = {\u001b[39;00m\n\u001b[1;32m      5\u001b[0m           \u001b[39m#       \"video_stem\": str(Path(video_filepath).stem),\u001b[39;00m\n\u001b[1;32m      6\u001b[0m           \u001b[39m#       \"segment_id\": str(Path(video_filepath).stem) + f\"_{i}\",\u001b[39;00m\n\u001b[0;32m   (...)\u001b[0m\n\u001b[1;32m     20\u001b[0m           \u001b[39m#       # \"scene_graph_captions\": scene_graph_feature -- to be added in the subsequent step.\u001b[39;00m\n\u001b[1;32m     21\u001b[0m           \u001b[39m#   }\u001b[39;00m\n\u001b[1;32m     24\u001b[0m z \u001b[39m=\u001b[39m zarr\u001b[39m.\u001b[39mempty(\u001b[39m2\u001b[39m, dtype\u001b[39m=\u001b[39m\u001b[39mobject\u001b[39m, object_codec\u001b[39m=\u001b[39mnumcodecs\u001b[39m.\u001b[39mMsgPack())\n\u001b[0;32m---> 25\u001b[0m z[\u001b[39m0\u001b[39;49m] \u001b[39m=\u001b[39m zarr\u001b[39m.\u001b[39marray(a, chunks\u001b[39m=\u001b[39m\u001b[39mFalse\u001b[39;00m)\n\u001b[1;32m     26\u001b[0m z[\u001b[39m1\u001b[39m] \u001b[39m=\u001b[39m {\u001b[39m'\u001b[39m\u001b[39ma\u001b[39m\u001b[39m'\u001b[39m: \u001b[39m1\u001b[39m, \u001b[39m'\u001b[39m\u001b[39mb\u001b[39m\u001b[39m'\u001b[39m: \u001b[39m2.2\u001b[39m}\n\u001b[1;32m     27\u001b[0m \u001b[39mprint\u001b[39m(z)\n",
      "File \u001b[0;32m/scratch/bbki/kastanday/conda_envs/envs/v3_clip_preprocessing_yt1b/lib/python3.8/site-packages/zarr/core.py:1373\u001b[0m, in \u001b[0;36mArray.__setitem__\u001b[0;34m(self, selection, value)\u001b[0m\n\u001b[1;32m   1371\u001b[0m     \u001b[39mself\u001b[39m\u001b[39m.\u001b[39mvindex[selection] \u001b[39m=\u001b[39m value\n\u001b[1;32m   1372\u001b[0m \u001b[39melse\u001b[39;00m:\n\u001b[0;32m-> 1373\u001b[0m     \u001b[39mself\u001b[39;49m\u001b[39m.\u001b[39;49mset_basic_selection(pure_selection, value, fields\u001b[39m=\u001b[39;49mfields)\n",
      "File \u001b[0;32m/scratch/bbki/kastanday/conda_envs/envs/v3_clip_preprocessing_yt1b/lib/python3.8/site-packages/zarr/core.py:1468\u001b[0m, in \u001b[0;36mArray.set_basic_selection\u001b[0;34m(self, selection, value, fields)\u001b[0m\n\u001b[1;32m   1466\u001b[0m     \u001b[39mreturn\u001b[39;00m \u001b[39mself\u001b[39m\u001b[39m.\u001b[39m_set_basic_selection_zd(selection, value, fields\u001b[39m=\u001b[39mfields)\n\u001b[1;32m   1467\u001b[0m \u001b[39melse\u001b[39;00m:\n\u001b[0;32m-> 1468\u001b[0m     \u001b[39mreturn\u001b[39;00m \u001b[39mself\u001b[39;49m\u001b[39m.\u001b[39;49m_set_basic_selection_nd(selection, value, fields\u001b[39m=\u001b[39;49mfields)\n",
      "File \u001b[0;32m/scratch/bbki/kastanday/conda_envs/envs/v3_clip_preprocessing_yt1b/lib/python3.8/site-packages/zarr/core.py:1772\u001b[0m, in \u001b[0;36mArray._set_basic_selection_nd\u001b[0;34m(self, selection, value, fields)\u001b[0m\n\u001b[1;32m   1766\u001b[0m \u001b[39mdef\u001b[39;00m \u001b[39m_set_basic_selection_nd\u001b[39m(\u001b[39mself\u001b[39m, selection, value, fields\u001b[39m=\u001b[39m\u001b[39mNone\u001b[39;00m):\n\u001b[1;32m   1767\u001b[0m     \u001b[39m# implementation of __setitem__ for array with at least one dimension\u001b[39;00m\n\u001b[1;32m   1768\u001b[0m \n\u001b[1;32m   1769\u001b[0m     \u001b[39m# setup indexer\u001b[39;00m\n\u001b[1;32m   1770\u001b[0m     indexer \u001b[39m=\u001b[39m BasicIndexer(selection, \u001b[39mself\u001b[39m)\n\u001b[0;32m-> 1772\u001b[0m     \u001b[39mself\u001b[39;49m\u001b[39m.\u001b[39;49m_set_selection(indexer, value, fields\u001b[39m=\u001b[39;49mfields)\n",
      "File \u001b[0;32m/scratch/bbki/kastanday/conda_envs/envs/v3_clip_preprocessing_yt1b/lib/python3.8/site-packages/zarr/core.py:1824\u001b[0m, in \u001b[0;36mArray._set_selection\u001b[0;34m(self, indexer, value, fields)\u001b[0m\n\u001b[1;32m   1821\u001b[0m                 chunk_value \u001b[39m=\u001b[39m chunk_value[item]\n\u001b[1;32m   1823\u001b[0m         \u001b[39m# put data\u001b[39;00m\n\u001b[0;32m-> 1824\u001b[0m         \u001b[39mself\u001b[39;49m\u001b[39m.\u001b[39;49m_chunk_setitem(chunk_coords, chunk_selection, chunk_value, fields\u001b[39m=\u001b[39;49mfields)\n\u001b[1;32m   1825\u001b[0m \u001b[39melse\u001b[39;00m:\n\u001b[1;32m   1826\u001b[0m     lchunk_coords, lchunk_selection, lout_selection \u001b[39m=\u001b[39m \u001b[39mzip\u001b[39m(\u001b[39m*\u001b[39mindexer)\n",
      "File \u001b[0;32m/scratch/bbki/kastanday/conda_envs/envs/v3_clip_preprocessing_yt1b/lib/python3.8/site-packages/zarr/core.py:2089\u001b[0m, in \u001b[0;36mArray._chunk_setitem\u001b[0;34m(self, chunk_coords, chunk_selection, value, fields)\u001b[0m\n\u001b[1;32m   2086\u001b[0m     lock \u001b[39m=\u001b[39m \u001b[39mself\u001b[39m\u001b[39m.\u001b[39m_synchronizer[ckey]\n\u001b[1;32m   2088\u001b[0m \u001b[39mwith\u001b[39;00m lock:\n\u001b[0;32m-> 2089\u001b[0m     \u001b[39mself\u001b[39;49m\u001b[39m.\u001b[39;49m_chunk_setitem_nosync(chunk_coords, chunk_selection, value,\n\u001b[1;32m   2090\u001b[0m                                fields\u001b[39m=\u001b[39;49mfields)\n",
      "File \u001b[0;32m/scratch/bbki/kastanday/conda_envs/envs/v3_clip_preprocessing_yt1b/lib/python3.8/site-packages/zarr/core.py:2100\u001b[0m, in \u001b[0;36mArray._chunk_setitem_nosync\u001b[0;34m(self, chunk_coords, chunk_selection, value, fields)\u001b[0m\n\u001b[1;32m   2098\u001b[0m     \u001b[39mself\u001b[39m\u001b[39m.\u001b[39m_chunk_delitem(ckey)\n\u001b[1;32m   2099\u001b[0m \u001b[39melse\u001b[39;00m:\n\u001b[0;32m-> 2100\u001b[0m     \u001b[39mself\u001b[39m\u001b[39m.\u001b[39mchunk_store[ckey] \u001b[39m=\u001b[39m \u001b[39mself\u001b[39;49m\u001b[39m.\u001b[39;49m_encode_chunk(cdata)\n",
      "File \u001b[0;32m/scratch/bbki/kastanday/conda_envs/envs/v3_clip_preprocessing_yt1b/lib/python3.8/site-packages/zarr/core.py:2219\u001b[0m, in \u001b[0;36mArray._encode_chunk\u001b[0;34m(self, chunk)\u001b[0m\n\u001b[1;32m   2217\u001b[0m \u001b[39mif\u001b[39;00m \u001b[39mself\u001b[39m\u001b[39m.\u001b[39m_filters:\n\u001b[1;32m   2218\u001b[0m     \u001b[39mfor\u001b[39;00m f \u001b[39min\u001b[39;00m \u001b[39mself\u001b[39m\u001b[39m.\u001b[39m_filters:\n\u001b[0;32m-> 2219\u001b[0m         chunk \u001b[39m=\u001b[39m f\u001b[39m.\u001b[39;49mencode(chunk)\n\u001b[1;32m   2221\u001b[0m \u001b[39m# check object encoding\u001b[39;00m\n\u001b[1;32m   2222\u001b[0m \u001b[39mif\u001b[39;00m ensure_ndarray_like(chunk)\u001b[39m.\u001b[39mdtype \u001b[39m==\u001b[39m \u001b[39mobject\u001b[39m:\n",
      "File \u001b[0;32m/scratch/bbki/kastanday/conda_envs/envs/v3_clip_preprocessing_yt1b/lib/python3.8/site-packages/numcodecs/msgpacks.py:59\u001b[0m, in \u001b[0;36mMsgPack.encode\u001b[0;34m(self, buf)\u001b[0m\n\u001b[1;32m     57\u001b[0m items\u001b[39m.\u001b[39mappend(buf\u001b[39m.\u001b[39mdtype\u001b[39m.\u001b[39mstr)\n\u001b[1;32m     58\u001b[0m items\u001b[39m.\u001b[39mappend(buf\u001b[39m.\u001b[39mshape)\n\u001b[0;32m---> 59\u001b[0m \u001b[39mreturn\u001b[39;00m msgpack\u001b[39m.\u001b[39;49mpackb(items, use_bin_type\u001b[39m=\u001b[39;49m\u001b[39mself\u001b[39;49m\u001b[39m.\u001b[39;49muse_bin_type,\n\u001b[1;32m     60\u001b[0m                      use_single_float\u001b[39m=\u001b[39;49m\u001b[39mself\u001b[39;49m\u001b[39m.\u001b[39;49muse_single_float)\n",
      "File \u001b[0;32m/scratch/bbki/kastanday/conda_envs/envs/v3_clip_preprocessing_yt1b/lib/python3.8/site-packages/msgpack/__init__.py:38\u001b[0m, in \u001b[0;36mpackb\u001b[0;34m(o, **kwargs)\u001b[0m\n\u001b[1;32m     32\u001b[0m \u001b[39mdef\u001b[39;00m \u001b[39mpackb\u001b[39m(o, \u001b[39m*\u001b[39m\u001b[39m*\u001b[39mkwargs):\n\u001b[1;32m     33\u001b[0m     \u001b[39m\"\"\"\u001b[39;00m\n\u001b[1;32m     34\u001b[0m \u001b[39m    Pack object `o` and return packed bytes\u001b[39;00m\n\u001b[1;32m     35\u001b[0m \n\u001b[1;32m     36\u001b[0m \u001b[39m    See :class:`Packer` for options.\u001b[39;00m\n\u001b[1;32m     37\u001b[0m \u001b[39m    \"\"\"\u001b[39;00m\n\u001b[0;32m---> 38\u001b[0m     \u001b[39mreturn\u001b[39;00m Packer(\u001b[39m*\u001b[39;49m\u001b[39m*\u001b[39;49mkwargs)\u001b[39m.\u001b[39;49mpack(o)\n",
      "File \u001b[0;32mmsgpack/_packer.pyx:294\u001b[0m, in \u001b[0;36mmsgpack._cmsgpack.Packer.pack\u001b[0;34m()\u001b[0m\n",
      "File \u001b[0;32mmsgpack/_packer.pyx:300\u001b[0m, in \u001b[0;36mmsgpack._cmsgpack.Packer.pack\u001b[0;34m()\u001b[0m\n",
      "File \u001b[0;32mmsgpack/_packer.pyx:297\u001b[0m, in \u001b[0;36mmsgpack._cmsgpack.Packer.pack\u001b[0;34m()\u001b[0m\n",
      "File \u001b[0;32mmsgpack/_packer.pyx:264\u001b[0m, in \u001b[0;36mmsgpack._cmsgpack.Packer._pack\u001b[0;34m()\u001b[0m\n",
      "File \u001b[0;32mmsgpack/_packer.pyx:291\u001b[0m, in \u001b[0;36mmsgpack._cmsgpack.Packer._pack\u001b[0;34m()\u001b[0m\n",
      "\u001b[0;31mTypeError\u001b[0m: can not serialize 'Array' object"
     ]
    }
   ],
   "source": [
    "import numcodecs\n",
    "a = np.arange(224 * 224 * 3, dtype='i4').reshape(224, 224, 3)\n",
    "\n",
    "          #  one_segment_output = {\n",
    "          #       \"video_stem\": str(Path(video_filepath).stem),\n",
    "          #       \"segment_id\": str(Path(video_filepath).stem) + f\"_{i}\",\n",
    "          #       \"segment_index\": i,\n",
    "          #       \"total_segments\": len(whisper_segments),\n",
    "          #       \"segment_total_time\": whisper_segments[i]['end'] - whisper_segments[i]['start'],\n",
    "          #       \"captions\": whisper_segments[i]['caption'],\n",
    "          #       \"segment_start_time\": whisper_segments[i]['start'],\n",
    "          #       \"segment_end_time\": whisper_segments[i]['end'],\n",
    "          #       \"num_frames_per_segment\": self.num_frames,\n",
    "          #       \"frame_embeddings\": json_numpy.dumps(image_feature),\n",
    "          #       \"text_caption_embeddings\": json_numpy.dumps(caption_feature),\n",
    "          #       \"segment_frames\": json_numpy.dumps(segment_frame),\n",
    "          #       \"frame_embeddings_shape\": image_feature.shape,          # trying the FLATTEN technique!\n",
    "          #       \"text_caption_embeddings_shape\": caption_feature.shape,\n",
    "          #       \"segment_frames_shape\": segment_frame.shape,\n",
    "          #       # \"scene_graph_captions\": scene_graph_feature -- to be added in the subsequent step.\n",
    "          #   }\n",
    "\n",
    "\n",
    "z = zarr.empty(2, dtype=object, object_codec=numcodecs.MsgPack())\n",
    "z[0] = zarr.array(a, chunks=False)\n",
    "z[1] = {'a': 1, 'b': 2.2}\n",
    "print(z)\n",
    "\n",
    "\n",
    "dumped = {\n",
    "  'title': 'The Matrix',\n",
    "  'a': zarr.array(a, chunks=False),\n",
    "}\n",
    "final = zarr.array(dumped, chunks=False, dtype=object, object_codec=numcodecs.JSON())\n",
    "print(final)\n",
    "\n",
    "\n",
    "print(a.shape)\n",
    "c = zarr.array(a, chunks=False)\n",
    "# print(c.info)\n",
    "# f = zarr.array(a, chunks=False, order='F')\n",
    "# f.info"
   ]
  },
  {
   "cell_type": "code",
   "execution_count": 27,
   "metadata": {},
   "outputs": [
    {
     "ename": "TypeError",
     "evalue": "expected str, bytes or os.PathLike object, not _io.BufferedReader",
     "output_type": "error",
     "traceback": [
      "\u001b[0;31m---------------------------------------------------------------------------\u001b[0m",
      "\u001b[0;31mTypeError\u001b[0m                                 Traceback (most recent call last)",
      "Cell \u001b[0;32mIn [27], line 4\u001b[0m\n\u001b[1;32m      1\u001b[0m jd\u001b[39m.\u001b[39msave(dumped,\u001b[39m'\u001b[39m\u001b[39mtest.json\u001b[39m\u001b[39m'\u001b[39m)\n\u001b[1;32m      3\u001b[0m \u001b[39mwith\u001b[39;00m \u001b[39mopen\u001b[39m(\u001b[39m'\u001b[39m\u001b[39mtest.json\u001b[39m\u001b[39m'\u001b[39m,\u001b[39m'\u001b[39m\u001b[39mrb\u001b[39m\u001b[39m'\u001b[39m) \u001b[39mas\u001b[39;00m f:\n\u001b[0;32m----> 4\u001b[0m     data \u001b[39m=\u001b[39m jd\u001b[39m.\u001b[39;49mload(f)\n\u001b[1;32m      5\u001b[0m     \u001b[39mprint\u001b[39m(data)\n\u001b[1;32m      7\u001b[0m \u001b[39m# jd.append(dumped,'test.json')\u001b[39;00m\n",
      "File \u001b[0;32m/scratch/bbki/kastanday/conda_envs/envs/v3_clip_preprocessing_yt1b/lib/python3.8/site-packages/jdata/jfile.py:38\u001b[0m, in \u001b[0;36mload\u001b[0;34m(fname, opt, **kwargs)\u001b[0m\n\u001b[1;32m     32\u001b[0m \u001b[39mdef\u001b[39;00m \u001b[39mload\u001b[39m(fname, opt\u001b[39m=\u001b[39m{}, \u001b[39m*\u001b[39m\u001b[39m*\u001b[39mkwargs):\n\u001b[1;32m     33\u001b[0m     \u001b[39m\"\"\"@brief Loading a JData file (binary or text) according to the file extension\u001b[39;00m\n\u001b[1;32m     34\u001b[0m \n\u001b[1;32m     35\u001b[0m \u001b[39m    @param[in] fname: a JData file name (accept .json,.jdat,.jbat,.jnii,.bnii,.jmsh,.bmsh)\u001b[39;00m\n\u001b[1;32m     36\u001b[0m \u001b[39m    @param[in] opt: options, if opt['decode']=True or 1 (default), call jdata.decode() after loading\u001b[39;00m\n\u001b[1;32m     37\u001b[0m \u001b[39m    \"\"\"\u001b[39;00m\n\u001b[0;32m---> 38\u001b[0m     spl \u001b[39m=\u001b[39m os\u001b[39m.\u001b[39;49mpath\u001b[39m.\u001b[39;49msplitext(fname)\n\u001b[1;32m     39\u001b[0m     ext \u001b[39m=\u001b[39m spl[\u001b[39m1\u001b[39m]\u001b[39m.\u001b[39mlower()\n\u001b[1;32m     41\u001b[0m     \u001b[39mif\u001b[39;00m ext \u001b[39min\u001b[39;00m jext[\u001b[39m\"\u001b[39m\u001b[39mt\u001b[39m\u001b[39m\"\u001b[39m]:\n",
      "File \u001b[0;32m/scratch/bbki/kastanday/conda_envs/envs/v3_clip_preprocessing_yt1b/lib/python3.8/posixpath.py:118\u001b[0m, in \u001b[0;36msplitext\u001b[0;34m(p)\u001b[0m\n\u001b[1;32m    117\u001b[0m \u001b[39mdef\u001b[39;00m \u001b[39msplitext\u001b[39m(p):\n\u001b[0;32m--> 118\u001b[0m     p \u001b[39m=\u001b[39m os\u001b[39m.\u001b[39;49mfspath(p)\n\u001b[1;32m    119\u001b[0m     \u001b[39mif\u001b[39;00m \u001b[39misinstance\u001b[39m(p, \u001b[39mbytes\u001b[39m):\n\u001b[1;32m    120\u001b[0m         sep \u001b[39m=\u001b[39m \u001b[39mb\u001b[39m\u001b[39m'\u001b[39m\u001b[39m/\u001b[39m\u001b[39m'\u001b[39m\n",
      "\u001b[0;31mTypeError\u001b[0m: expected str, bytes or os.PathLike object, not _io.BufferedReader"
     ]
    }
   ],
   "source": [
    "# jd.save(dumped,'test.json')\n",
    "\n",
    "# with open('test.json','rb') as f:\n",
    "#     data = jd.load(f)\n",
    "#     print(data)\n",
    "\n",
    "# # jd.append(dumped,'test.json')"
   ]
  },
  {
   "cell_type": "code",
   "execution_count": 34,
   "metadata": {},
   "outputs": [],
   "source": [
    "import jsonlines\n",
    "with jsonlines.open('lil_local.jsonl', mode='a') as writer:\n",
    "  writer.write_all(dumped)"
   ]
  },
  {
   "cell_type": "code",
   "execution_count": 44,
   "metadata": {},
   "outputs": [
    {
     "name": "stdout",
     "output_type": "stream",
     "text": [
      "{'title': 'The Matrix', 'a': '{\"__numpy__\": \"AH/U+4h/AACA7Pn8iH8AAAB0chaJfwAA\", \"dtype\": \"|O\", \"shape\": [3]}'}\n"
     ]
    },
    {
     "ename": "ValueError",
     "evalue": "cannot create an OBJECT array from memory buffer",
     "output_type": "error",
     "traceback": [
      "\u001b[0;31m---------------------------------------------------------------------------\u001b[0m",
      "\u001b[0;31mValueError\u001b[0m                                Traceback (most recent call last)",
      "Cell \u001b[0;32mIn [44], line 11\u001b[0m\n\u001b[1;32m      9\u001b[0m \u001b[39mprint\u001b[39m(obj)\n\u001b[1;32m     10\u001b[0m \u001b[39m# frame = json_numpy.load(obj['a'])\u001b[39;00m\n\u001b[0;32m---> 11\u001b[0m frame \u001b[39m=\u001b[39m json_numpy\u001b[39m.\u001b[39;49mloads(\u001b[39mbytearray\u001b[39;49m(obj[\u001b[39m'\u001b[39;49m\u001b[39ma\u001b[39;49m\u001b[39m'\u001b[39;49m], \u001b[39m'\u001b[39;49m\u001b[39mutf-8\u001b[39;49m\u001b[39m'\u001b[39;49m))\n\u001b[1;32m     12\u001b[0m \u001b[39mprint\u001b[39m(frame)\n\u001b[1;32m     13\u001b[0m \u001b[39m# print(json_objs)\u001b[39;00m\n\u001b[1;32m     14\u001b[0m \u001b[39m# print(json_objs['a'])\u001b[39;00m\n\u001b[1;32m     15\u001b[0m \u001b[39m# print(obj)\u001b[39;00m\n\u001b[1;32m     16\u001b[0m \n\u001b[1;32m     17\u001b[0m \u001b[39m# print(json_numpy.loads(json_objs['a']))\u001b[39;00m\n",
      "File \u001b[0;32m/scratch/bbki/kastanday/conda_envs/envs/v3_clip_preprocessing_yt1b/lib/python3.8/site-packages/json_numpy.py:39\u001b[0m, in \u001b[0;36mloads\u001b[0;34m(*args, **kwargs)\u001b[0m\n\u001b[1;32m     37\u001b[0m \u001b[39mdef\u001b[39;00m \u001b[39mloads\u001b[39m(\u001b[39m*\u001b[39margs, \u001b[39m*\u001b[39m\u001b[39m*\u001b[39mkwargs):\n\u001b[1;32m     38\u001b[0m     kwargs\u001b[39m.\u001b[39msetdefault(\u001b[39m'\u001b[39m\u001b[39mobject_hook\u001b[39m\u001b[39m'\u001b[39m, object_hook)\n\u001b[0;32m---> 39\u001b[0m     \u001b[39mreturn\u001b[39;00m _loads(\u001b[39m*\u001b[39;49margs, \u001b[39m*\u001b[39;49m\u001b[39m*\u001b[39;49mkwargs)\n",
      "File \u001b[0;32m/scratch/bbki/kastanday/conda_envs/envs/v3_clip_preprocessing_yt1b/lib/python3.8/json/__init__.py:370\u001b[0m, in \u001b[0;36mloads\u001b[0;34m(s, cls, object_hook, parse_float, parse_int, parse_constant, object_pairs_hook, **kw)\u001b[0m\n\u001b[1;32m    368\u001b[0m \u001b[39mif\u001b[39;00m parse_constant \u001b[39mis\u001b[39;00m \u001b[39mnot\u001b[39;00m \u001b[39mNone\u001b[39;00m:\n\u001b[1;32m    369\u001b[0m     kw[\u001b[39m'\u001b[39m\u001b[39mparse_constant\u001b[39m\u001b[39m'\u001b[39m] \u001b[39m=\u001b[39m parse_constant\n\u001b[0;32m--> 370\u001b[0m \u001b[39mreturn\u001b[39;00m \u001b[39mcls\u001b[39;49m(\u001b[39m*\u001b[39;49m\u001b[39m*\u001b[39;49mkw)\u001b[39m.\u001b[39;49mdecode(s)\n",
      "File \u001b[0;32m/scratch/bbki/kastanday/conda_envs/envs/v3_clip_preprocessing_yt1b/lib/python3.8/json/decoder.py:337\u001b[0m, in \u001b[0;36mJSONDecoder.decode\u001b[0;34m(self, s, _w)\u001b[0m\n\u001b[1;32m    332\u001b[0m \u001b[39mdef\u001b[39;00m \u001b[39mdecode\u001b[39m(\u001b[39mself\u001b[39m, s, _w\u001b[39m=\u001b[39mWHITESPACE\u001b[39m.\u001b[39mmatch):\n\u001b[1;32m    333\u001b[0m     \u001b[39m\"\"\"Return the Python representation of ``s`` (a ``str`` instance\u001b[39;00m\n\u001b[1;32m    334\u001b[0m \u001b[39m    containing a JSON document).\u001b[39;00m\n\u001b[1;32m    335\u001b[0m \n\u001b[1;32m    336\u001b[0m \u001b[39m    \"\"\"\u001b[39;00m\n\u001b[0;32m--> 337\u001b[0m     obj, end \u001b[39m=\u001b[39m \u001b[39mself\u001b[39;49m\u001b[39m.\u001b[39;49mraw_decode(s, idx\u001b[39m=\u001b[39;49m_w(s, \u001b[39m0\u001b[39;49m)\u001b[39m.\u001b[39;49mend())\n\u001b[1;32m    338\u001b[0m     end \u001b[39m=\u001b[39m _w(s, end)\u001b[39m.\u001b[39mend()\n\u001b[1;32m    339\u001b[0m     \u001b[39mif\u001b[39;00m end \u001b[39m!=\u001b[39m \u001b[39mlen\u001b[39m(s):\n",
      "File \u001b[0;32m/scratch/bbki/kastanday/conda_envs/envs/v3_clip_preprocessing_yt1b/lib/python3.8/json/decoder.py:353\u001b[0m, in \u001b[0;36mJSONDecoder.raw_decode\u001b[0;34m(self, s, idx)\u001b[0m\n\u001b[1;32m    344\u001b[0m \u001b[39m\"\"\"Decode a JSON document from ``s`` (a ``str`` beginning with\u001b[39;00m\n\u001b[1;32m    345\u001b[0m \u001b[39ma JSON document) and return a 2-tuple of the Python\u001b[39;00m\n\u001b[1;32m    346\u001b[0m \u001b[39mrepresentation and the index in ``s`` where the document ended.\u001b[39;00m\n\u001b[0;32m   (...)\u001b[0m\n\u001b[1;32m    350\u001b[0m \n\u001b[1;32m    351\u001b[0m \u001b[39m\"\"\"\u001b[39;00m\n\u001b[1;32m    352\u001b[0m \u001b[39mtry\u001b[39;00m:\n\u001b[0;32m--> 353\u001b[0m     obj, end \u001b[39m=\u001b[39m \u001b[39mself\u001b[39;49m\u001b[39m.\u001b[39;49mscan_once(s, idx)\n\u001b[1;32m    354\u001b[0m \u001b[39mexcept\u001b[39;00m \u001b[39mStopIteration\u001b[39;00m \u001b[39mas\u001b[39;00m err:\n\u001b[1;32m    355\u001b[0m     \u001b[39mraise\u001b[39;00m JSONDecodeError(\u001b[39m\"\u001b[39m\u001b[39mExpecting value\u001b[39m\u001b[39m\"\u001b[39m, s, err\u001b[39m.\u001b[39mvalue) \u001b[39mfrom\u001b[39;00m \u001b[39mNone\u001b[39m\n",
      "File \u001b[0;32m/scratch/bbki/kastanday/conda_envs/envs/v3_clip_preprocessing_yt1b/lib/python3.8/site-packages/json_numpy.py:20\u001b[0m, in \u001b[0;36mobject_hook\u001b[0;34m(dct)\u001b[0m\n\u001b[1;32m     18\u001b[0m \u001b[39mdef\u001b[39;00m \u001b[39mobject_hook\u001b[39m(dct):\n\u001b[1;32m     19\u001b[0m     \u001b[39mif\u001b[39;00m \u001b[39m'\u001b[39m\u001b[39m__numpy__\u001b[39m\u001b[39m'\u001b[39m \u001b[39min\u001b[39;00m dct:\n\u001b[0;32m---> 20\u001b[0m         np_obj \u001b[39m=\u001b[39m np\u001b[39m.\u001b[39;49mfrombuffer(b64decode(dct[\u001b[39m'\u001b[39;49m\u001b[39m__numpy__\u001b[39;49m\u001b[39m'\u001b[39;49m]), descr_to_dtype(dct[\u001b[39m'\u001b[39;49m\u001b[39mdtype\u001b[39;49m\u001b[39m'\u001b[39;49m]))\n\u001b[1;32m     21\u001b[0m         shape \u001b[39m=\u001b[39m dct[\u001b[39m'\u001b[39m\u001b[39mshape\u001b[39m\u001b[39m'\u001b[39m]\n\u001b[1;32m     22\u001b[0m         \u001b[39mreturn\u001b[39;00m np_obj\u001b[39m.\u001b[39mreshape(shape) \u001b[39mif\u001b[39;00m shape \u001b[39melse\u001b[39;00m np_obj[\u001b[39m0\u001b[39m]  \u001b[39m# Scalar test\u001b[39;00m\n",
      "\u001b[0;31mValueError\u001b[0m: cannot create an OBJECT array from memory buffer"
     ]
    }
   ],
   "source": [
    "# import json\n",
    "import json_numpy\n",
    "import numpy as np\n",
    "import jsonlines\n",
    "with jsonlines.open('lil_local.jsonl', mode='r') as reader:\n",
    "  for _, obj in enumerate(reader):\n",
    "    # json_objs = json.loads(obj)\n",
    "    # print(str(json_objs['a']))\n",
    "    print(obj)\n",
    "    # frame = json_numpy.load(obj['a'])\n",
    "    frame = json_numpy.loads(bytearray(obj['a'], 'utf-8'))\n",
    "    print(frame)\n",
    "    # print(json_objs)\n",
    "    # print(json_objs['a'])\n",
    "    # print(obj)\n",
    "    \n",
    "    # print(json_numpy.loads(json_objs['a']))"
   ]
  },
  {
   "cell_type": "code",
   "execution_count": 5,
   "metadata": {},
   "outputs": [],
   "source": [
    "import jsonlines\n",
    "with jsonlines.open('lil_test_json_numpy.jsonl', mode='a') as writer:\n",
    "  writer.write(dumped)\n",
    "  \n",
    "#WORKS!!!! YAY"
   ]
  },
  {
   "attachments": {},
   "cell_type": "markdown",
   "metadata": {},
   "source": [
    "# jdata"
   ]
  },
  {
   "cell_type": "code",
   "execution_count": 10,
   "metadata": {},
   "outputs": [
    {
     "name": "stdout",
     "output_type": "stream",
     "text": [
      "Collecting jdata\n",
      "  Downloading jdata-0.5.2-py2.py3-none-any.whl (14 kB)\n",
      "Requirement already satisfied: numpy>=1.8.0 in /scratch/bbki/kastanday/conda_envs/envs/v3_clip_preprocessing_yt1b/lib/python3.8/site-packages (from jdata) (1.23.4)\n",
      "Installing collected packages: jdata\n",
      "Successfully installed jdata-0.5.2\n",
      "\u001b[0m"
     ]
    }
   ],
   "source": [
    "!pip install jdata"
   ]
  },
  {
   "cell_type": "code",
   "execution_count": 12,
   "metadata": {},
   "outputs": [
    {
     "name": "stdout",
     "output_type": "stream",
     "text": [
      "{'str': 'test', 'num': 1.2, 'list': [1.1, [2.1]], 'nan': '_NaN_', 'np': {'_ArrayType_': 'uint8', '_ArraySize_': [4], '_ArrayZipType_': 'zlib', '_ArrayZipSize_': [1, 4], '_ArrayZipData_': b'eJxjZGJmAQAAGAAL'}}\n"
     ]
    },
    {
     "data": {
      "text/plain": [
       "{'str': 'test',\n",
       " 'num': 1.2,\n",
       " 'list': [1.1, [2.1]],\n",
       " 'nan': nan,\n",
       " 'np': array([1, 2, 3, 4], dtype=uint8)}"
      ]
     },
     "execution_count": 12,
     "metadata": {},
     "output_type": "execute_result"
    }
   ],
   "source": [
    "import jdata as jd\n",
    "import numpy as np\n",
    "\n",
    "# jd.encode(a)\n",
    "# jd.decode(jd.encode(a))\n",
    "a={'str': 'test','num':1.2, 'list':[1.1,[2.1]], 'nan': float('nan'), 'np': np.arange(1,5,dtype=np.uint8)}\n",
    "d1=jd.encode(a, {'compression':'zlib','base64':1})\n",
    "print(d1)\n",
    "jd.decode(d1,{'base64':1})"
   ]
  },
  {
   "attachments": {},
   "cell_type": "markdown",
   "metadata": {},
   "source": [
    "# new"
   ]
  },
  {
   "cell_type": "code",
   "execution_count": null,
   "metadata": {},
   "outputs": [],
   "source": [
    "\n",
    "# read pandas\n",
    "df = pd.read_pickle('/scratch/bbki/kastanday/whisper/old.pickle')\n",
    "df\n",
    "\n",
    "del df['frame_embeddings']\n",
    "del df['text_caption_embeddings']\n",
    "del df['segment_frames']\n",
    "df"
   ]
  },
  {
   "cell_type": "code",
   "execution_count": null,
   "metadata": {},
   "outputs": [],
   "source": [
    "# write panda to parquet\n",
    "fastparquet.write('shouldntworkbutmight.parquet', df)"
   ]
  },
  {
   "cell_type": "code",
   "execution_count": null,
   "metadata": {},
   "outputs": [],
   "source": [
    "# read parquet\n",
    "parss = \"shouldntworkbutmight.parquet\"\n",
    "clip_outputs =  fastparquet.ParquetFile(parss).to_pandas()\n",
    "clip_outputs"
   ]
  },
  {
   "cell_type": "code",
   "execution_count": null,
   "metadata": {},
   "outputs": [],
   "source": [
    "import fastparquet\n",
    "parss = \"/scratch/bbki/kastanday/whisper/parallel_14_clip_output.parquet\"\n",
    "clip_outputs =  fastparquet.ParquetFile(parss).to_pandas()\n",
    "clip_outputs"
   ]
  },
  {
   "cell_type": "code",
   "execution_count": null,
   "metadata": {},
   "outputs": [],
   "source": []
  },
  {
   "cell_type": "code",
   "execution_count": null,
   "metadata": {},
   "outputs": [],
   "source": [
    "def list_to_dict(lst):\n",
    "  {k: v for v, k in enumerate(lst)}"
   ]
  },
  {
   "cell_type": "code",
   "execution_count": null,
   "metadata": {},
   "outputs": [],
   "source": [
    "data = np.array([[1,2,3,], [21,22,23]])\n",
    "\n",
    "arr = pa.array(data)\n",
    "arr"
   ]
  },
  {
   "cell_type": "code",
   "execution_count": 67,
   "metadata": {},
   "outputs": [],
   "source": [
    "image_feature = np.array([[1,2,3,], [21,22,23]])\n",
    "embeds = np.arange(224 * 224 * 3, dtype='i4').reshape(224, 224, 3)\n",
    "\n",
    "# print(dict(enumerate(image_feature)))\n",
    "one_segment_output = pd.DataFrame({\n",
    "  \"video_id\": \"id1\",\n",
    "  \"frame_embeddings\": image_feature.tobytes(),\n",
    "  \"frame_embeddings_TWOOOO\": embeds.tobytes(),\n",
    "}, index=[0])\n",
    "two_segment_output = pd.DataFrame({\n",
    "  \"video_id\": \"id2\",\n",
    "  \"frame_embeddings\": image_feature.tobytes(),\n",
    "  \"frame_embeddings_TWOOOO\": embeds.tobytes(),\n",
    "}, index=[0])\n",
    "# one_segment_output"
   ]
  },
  {
   "cell_type": "code",
   "execution_count": 68,
   "metadata": {},
   "outputs": [
    {
     "data": {
      "text/html": [
       "<div>\n",
       "<style scoped>\n",
       "    .dataframe tbody tr th:only-of-type {\n",
       "        vertical-align: middle;\n",
       "    }\n",
       "\n",
       "    .dataframe tbody tr th {\n",
       "        vertical-align: top;\n",
       "    }\n",
       "\n",
       "    .dataframe thead th {\n",
       "        text-align: right;\n",
       "    }\n",
       "</style>\n",
       "<table border=\"1\" class=\"dataframe\">\n",
       "  <thead>\n",
       "    <tr style=\"text-align: right;\">\n",
       "      <th></th>\n",
       "      <th>video_id</th>\n",
       "      <th>frame_embeddings</th>\n",
       "      <th>frame_embeddings_TWOOOO</th>\n",
       "    </tr>\n",
       "  </thead>\n",
       "  <tbody>\n",
       "    <tr>\n",
       "      <th>0</th>\n",
       "      <td>id1</td>\n",
       "      <td>b'\\x01\\x00\\x00\\x00\\x00\\x00\\x00\\x00\\x02\\x00\\x00...</td>\n",
       "      <td>b'\\x00\\x00\\x00\\x00\\x01\\x00\\x00\\x00\\x02\\x00\\x00...</td>\n",
       "    </tr>\n",
       "    <tr>\n",
       "      <th>1</th>\n",
       "      <td>id2</td>\n",
       "      <td>b'\\x01\\x00\\x00\\x00\\x00\\x00\\x00\\x00\\x02\\x00\\x00...</td>\n",
       "      <td>b'\\x00\\x00\\x00\\x00\\x01\\x00\\x00\\x00\\x02\\x00\\x00...</td>\n",
       "    </tr>\n",
       "  </tbody>\n",
       "</table>\n",
       "</div>"
      ],
      "text/plain": [
       "  video_id                                   frame_embeddings  \\\n",
       "0      id1  b'\\x01\\x00\\x00\\x00\\x00\\x00\\x00\\x00\\x02\\x00\\x00...   \n",
       "1      id2  b'\\x01\\x00\\x00\\x00\\x00\\x00\\x00\\x00\\x02\\x00\\x00...   \n",
       "\n",
       "                             frame_embeddings_TWOOOO  \n",
       "0  b'\\x00\\x00\\x00\\x00\\x01\\x00\\x00\\x00\\x02\\x00\\x00...  \n",
       "1  b'\\x00\\x00\\x00\\x00\\x01\\x00\\x00\\x00\\x02\\x00\\x00...  "
      ]
     },
     "execution_count": 68,
     "metadata": {},
     "output_type": "execute_result"
    }
   ],
   "source": [
    "list_of_segment_outputs = [one_segment_output, two_segment_output]\n",
    "\n",
    "segments_of_entire_video = pd.concat(list_of_segment_outputs, ignore_index=True)\n",
    "segments_of_entire_video"
   ]
  },
  {
   "cell_type": "code",
   "execution_count": null,
   "metadata": {},
   "outputs": [],
   "source": [
    "import fastparquet\n",
    "fastparquet.write('test_pandas.parquet', segments_of_entire_video)"
   ]
  },
  {
   "cell_type": "code",
   "execution_count": null,
   "metadata": {},
   "outputs": [],
   "source": [
    "import fastparquet\n",
    "parss = \"test_pandas.parquet\"\n",
    "test_outputs =  fastparquet.ParquetFile(parss).to_pandas()\n",
    "test_outputs"
   ]
  },
  {
   "cell_type": "code",
   "execution_count": null,
   "metadata": {},
   "outputs": [],
   "source": [
    "l1=['a','b','c','d']\n",
    "d1=\n",
    "print (d1)#Output:{0: 'a', 1: 'b', 2: 'c', 3: 'd'}"
   ]
  },
  {
   "cell_type": "code",
   "execution_count": null,
   "metadata": {},
   "outputs": [],
   "source": [
    "flatten(image_feature)"
   ]
  },
  {
   "cell_type": "code",
   "execution_count": null,
   "metadata": {},
   "outputs": [],
   "source": [
    "table = pa.Table().from_pydict({'a': [1, 2, 3], 'b': [4, 5, 6]})\n",
    "\n",
    "\n",
    "print(table)"
   ]
  },
  {
   "cell_type": "code",
   "execution_count": null,
   "metadata": {},
   "outputs": [],
   "source": [
    "video_filepath = '/tmp/hello.py'\n",
    "i = 9\n",
    "# one_segment_output = pa.Table.from_pandas(pd.DataFrame({\n",
    "#                 \"video_stem\": [str(Path(video_filepath).stem), 'hi'],\n",
    "#                 \"segment_id\": [str(Path(video_filepath).stem) + f\"_{i}\", 'hi'],\n",
    "#                 \"segment_index\": [i, i],\n",
    "# }))\n",
    "\n",
    "# df = pd.DataFrame()\n",
    "list_ofTihgsn = []\n",
    "for i in range(5):\n",
    "  one_segment_output = pd.DataFrame({\n",
    "                  \"video_stem\": \"VERSION 2\",\n",
    "                  \"segment_id\": \"VERSION_2\" + f\"_{i}\",\n",
    "                  \"segment_index\": {\"segment\": [69,69,69]},\n",
    "  }, index=[0])\n",
    "  list_ofTihgsn.append(one_segment_output)\n",
    "\n",
    "segs = pd.concat(list_ofTihgsn, ignore_index=True)\n",
    "fastparquet.write('outfile.parq',segs, append=True)"
   ]
  },
  {
   "cell_type": "code",
   "execution_count": null,
   "metadata": {},
   "outputs": [],
   "source": [
    "two_segment_output = {\n",
    "                \"video_stem\": str(Path(video_filepath).stem),\n",
    "                \"segment_id\": str(Path(video_filepath).stem) + f\"_{i}\",\n",
    "                \"segment_index\": i,\n",
    "}\n",
    "one_segment_output = {\n",
    "                \"video_stem\": \"str(Path(video_filepath).stem)\",\n",
    "                \"segment_id\": \"str(Path(video_filepath).stem)\" + f\"_{i}\",\n",
    "                \"segment_index\": 10,\n",
    "}"
   ]
  },
  {
   "cell_type": "code",
   "execution_count": null,
   "metadata": {},
   "outputs": [],
   "source": [
    "list_of_segment_outputs = [one_segment_output, two_segment_output]"
   ]
  },
  {
   "cell_type": "code",
   "execution_count": null,
   "metadata": {},
   "outputs": [],
   "source": [
    "# one_video_of_segments = pa.concat_tables(*list_of_segment_outputs)\n",
    "one_video_of_segments = pa.Table.from_pylist(list_of_segment_outputs)\n",
    "one_video_of_segments"
   ]
  },
  {
   "cell_type": "code",
   "execution_count": null,
   "metadata": {},
   "outputs": [],
   "source": [
    "import pyarrow.parquet as pq"
   ]
  },
  {
   "cell_type": "code",
   "execution_count": null,
   "metadata": {},
   "outputs": [],
   "source": [
    "from fastparquet import ParquetFile\n",
    "pf = ParquetFile('outfile.parq')\n",
    "df = pf.to_pandas()\n",
    "df"
   ]
  },
  {
   "cell_type": "code",
   "execution_count": null,
   "metadata": {},
   "outputs": [],
   "source": [
    "list_of_filepaths = list(df['segment_id'])\n",
    "list_of_filepaths"
   ]
  },
  {
   "cell_type": "code",
   "execution_count": null,
   "metadata": {},
   "outputs": [],
   "source": [
    "import fastparquet\n",
    "\n",
    "fastparquet.write('outfile.parq',one_segment_output, append=True)\n",
    "\n",
    "# pyarrow.parquet.write_table('test_parquet_append.parquet', one_video_of_segments, append=False, schema=None, index=None)"
   ]
  },
  {
   "cell_type": "code",
   "execution_count": null,
   "metadata": {},
   "outputs": [],
   "source": [
    "video_data_path = '/scratch/bbki/kastanday/whisper/parallel_1'\n",
    "video_input_dir = Path(video_data_path)\n",
    "output_path = str(os.path.join(video_input_dir.parent, video_input_dir.stem + '_clip_output.jsonl'))\n",
    "audio_jsonl = str(os.path.join(video_input_dir.parent, video_input_dir.stem + '_whisper_output.jsonl'))\n",
    "audio_jsonl"
   ]
  },
  {
   "cell_type": "code",
   "execution_count": null,
   "metadata": {},
   "outputs": [],
   "source": [
    "debug = True\n",
    "video_dir_files = set()\n",
    "stem_to_filename = {}\n",
    "start_time = time.monotonic()\n",
    "\n",
    "# GLOB VIDEOS\n",
    "# for video_dir_file in glob.glob(os.path.join(video_data_path, '*'), recursive = True):\n",
    "#     # print(Path(video_dir_file).stem)\n",
    "#     video_dir_files.add(str(Path(video_dir_file).stem))\n",
    "#     stem_to_filename[str(Path(video_dir_file).stem)] = video_dir_file\n",
    "# print(f\"Globbing from scratch 25k video files: {time.monotonic() - start_time}:2f seconds\")\n",
    "\n",
    "# FIND WHISPER JSON OBJS\n",
    "start_time = time.monotonic()\n",
    "audio_file_stems = []\n",
    "stem_to_whisper = {}  # filename.stem --> whisper_json_object\n",
    "one_json = None\n",
    "\n",
    "df = pd.DataFrame()\n",
    "with jsonlines.open(audio_jsonl) as reader:\n",
    "    try:\n",
    "        for idx, obj in enumerate(reader):\n",
    "            json_objs = json.loads(obj)\n",
    "            for json_obj in json_objs:\n",
    "                audio_file_stems.append(json_obj['video_filename_stem'])\n",
    "\n",
    "                if json_obj['video_filename_stem'] not in stem_to_whisper:\n",
    "                    stem_to_whisper[json_obj['video_filename_stem']] = []\n",
    "                \n",
    "                stem_to_whisper[json_obj['video_filename_stem']].append(json_obj)\n",
    "                \n",
    "                one_json = json_obj\n",
    "                \n",
    "                df['video_filename_stem'] = json_obj\n",
    "                if idx > 0:\n",
    "                    break\n",
    "    except Exception as e:\n",
    "        print(f\"Error: couldn't read {audio_jsonl}. Got error: {e}\")\n",
    "if debug:\n",
    "    print(f\"Done collecting {audio_jsonl}\")\n",
    "\n",
    "print(f\"JsonL parsing time: {time.monotonic() - start_time:2f} seconds\")\n",
    "# stem_to_whisper\n",
    "df"
   ]
  },
  {
   "cell_type": "code",
   "execution_count": null,
   "metadata": {},
   "outputs": [],
   "source": [
    "one_json['np_test'] = [1] * 512\n",
    "one_json['segment_word_list'] = 'penis'"
   ]
  },
  {
   "cell_type": "code",
   "execution_count": null,
   "metadata": {},
   "outputs": [],
   "source": []
  },
  {
   "cell_type": "code",
   "execution_count": null,
   "metadata": {},
   "outputs": [],
   "source": [
    "# thing  =np.zeros((512))\n",
    "\n",
    "df2 = pd.DataFrame(one_json)\n",
    "df2"
   ]
  },
  {
   "cell_type": "code",
   "execution_count": null,
   "metadata": {},
   "outputs": [],
   "source": [
    "all_whisper = []\n",
    "with jsonlines.open(audio_jsonl) as reader:\n",
    "    try:\n",
    "        for _, obj in enumerate(reader):\n",
    "            json_objs = json.loads(obj)\n",
    "    except Exception as e:\n",
    "        print(f\"Error: couldn't read {audio_jsonl}. Got error: {e}\")"
   ]
  },
  {
   "cell_type": "code",
   "execution_count": null,
   "metadata": {},
   "outputs": [],
   "source": [
    "from pyarrow import json\n",
    "import pandas as pd\n",
    "start_time = time.monotonic()\n",
    "# table = json.read_json(str(audio_jsonl))\n",
    "# table = jsonlines.read_json(str('small.jsonl'))\n",
    "df2 = pd.read_json(str(audio_jsonl), lines=True, encoding='utf-8')\n",
    "print(f\"JsonL --> pyarrow parsing time: {time.monotonic() - start_time:2f} seconds\")\n",
    "df2"
   ]
  },
  {
   "cell_type": "code",
   "execution_count": null,
   "metadata": {},
   "outputs": [],
   "source": [
    "df2[0]\n"
   ]
  },
  {
   "cell_type": "code",
   "execution_count": null,
   "metadata": {},
   "outputs": [],
   "source": [
    "!head -n1 '/scratch/bbki/kastanday/whisper/parallel_13_whisper_output.jsonl'"
   ]
  },
  {
   "attachments": {},
   "cell_type": "markdown",
   "metadata": {},
   "source": [
    "# Try loading parallel_10_clip_output.jsonl\n"
   ]
  },
  {
   "cell_type": "code",
   "execution_count": null,
   "metadata": {},
   "outputs": [],
   "source": [
    "import jsonlines\n",
    "import pprint"
   ]
  },
  {
   "cell_type": "code",
   "execution_count": null,
   "metadata": {},
   "outputs": [],
   "source": [
    "import jsonlines\n",
    "\n",
    "inpath = '/scratch/bbki/kastanday/whisper/parallel_10_clip_output.jsonl'\n",
    "json_result = []\n",
    "with jsonlines.open(inpath) as reader:\n",
    "  for _, obj in enumerate(reader):\n",
    "    json_result.append(obj)\n",
    "    break\n",
    "  \n",
    "pprint.pprint(json_result)"
   ]
  },
  {
   "cell_type": "code",
   "execution_count": null,
   "metadata": {},
   "outputs": [],
   "source": [
    "import pandas as pd\n",
    "\n",
    "# image_feature = [[1,2,3,], [21,22,23]]\n",
    "# print(dict(enumerate(json_result[0]['frame_embeddings'])))\n",
    "one_segment_output = pd.DataFrame({\n",
    "  \"frame_embeddings\": {\"frame_embeddings\": dict(enumerate(json_result[0]['frame_embeddings']))},\n",
    "}, index=[0])\n",
    "one_segment_output"
   ]
  },
  {
   "cell_type": "code",
   "execution_count": null,
   "metadata": {},
   "outputs": [],
   "source": [
    "len(json_result[0]['frame_embeddings'])"
   ]
  },
  {
   "cell_type": "code",
   "execution_count": null,
   "metadata": {},
   "outputs": [],
   "source": [
    "len(json_result[0]['frame_embeddings'][0])"
   ]
  },
  {
   "cell_type": "code",
   "execution_count": null,
   "metadata": {},
   "outputs": [],
   "source": [
    "import numpy as np\n",
    "ar = np.ndarray(shape = (3,512), buffer = json_result[0]['frame_embeddings'])"
   ]
  },
  {
   "cell_type": "code",
   "execution_count": null,
   "metadata": {},
   "outputs": [],
   "source": [
    "import json\n",
    "\n",
    "# write json to disk: json_result[0] with name 'one_clip_output.json'\n",
    "with open('one_clip_output.json', 'w') as outfile:\n",
    "    json.dump(json_result[0], outfile)"
   ]
  },
  {
   "cell_type": "code",
   "execution_count": null,
   "metadata": {},
   "outputs": [],
   "source": [
    "import pyarrow\n",
    "fn = 'one_clip_output.json'\n",
    "table = pyarrow.json.read_json(fn, read_options=pyarrow.json.ReadOptions(use_threads = True, block_size = 3200024))"
   ]
  },
  {
   "cell_type": "code",
   "execution_count": null,
   "metadata": {},
   "outputs": [],
   "source": [
    "table"
   ]
  },
  {
   "cell_type": "code",
   "execution_count": null,
   "metadata": {},
   "outputs": [],
   "source": []
  },
  {
   "cell_type": "code",
   "execution_count": 25,
   "metadata": {},
   "outputs": [
    {
     "name": "stdout",
     "output_type": "stream",
     "text": [
      "Printing JSON serialized NumPy array\n",
      "{\"array\": {\"__ndarray__\": [[11, 22, 33], [44, 55, 66], [77, 88, 99]], \"dtype\": \"int64\", \"shape\": [3, 3], \"Corder\": true}, \"array2\": {\"__ndarray__\": [[11, 22, 33, 11, 22, 33], [44, 55, 66, 44, 55, 66], [77, 88, 99, 77, 88, 99], [11, 22, 33, 11, 22, 33], [44, 55, 66, 44, 55, 66], [77, 88, 99, 77, 88, 99]], \"dtype\": \"int64\", \"shape\": [6, 6], \"Corder\": true}, \"tesxt\": \"does text work too?\"}\n"
     ]
    }
   ],
   "source": [
    "import json\n",
    "from json import JSONEncoder\n",
    "import numpy\n",
    "import numpy as np\n",
    "import json_tricks\n",
    "\n",
    "class NumpyArrayEncoder(JSONEncoder):\n",
    "    def default(self, obj):\n",
    "        if isinstance(obj, numpy.ndarray):\n",
    "            return obj.tolist()\n",
    "        return JSONEncoder.default(self, obj)\n",
    "\n",
    "numpyArrayOne = numpy.array([[11, 22, 33], [44, 55, 66], [77, 88, 99]])\n",
    "\n",
    "a2 = np.concatenate([numpyArrayOne, numpyArrayOne], axis=0)\n",
    "a2 = np.concatenate([a2, a2], axis=1)\n",
    "# print(a2)\n",
    "\n",
    "\n",
    "# Serialization\n",
    "numpyData = {\"array\": numpyArrayOne,\n",
    "             'array2': a2,\n",
    "             'tesxt':'does text work too?'}\n",
    "final_dict = json_tricks.dumps(numpyData)\n",
    "# encodedNumpyData = json.dumps(numpyData, cls=NumpyArrayEncoder)  # use dump() to write array into file\n",
    "print(\"Printing JSON serialized NumPy array\")\n",
    "print(final_dict)\n",
    "\n",
    "# Deserialization\n",
    "# print(\"Decode JSON serialized NumPy array\")\n",
    "decodedArrays = json_tricks.loads(final_dict)\n",
    "\n",
    "# decodedArrays\n",
    "\n",
    "# finalNumpyArray = numpy.asarray(decodedArrays[\"array\"])\n",
    "# print(\"NumPy Array\")\n",
    "# print(finalNumpyArray)"
   ]
  },
  {
   "cell_type": "code",
   "execution_count": 26,
   "metadata": {},
   "outputs": [],
   "source": [
    "import jsonlines\n",
    "with jsonlines.open('lil_json_tricks.jsonl', mode='a') as writer:\n",
    "  writer.write(final_dict)"
   ]
  },
  {
   "cell_type": "code",
   "execution_count": 35,
   "metadata": {},
   "outputs": [
    {
     "name": "stdout",
     "output_type": "stream",
     "text": [
      "OrderedDict([('video_stem',\n",
      "              'ZIxP36-W2Yk_TIME_24970_Gabby Douglas On Inspiring A Generation '\n",
      "              'And Persevering Through Doubt ｜ TIME'),\n",
      "             ('segment_id',\n",
      "              'ZIxP36-W2Yk_TIME_24970_Gabby Douglas On Inspiring A Generation '\n",
      "              'And Persevering Through Doubt ｜ TIME_0'),\n",
      "             ('segment_index', 0),\n",
      "             ('total_segments', 21),\n",
      "             ('segment_total_time', 4.6938125),\n",
      "             ('captions',\n",
      "              'WHEN I STARTED THIS JOURNEY I NEVER KNEW WHAT IT ACTUALLY TOOK '\n",
      "              'FOR ME TO'),\n",
      "             ('segment_start_time', 1.1031875),\n",
      "             ('segment_end_time', 5.797),\n",
      "             ('num_frames_per_segment', 1),\n",
      "             ('frame_embeddings',\n",
      "              array([[ 5.4688e-01,  8.9783e-02,  5.6152e-01,  2.9321e-01, -1.2805e-01,\n",
      "        -5.7678e-02, -3.6499e-01,  9.8389e-01, -4.3384e-01,  4.8682e-01,\n",
      "         1.1755e-01, -5.9814e-01,  3.5181e-01, -4.1992e-01, -3.7573e-01,\n",
      "        -2.6147e-01, -8.8086e-01,  3.2520e-01,  7.0264e-01, -5.5225e-01,\n",
      "        -2.9761e-01, -4.5581e-01,  5.4395e-01,  1.4539e-01, -1.0312e+00,\n",
      "        -2.7759e-01, -6.8262e-01, -2.1207e-04,  1.0244e+00, -7.2388e-02,\n",
      "        -1.0283e+00,  1.4819e-01,  1.8665e-01,  7.9407e-02,  8.3887e-01,\n",
      "         2.3047e-01, -3.0469e-01,  5.4443e-01,  3.4619e-01, -6.3574e-01,\n",
      "         9.0759e-02,  6.4453e-02, -2.1265e-01,  1.4258e-01,  4.1577e-01,\n",
      "        -7.6843e-02, -2.7740e-02,  2.9956e-01,  6.6528e-02, -3.2568e-01,\n",
      "        -5.5225e-01,  3.4351e-01,  1.0327e-01,  1.7456e-01, -5.2588e-01,\n",
      "        -5.3906e-01, -1.5039e-01, -2.5635e-01, -4.4556e-01,  5.0879e-01,\n",
      "        -1.8481e-01, -5.5908e-01,  2.0215e-01, -2.4277e-02,  1.1885e+00,\n",
      "        -1.1406e+00, -6.9775e-01, -6.6223e-02,  2.8149e-01,  1.5098e+00,\n",
      "         2.5610e-01,  5.0635e-01,  8.0078e-01,  8.6426e-01, -2.4023e-01,\n",
      "         2.0886e-01,  7.4805e-01,  5.1910e-02,  3.9459e-02, -2.1863e-01,\n",
      "        -1.1025e+00,  3.5938e-01, -5.5029e-01,  5.3662e-01, -4.9341e-01,\n",
      "         5.3662e-01, -1.1945e-01,  3.3472e-01, -8.5449e-01, -1.3684e-01,\n",
      "         8.1396e-01, -1.6556e-02,  3.4576e-02, -1.1841e-01, -1.6382e-01,\n",
      "         6.1865e-01, -3.9771e-01,  3.5498e-01,  6.9641e-02,  8.1543e-02,\n",
      "        -2.3865e-01, -4.7290e-01, -2.2949e-01, -3.9258e-01, -2.5879e-02,\n",
      "         7.4756e-01,  2.9956e-01,  5.0879e-01, -1.4465e-01, -3.8257e-01,\n",
      "         3.4741e-01,  4.5728e-01, -4.0796e-01,  1.8677e-01, -6.5039e-01,\n",
      "         2.2241e-01,  2.5781e-01,  5.2393e-01,  2.2327e-01,  8.6060e-02,\n",
      "         1.5099e-02, -2.2491e-02,  4.2822e-01, -9.8926e-01, -2.1045e-01,\n",
      "        -1.6138e-01, -1.6467e-01, -5.1575e-02, -3.6469e-02, -5.4016e-02,\n",
      "         2.8613e-01, -1.4033e+00, -3.3496e-01, -3.1812e-01, -4.2480e-02,\n",
      "        -7.2217e-01,  8.3923e-02,  1.8234e-02,  2.5635e-01, -4.6967e-02,\n",
      "        -7.5073e-02, -4.9095e-03,  1.4099e-01, -4.6240e-01, -6.4514e-02,\n",
      "         2.7905e-01,  2.9761e-01, -1.0264e+00, -1.5373e-02,  2.7051e-01,\n",
      "         2.8198e-01,  3.9722e-01,  3.5492e-02,  6.3867e-01, -6.0986e-01,\n",
      "         1.9360e-01, -4.5715e-02, -5.2783e-01,  1.7773e-01,  3.6890e-01,\n",
      "        -4.8340e-02, -2.9468e-01, -7.7271e-02,  4.9731e-01, -1.4380e-01,\n",
      "        -1.0234e+00,  4.3262e-01, -2.2034e-01,  1.7078e-01, -4.6021e-01,\n",
      "        -2.3987e-01, -2.0178e-01, -1.6577e-01,  1.2924e-02,  2.1164e-02,\n",
      "         4.7485e-01, -7.9102e-02, -1.8516e+00,  5.9424e-01, -8.9844e-01,\n",
      "         3.0786e-01, -1.8445e-01,  1.0583e-01, -7.1973e-01,  1.1398e-02,\n",
      "         3.7988e-01,  8.9014e-01,  5.0568e-02,  4.2529e-01,  5.5664e-02,\n",
      "         2.2412e-01,  3.4058e-01, -1.7517e-01,  3.1396e-01, -4.4580e-01,\n",
      "        -2.0126e-02, -8.8086e-01,  3.1104e-01, -2.3389e-01,  6.8481e-02,\n",
      "        -1.6260e-01, -5.0439e-01, -1.4001e-01, -1.5393e-01,  2.7979e-01,\n",
      "         5.7666e-01,  7.4280e-02, -4.6295e-02,  2.8931e-01, -4.9194e-02,\n",
      "         7.6709e-01,  7.7332e-02,  1.8127e-01, -6.8896e-01,  8.4521e-01,\n",
      "         5.4590e-01, -1.2842e-01, -1.0944e-01,  1.5405e-01,  4.8608e-01,\n",
      "         6.0547e-02, -6.7261e-02,  8.8501e-02, -4.8169e-01, -3.3295e-02,\n",
      "         7.6758e-01,  1.1951e-01, -1.9946e-01,  6.6357e-01,  9.1846e-01,\n",
      "        -9.8047e-01, -3.0566e-01,  2.0752e-01, -1.9214e-01,  4.9530e-02,\n",
      "        -3.4741e-01,  8.0469e-01, -2.2131e-01,  4.9731e-01,  7.5879e-01,\n",
      "         1.7383e-01, -1.2140e-01, -2.3364e-01, -1.6357e-01, -6.4941e-01,\n",
      "         5.9131e-01, -3.6835e-02, -2.5464e-01,  1.1924e+00,  5.8105e-01,\n",
      "        -2.8833e-01,  2.3462e-01,  3.0103e-01, -1.1346e-01, -4.1846e-01,\n",
      "        -1.4368e-01, -6.8359e-02,  5.4248e-01,  4.9219e-01, -2.6382e-02,\n",
      "        -1.4124e-01, -1.4172e-01, -4.0967e-01, -6.0059e-01, -5.1318e-01,\n",
      "         1.6388e-02,  1.3635e-01, -6.6504e-01,  4.0063e-01, -2.4255e-01,\n",
      "        -5.4565e-02,  1.5552e-01, -3.5083e-01, -2.5146e-01, -1.2939e-01,\n",
      "         9.7852e-01, -3.9355e-01,  1.3262e+00,  3.5229e-01, -6.2408e-02,\n",
      "         8.3447e-01,  2.4036e-01,  8.4045e-02,  2.2400e-01,  3.3203e-01,\n",
      "         6.5771e-01, -2.5928e-01,  6.3599e-02, -5.5225e-01,  7.6514e-01,\n",
      "        -5.2100e-01,  5.3809e-01, -2.7759e-01, -6.0333e-02, -3.8062e-01,\n",
      "        -3.0615e-01, -2.6465e-01,  1.0303e+00, -9.8438e-01, -7.0410e-01,\n",
      "        -5.0049e-01, -5.6836e-01, -3.6719e-01, -2.8687e-01,  4.0674e-01,\n",
      "         2.6169e-02, -2.7490e-01, -9.3842e-03, -1.0765e-02, -2.1509e-01,\n",
      "         7.8516e-01, -7.1826e-01,  4.9609e-01, -3.1738e-01,  2.2034e-01,\n",
      "        -8.0371e-01, -1.1826e+00,  2.4445e-02, -2.4402e-01,  5.4541e-01,\n",
      "         1.5759e-01, -1.6431e-01,  1.3046e-02, -9.8083e-02, -7.4170e-01,\n",
      "        -4.2578e-01, -5.6592e-01,  6.7334e-01, -5.1074e-01,  9.2920e-01,\n",
      "         2.7881e-01, -4.2749e-01, -7.7295e-01,  7.2900e-01,  2.8320e-01,\n",
      "         7.3425e-02, -7.3584e-01, -1.5271e-01, -6.0205e-01, -2.4841e-01,\n",
      "         6.0400e-01,  6.1963e-01,  7.8760e-01, -5.8008e-01,  1.8091e-01,\n",
      "         2.6758e-01, -3.7695e-01, -2.5589e-02, -3.3130e-01,  1.6663e-01,\n",
      "         8.4277e-01, -9.9609e-02,  6.5430e-01, -8.8562e-02, -1.4124e-01,\n",
      "        -1.6931e-01,  1.0918e-02,  5.2832e-01, -1.5393e-01,  2.1741e-01,\n",
      "         5.0146e-01,  2.0020e-01,  2.5317e-01,  1.8079e-01, -1.1401e-01,\n",
      "         3.1616e-01, -9.7412e-02,  5.8057e-01,  6.5283e-01, -1.8884e-01,\n",
      "        -7.6782e-02,  1.0752e+00, -1.8127e-01,  2.2766e-01, -3.2739e-01,\n",
      "         4.5093e-01, -2.9892e-02,  1.9604e-01, -1.6870e-01, -5.2686e-01,\n",
      "        -7.8247e-02, -5.8789e-01, -3.1104e-01,  4.0918e-01, -6.5234e-01,\n",
      "        -6.2695e-01, -1.8396e-01,  7.1875e-01,  2.0276e-01,  1.0830e+00,\n",
      "         5.1025e-01,  7.8760e-01,  4.4922e-01,  5.7080e-01,  1.6675e-01,\n",
      "        -1.9641e-01, -1.7883e-01, -4.5410e-01,  5.1172e-01,  8.6243e-02,\n",
      "         6.2842e-01,  1.0449e-01,  1.1157e-01, -7.2705e-01, -1.2061e+00,\n",
      "        -3.7231e-01,  8.5498e-01,  1.0046e-01,  3.8647e-01,  8.5632e-02,\n",
      "        -6.6992e-01,  1.5955e-01,  1.0632e-01, -6.6680e+00,  8.8330e-01,\n",
      "         9.3359e-01,  7.6221e-01,  1.3626e-02, -4.3774e-01, -4.1846e-01,\n",
      "         3.1641e-01,  3.8257e-01,  3.8989e-01,  4.8608e-01,  5.1123e-01,\n",
      "         8.7939e-01, -2.6025e-01,  3.2861e-01,  3.4155e-01,  4.8730e-01,\n",
      "        -9.8328e-02, -2.6978e-01, -8.0176e-01,  1.9788e-01, -1.0858e-01,\n",
      "         6.2646e-01,  3.2080e-01, -7.2266e-01, -1.3879e-01, -1.6711e-01,\n",
      "         1.0840e+00,  1.0059e-01, -2.7197e-01, -3.2764e-01,  2.3547e-01,\n",
      "         5.3906e-01,  9.4873e-01,  8.1934e-01,  1.8054e-01, -1.1450e-01,\n",
      "        -7.1826e-01,  5.8008e-01,  5.1025e-01, -3.9551e-01,  1.5247e-01,\n",
      "         1.3123e-02, -4.9866e-02,  4.5288e-01, -9.5020e-01,  4.1455e-01,\n",
      "         3.4814e-01,  6.2598e-01, -2.4475e-01,  1.1172e+00, -1.9849e-01,\n",
      "        -3.3276e-01, -2.6465e-01,  1.4268e+00,  7.0496e-02,  3.9282e-01,\n",
      "         1.9882e-02, -1.2250e-01,  1.6846e-01, -4.4678e-01,  1.1240e+00,\n",
      "         2.9053e-01,  4.7290e-01, -2.2058e-01, -1.7944e-01,  2.5171e-01,\n",
      "         1.3123e-01,  5.7617e-01, -4.0332e-01, -6.2158e-01,  6.5039e-01,\n",
      "         1.7365e-02,  2.4017e-02,  4.9341e-01, -7.1484e-01, -2.5391e-02,\n",
      "         2.4704e-02,  1.9824e-01, -8.6963e-01, -1.4612e-01, -1.4111e-01,\n",
      "         1.9043e-01,  6.6748e-01, -1.7529e-01,  1.2201e-01, -1.1709e+00,\n",
      "         5.2930e-01,  4.2297e-02, -5.2261e-03,  4.9292e-01, -1.8677e-01,\n",
      "         8.9893e-01, -5.7227e-01, -7.5342e-01,  5.7471e-01,  8.0957e-01,\n",
      "        -5.1855e-01, -3.7695e-01,  9.5093e-02,  2.8882e-01, -5.2490e-01,\n",
      "         9.2957e-02,  8.0957e-01,  1.6748e-01, -5.9180e-01, -1.0586e+00,\n",
      "         2.2729e-01,  6.0986e-01,  6.2988e-01,  1.0272e-01, -8.9209e-01,\n",
      "         3.1250e-01,  3.3020e-02,  3.9575e-01, -1.6621e+00, -7.7246e-01,\n",
      "         7.0752e-01, -8.3594e-01,  2.0557e-01, -4.5654e-01,  8.4766e-01,\n",
      "        -5.6445e-01,  2.5293e-01,  1.6434e-02, -1.1572e-01,  8.8916e-01,\n",
      "         1.7126e-01, -9.8730e-01, -4.0869e-01, -7.6721e-02, -3.3887e-01,\n",
      "         2.3438e-01, -3.2178e-01,  7.5806e-02, -4.3774e-01, -4.4556e-02,\n",
      "         4.3042e-01, -2.4255e-01, -4.5239e-01,  2.5220e-01,  7.6025e-01,\n",
      "         3.4302e-02, -1.5225e+00,  4.0869e-01, -1.9470e-01, -6.1279e-01,\n",
      "         1.3708e-01,  4.3884e-02, -3.9160e-01,  8.9905e-02, -5.2393e-01,\n",
      "        -2.7368e-01,  1.8140e-01, -9.3323e-02,  9.6436e-01, -4.8535e-01,\n",
      "        -3.1274e-01,  5.8691e-01,  4.1284e-01, -1.1102e-01,  9.4043e-01,\n",
      "         2.6343e-01,  6.3293e-02, -2.6685e-01,  3.9600e-01, -2.4185e-02,\n",
      "         6.4453e-01, -2.0581e-01, -5.8008e-01, -5.2490e-01, -9.8340e-01,\n",
      "        -1.1917e-02,  4.0430e-01, -5.6055e-01,  1.8799e+00, -5.2881e-01,\n",
      "        -3.7378e-01,  1.0718e-01, -3.3008e-01,  4.8431e-02,  1.3416e-01,\n",
      "         9.6130e-02, -2.1008e-01,  4.4373e-02,  2.1484e-01,  1.4136e-01,\n",
      "        -5.8789e-01,  1.8469e-01,  7.1826e-01, -2.6489e-01, -1.6309e-01,\n",
      "         1.2090e+00,  1.6846e-01, -6.2744e-01, -4.9744e-02,  9.3201e-02,\n",
      "         3.3545e-01, -5.1208e-02,  4.8511e-01,  1.4294e-01, -5.2539e-01,\n",
      "         2.3535e-01,  2.8540e-01,  2.8101e-01,  1.1139e-01,  5.9375e-01,\n",
      "         5.2441e-01,  1.0469e+00, -3.8013e-01, -1.6495e-02, -4.3335e-01,\n",
      "        -1.9299e-01, -3.9526e-01,  2.1790e-01,  1.4380e-01, -6.9214e-02,\n",
      "        -9.3408e-01,  9.0027e-02, -1.8652e-01, -2.7295e-01, -4.1016e-01,\n",
      "        -1.9346e+00,  9.7363e-01,  8.7500e-01,  6.5479e-01,  1.0535e-01,\n",
      "         2.9517e-01, -1.0925e-02,  3.5352e-01, -4.5166e-01,  7.1055e+00,\n",
      "         7.4512e-01,  8.2764e-01,  5.5029e-01,  1.0615e+00,  4.8047e-01,\n",
      "        -3.3740e-01,  7.7344e-01,  5.6201e-01, -8.5547e-01,  3.3545e-01,\n",
      "         3.9600e-01,  3.8818e-01, -6.3867e-01, -1.2500e+00,  3.2520e-01,\n",
      "        -4.8975e-01, -8.4961e-02,  9.2529e-01,  2.3926e-01,  4.0063e-01,\n",
      "        -3.0493e-01, -6.0944e-02, -6.5576e-01,  4.0771e-01, -3.2684e-02,\n",
      "        -1.5930e-01, -1.0947e+00,  5.4248e-01,  1.2666e+00,  2.2729e-01,\n",
      "        -2.0544e-01, -5.9570e-01, -2.4768e-01, -1.1310e-01, -6.2500e-01,\n",
      "         3.0371e-01,  1.5686e-01, -5.2588e-01, -2.1045e-01, -3.5181e-01,\n",
      "         7.0947e-01, -5.0342e-01, -4.3530e-01,  1.6272e-01,  3.5864e-01,\n",
      "         5.0928e-01, -3.7476e-01,  1.4863e+00, -1.0410e+00,  4.4189e-02,\n",
      "         5.8691e-01, -1.0516e-01, -4.4971e-01,  9.7961e-03, -2.8125e-01,\n",
      "         2.8418e-01, -4.9365e-01, -6.4209e-01,  5.3027e-01, -1.7383e-01,\n",
      "        -1.0077e-01, -9.4788e-02, -4.5386e-01,  4.4116e-01,  1.2238e-01,\n",
      "        -2.0361e-01,  2.7603e-02, -2.5464e-01,  1.1318e+00, -5.3223e-01,\n",
      "        -7.7393e-01, -3.0420e-01,  1.7371e-01,  1.7603e-01,  1.5515e-01,\n",
      "         2.8735e-01, -1.2445e-01,  3.4155e-01, -1.6064e+00, -6.4941e-01,\n",
      "        -4.8218e-01,  5.1123e-01,  1.3819e-03,  6.6260e-01, -1.6797e-01,\n",
      "        -6.9031e-02,  3.5691e-04,  1.2236e+00,  3.8110e-01, -3.1787e-01,\n",
      "        -2.7930e-01,  4.1565e-02,  2.8613e-01,  6.8604e-01, -4.0991e-01,\n",
      "        -5.9668e-01,  1.6223e-01, -2.3694e-01,  1.0254e+00,  2.3730e-01,\n",
      "        -8.4961e-01, -4.7021e-01, -6.3379e-01,  1.4893e-02, -1.3680e-02,\n",
      "         2.0093e-01,  5.3467e-01,  4.1357e-01, -3.5352e-01, -5.6055e-01,\n",
      "        -1.3438e+00,  1.8201e-01,  3.6255e-01, -5.4395e-01, -5.2246e-01,\n",
      "        -3.3252e-01, -4.0112e-01,  2.3792e-01,  2.4072e-01, -1.4343e-01,\n",
      "        -8.7158e-01,  2.5146e-01, -2.7002e-01]], dtype=float16)),\n",
      "             ('text_caption_embeddings',\n",
      "              array([ 8.6487e-02, -1.8225e-01,  1.9727e-01,  3.2007e-01, -8.9355e-02,\n",
      "        8.7830e-02,  8.5022e-02, -1.0504e-01,  1.1584e-01, -1.7017e-01,\n",
      "       -4.2358e-01,  2.5537e-01,  1.6956e-01,  4.5068e-01,  1.5717e-02,\n",
      "       -1.4905e-01,  7.2607e-01, -1.1993e-02,  2.4426e-01,  2.3047e-01,\n",
      "       -4.5898e-01, -1.6553e-01, -1.9751e-01, -1.5820e-01, -5.1575e-02,\n",
      "        2.6733e-01,  3.0225e-01,  1.6492e-01, -5.6641e-01, -3.4088e-02,\n",
      "       -1.9922e-01, -4.4434e-01,  2.1362e-01, -2.9883e-01,  4.0015e-01,\n",
      "       -1.4062e-01, -3.9160e-01, -1.5161e-01, -5.5127e-01,  4.3359e-01,\n",
      "       -1.0748e-01,  3.6401e-01, -5.5664e-02, -2.6953e-01, -2.7435e-02,\n",
      "        3.2812e-01,  2.1436e-01,  1.9385e-01,  1.0748e-01, -3.0908e-01,\n",
      "        6.3428e-01, -1.0516e-01, -1.2469e-01, -1.2177e-01, -4.5044e-01,\n",
      "        2.0264e-01, -2.8052e-01, -3.6865e-01, -1.9092e-01,  4.8877e-01,\n",
      "       -3.1079e-01,  1.2444e-02, -2.6831e-01, -3.1982e-01,  3.7305e-01,\n",
      "       -9.0027e-02, -1.3843e-01, -2.6562e-01,  2.3413e-01,  2.9102e-01,\n",
      "        4.9756e-01,  1.8884e-01,  5.5273e-01, -1.7249e-01,  3.2837e-01,\n",
      "        8.0139e-02,  1.7480e-01, -1.3806e-01, -7.7576e-02, -3.7988e-01,\n",
      "        5.8984e-01,  2.9980e-01,  1.4046e-02,  2.8198e-01, -1.7993e-01,\n",
      "        1.0399e-02, -2.7759e-01,  1.2433e-01, -3.2275e-01,  2.2217e-01,\n",
      "       -4.0723e-01,  7.8278e-03,  2.1863e-01,  2.1777e-01,  1.0223e-01,\n",
      "        1.9897e-01, -1.5808e-02,  3.9038e-01, -1.9678e-01, -1.3171e-01,\n",
      "        1.4221e-01,  1.2659e-01,  4.3530e-01,  1.9543e-01,  3.0884e-01,\n",
      "        1.1060e-01,  2.2778e-01, -1.5308e-01,  1.4612e-01,  9.8999e-02,\n",
      "       -5.4199e-02, -3.5864e-01, -2.1399e-01, -6.0608e-02,  3.5596e-01,\n",
      "       -8.4412e-02, -1.8335e-01, -4.3286e-01,  6.0760e-02,  3.8483e-02,\n",
      "       -3.0981e-01, -3.1204e-02,  2.1765e-01,  3.4717e-01,  3.1567e-03,\n",
      "       -4.7119e-01,  2.5220e-01, -1.0901e-01,  6.1584e-02,  2.1704e-01,\n",
      "       -3.3740e-01, -2.7856e-01,  1.3513e-01, -4.8859e-02, -2.4319e-03,\n",
      "       -6.3330e-01, -3.1738e-01, -5.9082e-01, -1.0358e-01, -9.1431e-02,\n",
      "        1.3696e-01, -1.1627e-01, -4.7461e-01,  2.8467e-01,  9.7717e-02,\n",
      "       -1.8738e-01, -5.3418e-01,  2.9633e-02,  3.0884e-01, -6.5247e-02,\n",
      "        2.0972e-01, -3.8281e-01, -1.0443e-01,  4.9164e-02, -5.5322e-01,\n",
      "       -1.4587e-01, -1.8372e-01,  4.3359e-01, -2.7319e-01, -7.4768e-02,\n",
      "        2.7441e-01, -3.5767e-01, -2.4524e-01, -1.8213e-01, -3.3008e-01,\n",
      "        2.5537e-01,  1.5991e-01, -2.8076e-01,  1.2128e-01, -1.9885e-01,\n",
      "        1.5222e-01, -5.5389e-02, -8.6182e-02, -6.4880e-02,  7.0557e-02,\n",
      "        5.7666e-01,  3.6377e-02, -2.3108e-01, -9.6436e-02,  2.5537e-01,\n",
      "       -5.0244e-01, -1.1926e-01,  4.1943e-01,  1.3660e-01, -7.3853e-02,\n",
      "       -3.1250e-01,  6.5002e-02,  2.3169e-01,  5.4283e-03,  4.9048e-01,\n",
      "        1.5283e-01, -4.4409e-01, -2.7954e-01, -1.5297e-02,  9.0332e-02,\n",
      "       -3.2969e+00,  5.4736e-01,  6.0840e-01, -2.9492e-01,  8.6475e-01,\n",
      "       -2.1155e-01,  1.0391e+00,  1.9080e-01, -6.7017e-02,  4.5044e-01,\n",
      "       -3.8574e-01, -2.2437e-01, -3.7573e-01, -3.3173e-02, -5.1123e-01,\n",
      "        3.4229e-01,  1.5454e-01, -6.1096e-02,  8.4656e-02,  7.0862e-02,\n",
      "        6.8506e-01, -3.9209e-01,  3.4717e-01, -3.5767e-01,  3.7427e-01,\n",
      "       -9.1492e-02, -8.0719e-03, -4.9042e-02, -2.4170e-01,  2.7051e-01,\n",
      "       -1.0284e-01, -2.7075e-01, -1.6687e-01, -5.2307e-02, -2.4207e-01,\n",
      "       -2.7490e-01,  1.5674e-01,  2.1594e-01, -6.0010e-01,  3.9185e-01,\n",
      "        5.1172e-01,  8.2092e-02, -2.6901e-02, -4.9487e-01,  1.4551e-01,\n",
      "       -6.6833e-02, -1.5820e-01,  9.4177e-02, -7.0435e-02, -2.4194e-01,\n",
      "        2.6913e-03, -3.5431e-02,  3.4351e-01,  6.6956e-02,  1.9629e-01,\n",
      "        5.3741e-02,  7.6855e-01, -1.7932e-01,  4.4800e-01,  3.9111e-01,\n",
      "       -1.7990e-02,  5.0323e-02,  8.3252e-02,  1.6455e-01, -4.9658e-01,\n",
      "       -3.9307e-01,  4.8169e-01,  2.9028e-01, -2.9297e-01,  2.0911e-01,\n",
      "        1.4807e-01, -3.7012e-01,  3.3472e-01,  4.0601e-01, -8.1104e-01,\n",
      "        2.4719e-01, -2.1484e-01, -3.7573e-01,  1.0986e-01, -7.2388e-02,\n",
      "       -2.0859e-02,  4.9316e-01,  1.2469e-01, -2.4585e-01,  4.6289e-01,\n",
      "        1.1017e-01,  1.8274e-01, -3.5205e-01, -1.5457e-02, -6.8970e-02,\n",
      "       -1.0248e-01,  8.9905e-02, -7.1167e-02, -4.0508e+00, -2.0691e-01,\n",
      "       -1.8604e-01, -2.4927e-01, -2.6807e-01,  4.2206e-02, -4.1211e-01,\n",
      "        5.2246e-01,  5.0244e-01, -1.5344e-01,  1.0022e-01, -5.5580e-03,\n",
      "        3.5815e-01,  3.3667e-01,  2.4316e-01,  2.8030e-02,  3.0380e-02,\n",
      "       -1.6870e-01, -1.0034e-01,  4.1321e-02, -2.9834e-01, -3.0811e-01,\n",
      "       -8.8654e-03,  1.6455e-01,  3.2104e-01,  6.2354e-01,  4.0741e-03,\n",
      "       -2.6733e-02, -1.2930e+01,  1.1102e-01, -5.1562e-01,  9.7961e-02,\n",
      "        3.1250e-01,  1.8347e-01, -4.7998e-01,  4.9652e-02,  1.3098e-01,\n",
      "       -5.9723e-02, -6.7285e-01,  5.0342e-01,  1.2219e-01,  1.9202e-01,\n",
      "       -1.0020e+00, -1.7715e-02, -9.3079e-03, -1.9116e-01, -3.1860e-01,\n",
      "        3.5474e-01, -2.5317e-01,  3.2806e-02,  3.7256e-01, -1.6138e-01,\n",
      "       -1.2970e-02, -4.3848e-01,  1.9092e-01,  1.1255e-01, -2.5122e-01,\n",
      "        2.8613e-01,  4.5874e-01, -1.7017e-01,  1.7517e-01,  3.2104e-02,\n",
      "       -6.3286e-03,  1.5308e-01, -2.5830e-01,  2.6880e-01,  8.5571e-02,\n",
      "        4.1699e-01,  7.7881e-02,  1.7102e-01,  2.9297e-01, -2.8442e-01,\n",
      "        6.3934e-03, -1.8982e-02,  6.1572e-01, -2.9688e-01, -3.4241e-02,\n",
      "       -1.2842e-01,  9.9731e-02, -1.2299e-02,  4.8169e-01,  1.6187e-01,\n",
      "       -2.2534e-01, -2.4414e-01,  5.4004e-01,  2.3877e-01,  2.8101e-01,\n",
      "       -9.0454e-02,  1.5503e-01, -1.3283e-02,  1.9824e-01, -2.0972e-01,\n",
      "       -8.0225e-01,  3.4961e-01,  4.0924e-02,  9.7107e-02,  2.0032e-01,\n",
      "       -6.1584e-02, -2.4451e-01,  5.9357e-02, -1.7554e-01,  9.1675e-02,\n",
      "       -1.1377e-01,  3.3521e-01,  2.5925e-02,  1.4380e-01,  6.6833e-02,\n",
      "        5.7465e-02,  1.8213e-01,  5.5206e-02,  4.7266e-01, -7.3853e-02,\n",
      "        1.5808e-01, -1.2250e-01,  2.0605e-01, -9.2224e-02,  1.0859e+00,\n",
      "        2.5562e-01,  3.6426e-01,  3.1885e-01,  5.1514e-02,  7.8979e-02,\n",
      "        5.1660e-01, -6.2805e-02, -4.0527e-01, -1.8818e+00,  1.2708e-01,\n",
      "       -1.8726e-01,  3.5498e-01, -7.0117e-01,  3.6572e-01,  4.6196e-03,\n",
      "        9.9670e-02,  2.7588e-01, -2.9272e-01,  1.8066e-01, -5.3833e-02,\n",
      "       -6.4941e-02, -1.7151e-01,  3.7769e-01,  1.9897e-02,  1.6467e-01,\n",
      "        2.7100e-02,  1.2805e-01, -5.5908e-01,  2.2339e-01, -7.7148e-02,\n",
      "       -4.0479e-01, -7.4890e-02, -1.9263e-01,  1.6785e-02,  5.3406e-02,\n",
      "        1.0773e+01,  1.8860e-01, -7.7209e-02, -5.5859e-01,  1.0388e-01,\n",
      "        1.3013e-01, -2.1289e-01,  2.2568e-02, -3.6304e-01, -3.7183e-01,\n",
      "       -8.0078e-01, -2.5684e-01,  8.7793e-01,  2.7319e-01, -9.6924e-02,\n",
      "        4.3970e-01, -2.6587e-01, -3.0029e-01, -5.4657e-02,  5.8960e-02,\n",
      "        4.4482e-01,  3.7476e-01,  1.3147e-01, -3.3325e-01,  5.4590e-01,\n",
      "       -6.1572e-01,  5.5371e-01, -7.3438e-01, -2.4841e-01,  6.4636e-02,\n",
      "       -3.7048e-02,  1.5701e-02,  1.7090e-01, -2.2974e-01,  4.9377e-02,\n",
      "        1.5442e-01, -6.3110e-02, -2.2693e-01, -2.0862e-01, -7.2632e-02,\n",
      "       -3.0688e-01, -2.0911e-01,  9.6985e-02,  2.6562e-01, -1.4062e-01,\n",
      "       -2.4780e-01, -2.2339e-01,  1.2459e-02,  2.1399e-01, -2.7490e-01,\n",
      "       -3.9307e-01,  3.2349e-02, -5.0439e-01, -3.4180e-01,  5.1910e-02,\n",
      "        5.5811e-01, -4.0918e-01,  4.7852e-01,  1.2962e-02,  1.5967e-01,\n",
      "       -3.3618e-01,  1.1742e-02, -5.2002e-01,  3.3716e-01,  3.7842e-01,\n",
      "        2.2964e-02,  1.7212e-01, -1.3695e-02,  2.2656e-01, -9.6375e-02,\n",
      "        4.5654e-02,  2.2510e-01,  1.6345e-01,  7.9248e-01,  5.1953e-01,\n",
      "       -2.8296e-01,  1.1224e-01,  5.0635e-01, -3.9941e-01,  2.9144e-02,\n",
      "        1.2964e-01, -4.4263e-01, -1.8396e-01, -1.9485e-02,  2.4719e-01,\n",
      "        1.4819e-01, -6.2402e-01, -3.0200e-01, -1.2720e-01,  2.6636e-01,\n",
      "        1.9873e-01, -6.5625e-01,  7.1716e-02,  1.9019e-01, -1.0002e-02,\n",
      "       -4.5728e-01, -8.2825e-02, -3.4424e-01, -4.7607e-01,  1.0674e-02,\n",
      "        1.2598e-01, -3.7158e-01, -1.1829e-01,  2.4182e-01, -7.2656e-01,\n",
      "       -2.6538e-01, -2.5070e-02,  1.8115e-01, -8.6487e-02, -1.4392e-01,\n",
      "        1.2489e-02,  2.1576e-02,  1.7883e-01, -1.5027e-01, -4.2938e-02,\n",
      "       -2.9312e-02,  7.3340e-01,  2.6709e-01, -1.2073e-01,  2.8931e-02,\n",
      "       -9.8877e-01,  4.9316e-01, -1.1584e-01, -3.9844e-01,  1.8762e-01,\n",
      "        4.4482e-01,  3.3130e-01,  1.2183e-01, -1.8164e-01, -1.7749e-01,\n",
      "        2.8589e-01,  3.5376e-01,  4.2633e-02, -3.3521e-01,  3.3813e-01,\n",
      "       -2.3718e-01,  1.2457e-01,  2.0557e-01, -5.7520e-01, -1.9836e-01,\n",
      "       -1.3062e-01, -2.3889e-01, -9.7534e-02, -1.8176e-01,  5.5225e-01,\n",
      "       -8.3862e-02,  3.7036e-01,  3.3667e-01,  1.3564e+00, -8.8928e-02,\n",
      "        4.7583e-01, -1.6190e-02, -1.0780e-02, -3.2471e-01,  3.1934e-01,\n",
      "        6.9885e-02,  6.4941e-02,  2.2290e-01,  4.6240e-01,  1.5955e-01,\n",
      "        2.2729e-01, -1.0254e-01, -2.1545e-02, -3.6548e-01,  4.5679e-01,\n",
      "        4.8511e-01, -3.7598e-01,  3.2080e-01,  4.0601e-01,  2.8369e-01,\n",
      "        9.4116e-02,  2.3059e-01, -7.3291e-01,  1.6785e-01,  4.6094e-01,\n",
      "       -1.5857e-01,  2.5854e-01,  4.1656e-02, -9.5642e-02, -6.9287e-01,\n",
      "       -7.0166e-01, -4.8645e-02, -4.9305e-04, -7.1594e-02,  9.0430e-01,\n",
      "       -3.7720e-01,  4.3481e-01,  4.7559e-01,  2.4475e-01,  3.3130e-01,\n",
      "        2.8833e-01, -3.0371e-01, -1.0307e-02, -2.2375e-01,  4.2139e-01,\n",
      "       -3.8647e-01,  9.9182e-02,  6.4795e-01,  8.2397e-02, -2.1118e-01,\n",
      "        1.9333e-02, -2.3206e-01, -7.2314e-01, -7.0618e-02,  1.8877e+00,\n",
      "       -4.2847e-01,  2.3901e-01,  8.1421e-02, -5.6824e-02, -1.0620e-01,\n",
      "        2.9663e-02, -1.9409e-02, -1.2396e-01,  2.4048e-02,  1.5125e-01,\n",
      "       -1.5100e-01,  4.2651e-01,  3.3936e-01,  1.4763e-02, -6.4502e-01,\n",
      "        1.0730e-01,  2.4963e-01, -3.8794e-01,  1.2842e-01,  3.5571e-01,\n",
      "        3.1323e-01,  6.9702e-02,  2.6147e-01, -2.3962e-01,  6.0352e-01,\n",
      "        1.8713e-01,  6.6467e-02,  3.4131e-01, -2.6221e-01,  2.6172e-01,\n",
      "       -7.7539e-01, -3.2788e-01,  8.1006e-01,  1.0992e-01, -7.3145e-01,\n",
      "        2.0190e-01, -3.3252e-01, -5.5566e-01,  3.9642e-02,  1.6553e-01,\n",
      "       -7.4023e-01,  3.2935e-01, -2.7802e-02,  2.3361e-02, -2.9053e-02,\n",
      "       -2.3804e-01, -2.4078e-02, -6.7285e-01, -1.4856e-01, -1.6516e-01,\n",
      "       -1.7188e-01,  5.3070e-02,  7.0801e-01, -1.1505e-01, -9.1370e-02,\n",
      "       -5.1807e-01, -1.3940e-01,  3.5181e-01,  3.3301e-01,  4.5679e-01,\n",
      "       -6.9385e-01,  2.2522e-01, -5.0342e-01, -4.4678e-01,  2.1194e-02,\n",
      "       -4.7684e-03,  8.5840e-01,  4.3335e-02, -3.2031e-01,  2.7637e-01,\n",
      "       -5.8960e-02,  1.1353e-01,  2.6392e-01, -2.6367e-02, -1.8530e-01,\n",
      "       -2.9224e-01, -4.5471e-02,  3.4692e-01,  2.0276e-01, -1.8481e-01,\n",
      "       -2.0300e-01, -2.6929e-01, -8.8867e-02, -2.4316e-01,  3.6499e-01,\n",
      "       -4.0430e-01,  1.7041e-01,  2.3523e-01, -1.2369e-03,  2.8101e-01,\n",
      "        3.4351e-01,  6.2469e-02, -6.7285e-01,  1.0938e-01,  2.6147e-01,\n",
      "       -2.4512e-01,  2.4060e-01,  4.4678e-02,  3.4237e-03,  2.4429e-02,\n",
      "        3.5620e-01, -1.1554e-01,  2.6798e-03, -3.6102e-02,  1.0315e-01,\n",
      "       -3.9868e-01,  6.5918e-01, -9.0332e-01, -5.3564e-01, -1.8359e-01,\n",
      "        9.9915e-02,  1.1316e-01,  1.2805e-01,  1.2036e-01, -3.8843e-01,\n",
      "        1.3171e-01,  1.6797e-01,  7.0679e-02, -7.9285e-02, -2.3267e-01,\n",
      "        2.3413e-01,  8.0664e-01,  3.7872e-02], dtype=float16)),\n",
      "             ('segment_frames',\n",
      "              array([[[[41, 33, 41],\n",
      "         [41, 33, 41],\n",
      "         [41, 33, 41],\n",
      "         ...,\n",
      "         [10, 16, 20],\n",
      "         [10, 16, 20],\n",
      "         [10, 16, 20]],\n",
      "\n",
      "        [[41, 33, 41],\n",
      "         [41, 33, 41],\n",
      "         [41, 33, 41],\n",
      "         ...,\n",
      "         [10, 16, 20],\n",
      "         [10, 16, 20],\n",
      "         [10, 16, 20]],\n",
      "\n",
      "        [[41, 33, 41],\n",
      "         [41, 33, 41],\n",
      "         [41, 33, 41],\n",
      "         ...,\n",
      "         [10, 16, 20],\n",
      "         [10, 16, 20],\n",
      "         [10, 16, 20]],\n",
      "\n",
      "        ...,\n",
      "\n",
      "        [[ 9, 10, 15],\n",
      "         [ 9, 11, 15],\n",
      "         [17, 14, 19],\n",
      "         ...,\n",
      "         [12, 14, 16],\n",
      "         [12, 14, 16],\n",
      "         [12, 14, 16]],\n",
      "\n",
      "        [[12, 12, 19],\n",
      "         [14, 14, 21],\n",
      "         [18, 15, 22],\n",
      "         ...,\n",
      "         [12, 14, 16],\n",
      "         [12, 14, 16],\n",
      "         [12, 14, 16]],\n",
      "\n",
      "        [[13, 13, 20],\n",
      "         [15, 15, 22],\n",
      "         [17, 14, 21],\n",
      "         ...,\n",
      "         [12, 14, 16],\n",
      "         [12, 14, 16],\n",
      "         [12, 14, 16]]]], dtype=uint8)),\n",
      "             ('frame_embeddings_shape', [1, 768]),\n",
      "             ('text_caption_embeddings_shape', [768]),\n",
      "             ('segment_frames_shape', [1, 336, 336, 3])])\n",
      "Already processed:\t\t\t 0\n",
      "Already procssed: set()\n"
     ]
    }
   ],
   "source": [
    "pathh = '/scratch/bbki/kastanday/whisper/parallel_14_clip_output.jsonl'\n",
    "import json_tricks\n",
    "import pprint\n",
    "if os.path.exists(pathh):\n",
    "    # print(f\"Filtering already completed videos in CLIP {self.video_data_path} with existing output in {pathh}\")\n",
    "    already_processed_video_stems = set()\n",
    "    with jsonlines.open(pathh, mode = 'r') as reader:\n",
    "        try:\n",
    "            for line in reader:\n",
    "                if line:\n",
    "                    # must load with json_tricks.loads() to undo compression.\n",
    "                    line = json_tricks.loads(line)\n",
    "                    stem = line\n",
    "                    pprint.pprint(line)\n",
    "                    break\n",
    "                    if stem not in already_processed_video_stems: print(stem)\n",
    "                    already_processed_video_stems.add( stem )\n",
    "        except Exception as e:\n",
    "            print(f\"Error: couldn't line from {pathh}. Got error: {e}\")\n",
    "    print(f\"Already processed:\\t\\t\\t {len(already_processed_video_stems)}\")\n",
    "    print(\"Already procssed:\", already_processed_video_stems)\n",
    "    # remaining_stems_for_clip = set(self.video_file_stems) - set(already_processed_video_stems)\n",
    "    # print(f\"Total to process:\\t\\t\\t {len(set(self.video_file_stems))}\")\n",
    "    # print(f\"Remaining to do now:\\t\\t {len(remaining_stems_for_clip)}\")\n",
    "    # self.video_file_stems = list(remaining_stems_for_clip)"
   ]
  },
  {
   "cell_type": "code",
   "execution_count": null,
   "metadata": {},
   "outputs": [],
   "source": [
    "i = \"mnt/\""
   ]
  }
 ],
 "metadata": {
  "kernelspec": {
   "display_name": "Python 3.8.13 ('v3_clip_preprocessing_yt1b')",
   "language": "python",
   "name": "python3"
  },
  "language_info": {
   "codemirror_mode": {
    "name": "ipython",
    "version": 3
   },
   "file_extension": ".py",
   "mimetype": "text/x-python",
   "name": "python",
   "nbconvert_exporter": "python",
   "pygments_lexer": "ipython3",
   "version": "3.8.13"
  },
  "orig_nbformat": 4,
  "vscode": {
   "interpreter": {
    "hash": "6eb6100c75610da3070ca1054b4cce20eed66c5f40697de0f2f8549a9f67965f"
   }
  }
 },
 "nbformat": 4,
 "nbformat_minor": 2
}
