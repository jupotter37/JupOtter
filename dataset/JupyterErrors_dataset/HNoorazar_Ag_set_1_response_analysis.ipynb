{
 "cells": [
  {
   "cell_type": "code",
   "execution_count": 15,
   "id": "d2278586",
   "metadata": {},
   "outputs": [],
   "source": [
    "import pandas as pd\n",
    "import csv\n",
    "\n",
    "import os, os.path\n",
    "import sys\n",
    "\n",
    "# to move files from one directory to another\n",
    "import shutil"
   ]
  },
  {
   "cell_type": "code",
   "execution_count": 16,
   "id": "f4883cb0",
   "metadata": {},
   "outputs": [],
   "source": [
    "perry_dir = \"/Users/hn/Documents/01_research_data/NASA/Perry_and_Co/\"\n",
    "plots_dir = \"/Users/hn/Documents/01_research_data/NASA/snapshots/TS/06_snapshot_flat_PNG/\""
   ]
  },
  {
   "cell_type": "code",
   "execution_count": 17,
   "id": "e0800dce",
   "metadata": {},
   "outputs": [],
   "source": [
    "# choices_set_1 = pd.read_excel(io=param_dir + \"set1_PerryandCo.xlsx\", sheet_name=0)\n",
    "# response_set_1 = pd.read_excel(io=param_dir + \"Perry_and_Co_Responses_set_1.xlsx\", sheet_name=0)"
   ]
  },
  {
   "cell_type": "code",
   "execution_count": 18,
   "id": "cd7d346b",
   "metadata": {},
   "outputs": [],
   "source": [
    "choices_set_1_xl = pd.ExcelFile(perry_dir + \"set1_PerryandCo.xlsx\")\n",
    "choises_set_1_sheet_names = choices_set_1_xl.sheet_names  # see all sheet names\n",
    "\n",
    "response_set_1_xl = pd.ExcelFile(perry_dir + \"Perry_and_Co_Responses_set_1.xlsx\")\n",
    "response_set_1_sheet_names = response_set_1_xl.sheet_names  # see all sheet names\n"
   ]
  },
  {
   "cell_type": "code",
   "execution_count": 19,
   "id": "bf38c2c8",
   "metadata": {},
   "outputs": [
    {
     "name": "stdout",
     "output_type": "stream",
     "text": [
      "['extended_1', 'extended_2', 'extended_3', 'extended_4', 'extended_5', 'extended_6']\n",
      "['S1 - F6', 'S1 - F5', 'S1 - F4', 'S1 - F3', 'S1 - F2', 'S1 - F1']\n"
     ]
    }
   ],
   "source": [
    "print (choises_set_1_sheet_names)\n",
    "print (response_set_1_sheet_names)"
   ]
  },
  {
   "cell_type": "code",
   "execution_count": 20,
   "id": "4668143c",
   "metadata": {},
   "outputs": [],
   "source": [
    "a_choice_sheet = choices_set_1_xl.parse(choises_set_1_sheet_names[0])\n",
    "a_response_sheet = response_set_1_xl.parse(response_set_1_sheet_names[0])"
   ]
  },
  {
   "cell_type": "code",
   "execution_count": 21,
   "id": "92117ae1",
   "metadata": {},
   "outputs": [
    {
     "name": "stdout",
     "output_type": "stream",
     "text": [
      "['Question_in_set', 'Question_overall', 'ID', 'NDVI_TS_Name', 'corrected_RGB', 'TOA_RGB', 'latitude', 'longitude', 'CropTyp', 'Irrigtn', 'DataSrc', 'Acres', 'ExctAcr', 'LstSrvD', 'county']\n"
     ]
    }
   ],
   "source": [
    "print (list(a_choice_sheet.columns))"
   ]
  },
  {
   "cell_type": "markdown",
   "id": "f057dc5c",
   "metadata": {},
   "source": [
    "# List Crop Types in Set 1"
   ]
  },
  {
   "cell_type": "code",
   "execution_count": 22,
   "id": "25beb6b5",
   "metadata": {},
   "outputs": [],
   "source": [
    "crop_types = []\n",
    "\n",
    "for a_choice_sheet in choises_set_1_sheet_names:\n",
    "    \n",
    "    # read a damn sheet\n",
    "    a_choice_sheet = choices_set_1_xl.parse(a_choice_sheet)\n",
    "    unique_crop_types = a_choice_sheet['CropTyp'].unique()\n",
    "\n",
    "    # add them to the damn list\n",
    "    crop_types += list(unique_crop_types)"
   ]
  },
  {
   "cell_type": "code",
   "execution_count": 23,
   "id": "c96d77dc",
   "metadata": {},
   "outputs": [
    {
     "name": "stdout",
     "output_type": "stream",
     "text": [
      "['corn, field', 'corn, sweet', 'corn seed', 'wheat', 'wheat fallow', 'potato', 'potato', 'bean, dry', 'bean, green', 'onion', 'pea seed', 'pea, dry', 'pea, green', 'barley', 'barley hay', 'buckwheat', 'buckwheat', 'canola', 'carrot', 'carrot seed', 'market crops', 'mint', 'mint', 'oat hay', 'triticale', 'triticale hay', 'yellow mustard', 'alfalfa seed', 'alfalfa seed', 'grass seed', 'bluegrass seed', 'grass hay']\n",
      "\n",
      "There are [32] crop types.\n"
     ]
    }
   ],
   "source": [
    "print (crop_types)\n",
    "print ()\n",
    "print (\"There are [{cro_type_count}] crop types.\".format(cro_type_count=len(crop_types)))"
   ]
  },
  {
   "cell_type": "markdown",
   "id": "2c86c64b",
   "metadata": {},
   "source": [
    "## Count number of questions"
   ]
  },
  {
   "cell_type": "code",
   "execution_count": 24,
   "id": "7e951785",
   "metadata": {},
   "outputs": [
    {
     "name": "stdout",
     "output_type": "stream",
     "text": [
      "There are [294] questions.\n"
     ]
    }
   ],
   "source": [
    "question_count = 0\n",
    "\n",
    "for a_choice_sheet in choises_set_1_sheet_names:\n",
    "    \n",
    "    # read a damn sheet\n",
    "    a_choice_sheet = choices_set_1_xl.parse(a_choice_sheet)\n",
    "\n",
    "    # add them to the damn list\n",
    "    question_count += a_choice_sheet.shape[0]\n",
    "\n",
    "print('There are [{ques_count}] questions.'.format(ques_count=question_count))"
   ]
  },
  {
   "cell_type": "code",
   "execution_count": 25,
   "id": "4b5690a1",
   "metadata": {},
   "outputs": [],
   "source": [
    "unwanted_opinions = [\"kirtir@wsu.edu\"]"
   ]
  },
  {
   "cell_type": "code",
   "execution_count": 26,
   "id": "c177c5fe",
   "metadata": {},
   "outputs": [
    {
     "data": {
      "text/html": [
       "<div>\n",
       "<style scoped>\n",
       "    .dataframe tbody tr th:only-of-type {\n",
       "        vertical-align: middle;\n",
       "    }\n",
       "\n",
       "    .dataframe tbody tr th {\n",
       "        vertical-align: top;\n",
       "    }\n",
       "\n",
       "    .dataframe thead th {\n",
       "        text-align: right;\n",
       "    }\n",
       "</style>\n",
       "<table border=\"1\" class=\"dataframe\">\n",
       "  <thead>\n",
       "    <tr style=\"text-align: right;\">\n",
       "      <th></th>\n",
       "      <th>Timestamp</th>\n",
       "      <th>Email Address</th>\n",
       "      <th>QUESTION 1 : How would  you classify? \\n Ignore any late-fall/winter signatures such as fall planting of a crop, winter cover crops, or volunteers/weeds. \\n http://www.google.com/maps/place/46.03408928,-118.6901155/@46.03408928,-118.6901155,16z/data=!3m1!1e3 [Choose one option: ]</th>\n",
       "      <th>Discuss as a full group?</th>\n",
       "      <th>Comments</th>\n",
       "      <th>QUESTION 2 : How would  you classify? \\n Ignore any late-fall/winter signatures such as fall planting of a crop, winter cover crops, or volunteers/weeds. \\n http://www.google.com/maps/place/46.0291209,-118.73977856/@46.0291209,-118.73977856,16z/data=!3m1!1e3 [Choose one option: ]</th>\n",
       "      <th>Discuss as a full group?.1</th>\n",
       "      <th>Comments.1</th>\n",
       "      <th>QUESTION 3 : How would  you classify? \\n Ignore any late-fall/winter signatures such as fall planting of a crop, winter cover crops, or volunteers/weeds. \\n http://www.google.com/maps/place/46.00323746,-118.6146822/@46.00323746,-118.6146822,16z/data=!3m1!1e3 [Choose one option: ]</th>\n",
       "      <th>Discuss as a full group?.2</th>\n",
       "      <th>...</th>\n",
       "      <th>Comments.40</th>\n",
       "      <th>QUESTION 42 : How would  you classify? \\n Ignore any late-fall/winter signatures such as fall planting of a crop, winter cover crops, or volunteers/weeds. \\n http://www.google.com/maps/place/47.1957135,-119.93708271/@47.1957135,-119.93708271,16z/data=!3m1!1e3 [Choose one option: ]</th>\n",
       "      <th>Discuss as a full group?.41</th>\n",
       "      <th>Comments.41</th>\n",
       "      <th>QUESTION 43 : How would  you classify? \\n Ignore any late-fall/winter signatures such as fall planting of a crop, winter cover crops, or volunteers/weeds. \\n http://www.google.com/maps/place/46.04293613,-118.55966589/@46.04293613,-118.55966589,16z/data=!3m1!1e3 [Choose one option: ]</th>\n",
       "      <th>Discuss as a full group?.42</th>\n",
       "      <th>Comments.42</th>\n",
       "      <th>QUESTION 44 : How would  you classify? \\n Ignore any late-fall/winter signatures such as fall planting of a crop, winter cover crops, or volunteers/weeds. \\n http://www.google.com/maps/place/46.03868929,-118.49344599/@46.03868929,-118.49344599,16z/data=!3m1!1e3 [Choose one option: ]</th>\n",
       "      <th>Discuss as a full group?.43</th>\n",
       "      <th>Comments.43</th>\n",
       "    </tr>\n",
       "  </thead>\n",
       "  <tbody>\n",
       "    <tr>\n",
       "      <th>0</th>\n",
       "      <td>2022-02-02 11:57:26.602</td>\n",
       "      <td>andrew.mcguire@wsu.edu</td>\n",
       "      <td>Single Crop</td>\n",
       "      <td>NaN</td>\n",
       "      <td>NaN</td>\n",
       "      <td>Single Crop</td>\n",
       "      <td>NaN</td>\n",
       "      <td>NaN</td>\n",
       "      <td>Single Crop</td>\n",
       "      <td>NaN</td>\n",
       "      <td>...</td>\n",
       "      <td>NaN</td>\n",
       "      <td>Single Crop</td>\n",
       "      <td>NaN</td>\n",
       "      <td>NaN</td>\n",
       "      <td>Single Crop</td>\n",
       "      <td>NaN</td>\n",
       "      <td>NaN</td>\n",
       "      <td>Single Crop</td>\n",
       "      <td>NaN</td>\n",
       "      <td>NaN</td>\n",
       "    </tr>\n",
       "    <tr>\n",
       "      <th>1</th>\n",
       "      <td>2022-02-03 15:47:12.553</td>\n",
       "      <td>pbeale@agr.wa.gov</td>\n",
       "      <td>Single Crop</td>\n",
       "      <td>NaN</td>\n",
       "      <td>NaN</td>\n",
       "      <td>Single Crop</td>\n",
       "      <td>NaN</td>\n",
       "      <td>NaN</td>\n",
       "      <td>Single Crop</td>\n",
       "      <td>NaN</td>\n",
       "      <td>...</td>\n",
       "      <td>NaN</td>\n",
       "      <td>Double Crop</td>\n",
       "      <td>NaN</td>\n",
       "      <td>This looks like late buckwheat double cropped ...</td>\n",
       "      <td>Single Crop</td>\n",
       "      <td>NaN</td>\n",
       "      <td>NaN</td>\n",
       "      <td>Single Crop</td>\n",
       "      <td>NaN</td>\n",
       "      <td>NaN</td>\n",
       "    </tr>\n",
       "    <tr>\n",
       "      <th>2</th>\n",
       "      <td>2022-02-04 10:36:02.818</td>\n",
       "      <td>twaters@wsu.edu</td>\n",
       "      <td>Single Crop</td>\n",
       "      <td>NaN</td>\n",
       "      <td>NaN</td>\n",
       "      <td>Single Crop</td>\n",
       "      <td>NaN</td>\n",
       "      <td>NaN</td>\n",
       "      <td>Single Crop</td>\n",
       "      <td>NaN</td>\n",
       "      <td>...</td>\n",
       "      <td>NaN</td>\n",
       "      <td>Single Crop</td>\n",
       "      <td>NaN</td>\n",
       "      <td>NaN</td>\n",
       "      <td>Single Crop</td>\n",
       "      <td>NaN</td>\n",
       "      <td>NaN</td>\n",
       "      <td>Single Crop</td>\n",
       "      <td>NaN</td>\n",
       "      <td>NaN</td>\n",
       "    </tr>\n",
       "  </tbody>\n",
       "</table>\n",
       "<p>3 rows × 134 columns</p>\n",
       "</div>"
      ],
      "text/plain": [
       "                Timestamp           Email Address  \\\n",
       "0 2022-02-02 11:57:26.602  andrew.mcguire@wsu.edu   \n",
       "1 2022-02-03 15:47:12.553       pbeale@agr.wa.gov   \n",
       "2 2022-02-04 10:36:02.818         twaters@wsu.edu   \n",
       "\n",
       "  QUESTION 1 : How would  you classify? \\n Ignore any late-fall/winter signatures such as fall planting of a crop, winter cover crops, or volunteers/weeds. \\n http://www.google.com/maps/place/46.03408928,-118.6901155/@46.03408928,-118.6901155,16z/data=!3m1!1e3 [Choose one option: ]  \\\n",
       "0                                        Single Crop                                                                                                                                                                                                                                         \n",
       "1                                        Single Crop                                                                                                                                                                                                                                         \n",
       "2                                        Single Crop                                                                                                                                                                                                                                         \n",
       "\n",
       "   Discuss as a full group?  Comments  \\\n",
       "0                       NaN       NaN   \n",
       "1                       NaN       NaN   \n",
       "2                       NaN       NaN   \n",
       "\n",
       "  QUESTION 2 : How would  you classify? \\n Ignore any late-fall/winter signatures such as fall planting of a crop, winter cover crops, or volunteers/weeds. \\n http://www.google.com/maps/place/46.0291209,-118.73977856/@46.0291209,-118.73977856,16z/data=!3m1!1e3 [Choose one option: ]  \\\n",
       "0                                        Single Crop                                                                                                                                                                                                                                         \n",
       "1                                        Single Crop                                                                                                                                                                                                                                         \n",
       "2                                        Single Crop                                                                                                                                                                                                                                         \n",
       "\n",
       "   Discuss as a full group?.1  Comments.1  \\\n",
       "0                         NaN         NaN   \n",
       "1                         NaN         NaN   \n",
       "2                         NaN         NaN   \n",
       "\n",
       "  QUESTION 3 : How would  you classify? \\n Ignore any late-fall/winter signatures such as fall planting of a crop, winter cover crops, or volunteers/weeds. \\n http://www.google.com/maps/place/46.00323746,-118.6146822/@46.00323746,-118.6146822,16z/data=!3m1!1e3 [Choose one option: ]  \\\n",
       "0                                        Single Crop                                                                                                                                                                                                                                         \n",
       "1                                        Single Crop                                                                                                                                                                                                                                         \n",
       "2                                        Single Crop                                                                                                                                                                                                                                         \n",
       "\n",
       "   Discuss as a full group?.2  ...  Comments.40  \\\n",
       "0                         NaN  ...          NaN   \n",
       "1                         NaN  ...          NaN   \n",
       "2                         NaN  ...          NaN   \n",
       "\n",
       "  QUESTION 42 : How would  you classify? \\n Ignore any late-fall/winter signatures such as fall planting of a crop, winter cover crops, or volunteers/weeds. \\n http://www.google.com/maps/place/47.1957135,-119.93708271/@47.1957135,-119.93708271,16z/data=!3m1!1e3 [Choose one option: ]  \\\n",
       "0                                        Single Crop                                                                                                                                                                                                                                          \n",
       "1                                        Double Crop                                                                                                                                                                                                                                          \n",
       "2                                        Single Crop                                                                                                                                                                                                                                          \n",
       "\n",
       "   Discuss as a full group?.41  \\\n",
       "0                          NaN   \n",
       "1                          NaN   \n",
       "2                          NaN   \n",
       "\n",
       "                                         Comments.41  \\\n",
       "0                                                NaN   \n",
       "1  This looks like late buckwheat double cropped ...   \n",
       "2                                                NaN   \n",
       "\n",
       "  QUESTION 43 : How would  you classify? \\n Ignore any late-fall/winter signatures such as fall planting of a crop, winter cover crops, or volunteers/weeds. \\n http://www.google.com/maps/place/46.04293613,-118.55966589/@46.04293613,-118.55966589,16z/data=!3m1!1e3 [Choose one option: ]  \\\n",
       "0                                        Single Crop                                                                                                                                                                                                                                            \n",
       "1                                        Single Crop                                                                                                                                                                                                                                            \n",
       "2                                        Single Crop                                                                                                                                                                                                                                            \n",
       "\n",
       "   Discuss as a full group?.42  Comments.42  \\\n",
       "0                          NaN          NaN   \n",
       "1                          NaN          NaN   \n",
       "2                          NaN          NaN   \n",
       "\n",
       "  QUESTION 44 : How would  you classify? \\n Ignore any late-fall/winter signatures such as fall planting of a crop, winter cover crops, or volunteers/weeds. \\n http://www.google.com/maps/place/46.03868929,-118.49344599/@46.03868929,-118.49344599,16z/data=!3m1!1e3 [Choose one option: ]  \\\n",
       "0                                        Single Crop                                                                                                                                                                                                                                            \n",
       "1                                        Single Crop                                                                                                                                                                                                                                            \n",
       "2                                        Single Crop                                                                                                                                                                                                                                            \n",
       "\n",
       "   Discuss as a full group?.43  Comments.43  \n",
       "0                          NaN          NaN  \n",
       "1                          NaN          NaN  \n",
       "2                          NaN          NaN  \n",
       "\n",
       "[3 rows x 134 columns]"
      ]
     },
     "execution_count": 26,
     "metadata": {},
     "output_type": "execute_result"
    }
   ],
   "source": [
    "a_response_sheet"
   ]
  },
  {
   "cell_type": "code",
   "execution_count": 61,
   "id": "cc0a9043",
   "metadata": {},
   "outputs": [],
   "source": [
    "## Define the damn output dataframe\n",
    "\n",
    "vote_df = pd.DataFrame(columns=['Form', 'Question', 'opinion_count', 'ID', \n",
    "                                \"Perry\", \"Andrew\", \"Tim\", \"Kirti\"], \n",
    "                         index=range(question_count))\n",
    "vote_df.head(1)\n",
    "curr_row = 0\n",
    "\n",
    "extended_choices = pd.DataFrame()\n",
    "\n",
    "###### populate the output datafrme\n",
    "\n",
    "for response_sheet_name in response_set_1_sheet_names:\n",
    "    \n",
    "    # pick up the numeric part of the sheet names from google forms sheets\n",
    "    # this is the form number as well.\n",
    "    sheet_numeric_part = [s for s in response_sheet_name.split()[-1] if s.isdigit()]\n",
    "    sheet_numeric_part = \"\".join(sheet_numeric_part)\n",
    "    \n",
    "    # form sheet names of choices excel sheets\n",
    "    choise_sheet_name = \"extended_\" + sheet_numeric_part\n",
    "    \n",
    "    a_choice_sheet = choices_set_1_xl.parse(choise_sheet_name)\n",
    "    a_response_sheet = response_set_1_xl.parse(response_sheet_name)\n",
    "    \n",
    "    extended_choices = pd.concat([extended_choices, a_choice_sheet])\n",
    "    #\n",
    "    # drop unwanted opinions, i.e. keep experts opinions\n",
    "    #\n",
    "    # a_response_sheet = a_response_sheet[~(a_response_sheet[\"Email Address\"].isin(unwanted_opinions))].copy()\n",
    "    \n",
    "    for a_col_name in a_response_sheet.columns:\n",
    "        if \"QUESTION\" in a_col_name:\n",
    "            question_number = a_col_name.split()[1]\n",
    "            \n",
    "            vote_df.loc[curr_row, \"Form\"] = sheet_numeric_part\n",
    "            vote_df.loc[curr_row, \"Question\"] = question_number\n",
    "            vote_df.loc[curr_row, \"opinion_count\"] = len(a_response_sheet[a_col_name].unique())\n",
    "            vote_df.loc[curr_row, \"ID\"] = a_choice_sheet.loc[int(question_number)-1, \"ID\"]\n",
    "            \n",
    "             \n",
    "            vote_df.loc[curr_row, \"Perry\"] = a_response_sheet[a_response_sheet[\"Email Address\"] == \\\n",
    "                                                                 \"pbeale@agr.wa.gov\"][a_col_name].values[0]\n",
    "            \n",
    "            vote_df.loc[curr_row, \"Andrew\"] = a_response_sheet[a_response_sheet[\"Email Address\"] == \\\n",
    "                                                                 \"andrew.mcguire@wsu.edu\"][a_col_name].values[0]\n",
    "            \n",
    "            vote_df.loc[curr_row, \"Tim\"] = a_response_sheet[a_response_sheet[\"Email Address\"] == \\\n",
    "                                                                 \"twaters@wsu.edu\"][a_col_name].values[0]\n",
    "            \n",
    "            if \"kirtir@wsu.edu\" in list(a_response_sheet['Email Address']):\n",
    "                vote_df.loc[curr_row, \"Kirti\"] = a_response_sheet[a_response_sheet[\"Email Address\"] == \\\n",
    "                                                                 \"kirtir@wsu.edu\"][a_col_name].values[0]\n",
    "            \n",
    "            curr_row += 1\n",
    "            \n",
    "            \n",
    "out_name = perry_dir + \"set1_all_votes.csv\"\n",
    "vote_df.to_csv(out_name, index = False)"
   ]
  },
  {
   "cell_type": "code",
   "execution_count": 65,
   "id": "719cada7",
   "metadata": {},
   "outputs": [
    {
     "data": {
      "text/plain": [
       "array([nan, 'Single Crop', 'Unsure', 'Double Crop', 'Mustard Crop'],\n",
       "      dtype=object)"
      ]
     },
     "execution_count": 65,
     "metadata": {},
     "output_type": "execute_result"
    }
   ],
   "source": [
    "vote_df.Kirti.unique()"
   ]
  },
  {
   "cell_type": "code",
   "execution_count": 59,
   "id": "2eec694c",
   "metadata": {},
   "outputs": [],
   "source": [
    "## Define the damn output dataframe\n",
    "\n",
    "vote_df = pd.DataFrame(columns=['Form', 'Question', 'opinion_count', 'ID', \"Perry\", \"Andrew\", \"Tim\"], \n",
    "                       index=range(question_count))\n",
    "vote_df.head(1)\n",
    "curr_row = 0\n",
    "\n",
    "extended_choices = pd.DataFrame()\n",
    "\n",
    "###### populate the output datafrme\n",
    "\n",
    "for response_sheet_name in response_set_1_sheet_names:\n",
    "    \n",
    "    # pick up the numeric part of the sheet names from google forms sheets\n",
    "    # this is the form number as well.\n",
    "    sheet_numeric_part = [s for s in response_sheet_name.split()[-1] if s.isdigit()]\n",
    "    sheet_numeric_part = \"\".join(sheet_numeric_part)\n",
    "    \n",
    "    # form sheet names of choices excel sheets\n",
    "    choise_sheet_name = \"extended_\" + sheet_numeric_part\n",
    "    \n",
    "    a_choice_sheet = choices_set_1_xl.parse(choise_sheet_name)\n",
    "    a_response_sheet = response_set_1_xl.parse(response_sheet_name)\n",
    "    \n",
    "    extended_choices = pd.concat([extended_choices, a_choice_sheet])\n",
    "    #\n",
    "    # drop unwanted opinions, i.e. keep experts opinions\n",
    "    #\n",
    "    a_response_sheet = a_response_sheet[~(a_response_sheet[\"Email Address\"].isin(unwanted_opinions))].copy()\n",
    "    \n",
    "    for a_col_name in a_response_sheet.columns:\n",
    "        if \"QUESTION\" in a_col_name:\n",
    "            question_number = a_col_name.split()[1]\n",
    "            \n",
    "            vote_df.loc[curr_row, \"Form\"] = sheet_numeric_part\n",
    "            vote_df.loc[curr_row, \"Question\"] = question_number\n",
    "            vote_df.loc[curr_row, \"opinion_count\"] = len(a_response_sheet[a_col_name].unique())\n",
    "            vote_df.loc[curr_row, \"ID\"] = a_choice_sheet.loc[int(question_number)-1, \"ID\"]\n",
    "            \n",
    "             \n",
    "            vote_df.loc[curr_row, \"Perry\"] = a_response_sheet[a_response_sheet[\"Email Address\"] == \\\n",
    "                                                              \"pbeale@agr.wa.gov\"][a_col_name].values[0]\n",
    "            \n",
    "            vote_df.loc[curr_row, \"Andrew\"] = a_response_sheet[a_response_sheet[\"Email Address\"] == \\\n",
    "                                                               \"andrew.mcguire@wsu.edu\"][a_col_name].values[0]\n",
    "            \n",
    "            vote_df.loc[curr_row, \"Tim\"] = a_response_sheet[a_response_sheet[\"Email Address\"] == \\\n",
    "                                                            \"twaters@wsu.edu\"][a_col_name].values[0]\n",
    "            \n",
    "            curr_row += 1"
   ]
  },
  {
   "cell_type": "code",
   "execution_count": 14,
   "id": "268e817e",
   "metadata": {},
   "outputs": [
    {
     "data": {
      "text/html": [
       "<div>\n",
       "<style scoped>\n",
       "    .dataframe tbody tr th:only-of-type {\n",
       "        vertical-align: middle;\n",
       "    }\n",
       "\n",
       "    .dataframe tbody tr th {\n",
       "        vertical-align: top;\n",
       "    }\n",
       "\n",
       "    .dataframe thead th {\n",
       "        text-align: right;\n",
       "    }\n",
       "</style>\n",
       "<table border=\"1\" class=\"dataframe\">\n",
       "  <thead>\n",
       "    <tr style=\"text-align: right;\">\n",
       "      <th></th>\n",
       "      <th>Form</th>\n",
       "      <th>Question</th>\n",
       "      <th>opinion_count</th>\n",
       "      <th>ID</th>\n",
       "      <th>Perry</th>\n",
       "      <th>Andrew</th>\n",
       "      <th>Tim</th>\n",
       "      <th>Question_in_set</th>\n",
       "      <th>Question_overall</th>\n",
       "      <th>NDVI_TS_Name</th>\n",
       "      <th>...</th>\n",
       "      <th>TOA_RGB</th>\n",
       "      <th>latitude</th>\n",
       "      <th>longitude</th>\n",
       "      <th>CropTyp</th>\n",
       "      <th>Irrigtn</th>\n",
       "      <th>DataSrc</th>\n",
       "      <th>Acres</th>\n",
       "      <th>ExctAcr</th>\n",
       "      <th>LstSrvD</th>\n",
       "      <th>county</th>\n",
       "    </tr>\n",
       "  </thead>\n",
       "  <tbody>\n",
       "    <tr>\n",
       "      <th>0</th>\n",
       "      <td>6</td>\n",
       "      <td>1</td>\n",
       "      <td>1</td>\n",
       "      <td>157415_WSDA_SF_2015</td>\n",
       "      <td>Single Crop</td>\n",
       "      <td>Single Crop</td>\n",
       "      <td>Single Crop</td>\n",
       "      <td>1</td>\n",
       "      <td>251</td>\n",
       "      <td>Walla2015_157415_WSDA_SF_2015.png</td>\n",
       "      <td>...</td>\n",
       "      <td>157415_WSDA_SF_2015_46.03408928_-118.6901155_T...</td>\n",
       "      <td>46.034089</td>\n",
       "      <td>-118.690116</td>\n",
       "      <td>alfalfa seed</td>\n",
       "      <td>sprinkler</td>\n",
       "      <td>wsda</td>\n",
       "      <td>28</td>\n",
       "      <td>27.675520</td>\n",
       "      <td>2015/06/04 00:00:00</td>\n",
       "      <td>Walla Walla</td>\n",
       "    </tr>\n",
       "    <tr>\n",
       "      <th>1</th>\n",
       "      <td>6</td>\n",
       "      <td>2</td>\n",
       "      <td>1</td>\n",
       "      <td>155601_WSDA_SF_2015</td>\n",
       "      <td>Single Crop</td>\n",
       "      <td>Single Crop</td>\n",
       "      <td>Single Crop</td>\n",
       "      <td>2</td>\n",
       "      <td>252</td>\n",
       "      <td>Walla2015_155601_WSDA_SF_2015.png</td>\n",
       "      <td>...</td>\n",
       "      <td>155601_WSDA_SF_2015_46.0291209_-118.73977856_T...</td>\n",
       "      <td>46.029121</td>\n",
       "      <td>-118.739779</td>\n",
       "      <td>alfalfa seed</td>\n",
       "      <td>sprinkler</td>\n",
       "      <td>wsda</td>\n",
       "      <td>111</td>\n",
       "      <td>110.768754</td>\n",
       "      <td>2015/06/04 00:00:00</td>\n",
       "      <td>Walla Walla</td>\n",
       "    </tr>\n",
       "  </tbody>\n",
       "</table>\n",
       "<p>2 rows × 21 columns</p>\n",
       "</div>"
      ],
      "text/plain": [
       "  Form Question opinion_count                   ID        Perry       Andrew  \\\n",
       "0    6        1             1  157415_WSDA_SF_2015  Single Crop  Single Crop   \n",
       "1    6        2             1  155601_WSDA_SF_2015  Single Crop  Single Crop   \n",
       "\n",
       "           Tim  Question_in_set  Question_overall  \\\n",
       "0  Single Crop                1               251   \n",
       "1  Single Crop                2               252   \n",
       "\n",
       "                        NDVI_TS_Name  ...  \\\n",
       "0  Walla2015_157415_WSDA_SF_2015.png  ...   \n",
       "1  Walla2015_155601_WSDA_SF_2015.png  ...   \n",
       "\n",
       "                                             TOA_RGB   latitude   longitude  \\\n",
       "0  157415_WSDA_SF_2015_46.03408928_-118.6901155_T...  46.034089 -118.690116   \n",
       "1  155601_WSDA_SF_2015_46.0291209_-118.73977856_T...  46.029121 -118.739779   \n",
       "\n",
       "        CropTyp    Irrigtn DataSrc Acres     ExctAcr              LstSrvD  \\\n",
       "0  alfalfa seed  sprinkler    wsda    28   27.675520  2015/06/04 00:00:00   \n",
       "1  alfalfa seed  sprinkler    wsda   111  110.768754  2015/06/04 00:00:00   \n",
       "\n",
       "        county  \n",
       "0  Walla Walla  \n",
       "1  Walla Walla  \n",
       "\n",
       "[2 rows x 21 columns]"
      ]
     },
     "execution_count": 14,
     "metadata": {},
     "output_type": "execute_result"
    }
   ],
   "source": [
    "extended_output = pd.merge(vote_df, extended_choices, on=['ID'], how='left')\n",
    "extended_output.head(2)\n"
   ]
  },
  {
   "cell_type": "code",
   "execution_count": 15,
   "id": "8008a738",
   "metadata": {},
   "outputs": [
    {
     "data": {
      "text/plain": [
       "0"
      ]
     },
     "execution_count": 15,
     "metadata": {},
     "output_type": "execute_result"
    }
   ],
   "source": [
    "# check of the question numbers are correct.\n",
    "sum(extended_output['Question'].astype(int) - extended_output['Question_in_set'])"
   ]
  },
  {
   "cell_type": "code",
   "execution_count": 16,
   "id": "7ae0ec3f",
   "metadata": {},
   "outputs": [
    {
     "data": {
      "text/plain": [
       "(120, 21)"
      ]
     },
     "execution_count": 16,
     "metadata": {},
     "output_type": "execute_result"
    }
   ],
   "source": [
    "# Total number of disagreements\n",
    "\n",
    "disagreement_table = extended_output[extended_output.opinion_count != 1].copy()\n",
    "disagreement_table.shape"
   ]
  },
  {
   "cell_type": "code",
   "execution_count": 17,
   "id": "136f679c",
   "metadata": {},
   "outputs": [],
   "source": [
    "disagreement_table = disagreement_table[disagreement_table.CropTyp != \"grass hay\"].copy()"
   ]
  },
  {
   "cell_type": "code",
   "execution_count": 18,
   "id": "4c83ceb9",
   "metadata": {},
   "outputs": [
    {
     "data": {
      "text/plain": [
       "(118, 21)"
      ]
     },
     "execution_count": 18,
     "metadata": {},
     "output_type": "execute_result"
    }
   ],
   "source": [
    "disagreement_table.shape"
   ]
  },
  {
   "cell_type": "code",
   "execution_count": 19,
   "id": "30a1b1a9",
   "metadata": {},
   "outputs": [
    {
     "ename": "KeyError",
     "evalue": "'opinion_count'",
     "output_type": "error",
     "traceback": [
      "\u001b[0;31m---------------------------------------------------------------------------\u001b[0m",
      "\u001b[0;31mKeyError\u001b[0m                                  Traceback (most recent call last)",
      "\u001b[0;32m/var/folders/5w/0pd9s9tn3j3cys4_t0d9k5rr0000gn/T/ipykernel_53319/4227906692.py\u001b[0m in \u001b[0;36m<module>\u001b[0;34m\u001b[0m\n\u001b[1;32m      2\u001b[0m \u001b[0mdisagreement_table_grouped\u001b[0m \u001b[0;34m=\u001b[0m \u001b[0mdisagreement_table\u001b[0m\u001b[0;34m.\u001b[0m\u001b[0mgroupby\u001b[0m\u001b[0;34m(\u001b[0m\u001b[0;34m[\u001b[0m\u001b[0;34m'CropTyp'\u001b[0m\u001b[0;34m,\u001b[0m \u001b[0;34m'opinion_count'\u001b[0m\u001b[0;34m]\u001b[0m\u001b[0;34m)\u001b[0m\u001b[0;34m.\u001b[0m\u001b[0mcount\u001b[0m\u001b[0;34m(\u001b[0m\u001b[0;34m)\u001b[0m\u001b[0;34m\u001b[0m\u001b[0;34m\u001b[0m\u001b[0m\n\u001b[1;32m      3\u001b[0m \u001b[0mdisagreement_table_grouped\u001b[0m\u001b[0;34m.\u001b[0m\u001b[0mreset_index\u001b[0m\u001b[0;34m(\u001b[0m\u001b[0minplace\u001b[0m\u001b[0;34m=\u001b[0m\u001b[0;32mTrue\u001b[0m\u001b[0;34m,\u001b[0m \u001b[0mdrop\u001b[0m\u001b[0;34m=\u001b[0m\u001b[0;32mTrue\u001b[0m\u001b[0;34m)\u001b[0m\u001b[0;34m\u001b[0m\u001b[0;34m\u001b[0m\u001b[0m\n\u001b[0;32m----> 4\u001b[0;31m disagreement_table_grouped.sort_values(by=[\"opinion_count\", 'ID', \"CropTyp\"],\n\u001b[0m\u001b[1;32m      5\u001b[0m                                     \u001b[0mascending\u001b[0m \u001b[0;34m=\u001b[0m \u001b[0;34m[\u001b[0m\u001b[0;32mFalse\u001b[0m\u001b[0;34m,\u001b[0m \u001b[0;32mFalse\u001b[0m\u001b[0;34m,\u001b[0m \u001b[0;32mTrue\u001b[0m\u001b[0;34m]\u001b[0m\u001b[0;34m,\u001b[0m\u001b[0;34m\u001b[0m\u001b[0;34m\u001b[0m\u001b[0m\n\u001b[1;32m      6\u001b[0m                                     inplace=True)\n",
      "\u001b[0;32m/opt/anaconda3/lib/python3.9/site-packages/pandas/util/_decorators.py\u001b[0m in \u001b[0;36mwrapper\u001b[0;34m(*args, **kwargs)\u001b[0m\n\u001b[1;32m    309\u001b[0m                     \u001b[0mstacklevel\u001b[0m\u001b[0;34m=\u001b[0m\u001b[0mstacklevel\u001b[0m\u001b[0;34m,\u001b[0m\u001b[0;34m\u001b[0m\u001b[0;34m\u001b[0m\u001b[0m\n\u001b[1;32m    310\u001b[0m                 )\n\u001b[0;32m--> 311\u001b[0;31m             \u001b[0;32mreturn\u001b[0m \u001b[0mfunc\u001b[0m\u001b[0;34m(\u001b[0m\u001b[0;34m*\u001b[0m\u001b[0margs\u001b[0m\u001b[0;34m,\u001b[0m \u001b[0;34m**\u001b[0m\u001b[0mkwargs\u001b[0m\u001b[0;34m)\u001b[0m\u001b[0;34m\u001b[0m\u001b[0;34m\u001b[0m\u001b[0m\n\u001b[0m\u001b[1;32m    312\u001b[0m \u001b[0;34m\u001b[0m\u001b[0m\n\u001b[1;32m    313\u001b[0m         \u001b[0;32mreturn\u001b[0m \u001b[0mwrapper\u001b[0m\u001b[0;34m\u001b[0m\u001b[0;34m\u001b[0m\u001b[0m\n",
      "\u001b[0;32m/opt/anaconda3/lib/python3.9/site-packages/pandas/core/frame.py\u001b[0m in \u001b[0;36msort_values\u001b[0;34m(self, by, axis, ascending, inplace, kind, na_position, ignore_index, key)\u001b[0m\n\u001b[1;32m   6240\u001b[0m         \u001b[0;32mif\u001b[0m \u001b[0mlen\u001b[0m\u001b[0;34m(\u001b[0m\u001b[0mby\u001b[0m\u001b[0;34m)\u001b[0m \u001b[0;34m>\u001b[0m \u001b[0;36m1\u001b[0m\u001b[0;34m:\u001b[0m\u001b[0;34m\u001b[0m\u001b[0;34m\u001b[0m\u001b[0m\n\u001b[1;32m   6241\u001b[0m \u001b[0;34m\u001b[0m\u001b[0m\n\u001b[0;32m-> 6242\u001b[0;31m             \u001b[0mkeys\u001b[0m \u001b[0;34m=\u001b[0m \u001b[0;34m[\u001b[0m\u001b[0mself\u001b[0m\u001b[0;34m.\u001b[0m\u001b[0m_get_label_or_level_values\u001b[0m\u001b[0;34m(\u001b[0m\u001b[0mx\u001b[0m\u001b[0;34m,\u001b[0m \u001b[0maxis\u001b[0m\u001b[0;34m=\u001b[0m\u001b[0maxis\u001b[0m\u001b[0;34m)\u001b[0m \u001b[0;32mfor\u001b[0m \u001b[0mx\u001b[0m \u001b[0;32min\u001b[0m \u001b[0mby\u001b[0m\u001b[0;34m]\u001b[0m\u001b[0;34m\u001b[0m\u001b[0;34m\u001b[0m\u001b[0m\n\u001b[0m\u001b[1;32m   6243\u001b[0m \u001b[0;34m\u001b[0m\u001b[0m\n\u001b[1;32m   6244\u001b[0m             \u001b[0;31m# need to rewrap columns in Series to apply key function\u001b[0m\u001b[0;34m\u001b[0m\u001b[0;34m\u001b[0m\u001b[0m\n",
      "\u001b[0;32m/opt/anaconda3/lib/python3.9/site-packages/pandas/core/frame.py\u001b[0m in \u001b[0;36m<listcomp>\u001b[0;34m(.0)\u001b[0m\n\u001b[1;32m   6240\u001b[0m         \u001b[0;32mif\u001b[0m \u001b[0mlen\u001b[0m\u001b[0;34m(\u001b[0m\u001b[0mby\u001b[0m\u001b[0;34m)\u001b[0m \u001b[0;34m>\u001b[0m \u001b[0;36m1\u001b[0m\u001b[0;34m:\u001b[0m\u001b[0;34m\u001b[0m\u001b[0;34m\u001b[0m\u001b[0m\n\u001b[1;32m   6241\u001b[0m \u001b[0;34m\u001b[0m\u001b[0m\n\u001b[0;32m-> 6242\u001b[0;31m             \u001b[0mkeys\u001b[0m \u001b[0;34m=\u001b[0m \u001b[0;34m[\u001b[0m\u001b[0mself\u001b[0m\u001b[0;34m.\u001b[0m\u001b[0m_get_label_or_level_values\u001b[0m\u001b[0;34m(\u001b[0m\u001b[0mx\u001b[0m\u001b[0;34m,\u001b[0m \u001b[0maxis\u001b[0m\u001b[0;34m=\u001b[0m\u001b[0maxis\u001b[0m\u001b[0;34m)\u001b[0m \u001b[0;32mfor\u001b[0m \u001b[0mx\u001b[0m \u001b[0;32min\u001b[0m \u001b[0mby\u001b[0m\u001b[0;34m]\u001b[0m\u001b[0;34m\u001b[0m\u001b[0;34m\u001b[0m\u001b[0m\n\u001b[0m\u001b[1;32m   6243\u001b[0m \u001b[0;34m\u001b[0m\u001b[0m\n\u001b[1;32m   6244\u001b[0m             \u001b[0;31m# need to rewrap columns in Series to apply key function\u001b[0m\u001b[0;34m\u001b[0m\u001b[0;34m\u001b[0m\u001b[0m\n",
      "\u001b[0;32m/opt/anaconda3/lib/python3.9/site-packages/pandas/core/generic.py\u001b[0m in \u001b[0;36m_get_label_or_level_values\u001b[0;34m(self, key, axis)\u001b[0m\n\u001b[1;32m   1777\u001b[0m             \u001b[0mvalues\u001b[0m \u001b[0;34m=\u001b[0m \u001b[0mself\u001b[0m\u001b[0;34m.\u001b[0m\u001b[0maxes\u001b[0m\u001b[0;34m[\u001b[0m\u001b[0maxis\u001b[0m\u001b[0;34m]\u001b[0m\u001b[0;34m.\u001b[0m\u001b[0mget_level_values\u001b[0m\u001b[0;34m(\u001b[0m\u001b[0mkey\u001b[0m\u001b[0;34m)\u001b[0m\u001b[0;34m.\u001b[0m\u001b[0m_values\u001b[0m\u001b[0;34m\u001b[0m\u001b[0;34m\u001b[0m\u001b[0m\n\u001b[1;32m   1778\u001b[0m         \u001b[0;32melse\u001b[0m\u001b[0;34m:\u001b[0m\u001b[0;34m\u001b[0m\u001b[0;34m\u001b[0m\u001b[0m\n\u001b[0;32m-> 1779\u001b[0;31m             \u001b[0;32mraise\u001b[0m \u001b[0mKeyError\u001b[0m\u001b[0;34m(\u001b[0m\u001b[0mkey\u001b[0m\u001b[0;34m)\u001b[0m\u001b[0;34m\u001b[0m\u001b[0;34m\u001b[0m\u001b[0m\n\u001b[0m\u001b[1;32m   1780\u001b[0m \u001b[0;34m\u001b[0m\u001b[0m\n\u001b[1;32m   1781\u001b[0m         \u001b[0;31m# Check for duplicates\u001b[0m\u001b[0;34m\u001b[0m\u001b[0;34m\u001b[0m\u001b[0m\n",
      "\u001b[0;31mKeyError\u001b[0m: 'opinion_count'"
     ]
    }
   ],
   "source": [
    "disagreement_table.reset_index(inplace=True, drop=True)\n",
    "disagreement_table_grouped = disagreement_table.groupby(['CropTyp', 'opinion_count']).count()\n",
    "disagreement_table_grouped.reset_index(inplace=True, drop=True)\n",
    "disagreement_table_grouped.sort_values(by=[\"opinion_count\", 'ID', \"CropTyp\"],\n",
    "                                    ascending = [False, False, True],\n",
    "                                    inplace=True)\n",
    "\n",
    "print (list(disagreement_table_grouped[disagreement_table_grouped.opinion_count==3].CropTyp.unique()))"
   ]
  },
  {
   "cell_type": "code",
   "execution_count": null,
   "id": "3bce8a0f",
   "metadata": {},
   "outputs": [],
   "source": [
    "disagreement_table_grouped.head(6)"
   ]
  },
  {
   "cell_type": "code",
   "execution_count": null,
   "id": "92af8d41",
   "metadata": {},
   "outputs": [],
   "source": [
    "disagreement_table_grouped.shape"
   ]
  },
  {
   "cell_type": "markdown",
   "id": "665956ab",
   "metadata": {},
   "source": [
    "## Group by crop type and count number of disagreements"
   ]
  },
  {
   "cell_type": "code",
   "execution_count": null,
   "id": "905f6a02",
   "metadata": {},
   "outputs": [],
   "source": [
    "extended_output_grouped = extended_output.groupby(['CropTyp', 'opinion_count']).count()\n",
    "extended_output_grouped.reset_index(inplace=True, drop=True)\n",
    "extended_output_grouped.sort_values(by=['opinion_count', \"CropTyp\"],\n",
    "                                    ascending = [False, True],\n",
    "                                    inplace=True)\n",
    "\n",
    "extended_output_grouped.head(2)"
   ]
  },
  {
   "cell_type": "code",
   "execution_count": null,
   "id": "d5482957",
   "metadata": {},
   "outputs": [],
   "source": [
    "extended_output_grouped.shape"
   ]
  },
  {
   "cell_type": "code",
   "execution_count": null,
   "id": "a00d40b2",
   "metadata": {},
   "outputs": [],
   "source": [
    "print (list(extended_output_grouped[extended_output_grouped.opinion_count==3].CropTyp.unique()))"
   ]
  },
  {
   "cell_type": "code",
   "execution_count": null,
   "id": "ce899079",
   "metadata": {},
   "outputs": [],
   "source": [
    "extended_output_grouped = extended_output.groupby(['CropTyp', 'opinion_count']).count()\n",
    "extended_output_grouped.reset_index(inplace=True, drop=True)\n",
    "extended_output_grouped.sort_values(by=['ID', \"opinion_count\",  \"CropTyp\"],\n",
    "                                    ascending = [False, True, True],\n",
    "                                    inplace=True)\n",
    "\n",
    "print (list(extended_output_grouped[extended_output_grouped.opinion_count==3].CropTyp.unique()))"
   ]
  },
  {
   "cell_type": "code",
   "execution_count": null,
   "id": "8aa13bd6",
   "metadata": {},
   "outputs": [],
   "source": [
    "extended_output_grouped"
   ]
  },
  {
   "cell_type": "markdown",
   "id": "a874a5db",
   "metadata": {},
   "source": [
    "### Export disagreement table of set 1"
   ]
  },
  {
   "cell_type": "code",
   "execution_count": null,
   "id": "4bf5a9f4",
   "metadata": {},
   "outputs": [],
   "source": [
    "output_dir = perry_dir\n",
    "disagreement_table.sort_values(by=[\"ID\", 'opinion_count', \"CropTyp\"],\n",
    "                                    ascending = [False, False, True],\n",
    "                                    inplace=True)\n",
    "\n",
    "out_name = output_dir + \"disagreement_table_set_1_sortCropOpinion.csv\"\n",
    "disagreement_table.to_csv(out_name, index = False)\n",
    "\n",
    "\n",
    "disagreement_table.sort_values(by=[\"ID\", 'opinion_count', \"CropTyp\"],\n",
    "                                    ascending = [False, False, True],\n",
    "                                    inplace=True)\n",
    "\n",
    "\n",
    "out_name = output_dir + \"disagreement_table_set_1_sortOpinionCrop.csv\"\n",
    "disagreement_table.to_csv(out_name, index = False)\n",
    "\n",
    "\n",
    "##########\n",
    "########## all stats\n",
    "##########\n",
    "extended_output.sort_values(by=['opinion_count', \"CropTyp\"],\n",
    "                            ascending = [False, True],\n",
    "                            inplace=True)\n",
    "\n",
    "out_name = output_dir + \"set_1_experts_stats_extended_sortOpinionCrop.csv\"\n",
    "extended_output.to_csv(out_name, index = False)\n",
    "\n",
    "extended_output.sort_values(by=[\"CropTyp\", \"opinion_count\"],\n",
    "                            ascending = [True, False],\n",
    "                            inplace=True)\n",
    "\n",
    "out_name = output_dir + \"set_1_experts_stats_extended_sortCropOpinion.csv\"\n",
    "extended_output.to_csv(out_name, index = False)"
   ]
  },
  {
   "cell_type": "code",
   "execution_count": null,
   "id": "b15a34f3",
   "metadata": {},
   "outputs": [],
   "source": []
  },
  {
   "cell_type": "markdown",
   "id": "887a60e1",
   "metadata": {},
   "source": [
    "### Create a long PDF of fields where disagreements occur"
   ]
  },
  {
   "cell_type": "code",
   "execution_count": null,
   "id": "2724e81e",
   "metadata": {},
   "outputs": [],
   "source": [
    "import subprocess"
   ]
  },
  {
   "cell_type": "code",
   "execution_count": null,
   "id": "dea4b9ee",
   "metadata": {},
   "outputs": [],
   "source": [
    "os.getcwd()"
   ]
  },
  {
   "cell_type": "code",
   "execution_count": null,
   "id": "64b8d0c4",
   "metadata": {},
   "outputs": [],
   "source": [
    "\n",
    "# with open(\"sometexfile.tex\",\"w\") as file:\n",
    "#     file.write(\"\\\\documentclass{article}\\n\")\n",
    "#     file.write(\"\\\\begin{document}\\n\")\n",
    "#     file.write(\"Hello Palo Alto!\\n\")\n",
    "#     file.write(\"\\\\end{document}\\n\")\n",
    "\n"
   ]
  },
  {
   "cell_type": "code",
   "execution_count": null,
   "id": "dd078a0e",
   "metadata": {},
   "outputs": [],
   "source": [
    "# import subprocess, os\n",
    "\n",
    "# with open(\"sometexfile.tex\",\"w\") as file:\n",
    "#     file.write(\"\\\\documentclass{article}\\n\")\n",
    "#     file.write(\"\\\\begin{document}\\n\")\n",
    "#     file.write(\"Hello Palo Alto!\\n\")\n",
    "#     file.write(\"\\\\end{document}\\n\")\n",
    "    \n",
    "#     x = subprocess.call(\"pdflatex sometexfile.tex\")\n",
    "#     if x != 0:\n",
    "#         print(\"Exit-code not 0, check result!\")\n",
    "#     else:\n",
    "#         os.system(\"start sometexfile.pdf\")"
   ]
  },
  {
   "cell_type": "code",
   "execution_count": null,
   "id": "35509911",
   "metadata": {},
   "outputs": [],
   "source": [
    "disagreement_table.sort_values(by=[\"CropTyp\"],\n",
    "                                   ascending = [True],\n",
    "                                   inplace=True)\n",
    "disagreement_table.reset_index(inplace=True, drop=True)\n",
    "disagreement_table.head(2)"
   ]
  },
  {
   "cell_type": "code",
   "execution_count": null,
   "id": "1b07cc0d",
   "metadata": {},
   "outputs": [],
   "source": [
    "disagreement_table.sort_values(by=['CropTyp'],\n",
    "                           ascending = [True],\n",
    "                           inplace=True)\n",
    "disagreement_table.reset_index(inplace=True, drop=True)\n",
    "\n",
    "os.chdir('/Users/hn/Documents/01_research_data/NASA/Perry_and_Co/PDF_set_1_disagreement/')\n",
    "with open(\"PDF_set_1_disagreement.tex\",\"w\") as file:\n",
    "    file.write(\"\\\\documentclass{article}\\n\")\n",
    "\n",
    "    # file.write(\"\\\\usepackage[utf8]{inputenc}\\n\")\n",
    "    # file.write(\"\\\\usepackage[scaled=0.85]{beramono}\\n\")\n",
    "    # file.write(\"\\\\pdfoutput=24\\n\")\n",
    "    # file.write(\"\\\\usepackage{framed, color}\\n\")\n",
    "#    file.write(\"\\\\usepackage{etaremune}\\n\")\n",
    "\n",
    "    file.write(\"\\\\usepackage[osf,sc]{mathpazo}\\n\")\n",
    "    file.write(\"\\\\usepackage{color}\\n\")\n",
    "\n",
    "    file.write(\"\\\\usepackage{mathtools,hyperref}\\n\")\n",
    "    file.write(\"\\\\hypersetup{\\n\")\n",
    "    file.write(\"      colorlinks=true,\\n\")\n",
    "    file.write(\"      linkcolor=cyan,\\n\")\n",
    "    file.write(\"      filecolor=cyan,\\n\")\n",
    "    file.write(\"      urlcolor=mgreen,\\n\")\n",
    "    file.write(\"      citecolor=cyan}\\n\")\n",
    "\n",
    "#     file.write(\"\\\\definecolor{mgreen}{RGB}{25,147,100}\\n\")\n",
    "#     file.write(\"\\\\definecolor{shadecolor}{rgb}{1,.8,.1}\\n\")\n",
    "#     file.write(\"\\\\definecolor{shadecolor2}{RGB}{245,237,0}\\n\")\n",
    "#     file.write(\"\\\\definecolor{orange}{RGB}{255,137,20}\\n\")\n",
    "#     file.write(\"\\\\definecolor{orange}{RGB}{245,37,100}\\n\")\n",
    "\n",
    "#     file.write(\"\\\\usepackage[english]{babel}\\n\")\n",
    "#     file.write(\"\\\\usepackage{babel,blindtext}\\n\")\n",
    "#     file.write(\"\\\\usepackage{fullpage}\\n\")\n",
    "#     file.write(\"\\\\usepackage{amsfonts}\\n\")\n",
    "#     file.write(\"\\\\usepackage{lscape}\\n\")\n",
    "#     file.write(\"\\\\usepackage{bbm}\\n\")\n",
    "#     file.write(\"\\\\usepackage{todonotes}\\n\")\n",
    "#     file.write(\"\\\\usepackage{cite}\\n\")\n",
    "#     file.write(\"\\\\usepackage{verbatim}\\n\")\n",
    "#     file.write(\"\\\\usepackage{bm}\\n\")\n",
    "\n",
    "    file.write(\"\\\\usepackage[margin=1in]{geometry}\\n\")\n",
    "    file.write(\"\\\\usepackage[T1]{fontenc}\\n\")\n",
    "#     file.write(\"\\\\usepackage{authblk}\\n\")\n",
    "    \n",
    "    file.write(\"\\\\usepackage{caption}\\n\")\n",
    "    file.write(\"\\\\captionsetup{justification= raggedright, singlelinecheck = false}\\n\")\n",
    "\n",
    "#     file.write(\"\\\\newcommand{\\\\blue}{\\\\color{blue}}\\n\")\n",
    "#    file.write(\"\\\\newcommand*{\\\\affaddr}[1]{#1}\\n\")\n",
    "#    file.write(\"\\\\newcommand*{\\\\affmark}[1][*]{\\\\textsuperscript{#1}}\\n\")\n",
    "\n",
    "    file.write(\"\\\\title{\\\\bf Set 1 - Disagreements}\\n\")\n",
    "    file.write(\"\\\\author{}\\n\")\n",
    "    file.write(\"\\\\date{}\\n\")\n",
    "\n",
    "\n",
    "    file.write(\"\\\\begin{document}\\n\")\n",
    "    file.write(\"\\\\maketitle\\n\")\n",
    "\n",
    "    file.write(\"\\\\section{Disagreements}\\n\")\n",
    "    \n",
    "    file.write(\"\\n\")\n",
    "    file.write(\"\\n\")\n",
    "    \n",
    "    for a_row in range(disagreement_table.shape[0]):\n",
    "        curr_row = disagreement_table.loc[a_row]\n",
    "        TS_file_name = curr_row[\"NDVI_TS_Name\"]\n",
    "        file.write(\"\\\\begin{figure*}[ht]\\n\")\n",
    "        file.write(\"\\\\centering\\n\")\n",
    "        file.write(\"\\\\includegraphics[width=1\\\\textwidth]{/Users/hn/Documents/\" + \\\n",
    "                     \"01_research_data/NASA/snapshots/TS/06_snapshot_flat_PNG/\" + \\\n",
    "                         TS_file_name + \"}\\n\")\n",
    "        file.write(\"\\\\caption[]{\" + \\\n",
    "                   \"\\\\textbf{\\\\color{red}{\" + curr_row[\"CropTyp\"] + \"}}\" + \\\n",
    "                   \", ID: \" + curr_row[\"ID\"].replace(\"_\", \"\\_\") + \\\n",
    "                   \", Form: \" + curr_row[\"Form\"] + \\\n",
    "                   \", Question: \" + curr_row[\"Question\"] + \".\" + \\\n",
    "                   \"\\\\\\\\\\\\hspace{\\\\textwidth} Perry: \" + curr_row[\"Perry\"] + \\\n",
    "                   \"\\\\\\\\\\\\hspace{\\\\textwidth} Andrew: \" + curr_row[\"Andrew\"] + \\\n",
    "                   \"\\\\\\\\\\\\hspace{\\\\textwidth} Tim: \" + curr_row[\"Tim\"] + \\\n",
    "                   \"}\\n\")\n",
    "        file.write(\"\\\\label{fig:figure\" + str(a_row) + \"}\\n\")\n",
    "        file.write(\"\\\\end{figure*}\\n\")\n",
    "        \n",
    "        file.write(\"\\\\clearpage\\n\")\n",
    "        \n",
    "        file.write(\"\\n\")\n",
    "        file.write(\"\\n\")\n",
    "        file.write(\"\\n\")\n",
    "\n",
    "    file.write(\"\\\\end{document}\\n\")"
   ]
  },
  {
   "cell_type": "code",
   "execution_count": null,
   "id": "9de69efb",
   "metadata": {},
   "outputs": [],
   "source": []
  }
 ],
 "metadata": {
  "kernelspec": {
   "display_name": "Python 3 (ipykernel)",
   "language": "python",
   "name": "python3"
  },
  "language_info": {
   "codemirror_mode": {
    "name": "ipython",
    "version": 3
   },
   "file_extension": ".py",
   "mimetype": "text/x-python",
   "name": "python",
   "nbconvert_exporter": "python",
   "pygments_lexer": "ipython3",
   "version": "3.9.12"
  }
 },
 "nbformat": 4,
 "nbformat_minor": 5
}
