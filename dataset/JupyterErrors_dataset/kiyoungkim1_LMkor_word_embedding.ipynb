{
  "nbformat": 4,
  "nbformat_minor": 0,
  "metadata": {
    "colab": {
      "name": "word_embedding.ipynb",
      "provenance": [],
      "collapsed_sections": [],
      "authorship_tag": "ABX9TyPxzVALiuORE/fm+qggNl+7",
      "include_colab_link": true
    },
    "kernelspec": {
      "name": "python3",
      "display_name": "Python 3"
    }
  },
  "cells": [
    {
      "cell_type": "markdown",
      "metadata": {
        "id": "view-in-github",
        "colab_type": "text"
      },
      "source": [
        "<a href=\"https://colab.research.google.com/github/kiyoungkim1/LMkor/blob/main/notebooks/word_embedding.ipynb\" target=\"_parent\"><img src=\"https://colab.research.google.com/assets/colab-badge.svg\" alt=\"Open In Colab\"/></a>"
      ]
    },
    {
      "cell_type": "markdown",
      "metadata": {
        "id": "F6zkgX_jrhI9"
      },
      "source": [
        "# Bag of words"
      ]
    },
    {
      "cell_type": "code",
      "metadata": {
        "id": "Ghbypc56oh4Y"
      },
      "source": [
        "corpus = [\r\n",
        "    '학교에 가서 수업을 들었다. 학교에 간건 오랜만이다.',\r\n",
        "    '학교에 가서 친구 얘기를 들었다.',\r\n",
        "    '내일 가서 뭐 먹지?'\r\n",
        "]"
      ],
      "execution_count": null,
      "outputs": []
    },
    {
      "cell_type": "code",
      "metadata": {
        "colab": {
          "base_uri": "https://localhost:8080/"
        },
        "id": "41zohsKirhZL",
        "outputId": "662a7a9e-3fca-4582-f3d5-bf832f5aa45e"
      },
      "source": [
        "from sklearn.feature_extraction.text import CountVectorizer\n",
        "\n",
        "vect = CountVectorizer()\n",
        "vect.fit(corpus)\n",
        "vect.vocabulary_"
      ],
      "execution_count": null,
      "outputs": [
        {
          "output_type": "execute_result",
          "data": {
            "text/plain": [
              "{'가서': 0,\n",
              " '간건': 1,\n",
              " '내일': 2,\n",
              " '들었다': 3,\n",
              " '먹지': 4,\n",
              " '수업을': 5,\n",
              " '얘기를': 6,\n",
              " '오랜만이다': 7,\n",
              " '친구': 8,\n",
              " '학교에': 9}"
            ]
          },
          "metadata": {
            "tags": []
          },
          "execution_count": 8
        }
      ]
    },
    {
      "cell_type": "code",
      "metadata": {
        "colab": {
          "base_uri": "https://localhost:8080/"
        },
        "id": "w0C3SHzdwlLd",
        "outputId": "db25f9cc-d870-4ff8-f94b-a7d8a998bc80"
      },
      "source": [
        "vect.transform(corpus).toarray()"
      ],
      "execution_count": null,
      "outputs": [
        {
          "output_type": "execute_result",
          "data": {
            "text/plain": [
              "array([[1, 1, 0, 1, 0, 1, 0, 1, 0, 2],\n",
              "       [1, 0, 0, 1, 0, 0, 1, 0, 1, 1],\n",
              "       [1, 0, 1, 0, 1, 0, 0, 0, 0, 0]])"
            ]
          },
          "metadata": {
            "tags": []
          },
          "execution_count": 9
        }
      ]
    },
    {
      "cell_type": "code",
      "metadata": {
        "colab": {
          "base_uri": "https://localhost:8080/"
        },
        "id": "f1OgYhGtmCaN",
        "outputId": "9fa7a207-19d3-41fc-884e-2bf32653f261"
      },
      "source": [
        "vect.transform(['수업을 들었다. 수업은 재미있다.']).toarray()"
      ],
      "execution_count": null,
      "outputs": [
        {
          "output_type": "execute_result",
          "data": {
            "text/plain": [
              "array([[0, 0, 0, 1, 0, 1, 0, 0, 0, 0]])"
            ]
          },
          "metadata": {
            "tags": []
          },
          "execution_count": 10
        }
      ]
    },
    {
      "cell_type": "markdown",
      "metadata": {
        "id": "Xk5wcRmjromr"
      },
      "source": [
        "# TFIDF"
      ]
    },
    {
      "cell_type": "code",
      "metadata": {
        "id": "EwMuh0iBroCD",
        "colab": {
          "base_uri": "https://localhost:8080/"
        },
        "outputId": "28ae80d3-2fdd-4371-de49-a826a542ed00"
      },
      "source": [
        "from sklearn.feature_extraction.text import TfidfVectorizer\n",
        "\n",
        "tfidv = TfidfVectorizer().fit(corpus)\n",
        "tfidv.transform(corpus).toarray()"
      ],
      "execution_count": null,
      "outputs": [
        {
          "output_type": "execute_result",
          "data": {
            "text/plain": [
              "array([[0.23642005, 0.40029393, 0.        , 0.30443385, 0.        ,\n",
              "        0.40029393, 0.        , 0.40029393, 0.        , 0.60886771],\n",
              "       [0.31544415, 0.        , 0.        , 0.40619178, 0.        ,\n",
              "        0.        , 0.53409337, 0.        , 0.53409337, 0.40619178],\n",
              "       [0.38537163, 0.        , 0.65249088, 0.        , 0.65249088,\n",
              "        0.        , 0.        , 0.        , 0.        , 0.        ]])"
            ]
          },
          "metadata": {
            "tags": []
          },
          "execution_count": 11
        }
      ]
    },
    {
      "cell_type": "markdown",
      "metadata": {
        "id": "-aA_l_6grb6i"
      },
      "source": [
        "# Word2vec\n"
      ]
    },
    {
      "cell_type": "code",
      "metadata": {
        "colab": {
          "base_uri": "https://localhost:8080/"
        },
        "id": "k1GPZL4lsxeB",
        "outputId": "b3f6062a-4905-4472-a84c-4f860d06ba18"
      },
      "source": [
        "# make datasets (.txt file)\n",
        "!wget https://raw.githubusercontent.com/e9t/nsmc/master/ratings_train.txt\n",
        "\n",
        "import pandas as pd\n",
        "\n",
        "df = pd.read_csv('ratings_train.txt', sep='\\t')\n",
        "doc = list(df['document'])\n",
        "\n",
        "with open('ratings_train_text_only.txt', 'w') as f:\n",
        "  for text in doc:\n",
        "    f.write(str(text) + '\\n')"
      ],
      "execution_count": null,
      "outputs": [
        {
          "output_type": "stream",
          "text": [
            "--2021-02-10 02:03:26--  https://raw.githubusercontent.com/e9t/nsmc/master/ratings_train.txt\n",
            "Resolving raw.githubusercontent.com (raw.githubusercontent.com)... 151.101.0.133, 151.101.64.133, 151.101.128.133, ...\n",
            "Connecting to raw.githubusercontent.com (raw.githubusercontent.com)|151.101.0.133|:443... connected.\n",
            "HTTP request sent, awaiting response... 200 OK\n",
            "Length: 14628807 (14M) [text/plain]\n",
            "Saving to: ‘ratings_train.txt’\n",
            "\n",
            "ratings_train.txt   100%[===================>]  13.95M  37.2MB/s    in 0.4s    \n",
            "\n",
            "2021-02-10 02:03:26 (37.2 MB/s) - ‘ratings_train.txt’ saved [14628807/14628807]\n",
            "\n"
          ],
          "name": "stdout"
        }
      ]
    },
    {
      "cell_type": "code",
      "metadata": {
        "id": "7Tak7oGWny22"
      },
      "source": [
        "# read text file\n",
        "with open('ratings_train_text_only.txt', 'r') as f:\n",
        "  texts = [str(text).replace('\\n', '') for text in doc if len(str(text)) >= 10]"
      ],
      "execution_count": null,
      "outputs": []
    },
    {
      "cell_type": "code",
      "metadata": {
        "colab": {
          "base_uri": "https://localhost:8080/"
        },
        "id": "JCMOH8wcqEnl",
        "outputId": "fbdaa0e6-f83a-4b3e-e289-5364d4f2a7cb"
      },
      "source": [
        "# word2vec training\n",
        "\n",
        "import os\n",
        "from gensim.models import Word2Vec\n",
        "\n",
        "def word2vec(texts):\n",
        "    inputs = [tt.split(' ') for tt in texts]\n",
        "    print('number of text = ', len(inputs))\n",
        "\n",
        "    print('word2vec training...')\n",
        "    model = Word2Vec(inputs, size=50, window=3, min_count=3, negative=5, workers=os.cpu_count(), iter=10, sg=1)\n",
        "    model.init_sims\n",
        "\n",
        "    model.save('word2vec')\n",
        "\n",
        "word2vec(texts)"
      ],
      "execution_count": null,
      "outputs": [
        {
          "output_type": "stream",
          "text": [
            "number of text =  136748\n",
            "word2vec training...\n"
          ],
          "name": "stdout"
        }
      ]
    },
    {
      "cell_type": "code",
      "metadata": {
        "id": "YZBnuLbRsvMm"
      },
      "source": [
        "w2v = Word2Vec.load('word2vec')"
      ],
      "execution_count": null,
      "outputs": []
    },
    {
      "cell_type": "code",
      "metadata": {
        "colab": {
          "base_uri": "https://localhost:8080/"
        },
        "id": "Gm7uRzRJzmcN",
        "outputId": "2549ce75-52e7-47e2-daff-95aaa14c22cd"
      },
      "source": [
        "# 단어 벡터\n",
        "w2v.wv['감동']"
      ],
      "execution_count": null,
      "outputs": [
        {
          "output_type": "execute_result",
          "data": {
            "text/plain": [
              "array([-0.2877369 , -0.3411937 ,  0.98615265,  0.40388942, -0.2993487 ,\n",
              "       -0.8082169 , -0.05968314, -0.14713229, -0.7971726 , -0.2910246 ,\n",
              "        0.20702799,  0.1501431 ,  0.62876755,  0.38210574, -0.12299415,\n",
              "        0.5009918 , -0.2925843 , -1.0950974 ,  0.01489488, -0.16576152,\n",
              "       -0.05468882,  0.17707469, -0.72506976,  0.2971289 ,  0.10010708,\n",
              "        1.0921265 , -0.94679564, -0.01515222,  0.03146487,  0.23118128,\n",
              "        0.1426021 , -0.19204514, -0.27978763, -0.26251298, -0.68439114,\n",
              "       -0.40017757,  0.9187491 ,  0.42633244,  0.85304224,  0.3333111 ,\n",
              "        0.07864343,  0.2232901 ,  0.28953448,  0.3314806 , -0.99922657,\n",
              "        0.13744463,  0.31774592,  0.87070864, -0.29360154,  0.22819856],\n",
              "      dtype=float32)"
            ]
          },
          "metadata": {
            "tags": []
          },
          "execution_count": 20
        }
      ]
    },
    {
      "cell_type": "code",
      "metadata": {
        "colab": {
          "base_uri": "https://localhost:8080/"
        },
        "id": "gsGal3uTvggi",
        "outputId": "10613ea2-4fc5-40e3-a328-176a3f1dd429"
      },
      "source": [
        "# 유사 단어\n",
        "w2v.wv.most_similar('이제까지')"
      ],
      "execution_count": null,
      "outputs": [
        {
          "output_type": "execute_result",
          "data": {
            "text/plain": [
              "[('10년동안', 0.9651472568511963),\n",
              " ('여태것', 0.9527884125709534),\n",
              " ('재난영화중', 0.952028751373291),\n",
              " ('여태껏', 0.9492594003677368),\n",
              " ('수천편의', 0.9491361379623413),\n",
              " ('3년간', 0.9450587630271912),\n",
              " ('이제껏', 0.9443521499633789),\n",
              " ('정신병', 0.9437797665596008),\n",
              " ('원망스럽다', 0.9426261782646179),\n",
              " ('2006년', 0.9412530064582825)]"
            ]
          },
          "metadata": {
            "tags": []
          },
          "execution_count": 21
        }
      ]
    },
    {
      "cell_type": "markdown",
      "metadata": {
        "id": "dOw8spGCrfMR"
      },
      "source": [
        "# Fasttext"
      ]
    },
    {
      "cell_type": "code",
      "metadata": {
        "id": "CchgK3gHrWaG",
        "colab": {
          "base_uri": "https://localhost:8080/"
        },
        "outputId": "988c41a1-a92e-479f-e108-e0c10fe8f5ba"
      },
      "source": [
        "# fasttext training\n",
        "\n",
        "import os\n",
        "from gensim.models import FastText\n",
        "\n",
        "def fasttext(texts):\n",
        "    inputs = [tt.split(' ') for tt in texts]\n",
        "    print('number of text = ', len(inputs))\n",
        "\n",
        "    model = FastText(inputs, size=50, window=3, min_count=3, negative=5, workers=os.cpu_count(), iter=10, sg=1)\n",
        "    model.init_sims()\n",
        "\n",
        "    model.save('fasttext')\n",
        "    print('fasttext is trained')\n",
        "\n",
        "fasttext(texts)"
      ],
      "execution_count": null,
      "outputs": [
        {
          "output_type": "stream",
          "text": [
            "number of text =  136748\n",
            "fasttext is trained\n"
          ],
          "name": "stdout"
        }
      ]
    },
    {
      "cell_type": "code",
      "metadata": {
        "id": "riKSIWTRu5Av"
      },
      "source": [
        "w2v = Word2Vec.load('word2vec')\r\n",
        "fasttext = FastText.load('fasttext')"
      ],
      "execution_count": null,
      "outputs": []
    },
    {
      "cell_type": "code",
      "metadata": {
        "colab": {
          "base_uri": "https://localhost:8080/",
          "height": 169
        },
        "id": "h4pm7jxgswS1",
        "outputId": "00db06bc-71c3-49bc-c221-4aae0da35937"
      },
      "source": [
        "wav.wv.most_similar('고능학교')"
      ],
      "execution_count": null,
      "outputs": [
        {
          "output_type": "error",
          "ename": "NameError",
          "evalue": "ignored",
          "traceback": [
            "\u001b[0;31m---------------------------------------------------------------------------\u001b[0m",
            "\u001b[0;31mNameError\u001b[0m                                 Traceback (most recent call last)",
            "\u001b[0;32m<ipython-input-25-c60380e797c6>\u001b[0m in \u001b[0;36m<module>\u001b[0;34m()\u001b[0m\n\u001b[0;32m----> 1\u001b[0;31m \u001b[0mwav\u001b[0m\u001b[0;34m.\u001b[0m\u001b[0mwv\u001b[0m\u001b[0;34m.\u001b[0m\u001b[0mmost_similar\u001b[0m\u001b[0;34m(\u001b[0m\u001b[0;34m'고능학교'\u001b[0m\u001b[0;34m)\u001b[0m\u001b[0;34m\u001b[0m\u001b[0;34m\u001b[0m\u001b[0m\n\u001b[0m",
            "\u001b[0;31mNameError\u001b[0m: name 'wav' is not defined"
          ]
        }
      ]
    },
    {
      "cell_type": "code",
      "metadata": {
        "id": "KQNqnF28v7_T",
        "colab": {
          "base_uri": "https://localhost:8080/"
        },
        "outputId": "105caacd-9e81-4fe7-85b1-fc8b7c10ec45"
      },
      "source": [
        "fasttext.wv.most_similar('고능학교')"
      ],
      "execution_count": null,
      "outputs": [
        {
          "output_type": "execute_result",
          "data": {
            "text/plain": [
              "[('학교', 0.9648439884185791),\n",
              " ('중학교', 0.9563544988632202),\n",
              " ('고등학교', 0.9352776408195496),\n",
              " ('초등학교', 0.9316931962966919),\n",
              " ('국민학교', 0.9257780909538269),\n",
              " ('대학교', 0.9132347106933594),\n",
              " ('2학년', 0.8956236839294434),\n",
              " ('다닐', 0.8853365778923035),\n",
              " ('친구집에', 0.8824955821037292),\n",
              " ('1학년', 0.8821584582328796)]"
            ]
          },
          "metadata": {
            "tags": []
          },
          "execution_count": 24
        }
      ]
    },
    {
      "cell_type": "code",
      "metadata": {
        "id": "0CC2b2Kjsh8-"
      },
      "source": [
        ""
      ],
      "execution_count": null,
      "outputs": []
    }
  ]
}