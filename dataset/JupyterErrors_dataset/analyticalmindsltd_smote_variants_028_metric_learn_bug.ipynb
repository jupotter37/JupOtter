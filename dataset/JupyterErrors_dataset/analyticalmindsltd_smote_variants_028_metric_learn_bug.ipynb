{
 "cells": [
  {
   "cell_type": "code",
   "execution_count": 4,
   "metadata": {},
   "outputs": [
    {
     "name": "stdout",
     "output_type": "stream",
     "text": [
      "Linux-5.15.90.1-microsoft-standard-WSL2-x86_64-with-glibc2.31\n",
      "Python 3.11.5 | packaged by conda-forge | (main, Aug 27 2023, 03:34:09) [GCC 12.3.0]\n",
      "NumPy 1.26.0\n",
      "SciPy 1.11.3\n",
      "Scikit-Learn 1.3.1\n",
      "Metric-Learn 0.6.2\n"
     ]
    }
   ],
   "source": [
    "import platform; print(platform.platform())\n",
    "import sys; print(\"Python\", sys.version)\n",
    "import numpy; print(\"NumPy\", numpy.__version__)\n",
    "import scipy; print(\"SciPy\", scipy.__version__)\n",
    "import sklearn; print(\"Scikit-Learn\", sklearn.__version__)\n",
    "import metric_learn; print(\"Metric-Learn\", metric_learn.__version__)"
   ]
  },
  {
   "cell_type": "code",
   "execution_count": 3,
   "metadata": {},
   "outputs": [
    {
     "name": "stdout",
     "output_type": "stream",
     "text": [
      "1.26.0\n"
     ]
    },
    {
     "ename": "TypeError",
     "evalue": "arrays to stack must be passed as a \"sequence\" type such as list or tuple.",
     "output_type": "error",
     "traceback": [
      "\u001b[0;31m---------------------------------------------------------------------------\u001b[0m",
      "\u001b[0;31mTypeError\u001b[0m                                 Traceback (most recent call last)",
      "\u001b[1;32m/home/gykovacs/workspaces/smote_variants/smote_variants/notebooks/development/028_metric_learn_bug.ipynb Cell 1\u001b[0m line \u001b[0;36m6\n\u001b[1;32m      <a href='vscode-notebook-cell://wsl%2Bubuntu-20.04/home/gykovacs/workspaces/smote_variants/smote_variants/notebooks/development/028_metric_learn_bug.ipynb#W0sdnNjb2RlLXJlbW90ZQ%3D%3D?line=1'>2</a>\u001b[0m \u001b[39mimport\u001b[39;00m \u001b[39mmetric_learn\u001b[39;00m \u001b[39mas\u001b[39;00m \u001b[39mml\u001b[39;00m\n\u001b[1;32m      <a href='vscode-notebook-cell://wsl%2Bubuntu-20.04/home/gykovacs/workspaces/smote_variants/smote_variants/notebooks/development/028_metric_learn_bug.ipynb#W0sdnNjb2RlLXJlbW90ZQ%3D%3D?line=3'>4</a>\u001b[0m \u001b[39mprint\u001b[39m(np\u001b[39m.\u001b[39m__version__)\n\u001b[0;32m----> <a href='vscode-notebook-cell://wsl%2Bubuntu-20.04/home/gykovacs/workspaces/smote_variants/smote_variants/notebooks/development/028_metric_learn_bug.ipynb#W0sdnNjb2RlLXJlbW90ZQ%3D%3D?line=5'>6</a>\u001b[0m ml\u001b[39m.\u001b[39;49mITML_Supervised()\u001b[39m.\u001b[39;49mfit(np\u001b[39m.\u001b[39;49mrandom\u001b[39m.\u001b[39;49mrandom_sample(size\u001b[39m=\u001b[39;49m(\u001b[39m100\u001b[39;49m, \u001b[39m5\u001b[39;49m)), np\u001b[39m.\u001b[39;49mrandom\u001b[39m.\u001b[39;49mrandint(\u001b[39m2\u001b[39;49m, size\u001b[39m=\u001b[39;49m\u001b[39m100\u001b[39;49m))\n",
      "File \u001b[0;32m~/anaconda3/envs/sv311/lib/python3.11/site-packages/metric_learn/itml.py:381\u001b[0m, in \u001b[0;36mITML_Supervised.fit\u001b[0;34m(self, X, y, bounds)\u001b[0m\n\u001b[1;32m    378\u001b[0m pos_neg \u001b[39m=\u001b[39m c\u001b[39m.\u001b[39mpositive_negative_pairs(num_constraints,\n\u001b[1;32m    379\u001b[0m                                     random_state\u001b[39m=\u001b[39m\u001b[39mself\u001b[39m\u001b[39m.\u001b[39mrandom_state)\n\u001b[1;32m    380\u001b[0m pairs, y \u001b[39m=\u001b[39m wrap_pairs(X, pos_neg)\n\u001b[0;32m--> 381\u001b[0m \u001b[39mreturn\u001b[39;00m _BaseITML\u001b[39m.\u001b[39;49m_fit(\u001b[39mself\u001b[39;49m, pairs, y, bounds\u001b[39m=\u001b[39;49mbounds)\n",
      "File \u001b[0;32m~/anaconda3/envs/sv311/lib/python3.11/site-packages/metric_learn/itml.py:35\u001b[0m, in \u001b[0;36m_BaseITML._fit\u001b[0;34m(self, pairs, y, bounds)\u001b[0m\n\u001b[1;32m     33\u001b[0m \u001b[39m# init bounds\u001b[39;00m\n\u001b[1;32m     34\u001b[0m \u001b[39mif\u001b[39;00m bounds \u001b[39mis\u001b[39;00m \u001b[39mNone\u001b[39;00m:\n\u001b[0;32m---> 35\u001b[0m   X \u001b[39m=\u001b[39m np\u001b[39m.\u001b[39;49mvstack({\u001b[39mtuple\u001b[39;49m(row) \u001b[39mfor\u001b[39;49;00m row \u001b[39min\u001b[39;49;00m pairs\u001b[39m.\u001b[39;49mreshape(\u001b[39m-\u001b[39;49m\u001b[39m1\u001b[39;49m, pairs\u001b[39m.\u001b[39;49mshape[\u001b[39m2\u001b[39;49m])})\n\u001b[1;32m     36\u001b[0m   \u001b[39mself\u001b[39m\u001b[39m.\u001b[39mbounds_ \u001b[39m=\u001b[39m np\u001b[39m.\u001b[39mpercentile(pairwise_distances(X), (\u001b[39m5\u001b[39m, \u001b[39m95\u001b[39m))\n\u001b[1;32m     37\u001b[0m \u001b[39melse\u001b[39;00m:\n",
      "File \u001b[0;32m~/anaconda3/envs/sv311/lib/python3.11/site-packages/numpy/core/shape_base.py:216\u001b[0m, in \u001b[0;36m_vhstack_dispatcher\u001b[0;34m(tup, dtype, casting)\u001b[0m\n\u001b[1;32m    215\u001b[0m \u001b[39mdef\u001b[39;00m \u001b[39m_vhstack_dispatcher\u001b[39m(tup, \u001b[39m*\u001b[39m, dtype\u001b[39m=\u001b[39m\u001b[39mNone\u001b[39;00m, casting\u001b[39m=\u001b[39m\u001b[39mNone\u001b[39;00m):\n\u001b[0;32m--> 216\u001b[0m     \u001b[39mreturn\u001b[39;00m _arrays_for_stack_dispatcher(tup)\n",
      "File \u001b[0;32m~/anaconda3/envs/sv311/lib/python3.11/site-packages/numpy/core/shape_base.py:209\u001b[0m, in \u001b[0;36m_arrays_for_stack_dispatcher\u001b[0;34m(arrays)\u001b[0m\n\u001b[1;32m    207\u001b[0m \u001b[39mdef\u001b[39;00m \u001b[39m_arrays_for_stack_dispatcher\u001b[39m(arrays):\n\u001b[1;32m    208\u001b[0m     \u001b[39mif\u001b[39;00m \u001b[39mnot\u001b[39;00m \u001b[39mhasattr\u001b[39m(arrays, \u001b[39m\"\u001b[39m\u001b[39m__getitem__\u001b[39m\u001b[39m\"\u001b[39m):\n\u001b[0;32m--> 209\u001b[0m         \u001b[39mraise\u001b[39;00m \u001b[39mTypeError\u001b[39;00m(\u001b[39m'\u001b[39m\u001b[39marrays to stack must be passed as a \u001b[39m\u001b[39m\"\u001b[39m\u001b[39msequence\u001b[39m\u001b[39m\"\u001b[39m\u001b[39m type \u001b[39m\u001b[39m'\u001b[39m\n\u001b[1;32m    210\u001b[0m                         \u001b[39m'\u001b[39m\u001b[39msuch as list or tuple.\u001b[39m\u001b[39m'\u001b[39m)\n\u001b[1;32m    212\u001b[0m     \u001b[39mreturn\u001b[39;00m \u001b[39mtuple\u001b[39m(arrays)\n",
      "\u001b[0;31mTypeError\u001b[0m: arrays to stack must be passed as a \"sequence\" type such as list or tuple."
     ]
    }
   ],
   "source": [
    "import numpy as np\n",
    "import metric_learn as ml\n",
    "\n",
    "print(np.__version__)\n",
    "\n",
    "ml.ITML_Supervised().fit(np.random.random_sample(size=(100, 5)), np.random.randint(2, size=100))"
   ]
  },
  {
   "cell_type": "code",
   "execution_count": null,
   "metadata": {},
   "outputs": [],
   "source": []
  }
 ],
 "metadata": {
  "kernelspec": {
   "display_name": "sv311",
   "language": "python",
   "name": "python3"
  },
  "language_info": {
   "codemirror_mode": {
    "name": "ipython",
    "version": 3
   },
   "file_extension": ".py",
   "mimetype": "text/x-python",
   "name": "python",
   "nbconvert_exporter": "python",
   "pygments_lexer": "ipython3",
   "version": "3.11.5"
  },
  "orig_nbformat": 4
 },
 "nbformat": 4,
 "nbformat_minor": 2
}
