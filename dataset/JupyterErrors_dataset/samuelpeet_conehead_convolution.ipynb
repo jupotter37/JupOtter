{
 "cells": [
  {
   "cell_type": "code",
   "execution_count": 1,
   "metadata": {
    "scrolled": true
   },
   "outputs": [
    {
     "ename": "ModuleNotFoundError",
     "evalue": "No module named 'conehead.geometry'; 'conehead' is not a package",
     "output_type": "error",
     "traceback": [
      "\u001b[0;31m---------------------------------------------------------------------------\u001b[0m",
      "\u001b[0;31mModuleNotFoundError\u001b[0m                       Traceback (most recent call last)",
      "\u001b[0;32m<ipython-input-1-06a32f74c3de>\u001b[0m in \u001b[0;36m<module>\u001b[0;34m()\u001b[0m\n\u001b[1;32m      4\u001b[0m \u001b[0;32mfrom\u001b[0m \u001b[0mscipy\u001b[0m\u001b[0;34m.\u001b[0m\u001b[0mspatial\u001b[0m\u001b[0;34m.\u001b[0m\u001b[0mdistance\u001b[0m \u001b[0;32mimport\u001b[0m \u001b[0meuclidean\u001b[0m\u001b[0;34m\u001b[0m\u001b[0m\n\u001b[1;32m      5\u001b[0m \u001b[0;32mfrom\u001b[0m \u001b[0mtqdm\u001b[0m \u001b[0;32mimport\u001b[0m \u001b[0mtqdm\u001b[0m\u001b[0;34m\u001b[0m\u001b[0m\n\u001b[0;32m----> 6\u001b[0;31m from conehead.geometry import (\n\u001b[0m\u001b[1;32m      7\u001b[0m     \u001b[0mglobal_to_beam\u001b[0m\u001b[0;34m,\u001b[0m \u001b[0mline_block_plane_collision\u001b[0m\u001b[0;34m,\u001b[0m \u001b[0mline_calc_limit_plane_collision\u001b[0m\u001b[0;34m\u001b[0m\u001b[0m\n\u001b[1;32m      8\u001b[0m )\n",
      "\u001b[0;32m~/projects/conehead/conehead/conehead.py\u001b[0m in \u001b[0;36m<module>\u001b[0;34m()\u001b[0m\n\u001b[1;32m      4\u001b[0m \u001b[0;32mfrom\u001b[0m \u001b[0mscipy\u001b[0m\u001b[0;34m.\u001b[0m\u001b[0mspatial\u001b[0m\u001b[0;34m.\u001b[0m\u001b[0mdistance\u001b[0m \u001b[0;32mimport\u001b[0m \u001b[0meuclidean\u001b[0m\u001b[0;34m\u001b[0m\u001b[0m\n\u001b[1;32m      5\u001b[0m \u001b[0;32mfrom\u001b[0m \u001b[0mtqdm\u001b[0m \u001b[0;32mimport\u001b[0m \u001b[0mtqdm\u001b[0m\u001b[0;34m\u001b[0m\u001b[0m\n\u001b[0;32m----> 6\u001b[0;31m from conehead.geometry import (\n\u001b[0m\u001b[1;32m      7\u001b[0m     \u001b[0mglobal_to_beam\u001b[0m\u001b[0;34m,\u001b[0m \u001b[0mline_block_plane_collision\u001b[0m\u001b[0;34m,\u001b[0m \u001b[0mline_calc_limit_plane_collision\u001b[0m\u001b[0;34m\u001b[0m\u001b[0m\n\u001b[1;32m      8\u001b[0m )\n",
      "\u001b[0;31mModuleNotFoundError\u001b[0m: No module named 'conehead.geometry'; 'conehead' is not a package"
     ]
    }
   ],
   "source": [
    "import numpy as np\n",
    "import matplotlib.pyplot as plt\n",
    "from scipy.interpolate import RegularGridInterpolator\n",
    "from scipy.spatial.distance import euclidean\n",
    "from tqdm import tqdm\n",
    "from conehead.geometry import (\n",
    "    global_to_beam, line_block_plane_collision, line_calc_limit_plane_collision\n",
    ")\n",
    "from conehead.kernel import PolyenergeticKernel\n",
    "# from conehead.dda_3d_c import dda_3d_c\n",
    "import conehead.nist\n",
    "from conehead.source import Source\n",
    "from conehead.block import Block\n",
    "from conehead.phantom import SimplePhantom\n",
    "from conehead.conehead import Conehead"
   ]
  },
  {
   "cell_type": "code",
   "execution_count": null,
   "metadata": {},
   "outputs": [],
   "source": [
    "# Choose source\n",
    "source = Source(\"varian_clinac_6MV\")\n",
    "source.gantry(0)\n",
    "source.collimator(0)\n",
    "\n",
    "# Create 10 cm x 10 cm collimator opening\n",
    "block = Block(source.rotation)\n",
    "block.set_square(10)\n",
    "\n",
    "# Simple phantom\n",
    "phantom = SimplePhantom()\n",
    "\n",
    "# Calculation settings\n",
    "settings = {\n",
    "    'stepSize': 0.1,  # Stepsize when raytracing effective depth\n",
    "    'sPri': 1.0,  # Primary source strength (photons/mm^2)\n",
    "    'softRatio': 0.0025,  # mm^-1\n",
    "    'softLimit': 20,  # cm\n",
    "    'eLow': 0.01,  # MeV\n",
    "    'eHigh': 7.0,  # MeV\n",
    "    'eNum': 500,  # Spectrum samples\n",
    "}"
   ]
  },
  {
   "cell_type": "code",
   "execution_count": 3,
   "metadata": {},
   "outputs": [
    {
     "name": "stderr",
     "output_type": "stream",
     "text": [
      " 14%|█▍        | 3/21 [00:00<00:00, 26.97it/s]"
     ]
    },
    {
     "name": "stdout",
     "output_type": "stream",
     "text": [
      "Transforming phantom to beam coords...\n"
     ]
    },
    {
     "name": "stderr",
     "output_type": "stream",
     "text": [
      "100%|██████████| 21/21 [00:01<00:00, 18.82it/s]\n",
      " 10%|▉         | 2/21 [00:00<00:01, 12.19it/s]"
     ]
    },
    {
     "name": "stdout",
     "output_type": "stream",
     "text": [
      "Interpolating phantom densities...\n",
      "Performing hit-testing of dose grid voxels...\n"
     ]
    },
    {
     "name": "stderr",
     "output_type": "stream",
     "text": [
      "100%|██████████| 21/21 [00:01<00:00, 15.51it/s]\n",
      "  0%|          | 0/21 [00:00<?, ?it/s]/home/sam/projects/conehead/env/lib/python3.6/site-packages/ipykernel_launcher.py:58: DeprecationWarning: object of type <class 'numpy.float64'> cannot be safely interpreted as an integer.\n",
      "/home/sam/projects/conehead/env/lib/python3.6/site-packages/ipykernel_launcher.py:59: DeprecationWarning: object of type <class 'numpy.float64'> cannot be safely interpreted as an integer.\n",
      "/home/sam/projects/conehead/env/lib/python3.6/site-packages/ipykernel_launcher.py:60: DeprecationWarning: object of type <class 'numpy.float64'> cannot be safely interpreted as an integer.\n",
      "  5%|▍         | 1/21 [00:00<00:03,  5.78it/s]"
     ]
    },
    {
     "name": "stdout",
     "output_type": "stream",
     "text": [
      "Calculating effective depths of dose grid voxels...\n"
     ]
    },
    {
     "name": "stderr",
     "output_type": "stream",
     "text": [
      "100%|██████████| 21/21 [00:03<00:00,  6.37it/s]\n",
      " 43%|████▎     | 9/21 [00:00<00:00, 88.26it/s]"
     ]
    },
    {
     "name": "stdout",
     "output_type": "stream",
     "text": [
      "Calculating fluence...\n",
      "Calculating beam softening factor...\n",
      "Calculating TERMA...\n"
     ]
    },
    {
     "name": "stderr",
     "output_type": "stream",
     "text": [
      "100%|██████████| 21/21 [00:00<00:00, 88.52it/s]\n"
     ]
    }
   ],
   "source": [
    "# Transform phantom to beam coords\n",
    "print(\"Transforming phantom to beam coords...\")\n",
    "phantom_beam = np.zeros_like(phantom.positions)\n",
    "_, xlen, ylen, zlen = phantom_beam.shape\n",
    "for x in tqdm(range(xlen)):\n",
    "    for y in range(ylen):\n",
    "        for z in range(zlen):\n",
    "            phantom_beam[:, x, y, z] = global_to_beam(\n",
    "                phantom.positions[:, x, y, z],\n",
    "                source.position,\n",
    "                source.rotation\n",
    "            )\n",
    "\n",
    "print(\"Interpolating phantom densities...\")\n",
    "phantom_densities_interp = RegularGridInterpolator(\n",
    "    (phantom_beam[0, :, 0, 0],\n",
    "     phantom_beam[1, 0, :, 0],\n",
    "     phantom_beam[2, 0, 0, :]),\n",
    "    phantom.densities,\n",
    "    method='nearest',\n",
    "    bounds_error=False,\n",
    "    fill_value=0\n",
    ")\n",
    "\n",
    "# Create dose grid (just the same size as the phantom for now)\n",
    "dose_grid_positions = np.copy(phantom_beam)\n",
    "dose_grid_dim = np.array([2, 2, 2], dtype=np.float64)  # cm\n",
    "\n",
    "# Perform hit testing to find which dose grid voxels are in the beam\n",
    "print(\"Performing hit-testing of dose grid voxels...\")\n",
    "_, xlen, ylen, zlen = dose_grid_positions.shape\n",
    "dose_grid_blocked = np.zeros((xlen, ylen, zlen))\n",
    "dose_grid_OAD = np.zeros((xlen, ylen, zlen))\n",
    "for x in tqdm(range(xlen)):\n",
    "    for y in range(ylen):\n",
    "        for z in range(zlen):\n",
    "            voxel = dose_grid_positions[:, x, y, z]\n",
    "            psi = line_block_plane_collision(voxel)\n",
    "            dose_grid_blocked[x, y, z] = (\n",
    "                block.block_values_interp([psi[0], psi[1]])\n",
    "            )\n",
    "            # Save off-axis distance (at iso plane) for later\n",
    "            dose_grid_OAD[x, y, z] = (\n",
    "                euclidean(np.array([0, 0, source.SAD]), psi)\n",
    "            )\n",
    "\n",
    "# Calculate effective depths of dose grid voxels\n",
    "print(\"Calculating effective depths of dose grid voxels...\")\n",
    "dose_grid_d_eff = np.zeros_like(dose_grid_blocked)\n",
    "xlen, ylen, zlen = dose_grid_d_eff.shape\n",
    "for x in tqdm(range(xlen)):\n",
    "    for y in range(ylen):\n",
    "        for z in range(zlen):\n",
    "            voxel = dose_grid_positions[:, x, y, z]\n",
    "            psi = line_calc_limit_plane_collision(voxel)\n",
    "            dist = np.sqrt(np.sum(np.power(voxel - psi, 2)))\n",
    "            num_steps = np.floor(dist / settings['stepSize'])\n",
    "            xcoords = np.linspace(voxel[0], psi[0], num_steps)\n",
    "            ycoords = np.linspace(voxel[1], psi[1], num_steps)\n",
    "            zcoords = np.linspace(voxel[2], psi[2], num_steps)\n",
    "            dose_grid_d_eff[x, y, z] = np.sum(\n",
    "                phantom_densities_interp(\n",
    "                    np.dstack((xcoords, ycoords, zcoords))\n",
    "                ) * settings['stepSize']\n",
    "            )\n",
    "\n",
    "# Calculate photon fluence at dose grid voxels\n",
    "print(\"Calculating fluence...\")\n",
    "dose_grid_fluence = np.zeros_like(dose_grid_blocked)\n",
    "xlen, ylen, zlen = dose_grid_fluence.shape\n",
    "dose_grid_fluence = (\n",
    "    settings['sPri'] * -source.SAD /\n",
    "    dose_grid_positions[2, :, :, :] *\n",
    "    dose_grid_blocked\n",
    ")\n",
    "\n",
    "# Calculate beam softening factor for dose grid voxels\n",
    "print(\"Calculating beam softening factor...\")\n",
    "f_soften = np.ones_like(dose_grid_OAD)\n",
    "f_soften[dose_grid_OAD < settings['softLimit']] = 1 / (\n",
    "    1 - settings['softRatio'] *\n",
    "    dose_grid_OAD[dose_grid_OAD < settings['softLimit']]\n",
    ")\n",
    "\n",
    "# Calculate TERMA of dose grid voxels\n",
    "print(\"Calculating TERMA...\")\n",
    "E = np.linspace(settings['eLow'], settings['eHigh'], settings['eNum'])\n",
    "spectrum_weights = source.weights(E)\n",
    "mu_water = conehead.nist.mu_water(E)\n",
    "dose_grid_terma = np.zeros_like(dose_grid_blocked)\n",
    "xlen, ylen, zlen = dose_grid_terma.shape\n",
    "for x in tqdm(range(xlen)):\n",
    "    for y in range(ylen):\n",
    "        for z in range(zlen):\n",
    "            dose_grid_terma[x, y, z] = (\n",
    "                np.sum(\n",
    "                    spectrum_weights *\n",
    "                    dose_grid_fluence[x, y, z] *\n",
    "                    np.exp(\n",
    "                        -mu_water * f_soften[x, y, z] *\n",
    "                        dose_grid_d_eff[x, y, z]\n",
    "                    ) * E * mu_water\n",
    "                )\n",
    "            )\n"
   ]
  },
  {
   "cell_type": "code",
   "execution_count": 49,
   "metadata": {},
   "outputs": [
    {
     "name": "stdout",
     "output_type": "stream",
     "text": [
      "Convolving kernel...\n"
     ]
    }
   ],
   "source": [
    "# Calculate dose of dose grid voxels\n",
    "print(\"Convolving kernel...\")\n",
    "kernel = PolyenergeticKernel()\n",
    "dose_grid_dose = np.zeros_like(dose_grid_terma)\n",
    "phis = [p for p in kernel.cumulative.keys() if p != \"radii\"]\n",
    "thetas = np.linspace(0, 360, 6, endpoint=False)"
   ]
  },
  {
   "cell_type": "code",
   "execution_count": 50,
   "metadata": {},
   "outputs": [],
   "source": [
    "def convolve_python(dose_grid_terma, dose_grid_dose, dose_grid_dim, thetas, phis, kernel):\n",
    "\n",
    "    xlen, ylen, zlen = dose_grid_terma.shape\n",
    "    \n",
    "    for x in tqdm(range(xlen)):\n",
    "        for y in range(ylen):\n",
    "            for z in range(zlen):\n",
    "                T = dose_grid_terma[x, y, z]\n",
    "                if T:\n",
    "                    for theta in thetas:\n",
    "                        for phi in phis:\n",
    "\n",
    "                            # Raytracing\n",
    "                            phi_rad = float(phi) * np.pi / 180\n",
    "                            theta_rad = theta * np.pi / 180\n",
    "                            direction = np.array([\n",
    "                                np.cos(theta_rad) * np.sin(phi_rad),\n",
    "                                np.sin(theta_rad) * np.sin(phi_rad),\n",
    "                                np.cos(phi_rad)\n",
    "                            ], dtype=np.float64)\n",
    "                            direction /= np.sum(direction**2)  # Normalise\n",
    "                            direction = np.around(  # discretise\n",
    "                                direction,\n",
    "                                decimals=6\n",
    "                            )\n",
    "                            intersections, voxels = dda_3d_c(\n",
    "                                direction,\n",
    "                                np.array(\n",
    "                                    dose_grid_terma.shape,\n",
    "                                    dtype=np.int32\n",
    "                                ),\n",
    "                                np.array([x, y, z], dtype=np.int32),\n",
    "                                dose_grid_dim\n",
    "                            )\n",
    "\n",
    "                            intersections = np.array(\n",
    "                                [int(x) for x in (intersections * 100 - 50)]\n",
    "                            )\n",
    "                            intersections = np.absolute(intersections)\n",
    "\n",
    "                            for e, _ in enumerate(intersections):\n",
    "                                v = voxels[e]\n",
    "                                if e == 0:\n",
    "                                    k = kernel.cumulative[phi][\n",
    "                                        intersections[e]\n",
    "                                    ]\n",
    "                                else:\n",
    "                                    k = kernel.cumulative[phi][\n",
    "                                        intersections[e]\n",
    "                                    ] - kernel.cumulative[phi][\n",
    "                                        intersections[e - 1]\n",
    "                                    ]\n",
    "                                dose_grid_dose[v[0], v[1], v[2]] += T * k"
   ]
  },
  {
   "cell_type": "code",
   "execution_count": 53,
   "metadata": {},
   "outputs": [
    {
     "name": "stderr",
     "output_type": "stream",
     "text": [
      "100%|██████████| 21/21 [00:26<00:00,  1.27s/it]"
     ]
    },
    {
     "name": "stdout",
     "output_type": "stream",
     "text": [
      "CPU times: user 26.6 s, sys: 220 ms, total: 26.8 s\n",
      "Wall time: 26.8 s\n"
     ]
    },
    {
     "name": "stderr",
     "output_type": "stream",
     "text": [
      "\n"
     ]
    }
   ],
   "source": [
    "%%time\n",
    "convolve_python(dose_grid_terma, dose_grid_dose, dose_grid_dim, thetas, phis, kernel)"
   ]
  },
  {
   "cell_type": "code",
   "execution_count": 4,
   "metadata": {},
   "outputs": [],
   "source": [
    "load_ext Cython"
   ]
  },
  {
   "cell_type": "code",
   "execution_count": 5,
   "metadata": {},
   "outputs": [
    {
     "name": "stdout",
     "output_type": "stream",
     "text": [
      "Convolving kernel...\n"
     ]
    }
   ],
   "source": [
    "# Calculate dose of dose grid voxels\n",
    "print(\"Convolving kernel...\")\n",
    "kernel = PolyenergeticKernel()\n",
    "dose_grid_dose = np.zeros_like(dose_grid_terma, dtype=np.float64)\n",
    "phis = np.array([p for p in kernel.cumulative.keys() if p != \"radii\"], dtype=np.float64)\n",
    "thetas = np.linspace(0, 360, 6, endpoint=False, dtype=np.float64)\n",
    "dose_grid_dim = np.array([2, 2, 2], dtype=np.float64)"
   ]
  },
  {
   "cell_type": "code",
   "execution_count": 6,
   "metadata": {},
   "outputs": [
    {
     "name": "stderr",
     "output_type": "stream",
     "text": [
      "\n",
      "Error compiling Cython file:\n",
      "------------------------------------------------------------\n",
      "...\n",
      "                                ceil(direction[1] * 100000) * 0.00001,\n",
      "                                ceil(direction[2] * 100000) * 0.00001\n",
      "                            ]\n",
      "                                                                   \n",
      "                            # Raytracing\n",
      "                            intersections, voxels = dda_3d_c(\n",
      "                           ^\n",
      "------------------------------------------------------------\n",
      "\n",
      "/home/sam/.cache/ipython/cython/_cython_magic_e59e7f63ce14d0fd550941aa02505fa7.pyx:77:28: Cannot convert Python object to 'float64_t *'\n",
      "warning: /home/sam/.cache/ipython/cython/_cython_magic_e59e7f63ce14d0fd550941aa02505fa7.pyx:95:54: Index should be typed for more efficient access\n",
      "\n",
      "Error compiling Cython file:\n",
      "------------------------------------------------------------\n",
      "...\n",
      "                                current_voxel,\n",
      "                                dimensions\n",
      "                            )\n",
      "\n",
      "                            intersections = np.array(\n",
      "                                [int(x) for x in (intersections * 100 - 50)]\n",
      "                                                               ^\n",
      "------------------------------------------------------------\n",
      "\n",
      "/home/sam/.cache/ipython/cython/_cython_magic_e59e7f63ce14d0fd550941aa02505fa7.pyx:85:64: Invalid operand types for '*' (float64_t[:]; long)\n"
     ]
    },
    {
     "ename": "TypeError",
     "evalue": "object of type 'NoneType' has no len()",
     "output_type": "error",
     "traceback": [
      "\u001b[0;31m---------------------------------------------------------------------------\u001b[0m",
      "\u001b[0;31mTypeError\u001b[0m                                 Traceback (most recent call last)",
      "\u001b[0;32m<ipython-input-6-457fd2e8f1b0>\u001b[0m in \u001b[0;36m<module>\u001b[0;34m()\u001b[0m\n\u001b[0;32m----> 1\u001b[0;31m \u001b[0mget_ipython\u001b[0m\u001b[0;34m(\u001b[0m\u001b[0;34m)\u001b[0m\u001b[0;34m.\u001b[0m\u001b[0mrun_cell_magic\u001b[0m\u001b[0;34m(\u001b[0m\u001b[0;34m'cython'\u001b[0m\u001b[0;34m,\u001b[0m \u001b[0;34m'-a'\u001b[0m\u001b[0;34m,\u001b[0m \u001b[0;34m'\\nimport numpy as np\\ncimport cython\\ncimport numpy as cnp\\nfrom libc.math cimport sin, cos, ceil\\nfrom conehead.dda_3d_c cimport dda_3d_c\\n@cython.boundscheck(False)  # Deactivate bounds checking\\n@cython.wraparound(False)   # Deactivate negative indexing.\\n@cython.cdivision(True)\\n\\ndef convolve_c_naive(cnp.float64_t[:,:,:] dose_grid_terma, cnp.float64_t[:,:,:] dose_grid_dose, cnp.float64_t[:] dose_grid_dim, cnp.float64_t[:] thetas, cnp.float64_t[:] phis, kernel):\\n\\n    cdef cnp.int32_t xlen = dose_grid_terma.shape[0]\\n    cdef cnp.int32_t ylen = dose_grid_terma.shape[1]\\n    cdef cnp.int32_t zlen = dose_grid_terma.shape[2]\\n    cdef cnp.int32_t dose_grid_shape[3]\\n    dose_grid_shape = [\\n        xlen, ylen, zlen\\n    ]\\n    \\n    cdef cnp.float64_t T, N, N_inv, theta_rad, phi_rad, c_t, s_t, c_p, s_p\\n    cdef cnp.float64_t pi = 3.14159265359\\n    cdef cnp.int32_t num_thetas = thetas.shape[0]\\n    cdef cnp.int32_t num_phis = phis.shape[0]\\n    cdef cnp.int32_t x, y, z, i, j\\n\\n    cdef cnp.int32_t current_voxel[3]\\n    cdef cnp.float64_t direction[3]\\n    cdef cnp.float64_t dimensions[3] \\n    dimensions = [\\n        dose_grid_dim[0], \\n        dose_grid_dim[1],\\n        dose_grid_dim[2]\\n    ]\\n    \\n    cdef cnp.float64_t[:] intersections\\n    cdef cnp.float64_t* voxels\\n    \\n    for x in range(xlen):\\n        for y in range(ylen):\\n            for z in range(zlen):\\n\\n                T = dose_grid_terma[x, y, z]\\n                if T:\\n\\n                    for i in range(num_thetas):\\n                        for j in range(num_phis):\\n                            \\n                            current_voxel = [x, y, z]\\n\\n                            # Calculate direction vector\\n                            theta_rad = thetas[i] * pi / 180.0\\n                            phi_rad = phis[j] * pi / 180.0\\n                            c_t = cos(theta_rad)\\n                            s_t = sin(theta_rad)\\n                            c_p = cos(phi_rad)\\n                            s_p = sin(phi_rad)\\n                            direction = [\\n                                c_t * s_p,\\n                                s_t * s_p,\\n                                c_p\\n                            ]\\n                            N = direction[0] * direction[0] + direction[1] * direction[1] + direction[2] * direction[2]\\n                            N_inv = 1.0 / N\\n                            direction = [  # Normalise\\n                                direction[0] * N_inv,\\n                                direction[1] * N_inv,\\n                                direction[2] * N_inv\\n                            ]\\n                            direction = [  # Discretise\\n                                ceil(direction[0] * 100000) * 0.00001,\\n                                ceil(direction[1] * 100000) * 0.00001,\\n                                ceil(direction[2] * 100000) * 0.00001\\n                            ]\\n                                                                   \\n                            # Raytracing\\n                            intersections, voxels = dda_3d_c(\\n                                direction,\\n                                dose_grid_shape,\\n                                current_voxel,\\n                                dimensions\\n                            )\\n\\n                            intersections = np.array(\\n                                [int(x) for x in (intersections * 100 - 50)]\\n                            )\\n                            intersections = np.absolute(intersections)\\n\\n                            phi_str = \"{:.2f}\".format(phis[j])\\n                            \\n                            for e, _ in enumerate(intersections):\\n                                v = voxels[e]\\n                                if e == 0:\\n                                    k = kernel.cumulative[phi_str][\\n                                        intersections[e]\\n                                    ]\\n                                else:\\n                                    k = kernel.cumulative[phi_str][\\n                                        intersections[e]\\n                                    ] - kernel.cumulative[phi_str][\\n                                        intersections[e - 1]\\n                                    ]\\n                                dose_grid_dose[v[0], v[1], v[2]] += T * k'\u001b[0m\u001b[0;34m)\u001b[0m\u001b[0;34m\u001b[0m\u001b[0m\n\u001b[0m",
      "\u001b[0;32m~/projects/conehead/env/lib/python3.6/site-packages/IPython/core/interactiveshell.py\u001b[0m in \u001b[0;36mrun_cell_magic\u001b[0;34m(self, magic_name, line, cell)\u001b[0m\n\u001b[1;32m   2165\u001b[0m             \u001b[0mmagic_arg_s\u001b[0m \u001b[0;34m=\u001b[0m \u001b[0mself\u001b[0m\u001b[0;34m.\u001b[0m\u001b[0mvar_expand\u001b[0m\u001b[0;34m(\u001b[0m\u001b[0mline\u001b[0m\u001b[0;34m,\u001b[0m \u001b[0mstack_depth\u001b[0m\u001b[0;34m)\u001b[0m\u001b[0;34m\u001b[0m\u001b[0m\n\u001b[1;32m   2166\u001b[0m             \u001b[0;32mwith\u001b[0m \u001b[0mself\u001b[0m\u001b[0;34m.\u001b[0m\u001b[0mbuiltin_trap\u001b[0m\u001b[0;34m:\u001b[0m\u001b[0;34m\u001b[0m\u001b[0m\n\u001b[0;32m-> 2167\u001b[0;31m                 \u001b[0mresult\u001b[0m \u001b[0;34m=\u001b[0m \u001b[0mfn\u001b[0m\u001b[0;34m(\u001b[0m\u001b[0mmagic_arg_s\u001b[0m\u001b[0;34m,\u001b[0m \u001b[0mcell\u001b[0m\u001b[0;34m)\u001b[0m\u001b[0;34m\u001b[0m\u001b[0m\n\u001b[0m\u001b[1;32m   2168\u001b[0m             \u001b[0;32mreturn\u001b[0m \u001b[0mresult\u001b[0m\u001b[0;34m\u001b[0m\u001b[0m\n\u001b[1;32m   2169\u001b[0m \u001b[0;34m\u001b[0m\u001b[0m\n",
      "\u001b[0;32m<decorator-gen-127>\u001b[0m in \u001b[0;36mcython\u001b[0;34m(self, line, cell)\u001b[0m\n",
      "\u001b[0;32m~/projects/conehead/env/lib/python3.6/site-packages/IPython/core/magic.py\u001b[0m in \u001b[0;36m<lambda>\u001b[0;34m(f, *a, **k)\u001b[0m\n\u001b[1;32m    185\u001b[0m     \u001b[0;31m# but it's overkill for just that one bit of state.\u001b[0m\u001b[0;34m\u001b[0m\u001b[0;34m\u001b[0m\u001b[0m\n\u001b[1;32m    186\u001b[0m     \u001b[0;32mdef\u001b[0m \u001b[0mmagic_deco\u001b[0m\u001b[0;34m(\u001b[0m\u001b[0marg\u001b[0m\u001b[0;34m)\u001b[0m\u001b[0;34m:\u001b[0m\u001b[0;34m\u001b[0m\u001b[0m\n\u001b[0;32m--> 187\u001b[0;31m         \u001b[0mcall\u001b[0m \u001b[0;34m=\u001b[0m \u001b[0;32mlambda\u001b[0m \u001b[0mf\u001b[0m\u001b[0;34m,\u001b[0m \u001b[0;34m*\u001b[0m\u001b[0ma\u001b[0m\u001b[0;34m,\u001b[0m \u001b[0;34m**\u001b[0m\u001b[0mk\u001b[0m\u001b[0;34m:\u001b[0m \u001b[0mf\u001b[0m\u001b[0;34m(\u001b[0m\u001b[0;34m*\u001b[0m\u001b[0ma\u001b[0m\u001b[0;34m,\u001b[0m \u001b[0;34m**\u001b[0m\u001b[0mk\u001b[0m\u001b[0;34m)\u001b[0m\u001b[0;34m\u001b[0m\u001b[0m\n\u001b[0m\u001b[1;32m    188\u001b[0m \u001b[0;34m\u001b[0m\u001b[0m\n\u001b[1;32m    189\u001b[0m         \u001b[0;32mif\u001b[0m \u001b[0mcallable\u001b[0m\u001b[0;34m(\u001b[0m\u001b[0marg\u001b[0m\u001b[0;34m)\u001b[0m\u001b[0;34m:\u001b[0m\u001b[0;34m\u001b[0m\u001b[0m\n",
      "\u001b[0;32m~/projects/conehead/env/lib/python3.6/site-packages/Cython/Build/IpythonMagic.py\u001b[0m in \u001b[0;36mcython\u001b[0;34m(self, line, cell)\u001b[0m\n\u001b[1;32m    319\u001b[0m         \u001b[0;32mif\u001b[0m \u001b[0mneed_cythonize\u001b[0m\u001b[0;34m:\u001b[0m\u001b[0;34m\u001b[0m\u001b[0m\n\u001b[1;32m    320\u001b[0m             \u001b[0mextensions\u001b[0m \u001b[0;34m=\u001b[0m \u001b[0mself\u001b[0m\u001b[0;34m.\u001b[0m\u001b[0m_cythonize\u001b[0m\u001b[0;34m(\u001b[0m\u001b[0mmodule_name\u001b[0m\u001b[0;34m,\u001b[0m \u001b[0mcode\u001b[0m\u001b[0;34m,\u001b[0m \u001b[0mlib_dir\u001b[0m\u001b[0;34m,\u001b[0m \u001b[0margs\u001b[0m\u001b[0;34m,\u001b[0m \u001b[0mquiet\u001b[0m\u001b[0;34m=\u001b[0m\u001b[0margs\u001b[0m\u001b[0;34m.\u001b[0m\u001b[0mquiet\u001b[0m\u001b[0;34m)\u001b[0m\u001b[0;34m\u001b[0m\u001b[0m\n\u001b[0;32m--> 321\u001b[0;31m             \u001b[0;32massert\u001b[0m \u001b[0mlen\u001b[0m\u001b[0;34m(\u001b[0m\u001b[0mextensions\u001b[0m\u001b[0;34m)\u001b[0m \u001b[0;34m==\u001b[0m \u001b[0;36m1\u001b[0m\u001b[0;34m\u001b[0m\u001b[0m\n\u001b[0m\u001b[1;32m    322\u001b[0m             \u001b[0mextension\u001b[0m \u001b[0;34m=\u001b[0m \u001b[0mextensions\u001b[0m\u001b[0;34m[\u001b[0m\u001b[0;36m0\u001b[0m\u001b[0;34m]\u001b[0m\u001b[0;34m\u001b[0m\u001b[0m\n\u001b[1;32m    323\u001b[0m             \u001b[0mself\u001b[0m\u001b[0;34m.\u001b[0m\u001b[0m_code_cache\u001b[0m\u001b[0;34m[\u001b[0m\u001b[0mkey\u001b[0m\u001b[0;34m]\u001b[0m \u001b[0;34m=\u001b[0m \u001b[0mmodule_name\u001b[0m\u001b[0;34m\u001b[0m\u001b[0m\n",
      "\u001b[0;31mTypeError\u001b[0m: object of type 'NoneType' has no len()"
     ]
    }
   ],
   "source": [
    "%%cython -a\n",
    "\n",
    "import numpy as np\n",
    "cimport cython\n",
    "cimport numpy as cnp\n",
    "from libc.math cimport sin, cos, ceil\n",
    "from conehead.dda_3d_c cimport dda_3d_c, result\n",
    "from conehead.vector cimport vector, vector_init, vector_append, vector_get, vector_set, vector_free\n",
    "\n",
    "@cython.boundscheck(False)  # Deactivate bounds checking\n",
    "@cython.wraparound(False)   # Deactivate negative indexing.\n",
    "@cython.cdivision(True)\n",
    "def convolve_c_naive(cnp.float64_t[:,:,:] dose_grid_terma, cnp.float64_t[:,:,:] dose_grid_dose, cnp.float64_t[:] dose_grid_dim, cnp.float64_t[:] thetas, cnp.float64_t[:] phis, kernel):\n",
    "\n",
    "    cdef cnp.int32_t xlen = dose_grid_terma.shape[0]\n",
    "    cdef cnp.int32_t ylen = dose_grid_terma.shape[1]\n",
    "    cdef cnp.int32_t zlen = dose_grid_terma.shape[2]\n",
    "    cdef cnp.int32_t dose_grid_shape[3]\n",
    "    dose_grid_shape = [\n",
    "        xlen, ylen, zlen\n",
    "    ]\n",
    "    \n",
    "    cdef cnp.float64_t T, N, N_inv, theta_rad, phi_rad, c_t, s_t, c_p, s_p\n",
    "    cdef cnp.float64_t pi = 3.14159265359\n",
    "    cdef cnp.int32_t num_thetas = thetas.shape[0]\n",
    "    cdef cnp.int32_t num_phis = phis.shape[0]\n",
    "    cdef cnp.int32_t x, y, z, i, j\n",
    "\n",
    "    cdef cnp.int32_t current_voxel[3]\n",
    "    cdef cnp.float64_t direction[3]\n",
    "    cdef cnp.float64_t dimensions[3] \n",
    "    dimensions = [\n",
    "        dose_grid_dim[0], \n",
    "        dose_grid_dim[1],\n",
    "        dose_grid_dim[2]\n",
    "    ]\n",
    "    \n",
    "    cdef result r\n",
    "    \n",
    "    cdef cnp.float64_t[:] intersections\n",
    "    cdef cnp.float64_t* voxels\n",
    "    \n",
    "    for x in range(xlen):\n",
    "        for y in range(ylen):\n",
    "            for z in range(zlen):\n",
    "\n",
    "                T = dose_grid_terma[x, y, z]\n",
    "                if T:\n",
    "\n",
    "                    for i in range(num_thetas):\n",
    "                        for j in range(num_phis):\n",
    "                            \n",
    "                            current_voxel = [x, y, z]\n",
    "\n",
    "                            # Calculate direction vector\n",
    "                            theta_rad = thetas[i] * pi / 180.0\n",
    "                            phi_rad = phis[j] * pi / 180.0\n",
    "                            c_t = cos(theta_rad)\n",
    "                            s_t = sin(theta_rad)\n",
    "                            c_p = cos(phi_rad)\n",
    "                            s_p = sin(phi_rad)\n",
    "                            direction = [\n",
    "                                c_t * s_p,\n",
    "                                s_t * s_p,\n",
    "                                c_p\n",
    "                            ]\n",
    "                            N = direction[0] * direction[0] + direction[1] * direction[1] + direction[2] * direction[2]\n",
    "                            N_inv = 1.0 / N\n",
    "                            direction = [  # Normalise\n",
    "                                direction[0] * N_inv,\n",
    "                                direction[1] * N_inv,\n",
    "                                direction[2] * N_inv\n",
    "                            ]\n",
    "                            direction = [  # Discretise\n",
    "                                ceil(direction[0] * 100000) * 0.00001,\n",
    "                                ceil(direction[1] * 100000) * 0.00001,\n",
    "                                ceil(direction[2] * 100000) * 0.00001\n",
    "                            ]\n",
    "                                                                   \n",
    "                            # Raytracing\n",
    "                            intersections, voxels = dda_3d_c(\n",
    "                                direction,\n",
    "                                dose_grid_shape,\n",
    "                                current_voxel,\n",
    "                                dimensions\n",
    "                            )\n",
    "\n",
    "                            intersections = np.array(\n",
    "                                [int(x) for x in (intersections * 100 - 50)]\n",
    "                            )\n",
    "                            intersections = np.absolute(intersections)\n",
    "\n",
    "                            phi_str = \"{:.2f}\".format(phis[j])\n",
    "                            \n",
    "                            for e, _ in enumerate(intersections):\n",
    "                                v = voxels[e]\n",
    "                                if e == 0:\n",
    "                                    k = kernel.cumulative[phi_str][\n",
    "                                        intersections[e]\n",
    "                                    ]\n",
    "                                else:\n",
    "                                    k = kernel.cumulative[phi_str][\n",
    "                                        intersections[e]\n",
    "                                    ] - kernel.cumulative[phi_str][\n",
    "                                        intersections[e - 1]\n",
    "                                    ]\n",
    "                                dose_grid_dose[v[0], v[1], v[2]] += T * k"
   ]
  },
  {
   "cell_type": "code",
   "execution_count": 55,
   "metadata": {},
   "outputs": [
    {
     "name": "stdout",
     "output_type": "stream",
     "text": [
      "CPU times: user 23.9 s, sys: 0 ns, total: 23.9 s\n",
      "Wall time: 23.9 s\n"
     ]
    }
   ],
   "source": [
    "%%time\n",
    "convolve_c_naive(dose_grid_terma, dose_grid_dose, dose_grid_dim, thetas, phis, kernel)"
   ]
  },
  {
   "cell_type": "code",
   "execution_count": 70,
   "metadata": {},
   "outputs": [
    {
     "data": {
      "text/plain": [
       "numpy.float64"
      ]
     },
     "execution_count": 70,
     "metadata": {},
     "output_type": "execute_result"
    }
   ],
   "source": [
    "type(np.cos(0.5))"
   ]
  },
  {
   "cell_type": "code",
   "execution_count": 71,
   "metadata": {},
   "outputs": [
    {
     "data": {
      "text/plain": [
       "dtype('float64')"
      ]
     },
     "execution_count": 71,
     "metadata": {},
     "output_type": "execute_result"
    }
   ],
   "source": [
    "thetas.dtype"
   ]
  },
  {
   "cell_type": "code",
   "execution_count": null,
   "metadata": {},
   "outputs": [],
   "source": []
  }
 ],
 "metadata": {
  "kernelspec": {
   "display_name": "Python 3",
   "language": "python",
   "name": "python3"
  },
  "language_info": {
   "codemirror_mode": {
    "name": "ipython",
    "version": 3
   },
   "file_extension": ".py",
   "mimetype": "text/x-python",
   "name": "python",
   "nbconvert_exporter": "python",
   "pygments_lexer": "ipython3",
   "version": "3.6.5"
  }
 },
 "nbformat": 4,
 "nbformat_minor": 2
}
