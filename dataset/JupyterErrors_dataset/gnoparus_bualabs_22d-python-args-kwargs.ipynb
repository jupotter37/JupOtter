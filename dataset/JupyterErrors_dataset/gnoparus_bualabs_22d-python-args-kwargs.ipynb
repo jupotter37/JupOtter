{
  "nbformat": 4,
  "nbformat_minor": 0,
  "metadata": {
    "colab": {
      "name": "22d-python-args-kwargs.ipynb",
      "provenance": []
    },
    "kernelspec": {
      "name": "python3",
      "display_name": "Python 3"
    }
  },
  "cells": [
    {
      "cell_type": "markdown",
      "metadata": {
        "id": "N3FCbadotEx8",
        "colab_type": "text"
      },
      "source": [
        "# ประกาศฟังก์ชัน f"
      ]
    },
    {
      "cell_type": "code",
      "metadata": {
        "id": "Ek4BAxEpq2uY",
        "colab_type": "code",
        "colab": {}
      },
      "source": [
        "def f(*args, **kwargs):\n",
        "    print(f'args={args}, kwargs={kwargs}')"
      ],
      "execution_count": 0,
      "outputs": []
    },
    {
      "cell_type": "markdown",
      "metadata": {
        "id": "ycElwSEqtHWc",
        "colab_type": "text"
      },
      "source": [
        "# เรียกฟังก์ชัน f โดยพาสค่า แบบต่าง ๆ "
      ]
    },
    {
      "cell_type": "markdown",
      "metadata": {
        "id": "uG5LjFy6tOrs",
        "colab_type": "text"
      },
      "source": [
        "พาสค่าเดียว"
      ]
    },
    {
      "cell_type": "code",
      "metadata": {
        "id": "1uoBatk1rl4c",
        "colab_type": "code",
        "colab": {
          "base_uri": "https://localhost:8080/",
          "height": 35
        },
        "outputId": "770c4cb5-b34e-4503-aa71-37e0b9faa40d"
      },
      "source": [
        "f(1)"
      ],
      "execution_count": 14,
      "outputs": [
        {
          "output_type": "stream",
          "text": [
            "args=(1,), kwargs={}\n"
          ],
          "name": "stdout"
        }
      ]
    },
    {
      "cell_type": "markdown",
      "metadata": {
        "id": "0p92xi5utS6D",
        "colab_type": "text"
      },
      "source": [
        "พาสหลายค่า"
      ]
    },
    {
      "cell_type": "code",
      "metadata": {
        "id": "ZAI2XtC9r1Ie",
        "colab_type": "code",
        "colab": {
          "base_uri": "https://localhost:8080/",
          "height": 35
        },
        "outputId": "c7fd8988-e920-4a42-9cd3-4e3f3c3095fd"
      },
      "source": [
        "f(1, 2, 3)"
      ],
      "execution_count": 7,
      "outputs": [
        {
          "output_type": "stream",
          "text": [
            "args=(1, 2, 3), kwargs={}\n"
          ],
          "name": "stdout"
        }
      ]
    },
    {
      "cell_type": "markdown",
      "metadata": {
        "id": "TJfbFQ5jtVrP",
        "colab_type": "text"
      },
      "source": [
        "พาส Parameter แบบมีชื่อ"
      ]
    },
    {
      "cell_type": "code",
      "metadata": {
        "id": "RtwJRlZPsfnm",
        "colab_type": "code",
        "colab": {
          "base_uri": "https://localhost:8080/",
          "height": 35
        },
        "outputId": "16f14417-80f0-4a86-92e3-57d01811dbe8"
      },
      "source": [
        "f(a=10, b=20, c=30)"
      ],
      "execution_count": 16,
      "outputs": [
        {
          "output_type": "stream",
          "text": [
            "args=(), kwargs={'a': 10, 'b': 20, 'c': 30}\n"
          ],
          "name": "stdout"
        }
      ]
    },
    {
      "cell_type": "markdown",
      "metadata": {
        "id": "EhjiP4oxtdy3",
        "colab_type": "text"
      },
      "source": [
        "พาส Parameter หลาย Type"
      ]
    },
    {
      "cell_type": "code",
      "metadata": {
        "id": "ChH6mTvjsfdp",
        "colab_type": "code",
        "colab": {
          "base_uri": "https://localhost:8080/",
          "height": 35
        },
        "outputId": "f1f8dbf2-9c6a-4bd2-d769-2005544c7e37"
      },
      "source": [
        "f(1, 2, 3, 'One', 'Two', 'Three')"
      ],
      "execution_count": 19,
      "outputs": [
        {
          "output_type": "stream",
          "text": [
            "args=(1, 2, 3, 'One', 'Two', 'Three'), kwargs={}\n"
          ],
          "name": "stdout"
        }
      ]
    },
    {
      "cell_type": "markdown",
      "metadata": {
        "id": "eiuLe2Vktttl",
        "colab_type": "text"
      },
      "source": [
        "พาส Parameter หลากหลาย Type ผสมทั้งแบบตามตำแหน่ง และ Parameter แบบมีชื่อ"
      ]
    },
    {
      "cell_type": "code",
      "metadata": {
        "id": "vxAVUhSfsfTB",
        "colab_type": "code",
        "colab": {
          "base_uri": "https://localhost:8080/",
          "height": 35
        },
        "outputId": "bfd611fd-3b4d-4898-e5ba-e13c66cc616e"
      },
      "source": [
        "f(1, 2, 3, 'One', 'Two', 'Three', a=10, b=20, c=30, d='Forty')"
      ],
      "execution_count": 22,
      "outputs": [
        {
          "output_type": "stream",
          "text": [
            "args=(1, 2, 3, 'One', 'Two', 'Three'), kwargs={'a': 10, 'b': 20, 'c': 30, 'd': 'Forty'}\n"
          ],
          "name": "stdout"
        }
      ]
    },
    {
      "cell_type": "markdown",
      "metadata": {
        "id": "crwYqiR9t0u0",
        "colab_type": "text"
      },
      "source": [
        "พาส Parameter หลากหลาย Type รวมถึง List"
      ]
    },
    {
      "cell_type": "code",
      "metadata": {
        "id": "RqTdyslvsfEV",
        "colab_type": "code",
        "colab": {
          "base_uri": "https://localhost:8080/",
          "height": 35
        },
        "outputId": "c8deb0bf-ed73-4308-d6df-2505a1ed15e2"
      },
      "source": [
        "f(1, 2, 3, 'One', 'Two', 'Three', [5, 6, 7], a=10, b=20, c=30, d='Forty')"
      ],
      "execution_count": 11,
      "outputs": [
        {
          "output_type": "stream",
          "text": [
            "args=(1, 2, 3, 'One', 'Two', 'Three', [5, 6, 7]), kwargs={'a': 10, 'b': 20, 'c': 30, 'd': 'Forty'}\n"
          ],
          "name": "stdout"
        }
      ]
    },
    {
      "cell_type": "markdown",
      "metadata": {
        "id": "DO99rCeGuBie",
        "colab_type": "text"
      },
      "source": [
        "พาส Parameter หลากหลาย Type รวมถึง Empty List\n"
      ]
    },
    {
      "cell_type": "code",
      "metadata": {
        "id": "OykGnj1Qsevx",
        "colab_type": "code",
        "colab": {
          "base_uri": "https://localhost:8080/",
          "height": 35
        },
        "outputId": "551da919-504f-44b9-d71e-1deab16a95b0"
      },
      "source": [
        "f(1, 2, 3, 'One', 'Two', 'Three', [], a=10, b=20, c=30, d='Forty')"
      ],
      "execution_count": 13,
      "outputs": [
        {
          "output_type": "stream",
          "text": [
            "args=(1, 2, 3, 'One', 'Two', 'Three', []), kwargs={'a': 10, 'b': 20, 'c': 30, 'd': 'Forty'}\n"
          ],
          "name": "stdout"
        }
      ]
    },
    {
      "cell_type": "markdown",
      "metadata": {
        "id": "AdBSTZKns3Rb",
        "colab_type": "text"
      },
      "source": [
        "# ตัวอย่างการใช้งาน args, kwargs"
      ]
    },
    {
      "cell_type": "markdown",
      "metadata": {
        "id": "iEygBOcZwvcE",
        "colab_type": "text"
      },
      "source": [
        "เราจะประกาศฟังก์ชันที่รับ Parameter 2 ตัว นำมาบวกกัน แล้ว return ค่า"
      ]
    },
    {
      "cell_type": "code",
      "metadata": {
        "id": "IvIz6Y18wE-a",
        "colab_type": "code",
        "colab": {}
      },
      "source": [
        "def add_all(a, b):\n",
        "    return a + b"
      ],
      "execution_count": 0,
      "outputs": []
    },
    {
      "cell_type": "markdown",
      "metadata": {
        "id": "jblNg_woxDKu",
        "colab_type": "text"
      },
      "source": [
        "เรียกฟังก์ชัน ด้วย Parameter 2 ตัว"
      ]
    },
    {
      "cell_type": "code",
      "metadata": {
        "id": "R8eh3fSBwOQh",
        "colab_type": "code",
        "colab": {
          "base_uri": "https://localhost:8080/",
          "height": 35
        },
        "outputId": "d6b49dc0-bdb1-408f-c39d-eaa71771a1c3"
      },
      "source": [
        "add_all(3, 4)"
      ],
      "execution_count": 31,
      "outputs": [
        {
          "output_type": "execute_result",
          "data": {
            "text/plain": [
              "7"
            ]
          },
          "metadata": {
            "tags": []
          },
          "execution_count": 31
        }
      ]
    },
    {
      "cell_type": "markdown",
      "metadata": {
        "id": "lvolSmAIxMxd",
        "colab_type": "text"
      },
      "source": [
        "สมมติว่า เราอยากให้ บวกเลข 3 ตัว เราจะลองเรียกฟังก์ชัน ด้วย Parameter 3 ตัว"
      ]
    },
    {
      "cell_type": "code",
      "metadata": {
        "id": "rsFAe-1PwTku",
        "colab_type": "code",
        "colab": {
          "base_uri": "https://localhost:8080/",
          "height": 166
        },
        "outputId": "d8444e99-6586-4135-b562-e84955450630"
      },
      "source": [
        "add_all(3, 4, 5)"
      ],
      "execution_count": 32,
      "outputs": [
        {
          "output_type": "error",
          "ename": "TypeError",
          "evalue": "ignored",
          "traceback": [
            "\u001b[0;31m---------------------------------------------------------------------------\u001b[0m",
            "\u001b[0;31mTypeError\u001b[0m                                 Traceback (most recent call last)",
            "\u001b[0;32m<ipython-input-32-2b532223323b>\u001b[0m in \u001b[0;36m<module>\u001b[0;34m()\u001b[0m\n\u001b[0;32m----> 1\u001b[0;31m \u001b[0madd_all\u001b[0m\u001b[0;34m(\u001b[0m\u001b[0;36m3\u001b[0m\u001b[0;34m,\u001b[0m \u001b[0;36m4\u001b[0m\u001b[0;34m,\u001b[0m \u001b[0;36m5\u001b[0m\u001b[0;34m)\u001b[0m\u001b[0;34m\u001b[0m\u001b[0;34m\u001b[0m\u001b[0m\n\u001b[0m",
            "\u001b[0;31mTypeError\u001b[0m: add_all() takes 2 positional arguments but 3 were given"
          ]
        }
      ]
    },
    {
      "cell_type": "markdown",
      "metadata": {
        "id": "Ar616lYqxUPL",
        "colab_type": "text"
      },
      "source": [
        "Error เพราะฟังก์ชันไม่สามารถรับ Parameter มากกว่า หรือ น้อยกว่า 2 ตัวได้"
      ]
    },
    {
      "cell_type": "markdown",
      "metadata": {
        "id": "YfRVUoM6xgZk",
        "colab_type": "text"
      },
      "source": [
        "เราจะสร้างฟังก์ชันใหม่ ให้รับกี่ Parameter ก็ได้ ด้วย args"
      ]
    },
    {
      "cell_type": "code",
      "metadata": {
        "id": "wcMFPYRIwVb1",
        "colab_type": "code",
        "colab": {}
      },
      "source": [
        "def add_all2(*args):\n",
        "    result = 0\n",
        "    for a in args:\n",
        "        result += a\n",
        "    return result"
      ],
      "execution_count": 0,
      "outputs": []
    },
    {
      "cell_type": "markdown",
      "metadata": {
        "id": "KFvcV-MSxou6",
        "colab_type": "text"
      },
      "source": [
        " เราจะลองเรียกฟังก์ชัน ด้วย Parameter 3 ตัว"
      ]
    },
    {
      "cell_type": "code",
      "metadata": {
        "id": "tXoX2cwIwnHD",
        "colab_type": "code",
        "colab": {
          "base_uri": "https://localhost:8080/",
          "height": 35
        },
        "outputId": "4ea8cb21-db90-4b26-e3b7-f08af61e518c"
      },
      "source": [
        "add_all2(3, 4, 5)"
      ],
      "execution_count": 27,
      "outputs": [
        {
          "output_type": "execute_result",
          "data": {
            "text/plain": [
              "12"
            ]
          },
          "metadata": {
            "tags": []
          },
          "execution_count": 27
        }
      ]
    },
    {
      "cell_type": "markdown",
      "metadata": {
        "id": "U12P69W3xtLX",
        "colab_type": "text"
      },
      "source": [
        " เราจะลองเรียกฟังก์ชัน ด้วย Parameter n ตัว"
      ]
    },
    {
      "cell_type": "code",
      "metadata": {
        "id": "pmNEr5oZwpbI",
        "colab_type": "code",
        "colab": {
          "base_uri": "https://localhost:8080/",
          "height": 35
        },
        "outputId": "825d08db-d5fc-428a-b761-e9774a69e7f2"
      },
      "source": [
        "add_all2(4, 5, 6, 7, 8, 9, 100000000)"
      ],
      "execution_count": 28,
      "outputs": [
        {
          "output_type": "execute_result",
          "data": {
            "text/plain": [
              "100000039"
            ]
          },
          "metadata": {
            "tags": []
          },
          "execution_count": 28
        }
      ]
    },
    {
      "cell_type": "markdown",
      "metadata": {
        "id": "zK1mb1V5wszQ",
        "colab_type": "text"
      },
      "source": [
        "เราสามารถผสม Parameter แบบธรรมดา กับ args, kwargs ได้"
      ]
    },
    {
      "cell_type": "code",
      "metadata": {
        "id": "GW3fCKqtx5NY",
        "colab_type": "code",
        "colab": {}
      },
      "source": [
        "def add_all3(a, b, *args):\n",
        "    result = a + b\n",
        "    for i in args:\n",
        "        result += i\n",
        "    return result"
      ],
      "execution_count": 0,
      "outputs": []
    },
    {
      "cell_type": "code",
      "metadata": {
        "id": "UavmbfffyDMV",
        "colab_type": "code",
        "colab": {
          "base_uri": "https://localhost:8080/",
          "height": 35
        },
        "outputId": "9a660019-edfb-42a8-83da-a605375af2b6"
      },
      "source": [
        "add_all3(4, 5, 6, 7, 8, 9, 100000000)"
      ],
      "execution_count": 35,
      "outputs": [
        {
          "output_type": "execute_result",
          "data": {
            "text/plain": [
              "100000039"
            ]
          },
          "metadata": {
            "tags": []
          },
          "execution_count": 35
        }
      ]
    },
    {
      "cell_type": "code",
      "metadata": {
        "id": "ZWP75-b_yEHI",
        "colab_type": "code",
        "colab": {}
      },
      "source": [
        ""
      ],
      "execution_count": 0,
      "outputs": []
    }
  ]
}