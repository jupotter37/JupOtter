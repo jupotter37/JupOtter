{
 "cells": [
  {
   "cell_type": "markdown",
   "metadata": {},
   "source": [
    "# Validation and specification"
   ]
  },
  {
   "cell_type": "markdown",
   "metadata": {},
   "source": [
    "We use self-made ``GeoDataFrame`` to validate and define data, used in classes and methods.\n",
    "\n",
    "The ``GeoDataFrame`` class is inherited from:\n",
    "\n",
    "- ``geopandas.GeoDataFrame`` -- so it behaves like typical ``GeoDataFrame``.\n",
    "- ``Generic[T]`` -- so you can define ``GeoDataFrame`` columns and types with ``BaseRow`` inherited class.\n",
    "- ``pydantic.BaseModel`` -- so it can access class from ``[]``.\n",
    "\n",
    "Meanwhile the ``BaseRow`` class defines the row of a ``GeoDataFrame`` and is inherited from:\n",
    "\n",
    "- ``pydantic.BaseModel`` -- to automatically validate row data according to class fields.\n",
    "- ``ABC`` -- the class is abstract, so it has to be inherited when you (we) define data."
   ]
  },
  {
   "cell_type": "code",
   "execution_count": 10,
   "metadata": {},
   "outputs": [
    {
     "data": {
      "text/html": [
       "<div>\n",
       "<style scoped>\n",
       "    .dataframe tbody tr th:only-of-type {\n",
       "        vertical-align: middle;\n",
       "    }\n",
       "\n",
       "    .dataframe tbody tr th {\n",
       "        vertical-align: top;\n",
       "    }\n",
       "\n",
       "    .dataframe thead th {\n",
       "        text-align: right;\n",
       "    }\n",
       "</style>\n",
       "<table border=\"1\" class=\"dataframe\">\n",
       "  <thead>\n",
       "    <tr style=\"text-align: right;\">\n",
       "      <th></th>\n",
       "      <th>some_int</th>\n",
       "      <th>some_str</th>\n",
       "      <th>geometry</th>\n",
       "    </tr>\n",
       "  </thead>\n",
       "  <tbody>\n",
       "    <tr>\n",
       "      <th>0</th>\n",
       "      <td>123</td>\n",
       "      <td>foo</td>\n",
       "      <td>POINT (0.00000 0.00000)</td>\n",
       "    </tr>\n",
       "  </tbody>\n",
       "</table>\n",
       "</div>"
      ],
      "text/plain": [
       "   some_int some_str                 geometry\n",
       "0       123      foo  POINT (0.00000 0.00000)"
      ]
     },
     "execution_count": 10,
     "metadata": {},
     "output_type": "execute_result"
    }
   ],
   "source": [
    "import geopandas as gpd\n",
    "from shapely import Point\n",
    "\n",
    "data = [\n",
    "  {\n",
    "    'some_int': 123,\n",
    "    'some_str': 'foo',\n",
    "    'geometry': Point(0,0)\n",
    "  }\n",
    "]\n",
    "\n",
    "gdf = gpd.GeoDataFrame(data)\n",
    "gdf"
   ]
  },
  {
   "cell_type": "markdown",
   "metadata": {},
   "source": [
    "Let's define our own ``BaseRow`` inherited class to see how it works."
   ]
  },
  {
   "cell_type": "code",
   "execution_count": 12,
   "metadata": {},
   "outputs": [
    {
     "data": {
      "text/html": [
       "<div>\n",
       "<style scoped>\n",
       "    .dataframe tbody tr th:only-of-type {\n",
       "        vertical-align: middle;\n",
       "    }\n",
       "\n",
       "    .dataframe tbody tr th {\n",
       "        vertical-align: top;\n",
       "    }\n",
       "\n",
       "    .dataframe thead th {\n",
       "        text-align: right;\n",
       "    }\n",
       "</style>\n",
       "<table border=\"1\" class=\"dataframe\">\n",
       "  <thead>\n",
       "    <tr style=\"text-align: right;\">\n",
       "      <th></th>\n",
       "      <th>geometry</th>\n",
       "      <th>some_int</th>\n",
       "      <th>some_str</th>\n",
       "    </tr>\n",
       "  </thead>\n",
       "  <tbody>\n",
       "    <tr>\n",
       "      <th>0</th>\n",
       "      <td>POINT (0.00000 0.00000)</td>\n",
       "      <td>123</td>\n",
       "      <td>foo</td>\n",
       "    </tr>\n",
       "  </tbody>\n",
       "</table>\n",
       "</div>"
      ],
      "text/plain": [
       "                  geometry  some_int some_str\n",
       "0  POINT (0.00000 0.00000)       123      foo"
      ]
     },
     "execution_count": 12,
     "metadata": {},
     "output_type": "execute_result"
    }
   ],
   "source": [
    "from blocksnet import GeoDataFrame, BaseRow\n",
    "\n",
    "class SomeRow(BaseRow):\n",
    "  some_int : int\n",
    "  some_str : str\n",
    "  geometry : Point\n",
    "\n",
    "GeoDataFrame[SomeRow](gdf)"
   ]
  },
  {
   "cell_type": "markdown",
   "metadata": {},
   "source": [
    "But if data doesn't match defined specification, the error will appear and it's ok."
   ]
  },
  {
   "cell_type": "code",
   "execution_count": 13,
   "metadata": {},
   "outputs": [],
   "source": [
    "gdf.some_int = 'suddenly some string appears'"
   ]
  },
  {
   "cell_type": "code",
   "execution_count": 14,
   "metadata": {},
   "outputs": [
    {
     "ename": "ValidationError",
     "evalue": "1 validation error for SomeRow\nsome_int\n  Input should be a valid integer, unable to parse string as an integer [type=int_parsing, input_value='suddenly some string appears', input_type=str]\n    For further information visit https://errors.pydantic.dev/2.0.1/v/int_parsing",
     "output_type": "error",
     "traceback": [
      "\u001b[0;31m---------------------------------------------------------------------------\u001b[0m",
      "\u001b[0;31mValidationError\u001b[0m                           Traceback (most recent call last)",
      "Cell \u001b[0;32mIn[14], line 1\u001b[0m\n\u001b[0;32m----> 1\u001b[0m \u001b[43mGeoDataFrame\u001b[49m\u001b[43m[\u001b[49m\u001b[43mSomeRow\u001b[49m\u001b[43m]\u001b[49m\u001b[43m(\u001b[49m\u001b[43mgdf\u001b[49m\u001b[43m)\u001b[49m\n",
      "File \u001b[0;32m~/masterplanning/blocksnet/models/geodataframe.py:50\u001b[0m, in \u001b[0;36mGeoDataFrame.__init__\u001b[0;34m(self, data, *args, **kwargs)\u001b[0m\n\u001b[1;32m     48\u001b[0m \u001b[38;5;28;01mfor\u001b[39;00m i \u001b[38;5;129;01min\u001b[39;00m data\u001b[38;5;241m.\u001b[39mindex:\n\u001b[1;32m     49\u001b[0m     \u001b[38;5;28mdict\u001b[39m \u001b[38;5;241m=\u001b[39m data\u001b[38;5;241m.\u001b[39mloc[i]\u001b[38;5;241m.\u001b[39mto_dict()\n\u001b[0;32m---> 50\u001b[0m     rows\u001b[38;5;241m.\u001b[39mappend(\u001b[43mgeneric_class\u001b[49m\u001b[43m(\u001b[49m\u001b[43mindex\u001b[49m\u001b[38;5;241;43m=\u001b[39;49m\u001b[43mi\u001b[49m\u001b[43m,\u001b[49m\u001b[43m \u001b[49m\u001b[38;5;241;43m*\u001b[39;49m\u001b[38;5;241;43m*\u001b[39;49m\u001b[38;5;28;43mdict\u001b[39;49m\u001b[43m)\u001b[49m\u001b[38;5;241m.\u001b[39m\u001b[38;5;18m__dict__\u001b[39m)\n\u001b[1;32m     51\u001b[0m \u001b[38;5;28msuper\u001b[39m()\u001b[38;5;241m.\u001b[39m\u001b[38;5;21m__init__\u001b[39m(rows)\n\u001b[1;32m     52\u001b[0m \u001b[38;5;66;03m# and finally return index to where it belongs\u001b[39;00m\n",
      "File \u001b[0;32m~/masterplanning/venv/lib/python3.10/site-packages/pydantic/main.py:150\u001b[0m, in \u001b[0;36mBaseModel.__init__\u001b[0;34m(__pydantic_self__, **data)\u001b[0m\n\u001b[1;32m    148\u001b[0m \u001b[38;5;66;03m# `__tracebackhide__` tells pytest and some other tools to omit this function from tracebacks\u001b[39;00m\n\u001b[1;32m    149\u001b[0m __tracebackhide__ \u001b[38;5;241m=\u001b[39m \u001b[38;5;28;01mTrue\u001b[39;00m\n\u001b[0;32m--> 150\u001b[0m \u001b[43m__pydantic_self__\u001b[49m\u001b[38;5;241;43m.\u001b[39;49m\u001b[43m__pydantic_validator__\u001b[49m\u001b[38;5;241;43m.\u001b[39;49m\u001b[43mvalidate_python\u001b[49m\u001b[43m(\u001b[49m\u001b[43mdata\u001b[49m\u001b[43m,\u001b[49m\u001b[43m \u001b[49m\u001b[43mself_instance\u001b[49m\u001b[38;5;241;43m=\u001b[39;49m\u001b[43m__pydantic_self__\u001b[49m\u001b[43m)\u001b[49m\n",
      "\u001b[0;31mValidationError\u001b[0m: 1 validation error for SomeRow\nsome_int\n  Input should be a valid integer, unable to parse string as an integer [type=int_parsing, input_value='suddenly some string appears', input_type=str]\n    For further information visit https://errors.pydantic.dev/2.0.1/v/int_parsing"
     ]
    }
   ],
   "source": [
    "GeoDataFrame[SomeRow](gdf)"
   ]
  }
 ],
 "metadata": {
  "kernelspec": {
   "display_name": "venv",
   "language": "python",
   "name": "python3"
  },
  "language_info": {
   "codemirror_mode": {
    "name": "ipython",
    "version": 3
   },
   "file_extension": ".py",
   "mimetype": "text/x-python",
   "name": "python",
   "nbconvert_exporter": "python",
   "pygments_lexer": "ipython3",
   "version": "3.10.12"
  }
 },
 "nbformat": 4,
 "nbformat_minor": 2
}
