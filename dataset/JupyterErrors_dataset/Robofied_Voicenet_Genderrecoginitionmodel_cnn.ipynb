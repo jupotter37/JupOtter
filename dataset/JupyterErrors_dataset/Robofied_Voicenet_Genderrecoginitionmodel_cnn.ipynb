{
 "cells": [
  {
   "cell_type": "code",
   "execution_count": 53,
   "metadata": {},
   "outputs": [],
   "source": [
    "from voicenet.datasets import stamerican\n",
    "from voicenet.training import GMMModelTraining\n",
    "from voicenet.feature_extraction import MFCC\n",
    "import os\n",
    "import numpy as np\n",
    "from keras import models\n",
    "from keras import layers\n",
    "from keras.layers import Dropout\n",
    "from keras.layers import BatchNormalization\n",
    "import matplotlib.pyplot as plt\n",
    "from scipy import stats\n",
    "\n",
    "## SCikit-learn\n",
    "from sklearn.model_selection import StratifiedKFold"
   ]
  },
  {
   "cell_type": "code",
   "execution_count": 2,
   "metadata": {},
   "outputs": [
    {
     "ename": "NameError",
     "evalue": "name '__file__' is not defined",
     "output_type": "error",
     "traceback": [
      "\u001b[0;31m---------------------------------------------------------------------------\u001b[0m",
      "\u001b[0;31mNameError\u001b[0m                                 Traceback (most recent call last)",
      "\u001b[0;32m<ipython-input-2-c0ae23a43308>\u001b[0m in \u001b[0;36m<module>\u001b[0;34m\u001b[0m\n\u001b[0;32m----> 1\u001b[0;31m \u001b[0mprint\u001b[0m\u001b[0;34m(\u001b[0m\u001b[0m__file__\u001b[0m\u001b[0;34m)\u001b[0m\u001b[0;34m\u001b[0m\u001b[0;34m\u001b[0m\u001b[0m\n\u001b[0m",
      "\u001b[0;31mNameError\u001b[0m: name '__file__' is not defined"
     ]
    }
   ],
   "source": [
    "print(__file__)"
   ]
  },
  {
   "cell_type": "code",
   "execution_count": 3,
   "metadata": {},
   "outputs": [
    {
     "name": "stdout",
     "output_type": "stream",
     "text": [
      "/home/ridhima/Documents/Github/Voicenet/notebooks\n"
     ]
    }
   ],
   "source": [
    "print(os.getcwd())"
   ]
  },
  {
   "cell_type": "code",
   "execution_count": 4,
   "metadata": {},
   "outputs": [
    {
     "name": "stdout",
     "output_type": "stream",
     "text": [
      "['/home/ridhima/Documents/Github/Voicenet/notebooks', '/usr/lib/python37.zip', '/usr/lib/python3.7', '/usr/lib/python3.7/lib-dynload', '', '/home/ridhima/Documents/Github/Voicenet/voicenet_venv/lib/python3.7/site-packages', '/home/ridhima/Documents/Github/Voicenet/voicenet_venv/lib/python3.7/site-packages/Voicenet-0.1.0-py3.7.egg', '/home/ridhima/Documents/Github/Voicenet/voicenet_venv/lib/python3.7/site-packages/IPython/extensions', '/home/ridhima/.ipython']\n"
     ]
    }
   ],
   "source": [
    "import sys\n",
    "print(sys.path)"
   ]
  },
  {
   "cell_type": "code",
   "execution_count": 3,
   "metadata": {},
   "outputs": [
    {
     "name": "stdout",
     "output_type": "stream",
     "text": [
      "/home/ridhima/Documents/Github/Voicenet/notebooks\r\n"
     ]
    }
   ],
   "source": [
    "!pwd"
   ]
  },
  {
   "cell_type": "code",
   "execution_count": 54,
   "metadata": {},
   "outputs": [
    {
     "name": "stdout",
     "output_type": "stream",
     "text": [
      "/home/ridhima/Documents/Github/Voicenet/voicenet_venv/lib/python3.7/site-packages/Voicenet-0.1.0-py3.7.egg/data/datasets\n",
      "/home/ridhima/Documents/Github/Voicenet/data/datasets\n",
      "Downloading ST American English Corpus...\n",
      "ST-AEDS-20180100_1-OS.tgz already downloaded\n",
      "f0001\n",
      "0\n",
      "0\n",
      "{'f0001': [], 'f0002': [], 'f0003': [], 'f0004': [], 'f0005': [], 'm0001': [], 'm0002': [], 'm0003': [], 'm0004': [], 'm0005': []}\n",
      "[]\n",
      "f0002\n",
      "0\n",
      "0\n",
      "{'f0001': [], 'f0002': [], 'f0003': [], 'f0004': [], 'f0005': [], 'm0001': [], 'm0002': [], 'm0003': [], 'm0004': [], 'm0005': []}\n",
      "[]\n",
      "f0003\n",
      "0\n",
      "0\n",
      "{'f0001': [], 'f0002': [], 'f0003': [], 'f0004': [], 'f0005': [], 'm0001': [], 'm0002': [], 'm0003': [], 'm0004': [], 'm0005': []}\n",
      "[]\n",
      "f0004\n",
      "0\n",
      "0\n",
      "{'f0001': [], 'f0002': [], 'f0003': [], 'f0004': [], 'f0005': [], 'm0001': [], 'm0002': [], 'm0003': [], 'm0004': [], 'm0005': []}\n",
      "[]\n",
      "f0005\n",
      "0\n",
      "0\n",
      "{'f0001': [], 'f0002': [], 'f0003': [], 'f0004': [], 'f0005': [], 'm0001': [], 'm0002': [], 'm0003': [], 'm0004': [], 'm0005': []}\n",
      "[]\n",
      "m0001\n",
      "0\n",
      "0\n",
      "{'f0001': [], 'f0002': [], 'f0003': [], 'f0004': [], 'f0005': [], 'm0001': [], 'm0002': [], 'm0003': [], 'm0004': [], 'm0005': []}\n",
      "[]\n",
      "m0002\n",
      "0\n",
      "0\n",
      "{'f0001': [], 'f0002': [], 'f0003': [], 'f0004': [], 'f0005': [], 'm0001': [], 'm0002': [], 'm0003': [], 'm0004': [], 'm0005': []}\n",
      "[]\n",
      "m0003\n",
      "0\n",
      "0\n",
      "{'f0001': [], 'f0002': [], 'f0003': [], 'f0004': [], 'f0005': [], 'm0001': [], 'm0002': [], 'm0003': [], 'm0004': [], 'm0005': []}\n",
      "[]\n",
      "m0004\n",
      "0\n",
      "0\n",
      "{'f0001': [], 'f0002': [], 'f0003': [], 'f0004': [], 'f0005': [], 'm0001': [], 'm0002': [], 'm0003': [], 'm0004': [], 'm0005': []}\n",
      "[]\n",
      "m0005\n",
      "0\n",
      "0\n",
      "{'f0001': [], 'f0002': [], 'f0003': [], 'f0004': [], 'f0005': [], 'm0001': [], 'm0002': [], 'm0003': [], 'm0004': [], 'm0005': []}\n",
      "[]\n",
      "[]\n",
      "Exception raised:  /home/ridhima/Documents/Github/Voicenet/data/datasets/ST-AEDS/TrainingData could not be created !\n",
      "Exception raised:  /home/ridhima/Documents/Github/Voicenet/data/datasets/ST-AEDS/TestingData could not be created !\n",
      "Exception raised:  /home/ridhima/Documents/Github/Voicenet/data/datasets/ST-AEDS/TrainingData/females could not be created !\n",
      "Exception raised:  /home/ridhima/Documents/Github/Voicenet/data/datasets/ST-AEDS/TrainingData/males could not be created !\n",
      "Exception raised:  /home/ridhima/Documents/Github/Voicenet/data/datasets/ST-AEDS/TestingData/females could not be created !\n",
      "Exception raised:  /home/ridhima/Documents/Github/Voicenet/data/datasets/ST-AEDS/TestingData/males could not be created !\n",
      "Moving!\n",
      "[]\n",
      "Moving!\n",
      "[]\n",
      "Moving!\n",
      "[]\n",
      "Moving!\n",
      "[]\n",
      "[0, 0, 0, 0, 0, 0, 0, 0, 0, 0, 0, 0, 0, 0, 0, 0, 0, 0, 0, 0, 0, 0, 0, 0, 0, 0, 0, 0, 0, 0, 0, 0, 0, 0, 0, 0, 0, 0, 0, 0, 0, 0, 0, 0, 0, 0, 0, 0, 0, 0, 0, 0, 0, 0, 0, 0, 0, 0, 0, 0, 0, 0, 0, 0, 0, 0, 0, 0, 0, 0, 0, 0, 0, 0, 0, 0, 0, 0, 0, 0, 0, 0, 0, 0, 0, 0, 0, 0, 0, 0, 0, 0, 0, 0, 0, 0, 0, 0, 0, 0, 0, 0, 0, 0, 0, 0, 0, 0, 0, 0, 0, 0, 0, 0, 0, 0, 0, 0, 0, 0, 0, 0, 0, 0, 0, 0, 0, 0, 0, 0, 0, 0, 0, 0, 0, 0, 0, 0, 0, 0, 0, 0, 0, 0, 0, 0, 0, 0, 0, 0, 0, 0, 0, 0, 0, 0, 0, 0, 0, 0, 0, 0, 0, 0, 0, 0, 0, 0, 0, 0, 0, 0, 0, 0, 0, 0, 0, 0, 0, 0, 0, 0, 0, 0, 0, 0, 0, 0, 0, 0, 0, 0, 0, 0, 0, 0, 0, 0, 0, 0, 0, 0, 0, 0, 0, 0, 0, 0, 0, 0, 0, 0, 0, 0, 0, 0, 0, 0, 0, 0, 0, 0, 0, 0, 0, 0, 0, 0, 0, 0, 0, 0, 0, 0, 0, 0, 0, 0, 0, 0, 0, 0, 0, 0, 0, 0, 0, 0, 0, 0, 0, 0, 0, 0, 0, 0, 0, 0, 0, 0, 0, 0, 0, 0, 0, 0, 0, 0, 0, 0, 0, 0, 0, 0, 0, 0, 0, 0, 0, 0, 0, 0, 0, 0, 0, 0, 0, 0, 0, 0, 0, 0, 0, 0, 0, 0, 0, 0, 0, 0, 0, 0, 0, 0, 0, 0, 0, 0, 0, 0, 0, 0, 0, 0, 0, 0, 0, 0, 0, 0, 0, 0, 0, 0, 0, 0, 0, 0, 0, 0, 0, 0, 0, 0, 0, 0, 0, 0, 0, 0, 0, 0, 0, 0, 0, 0, 0, 0, 0, 0, 0, 0, 0, 0, 0, 0, 0, 0, 0, 0, 0, 0, 0, 0, 0, 0, 0, 0, 0, 0, 0, 0, 0, 0, 0, 0, 0, 0, 0, 0, 0, 0, 0, 0, 0, 0, 0, 0, 0, 0, 0, 0, 0, 0, 0, 0, 0, 0, 0, 0, 0, 0, 0, 0, 0, 0, 0, 0, 0, 0, 0, 0, 0, 0, 0, 0, 0, 0, 0, 0, 0, 0, 0, 0, 0, 0, 0, 0, 0, 0, 0, 0, 0, 0, 0, 0, 0, 0, 0, 0, 0, 0, 0, 0, 0, 0, 0, 0, 0, 0, 0, 0, 0, 0, 0, 0, 0, 0, 0, 0, 0, 0, 0, 0, 0, 0, 0, 0, 0, 0, 0, 0, 0, 0, 0, 0, 0, 0, 0, 0, 0, 0, 0, 0, 0, 0, 0, 0, 0, 0, 0, 0, 0, 0, 0, 0, 0, 0, 0, 0, 0, 0, 0, 0, 0, 0, 0, 0, 0, 0, 0, 0, 0, 0, 0, 0, 0, 0, 0, 0, 0, 0, 0, 0, 0, 0, 0, 0, 0, 0, 0, 0, 0, 0, 0, 0, 0, 0, 0, 0, 0, 0, 0, 0, 0, 0, 0, 0, 0, 0, 0, 0, 0, 0, 0, 0, 0, 0, 0, 0, 0, 0, 0, 0, 0, 0, 0, 0, 0, 0, 0, 0, 0, 0, 0, 0, 0, 0, 0, 0, 0, 0, 0, 0, 0, 0, 0, 0, 0, 0, 0, 0, 0, 0, 0, 0, 0, 0, 0, 0, 0, 0, 0, 0, 0, 0, 0, 0, 0, 0, 0, 0, 0, 0, 0, 0, 0, 0, 0, 0, 0, 0, 0, 0, 0, 0, 0, 0, 0, 0, 0, 0, 0, 0, 0, 0, 0, 0, 0, 0, 0, 0, 0, 0, 0, 0, 0, 0, 0, 0, 0, 0, 0, 0, 0, 0, 0, 0, 0, 0, 0, 0, 0, 0, 0, 0, 0, 0, 0, 0, 0, 0, 0, 0, 0, 0, 0, 0, 0, 0, 0, 0, 0, 0, 0, 0, 0, 0, 0, 0, 0, 0, 0, 0, 0, 0, 0, 0, 0, 0, 0, 0, 0, 0, 0, 0, 0, 0, 0, 0, 0, 0, 0, 0, 0, 0, 0, 0, 0, 0, 0, 0, 0, 0, 0, 0, 0, 0, 0, 0, 0, 1, 1, 1, 1, 1, 1, 1, 1, 1, 1, 1, 1, 1, 1, 1, 1, 1, 1, 1, 1, 1, 1, 1, 1, 1, 1, 1, 1, 1, 1, 1, 1, 1, 1, 1, 1, 1, 1, 1, 1, 1, 1, 1, 1, 1, 1, 1, 1, 1, 1, 1, 1, 1, 1, 1, 1, 1, 1, 1, 1, 1, 1, 1, 1, 1, 1, 1, 1, 1, 1, 1, 1, 1, 1, 1, 1, 1, 1, 1, 1, 1, 1, 1, 1, 1, 1, 1, 1, 1, 1, 1, 1, 1, 1, 1, 1, 1, 1, 1, 1, 1, 1, 1, 1, 1, 1, 1, 1, 1, 1, 1, 1, 1, 1, 1, 1, 1, 1, 1, 1, 1, 1, 1, 1, 1, 1, 1, 1, 1, 1, 1, 1, 1, 1, 1, 1, 1, 1, 1, 1, 1, 1, 1, 1, 1, 1, 1, 1, 1, 1, 1, 1, 1, 1, 1, 1, 1, 1, 1, 1, 1, 1, 1, 1, 1, 1, 1, 1, 1, 1, 1, 1, 1, 1, 1, 1, 1, 1, 1, 1, 1, 1, 1, 1, 1, 1, 1, 1, 1, 1, 1, 1, 1, 1, 1, 1, 1, 1, 1, 1, 1, 1, 1, 1, 1, 1, 1, 1, 1, 1, 1, 1, 1, 1, 1, 1, 1, 1, 1, 1, 1, 1, 1, 1, 1, 1, 1, 1, 1, 1, 1, 1, 1, 1, 1, 1, 1, 1, 1, 1, 1, 1, 1, 1, 1, 1, 1, 1, 1, 1, 1, 1, 1, 1, 1, 1, 1, 1, 1, 1, 1, 1, 1, 1, 1, 1, 1, 1, 1, 1, 1, 1, 1, 1, 1, 1, 1, 1, 1, 1, 1, 1, 1, 1, 1, 1, 1, 1, 1, 1, 1, 1, 1, 1, 1, 1, 1, 1, 1, 1, 1, 1, 1, 1, 1, 1, 1, 1, 1, 1, 1, 1, 1, 1, 1, 1, 1, 1, 1, 1, 1, 1, 1, 1, 1, 1, 1, 1, 1, 1, 1, 1, 1, 1, 1, 1, 1, 1, 1, 1, 1, 1, 1, 1, 1, 1, 1, 1, 1, 1, 1, 1, 1, 1, 1, 1, 1, 1, 1, 1, 1, 1, 1, 1, 1, 1, 1, 1, 1, 1, 1, 1, 1, 1, 1, 1, 1, 1, 1, 1, 1, 1, 1, 1, 1, 1, 1, 1, 1, 1, 1, 1, 1, 1, 1, 1, 1, 1, 1, 1, 1, 1, 1, 1, 1, 1, 1, 1, 1, 1, 1, 1, 1, 1, 1, 1, 1, 1, 1, 1, 1, 1, 1, 1, 1, 1, 1, 1, 1, 1, 1, 1, 1, 1, 1, 1, 1, 1, 1, 1, 1, 1, 1, 1, 1, 1, 1, 1, 1, 1, 1, 1, 1, 1, 1, 1, 1, 1, 1, 1, 1, 1, 1, 1, 1, 1, 1, 1, 1, 1, 1, 1, 1, 1, 1, 1, 1, 1, 1, 1, 1, 1, 1, 1, 1, 1, 1, 1, 1, 1, 1, 1, 1, 1, 1, 1, 1, 1, 1, 1, 1, 1, 1, 1, 1, 1, 1, 1, 1, 1, 1, 1, 1, 1, 1, 1, 1, 1, 1, 1, 1, 1, 1, 1, 1, 1, 1, 1, 1, 1, 1, 1, 1, 1, 1, 1, 1, 1, 1, 1, 1, 1, 1, 1, 1, 1, 1, 1, 1, 1, 1, 1, 1, 1]\n"
     ]
    }
   ],
   "source": [
    "# stamerican(direc='./data/raw')\n",
    "\n",
    "(x_train, y_train), (x_test, y_test) = stamerican()\n",
    "\n",
    "print(y_test)"
   ]
  },
  {
   "cell_type": "markdown",
   "metadata": {},
   "source": [
    "## FLATTEN FEATURES"
   ]
  },
  {
   "cell_type": "code",
   "execution_count": 55,
   "metadata": {},
   "outputs": [],
   "source": [
    "def flatten_features_mfcc(files_list):\n",
    "        \n",
    "        \"\"\" Create features for all '.wav' files contains in files_list\n",
    "        \n",
    "        Arguments:\n",
    "            files_list: takes a list of '.wav' training files\n",
    "\n",
    "        Returns:\n",
    "            features: creates a vector of all .wav training files and stack them over as an array\n",
    "        \"\"\"\n",
    "        \n",
    "        features = np.asarray(())\n",
    "        \n",
    "        for file in files_list:\n",
    "            \n",
    "#             logging.info(\"Creating features for {0}\".format(file))\n",
    "            \n",
    "            # mfccfeatures = mfcc_features()\n",
    "            vector = MFCC(file)\n",
    "            \n",
    "#             print(vector.shape)\n",
    "            \n",
    "            vector1 = np.dot(np.transpose(vector),vector)\n",
    "            \n",
    "#             print(vector1.shape)\n",
    "            \n",
    "            ## If features array is empty then stacking is not possible.\n",
    "            if features.size == 0:\n",
    "                ## Each features will be flatten of 39*39 => 1521\n",
    "                features = vector1.flatten()\n",
    "                \n",
    "            else:\n",
    "                features = np.vstack((features, vector1.flatten()))\n",
    "                \n",
    "        return features"
   ]
  },
  {
   "cell_type": "code",
   "execution_count": 56,
   "metadata": {},
   "outputs": [],
   "source": [
    "X_train = flatten_features_mfcc(x_train)"
   ]
  },
  {
   "cell_type": "code",
   "execution_count": 5,
   "metadata": {},
   "outputs": [
    {
     "data": {
      "text/plain": [
       "(2557, 1521)"
      ]
     },
     "execution_count": 5,
     "metadata": {},
     "output_type": "execute_result"
    }
   ],
   "source": [
    "X_train.shape"
   ]
  },
  {
   "cell_type": "code",
   "execution_count": 31,
   "metadata": {},
   "outputs": [
    {
     "data": {
      "image/png": "[encoded data removed]",
      "text/plain": [
       "<Figure size 432x288 with 1 Axes>"
      ]
     },
     "metadata": {
      "needs_background": "light"
     },
     "output_type": "display_data"
    }
   ],
   "source": [
    "plt.plot(X_train)\n",
    "plt.show()"
   ]
  },
  {
   "cell_type": "code",
   "execution_count": 8,
   "metadata": {},
   "outputs": [
    {
     "data": {
      "text/plain": [
       "(2557,)"
      ]
     },
     "execution_count": 8,
     "metadata": {},
     "output_type": "execute_result"
    }
   ],
   "source": [
    "np.array(y_train).shape"
   ]
  },
  {
   "cell_type": "code",
   "execution_count": 17,
   "metadata": {},
   "outputs": [
    {
     "data": {
      "text/plain": [
       "array([[ 4.59000000e+02,  1.15046444e+02, -3.98520521e+01, ...,\n",
       "         1.10616688e+00,  7.41601722e-01,  6.38605099e+00],\n",
       "       [ 3.75000000e+02,  7.88212346e+01, -3.90867648e+00, ...,\n",
       "        -6.47659635e-02,  1.50471913e+00,  5.99751037e+00],\n",
       "       [ 4.15000000e+02,  4.15572651e+01,  8.38001165e+01, ...,\n",
       "         6.88848992e-01,  4.90016281e-01,  5.73472727e+00],\n",
       "       ...,\n",
       "       [ 3.15000000e+02,  2.63268720e+01, -5.93146457e+01, ...,\n",
       "         3.10372177e-01,  2.51783774e-01,  5.07073701e+00],\n",
       "       [ 4.63000000e+02, -3.74891321e+01, -3.33516957e+01, ...,\n",
       "         1.04242161e+00, -7.60371199e-01,  5.22170453e+00],\n",
       "       [ 4.63000000e+02,  1.67069692e+02,  4.67236519e+01, ...,\n",
       "        -5.83617837e-02, -9.17474941e-01,  5.92097143e+00]])"
      ]
     },
     "execution_count": 17,
     "metadata": {},
     "output_type": "execute_result"
    }
   ],
   "source": [
    "X_train"
   ]
  },
  {
   "cell_type": "code",
   "execution_count": 20,
   "metadata": {},
   "outputs": [
    {
     "data": {
      "text/plain": [
       "array([[0],\n",
       "       [0],\n",
       "       [0],\n",
       "       ...,\n",
       "       [1],\n",
       "       [1],\n",
       "       [1]])"
      ]
     },
     "execution_count": 20,
     "metadata": {},
     "output_type": "execute_result"
    }
   ],
   "source": [
    "np.array(y_train).reshape(2557,1)"
   ]
  },
  {
   "cell_type": "markdown",
   "metadata": {},
   "source": [
    "## Vanilla NN"
   ]
  },
  {
   "cell_type": "code",
   "execution_count": 57,
   "metadata": {},
   "outputs": [],
   "source": [
    "np.random.seed(1137)"
   ]
  },
  {
   "cell_type": "code",
   "execution_count": 58,
   "metadata": {},
   "outputs": [],
   "source": [
    "kfold = StratifiedKFold(n_splits=10, shuffle= True, random_state=7)"
   ]
  },
  {
   "cell_type": "code",
   "execution_count": null,
   "metadata": {},
   "outputs": [],
   "source": [
    "X_train[]"
   ]
  },
  {
   "cell_type": "code",
   "execution_count": 59,
   "metadata": {},
   "outputs": [],
   "source": [
    "y_train = np.array(np.array(y_train).reshape(2557,1))"
   ]
  },
  {
   "cell_type": "code",
   "execution_count": 31,
   "metadata": {},
   "outputs": [],
   "source": [
    "# print(kfold.split(X_train, y_train))\n",
    "\n",
    "# for train, test in kfold.split(X_train, y_train):\n",
    "    \n",
    "#     print(X_train[train], y_train[train])"
   ]
  },
  {
   "cell_type": "code",
   "execution_count": 60,
   "metadata": {},
   "outputs": [
    {
     "name": "stdout",
     "output_type": "stream",
     "text": [
      "------ Score of 1 fold -----\n",
      "99.90634515881538\n",
      "Training Accuracy 99.90634515881538 %\n",
      "Validation Accuracy: 99.609375\n",
      "\n",
      "\n",
      "------ Score of 2 fold -----\n",
      "99.9037372469902\n",
      "Training Accuracy 99.9037372469902 %\n",
      "Validation Accuracy: 99.609375\n",
      "\n",
      "\n",
      "------ Score of 3 fold -----\n",
      "99.90395480394363\n",
      "Training Accuracy 99.90395480394363 %\n",
      "Validation Accuracy: 100.0\n",
      "\n",
      "\n",
      "------ Score of 4 fold -----\n",
      "99.90895253419876\n",
      "Training Accuracy 99.90895253419876 %\n",
      "Validation Accuracy: 99.609375\n",
      "\n",
      "\n",
      "------ Score of 5 fold -----\n",
      "99.90026062726974\n",
      "Training Accuracy 99.90026062726974 %\n",
      "Validation Accuracy: 100.0\n",
      "\n",
      "\n",
      "------ Score of 6 fold -----\n",
      "99.91286391019821\n",
      "Training Accuracy 99.91286391019821 %\n",
      "Validation Accuracy: 99.609375\n",
      "\n",
      "\n",
      "------ Score of 7 fold -----\n",
      "99.91177752614021\n",
      "Training Accuracy 99.91177752614021 %\n",
      "Validation Accuracy: 100.0\n",
      "\n",
      "\n",
      "------ Score of 8 fold -----\n",
      "99.90812382102013\n",
      "Training Accuracy 99.90812382102013 %\n",
      "Validation Accuracy: 100.0\n",
      "\n",
      "\n",
      "------ Score of 9 fold -----\n",
      "99.90768927335739\n",
      "Training Accuracy 99.90768927335739 %\n",
      "Validation Accuracy: 100.0\n",
      "\n",
      "\n",
      "------ Score of 10 fold -----\n",
      "99.90725484490395\n",
      "Training Accuracy 99.90725484490395 %\n",
      "Validation Accuracy: 99.60784316062927\n",
      "\n",
      "\n"
     ]
    }
   ],
   "source": [
    "# history = []\n",
    "i = 0\n",
    "for train, test in kfold.split(X_train, np.array(y_train)):\n",
    "\n",
    "    model = models.Sequential()\n",
    "    # model.add(layers.Dense(512, activation='relu', )\n",
    "    # model.add(layers.Dense(512, activation='relu', input_shape =(X_train.shape[1],)))\n",
    "    # model.add(BatchNormalization())\n",
    "    # model.add(Dropout(0.50))\n",
    "    model.add(layers.Dense(256, activation='relu', input_shape =(X_train.shape[1],)))\n",
    "    # model.add(layers.Dense(256, activation='relu'))\n",
    "\n",
    "    model.add(BatchNormalization())\n",
    "    model.add(Dropout(0.50))\n",
    "    model.add(layers.Dense(128, activation='relu'))\n",
    "    # model.add(layers.Dense(128, activation='relu'))\n",
    "    model.add(BatchNormalization())\n",
    "    # model.add(Dropout(0.2))\n",
    "    model.add(layers.Dense(64, activation='relu'))\n",
    "    # model.add(layers.Dense(64, activation='relu'))\n",
    "    # model.add(Dropout(0.2))\n",
    "    model.add(BatchNormalization())\n",
    "    model.add(layers.Dense(32, activation='relu'))\n",
    "    model.add(BatchNormalization())\n",
    "    # model.add(layers.Dense(32, activation='relu'))\n",
    "    model.add(layers.Dense(1, activation='sigmoid'))\n",
    "    \n",
    "    model.compile(optimizer='adam', metrics=['accuracy'], loss='binary_crossentropy')\n",
    "    \n",
    "    history = model.fit(X_train[train], y_train[train], epochs=200, batch_size=64, shuffle=True, verbose=0)\n",
    "    i = i + 1\n",
    "    print(\"------ Score of {} fold -----\".format(i))\n",
    "#     print((sum(history.history[\"accuracy\"])/len(history.history[\"accuracy\"]))*100)\n",
    "    print(\"Training Accuracy {}%\".format((sum(history.history[\"accuracy\"])/len(history.history[\"accuracy\"]))*100))\n",
    "#     print(\"Training accuracy: {}%\".format((sum(history.history[\"accuracy\"])/len(history.history[\"accuracy\"]))*100)\n",
    "    scores = model.evaluate(X_train[test], y_train[test], verbose=0)\n",
    "    print(f\"Validation Accuracy: {(scores[1]*100)}%\")\n",
    "    print(\"\\n\")"
   ]
  },
  {
   "cell_type": "code",
   "execution_count": null,
   "metadata": {},
   "outputs": [],
   "source": [
    "X_test = flatten_features_mfcc(x_test)"
   ]
  },
  {
   "cell_type": "code",
   "execution_count": 61,
   "metadata": {},
   "outputs": [
    {
     "ename": "NameError",
     "evalue": "name 'X_test' is not defined",
     "output_type": "error",
     "traceback": [
      "\u001b[0;31m---------------------------------------------------------------------------\u001b[0m",
      "\u001b[0;31mNameError\u001b[0m                                 Traceback (most recent call last)",
      "\u001b[0;32m<ipython-input-61-0acf3e46d08e>\u001b[0m in \u001b[0;36m<module>\u001b[0;34m\u001b[0m\n\u001b[0;32m----> 1\u001b[0;31m \u001b[0mmodel\u001b[0m\u001b[0;34m.\u001b[0m\u001b[0mevaluate\u001b[0m\u001b[0;34m(\u001b[0m\u001b[0mX_test\u001b[0m\u001b[0;34m,\u001b[0m \u001b[0mnp\u001b[0m\u001b[0;34m.\u001b[0m\u001b[0marray\u001b[0m\u001b[0;34m(\u001b[0m\u001b[0mnp\u001b[0m\u001b[0;34m.\u001b[0m\u001b[0marray\u001b[0m\u001b[0;34m(\u001b[0m\u001b[0my_test\u001b[0m\u001b[0;34m)\u001b[0m\u001b[0;34m.\u001b[0m\u001b[0mreshape\u001b[0m\u001b[0;34m(\u001b[0m\u001b[0;34m(\u001b[0m\u001b[0mlen\u001b[0m\u001b[0;34m(\u001b[0m\u001b[0my_test\u001b[0m\u001b[0;34m)\u001b[0m\u001b[0;34m,\u001b[0m\u001b[0;36m1\u001b[0m\u001b[0;34m)\u001b[0m\u001b[0;34m)\u001b[0m\u001b[0;34m)\u001b[0m\u001b[0;34m)\u001b[0m\u001b[0;34m\u001b[0m\u001b[0;34m\u001b[0m\u001b[0m\n\u001b[0m",
      "\u001b[0;31mNameError\u001b[0m: name 'X_test' is not defined"
     ]
    }
   ],
   "source": [
    "model.evaluate(X_test, np.array(np.array(y_test).reshape((len(y_test),1))))"
   ]
  },
  {
   "cell_type": "code",
   "execution_count": 7,
   "metadata": {},
   "outputs": [],
   "source": [
    "model.compile(optimizer='adam', metrics=['accuracy'], loss='binary_crossentropy')"
   ]
  },
  {
   "cell_type": "code",
   "execution_count": 8,
   "metadata": {},
   "outputs": [
    {
     "name": "stdout",
     "output_type": "stream",
     "text": [
      "Epoch 1/200\n",
      "32/32 [==============================] - 1s 18ms/step - loss: 0.2574 - accuracy: 0.9066 - val_loss: 0.0047 - val_accuracy: 1.0000\n",
      "Epoch 2/200\n",
      "32/32 [==============================] - 0s 6ms/step - loss: 0.0608 - accuracy: 0.9946 - val_loss: 0.0016 - val_accuracy: 1.0000\n",
      "Epoch 3/200\n",
      "32/32 [==============================] - 0s 6ms/step - loss: 0.0306 - accuracy: 0.9971 - val_loss: 0.0010 - val_accuracy: 1.0000\n",
      "Epoch 4/200\n",
      "32/32 [==============================] - 0s 6ms/step - loss: 0.0229 - accuracy: 0.9985 - val_loss: 0.0028 - val_accuracy: 0.9980\n",
      "Epoch 5/200\n",
      "32/32 [==============================] - 0s 7ms/step - loss: 0.0145 - accuracy: 0.9985 - val_loss: 7.9232e-04 - val_accuracy: 1.0000\n",
      "Epoch 6/200\n",
      "32/32 [==============================] - 0s 6ms/step - loss: 0.0135 - accuracy: 0.9985 - val_loss: 0.0012 - val_accuracy: 1.0000\n",
      "Epoch 7/200\n",
      "32/32 [==============================] - 0s 6ms/step - loss: 0.0138 - accuracy: 0.9976 - val_loss: 1.7835e-04 - val_accuracy: 1.0000\n",
      "Epoch 8/200\n",
      "32/32 [==============================] - 0s 6ms/step - loss: 0.0118 - accuracy: 0.9985 - val_loss: 9.0389e-04 - val_accuracy: 1.0000\n",
      "Epoch 9/200\n",
      "32/32 [==============================] - 0s 7ms/step - loss: 0.0048 - accuracy: 1.0000 - val_loss: 2.9471e-04 - val_accuracy: 1.0000\n",
      "Epoch 10/200\n",
      "32/32 [==============================] - 0s 7ms/step - loss: 0.0069 - accuracy: 0.9990 - val_loss: 2.9282e-05 - val_accuracy: 1.0000\n",
      "Epoch 11/200\n",
      "32/32 [==============================] - 0s 6ms/step - loss: 0.0212 - accuracy: 0.9932 - val_loss: 5.0077e-05 - val_accuracy: 1.0000\n",
      "Epoch 12/200\n",
      "32/32 [==============================] - 0s 6ms/step - loss: 0.0115 - accuracy: 0.9980 - val_loss: 2.4235e-04 - val_accuracy: 1.0000\n",
      "Epoch 13/200\n",
      "32/32 [==============================] - 0s 6ms/step - loss: 0.0065 - accuracy: 0.9985 - val_loss: 0.0021 - val_accuracy: 0.9980\n",
      "Epoch 14/200\n",
      "32/32 [==============================] - 0s 6ms/step - loss: 0.0036 - accuracy: 0.9995 - val_loss: 0.0012 - val_accuracy: 1.0000\n",
      "Epoch 15/200\n",
      "32/32 [==============================] - 0s 7ms/step - loss: 0.0046 - accuracy: 0.9990 - val_loss: 2.4949e-04 - val_accuracy: 1.0000\n",
      "Epoch 16/200\n",
      "32/32 [==============================] - 0s 6ms/step - loss: 0.0055 - accuracy: 0.9980 - val_loss: 2.9945e-04 - val_accuracy: 1.0000\n",
      "Epoch 17/200\n",
      "32/32 [==============================] - 0s 6ms/step - loss: 0.0118 - accuracy: 0.9971 - val_loss: 7.8585e-04 - val_accuracy: 1.0000\n",
      "Epoch 18/200\n",
      "32/32 [==============================] - 0s 7ms/step - loss: 0.0027 - accuracy: 1.0000 - val_loss: 3.0800e-04 - val_accuracy: 1.0000\n",
      "Epoch 19/200\n",
      "32/32 [==============================] - 0s 6ms/step - loss: 0.0037 - accuracy: 0.9990 - val_loss: 2.4312e-04 - val_accuracy: 1.0000\n",
      "Epoch 20/200\n",
      "32/32 [==============================] - 0s 8ms/step - loss: 0.0036 - accuracy: 0.9990 - val_loss: 0.0125 - val_accuracy: 0.9961\n",
      "Epoch 21/200\n",
      "32/32 [==============================] - 0s 6ms/step - loss: 0.0081 - accuracy: 0.9966 - val_loss: 0.0229 - val_accuracy: 0.9922\n",
      "Epoch 22/200\n",
      "32/32 [==============================] - 0s 7ms/step - loss: 0.0049 - accuracy: 0.9980 - val_loss: 0.0114 - val_accuracy: 0.9961\n",
      "Epoch 23/200\n",
      "32/32 [==============================] - 0s 6ms/step - loss: 0.0049 - accuracy: 0.9985 - val_loss: 0.0210 - val_accuracy: 0.9980\n",
      "Epoch 24/200\n",
      "32/32 [==============================] - 0s 7ms/step - loss: 0.0059 - accuracy: 0.9990 - val_loss: 0.0393 - val_accuracy: 0.9980\n",
      "Epoch 25/200\n",
      "32/32 [==============================] - 0s 6ms/step - loss: 0.0031 - accuracy: 0.9995 - val_loss: 0.0548 - val_accuracy: 0.9941\n",
      "Epoch 26/200\n",
      "32/32 [==============================] - 0s 6ms/step - loss: 0.0158 - accuracy: 0.9941 - val_loss: 0.0691 - val_accuracy: 0.9980\n",
      "Epoch 27/200\n",
      "32/32 [==============================] - 0s 6ms/step - loss: 0.0042 - accuracy: 0.9985 - val_loss: 0.0697 - val_accuracy: 0.9980\n",
      "Epoch 28/200\n",
      "32/32 [==============================] - 0s 9ms/step - loss: 0.0022 - accuracy: 0.9995 - val_loss: 0.0743 - val_accuracy: 0.9980\n",
      "Epoch 29/200\n",
      "32/32 [==============================] - 0s 6ms/step - loss: 0.0017 - accuracy: 1.0000 - val_loss: 0.0792 - val_accuracy: 0.9980\n",
      "Epoch 30/200\n",
      "32/32 [==============================] - 0s 6ms/step - loss: 0.0075 - accuracy: 0.9976 - val_loss: 0.1011 - val_accuracy: 0.9961\n",
      "Epoch 31/200\n",
      "32/32 [==============================] - 0s 7ms/step - loss: 0.0024 - accuracy: 0.9990 - val_loss: 0.1097 - val_accuracy: 0.9961\n",
      "Epoch 32/200\n",
      "32/32 [==============================] - 0s 7ms/step - loss: 0.0076 - accuracy: 0.9951 - val_loss: 0.1048 - val_accuracy: 0.9961\n",
      "Epoch 33/200\n",
      "32/32 [==============================] - 0s 6ms/step - loss: 0.0050 - accuracy: 0.9990 - val_loss: 0.1077 - val_accuracy: 0.9980\n",
      "Epoch 34/200\n",
      "32/32 [==============================] - 0s 6ms/step - loss: 0.0085 - accuracy: 0.9980 - val_loss: 0.1075 - val_accuracy: 0.9961\n",
      "Epoch 35/200\n",
      "32/32 [==============================] - 0s 6ms/step - loss: 0.0046 - accuracy: 0.9985 - val_loss: 0.1143 - val_accuracy: 0.9961\n",
      "Epoch 36/200\n",
      "32/32 [==============================] - 0s 6ms/step - loss: 0.0032 - accuracy: 0.9990 - val_loss: 0.1153 - val_accuracy: 0.9961\n",
      "Epoch 37/200\n",
      "32/32 [==============================] - 0s 6ms/step - loss: 0.0026 - accuracy: 0.9995 - val_loss: 0.1095 - val_accuracy: 0.9961\n",
      "Epoch 38/200\n",
      "32/32 [==============================] - 0s 7ms/step - loss: 0.0023 - accuracy: 0.9995 - val_loss: 0.1101 - val_accuracy: 0.9961\n",
      "Epoch 39/200\n",
      "32/32 [==============================] - 0s 6ms/step - loss: 0.0035 - accuracy: 0.9990 - val_loss: 0.0985 - val_accuracy: 0.9961\n",
      "Epoch 40/200\n",
      "32/32 [==============================] - 0s 7ms/step - loss: 0.0045 - accuracy: 0.9976 - val_loss: 0.0985 - val_accuracy: 0.9961\n",
      "Epoch 41/200\n",
      "32/32 [==============================] - 0s 6ms/step - loss: 0.0039 - accuracy: 0.9990 - val_loss: 0.1004 - val_accuracy: 0.9961\n",
      "Epoch 42/200\n",
      "32/32 [==============================] - 0s 7ms/step - loss: 0.0051 - accuracy: 0.9990 - val_loss: 0.1168 - val_accuracy: 0.9961\n",
      "Epoch 43/200\n",
      "32/32 [==============================] - 0s 7ms/step - loss: 0.0072 - accuracy: 0.9985 - val_loss: 0.0979 - val_accuracy: 0.9961\n",
      "Epoch 44/200\n",
      "32/32 [==============================] - 0s 6ms/step - loss: 0.0078 - accuracy: 0.9976 - val_loss: 0.1119 - val_accuracy: 0.9980\n",
      "Epoch 45/200\n",
      "32/32 [==============================] - 0s 7ms/step - loss: 0.0031 - accuracy: 0.9995 - val_loss: 0.1180 - val_accuracy: 0.9980\n",
      "Epoch 46/200\n",
      "32/32 [==============================] - 0s 6ms/step - loss: 0.0028 - accuracy: 0.9985 - val_loss: 0.1050 - val_accuracy: 0.9980\n",
      "Epoch 47/200\n",
      "32/32 [==============================] - 0s 6ms/step - loss: 0.0027 - accuracy: 0.9995 - val_loss: 0.1077 - val_accuracy: 0.9961\n",
      "Epoch 48/200\n",
      "32/32 [==============================] - 0s 6ms/step - loss: 0.0019 - accuracy: 0.9995 - val_loss: 0.1084 - val_accuracy: 0.9961\n",
      "Epoch 49/200\n",
      "32/32 [==============================] - 0s 6ms/step - loss: 0.0015 - accuracy: 0.9995 - val_loss: 0.1092 - val_accuracy: 0.9922\n",
      "Epoch 50/200\n",
      "32/32 [==============================] - 0s 6ms/step - loss: 0.0045 - accuracy: 0.9995 - val_loss: 0.1207 - val_accuracy: 0.9961\n",
      "Epoch 51/200\n",
      "32/32 [==============================] - 0s 7ms/step - loss: 7.3455e-04 - accuracy: 1.0000 - val_loss: 0.1161 - val_accuracy: 0.9961\n",
      "Epoch 52/200\n",
      "32/32 [==============================] - 0s 6ms/step - loss: 0.0026 - accuracy: 0.9990 - val_loss: 0.1369 - val_accuracy: 0.9941\n",
      "Epoch 53/200\n",
      "32/32 [==============================] - 0s 7ms/step - loss: 7.9474e-04 - accuracy: 1.0000 - val_loss: 0.1343 - val_accuracy: 0.9941\n",
      "Epoch 54/200\n",
      "32/32 [==============================] - 0s 6ms/step - loss: 0.0011 - accuracy: 1.0000 - val_loss: 0.1509 - val_accuracy: 0.9922\n",
      "Epoch 55/200\n",
      "32/32 [==============================] - 0s 6ms/step - loss: 2.7867e-04 - accuracy: 1.0000 - val_loss: 0.1492 - val_accuracy: 0.9941\n",
      "Epoch 56/200\n",
      "32/32 [==============================] - 0s 7ms/step - loss: 6.3632e-04 - accuracy: 1.0000 - val_loss: 0.1354 - val_accuracy: 0.9941\n",
      "Epoch 57/200\n",
      "32/32 [==============================] - 0s 7ms/step - loss: 0.0011 - accuracy: 1.0000 - val_loss: 0.1403 - val_accuracy: 0.9941\n",
      "Epoch 58/200\n"
     ]
    },
    {
     "name": "stdout",
     "output_type": "stream",
     "text": [
      "32/32 [==============================] - 0s 6ms/step - loss: 2.4919e-04 - accuracy: 1.0000 - val_loss: 0.1410 - val_accuracy: 0.9941\n",
      "Epoch 59/200\n",
      "32/32 [==============================] - 0s 6ms/step - loss: 9.7611e-04 - accuracy: 0.9995 - val_loss: 0.1315 - val_accuracy: 0.9941\n",
      "Epoch 60/200\n",
      "32/32 [==============================] - 0s 6ms/step - loss: 0.0064 - accuracy: 0.9990 - val_loss: 0.1156 - val_accuracy: 0.9941\n",
      "Epoch 61/200\n",
      "32/32 [==============================] - 0s 6ms/step - loss: 0.0077 - accuracy: 0.9985 - val_loss: 0.0915 - val_accuracy: 0.9961\n",
      "Epoch 62/200\n",
      "32/32 [==============================] - 0s 6ms/step - loss: 0.0010 - accuracy: 0.9995 - val_loss: 0.0795 - val_accuracy: 0.9961\n",
      "Epoch 63/200\n",
      "32/32 [==============================] - 0s 6ms/step - loss: 0.0078 - accuracy: 0.9985 - val_loss: 0.1073 - val_accuracy: 0.9961\n",
      "Epoch 64/200\n",
      "32/32 [==============================] - 0s 6ms/step - loss: 4.5512e-04 - accuracy: 1.0000 - val_loss: 0.0994 - val_accuracy: 0.9961\n",
      "Epoch 65/200\n",
      "32/32 [==============================] - 0s 6ms/step - loss: 0.0019 - accuracy: 0.9995 - val_loss: 0.0977 - val_accuracy: 0.9961\n",
      "Epoch 66/200\n",
      "32/32 [==============================] - 0s 6ms/step - loss: 3.6762e-04 - accuracy: 1.0000 - val_loss: 0.0916 - val_accuracy: 0.9961\n",
      "Epoch 67/200\n",
      "32/32 [==============================] - 0s 7ms/step - loss: 2.5370e-04 - accuracy: 1.0000 - val_loss: 0.0891 - val_accuracy: 0.9961\n",
      "Epoch 68/200\n",
      "32/32 [==============================] - 0s 7ms/step - loss: 2.9665e-04 - accuracy: 1.0000 - val_loss: 0.0865 - val_accuracy: 0.9961\n",
      "Epoch 69/200\n",
      "32/32 [==============================] - 0s 8ms/step - loss: 3.3843e-04 - accuracy: 1.0000 - val_loss: 0.0835 - val_accuracy: 0.9961\n",
      "Epoch 70/200\n",
      "32/32 [==============================] - 0s 6ms/step - loss: 1.9771e-04 - accuracy: 1.0000 - val_loss: 0.0809 - val_accuracy: 0.9961\n",
      "Epoch 71/200\n",
      "32/32 [==============================] - 0s 7ms/step - loss: 0.0012 - accuracy: 0.9995 - val_loss: 0.0861 - val_accuracy: 0.9961\n",
      "Epoch 72/200\n",
      "32/32 [==============================] - 0s 6ms/step - loss: 7.1510e-04 - accuracy: 1.0000 - val_loss: 0.0967 - val_accuracy: 0.9980\n",
      "Epoch 73/200\n",
      "32/32 [==============================] - 0s 6ms/step - loss: 7.8922e-04 - accuracy: 0.9995 - val_loss: 0.0950 - val_accuracy: 0.9980\n",
      "Epoch 74/200\n",
      "32/32 [==============================] - 0s 6ms/step - loss: 0.0017 - accuracy: 0.9995 - val_loss: 0.1126 - val_accuracy: 0.9961\n",
      "Epoch 75/200\n",
      "32/32 [==============================] - 0s 7ms/step - loss: 0.0018 - accuracy: 0.9995 - val_loss: 0.1184 - val_accuracy: 0.9902\n",
      "Epoch 76/200\n",
      "32/32 [==============================] - 0s 7ms/step - loss: 0.0035 - accuracy: 0.9990 - val_loss: 0.1815 - val_accuracy: 0.9941\n",
      "Epoch 77/200\n",
      "32/32 [==============================] - 0s 7ms/step - loss: 0.0021 - accuracy: 0.9990 - val_loss: 0.1154 - val_accuracy: 0.9941\n",
      "Epoch 78/200\n",
      "32/32 [==============================] - 0s 7ms/step - loss: 9.3227e-04 - accuracy: 0.9995 - val_loss: 0.1052 - val_accuracy: 0.9980\n",
      "Epoch 79/200\n",
      "32/32 [==============================] - 0s 6ms/step - loss: 6.4364e-04 - accuracy: 0.9995 - val_loss: 0.0981 - val_accuracy: 0.9961\n",
      "Epoch 80/200\n",
      "32/32 [==============================] - 0s 6ms/step - loss: 8.1593e-04 - accuracy: 0.9995 - val_loss: 0.1000 - val_accuracy: 0.9961\n",
      "Epoch 81/200\n",
      "32/32 [==============================] - 0s 7ms/step - loss: 0.0028 - accuracy: 0.9990 - val_loss: 0.1185 - val_accuracy: 0.9941\n",
      "Epoch 82/200\n",
      "32/32 [==============================] - 0s 6ms/step - loss: 9.8195e-04 - accuracy: 0.9995 - val_loss: 0.1304 - val_accuracy: 0.9922\n",
      "Epoch 83/200\n",
      "32/32 [==============================] - 0s 6ms/step - loss: 0.0012 - accuracy: 0.9995 - val_loss: 0.1163 - val_accuracy: 0.9941\n",
      "Epoch 84/200\n",
      "32/32 [==============================] - 0s 6ms/step - loss: 0.0034 - accuracy: 0.9995 - val_loss: 0.1207 - val_accuracy: 0.9941\n",
      "Epoch 85/200\n",
      "32/32 [==============================] - 0s 6ms/step - loss: 3.4235e-04 - accuracy: 1.0000 - val_loss: 0.1049 - val_accuracy: 0.9961\n",
      "Epoch 86/200\n",
      "32/32 [==============================] - 0s 6ms/step - loss: 0.0017 - accuracy: 0.9995 - val_loss: 0.1114 - val_accuracy: 0.9941\n",
      "Epoch 87/200\n",
      "32/32 [==============================] - 0s 6ms/step - loss: 0.0016 - accuracy: 0.9995 - val_loss: 0.0947 - val_accuracy: 0.9961\n",
      "Epoch 88/200\n",
      "32/32 [==============================] - 0s 6ms/step - loss: 8.2045e-04 - accuracy: 1.0000 - val_loss: 0.0780 - val_accuracy: 0.9961\n",
      "Epoch 89/200\n",
      "32/32 [==============================] - 0s 6ms/step - loss: 2.3739e-04 - accuracy: 1.0000 - val_loss: 0.0715 - val_accuracy: 0.9961\n",
      "Epoch 90/200\n",
      "32/32 [==============================] - 0s 7ms/step - loss: 0.0024 - accuracy: 0.9995 - val_loss: 0.0655 - val_accuracy: 0.9941\n",
      "Epoch 91/200\n",
      "32/32 [==============================] - 0s 6ms/step - loss: 7.7300e-04 - accuracy: 0.9995 - val_loss: 0.0575 - val_accuracy: 0.9961\n",
      "Epoch 92/200\n",
      "32/32 [==============================] - 0s 7ms/step - loss: 9.1206e-04 - accuracy: 1.0000 - val_loss: 0.0567 - val_accuracy: 0.9961\n",
      "Epoch 93/200\n",
      "32/32 [==============================] - 0s 6ms/step - loss: 0.0031 - accuracy: 0.9995 - val_loss: 0.0375 - val_accuracy: 0.9980\n",
      "Epoch 94/200\n",
      "32/32 [==============================] - 0s 6ms/step - loss: 0.0024 - accuracy: 0.9990 - val_loss: 0.0527 - val_accuracy: 0.9980\n",
      "Epoch 95/200\n",
      "32/32 [==============================] - 0s 7ms/step - loss: 2.0484e-04 - accuracy: 1.0000 - val_loss: 0.0502 - val_accuracy: 0.9980\n",
      "Epoch 96/200\n",
      "32/32 [==============================] - 0s 6ms/step - loss: 0.0014 - accuracy: 0.9995 - val_loss: 0.0627 - val_accuracy: 0.9961\n",
      "Epoch 97/200\n",
      "32/32 [==============================] - 0s 6ms/step - loss: 0.0022 - accuracy: 0.9995 - val_loss: 0.0637 - val_accuracy: 0.9961\n",
      "Epoch 98/200\n",
      "32/32 [==============================] - 0s 6ms/step - loss: 3.6651e-04 - accuracy: 1.0000 - val_loss: 0.0748 - val_accuracy: 0.9941\n",
      "Epoch 99/200\n",
      "32/32 [==============================] - 0s 9ms/step - loss: 1.0531e-04 - accuracy: 1.0000 - val_loss: 0.0766 - val_accuracy: 0.9941\n",
      "Epoch 100/200\n",
      "32/32 [==============================] - 0s 8ms/step - loss: 1.6683e-04 - accuracy: 1.0000 - val_loss: 0.0768 - val_accuracy: 0.9941\n",
      "Epoch 101/200\n",
      "32/32 [==============================] - 0s 7ms/step - loss: 6.3784e-05 - accuracy: 1.0000 - val_loss: 0.0749 - val_accuracy: 0.9961\n",
      "Epoch 102/200\n",
      "32/32 [==============================] - 0s 6ms/step - loss: 0.0014 - accuracy: 0.9995 - val_loss: 0.0684 - val_accuracy: 0.9961\n",
      "Epoch 103/200\n",
      "32/32 [==============================] - 0s 6ms/step - loss: 0.0012 - accuracy: 0.9995 - val_loss: 0.0340 - val_accuracy: 0.9961\n",
      "Epoch 104/200\n",
      "32/32 [==============================] - 0s 6ms/step - loss: 0.0011 - accuracy: 0.9995 - val_loss: 0.0359 - val_accuracy: 0.9980\n",
      "Epoch 105/200\n",
      "32/32 [==============================] - 0s 6ms/step - loss: 2.5089e-04 - accuracy: 1.0000 - val_loss: 0.0473 - val_accuracy: 0.9980\n",
      "Epoch 106/200\n",
      "32/32 [==============================] - 0s 6ms/step - loss: 3.7067e-04 - accuracy: 1.0000 - val_loss: 0.0418 - val_accuracy: 0.9961\n",
      "Epoch 107/200\n",
      "32/32 [==============================] - 0s 6ms/step - loss: 0.0013 - accuracy: 0.9990 - val_loss: 0.0691 - val_accuracy: 0.9941\n",
      "Epoch 108/200\n",
      "32/32 [==============================] - 0s 6ms/step - loss: 0.0052 - accuracy: 0.9990 - val_loss: 0.0563 - val_accuracy: 0.9941\n",
      "Epoch 109/200\n",
      "32/32 [==============================] - 0s 6ms/step - loss: 0.0017 - accuracy: 0.9995 - val_loss: 0.0986 - val_accuracy: 0.9941\n",
      "Epoch 110/200\n",
      "32/32 [==============================] - 0s 6ms/step - loss: 8.6608e-04 - accuracy: 0.9995 - val_loss: 0.0440 - val_accuracy: 0.9961\n",
      "Epoch 111/200\n",
      "32/32 [==============================] - 0s 6ms/step - loss: 3.8895e-04 - accuracy: 1.0000 - val_loss: 0.0344 - val_accuracy: 0.9961\n",
      "Epoch 112/200\n",
      "32/32 [==============================] - 0s 6ms/step - loss: 0.0053 - accuracy: 0.9990 - val_loss: 0.0531 - val_accuracy: 0.9961\n",
      "Epoch 113/200\n",
      "32/32 [==============================] - 0s 6ms/step - loss: 0.0011 - accuracy: 1.0000 - val_loss: 0.1029 - val_accuracy: 0.9961\n",
      "Epoch 114/200\n",
      "32/32 [==============================] - 0s 6ms/step - loss: 4.8605e-04 - accuracy: 0.9995 - val_loss: 0.1384 - val_accuracy: 0.9961\n"
     ]
    },
    {
     "name": "stdout",
     "output_type": "stream",
     "text": [
      "Epoch 115/200\n",
      "32/32 [==============================] - 0s 6ms/step - loss: 3.3308e-04 - accuracy: 1.0000 - val_loss: 0.1455 - val_accuracy: 0.9922\n",
      "Epoch 116/200\n",
      "32/32 [==============================] - 0s 7ms/step - loss: 8.7467e-05 - accuracy: 1.0000 - val_loss: 0.1537 - val_accuracy: 0.9922\n",
      "Epoch 117/200\n",
      "32/32 [==============================] - 0s 6ms/step - loss: 0.0017 - accuracy: 0.9995 - val_loss: 0.1915 - val_accuracy: 0.9922\n",
      "Epoch 118/200\n",
      "32/32 [==============================] - 0s 6ms/step - loss: 0.0014 - accuracy: 0.9995 - val_loss: 0.1580 - val_accuracy: 0.9922\n",
      "Epoch 119/200\n",
      "32/32 [==============================] - 0s 6ms/step - loss: 0.0038 - accuracy: 0.9990 - val_loss: 0.1344 - val_accuracy: 0.9941\n",
      "Epoch 120/200\n",
      "32/32 [==============================] - 0s 6ms/step - loss: 0.0016 - accuracy: 0.9995 - val_loss: 0.0752 - val_accuracy: 0.9961\n",
      "Epoch 121/200\n",
      "32/32 [==============================] - 0s 6ms/step - loss: 0.0013 - accuracy: 0.9995 - val_loss: 0.0744 - val_accuracy: 0.9961\n",
      "Epoch 122/200\n",
      "32/32 [==============================] - 0s 6ms/step - loss: 0.0045 - accuracy: 0.9995 - val_loss: 0.0556 - val_accuracy: 0.9941\n",
      "Epoch 123/200\n",
      "32/32 [==============================] - 0s 7ms/step - loss: 6.5826e-04 - accuracy: 0.9995 - val_loss: 0.0540 - val_accuracy: 0.9941\n",
      "Epoch 124/200\n",
      "32/32 [==============================] - 0s 6ms/step - loss: 1.2077e-04 - accuracy: 1.0000 - val_loss: 0.0532 - val_accuracy: 0.9941\n",
      "Epoch 125/200\n",
      "32/32 [==============================] - 0s 6ms/step - loss: 0.0025 - accuracy: 0.9985 - val_loss: 0.0645 - val_accuracy: 0.9941\n",
      "Epoch 126/200\n",
      "32/32 [==============================] - 0s 6ms/step - loss: 3.1743e-04 - accuracy: 1.0000 - val_loss: 0.0561 - val_accuracy: 0.9941\n",
      "Epoch 127/200\n",
      "32/32 [==============================] - 0s 7ms/step - loss: 1.9451e-04 - accuracy: 1.0000 - val_loss: 0.0509 - val_accuracy: 0.9941\n",
      "Epoch 128/200\n",
      "32/32 [==============================] - 0s 7ms/step - loss: 0.0034 - accuracy: 0.9990 - val_loss: 0.0336 - val_accuracy: 0.9961\n",
      "Epoch 129/200\n",
      "32/32 [==============================] - 0s 7ms/step - loss: 0.0019 - accuracy: 0.9990 - val_loss: 0.0052 - val_accuracy: 0.9980\n",
      "Epoch 130/200\n",
      "32/32 [==============================] - 0s 6ms/step - loss: 0.0040 - accuracy: 0.9995 - val_loss: 0.0277 - val_accuracy: 0.9961\n",
      "Epoch 131/200\n",
      "32/32 [==============================] - 0s 6ms/step - loss: 0.0011 - accuracy: 1.0000 - val_loss: 0.0548 - val_accuracy: 0.9961\n",
      "Epoch 132/200\n",
      "32/32 [==============================] - 0s 7ms/step - loss: 6.7025e-05 - accuracy: 1.0000 - val_loss: 0.0622 - val_accuracy: 0.9961\n",
      "Epoch 133/200\n",
      "32/32 [==============================] - 0s 6ms/step - loss: 0.0011 - accuracy: 0.9995 - val_loss: 0.0764 - val_accuracy: 0.9941\n",
      "Epoch 134/200\n",
      "32/32 [==============================] - 0s 6ms/step - loss: 0.0010 - accuracy: 0.9995 - val_loss: 0.1130 - val_accuracy: 0.9941\n",
      "Epoch 135/200\n",
      "32/32 [==============================] - 0s 6ms/step - loss: 0.0013 - accuracy: 0.9995 - val_loss: 0.0986 - val_accuracy: 0.9922\n",
      "Epoch 136/200\n",
      "32/32 [==============================] - 0s 6ms/step - loss: 4.2786e-04 - accuracy: 1.0000 - val_loss: 0.1068 - val_accuracy: 0.9922\n",
      "Epoch 137/200\n",
      "32/32 [==============================] - 0s 6ms/step - loss: 2.4290e-04 - accuracy: 1.0000 - val_loss: 0.1019 - val_accuracy: 0.9922\n",
      "Epoch 138/200\n",
      "32/32 [==============================] - 0s 7ms/step - loss: 0.0011 - accuracy: 0.9995 - val_loss: 0.0642 - val_accuracy: 0.9922\n",
      "Epoch 139/200\n",
      "32/32 [==============================] - 0s 6ms/step - loss: 0.0048 - accuracy: 0.9995 - val_loss: 0.0960 - val_accuracy: 0.9922\n",
      "Epoch 140/200\n",
      "32/32 [==============================] - 0s 6ms/step - loss: 1.1036e-04 - accuracy: 1.0000 - val_loss: 0.0990 - val_accuracy: 0.9922\n",
      "Epoch 141/200\n",
      "32/32 [==============================] - 0s 7ms/step - loss: 1.7354e-04 - accuracy: 1.0000 - val_loss: 0.0911 - val_accuracy: 0.9922\n",
      "Epoch 142/200\n",
      "32/32 [==============================] - 0s 6ms/step - loss: 4.3558e-04 - accuracy: 1.0000 - val_loss: 0.1132 - val_accuracy: 0.9941\n",
      "Epoch 143/200\n",
      "32/32 [==============================] - 0s 6ms/step - loss: 9.1568e-04 - accuracy: 0.9995 - val_loss: 0.1488 - val_accuracy: 0.9922\n",
      "Epoch 144/200\n",
      "32/32 [==============================] - 0s 6ms/step - loss: 0.0037 - accuracy: 0.9985 - val_loss: 0.2058 - val_accuracy: 0.9883\n",
      "Epoch 145/200\n",
      "32/32 [==============================] - 0s 6ms/step - loss: 0.0016 - accuracy: 0.9995 - val_loss: 0.2101 - val_accuracy: 0.9902\n",
      "Epoch 146/200\n",
      "32/32 [==============================] - 0s 6ms/step - loss: 5.8564e-04 - accuracy: 0.9995 - val_loss: 0.1819 - val_accuracy: 0.9883\n",
      "Epoch 147/200\n",
      "32/32 [==============================] - 0s 7ms/step - loss: 1.3282e-04 - accuracy: 1.0000 - val_loss: 0.1712 - val_accuracy: 0.9922\n",
      "Epoch 148/200\n",
      "32/32 [==============================] - 0s 6ms/step - loss: 2.6319e-04 - accuracy: 1.0000 - val_loss: 0.1679 - val_accuracy: 0.9941\n",
      "Epoch 149/200\n",
      "32/32 [==============================] - 0s 6ms/step - loss: 1.3916e-04 - accuracy: 1.0000 - val_loss: 0.1575 - val_accuracy: 0.9941\n",
      "Epoch 150/200\n",
      "32/32 [==============================] - 0s 6ms/step - loss: 3.8472e-04 - accuracy: 1.0000 - val_loss: 0.1627 - val_accuracy: 0.9922\n",
      "Epoch 151/200\n",
      "32/32 [==============================] - 0s 6ms/step - loss: 9.7445e-04 - accuracy: 0.9995 - val_loss: 0.1315 - val_accuracy: 0.9922\n",
      "Epoch 152/200\n",
      "32/32 [==============================] - 0s 6ms/step - loss: 4.7500e-04 - accuracy: 1.0000 - val_loss: 0.1062 - val_accuracy: 0.9941\n",
      "Epoch 153/200\n",
      "32/32 [==============================] - 0s 6ms/step - loss: 6.8108e-05 - accuracy: 1.0000 - val_loss: 0.0955 - val_accuracy: 0.9961\n",
      "Epoch 154/200\n",
      "32/32 [==============================] - 0s 6ms/step - loss: 1.0089e-04 - accuracy: 1.0000 - val_loss: 0.0974 - val_accuracy: 0.9961\n",
      "Epoch 155/200\n",
      "32/32 [==============================] - 0s 6ms/step - loss: 5.5747e-05 - accuracy: 1.0000 - val_loss: 0.0975 - val_accuracy: 0.9961\n",
      "Epoch 156/200\n",
      "32/32 [==============================] - 0s 6ms/step - loss: 0.0073 - accuracy: 0.9990 - val_loss: 0.0723 - val_accuracy: 0.9961\n",
      "Epoch 157/200\n",
      "32/32 [==============================] - 0s 6ms/step - loss: 2.4020e-04 - accuracy: 1.0000 - val_loss: 0.0691 - val_accuracy: 0.9961\n",
      "Epoch 158/200\n",
      "32/32 [==============================] - 0s 6ms/step - loss: 8.0972e-05 - accuracy: 1.0000 - val_loss: 0.0633 - val_accuracy: 0.9961\n",
      "Epoch 159/200\n",
      "32/32 [==============================] - 0s 6ms/step - loss: 7.5847e-05 - accuracy: 1.0000 - val_loss: 0.0611 - val_accuracy: 0.9961\n",
      "Epoch 160/200\n",
      "32/32 [==============================] - 0s 6ms/step - loss: 6.8725e-04 - accuracy: 0.9995 - val_loss: 0.0498 - val_accuracy: 0.9961\n",
      "Epoch 161/200\n",
      "32/32 [==============================] - 0s 6ms/step - loss: 0.0031 - accuracy: 0.9995 - val_loss: 0.0238 - val_accuracy: 0.9980\n",
      "Epoch 162/200\n",
      "32/32 [==============================] - 0s 6ms/step - loss: 0.0015 - accuracy: 0.9990 - val_loss: 0.0285 - val_accuracy: 0.9980\n",
      "Epoch 163/200\n",
      "32/32 [==============================] - 0s 6ms/step - loss: 0.0022 - accuracy: 0.9985 - val_loss: 0.0556 - val_accuracy: 0.9980\n",
      "Epoch 164/200\n",
      "32/32 [==============================] - 0s 7ms/step - loss: 0.0013 - accuracy: 0.9995 - val_loss: 0.0470 - val_accuracy: 0.9961\n",
      "Epoch 165/200\n",
      "32/32 [==============================] - 0s 9ms/step - loss: 0.0084 - accuracy: 0.9976 - val_loss: 0.0059 - val_accuracy: 0.9980\n",
      "Epoch 166/200\n",
      "32/32 [==============================] - 0s 8ms/step - loss: 3.5922e-04 - accuracy: 1.0000 - val_loss: 2.8267e-04 - val_accuracy: 1.0000\n",
      "Epoch 167/200\n",
      "32/32 [==============================] - 0s 6ms/step - loss: 0.0012 - accuracy: 0.9995 - val_loss: 0.0158 - val_accuracy: 0.9980\n",
      "Epoch 168/200\n",
      "32/32 [==============================] - 0s 6ms/step - loss: 2.3441e-04 - accuracy: 1.0000 - val_loss: 0.0110 - val_accuracy: 0.9980\n",
      "Epoch 169/200\n",
      "32/32 [==============================] - 0s 6ms/step - loss: 2.7847e-04 - accuracy: 1.0000 - val_loss: 0.0023 - val_accuracy: 0.9980\n",
      "Epoch 170/200\n",
      "32/32 [==============================] - 0s 6ms/step - loss: 1.7060e-04 - accuracy: 1.0000 - val_loss: 0.0051 - val_accuracy: 0.9980\n",
      "Epoch 171/200\n"
     ]
    },
    {
     "name": "stdout",
     "output_type": "stream",
     "text": [
      "32/32 [==============================] - 0s 8ms/step - loss: 7.0551e-05 - accuracy: 1.0000 - val_loss: 0.0071 - val_accuracy: 0.9980\n",
      "Epoch 172/200\n",
      "32/32 [==============================] - 0s 8ms/step - loss: 1.3274e-04 - accuracy: 1.0000 - val_loss: 0.0074 - val_accuracy: 0.9980\n",
      "Epoch 173/200\n",
      "32/32 [==============================] - 0s 6ms/step - loss: 1.3628e-04 - accuracy: 1.0000 - val_loss: 0.0119 - val_accuracy: 0.9980\n",
      "Epoch 174/200\n",
      "32/32 [==============================] - 0s 7ms/step - loss: 6.8780e-05 - accuracy: 1.0000 - val_loss: 0.0116 - val_accuracy: 0.9980\n",
      "Epoch 175/200\n",
      "32/32 [==============================] - 0s 7ms/step - loss: 8.0102e-05 - accuracy: 1.0000 - val_loss: 0.0134 - val_accuracy: 0.9980\n",
      "Epoch 176/200\n",
      "32/32 [==============================] - 0s 6ms/step - loss: 0.0032 - accuracy: 0.9995 - val_loss: 0.0734 - val_accuracy: 0.9961\n",
      "Epoch 177/200\n",
      "32/32 [==============================] - 0s 6ms/step - loss: 3.9765e-04 - accuracy: 1.0000 - val_loss: 0.0837 - val_accuracy: 0.9980\n",
      "Epoch 178/200\n",
      "32/32 [==============================] - 0s 6ms/step - loss: 6.7381e-05 - accuracy: 1.0000 - val_loss: 0.0837 - val_accuracy: 0.9980\n",
      "Epoch 179/200\n",
      "32/32 [==============================] - 0s 6ms/step - loss: 3.5118e-04 - accuracy: 1.0000 - val_loss: 0.0844 - val_accuracy: 0.9961\n",
      "Epoch 180/200\n",
      "32/32 [==============================] - 0s 6ms/step - loss: 9.8238e-04 - accuracy: 0.9995 - val_loss: 0.1078 - val_accuracy: 0.9980\n",
      "Epoch 181/200\n",
      "32/32 [==============================] - 0s 6ms/step - loss: 2.9818e-04 - accuracy: 1.0000 - val_loss: 0.1523 - val_accuracy: 0.9961\n",
      "Epoch 182/200\n",
      "32/32 [==============================] - 0s 6ms/step - loss: 1.9677e-04 - accuracy: 1.0000 - val_loss: 0.1431 - val_accuracy: 0.9961\n",
      "Epoch 183/200\n",
      "32/32 [==============================] - 0s 6ms/step - loss: 5.6974e-05 - accuracy: 1.0000 - val_loss: 0.1426 - val_accuracy: 0.9961\n",
      "Epoch 184/200\n",
      "32/32 [==============================] - 0s 6ms/step - loss: 4.9861e-04 - accuracy: 1.0000 - val_loss: 0.1244 - val_accuracy: 0.9980\n",
      "Epoch 185/200\n",
      "32/32 [==============================] - 0s 6ms/step - loss: 5.3587e-05 - accuracy: 1.0000 - val_loss: 0.1195 - val_accuracy: 0.9980\n",
      "Epoch 186/200\n",
      "32/32 [==============================] - 0s 6ms/step - loss: 1.5118e-04 - accuracy: 1.0000 - val_loss: 0.1209 - val_accuracy: 0.9980\n",
      "Epoch 187/200\n",
      "32/32 [==============================] - 0s 7ms/step - loss: 3.7060e-05 - accuracy: 1.0000 - val_loss: 0.1208 - val_accuracy: 0.9980\n",
      "Epoch 188/200\n",
      "32/32 [==============================] - 0s 6ms/step - loss: 2.1725e-04 - accuracy: 1.0000 - val_loss: 0.1227 - val_accuracy: 0.9961\n",
      "Epoch 189/200\n",
      "32/32 [==============================] - 0s 7ms/step - loss: 3.0166e-04 - accuracy: 1.0000 - val_loss: 0.1204 - val_accuracy: 0.9980\n",
      "Epoch 190/200\n",
      "32/32 [==============================] - 0s 6ms/step - loss: 4.7901e-05 - accuracy: 1.0000 - val_loss: 0.1162 - val_accuracy: 0.9980\n",
      "Epoch 191/200\n",
      "32/32 [==============================] - 0s 6ms/step - loss: 3.1121e-04 - accuracy: 1.0000 - val_loss: 0.1199 - val_accuracy: 0.9961\n",
      "Epoch 192/200\n",
      "32/32 [==============================] - 0s 6ms/step - loss: 4.1604e-05 - accuracy: 1.0000 - val_loss: 0.1285 - val_accuracy: 0.9961\n",
      "Epoch 193/200\n",
      "32/32 [==============================] - 0s 6ms/step - loss: 3.7595e-05 - accuracy: 1.0000 - val_loss: 0.1293 - val_accuracy: 0.9961\n",
      "Epoch 194/200\n",
      "32/32 [==============================] - 0s 6ms/step - loss: 4.0485e-05 - accuracy: 1.0000 - val_loss: 0.1307 - val_accuracy: 0.9961\n",
      "Epoch 195/200\n",
      "32/32 [==============================] - 0s 6ms/step - loss: 3.1135e-04 - accuracy: 1.0000 - val_loss: 0.1228 - val_accuracy: 0.9980\n",
      "Epoch 196/200\n",
      "32/32 [==============================] - 0s 7ms/step - loss: 7.8181e-05 - accuracy: 1.0000 - val_loss: 0.1227 - val_accuracy: 0.9980\n",
      "Epoch 197/200\n",
      "32/32 [==============================] - 0s 6ms/step - loss: 5.1044e-04 - accuracy: 0.9995 - val_loss: 0.0934 - val_accuracy: 0.9961\n",
      "Epoch 198/200\n",
      "32/32 [==============================] - 0s 6ms/step - loss: 4.1353e-04 - accuracy: 0.9995 - val_loss: 0.0754 - val_accuracy: 0.9980\n",
      "Epoch 199/200\n",
      "32/32 [==============================] - 0s 6ms/step - loss: 7.0847e-05 - accuracy: 1.0000 - val_loss: 0.0772 - val_accuracy: 0.9980\n",
      "Epoch 200/200\n",
      "32/32 [==============================] - 0s 6ms/step - loss: 3.8929e-05 - accuracy: 1.0000 - val_loss: 0.0733 - val_accuracy: 0.9980\n"
     ]
    }
   ],
   "source": [
    "history  = model.fit(X_train,np.array(np.array(y_train).reshape((len(y_train),1))), epochs=200, batch_size=64, validation_split=0.2, shuffle=True)"
   ]
  },
  {
   "cell_type": "code",
   "execution_count": 39,
   "metadata": {},
   "outputs": [
    {
     "name": "stdout",
     "output_type": "stream",
     "text": [
      "[0.9278574585914612, 0.9904389381408691, 0.9978270530700684, 0.9982616305351257, 0.9982616305351257, 0.9978270530700684, 0.9960886836051941, 0.9995654225349426, 0.9960886836051941, 0.9982616305351257, 0.9960886836051941, 0.9978270530700684, 0.9986962080001831, 0.9960886836051941, 0.9978270530700684, 0.9982616305351257, 0.9978270530700684, 0.9991307854652405, 0.9982616305351257, 0.9982616305351257, 1.0, 1.0, 0.9982616305351257, 0.9986962080001831, 1.0, 0.9995654225349426, 0.9991307854652405, 0.9986962080001831, 0.9995654225349426, 0.9986962080001831, 0.9982616305351257, 0.9973924160003662, 0.9982616305351257, 0.9995654225349426, 0.9995654225349426, 0.9982616305351257, 0.9986962080001831, 0.9995654225349426, 0.9995654225349426, 0.9995654225349426, 0.9995654225349426, 0.9986962080001831, 0.9991307854652405, 0.9995654225349426, 0.9995654225349426, 0.9995654225349426, 0.9991307854652405, 0.9991307854652405, 1.0, 0.9991307854652405, 0.9991307854652405, 0.9995654225349426, 0.9995654225349426, 0.9991307854652405, 0.9995654225349426, 1.0, 1.0, 1.0, 0.9982616305351257, 0.9986962080001831, 1.0, 0.9995654225349426, 1.0, 0.9995654225349426, 1.0, 1.0, 0.9995654225349426, 0.9991307854652405, 0.9991307854652405, 1.0, 0.9995654225349426, 0.9986962080001831, 0.9995654225349426, 1.0, 1.0, 0.9995654225349426, 1.0, 1.0, 1.0, 1.0, 1.0, 0.9995654225349426, 1.0, 0.9986962080001831, 0.9982616305351257, 1.0, 1.0, 0.9995654225349426, 0.9978270530700684, 0.9978270530700684, 0.9995654225349426, 0.9986962080001831, 0.9986962080001831, 0.9982616305351257, 0.9991307854652405, 0.9991307854652405, 0.9995654225349426, 0.9995654225349426, 1.0, 0.9995654225349426, 1.0, 1.0, 0.9995654225349426, 1.0, 0.9995654225349426, 0.9991307854652405, 0.9991307854652405, 0.9973924160003662, 0.9978270530700684, 1.0, 1.0, 1.0, 1.0, 1.0, 1.0, 1.0, 1.0, 0.9995654225349426, 1.0, 0.9986962080001831, 0.9982616305351257, 0.9991307854652405, 1.0, 0.9995654225349426, 1.0, 1.0, 1.0, 0.9986962080001831, 0.9991307854652405, 1.0, 1.0, 1.0, 1.0, 0.9986962080001831, 0.9991307854652405, 0.9995654225349426, 0.9995654225349426, 1.0, 1.0, 0.9995654225349426, 0.9995654225349426, 1.0, 1.0, 1.0, 1.0, 0.9995654225349426, 0.9995654225349426, 0.9995654225349426, 0.9991307854652405, 0.9986962080001831, 0.9995654225349426, 1.0, 1.0, 1.0, 1.0, 1.0, 1.0, 0.9995654225349426, 0.9995654225349426, 1.0, 1.0, 0.9995654225349426, 1.0, 0.9978270530700684, 1.0, 1.0, 1.0, 1.0, 1.0, 1.0, 1.0, 1.0, 1.0, 1.0, 0.9995654225349426, 0.9995654225349426, 1.0, 1.0, 1.0, 1.0, 1.0, 0.9995654225349426, 1.0, 1.0, 0.9986962080001831, 0.9995654225349426, 1.0, 1.0, 1.0, 0.9995654225349426, 1.0, 1.0, 0.9995654225349426, 1.0, 1.0, 1.0, 1.0, 1.0, 1.0, 1.0]\n"
     ]
    }
   ],
   "source": [
    "print(history[0].history[\"accuracy\"])"
   ]
  },
  {
   "cell_type": "code",
   "execution_count": 12,
   "metadata": {
    "scrolled": false
   },
   "outputs": [
    {
     "data": {
      "image/png": "[encoded data removed]",
      "text/plain": [
       "<Figure size 720x720 with 1 Axes>"
      ]
     },
     "metadata": {
      "needs_background": "light"
     },
     "output_type": "display_data"
    }
   ],
   "source": [
    "plt.figure(figsize=(10,10))\n",
    "plt.plot(history.history[\"accuracy\"])\n",
    "plt.plot(history.history[\"val_accuracy\"])\n",
    "plt.xlabel(\"Epochs\")\n",
    "plt.ylabel(\"Accuracy\")\n",
    "plt.legend([\"train\", \"test\"], loc=\"upper left\")\n",
    "plt.show()"
   ]
  },
  {
   "cell_type": "markdown",
   "metadata": {},
   "source": [
    "## 1D ConvNet "
   ]
  },
  {
   "cell_type": "code",
   "execution_count": 13,
   "metadata": {},
   "outputs": [],
   "source": [
    "cnn_model = models.Sequential()\n",
    "\n",
    "cnn_model.add(layers.Conv1D(128, (3), activation='relu', input_shape=(X_train.shape[1],1)))\n",
    "cnn_model.add(Dropout(0.15))\n",
    "cnn_model.add(layers.MaxPool1D(2))\n",
    "cnn_model.add(layers.Conv1D(64, (3), activation='relu'))\n",
    "cnn_model.add(Dropout(0.15))\n",
    "cnn_model.add(layers.MaxPool1D(2))\n",
    "cnn_model.add(layers.Flatten())\n",
    "cnn_model.add(layers.Dense(32, activation='relu'))\n",
    "cnn_model.add(Dropout(0.15))\n",
    "cnn_model.add(layers.Dense(1, activation='sigmoid'))"
   ]
  },
  {
   "cell_type": "code",
   "execution_count": 14,
   "metadata": {},
   "outputs": [],
   "source": [
    "cnn_model.compile(optimizer='adam', metrics=['accuracy'], loss='binary_crossentropy')"
   ]
  },
  {
   "cell_type": "code",
   "execution_count": 15,
   "metadata": {},
   "outputs": [
    {
     "name": "stdout",
     "output_type": "stream",
     "text": [
      "Epoch 1/100\n"
     ]
    },
    {
     "ename": "ValueError",
     "evalue": "in user code:\n\n    /home/ridhima/Documents/Github/Voicenet/voicenet_venv/lib/python3.7/site-packages/tensorflow/python/keras/engine/training.py:571 train_function  *\n        outputs = self.distribute_strategy.run(\n    /home/ridhima/Documents/Github/Voicenet/voicenet_venv/lib/python3.7/site-packages/tensorflow/python/distribute/distribute_lib.py:951 run  **\n        return self._extended.call_for_each_replica(fn, args=args, kwargs=kwargs)\n    /home/ridhima/Documents/Github/Voicenet/voicenet_venv/lib/python3.7/site-packages/tensorflow/python/distribute/distribute_lib.py:2290 call_for_each_replica\n        return self._call_for_each_replica(fn, args, kwargs)\n    /home/ridhima/Documents/Github/Voicenet/voicenet_venv/lib/python3.7/site-packages/tensorflow/python/distribute/distribute_lib.py:2649 _call_for_each_replica\n        return fn(*args, **kwargs)\n    /home/ridhima/Documents/Github/Voicenet/voicenet_venv/lib/python3.7/site-packages/tensorflow/python/keras/engine/training.py:531 train_step  **\n        y_pred = self(x, training=True)\n    /home/ridhima/Documents/Github/Voicenet/voicenet_venv/lib/python3.7/site-packages/tensorflow/python/keras/engine/base_layer.py:886 __call__\n        self.name)\n    /home/ridhima/Documents/Github/Voicenet/voicenet_venv/lib/python3.7/site-packages/tensorflow/python/keras/engine/input_spec.py:180 assert_input_compatibility\n        str(x.shape.as_list()))\n\n    ValueError: Input 0 of layer sequential_2 is incompatible with the layer: expected ndim=3, found ndim=2. Full shape received: [None, 1521]\n",
     "output_type": "error",
     "traceback": [
      "\u001b[0;31m---------------------------------------------------------------------------\u001b[0m",
      "\u001b[0;31mValueError\u001b[0m                                Traceback (most recent call last)",
      "\u001b[0;32m<ipython-input-15-836855756ac0>\u001b[0m in \u001b[0;36m<module>\u001b[0;34m\u001b[0m\n\u001b[0;32m----> 1\u001b[0;31m \u001b[0mhistory\u001b[0m  \u001b[0;34m=\u001b[0m \u001b[0mcnn_model\u001b[0m\u001b[0;34m.\u001b[0m\u001b[0mfit\u001b[0m\u001b[0;34m(\u001b[0m\u001b[0mX_train\u001b[0m\u001b[0;34m,\u001b[0m\u001b[0mnp\u001b[0m\u001b[0;34m.\u001b[0m\u001b[0marray\u001b[0m\u001b[0;34m(\u001b[0m\u001b[0mnp\u001b[0m\u001b[0;34m.\u001b[0m\u001b[0marray\u001b[0m\u001b[0;34m(\u001b[0m\u001b[0my_train\u001b[0m\u001b[0;34m)\u001b[0m\u001b[0;34m.\u001b[0m\u001b[0mreshape\u001b[0m\u001b[0;34m(\u001b[0m\u001b[0;34m(\u001b[0m\u001b[0mlen\u001b[0m\u001b[0;34m(\u001b[0m\u001b[0my_train\u001b[0m\u001b[0;34m)\u001b[0m\u001b[0;34m,\u001b[0m\u001b[0;36m1\u001b[0m\u001b[0;34m)\u001b[0m\u001b[0;34m)\u001b[0m\u001b[0;34m)\u001b[0m\u001b[0;34m,\u001b[0m \u001b[0mepochs\u001b[0m\u001b[0;34m=\u001b[0m\u001b[0;36m100\u001b[0m\u001b[0;34m,\u001b[0m \u001b[0mvalidation_split\u001b[0m\u001b[0;34m=\u001b[0m\u001b[0;36m0.2\u001b[0m\u001b[0;34m)\u001b[0m\u001b[0;34m\u001b[0m\u001b[0;34m\u001b[0m\u001b[0m\n\u001b[0m",
      "\u001b[0;32m~/Documents/Github/Voicenet/voicenet_venv/lib/python3.7/site-packages/tensorflow/python/keras/engine/training.py\u001b[0m in \u001b[0;36m_method_wrapper\u001b[0;34m(self, *args, **kwargs)\u001b[0m\n\u001b[1;32m     64\u001b[0m   \u001b[0;32mdef\u001b[0m \u001b[0m_method_wrapper\u001b[0m\u001b[0;34m(\u001b[0m\u001b[0mself\u001b[0m\u001b[0;34m,\u001b[0m \u001b[0;34m*\u001b[0m\u001b[0margs\u001b[0m\u001b[0;34m,\u001b[0m \u001b[0;34m**\u001b[0m\u001b[0mkwargs\u001b[0m\u001b[0;34m)\u001b[0m\u001b[0;34m:\u001b[0m\u001b[0;34m\u001b[0m\u001b[0;34m\u001b[0m\u001b[0m\n\u001b[1;32m     65\u001b[0m     \u001b[0;32mif\u001b[0m \u001b[0;32mnot\u001b[0m \u001b[0mself\u001b[0m\u001b[0;34m.\u001b[0m\u001b[0m_in_multi_worker_mode\u001b[0m\u001b[0;34m(\u001b[0m\u001b[0;34m)\u001b[0m\u001b[0;34m:\u001b[0m  \u001b[0;31m# pylint: disable=protected-access\u001b[0m\u001b[0;34m\u001b[0m\u001b[0;34m\u001b[0m\u001b[0m\n\u001b[0;32m---> 66\u001b[0;31m       \u001b[0;32mreturn\u001b[0m \u001b[0mmethod\u001b[0m\u001b[0;34m(\u001b[0m\u001b[0mself\u001b[0m\u001b[0;34m,\u001b[0m \u001b[0;34m*\u001b[0m\u001b[0margs\u001b[0m\u001b[0;34m,\u001b[0m \u001b[0;34m**\u001b[0m\u001b[0mkwargs\u001b[0m\u001b[0;34m)\u001b[0m\u001b[0;34m\u001b[0m\u001b[0;34m\u001b[0m\u001b[0m\n\u001b[0m\u001b[1;32m     67\u001b[0m \u001b[0;34m\u001b[0m\u001b[0m\n\u001b[1;32m     68\u001b[0m     \u001b[0;31m# Running inside `run_distribute_coordinator` already.\u001b[0m\u001b[0;34m\u001b[0m\u001b[0;34m\u001b[0m\u001b[0;34m\u001b[0m\u001b[0m\n",
      "\u001b[0;32m~/Documents/Github/Voicenet/voicenet_venv/lib/python3.7/site-packages/tensorflow/python/keras/engine/training.py\u001b[0m in \u001b[0;36mfit\u001b[0;34m(self, x, y, batch_size, epochs, verbose, callbacks, validation_split, validation_data, shuffle, class_weight, sample_weight, initial_epoch, steps_per_epoch, validation_steps, validation_batch_size, validation_freq, max_queue_size, workers, use_multiprocessing)\u001b[0m\n\u001b[1;32m    846\u001b[0m                 batch_size=batch_size):\n\u001b[1;32m    847\u001b[0m               \u001b[0mcallbacks\u001b[0m\u001b[0;34m.\u001b[0m\u001b[0mon_train_batch_begin\u001b[0m\u001b[0;34m(\u001b[0m\u001b[0mstep\u001b[0m\u001b[0;34m)\u001b[0m\u001b[0;34m\u001b[0m\u001b[0;34m\u001b[0m\u001b[0m\n\u001b[0;32m--> 848\u001b[0;31m               \u001b[0mtmp_logs\u001b[0m \u001b[0;34m=\u001b[0m \u001b[0mtrain_function\u001b[0m\u001b[0;34m(\u001b[0m\u001b[0miterator\u001b[0m\u001b[0;34m)\u001b[0m\u001b[0;34m\u001b[0m\u001b[0;34m\u001b[0m\u001b[0m\n\u001b[0m\u001b[1;32m    849\u001b[0m               \u001b[0;31m# Catch OutOfRangeError for Datasets of unknown size.\u001b[0m\u001b[0;34m\u001b[0m\u001b[0;34m\u001b[0m\u001b[0;34m\u001b[0m\u001b[0m\n\u001b[1;32m    850\u001b[0m               \u001b[0;31m# This blocks until the batch has finished executing.\u001b[0m\u001b[0;34m\u001b[0m\u001b[0;34m\u001b[0m\u001b[0;34m\u001b[0m\u001b[0m\n",
      "\u001b[0;32m~/Documents/Github/Voicenet/voicenet_venv/lib/python3.7/site-packages/tensorflow/python/eager/def_function.py\u001b[0m in \u001b[0;36m__call__\u001b[0;34m(self, *args, **kwds)\u001b[0m\n\u001b[1;32m    578\u001b[0m         \u001b[0mxla_context\u001b[0m\u001b[0;34m.\u001b[0m\u001b[0mExit\u001b[0m\u001b[0;34m(\u001b[0m\u001b[0;34m)\u001b[0m\u001b[0;34m\u001b[0m\u001b[0;34m\u001b[0m\u001b[0m\n\u001b[1;32m    579\u001b[0m     \u001b[0;32melse\u001b[0m\u001b[0;34m:\u001b[0m\u001b[0;34m\u001b[0m\u001b[0;34m\u001b[0m\u001b[0m\n\u001b[0;32m--> 580\u001b[0;31m       \u001b[0mresult\u001b[0m \u001b[0;34m=\u001b[0m \u001b[0mself\u001b[0m\u001b[0;34m.\u001b[0m\u001b[0m_call\u001b[0m\u001b[0;34m(\u001b[0m\u001b[0;34m*\u001b[0m\u001b[0margs\u001b[0m\u001b[0;34m,\u001b[0m \u001b[0;34m**\u001b[0m\u001b[0mkwds\u001b[0m\u001b[0;34m)\u001b[0m\u001b[0;34m\u001b[0m\u001b[0;34m\u001b[0m\u001b[0m\n\u001b[0m\u001b[1;32m    581\u001b[0m \u001b[0;34m\u001b[0m\u001b[0m\n\u001b[1;32m    582\u001b[0m     \u001b[0;32mif\u001b[0m \u001b[0mtracing_count\u001b[0m \u001b[0;34m==\u001b[0m \u001b[0mself\u001b[0m\u001b[0;34m.\u001b[0m\u001b[0m_get_tracing_count\u001b[0m\u001b[0;34m(\u001b[0m\u001b[0;34m)\u001b[0m\u001b[0;34m:\u001b[0m\u001b[0;34m\u001b[0m\u001b[0;34m\u001b[0m\u001b[0m\n",
      "\u001b[0;32m~/Documents/Github/Voicenet/voicenet_venv/lib/python3.7/site-packages/tensorflow/python/eager/def_function.py\u001b[0m in \u001b[0;36m_call\u001b[0;34m(self, *args, **kwds)\u001b[0m\n\u001b[1;32m    625\u001b[0m       \u001b[0;31m# This is the first call of __call__, so we have to initialize.\u001b[0m\u001b[0;34m\u001b[0m\u001b[0;34m\u001b[0m\u001b[0;34m\u001b[0m\u001b[0m\n\u001b[1;32m    626\u001b[0m       \u001b[0minitializers\u001b[0m \u001b[0;34m=\u001b[0m \u001b[0;34m[\u001b[0m\u001b[0;34m]\u001b[0m\u001b[0;34m\u001b[0m\u001b[0;34m\u001b[0m\u001b[0m\n\u001b[0;32m--> 627\u001b[0;31m       \u001b[0mself\u001b[0m\u001b[0;34m.\u001b[0m\u001b[0m_initialize\u001b[0m\u001b[0;34m(\u001b[0m\u001b[0margs\u001b[0m\u001b[0;34m,\u001b[0m \u001b[0mkwds\u001b[0m\u001b[0;34m,\u001b[0m \u001b[0madd_initializers_to\u001b[0m\u001b[0;34m=\u001b[0m\u001b[0minitializers\u001b[0m\u001b[0;34m)\u001b[0m\u001b[0;34m\u001b[0m\u001b[0;34m\u001b[0m\u001b[0m\n\u001b[0m\u001b[1;32m    628\u001b[0m     \u001b[0;32mfinally\u001b[0m\u001b[0;34m:\u001b[0m\u001b[0;34m\u001b[0m\u001b[0;34m\u001b[0m\u001b[0m\n\u001b[1;32m    629\u001b[0m       \u001b[0;31m# At this point we know that the initialization is complete (or less\u001b[0m\u001b[0;34m\u001b[0m\u001b[0;34m\u001b[0m\u001b[0;34m\u001b[0m\u001b[0m\n",
      "\u001b[0;32m~/Documents/Github/Voicenet/voicenet_venv/lib/python3.7/site-packages/tensorflow/python/eager/def_function.py\u001b[0m in \u001b[0;36m_initialize\u001b[0;34m(self, args, kwds, add_initializers_to)\u001b[0m\n\u001b[1;32m    504\u001b[0m     self._concrete_stateful_fn = (\n\u001b[1;32m    505\u001b[0m         self._stateful_fn._get_concrete_function_internal_garbage_collected(  # pylint: disable=protected-access\n\u001b[0;32m--> 506\u001b[0;31m             *args, **kwds))\n\u001b[0m\u001b[1;32m    507\u001b[0m \u001b[0;34m\u001b[0m\u001b[0m\n\u001b[1;32m    508\u001b[0m     \u001b[0;32mdef\u001b[0m \u001b[0minvalid_creator_scope\u001b[0m\u001b[0;34m(\u001b[0m\u001b[0;34m*\u001b[0m\u001b[0munused_args\u001b[0m\u001b[0;34m,\u001b[0m \u001b[0;34m**\u001b[0m\u001b[0munused_kwds\u001b[0m\u001b[0;34m)\u001b[0m\u001b[0;34m:\u001b[0m\u001b[0;34m\u001b[0m\u001b[0;34m\u001b[0m\u001b[0m\n",
      "\u001b[0;32m~/Documents/Github/Voicenet/voicenet_venv/lib/python3.7/site-packages/tensorflow/python/eager/function.py\u001b[0m in \u001b[0;36m_get_concrete_function_internal_garbage_collected\u001b[0;34m(self, *args, **kwargs)\u001b[0m\n\u001b[1;32m   2444\u001b[0m       \u001b[0margs\u001b[0m\u001b[0;34m,\u001b[0m \u001b[0mkwargs\u001b[0m \u001b[0;34m=\u001b[0m \u001b[0;32mNone\u001b[0m\u001b[0;34m,\u001b[0m \u001b[0;32mNone\u001b[0m\u001b[0;34m\u001b[0m\u001b[0;34m\u001b[0m\u001b[0m\n\u001b[1;32m   2445\u001b[0m     \u001b[0;32mwith\u001b[0m \u001b[0mself\u001b[0m\u001b[0;34m.\u001b[0m\u001b[0m_lock\u001b[0m\u001b[0;34m:\u001b[0m\u001b[0;34m\u001b[0m\u001b[0;34m\u001b[0m\u001b[0m\n\u001b[0;32m-> 2446\u001b[0;31m       \u001b[0mgraph_function\u001b[0m\u001b[0;34m,\u001b[0m \u001b[0m_\u001b[0m\u001b[0;34m,\u001b[0m \u001b[0m_\u001b[0m \u001b[0;34m=\u001b[0m \u001b[0mself\u001b[0m\u001b[0;34m.\u001b[0m\u001b[0m_maybe_define_function\u001b[0m\u001b[0;34m(\u001b[0m\u001b[0margs\u001b[0m\u001b[0;34m,\u001b[0m \u001b[0mkwargs\u001b[0m\u001b[0;34m)\u001b[0m\u001b[0;34m\u001b[0m\u001b[0;34m\u001b[0m\u001b[0m\n\u001b[0m\u001b[1;32m   2447\u001b[0m     \u001b[0;32mreturn\u001b[0m \u001b[0mgraph_function\u001b[0m\u001b[0;34m\u001b[0m\u001b[0;34m\u001b[0m\u001b[0m\n\u001b[1;32m   2448\u001b[0m \u001b[0;34m\u001b[0m\u001b[0m\n",
      "\u001b[0;32m~/Documents/Github/Voicenet/voicenet_venv/lib/python3.7/site-packages/tensorflow/python/eager/function.py\u001b[0m in \u001b[0;36m_maybe_define_function\u001b[0;34m(self, args, kwargs)\u001b[0m\n\u001b[1;32m   2775\u001b[0m \u001b[0;34m\u001b[0m\u001b[0m\n\u001b[1;32m   2776\u001b[0m       \u001b[0mself\u001b[0m\u001b[0;34m.\u001b[0m\u001b[0m_function_cache\u001b[0m\u001b[0;34m.\u001b[0m\u001b[0mmissed\u001b[0m\u001b[0;34m.\u001b[0m\u001b[0madd\u001b[0m\u001b[0;34m(\u001b[0m\u001b[0mcall_context_key\u001b[0m\u001b[0;34m)\u001b[0m\u001b[0;34m\u001b[0m\u001b[0;34m\u001b[0m\u001b[0m\n\u001b[0;32m-> 2777\u001b[0;31m       \u001b[0mgraph_function\u001b[0m \u001b[0;34m=\u001b[0m \u001b[0mself\u001b[0m\u001b[0;34m.\u001b[0m\u001b[0m_create_graph_function\u001b[0m\u001b[0;34m(\u001b[0m\u001b[0margs\u001b[0m\u001b[0;34m,\u001b[0m \u001b[0mkwargs\u001b[0m\u001b[0;34m)\u001b[0m\u001b[0;34m\u001b[0m\u001b[0;34m\u001b[0m\u001b[0m\n\u001b[0m\u001b[1;32m   2778\u001b[0m       \u001b[0mself\u001b[0m\u001b[0;34m.\u001b[0m\u001b[0m_function_cache\u001b[0m\u001b[0;34m.\u001b[0m\u001b[0mprimary\u001b[0m\u001b[0;34m[\u001b[0m\u001b[0mcache_key\u001b[0m\u001b[0;34m]\u001b[0m \u001b[0;34m=\u001b[0m \u001b[0mgraph_function\u001b[0m\u001b[0;34m\u001b[0m\u001b[0;34m\u001b[0m\u001b[0m\n\u001b[1;32m   2779\u001b[0m       \u001b[0;32mreturn\u001b[0m \u001b[0mgraph_function\u001b[0m\u001b[0;34m,\u001b[0m \u001b[0margs\u001b[0m\u001b[0;34m,\u001b[0m \u001b[0mkwargs\u001b[0m\u001b[0;34m\u001b[0m\u001b[0;34m\u001b[0m\u001b[0m\n",
      "\u001b[0;32m~/Documents/Github/Voicenet/voicenet_venv/lib/python3.7/site-packages/tensorflow/python/eager/function.py\u001b[0m in \u001b[0;36m_create_graph_function\u001b[0;34m(self, args, kwargs, override_flat_arg_shapes)\u001b[0m\n\u001b[1;32m   2665\u001b[0m             \u001b[0marg_names\u001b[0m\u001b[0;34m=\u001b[0m\u001b[0marg_names\u001b[0m\u001b[0;34m,\u001b[0m\u001b[0;34m\u001b[0m\u001b[0;34m\u001b[0m\u001b[0m\n\u001b[1;32m   2666\u001b[0m             \u001b[0moverride_flat_arg_shapes\u001b[0m\u001b[0;34m=\u001b[0m\u001b[0moverride_flat_arg_shapes\u001b[0m\u001b[0;34m,\u001b[0m\u001b[0;34m\u001b[0m\u001b[0;34m\u001b[0m\u001b[0m\n\u001b[0;32m-> 2667\u001b[0;31m             capture_by_value=self._capture_by_value),\n\u001b[0m\u001b[1;32m   2668\u001b[0m         \u001b[0mself\u001b[0m\u001b[0;34m.\u001b[0m\u001b[0m_function_attributes\u001b[0m\u001b[0;34m,\u001b[0m\u001b[0;34m\u001b[0m\u001b[0;34m\u001b[0m\u001b[0m\n\u001b[1;32m   2669\u001b[0m         \u001b[0;31m# Tell the ConcreteFunction to clean up its graph once it goes out of\u001b[0m\u001b[0;34m\u001b[0m\u001b[0;34m\u001b[0m\u001b[0;34m\u001b[0m\u001b[0m\n",
      "\u001b[0;32m~/Documents/Github/Voicenet/voicenet_venv/lib/python3.7/site-packages/tensorflow/python/framework/func_graph.py\u001b[0m in \u001b[0;36mfunc_graph_from_py_func\u001b[0;34m(name, python_func, args, kwargs, signature, func_graph, autograph, autograph_options, add_control_dependencies, arg_names, op_return_value, collections, capture_by_value, override_flat_arg_shapes)\u001b[0m\n\u001b[1;32m    979\u001b[0m         \u001b[0m_\u001b[0m\u001b[0;34m,\u001b[0m \u001b[0moriginal_func\u001b[0m \u001b[0;34m=\u001b[0m \u001b[0mtf_decorator\u001b[0m\u001b[0;34m.\u001b[0m\u001b[0munwrap\u001b[0m\u001b[0;34m(\u001b[0m\u001b[0mpython_func\u001b[0m\u001b[0;34m)\u001b[0m\u001b[0;34m\u001b[0m\u001b[0;34m\u001b[0m\u001b[0m\n\u001b[1;32m    980\u001b[0m \u001b[0;34m\u001b[0m\u001b[0m\n\u001b[0;32m--> 981\u001b[0;31m       \u001b[0mfunc_outputs\u001b[0m \u001b[0;34m=\u001b[0m \u001b[0mpython_func\u001b[0m\u001b[0;34m(\u001b[0m\u001b[0;34m*\u001b[0m\u001b[0mfunc_args\u001b[0m\u001b[0;34m,\u001b[0m \u001b[0;34m**\u001b[0m\u001b[0mfunc_kwargs\u001b[0m\u001b[0;34m)\u001b[0m\u001b[0;34m\u001b[0m\u001b[0;34m\u001b[0m\u001b[0m\n\u001b[0m\u001b[1;32m    982\u001b[0m \u001b[0;34m\u001b[0m\u001b[0m\n\u001b[1;32m    983\u001b[0m       \u001b[0;31m# invariant: `func_outputs` contains only Tensors, CompositeTensors,\u001b[0m\u001b[0;34m\u001b[0m\u001b[0;34m\u001b[0m\u001b[0;34m\u001b[0m\u001b[0m\n",
      "\u001b[0;32m~/Documents/Github/Voicenet/voicenet_venv/lib/python3.7/site-packages/tensorflow/python/eager/def_function.py\u001b[0m in \u001b[0;36mwrapped_fn\u001b[0;34m(*args, **kwds)\u001b[0m\n\u001b[1;32m    439\u001b[0m         \u001b[0;31m# __wrapped__ allows AutoGraph to swap in a converted function. We give\u001b[0m\u001b[0;34m\u001b[0m\u001b[0;34m\u001b[0m\u001b[0;34m\u001b[0m\u001b[0m\n\u001b[1;32m    440\u001b[0m         \u001b[0;31m# the function a weak reference to itself to avoid a reference cycle.\u001b[0m\u001b[0;34m\u001b[0m\u001b[0;34m\u001b[0m\u001b[0;34m\u001b[0m\u001b[0m\n\u001b[0;32m--> 441\u001b[0;31m         \u001b[0;32mreturn\u001b[0m \u001b[0mweak_wrapped_fn\u001b[0m\u001b[0;34m(\u001b[0m\u001b[0;34m)\u001b[0m\u001b[0;34m.\u001b[0m\u001b[0m__wrapped__\u001b[0m\u001b[0;34m(\u001b[0m\u001b[0;34m*\u001b[0m\u001b[0margs\u001b[0m\u001b[0;34m,\u001b[0m \u001b[0;34m**\u001b[0m\u001b[0mkwds\u001b[0m\u001b[0;34m)\u001b[0m\u001b[0;34m\u001b[0m\u001b[0;34m\u001b[0m\u001b[0m\n\u001b[0m\u001b[1;32m    442\u001b[0m     \u001b[0mweak_wrapped_fn\u001b[0m \u001b[0;34m=\u001b[0m \u001b[0mweakref\u001b[0m\u001b[0;34m.\u001b[0m\u001b[0mref\u001b[0m\u001b[0;34m(\u001b[0m\u001b[0mwrapped_fn\u001b[0m\u001b[0;34m)\u001b[0m\u001b[0;34m\u001b[0m\u001b[0;34m\u001b[0m\u001b[0m\n\u001b[1;32m    443\u001b[0m \u001b[0;34m\u001b[0m\u001b[0m\n",
      "\u001b[0;32m~/Documents/Github/Voicenet/voicenet_venv/lib/python3.7/site-packages/tensorflow/python/framework/func_graph.py\u001b[0m in \u001b[0;36mwrapper\u001b[0;34m(*args, **kwargs)\u001b[0m\n\u001b[1;32m    966\u001b[0m           \u001b[0;32mexcept\u001b[0m \u001b[0mException\u001b[0m \u001b[0;32mas\u001b[0m \u001b[0me\u001b[0m\u001b[0;34m:\u001b[0m  \u001b[0;31m# pylint:disable=broad-except\u001b[0m\u001b[0;34m\u001b[0m\u001b[0;34m\u001b[0m\u001b[0m\n\u001b[1;32m    967\u001b[0m             \u001b[0;32mif\u001b[0m \u001b[0mhasattr\u001b[0m\u001b[0;34m(\u001b[0m\u001b[0me\u001b[0m\u001b[0;34m,\u001b[0m \u001b[0;34m\"ag_error_metadata\"\u001b[0m\u001b[0;34m)\u001b[0m\u001b[0;34m:\u001b[0m\u001b[0;34m\u001b[0m\u001b[0;34m\u001b[0m\u001b[0m\n\u001b[0;32m--> 968\u001b[0;31m               \u001b[0;32mraise\u001b[0m \u001b[0me\u001b[0m\u001b[0;34m.\u001b[0m\u001b[0mag_error_metadata\u001b[0m\u001b[0;34m.\u001b[0m\u001b[0mto_exception\u001b[0m\u001b[0;34m(\u001b[0m\u001b[0me\u001b[0m\u001b[0;34m)\u001b[0m\u001b[0;34m\u001b[0m\u001b[0;34m\u001b[0m\u001b[0m\n\u001b[0m\u001b[1;32m    969\u001b[0m             \u001b[0;32melse\u001b[0m\u001b[0;34m:\u001b[0m\u001b[0;34m\u001b[0m\u001b[0;34m\u001b[0m\u001b[0m\n\u001b[1;32m    970\u001b[0m               \u001b[0;32mraise\u001b[0m\u001b[0;34m\u001b[0m\u001b[0;34m\u001b[0m\u001b[0m\n",
      "\u001b[0;31mValueError\u001b[0m: in user code:\n\n    /home/ridhima/Documents/Github/Voicenet/voicenet_venv/lib/python3.7/site-packages/tensorflow/python/keras/engine/training.py:571 train_function  *\n        outputs = self.distribute_strategy.run(\n    /home/ridhima/Documents/Github/Voicenet/voicenet_venv/lib/python3.7/site-packages/tensorflow/python/distribute/distribute_lib.py:951 run  **\n        return self._extended.call_for_each_replica(fn, args=args, kwargs=kwargs)\n    /home/ridhima/Documents/Github/Voicenet/voicenet_venv/lib/python3.7/site-packages/tensorflow/python/distribute/distribute_lib.py:2290 call_for_each_replica\n        return self._call_for_each_replica(fn, args, kwargs)\n    /home/ridhima/Documents/Github/Voicenet/voicenet_venv/lib/python3.7/site-packages/tensorflow/python/distribute/distribute_lib.py:2649 _call_for_each_replica\n        return fn(*args, **kwargs)\n    /home/ridhima/Documents/Github/Voicenet/voicenet_venv/lib/python3.7/site-packages/tensorflow/python/keras/engine/training.py:531 train_step  **\n        y_pred = self(x, training=True)\n    /home/ridhima/Documents/Github/Voicenet/voicenet_venv/lib/python3.7/site-packages/tensorflow/python/keras/engine/base_layer.py:886 __call__\n        self.name)\n    /home/ridhima/Documents/Github/Voicenet/voicenet_venv/lib/python3.7/site-packages/tensorflow/python/keras/engine/input_spec.py:180 assert_input_compatibility\n        str(x.shape.as_list()))\n\n    ValueError: Input 0 of layer sequential_2 is incompatible with the layer: expected ndim=3, found ndim=2. Full shape received: [None, 1521]\n"
     ]
    }
   ],
   "source": [
    "history  = cnn_model.fit(X_train,np.array(np.array(y_train).reshape((len(y_train),1))), epochs=100, validation_split=0.2)"
   ]
  },
  {
   "cell_type": "markdown",
   "metadata": {},
   "source": [
    "## Z-SCore and GRAM Matrix Features "
   ]
  },
  {
   "cell_type": "code",
   "execution_count": 16,
   "metadata": {},
   "outputs": [],
   "source": [
    "def zscore_gram_matrix(files_list):\n",
    "        \n",
    "        \"\"\" Create features for all '.wav' files contains in files_list\n",
    "        \n",
    "        Arguments:\n",
    "            files_list: takes a list of '.wav' training files\n",
    "\n",
    "        Returns:\n",
    "            features: creates a vector of all .wav training files and stack them over as an array\n",
    "        \"\"\"\n",
    "        \n",
    "        features = list()\n",
    "        \n",
    "        for file in files_list:\n",
    "            \n",
    "#             logging.info(\"Creating features for {0}\".format(file))\n",
    "            \n",
    "            # mfccfeatures = mfcc_features()\n",
    "            vector = MFCC(file)\n",
    "            vector = stats.zscore(vector, axis=1, ddof=1)\n",
    "            \n",
    "#             print(vector.shape)\n",
    "            \n",
    "            vector1 = np.dot(np.transpose(vector),vector)\n",
    "        \n",
    "            features.append(np.array(vector1))\n",
    "            \n",
    "#             print(vector1.shape)\n",
    "            \n",
    "            ## If features array is empty then stacking is not possible.\n",
    "#             if features.size == 0:\n",
    "#                 features = vector1.flatten()\n",
    "                \n",
    "#             else:\n",
    "#                 features = np.vstack((features, vector1.flatten()))\n",
    "                \n",
    "        return np.array(features)"
   ]
  },
  {
   "cell_type": "code",
   "execution_count": 17,
   "metadata": {},
   "outputs": [],
   "source": [
    "X_train = zscore_gram_matrix(x_train)"
   ]
  },
  {
   "cell_type": "code",
   "execution_count": 67,
   "metadata": {},
   "outputs": [
    {
     "data": {
      "image/png": "[encoded data removed]",
      "text/plain": [
       "<Figure size 432x288 with 1 Axes>"
      ]
     },
     "metadata": {
      "needs_background": "light"
     },
     "output_type": "display_data"
    }
   ],
   "source": [
    "plt.plot(X_train[1])\n",
    "plt.plot(X_train[2])\n",
    "plt.show()"
   ]
  },
  {
   "cell_type": "code",
   "execution_count": 18,
   "metadata": {},
   "outputs": [
    {
     "name": "stdout",
     "output_type": "stream",
     "text": [
      "<class 'numpy.ndarray'>\n",
      "[[ 2.06327489e+03  7.56978825e+02 -7.29271928e+01 ...  4.56762291e+00\n",
      "   3.77279795e+00  3.66732413e+00]\n",
      " [ 7.56978825e+02  1.35733581e+03 -3.60017058e+02 ...  3.79838401e+01\n",
      "   4.43780573e+01  4.42390951e+01]\n",
      " [-7.29271928e+01 -3.60017058e+02  1.00101318e+03 ... -1.06678050e+01\n",
      "  -6.76223287e+00  1.21822293e+00]\n",
      " ...\n",
      " [ 4.56762291e+00  3.79838401e+01 -1.06678050e+01 ...  3.58755747e+01\n",
      "   1.30190108e+01  1.55445531e+01]\n",
      " [ 3.77279795e+00  4.43780573e+01 -6.76223287e+00 ...  1.30190108e+01\n",
      "   2.44189340e+01  1.39717844e+01]\n",
      " [ 3.66732413e+00  4.42390951e+01  1.21822293e+00 ...  1.55445531e+01\n",
      "   1.39717844e+01  3.45241712e+01]]\n",
      "(2557, 39, 39)\n"
     ]
    }
   ],
   "source": [
    "# X_train = np.array(X_train)[indices.astype(int)]\n",
    "print(type(X_train))\n",
    "print(X_train[0])\n",
    "print(X_train.shape)\n",
    "X_train = X_train.reshape(X_train.shape[0], X_train.shape[1], X_train.shape[2], 1)"
   ]
  },
  {
   "cell_type": "markdown",
   "metadata": {},
   "source": [
    "## 2D CNN Model "
   ]
  },
  {
   "cell_type": "code",
   "execution_count": 19,
   "metadata": {},
   "outputs": [],
   "source": [
    "cnn_model = models.Sequential()\n",
    "\n",
    "cnn_model.add(layers.Conv2D(128, (3,3), activation='relu', input_shape=(X_train.shape[1],X_train.shape[2],1)))\n",
    "cnn_model.add(Dropout(0.15))\n",
    "cnn_model.add(layers.MaxPool2D(2,2))\n",
    "cnn_model.add(layers.Conv2D(64, (3,3), activation='relu'))\n",
    "cnn_model.add(Dropout(0.15))\n",
    "cnn_model.add(layers.MaxPool2D(2,2))\n",
    "cnn_model.add(layers.Flatten())\n",
    "cnn_model.add(layers.Dense(32, activation='relu'))\n",
    "cnn_model.add(Dropout(0.15))\n",
    "cnn_model.add(layers.Dense(1, activation='sigmoid'))"
   ]
  },
  {
   "cell_type": "code",
   "execution_count": 20,
   "metadata": {},
   "outputs": [],
   "source": [
    "cnn_model.compile(optimizer='adam', metrics=['accuracy'], loss='binary_crossentropy')"
   ]
  },
  {
   "cell_type": "code",
   "execution_count": 21,
   "metadata": {},
   "outputs": [
    {
     "name": "stdout",
     "output_type": "stream",
     "text": [
      "Epoch 1/100\n",
      "64/64 [==============================] - 5s 83ms/step - loss: 2.9721 - accuracy: 0.6929 - val_loss: 0.7117 - val_accuracy: 0.0000e+00\n",
      "Epoch 2/100\n",
      "64/64 [==============================] - 5s 81ms/step - loss: 0.6805 - accuracy: 0.7115 - val_loss: 0.7384 - val_accuracy: 0.0000e+00\n",
      "Epoch 3/100\n",
      "64/64 [==============================] - 5s 80ms/step - loss: 0.6706 - accuracy: 0.7115 - val_loss: 0.7662 - val_accuracy: 0.0000e+00\n",
      "Epoch 4/100\n",
      "64/64 [==============================] - 5s 80ms/step - loss: 0.6615 - accuracy: 0.7115 - val_loss: 0.7937 - val_accuracy: 0.0000e+00\n",
      "Epoch 5/100\n",
      "64/64 [==============================] - 6s 98ms/step - loss: 0.6533 - accuracy: 0.7115 - val_loss: 0.8207 - val_accuracy: 0.0000e+00\n",
      "Epoch 6/100\n",
      "64/64 [==============================] - 6s 95ms/step - loss: 0.6460 - accuracy: 0.7115 - val_loss: 0.8473 - val_accuracy: 0.0000e+00\n",
      "Epoch 7/100\n",
      "64/64 [==============================] - 6s 96ms/step - loss: 0.6396 - accuracy: 0.7115 - val_loss: 0.8731 - val_accuracy: 0.0000e+00\n",
      "Epoch 8/100\n",
      "64/64 [==============================] - 6s 95ms/step - loss: 0.6340 - accuracy: 0.7115 - val_loss: 0.8986 - val_accuracy: 0.0000e+00\n",
      "Epoch 9/100\n",
      "64/64 [==============================] - 6s 93ms/step - loss: 0.6290 - accuracy: 0.7115 - val_loss: 0.9224 - val_accuracy: 0.0000e+00\n",
      "Epoch 10/100\n",
      "64/64 [==============================] - 7s 109ms/step - loss: 0.6247 - accuracy: 0.7115 - val_loss: 0.9456 - val_accuracy: 0.0000e+00\n",
      "Epoch 11/100\n",
      "64/64 [==============================] - 7s 102ms/step - loss: 0.6210 - accuracy: 0.7115 - val_loss: 0.9689 - val_accuracy: 0.0000e+00\n",
      "Epoch 12/100\n",
      "64/64 [==============================] - 5s 83ms/step - loss: 0.6177 - accuracy: 0.7115 - val_loss: 0.9882 - val_accuracy: 0.0000e+00\n",
      "Epoch 13/100\n",
      "64/64 [==============================] - 5s 79ms/step - loss: 0.6150 - accuracy: 0.7115 - val_loss: 1.0086 - val_accuracy: 0.0000e+00\n",
      "Epoch 14/100\n",
      "64/64 [==============================] - 5s 78ms/step - loss: 0.6126 - accuracy: 0.7115 - val_loss: 1.0291 - val_accuracy: 0.0000e+00\n",
      "Epoch 15/100\n",
      "64/64 [==============================] - 5s 84ms/step - loss: 0.6106 - accuracy: 0.7115 - val_loss: 1.0474 - val_accuracy: 0.0000e+00\n",
      "Epoch 16/100\n",
      "64/64 [==============================] - 6s 94ms/step - loss: 0.6089 - accuracy: 0.7115 - val_loss: 1.0636 - val_accuracy: 0.0000e+00\n",
      "Epoch 17/100\n",
      "64/64 [==============================] - 8s 130ms/step - loss: 0.6074 - accuracy: 0.7115 - val_loss: 1.0804 - val_accuracy: 0.0000e+00\n",
      "Epoch 18/100\n",
      "64/64 [==============================] - 6s 95ms/step - loss: 0.6062 - accuracy: 0.7115 - val_loss: 1.0954 - val_accuracy: 0.0000e+00\n",
      "Epoch 19/100\n",
      "64/64 [==============================] - 5s 81ms/step - loss: 0.6052 - accuracy: 0.7115 - val_loss: 1.1096 - val_accuracy: 0.0000e+00\n",
      "Epoch 20/100\n",
      "64/64 [==============================] - 6s 90ms/step - loss: 0.6044 - accuracy: 0.7115 - val_loss: 1.1216 - val_accuracy: 0.0000e+00\n",
      "Epoch 21/100\n",
      "64/64 [==============================] - 5s 85ms/step - loss: 0.6037 - accuracy: 0.7115 - val_loss: 1.1347 - val_accuracy: 0.0000e+00\n",
      "Epoch 22/100\n",
      "64/64 [==============================] - 5s 82ms/step - loss: 0.6031 - accuracy: 0.7115 - val_loss: 1.1451 - val_accuracy: 0.0000e+00\n",
      "Epoch 23/100\n",
      "64/64 [==============================] - 5s 79ms/step - loss: 0.6027 - accuracy: 0.7115 - val_loss: 1.1540 - val_accuracy: 0.0000e+00\n",
      "Epoch 24/100\n",
      "64/64 [==============================] - 5s 79ms/step - loss: 0.6023 - accuracy: 0.7115 - val_loss: 1.1636 - val_accuracy: 0.0000e+00\n",
      "Epoch 25/100\n",
      "64/64 [==============================] - 5s 83ms/step - loss: 0.6020 - accuracy: 0.7115 - val_loss: 1.1734 - val_accuracy: 0.0000e+00\n",
      "Epoch 26/100\n",
      "64/64 [==============================] - 5s 79ms/step - loss: 0.6017 - accuracy: 0.7115 - val_loss: 1.1796 - val_accuracy: 0.0000e+00\n",
      "Epoch 27/100\n",
      "64/64 [==============================] - 5s 82ms/step - loss: 0.6015 - accuracy: 0.7115 - val_loss: 1.1879 - val_accuracy: 0.0000e+00\n",
      "Epoch 28/100\n",
      "64/64 [==============================] - 5s 80ms/step - loss: 0.6014 - accuracy: 0.7115 - val_loss: 1.1936 - val_accuracy: 0.0000e+00\n",
      "Epoch 29/100\n",
      "64/64 [==============================] - 5s 79ms/step - loss: 0.6013 - accuracy: 0.7115 - val_loss: 1.1999 - val_accuracy: 0.0000e+00\n",
      "Epoch 30/100\n",
      "64/64 [==============================] - 5s 78ms/step - loss: 0.6012 - accuracy: 0.7115 - val_loss: 1.2047 - val_accuracy: 0.0000e+00\n",
      "Epoch 31/100\n",
      "64/64 [==============================] - 5s 81ms/step - loss: 0.6011 - accuracy: 0.7115 - val_loss: 1.2111 - val_accuracy: 0.0000e+00\n",
      "Epoch 32/100\n",
      "64/64 [==============================] - 5s 82ms/step - loss: 0.6010 - accuracy: 0.7115 - val_loss: 1.2133 - val_accuracy: 0.0000e+00\n",
      "Epoch 33/100\n",
      "64/64 [==============================] - 6s 88ms/step - loss: 0.6010 - accuracy: 0.7115 - val_loss: 1.2171 - val_accuracy: 0.0000e+00\n",
      "Epoch 34/100\n",
      "64/64 [==============================] - 5s 79ms/step - loss: 0.6009 - accuracy: 0.7115 - val_loss: 1.2203 - val_accuracy: 0.0000e+00\n",
      "Epoch 35/100\n",
      "64/64 [==============================] - 5s 78ms/step - loss: 0.6009 - accuracy: 0.7115 - val_loss: 1.2215 - val_accuracy: 0.0000e+00\n",
      "Epoch 36/100\n",
      "64/64 [==============================] - 5s 81ms/step - loss: 0.6009 - accuracy: 0.7115 - val_loss: 1.2272 - val_accuracy: 0.0000e+00\n",
      "Epoch 37/100\n",
      "64/64 [==============================] - 5s 80ms/step - loss: 0.6009 - accuracy: 0.7115 - val_loss: 1.2286 - val_accuracy: 0.0000e+00\n",
      "Epoch 38/100\n",
      "64/64 [==============================] - 5s 78ms/step - loss: 0.6009 - accuracy: 0.7115 - val_loss: 1.2297 - val_accuracy: 0.0000e+00\n",
      "Epoch 39/100\n",
      "64/64 [==============================] - 5s 81ms/step - loss: 0.6009 - accuracy: 0.7115 - val_loss: 1.2316 - val_accuracy: 0.0000e+00\n",
      "Epoch 40/100\n",
      "64/64 [==============================] - 5s 80ms/step - loss: 0.6009 - accuracy: 0.7115 - val_loss: 1.2338 - val_accuracy: 0.0000e+00\n",
      "Epoch 41/100\n",
      "64/64 [==============================] - 5s 79ms/step - loss: 0.6008 - accuracy: 0.7115 - val_loss: 1.2334 - val_accuracy: 0.0000e+00\n",
      "Epoch 42/100\n",
      "64/64 [==============================] - 5s 80ms/step - loss: 0.6008 - accuracy: 0.7115 - val_loss: 1.2351 - val_accuracy: 0.0000e+00\n",
      "Epoch 43/100\n",
      "64/64 [==============================] - 5s 80ms/step - loss: 0.6008 - accuracy: 0.7115 - val_loss: 1.2372 - val_accuracy: 0.0000e+00\n",
      "Epoch 44/100\n",
      "64/64 [==============================] - 5s 80ms/step - loss: 0.6008 - accuracy: 0.7115 - val_loss: 1.2368 - val_accuracy: 0.0000e+00\n",
      "Epoch 45/100\n",
      "64/64 [==============================] - 5s 81ms/step - loss: 0.6008 - accuracy: 0.7115 - val_loss: 1.2372 - val_accuracy: 0.0000e+00\n",
      "Epoch 46/100\n",
      "64/64 [==============================] - 5s 81ms/step - loss: 0.6008 - accuracy: 0.7115 - val_loss: 1.2407 - val_accuracy: 0.0000e+00\n",
      "Epoch 47/100\n",
      "64/64 [==============================] - 5s 78ms/step - loss: 0.6008 - accuracy: 0.7115 - val_loss: 1.2392 - val_accuracy: 0.0000e+00\n",
      "Epoch 48/100\n",
      "64/64 [==============================] - 5s 80ms/step - loss: 0.6009 - accuracy: 0.7115 - val_loss: 1.2408 - val_accuracy: 0.0000e+00\n",
      "Epoch 49/100\n",
      "64/64 [==============================] - 5s 79ms/step - loss: 0.6009 - accuracy: 0.7115 - val_loss: 1.2397 - val_accuracy: 0.0000e+00\n",
      "Epoch 50/100\n",
      "64/64 [==============================] - 5s 80ms/step - loss: 0.6009 - accuracy: 0.7115 - val_loss: 1.2429 - val_accuracy: 0.0000e+00\n",
      "Epoch 51/100\n",
      "64/64 [==============================] - 5s 78ms/step - loss: 0.6008 - accuracy: 0.7115 - val_loss: 1.2410 - val_accuracy: 0.0000e+00\n",
      "Epoch 52/100\n",
      "64/64 [==============================] - 5s 80ms/step - loss: 0.6008 - accuracy: 0.7115 - val_loss: 1.2411 - val_accuracy: 0.0000e+00\n",
      "Epoch 53/100\n",
      "64/64 [==============================] - 5s 78ms/step - loss: 0.6008 - accuracy: 0.7115 - val_loss: 1.2417 - val_accuracy: 0.0000e+00\n",
      "Epoch 54/100\n",
      "64/64 [==============================] - 5s 80ms/step - loss: 0.6008 - accuracy: 0.7115 - val_loss: 1.2407 - val_accuracy: 0.0000e+00\n",
      "Epoch 55/100\n",
      "64/64 [==============================] - 5s 80ms/step - loss: 0.6009 - accuracy: 0.7115 - val_loss: 1.2438 - val_accuracy: 0.0000e+00\n",
      "Epoch 56/100\n",
      "64/64 [==============================] - 5s 80ms/step - loss: 0.6008 - accuracy: 0.7115 - val_loss: 1.2410 - val_accuracy: 0.0000e+00\n"
     ]
    },
    {
     "name": "stdout",
     "output_type": "stream",
     "text": [
      "Epoch 57/100\n",
      "64/64 [==============================] - 5s 78ms/step - loss: 0.6008 - accuracy: 0.7115 - val_loss: 1.2411 - val_accuracy: 0.0000e+00\n",
      "Epoch 58/100\n",
      "64/64 [==============================] - 5s 78ms/step - loss: 0.6008 - accuracy: 0.7115 - val_loss: 1.2430 - val_accuracy: 0.0000e+00\n",
      "Epoch 59/100\n",
      "64/64 [==============================] - 5s 78ms/step - loss: 0.6009 - accuracy: 0.7115 - val_loss: 1.2403 - val_accuracy: 0.0000e+00\n",
      "Epoch 60/100\n",
      "64/64 [==============================] - 5s 82ms/step - loss: 0.6008 - accuracy: 0.7115 - val_loss: 1.2408 - val_accuracy: 0.0000e+00\n",
      "Epoch 61/100\n",
      "64/64 [==============================] - 5s 79ms/step - loss: 0.6009 - accuracy: 0.7115 - val_loss: 1.2423 - val_accuracy: 0.0000e+00\n",
      "Epoch 62/100\n",
      "64/64 [==============================] - 5s 82ms/step - loss: 0.6009 - accuracy: 0.7115 - val_loss: 1.2413 - val_accuracy: 0.0000e+00\n",
      "Epoch 63/100\n",
      "64/64 [==============================] - 5s 81ms/step - loss: 0.6009 - accuracy: 0.7115 - val_loss: 1.2459 - val_accuracy: 0.0000e+00\n",
      "Epoch 64/100\n",
      "64/64 [==============================] - 5s 79ms/step - loss: 0.6008 - accuracy: 0.7115 - val_loss: 1.2433 - val_accuracy: 0.0000e+00\n",
      "Epoch 65/100\n",
      "64/64 [==============================] - 5s 80ms/step - loss: 0.6008 - accuracy: 0.7115 - val_loss: 1.2440 - val_accuracy: 0.0000e+00\n",
      "Epoch 66/100\n",
      "64/64 [==============================] - 5s 79ms/step - loss: 0.6008 - accuracy: 0.7115 - val_loss: 1.2439 - val_accuracy: 0.0000e+00\n",
      "Epoch 67/100\n",
      "64/64 [==============================] - 5s 81ms/step - loss: 0.6008 - accuracy: 0.7115 - val_loss: 1.2423 - val_accuracy: 0.0000e+00\n",
      "Epoch 68/100\n",
      "64/64 [==============================] - 5s 81ms/step - loss: 0.6009 - accuracy: 0.7115 - val_loss: 1.2419 - val_accuracy: 0.0000e+00\n",
      "Epoch 69/100\n",
      "64/64 [==============================] - 5s 82ms/step - loss: 0.6009 - accuracy: 0.7115 - val_loss: 1.2421 - val_accuracy: 0.0000e+00\n",
      "Epoch 70/100\n",
      "64/64 [==============================] - 5s 78ms/step - loss: 0.6008 - accuracy: 0.7115 - val_loss: 1.2419 - val_accuracy: 0.0000e+00\n",
      "Epoch 71/100\n",
      "64/64 [==============================] - 5s 80ms/step - loss: 0.6008 - accuracy: 0.7115 - val_loss: 1.2424 - val_accuracy: 0.0000e+00\n",
      "Epoch 72/100\n",
      "64/64 [==============================] - 8s 123ms/step - loss: 0.6008 - accuracy: 0.7115 - val_loss: 1.2430 - val_accuracy: 0.0000e+00\n",
      "Epoch 73/100\n",
      "64/64 [==============================] - 9s 140ms/step - loss: 0.6008 - accuracy: 0.7115 - val_loss: 1.2427 - val_accuracy: 0.0000e+00\n",
      "Epoch 74/100\n",
      "64/64 [==============================] - 8s 129ms/step - loss: 0.6008 - accuracy: 0.7115 - val_loss: 1.2423 - val_accuracy: 0.0000e+00\n",
      "Epoch 75/100\n",
      "64/64 [==============================] - 9s 142ms/step - loss: 0.6008 - accuracy: 0.7115 - val_loss: 1.2432 - val_accuracy: 0.0000e+00\n",
      "Epoch 76/100\n",
      "64/64 [==============================] - 9s 136ms/step - loss: 0.6008 - accuracy: 0.7115 - val_loss: 1.2441 - val_accuracy: 0.0000e+00\n",
      "Epoch 77/100\n",
      "64/64 [==============================] - 10s 149ms/step - loss: 0.6009 - accuracy: 0.7115 - val_loss: 1.2458 - val_accuracy: 0.0000e+00\n",
      "Epoch 78/100\n",
      "64/64 [==============================] - 9s 136ms/step - loss: 0.6008 - accuracy: 0.7115 - val_loss: 1.2434 - val_accuracy: 0.0000e+00\n",
      "Epoch 79/100\n",
      "64/64 [==============================] - 10s 153ms/step - loss: 0.6008 - accuracy: 0.7115 - val_loss: 1.2414 - val_accuracy: 0.0000e+00\n",
      "Epoch 80/100\n",
      "64/64 [==============================] - 10s 149ms/step - loss: 0.6008 - accuracy: 0.7115 - val_loss: 1.2419 - val_accuracy: 0.0000e+00\n",
      "Epoch 81/100\n",
      "64/64 [==============================] - 9s 146ms/step - loss: 0.6009 - accuracy: 0.7115 - val_loss: 1.2419 - val_accuracy: 0.0000e+00\n",
      "Epoch 82/100\n",
      "64/64 [==============================] - 9s 147ms/step - loss: 0.6008 - accuracy: 0.7115 - val_loss: 1.2415 - val_accuracy: 0.0000e+00\n",
      "Epoch 83/100\n",
      "64/64 [==============================] - 7s 111ms/step - loss: 0.6008 - accuracy: 0.7115 - val_loss: 1.2426 - val_accuracy: 0.0000e+00\n",
      "Epoch 84/100\n",
      "64/64 [==============================] - 9s 142ms/step - loss: 0.6009 - accuracy: 0.7115 - val_loss: 1.2419 - val_accuracy: 0.0000e+00\n",
      "Epoch 85/100\n",
      "64/64 [==============================] - 9s 136ms/step - loss: 0.6008 - accuracy: 0.7115 - val_loss: 1.2431 - val_accuracy: 0.0000e+00\n",
      "Epoch 86/100\n",
      "64/64 [==============================] - 8s 126ms/step - loss: 0.6008 - accuracy: 0.7115 - val_loss: 1.2452 - val_accuracy: 0.0000e+00\n",
      "Epoch 87/100\n",
      "64/64 [==============================] - 8s 124ms/step - loss: 0.6009 - accuracy: 0.7115 - val_loss: 1.2436 - val_accuracy: 0.0000e+00\n",
      "Epoch 88/100\n",
      "64/64 [==============================] - 8s 122ms/step - loss: 0.6008 - accuracy: 0.7115 - val_loss: 1.2440 - val_accuracy: 0.0000e+00\n",
      "Epoch 89/100\n",
      "64/64 [==============================] - 9s 137ms/step - loss: 0.6008 - accuracy: 0.7115 - val_loss: 1.2436 - val_accuracy: 0.0000e+00\n",
      "Epoch 90/100\n",
      "64/64 [==============================] - 9s 146ms/step - loss: 0.6008 - accuracy: 0.7115 - val_loss: 1.2427 - val_accuracy: 0.0000e+00\n",
      "Epoch 91/100\n",
      "64/64 [==============================] - 8s 129ms/step - loss: 0.6008 - accuracy: 0.7115 - val_loss: 1.2428 - val_accuracy: 0.0000e+00\n",
      "Epoch 92/100\n",
      "64/64 [==============================] - 8s 131ms/step - loss: 0.6008 - accuracy: 0.7115 - val_loss: 1.2427 - val_accuracy: 0.0000e+00\n",
      "Epoch 93/100\n",
      "64/64 [==============================] - 9s 134ms/step - loss: 0.6009 - accuracy: 0.7115 - val_loss: 1.2437 - val_accuracy: 0.0000e+00\n",
      "Epoch 94/100\n",
      "64/64 [==============================] - 9s 138ms/step - loss: 0.6008 - accuracy: 0.7115 - val_loss: 1.2416 - val_accuracy: 0.0000e+00\n",
      "Epoch 95/100\n",
      "64/64 [==============================] - 9s 135ms/step - loss: 0.6009 - accuracy: 0.7115 - val_loss: 1.2440 - val_accuracy: 0.0000e+00\n",
      "Epoch 96/100\n",
      "64/64 [==============================] - 7s 113ms/step - loss: 0.6008 - accuracy: 0.7115 - val_loss: 1.2430 - val_accuracy: 0.0000e+00\n",
      "Epoch 97/100\n",
      "64/64 [==============================] - 8s 127ms/step - loss: 0.6008 - accuracy: 0.7115 - val_loss: 1.2418 - val_accuracy: 0.0000e+00\n",
      "Epoch 98/100\n",
      "64/64 [==============================] - 7s 106ms/step - loss: 0.6009 - accuracy: 0.7115 - val_loss: 1.2437 - val_accuracy: 0.0000e+00\n",
      "Epoch 99/100\n",
      "64/64 [==============================] - 7s 109ms/step - loss: 0.6008 - accuracy: 0.7115 - val_loss: 1.2426 - val_accuracy: 0.0000e+00\n",
      "Epoch 100/100\n",
      "64/64 [==============================] - 8s 125ms/step - loss: 0.6009 - accuracy: 0.7115 - val_loss: 1.2398 - val_accuracy: 0.0000e+00\n"
     ]
    }
   ],
   "source": [
    "history  = cnn_model.fit(X_train,np.array(np.array(y_train).reshape((len(y_train),1))), epochs=100, validation_split=0.2)"
   ]
  },
  {
   "cell_type": "code",
   "execution_count": 22,
   "metadata": {},
   "outputs": [
    {
     "data": {
      "image/png": "[encoded data removed]",
      "text/plain": [
       "<Figure size 720x720 with 1 Axes>"
      ]
     },
     "metadata": {
      "needs_background": "light"
     },
     "output_type": "display_data"
    }
   ],
   "source": [
    "plt.figure(figsize=(10,10))\n",
    "plt.plot(history.history[\"accuracy\"])\n",
    "plt.plot(history.history[\"val_accuracy\"])\n",
    "plt.xlabel(\"Epochs\")\n",
    "plt.ylabel(\"Accuracy\")\n",
    "plt.legend([\"train\", \"test\"], loc=\"upper left\")\n",
    "plt.show()"
   ]
  },
  {
   "cell_type": "code",
   "execution_count": 23,
   "metadata": {},
   "outputs": [],
   "source": [
    "X_test = zscore_gram_matrix(x_test)"
   ]
  },
  {
   "cell_type": "code",
   "execution_count": 73,
   "metadata": {},
   "outputs": [
    {
     "ename": "ValueError",
     "evalue": "in user code:\n\n    /home/ridhima/Documents/Github/Voicenet/voicenet_venv/lib/python3.7/site-packages/tensorflow/python/keras/engine/training.py:1147 predict_function  *\n        outputs = self.distribute_strategy.run(\n    /home/ridhima/Documents/Github/Voicenet/voicenet_venv/lib/python3.7/site-packages/tensorflow/python/distribute/distribute_lib.py:951 run  **\n        return self._extended.call_for_each_replica(fn, args=args, kwargs=kwargs)\n    /home/ridhima/Documents/Github/Voicenet/voicenet_venv/lib/python3.7/site-packages/tensorflow/python/distribute/distribute_lib.py:2290 call_for_each_replica\n        return self._call_for_each_replica(fn, args, kwargs)\n    /home/ridhima/Documents/Github/Voicenet/voicenet_venv/lib/python3.7/site-packages/tensorflow/python/distribute/distribute_lib.py:2649 _call_for_each_replica\n        return fn(*args, **kwargs)\n    /home/ridhima/Documents/Github/Voicenet/voicenet_venv/lib/python3.7/site-packages/tensorflow/python/keras/engine/training.py:1122 predict_step  **\n        return self(x, training=False)\n    /home/ridhima/Documents/Github/Voicenet/voicenet_venv/lib/python3.7/site-packages/tensorflow/python/keras/engine/base_layer.py:886 __call__\n        self.name)\n    /home/ridhima/Documents/Github/Voicenet/voicenet_venv/lib/python3.7/site-packages/tensorflow/python/keras/engine/input_spec.py:180 assert_input_compatibility\n        str(x.shape.as_list()))\n\n    ValueError: Input 0 of layer sequential_6 is incompatible with the layer: expected ndim=4, found ndim=3. Full shape received: [None, 39, 1]\n",
     "output_type": "error",
     "traceback": [
      "\u001b[0;31m---------------------------------------------------------------------------\u001b[0m",
      "\u001b[0;31mValueError\u001b[0m                                Traceback (most recent call last)",
      "\u001b[0;32m<ipython-input-73-1aaa7ddcdfc7>\u001b[0m in \u001b[0;36m<module>\u001b[0;34m\u001b[0m\n\u001b[1;32m      1\u001b[0m \u001b[0mX_test\u001b[0m \u001b[0;34m=\u001b[0m \u001b[0mX_test\u001b[0m\u001b[0;34m.\u001b[0m\u001b[0mreshape\u001b[0m\u001b[0;34m(\u001b[0m\u001b[0mX_test\u001b[0m\u001b[0;34m.\u001b[0m\u001b[0mshape\u001b[0m\u001b[0;34m[\u001b[0m\u001b[0;36m0\u001b[0m\u001b[0;34m]\u001b[0m\u001b[0;34m,\u001b[0m \u001b[0mX_test\u001b[0m\u001b[0;34m.\u001b[0m\u001b[0mshape\u001b[0m\u001b[0;34m[\u001b[0m\u001b[0;36m1\u001b[0m\u001b[0;34m]\u001b[0m\u001b[0;34m,\u001b[0m \u001b[0mX_test\u001b[0m\u001b[0;34m.\u001b[0m\u001b[0mshape\u001b[0m\u001b[0;34m[\u001b[0m\u001b[0;36m2\u001b[0m\u001b[0;34m]\u001b[0m\u001b[0;34m,\u001b[0m \u001b[0;36m1\u001b[0m\u001b[0;34m)\u001b[0m\u001b[0;34m\u001b[0m\u001b[0;34m\u001b[0m\u001b[0m\n\u001b[0;32m----> 2\u001b[0;31m \u001b[0mcnn_model\u001b[0m\u001b[0;34m.\u001b[0m\u001b[0mpredict\u001b[0m\u001b[0;34m(\u001b[0m\u001b[0mX_test\u001b[0m\u001b[0;34m[\u001b[0m\u001b[0;36m0\u001b[0m\u001b[0;34m]\u001b[0m\u001b[0;34m)\u001b[0m\u001b[0;34m\u001b[0m\u001b[0;34m\u001b[0m\u001b[0m\n\u001b[0m",
      "\u001b[0;32m~/Documents/Github/Voicenet/voicenet_venv/lib/python3.7/site-packages/tensorflow/python/keras/engine/training.py\u001b[0m in \u001b[0;36m_method_wrapper\u001b[0;34m(self, *args, **kwargs)\u001b[0m\n\u001b[1;32m     86\u001b[0m       raise ValueError('{} is not supported in multi-worker mode.'.format(\n\u001b[1;32m     87\u001b[0m           method.__name__))\n\u001b[0;32m---> 88\u001b[0;31m     \u001b[0;32mreturn\u001b[0m \u001b[0mmethod\u001b[0m\u001b[0;34m(\u001b[0m\u001b[0mself\u001b[0m\u001b[0;34m,\u001b[0m \u001b[0;34m*\u001b[0m\u001b[0margs\u001b[0m\u001b[0;34m,\u001b[0m \u001b[0;34m**\u001b[0m\u001b[0mkwargs\u001b[0m\u001b[0;34m)\u001b[0m\u001b[0;34m\u001b[0m\u001b[0;34m\u001b[0m\u001b[0m\n\u001b[0m\u001b[1;32m     89\u001b[0m \u001b[0;34m\u001b[0m\u001b[0m\n\u001b[1;32m     90\u001b[0m   return tf_decorator.make_decorator(\n",
      "\u001b[0;32m~/Documents/Github/Voicenet/voicenet_venv/lib/python3.7/site-packages/tensorflow/python/keras/engine/training.py\u001b[0m in \u001b[0;36mpredict\u001b[0;34m(self, x, batch_size, verbose, steps, callbacks, max_queue_size, workers, use_multiprocessing)\u001b[0m\n\u001b[1;32m   1266\u001b[0m           \u001b[0;32mfor\u001b[0m \u001b[0mstep\u001b[0m \u001b[0;32min\u001b[0m \u001b[0mdata_handler\u001b[0m\u001b[0;34m.\u001b[0m\u001b[0msteps\u001b[0m\u001b[0;34m(\u001b[0m\u001b[0;34m)\u001b[0m\u001b[0;34m:\u001b[0m\u001b[0;34m\u001b[0m\u001b[0;34m\u001b[0m\u001b[0m\n\u001b[1;32m   1267\u001b[0m             \u001b[0mcallbacks\u001b[0m\u001b[0;34m.\u001b[0m\u001b[0mon_predict_batch_begin\u001b[0m\u001b[0;34m(\u001b[0m\u001b[0mstep\u001b[0m\u001b[0;34m)\u001b[0m\u001b[0;34m\u001b[0m\u001b[0;34m\u001b[0m\u001b[0m\n\u001b[0;32m-> 1268\u001b[0;31m             \u001b[0mtmp_batch_outputs\u001b[0m \u001b[0;34m=\u001b[0m \u001b[0mpredict_function\u001b[0m\u001b[0;34m(\u001b[0m\u001b[0miterator\u001b[0m\u001b[0;34m)\u001b[0m\u001b[0;34m\u001b[0m\u001b[0;34m\u001b[0m\u001b[0m\n\u001b[0m\u001b[1;32m   1269\u001b[0m             \u001b[0;31m# Catch OutOfRangeError for Datasets of unknown size.\u001b[0m\u001b[0;34m\u001b[0m\u001b[0;34m\u001b[0m\u001b[0;34m\u001b[0m\u001b[0m\n\u001b[1;32m   1270\u001b[0m             \u001b[0;31m# This blocks until the batch has finished executing.\u001b[0m\u001b[0;34m\u001b[0m\u001b[0;34m\u001b[0m\u001b[0;34m\u001b[0m\u001b[0m\n",
      "\u001b[0;32m~/Documents/Github/Voicenet/voicenet_venv/lib/python3.7/site-packages/tensorflow/python/eager/def_function.py\u001b[0m in \u001b[0;36m__call__\u001b[0;34m(self, *args, **kwds)\u001b[0m\n\u001b[1;32m    578\u001b[0m         \u001b[0mxla_context\u001b[0m\u001b[0;34m.\u001b[0m\u001b[0mExit\u001b[0m\u001b[0;34m(\u001b[0m\u001b[0;34m)\u001b[0m\u001b[0;34m\u001b[0m\u001b[0;34m\u001b[0m\u001b[0m\n\u001b[1;32m    579\u001b[0m     \u001b[0;32melse\u001b[0m\u001b[0;34m:\u001b[0m\u001b[0;34m\u001b[0m\u001b[0;34m\u001b[0m\u001b[0m\n\u001b[0;32m--> 580\u001b[0;31m       \u001b[0mresult\u001b[0m \u001b[0;34m=\u001b[0m \u001b[0mself\u001b[0m\u001b[0;34m.\u001b[0m\u001b[0m_call\u001b[0m\u001b[0;34m(\u001b[0m\u001b[0;34m*\u001b[0m\u001b[0margs\u001b[0m\u001b[0;34m,\u001b[0m \u001b[0;34m**\u001b[0m\u001b[0mkwds\u001b[0m\u001b[0;34m)\u001b[0m\u001b[0;34m\u001b[0m\u001b[0;34m\u001b[0m\u001b[0m\n\u001b[0m\u001b[1;32m    581\u001b[0m \u001b[0;34m\u001b[0m\u001b[0m\n\u001b[1;32m    582\u001b[0m     \u001b[0;32mif\u001b[0m \u001b[0mtracing_count\u001b[0m \u001b[0;34m==\u001b[0m \u001b[0mself\u001b[0m\u001b[0;34m.\u001b[0m\u001b[0m_get_tracing_count\u001b[0m\u001b[0;34m(\u001b[0m\u001b[0;34m)\u001b[0m\u001b[0;34m:\u001b[0m\u001b[0;34m\u001b[0m\u001b[0;34m\u001b[0m\u001b[0m\n",
      "\u001b[0;32m~/Documents/Github/Voicenet/voicenet_venv/lib/python3.7/site-packages/tensorflow/python/eager/def_function.py\u001b[0m in \u001b[0;36m_call\u001b[0;34m(self, *args, **kwds)\u001b[0m\n\u001b[1;32m    616\u001b[0m       \u001b[0;31m# In this case we have not created variables on the first call. So we can\u001b[0m\u001b[0;34m\u001b[0m\u001b[0;34m\u001b[0m\u001b[0;34m\u001b[0m\u001b[0m\n\u001b[1;32m    617\u001b[0m       \u001b[0;31m# run the first trace but we should fail if variables are created.\u001b[0m\u001b[0;34m\u001b[0m\u001b[0;34m\u001b[0m\u001b[0;34m\u001b[0m\u001b[0m\n\u001b[0;32m--> 618\u001b[0;31m       \u001b[0mresults\u001b[0m \u001b[0;34m=\u001b[0m \u001b[0mself\u001b[0m\u001b[0;34m.\u001b[0m\u001b[0m_stateful_fn\u001b[0m\u001b[0;34m(\u001b[0m\u001b[0;34m*\u001b[0m\u001b[0margs\u001b[0m\u001b[0;34m,\u001b[0m \u001b[0;34m**\u001b[0m\u001b[0mkwds\u001b[0m\u001b[0;34m)\u001b[0m\u001b[0;34m\u001b[0m\u001b[0;34m\u001b[0m\u001b[0m\n\u001b[0m\u001b[1;32m    619\u001b[0m       \u001b[0;32mif\u001b[0m \u001b[0mself\u001b[0m\u001b[0;34m.\u001b[0m\u001b[0m_created_variables\u001b[0m\u001b[0;34m:\u001b[0m\u001b[0;34m\u001b[0m\u001b[0;34m\u001b[0m\u001b[0m\n\u001b[1;32m    620\u001b[0m         raise ValueError(\"Creating variables on a non-first call to a function\"\n",
      "\u001b[0;32m~/Documents/Github/Voicenet/voicenet_venv/lib/python3.7/site-packages/tensorflow/python/eager/function.py\u001b[0m in \u001b[0;36m__call__\u001b[0;34m(self, *args, **kwargs)\u001b[0m\n\u001b[1;32m   2417\u001b[0m     \u001b[0;34m\"\"\"Calls a graph function specialized to the inputs.\"\"\"\u001b[0m\u001b[0;34m\u001b[0m\u001b[0;34m\u001b[0m\u001b[0m\n\u001b[1;32m   2418\u001b[0m     \u001b[0;32mwith\u001b[0m \u001b[0mself\u001b[0m\u001b[0;34m.\u001b[0m\u001b[0m_lock\u001b[0m\u001b[0;34m:\u001b[0m\u001b[0;34m\u001b[0m\u001b[0;34m\u001b[0m\u001b[0m\n\u001b[0;32m-> 2419\u001b[0;31m       \u001b[0mgraph_function\u001b[0m\u001b[0;34m,\u001b[0m \u001b[0margs\u001b[0m\u001b[0;34m,\u001b[0m \u001b[0mkwargs\u001b[0m \u001b[0;34m=\u001b[0m \u001b[0mself\u001b[0m\u001b[0;34m.\u001b[0m\u001b[0m_maybe_define_function\u001b[0m\u001b[0;34m(\u001b[0m\u001b[0margs\u001b[0m\u001b[0;34m,\u001b[0m \u001b[0mkwargs\u001b[0m\u001b[0;34m)\u001b[0m\u001b[0;34m\u001b[0m\u001b[0;34m\u001b[0m\u001b[0m\n\u001b[0m\u001b[1;32m   2420\u001b[0m     \u001b[0;32mreturn\u001b[0m \u001b[0mgraph_function\u001b[0m\u001b[0;34m.\u001b[0m\u001b[0m_filtered_call\u001b[0m\u001b[0;34m(\u001b[0m\u001b[0margs\u001b[0m\u001b[0;34m,\u001b[0m \u001b[0mkwargs\u001b[0m\u001b[0;34m)\u001b[0m  \u001b[0;31m# pylint: disable=protected-access\u001b[0m\u001b[0;34m\u001b[0m\u001b[0;34m\u001b[0m\u001b[0m\n\u001b[1;32m   2421\u001b[0m \u001b[0;34m\u001b[0m\u001b[0m\n",
      "\u001b[0;32m~/Documents/Github/Voicenet/voicenet_venv/lib/python3.7/site-packages/tensorflow/python/eager/function.py\u001b[0m in \u001b[0;36m_maybe_define_function\u001b[0;34m(self, args, kwargs)\u001b[0m\n\u001b[1;32m   2772\u001b[0m           \u001b[0;32mand\u001b[0m \u001b[0mself\u001b[0m\u001b[0;34m.\u001b[0m\u001b[0minput_signature\u001b[0m \u001b[0;32mis\u001b[0m \u001b[0;32mNone\u001b[0m\u001b[0;34m\u001b[0m\u001b[0;34m\u001b[0m\u001b[0m\n\u001b[1;32m   2773\u001b[0m           and call_context_key in self._function_cache.missed):\n\u001b[0;32m-> 2774\u001b[0;31m         \u001b[0;32mreturn\u001b[0m \u001b[0mself\u001b[0m\u001b[0;34m.\u001b[0m\u001b[0m_define_function_with_shape_relaxation\u001b[0m\u001b[0;34m(\u001b[0m\u001b[0margs\u001b[0m\u001b[0;34m,\u001b[0m \u001b[0mkwargs\u001b[0m\u001b[0;34m)\u001b[0m\u001b[0;34m\u001b[0m\u001b[0;34m\u001b[0m\u001b[0m\n\u001b[0m\u001b[1;32m   2775\u001b[0m \u001b[0;34m\u001b[0m\u001b[0m\n\u001b[1;32m   2776\u001b[0m       \u001b[0mself\u001b[0m\u001b[0;34m.\u001b[0m\u001b[0m_function_cache\u001b[0m\u001b[0;34m.\u001b[0m\u001b[0mmissed\u001b[0m\u001b[0;34m.\u001b[0m\u001b[0madd\u001b[0m\u001b[0;34m(\u001b[0m\u001b[0mcall_context_key\u001b[0m\u001b[0;34m)\u001b[0m\u001b[0;34m\u001b[0m\u001b[0;34m\u001b[0m\u001b[0m\n",
      "\u001b[0;32m~/Documents/Github/Voicenet/voicenet_venv/lib/python3.7/site-packages/tensorflow/python/eager/function.py\u001b[0m in \u001b[0;36m_define_function_with_shape_relaxation\u001b[0;34m(self, args, kwargs)\u001b[0m\n\u001b[1;32m   2704\u001b[0m         relaxed_arg_shapes)\n\u001b[1;32m   2705\u001b[0m     graph_function = self._create_graph_function(\n\u001b[0;32m-> 2706\u001b[0;31m         args, kwargs, override_flat_arg_shapes=relaxed_arg_shapes)\n\u001b[0m\u001b[1;32m   2707\u001b[0m     \u001b[0mself\u001b[0m\u001b[0;34m.\u001b[0m\u001b[0m_function_cache\u001b[0m\u001b[0;34m.\u001b[0m\u001b[0marg_relaxed\u001b[0m\u001b[0;34m[\u001b[0m\u001b[0mrank_only_cache_key\u001b[0m\u001b[0;34m]\u001b[0m \u001b[0;34m=\u001b[0m \u001b[0mgraph_function\u001b[0m\u001b[0;34m\u001b[0m\u001b[0;34m\u001b[0m\u001b[0m\n\u001b[1;32m   2708\u001b[0m \u001b[0;34m\u001b[0m\u001b[0m\n",
      "\u001b[0;32m~/Documents/Github/Voicenet/voicenet_venv/lib/python3.7/site-packages/tensorflow/python/eager/function.py\u001b[0m in \u001b[0;36m_create_graph_function\u001b[0;34m(self, args, kwargs, override_flat_arg_shapes)\u001b[0m\n\u001b[1;32m   2665\u001b[0m             \u001b[0marg_names\u001b[0m\u001b[0;34m=\u001b[0m\u001b[0marg_names\u001b[0m\u001b[0;34m,\u001b[0m\u001b[0;34m\u001b[0m\u001b[0;34m\u001b[0m\u001b[0m\n\u001b[1;32m   2666\u001b[0m             \u001b[0moverride_flat_arg_shapes\u001b[0m\u001b[0;34m=\u001b[0m\u001b[0moverride_flat_arg_shapes\u001b[0m\u001b[0;34m,\u001b[0m\u001b[0;34m\u001b[0m\u001b[0;34m\u001b[0m\u001b[0m\n\u001b[0;32m-> 2667\u001b[0;31m             capture_by_value=self._capture_by_value),\n\u001b[0m\u001b[1;32m   2668\u001b[0m         \u001b[0mself\u001b[0m\u001b[0;34m.\u001b[0m\u001b[0m_function_attributes\u001b[0m\u001b[0;34m,\u001b[0m\u001b[0;34m\u001b[0m\u001b[0;34m\u001b[0m\u001b[0m\n\u001b[1;32m   2669\u001b[0m         \u001b[0;31m# Tell the ConcreteFunction to clean up its graph once it goes out of\u001b[0m\u001b[0;34m\u001b[0m\u001b[0;34m\u001b[0m\u001b[0;34m\u001b[0m\u001b[0m\n",
      "\u001b[0;32m~/Documents/Github/Voicenet/voicenet_venv/lib/python3.7/site-packages/tensorflow/python/framework/func_graph.py\u001b[0m in \u001b[0;36mfunc_graph_from_py_func\u001b[0;34m(name, python_func, args, kwargs, signature, func_graph, autograph, autograph_options, add_control_dependencies, arg_names, op_return_value, collections, capture_by_value, override_flat_arg_shapes)\u001b[0m\n\u001b[1;32m    979\u001b[0m         \u001b[0m_\u001b[0m\u001b[0;34m,\u001b[0m \u001b[0moriginal_func\u001b[0m \u001b[0;34m=\u001b[0m \u001b[0mtf_decorator\u001b[0m\u001b[0;34m.\u001b[0m\u001b[0munwrap\u001b[0m\u001b[0;34m(\u001b[0m\u001b[0mpython_func\u001b[0m\u001b[0;34m)\u001b[0m\u001b[0;34m\u001b[0m\u001b[0;34m\u001b[0m\u001b[0m\n\u001b[1;32m    980\u001b[0m \u001b[0;34m\u001b[0m\u001b[0m\n\u001b[0;32m--> 981\u001b[0;31m       \u001b[0mfunc_outputs\u001b[0m \u001b[0;34m=\u001b[0m \u001b[0mpython_func\u001b[0m\u001b[0;34m(\u001b[0m\u001b[0;34m*\u001b[0m\u001b[0mfunc_args\u001b[0m\u001b[0;34m,\u001b[0m \u001b[0;34m**\u001b[0m\u001b[0mfunc_kwargs\u001b[0m\u001b[0;34m)\u001b[0m\u001b[0;34m\u001b[0m\u001b[0;34m\u001b[0m\u001b[0m\n\u001b[0m\u001b[1;32m    982\u001b[0m \u001b[0;34m\u001b[0m\u001b[0m\n\u001b[1;32m    983\u001b[0m       \u001b[0;31m# invariant: `func_outputs` contains only Tensors, CompositeTensors,\u001b[0m\u001b[0;34m\u001b[0m\u001b[0;34m\u001b[0m\u001b[0;34m\u001b[0m\u001b[0m\n",
      "\u001b[0;32m~/Documents/Github/Voicenet/voicenet_venv/lib/python3.7/site-packages/tensorflow/python/eager/def_function.py\u001b[0m in \u001b[0;36mwrapped_fn\u001b[0;34m(*args, **kwds)\u001b[0m\n\u001b[1;32m    439\u001b[0m         \u001b[0;31m# __wrapped__ allows AutoGraph to swap in a converted function. We give\u001b[0m\u001b[0;34m\u001b[0m\u001b[0;34m\u001b[0m\u001b[0;34m\u001b[0m\u001b[0m\n\u001b[1;32m    440\u001b[0m         \u001b[0;31m# the function a weak reference to itself to avoid a reference cycle.\u001b[0m\u001b[0;34m\u001b[0m\u001b[0;34m\u001b[0m\u001b[0;34m\u001b[0m\u001b[0m\n\u001b[0;32m--> 441\u001b[0;31m         \u001b[0;32mreturn\u001b[0m \u001b[0mweak_wrapped_fn\u001b[0m\u001b[0;34m(\u001b[0m\u001b[0;34m)\u001b[0m\u001b[0;34m.\u001b[0m\u001b[0m__wrapped__\u001b[0m\u001b[0;34m(\u001b[0m\u001b[0;34m*\u001b[0m\u001b[0margs\u001b[0m\u001b[0;34m,\u001b[0m \u001b[0;34m**\u001b[0m\u001b[0mkwds\u001b[0m\u001b[0;34m)\u001b[0m\u001b[0;34m\u001b[0m\u001b[0;34m\u001b[0m\u001b[0m\n\u001b[0m\u001b[1;32m    442\u001b[0m     \u001b[0mweak_wrapped_fn\u001b[0m \u001b[0;34m=\u001b[0m \u001b[0mweakref\u001b[0m\u001b[0;34m.\u001b[0m\u001b[0mref\u001b[0m\u001b[0;34m(\u001b[0m\u001b[0mwrapped_fn\u001b[0m\u001b[0;34m)\u001b[0m\u001b[0;34m\u001b[0m\u001b[0;34m\u001b[0m\u001b[0m\n\u001b[1;32m    443\u001b[0m \u001b[0;34m\u001b[0m\u001b[0m\n",
      "\u001b[0;32m~/Documents/Github/Voicenet/voicenet_venv/lib/python3.7/site-packages/tensorflow/python/framework/func_graph.py\u001b[0m in \u001b[0;36mwrapper\u001b[0;34m(*args, **kwargs)\u001b[0m\n\u001b[1;32m    966\u001b[0m           \u001b[0;32mexcept\u001b[0m \u001b[0mException\u001b[0m \u001b[0;32mas\u001b[0m \u001b[0me\u001b[0m\u001b[0;34m:\u001b[0m  \u001b[0;31m# pylint:disable=broad-except\u001b[0m\u001b[0;34m\u001b[0m\u001b[0;34m\u001b[0m\u001b[0m\n\u001b[1;32m    967\u001b[0m             \u001b[0;32mif\u001b[0m \u001b[0mhasattr\u001b[0m\u001b[0;34m(\u001b[0m\u001b[0me\u001b[0m\u001b[0;34m,\u001b[0m \u001b[0;34m\"ag_error_metadata\"\u001b[0m\u001b[0;34m)\u001b[0m\u001b[0;34m:\u001b[0m\u001b[0;34m\u001b[0m\u001b[0;34m\u001b[0m\u001b[0m\n\u001b[0;32m--> 968\u001b[0;31m               \u001b[0;32mraise\u001b[0m \u001b[0me\u001b[0m\u001b[0;34m.\u001b[0m\u001b[0mag_error_metadata\u001b[0m\u001b[0;34m.\u001b[0m\u001b[0mto_exception\u001b[0m\u001b[0;34m(\u001b[0m\u001b[0me\u001b[0m\u001b[0;34m)\u001b[0m\u001b[0;34m\u001b[0m\u001b[0;34m\u001b[0m\u001b[0m\n\u001b[0m\u001b[1;32m    969\u001b[0m             \u001b[0;32melse\u001b[0m\u001b[0;34m:\u001b[0m\u001b[0;34m\u001b[0m\u001b[0;34m\u001b[0m\u001b[0m\n\u001b[1;32m    970\u001b[0m               \u001b[0;32mraise\u001b[0m\u001b[0;34m\u001b[0m\u001b[0;34m\u001b[0m\u001b[0m\n",
      "\u001b[0;31mValueError\u001b[0m: in user code:\n\n    /home/ridhima/Documents/Github/Voicenet/voicenet_venv/lib/python3.7/site-packages/tensorflow/python/keras/engine/training.py:1147 predict_function  *\n        outputs = self.distribute_strategy.run(\n    /home/ridhima/Documents/Github/Voicenet/voicenet_venv/lib/python3.7/site-packages/tensorflow/python/distribute/distribute_lib.py:951 run  **\n        return self._extended.call_for_each_replica(fn, args=args, kwargs=kwargs)\n    /home/ridhima/Documents/Github/Voicenet/voicenet_venv/lib/python3.7/site-packages/tensorflow/python/distribute/distribute_lib.py:2290 call_for_each_replica\n        return self._call_for_each_replica(fn, args, kwargs)\n    /home/ridhima/Documents/Github/Voicenet/voicenet_venv/lib/python3.7/site-packages/tensorflow/python/distribute/distribute_lib.py:2649 _call_for_each_replica\n        return fn(*args, **kwargs)\n    /home/ridhima/Documents/Github/Voicenet/voicenet_venv/lib/python3.7/site-packages/tensorflow/python/keras/engine/training.py:1122 predict_step  **\n        return self(x, training=False)\n    /home/ridhima/Documents/Github/Voicenet/voicenet_venv/lib/python3.7/site-packages/tensorflow/python/keras/engine/base_layer.py:886 __call__\n        self.name)\n    /home/ridhima/Documents/Github/Voicenet/voicenet_venv/lib/python3.7/site-packages/tensorflow/python/keras/engine/input_spec.py:180 assert_input_compatibility\n        str(x.shape.as_list()))\n\n    ValueError: Input 0 of layer sequential_6 is incompatible with the layer: expected ndim=4, found ndim=3. Full shape received: [None, 39, 1]\n"
     ]
    }
   ],
   "source": [
    "X_test = X_test.reshape(X_test.shape[0], X_test.shape[1], X_test.shape[2], 1)\n",
    "cnn_model.predict(X_test[0])"
   ]
  },
  {
   "cell_type": "code",
   "execution_count": 75,
   "metadata": {},
   "outputs": [
    {
     "name": "stdout",
     "output_type": "stream",
     "text": [
      "41/41 [==============================] - 1s 14ms/step - loss: 0.0186 - accuracy: 0.9969\n"
     ]
    },
    {
     "data": {
      "text/plain": [
       "[0.018633203580975533, 0.9968871474266052]"
      ]
     },
     "execution_count": 75,
     "metadata": {},
     "output_type": "execute_result"
    }
   ],
   "source": [
    "cnn_model.evaluate(X_test, np.array(np.array(y_test).reshape((len(y_test),1))))"
   ]
  },
  {
   "cell_type": "code",
   "execution_count": null,
   "metadata": {},
   "outputs": [],
   "source": []
  },
  {
   "cell_type": "code",
   "execution_count": null,
   "metadata": {},
   "outputs": [],
   "source": []
  },
  {
   "cell_type": "code",
   "execution_count": 62,
   "metadata": {},
   "outputs": [],
   "source": [
    "## Testing snippets"
   ]
  },
  {
   "cell_type": "code",
   "execution_count": 37,
   "metadata": {},
   "outputs": [
    {
     "name": "stdout",
     "output_type": "stream",
     "text": [
      "[2 1 1]\n",
      "(3,)\n",
      "[[2]\n",
      " [1]\n",
      " [1]]\n",
      "(3, 1)\n"
     ]
    }
   ],
   "source": [
    "x = np.array([2,1,1])\n",
    "print(x)\n",
    "print(x.shape)\n",
    "x = x.reshape(3,1)\n",
    "print(x)\n",
    "print(x.shape)"
   ]
  },
  {
   "cell_type": "code",
   "execution_count": 15,
   "metadata": {},
   "outputs": [
    {
     "data": {
      "text/plain": [
       "(2557, 1)"
      ]
     },
     "execution_count": 15,
     "metadata": {},
     "output_type": "execute_result"
    }
   ],
   "source": [
    "np.array(np.array(y_train).reshape((len(y_train),1))).shape"
   ]
  },
  {
   "cell_type": "code",
   "execution_count": 19,
   "metadata": {},
   "outputs": [
    {
     "data": {
      "text/plain": [
       "19.9765625"
      ]
     },
     "execution_count": 19,
     "metadata": {},
     "output_type": "execute_result"
    }
   ],
   "source": [
    "2557/128"
   ]
  },
  {
   "cell_type": "code",
   "execution_count": 17,
   "metadata": {},
   "outputs": [
    {
     "data": {
      "text/plain": [
       "array([[0],\n",
       "       [0],\n",
       "       [0],\n",
       "       ...,\n",
       "       [1],\n",
       "       [1],\n",
       "       [1]])"
      ]
     },
     "execution_count": 17,
     "metadata": {},
     "output_type": "execute_result"
    }
   ],
   "source": [
    "np.array(np.array(y_train).reshape((len(y_train),1)))"
   ]
  },
  {
   "cell_type": "code",
   "execution_count": null,
   "metadata": {},
   "outputs": [],
   "source": []
  }
 ],
 "metadata": {
  "kernelspec": {
   "display_name": "Python 3.7.5 64-bit ('voicenet_venv': venv)",
   "language": "python",
   "name": "python37564bitvoicenetvenvvenv3211909c721248e184b0b91a67b5318b"
  },
  "language_info": {
   "codemirror_mode": {
    "name": "ipython",
    "version": 3
   },
   "file_extension": ".py",
   "mimetype": "text/x-python",
   "name": "python",
   "nbconvert_exporter": "python",
   "pygments_lexer": "ipython3",
   "version": "3.7.5"
  }
 },
 "nbformat": 4,
 "nbformat_minor": 4
}
