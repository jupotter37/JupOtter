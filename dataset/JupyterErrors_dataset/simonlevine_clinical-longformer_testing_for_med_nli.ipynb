{
 "metadata": {
  "language_info": {
   "codemirror_mode": {
    "name": "ipython",
    "version": 3
   },
   "file_extension": ".py",
   "mimetype": "text/x-python",
   "name": "python",
   "nbconvert_exporter": "python",
   "pygments_lexer": "ipython3",
   "version": "3.7.6-final"
  },
  "orig_nbformat": 2,
  "kernelspec": {
   "name": "python37664bitbasecondab8a2a0b1ed86479d9f777b0a8cf633d1",
   "display_name": "Python 3.7.6 64-bit ('base': conda)"
  }
 },
 "nbformat": 4,
 "nbformat_minor": 2,
 "cells": [
  {
   "cell_type": "code",
   "execution_count": 1,
   "metadata": {},
   "outputs": [
    {
     "output_type": "execute_result",
     "data": {
      "text/plain": [
       "                                           sentence1  \\\n",
       "0  In the ED, initial VS revealed T 98.9, HR 73, ...   \n",
       "1  In the ED, initial VS revealed T 98.9, HR 73, ...   \n",
       "2  In the ED, initial VS revealed T 98.9, HR 73, ...   \n",
       "3  63 year old woman with known history of hyperc...   \n",
       "4  63 year old woman with known history of hyperc...   \n",
       "\n",
       "                                   sentence2     gold_label  \n",
       "0     The patient is hemodynamically stable      entailment  \n",
       "1   The patient is hemodynamically unstable.  contradiction  \n",
       "2                    The patient is in pain.        neutral  \n",
       "3                   the patient was in a MVC     entailment  \n",
       "4         the patient has no medical history  contradiction  "
      ],
      "text/html": "<div>\n<style scoped>\n    .dataframe tbody tr th:only-of-type {\n        vertical-align: middle;\n    }\n\n    .dataframe tbody tr th {\n        vertical-align: top;\n    }\n\n    .dataframe thead th {\n        text-align: right;\n    }\n</style>\n<table border=\"1\" class=\"dataframe\">\n  <thead>\n    <tr style=\"text-align: right;\">\n      <th></th>\n      <th>sentence1</th>\n      <th>sentence2</th>\n      <th>gold_label</th>\n    </tr>\n  </thead>\n  <tbody>\n    <tr>\n      <th>0</th>\n      <td>In the ED, initial VS revealed T 98.9, HR 73, ...</td>\n      <td>The patient is hemodynamically stable</td>\n      <td>entailment</td>\n    </tr>\n    <tr>\n      <th>1</th>\n      <td>In the ED, initial VS revealed T 98.9, HR 73, ...</td>\n      <td>The patient is hemodynamically unstable.</td>\n      <td>contradiction</td>\n    </tr>\n    <tr>\n      <th>2</th>\n      <td>In the ED, initial VS revealed T 98.9, HR 73, ...</td>\n      <td>The patient is in pain.</td>\n      <td>neutral</td>\n    </tr>\n    <tr>\n      <th>3</th>\n      <td>63 year old woman with known history of hyperc...</td>\n      <td>the patient was in a MVC</td>\n      <td>entailment</td>\n    </tr>\n    <tr>\n      <th>4</th>\n      <td>63 year old woman with known history of hyperc...</td>\n      <td>the patient has no medical history</td>\n      <td>contradiction</td>\n    </tr>\n  </tbody>\n</table>\n</div>"
     },
     "metadata": {},
     "execution_count": 1
    }
   ],
   "source": [
    "import pandas as pd\n",
    "import json\n",
    "import numpy as np\n",
    "def load_jsonl(jsonl_fpath):\n",
    "    with open(jsonl_fpath) as f:\n",
    "        lines = f.read().splitlines()\n",
    "\n",
    "    df = pd.DataFrame(lines)\n",
    "    df.columns = ['json_element']\n",
    "    df['json_element'].apply(json.loads)\n",
    "    df = pd.json_normalize(df['json_element'].apply(json.loads))\n",
    "\n",
    "    return df\n",
    "\n",
    "df = load_jsonl('../data/mednli-1.0.0/mli_test_v1.jsonl')\n",
    "df = df[['sentence1','sentence2','gold_label']]\n",
    "df.head()"
   ]
  },
  {
   "cell_type": "code",
   "execution_count": 98,
   "metadata": {},
   "outputs": [
    {
     "output_type": "execute_result",
     "data": {
      "text/plain": [
       "      ROW_ID  ADVANCED.CANCER  ADVANCED.HEART.DISEASE  ADVANCED.LUNG.DISEASE  \\\n",
       "0      17170                0                       0                      0   \n",
       "1      17170                0                       0                      0   \n",
       "2      50828                0                       0                      0   \n",
       "3      50828                0                       0                      0   \n",
       "4      52670                0                       0                      0   \n",
       "...      ...              ...                     ...                    ...   \n",
       "2271    2787                0                       1                      1   \n",
       "2272   18731                0                       0                      0   \n",
       "2273   18731                0                       0                      0   \n",
       "2274    8180                0                       1                      0   \n",
       "2275    8180                0                       1                      0   \n",
       "\n",
       "      ALCOHOL.ABUSE  CHRONIC.NEUROLOGICAL.DYSTROPHIES  \\\n",
       "0                 0                                 0   \n",
       "1                 0                                 0   \n",
       "2                 0                                 0   \n",
       "3                 0                                 0   \n",
       "4                 0                                 0   \n",
       "...             ...                               ...   \n",
       "2271              0                                 0   \n",
       "2272              1                                 0   \n",
       "2273              1                                 0   \n",
       "2274              0                                 0   \n",
       "2275              0                                 0   \n",
       "\n",
       "      CHRONIC.PAIN.FIBROMYALGIA  DEMENTIA  DEPRESSION  \\\n",
       "0                             0         0           0   \n",
       "1                             0         0           0   \n",
       "2                             0         0           0   \n",
       "3                             0         0           0   \n",
       "4                             0         0           0   \n",
       "...                         ...       ...         ...   \n",
       "2271                          0         0           0   \n",
       "2272                          0         0           0   \n",
       "2273                          0         0           0   \n",
       "2274                          0         0           1   \n",
       "2275                          0         0           1   \n",
       "\n",
       "      DEVELOPMENTAL.DELAY.RETARDATION  NON.ADHERENCE  NONE  OBESITY  \\\n",
       "0                                   0              0     1        0   \n",
       "1                                   0              0     1        0   \n",
       "2                                   0              0     1        0   \n",
       "3                                   0              0     1        0   \n",
       "4                                   0              0     1        0   \n",
       "...                               ...            ...   ...      ...   \n",
       "2271                                0              0     0        0   \n",
       "2272                                0              1     0        0   \n",
       "2273                                0              1     0        0   \n",
       "2274                                0              0     0        0   \n",
       "2275                                0              0     0        0   \n",
       "\n",
       "      OTHER.SUBSTANCE.ABUSE  SCHIZOPHRENIA.AND.OTHER.PSYCHIATRIC.DISORDERS  \n",
       "0                         0                                              0  \n",
       "1                         0                                              0  \n",
       "2                         0                                              0  \n",
       "3                         0                                              0  \n",
       "4                         0                                              0  \n",
       "...                     ...                                            ...  \n",
       "2271                      0                                              0  \n",
       "2272                      0                                              0  \n",
       "2273                      0                                              0  \n",
       "2274                      0                                              0  \n",
       "2275                      0                                              0  \n",
       "\n",
       "[1988 rows x 15 columns]"
      ],
      "text/html": "<div>\n<style scoped>\n    .dataframe tbody tr th:only-of-type {\n        vertical-align: middle;\n    }\n\n    .dataframe tbody tr th {\n        vertical-align: top;\n    }\n\n    .dataframe thead th {\n        text-align: right;\n    }\n</style>\n<table border=\"1\" class=\"dataframe\">\n  <thead>\n    <tr style=\"text-align: right;\">\n      <th></th>\n      <th>ROW_ID</th>\n      <th>ADVANCED.CANCER</th>\n      <th>ADVANCED.HEART.DISEASE</th>\n      <th>ADVANCED.LUNG.DISEASE</th>\n      <th>ALCOHOL.ABUSE</th>\n      <th>CHRONIC.NEUROLOGICAL.DYSTROPHIES</th>\n      <th>CHRONIC.PAIN.FIBROMYALGIA</th>\n      <th>DEMENTIA</th>\n      <th>DEPRESSION</th>\n      <th>DEVELOPMENTAL.DELAY.RETARDATION</th>\n      <th>NON.ADHERENCE</th>\n      <th>NONE</th>\n      <th>OBESITY</th>\n      <th>OTHER.SUBSTANCE.ABUSE</th>\n      <th>SCHIZOPHRENIA.AND.OTHER.PSYCHIATRIC.DISORDERS</th>\n    </tr>\n  </thead>\n  <tbody>\n    <tr>\n      <th>0</th>\n      <td>17170</td>\n      <td>0</td>\n      <td>0</td>\n      <td>0</td>\n      <td>0</td>\n      <td>0</td>\n      <td>0</td>\n      <td>0</td>\n      <td>0</td>\n      <td>0</td>\n      <td>0</td>\n      <td>1</td>\n      <td>0</td>\n      <td>0</td>\n      <td>0</td>\n    </tr>\n    <tr>\n      <th>1</th>\n      <td>17170</td>\n      <td>0</td>\n      <td>0</td>\n      <td>0</td>\n      <td>0</td>\n      <td>0</td>\n      <td>0</td>\n      <td>0</td>\n      <td>0</td>\n      <td>0</td>\n      <td>0</td>\n      <td>1</td>\n      <td>0</td>\n      <td>0</td>\n      <td>0</td>\n    </tr>\n    <tr>\n      <th>2</th>\n      <td>50828</td>\n      <td>0</td>\n      <td>0</td>\n      <td>0</td>\n      <td>0</td>\n      <td>0</td>\n      <td>0</td>\n      <td>0</td>\n      <td>0</td>\n      <td>0</td>\n      <td>0</td>\n      <td>1</td>\n      <td>0</td>\n      <td>0</td>\n      <td>0</td>\n    </tr>\n    <tr>\n      <th>3</th>\n      <td>50828</td>\n      <td>0</td>\n      <td>0</td>\n      <td>0</td>\n      <td>0</td>\n      <td>0</td>\n      <td>0</td>\n      <td>0</td>\n      <td>0</td>\n      <td>0</td>\n      <td>0</td>\n      <td>1</td>\n      <td>0</td>\n      <td>0</td>\n      <td>0</td>\n    </tr>\n    <tr>\n      <th>4</th>\n      <td>52670</td>\n      <td>0</td>\n      <td>0</td>\n      <td>0</td>\n      <td>0</td>\n      <td>0</td>\n      <td>0</td>\n      <td>0</td>\n      <td>0</td>\n      <td>0</td>\n      <td>0</td>\n      <td>1</td>\n      <td>0</td>\n      <td>0</td>\n      <td>0</td>\n    </tr>\n    <tr>\n      <th>...</th>\n      <td>...</td>\n      <td>...</td>\n      <td>...</td>\n      <td>...</td>\n      <td>...</td>\n      <td>...</td>\n      <td>...</td>\n      <td>...</td>\n      <td>...</td>\n      <td>...</td>\n      <td>...</td>\n      <td>...</td>\n      <td>...</td>\n      <td>...</td>\n      <td>...</td>\n    </tr>\n    <tr>\n      <th>2271</th>\n      <td>2787</td>\n      <td>0</td>\n      <td>1</td>\n      <td>1</td>\n      <td>0</td>\n      <td>0</td>\n      <td>0</td>\n      <td>0</td>\n      <td>0</td>\n      <td>0</td>\n      <td>0</td>\n      <td>0</td>\n      <td>0</td>\n      <td>0</td>\n      <td>0</td>\n    </tr>\n    <tr>\n      <th>2272</th>\n      <td>18731</td>\n      <td>0</td>\n      <td>0</td>\n      <td>0</td>\n      <td>1</td>\n      <td>0</td>\n      <td>0</td>\n      <td>0</td>\n      <td>0</td>\n      <td>0</td>\n      <td>1</td>\n      <td>0</td>\n      <td>0</td>\n      <td>0</td>\n      <td>0</td>\n    </tr>\n    <tr>\n      <th>2273</th>\n      <td>18731</td>\n      <td>0</td>\n      <td>0</td>\n      <td>0</td>\n      <td>1</td>\n      <td>0</td>\n      <td>0</td>\n      <td>0</td>\n      <td>0</td>\n      <td>0</td>\n      <td>1</td>\n      <td>0</td>\n      <td>0</td>\n      <td>0</td>\n      <td>0</td>\n    </tr>\n    <tr>\n      <th>2274</th>\n      <td>8180</td>\n      <td>0</td>\n      <td>1</td>\n      <td>0</td>\n      <td>0</td>\n      <td>0</td>\n      <td>0</td>\n      <td>0</td>\n      <td>1</td>\n      <td>0</td>\n      <td>0</td>\n      <td>0</td>\n      <td>0</td>\n      <td>0</td>\n      <td>0</td>\n    </tr>\n    <tr>\n      <th>2275</th>\n      <td>8180</td>\n      <td>0</td>\n      <td>1</td>\n      <td>0</td>\n      <td>0</td>\n      <td>0</td>\n      <td>0</td>\n      <td>0</td>\n      <td>1</td>\n      <td>0</td>\n      <td>0</td>\n      <td>0</td>\n      <td>0</td>\n      <td>0</td>\n      <td>0</td>\n    </tr>\n  </tbody>\n</table>\n<p>1988 rows × 15 columns</p>\n</div>"
     },
     "metadata": {},
     "execution_count": 98
    }
   ],
   "source": [
    "# https://physionet.org/content/phenotype-annotations-mimic/1.20.03/\n",
    "\n",
    "#drop cases where not sure.\n",
    "mimic_iii_annot"
   ]
  },
  {
   "cell_type": "code",
   "execution_count": 57,
   "metadata": {},
   "outputs": [
    {
     "output_type": "execute_result",
     "data": {
      "text/plain": [
       "          ROW_ID                                               TEXT\n",
       "0            174  Admission Date:  [**2151-7-16**]       Dischar...\n",
       "1            175  Admission Date:  [**2118-6-2**]       Discharg...\n",
       "2            176  Admission Date:  [**2119-5-4**]              D...\n",
       "3            177  Admission Date:  [**2124-7-21**]              ...\n",
       "4            178  Admission Date:  [**2162-3-3**]              D...\n",
       "...          ...                                                ...\n",
       "2083175  2070657  NPN\\n\\n\\n#1  Infant remains in RA with O2 sats...\n",
       "2083176  2070658  Neonatology\\nDOL #5, CGA 36 weeks.\\n\\nCVR: Con...\n",
       "2083177  2070659  Family Meeting Note\\nFamily meeting held with ...\n",
       "2083178  2070660  NPN 1800\\n\\n\\n#1 Resp: [**Known lastname 2243*...\n",
       "2083179  2070661  NPN 1800\\nNursing Addendum:\\n[**Known lastname...\n",
       "\n",
       "[2083180 rows x 2 columns]"
      ],
      "text/html": "<div>\n<style scoped>\n    .dataframe tbody tr th:only-of-type {\n        vertical-align: middle;\n    }\n\n    .dataframe tbody tr th {\n        vertical-align: top;\n    }\n\n    .dataframe thead th {\n        text-align: right;\n    }\n</style>\n<table border=\"1\" class=\"dataframe\">\n  <thead>\n    <tr style=\"text-align: right;\">\n      <th></th>\n      <th>ROW_ID</th>\n      <th>TEXT</th>\n    </tr>\n  </thead>\n  <tbody>\n    <tr>\n      <th>0</th>\n      <td>174</td>\n      <td>Admission Date:  [**2151-7-16**]       Dischar...</td>\n    </tr>\n    <tr>\n      <th>1</th>\n      <td>175</td>\n      <td>Admission Date:  [**2118-6-2**]       Discharg...</td>\n    </tr>\n    <tr>\n      <th>2</th>\n      <td>176</td>\n      <td>Admission Date:  [**2119-5-4**]              D...</td>\n    </tr>\n    <tr>\n      <th>3</th>\n      <td>177</td>\n      <td>Admission Date:  [**2124-7-21**]              ...</td>\n    </tr>\n    <tr>\n      <th>4</th>\n      <td>178</td>\n      <td>Admission Date:  [**2162-3-3**]              D...</td>\n    </tr>\n    <tr>\n      <th>...</th>\n      <td>...</td>\n      <td>...</td>\n    </tr>\n    <tr>\n      <th>2083175</th>\n      <td>2070657</td>\n      <td>NPN\\n\\n\\n#1  Infant remains in RA with O2 sats...</td>\n    </tr>\n    <tr>\n      <th>2083176</th>\n      <td>2070658</td>\n      <td>Neonatology\\nDOL #5, CGA 36 weeks.\\n\\nCVR: Con...</td>\n    </tr>\n    <tr>\n      <th>2083177</th>\n      <td>2070659</td>\n      <td>Family Meeting Note\\nFamily meeting held with ...</td>\n    </tr>\n    <tr>\n      <th>2083178</th>\n      <td>2070660</td>\n      <td>NPN 1800\\n\\n\\n#1 Resp: [**Known lastname 2243*...</td>\n    </tr>\n    <tr>\n      <th>2083179</th>\n      <td>2070661</td>\n      <td>NPN 1800\\nNursing Addendum:\\n[**Known lastname...</td>\n    </tr>\n  </tbody>\n</table>\n<p>2083180 rows × 2 columns</p>\n</div>"
     },
     "metadata": {},
     "execution_count": 57
    }
   ],
   "source": [
    "notes_mimic_iii = pd.read_csv('../data/mimiciii-14/NOTEEVENTS.csv',usecols=['ROW_ID','TEXT'])\n",
    "notes_mimic_iii #--> filter!"
   ]
  },
  {
   "cell_type": "code",
   "execution_count": 101,
   "metadata": {},
   "outputs": [
    {
     "output_type": "execute_result",
     "data": {
      "text/plain": [
       "          ROW_ID                                               TEXT\n",
       "0            174  Admission Date:  [**2151-7-16**]       Dischar...\n",
       "1            175  Admission Date:  [**2118-6-2**]       Discharg...\n",
       "2            176  Admission Date:  [**2119-5-4**]              D...\n",
       "3            177  Admission Date:  [**2124-7-21**]              ...\n",
       "4            178  Admission Date:  [**2162-3-3**]              D...\n",
       "...          ...                                                ...\n",
       "2083175  2070657  NPN\\n\\n\\n#1  Infant remains in RA with O2 sats...\n",
       "2083176  2070658  Neonatology\\nDOL #5, CGA 36 weeks.\\n\\nCVR: Con...\n",
       "2083177  2070659  Family Meeting Note\\nFamily meeting held with ...\n",
       "2083178  2070660  NPN 1800\\n\\n\\n#1 Resp: [**Known lastname 2243*...\n",
       "2083179  2070661  NPN 1800\\nNursing Addendum:\\n[**Known lastname...\n",
       "\n",
       "[2082347 rows x 2 columns]"
      ],
      "text/html": "<div>\n<style scoped>\n    .dataframe tbody tr th:only-of-type {\n        vertical-align: middle;\n    }\n\n    .dataframe tbody tr th {\n        vertical-align: top;\n    }\n\n    .dataframe thead th {\n        text-align: right;\n    }\n</style>\n<table border=\"1\" class=\"dataframe\">\n  <thead>\n    <tr style=\"text-align: right;\">\n      <th></th>\n      <th>ROW_ID</th>\n      <th>TEXT</th>\n    </tr>\n  </thead>\n  <tbody>\n    <tr>\n      <th>0</th>\n      <td>174</td>\n      <td>Admission Date:  [**2151-7-16**]       Dischar...</td>\n    </tr>\n    <tr>\n      <th>1</th>\n      <td>175</td>\n      <td>Admission Date:  [**2118-6-2**]       Discharg...</td>\n    </tr>\n    <tr>\n      <th>2</th>\n      <td>176</td>\n      <td>Admission Date:  [**2119-5-4**]              D...</td>\n    </tr>\n    <tr>\n      <th>3</th>\n      <td>177</td>\n      <td>Admission Date:  [**2124-7-21**]              ...</td>\n    </tr>\n    <tr>\n      <th>4</th>\n      <td>178</td>\n      <td>Admission Date:  [**2162-3-3**]              D...</td>\n    </tr>\n    <tr>\n      <th>...</th>\n      <td>...</td>\n      <td>...</td>\n    </tr>\n    <tr>\n      <th>2083175</th>\n      <td>2070657</td>\n      <td>NPN\\n\\n\\n#1  Infant remains in RA with O2 sats...</td>\n    </tr>\n    <tr>\n      <th>2083176</th>\n      <td>2070658</td>\n      <td>Neonatology\\nDOL #5, CGA 36 weeks.\\n\\nCVR: Con...</td>\n    </tr>\n    <tr>\n      <th>2083177</th>\n      <td>2070659</td>\n      <td>Family Meeting Note\\nFamily meeting held with ...</td>\n    </tr>\n    <tr>\n      <th>2083178</th>\n      <td>2070660</td>\n      <td>NPN 1800\\n\\n\\n#1 Resp: [**Known lastname 2243*...</td>\n    </tr>\n    <tr>\n      <th>2083179</th>\n      <td>2070661</td>\n      <td>NPN 1800\\nNursing Addendum:\\n[**Known lastname...</td>\n    </tr>\n  </tbody>\n</table>\n<p>2082347 rows × 2 columns</p>\n</div>"
     },
     "metadata": {},
     "execution_count": 101
    }
   ],
   "source": [
    "#excluding rows that are in the phenotype annotation task dataset\n",
    "notes_mimic_iii_for_pretraining = notes_mimic_iii[~notes_mimic_iii['ROW_ID'].isin(mimic_iii_annot['ROW_ID'])]\n",
    "notes_mimic_iii_for_pretraining"
   ]
  },
  {
   "cell_type": "code",
   "execution_count": 99,
   "metadata": {},
   "outputs": [
    {
     "output_type": "execute_result",
     "data": {
      "text/plain": [
       "       ROW_ID                                               TEXT\n",
       "59        206  Admission Date:  [**2189-2-18**]       Dischar...\n",
       "61        208  Admission Date:  [**2189-3-17**]       Dischar...\n",
       "62        209  Admission Date:  [**2189-3-17**]       Dischar...\n",
       "155        80  Admission Date:  [**2195-2-5**]       Discharg...\n",
       "159        84  Admission Date:  [**2195-6-29**]       [**Year...\n",
       "...       ...                                                ...\n",
       "55607   53514  Admission Date:  [**2123-10-12**]       Discha...\n",
       "55782   53748  Admission Date:  [**2133-4-26**]              ...\n",
       "55783   53749  Admission Date:  [**2134-1-16**]              ...\n",
       "55874   53339  Admission Date:  [**2144-2-29**]              ...\n",
       "55947   53590  Admission Date:  [**2115-3-6**]              D...\n",
       "\n",
       "[833 rows x 2 columns]"
      ],
      "text/html": "<div>\n<style scoped>\n    .dataframe tbody tr th:only-of-type {\n        vertical-align: middle;\n    }\n\n    .dataframe tbody tr th {\n        vertical-align: top;\n    }\n\n    .dataframe thead th {\n        text-align: right;\n    }\n</style>\n<table border=\"1\" class=\"dataframe\">\n  <thead>\n    <tr style=\"text-align: right;\">\n      <th></th>\n      <th>ROW_ID</th>\n      <th>TEXT</th>\n    </tr>\n  </thead>\n  <tbody>\n    <tr>\n      <th>59</th>\n      <td>206</td>\n      <td>Admission Date:  [**2189-2-18**]       Dischar...</td>\n    </tr>\n    <tr>\n      <th>61</th>\n      <td>208</td>\n      <td>Admission Date:  [**2189-3-17**]       Dischar...</td>\n    </tr>\n    <tr>\n      <th>62</th>\n      <td>209</td>\n      <td>Admission Date:  [**2189-3-17**]       Dischar...</td>\n    </tr>\n    <tr>\n      <th>155</th>\n      <td>80</td>\n      <td>Admission Date:  [**2195-2-5**]       Discharg...</td>\n    </tr>\n    <tr>\n      <th>159</th>\n      <td>84</td>\n      <td>Admission Date:  [**2195-6-29**]       [**Year...</td>\n    </tr>\n    <tr>\n      <th>...</th>\n      <td>...</td>\n      <td>...</td>\n    </tr>\n    <tr>\n      <th>55607</th>\n      <td>53514</td>\n      <td>Admission Date:  [**2123-10-12**]       Discha...</td>\n    </tr>\n    <tr>\n      <th>55782</th>\n      <td>53748</td>\n      <td>Admission Date:  [**2133-4-26**]              ...</td>\n    </tr>\n    <tr>\n      <th>55783</th>\n      <td>53749</td>\n      <td>Admission Date:  [**2134-1-16**]              ...</td>\n    </tr>\n    <tr>\n      <th>55874</th>\n      <td>53339</td>\n      <td>Admission Date:  [**2144-2-29**]              ...</td>\n    </tr>\n    <tr>\n      <th>55947</th>\n      <td>53590</td>\n      <td>Admission Date:  [**2115-3-6**]              D...</td>\n    </tr>\n  </tbody>\n</table>\n<p>833 rows × 2 columns</p>\n</div>"
     },
     "metadata": {},
     "execution_count": 99
    }
   ],
   "source": [
    "notes_mimic_iii_for_annot = notes_mimic_iii[notes_mimic_iii['ROW_ID'].isin(mimic_iii_annot['ROW_ID'])]\n",
    "notes_mimic_iii_for_annot"
   ]
  },
  {
   "cell_type": "code",
   "execution_count": 100,
   "metadata": {},
   "outputs": [
    {
     "output_type": "execute_result",
     "data": {
      "text/plain": [
       "      ROW_ID                                               TEXT  \\\n",
       "0        206  Admission Date:  [**2189-2-18**]       Dischar...   \n",
       "1        208  Admission Date:  [**2189-3-17**]       Dischar...   \n",
       "2        208  Admission Date:  [**2189-3-17**]       Dischar...   \n",
       "3        208  Admission Date:  [**2189-3-17**]       Dischar...   \n",
       "4        208  Admission Date:  [**2189-3-17**]       Dischar...   \n",
       "...      ...                                                ...   \n",
       "1983   53749  Admission Date:  [**2134-1-16**]              ...   \n",
       "1984   53339  Admission Date:  [**2144-2-29**]              ...   \n",
       "1985   53339  Admission Date:  [**2144-2-29**]              ...   \n",
       "1986   53590  Admission Date:  [**2115-3-6**]              D...   \n",
       "1987   53590  Admission Date:  [**2115-3-6**]              D...   \n",
       "\n",
       "      ADVANCED.CANCER  ADVANCED.HEART.DISEASE  ADVANCED.LUNG.DISEASE  \\\n",
       "0                   0                       0                      0   \n",
       "1                   0                       0                      0   \n",
       "2                   0                       1                      0   \n",
       "3                   0                       1                      0   \n",
       "4                   0                       1                      0   \n",
       "...               ...                     ...                    ...   \n",
       "1983                0                       0                      0   \n",
       "1984                1                       0                      0   \n",
       "1985                1                       0                      0   \n",
       "1986                0                       0                      0   \n",
       "1987                0                       0                      0   \n",
       "\n",
       "      ALCOHOL.ABUSE  CHRONIC.NEUROLOGICAL.DYSTROPHIES  \\\n",
       "0                 0                                 0   \n",
       "1                 0                                 0   \n",
       "2                 0                                 0   \n",
       "3                 0                                 0   \n",
       "4                 0                                 0   \n",
       "...             ...                               ...   \n",
       "1983              1                                 0   \n",
       "1984              0                                 0   \n",
       "1985              0                                 0   \n",
       "1986              0                                 0   \n",
       "1987              0                                 0   \n",
       "\n",
       "      CHRONIC.PAIN.FIBROMYALGIA  DEMENTIA  DEPRESSION  \\\n",
       "0                             0         0           0   \n",
       "1                             0         0           0   \n",
       "2                             0         0           0   \n",
       "3                             0         0           0   \n",
       "4                             0         0           0   \n",
       "...                         ...       ...         ...   \n",
       "1983                          0         0           0   \n",
       "1984                          1         1           0   \n",
       "1985                          1         1           0   \n",
       "1986                          0         0           0   \n",
       "1987                          0         0           0   \n",
       "\n",
       "      DEVELOPMENTAL.DELAY.RETARDATION  NON.ADHERENCE  NONE  OBESITY  \\\n",
       "0                                   0              0     1        0   \n",
       "1                                   0              0     1        0   \n",
       "2                                   0              0     0        0   \n",
       "3                                   0              0     0        0   \n",
       "4                                   0              0     0        0   \n",
       "...                               ...            ...   ...      ...   \n",
       "1983                                0              0     0        0   \n",
       "1984                                0              0     0        0   \n",
       "1985                                0              0     0        0   \n",
       "1986                                0              0     1        0   \n",
       "1987                                0              0     1        0   \n",
       "\n",
       "      OTHER.SUBSTANCE.ABUSE  SCHIZOPHRENIA.AND.OTHER.PSYCHIATRIC.DISORDERS  \n",
       "0                         0                                              0  \n",
       "1                         0                                              0  \n",
       "2                         0                                              0  \n",
       "3                         0                                              0  \n",
       "4                         0                                              0  \n",
       "...                     ...                                            ...  \n",
       "1983                      1                                              0  \n",
       "1984                      0                                              0  \n",
       "1985                      0                                              1  \n",
       "1986                      0                                              0  \n",
       "1987                      0                                              0  \n",
       "\n",
       "[1988 rows x 16 columns]"
      ],
      "text/html": "<div>\n<style scoped>\n    .dataframe tbody tr th:only-of-type {\n        vertical-align: middle;\n    }\n\n    .dataframe tbody tr th {\n        vertical-align: top;\n    }\n\n    .dataframe thead th {\n        text-align: right;\n    }\n</style>\n<table border=\"1\" class=\"dataframe\">\n  <thead>\n    <tr style=\"text-align: right;\">\n      <th></th>\n      <th>ROW_ID</th>\n      <th>TEXT</th>\n      <th>ADVANCED.CANCER</th>\n      <th>ADVANCED.HEART.DISEASE</th>\n      <th>ADVANCED.LUNG.DISEASE</th>\n      <th>ALCOHOL.ABUSE</th>\n      <th>CHRONIC.NEUROLOGICAL.DYSTROPHIES</th>\n      <th>CHRONIC.PAIN.FIBROMYALGIA</th>\n      <th>DEMENTIA</th>\n      <th>DEPRESSION</th>\n      <th>DEVELOPMENTAL.DELAY.RETARDATION</th>\n      <th>NON.ADHERENCE</th>\n      <th>NONE</th>\n      <th>OBESITY</th>\n      <th>OTHER.SUBSTANCE.ABUSE</th>\n      <th>SCHIZOPHRENIA.AND.OTHER.PSYCHIATRIC.DISORDERS</th>\n    </tr>\n  </thead>\n  <tbody>\n    <tr>\n      <th>0</th>\n      <td>206</td>\n      <td>Admission Date:  [**2189-2-18**]       Dischar...</td>\n      <td>0</td>\n      <td>0</td>\n      <td>0</td>\n      <td>0</td>\n      <td>0</td>\n      <td>0</td>\n      <td>0</td>\n      <td>0</td>\n      <td>0</td>\n      <td>0</td>\n      <td>1</td>\n      <td>0</td>\n      <td>0</td>\n      <td>0</td>\n    </tr>\n    <tr>\n      <th>1</th>\n      <td>208</td>\n      <td>Admission Date:  [**2189-3-17**]       Dischar...</td>\n      <td>0</td>\n      <td>0</td>\n      <td>0</td>\n      <td>0</td>\n      <td>0</td>\n      <td>0</td>\n      <td>0</td>\n      <td>0</td>\n      <td>0</td>\n      <td>0</td>\n      <td>1</td>\n      <td>0</td>\n      <td>0</td>\n      <td>0</td>\n    </tr>\n    <tr>\n      <th>2</th>\n      <td>208</td>\n      <td>Admission Date:  [**2189-3-17**]       Dischar...</td>\n      <td>0</td>\n      <td>1</td>\n      <td>0</td>\n      <td>0</td>\n      <td>0</td>\n      <td>0</td>\n      <td>0</td>\n      <td>0</td>\n      <td>0</td>\n      <td>0</td>\n      <td>0</td>\n      <td>0</td>\n      <td>0</td>\n      <td>0</td>\n    </tr>\n    <tr>\n      <th>3</th>\n      <td>208</td>\n      <td>Admission Date:  [**2189-3-17**]       Dischar...</td>\n      <td>0</td>\n      <td>1</td>\n      <td>0</td>\n      <td>0</td>\n      <td>0</td>\n      <td>0</td>\n      <td>0</td>\n      <td>0</td>\n      <td>0</td>\n      <td>0</td>\n      <td>0</td>\n      <td>0</td>\n      <td>0</td>\n      <td>0</td>\n    </tr>\n    <tr>\n      <th>4</th>\n      <td>208</td>\n      <td>Admission Date:  [**2189-3-17**]       Dischar...</td>\n      <td>0</td>\n      <td>1</td>\n      <td>0</td>\n      <td>0</td>\n      <td>0</td>\n      <td>0</td>\n      <td>0</td>\n      <td>0</td>\n      <td>0</td>\n      <td>0</td>\n      <td>0</td>\n      <td>0</td>\n      <td>0</td>\n      <td>0</td>\n    </tr>\n    <tr>\n      <th>...</th>\n      <td>...</td>\n      <td>...</td>\n      <td>...</td>\n      <td>...</td>\n      <td>...</td>\n      <td>...</td>\n      <td>...</td>\n      <td>...</td>\n      <td>...</td>\n      <td>...</td>\n      <td>...</td>\n      <td>...</td>\n      <td>...</td>\n      <td>...</td>\n      <td>...</td>\n      <td>...</td>\n    </tr>\n    <tr>\n      <th>1983</th>\n      <td>53749</td>\n      <td>Admission Date:  [**2134-1-16**]              ...</td>\n      <td>0</td>\n      <td>0</td>\n      <td>0</td>\n      <td>1</td>\n      <td>0</td>\n      <td>0</td>\n      <td>0</td>\n      <td>0</td>\n      <td>0</td>\n      <td>0</td>\n      <td>0</td>\n      <td>0</td>\n      <td>1</td>\n      <td>0</td>\n    </tr>\n    <tr>\n      <th>1984</th>\n      <td>53339</td>\n      <td>Admission Date:  [**2144-2-29**]              ...</td>\n      <td>1</td>\n      <td>0</td>\n      <td>0</td>\n      <td>0</td>\n      <td>0</td>\n      <td>1</td>\n      <td>1</td>\n      <td>0</td>\n      <td>0</td>\n      <td>0</td>\n      <td>0</td>\n      <td>0</td>\n      <td>0</td>\n      <td>0</td>\n    </tr>\n    <tr>\n      <th>1985</th>\n      <td>53339</td>\n      <td>Admission Date:  [**2144-2-29**]              ...</td>\n      <td>1</td>\n      <td>0</td>\n      <td>0</td>\n      <td>0</td>\n      <td>0</td>\n      <td>1</td>\n      <td>1</td>\n      <td>0</td>\n      <td>0</td>\n      <td>0</td>\n      <td>0</td>\n      <td>0</td>\n      <td>0</td>\n      <td>1</td>\n    </tr>\n    <tr>\n      <th>1986</th>\n      <td>53590</td>\n      <td>Admission Date:  [**2115-3-6**]              D...</td>\n      <td>0</td>\n      <td>0</td>\n      <td>0</td>\n      <td>0</td>\n      <td>0</td>\n      <td>0</td>\n      <td>0</td>\n      <td>0</td>\n      <td>0</td>\n      <td>0</td>\n      <td>1</td>\n      <td>0</td>\n      <td>0</td>\n      <td>0</td>\n    </tr>\n    <tr>\n      <th>1987</th>\n      <td>53590</td>\n      <td>Admission Date:  [**2115-3-6**]              D...</td>\n      <td>0</td>\n      <td>0</td>\n      <td>0</td>\n      <td>0</td>\n      <td>0</td>\n      <td>0</td>\n      <td>0</td>\n      <td>0</td>\n      <td>0</td>\n      <td>0</td>\n      <td>1</td>\n      <td>0</td>\n      <td>0</td>\n      <td>0</td>\n    </tr>\n  </tbody>\n</table>\n<p>1988 rows × 16 columns</p>\n</div>"
     },
     "metadata": {},
     "execution_count": 100
    }
   ],
   "source": [
    "notes_mimic_iii_for_annot.merge(mimic_iii_annot, left_on='ROW_ID', right_on='ROW_ID',how='left')\n",
    "#note that some of the instances are repeated with different "
   ]
  },
  {
   "cell_type": "code",
   "execution_count": null,
   "metadata": {},
   "outputs": [],
   "source": [
    "#####"
   ]
  },
  {
   "cell_type": "code",
   "execution_count": 25,
   "metadata": {},
   "outputs": [
    {
     "output_type": "execute_result",
     "data": {
      "text/plain": [
       "['contradiction', 'entailment', 'neutral']"
      ]
     },
     "metadata": {},
     "execution_count": 25
    }
   ],
   "source": [
    "classes = list(np.unique(df['gold_label']))\n",
    "classes"
   ]
  },
  {
   "cell_type": "code",
   "execution_count": 24,
   "metadata": {},
   "outputs": [
    {
     "output_type": "stream",
     "name": "stderr",
     "text": [
      "Some weights of the model checkpoint at bert-base-uncased were not used when initializing BertForSequenceClassification: ['cls.predictions.bias', 'cls.predictions.transform.dense.weight', 'cls.predictions.transform.dense.bias', 'cls.predictions.decoder.weight', 'cls.seq_relationship.weight', 'cls.seq_relationship.bias', 'cls.predictions.transform.LayerNorm.weight', 'cls.predictions.transform.LayerNorm.bias']\n",
      "- This IS expected if you are initializing BertForSequenceClassification from the checkpoint of a model trained on another task or with another architecture (e.g. initializing a BertForSequenceClassification model from a BertForPretraining model).\n",
      "- This IS NOT expected if you are initializing BertForSequenceClassification from the checkpoint of a model that you expect to be exactly identical (initializing a BertForSequenceClassification model from a BertForSequenceClassification model).\n",
      "Some weights of BertForSequenceClassification were not initialized from the model checkpoint at bert-base-uncased and are newly initialized: ['classifier.weight', 'classifier.bias']\n",
      "You should probably TRAIN this model on a down-stream task to be able to use it for predictions and inference.\n",
      " 74%\n",
      " 26%\n"
     ]
    },
    {
     "output_type": "error",
     "ename": "IndexError",
     "evalue": "list index out of range",
     "traceback": [
      "\u001b[0;31m---------------------------------------------------------------------------\u001b[0m",
      "\u001b[0;31mIndexError\u001b[0m                                Traceback (most recent call last)",
      "\u001b[0;32m<ipython-input-24-655c1569509f>\u001b[0m in \u001b[0;36m<module>\u001b[0;34m\u001b[0m\n\u001b[1;32m     23\u001b[0m \u001b[0;34m\u001b[0m\u001b[0m\n\u001b[1;32m     24\u001b[0m     \u001b[0;32mfor\u001b[0m \u001b[0mc\u001b[0m \u001b[0;32min\u001b[0m \u001b[0mrange\u001b[0m\u001b[0;34m(\u001b[0m\u001b[0mlen\u001b[0m\u001b[0;34m(\u001b[0m\u001b[0mclasses\u001b[0m\u001b[0;34m)\u001b[0m\u001b[0;34m)\u001b[0m\u001b[0;34m:\u001b[0m\u001b[0;34m\u001b[0m\u001b[0;34m\u001b[0m\u001b[0m\n\u001b[0;32m---> 25\u001b[0;31m         \u001b[0mprint\u001b[0m\u001b[0;34m(\u001b[0m\u001b[0;34mf\" {int(round(result[c] * 100))}%\"\u001b[0m\u001b[0;34m)\u001b[0m\u001b[0;34m\u001b[0m\u001b[0;34m\u001b[0m\u001b[0m\n\u001b[0m\u001b[1;32m     26\u001b[0m         \u001b[0;31m# if true_label == 'entailment':\u001b[0m\u001b[0;34m\u001b[0m\u001b[0;34m\u001b[0m\u001b[0;34m\u001b[0m\u001b[0m\n\u001b[1;32m     27\u001b[0m         \u001b[0;31m# elif label == 'contradiction':\u001b[0m\u001b[0;34m\u001b[0m\u001b[0;34m\u001b[0m\u001b[0;34m\u001b[0m\u001b[0m\n",
      "\u001b[0;31mIndexError\u001b[0m: list index out of range"
     ]
    }
   ],
   "source": [
    "from transformers import AutoTokenizer, AutoModelForSequenceClassification\n",
    "import torch\n",
    "\n",
    "tokenizer = AutoTokenizer.from_pretrained(\"bert-base-uncased\")\n",
    "model = AutoModelForSequenceClassification.from_pretrained(\"bert-base-uncased\", return_dict=True)\n",
    "\n",
    "'''\n",
    "The goal of the task is to classify a given premise-hypothesis pair into one of the three classes: entailment, contradiction, or neutral.\n",
    "'''\n",
    "\n",
    "classes = list(np.unique(df['gold_label']))\n",
    "\n",
    "for i in range(len(df)):\n",
    "    premise = df.iloc[i]['sentence1']\n",
    "    hypothesis = df.iloc[i]['sentence2']\n",
    "    true_label = df.iloc[i]['gold_label']\n",
    "    \n",
    "    tokenized_sequences = tokenizer(premise, hypothesis, return_tensors=\"pt\")\n",
    "\n",
    "    logits = model(**tokenized_sequences).logits\n",
    "    result = torch.softmax(logits, dim=1).tolist()[0]\n",
    "\n",
    "    for c in range(len(classes)):\n",
    "        print(f\"{classes[c]}: {int(round(result[c] * 100))}%\")\n",
    "        # if true_label == 'entailment':\n",
    "        # elif label == 'contradiction':\n",
    "        # elif label == 'neutral':\n",
    "\n",
    "    # Should not be contradiction\n",
    "    # for c in range(len(classes)):\n",
    "    #     print(f\"{classes[c]}: {int(round(not_paraphrase_results[c] * 100))}%\")\n",
    "    # # Should be neutral\n",
    "    # for c in range(len(classes)):\n",
    "    #     print(f\"{classes[c]}: {int(round(not_paraphrase_results[c] * 100))}%\")\n",
    "\n",
    "    \n",
    "# paraphrase_classification_logits = model(**paraphrase).logits\n",
    "# not_paraphrase_classification_logits = model(**not_paraphrase).logits\n",
    "\n",
    "# paraphrase_results = torch.softmax(paraphrase_classification_logits, dim=1).tolist()[0]\n",
    "# not_paraphrase_results = torch.softmax(not_paraphrase_classification_logits, dim=1).tolist()[0]\n"
   ]
  },
  {
   "cell_type": "code",
   "execution_count": 1,
   "metadata": {},
   "outputs": [
    {
     "output_type": "error",
     "ename": "OSError",
     "evalue": "dlopen(/Users/simon/opt/anaconda3/lib/python3.7/site-packages/torchtext/_torchtext.so, 6): Symbol not found: __ZN3c104impl23ExcludeDispatchKeyGuardC1ENS_14DispatchKeySetE\n  Referenced from: /Users/simon/opt/anaconda3/lib/python3.7/site-packages/torchtext/_torchtext.so\n  Expected in: /Users/simon/opt/anaconda3/lib/python3.7/site-packages/torch/lib/libc10.dylib\n in /Users/simon/opt/anaconda3/lib/python3.7/site-packages/torchtext/_torchtext.so",
     "traceback": [
      "\u001b[0;31m---------------------------------------------------------------------------\u001b[0m",
      "\u001b[0;31mOSError\u001b[0m                                   Traceback (most recent call last)",
      "\u001b[0;32m<ipython-input-1-56978b018b7a>\u001b[0m in \u001b[0;36m<module>\u001b[0;34m\u001b[0m\n\u001b[0;32m----> 1\u001b[0;31m \u001b[0;32mfrom\u001b[0m \u001b[0mtorchtext\u001b[0m \u001b[0;32mimport\u001b[0m \u001b[0mdata\u001b[0m\u001b[0;34m\u001b[0m\u001b[0;34m\u001b[0m\u001b[0m\n\u001b[0m\u001b[1;32m      2\u001b[0m \u001b[0;32mfrom\u001b[0m \u001b[0mtorchtext\u001b[0m \u001b[0;32mimport\u001b[0m \u001b[0mdatasets\u001b[0m\u001b[0;34m\u001b[0m\u001b[0;34m\u001b[0m\u001b[0m\n\u001b[1;32m      3\u001b[0m \u001b[0;32mfrom\u001b[0m \u001b[0mtransformers\u001b[0m \u001b[0;32mimport\u001b[0m \u001b[0mAutoTokenizer\u001b[0m\u001b[0;34m\u001b[0m\u001b[0;34m\u001b[0m\u001b[0m\n\u001b[1;32m      4\u001b[0m \u001b[0;34m\u001b[0m\u001b[0m\n\u001b[1;32m      5\u001b[0m \u001b[0mpath\u001b[0m \u001b[0;34m=\u001b[0m \u001b[0;34m'../data/'\u001b[0m\u001b[0;34m\u001b[0m\u001b[0;34m\u001b[0m\u001b[0m\n",
      "\u001b[0;32m~/opt/anaconda3/lib/python3.7/site-packages/torchtext/__init__.py\u001b[0m in \u001b[0;36m<module>\u001b[0;34m\u001b[0m\n\u001b[1;32m     38\u001b[0m \u001b[0;34m\u001b[0m\u001b[0m\n\u001b[1;32m     39\u001b[0m \u001b[0;34m\u001b[0m\u001b[0m\n\u001b[0;32m---> 40\u001b[0;31m \u001b[0m_init_extension\u001b[0m\u001b[0;34m(\u001b[0m\u001b[0;34m)\u001b[0m\u001b[0;34m\u001b[0m\u001b[0;34m\u001b[0m\u001b[0m\n\u001b[0m\u001b[1;32m     41\u001b[0m \u001b[0;34m\u001b[0m\u001b[0m\n\u001b[1;32m     42\u001b[0m \u001b[0;34m\u001b[0m\u001b[0m\n",
      "\u001b[0;32m~/opt/anaconda3/lib/python3.7/site-packages/torchtext/__init__.py\u001b[0m in \u001b[0;36m_init_extension\u001b[0;34m()\u001b[0m\n\u001b[1;32m     34\u001b[0m     \u001b[0;32mif\u001b[0m \u001b[0mext_specs\u001b[0m \u001b[0;32mis\u001b[0m \u001b[0;32mNone\u001b[0m\u001b[0;34m:\u001b[0m\u001b[0;34m\u001b[0m\u001b[0;34m\u001b[0m\u001b[0m\n\u001b[1;32m     35\u001b[0m         \u001b[0;32mraise\u001b[0m \u001b[0mImportError\u001b[0m\u001b[0;34m(\u001b[0m\u001b[0;34m\"torchtext C++ Extension is not found.\"\u001b[0m\u001b[0;34m)\u001b[0m\u001b[0;34m\u001b[0m\u001b[0;34m\u001b[0m\u001b[0m\n\u001b[0;32m---> 36\u001b[0;31m     \u001b[0mtorch\u001b[0m\u001b[0;34m.\u001b[0m\u001b[0mops\u001b[0m\u001b[0;34m.\u001b[0m\u001b[0mload_library\u001b[0m\u001b[0;34m(\u001b[0m\u001b[0mext_specs\u001b[0m\u001b[0;34m.\u001b[0m\u001b[0morigin\u001b[0m\u001b[0;34m)\u001b[0m\u001b[0;34m\u001b[0m\u001b[0;34m\u001b[0m\u001b[0m\n\u001b[0m\u001b[1;32m     37\u001b[0m     \u001b[0mtorch\u001b[0m\u001b[0;34m.\u001b[0m\u001b[0mclasses\u001b[0m\u001b[0;34m.\u001b[0m\u001b[0mload_library\u001b[0m\u001b[0;34m(\u001b[0m\u001b[0mext_specs\u001b[0m\u001b[0;34m.\u001b[0m\u001b[0morigin\u001b[0m\u001b[0;34m)\u001b[0m\u001b[0;34m\u001b[0m\u001b[0;34m\u001b[0m\u001b[0m\n\u001b[1;32m     38\u001b[0m \u001b[0;34m\u001b[0m\u001b[0m\n",
      "\u001b[0;32m~/opt/anaconda3/lib/python3.7/site-packages/torch/_ops.py\u001b[0m in \u001b[0;36mload_library\u001b[0;34m(self, path)\u001b[0m\n\u001b[1;32m    103\u001b[0m             \u001b[0;31m# static (global) initialization code in order to register custom\u001b[0m\u001b[0;34m\u001b[0m\u001b[0;34m\u001b[0m\u001b[0;34m\u001b[0m\u001b[0m\n\u001b[1;32m    104\u001b[0m             \u001b[0;31m# operators with the JIT.\u001b[0m\u001b[0;34m\u001b[0m\u001b[0;34m\u001b[0m\u001b[0;34m\u001b[0m\u001b[0m\n\u001b[0;32m--> 105\u001b[0;31m             \u001b[0mctypes\u001b[0m\u001b[0;34m.\u001b[0m\u001b[0mCDLL\u001b[0m\u001b[0;34m(\u001b[0m\u001b[0mpath\u001b[0m\u001b[0;34m)\u001b[0m\u001b[0;34m\u001b[0m\u001b[0;34m\u001b[0m\u001b[0m\n\u001b[0m\u001b[1;32m    106\u001b[0m         \u001b[0mself\u001b[0m\u001b[0;34m.\u001b[0m\u001b[0mloaded_libraries\u001b[0m\u001b[0;34m.\u001b[0m\u001b[0madd\u001b[0m\u001b[0;34m(\u001b[0m\u001b[0mpath\u001b[0m\u001b[0;34m)\u001b[0m\u001b[0;34m\u001b[0m\u001b[0;34m\u001b[0m\u001b[0m\n\u001b[1;32m    107\u001b[0m \u001b[0;34m\u001b[0m\u001b[0m\n",
      "\u001b[0;32m~/opt/anaconda3/lib/python3.7/ctypes/__init__.py\u001b[0m in \u001b[0;36m__init__\u001b[0;34m(self, name, mode, handle, use_errno, use_last_error)\u001b[0m\n\u001b[1;32m    362\u001b[0m \u001b[0;34m\u001b[0m\u001b[0m\n\u001b[1;32m    363\u001b[0m         \u001b[0;32mif\u001b[0m \u001b[0mhandle\u001b[0m \u001b[0;32mis\u001b[0m \u001b[0;32mNone\u001b[0m\u001b[0;34m:\u001b[0m\u001b[0;34m\u001b[0m\u001b[0;34m\u001b[0m\u001b[0m\n\u001b[0;32m--> 364\u001b[0;31m             \u001b[0mself\u001b[0m\u001b[0;34m.\u001b[0m\u001b[0m_handle\u001b[0m \u001b[0;34m=\u001b[0m \u001b[0m_dlopen\u001b[0m\u001b[0;34m(\u001b[0m\u001b[0mself\u001b[0m\u001b[0;34m.\u001b[0m\u001b[0m_name\u001b[0m\u001b[0;34m,\u001b[0m \u001b[0mmode\u001b[0m\u001b[0;34m)\u001b[0m\u001b[0;34m\u001b[0m\u001b[0;34m\u001b[0m\u001b[0m\n\u001b[0m\u001b[1;32m    365\u001b[0m         \u001b[0;32melse\u001b[0m\u001b[0;34m:\u001b[0m\u001b[0;34m\u001b[0m\u001b[0;34m\u001b[0m\u001b[0m\n\u001b[1;32m    366\u001b[0m             \u001b[0mself\u001b[0m\u001b[0;34m.\u001b[0m\u001b[0m_handle\u001b[0m \u001b[0;34m=\u001b[0m \u001b[0mhandle\u001b[0m\u001b[0;34m\u001b[0m\u001b[0;34m\u001b[0m\u001b[0m\n",
      "\u001b[0;31mOSError\u001b[0m: dlopen(/Users/simon/opt/anaconda3/lib/python3.7/site-packages/torchtext/_torchtext.so, 6): Symbol not found: __ZN3c104impl23ExcludeDispatchKeyGuardC1ENS_14DispatchKeySetE\n  Referenced from: /Users/simon/opt/anaconda3/lib/python3.7/site-packages/torchtext/_torchtext.so\n  Expected in: /Users/simon/opt/anaconda3/lib/python3.7/site-packages/torch/lib/libc10.dylib\n in /Users/simon/opt/anaconda3/lib/python3.7/site-packages/torchtext/_torchtext.so"
     ]
    }
   ],
   "source": [
    "from torchtext import data\n",
    "from torchtext import datasets\n",
    "from transformers import AutoTokenizer\n",
    "\n",
    "path = '../data/'\n",
    "\n",
    "tokenizer = AutoTokenizer.from_pretrained('bert-base-uncased', do_lower_case=True)\n",
    "\n",
    "TEXT = data.Field(use_vocab=False, tokenize=tokenizer.encode)\n",
    "LABEL = data.LabelField()\n",
    "\n",
    "fields = {'sentence1': ('premise', TEXT),\n",
    "          'sentence2': ('hypothesis', TEXT),\n",
    "          'gold_label': ('label', LABEL)}\n",
    "\n",
    "train, valid, test = data.TabularDataset.splits(\n",
    "    path=path, \n",
    "    train='mli_train_v1.jsonl',\n",
    "    validation='mli_dev_v1.jsonl',\n",
    "    test='mli_test_v1.jsonl',\n",
    "    format='json', \n",
    "    fields=fields\n",
    ")\n",
    "\n",
    "train_iter, valid_iter, test_iter = data.BucketIterator.splits(\n",
    "    (train, valid, test), batch_sizes=(16, 256, 256)\n",
    ")\n",
    "\n",
    "pad_index = tokenizer.convert_tokens_to_ids(tokenizer.pad_token)\n",
    "TEXT = data.Field(use_vocab=False, tokenize=tokenizer.encode, pad_token=pad_index) #making sure tokenizer vocab ONLY is used.\n",
    "LABEL.build_vocab(train)"
   ]
  }
 ]
}