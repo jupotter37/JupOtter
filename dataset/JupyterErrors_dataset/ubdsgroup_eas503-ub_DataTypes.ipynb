{
 "cells": [
  {
   "cell_type": "markdown",
   "metadata": {},
   "source": [
    "# Programming and Database Fundamentals for Data Scientists - EAS503"
   ]
  },
  {
   "cell_type": "markdown",
   "metadata": {},
   "source": [
    "## Dealing with data types\n",
    "\n",
    "`Python` has five standard Data Types:\n",
    "- Numbers\n",
    "- String\n",
    "- List\n",
    "- Tuple\n",
    "- Dictionary\n",
    "\n",
    "Python sets the variable type based on the value that is assigned to it. Python will change the variable type if the variable value is set to another value. For example:"
   ]
  },
  {
   "cell_type": "code",
   "execution_count": 1,
   "metadata": {},
   "outputs": [
    {
     "name": "stdout",
     "output_type": "stream",
     "text": [
      "<class 'float'>\n",
      "<class 'str'>\n"
     ]
    }
   ],
   "source": [
    "height = 10.4\n",
    "print(type(height))\n",
    "height = 'tall'\n",
    "print(type(height))"
   ]
  },
  {
   "cell_type": "markdown",
   "metadata": {},
   "source": [
    "`Python` also allows operations on some types of variables with different data types. However, for others, trying to operate between two data types might lead to an error. For example:"
   ]
  },
  {
   "cell_type": "code",
   "execution_count": 2,
   "metadata": {},
   "outputs": [],
   "source": [
    "height = 10.2\n",
    "tall = True\n",
    "s = '4.3'"
   ]
  },
  {
   "cell_type": "code",
   "execution_count": 3,
   "metadata": {},
   "outputs": [
    {
     "data": {
      "text/plain": [
       "11.2"
      ]
     },
     "execution_count": 3,
     "metadata": {},
     "output_type": "execute_result"
    }
   ],
   "source": [
    "height + tall"
   ]
  },
  {
   "cell_type": "code",
   "execution_count": 4,
   "metadata": {},
   "outputs": [
    {
     "ename": "TypeError",
     "evalue": "unsupported operand type(s) for +: 'float' and 'str'",
     "output_type": "error",
     "traceback": [
      "\u001b[0;31m---------------------------------------------------------------------------\u001b[0m",
      "\u001b[0;31mTypeError\u001b[0m                                 Traceback (most recent call last)",
      "\u001b[0;32m<ipython-input-4-d7626fa4a7a8>\u001b[0m in \u001b[0;36m<module>\u001b[0;34m\u001b[0m\n\u001b[1;32m      1\u001b[0m \u001b[0;31m# Strongly typed language\u001b[0m\u001b[0;34m\u001b[0m\u001b[0;34m\u001b[0m\u001b[0;34m\u001b[0m\u001b[0m\n\u001b[0;32m----> 2\u001b[0;31m \u001b[0mheight\u001b[0m \u001b[0;34m+\u001b[0m \u001b[0ms\u001b[0m\u001b[0;34m\u001b[0m\u001b[0;34m\u001b[0m\u001b[0m\n\u001b[0m",
      "\u001b[0;31mTypeError\u001b[0m: unsupported operand type(s) for +: 'float' and 'str'"
     ]
    }
   ],
   "source": [
    "# Strongly typed language\n",
    "height + s"
   ]
  },
  {
   "cell_type": "markdown",
   "metadata": {},
   "source": [
    "### Numbers"
   ]
  },
  {
   "cell_type": "code",
   "execution_count": 6,
   "metadata": {},
   "outputs": [],
   "source": [
    "var = 382"
   ]
  },
  {
   "cell_type": "markdown",
   "metadata": {},
   "source": [
    "Most of the time using the standard Python number type is fine. Python will automatically convert a number from one type to another if it needs. But, under certain circumstances that a specific number type is needed (ie. complex, hexidecimal), the format can be forced into a format by using additional syntax in the table below:\n",
    "\n",
    "| Type  | Format | Description |\n",
    "|---------|----------------|-------------|\n",
    "| int\t  |a = 10\t   |Signed Integer|\n",
    "| float\t  |a = 45.67   |(.) Floating point real values|\n",
    "| complex |a = 3.14J   |(J) Contains integer in the range 0 to 255.|\n",
    " \t \t \t \t \t \t \n",
    "Most of the time Python will do variable conversion automatically. You can also use Python conversion functions (int(), long(), float(), complex()) to convert data from one type to another."
   ]
  },
  {
   "cell_type": "markdown",
   "metadata": {},
   "source": [
    "#### Integers\n",
    "In `Python` (3), the largest allowed integer is not pre-determined, but depends on the available memory."
   ]
  },
  {
   "cell_type": "code",
   "execution_count": 7,
   "metadata": {},
   "outputs": [
    {
     "name": "stdout",
     "output_type": "stream",
     "text": [
      "9999999999999999999999999999999999999999999999999999\n",
      "<class 'int'>\n"
     ]
    }
   ],
   "source": [
    "x = 9999999999999999999999999999999999999999999999999999\n",
    "print(x)\n",
    "print(type(x))"
   ]
  },
  {
   "cell_type": "markdown",
   "metadata": {},
   "source": [
    "#### Float\n",
    "The `float` type designates a number with a decimal point. \n",
    "\n",
    "In **scientific notation**, one can use the character `e` or `E` to denote a floating point number."
   ]
  },
  {
   "cell_type": "code",
   "execution_count": 8,
   "metadata": {},
   "outputs": [
    {
     "name": "stdout",
     "output_type": "stream",
     "text": [
      "<class 'float'>\n"
     ]
    }
   ],
   "source": [
    "a = 4.2\n",
    "print(type(a))"
   ]
  },
  {
   "cell_type": "code",
   "execution_count": 9,
   "metadata": {},
   "outputs": [
    {
     "name": "stdout",
     "output_type": "stream",
     "text": [
      "2000.0\n",
      "<class 'float'>\n"
     ]
    }
   ],
   "source": [
    "a = 2e3\n",
    "print(a)\n",
    "print(type(a))"
   ]
  },
  {
   "cell_type": "code",
   "execution_count": 10,
   "metadata": {},
   "outputs": [
    {
     "name": "stdout",
     "output_type": "stream",
     "text": [
      "0.042\n",
      "<class 'float'>\n"
     ]
    }
   ],
   "source": [
    "a = 4.2e-2\n",
    "print(a)\n",
    "print(type(a))"
   ]
  },
  {
   "cell_type": "markdown",
   "metadata": {},
   "source": [
    "_Storage_: A `float` is stored in a `double-precision` format (64 bits). Typically, the largest size floating point number is approximately $1.8 \\times 10^{308}$. Smallest floating point number that one can use is approximately $5.0 \\times 10^{-324}$."
   ]
  },
  {
   "cell_type": "code",
   "execution_count": 18,
   "metadata": {},
   "outputs": [
    {
     "name": "stdout",
     "output_type": "stream",
     "text": [
      "1.79e+308\n"
     ]
    }
   ],
   "source": [
    "largefloat = 1.79e308\n",
    "print(largefloat)"
   ]
  },
  {
   "cell_type": "code",
   "execution_count": 19,
   "metadata": {},
   "outputs": [
    {
     "name": "stdout",
     "output_type": "stream",
     "text": [
      "inf\n"
     ]
    }
   ],
   "source": [
    "largefloat = 1.8e308\n",
    "print(largefloat)"
   ]
  },
  {
   "cell_type": "code",
   "execution_count": 13,
   "metadata": {},
   "outputs": [
    {
     "name": "stdout",
     "output_type": "stream",
     "text": [
      "5e-324\n"
     ]
    }
   ],
   "source": [
    "smallfloat = 5.0e-324\n",
    "print(smallfloat)"
   ]
  },
  {
   "cell_type": "code",
   "execution_count": 14,
   "metadata": {},
   "outputs": [
    {
     "name": "stdout",
     "output_type": "stream",
     "text": [
      "0.0\n"
     ]
    }
   ],
   "source": [
    "smallfloat = 1e-325\n",
    "print(smallfloat)"
   ]
  },
  {
   "cell_type": "code",
   "execution_count": 15,
   "metadata": {},
   "outputs": [
    {
     "name": "stdout",
     "output_type": "stream",
     "text": [
      "28\n",
      "24\n"
     ]
    }
   ],
   "source": [
    "import sys\n",
    "aint = 1000\n",
    "print(sys.getsizeof(aint))\n",
    "afloat = 2.3707969876878768e-10\n",
    "print(sys.getsizeof(afloat))"
   ]
  },
  {
   "cell_type": "markdown",
   "metadata": {},
   "source": [
    "**Quick question** - Why bother with `int` at all? Why not use `float` for representing all numbers.\n",
    "\n",
    "_Answer_ - Using `int` is more efficient, both in terms of storage and computation.\n",
    "\n",
    "In general, floating point arithmetic is much more expensive than integer. Moreover, `float` is actually an approximation while `int` is exact."
   ]
  },
  {
   "cell_type": "code",
   "execution_count": 16,
   "metadata": {},
   "outputs": [
    {
     "name": "stdout",
     "output_type": "stream",
     "text": [
      "False\n"
     ]
    }
   ],
   "source": [
    "# using int\n",
    "a = 1000000000000000000000000000\n",
    "print(a == a+1)"
   ]
  },
  {
   "cell_type": "code",
   "execution_count": 17,
   "metadata": {},
   "outputs": [
    {
     "name": "stdout",
     "output_type": "stream",
     "text": [
      "True\n"
     ]
    }
   ],
   "source": [
    "# using float\n",
    "a = 1000000000000000000000000000.0\n",
    "print(a == a+1)"
   ]
  },
  {
   "cell_type": "markdown",
   "metadata": {},
   "source": [
    "## Sequence data structures in Python\n",
    "While basic data types allow you to create one variable at a time, in most practical applications (especially for data science), one needs to manipulate a large collection of variables. Clearly, creating one variable for each data element is very inefficient. All modern programming languages, including `Python`, allows for creation of data types that are collections of variables. Two broad categories of such collections are defined in `Python` - sequences and non-sequences.\n",
    "\n",
    "Python defines several sequence data structures. While each data structure has its own characteristics, they all satisfy a core set of operations, that includes:\n",
    "\n",
    "|Operation| Description|\n",
    "|------|------|\n",
    "|`len(s)`| **Finding length**|\n",
    "|`s1 + s2`| **Concatenation**|\n",
    "|`s*4`| **Repetition**|\n",
    "| `x in s`| **Membership**|\n",
    "|`for x in` s| **Iteration**|"
   ]
  },
  {
   "cell_type": "markdown",
   "metadata": {},
   "source": [
    "## Python Lists\n",
    "One of the most versatile data types in `Python`."
   ]
  },
  {
   "cell_type": "code",
   "execution_count": 23,
   "metadata": {},
   "outputs": [
    {
     "name": "stdout",
     "output_type": "stream",
     "text": [
      "['red', 'blue', 'green']\n",
      "<class 'list'>\n"
     ]
    }
   ],
   "source": [
    "l = ['red','blue','green']\n",
    "print(l)\n",
    "print(type(l))"
   ]
  },
  {
   "cell_type": "code",
   "execution_count": 24,
   "metadata": {},
   "outputs": [
    {
     "name": "stdout",
     "output_type": "stream",
     "text": [
      "3\n"
     ]
    }
   ],
   "source": [
    "print(len(l))"
   ]
  },
  {
   "cell_type": "code",
   "execution_count": 25,
   "metadata": {},
   "outputs": [
    {
     "name": "stdout",
     "output_type": "stream",
     "text": [
      "red\n",
      "blue\n"
     ]
    }
   ],
   "source": [
    "## python indexing starts from 0\n",
    "print(l[0])\n",
    "print(l[1])"
   ]
  },
  {
   "cell_type": "markdown",
   "metadata": {},
   "source": [
    "`Python` lists also support reverse indexing, by using a negative index."
   ]
  },
  {
   "cell_type": "code",
   "execution_count": 30,
   "metadata": {},
   "outputs": [
    {
     "name": "stdout",
     "output_type": "stream",
     "text": [
      "blue\n"
     ]
    }
   ],
   "source": [
    "print(l[-2])"
   ]
  },
  {
   "cell_type": "code",
   "execution_count": null,
   "metadata": {},
   "outputs": [],
   "source": [
    "print(l[len(l)-1])"
   ]
  },
  {
   "cell_type": "markdown",
   "metadata": {},
   "source": [
    "A `list` can contain any type of data type and allows for a mix of data types."
   ]
  },
  {
   "cell_type": "code",
   "execution_count": 38,
   "metadata": {},
   "outputs": [
    {
     "name": "stdout",
     "output_type": "stream",
     "text": [
      "[3, 4, 'garfield', 'chester', 4.3]\n"
     ]
    }
   ],
   "source": [
    "l = [3,4,'garfield','chester',4.3]\n",
    "print(l)"
   ]
  },
  {
   "cell_type": "code",
   "execution_count": 32,
   "metadata": {},
   "outputs": [
    {
     "name": "stdout",
     "output_type": "stream",
     "text": [
      "['3', 4, 'five', [4.4, 2.3]]\n"
     ]
    }
   ],
   "source": [
    "l1 = ['3', 4, 'five', [4.4, 2.3]]\n",
    "print(l1)"
   ]
  },
  {
   "cell_type": "markdown",
   "metadata": {},
   "source": [
    "##### Concatenation\n",
    "The operator `+` concatenates two lists and returns the concatenated list."
   ]
  },
  {
   "cell_type": "code",
   "execution_count": 39,
   "metadata": {},
   "outputs": [
    {
     "name": "stdout",
     "output_type": "stream",
     "text": [
      "[3, 4, 'garfield', 'chester', 4.3, '3', 4, 'five', [4.4, 2.3]]\n"
     ]
    }
   ],
   "source": [
    "print(l + l1)"
   ]
  },
  {
   "cell_type": "markdown",
   "metadata": {},
   "source": [
    "##### Append"
   ]
  },
  {
   "cell_type": "code",
   "execution_count": 40,
   "metadata": {},
   "outputs": [
    {
     "name": "stdout",
     "output_type": "stream",
     "text": [
      "[3, 4, 'garfield', 'chester', 4.3, '3', 4, 'five', [4.4, 2.3]]\n"
     ]
    }
   ],
   "source": [
    "l.extend(l1)\n",
    "print(l)"
   ]
  },
  {
   "cell_type": "code",
   "execution_count": 41,
   "metadata": {},
   "outputs": [
    {
     "name": "stdout",
     "output_type": "stream",
     "text": [
      "[3, 4, 'garfield', 'chester', 4.3, '3', 4, 'five', [4.4, 2.3], 98]\n"
     ]
    }
   ],
   "source": [
    "l.append(98)\n",
    "print(l)"
   ]
  },
  {
   "cell_type": "markdown",
   "metadata": {},
   "source": [
    "##### Indexing\n"
   ]
  },
  {
   "cell_type": "code",
   "execution_count": 54,
   "metadata": {},
   "outputs": [],
   "source": [
    "l = [7,4,3,9,8,5,6,3,1,3]"
   ]
  },
  {
   "cell_type": "code",
   "execution_count": 59,
   "metadata": {},
   "outputs": [
    {
     "data": {
      "text/plain": [
       "[7, 4, 3, 9, 8, 5, 6, 3, 1, 3]"
      ]
     },
     "execution_count": 59,
     "metadata": {},
     "output_type": "execute_result"
    }
   ],
   "source": [
    "l[:]"
   ]
  },
  {
   "cell_type": "code",
   "execution_count": 61,
   "metadata": {},
   "outputs": [
    {
     "data": {
      "text/plain": [
       "[3, 1, 3, 6, 5, 8, 9, 3, 4, 7]"
      ]
     },
     "execution_count": 61,
     "metadata": {},
     "output_type": "execute_result"
    }
   ],
   "source": [
    "l[::-1]"
   ]
  },
  {
   "cell_type": "code",
   "execution_count": null,
   "metadata": {},
   "outputs": [],
   "source": [
    "l"
   ]
  },
  {
   "cell_type": "code",
   "execution_count": null,
   "metadata": {},
   "outputs": [],
   "source": [
    "l[::-1]"
   ]
  },
  {
   "cell_type": "code",
   "execution_count": null,
   "metadata": {},
   "outputs": [],
   "source": [
    "l."
   ]
  },
  {
   "cell_type": "code",
   "execution_count": 62,
   "metadata": {},
   "outputs": [
    {
     "name": "stdout",
     "output_type": "stream",
     "text": [
      "[3, 1, 3, 6, 5, 8, 9, 3, 4, 7]\n"
     ]
    }
   ],
   "source": [
    "l.reverse()\n",
    "print(l)"
   ]
  },
  {
   "cell_type": "markdown",
   "metadata": {},
   "source": [
    "A third option for indexing allows us to choose the step size for the slicing."
   ]
  },
  {
   "cell_type": "code",
   "execution_count": null,
   "metadata": {},
   "outputs": [],
   "source": [
    "# pick every second element\n",
    "print(l[::2])\n",
    "\n",
    "# print every third element within a range\n",
    "print(l[2:18:3])\n",
    "\n",
    "# reverse a list\n",
    "print(l[::-1])"
   ]
  },
  {
   "cell_type": "markdown",
   "metadata": {},
   "source": [
    "##### Replication"
   ]
  },
  {
   "cell_type": "code",
   "execution_count": 63,
   "metadata": {},
   "outputs": [
    {
     "name": "stdout",
     "output_type": "stream",
     "text": [
      "[0.16666666666666666, 0.16666666666666666, 0.16666666666666666, 0.16666666666666666, 0.16666666666666666, 0.16666666666666666, 0.16666666666666666, 0.16666666666666666, 0.16666666666666666]\n",
      "['a', 'a', 'a', 'a', 'a', 'a', 'a', 'a']\n"
     ]
    }
   ],
   "source": [
    "# replicating lists\n",
    "print([1/6]*9)\n",
    "print(['a']*8)"
   ]
  },
  {
   "cell_type": "markdown",
   "metadata": {},
   "source": [
    "##### Iteration"
   ]
  },
  {
   "cell_type": "markdown",
   "metadata": {},
   "source": [
    "```\n",
    "for varname in somelist:\n",
    "```"
   ]
  },
  {
   "cell_type": "code",
   "execution_count": 76,
   "metadata": {},
   "outputs": [],
   "source": [
    "a = [0,1,2,3,4,5,6,7,8,9]"
   ]
  },
  {
   "cell_type": "code",
   "execution_count": 70,
   "metadata": {},
   "outputs": [
    {
     "name": "stdout",
     "output_type": "stream",
     "text": [
      "0\n",
      "1\n",
      "2\n",
      "3\n",
      "4\n",
      "5\n",
      "6\n",
      "7\n",
      "8\n",
      "9\n",
      "36\n"
     ]
    }
   ],
   "source": [
    "for i in a:\n",
    "    print(i)\n",
    "print(i*4)"
   ]
  },
  {
   "cell_type": "code",
   "execution_count": 77,
   "metadata": {},
   "outputs": [
    {
     "name": "stdout",
     "output_type": "stream",
     "text": [
      "[0, 2, 4, 6, 8, 10, 12, 14, 16, 18]\n"
     ]
    }
   ],
   "source": [
    "for i in range(10):\n",
    "    a[i] = 2*a[i]\n",
    "print(a)"
   ]
  },
  {
   "cell_type": "code",
   "execution_count": null,
   "metadata": {},
   "outputs": [],
   "source": [
    "def fun(x):\n",
    "    return 7*x"
   ]
  },
  {
   "cell_type": "code",
   "execution_count": null,
   "metadata": {},
   "outputs": [],
   "source": [
    "# a pythonic way\n",
    "b = [fun(i) for i in a]\n",
    "print(b)"
   ]
  },
  {
   "cell_type": "markdown",
   "metadata": {},
   "source": [
    "### Memory storage of lists\n",
    "While `Python` gives us a simplified view of a `list`, the actual memory representation of a  `list` is not as simple. A `list` consists of a main **pointer** (an address pointing to a memory location, typically uses 8 bytes in a 64 bit computer) which references to other pointers, which in turn point to the actual data items.\n",
    "\n",
    "<img src='./list_memory.jpg' width=500px/>"
   ]
  },
  {
   "cell_type": "markdown",
   "metadata": {},
   "source": [
    "Consider an empty `list`:"
   ]
  },
  {
   "cell_type": "code",
   "execution_count": 78,
   "metadata": {},
   "outputs": [],
   "source": [
    "import sys"
   ]
  },
  {
   "cell_type": "code",
   "execution_count": 79,
   "metadata": {},
   "outputs": [
    {
     "name": "stdout",
     "output_type": "stream",
     "text": [
      "64\n"
     ]
    }
   ],
   "source": [
    "l = []\n",
    "print(sys.getsizeof(l))"
   ]
  },
  {
   "cell_type": "code",
   "execution_count": 84,
   "metadata": {},
   "outputs": [],
   "source": [
    "biglist = [4,5,8,9]"
   ]
  },
  {
   "cell_type": "code",
   "execution_count": 85,
   "metadata": {},
   "outputs": [],
   "source": [
    "a = [biglist]\n",
    "b = [biglist]"
   ]
  },
  {
   "cell_type": "code",
   "execution_count": 87,
   "metadata": {},
   "outputs": [
    {
     "name": "stdout",
     "output_type": "stream",
     "text": [
      "[[4, 5, 8, 9]]\n",
      "[[4, 5, 8, 9]]\n"
     ]
    }
   ],
   "source": [
    "print(a)\n",
    "print(b)"
   ]
  },
  {
   "cell_type": "code",
   "execution_count": 89,
   "metadata": {},
   "outputs": [
    {
     "name": "stdout",
     "output_type": "stream",
     "text": [
      "['number', 5, 8, 9]\n"
     ]
    }
   ],
   "source": [
    "biglist[0] = 'number'\n",
    "print(biglist)"
   ]
  },
  {
   "cell_type": "code",
   "execution_count": 91,
   "metadata": {},
   "outputs": [],
   "source": [
    "b[0].append('anothernumber')"
   ]
  },
  {
   "cell_type": "code",
   "execution_count": 94,
   "metadata": {},
   "outputs": [
    {
     "name": "stdout",
     "output_type": "stream",
     "text": [
      "['number', 5, 8, 9, 'anothernumber']\n"
     ]
    }
   ],
   "source": [
    "print(biglist)"
   ]
  },
  {
   "cell_type": "code",
   "execution_count": 95,
   "metadata": {},
   "outputs": [
    {
     "name": "stdout",
     "output_type": "stream",
     "text": [
      "[8, 3, 2, 4]\n",
      "[8, 3, 2, 4]\n",
      "[8, 3, -1, 4]\n"
     ]
    }
   ],
   "source": [
    "a = [8,3,2,4]\n",
    "b = a # memory reference\n",
    "print(a)\n",
    "print(b)\n",
    "\n",
    "a[2] = -1\n",
    "print(b)"
   ]
  },
  {
   "cell_type": "code",
   "execution_count": 97,
   "metadata": {},
   "outputs": [
    {
     "name": "stdout",
     "output_type": "stream",
     "text": [
      "[8, 3, -1, 4]\n"
     ]
    }
   ],
   "source": [
    "c = a.copy()\n",
    "a[1] = 400\n",
    "print(c)"
   ]
  },
  {
   "cell_type": "markdown",
   "metadata": {},
   "source": [
    "An empty `list` takes 64 bytes, this is for the meta data information (overhead). Now consider the size of the `list` after adding data."
   ]
  },
  {
   "cell_type": "code",
   "execution_count": 81,
   "metadata": {},
   "outputs": [
    {
     "name": "stdout",
     "output_type": "stream",
     "text": [
      "64\n",
      "72\n",
      "80\n",
      "88\n",
      "96\n",
      "104\n",
      "112\n"
     ]
    }
   ],
   "source": [
    "l = []\n",
    "print(sys.getsizeof(l))\n",
    "l = ['v']\n",
    "print(sys.getsizeof(l))\n",
    "l = ['v','a']\n",
    "print(sys.getsizeof(l))\n",
    "l = ['v','a','r']\n",
    "print(sys.getsizeof(l))\n",
    "l = ['v','a','r','un']\n",
    "print(sys.getsizeof(l))\n",
    "l = ['v','a','r','un','This is a long string']\n",
    "print(sys.getsizeof(l))\n",
    "l = ['v','a','r','un','This is a long string',[8,16,24]]\n",
    "print(sys.getsizeof(l))"
   ]
  },
  {
   "cell_type": "markdown",
   "metadata": {},
   "source": [
    "Note that, regardless of what was actually added, the size of the `list` grows by 8 bytes with the number of elements, where each memory location uses up 8 bytes.\n",
    "\n",
    "This also reveals a shortcoming of the `getsizeof()` function. It only provides a \"shallow\" size of a collection, i.e., size of the head and the memory locations for the actual data."
   ]
  },
  {
   "cell_type": "markdown",
   "metadata": {},
   "source": [
    "### Copying a list variable\n",
    "Since a list does not directly contain the data, assigning another variable name to an existing list does not quite have the \"desired\" copying effect."
   ]
  },
  {
   "cell_type": "code",
   "execution_count": null,
   "metadata": {},
   "outputs": [],
   "source": [
    "l = [4,5,21,12]\n",
    "l1 = l\n",
    "print(l)\n",
    "print(l1)"
   ]
  },
  {
   "cell_type": "code",
   "execution_count": null,
   "metadata": {},
   "outputs": [],
   "source": [
    "l[2] = 12\n",
    "print(l)"
   ]
  },
  {
   "cell_type": "code",
   "execution_count": null,
   "metadata": {},
   "outputs": [],
   "source": [
    "print(l1)"
   ]
  },
  {
   "cell_type": "markdown",
   "metadata": {},
   "source": [
    "Looks like the list pointed to by `l1` has also changed! This is because the statement `l1 = l` does not create a new list. It just creates a new binding between the target (`l1`) and the actual list object. An explicit `copy()` is needed to create a new copy."
   ]
  },
  {
   "cell_type": "code",
   "execution_count": null,
   "metadata": {},
   "outputs": [],
   "source": [
    "l1 = l.copy()"
   ]
  },
  {
   "cell_type": "code",
   "execution_count": null,
   "metadata": {
    "scrolled": true
   },
   "outputs": [],
   "source": [
    "l[0] = -23\n",
    "print(l)\n",
    "print(l1)"
   ]
  },
  {
   "cell_type": "code",
   "execution_count": 102,
   "metadata": {},
   "outputs": [],
   "source": [
    "l = ['b','u','f',[2,3,4]]"
   ]
  },
  {
   "cell_type": "code",
   "execution_count": null,
   "metadata": {},
   "outputs": [],
   "source": [
    "l1 = ['f','a','l','o']"
   ]
  },
  {
   "cell_type": "code",
   "execution_count": null,
   "metadata": {},
   "outputs": [],
   "source": [
    "l2 = l + l1"
   ]
  },
  {
   "cell_type": "code",
   "execution_count": null,
   "metadata": {},
   "outputs": [],
   "source": [
    "print(l2)"
   ]
  },
  {
   "cell_type": "code",
   "execution_count": null,
   "metadata": {},
   "outputs": [],
   "source": [
    "l[3][0] = -4\n",
    "print(l)"
   ]
  },
  {
   "cell_type": "code",
   "execution_count": null,
   "metadata": {},
   "outputs": [],
   "source": [
    "print(l2)"
   ]
  },
  {
   "cell_type": "markdown",
   "metadata": {},
   "source": [
    "#### List functions modify the original list\n",
    "This is true for `append`, `extend`, `pop`, `insert`, and other supported functions for the `list` class."
   ]
  },
  {
   "cell_type": "code",
   "execution_count": null,
   "metadata": {},
   "outputs": [],
   "source": [
    "print(l)\n",
    "l.append(4)\n",
    "print(l)"
   ]
  },
  {
   "cell_type": "code",
   "execution_count": null,
   "metadata": {},
   "outputs": [],
   "source": [
    "l2 = l + l1"
   ]
  },
  {
   "cell_type": "markdown",
   "metadata": {},
   "source": [
    "However, binary operators such as `+` and `*` do no modify the existing object and return a new one."
   ]
  },
  {
   "cell_type": "code",
   "execution_count": null,
   "metadata": {},
   "outputs": [],
   "source": [
    "print(l + [3,4,2])\n",
    "print(l)"
   ]
  },
  {
   "cell_type": "markdown",
   "metadata": {},
   "source": [
    "### Understanding performance of python lists"
   ]
  },
  {
   "cell_type": "code",
   "execution_count": null,
   "metadata": {},
   "outputs": [],
   "source": [
    "# create a long list\n",
    "l = []\n",
    "i = 0\n",
    "for i in range(10000000):\n",
    "    l.append(i)\n",
    "    i = i + 1"
   ]
  },
  {
   "cell_type": "code",
   "execution_count": 103,
   "metadata": {},
   "outputs": [
    {
     "name": "stdout",
     "output_type": "stream",
     "text": [
      "['b', 'u', 'f', [2, 3, 4]]\n"
     ]
    }
   ],
   "source": [
    "print(l)"
   ]
  },
  {
   "cell_type": "code",
   "execution_count": 104,
   "metadata": {},
   "outputs": [],
   "source": [
    "del(l[1])"
   ]
  },
  {
   "cell_type": "code",
   "execution_count": 107,
   "metadata": {},
   "outputs": [
    {
     "name": "stdout",
     "output_type": "stream",
     "text": [
      "['b', 'f', [2, 3, 4]]\n"
     ]
    },
    {
     "ename": "ValueError",
     "evalue": "list.remove(x): x not in list",
     "output_type": "error",
     "traceback": [
      "\u001b[0;31m---------------------------------------------------------------------------\u001b[0m",
      "\u001b[0;31mValueError\u001b[0m                                Traceback (most recent call last)",
      "\u001b[0;32m<ipython-input-107-98aa61f142f5>\u001b[0m in \u001b[0;36m<module>\u001b[0;34m\u001b[0m\n\u001b[1;32m      1\u001b[0m \u001b[0mprint\u001b[0m\u001b[0;34m(\u001b[0m\u001b[0ml\u001b[0m\u001b[0;34m)\u001b[0m\u001b[0;34m\u001b[0m\u001b[0;34m\u001b[0m\u001b[0m\n\u001b[0;32m----> 2\u001b[0;31m \u001b[0ml\u001b[0m\u001b[0;34m.\u001b[0m\u001b[0mremove\u001b[0m\u001b[0;34m(\u001b[0m\u001b[0;36m1\u001b[0m\u001b[0;34m)\u001b[0m\u001b[0;34m\u001b[0m\u001b[0;34m\u001b[0m\u001b[0m\n\u001b[0m\u001b[1;32m      3\u001b[0m \u001b[0mprint\u001b[0m\u001b[0;34m(\u001b[0m\u001b[0ml\u001b[0m\u001b[0;34m)\u001b[0m\u001b[0;34m\u001b[0m\u001b[0;34m\u001b[0m\u001b[0m\n",
      "\u001b[0;31mValueError\u001b[0m: list.remove(x): x not in list"
     ]
    }
   ],
   "source": [
    "print(l)\n",
    "l.remove(1)\n",
    "print(l)"
   ]
  },
  {
   "cell_type": "markdown",
   "metadata": {},
   "source": [
    "#### Access performance\n",
    "We first want to figure out how quickly can we access a particular value within a `list`. \n",
    "\n",
    "**lambda** functions - As an additional topic, we will also learn how to create quick, one-time functions in `Python` using the `lambda` keyword. We will refer to such functions as `lambda` functions. Basic syntax for a `lambda` function is:\n",
    "```\n",
    "lambda arguments : expression\n",
    "```\n",
    "The function can take any number of arguments as input (a comma separated \"list\"). But it can only have a single expression, whose value is returned as the return value of this function.\n",
    "\n",
    "For example:"
   ]
  },
  {
   "cell_type": "code",
   "execution_count": 106,
   "metadata": {},
   "outputs": [
    {
     "name": "stdout",
     "output_type": "stream",
     "text": [
      "8\n",
      "20\n",
      "100\n",
      "16\n"
     ]
    }
   ],
   "source": [
    "double = lambda x: 2*x\n",
    "print(double(4))\n",
    "\n",
    "add = lambda x,y: x + y\n",
    "print(add(8,12))\n",
    "\n",
    "exponent = lambda x,y=10: pow(y,x)\n",
    "print(exponent(2))\n",
    "print(exponent(2,4))"
   ]
  },
  {
   "cell_type": "markdown",
   "metadata": {},
   "source": [
    "##### Difference between `lambda` and `def`:\n",
    "There are two ways to create a function. Both have almost the same effect, but with some minor differences:\n",
    "1. `lambda` functions can have limited capabilities since all the logic has to be squeezed into a single expression\n",
    "2. `lambda` functions can be defined in places where `def` functions cannot be defined. This benefit will become apparent when we talk about \"functional programming\", e.g., `map`, `reduce` and `filter`.\n",
    "\n",
    "Anyways, getting back to studying the performance of lists."
   ]
  },
  {
   "cell_type": "code",
   "execution_count": 2,
   "metadata": {},
   "outputs": [],
   "source": [
    "list_access = lambda l,pos: l[pos]"
   ]
  },
  {
   "cell_type": "code",
   "execution_count": 111,
   "metadata": {},
   "outputs": [
    {
     "name": "stdout",
     "output_type": "stream",
     "text": [
      "102 ns ± 1.97 ns per loop (mean ± std. dev. of 7 runs, 10000000 loops each)\n"
     ]
    }
   ],
   "source": [
    "timeit list_access(l,0)"
   ]
  },
  {
   "cell_type": "code",
   "execution_count": 1,
   "metadata": {},
   "outputs": [],
   "source": [
    "l = list(range(1000000))"
   ]
  },
  {
   "cell_type": "code",
   "execution_count": 3,
   "metadata": {},
   "outputs": [
    {
     "name": "stdout",
     "output_type": "stream",
     "text": [
      "104 ns ± 0.466 ns per loop (mean ± std. dev. of 7 runs, 10000000 loops each)\n"
     ]
    }
   ],
   "source": [
    "timeit list_access(l,0)"
   ]
  },
  {
   "cell_type": "code",
   "execution_count": 5,
   "metadata": {},
   "outputs": [
    {
     "name": "stdout",
     "output_type": "stream",
     "text": [
      "100 ns ± 0.529 ns per loop (mean ± std. dev. of 7 runs, 10000000 loops each)\n"
     ]
    }
   ],
   "source": [
    "timeit list_access(l,500000)"
   ]
  },
  {
   "cell_type": "markdown",
   "metadata": {},
   "source": [
    "Looks like the access time is independent of where we want to access the data from.\n",
    "\n",
    "_Next question is: does it depend on the size of the string?_"
   ]
  },
  {
   "cell_type": "code",
   "execution_count": 6,
   "metadata": {},
   "outputs": [],
   "source": [
    "l1 = l[0:1000]"
   ]
  },
  {
   "cell_type": "code",
   "execution_count": 7,
   "metadata": {},
   "outputs": [
    {
     "name": "stdout",
     "output_type": "stream",
     "text": [
      "103 ns ± 2.29 ns per loop (mean ± std. dev. of 7 runs, 10000000 loops each)\n"
     ]
    }
   ],
   "source": [
    "timeit list_access(l1,0)"
   ]
  },
  {
   "cell_type": "code",
   "execution_count": 8,
   "metadata": {},
   "outputs": [],
   "source": [
    "l1 = l[0:10000]"
   ]
  },
  {
   "cell_type": "code",
   "execution_count": 9,
   "metadata": {},
   "outputs": [
    {
     "name": "stdout",
     "output_type": "stream",
     "text": [
      "103 ns ± 1.07 ns per loop (mean ± std. dev. of 7 runs, 10000000 loops each)\n"
     ]
    }
   ],
   "source": [
    "timeit list_access(l1,0)"
   ]
  },
  {
   "cell_type": "markdown",
   "metadata": {},
   "source": [
    "In general, one can say that list access takes $O(1)$ (or constant) time. \n",
    "\n",
    ">The $O()$ or the `big-oh` notation is used in computer science to denote the worst case complexity (in terms of memory or speed) of an algorithm.\n",
    "\n",
    ">If an algorithm has $O(1)$ time complexity, it means that the time taken to run the algorithm, is a constant factor, and does not depend on the input size. Typically, this is the fastest algorithm you can design.\n",
    "\n",
    ">If an algorithm has $O(n)$ time complexity, where $n$ is the size of the input, it means that in worst case the algorithm will take $c\\times n$ time, where $c$ is a constant factor. This means that the time taken by the algorithm grows linearly with the size of the input. This is also considered as an efficient algorithm.\n",
    "\n",
    ">However, a $O(n^2)$ algorithm is typically considered to be inefficient, since the time grows quadratically with the size of the data. Such (and higher complexity) algorithms should be avoided. \n",
    "\n",
    ">But for many problems, one might not find algorithms that are linear or sub-linear. For instance, the best sorting algorithm is $O(n\\log{n})$. The best algorithm for multiplying two matrices is $O(n^{2.8})$ (the _Strassen_ algorithm).\n",
    "\n",
    "Coming back to lists. Let us now study the performance of list deletion."
   ]
  },
  {
   "cell_type": "code",
   "execution_count": 10,
   "metadata": {},
   "outputs": [],
   "source": [
    "# create a long list\n",
    "l = []\n",
    "i = 0\n",
    "for i in range(10000000):\n",
    "    l.append(i)\n",
    "    i = i + 1"
   ]
  },
  {
   "cell_type": "code",
   "execution_count": 11,
   "metadata": {},
   "outputs": [
    {
     "name": "stdout",
     "output_type": "stream",
     "text": [
      "7.49 ms ± 215 µs per loop (mean ± std. dev. of 7 runs, 100 loops each)\n"
     ]
    }
   ],
   "source": [
    "timeit del l[0]"
   ]
  },
  {
   "cell_type": "code",
   "execution_count": 12,
   "metadata": {},
   "outputs": [],
   "source": [
    "# create a long list\n",
    "l = []\n",
    "i = 0\n",
    "for i in range(10000000):\n",
    "    l.append(i)\n",
    "    i = i + 1"
   ]
  },
  {
   "cell_type": "code",
   "execution_count": 13,
   "metadata": {},
   "outputs": [
    {
     "name": "stdout",
     "output_type": "stream",
     "text": [
      "3.78 ms ± 142 µs per loop (mean ± std. dev. of 7 runs, 100 loops each)\n"
     ]
    }
   ],
   "source": [
    "timeit del l[5000000]"
   ]
  },
  {
   "cell_type": "code",
   "execution_count": 14,
   "metadata": {},
   "outputs": [],
   "source": [
    "# create a long list\n",
    "l = []\n",
    "i = 0\n",
    "for i in range(10000000):\n",
    "    l.append(i)\n",
    "    i = i + 1"
   ]
  },
  {
   "cell_type": "code",
   "execution_count": 15,
   "metadata": {},
   "outputs": [
    {
     "name": "stdout",
     "output_type": "stream",
     "text": [
      "357 µs ± 12.8 µs per loop (mean ± std. dev. of 7 runs, 1000 loops each)\n"
     ]
    }
   ],
   "source": [
    "timeit del l[9000000]"
   ]
  },
  {
   "cell_type": "markdown",
   "metadata": {},
   "source": [
    "What we observe above is that the time taken to delete a value from a `list` depends on the location from where we want to delete the item. In fact, deleting elements towards the beginning of the list is significantly slower than deleting elements from the beginning of the list."
   ]
  },
  {
   "cell_type": "markdown",
   "metadata": {},
   "source": [
    "## Strings"
   ]
  },
  {
   "cell_type": "code",
   "execution_count": 16,
   "metadata": {},
   "outputs": [],
   "source": [
    "# creating a new string\n",
    "s1 = 'This is great'\n",
    "s2 = \"This is even greater\"\n",
    "s3 = '''This is the greatest'''\n",
    "s4 = \"\"\"This is also equally good\"\"\""
   ]
  },
  {
   "cell_type": "code",
   "execution_count": 19,
   "metadata": {},
   "outputs": [
    {
     "name": "stdout",
     "output_type": "stream",
     "text": [
      "This is a string with multiple lines\n",
      "This is the second line of the string\n"
     ]
    }
   ],
   "source": [
    "ss = '''This is a string with multiple lines\n",
    "This is the second line of the string'''\n",
    "print(ss)"
   ]
  },
  {
   "cell_type": "code",
   "execution_count": 22,
   "metadata": {},
   "outputs": [
    {
     "name": "stdout",
     "output_type": "stream",
     "text": [
      "My string has a \"quote\"\n"
     ]
    }
   ],
   "source": [
    "ss = \"My string has a \\\"quote\\\"\"\n",
    "print(ss)"
   ]
  },
  {
   "cell_type": "code",
   "execution_count": 23,
   "metadata": {},
   "outputs": [
    {
     "name": "stdout",
     "output_type": "stream",
     "text": [
      "This is great\n",
      "This is even greater\n",
      "This is the greatest\n",
      "This is also equally good\n"
     ]
    }
   ],
   "source": [
    "print(s1)\n",
    "print(s2)\n",
    "print(s3)\n",
    "print(s4)"
   ]
  },
  {
   "cell_type": "code",
   "execution_count": null,
   "metadata": {},
   "outputs": [],
   "source": [
    "# we typically reserve three quotes for multi-line strings\n",
    "s5 = 'This is a multi line string.\n",
    "where we need multiple lines.'"
   ]
  },
  {
   "cell_type": "code",
   "execution_count": null,
   "metadata": {},
   "outputs": [],
   "source": [
    "s5 = '''This is a multi line string.\n",
    "where we need multiple lines.'''\n",
    "print(s5)\n",
    "s5 = \"\"\"This is also a multi line string.\n",
    "This uses double quotes\"\"\"\n",
    "print(s5)"
   ]
  },
  {
   "cell_type": "code",
   "execution_count": 30,
   "metadata": {},
   "outputs": [
    {
     "name": "stdout",
     "output_type": "stream",
     "text": [
      "[3, 4, 5]\n",
      "[3, 4, 9]\n"
     ]
    }
   ],
   "source": [
    "l = [3,4,5]\n",
    "print(l)\n",
    "l[2] = 9\n",
    "print(l)"
   ]
  },
  {
   "cell_type": "code",
   "execution_count": 32,
   "metadata": {},
   "outputs": [
    {
     "ename": "TypeError",
     "evalue": "'str' object does not support item assignment",
     "output_type": "error",
     "traceback": [
      "\u001b[0;31m---------------------------------------------------------------------------\u001b[0m",
      "\u001b[0;31mTypeError\u001b[0m                                 Traceback (most recent call last)",
      "\u001b[0;32m<ipython-input-32-3e8f75b733fc>\u001b[0m in \u001b[0;36m<module>\u001b[0;34m\u001b[0m\n\u001b[0;32m----> 1\u001b[0;31m \u001b[0ms1\u001b[0m\u001b[0;34m[\u001b[0m\u001b[0;36m0\u001b[0m\u001b[0;34m]\u001b[0m \u001b[0;34m=\u001b[0m \u001b[0;34m'G'\u001b[0m\u001b[0;34m\u001b[0m\u001b[0;34m\u001b[0m\u001b[0m\n\u001b[0m",
      "\u001b[0;31mTypeError\u001b[0m: 'str' object does not support item assignment"
     ]
    }
   ],
   "source": [
    "s1[0] = 'G'"
   ]
  },
  {
   "cell_type": "markdown",
   "metadata": {},
   "source": [
    "### Immutability\n",
    "A general concept. Objects of certain type in Python are immutable whereas others a mutable."
   ]
  },
  {
   "cell_type": "code",
   "execution_count": null,
   "metadata": {},
   "outputs": [],
   "source": [
    "# for instance, lists\n",
    "l = ['t','h','i','s']\n",
    "print(l)\n",
    "l[3] = 4\n",
    "print(l)"
   ]
  },
  {
   "cell_type": "code",
   "execution_count": null,
   "metadata": {},
   "outputs": [],
   "source": [
    "l = ['1','2','3',4]\n",
    "#for i in range(len(l)):\n",
    "#    l[i] = int(l[i])\n",
    "l = [int(i) for i in l]"
   ]
  },
  {
   "cell_type": "code",
   "execution_count": 33,
   "metadata": {},
   "outputs": [
    {
     "name": "stdout",
     "output_type": "stream",
     "text": [
      "this\n"
     ]
    },
    {
     "ename": "TypeError",
     "evalue": "'str' object does not support item assignment",
     "output_type": "error",
     "traceback": [
      "\u001b[0;31m---------------------------------------------------------------------------\u001b[0m",
      "\u001b[0;31mTypeError\u001b[0m                                 Traceback (most recent call last)",
      "\u001b[0;32m<ipython-input-33-bcfe42f3b8c1>\u001b[0m in \u001b[0;36m<module>\u001b[0;34m\u001b[0m\n\u001b[1;32m      2\u001b[0m \u001b[0ms\u001b[0m \u001b[0;34m=\u001b[0m \u001b[0;34m'this'\u001b[0m\u001b[0;34m\u001b[0m\u001b[0;34m\u001b[0m\u001b[0m\n\u001b[1;32m      3\u001b[0m \u001b[0mprint\u001b[0m\u001b[0;34m(\u001b[0m\u001b[0ms\u001b[0m\u001b[0;34m)\u001b[0m\u001b[0;34m\u001b[0m\u001b[0;34m\u001b[0m\u001b[0m\n\u001b[0;32m----> 4\u001b[0;31m \u001b[0ms\u001b[0m\u001b[0;34m[\u001b[0m\u001b[0;36m3\u001b[0m\u001b[0;34m]\u001b[0m \u001b[0;34m=\u001b[0m \u001b[0;34m'n'\u001b[0m\u001b[0;34m\u001b[0m\u001b[0;34m\u001b[0m\u001b[0m\n\u001b[0m",
      "\u001b[0;31mTypeError\u001b[0m: 'str' object does not support item assignment"
     ]
    }
   ],
   "source": [
    "# now consider, strings\n",
    "s = 'this'\n",
    "print(s)\n",
    "s[3] = 'n'"
   ]
  },
  {
   "cell_type": "code",
   "execution_count": 34,
   "metadata": {},
   "outputs": [
    {
     "name": "stdout",
     "output_type": "stream",
     "text": [
      "thisthisthisthis\n"
     ]
    }
   ],
   "source": [
    "s = 'this'\n",
    "s+=s\n",
    "s = s + s\n",
    "print(s)"
   ]
  },
  {
   "cell_type": "code",
   "execution_count": 35,
   "metadata": {},
   "outputs": [
    {
     "ename": "TypeError",
     "evalue": "'str' object doesn't support item deletion",
     "output_type": "error",
     "traceback": [
      "\u001b[0;31m---------------------------------------------------------------------------\u001b[0m",
      "\u001b[0;31mTypeError\u001b[0m                                 Traceback (most recent call last)",
      "\u001b[0;32m<ipython-input-35-dd5fae807c92>\u001b[0m in \u001b[0;36m<module>\u001b[0;34m\u001b[0m\n\u001b[1;32m      1\u001b[0m \u001b[0;31m# del will not work with strings, either\u001b[0m\u001b[0;34m\u001b[0m\u001b[0;34m\u001b[0m\u001b[0;34m\u001b[0m\u001b[0m\n\u001b[0;32m----> 2\u001b[0;31m \u001b[0;32mdel\u001b[0m\u001b[0;34m(\u001b[0m\u001b[0ms\u001b[0m\u001b[0;34m[\u001b[0m\u001b[0;36m4\u001b[0m\u001b[0;34m]\u001b[0m\u001b[0;34m)\u001b[0m\u001b[0;34m\u001b[0m\u001b[0;34m\u001b[0m\u001b[0m\n\u001b[0m",
      "\u001b[0;31mTypeError\u001b[0m: 'str' object doesn't support item deletion"
     ]
    }
   ],
   "source": [
    "# del will not work with strings, either\n",
    "del(s[4])"
   ]
  },
  {
   "cell_type": "code",
   "execution_count": null,
   "metadata": {},
   "outputs": [],
   "source": [
    "s = ['this','is','a','list']\n",
    "s*4"
   ]
  },
  {
   "cell_type": "code",
   "execution_count": null,
   "metadata": {},
   "outputs": [],
   "source": [
    "s = 'this'\n",
    "for x in s:\n",
    "    print(x)"
   ]
  },
  {
   "cell_type": "code",
   "execution_count": null,
   "metadata": {},
   "outputs": [],
   "source": [
    "# you can, however, delete an entire string object\n",
    "s = 'this'\n",
    "print(s)\n",
    "del s\n",
    "print(s)"
   ]
  },
  {
   "cell_type": "markdown",
   "metadata": {},
   "source": [
    "### Accessing `str` elements\n",
    "Similar operations as for `list`"
   ]
  },
  {
   "cell_type": "code",
   "execution_count": 1,
   "metadata": {},
   "outputs": [
    {
     "name": "stdout",
     "output_type": "stream",
     "text": [
      "ti\n",
      "worra na eKil seilf emit\n",
      "tm le\n",
      "worra na eKil seilf emit\n"
     ]
    }
   ],
   "source": [
    "s = 'time flies liKe an arrow, fruit flies like a banana'\n",
    "print(s[0:2])\n",
    "print(s[::-1])\n",
    "print(s[0:9:2])\n",
    "t = s[::-1]\n",
    "print(t)"
   ]
  },
  {
   "cell_type": "code",
   "execution_count": null,
   "metadata": {},
   "outputs": [],
   "source": [
    "# getting length of a string - using in-built Python function\n",
    "print(len(s))\n",
    "s1 = ''\n",
    "print(len(s1))"
   ]
  },
  {
   "cell_type": "code",
   "execution_count": 2,
   "metadata": {},
   "outputs": [
    {
     "name": "stdout",
     "output_type": "stream",
     "text": [
      "Time flies like an arrow\n",
      "time flies like an arrow\n",
      "3\n",
      "   time flies liKe an arrow   \n",
      "30\n"
     ]
    }
   ],
   "source": [
    "# some useful methods defined for str\n",
    "print(s.capitalize())\n",
    "print(s.casefold())\n",
    "print(s.count('e'))\n",
    "print(s.center(30))\n",
    "print(len(s.center(30)))"
   ]
  },
  {
   "cell_type": "code",
   "execution_count": null,
   "metadata": {},
   "outputs": [],
   "source": [
    "# Concatenating multiple strings - using the + operation\n",
    "t = 'fruit flies like a banana'\n",
    "print(s+t)\n",
    "print(s.casefold()+', '+t)"
   ]
  },
  {
   "cell_type": "markdown",
   "metadata": {},
   "source": [
    "### Searching within a string\n",
    "Two methods are provided, `find` and `index`, both return the starting index of a substring. However, `index` throws an exception if the substring is not found. `find` returns -1. Both allow specifying start and end index to do the search."
   ]
  },
  {
   "cell_type": "code",
   "execution_count": 3,
   "metadata": {},
   "outputs": [
    {
     "name": "stdout",
     "output_type": "stream",
     "text": [
      "time flies liKe an arrow\n"
     ]
    }
   ],
   "source": [
    "print(s)"
   ]
  },
  {
   "cell_type": "code",
   "execution_count": 4,
   "metadata": {},
   "outputs": [
    {
     "name": "stdout",
     "output_type": "stream",
     "text": [
      "5\n",
      "-1\n",
      "5\n"
     ]
    },
    {
     "ename": "ValueError",
     "evalue": "substring not found",
     "output_type": "error",
     "traceback": [
      "\u001b[0;31m---------------------------------------------------------------------------\u001b[0m",
      "\u001b[0;31mValueError\u001b[0m                                Traceback (most recent call last)",
      "\u001b[0;32m<ipython-input-4-e1d9ab145e27>\u001b[0m in \u001b[0;36m<module>\u001b[0;34m\u001b[0m\n\u001b[1;32m      3\u001b[0m \u001b[0mprint\u001b[0m\u001b[0;34m(\u001b[0m\u001b[0ms\u001b[0m\u001b[0;34m.\u001b[0m\u001b[0mfind\u001b[0m\u001b[0;34m(\u001b[0m\u001b[0;34m'fly'\u001b[0m\u001b[0;34m)\u001b[0m\u001b[0;34m)\u001b[0m\u001b[0;34m\u001b[0m\u001b[0;34m\u001b[0m\u001b[0m\n\u001b[1;32m      4\u001b[0m \u001b[0mprint\u001b[0m\u001b[0;34m(\u001b[0m\u001b[0ms\u001b[0m\u001b[0;34m.\u001b[0m\u001b[0mindex\u001b[0m\u001b[0;34m(\u001b[0m\u001b[0;34m'flies'\u001b[0m\u001b[0;34m)\u001b[0m\u001b[0;34m)\u001b[0m\u001b[0;34m\u001b[0m\u001b[0;34m\u001b[0m\u001b[0m\n\u001b[0;32m----> 5\u001b[0;31m \u001b[0mprint\u001b[0m\u001b[0;34m(\u001b[0m\u001b[0ms\u001b[0m\u001b[0;34m.\u001b[0m\u001b[0mindex\u001b[0m\u001b[0;34m(\u001b[0m\u001b[0;34m'fly'\u001b[0m\u001b[0;34m)\u001b[0m\u001b[0;34m)\u001b[0m\u001b[0;34m\u001b[0m\u001b[0;34m\u001b[0m\u001b[0m\n\u001b[0m",
      "\u001b[0;31mValueError\u001b[0m: substring not found"
     ]
    }
   ],
   "source": [
    "# searching in a string\n",
    "print(s.find('flies'))\n",
    "print(s.find('fly'))\n",
    "print(s.index('flies'))\n",
    "print(s.index('fly'))\n"
   ]
  },
  {
   "cell_type": "code",
   "execution_count": null,
   "metadata": {},
   "outputs": [],
   "source": [
    "print(s.find('li',10))"
   ]
  },
  {
   "cell_type": "markdown",
   "metadata": {},
   "source": [
    "### Regular Expressions in `Python`\n",
    "Regular expressions are used to identify whether a pattern exists in a given sequence of characters (string) or not. They help in manipulating textual data, which is often a pre-requisite for data science projects that involve text mining. \n",
    "\n",
    "For example:\n",
    "> Consider the problem of parsing a text file for user information. For example, you might be interested in checking if each line in a file is of following format or not:\n",
    "```\n",
    "firstname lastname phonenumber emailaddress\n",
    "```\n",
    "or\n",
    "```\n",
    "firstname phonenumber emailaddress\n",
    "```\n",
    "\n",
    "where _firstname_ and _lastname_ are plain strings of alphabets with first letter in upper case, _phonenumber_ is of format (xxx) xxx-xxxx (x - a digit), and _emailaddress_ is of the format header@server.prefix. Let the file contain following lines:\n",
    "```\n",
    "Varun Chandola (716) 645-4747 chandola@buffalo.edu\n",
    "Homer Simpson (800) 555-7666 homer@simpson\n",
    "Bart (800) 111-7452 bart@simpson.net\n",
    "Harry potter (111) 222-3333 harry.potter@gmail.com\n",
    "Bond 777 (777) 777-7777 jbond@shakennotstirred.mi6\n",
    "```\n",
    "You need to create a code that returns `True` if the line matches the above specified pattern and `False` otherwise.\n",
    "\n",
    "There is a first principle way of writing this. But you will soon realize that code will fast become cumbersome, error-prone, and large; in other words **plain ugly!!!*.\n",
    "\n",
    "Fortunately, the theoretical Computer Science community offers the notion of __regular expressions__ to find an easy solution to this problem.\n"
   ]
  },
  {
   "cell_type": "markdown",
   "metadata": {},
   "source": [
    "In `Python`, regular expressions are supported by the `re` module. "
   ]
  },
  {
   "cell_type": "code",
   "execution_count": 6,
   "metadata": {},
   "outputs": [],
   "source": [
    "import re"
   ]
  },
  {
   "cell_type": "markdown",
   "metadata": {},
   "source": [
    "#### Basic Patterns: Ordinary Characters\n",
    "Ordinary characters are the simplest regular expressions. They match themselves exactly and do not have a special meaning in their regular expression syntax.\n",
    "\n",
    "Examples are 'A', 'a', 'X', '5'.\n",
    "\n",
    "Ordinary characters can be used to perform simple exact matches:\n",
    "\n"
   ]
  },
  {
   "cell_type": "code",
   "execution_count": 6,
   "metadata": {},
   "outputs": [],
   "source": [
    "def re_match(pattern,query):\n",
    "    if re.match(pattern,query):\n",
    "        print(\"A Match!!!\")\n",
    "    else:\n",
    "        print(\"Not a match!!!\")"
   ]
  },
  {
   "cell_type": "code",
   "execution_count": 13,
   "metadata": {},
   "outputs": [
    {
     "name": "stdout",
     "output_type": "stream",
     "text": [
      "A Match!!!\n"
     ]
    }
   ],
   "source": [
    "pattern=r'V'\n",
    "query='Varun'\n",
    "re_match(pattern,query)"
   ]
  },
  {
   "cell_type": "code",
   "execution_count": 16,
   "metadata": {},
   "outputs": [
    {
     "name": "stdout",
     "output_type": "stream",
     "text": [
      "This is a string.\\n This is second line.\n"
     ]
    }
   ],
   "source": [
    "s = r'This is a string.\\n This is second line.'\n",
    "print(s)"
   ]
  },
  {
   "cell_type": "markdown",
   "metadata": {},
   "source": [
    "The _pattern_ contains the string pattern that we are trying to find. As a general practice we add a `r` character at the beginning of the string, that indicates that it is a raw string. While in the above example, the pattern is just a literal string, in general it can be much more flexible and will be referred to as a __regular expression__ or a __regex__.\n",
    "> Both strings and regular expressions often contain the _backslash_ (`\\`) character to indicate special treatment of a character. For example, one can denote a new line character using `\\n`. By using a _raw string_, we are telling the `re` module to not process the backslash in the pattern string before actually passing it to the function."
   ]
  },
  {
   "cell_type": "code",
   "execution_count": null,
   "metadata": {},
   "outputs": [],
   "source": [
    "print(r'Var\\nun')"
   ]
  },
  {
   "cell_type": "markdown",
   "metadata": {},
   "source": [
    "The `match()` function returns a match object if the pattern is contained in the query string, and `None` otherwise. While here we are using it to just check if the query contains the pattern, we can use the same returned object (in case of a match) for more detailed output. More on this later."
   ]
  },
  {
   "cell_type": "code",
   "execution_count": 17,
   "metadata": {},
   "outputs": [
    {
     "name": "stdout",
     "output_type": "stream",
     "text": [
      "Not a match!!!\n"
     ]
    }
   ],
   "source": [
    "re_match(r'V','Chandola, Varun')"
   ]
  },
  {
   "cell_type": "markdown",
   "metadata": {},
   "source": [
    "`Python` offers two different primitive operations based on regular expressions: `re.match()` checks for a match only at the beginning of the string, while `re.search()` checks for a match anywhere in the string"
   ]
  },
  {
   "cell_type": "code",
   "execution_count": 18,
   "metadata": {},
   "outputs": [],
   "source": [
    "def re_search(pattern,query):\n",
    "    if re.search(pattern,query):\n",
    "        print(\"A Match!!!\")\n",
    "    else:\n",
    "        print(\"Not a match!!!\")"
   ]
  },
  {
   "cell_type": "code",
   "execution_count": 19,
   "metadata": {},
   "outputs": [
    {
     "name": "stdout",
     "output_type": "stream",
     "text": [
      "A Match!!!\n"
     ]
    }
   ],
   "source": [
    "re_search(r'V','Chandola, Varun')"
   ]
  },
  {
   "cell_type": "code",
   "execution_count": 20,
   "metadata": {},
   "outputs": [
    {
     "name": "stdout",
     "output_type": "stream",
     "text": [
      "A Match!!!\n"
     ]
    }
   ],
   "source": [
    "re_search(r'@', 'chandola@buffalo.edu')"
   ]
  },
  {
   "cell_type": "code",
   "execution_count": 32,
   "metadata": {},
   "outputs": [
    {
     "name": "stdout",
     "output_type": "stream",
     "text": [
      "A Match!!!\n"
     ]
    }
   ],
   "source": [
    "re_search(r'\\d$','4I am 4 twenty four4')"
   ]
  },
  {
   "cell_type": "code",
   "execution_count": 41,
   "metadata": {},
   "outputs": [
    {
     "name": "stdout",
     "output_type": "stream",
     "text": [
      "A Match!!!\n"
     ]
    }
   ],
   "source": [
    "re_search(r'^.','9 am 4 twenty four')"
   ]
  },
  {
   "cell_type": "code",
   "execution_count": 37,
   "metadata": {},
   "outputs": [
    {
     "name": "stdout",
     "output_type": "stream",
     "text": [
      "A Match!!!\n"
     ]
    }
   ],
   "source": [
    "re_match(r'[^\\w]','%%&*%*&%^*&%^')"
   ]
  },
  {
   "cell_type": "markdown",
   "metadata": {},
   "source": [
    "#### Wild Card Characters: Special Characters\n",
    "Special characters are characters which do not match themselves as seen but actually have a special meaning when used in a regular expression.\n",
    "\n",
    "The most common wildcards are:\n",
    "\n",
    "\n",
    "Wild Card | Meaning | Effect\n",
    "----------|---------|-------------\n",
    "`.` | A period| Matches any single character except newline character.\n",
    "`\\w`|Lowercase w| Matches any single letter, digit or underscore.\n",
    "`\\W`|Uppercase w| Matches any character not part of \\w (lowercase w).\n",
    "`\\s`|Lowercase s| Matches a single whitespace character like: space, newline, tab, return.\n",
    "`\\S`|Uppercase s| Matches any character not part of \\s (lowercase s).\n",
    "`\\t`|Lowercase t|Matches tab.\n",
    "`\\n`|Lowercase n|Matches newline.\n",
    "`\\r`|Lowercase r|Matches return.\n",
    "`\\d`|Lowercase d|Matches decimal digit 0-9.\n",
    "`^` |Caret| Matches a pattern at the start of the string.\n",
    "`$`|Dollar|Matches a pattern at the end of string.\n",
    "`[abc]`| Or|Matches a or b or c.\n",
    "`[a-zA-Z0-9]`|Or|Matches any letter from (a to z) or (A to Z) or (0 to 9).\n",
    "`[^a]`|Else|Matches any number except for `a`\n",
    "`\\A`|Uppercase letter|Matches only at the start of the string.\n",
    "`\\b`|Lowercase letter|Matches only the beginning or end of the word.\n",
    "`\\`|Backslash|\n",
    "\n",
    "If the character following the backslash is a recognized escape character, then the special meaning of the term is taken. For example, `\\n` is considered as newline. However, if the character following the `\\` is not a recognized escape character, then the `\\` is treated like any other character and passed through"
   ]
  },
  {
   "cell_type": "code",
   "execution_count": 42,
   "metadata": {},
   "outputs": [
    {
     "name": "stdout",
     "output_type": "stream",
     "text": [
      "A Match!!!\n"
     ]
    }
   ],
   "source": [
    "re_search(r'.','Anything goes')"
   ]
  },
  {
   "cell_type": "code",
   "execution_count": 45,
   "metadata": {},
   "outputs": [
    {
     "name": "stdout",
     "output_type": "stream",
     "text": [
      "Not a match!!!\n",
      "A Match!!!\n"
     ]
    }
   ],
   "source": [
    "re_search(r'\\w','%@#@$##$')\n",
    "re_search(r'\\w','v@sdfs.com')"
   ]
  },
  {
   "cell_type": "code",
   "execution_count": null,
   "metadata": {},
   "outputs": [],
   "source": [
    "re_search(r'\\W','%@#@$##$')\n",
    "re_search(r'\\W','vsdfscom')"
   ]
  },
  {
   "cell_type": "code",
   "execution_count": null,
   "metadata": {},
   "outputs": [],
   "source": [
    "re_search(r'\\s','Varun Chandola')\n",
    "re_search(r'\\s','VarunChandola')\n",
    "re_search(r'\\S','VarunChandola')\n",
    "re_search(r'\\t','Varun\\tChandola')\n",
    "re_search(r'\\t','Varun    Chandola')"
   ]
  },
  {
   "cell_type": "code",
   "execution_count": null,
   "metadata": {},
   "outputs": [],
   "source": [
    "re_search(r'\\d','716-232-2323')\n",
    "re_search(r'\\d','chandola@buffalo.edu')"
   ]
  },
  {
   "cell_type": "markdown",
   "metadata": {},
   "source": [
    "##### Searching for patterns in the beginning or end using `^` and `$`"
   ]
  },
  {
   "cell_type": "code",
   "execution_count": null,
   "metadata": {},
   "outputs": [],
   "source": [
    "re_search(r'^\\d','4chan')\n",
    "re_search(r'^\\d','whois4chan')\n",
    "re_search(r'^Var','Varun Chandola')\n",
    "re_search(r'^Var','I am Varun Chandola')"
   ]
  },
  {
   "cell_type": "code",
   "execution_count": null,
   "metadata": {},
   "outputs": [],
   "source": [
    "re_search(r'\\d$','chan4')\n",
    "re_search(r'\\d$','whois4chan')\n",
    "re_search(r'ola$','Varun Chandola')\n",
    "re_search(r'ola$','I am Chandola, Varun')"
   ]
  },
  {
   "cell_type": "markdown",
   "metadata": {},
   "source": [
    "##### Searching for one of the possible patterns"
   ]
  },
  {
   "cell_type": "code",
   "execution_count": 46,
   "metadata": {},
   "outputs": [
    {
     "name": "stdout",
     "output_type": "stream",
     "text": [
      "A Match!!!\n",
      "A Match!!!\n",
      "A Match!!!\n",
      "Not a match!!!\n"
     ]
    }
   ],
   "source": [
    "re_search(r'[VvCc]','Varun')\n",
    "re_search(r'[VvCc]','varun')\n",
    "re_search(r'[VvCc]','Chandola')\n",
    "re_search(r'[VvCc]','James Bond')"
   ]
  },
  {
   "cell_type": "markdown",
   "metadata": {},
   "source": [
    "##### Specifying ranges"
   ]
  },
  {
   "cell_type": "code",
   "execution_count": 48,
   "metadata": {},
   "outputs": [
    {
     "name": "stdout",
     "output_type": "stream",
     "text": [
      "A Match!!!\n"
     ]
    }
   ],
   "source": [
    "re_search(r'[a-fA-F0-9]','a quick brown fox')"
   ]
  },
  {
   "cell_type": "code",
   "execution_count": 49,
   "metadata": {},
   "outputs": [
    {
     "name": "stdout",
     "output_type": "stream",
     "text": [
      "Not a match!!!\n"
     ]
    }
   ],
   "source": [
    "re_search(r'[a-fA-F0-9]','Stump')"
   ]
  },
  {
   "cell_type": "code",
   "execution_count": 50,
   "metadata": {},
   "outputs": [
    {
     "name": "stdout",
     "output_type": "stream",
     "text": [
      "Not a match!!!\n",
      "A Match!!!\n"
     ]
    }
   ],
   "source": [
    "re_search(r'[^a]','aaaaaa')\n",
    "re_search(r'[^a]','This contains aaaaa')"
   ]
  },
  {
   "cell_type": "markdown",
   "metadata": {},
   "source": [
    "Now we can start combinging different wild cards to create more expressive regexes."
   ]
  },
  {
   "cell_type": "code",
   "execution_count": null,
   "metadata": {},
   "outputs": [],
   "source": [
    "re_search(r'[VvCc]','Name is Varun')\n",
    "re_search(r'^[VvCc]','I am Varun')"
   ]
  },
  {
   "cell_type": "markdown",
   "metadata": {},
   "source": [
    "#### Repetitions\n",
    "Finding repetitive patterns is a necessity in regular expression matching. For example, you might be interested in checking if a string consists of only digits between 0 and 4. \n",
    "\n",
    "This can be handled using one of the following repetition special characters:\n",
    "\n",
    "\n",
    "Character|Effect\n",
    "---------|------\n",
    "`+`|Check for **one or more** characters to its left\n",
    "`*`|Checks for **zero or more** characters to its left\n",
    "`?`|Checks for **exactly zero or one character** to its left\n",
    "{x}|Checks for **exactly x times** repeat occurence of a character to its left\n",
    "{x,}|Checks for **at least x times** repeat occurence of a character to its left\n",
    "{x,y}|Checks for **at least x and not more than y times** repeat occurence of a character to its left"
   ]
  },
  {
   "cell_type": "code",
   "execution_count": 54,
   "metadata": {},
   "outputs": [
    {
     "name": "stdout",
     "output_type": "stream",
     "text": [
      "A Match!!!\n",
      "Not a match!!!\n",
      "A Match!!!\n",
      "Not a match!!!\n",
      "A Match!!!\n"
     ]
    }
   ],
   "source": [
    "re_search(r'Varun+Chandola','VarunChandola')\n",
    "re_search(r'Varun+Chandola','Varun Chandola')\n",
    "re_search(r'Varun+Chandola','VarunnnnnnnnChandola')\n",
    "re_search(r'Varun+Chandola','VaruChandola')\n",
    "re_search(r'Varun+Chandola','My name is VarunnnnnnChandola')"
   ]
  },
  {
   "cell_type": "code",
   "execution_count": null,
   "metadata": {},
   "outputs": [],
   "source": [
    "re_search(r'\\d+8{3}\\d+','238882324532')"
   ]
  },
  {
   "cell_type": "code",
   "execution_count": null,
   "metadata": {},
   "outputs": [],
   "source": [
    "'\\s'"
   ]
  },
  {
   "cell_type": "code",
   "execution_count": 70,
   "metadata": {},
   "outputs": [
    {
     "name": "stdout",
     "output_type": "stream",
     "text": [
      "Not a match!!!\n",
      "Not a match!!!\n"
     ]
    }
   ],
   "source": [
    "re_search(r'Varun\\s?Chandola','Varun  Chandolaishere')\n",
    "re_search(r'Varun?Chandola','VarunnChandola is here')"
   ]
  },
  {
   "cell_type": "code",
   "execution_count": null,
   "metadata": {},
   "outputs": [],
   "source": [
    "re_search(r'\\d{10,11}','My number is 166454747')"
   ]
  },
  {
   "cell_type": "code",
   "execution_count": 74,
   "metadata": {},
   "outputs": [
    {
     "name": "stdout",
     "output_type": "stream",
     "text": [
      "Not a match!!!\n"
     ]
    }
   ],
   "source": [
    "# a phone number matcher\n",
    "# (716) 645-4747\n",
    "re_search(r'\\(\\d{3}\\)\\s\\d{3}-\\d{4}','716-645-4747')"
   ]
  },
  {
   "cell_type": "code",
   "execution_count": 80,
   "metadata": {},
   "outputs": [
    {
     "name": "stdout",
     "output_type": "stream",
     "text": [
      "A Match!!!\n",
      "A Match!!!\n",
      "Not a match!!!\n",
      "A Match!!!\n"
     ]
    }
   ],
   "source": [
    "# a more relaxed phone number matcher\n",
    "regex = r'(\\d{1}\\s)?\\(\\d{3}\\)\\s\\d{3}-\\d{4}'\n",
    "re_search(regex,'1 (800) 444-4444')\n",
    "re_search(regex,'(716) 645-4747')\n",
    "re_search(regex,'1 800 645-4777')\n",
    "re_search(regex,' (800) 645-4777')"
   ]
  },
  {
   "cell_type": "code",
   "execution_count": null,
   "metadata": {},
   "outputs": [],
   "source": [
    "regex = r'(ACGT)+'\n",
    "reout = re.search(regex,'uuuACGTACGTACGTACGTnnn')"
   ]
  },
  {
   "cell_type": "code",
   "execution_count": null,
   "metadata": {},
   "outputs": [],
   "source": [
    "reout.group(1)"
   ]
  },
  {
   "cell_type": "markdown",
   "metadata": {},
   "source": [
    "### Groups\n",
    "We have been using the `re.search` and `re.match` functions to check if a pattern exists in a string or not. However, we can do much more than that.\n",
    "\n",
    "For example, if we want to check for multiple patterns within a string, then we can use the _grouping_ feature of regular expressions. Let us consider a code to extract the various components of an email address:\n",
    "```\n",
    "emailid@orgname.suffix\n",
    "```\n",
    "We can divide a regex into individual parts using parentheses. Each part is known as a _group_. The `re.search` and `re.match` can then return the groups for us to further process."
   ]
  },
  {
   "cell_type": "code",
   "execution_count": 84,
   "metadata": {},
   "outputs": [
    {
     "name": "stdout",
     "output_type": "stream",
     "text": [
      "()\n"
     ]
    }
   ],
   "source": [
    "regex = r'.+@.+\\..+'\n",
    "reout = re.search(regex,'chandola@buffalo.edu')\n",
    "print(reout.groups())"
   ]
  },
  {
   "cell_type": "code",
   "execution_count": 98,
   "metadata": {},
   "outputs": [],
   "source": [
    "regex = r'(.+)@(.+)\\.(.+)'\n",
    "reout = re.findall(regex,'chandola@buffalo.edu vchandola@gmail.com varun@mail.org')\n",
    "#parts = reout.group(3)\n",
    "#print(type(parts))\n",
    "#print(parts)"
   ]
  },
  {
   "cell_type": "code",
   "execution_count": 101,
   "metadata": {},
   "outputs": [
    {
     "data": {
      "text/plain": [
       "[('chandola@buffalo.edu vchandola@gmail.com varun', 'mail', 'org')]"
      ]
     },
     "execution_count": 101,
     "metadata": {},
     "output_type": "execute_result"
    }
   ],
   "source": [
    "reout"
   ]
  },
  {
   "cell_type": "code",
   "execution_count": 97,
   "metadata": {},
   "outputs": [
    {
     "data": {
      "text/plain": [
       "('chandola@buffalo.edu vchandola@gmail.com varun', 'mail', 'org')"
      ]
     },
     "execution_count": 97,
     "metadata": {},
     "output_type": "execute_result"
    }
   ],
   "source": [
    "reout.groups()"
   ]
  },
  {
   "cell_type": "code",
   "execution_count": 83,
   "metadata": {},
   "outputs": [
    {
     "data": {
      "text/plain": [
       "('chandola', 'buffalo', 'edu')"
      ]
     },
     "execution_count": 83,
     "metadata": {},
     "output_type": "execute_result"
    }
   ],
   "source": [
    "reout.groups()"
   ]
  },
  {
   "cell_type": "markdown",
   "metadata": {},
   "source": [
    "You can also access the groups using the `group()` function."
   ]
  },
  {
   "cell_type": "code",
   "execution_count": 86,
   "metadata": {},
   "outputs": [
    {
     "data": {
      "text/plain": [
       "'chandola'"
      ]
     },
     "execution_count": 86,
     "metadata": {},
     "output_type": "execute_result"
    }
   ],
   "source": [
    "# this gives the whole matched text\n",
    "reout.group()\n",
    "reout.group(1)"
   ]
  },
  {
   "cell_type": "markdown",
   "metadata": {},
   "source": [
    "### Greedy vs. non-greedy matching"
   ]
  },
  {
   "cell_type": "markdown",
   "metadata": {},
   "source": [
    "By default, the normal behavior of a wild card within a regular expression is to match the entire string. But sometimes, for several reasons, you might want to just match the first occurence. This can be done by adding a `?` qualifier (also known as the *non-greedy modifier*) after the wildcard part."
   ]
  },
  {
   "cell_type": "code",
   "execution_count": 90,
   "metadata": {},
   "outputs": [
    {
     "data": {
      "text/plain": [
       "'<h1>TITLE</h1>'"
      ]
     },
     "execution_count": 90,
     "metadata": {},
     "output_type": "execute_result"
    }
   ],
   "source": [
    "heading  = '<h1>TITLE</h1>'\n",
    "re.search(r'<.*>',heading).group()"
   ]
  },
  {
   "cell_type": "code",
   "execution_count": 14,
   "metadata": {},
   "outputs": [
    {
     "data": {
      "text/plain": [
       "'<h1>'"
      ]
     },
     "execution_count": 14,
     "metadata": {},
     "output_type": "execute_result"
    }
   ],
   "source": [
    "heading  = '<h1>TITLE</h1>'\n",
    "re.search(r'<.*?>',heading).group()"
   ]
  },
  {
   "cell_type": "markdown",
   "metadata": {},
   "source": [
    "### `re` module\n",
    "We have already seen how `re.search()` and `re.match()` work in a vanilla form. But they offer much more. Additionally, the `re` module supports many more functionalities.\n",
    "- `re.search(pattern,string, flags=0)` - Scan through the given string/sequence looking for the first location where the regular expression produces a match. It returns a corresponding match object if found, else returns `None` if no position in the string matches the pattern.\n",
    "- `re.match(pattern,string, flags=0)` - Returns a corresponding match object if zero or more characters at the beginning of string match the pattern. Else it returns `None`, if the string does not match the given pattern.\n",
    "- `re.findall(pattern,string, flags=0)` - Finds all the possible matches in the entire sequence and returns them as a list of strings. Each returned string represents one match."
   ]
  },
  {
   "cell_type": "code",
   "execution_count": 102,
   "metadata": {},
   "outputs": [],
   "source": [
    "text = '''<tag1>This is the body of the first tag</tag1>\n",
    "<tag2>This is the body of the second tag</tag2>\n",
    "<tag3>This is the body of the third tag</tag3>\n",
    "'''"
   ]
  },
  {
   "cell_type": "code",
   "execution_count": 103,
   "metadata": {},
   "outputs": [],
   "source": [
    "reout = re.findall(r'(<.*>)(.*)(<.*>)',text)"
   ]
  },
  {
   "cell_type": "code",
   "execution_count": 107,
   "metadata": {},
   "outputs": [
    {
     "data": {
      "text/plain": [
       "('<tag1>', 'This is the body of the first tag', '</tag1>')"
      ]
     },
     "execution_count": 107,
     "metadata": {},
     "output_type": "execute_result"
    }
   ],
   "source": [
    "reout[0]"
   ]
  },
  {
   "cell_type": "code",
   "execution_count": 16,
   "metadata": {},
   "outputs": [
    {
     "name": "stdout",
     "output_type": "stream",
     "text": [
      "<tag1>This is the body of the first tag</tag1>\n"
     ]
    },
    {
     "data": {
      "text/plain": [
       "'This is the body of the first tag'"
      ]
     },
     "execution_count": 16,
     "metadata": {},
     "output_type": "execute_result"
    }
   ],
   "source": [
    "strs = re.findall(r'<.*>',text)\n",
    "print(strs[0])\n",
    "reout = re.search(r'(<.*>)(.*)(<.*>)',strs[0])\n",
    "reout.group(2)"
   ]
  },
  {
   "cell_type": "markdown",
   "metadata": {},
   "source": [
    "- `sub(pattern, repl, string, count=0, flags=0)`\n",
    "This is the substitute function. It returns the string obtained by replacing or substituting the leftmost non-overlapping occurrences of pattern in string by the replacement repl. If the pattern is not found then the string is returned unchanged."
   ]
  },
  {
   "cell_type": "code",
   "execution_count": null,
   "metadata": {},
   "outputs": [],
   "source": [
    "email_address = 'Please contact us at: xyz@datacamp.com'\n",
    "new_email_address = re.sub(r'([\\w\\.-]+)@([\\w\\.-]+)', r'support@datacamp.com', email_address)\n",
    "print(new_email_address)"
   ]
  },
  {
   "cell_type": "code",
   "execution_count": null,
   "metadata": {},
   "outputs": [],
   "source": [
    "regex = 'very complicated pattern '\n",
    "re.search(regex,'lsdfhslkdhfks')\n",
    "re.search(regex,'sdfnlskdhflkshdflk')\n",
    "\n",
    "pattern = re.compile(regex)\n",
    "pattern.search('slkdjflsdjfl')\n",
    "pattern.search('slkdjflsdjlf')\n",
    "pattern.search('pyoyoqijoioe')"
   ]
  },
  {
   "cell_type": "markdown",
   "metadata": {},
   "source": [
    "### `re.compile()`\n",
    "Compiles a regular expression pattern into a regular expression object. When you need to use an expression several times in a single program, using the `compile()` function to save the resulting regular expression object for reuse is more efficient. This is because the compiled versions of the most recent patterns passed to `compile()` and the module-level matching functions are cached."
   ]
  },
  {
   "cell_type": "code",
   "execution_count": null,
   "metadata": {},
   "outputs": [],
   "source": [
    "regex = r'(.*)@(.*)\\.(.*)'\n",
    "pattern = re.compile(regex)\n",
    "pattern.search('chandola@gmail.com').groups()\n",
    "pattern.search('chandola@buffalo.edu').groups()"
   ]
  },
  {
   "cell_type": "markdown",
   "metadata": {},
   "source": [
    "### A small parsing exercise\n",
    "Extract all URLs within an html page."
   ]
  },
  {
   "cell_type": "code",
   "execution_count": 108,
   "metadata": {},
   "outputs": [],
   "source": [
    "f = open('people.html')\n",
    "txt = f.read()\n",
    "f.close()"
   ]
  },
  {
   "cell_type": "code",
   "execution_count": 109,
   "metadata": {},
   "outputs": [
    {
     "data": {
      "text/plain": [
       "'<!DOCTYPE html>\\n<html>\\n    <head><script>(function(i,s,o,g,r,a,m){i[\\'GoogleAnalyticsObject\\']=r;i[r]=i[r]||function(){(i[r].q=i[r].q||[]).push(arguments)},i[r].l=1*new Date();a=s.createElement(o),m=s.getElementsByTagName(o)[0];a.async=1;a.src=g;m.parentNode.insertBefore(a,m)})(window,document,\\'script\\',\\'https://www.google-analytics.com/analytics.js\\',\\'ga\\'); ga(\\'create\\', \\'UA-3974203-1\\', \\'auto\\'); ga(\\'send\\', \\'pageview\\');</script>\\n        <meta charset=\"utf-8\">\\n        <title>University at Buffalo Data Science Research Group: People</title>\\n        <meta name=\"viewport\" content=\"width=device-width, initial-scale=1.0\">\\n\\t<link rel=\"stylesheet\" href=\"https://maxcdn.bootstrapcdn.com/bootstrap/3.3.7/css/bootstrap.min.css\">\\n        <link href=\"/ubds/css/group.css\" rel=\"stylesheet\">\\n    </head>\\n    <body>\\n      <div class=\"container\">\\n\\t<div class=\"header\">\\n\\t  <ul class=\"nav nav-pills pull-right\">\\n\\t    \\n\\t    <li >\\n\\t      <a href=\"/ubds/index.html\">\\n\\t\\tHome\\n\\t      </a>\\n\\t    </li>\\n\\t    \\n\\t    <li class=\"active\">\\n\\t      <a href=\"/ubds/people.html\">\\n\\t\\tPeople\\n\\t      </a>\\n\\t    </li>\\n\\t    \\n\\t    <li >\\n\\t      <a href=\"/ubds/research.html\">\\n\\t\\tResearch\\n\\t      </a>\\n\\t    </li>\\n\\t    \\n\\t    <li >\\n\\t      <a href=\"/ubds/publications.html\">\\n\\t\\tPublications\\n\\t      </a>\\n\\t    </li>\\n\\t    \\n\\t    <li >\\n\\t      <a href=\"/ubds/code.html\">\\n\\t\\tCode\\n\\t      </a>\\n\\t    </li>\\n\\t    \\n\\t  </ul>\\n\\t  <a href=\"/ubds/\">\\n\\t    <img src=\"/ubds/img/logo.png\"\\n\\t  srcset=\"/ubds/img/logo@2x.png 2x\"\\n   alt=\"UBDS\" id=\"logo\">\\n\\t  </a>\\n\\t</div>\\n\\n\\t\\n\\t\\n\\t<h2>People</h2>\\n\\t\\n\\n\\t\\n<h3>Faculty</h3>\\n<dl class=\"people\">\\n  \\n  \\n  \\n  <dt class=\"person\">\\n  \\n  <a href=\"https://www.cse.buffalo.edu/~chandola\">\\n    \\n    Varun Chandola\\n    \\n  </a>\\n  \\n  </dt>\\n  <dd>\\n  <table>\\n    <tr>\\n      <td>\\n  \\n  <img class=\"img-circle\" width=\"128px\" src=\"img/chandola.png\"></img>\\n  \\n      </td>\\n      <td>\\n  \\n  <p>Varun Chandola is a tenure-track Assistant Professor at <a href=\"http://www.buffalo.edu\">University at Buffalo (SUNY)</a> in the <a href=\"http://www.cse.buffalo.edu\">Computer Science Department</a> and the <a href=\"http://cdse.buffalo.edu/\">Center for Computational and Data-Enabled Science and Engineering</a> (CDSE). His research covers the application of data mining and machine learning to problems involving big and complex data, focusing on anomaly detection \\xadfinding surprising patterns, connections, associations, and trends in data. Before joining UB, he was a scientist in the <a href=\"http://computing.ornl.gov/cse/\">Computational Sciences and Engineering Division</a> at the <a href=\"http://www.ornl.gov\">Oak Ridge National Laboratory</a>.</p>\\n\\n  \\n      </td>\\n    </tr>\\n  </table>\\n  </dd>\\n  \\n  \\n  \\n  \\n  \\n  \\n  \\n  \\n  \\n  \\n  \\n  \\n  \\n  \\n  \\n  \\n  \\n  \\n  \\n  \\n  \\n  \\n  \\n  \\n  \\n  \\n</dl>\\n\\n<h3>PhD Students</h3>\\n<dl class=\"people\">\\n  \\n  \\n  \\n  \\n  \\n  \\n  <dt class=\"person\">\\n  \\n  <a href=\"https://www.buffalo.edu/~suchismi\">\\n    \\n    Suchismit Mahapatra\\n    \\n  </a>\\n  \\n  </dt>\\n  <dd>\\n  <table>\\n    <tr>\\n      <td>\\n  \\n  <img class=\"img-circle\" width=\"128px\" src=\"img/suchismit.jpg\"></img>\\n  \\n      </td>\\n      <td>\\n  \\n  <p>I am currently a PhD student with the <a href=\"http://www.cse.buffalo.edu/ubds/\"> Machine Learning and Data Science Research (MLDS)</a> group at the <a href=\"http://www.buffalo.edu\">University of Buffalo, SUNY (UB)</a>, working under <a href=\"http://www.cse.buffalo.edu/~chandola\">Varun Chandola</a>. I completed my Masters at <a href=\"http://www.buffalo.edu\">UB</a> as well with a perfect GPA. Broadly, my area of research is in large scale machine learning and data mining. Specifically my research focuses on designing, analyzing and implementing novel machine learning algorithms that take advantage of modern hardware to enable learning and mining of massive graphs and data sets.</p>\\n\\n  \\n      </td>\\n    </tr>\\n  </table>\\n  </dd>\\n  \\n  \\n  \\n  \\n  <dt class=\"person\">\\n  \\n  <a href=\"https://www.cse.buffalo.edu/mlds\">\\n    \\n    Duc Luong\\n    \\n  </a>\\n  \\n  </dt>\\n  <dd>\\n  <table>\\n    <tr>\\n      <td>\\n  \\n  <img class=\"img-circle\" width=\"128px\" src=\"img/ducthanh.jpg\"></img>\\n  \\n      </td>\\n      <td>\\n  \\n  <p>Duc works on non-parametric Bayesian clustering methods.</p>\\n\\n  \\n      </td>\\n    </tr>\\n  </table>\\n  </dd>\\n  \\n  \\n  \\n  \\n  <dt class=\"person\">\\n  \\n  <a href=\"https://www.cse.buffalo.edu/mlds\">\\n    \\n    Jialiang Jiang\\n    \\n  </a>\\n  \\n  </dt>\\n  <dd>\\n  <table>\\n    <tr>\\n      <td>\\n  \\n  <img class=\"img-circle\" width=\"128px\" src=\"img/jialiang.png\"></img>\\n  \\n      </td>\\n      <td>\\n  \\n  <p>Jialiang works on learning with structured sparsity.</p>\\n\\n  \\n      </td>\\n    </tr>\\n  </table>\\n  </dd>\\n  \\n  \\n  \\n  \\n  <dt class=\"person\">\\n  \\n  <a href=\"https://www.cse.buffalo.edu/mlds\">\\n    \\n    Niyazi Sorkunlu\\n    \\n  </a>\\n  \\n  </dt>\\n  <dd>\\n  <table>\\n    <tr>\\n      <td>\\n  \\n  <img class=\"img-circle\" width=\"128px\" src=\"img/niyaziso.jpg\"></img>\\n  \\n      </td>\\n      <td>\\n  \\n  <p>Niyazi works on tensor decomposition based anomaly detection methods.</p>\\n\\n  \\n      </td>\\n    </tr>\\n  </table>\\n  </dd>\\n  \\n  \\n  \\n  \\n  <dt class=\"person\">\\n  \\n  <a href=\"https://smazcw3.github.io/\">\\n    \\n    Arshad Zaidi\\n    \\n  </a>\\n  \\n  </dt>\\n  <dd>\\n  <table>\\n    <tr>\\n      <td>\\n  \\n  <img class=\"img-circle\" width=\"128px\" src=\"img/arshad.jpg\"></img>\\n  \\n      </td>\\n      <td>\\n  \\n  <p>Arshad works on integrating heterogeneous urban data.</p>\\n\\n  \\n      </td>\\n    </tr>\\n  </table>\\n  </dd>\\n  \\n  \\n  \\n  \\n  <dt class=\"person\">\\n  \\n  <a href=\"https://www.cse.buffalo.edu/mlds\">\\n    \\n    Yanbo Guo\\n    \\n  </a>\\n  \\n  </dt>\\n  <dd>\\n  <table>\\n    <tr>\\n      <td>\\n  \\n  <img class=\"img-circle\" width=\"128px\" src=\"img/yanboguo.png\"></img>\\n  \\n      </td>\\n      <td>\\n  \\n  <p>Yanbo works on understanding flow of information in social networks.</p>\\n\\n  \\n      </td>\\n    </tr>\\n  </table>\\n  </dd>\\n  \\n  \\n  \\n  \\n  \\n  \\n  \\n  \\n</dl>\\n\\n<h3>MS Students</h3>\\n<dl class=\"people\">\\n  \\n  \\n  \\n  \\n  \\n  \\n  \\n  \\n  \\n  \\n  \\n  \\n  \\n  \\n  \\n  \\n  \\n  \\n  \\n  \\n  \\n  \\n  \\n  \\n  <dt class=\"person\">\\n  \\n  <a href=\"https://www.cse.buffalo.edu/mlds\">\\n    \\n    Deen Dayal Mohan\\n    \\n  </a>\\n  \\n  </dt>\\n  <dd>\\n  <table>\\n    <tr>\\n      <td>\\n  \\n  <img class=\"img-circle\" width=\"128px\" src=\"img/unknown.jpg\"></img>\\n  \\n      </td>\\n      <td>\\n  \\n  <p>Deen works on tensor decomposition based anomaly detection methods.</p>\\n\\n  \\n      </td>\\n    </tr>\\n  </table>\\n  </dd>\\n  \\n  \\n  \\n  \\n  \\n</dl>\\n\\n<h3>Alumni</h3>\\n<dl class=\"people\">\\n  \\n  \\n  \\n  \\n  \\n  \\n  \\n  \\n  \\n  \\n  \\n  \\n  \\n  \\n  \\n  \\n  \\n  \\n  \\n  \\n  \\n  \\n  \\n  \\n  \\n  \\n  \\n  <dt class=\"person\">\\n  \\n    Zhi Yang\\n    \\n  </dt>\\n  <dd>\\n  <table>\\n    <tr>\\n      <td>\\n  \\n      </td>\\n      <td>\\n  \\n  <p>Ph.D., 2015. Now at Continental Vision (U.K.).</p>\\n\\n  \\n      </td>\\n    </tr>\\n  </table>\\n  </dd>\\n  \\n  \\n</dl>\\n\\n\\n\\n\\t<div class=\"footer\">\\n\\t  <p>\\n\\t  <a href=\"https://www.cse.buffalo.edu/\">Computer Science and Engineering</a>\\n\\t  at the\\n\\t  <a href=\"https://www.buffalo.edu/\">University at Buffalo</a>\\n\\t  </p>\\n\\t</div>\\n\\n      </div> <!-- /container -->\\n\\n      <!-- Support retina images. -->\\n      <script type=\"text/javascript\"\\n\\t      src=\"/ubds/js/srcset-polyfill.js\"></script>\\n      <script src=\"https://ajax.googleapis.com/ajax/libs/jquery/3.1.1/jquery.min.js\"></script>\\n      <script src=\"https://maxcdn.bootstrapcdn.com/bootstrap/3.3.7/js/bootstrap.min.js\"></script>\\n    </body>\\n</html>\\n'"
      ]
     },
     "execution_count": 109,
     "metadata": {},
     "output_type": "execute_result"
    }
   ],
   "source": [
    "txt"
   ]
  },
  {
   "cell_type": "code",
   "execution_count": 112,
   "metadata": {},
   "outputs": [],
   "source": [
    "regex = r'<img.*src=(\\\".*\\\")>(.*)(</img>)'\n",
    "#regex = r'<a.*href=(\\\".*\\\")>(.*)(</a>)'\n",
    "pattern = re.compile(regex)\n",
    "res = pattern.findall(txt)"
   ]
  },
  {
   "cell_type": "code",
   "execution_count": 113,
   "metadata": {},
   "outputs": [
    {
     "name": "stdout",
     "output_type": "stream",
     "text": [
      "\"img/chandola.png\"\n",
      "\"img/suchismit.jpg\"\n",
      "\"img/ducthanh.jpg\"\n",
      "\"img/jialiang.png\"\n",
      "\"img/niyaziso.jpg\"\n",
      "\"img/arshad.jpg\"\n",
      "\"img/yanboguo.png\"\n",
      "\"img/unknown.jpg\"\n"
     ]
    }
   ],
   "source": [
    "for r in res:\n",
    "    print(r[0])"
   ]
  },
  {
   "cell_type": "markdown",
   "metadata": {},
   "source": [
    "An expression's behavior can be modified by specifying a flags value. You can add flag as an extra argument to the various functions. Some of the flags used are: IGNORECASE, DOTALL, MULTILINE, VERBOSE, etc."
   ]
  },
  {
   "cell_type": "markdown",
   "metadata": {},
   "source": [
    "## Tuples\n",
    "Another immutable data structure that can be used to define an arbitrary sequence of objects"
   ]
  },
  {
   "cell_type": "code",
   "execution_count": 88,
   "metadata": {},
   "outputs": [
    {
     "name": "stdout",
     "output_type": "stream",
     "text": [
      "<class 'tuple'>\n"
     ]
    }
   ],
   "source": [
    "t = (3,5,2.1,2.7,\"yes\",[3,2,4])\n",
    "print(type(t))"
   ]
  },
  {
   "cell_type": "code",
   "execution_count": 89,
   "metadata": {},
   "outputs": [
    {
     "name": "stdout",
     "output_type": "stream",
     "text": [
      "(3, 5)\n",
      "([3, 2, 4], 'yes', 2.7, 2.1, 5, 3)\n"
     ]
    }
   ],
   "source": [
    "# accessing elements is very similar to list\n",
    "print(t[0:2])\n",
    "print(t[::-1])"
   ]
  },
  {
   "cell_type": "code",
   "execution_count": 90,
   "metadata": {},
   "outputs": [
    {
     "ename": "TypeError",
     "evalue": "'tuple' object doesn't support item deletion",
     "output_type": "error",
     "traceback": [
      "\u001b[0;31m---------------------------------------------------------------------------\u001b[0m",
      "\u001b[0;31mTypeError\u001b[0m                                 Traceback (most recent call last)",
      "\u001b[0;32m<ipython-input-90-d5ba1e297a86>\u001b[0m in \u001b[0;36m<module>\u001b[0;34m\u001b[0m\n\u001b[1;32m      1\u001b[0m \u001b[0;31m# immutable\u001b[0m\u001b[0;34m\u001b[0m\u001b[0;34m\u001b[0m\u001b[0;34m\u001b[0m\u001b[0m\n\u001b[0;32m----> 2\u001b[0;31m \u001b[0;32mdel\u001b[0m\u001b[0;34m(\u001b[0m\u001b[0mt\u001b[0m\u001b[0;34m[\u001b[0m\u001b[0;36m2\u001b[0m\u001b[0;34m]\u001b[0m\u001b[0;34m)\u001b[0m\u001b[0;34m\u001b[0m\u001b[0;34m\u001b[0m\u001b[0m\n\u001b[0m",
      "\u001b[0;31mTypeError\u001b[0m: 'tuple' object doesn't support item deletion"
     ]
    }
   ],
   "source": [
    "# immutable\n",
    "del(t[2])"
   ]
  },
  {
   "cell_type": "code",
   "execution_count": 91,
   "metadata": {},
   "outputs": [
    {
     "ename": "TypeError",
     "evalue": "'tuple' object does not support item assignment",
     "output_type": "error",
     "traceback": [
      "\u001b[0;31m---------------------------------------------------------------------------\u001b[0m",
      "\u001b[0;31mTypeError\u001b[0m                                 Traceback (most recent call last)",
      "\u001b[0;32m<ipython-input-91-d1c7a43023bd>\u001b[0m in \u001b[0;36m<module>\u001b[0;34m\u001b[0m\n\u001b[0;32m----> 1\u001b[0;31m \u001b[0mt\u001b[0m\u001b[0;34m[\u001b[0m\u001b[0;36m2\u001b[0m\u001b[0;34m]\u001b[0m \u001b[0;34m=\u001b[0m \u001b[0;36m8\u001b[0m\u001b[0;34m\u001b[0m\u001b[0;34m\u001b[0m\u001b[0m\n\u001b[0m",
      "\u001b[0;31mTypeError\u001b[0m: 'tuple' object does not support item assignment"
     ]
    }
   ],
   "source": [
    "t[2] = 8"
   ]
  },
  {
   "cell_type": "code",
   "execution_count": 94,
   "metadata": {},
   "outputs": [
    {
     "name": "stdout",
     "output_type": "stream",
     "text": [
      "<class 'tuple'>\n"
     ]
    }
   ],
   "source": [
    "t = 4,3,5,2\n",
    "print(type(t))"
   ]
  },
  {
   "cell_type": "code",
   "execution_count": null,
   "metadata": {},
   "outputs": [],
   "source": [
    "# you can modify a mutable object (such as a list)\n",
    "del(t[-1][0])\n",
    "print(t)"
   ]
  },
  {
   "cell_type": "code",
   "execution_count": null,
   "metadata": {},
   "outputs": [],
   "source": [
    "# direct assignment between two tuples\n",
    "a,b,c,d = 3,4,5,2"
   ]
  },
  {
   "cell_type": "code",
   "execution_count": 95,
   "metadata": {},
   "outputs": [],
   "source": [
    "def func(a,b):\n",
    "    return a+b,a-b,a*b,a/b"
   ]
  },
  {
   "cell_type": "code",
   "execution_count": 98,
   "metadata": {},
   "outputs": [
    {
     "ename": "ValueError",
     "evalue": "too many values to unpack (expected 3)",
     "output_type": "error",
     "traceback": [
      "\u001b[0;31m---------------------------------------------------------------------------\u001b[0m",
      "\u001b[0;31mValueError\u001b[0m                                Traceback (most recent call last)",
      "\u001b[0;32m<ipython-input-98-f2703ecd3c14>\u001b[0m in \u001b[0;36m<module>\u001b[0;34m\u001b[0m\n\u001b[0;32m----> 1\u001b[0;31m \u001b[0msm\u001b[0m\u001b[0;34m,\u001b[0m\u001b[0mdif\u001b[0m\u001b[0;34m,\u001b[0m\u001b[0mprod\u001b[0m \u001b[0;34m=\u001b[0m \u001b[0mfunc\u001b[0m\u001b[0;34m(\u001b[0m\u001b[0;36m4\u001b[0m\u001b[0;34m,\u001b[0m\u001b[0;36m5\u001b[0m\u001b[0;34m)\u001b[0m\u001b[0;34m\u001b[0m\u001b[0;34m\u001b[0m\u001b[0m\n\u001b[0m",
      "\u001b[0;31mValueError\u001b[0m: too many values to unpack (expected 3)"
     ]
    }
   ],
   "source": [
    "sm,dif,prod,div = func(4,5)"
   ]
  },
  {
   "cell_type": "code",
   "execution_count": null,
   "metadata": {},
   "outputs": [],
   "source": [
    "t = 1,2,3,4\n",
    "print(type(t))"
   ]
  },
  {
   "cell_type": "code",
   "execution_count": null,
   "metadata": {},
   "outputs": [],
   "source": [
    "t[0] = 4"
   ]
  },
  {
   "cell_type": "code",
   "execution_count": null,
   "metadata": {},
   "outputs": [],
   "source": [
    "codes = [234,137,471,286]\n",
    "names = ['erie','ramsey','clinton','niagara']"
   ]
  },
  {
   "cell_type": "code",
   "execution_count": null,
   "metadata": {},
   "outputs": [],
   "source": [
    "# give me the name of the county with code 471\n",
    "i = codes.index(471)\n",
    "print(names[i])"
   ]
  },
  {
   "cell_type": "code",
   "execution_count": null,
   "metadata": {},
   "outputs": [],
   "source": [
    "codenames = [(234,'erie'),(137,'ramsey')]"
   ]
  },
  {
   "cell_type": "markdown",
   "metadata": {},
   "source": [
    "## Dictionaries\n",
    "Only built in data structure to create **maps**, a collection of `key-value` pairs.\n",
    "\n",
    "Dictionaries are:\n",
    "- Mutable\n",
    "- Unordered\n",
    "- Indexed (for fast lookups)\n",
    "\n",
    "Highly useful in almost every application, where quick access to different types of data is needed.\n"
   ]
  },
  {
   "cell_type": "code",
   "execution_count": 99,
   "metadata": {},
   "outputs": [
    {
     "name": "stdout",
     "output_type": "stream",
     "text": [
      "<class 'dict'>\n"
     ]
    }
   ],
   "source": [
    "# creating an empty dictionary\n",
    "d = {}\n",
    "print(type(d))"
   ]
  },
  {
   "cell_type": "code",
   "execution_count": 114,
   "metadata": {},
   "outputs": [
    {
     "name": "stdout",
     "output_type": "stream",
     "text": [
      "{'k1': 6, 'k2': 8, 'k3': 12, (4, 4, 3, 2): {}}\n"
     ]
    }
   ],
   "source": [
    "# creating a dictionary with values\n",
    "d = {'k1': 6,\n",
    "     'k2': 8,\n",
    "     'k3':12,\n",
    "      (4,4,3,2): {}}\n",
    "print(d)"
   ]
  },
  {
   "cell_type": "code",
   "execution_count": 116,
   "metadata": {},
   "outputs": [
    {
     "ename": "KeyError",
     "evalue": "'k6'",
     "output_type": "error",
     "traceback": [
      "\u001b[0;31m---------------------------------------------------------------------------\u001b[0m",
      "\u001b[0;31mKeyError\u001b[0m                                  Traceback (most recent call last)",
      "\u001b[0;32m<ipython-input-116-59613e2ebe33>\u001b[0m in \u001b[0;36m<module>\u001b[0;34m\u001b[0m\n\u001b[0;32m----> 1\u001b[0;31m \u001b[0md\u001b[0m\u001b[0;34m[\u001b[0m\u001b[0;34m'k6'\u001b[0m\u001b[0;34m]\u001b[0m\u001b[0;34m\u001b[0m\u001b[0;34m\u001b[0m\u001b[0m\n\u001b[0m",
      "\u001b[0;31mKeyError\u001b[0m: 'k6'"
     ]
    }
   ],
   "source": [
    "d['k6']"
   ]
  },
  {
   "cell_type": "code",
   "execution_count": null,
   "metadata": {},
   "outputs": [],
   "source": [
    "# accessing the value for a given key\n",
    "print(d['k1'])\n",
    "print(d.get('k1'))"
   ]
  },
  {
   "cell_type": "code",
   "execution_count": 117,
   "metadata": {},
   "outputs": [
    {
     "data": {
      "text/plain": [
       "4"
      ]
     },
     "execution_count": 117,
     "metadata": {},
     "output_type": "execute_result"
    }
   ],
   "source": [
    "# get number of key value pairs in the dictionary\n",
    "len(d)"
   ]
  },
  {
   "cell_type": "code",
   "execution_count": 118,
   "metadata": {},
   "outputs": [
    {
     "name": "stdout",
     "output_type": "stream",
     "text": [
      "{'k1': 6, 'k2': 19, 'k4': 9, 'k3': 12}\n"
     ]
    }
   ],
   "source": [
    "# adding values to a dictionary\n",
    "d = {}\n",
    "d[\"k1\"] = 6\n",
    "d[\"k2\"] = 8\n",
    "d[\"k4\"] = 9\n",
    "d[\"k3\"] = 12\n",
    "d[\"k2\"] = 19\n",
    "print(d)"
   ]
  },
  {
   "cell_type": "code",
   "execution_count": 123,
   "metadata": {},
   "outputs": [
    {
     "data": {
      "text/plain": [
       "('k1', 'k2', 'k4', 'k3')"
      ]
     },
     "execution_count": 123,
     "metadata": {},
     "output_type": "execute_result"
    }
   ],
   "source": [
    "keys = d.keys()\n",
    "tuple(keys)"
   ]
  },
  {
   "cell_type": "code",
   "execution_count": 124,
   "metadata": {},
   "outputs": [
    {
     "name": "stdout",
     "output_type": "stream",
     "text": [
      "dict_keys(['k1', 'k2', 'k4', 'k3'])\n",
      "dict_values([6, 19, 9, 12])\n",
      "['k1', 'k2', 'k4', 'k3']\n",
      "[6, 19, 9, 12]\n"
     ]
    }
   ],
   "source": [
    "# accessing keys and values\n",
    "keys = d.keys()\n",
    "values = d.values()\n",
    "print(keys)\n",
    "print(values)\n",
    "l_keys = list(keys)\n",
    "print(l_keys)\n",
    "l_values = list(values)\n",
    "print(l_values)"
   ]
  },
  {
   "cell_type": "code",
   "execution_count": null,
   "metadata": {},
   "outputs": [],
   "source": [
    "# iterating over dictionary\n",
    "for k in d.keys():\n",
    "    print(str(k)+\": \"+str(d[k]))"
   ]
  },
  {
   "cell_type": "code",
   "execution_count": null,
   "metadata": {},
   "outputs": [],
   "source": [
    "# simultaneously iterating over keys and values\n",
    "for k,v in d.items():\n",
    "    print(str(k)+\": \"+str(v))"
   ]
  },
  {
   "cell_type": "code",
   "execution_count": null,
   "metadata": {},
   "outputs": [],
   "source": [
    "# checking for a key in dictionary\n",
    "print('k4' in d)\n",
    "print('k9' in d)"
   ]
  },
  {
   "cell_type": "code",
   "execution_count": null,
   "metadata": {},
   "outputs": [],
   "source": [
    "# accessing non-existent key value\n",
    "a = d['k9']"
   ]
  },
  {
   "cell_type": "code",
   "execution_count": 126,
   "metadata": {},
   "outputs": [
    {
     "name": "stdout",
     "output_type": "stream",
     "text": [
      "{'k1': 6, 'k2': 19, 'k4': 9, 'k3': 12, 9: 49}\n",
      "{'k1': 6, 'k2': 19, 'k4': 9, 'k3': 12, 9: 49, ('n1', 4, 5): 56}\n"
     ]
    },
    {
     "ename": "TypeError",
     "evalue": "unhashable type: 'list'",
     "output_type": "error",
     "traceback": [
      "\u001b[0;31m---------------------------------------------------------------------------\u001b[0m",
      "\u001b[0;31mTypeError\u001b[0m                                 Traceback (most recent call last)",
      "\u001b[0;32m<ipython-input-126-2048fa43118a>\u001b[0m in \u001b[0;36m<module>\u001b[0;34m\u001b[0m\n\u001b[1;32m      5\u001b[0m \u001b[0mprint\u001b[0m\u001b[0;34m(\u001b[0m\u001b[0md\u001b[0m\u001b[0;34m)\u001b[0m\u001b[0;34m\u001b[0m\u001b[0;34m\u001b[0m\u001b[0m\n\u001b[1;32m      6\u001b[0m \u001b[0;31m# but not a mutable object\u001b[0m\u001b[0;34m\u001b[0m\u001b[0;34m\u001b[0m\u001b[0;34m\u001b[0m\u001b[0m\n\u001b[0;32m----> 7\u001b[0;31m \u001b[0md\u001b[0m\u001b[0;34m[\u001b[0m\u001b[0;34m[\u001b[0m\u001b[0;36m6\u001b[0m\u001b[0;34m,\u001b[0m\u001b[0;36m4\u001b[0m\u001b[0;34m,\u001b[0m\u001b[0;36m5\u001b[0m\u001b[0;34m]\u001b[0m\u001b[0;34m]\u001b[0m \u001b[0;34m=\u001b[0m \u001b[0;36m63\u001b[0m\u001b[0;34m\u001b[0m\u001b[0;34m\u001b[0m\u001b[0m\n\u001b[0m",
      "\u001b[0;31mTypeError\u001b[0m: unhashable type: 'list'"
     ]
    }
   ],
   "source": [
    "# can use any immutable object as a key\n",
    "d[9] = 49\n",
    "print(d)\n",
    "d[('n1',4,5)] = 56\n",
    "print(d)\n",
    "# but not a mutable object\n",
    "d[[6,4,5]] = 63"
   ]
  },
  {
   "cell_type": "code",
   "execution_count": 127,
   "metadata": {},
   "outputs": [
    {
     "name": "stdout",
     "output_type": "stream",
     "text": [
      "{'k1': 6, 'k2': 19, 'k4': 9, 'k3': 12, 9: 49, ('n1', 4, 5): 56, 7: {...}}\n"
     ]
    }
   ],
   "source": [
    "# value can be of any type (mutable or immutable)\n",
    "d[7] = d\n",
    "print(d)"
   ]
  },
  {
   "cell_type": "markdown",
   "metadata": {},
   "source": [
    "#### Hash Based Indexing\n",
    "Python dictionaries are implemented as a _hash table_. Each `key` is hashed using a hash-function (see `hash()` for a similar function in `Python`). The hash allows you to directly access the location containing the `value` in $O(1)$ time."
   ]
  },
  {
   "cell_type": "code",
   "execution_count": 134,
   "metadata": {},
   "outputs": [
    {
     "name": "stdout",
     "output_type": "stream",
     "text": [
      "1\n",
      "124405296501882745\n",
      "-1553287159474044025\n",
      "4596644085870321822\n"
     ]
    }
   ],
   "source": [
    "# All immutables types are hashable\n",
    "print(hash(1))\n",
    "print(hash('Varun'))\n",
    "print(hash(('varun','anynumber')))\n",
    "print(hash(('Varun','anynumber')))"
   ]
  },
  {
   "cell_type": "code",
   "execution_count": 135,
   "metadata": {},
   "outputs": [
    {
     "name": "stdout",
     "output_type": "stream",
     "text": [
      "Help on built-in function hash in module builtins:\n",
      "\n",
      "hash(obj, /)\n",
      "    Return the hash value for the given object.\n",
      "    \n",
      "    Two objects that compare equal must also have the same hash value, but the\n",
      "    reverse is not necessarily true.\n",
      "\n"
     ]
    }
   ],
   "source": [
    "help(hash)"
   ]
  },
  {
   "cell_type": "code",
   "execution_count": 130,
   "metadata": {},
   "outputs": [
    {
     "ename": "TypeError",
     "evalue": "unhashable type: 'list'",
     "output_type": "error",
     "traceback": [
      "\u001b[0;31m---------------------------------------------------------------------------\u001b[0m",
      "\u001b[0;31mTypeError\u001b[0m                                 Traceback (most recent call last)",
      "\u001b[0;32m<ipython-input-130-402c5a296459>\u001b[0m in \u001b[0;36m<module>\u001b[0;34m\u001b[0m\n\u001b[1;32m      1\u001b[0m \u001b[0;31m# All mutable types are not\u001b[0m\u001b[0;34m\u001b[0m\u001b[0;34m\u001b[0m\u001b[0;34m\u001b[0m\u001b[0m\n\u001b[0;32m----> 2\u001b[0;31m \u001b[0mprint\u001b[0m\u001b[0;34m(\u001b[0m\u001b[0mhash\u001b[0m\u001b[0;34m(\u001b[0m\u001b[0;34m[\u001b[0m\u001b[0;34m'varun'\u001b[0m\u001b[0;34m,\u001b[0m\u001b[0;36m10\u001b[0m\u001b[0;34m]\u001b[0m\u001b[0;34m)\u001b[0m\u001b[0;34m)\u001b[0m\u001b[0;34m\u001b[0m\u001b[0;34m\u001b[0m\u001b[0m\n\u001b[0m",
      "\u001b[0;31mTypeError\u001b[0m: unhashable type: 'list'"
     ]
    }
   ],
   "source": [
    "# All mutable types are not\n",
    "print(hash(['varun',10]))"
   ]
  },
  {
   "cell_type": "markdown",
   "metadata": {},
   "source": [
    "The \"hashability\" property determines if a type maybe used as a `key` in a dictionary. Clearly, a mutable type cannot be used as a key because its hash value can change over the course of the program."
   ]
  },
  {
   "cell_type": "markdown",
   "metadata": {},
   "source": [
    "### Why use Dictionaries?\n",
    "_Example_: Consider an application that requires the geographical coordinates for a US County name. We will build two mini applications: one that relies on lists, and one that uses dictionaries"
   ]
  },
  {
   "cell_type": "markdown",
   "metadata": {},
   "source": [
    "**Solution 1** Using list of tuples"
   ]
  },
  {
   "cell_type": "code",
   "execution_count": 136,
   "metadata": {},
   "outputs": [],
   "source": [
    "import csv #we are going to use the csv module available in Python to read a csv file "
   ]
  },
  {
   "cell_type": "code",
   "execution_count": 137,
   "metadata": {},
   "outputs": [],
   "source": [
    "def listcreate():\n",
    "    # reading the csv file with county data\n",
    "    data = []\n",
    "    # the open command uses the iso-8859-1 encoding instead of the usual utf-8 because the file contains accented characters\n",
    "    f = open('./us_counties.csv',encoding='iso-8859-1')\n",
    "    #with open('./us_counties.csv',encoding='utf-8') as f:\n",
    "    reader = csv.reader(f)\n",
    "    next(reader) # skip the header using the in-built function next which just skips one entry in an iterator\n",
    "    for row in reader:\n",
    "        #row will be a list consisting of all the tokens in a given row of the file\n",
    "        name = row[3]\n",
    "        lat = float(row[10])\n",
    "        lon = float(row[11])\n",
    "        data.append((name,lat,lon))\n",
    "    f.close()\n",
    "    return data\n",
    "        "
   ]
  },
  {
   "cell_type": "code",
   "execution_count": 141,
   "metadata": {},
   "outputs": [
    {
     "name": "stdout",
     "output_type": "stream",
     "text": [
      "6.76 ms ± 46.1 µs per loop (mean ± std. dev. of 7 runs, 100 loops each)\n"
     ]
    }
   ],
   "source": [
    "timeit listcreate()"
   ]
  },
  {
   "cell_type": "code",
   "execution_count": 138,
   "metadata": {},
   "outputs": [],
   "source": [
    "data = listcreate()"
   ]
  },
  {
   "cell_type": "markdown",
   "metadata": {},
   "source": [
    "Now let us say, we need the coordinates of a given county"
   ]
  },
  {
   "cell_type": "code",
   "execution_count": 145,
   "metadata": {},
   "outputs": [
    {
     "name": "stdout",
     "output_type": "stream",
     "text": [
      "('Ponce Municipio', 18.001717, -66.606662)\n"
     ]
    }
   ],
   "source": [
    "countyname = 'Ponce Municipio'\n",
    "# only way to find the coordinates will be to iterate through data\n",
    "for d in data:\n",
    "    if d[0] == countyname:\n",
    "        print(d)\n",
    "        break\n",
    "    "
   ]
  },
  {
   "cell_type": "markdown",
   "metadata": {},
   "source": [
    "**Solution 1 (a)** Using separate lists"
   ]
  },
  {
   "cell_type": "code",
   "execution_count": 147,
   "metadata": {},
   "outputs": [],
   "source": [
    "def listcreate2():\n",
    "    # reading the csv file with county data\n",
    "    names = []\n",
    "    coordinates = []\n",
    "    # the open command uses the iso-8859-1 encoding instead of the usual utf-8 because the file contains accented characters\n",
    "    with open('./us_counties.csv',encoding='iso-8859-1') as f:\n",
    "    #with open('./us_counties.csv',encoding='utf-8') as f:\n",
    "        reader = csv.reader(f)\n",
    "        next(reader) # skip the header using the in-built function next which just skips one entry in an iterator\n",
    "        for row in reader:\n",
    "            #row will be a list consisting of all the tokens in a given row of the file\n",
    "            name = row[3]\n",
    "            lat = float(row[10])\n",
    "            lon = float(row[11])\n",
    "            names.append(name)\n",
    "            coordinates.append((lat,lon))\n",
    "    return names,coordinates\n",
    "        "
   ]
  },
  {
   "cell_type": "code",
   "execution_count": 148,
   "metadata": {},
   "outputs": [],
   "source": [
    "names,coordinates = listcreate2()"
   ]
  },
  {
   "cell_type": "code",
   "execution_count": 151,
   "metadata": {},
   "outputs": [
    {
     "name": "stdout",
     "output_type": "stream",
     "text": [
      "(18.001717, -66.606662)\n"
     ]
    }
   ],
   "source": [
    "countyname = 'Ponce Municipio'\n",
    "i = names.index(countyname)\n",
    "print(coordinates[i])"
   ]
  },
  {
   "cell_type": "markdown",
   "metadata": {},
   "source": [
    "**Solution 2** Using dictionary"
   ]
  },
  {
   "cell_type": "code",
   "execution_count": 153,
   "metadata": {},
   "outputs": [],
   "source": [
    "def dictcreate():\n",
    "    # reading the csv file with county data\n",
    "    coordinateMap = {} #initializing an empty dictionary\n",
    "    # the open command uses the iso-8859-1 encoding instead of the usual utf-8 because the file contains accented characters\n",
    "    with open('./us_counties.csv',encoding='iso-8859-1') as f:\n",
    "    #with open('./us_counties.csv',encoding='utf-8') as f:\n",
    "        reader = csv.reader(f)\n",
    "        next(reader) # skip the header using the in-built function next which just skips one entry in an iterator\n",
    "        for row in reader:\n",
    "            #row will be a list consisting of all the tokens in a given row of the file\n",
    "            name = row[3]\n",
    "            lat = float(row[10])\n",
    "            lon = float(row[11])\n",
    "            coordinateMap[name] = (lat,lon)\n",
    "    return coordinateMap"
   ]
  },
  {
   "cell_type": "code",
   "execution_count": 154,
   "metadata": {},
   "outputs": [],
   "source": [
    "coordinateMap = dictcreate()"
   ]
  },
  {
   "cell_type": "code",
   "execution_count": 157,
   "metadata": {},
   "outputs": [
    {
     "name": "stdout",
     "output_type": "stream",
     "text": [
      "(18.001717, -66.606662)\n"
     ]
    }
   ],
   "source": [
    "countyname = 'Ponce Municipio'\n",
    "print(coordinateMap[countyname])"
   ]
  },
  {
   "cell_type": "markdown",
   "metadata": {},
   "source": [
    "Which approach is better? Clearly solution 1 requires extra lines for accessing data. Solution 1a is shorter, however, requires two lookups, first the index of the name in the names list and then getting the corresponding coordinate entry.\n",
    "\n",
    "Which one is faster? Let us first investigate the creation of the data structures."
   ]
  },
  {
   "cell_type": "code",
   "execution_count": 158,
   "metadata": {},
   "outputs": [
    {
     "name": "stdout",
     "output_type": "stream",
     "text": [
      "7.15 ms ± 152 µs per loop (mean ± std. dev. of 7 runs, 100 loops each)\n"
     ]
    }
   ],
   "source": [
    "timeit listcreate()"
   ]
  },
  {
   "cell_type": "code",
   "execution_count": 159,
   "metadata": {},
   "outputs": [
    {
     "name": "stdout",
     "output_type": "stream",
     "text": [
      "6.95 ms ± 37.5 µs per loop (mean ± std. dev. of 7 runs, 100 loops each)\n"
     ]
    }
   ],
   "source": [
    "timeit dictcreate()"
   ]
  },
  {
   "cell_type": "markdown",
   "metadata": {},
   "source": [
    "Both seem to be equal. In fact, creating lists might be faster than the dictionary. How about accessing?"
   ]
  },
  {
   "cell_type": "code",
   "execution_count": 160,
   "metadata": {},
   "outputs": [],
   "source": [
    "countyname = 'Ponce Municipio'"
   ]
  },
  {
   "cell_type": "code",
   "execution_count": 161,
   "metadata": {},
   "outputs": [],
   "source": [
    "def listaccess(names,coordinates,countyname):\n",
    "    i = names.index(countyname)\n",
    "    c = coordinates[i]\n",
    "    return c"
   ]
  },
  {
   "cell_type": "code",
   "execution_count": 162,
   "metadata": {},
   "outputs": [
    {
     "name": "stdout",
     "output_type": "stream",
     "text": [
      "38.6 µs ± 1.17 µs per loop (mean ± std. dev. of 7 runs, 10000 loops each)\n"
     ]
    }
   ],
   "source": [
    "timeit listaccess(names,coordinates,countyname)"
   ]
  },
  {
   "cell_type": "code",
   "execution_count": 163,
   "metadata": {},
   "outputs": [],
   "source": [
    "def dictaccess(coordinateMap,countyname):\n",
    "    c = coordinateMap[countyname]\n",
    "    return c"
   ]
  },
  {
   "cell_type": "code",
   "execution_count": 164,
   "metadata": {},
   "outputs": [
    {
     "name": "stdout",
     "output_type": "stream",
     "text": [
      "121 ns ± 2.06 ns per loop (mean ± std. dev. of 7 runs, 10000000 loops each)\n"
     ]
    }
   ],
   "source": [
    "timeit dictaccess(coordinateMap,countyname)"
   ]
  },
  {
   "cell_type": "markdown",
   "metadata": {},
   "source": [
    "Aha! It appears that using a `dict` is much better than using `list` in terms of accessing relevant values"
   ]
  },
  {
   "cell_type": "markdown",
   "metadata": {},
   "source": [
    "#### Space requirement\n",
    "Of course, another issue is the space needed to store each of the representations in the memory. Clearly, the `dict` data structure would be larger as it requires storing the hash values as well as the original data."
   ]
  },
  {
   "cell_type": "code",
   "execution_count": 165,
   "metadata": {},
   "outputs": [
    {
     "name": "stdout",
     "output_type": "stream",
     "text": [
      "73824\n",
      "53472\n"
     ]
    }
   ],
   "source": [
    "import sys\n",
    "print(sys.getsizeof(coordinateMap))\n",
    "print(sys.getsizeof(coordinates)+sys.getsizeof(names))"
   ]
  },
  {
   "cell_type": "markdown",
   "metadata": {},
   "source": [
    "### Note on order of keys\n",
    "The keys are unordered collections. Which means that when you iterate over them, you might not get the same order as how they were added to the dictionary. This is differen from a `list`.\n",
    "\n",
    "You can use the inbuilt function `sorted()` to sort the keys."
   ]
  },
  {
   "cell_type": "code",
   "execution_count": 1,
   "metadata": {
    "scrolled": true
   },
   "outputs": [],
   "source": [
    "d = {'key1': -9, 'key2': 'value2','key0': 'value0','key9': 2,'key7': 'value7'}"
   ]
  },
  {
   "cell_type": "code",
   "execution_count": 2,
   "metadata": {},
   "outputs": [
    {
     "name": "stdout",
     "output_type": "stream",
     "text": [
      "key1:-9\n",
      "key2:value2\n",
      "key0:value0\n",
      "key9:2\n",
      "key7:value7\n"
     ]
    }
   ],
   "source": [
    "for k in d.keys():\n",
    "    print(k+\":\"+str(d[k]))"
   ]
  },
  {
   "cell_type": "code",
   "execution_count": 3,
   "metadata": {},
   "outputs": [
    {
     "name": "stdout",
     "output_type": "stream",
     "text": [
      "key0:value0\n",
      "key1:-9\n",
      "key2:value2\n",
      "key7:value7\n",
      "key9:2\n"
     ]
    }
   ],
   "source": [
    "for k in sorted(d.keys()):\n",
    "    print(k+\":\"+str(d[k]))"
   ]
  },
  {
   "cell_type": "markdown",
   "metadata": {},
   "source": [
    "## Sets\n",
    "`Set` is an unordered collection with no duplicate elements. Basic uses include membership testing and eliminating duplicate entries. Set objects also support mathematical operations like union, intersection, difference, and symmetric difference.\n",
    "\n",
    "Curly braces or the `set()` function can be used to create sets. Note: to create an empty set you have to use set(), not {}; the latter creates an empty dictionary. \n"
   ]
  },
  {
   "cell_type": "code",
   "execution_count": 169,
   "metadata": {},
   "outputs": [
    {
     "name": "stdout",
     "output_type": "stream",
     "text": [
      "<class 'set'>\n",
      "{'sdf', 3, 5, 6}\n"
     ]
    }
   ],
   "source": [
    "s = set({3,5,6,3,'sdf'})\n",
    "print(type(s))\n",
    "print(s)"
   ]
  },
  {
   "cell_type": "code",
   "execution_count": 173,
   "metadata": {},
   "outputs": [
    {
     "name": "stdout",
     "output_type": "stream",
     "text": [
      "set()\n"
     ]
    }
   ],
   "source": [
    "s = set({})\n",
    "print(s)"
   ]
  },
  {
   "cell_type": "code",
   "execution_count": null,
   "metadata": {},
   "outputs": [],
   "source": [
    "s = set({4,5})\n",
    "print(type(s))\n",
    "print(s)\n",
    "s = {4,5}\n",
    "print(type(s))\n",
    "print(s)"
   ]
  },
  {
   "cell_type": "markdown",
   "metadata": {},
   "source": [
    "You can convert any other Python collection to set using the `set()` function."
   ]
  },
  {
   "cell_type": "code",
   "execution_count": null,
   "metadata": {},
   "outputs": [],
   "source": [
    "s = set([3,6,2,1,3,45,6,3,2,1])\n",
    "print(type(s))\n",
    "print(s)"
   ]
  },
  {
   "cell_type": "code",
   "execution_count": null,
   "metadata": {},
   "outputs": [],
   "source": [
    "s = set({'s':1,'t':2})\n",
    "print(type(s))\n",
    "print(s)"
   ]
  },
  {
   "cell_type": "code",
   "execution_count": null,
   "metadata": {},
   "outputs": [],
   "source": [
    "s = set((4,3,'f'))\n",
    "print(type(s))\n",
    "print(s)"
   ]
  },
  {
   "cell_type": "code",
   "execution_count": null,
   "metadata": {},
   "outputs": [],
   "source": [
    "s1 = set(['apples','oranges','bananas'])\n",
    "s2 = set(['pineapples','avocados','mangoes','apples','bananas'])\n",
    "print(list(s1.intersection(s2)))\n",
    "print(s1.union(s2))\n",
    "print(s1.difference(s2))"
   ]
  }
 ],
 "metadata": {
  "kernelspec": {
   "display_name": "Python 3",
   "language": "python",
   "name": "python3"
  },
  "language_info": {
   "codemirror_mode": {
    "name": "ipython",
    "version": 3
   },
   "file_extension": ".py",
   "mimetype": "text/x-python",
   "name": "python",
   "nbconvert_exporter": "python",
   "pygments_lexer": "ipython3",
   "version": "3.6.8"
  }
 },
 "nbformat": 4,
 "nbformat_minor": 2
}
