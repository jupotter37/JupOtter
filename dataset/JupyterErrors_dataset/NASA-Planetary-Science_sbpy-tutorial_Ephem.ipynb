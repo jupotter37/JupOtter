{
 "cells": [
  {
   "cell_type": "markdown",
   "metadata": {},
   "source": [
    "sbpy.data.Ephem Example Notebooks\n",
    "=================================\n",
    "\n",
    "[Ephem](https://sbpy.readthedocs.io/en/latest/api/sbpy.data.Ephem.html#sbpy.data.Ephem) provides functionality to query, calculate, manipulate, and store ephemerides and observational information."
   ]
  },
  {
   "cell_type": "markdown",
   "metadata": {},
   "source": [
    "Querying Asteroid Ephemerides from JPL Horizons\n",
    "---------------------------------------\n",
    "\n",
    "Query ephemerides for three asteroids in a given date range as observed from Maunakea (observatory code 568) using [sbpy.data.Ephem.from_horizons](https://sbpy.readthedocs.io/en/latest/api/sbpy.data.Ephem.html#sbpy.data.Ephem.from_horizons). This function uses [astroquery.jplhorizons](https://astroquery.readthedocs.io/en/latest/jplhorizons/jplhorizons.html) in the background and creates Ephem objects from the query results:"
   ]
  },
  {
   "cell_type": "code",
   "execution_count": 1,
   "metadata": {},
   "outputs": [
    {
     "data": {
      "text/html": [
       "<i>QTable masked=True length=2235</i>\n",
       "<table id=\"table140339147288816\" class=\"table-striped table-bordered table-condensed\">\n",
       "<thead><tr><th>targetname</th><th>H</th><th>G</th><th>solar_presence</th><th>flags</th><th>RA</th><th>DEC</th><th>RA_app</th><th>DEC_app</th><th>RA*cos(Dec)_rate</th><th>DEC_rate</th><th>AZ</th><th>EL</th><th>AZ_rate</th><th>EL_rate</th><th>sat_X</th><th>sat_Y</th><th>sat_PANG</th><th>siderealtime</th><th>airmass</th><th>magextinct</th><th>V</th><th>surfbright</th><th>illumination</th><th>illum_defect</th><th>sat_sep</th><th>sat_vis</th><th>ang_width</th><th>PDObsLon</th><th>PDObsLat</th><th>PDSunLon</th><th>PDSunLat</th><th>SubSol_ang</th><th>SubSol_dist</th><th>NPole_ang</th><th>NPole_dist</th><th>EclLon</th><th>EclLat</th><th>r</th><th>r_rate</th><th>delta</th><th>delta_rate</th><th>lighttime</th><th>vel_sun</th><th>vel_obs</th><th>elong</th><th>elongFlag</th><th>alpha</th><th>lunar_elong</th><th>lunar_illum</th><th>sat_alpha</th><th>sunTargetPA</th><th>velocityPA</th><th>OrbPlaneAng</th><th>constellation</th><th>TDB-UT</th><th>ObsEclLon</th><th>ObsEclLat</th><th>NPole_RA</th><th>NPole_DEC</th><th>GlxLon</th><th>GlxLat</th><th>solartime</th><th>earth_lighttime</th><th>RA_3sigma</th><th>DEC_3sigma</th><th>SMAA_3sigma</th><th>SMIA_3sigma</th><th>Theta_3sigma</th><th>Area_3sigma</th><th>RSS_3sigma</th><th>r_3sigma</th><th>r_rate_3sigma</th><th>SBand_3sigma</th><th>XBand_3sigma</th><th>DoppDelay_3sigma</th><th>true_anom</th><th>hour_angle</th><th>alpha_true</th><th>PABLon</th><th>PABLat</th><th>epoch</th></tr></thead>\n",
       "<thead><tr><th></th><th>mag</th><th></th><th></th><th></th><th>deg</th><th>deg</th><th>deg</th><th>deg</th><th>arcsec / h</th><th>arcsec / h</th><th>deg</th><th>deg</th><th>arcsec / min</th><th>arcsec / min</th><th>arcsec</th><th>arcsec</th><th>deg</th><th>h</th><th></th><th>mag</th><th>mag</th><th>mag / arcsec2</th><th>%</th><th>arcsec</th><th>arcsec</th><th></th><th>arcsec</th><th>deg</th><th>deg</th><th>deg</th><th>deg</th><th>deg</th><th>arcsec</th><th>deg</th><th>arcsec</th><th>deg</th><th>deg</th><th>AU</th><th>km / s</th><th>AU</th><th>km / s</th><th>min</th><th>km / s</th><th>km / s</th><th>deg</th><th></th><th>deg</th><th>deg</th><th>%</th><th>deg</th><th>deg</th><th>deg</th><th>deg</th><th></th><th>s</th><th>deg</th><th>deg</th><th>deg</th><th>deg</th><th>deg</th><th>deg</th><th></th><th>min</th><th>arcsec</th><th>arcsec</th><th>arcsec</th><th>arcsec</th><th>deg</th><th>arcsec2</th><th>arcsec</th><th>km</th><th>km / s</th><th>Hz</th><th>Hz</th><th>s</th><th>deg</th><th></th><th>deg</th><th>deg</th><th>deg</th><th></th></tr></thead>\n",
       "<thead><tr><th>str24</th><th>float64</th><th>float64</th><th>str1</th><th>str1</th><th>float64</th><th>float64</th><th>float64</th><th>float64</th><th>float64</th><th>float64</th><th>float64</th><th>float64</th><th>float64</th><th>float64</th><th>float64</th><th>float64</th><th>float64</th><th>float64</th><th>float64</th><th>float64</th><th>float64</th><th>float64</th><th>float64</th><th>float64</th><th>float64</th><th>str1</th><th>float64</th><th>float64</th><th>float64</th><th>float64</th><th>float64</th><th>float64</th><th>float64</th><th>float64</th><th>float64</th><th>float64</th><th>float64</th><th>float64</th><th>float64</th><th>float64</th><th>float64</th><th>float64</th><th>float64</th><th>float64</th><th>float64</th><th>str2</th><th>float64</th><th>float64</th><th>float64</th><th>float64</th><th>float64</th><th>float64</th><th>float64</th><th>str3</th><th>float64</th><th>float64</th><th>float64</th><th>float64</th><th>float64</th><th>float64</th><th>float64</th><th>float64</th><th>float64</th><th>float64</th><th>float64</th><th>float64</th><th>float64</th><th>float64</th><th>float64</th><th>float64</th><th>float64</th><th>float64</th><th>float64</th><th>float64</th><th>float64</th><th>float64</th><th>float64</th><th>float64</th><th>float64</th><th>float64</th><th>object</th></tr></thead>\n",
       "<tr><td>2100 Ra-Shalom (1978 RA)</td><td>16.05</td><td>0.12</td><td>*</td><td></td><td>298.39175</td><td>-15.55282</td><td>298.63771</td><td>-15.5047</td><td>134.878</td><td>14.838</td><td>190.6996</td><td>54.0982</td><td>853.05</td><td>-156.97</td><td>57021.64</td><td>27057.68</td><td>68.218</td><td>20.3416632849</td><td>1.233</td><td>0.134</td><td>18.53</td><td>4.31</td><td>97.902</td><td>3.4e-05</td><td>64368.56</td><td>*</td><td>0.001631</td><td>0.0</td><td>0.0</td><td>0.0</td><td>0.0</td><td>242.49</td><td>0.0</td><td>0.0</td><td>0.0</td><td>313.5825</td><td>9.6866</td><td>1.052945357469</td><td>8.940962</td><td>1.94452400046837</td><td>11.5251474</td><td>16.172113</td><td>24.87625</td><td>54.39145</td><td>17.8802</td><td>/T</td><td>16.6621</td><td>147.9</td><td>98.1</td><td>145.4537</td><td>62.577</td><td>267.646</td><td>7.52998</td><td>Sgr</td><td>69.18394</td><td>297.6297492</td><td>5.226016</td><td>0.0</td><td>0.0</td><td>25.501757</td><td>-20.596365</td><td>13.5798077532</td><td>0.000355</td><td>0.023</td><td>0.009</td><td>0.024</td><td>0.004</td><td>-18.146</td><td>0.0</td><td>0.025</td><td>15.8015</td><td>7.2e-06</td><td>0.04</td><td>0.15</td><td>0.000105</td><td>145.6446</td><td>0.432482349</td><td>16.657</td><td>305.4411</td><td>7.5319</td><td>2458119.5</td></tr>\n",
       "<tr><td>2100 Ra-Shalom (1978 RA)</td><td>16.05</td><td>0.12</td><td>*</td><td></td><td>298.43064</td><td>-15.54874</td><td>298.67659</td><td>-15.50057</td><td>134.91</td><td>14.93554</td><td>212.434</td><td>48.8381</td><td>739.13</td><td>-453.94</td><td>57001.51</td><td>27060.06</td><td>68.206</td><td>21.3444013036</td><td>1.327</td><td>0.145</td><td>18.53</td><td>4.31</td><td>97.904</td><td>3.4e-05</td><td>64350.73</td><td>*</td><td>0.001631</td><td>0.0</td><td>0.0</td><td>0.0</td><td>0.0</td><td>242.48</td><td>0.0</td><td>0.0</td><td>0.0</td><td>313.6126</td><td>9.68</td><td>1.053160425562</td><td>8.9340229</td><td>1.94480259652141</td><td>11.6279921</td><td>16.17443</td><td>24.86934</td><td>54.43705</td><td>17.8752</td><td>/T</td><td>16.6541</td><td>148.6</td><td>98.3</td><td>145.4667</td><td>62.569</td><td>267.641</td><td>7.5269</td><td>Sgr</td><td>69.183941</td><td>297.6674688</td><td>5.2228937</td><td>0.0</td><td>0.0</td><td>25.521794</td><td>-20.629056</td><td>14.5795191048</td><td>0.000355</td><td>0.023</td><td>0.009</td><td>0.024</td><td>0.004</td><td>-18.153</td><td>0.0</td><td>0.025</td><td>15.7967</td><td>7.2e-06</td><td>0.04</td><td>0.15</td><td>0.000105</td><td>145.675</td><td>1.432628363</td><td>16.6489</td><td>305.475</td><td>7.5269</td><td>2458119.541666667</td></tr>\n",
       "<tr><td>2100 Ra-Shalom (1978 RA)</td><td>16.05</td><td>0.12</td><td>*</td><td></td><td>298.46956</td><td>-15.54464</td><td>298.71549</td><td>-15.49642</td><td>135.0128</td><td>15.02554</td><td>228.1056</td><td>39.6563</td><td>596.08</td><td>-630.15</td><td>56981.11</td><td>27062.31</td><td>68.195</td><td>22.347139323</td><td>1.564</td><td>0.17</td><td>18.53</td><td>4.31</td><td>97.906</td><td>3.4e-05</td><td>64332.6</td><td>*</td><td>0.00163</td><td>0.0</td><td>0.0</td><td>0.0</td><td>0.0</td><td>242.47</td><td>0.0</td><td>0.0</td><td>0.0</td><td>313.6427</td><td>9.6734</td><td>1.053375326608</td><td>8.927084</td><td>1.94508355503987</td><td>11.7203265</td><td>16.176767</td><td>24.86243</td><td>54.50724</td><td>17.8702</td><td>/T</td><td>16.6461</td><td>149.4</td><td>98.5</td><td>145.4798</td><td>62.561</td><td>267.636</td><td>7.52381</td><td>Sgr</td><td>69.183941</td><td>297.7052061</td><td>5.219786</td><td>0.0</td><td>0.0</td><td>25.541865</td><td>-20.661751</td><td>15.5792237152</td><td>0.000355</td><td>0.023</td><td>0.009</td><td>0.024</td><td>0.004</td><td>-18.159</td><td>0.0</td><td>0.025</td><td>15.7918</td><td>7.2e-06</td><td>0.04</td><td>0.15</td><td>0.000105</td><td>145.7054</td><td>2.432773489</td><td>16.6409</td><td>305.509</td><td>7.522</td><td>2458119.583333333</td></tr>\n",
       "<tr><td>2100 Ra-Shalom (1978 RA)</td><td>16.05</td><td>0.12</td><td>*</td><td>m</td><td>298.50851</td><td>-15.54051</td><td>298.75441</td><td>-15.49223</td><td>135.1767</td><td>15.10336</td><td>238.9077</td><td>28.2827</td><td>476.25</td><td>-724.98</td><td>56960.39</td><td>27064.45</td><td>68.183</td><td>23.349877343</td><td>2.102</td><td>0.229</td><td>18.53</td><td>4.31</td><td>97.908</td><td>3.4e-05</td><td>64314.12</td><td>*</td><td>0.00163</td><td>0.0</td><td>0.0</td><td>0.0</td><td>0.0</td><td>242.46</td><td>0.0</td><td>0.0</td><td>0.0</td><td>313.6727</td><td>9.6669</td><td>1.053590060624</td><td>8.9201455</td><td>1.94536654232356</td><td>11.7955957</td><td>16.17912</td><td>24.85552</td><td>54.59663</td><td>17.865</td><td>/T</td><td>16.638</td><td>150.0</td><td>98.6</td><td>145.493</td><td>62.553</td><td>267.632</td><td>7.52069</td><td>Sgr</td><td>69.183942</td><td>297.7429793</td><td>5.2166868</td><td>0.0</td><td>0.0</td><td>25.561976</td><td>-20.694466</td><td>16.5789194223</td><td>0.000355</td><td>0.023</td><td>0.009</td><td>0.024</td><td>0.004</td><td>-18.166</td><td>0.0</td><td>0.025</td><td>15.787</td><td>7.2e-06</td><td>0.04</td><td>0.15</td><td>0.000105</td><td>145.7357</td><td>3.432916404</td><td>16.6328</td><td>305.5431</td><td>7.517</td><td>2458119.625</td></tr>\n",
       "<tr><td>2100 Ra-Shalom (1978 RA)</td><td>16.05</td><td>0.12</td><td>C</td><td>m</td><td>298.54752</td><td>-15.53636</td><td>298.79339</td><td>-15.48803</td><td>135.3878</td><td>15.16521</td><td>246.6471</td><td>15.7227</td><td>385.05</td><td>-777.29</td><td>56939.34</td><td>27066.53</td><td>68.172</td><td>0.3526153636</td><td>3.634</td><td>0.396</td><td>18.53</td><td>4.31</td><td>97.91</td><td>3.4e-05</td><td>64295.3</td><td>*</td><td>0.00163</td><td>0.0</td><td>0.0</td><td>0.0</td><td>0.0</td><td>242.46</td><td>0.0</td><td>0.0</td><td>0.0</td><td>313.7028</td><td>9.6603</td><td>1.053804627632</td><td>8.9132073</td><td>1.94565108009274</td><td>11.8484072</td><td>16.181487</td><td>24.84862</td><td>54.69858</td><td>17.8598</td><td>/T</td><td>16.6298</td><td>150.6</td><td>98.7</td><td>145.5064</td><td>62.544</td><td>267.627</td><td>7.51756</td><td>Sgr</td><td>69.183943</td><td>297.7808037</td><td>5.2135894</td><td>0.0</td><td>0.0</td><td>25.582131</td><td>-20.72722</td><td>17.5786046815</td><td>0.000355</td><td>0.023</td><td>0.009</td><td>0.024</td><td>0.004</td><td>-18.173</td><td>0.0</td><td>0.025</td><td>15.7822</td><td>7.2e-06</td><td>0.04</td><td>0.15</td><td>0.000105</td><td>145.7661</td><td>4.433055991</td><td>16.6246</td><td>305.5771</td><td>7.5121</td><td>2458119.666666667</td></tr>\n",
       "<tr><td>2100 Ra-Shalom (1978 RA)</td><td>16.05</td><td>0.12</td><td>A</td><td>m</td><td>298.5866</td><td>-15.5322</td><td>298.83243</td><td>-15.48382</td><td>135.6291</td><td>15.2084</td><td>252.5574</td><td>2.4925</td><td>316.28</td><td>-807.74</td><td>56917.94</td><td>27068.6</td><td>68.16</td><td>1.3553533849</td><td>16.07</td><td>1.751</td><td>18.53</td><td>4.31</td><td>97.912</td><td>3.4e-05</td><td>64276.16</td><td>*</td><td>0.00163</td><td>0.0</td><td>0.0</td><td>0.0</td><td>0.0</td><td>242.45</td><td>0.0</td><td>0.0</td><td>0.0</td><td>313.7328</td><td>9.6537</td><td>1.054019027658</td><td>8.9062694</td><td>1.94593657807863</td><td>11.8748993</td><td>16.183861</td><td>24.84173</td><td>54.80559</td><td>17.8545</td><td>/T</td><td>16.6216</td><td>151.1</td><td>98.8</td><td>145.52</td><td>62.536</td><td>267.622</td><td>7.51442</td><td>Sgr</td><td>69.183945</td><td>297.8186904</td><td>5.2104869</td><td>0.0</td><td>0.0</td><td>25.60233</td><td>-20.760024</td><td>18.5782786703</td><td>0.000355</td><td>0.023</td><td>0.009</td><td>0.024</td><td>0.004</td><td>-18.179</td><td>0.0</td><td>0.025</td><td>15.7774</td><td>7.2e-06</td><td>0.04</td><td>0.15</td><td>0.000105</td><td>145.7964</td><td>5.433191411</td><td>16.6163</td><td>305.6111</td><td>7.5071</td><td>2458119.708333333</td></tr>\n",
       "<tr><td>2100 Ra-Shalom (1978 RA)</td><td>16.05</td><td>0.12</td><td></td><td>m</td><td>298.62574</td><td>-15.52803</td><td>298.87154</td><td>-15.47959</td><td>135.8815</td><td>15.23149</td><td>257.3977</td><td>-11.1366</td><td>264.1</td><td>-826.28</td><td>56896.21</td><td>27070.67</td><td>68.148</td><td>2.3580914067</td><td>999.0</td><td>0.0</td><td>18.53</td><td>4.31</td><td>97.914</td><td>3.4e-05</td><td>64256.71</td><td>*</td><td>0.001629</td><td>0.0</td><td>0.0</td><td>0.0</td><td>0.0</td><td>242.44</td><td>0.0</td><td>0.0</td><td>0.0</td><td>313.7629</td><td>9.6472</td><td>1.054233260729</td><td>8.8993319</td><td>1.9462223742487</td><td>11.8730035</td><td>16.186238</td><td>24.83484</td><td>54.90987</td><td>17.8491</td><td>/T</td><td>16.6133</td><td>151.6</td><td>98.9</td><td>145.5337</td><td>62.528</td><td>267.617</td><td>7.51127</td><td>Sgr</td><td>69.183946</td><td>297.8566454</td><td>5.2073726</td><td>0.0</td><td>0.0</td><td>25.622571</td><td>-20.792887</td><td>19.5779413442</td><td>0.000355</td><td>0.023</td><td>0.009</td><td>0.024</td><td>0.004</td><td>-18.186</td><td>0.0</td><td>0.025</td><td>15.7727</td><td>7.2e-06</td><td>0.04</td><td>0.15</td><td>0.000105</td><td>145.8267</td><td>6.433322168</td><td>16.608</td><td>305.6452</td><td>7.5022</td><td>2458119.75</td></tr>\n",
       "<tr><td>2100 Ra-Shalom (1978 RA)</td><td>16.05</td><td>0.12</td><td></td><td>m</td><td>298.66495</td><td>-15.52386</td><td>298.91072</td><td>-15.47535</td><td>136.1253</td><td>15.23444</td><td>261.6756</td><td>-25.0115</td><td>225.07</td><td>-837.77</td><td>56874.19</td><td>27072.8</td><td>68.136</td><td>3.3608294289</td><td>999.0</td><td>0.0</td><td>18.53</td><td>4.31</td><td>97.916</td><td>3.4e-05</td><td>64237.02</td><td>*</td><td>0.001629</td><td>0.0</td><td>0.0</td><td>0.0</td><td>0.0</td><td>242.43</td><td>0.0</td><td>0.0</td><td>0.0</td><td>313.7929</td><td>9.6406</td><td>1.054447326873</td><td>8.8923947</td><td>1.94650777992396</td><td>11.8425863</td><td>16.188612</td><td>24.82797</td><td>55.00387</td><td>17.8436</td><td>/T</td><td>16.6049</td><td>152.0</td><td>99.0</td><td>145.5475</td><td>62.519</td><td>267.612</td><td>7.50813</td><td>Sgr</td><td>69.183948</td><td>297.8946695</td><td>5.2042407</td><td>0.0</td><td>0.0</td><td>25.64285</td><td>-20.825813</td><td>20.5775934398</td><td>0.000355</td><td>0.023</td><td>0.009</td><td>0.024</td><td>0.004</td><td>-18.193</td><td>0.0</td><td>0.025</td><td>15.7679</td><td>7.2e-06</td><td>0.04</td><td>0.15</td><td>0.000105</td><td>145.8571</td><td>7.433448133</td><td>16.5996</td><td>305.6793</td><td>7.4972</td><td>2458119.791666667</td></tr>\n",
       "<tr><td>2100 Ra-Shalom (1978 RA)</td><td>16.05</td><td>0.12</td><td></td><td>m</td><td>298.70424</td><td>-15.51969</td><td>298.94997</td><td>-15.47112</td><td>136.3411</td><td>15.21854</td><td>265.8293</td><td>-39.036</td><td>198.59</td><td>-844.45</td><td>56851.93</td><td>27075.02</td><td>68.124</td><td>4.3635674516</td><td>999.0</td><td>0.0</td><td>18.54</td><td>4.31</td><td>97.918</td><td>3.4e-05</td><td>64217.15</td><td>*</td><td>0.001629</td><td>0.0</td><td>0.0</td><td>0.0</td><td>0.0</td><td>242.42</td><td>0.0</td><td>0.0</td><td>0.0</td><td>313.8229</td><td>9.634</td><td>1.054661226119</td><td>8.8854578</td><td>1.94679212671207</td><td>11.7854577</td><td>16.190976</td><td>24.82109</td><td>55.08077</td><td>17.8381</td><td>/T</td><td>16.5964</td><td>152.4</td><td>99.1</td><td>145.5615</td><td>62.51</td><td>267.608</td><td>7.50499</td><td>Sgr</td><td>69.183949</td><td>297.932758</td><td>5.2010863</td><td>0.0</td><td>0.0</td><td>25.663158</td><td>-20.858802</td><td>21.5772364245</td><td>0.000355</td><td>0.023</td><td>0.009</td><td>0.024</td><td>0.004</td><td>-18.199</td><td>0.0</td><td>0.025</td><td>15.7633</td><td>7.2e-06</td><td>0.04</td><td>0.15</td><td>0.000105</td><td>145.8874</td><td>8.43356956</td><td>16.5911</td><td>305.7135</td><td>7.4922</td><td>2458119.833333333</td></tr>\n",
       "<tr><td>...</td><td>...</td><td>...</td><td>...</td><td>...</td><td>...</td><td>...</td><td>...</td><td>...</td><td>...</td><td>...</td><td>...</td><td>...</td><td>...</td><td>...</td><td>...</td><td>...</td><td>...</td><td>...</td><td>...</td><td>...</td><td>...</td><td>...</td><td>...</td><td>...</td><td>...</td><td>...</td><td>...</td><td>...</td><td>...</td><td>...</td><td>...</td><td>...</td><td>...</td><td>...</td><td>...</td><td>...</td><td>...</td><td>...</td><td>...</td><td>...</td><td>...</td><td>...</td><td>...</td><td>...</td><td>...</td><td>...</td><td>...</td><td>...</td><td>...</td><td>...</td><td>...</td><td>...</td><td>...</td><td>...</td><td>...</td><td>...</td><td>...</td><td>...</td><td>...</td><td>...</td><td>...</td><td>...</td><td>...</td><td>...</td><td>...</td><td>...</td><td>...</td><td>...</td><td>...</td><td>...</td><td>...</td><td>...</td><td>...</td><td>...</td><td>...</td><td>...</td><td>...</td><td>...</td><td>...</td><td>...</td><td>...</td></tr>\n",
       "<tr><td>1036 Ganymed (A924 UB)</td><td>9.45</td><td>0.3</td><td></td><td>m</td><td>169.09602</td><td>-22.12761</td><td>169.32278</td><td>-22.22573</td><td>-18.4659</td><td>-0.25993</td><td>217.3281</td><td>38.1886</td><td>658.19</td><td>-514.99</td><td>-497829.0</td><td>-17807.2</td><td>222.309</td><td>13.3540365868</td><td>1.614</td><td>0.176</td><td>15.72</td><td>6.37</td><td>99.075</td><td>0.0001</td><td>459356.9</td><td>*</td><td>0.015273</td><td>0.0</td><td>0.0</td><td>0.0</td><td>0.0</td><td>136.01</td><td>0.0</td><td>0.0</td><td>0.0</td><td>168.2988</td><td>-20.2661</td><td>4.077732780712</td><td>0.5842185</td><td>3.40107915803615</td><td>-18.3241471</td><td>28.285913</td><td>10.09751</td><td>22.26956</td><td>127.5991</td><td>/L</td><td>11.0399</td><td>51.9</td><td>100.0</td><td>41.3624</td><td>316.016</td><td>272.489</td><td>7.46683</td><td>Crt</td><td>69.184799</td><td>179.563777</td><td>-24.5360582</td><td>0.0</td><td>0.0</td><td>275.591353</td><td>35.648437</td><td>4.4110625115</td><td>0.000355</td><td>0.043</td><td>0.045</td><td>0.046</td><td>0.042</td><td>56.06</td><td>0.01</td><td>0.062</td><td>34.4306</td><td>1.6e-06</td><td>0.07</td><td>0.24</td><td>0.00023</td><td>177.092</td><td>2.065850979</td><td>11.0368</td><td>173.719</td><td>-22.4957</td><td>2458150.125</td></tr>\n",
       "<tr><td>1036 Ganymed (A924 UB)</td><td>9.45</td><td>0.3</td><td>A</td><td>m</td><td>169.09049</td><td>-22.12767</td><td>169.31724</td><td>-22.2258</td><td>-18.3838</td><td>-0.19186</td><td>229.2649</td><td>28.4415</td><td>533.19</td><td>-643.53</td><td>-498026.0</td><td>-17849.0</td><td>222.274</td><td>14.3567745098</td><td>2.091</td><td>0.228</td><td>15.72</td><td>6.37</td><td>99.076</td><td>0.0001</td><td>459499.1</td><td>*</td><td>0.015275</td><td>0.0</td><td>0.0</td><td>0.0</td><td>0.0</td><td>136.04</td><td>0.0</td><td>0.0</td><td>0.0</td><td>168.3023</td><td>-20.2651</td><td>4.077746832263</td><td>0.5835337</td><td>3.40063939223575</td><td>-18.2278972</td><td>28.282255</td><td>10.09743</td><td>22.15714</td><td>127.6386</td><td>/L</td><td>11.0338</td><td>51.4</td><td>100.0</td><td>41.3289</td><td>316.049</td><td>272.492</td><td>7.46724</td><td>Crt</td><td>69.1848</td><td>179.5587203</td><td>-24.5383267</td><td>0.0</td><td>0.0</td><td>275.585728</td><td>35.646108</td><td>5.4109506938</td><td>0.000355</td><td>0.043</td><td>0.045</td><td>0.046</td><td>0.042</td><td>56.051</td><td>0.01</td><td>0.062</td><td>34.4226</td><td>1.6e-06</td><td>0.07</td><td>0.24</td><td>0.00023</td><td>177.0954</td><td>3.068958262</td><td>11.0308</td><td>173.7182</td><td>-22.4962</td><td>2458150.166666667</td></tr>\n",
       "<tr><td>1036 Ganymed (A924 UB)</td><td>9.45</td><td>0.3</td><td>*</td><td>m</td><td>169.08499</td><td>-22.12772</td><td>169.31173</td><td>-22.22585</td><td>-18.2712</td><td>-0.1357</td><td>237.9313</td><td>17.0267</td><td>424.81</td><td>-719.69</td><td>-498222.0</td><td>-17890.7</td><td>222.239</td><td>15.3595124307</td><td>3.371</td><td>0.367</td><td>15.72</td><td>6.37</td><td>99.077</td><td>0.0001</td><td>459640.9</td><td>*</td><td>0.015277</td><td>0.0</td><td>0.0</td><td>0.0</td><td>0.0</td><td>136.08</td><td>0.0</td><td>0.0</td><td>0.0</td><td>168.3058</td><td>-20.264</td><td>4.07776086733</td><td>0.5828489</td><td>3.40020171208795</td><td>-18.1516531</td><td>28.278615</td><td>10.09736</td><td>22.04944</td><td>127.678</td><td>/L</td><td>11.0278</td><td>50.9</td><td>100.0</td><td>41.2956</td><td>316.082</td><td>272.495</td><td>7.46764</td><td>Crt</td><td>69.184801</td><td>179.5536776</td><td>-24.5405681</td><td>0.0</td><td>0.0</td><td>275.580118</td><td>35.643805</td><td>6.4108501834</td><td>0.000355</td><td>0.043</td><td>0.045</td><td>0.046</td><td>0.042</td><td>56.041</td><td>0.01</td><td>0.062</td><td>34.4146</td><td>1.6e-06</td><td>0.07</td><td>0.24</td><td>0.00023</td><td>177.0988</td><td>4.07206387</td><td>11.0248</td><td>173.7174</td><td>-22.4966</td><td>2458150.208333333</td></tr>\n",
       "<tr><td>1036 Ganymed (A924 UB)</td><td>9.45</td><td>0.3</td><td>*</td><td></td><td>169.07953</td><td>-22.12775</td><td>169.30625</td><td>-22.22589</td><td>-18.1373</td><td>-0.09404</td><td>244.3725</td><td>4.6173</td><td>334.77</td><td>-765.73</td><td>-498418.0</td><td>-17932.5</td><td>222.205</td><td>16.3622503498</td><td>10.676</td><td>1.163</td><td>15.72</td><td>6.37</td><td>99.078</td><td>0.0001</td><td>459782.3</td><td>*</td><td>0.015279</td><td>0.0</td><td>0.0</td><td>0.0</td><td>0.0</td><td>136.11</td><td>0.0</td><td>0.0</td><td>0.0</td><td>168.3092</td><td>-20.263</td><td>4.077774885913</td><td>0.5821641</td><td>3.3997655810334</td><td>-18.0997403</td><td>28.274988</td><td>10.09729</td><td>21.95367</td><td>127.7173</td><td>/L</td><td>11.0218</td><td>50.3</td><td>100.0</td><td>41.2623</td><td>316.115</td><td>272.498</td><td>7.46803</td><td>Crt</td><td>69.184802</td><td>179.548659</td><td>-24.5427818</td><td>0.0</td><td>0.0</td><td>275.574536</td><td>35.64153</td><td>7.4107611502</td><td>0.000355</td><td>0.043</td><td>0.045</td><td>0.046</td><td>0.042</td><td>56.032</td><td>0.01</td><td>0.062</td><td>34.4066</td><td>1.6e-06</td><td>0.07</td><td>0.24</td><td>0.00023</td><td>177.1022</td><td>5.075167195</td><td>11.0188</td><td>173.7166</td><td>-22.4971</td><td>2458150.25</td></tr>\n",
       "<tr><td>1036 Ganymed (A924 UB)</td><td>9.45</td><td>0.3</td><td>*</td><td></td><td>169.07412</td><td>-22.12778</td><td>169.30081</td><td>-22.22592</td><td>-17.9928</td><td>-0.06847</td><td>249.317</td><td>-8.403</td><td>259.07</td><td>-794.54</td><td>-498613.0</td><td>-17974.3</td><td>222.171</td><td>17.3649882669</td><td>999.0</td><td>0.0</td><td>15.72</td><td>6.37</td><td>99.079</td><td>0.0001</td><td>459923.2</td><td>*</td><td>0.015281</td><td>0.0</td><td>0.0</td><td>0.0</td><td>0.0</td><td>136.14</td><td>0.0</td><td>0.0</td><td>0.0</td><td>168.3127</td><td>-20.262</td><td>4.077788888013</td><td>0.5814793</td><td>3.39933037802573</td><td>-18.0748145</td><td>28.271369</td><td>10.09721</td><td>21.87628</td><td>127.7564</td><td>/L</td><td>11.0158</td><td>49.7</td><td>99.9</td><td>41.2291</td><td>316.148</td><td>272.501</td><td>7.4684</td><td>Crt</td><td>69.184803</td><td>179.5436721</td><td>-24.5449691</td><td>0.0</td><td>0.0</td><td>275.568989</td><td>35.639281</td><td>8.4106830086</td><td>0.000355</td><td>0.043</td><td>0.045</td><td>0.046</td><td>0.042</td><td>56.023</td><td>0.01</td><td>0.062</td><td>34.3987</td><td>1.6e-06</td><td>0.07</td><td>0.24</td><td>0.000229</td><td>177.1057</td><td>6.078267816</td><td>11.0129</td><td>173.7159</td><td>-22.4975</td><td>2458150.291666667</td></tr>\n",
       "<tr><td>1036 Ganymed (A924 UB)</td><td>9.45</td><td>0.3</td><td>*</td><td></td><td>169.06874</td><td>-22.1278</td><td>169.29541</td><td>-22.22594</td><td>-17.8491</td><td>-0.05948</td><td>253.2131</td><td>-21.811</td><td>193.14</td><td>-813.08</td><td>-498808.0</td><td>-18016.2</td><td>222.137</td><td>18.367726182</td><td>999.0</td><td>0.0</td><td>15.72</td><td>6.37</td><td>99.08</td><td>0.0001</td><td>460063.8</td><td>*</td><td>0.015283</td><td>0.0</td><td>0.0</td><td>0.0</td><td>0.0</td><td>136.17</td><td>0.0</td><td>0.0</td><td>0.0</td><td>168.3161</td><td>-20.2609</td><td>4.077802873633</td><td>0.5807945</td><td>3.3988954401397</td><td>-18.0776805</td><td>28.267751</td><td>10.09714</td><td>21.82249</td><td>127.7955</td><td>/L</td><td>11.0099</td><td>49.0</td><td>99.9</td><td>41.196</td><td>316.18</td><td>272.504</td><td>7.46876</td><td>Crt</td><td>69.184804</td><td>179.538722</td><td>-24.5471327</td><td>0.0</td><td>0.0</td><td>275.563483</td><td>35.637056</td><td>9.4106144579</td><td>0.000355</td><td>0.043</td><td>0.045</td><td>0.046</td><td>0.042</td><td>56.014</td><td>0.01</td><td>0.062</td><td>34.3908</td><td>1.6e-06</td><td>0.06</td><td>0.24</td><td>0.000229</td><td>177.1091</td><td>7.081365527</td><td>11.0069</td><td>173.7151</td><td>-22.4979</td><td>2458150.333333333</td></tr>\n",
       "<tr><td>1036 Ganymed (A924 UB)</td><td>9.45</td><td>0.3</td><td>*</td><td></td><td>169.06341</td><td>-22.12781</td><td>169.29006</td><td>-22.22595</td><td>-17.7176</td><td>-0.06643</td><td>256.3002</td><td>-35.47</td><td>132.65</td><td>-825.11</td><td>-499002.0</td><td>-18058.2</td><td>222.103</td><td>19.3704640952</td><td>999.0</td><td>0.0</td><td>15.72</td><td>6.37</td><td>99.081</td><td>0.0001</td><td>460204.0</td><td>*</td><td>0.015285</td><td>0.0</td><td>0.0</td><td>0.0</td><td>0.0</td><td>136.21</td><td>0.0</td><td>0.0</td><td>0.0</td><td>168.3196</td><td>-20.2599</td><td>4.077816842772</td><td>0.5801096</td><td>3.39846010804967</td><td>-18.1072362</td><td>28.264131</td><td>10.09707</td><td>21.79587</td><td>127.8345</td><td>/L</td><td>11.004</td><td>48.4</td><td>99.9</td><td>41.163</td><td>316.213</td><td>272.507</td><td>7.46912</td><td>Crt</td><td>69.184804</td><td>179.5338104</td><td>-24.549277</td><td>0.0</td><td>0.0</td><td>275.558021</td><td>35.634851</td><td>10.4105535707</td><td>0.000355</td><td>0.043</td><td>0.045</td><td>0.046</td><td>0.042</td><td>56.004</td><td>0.01</td><td>0.062</td><td>34.3829</td><td>1.6e-06</td><td>0.06</td><td>0.23</td><td>0.000229</td><td>177.1125</td><td>8.084460351</td><td>11.001</td><td>173.7144</td><td>-22.4983</td><td>2458150.375</td></tr>\n",
       "<tr><td>1036 Ganymed (A924 UB)</td><td>9.45</td><td>0.3</td><td>*</td><td></td><td>169.05811</td><td>-22.12784</td><td>169.28474</td><td>-22.22597</td><td>-17.6088</td><td>-0.08756</td><td>258.6105</td><td>-49.2894</td><td>72.58</td><td>-832.55</td><td>-499196.0</td><td>-18100.4</td><td>222.069</td><td>20.3732020063</td><td>999.0</td><td>0.0</td><td>15.72</td><td>6.37</td><td>99.082</td><td>0.0001</td><td>460344.1</td><td>*</td><td>0.015287</td><td>0.0</td><td>0.0</td><td>0.0</td><td>0.0</td><td>136.24</td><td>0.0</td><td>0.0</td><td>0.0</td><td>168.3231</td><td>-20.2588</td><td>4.077830795433</td><td>0.5794248</td><td>3.39802377125988</td><td>-18.1605487</td><td>28.260502</td><td>10.09699</td><td>21.79807</td><td>127.8734</td><td>/L</td><td>10.9981</td><td>47.8</td><td>99.8</td><td>41.13</td><td>316.245</td><td>272.51</td><td>7.46949</td><td>Crt</td><td>69.184805</td><td>179.528936</td><td>-24.5514074</td><td>0.0</td><td>0.0</td><td>275.5526</td><td>35.632659</td><td>11.4104979243</td><td>0.000355</td><td>0.043</td><td>0.045</td><td>0.046</td><td>0.042</td><td>55.995</td><td>0.01</td><td>0.062</td><td>34.3751</td><td>1.6e-06</td><td>0.06</td><td>0.23</td><td>0.000229</td><td>177.1159</td><td>9.087552538</td><td>10.9951</td><td>173.7137</td><td>-22.4987</td><td>2458150.416666667</td></tr>\n",
       "<tr><td>1036 Ganymed (A924 UB)</td><td>9.45</td><td>0.3</td><td>*</td><td></td><td>169.05285</td><td>-22.12787</td><td>169.27946</td><td>-22.226</td><td>-17.5317</td><td>-0.12018</td><td>259.743</td><td>-63.1984</td><td>3.08</td><td>-835.7</td><td>-499390.0</td><td>-18142.9</td><td>222.035</td><td>21.3759399155</td><td>999.0</td><td>0.0</td><td>15.72</td><td>6.37</td><td>99.083</td><td>0.0001</td><td>460484.1</td><td>*</td><td>0.015289</td><td>0.0</td><td>0.0</td><td>0.0</td><td>0.0</td><td>136.27</td><td>0.0</td><td>0.0</td><td>0.0</td><td>168.3265</td><td>-20.2578</td><td>4.077844731617</td><td>0.57874</td><td>3.39758590998557</td><td>-18.2330553</td><td>28.25686</td><td>10.09692</td><td>21.82867</td><td>127.9122</td><td>/L</td><td>10.9922</td><td>47.1</td><td>99.8</td><td>41.097</td><td>316.278</td><td>272.513</td><td>7.46986</td><td>Crt</td><td>69.184805</td><td>179.5240943</td><td>-24.5535304</td><td>0.0</td><td>0.0</td><td>275.547217</td><td>35.630475</td><td>12.4104447659</td><td>0.000355</td><td>0.043</td><td>0.045</td><td>0.046</td><td>0.042</td><td>55.986</td><td>0.01</td><td>0.062</td><td>34.3673</td><td>1.6e-06</td><td>0.06</td><td>0.23</td><td>0.000229</td><td>177.1193</td><td>10.090642551</td><td>10.9893</td><td>173.713</td><td>-22.4991</td><td>2458150.458333333</td></tr>\n",
       "<tr><td>1036 Ganymed (A924 UB)</td><td>9.45</td><td>0.3</td><td>*</td><td></td><td>169.0476</td><td>-22.12791</td><td>169.2742</td><td>-22.22603</td><td>-17.4931</td><td>-0.16076</td><td>256.8904</td><td>-77.0912</td><td>-119.36</td><td>-827.13</td><td>-499584.0</td><td>-18185.6</td><td>222.001</td><td>22.3786778228</td><td>999.0</td><td>0.0</td><td>15.72</td><td>6.37</td><td>99.084</td><td>0.0001</td><td>460624.1</td><td>*</td><td>0.015291</td><td>0.0</td><td>0.0</td><td>0.0</td><td>0.0</td><td>136.3</td><td>0.0</td><td>0.0</td><td>0.0</td><td>168.33</td><td>-20.2568</td><td>4.077858651324</td><td>0.5780552</td><td>3.39714613081345</td><td>-18.3188763</td><td>28.253203</td><td>10.09685</td><td>21.88519</td><td>127.9511</td><td>/L</td><td>10.9864</td><td>46.5</td><td>99.7</td><td>41.0639</td><td>316.31</td><td>272.516</td><td>7.47023</td><td>Crt</td><td>69.184806</td><td>179.5192783</td><td>-24.5556525</td><td>0.0</td><td>0.0</td><td>275.541863</td><td>35.628292</td><td>13.4103912004</td><td>0.000355</td><td>0.043</td><td>0.045</td><td>0.046</td><td>0.042</td><td>55.977</td><td>0.01</td><td>0.062</td><td>34.3596</td><td>1.6e-06</td><td>0.06</td><td>0.23</td><td>0.000229</td><td>177.1227</td><td>11.093731016</td><td>10.9834</td><td>173.7123</td><td>-22.4995</td><td>2458150.5</td></tr>\n",
       "</table>"
      ],
      "text/plain": [
       "<QTable masked=True length=2235>\n",
       "       targetname           H       G    ...  PABLon   PABLat        epoch      \n",
       "                           mag           ...   deg      deg                     \n",
       "         str24           float64 float64 ... float64  float64        object     \n",
       "------------------------ ------- ------- ... -------- -------- -----------------\n",
       "2100 Ra-Shalom (1978 RA)   16.05    0.12 ... 305.4411   7.5319         2458119.5\n",
       "2100 Ra-Shalom (1978 RA)   16.05    0.12 ...  305.475   7.5269 2458119.541666667\n",
       "2100 Ra-Shalom (1978 RA)   16.05    0.12 ...  305.509    7.522 2458119.583333333\n",
       "2100 Ra-Shalom (1978 RA)   16.05    0.12 ... 305.5431    7.517       2458119.625\n",
       "2100 Ra-Shalom (1978 RA)   16.05    0.12 ... 305.5771   7.5121 2458119.666666667\n",
       "2100 Ra-Shalom (1978 RA)   16.05    0.12 ... 305.6111   7.5071 2458119.708333333\n",
       "2100 Ra-Shalom (1978 RA)   16.05    0.12 ... 305.6452   7.5022        2458119.75\n",
       "2100 Ra-Shalom (1978 RA)   16.05    0.12 ... 305.6793   7.4972 2458119.791666667\n",
       "2100 Ra-Shalom (1978 RA)   16.05    0.12 ... 305.7135   7.4922 2458119.833333333\n",
       "                     ...     ...     ... ...      ...      ...               ...\n",
       "  1036 Ganymed (A924 UB)    9.45     0.3 ...  173.719 -22.4957       2458150.125\n",
       "  1036 Ganymed (A924 UB)    9.45     0.3 ... 173.7182 -22.4962 2458150.166666667\n",
       "  1036 Ganymed (A924 UB)    9.45     0.3 ... 173.7174 -22.4966 2458150.208333333\n",
       "  1036 Ganymed (A924 UB)    9.45     0.3 ... 173.7166 -22.4971        2458150.25\n",
       "  1036 Ganymed (A924 UB)    9.45     0.3 ... 173.7159 -22.4975 2458150.291666667\n",
       "  1036 Ganymed (A924 UB)    9.45     0.3 ... 173.7151 -22.4979 2458150.333333333\n",
       "  1036 Ganymed (A924 UB)    9.45     0.3 ... 173.7144 -22.4983       2458150.375\n",
       "  1036 Ganymed (A924 UB)    9.45     0.3 ... 173.7137 -22.4987 2458150.416666667\n",
       "  1036 Ganymed (A924 UB)    9.45     0.3 ...  173.713 -22.4991 2458150.458333333\n",
       "  1036 Ganymed (A924 UB)    9.45     0.3 ... 173.7123 -22.4995         2458150.5"
      ]
     },
     "execution_count": 1,
     "metadata": {},
     "output_type": "execute_result"
    }
   ],
   "source": [
    "from sbpy.data import Ephem\n",
    "import astropy.units as u\n",
    "from astropy.time import Time\n",
    "\n",
    "targets = ['2100', '2018 RC1', 'Ganymed']\n",
    "eph = Ephem.from_horizons(targets, location=568, \n",
    "                          epochs={'start': Time('2018-01-01'), \n",
    "                                  'stop': Time('2018-02-01'), \n",
    "                                  'step':1*u.hour})\n",
    "\n",
    "eph.table"
   ]
  },
  {
   "cell_type": "markdown",
   "metadata": {},
   "source": [
    "The resulting `Ephem` object provides the same functionality as all other `sbpy.data` objects; for instance, you can easily convert values to other units:"
   ]
  },
  {
   "cell_type": "code",
   "execution_count": 2,
   "metadata": {},
   "outputs": [
    {
     "data": {
      "text/latex": [
       "$1074210.3 \\; \\mathrm{{}^{\\prime\\prime}}$"
      ],
      "text/plain": [
       "<Quantity 1074210.3 arcsec>"
      ]
     },
     "execution_count": 2,
     "metadata": {},
     "output_type": "execute_result"
    }
   ],
   "source": [
    "import numpy as np\n",
    "import astropy.units as u\n",
    "\n",
    "eph['RA'][0].to('arcsec')"
   ]
  },
  {
   "cell_type": "markdown",
   "metadata": {},
   "source": [
    "Querying Satellite Ephemerides from JPL Horizons (and other ambiguous queries)\n",
    "------------------------------------------------\n",
    "\n",
    "Query ephemerides for satellite `'GOES-1'` for a number of epochs as observed from Magdalena Ridge Observatory (observatory code `'H01'`):"
   ]
  },
  {
   "cell_type": "code",
   "execution_count": 3,
   "metadata": {},
   "outputs": [
    {
     "ename": "QueryError",
     "evalue": "Error raised by astroquery.jplhorizons: Unknown target (GOES-1). Maybe try different id_type?\nThe following query was attempted: https://ssd.jpl.nasa.gov/horizons_batch.cgi?batch=1&TABLE_TYPE=OBSERVER&QUANTITIES=%271%2C2%2C3%2C4%2C5%2C6%2C7%2C8%2C9%2C10%2C11%2C12%2C13%2C14%2C15%2C16%2C17%2C18%2C19%2C20%2C21%2C22%2C23%2C24%2C25%2C26%2C27%2C28%2C29%2C30%2C31%2C32%2C33%2C34%2C35%2C36%2C37%2C38%2C39%2C40%2C41%2C42%2C43%27&COMMAND=%22GOES-1%3B%22&SOLAR_ELONG=%220%2C180%22&LHA_CUTOFF=0&CSV_FORMAT=YES&CAL_FORMAT=BOTH&ANG_FORMAT=DEG&APPARENT=AIRLESS&REF_SYSTEM=J2000&EXTRA_PREC=NO&CENTER=%27500%27&TLIST=2453452.123245%0A2453453.34342%0A2453454.342342&SKIP_DAYLT=NO",
     "output_type": "error",
     "traceback": [
      "\u001b[0;31m---------------------------------------------------------------------------\u001b[0m",
      "\u001b[0;31mValueError\u001b[0m                                Traceback (most recent call last)",
      "\u001b[0;32m~/lowell/software/sbpy/sbpy/data/ephem.py\u001b[0m in \u001b[0;36mfrom_horizons\u001b[0;34m(cls, targetids, id_type, epochs, location, **kwargs)\u001b[0m\n\u001b[1;32m    157\u001b[0m             \u001b[0;32mtry\u001b[0m\u001b[0;34m:\u001b[0m\u001b[0;34m\u001b[0m\u001b[0;34m\u001b[0m\u001b[0m\n\u001b[0;32m--> 158\u001b[0;31m                 \u001b[0meph\u001b[0m \u001b[0;34m=\u001b[0m \u001b[0mobj\u001b[0m\u001b[0;34m.\u001b[0m\u001b[0mephemerides\u001b[0m\u001b[0;34m(\u001b[0m\u001b[0;34m**\u001b[0m\u001b[0mkwargs\u001b[0m\u001b[0;34m)\u001b[0m\u001b[0;34m\u001b[0m\u001b[0;34m\u001b[0m\u001b[0m\n\u001b[0m\u001b[1;32m    159\u001b[0m             \u001b[0;32mexcept\u001b[0m \u001b[0mValueError\u001b[0m \u001b[0;32mas\u001b[0m \u001b[0me\u001b[0m\u001b[0;34m:\u001b[0m\u001b[0;34m\u001b[0m\u001b[0;34m\u001b[0m\u001b[0m\n",
      "\u001b[0;32m~/lowell/software/astroquery/astroquery/utils/class_or_instance.py\u001b[0m in \u001b[0;36mf\u001b[0;34m(*args, **kwds)\u001b[0m\n\u001b[1;32m     24\u001b[0m             \u001b[0;32mif\u001b[0m \u001b[0mobj\u001b[0m \u001b[0;32mis\u001b[0m \u001b[0;32mnot\u001b[0m \u001b[0;32mNone\u001b[0m\u001b[0;34m:\u001b[0m\u001b[0;34m\u001b[0m\u001b[0;34m\u001b[0m\u001b[0m\n\u001b[0;32m---> 25\u001b[0;31m                 \u001b[0;32mreturn\u001b[0m \u001b[0mself\u001b[0m\u001b[0;34m.\u001b[0m\u001b[0mfn\u001b[0m\u001b[0;34m(\u001b[0m\u001b[0mobj\u001b[0m\u001b[0;34m,\u001b[0m \u001b[0;34m*\u001b[0m\u001b[0margs\u001b[0m\u001b[0;34m,\u001b[0m \u001b[0;34m**\u001b[0m\u001b[0mkwds\u001b[0m\u001b[0;34m)\u001b[0m\u001b[0;34m\u001b[0m\u001b[0;34m\u001b[0m\u001b[0m\n\u001b[0m\u001b[1;32m     26\u001b[0m             \u001b[0;32melse\u001b[0m\u001b[0;34m:\u001b[0m\u001b[0;34m\u001b[0m\u001b[0;34m\u001b[0m\u001b[0m\n",
      "\u001b[0;32m~/lowell/software/astroquery/astroquery/utils/process_asyncs.py\u001b[0m in \u001b[0;36mnewmethod\u001b[0;34m(self, *args, **kwargs)\u001b[0m\n\u001b[1;32m     28\u001b[0m                 \u001b[0;32mreturn\u001b[0m \u001b[0mresponse\u001b[0m\u001b[0;34m\u001b[0m\u001b[0;34m\u001b[0m\u001b[0m\n\u001b[0;32m---> 29\u001b[0;31m             \u001b[0mresult\u001b[0m \u001b[0;34m=\u001b[0m \u001b[0mself\u001b[0m\u001b[0;34m.\u001b[0m\u001b[0m_parse_result\u001b[0m\u001b[0;34m(\u001b[0m\u001b[0mresponse\u001b[0m\u001b[0;34m,\u001b[0m \u001b[0mverbose\u001b[0m\u001b[0;34m=\u001b[0m\u001b[0mverbose\u001b[0m\u001b[0;34m)\u001b[0m\u001b[0;34m\u001b[0m\u001b[0;34m\u001b[0m\u001b[0m\n\u001b[0m\u001b[1;32m     30\u001b[0m             \u001b[0mself\u001b[0m\u001b[0;34m.\u001b[0m\u001b[0mtable\u001b[0m \u001b[0;34m=\u001b[0m \u001b[0mresult\u001b[0m\u001b[0;34m\u001b[0m\u001b[0;34m\u001b[0m\u001b[0m\n",
      "\u001b[0;32m~/lowell/software/astroquery/astroquery/jplhorizons/core.py\u001b[0m in \u001b[0;36m_parse_result\u001b[0;34m(self, response, verbose)\u001b[0m\n\u001b[1;32m   1283\u001b[0m         \u001b[0;32melse\u001b[0m\u001b[0;34m:\u001b[0m\u001b[0;34m\u001b[0m\u001b[0;34m\u001b[0m\u001b[0m\n\u001b[0;32m-> 1284\u001b[0;31m             \u001b[0mdata\u001b[0m \u001b[0;34m=\u001b[0m \u001b[0mself\u001b[0m\u001b[0;34m.\u001b[0m\u001b[0m_parse_horizons\u001b[0m\u001b[0;34m(\u001b[0m\u001b[0mresponse\u001b[0m\u001b[0;34m.\u001b[0m\u001b[0mtext\u001b[0m\u001b[0;34m)\u001b[0m\u001b[0;34m\u001b[0m\u001b[0;34m\u001b[0m\u001b[0m\n\u001b[0m\u001b[1;32m   1285\u001b[0m \u001b[0;34m\u001b[0m\u001b[0m\n",
      "\u001b[0;32m~/lowell/software/astroquery/astroquery/jplhorizons/core.py\u001b[0m in \u001b[0;36m_parse_horizons\u001b[0;34m(self, src)\u001b[0m\n\u001b[1;32m   1156\u001b[0m                 raise ValueError(('Unknown target ({:s}). Maybe try '\n\u001b[0;32m-> 1157\u001b[0;31m                                   'different id_type?').format(self.id))\n\u001b[0m\u001b[1;32m   1158\u001b[0m             \u001b[0;31m# catch any unavailability of ephemeris data\u001b[0m\u001b[0;34m\u001b[0m\u001b[0;34m\u001b[0m\u001b[0;34m\u001b[0m\u001b[0m\n",
      "\u001b[0;31mValueError\u001b[0m: Unknown target (GOES-1). Maybe try different id_type?",
      "\nDuring handling of the above exception, another exception occurred:\n",
      "\u001b[0;31mQueryError\u001b[0m                                Traceback (most recent call last)",
      "\u001b[0;32m<ipython-input-3-5f2fd48c70ae>\u001b[0m in \u001b[0;36m<module>\u001b[0;34m()\u001b[0m\n\u001b[0;32m----> 1\u001b[0;31m \u001b[0meph\u001b[0m \u001b[0;34m=\u001b[0m \u001b[0mEphem\u001b[0m\u001b[0;34m.\u001b[0m\u001b[0mfrom_horizons\u001b[0m\u001b[0;34m(\u001b[0m\u001b[0;34m'GOES-1'\u001b[0m\u001b[0;34m,\u001b[0m \u001b[0mepochs\u001b[0m\u001b[0;34m=\u001b[0m\u001b[0mTime\u001b[0m\u001b[0;34m(\u001b[0m\u001b[0;34m[\u001b[0m\u001b[0;36m2453452.123245\u001b[0m\u001b[0;34m,\u001b[0m \u001b[0;36m2453453.34342\u001b[0m\u001b[0;34m,\u001b[0m \u001b[0;36m2453454.342342\u001b[0m\u001b[0;34m]\u001b[0m\u001b[0;34m,\u001b[0m \u001b[0mformat\u001b[0m\u001b[0;34m=\u001b[0m\u001b[0;34m'jd'\u001b[0m\u001b[0;34m)\u001b[0m\u001b[0;34m)\u001b[0m\u001b[0;34m\u001b[0m\u001b[0;34m\u001b[0m\u001b[0m\n\u001b[0m",
      "\u001b[0;32m~/lowell/software/sbpy/sbpy/bib/core.py\u001b[0m in \u001b[0;36mwrapper\u001b[0;34m(*args, **kwargs)\u001b[0m\n\u001b[1;32m    165\u001b[0m         \u001b[0;32mdef\u001b[0m \u001b[0mwrapper\u001b[0m\u001b[0;34m(\u001b[0m\u001b[0;34m*\u001b[0m\u001b[0margs\u001b[0m\u001b[0;34m,\u001b[0m \u001b[0;34m**\u001b[0m\u001b[0mkwargs\u001b[0m\u001b[0;34m)\u001b[0m\u001b[0;34m:\u001b[0m\u001b[0;34m\u001b[0m\u001b[0;34m\u001b[0m\u001b[0m\n\u001b[1;32m    166\u001b[0m             \u001b[0;31m# only cite after successful call\u001b[0m\u001b[0;34m\u001b[0m\u001b[0;34m\u001b[0m\u001b[0;34m\u001b[0m\u001b[0m\n\u001b[0;32m--> 167\u001b[0;31m             \u001b[0mresult\u001b[0m \u001b[0;34m=\u001b[0m \u001b[0mf\u001b[0m\u001b[0;34m(\u001b[0m\u001b[0;34m*\u001b[0m\u001b[0margs\u001b[0m\u001b[0;34m,\u001b[0m \u001b[0;34m**\u001b[0m\u001b[0mkwargs\u001b[0m\u001b[0;34m)\u001b[0m\u001b[0;34m\u001b[0m\u001b[0;34m\u001b[0m\u001b[0m\n\u001b[0m\u001b[1;32m    168\u001b[0m             \u001b[0mregister\u001b[0m\u001b[0;34m(\u001b[0m\u001b[0mf\u001b[0m\u001b[0;34m,\u001b[0m \u001b[0mcitations\u001b[0m\u001b[0;34m)\u001b[0m\u001b[0;34m\u001b[0m\u001b[0;34m\u001b[0m\u001b[0m\n\u001b[1;32m    169\u001b[0m             \u001b[0;32mreturn\u001b[0m \u001b[0mresult\u001b[0m\u001b[0;34m\u001b[0m\u001b[0;34m\u001b[0m\u001b[0m\n",
      "\u001b[0;32m~/lowell/software/sbpy/sbpy/data/ephem.py\u001b[0m in \u001b[0;36mfrom_horizons\u001b[0;34m(cls, targetids, id_type, epochs, location, **kwargs)\u001b[0m\n\u001b[1;32m    161\u001b[0m                     ('Error raised by astroquery.jplhorizons: {:s}\\n'\n\u001b[1;32m    162\u001b[0m                      \u001b[0;34m'The following query was attempted: {:s}'\u001b[0m\u001b[0;34m)\u001b[0m\u001b[0;34m.\u001b[0m\u001b[0mformat\u001b[0m\u001b[0;34m(\u001b[0m\u001b[0;34m\u001b[0m\u001b[0;34m\u001b[0m\u001b[0m\n\u001b[0;32m--> 163\u001b[0;31m                          str(e), obj.uri))\n\u001b[0m\u001b[1;32m    164\u001b[0m \u001b[0;34m\u001b[0m\u001b[0m\n\u001b[1;32m    165\u001b[0m             \u001b[0;31m# workaround for current version of astroquery to make\u001b[0m\u001b[0;34m\u001b[0m\u001b[0;34m\u001b[0m\u001b[0;34m\u001b[0m\u001b[0m\n",
      "\u001b[0;31mQueryError\u001b[0m: Error raised by astroquery.jplhorizons: Unknown target (GOES-1). Maybe try different id_type?\nThe following query was attempted: https://ssd.jpl.nasa.gov/horizons_batch.cgi?batch=1&TABLE_TYPE=OBSERVER&QUANTITIES=%271%2C2%2C3%2C4%2C5%2C6%2C7%2C8%2C9%2C10%2C11%2C12%2C13%2C14%2C15%2C16%2C17%2C18%2C19%2C20%2C21%2C22%2C23%2C24%2C25%2C26%2C27%2C28%2C29%2C30%2C31%2C32%2C33%2C34%2C35%2C36%2C37%2C38%2C39%2C40%2C41%2C42%2C43%27&COMMAND=%22GOES-1%3B%22&SOLAR_ELONG=%220%2C180%22&LHA_CUTOFF=0&CSV_FORMAT=YES&CAL_FORMAT=BOTH&ANG_FORMAT=DEG&APPARENT=AIRLESS&REF_SYSTEM=J2000&EXTRA_PREC=NO&CENTER=%27500%27&TLIST=2453452.123245%0A2453453.34342%0A2453454.342342&SKIP_DAYLT=NO"
     ]
    }
   ],
   "source": [
    "eph = Ephem.from_horizons('GOES-1', epochs=Time([2453452.123245, 2453453.34342, 2453454.342342], format='jd'))"
   ]
  },
  {
   "cell_type": "markdown",
   "metadata": {},
   "source": [
    "This function call raises a `QueryError`. The reason for this error is that astroquery.jplhorizons assumes that the provided target string is a small body. However, GOES-1 is an artifical satellite. As suggested in the provided error message, we need to specificy an `id_type` that is different from the default value (`'smallbody'`). Since sbpy.data.Ephem.from_horizons builds upon astroquery.jplhorizons, we can provide optional parameters for the latter directly to the former. According to the [JPL Horizons documentation](https://ssd.jpl.nasa.gov/?horizons_doc#selection), spacecraft are grouped together with major body, so let's try:"
   ]
  },
  {
   "cell_type": "code",
   "execution_count": 4,
   "metadata": {},
   "outputs": [
    {
     "ename": "QueryError",
     "evalue": "Error raised by astroquery.jplhorizons: Ambiguous target name; provide unique id:\n  ID#      Name                               Designation  IAU/aliases/other   \n  -------  ---------------------------------- -----------  ------------------- \n  -108366  GOES-1 (spacecraft)                                                  \n  -124786  GOES-10 (spacecraft)                                                 \n  -126352  GOES-11 (spacecraft)                                                 \n  -126871  GOES-12 (spacecraft)                                                 \n  -135491  GOES-14 (spacecraft)                                                 \n \nThe following query was attempted: https://ssd.jpl.nasa.gov/horizons_batch.cgi?batch=1&TABLE_TYPE=OBSERVER&QUANTITIES=%271%2C2%2C3%2C4%2C5%2C6%2C7%2C8%2C9%2C10%2C11%2C12%2C13%2C14%2C15%2C16%2C17%2C18%2C19%2C20%2C21%2C22%2C23%2C24%2C25%2C26%2C27%2C28%2C29%2C30%2C31%2C32%2C33%2C34%2C35%2C36%2C37%2C38%2C39%2C40%2C41%2C42%2C43%27&COMMAND=%22GOES-1%22&SOLAR_ELONG=%220%2C180%22&LHA_CUTOFF=0&CSV_FORMAT=YES&CAL_FORMAT=BOTH&ANG_FORMAT=DEG&APPARENT=AIRLESS&REF_SYSTEM=J2000&EXTRA_PREC=NO&CENTER=%27500%27&TLIST=2453452.123245%0A2453453.34342%0A2453454.342342&SKIP_DAYLT=NO",
     "output_type": "error",
     "traceback": [
      "\u001b[0;31m---------------------------------------------------------------------------\u001b[0m",
      "\u001b[0;31mValueError\u001b[0m                                Traceback (most recent call last)",
      "\u001b[0;32m~/lowell/software/sbpy/sbpy/data/ephem.py\u001b[0m in \u001b[0;36mfrom_horizons\u001b[0;34m(cls, targetids, id_type, epochs, location, **kwargs)\u001b[0m\n\u001b[1;32m    157\u001b[0m             \u001b[0;32mtry\u001b[0m\u001b[0;34m:\u001b[0m\u001b[0;34m\u001b[0m\u001b[0;34m\u001b[0m\u001b[0m\n\u001b[0;32m--> 158\u001b[0;31m                 \u001b[0meph\u001b[0m \u001b[0;34m=\u001b[0m \u001b[0mobj\u001b[0m\u001b[0;34m.\u001b[0m\u001b[0mephemerides\u001b[0m\u001b[0;34m(\u001b[0m\u001b[0;34m**\u001b[0m\u001b[0mkwargs\u001b[0m\u001b[0;34m)\u001b[0m\u001b[0;34m\u001b[0m\u001b[0;34m\u001b[0m\u001b[0m\n\u001b[0m\u001b[1;32m    159\u001b[0m             \u001b[0;32mexcept\u001b[0m \u001b[0mValueError\u001b[0m \u001b[0;32mas\u001b[0m \u001b[0me\u001b[0m\u001b[0;34m:\u001b[0m\u001b[0;34m\u001b[0m\u001b[0;34m\u001b[0m\u001b[0m\n",
      "\u001b[0;32m~/lowell/software/astroquery/astroquery/utils/class_or_instance.py\u001b[0m in \u001b[0;36mf\u001b[0;34m(*args, **kwds)\u001b[0m\n\u001b[1;32m     24\u001b[0m             \u001b[0;32mif\u001b[0m \u001b[0mobj\u001b[0m \u001b[0;32mis\u001b[0m \u001b[0;32mnot\u001b[0m \u001b[0;32mNone\u001b[0m\u001b[0;34m:\u001b[0m\u001b[0;34m\u001b[0m\u001b[0;34m\u001b[0m\u001b[0m\n\u001b[0;32m---> 25\u001b[0;31m                 \u001b[0;32mreturn\u001b[0m \u001b[0mself\u001b[0m\u001b[0;34m.\u001b[0m\u001b[0mfn\u001b[0m\u001b[0;34m(\u001b[0m\u001b[0mobj\u001b[0m\u001b[0;34m,\u001b[0m \u001b[0;34m*\u001b[0m\u001b[0margs\u001b[0m\u001b[0;34m,\u001b[0m \u001b[0;34m**\u001b[0m\u001b[0mkwds\u001b[0m\u001b[0;34m)\u001b[0m\u001b[0;34m\u001b[0m\u001b[0;34m\u001b[0m\u001b[0m\n\u001b[0m\u001b[1;32m     26\u001b[0m             \u001b[0;32melse\u001b[0m\u001b[0;34m:\u001b[0m\u001b[0;34m\u001b[0m\u001b[0;34m\u001b[0m\u001b[0m\n",
      "\u001b[0;32m~/lowell/software/astroquery/astroquery/utils/process_asyncs.py\u001b[0m in \u001b[0;36mnewmethod\u001b[0;34m(self, *args, **kwargs)\u001b[0m\n\u001b[1;32m     28\u001b[0m                 \u001b[0;32mreturn\u001b[0m \u001b[0mresponse\u001b[0m\u001b[0;34m\u001b[0m\u001b[0;34m\u001b[0m\u001b[0m\n\u001b[0;32m---> 29\u001b[0;31m             \u001b[0mresult\u001b[0m \u001b[0;34m=\u001b[0m \u001b[0mself\u001b[0m\u001b[0;34m.\u001b[0m\u001b[0m_parse_result\u001b[0m\u001b[0;34m(\u001b[0m\u001b[0mresponse\u001b[0m\u001b[0;34m,\u001b[0m \u001b[0mverbose\u001b[0m\u001b[0;34m=\u001b[0m\u001b[0mverbose\u001b[0m\u001b[0;34m)\u001b[0m\u001b[0;34m\u001b[0m\u001b[0;34m\u001b[0m\u001b[0m\n\u001b[0m\u001b[1;32m     30\u001b[0m             \u001b[0mself\u001b[0m\u001b[0;34m.\u001b[0m\u001b[0mtable\u001b[0m \u001b[0;34m=\u001b[0m \u001b[0mresult\u001b[0m\u001b[0;34m\u001b[0m\u001b[0;34m\u001b[0m\u001b[0m\n",
      "\u001b[0;32m~/lowell/software/astroquery/astroquery/jplhorizons/core.py\u001b[0m in \u001b[0;36m_parse_result\u001b[0;34m(self, response, verbose)\u001b[0m\n\u001b[1;32m   1283\u001b[0m         \u001b[0;32melse\u001b[0m\u001b[0;34m:\u001b[0m\u001b[0;34m\u001b[0m\u001b[0;34m\u001b[0m\u001b[0m\n\u001b[0;32m-> 1284\u001b[0;31m             \u001b[0mdata\u001b[0m \u001b[0;34m=\u001b[0m \u001b[0mself\u001b[0m\u001b[0;34m.\u001b[0m\u001b[0m_parse_horizons\u001b[0m\u001b[0;34m(\u001b[0m\u001b[0mresponse\u001b[0m\u001b[0;34m.\u001b[0m\u001b[0mtext\u001b[0m\u001b[0;34m)\u001b[0m\u001b[0;34m\u001b[0m\u001b[0;34m\u001b[0m\u001b[0m\n\u001b[0m\u001b[1;32m   1285\u001b[0m \u001b[0;34m\u001b[0m\u001b[0m\n",
      "\u001b[0;32m~/lowell/software/astroquery/astroquery/jplhorizons/core.py\u001b[0m in \u001b[0;36m_parse_horizons\u001b[0;34m(self, src)\u001b[0m\n\u001b[1;32m   1151\u001b[0m                                   \u001b[0;34m'unique id:\\n%s'\u001b[0m \u001b[0;34m%\u001b[0m\u001b[0;34m\u001b[0m\u001b[0;34m\u001b[0m\u001b[0m\n\u001b[0;32m-> 1152\u001b[0;31m                                   '\\n'.join(src[idx + 2:end_idx])))\n\u001b[0m\u001b[1;32m   1153\u001b[0m             \u001b[0;31m# catch unknown target\u001b[0m\u001b[0;34m\u001b[0m\u001b[0;34m\u001b[0m\u001b[0;34m\u001b[0m\u001b[0m\n",
      "\u001b[0;31mValueError\u001b[0m: Ambiguous target name; provide unique id:\n  ID#      Name                               Designation  IAU/aliases/other   \n  -------  ---------------------------------- -----------  ------------------- \n  -108366  GOES-1 (spacecraft)                                                  \n  -124786  GOES-10 (spacecraft)                                                 \n  -126352  GOES-11 (spacecraft)                                                 \n  -126871  GOES-12 (spacecraft)                                                 \n  -135491  GOES-14 (spacecraft)                                                 \n ",
      "\nDuring handling of the above exception, another exception occurred:\n",
      "\u001b[0;31mQueryError\u001b[0m                                Traceback (most recent call last)",
      "\u001b[0;32m<ipython-input-4-8ccb752743a7>\u001b[0m in \u001b[0;36m<module>\u001b[0;34m()\u001b[0m\n\u001b[1;32m      1\u001b[0m eph = Ephem.from_horizons('GOES-1', id_type='majorbody',\n\u001b[0;32m----> 2\u001b[0;31m                           epochs=Time([2453452.123245, 2453453.34342, 2453454.342342], format='jd'))\n\u001b[0m",
      "\u001b[0;32m~/lowell/software/sbpy/sbpy/bib/core.py\u001b[0m in \u001b[0;36mwrapper\u001b[0;34m(*args, **kwargs)\u001b[0m\n\u001b[1;32m    165\u001b[0m         \u001b[0;32mdef\u001b[0m \u001b[0mwrapper\u001b[0m\u001b[0;34m(\u001b[0m\u001b[0;34m*\u001b[0m\u001b[0margs\u001b[0m\u001b[0;34m,\u001b[0m \u001b[0;34m**\u001b[0m\u001b[0mkwargs\u001b[0m\u001b[0;34m)\u001b[0m\u001b[0;34m:\u001b[0m\u001b[0;34m\u001b[0m\u001b[0;34m\u001b[0m\u001b[0m\n\u001b[1;32m    166\u001b[0m             \u001b[0;31m# only cite after successful call\u001b[0m\u001b[0;34m\u001b[0m\u001b[0;34m\u001b[0m\u001b[0;34m\u001b[0m\u001b[0m\n\u001b[0;32m--> 167\u001b[0;31m             \u001b[0mresult\u001b[0m \u001b[0;34m=\u001b[0m \u001b[0mf\u001b[0m\u001b[0;34m(\u001b[0m\u001b[0;34m*\u001b[0m\u001b[0margs\u001b[0m\u001b[0;34m,\u001b[0m \u001b[0;34m**\u001b[0m\u001b[0mkwargs\u001b[0m\u001b[0;34m)\u001b[0m\u001b[0;34m\u001b[0m\u001b[0;34m\u001b[0m\u001b[0m\n\u001b[0m\u001b[1;32m    168\u001b[0m             \u001b[0mregister\u001b[0m\u001b[0;34m(\u001b[0m\u001b[0mf\u001b[0m\u001b[0;34m,\u001b[0m \u001b[0mcitations\u001b[0m\u001b[0;34m)\u001b[0m\u001b[0;34m\u001b[0m\u001b[0;34m\u001b[0m\u001b[0m\n\u001b[1;32m    169\u001b[0m             \u001b[0;32mreturn\u001b[0m \u001b[0mresult\u001b[0m\u001b[0;34m\u001b[0m\u001b[0;34m\u001b[0m\u001b[0m\n",
      "\u001b[0;32m~/lowell/software/sbpy/sbpy/data/ephem.py\u001b[0m in \u001b[0;36mfrom_horizons\u001b[0;34m(cls, targetids, id_type, epochs, location, **kwargs)\u001b[0m\n\u001b[1;32m    161\u001b[0m                     ('Error raised by astroquery.jplhorizons: {:s}\\n'\n\u001b[1;32m    162\u001b[0m                      \u001b[0;34m'The following query was attempted: {:s}'\u001b[0m\u001b[0;34m)\u001b[0m\u001b[0;34m.\u001b[0m\u001b[0mformat\u001b[0m\u001b[0;34m(\u001b[0m\u001b[0;34m\u001b[0m\u001b[0;34m\u001b[0m\u001b[0m\n\u001b[0;32m--> 163\u001b[0;31m                          str(e), obj.uri))\n\u001b[0m\u001b[1;32m    164\u001b[0m \u001b[0;34m\u001b[0m\u001b[0m\n\u001b[1;32m    165\u001b[0m             \u001b[0;31m# workaround for current version of astroquery to make\u001b[0m\u001b[0;34m\u001b[0m\u001b[0;34m\u001b[0m\u001b[0;34m\u001b[0m\u001b[0m\n",
      "\u001b[0;31mQueryError\u001b[0m: Error raised by astroquery.jplhorizons: Ambiguous target name; provide unique id:\n  ID#      Name                               Designation  IAU/aliases/other   \n  -------  ---------------------------------- -----------  ------------------- \n  -108366  GOES-1 (spacecraft)                                                  \n  -124786  GOES-10 (spacecraft)                                                 \n  -126352  GOES-11 (spacecraft)                                                 \n  -126871  GOES-12 (spacecraft)                                                 \n  -135491  GOES-14 (spacecraft)                                                 \n \nThe following query was attempted: https://ssd.jpl.nasa.gov/horizons_batch.cgi?batch=1&TABLE_TYPE=OBSERVER&QUANTITIES=%271%2C2%2C3%2C4%2C5%2C6%2C7%2C8%2C9%2C10%2C11%2C12%2C13%2C14%2C15%2C16%2C17%2C18%2C19%2C20%2C21%2C22%2C23%2C24%2C25%2C26%2C27%2C28%2C29%2C30%2C31%2C32%2C33%2C34%2C35%2C36%2C37%2C38%2C39%2C40%2C41%2C42%2C43%27&COMMAND=%22GOES-1%22&SOLAR_ELONG=%220%2C180%22&LHA_CUTOFF=0&CSV_FORMAT=YES&CAL_FORMAT=BOTH&ANG_FORMAT=DEG&APPARENT=AIRLESS&REF_SYSTEM=J2000&EXTRA_PREC=NO&CENTER=%27500%27&TLIST=2453452.123245%0A2453453.34342%0A2453454.342342&SKIP_DAYLT=NO"
     ]
    }
   ],
   "source": [
    "eph = Ephem.from_horizons('GOES-1', id_type='majorbody',\n",
    "                          epochs=Time([2453452.123245, 2453453.34342, 2453454.342342], format='jd'))"
   ]
  },
  {
   "cell_type": "markdown",
   "metadata": {},
   "source": [
    "Another error. This time, the error refers to the target name being ambiguous and provides a list of objects in the database that match the search string. We pick `GOES-1` and use the unique id provided for this object (note that in this case we have to use `id_type='id'`):"
   ]
  },
  {
   "cell_type": "code",
   "execution_count": 5,
   "metadata": {},
   "outputs": [
    {
     "data": {
      "text/html": [
       "<i>QTable masked=True length=3</i>\n",
       "<table id=\"table140339014797912\" class=\"table-striped table-bordered table-condensed\">\n",
       "<thead><tr><th>targetname</th><th>solar_presence</th><th>flags</th><th>RA</th><th>DEC</th><th>RA_app</th><th>DEC_app</th><th>RA*cos(Dec)_rate</th><th>DEC_rate</th><th>AZ</th><th>EL</th><th>AZ_rate</th><th>EL_rate</th><th>sat_X</th><th>sat_Y</th><th>sat_PANG</th><th>siderealtime</th><th>airmass</th><th>magextinct</th><th>V</th><th>surfbright</th><th>illumination</th><th>illum_defect</th><th>sat_sep</th><th>sat_vis</th><th>ang_width</th><th>PDObsLon</th><th>PDObsLat</th><th>PDSunLon</th><th>PDSunLat</th><th>SubSol_ang</th><th>SubSol_dist</th><th>NPole_ang</th><th>NPole_dist</th><th>EclLon</th><th>EclLat</th><th>r</th><th>r_rate</th><th>delta</th><th>delta_rate</th><th>lighttime</th><th>vel_sun</th><th>vel_obs</th><th>elong</th><th>elongFlag</th><th>alpha</th><th>lunar_elong</th><th>lunar_illum</th><th>sat_alpha</th><th>sunTargetPA</th><th>velocityPA</th><th>OrbPlaneAng</th><th>constellation</th><th>TDB-UT</th><th>ObsEclLon</th><th>ObsEclLat</th><th>NPole_RA</th><th>NPole_DEC</th><th>GlxLon</th><th>GlxLat</th><th>solartime</th><th>earth_lighttime</th><th>RA_3sigma</th><th>DEC_3sigma</th><th>SMAA_3sigma</th><th>SMIA_3sigma</th><th>Theta_3sigma</th><th>Area_3sigma</th><th>RSS_3sigma</th><th>r_3sigma</th><th>r_rate_3sigma</th><th>SBand_3sigma</th><th>XBand_3sigma</th><th>DoppDelay_3sigma</th><th>true_anom</th><th>hour_angle</th><th>alpha_true</th><th>PABLon</th><th>PABLat</th><th>epoch</th></tr></thead>\n",
       "<thead><tr><th></th><th></th><th></th><th>deg</th><th>deg</th><th>deg</th><th>deg</th><th>arcsec / h</th><th>arcsec / h</th><th>deg</th><th>deg</th><th>arcsec / min</th><th>arcsec / min</th><th>arcsec</th><th>arcsec</th><th>deg</th><th>h</th><th></th><th>mag</th><th>mag</th><th>mag / arcsec2</th><th>%</th><th>arcsec</th><th>arcsec</th><th></th><th>arcsec</th><th>deg</th><th>deg</th><th>deg</th><th>deg</th><th>deg</th><th>arcsec</th><th>deg</th><th>arcsec</th><th>deg</th><th>deg</th><th>AU</th><th>km / s</th><th>AU</th><th>km / s</th><th>min</th><th>km / s</th><th>km / s</th><th>deg</th><th></th><th>deg</th><th>deg</th><th>%</th><th>deg</th><th>deg</th><th>deg</th><th>deg</th><th></th><th>s</th><th>deg</th><th>deg</th><th>deg</th><th>deg</th><th>deg</th><th>deg</th><th></th><th>min</th><th>arcsec</th><th>arcsec</th><th>arcsec</th><th>arcsec</th><th>deg</th><th>arcsec2</th><th>arcsec</th><th>km</th><th>km / s</th><th>Hz</th><th>Hz</th><th>s</th><th>deg</th><th></th><th>deg</th><th>deg</th><th>deg</th><th></th></tr></thead>\n",
       "<thead><tr><th>str29</th><th>str1</th><th>str1</th><th>float64</th><th>float64</th><th>float64</th><th>float64</th><th>float64</th><th>float64</th><th>float64</th><th>float64</th><th>float64</th><th>float64</th><th>float64</th><th>float64</th><th>float64</th><th>float64</th><th>int64</th><th>float64</th><th>float64</th><th>float64</th><th>float64</th><th>float64</th><th>float64</th><th>int64</th><th>float64</th><th>float64</th><th>float64</th><th>float64</th><th>float64</th><th>float64</th><th>float64</th><th>float64</th><th>float64</th><th>float64</th><th>float64</th><th>float64</th><th>float64</th><th>float64</th><th>float64</th><th>float64</th><th>float64</th><th>float64</th><th>float64</th><th>str2</th><th>float64</th><th>float64</th><th>float64</th><th>float64</th><th>float64</th><th>float64</th><th>float64</th><th>str3</th><th>float64</th><th>float64</th><th>float64</th><th>float64</th><th>float64</th><th>float64</th><th>float64</th><th>int64</th><th>float64</th><th>float64</th><th>float64</th><th>float64</th><th>float64</th><th>float64</th><th>float64</th><th>float64</th><th>float64</th><th>float64</th><th>float64</th><th>float64</th><th>float64</th><th>float64</th><th>int64</th><th>float64</th><th>float64</th><th>float64</th><th>object</th></tr></thead>\n",
       "<tr><td>GOES-1 (spacecraft) (-108366)</td><td></td><td></td><td>292.53054</td><td>-13.56267</td><td>292.60033</td><td>-13.55515</td><td>53839.88</td><td>5312.911</td><td>0.0</td><td>0.0</td><td>0.0</td><td>0.0</td><td>0.0</td><td>0.0</td><td>0.0</td><td>0.0</td><td>999</td><td>0.0</td><td>0.0</td><td>0.0</td><td>33.011</td><td>0.0</td><td>0.0</td><td>--</td><td>0.0</td><td>0.0</td><td>0.0</td><td>0.0</td><td>0.0</td><td>84.09</td><td>0.0</td><td>0.0</td><td>0.0</td><td>182.0342</td><td>0.0022</td><td>0.996462370793</td><td>-2.4006489</td><td>0.00028198033874</td><td>7.54e-05</td><td>0.002345</td><td>28.94338</td><td>3.07344</td><td>70.1227</td><td>/L</td><td>109.8618</td><td>145.1</td><td>89.7</td><td>0.0</td><td>264.115</td><td>52.735</td><td>-8.48354</td><td>Sgr</td><td>64.185623</td><td>292.173953</td><td>8.1630192</td><td>0.0</td><td>0.0</td><td>24.955623</td><td>-14.610802</td><td>--</td><td>0.0</td><td>0.0</td><td>0.0</td><td>0.0</td><td>0.0</td><td>0.0</td><td>0.0</td><td>0.0</td><td>0.0</td><td>0.0</td><td>0.0</td><td>0.0</td><td>0.0</td><td>0.0</td><td>--</td><td>109.8638</td><td>236.6495</td><td>7.1011</td><td>2453452.123245</td></tr>\n",
       "<tr><td>GOES-1 (spacecraft) (-108366)</td><td></td><td></td><td>11.72219</td><td>3.09356</td><td>11.78241</td><td>3.1196</td><td>52437.73</td><td>13395.67</td><td>0.0</td><td>0.0</td><td>0.0</td><td>0.0</td><td>0.0</td><td>0.0</td><td>0.0</td><td>0.0</td><td>999</td><td>0.0</td><td>0.0</td><td>0.0</td><td>0.608</td><td>0.0</td><td>0.0</td><td>--</td><td>0.0</td><td>0.0</td><td>0.0</td><td>0.0</td><td>0.0</td><td>258.51</td><td>0.0</td><td>0.0</td><td>0.0</td><td>183.2266</td><td>-0.0005</td><td>0.996620933601</td><td>0.9627722</td><td>0.00028194287078</td><td>-0.0005526</td><td>0.002345</td><td>26.88044</td><td>3.07419</td><td>8.9376</td><td>/T</td><td>171.0605</td><td>147.7</td><td>95.8</td><td>0.0</td><td>78.509</td><td>65.731</td><td>1.94249</td><td>Psc</td><td>64.185629</td><td>12.0529652</td><td>-1.7868197</td><td>0.0</td><td>0.0</td><td>120.666256</td><td>-59.760301</td><td>--</td><td>0.0</td><td>0.0</td><td>0.0</td><td>0.0</td><td>0.0</td><td>0.0</td><td>0.0</td><td>0.0</td><td>0.0</td><td>0.0</td><td>0.0</td><td>0.0</td><td>0.0</td><td>0.0</td><td>--</td><td>171.055</td><td>97.7863</td><td>-11.5368</td><td>2453453.34342</td></tr>\n",
       "<tr><td>GOES-1 (spacecraft) (-108366)</td><td></td><td></td><td>12.1502</td><td>3.20556</td><td>12.21043</td><td>3.23158</td><td>52443.95</td><td>13372.85</td><td>0.0</td><td>0.0</td><td>0.0</td><td>0.0</td><td>0.0</td><td>0.0</td><td>0.0</td><td>0.0</td><td>999</td><td>0.0</td><td>0.0</td><td>0.0</td><td>0.539</td><td>0.0</td><td>0.0</td><td>--</td><td>0.0</td><td>0.0</td><td>0.0</td><td>0.0</td><td>0.0</td><td>259.73</td><td>0.0</td><td>0.0</td><td>0.0</td><td>184.2166</td><td>-0.0005</td><td>0.996902159044</td><td>0.9379062</td><td>0.00028194166434</td><td>-0.0005518</td><td>0.002345</td><td>26.8658</td><td>3.0742</td><td>8.4107</td><td>/T</td><td>171.5875</td><td>159.7</td><td>98.8</td><td>0.0</td><td>79.723</td><td>65.779</td><td>1.99614</td><td>Psc</td><td>64.185633</td><td>12.4904318</td><td>-1.8500582</td><td>0.0</td><td>0.0</td><td>121.519585</td><td>-59.660567</td><td>--</td><td>0.0</td><td>0.0</td><td>0.0</td><td>0.0</td><td>0.0</td><td>0.0</td><td>0.0</td><td>0.0</td><td>0.0</td><td>0.0</td><td>0.0</td><td>0.0</td><td>0.0</td><td>0.0</td><td>--</td><td>171.582</td><td>98.5263</td><td>-12.7094</td><td>2453454.342342</td></tr>\n",
       "</table>"
      ],
      "text/plain": [
       "<QTable masked=True length=3>\n",
       "          targetname          solar_presence flags ...  PABLat      epoch     \n",
       "                                                   ...   deg                  \n",
       "            str29                  str1       str1 ... float64      object    \n",
       "----------------------------- -------------- ----- ... -------- --------------\n",
       "GOES-1 (spacecraft) (-108366)                      ...   7.1011 2453452.123245\n",
       "GOES-1 (spacecraft) (-108366)                      ... -11.5368  2453453.34342\n",
       "GOES-1 (spacecraft) (-108366)                      ... -12.7094 2453454.342342"
      ]
     },
     "execution_count": 5,
     "metadata": {},
     "output_type": "execute_result"
    }
   ],
   "source": [
    "eph = Ephem.from_horizons('-108366', id_type='id',\n",
    "                          epochs=Time([2453452.123245, 2453453.34342, 2453454.342342], format='jd'))\n",
    "eph.table"
   ]
  },
  {
   "cell_type": "markdown",
   "metadata": {},
   "source": [
    "Using Ephem objects\n",
    "-------------------\n",
    "\n",
    "... please refer to [this notebook](https://github.com/NASA-Planetary-Science/sbpy-tutorial/blob/master/notebooks/data/General_concepts.ipynb) for some examples."
   ]
  },
  {
   "cell_type": "markdown",
   "metadata": {},
   "source": [
    "Computing Ephemerides with OpenOrb\n",
    "-------------------------------\n",
    "\n",
    "`sbpy.data.Ephem.from_oo` provides a way to compute ephemerides from an [sbpy.data.Orbit](https://sbpy.readthedocs.io/en/latest/api/sbpy.data.Orbit.html#sbpy.data.Orbit) object. This function requires [pyoorb](https://github.com/oorb/oorb/tree/master/python) to be installed.\n",
    "\n",
    "However, you can use the following code snippet on your computer locally to compute ephemerides for a number of orbits that were obtained from the JPL Horizons system as observed from he Discovery Channel Telescope (observatory code `'G37'`):"
   ]
  },
  {
   "cell_type": "code",
   "execution_count": 6,
   "metadata": {},
   "outputs": [
    {
     "data": {
      "text/html": [
       "<i>QTable length=216</i>\n",
       "<table id=\"table140339090207072\" class=\"table-striped table-bordered table-condensed\">\n",
       "<thead><tr><th>targetname</th><th>RA</th><th>DEC</th><th>RA*cos(Dec)_rate</th><th>DEC_rate</th><th>alpha</th><th>elong</th><th>r</th><th>Delta</th><th>V</th><th>pa</th><th>TopEclLon</th><th>TopEclLat</th><th>OppTopEclLon</th><th>OppTopEclLat</th><th>HelEclLon</th><th>HelEclLat</th><th>OppHelEclLon</th><th>OppHelEclLat</th><th>EL</th><th>ELsun</th><th>ELmoon</th><th>lunarphase</th><th>lunarelong</th><th>x</th><th>y</th><th>z</th><th>vx</th><th>vy</th><th>vz</th><th>obsx</th><th>obsy</th><th>obsz</th><th>trueanom</th><th>epoch</th></tr></thead>\n",
       "<thead><tr><th></th><th>deg</th><th>deg</th><th>deg / d</th><th>deg / d</th><th>deg</th><th>deg</th><th>AU</th><th>AU</th><th>mag</th><th>deg</th><th>deg</th><th>deg</th><th>deg</th><th>deg</th><th>deg</th><th>deg</th><th>deg</th><th>deg</th><th>deg</th><th>deg</th><th>deg</th><th></th><th>deg</th><th>AU</th><th>AU</th><th>AU</th><th>AU / d</th><th>AU / d</th><th>AU / d</th><th>AU</th><th>AU</th><th>AU</th><th>deg</th><th></th></tr></thead>\n",
       "<thead><tr><th>str26</th><th>float64</th><th>float64</th><th>float64</th><th>float64</th><th>float64</th><th>float64</th><th>float64</th><th>float64</th><th>float64</th><th>float64</th><th>float64</th><th>float64</th><th>float64</th><th>float64</th><th>float64</th><th>float64</th><th>float64</th><th>float64</th><th>float64</th><th>float64</th><th>float64</th><th>float64</th><th>float64</th><th>float64</th><th>float64</th><th>float64</th><th>float64</th><th>float64</th><th>float64</th><th>float64</th><th>float64</th><th>float64</th><th>float64</th><th>object</th></tr></thead>\n",
       "<tr><td>12893 Mommert (1998 QS55)</td><td>160.5605433652289</td><td>7.616803275597487</td><td>0.3377250233917056</td><td>-0.13114809656147242</td><td>8.58444791876962</td><td>26.299483859514886</td><td>3.0110669407671287</td><td>3.8867522803098455</td><td>19.844162969653635</td><td>111.22258736329616</td><td>159.1823949140605</td><td>-0.5504386612061156</td><td>-153.70581022224005</td><td>-0.5530505141086918</td><td>167.7658849561184</td><td>-0.709645678046231</td><td>-145.12232018018213</td><td>-0.7122575309488072</td><td>62.68275172452956</td><td>64.17299555206097</td><td>34.41822991913667</td><td>0.30234478433781764</td><td>40.65052553931442</td><td>-2.9424595839708667</td><td>0.6380164141830137</td><td>-0.03729307860394834</td><td>-0.002299004878260299</td><td>-0.00930003608787433</td><td>0.00036758983507743714</td><td>0.6903845189796334</td><td>-0.7432489993656337</td><td>4.624281790027349e-05</td><td>157.99809421810178</td><td>2458701.372966158</td></tr>\n",
       "<tr><td>12893 Mommert (1998 QS55)</td><td>160.5747408896238</td><td>7.61133603868933</td><td>0.3377942293565847</td><td>-0.13128235365768479</td><td>8.576944876175885</td><td>26.275084958661527</td><td>3.011078250171949</td><td>3.8870117866015326</td><td>19.844009374134046</td><td>111.2384128796202</td><td>159.19749120691597</td><td>-0.5502275967457549</td><td>-153.73020647157435</td><td>-0.5530366243997615</td><td>167.77347757167203</td><td>-0.7093515515199836</td><td>-145.1542201068183</td><td>-0.7121605791739903</td><td>61.15171282896108</td><td>53.2959480152309</td><td>43.34650569090973</td><td>0.3055411972370575</td><td>41.064799756306805</td><td>-2.942555344707169</td><td>0.6376289206209875</td><td>-0.03727776256100396</td><td>-0.0022976758235600803</td><td>-0.00930032400135261</td><td>0.00036760667350933893</td><td>0.6908952744686983</td><td>-0.7427714709186821</td><td>4.9733694451677885e-05</td><td>158.0056921893977</td><td>2458701.4146328247</td></tr>\n",
       "<tr><td>12893 Mommert (1998 QS55)</td><td>160.5889457732859</td><td>7.6058633052903994</td><td>0.338081994948384</td><td>-0.131410706773356</td><td>8.569432758152319</td><td>26.25060935209744</td><td>3.011089555856701</td><td>3.8872733974067195</td><td>19.843856438386226</td><td>111.24084428914672</td><td>159.21259648236662</td><td>-0.550018289504123</td><td>-153.75467930992767</td><td>-0.5530322930361831</td><td>167.78107012697208</td><td>-0.7090574148316426</td><td>-145.18620566532223</td><td>-0.7120714183637028</td><td>53.94842969102581</td><td>41.292456736895836</td><td>49.529544603741776</td><td>0.3085406047904319</td><td>41.45336357945285</td><td>-2.9426510500407788</td><td>0.637241415175323</td><td>-0.03726244582092493</td><td>-0.0022963467409503613</td><td>-0.009300611736533699</td><td>0.00036762350482511663</td><td>0.6914080643124827</td><td>-0.7422939073386658</td><td>5.3362772246129214e-05</td><td>158.01329010372135</td><td>2458701.4562994917</td></tr>\n",
       "<tr><td>12893 Mommert (1998 QS55)</td><td>160.60316686657896</td><td>7.600385473313785</td><td>0.33856988610256816</td><td>-0.131525978658383</td><td>8.561903654356035</td><td>26.226042777321478</td><td>3.011100857821261</td><td>3.8875369164860833</td><td>19.843703728039117</td><td>111.22990999483427</td><td>159.22771872350228</td><td>-0.5498070783730964</td><td>-153.77924323764037</td><td>-0.5530197230614619</td><td>167.78866262207154</td><td>-0.7087632679846287</td><td>-145.21829933907108</td><td>-0.7119759126729943</td><td>43.697153614843124</td><td>28.965175771955643</td><td>51.535221960518285</td><td>0.31143545244875936</td><td>41.82825899726379</td><td>-2.9427466999709813</td><td>0.6368538978517629</td><td>-0.03724712838394105</td><td>-0.0022950176304461023</td><td>-0.009300899293418824</td><td>0.0003676403290247244</td><td>0.6919228994659794</td><td>-0.7418157316547265</td><td>5.687977306976913e-05</td><td>158.02088796092224</td><td>2458701.497966158</td></tr>\n",
       "<tr><td>12893 Mommert (1998 QS55)</td><td>160.61741195145785</td><td>7.594903222274468</td><td>0.33922578266180586</td><td>-0.1316218962579288</td><td>8.554350739544844</td><td>26.201377221409434</td><td>3.011112156066126</td><td>3.8878020012497414</td><td>19.843550770868028</td><td>111.20658968203007</td><td>159.24286482594192</td><td>-0.5495904373273098</td><td>-153.80390649733803</td><td>-0.5529816881234011</td><td>167.79625505743851</td><td>-0.7084691109662841</td><td>-145.25051626584144</td><td>-0.7118603617623753</td><td>32.07426263909357</td><td>16.667652173570612</td><td>48.720400232778</td><td>0.3143269627403996</td><td>42.202451699575334</td><td>-2.942842294502287</td><td>0.6364663686348685</td><td>-0.037231810249444865</td><td>-0.0022936884919896147</td><td>-0.009301186672024907</td><td>0.0003676571461090421</td><td>0.692439627242554</td><td>-0.7413363838651913</td><td>6.004211674722524e-05</td><td>158.02848576110472</td><td>2458701.5396328247</td></tr>\n",
       "<tr><td>12893 Mommert (1998 QS55)</td><td>160.6316872089</td><td>7.589417466632932</td><td>0.34000607749714074</td><td>-0.13169351805077492</td><td>8.546768740383428</td><td>26.17661146524856</td><td>3.011123450591974</td><td>3.88806818617573</td><td>19.84339708911277</td><td>111.1727285568527</td><td>159.2580401259627</td><td>-0.5493652169994772</td><td>-153.82867051398995</td><td>-0.5529027129026854</td><td>167.80384743366545</td><td>-0.7081749437591266</td><td>-145.2828632062872</td><td>-0.7117124396623348</td><td>19.87252394979561</td><td>4.64478604184055</td><td>41.93751844734014</td><td>0.3173176415645436</td><td>42.588881506555204</td><td>-2.9429378336407606</td><td>0.6360788275028368</td><td>-0.03721649141657765</td><td>-0.002292359325501377</td><td>-0.009301473872373536</td><td>0.00036767395607921883</td><td>0.6929579417425507</td><td>-0.7408553593423077</td><td>6.263154253168031e-05</td><td>158.036083504373</td><td>2458701.5812994917</td></tr>\n",
       "<tr><td>12893 Mommert (1998 QS55)</td><td>160.64599679594602</td><td>7.583929293151116</td><td>0.34085866089907524</td><td>-0.13173756963096256</td><td>8.539154296056118</td><td>26.151751164793886</td><td>3.011134741399254</td><td>3.88833491463638</td><td>19.843242232185695</td><td>111.13088780456134</td><td>159.2732480353564</td><td>-0.5491288604113603</td><td>-153.8535297995991</td><td>-0.5527701333524512</td><td>167.81143975119002</td><td>-0.7078807663516768</td><td>-145.31533808376548</td><td>-0.7115220392927677</td><td>7.506746740093395</td><td>-6.847358265131247</td><td>32.618589181604506</td><td>0.32050376561033345</td><td>42.99952088719469</td><td>-2.9430333173905012</td><td>0.6356912744417792</td><td>-0.03720117188479324</td><td>-0.002291030130929019</td><td>-0.009301760894480393</td><td>0.0003676907589360559</td><td>0.693477404779709</td><td>-0.7403722434430198</td><td>6.44690642087516e-05</td><td>158.04368119057673</td><td>2458701.622966158</td></tr>\n",
       "<tr><td>12893 Mommert (1998 QS55)</td><td>160.66034256263885</td><td>7.578439886039569</td><td>0.341726485942777</td><td>-0.13175266475070427</td><td>8.531506187293655</td><td>26.126808461633566</td><td>3.011146028488871</td><td>3.8886015769821354</td><td>19.84308580751407</td><td>111.08414785929315</td><td>159.2884898094266</td><td>-0.5488795780597352</td><td>-153.8784723311834</td><td>-0.5525749641111721</td><td>167.8190320107571</td><td>-0.7075865787205379</td><td>-145.3479301298529</td><td>-0.7112819647719748</td><td>-4.7339892060544315</td><td>-17.466577437024213</td><td>21.859623251613947</td><td>0.32396858714485544</td><td>43.44453515602126</td><td>-2.943128745759462</td><td>0.635303709422103</td><td>-0.03718585165292483</td><td>-0.0022897009081663078</td><td>-0.009302047738372737</td><td>0.0003677075546810409</td><td>0.6939974759229073</td><td>-0.7398867399066505</td><td>6.542723434305395e-05</td><td>158.0512788198201</td><td>2458701.6646328247</td></tr>\n",
       "<tr><td>12893 Mommert (1998 QS55)</td><td>160.67472392539761</td><td>7.572950446104241</td><td>0.3425514705960207</td><td>-0.13173939691138348</td><td>8.523825419668693</td><td>26.10180115459816</td><td>3.0111573118617474</td><td>3.8888675522254466</td><td>19.842927507433906</td><td>111.03588364443884</td><td>159.303764460994</td><td>-0.548616470412257</td><td>-153.9034803710761</td><td>-0.5523125137400526</td><td>167.8266242131263</td><td>-0.7072923808417385</td><td>-145.38062061894377</td><td>-0.7109884241695341</td><td>-16.559692614881843</td><td>-26.709688354229524</td><td>10.324653139339485</td><td>0.3277768406148489</td><td>43.931619247747776</td><td>-2.943224118755757</td><td>0.6349161324134653</td><td>-0.037170530719775635</td><td>-0.0022883716571044438</td><td>-0.009302334404078313</td><td>0.00036772434331568354</td><td>0.6945175494928082</td><td>-0.7393986911881978</td><td>6.543887679374655e-05</td><td>158.0588763922075</td><td>2458701.7062994917</td></tr>\n",
       "<tr><td>...</td><td>...</td><td>...</td><td>...</td><td>...</td><td>...</td><td>...</td><td>...</td><td>...</td><td>...</td><td>...</td><td>...</td><td>...</td><td>...</td><td>...</td><td>...</td><td>...</td><td>...</td><td>...</td><td>...</td><td>...</td><td>...</td><td>...</td><td>...</td><td>...</td><td>...</td><td>...</td><td>...</td><td>...</td><td>...</td><td>...</td><td>...</td><td>...</td><td>...</td><td>...</td></tr>\n",
       "<tr><td>(2018 RC3)</td><td>174.62392225707825</td><td>5.056428871405426</td><td>0.358464875119683</td><td>-0.1312248186578925</td><td>13.880104141679979</td><td>37.76721771476077</td><td>2.5889859528933608</td><td>3.3150176294556366</td><td>30.166508485825084</td><td>110.1063855748443</td><td>173.06165493257143</td><td>2.5069286184376436</td><td>-142.30388029234774</td><td>2.5041861679677635</td><td>186.94130536488174</td><td>3.21168069342134</td><td>-128.4242298600374</td><td>3.20893824295146</td><td>-48.23765477041697</td><td>-19.803284632646573</td><td>-32.2714599132494</td><td>0.4292490490916869</td><td>93.60864777639995</td><td>-2.565973365162592</td><td>-0.3123939976898078</td><td>0.1450480739709725</td><td>-0.002511214794184354</td><td>-0.008093946115549745</td><td>0.0016775935271566885</td><td>0.7216181799705778</td><td>-0.7124688769753795</td><td>4.853840681926483e-05</td><td>151.8391648868468</td><td>2458703.9562994917</td></tr>\n",
       "<tr><td>(2018 RC3)</td><td>174.6389092860115</td><td>5.050962743931315</td><td>0.35809492146526706</td><td>-0.13115503851135518</td><td>13.871387864411147</td><td>37.74305437378486</td><td>2.5891342385411917</td><td>3.315506677400657</td><td>30.166652162613566</td><td>110.11564788264259</td><td>173.0775426770449</td><td>2.507828255210542</td><td>-142.32814251700432</td><td>2.505283928585041</td><td>186.94844463572264</td><td>3.2130456753300005</td><td>-128.45724055832662</td><td>3.210501348704499</td><td>-41.76821565320267</td><td>-9.35931173783412</td><td>-29.55033991055969</td><td>0.42935184789020675</td><td>93.61078882453464</td><td>-2.5660779540397853</td><td>-0.31273121795661113</td><td>0.14511796681541367</td><td>-0.002509391707106909</td><td>-0.008093724049446206</td><td>0.0016774904480193074</td><td>0.7221071602342894</td><td>-0.7119530663598668</td><td>4.50311989547399e-05</td><td>151.84642256619307</td><td>2458703.997966158</td></tr>\n",
       "<tr><td>(2018 RC3)</td><td>174.65387584609488</td><td>5.045499305363546</td><td>0.3574977475964659</td><td>-0.131096577491149</td><td>13.862690797678457</td><td>37.71899466759821</td><td>2.589282489139729</td><td>3.315993422200454</td><td>30.166794864674806</td><td>110.13829115127976</td><td>173.093410734429</td><td>2.5087225004699625</td><td>-142.35230227796873</td><td>2.506354097549052</td><td>186.95558311031388</td><td>3.2144104515756395</td><td>-128.49012990208385</td><td>3.212042048654729</td><td>-32.50860525891961</td><td>2.0283994994110586</td><td>-27.181305154985612</td><td>0.4294561098786599</td><td>93.61337149884635</td><td>-2.5661824669984945</td><td>-0.3130684290747401</td><td>0.14518785538682633</td><td>-0.002507568858281885</td><td>-0.00809350178193606</td><td>0.001677387336899524</td><td>0.722593587046611</td><td>-0.7114378029803591</td><td>4.191695793069536e-05</td><td>151.85367941441032</td><td>2458704.0396328247</td></tr>\n",
       "<tr><td>(2018 RC3)</td><td>174.6688132425727</td><td>5.040037984352889</td><td>0.35671442571063156</td><td>-0.13105406289649207</td><td>13.854020880148358</td><td>37.69503820257028</td><td>2.5894307046845486</td><td>3.316478238865109</td><td>30.166937112743</td><td>110.17293340128464</td><td>173.1092513719237</td><td>2.509607394725205</td><td>-142.37636061017545</td><td>2.5073806928830034</td><td>186.96272078869916</td><td>3.215775022162163</td><td>-128.5228911934</td><td>3.2135483203199615</td><td>-21.631734297301563</td><td>13.990814104601887</td><td>-25.295508452149438</td><td>0.4295608040457598</td><td>93.61632028136658</td><td>-2.5662869040443486</td><td>-0.3134056310220784</td><td>0.14525773968103195</td><td>-0.0025057462477170835</td><td>-0.008093279313099421</td><td>0.0016772841938133274</td><td>0.7230777892145935</td><td>-0.7109235794662645</td><td>3.940847263409371e-05</td><td>151.86093543191907</td><td>2458704.0812994917</td></tr>\n",
       "<tr><td>(2018 RC3)</td><td>174.68371477564781</td><td>5.0345780389429855</td><td>0.3557987428917849</td><td>-0.1310310198172819</td><td>13.845384126296283</td><td>37.67117756064746</td><td>2.589578885163801</td><td>3.316961619209075</td><td>30.167079437547052</td><td>110.21738289995314</td><td>173.12505875048714</td><td>2.5104796092584793</td><td>-142.40032546049116</td><td>2.508350706803807</td><td>186.96985767056444</td><td>3.2171393870251124</td><td>-128.55552654041387</td><td>3.21501048457044</td><td>-9.863626969515401</td><td>26.258083397369468</td><td>-23.99460796947779</td><td>0.429664870338351</td><td>93.61953626733256</td><td>-2.5663912651777543</td><td>-0.31374282375961426</td><td>0.14532761969035093</td><td>-0.0025039238755116175</td><td>-0.008093056643027539</td><td>0.001677181018781873</td><td>0.7235602234563149</td><td>-0.710410793358327</td><td>3.767703901573982e-05</td><td>151.86819061889634</td><td>2458704.122966158</td></tr>\n",
       "<tr><td>(2018 RC3)</td><td>174.69857619893446</td><td>5.029118607377407</td><td>0.3548135207175944</td><td>-0.13102963305971346</td><td>13.836784215298927</td><td>37.647398803583506</td><td>2.589727030569021</td><td>3.3174441382502127</td><td>30.167222343512567</td><td>110.26876180170875</td><td>173.14082932438907</td><td>2.5113366739642746</td><td>-142.4242111470947</td><td>2.5092549970818547</td><td>186.97699375575797</td><td>3.2185035461310396</td><td>-128.58804671572582</td><td>3.2164218692486197</td><td>2.3545533734542112</td><td>38.58355906773304</td><td>-23.34784533124879</td><td>0.42976729178698203</td><td>93.62290388044788</td><td>-2.566495550401518</td><td>-0.31408000725599716</td><td>0.14539749540869212</td><td>-0.0025021017417231743</td><td>-0.00809283377180664</td><td>0.0016770778118239764</td><td>0.7240414431229786</td><td>-0.7098997198530849</td><td>3.684072262126189e-05</td><td>151.8754449757624</td><td>2458704.1646328247</td></tr>\n",
       "<tr><td>(2018 RC3)</td><td>174.7133960085731</td><td>5.023658767504875</td><td>0.3538263180221358</td><td>-0.13105060116661318</td><td>13.828222240472734</td><td>37.62368242347681</td><td>2.589875140890733</td><td>3.3179264148698215</td><td>30.167366274250586</td><td>110.32368032220107</td><td>173.15656208234768</td><td>2.512177146236351</td><td>-142.4480373826888</td><td>2.5100889134975977</td><td>186.98412904407948</td><td>3.2198674994372545</td><td>-128.62047042095702</td><td>3.2177792666985017</td><td>14.713947430344273</td><td>50.635006422750024</td><td>-23.389356397306894</td><td>0.4298671638222569</td><td>93.62629874201083</td><td>-2.566599759717744</td><td>-0.3144171814775855</td><td>0.14546736682949002</td><td>-0.002500279846421798</td><td>-0.008092610699524466</td><td>0.0016769745729591531</td><td>0.724522060252113</td><td>-0.7093904929809673</td><td>3.695626875870108e-05</td><td>151.88269850293733</td><td>2458704.2062994917</td></tr>\n",
       "<tr><td>(2018 RC3)</td><td>174.72817554478524</td><td>5.018197600163337</td><td>0.35290481053575096</td><td>-0.13109309229222862</td><td>13.819696635500073</td><td>37.600004672630554</td><td>2.5900232161145156</td><td>3.3184090694715547</td><td>30.16751158220885</td><td>110.37845580129141</td><td>173.17225861539634</td><td>2.5130007094482982</td><td>-142.47182793035068</td><td>2.5108526165171434</td><td>186.99126353508944</td><td>3.221231246855368</td><td>-128.65282301065758</td><td>3.2190831539242133</td><td>26.92753082450358</td><td>61.7162480685992</td><td>-24.11660456067479</td><td>0.4299637560409269</td><td>93.62959615626555</td><td>-2.5667038931250734</td><td>-0.3147543463794383</td><td>0.1455372339438383</td><td>-0.0024984581897385585</td><td>-0.00809238742627627</td><td>0.0016768713022103884</td><td>0.7250027035998297</td><td>-0.7088830964567273</td><td>3.801521414219773e-05</td><td>151.88995120059778</td><td>2458704.247966158</td></tr>\n",
       "<tr><td>(2018 RC3)</td><td>174.74291890038492</td><td>5.0127342516712545</td><td>0.3521121632150543</td><td>-0.13115480473556473</td><td>13.811203281623278</td><td>37.57633917986134</td><td>2.5901712562318266</td><td>3.3188926815814783</td><td>30.16765850457553</td><td>110.42936549267382</td><td>173.1879230083914</td><td>2.513808194372118</td><td>-142.49560898590764</td><td>2.5115510663322644</td><td>186.9983972286314</td><td>3.222594788351121</td><td>-128.68513476566764</td><td>3.2203376603112672</td><td>38.61530159813674</td><td>69.84864469370167</td><td>-25.49051586225712</td><td>0.430056562184447</td><td>93.63267963077723</td><td>-2.566807950626299</td><td>-0.31509150192998764</td><td>0.14560709674560274</td><td>-0.002496636771732243</td><td>-0.008092163952148484</td><td>0.0016767679995965724</td><td>0.7254839755747122</td><td>-0.7083773647795178</td><td>3.994446667868759e-05</td><td>151.89720306916362</td><td>2458704.2896328247</td></tr>\n",
       "<tr><td>(2018 RC3)</td><td>174.75763263962654</td><td>5.007267992230943</td><td>0.3515027119604866</td><td>-0.13123212776739743</td><td>13.802735790132168</td><td>37.55265874776973</td><td>2.5903192612357095</td><td>3.319377750194349</td><td>30.16780714705586</td><td>110.47291595059887</td><td>173.20356155951438</td><td>2.514601521919254</td><td>-142.5194073924135</td><td>2.5121936827974505</td><td>187.005530124625</td><td>3.2239581239047985</td><td>-128.71743882730286</td><td>3.2215502847829947</td><td>49.10886461784949</td><td>70.67621800497307</td><td>-27.437273335766964</td><td>0.4301453348642741</td><td>93.63544884606283</td><td>-2.5669119322253375</td><td>-0.3154286481012615</td><td>0.14567695522939447</td><td>-0.002494815592442194</td><td>-0.008091940277225165</td><td>0.0016766646651354992</td><td>0.7259664109298649</td><td>-0.7078729946073189</td><td>4.261131363845436e-05</td><td>151.90445410905437</td><td>2458704.3312994917</td></tr>\n",
       "</table>"
      ],
      "text/plain": [
       "<QTable length=216>\n",
       "        targetname                RA         ...       epoch       \n",
       "                                 deg         ...                   \n",
       "          str26                float64       ...       object      \n",
       "------------------------- ------------------ ... ------------------\n",
       "12893 Mommert (1998 QS55)  160.5605433652289 ...  2458701.372966158\n",
       "12893 Mommert (1998 QS55)  160.5747408896238 ... 2458701.4146328247\n",
       "12893 Mommert (1998 QS55)  160.5889457732859 ... 2458701.4562994917\n",
       "12893 Mommert (1998 QS55) 160.60316686657896 ...  2458701.497966158\n",
       "12893 Mommert (1998 QS55) 160.61741195145785 ... 2458701.5396328247\n",
       "12893 Mommert (1998 QS55)     160.6316872089 ... 2458701.5812994917\n",
       "12893 Mommert (1998 QS55) 160.64599679594602 ...  2458701.622966158\n",
       "12893 Mommert (1998 QS55) 160.66034256263885 ... 2458701.6646328247\n",
       "12893 Mommert (1998 QS55) 160.67472392539761 ... 2458701.7062994917\n",
       "                      ...                ... ...                ...\n",
       "               (2018 RC3) 174.62392225707825 ... 2458703.9562994917\n",
       "               (2018 RC3)  174.6389092860115 ...  2458703.997966158\n",
       "               (2018 RC3) 174.65387584609488 ... 2458704.0396328247\n",
       "               (2018 RC3)  174.6688132425727 ... 2458704.0812994917\n",
       "               (2018 RC3) 174.68371477564781 ...  2458704.122966158\n",
       "               (2018 RC3) 174.69857619893446 ... 2458704.1646328247\n",
       "               (2018 RC3)  174.7133960085731 ... 2458704.2062994917\n",
       "               (2018 RC3) 174.72817554478524 ...  2458704.247966158\n",
       "               (2018 RC3) 174.74291890038492 ... 2458704.2896328247\n",
       "               (2018 RC3) 174.75763263962654 ... 2458704.3312994917"
      ]
     },
     "execution_count": 6,
     "metadata": {},
     "output_type": "execute_result"
    }
   ],
   "source": [
    "from sbpy.data import Ephem, Orbit\n",
    "from astropy.time import Time\n",
    "from numpy import arange\n",
    "\n",
    "orbits = Orbit.from_horizons(['12893', '3552', '2018 RC3'])\n",
    "epochs = Time(Time.now().jd + arange(0, 3, 1/24), format='jd')\n",
    "eph = Ephem.from_oo(orbits, epochs, location='G37')\n",
    "\n",
    "eph.table"
   ]
  },
  {
   "cell_type": "markdown",
   "metadata": {},
   "source": [
    "We can compare the calculated ephemerides to ephemerides provided by JPL Horizons to check their accuracy by calculating the maximum absolute residuals in RA, Dec, and heliocentric distance (r):"
   ]
  },
  {
   "cell_type": "code",
   "execution_count": 7,
   "metadata": {},
   "outputs": [
    {
     "name": "stdout",
     "output_type": "stream",
     "text": [
      "RA max residual: 0.018109424104295613 arcsec\n",
      "DEC max residual 0.0180026742633288 arcsec\n",
      "r max residual: 21.310798951714332 km\n"
     ]
    }
   ],
   "source": [
    "import numpy as np\n",
    "eph_horizons = Ephem.from_horizons(['12893', '3552', '2018 RC3'], epochs=epochs, location='G37')\n",
    "\n",
    "print('RA max residual:', np.max(np.fabs(eph['RA']-eph_horizons['RA']).to('arcsec')))\n",
    "print('DEC max residual', np.max(np.fabs(eph['DEC']-eph_horizons['DEC']).to('arcsec')))\n",
    "print('r max residual:', np.max(np.fabs(eph['r']-eph_horizons['r']).to('km')))"
   ]
  },
  {
   "cell_type": "markdown",
   "metadata": {},
   "source": [
    "Querying Ephemerides from the Minor Planet Center and Miriade\n",
    "======================\n",
    "\n",
    "Ephemerides from the [Minor Planet Center](http://minorplanetcenter.net) can be queried using the function [sbpy.data.Ephem.from_mpc()](https://sbpy.readthedocs.io/en/latest/api/sbpy.data.Ephem.html#sbpy.data.Ephem.from_mpc), which uses [astroquery.mpc](https://astroquery.readthedocs.io/en/latest/mpc/mpc.html) under the hood and uses the same syntax as [sbpy.data.Ephem.from_horizons](https://sbpy.readthedocs.io/en/latest/api/sbpy.data.Ephem.html#sbpy.data.Ephem.from_horizons). Similarly, [sbpy.data.Ephem.from_miriade](https://sbpy.readthedocs.io/en/latest/api/sbpy.data.Ephem.html#sbpy.data.Ephem.from_miriade) can be used to query ephemerides generated by the [Miriade system at IMCCE](http://vo.imcce.fr/webservices/miriade/), which uses [astroquery.imcce](https://astroquery.readthedocs.io/en/latest/imcce/imcce.html) under the hood. \n",
    "\n",
    "The following example compares ephemerides for asteroid Ceres for a given date and observer location from JPL Horizons and the Minor Planet Center:"
   ]
  },
  {
   "cell_type": "code",
   "execution_count": 8,
   "metadata": {},
   "outputs": [],
   "source": [
    "from sbpy.data import Ephem\n",
    "import numpy as np\n",
    "\n",
    "epoch = Time(2451200.5, format='jd')\n",
    "ceres_horizons = Ephem.from_horizons('Ceres', epochs=epoch, location=500)\n",
    "ceres_mpc = Ephem.from_mpc('Ceres', epochs=epoch, location=500)\n",
    "ceres_miriade = Ephem.from_miriade('Ceres', epochs=epoch, location=500)"
   ]
  },
  {
   "cell_type": "code",
   "execution_count": 9,
   "metadata": {},
   "outputs": [
    {
     "name": "stdout",
     "output_type": "stream",
     "text": [
      "Horizons [57.37077] deg\n",
      "MPC [57.37077] deg\n",
      "Miriade [57.37067958] deg\n"
     ]
    }
   ],
   "source": [
    "# RA\n",
    "print('Horizons', ceres_horizons['RA'])\n",
    "print('MPC', ceres_horizons['RA'])\n",
    "print('Miriade', ceres_miriade['RA'])"
   ]
  },
  {
   "cell_type": "code",
   "execution_count": 10,
   "metadata": {},
   "outputs": [
    {
     "name": "stdout",
     "output_type": "stream",
     "text": [
      "Horizons [19.50362] deg\n",
      "MPC [19.50362] deg\n",
      "Miriade [19.50358222] deg\n"
     ]
    }
   ],
   "source": [
    "# Dec\n",
    "print('Horizons', ceres_horizons['DEC'])\n",
    "print('MPC', ceres_horizons['DEC'])\n",
    "print('Miriade', ceres_miriade['DEC'])"
   ]
  },
  {
   "cell_type": "code",
   "execution_count": 11,
   "metadata": {},
   "outputs": [
    {
     "name": "stdout",
     "output_type": "stream",
     "text": [
      "Horizons [2.09381638] AU\n",
      "MPC [2.09381638] AU\n",
      "Miriade [2.09381749] AU\n"
     ]
    }
   ],
   "source": [
    "# delta\n",
    "print('Horizons', ceres_horizons['delta'])\n",
    "print('MPC', ceres_horizons['delta'])\n",
    "print('Miriade', ceres_miriade['delta'])"
   ]
  }
 ],
 "metadata": {
  "kernelspec": {
   "display_name": "Python 3",
   "language": "python",
   "name": "python3"
  },
  "language_info": {
   "codemirror_mode": {
    "name": "ipython",
    "version": 3
   },
   "file_extension": ".py",
   "mimetype": "text/x-python",
   "name": "python",
   "nbconvert_exporter": "python",
   "pygments_lexer": "ipython3",
   "version": "3.6.8"
  }
 },
 "nbformat": 4,
 "nbformat_minor": 2
}
