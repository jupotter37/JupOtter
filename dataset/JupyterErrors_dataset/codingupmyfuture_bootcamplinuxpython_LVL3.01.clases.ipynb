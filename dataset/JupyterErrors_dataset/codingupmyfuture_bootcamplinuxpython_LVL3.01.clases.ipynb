{
  "nbformat": 4,
  "nbformat_minor": 0,
  "metadata": {
    "colab": {
      "provenance": []
    },
    "kernelspec": {
      "name": "python3",
      "display_name": "Python 3"
    },
    "language_info": {
      "name": "python"
    }
  },
  "cells": [
    {
      "cell_type": "markdown",
      "source": [
        "<p><img src=\"https://i.postimg.cc/cCjTSn8r/ss-cumf.png\" alt=\"\" width=\"1280\" height=\"300\" /></p>"
      ],
      "metadata": {
        "id": "VIoAW-_YVoMy"
      }
    },
    {
      "cell_type": "markdown",
      "source": [
        "# **¿CÓMO ES LA PROGRAMACIÓN ORIENTADA A OBJETOS? POO**\n",
        "\n",
        "<p><img src=\"https://i.postimg.cc/T1XYLctz/before-now.png\" alt=\"\" width=\"1280\" height=\"350\" /></p>"
      ],
      "metadata": {
        "id": "vCRPzvLCX3Uq"
      }
    },
    {
      "cell_type": "markdown",
      "source": [
        "# **¿QUÉ ES LA PROGRAMACIÓN ORIENTADA A OBJETOS? POO**\n",
        "La programación orientada a objetos (POO) es un paradigma de programación fundamental utilizado por casi todos los desarrolladores en algún momento de su carrera o en la mayoría de lenguajes de programación. La programación orientada a objetos es el paradigma de programación más popular y se enseña como la forma estándar de codificar durante la mayor parte de la carrera educativa de un programador.\n",
        "\n",
        "<p><img src=\"https://i.postimg.cc/wM5QK0tF/clase-expl.png\" alt=\"\" width=\"500\" height=\"300\" /></p>\n",
        "\n",
        "**DIAGRAMAS DE CLASE**\n",
        "<p><img src=\"https://www.sparxsystems.com/images/screenshots/uml2_tutorial/CL01.GIF\" alt=\"\" width=\"700\" height=\"500\" /></p>"
      ],
      "metadata": {
        "id": "46wsH8d9Vxjw"
      }
    },
    {
      "cell_type": "markdown",
      "source": [
        "## **TERMINOLOGÍA**\n",
        "\n",
        "Descripción general de la terminología de programación orientada a objetos\n",
        "\n",
        "* **Método**: un tipo especial de función que se define en una definición de clase.\n",
        "\n",
        "* **Variable de clase o atributo**: una variable compartida por todas las instancias de una clase. Las variables de clase se definen dentro de una clase pero fuera de cualquiera de los métodos de la clase. Las variables de clase no se utilizan con tanta frecuencia como las variables de instancia.\n",
        "\n",
        "* **Clase**: un prototipo definido por el usuario para un objeto que define un conjunto de atributos que caracterizan cualquier objeto de la clase. Los atributos son miembros de datos (variables de clase y variables de instancia) y métodos, a los que se accede mediante notación de puntos.\n",
        "\n",
        "\n",
        "\n",
        "* Miembro de datos: una variable de clase o variable de instancia que contiene datos asociados con una clase y sus objetos.\n",
        "\n",
        "* **Sobrecarga de funciones**: la asignación de más de un comportamiento a una función particular. La operación realizada varía según los tipos de objetos o argumentos involucrados.\n",
        "\n",
        "* **Variable de instancia**: una variable que se define dentro de un método y pertenece solo a la instancia actual de una clase.\n",
        "\n",
        "* **Herencia** - La transferencia de las características de una clase a otras clases que se derivan de ella.\n",
        "\n",
        "* **Instancia** : un objeto individual de una determinada clase. Un objeto obj que pertenece a una clase Círculo, por ejemplo, es una instancia de la clase Círculo.\n",
        "\n",
        "* * Instanciación: la creación de una instancia de una clase.\n",
        "\n",
        "\n"
      ],
      "metadata": {
        "id": "tgomGRE_V8yi"
      }
    },
    {
      "cell_type": "markdown",
      "source": [
        "### **CONCEPTOS BÁSICOS**\n",
        "\n",
        "Buenas prácticas:\n",
        "\n",
        "1. Las clases siempre empiezan en mayúscula, y si hay palabras compuestas, se usa camel case\n",
        "\n",
        "2. La instancia de la clase siempre se llama como el objeto, pero la primera letra se coloca en minúscula\n",
        "\n",
        "```\n",
        "PersonaNatural\n",
        "```\n",
        "\n"
      ],
      "metadata": {
        "id": "17nkbzNF21Ke"
      }
    },
    {
      "cell_type": "code",
      "source": [
        "# objeto vacío\n",
        "class MiPrimeraClase:\n",
        "  pass\n",
        "\n",
        "# instancia | objeto en mem para acceder a atrb y meth\n",
        "miPrimeraClase = MiPrimeraClase()\n",
        "bootcamp = MiPrimeraClase()"
      ],
      "metadata": {
        "id": "vkiO7VLL20Nj"
      },
      "execution_count": 2,
      "outputs": []
    },
    {
      "cell_type": "code",
      "source": [
        "# recorderis\n",
        "def prueba():\n",
        "  print(\"demo\")\n",
        "\n",
        "demo = prueba\n",
        "demo()"
      ],
      "metadata": {
        "colab": {
          "base_uri": "https://localhost:8080/"
        },
        "id": "UGuLARZl5iMw",
        "outputId": "f8707157-6668-4b76-dd30-2be6e949140f"
      },
      "execution_count": 3,
      "outputs": [
        {
          "output_type": "stream",
          "name": "stdout",
          "text": [
            "demo\n"
          ]
        }
      ]
    },
    {
      "cell_type": "code",
      "source": [
        "type(str)"
      ],
      "metadata": {
        "colab": {
          "base_uri": "https://localhost:8080/"
        },
        "id": "ZAeQiGcO5vqW",
        "outputId": "ac68c9a2-f150-4fe3-a32c-d64756c1fe24"
      },
      "execution_count": 4,
      "outputs": [
        {
          "output_type": "execute_result",
          "data": {
            "text/plain": [
              "type"
            ]
          },
          "metadata": {},
          "execution_count": 4
        }
      ]
    },
    {
      "cell_type": "code",
      "source": [
        "# analizando el objeto\n",
        "print(MiPrimeraClase)\n",
        "print(miPrimeraClase)\n",
        "print(type(miPrimeraClase))\n",
        "print(id(miPrimeraClase))\n",
        "print(hex(id(miPrimeraClase)))"
      ],
      "metadata": {
        "colab": {
          "base_uri": "https://localhost:8080/"
        },
        "id": "uqCPLvu-4o-m",
        "outputId": "170731d2-bb0f-4055-9700-794385460bd0"
      },
      "execution_count": 5,
      "outputs": [
        {
          "output_type": "stream",
          "name": "stdout",
          "text": [
            "<class '__main__.MiPrimeraClase'>\n",
            "<__main__.MiPrimeraClase object at 0x7d90ecd324d0>\n",
            "<class '__main__.MiPrimeraClase'>\n",
            "138061402023120\n",
            "0x7d90ecd324d0\n"
          ]
        }
      ]
    },
    {
      "cell_type": "code",
      "source": [
        "print(type(bootcamp))\n",
        "print(MiPrimeraClase.__name__) # obtiene la clase sin instancia\n",
        "print(bootcamp.__class__) # obtiene la clase padre con clase sin instancia"
      ],
      "metadata": {
        "colab": {
          "base_uri": "https://localhost:8080/"
        },
        "id": "Gvcjh-1e6k9o",
        "outputId": "5800ddd6-33d5-4bb7-a32a-1f2f3a897c55"
      },
      "execution_count": 6,
      "outputs": [
        {
          "output_type": "stream",
          "name": "stdout",
          "text": [
            "<class '__main__.MiPrimeraClase'>\n",
            "MiPrimeraClase\n",
            "<class '__main__.MiPrimeraClase'>\n"
          ]
        }
      ]
    },
    {
      "cell_type": "markdown",
      "source": [
        "#### **DIR**\n",
        "\n",
        "Listar los atributos y métodos de un objeto\n",
        "\n",
        "Tip: muchas cosas en las clases de Python se manejan con diccionarios"
      ],
      "metadata": {
        "id": "FJYIvgJ47igR"
      }
    },
    {
      "cell_type": "code",
      "source": [
        "longitud_a = len(dir(MiPrimeraClase))\n",
        "dir(MiPrimeraClase)"
      ],
      "metadata": {
        "colab": {
          "base_uri": "https://localhost:8080/"
        },
        "id": "DIuMxSjV7hv4",
        "outputId": "30a2e93c-9f23-4c22-a1a4-de0126e78d6f"
      },
      "execution_count": 7,
      "outputs": [
        {
          "output_type": "execute_result",
          "data": {
            "text/plain": [
              "['__class__',\n",
              " '__delattr__',\n",
              " '__dict__',\n",
              " '__dir__',\n",
              " '__doc__',\n",
              " '__eq__',\n",
              " '__format__',\n",
              " '__ge__',\n",
              " '__getattribute__',\n",
              " '__gt__',\n",
              " '__hash__',\n",
              " '__init__',\n",
              " '__init_subclass__',\n",
              " '__le__',\n",
              " '__lt__',\n",
              " '__module__',\n",
              " '__ne__',\n",
              " '__new__',\n",
              " '__reduce__',\n",
              " '__reduce_ex__',\n",
              " '__repr__',\n",
              " '__setattr__',\n",
              " '__sizeof__',\n",
              " '__str__',\n",
              " '__subclasshook__',\n",
              " '__weakref__']"
            ]
          },
          "metadata": {},
          "execution_count": 7
        }
      ]
    },
    {
      "cell_type": "code",
      "source": [
        "longitud_b = len(dir(MiPrimeraClase))\n",
        "dir(miPrimeraClase)"
      ],
      "metadata": {
        "colab": {
          "base_uri": "https://localhost:8080/"
        },
        "id": "Zc5EfhmG8A7z",
        "outputId": "47b33b8f-8023-43a1-e093-caa4143fd706"
      },
      "execution_count": 8,
      "outputs": [
        {
          "output_type": "execute_result",
          "data": {
            "text/plain": [
              "['__class__',\n",
              " '__delattr__',\n",
              " '__dict__',\n",
              " '__dir__',\n",
              " '__doc__',\n",
              " '__eq__',\n",
              " '__format__',\n",
              " '__ge__',\n",
              " '__getattribute__',\n",
              " '__gt__',\n",
              " '__hash__',\n",
              " '__init__',\n",
              " '__init_subclass__',\n",
              " '__le__',\n",
              " '__lt__',\n",
              " '__module__',\n",
              " '__ne__',\n",
              " '__new__',\n",
              " '__reduce__',\n",
              " '__reduce_ex__',\n",
              " '__repr__',\n",
              " '__setattr__',\n",
              " '__sizeof__',\n",
              " '__str__',\n",
              " '__subclasshook__',\n",
              " '__weakref__']"
            ]
          },
          "metadata": {},
          "execution_count": 8
        }
      ]
    },
    {
      "cell_type": "code",
      "source": [
        "print(f\"cantidad de cosas en el objeto a: {longitud_a}\")\n",
        "print(f\"cantidad de cosas en el objeto b: {longitud_b}\")"
      ],
      "metadata": {
        "colab": {
          "base_uri": "https://localhost:8080/"
        },
        "id": "9X2iJbRW8m3N",
        "outputId": "e8481e94-a60d-4402-e042-16c876aea472"
      },
      "execution_count": 9,
      "outputs": [
        {
          "output_type": "stream",
          "name": "stdout",
          "text": [
            "cantidad de cosas en el objeto a: 26\n",
            "cantidad de cosas en el objeto b: 26\n"
          ]
        }
      ]
    },
    {
      "cell_type": "markdown",
      "source": [
        "### **CONCEPTOS BÁSICOS + 1**\n",
        "\n",
        "Siempre para garantizar que una función pertenece a la instancia de la clase, debe tener la palabra `self`\n",
        "\n",
        "cuando definan una metodo(función) siempre el primer argumento es `self`\n",
        "\n",
        "\n",
        "\n",
        "```\n",
        "self --> se está apuntando a sí mismo\n",
        "```\n",
        "\n"
      ],
      "metadata": {
        "id": "78mWxPBJ9Mze"
      }
    },
    {
      "cell_type": "code",
      "source": [
        "def saludar(nombre: str) -> None:\n",
        "  print(f\"holaaaa {nombre}\")\n",
        "saludar(\"spartan@s de nivel 3\")"
      ],
      "metadata": {
        "colab": {
          "base_uri": "https://localhost:8080/"
        },
        "id": "ha_7ahnw_pd-",
        "outputId": "fa9f25f6-db34-416e-a52d-8a59d69fa773"
      },
      "execution_count": 10,
      "outputs": [
        {
          "output_type": "stream",
          "name": "stdout",
          "text": [
            "holaaaa spartan@s de nivel 3\n"
          ]
        }
      ]
    },
    {
      "cell_type": "code",
      "source": [
        "class Bootcamp:\n",
        "  nivel: int = 3\n",
        "  tema: str = \"Python\"\n",
        "  desc: str = \"entrenamiento intensivo\"\n",
        "\n",
        "  # es un apuntador en memoria\n",
        "  def saludar(self, nombre: str) -> None:\n",
        "    print(f\"holaaaa {nombre}\")\n",
        "\n",
        "  # no siempre se llama self, pero es usado internacionalmente\n",
        "  def saludar_2(pepito, nombre: str) -> None:\n",
        "    print(f\"holaaaa {nombre}\")\n",
        "\n",
        "bootcamp = Bootcamp()\n",
        "print(bootcamp)\n",
        "# accediendo\n",
        "print(bootcamp.tema)\n",
        "\n",
        "# modificar\n",
        "Bootcamp.tema = \"Python viendo POO y PF\"\n",
        "print(Bootcamp.tema)"
      ],
      "metadata": {
        "colab": {
          "base_uri": "https://localhost:8080/"
        },
        "id": "nEqr2CIc9PaJ",
        "outputId": "696d82db-48d5-4f53-b38e-7e97534e104f"
      },
      "execution_count": 11,
      "outputs": [
        {
          "output_type": "stream",
          "name": "stdout",
          "text": [
            "<__main__.Bootcamp object at 0x7d90ecd9e4a0>\n",
            "Python\n",
            "Python viendo POO y PF\n"
          ]
        }
      ]
    },
    {
      "cell_type": "code",
      "source": [
        "bootcamp.saludar(\"spartan@s de nivel 3\")\n",
        "bootcamp.saludar_2(\"spartan@s de nivel 3\")"
      ],
      "metadata": {
        "colab": {
          "base_uri": "https://localhost:8080/"
        },
        "id": "HD7tlry8_bst",
        "outputId": "e233f3bc-71c3-4cd2-b8a2-c34cff17e2d7"
      },
      "execution_count": 12,
      "outputs": [
        {
          "output_type": "stream",
          "name": "stdout",
          "text": [
            "holaaaa spartan@s de nivel 3\n",
            "holaaaa spartan@s de nivel 3\n"
          ]
        }
      ]
    },
    {
      "cell_type": "code",
      "source": [
        "dir(Bootcamp)"
      ],
      "metadata": {
        "colab": {
          "base_uri": "https://localhost:8080/"
        },
        "id": "ETIOsNUVA3XB",
        "outputId": "c86324ee-7c0d-4918-80cf-38c09f3bc795"
      },
      "execution_count": 13,
      "outputs": [
        {
          "output_type": "execute_result",
          "data": {
            "text/plain": [
              "['__annotations__',\n",
              " '__class__',\n",
              " '__delattr__',\n",
              " '__dict__',\n",
              " '__dir__',\n",
              " '__doc__',\n",
              " '__eq__',\n",
              " '__format__',\n",
              " '__ge__',\n",
              " '__getattribute__',\n",
              " '__gt__',\n",
              " '__hash__',\n",
              " '__init__',\n",
              " '__init_subclass__',\n",
              " '__le__',\n",
              " '__lt__',\n",
              " '__module__',\n",
              " '__ne__',\n",
              " '__new__',\n",
              " '__reduce__',\n",
              " '__reduce_ex__',\n",
              " '__repr__',\n",
              " '__setattr__',\n",
              " '__sizeof__',\n",
              " '__str__',\n",
              " '__subclasshook__',\n",
              " '__weakref__',\n",
              " 'desc',\n",
              " 'nivel',\n",
              " 'saludar',\n",
              " 'saludar_2',\n",
              " 'tema']"
            ]
          },
          "metadata": {},
          "execution_count": 13
        }
      ]
    },
    {
      "cell_type": "code",
      "source": [
        "Bootcamp.nivel"
      ],
      "metadata": {
        "colab": {
          "base_uri": "https://localhost:8080/"
        },
        "id": "4o0VpsY2BeeF",
        "outputId": "b8266b73-d936-4009-d837-abd2ab29231a"
      },
      "execution_count": 14,
      "outputs": [
        {
          "output_type": "execute_result",
          "data": {
            "text/plain": [
              "3"
            ]
          },
          "metadata": {},
          "execution_count": 14
        }
      ]
    },
    {
      "cell_type": "code",
      "source": [
        "Bootcamp.nivel = 2"
      ],
      "metadata": {
        "id": "GzaCMgjbBgzW"
      },
      "execution_count": 15,
      "outputs": []
    },
    {
      "cell_type": "code",
      "source": [
        "Bootcamp.nivel"
      ],
      "metadata": {
        "colab": {
          "base_uri": "https://localhost:8080/"
        },
        "id": "-qIUfxmkBitQ",
        "outputId": "dcbe2a45-c139-44e3-e56b-78763b3257ba"
      },
      "execution_count": 16,
      "outputs": [
        {
          "output_type": "execute_result",
          "data": {
            "text/plain": [
              "2"
            ]
          },
          "metadata": {},
          "execution_count": 16
        }
      ]
    },
    {
      "cell_type": "code",
      "source": [
        "Bootcamp.saludar(\"demo\")"
      ],
      "metadata": {
        "colab": {
          "base_uri": "https://localhost:8080/",
          "height": 176
        },
        "id": "YSQoY-FIBmum",
        "outputId": "82ba92fb-3785-47bb-dfd4-2ad9dcd05460"
      },
      "execution_count": 17,
      "outputs": [
        {
          "output_type": "error",
          "ename": "TypeError",
          "evalue": "ignored",
          "traceback": [
            "\u001b[0;31m---------------------------------------------------------------------------\u001b[0m",
            "\u001b[0;31mTypeError\u001b[0m                                 Traceback (most recent call last)",
            "\u001b[0;32m<ipython-input-17-8fb346b1d5ad>\u001b[0m in \u001b[0;36m<cell line: 1>\u001b[0;34m()\u001b[0m\n\u001b[0;32m----> 1\u001b[0;31m \u001b[0mBootcamp\u001b[0m\u001b[0;34m.\u001b[0m\u001b[0msaludar\u001b[0m\u001b[0;34m(\u001b[0m\u001b[0;34m\"demo\"\u001b[0m\u001b[0;34m)\u001b[0m\u001b[0;34m\u001b[0m\u001b[0;34m\u001b[0m\u001b[0m\n\u001b[0m",
            "\u001b[0;31mTypeError\u001b[0m: Bootcamp.saludar() missing 1 required positional argument: 'nombre'"
          ]
        }
      ]
    }
  ]
}