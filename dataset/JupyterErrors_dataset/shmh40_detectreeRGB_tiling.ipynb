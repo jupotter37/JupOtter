{
  "nbformat": 4,
  "nbformat_minor": 5,
  "metadata": {
    "kernelspec": {
      "display_name": "Python 3",
      "language": "python",
      "name": "python3"
    },
    "language_info": {
      "codemirror_mode": {
        "name": "ipython",
        "version": 3
      },
      "file_extension": ".py",
      "mimetype": "text/x-python",
      "name": "python",
      "nbconvert_exporter": "python",
      "pygments_lexer": "ipython3",
      "version": "3.8.8"
    },
    "colab": {
      "name": "tiling.ipynb",
      "provenance": [],
      "collapsed_sections": [],
      "machine_shape": "hm"
    },
    "accelerator": "GPU"
  },
  "cells": [
    {
      "cell_type": "code",
      "metadata": {
        "tags": [],
        "colab": {
          "base_uri": "https://localhost:8080/"
        },
        "id": "db30f695",
        "outputId": "d3975e86-c0d4-475e-e0fa-5978fa05692b"
      },
      "source": [
        "# install necessary geospatial packages\n",
        "\n",
        "!pip -q install rasterio\n",
        "!pip -q install fiona\n",
        "!pip -q install geopandas\n",
        "!pip -q install pycrs\n",
        "!pip -q install descartes \n",
        "!pip -q install pypng"
      ],
      "id": "db30f695",
      "execution_count": null,
      "outputs": [
        {
          "output_type": "stream",
          "name": "stdout",
          "text": [
            "\u001b[K     |████████████████████████████████| 19.3 MB 137 kB/s \n",
            "\u001b[K     |████████████████████████████████| 15.4 MB 4.3 MB/s \n",
            "\u001b[K     |████████████████████████████████| 1.0 MB 5.2 MB/s \n",
            "\u001b[K     |████████████████████████████████| 6.3 MB 28.0 MB/s \n",
            "\u001b[?25h  Building wheel for pycrs (setup.py) ... \u001b[?25l\u001b[?25hdone\n",
            "\u001b[K     |████████████████████████████████| 48 kB 2.4 MB/s \n",
            "\u001b[?25h"
          ]
        }
      ]
    },
    {
      "cell_type": "code",
      "metadata": {
        "colab": {
          "base_uri": "https://localhost:8080/"
        },
        "id": "cTHdK-BoWdUu",
        "outputId": "fdd75f21-248a-4efe-fa93-fc028ffe3a29"
      },
      "source": [
        "# mount google drive\n",
        "\n",
        "from google.colab import drive\n",
        "drive.mount('/content/drive')"
      ],
      "id": "cTHdK-BoWdUu",
      "execution_count": null,
      "outputs": [
        {
          "output_type": "stream",
          "name": "stdout",
          "text": [
            "Mounted at /content/drive\n"
          ]
        }
      ]
    },
    {
      "cell_type": "code",
      "metadata": {
        "id": "1e200137"
      },
      "source": [
        "# necessary basic libraries\n",
        "import pandas as pd\n",
        "import numpy as np\n",
        "import cv2\n",
        "import random\n",
        "import matplotlib.pyplot as plt\n",
        "from PIL import Image\n",
        "import os\n",
        "import numpy as np\n",
        "import json\n",
        "import png\n",
        "\n",
        "# geospatial libraries\n",
        "import rasterio\n",
        "import geopandas\n",
        "from geopandas.tools import sjoin\n",
        "import fiona\n",
        "from rasterio.plot import show\n",
        "from rasterio.mask import mask\n",
        "from shapely.geometry import box\n",
        "import geopandas as gpd\n",
        "from fiona.crs import from_epsg\n",
        "import pycrs\n",
        "import descartes"
      ],
      "id": "1e200137",
      "execution_count": null,
      "outputs": []
    },
    {
      "cell_type": "code",
      "metadata": {
        "id": "46ac4794"
      },
      "source": [
        "### let's first read in the data.\n",
        "### Firstly the tiff file of our area of interest, secondly our shapefile of manually delineated crowns, \n",
        "### if we are training the model rather than simply using a pre-trained model.\n",
        "\n",
        "# Read in a tiff file\n",
        "data = rasterio.open('/content/drive/Shareddrives/detectreegb/sepilok/rgb/RCD105_MA14_21_orthomosaic_20141023_reprojected_full_res.tif')\n",
        "\n",
        "# Read in shapefile of crowns, if training on your own data!\n",
        "#crowns = geopandas.read_file('/home/jovyan/lustre_scratch/sepilok_data/sep_danum_crowns_no_overlap/all_manual_crowns_no_overlap.shp')\n",
        "\n",
        "# have a look at the crowns if we like\n",
        "#crowns"
      ],
      "id": "46ac4794",
      "execution_count": null,
      "outputs": []
    },
    {
      "cell_type": "code",
      "metadata": {
        "colab": {
          "base_uri": "https://localhost:8080/"
        },
        "id": "05250710",
        "outputId": "3b04b6cb-c2cf-4e32-db83-0b46c8c96dad"
      },
      "source": [
        "# let's investigate the tiff, what is the shape? Bounds? Bands? CRS?\n",
        "# show a plot of it too\n",
        "\n",
        "print('shape =', data.shape,',', data.bounds, 'and number of bands =', data.count, ',crs =', data.crs)\n",
        "\n",
        "# have a look if you want (usually slow)\n",
        "#show(data)"
      ],
      "id": "05250710",
      "execution_count": null,
      "outputs": [
        {
          "output_type": "stream",
          "name": "stdout",
          "text": [
            "shape = (40665, 84370) , BoundingBox(left=600543.5, bottom=644607.0, right=608980.5, top=648673.5) and number of bands = 4 ,crs = EPSG:32650\n"
          ]
        }
      ]
    },
    {
      "cell_type": "markdown",
      "metadata": {
        "id": "cd573828"
      },
      "source": [
        "#### Looping through a set of tiles, to chop up the tiffs and crowns, and save as PNGs and GeoJSONs "
      ],
      "id": "cd573828"
    },
    {
      "cell_type": "code",
      "metadata": {
        "id": "16eb263b"
      },
      "source": [
        "# just defining a function we are going to use shortly.\n",
        "\n",
        "def getFeatures(gdf):\n",
        "        \"\"\"Function to parse features from GeoDataFrame in such a manner that rasterio wants them\"\"\"\n",
        "        return [json.loads(gdf.to_json())['features'][0]['geometry']]"
      ],
      "id": "16eb263b",
      "execution_count": null,
      "outputs": []
    },
    {
      "cell_type": "code",
      "metadata": {
        "colab": {
          "base_uri": "https://localhost:8080/",
          "height": 547
        },
        "id": "6105173c",
        "outputId": "69da4ee1-1ffd-429d-fa63-6fe22f354784"
      },
      "source": [
        "# Read in a tiff file, and the csv of the tiles we expect\n",
        "data = rasterio.open('/content/drive/Shareddrives/detectreegb/sepilok/rgb/RCD105_MA14_21_orthomosaic_20141023_reprojected_full_res.tif')\n",
        "\n",
        "# Read in the shapefile of manual crowns - again, this is only if you are wanting to train with your own crowns\n",
        "#crowns = geopandas.read_file('/home/jovyan/lustre_scratch/sepilok_data/sep_danum_crowns_no_overlap/all_manual_crowns_no_overlap.shp')\n",
        "\n",
        "# read in a csv containing the origin x and y coordinates of the tiles you wish to slice up...\n",
        "# this file can be commented out and replaced by looping over x and y coordinates as below\n",
        "tiles = pd.read_csv('/content/drive/Shareddrives/detectreegb/complete_training_tiles.csv')\n",
        "\n",
        "# set the desired buffer, tile width, heght and resolution of the tiff tiles. Suggested values are given below. \n",
        "# The buffer will be affected by the area of tree crowns in your region of forest.\n",
        "\n",
        "buffer = 20\n",
        "tile_width = 100\n",
        "tile_height = 100\n",
        "resolution = 0.1 # in metres per pixel\n",
        "scaling = 1/resolution  # scaling parameter to transform the shapefile coordinates so they match the png\n",
        "\n",
        "\n",
        "# the for loop can be rewritten to work with out requiring a csv e.g. for minx in range(V, W, step): e.g.:\n",
        "# for minx in range(0,10000,250):\n",
        "#    for miny in range(0,10000,250):    \n",
        "#        print(minx,miny)\n",
        "\n",
        "\n",
        "for ind in tiles.index:\n",
        "    minx = tiles['Origin X coordinate'][ind] \n",
        "    miny = tiles['Origin Y coordinate'][ind]\n",
        "    \n",
        "    # define the bounding box of the whole tile, including the buffer\n",
        "    bbox = box(minx-buffer, miny-buffer, minx+tile_width+buffer, miny+tile_height+buffer)\n",
        "    # define the bounding box of the tile, excluding the buffer (hence selecting just the central part of the tile)\n",
        "    bbox_central = box(minx, miny, minx+tile_width, miny+tile_height)\n",
        "    # turn the bounding boxes into geopandas DataFrames, need to set the crs\n",
        "    geo = gpd.GeoDataFrame({'geometry': bbox}, index=[0], crs=from_epsg(32650))\n",
        "    geo_central = gpd.GeoDataFrame({'geometry': bbox_central}, index=[0], crs=from_epsg(32650))\n",
        "    \n",
        "    ### here we are cropping the tiff to the bounding box of the tile we want\n",
        "    coords = getFeatures(geo)\n",
        "    #print(coords)\n",
        "    \n",
        "    # define the tile as a mask of the whole tiff with just the bounding box\n",
        "    out_img, out_transform = mask(data, shapes=coords, crop=True)\n",
        "    \n",
        "    # copy the metadata\n",
        "    out_meta = data.meta.copy()\n",
        "    #print(out_meta)\n",
        "    epsg_code = int(data.crs.data['init'][5:])\n",
        "    #print(epsg_code)\n",
        "    \n",
        "    # update the metadata\n",
        "    out_meta.update({\"driver\": \"GTiff\",\n",
        "                     \"height\": out_img.shape[1],\n",
        "                     \"width\": out_img.shape[2],\n",
        "                     \"transform\": out_transform\n",
        "                     })\n",
        "    \n",
        "    # here we are saving the tile as a new tiff, named by the origin of the tile\n",
        "    out_tif = '/content/drive/Shareddrives/detectreegb/sepilok/tiles/tiffs/tile_'+str(minx)+'_'+str(miny)+'.tif'\n",
        "    with rasterio.open(out_tif, \"w\", **out_meta) as dest:\n",
        "                       dest.write(out_img)\n",
        "    \n",
        "    # read in the tile we have just saved\n",
        "    clipped = rasterio.open('/content/drive/Shareddrives/detectreegb/sepilok/tiles/tiffs/tile_'+str(minx)+'_'+str(miny)+'.tif')\n",
        "    # read it as an array\n",
        "    arr = clipped.read()\n",
        "    \n",
        "    # check the shape of the tile if you wish\n",
        "    #print(arr.shape)\n",
        "    \n",
        "    # each band of the tiled tiff is a colour!\n",
        "    R = arr[0]\n",
        "    G = arr[1]\n",
        "    B = arr[2]\n",
        "    \n",
        "    # stack up the bands in an order appropriate for saving with cv2, then rescale to the correct 0-255 range for cv2\n",
        "    \n",
        "    rgb = np.dstack((B,G,R)) # BGR for cv2\n",
        "    #rgb_rescaled = 255*rgb/65535 # scale the values of the bands if they are non-standard to range 0-255\n",
        "    rgb_rescaled = rgb # usually rescaling is not required, but it depends on your tiff\n",
        "\n",
        "    # save this as jpg or png...we are going for png...again, named with the origin of the specific tile\n",
        "    cv2.imwrite('/content/drive/Shareddrives/detectreegb/sepilok/tiles/pngs/tile_'+str(minx)+'_'+str(miny)+'.png', rgb_rescaled)\n",
        "    \n",
        "    \n",
        "    ### now we have dealt with tiling the tiff, we want to deal with tiling the crowns...\n",
        "    ### IF we have manual crowns we are going to use for training\n",
        "    ### THEN uncomment the following 4 lines of code\n",
        "    \n",
        "    ### select the crowns that intersect the non-buffered central section of the tile using the inner join\n",
        "    #overlapping_crowns = sjoin(crowns, geo_central, how=\"inner\")\n",
        "    \n",
        "    ### translate to 0,0 to overlay on png\n",
        "    #moved = overlapping_crowns.translate(-minx+buffer, -miny+buffer)  \n",
        "    \n",
        "    ### scale to deal with the resolution\n",
        "    #moved_scaled = moved.scale(scaling, scaling, origin=(0, 0)) \n",
        "    \n",
        "    ### save as a geojson, a format compatible with detectron2, again named by the origin of the tile\n",
        "    #moved_scaled.to_file(driver = 'GeoJSON', \n",
        "    #                           filename= '/home/jovyan/lustre_scratch/sepilok_data/spare_crowns/tile_'+str(minx)+'_'+str(miny)+'.geojson')\n",
        "        "
      ],
      "id": "6105173c",
      "execution_count": null,
      "outputs": [
        {
          "output_type": "stream",
          "name": "stderr",
          "text": [
            "/usr/local/lib/python3.7/dist-packages/pyproj/crs/crs.py:131: FutureWarning: '+init=<authority>:<code>' syntax is deprecated. '<authority>:<code>' is the preferred initialization method. When making the change, be mindful of axis order changes: https://pyproj4.github.io/pyproj/stable/gotchas.html#axis-order-changes-in-proj-6\n",
            "  in_crs_string = _prepare_from_proj_string(in_crs_string)\n"
          ]
        },
        {
          "output_type": "error",
          "ename": "ValueError",
          "evalue": "ignored",
          "traceback": [
            "\u001b[0;31m---------------------------------------------------------------------------\u001b[0m",
            "\u001b[0;31mWindowError\u001b[0m                               Traceback (most recent call last)",
            "\u001b[0;32m/usr/local/lib/python3.7/dist-packages/rasterio/mask.py\u001b[0m in \u001b[0;36mraster_geometry_mask\u001b[0;34m(dataset, shapes, all_touched, invert, crop, pad, pad_width)\u001b[0m\n\u001b[1;32m     79\u001b[0m     \u001b[0;32mtry\u001b[0m\u001b[0;34m:\u001b[0m\u001b[0;34m\u001b[0m\u001b[0;34m\u001b[0m\u001b[0m\n\u001b[0;32m---> 80\u001b[0;31m         \u001b[0mwindow\u001b[0m \u001b[0;34m=\u001b[0m \u001b[0mgeometry_window\u001b[0m\u001b[0;34m(\u001b[0m\u001b[0mdataset\u001b[0m\u001b[0;34m,\u001b[0m \u001b[0mshapes\u001b[0m\u001b[0;34m,\u001b[0m \u001b[0mpad_x\u001b[0m\u001b[0;34m=\u001b[0m\u001b[0mpad_x\u001b[0m\u001b[0;34m,\u001b[0m \u001b[0mpad_y\u001b[0m\u001b[0;34m=\u001b[0m\u001b[0mpad_y\u001b[0m\u001b[0;34m)\u001b[0m\u001b[0;34m\u001b[0m\u001b[0;34m\u001b[0m\u001b[0m\n\u001b[0m\u001b[1;32m     81\u001b[0m \u001b[0;34m\u001b[0m\u001b[0m\n",
            "\u001b[0;32m/usr/local/lib/python3.7/dist-packages/rasterio/features.py\u001b[0m in \u001b[0;36mgeometry_window\u001b[0;34m(dataset, shapes, pad_x, pad_y, north_up, rotated, pixel_precision, boundless)\u001b[0m\n\u001b[1;32m    466\u001b[0m     \u001b[0;32mif\u001b[0m \u001b[0;32mnot\u001b[0m \u001b[0mboundless\u001b[0m\u001b[0;34m:\u001b[0m\u001b[0;34m\u001b[0m\u001b[0;34m\u001b[0m\u001b[0m\n\u001b[0;32m--> 467\u001b[0;31m         \u001b[0mwindow\u001b[0m \u001b[0;34m=\u001b[0m \u001b[0mwindow\u001b[0m\u001b[0;34m.\u001b[0m\u001b[0mintersection\u001b[0m\u001b[0;34m(\u001b[0m\u001b[0mraster_window\u001b[0m\u001b[0;34m)\u001b[0m\u001b[0;34m\u001b[0m\u001b[0;34m\u001b[0m\u001b[0m\n\u001b[0m\u001b[1;32m    468\u001b[0m \u001b[0;34m\u001b[0m\u001b[0m\n",
            "\u001b[0;32m/usr/local/lib/python3.7/dist-packages/rasterio/windows.py\u001b[0m in \u001b[0;36mintersection\u001b[0;34m(self, other)\u001b[0m\n\u001b[1;32m    753\u001b[0m         \"\"\"\n\u001b[0;32m--> 754\u001b[0;31m         \u001b[0;32mreturn\u001b[0m \u001b[0mintersection\u001b[0m\u001b[0;34m(\u001b[0m\u001b[0;34m[\u001b[0m\u001b[0mself\u001b[0m\u001b[0;34m,\u001b[0m \u001b[0mother\u001b[0m\u001b[0;34m]\u001b[0m\u001b[0;34m)\u001b[0m\u001b[0;34m\u001b[0m\u001b[0;34m\u001b[0m\u001b[0m\n\u001b[0m",
            "\u001b[0;32m/usr/local/lib/python3.7/dist-packages/rasterio/windows.py\u001b[0m in \u001b[0;36mwrapper\u001b[0;34m(*args, **kwargs)\u001b[0m\n\u001b[1;32m    112\u001b[0m         \u001b[0;32mif\u001b[0m \u001b[0mlen\u001b[0m\u001b[0;34m(\u001b[0m\u001b[0margs\u001b[0m\u001b[0;34m)\u001b[0m \u001b[0;34m==\u001b[0m \u001b[0;36m1\u001b[0m \u001b[0;32mand\u001b[0m \u001b[0misinstance\u001b[0m\u001b[0;34m(\u001b[0m\u001b[0margs\u001b[0m\u001b[0;34m[\u001b[0m\u001b[0;36m0\u001b[0m\u001b[0;34m]\u001b[0m\u001b[0;34m,\u001b[0m \u001b[0mIterable\u001b[0m\u001b[0;34m)\u001b[0m\u001b[0;34m:\u001b[0m\u001b[0;34m\u001b[0m\u001b[0;34m\u001b[0m\u001b[0m\n\u001b[0;32m--> 113\u001b[0;31m             \u001b[0;32mreturn\u001b[0m \u001b[0mfunction\u001b[0m\u001b[0;34m(\u001b[0m\u001b[0;34m*\u001b[0m\u001b[0margs\u001b[0m\u001b[0;34m[\u001b[0m\u001b[0;36m0\u001b[0m\u001b[0;34m]\u001b[0m\u001b[0;34m)\u001b[0m\u001b[0;34m\u001b[0m\u001b[0;34m\u001b[0m\u001b[0m\n\u001b[0m\u001b[1;32m    114\u001b[0m         \u001b[0;32melse\u001b[0m\u001b[0;34m:\u001b[0m\u001b[0;34m\u001b[0m\u001b[0;34m\u001b[0m\u001b[0m\n",
            "\u001b[0;32m/usr/local/lib/python3.7/dist-packages/rasterio/windows.py\u001b[0m in \u001b[0;36mintersection\u001b[0;34m(*windows)\u001b[0m\n\u001b[1;32m    215\u001b[0m     \u001b[0;32mif\u001b[0m \u001b[0;32mnot\u001b[0m \u001b[0mintersect\u001b[0m\u001b[0;34m(\u001b[0m\u001b[0mwindows\u001b[0m\u001b[0;34m)\u001b[0m\u001b[0;34m:\u001b[0m\u001b[0;34m\u001b[0m\u001b[0;34m\u001b[0m\u001b[0m\n\u001b[0;32m--> 216\u001b[0;31m         \u001b[0;32mraise\u001b[0m \u001b[0mWindowError\u001b[0m\u001b[0;34m(\u001b[0m\u001b[0;34m\"windows do not intersect\"\u001b[0m\u001b[0;34m)\u001b[0m\u001b[0;34m\u001b[0m\u001b[0;34m\u001b[0m\u001b[0m\n\u001b[0m\u001b[1;32m    217\u001b[0m \u001b[0;34m\u001b[0m\u001b[0m\n",
            "\u001b[0;31mWindowError\u001b[0m: windows do not intersect",
            "\nDuring handling of the above exception, another exception occurred:\n",
            "\u001b[0;31mValueError\u001b[0m                                Traceback (most recent call last)",
            "\u001b[0;32m<ipython-input-11-6e6b41488395>\u001b[0m in \u001b[0;36m<module>\u001b[0;34m()\u001b[0m\n\u001b[1;32m     35\u001b[0m \u001b[0;34m\u001b[0m\u001b[0m\n\u001b[1;32m     36\u001b[0m     \u001b[0;31m# define the tile as a mask of the whole tiff with just the bounding box\u001b[0m\u001b[0;34m\u001b[0m\u001b[0;34m\u001b[0m\u001b[0;34m\u001b[0m\u001b[0m\n\u001b[0;32m---> 37\u001b[0;31m     \u001b[0mout_img\u001b[0m\u001b[0;34m,\u001b[0m \u001b[0mout_transform\u001b[0m \u001b[0;34m=\u001b[0m \u001b[0mmask\u001b[0m\u001b[0;34m(\u001b[0m\u001b[0mdata\u001b[0m\u001b[0;34m,\u001b[0m \u001b[0mshapes\u001b[0m\u001b[0;34m=\u001b[0m\u001b[0mcoords\u001b[0m\u001b[0;34m,\u001b[0m \u001b[0mcrop\u001b[0m\u001b[0;34m=\u001b[0m\u001b[0;32mTrue\u001b[0m\u001b[0;34m)\u001b[0m\u001b[0;34m\u001b[0m\u001b[0;34m\u001b[0m\u001b[0m\n\u001b[0m\u001b[1;32m     38\u001b[0m \u001b[0;34m\u001b[0m\u001b[0m\n\u001b[1;32m     39\u001b[0m     \u001b[0;31m# copy the metadata\u001b[0m\u001b[0;34m\u001b[0m\u001b[0;34m\u001b[0m\u001b[0;34m\u001b[0m\u001b[0m\n",
            "\u001b[0;32m/usr/local/lib/python3.7/dist-packages/rasterio/mask.py\u001b[0m in \u001b[0;36mmask\u001b[0;34m(dataset, shapes, all_touched, invert, nodata, filled, crop, pad, pad_width, indexes)\u001b[0m\n\u001b[1;32m    178\u001b[0m     shape_mask, transform, window = raster_geometry_mask(\n\u001b[1;32m    179\u001b[0m         \u001b[0mdataset\u001b[0m\u001b[0;34m,\u001b[0m \u001b[0mshapes\u001b[0m\u001b[0;34m,\u001b[0m \u001b[0mall_touched\u001b[0m\u001b[0;34m=\u001b[0m\u001b[0mall_touched\u001b[0m\u001b[0;34m,\u001b[0m \u001b[0minvert\u001b[0m\u001b[0;34m=\u001b[0m\u001b[0minvert\u001b[0m\u001b[0;34m,\u001b[0m \u001b[0mcrop\u001b[0m\u001b[0;34m=\u001b[0m\u001b[0mcrop\u001b[0m\u001b[0;34m,\u001b[0m\u001b[0;34m\u001b[0m\u001b[0;34m\u001b[0m\u001b[0m\n\u001b[0;32m--> 180\u001b[0;31m         pad=pad, pad_width=pad_width)\n\u001b[0m\u001b[1;32m    181\u001b[0m \u001b[0;34m\u001b[0m\u001b[0m\n\u001b[1;32m    182\u001b[0m     \u001b[0;32mif\u001b[0m \u001b[0mindexes\u001b[0m \u001b[0;32mis\u001b[0m \u001b[0;32mNone\u001b[0m\u001b[0;34m:\u001b[0m\u001b[0;34m\u001b[0m\u001b[0;34m\u001b[0m\u001b[0m\n",
            "\u001b[0;32m/usr/local/lib/python3.7/dist-packages/rasterio/mask.py\u001b[0m in \u001b[0;36mraster_geometry_mask\u001b[0;34m(dataset, shapes, all_touched, invert, crop, pad, pad_width)\u001b[0m\n\u001b[1;32m     84\u001b[0m         \u001b[0;31m# depending on value of crop\u001b[0m\u001b[0;34m\u001b[0m\u001b[0;34m\u001b[0m\u001b[0;34m\u001b[0m\u001b[0m\n\u001b[1;32m     85\u001b[0m         \u001b[0;32mif\u001b[0m \u001b[0mcrop\u001b[0m\u001b[0;34m:\u001b[0m\u001b[0;34m\u001b[0m\u001b[0;34m\u001b[0m\u001b[0m\n\u001b[0;32m---> 86\u001b[0;31m             \u001b[0;32mraise\u001b[0m \u001b[0mValueError\u001b[0m\u001b[0;34m(\u001b[0m\u001b[0;34m'Input shapes do not overlap raster.'\u001b[0m\u001b[0;34m)\u001b[0m\u001b[0;34m\u001b[0m\u001b[0;34m\u001b[0m\u001b[0m\n\u001b[0m\u001b[1;32m     87\u001b[0m         \u001b[0;32melse\u001b[0m\u001b[0;34m:\u001b[0m\u001b[0;34m\u001b[0m\u001b[0;34m\u001b[0m\u001b[0m\n\u001b[1;32m     88\u001b[0m             warnings.warn('shapes are outside bounds of raster. '\n",
            "\u001b[0;31mValueError\u001b[0m: Input shapes do not overlap raster."
          ]
        }
      ]
    },
    {
      "cell_type": "code",
      "metadata": {
        "id": "ogC-ZRwiY-rQ"
      },
      "source": [
        ""
      ],
      "id": "ogC-ZRwiY-rQ",
      "execution_count": null,
      "outputs": []
    }
  ]
}