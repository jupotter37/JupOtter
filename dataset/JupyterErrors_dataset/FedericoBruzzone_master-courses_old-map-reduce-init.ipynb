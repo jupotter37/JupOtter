{
 "cells": [
  {
   "cell_type": "code",
   "execution_count": null,
   "metadata": {
    "colab": {},
    "colab_type": "code",
    "id": "2KBSMN42Hj-s"
   },
   "outputs": [],
   "source": [
    "!apt-get install openjdk-8-jdk-headless -qq > /dev/null\n",
    "!wget -q http://www-eu.apache.org/dist/spark/spark-2.4.5/spark-2.4.5-bin-hadoop2.7.tgz\n",
    "!tar xf spark-2.4.5-bin-hadoop2.7.tgz\n",
    "!pip install -q findspark"
   ]
  },
  {
   "cell_type": "code",
   "execution_count": null,
   "metadata": {
    "colab": {},
    "colab_type": "code",
    "id": "UsnMvQDRIG8p"
   },
   "outputs": [],
   "source": [
    "import os\n",
    "os.environ[\"JAVA_HOME\"] = \"/usr/lib/jvm/java-8-openjdk-amd64\"\n",
    "os.environ[\"SPARK_HOME\"] = \"/content/spark-2.4.5-bin-hadoop2.7\""
   ]
  },
  {
   "cell_type": "code",
   "execution_count": null,
   "metadata": {
    "colab": {},
    "colab_type": "code",
    "id": "evOnjggtJEXg"
   },
   "outputs": [],
   "source": [
    "import findspark\n",
    "findspark.init(\"spark-2.4.5-bin-hadoop2.7\")# SPARK_HOME\n",
    "from pyspark.sql import SparkSession\n",
    "spark = SparkSession.builder.master(\"local[*]\").getOrCreate()"
   ]
  },
  {
   "cell_type": "code",
   "execution_count": 2,
   "metadata": {
    "colab": {
     "base_uri": "https://localhost:8080/",
     "height": 34
    },
    "colab_type": "code",
    "executionInfo": {
     "elapsed": 688,
     "status": "ok",
     "timestamp": 1583924144270,
     "user": {
      "displayName": "Dario Malchiodi",
      "photoUrl": "https://lh3.googleusercontent.com/a-/AOh14GiELCr-zUeJWuHT3llF5XfHH7B3tmxiSDlls6hF=s64",
      "userId": "00228704477903575446"
     },
     "user_tz": -60
    },
    "id": "0LSsYt0-I7J7",
    "outputId": "133c6eee-bdc3-4470-ebf9-a2a4d91fafc3"
   },
   "outputs": [],
   "source": [
    "import pyspark\n",
    "#type(spark)"
   ]
  },
  {
   "cell_type": "code",
   "execution_count": 3,
   "metadata": {
    "colab": {},
    "colab_type": "code",
    "id": "6J2Cm3DMJZkZ"
   },
   "outputs": [
    {
     "ename": "NameError",
     "evalue": "name 'spark' is not defined",
     "output_type": "error",
     "traceback": [
      "\u001b[0;31m---------------------------------------------------------------------------\u001b[0m",
      "\u001b[0;31mNameError\u001b[0m                                 Traceback (most recent call last)",
      "Cell \u001b[0;32mIn [3], line 1\u001b[0m\n\u001b[0;32m----> 1\u001b[0m sc \u001b[38;5;241m=\u001b[39m \u001b[43mspark\u001b[49m\u001b[38;5;241m.\u001b[39msparkContext\n",
      "\u001b[0;31mNameError\u001b[0m: name 'spark' is not defined"
     ]
    }
   ],
   "source": [
    "sc = spark.sparkContext"
   ]
  },
  {
   "cell_type": "code",
   "execution_count": null,
   "metadata": {
    "colab": {},
    "colab_type": "code",
    "id": "SB-1ZpL9P9ve"
   },
   "outputs": [],
   "source": [
    "s = '''Every person had a star, every star had a friend, and for every person\n",
    "carrying a star there was someone else who reflected it, and everyone\n",
    "carried this reflection like a secret confidante in the heart'''\n",
    "simple_rdd = sc.parallelize(s.split('\\n'))"
   ]
  },
  {
   "cell_type": "code",
   "execution_count": null,
   "metadata": {
    "colab": {
     "base_uri": "https://localhost:8080/",
     "height": 69
    },
    "colab_type": "code",
    "executionInfo": {
     "elapsed": 980,
     "status": "ok",
     "timestamp": 1583925416531,
     "user": {
      "displayName": "Dario Malchiodi",
      "photoUrl": "https://lh3.googleusercontent.com/a-/AOh14GiELCr-zUeJWuHT3llF5XfHH7B3tmxiSDlls6hF=s64",
      "userId": "00228704477903575446"
     },
     "user_tz": -60
    },
    "id": "8pe238QyJsCP",
    "outputId": "a5a75233-79bf-4d79-9a64-2c707f6514f5"
   },
   "outputs": [],
   "source": [
    "simple_rdd.collect()"
   ]
  },
  {
   "cell_type": "code",
   "execution_count": null,
   "metadata": {
    "colab": {
     "base_uri": "https://localhost:8080/",
     "height": 637
    },
    "colab_type": "code",
    "executionInfo": {
     "elapsed": 953,
     "status": "ok",
     "timestamp": 1583925459082,
     "user": {
      "displayName": "Dario Malchiodi",
      "photoUrl": "https://lh3.googleusercontent.com/a-/AOh14GiELCr-zUeJWuHT3llF5XfHH7B3tmxiSDlls6hF=s64",
      "userId": "00228704477903575446"
     },
     "user_tz": -60
    },
    "id": "LymNHuZDQlgZ",
    "outputId": "f5983ce4-a44a-42b8-9e7d-abf61b615196"
   },
   "outputs": [],
   "source": [
    "(simple_rdd.map(lambda line: line.split(' '))\n",
    "           .collect())"
   ]
  },
  {
   "cell_type": "code",
   "execution_count": null,
   "metadata": {
    "colab": {
     "base_uri": "https://localhost:8080/",
     "height": 189
    },
    "colab_type": "code",
    "executionInfo": {
     "elapsed": 1141,
     "status": "ok",
     "timestamp": 1583925574281,
     "user": {
      "displayName": "Dario Malchiodi",
      "photoUrl": "https://lh3.googleusercontent.com/a-/AOh14GiELCr-zUeJWuHT3llF5XfHH7B3tmxiSDlls6hF=s64",
      "userId": "00228704477903575446"
     },
     "user_tz": -60
    },
    "id": "OGbH_xQyQ1pJ",
    "outputId": "33e037f0-347d-42ed-eb1d-8224594f6619"
   },
   "outputs": [],
   "source": [
    "(simple_rdd.flatMap(lambda line: line.split(' '))\n",
    "           .take(10))"
   ]
  },
  {
   "cell_type": "code",
   "execution_count": null,
   "metadata": {
    "colab": {
     "base_uri": "https://localhost:8080/",
     "height": 34
    },
    "colab_type": "code",
    "executionInfo": {
     "elapsed": 882,
     "status": "ok",
     "timestamp": 1583925661259,
     "user": {
      "displayName": "Dario Malchiodi",
      "photoUrl": "https://lh3.googleusercontent.com/a-/AOh14GiELCr-zUeJWuHT3llF5XfHH7B3tmxiSDlls6hF=s64",
      "userId": "00228704477903575446"
     },
     "user_tz": -60
    },
    "id": "PsArbQfrRH2l",
    "outputId": "22505b8c-5c62-4403-ebf0-5bc7aff2bc0c"
   },
   "outputs": [],
   "source": [
    "(simple_rdd.flatMap(lambda line: line.split(' '))\n",
    "           .map(lambda word: word.replace(',', '').lower())\n",
    "           .take(5))"
   ]
  },
  {
   "cell_type": "code",
   "execution_count": null,
   "metadata": {
    "colab": {
     "base_uri": "https://localhost:8080/",
     "height": 34
    },
    "colab_type": "code",
    "executionInfo": {
     "elapsed": 905,
     "status": "ok",
     "timestamp": 1583925705766,
     "user": {
      "displayName": "Dario Malchiodi",
      "photoUrl": "https://lh3.googleusercontent.com/a-/AOh14GiELCr-zUeJWuHT3llF5XfHH7B3tmxiSDlls6hF=s64",
      "userId": "00228704477903575446"
     },
     "user_tz": -60
    },
    "id": "mp8z9tJNRVQZ",
    "outputId": "59a396c1-e609-4f78-d186-9b66fb766862"
   },
   "outputs": [],
   "source": [
    "(simple_rdd.flatMap(lambda line: line.split(' '))\n",
    "           .map(lambda word: word.replace(',', '').lower())\n",
    "           .map(lambda word: (word, 1))\n",
    "           .take(5))"
   ]
  },
  {
   "cell_type": "code",
   "execution_count": null,
   "metadata": {
    "colab": {
     "base_uri": "https://localhost:8080/",
     "height": 465
    },
    "colab_type": "code",
    "executionInfo": {
     "elapsed": 1184,
     "status": "ok",
     "timestamp": 1583925804276,
     "user": {
      "displayName": "Dario Malchiodi",
      "photoUrl": "https://lh3.googleusercontent.com/a-/AOh14GiELCr-zUeJWuHT3llF5XfHH7B3tmxiSDlls6hF=s64",
      "userId": "00228704477903575446"
     },
     "user_tz": -60
    },
    "id": "-Vcv7UcsRjBr",
    "outputId": "a92133d5-94f0-4cdd-af2c-63cde156d204"
   },
   "outputs": [],
   "source": [
    "(simple_rdd.flatMap(lambda line: line.split(' '))\n",
    "           .map(lambda word: word.replace(',', '').lower())\n",
    "           .map(lambda word: (word, 1))\n",
    "           .reduceByKey(lambda a,b: a+b)\n",
    "           .collect())"
   ]
  },
  {
   "cell_type": "code",
   "execution_count": null,
   "metadata": {
    "colab": {},
    "colab_type": "code",
    "id": "70Zlz-SER3ki"
   },
   "outputs": [],
   "source": [
    "def count_freq(rdd):\n",
    "  return (rdd.flatMap(lambda line: line.split(' '))\n",
    "            .map(lambda word: word.replace(',', '').lower())\n",
    "            .map(lambda word: (word, 1))\n",
    "            .reduceByKey(lambda a,b: a+b)\n",
    "            .collect())"
   ]
  },
  {
   "cell_type": "code",
   "execution_count": null,
   "metadata": {
    "colab": {
     "base_uri": "https://localhost:8080/",
     "height": 207
    },
    "colab_type": "code",
    "executionInfo": {
     "elapsed": 3720,
     "status": "ok",
     "timestamp": 1583925922330,
     "user": {
      "displayName": "Dario Malchiodi",
      "photoUrl": "https://lh3.googleusercontent.com/a-/AOh14GiELCr-zUeJWuHT3llF5XfHH7B3tmxiSDlls6hF=s64",
      "userId": "00228704477903575446"
     },
     "user_tz": -60
    },
    "id": "dA_3tetsHQm8",
    "outputId": "8ca4b837-ceaa-4382-b834-8a211dc426eb"
   },
   "outputs": [],
   "source": [
    "!wget http://www.scifiscripts.com/scripts/swd1_5-74.txt"
   ]
  },
  {
   "cell_type": "code",
   "execution_count": null,
   "metadata": {
    "colab": {},
    "colab_type": "code",
    "id": "EZA0B20IJxkN"
   },
   "outputs": [],
   "source": [
    "sw = sc.textFile('swd1_5-74.txt')"
   ]
  },
  {
   "cell_type": "code",
   "execution_count": null,
   "metadata": {
    "colab": {
     "base_uri": "https://localhost:8080/",
     "height": 189
    },
    "colab_type": "code",
    "executionInfo": {
     "elapsed": 880,
     "status": "ok",
     "timestamp": 1583925949796,
     "user": {
      "displayName": "Dario Malchiodi",
      "photoUrl": "https://lh3.googleusercontent.com/a-/AOh14GiELCr-zUeJWuHT3llF5XfHH7B3tmxiSDlls6hF=s64",
      "userId": "00228704477903575446"
     },
     "user_tz": -60
    },
    "id": "VjXWVqhOJ1Vu",
    "outputId": "d9d57546-df80-43dd-cc1a-9549b8d8145e"
   },
   "outputs": [],
   "source": [
    "sw.take(10)"
   ]
  },
  {
   "cell_type": "code",
   "execution_count": null,
   "metadata": {
    "colab": {
     "base_uri": "https://localhost:8080/",
     "height": 189
    },
    "colab_type": "code",
    "executionInfo": {
     "elapsed": 932,
     "status": "ok",
     "timestamp": 1583925975177,
     "user": {
      "displayName": "Dario Malchiodi",
      "photoUrl": "https://lh3.googleusercontent.com/a-/AOh14GiELCr-zUeJWuHT3llF5XfHH7B3tmxiSDlls6hF=s64",
      "userId": "00228704477903575446"
     },
     "user_tz": -60
    },
    "id": "GjY7hco0J6Mu",
    "outputId": "21e5f767-59d3-49ee-8e22-2dd3b8444386"
   },
   "outputs": [],
   "source": [
    "count_freq(sw)[: 10]"
   ]
  },
  {
   "cell_type": "code",
   "execution_count": null,
   "metadata": {
    "colab": {
     "base_uri": "https://localhost:8080/",
     "height": 34
    },
    "colab_type": "code",
    "executionInfo": {
     "elapsed": 7655,
     "status": "ok",
     "timestamp": 1583926105124,
     "user": {
      "displayName": "Dario Malchiodi",
      "photoUrl": "https://lh3.googleusercontent.com/a-/AOh14GiELCr-zUeJWuHT3llF5XfHH7B3tmxiSDlls6hF=s64",
      "userId": "00228704477903575446"
     },
     "user_tz": -60
    },
    "id": "SRPuxtCuSHOH",
    "outputId": "244b2499-95c5-49b1-af84-b3fe3f1a103c"
   },
   "outputs": [],
   "source": [
    "import random\n",
    "\n",
    "NUM_SAMPLES = 10**7\n",
    "\n",
    "def inside(p):\n",
    "    x, y = random.random(), random.random()\n",
    "    return x*x + y*y < 1\n",
    "\n",
    "count = (sc.parallelize(range(0, NUM_SAMPLES))\n",
    "           .filter(inside).count())\n",
    "\n",
    "print('Pi is roughly {}'.format(4.0 * count / NUM_SAMPLES))"
   ]
  },
  {
   "cell_type": "code",
   "execution_count": null,
   "metadata": {
    "colab": {},
    "colab_type": "code",
    "id": "NwO4G7dJSYF3"
   },
   "outputs": [],
   "source": []
  }
 ],
 "metadata": {
  "colab": {
   "authorship_tag": "ABX9TyOCXO2ErJiOtdYKMLnKZ6UT",
   "collapsed_sections": [],
   "name": "Basic-spark-operations.ipynb",
   "provenance": []
  },
  "kernelspec": {
   "display_name": "Python 3 (ipykernel)",
   "language": "python",
   "name": "python3"
  },
  "language_info": {
   "codemirror_mode": {
    "name": "ipython",
    "version": 3
   },
   "file_extension": ".py",
   "mimetype": "text/x-python",
   "name": "python",
   "nbconvert_exporter": "python",
   "pygments_lexer": "ipython3",
   "version": "3.10.6"
  },
  "varInspector": {
   "cols": {
    "lenName": 16,
    "lenType": 16,
    "lenVar": 40
   },
   "kernels_config": {
    "python": {
     "delete_cmd_postfix": "",
     "delete_cmd_prefix": "del ",
     "library": "var_list.py",
     "varRefreshCmd": "print(var_dic_list())"
    },
    "r": {
     "delete_cmd_postfix": ") ",
     "delete_cmd_prefix": "rm(",
     "library": "var_list.r",
     "varRefreshCmd": "cat(var_dic_list()) "
    }
   },
   "types_to_exclude": [
    "module",
    "function",
    "builtin_function_or_method",
    "instance",
    "_Feature"
   ],
   "window_display": false
  }
 },
 "nbformat": 4,
 "nbformat_minor": 1
}
