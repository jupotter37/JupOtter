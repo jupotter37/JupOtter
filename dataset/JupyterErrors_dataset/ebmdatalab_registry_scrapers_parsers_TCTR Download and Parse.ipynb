{
 "cells": [
  {
   "cell_type": "code",
   "execution_count": null,
   "metadata": {},
   "outputs": [],
   "source": [
    "#Strategy\n",
    "#Need to generate the \"all\" search page and wait for the xml link to generate, then go get it"
   ]
  },
  {
   "cell_type": "code",
   "execution_count": 1,
   "metadata": {},
   "outputs": [],
   "source": [
    "from selenium import webdriver\n",
    "from selenium.webdriver.common.by import By\n",
    "from selenium.webdriver.support.ui import WebDriverWait\n",
    "from selenium.webdriver.support import expected_conditions as ec\n",
    "from requests import get\n",
    "import os\n",
    "from time import sleep\n",
    "from time import time\n",
    "from pathlib import Path\n",
    "import platform\n",
    "\n",
    "url = 'http://www.clinicaltrials.in.th/index.php?tp=regtrials&menu=trialsearch&smenu=showpb&task=search&task2=showpb'\n",
    "download_path = '/Users/nicholasdevito/Desktop/TCTR Test'\n",
    "platform = platform.platform()\n",
    "cwd = os.getcwd()\n",
    "download_path = os.path.join(cwd,'ANZCTR Downloads')\n",
    "parent = str(Path(cwd).parents[0])"
   ]
  },
  {
   "cell_type": "code",
   "execution_count": null,
   "metadata": {},
   "outputs": [],
   "source": [
    "if \"Darwin\" in platform:\n",
    "    chrome_driver = os.path.join(parent, 'Drivers', 'chromedriver')\n",
    "elif \"Windows\" in platform:\n",
    "    chrome_driver = os.path.join(parent, 'Drivers', 'chromedriver.exe')\n",
    "else:\n",
    "    print(\"No OS/Chromdriver match. OS: {}\".format(platform))"
   ]
  },
  {
   "cell_type": "code",
   "execution_count": 2,
   "metadata": {},
   "outputs": [],
   "source": [
    "chromeOptions = webdriver.ChromeOptions()\n",
    "prefs = {\"download.default_directory\" : download_path}\n",
    "chromeOptions.add_experimental_option(\"prefs\",prefs)\n",
    "driver = webdriver.Chrome(executable_path=chrome_driver, options=chromeOptions)\n",
    "driver.get(url)\n",
    "total_trials = (driver.find_element_by_xpath(\"//span[@class='detail2txt']\")).text\n",
    "\n",
    "xml_button = WebDriverWait(driver, 300).until(ec.presence_of_element_located((By.XPATH, '//a[text()=\"Export to XML (.zip)\"]')))\n",
    "xml_button.click()\n",
    "sleep(2)\n",
    "\n",
    "dl_check = 0\n",
    "start_time = time()\n",
    "while dl_check == 0 and time() - start_time < 30:\n",
    "    count = 0\n",
    "    for file in os.listdir(download_path):\n",
    "        if file.endswith(\".zip\"):\n",
    "            count = 1\n",
    "        else:\n",
    "            count = 0\n",
    "    if count == 1:\n",
    "        dl_check = 1\n",
    "        driver.quit()\n",
    "    else:\n",
    "        dl_check = 0\n",
    "        sleep(2)"
   ]
  },
  {
   "cell_type": "code",
   "execution_count": 17,
   "metadata": {},
   "outputs": [
    {
     "ename": "AttributeError",
     "evalue": "'int' object has no attribute 'split'",
     "output_type": "error",
     "traceback": [
      "\u001b[0;31m---------------------------------------------------------------------------\u001b[0m",
      "\u001b[0;31mAttributeError\u001b[0m                            Traceback (most recent call last)",
      "\u001b[0;32m<ipython-input-17-2bb073d7522f>\u001b[0m in \u001b[0;36m<module>\u001b[0;34m\u001b[0m\n\u001b[0;32m----> 1\u001b[0;31m \u001b[0mtotal_trials\u001b[0m \u001b[0;34m=\u001b[0m \u001b[0mint\u001b[0m\u001b[0;34m(\u001b[0m\u001b[0mtotal_trials\u001b[0m\u001b[0;34m.\u001b[0m\u001b[0msplit\u001b[0m\u001b[0;34m(\u001b[0m\u001b[0;34m)\u001b[0m\u001b[0;34m[\u001b[0m\u001b[0;36m1\u001b[0m\u001b[0;34m]\u001b[0m\u001b[0;34m)\u001b[0m\u001b[0;34m\u001b[0m\u001b[0;34m\u001b[0m\u001b[0m\n\u001b[0m\u001b[1;32m      2\u001b[0m \u001b[0mprint\u001b[0m\u001b[0;34m(\u001b[0m\u001b[0mtotal_trials\u001b[0m\u001b[0;34m)\u001b[0m\u001b[0;34m\u001b[0m\u001b[0;34m\u001b[0m\u001b[0m\n",
      "\u001b[0;31mAttributeError\u001b[0m: 'int' object has no attribute 'split'"
     ]
    }
   ],
   "source": [
    "total_trials = int(total_trials.split()[1])\n",
    "print(total_trials)"
   ]
  },
  {
   "cell_type": "code",
   "execution_count": 21,
   "metadata": {},
   "outputs": [
    {
     "name": "stdout",
     "output_type": "stream",
     "text": [
      "TCTR20190218c46.zip\n"
     ]
    }
   ],
   "source": [
    "for file in os.listdir(download_path):\n",
    "    if file.endswith('.zip'):\n",
    "        zip_file = file\n",
    "\n",
    "print(zip_file)"
   ]
  },
  {
   "cell_type": "code",
   "execution_count": 24,
   "metadata": {},
   "outputs": [],
   "source": [
    "import zipfile\n",
    "zip_ref = zipfile.ZipFile(download_path + '/' + zip_file, 'r')\n",
    "zip_ref.extractall(download_path)\n",
    "zip_ref.close()"
   ]
  },
  {
   "cell_type": "code",
   "execution_count": 25,
   "metadata": {},
   "outputs": [
    {
     "name": "stdout",
     "output_type": "stream",
     "text": [
      "TCTR20190218c46.xml\n"
     ]
    }
   ],
   "source": [
    "for file in os.listdir(download_path):\n",
    "    if file.endswith('.xml'):\n",
    "        xml_file = file\n",
    "\n",
    "print(xml_file)"
   ]
  },
  {
   "cell_type": "code",
   "execution_count": 26,
   "metadata": {},
   "outputs": [],
   "source": [
    "import xmltodict\n",
    "import json\n",
    "\n",
    "xml = open(download_path + '/' + xml_file,  encoding = \"ISO-8859-1\").read()\n",
    "trials = xmltodict.parse(xml, encoding = \"ISO-8859-1\")"
   ]
  },
  {
   "cell_type": "code",
   "execution_count": 27,
   "metadata": {},
   "outputs": [],
   "source": [
    "tctr_trials = []\n",
    "for trial in trials['trials']['trial']:\n",
    "    tctr_trials.append(json.dumps(trial))"
   ]
  },
  {
   "cell_type": "code",
   "execution_count": 28,
   "metadata": {},
   "outputs": [
    {
     "data": {
      "text/plain": [
       "2654"
      ]
     },
     "execution_count": 28,
     "metadata": {},
     "output_type": "execute_result"
    }
   ],
   "source": [
    "len(tctr_trials)"
   ]
  },
  {
   "cell_type": "code",
   "execution_count": 29,
   "metadata": {},
   "outputs": [
    {
     "name": "stdout",
     "output_type": "stream",
     "text": [
      "Success!: 2654 trials\n"
     ]
    }
   ],
   "source": [
    "if len(tctr_trials) == total_trials:\n",
    "    print(\"Success!: {} trials\".format(total_trials))\n",
    "else:\n",
    "    print(\"Error! TCTR Trials {}, Scraped Trials {}\".format(total_trials, len(tctr_trials)))"
   ]
  },
  {
   "cell_type": "code",
   "execution_count": null,
   "metadata": {},
   "outputs": [],
   "source": [
    "from datetime import date\n",
    "import csv\n",
    "\n",
    "def tctr_csv():\n",
    "    with open('tctr - ' + str(date.todat()) + '.csv','w', newline = '') as tctr_csv:\n",
    "        writer=csv.writer(tctr_csv)\n",
    "        for val in tctr_trials:\n",
    "            writer.writerow([val])\n",
    "\n",
    "            \n",
    "#If you want a CSV run this function after the script runs"
   ]
  }
 ],
 "metadata": {
  "jupytext": {
   "formats": "ipynb,py:light"
  },
  "kernelspec": {
   "display_name": "Python 3",
   "language": "python",
   "name": "python3"
  },
  "language_info": {
   "codemirror_mode": {
    "name": "ipython",
    "version": 3
   },
   "file_extension": ".py",
   "mimetype": "text/x-python",
   "name": "python",
   "nbconvert_exporter": "python",
   "pygments_lexer": "ipython3",
   "version": "3.7.3"
  }
 },
 "nbformat": 4,
 "nbformat_minor": 2
}
