{
 "cells": [
  {
   "cell_type": "code",
   "execution_count": 1,
   "metadata": {},
   "outputs": [],
   "source": [
    "import sys\n",
    "sys.path.append('src/')\n",
    "import numpy as np\n",
    "import torch, torch.nn\n",
    "from library_function import library_1D\n",
    "from neural_net import LinNetwork\n",
    "from DeepMod import DeepMod\n",
    "import matplotlib.pyplot as plt\n",
    "plt.style.use('seaborn-notebook')\n",
    "import torch.nn as nn\n",
    "from torch.autograd import grad\n",
    "from scipy.io import loadmat\n",
    "\n",
    "%load_ext autoreload\n",
    "%autoreload 2"
   ]
  },
  {
   "cell_type": "markdown",
   "metadata": {},
   "source": [
    "# Preparing data"
   ]
  },
  {
   "cell_type": "code",
   "execution_count": 2,
   "metadata": {},
   "outputs": [],
   "source": [
    "np.random.seed(34) \n",
    "number_of_samples = 1000\n",
    "\n",
    "data = np.load('data/burgers.npy', allow_pickle=True).item()\n",
    "\n",
    "X = np.transpose((data['x'].flatten(), data['t'].flatten()))\n",
    "y = np.real(np.transpose((data['u'].flatten(),data['u'].flatten())))"
   ]
  },
  {
   "cell_type": "code",
   "execution_count": 4,
   "metadata": {},
   "outputs": [],
   "source": [
    "idx = np.random.permutation(y.shape[0])\n",
    "X_train = torch.tensor(X[idx, :][:number_of_samples], dtype=torch.float32, requires_grad=True)\n",
    "y_train = torch.tensor(y[idx, :][:number_of_samples], dtype=torch.float32)"
   ]
  },
  {
   "cell_type": "code",
   "execution_count": 3,
   "metadata": {},
   "outputs": [],
   "source": [
    "rawdata = loadmat('data/kinetics_new.mat')\n",
    "raw = np.real(rawdata['Expression1'])\n",
    "raw= raw.reshape((1901,3))\n",
    "t = raw[:-1,0].reshape(-1,1)\n",
    "X1= raw[:-1,1]\n",
    "X2 = raw[:-1,2]"
   ]
  },
  {
   "cell_type": "code",
   "execution_count": 4,
   "metadata": {},
   "outputs": [],
   "source": [
    "X = np.float32(t.reshape(-1,1))"
   ]
  },
  {
   "cell_type": "code",
   "execution_count": 5,
   "metadata": {},
   "outputs": [],
   "source": [
    "y= np.vstack((X1,X2))\n",
    "y = np.transpose(y)"
   ]
  },
  {
   "cell_type": "code",
   "execution_count": 6,
   "metadata": {},
   "outputs": [],
   "source": [
    "number_of_samples = 1000"
   ]
  },
  {
   "cell_type": "code",
   "execution_count": 7,
   "metadata": {},
   "outputs": [],
   "source": [
    "idx = np.random.permutation(y.shape[0])"
   ]
  },
  {
   "cell_type": "code",
   "execution_count": 8,
   "metadata": {},
   "outputs": [],
   "source": [
    "X_train = torch.tensor(X[idx, :][:number_of_samples], dtype=torch.float32, requires_grad=True)"
   ]
  },
  {
   "cell_type": "code",
   "execution_count": 9,
   "metadata": {},
   "outputs": [],
   "source": [
    "y_train = torch.tensor(y[idx, :][:number_of_samples], dtype=torch.float32)"
   ]
  },
  {
   "cell_type": "code",
   "execution_count": 10,
   "metadata": {},
   "outputs": [
    {
     "data": {
      "text/plain": [
       "torch.Size([1000, 2])"
      ]
     },
     "execution_count": 10,
     "metadata": {},
     "output_type": "execute_result"
    }
   ],
   "source": [
    "y_train.shape"
   ]
  },
  {
   "cell_type": "markdown",
   "metadata": {},
   "source": [
    "# Building network"
   ]
  },
  {
   "cell_type": "code",
   "execution_count": 11,
   "metadata": {},
   "outputs": [],
   "source": [
    "optim_config ={'lambda':1e-6,'max_iteration':50000}\n",
    "lib_config={'poly_order':1, 'diff_order':2, 'total_terms':4}\n",
    "network_config={'input_dim':1, 'hidden_dim':20, 'layers':5, 'output_dim':2}"
   ]
  },
  {
   "cell_type": "code",
   "execution_count": null,
   "metadata": {},
   "outputs": [
    {
     "name": "stdout",
     "output_type": "stream",
     "text": [
      "Epoch | Total loss | MSE | PI | L1 \n",
      "0 2.0E+00 1.5E+00 4.2E-01 1.0E-06\n",
      "[[1. 1.]\n",
      " [1. 1.]\n",
      " [1. 1.]\n",
      " [1. 1.]]\n",
      "1000 2.4E-01 2.3E-01 1.0E-02 8.8E-07\n",
      "[[0.33 0.46]\n",
      " [0.25 0.26]\n",
      " [1.49 1.36]\n",
      " [1.49 1.39]]\n",
      "2000 6.4E-02 6.0E-02 3.3E-03 7.9E-07\n",
      "[[-0.22  0.  ]\n",
      " [-0.35 -0.3 ]\n",
      " [ 1.42  1.29]\n",
      " [ 1.42  1.29]]\n",
      "3000 8.0E-03 7.5E-03 5.2E-04 7.9E-07\n",
      "[[-0.54 -0.25]\n",
      " [-0.68 -0.6 ]\n",
      " [ 1.1   1.06]\n",
      " [ 1.08  1.01]]\n",
      "4000 6.6E-03 6.2E-03 3.8E-04 7.6E-07\n",
      "[[-0.57 -0.27]\n",
      " [-0.67 -0.62]\n",
      " [ 0.98  1.01]\n",
      " [ 1.    0.95]]\n",
      "5000 6.0E-03 5.7E-03 3.6E-04 7.1E-07\n",
      "[[-0.55 -0.25]\n",
      " [-0.6  -0.6 ]\n",
      " [ 0.85  0.98]\n",
      " [ 0.93  0.91]]\n",
      "6000 5.0E-03 4.7E-03 3.3E-04 6.3E-07\n",
      "[[-0.52 -0.22]\n",
      " [-0.48 -0.56]\n",
      " [ 0.65  0.93]\n",
      " [ 0.81  0.86]]\n",
      "7000 3.3E-03 3.1E-03 2.5E-04 4.9E-07\n",
      "[[-0.46 -0.17]\n",
      " [-0.3  -0.49]\n",
      " [ 0.31  0.83]\n",
      " [ 0.6   0.76]]\n",
      "8000 1.2E-03 1.1E-03 1.0E-04 3.2E-07\n",
      "[[-0.36 -0.1 ]\n",
      " [-0.05 -0.38]\n",
      " [-0.12  0.67]\n",
      " [ 0.27  0.62]]\n",
      "9000 1.5E-04 1.4E-04 1.5E-05 2.9E-07\n",
      "[[-0.27 -0.05]\n",
      " [ 0.16 -0.3 ]\n",
      " [-0.47  0.53]\n",
      " [-0.02  0.5 ]]\n",
      "10000 2.4E-05 1.4E-05 9.5E-06 3.1E-07\n",
      "[[-0.22 -0.03]\n",
      " [ 0.24 -0.28]\n",
      " [-0.62  0.5 ]\n",
      " [-0.15  0.47]]\n",
      "11000 8.1E-05 3.1E-05 4.9E-05 3.2E-07\n",
      "[[-0.21 -0.03]\n",
      " [ 0.26 -0.27]\n",
      " [-0.65  0.5 ]\n",
      " [-0.18  0.46]]\n",
      "12000 2.4E-06 1.6E-06 4.6E-07 3.2E-07\n",
      "[[-0.21 -0.03]\n",
      " [ 0.27 -0.28]\n",
      " [-0.66  0.51]\n",
      " [-0.18  0.46]]\n",
      "13000 2.1E-06 1.6E-06 2.3E-07 3.3E-07\n",
      "[[-0.21 -0.03]\n",
      " [ 0.27 -0.28]\n",
      " [-0.66  0.51]\n",
      " [-0.19  0.46]]\n",
      "14000 2.4E-05 1.1E-05 1.2E-05 3.3E-07\n",
      "[[-0.21 -0.03]\n",
      " [ 0.27 -0.28]\n",
      " [-0.66  0.51]\n",
      " [-0.19  0.45]]\n",
      "15000 2.0E-06 1.5E-06 1.2E-07 3.3E-07\n",
      "[[-0.21 -0.02]\n",
      " [ 0.27 -0.28]\n",
      " [-0.66  0.52]\n",
      " [-0.19  0.45]]\n",
      "16000 9.2E-06 4.9E-06 4.0E-06 3.2E-07\n",
      "[[-0.21 -0.02]\n",
      " [ 0.27 -0.28]\n",
      " [-0.66  0.52]\n",
      " [-0.19  0.45]]\n",
      "17000 2.7E-06 2.2E-06 1.5E-07 3.2E-07\n",
      "[[-0.21 -0.02]\n",
      " [ 0.27 -0.28]\n",
      " [-0.66  0.52]\n",
      " [-0.19  0.44]]\n",
      "18000 1.5E-05 1.3E-05 1.9E-06 3.2E-07\n",
      "[[-0.21 -0.02]\n",
      " [ 0.27 -0.28]\n",
      " [-0.66  0.52]\n",
      " [-0.19  0.44]]\n",
      "19000 6.6E-06 5.9E-06 3.4E-07 3.2E-07\n",
      "[[-0.21 -0.02]\n",
      " [ 0.27 -0.28]\n",
      " [-0.66  0.53]\n",
      " [-0.19  0.44]]\n",
      "20000 1.8E-06 1.4E-06 1.2E-07 3.2E-07\n",
      "[[-0.21 -0.01]\n",
      " [ 0.27 -0.28]\n",
      " [-0.66  0.53]\n",
      " [-0.19  0.44]]\n",
      "21000 2.0E-05 1.9E-05 9.9E-07 3.2E-07\n",
      "[[-0.21 -0.01]\n",
      " [ 0.27 -0.28]\n",
      " [-0.66  0.53]\n",
      " [-0.19  0.43]]\n",
      "22000 1.9E-06 1.4E-06 1.9E-07 3.2E-07\n",
      "[[-0.21 -0.01]\n",
      " [ 0.27 -0.29]\n",
      " [-0.66  0.53]\n",
      " [-0.19  0.43]]\n",
      "23000 1.9E-06 1.4E-06 2.0E-07 3.2E-07\n",
      "[[-0.21 -0.01]\n",
      " [ 0.27 -0.29]\n",
      " [-0.66  0.54]\n",
      " [-0.19  0.43]]\n",
      "24000 4.7E-05 3.5E-05 1.1E-05 3.2E-07\n",
      "[[-0.21 -0.  ]\n",
      " [ 0.27 -0.29]\n",
      " [-0.66  0.54]\n",
      " [-0.19  0.42]]\n",
      "25000 2.9E-05 1.0E-05 1.8E-05 3.2E-07\n",
      "[[-0.21 -0.  ]\n",
      " [ 0.27 -0.29]\n",
      " [-0.66  0.54]\n",
      " [-0.19  0.42]]\n",
      "26000 2.2E-06 1.4E-06 4.7E-07 3.2E-07\n",
      "[[-0.21  0.  ]\n",
      " [ 0.27 -0.29]\n",
      " [-0.66  0.55]\n",
      " [-0.19  0.42]]\n",
      "27000 4.1E-06 2.2E-06 1.6E-06 3.2E-07\n",
      "[[-0.21  0.  ]\n",
      " [ 0.27 -0.29]\n",
      " [-0.66  0.55]\n",
      " [-0.19  0.41]]\n"
     ]
    }
   ],
   "source": [
    "sparse_weight_vector, sparsity_pattern, prediction, network = DeepMod(X_train, y_train,network_config, lib_config, optim_config)"
   ]
  },
  {
   "cell_type": "code",
   "execution_count": null,
   "metadata": {},
   "outputs": [],
   "source": [
    "prediction = network(torch.tensor(X, dtype=torch.float32))"
   ]
  },
  {
   "cell_type": "code",
   "execution_count": 15,
   "metadata": {},
   "outputs": [],
   "source": [
    "prediction = prediction.detach().numpy()"
   ]
  },
  {
   "cell_type": "code",
   "execution_count": 64,
   "metadata": {},
   "outputs": [],
   "source": [
    "x, y = np.meshgrid(X[:,0], X[:,1])"
   ]
  },
  {
   "cell_type": "code",
   "execution_count": 145,
   "metadata": {},
   "outputs": [],
   "source": [
    "mask = torch.tensor((0,1,3))"
   ]
  },
  {
   "cell_type": "code",
   "execution_count": 157,
   "metadata": {},
   "outputs": [
    {
     "data": {
      "text/plain": [
       "tensor([0, 1, 3])"
      ]
     },
     "execution_count": 157,
     "metadata": {},
     "output_type": "execute_result"
    }
   ],
   "source": [
    "mask"
   ]
  },
  {
   "cell_type": "code",
   "execution_count": 158,
   "metadata": {},
   "outputs": [],
   "source": [
    "sparse_coefs = torch.tensor((0.1,0.2,0.4)).reshape(-1,1)"
   ]
  },
  {
   "cell_type": "code",
   "execution_count": 159,
   "metadata": {},
   "outputs": [
    {
     "data": {
      "text/plain": [
       "tensor([[0.1000],\n",
       "        [0.2000],\n",
       "        [0.4000]])"
      ]
     },
     "execution_count": 159,
     "metadata": {},
     "output_type": "execute_result"
    }
   ],
   "source": [
    "sparse_coefs"
   ]
  },
  {
   "cell_type": "code",
   "execution_count": 291,
   "metadata": {},
   "outputs": [],
   "source": [
    "dummy = torch.ones((5,3,1))\n",
    "dummy2 = torch.ones((5,1,4))"
   ]
  },
  {
   "cell_type": "code",
   "execution_count": 292,
   "metadata": {},
   "outputs": [
    {
     "data": {
      "text/plain": [
       "torch.Size([5, 3, 4])"
      ]
     },
     "execution_count": 292,
     "metadata": {},
     "output_type": "execute_result"
    }
   ],
   "source": [
    "(dummy @ dummy2).shape"
   ]
  },
  {
   "cell_type": "code",
   "execution_count": 293,
   "metadata": {},
   "outputs": [
    {
     "data": {
      "text/plain": [
       "torch.Size([5, 3, 1])"
      ]
     },
     "execution_count": 293,
     "metadata": {},
     "output_type": "execute_result"
    }
   ],
   "source": [
    "dummy.shape"
   ]
  },
  {
   "cell_type": "code",
   "execution_count": 294,
   "metadata": {},
   "outputs": [
    {
     "data": {
      "text/plain": [
       "torch.Size([5, 3, 1])"
      ]
     },
     "execution_count": 294,
     "metadata": {},
     "output_type": "execute_result"
    }
   ],
   "source": [
    "dummy.reshape(-1,3,1).shape"
   ]
  },
  {
   "cell_type": "code",
   "execution_count": 164,
   "metadata": {},
   "outputs": [],
   "source": [
    "dummy = dummy.reshape(2,2)"
   ]
  },
  {
   "cell_type": "code",
   "execution_count": 128,
   "metadata": {},
   "outputs": [
    {
     "ename": "TypeError",
     "evalue": "'Tensor' object is not callable",
     "output_type": "error",
     "traceback": [
      "\u001b[0;31m---------------------------------------------------------------------------\u001b[0m",
      "\u001b[0;31mTypeError\u001b[0m                                 Traceback (most recent call last)",
      "\u001b[0;32m<ipython-input-128-05a08feb86bd>\u001b[0m in \u001b[0;36m<module>\u001b[0;34m\u001b[0m\n\u001b[0;32m----> 1\u001b[0;31m \u001b[0mtorch\u001b[0m\u001b[0;34m.\u001b[0m\u001b[0mwhere\u001b[0m\u001b[0;34m(\u001b[0m\u001b[0mcoefs\u001b[0m\u001b[0;34m(\u001b[0m\u001b[0mmask\u001b[0m\u001b[0;34m)\u001b[0m\u001b[0;34m,\u001b[0m\u001b[0mcoefs\u001b[0m\u001b[0;34m,\u001b[0m\u001b[0mdummy\u001b[0m\u001b[0;34m)\u001b[0m\u001b[0;34m\u001b[0m\u001b[0;34m\u001b[0m\u001b[0m\n\u001b[0m",
      "\u001b[0;31mTypeError\u001b[0m: 'Tensor' object is not callable"
     ]
    }
   ],
   "source": [
    "torch.where(coefs(mask),coefs,dummy)"
   ]
  },
  {
   "cell_type": "code",
   "execution_count": 45,
   "metadata": {},
   "outputs": [],
   "source": [
    "x = np.linspace(0, 1, 100)\n",
    "X, Y = np.meshgrid(x, x)\n",
    "Z = np.sin(X)*np.sin(Y)\n"
   ]
  },
  {
   "cell_type": "code",
   "execution_count": 30,
   "metadata": {},
   "outputs": [],
   "source": [
    "b = torch.ones((10, 2), dtype=torch.float32, requires_grad=True)"
   ]
  },
  {
   "cell_type": "code",
   "execution_count": 31,
   "metadata": {},
   "outputs": [],
   "source": [
    "a = torch.tensor(np.ones((2,10)), dtype=torch.float32)"
   ]
  },
  {
   "cell_type": "code",
   "execution_count": 13,
   "metadata": {},
   "outputs": [],
   "source": [
    "test=torch.tensor([[0.3073, 0.4409],\n",
    "        [0.0212, 0.6602]])"
   ]
  },
  {
   "cell_type": "code",
   "execution_count": 17,
   "metadata": {},
   "outputs": [
    {
     "data": {
      "text/plain": [
       "tensor([[0.3073, 0.4409],\n",
       "        [0.0000, 0.6602]])"
      ]
     },
     "execution_count": 17,
     "metadata": {},
     "output_type": "execute_result"
    }
   ],
   "source": [
    "torch.where(test>torch.tensor(0.3),test, torch.zeros_like(test))"
   ]
  },
  {
   "cell_type": "raw",
   "metadata": {},
   "source": [
    "test2=torch.reshape(test, (1,4))"
   ]
  },
  {
   "cell_type": "code",
   "execution_count": 83,
   "metadata": {},
   "outputs": [
    {
     "data": {
      "text/plain": [
       "tensor([[0.3073],\n",
       "        [0.4409],\n",
       "        [0.0212],\n",
       "        [0.6602]])"
      ]
     },
     "execution_count": 83,
     "metadata": {},
     "output_type": "execute_result"
    }
   ],
   "source": [
    "test2[0,:].reshape(-1,1)"
   ]
  },
  {
   "cell_type": "code",
   "execution_count": 47,
   "metadata": {},
   "outputs": [],
   "source": [
    "mask=torch.nonzero(test2[0,:])"
   ]
  },
  {
   "cell_type": "code",
   "execution_count": 39,
   "metadata": {},
   "outputs": [
    {
     "ename": "RuntimeError",
     "evalue": "shape '[1, 4]' is invalid for input of size 8",
     "output_type": "error",
     "traceback": [
      "\u001b[0;31m---------------------------------------------------------------------------\u001b[0m",
      "\u001b[0;31mRuntimeError\u001b[0m                              Traceback (most recent call last)",
      "\u001b[0;32m<ipython-input-39-d2039f70455e>\u001b[0m in \u001b[0;36m<module>\u001b[0;34m\u001b[0m\n\u001b[0;32m----> 1\u001b[0;31m \u001b[0mmask\u001b[0m\u001b[0;34m=\u001b[0m\u001b[0mtorch\u001b[0m\u001b[0;34m.\u001b[0m\u001b[0mreshape\u001b[0m\u001b[0;34m(\u001b[0m\u001b[0mtorch\u001b[0m\u001b[0;34m.\u001b[0m\u001b[0mnonzero\u001b[0m\u001b[0;34m(\u001b[0m\u001b[0mtest2\u001b[0m\u001b[0;34m)\u001b[0m\u001b[0;34m,\u001b[0m \u001b[0;34m(\u001b[0m\u001b[0;36m1\u001b[0m\u001b[0;34m,\u001b[0m\u001b[0;36m4\u001b[0m\u001b[0;34m)\u001b[0m\u001b[0;34m)\u001b[0m\u001b[0;34m\u001b[0m\u001b[0;34m\u001b[0m\u001b[0m\n\u001b[0m",
      "\u001b[0;31mRuntimeError\u001b[0m: shape '[1, 4]' is invalid for input of size 8"
     ]
    }
   ],
   "source": [
    "mask=torch.reshape(torch.nonzero(test2), (1,4))"
   ]
  },
  {
   "cell_type": "code",
   "execution_count": 48,
   "metadata": {},
   "outputs": [
    {
     "data": {
      "text/plain": [
       "tensor([[0],\n",
       "        [1],\n",
       "        [2],\n",
       "        [3]])"
      ]
     },
     "execution_count": 48,
     "metadata": {},
     "output_type": "execute_result"
    }
   ],
   "source": [
    "mask"
   ]
  },
  {
   "cell_type": "code",
   "execution_count": 54,
   "metadata": {},
   "outputs": [
    {
     "ename": "RuntimeError",
     "evalue": "index 1 is out of bounds for dim with size 1",
     "output_type": "error",
     "traceback": [
      "\u001b[0;31m---------------------------------------------------------------------------\u001b[0m",
      "\u001b[0;31mRuntimeError\u001b[0m                              Traceback (most recent call last)",
      "\u001b[0;32m<ipython-input-54-e2c1496ec290>\u001b[0m in \u001b[0;36m<module>\u001b[0;34m\u001b[0m\n\u001b[0;32m----> 1\u001b[0;31m \u001b[0mtest2\u001b[0m\u001b[0;34m[\u001b[0m\u001b[0mmask\u001b[0m\u001b[0;34m[\u001b[0m\u001b[0;36m1\u001b[0m\u001b[0;34m]\u001b[0m\u001b[0;34m]\u001b[0m\u001b[0;34m\u001b[0m\u001b[0;34m\u001b[0m\u001b[0m\n\u001b[0m",
      "\u001b[0;31mRuntimeError\u001b[0m: index 1 is out of bounds for dim with size 1"
     ]
    }
   ],
   "source": [
    "test2[mask[1]]"
   ]
  },
  {
   "cell_type": "code",
   "execution_count": 49,
   "metadata": {},
   "outputs": [
    {
     "data": {
      "text/plain": [
       "10"
      ]
     },
     "execution_count": 49,
     "metadata": {},
     "output_type": "execute_result"
    }
   ],
   "source": [
    "a.shape[1]"
   ]
  },
  {
   "cell_type": "code",
   "execution_count": null,
   "metadata": {},
   "outputs": [],
   "source": []
  }
 ],
 "metadata": {
  "kernelspec": {
   "display_name": "Python 3",
   "language": "python",
   "name": "python3"
  },
  "language_info": {
   "codemirror_mode": {
    "name": "ipython",
    "version": 3
   },
   "file_extension": ".py",
   "mimetype": "text/x-python",
   "name": "python",
   "nbconvert_exporter": "python",
   "pygments_lexer": "ipython3",
   "version": "3.6.8"
  }
 },
 "nbformat": 4,
 "nbformat_minor": 2
}
