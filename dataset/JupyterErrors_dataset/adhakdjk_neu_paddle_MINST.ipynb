{
 "cells": [
  {
   "cell_type": "code",
   "execution_count": null,
   "metadata": {
    "collapsed": false,
    "jupyter": {
     "outputs_hidden": false
    },
    "scrolled": true
   },
   "outputs": [],
   "source": [
    "# 查看当前挂载的数据集目录, 该目录下的变更重启环境后会自动还原\n",
    "# View dataset directory. \n",
    "# This directory will be recovered automatically after resetting environment. \n",
    "!ls /home/aistudio/data"
   ]
  },
  {
   "cell_type": "code",
   "execution_count": null,
   "metadata": {
    "collapsed": false,
    "jupyter": {
     "outputs_hidden": false
    },
    "scrolled": true
   },
   "outputs": [],
   "source": [
    "# 查看工作区文件, 该目录下的变更将会持久保存. 请及时清理不必要的文件, 避免加载过慢.\n",
    "# View personal work directory. \n",
    "# All changes under this directory will be kept even after reset. \n",
    "# Please clean unnecessary files in time to speed up environment loading. \n",
    "!ls /home/aistudio/work"
   ]
  },
  {
   "cell_type": "code",
   "execution_count": null,
   "metadata": {
    "collapsed": false,
    "jupyter": {
     "outputs_hidden": false
    },
    "scrolled": true
   },
   "outputs": [],
   "source": [
    "# 如果需要进行持久化安装, 需要使用持久化路径, 如下方代码示例:\n",
    "# If a persistence installation is required, \n",
    "# you need to use the persistence path as the following: \n",
    "!mkdir /home/aistudio/external-libraries\n",
    "!pip install beautifulsoup4 -t /home/aistudio/external-libraries"
   ]
  },
  {
   "cell_type": "code",
   "execution_count": null,
   "metadata": {
    "collapsed": false,
    "jupyter": {
     "outputs_hidden": false
    },
    "scrolled": true
   },
   "outputs": [],
   "source": [
    "# 同时添加如下代码, 这样每次环境(kernel)启动的时候只要运行下方代码即可: \n",
    "# Also add the following code, \n",
    "# so that every time the environment (kernel) starts, \n",
    "# just run the following code: \n",
    "import sys \n",
    "sys.path.append('/home/aistudio/external-libraries')"
   ]
  },
  {
   "cell_type": "code",
   "execution_count": 12,
   "metadata": {
    "execution": {
     "iopub.execute_input": "2022-05-07T02:43:41.503238Z",
     "iopub.status.busy": "2022-05-07T02:43:41.502923Z",
     "iopub.status.idle": "2022-05-07T02:43:41.528218Z",
     "shell.execute_reply": "2022-05-07T02:43:41.527563Z",
     "shell.execute_reply.started": "2022-05-07T02:43:41.503212Z"
    },
    "scrolled": true,
    "tags": []
   },
   "outputs": [
    {
     "ename": "ValueError",
     "evalue": "array is too big; `arr.size * arr.dtype.itemsize` is larger than the maximum possible size.",
     "output_type": "error",
     "traceback": [
      "\u001b[0;31m---------------------------------------------------------------------------\u001b[0m",
      "\u001b[0;31mValueError\u001b[0m                                Traceback (most recent call last)",
      "\u001b[0;32m/tmp/ipykernel_163/42432015.py\u001b[0m in \u001b[0;36m<module>\u001b[0;34m\u001b[0m\n\u001b[1;32m     66\u001b[0m \u001b[0;34m\u001b[0m\u001b[0m\n\u001b[1;32m     67\u001b[0m \u001b[0;32mif\u001b[0m \u001b[0m__name__\u001b[0m \u001b[0;34m==\u001b[0m \u001b[0;34m'__main__'\u001b[0m\u001b[0;34m:\u001b[0m\u001b[0;34m\u001b[0m\u001b[0;34m\u001b[0m\u001b[0m\n\u001b[0;32m---> 68\u001b[0;31m     \u001b[0mtrain_data\u001b[0m\u001b[0;34m,\u001b[0m\u001b[0mtrain_lab\u001b[0m\u001b[0;34m,\u001b[0m\u001b[0mtest_data\u001b[0m\u001b[0;34m,\u001b[0m\u001b[0mtest_lab\u001b[0m\u001b[0;34m=\u001b[0m\u001b[0mfetch_mnist\u001b[0m\u001b[0;34m(\u001b[0m\u001b[0;34m\"data/data65/\"\u001b[0m\u001b[0;34m,\u001b[0m\u001b[0;34m'all'\u001b[0m\u001b[0;34m)\u001b[0m\u001b[0;34m\u001b[0m\u001b[0;34m\u001b[0m\u001b[0m\n\u001b[0m\u001b[1;32m     69\u001b[0m     \u001b[0;31m# 1.读取MNIST数据集并存储为numpy矩阵\u001b[0m\u001b[0;34m\u001b[0m\u001b[0;34m\u001b[0m\u001b[0;34m\u001b[0m\u001b[0m\n\u001b[1;32m     70\u001b[0m     \u001b[0;31m# train_img_data = read_file(train_img)\u001b[0m\u001b[0;34m\u001b[0m\u001b[0;34m\u001b[0m\u001b[0;34m\u001b[0m\u001b[0m\n",
      "\u001b[0;32m/tmp/ipykernel_163/42432015.py\u001b[0m in \u001b[0;36mfetch_mnist\u001b[0;34m(mnist_dir, data_type)\u001b[0m\n\u001b[1;32m     21\u001b[0m         \u001b[0mdata\u001b[0m \u001b[0;34m=\u001b[0m \u001b[0mf\u001b[0m\u001b[0;34m.\u001b[0m\u001b[0mread\u001b[0m\u001b[0;34m(\u001b[0m\u001b[0;36m16\u001b[0m\u001b[0;34m)\u001b[0m\u001b[0;34m\u001b[0m\u001b[0;34m\u001b[0m\u001b[0m\n\u001b[1;32m     22\u001b[0m         \u001b[0mdes\u001b[0m\u001b[0;34m,\u001b[0m\u001b[0mimg_nums\u001b[0m\u001b[0;34m,\u001b[0m\u001b[0mrow\u001b[0m\u001b[0;34m,\u001b[0m\u001b[0mcol\u001b[0m \u001b[0;34m=\u001b[0m \u001b[0mstruct\u001b[0m\u001b[0;34m.\u001b[0m\u001b[0munpack_from\u001b[0m\u001b[0;34m(\u001b[0m\u001b[0;34m'>IIII'\u001b[0m\u001b[0;34m,\u001b[0m \u001b[0mdata\u001b[0m\u001b[0;34m,\u001b[0m \u001b[0;36m0\u001b[0m\u001b[0;34m)\u001b[0m\u001b[0;34m\u001b[0m\u001b[0;34m\u001b[0m\u001b[0m\n\u001b[0;32m---> 23\u001b[0;31m         \u001b[0mtrain_x\u001b[0m \u001b[0;34m=\u001b[0m \u001b[0mnp\u001b[0m\u001b[0;34m.\u001b[0m\u001b[0mzeros\u001b[0m\u001b[0;34m(\u001b[0m\u001b[0;34m(\u001b[0m\u001b[0mimg_nums\u001b[0m\u001b[0;34m,\u001b[0m \u001b[0mrow\u001b[0m\u001b[0;34m*\u001b[0m\u001b[0mcol\u001b[0m\u001b[0;34m)\u001b[0m\u001b[0;34m)\u001b[0m\u001b[0;34m\u001b[0m\u001b[0;34m\u001b[0m\u001b[0m\n\u001b[0m\u001b[1;32m     24\u001b[0m         \u001b[0;32mfor\u001b[0m \u001b[0mindex\u001b[0m \u001b[0;32min\u001b[0m \u001b[0mrange\u001b[0m\u001b[0;34m(\u001b[0m\u001b[0mimg_nums\u001b[0m\u001b[0;34m)\u001b[0m\u001b[0;34m:\u001b[0m\u001b[0;34m\u001b[0m\u001b[0;34m\u001b[0m\u001b[0m\n\u001b[1;32m     25\u001b[0m             \u001b[0mdata\u001b[0m \u001b[0;34m=\u001b[0m \u001b[0mf\u001b[0m\u001b[0;34m.\u001b[0m\u001b[0mread\u001b[0m\u001b[0;34m(\u001b[0m\u001b[0;36m784\u001b[0m\u001b[0;34m)\u001b[0m\u001b[0;34m\u001b[0m\u001b[0;34m\u001b[0m\u001b[0m\n",
      "\u001b[0;31mValueError\u001b[0m: array is too big; `arr.size * arr.dtype.itemsize` is larger than the maximum possible size."
     ]
    }
   ],
   "source": [
    "\n",
    "import numpy as np\n",
    "import struct\n",
    "import matplotlib.pyplot as plt\n",
    "import cv2\n",
    "from sklearn.metrics import classification_report\n",
    "from sklearn.svm import SVC\n",
    "\n",
    "import pandas as pd\n",
    "\n",
    "\n",
    "\n",
    "   \n",
    "def fetch_mnist(mnist_dir,data_type):\n",
    "    train_data_path = mnist_dir + 'train-images-idx3-ubyte.gz'\n",
    "    train_label_path = mnist_dir + 'train-labels-idx1-ubyte.gz'\n",
    "    test_data_path = mnist_dir + 't10k-images-idx3-ubyte.gz'\n",
    "    test_label_path = mnist_dir + 't10k-labels-idx1-ubyte.gz'\n",
    "\n",
    "    # train_img\n",
    "    with open(train_data_path, 'rb') as f:\n",
    "        data = f.read(16)\n",
    "        des,img_nums,row,col = struct.unpack_from('>IIII', data, 0)\n",
    "        train_x = np.zeros((img_nums, row*col))\n",
    "        for index in range(img_nums):\n",
    "            data = f.read(784)\n",
    "            if len(data) == 784:\n",
    "                train_x[index,:] = np.array(struct.unpack_from('>' + 'B' * (row * col), data, 0)).reshape(1,784)\n",
    "        f.close()\n",
    "    # train label\n",
    "    with open(train_label_path, 'rb') as f:\n",
    "        data = f.read(8)\n",
    "        des,label_nums = struct.unpack_from('>II', data, 0)\n",
    "        train_y = np.zeros((label_nums, 1))\n",
    "        for index in range(label_nums):\n",
    "            data = f.read(1)\n",
    "            train_y[index,:] = np.array(struct.unpack_from('>B', data, 0)).reshape(1,1)\n",
    "        f.close()\n",
    "\n",
    "        # test_img\n",
    "        with open(test_data_path, 'rb') as f:\n",
    "            data = f.read(16)\n",
    "            des, img_nums, row, col = struct.unpack_from('>IIII', data, 0)\n",
    "            test_x = np.zeros((img_nums, row * col))\n",
    "            for index in range(img_nums):\n",
    "                data = f.read(784)\n",
    "                if len(data) == 784:\n",
    "                    test_x[index, :] = np.array(struct.unpack_from('>' + 'B' * (row * col), data, 0)).reshape(1, 784)\n",
    "            f.close()\n",
    "        # test label\n",
    "        with open(test_label_path, 'rb') as f:\n",
    "            data = f.read(8)\n",
    "            des, label_nums = struct.unpack_from('>II', data, 0)\n",
    "            test_y = np.zeros((label_nums, 1))\n",
    "            for index in range(label_nums):\n",
    "                data = f.read(1)\n",
    "                test_y[index, :] = np.array(struct.unpack_from('>B', data, 0)).reshape(1, 1)\n",
    "            f.close()\n",
    "        if data_type == 'train':\n",
    "            return train_x, train_y\n",
    "        elif data_type == 'test':\n",
    "            return test_x, test_y\n",
    "        elif data_type == 'all':\n",
    "            return train_x, train_y,test_x, test_y\n",
    "        else:\n",
    "            print('type error')\n",
    "\n",
    "if __name__ == '__main__':\n",
    "    train_data,train_lab,test_data,test_lab=fetch_mnist(\"data/data65/\",'all')\n",
    "    # 1.读取MNIST数据集并存储为numpy矩阵\n",
    "    # train_img_data = read_file(train_img)\n",
    "    # train_lab_data = read_file(train_lab)\n",
    "    # test_img_data = read_file(test_img)\n",
    "    # test_lab_data = read_file(test_lab)\n",
    "    # train_data=process_img(train_img_data)\n",
    "    # train_lab=process_lab(train_lab_data)\n",
    "    # test_data=process_img(test_img_data[:1000])\n",
    "    # test_lab=process_lab(test_lab_data[:1000])\n",
    "    \n",
    "\n",
    "\n",
    "    clf=SVC().fit(train_data,pd.DataFrame(train_lab).values.ravel())\n",
    "    clf=SVC(kernel=\"linear\").fit(train_data,pd.DataFrame(train_lab).values.ravel())\n",
    "    predictions_labels=clf.predict(train_data)\n",
    "\n",
    "\n",
    "\n",
    "    print(u'预测结果:')\n",
    "    print(predictions_labels)\n",
    "    print(u'算法评价:')\n",
    "    print(classification_report(test_lab, predictions_labels))\n",
    "\n",
    "\n",
    "    # train_data=[]\n",
    "    # for i in train_img_data:\n",
    "    #     image = cv2.imdecode(np.fromfile(i, dtype=np.uint8), cv2.IMREAD_COLOR)\n",
    "    #     img = cv2.resize(image, (28, 28),\n",
    "    #                  interpolation=cv2.INTER_CUBIC)\n",
    "\n",
    "    #     hist=cv2.calcHist([img],[0,1],None,[28,28],[0.0,255.0,0.0,255.0])\n",
    "    #     train_data.append(((hist/255).flatten()))\n",
    "    \n",
    "    # test_data=[]\n",
    "    # for i in test_img_data:\n",
    "    #     image=cv2.imdecode(np.fromfile(i,dtype=np.uint8),cv2.IMREAD_COLOR)\n"
   ]
  },
  {
   "cell_type": "code",
   "execution_count": 1,
   "metadata": {
    "execution": {
     "iopub.execute_input": "2022-05-07T02:20:25.219193Z",
     "iopub.status.busy": "2022-05-07T02:20:25.218808Z",
     "iopub.status.idle": "2022-05-07T02:20:26.331883Z",
     "shell.execute_reply": "2022-05-07T02:20:26.331060Z",
     "shell.execute_reply.started": "2022-05-07T02:20:25.219166Z"
    },
    "scrolled": true,
    "tags": []
   },
   "outputs": [
    {
     "name": "stdout",
     "output_type": "stream",
     "text": [
      "魔数：529205256 图片数量：2055376946 图片高：226418 图片宽：1634299437\n"
     ]
    },
    {
     "ename": "ValueError",
     "evalue": "array is too big; `arr.size * arr.dtype.itemsize` is larger than the maximum possible size.",
     "output_type": "error",
     "traceback": [
      "\u001b[0;31m---------------------------------------------------------------------------\u001b[0m",
      "\u001b[0;31mValueError\u001b[0m                                Traceback (most recent call last)",
      "\u001b[0;32m/tmp/ipykernel_147/1107701971.py\u001b[0m in \u001b[0;36m<module>\u001b[0;34m\u001b[0m\n\u001b[1;32m     63\u001b[0m     \u001b[0mtest_img_data\u001b[0m \u001b[0;34m=\u001b[0m \u001b[0mread_file\u001b[0m\u001b[0;34m(\u001b[0m\u001b[0mtest_img\u001b[0m\u001b[0;34m)\u001b[0m\u001b[0;34m\u001b[0m\u001b[0;34m\u001b[0m\u001b[0m\n\u001b[1;32m     64\u001b[0m     \u001b[0mtest_lab_data\u001b[0m \u001b[0;34m=\u001b[0m \u001b[0mread_file\u001b[0m\u001b[0;34m(\u001b[0m\u001b[0mtest_lab\u001b[0m\u001b[0;34m)\u001b[0m\u001b[0;34m\u001b[0m\u001b[0;34m\u001b[0m\u001b[0m\n\u001b[0;32m---> 65\u001b[0;31m     \u001b[0mtrain_data\u001b[0m\u001b[0;34m=\u001b[0m\u001b[0mprocess_img\u001b[0m\u001b[0;34m(\u001b[0m\u001b[0mtrain_img_data\u001b[0m\u001b[0;34m)\u001b[0m\u001b[0;34m\u001b[0m\u001b[0;34m\u001b[0m\u001b[0m\n\u001b[0m\u001b[1;32m     66\u001b[0m     \u001b[0mtrain_lab\u001b[0m\u001b[0;34m=\u001b[0m\u001b[0mprocess_lab\u001b[0m\u001b[0;34m(\u001b[0m\u001b[0mtrain_lab_data\u001b[0m\u001b[0;34m)\u001b[0m\u001b[0;34m\u001b[0m\u001b[0;34m\u001b[0m\u001b[0m\n\u001b[1;32m     67\u001b[0m     \u001b[0mtest_data\u001b[0m\u001b[0;34m=\u001b[0m\u001b[0mprocess_img\u001b[0m\u001b[0;34m(\u001b[0m\u001b[0mtest_img_data\u001b[0m\u001b[0;34m[\u001b[0m\u001b[0;34m:\u001b[0m\u001b[0;36m1000\u001b[0m\u001b[0;34m]\u001b[0m\u001b[0;34m)\u001b[0m\u001b[0;34m\u001b[0m\u001b[0;34m\u001b[0m\u001b[0m\n",
      "\u001b[0;32m/tmp/ipykernel_147/1107701971.py\u001b[0m in \u001b[0;36mprocess_img\u001b[0;34m(img_data)\u001b[0m\n\u001b[1;32m     27\u001b[0m     \u001b[0mpro_way\u001b[0m \u001b[0;34m=\u001b[0m \u001b[0;34m'>'\u001b[0m \u001b[0;34m+\u001b[0m \u001b[0mstr\u001b[0m\u001b[0;34m(\u001b[0m\u001b[0mimg_size\u001b[0m\u001b[0;34m)\u001b[0m \u001b[0;34m+\u001b[0m \u001b[0;34m'B'\u001b[0m  \u001b[0;31m#像素值格式为B，要读取784（图片大小）个像素值\u001b[0m\u001b[0;34m\u001b[0m\u001b[0;34m\u001b[0m\u001b[0m\n\u001b[1;32m     28\u001b[0m     \u001b[0mpointer\u001b[0m \u001b[0;34m+=\u001b[0m \u001b[0mstruct\u001b[0m\u001b[0;34m.\u001b[0m\u001b[0mcalcsize\u001b[0m\u001b[0;34m(\u001b[0m\u001b[0mheader\u001b[0m\u001b[0;34m)\u001b[0m  \u001b[0;31m#移动读取位置的指针\u001b[0m\u001b[0;34m\u001b[0m\u001b[0;34m\u001b[0m\u001b[0m\n\u001b[0;32m---> 29\u001b[0;31m     \u001b[0mimgs\u001b[0m \u001b[0;34m=\u001b[0m \u001b[0mnp\u001b[0m\u001b[0;34m.\u001b[0m\u001b[0mempty\u001b[0m\u001b[0;34m(\u001b[0m\u001b[0;34m(\u001b[0m\u001b[0mimages_num\u001b[0m\u001b[0;34m,\u001b[0m \u001b[0mheight\u001b[0m\u001b[0;34m,\u001b[0m \u001b[0mwidth\u001b[0m\u001b[0;34m)\u001b[0m\u001b[0;34m)\u001b[0m\u001b[0;34m\u001b[0m\u001b[0;34m\u001b[0m\u001b[0m\n\u001b[0m\u001b[1;32m     30\u001b[0m     \u001b[0;32mfor\u001b[0m \u001b[0mi\u001b[0m \u001b[0;32min\u001b[0m \u001b[0mrange\u001b[0m\u001b[0;34m(\u001b[0m\u001b[0mimages_num\u001b[0m\u001b[0;34m)\u001b[0m\u001b[0;34m:\u001b[0m\u001b[0;34m\u001b[0m\u001b[0;34m\u001b[0m\u001b[0m\n\u001b[1;32m     31\u001b[0m         \u001b[0;32mif\u001b[0m \u001b[0;34m(\u001b[0m\u001b[0mi\u001b[0m\u001b[0;34m+\u001b[0m\u001b[0;36m1\u001b[0m\u001b[0;34m)\u001b[0m \u001b[0;34m%\u001b[0m \u001b[0;36m10000\u001b[0m \u001b[0;34m==\u001b[0m \u001b[0;36m0\u001b[0m\u001b[0;34m:\u001b[0m\u001b[0;34m\u001b[0m\u001b[0;34m\u001b[0m\u001b[0m\n",
      "\u001b[0;31mValueError\u001b[0m: array is too big; `arr.size * arr.dtype.itemsize` is larger than the maximum possible size."
     ]
    }
   ],
   "source": [
    "import numpy as np\n",
    "import struct\n",
    "import matplotlib.pyplot as plt\n",
    "import cv2\n",
    "from sklearn.metrics import classification_report\n",
    "from sklearn.svm import SVC\n",
    "train_img = 'data/data65/train-images-idx3-ubyte.gz' #训练集图像\n",
    "train_lab = 'data/data65/train-labels-idx1-ubyte.gz' #训练集标签\n",
    "test_img = 'data/data65/t10k-images-idx3-ubyte.gz'   #测试集图像\n",
    "test_lab = 'data/data65/t10k-labels-idx1-ubyte.gz'   #测试集标签\n",
    "\n",
    "def read_file(idx_ubyte_file):\n",
    "    with open(idx_ubyte_file, 'rb') as idxf:\n",
    "        f = idxf.read()\n",
    "    return f\n",
    "    \n",
    "def process_img(img_data):\n",
    "    \n",
    "    #解析文件头信息，魔数、图片数量、图片高、宽\n",
    "    pointer = 0\n",
    "    header = '>iiii'   #采用i格式读取前4行数据\n",
    "    magic_num, images_num, height, width = struct.unpack_from(header, img_data, pointer)\n",
    "    print(\"魔数：{} 图片数量：{} 图片高：{} 图片宽：{}\".format(magic_num, images_num, height, width))\n",
    "    \n",
    "    #解析数据集\n",
    "    img_size = height * width\n",
    "    pro_way = '>' + str(img_size) + 'B'  #像素值格式为B，要读取784（图片大小）个像素值\n",
    "    pointer += struct.calcsize(header)  #移动读取位置的指针\n",
    "    imgs = np.empty((images_num, height, width))\n",
    "    for i in range(images_num):\n",
    "        if (i+1) % 10000 == 0:\n",
    "            print(\"解析数量{}张\".format(i+1))\n",
    "        img_t = struct.unpack_from(pro_way, img_data, pointer)  #python自带的struct.unpack_from函数打开\n",
    "        imgs[i] = np.array(img_t).reshape(height, width)\n",
    "        pointer += struct.calcsize(pro_way)\n",
    "    return imgs\n",
    "        \n",
    "def process_lab(lab_data):\n",
    "    \n",
    "    #解析文件头信息，魔数、标签数\n",
    "    pointer = 0\n",
    "    header = '>ii'\n",
    "    magic_num, images_num = struct.unpack_from(header, lab_data, pointer)\n",
    "    print(\"魔数：{} 图片数量：{}\".format(magic_num, images_num))\n",
    "    \n",
    "    #解析数据集\n",
    "    pro_way = '>B'\n",
    "    pointer += struct.calcsize(header)\n",
    "    labs = np.empty(images_num)\n",
    "    for i in range(images_num):\n",
    "        if (i+1) % 10000 == 0:\n",
    "            print(\"解析数量{}张\".format(i+1))\n",
    "        img_t = struct.unpack_from(pro_way, lab_data, pointer)[0]\n",
    "        labs[i] = img_t\n",
    "        pointer += struct.calcsize(pro_way)\n",
    "    return labs\n",
    "\n",
    "if __name__ == '__main__':\n",
    "    \n",
    "    # 1.读取MNIST数据集并存储为numpy矩阵\n",
    "    train_img_data = read_file(train_img)\n",
    "    train_lab_data = read_file(train_lab)\n",
    "    test_img_data = read_file(test_img)\n",
    "    test_lab_data = read_file(test_lab)\n",
    "    train_data=process_img(train_img_data)\n",
    "    train_lab=process_lab(train_lab_data)\n",
    "    test_data=process_img(test_img_data[:1000])\n",
    "    test_lab=process_lab(test_lab_data[:1000])\n",
    "    \n",
    "\n",
    "\n",
    "    clf=SVC().fit(train_data,train_lab)\n",
    "    clf=SVC(kernel=\"linear\").fit(train_data,train_lab)\n",
    "    predictions_labels=clf.predict(train_data)\n",
    "\n",
    "\n",
    "\n",
    "    print(u'预测结果:')\n",
    "    print(predictions_labels)\n",
    "    print(u'算法评价:')\n",
    "    print(classification_report(test_lab, predictions_labels))"
   ]
  },
  {
   "cell_type": "markdown",
   "metadata": {},
   "source": [
    "请点击[此处](https://ai.baidu.com/docs#/AIStudio_Project_Notebook/a38e5576)查看本环境基本用法.  <br>\n",
    "Please click [here ](https://ai.baidu.com/docs#/AIStudio_Project_Notebook/a38e5576) for more detailed instructions. "
   ]
  }
 ],
 "metadata": {
  "kernelspec": {
   "display_name": "Python 3.8.8 ('base')",
   "language": "python",
   "name": "python3"
  },
  "language_info": {
   "codemirror_mode": {
    "name": "ipython",
    "version": 3
   },
   "file_extension": ".py",
   "mimetype": "text/x-python",
   "name": "python",
   "nbconvert_exporter": "python",
   "pygments_lexer": "ipython3",
   "version": "3.8.8"
  },
  "vscode": {
   "interpreter": {
    "hash": "cffdb135bfca6e4a47037eb880605a7800674b0a8ee5d1d049ded49b6c5e4e68"
   }
  }
 },
 "nbformat": 4,
 "nbformat_minor": 4
}
