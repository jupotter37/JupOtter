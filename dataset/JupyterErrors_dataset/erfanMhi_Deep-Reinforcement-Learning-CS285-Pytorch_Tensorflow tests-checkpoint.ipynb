{
 "cells": [
  {
   "cell_type": "code",
   "execution_count": 1,
   "metadata": {},
   "outputs": [],
   "source": [
    "import tensorflow as tf\n",
    "\n",
    "def build_mlp(input_placeholder, output_size, scope, n_layers, size, activation=tf.tanh, output_activation=None):\n",
    "    \n",
    "    # TODO: GETTHIS from HW1\n",
    "    \"\"\"\n",
    "        Builds a feedforward neural network\n",
    "\n",
    "        arguments:\n",
    "            input_placeholder: placeholder variable for the state (batch_size, input_size)\n",
    "            scope: variable scope of the network\n",
    "\n",
    "            n_layers: number of hidden layers\n",
    "            size: dimension of each hidden layer\n",
    "            activation: activation of each hidden layer\n",
    "\n",
    "            output_size: size of the output layer\n",
    "            output_activation: activation of the output layer\n",
    "\n",
    "        returns: \n",
    "            output_placeholder: the result of a forward pass through the hidden layers + the output layer\n",
    "    \"\"\"\n",
    "    output_placeholder = input_placeholder\n",
    "    with tf.variable_scope(scope):\n",
    "        for _ in range(n_layers):\n",
    "            layer1 = tf.layers.dense(output_placeholder, size, activation=activation) # HINT: use tf.layers.dense (specify <input>, <size>, activation=<?>)\n",
    "            layer2 = tf.layers.dense(layer1, size, activation=activation) # HINT: use tf.layers.dense (specify <input>, <size>, activation=<?>)\n",
    "\n",
    "        output_placeholder = tf.layers.dense(output_placeholder, output_size, activation=output_activation) # HINT: use tf.layers.dense (specify <input>, <size>, activation=<?>)\n",
    "    return output_placeholder\n",
    "\n",
    "def create_tf_session(use_gpu, gpu_frac=0.6, allow_gpu_growth=True, which_gpu=0):\n",
    "    if use_gpu:\n",
    "        # gpu options\n",
    "        gpu_options = tf.GPUOptions(\n",
    "            per_process_gpu_memory_fraction=gpu_frac,\n",
    "            allow_growth=allow_gpu_growth)\n",
    "        # TF config\n",
    "        config = tf.ConfigProto(\n",
    "            gpu_options=gpu_options,\n",
    "            log_device_placement=False,\n",
    "            allow_soft_placement=True,\n",
    "            inter_op_parallelism_threads=1,\n",
    "            intra_op_parallelism_threads=1)\n",
    "        # set env variable to specify which gpu to use\n",
    "        os.environ[\"CUDA_VISIBLE_DEVICES\"] = str(which_gpu)\n",
    "    else:\n",
    "        # TF config without gpu\n",
    "        config = tf.ConfigProto(device_count={'GPU': 0})\n",
    "\n",
    "    # use config to create TF session\n",
    "    sess = tf.Session(config=config)\n",
    "    return sess"
   ]
  },
  {
   "cell_type": "code",
   "execution_count": 2,
   "metadata": {},
   "outputs": [],
   "source": [
    "ac_dim = 4\n",
    "obs_dim = 10\n",
    "n_layers = 2\n",
    "size = 64\n",
    "learning_rate = 5e-3"
   ]
  },
  {
   "cell_type": "code",
   "execution_count": 3,
   "metadata": {},
   "outputs": [],
   "source": [
    "sess = create_tf_session(False)\n",
    "\n",
    "observations_pl = tf.placeholder(shape=[None, obs_dim], name=\"ob\", dtype=tf.float32)\n",
    "\n",
    "with tf.variable_scope('policy_scope', reuse=tf.AUTO_REUSE):\n",
    "    mlp = build_mlp(observations_pl, output_size=ac_dim, scope='discrete_logits', n_layers=n_layers, size=size)"
   ]
  },
  {
   "cell_type": "code",
   "execution_count": 8,
   "metadata": {},
   "outputs": [],
   "source": [
    "sess.run(tf.global_variables_initializer())"
   ]
  },
  {
   "cell_type": "code",
   "execution_count": 12,
   "metadata": {},
   "outputs": [
    {
     "ename": "TypeError",
     "evalue": "Print() missing 1 required positional argument: 'data'",
     "output_type": "error",
     "traceback": [
      "\u001b[0;31m---------------------------------------------------------------------------\u001b[0m",
      "\u001b[0;31mTypeError\u001b[0m                                 Traceback (most recent call last)",
      "\u001b[0;32m<ipython-input-12-cd14de7e1516>\u001b[0m in \u001b[0;36m<module>\u001b[0;34m()\u001b[0m\n\u001b[0;32m----> 1\u001b[0;31m \u001b[0msess\u001b[0m\u001b[0;34m.\u001b[0m\u001b[0mrun\u001b[0m\u001b[0;34m(\u001b[0m\u001b[0mtf\u001b[0m\u001b[0;34m.\u001b[0m\u001b[0mPrint\u001b[0m\u001b[0;34m(\u001b[0m\u001b[0mtf\u001b[0m\u001b[0;34m.\u001b[0m\u001b[0mglobal_variables\u001b[0m\u001b[0;34m(\u001b[0m\u001b[0;34m)\u001b[0m\u001b[0;34m[\u001b[0m\u001b[0;36m0\u001b[0m\u001b[0;34m]\u001b[0m\u001b[0;34m)\u001b[0m\u001b[0;34m)\u001b[0m\u001b[0;34m\u001b[0m\u001b[0m\n\u001b[0m",
      "\u001b[0;32m~/anaconda3/envs/cs285_env/lib/python3.5/site-packages/tensorflow/python/util/deprecation.py\u001b[0m in \u001b[0;36mnew_func\u001b[0;34m(*args, **kwargs)\u001b[0m\n\u001b[1;32m    304\u001b[0m               \u001b[0;34m'in a future version'\u001b[0m \u001b[0;32mif\u001b[0m \u001b[0mdate\u001b[0m \u001b[0;32mis\u001b[0m \u001b[0;32mNone\u001b[0m \u001b[0;32melse\u001b[0m \u001b[0;34m(\u001b[0m\u001b[0;34m'after %s'\u001b[0m \u001b[0;34m%\u001b[0m \u001b[0mdate\u001b[0m\u001b[0;34m)\u001b[0m\u001b[0;34m,\u001b[0m\u001b[0;34m\u001b[0m\u001b[0m\n\u001b[1;32m    305\u001b[0m               instructions)\n\u001b[0;32m--> 306\u001b[0;31m       \u001b[0;32mreturn\u001b[0m \u001b[0mfunc\u001b[0m\u001b[0;34m(\u001b[0m\u001b[0;34m*\u001b[0m\u001b[0margs\u001b[0m\u001b[0;34m,\u001b[0m \u001b[0;34m**\u001b[0m\u001b[0mkwargs\u001b[0m\u001b[0;34m)\u001b[0m\u001b[0;34m\u001b[0m\u001b[0m\n\u001b[0m\u001b[1;32m    307\u001b[0m     return tf_decorator.make_decorator(\n\u001b[1;32m    308\u001b[0m         \u001b[0mfunc\u001b[0m\u001b[0;34m,\u001b[0m \u001b[0mnew_func\u001b[0m\u001b[0;34m,\u001b[0m \u001b[0;34m'deprecated'\u001b[0m\u001b[0;34m,\u001b[0m\u001b[0;34m\u001b[0m\u001b[0m\n",
      "\u001b[0;31mTypeError\u001b[0m: Print() missing 1 required positional argument: 'data'"
     ]
    }
   ],
   "source": [
    "tf.Print(tf.global_variables()[0])"
   ]
  },
  {
   "cell_type": "code",
   "execution_count": null,
   "metadata": {},
   "outputs": [],
   "source": [
    "self.policy_vars = [v for v in tf.all_variables() if policy_scope in v.name and 'train' not in v.name]"
   ]
  }
 ],
 "metadata": {
  "kernelspec": {
   "display_name": "Python 3",
   "language": "python",
   "name": "python3"
  },
  "language_info": {
   "codemirror_mode": {
    "name": "ipython",
    "version": 3
   },
   "file_extension": ".py",
   "mimetype": "text/x-python",
   "name": "python",
   "nbconvert_exporter": "python",
   "pygments_lexer": "ipython3",
   "version": "3.5.6"
  }
 },
 "nbformat": 4,
 "nbformat_minor": 4
}
