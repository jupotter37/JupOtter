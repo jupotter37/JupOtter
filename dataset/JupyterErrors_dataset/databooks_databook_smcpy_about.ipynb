{
 "cells": [
  {
   "cell_type": "markdown",
   "metadata": {},
   "source": [
    "# About iClient for Python\n",
    "- Home page, http://iclientpy.supermap.io\n",
    "- Docker, https://github.com/SuperMap/DockerImages\n",
    "- Install\n",
    "  - conda install -y -c http://iclientpy.supermap.io/conda/channel iclientpy"
   ]
  },
  {
   "cell_type": "code",
   "execution_count": 4,
   "metadata": {},
   "outputs": [],
   "source": [
    "import iclientpy as smc\n",
    "# Problem: yaml.load() without Loader= \n",
    "# https://github.com/yaml/pyyaml/wiki/PyYAML-yaml.load(input)-Deprecation\n",
    "# "
   ]
  },
  {
   "cell_type": "code",
   "execution_count": 5,
   "metadata": {},
   "outputs": [
    {
     "name": "stdout",
     "output_type": "stream",
     "text": [
      "Help on package iclientpy:\n",
      "\n",
      "NAME\n",
      "    iclientpy\n",
      "\n",
      "PACKAGE CONTENTS\n",
      "    _version\n",
      "    dtojson (package)\n",
      "    jupyter (package)\n",
      "    rest (package)\n",
      "\n",
      "SUBMODULES\n",
      "    basesetting\n",
      "    cloudtilelayer\n",
      "    heatlayer\n",
      "    mapview\n",
      "    mapvlayer\n",
      "    ranksymbolthemelayer\n",
      "    tilemaplayer\n",
      "    units\n",
      "    widgets\n",
      "\n",
      "DATA\n",
      "    EXTENSION_VERSION = '~0.10.1'\n",
      "    allowed_crs = ['Earth', 'EPSG3395', 'EPSG3857', 'EPSG4326', 'Base', 'S...\n",
      "    basemaps = {'OpenStreetMap': {'Mapnik': {'url': 'https://{s...men.Wate...\n",
      "    def_loc = [0.0, 0.0]\n",
      "    linear = <branca.colormap._LinearColormaps object>\n",
      "    version_info = (0, 10, 1, 'final', 0)\n",
      "    widget_serialization = {'from_json': <function _json_to_widget>, 'to_j...\n",
      "\n",
      "VERSION\n",
      "    9.0.0\n",
      "\n",
      "FILE\n",
      "    /opt/conda/lib/python3.6/site-packages/iclientpy/__init__.py\n",
      "\n",
      "\n"
     ]
    }
   ],
   "source": [
    "help(smc)"
   ]
  },
  {
   "cell_type": "code",
   "execution_count": 7,
   "metadata": {},
   "outputs": [
    {
     "name": "stdout",
     "output_type": "stream",
     "text": [
      "Help on package iclientpy.jupyter.widgets in iclientpy.jupyter:\n",
      "\n",
      "NAME\n",
      "    iclientpy.jupyter.widgets\n",
      "\n",
      "PACKAGE CONTENTS\n",
      "    basesetting\n",
      "    cloudtilelayer\n",
      "    heatlayer\n",
      "    mapview\n",
      "    mapvlayer\n",
      "    ranksymbolthemelayer\n",
      "    tilemaplayer\n",
      "\n",
      "DATA\n",
      "    EXTENSION_VERSION = '^9.0.0'\n",
      "\n",
      "FILE\n",
      "    /opt/conda/lib/python3.6/site-packages/iclientpy/jupyter/widgets/__init__.py\n",
      "\n",
      "\n"
     ]
    }
   ],
   "source": [
    "help(smc.widgets)"
   ]
  },
  {
   "cell_type": "code",
   "execution_count": 8,
   "metadata": {},
   "outputs": [
    {
     "name": "stdout",
     "output_type": "stream",
     "text": [
      "Help on package iclientpy.jupyter in iclientpy:\n",
      "\n",
      "NAME\n",
      "    iclientpy.jupyter\n",
      "\n",
      "PACKAGE CONTENTS\n",
      "    units\n",
      "    widgets (package)\n",
      "\n",
      "SUBMODULES\n",
      "    basesetting\n",
      "    cloudtilelayer\n",
      "    heatlayer\n",
      "    mapview\n",
      "    mapvlayer\n",
      "    ranksymbolthemelayer\n",
      "    tilemaplayer\n",
      "\n",
      "DATA\n",
      "    EXTENSION_VERSION = '^9.0.0'\n",
      "\n",
      "FILE\n",
      "    /opt/conda/lib/python3.6/site-packages/iclientpy/jupyter/__init__.py\n",
      "\n",
      "\n"
     ]
    }
   ],
   "source": [
    "help(smc.jupyter)"
   ]
  },
  {
   "cell_type": "code",
   "execution_count": 10,
   "metadata": {},
   "outputs": [
    {
     "ename": "AttributeError",
     "evalue": "module 'iclientpy' has no attribute 'rest'",
     "output_type": "error",
     "traceback": [
      "\u001b[0;31m---------------------------------------------------------------------------\u001b[0m",
      "\u001b[0;31mAttributeError\u001b[0m                            Traceback (most recent call last)",
      "\u001b[0;32m<ipython-input-10-75a2246417c0>\u001b[0m in \u001b[0;36m<module>\u001b[0;34m\u001b[0m\n\u001b[0;32m----> 1\u001b[0;31m \u001b[0mhelp\u001b[0m\u001b[0;34m(\u001b[0m\u001b[0msmc\u001b[0m\u001b[0;34m.\u001b[0m\u001b[0mrest\u001b[0m\u001b[0;34m)\u001b[0m\u001b[0;34m\u001b[0m\u001b[0;34m\u001b[0m\u001b[0m\n\u001b[0m",
      "\u001b[0;31mAttributeError\u001b[0m: module 'iclientpy' has no attribute 'rest'"
     ]
    }
   ],
   "source": [
    "help(smc.rest)"
   ]
  },
  {
   "cell_type": "code",
   "execution_count": 14,
   "metadata": {},
   "outputs": [
    {
     "ename": "ModuleNotFoundError",
     "evalue": "No module named 'iclientpy.server'",
     "output_type": "error",
     "traceback": [
      "\u001b[0;31m---------------------------------------------------------------------------\u001b[0m",
      "\u001b[0;31mModuleNotFoundError\u001b[0m                       Traceback (most recent call last)",
      "\u001b[0;32m<ipython-input-14-6aeef71ddf1c>\u001b[0m in \u001b[0;36m<module>\u001b[0;34m\u001b[0m\n\u001b[0;32m----> 1\u001b[0;31m \u001b[0;32mfrom\u001b[0m \u001b[0miclientpy\u001b[0m\u001b[0;34m.\u001b[0m\u001b[0mserver\u001b[0m \u001b[0;32mimport\u001b[0m \u001b[0mServer\u001b[0m\u001b[0;34m\u001b[0m\u001b[0;34m\u001b[0m\u001b[0m\n\u001b[0m\u001b[1;32m      2\u001b[0m \u001b[0;34m\u001b[0m\u001b[0m\n\u001b[1;32m      3\u001b[0m \u001b[0mserver\u001b[0m\u001b[0;34m=\u001b[0m\u001b[0mServer\u001b[0m\u001b[0;34m(\u001b[0m\u001b[0;34m'http://support.supermap.com.cn:8090/iserver'\u001b[0m\u001b[0;34m)\u001b[0m\u001b[0;34m\u001b[0m\u001b[0;34m\u001b[0m\u001b[0m\n",
      "\u001b[0;31mModuleNotFoundError\u001b[0m: No module named 'iclientpy.server'"
     ]
    }
   ],
   "source": [
    "from iclientpy.server import Server\n",
    "\n",
    "server=Server('http://support.supermap.com.cn:8090/iserver')"
   ]
  }
 ],
 "metadata": {
  "kernelspec": {
   "display_name": "Python 3",
   "language": "python",
   "name": "python3"
  },
  "language_info": {
   "codemirror_mode": {
    "name": "ipython",
    "version": 3
   },
   "file_extension": ".py",
   "mimetype": "text/x-python",
   "name": "python",
   "nbconvert_exporter": "python",
   "pygments_lexer": "ipython3",
   "version": "3.6.7"
  }
 },
 "nbformat": 4,
 "nbformat_minor": 2
}
