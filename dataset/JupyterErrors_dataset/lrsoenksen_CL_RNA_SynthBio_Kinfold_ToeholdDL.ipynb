{
 "cells": [
  {
   "cell_type": "code",
   "execution_count": 1,
   "metadata": {},
   "outputs": [
    {
     "name": "stderr",
     "output_type": "stream",
     "text": [
      "Using TensorFlow backend.\n"
     ]
    }
   ],
   "source": [
    "## Import Libraries\n",
    "# General system libraries\n",
    "import os\n",
    "import numpy as np\n",
    "import pandas \n",
    "from time import time\n",
    "from IPython.display import Image\n",
    "\n",
    "# Multiprocessing\n",
    "import multiprocessing\n",
    "\n",
    "# DNA/RNA Analysis Libraries (Biopython, ViennaRNA, pysster)\n",
    "# Biopython Lib\n",
    "import Bio\n",
    "from Bio import SeqIO\n",
    "from Bio.Seq import Seq\n",
    "from Bio.SeqRecord import SeqRecord\n",
    "from Bio.Alphabet import Alphabet, DNAAlphabet, ProteinAlphabet\n",
    "from Bio.Alphabet import generic_rna, generic_dna, generic_protein, IUPAC\n",
    "# ViennaRNA Lib\n",
    "import RNA\n",
    "# pysster Lib\n",
    "from pysster import utils\n",
    "from pysster.Data import Data\n",
    "from pysster.Grid_Search import Grid_Search\n",
    "from pysster.One_Hot_Encoder import One_Hot_Encoder\n",
    "from pysster.Alphabet_Encoder import Alphabet_Encoder\n",
    "\n",
    "# Import TPOT libs\n",
    "#from tpot import TPOTRegressor\n",
    "\n",
    "# Import sklearn libs\n",
    "from sklearn import preprocessing\n",
    "from sklearn.preprocessing import OneHotEncoder\n",
    "from sklearn.model_selection import train_test_split\n",
    "from sklearn.metrics import explained_variance_score, mean_absolute_error\n",
    "from sklearn.metrics import mean_squared_error, mean_squared_log_error\n",
    "from sklearn.metrics import median_absolute_error, r2_score\n",
    "\n",
    "# Math & Visualization Libs\n",
    "import seaborn as sns\n",
    "import matplotlib.pyplot as plt\n",
    "from scipy import stats\n",
    "\n",
    "# Progress Bar\n",
    "from tqdm import tqdm\n",
    "\n",
    "# Warnings\n",
    "import warnings\n",
    "\n",
    "import subprocess\n"
   ]
  },
  {
   "cell_type": "code",
   "execution_count": 2,
   "metadata": {},
   "outputs": [
    {
     "ename": "FileNotFoundError",
     "evalue": "File b'toeholddatasetprocPEARFinalQC_2019Mar1_SalisRBS.csv' does not exist",
     "output_type": "error",
     "traceback": [
      "\u001b[0;31m---------------------------------------------------------------------------\u001b[0m",
      "\u001b[0;31mFileNotFoundError\u001b[0m                         Traceback (most recent call last)",
      "\u001b[0;32m<ipython-input-2-28ddf65150cc>\u001b[0m in \u001b[0;36m<module>\u001b[0;34m()\u001b[0m\n\u001b[0;32m----> 1\u001b[0;31m \u001b[0mdf\u001b[0m \u001b[0;34m=\u001b[0m \u001b[0mpandas\u001b[0m\u001b[0;34m.\u001b[0m\u001b[0mDataFrame\u001b[0m\u001b[0;34m(\u001b[0m\u001b[0mpandas\u001b[0m\u001b[0;34m.\u001b[0m\u001b[0mread_csv\u001b[0m\u001b[0;34m(\u001b[0m\u001b[0;34m\"toeholddatasetprocPEARFinalQC_2019Mar1_SalisRBS.csv\"\u001b[0m\u001b[0;34m)\u001b[0m\u001b[0;34m)\u001b[0m\u001b[0;34m\u001b[0m\u001b[0m\n\u001b[0m\u001b[1;32m      2\u001b[0m \u001b[0mdf\u001b[0m\u001b[0;34m.\u001b[0m\u001b[0mloc\u001b[0m\u001b[0;34m[\u001b[0m\u001b[0;34m:\u001b[0m\u001b[0;34m,\u001b[0m\u001b[0;34m\"loop1\"\u001b[0m\u001b[0;34m]\u001b[0m \u001b[0;34m=\u001b[0m \u001b[0;34m\"AACCAAACACACAAACGCAC\"\u001b[0m\u001b[0;34m\u001b[0m\u001b[0m\n\u001b[1;32m      3\u001b[0m \u001b[0mx\u001b[0m \u001b[0;34m=\u001b[0m \u001b[0mdf\u001b[0m\u001b[0;34m.\u001b[0m\u001b[0mloc\u001b[0m\u001b[0;34m[\u001b[0m\u001b[0;34m:\u001b[0m\u001b[0;34m,\u001b[0m\u001b[0;34m\"trigger\"\u001b[0m\u001b[0;34m:\u001b[0m\u001b[0;34m\"post_linker\"\u001b[0m\u001b[0;34m]\u001b[0m\u001b[0;34m\u001b[0m\u001b[0m\n\u001b[1;32m      4\u001b[0m \u001b[0my\u001b[0m \u001b[0;34m=\u001b[0m \u001b[0mpandas\u001b[0m\u001b[0;34m.\u001b[0m\u001b[0mDataFrame\u001b[0m\u001b[0;34m(\u001b[0m\u001b[0;34m\"G\"\u001b[0m \u001b[0;34m+\u001b[0m \u001b[0mx\u001b[0m\u001b[0;34m.\u001b[0m\u001b[0mloc\u001b[0m\u001b[0;34m[\u001b[0m\u001b[0;34m:\u001b[0m\u001b[0;34m,\u001b[0m\u001b[0;34m\"trigger\"\u001b[0m\u001b[0;34m]\u001b[0m\u001b[0;34m+\u001b[0m\u001b[0mx\u001b[0m\u001b[0;34m.\u001b[0m\u001b[0mloc\u001b[0m\u001b[0;34m[\u001b[0m\u001b[0;34m:\u001b[0m\u001b[0;34m,\u001b[0m\u001b[0;34m\"loop1\"\u001b[0m\u001b[0;34m]\u001b[0m\u001b[0;34m+\u001b[0m\u001b[0mx\u001b[0m\u001b[0;34m.\u001b[0m\u001b[0mloc\u001b[0m\u001b[0;34m[\u001b[0m\u001b[0;34m:\u001b[0m\u001b[0;34m,\u001b[0m\u001b[0;34m\"switch1\"\u001b[0m\u001b[0;34m]\u001b[0m\u001b[0;34m+\u001b[0m\u001b[0mx\u001b[0m\u001b[0;34m.\u001b[0m\u001b[0mloc\u001b[0m\u001b[0;34m[\u001b[0m\u001b[0;34m:\u001b[0m\u001b[0;34m,\u001b[0m\u001b[0;34m\"loop2\"\u001b[0m\u001b[0;34m]\u001b[0m\u001b[0;34m+\u001b[0m\u001b[0mx\u001b[0m\u001b[0;34m.\u001b[0m\u001b[0mloc\u001b[0m\u001b[0;34m[\u001b[0m\u001b[0;34m:\u001b[0m\u001b[0;34m,\u001b[0m\u001b[0;34m\"stem1\"\u001b[0m\u001b[0;34m]\u001b[0m\u001b[0;34m+\u001b[0m\u001b[0mx\u001b[0m\u001b[0;34m.\u001b[0m\u001b[0mloc\u001b[0m\u001b[0;34m[\u001b[0m\u001b[0;34m:\u001b[0m\u001b[0;34m,\u001b[0m\u001b[0;34m\"atg\"\u001b[0m\u001b[0;34m]\u001b[0m\u001b[0;34m+\u001b[0m\u001b[0mx\u001b[0m\u001b[0;34m.\u001b[0m\u001b[0mloc\u001b[0m\u001b[0;34m[\u001b[0m\u001b[0;34m:\u001b[0m\u001b[0;34m,\u001b[0m\u001b[0;34m\"stem2\"\u001b[0m\u001b[0;34m]\u001b[0m\u001b[0;34m+\u001b[0m\u001b[0mx\u001b[0m\u001b[0;34m.\u001b[0m\u001b[0mloc\u001b[0m\u001b[0;34m[\u001b[0m\u001b[0;34m:\u001b[0m\u001b[0;34m,\u001b[0m\u001b[0;34m\"linker\"\u001b[0m\u001b[0;34m]\u001b[0m\u001b[0;34m+\u001b[0m\u001b[0mx\u001b[0m\u001b[0;34m.\u001b[0m\u001b[0mloc\u001b[0m\u001b[0;34m[\u001b[0m\u001b[0;34m:\u001b[0m\u001b[0;34m,\u001b[0m\u001b[0;34m\"post_linker\"\u001b[0m\u001b[0;34m]\u001b[0m\u001b[0;34m)\u001b[0m\u001b[0;34m\u001b[0m\u001b[0m\n\u001b[1;32m      5\u001b[0m \u001b[0my\u001b[0m\u001b[0;34m.\u001b[0m\u001b[0mcolumns\u001b[0m \u001b[0;34m=\u001b[0m \u001b[0;34m[\u001b[0m\u001b[0;34m\"full\"\u001b[0m\u001b[0;34m]\u001b[0m\u001b[0;34m\u001b[0m\u001b[0m\n",
      "\u001b[0;32m/anaconda3/envs/py35/lib/python3.5/site-packages/pandas/io/parsers.py\u001b[0m in \u001b[0;36mparser_f\u001b[0;34m(filepath_or_buffer, sep, delimiter, header, names, index_col, usecols, squeeze, prefix, mangle_dupe_cols, dtype, engine, converters, true_values, false_values, skipinitialspace, skiprows, nrows, na_values, keep_default_na, na_filter, verbose, skip_blank_lines, parse_dates, infer_datetime_format, keep_date_col, date_parser, dayfirst, iterator, chunksize, compression, thousands, decimal, lineterminator, quotechar, quoting, escapechar, comment, encoding, dialect, tupleize_cols, error_bad_lines, warn_bad_lines, skipfooter, doublequote, delim_whitespace, low_memory, memory_map, float_precision)\u001b[0m\n\u001b[1;32m    676\u001b[0m                     skip_blank_lines=skip_blank_lines)\n\u001b[1;32m    677\u001b[0m \u001b[0;34m\u001b[0m\u001b[0m\n\u001b[0;32m--> 678\u001b[0;31m         \u001b[0;32mreturn\u001b[0m \u001b[0m_read\u001b[0m\u001b[0;34m(\u001b[0m\u001b[0mfilepath_or_buffer\u001b[0m\u001b[0;34m,\u001b[0m \u001b[0mkwds\u001b[0m\u001b[0;34m)\u001b[0m\u001b[0;34m\u001b[0m\u001b[0m\n\u001b[0m\u001b[1;32m    679\u001b[0m \u001b[0;34m\u001b[0m\u001b[0m\n\u001b[1;32m    680\u001b[0m     \u001b[0mparser_f\u001b[0m\u001b[0;34m.\u001b[0m\u001b[0m__name__\u001b[0m \u001b[0;34m=\u001b[0m \u001b[0mname\u001b[0m\u001b[0;34m\u001b[0m\u001b[0m\n",
      "\u001b[0;32m/anaconda3/envs/py35/lib/python3.5/site-packages/pandas/io/parsers.py\u001b[0m in \u001b[0;36m_read\u001b[0;34m(filepath_or_buffer, kwds)\u001b[0m\n\u001b[1;32m    438\u001b[0m \u001b[0;34m\u001b[0m\u001b[0m\n\u001b[1;32m    439\u001b[0m     \u001b[0;31m# Create the parser.\u001b[0m\u001b[0;34m\u001b[0m\u001b[0;34m\u001b[0m\u001b[0m\n\u001b[0;32m--> 440\u001b[0;31m     \u001b[0mparser\u001b[0m \u001b[0;34m=\u001b[0m \u001b[0mTextFileReader\u001b[0m\u001b[0;34m(\u001b[0m\u001b[0mfilepath_or_buffer\u001b[0m\u001b[0;34m,\u001b[0m \u001b[0;34m**\u001b[0m\u001b[0mkwds\u001b[0m\u001b[0;34m)\u001b[0m\u001b[0;34m\u001b[0m\u001b[0m\n\u001b[0m\u001b[1;32m    441\u001b[0m \u001b[0;34m\u001b[0m\u001b[0m\n\u001b[1;32m    442\u001b[0m     \u001b[0;32mif\u001b[0m \u001b[0mchunksize\u001b[0m \u001b[0;32mor\u001b[0m \u001b[0miterator\u001b[0m\u001b[0;34m:\u001b[0m\u001b[0;34m\u001b[0m\u001b[0m\n",
      "\u001b[0;32m/anaconda3/envs/py35/lib/python3.5/site-packages/pandas/io/parsers.py\u001b[0m in \u001b[0;36m__init__\u001b[0;34m(self, f, engine, **kwds)\u001b[0m\n\u001b[1;32m    785\u001b[0m             \u001b[0mself\u001b[0m\u001b[0;34m.\u001b[0m\u001b[0moptions\u001b[0m\u001b[0;34m[\u001b[0m\u001b[0;34m'has_index_names'\u001b[0m\u001b[0;34m]\u001b[0m \u001b[0;34m=\u001b[0m \u001b[0mkwds\u001b[0m\u001b[0;34m[\u001b[0m\u001b[0;34m'has_index_names'\u001b[0m\u001b[0;34m]\u001b[0m\u001b[0;34m\u001b[0m\u001b[0m\n\u001b[1;32m    786\u001b[0m \u001b[0;34m\u001b[0m\u001b[0m\n\u001b[0;32m--> 787\u001b[0;31m         \u001b[0mself\u001b[0m\u001b[0;34m.\u001b[0m\u001b[0m_make_engine\u001b[0m\u001b[0;34m(\u001b[0m\u001b[0mself\u001b[0m\u001b[0;34m.\u001b[0m\u001b[0mengine\u001b[0m\u001b[0;34m)\u001b[0m\u001b[0;34m\u001b[0m\u001b[0m\n\u001b[0m\u001b[1;32m    788\u001b[0m \u001b[0;34m\u001b[0m\u001b[0m\n\u001b[1;32m    789\u001b[0m     \u001b[0;32mdef\u001b[0m \u001b[0mclose\u001b[0m\u001b[0;34m(\u001b[0m\u001b[0mself\u001b[0m\u001b[0;34m)\u001b[0m\u001b[0;34m:\u001b[0m\u001b[0;34m\u001b[0m\u001b[0m\n",
      "\u001b[0;32m/anaconda3/envs/py35/lib/python3.5/site-packages/pandas/io/parsers.py\u001b[0m in \u001b[0;36m_make_engine\u001b[0;34m(self, engine)\u001b[0m\n\u001b[1;32m   1012\u001b[0m     \u001b[0;32mdef\u001b[0m \u001b[0m_make_engine\u001b[0m\u001b[0;34m(\u001b[0m\u001b[0mself\u001b[0m\u001b[0;34m,\u001b[0m \u001b[0mengine\u001b[0m\u001b[0;34m=\u001b[0m\u001b[0;34m'c'\u001b[0m\u001b[0;34m)\u001b[0m\u001b[0;34m:\u001b[0m\u001b[0;34m\u001b[0m\u001b[0m\n\u001b[1;32m   1013\u001b[0m         \u001b[0;32mif\u001b[0m \u001b[0mengine\u001b[0m \u001b[0;34m==\u001b[0m \u001b[0;34m'c'\u001b[0m\u001b[0;34m:\u001b[0m\u001b[0;34m\u001b[0m\u001b[0m\n\u001b[0;32m-> 1014\u001b[0;31m             \u001b[0mself\u001b[0m\u001b[0;34m.\u001b[0m\u001b[0m_engine\u001b[0m \u001b[0;34m=\u001b[0m \u001b[0mCParserWrapper\u001b[0m\u001b[0;34m(\u001b[0m\u001b[0mself\u001b[0m\u001b[0;34m.\u001b[0m\u001b[0mf\u001b[0m\u001b[0;34m,\u001b[0m \u001b[0;34m**\u001b[0m\u001b[0mself\u001b[0m\u001b[0;34m.\u001b[0m\u001b[0moptions\u001b[0m\u001b[0;34m)\u001b[0m\u001b[0;34m\u001b[0m\u001b[0m\n\u001b[0m\u001b[1;32m   1015\u001b[0m         \u001b[0;32melse\u001b[0m\u001b[0;34m:\u001b[0m\u001b[0;34m\u001b[0m\u001b[0m\n\u001b[1;32m   1016\u001b[0m             \u001b[0;32mif\u001b[0m \u001b[0mengine\u001b[0m \u001b[0;34m==\u001b[0m \u001b[0;34m'python'\u001b[0m\u001b[0;34m:\u001b[0m\u001b[0;34m\u001b[0m\u001b[0m\n",
      "\u001b[0;32m/anaconda3/envs/py35/lib/python3.5/site-packages/pandas/io/parsers.py\u001b[0m in \u001b[0;36m__init__\u001b[0;34m(self, src, **kwds)\u001b[0m\n\u001b[1;32m   1706\u001b[0m         \u001b[0mkwds\u001b[0m\u001b[0;34m[\u001b[0m\u001b[0;34m'usecols'\u001b[0m\u001b[0;34m]\u001b[0m \u001b[0;34m=\u001b[0m \u001b[0mself\u001b[0m\u001b[0;34m.\u001b[0m\u001b[0musecols\u001b[0m\u001b[0;34m\u001b[0m\u001b[0m\n\u001b[1;32m   1707\u001b[0m \u001b[0;34m\u001b[0m\u001b[0m\n\u001b[0;32m-> 1708\u001b[0;31m         \u001b[0mself\u001b[0m\u001b[0;34m.\u001b[0m\u001b[0m_reader\u001b[0m \u001b[0;34m=\u001b[0m \u001b[0mparsers\u001b[0m\u001b[0;34m.\u001b[0m\u001b[0mTextReader\u001b[0m\u001b[0;34m(\u001b[0m\u001b[0msrc\u001b[0m\u001b[0;34m,\u001b[0m \u001b[0;34m**\u001b[0m\u001b[0mkwds\u001b[0m\u001b[0;34m)\u001b[0m\u001b[0;34m\u001b[0m\u001b[0m\n\u001b[0m\u001b[1;32m   1709\u001b[0m \u001b[0;34m\u001b[0m\u001b[0m\n\u001b[1;32m   1710\u001b[0m         \u001b[0mpassed_names\u001b[0m \u001b[0;34m=\u001b[0m \u001b[0mself\u001b[0m\u001b[0;34m.\u001b[0m\u001b[0mnames\u001b[0m \u001b[0;32mis\u001b[0m \u001b[0;32mNone\u001b[0m\u001b[0;34m\u001b[0m\u001b[0m\n",
      "\u001b[0;32mpandas/_libs/parsers.pyx\u001b[0m in \u001b[0;36mpandas._libs.parsers.TextReader.__cinit__\u001b[0;34m()\u001b[0m\n",
      "\u001b[0;32mpandas/_libs/parsers.pyx\u001b[0m in \u001b[0;36mpandas._libs.parsers.TextReader._setup_parser_source\u001b[0;34m()\u001b[0m\n",
      "\u001b[0;31mFileNotFoundError\u001b[0m: File b'toeholddatasetprocPEARFinalQC_2019Mar1_SalisRBS.csv' does not exist"
     ]
    }
   ],
   "source": [
    "df = pandas.DataFrame(pandas.read_csv(\"toeholddatasetprocPEARFinalQC_2019Mar1_SalisRBS.csv\"))\n",
    "df.loc[:,\"loop1\"] = \"AACCAAACACACAAACGCAC\"\n",
    "x = df.loc[:,\"trigger\":\"post_linker\"]\n",
    "y = pandas.DataFrame(\"G\" + x.loc[:,\"trigger\"]+x.loc[:,\"loop1\"]+x.loc[:,\"switch1\"]+x.loc[:,\"loop2\"]+x.loc[:,\"stem1\"]+x.loc[:,\"atg\"]+x.loc[:,\"stem2\"]+x.loc[:,\"linker\"]+x.loc[:,\"post_linker\"])\n",
    "y.columns = [\"full\"]\n",
    "df = pandas.concat([df,y],axis=1)\n"
   ]
  },
  {
   "cell_type": "code",
   "execution_count": null,
   "metadata": {},
   "outputs": [],
   "source": [
    "\n"
   ]
  },
  {
   "cell_type": "code",
   "execution_count": null,
   "metadata": {
    "collapsed": true
   },
   "outputs": [],
   "source": [
    "subdf = pandas.DataFrame()\n",
    "subdf_full = pandas.DataFrame()\n",
    "subdf['sub_switchoff'] = \"GGG\" + df.loc[:,\"full\"].str[31:146]\n",
    "subdf['sub_switchon'] = \"GG\" + df.loc[:,\"full\"].str[0:146]\n",
    "#subdf_full['sub_switchoff'] = \"GGG\" + df.loc[:,\"full\"].str[31:146]\n",
    "#subdf_full['sub_switchon'] = \"GG\" + df.loc[:,\"full\"].str[0:146]\n",
    "#subdf['sub_toeholdoff'] = \"GG\" + df.loc[:,\"full\"].str[0:31]\n",
    "subdf['sub_toeholdon'] = \"GG\" + df.loc[:,\"full\"].str[0:63]\n",
    "subdf['sub_stem'] = df.loc[:,\"full\"].str[63:110]\n",
    "#subdf['sub_ascendingstem'] = df.loc[:,\"full\"].str[63:92]\n",
    "#subdf['sub_descendingstem'] = df.loc[:,\"full\"].str[81:110]\n",
    "subdf['sub_stemtop'] = df.loc[:,\"full\"].str[75:98]\n",
    "#subdf['sub_rbsgfp'] = df.loc[:,\"full\"].str[81:146]\n",
    "#subdf['sub_rbslinker'] = df.loc[:,\"full\"].str[81:136]\n"
   ]
  },
  {
   "cell_type": "code",
   "execution_count": 3,
   "metadata": {},
   "outputs": [],
   "source": [
    "#def mfe(x):\n",
    "#    (ss,mfe) = RNA.fold_compound(x).mfe()\n",
    "#    return mfe\n",
    "def kinfold(x):\n",
    "    s = \"\\\"\" + x + \"\\\"\"\n",
    "    #p = \"| /usr/local/bin/Kinfold --time 1000 | grep X1\"\n",
    "    p = \"| /usr/local/bin/Kinfold --time 10000000 | grep X1 | perl -ne 'chomp;@a=split(/\\s+/);print $a[2] . \\\"\\\\n\\\";' | perl -e '@a=<>;$s=0;for(my $i=0;$i<scalar(@a);$i++){$s+=$a[$i];}print $s/scalar(@a);'\"\n",
    "    #p = \"| /usr/local/bin/Kinfold --time 1000 | grep O | perl -ne 'chomp;@a=split(/\\s+/);print $a[2] . \\\"\\\\n\\\";' | perl -e '@a=<>;$s=0;for(my $i=0;$i<scalar(@a);$i++){$s+=$a[$i];}print $s/scalar(@a);'\"\n",
    "    cmd = \"echo \" + s + p\n",
    "    #print(cmd)\n",
    "    proc = subprocess.Popen([cmd],stdout=subprocess.PIPE,shell=True)\n",
    "    (out, err) = proc.communicate()\n",
    "    return out "
   ]
  },
  {
   "cell_type": "code",
   "execution_count": 4,
   "metadata": {},
   "outputs": [
    {
     "name": "stdout",
     "output_type": "stream",
     "text": [
      "echo \"AACCAAACACACAAACGCACGGAAGGGUCAAAUAAUCCUUCUGGAAUCUUAACAGAGGAGAAAGAUUAUGGAAGGAUUA\"| /usr/local/bin/Kinfold --time 10000000 | grep X1 | perl -ne 'chomp;@a=split(/\\s+/);print $a[2] . \"\\n\";' | perl -e '@a=<>;$s=0;for(my $i=0;$i<scalar(@a);$i++){$s+=$a[$i];}print $s/scalar(@a);'\n",
      "echo \"AACCAAACACACAAACGCACGGAAGGGUCAAAUAAUCCUUCUGGAAUCUUAACAGAGGAGAAAGAUUAUGGAAGGAUUA\"| /usr/local/bin/Kinfold --time 10000000 | grep X1 | perl -ne 'chomp;@a=split(/\\s+/);print $a[2] . \"\\n\";' | perl -e '@a=<>;$s=0;for(my $i=0;$i<scalar(@a);$i++){$s+=$a[$i];}print $s/scalar(@a);'\n",
      "echo \"AACCAAACACACAAACGCACGGAAGGGUCAAAUAAUCCUUCUGGAAUCUUAACAGAGGAGAAAGAUUAUGGAAGGAUUA\"| /usr/local/bin/Kinfold --time 10000000 | grep X1 | perl -ne 'chomp;@a=split(/\\s+/);print $a[2] . \"\\n\";' | perl -e '@a=<>;$s=0;for(my $i=0;$i<scalar(@a);$i++){$s+=$a[$i];}print $s/scalar(@a);'\n",
      "echo \"AACCAAACACACAAACGCACGGAAGGGUCAAAUAAUCCUUCUGGAAUCUUAACAGAGGAGAAAGAUUAUGGAAGGAUUA\"| /usr/local/bin/Kinfold --time 10000000 | grep X1 | perl -ne 'chomp;@a=split(/\\s+/);print $a[2] . \"\\n\";' | perl -e '@a=<>;$s=0;for(my $i=0;$i<scalar(@a);$i++){$s+=$a[$i];}print $s/scalar(@a);'\n",
      "echo \"AACCAAACACACAAACGCACGGAAGGGUCAAAUAAUCCUUCUGGAAUCUUAACAGAGGAGAAAGAUUAUGGAAGGAUUA\"| /usr/local/bin/Kinfold --time 10000000 | grep X1 | perl -ne 'chomp;@a=split(/\\s+/);print $a[2] . \"\\n\";' | perl -e '@a=<>;$s=0;for(my $i=0;$i<scalar(@a);$i++){$s+=$a[$i];}print $s/scalar(@a);'\n",
      "echo \"AACCAAACACACAAACGCACGGAAGGGUCAAAUAAUCCUUCUGGAAUCUUAACAGAGGAGAAAGAUUAUGGAAGGAUUA\"| /usr/local/bin/Kinfold --time 10000000 | grep X1 | perl -ne 'chomp;@a=split(/\\s+/);print $a[2] . \"\\n\";' | perl -e '@a=<>;$s=0;for(my $i=0;$i<scalar(@a);$i++){$s+=$a[$i];}print $s/scalar(@a);'\n",
      "echo \"AACCAAACACACAAACGCACGGAAGGGUCAAAUAAUCCUUCUGGAAUCUUAACAGAGGAGAAAGAUUAUGGAAGGAUUA\"| /usr/local/bin/Kinfold --time 10000000 | grep X1 | perl -ne 'chomp;@a=split(/\\s+/);print $a[2] . \"\\n\";' | perl -e '@a=<>;$s=0;for(my $i=0;$i<scalar(@a);$i++){$s+=$a[$i];}print $s/scalar(@a);'\n",
      "echo \"AACCAAACACACAAACGCACGGAAGGGUCAAAUAAUCCUUCUGGAAUCUUAACAGAGGAGAAAGAUUAUGGAAGGAUUA\"| /usr/local/bin/Kinfold --time 10000000 | grep X1 | perl -ne 'chomp;@a=split(/\\s+/);print $a[2] . \"\\n\";' | perl -e '@a=<>;$s=0;for(my $i=0;$i<scalar(@a);$i++){$s+=$a[$i];}print $s/scalar(@a);'\n",
      "echo \"AACCAAACACACAAACGCACGGAAGGGUCAAAUAAUCCUUCUGGAAUCUUAACAGAGGAGAAAGAUUAUGGAAGGAUUA\"| /usr/local/bin/Kinfold --time 10000000 | grep X1 | perl -ne 'chomp;@a=split(/\\s+/);print $a[2] . \"\\n\";' | perl -e '@a=<>;$s=0;for(my $i=0;$i<scalar(@a);$i++){$s+=$a[$i];}print $s/scalar(@a);'\n",
      "echo \"AACCAAACACACAAACGCACGGAAGGGUCAAAUAAUCCUUCUGGAAUCUUAACAGAGGAGAAAGAUUAUGGAAGGAUUA\"| /usr/local/bin/Kinfold --time 10000000 | grep X1 | perl -ne 'chomp;@a=split(/\\s+/);print $a[2] . \"\\n\";' | perl -e '@a=<>;$s=0;for(my $i=0;$i<scalar(@a);$i++){$s+=$a[$i];}print $s/scalar(@a);'\n"
     ]
    }
   ],
   "source": [
    "TauValues=pandas.DataFrame(data={'mRNAseq':[]})\n",
    "Seq=pandas.DataFrame(data={'mRNAseq':[\"AACCAAACACACAAACGCACGGAAGGGUCAAAUAAUCCUUCUGGAAUCUUAACAGAGGAGAAAGAUUAUGGAAGGAUUA\"]})\n",
    "\n",
    "\n",
    "for index in range(0, 1000):\n",
    "    NewVal=Seq.applymap(kinfold)\n",
    "    TauValues=TauValues.append(NewVal)\n",
    "\n",
    "\n",
    "TrajectoryTimes=pandas.DataFrame(data={'Time':[]})\n",
    "for index in range (0, 1000):\n",
    "    string=TauValues.iloc[index]['mRNAseq']\n",
    "    if not string:\n",
    "        val=10000000\n",
    "    else:\n",
    "        val=float(string.decode())\n",
    "    NewVal=pandas.DataFrame(data={'Time':[val]})\n",
    "    TrajectoryTimes=TrajectoryTimes.append(NewVal)"
   ]
  },
  {
   "cell_type": "code",
   "execution_count": 5,
   "metadata": {
    "scrolled": false
   },
   "outputs": [
    {
     "name": "stdout",
     "output_type": "stream",
     "text": [
      "          Time\n",
      "0     9742.395\n",
      "0      163.667\n",
      "0     8367.520\n",
      "0  6741318.580\n",
      "0   603426.663\n"
     ]
    }
   ],
   "source": [
    "print(TrajectoryTimes)"
   ]
  },
  {
   "cell_type": "code",
   "execution_count": null,
   "metadata": {
    "collapsed": true
   },
   "outputs": [],
   "source": []
  }
 ],
 "metadata": {
  "kernelspec": {
   "display_name": "py35",
   "language": "python",
   "name": "py35"
  },
  "language_info": {
   "codemirror_mode": {
    "name": "ipython",
    "version": 3
   },
   "file_extension": ".py",
   "mimetype": "text/x-python",
   "name": "python",
   "nbconvert_exporter": "python",
   "pygments_lexer": "ipython3",
   "version": "3.5.6"
  }
 },
 "nbformat": 4,
 "nbformat_minor": 2
}
