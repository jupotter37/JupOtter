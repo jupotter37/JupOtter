{
 "cells": [
  {
   "cell_type": "markdown",
   "metadata": {},
   "source": [
    " # Programming and Database Fundamentals for Data Scientists - EAS503"
   ]
  },
  {
   "cell_type": "markdown",
   "metadata": {},
   "source": [
    "Python classes and objects.\n",
    "\n",
    "In this notebook we will discuss the notion of classes and objects, which are a fundamental concept. Using the keyword `class`, one can define a class.\n",
    "\n",
    "Before learning about how to define classes, we will first understand the need for defining classes."
   ]
  },
  {
   "cell_type": "code",
   "execution_count": 43,
   "metadata": {},
   "outputs": [
    {
     "name": "stdout",
     "output_type": "stream",
     "text": [
      "<class 'int'>\n"
     ]
    }
   ],
   "source": [
    "a = 16\n",
    "b = 17\n",
    "print(type(a))"
   ]
  },
  {
   "cell_type": "code",
   "execution_count": 38,
   "metadata": {},
   "outputs": [
    {
     "data": {
      "text/plain": [
       "'THIS IS A STRING. THIS IS THE NEXT STRING.'"
      ]
     },
     "execution_count": 38,
     "metadata": {},
     "output_type": "execute_result"
    }
   ],
   "source": [
    "a = 'this is a string. this is the next string.'\n",
    "a.upper()"
   ]
  },
  {
   "cell_type": "code",
   "execution_count": 33,
   "metadata": {},
   "outputs": [
    {
     "data": {
      "text/plain": [
       "'THIS IS A STRING'"
      ]
     },
     "execution_count": 33,
     "metadata": {},
     "output_type": "execute_result"
    }
   ],
   "source": [
    "a.upper()"
   ]
  },
  {
   "cell_type": "markdown",
   "metadata": {},
   "source": [
    "### A Simple Banking Application\n",
    "Read data from `csv` files containing customer and account information and find all customers with more than \\$25,000 in their bank account, and send a letter to them with some scheme (find their address)."
   ]
  },
  {
   "cell_type": "code",
   "execution_count": 3,
   "metadata": {},
   "outputs": [
    {
     "name": "stdout",
     "output_type": "stream",
     "text": [
      "['1', 'Jane', '123, Main Street']\n",
      "['2', 'Alice', '111 Central Ave']\n",
      "['3', 'Mary', '1 Washington Blvd.']\n"
     ]
    }
   ],
   "source": [
    "import csv\n",
    "# load customer information\n",
    "customerMap = {}\n",
    "with open('customers.csv','r') as f:\n",
    "    rd = csv.reader(f)\n",
    "    next(rd)\n",
    "    for row in rd:\n",
    "        print(row)"
   ]
  },
  {
   "cell_type": "code",
   "execution_count": 39,
   "metadata": {},
   "outputs": [],
   "source": [
    "# Logical design\n",
    "import csv\n",
    "# load customer information\n",
    "customerMap = {}\n",
    "with open('customers.csv','r') as f:\n",
    "    rd = csv.reader(f)\n",
    "    next(rd)\n",
    "    for row in rd:\n",
    "        customerMap[int(row[0])] = (row[1],row[2])\n",
    "# load account information\n",
    "accountsMap = {}\n",
    "with open('accounts.csv','r') as f:\n",
    "    rd = csv.reader(f)\n",
    "    next(rd)\n",
    "    for row in rd:\n",
    "        if int(row[1]) not in accountsMap.keys():\n",
    "            accountsMap[int(row[1])] = []\n",
    "        l = accountsMap[int(row[1])]\n",
    "        l.append(int(row[2]))\n",
    "        accountsMap[int(row[1])] = l"
   ]
  },
  {
   "cell_type": "code",
   "execution_count": 40,
   "metadata": {},
   "outputs": [
    {
     "data": {
      "text/plain": [
       "{1: ('Jane', '123, Main Street'),\n",
       " 2: ('Alice', '111 Central Ave'),\n",
       " 3: ('Mary', '1 Washington Blvd.')}"
      ]
     },
     "execution_count": 40,
     "metadata": {},
     "output_type": "execute_result"
    }
   ],
   "source": [
    "customerMap"
   ]
  },
  {
   "cell_type": "code",
   "execution_count": 41,
   "metadata": {},
   "outputs": [
    {
     "data": {
      "text/plain": [
       "{1: [30000, 20000], 2: [25000, 100], 3: [1500, 2000, 10000]}"
      ]
     },
     "execution_count": 41,
     "metadata": {},
     "output_type": "execute_result"
    }
   ],
   "source": [
    "accountsMap"
   ]
  },
  {
   "cell_type": "code",
   "execution_count": 7,
   "metadata": {},
   "outputs": [
    {
     "name": "stdout",
     "output_type": "stream",
     "text": [
      "('Jane', '123 Main Street')\n",
      "('Alice', '111 Central Ave')\n"
     ]
    }
   ],
   "source": [
    "for k in accountsMap.keys():\n",
    "    if sum(accountsMap[k]) > 25000:\n",
    "        print(customerMap[k])"
   ]
  },
  {
   "cell_type": "code",
   "execution_count": 63,
   "metadata": {},
   "outputs": [],
   "source": [
    "# OOD\n",
    "class Customer:\n",
    "    def __init__(self, customerid, name, address):\n",
    "        \n",
    "        self.__name = name\n",
    "        self.__customerid = customerid\n",
    "        self.__address = address\n",
    "        self.__accounts = []\n",
    "\n",
    "    def add_account(self,account):\n",
    "        self.__accounts.append(account)\n",
    "\n",
    "\n",
    "    def get_total(self):\n",
    "        s = 0\n",
    "        for a in self.__accounts:\n",
    "            s = s + a.get_amount()\n",
    "        return s\n",
    "    \n",
    "    def get_name(self,uppercase=False):\n",
    "        if uppercase:\n",
    "            return self.__name.upper()\n",
    "        else:\n",
    "            return self.__name\n",
    "\n",
    "\n",
    "class Account:\n",
    "    def __init__(self,accounttype,amount):\n",
    "        self.__accounttype = accounttype\n",
    "        self.__amount = amount\n",
    "    \n",
    "    def get_amount(self):\n",
    "        return self.__amount\n",
    "    \n",
    "    "
   ]
  },
  {
   "cell_type": "markdown",
   "metadata": {},
   "source": [
    "1. step 1 - a new variable of type Customer() is created\n",
    "2. step 2 - the __init__ function of Customer() is called - \n",
    "    the first arugment is always self - a pointer to the object that is\n",
    "    just created\n"
   ]
  },
  {
   "cell_type": "code",
   "execution_count": 72,
   "metadata": {},
   "outputs": [
    {
     "data": {
      "text/plain": [
       "'Varun'"
      ]
     },
     "execution_count": 72,
     "metadata": {},
     "output_type": "execute_result"
    }
   ],
   "source": [
    "# create an object of type customer\n",
    "cust = Customer(1,'Varun','123 Main St.')\n",
    "cust.get_name()"
   ]
  },
  {
   "cell_type": "code",
   "execution_count": 73,
   "metadata": {},
   "outputs": [
    {
     "data": {
      "text/plain": [
       "0"
      ]
     },
     "execution_count": 73,
     "metadata": {},
     "output_type": "execute_result"
    }
   ],
   "source": [
    "cust.get_total()"
   ]
  },
  {
   "cell_type": "code",
   "execution_count": 66,
   "metadata": {},
   "outputs": [],
   "source": [
    "acct = Account('Checking',1000)"
   ]
  },
  {
   "cell_type": "code",
   "execution_count": 68,
   "metadata": {},
   "outputs": [],
   "source": [
    "cust.add_account(acct)"
   ]
  },
  {
   "cell_type": "code",
   "execution_count": 70,
   "metadata": {},
   "outputs": [],
   "source": [
    "cust.add_account('error')"
   ]
  },
  {
   "cell_type": "code",
   "execution_count": 71,
   "metadata": {},
   "outputs": [
    {
     "ename": "AttributeError",
     "evalue": "'str' object has no attribute 'get_amount'",
     "output_type": "error",
     "traceback": [
      "\u001b[0;31m---------------------------------------------------------------------------\u001b[0m",
      "\u001b[0;31mAttributeError\u001b[0m                            Traceback (most recent call last)",
      "\u001b[0;32m<ipython-input-71-0a8ebbf1f3d3>\u001b[0m in \u001b[0;36m<module>\u001b[0;34m\u001b[0m\n\u001b[0;32m----> 1\u001b[0;31m \u001b[0mcust\u001b[0m\u001b[0;34m.\u001b[0m\u001b[0mget_total\u001b[0m\u001b[0;34m(\u001b[0m\u001b[0;34m)\u001b[0m\u001b[0;34m\u001b[0m\u001b[0;34m\u001b[0m\u001b[0m\n\u001b[0m",
      "\u001b[0;32m<ipython-input-63-205acea850b0>\u001b[0m in \u001b[0;36mget_total\u001b[0;34m(self)\u001b[0m\n\u001b[1;32m     14\u001b[0m         \u001b[0ms\u001b[0m \u001b[0;34m=\u001b[0m \u001b[0;36m0\u001b[0m\u001b[0;34m\u001b[0m\u001b[0;34m\u001b[0m\u001b[0m\n\u001b[1;32m     15\u001b[0m         \u001b[0;32mfor\u001b[0m \u001b[0ma\u001b[0m \u001b[0;32min\u001b[0m \u001b[0mself\u001b[0m\u001b[0;34m.\u001b[0m\u001b[0m__accounts\u001b[0m\u001b[0;34m:\u001b[0m\u001b[0;34m\u001b[0m\u001b[0;34m\u001b[0m\u001b[0m\n\u001b[0;32m---> 16\u001b[0;31m             \u001b[0ms\u001b[0m \u001b[0;34m=\u001b[0m \u001b[0ms\u001b[0m \u001b[0;34m+\u001b[0m \u001b[0ma\u001b[0m\u001b[0;34m.\u001b[0m\u001b[0mget_amount\u001b[0m\u001b[0;34m(\u001b[0m\u001b[0;34m)\u001b[0m\u001b[0;34m\u001b[0m\u001b[0;34m\u001b[0m\u001b[0m\n\u001b[0m\u001b[1;32m     17\u001b[0m         \u001b[0;32mreturn\u001b[0m \u001b[0ms\u001b[0m\u001b[0;34m\u001b[0m\u001b[0;34m\u001b[0m\u001b[0m\n\u001b[1;32m     18\u001b[0m \u001b[0;34m\u001b[0m\u001b[0m\n",
      "\u001b[0;31mAttributeError\u001b[0m: 'str' object has no attribute 'get_amount'"
     ]
    }
   ],
   "source": [
    "cust.get_total()"
   ]
  },
  {
   "cell_type": "code",
   "execution_count": 74,
   "metadata": {},
   "outputs": [],
   "source": [
    "import csv\n",
    "customers = {}\n",
    "with open('./customers.csv') as f:\n",
    "    reader = csv.reader(f)\n",
    "    next(reader)\n",
    "    for row in reader:\n",
    "        customer = Customer(row[0],row[1],row[2])\n",
    "        customers[row[0]] = customer\n",
    "\n",
    "with open('./accounts.csv') as f:\n",
    "    reader = csv.reader(f)\n",
    "    next(reader)\n",
    "    for row in reader:\n",
    "        customerid = row[1]\n",
    "        account = Account(row[0],int(row[2]))\n",
    "        customers[customerid].add_account(account)"
   ]
  },
  {
   "cell_type": "code",
   "execution_count": 18,
   "metadata": {},
   "outputs": [
    {
     "name": "stdout",
     "output_type": "stream",
     "text": [
      "Jane\n",
      "Alice\n"
     ]
    }
   ],
   "source": [
    "for c in customers.keys():\n",
    "    if customers[c].get_total() > 25000:\n",
    "        print(customers[c].get_name())"
   ]
  },
  {
   "cell_type": "markdown",
   "metadata": {},
   "source": [
    "## Defining Classes\n",
    "More details about `class` definition"
   ]
  },
  {
   "cell_type": "code",
   "execution_count": 80,
   "metadata": {},
   "outputs": [],
   "source": [
    "# this class has no __init__ function\n",
    "class myclass:\n",
    "    def mymethod_myclass(self):\n",
    "        print(\"hey\")"
   ]
  },
  {
   "cell_type": "code",
   "execution_count": 81,
   "metadata": {},
   "outputs": [
    {
     "name": "stdout",
     "output_type": "stream",
     "text": [
      "hey\n"
     ]
    }
   ],
   "source": [
    "myobj = myclass()\n",
    "myobj.mymethod_myclass()"
   ]
  },
  {
   "cell_type": "code",
   "execution_count": 4,
   "metadata": {},
   "outputs": [],
   "source": [
    "# this class has no __init__ function\n",
    "class myclass:\n",
    "    # we define a field \n",
    "    __classtype='My Class'\n",
    "    def mymethod(self):\n",
    "        print(\"This is \"+self.__classtype)\n",
    "        \n",
    "    def getClasstype(self):\n",
    "        return self.__classtype"
   ]
  },
  {
   "cell_type": "code",
   "execution_count": 23,
   "metadata": {},
   "outputs": [
    {
     "name": "stdout",
     "output_type": "stream",
     "text": [
      "This is My Class\n",
      "My Class\n"
     ]
    }
   ],
   "source": [
    "# making fields private\n",
    "myobj = myclass()\n",
    "myobj.mymethod()\n",
    "print(myobj.getClasstype())"
   ]
  },
  {
   "cell_type": "code",
   "execution_count": 24,
   "metadata": {},
   "outputs": [
    {
     "name": "stdout",
     "output_type": "stream",
     "text": [
      "This is My Class\n"
     ]
    }
   ],
   "source": [
    "myobj = myclass()\n",
    "myobj.mymethod()"
   ]
  },
  {
   "cell_type": "code",
   "execution_count": 86,
   "metadata": {},
   "outputs": [],
   "source": [
    "# this class has not __init__ function\n",
    "class myclass:\n",
    "    # we define a global field \n",
    "    classtype='My Class'\n",
    "    def mymethod(self):\n",
    "        print(\"this is a method\")\n",
    "        self.a = 'g'\n",
    "        print(\"This is \"+self.classtype) # note that we are explicitly referencing the field of the class\n",
    "        \n",
    "    def mymethod2(self):\n",
    "        print(\"This is\"+self.classtype)\n",
    "        print(self.a)"
   ]
  },
  {
   "cell_type": "code",
   "execution_count": 85,
   "metadata": {},
   "outputs": [
    {
     "name": "stdout",
     "output_type": "stream",
     "text": [
      "this is a method\n",
      "This is My Class\n"
     ]
    }
   ],
   "source": [
    "m = myclass()\n",
    "m.mymethod()"
   ]
  },
  {
   "cell_type": "code",
   "execution_count": 13,
   "metadata": {},
   "outputs": [
    {
     "data": {
      "text/plain": [
       "__main__.myclass"
      ]
     },
     "execution_count": 13,
     "metadata": {},
     "output_type": "execute_result"
    }
   ],
   "source": [
    "type(m)"
   ]
  },
  {
   "cell_type": "code",
   "execution_count": 12,
   "metadata": {},
   "outputs": [
    {
     "name": "stdout",
     "output_type": "stream",
     "text": [
      "this is a method\n",
      "This isMy Class\n",
      "g\n"
     ]
    }
   ],
   "source": [
    "myobj = myclass()\n",
    "myobj.mymethod()\n",
    "myobj.mymethod2()"
   ]
  },
  {
   "cell_type": "markdown",
   "metadata": {},
   "source": [
    "#### Issues with defining fields outside the `__init__` function\n",
    "If global field is mutable"
   ]
  },
  {
   "cell_type": "code",
   "execution_count": 96,
   "metadata": {},
   "outputs": [],
   "source": [
    "# this class has not __init__ function\n",
    "class myclass:\n",
    "    # we define a field \n",
    "    version='1.0.1'\n",
    "    classtypes=['int']\n",
    "    def __init__(self):\n",
    "        self.a = ['m']\n",
    "    \n",
    "    def mymethod(self):\n",
    "        print(self.classtypes) # note that we are explicitly referencing the field of the class\n",
    "\n",
    "    def mymethod2():\n",
    "        print('This class is open source')"
   ]
  },
  {
   "cell_type": "code",
   "execution_count": 97,
   "metadata": {},
   "outputs": [
    {
     "name": "stdout",
     "output_type": "stream",
     "text": [
      "['int']\n",
      "['int']\n"
     ]
    }
   ],
   "source": [
    "myobj1 = myclass()\n",
    "myobj2 = myclass()\n",
    "\n",
    "myobj1.mymethod()\n",
    "myobj2.mymethod()"
   ]
  },
  {
   "cell_type": "code",
   "execution_count": 102,
   "metadata": {},
   "outputs": [
    {
     "name": "stdout",
     "output_type": "stream",
     "text": [
      "This class is open source\n"
     ]
    }
   ],
   "source": [
    "myclass.mymethod2()"
   ]
  },
  {
   "cell_type": "code",
   "execution_count": 94,
   "metadata": {},
   "outputs": [
    {
     "name": "stdout",
     "output_type": "stream",
     "text": [
      "['int', 'float', 'float', 'float']\n"
     ]
    },
    {
     "data": {
      "text/plain": [
       "['m', 'n', 'n', 'n']"
      ]
     },
     "execution_count": 94,
     "metadata": {},
     "output_type": "execute_result"
    }
   ],
   "source": [
    "\n",
    "myobj1.classtypes.append('float')\n",
    "myobj1.a.append('n')\n",
    "myobj1.mymethod()\n",
    "myobj1.a"
   ]
  },
  {
   "cell_type": "code",
   "execution_count": 95,
   "metadata": {},
   "outputs": [
    {
     "name": "stdout",
     "output_type": "stream",
     "text": [
      "['int', 'float', 'float', 'float']\n"
     ]
    },
    {
     "data": {
      "text/plain": [
       "['m']"
      ]
     },
     "execution_count": 95,
     "metadata": {},
     "output_type": "execute_result"
    }
   ],
   "source": [
    "myobj2.mymethod()\n",
    "myobj2.a"
   ]
  },
  {
   "cell_type": "code",
   "execution_count": 92,
   "metadata": {},
   "outputs": [
    {
     "data": {
      "text/plain": [
       "'1.0.1'"
      ]
     },
     "execution_count": 92,
     "metadata": {},
     "output_type": "execute_result"
    }
   ],
   "source": [
    "myclass.version"
   ]
  },
  {
   "cell_type": "markdown",
   "metadata": {},
   "source": [
    "#### How to avoid the above issue?\n",
    "Define mutable fields within `__init__`"
   ]
  },
  {
   "cell_type": "code",
   "execution_count": 103,
   "metadata": {},
   "outputs": [],
   "source": [
    "# this class has an __init__ function\n",
    "class myclass:\n",
    "    def __init__(self,anotherfield):\n",
    "        # we define a field \n",
    "        self.classtypes=['int']\n",
    "        self.anotherfield = anotherfield\n",
    "        \n",
    "    def mymethod(self,):\n",
    "        self.anotherfield = 'another field'\n",
    "        print(self.classtypes) # note that we are explicitly referencing the field of the class"
   ]
  },
  {
   "cell_type": "code",
   "execution_count": 104,
   "metadata": {},
   "outputs": [
    {
     "name": "stdout",
     "output_type": "stream",
     "text": [
      "['int']\n",
      "['int']\n",
      "['int', 'float']\n",
      "['int']\n"
     ]
    }
   ],
   "source": [
    "myobj1 = myclass()\n",
    "myobj2 = myclass()\n",
    "\n",
    "myobj1.mymethod()\n",
    "myobj2.mymethod()\n",
    "\n",
    "myobj1.classtypes.append('float')\n",
    "\n",
    "myobj1.mymethod()\n",
    "myobj2.mymethod()"
   ]
  },
  {
   "cell_type": "code",
   "execution_count": 14,
   "metadata": {},
   "outputs": [
    {
     "data": {
      "text/plain": [
       "['int', 'float']"
      ]
     },
     "execution_count": 14,
     "metadata": {},
     "output_type": "execute_result"
    }
   ],
   "source": [
    "# you can also directly access the field\n",
    "myobj1.classtypes"
   ]
  },
  {
   "cell_type": "markdown",
   "metadata": {},
   "source": [
    "#### Hide fields from external use"
   ]
  },
  {
   "cell_type": "code",
   "execution_count": 109,
   "metadata": {},
   "outputs": [
    {
     "name": "stdout",
     "output_type": "stream",
     "text": [
      "chandola\n"
     ]
    }
   ],
   "source": [
    "class account:\n",
    "    def __init__(self,u,p):\n",
    "        self.username = u\n",
    "        self.password = p\n",
    "act = account('chandola','chandola')\n",
    "print(act.password)"
   ]
  },
  {
   "cell_type": "code",
   "execution_count": 18,
   "metadata": {},
   "outputs": [
    {
     "name": "stdout",
     "output_type": "stream",
     "text": [
      "False\n"
     ]
    }
   ],
   "source": [
    "class account:\n",
    "    def __init__(self,u):\n",
    "        self.__username = u\n",
    "        # get the password from a database\n",
    "        p = 'pwd'\n",
    "        self.__password = p # p is coming from a database\n",
    "    \n",
    "    def getUsername(self):\n",
    "        return self.__username\n",
    "    \n",
    "    def checkPassword(self,p):\n",
    "        if p == self.__getPassword():\n",
    "            return True\n",
    "        else:\n",
    "            return False\n",
    "    def __getPassword(self):\n",
    "        return self.__password\n",
    "    \n",
    "act = account('chandola')\n",
    "#print(act.getUsername())\n",
    "print(act.checkPassword('chandola'))\n",
    "#print(act.__getPassword())"
   ]
  },
  {
   "cell_type": "code",
   "execution_count": 24,
   "metadata": {},
   "outputs": [
    {
     "data": {
      "text/plain": [
       "'pwd'"
      ]
     },
     "execution_count": 24,
     "metadata": {},
     "output_type": "execute_result"
    }
   ],
   "source": [
    "act._account__password"
   ]
  },
  {
   "cell_type": "code",
   "execution_count": 116,
   "metadata": {},
   "outputs": [
    {
     "data": {
      "text/plain": [
       "'chandola'"
      ]
     },
     "execution_count": 116,
     "metadata": {},
     "output_type": "execute_result"
    }
   ],
   "source": [
    "act._account__password"
   ]
  },
  {
   "cell_type": "code",
   "execution_count": 23,
   "metadata": {},
   "outputs": [],
   "source": [
    "# this class has an __init__ function\n",
    "class myclass:\n",
    "    def __init__(self):\n",
    "        # we define a field \n",
    "        self.__classtypes=['int']"
   ]
  },
  {
   "cell_type": "markdown",
   "metadata": {},
   "source": [
    "### Variable name `mangling`\n",
    "`Python` does variable name mangling, every member with double underscore will be changed to `_object._class__variable`"
   ]
  },
  {
   "cell_type": "code",
   "execution_count": 27,
   "metadata": {},
   "outputs": [
    {
     "ename": "AttributeError",
     "evalue": "'myclass' object has no attribute '__classtypes'",
     "output_type": "error",
     "traceback": [
      "\u001b[0;31m---------------------------------------------------------------------------\u001b[0m",
      "\u001b[0;31mAttributeError\u001b[0m                            Traceback (most recent call last)",
      "\u001b[0;32m<ipython-input-27-4df42d36ba27>\u001b[0m in \u001b[0;36m<module>\u001b[0;34m\u001b[0m\n\u001b[1;32m      1\u001b[0m \u001b[0mmyobj1\u001b[0m \u001b[0;34m=\u001b[0m \u001b[0mmyclass\u001b[0m\u001b[0;34m(\u001b[0m\u001b[0;34m)\u001b[0m\u001b[0;34m\u001b[0m\u001b[0;34m\u001b[0m\u001b[0m\n\u001b[0;32m----> 2\u001b[0;31m \u001b[0mmyobj1\u001b[0m\u001b[0;34m.\u001b[0m\u001b[0m__classtypes\u001b[0m\u001b[0;34m\u001b[0m\u001b[0;34m\u001b[0m\u001b[0m\n\u001b[0m",
      "\u001b[0;31mAttributeError\u001b[0m: 'myclass' object has no attribute '__classtypes'"
     ]
    }
   ],
   "source": [
    "myobj1 = myclass()\n",
    "myobj1.__classtypes"
   ]
  },
  {
   "cell_type": "code",
   "execution_count": 28,
   "metadata": {},
   "outputs": [
    {
     "data": {
      "text/plain": [
       "['int']"
      ]
     },
     "execution_count": 28,
     "metadata": {},
     "output_type": "execute_result"
    }
   ],
   "source": [
    "myobj1._myclass__classtypes"
   ]
  },
  {
   "cell_type": "code",
   "execution_count": null,
   "metadata": {
    "collapsed": true
   },
   "outputs": [],
   "source": [
    "# the private field will be accessible to the class methods\n",
    "class myclass:\n",
    "    def __init__(self):\n",
    "        # we define a field \n",
    "        self.__classtypes=['int']\n",
    "    \n",
    "    def appendType(self,newtype):\n",
    "        self.__classtypes.append(newtype)"
   ]
  },
  {
   "cell_type": "code",
   "execution_count": null,
   "metadata": {
    "collapsed": true
   },
   "outputs": [],
   "source": [
    "myobj1 = myclass()\n",
    "myobj1.appendType('float')"
   ]
  },
  {
   "cell_type": "code",
   "execution_count": null,
   "metadata": {},
   "outputs": [],
   "source": [
    "# still cannot access the field outside\n",
    "myobj1.__classtypes"
   ]
  },
  {
   "cell_type": "code",
   "execution_count": 28,
   "metadata": {},
   "outputs": [],
   "source": [
    "# solution -- create a getter method\n",
    "class myclass:\n",
    "    def __init__(self):\n",
    "        # we define a field \n",
    "        self.__classtypes=['int']\n",
    "        self.name = 'name'\n",
    "        \n",
    "    def appendType(self,newtype):\n",
    "        self.__classtypes.append(newtype)\n",
    "        \n",
    "    def getClasstypes(self):\n",
    "        return self.__classtypes"
   ]
  },
  {
   "cell_type": "code",
   "execution_count": null,
   "metadata": {},
   "outputs": [],
   "source": []
  },
  {
   "cell_type": "code",
   "execution_count": 29,
   "metadata": {},
   "outputs": [
    {
     "data": {
      "text/plain": [
       "['int', 'float']"
      ]
     },
     "execution_count": 29,
     "metadata": {},
     "output_type": "execute_result"
    }
   ],
   "source": [
    "myobj1 = myclass()\n",
    "myobj1.appendType('float')\n",
    "myobj1.getClasstypes()"
   ]
  },
  {
   "cell_type": "code",
   "execution_count": 30,
   "metadata": {},
   "outputs": [
    {
     "data": {
      "text/plain": [
       "<bound method myclass.appendType of <__main__.myclass object at 0x10f5eb8d0>>"
      ]
     },
     "execution_count": 30,
     "metadata": {},
     "output_type": "execute_result"
    }
   ],
   "source": [
    "myobj1.appendType"
   ]
  },
  {
   "cell_type": "markdown",
   "metadata": {},
   "source": [
    "One can create `getter` and `setter` methods to manipulate fields. While the name of the methods can be arbitrary, a good programming practice is to use get`FieldNameWithoutUnderscores()` and set`FieldNameWithoutUnderscores()`"
   ]
  },
  {
   "cell_type": "markdown",
   "metadata": {},
   "source": [
    "## Object Oriented Design (OOD) Concepts\n",
    "- Encapsulation\n",
    "- Polymorphism\n",
    "- Inheritance\n",
    "\n",
    "### Encapsulation\n",
    "This is the core idea of OOD. An object is essentially data packaged with operations that can be performed on the data. This is called _encapsulation_.\n",
    "\n",
    "Allows us to decompose complex problems and provides an intuitive view of how the world works.\n",
    "\n",
    "Difference between **what** and **how**. \n",
    "\n",
    "#### What\n",
    "What does an object do? This constitutes the interface of the object that is available to the users of the object; essentially all the publicly available fields.\n",
    "\n",
    "#### How\n",
    "The actual implementation. This is hidden from the users. This may change but the interface does not.\n",
    "\n",
    "Encapsulation promotes code reuse.\n",
    "\n",
    "### Polymorphism\n",
    "Different objects might implement the same method in different ways. A good example is a ``__str__`` function that you can define within any class."
   ]
  },
  {
   "cell_type": "code",
   "execution_count": 40,
   "metadata": {},
   "outputs": [],
   "source": [
    "# the private field will be accessible to the class methods\n",
    "class myclass:\n",
    "    def __init__(self,name):\n",
    "        # we define a field \n",
    "        self.__classtypes=['int']\n",
    "        self.name = name\n",
    "    \n",
    "    def appendType(self,newtype):\n",
    "        self.__classtypes.append(newtype)"
   ]
  },
  {
   "cell_type": "code",
   "execution_count": 35,
   "metadata": {},
   "outputs": [
    {
     "data": {
      "text/plain": [
       "'<__main__.myclass object at 0x10f630c88>'"
      ]
     },
     "execution_count": 35,
     "metadata": {},
     "output_type": "execute_result"
    }
   ],
   "source": [
    "myobj1 = myclass('Varun')\n",
    "myobj1.__str__()"
   ]
  },
  {
   "cell_type": "code",
   "execution_count": 36,
   "metadata": {},
   "outputs": [
    {
     "data": {
      "text/plain": [
       "'Chandola'"
      ]
     },
     "execution_count": 36,
     "metadata": {},
     "output_type": "execute_result"
    }
   ],
   "source": [
    "myobj2 = 'Chandola'\n",
    "myobj2.__str__()"
   ]
  },
  {
   "cell_type": "code",
   "execution_count": 45,
   "metadata": {},
   "outputs": [],
   "source": [
    "# the private field will be accessible to the class methods\n",
    "class myclass:\n",
    "    def __init__(self,name):\n",
    "        # we define a field \n",
    "        self.__classtypes=['int']\n",
    "        self.name = name\n",
    "    \n",
    "    def appendType(self,newtype):\n",
    "        self.__classtypes.append(newtype)\n",
    "    \n",
    "    def __str__(self):\n",
    "        return 'This object belongs to '+self.name"
   ]
  },
  {
   "cell_type": "code",
   "execution_count": 44,
   "metadata": {},
   "outputs": [
    {
     "name": "stdout",
     "output_type": "stream",
     "text": [
      "Chandola\n"
     ]
    }
   ],
   "source": [
    "print(myobj2)"
   ]
  },
  {
   "cell_type": "code",
   "execution_count": 42,
   "metadata": {},
   "outputs": [
    {
     "data": {
      "text/plain": [
       "'<__main__.myclass object at 0x10f630ac8>'"
      ]
     },
     "execution_count": 42,
     "metadata": {},
     "output_type": "execute_result"
    }
   ],
   "source": [
    "myobj1 = myclass('Varun')\n",
    "myobj1.__str__()"
   ]
  },
  {
   "cell_type": "markdown",
   "metadata": {},
   "source": [
    "Let us create a list of different types of objects"
   ]
  },
  {
   "cell_type": "code",
   "execution_count": 46,
   "metadata": {},
   "outputs": [
    {
     "name": "stdout",
     "output_type": "stream",
     "text": [
      "<class '__main__.myclass'> <class 'str'> <class 'list'>\n"
     ]
    }
   ],
   "source": [
    "myobj1 = myclass('Varun')\n",
    "s = 'great'\n",
    "l = [4,5,3]\n",
    "print(type(myobj1),type(s),type(l))\n",
    "mylist = [myobj1,s,l]"
   ]
  },
  {
   "cell_type": "code",
   "execution_count": 17,
   "metadata": {},
   "outputs": [
    {
     "name": "stdout",
     "output_type": "stream",
     "text": [
      "This object belongs to Varun\n",
      "great\n",
      "[4, 5, 3]\n"
     ]
    }
   ],
   "source": [
    "for m in mylist:\n",
    "    print(m.__str__())"
   ]
  },
  {
   "cell_type": "markdown",
   "metadata": {},
   "source": [
    "Without knowing the type of the object, we were able to call the same function for each object and execute the object specific implementation of the function."
   ]
  },
  {
   "cell_type": "markdown",
   "metadata": {},
   "source": [
    "## Inheritance in Python\n",
    "Ability to define subclasses. New class can be defined to _borrow_ behavior from another class. New class is called a _subclass_ and the parent class is called a _superclass_\n",
    "\n",
    "Let us assume that we want to have defined a class called `Employee` that has some information about a bank employee and some supporting methods."
   ]
  },
  {
   "cell_type": "code",
   "execution_count": 86,
   "metadata": {},
   "outputs": [],
   "source": [
    "class Employee:\n",
    "    def __init__(self,firstname,lastname,empid):\n",
    "        self.__firstname = firstname\n",
    "        self.__lastname = lastname\n",
    "        self.empid = empid\n",
    "    \n",
    "    # following is a special function used by the Python in-built print() function\n",
    "    def __str__(self):\n",
    "        return \"Employee name is \"+self.__firstname+\" \"+self.__lastname\n",
    "    \n",
    "    def checkid(self,inputid):\n",
    "        if inputid == self.__empid:\n",
    "            return True\n",
    "        else:\n",
    "            return False\n",
    "    \n",
    "    def getfirstname(self):\n",
    "        return self.__firstname\n",
    "    \n",
    "    def getlastname(self):\n",
    "        return self.__lastname\n",
    "   "
   ]
  },
  {
   "cell_type": "code",
   "execution_count": null,
   "metadata": {},
   "outputs": [],
   "source": [
    "emp1.em"
   ]
  },
  {
   "cell_type": "code",
   "execution_count": 87,
   "metadata": {},
   "outputs": [
    {
     "name": "stdout",
     "output_type": "stream",
     "text": [
      "Employee name is Homer Simpson\n"
     ]
    }
   ],
   "source": [
    "emp1 = Employee(\"Homer\",\"Simpson\",777)\n",
    "print(emp1)"
   ]
  },
  {
   "cell_type": "code",
   "execution_count": 90,
   "metadata": {},
   "outputs": [
    {
     "data": {
      "text/plain": [
       "999"
      ]
     },
     "execution_count": 90,
     "metadata": {},
     "output_type": "execute_result"
    }
   ],
   "source": [
    "emp1.empid"
   ]
  },
  {
   "cell_type": "code",
   "execution_count": 77,
   "metadata": {},
   "outputs": [
    {
     "name": "stdout",
     "output_type": "stream",
     "text": [
      "True\n"
     ]
    }
   ],
   "source": [
    "print(emp1.checkid(777))"
   ]
  },
  {
   "cell_type": "markdown",
   "metadata": {},
   "source": [
    "Now we want to create a new class called `Manager` which retains some properties of an `Employee` buts add some more"
   ]
  },
  {
   "cell_type": "code",
   "execution_count": 78,
   "metadata": {},
   "outputs": [],
   "source": [
    "class Manager(Employee):\n",
    "    def __init__(self,firstname,lastname,empid):\n",
    "        super().__init__(firstname,lastname,empid)\n",
    "    "
   ]
  },
  {
   "cell_type": "code",
   "execution_count": 79,
   "metadata": {},
   "outputs": [
    {
     "name": "stdout",
     "output_type": "stream",
     "text": [
      "Employee name is Charles Burns\n"
     ]
    }
   ],
   "source": [
    "mng1 = Manager(\"Charles\",\"Burns\",666)\n",
    "print(mng1)"
   ]
  },
  {
   "cell_type": "markdown",
   "metadata": {},
   "source": [
    "But we want to add extra fields and set them in the constructor"
   ]
  },
  {
   "cell_type": "code",
   "execution_count": 65,
   "metadata": {},
   "outputs": [],
   "source": [
    "class Manager(Employee):\n",
    "    def __init__(self,firstname,lastname,empid,managerid):\n",
    "        super().__init__(firstname,lastname,empid)\n",
    "        self.__managerid = managerid\n",
    "        \n",
    "    def checkmanagerid(self,inputid):\n",
    "        if inputid == self.__managerid:\n",
    "            return True\n",
    "        else:\n",
    "            return False"
   ]
  },
  {
   "cell_type": "code",
   "execution_count": 58,
   "metadata": {},
   "outputs": [
    {
     "name": "stdout",
     "output_type": "stream",
     "text": [
      "Employee name is Charles Burns\n"
     ]
    }
   ],
   "source": [
    "mng1 = Manager(\"Charles\",\"Burns\",666,111)\n",
    "print(mng1)"
   ]
  },
  {
   "cell_type": "code",
   "execution_count": 59,
   "metadata": {},
   "outputs": [
    {
     "data": {
      "text/plain": [
       "True"
      ]
     },
     "execution_count": 59,
     "metadata": {},
     "output_type": "execute_result"
    }
   ],
   "source": [
    "mng1.checkid(666)"
   ]
  },
  {
   "cell_type": "code",
   "execution_count": 86,
   "metadata": {},
   "outputs": [
    {
     "data": {
      "text/plain": [
       "True"
      ]
     },
     "execution_count": 86,
     "metadata": {},
     "output_type": "execute_result"
    }
   ],
   "source": [
    "mng1.checkmanagerid(111)"
   ]
  },
  {
   "cell_type": "markdown",
   "metadata": {},
   "source": [
    "You can modify methods of base classes"
   ]
  },
  {
   "cell_type": "code",
   "execution_count": 66,
   "metadata": {},
   "outputs": [],
   "source": [
    "class Manager(Employee):\n",
    "    def __init__(self,firstname,lastname,empid,managerid):\n",
    "        super().__init__(firstname,lastname,empid)\n",
    "        self.__managerid = managerid\n",
    "    \n",
    "    def checkmanagerid(self,inputid):\n",
    "        if inputid == self.__managerid:\n",
    "            return True\n",
    "        else:\n",
    "            return False\n",
    "        \n",
    "    def __str__(self):\n",
    "        # why will the first line not work and the second one will\n",
    "        return \"Manager name is \"+self.getfirstname()+\" \"+self.getlastname()"
   ]
  },
  {
   "cell_type": "code",
   "execution_count": 67,
   "metadata": {},
   "outputs": [
    {
     "name": "stdout",
     "output_type": "stream",
     "text": [
      "Manager name is Charles Burns\n"
     ]
    }
   ],
   "source": [
    "mng1 = Manager(\"Charles\",\"Burns\",666,111)\n",
    "print(mng1)"
   ]
  },
  {
   "cell_type": "markdown",
   "metadata": {},
   "source": [
    "**Remember** - Sub classes cannot access private fields of the base class directly\n",
    "\n",
    "### Inheriting from multiple classes\n",
    "Consider a scenario where you have additional class, `Citizen`, that has other information about a person. Can we create a derived class that inherits properties of both `Employee` and `Citizen` class?"
   ]
  },
  {
   "cell_type": "code",
   "execution_count": 81,
   "metadata": {},
   "outputs": [],
   "source": [
    "class Citizen:\n",
    "    def __init__(self,ssn,homeaddress):\n",
    "        self.__ssn = ssn\n",
    "        self.__homeaddress = homeaddress\n",
    "    \n",
    "    def __str__(self):\n",
    "        return \"Person located at \"+self.__homeaddress\n",
    "        "
   ]
  },
  {
   "cell_type": "code",
   "execution_count": 82,
   "metadata": {},
   "outputs": [
    {
     "name": "stdout",
     "output_type": "stream",
     "text": [
      "Person located at 742 Evergreen Terrace\n"
     ]
    }
   ],
   "source": [
    "ctz1 = Citizen(\"123-45-6789\",\"742 Evergreen Terrace\")\n",
    "print(ctz1)"
   ]
  },
  {
   "cell_type": "code",
   "execution_count": 83,
   "metadata": {},
   "outputs": [],
   "source": [
    "# it is easy\n",
    "class Manager2(Employee,Citizen):\n",
    "    def __init__(self,firstname,lastname,empid,managerid,ssn,homeaddress):\n",
    "        Citizen.__init__(self,ssn,homeaddress)\n",
    "        Employee.__init__(self,firstname,lastname,empid)\n",
    "        self.__managerid = managerid\n",
    "    \n",
    "    def __str__(self):\n",
    "        return \"Manager name is \"+Employee.getfirstname(self)+\" \"+Employee.getlastname(self)+\", \"+Citizen.__str__(self)"
   ]
  },
  {
   "cell_type": "code",
   "execution_count": 84,
   "metadata": {},
   "outputs": [
    {
     "name": "stdout",
     "output_type": "stream",
     "text": [
      "Manager name is Charles Burns, Person located at 742 Evergreen Terrace\n"
     ]
    }
   ],
   "source": [
    "mgr2 = Manager2(\"Charles\",\"Burns\",666,111,\"123-45-6789\",\"742 Evergreen Terrace\")\n",
    "print(mgr2)"
   ]
  },
  {
   "cell_type": "code",
   "execution_count": 94,
   "metadata": {},
   "outputs": [],
   "source": [
    "# it is easy\n",
    "class Manager3(Citizen,Employee):\n",
    "    \n",
    "    def __str__(self):\n",
    "        return \"Manager name is \"+Employee.getfirstname(self)+\" \"+Employee.getlastname(self)+\", \"+Citizen.__str__(self)"
   ]
  },
  {
   "cell_type": "code",
   "execution_count": 95,
   "metadata": {},
   "outputs": [
    {
     "ename": "TypeError",
     "evalue": "__init__() missing 2 required positional arguments: 'ssn' and 'homeaddress'",
     "output_type": "error",
     "traceback": [
      "\u001b[0;31m---------------------------------------------------------------------------\u001b[0m",
      "\u001b[0;31mTypeError\u001b[0m                                 Traceback (most recent call last)",
      "\u001b[0;32m<ipython-input-95-bf202d2a6bd2>\u001b[0m in \u001b[0;36m<module>\u001b[0;34m\u001b[0m\n\u001b[0;32m----> 1\u001b[0;31m \u001b[0mmgr3\u001b[0m \u001b[0;34m=\u001b[0m \u001b[0mManager3\u001b[0m\u001b[0;34m(\u001b[0m\u001b[0;34m)\u001b[0m\u001b[0;34m\u001b[0m\u001b[0;34m\u001b[0m\u001b[0m\n\u001b[0m\u001b[1;32m      2\u001b[0m \u001b[0;34m\u001b[0m\u001b[0m\n",
      "\u001b[0;31mTypeError\u001b[0m: __init__() missing 2 required positional arguments: 'ssn' and 'homeaddress'"
     ]
    }
   ],
   "source": [
    "mgr3 = Manager3()\n",
    "\n"
   ]
  }
 ],
 "metadata": {
  "kernelspec": {
   "display_name": "Python 3",
   "language": "python",
   "name": "python3"
  },
  "language_info": {
   "codemirror_mode": {
    "name": "ipython",
    "version": 3
   },
   "file_extension": ".py",
   "mimetype": "text/x-python",
   "name": "python",
   "nbconvert_exporter": "python",
   "pygments_lexer": "ipython3",
   "version": "3.6.8"
  }
 },
 "nbformat": 4,
 "nbformat_minor": 2
}
