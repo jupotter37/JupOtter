{
 "cells": [
  {
   "cell_type": "markdown",
   "metadata": {},
   "source": [
    "## Earth Engine and Live Tiles for Web Maps\n",
    "\n",
    "### 1. Build a tile export service mixing precalculated tiles with live tiles from Earth Engine\n",
    "\n",
    "This Section shows an example of how to mix pre-calculated tiles from Earth Engine (hosted on GCS) with live-calculated tiles from Earth Engine (past zoom level 12).\n",
    "\n",
    "Based on code snippets drawn from [here](https://github.com/wri/gfw-api/blob/master/gfw/gee_tiles.py).\n",
    "\n",
    "Note: the tokens for the live Earth Engine tiles expire every 3 days, and so this code will need to be re-run with an authorised EE account to generate valid (live) tiles.\n",
    "\n",
    "### 2. Best Sentinel 2 imagery for specific points and times\n",
    "\n",
    "This section shows how to select the best (cloud free) images of Sentinel 2, for specific times and locations, and present them on a web map."
   ]
  },
  {
   "cell_type": "code",
   "execution_count": null,
   "metadata": {
    "collapsed": true
   },
   "outputs": [],
   "source": [
    "import os\n",
    "import ee\n",
    "import json\n",
    "\n",
    "ee.Initialize()"
   ]
  },
  {
   "cell_type": "code",
   "execution_count": null,
   "metadata": {
    "collapsed": true
   },
   "outputs": [],
   "source": [
    "def tile_url(image, viz_params=None):\n",
    "    \"\"\"Create a target url for tiles for an image.\n",
    "    e.g.\n",
    "    im = ee.Image(\"LE7_TOA_1YEAR/\" + year).select(\"B3\",\"B2\",\"B1\")\n",
    "    viz = {'opacity': 1, 'gain':3.5, 'bias':4, 'gamma':1.5}\n",
    "    url = tile_url(image=im),viz_params=viz)\n",
    "    \"\"\"\n",
    "    if viz_params:\n",
    "        d = image.getMapId(viz_params)\n",
    "    else:\n",
    "        d = image.getMapId()\n",
    "    base_url = 'https://earthengine.googleapis.com'\n",
    "    url = (base_url + '/map/' + d['mapid'] + '/{z}/{x}/{y}?token=' + d['token'])\n",
    "    return url"
   ]
  },
  {
   "cell_type": "markdown",
   "metadata": {},
   "source": [
    "### EE pansharpened image\n",
    "\n",
    "Below calculates a pan-sharpended image from Landsat, and creates a tile url with temporary authentitication."
   ]
  },
  {
   "cell_type": "code",
   "execution_count": null,
   "metadata": {
    "collapsed": true
   },
   "outputs": [],
   "source": [
    "collection = ee.ImageCollection('LANDSAT/LC8_L1T').filterDate('2016-01-01T00:00','2017-01-01T00:00')\n",
    "\n",
    "composite = ee.Algorithms.SimpleLandsatComposite(collection=collection, percentile=50,\n",
    "                                                 maxDepth=80, cloudScoreRange=1, asFloat=True)\n",
    "\n",
    "hsv2 = composite.select(['B4', 'B3', 'B2']).rgbToHsv()\n",
    "\n",
    "sharpened2 = ee.Image.cat([hsv2.select('hue'), hsv2.select('saturation'),\n",
    "                           composite.select('B8')]).hsvToRgb().visualize(gain=1000, gamma= [1.15, 1.4, 1.15])\n",
    "\n",
    "\n",
    "ee_tiles = tile_url(sharpened2)\n",
    "ee_tiles"
   ]
  },
  {
   "cell_type": "markdown",
   "metadata": {},
   "source": [
    "## Use the vizzuality microservice to retrieve the url\n",
    "\n",
    "Microservice based on the preceeding code should give back the tileset"
   ]
  },
  {
   "cell_type": "code",
   "execution_count": null,
   "metadata": {
    "collapsed": true
   },
   "outputs": [],
   "source": [
    "import requests"
   ]
  },
  {
   "cell_type": "code",
   "execution_count": null,
   "metadata": {
    "collapsed": true
   },
   "outputs": [],
   "source": [
    "r = requests.get('https://staging-api.globalforestwatch.org/v1/landsat-tiles/2015')\n",
    "print(r.status_code)\n",
    "r.json()"
   ]
  },
  {
   "cell_type": "code",
   "execution_count": null,
   "metadata": {
    "collapsed": true
   },
   "outputs": [],
   "source": [
    "ee_tiles= r.json().get('data').get('attributes').get('url')\n",
    "print(ee_tiles)"
   ]
  },
  {
   "cell_type": "markdown",
   "metadata": {},
   "source": [
    "### Display the results on a map"
   ]
  },
  {
   "cell_type": "code",
   "execution_count": null,
   "metadata": {
    "collapsed": true
   },
   "outputs": [],
   "source": [
    "pre_calculated_tileset=\"https://storage.googleapis.com/landsat-cache/2015/{z}/{x}/{y}.png\""
   ]
  },
  {
   "cell_type": "code",
   "execution_count": null,
   "metadata": {
    "collapsed": true
   },
   "outputs": [],
   "source": [
    "import folium"
   ]
  },
  {
   "cell_type": "code",
   "execution_count": null,
   "metadata": {
    "collapsed": true
   },
   "outputs": [],
   "source": [
    "map = folium.Map(location=[28.29, -16.6], zoom_start=2, tiles='Mapbox Bright' )"
   ]
  },
  {
   "cell_type": "code",
   "execution_count": null,
   "metadata": {
    "collapsed": true
   },
   "outputs": [],
   "source": [
    "map.add_tile_layer(tiles=pre_calculated_tileset, max_zoom=11, min_zoom=0, attr='Earth Engine tiles by Vizzuality')\n",
    "map.add_tile_layer(tiles=ee_tiles, max_zoom=20, min_zoom=13, attr=\"Live EE tiles\")"
   ]
  },
  {
   "cell_type": "code",
   "execution_count": null,
   "metadata": {
    "collapsed": true
   },
   "outputs": [],
   "source": [
    "map"
   ]
  },
  {
   "cell_type": "markdown",
   "metadata": {
    "collapsed": true
   },
   "source": [
    "## 2. Sentinel"
   ]
  },
  {
   "cell_type": "code",
   "execution_count": null,
   "metadata": {
    "collapsed": true
   },
   "outputs": [],
   "source": [
    "import folium\n",
    "import os\n",
    "import ee\n",
    "import json\n",
    "ee.Initialize()"
   ]
  },
  {
   "cell_type": "markdown",
   "metadata": {},
   "source": [
    "The below Earth Engine code returns the optimum cloud-free image for a given point and time range."
   ]
  },
  {
   "cell_type": "code",
   "execution_count": null,
   "metadata": {
    "collapsed": true
   },
   "outputs": [],
   "source": [
    "def tile_url(image, viz_params=None):\n",
    "    \"\"\"Create a target url for tiles for an image.\n",
    "    e.g.\n",
    "    im = ee.Image(\"LE7_TOA_1YEAR/\" + year).select(\"B3\",\"B2\",\"B1\")\n",
    "    viz = {'opacity': 1, 'gain':3.5, 'bias':4, 'gamma':1.5}\n",
    "    url = tile_url(image=im),viz_params=viz)\n",
    "    \"\"\"\n",
    "    if viz_params:\n",
    "        d = image.getMapId(viz_params)\n",
    "    else:\n",
    "        d = image.getMapId()\n",
    "    base_url = 'https://earthengine.googleapis.com'\n",
    "    url = (base_url + '/map/' + d['mapid'] + '/{z}/{x}/{y}?token=' + d['token'])\n",
    "    return url\n",
    "\n",
    "\n",
    "def proxy_sentinel(lat, lon, start, end):\n",
    "    \"\"\"\n",
    "    Sentinel covers all continental land surfaces (including inland waters) between latitudes 56° south and 83° north\n",
    "        all coastal waters up to 20 km from the shore\n",
    "        all islands greater than 100 km2\n",
    "        all EU islands\n",
    "        the Mediterranean Sea\n",
    "        all closed seas (e.g. Caspian Sea).\n",
    "    \n",
    "    Filter by tiles that intersect a lat,lon point, and are within a date range, and have less than\n",
    "    10% cloud cover, then find the lowest scoring cloud image.\n",
    "    \n",
    "    Note, we first filter by cloud less than X% and then pick the top, rather than just directly pick\n",
    "    the best cloud scoring image, as these operations default to a subset of images. So we want to \n",
    "    pick the best image, from a pre-selected subset of good images.\n",
    "    \n",
    "    Note the url generated expires after a few days and needs to be refreshed.\n",
    "    e.g. variables\n",
    "    lat = -16.66\n",
    "    lon = 28.24\n",
    "    start = '2017-01-01'\n",
    "    end = '2017-03-01'\n",
    "    \"\"\"\n",
    "    #if lat >= 83 or lat <= -56:\n",
    "    #    return {'status': 'Latitute {0} invalid: Must be between -56 and 83'.format(lat)}\n",
    "    #else:\n",
    "    try:\n",
    "        point = ee.Geometry.Point(lat, lon)\n",
    "        S2 = ee.ImageCollection('COPERNICUS/S2'\n",
    "                               ).filterDate(\n",
    "                                start, end).filterBounds(\n",
    "                                point).sort('CLOUDY_PIXEL_PERCENTAGE', True).first()\n",
    "        S2 = ee.Image(S2)\n",
    "        d = S2.getInfo()       # grab a dictionary of the image metadata\n",
    "        S2 = S2.divide(10000)  # Convert to Top of the atmosphere reflectance\n",
    "        S2 = S2.visualize(bands=[\"B4\", \"B3\", \"B2\"], min=0, max=0.3, opacity=1.0) # Convert to styled RGB image\n",
    "        image_tiles = tile_url(S2)\n",
    "        boundary = ee.Feature(ee.Geometry.LinearRing(d.get('properties').get(\"system:footprint\").get('coordinates')))\n",
    "        boundary_tiles = tile_url(boundary, {'color': '4eff32'})\n",
    "        meta = get_image_metadata(d)\n",
    "        output = {}\n",
    "        output = {'boundary_tiles': boundary_tiles,\n",
    "                  'image_tiles': image_tiles,\n",
    "                  'metadata': meta,\n",
    "                  'sucsess': True}\n",
    "\n",
    "        return output\n",
    "    except:\n",
    "        return {'sucsess': False}\n",
    "\n",
    "\n",
    "def get_image_metadata(d):\n",
    "    \"\"\"Return a dictionary of metadata\"\"\"\n",
    "    image_name = d.get('id')\n",
    "    date_info = image_name.split('COPERNICUS/S2/')[1]\n",
    "    date_time = ''.join([date_info[0:4],'-',date_info[4:6],'-',date_info[6:8],' ',\n",
    "                      date_info[9:11],':',date_info[11:13],':',date_info[13:15],\"Z\"])\n",
    "    product_id = d.get('properties').get('PRODUCT_ID')\n",
    "    meta = {}\n",
    "    meta = {'image_name': image_name, 'date_time': date_time, 'product_id': product_id}\n",
    "    return meta"
   ]
  },
  {
   "cell_type": "markdown",
   "metadata": {},
   "source": [
    "Sentinel-2: MultiSpectral Instrument (MSI), Level-1C\n",
    "Jun 23, 2015 - Aug 30, 2017\n",
    "\n",
    "Info on [Sentinel Naming conventions](https://earth.esa.int/web/sentinel/user-guides/sentinel-2-msi/naming-convention)\n",
    "\n",
    "First comes YYYYMMDDHHMMSS then _ then 15 characters of ID and then _ then tile number info"
   ]
  },
  {
   "cell_type": "code",
   "execution_count": null,
   "metadata": {
    "collapsed": true,
    "scrolled": false
   },
   "outputs": [],
   "source": [
    "%%time\n",
    "# london\n",
    "#lon = 51.64167220085054\n",
    "#lat = 0.03\n",
    "\n",
    "# oslo\n",
    "#lon = 10.745\n",
    "#lat = 59.922\n",
    "\n",
    "# Tenerife\n",
    "lat = -16.644\n",
    "lon = 28.266\n",
    "\n",
    "# Fiji\n",
    "#lat = 177.825\n",
    "#lon = -17.916\n",
    "\n",
    "start ='2017-01-01'\n",
    "end ='2017-01-10'\n",
    "\n",
    "sentinel = proxy_sentinel(lon=lon, lat=lat, start=start, end=end)\n",
    "\n"
   ]
  },
  {
   "cell_type": "code",
   "execution_count": null,
   "metadata": {
    "collapsed": true
   },
   "outputs": [],
   "source": [
    "if sentinel.get('sucsess'):\n",
    "    pass\n",
    "else:\n",
    "    raise ValueError('no data')\n",
    "\n",
    "print(sentinel.get('metadata'))\n",
    "\n",
    "sentinel_map = folium.Map(location=[lon, lat], zoom_start=9, tiles='Mapbox Bright' )\n",
    "sentinel_map.add_tile_layer(tiles=sentinel.get('image_tiles'), max_zoom=19, min_zoom=6, attr=\"Live EE tiles\")\n",
    "sentinel_map.add_tile_layer(tiles=sentinel.get('boundary_tiles'), max_zoom=19, min_zoom=6, attr=\"Live EE tiles\")\n",
    "sentinel_map"
   ]
  },
  {
   "cell_type": "code",
   "execution_count": null,
   "metadata": {
    "collapsed": true
   },
   "outputs": [],
   "source": [
    "sentinel"
   ]
  },
  {
   "cell_type": "markdown",
   "metadata": {
    "collapsed": true
   },
   "source": [
    "## Sentinel  microservice V 0.1\n",
    "\n",
    "We have hooked-up a version of the above sentinel code to our API ([here](https://github.com/gfw-api/gfw-analysis-gee)). An example of how to call it to get the same results as above is as follows: \n",
    "\n",
    "{'lat':'-16.644','lon':'28.266', 'start':'2017-01-01', 'end': \"2017-09-10\"} Wall time: 25.6 s\n",
    "{'lat':'-16.644','lon':'28.266', 'start':'2017-01-01', 'end': \"2017-01-10\"} Wall time: 25.8 s\n"
   ]
  },
  {
   "cell_type": "code",
   "execution_count": null,
   "metadata": {
    "collapsed": true
   },
   "outputs": [],
   "source": [
    "import requests\n",
    "import folium"
   ]
  },
  {
   "cell_type": "code",
   "execution_count": null,
   "metadata": {
    "collapsed": true
   },
   "outputs": [],
   "source": [
    "%%time\n",
    "url = \"https://staging-api.globalforestwatch.org/v1/sentinel-tiles\"\n",
    "params= {'lat':'-16.644','lon':'28.266', 'start':'2016-01-01', 'end': \"2017-01-10\"}\n",
    "r = requests.get(url, params=params)\n",
    "r.status_code"
   ]
  },
  {
   "cell_type": "code",
   "execution_count": null,
   "metadata": {
    "collapsed": true
   },
   "outputs": [],
   "source": [
    "\n",
    "print(r.json())\n",
    "\n",
    "dt = r.json().get('data').get('attributes').get('date_time')\n",
    "boundary = r.json().get('data').get('attributes').get('url_boundary')\n",
    "sentinel_image = r.json().get('data').get('attributes').get('url_image')"
   ]
  },
  {
   "cell_type": "markdown",
   "metadata": {},
   "source": [
    "```\n",
    "{'data': {'attributes': {'date_time': '2017-01-01 11:52:12Z', 'product_id': 'S2A_MSIL1C_20170101T115212_N0204_R123_T28RCS_20170101T115212', 'url_boundary': 'https://earthengine.googleapis.com/map/4b1b9c6f82d50796562521502bc4d9a2/{z}/{x}/{y}?token=fb2181f663a8f2895224fecddd8b1ec4', 'url_image': 'https://earthengine.googleapis.com/map/0341ef17ae8e75cf0b53b5de5fd767ff/{z}/{x}/{y}?token=df18de8c707463d20912e8699f7801b8'}, 'id': None, 'type': 'sentinel_tiles_url'}}\n",
    "\n",
    "```"
   ]
  },
  {
   "cell_type": "code",
   "execution_count": null,
   "metadata": {
    "collapsed": true
   },
   "outputs": [],
   "source": [
    "sentinel_map = folium.Map(location=[float(params['lon']), float(params['lat'])], zoom_start=9, tiles='Mapbox Bright' )\n",
    "sentinel_map.add_tile_layer(tiles=sentinel_image, max_zoom=19, min_zoom=6, attr=\"Live EE tiles\")\n",
    "sentinel_map.add_tile_layer(tiles=boundary, max_zoom=19, min_zoom=6, attr=\"Live EE tiles\")\n",
    "sentinel_map"
   ]
  },
  {
   "cell_type": "markdown",
   "metadata": {
    "collapsed": true
   },
   "source": [
    "## Sentinel version 2\n",
    "\n",
    "We now need to modify the Sentinel service.\n",
    "\n",
    "We will experiment with a variety of improvements:\n",
    "\n",
    "1. Possibly a wider area (composite/mosaic) of tiles returned\n",
    "2. Definitley need to return a time-stack of tiles \n",
    "3. Metadata to accompany the tiles that would let a user click through on the front end\n",
    "4. Thumbnails for tiles\n",
    "5. Custom visulization properties?\n",
    "6. Possibly NDVI visulization?\n",
    "\n",
    "We should aim to create a microservice so that it emmits something like the following:\n",
    "\n",
    "input request:\n",
    "```\n",
    "url = \"https://staging-api.globalforestwatch.org/v1/high-res-tiles\"\n",
    "params= {'lat':'-16.644','lon':'28.266', 'start':'2016-01-01', 'end': \"2017-01-10\"}\n",
    "r = requests.get(url, params=params)\n",
    "```\n",
    "\n",
    "output:\n",
    "\n",
    "```\n",
    "{\n",
    "{source:'sentinel2',\n",
    " cloud_score: 100,\n",
    " date:'2017-01-01 11:52:12Z',\n",
    " metadata:'S2A_MSIL1C_20170101T115212_N0204_R123_T28RCS_20170101T115212',\n",
    " tile_url:'https://earthengine.googleapis.com/map/0341ef17ae8e75cf0b53b5de5fd767ff/{z}/{x}/{y}?token=df18de8c707463d20912e8699f7801b8',\n",
    " thumbnail_url:'https://earthengine.googleapis.com//api/thumb?thumbid=2a7adddc1b2fbd8d3cc773be997b290c&token=d28945a4fd78224ad39d3aecdc7445f4',\n",
    " },\n",
    " {...},   <--- need as many elements as there are unique images in the date range that intersect with the point\n",
    "}\n",
    "\n",
    "\n",
    "```"
   ]
  },
  {
   "cell_type": "code",
   "execution_count": 1,
   "metadata": {},
   "outputs": [],
   "source": [
    "import folium\n",
    "import os\n",
    "import ee\n",
    "import json\n",
    "import requests\n",
    "import math\n",
    "import maya\n",
    "import numpy as np\n",
    "from scipy import misc\n",
    "import shutil\n",
    "ee.Initialize()"
   ]
  },
  {
   "cell_type": "code",
   "execution_count": 2,
   "metadata": {},
   "outputs": [],
   "source": [
    "def tile_url(image, viz_params=None):\n",
    "    \"\"\"Create a target url for tiles for an image.\n",
    "    e.g.\n",
    "    im = ee.Image(\"LE7_TOA_1YEAR/\" + year).select(\"B3\",\"B2\",\"B1\")\n",
    "    viz = {'opacity': 1, 'gain':3.5, 'bias':4, 'gamma':1.5}\n",
    "    url = tile_url(image=im),viz_params=viz)\n",
    "    \"\"\"\n",
    "    if viz_params:\n",
    "        d = image.getMapId(viz_params)\n",
    "    else:\n",
    "        d = image.getMapId()\n",
    "    base_url = 'https://earthengine.googleapis.com'\n",
    "    url = (base_url + '/map/' + d['mapid'] + '/{z}/{x}/{y}?token=' + d['token'])\n",
    "    return url\n",
    "\n",
    "\n",
    "def proxy_sentinel(lat, lon, start, end):\n",
    "    \"\"\"\n",
    "    Sentinel covers all continental land surfaces (including inland waters) between latitudes 56° south and 83° north\n",
    "        all coastal waters up to 20 km from the shore\n",
    "        all islands greater than 100 km2\n",
    "        all EU islands\n",
    "        the Mediterranean Sea\n",
    "        all closed seas (e.g. Caspian Sea).\n",
    "    \n",
    "    Filter by tiles that intersect a lat,lon point, and are within a date range, and have less than\n",
    "    10% cloud cover, then find the lowest scoring cloud image.\n",
    "    \n",
    "    Note, we first filter by cloud less than X% and then pick the top, rather than just directly pick\n",
    "    the best cloud scoring image, as these operations default to a subset of images. So we want to \n",
    "    pick the best image, from a pre-selected subset of good images.\n",
    "    \n",
    "    Note the url generated expires after a few days and needs to be refreshed.\n",
    "    e.g. variables\n",
    "    lat = -16.66\n",
    "    lon = 28.24\n",
    "    start = '2017-01-01'\n",
    "    end = '2017-03-01'\n",
    "    \"\"\"\n",
    "    #if lat >= 83 or lat <= -56:\n",
    "    #    return {'status': 'Latitute {0} invalid: Must be between -56 and 83'.format(lat)}\n",
    "    #else:\n",
    "    try:\n",
    "        point = ee.Geometry.Point(lat, lon)\n",
    "        S2 = ee.ImageCollection('COPERNICUS/S2'\n",
    "                               ).filterDate(\n",
    "                                start, end).filterBounds(\n",
    "                                point).sort('CLOUDY_PIXEL_PERCENTAGE', True).first()\n",
    "        S2 = ee.Image(S2)\n",
    "        d = S2.getInfo()       # grab a dictionary of the image metadata\n",
    "        S2 = S2.divide(10000)  # Convert to Top of the atmosphere reflectance\n",
    "        S2 = S2.visualize(bands=[\"B4\", \"B3\", \"B2\"], min=0, max=0.3, opacity=1.0) # Convert to styled RGB image\n",
    "        return S2\n",
    "        image_tiles = tile_url(S2)\n",
    "        boundary = ee.Feature(ee.Geometry.LinearRing(d.get('properties').get(\"system:footprint\").get('coordinates')))\n",
    "        boundary_tiles = tile_url(boundary, {'color': '4eff32'})\n",
    "        meta = get_image_metadata(d)\n",
    "        output = {}\n",
    "        output = {'boundary_tiles': boundary_tiles,\n",
    "                  'image_tiles': image_tiles,\n",
    "                  'metadata': meta,\n",
    "                  'sucsess': True}\n",
    "\n",
    "        return output\n",
    "    except:\n",
    "        return {'sucsess': False}\n",
    "\n",
    "\n",
    "def get_image_metadata(d):\n",
    "    \"\"\"Return a dictionary of metadata\"\"\"\n",
    "    image_name = d.get('id')\n",
    "    date_info = image_name.split('COPERNICUS/S2/')[1]\n",
    "    date_time = ''.join([date_info[0:4],'-',date_info[4:6],'-',date_info[6:8],' ',\n",
    "                      date_info[9:11],':',date_info[11:13],':',date_info[13:15],\"Z\"])\n",
    "    product_id = d.get('properties').get('PRODUCT_ID')\n",
    "    meta = {}\n",
    "    meta = {'image_name': image_name, 'date_time': date_time, 'product_id': product_id}\n",
    "    return meta"
   ]
  },
  {
   "cell_type": "code",
   "execution_count": 3,
   "metadata": {},
   "outputs": [],
   "source": [
    "# Tenerife\n",
    "lat = -16.644\n",
    "lon = 28.266\n",
    "\n",
    "start ='2017-01-01'\n",
    "end ='2017-02-10'\n",
    "\n",
    "sentinel = proxy_sentinel(lon=lon, lat=lat, start=start, end=end)"
   ]
  },
  {
   "cell_type": "code",
   "execution_count": 6,
   "metadata": {},
   "outputs": [
    {
     "data": {
      "text/plain": [
       "'https://earthengine.googleapis.com//api/thumb?thumbid=2a7adddc1b2fbd8d3cc773be997b290c&token=d28945a4fd78224ad39d3aecdc7445f4'"
      ]
     },
     "execution_count": 6,
     "metadata": {},
     "output_type": "execute_result"
    }
   ],
   "source": [
    "sentinel.getThumbURL()"
   ]
  },
  {
   "cell_type": "code",
   "execution_count": 17,
   "metadata": {},
   "outputs": [
    {
     "name": "stdout",
     "output_type": "stream",
     "text": [
      "<class 'ee.image.Image'>\n",
      "<class 'ee.image.Image'>\n",
      "<class 'ee.image.Image'>\n",
      "<class 'ee.image.Image'>\n",
      "<class 'ee.image.Image'>\n",
      "CPU times: user 245 ms, sys: 43.8 ms, total: 289 ms\n",
      "Wall time: 27.4 s\n"
     ]
    }
   ],
   "source": [
    "%%time\n",
    "# - Synchronous version -\n",
    "# Downloading thumbnail images test\n",
    "for x in [1, 2, 3, 4, 6]:\n",
    "    \n",
    "    start =f'2017-0{x}-01'\n",
    "    end =f'2017-0{x}-25'\n",
    "    sentinel = proxy_sentinel(lon=lon, lat=lat, start=start, end=end)\n",
    "    print(type(sentinel))\n",
    "    r = requests.get(sentinel.getThumbURL({'dimensions':[250,250]}), stream=True)\n",
    "    if r.status_code == 200:\n",
    "        with open(f'./pics/mythumb{x}.png', 'wb') as f:\n",
    "            r.raw.decode_content = True\n",
    "            shutil.copyfileobj(r.raw, f)    "
   ]
  },
  {
   "cell_type": "code",
   "execution_count": null,
   "metadata": {
    "collapsed": true
   },
   "outputs": [],
   "source": [
    "tile_url=sentinel.getThumbURL()\n",
    "im_arrays = misc.imread(requests.get(tile_url, stream=True).raw, mode='RGBA')"
   ]
  },
  {
   "cell_type": "code",
   "execution_count": null,
   "metadata": {
    "collapsed": true
   },
   "outputs": [],
   "source": [
    "im_arrays"
   ]
  },
  {
   "cell_type": "markdown",
   "metadata": {},
   "source": [
    "Async code in Python:\n",
    "\n",
    "https://terriblecode.com/blog/asynchronous-http-requests-in-python/\n",
    "\n",
    "Will need to make the requests asyncronously."
   ]
  },
  {
   "cell_type": "code",
   "execution_count": null,
   "metadata": {
    "collapsed": true
   },
   "outputs": [],
   "source": []
  },
  {
   "cell_type": "code",
   "execution_count": null,
   "metadata": {
    "collapsed": true
   },
   "outputs": [],
   "source": []
  },
  {
   "cell_type": "code",
   "execution_count": 7,
   "metadata": {},
   "outputs": [
    {
     "name": "stdout",
     "output_type": "stream",
     "text": [
      "ee.ComputedObject({\n",
      "  \"type\": \"Invocation\",\n",
      "  \"arguments\": {\n",
      "    \"object\": {\n",
      "      \"type\": \"Invocation\",\n",
      "      \"arguments\": {\n",
      "        \"image\": {\n",
      "          \"type\": \"Invocation\",\n",
      "          \"arguments\": {\n",
      "            \"image1\": {\n",
      "              \"type\": \"Invocation\",\n",
      "              \"arguments\": {\n",
      "                \"collection\": {\n",
      "                  \"type\": \"Invocation\",\n",
      "                  \"arguments\": {\n",
      "                    \"collection\": {\n",
      "                      \"type\": \"Invocation\",\n",
      "                      \"arguments\": {\n",
      "                        \"collection\": {\n",
      "                          \"type\": \"Invocation\",\n",
      "                          \"arguments\": {\n",
      "                            \"collection\": {\n",
      "                              \"type\": \"Invocation\",\n",
      "                              \"arguments\": {\n",
      "                                \"id\": \"COPERNICUS/S2\"\n",
      "                              },\n",
      "                              \"functionName\": \"ImageCollection.load\"\n",
      "                            },\n",
      "                            \"filter\": {\n",
      "                              \"type\": \"Invocation\",\n",
      "                              \"arguments\": {\n",
      "                                \"rightField\": \"system:time_start\",\n",
      "                                \"leftValue\": {\n",
      "                                  \"type\": \"Invocation\",\n",
      "                                  \"arguments\": {\n",
      "                                    \"start\": \"2017-01-01\",\n",
      "                                    \"end\": \"2017-02-10\"\n",
      "                                  },\n",
      "                                  \"functionName\": \"DateRange\"\n",
      "                                }\n",
      "                              },\n",
      "                              \"functionName\": \"Filter.dateRangeContains\"\n",
      "                            }\n",
      "                          },\n",
      "                          \"functionName\": \"Collection.filter\"\n",
      "                        },\n",
      "                        \"filter\": {\n",
      "                          \"type\": \"Invocation\",\n",
      "                          \"arguments\": {\n",
      "                            \"leftField\": \".all\",\n",
      "                            \"rightValue\": {\n",
      "                              \"type\": \"Invocation\",\n",
      "                              \"arguments\": {\n",
      "                                \"geometry\": {\n",
      "                                  \"type\": \"Point\",\n",
      "                                  \"coordinates\": [\n",
      "                                    -16.644,\n",
      "                                    28.266\n",
      "                                  ]\n",
      "                                }\n",
      "                              },\n",
      "                              \"functionName\": \"Feature\"\n",
      "                            }\n",
      "                          },\n",
      "                          \"functionName\": \"Filter.intersects\"\n",
      "                        }\n",
      "                      },\n",
      "                      \"functionName\": \"Collection.filter\"\n",
      "                    },\n",
      "                    \"key\": \"CLOUDY_PIXEL_PERCENTAGE\",\n",
      "                    \"ascending\": true\n",
      "                  },\n",
      "                  \"functionName\": \"Collection.limit\"\n",
      "                }\n",
      "              },\n",
      "              \"functionName\": \"Collection.first\"\n",
      "            },\n",
      "            \"image2\": {\n",
      "              \"type\": \"Invocation\",\n",
      "              \"arguments\": {\n",
      "                \"value\": 10000\n",
      "              },\n",
      "              \"functionName\": \"Image.constant\"\n",
      "            }\n",
      "          },\n",
      "          \"functionName\": \"Image.divide\"\n",
      "        },\n",
      "        \"bands\": [\n",
      "          \"B4\",\n",
      "          \"B3\",\n",
      "          \"B2\"\n",
      "        ],\n",
      "        \"min\": 0,\n",
      "        \"max\": 0.3,\n",
      "        \"opacity\": 1.0\n",
      "      },\n",
      "      \"functionName\": \"Image.visualize\"\n",
      "    },\n",
      "    \"property\": \"metadata\"\n",
      "  },\n",
      "  \"functionName\": \"Element.get\"\n",
      "})\n"
     ]
    },
    {
     "ename": "AttributeError",
     "evalue": "'ComputedObject' object has no attribute 'lower'",
     "output_type": "error",
     "traceback": [
      "\u001b[0;31m---------------------------------------------------------------------------\u001b[0m",
      "\u001b[0;31mAttributeError\u001b[0m                            Traceback (most recent call last)",
      "\u001b[0;32m<ipython-input-7-6e4f823cb11e>\u001b[0m in \u001b[0;36m<module>\u001b[0;34m()\u001b[0m\n\u001b[1;32m      7\u001b[0m \u001b[0;34m\u001b[0m\u001b[0m\n\u001b[1;32m      8\u001b[0m \u001b[0msentinel_map\u001b[0m \u001b[0;34m=\u001b[0m \u001b[0mfolium\u001b[0m\u001b[0;34m.\u001b[0m\u001b[0mMap\u001b[0m\u001b[0;34m(\u001b[0m\u001b[0mlocation\u001b[0m\u001b[0;34m=\u001b[0m\u001b[0;34m[\u001b[0m\u001b[0mlon\u001b[0m\u001b[0;34m,\u001b[0m \u001b[0mlat\u001b[0m\u001b[0;34m]\u001b[0m\u001b[0;34m,\u001b[0m \u001b[0mzoom_start\u001b[0m\u001b[0;34m=\u001b[0m\u001b[0;36m9\u001b[0m\u001b[0;34m,\u001b[0m \u001b[0mtiles\u001b[0m\u001b[0;34m=\u001b[0m\u001b[0;34m'Mapbox Bright'\u001b[0m \u001b[0;34m)\u001b[0m\u001b[0;34m\u001b[0m\u001b[0m\n\u001b[0;32m----> 9\u001b[0;31m \u001b[0msentinel_map\u001b[0m\u001b[0;34m.\u001b[0m\u001b[0madd_tile_layer\u001b[0m\u001b[0;34m(\u001b[0m\u001b[0mtiles\u001b[0m\u001b[0;34m=\u001b[0m\u001b[0msentinel\u001b[0m\u001b[0;34m.\u001b[0m\u001b[0mget\u001b[0m\u001b[0;34m(\u001b[0m\u001b[0;34m'image_tiles'\u001b[0m\u001b[0;34m)\u001b[0m\u001b[0;34m,\u001b[0m \u001b[0mmax_zoom\u001b[0m\u001b[0;34m=\u001b[0m\u001b[0;36m19\u001b[0m\u001b[0;34m,\u001b[0m \u001b[0mmin_zoom\u001b[0m\u001b[0;34m=\u001b[0m\u001b[0;36m6\u001b[0m\u001b[0;34m,\u001b[0m \u001b[0mattr\u001b[0m\u001b[0;34m=\u001b[0m\u001b[0;34m\"Live EE tiles\"\u001b[0m\u001b[0;34m)\u001b[0m\u001b[0;34m\u001b[0m\u001b[0m\n\u001b[0m\u001b[1;32m     10\u001b[0m \u001b[0msentinel_map\u001b[0m\u001b[0;34m.\u001b[0m\u001b[0madd_tile_layer\u001b[0m\u001b[0;34m(\u001b[0m\u001b[0mtiles\u001b[0m\u001b[0;34m=\u001b[0m\u001b[0msentinel\u001b[0m\u001b[0;34m.\u001b[0m\u001b[0mget\u001b[0m\u001b[0;34m(\u001b[0m\u001b[0;34m'boundary_tiles'\u001b[0m\u001b[0;34m)\u001b[0m\u001b[0;34m,\u001b[0m \u001b[0mmax_zoom\u001b[0m\u001b[0;34m=\u001b[0m\u001b[0;36m19\u001b[0m\u001b[0;34m,\u001b[0m \u001b[0mmin_zoom\u001b[0m\u001b[0;34m=\u001b[0m\u001b[0;36m6\u001b[0m\u001b[0;34m,\u001b[0m \u001b[0mattr\u001b[0m\u001b[0;34m=\u001b[0m\u001b[0;34m\"Live EE tiles\"\u001b[0m\u001b[0;34m)\u001b[0m\u001b[0;34m\u001b[0m\u001b[0m\n\u001b[1;32m     11\u001b[0m \u001b[0msentinel_map\u001b[0m\u001b[0;34m\u001b[0m\u001b[0m\n",
      "\u001b[0;32m~/anaconda/envs/py36/lib/python3.6/site-packages/folium/map.py\u001b[0m in \u001b[0;36madd_tile_layer\u001b[0;34m(self, tiles, name, API_key, max_zoom, min_zoom, continuous_world, attr, active, detect_retina, no_wrap, **kwargs)\u001b[0m\n\u001b[1;32m    258\u001b[0m                                \u001b[0mdetect_retina\u001b[0m\u001b[0;34m=\u001b[0m\u001b[0mdetect_retina\u001b[0m\u001b[0;34m,\u001b[0m\u001b[0;34m\u001b[0m\u001b[0m\n\u001b[1;32m    259\u001b[0m                                \u001b[0mcontinuous_world\u001b[0m\u001b[0;34m=\u001b[0m\u001b[0mcontinuous_world\u001b[0m\u001b[0;34m,\u001b[0m\u001b[0;34m\u001b[0m\u001b[0m\n\u001b[0;32m--> 260\u001b[0;31m                                no_wrap=no_wrap)\n\u001b[0m\u001b[1;32m    261\u001b[0m         \u001b[0mself\u001b[0m\u001b[0;34m.\u001b[0m\u001b[0madd_child\u001b[0m\u001b[0;34m(\u001b[0m\u001b[0mtile_layer\u001b[0m\u001b[0;34m,\u001b[0m \u001b[0mname\u001b[0m\u001b[0;34m=\u001b[0m\u001b[0mtile_layer\u001b[0m\u001b[0;34m.\u001b[0m\u001b[0mtile_name\u001b[0m\u001b[0;34m)\u001b[0m\u001b[0;34m\u001b[0m\u001b[0m\n\u001b[1;32m    262\u001b[0m \u001b[0;34m\u001b[0m\u001b[0m\n",
      "\u001b[0;32m~/anaconda/envs/py36/lib/python3.6/site-packages/folium/map.py\u001b[0m in \u001b[0;36m__init__\u001b[0;34m(self, tiles, min_zoom, max_zoom, attr, API_key, detect_retina, continuous_world, name, overlay, control, no_wrap)\u001b[0m\n\u001b[1;32m    381\u001b[0m                  control=True, no_wrap=False):\n\u001b[1;32m    382\u001b[0m         self.tile_name = (name if name is not None else\n\u001b[0;32m--> 383\u001b[0;31m                           ''.join(tiles.lower().strip().split()))\n\u001b[0m\u001b[1;32m    384\u001b[0m         super(TileLayer, self).__init__(name=self.tile_name, overlay=overlay,\n\u001b[1;32m    385\u001b[0m                                         control=control)\n",
      "\u001b[0;31mAttributeError\u001b[0m: 'ComputedObject' object has no attribute 'lower'"
     ]
    }
   ],
   "source": [
    "if sentinel.get('sucsess'):\n",
    "    pass\n",
    "else:\n",
    "    raise ValueError('no data')\n",
    "\n",
    "print(sentinel.get('metadata'))\n",
    "\n",
    "sentinel_map = folium.Map(location=[lon, lat], zoom_start=9, tiles='Mapbox Bright' )\n",
    "sentinel_map.add_tile_layer(tiles=sentinel.get('image_tiles'), max_zoom=19, min_zoom=6, attr=\"Live EE tiles\")\n",
    "sentinel_map.add_tile_layer(tiles=sentinel.get('boundary_tiles'), max_zoom=19, min_zoom=6, attr=\"Live EE tiles\")\n",
    "sentinel_map"
   ]
  },
  {
   "cell_type": "code",
   "execution_count": 13,
   "metadata": {},
   "outputs": [],
   "source": [
    "point = ee.Geometry.Point(-16.644, 28.266)\n",
    "S2 = ee.ImageCollection('COPERNICUS/S2'\n",
    "                       ).filterDate(\n",
    "                        '2017-01-01', '2017-01-10').filterBounds(\n",
    "                        point).sort('CLOUDY_PIXEL_PERCENTAGE', True)"
   ]
  },
  {
   "cell_type": "code",
   "execution_count": 14,
   "metadata": {
    "scrolled": false
   },
   "outputs": [
    {
     "data": {
      "text/plain": [
       "{'bands': [],\n",
       " 'features': [{'bands': [{'crs': 'EPSG:32628',\n",
       "     'crs_transform': [60.0, 0.0, 300000.0, 0.0, -60.0, 3200040.0],\n",
       "     'data_type': {'max': 65535,\n",
       "      'min': 0,\n",
       "      'precision': 'int',\n",
       "      'type': 'PixelType'},\n",
       "     'dimensions': [1830, 1830],\n",
       "     'id': 'B1'},\n",
       "    {'crs': 'EPSG:32628',\n",
       "     'crs_transform': [10.0, 0.0, 300000.0, 0.0, -10.0, 3200040.0],\n",
       "     'data_type': {'max': 65535,\n",
       "      'min': 0,\n",
       "      'precision': 'int',\n",
       "      'type': 'PixelType'},\n",
       "     'dimensions': [10980, 10980],\n",
       "     'id': 'B2'},\n",
       "    {'crs': 'EPSG:32628',\n",
       "     'crs_transform': [10.0, 0.0, 300000.0, 0.0, -10.0, 3200040.0],\n",
       "     'data_type': {'max': 65535,\n",
       "      'min': 0,\n",
       "      'precision': 'int',\n",
       "      'type': 'PixelType'},\n",
       "     'dimensions': [10980, 10980],\n",
       "     'id': 'B3'},\n",
       "    {'crs': 'EPSG:32628',\n",
       "     'crs_transform': [10.0, 0.0, 300000.0, 0.0, -10.0, 3200040.0],\n",
       "     'data_type': {'max': 65535,\n",
       "      'min': 0,\n",
       "      'precision': 'int',\n",
       "      'type': 'PixelType'},\n",
       "     'dimensions': [10980, 10980],\n",
       "     'id': 'B4'},\n",
       "    {'crs': 'EPSG:32628',\n",
       "     'crs_transform': [20.0, 0.0, 300000.0, 0.0, -20.0, 3200040.0],\n",
       "     'data_type': {'max': 65535,\n",
       "      'min': 0,\n",
       "      'precision': 'int',\n",
       "      'type': 'PixelType'},\n",
       "     'dimensions': [5490, 5490],\n",
       "     'id': 'B5'},\n",
       "    {'crs': 'EPSG:32628',\n",
       "     'crs_transform': [20.0, 0.0, 300000.0, 0.0, -20.0, 3200040.0],\n",
       "     'data_type': {'max': 65535,\n",
       "      'min': 0,\n",
       "      'precision': 'int',\n",
       "      'type': 'PixelType'},\n",
       "     'dimensions': [5490, 5490],\n",
       "     'id': 'B6'},\n",
       "    {'crs': 'EPSG:32628',\n",
       "     'crs_transform': [20.0, 0.0, 300000.0, 0.0, -20.0, 3200040.0],\n",
       "     'data_type': {'max': 65535,\n",
       "      'min': 0,\n",
       "      'precision': 'int',\n",
       "      'type': 'PixelType'},\n",
       "     'dimensions': [5490, 5490],\n",
       "     'id': 'B7'},\n",
       "    {'crs': 'EPSG:32628',\n",
       "     'crs_transform': [10.0, 0.0, 300000.0, 0.0, -10.0, 3200040.0],\n",
       "     'data_type': {'max': 65535,\n",
       "      'min': 0,\n",
       "      'precision': 'int',\n",
       "      'type': 'PixelType'},\n",
       "     'dimensions': [10980, 10980],\n",
       "     'id': 'B8'},\n",
       "    {'crs': 'EPSG:32628',\n",
       "     'crs_transform': [20.0, 0.0, 300000.0, 0.0, -20.0, 3200040.0],\n",
       "     'data_type': {'max': 65535,\n",
       "      'min': 0,\n",
       "      'precision': 'int',\n",
       "      'type': 'PixelType'},\n",
       "     'dimensions': [5490, 5490],\n",
       "     'id': 'B8A'},\n",
       "    {'crs': 'EPSG:32628',\n",
       "     'crs_transform': [60.0, 0.0, 300000.0, 0.0, -60.0, 3200040.0],\n",
       "     'data_type': {'max': 65535,\n",
       "      'min': 0,\n",
       "      'precision': 'int',\n",
       "      'type': 'PixelType'},\n",
       "     'dimensions': [1830, 1830],\n",
       "     'id': 'B9'},\n",
       "    {'crs': 'EPSG:32628',\n",
       "     'crs_transform': [60.0, 0.0, 300000.0, 0.0, -60.0, 3200040.0],\n",
       "     'data_type': {'max': 65535,\n",
       "      'min': 0,\n",
       "      'precision': 'int',\n",
       "      'type': 'PixelType'},\n",
       "     'dimensions': [1830, 1830],\n",
       "     'id': 'B10'},\n",
       "    {'crs': 'EPSG:32628',\n",
       "     'crs_transform': [20.0, 0.0, 300000.0, 0.0, -20.0, 3200040.0],\n",
       "     'data_type': {'max': 65535,\n",
       "      'min': 0,\n",
       "      'precision': 'int',\n",
       "      'type': 'PixelType'},\n",
       "     'dimensions': [5490, 5490],\n",
       "     'id': 'B11'},\n",
       "    {'crs': 'EPSG:32628',\n",
       "     'crs_transform': [20.0, 0.0, 300000.0, 0.0, -20.0, 3200040.0],\n",
       "     'data_type': {'max': 65535,\n",
       "      'min': 0,\n",
       "      'precision': 'int',\n",
       "      'type': 'PixelType'},\n",
       "     'dimensions': [5490, 5490],\n",
       "     'id': 'B12'},\n",
       "    {'crs': 'EPSG:32628',\n",
       "     'crs_transform': [10.0, 0.0, 300000.0, 0.0, -10.0, 3200040.0],\n",
       "     'data_type': {'max': 65535,\n",
       "      'min': 0,\n",
       "      'precision': 'int',\n",
       "      'type': 'PixelType'},\n",
       "     'dimensions': [10980, 10980],\n",
       "     'id': 'QA10'},\n",
       "    {'crs': 'EPSG:32628',\n",
       "     'crs_transform': [20.0, 0.0, 300000.0, 0.0, -20.0, 3200040.0],\n",
       "     'data_type': {'max': 4294967295,\n",
       "      'min': 0,\n",
       "      'precision': 'int',\n",
       "      'type': 'PixelType'},\n",
       "     'dimensions': [5490, 5490],\n",
       "     'id': 'QA20'},\n",
       "    {'crs': 'EPSG:32628',\n",
       "     'crs_transform': [60.0, 0.0, 300000.0, 0.0, -60.0, 3200040.0],\n",
       "     'data_type': {'max': 65535,\n",
       "      'min': 0,\n",
       "      'precision': 'int',\n",
       "      'type': 'PixelType'},\n",
       "     'dimensions': [1830, 1830],\n",
       "     'id': 'QA60'}],\n",
       "   'id': 'COPERNICUS/S2/20170101T115212_20170101T115212_T28RCS',\n",
       "   'properties': {'CLOUDY_PIXEL_PERCENTAGE': 0.0,\n",
       "    'CLOUD_COVERAGE_ASSESSMENT': 0.0,\n",
       "    'DATASTRIP_ID': 'S2A_OPER_MSI_L1C_DS_MTI__20170103T052322_S20170101T115212_N02.04',\n",
       "    'DATATAKE_IDENTIFIER': 'GS2A_20170101T115212_007985_N02.04',\n",
       "    'DATATAKE_TYPE': 'INS-NOBS',\n",
       "    'DEGRADED_MSI_DATA_PERCENTAGE': 0.0,\n",
       "    'ECMWF_DATA_REF': 'S2__OPER_AUX_ECMWFD_PDMC_20170101T000000_V20170101T090000_20170101T210000',\n",
       "    'FORMAT_CORRECTNESS_FLAG': 'PASSED',\n",
       "    'GENERAL_QUALITY_FLAG': 'PASSED',\n",
       "    'GENERATION_TIME': 1483271532000,\n",
       "    'GEOMETRIC_QUALITY_FLAG': 'PASSED',\n",
       "    'GRANULE_ID': 'L1C_T28RCS_A007985_20170101T115212',\n",
       "    'GRI_FILENAME': 'S2A_OPER_AUX_GRI065_PDMC_20130621T120000_S20130101T000000',\n",
       "    'IERS_BULLETIN_FILENAME': 'S2__OPER_AUX_UT1UTC_PDMC_20161229T000000_V20161230T000000_20171229T000000',\n",
       "    'MEAN_INCIDENCE_AZIMUTH_ANGLE_B1': 136.23114282132,\n",
       "    'MEAN_INCIDENCE_AZIMUTH_ANGLE_B10': 138.674916952994,\n",
       "    'MEAN_INCIDENCE_AZIMUTH_ANGLE_B11': 136.959450036841,\n",
       "    'MEAN_INCIDENCE_AZIMUTH_ANGLE_B12': 135.901685774779,\n",
       "    'MEAN_INCIDENCE_AZIMUTH_ANGLE_B2': 143.010450151528,\n",
       "    'MEAN_INCIDENCE_AZIMUTH_ANGLE_B3': 140.35093318233,\n",
       "    'MEAN_INCIDENCE_AZIMUTH_ANGLE_B4': 138.708011987274,\n",
       "    'MEAN_INCIDENCE_AZIMUTH_ANGLE_B5': 137.956353525367,\n",
       "    'MEAN_INCIDENCE_AZIMUTH_ANGLE_B6': 137.486076776873,\n",
       "    'MEAN_INCIDENCE_AZIMUTH_ANGLE_B7': 137.017548766096,\n",
       "    'MEAN_INCIDENCE_AZIMUTH_ANGLE_B8': 141.536372065278,\n",
       "    'MEAN_INCIDENCE_AZIMUTH_ANGLE_B8A': 136.620410826306,\n",
       "    'MEAN_INCIDENCE_AZIMUTH_ANGLE_B9': 135.93979355658,\n",
       "    'MEAN_INCIDENCE_ZENITH_ANGLE_B1': 3.44215734245412,\n",
       "    'MEAN_INCIDENCE_ZENITH_ANGLE_B10': 2.98958099630573,\n",
       "    'MEAN_INCIDENCE_ZENITH_ANGLE_B11': 3.1647067361244,\n",
       "    'MEAN_INCIDENCE_ZENITH_ANGLE_B12': 3.35878402469362,\n",
       "    'MEAN_INCIDENCE_ZENITH_ANGLE_B2': 2.82020254515066,\n",
       "    'MEAN_INCIDENCE_ZENITH_ANGLE_B3': 2.92518378537528,\n",
       "    'MEAN_INCIDENCE_ZENITH_ANGLE_B4': 3.04279462109189,\n",
       "    'MEAN_INCIDENCE_ZENITH_ANGLE_B5': 3.11908355922827,\n",
       "    'MEAN_INCIDENCE_ZENITH_ANGLE_B6': 3.1927160181678,\n",
       "    'MEAN_INCIDENCE_ZENITH_ANGLE_B7': 3.27220578092269,\n",
       "    'MEAN_INCIDENCE_ZENITH_ANGLE_B8': 2.86936142148849,\n",
       "    'MEAN_INCIDENCE_ZENITH_ANGLE_B8A': 3.35499199768922,\n",
       "    'MEAN_INCIDENCE_ZENITH_ANGLE_B9': 3.53365497280957,\n",
       "    'MEAN_SOLAR_AZIMUTH_ANGLE': 158.405599499699,\n",
       "    'MEAN_SOLAR_ZENITH_ANGLE': 54.5506526639701,\n",
       "    'MGRS_TILE': '28RCS',\n",
       "    'PROCESSING_BASELINE': '02.04',\n",
       "    'PRODUCTION_DEM_TYPE': 'S2__OPER_DEM_GLOBEF_PDMC_19800101T000000_S19800101T000000',\n",
       "    'PRODUCT_ID': 'S2A_MSIL1C_20170101T115212_N0204_R123_T28RCS_20170101T115212',\n",
       "    'PRODUCT_URI': 'S2A_MSIL1C_20170101T115212_N0204_R123_T28RCS_20170101T115212.SAFE',\n",
       "    'RADIOMETRIC_QUALITY_FLAG': 'PASSED',\n",
       "    'REFLECTANCE_CONVERSION_CORRECTION': 1.03417792080941,\n",
       "    'SENSING_ORBIT_DIRECTION': 'DESCENDING',\n",
       "    'SENSING_ORBIT_NUMBER': 123.0,\n",
       "    'SENSOR_QUALITY_FLAG': 'PASSED',\n",
       "    'SOLAR_IRRADIANCE_B1': 1913.57,\n",
       "    'SOLAR_IRRADIANCE_B10': 367.15,\n",
       "    'SOLAR_IRRADIANCE_B11': 245.59,\n",
       "    'SOLAR_IRRADIANCE_B12': 85.25,\n",
       "    'SOLAR_IRRADIANCE_B2': 1941.63,\n",
       "    'SOLAR_IRRADIANCE_B3': 1822.61,\n",
       "    'SOLAR_IRRADIANCE_B4': 1512.79,\n",
       "    'SOLAR_IRRADIANCE_B5': 1425.56,\n",
       "    'SOLAR_IRRADIANCE_B6': 1288.32,\n",
       "    'SOLAR_IRRADIANCE_B7': 1163.19,\n",
       "    'SOLAR_IRRADIANCE_B8': 1036.39,\n",
       "    'SOLAR_IRRADIANCE_B8A': 955.19,\n",
       "    'SOLAR_IRRADIANCE_B9': 813.04,\n",
       "    'SPACECRAFT_NAME': 'Sentinel-2A',\n",
       "    'system:asset_size': 888462028,\n",
       "    'system:footprint': {'coordinates': [[-15.92558389724579,\n",
       "       28.925190549257714],\n",
       "      [-15.92559671449868, 28.925191163600214],\n",
       "      [-17.051433713664156, 28.91274387174152],\n",
       "      [-17.051480391568088, 28.912706620290745],\n",
       "      [-17.051531935518994, 28.912674682697084],\n",
       "      [-17.05153490920881, 28.91265990682834],\n",
       "      [-17.041910802259004, 28.41750963441286],\n",
       "      [-17.032527124641494, 27.922327989157285],\n",
       "      [-17.03248495569906, 27.922287141116684],\n",
       "      [-17.032448913873885, 27.92224196307347],\n",
       "      [-17.0324320643225, 27.922239418847433],\n",
       "      [-15.917013741784361, 27.934185520299348],\n",
       "      [-15.916967046088413, 27.93422235347645],\n",
       "      [-15.91691560017191, 27.934253830965012],\n",
       "      [-15.916912552853256, 27.93426863344697],\n",
       "      [-15.921148642190191, 28.429707339526168],\n",
       "      [-15.925493100926781, 28.92510186499591],\n",
       "      [-15.925535317176289, 28.925143044864797],\n",
       "      [-15.925571259256028, 28.925188529207674],\n",
       "      [-15.92558389724579, 28.925190549257714]],\n",
       "     'type': 'LinearRing'},\n",
       "    'system:index': '20170101T115212_20170101T115212_T28RCS',\n",
       "    'system:time_end': 1483271532459,\n",
       "    'system:time_start': 1483271532459},\n",
       "   'type': 'Image',\n",
       "   'version': 1494380519663000}],\n",
       " 'id': 'COPERNICUS/S2',\n",
       " 'properties': {'date_range': [1435017600000.0, 1510790400000.0],\n",
       "  'description': '<p>SENTINEL-2 is a wide-swath, high-resolution,\\nmulti-spectral imaging mission supporting Copernicus Land Monitoring studies,\\nincluding the monitoring of vegetation, soil and water cover, as well as\\nobservation of inland waterways and coastal areas.</p>\\n\\n<p>The SENTINEL-2 data contain 13 UINT16 spectral bands representing TOA\\nreflectance scaled by 10000:\\n<table>\\n<th>Band</th> <th>Use</th> <th>Wavelength</th> <th>Resolution</th>\\n<tr>\\n<td>B1</td> <td>Aerosols</td> <td>443nm</td> <td>60m</td>\\n</tr>\\n<tr>\\n<td>B2</td> <td>Blue</td> <td>490nm</td> <td>10m</td>\\n</tr>\\n<tr>\\n<td>B3</td> <td>Green</td> <td>560nm</td> <td>10m</td>\\n</tr>\\n<tr>\\n<td>B4</td> <td>Red</td> <td>665nm</td> <td>10m</td>\\n</tr>\\n<tr>\\n<td>B5</td> <td>Red Edge 1</td> <td>705nm</td> <td>20m</td>\\n</tr>\\n<tr>\\n<td>B6</td> <td>Red Edge 2</td> <td>740nm</td> <td>20m</td>\\n</tr>\\n<tr>\\n<td>B7</td> <td>Red Edge 3</td> <td>783nm </td> <td>20m</td>\\n</tr>\\n<tr>\\n<td>B8</td> <td>NIR</td> <td>842nm</td> <td>10m</td>\\n</tr>\\n<tr>\\n<td>B8a</td> <td>Red Edge 4</td> <td>865nm</td> <td>20m</td>\\n</tr>\\n<tr>\\n<td>B9</td> <td>Water vapor</td> <td>940nm</td> <td>60m</td>\\n</tr>\\n<tr>\\n<td>B10</td> <td>Cirrus</td> <td>1375nm</td> <td>60m</td>\\n</tr>\\n<tr>\\n<td>B11</td> <td>SWIR 1</td> <td>1610nm</td> <td>20m</td>\\n</tr>\\n<tr>\\n<td>B12</td> <td>SWIR 2</td> <td>2190nm</td> <td>20m</td>\\n</tr>\\n</table></p>\\n\\n<p>See <a\\nhref=\"https://sentinel.esa.int/documents/247904/685211/Sentinel-2_User_Handbook\">Sentinel\\n2 User Handbook</a> for details. In addition, the following bands are present:\\n\\n<ul>\\n<li>QA10: currently always empty</li>\\n<li>QA20: currently always empty</li>\\n<li>QA60: bit mask band with cloud mask information. Bit 10 is set if the corresponding\\n60m pixel has been marked as OPAQUE. Bit 11 is set if the corresponding 60m pixel\\nhas been marked as CIRRUS. <a\\nhref=\"https://sentinel.esa.int/web/sentinel/technical-guides/sentinel-2-msi/level-1c/cloud-masks\">\\nSee the full explanation of how cloud masks are computed.</a></li>\\n</ul>\\n</p>\\n\\n<p>Each Sentinel 2 product (zip archive) contains multiple granules.\\nEach granule becomes a separate Earth Engine asset. EE\\nasset ids for Sentinel 2 assets look like this:\\nCOPERNICUS/S2/20151128T002653_20151128T102149_T56MNN. Here\\nthe first numeric part represents the sensing date and time, the second\\nnumeric part represents the product generation date and time, and the final\\n6-character string is a unique granule identifier indicating its UTM grid\\nreference (see\\n<a href=\"https://en.wikipedia.org/wiki/Military_grid_reference_system\">MGRS</a>).\\n\\n<p>Several Sentinel-specific metadata fields are taken from the original\\nmetadata, including:\\n<ul>\\n<li>CLOUDY_PIXEL_PERCENTAGE: granule-specific cloudy pixel percentage.</li>\\n<li>CLOUD_COVERAGE_ASSESSMENT: cloudy pixel percentage for the whole archive\\nthat contains this granule.</li>\\n</ul>\\n\\nAlso, each S2 Earth Engine asset has a reference to the archive name for\\nthe product that the asset\\'s granule was taken from:\\n<ul>\\n<li>PRODUCT_ID; the full id of the original Sentinel 2 product.</li>\\n</ul>\\n\\n<p>The use of Sentinel data is governed by the <a\\nhref=\"https://scihub.copernicus.eu/twiki/pub/SciHubWebPortal/TermsConditions/Sentinel_Data_Terms_and_Conditions.pdf\">Copernicus\\nSentinel Data Terms and Conditions</a>.</p> ',\n",
       "  'period': 0.0,\n",
       "  'product_tags': ['msi', 'radiance'],\n",
       "  'provider': 'European Union/ESA/Copernicus',\n",
       "  'provider_url': 'https://sentinel.esa.int/web/sentinel/user-guides/sentinel-2-msi',\n",
       "  'sample': 'https://mw1.google.com/ges/dd/images/sentinel2_sample.png',\n",
       "  'source_tags': ['eu', 'esa', 'copernicus', 'sentinel'],\n",
       "  'system:visualization_0_bands': 'B4,B3,B2',\n",
       "  'system:visualization_0_max': 3000.0,\n",
       "  'system:visualization_0_min': 0.0,\n",
       "  'system:visualization_0_name': 'RGB',\n",
       "  'tags': ['eu', 'esa', 'copernicus', 'sentinel', 'msi', 'radiance'],\n",
       "  'thumb': 'https://mw1.google.com/ges/dd/images/sentinel2_thumb.png',\n",
       "  'title': 'Sentinel-2: MultiSpectral Instrument (MSI), Level-1C'},\n",
       " 'type': 'ImageCollection',\n",
       " 'version': 1511226386320212}"
      ]
     },
     "execution_count": 14,
     "metadata": {},
     "output_type": "execute_result"
    }
   ],
   "source": [
    "S2.getInfo()"
   ]
  },
  {
   "cell_type": "code",
   "execution_count": null,
   "metadata": {},
   "outputs": [],
   "source": []
  },
  {
   "cell_type": "code",
   "execution_count": null,
   "metadata": {
    "collapsed": true
   },
   "outputs": [],
   "source": []
  }
 ],
 "metadata": {
  "anaconda-cloud": {},
  "kernelspec": {
   "display_name": "Python 3",
   "language": "python",
   "name": "python3"
  },
  "language_info": {
   "codemirror_mode": {
    "name": "ipython",
    "version": 3
   },
   "file_extension": ".py",
   "mimetype": "text/x-python",
   "name": "python",
   "nbconvert_exporter": "python",
   "pygments_lexer": "ipython3",
   "version": "3.6.3"
  }
 },
 "nbformat": 4,
 "nbformat_minor": 2
}
