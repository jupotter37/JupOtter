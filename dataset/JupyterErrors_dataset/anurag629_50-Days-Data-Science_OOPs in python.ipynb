{
 "cells": [
  {
   "cell_type": "markdown",
   "id": "65eff0bf-3882-41ef-9136-e4becd9c47ff",
   "metadata": {},
   "source": [
    "# Day 3 of 100 Days Data Science Bootcamp from noob to expert."
   ]
  },
  {
   "cell_type": "markdown",
   "id": "3e641434-9fb6-4950-b4be-6dba054b809b",
   "metadata": {},
   "source": [
    "## Recap Day 2\n",
    "\n",
    "Yesterday we have studied in detail about python buit it data struccture.\n"
   ]
  },
  {
   "cell_type": "markdown",
   "id": "2b6f2c26-c7e0-41f1-941c-2084401734d8",
   "metadata": {},
   "source": [
    "Object-Oriented Programming (OOP) is a programming paradigm that is based on the concept of \"objects\", which can contain data and code that manipulate that data.\n",
    "\n",
    "In OOP, a \"class\" is a template for creating objects. It defines the properties (data) and methods (functions) that an object can have. An object is an instance of a class, created from the class template.\n",
    "\n",
    "Here is an example of a simple class in Python:\n",
    "\n"
   ]
  },
  {
   "cell_type": "markdown",
   "id": "d7b70674-2b10-4ca0-8242-0d0452f5b475",
   "metadata": {},
   "source": [
    "## Major Python OOPs concept-\n",
    "In this section, we will deep dive into the basic concepts of OOP. We will cover the following topics-\n",
    "\n",
    "1. Class\n",
    "2. Object\n",
    "3. Method\n",
    "4. Inheritance\n",
    "5. Encapsulation\n",
    "6. Polymorphism\n",
    "7. Data Abstraction"
   ]
  },
  {
   "cell_type": "markdown",
   "id": "eaf28987-7f39-4560-9d42-dc04ddac8056",
   "metadata": {},
   "source": [
    "### Class"
   ]
  },
  {
   "cell_type": "markdown",
   "id": "de0e8ee4-94c4-4053-a77b-6b09e142c0ee",
   "metadata": {},
   "source": [
    "A straight forward answer to this question is- A class is a collection of objects.  Unlike the primitive data structures, classes are data structures that the user defines. They make the code more manageable."
   ]
  },
  {
   "cell_type": "code",
   "execution_count": 13,
   "id": "2843da44-5837-4423-bc54-55a763791183",
   "metadata": {},
   "outputs": [],
   "source": [
    "class Car:\n",
    "    # class body\n",
    "    pass"
   ]
  },
  {
   "cell_type": "markdown",
   "id": "2a48d2c2-5227-4914-bc0d-46b94e0a8e52",
   "metadata": {},
   "source": [
    "### Object\n",
    "\n",
    "When we define a class only the description or a blueprint of the object is created. There is no memory allocation until we create its object. The objector instance contains real data or information.\n",
    "\n",
    "Instantiation is nothing but creating a new object/instance of a class. Let’s create the object of the above class we defined-"
   ]
  },
  {
   "cell_type": "code",
   "execution_count": 14,
   "id": "1123c3a3-4d5a-4bdc-9760-ea6eee1b720e",
   "metadata": {},
   "outputs": [],
   "source": [
    "obj1 = Car()"
   ]
  },
  {
   "cell_type": "code",
   "execution_count": 15,
   "id": "3aeb8401-2743-4d37-adcb-61f59f91d521",
   "metadata": {},
   "outputs": [
    {
     "name": "stdout",
     "output_type": "stream",
     "text": [
      "<__main__.Car object at 0x7f50d9fc6280>\n"
     ]
    }
   ],
   "source": [
    "print(obj1)"
   ]
  },
  {
   "cell_type": "markdown",
   "id": "6fa1b855-25aa-44d6-aaeb-f28af43ed99c",
   "metadata": {},
   "source": [
    "Since our class was empty, it returns the address where the object is stored i.e 0x7fc5e677b6d8\n",
    "\n",
    "You also need to understand the class constructor before moving forward.\n",
    "\n",
    "**Class constructor** \n",
    "\n",
    "Until now we have an empty class Car, time to fill up our class with the properties of the car.  The job of the class constructor is to assign the values to the data members of the class when an object of the class is created.\n",
    "\n",
    "There can be various properties of a car such as its name, color, model, brand name, engine power, weight, price, etc. We’ll choose only a few for understanding purposes."
   ]
  },
  {
   "cell_type": "code",
   "execution_count": 16,
   "id": "9f57fc9f-e6f4-43b8-a60d-11c63ca00ac2",
   "metadata": {},
   "outputs": [],
   "source": [
    "class Car:\n",
    "    def __init__(self, name, color):\n",
    "        self.name = name\n",
    "        self.color = color"
   ]
  },
  {
   "cell_type": "markdown",
   "id": "19cccd84-d9bc-4436-965c-c38ae88455a7",
   "metadata": {},
   "source": [
    "So, the properties of the car or any other object must be inside a method that we call __init__( ). This __init__() method is also known as the constructor method. We call a constructor method whenever an object of the class is constructed.\n",
    "\n",
    "Now let’s talk about the parameter of the __init__() method. So, the first parameter of this method has to be self. Then only will the rest of the parameters come.\n",
    "\n",
    "The two statements inside the constructor method are –\n",
    "\n",
    "1. self.name = name\n",
    "2. self.color = color:\n",
    "\n",
    "This will create new attributes namely name and color and then assign the value of the respective parameters to them. The “self” keyword represents the instance of the class. By using the “self” keyword we can access the attributes and methods of the class. It is useful in method definitions and in variable initialization. The “self” is explicitly used every time we define a method.\n",
    "\n",
    "Note: You can create attributes outside of this __init__() method also. But those attributes will be universal to the whole class and you will have to assign the value to them.\n",
    "\n",
    "Suppose all the cars in your showroom are Sedan and instead of specifying it again and again you can fix the value of car_type as Sedan by creating an attribute outside the __init__()."
   ]
  },
  {
   "cell_type": "code",
   "execution_count": 17,
   "id": "04a9eeec-f079-450d-9a9e-cebd4ca1460e",
   "metadata": {},
   "outputs": [],
   "source": [
    "class Car:\n",
    "    car_type = \"Sedan\"                 #class attribute\n",
    "    def __init__(self, name, color):\n",
    "        self.name = name               #instance attribute   \n",
    "        self.color = color             #instance attribute\n"
   ]
  },
  {
   "cell_type": "markdown",
   "id": "c3b2494a-1734-454c-9a89-21a5dde1f847",
   "metadata": {},
   "source": [
    "Here, Instance attributes refer to the attributes inside the constructor method i.e self.name and self.color. And, Class attributes refer to the attributes outside the constructor method i.e car_type."
   ]
  },
  {
   "cell_type": "markdown",
   "id": "623568b6-7859-43a0-aa83-3f8f59f44097",
   "metadata": {},
   "source": [
    "### Methods"
   ]
  },
  {
   "cell_type": "markdown",
   "id": "ad50d185-b536-4959-98a7-58377fd0cafb",
   "metadata": {},
   "source": [
    "So far we’ve added the properties of the car. Now it’s time to add some behavior. Methods are the functions that we use to describe the behavior of the objects. They are also defined inside a class. Look at the following code-"
   ]
  },
  {
   "cell_type": "code",
   "execution_count": 18,
   "id": "0103e8b9-946a-4c2a-8a9f-adf8c8fbf091",
   "metadata": {},
   "outputs": [
    {
     "name": "stdout",
     "output_type": "stream",
     "text": [
      "The Honda City car gives the mileage of 24.1km/l\n",
      "The Honda City runs at the maximum speed of 150km/hr\n"
     ]
    }
   ],
   "source": [
    "class Car:   \n",
    "    car_type = \"Sedan\" \n",
    "\n",
    "    def __init__(self, name, mileage):\n",
    "        self.name = name \n",
    "        self.mileage = mileage \n",
    "\n",
    "    def description(self):                 \n",
    "        return f\"The {self.name} car gives the mileage of {self.mileage}km/l\"\n",
    "\n",
    "    def max_speed(self, speed):\n",
    "        return f\"The {self.name} runs at the maximum speed of {speed}km/hr\"\n",
    "\n",
    "obj2 = Car(\"Honda City\",24.1)\n",
    "print(obj2.description())\n",
    "print(obj2.max_speed(150))"
   ]
  },
  {
   "cell_type": "markdown",
   "id": "da06afab-5f8a-4e46-bdca-8e4591a9d32e",
   "metadata": {},
   "source": [
    "The methods defined inside a class other than the constructor method are known as the instance methods. Furthermore, we have two instance methods here- description() and max_speed(). Let’s talk about them individually-\n",
    "\n",
    "* description()- This method is returning a string with the description of the car such as the name and its mileage. This method has no additional parameter. This method is using the instance attributes.\n",
    "\n",
    "* max_speed()- This method has one additional parameter and returning a string displaying the car name and its speed.\n",
    "\n",
    "Notice that the additional parameter speed is not using the “self” keyword. Since speed is not an instance variable, we don’t use the self keyword as its prefix.  Let’s create an object for the class described above."
   ]
  },
  {
   "cell_type": "code",
   "execution_count": 19,
   "id": "df5c176a-1001-4789-8733-d38ad87b2064",
   "metadata": {},
   "outputs": [
    {
     "name": "stdout",
     "output_type": "stream",
     "text": [
      "The Honda City car gives the mileage of 24.1km/l\n",
      "The Honda City runs at the maximum speed of 150km/hr\n"
     ]
    }
   ],
   "source": [
    "obj2 = Car(\"Honda City\",24.1)\n",
    "print(obj2.description())\n",
    "print(obj2.max_speed(150))"
   ]
  },
  {
   "cell_type": "markdown",
   "id": "44c21f56-91f6-495c-b2b4-e96d4a26c8c3",
   "metadata": {},
   "source": [
    "What we did is we created an object of class car and passed the required arguments. In order to access the instance methods we use object_name.method_name().\n",
    "\n",
    "The method description() didn’t have any additional parameter so we did not pass any argument while calling it.\n",
    "\n",
    "The method max_speed() has one additional parameter so we passed one argument while calling it.\n",
    "\n",
    "Note: Three important things to remember are-\n",
    "\n",
    "1. You can create any number of objects of a class.\n",
    "2. If the method requires n parameters and you do not pass the same number of arguments then an error will occur.\n",
    "3. Order of the arguments matters.\n",
    "\n",
    "Let’s look at this one by one-\n",
    "\n",
    "### 1. Creating more than one object of a class"
   ]
  },
  {
   "cell_type": "code",
   "execution_count": 20,
   "id": "33ad4562-2c64-4825-8160-61e974e40571",
   "metadata": {},
   "outputs": [],
   "source": [
    "class Car:\n",
    "    def __init__(self, name, mileage):\n",
    "        self.name = name \n",
    "        self.mileage = mileage \n",
    "\n",
    "    def max_speed(self, speed):\n",
    "        return f\"The {self.name} runs at the maximum speed of {speed}km/hr\""
   ]
  },
  {
   "cell_type": "code",
   "execution_count": 21,
   "id": "09d9cdf8-14da-4670-994f-4fa190c38a5a",
   "metadata": {},
   "outputs": [
    {
     "name": "stdout",
     "output_type": "stream",
     "text": [
      "The Honda City runs at the maximum speed of 150km/hr\n",
      "The Skoda Octavia runs at the maximum speed of 210km/hr\n"
     ]
    }
   ],
   "source": [
    "Honda = Car(\"Honda City\",21.4)\n",
    "print(Honda.max_speed(150))\n",
    "\n",
    "Skoda = Car(\"Skoda Octavia\",13)\n",
    "print(Skoda.max_speed(210))"
   ]
  },
  {
   "cell_type": "markdown",
   "id": "19f6e0ce-6396-4eb7-90d0-d00cfb87027b",
   "metadata": {},
   "source": [
    "### 2. Passing the wrong number of arguments."
   ]
  },
  {
   "cell_type": "code",
   "execution_count": 22,
   "id": "90c4891c-06b8-45f4-95ab-cfa9ea8984ab",
   "metadata": {},
   "outputs": [
    {
     "ename": "TypeError",
     "evalue": "__init__() missing 1 required positional argument: 'mileage'",
     "output_type": "error",
     "traceback": [
      "\u001b[0;31m---------------------------------------------------------------------------\u001b[0m",
      "\u001b[0;31mTypeError\u001b[0m                                 Traceback (most recent call last)",
      "Cell \u001b[0;32mIn[22], line 6\u001b[0m\n\u001b[1;32m      3\u001b[0m         \u001b[38;5;28mself\u001b[39m\u001b[38;5;241m.\u001b[39mname \u001b[38;5;241m=\u001b[39m name \n\u001b[1;32m      4\u001b[0m         \u001b[38;5;28mself\u001b[39m\u001b[38;5;241m.\u001b[39mmileage \u001b[38;5;241m=\u001b[39m mileage\n\u001b[0;32m----> 6\u001b[0m Honda \u001b[38;5;241m=\u001b[39m \u001b[43mCar\u001b[49m\u001b[43m(\u001b[49m\u001b[38;5;124;43m\"\u001b[39;49m\u001b[38;5;124;43mHonda City\u001b[39;49m\u001b[38;5;124;43m\"\u001b[39;49m\u001b[43m)\u001b[49m\n\u001b[1;32m      7\u001b[0m \u001b[38;5;28mprint\u001b[39m(Honda)\n",
      "\u001b[0;31mTypeError\u001b[0m: __init__() missing 1 required positional argument: 'mileage'"
     ]
    }
   ],
   "source": [
    "class Car:\n",
    "    def __init__(self, name, mileage):\n",
    "        self.name = name \n",
    "        self.mileage = mileage\n",
    "        \n",
    "Honda = Car(\"Honda City\")\n",
    "print(Honda)"
   ]
  },
  {
   "cell_type": "markdown",
   "id": "732dc801-e11f-4a1e-8299-91a3fe2ad498",
   "metadata": {},
   "source": [
    "Since we did not provide the second argument, we got this error."
   ]
  },
  {
   "cell_type": "markdown",
   "id": "40c36f85-b895-492c-9170-d782c2a9a40d",
   "metadata": {},
   "source": [
    "### 3. Order of the arguments\n"
   ]
  },
  {
   "cell_type": "code",
   "execution_count": 23,
   "id": "e473d6eb-beb6-41f7-a398-f9d40cede859",
   "metadata": {},
   "outputs": [
    {
     "name": "stdout",
     "output_type": "stream",
     "text": [
      "The 24.1 car gives the mileage of Honda Citykm/l\n"
     ]
    }
   ],
   "source": [
    "class Car:\n",
    "\n",
    "    def __init__(self, name, mileage):\n",
    "        self.name = name \n",
    "        self.mileage = mileage \n",
    "\n",
    "    def description(self):                \n",
    "        return f\"The {self.name} car gives the mileage of {self.mileage}km/l\"\n",
    "Honda = Car(24.1,\"Honda City\")\n",
    "print(Honda.description())\n"
   ]
  },
  {
   "cell_type": "markdown",
   "id": "108950b8-a240-495a-a947-68035a3ad6d4",
   "metadata": {},
   "source": [
    "Object Oriented Programming - Argument Order\n",
    "\n",
    "Messed up! Notice we changed the order of arguments.\n",
    "Now, there are four fundamental concepts of Object-oriented programming – Inheritance, Encapsulation, Polymorphism, and Data abstraction. It is very important to know about all of these in order to understand OOPs. Till now we’ve covered the basics of OOPs, let’s dive in further.\n",
    "\n",
    " \n",
    "\n",
    "### Inheritance in Python Class\n",
    "\n",
    "Inheritance is the procedure in which one class inherits the attributes and methods of another class.  The class whose properties and methods are inherited is known as Parent class. And the class that inherits the properties from the parent class is the Child class.\n",
    "\n",
    "The interesting thing is, along with the inherited properties and methods, a child class can have its own properties and methods.\n",
    "\n",
    "How to inherit a parent class? Use the following syntax:\n",
    "\n"
   ]
  },
  {
   "cell_type": "code",
   "execution_count": 24,
   "id": "e1f9527b-5d16-4057-bc61-fd57ba827c8b",
   "metadata": {},
   "outputs": [],
   "source": [
    "class parent_class:\n",
    "    # body of parent class\n",
    "    pass\n",
    "\n",
    "class child_class( parent_class):\n",
    "    # body of child class\n",
    "    pass\n"
   ]
  },
  {
   "cell_type": "markdown",
   "id": "40759bd1-7d75-4b8d-8798-bb64b1a5999c",
   "metadata": {},
   "source": [
    "Let’s see the implementation-"
   ]
  },
  {
   "cell_type": "code",
   "execution_count": 25,
   "id": "0b97e1ff-79d7-4c4d-9975-4a1705b5cec7",
   "metadata": {},
   "outputs": [
    {
     "name": "stdout",
     "output_type": "stream",
     "text": [
      "The BMW 7-series car gives the mileage of 39.53km/l\n",
      "The Audi A8 L car gives the mileage of 14km/l\n",
      "This is the description method of class Audi.\n"
     ]
    }
   ],
   "source": [
    "class Car:          #parent class\n",
    "\n",
    "    def __init__(self, name, mileage):\n",
    "        self.name = name \n",
    "        self.mileage = mileage \n",
    "\n",
    "    def description(self):                \n",
    "        return f\"The {self.name} car gives the mileage of {self.mileage}km/l\"\n",
    "\n",
    "class BMW(Car):     #child class\n",
    "    pass\n",
    "\n",
    "class Audi(Car):     #child class\n",
    "    def audi_desc(self):\n",
    "        return \"This is the description method of class Audi.\"\n",
    "obj1 = BMW(\"BMW 7-series\",39.53)\n",
    "print(obj1.description())\n",
    "\n",
    "obj2 = Audi(\"Audi A8 L\",14)\n",
    "print(obj2.description())\n",
    "print(obj2.audi_desc())\n",
    " "
   ]
  },
  {
   "cell_type": "markdown",
   "id": "cbb1ab29-d9d7-4521-844e-c05c57f3e20f",
   "metadata": {},
   "source": [
    "We have created two child classes namely “BMW” and “Audi” who have inherited the methods and properties of the parent class “Car”.  We have provided no additional features and methods in the class BMW. Whereas one additional method inside the class Audi.\n",
    "\n",
    "Notice how the instance method description() of the parent class is accessible by the objects of child classes with the help of obj1.description() and obj2.description(). And also the separate method of class Audi is also accessible using obj2.audi_desc().\n",
    "\n",
    " \n",
    "\n",
    "### Encapsulation\n",
    "\n",
    "Encapsulation, as I mentioned in the initial part of the article, is a way to ensure security. Basically, it hides the data from the access of outsiders. Such as if an organization wants to protect an object/information from unwanted access by clients or any unauthorized person then encapsulation is the way to ensure this.\n",
    "\n",
    "You can declare the methods or the attributes protected by using a single underscore ( _ ) before their names. Such as- self._name or def _method( ); Both of these lines tell that the attribute and method are protected and should not be used outside the access of the class and sub-classes but can be accessed by class methods and objects.\n",
    "\n",
    "Though Python uses ‘ _ ‘ just as a coding convention, it tells that you should use these attributes/methods within the scope of the class. But you can still access the variables and methods which are defined as protected, as usual.\n",
    "\n",
    "Now for actually preventing the access of attributes/methods from outside the scope of a class, you can use “private members“. In order to declare the attributes/method as private members, use double underscore ( __ ) in the prefix. Such as – self.__name or def __method(); Both of these lines tell that the attribute and method are private and access is not possible from outside the class.\n",
    "\n"
   ]
  },
  {
   "cell_type": "code",
   "execution_count": 26,
   "id": "9e70c88c-ac7b-48c7-bf69-f7146b643a09",
   "metadata": {},
   "outputs": [
    {
     "name": "stdout",
     "output_type": "stream",
     "text": [
      "The BMW 7-series car gives the mileage of 39.53km/l\n",
      "BMW 7-series\n",
      "39.53\n"
     ]
    }
   ],
   "source": [
    "class car:\n",
    "\n",
    "    def __init__(self, name, mileage):\n",
    "        self._name = name                #protected variable\n",
    "        self.mileage = mileage \n",
    "\n",
    "    def description(self):                \n",
    "        return f\"The {self._name} car gives the mileage of {self.mileage}km/l\"\n",
    "obj = car(\"BMW 7-series\",39.53)\n",
    "\n",
    "#accessing protected variable via class method \n",
    "print(obj.description())\n",
    "\n",
    "#accessing protected variable directly from outside\n",
    "print(obj._name)\n",
    "print(obj.mileage)\n"
   ]
  },
  {
   "cell_type": "markdown",
   "id": "a15834fc-cf82-404c-b403-1434ef0a4939",
   "metadata": {},
   "source": [
    "Notice how we accessed the protected variable without any error. It is clear that access to the variable is still public. Let us see how encapsulation works-"
   ]
  },
  {
   "cell_type": "code",
   "execution_count": 28,
   "id": "b6b127f1-ebf1-4daf-9e8f-0653c67e50f6",
   "metadata": {},
   "outputs": [
    {
     "name": "stdout",
     "output_type": "stream",
     "text": [
      "The BMW 7-series car gives the mileage of 39.53km/l\n",
      "39.53\n"
     ]
    },
    {
     "ename": "AttributeError",
     "evalue": "'Car' object has no attribute '__name'",
     "output_type": "error",
     "traceback": [
      "\u001b[0;31m---------------------------------------------------------------------------\u001b[0m",
      "\u001b[0;31mAttributeError\u001b[0m                            Traceback (most recent call last)",
      "Cell \u001b[0;32mIn[28], line 15\u001b[0m\n\u001b[1;32m     13\u001b[0m \u001b[38;5;66;03m#accessing private variable directly from outside\u001b[39;00m\n\u001b[1;32m     14\u001b[0m \u001b[38;5;28mprint\u001b[39m(obj\u001b[38;5;241m.\u001b[39mmileage)\n\u001b[0;32m---> 15\u001b[0m \u001b[38;5;28mprint\u001b[39m(\u001b[43mobj\u001b[49m\u001b[38;5;241;43m.\u001b[39;49m\u001b[43m__name\u001b[49m)\n",
      "\u001b[0;31mAttributeError\u001b[0m: 'Car' object has no attribute '__name'"
     ]
    }
   ],
   "source": [
    "class Car:\n",
    "    def __init__(self, name, mileage):\n",
    "        self.__name = name              #private variable        \n",
    "        self.mileage = mileage \n",
    "\n",
    "    def description(self):                \n",
    "        return f\"The {self.__name} car gives the mileage of {self.mileage}km/l\"\n",
    "obj = Car(\"BMW 7-series\",39.53)\n",
    "\n",
    "#accessing private variable via class method \n",
    "print(obj.description())\n",
    "\n",
    "#accessing private variable directly from outside\n",
    "print(obj.mileage)\n",
    "print(obj.__name)\n",
    "\n"
   ]
  },
  {
   "cell_type": "markdown",
   "id": "5a553f14-3353-4452-818b-f40128864ca6",
   "metadata": {},
   "source": [
    "### Encapsulation\n",
    "\n",
    "When we tried accessing the private variable using the description() method, we encountered no error. But when we tried accessing the private variable directly outside the class, then Python gave us an error stating: car object has no attribute ‘__name’.\n",
    "\n",
    "You can still access this attribute directly using its mangled name. Name mangling is a mechanism we use for accessing the class members from outside. The Python interpreter rewrites any identifier with “__var” as “_ClassName__var”. And using this you can access the class member from outside as well.\n",
    "\n"
   ]
  },
  {
   "cell_type": "code",
   "execution_count": 29,
   "id": "e7867ab9-50f2-4721-9a44-8aea270a5e09",
   "metadata": {},
   "outputs": [
    {
     "name": "stdout",
     "output_type": "stream",
     "text": [
      "The BMW 7-series car gives the mileage of 39.53km/l\n",
      "39.53\n",
      "BMW 7-series\n"
     ]
    }
   ],
   "source": [
    "class Car:\n",
    "\n",
    "    def __init__(self, name, mileage):\n",
    "        self.__name = name              #private variable        \n",
    "        self.mileage = mileage \n",
    "\n",
    "    def description(self):                \n",
    "        return f\"The {self.__name} car gives the mileage of {self.mileage}km/l\"\n",
    "obj = Car(\"BMW 7-series\",39.53)\n",
    "\n",
    "#accessing private variable via class method \n",
    "print(obj.description())\n",
    "\n",
    "#accessing private variable directly from outside\n",
    "print(obj.mileage)\n",
    "print(obj._Car__name)      #mangled name\n",
    "\n",
    "\n"
   ]
  },
  {
   "cell_type": "markdown",
   "id": "da3c0abc-4369-43a9-9cc6-fe60b9ef41de",
   "metadata": {},
   "source": [
    "Note that the mangling rule’s design mostly avoids accidents. But it is still possible to access or modify a variable that is considered private. This can even be useful in special circumstances, such as in the debugger.\n",
    "\n",
    " \n",
    "\n",
    "### Polymorphism\n",
    "This is a Greek word. If we break the term Polymorphism, we get “poly”-many and “morph”-forms. So Polymorphism means having many forms. In OOP it refers to the functions having the same names but carrying different functionalities.\n",
    "\n"
   ]
  },
  {
   "cell_type": "code",
   "execution_count": 30,
   "id": "c849028d-d0a8-459e-8aed-1aeee74b609f",
   "metadata": {},
   "outputs": [
    {
     "name": "stdout",
     "output_type": "stream",
     "text": [
      "This the description function of class AUDI.\n",
      "This the description function of class BMW.\n"
     ]
    }
   ],
   "source": [
    "class Audi:\n",
    "    def description(self):\n",
    "        print(\"This the description function of class AUDI.\")\n",
    "\n",
    "class BMW:\n",
    "    def description(self):\n",
    "        print(\"This the description function of class BMW.\")\n",
    "audi = Audi()\n",
    "bmw = BMW()\n",
    "for car in (audi,bmw):\n",
    "    car.description()\n",
    "\n",
    "\n"
   ]
  },
  {
   "cell_type": "markdown",
   "id": "264ed8bd-1fa2-406f-9a86-f03c80d6270a",
   "metadata": {},
   "source": [
    "When the function is called using the object audi then the function of class Audi is called and when it is called using the object bmw then the function of class BMW is called.\n",
    "\n",
    " \n",
    "\n",
    "### Data abstraction\n",
    "\n",
    "We use Abstraction for hiding the internal details or implementations of a function and showing its functionalities only. This is similar to the way you know how to drive a car without knowing the background mechanism. Or you know how to turn on or off a light using a switch but you don’t know what is happening behind the socket.\n",
    "\n",
    "Any class with at least one abstract function is an abstract class. In order to create an abstraction class first, you need to import ABC class from abc module. This lets you create abstract methods inside it. ABC stands for Abstract Base Class.\n",
    "\n"
   ]
  },
  {
   "cell_type": "code",
   "execution_count": 32,
   "id": "efcd35ca-02e0-4891-bd5f-87ea789e333c",
   "metadata": {},
   "outputs": [],
   "source": [
    "from abc import ABC\n",
    "\n",
    "class abs_class(ABC):\n",
    "    # Body of the class\n",
    "    pass\n"
   ]
  },
  {
   "cell_type": "markdown",
   "id": "e3c431d1-d977-4378-925f-b0c8bcc95fae",
   "metadata": {},
   "source": [
    "Important thing is– you cannot create an object for the abstract class with the abstract method. For example-\n",
    "\n"
   ]
  },
  {
   "cell_type": "code",
   "execution_count": 36,
   "id": "728adb43-b4ec-4048-a549-a350dfbc9ba8",
   "metadata": {},
   "outputs": [],
   "source": [
    "from abc import ABC, abstractmethod\n",
    "\n",
    "class Car(ABC):\n",
    "    def __init__(self,name):\n",
    "        self.name = name \n",
    "\n",
    "@abstractmethod\n",
    "def price(self,x):\n",
    "    pass\n",
    "obj = Car(\"Honda City\")\n"
   ]
  },
  {
   "cell_type": "markdown",
   "id": "dad5d8ce-3bec-4d36-bc1d-5142fc3d8390",
   "metadata": {},
   "source": [
    "Now the question is how do we use this abstraction exactly. The answer is by using inheritance.\n",
    "\n"
   ]
  },
  {
   "cell_type": "code",
   "execution_count": 37,
   "id": "17458079-2f14-43ee-a9a2-00014723923b",
   "metadata": {},
   "outputs": [
    {
     "name": "stdout",
     "output_type": "stream",
     "text": [
      "This the description function of class car.\n",
      "The Honda City's price is 25 lakhs.\n"
     ]
    }
   ],
   "source": [
    "from abc import ABC, abstractmethod\n",
    "\n",
    "class Car(ABC):\n",
    "    def __init__(self,name):\n",
    "        self.name = name\n",
    "\n",
    "    def description(self):\n",
    "        print(\"This the description function of class car.\")\n",
    "\n",
    "    @abstractmethod\n",
    "    def price(self,x):\n",
    "        pass\n",
    "class new(Car):\n",
    "    def price(self,x):\n",
    "        print(f\"The {self.name}'s price is {x} lakhs.\")\n",
    "obj = new(\"Honda City\")\n",
    "\n",
    "obj.description()\n",
    "obj.price(25)\n",
    "\n"
   ]
  },
  {
   "cell_type": "markdown",
   "id": "9dbafc48-d705-4387-b78f-c776bbd7703e",
   "metadata": {},
   "source": [
    "\n",
    "Car is the abstract class that inherits from the ABC class from the abc module. Notice how I have an abstract method (price()) and a concrete method (description()) in the abstract class. This is because the abstract class can include both of these kinds of functions but a normal class cannot. The other class inheriting from this abstract class is new(). This method is giving definition to the abstract method (price()) which is how we use abstract functions.\n",
    "\n",
    "After the user creates objects from new() class and invokes the price() method, the definitions for the price method inside the new() class comes into play. These definitions are hidden from the user. The Abstract method is just providing a declaration. The child classes need to provide the definition.\n",
    "\n",
    "But when the description() method is called for the object of new() class i.e obj, the Car’s description() method is invoked since it is not an abstract method."
   ]
  },
  {
   "cell_type": "markdown",
   "id": "ccc35cba-a5b9-4699-8a99-52908d402bea",
   "metadata": {},
   "source": [
    "**Taken most of content from** https://www.analyticsvidhya.com"
   ]
  }
 ],
 "metadata": {
  "kernelspec": {
   "display_name": "Python 3 (ipykernel)",
   "language": "python",
   "name": "python3"
  },
  "language_info": {
   "codemirror_mode": {
    "name": "ipython",
    "version": 3
   },
   "file_extension": ".py",
   "mimetype": "text/x-python",
   "name": "python",
   "nbconvert_exporter": "python",
   "pygments_lexer": "ipython3",
   "version": "3.9.15"
  }
 },
 "nbformat": 4,
 "nbformat_minor": 5
}
