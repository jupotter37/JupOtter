{
 "cells": [
  {
   "cell_type": "markdown",
   "metadata": {
    "toc": "true"
   },
   "source": [
    " # Table of Contents\n",
    "<div class=\"toc\" style=\"margin-top: 1em;\"><ul class=\"toc-item\" id=\"toc-level0\"><li><span><a href=\"http://localhost:8889/notebooks/nn_postprocessing/discrete_crps_test.ipynb#Sebastians-example\" data-toc-modified-id=\"Sebastians-example-1\"><span class=\"toc-item-num\">1&nbsp;&nbsp;</span>Sebastians example</a></span><ul class=\"toc-item\"><li><span><a href=\"http://localhost:8889/notebooks/nn_postprocessing/discrete_crps_test.ipynb#Function-for-real(?)-CRPS\" data-toc-modified-id=\"Function-for-real(?)-CRPS-1.1\"><span class=\"toc-item-num\">1.1&nbsp;&nbsp;</span>Function for real(?) CRPS</a></span></li></ul></li></ul></div>"
   ]
  },
  {
   "cell_type": "code",
   "execution_count": 1,
   "metadata": {},
   "outputs": [
    {
     "name": "stderr",
     "output_type": "stream",
     "text": [
      "Using TensorFlow backend.\n"
     ]
    },
    {
     "name": "stdout",
     "output_type": "stream",
     "text": [
      "Anaconda environment: py36_gpu\n",
      "Linux 4.4.0-101-generic\n"
     ]
    }
   ],
   "source": [
    "from utils import crps_normal"
   ]
  },
  {
   "cell_type": "code",
   "execution_count": 2,
   "metadata": {
    "collapsed": true
   },
   "outputs": [],
   "source": [
    "mean = 1\n",
    "sigma = 3\n",
    "obs = 2"
   ]
  },
  {
   "cell_type": "code",
   "execution_count": 3,
   "metadata": {},
   "outputs": [
    {
     "data": {
      "text/plain": [
       "0.83284793515116295"
      ]
     },
     "execution_count": 3,
     "metadata": {},
     "output_type": "execute_result"
    }
   ],
   "source": [
    "crps_normal(mean, sigma, obs)"
   ]
  },
  {
   "cell_type": "code",
   "execution_count": 4,
   "metadata": {
    "collapsed": true
   },
   "outputs": [],
   "source": [
    "from scipy.stats import norm"
   ]
  },
  {
   "cell_type": "code",
   "execution_count": 5,
   "metadata": {
    "collapsed": true
   },
   "outputs": [],
   "source": [
    "import matplotlib.pyplot as plt\n",
    "%matplotlib inline"
   ]
  },
  {
   "cell_type": "code",
   "execution_count": 6,
   "metadata": {
    "collapsed": true
   },
   "outputs": [],
   "source": [
    "import numpy as np"
   ]
  },
  {
   "cell_type": "code",
   "execution_count": 7,
   "metadata": {},
   "outputs": [
    {
     "data": {
      "text/plain": [
       "<matplotlib.lines.Line2D at 0x7fc9cd9060b8>"
      ]
     },
     "execution_count": 7,
     "metadata": {},
     "output_type": "execute_result"
    },
    {
     "data": {
      "image/png": "[encoded data removed]",
      "text/plain": [
       "<matplotlib.figure.Figure at 0x7fc9cd9060f0>"
      ]
     },
     "metadata": {},
     "output_type": "display_data"
    }
   ],
   "source": [
    "x = np.linspace(-10, 10, 100)\n",
    "plt.plot(x, norm.pdf(x, mean, sigma))\n",
    "plt.axvline(obs)"
   ]
  },
  {
   "cell_type": "code",
   "execution_count": 8,
   "metadata": {},
   "outputs": [
    {
     "data": {
      "text/plain": [
       "<matplotlib.lines.Line2D at 0x7fc9cd8e7f28>"
      ]
     },
     "execution_count": 8,
     "metadata": {},
     "output_type": "execute_result"
    },
    {
     "data": {
      "image/png": "[encoded data removed]",
      "text/plain": [
       "<matplotlib.figure.Figure at 0x7fc9cd8e7f60>"
      ]
     },
     "metadata": {},
     "output_type": "display_data"
    }
   ],
   "source": [
    "plt.plot(x, norm.cdf(x, mean, sigma))\n",
    "plt.axvline(obs)"
   ]
  },
  {
   "cell_type": "code",
   "execution_count": 9,
   "metadata": {},
   "outputs": [
    {
     "data": {
      "text/plain": [
       "array([-10,  -9,  -8,  -7,  -6,  -5,  -4,  -3,  -2,  -1,   0,   1,   2,\n",
       "         3,   4,   5,   6,   7,   8,   9,  10])"
      ]
     },
     "execution_count": 9,
     "metadata": {},
     "output_type": "execute_result"
    }
   ],
   "source": [
    "bins = np.arange(-10, 11)\n",
    "bins"
   ]
  },
  {
   "cell_type": "code",
   "execution_count": 10,
   "metadata": {
    "collapsed": true
   },
   "outputs": [],
   "source": [
    "from scipy.stats import binned_statistic"
   ]
  },
  {
   "cell_type": "code",
   "execution_count": 11,
   "metadata": {},
   "outputs": [
    {
     "data": {
      "text/plain": [
       "array([ 0.00027361,  0.00084067,  0.00230843,  0.00566494,  0.01242418,\n",
       "        0.02435222,  0.04265903,  0.06678636,  0.0934483 ,  0.11685937,\n",
       "        0.13060667,  0.13046003,  0.11646618,  0.09292485,  0.0662632 ,\n",
       "        0.04222987,  0.02405312,  0.01224403,  0.00557026,  0.00226476])"
      ]
     },
     "execution_count": 11,
     "metadata": {},
     "output_type": "execute_result"
    }
   ],
   "source": [
    "discrete_pdf = binned_statistic(x, norm.pdf(x, mean, sigma), bins=bins)[0]\n",
    "discrete_pdf"
   ]
  },
  {
   "cell_type": "code",
   "execution_count": 12,
   "metadata": {},
   "outputs": [
    {
     "data": {
      "text/plain": [
       "<matplotlib.lines.Line2D at 0x7fc989a01630>"
      ]
     },
     "execution_count": 12,
     "metadata": {},
     "output_type": "execute_result"
    },
    {
     "data": {
      "image/png": "[encoded data removed]",
      "text/plain": [
       "<matplotlib.figure.Figure at 0x7fc989a01828>"
      ]
     },
     "metadata": {},
     "output_type": "display_data"
    }
   ],
   "source": [
    "plt.bar(bins[:-1], discrete_pdf)\n",
    "plt.axvline(obs)"
   ]
  },
  {
   "cell_type": "code",
   "execution_count": 13,
   "metadata": {},
   "outputs": [
    {
     "data": {
      "text/plain": [
       "array([  2.18868160e-04,   7.33855671e-04,   2.21518074e-03,\n",
       "         6.02693689e-03,   1.48015893e-02,   3.28722022e-02,\n",
       "         6.61658285e-02,   1.21044127e-01,   2.01971698e-01,\n",
       "         3.08742533e-01,   4.34771928e-01,   5.67865119e-01,\n",
       "         6.93614298e-01,   7.99910861e-01,   8.80299806e-01,\n",
       "         9.34691631e-01,   9.67616736e-01,   9.85447581e-01,\n",
       "         9.94086548e-01,   9.97831012e-01])"
      ]
     },
     "execution_count": 13,
     "metadata": {},
     "output_type": "execute_result"
    }
   ],
   "source": [
    "discrete_cdf = binned_statistic(x, norm.cdf(x, mean, sigma), bins=bins)[0]\n",
    "discrete_cdf"
   ]
  },
  {
   "cell_type": "code",
   "execution_count": 14,
   "metadata": {},
   "outputs": [
    {
     "data": {
      "image/png": "[encoded data removed]",
      "text/plain": [
       "<matplotlib.figure.Figure at 0x7fc984f3ef28>"
      ]
     },
     "metadata": {},
     "output_type": "display_data"
    }
   ],
   "source": [
    "plt.bar(bins[:-1], discrete_cdf)\n",
    "plt.bar(bins[:-1], np.asarray(bins[:-1] > obs, dtype='float'), color='g', zorder=0.1)\n",
    "plt.axvline(obs)\n",
    "plt.savefig('./test_plot')"
   ]
  },
  {
   "cell_type": "code",
   "execution_count": 15,
   "metadata": {},
   "outputs": [
    {
     "data": {
      "text/plain": [
       "(array([  2.73605201e-04,   1.11428006e-03,   3.42270989e-03,\n",
       "          9.08764703e-03,   2.15118273e-02,   4.58640472e-02,\n",
       "          8.85230742e-02,   1.55309436e-01,   2.48757734e-01,\n",
       "          3.65617100e-01,   4.96223769e-01,   6.26683795e-01,\n",
       "          7.43149975e-01,   8.36074828e-01,   9.02338032e-01,\n",
       "          9.44567898e-01,   9.68621016e-01,   9.80865051e-01,\n",
       "          9.86435315e-01,   9.88700070e-01]),\n",
       " array([  2.18868160e-04,   7.33855671e-04,   2.21518074e-03,\n",
       "          6.02693689e-03,   1.48015893e-02,   3.28722022e-02,\n",
       "          6.61658285e-02,   1.21044127e-01,   2.01971698e-01,\n",
       "          3.08742533e-01,   4.34771928e-01,   5.67865119e-01,\n",
       "          6.93614298e-01,   7.99910861e-01,   8.80299806e-01,\n",
       "          9.34691631e-01,   9.67616736e-01,   9.85447581e-01,\n",
       "          9.94086548e-01,   9.97831012e-01]))"
      ]
     },
     "execution_count": 15,
     "metadata": {},
     "output_type": "execute_result"
    }
   ],
   "source": [
    "np.cumsum(discrete_pdf), discrete_cdf"
   ]
  },
  {
   "cell_type": "code",
   "execution_count": 16,
   "metadata": {},
   "outputs": [
    {
     "data": {
      "text/plain": [
       "array([  2.18868160e-04,   7.33855671e-04,   2.21518074e-03,\n",
       "         6.02693689e-03,   1.48015893e-02,   3.28722022e-02,\n",
       "         6.61658285e-02,   1.21044127e-01,   2.01971698e-01,\n",
       "         3.08742533e-01,   4.34771928e-01,   5.67865119e-01,\n",
       "         6.93614298e-01,  -2.00089139e-01,  -1.19700194e-01,\n",
       "        -6.53083690e-02,  -3.23832638e-02,  -1.45524189e-02,\n",
       "        -5.91345226e-03,  -2.16898819e-03])"
      ]
     },
     "execution_count": 16,
     "metadata": {},
     "output_type": "execute_result"
    }
   ],
   "source": [
    "discrete_cdf - np.asarray(bins[:-1] > obs, dtype='float')"
   ]
  },
  {
   "cell_type": "code",
   "execution_count": 17,
   "metadata": {},
   "outputs": [
    {
     "data": {
      "text/plain": [
       "0.060450646164963498"
      ]
     },
     "execution_count": 17,
     "metadata": {},
     "output_type": "execute_result"
    }
   ],
   "source": [
    "np.mean((discrete_cdf - np.asarray(bins[:-1] > obs, dtype='float'))**2)"
   ]
  },
  {
   "cell_type": "markdown",
   "metadata": {
    "collapsed": true
   },
   "source": [
    "## Sebastians example"
   ]
  },
  {
   "cell_type": "code",
   "execution_count": 18,
   "metadata": {
    "collapsed": true
   },
   "outputs": [],
   "source": [
    "probs = np.array([0.14935065, 0.15097403, 0.04707792, 0.13149351, 0.10064935, 0.08116883,\n",
    "                  0.11363636, 0.02110390, 0.09902597, 0.10551948])"
   ]
  },
  {
   "cell_type": "code",
   "execution_count": 19,
   "metadata": {},
   "outputs": [
    {
     "data": {
      "text/plain": [
       "1.0"
      ]
     },
     "execution_count": 19,
     "metadata": {},
     "output_type": "execute_result"
    }
   ],
   "source": [
    "probs.sum()"
   ]
  },
  {
   "cell_type": "code",
   "execution_count": 20,
   "metadata": {
    "collapsed": true
   },
   "outputs": [],
   "source": [
    "obs = 4.577418"
   ]
  },
  {
   "cell_type": "code",
   "execution_count": 21,
   "metadata": {
    "collapsed": true
   },
   "outputs": [],
   "source": [
    "bin_edges = np.arange(0, 11, 1)"
   ]
  },
  {
   "cell_type": "code",
   "execution_count": 22,
   "metadata": {},
   "outputs": [
    {
     "data": {
      "image/png": "[encoded data removed]",
      "text/plain": [
       "<matplotlib.figure.Figure at 0x7fc984f36f28>"
      ]
     },
     "metadata": {},
     "output_type": "display_data"
    }
   ],
   "source": [
    "plt.bar(bin_edges[:-1] + 0.5, probs, width=1)\n",
    "plt.axvline(obs, c='r')\n",
    "plt.show()"
   ]
  },
  {
   "cell_type": "code",
   "execution_count": 23,
   "metadata": {
    "collapsed": true
   },
   "outputs": [],
   "source": [
    "cum_probs = np.cumsum(probs)"
   ]
  },
  {
   "cell_type": "code",
   "execution_count": 24,
   "metadata": {
    "collapsed": true
   },
   "outputs": [],
   "source": [
    "cum_obs = np.array([0, 1])\n",
    "cum_obs_bin_edges = np.array([0, obs, 10])"
   ]
  },
  {
   "cell_type": "code",
   "execution_count": 25,
   "metadata": {},
   "outputs": [
    {
     "data": {
      "text/plain": [
       "<Container object of 2 artists>"
      ]
     },
     "execution_count": 25,
     "metadata": {},
     "output_type": "execute_result"
    },
    {
     "data": {
      "image/png": "[encoded data removed]",
      "text/plain": [
       "<matplotlib.figure.Figure at 0x7fc984d1d128>"
      ]
     },
     "metadata": {},
     "output_type": "display_data"
    }
   ],
   "source": [
    "plt.bar(bin_edges[:-1] + 0.5, cum_probs, width=1, alpha=0.5)\n",
    "plt.bar(cum_obs_bin_edges[:-1], cum_obs, width=np.diff(cum_obs_bin_edges), \n",
    "       zorder =0.1)"
   ]
  },
  {
   "cell_type": "code",
   "execution_count": 26,
   "metadata": {
    "collapsed": true
   },
   "outputs": [],
   "source": [
    "bin_obs = np.array((bin_edges[:-1] < obs) & (bin_edges[1:] > obs), dtype=int)"
   ]
  },
  {
   "cell_type": "code",
   "execution_count": 27,
   "metadata": {},
   "outputs": [
    {
     "data": {
      "text/plain": [
       "array([0, 0, 0, 0, 1, 0, 0, 0, 0, 0])"
      ]
     },
     "execution_count": 27,
     "metadata": {},
     "output_type": "execute_result"
    }
   ],
   "source": [
    "bin_obs"
   ]
  },
  {
   "cell_type": "code",
   "execution_count": 28,
   "metadata": {},
   "outputs": [
    {
     "data": {
      "image/png": "[encoded data removed]",
      "text/plain": [
       "<matplotlib.figure.Figure at 0x7fc984cba898>"
      ]
     },
     "metadata": {},
     "output_type": "display_data"
    }
   ],
   "source": [
    "plt.bar(bin_edges[:-1] + 0.5, probs, width=1)\n",
    "plt.bar(bin_edges[:-1] + 0.5, bin_obs, width=1)\n",
    "plt.axvline(obs, c='r')\n",
    "plt.show()"
   ]
  },
  {
   "cell_type": "code",
   "execution_count": 29,
   "metadata": {},
   "outputs": [
    {
     "data": {
      "text/plain": [
       "0.91432471903567214"
      ]
     },
     "execution_count": 29,
     "metadata": {},
     "output_type": "execute_result"
    }
   ],
   "source": [
    "rps = np.sum((probs - bin_obs) ** 2)\n",
    "rps"
   ]
  },
  {
   "cell_type": "code",
   "execution_count": 30,
   "metadata": {
    "collapsed": true
   },
   "outputs": [],
   "source": [
    "cum_bin_obs = np.cumsum(bin_obs)"
   ]
  },
  {
   "cell_type": "code",
   "execution_count": 31,
   "metadata": {},
   "outputs": [
    {
     "data": {
      "image/png": "[encoded data removed]",
      "text/plain": [
       "<matplotlib.figure.Figure at 0x7fc984b4bdd8>"
      ]
     },
     "metadata": {},
     "output_type": "display_data"
    }
   ],
   "source": [
    "plt.bar(bin_edges[:-1] + 0.5, cum_probs, width=1, alpha=0.8)\n",
    "plt.bar(bin_edges[:-1] + 0.5, cum_bin_obs, width=1, zorder=0.1)\n",
    "plt.axvline(obs, c='r')\n",
    "plt.show()"
   ]
  },
  {
   "cell_type": "code",
   "execution_count": 32,
   "metadata": {
    "collapsed": true
   },
   "outputs": [],
   "source": [
    "approx_crps = np.sum((cum_probs - cum_bin_obs) ** 2)"
   ]
  },
  {
   "cell_type": "code",
   "execution_count": 33,
   "metadata": {},
   "outputs": [
    {
     "data": {
      "text/plain": [
       "0.85831822487982823"
      ]
     },
     "execution_count": 33,
     "metadata": {},
     "output_type": "execute_result"
    }
   ],
   "source": [
    "approx_crps"
   ]
  },
  {
   "cell_type": "code",
   "execution_count": 34,
   "metadata": {
    "collapsed": true
   },
   "outputs": [],
   "source": [
    "insert_idx = np.where(obs<bin_edges)[0][0]"
   ]
  },
  {
   "cell_type": "code",
   "execution_count": 35,
   "metadata": {},
   "outputs": [
    {
     "data": {
      "text/plain": [
       "array([  0.      ,   1.      ,   2.      ,   3.      ,   4.      ,\n",
       "         4.577418,   5.      ,   6.      ,   7.      ,   8.      ,\n",
       "         9.      ,  10.      ])"
      ]
     },
     "execution_count": 35,
     "metadata": {},
     "output_type": "execute_result"
    }
   ],
   "source": [
    "new_bin_edges = np.insert(np.array(bin_edges, dtype=float), insert_idx, obs)\n",
    "new_bin_edges"
   ]
  },
  {
   "cell_type": "code",
   "execution_count": 36,
   "metadata": {
    "collapsed": true
   },
   "outputs": [],
   "source": [
    "new_probs = np.insert(probs, insert_idx, probs[insert_idx-1])"
   ]
  },
  {
   "cell_type": "code",
   "execution_count": 37,
   "metadata": {},
   "outputs": [
    {
     "data": {
      "image/png": "[encoded data removed]",
      "text/plain": [
       "<matplotlib.figure.Figure at 0x7fc984a43ef0>"
      ]
     },
     "metadata": {},
     "output_type": "display_data"
    }
   ],
   "source": [
    "plt.bar(new_bin_edges[:-1] + 0.5 * np.diff(new_bin_edges), new_probs, \n",
    "        width=np.diff(new_bin_edges), linewidth=1, edgecolor='k')\n",
    "plt.show()"
   ]
  },
  {
   "cell_type": "code",
   "execution_count": 38,
   "metadata": {
    "collapsed": true
   },
   "outputs": [],
   "source": [
    "new_bin_obs = np.array((new_bin_edges[:-1] <= obs) & (new_bin_edges[1:] > obs), dtype=int)"
   ]
  },
  {
   "cell_type": "code",
   "execution_count": 39,
   "metadata": {},
   "outputs": [
    {
     "data": {
      "text/plain": [
       "(array([ 0.      ,  1.      ,  2.      ,  3.      ,  4.      ,  4.577418,\n",
       "         5.      ,  6.      ,  7.      ,  8.      ,  9.      ]),\n",
       " 4.577418,\n",
       " array([ True,  True,  True,  True,  True, False, False, False, False,\n",
       "        False, False], dtype=bool))"
      ]
     },
     "execution_count": 39,
     "metadata": {},
     "output_type": "execute_result"
    }
   ],
   "source": [
    "new_bin_edges[:-1], obs,(new_bin_edges[:-1] < obs)"
   ]
  },
  {
   "cell_type": "code",
   "execution_count": 40,
   "metadata": {},
   "outputs": [
    {
     "data": {
      "text/plain": [
       "array([0, 0, 0, 0, 0, 1, 0, 0, 0, 0, 0])"
      ]
     },
     "execution_count": 40,
     "metadata": {},
     "output_type": "execute_result"
    }
   ],
   "source": [
    "new_bin_obs"
   ]
  },
  {
   "cell_type": "code",
   "execution_count": 41,
   "metadata": {
    "collapsed": true
   },
   "outputs": [],
   "source": [
    "new_cum_bin_obs = np.cumsum(new_bin_obs)\n",
    "new_cum_probs = np.cumsum(new_probs * np.diff(new_bin_edges))"
   ]
  },
  {
   "cell_type": "code",
   "execution_count": 42,
   "metadata": {},
   "outputs": [
    {
     "data": {
      "image/png": "[encoded data removed]",
      "text/plain": [
       "<matplotlib.figure.Figure at 0x7fc98497fb00>"
      ]
     },
     "metadata": {},
     "output_type": "display_data"
    }
   ],
   "source": [
    "plt.bar(new_bin_edges[:-1] + 0.5 * np.diff(new_bin_edges), new_cum_probs, \n",
    "        width=np.diff(new_bin_edges), linewidth=1, edgecolor='k', alpha=0.8)\n",
    "plt.bar(new_bin_edges[:-1] + 0.5 * np.diff(new_bin_edges), new_cum_bin_obs, \n",
    "        width=np.diff(new_bin_edges), linewidth=1, color='r', zorder=0.1)\n",
    "plt.bar(bin_edges[:-1] + 0.5, cum_probs, width=1, alpha=0.8)\n",
    "plt.axvline(obs, c='r')\n",
    "plt.show()"
   ]
  },
  {
   "cell_type": "code",
   "execution_count": 43,
   "metadata": {
    "collapsed": true
   },
   "outputs": [],
   "source": [
    "crps = np.sum((((new_cum_probs - new_cum_bin_obs) * np.diff(new_bin_edges)) ** 2) )"
   ]
  },
  {
   "cell_type": "code",
   "execution_count": 44,
   "metadata": {},
   "outputs": [
    {
     "data": {
      "text/plain": [
       "0.80925530861832939"
      ]
     },
     "execution_count": 44,
     "metadata": {},
     "output_type": "execute_result"
    }
   ],
   "source": [
    "crps"
   ]
  },
  {
   "cell_type": "code",
   "execution_count": 45,
   "metadata": {},
   "outputs": [
    {
     "data": {
      "text/plain": [
       "0.80925530861832939"
      ]
     },
     "execution_count": 45,
     "metadata": {},
     "output_type": "execute_result"
    }
   ],
   "source": [
    "np.sum(((new_cum_probs - new_cum_bin_obs) **2 * np.diff(new_bin_edges)**2)) "
   ]
  },
  {
   "cell_type": "code",
   "execution_count": 46,
   "metadata": {},
   "outputs": [
    {
     "data": {
      "text/plain": [
       "array([  2.23056167e-02,   9.01949134e-02,   1.20688566e-01,\n",
       "         2.29341484e-01,   1.76782020e-01,   1.15114793e-01,\n",
       "         5.09176292e-02,   4.18388411e-02,   1.11343607e-02,\n",
       "         1.23259516e-32])"
      ]
     },
     "execution_count": 46,
     "metadata": {},
     "output_type": "execute_result"
    }
   ],
   "source": [
    "(cum_probs - cum_bin_obs) ** 2"
   ]
  },
  {
   "cell_type": "code",
   "execution_count": 47,
   "metadata": {},
   "outputs": [
    {
     "data": {
      "text/plain": [
       "array([ 1.      ,  1.      ,  1.      ,  1.      ,  0.577418,  0.422582,\n",
       "        1.      ,  1.      ,  1.      ,  1.      ,  1.      ])"
      ]
     },
     "execution_count": 47,
     "metadata": {},
     "output_type": "execute_result"
    }
   ],
   "source": [
    "np.diff(new_bin_edges)"
   ]
  },
  {
   "cell_type": "code",
   "execution_count": 51,
   "metadata": {
    "collapsed": true
   },
   "outputs": [],
   "source": [
    "a = np.concatenate(([0], new_cum_probs))"
   ]
  },
  {
   "cell_type": "code",
   "execution_count": 52,
   "metadata": {},
   "outputs": [],
   "source": [
    "fix = (a[:-1] + a[1:]) / 2"
   ]
  },
  {
   "cell_type": "code",
   "execution_count": 53,
   "metadata": {},
   "outputs": [
    {
     "data": {
      "text/plain": [
       "<matplotlib.lines.Line2D at 0x7fc984a53748>"
      ]
     },
     "execution_count": 53,
     "metadata": {},
     "output_type": "execute_result"
    },
    {
     "data": {
      "image/png": "[encoded data removed]",
      "text/plain": [
       "<matplotlib.figure.Figure at 0x7fc984a02828>"
      ]
     },
     "metadata": {},
     "output_type": "display_data"
    }
   ],
   "source": [
    "plt.plot(new_bin_edges, np.concatenate(([0], new_cum_probs)))\n",
    "plt.bar(new_bin_edges[:-1] + 0.5 * np.diff(new_bin_edges), new_cum_probs, \n",
    "        width=np.diff(new_bin_edges), linewidth=1, edgecolor='k', alpha=0.8)\n",
    "plt.bar(new_bin_edges[:-1] + 0.5 * np.diff(new_bin_edges), fix, \n",
    "        width=np.diff(new_bin_edges), linewidth=1, color='r', zorder=2)\n",
    "plt.plot(new_bin_edges, np.concatenate(([0], new_cum_bin_obs)))\n",
    "plt.axvline(obs, c='g')"
   ]
  },
  {
   "cell_type": "code",
   "execution_count": 54,
   "metadata": {},
   "outputs": [
    {
     "data": {
      "image/png": "[encoded data removed]",
      "text/plain": [
       "<matplotlib.figure.Figure at 0x7fc984873f98>"
      ]
     },
     "metadata": {},
     "output_type": "display_data"
    }
   ],
   "source": [
    "plt.bar(new_bin_edges[:-1] + 0.5 * np.diff(new_bin_edges), new_cum_probs, \n",
    "        width=np.diff(new_bin_edges), linewidth=1, edgecolor='k', alpha=0.8)\n",
    "plt.bar(new_bin_edges[:-1] + 0.5 * np.diff(new_bin_edges), fix, \n",
    "        width=np.diff(new_bin_edges), linewidth=1, color='r', zorder=2)\n",
    "plt.axvline(obs, c='r')\n",
    "plt.show()"
   ]
  },
  {
   "cell_type": "code",
   "execution_count": 55,
   "metadata": {
    "collapsed": true
   },
   "outputs": [],
   "source": [
    "crps = np.sum((((fix - new_cum_bin_obs)  ) ** 2) *np.diff(new_bin_edges))"
   ]
  },
  {
   "cell_type": "code",
   "execution_count": 56,
   "metadata": {},
   "outputs": [
    {
     "data": {
      "text/plain": [
       "0.86032034780350819"
      ]
     },
     "execution_count": 56,
     "metadata": {},
     "output_type": "execute_result"
    }
   ],
   "source": [
    "crps"
   ]
  },
  {
   "cell_type": "markdown",
   "metadata": {
    "collapsed": true
   },
   "source": [
    "### Function for real(?) CRPS"
   ]
  },
  {
   "cell_type": "code",
   "execution_count": 57,
   "metadata": {
    "collapsed": true
   },
   "outputs": [],
   "source": [
    "# Test data\n",
    "preds = np.stack([probs, probs])"
   ]
  },
  {
   "cell_type": "code",
   "execution_count": 58,
   "metadata": {},
   "outputs": [
    {
     "data": {
      "text/plain": [
       "((2, 10),\n",
       " array([[ 0.14935065,  0.15097403,  0.04707792,  0.13149351,  0.10064935,\n",
       "          0.08116883,  0.11363636,  0.0211039 ,  0.09902597,  0.10551948],\n",
       "        [ 0.14935065,  0.15097403,  0.04707792,  0.13149351,  0.10064935,\n",
       "          0.08116883,  0.11363636,  0.0211039 ,  0.09902597,  0.10551948]]))"
      ]
     },
     "execution_count": 58,
     "metadata": {},
     "output_type": "execute_result"
    }
   ],
   "source": [
    "preds.shape, preds   # [sample, bin]"
   ]
  },
  {
   "cell_type": "code",
   "execution_count": 95,
   "metadata": {
    "collapsed": true
   },
   "outputs": [],
   "source": [
    "targets = np.array([obs, 9.0000])"
   ]
  },
  {
   "cell_type": "code",
   "execution_count": 60,
   "metadata": {},
   "outputs": [
    {
     "data": {
      "text/plain": [
       "((2,), array([ 4.577418,  9.      ]))"
      ]
     },
     "execution_count": 60,
     "metadata": {},
     "output_type": "execute_result"
    }
   ],
   "source": [
    "targets.shape, targets"
   ]
  },
  {
   "cell_type": "code",
   "execution_count": 61,
   "metadata": {},
   "outputs": [
    {
     "data": {
      "text/plain": [
       "(2, 11)"
      ]
     },
     "execution_count": 61,
     "metadata": {},
     "output_type": "execute_result"
    }
   ],
   "source": [
    "a = np.repeat(np.atleast_2d(bin_edges), targets.shape[0], axis=0)\n",
    "a.shape"
   ]
  },
  {
   "cell_type": "code",
   "execution_count": 62,
   "metadata": {},
   "outputs": [
    {
     "ename": "ValueError",
     "evalue": "operands could not be broadcast together with shapes (2,11) (2,) ",
     "output_type": "error",
     "traceback": [
      "\u001b[0;31m---------------------------------------------------------------------------\u001b[0m",
      "\u001b[0;31mValueError\u001b[0m                                Traceback (most recent call last)",
      "\u001b[0;32m<ipython-input-62-be23cdf59844>\u001b[0m in \u001b[0;36m<module>\u001b[0;34m()\u001b[0m\n\u001b[0;32m----> 1\u001b[0;31m \u001b[0ma\u001b[0m \u001b[0;34m-\u001b[0m \u001b[0mtargets\u001b[0m\u001b[0;34m\u001b[0m\u001b[0m\n\u001b[0m",
      "\u001b[0;31mValueError\u001b[0m: operands could not be broadcast together with shapes (2,11) (2,) "
     ]
    }
   ],
   "source": [
    "a - targets"
   ]
  },
  {
   "cell_type": "code",
   "execution_count": 72,
   "metadata": {
    "collapsed": true
   },
   "outputs": [],
   "source": [
    "b = a - targets\n",
    "b[b < 0] = 999"
   ]
  },
  {
   "cell_type": "code",
   "execution_count": 73,
   "metadata": {},
   "outputs": [
    {
     "data": {
      "text/plain": [
       "array([[  9.99000000e+02,   9.99000000e+02],\n",
       "       [  9.99000000e+02,   9.99000000e+02],\n",
       "       [  9.99000000e+02,   9.99000000e+02],\n",
       "       [  9.99000000e+02,   9.99000000e+02],\n",
       "       [  9.99000000e+02,   9.99000000e+02],\n",
       "       [  4.22582000e-01,   9.99000000e+02],\n",
       "       [  1.42258200e+00,   9.99000000e+02],\n",
       "       [  2.42258200e+00,   9.99000000e+02],\n",
       "       [  3.42258200e+00,   9.99000000e+02],\n",
       "       [  4.42258200e+00,   9.99000000e+02],\n",
       "       [  5.42258200e+00,   9.00000000e-01]])"
      ]
     },
     "execution_count": 73,
     "metadata": {},
     "output_type": "execute_result"
    }
   ],
   "source": [
    "b"
   ]
  },
  {
   "cell_type": "code",
   "execution_count": 76,
   "metadata": {
    "collapsed": true
   },
   "outputs": [],
   "source": [
    "insert_idx = np.argmin(b, axis=0)"
   ]
  },
  {
   "cell_type": "code",
   "execution_count": 77,
   "metadata": {},
   "outputs": [
    {
     "data": {
      "text/plain": [
       "array([ 5, 10])"
      ]
     },
     "execution_count": 77,
     "metadata": {},
     "output_type": "execute_result"
    }
   ],
   "source": [
    "insert_idx"
   ]
  },
  {
   "cell_type": "code",
   "execution_count": 86,
   "metadata": {},
   "outputs": [
    {
     "data": {
      "text/plain": [
       "array([[ 0,  1,  2,  3,  4,  5,  6,  7,  8,  9, 10],\n",
       "       [ 0,  1,  2,  3,  4,  5,  6,  7,  8,  9, 10]])"
      ]
     },
     "execution_count": 86,
     "metadata": {},
     "output_type": "execute_result"
    }
   ],
   "source": [
    "a"
   ]
  },
  {
   "cell_type": "code",
   "execution_count": 91,
   "metadata": {
    "collapsed": true
   },
   "outputs": [],
   "source": [
    "new_bin_edges = np.insert(np.array(a, dtype=float), insert_idx, np.atleast_2d(targets), axis=1)"
   ]
  },
  {
   "cell_type": "code",
   "execution_count": 92,
   "metadata": {},
   "outputs": [
    {
     "data": {
      "text/plain": [
       "array([[  0.      ,   1.      ,   2.      ,   3.      ,   4.      ,\n",
       "          4.577418,   5.      ,   6.      ,   7.      ,   8.      ,\n",
       "          9.      ,   9.1     ,  10.      ],\n",
       "       [  0.      ,   1.      ,   2.      ,   3.      ,   4.      ,\n",
       "          4.577418,   5.      ,   6.      ,   7.      ,   8.      ,\n",
       "          9.      ,   9.1     ,  10.      ]])"
      ]
     },
     "execution_count": 92,
     "metadata": {},
     "output_type": "execute_result"
    }
   ],
   "source": [
    "new_bin_edges"
   ]
  },
  {
   "cell_type": "code",
   "execution_count": 97,
   "metadata": {
    "collapsed": true
   },
   "outputs": [],
   "source": [
    "c = np.array([np.insert(np.array(bin_edges, dtype=float), insert_idx[i], targets[i]) \n",
    "              for i in range(targets.shape[0])])"
   ]
  },
  {
   "cell_type": "code",
   "execution_count": 98,
   "metadata": {},
   "outputs": [
    {
     "data": {
      "text/plain": [
       "array([[  0.      ,   1.      ,   2.      ,   3.      ,   4.      ,\n",
       "          4.577418,   5.      ,   6.      ,   7.      ,   8.      ,\n",
       "          9.      ,  10.      ],\n",
       "       [  0.      ,   1.      ,   2.      ,   3.      ,   4.      ,\n",
       "          5.      ,   6.      ,   7.      ,   8.      ,   9.      ,\n",
       "          9.1     ,  10.      ]])"
      ]
     },
     "execution_count": 98,
     "metadata": {},
     "output_type": "execute_result"
    }
   ],
   "source": [
    "c"
   ]
  },
  {
   "cell_type": "code",
   "execution_count": 99,
   "metadata": {
    "collapsed": true
   },
   "outputs": [],
   "source": [
    "d = np.array([np.insert(preds[i], insert_idx[i], preds[i, insert_idx[i]-1]) \n",
    "              for i in range(targets.shape[0])])"
   ]
  },
  {
   "cell_type": "code",
   "execution_count": 100,
   "metadata": {},
   "outputs": [
    {
     "data": {
      "text/plain": [
       "array([[ 0.14935065,  0.15097403,  0.04707792,  0.13149351,  0.10064935,\n",
       "         0.10064935,  0.08116883,  0.11363636,  0.0211039 ,  0.09902597,\n",
       "         0.10551948],\n",
       "       [ 0.14935065,  0.15097403,  0.04707792,  0.13149351,  0.10064935,\n",
       "         0.08116883,  0.11363636,  0.0211039 ,  0.09902597,  0.10551948,\n",
       "         0.10551948]])"
      ]
     },
     "execution_count": 100,
     "metadata": {},
     "output_type": "execute_result"
    }
   ],
   "source": [
    "d"
   ]
  },
  {
   "cell_type": "code",
   "execution_count": 107,
   "metadata": {},
   "outputs": [
    {
     "data": {
      "text/plain": [
       "array([[0, 0, 0, 0, 0, 1, 0, 0, 0, 0, 0],\n",
       "       [0, 0, 0, 0, 0, 0, 0, 0, 0, 0, 1]])"
      ]
     },
     "execution_count": 107,
     "metadata": {},
     "output_type": "execute_result"
    }
   ],
   "source": [
    "new_bin_obs = np.array([(c[i, :-1] <= targets[i]) & (c[i, 1:] > targets[i]) \n",
    "              for i in range(targets.shape[0])], dtype=int)\n",
    "new_bin_obs"
   ]
  },
  {
   "cell_type": "code",
   "execution_count": 114,
   "metadata": {
    "collapsed": true
   },
   "outputs": [],
   "source": [
    "d = d * np.diff(c, axis=1)"
   ]
  },
  {
   "cell_type": "code",
   "execution_count": 115,
   "metadata": {},
   "outputs": [
    {
     "data": {
      "text/plain": [
       "array([[ 0.14935065,  0.15097403,  0.04707792,  0.13149351,  0.05811675,\n",
       "         0.0425326 ,  0.08116883,  0.11363636,  0.0211039 ,  0.09902597,\n",
       "         0.10551948],\n",
       "       [ 0.14935065,  0.15097403,  0.04707792,  0.13149351,  0.10064935,\n",
       "         0.08116883,  0.11363636,  0.0211039 ,  0.09902597,  0.01055195,\n",
       "         0.09496753]])"
      ]
     },
     "execution_count": 115,
     "metadata": {},
     "output_type": "execute_result"
    }
   ],
   "source": [
    "d"
   ]
  },
  {
   "cell_type": "code",
   "execution_count": 116,
   "metadata": {
    "collapsed": true
   },
   "outputs": [],
   "source": [
    "new_cum_bin_obs = np.cumsum(new_bin_obs, axis=1)\n",
    "new_cum_probs = np.cumsum(d, axis=1)"
   ]
  },
  {
   "cell_type": "code",
   "execution_count": 117,
   "metadata": {},
   "outputs": [
    {
     "data": {
      "text/plain": [
       "(array([[0, 0, 0, 0, 0, 1, 1, 1, 1, 1, 1],\n",
       "        [0, 0, 0, 0, 0, 0, 0, 0, 0, 0, 1]]),\n",
       " array([[ 0.14935065,  0.30032468,  0.3474026 ,  0.47889611,  0.53701286,\n",
       "          0.57954546,  0.66071429,  0.77435065,  0.79545455,  0.89448052,\n",
       "          1.        ],\n",
       "        [ 0.14935065,  0.30032468,  0.3474026 ,  0.47889611,  0.57954546,\n",
       "          0.66071429,  0.77435065,  0.79545455,  0.89448052,  0.90503247,\n",
       "          1.        ]]))"
      ]
     },
     "execution_count": 117,
     "metadata": {},
     "output_type": "execute_result"
    }
   ],
   "source": [
    "new_cum_bin_obs, new_cum_probs"
   ]
  },
  {
   "cell_type": "code",
   "execution_count": 112,
   "metadata": {},
   "outputs": [
    {
     "data": {
      "text/plain": [
       "array([[ 0.13569322,  0.27286136,  0.31563422,  0.43510325,  0.52654868,\n",
       "         0.61799411,  0.69174042,  0.79498525,  0.8141593 ,  0.90412979,\n",
       "         1.        ],\n",
       "       [ 0.13509545,  0.27165933,  0.31424376,  0.4331865 ,  0.52422908,\n",
       "         0.59765052,  0.70044053,  0.71953011,  0.80910426,  0.90455213,\n",
       "         1.        ]])"
      ]
     },
     "execution_count": 112,
     "metadata": {},
     "output_type": "execute_result"
    }
   ],
   "source": [
    "new_cum_probs = (new_cum_probs.T / new_cum_probs[:, -1]).T\n",
    "new_cum_probs"
   ]
  },
  {
   "cell_type": "code",
   "execution_count": 123,
   "metadata": {
    "collapsed": true
   },
   "outputs": [],
   "source": [
    "f = np.concatenate((np.zeros((new_cum_probs.shape[0], 1)), new_cum_probs), axis=1)"
   ]
  },
  {
   "cell_type": "code",
   "execution_count": 124,
   "metadata": {},
   "outputs": [
    {
     "data": {
      "text/plain": [
       "array([[ 0.        ,  0.14935065,  0.30032468,  0.3474026 ,  0.47889611,\n",
       "         0.53701286,  0.57954546,  0.66071429,  0.77435065,  0.79545455,\n",
       "         0.89448052,  1.        ],\n",
       "       [ 0.        ,  0.14935065,  0.30032468,  0.3474026 ,  0.47889611,\n",
       "         0.57954546,  0.66071429,  0.77435065,  0.79545455,  0.89448052,\n",
       "         0.90503247,  1.        ]])"
      ]
     },
     "execution_count": 124,
     "metadata": {},
     "output_type": "execute_result"
    }
   ],
   "source": [
    "fix = (a[:-1] + a[1:]) / 2"
   ]
  },
  {
   "cell_type": "code",
   "execution_count": 64,
   "metadata": {
    "collapsed": true
   },
   "outputs": [],
   "source": [
    "import pdb\n",
    "def maybe_correct_crps(preds, targets, bin_edges):\n",
    "    #pdb.set_trace()\n",
    "    #Convert input arrays\n",
    "    preds = np.array(np.atleast_2d(preds), dtype='float')\n",
    "    targets = np.array(np.atleast_1d(targets), dtype='float')\n",
    "    \n",
    "    # preds [sample, bins]\n",
    "    # Find insert index\n",
    "    pdb.set_trace\n",
    "    mat_bins = np.repeat(np.atleast_2d(bin_edges), targets.shape[0], axis=0)\n",
    "    b = mat_bins.T - targets\n",
    "    b[b < 0] = 999\n",
    "    insert_idxs = np.argmin(b, axis=0)\n",
    "    \n",
    "    # Insert \n",
    "    ins_bin_edges = np.array([np.insert(np.array(bin_edges, dtype=float), \n",
    "                                        insert_idxs[i], targets[i]) \n",
    "                              for i in range(targets.shape[0])])\n",
    "    ins_preds = np.array([np.insert(preds[i], insert_idxs[i], preds[i, insert_idxs[i]-1]) \n",
    "                          for i in range(targets.shape[0])])\n",
    "    \n",
    "    # Get obs\n",
    "    bin_obs = np.array([(ins_bin_edges[i, :-1] <= targets[i]) & \n",
    "                        (ins_bin_edges[i, 1:] > targets[i]) \n",
    "                        for i in range(targets.shape[0])], dtype=int)\n",
    "    \n",
    "    # Cumsum with weights\n",
    "    ins_preds *= np.diff(ins_bin_edges, axis=1)\n",
    "    cum_bin_obs = np.cumsum(bin_obs, axis=1)\n",
    "    cum_probs = np.cumsum(ins_preds, axis=1)\n",
    "    cum_probs = (cum_probs.T / cum_probs[:, -1]).T\n",
    "    \n",
    "    # Get adjusted preds\n",
    "    adj_cum_probs = np.concatenate((np.zeros((cum_probs.shape[0], 1)), cum_probs), axis=1)\n",
    "    adj_cum_probs = (adj_cum_probs[:, :-1] + adj_cum_probs[:, 1:]) / 2\n",
    "    \n",
    "    # Compute CRPS\n",
    "    crps = np.mean(np.sum(((adj_cum_probs - cum_bin_obs) ** 2) * \n",
    "                          np.diff(ins_bin_edges, axis=1), axis=1))\n",
    "    return crps"
   ]
  },
  {
   "cell_type": "code",
   "execution_count": 94,
   "metadata": {},
   "outputs": [
    {
     "data": {
      "text/plain": [
       "1.8521755276904965"
      ]
     },
     "execution_count": 94,
     "metadata": {},
     "output_type": "execute_result"
    }
   ],
   "source": [
    "maybe_correct_crps(preds, targets, bin_edges)"
   ]
  },
  {
   "cell_type": "code",
   "execution_count": 102,
   "metadata": {},
   "outputs": [],
   "source": [
    "def maybe_correct_crps2(preds, targets, bin_edges):\n",
    "    #pdb.set_trace()\n",
    "    #Convert input arrays\n",
    "    preds = np.array(np.atleast_2d(preds), dtype='float')\n",
    "    targets = np.array(np.atleast_1d(targets), dtype='float')\n",
    "    \n",
    "    # preds [sample, bins]\n",
    "    # Find insert index\n",
    "    pdb.set_trace\n",
    "    mat_bins = np.repeat(np.atleast_2d(bin_edges), targets.shape[0], axis=0)\n",
    "    b = mat_bins.T - targets\n",
    "    b[b < 0] = 999\n",
    "    insert_idxs = np.argmin(b, axis=0)\n",
    "    \n",
    "    # Insert \n",
    "    ins_bin_edges = np.array([np.insert(np.array(bin_edges, dtype=float), \n",
    "                                        insert_idxs[i], targets[i]) \n",
    "                              for i in range(targets.shape[0])])\n",
    "    ins_preds = np.array([np.insert(preds[i], insert_idxs[i], preds[i, insert_idxs[i]-1]) \n",
    "                          for i in range(targets.shape[0])])\n",
    "    \n",
    "    # Get obs\n",
    "    bin_obs = np.array([(ins_bin_edges[i, :-1] <= targets[i]) & \n",
    "                        (ins_bin_edges[i, 1:] > targets[i]) \n",
    "                        for i in range(targets.shape[0])], dtype=int)\n",
    "    \n",
    "    # Cumsum with weights\n",
    "    ins_preds *= np.diff(ins_bin_edges, axis=1)\n",
    "    cum_bin_obs = np.cumsum(bin_obs, axis=1)\n",
    "    cum_probs = np.cumsum(ins_preds, axis=1)\n",
    "    cum_probs = (cum_probs.T / cum_probs[:, -1]).T\n",
    "    \n",
    "    # Get adjusted preds\n",
    "    adj_cum_probs = np.concatenate((np.zeros((cum_probs.shape[0], 1)), cum_probs), axis=1)\n",
    "    print(adj_cum_probs.shape, cum_bin_obs.shape)\n",
    "    sq_list = []\n",
    "    \n",
    "    for i in range(cum_bin_obs.shape[1]):\n",
    "        x_l = np.abs(cum_bin_obs[:, i] - adj_cum_probs[:, i])\n",
    "        x_r = np.abs(cum_bin_obs[:, i] - adj_cum_probs[:, i + 1])\n",
    "        sq = 1./3. * (x_l ** 2 + x_l * x_r + x_r ** 2)\n",
    "        if np.isnan(np.mean(sq)):\n",
    "            pdb.set_trace()\n",
    "        sq_list.append(sq)\n",
    "    crps = np.sum(np.array(sq_list).T * np.diff(ins_bin_edges, axis=1), axis=1)\n",
    "    return crps"
   ]
  },
  {
   "cell_type": "code",
   "execution_count": 103,
   "metadata": {
    "scrolled": true
   },
   "outputs": [
    {
     "name": "stdout",
     "output_type": "stream",
     "text": [
      "(2, 12) (2, 11)\n"
     ]
    },
    {
     "data": {
      "text/plain": [
       "array([ 0.86933767,  2.85365808])"
      ]
     },
     "execution_count": 103,
     "metadata": {},
     "output_type": "execute_result"
    }
   ],
   "source": [
    "maybe_correct_crps2(preds, targets, bin_edges)"
   ]
  },
  {
   "cell_type": "code",
   "execution_count": 97,
   "metadata": {},
   "outputs": [
    {
     "data": {
      "text/plain": [
       "1.0"
      ]
     },
     "execution_count": 97,
     "metadata": {},
     "output_type": "execute_result"
    }
   ],
   "source": [
    "np.nanmax([np.nan, 1])"
   ]
  },
  {
   "cell_type": "code",
   "execution_count": null,
   "metadata": {
    "collapsed": true
   },
   "outputs": [],
   "source": []
  }
 ],
 "metadata": {
  "kernelspec": {
   "display_name": "Python 3",
   "language": "python",
   "name": "python3"
  },
  "language_info": {
   "codemirror_mode": {
    "name": "ipython",
    "version": 3
   },
   "file_extension": ".py",
   "mimetype": "text/x-python",
   "name": "python",
   "nbconvert_exporter": "python",
   "pygments_lexer": "ipython3",
   "version": "3.6.2"
  },
  "toc": {
   "nav_menu": {},
   "number_sections": true,
   "sideBar": true,
   "skip_h1_title": true,
   "toc_cell": true,
   "toc_position": {},
   "toc_section_display": "block",
   "toc_window_display": false
  }
 },
 "nbformat": 4,
 "nbformat_minor": 2
}
