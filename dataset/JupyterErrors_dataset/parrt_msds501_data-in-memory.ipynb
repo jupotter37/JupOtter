{
 "cells": [
  {
   "cell_type": "markdown",
   "metadata": {},
   "source": [
    "# Representing data in memory"
   ]
  },
  {
   "cell_type": "markdown",
   "metadata": {},
   "source": [
    "A typical program outline calls for us to load data from disk and place into memory organized into data structures. The way we represent data in memory is critical to building programs. This is particularly true with data science programs because processing data is our focus.  \n",
    "\n",
    "First, let's get something straight about data. Data elements have *values* and *types*, such as `32` and *integer* or `\"hi\"` and *string*. We build the data structures by combining and organizing these data elements, such as a list of integers. \n",
    "\n",
    "We also have a special element called a *pointer* or *reference* that refers to another element. It's like a phone number \"points at\" a phone but is not the phone itself. Using the pointer we can get to the phone. A list of pointers is like a phone book with references to humans but the phone book is not actually a list of humans. (We will see later that even when we do something simple like `x=3`, the variable `x` is secretly a pointer to an integer object with the value of 3.)\n",
    "\n",
    "Next, let's take a small detour into computer architecture to get a handle on what it means to load something into memory."
   ]
  },
  {
   "cell_type": "markdown",
   "metadata": {},
   "source": [
    "## Computer architecture detour\n",
    "\n",
    "A computer consists of three primary components: a disk to hold data, a memory (that is wiped upon power off), and a processor (CPU) to process that data. Here is a picture of an actual CPU and some memory chips:\n",
    "\n",
    "<img src=\"images/cpu-memory.png\" width=\"400\">\n",
    "\n",
    "Computer memory (RAM == random access memory) is much faster but usually much smaller than the disk and all memory is lost when the computer powers off. Think of memory as your working or scratch space and the disk as your permanent storage. Memory chips are kind of like human short-term memory that is prone to disappearing versus a piece of paper which is slower to read and write but *persistent*.\n",
    "\n",
    "The memory is broken up into discrete cells of a fixed size. The size of a cell is one *byte*, which consists of 8 *bits*, binary on/off digits. It is sufficient to hold a number between 0 and 255. Each cell is identified by an integer address, just like the numbers on mailboxes (see image below and to the right). Processors can ask for the data at a particular address and can store a piece of data at a specific memory location as well. For example, here is an abstract representation of byte-addressable computer memory:\n",
    "\n",
    "<table border=\"0\">\n",
    "<tr>\n",
    "<td><img src=\"images/addresses.png\" width=\"80\">\n",
    "<td><img src=\"images/mailboxes.png\"  width=\"70\">\n",
    "</table>\n",
    "\n",
    "In this case, the memory has value 100 at address 0. At address 1, the memory has value 0. Address 4 has the maximum value we can store in a single byte: 255. \n",
    "\n",
    "**Everything from actual numbers to music to videos is stored using one or more of these atomic storage units called bytes.**\n",
    "\n",
    "**Everything is stored as a number or sequence of numbers in a computer, even text.**\n",
    "\n",
    "Data lives either in memory, on the disk, or can be retrieved from a network.  As part of producing a programming plan, you need to know where the data resides so you can incorporate loading that data into memory as part of the plan."
   ]
  },
  {
   "cell_type": "markdown",
   "metadata": {},
   "source": [
    "### Computer archicture metrics\n",
    "\n",
    "Here are the key units we use in computer architecture:\n",
    "\n",
    "* Kilo. $10^3 = 1,000$ or often $2^{10} = 1024$\n",
    "* Mega. $10^6 = 1,000,000$\n",
    "* Giga. $10^9 = 1,000,000,000$\n",
    "* Tera. $10^12 = 1,000,000,000,000$\n",
    "\n",
    "You need to know these units because you need to know whether a data set fits in memory or whether it fits on the disk or even how long it will take to transfer across the network. \n",
    "\n",
    "For example, when I started out, my first microcomputer had 16k of RAM, but my desktop now has 32G of RAM.  What is the ratio of memory size increase?  \n",
    "\n",
    "CPUs execute instructions to the heartbeat of a clock, which is where we get the term clock rate. Mhz (million herz==cycles/second), Ghz (billion) are the typically units in clock ticks per second. My desktop has a 4Ghz clock rate, which means that you can execute approximately 4 giga- or billion instructions per second. That's a lot.\n",
    "\n",
    "If your network is, say, 100Mbits/second that you can transfer a 800Mbit (100M byte) file in 8 seconds.\n",
    "\n",
    "How big is the San Francisco phonebook (uncompressed)? How fast can you transfer that phonebook across a 8Mbit/second network?\n"
   ]
  },
  {
   "cell_type": "markdown",
   "metadata": {},
   "source": [
    "## Programming language view of memory"
   ]
  },
  {
   "cell_type": "markdown",
   "metadata": {},
   "source": [
    "Programming languages present us with a higher level view of the memory in two ways: we can use names to refer to locations in memory and each memory cell can hold integer and real number values of arbitrary size (they do have a limit, but let's keep things simple for now). For example, here are two named values stored in memory:\n",
    "\n",
    "<img src=\"images/named-memory.png\" width=\"90\">"
   ]
  },
  {
   "cell_type": "code",
   "execution_count": 2,
   "metadata": {},
   "outputs": [],
   "source": [
    "units = 923\n",
    "price = 8.02"
   ]
  },
  {
   "cell_type": "markdown",
   "metadata": {},
   "source": [
    "<img src=\"images/redbang.png\" width=\"30\" align=\"left\">When referring to the kind of thing a value represents, we use the word **type**. The type of the \"units\" cell is integer and the type of \"price\" is real number (or floating-point number)."
   ]
  },
  {
   "cell_type": "code",
   "execution_count": 3,
   "metadata": {},
   "outputs": [
    {
     "data": {
      "text/plain": [
       "int"
      ]
     },
     "execution_count": 3,
     "metadata": {},
     "output_type": "execute_result"
    }
   ],
   "source": [
    "type(units)"
   ]
  },
  {
   "cell_type": "code",
   "execution_count": 4,
   "metadata": {},
   "outputs": [
    {
     "data": {
      "text/plain": [
       "float"
      ]
     },
     "execution_count": 4,
     "metadata": {},
     "output_type": "execute_result"
    }
   ],
   "source": [
    "type(price)"
   ]
  },
  {
   "cell_type": "markdown",
   "metadata": {},
   "source": [
    "Another very common value type is *string*, which is really a list of characters. We use strings to hold place names, book titles, and any other text-based values.  We can think of strings as being a single value because the programming language hides the details.  Strings can be arbitrarily long and the programming language stores the characters as a sequence of bytes in memory. Each character takes one or two bytes. In other words, we think of it as\n",
    "\n",
    "<img src=\"images/strings.png\" width=\"110\">"
   ]
  },
  {
   "cell_type": "code",
   "execution_count": 5,
   "metadata": {},
   "outputs": [],
   "source": [
    "name = \"Mary\""
   ]
  },
  {
   "cell_type": "code",
   "execution_count": 6,
   "metadata": {},
   "outputs": [
    {
     "data": {
      "text/plain": [
       "str"
      ]
     },
     "execution_count": 6,
     "metadata": {},
     "output_type": "execute_result"
    }
   ],
   "source": [
    "type(name)"
   ]
  },
  {
   "cell_type": "markdown",
   "metadata": {},
   "source": [
    "but it is really more like this:\n",
    "\n",
    "<img src=\"images/strings2.png\" width=\"110\">\n",
    "\n",
    "Using package [lolviz](https://github.com/parrt/lolviz) we can visualize even simple types like strings:"
   ]
  },
  {
   "cell_type": "code",
   "execution_count": 7,
   "metadata": {},
   "outputs": [
    {
     "data": {
      "image/svg+xml": [
       "<?xml version=\"1.0\" encoding=\"UTF-8\" standalone=\"no\"?>\n",
       "<!DOCTYPE svg PUBLIC \"-//W3C//DTD SVG 1.1//EN\"\n",
       " \"http://www.w3.org/Graphics/SVG/1.1/DTD/svg11.dtd\">\n",
       "<!-- Generated by graphviz version 2.47.2 (20210527.0053)\n",
       " -->\n",
       "<!-- Title: G Pages: 1 -->\n",
       "<svg width=\"64pt\" height=\"43pt\"\n",
       " viewBox=\"0.00 0.00 64.00 43.00\" xmlns=\"http://www.w3.org/2000/svg\" xmlns:xlink=\"http://www.w3.org/1999/xlink\">\n",
       "<g id=\"graph0\" class=\"graph\" transform=\"scale(1 1) rotate(0) translate(4 39)\">\n",
       "<title>G</title>\n",
       "<polygon fill=\"white\" stroke=\"transparent\" points=\"-4,4 -4,-39 60,-39 60,4 -4,4\"/>\n",
       "<!-- node140418196875824 -->\n",
       "<g id=\"node1\" class=\"node\">\n",
       "<title>node140418196875824</title>\n",
       "<polygon fill=\"#fefecd\" stroke=\"#444443\" stroke-width=\"0.5\" points=\"56,-35 0,-35 0,0 56,0 56,-35\"/>\n",
       "<polygon fill=\"#fbfeb0\" stroke=\"transparent\" points=\"12,-18.5 12,-30.5 20,-30.5 20,-18.5 12,-18.5\"/>\n",
       "<polyline fill=\"none\" stroke=\"#444443\" points=\"12,-18.5 20,-18.5 20,-30.5 \"/>\n",
       "<text text-anchor=\"start\" x=\"13\" y=\"-22.3\" font-family=\"Helvetica,sans-Serif\" font-size=\"9.00\" fill=\"#444443\">0</text>\n",
       "<polygon fill=\"#fbfeb0\" stroke=\"transparent\" points=\"20,-18.5 20,-30.5 28,-30.5 28,-18.5 20,-18.5\"/>\n",
       "<polyline fill=\"none\" stroke=\"#444443\" points=\"20,-18.5 28,-18.5 28,-30.5 \"/>\n",
       "<text text-anchor=\"start\" x=\"21\" y=\"-22.3\" font-family=\"Helvetica,sans-Serif\" font-size=\"9.00\" fill=\"#444443\">1</text>\n",
       "<polygon fill=\"#fbfeb0\" stroke=\"transparent\" points=\"28,-18.5 28,-30.5 36,-30.5 36,-18.5 28,-18.5\"/>\n",
       "<polyline fill=\"none\" stroke=\"#444443\" points=\"28,-18.5 36,-18.5 36,-30.5 \"/>\n",
       "<text text-anchor=\"start\" x=\"29\" y=\"-22.3\" font-family=\"Helvetica,sans-Serif\" font-size=\"9.00\" fill=\"#444443\">2</text>\n",
       "<polygon fill=\"#fbfeb0\" stroke=\"transparent\" points=\"36,-18.5 36,-30.5 44,-30.5 44,-18.5 36,-18.5\"/>\n",
       "<polyline fill=\"none\" stroke=\"#444443\" points=\"36,-18.5 44,-18.5 \"/>\n",
       "<text text-anchor=\"start\" x=\"37\" y=\"-22.3\" font-family=\"Helvetica,sans-Serif\" font-size=\"9.00\" fill=\"#444443\">3</text>\n",
       "<text text-anchor=\"start\" x=\"8\" y=\"-7.3\" font-family=\"Helvetica,sans-Serif\" font-size=\"14.00\" fill=\"#444443\">&#39;</text>\n",
       "<polygon fill=\"#fbfeb0\" stroke=\"transparent\" points=\"12,-3.5 12,-18.5 20,-18.5 20,-3.5 12,-3.5\"/>\n",
       "<text text-anchor=\"start\" x=\"12.5\" y=\"-8.2\" font-family=\"Monaco\" font-size=\"11.00\" fill=\"#444443\">M</text>\n",
       "<polygon fill=\"#fbfeb0\" stroke=\"transparent\" points=\"20,-3.5 20,-18.5 28,-18.5 28,-3.5 20,-3.5\"/>\n",
       "<text text-anchor=\"start\" x=\"20.5\" y=\"-8.2\" font-family=\"Monaco\" font-size=\"11.00\" fill=\"#444443\">a</text>\n",
       "<polygon fill=\"#fbfeb0\" stroke=\"transparent\" points=\"28,-3.5 28,-18.5 36,-18.5 36,-3.5 28,-3.5\"/>\n",
       "<text text-anchor=\"start\" x=\"28.5\" y=\"-8.2\" font-family=\"Monaco\" font-size=\"11.00\" fill=\"#444443\">r</text>\n",
       "<polygon fill=\"#fbfeb0\" stroke=\"transparent\" points=\"36,-3.5 36,-18.5 44,-18.5 44,-3.5 36,-3.5\"/>\n",
       "<text text-anchor=\"start\" x=\"36.5\" y=\"-8.2\" font-family=\"Monaco\" font-size=\"11.00\" fill=\"#444443\">y</text>\n",
       "<text text-anchor=\"start\" x=\"44\" y=\"-7.3\" font-family=\"Helvetica,sans-Serif\" font-size=\"14.00\" fill=\"#444443\">&#39;</text>\n",
       "</g>\n",
       "</g>\n",
       "</svg>\n"
      ],
      "text/plain": [
       "<graphviz.files.Source at 0x7fb5a8bee250>"
      ]
     },
     "execution_count": 7,
     "metadata": {},
     "output_type": "execute_result"
    }
   ],
   "source": [
    "from lolviz import *\n",
    "strviz(name)"
   ]
  },
  {
   "cell_type": "code",
   "execution_count": 8,
   "metadata": {},
   "outputs": [
    {
     "data": {
      "image/svg+xml": [
       "<?xml version=\"1.0\" encoding=\"UTF-8\" standalone=\"no\"?>\n",
       "<!DOCTYPE svg PUBLIC \"-//W3C//DTD SVG 1.1//EN\"\n",
       " \"http://www.w3.org/Graphics/SVG/1.1/DTD/svg11.dtd\">\n",
       "<!-- Generated by graphviz version 2.47.2 (20210527.0053)\n",
       " -->\n",
       "<!-- Title: G Pages: 1 -->\n",
       "<svg width=\"76pt\" height=\"40pt\"\n",
       " viewBox=\"0.00 0.00 76.00 40.00\" xmlns=\"http://www.w3.org/2000/svg\" xmlns:xlink=\"http://www.w3.org/1999/xlink\">\n",
       "<g id=\"graph0\" class=\"graph\" transform=\"scale(1 1) rotate(0) translate(4 36)\">\n",
       "<title>G</title>\n",
       "<polygon fill=\"white\" stroke=\"transparent\" points=\"-4,4 -4,-36 72,-36 72,4 -4,4\"/>\n",
       "<!-- node140418197109440 -->\n",
       "<g id=\"node1\" class=\"node\">\n",
       "<title>node140418197109440</title>\n",
       "<polygon fill=\"none\" stroke=\"black\" stroke-width=\"0.5\" points=\"68,-32 0,-32 0,0 68,0 68,-32\"/>\n",
       "<polygon fill=\"#fefecd\" stroke=\"transparent\" points=\"1,-19 1,-31 21,-31 21,-19 1,-19\"/>\n",
       "<polyline fill=\"none\" stroke=\"black\" points=\"1,-19 21,-19 21,-31 \"/>\n",
       "<text text-anchor=\"start\" x=\"8\" y=\"-22.8\" font-family=\"Helvetica,sans-Serif\" font-size=\"9.00\" fill=\"#444443\">0</text>\n",
       "<polygon fill=\"#fefecd\" stroke=\"transparent\" points=\"21,-19 21,-31 38,-31 38,-19 21,-19\"/>\n",
       "<polyline fill=\"none\" stroke=\"black\" points=\"21,-19 38,-19 38,-31 \"/>\n",
       "<text text-anchor=\"start\" x=\"26.5\" y=\"-22.8\" font-family=\"Helvetica,sans-Serif\" font-size=\"9.00\" fill=\"#444443\">1</text>\n",
       "<polygon fill=\"#fefecd\" stroke=\"transparent\" points=\"38,-19 38,-31 53,-31 53,-19 38,-19\"/>\n",
       "<polyline fill=\"none\" stroke=\"black\" points=\"38,-19 53,-19 53,-31 \"/>\n",
       "<text text-anchor=\"start\" x=\"42.5\" y=\"-22.8\" font-family=\"Helvetica,sans-Serif\" font-size=\"9.00\" fill=\"#444443\">2</text>\n",
       "<polygon fill=\"#fefecd\" stroke=\"transparent\" points=\"53,-19 53,-31 67,-31 67,-19 53,-19\"/>\n",
       "<polyline fill=\"none\" stroke=\"black\" points=\"53,-19 67,-19 \"/>\n",
       "<text text-anchor=\"start\" x=\"57\" y=\"-22.8\" font-family=\"Helvetica,sans-Serif\" font-size=\"9.00\" fill=\"#444443\">3</text>\n",
       "<polygon fill=\"#fefecd\" stroke=\"transparent\" points=\"1,-1 1,-19 21,-19 21,-1 1,-1\"/>\n",
       "<polyline fill=\"none\" stroke=\"black\" points=\"21,-1 21,-19 \"/>\n",
       "<text text-anchor=\"start\" x=\"4\" y=\"-7.2\" font-family=\"Helvetica,sans-Serif\" font-size=\"11.00\" fill=\"#444443\">&#39;M&#39;</text>\n",
       "<polygon fill=\"#fefecd\" stroke=\"transparent\" points=\"21,-1 21,-19 38,-19 38,-1 21,-1\"/>\n",
       "<polyline fill=\"none\" stroke=\"black\" points=\"38,-1 38,-19 \"/>\n",
       "<text text-anchor=\"start\" x=\"24\" y=\"-7.2\" font-family=\"Helvetica,sans-Serif\" font-size=\"11.00\" fill=\"#444443\">&#39;a&#39;</text>\n",
       "<polygon fill=\"#fefecd\" stroke=\"transparent\" points=\"38,-1 38,-19 53,-19 53,-1 38,-1\"/>\n",
       "<polyline fill=\"none\" stroke=\"black\" points=\"53,-1 53,-19 \"/>\n",
       "<text text-anchor=\"start\" x=\"41\" y=\"-7.2\" font-family=\"Helvetica,sans-Serif\" font-size=\"11.00\" fill=\"#444443\">&#39;r&#39;</text>\n",
       "<polygon fill=\"#fefecd\" stroke=\"transparent\" points=\"53,-1 53,-19 67,-19 67,-1 53,-1\"/>\n",
       "<text text-anchor=\"start\" x=\"55\" y=\"-7.2\" font-family=\"Helvetica,sans-Serif\" font-size=\"11.00\" fill=\"#444443\">&#39;y&#39;</text>\n",
       "</g>\n",
       "</g>\n",
       "</svg>\n"
      ],
      "text/plain": [
       "<graphviz.files.Source at 0x7fb5a8c21730>"
      ]
     },
     "execution_count": 8,
     "metadata": {},
     "output_type": "execute_result"
    }
   ],
   "source": [
    "objviz(name) # render as list of char"
   ]
  },
  {
   "cell_type": "markdown",
   "metadata": {},
   "source": [
    "These basic data types\n",
    "\n",
    "* integer numbers\n",
    "* floating-point numbers\n",
    "* strings\n",
    "\n",
    "are our building blocks. If we arrange some of these blocks together, we can create more complex structures."
   ]
  },
  {
   "cell_type": "markdown",
   "metadata": {},
   "source": [
    "## Data structures"
   ]
  },
  {
   "cell_type": "markdown",
   "metadata": {},
   "source": [
    "### List"
   ]
  },
  {
   "cell_type": "markdown",
   "metadata": {},
   "source": [
    "The most common *data structures* is the **list**, which is just a sequence of memory cells.  Because we're all familiar with spreadsheets, let's visualize these data structures using a spreadsheet.  Columns in a spreadsheet are really lists, such as the following lists/columns of integers, floating-point numbers, and strings:\n",
    "\n",
    "<table border=\"0\">\n",
    "<tr>\n",
    "<td><img src=\"images/int-list.png\" width=\"60\">\n",
    "<td><img src=\"images/float-list.png\" width=\"80\">\n",
    "<td><img src=\"images/names-list.png\" width=\"139\">\n",
    "</tr>\n",
    "</table>"
   ]
  },
  {
   "cell_type": "code",
   "execution_count": 9,
   "metadata": {},
   "outputs": [],
   "source": [
    "Quantity = [6, 49, 27, 30, 19, 21, 12, 22, 21]"
   ]
  },
  {
   "cell_type": "code",
   "execution_count": 10,
   "metadata": {},
   "outputs": [
    {
     "data": {
      "text/plain": [
       "list"
      ]
     },
     "execution_count": 10,
     "metadata": {},
     "output_type": "execute_result"
    }
   ],
   "source": [
    "type(Quantity)"
   ]
  },
  {
   "cell_type": "code",
   "execution_count": 11,
   "metadata": {},
   "outputs": [
    {
     "data": {
      "text/plain": [
       "9"
      ]
     },
     "execution_count": 11,
     "metadata": {},
     "output_type": "execute_result"
    }
   ],
   "source": [
    "len(Quantity)"
   ]
  },
  {
   "cell_type": "code",
   "execution_count": 12,
   "metadata": {},
   "outputs": [
    {
     "data": {
      "image/svg+xml": [
       "<?xml version=\"1.0\" encoding=\"UTF-8\" standalone=\"no\"?>\n",
       "<!DOCTYPE svg PUBLIC \"-//W3C//DTD SVG 1.1//EN\"\n",
       " \"http://www.w3.org/Graphics/SVG/1.1/DTD/svg11.dtd\">\n",
       "<!-- Generated by graphviz version 2.47.2 (20210527.0053)\n",
       " -->\n",
       "<!-- Title: G Pages: 1 -->\n",
       "<svg width=\"173pt\" height=\"40pt\"\n",
       " viewBox=\"0.00 0.00 173.00 40.00\" xmlns=\"http://www.w3.org/2000/svg\" xmlns:xlink=\"http://www.w3.org/1999/xlink\">\n",
       "<g id=\"graph0\" class=\"graph\" transform=\"scale(1 1) rotate(0) translate(4 36)\">\n",
       "<title>G</title>\n",
       "<polygon fill=\"white\" stroke=\"transparent\" points=\"-4,4 -4,-36 169,-36 169,4 -4,4\"/>\n",
       "<!-- node140418197179200 -->\n",
       "<g id=\"node1\" class=\"node\">\n",
       "<title>node140418197179200</title>\n",
       "<polygon fill=\"none\" stroke=\"black\" stroke-width=\"0.5\" points=\"165,-32 0,-32 0,0 165,0 165,-32\"/>\n",
       "<polygon fill=\"#fefecd\" stroke=\"transparent\" points=\"1.5,-19 1.5,-31 14.5,-31 14.5,-19 1.5,-19\"/>\n",
       "<polyline fill=\"none\" stroke=\"black\" points=\"1.5,-19 14.5,-19 14.5,-31 \"/>\n",
       "<text text-anchor=\"start\" x=\"5\" y=\"-22.8\" font-family=\"Helvetica,sans-Serif\" font-size=\"9.00\" fill=\"#444443\">0</text>\n",
       "<polygon fill=\"#fefecd\" stroke=\"transparent\" points=\"14.5,-19 14.5,-31 33.5,-31 33.5,-19 14.5,-19\"/>\n",
       "<polyline fill=\"none\" stroke=\"black\" points=\"14.5,-19 33.5,-19 33.5,-31 \"/>\n",
       "<text text-anchor=\"start\" x=\"21\" y=\"-22.8\" font-family=\"Helvetica,sans-Serif\" font-size=\"9.00\" fill=\"#444443\">1</text>\n",
       "<polygon fill=\"#fefecd\" stroke=\"transparent\" points=\"33.5,-19 33.5,-31 52.5,-31 52.5,-19 33.5,-19\"/>\n",
       "<polyline fill=\"none\" stroke=\"black\" points=\"33.5,-19 52.5,-19 52.5,-31 \"/>\n",
       "<text text-anchor=\"start\" x=\"40\" y=\"-22.8\" font-family=\"Helvetica,sans-Serif\" font-size=\"9.00\" fill=\"#444443\">2</text>\n",
       "<polygon fill=\"#fefecd\" stroke=\"transparent\" points=\"52.5,-19 52.5,-31 71.5,-31 71.5,-19 52.5,-19\"/>\n",
       "<polyline fill=\"none\" stroke=\"black\" points=\"52.5,-19 71.5,-19 71.5,-31 \"/>\n",
       "<text text-anchor=\"start\" x=\"59\" y=\"-22.8\" font-family=\"Helvetica,sans-Serif\" font-size=\"9.00\" fill=\"#444443\">3</text>\n",
       "<polygon fill=\"#fefecd\" stroke=\"transparent\" points=\"71.5,-19 71.5,-31 90.5,-31 90.5,-19 71.5,-19\"/>\n",
       "<polyline fill=\"none\" stroke=\"black\" points=\"71.5,-19 90.5,-19 90.5,-31 \"/>\n",
       "<text text-anchor=\"start\" x=\"78\" y=\"-22.8\" font-family=\"Helvetica,sans-Serif\" font-size=\"9.00\" fill=\"#444443\">4</text>\n",
       "<polygon fill=\"#fefecd\" stroke=\"transparent\" points=\"90.5,-19 90.5,-31 109.5,-31 109.5,-19 90.5,-19\"/>\n",
       "<polyline fill=\"none\" stroke=\"black\" points=\"90.5,-19 109.5,-19 109.5,-31 \"/>\n",
       "<text text-anchor=\"start\" x=\"97\" y=\"-22.8\" font-family=\"Helvetica,sans-Serif\" font-size=\"9.00\" fill=\"#444443\">5</text>\n",
       "<polygon fill=\"#fefecd\" stroke=\"transparent\" points=\"109.5,-19 109.5,-31 128.5,-31 128.5,-19 109.5,-19\"/>\n",
       "<polyline fill=\"none\" stroke=\"black\" points=\"109.5,-19 128.5,-19 128.5,-31 \"/>\n",
       "<text text-anchor=\"start\" x=\"116\" y=\"-22.8\" font-family=\"Helvetica,sans-Serif\" font-size=\"9.00\" fill=\"#444443\">6</text>\n",
       "<polygon fill=\"#fefecd\" stroke=\"transparent\" points=\"128.5,-19 128.5,-31 147.5,-31 147.5,-19 128.5,-19\"/>\n",
       "<polyline fill=\"none\" stroke=\"black\" points=\"128.5,-19 147.5,-19 147.5,-31 \"/>\n",
       "<text text-anchor=\"start\" x=\"135\" y=\"-22.8\" font-family=\"Helvetica,sans-Serif\" font-size=\"9.00\" fill=\"#444443\">7</text>\n",
       "<polygon fill=\"#fefecd\" stroke=\"transparent\" points=\"147.5,-19 147.5,-31 164.5,-31 164.5,-19 147.5,-19\"/>\n",
       "<polyline fill=\"none\" stroke=\"black\" points=\"147.5,-19 164.5,-19 \"/>\n",
       "<text text-anchor=\"start\" x=\"153\" y=\"-22.8\" font-family=\"Helvetica,sans-Serif\" font-size=\"9.00\" fill=\"#444443\">8</text>\n",
       "<polygon fill=\"#fefecd\" stroke=\"transparent\" points=\"1.5,-1 1.5,-19 14.5,-19 14.5,-1 1.5,-1\"/>\n",
       "<polyline fill=\"none\" stroke=\"black\" points=\"14.5,-1 14.5,-19 \"/>\n",
       "<text text-anchor=\"start\" x=\"4.5\" y=\"-7.2\" font-family=\"Helvetica,sans-Serif\" font-size=\"11.00\" fill=\"#444443\">6</text>\n",
       "<polygon fill=\"#fefecd\" stroke=\"transparent\" points=\"14.5,-1 14.5,-19 33.5,-19 33.5,-1 14.5,-1\"/>\n",
       "<polyline fill=\"none\" stroke=\"black\" points=\"33.5,-1 33.5,-19 \"/>\n",
       "<text text-anchor=\"start\" x=\"17.5\" y=\"-7.2\" font-family=\"Helvetica,sans-Serif\" font-size=\"11.00\" fill=\"#444443\">49</text>\n",
       "<polygon fill=\"#fefecd\" stroke=\"transparent\" points=\"33.5,-1 33.5,-19 52.5,-19 52.5,-1 33.5,-1\"/>\n",
       "<polyline fill=\"none\" stroke=\"black\" points=\"52.5,-1 52.5,-19 \"/>\n",
       "<text text-anchor=\"start\" x=\"36.5\" y=\"-7.2\" font-family=\"Helvetica,sans-Serif\" font-size=\"11.00\" fill=\"#444443\">27</text>\n",
       "<polygon fill=\"#fefecd\" stroke=\"transparent\" points=\"52.5,-1 52.5,-19 71.5,-19 71.5,-1 52.5,-1\"/>\n",
       "<polyline fill=\"none\" stroke=\"black\" points=\"71.5,-1 71.5,-19 \"/>\n",
       "<text text-anchor=\"start\" x=\"55.5\" y=\"-7.2\" font-family=\"Helvetica,sans-Serif\" font-size=\"11.00\" fill=\"#444443\">30</text>\n",
       "<polygon fill=\"#fefecd\" stroke=\"transparent\" points=\"71.5,-1 71.5,-19 90.5,-19 90.5,-1 71.5,-1\"/>\n",
       "<polyline fill=\"none\" stroke=\"black\" points=\"90.5,-1 90.5,-19 \"/>\n",
       "<text text-anchor=\"start\" x=\"74.5\" y=\"-7.2\" font-family=\"Helvetica,sans-Serif\" font-size=\"11.00\" fill=\"#444443\">19</text>\n",
       "<polygon fill=\"#fefecd\" stroke=\"transparent\" points=\"90.5,-1 90.5,-19 109.5,-19 109.5,-1 90.5,-1\"/>\n",
       "<polyline fill=\"none\" stroke=\"black\" points=\"109.5,-1 109.5,-19 \"/>\n",
       "<text text-anchor=\"start\" x=\"93.5\" y=\"-7.2\" font-family=\"Helvetica,sans-Serif\" font-size=\"11.00\" fill=\"#444443\">21</text>\n",
       "<polygon fill=\"#fefecd\" stroke=\"transparent\" points=\"109.5,-1 109.5,-19 128.5,-19 128.5,-1 109.5,-1\"/>\n",
       "<polyline fill=\"none\" stroke=\"black\" points=\"128.5,-1 128.5,-19 \"/>\n",
       "<text text-anchor=\"start\" x=\"112.5\" y=\"-7.2\" font-family=\"Helvetica,sans-Serif\" font-size=\"11.00\" fill=\"#444443\">12</text>\n",
       "<polygon fill=\"#fefecd\" stroke=\"transparent\" points=\"128.5,-1 128.5,-19 147.5,-19 147.5,-1 128.5,-1\"/>\n",
       "<polyline fill=\"none\" stroke=\"black\" points=\"147.5,-1 147.5,-19 \"/>\n",
       "<text text-anchor=\"start\" x=\"131.5\" y=\"-7.2\" font-family=\"Helvetica,sans-Serif\" font-size=\"11.00\" fill=\"#444443\">22</text>\n",
       "<polygon fill=\"#fefecd\" stroke=\"transparent\" points=\"147.5,-1 147.5,-19 164.5,-19 164.5,-1 147.5,-1\"/>\n",
       "<text text-anchor=\"start\" x=\"149.5\" y=\"-7.2\" font-family=\"Helvetica,sans-Serif\" font-size=\"11.00\" fill=\"#444443\">21</text>\n",
       "</g>\n",
       "</g>\n",
       "</svg>\n"
      ],
      "text/plain": [
       "<graphviz.files.Source at 0x7fb5a8c21ca0>"
      ]
     },
     "execution_count": 12,
     "metadata": {},
     "output_type": "execute_result"
    }
   ],
   "source": [
    "objviz(Quantity)"
   ]
  },
  {
   "cell_type": "markdown",
   "metadata": {},
   "source": [
    "We can think of the rows of a spreadsheet as lists also. For example, the header row of a spreadsheet is really a list of strings:\n",
    "\n",
    "<img src=\"images/header-row.png\" width=\"750\">"
   ]
  },
  {
   "cell_type": "code",
   "execution_count": 13,
   "metadata": {},
   "outputs": [
    {
     "data": {
      "text/plain": [
       "list"
      ]
     },
     "execution_count": 13,
     "metadata": {},
     "output_type": "execute_result"
    }
   ],
   "source": [
    "headers = ['Date', 'Quantity', 'Unit Price', 'Shipping']\n",
    "type(headers)"
   ]
  },
  {
   "cell_type": "code",
   "execution_count": 14,
   "metadata": {},
   "outputs": [
    {
     "data": {
      "image/svg+xml": [
       "<?xml version=\"1.0\" encoding=\"UTF-8\" standalone=\"no\"?>\n",
       "<!DOCTYPE svg PUBLIC \"-//W3C//DTD SVG 1.1//EN\"\n",
       " \"http://www.w3.org/Graphics/SVG/1.1/DTD/svg11.dtd\">\n",
       "<!-- Generated by graphviz version 2.47.2 (20210527.0053)\n",
       " -->\n",
       "<!-- Title: G Pages: 1 -->\n",
       "<svg width=\"204pt\" height=\"40pt\"\n",
       " viewBox=\"0.00 0.00 204.00 40.00\" xmlns=\"http://www.w3.org/2000/svg\" xmlns:xlink=\"http://www.w3.org/1999/xlink\">\n",
       "<g id=\"graph0\" class=\"graph\" transform=\"scale(1 1) rotate(0) translate(4 36)\">\n",
       "<title>G</title>\n",
       "<polygon fill=\"white\" stroke=\"transparent\" points=\"-4,4 -4,-36 200,-36 200,4 -4,4\"/>\n",
       "<!-- node140418998944128 -->\n",
       "<g id=\"node1\" class=\"node\">\n",
       "<title>node140418998944128</title>\n",
       "<polygon fill=\"none\" stroke=\"black\" stroke-width=\"0.5\" points=\"196,-32 0,-32 0,0 196,0 196,-32\"/>\n",
       "<polygon fill=\"#fefecd\" stroke=\"transparent\" points=\"1,-19 1,-31 35,-31 35,-19 1,-19\"/>\n",
       "<polyline fill=\"none\" stroke=\"black\" points=\"1,-19 35,-19 35,-31 \"/>\n",
       "<text text-anchor=\"start\" x=\"15\" y=\"-22.8\" font-family=\"Helvetica,sans-Serif\" font-size=\"9.00\" fill=\"#444443\">0</text>\n",
       "<polygon fill=\"#fefecd\" stroke=\"transparent\" points=\"35,-19 35,-31 86,-31 86,-19 35,-19\"/>\n",
       "<polyline fill=\"none\" stroke=\"black\" points=\"35,-19 86,-19 86,-31 \"/>\n",
       "<text text-anchor=\"start\" x=\"57.5\" y=\"-22.8\" font-family=\"Helvetica,sans-Serif\" font-size=\"9.00\" fill=\"#444443\">1</text>\n",
       "<polygon fill=\"#fefecd\" stroke=\"transparent\" points=\"86,-19 86,-31 144,-31 144,-19 86,-19\"/>\n",
       "<polyline fill=\"none\" stroke=\"black\" points=\"86,-19 144,-19 144,-31 \"/>\n",
       "<text text-anchor=\"start\" x=\"112\" y=\"-22.8\" font-family=\"Helvetica,sans-Serif\" font-size=\"9.00\" fill=\"#444443\">2</text>\n",
       "<polygon fill=\"#fefecd\" stroke=\"transparent\" points=\"144,-19 144,-31 195,-31 195,-19 144,-19\"/>\n",
       "<polyline fill=\"none\" stroke=\"black\" points=\"144,-19 195,-19 \"/>\n",
       "<text text-anchor=\"start\" x=\"166.5\" y=\"-22.8\" font-family=\"Helvetica,sans-Serif\" font-size=\"9.00\" fill=\"#444443\">3</text>\n",
       "<polygon fill=\"#fefecd\" stroke=\"transparent\" points=\"1,-1 1,-19 35,-19 35,-1 1,-1\"/>\n",
       "<polyline fill=\"none\" stroke=\"black\" points=\"35,-1 35,-19 \"/>\n",
       "<text text-anchor=\"start\" x=\"4\" y=\"-7.2\" font-family=\"Helvetica,sans-Serif\" font-size=\"11.00\" fill=\"#444443\">&#39;Date&#39;</text>\n",
       "<polygon fill=\"#fefecd\" stroke=\"transparent\" points=\"35,-1 35,-19 86,-19 86,-1 35,-1\"/>\n",
       "<polyline fill=\"none\" stroke=\"black\" points=\"86,-1 86,-19 \"/>\n",
       "<text text-anchor=\"start\" x=\"38\" y=\"-7.2\" font-family=\"Helvetica,sans-Serif\" font-size=\"11.00\" fill=\"#444443\">&#39;Quantity&#39;</text>\n",
       "<polygon fill=\"#fefecd\" stroke=\"transparent\" points=\"86,-1 86,-19 144,-19 144,-1 86,-1\"/>\n",
       "<polyline fill=\"none\" stroke=\"black\" points=\"144,-1 144,-19 \"/>\n",
       "<text text-anchor=\"start\" x=\"89\" y=\"-7.2\" font-family=\"Helvetica,sans-Serif\" font-size=\"11.00\" fill=\"#444443\">&#39;Unit Price&#39;</text>\n",
       "<polygon fill=\"#fefecd\" stroke=\"transparent\" points=\"144,-1 144,-19 195,-19 195,-1 144,-1\"/>\n",
       "<text text-anchor=\"start\" x=\"146\" y=\"-7.2\" font-family=\"Helvetica,sans-Serif\" font-size=\"11.00\" fill=\"#444443\">&#39;Shipping&#39;</text>\n",
       "</g>\n",
       "</g>\n",
       "</svg>\n"
      ],
      "text/plain": [
       "<graphviz.files.Source at 0x7fb5a8bb28e0>"
      ]
     },
     "execution_count": 14,
     "metadata": {},
     "output_type": "execute_result"
    }
   ],
   "source": [
    "objviz(headers)"
   ]
  },
  {
   "cell_type": "markdown",
   "metadata": {},
   "source": [
    "All of these lists have one thing in common: the type of element is the same. They are *homogeneous*. But, we can also have lists with *heterogeneous* elements, which is typically what we see in spreadsheet rows:\n",
    "\n",
    "<img src=\"images/sample-row.png\" width=\"800\">"
   ]
  },
  {
   "cell_type": "code",
   "execution_count": 15,
   "metadata": {},
   "outputs": [],
   "source": [
    "arow = ['10/13/10', 6, 38.94, 35, 'Muhammed MacIntyre']"
   ]
  },
  {
   "cell_type": "markdown",
   "metadata": {},
   "source": [
    "or"
   ]
  },
  {
   "cell_type": "code",
   "execution_count": 16,
   "metadata": {},
   "outputs": [
    {
     "data": {
      "text/plain": [
       "[datetime.date(2010, 10, 13), 6, 38.94, 35, 'Muhammed MacIntyre']"
      ]
     },
     "execution_count": 16,
     "metadata": {},
     "output_type": "execute_result"
    }
   ],
   "source": [
    "from datetime import date\n",
    "arow = [date(2010, 10, 13), 6, 38.94, 35, 'Muhammed MacIntyre']\n",
    "arow"
   ]
  },
  {
   "cell_type": "code",
   "execution_count": 17,
   "metadata": {},
   "outputs": [
    {
     "data": {
      "text/plain": [
       "list"
      ]
     },
     "execution_count": 17,
     "metadata": {},
     "output_type": "execute_result"
    }
   ],
   "source": [
    "type(arow)"
   ]
  },
  {
   "cell_type": "code",
   "execution_count": 18,
   "metadata": {},
   "outputs": [
    {
     "data": {
      "image/svg+xml": [
       "<?xml version=\"1.0\" encoding=\"UTF-8\" standalone=\"no\"?>\n",
       "<!DOCTYPE svg PUBLIC \"-//W3C//DTD SVG 1.1//EN\"\n",
       " \"http://www.w3.org/Graphics/SVG/1.1/DTD/svg11.dtd\">\n",
       "<!-- Generated by graphviz version 2.47.2 (20210527.0053)\n",
       " -->\n",
       "<!-- Title: G Pages: 1 -->\n",
       "<svg width=\"331pt\" height=\"40pt\"\n",
       " viewBox=\"0.00 0.00 331.00 40.00\" xmlns=\"http://www.w3.org/2000/svg\" xmlns:xlink=\"http://www.w3.org/1999/xlink\">\n",
       "<g id=\"graph0\" class=\"graph\" transform=\"scale(1 1) rotate(0) translate(4 36)\">\n",
       "<title>G</title>\n",
       "<polygon fill=\"white\" stroke=\"transparent\" points=\"-4,4 -4,-36 327,-36 327,4 -4,4\"/>\n",
       "<!-- node140418998624832 -->\n",
       "<g id=\"node1\" class=\"node\">\n",
       "<title>node140418998624832</title>\n",
       "<polygon fill=\"none\" stroke=\"black\" stroke-width=\"0.5\" points=\"323,-32 0,-32 0,0 323,0 323,-32\"/>\n",
       "<polygon fill=\"#fefecd\" stroke=\"transparent\" points=\"1.5,-19 1.5,-31 140.5,-31 140.5,-19 1.5,-19\"/>\n",
       "<polyline fill=\"none\" stroke=\"black\" points=\"1.5,-19 140.5,-19 140.5,-31 \"/>\n",
       "<text text-anchor=\"start\" x=\"68\" y=\"-22.8\" font-family=\"Helvetica,sans-Serif\" font-size=\"9.00\" fill=\"#444443\">0</text>\n",
       "<polygon fill=\"#fefecd\" stroke=\"transparent\" points=\"140.5,-19 140.5,-31 153.5,-31 153.5,-19 140.5,-19\"/>\n",
       "<polyline fill=\"none\" stroke=\"black\" points=\"140.5,-19 153.5,-19 153.5,-31 \"/>\n",
       "<text text-anchor=\"start\" x=\"144\" y=\"-22.8\" font-family=\"Helvetica,sans-Serif\" font-size=\"9.00\" fill=\"#444443\">1</text>\n",
       "<polygon fill=\"#fefecd\" stroke=\"transparent\" points=\"153.5,-19 153.5,-31 187.5,-31 187.5,-19 153.5,-19\"/>\n",
       "<polyline fill=\"none\" stroke=\"black\" points=\"153.5,-19 187.5,-19 187.5,-31 \"/>\n",
       "<text text-anchor=\"start\" x=\"167.5\" y=\"-22.8\" font-family=\"Helvetica,sans-Serif\" font-size=\"9.00\" fill=\"#444443\">2</text>\n",
       "<polygon fill=\"#fefecd\" stroke=\"transparent\" points=\"187.5,-19 187.5,-31 206.5,-31 206.5,-19 187.5,-19\"/>\n",
       "<polyline fill=\"none\" stroke=\"black\" points=\"187.5,-19 206.5,-19 206.5,-31 \"/>\n",
       "<text text-anchor=\"start\" x=\"194\" y=\"-22.8\" font-family=\"Helvetica,sans-Serif\" font-size=\"9.00\" fill=\"#444443\">3</text>\n",
       "<polygon fill=\"#fefecd\" stroke=\"transparent\" points=\"206.5,-19 206.5,-31 322.5,-31 322.5,-19 206.5,-19\"/>\n",
       "<polyline fill=\"none\" stroke=\"black\" points=\"206.5,-19 322.5,-19 \"/>\n",
       "<text text-anchor=\"start\" x=\"261.5\" y=\"-22.8\" font-family=\"Helvetica,sans-Serif\" font-size=\"9.00\" fill=\"#444443\">4</text>\n",
       "<polygon fill=\"#fefecd\" stroke=\"transparent\" points=\"1.5,-1 1.5,-19 140.5,-19 140.5,-1 1.5,-1\"/>\n",
       "<polyline fill=\"none\" stroke=\"black\" points=\"140.5,-1 140.5,-19 \"/>\n",
       "<text text-anchor=\"start\" x=\"4.5\" y=\"-7.2\" font-family=\"Helvetica,sans-Serif\" font-size=\"11.00\" fill=\"#444443\">datetime.date(2010, 10, 13)</text>\n",
       "<polygon fill=\"#fefecd\" stroke=\"transparent\" points=\"140.5,-1 140.5,-19 153.5,-19 153.5,-1 140.5,-1\"/>\n",
       "<polyline fill=\"none\" stroke=\"black\" points=\"153.5,-1 153.5,-19 \"/>\n",
       "<text text-anchor=\"start\" x=\"143.5\" y=\"-7.2\" font-family=\"Helvetica,sans-Serif\" font-size=\"11.00\" fill=\"#444443\">6</text>\n",
       "<polygon fill=\"#fefecd\" stroke=\"transparent\" points=\"153.5,-1 153.5,-19 187.5,-19 187.5,-1 153.5,-1\"/>\n",
       "<polyline fill=\"none\" stroke=\"black\" points=\"187.5,-1 187.5,-19 \"/>\n",
       "<text text-anchor=\"start\" x=\"156.5\" y=\"-7.2\" font-family=\"Helvetica,sans-Serif\" font-size=\"11.00\" fill=\"#444443\">38.94</text>\n",
       "<polygon fill=\"#fefecd\" stroke=\"transparent\" points=\"187.5,-1 187.5,-19 206.5,-19 206.5,-1 187.5,-1\"/>\n",
       "<polyline fill=\"none\" stroke=\"black\" points=\"206.5,-1 206.5,-19 \"/>\n",
       "<text text-anchor=\"start\" x=\"190.5\" y=\"-7.2\" font-family=\"Helvetica,sans-Serif\" font-size=\"11.00\" fill=\"#444443\">35</text>\n",
       "<polygon fill=\"#fefecd\" stroke=\"transparent\" points=\"206.5,-1 206.5,-19 322.5,-19 322.5,-1 206.5,-1\"/>\n",
       "<text text-anchor=\"start\" x=\"208.5\" y=\"-7.2\" font-family=\"Helvetica,sans-Serif\" font-size=\"11.00\" fill=\"#444443\">&#39;Muhammed MacIntyre&#39;</text>\n",
       "</g>\n",
       "</g>\n",
       "</svg>\n"
      ],
      "text/plain": [
       "<graphviz.files.Source at 0x7fb5d88a24c0>"
      ]
     },
     "execution_count": 18,
     "metadata": {},
     "output_type": "execute_result"
    }
   ],
   "source": [
    "listviz(arow)"
   ]
  },
  {
   "cell_type": "markdown",
   "metadata": {},
   "source": [
    "Heterogeneous lists are typically used to group bits of information about a particular entity. In machine learning, we call this a **feature vector**, an **instance**, or an **observation**.  For example, an apples versus oranges classifier might have feature vectors containing weight (number), volume (number), and color (string).  The important point here is that a list can also be used to as a way to aggregate features about a particular entity. The sequence of the elements is less important than the fact that they are contained (aggregated) within the same list."
   ]
  },
  {
   "cell_type": "markdown",
   "metadata": {},
   "source": [
    "### Tuple\n",
    "\n",
    "A tuple is an immutable list and is often used for returning multiple values from a function. It's also a simple way to group number of related elements such as:"
   ]
  },
  {
   "cell_type": "code",
   "execution_count": 19,
   "metadata": {},
   "outputs": [
    {
     "data": {
      "text/plain": [
       "('parrt', 607)"
      ]
     },
     "execution_count": 19,
     "metadata": {},
     "output_type": "execute_result"
    }
   ],
   "source": [
    "me = ('parrt',607)\n",
    "me"
   ]
  },
  {
   "cell_type": "markdown",
   "metadata": {},
   "source": [
    "We index the elements just like we do with a list:"
   ]
  },
  {
   "cell_type": "code",
   "execution_count": 20,
   "metadata": {},
   "outputs": [
    {
     "name": "stdout",
     "output_type": "stream",
     "text": [
      "parrt\n",
      "607\n"
     ]
    }
   ],
   "source": [
    "print(me[0])\n",
    "print(me[1])"
   ]
  },
  {
   "cell_type": "markdown",
   "metadata": {},
   "source": [
    "But, there's no way to change the elements, as there is with a list. If we do:\n",
    "\n",
    "```python\n",
    "me[0] = 'tombu'\n",
    "```\n",
    "\n",
    "the result is an error:\n",
    "\n",
    "```\n",
    "TypeError: 'tuple' object does not support item assignment\n",
    "```"
   ]
  },
  {
   "cell_type": "markdown",
   "metadata": {},
   "source": [
    "Here's an example of pulling apart a tuple using the multiple assignment statement:"
   ]
  },
  {
   "cell_type": "code",
   "execution_count": 52,
   "metadata": {},
   "outputs": [
    {
     "name": "stdout",
     "output_type": "stream",
     "text": [
      "parrt\n",
      "607\n",
      "parrt 607\n"
     ]
    }
   ],
   "source": [
    "me = ('parrt',607)\n",
    "userid,office = me\n",
    "print(userid)\n",
    "print(office)\n",
    "print(me[0], me[1])"
   ]
  },
  {
   "cell_type": "code",
   "execution_count": 54,
   "metadata": {},
   "outputs": [
    {
     "ename": "IndexError",
     "evalue": "tuple index out of range",
     "output_type": "error",
     "traceback": [
      "\u001b[0;31m---------------------------------------------------------------------------\u001b[0m",
      "\u001b[0;31mIndexError\u001b[0m                                Traceback (most recent call last)",
      "\u001b[0;32m<ipython-input-54-4c5fb9511eab>\u001b[0m in \u001b[0;36m<module>\u001b[0;34m\u001b[0m\n\u001b[0;32m----> 1\u001b[0;31m \u001b[0mme\u001b[0m\u001b[0;34m[\u001b[0m\u001b[0;36m2\u001b[0m\u001b[0;34m]\u001b[0m   \u001b[0;31m# causes error\u001b[0m\u001b[0;34m\u001b[0m\u001b[0;34m\u001b[0m\u001b[0m\n\u001b[0m",
      "\u001b[0;31mIndexError\u001b[0m: tuple index out of range"
     ]
    }
   ],
   "source": [
    "me[2]   # causes error"
   ]
  },
  {
   "cell_type": "markdown",
   "metadata": {},
   "source": [
    "Tuples are a great way to group related items without having to create a formal Python class definition."
   ]
  },
  {
   "cell_type": "markdown",
   "metadata": {},
   "source": [
    "### Set"
   ]
  },
  {
   "cell_type": "markdown",
   "metadata": {},
   "source": [
    "If we enforce a rule that all elements within a list are unique, then we get a **set**. Sets are unordered."
   ]
  },
  {
   "cell_type": "code",
   "execution_count": 22,
   "metadata": {},
   "outputs": [
    {
     "data": {
      "text/plain": [
       "{100, 102, 103, 113, 121}"
      ]
     },
     "execution_count": 22,
     "metadata": {},
     "output_type": "execute_result"
    }
   ],
   "source": [
    "ids = {100, 103, 121, 102, 113, 113, 113, 113}\n",
    "ids"
   ]
  },
  {
   "cell_type": "code",
   "execution_count": 23,
   "metadata": {},
   "outputs": [
    {
     "data": {
      "text/plain": [
       "set"
      ]
     },
     "execution_count": 23,
     "metadata": {},
     "output_type": "execute_result"
    }
   ],
   "source": [
    "type(ids)"
   ]
  },
  {
   "cell_type": "code",
   "execution_count": 24,
   "metadata": {},
   "outputs": [
    {
     "data": {
      "image/svg+xml": [
       "<?xml version=\"1.0\" encoding=\"UTF-8\" standalone=\"no\"?>\n",
       "<!DOCTYPE svg PUBLIC \"-//W3C//DTD SVG 1.1//EN\"\n",
       " \"http://www.w3.org/Graphics/SVG/1.1/DTD/svg11.dtd\">\n",
       "<!-- Generated by graphviz version 2.47.2 (20210527.0053)\n",
       " -->\n",
       "<!-- Title: G Pages: 1 -->\n",
       "<svg width=\"133pt\" height=\"40pt\"\n",
       " viewBox=\"0.00 0.00 133.00 40.00\" xmlns=\"http://www.w3.org/2000/svg\" xmlns:xlink=\"http://www.w3.org/1999/xlink\">\n",
       "<g id=\"graph0\" class=\"graph\" transform=\"scale(1 1) rotate(0) translate(4 36)\">\n",
       "<title>G</title>\n",
       "<polygon fill=\"white\" stroke=\"transparent\" points=\"-4,4 -4,-36 129,-36 129,4 -4,4\"/>\n",
       "<!-- node140418999165888 -->\n",
       "<g id=\"node1\" class=\"node\">\n",
       "<title>node140418999165888</title>\n",
       "<polygon fill=\"none\" stroke=\"black\" stroke-width=\"0.5\" points=\"125,-32 0,-32 0,0 125,0 125,-32\"/>\n",
       "<polygon fill=\"#fefecd\" stroke=\"transparent\" points=\"1.5,-19 1.5,-31 26.5,-31 26.5,-19 1.5,-19\"/>\n",
       "<polyline fill=\"none\" stroke=\"black\" points=\"1.5,-19 26.5,-19 26.5,-31 \"/>\n",
       "<text text-anchor=\"start\" x=\"11\" y=\"-22.8\" font-family=\"Helvetica,sans-Serif\" font-size=\"9.00\" fill=\"#444443\">0</text>\n",
       "<polygon fill=\"#fefecd\" stroke=\"transparent\" points=\"26.5,-19 26.5,-31 51.5,-31 51.5,-19 26.5,-19\"/>\n",
       "<polyline fill=\"none\" stroke=\"black\" points=\"26.5,-19 51.5,-19 51.5,-31 \"/>\n",
       "<text text-anchor=\"start\" x=\"36\" y=\"-22.8\" font-family=\"Helvetica,sans-Serif\" font-size=\"9.00\" fill=\"#444443\">1</text>\n",
       "<polygon fill=\"#fefecd\" stroke=\"transparent\" points=\"51.5,-19 51.5,-31 76.5,-31 76.5,-19 51.5,-19\"/>\n",
       "<polyline fill=\"none\" stroke=\"black\" points=\"51.5,-19 76.5,-19 76.5,-31 \"/>\n",
       "<text text-anchor=\"start\" x=\"61\" y=\"-22.8\" font-family=\"Helvetica,sans-Serif\" font-size=\"9.00\" fill=\"#444443\">2</text>\n",
       "<polygon fill=\"#fefecd\" stroke=\"transparent\" points=\"76.5,-19 76.5,-31 101.5,-31 101.5,-19 76.5,-19\"/>\n",
       "<polyline fill=\"none\" stroke=\"black\" points=\"76.5,-19 101.5,-19 101.5,-31 \"/>\n",
       "<text text-anchor=\"start\" x=\"86\" y=\"-22.8\" font-family=\"Helvetica,sans-Serif\" font-size=\"9.00\" fill=\"#444443\">3</text>\n",
       "<polygon fill=\"#fefecd\" stroke=\"transparent\" points=\"101.5,-19 101.5,-31 124.5,-31 124.5,-19 101.5,-19\"/>\n",
       "<polyline fill=\"none\" stroke=\"black\" points=\"101.5,-19 124.5,-19 \"/>\n",
       "<text text-anchor=\"start\" x=\"110\" y=\"-22.8\" font-family=\"Helvetica,sans-Serif\" font-size=\"9.00\" fill=\"#444443\">4</text>\n",
       "<polygon fill=\"#fefecd\" stroke=\"transparent\" points=\"1.5,-1 1.5,-19 26.5,-19 26.5,-1 1.5,-1\"/>\n",
       "<polyline fill=\"none\" stroke=\"black\" points=\"26.5,-1 26.5,-19 \"/>\n",
       "<text text-anchor=\"start\" x=\"4.5\" y=\"-7.2\" font-family=\"Helvetica,sans-Serif\" font-size=\"11.00\" fill=\"#444443\">100</text>\n",
       "<polygon fill=\"#fefecd\" stroke=\"transparent\" points=\"26.5,-1 26.5,-19 51.5,-19 51.5,-1 26.5,-1\"/>\n",
       "<polyline fill=\"none\" stroke=\"black\" points=\"51.5,-1 51.5,-19 \"/>\n",
       "<text text-anchor=\"start\" x=\"29.5\" y=\"-7.2\" font-family=\"Helvetica,sans-Serif\" font-size=\"11.00\" fill=\"#444443\">102</text>\n",
       "<polygon fill=\"#fefecd\" stroke=\"transparent\" points=\"51.5,-1 51.5,-19 76.5,-19 76.5,-1 51.5,-1\"/>\n",
       "<polyline fill=\"none\" stroke=\"black\" points=\"76.5,-1 76.5,-19 \"/>\n",
       "<text text-anchor=\"start\" x=\"54.5\" y=\"-7.2\" font-family=\"Helvetica,sans-Serif\" font-size=\"11.00\" fill=\"#444443\">103</text>\n",
       "<polygon fill=\"#fefecd\" stroke=\"transparent\" points=\"76.5,-1 76.5,-19 101.5,-19 101.5,-1 76.5,-1\"/>\n",
       "<polyline fill=\"none\" stroke=\"black\" points=\"101.5,-1 101.5,-19 \"/>\n",
       "<text text-anchor=\"start\" x=\"79.5\" y=\"-7.2\" font-family=\"Helvetica,sans-Serif\" font-size=\"11.00\" fill=\"#444443\">113</text>\n",
       "<polygon fill=\"#fefecd\" stroke=\"transparent\" points=\"101.5,-1 101.5,-19 124.5,-19 124.5,-1 101.5,-1\"/>\n",
       "<text text-anchor=\"start\" x=\"103.5\" y=\"-7.2\" font-family=\"Helvetica,sans-Serif\" font-size=\"11.00\" fill=\"#444443\">121</text>\n",
       "</g>\n",
       "</g>\n",
       "</svg>\n"
      ],
      "text/plain": [
       "<graphviz.files.Source at 0x7fb5a8c3f3d0>"
      ]
     },
     "execution_count": 24,
     "metadata": {},
     "output_type": "execute_result"
    }
   ],
   "source": [
    "objviz(ids)"
   ]
  },
  {
   "cell_type": "markdown",
   "metadata": {},
   "source": [
    "We can do lots of fun set arithmetic:"
   ]
  },
  {
   "cell_type": "code",
   "execution_count": 25,
   "metadata": {},
   "outputs": [
    {
     "data": {
      "text/plain": [
       "{100, 102, 109}"
      ]
     },
     "execution_count": 25,
     "metadata": {},
     "output_type": "execute_result"
    }
   ],
   "source": [
    "{100,102}.union({109})"
   ]
  },
  {
   "cell_type": "code",
   "execution_count": 26,
   "metadata": {},
   "outputs": [
    {
     "data": {
      "text/plain": [
       "{100}"
      ]
     },
     "execution_count": 26,
     "metadata": {},
     "output_type": "execute_result"
    }
   ],
   "source": [
    "{100,102}.intersection({100,119})"
   ]
  },
  {
   "cell_type": "markdown",
   "metadata": {},
   "source": [
    "### Tables (list of lists)"
   ]
  },
  {
   "cell_type": "markdown",
   "metadata": {},
   "source": [
    "Spreadsheets arrange rows one after the other, which programmers interpret as a *list of lists.* In the analytics or database world, we call this a **table**:\n",
    "\n",
    "<img src=\"images/rows.png\" width=\"700\">\n",
    "\n",
    "In this example, each row represents a sales transaction.\n",
    "\n",
    "The input to machine learning algorithms is often a table where each row aggregates the data associated with a specific instance or observation. These tables are called **dataframes** and will become your BFF."
   ]
  },
  {
   "cell_type": "code",
   "execution_count": 27,
   "metadata": {},
   "outputs": [
    {
     "data": {
      "text/html": [
       "<div>\n",
       "<style scoped>\n",
       "    .dataframe tbody tr th:only-of-type {\n",
       "        vertical-align: middle;\n",
       "    }\n",
       "\n",
       "    .dataframe tbody tr th {\n",
       "        vertical-align: top;\n",
       "    }\n",
       "\n",
       "    .dataframe thead th {\n",
       "        text-align: right;\n",
       "    }\n",
       "</style>\n",
       "<table border=\"1\" class=\"dataframe\">\n",
       "  <thead>\n",
       "    <tr style=\"text-align: right;\">\n",
       "      <th></th>\n",
       "      <th>ID</th>\n",
       "      <th>user</th>\n",
       "    </tr>\n",
       "  </thead>\n",
       "  <tbody>\n",
       "    <tr>\n",
       "      <th>0</th>\n",
       "      <td>99</td>\n",
       "      <td>parrt</td>\n",
       "    </tr>\n",
       "    <tr>\n",
       "      <th>1</th>\n",
       "      <td>101</td>\n",
       "      <td>sri</td>\n",
       "    </tr>\n",
       "    <tr>\n",
       "      <th>2</th>\n",
       "      <td>42</td>\n",
       "      <td>kayla</td>\n",
       "    </tr>\n",
       "  </tbody>\n",
       "</table>\n",
       "</div>"
      ],
      "text/plain": [
       "    ID   user\n",
       "0   99  parrt\n",
       "1  101    sri\n",
       "2   42  kayla"
      ]
     },
     "execution_count": 27,
     "metadata": {},
     "output_type": "execute_result"
    }
   ],
   "source": [
    "from pandas import DataFrame\n",
    "\n",
    "df = DataFrame(data=[[99,'parrt'],[101,'sri'],[42,'kayla']],\n",
    "               columns=['ID','user'])\n",
    "df"
   ]
  },
  {
   "cell_type": "code",
   "execution_count": 28,
   "metadata": {},
   "outputs": [
    {
     "data": {
      "text/plain": [
       "array([[99, 'parrt'],\n",
       "       [101, 'sri'],\n",
       "       [42, 'kayla']], dtype=object)"
      ]
     },
     "execution_count": 28,
     "metadata": {},
     "output_type": "execute_result"
    }
   ],
   "source": [
    "df.values"
   ]
  },
  {
   "cell_type": "code",
   "execution_count": 29,
   "metadata": {},
   "outputs": [
    {
     "data": {
      "text/plain": [
       "Index(['ID', 'user'], dtype='object')"
      ]
     },
     "execution_count": 29,
     "metadata": {},
     "output_type": "execute_result"
    }
   ],
   "source": [
    "df.columns"
   ]
  },
  {
   "cell_type": "code",
   "execution_count": 30,
   "metadata": {},
   "outputs": [
    {
     "data": {
      "text/plain": [
       "0    parrt\n",
       "1      sri\n",
       "2    kayla\n",
       "Name: user, dtype: object"
      ]
     },
     "execution_count": 30,
     "metadata": {},
     "output_type": "execute_result"
    }
   ],
   "source": [
    "df.user"
   ]
  },
  {
   "cell_type": "code",
   "execution_count": 31,
   "metadata": {},
   "outputs": [
    {
     "data": {
      "image/svg+xml": [
       "<?xml version=\"1.0\" encoding=\"UTF-8\" standalone=\"no\"?>\n",
       "<!DOCTYPE svg PUBLIC \"-//W3C//DTD SVG 1.1//EN\"\n",
       " \"http://www.w3.org/Graphics/SVG/1.1/DTD/svg11.dtd\">\n",
       "<!-- Generated by graphviz version 2.47.2 (20210527.0053)\n",
       " -->\n",
       "<!-- Title: G Pages: 1 -->\n",
       "<svg width=\"62pt\" height=\"61pt\"\n",
       " viewBox=\"0.00 0.00 62.00 61.00\" xmlns=\"http://www.w3.org/2000/svg\" xmlns:xlink=\"http://www.w3.org/1999/xlink\">\n",
       "<g id=\"graph0\" class=\"graph\" transform=\"scale(1 1) rotate(0) translate(4 57)\">\n",
       "<title>G</title>\n",
       "<polygon fill=\"white\" stroke=\"transparent\" points=\"-4,4 -4,-57 58,-57 58,4 -4,4\"/>\n",
       "<!-- node140418197210288 -->\n",
       "<g id=\"node1\" class=\"node\">\n",
       "<title>node140418197210288</title>\n",
       "<polygon fill=\"none\" stroke=\"black\" stroke-width=\"0.5\" points=\"54,-53 0,-53 0,0 54,0 54,-53\"/>\n",
       "<polygon fill=\"#fefecd\" stroke=\"transparent\" points=\"1,-34.5 1,-51.5 23,-51.5 23,-34.5 1,-34.5\"/>\n",
       "<text text-anchor=\"start\" x=\"6.5\" y=\"-40.5\" font-family=\"Helvetica,sans-Serif\" font-size=\"10.00\" fill=\"#444443\">99</text>\n",
       "<polygon fill=\"#fefecd\" stroke=\"transparent\" points=\"23,-34.5 23,-51.5 53,-51.5 53,-34.5 23,-34.5\"/>\n",
       "<text text-anchor=\"start\" x=\"28\" y=\"-40.5\" font-family=\"Helvetica,sans-Serif\" font-size=\"10.00\" fill=\"#444443\">parrt</text>\n",
       "<polygon fill=\"#fefecd\" stroke=\"transparent\" points=\"1,-17.5 1,-34.5 23,-34.5 23,-17.5 1,-17.5\"/>\n",
       "<text text-anchor=\"start\" x=\"4\" y=\"-23.5\" font-family=\"Helvetica,sans-Serif\" font-size=\"10.00\" fill=\"#444443\">101</text>\n",
       "<polygon fill=\"#fefecd\" stroke=\"transparent\" points=\"23,-17.5 23,-34.5 53,-34.5 53,-17.5 23,-17.5\"/>\n",
       "<text text-anchor=\"start\" x=\"32.5\" y=\"-23.5\" font-family=\"Helvetica,sans-Serif\" font-size=\"10.00\" fill=\"#444443\">sri</text>\n",
       "<polygon fill=\"#fefecd\" stroke=\"transparent\" points=\"1,-0.5 1,-17.5 23,-17.5 23,-0.5 1,-0.5\"/>\n",
       "<text text-anchor=\"start\" x=\"6.5\" y=\"-6.5\" font-family=\"Helvetica,sans-Serif\" font-size=\"10.00\" fill=\"#444443\">42</text>\n",
       "<polygon fill=\"#fefecd\" stroke=\"transparent\" points=\"23,-0.5 23,-17.5 53,-17.5 53,-0.5 23,-0.5\"/>\n",
       "<text text-anchor=\"start\" x=\"26\" y=\"-6.5\" font-family=\"Helvetica,sans-Serif\" font-size=\"10.00\" fill=\"#444443\">kayla</text>\n",
       "</g>\n",
       "</g>\n",
       "</svg>\n"
      ],
      "text/plain": [
       "<graphviz.files.Source at 0x7fb5a8c3a8b0>"
      ]
     },
     "execution_count": 31,
     "metadata": {},
     "output_type": "execute_result"
    }
   ],
   "source": [
    "objviz(df.values)"
   ]
  },
  {
   "cell_type": "markdown",
   "metadata": {},
   "source": [
    "### Matrix"
   ]
  },
  {
   "cell_type": "markdown",
   "metadata": {},
   "source": [
    "If the table elements are all numbers, we call it a **matrix**. Here's a matrix with 5 rows and 2 columns:\n",
    "\n",
    "<img src=\"images/matrix.png\" width=\"110\">\n",
    "\n",
    "Let me introduce you to another of your new BFF, `numpy`:"
   ]
  },
  {
   "cell_type": "code",
   "execution_count": 32,
   "metadata": {},
   "outputs": [
    {
     "name": "stdout",
     "output_type": "stream",
     "text": [
      "[[ 19  11]\n",
      " [ 21  15]\n",
      " [103  18]\n",
      " [ 99  13]\n",
      " [  8   2]]\n"
     ]
    }
   ],
   "source": [
    "import numpy as np\n",
    "A = np.array([[19,11],\n",
    "              [21,15],\n",
    "              [103,18],\n",
    "              [99,13],\n",
    "              [8,2]])\n",
    "print(A)"
   ]
  },
  {
   "cell_type": "markdown",
   "metadata": {},
   "source": [
    "That is a matrix with shape 5 rows, 2 columns:"
   ]
  },
  {
   "cell_type": "code",
   "execution_count": 33,
   "metadata": {},
   "outputs": [
    {
     "data": {
      "text/plain": [
       "(5, 2)"
      ]
     },
     "execution_count": 33,
     "metadata": {},
     "output_type": "execute_result"
    }
   ],
   "source": [
    "A.shape"
   ]
  },
  {
   "cell_type": "markdown",
   "metadata": {},
   "source": [
    "There are many ways to represent or layout things and memory. In this case, we can view the matrix as a list of lists using lolviz:"
   ]
  },
  {
   "cell_type": "code",
   "execution_count": 34,
   "metadata": {},
   "outputs": [
    {
     "data": {
      "image/svg+xml": [
       "<?xml version=\"1.0\" encoding=\"UTF-8\" standalone=\"no\"?>\n",
       "<!DOCTYPE svg PUBLIC \"-//W3C//DTD SVG 1.1//EN\"\n",
       " \"http://www.w3.org/Graphics/SVG/1.1/DTD/svg11.dtd\">\n",
       "<!-- Generated by graphviz version 2.47.2 (20210527.0053)\n",
       " -->\n",
       "<!-- Title: G Pages: 1 -->\n",
       "<svg width=\"95pt\" height=\"184pt\"\n",
       " viewBox=\"0.00 0.00 95.00 184.00\" xmlns=\"http://www.w3.org/2000/svg\" xmlns:xlink=\"http://www.w3.org/1999/xlink\">\n",
       "<g id=\"graph0\" class=\"graph\" transform=\"scale(1 1) rotate(0) translate(4 180)\">\n",
       "<title>G</title>\n",
       "<polygon fill=\"white\" stroke=\"transparent\" points=\"-4,4 -4,-180 91,-180 91,4 -4,4\"/>\n",
       "<!-- node140419010968832 -->\n",
       "<g id=\"node1\" class=\"node\">\n",
       "<title>node140419010968832</title>\n",
       "<polygon fill=\"#cfe2d4\" stroke=\"#444443\" stroke-width=\"0.5\" points=\"14,-129 0,-129 0,-47 14,-47 14,-129\"/>\n",
       "<polygon fill=\"#cfe2d4\" stroke=\"transparent\" points=\"1,-112 1,-128 13,-128 13,-112 1,-112\"/>\n",
       "<polyline fill=\"none\" stroke=\"#444443\" points=\"1,-112 13,-112 \"/>\n",
       "<text text-anchor=\"start\" x=\"4\" y=\"-117.8\" font-family=\"Helvetica,sans-Serif\" font-size=\"9.00\" fill=\"#444443\">0</text>\n",
       "<polygon fill=\"#cfe2d4\" stroke=\"transparent\" points=\"1,-96 1,-112 13,-112 13,-96 1,-96\"/>\n",
       "<polyline fill=\"none\" stroke=\"#444443\" points=\"1,-96 13,-96 \"/>\n",
       "<text text-anchor=\"start\" x=\"4\" y=\"-101.8\" font-family=\"Helvetica,sans-Serif\" font-size=\"9.00\" fill=\"#444443\">1</text>\n",
       "<polygon fill=\"#cfe2d4\" stroke=\"transparent\" points=\"1,-80 1,-96 13,-96 13,-80 1,-80\"/>\n",
       "<polyline fill=\"none\" stroke=\"#444443\" points=\"1,-80 13,-80 \"/>\n",
       "<text text-anchor=\"start\" x=\"4\" y=\"-85.8\" font-family=\"Helvetica,sans-Serif\" font-size=\"9.00\" fill=\"#444443\">2</text>\n",
       "<polygon fill=\"#cfe2d4\" stroke=\"transparent\" points=\"1,-64 1,-80 13,-80 13,-64 1,-64\"/>\n",
       "<polyline fill=\"none\" stroke=\"#444443\" points=\"1,-64 13,-64 \"/>\n",
       "<text text-anchor=\"start\" x=\"4\" y=\"-69.8\" font-family=\"Helvetica,sans-Serif\" font-size=\"9.00\" fill=\"#444443\">3</text>\n",
       "<polygon fill=\"#cfe2d4\" stroke=\"transparent\" points=\"1,-48 1,-64 13,-64 13,-48 1,-48\"/>\n",
       "<text text-anchor=\"start\" x=\"4\" y=\"-53.8\" font-family=\"Helvetica,sans-Serif\" font-size=\"9.00\" fill=\"#444443\">4</text>\n",
       "</g>\n",
       "<!-- node140419011029760 -->\n",
       "<g id=\"node2\" class=\"node\">\n",
       "<title>node140419011029760</title>\n",
       "<polygon fill=\"none\" stroke=\"black\" stroke-width=\"0.5\" points=\"84,-176 46,-176 46,-144 84,-144 84,-176\"/>\n",
       "<polygon fill=\"#fefecd\" stroke=\"transparent\" points=\"47,-163 47,-175 66,-175 66,-163 47,-163\"/>\n",
       "<polyline fill=\"none\" stroke=\"black\" points=\"47,-163 66,-163 66,-175 \"/>\n",
       "<text text-anchor=\"start\" x=\"53.5\" y=\"-166.8\" font-family=\"Helvetica,sans-Serif\" font-size=\"9.00\" fill=\"#444443\">0</text>\n",
       "<polygon fill=\"#fefecd\" stroke=\"transparent\" points=\"66,-163 66,-175 83,-175 83,-163 66,-163\"/>\n",
       "<polyline fill=\"none\" stroke=\"black\" points=\"66,-163 83,-163 \"/>\n",
       "<text text-anchor=\"start\" x=\"71.5\" y=\"-166.8\" font-family=\"Helvetica,sans-Serif\" font-size=\"9.00\" fill=\"#444443\">1</text>\n",
       "<polygon fill=\"#fefecd\" stroke=\"transparent\" points=\"47,-145 47,-163 66,-163 66,-145 47,-145\"/>\n",
       "<polyline fill=\"none\" stroke=\"black\" points=\"66,-145 66,-163 \"/>\n",
       "<text text-anchor=\"start\" x=\"50\" y=\"-151.2\" font-family=\"Helvetica,sans-Serif\" font-size=\"11.00\" fill=\"#444443\">19</text>\n",
       "<polygon fill=\"#fefecd\" stroke=\"transparent\" points=\"66,-145 66,-163 83,-163 83,-145 66,-145\"/>\n",
       "<text text-anchor=\"start\" x=\"68\" y=\"-151.2\" font-family=\"Helvetica,sans-Serif\" font-size=\"11.00\" fill=\"#444443\">11</text>\n",
       "</g>\n",
       "<!-- node140419010968832&#45;&gt;node140419011029760 -->\n",
       "<g id=\"edge1\" class=\"edge\">\n",
       "<title>node140419010968832:0&#45;&gt;node140419011029760:w</title>\n",
       "<path fill=\"none\" stroke=\"#444443\" stroke-width=\"0.5\" d=\"M14,-120C34.91,-120 24.29,-154.57 40.77,-159.43\"/>\n",
       "<polygon fill=\"#444443\" stroke=\"#444443\" stroke-width=\"0.5\" points=\"40.85,-160.86 45,-160 41.22,-158.08 40.85,-160.86\"/>\n",
       "</g>\n",
       "<!-- node140419011326272 -->\n",
       "<g id=\"node3\" class=\"node\">\n",
       "<title>node140419011326272</title>\n",
       "<polygon fill=\"none\" stroke=\"black\" stroke-width=\"0.5\" points=\"84,-140 46,-140 46,-108 84,-108 84,-140\"/>\n",
       "<polygon fill=\"#fefecd\" stroke=\"transparent\" points=\"47,-127 47,-139 66,-139 66,-127 47,-127\"/>\n",
       "<polyline fill=\"none\" stroke=\"black\" points=\"47,-127 66,-127 66,-139 \"/>\n",
       "<text text-anchor=\"start\" x=\"53.5\" y=\"-130.8\" font-family=\"Helvetica,sans-Serif\" font-size=\"9.00\" fill=\"#444443\">0</text>\n",
       "<polygon fill=\"#fefecd\" stroke=\"transparent\" points=\"66,-127 66,-139 83,-139 83,-127 66,-127\"/>\n",
       "<polyline fill=\"none\" stroke=\"black\" points=\"66,-127 83,-127 \"/>\n",
       "<text text-anchor=\"start\" x=\"71.5\" y=\"-130.8\" font-family=\"Helvetica,sans-Serif\" font-size=\"9.00\" fill=\"#444443\">1</text>\n",
       "<polygon fill=\"#fefecd\" stroke=\"transparent\" points=\"47,-109 47,-127 66,-127 66,-109 47,-109\"/>\n",
       "<polyline fill=\"none\" stroke=\"black\" points=\"66,-109 66,-127 \"/>\n",
       "<text text-anchor=\"start\" x=\"50\" y=\"-115.2\" font-family=\"Helvetica,sans-Serif\" font-size=\"11.00\" fill=\"#444443\">21</text>\n",
       "<polygon fill=\"#fefecd\" stroke=\"transparent\" points=\"66,-109 66,-127 83,-127 83,-109 66,-109\"/>\n",
       "<text text-anchor=\"start\" x=\"68\" y=\"-115.2\" font-family=\"Helvetica,sans-Serif\" font-size=\"11.00\" fill=\"#444443\">15</text>\n",
       "</g>\n",
       "<!-- node140419010968832&#45;&gt;node140419011326272 -->\n",
       "<g id=\"edge2\" class=\"edge\">\n",
       "<title>node140419010968832:1&#45;&gt;node140419011326272:w</title>\n",
       "<path fill=\"none\" stroke=\"#444443\" stroke-width=\"0.5\" d=\"M14,-104C28.86,-104 28.78,-120.43 40.84,-123.51\"/>\n",
       "<polygon fill=\"#444443\" stroke=\"#444443\" stroke-width=\"0.5\" points=\"40.86,-124.92 45,-124 41.19,-122.14 40.86,-124.92\"/>\n",
       "</g>\n",
       "<!-- node140418998514560 -->\n",
       "<g id=\"node4\" class=\"node\">\n",
       "<title>node140418998514560</title>\n",
       "<polygon fill=\"none\" stroke=\"black\" stroke-width=\"0.5\" points=\"87,-104 43,-104 43,-72 87,-72 87,-104\"/>\n",
       "<polygon fill=\"#fefecd\" stroke=\"transparent\" points=\"44,-91 44,-103 69,-103 69,-91 44,-91\"/>\n",
       "<polyline fill=\"none\" stroke=\"black\" points=\"44,-91 69,-91 69,-103 \"/>\n",
       "<text text-anchor=\"start\" x=\"53.5\" y=\"-94.8\" font-family=\"Helvetica,sans-Serif\" font-size=\"9.00\" fill=\"#444443\">0</text>\n",
       "<polygon fill=\"#fefecd\" stroke=\"transparent\" points=\"69,-91 69,-103 86,-103 86,-91 69,-91\"/>\n",
       "<polyline fill=\"none\" stroke=\"black\" points=\"69,-91 86,-91 \"/>\n",
       "<text text-anchor=\"start\" x=\"74.5\" y=\"-94.8\" font-family=\"Helvetica,sans-Serif\" font-size=\"9.00\" fill=\"#444443\">1</text>\n",
       "<polygon fill=\"#fefecd\" stroke=\"transparent\" points=\"44,-73 44,-91 69,-91 69,-73 44,-73\"/>\n",
       "<polyline fill=\"none\" stroke=\"black\" points=\"69,-73 69,-91 \"/>\n",
       "<text text-anchor=\"start\" x=\"47\" y=\"-79.2\" font-family=\"Helvetica,sans-Serif\" font-size=\"11.00\" fill=\"#444443\">103</text>\n",
       "<polygon fill=\"#fefecd\" stroke=\"transparent\" points=\"69,-73 69,-91 86,-91 86,-73 69,-73\"/>\n",
       "<text text-anchor=\"start\" x=\"71\" y=\"-79.2\" font-family=\"Helvetica,sans-Serif\" font-size=\"11.00\" fill=\"#444443\">18</text>\n",
       "</g>\n",
       "<!-- node140419010968832&#45;&gt;node140418998514560 -->\n",
       "<g id=\"edge3\" class=\"edge\">\n",
       "<title>node140419010968832:2&#45;&gt;node140418998514560:w</title>\n",
       "<path fill=\"none\" stroke=\"#444443\" stroke-width=\"0.5\" d=\"M14,-88C25.38,-88 29.22,-88 38.84,-88\"/>\n",
       "<polygon fill=\"#444443\" stroke=\"#444443\" stroke-width=\"0.5\" points=\"39,-89.4 43,-88 39,-86.6 39,-89.4\"/>\n",
       "</g>\n",
       "<!-- node140419011027648 -->\n",
       "<g id=\"node5\" class=\"node\">\n",
       "<title>node140419011027648</title>\n",
       "<polygon fill=\"none\" stroke=\"black\" stroke-width=\"0.5\" points=\"84,-68 46,-68 46,-36 84,-36 84,-68\"/>\n",
       "<polygon fill=\"#fefecd\" stroke=\"transparent\" points=\"47,-55 47,-67 66,-67 66,-55 47,-55\"/>\n",
       "<polyline fill=\"none\" stroke=\"black\" points=\"47,-55 66,-55 66,-67 \"/>\n",
       "<text text-anchor=\"start\" x=\"53.5\" y=\"-58.8\" font-family=\"Helvetica,sans-Serif\" font-size=\"9.00\" fill=\"#444443\">0</text>\n",
       "<polygon fill=\"#fefecd\" stroke=\"transparent\" points=\"66,-55 66,-67 83,-67 83,-55 66,-55\"/>\n",
       "<polyline fill=\"none\" stroke=\"black\" points=\"66,-55 83,-55 \"/>\n",
       "<text text-anchor=\"start\" x=\"71.5\" y=\"-58.8\" font-family=\"Helvetica,sans-Serif\" font-size=\"9.00\" fill=\"#444443\">1</text>\n",
       "<polygon fill=\"#fefecd\" stroke=\"transparent\" points=\"47,-37 47,-55 66,-55 66,-37 47,-37\"/>\n",
       "<polyline fill=\"none\" stroke=\"black\" points=\"66,-37 66,-55 \"/>\n",
       "<text text-anchor=\"start\" x=\"50\" y=\"-43.2\" font-family=\"Helvetica,sans-Serif\" font-size=\"11.00\" fill=\"#444443\">99</text>\n",
       "<polygon fill=\"#fefecd\" stroke=\"transparent\" points=\"66,-37 66,-55 83,-55 83,-37 66,-37\"/>\n",
       "<text text-anchor=\"start\" x=\"68\" y=\"-43.2\" font-family=\"Helvetica,sans-Serif\" font-size=\"11.00\" fill=\"#444443\">13</text>\n",
       "</g>\n",
       "<!-- node140419010968832&#45;&gt;node140419011027648 -->\n",
       "<g id=\"edge4\" class=\"edge\">\n",
       "<title>node140419010968832:3&#45;&gt;node140419011027648:w</title>\n",
       "<path fill=\"none\" stroke=\"#444443\" stroke-width=\"0.5\" d=\"M14,-72C28.86,-72 28.78,-55.57 40.84,-52.49\"/>\n",
       "<polygon fill=\"#444443\" stroke=\"#444443\" stroke-width=\"0.5\" points=\"41.19,-53.86 45,-52 40.86,-51.08 41.19,-53.86\"/>\n",
       "</g>\n",
       "<!-- node140419001175104 -->\n",
       "<g id=\"node6\" class=\"node\">\n",
       "<title>node140419001175104</title>\n",
       "<polygon fill=\"none\" stroke=\"black\" stroke-width=\"0.5\" points=\"78,-32 52,-32 52,0 78,0 78,-32\"/>\n",
       "<polygon fill=\"#fefecd\" stroke=\"transparent\" points=\"53,-19 53,-31 66,-31 66,-19 53,-19\"/>\n",
       "<polyline fill=\"none\" stroke=\"black\" points=\"53,-19 66,-19 66,-31 \"/>\n",
       "<text text-anchor=\"start\" x=\"56.5\" y=\"-22.8\" font-family=\"Helvetica,sans-Serif\" font-size=\"9.00\" fill=\"#444443\">0</text>\n",
       "<polygon fill=\"#fefecd\" stroke=\"transparent\" points=\"66,-19 66,-31 77,-31 77,-19 66,-19\"/>\n",
       "<polyline fill=\"none\" stroke=\"black\" points=\"66,-19 77,-19 \"/>\n",
       "<text text-anchor=\"start\" x=\"68.5\" y=\"-22.8\" font-family=\"Helvetica,sans-Serif\" font-size=\"9.00\" fill=\"#444443\">1</text>\n",
       "<polygon fill=\"#fefecd\" stroke=\"transparent\" points=\"53,-1 53,-19 66,-19 66,-1 53,-1\"/>\n",
       "<polyline fill=\"none\" stroke=\"black\" points=\"66,-1 66,-19 \"/>\n",
       "<text text-anchor=\"start\" x=\"56\" y=\"-7.2\" font-family=\"Helvetica,sans-Serif\" font-size=\"11.00\" fill=\"#444443\">8</text>\n",
       "<polygon fill=\"#fefecd\" stroke=\"transparent\" points=\"66,-1 66,-19 77,-19 77,-1 66,-1\"/>\n",
       "<text text-anchor=\"start\" x=\"68\" y=\"-7.2\" font-family=\"Helvetica,sans-Serif\" font-size=\"11.00\" fill=\"#444443\">2</text>\n",
       "</g>\n",
       "<!-- node140419010968832&#45;&gt;node140419001175104 -->\n",
       "<g id=\"edge5\" class=\"edge\">\n",
       "<title>node140419010968832:4&#45;&gt;node140419001175104:w</title>\n",
       "<path fill=\"none\" stroke=\"#444443\" stroke-width=\"0.5\" d=\"M14,-56C36.7,-56 28.07,-20.84 46.86,-16.45\"/>\n",
       "<polygon fill=\"#444443\" stroke=\"#444443\" stroke-width=\"0.5\" points=\"47.17,-17.82 51,-16 46.87,-15.04 47.17,-17.82\"/>\n",
       "</g>\n",
       "</g>\n",
       "</svg>\n"
      ],
      "text/plain": [
       "<graphviz.files.Source at 0x7fb5a8bb2b20>"
      ]
     },
     "execution_count": 34,
     "metadata": {},
     "output_type": "execute_result"
    }
   ],
   "source": [
    "lolviz(A.tolist())"
   ]
  },
  {
   "cell_type": "markdown",
   "metadata": {},
   "source": [
    "Or as a matrix"
   ]
  },
  {
   "cell_type": "code",
   "execution_count": 35,
   "metadata": {},
   "outputs": [
    {
     "data": {
      "image/svg+xml": [
       "<?xml version=\"1.0\" encoding=\"UTF-8\" standalone=\"no\"?>\n",
       "<!DOCTYPE svg PUBLIC \"-//W3C//DTD SVG 1.1//EN\"\n",
       " \"http://www.w3.org/Graphics/SVG/1.1/DTD/svg11.dtd\">\n",
       "<!-- Generated by graphviz version 2.47.2 (20210527.0053)\n",
       " -->\n",
       "<!-- Title: G Pages: 1 -->\n",
       "<svg width=\"49pt\" height=\"95pt\"\n",
       " viewBox=\"0.00 0.00 49.00 95.00\" xmlns=\"http://www.w3.org/2000/svg\" xmlns:xlink=\"http://www.w3.org/1999/xlink\">\n",
       "<g id=\"graph0\" class=\"graph\" transform=\"scale(1 1) rotate(0) translate(4 91)\">\n",
       "<title>G</title>\n",
       "<polygon fill=\"white\" stroke=\"transparent\" points=\"-4,4 -4,-91 45,-91 45,4 -4,4\"/>\n",
       "<!-- node140418197209712 -->\n",
       "<g id=\"node1\" class=\"node\">\n",
       "<title>node140418197209712</title>\n",
       "<polygon fill=\"none\" stroke=\"black\" stroke-width=\"0.5\" points=\"41,-87 0,-87 0,0 41,0 41,-87\"/>\n",
       "<polygon fill=\"#fefecd\" stroke=\"transparent\" points=\"1.5,-68.5 1.5,-85.5 23.5,-85.5 23.5,-68.5 1.5,-68.5\"/>\n",
       "<text text-anchor=\"start\" x=\"7\" y=\"-74.5\" font-family=\"Helvetica,sans-Serif\" font-size=\"10.00\" fill=\"#444443\">19</text>\n",
       "<polygon fill=\"#fefecd\" stroke=\"transparent\" points=\"23.5,-68.5 23.5,-85.5 40.5,-85.5 40.5,-68.5 23.5,-68.5\"/>\n",
       "<text text-anchor=\"start\" x=\"26.5\" y=\"-74.5\" font-family=\"Helvetica,sans-Serif\" font-size=\"10.00\" fill=\"#444443\">11</text>\n",
       "<polygon fill=\"#fefecd\" stroke=\"transparent\" points=\"1.5,-51.5 1.5,-68.5 23.5,-68.5 23.5,-51.5 1.5,-51.5\"/>\n",
       "<text text-anchor=\"start\" x=\"7\" y=\"-57.5\" font-family=\"Helvetica,sans-Serif\" font-size=\"10.00\" fill=\"#444443\">21</text>\n",
       "<polygon fill=\"#fefecd\" stroke=\"transparent\" points=\"23.5,-51.5 23.5,-68.5 40.5,-68.5 40.5,-51.5 23.5,-51.5\"/>\n",
       "<text text-anchor=\"start\" x=\"26.5\" y=\"-57.5\" font-family=\"Helvetica,sans-Serif\" font-size=\"10.00\" fill=\"#444443\">15</text>\n",
       "<polygon fill=\"#fefecd\" stroke=\"transparent\" points=\"1.5,-34.5 1.5,-51.5 23.5,-51.5 23.5,-34.5 1.5,-34.5\"/>\n",
       "<text text-anchor=\"start\" x=\"4.5\" y=\"-40.5\" font-family=\"Helvetica,sans-Serif\" font-size=\"10.00\" fill=\"#444443\">103</text>\n",
       "<polygon fill=\"#fefecd\" stroke=\"transparent\" points=\"23.5,-34.5 23.5,-51.5 40.5,-51.5 40.5,-34.5 23.5,-34.5\"/>\n",
       "<text text-anchor=\"start\" x=\"26.5\" y=\"-40.5\" font-family=\"Helvetica,sans-Serif\" font-size=\"10.00\" fill=\"#444443\">18</text>\n",
       "<polygon fill=\"#fefecd\" stroke=\"transparent\" points=\"1.5,-17.5 1.5,-34.5 23.5,-34.5 23.5,-17.5 1.5,-17.5\"/>\n",
       "<text text-anchor=\"start\" x=\"7\" y=\"-23.5\" font-family=\"Helvetica,sans-Serif\" font-size=\"10.00\" fill=\"#444443\">99</text>\n",
       "<polygon fill=\"#fefecd\" stroke=\"transparent\" points=\"23.5,-17.5 23.5,-34.5 40.5,-34.5 40.5,-17.5 23.5,-17.5\"/>\n",
       "<text text-anchor=\"start\" x=\"26.5\" y=\"-23.5\" font-family=\"Helvetica,sans-Serif\" font-size=\"10.00\" fill=\"#444443\">13</text>\n",
       "<polygon fill=\"#fefecd\" stroke=\"transparent\" points=\"1.5,-0.5 1.5,-17.5 23.5,-17.5 23.5,-0.5 1.5,-0.5\"/>\n",
       "<text text-anchor=\"start\" x=\"9.5\" y=\"-6.5\" font-family=\"Helvetica,sans-Serif\" font-size=\"10.00\" fill=\"#444443\">8</text>\n",
       "<polygon fill=\"#fefecd\" stroke=\"transparent\" points=\"23.5,-0.5 23.5,-17.5 40.5,-17.5 40.5,-0.5 23.5,-0.5\"/>\n",
       "<text text-anchor=\"start\" x=\"29\" y=\"-6.5\" font-family=\"Helvetica,sans-Serif\" font-size=\"10.00\" fill=\"#444443\">2</text>\n",
       "</g>\n",
       "</g>\n",
       "</svg>\n"
      ],
      "text/plain": [
       "<graphviz.files.Source at 0x7fb5a8bb2f10>"
      ]
     },
     "execution_count": 35,
     "metadata": {},
     "output_type": "execute_result"
    }
   ],
   "source": [
    "objviz(A)"
   ]
  },
  {
   "cell_type": "markdown",
   "metadata": {},
   "source": [
    "We can do lots of matrix math with numpy:"
   ]
  },
  {
   "cell_type": "code",
   "execution_count": 36,
   "metadata": {},
   "outputs": [
    {
     "data": {
      "image/svg+xml": [
       "<?xml version=\"1.0\" encoding=\"UTF-8\" standalone=\"no\"?>\n",
       "<!DOCTYPE svg PUBLIC \"-//W3C//DTD SVG 1.1//EN\"\n",
       " \"http://www.w3.org/Graphics/SVG/1.1/DTD/svg11.dtd\">\n",
       "<!-- Generated by graphviz version 2.47.2 (20210527.0053)\n",
       " -->\n",
       "<!-- Title: G Pages: 1 -->\n",
       "<svg width=\"49pt\" height=\"95pt\"\n",
       " viewBox=\"0.00 0.00 49.00 95.00\" xmlns=\"http://www.w3.org/2000/svg\" xmlns:xlink=\"http://www.w3.org/1999/xlink\">\n",
       "<g id=\"graph0\" class=\"graph\" transform=\"scale(1 1) rotate(0) translate(4 91)\">\n",
       "<title>G</title>\n",
       "<polygon fill=\"white\" stroke=\"transparent\" points=\"-4,4 -4,-91 45,-91 45,4 -4,4\"/>\n",
       "<!-- node140418197145424 -->\n",
       "<g id=\"node1\" class=\"node\">\n",
       "<title>node140418197145424</title>\n",
       "<polygon fill=\"none\" stroke=\"black\" stroke-width=\"0.5\" points=\"41,-87 0,-87 0,0 41,0 41,-87\"/>\n",
       "<polygon fill=\"#fefecd\" stroke=\"transparent\" points=\"1.5,-68.5 1.5,-85.5 23.5,-85.5 23.5,-68.5 1.5,-68.5\"/>\n",
       "<text text-anchor=\"start\" x=\"7\" y=\"-74.5\" font-family=\"Helvetica,sans-Serif\" font-size=\"10.00\" fill=\"#444443\">38</text>\n",
       "<polygon fill=\"#fefecd\" stroke=\"transparent\" points=\"23.5,-68.5 23.5,-85.5 40.5,-85.5 40.5,-68.5 23.5,-68.5\"/>\n",
       "<text text-anchor=\"start\" x=\"26.5\" y=\"-74.5\" font-family=\"Helvetica,sans-Serif\" font-size=\"10.00\" fill=\"#444443\">22</text>\n",
       "<polygon fill=\"#fefecd\" stroke=\"transparent\" points=\"1.5,-51.5 1.5,-68.5 23.5,-68.5 23.5,-51.5 1.5,-51.5\"/>\n",
       "<text text-anchor=\"start\" x=\"7\" y=\"-57.5\" font-family=\"Helvetica,sans-Serif\" font-size=\"10.00\" fill=\"#444443\">42</text>\n",
       "<polygon fill=\"#fefecd\" stroke=\"transparent\" points=\"23.5,-51.5 23.5,-68.5 40.5,-68.5 40.5,-51.5 23.5,-51.5\"/>\n",
       "<text text-anchor=\"start\" x=\"26.5\" y=\"-57.5\" font-family=\"Helvetica,sans-Serif\" font-size=\"10.00\" fill=\"#444443\">30</text>\n",
       "<polygon fill=\"#fefecd\" stroke=\"transparent\" points=\"1.5,-34.5 1.5,-51.5 23.5,-51.5 23.5,-34.5 1.5,-34.5\"/>\n",
       "<text text-anchor=\"start\" x=\"4.5\" y=\"-40.5\" font-family=\"Helvetica,sans-Serif\" font-size=\"10.00\" fill=\"#444443\">206</text>\n",
       "<polygon fill=\"#fefecd\" stroke=\"transparent\" points=\"23.5,-34.5 23.5,-51.5 40.5,-51.5 40.5,-34.5 23.5,-34.5\"/>\n",
       "<text text-anchor=\"start\" x=\"26.5\" y=\"-40.5\" font-family=\"Helvetica,sans-Serif\" font-size=\"10.00\" fill=\"#444443\">36</text>\n",
       "<polygon fill=\"#fefecd\" stroke=\"transparent\" points=\"1.5,-17.5 1.5,-34.5 23.5,-34.5 23.5,-17.5 1.5,-17.5\"/>\n",
       "<text text-anchor=\"start\" x=\"4.5\" y=\"-23.5\" font-family=\"Helvetica,sans-Serif\" font-size=\"10.00\" fill=\"#444443\">198</text>\n",
       "<polygon fill=\"#fefecd\" stroke=\"transparent\" points=\"23.5,-17.5 23.5,-34.5 40.5,-34.5 40.5,-17.5 23.5,-17.5\"/>\n",
       "<text text-anchor=\"start\" x=\"26.5\" y=\"-23.5\" font-family=\"Helvetica,sans-Serif\" font-size=\"10.00\" fill=\"#444443\">26</text>\n",
       "<polygon fill=\"#fefecd\" stroke=\"transparent\" points=\"1.5,-0.5 1.5,-17.5 23.5,-17.5 23.5,-0.5 1.5,-0.5\"/>\n",
       "<text text-anchor=\"start\" x=\"7\" y=\"-6.5\" font-family=\"Helvetica,sans-Serif\" font-size=\"10.00\" fill=\"#444443\">16</text>\n",
       "<polygon fill=\"#fefecd\" stroke=\"transparent\" points=\"23.5,-0.5 23.5,-17.5 40.5,-17.5 40.5,-0.5 23.5,-0.5\"/>\n",
       "<text text-anchor=\"start\" x=\"29\" y=\"-6.5\" font-family=\"Helvetica,sans-Serif\" font-size=\"10.00\" fill=\"#444443\">4</text>\n",
       "</g>\n",
       "</g>\n",
       "</svg>\n"
      ],
      "text/plain": [
       "<graphviz.files.Source at 0x7fb5a8c3fcd0>"
      ]
     },
     "execution_count": 36,
     "metadata": {},
     "output_type": "execute_result"
    }
   ],
   "source": [
    "objviz(A+A)"
   ]
  },
  {
   "cell_type": "code",
   "execution_count": 37,
   "metadata": {},
   "outputs": [
    {
     "data": {
      "image/svg+xml": [
       "<?xml version=\"1.0\" encoding=\"UTF-8\" standalone=\"no\"?>\n",
       "<!DOCTYPE svg PUBLIC \"-//W3C//DTD SVG 1.1//EN\"\n",
       " \"http://www.w3.org/Graphics/SVG/1.1/DTD/svg11.dtd\">\n",
       "<!-- Generated by graphviz version 2.47.2 (20210527.0053)\n",
       " -->\n",
       "<!-- Title: G Pages: 1 -->\n",
       "<svg width=\"71pt\" height=\"95pt\"\n",
       " viewBox=\"0.00 0.00 71.00 95.00\" xmlns=\"http://www.w3.org/2000/svg\" xmlns:xlink=\"http://www.w3.org/1999/xlink\">\n",
       "<g id=\"graph0\" class=\"graph\" transform=\"scale(1 1) rotate(0) translate(4 91)\">\n",
       "<title>G</title>\n",
       "<polygon fill=\"white\" stroke=\"transparent\" points=\"-4,4 -4,-91 67,-91 67,4 -4,4\"/>\n",
       "<!-- node140418197147440 -->\n",
       "<g id=\"node1\" class=\"node\">\n",
       "<title>node140418197147440</title>\n",
       "<polygon fill=\"none\" stroke=\"black\" stroke-width=\"0.5\" points=\"63,-87 0,-87 0,0 63,0 63,-87\"/>\n",
       "<polygon fill=\"#fefecd\" stroke=\"transparent\" points=\"1.5,-68.5 1.5,-85.5 34.5,-85.5 34.5,-68.5 1.5,-68.5\"/>\n",
       "<text text-anchor=\"start\" x=\"7\" y=\"-74.5\" font-family=\"Helvetica,sans-Serif\" font-size=\"10.00\" fill=\"#444443\">1881</text>\n",
       "<polygon fill=\"#fefecd\" stroke=\"transparent\" points=\"34.5,-68.5 34.5,-85.5 62.5,-85.5 62.5,-68.5 34.5,-68.5\"/>\n",
       "<text text-anchor=\"start\" x=\"37.5\" y=\"-74.5\" font-family=\"Helvetica,sans-Serif\" font-size=\"10.00\" fill=\"#444443\">1089</text>\n",
       "<polygon fill=\"#fefecd\" stroke=\"transparent\" points=\"1.5,-51.5 1.5,-68.5 34.5,-68.5 34.5,-51.5 1.5,-51.5\"/>\n",
       "<text text-anchor=\"start\" x=\"7\" y=\"-57.5\" font-family=\"Helvetica,sans-Serif\" font-size=\"10.00\" fill=\"#444443\">2079</text>\n",
       "<polygon fill=\"#fefecd\" stroke=\"transparent\" points=\"34.5,-51.5 34.5,-68.5 62.5,-68.5 62.5,-51.5 34.5,-51.5\"/>\n",
       "<text text-anchor=\"start\" x=\"37.5\" y=\"-57.5\" font-family=\"Helvetica,sans-Serif\" font-size=\"10.00\" fill=\"#444443\">1485</text>\n",
       "<polygon fill=\"#fefecd\" stroke=\"transparent\" points=\"1.5,-34.5 1.5,-51.5 34.5,-51.5 34.5,-34.5 1.5,-34.5\"/>\n",
       "<text text-anchor=\"start\" x=\"4.5\" y=\"-40.5\" font-family=\"Helvetica,sans-Serif\" font-size=\"10.00\" fill=\"#444443\">10197</text>\n",
       "<polygon fill=\"#fefecd\" stroke=\"transparent\" points=\"34.5,-34.5 34.5,-51.5 62.5,-51.5 62.5,-34.5 34.5,-34.5\"/>\n",
       "<text text-anchor=\"start\" x=\"37.5\" y=\"-40.5\" font-family=\"Helvetica,sans-Serif\" font-size=\"10.00\" fill=\"#444443\">1782</text>\n",
       "<polygon fill=\"#fefecd\" stroke=\"transparent\" points=\"1.5,-17.5 1.5,-34.5 34.5,-34.5 34.5,-17.5 1.5,-17.5\"/>\n",
       "<text text-anchor=\"start\" x=\"7\" y=\"-23.5\" font-family=\"Helvetica,sans-Serif\" font-size=\"10.00\" fill=\"#444443\">9801</text>\n",
       "<polygon fill=\"#fefecd\" stroke=\"transparent\" points=\"34.5,-17.5 34.5,-34.5 62.5,-34.5 62.5,-17.5 34.5,-17.5\"/>\n",
       "<text text-anchor=\"start\" x=\"37.5\" y=\"-23.5\" font-family=\"Helvetica,sans-Serif\" font-size=\"10.00\" fill=\"#444443\">1287</text>\n",
       "<polygon fill=\"#fefecd\" stroke=\"transparent\" points=\"1.5,-0.5 1.5,-17.5 34.5,-17.5 34.5,-0.5 1.5,-0.5\"/>\n",
       "<text text-anchor=\"start\" x=\"10\" y=\"-6.5\" font-family=\"Helvetica,sans-Serif\" font-size=\"10.00\" fill=\"#444443\">792</text>\n",
       "<polygon fill=\"#fefecd\" stroke=\"transparent\" points=\"34.5,-0.5 34.5,-17.5 62.5,-17.5 62.5,-0.5 34.5,-0.5\"/>\n",
       "<text text-anchor=\"start\" x=\"40.5\" y=\"-6.5\" font-family=\"Helvetica,sans-Serif\" font-size=\"10.00\" fill=\"#444443\">198</text>\n",
       "</g>\n",
       "</g>\n",
       "</svg>\n"
      ],
      "text/plain": [
       "<graphviz.files.Source at 0x7fb5a8c3f910>"
      ]
     },
     "execution_count": 37,
     "metadata": {},
     "output_type": "execute_result"
    }
   ],
   "source": [
    "objviz(A*99)"
   ]
  },
  {
   "cell_type": "code",
   "execution_count": 38,
   "metadata": {},
   "outputs": [
    {
     "data": {
      "image/svg+xml": [
       "<?xml version=\"1.0\" encoding=\"UTF-8\" standalone=\"no\"?>\n",
       "<!DOCTYPE svg PUBLIC \"-//W3C//DTD SVG 1.1//EN\"\n",
       " \"http://www.w3.org/Graphics/SVG/1.1/DTD/svg11.dtd\">\n",
       "<!-- Generated by graphviz version 2.47.2 (20210527.0053)\n",
       " -->\n",
       "<!-- Title: G Pages: 1 -->\n",
       "<svg width=\"95pt\" height=\"44pt\"\n",
       " viewBox=\"0.00 0.00 95.00 44.00\" xmlns=\"http://www.w3.org/2000/svg\" xmlns:xlink=\"http://www.w3.org/1999/xlink\">\n",
       "<g id=\"graph0\" class=\"graph\" transform=\"scale(1 1) rotate(0) translate(4 40)\">\n",
       "<title>G</title>\n",
       "<polygon fill=\"white\" stroke=\"transparent\" points=\"-4,4 -4,-40 91,-40 91,4 -4,4\"/>\n",
       "<!-- node140418197144752 -->\n",
       "<g id=\"node1\" class=\"node\">\n",
       "<title>node140418197144752</title>\n",
       "<polygon fill=\"none\" stroke=\"black\" stroke-width=\"0.5\" points=\"87,-36 0,-36 0,0 87,0 87,-36\"/>\n",
       "<polygon fill=\"#fefecd\" stroke=\"transparent\" points=\"1.5,-18 1.5,-35 18.5,-35 18.5,-18 1.5,-18\"/>\n",
       "<text text-anchor=\"start\" x=\"4.5\" y=\"-24\" font-family=\"Helvetica,sans-Serif\" font-size=\"10.00\" fill=\"#444443\">19</text>\n",
       "<polygon fill=\"#fefecd\" stroke=\"transparent\" points=\"18.5,-18 18.5,-35 35.5,-35 35.5,-18 18.5,-18\"/>\n",
       "<text text-anchor=\"start\" x=\"21.5\" y=\"-24\" font-family=\"Helvetica,sans-Serif\" font-size=\"10.00\" fill=\"#444443\">21</text>\n",
       "<polygon fill=\"#fefecd\" stroke=\"transparent\" points=\"35.5,-18 35.5,-35 57.5,-35 57.5,-18 35.5,-18\"/>\n",
       "<text text-anchor=\"start\" x=\"38.5\" y=\"-24\" font-family=\"Helvetica,sans-Serif\" font-size=\"10.00\" fill=\"#444443\">103</text>\n",
       "<polygon fill=\"#fefecd\" stroke=\"transparent\" points=\"57.5,-18 57.5,-35 74.5,-35 74.5,-18 57.5,-18\"/>\n",
       "<text text-anchor=\"start\" x=\"60.5\" y=\"-24\" font-family=\"Helvetica,sans-Serif\" font-size=\"10.00\" fill=\"#444443\">99</text>\n",
       "<polygon fill=\"#fefecd\" stroke=\"transparent\" points=\"74.5,-18 74.5,-35 86.5,-35 86.5,-18 74.5,-18\"/>\n",
       "<text text-anchor=\"start\" x=\"77.5\" y=\"-24\" font-family=\"Helvetica,sans-Serif\" font-size=\"10.00\" fill=\"#444443\">8</text>\n",
       "<polygon fill=\"#fefecd\" stroke=\"transparent\" points=\"1.5,-1 1.5,-18 18.5,-18 18.5,-1 1.5,-1\"/>\n",
       "<text text-anchor=\"start\" x=\"4.5\" y=\"-7\" font-family=\"Helvetica,sans-Serif\" font-size=\"10.00\" fill=\"#444443\">11</text>\n",
       "<polygon fill=\"#fefecd\" stroke=\"transparent\" points=\"18.5,-1 18.5,-18 35.5,-18 35.5,-1 18.5,-1\"/>\n",
       "<text text-anchor=\"start\" x=\"21.5\" y=\"-7\" font-family=\"Helvetica,sans-Serif\" font-size=\"10.00\" fill=\"#444443\">15</text>\n",
       "<polygon fill=\"#fefecd\" stroke=\"transparent\" points=\"35.5,-1 35.5,-18 57.5,-18 57.5,-1 35.5,-1\"/>\n",
       "<text text-anchor=\"start\" x=\"41\" y=\"-7\" font-family=\"Helvetica,sans-Serif\" font-size=\"10.00\" fill=\"#444443\">18</text>\n",
       "<polygon fill=\"#fefecd\" stroke=\"transparent\" points=\"57.5,-1 57.5,-18 74.5,-18 74.5,-1 57.5,-1\"/>\n",
       "<text text-anchor=\"start\" x=\"60.5\" y=\"-7\" font-family=\"Helvetica,sans-Serif\" font-size=\"10.00\" fill=\"#444443\">13</text>\n",
       "<polygon fill=\"#fefecd\" stroke=\"transparent\" points=\"74.5,-1 74.5,-18 86.5,-18 86.5,-1 74.5,-1\"/>\n",
       "<text text-anchor=\"start\" x=\"77.5\" y=\"-7\" font-family=\"Helvetica,sans-Serif\" font-size=\"10.00\" fill=\"#444443\">2</text>\n",
       "</g>\n",
       "</g>\n",
       "</svg>\n"
      ],
      "text/plain": [
       "<graphviz.files.Source at 0x7fb5d8909280>"
      ]
     },
     "execution_count": 38,
     "metadata": {},
     "output_type": "execute_result"
    }
   ],
   "source": [
    "objviz(A.T) #transpose"
   ]
  },
  {
   "cell_type": "markdown",
   "metadata": {},
   "source": [
    "Here's a system of equation: $A x = b$, $x = A^{-1} b$:\n",
    "\n",
    "\\begin{equation*}\n",
    "\\begin{bmatrix}\n",
    "38 & 22\\\\\n",
    "42 & 30\n",
    "\\end{bmatrix}\n",
    "\\begin{bmatrix}\n",
    "x_1  \\\\\n",
    "x_2 \n",
    "\\end{bmatrix} =\n",
    "\\begin{bmatrix}\n",
    "3 \\\\\n",
    "5 \n",
    "\\end{bmatrix}\n",
    "\\end{equation*}"
   ]
  },
  {
   "cell_type": "markdown",
   "metadata": {},
   "source": [
    "Using numpy, we can solve that using the inverse of $A$."
   ]
  },
  {
   "cell_type": "code",
   "execution_count": 39,
   "metadata": {},
   "outputs": [
    {
     "data": {
      "image/svg+xml": [
       "<?xml version=\"1.0\" encoding=\"UTF-8\" standalone=\"no\"?>\n",
       "<!DOCTYPE svg PUBLIC \"-//W3C//DTD SVG 1.1//EN\"\n",
       " \"http://www.w3.org/Graphics/SVG/1.1/DTD/svg11.dtd\">\n",
       "<!-- Generated by graphviz version 2.47.2 (20210527.0053)\n",
       " -->\n",
       "<!-- Title: G Pages: 1 -->\n",
       "<svg width=\"90pt\" height=\"27pt\"\n",
       " viewBox=\"0.00 0.00 90.00 27.00\" xmlns=\"http://www.w3.org/2000/svg\" xmlns:xlink=\"http://www.w3.org/1999/xlink\">\n",
       "<g id=\"graph0\" class=\"graph\" transform=\"scale(1 1) rotate(0) translate(4 23)\">\n",
       "<title>G</title>\n",
       "<polygon fill=\"white\" stroke=\"transparent\" points=\"-4,4 -4,-23 86,-23 86,4 -4,4\"/>\n",
       "<!-- node140418196700688 -->\n",
       "<g id=\"node1\" class=\"node\">\n",
       "<title>node140418196700688</title>\n",
       "<polygon fill=\"none\" stroke=\"black\" stroke-width=\"0.5\" points=\"82,-19 0,-19 0,0 82,0 82,-19\"/>\n",
       "<polygon fill=\"#fefecd\" stroke=\"transparent\" points=\"1,-0.5 1,-17.5 45,-17.5 45,-0.5 1,-0.5\"/>\n",
       "<text text-anchor=\"start\" x=\"4\" y=\"-6.5\" font-family=\"Helvetica,sans-Serif\" font-size=\"10.00\" fill=\"#444443\">&#45;0.09259</text>\n",
       "<polygon fill=\"#fefecd\" stroke=\"transparent\" points=\"45,-0.5 45,-17.5 81,-17.5 81,-0.5 45,-0.5\"/>\n",
       "<text text-anchor=\"start\" x=\"48\" y=\"-6.5\" font-family=\"Helvetica,sans-Serif\" font-size=\"10.00\" fill=\"#444443\">0.2963</text>\n",
       "</g>\n",
       "</g>\n",
       "</svg>\n"
      ],
      "text/plain": [
       "<graphviz.files.Source at 0x7fb5d8861910>"
      ]
     },
     "execution_count": 39,
     "metadata": {},
     "output_type": "execute_result"
    }
   ],
   "source": [
    "from numpy.linalg import inv\n",
    "A = np.array([[38, 22], [42, 30]])\n",
    "b = np.array([3, 5])\n",
    "x = inv(A).dot(b)\n",
    "objviz(x)"
   ]
  },
  {
   "cell_type": "markdown",
   "metadata": {},
   "source": [
    "Here's some more stuff about the shape of various numpy $n$-dimensional arrays:"
   ]
  },
  {
   "cell_type": "code",
   "execution_count": 40,
   "metadata": {},
   "outputs": [
    {
     "name": "stdout",
     "output_type": "stream",
     "text": [
      "(2,)\n",
      "(1, 2)\n",
      "(2, 1)\n"
     ]
    }
   ],
   "source": [
    "x = np.array([3, 5])     # vertical vector with 2 rows\n",
    "y = np.array([[3, 5]])   # matrix with 1 row and 2 columns\n",
    "z = np.array([[3],[5]])  # matrix with 2 rows, 1 column\n",
    "print(x.shape)\n",
    "print(y.shape)\n",
    "print(z.shape)"
   ]
  },
  {
   "cell_type": "markdown",
   "metadata": {},
   "source": [
    "The tuple `(2,)` means a one-dimensional vector with 2 rows.  We can't use notation `(2)` because that's just an expression that means 2 rather than a tuple. It's a quirk but necessary."
   ]
  },
  {
   "cell_type": "markdown",
   "metadata": {},
   "source": [
    "### Traversing lists"
   ]
  },
  {
   "cell_type": "markdown",
   "metadata": {},
   "source": [
    "The spreadsheet model is a good one for understanding data structures but it's important to keep in mind that computers process one element (number or string) at a time.\n",
    "As humans, we can look at the spreadsheet or data structure from above in its entirety, but programs must **walk** or **traverse** the elements of a data structure one after the other. It's kind of like sliding a magnifying glass over the elements of a list:\n",
    "\n",
    "<img src=\"images/int-list-item.png\" width=\"230\">\n",
    "\n",
    "This notion of traversal abstracts to any **sequence** (or **stream**) of elements, not just lists. For example, we will eventually traverse the lines of a text file or a sequence of filenames obtained from the operating system. Sequences are extremely powerful because it allows us to process data that is much bigger than the memory of our computer. We can process the data piecemeal whereas a list requires all elements to be in memory at once.\n",
    "\n",
    "Typically we iterate through the elements of a list with a `for`-each statement:"
   ]
  },
  {
   "cell_type": "code",
   "execution_count": 41,
   "metadata": {},
   "outputs": [
    {
     "name": "stdout",
     "output_type": "stream",
     "text": [
      "6\n",
      "49\n",
      "27\n",
      "30\n",
      "19\n",
      "21\n",
      "12\n",
      "22\n",
      "21\n"
     ]
    }
   ],
   "source": [
    "for q in Quantity:\n",
    "    print(q)"
   ]
  },
  {
   "cell_type": "markdown",
   "metadata": {},
   "source": [
    "Here, the type of the objects pointed to by `q` is `int`.  We can also iterate through that list using an indexed loop:"
   ]
  },
  {
   "cell_type": "code",
   "execution_count": 42,
   "metadata": {},
   "outputs": [
    {
     "name": "stdout",
     "output_type": "stream",
     "text": [
      "6\n",
      "49\n",
      "27\n",
      "30\n",
      "19\n",
      "21\n",
      "12\n",
      "22\n",
      "21\n"
     ]
    }
   ],
   "source": [
    "for i in range(len(Quantity)):\n",
    "    print(Quantity[i])"
   ]
  },
  {
   "cell_type": "markdown",
   "metadata": {},
   "source": [
    "For lists and other structures that fit completely in memory, we often find a **reverse traversal** useful, that examines elements from last to first:"
   ]
  },
  {
   "cell_type": "code",
   "execution_count": 43,
   "metadata": {},
   "outputs": [
    {
     "name": "stdout",
     "output_type": "stream",
     "text": [
      "21\n",
      "22\n",
      "12\n",
      "21\n",
      "19\n",
      "30\n",
      "27\n",
      "49\n",
      "6\n"
     ]
    }
   ],
   "source": [
    "for q in reversed(Quantity):\n",
    "    print(q)"
   ]
  },
  {
   "cell_type": "markdown",
   "metadata": {},
   "source": [
    "### Dictionary"
   ]
  },
  {
   "cell_type": "markdown",
   "metadata": {},
   "source": [
    "If we arrange two lists side-by-side and kind of glue them together, we get a **dictionary**. Dictionaries map one value to another, just like a dictionary in the real world maps a word to a definition.  Here is a sample dictionary that maps a movie title to the year it was nominated for an Oscar award:\n",
    "\n",
    "<img src=\"images/dict.png\" width=\"220\">"
   ]
  },
  {
   "cell_type": "code",
   "execution_count": 44,
   "metadata": {},
   "outputs": [
    {
     "data": {
      "text/plain": [
       "{'a': 1, 'b': 3, 'hi': 45}"
      ]
     },
     "execution_count": 44,
     "metadata": {},
     "output_type": "execute_result"
    }
   ],
   "source": [
    "{'a':1,'b':3,'hi':45}"
   ]
  },
  {
   "cell_type": "code",
   "execution_count": 45,
   "metadata": {},
   "outputs": [
    {
     "name": "stdout",
     "output_type": "stream",
     "text": [
      "{'Amadeus': 1984, 'Witness': 1985}\n"
     ]
    },
    {
     "data": {
      "image/svg+xml": [
       "<?xml version=\"1.0\" encoding=\"UTF-8\" standalone=\"no\"?>\n",
       "<!DOCTYPE svg PUBLIC \"-//W3C//DTD SVG 1.1//EN\"\n",
       " \"http://www.w3.org/Graphics/SVG/1.1/DTD/svg11.dtd\">\n",
       "<!-- Generated by graphviz version 2.47.2 (20210527.0053)\n",
       " -->\n",
       "<!-- Title: G Pages: 1 -->\n",
       "<svg width=\"106pt\" height=\"42pt\"\n",
       " viewBox=\"0.00 0.00 106.00 42.00\" xmlns=\"http://www.w3.org/2000/svg\" xmlns:xlink=\"http://www.w3.org/1999/xlink\">\n",
       "<g id=\"graph0\" class=\"graph\" transform=\"scale(1 1) rotate(0) translate(4 38)\">\n",
       "<title>G</title>\n",
       "<polygon fill=\"white\" stroke=\"transparent\" points=\"-4,4 -4,-38 102,-38 102,4 -4,4\"/>\n",
       "<!-- node140418998627008 -->\n",
       "<g id=\"node1\" class=\"node\">\n",
       "<title>node140418998627008</title>\n",
       "<polygon fill=\"#fefecd\" stroke=\"#444443\" stroke-width=\"0.5\" points=\"98,-34 0,-34 0,0 98,0 98,-34\"/>\n",
       "<polygon fill=\"#fefecd\" stroke=\"transparent\" points=\"2,-18 2,-32 56,-32 56,-18 2,-18\"/>\n",
       "<text text-anchor=\"start\" x=\"2\" y=\"-22.2\" font-family=\"Helvetica,sans-Serif\" font-size=\"11.00\" fill=\"#444443\">&#39;Amadeus&#39; </text>\n",
       "<text text-anchor=\"start\" x=\"56\" y=\"-20.8\" font-family=\"Helvetica,sans-Serif\" font-size=\"9.00\" fill=\"#444443\">→</text>\n",
       "<polygon fill=\"#fefecd\" stroke=\"transparent\" points=\"66,-18 66,-32 96,-32 96,-18 66,-18\"/>\n",
       "<text text-anchor=\"start\" x=\"67\" y=\"-22.2\" font-family=\"Helvetica,sans-Serif\" font-size=\"11.00\" fill=\"#444443\"> 1984</text>\n",
       "<polygon fill=\"#fefecd\" stroke=\"transparent\" points=\"2,-16 2,-18 96,-18 96,-16 2,-16\"/>\n",
       "<polygon fill=\"#fefecd\" stroke=\"transparent\" points=\"2,-2 2,-16 56,-16 56,-2 2,-2\"/>\n",
       "<text text-anchor=\"start\" x=\"10\" y=\"-6.2\" font-family=\"Helvetica,sans-Serif\" font-size=\"11.00\" fill=\"#444443\">&#39;Witness&#39; </text>\n",
       "<text text-anchor=\"start\" x=\"56\" y=\"-4.8\" font-family=\"Helvetica,sans-Serif\" font-size=\"9.00\" fill=\"#444443\">→</text>\n",
       "<polygon fill=\"#fefecd\" stroke=\"transparent\" points=\"66,-2 66,-16 96,-16 96,-2 66,-2\"/>\n",
       "<text text-anchor=\"start\" x=\"67\" y=\"-6.2\" font-family=\"Helvetica,sans-Serif\" font-size=\"11.00\" fill=\"#444443\"> 1985</text>\n",
       "</g>\n",
       "</g>\n",
       "</svg>\n"
      ],
      "text/plain": [
       "<graphviz.files.Source at 0x7fb5d8861940>"
      ]
     },
     "execution_count": 45,
     "metadata": {},
     "output_type": "execute_result"
    }
   ],
   "source": [
    "movies = {'Amadeus':1984, 'Witness':1985}\n",
    "print(movies)\n",
    "objviz(movies)"
   ]
  },
  {
   "cell_type": "code",
   "execution_count": 46,
   "metadata": {},
   "outputs": [
    {
     "name": "stdout",
     "output_type": "stream",
     "text": [
      "dict_keys(['Amadeus', 'Witness'])\n",
      "dict_values([1984, 1985])\n"
     ]
    }
   ],
   "source": [
    "print(movies.keys())\n",
    "print(movies.values())"
   ]
  },
  {
   "cell_type": "markdown",
   "metadata": {},
   "source": [
    "Walking a dictionary is also easy but we have to decide whether we want to walk the keys or the values:"
   ]
  },
  {
   "cell_type": "code",
   "execution_count": 47,
   "metadata": {},
   "outputs": [
    {
     "name": "stdout",
     "output_type": "stream",
     "text": [
      "Amadeus\n",
      "Witness\n"
     ]
    }
   ],
   "source": [
    "movies = {'Amadeus':1984, 'Witness':1985}\n",
    "for m in movies: # walk keys\n",
    "    print(m)"
   ]
  },
  {
   "cell_type": "code",
   "execution_count": 48,
   "metadata": {},
   "outputs": [
    {
     "name": "stdout",
     "output_type": "stream",
     "text": [
      "1984\n",
      "1985\n"
     ]
    }
   ],
   "source": [
    "for m in movies.values(): # walk values\n",
    "    print(m)"
   ]
  },
  {
   "cell_type": "code",
   "execution_count": 49,
   "metadata": {},
   "outputs": [
    {
     "name": "stdout",
     "output_type": "stream",
     "text": [
      "Amadeus -> 1984\n",
      "Witness -> 1985\n"
     ]
    }
   ],
   "source": [
    "for (key,value) in movies.items():\n",
    "    print(f\"{key} -> {value}\")"
   ]
  },
  {
   "cell_type": "code",
   "execution_count": 50,
   "metadata": {},
   "outputs": [
    {
     "data": {
      "text/plain": [
       "1984"
      ]
     },
     "execution_count": 50,
     "metadata": {},
     "output_type": "execute_result"
    }
   ],
   "source": [
    "movies['Amadeus']"
   ]
  },
  {
   "cell_type": "markdown",
   "metadata": {},
   "source": [
    "```\n",
    "movies['foo']\n",
    "```\n",
    "\n",
    "gets a KeyError:\n",
    "\n",
    "```\n",
    "---------------------------------------------------------------------------\n",
    "KeyError                                  Traceback (most recent call last)\n",
    "<ipython-input-40-72c06b90f573> in <module>()\n",
    "----> 1 movies['foo'] # gets a KeyError\n",
    "\n",
    "KeyError: 'foo'\n",
    "```"
   ]
  },
  {
   "cell_type": "markdown",
   "metadata": {},
   "source": [
    "## Summary"
   ]
  },
  {
   "cell_type": "markdown",
   "metadata": {},
   "source": [
    "Here are the commonly-used data types:\n",
    "\n",
    "* integer numbers like -2, 0, 99\n",
    "* real numbers (floating-point numbers) like -2.3, 99.1932\n",
    "* strings like \"Mary\", \"President Obama\"\n",
    "\n",
    "And here are the commonly-used data structures:\n",
    "\n",
    "* ordered list\n",
    "* set (just an unordered, unique list)\n",
    "* list of lists such as tables or matrices with rows and columns \n",
    "* tuples are immutable lists\n",
    "* dictionary such as mapping a student name to their student ID; we can think of this as a table where each row in the table associates the key with a value.\n",
    "\n",
    "Remember that all variable names are actually indirect references to a memory location. Everything is a pointer to the data in the implementation. That means we can have two variable names that refer to the same memory location and hence the variables are aliased. Changing one variable's elements appears to change the other variables elements.\n",
    "\n",
    "Now that we know what data looks like in memory, let's consider a [computation model](computation.ipynb)."
   ]
  }
 ],
 "metadata": {
  "kernelspec": {
   "display_name": "Python 3",
   "language": "python",
   "name": "python3"
  },
  "language_info": {
   "codemirror_mode": {
    "name": "ipython",
    "version": 3
   },
   "file_extension": ".py",
   "mimetype": "text/x-python",
   "name": "python",
   "nbconvert_exporter": "python",
   "pygments_lexer": "ipython3",
   "version": "3.8.8"
  }
 },
 "nbformat": 4,
 "nbformat_minor": 4
}
