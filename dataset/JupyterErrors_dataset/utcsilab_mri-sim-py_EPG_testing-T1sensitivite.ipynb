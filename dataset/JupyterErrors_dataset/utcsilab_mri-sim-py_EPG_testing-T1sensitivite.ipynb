{
 "cells": [
  {
   "cell_type": "code",
   "execution_count": 1,
   "metadata": {
    "collapsed": false
   },
   "outputs": [],
   "source": [
    "from __future__ import division\n",
    "# %pylab\n",
    "import numpy as np\n",
    "from numpy import pi\n",
    "import epg"
   ]
  },
  {
   "cell_type": "code",
   "execution_count": 2,
   "metadata": {
    "collapsed": false
   },
   "outputs": [],
   "source": [
    "np.set_printoptions(suppress=True, precision=4, linewidth=300)"
   ]
  },
  {
   "cell_type": "code",
   "execution_count": 3,
   "metadata": {
    "collapsed": false
   },
   "outputs": [],
   "source": [
    "T1 = 1000e-3\n",
    "T2 = 100e-3\n",
    "TE = 5e-3\n",
    "\n",
    "P_z = np.array([[0],[0],[1]])\n",
    "P_xy = np.array([[1],[1],[0]])\n",
    "\n",
    "def eRF(P, a, p):\n",
    "    return epg.rf(P, np.pi/180 * a, np.pi/180*p)\n",
    "\n",
    "def eTE(P, a, p):\n",
    "    return epg.FSE_TE(P, a * np.pi/180, p * np.pi / 180, TE, T1, T2)\n",
    "\n",
    "def eRelax(P, T):\n",
    "    return epg.relax(P, T, T1, T2)\n",
    "\n",
    "def eGrad(P):\n",
    "    return epg.grad(P)"
   ]
  },
  {
   "cell_type": "code",
   "execution_count": 4,
   "metadata": {
    "collapsed": true
   },
   "outputs": [],
   "source": [
    "import matplotlib.pyplot as plt\n",
    "%matplotlib inline"
   ]
  },
  {
   "cell_type": "code",
   "execution_count": 5,
   "metadata": {
    "collapsed": false
   },
   "outputs": [
    {
     "name": "stdout",
     "output_type": "stream",
     "text": [
      "[[ 0.3420-0.j]\n",
      " [ 0.3420+0.j]\n",
      " [-0.9397+0.j]]\n",
      "[[-0.9108+0.j]\n",
      " [-0.9108-0.j]\n",
      " [-0.2944+0.j]]\n",
      "[[-0.8664-0.j  0.0000+0.j -0.0000+0.j]\n",
      " [-0.8664+0.j  0.0000+0.j  0.0000+0.j]\n",
      " [ 0.2929+0.j  0.0000+0.j  0.0000+0.j]]\n"
     ]
    }
   ],
   "source": [
    "P1 = epg.rf(P_z, 160*pi/180, pi/2)\n",
    "print P1\n",
    "P2 = epg.relax(P1, 15e-3, T1, T2)\n",
    "P3 = epg.rf(P2, pi/2, pi/2)\n",
    "print P3\n",
    "P4 = epg.FSE_TE(P3, 180*pi/180, 0, TE, T1, T2)\n",
    "print P4"
   ]
  },
  {
   "cell_type": "code",
   "execution_count": 6,
   "metadata": {
    "collapsed": false
   },
   "outputs": [
    {
     "name": "stdout",
     "output_type": "stream",
     "text": [
      "[[ 1.0000-0.j]\n",
      " [ 0.7134+0.j]\n",
      " [ 0.8639-0.j]]\n"
     ]
    },
    {
     "data": {
      "text/plain": [
       "<matplotlib.legend.Legend at 0x110ca30d0>"
      ]
     },
     "execution_count": 6,
     "metadata": {},
     "output_type": "execute_result"
    },
    {
     "data": {
      "image/png": "[encoded data removed]",
      "text/plain": [
       "<matplotlib.figure.Figure at 0x110bd1a90>"
      ]
     },
     "metadata": {},
     "output_type": "display_data"
    }
   ],
   "source": [
    "flip_rad = np.array([0 + 90j, 90 + 90j, 120, 120, 120, 120, 120, 120, 120]) * pi / 180\n",
    "TI = 15e-3\n",
    "Mxy, Mz = epg.FSE_signal2(np.real(flip_rad), np.imag(flip_rad), TE, T1, T2, TI)\n",
    "print Mxy[:3]\n",
    "fig = plt.figure()\n",
    "plt.plot(np.real(Mxy))\n",
    "plt.plot(np.imag(Mxy))\n",
    "plt.plot(Mz)\n",
    "plt.plot(np.abs(Mxy), 'k')\n",
    "plt.legend(('real mxy', 'imag mxy', 'mz', 'signal'))"
   ]
  },
  {
   "cell_type": "code",
   "execution_count": 11,
   "metadata": {
    "collapsed": false
   },
   "outputs": [
    {
     "name": "stdout",
     "output_type": "stream",
     "text": [
      "[[ 1.0000-0.j]\n",
      " [ 0.7134+0.j]\n",
      " [ 0.7998+0.j]]\n"
     ]
    },
    {
     "data": {
      "text/plain": [
       "<matplotlib.legend.Legend at 0x11123b310>"
      ]
     },
     "execution_count": 11,
     "metadata": {},
     "output_type": "execute_result"
    },
    {
     "data": {
      "image/png": "[encoded data removed]",
      "text/plain": [
       "<matplotlib.figure.Figure at 0x10dc3a110>"
      ]
     },
     "metadata": {},
     "output_type": "display_data"
    }
   ],
   "source": [
    "flip_rad = np.array([0 + 90j, 90 + 90j, 120, 100, 90, 80, 70, 60, 30, 30, 30, 90, 0, 0, 0, 0, 0, 0, 0]) * pi / 180\n",
    "TI = 0e-3\n",
    "T1=1000e-3\n",
    "T1=500e-3\n",
    "Mxy, Mz = epg.FSE_signal2(np.real(flip_rad), np.imag(flip_rad), TE, T1, T2, TI)\n",
    "print Mxy[:3]\n",
    "fig = plt.figure()\n",
    "plt.plot(np.real(Mxy))\n",
    "plt.plot(np.imag(Mxy))\n",
    "plt.plot(Mz)\n",
    "plt.plot(np.abs(Mxy), 'k')\n",
    "plt.legend(('real mxy', 'imag mxy', 'mz', 'signal'))"
   ]
  },
  {
   "cell_type": "code",
   "execution_count": 8,
   "metadata": {
    "collapsed": false
   },
   "outputs": [
    {
     "ename": "ValueError",
     "evalue": "The truth value of an array with more than one element is ambiguous. Use a.any() or a.all()",
     "output_type": "error",
     "traceback": [
      "\u001b[0;31m---------------------------------------------------------------------------\u001b[0m",
      "\u001b[0;31mValueError\u001b[0m                                Traceback (most recent call last)",
      "\u001b[0;32m<ipython-input-8-bdc1865c24d3>\u001b[0m in \u001b[0;36m<module>\u001b[0;34m()\u001b[0m\n\u001b[1;32m      4\u001b[0m \u001b[0;34m\u001b[0m\u001b[0m\n\u001b[1;32m      5\u001b[0m \u001b[0mflip_rad\u001b[0m \u001b[0;34m=\u001b[0m \u001b[0mnp\u001b[0m\u001b[0;34m.\u001b[0m\u001b[0marray\u001b[0m\u001b[0;34m(\u001b[0m\u001b[0;34m[\u001b[0m\u001b[0;36m90\u001b[0m\u001b[0;34m,\u001b[0m \u001b[0;36m180\u001b[0m\u001b[0;34m,\u001b[0m \u001b[0;36m180\u001b[0m\u001b[0;34m,\u001b[0m \u001b[0;36m180\u001b[0m\u001b[0;34m,\u001b[0m \u001b[0;36m180\u001b[0m\u001b[0;34m,\u001b[0m \u001b[0;36m10\u001b[0m\u001b[0;34m,\u001b[0m \u001b[0;36m0\u001b[0m\u001b[0;34m,\u001b[0m \u001b[0;36m80\u001b[0m\u001b[0;34m,\u001b[0m \u001b[0;36m100\u001b[0m\u001b[0;34m]\u001b[0m\u001b[0;34m)\u001b[0m \u001b[0;34m*\u001b[0m \u001b[0mpi\u001b[0m \u001b[0;34m/\u001b[0m \u001b[0;36m180\u001b[0m\u001b[0;34m\u001b[0m\u001b[0m\n\u001b[0;32m----> 6\u001b[0;31m \u001b[0mMxy\u001b[0m\u001b[0;34m,\u001b[0m \u001b[0mMz\u001b[0m \u001b[0;34m=\u001b[0m \u001b[0mepg\u001b[0m\u001b[0;34m.\u001b[0m\u001b[0mFSE_signal2\u001b[0m\u001b[0;34m(\u001b[0m\u001b[0mnp\u001b[0m\u001b[0;34m.\u001b[0m\u001b[0mreal\u001b[0m\u001b[0;34m(\u001b[0m\u001b[0mflip_rad\u001b[0m\u001b[0;34m)\u001b[0m\u001b[0;34m,\u001b[0m \u001b[0mnp\u001b[0m\u001b[0;34m.\u001b[0m\u001b[0mimag\u001b[0m\u001b[0;34m(\u001b[0m\u001b[0mflip_rad\u001b[0m\u001b[0;34m)\u001b[0m\u001b[0;34m,\u001b[0m \u001b[0mTE\u001b[0m\u001b[0;34m,\u001b[0m \u001b[0mT1\u001b[0m\u001b[0;34m,\u001b[0m \u001b[0mT2\u001b[0m\u001b[0;34m,\u001b[0m \u001b[0mP\u001b[0m\u001b[0;34m)\u001b[0m\u001b[0;34m\u001b[0m\u001b[0m\n\u001b[0m\u001b[1;32m      7\u001b[0m \u001b[0;34m\u001b[0m\u001b[0m\n\u001b[1;32m      8\u001b[0m \u001b[0mfig\u001b[0m \u001b[0;34m=\u001b[0m \u001b[0mplt\u001b[0m\u001b[0;34m.\u001b[0m\u001b[0mfigure\u001b[0m\u001b[0;34m(\u001b[0m\u001b[0;34m)\u001b[0m\u001b[0;34m\u001b[0m\u001b[0m\n",
      "\u001b[0;32m/Volumes/Drive/Drive/school/research/cs-mri/svn/jtamir/projects/mri-sim-py/epg/epg.pyc\u001b[0m in \u001b[0;36mFSE_signal2\u001b[0;34m(angles_rad, phase_rad, TE, T1, T2, TI, M0)\u001b[0m\n\u001b[1;32m    270\u001b[0m \u001b[0;34m\u001b[0m\u001b[0m\n\u001b[1;32m    271\u001b[0m     \u001b[0mP\u001b[0m \u001b[0;34m=\u001b[0m \u001b[0mnp\u001b[0m\u001b[0;34m.\u001b[0m\u001b[0mcopy\u001b[0m\u001b[0;34m(\u001b[0m\u001b[0mM0\u001b[0m\u001b[0;34m)\u001b[0m\u001b[0;34m\u001b[0m\u001b[0m\n\u001b[0;32m--> 272\u001b[0;31m     \u001b[0;32mif\u001b[0m \u001b[0mTI\u001b[0m \u001b[0;34m>\u001b[0m \u001b[0;36m0.\u001b[0m\u001b[0;34m:\u001b[0m\u001b[0;34m\u001b[0m\u001b[0m\n\u001b[0m\u001b[1;32m    273\u001b[0m         \u001b[0mP\u001b[0m \u001b[0;34m=\u001b[0m \u001b[0mrf\u001b[0m\u001b[0;34m(\u001b[0m\u001b[0mP\u001b[0m\u001b[0;34m,\u001b[0m \u001b[0mangles_rad\u001b[0m\u001b[0;34m[\u001b[0m\u001b[0;36m0\u001b[0m\u001b[0;34m]\u001b[0m\u001b[0;34m,\u001b[0m \u001b[0mphase_rad\u001b[0m\u001b[0;34m[\u001b[0m\u001b[0;36m0\u001b[0m\u001b[0;34m]\u001b[0m\u001b[0;34m)\u001b[0m \u001b[0;31m# apply inversion pulse\u001b[0m\u001b[0;34m\u001b[0m\u001b[0m\n\u001b[1;32m    274\u001b[0m         \u001b[0mP\u001b[0m \u001b[0;34m=\u001b[0m \u001b[0mrelax\u001b[0m\u001b[0;34m(\u001b[0m\u001b[0mP\u001b[0m\u001b[0;34m,\u001b[0m \u001b[0mTI\u001b[0m\u001b[0;34m,\u001b[0m \u001b[0mT1\u001b[0m\u001b[0;34m,\u001b[0m \u001b[0mT2\u001b[0m\u001b[0;34m)\u001b[0m \u001b[0;31m# wait inversion time\u001b[0m\u001b[0;34m\u001b[0m\u001b[0m\n",
      "\u001b[0;31mValueError\u001b[0m: The truth value of an array with more than one element is ambiguous. Use a.any() or a.all()"
     ]
    }
   ],
   "source": [
    "T1 = 600e-3;\n",
    "P = epg.rf(P_z, pi, pi/2)\n",
    "P = epg.relax(P, 10e-3, T1, T2)\n",
    "\n",
    "flip_rad = np.array([90, 180, 180, 180, 180, 10, 0, 80, 100]) * pi / 180\n",
    "Mxy, Mz = epg.FSE_signal2(np.real(flip_rad), np.imag(flip_rad), TE, T1, T2, P)\n",
    "\n",
    "fig = plt.figure()\n",
    "plt.plot(np.abs(Mxy))\n",
    "plt.plot(Mz)"
   ]
  },
  {
   "cell_type": "code",
   "execution_count": null,
   "metadata": {
    "collapsed": false
   },
   "outputs": [],
   "source": [
    "eTE(eRF(eTE(eRF(P_z, 180, 90),0, 0), 90, 90), 180, 0)"
   ]
  },
  {
   "cell_type": "code",
   "execution_count": null,
   "metadata": {
    "collapsed": false
   },
   "outputs": [],
   "source": [
    "np.hstack((np.array([0,1]), np.array([2,3])))"
   ]
  },
  {
   "cell_type": "code",
   "execution_count": null,
   "metadata": {
    "collapsed": false
   },
   "outputs": [],
   "source": [
    "epg.rf(np.array([0,0,1]).T,pi/3, 0)"
   ]
  },
  {
   "cell_type": "code",
   "execution_count": 92,
   "metadata": {
    "collapsed": true
   },
   "outputs": [],
   "source": [
    "np.insert?"
   ]
  },
  {
   "cell_type": "code",
   "execution_count": null,
   "metadata": {
    "collapsed": true
   },
   "outputs": [],
   "source": []
  }
 ],
 "metadata": {
  "kernelspec": {
   "display_name": "Python 2",
   "language": "python",
   "name": "python2"
  },
  "language_info": {
   "codemirror_mode": {
    "name": "ipython",
    "version": 2
   },
   "file_extension": ".py",
   "mimetype": "text/x-python",
   "name": "python",
   "nbconvert_exporter": "python",
   "pygments_lexer": "ipython2",
   "version": "2.7.11"
  }
 },
 "nbformat": 4,
 "nbformat_minor": 0
}
