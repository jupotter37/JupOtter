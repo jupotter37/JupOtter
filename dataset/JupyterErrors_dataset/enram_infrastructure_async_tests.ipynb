{
 "cells": [
  {
   "cell_type": "code",
   "execution_count": 1,
   "metadata": {
    "collapsed": true
   },
   "outputs": [],
   "source": [
    "import os\n",
    "import asyncio\n",
    "\n",
    "import h5py"
   ]
  },
  {
   "cell_type": "code",
   "execution_count": 2,
   "metadata": {
    "collapsed": true
   },
   "outputs": [],
   "source": [
    "import file_transfer.datamover as dm"
   ]
  },
  {
   "cell_type": "markdown",
   "metadata": {},
   "source": [
    "## Testzone"
   ]
  },
  {
   "cell_type": "markdown",
   "metadata": {},
   "source": [
    "### Writing the download and cleaning as coroutines"
   ]
  },
  {
   "cell_type": "code",
   "execution_count": 3,
   "metadata": {
    "collapsed": true
   },
   "outputs": [],
   "source": [
    "s3handle = dm.S3EnramHandler(bucket_name=\"lw-enram\", profile_name=\"lw-enram\")"
   ]
  },
  {
   "cell_type": "code",
   "execution_count": 10,
   "metadata": {
    "collapsed": true
   },
   "outputs": [],
   "source": [
    "def download_from_s3(s3handle):\n",
    "    while True:\n",
    "        file_key = (yield)\n",
    "        s3handle.download_file(file_key) "
   ]
  },
  {
   "cell_type": "code",
   "execution_count": 8,
   "metadata": {
    "collapsed": true
   },
   "outputs": [],
   "source": [
    "test_list = [\n",
    "    \"be/jab/2016/11/20/23/bejab_vp_20161120233000.h5\",\n",
    "    \"be/jab/2016/11/20/23/bejab_vp_20161120233500.h5\",\n",
    "    \"be/jab/2016/11/20/23/bejab_vp_20161120234000.h5\",\n",
    "    \"be/jab/2016/11/20/23/bejab_vp_20161120234500.h5\",\n",
    "    \"be/jab/2016/11/20/23/bejab_vp_20161120235000.h5\",\n",
    "    \"be/jab/2016/11/20/23/bejab_vp_20161120235500.h5\"]"
   ]
  },
  {
   "cell_type": "code",
   "execution_count": 9,
   "metadata": {},
   "outputs": [
    {
     "name": "stdout",
     "output_type": "stream",
     "text": [
      "starting\n",
      "be/jab/2016/11/20/23/bejab_vp_20161120233000.h5\n",
      "downloaded be/jab/2016/11/20/23/bejab_vp_20161120233000.h5\n",
      "be/jab/2016/11/20/23/bejab_vp_20161120233500.h5\n",
      "downloaded be/jab/2016/11/20/23/bejab_vp_20161120233500.h5\n",
      "be/jab/2016/11/20/23/bejab_vp_20161120234000.h5\n",
      "downloaded be/jab/2016/11/20/23/bejab_vp_20161120234000.h5\n",
      "be/jab/2016/11/20/23/bejab_vp_20161120234500.h5\n",
      "downloaded be/jab/2016/11/20/23/bejab_vp_20161120234500.h5\n",
      "be/jab/2016/11/20/23/bejab_vp_20161120235000.h5\n",
      "downloaded be/jab/2016/11/20/23/bejab_vp_20161120235000.h5\n",
      "be/jab/2016/11/20/23/bejab_vp_20161120235500.h5\n",
      "downloaded be/jab/2016/11/20/23/bejab_vp_20161120235500.h5\n"
     ]
    }
   ],
   "source": [
    "# initiate downloader\n",
    "downloader = download_from_s3(s3handle)\n",
    "downloader.send(None)\n",
    "download_all = [downloader.send(file) for file in test_list]"
   ]
  },
  {
   "cell_type": "markdown",
   "metadata": {},
   "source": [
    "## Tasks scheduling"
   ]
  },
  {
   "cell_type": "code",
   "execution_count": 61,
   "metadata": {
    "collapsed": true
   },
   "outputs": [],
   "source": [
    "test_list = [\n",
    "    \"be/jab/2016/11/20/23/bejab_vp_20161120233000.h5\",\n",
    "    \"be/jab/2016/11/20/23/bejab_vp_20161120233500.h5\",\n",
    "    \"be/jab/2016/11/20/23/bejab_vp_20161120234000.h5\",\n",
    "    \"be/jab/2016/11/20/23/bejab_vp_20161120234500.h5\",\n",
    "    \"be/jab/2016/11/20/23/bejab_vp_20161120235000.h5\",\n",
    "    \"be/jab/2016/11/20/23/bejab_vp_20161120235500.h5\",\n",
    "    \"nl/dhl/2017/08/04/01/nldhl_vp_20170804010000.h5\"]"
   ]
  },
  {
   "cell_type": "code",
   "execution_count": 62,
   "metadata": {
    "collapsed": true
   },
   "outputs": [],
   "source": [
    "def check_h5(file_key):\n",
    "    try:\n",
    "        h5py.File(file_key, mode=\"r\")\n",
    "        return None\n",
    "    except:\n",
    "        return file_key"
   ]
  },
  {
   "cell_type": "code",
   "execution_count": 127,
   "metadata": {
    "collapsed": true
   },
   "outputs": [],
   "source": [
    "import aiobotocore"
   ]
  },
  {
   "cell_type": "code",
   "execution_count": 138,
   "metadata": {},
   "outputs": [
    {
     "ename": "TypeError",
     "evalue": "__init__() got an unexpected keyword argument 'profile_name'",
     "output_type": "error",
     "traceback": [
      "\u001b[0;31m---------------------------------------------------------------------------\u001b[0m",
      "\u001b[0;31mTypeError\u001b[0m                                 Traceback (most recent call last)",
      "\u001b[0;32m<ipython-input-138-390709882e16>\u001b[0m in \u001b[0;36m<module>\u001b[0;34m()\u001b[0m\n\u001b[0;32m----> 1\u001b[0;31m \u001b[0maiobotocore\u001b[0m\u001b[0;34m.\u001b[0m\u001b[0mAioSession\u001b[0m\u001b[0;34m(\u001b[0m\u001b[0mprofile_name\u001b[0m\u001b[0;34m=\u001b[0m\u001b[0;34m\"lw-enram\"\u001b[0m\u001b[0;34m)\u001b[0m\u001b[0;34m\u001b[0m\u001b[0m\n\u001b[0m",
      "\u001b[0;32m/home/stijn_vanhoey/miniconda2/envs/inbobase/lib/python3.5/site-packages/aiobotocore/session.py\u001b[0m in \u001b[0;36m__init__\u001b[0;34m(self, *args, **kwargs)\u001b[0m\n\u001b[1;32m     13\u001b[0m         \u001b[0mself\u001b[0m\u001b[0;34m.\u001b[0m\u001b[0m_loop\u001b[0m \u001b[0;34m=\u001b[0m \u001b[0mkwargs\u001b[0m\u001b[0;34m.\u001b[0m\u001b[0mpop\u001b[0m\u001b[0;34m(\u001b[0m\u001b[0;34m'loop'\u001b[0m\u001b[0;34m,\u001b[0m \u001b[0;32mNone\u001b[0m\u001b[0;34m)\u001b[0m\u001b[0;34m\u001b[0m\u001b[0m\n\u001b[1;32m     14\u001b[0m \u001b[0;34m\u001b[0m\u001b[0m\n\u001b[0;32m---> 15\u001b[0;31m         \u001b[0msuper\u001b[0m\u001b[0;34m(\u001b[0m\u001b[0;34m)\u001b[0m\u001b[0;34m.\u001b[0m\u001b[0m__init__\u001b[0m\u001b[0;34m(\u001b[0m\u001b[0;34m*\u001b[0m\u001b[0margs\u001b[0m\u001b[0;34m,\u001b[0m \u001b[0;34m**\u001b[0m\u001b[0mkwargs\u001b[0m\u001b[0;34m)\u001b[0m\u001b[0;34m\u001b[0m\u001b[0m\n\u001b[0m\u001b[1;32m     16\u001b[0m \u001b[0;34m\u001b[0m\u001b[0m\n\u001b[1;32m     17\u001b[0m     def create_client(self, service_name, region_name=None, api_version=None,\n",
      "\u001b[0;31mTypeError\u001b[0m: __init__() got an unexpected keyword argument 'profile_name'"
     ]
    }
   ],
   "source": [
    "aiobotocore.AioSession(profile_name=\"lw-enram\")"
   ]
  },
  {
   "cell_type": "code",
   "execution_count": 136,
   "metadata": {},
   "outputs": [
    {
     "data": {
      "text/plain": [
       "['lw-enram', 'default']"
      ]
     },
     "execution_count": 136,
     "metadata": {},
     "output_type": "execute_result"
    }
   ],
   "source": [
    "loop = asyncio.get_event_loop()\n",
    "session = aiobotocore.get_session(loop=loop)\n",
    "session.create_client(config=)"
   ]
  },
  {
   "cell_type": "code",
   "execution_count": 116,
   "metadata": {},
   "outputs": [
    {
     "ename": "DataNotFoundError",
     "evalue": "Unable to load data for: endpoints",
     "output_type": "error",
     "traceback": [
      "\u001b[0;31m---------------------------------------------------------------------------\u001b[0m",
      "\u001b[0;31mDataNotFoundError\u001b[0m                         Traceback (most recent call last)",
      "\u001b[0;32m<ipython-input-116-ae8a884c81bd>\u001b[0m in \u001b[0;36m<module>\u001b[0;34m()\u001b[0m\n\u001b[1;32m      1\u001b[0m \u001b[0msession\u001b[0m \u001b[0;34m=\u001b[0m \u001b[0maiobotocore\u001b[0m\u001b[0;34m.\u001b[0m\u001b[0mget_session\u001b[0m\u001b[0;34m(\u001b[0m\u001b[0mloop\u001b[0m\u001b[0;34m=\u001b[0m\u001b[0mloop\u001b[0m\u001b[0;34m)\u001b[0m\u001b[0;34m\u001b[0m\u001b[0m\n\u001b[0;32m----> 2\u001b[0;31m \u001b[0mclient\u001b[0m \u001b[0;34m=\u001b[0m \u001b[0msession\u001b[0m\u001b[0;34m.\u001b[0m\u001b[0mcreate_client\u001b[0m\u001b[0;34m(\u001b[0m\u001b[0;34m's3'\u001b[0m\u001b[0;34m)\u001b[0m\u001b[0;34m\u001b[0m\u001b[0m\n\u001b[0m\u001b[1;32m      3\u001b[0m \u001b[0;31m#loop.run_until_complete(go(loop))\u001b[0m\u001b[0;34m\u001b[0m\u001b[0;34m\u001b[0m\u001b[0m\n",
      "\u001b[0;32m/home/stijn_vanhoey/miniconda2/envs/inbobase/lib/python3.5/site-packages/aiobotocore/session.py\u001b[0m in \u001b[0;36mcreate_client\u001b[0;34m(self, service_name, region_name, api_version, use_ssl, verify, endpoint_url, aws_access_key_id, aws_secret_access_key, aws_session_token, config)\u001b[0m\n\u001b[1;32m     64\u001b[0m         \u001b[0;32melse\u001b[0m\u001b[0;34m:\u001b[0m\u001b[0;34m\u001b[0m\u001b[0m\n\u001b[1;32m     65\u001b[0m             \u001b[0mcredentials\u001b[0m \u001b[0;34m=\u001b[0m \u001b[0mself\u001b[0m\u001b[0;34m.\u001b[0m\u001b[0mget_credentials\u001b[0m\u001b[0;34m(\u001b[0m\u001b[0;34m)\u001b[0m\u001b[0;34m\u001b[0m\u001b[0m\n\u001b[0;32m---> 66\u001b[0;31m         \u001b[0mendpoint_resolver\u001b[0m \u001b[0;34m=\u001b[0m \u001b[0mself\u001b[0m\u001b[0;34m.\u001b[0m\u001b[0mget_component\u001b[0m\u001b[0;34m(\u001b[0m\u001b[0;34m'endpoint_resolver'\u001b[0m\u001b[0;34m)\u001b[0m\u001b[0;34m\u001b[0m\u001b[0m\n\u001b[0m\u001b[1;32m     67\u001b[0m         \u001b[0mexceptions_factory\u001b[0m \u001b[0;34m=\u001b[0m \u001b[0mself\u001b[0m\u001b[0;34m.\u001b[0m\u001b[0mget_component\u001b[0m\u001b[0;34m(\u001b[0m\u001b[0;34m'exceptions_factory'\u001b[0m\u001b[0;34m)\u001b[0m\u001b[0;34m\u001b[0m\u001b[0m\n\u001b[1;32m     68\u001b[0m         client_creator = AioClientCreator(\n",
      "\u001b[0;32m/home/stijn_vanhoey/.local/lib/python3.5/site-packages/botocore/session.py\u001b[0m in \u001b[0;36mget_component\u001b[0;34m(self, name)\u001b[0m\n",
      "\u001b[0;32m/home/stijn_vanhoey/.local/lib/python3.5/site-packages/botocore/session.py\u001b[0m in \u001b[0;36mget_component\u001b[0;34m(self, name)\u001b[0m\n",
      "\u001b[0;32m/home/stijn_vanhoey/.local/lib/python3.5/site-packages/botocore/session.py\u001b[0m in \u001b[0;36mcreate_default_resolver\u001b[0;34m()\u001b[0m\n",
      "\u001b[0;32m/home/stijn_vanhoey/.local/lib/python3.5/site-packages/botocore/loaders.py\u001b[0m in \u001b[0;36m_wrapper\u001b[0;34m(self, *args, **kwargs)\u001b[0m\n",
      "\u001b[0;32m/home/stijn_vanhoey/.local/lib/python3.5/site-packages/botocore/loaders.py\u001b[0m in \u001b[0;36mload_data\u001b[0;34m(self, name)\u001b[0m\n",
      "\u001b[0;31mDataNotFoundError\u001b[0m: Unable to load data for: endpoints"
     ]
    }
   ],
   "source": [
    "session = aiobotocore.get_session(loop=loop)\n",
    "client = session.create_client('s3')\n",
    "#loop.run_until_complete(go(loop))"
   ]
  },
  {
   "cell_type": "code",
   "execution_count": null,
   "metadata": {
    "collapsed": true
   },
   "outputs": [],
   "source": []
  },
  {
   "cell_type": "code",
   "execution_count": 108,
   "metadata": {
    "collapsed": true
   },
   "outputs": [],
   "source": [
    "async def download_from_s3(file_key):\n",
    "    session = aiobotocore.get_session(loop=loop)\n",
    "    \n",
    "    \n",
    "    s3handle = dm.S3EnramHandler(bucket_name=\"lw-enram\", profile_name=\"lw-enram\")\n",
    "    s3handle.download_file(file_key) \n",
    "    return file_key"
   ]
  },
  {
   "cell_type": "code",
   "execution_count": 109,
   "metadata": {
    "collapsed": true
   },
   "outputs": [],
   "source": [
    "async def main(file_list):\n",
    "    downloaded_files = [download_from_s3(file) for file in testfiles]\n",
    "    \n",
    "    results = []\n",
    "    for next_to_complete in asyncio.as_completed(downloaded_files):\n",
    "        file_key = await next_to_complete\n",
    "        if check_h5(file_key):\n",
    "            results.append(file_key)\n",
    "            \n",
    "    print('results: {!r}'.format(results))\n",
    "    return results"
   ]
  },
  {
   "cell_type": "code",
   "execution_count": 110,
   "metadata": {},
   "outputs": [
    {
     "ename": "TypeError",
     "evalue": "object NoneType can't be used in 'await' expression",
     "output_type": "error",
     "traceback": [
      "\u001b[0;31m---------------------------------------------------------------------------\u001b[0m",
      "\u001b[0;31mTypeError\u001b[0m                                 Traceback (most recent call last)",
      "\u001b[0;32m<timed exec>\u001b[0m in \u001b[0;36m<module>\u001b[0;34m()\u001b[0m\n",
      "\u001b[0;32m/home/stijn_vanhoey/miniconda2/envs/inbobase/lib/python3.5/asyncio/base_events.py\u001b[0m in \u001b[0;36mrun_until_complete\u001b[0;34m(self, future)\u001b[0m\n\u001b[1;32m    464\u001b[0m             \u001b[0;32mraise\u001b[0m \u001b[0mRuntimeError\u001b[0m\u001b[0;34m(\u001b[0m\u001b[0;34m'Event loop stopped before Future completed.'\u001b[0m\u001b[0;34m)\u001b[0m\u001b[0;34m\u001b[0m\u001b[0m\n\u001b[1;32m    465\u001b[0m \u001b[0;34m\u001b[0m\u001b[0m\n\u001b[0;32m--> 466\u001b[0;31m         \u001b[0;32mreturn\u001b[0m \u001b[0mfuture\u001b[0m\u001b[0;34m.\u001b[0m\u001b[0mresult\u001b[0m\u001b[0;34m(\u001b[0m\u001b[0;34m)\u001b[0m\u001b[0;34m\u001b[0m\u001b[0m\n\u001b[0m\u001b[1;32m    467\u001b[0m \u001b[0;34m\u001b[0m\u001b[0m\n\u001b[1;32m    468\u001b[0m     \u001b[0;32mdef\u001b[0m \u001b[0mstop\u001b[0m\u001b[0;34m(\u001b[0m\u001b[0mself\u001b[0m\u001b[0;34m)\u001b[0m\u001b[0;34m:\u001b[0m\u001b[0;34m\u001b[0m\u001b[0m\n",
      "\u001b[0;32m/home/stijn_vanhoey/miniconda2/envs/inbobase/lib/python3.5/asyncio/futures.py\u001b[0m in \u001b[0;36mresult\u001b[0;34m(self)\u001b[0m\n\u001b[1;32m    291\u001b[0m             \u001b[0mself\u001b[0m\u001b[0;34m.\u001b[0m\u001b[0m_tb_logger\u001b[0m \u001b[0;34m=\u001b[0m \u001b[0;32mNone\u001b[0m\u001b[0;34m\u001b[0m\u001b[0m\n\u001b[1;32m    292\u001b[0m         \u001b[0;32mif\u001b[0m \u001b[0mself\u001b[0m\u001b[0;34m.\u001b[0m\u001b[0m_exception\u001b[0m \u001b[0;32mis\u001b[0m \u001b[0;32mnot\u001b[0m \u001b[0;32mNone\u001b[0m\u001b[0;34m:\u001b[0m\u001b[0;34m\u001b[0m\u001b[0m\n\u001b[0;32m--> 293\u001b[0;31m             \u001b[0;32mraise\u001b[0m \u001b[0mself\u001b[0m\u001b[0;34m.\u001b[0m\u001b[0m_exception\u001b[0m\u001b[0;34m\u001b[0m\u001b[0m\n\u001b[0m\u001b[1;32m    294\u001b[0m         \u001b[0;32mreturn\u001b[0m \u001b[0mself\u001b[0m\u001b[0;34m.\u001b[0m\u001b[0m_result\u001b[0m\u001b[0;34m\u001b[0m\u001b[0m\n\u001b[1;32m    295\u001b[0m \u001b[0;34m\u001b[0m\u001b[0m\n",
      "\u001b[0;32m/home/stijn_vanhoey/miniconda2/envs/inbobase/lib/python3.5/asyncio/tasks.py\u001b[0m in \u001b[0;36m_step\u001b[0;34m(***failed resolving arguments***)\u001b[0m\n\u001b[1;32m    237\u001b[0m                 \u001b[0;31m# We use the `send` method directly, because coroutines\u001b[0m\u001b[0;34m\u001b[0m\u001b[0;34m\u001b[0m\u001b[0m\n\u001b[1;32m    238\u001b[0m                 \u001b[0;31m# don't have `__iter__` and `__next__` methods.\u001b[0m\u001b[0;34m\u001b[0m\u001b[0;34m\u001b[0m\u001b[0m\n\u001b[0;32m--> 239\u001b[0;31m                 \u001b[0mresult\u001b[0m \u001b[0;34m=\u001b[0m \u001b[0mcoro\u001b[0m\u001b[0;34m.\u001b[0m\u001b[0msend\u001b[0m\u001b[0;34m(\u001b[0m\u001b[0;32mNone\u001b[0m\u001b[0;34m)\u001b[0m\u001b[0;34m\u001b[0m\u001b[0m\n\u001b[0m\u001b[1;32m    240\u001b[0m             \u001b[0;32melse\u001b[0m\u001b[0;34m:\u001b[0m\u001b[0;34m\u001b[0m\u001b[0m\n\u001b[1;32m    241\u001b[0m                 \u001b[0mresult\u001b[0m \u001b[0;34m=\u001b[0m \u001b[0mcoro\u001b[0m\u001b[0;34m.\u001b[0m\u001b[0mthrow\u001b[0m\u001b[0;34m(\u001b[0m\u001b[0mexc\u001b[0m\u001b[0;34m)\u001b[0m\u001b[0;34m\u001b[0m\u001b[0m\n",
      "\u001b[0;32m<ipython-input-109-03b8c28593bf>\u001b[0m in \u001b[0;36mmain\u001b[0;34m(file_list)\u001b[0m\n\u001b[1;32m      4\u001b[0m     \u001b[0mresults\u001b[0m \u001b[0;34m=\u001b[0m \u001b[0;34m[\u001b[0m\u001b[0;34m]\u001b[0m\u001b[0;34m\u001b[0m\u001b[0m\n\u001b[1;32m      5\u001b[0m     \u001b[0;32mfor\u001b[0m \u001b[0mnext_to_complete\u001b[0m \u001b[0;32min\u001b[0m \u001b[0masyncio\u001b[0m\u001b[0;34m.\u001b[0m\u001b[0mas_completed\u001b[0m\u001b[0;34m(\u001b[0m\u001b[0mdownloaded_files\u001b[0m\u001b[0;34m)\u001b[0m\u001b[0;34m:\u001b[0m\u001b[0;34m\u001b[0m\u001b[0m\n\u001b[0;32m----> 6\u001b[0;31m         \u001b[0mfile_key\u001b[0m \u001b[0;34m=\u001b[0m \u001b[0mawait\u001b[0m \u001b[0mnext_to_complete\u001b[0m\u001b[0;34m\u001b[0m\u001b[0m\n\u001b[0m\u001b[1;32m      7\u001b[0m         \u001b[0;32mif\u001b[0m \u001b[0mcheck_h5\u001b[0m\u001b[0;34m(\u001b[0m\u001b[0mfile_key\u001b[0m\u001b[0;34m)\u001b[0m\u001b[0;34m:\u001b[0m\u001b[0;34m\u001b[0m\u001b[0m\n\u001b[1;32m      8\u001b[0m             \u001b[0mresults\u001b[0m\u001b[0;34m.\u001b[0m\u001b[0mappend\u001b[0m\u001b[0;34m(\u001b[0m\u001b[0mfile_key\u001b[0m\u001b[0;34m)\u001b[0m\u001b[0;34m\u001b[0m\u001b[0m\n",
      "\u001b[0;32m/home/stijn_vanhoey/miniconda2/envs/inbobase/lib/python3.5/asyncio/tasks.py\u001b[0m in \u001b[0;36m_wait_for_one\u001b[0;34m()\u001b[0m\n\u001b[1;32m    498\u001b[0m             \u001b[0;31m# Dummy value from _on_timeout().\u001b[0m\u001b[0;34m\u001b[0m\u001b[0;34m\u001b[0m\u001b[0m\n\u001b[1;32m    499\u001b[0m             \u001b[0;32mraise\u001b[0m \u001b[0mfutures\u001b[0m\u001b[0;34m.\u001b[0m\u001b[0mTimeoutError\u001b[0m\u001b[0;34m\u001b[0m\u001b[0m\n\u001b[0;32m--> 500\u001b[0;31m         \u001b[0;32mreturn\u001b[0m \u001b[0mf\u001b[0m\u001b[0;34m.\u001b[0m\u001b[0mresult\u001b[0m\u001b[0;34m(\u001b[0m\u001b[0;34m)\u001b[0m  \u001b[0;31m# May raise f.exception().\u001b[0m\u001b[0;34m\u001b[0m\u001b[0m\n\u001b[0m\u001b[1;32m    501\u001b[0m \u001b[0;34m\u001b[0m\u001b[0m\n\u001b[1;32m    502\u001b[0m     \u001b[0;32mfor\u001b[0m \u001b[0mf\u001b[0m \u001b[0;32min\u001b[0m \u001b[0mtodo\u001b[0m\u001b[0;34m:\u001b[0m\u001b[0;34m\u001b[0m\u001b[0m\n",
      "\u001b[0;32m/home/stijn_vanhoey/miniconda2/envs/inbobase/lib/python3.5/asyncio/futures.py\u001b[0m in \u001b[0;36mresult\u001b[0;34m(self)\u001b[0m\n\u001b[1;32m    291\u001b[0m             \u001b[0mself\u001b[0m\u001b[0;34m.\u001b[0m\u001b[0m_tb_logger\u001b[0m \u001b[0;34m=\u001b[0m \u001b[0;32mNone\u001b[0m\u001b[0;34m\u001b[0m\u001b[0m\n\u001b[1;32m    292\u001b[0m         \u001b[0;32mif\u001b[0m \u001b[0mself\u001b[0m\u001b[0;34m.\u001b[0m\u001b[0m_exception\u001b[0m \u001b[0;32mis\u001b[0m \u001b[0;32mnot\u001b[0m \u001b[0;32mNone\u001b[0m\u001b[0;34m:\u001b[0m\u001b[0;34m\u001b[0m\u001b[0m\n\u001b[0;32m--> 293\u001b[0;31m             \u001b[0;32mraise\u001b[0m \u001b[0mself\u001b[0m\u001b[0;34m.\u001b[0m\u001b[0m_exception\u001b[0m\u001b[0;34m\u001b[0m\u001b[0m\n\u001b[0m\u001b[1;32m    294\u001b[0m         \u001b[0;32mreturn\u001b[0m \u001b[0mself\u001b[0m\u001b[0;34m.\u001b[0m\u001b[0m_result\u001b[0m\u001b[0;34m\u001b[0m\u001b[0m\n\u001b[1;32m    295\u001b[0m \u001b[0;34m\u001b[0m\u001b[0m\n",
      "\u001b[0;32m/home/stijn_vanhoey/miniconda2/envs/inbobase/lib/python3.5/asyncio/tasks.py\u001b[0m in \u001b[0;36m_step\u001b[0;34m(***failed resolving arguments***)\u001b[0m\n\u001b[1;32m    237\u001b[0m                 \u001b[0;31m# We use the `send` method directly, because coroutines\u001b[0m\u001b[0;34m\u001b[0m\u001b[0;34m\u001b[0m\u001b[0m\n\u001b[1;32m    238\u001b[0m                 \u001b[0;31m# don't have `__iter__` and `__next__` methods.\u001b[0m\u001b[0;34m\u001b[0m\u001b[0;34m\u001b[0m\u001b[0m\n\u001b[0;32m--> 239\u001b[0;31m                 \u001b[0mresult\u001b[0m \u001b[0;34m=\u001b[0m \u001b[0mcoro\u001b[0m\u001b[0;34m.\u001b[0m\u001b[0msend\u001b[0m\u001b[0;34m(\u001b[0m\u001b[0;32mNone\u001b[0m\u001b[0;34m)\u001b[0m\u001b[0;34m\u001b[0m\u001b[0m\n\u001b[0m\u001b[1;32m    240\u001b[0m             \u001b[0;32melse\u001b[0m\u001b[0;34m:\u001b[0m\u001b[0;34m\u001b[0m\u001b[0m\n\u001b[1;32m    241\u001b[0m                 \u001b[0mresult\u001b[0m \u001b[0;34m=\u001b[0m \u001b[0mcoro\u001b[0m\u001b[0;34m.\u001b[0m\u001b[0mthrow\u001b[0m\u001b[0;34m(\u001b[0m\u001b[0mexc\u001b[0m\u001b[0;34m)\u001b[0m\u001b[0;34m\u001b[0m\u001b[0m\n",
      "\u001b[0;32m<ipython-input-108-3a744067d36b>\u001b[0m in \u001b[0;36mdownload_from_s3\u001b[0;34m(file_key)\u001b[0m\n\u001b[1;32m      1\u001b[0m \u001b[0;34masync\u001b[0m \u001b[0;32mdef\u001b[0m \u001b[0mdownload_from_s3\u001b[0m\u001b[0;34m(\u001b[0m\u001b[0mfile_key\u001b[0m\u001b[0;34m)\u001b[0m\u001b[0;34m:\u001b[0m\u001b[0;34m\u001b[0m\u001b[0m\n\u001b[1;32m      2\u001b[0m     \u001b[0ms3handle\u001b[0m \u001b[0;34m=\u001b[0m \u001b[0mdm\u001b[0m\u001b[0;34m.\u001b[0m\u001b[0mS3EnramHandler\u001b[0m\u001b[0;34m(\u001b[0m\u001b[0mbucket_name\u001b[0m\u001b[0;34m=\u001b[0m\u001b[0;34m\"lw-enram\"\u001b[0m\u001b[0;34m,\u001b[0m \u001b[0mprofile_name\u001b[0m\u001b[0;34m=\u001b[0m\u001b[0;34m\"lw-enram\"\u001b[0m\u001b[0;34m)\u001b[0m\u001b[0;34m\u001b[0m\u001b[0m\n\u001b[0;32m----> 3\u001b[0;31m     \u001b[0mawait\u001b[0m \u001b[0ms3handle\u001b[0m\u001b[0;34m.\u001b[0m\u001b[0mdownload_file\u001b[0m\u001b[0;34m(\u001b[0m\u001b[0mfile_key\u001b[0m\u001b[0;34m)\u001b[0m\u001b[0;34m\u001b[0m\u001b[0m\n\u001b[0m\u001b[1;32m      4\u001b[0m     \u001b[0;32mreturn\u001b[0m \u001b[0mfile_key\u001b[0m\u001b[0;34m\u001b[0m\u001b[0m\n",
      "\u001b[0;31mTypeError\u001b[0m: object NoneType can't be used in 'await' expression"
     ]
    }
   ],
   "source": [
    "%%time\n",
    "event_loop = asyncio.get_event_loop()\n",
    "event_loop.run_until_complete(main(test_list))"
   ]
  },
  {
   "cell_type": "markdown",
   "metadata": {},
   "source": [
    "Comparison with nonsync"
   ]
  },
  {
   "cell_type": "code",
   "execution_count": 104,
   "metadata": {},
   "outputs": [
    {
     "name": "stdout",
     "output_type": "stream",
     "text": [
      "CPU times: user 1.22 s, sys: 224 ms, total: 1.45 s\n",
      "Wall time: 24.3 s\n"
     ]
    }
   ],
   "source": [
    "%%time\n",
    "results = []\n",
    "s3handle = dm.S3EnramHandler(bucket_name=\"lw-enram\", profile_name=\"lw-enram\")\n",
    "for file_key in testfiles:\n",
    "    s3handle.download_file(file_key) \n",
    "    if check_h5(file_key):\n",
    "            results.append(file_key)"
   ]
  },
  {
   "cell_type": "code",
   "execution_count": 106,
   "metadata": {},
   "outputs": [
    {
     "data": {
      "text/plain": [
       "[]"
      ]
     },
     "execution_count": 106,
     "metadata": {},
     "output_type": "execute_result"
    }
   ],
   "source": [
    "results"
   ]
  },
  {
   "cell_type": "code",
   "execution_count": 107,
   "metadata": {},
   "outputs": [
    {
     "data": {
      "text/plain": [
       "1"
      ]
     },
     "execution_count": 107,
     "metadata": {},
     "output_type": "execute_result"
    }
   ],
   "source": [
    "1"
   ]
  },
  {
   "cell_type": "code",
   "execution_count": null,
   "metadata": {
    "collapsed": true
   },
   "outputs": [],
   "source": []
  },
  {
   "cell_type": "code",
   "execution_count": null,
   "metadata": {
    "collapsed": true
   },
   "outputs": [],
   "source": []
  },
  {
   "cell_type": "code",
   "execution_count": 100,
   "metadata": {
    "collapsed": true
   },
   "outputs": [],
   "source": [
    "testfiles = []\n",
    "for j, file in enumerate(s3handle.bucket.objects.all()):\n",
    "    if file.key.endswith(\".h5\"):\n",
    "        testfiles.append(file.key)\n",
    "    if j == 200:\n",
    "        break"
   ]
  },
  {
   "cell_type": "code",
   "execution_count": 101,
   "metadata": {},
   "outputs": [
    {
     "data": {
      "text/plain": [
       "['be/jab/2016/11/20/23/bejab_vp_20161120233000.h5',\n",
       " 'be/jab/2016/11/20/23/bejab_vp_20161120233500.h5',\n",
       " 'be/jab/2016/11/20/23/bejab_vp_20161120234000.h5',\n",
       " 'be/jab/2016/11/20/23/bejab_vp_20161120234500.h5',\n",
       " 'be/jab/2016/11/20/23/bejab_vp_20161120235000.h5',\n",
       " 'be/jab/2016/11/20/23/bejab_vp_20161120235500.h5',\n",
       " 'be/wid/2016/11/20/23/bewid_vp_20161120233000.h5',\n",
       " 'be/wid/2016/11/20/23/bewid_vp_20161120233500.h5',\n",
       " 'be/wid/2016/11/20/23/bewid_vp_20161120234000.h5',\n",
       " 'be/wid/2016/11/20/23/bewid_vp_20161120234500.h5',\n",
       " 'be/wid/2016/11/20/23/bewid_vp_20161120235000.h5',\n",
       " 'be/wid/2016/11/20/23/bewid_vp_20161120235500.h5',\n",
       " 'ch/lem/2016/11/20/23/chlem_vp_20161120233000.h5',\n",
       " 'ch/lem/2016/11/20/23/chlem_vp_20161120234500.h5',\n",
       " 'cz/brd/2016/11/20/23/czbrd_vp_20161120233000.h5',\n",
       " 'cz/brd/2016/11/20/23/czbrd_vp_20161120234400.h5',\n",
       " 'cz/brd/2016/11/20/23/czbrd_vp_20161120234500.h5',\n",
       " 'cz/brd/2016/11/20/23/czbrd_vp_20161120235900.h5',\n",
       " 'cz/brd/2017/01/14/23/czbrd_vp_20170114233000.h5',\n",
       " 'cz/brd/2017/01/14/23/czbrd_vp_20170114234500.h5',\n",
       " 'cz/brd/2017/01/15/03/czbrd_vp_20170115034500.h5',\n",
       " 'cz/brd/2017/01/15/04/czbrd_vp_20170115043000.h5',\n",
       " 'cz/brd/2017/01/15/05/czbrd_vp_20170115054500.h5',\n",
       " 'cz/brd/2017/01/15/06/czbrd_vp_20170115060000.h5',\n",
       " 'cz/brd/2017/01/15/06/czbrd_vp_20170115061500.h5',\n",
       " 'cz/brd/2017/01/15/06/czbrd_vp_20170115063000.h5',\n",
       " 'cz/brd/2017/01/15/11/czbrd_vp_20170115110000.h5',\n",
       " 'cz/brd/2017/01/15/11/czbrd_vp_20170115111500.h5',\n",
       " 'cz/brd/2017/01/15/11/czbrd_vp_20170115113000.h5',\n",
       " 'cz/brd/2017/01/15/13/czbrd_vp_20170115130000.h5',\n",
       " 'cz/brd/2017/01/15/14/czbrd_vp_20170115143000.h5',\n",
       " 'cz/brd/2017/01/15/17/czbrd_vp_20170115171500.h5',\n",
       " 'cz/brd/2017/01/15/17/czbrd_vp_20170115174500.h5',\n",
       " 'cz/brd/2017/01/15/18/czbrd_vp_20170115180000.h5',\n",
       " 'cz/brd/2017/01/15/18/czbrd_vp_20170115181500.h5',\n",
       " 'cz/brd/2017/01/15/19/czbrd_vp_20170115193000.h5',\n",
       " 'cz/brd/2017/01/15/21/czbrd_vp_20170115214500.h5',\n",
       " 'cz/brd/2017/01/15/23/czbrd_vp_20170115231500.h5',\n",
       " 'cz/brd/2017/01/16/04/czbrd_vp_20170116041500.h5',\n",
       " 'cz/brd/2017/01/16/05/czbrd_vp_20170116054500.h5',\n",
       " 'cz/brd/2017/01/16/06/czbrd_vp_20170116060000.h5',\n",
       " 'cz/brd/2017/01/16/10/czbrd_vp_20170116100000.h5',\n",
       " 'cz/brd/2017/01/16/11/czbrd_vp_20170116111500.h5',\n",
       " 'cz/brd/2017/01/16/11/czbrd_vp_20170116113000.h5',\n",
       " 'cz/brd/2017/01/16/14/czbrd_vp_20170116144500.h5',\n",
       " 'cz/brd/2017/01/16/15/czbrd_vp_20170116154500.h5',\n",
       " 'cz/brd/2017/01/16/17/czbrd_vp_20170116174500.h5',\n",
       " 'cz/brd/2017/01/16/18/czbrd_vp_20170116180000.h5',\n",
       " 'cz/brd/2017/01/16/20/czbrd_vp_20170116204500.h5',\n",
       " 'cz/brd/2017/01/16/23/czbrd_vp_20170116231500.h5',\n",
       " 'cz/brd/2017/01/16/23/czbrd_vp_20170116233000.h5',\n",
       " 'cz/brd/2017/01/17/02/czbrd_vp_20170117024500.h5',\n",
       " 'cz/brd/2017/01/17/04/czbrd_vp_20170117043000.h5',\n",
       " 'cz/brd/2017/01/17/05/czbrd_vp_20170117054500.h5',\n",
       " 'cz/brd/2017/01/17/06/czbrd_vp_20170117060000.h5',\n",
       " 'cz/brd/2017/01/17/06/czbrd_vp_20170117061500.h5',\n",
       " 'cz/brd/2017/01/17/06/czbrd_vp_20170117064500.h5',\n",
       " 'cz/brd/2017/01/17/11/czbrd_vp_20170117113000.h5',\n",
       " 'cz/brd/2017/01/17/11/czbrd_vp_20170117114500.h5',\n",
       " 'cz/brd/2017/01/17/12/czbrd_vp_20170117124500.h5',\n",
       " 'cz/brd/2017/02/07/01/czbrd_vp_20170207014500.h5',\n",
       " 'cz/brd/2017/02/12/05/czbrd_vp_20170212054500.h5',\n",
       " 'cz/brd/2017/02/12/11/czbrd_vp_20170212111500.h5',\n",
       " 'cz/brd/2017/02/12/22/czbrd_vp_20170212224500.h5',\n",
       " 'cz/brd/2017/02/13/06/czbrd_vp_20170213060000.h5',\n",
       " 'cz/brd/2017/02/13/18/czbrd_vp_20170213184500.h5',\n",
       " 'cz/brd/2017/04/03/03/czbrd_vp_20170403033000.h5',\n",
       " 'cz/brd/2017/04/06/11/czbrd_vp_20170406113000.h5',\n",
       " 'cz/brd/2017/04/10/18/czbrd_vp_20170410181500.h5',\n",
       " 'cz/brd/2017/04/10/19/czbrd_vp_20170410191500.h5',\n",
       " 'cz/brd/2017/04/21/06/czbrd_vp_20170421063000.h5',\n",
       " 'cz/brd/2017/05/03/09/czbrd_vp_20170503090000.h5',\n",
       " 'cz/brd/2017/05/03/11/czbrd_vp_20170503114500.h5',\n",
       " 'cz/brd/2017/05/03/14/czbrd_vp_20170503141500.h5',\n",
       " 'cz/brd/2017/05/03/14/czbrd_vp_20170503144500.h5',\n",
       " 'cz/brd/2017/05/03/19/czbrd_vp_20170503190000.h5',\n",
       " 'cz/brd/2017/05/03/20/czbrd_vp_20170503203000.h5',\n",
       " 'cz/brd/2017/05/03/22/czbrd_vp_20170503220000.h5',\n",
       " 'cz/brd/2017/05/03/23/czbrd_vp_20170503231500.h5',\n",
       " 'cz/brd/2017/05/04/00/czbrd_vp_20170504004500.h5',\n",
       " 'cz/brd/2017/05/04/04/czbrd_vp_20170504041500.h5',\n",
       " 'cz/brd/2017/05/04/05/czbrd_vp_20170504050000.h5',\n",
       " 'cz/brd/2017/05/04/06/czbrd_vp_20170504060000.h5',\n",
       " 'cz/brd/2017/05/04/07/czbrd_vp_20170504071500.h5',\n",
       " 'cz/brd/2017/05/04/08/czbrd_vp_20170504081500.h5',\n",
       " 'cz/brd/2017/05/10/07/czbrd_vp_20170510074500.h5',\n",
       " 'cz/brd/2017/05/10/09/czbrd_vp_20170510090000.h5',\n",
       " 'cz/brd/2017/05/10/10/czbrd_vp_20170510100000.h5',\n",
       " 'cz/brd/2017/05/10/10/czbrd_vp_20170510104500.h5',\n",
       " 'cz/brd/2017/05/10/12/czbrd_vp_20170510121500.h5',\n",
       " 'cz/brd/2017/05/10/13/czbrd_vp_20170510130000.h5',\n",
       " 'cz/brd/2017/05/10/16/czbrd_vp_20170510160000.h5',\n",
       " 'cz/brd/2017/05/10/16/czbrd_vp_20170510161500.h5',\n",
       " 'cz/brd/2017/05/10/16/czbrd_vp_20170510164500.h5',\n",
       " 'cz/brd/2017/05/10/19/czbrd_vp_20170510194500.h5',\n",
       " 'cz/brd/2017/05/10/20/czbrd_vp_20170510201500.h5',\n",
       " 'cz/brd/2017/05/10/20/czbrd_vp_20170510203000.h5',\n",
       " 'cz/brd/2017/05/11/09/czbrd_vp_20170511094500.h5',\n",
       " 'cz/brd/2017/05/16/04/czbrd_vp_20170516041500.h5',\n",
       " 'cz/brd/2017/05/16/12/czbrd_vp_20170516120000.h5',\n",
       " 'cz/brd/2017/05/16/13/czbrd_vp_20170516134500.h5',\n",
       " 'cz/brd/2017/05/19/09/czbrd_vp_20170519091500.h5',\n",
       " 'cz/brd/2017/05/19/19/czbrd_vp_20170519191500.h5',\n",
       " 'cz/brd/2017/05/21/19/czbrd_vp_20170521194500.h5',\n",
       " 'cz/brd/2017/05/23/08/czbrd_vp_20170523081500.h5',\n",
       " 'cz/brd/2017/05/23/10/czbrd_vp_20170523101500.h5',\n",
       " 'cz/brd/2017/05/24/09/czbrd_vp_20170524091500.h5',\n",
       " 'cz/brd/2017/05/24/10/czbrd_vp_20170524104500.h5',\n",
       " 'cz/brd/2017/05/24/23/czbrd_vp_20170524234500.h5',\n",
       " 'cz/brd/2017/05/27/02/czbrd_vp_20170527024500.h5',\n",
       " 'cz/brd/2017/05/30/07/czbrd_vp_20170530071500.h5',\n",
       " 'cz/brd/2017/05/31/22/czbrd_vp_20170531224500.h5',\n",
       " 'cz/brd/2017/06/02/05/czbrd_vp_20170602050000.h5',\n",
       " 'cz/brd/2017/06/03/17/czbrd_vp_20170603174500.h5',\n",
       " 'cz/brd/2017/06/07/03/czbrd_vp_20170607030000.h5',\n",
       " 'cz/brd/2017/06/11/08/czbrd_vp_20170611081500.h5',\n",
       " 'cz/brd/2017/06/11/14/czbrd_vp_20170611140000.h5',\n",
       " 'cz/brd/2017/06/15/23/czbrd_vp_20170615230000.h5',\n",
       " 'cz/brd/2017/06/16/04/czbrd_vp_20170616044500.h5',\n",
       " 'cz/brd/2017/06/21/00/czbrd_vp_20170621003000.h5',\n",
       " 'cz/brd/2017/06/23/01/czbrd_vp_20170623010000.h5',\n",
       " 'cz/brd/2017/06/27/06/czbrd_vp_20170627061500.h5',\n",
       " 'cz/brd/2017/06/27/11/czbrd_vp_20170627113000.h5',\n",
       " 'cz/brd/2017/06/27/14/czbrd_vp_20170627140000.h5',\n",
       " 'cz/brd/2017/06/30/10/czbrd_vp_20170630101500.h5',\n",
       " 'cz/brd/2017/07/03/04/czbrd_vp_20170703041500.h5',\n",
       " 'cz/brd/2017/07/03/09/czbrd_vp_20170703094500.h5',\n",
       " 'cz/brd/2017/07/07/19/czbrd_vp_20170707191500.h5',\n",
       " 'cz/brd/2017/07/08/13/czbrd_vp_20170708130000.h5',\n",
       " 'cz/brd/2017/07/13/18/czbrd_vp_20170713180000.h5',\n",
       " 'cz/brd/2017/07/15/17/czbrd_vp_20170715174500.h5',\n",
       " 'cz/brd/2017/07/18/00/czbrd_vp_20170718004500.h5',\n",
       " 'cz/brd/2017/07/19/19/czbrd_vp_20170719190000.h5',\n",
       " 'cz/brd/2017/07/20/02/czbrd_vp_20170720021500.h5',\n",
       " 'cz/brd/2017/07/22/07/czbrd_vp_20170722073000.h5',\n",
       " 'cz/brd/2017/07/22/10/czbrd_vp_20170722101500.h5',\n",
       " 'cz/brd/2017/07/22/14/czbrd_vp_20170722143000.h5',\n",
       " 'cz/brd/2017/07/28/02/czbrd_vp_20170728024500.h5',\n",
       " 'cz/brd/2017/08/04/03/czbrd_vp_20170804030000.h5',\n",
       " 'cz/brd/2017/08/06/07/czbrd_vp_20170806073000.h5',\n",
       " 'cz/brd/2017/08/07/19/czbrd_vp_20170807190000.h5',\n",
       " 'cz/brd/2017/08/08/05/czbrd_vp_20170808054500.h5',\n",
       " 'cz/brd/2017/08/10/08/czbrd_vp_20170810084500.h5',\n",
       " 'cz/brd/2017/08/10/16/czbrd_vp_20170810163000.h5',\n",
       " 'cz/brd/2017/08/10/20/czbrd_vp_20170810200000.h5',\n",
       " 'cz/brd/2017/08/19/22/czbrd_vp_20170819223000.h5',\n",
       " 'cz/brd/2017/08/19/22/czbrd_vp_20170819224500.h5',\n",
       " 'cz/brd/2017/08/19/23/czbrd_vp_20170819231500.h5',\n",
       " 'cz/brd/2017/08/19/23/czbrd_vp_20170819233000.h5',\n",
       " 'cz/brd/2017/08/19/23/czbrd_vp_20170819234500.h5',\n",
       " 'cz/brd/2017/08/20/22/czbrd_vp_20170820223000.h5',\n",
       " 'cz/brd/2017/08/20/22/czbrd_vp_20170820224500.h5',\n",
       " 'cz/brd/2017/08/20/23/czbrd_vp_20170820230000.h5',\n",
       " 'cz/brd/2017/08/20/23/czbrd_vp_20170820231500.h5',\n",
       " 'cz/brd/2017/08/20/23/czbrd_vp_20170820233000.h5',\n",
       " 'cz/brd/2017/08/20/23/czbrd_vp_20170820234500.h5',\n",
       " 'cz/brd/2017/08/21/00/czbrd_vp_20170821000000.h5',\n",
       " 'cz/brd/2017/08/21/00/czbrd_vp_20170821001500.h5',\n",
       " 'cz/brd/2017/08/21/00/czbrd_vp_20170821003000.h5',\n",
       " 'cz/brd/2017/08/21/00/czbrd_vp_20170821004500.h5',\n",
       " 'cz/brd/2017/08/21/01/czbrd_vp_20170821010000.h5',\n",
       " 'cz/brd/2017/08/21/01/czbrd_vp_20170821011500.h5',\n",
       " 'cz/brd/2017/08/21/01/czbrd_vp_20170821013000.h5',\n",
       " 'cz/brd/2017/08/21/01/czbrd_vp_20170821014500.h5',\n",
       " 'cz/brd/2017/08/21/02/czbrd_vp_20170821020000.h5',\n",
       " 'cz/brd/2017/08/21/02/czbrd_vp_20170821021500.h5',\n",
       " 'cz/brd/2017/08/21/02/czbrd_vp_20170821023000.h5',\n",
       " 'cz/brd/2017/08/21/02/czbrd_vp_20170821024500.h5',\n",
       " 'cz/brd/2017/08/21/03/czbrd_vp_20170821030000.h5',\n",
       " 'cz/brd/2017/08/21/03/czbrd_vp_20170821031500.h5',\n",
       " 'cz/brd/2017/08/21/03/czbrd_vp_20170821033000.h5',\n",
       " 'cz/brd/2017/08/21/03/czbrd_vp_20170821034500.h5',\n",
       " 'cz/brd/2017/08/21/04/czbrd_vp_20170821040000.h5',\n",
       " 'cz/brd/2017/08/21/04/czbrd_vp_20170821041500.h5',\n",
       " 'cz/brd/2017/08/21/04/czbrd_vp_20170821043000.h5',\n",
       " 'cz/brd/2017/08/21/04/czbrd_vp_20170821044500.h5',\n",
       " 'cz/brd/2017/08/21/05/czbrd_vp_20170821050000.h5',\n",
       " 'cz/brd/2017/08/21/05/czbrd_vp_20170821051500.h5',\n",
       " 'cz/brd/2017/08/21/05/czbrd_vp_20170821053000.h5',\n",
       " 'cz/brd/2017/08/21/05/czbrd_vp_20170821054500.h5',\n",
       " 'cz/brd/2017/08/21/06/czbrd_vp_20170821060000.h5',\n",
       " 'cz/brd/2017/08/21/06/czbrd_vp_20170821061500.h5',\n",
       " 'cz/brd/2017/08/21/06/czbrd_vp_20170821063000.h5',\n",
       " 'cz/brd/2017/08/21/06/czbrd_vp_20170821064500.h5',\n",
       " 'cz/brd/2017/08/21/07/czbrd_vp_20170821070000.h5',\n",
       " 'cz/brd/2017/08/21/07/czbrd_vp_20170821071500.h5',\n",
       " 'cz/brd/2017/08/21/07/czbrd_vp_20170821073000.h5',\n",
       " 'cz/brd/2017/08/21/07/czbrd_vp_20170821074500.h5',\n",
       " 'cz/brd/2017/08/21/08/czbrd_vp_20170821080000.h5',\n",
       " 'cz/brd/2017/08/21/08/czbrd_vp_20170821081500.h5',\n",
       " 'cz/brd/2017/08/21/08/czbrd_vp_20170821083000.h5',\n",
       " 'cz/brd/2017/08/21/08/czbrd_vp_20170821084500.h5',\n",
       " 'cz/brd/2017/08/21/09/czbrd_vp_20170821090000.h5',\n",
       " 'cz/brd/2017/08/21/09/czbrd_vp_20170821091500.h5',\n",
       " 'cz/brd/2017/08/21/09/czbrd_vp_20170821093000.h5',\n",
       " 'cz/brd/2017/08/21/09/czbrd_vp_20170821094500.h5']"
      ]
     },
     "execution_count": 101,
     "metadata": {},
     "output_type": "execute_result"
    }
   ],
   "source": [
    "testfiles"
   ]
  },
  {
   "cell_type": "code",
   "execution_count": null,
   "metadata": {
    "collapsed": true
   },
   "outputs": [],
   "source": []
  },
  {
   "cell_type": "code",
   "execution_count": null,
   "metadata": {
    "collapsed": true
   },
   "outputs": [],
   "source": []
  },
  {
   "cell_type": "code",
   "execution_count": null,
   "metadata": {
    "collapsed": true
   },
   "outputs": [],
   "source": []
  },
  {
   "cell_type": "markdown",
   "metadata": {},
   "source": [
    "## For real"
   ]
  },
  {
   "cell_type": "code",
   "execution_count": 3,
   "metadata": {
    "collapsed": true
   },
   "outputs": [],
   "source": [
    "s3handle = dm.S3EnramHandler(bucket_name=\"lw-enram\", profile_name=\"lw-enram\")"
   ]
  },
  {
   "cell_type": "code",
   "execution_count": 4,
   "metadata": {
    "collapsed": true
   },
   "outputs": [],
   "source": [
    "async def download_h5(file):  \n",
    "    await s3handle.download_file(file.key)\n",
    "    try:\n",
    "        h5py.File(file.key, mode=\"r\")\n",
    "    except:\n",
    "        print(file.key)\n",
    "        return file.key\n",
    "    await os.remove(file.key)   "
   ]
  },
  {
   "cell_type": "code",
   "execution_count": 9,
   "metadata": {
    "collapsed": true
   },
   "outputs": [],
   "source": [
    "async def download_h5(file):  \n",
    "    await s3handle.download_file(file)\n",
    "    try:\n",
    "        h5py.File(file, mode=\"r\")\n",
    "        print(file, 'readable')\n",
    "    except:\n",
    "        print(file)\n",
    "        return file\n",
    "    await os.remove(file)  "
   ]
  },
  {
   "cell_type": "code",
   "execution_count": 10,
   "metadata": {
    "collapsed": true
   },
   "outputs": [],
   "source": [
    "test_list = [\n",
    "    \"be/jab/2016/11/20/23/bejab_vp_20161120233000.h5\",\n",
    "    \"be/jab/2016/11/20/23/bejab_vp_20161120233500.h5\",\n",
    "    \"be/jab/2016/11/20/23/bejab_vp_20161120234000.h5\",\n",
    "    \"be/jab/2016/11/20/23/bejab_vp_20161120234500.h5\",\n",
    "    \"be/jab/2016/11/20/23/bejab_vp_20161120235000.h5\",\n",
    "    \"be/jab/2016/11/20/23/bejab_vp_20161120235500.h5\"]"
   ]
  },
  {
   "cell_type": "code",
   "execution_count": 11,
   "metadata": {
    "collapsed": true
   },
   "outputs": [],
   "source": [
    "#h5_files = [download_h5(file) for file in s3handle.bucket.objects.all()]\n",
    "h5_files = [download_h5(file) for file in test_list]"
   ]
  },
  {
   "cell_type": "code",
   "execution_count": 12,
   "metadata": {},
   "outputs": [
    {
     "ename": "RuntimeError",
     "evalue": "Event loop is closed",
     "output_type": "error",
     "traceback": [
      "\u001b[0;31m---------------------------------------------------------------------------\u001b[0m",
      "\u001b[0;31mRuntimeError\u001b[0m                              Traceback (most recent call last)",
      "\u001b[0;32m<ipython-input-12-eed822ddfe85>\u001b[0m in \u001b[0;36m<module>\u001b[0;34m()\u001b[0m\n\u001b[1;32m      1\u001b[0m \u001b[0mloop\u001b[0m \u001b[0;34m=\u001b[0m \u001b[0masyncio\u001b[0m\u001b[0;34m.\u001b[0m\u001b[0mget_event_loop\u001b[0m\u001b[0;34m(\u001b[0m\u001b[0;34m)\u001b[0m\u001b[0;34m\u001b[0m\u001b[0m\n\u001b[0;32m----> 2\u001b[0;31m \u001b[0mloop\u001b[0m\u001b[0;34m.\u001b[0m\u001b[0mrun_until_complete\u001b[0m\u001b[0;34m(\u001b[0m\u001b[0masyncio\u001b[0m\u001b[0;34m.\u001b[0m\u001b[0mwait\u001b[0m\u001b[0;34m(\u001b[0m\u001b[0mh5_files\u001b[0m\u001b[0;34m)\u001b[0m\u001b[0;34m)\u001b[0m\u001b[0;34m\u001b[0m\u001b[0m\n\u001b[0m\u001b[1;32m      3\u001b[0m \u001b[0mloop\u001b[0m\u001b[0;34m.\u001b[0m\u001b[0mclose\u001b[0m\u001b[0;34m(\u001b[0m\u001b[0;34m)\u001b[0m\u001b[0;34m\u001b[0m\u001b[0m\n",
      "\u001b[0;32m/home/stijn_vanhoey/miniconda2/envs/inbobase/lib/python3.5/asyncio/base_events.py\u001b[0m in \u001b[0;36mrun_until_complete\u001b[0;34m(self, future)\u001b[0m\n\u001b[1;32m    441\u001b[0m         \u001b[0mReturn\u001b[0m \u001b[0mthe\u001b[0m \u001b[0mFuture\u001b[0m\u001b[0;31m'\u001b[0m\u001b[0ms\u001b[0m \u001b[0mresult\u001b[0m\u001b[0;34m,\u001b[0m \u001b[0;32mor\u001b[0m \u001b[0;32mraise\u001b[0m \u001b[0mits\u001b[0m \u001b[0mexception\u001b[0m\u001b[0;34m.\u001b[0m\u001b[0;34m\u001b[0m\u001b[0m\n\u001b[1;32m    442\u001b[0m         \"\"\"\n\u001b[0;32m--> 443\u001b[0;31m         \u001b[0mself\u001b[0m\u001b[0;34m.\u001b[0m\u001b[0m_check_closed\u001b[0m\u001b[0;34m(\u001b[0m\u001b[0;34m)\u001b[0m\u001b[0;34m\u001b[0m\u001b[0m\n\u001b[0m\u001b[1;32m    444\u001b[0m \u001b[0;34m\u001b[0m\u001b[0m\n\u001b[1;32m    445\u001b[0m         \u001b[0mnew_task\u001b[0m \u001b[0;34m=\u001b[0m \u001b[0;32mnot\u001b[0m \u001b[0mfutures\u001b[0m\u001b[0;34m.\u001b[0m\u001b[0misfuture\u001b[0m\u001b[0;34m(\u001b[0m\u001b[0mfuture\u001b[0m\u001b[0;34m)\u001b[0m\u001b[0;34m\u001b[0m\u001b[0m\n",
      "\u001b[0;32m/home/stijn_vanhoey/miniconda2/envs/inbobase/lib/python3.5/asyncio/base_events.py\u001b[0m in \u001b[0;36m_check_closed\u001b[0;34m(self)\u001b[0m\n\u001b[1;32m    355\u001b[0m     \u001b[0;32mdef\u001b[0m \u001b[0m_check_closed\u001b[0m\u001b[0;34m(\u001b[0m\u001b[0mself\u001b[0m\u001b[0;34m)\u001b[0m\u001b[0;34m:\u001b[0m\u001b[0;34m\u001b[0m\u001b[0m\n\u001b[1;32m    356\u001b[0m         \u001b[0;32mif\u001b[0m \u001b[0mself\u001b[0m\u001b[0;34m.\u001b[0m\u001b[0m_closed\u001b[0m\u001b[0;34m:\u001b[0m\u001b[0;34m\u001b[0m\u001b[0m\n\u001b[0;32m--> 357\u001b[0;31m             \u001b[0;32mraise\u001b[0m \u001b[0mRuntimeError\u001b[0m\u001b[0;34m(\u001b[0m\u001b[0;34m'Event loop is closed'\u001b[0m\u001b[0;34m)\u001b[0m\u001b[0;34m\u001b[0m\u001b[0m\n\u001b[0m\u001b[1;32m    358\u001b[0m \u001b[0;34m\u001b[0m\u001b[0m\n\u001b[1;32m    359\u001b[0m     \u001b[0;32mdef\u001b[0m \u001b[0m_asyncgen_finalizer_hook\u001b[0m\u001b[0;34m(\u001b[0m\u001b[0mself\u001b[0m\u001b[0;34m,\u001b[0m \u001b[0magen\u001b[0m\u001b[0;34m)\u001b[0m\u001b[0;34m:\u001b[0m\u001b[0;34m\u001b[0m\u001b[0m\n",
      "\u001b[0;31mRuntimeError\u001b[0m: Event loop is closed"
     ]
    }
   ],
   "source": [
    "loop = asyncio.get_event_loop()  \n",
    "loop.run_until_complete(asyncio.wait(h5_files))  \n",
    "loop.close() "
   ]
  },
  {
   "cell_type": "code",
   "execution_count": 13,
   "metadata": {},
   "outputs": [
    {
     "data": {
      "text/plain": [
       "[<coroutine object download_h5 at 0x7fbca6fc4fc0>,\n",
       " <coroutine object download_h5 at 0x7fbca6f6b4c0>,\n",
       " <coroutine object download_h5 at 0x7fbca6f6b5c8>,\n",
       " <coroutine object download_h5 at 0x7fbca6f6b3b8>,\n",
       " <coroutine object download_h5 at 0x7fbca6f6b570>,\n",
       " <coroutine object download_h5 at 0x7fbca6f6ba98>]"
      ]
     },
     "execution_count": 13,
     "metadata": {},
     "output_type": "execute_result"
    }
   ],
   "source": [
    "h5_files"
   ]
  },
  {
   "cell_type": "code",
   "execution_count": null,
   "metadata": {
    "collapsed": true
   },
   "outputs": [],
   "source": []
  }
 ],
 "metadata": {
  "kernelspec": {
   "display_name": "Python 3",
   "language": "python",
   "name": "python3"
  },
  "language_info": {
   "codemirror_mode": {
    "name": "ipython",
    "version": 3
   },
   "file_extension": ".py",
   "mimetype": "text/x-python",
   "name": "python",
   "nbconvert_exporter": "python",
   "pygments_lexer": "ipython3",
   "version": "3.5.4"
  }
 },
 "nbformat": 4,
 "nbformat_minor": 2
}
