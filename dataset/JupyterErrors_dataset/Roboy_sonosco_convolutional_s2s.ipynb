{
 "cells": [
  {
   "cell_type": "code",
   "execution_count": 1,
   "metadata": {
    "pycharm": {
     "is_executing": false
    }
   },
   "outputs": [],
   "source": [
    "%load_ext autoreload\n",
    "%autoreload 2"
   ]
  },
  {
   "cell_type": "code",
   "execution_count": 2,
   "metadata": {
    "pycharm": {
     "is_executing": false
    }
   },
   "outputs": [],
   "source": [
    "import torch.nn.functional as torch_functional\n",
    "import torch.nn as nn\n",
    "import torch\n",
    "import numpy as np\n",
    "import logging\n",
    "\n",
    "from sonosco.common.constants import SONOSCO\n",
    "from sonosco.models.seq2seq_tds import TDSEncoder, TDSDecoder, TDSSeq2Seq\n",
    "from sonosco.training import Experiment, ModelTrainer\n",
    "from sonosco.common.path_utils import parse_yaml\n",
    "from sonosco.datasets import create_data_loaders\n",
    "from sonosco.common.utils import setup_logging"
   ]
  },
  {
   "cell_type": "code",
   "execution_count": 3,
   "metadata": {},
   "outputs": [],
   "source": [
    "config_path = \"../sonosco/config/train_seq2seq_tds.yaml\"\n",
    "config = parse_yaml(config_path)[\"train\"]\n",
    "LOGGER = logging.getLogger(SONOSCO)\n",
    "setup_logging(LOGGER)"
   ]
  },
  {
   "cell_type": "code",
   "execution_count": 4,
   "metadata": {},
   "outputs": [
    {
     "name": "stderr",
     "output_type": "stream",
     "text": [
      "2019-08-07 20:30:36,352 - sonosco.models.seq2seq_tds - INFO - ===== Initialize TDSEncoder =====\n",
      "2019-08-07 20:30:36,378 - sonosco.models.seq2seq_tds - INFO - Initialize bridge.fc.weight with uniform / 0.037\n",
      "2019-08-07 20:30:36,379 - sonosco.models.seq2seq_tds - INFO - Initialize bridge.fc.bias with constant / 0.000\n",
      "2019-08-07 20:30:36,380 - sonosco.models.seq2seq_tds - INFO - Initialize layers.subsample0.conv1d.weight with uniform / 1.414\n",
      "2019-08-07 20:30:36,382 - sonosco.models.seq2seq_tds - INFO - Initialize layers.subsample0.conv1d.bias with constant / 0.000\n",
      "2019-08-07 20:30:36,383 - sonosco.models.seq2seq_tds - INFO - Initialize layers.subsample0.layer_norm.weight with constant / 0.000\n",
      "2019-08-07 20:30:36,385 - sonosco.models.seq2seq_tds - INFO - Initialize layers.subsample0.layer_norm.bias with constant / 0.000\n",
      "2019-08-07 20:30:36,386 - sonosco.models.seq2seq_tds - INFO - Initialize layers.tds10_block0.conv2d.weight with uniform / 0.138\n",
      "2019-08-07 20:30:36,388 - sonosco.models.seq2seq_tds - INFO - Initialize layers.tds10_block0.conv2d.bias with constant / 0.000\n",
      "2019-08-07 20:30:36,389 - sonosco.models.seq2seq_tds - INFO - Initialize layers.tds10_block0.layer_norm1.weight with constant / 0.000\n",
      "2019-08-07 20:30:36,391 - sonosco.models.seq2seq_tds - INFO - Initialize layers.tds10_block0.layer_norm1.bias with constant / 0.000\n",
      "2019-08-07 20:30:36,422 - sonosco.models.seq2seq_tds - INFO - Initialize layers.tds10_block0.conv1d_1.weight with uniform / 0.050\n",
      "2019-08-07 20:30:36,423 - sonosco.models.seq2seq_tds - INFO - Initialize layers.tds10_block0.conv1d_1.bias with constant / 0.000\n",
      "2019-08-07 20:30:36,453 - sonosco.models.seq2seq_tds - INFO - Initialize layers.tds10_block0.conv1d_2.weight with uniform / 0.050\n",
      "2019-08-07 20:30:36,454 - sonosco.models.seq2seq_tds - INFO - Initialize layers.tds10_block0.conv1d_2.bias with constant / 0.000\n",
      "2019-08-07 20:30:36,455 - sonosco.models.seq2seq_tds - INFO - Initialize layers.tds10_block0.layer_norm2.weight with constant / 0.000\n",
      "2019-08-07 20:30:36,456 - sonosco.models.seq2seq_tds - INFO - Initialize layers.tds10_block0.layer_norm2.bias with constant / 0.000\n",
      "2019-08-07 20:30:36,460 - sonosco.models.seq2seq_tds - INFO - Initialize layers.tds10_block1.conv2d.weight with uniform / 0.138\n",
      "2019-08-07 20:30:36,462 - sonosco.models.seq2seq_tds - INFO - Initialize layers.tds10_block1.conv2d.bias with constant / 0.000\n",
      "2019-08-07 20:30:36,463 - sonosco.models.seq2seq_tds - INFO - Initialize layers.tds10_block1.layer_norm1.weight with constant / 0.000\n",
      "2019-08-07 20:30:36,465 - sonosco.models.seq2seq_tds - INFO - Initialize layers.tds10_block1.layer_norm1.bias with constant / 0.000\n",
      "2019-08-07 20:30:36,497 - sonosco.models.seq2seq_tds - INFO - Initialize layers.tds10_block1.conv1d_1.weight with uniform / 0.050\n",
      "2019-08-07 20:30:36,498 - sonosco.models.seq2seq_tds - INFO - Initialize layers.tds10_block1.conv1d_1.bias with constant / 0.000\n",
      "2019-08-07 20:30:36,523 - sonosco.models.seq2seq_tds - INFO - Initialize layers.tds10_block1.conv1d_2.weight with uniform / 0.050\n",
      "2019-08-07 20:30:36,525 - sonosco.models.seq2seq_tds - INFO - Initialize layers.tds10_block1.conv1d_2.bias with constant / 0.000\n",
      "2019-08-07 20:30:36,528 - sonosco.models.seq2seq_tds - INFO - Initialize layers.tds10_block1.layer_norm2.weight with constant / 0.000\n",
      "2019-08-07 20:30:36,529 - sonosco.models.seq2seq_tds - INFO - Initialize layers.tds10_block1.layer_norm2.bias with constant / 0.000\n",
      "2019-08-07 20:30:36,532 - sonosco.models.seq2seq_tds - INFO - Initialize layers.subsample2.conv1d.weight with uniform / 0.447\n",
      "2019-08-07 20:30:36,533 - sonosco.models.seq2seq_tds - INFO - Initialize layers.subsample2.conv1d.bias with constant / 0.000\n",
      "2019-08-07 20:30:36,535 - sonosco.models.seq2seq_tds - INFO - Initialize layers.subsample2.layer_norm.weight with constant / 0.000\n",
      "2019-08-07 20:30:36,536 - sonosco.models.seq2seq_tds - INFO - Initialize layers.subsample2.layer_norm.bias with constant / 0.000\n",
      "2019-08-07 20:30:36,539 - sonosco.models.seq2seq_tds - INFO - Initialize layers.tds14_block2.conv2d.weight with uniform / 0.117\n",
      "2019-08-07 20:30:36,540 - sonosco.models.seq2seq_tds - INFO - Initialize layers.tds14_block2.conv2d.bias with constant / 0.000\n",
      "2019-08-07 20:30:36,541 - sonosco.models.seq2seq_tds - INFO - Initialize layers.tds14_block2.layer_norm1.weight with constant / 0.000\n",
      "2019-08-07 20:30:36,542 - sonosco.models.seq2seq_tds - INFO - Initialize layers.tds14_block2.layer_norm1.bias with constant / 0.000\n",
      "2019-08-07 20:30:36,595 - sonosco.models.seq2seq_tds - INFO - Initialize layers.tds14_block2.conv1d_1.weight with uniform / 0.042\n",
      "2019-08-07 20:30:36,596 - sonosco.models.seq2seq_tds - INFO - Initialize layers.tds14_block2.conv1d_1.bias with constant / 0.000\n",
      "2019-08-07 20:30:36,638 - sonosco.models.seq2seq_tds - INFO - Initialize layers.tds14_block2.conv1d_2.weight with uniform / 0.042\n",
      "2019-08-07 20:30:36,639 - sonosco.models.seq2seq_tds - INFO - Initialize layers.tds14_block2.conv1d_2.bias with constant / 0.000\n",
      "2019-08-07 20:30:36,639 - sonosco.models.seq2seq_tds - INFO - Initialize layers.tds14_block2.layer_norm2.weight with constant / 0.000\n",
      "2019-08-07 20:30:36,641 - sonosco.models.seq2seq_tds - INFO - Initialize layers.tds14_block2.layer_norm2.bias with constant / 0.000\n",
      "2019-08-07 20:30:36,643 - sonosco.models.seq2seq_tds - INFO - Initialize layers.tds14_block3.conv2d.weight with uniform / 0.117\n",
      "2019-08-07 20:30:36,644 - sonosco.models.seq2seq_tds - INFO - Initialize layers.tds14_block3.conv2d.bias with constant / 0.000\n",
      "2019-08-07 20:30:36,647 - sonosco.models.seq2seq_tds - INFO - Initialize layers.tds14_block3.layer_norm1.weight with constant / 0.000\n",
      "2019-08-07 20:30:36,649 - sonosco.models.seq2seq_tds - INFO - Initialize layers.tds14_block3.layer_norm1.bias with constant / 0.000\n",
      "2019-08-07 20:30:36,707 - sonosco.models.seq2seq_tds - INFO - Initialize layers.tds14_block3.conv1d_1.weight with uniform / 0.042\n",
      "2019-08-07 20:30:36,709 - sonosco.models.seq2seq_tds - INFO - Initialize layers.tds14_block3.conv1d_1.bias with constant / 0.000\n",
      "2019-08-07 20:30:36,757 - sonosco.models.seq2seq_tds - INFO - Initialize layers.tds14_block3.conv1d_2.weight with uniform / 0.042\n",
      "2019-08-07 20:30:36,758 - sonosco.models.seq2seq_tds - INFO - Initialize layers.tds14_block3.conv1d_2.bias with constant / 0.000\n",
      "2019-08-07 20:30:36,758 - sonosco.models.seq2seq_tds - INFO - Initialize layers.tds14_block3.layer_norm2.weight with constant / 0.000\n",
      "2019-08-07 20:30:36,760 - sonosco.models.seq2seq_tds - INFO - Initialize layers.tds14_block3.layer_norm2.bias with constant / 0.000\n",
      "2019-08-07 20:30:36,761 - sonosco.models.seq2seq_tds - INFO - Initialize layers.tds14_block4.conv2d.weight with uniform / 0.117\n",
      "2019-08-07 20:30:36,762 - sonosco.models.seq2seq_tds - INFO - Initialize layers.tds14_block4.conv2d.bias with constant / 0.000\n",
      "2019-08-07 20:30:36,763 - sonosco.models.seq2seq_tds - INFO - Initialize layers.tds14_block4.layer_norm1.weight with constant / 0.000\n",
      "2019-08-07 20:30:36,765 - sonosco.models.seq2seq_tds - INFO - Initialize layers.tds14_block4.layer_norm1.bias with constant / 0.000\n",
      "2019-08-07 20:30:36,813 - sonosco.models.seq2seq_tds - INFO - Initialize layers.tds14_block4.conv1d_1.weight with uniform / 0.042\n",
      "2019-08-07 20:30:36,814 - sonosco.models.seq2seq_tds - INFO - Initialize layers.tds14_block4.conv1d_1.bias with constant / 0.000\n",
      "2019-08-07 20:30:36,859 - sonosco.models.seq2seq_tds - INFO - Initialize layers.tds14_block4.conv1d_2.weight with uniform / 0.042\n",
      "2019-08-07 20:30:36,861 - sonosco.models.seq2seq_tds - INFO - Initialize layers.tds14_block4.conv1d_2.bias with constant / 0.000\n",
      "2019-08-07 20:30:36,861 - sonosco.models.seq2seq_tds - INFO - Initialize layers.tds14_block4.layer_norm2.weight with constant / 0.000\n",
      "2019-08-07 20:30:36,862 - sonosco.models.seq2seq_tds - INFO - Initialize layers.tds14_block4.layer_norm2.bias with constant / 0.000\n",
      "2019-08-07 20:30:36,864 - sonosco.models.seq2seq_tds - INFO - Initialize layers.subsample5.conv1d.weight with uniform / 0.378\n",
      "2019-08-07 20:30:36,865 - sonosco.models.seq2seq_tds - INFO - Initialize layers.subsample5.conv1d.bias with constant / 0.000\n",
      "2019-08-07 20:30:36,866 - sonosco.models.seq2seq_tds - INFO - Initialize layers.subsample5.layer_norm.weight with constant / 0.000\n",
      "2019-08-07 20:30:36,868 - sonosco.models.seq2seq_tds - INFO - Initialize layers.subsample5.layer_norm.bias with constant / 0.000\n",
      "2019-08-07 20:30:36,870 - sonosco.models.seq2seq_tds - INFO - Initialize layers.tds18_block5.conv2d.weight with uniform / 0.103\n",
      "2019-08-07 20:30:36,874 - sonosco.models.seq2seq_tds - INFO - Initialize layers.tds18_block5.conv2d.bias with constant / 0.000\n",
      "2019-08-07 20:30:36,880 - sonosco.models.seq2seq_tds - INFO - Initialize layers.tds18_block5.layer_norm1.weight with constant / 0.000\n",
      "2019-08-07 20:30:36,881 - sonosco.models.seq2seq_tds - INFO - Initialize layers.tds18_block5.layer_norm1.bias with constant / 0.000\n",
      "2019-08-07 20:30:36,956 - sonosco.models.seq2seq_tds - INFO - Initialize layers.tds18_block5.conv1d_1.weight with uniform / 0.037\n",
      "2019-08-07 20:30:36,958 - sonosco.models.seq2seq_tds - INFO - Initialize layers.tds18_block5.conv1d_1.bias with constant / 0.000\n",
      "2019-08-07 20:30:37,026 - sonosco.models.seq2seq_tds - INFO - Initialize layers.tds18_block5.conv1d_2.weight with uniform / 0.037\n",
      "2019-08-07 20:30:37,027 - sonosco.models.seq2seq_tds - INFO - Initialize layers.tds18_block5.conv1d_2.bias with constant / 0.000\n",
      "2019-08-07 20:30:37,028 - sonosco.models.seq2seq_tds - INFO - Initialize layers.tds18_block5.layer_norm2.weight with constant / 0.000\n",
      "2019-08-07 20:30:37,029 - sonosco.models.seq2seq_tds - INFO - Initialize layers.tds18_block5.layer_norm2.bias with constant / 0.000\n",
      "2019-08-07 20:30:37,030 - sonosco.models.seq2seq_tds - INFO - Initialize layers.tds18_block6.conv2d.weight with uniform / 0.103\n",
      "2019-08-07 20:30:37,032 - sonosco.models.seq2seq_tds - INFO - Initialize layers.tds18_block6.conv2d.bias with constant / 0.000\n",
      "2019-08-07 20:30:37,034 - sonosco.models.seq2seq_tds - INFO - Initialize layers.tds18_block6.layer_norm1.weight with constant / 0.000\n",
      "2019-08-07 20:30:37,035 - sonosco.models.seq2seq_tds - INFO - Initialize layers.tds18_block6.layer_norm1.bias with constant / 0.000\n",
      "2019-08-07 20:30:37,112 - sonosco.models.seq2seq_tds - INFO - Initialize layers.tds18_block6.conv1d_1.weight with uniform / 0.037\n",
      "2019-08-07 20:30:37,113 - sonosco.models.seq2seq_tds - INFO - Initialize layers.tds18_block6.conv1d_1.bias with constant / 0.000\n",
      "2019-08-07 20:30:37,186 - sonosco.models.seq2seq_tds - INFO - Initialize layers.tds18_block6.conv1d_2.weight with uniform / 0.037\n",
      "2019-08-07 20:30:37,187 - sonosco.models.seq2seq_tds - INFO - Initialize layers.tds18_block6.conv1d_2.bias with constant / 0.000\n",
      "2019-08-07 20:30:37,188 - sonosco.models.seq2seq_tds - INFO - Initialize layers.tds18_block6.layer_norm2.weight with constant / 0.000\n",
      "2019-08-07 20:30:37,190 - sonosco.models.seq2seq_tds - INFO - Initialize layers.tds18_block6.layer_norm2.bias with constant / 0.000\n",
      "2019-08-07 20:30:37,191 - sonosco.models.seq2seq_tds - INFO - Initialize layers.tds18_block7.conv2d.weight with uniform / 0.103\n",
      "2019-08-07 20:30:37,193 - sonosco.models.seq2seq_tds - INFO - Initialize layers.tds18_block7.conv2d.bias with constant / 0.000\n",
      "2019-08-07 20:30:37,194 - sonosco.models.seq2seq_tds - INFO - Initialize layers.tds18_block7.layer_norm1.weight with constant / 0.000\n",
      "2019-08-07 20:30:37,196 - sonosco.models.seq2seq_tds - INFO - Initialize layers.tds18_block7.layer_norm1.bias with constant / 0.000\n",
      "2019-08-07 20:30:37,305 - sonosco.models.seq2seq_tds - INFO - Initialize layers.tds18_block7.conv1d_1.weight with uniform / 0.037\n",
      "2019-08-07 20:30:37,306 - sonosco.models.seq2seq_tds - INFO - Initialize layers.tds18_block7.conv1d_1.bias with constant / 0.000\n",
      "2019-08-07 20:30:37,427 - sonosco.models.seq2seq_tds - INFO - Initialize layers.tds18_block7.conv1d_2.weight with uniform / 0.037\n",
      "2019-08-07 20:30:37,429 - sonosco.models.seq2seq_tds - INFO - Initialize layers.tds18_block7.conv1d_2.bias with constant / 0.000\n",
      "2019-08-07 20:30:37,430 - sonosco.models.seq2seq_tds - INFO - Initialize layers.tds18_block7.layer_norm2.weight with constant / 0.000\n",
      "2019-08-07 20:30:37,438 - sonosco.models.seq2seq_tds - INFO - Initialize layers.tds18_block7.layer_norm2.bias with constant / 0.000\n",
      "2019-08-07 20:30:37,440 - sonosco.models.seq2seq_tds - INFO - Initialize layers.tds18_block8.conv2d.weight with uniform / 0.103\n",
      "2019-08-07 20:30:37,448 - sonosco.models.seq2seq_tds - INFO - Initialize layers.tds18_block8.conv2d.bias with constant / 0.000\n",
      "2019-08-07 20:30:37,450 - sonosco.models.seq2seq_tds - INFO - Initialize layers.tds18_block8.layer_norm1.weight with constant / 0.000\n",
      "2019-08-07 20:30:37,454 - sonosco.models.seq2seq_tds - INFO - Initialize layers.tds18_block8.layer_norm1.bias with constant / 0.000\n",
      "2019-08-07 20:30:37,569 - sonosco.models.seq2seq_tds - INFO - Initialize layers.tds18_block8.conv1d_1.weight with uniform / 0.037\n",
      "2019-08-07 20:30:37,573 - sonosco.models.seq2seq_tds - INFO - Initialize layers.tds18_block8.conv1d_1.bias with constant / 0.000\n",
      "2019-08-07 20:30:37,656 - sonosco.models.seq2seq_tds - INFO - Initialize layers.tds18_block8.conv1d_2.weight with uniform / 0.037\n",
      "2019-08-07 20:30:37,656 - sonosco.models.seq2seq_tds - INFO - Initialize layers.tds18_block8.conv1d_2.bias with constant / 0.000\n",
      "2019-08-07 20:30:37,658 - sonosco.models.seq2seq_tds - INFO - Initialize layers.tds18_block8.layer_norm2.weight with constant / 0.000\n",
      "2019-08-07 20:30:37,661 - sonosco.models.seq2seq_tds - INFO - Initialize layers.tds18_block8.layer_norm2.bias with constant / 0.000\n",
      "2019-08-07 20:30:37,664 - sonosco.models.seq2seq_tds - INFO - Initialize layers.tds18_block9.conv2d.weight with uniform / 0.103\n",
      "2019-08-07 20:30:37,665 - sonosco.models.seq2seq_tds - INFO - Initialize layers.tds18_block9.conv2d.bias with constant / 0.000\n",
      "2019-08-07 20:30:37,667 - sonosco.models.seq2seq_tds - INFO - Initialize layers.tds18_block9.layer_norm1.weight with constant / 0.000\n",
      "2019-08-07 20:30:37,668 - sonosco.models.seq2seq_tds - INFO - Initialize layers.tds18_block9.layer_norm1.bias with constant / 0.000\n",
      "2019-08-07 20:30:37,754 - sonosco.models.seq2seq_tds - INFO - Initialize layers.tds18_block9.conv1d_1.weight with uniform / 0.037\n",
      "2019-08-07 20:30:37,755 - sonosco.models.seq2seq_tds - INFO - Initialize layers.tds18_block9.conv1d_1.bias with constant / 0.000\n",
      "2019-08-07 20:30:37,861 - sonosco.models.seq2seq_tds - INFO - Initialize layers.tds18_block9.conv1d_2.weight with uniform / 0.037\n",
      "2019-08-07 20:30:37,863 - sonosco.models.seq2seq_tds - INFO - Initialize layers.tds18_block9.conv1d_2.bias with constant / 0.000\n",
      "2019-08-07 20:30:37,864 - sonosco.models.seq2seq_tds - INFO - Initialize layers.tds18_block9.layer_norm2.weight with constant / 0.000\n",
      "2019-08-07 20:30:37,873 - sonosco.models.seq2seq_tds - INFO - Initialize layers.tds18_block9.layer_norm2.bias with constant / 0.000\n",
      "2019-08-07 20:30:37,879 - sonosco.models.seq2seq_tds - INFO - Initialize layers.tds18_block10.conv2d.weight with uniform / 0.103\n",
      "2019-08-07 20:30:37,880 - sonosco.models.seq2seq_tds - INFO - Initialize layers.tds18_block10.conv2d.bias with constant / 0.000\n",
      "2019-08-07 20:30:37,888 - sonosco.models.seq2seq_tds - INFO - Initialize layers.tds18_block10.layer_norm1.weight with constant / 0.000\n",
      "2019-08-07 20:30:37,890 - sonosco.models.seq2seq_tds - INFO - Initialize layers.tds18_block10.layer_norm1.bias with constant / 0.000\n",
      "2019-08-07 20:30:37,973 - sonosco.models.seq2seq_tds - INFO - Initialize layers.tds18_block10.conv1d_1.weight with uniform / 0.037\n",
      "2019-08-07 20:30:37,979 - sonosco.models.seq2seq_tds - INFO - Initialize layers.tds18_block10.conv1d_1.bias with constant / 0.000\n",
      "2019-08-07 20:30:38,069 - sonosco.models.seq2seq_tds - INFO - Initialize layers.tds18_block10.conv1d_2.weight with uniform / 0.037\n",
      "2019-08-07 20:30:38,070 - sonosco.models.seq2seq_tds - INFO - Initialize layers.tds18_block10.conv1d_2.bias with constant / 0.000\n",
      "2019-08-07 20:30:38,071 - sonosco.models.seq2seq_tds - INFO - Initialize layers.tds18_block10.layer_norm2.weight with constant / 0.000\n",
      "2019-08-07 20:30:38,072 - sonosco.models.seq2seq_tds - INFO - Initialize layers.tds18_block10.layer_norm2.bias with constant / 0.000\n"
     ]
    }
   ],
   "source": [
    "# create model\n",
    "model = TDSSeq2Seq(config[\"labels\"], config[\"encoder\"], config[\"decoder\"])"
   ]
  },
  {
   "cell_type": "code",
   "execution_count": 5,
   "metadata": {},
   "outputs": [],
   "source": [
    "# create fake data\n",
    "batch_dim = 8\n",
    "time_dim = 80\n",
    "input_dim = 161\n",
    "output_time_dim = 20\n",
    "vocab_dim = 100\n",
    "\n",
    "xs = np.random.rand(batch_dim, time_dim, input_dim)\n",
    "xlens = np.random.randint(low=time_dim, high=time_dim + 1, size=batch_dim)\n",
    "y_labels = np.random.randint(low=1, high=vocab_dim, size=(batch_dim, output_time_dim))\n",
    "ylens = np.random.randint(low=output_time_dim, high=output_time_dim + 1, size=batch_dim)"
   ]
  },
  {
   "cell_type": "code",
   "execution_count": 6,
   "metadata": {},
   "outputs": [],
   "source": [
    "# run model\n",
    "#probs = model(torch.from_numpy(xs).float(), torch.from_numpy(xlens), torch.from_numpy(y_labels), torch.from_numpy(ylens))\n",
    "#probs.size()"
   ]
  },
  {
   "cell_type": "code",
   "execution_count": 7,
   "metadata": {},
   "outputs": [
    {
     "name": "stderr",
     "output_type": "stream",
     "text": [
      "2019-08-07 20:30:38,281 - sonosco.datasets.loader - INFO - Training dataset containing 2620 samples is created\n",
      "2019-08-07 20:30:38,283 - sonosco.datasets.loader - INFO - Training data loader created.\n",
      "2019-08-07 20:30:38,290 - sonosco.datasets.loader - INFO - Validation dataset containing 2620 samples is created\n",
      "2019-08-07 20:30:38,291 - sonosco.datasets.loader - INFO - Validation data loader created.\n"
     ]
    }
   ],
   "source": [
    "Experiment.create(\"CV_STS\")\n",
    "\n",
    "train_loader, val_loader = create_data_loaders(**config)\n",
    "\n",
    "def cross_entropy_loss(batch, model):\n",
    "    batch_x, batch_y, input_lengths, target_lengths = batch\n",
    "    # check out the _collate_fn in loader to understand the next transformations\n",
    "    batch_x = batch_x.squeeze(1).transpose(1, 2)\n",
    "    batch_y = torch.split(batch_y, target_lengths.tolist())\n",
    "    \n",
    "    #max_len = max(batch_y, key=lambda x: x.size()[0]).size()[0]\n",
    "    #padded_batch_y = []\n",
    "    #for y in batch_y:\n",
    "    #    padded_y = torch_functional.pad(y, (0, max_len - y.size()[0]))\n",
    "    #    padded_batch_y.append(padded_y)        \n",
    "    #batch_y = torch.stack(padded_batch_y).type(torch.LongTensor)\n",
    "    #batch_y = torch.nn.utils.rnn.pad_sequence(batch_y, batch_first=True).type(torch.LongTensor)\n",
    "    model_output, loss = model(batch_x, input_lengths, batch_y)\n",
    "    #loss = torch_functional.cross_entropy(model_output.permute(0, 2, 1), batch_y)\n",
    "    return loss, model_output\n",
    "\n",
    "trainer = ModelTrainer(model, loss=cross_entropy_loss, epochs=config[\"max_epochs\"],\n",
    "                       train_data_loader=train_loader, val_data_loader=val_loader,\n",
    "                       lr=config[\"learning_rate\"], custom_model_eval=True)"
   ]
  },
  {
   "cell_type": "code",
   "execution_count": null,
   "metadata": {},
   "outputs": [
    {
     "name": "stderr",
     "output_type": "stream",
     "text": [
      "2019-08-07 20:31:10,128 - sonosco.training.trainer - INFO - Compute Metrics\n",
      "2019-08-07 20:31:10,144 - sonosco.training.trainer - INFO - epoch 1   batch 0/81   loss: 3.364288\n",
      "2019-08-07 20:31:32,046 - sonosco.training.trainer - INFO - Compute Metrics\n",
      "2019-08-07 20:31:32,048 - sonosco.training.trainer - INFO - epoch 1   batch 1/81   loss: 3.357325\n",
      "2019-08-07 20:31:54,434 - sonosco.training.trainer - INFO - Compute Metrics\n",
      "2019-08-07 20:31:54,435 - sonosco.training.trainer - INFO - epoch 1   batch 2/81   loss: 3.351758\n",
      "2019-08-07 20:32:16,577 - sonosco.training.trainer - INFO - Compute Metrics\n",
      "2019-08-07 20:32:16,578 - sonosco.training.trainer - INFO - epoch 1   batch 3/81   loss: 3.345052\n",
      "2019-08-07 20:32:39,237 - sonosco.training.trainer - INFO - Compute Metrics\n",
      "2019-08-07 20:32:39,240 - sonosco.training.trainer - INFO - epoch 1   batch 4/81   loss: 3.338766\n"
     ]
    }
   ],
   "source": [
    "trainer.start_training()"
   ]
  },
  {
   "cell_type": "code",
   "execution_count": 31,
   "metadata": {
    "pycharm": {
     "is_executing": false,
     "name": "#%%\n"
    }
   },
   "outputs": [],
   "source": [
    "class View(nn.Module):\n",
    "    def __init__(self, shape):\n",
    "        super(View, self).__init__()\n",
    "        self.shape = shape\n",
    "        \n",
    "    def forward(self, input):\n",
    "        return input.view(self.shape)\n",
    "\n",
    "class Reorder(nn.Module):\n",
    "    def __init__(self, shape):\n",
    "        super(Reorder, self).__init__()\n",
    "        self.shape = shape\n",
    "        \n",
    "    def forward(self, input):\n",
    "        return input.permute(self.shape)"
   ]
  },
  {
   "cell_type": "code",
   "execution_count": 32,
   "metadata": {
    "pycharm": {
     "is_executing": false,
     "name": "#%% \n"
    }
   },
   "outputs": [],
   "source": [
    "class TDSBlock(nn.Module):\n",
    "    \n",
    "    def __init__(self, c: int, kw: int, h: int, dropout: float)-> None:\n",
    "        super().__init__()\n",
    "        l:int = c * h\n",
    "        self.conv = nn.Sequential(\n",
    "            nn.Conv2d(1, 10, kernel_size=(21, 1), stride=(2, 1), padding=(20, 5)), #calc padding\n",
    "            nn.ReLU(),\n",
    "            nn.Dropout2d(0.2),\n",
    "            nn.LayerNorm(3),\n",
    "            View((-1,l,1,0)),\n",
    "            Reorder((1,0,2,3)),\n",
    "            nn.Linear(l,l),\n",
    "            nn.ReLU(),\n",
    "            nn.Dropout2d(dropout),\n",
    "            nn.Linear(l,l),\n",
    "            Reorder((1,0,2,3)),\n",
    "            View((-1,h,c,0)),\n",
    "            nn.Dropout2d(dropout),\n",
    "            nn.LayerNorm(3)\n",
    "        )\n",
    "        \n",
    "    def forward(self, input):\n",
    "        return self.conv(input)"
   ]
  },
  {
   "cell_type": "code",
   "execution_count": 33,
   "metadata": {
    "pycharm": {
     "is_executing": false,
     "name": "#%%\n"
    }
   },
   "outputs": [],
   "source": [
    "b = TDSBlock(1,2,3,0.5)\n"
   ]
  },
  {
   "cell_type": "code",
   "execution_count": 34,
   "metadata": {
    "pycharm": {
     "is_executing": false,
     "name": "#%%\n"
    }
   },
   "outputs": [],
   "source": [
    "Experiment.create(\"CV_STS\")\n",
    "config = parse_yaml(\"./config.yaml\")[\"train\"]"
   ]
  },
  {
   "cell_type": "code",
   "execution_count": 35,
   "metadata": {
    "pycharm": {
     "is_executing": false,
     "name": "#%%\n"
    }
   },
   "outputs": [],
   "source": [
    "train_loader, val_loader = create_data_loaders(**config)\n"
   ]
  },
  {
   "cell_type": "code",
   "execution_count": 46,
   "metadata": {
    "pycharm": {
     "is_executing": false,
     "name": "#%%\n"
    }
   },
   "outputs": [],
   "source": [
    "def custom_loss(batch, model):\n",
    "    batch_x, batch_y, input_lengths, target_lengths = batch\n",
    "    model_output, output_lengths = model(batch_x)\n",
    "    loss = torch_functional.ctc_loss(model_output.transpose(0, 1), batch_y, output_lengths, target_lengths)\n",
    "    return loss, model_output"
   ]
  },
  {
   "cell_type": "code",
   "execution_count": 47,
   "metadata": {
    "pycharm": {
     "is_executing": false,
     "name": "#%%\n"
    }
   },
   "outputs": [],
   "source": [
    "class ConvSeqNet(nn.Module):\n",
    "    def __init__(self):\n",
    "        super(ConvSeqNet, self).__init__()\n",
    "        self.net = nn.Sequential(\n",
    "            nn.Conv2d(1, 10, kernel_size=(21, 1), stride=(2, 1), padding=(20, 5)), #calc padding\n",
    "            nn.ReLU(),\n",
    "            nn.Dropout2d(0.2),\n",
    "            nn.LayerNorm(3),\n",
    "            TDSBlock(10,21,82,0.2)\n",
    "        #     TDSBlock(10,21,82,0.2),\n",
    "        #     nn.Conv2d(10, 14, kernel_size=(21, 1), stride=(2, 1), padding=(20, 5)), #calc padding\n",
    "        #     nn.ReLU(),\n",
    "        #     nn.Dropout2d(0.2),\n",
    "        #     nn.LayerNorm(3),\n",
    "        #     TDSBlock(10,21,82,0.2),\n",
    "        #     TDSBlock(10,21,82,0.2),\n",
    "        #     TDSBlock(10,21,82,0.2),\n",
    "        #     nn.Conv2d(14, 18, kernel_size=(21, 1), stride=(2, 1), padding=(20, 5)), #calc padding\n",
    "        #     nn.ReLU(),\n",
    "        #     nn.Dropout2d(0.2),\n",
    "        #     nn.LayerNorm(3),\n",
    "        #     TDSBlock(10,21,82,0.2),\n",
    "        #     TDSBlock(10,21,82,0.2),\n",
    "        #     TDSBlock(10,21,82,0.2),\n",
    "        #     TDSBlock(10,21,82,0.2),\n",
    "        #     TDSBlock(10,21,82,0.2),\n",
    "        #     TDSBlock(10,21,82,0.2),\n",
    "        #     View((-1,1440,1,0)),\n",
    "        #     Reorder((1,0,3,2)),\n",
    "        #     nn.Linear(1440,1024),\n",
    "        )\n",
    "    def forward(self, input):\n",
    "        return self.net(input)"
   ]
  },
  {
   "cell_type": "code",
   "execution_count": 48,
   "metadata": {
    "pycharm": {
     "is_executing": false,
     "name": "#%%\n"
    }
   },
   "outputs": [],
   "source": [
    "model = ConvSeqNet()\n",
    "\n",
    "trainer = ModelTrainer(model, loss=custom_loss, epochs=config[\"max_epochs\"],\n",
    "                           train_data_loader=train_loader, val_data_loader=val_loader,\n",
    "                           lr=config[\"learning_rate\"], custom_model_eval=True)"
   ]
  },
  {
   "cell_type": "code",
   "execution_count": 49,
   "metadata": {
    "pycharm": {
     "is_executing": false,
     "name": "#%%\n"
    }
   },
   "outputs": [
    {
     "ename": "RuntimeError",
     "evalue": "Given normalized_shape=[3], expected input with shape [*, 3], but got input of size[32, 10, 51, 213]",
     "output_type": "error",
     "traceback": [
      "\u001b[0;31m---------------------------------------------------------------------------\u001b[0m",
      "\u001b[0;31mRuntimeError\u001b[0m                              Traceback (most recent call last)",
      "\u001b[0;32m<ipython-input-49-af0c57e47527>\u001b[0m in \u001b[0;36m<module>\u001b[0;34m\u001b[0m\n\u001b[0;32m----> 1\u001b[0;31m \u001b[0mtrainer\u001b[0m\u001b[0;34m.\u001b[0m\u001b[0mstart_training\u001b[0m\u001b[0;34m(\u001b[0m\u001b[0;34m)\u001b[0m\u001b[0;34m\u001b[0m\u001b[0;34m\u001b[0m\u001b[0m\n\u001b[0m",
      "\u001b[0;32m~/Studies/Roboy/sonosco/sonosco/training/trainer.py\u001b[0m in \u001b[0;36mstart_training\u001b[0;34m(self)\u001b[0m\n\u001b[1;32m     81\u001b[0m         \u001b[0mself\u001b[0m\u001b[0;34m.\u001b[0m\u001b[0mmodel\u001b[0m\u001b[0;34m.\u001b[0m\u001b[0mtrain\u001b[0m\u001b[0;34m(\u001b[0m\u001b[0;34m)\u001b[0m  \u001b[0;31m# train mode\u001b[0m\u001b[0;34m\u001b[0m\u001b[0;34m\u001b[0m\u001b[0m\n\u001b[1;32m     82\u001b[0m         \u001b[0;32mfor\u001b[0m \u001b[0mepoch\u001b[0m \u001b[0;32min\u001b[0m \u001b[0mrange\u001b[0m\u001b[0;34m(\u001b[0m\u001b[0;36m1\u001b[0m\u001b[0;34m,\u001b[0m \u001b[0mself\u001b[0m\u001b[0;34m.\u001b[0m\u001b[0m_epochs\u001b[0m \u001b[0;34m+\u001b[0m \u001b[0;36m1\u001b[0m\u001b[0;34m)\u001b[0m\u001b[0;34m:\u001b[0m\u001b[0;34m\u001b[0m\u001b[0;34m\u001b[0m\u001b[0m\n\u001b[0;32m---> 83\u001b[0;31m             \u001b[0mself\u001b[0m\u001b[0;34m.\u001b[0m\u001b[0m_epoch_step\u001b[0m\u001b[0;34m(\u001b[0m\u001b[0mepoch\u001b[0m\u001b[0;34m)\u001b[0m\u001b[0;34m\u001b[0m\u001b[0;34m\u001b[0m\u001b[0m\n\u001b[0m\u001b[1;32m     84\u001b[0m \u001b[0;34m\u001b[0m\u001b[0m\n\u001b[1;32m     85\u001b[0m             \u001b[0;32mif\u001b[0m \u001b[0mself\u001b[0m\u001b[0;34m.\u001b[0m\u001b[0m_stop_training\u001b[0m\u001b[0;34m:\u001b[0m\u001b[0;34m\u001b[0m\u001b[0;34m\u001b[0m\u001b[0m\n",
      "\u001b[0;32m~/Studies/Roboy/sonosco/sonosco/training/trainer.py\u001b[0m in \u001b[0;36m_epoch_step\u001b[0;34m(self, epoch)\u001b[0m\n\u001b[1;32m     98\u001b[0m \u001b[0;34m\u001b[0m\u001b[0m\n\u001b[1;32m     99\u001b[0m             \u001b[0;31m# compute training batch\u001b[0m\u001b[0;34m\u001b[0m\u001b[0;34m\u001b[0m\u001b[0;34m\u001b[0m\u001b[0m\n\u001b[0;32m--> 100\u001b[0;31m             \u001b[0mloss\u001b[0m\u001b[0;34m,\u001b[0m \u001b[0mmodel_output\u001b[0m\u001b[0;34m,\u001b[0m \u001b[0mgrad_norm\u001b[0m \u001b[0;34m=\u001b[0m \u001b[0mself\u001b[0m\u001b[0;34m.\u001b[0m\u001b[0m_train_on_batch\u001b[0m\u001b[0;34m(\u001b[0m\u001b[0mbatch\u001b[0m\u001b[0;34m)\u001b[0m\u001b[0;34m\u001b[0m\u001b[0;34m\u001b[0m\u001b[0m\n\u001b[0m\u001b[1;32m    101\u001b[0m             \u001b[0mrunning_batch_loss\u001b[0m \u001b[0;34m+=\u001b[0m \u001b[0mloss\u001b[0m\u001b[0;34m.\u001b[0m\u001b[0mitem\u001b[0m\u001b[0;34m(\u001b[0m\u001b[0;34m)\u001b[0m\u001b[0;34m\u001b[0m\u001b[0;34m\u001b[0m\u001b[0m\n\u001b[1;32m    102\u001b[0m \u001b[0;34m\u001b[0m\u001b[0m\n",
      "\u001b[0;32m~/Studies/Roboy/sonosco/sonosco/training/trainer.py\u001b[0m in \u001b[0;36m_train_on_batch\u001b[0;34m(self, batch)\u001b[0m\n\u001b[1;32m    131\u001b[0m         \u001b[0mbatch_x\u001b[0m\u001b[0;34m,\u001b[0m \u001b[0mbatch_y\u001b[0m\u001b[0;34m,\u001b[0m \u001b[0minput_lengths\u001b[0m\u001b[0;34m,\u001b[0m \u001b[0mtarget_lengths\u001b[0m \u001b[0;34m=\u001b[0m \u001b[0mbatch\u001b[0m\u001b[0;34m\u001b[0m\u001b[0;34m\u001b[0m\u001b[0m\n\u001b[1;32m    132\u001b[0m         \u001b[0;32mif\u001b[0m \u001b[0mself\u001b[0m\u001b[0;34m.\u001b[0m\u001b[0m_custom_model_eval\u001b[0m\u001b[0;34m:\u001b[0m\u001b[0;34m\u001b[0m\u001b[0;34m\u001b[0m\u001b[0m\n\u001b[0;32m--> 133\u001b[0;31m             \u001b[0mloss\u001b[0m\u001b[0;34m,\u001b[0m \u001b[0mmodel_output\u001b[0m \u001b[0;34m=\u001b[0m \u001b[0mself\u001b[0m\u001b[0;34m.\u001b[0m\u001b[0mloss\u001b[0m\u001b[0;34m(\u001b[0m\u001b[0mbatch\u001b[0m\u001b[0;34m,\u001b[0m \u001b[0mself\u001b[0m\u001b[0;34m.\u001b[0m\u001b[0mmodel\u001b[0m\u001b[0;34m)\u001b[0m\u001b[0;34m\u001b[0m\u001b[0;34m\u001b[0m\u001b[0m\n\u001b[0m\u001b[1;32m    134\u001b[0m         \u001b[0;32melse\u001b[0m\u001b[0;34m:\u001b[0m\u001b[0;34m\u001b[0m\u001b[0;34m\u001b[0m\u001b[0m\n\u001b[1;32m    135\u001b[0m             \u001b[0mmodel_output\u001b[0m \u001b[0;34m=\u001b[0m \u001b[0mself\u001b[0m\u001b[0;34m.\u001b[0m\u001b[0mmodel\u001b[0m\u001b[0;34m(\u001b[0m\u001b[0mbatch_x\u001b[0m\u001b[0;34m,\u001b[0m \u001b[0minput_lengths\u001b[0m\u001b[0;34m)\u001b[0m\u001b[0;34m\u001b[0m\u001b[0;34m\u001b[0m\u001b[0m\n",
      "\u001b[0;32m<ipython-input-46-44e99e4ebd13>\u001b[0m in \u001b[0;36mcustom_loss\u001b[0;34m(batch, model)\u001b[0m\n\u001b[1;32m      1\u001b[0m \u001b[0;32mdef\u001b[0m \u001b[0mcustom_loss\u001b[0m\u001b[0;34m(\u001b[0m\u001b[0mbatch\u001b[0m\u001b[0;34m,\u001b[0m \u001b[0mmodel\u001b[0m\u001b[0;34m)\u001b[0m\u001b[0;34m:\u001b[0m\u001b[0;34m\u001b[0m\u001b[0;34m\u001b[0m\u001b[0m\n\u001b[1;32m      2\u001b[0m     \u001b[0mbatch_x\u001b[0m\u001b[0;34m,\u001b[0m \u001b[0mbatch_y\u001b[0m\u001b[0;34m,\u001b[0m \u001b[0minput_lengths\u001b[0m\u001b[0;34m,\u001b[0m \u001b[0mtarget_lengths\u001b[0m \u001b[0;34m=\u001b[0m \u001b[0mbatch\u001b[0m\u001b[0;34m\u001b[0m\u001b[0;34m\u001b[0m\u001b[0m\n\u001b[0;32m----> 3\u001b[0;31m     \u001b[0mmodel_output\u001b[0m\u001b[0;34m,\u001b[0m \u001b[0moutput_lengths\u001b[0m \u001b[0;34m=\u001b[0m \u001b[0mmodel\u001b[0m\u001b[0;34m(\u001b[0m\u001b[0mbatch_x\u001b[0m\u001b[0;34m)\u001b[0m\u001b[0;34m\u001b[0m\u001b[0;34m\u001b[0m\u001b[0m\n\u001b[0m\u001b[1;32m      4\u001b[0m     \u001b[0mloss\u001b[0m \u001b[0;34m=\u001b[0m \u001b[0mtorch_functional\u001b[0m\u001b[0;34m.\u001b[0m\u001b[0mctc_loss\u001b[0m\u001b[0;34m(\u001b[0m\u001b[0mmodel_output\u001b[0m\u001b[0;34m.\u001b[0m\u001b[0mtranspose\u001b[0m\u001b[0;34m(\u001b[0m\u001b[0;36m0\u001b[0m\u001b[0;34m,\u001b[0m \u001b[0;36m1\u001b[0m\u001b[0;34m)\u001b[0m\u001b[0;34m,\u001b[0m \u001b[0mbatch_y\u001b[0m\u001b[0;34m,\u001b[0m \u001b[0moutput_lengths\u001b[0m\u001b[0;34m,\u001b[0m \u001b[0mtarget_lengths\u001b[0m\u001b[0;34m)\u001b[0m\u001b[0;34m\u001b[0m\u001b[0;34m\u001b[0m\u001b[0m\n\u001b[1;32m      5\u001b[0m     \u001b[0;32mreturn\u001b[0m \u001b[0mloss\u001b[0m\u001b[0;34m,\u001b[0m \u001b[0mmodel_output\u001b[0m\u001b[0;34m\u001b[0m\u001b[0;34m\u001b[0m\u001b[0m\n",
      "\u001b[0;32m~/anaconda3/envs/sonosco/lib/python3.7/site-packages/torch/nn/modules/module.py\u001b[0m in \u001b[0;36m__call__\u001b[0;34m(self, *input, **kwargs)\u001b[0m\n\u001b[1;32m    491\u001b[0m             \u001b[0mresult\u001b[0m \u001b[0;34m=\u001b[0m \u001b[0mself\u001b[0m\u001b[0;34m.\u001b[0m\u001b[0m_slow_forward\u001b[0m\u001b[0;34m(\u001b[0m\u001b[0;34m*\u001b[0m\u001b[0minput\u001b[0m\u001b[0;34m,\u001b[0m \u001b[0;34m**\u001b[0m\u001b[0mkwargs\u001b[0m\u001b[0;34m)\u001b[0m\u001b[0;34m\u001b[0m\u001b[0;34m\u001b[0m\u001b[0m\n\u001b[1;32m    492\u001b[0m         \u001b[0;32melse\u001b[0m\u001b[0;34m:\u001b[0m\u001b[0;34m\u001b[0m\u001b[0;34m\u001b[0m\u001b[0m\n\u001b[0;32m--> 493\u001b[0;31m             \u001b[0mresult\u001b[0m \u001b[0;34m=\u001b[0m \u001b[0mself\u001b[0m\u001b[0;34m.\u001b[0m\u001b[0mforward\u001b[0m\u001b[0;34m(\u001b[0m\u001b[0;34m*\u001b[0m\u001b[0minput\u001b[0m\u001b[0;34m,\u001b[0m \u001b[0;34m**\u001b[0m\u001b[0mkwargs\u001b[0m\u001b[0;34m)\u001b[0m\u001b[0;34m\u001b[0m\u001b[0;34m\u001b[0m\u001b[0m\n\u001b[0m\u001b[1;32m    494\u001b[0m         \u001b[0;32mfor\u001b[0m \u001b[0mhook\u001b[0m \u001b[0;32min\u001b[0m \u001b[0mself\u001b[0m\u001b[0;34m.\u001b[0m\u001b[0m_forward_hooks\u001b[0m\u001b[0;34m.\u001b[0m\u001b[0mvalues\u001b[0m\u001b[0;34m(\u001b[0m\u001b[0;34m)\u001b[0m\u001b[0;34m:\u001b[0m\u001b[0;34m\u001b[0m\u001b[0;34m\u001b[0m\u001b[0m\n\u001b[1;32m    495\u001b[0m             \u001b[0mhook_result\u001b[0m \u001b[0;34m=\u001b[0m \u001b[0mhook\u001b[0m\u001b[0;34m(\u001b[0m\u001b[0mself\u001b[0m\u001b[0;34m,\u001b[0m \u001b[0minput\u001b[0m\u001b[0;34m,\u001b[0m \u001b[0mresult\u001b[0m\u001b[0;34m)\u001b[0m\u001b[0;34m\u001b[0m\u001b[0;34m\u001b[0m\u001b[0m\n",
      "\u001b[0;32m<ipython-input-47-28d225413822>\u001b[0m in \u001b[0;36mforward\u001b[0;34m(self, input)\u001b[0m\n\u001b[1;32m     31\u001b[0m         )\n\u001b[1;32m     32\u001b[0m     \u001b[0;32mdef\u001b[0m \u001b[0mforward\u001b[0m\u001b[0;34m(\u001b[0m\u001b[0mself\u001b[0m\u001b[0;34m,\u001b[0m \u001b[0minput\u001b[0m\u001b[0;34m)\u001b[0m\u001b[0;34m:\u001b[0m\u001b[0;34m\u001b[0m\u001b[0;34m\u001b[0m\u001b[0m\n\u001b[0;32m---> 33\u001b[0;31m         \u001b[0;32mreturn\u001b[0m \u001b[0mself\u001b[0m\u001b[0;34m.\u001b[0m\u001b[0mnet\u001b[0m\u001b[0;34m(\u001b[0m\u001b[0minput\u001b[0m\u001b[0;34m)\u001b[0m\u001b[0;34m\u001b[0m\u001b[0;34m\u001b[0m\u001b[0m\n\u001b[0m",
      "\u001b[0;32m~/anaconda3/envs/sonosco/lib/python3.7/site-packages/torch/nn/modules/module.py\u001b[0m in \u001b[0;36m__call__\u001b[0;34m(self, *input, **kwargs)\u001b[0m\n\u001b[1;32m    491\u001b[0m             \u001b[0mresult\u001b[0m \u001b[0;34m=\u001b[0m \u001b[0mself\u001b[0m\u001b[0;34m.\u001b[0m\u001b[0m_slow_forward\u001b[0m\u001b[0;34m(\u001b[0m\u001b[0;34m*\u001b[0m\u001b[0minput\u001b[0m\u001b[0;34m,\u001b[0m \u001b[0;34m**\u001b[0m\u001b[0mkwargs\u001b[0m\u001b[0;34m)\u001b[0m\u001b[0;34m\u001b[0m\u001b[0;34m\u001b[0m\u001b[0m\n\u001b[1;32m    492\u001b[0m         \u001b[0;32melse\u001b[0m\u001b[0;34m:\u001b[0m\u001b[0;34m\u001b[0m\u001b[0;34m\u001b[0m\u001b[0m\n\u001b[0;32m--> 493\u001b[0;31m             \u001b[0mresult\u001b[0m \u001b[0;34m=\u001b[0m \u001b[0mself\u001b[0m\u001b[0;34m.\u001b[0m\u001b[0mforward\u001b[0m\u001b[0;34m(\u001b[0m\u001b[0;34m*\u001b[0m\u001b[0minput\u001b[0m\u001b[0;34m,\u001b[0m \u001b[0;34m**\u001b[0m\u001b[0mkwargs\u001b[0m\u001b[0;34m)\u001b[0m\u001b[0;34m\u001b[0m\u001b[0;34m\u001b[0m\u001b[0m\n\u001b[0m\u001b[1;32m    494\u001b[0m         \u001b[0;32mfor\u001b[0m \u001b[0mhook\u001b[0m \u001b[0;32min\u001b[0m \u001b[0mself\u001b[0m\u001b[0;34m.\u001b[0m\u001b[0m_forward_hooks\u001b[0m\u001b[0;34m.\u001b[0m\u001b[0mvalues\u001b[0m\u001b[0;34m(\u001b[0m\u001b[0;34m)\u001b[0m\u001b[0;34m:\u001b[0m\u001b[0;34m\u001b[0m\u001b[0;34m\u001b[0m\u001b[0m\n\u001b[1;32m    495\u001b[0m             \u001b[0mhook_result\u001b[0m \u001b[0;34m=\u001b[0m \u001b[0mhook\u001b[0m\u001b[0;34m(\u001b[0m\u001b[0mself\u001b[0m\u001b[0;34m,\u001b[0m \u001b[0minput\u001b[0m\u001b[0;34m,\u001b[0m \u001b[0mresult\u001b[0m\u001b[0;34m)\u001b[0m\u001b[0;34m\u001b[0m\u001b[0;34m\u001b[0m\u001b[0m\n",
      "\u001b[0;32m~/anaconda3/envs/sonosco/lib/python3.7/site-packages/torch/nn/modules/container.py\u001b[0m in \u001b[0;36mforward\u001b[0;34m(self, input)\u001b[0m\n\u001b[1;32m     90\u001b[0m     \u001b[0;32mdef\u001b[0m \u001b[0mforward\u001b[0m\u001b[0;34m(\u001b[0m\u001b[0mself\u001b[0m\u001b[0;34m,\u001b[0m \u001b[0minput\u001b[0m\u001b[0;34m)\u001b[0m\u001b[0;34m:\u001b[0m\u001b[0;34m\u001b[0m\u001b[0;34m\u001b[0m\u001b[0m\n\u001b[1;32m     91\u001b[0m         \u001b[0;32mfor\u001b[0m \u001b[0mmodule\u001b[0m \u001b[0;32min\u001b[0m \u001b[0mself\u001b[0m\u001b[0;34m.\u001b[0m\u001b[0m_modules\u001b[0m\u001b[0;34m.\u001b[0m\u001b[0mvalues\u001b[0m\u001b[0;34m(\u001b[0m\u001b[0;34m)\u001b[0m\u001b[0;34m:\u001b[0m\u001b[0;34m\u001b[0m\u001b[0;34m\u001b[0m\u001b[0m\n\u001b[0;32m---> 92\u001b[0;31m             \u001b[0minput\u001b[0m \u001b[0;34m=\u001b[0m \u001b[0mmodule\u001b[0m\u001b[0;34m(\u001b[0m\u001b[0minput\u001b[0m\u001b[0;34m)\u001b[0m\u001b[0;34m\u001b[0m\u001b[0;34m\u001b[0m\u001b[0m\n\u001b[0m\u001b[1;32m     93\u001b[0m         \u001b[0;32mreturn\u001b[0m \u001b[0minput\u001b[0m\u001b[0;34m\u001b[0m\u001b[0;34m\u001b[0m\u001b[0m\n\u001b[1;32m     94\u001b[0m \u001b[0;34m\u001b[0m\u001b[0m\n",
      "\u001b[0;32m~/anaconda3/envs/sonosco/lib/python3.7/site-packages/torch/nn/modules/module.py\u001b[0m in \u001b[0;36m__call__\u001b[0;34m(self, *input, **kwargs)\u001b[0m\n\u001b[1;32m    491\u001b[0m             \u001b[0mresult\u001b[0m \u001b[0;34m=\u001b[0m \u001b[0mself\u001b[0m\u001b[0;34m.\u001b[0m\u001b[0m_slow_forward\u001b[0m\u001b[0;34m(\u001b[0m\u001b[0;34m*\u001b[0m\u001b[0minput\u001b[0m\u001b[0;34m,\u001b[0m \u001b[0;34m**\u001b[0m\u001b[0mkwargs\u001b[0m\u001b[0;34m)\u001b[0m\u001b[0;34m\u001b[0m\u001b[0;34m\u001b[0m\u001b[0m\n\u001b[1;32m    492\u001b[0m         \u001b[0;32melse\u001b[0m\u001b[0;34m:\u001b[0m\u001b[0;34m\u001b[0m\u001b[0;34m\u001b[0m\u001b[0m\n\u001b[0;32m--> 493\u001b[0;31m             \u001b[0mresult\u001b[0m \u001b[0;34m=\u001b[0m \u001b[0mself\u001b[0m\u001b[0;34m.\u001b[0m\u001b[0mforward\u001b[0m\u001b[0;34m(\u001b[0m\u001b[0;34m*\u001b[0m\u001b[0minput\u001b[0m\u001b[0;34m,\u001b[0m \u001b[0;34m**\u001b[0m\u001b[0mkwargs\u001b[0m\u001b[0;34m)\u001b[0m\u001b[0;34m\u001b[0m\u001b[0;34m\u001b[0m\u001b[0m\n\u001b[0m\u001b[1;32m    494\u001b[0m         \u001b[0;32mfor\u001b[0m \u001b[0mhook\u001b[0m \u001b[0;32min\u001b[0m \u001b[0mself\u001b[0m\u001b[0;34m.\u001b[0m\u001b[0m_forward_hooks\u001b[0m\u001b[0;34m.\u001b[0m\u001b[0mvalues\u001b[0m\u001b[0;34m(\u001b[0m\u001b[0;34m)\u001b[0m\u001b[0;34m:\u001b[0m\u001b[0;34m\u001b[0m\u001b[0;34m\u001b[0m\u001b[0m\n\u001b[1;32m    495\u001b[0m             \u001b[0mhook_result\u001b[0m \u001b[0;34m=\u001b[0m \u001b[0mhook\u001b[0m\u001b[0;34m(\u001b[0m\u001b[0mself\u001b[0m\u001b[0;34m,\u001b[0m \u001b[0minput\u001b[0m\u001b[0;34m,\u001b[0m \u001b[0mresult\u001b[0m\u001b[0;34m)\u001b[0m\u001b[0;34m\u001b[0m\u001b[0;34m\u001b[0m\u001b[0m\n",
      "\u001b[0;32m~/anaconda3/envs/sonosco/lib/python3.7/site-packages/torch/nn/modules/normalization.py\u001b[0m in \u001b[0;36mforward\u001b[0;34m(self, input)\u001b[0m\n\u001b[1;32m    155\u001b[0m     \u001b[0;32mdef\u001b[0m \u001b[0mforward\u001b[0m\u001b[0;34m(\u001b[0m\u001b[0mself\u001b[0m\u001b[0;34m,\u001b[0m \u001b[0minput\u001b[0m\u001b[0;34m)\u001b[0m\u001b[0;34m:\u001b[0m\u001b[0;34m\u001b[0m\u001b[0;34m\u001b[0m\u001b[0m\n\u001b[1;32m    156\u001b[0m         return F.layer_norm(\n\u001b[0;32m--> 157\u001b[0;31m             input, self.normalized_shape, self.weight, self.bias, self.eps)\n\u001b[0m\u001b[1;32m    158\u001b[0m \u001b[0;34m\u001b[0m\u001b[0m\n\u001b[1;32m    159\u001b[0m     \u001b[0;32mdef\u001b[0m \u001b[0mextra_repr\u001b[0m\u001b[0;34m(\u001b[0m\u001b[0mself\u001b[0m\u001b[0;34m)\u001b[0m\u001b[0;34m:\u001b[0m\u001b[0;34m\u001b[0m\u001b[0;34m\u001b[0m\u001b[0m\n",
      "\u001b[0;32m~/anaconda3/envs/sonosco/lib/python3.7/site-packages/torch/nn/functional.py\u001b[0m in \u001b[0;36mlayer_norm\u001b[0;34m(input, normalized_shape, weight, bias, eps)\u001b[0m\n\u001b[1;32m   1723\u001b[0m     \"\"\"\n\u001b[1;32m   1724\u001b[0m     return torch.layer_norm(input, normalized_shape, weight, bias, eps,\n\u001b[0;32m-> 1725\u001b[0;31m                             torch.backends.cudnn.enabled)\n\u001b[0m\u001b[1;32m   1726\u001b[0m \u001b[0;34m\u001b[0m\u001b[0m\n\u001b[1;32m   1727\u001b[0m \u001b[0;34m\u001b[0m\u001b[0m\n",
      "\u001b[0;31mRuntimeError\u001b[0m: Given normalized_shape=[3], expected input with shape [*, 3], but got input of size[32, 10, 51, 213]"
     ]
    }
   ],
   "source": [
    "trainer.start_training()"
   ]
  },
  {
   "cell_type": "code",
   "execution_count": null,
   "metadata": {
    "pycharm": {
     "name": "#%%\n"
    }
   },
   "outputs": [],
   "source": [
    "\n"
   ]
  }
 ],
 "metadata": {
  "kernelspec": {
   "display_name": "Python 3",
   "language": "python",
   "name": "python3"
  },
  "language_info": {
   "codemirror_mode": {
    "name": "ipython",
    "version": 3
   },
   "file_extension": ".py",
   "mimetype": "text/x-python",
   "name": "python",
   "nbconvert_exporter": "python",
   "pygments_lexer": "ipython3",
   "version": "3.6.7"
  },
  "pycharm": {
   "stem_cell": {
    "cell_type": "raw",
    "metadata": {
     "collapsed": false
    },
    "source": []
   }
  }
 },
 "nbformat": 4,
 "nbformat_minor": 4
}
