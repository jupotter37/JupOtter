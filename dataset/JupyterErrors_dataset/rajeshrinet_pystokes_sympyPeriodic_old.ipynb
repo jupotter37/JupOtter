{
 "cells": [
  {
   "cell_type": "markdown",
   "id": "38ffaaed-48a1-42fd-b0b3-e57bc76eb1c0",
   "metadata": {},
   "source": [
    "## Periodic boundary conditions\n",
    "\n",
    "Periodic Green's function for simulation of infinite lattice. Use of symmetry factors for speed-up. Use a different file for each number of periodic boxes and Fourier modes used, in the format of \n",
    "\n",
    "    periodic_Nb_Nm.py"
   ]
  },
  {
   "cell_type": "code",
   "execution_count": 1,
   "id": "2b791888-84ea-4320-a54e-eb8c5df506c4",
   "metadata": {},
   "outputs": [],
   "source": [
    "from symengine import *\n",
    "import sympy\n",
    "import numpy as np\n",
    "import re\n",
    "from joblib import Parallel, delayed\n",
    "from joblib import parallel_backend"
   ]
  },
  {
   "cell_type": "markdown",
   "id": "eda95cc5-65ea-48f4-af0d-f1892e224e9f",
   "metadata": {},
   "source": [
    "Number of periodic boxes and Fourier modes"
   ]
  },
  {
   "cell_type": "code",
   "execution_count": 2,
   "id": "e1e80cdb-6e09-4819-b9eb-0836b8f37a99",
   "metadata": {},
   "outputs": [],
   "source": [
    "Nb = 1\n",
    "Nm = 4\n",
    "\n",
    "Nbb = 2*Nb +1\n",
    "N1 = int(-(Nm/2)+1)\n",
    "N2 = int((Nm/2)+1)"
   ]
  },
  {
   "cell_type": "code",
   "execution_count": 3,
   "id": "54accab2-a00e-4560-849f-deb48df48b5a",
   "metadata": {},
   "outputs": [
    {
     "data": {
      "text/plain": [
       "(3, -1, 3)"
      ]
     },
     "execution_count": 3,
     "metadata": {},
     "output_type": "execute_result"
    }
   ],
   "source": [
    "Nbb, N1, N2"
   ]
  },
  {
   "cell_type": "markdown",
   "id": "2a0c507e-bb45-4160-b4df-01486ae3ec53",
   "metadata": {},
   "source": [
    "### Definitions and auxiliary functions"
   ]
  },
  {
   "cell_type": "code",
   "execution_count": 4,
   "id": "fa2a7578-2340-45cd-b646-bf46065f8921",
   "metadata": {},
   "outputs": [],
   "source": [
    "xij, yij, zij = symbols(\"xij, yij, zij\", real=True) \n",
    "b, eta = symbols(\"b, eta\", real=True, positive=True)\n",
    "\n",
    "# indices for summation:\n",
    "## Caution, cannot use lambda, instead use Lambda\n",
    "## do not use eta as index, it's the viscosity\n",
    "alpha, beta, gamma, gamma1, gamma2, gamma3, gamma4, kappa, kappa1, kappa2, mu, nu, nu1, nu2, Lambda, eta2, zeta, sigma = symbols(\n",
    "    'alpha, beta, gamma, gamma1, gamma2, gamma3, gamma4, kappa, kappa1, kappa2, mu, nu, nu1, nu2, Lambda, eta2, zeta, sigma', integer=True)\n",
    "\n",
    "#new symbols for periodic calculation: boxSize, xi (convergence parameter)\n",
    "L, xi = symbols(\"L, xi\", real=True, positive=True)\n",
    "kx, ky, kz = symbols(\"kx, ky, kz\", real=True) \n",
    "\n",
    "rij = Matrix([xij, yij, zij])\n",
    "\n",
    "k0 = 2*pi/L\n",
    "\n",
    "def norm(r):\n",
    "    result=0\n",
    "    for i in range(3):\n",
    "        result += r[i]**2\n",
    "    return sqrt(result)\n",
    "\n",
    "KroneckerDelta = eye(3)\n",
    "\n",
    "def eps(alpha, beta, gamma):\n",
    "    return LeviCivita(alpha,beta,gamma)"
   ]
  },
  {
   "cell_type": "markdown",
   "id": "d5094fc1-9180-4ab6-820b-d0187477a16d",
   "metadata": {},
   "source": [
    "### Green's function"
   ]
  },
  {
   "cell_type": "code",
   "execution_count": 5,
   "id": "3d5d5b42-8ab2-4cc9-8729-ae3a6fc792f9",
   "metadata": {},
   "outputs": [],
   "source": [
    "##pass xi*norm(r) and norm(k) for A, B and C\n",
    "\n",
    "def A(x): ##are these correct? Don't match Pozrikidis\n",
    "    return erfc(x) + 2/sqrt(pi)*(2*x**3 - 3*x)*exp(-x**2)\n",
    "\n",
    "def B(x):\n",
    "    return erfc(x) + 2/sqrt(pi)*(x - 2*x**3)*exp(-x**2)\n",
    "\n",
    "def C(k):\n",
    "    return (S(1) + k**2/xi**2/4 + k**4/xi**4/8)*exp(-k**2/xi**2/4)  ## was exp(-1/4*k**4/xi**4) as in Rajesh' PhD thesis\n",
    "\n",
    "def M1(xij, yij, zij, alpha,beta): ##factors of 8*pi?\n",
    "    rij = Matrix([xij, yij, zij])\n",
    "    return A(xi*norm(rij))*KroneckerDelta[alpha,beta]/norm(rij) + B(xi*norm(rij))*rij[alpha]*rij[beta]/norm(rij)**3\n",
    "\n",
    "def M2(xij, yij, zij, kx, ky, kz, alpha,beta): ## k*rij is dot product\n",
    "    rij = Matrix([xij, yij, zij])\n",
    "    k = Matrix([kx, ky, kz]) \n",
    "    kDOTrij = xij*kx + yij*ky + zij*kz\n",
    "    return 1/(eta)*C(norm(k))*(KroneckerDelta[alpha,beta]/norm(k)**2 - k[alpha]*k[beta]/norm(k)**4)*cos(kDOTrij) ##take the real part (?) follow Pozrikidis (3.14)\n",
    "                                                                                                                ## just use cos instead of exp(I*kDOTrij)\n",
    "\n",
    "##define function for periodic Green's function, evaluate it once and save it as another function, as to not have to evaluate it every time \n",
    "def GreenReal(alpha, beta): ##eventually evaluate xij=L\n",
    "    green = 0\n",
    "\n",
    "    for ii in range(Nbb):\n",
    "        dx = (ii - Nb)*xij\n",
    "        for jj in range(Nbb):\n",
    "            dy = (jj - Nb)*yij\n",
    "            for kk in range(Nbb):\n",
    "                dz = (kk - Nb)*zij\n",
    "                \n",
    "                if ii==jj==kk: ##self-interaction added later by hand\n",
    "                    pass\n",
    "                else:\n",
    "                    green += M1(dx, dy, dz, alpha, beta)\n",
    "                    \n",
    "    return green\n",
    "\n",
    "\n",
    "def GreenFourier(alpha,beta): ##eventually evaluate xij=0 and take real part\n",
    "    green = 0 \n",
    "    \n",
    "    for ii in range(N1, N2): \n",
    "        kx = k0*ii\n",
    "        for jj in range(N1,N2):\n",
    "            ky = k0*jj\n",
    "            for kk in range(N1, N2):\n",
    "                kz = k0*kk\n",
    "                if kx != 0 or ky != 0 or kz != 0:\n",
    "                    green += M2(xij, yij, zij, kx, ky, kz, alpha, beta)\n",
    "\n",
    "    return green"
   ]
  },
  {
   "cell_type": "code",
   "execution_count": 6,
   "id": "f39d7b23-2724-4771-b004-c66318bf3125",
   "metadata": {},
   "outputs": [],
   "source": [
    "##Take a closer look at GreenFourier"
   ]
  },
  {
   "cell_type": "code",
   "execution_count": 7,
   "id": "2dbca843-bb5f-421c-86c7-7ccc13c519a5",
   "metadata": {},
   "outputs": [],
   "source": [
    "# GreenFourier(0,1)"
   ]
  },
  {
   "cell_type": "code",
   "execution_count": null,
   "id": "ac3d00e4-743e-4de3-86ec-8e15645f15dd",
   "metadata": {},
   "outputs": [],
   "source": []
  },
  {
   "cell_type": "code",
   "execution_count": null,
   "id": "9e98dadf-69e6-4fc3-8b09-a29957019b8e",
   "metadata": {},
   "outputs": [],
   "source": []
  },
  {
   "cell_type": "code",
   "execution_count": null,
   "id": "7c721379-1b71-4e8b-b494-f31e58f9c021",
   "metadata": {},
   "outputs": [],
   "source": []
  },
  {
   "cell_type": "code",
   "execution_count": null,
   "id": "22265076-0f44-49f8-8b8f-197f396f4e08",
   "metadata": {},
   "outputs": [],
   "source": []
  },
  {
   "cell_type": "code",
   "execution_count": null,
   "id": "c93b8261-45d7-4d35-9c9e-749e3e85ffb7",
   "metadata": {},
   "outputs": [],
   "source": []
  },
  {
   "cell_type": "code",
   "execution_count": 8,
   "id": "6b46e52e-40d6-4737-979d-01f0256ab363",
   "metadata": {},
   "outputs": [],
   "source": [
    "# sympy.simplify(GreenReal(0,1).subs({xij:L, yij:L, zij:L}))"
   ]
  },
  {
   "cell_type": "code",
   "execution_count": 9,
   "id": "7099d0ff-a57b-4652-bb90-9a322e02b73f",
   "metadata": {},
   "outputs": [],
   "source": [
    "# sympy.simplify(GreenFourier(0,1).subs({xij:0, yij:0, zij:0}))"
   ]
  },
  {
   "cell_type": "code",
   "execution_count": 10,
   "id": "452982e2-1819-4bf8-a20b-4bfc38576dda",
   "metadata": {},
   "outputs": [],
   "source": [
    "## First compute Green's functions and save in matrix & then in function, to not have to compute it every time (we fix the number of modes)\n",
    "## then change below matrix elements computations to include an argument G, meaning which Green's function is used\n",
    "##compute all matrix elements for both and then simply sum them GP = sum M1 + 1/V sum M2 - simplify too slow"
   ]
  },
  {
   "cell_type": "code",
   "execution_count": 11,
   "id": "1c6c4bad-964d-4de3-b62f-bece1a1ecfe2",
   "metadata": {},
   "outputs": [],
   "source": [
    "matGR = zeros(3,3)\n",
    "for i in range(3):\n",
    "    for j in range(3):\n",
    "        matGR[i,j] = GreenReal(i,j)\n",
    "        \n",
    "matGF = zeros(3,3)\n",
    "for i in range(3):\n",
    "    for j in range(3):\n",
    "        matGF[i,j] = GreenFourier(i,j)\n",
    "        \n",
    "def GR(alpha, beta):\n",
    "    return matGR[alpha,beta]\n",
    "\n",
    "def GF(alpha,beta):\n",
    "    return matGF[alpha,beta]"
   ]
  },
  {
   "cell_type": "markdown",
   "id": "3def19b9-0462-4d4b-bd17-7a7a66c39a81",
   "metadata": {},
   "source": [
    "### Calculus auxiliary functions"
   ]
  },
  {
   "cell_type": "code",
   "execution_count": 12,
   "id": "7887a3ef-424d-4df4-9ff4-bae35f7c84a5",
   "metadata": {},
   "outputs": [],
   "source": [
    "def Laplacian(G):\n",
    "    return diff(G, rij[0], rij[0]) + diff(G, rij[1], rij[1]) + diff(G, rij[2], rij[2])\n",
    "\n",
    "def Curl(G, alpha, beta): ## the function to take the curl of and the two remaining indices \n",
    "    result=0\n",
    "    for i in range(3):\n",
    "        for j in range(3):\n",
    "            result += eps(alpha,i,j)*diff(G(j,beta),rij[i])\n",
    "    return result\n",
    "\n",
    "def tilde_Curl(G, alpha, beta): ##introduce for convenience, minus sign already taken into account in matrix elements\n",
    "    result=0\n",
    "    for i in range(3):\n",
    "        for j in range(3):\n",
    "            result += eps(beta,i,j)*diff(G(alpha, j),rij[i])\n",
    "    return result\n",
    "\n",
    "def CurlCurl(G, alpha, beta): ## the function to take the curl of and the two remaining indices \n",
    "    result=0\n",
    "    for i in range(3):\n",
    "        for j in range(3):\n",
    "            for k in range(3):\n",
    "                for l in range(3):\n",
    "                    result += eps(alpha,i,j)*eps(beta,k,l)*diff(G(j,l), rij[i], rij[k])\n",
    "    return result\n",
    "\n",
    "\n",
    "def SumG(G, sigma, eta2, mu):\n",
    "    result=0\n",
    "    for i in range(3):\n",
    "        result += eps(sigma, eta2, i)*Laplacian( G(mu, i) )\n",
    "    return result\n",
    "\n",
    "\n",
    "def SumG3s1Sym(G, mu, nu2, alpha, gamma1, gamma2):\n",
    "    result=0\n",
    "    for i in range(3):\n",
    "        result += eps(mu,nu2,i)*g3s1Sym(G, alpha,gamma1,gamma2,i) ##add argument G\n",
    "    return result"
   ]
  },
  {
   "cell_type": "code",
   "execution_count": 13,
   "id": "454cb5fd-1a54-4bb5-89a9-11683d36b977",
   "metadata": {},
   "outputs": [],
   "source": [
    "##auxiliary functions\n",
    "def delG(G, alpha, beta, gamma):\n",
    "    return diff( G(alpha,beta), rij[gamma])\n",
    "\n",
    "def lapG(G, alpha,beta):\n",
    "    return Laplacian( G(alpha,beta) )\n",
    "\n",
    "def dellapG(G, alpha, beta, kappa1):\n",
    "    return diff(lapG(G, alpha, beta), rij[kappa1])\n",
    "\n",
    "def deldelG(G, zeta, beta, kappa1, nu):\n",
    "    return diff(delG(G, zeta, beta, kappa1), rij[nu])\n",
    "\n",
    "def deldellapG(G, alpha, beta, gamma1, kappa1):\n",
    "    return diff(dellapG(G, alpha,beta, gamma1), rij[kappa1])\n",
    "\n",
    "def deldeldelG(G, alpha, beta, gamma1, gamma2, gamma3):\n",
    "    return diff(deldelG(G, alpha, beta, gamma1, gamma2), rij[gamma3])\n",
    "\n",
    "def deldeldeldelG(G, alpha, beta, gamma1, gamma2, gamma3, gamma4):\n",
    "    return diff(deldeldelG(G, alpha, beta, gamma1, gamma2, gamma3), rij[gamma4])"
   ]
  },
  {
   "cell_type": "code",
   "execution_count": 14,
   "id": "40b743bf-61c9-4029-933d-b2891ca172f4",
   "metadata": {},
   "outputs": [],
   "source": [
    "# GLL  ##simplify later, when filling matrix elements, after subsituting for xij -- much faster\n",
    "def G1s1s(G, alpha, beta):\n",
    "    return G(alpha, beta) + b**2/3*lapG(G, alpha, beta)\n",
    "\n",
    "def G1s2a(G, alpha, beta):\n",
    "    return -b/2*tilde_Curl(G, alpha,beta)\n",
    "\n",
    "def G2a1s(G, alpha, beta):\n",
    "    return b*Curl(G, alpha,beta)\n",
    "\n",
    "def G2a2a(G, alpha, beta):\n",
    "    return -b**2/2*CurlCurl(G, alpha,beta)"
   ]
  },
  {
   "cell_type": "code",
   "execution_count": 15,
   "id": "bef0cc00-8e84-4ba2-9230-0e7e0f87f273",
   "metadata": {},
   "outputs": [],
   "source": [
    "## GL2s and G2sL\n",
    "def G1s2s(G, alpha, kappa1, beta):\n",
    "    return -b/2*((delG(G, alpha, beta, kappa1) + delG(G, alpha, kappa1, beta)) + 4*b**2/15*(dellapG(G, alpha, beta, kappa1) + dellapG(G, alpha, kappa1, beta)))\n",
    "\n",
    "def G2a2s(G, alpha, kappa1, beta):\n",
    "    return -b**2/2*(diff(Curl(G, alpha, beta),rij[kappa1]) + diff(Curl(G, alpha, kappa1),rij[beta]))\n",
    "\n",
    "def G2s1s(G, alpha, gamma1, beta):\n",
    "    return b/2*((delG(G, alpha, beta, gamma1) + delG(G, gamma1, beta, alpha)) + 4*b**2/15*(dellapG(G, alpha,beta,gamma1) + dellapG(G, gamma1, beta, alpha)))\n",
    "\n",
    "def G2s2a(G, alpha, gamma1, mu):\n",
    "    return -b**2/4*(diff(tilde_Curl(G, gamma1,mu), rij[alpha]) + diff(tilde_Curl(G, alpha,mu), rij[gamma1])) #sign change from -> eps(mu, kappa1, beta)\n",
    "\n",
    "\n",
    "## G2s2s\n",
    "def G2s2s(G, alpha, gamma1, kappa1, beta):\n",
    "    return -b**2/4*((deldelG(G, alpha, beta, gamma1, kappa1) + deldelG(G, gamma1, beta, alpha, kappa1)) + \n",
    "                      (deldelG(G, alpha,kappa1, gamma1, beta) + deldelG(G, gamma1, kappa1, alpha, beta)) +\n",
    "                      b**2/5*(deldellapG(G, alpha,beta,gamma1,kappa1) + deldellapG(G, gamma1,beta,alpha,kappa1)) + \n",
    "                      b**2/5*(deldellapG(G, alpha, kappa1, gamma1, beta) + deldellapG(G, gamma1,kappa1,alpha,beta)))\n",
    "\n",
    "\n",
    "## higher matrix elements\n",
    "def G1s3t(G, alpha, beta):\n",
    "    return -b**2/5*lapG(G, alpha,beta)\n",
    "\n",
    "\n",
    "# symmetry for matrix elements of form l sigma, 3s\n",
    "def g13sSym(G, alpha,kappa2,kappa1,beta):\n",
    "    return (deldelG(G, alpha,beta,kappa1,kappa2) + deldelG(G, alpha,kappa2,kappa1,beta) + deldelG(G, alpha,kappa1,beta,kappa2))/3 - (\n",
    "        KroneckerDelta[kappa1,kappa2]*lapG(G, alpha,beta) + KroneckerDelta[kappa1,beta]*lapG(G, alpha,kappa2) + KroneckerDelta[beta,kappa2]*lapG(G, alpha,kappa1))/15\n",
    "\n",
    "def G1s3s(G, alpha,kappa2, kappa1, beta):\n",
    "    return b**2*(g13sSym(G, alpha,kappa2,kappa1,beta) + 5*b**2/21*Laplacian(g13sSym(G, alpha,kappa2,kappa1,beta)))\n",
    "\n",
    "\n",
    "# symmetry of matrix elements of form 3s, l sigma\n",
    "def g3s1Sym(G, alpha,gamma1,gamma2,beta):\n",
    "    return (deldelG(G, alpha,beta,gamma1,gamma2) + deldelG(G, gamma1,beta,gamma2,alpha) + deldelG(G, gamma2,beta,alpha,gamma1))/3 - (\n",
    "        KroneckerDelta[gamma1, gamma2]*lapG(G, alpha,beta) + KroneckerDelta[gamma2,alpha]*lapG(G, gamma1,beta) + KroneckerDelta[alpha,gamma1]*lapG(G, gamma2,beta))/15\n",
    "\n",
    "def G3s1s(G, alpha,gamma1,gamma2,beta):\n",
    "    return b**2*(g3s1Sym(G, alpha,gamma1,gamma2,beta) + 5*b**2/21*Laplacian(g3s1Sym(G, alpha,gamma1,gamma2,beta)))\n",
    "\n",
    "def G3a1s(G, Lambda, kappa2, beta):\n",
    "    return b**2/2*(diff(Curl(G, Lambda, beta), rij[kappa2]) + diff(Curl(G, kappa2,beta), rij[Lambda]))\n",
    "\n",
    "def G1s3a(G, alpha, nu2, sigma):\n",
    "    return 2*b**2/3*(diff(tilde_Curl(G, alpha,nu2),rij[sigma]) - SumG(G, nu2,sigma,alpha)/3) # sign change due to --> eps(sigma,nu1,beta)\n",
    "\n",
    "\n",
    "def g3sCurlSym(G, alpha,gamma1,gamma2,mu):\n",
    "    return (diff(tilde_Curl(G, alpha,mu), rij[gamma1],rij[gamma2]) + diff(tilde_Curl(G, gamma1,mu), rij[gamma2],rij[alpha]) + diff(tilde_Curl(G, gamma2,mu), rij[alpha],rij[gamma1]))/3\n",
    "        \n",
    "def G3s2a(G, alpha,gamma1,gamma2,mu):\n",
    "    return -b**3/2*g3sCurlSym(G, alpha, gamma1, gamma2, mu)## sign change due to -> eps(mu, kappa1, beta)\n",
    "\n",
    "def G3a2a(G, Lambda, kappa2, mu):\n",
    "    return -b**3/4*(diff(CurlCurl(G, Lambda,mu), rij[kappa2]) + diff(CurlCurl(G, kappa2,mu), rij[Lambda])) #sign change -> eps(mu,kappa1,beta)\n",
    "\n",
    "def G2s3t(G, alpha,gamma1,nu2):\n",
    "    return -b**3/10*(dellapG(G, alpha,nu2,gamma1) + dellapG(G, gamma1,nu2,alpha))\n",
    "\n",
    "def G3s3t(G, alpha,gamma1,gamma2,nu2):\n",
    "    return -b**4/5*Laplacian(g3s1Sym(G, alpha,gamma1,gamma2,nu2))\n",
    "\n",
    "def G2s3a(G, alpha,gamma1,mu,nu2): #sign change -> eps(mu,nu1,beta)\n",
    "    return b**3/3*( diff(tilde_Curl(G, alpha,mu), rij[gamma1], rij[nu2]) - diff(SumG(G, mu,nu2,alpha), rij[gamma1])/3\n",
    "                   + diff(tilde_Curl(G, gamma1,mu), rij[alpha], rij[nu2]) - diff(SumG(G, mu,nu2,gamma1), rij[alpha])/3)\n",
    "\n",
    "def G3a3a(G, Lambda, kappa2, mu, nu2): #sign change -> eps(mu,nu1,beta)\n",
    "    return b**4/3*(diff(CurlCurl(G, Lambda,mu), rij[nu2], rij[kappa2]) + diff(CurlCurl(G, kappa2,mu), rij[nu2], rij[Lambda]))\n",
    "\n",
    "def G3s3a(G, alpha,gamma1,gamma2,mu,nu2): #sign change -> eps(mu,nu1,beta)\n",
    "    return 2*b**4/3*(diff(g3sCurlSym(G, alpha,gamma1,gamma2,mu), rij[nu2]) - Laplacian(SumG3s1Sym(G, mu,nu2,alpha,gamma1,gamma2))/3)\n",
    "\n",
    "\n",
    "def g2s3sSym(G, alpha,gamma1,kappa2, kappa1, beta):\n",
    "    return diff(g13sSym(G, alpha,kappa2,kappa1,beta), rij[gamma1]) + diff(g13sSym(G, gamma1, kappa2, kappa1, beta), rij[alpha])\n",
    "\n",
    "def G2s3s(G, alpha,gamma1,kappa2, kappa1, beta):\n",
    "    return b**3/2*(g2s3sSym(G, alpha,gamma1,kappa2, kappa1, beta) + 6*b**2/35*Laplacian(g2s3sSym(G, alpha,gamma1,kappa2, kappa1, beta)))\n",
    "\n",
    "\n",
    "def gCurl3sSym(G, tau, kappa2, kappa1, beta):\n",
    "    return (diff(Curl(G, tau, beta), rij[kappa1],rij[kappa2]) + diff(Curl(G, tau,kappa1), rij[kappa2],rij[beta]) + diff(Curl(G, tau,kappa2), rij[beta],rij[kappa1]))/3 \n",
    "\n",
    "def G3a3s(G, Lambda, eta2, kappa2, kappa1, beta):\n",
    "    return b**4/2*(diff(gCurl3sSym(G, Lambda, kappa1, kappa2, beta), rij[eta2]) + diff(gCurl3sSym(G, eta2, kappa1, kappa2, beta), rij[Lambda]))\n",
    "\n",
    "\n",
    "def deldelg13sSym(G, alpha,gamma1,gamma2,kappa2,kappa1,beta):\n",
    "    return diff(g13sSym(G, alpha,kappa2,kappa1,beta), rij[gamma1], rij[gamma2])\n",
    "\n",
    "def lapg13sSym(G, alpha,kappa2,kappa1,beta):\n",
    "    return Laplacian(g13sSym(G, alpha,kappa2,kappa1,beta))\n",
    "\n",
    "def g3s3sSym(G, alpha,gamma1,gamma2,kappa2,kappa1,beta):\n",
    "    return (deldelg13sSym(G, alpha,gamma1,gamma2,kappa2,kappa1,beta) + deldelg13sSym(G, gamma1,gamma2,alpha,kappa2,kappa1,beta) + \n",
    "                deldelg13sSym(G, gamma2,alpha,gamma1,kappa2,kappa1,beta))/3 - (\n",
    "                KroneckerDelta[gamma1,gamma2]*lapg13sSym(G, alpha, kappa2, kappa1, beta) + \n",
    "                KroneckerDelta[gamma2,alpha]*lapg13sSym(G, gamma1, kappa2, kappa1, beta) + \n",
    "                KroneckerDelta[alpha,gamma1]*lapg13sSym(G, gamma2, kappa2, kappa1, beta))/15\n",
    "\n",
    "def G3s3s(G, alpha,gamma1,gamma2,kappa2,kappa1,beta):\n",
    "    return b**4*(g3s3sSym(G, alpha,gamma1,gamma2,kappa2,kappa1,beta) + b**2/7*Laplacian(g3s3sSym(G, alpha,gamma1,gamma2,kappa2,kappa1,beta)))\n",
    "\n",
    "def G3a2s(G, Lambda, kappa2, kappa1, beta):\n",
    "    return -b**3/4*(diff(Curl(G, Lambda,beta), rij[kappa1], rij[kappa2]) + diff(Curl(G, Lambda,kappa1), rij[beta], rij[kappa2])\n",
    "                       + diff(Curl(G, kappa2,beta), rij[kappa1], rij[Lambda]) + diff(Curl(G, kappa2,kappa1), rij[beta], rij[Lambda]))\n",
    "\n",
    "\n",
    "def g3s2sSym(G, alpha,gamma1,gamma2, kappa1, beta):\n",
    "    return diff(g3s1Sym(G, alpha,gamma1,gamma2,beta), rij[kappa1]) + diff(g3s1Sym(G, alpha,gamma1,gamma2,kappa1), rij[beta])\n",
    "\n",
    "def G3s2s(G, alpha,gamma1,gamma2,kappa1,beta):\n",
    "    return -b**3/2*(g3s2sSym(G, alpha,gamma1,gamma2, kappa1, beta) + 6*b**2/35*Laplacian(g3s2sSym(G, alpha,gamma1,gamma2, kappa1, beta)))\n",
    "\n",
    "def G2a3a(G, Lambda, mu, nu2): # sign change -> eps(mu,nu1,beta)\n",
    "    return 2*b**3/3*diff(CurlCurl(G, Lambda, mu), rij[nu2])\n",
    "\n",
    "def G2a3s(G, Lambda,kappa2,kappa1,beta):\n",
    "    return b**3*gCurl3sSym(G, Lambda, kappa1, kappa2, beta)"
   ]
  },
  {
   "cell_type": "code",
   "execution_count": null,
   "id": "be500a7d-f49b-443a-9eae-2cc7d0516507",
   "metadata": {},
   "outputs": [],
   "source": []
  },
  {
   "cell_type": "code",
   "execution_count": null,
   "id": "91191ea5-2387-458e-8a6d-b627cf031c5e",
   "metadata": {},
   "outputs": [],
   "source": []
  },
  {
   "cell_type": "code",
   "execution_count": 199,
   "id": "0ace262b-0dbb-42c5-9b79-b6b24f67d3a6",
   "metadata": {},
   "outputs": [],
   "source": [
    "## test functional structure of G3s3s, then symmetry - still bad condition number? \n",
    "def testG3s3s(G, alpha, gamma1, gamma2, kappa2, kappa1, beta):\n",
    "    return deldeldeldelG(G, alpha, beta, gamma1, gamma2, kappa1, kappa2)"
   ]
  },
  {
   "cell_type": "code",
   "execution_count": 200,
   "id": "3dbff74b-6967-4b6e-a2ad-2179e11ae4c2",
   "metadata": {},
   "outputs": [],
   "source": [
    "n_jobs = 50"
   ]
  },
  {
   "cell_type": "code",
   "execution_count": 201,
   "id": "a1713028-ec70-4a3e-b73a-1107e314a0c8",
   "metadata": {},
   "outputs": [
    {
     "name": "stdout",
     "output_type": "stream",
     "text": [
      "testG3s3s done\n"
     ]
    }
   ],
   "source": [
    "with parallel_backend('multiprocessing'):\n",
    "    listtestG3s3s = Parallel(n_jobs=n_jobs)(\n",
    "        delayed(simpleG)(testG3s3s, 0, GF, ki, li, mi, kj, lj, mj) for ki in range(2) for li in range(ki,2) for mi in range(li,3)\n",
    "                                                                    for kj in range(2) for lj in range(kj,2) for mj in range(lj,3))\n",
    "    mattestG3s3s = 1/L**3 * Matrix(listtestG3s3s).reshape(7,7)\n",
    "    print('testG3s3s done')"
   ]
  },
  {
   "cell_type": "code",
   "execution_count": 202,
   "id": "e1f3e0da-5658-41c4-b90d-e367aa3cb86c",
   "metadata": {},
   "outputs": [
    {
     "data": {
      "text/latex": [
       "$\\displaystyle \\frac{4 \\pi^{2} \\left(- 81 L^{4} \\xi^{4} e^{\\frac{4 \\pi^{2}}{L^{2} \\xi^{2}}} - 128 L^{4} \\xi^{4} e^{\\frac{3 \\pi^{2}}{L^{2} \\xi^{2}}} - 36 L^{4} \\xi^{4} - 648 \\pi^{2} L^{2} \\xi^{2} e^{\\frac{4 \\pi^{2}}{L^{2} \\xi^{2}}} - 1152 \\pi^{2} L^{2} \\xi^{2} e^{\\frac{3 \\pi^{2}}{L^{2} \\xi^{2}}} - 432 \\pi^{2} L^{2} \\xi^{2} - 10368 \\pi^{4} e^{\\frac{4 \\pi^{2}}{L^{2} \\xi^{2}}} - 20736 \\pi^{4} e^{\\frac{3 \\pi^{2}}{L^{2} \\xi^{2}}} - 10368 \\pi^{4}\\right) e^{- \\frac{12 \\pi^{2}}{L^{2} \\xi^{2}}}}{81 L^{9} \\eta \\xi^{4}}$"
      ],
      "text/plain": [
       "4*pi**2*(-81*L**4*xi**4*exp(4*pi**2/(L**2*xi**2)) - 128*L**4*xi**4*exp(3*pi**2/(L**2*xi**2)) - 36*L**4*xi**4 - 648*pi**2*L**2*xi**2*exp(4*pi**2/(L**2*xi**2)) - 1152*pi**2*L**2*xi**2*exp(3*pi**2/(L**2*xi**2)) - 432*pi**2*L**2*xi**2 - 10368*pi**4*exp(4*pi**2/(L**2*xi**2)) - 20736*pi**4*exp(3*pi**2/(L**2*xi**2)) - 10368*pi**4)*exp(-12*pi**2/(L**2*xi**2))/(81*L**9*eta*xi**4)"
      ]
     },
     "execution_count": 202,
     "metadata": {},
     "output_type": "execute_result"
    }
   ],
   "source": [
    "sympy.simplify(mattestG3s3s[0,1])"
   ]
  },
  {
   "cell_type": "code",
   "execution_count": 203,
   "id": "09d5a1ba-1879-4b19-a794-74f68aa7cf13",
   "metadata": {},
   "outputs": [],
   "source": [
    "ME_file = \"testG3s3s.py\"\n",
    "dimH=7\n",
    "\n",
    "with open(ME_file, \"w\") as text_file:\n",
    "    print(\"import numpy\", file=text_file)\n",
    "    print(\"from math import *\", file=text_file)\n",
    "    print(\"PI = 3.14159265359\\n\", file=text_file)\n",
    "    \n",
    "    print(\"def testG3s3s(L, xi, b,eta):\\n    return numpy.array({})\\n\".format(np.reshape(np.asarray(mattestG3s3s),(dimH,dimH)).tolist()), file=text_file)\n",
    "    \n",
    "\n",
    "## replace things for easier usage with python     \n",
    "with open(ME_file, 'r') as file:\n",
    "    filedata = file.read()\n",
    "    \n",
    "filedata = filedata.replace('pi', 'PI')\n",
    "filedata = filedata.replace('sqrt', 'numpy.sqrt')\n",
    "\n",
    "with open(ME_file, 'w') as file:\n",
    "    file.write(filedata)"
   ]
  },
  {
   "cell_type": "code",
   "execution_count": 198,
   "id": "ed9c2e6e-7ea0-49f7-a360-029320de3147",
   "metadata": {},
   "outputs": [
    {
     "data": {
      "text/plain": [
       "[]"
      ]
     },
     "execution_count": 198,
     "metadata": {},
     "output_type": "execute_result"
    }
   ],
   "source": [
    "sympy.solve(mattestG3s3s[5,5].subs({xi:sqrt(pi)/L}), L)"
   ]
  },
  {
   "cell_type": "code",
   "execution_count": 188,
   "id": "e56b7f6e-2b1f-4a51-8c46-0053cda54279",
   "metadata": {},
   "outputs": [],
   "source": [
    "bla = sympy.solve(G3a3a(GF, 0,0,0 ,0).subs({xij:L, yij:L, zij:0, xi:sqrt(pi)/L, b:1}), L)"
   ]
  },
  {
   "cell_type": "code",
   "execution_count": 189,
   "id": "368e8c11-bdf3-425a-a8ff-535ef5c7e367",
   "metadata": {},
   "outputs": [
    {
     "data": {
      "text/plain": [
       "[]"
      ]
     },
     "execution_count": 189,
     "metadata": {},
     "output_type": "execute_result"
    }
   ],
   "source": [
    "bla"
   ]
  },
  {
   "cell_type": "code",
   "execution_count": 190,
   "id": "adeea635-a913-4e30-b9f2-803fe0116b70",
   "metadata": {},
   "outputs": [
    {
     "ename": "IndexError",
     "evalue": "list index out of range",
     "output_type": "error",
     "traceback": [
      "\u001b[0;31m---------------------------------------------------------------------------\u001b[0m",
      "\u001b[0;31mIndexError\u001b[0m                                Traceback (most recent call last)",
      "Input \u001b[0;32mIn [190]\u001b[0m, in \u001b[0;36m<module>\u001b[0;34m\u001b[0m\n\u001b[0;32m----> 1\u001b[0m \u001b[43mbla\u001b[49m\u001b[43m[\u001b[49m\u001b[38;5;241;43m1\u001b[39;49m\u001b[43m]\u001b[49m\u001b[38;5;241m.\u001b[39mevalf()\n",
      "\u001b[0;31mIndexError\u001b[0m: list index out of range"
     ]
    }
   ],
   "source": [
    "bla[1].evalf()"
   ]
  },
  {
   "cell_type": "code",
   "execution_count": 135,
   "id": "1f94654b-eef8-45ab-ad8e-c1f7393d1655",
   "metadata": {},
   "outputs": [],
   "source": [
    "bla = sympy.solve(Laplacian(GF(0, 0)).subs({xij:0, yij:0, zij:0, xi:sqrt(pi)/L, b:1}), L)"
   ]
  },
  {
   "cell_type": "code",
   "execution_count": 206,
   "id": "1c63e929-fc82-483d-816e-cce7bf86bb39",
   "metadata": {},
   "outputs": [
    {
     "data": {
      "text/latex": [
       "$\\displaystyle \\frac{8 \\pi^{2} \\left(- 9 L^{4} \\xi^{4} e^{\\frac{4 \\pi^{2}}{L^{2} \\xi^{2}}} - 16 L^{4} \\xi^{4} e^{\\frac{3 \\pi^{2}}{L^{2} \\xi^{2}}} - 6 L^{4} \\xi^{4} - 72 \\pi^{2} L^{2} \\xi^{2} e^{\\frac{4 \\pi^{2}}{L^{2} \\xi^{2}}} - 144 \\pi^{2} L^{2} \\xi^{2} e^{\\frac{3 \\pi^{2}}{L^{2} \\xi^{2}}} - 72 \\pi^{2} L^{2} \\xi^{2} - 1152 \\pi^{4} e^{\\frac{4 \\pi^{2}}{L^{2} \\xi^{2}}} - 2592 \\pi^{4} e^{\\frac{3 \\pi^{2}}{L^{2} \\xi^{2}}} - 1728 \\pi^{4}\\right) e^{- \\frac{12 \\pi^{2}}{L^{2} \\xi^{2}}}}{9 L^{9} \\eta \\xi^{4}}$"
      ],
      "text/plain": [
       "8*pi**2*(-9*L**4*xi**4*exp(4*pi**2/(L**2*xi**2)) - 16*L**4*xi**4*exp(3*pi**2/(L**2*xi**2)) - 6*L**4*xi**4 - 72*pi**2*L**2*xi**2*exp(4*pi**2/(L**2*xi**2)) - 144*pi**2*L**2*xi**2*exp(3*pi**2/(L**2*xi**2)) - 72*pi**2*L**2*xi**2 - 1152*pi**4*exp(4*pi**2/(L**2*xi**2)) - 2592*pi**4*exp(3*pi**2/(L**2*xi**2)) - 1728*pi**4)*exp(-12*pi**2/(L**2*xi**2))/(9*L**9*eta*xi**4)"
      ]
     },
     "execution_count": 206,
     "metadata": {},
     "output_type": "execute_result"
    }
   ],
   "source": [
    "sympy.simplify(mattestG3s3s[0,1] - mattestG3s3s[1,0])"
   ]
  },
  {
   "cell_type": "code",
   "execution_count": null,
   "id": "f0b7bf3b-a6c3-400d-aa36-1582b539d1f8",
   "metadata": {},
   "outputs": [],
   "source": []
  },
  {
   "cell_type": "code",
   "execution_count": null,
   "id": "25d6f660-070f-4933-a85e-335884d98a7f",
   "metadata": {},
   "outputs": [],
   "source": []
  },
  {
   "cell_type": "code",
   "execution_count": null,
   "id": "304b7aff-e62f-49e5-84db-760e546ef344",
   "metadata": {},
   "outputs": [],
   "source": []
  },
  {
   "cell_type": "code",
   "execution_count": 207,
   "id": "43861f04-b08f-4527-92be-5625e6be057d",
   "metadata": {},
   "outputs": [],
   "source": [
    "## zero elements\n",
    "def G3t1s(G, alpha,beta):\n",
    "    return S(0)\n",
    "\n",
    "def G3t2a(G, alpha,beta):\n",
    "    return S(0)\n",
    "\n",
    "def G3t2s(G, alpha, beta, kappa1):\n",
    "    return S(0)\n",
    "\n",
    "def G3t3t(G, alpha,beta):\n",
    "    return S(0)\n",
    "\n",
    "def G3t3a(G, alpha, beta, kappa1):\n",
    "    return S(0)\n",
    "\n",
    "def G3t3s(G, alpha, beta, kappa1, kappa2):\n",
    "    return S(0)\n",
    "\n",
    "def G2a3t(G, alpha,beta):\n",
    "    return S(0)\n",
    "\n",
    "def G3a3t(G, alpha, gamma1, beta):\n",
    "    return S(0)"
   ]
  },
  {
   "cell_type": "markdown",
   "id": "0d56d59c-321b-406d-9f8b-07c23e86f658",
   "metadata": {},
   "source": [
    "## Matrix assembly"
   ]
  },
  {
   "cell_type": "code",
   "execution_count": 208,
   "id": "43048d45-0253-4f32-8fdd-52a21b37b5ec",
   "metadata": {},
   "outputs": [],
   "source": [
    "## simplify elements in parallel\n",
    "## subs: substitute corresponding replacement for xij\n",
    "## simplify: otherwise expressions too large, eg GR3s3s is 70 MB file\n",
    "## .expand(power_exp=True): otherwise large exponentials --> infty when eval numerically\n",
    "## powdenest: otherwise large powers of L --> infty when eval numerically \n",
    "def simpleG(G, rpl, *args): ## which matrix element, replacement (0 or L), arguments of matrix element\n",
    "    return sympy.powdenest(sympy.simplify(G(*args).subs({xij:rpl, yij:rpl, zij:rpl})).expand(power_exp=True), force=True) "
   ]
  },
  {
   "cell_type": "code",
   "execution_count": 209,
   "id": "b9001f88-892b-4e60-aecd-8698a60aed9b",
   "metadata": {},
   "outputs": [],
   "source": [
    "n_jobs = 50  ## symEngine only parallelises with multiprocessing backend"
   ]
  },
  {
   "cell_type": "code",
   "execution_count": 210,
   "id": "baa1f218-ffcc-483a-af39-d298d1f527b7",
   "metadata": {},
   "outputs": [],
   "source": [
    "modes = ['1s', '2a', '2s', '3t', '3a', '3s']\n",
    "modesV = ['2s', '3t'] ##possible slip modes, for double-layer matrix elements\n",
    "SLDL  = ['G']#, 'K']\n",
    "dim   = {'1s':3, '2a':3, '2s':5, '3t':3, '3a':5, '3s':7}"
   ]
  },
  {
   "cell_type": "markdown",
   "id": "60883437-81ef-471e-9703-055bcb1642a8",
   "metadata": {},
   "source": [
    "### 1) Fourier part of Green's function"
   ]
  },
  {
   "cell_type": "code",
   "execution_count": 211,
   "id": "0e93ccc3-c539-4c85-b3a4-5d3a7e71b488",
   "metadata": {},
   "outputs": [
    {
     "name": "stdout",
     "output_type": "stream",
     "text": [
      "G1s1s done\n",
      "G1s2a done\n",
      "G1s2s done\n",
      "G1s3t done\n",
      "G1s3a done\n",
      "G1s3s done\n",
      "G2a1s done\n",
      "G2a2a done\n",
      "G2a2s done\n",
      "G2a3t done\n",
      "G2a3a done\n",
      "G2a3s done\n",
      "G2s1s done\n",
      "G2s2a done\n",
      "G2s2s done\n",
      "G2s3t done\n",
      "G2s3a done\n",
      "G2s3s done\n",
      "G3t1s done\n",
      "G3t2a done\n",
      "G3t2s done\n",
      "G3t3t done\n",
      "G3t3a done\n",
      "G3t3s done\n",
      "G3a1s done\n",
      "G3a2a done\n",
      "G3a2s done\n",
      "G3a3t done\n",
      "G3a3a done\n",
      "G3a3s done\n",
      "G3s1s done\n",
      "G3s2a done\n",
      "G3s2s done\n",
      "G3s3t done\n",
      "G3s3a done\n",
      "G3s3s done\n",
      "CPU times: user 17.6 s, sys: 14 s, total: 31.6 s\n",
      "Wall time: 1min 23s\n"
     ]
    }
   ],
   "source": [
    "%%time\n",
    "sldl = 'G' # single-layer\n",
    "GRF = 'GF' # Fourier space part of Green's function\n",
    "rpl = 0    # what are xij, yij, zij replaced with? rpl = replacement\n",
    "with parallel_backend('multiprocessing'):\n",
    "    for mode1 in modes:\n",
    "        for mode2 in modes:\n",
    "            if mode1 in ['1s', '2a']:\n",
    "                if mode2 in ['1s', '2a', '3t']:\n",
    "                    globals()['list'+GRF+mode1+mode2] = Parallel(n_jobs=n_jobs)(\n",
    "                        delayed(simpleG)(globals()[sldl+mode1+mode2], rpl, globals()[GRF], ki, kj) for ki in range(3) \n",
    "                                                                                                        for kj in range(3))\n",
    "                    globals()['mat'+GRF+mode1+mode2] = Matrix(globals()['list'+GRF+mode1+mode2]).reshape(dim[mode1],dim[mode2])\n",
    "                    print(sldl+mode1+mode2+' done')\n",
    "\n",
    "                elif mode2 in ['2s', '3a']:                ## GLH needs symmetry factors\n",
    "                    globals()['list'+GRF+mode1+mode2] = Parallel(n_jobs=n_jobs)(\n",
    "                        delayed(simpleG)(globals()[sldl+mode1+mode2], rpl, globals()[GRF], ki, kj, lj) for ki in range(3)\n",
    "                                                                                                            for kj in range(2)\n",
    "                                                                                                                for lj in range(kj,3))\n",
    "                    globals()['mat'+GRF+mode1+mode2] = Matrix(globals()['list'+GRF+mode1+mode2]).reshape(dim[mode1],dim[mode2])\n",
    "                    print(sldl+mode1+mode2+' done')\n",
    "\n",
    "                elif mode2 =='3s':\n",
    "                    globals()['list'+GRF+mode1+mode2] = Parallel(n_jobs=n_jobs)(\n",
    "                        delayed(simpleG)(globals()[sldl+mode1+mode2], rpl, globals()[GRF], ki, kj, lj, mj) for ki in range(3)\n",
    "                                                                                                                for kj in range(2)\n",
    "                                                                                                                    for lj in range(kj,2)\n",
    "                                                                                                                        for mj in range(lj,3))\n",
    "                    globals()['mat'+GRF+mode1+mode2] = Matrix(globals()['list'+GRF+mode1+mode2]).reshape(dim[mode1],dim[mode2])\n",
    "                    print(sldl+mode1+mode2+' done')\n",
    "\n",
    "\n",
    "\n",
    "            elif mode1 == '3t':\n",
    "                if mode2 in ['1s', '2a', '3t']:\n",
    "                    globals()['list'+GRF+mode1+mode2] = Parallel(n_jobs=n_jobs)(\n",
    "                        delayed(simpleG)(globals()[sldl+mode1+mode2], rpl, globals()[GRF], ki, kj) for ki in range(3) \n",
    "                                                                                                        for kj in range(3))\n",
    "                    globals()['mat'+GRF+mode1+mode2] = Matrix(globals()['list'+GRF+mode1+mode2]).reshape(dim[mode1],dim[mode2])\n",
    "                    print(sldl+mode1+mode2+' done')\n",
    "\n",
    "                elif mode2 in ['2s', '3a']:\n",
    "                    globals()['list'+GRF+mode1+mode2] = Parallel(n_jobs=n_jobs)(\n",
    "                        delayed(simpleG)(globals()[sldl+mode1+mode2], rpl, globals()[GRF], ki, kj, lj) for ki in range(3)\n",
    "                                                                                                            for kj in range(2)\n",
    "                                                                                                                for lj in range(kj,3))\n",
    "                    globals()['mat'+GRF+mode1+mode2] = Matrix(globals()['list'+GRF+mode1+mode2]).reshape(dim[mode1],dim[mode2])\n",
    "                    print(sldl+mode1+mode2+' done')\n",
    "\n",
    "                elif mode2 =='3s':\n",
    "                    globals()['list'+GRF+mode1+mode2] = Parallel(n_jobs=n_jobs)(\n",
    "                        delayed(simpleG)(globals()[sldl+mode1+mode2], rpl, globals()[GRF], ki, kj, lj, mj) for ki in range(3)\n",
    "                                                                                                                for kj in range(2)\n",
    "                                                                                                                    for lj in range(kj,2)\n",
    "                                                                                                                        for mj in range(lj,3))\n",
    "                    globals()['mat'+GRF+mode1+mode2] = Matrix(globals()['list'+GRF+mode1+mode2]).reshape(dim[mode1],dim[mode2])\n",
    "                    print(sldl+mode1+mode2+' done')\n",
    "\n",
    "\n",
    "\n",
    "            elif mode1 in ['2s', '3a']:\n",
    "                if mode2 in ['1s', '2a', '3t']:\n",
    "                    globals()['list'+GRF+mode1+mode2] = Parallel(n_jobs=n_jobs)(\n",
    "                        delayed(simpleG)(globals()[sldl+mode1+mode2], rpl, globals()[GRF], ki, li, kj) for ki in range(2) \n",
    "                                                                                                            for li in range(ki,3)\n",
    "                                                                                                                for kj in range(3))\n",
    "                    globals()['mat'+GRF+mode1+mode2] = Matrix(globals()['list'+GRF+mode1+mode2]).reshape(dim[mode1],dim[mode2])\n",
    "                    print(sldl+mode1+mode2+' done')\n",
    "\n",
    "                elif mode2 in ['2s', '3a']:\n",
    "                    globals()['list'+GRF+mode1+mode2] = Parallel(n_jobs=n_jobs)(\n",
    "                        delayed(simpleG)(globals()[sldl+mode1+mode2], rpl, globals()[GRF], ki, li, kj, lj) for ki in range(2)\n",
    "                                                                                                                for li in range(ki,3)\n",
    "                                                                                                                    for kj in range(2)\n",
    "                                                                                                                        for lj in range(kj,3))\n",
    "                    globals()['mat'+GRF+mode1+mode2] = Matrix(globals()['list'+GRF+mode1+mode2]).reshape(dim[mode1],dim[mode2])\n",
    "                    print(sldl+mode1+mode2+' done')\n",
    "\n",
    "                elif mode2 =='3s':\n",
    "                    globals()['list'+GRF+mode1+mode2] = Parallel(n_jobs=n_jobs)(\n",
    "                        delayed(simpleG)(globals()[sldl+mode1+mode2], rpl, globals()[GRF], ki, li, kj, lj, mj) for ki in range(2)\n",
    "                                                                                                                    for li in range(ki,3)\n",
    "                                                                                                                        for kj in range(2)\n",
    "                                                                                                                            for lj in range(kj,2)\n",
    "                                                                                                                                for mj in range(lj,3))\n",
    "                    globals()['mat'+GRF+mode1+mode2] = Matrix(globals()['list'+GRF+mode1+mode2]).reshape(dim[mode1],dim[mode2])\n",
    "                    print(sldl+mode1+mode2+' done')\n",
    "\n",
    "\n",
    "\n",
    "            elif mode1 == '3s':\n",
    "                if mode2 in ['1s', '2a', '3t']:\n",
    "                    globals()['list'+GRF+mode1+mode2] = Parallel(n_jobs=n_jobs)(\n",
    "                        delayed(simpleG)(globals()[sldl+mode1+mode2], rpl, globals()[GRF], ki, li, mi, kj) for ki in range(2) \n",
    "                                                                                                                for li in range(ki,2)\n",
    "                                                                                                                    for mi in range(li,3)\n",
    "                                                                                                                        for kj in range(3))\n",
    "                    globals()['mat'+GRF+mode1+mode2] = Matrix(globals()['list'+GRF+mode1+mode2]).reshape(dim[mode1],dim[mode2])\n",
    "                    print(sldl+mode1+mode2+' done')\n",
    "\n",
    "                elif mode2 in ['2s', '3a']:\n",
    "                    globals()['list'+GRF+mode1+mode2] = Parallel(n_jobs=n_jobs)(\n",
    "                        delayed(simpleG)(globals()[sldl+mode1+mode2], rpl, globals()[GRF], ki, li, mi, kj, lj) for ki in range(2)\n",
    "                                                                                                                    for li in range(ki,2)\n",
    "                                                                                                                        for mi in range(li,3)\n",
    "                                                                                                                            for kj in range(2)\n",
    "                                                                                                                                for lj in range(kj,3))\n",
    "                    globals()['mat'+GRF+mode1+mode2] = Matrix(globals()['list'+GRF+mode1+mode2]).reshape(dim[mode1],dim[mode2])\n",
    "                    print(sldl+mode1+mode2+' done')\n",
    "\n",
    "                elif mode2 =='3s':\n",
    "                    globals()['list'+GRF+mode1+mode2] = Parallel(n_jobs=n_jobs)(\n",
    "                        delayed(simpleG)(globals()[sldl+mode1+mode2], rpl, globals()[GRF], ki, li, mi, kj, lj, mj) for ki in range(2)\n",
    "                                                                                                                        for li in range(ki,2)\n",
    "                                                                                                                            for mi in range(li,3)\n",
    "                                                                                                                                for kj in range(2)\n",
    "                                                                                                                                    for lj in range(kj,2)\n",
    "                                                                                                                                        for mj in range(lj,3))\n",
    "                    globals()['mat'+GRF+mode1+mode2] = Matrix(globals()['list'+GRF+mode1+mode2]).reshape(dim[mode1],dim[mode2])\n",
    "                    print(sldl+mode1+mode2+' done')"
   ]
  },
  {
   "cell_type": "markdown",
   "id": "042f39cf-689e-4a64-b28d-400aff284e34",
   "metadata": {},
   "source": [
    "### 3) add Green's functions"
   ]
  },
  {
   "cell_type": "code",
   "execution_count": 212,
   "id": "d0e399d2-9cea-4cf2-aa6e-a671c0cf9fef",
   "metadata": {},
   "outputs": [
    {
     "name": "stdout",
     "output_type": "stream",
     "text": [
      "G1s1s done\n",
      "G1s2a done\n",
      "G1s2s done\n",
      "G1s3t done\n",
      "G1s3a done\n",
      "G1s3s done\n",
      "G2a1s done\n",
      "G2a2a done\n",
      "G2a2s done\n",
      "G2a3t done\n",
      "G2a3a done\n",
      "G2a3s done\n",
      "G2s1s done\n",
      "G2s2a done\n",
      "G2s2s done\n",
      "G2s3t done\n",
      "G2s3a done\n",
      "G2s3s done\n",
      "G3t1s done\n",
      "G3t2a done\n",
      "G3t2s done\n",
      "G3t3t done\n",
      "G3t3a done\n",
      "G3t3s done\n",
      "G3a1s done\n",
      "G3a2a done\n",
      "G3a2s done\n",
      "G3a3t done\n",
      "G3a3a done\n",
      "G3a3s done\n",
      "G3s1s done\n",
      "G3s2a done\n",
      "G3s2s done\n",
      "G3s3t done\n",
      "G3s3a done\n",
      "G3s3s done\n"
     ]
    }
   ],
   "source": [
    "for mode1 in modes:\n",
    "    for mode2 in modes:\n",
    "        #globals()['mat'+sldl+mode1+mode2] = 1/(8*pi*eta) * globals()['matGR'+mode1+mode2] + 1/L**3 * globals()['matGF'+mode1+mode2]\n",
    "        globals()['mat'+sldl+mode1+mode2] = 1/L**3 * globals()['matGF'+mode1+mode2] ## Fourier space Green's function only\n",
    "        print(sldl+mode1+mode2+' done')"
   ]
  },
  {
   "cell_type": "markdown",
   "id": "c9e1cdc0-c47d-4eba-a13c-11fda5299d61",
   "metadata": {},
   "source": [
    "### Create double-layer matrices"
   ]
  },
  {
   "cell_type": "code",
   "execution_count": 213,
   "id": "c620b035-d8d7-4e9b-a543-024c2e388afa",
   "metadata": {},
   "outputs": [
    {
     "name": "stdout",
     "output_type": "stream",
     "text": [
      "K1s2s done\n",
      "K1s3t done\n",
      "K2a2s done\n",
      "K2a3t done\n",
      "K2s2s done\n",
      "K2s3t done\n",
      "K3t2s done\n",
      "K3t3t done\n",
      "K3a2s done\n",
      "K3a3t done\n",
      "K3s2s done\n",
      "K3s3t done\n"
     ]
    }
   ],
   "source": [
    "for mode1 in modes:\n",
    "    for mode2 in modesV:\n",
    "        if mode2 == '2s':\n",
    "            globals()['matK'+mode1+mode2] = 8*pi*eta*b/3 * globals()['matG'+mode1+mode2]\n",
    "            print('K'+mode1+mode2+' done')\n",
    "            \n",
    "        elif mode2 == '3t':\n",
    "            globals()['matK'+mode1+mode2] = 6*pi*eta*b/5 * globals()['matG'+mode1+mode2]\n",
    "            print('K'+mode1+mode2+' done')"
   ]
  },
  {
   "cell_type": "code",
   "execution_count": 214,
   "id": "0c4a84e5-e8c5-4f4a-af04-8c224db44b2c",
   "metadata": {},
   "outputs": [],
   "source": [
    "## save all G's and K's to files, and re-load into a different sympy file for simplification over parallel modes ? Nope\n",
    "## does not need to be fast at the moment, just save them all as usual and use for one time-step"
   ]
  },
  {
   "cell_type": "code",
   "execution_count": 215,
   "id": "b52e3737-3f9a-4825-b630-acf08fbc7371",
   "metadata": {},
   "outputs": [],
   "source": [
    "#text_file = open(\"matrixElements/G3s3s.txt\", \"w\")\n",
    "#nn = text_file.write(str(matG3s3s))\n",
    "#text_file.close()\n",
    "#nn ##that's a 70MB file lol"
   ]
  },
  {
   "cell_type": "markdown",
   "id": "ff3fb24d-60e2-42c1-9c92-dbef259422c2",
   "metadata": {},
   "source": [
    "### Delta tensors"
   ]
  },
  {
   "cell_type": "code",
   "execution_count": 216,
   "id": "8951987a-c32b-4ed6-bf43-91b6a256edf6",
   "metadata": {},
   "outputs": [],
   "source": [
    "## Delta tensors as 'identity' matrices\n",
    "def Delta1(alpha, beta):\n",
    "    return KroneckerDelta[alpha,beta]\n",
    "\n",
    "def Delta2(alpha, gamma1, beta, kappa1):\n",
    "    return (KroneckerDelta[alpha,beta]*KroneckerDelta[gamma1,kappa1]/2\n",
    "            + KroneckerDelta[alpha,kappa1]*KroneckerDelta[gamma1,beta]/2\n",
    "            -KroneckerDelta[alpha,gamma1]*KroneckerDelta[beta,kappa1]/3)\n",
    "\n",
    "def Delta3(alpha, gamma1, gamma2, beta, kappa1, kappa2):\n",
    "    return (KroneckerDelta[alpha,beta]*KroneckerDelta[gamma1,kappa1]*KroneckerDelta[gamma2,kappa2] \n",
    "                + KroneckerDelta[alpha,beta]*KroneckerDelta[gamma1,kappa2]*KroneckerDelta[gamma2,kappa1] \n",
    "                + KroneckerDelta[alpha,kappa1]*KroneckerDelta[gamma1,beta]*KroneckerDelta[gamma2,kappa2] \n",
    "                + KroneckerDelta[alpha,kappa1]*KroneckerDelta[gamma1,kappa2]*KroneckerDelta[gamma2,beta] \n",
    "                + KroneckerDelta[alpha,kappa2]*KroneckerDelta[gamma1,beta]*KroneckerDelta[gamma2,kappa1]\n",
    "                + KroneckerDelta[alpha,kappa2]*KroneckerDelta[gamma1,kappa1]*KroneckerDelta[gamma2,beta])/6 - (\n",
    "        (KroneckerDelta[beta,kappa1]*KroneckerDelta[gamma2,kappa2] + KroneckerDelta[beta,kappa2]*KroneckerDelta[gamma2,kappa1]\n",
    "         + KroneckerDelta[kappa1,kappa2]*KroneckerDelta[gamma2,beta])*KroneckerDelta[alpha,gamma1]\n",
    "        +(KroneckerDelta[beta,kappa1]*KroneckerDelta[alpha,kappa2] + KroneckerDelta[beta,kappa2]*KroneckerDelta[alpha,kappa1]\n",
    "          + KroneckerDelta[kappa1,kappa2]*KroneckerDelta[alpha,beta])*KroneckerDelta[gamma1,gamma2]\n",
    "        +(KroneckerDelta[beta,kappa1]*KroneckerDelta[gamma1,kappa2] + KroneckerDelta[beta,kappa2]*KroneckerDelta[gamma1,kappa1]\n",
    "          + KroneckerDelta[kappa1,kappa2]*KroneckerDelta[gamma1,beta])*KroneckerDelta[alpha,gamma2])/15"
   ]
  },
  {
   "cell_type": "code",
   "execution_count": 217,
   "id": "ba6d4600-e2ae-448d-b7a0-fcff4dbdc39f",
   "metadata": {},
   "outputs": [],
   "source": [
    "n_jobs = 1\n",
    "\n",
    "with parallel_backend('multiprocessing'):\n",
    "    listDelta1 = Parallel(n_jobs=n_jobs)(delayed(Delta1)(ki,kj) for ki in range(3)\n",
    "                                                                     for kj in range(3))\n",
    "matDelta1   = sympy.Matrix(listDelta1).reshape(3,3)\n",
    "\n",
    "##\n",
    "with parallel_backend('multiprocessing'):\n",
    "    listDelta2 = Parallel(n_jobs=n_jobs)(delayed(Delta2)(ki,li, kj,lj) for ki in range(2)\n",
    "                                                                            for li in range(ki,3)\n",
    "                                                                                for kj in range(2)\n",
    "                                                                                  for lj in range(kj,3))\n",
    "matDelta2   = sympy.Matrix(listDelta2).reshape(5,5)\n",
    "\n",
    "##\n",
    "with parallel_backend('multiprocessing'):\n",
    "    listDelta3 = Parallel(n_jobs=n_jobs)(delayed(Delta3)(ki,li,mi, kj,lj,mj) for ki in range(2)\n",
    "                                                                                for li in range(ki,2)\n",
    "                                                                                    for mi in range(li,3)\n",
    "                                                                                        for kj in range(2)\n",
    "                                                                                            for lj in range(kj,2)\n",
    "                                                                                                for mj in range(lj,3))\n",
    "matDelta3   = sympy.Matrix(listDelta3).reshape(7,7)"
   ]
  },
  {
   "cell_type": "markdown",
   "id": "324b1d85-97b1-410a-b7bb-85b1eaa4f3bc",
   "metadata": {},
   "source": [
    "### Vectors"
   ]
  },
  {
   "cell_type": "code",
   "execution_count": 218,
   "id": "80957cb3-7b04-40a0-8734-beaf81f16a36",
   "metadata": {},
   "outputs": [],
   "source": [
    "## In python code will be force[i,0], so have to create force as np.zeros([3*Np,1]) object instead of np.zeros([3*Np])\n",
    "force  = sympy.Matrix(sympy.MatrixSymbol('force',3,1)) ##create an actual Matrix from it, have to pass to 'Matrix' \n",
    "torque = sympy.Matrix(sympy.MatrixSymbol('torque',3,1))\n",
    "VH     = sympy.Matrix(sympy.BlockDiagMatrix(matDelta2.inv(), matDelta1.inv(), matDelta2.inv(), matDelta3.inv()))*sympy.Matrix(sympy.MatrixSymbol('VH',20,1))\n",
    "FH     = sympy.Matrix(sympy.BlockDiagMatrix(matDelta2.inv(), matDelta1.inv(), matDelta2.inv(), matDelta3.inv()))*sympy.Matrix(sympy.MatrixSymbol('FH',20,1))"
   ]
  },
  {
   "cell_type": "code",
   "execution_count": 219,
   "id": "b0c05736-db81-4904-9e4d-2f750095ba7c",
   "metadata": {},
   "outputs": [
    {
     "data": {
      "text/latex": [
       "$\\displaystyle \\left[\\begin{array}{c}2 FH_{0, 0} + FH_{3, 0}\\\\2 FH_{1, 0}\\\\2 FH_{2, 0}\\\\FH_{0, 0} + 2 FH_{3, 0}\\\\2 FH_{4, 0}\\\\FH_{5, 0}\\\\FH_{6, 0}\\\\FH_{7, 0}\\\\2 FH_{8, 0} + FH_{11, 0}\\\\2 FH_{9, 0}\\\\2 FH_{10, 0}\\\\FH_{8, 0} + 2 FH_{11, 0}\\\\2 FH_{12, 0}\\\\4 FH_{13, 0} + 3 FH_{16, 0}\\\\6 FH_{14, 0} + 3 FH_{18, 0}\\\\4 FH_{15, 0} + FH_{19, 0}\\\\3 FH_{13, 0} + 6 FH_{16, 0}\\\\6 FH_{17, 0}\\\\3 FH_{14, 0} + 4 FH_{18, 0}\\\\FH_{15, 0} + 4 FH_{19, 0}\\end{array}\\right]$"
      ],
      "text/plain": [
       "Matrix([\n",
       "[    2*FH[0, 0] + FH[3, 0]],\n",
       "[               2*FH[1, 0]],\n",
       "[               2*FH[2, 0]],\n",
       "[    FH[0, 0] + 2*FH[3, 0]],\n",
       "[               2*FH[4, 0]],\n",
       "[                 FH[5, 0]],\n",
       "[                 FH[6, 0]],\n",
       "[                 FH[7, 0]],\n",
       "[   2*FH[8, 0] + FH[11, 0]],\n",
       "[               2*FH[9, 0]],\n",
       "[              2*FH[10, 0]],\n",
       "[   FH[8, 0] + 2*FH[11, 0]],\n",
       "[              2*FH[12, 0]],\n",
       "[4*FH[13, 0] + 3*FH[16, 0]],\n",
       "[6*FH[14, 0] + 3*FH[18, 0]],\n",
       "[  4*FH[15, 0] + FH[19, 0]],\n",
       "[3*FH[13, 0] + 6*FH[16, 0]],\n",
       "[              6*FH[17, 0]],\n",
       "[3*FH[14, 0] + 4*FH[18, 0]],\n",
       "[  FH[15, 0] + 4*FH[19, 0]]])"
      ]
     },
     "execution_count": 219,
     "metadata": {},
     "output_type": "execute_result"
    }
   ],
   "source": [
    "FH"
   ]
  },
  {
   "cell_type": "markdown",
   "id": "207c73a4-7c07-47b0-8d91-b04a2686316e",
   "metadata": {},
   "source": [
    "### Create block matrices and multiply them with vectors"
   ]
  },
  {
   "cell_type": "code",
   "execution_count": 220,
   "id": "7faf5658-7d64-4f9c-8a81-5ccd1d5d88cb",
   "metadata": {},
   "outputs": [],
   "source": [
    "matG1sH = sympy.Matrix(sympy.BlockMatrix([sympy.Matrix(matG1s2s), sympy.Matrix(matG1s3t), sympy.Matrix(matG1s3a), sympy.Matrix(matG1s3s)]))\n",
    "matG2aH = sympy.Matrix(sympy.BlockMatrix([sympy.Matrix(matG2a2s), sympy.Matrix(matG2a3t), sympy.Matrix(matG2a3a), sympy.Matrix(matG2a3s)]))\n",
    "\n",
    "matK1sH = sympy.Matrix(sympy.BlockMatrix([sympy.Matrix(matK1s2s), sympy.Matrix(matK1s3t), sympy.Matrix(sympy.ZeroMatrix(3,12))]))\n",
    "matK2aH = sympy.Matrix(sympy.BlockMatrix([sympy.Matrix(matK2a2s), sympy.Matrix(matK2a3t), sympy.Matrix(sympy.ZeroMatrix(3,12))]))\n",
    "\n",
    "matGH1s = sympy.Matrix(sympy.BlockMatrix([[sympy.Matrix(matG2s1s)],\n",
    "                              [sympy.Matrix(matG3t1s)],\n",
    "                              [sympy.Matrix(matG3a1s)],\n",
    "                              [sympy.Matrix(matG3s1s)]]))\n",
    "matGH2a = sympy.Matrix(sympy.BlockMatrix([[sympy.Matrix(matG2s2a)],\n",
    "                              [sympy.Matrix(matG3t2a)],\n",
    "                              [sympy.Matrix(matG3a2a)],\n",
    "                              [sympy.Matrix(matG3s2a)]]))\n",
    "\n",
    "matGHH = sympy.Matrix(sympy.BlockMatrix([[sympy.Matrix(matG2s2s), sympy.Matrix(matG2s3t), sympy.Matrix(matG2s3a), sympy.Matrix(matG2s3s)],\n",
    "                             [sympy.Matrix(matG3t2s), sympy.Matrix(matG3t3t), sympy.Matrix(matG3t3a), sympy.Matrix(matG3t3s)],\n",
    "                             [sympy.Matrix(matG3a2s), sympy.Matrix(matG3a3t), sympy.Matrix(matG3a3a), sympy.Matrix(matG3a3s)],\n",
    "                             [sympy.Matrix(matG3s2s), sympy.Matrix(matG3s3t), sympy.Matrix(matG3s3a), sympy.Matrix(matG3s3s)]]))\n",
    "\n",
    "matKHH_nonzero = sympy.Matrix(sympy.BlockMatrix([[sympy.Matrix(matK2s2s), sympy.Matrix(matK2s3t)],\n",
    "                                     [sympy.Matrix(matK3t2s), sympy.Matrix(matK3t3t)],\n",
    "                                     [sympy.Matrix(matK3a2s), sympy.Matrix(matK3a3t)],\n",
    "                                     [sympy.Matrix(matK3s2s), sympy.Matrix(matK3s3t)]]))\n",
    "matKHH = sympy.Matrix(sympy.BlockMatrix([matKHH_nonzero, sympy.Matrix(sympy.ZeroMatrix(20,12))]))\n",
    "\n",
    "# self-interaction\n",
    "\n",
    "g2s = 3/(20*pi*eta*b)\n",
    "g3t = 1/(2*pi*eta*b)\n",
    "g3a = 3/(2*pi*eta*b)\n",
    "g3s = 6/(7*pi*eta*b)\n",
    "\n",
    "matGoHH = sympy.Matrix(sympy.BlockDiagMatrix(g2s*matDelta2,\n",
    "                                             g3t*matDelta1,\n",
    "                                             g3a*matDelta2,\n",
    "                                             g3s*matDelta3))\n",
    "\n",
    "\n",
    "halfMinusk2s = S(3)/5 #0.6\n",
    "halfMinusk3t = S(2)/5 #0.4\n",
    "halfMinusk3a = S(4)/5 #0.8\n",
    "halfMinusk3s = S(19)/35\n",
    "\n",
    "matKoHH = sympy.Matrix(sympy.BlockDiagMatrix(halfMinusk2s*matDelta2,\n",
    "                                             halfMinusk3t*matDelta1,\n",
    "                                             halfMinusk3a*matDelta2,\n",
    "                                             halfMinusk3s*matDelta3))"
   ]
  },
  {
   "cell_type": "code",
   "execution_count": null,
   "id": "6e5622ba-4b7f-4488-b434-d49beb039edf",
   "metadata": {},
   "outputs": [],
   "source": []
  },
  {
   "cell_type": "code",
   "execution_count": 221,
   "id": "e5d70164-e97a-4214-bfc7-643505a63221",
   "metadata": {},
   "outputs": [],
   "source": [
    "## a) can ignore ls symmetries, multiply by (full) Delta tensors and then pick unique elements\n",
    "## b) return matrices as sympy.Matrix, instead of Matrix. "
   ]
  },
  {
   "cell_type": "code",
   "execution_count": 222,
   "id": "4463d7ad-488b-4fb4-a2fd-26b40adea80b",
   "metadata": {},
   "outputs": [],
   "source": [
    "vecGH1sF = matGH1s*force\n",
    "vecGH2aT = matGH2a*torque\n",
    "\n",
    "vecKoHHVH = matKoHH*VH\n",
    "vecKHHVH = matKHH*VH\n",
    "\n",
    "vecGoHHFH = matGoHH*FH\n",
    "vecGHHFH = matGHH*FH\n",
    "\n",
    "vecG1s1sF = sympy.Matrix(matG1s1s)*force\n",
    "vecG2a1sF = sympy.Matrix(matG2a1s)*force\n",
    "\n",
    "vecG1s2aT = sympy.Matrix(matG1s2a)*torque\n",
    "vecG2a2aT = sympy.Matrix(matG2a2a)*torque\n",
    "\n",
    "vecG1sHFH = matG1sH*FH\n",
    "vecG2aHFH = matG2aH*FH\n",
    "\n",
    "vecK1sHVH = matK1sH*VH\n",
    "vecK2aHVH = matK2aH*VH"
   ]
  },
  {
   "cell_type": "markdown",
   "id": "640a0b9d-2fe0-4d4c-bc0f-e46e1cda0c49",
   "metadata": {},
   "source": [
    "_____________\n",
    "\n",
    "### Write symbolic results to file as reusable python functions"
   ]
  },
  {
   "cell_type": "code",
   "execution_count": 223,
   "id": "f7771e9c-af50-4320-a2ea-5b79c981c930",
   "metadata": {},
   "outputs": [],
   "source": [
    "ME_file = \"periodic_\"+str(Nb)+\"_\"+str(Nm)+\"_old.py\"\n",
    "dimH = 20\n",
    "\n",
    "with open(ME_file, \"w\") as text_file:\n",
    "    print(\"import numpy as np\", file=text_file)\n",
    "    print(\"from math import *\", file=text_file)\n",
    "    print(\"PI = 3.14159265359\\n\", file=text_file)\n",
    "    \n",
    "    print(\"def G1s1sF(v, L, xi, b,eta, force):\", file=text_file)\n",
    "    print(\"    v += np.array({})\".format(np.reshape(np.asarray(vecG1s1sF),(3,)).tolist()), file=text_file) ##cannot mulitply list by 0.5/b \n",
    "    print(\"    return\\n\", file=text_file)\n",
    "    \n",
    "    print(\"def G2a1sF(o, L, xi, b,eta, force):\", file=text_file)\n",
    "    print(\"    o += 0.5/b*np.array({})\".format(np.reshape(np.asarray(vecG2a1sF),(3,)).tolist()), file=text_file)\n",
    "    print(\"    return\\n\", file=text_file)\n",
    "    \n",
    "    print(\"def G1s2aT(v, L, xi, b,eta, torque):\", file=text_file)\n",
    "    print(\"    v += 1./b*np.array({})\".format(np.reshape(np.asarray(vecG1s2aT),(3,)).tolist()), file=text_file)\n",
    "    print(\"    return\\n\", file=text_file)\n",
    "    \n",
    "    print(\"def G2a2aT(o, L, xi, b,eta, torque):\", file=text_file)\n",
    "    print(\"    o += 0.5/(b*b)*np.array({})\".format(np.reshape(np.asarray(vecG2a2aT),(3,)).tolist()), file=text_file)\n",
    "    print(\"    return\\n\", file=text_file)\n",
    "    \n",
    "    print(\"def GH1sF(gh1sf, L, xi, b,eta, force):\", file=text_file)\n",
    "    print(\"    gh1sf[:] += {}\".format(np.reshape(np.asarray(vecGH1sF),(dimH,)).tolist()), file=text_file)\n",
    "    print(\"    return\\n\", file=text_file)\n",
    "    \n",
    "    print(\"def GH2aT(gh2at, L, xi, b,eta, torque):\", file=text_file)\n",
    "    print(\"    gh2at[:] += {}\".format(np.reshape(np.asarray(vecGH2aT),(dimH,)).tolist()), file=text_file)\n",
    "    print(\"    return\\n\", file=text_file)\n",
    "    \n",
    "    print(\"def KoHHVH(khhvh, b,eta, VH):\", file=text_file)\n",
    "    print(\"    khhvh[:] -= {}\".format(np.reshape(np.asarray(vecKoHHVH),(dimH,)).tolist()), file=text_file)\n",
    "    print(\"    return\\n\", file=text_file)\n",
    "    \n",
    "    print(\"def KHHVH(khhvh, L, xi, b,eta, VH):\", file=text_file)\n",
    "    print(\"    khhvh[:] += {}\".format(np.reshape(np.asarray(vecKHHVH),(dimH,)).tolist()), file=text_file)\n",
    "    print(\"    return\\n\", file=text_file)\n",
    "    \n",
    "    print(\"def GoHHFH(ghhfh, b,eta, FH):\", file=text_file)\n",
    "    print(\"    ghhfh[:] += {}\".format(np.reshape(np.asarray(vecGoHHFH),(dimH,)).tolist()), file=text_file)\n",
    "    print(\"    return\\n\", file=text_file)\n",
    "    \n",
    "    print(\"def GHHFH(ghhfh, L, xi, b,eta, FH):\", file=text_file)\n",
    "    print(\"    ghhfh[:] += {}\".format(np.reshape(np.asarray(vecGHHFH),(dimH,)).tolist()), file=text_file)\n",
    "    print(\"    return\\n\", file=text_file)\n",
    "    \n",
    "    print(\"def G1sHFH(v, L, xi, b,eta, FH):\", file=text_file)\n",
    "    print(\"    v -= np.array({})\".format(np.reshape(np.asarray(vecG1sHFH),(3,)).tolist()), file=text_file)\n",
    "    print(\"    return\\n\", file=text_file)\n",
    "    \n",
    "    print(\"def G2aHFH(o, L, xi, b,eta, FH):\", file=text_file)\n",
    "    print(\"    o -= 0.5/b*np.array({})\".format(np.reshape(np.asarray(vecG2aHFH),(3,)).tolist()), file=text_file)\n",
    "    print(\"    return\\n\", file=text_file)\n",
    "    \n",
    "    print(\"def K1sHVH(v, L, xi, b,eta, VH):\", file=text_file)\n",
    "    print(\"    v += np.array({})\".format(np.reshape(np.asarray(vecK1sHVH),(3,)).tolist()), file=text_file)\n",
    "    print(\"    return\\n\", file=text_file)\n",
    "    \n",
    "    print(\"def K2aHVH(o, L, xi, b,eta, VH):\", file=text_file)\n",
    "    print(\"    o += 0.5/b*np.array({})\".format(np.reshape(np.asarray(vecK2aHVH),(3,)).tolist()), file=text_file)\n",
    "    print(\"    return\\n\", file=text_file)\n",
    "    \n",
    "## replace things for easier usage with python     \n",
    "with open(ME_file, 'r') as file:\n",
    "    filedata = file.read()\n",
    "    \n",
    "filedata = filedata.replace('pi', 'PI')\n",
    "#filedata = filedata.replace('sqrt', 'numpy.sqrt')\n",
    "\n",
    "filedata = re.sub(\"force\\[(\\d), 0\\]\", r\"force[\\1]\", filedata)\n",
    "filedata = re.sub(\"torque\\[(\\d), 0\\]\", r\"torque[\\1]\", filedata)\n",
    "filedata = re.sub(\"VH\\[(\\d||\\d\\d), 0\\]\", r\"VH[\\1]\", filedata)\n",
    "filedata = re.sub(\"FH\\[(\\d||\\d\\d), 0\\]\", r\"FH[\\1]\", filedata)\n",
    "\n",
    "with open(ME_file, 'w') as file:\n",
    "    file.write(filedata)"
   ]
  },
  {
   "cell_type": "markdown",
   "id": "914f26e8-a39a-4a58-a5f1-8ff5665f0140",
   "metadata": {},
   "source": [
    "______________________________________\n",
    "_______________________"
   ]
  },
  {
   "cell_type": "code",
   "execution_count": null,
   "id": "ff00df77-a5eb-4e4d-80f2-bc747fd22acd",
   "metadata": {},
   "outputs": [],
   "source": []
  },
  {
   "cell_type": "markdown",
   "id": "d13e8142-3c2c-424f-a17c-42d9ee1623ee",
   "metadata": {},
   "source": [
    "____\n",
    "___\n",
    "\n",
    "### Symbolic matrices to file for direct solver"
   ]
  },
  {
   "cell_type": "code",
   "execution_count": 224,
   "id": "eb03573a-0496-4497-af57-b48c8146485c",
   "metadata": {},
   "outputs": [],
   "source": [
    "ME_file = \"matrixPeriodic_\"+str(Nb)+\"_\"+str(Nm)+\"_old.py\"\n",
    "\n",
    "with open(ME_file, \"w\") as text_file:\n",
    "    print(\"import numpy\", file=text_file)\n",
    "    print(\"from math import *\", file=text_file)\n",
    "    print(\"PI = 3.14159265359\\n\", file=text_file)\n",
    "    \n",
    "    print(\"def G1s1s(L, xi, b,eta):\\n    return numpy.array({})\\n\".format(np.reshape(np.asarray(matG1s1s),(3,3)).tolist()), file=text_file)\n",
    "    print(\"def G2a1s(L, xi, b,eta):\\n    return numpy.array({})\\n\".format(np.reshape(np.asarray(matG2a1s),(3,3)).tolist()), file=text_file)\n",
    "    \n",
    "    print(\"def G1s2a(L, xi, b,eta):\\n    return numpy.array({})\\n\".format(np.reshape(np.asarray(matG1s2a),(3,3)).tolist()), file=text_file)\n",
    "    print(\"def G2a2a(L, xi, b,eta):\\n    return numpy.array({})\\n\".format(np.reshape(np.asarray(matG2a2a),(3,3)).tolist()), file=text_file)\n",
    "    \n",
    "    print(\"def GH1s(L, xi, b,eta):\\n    return numpy.array({})\\n\".format(np.reshape(np.asarray(matGH1s),(dimH,3)).tolist()), file=text_file)\n",
    "    print(\"def GH2a(L, xi, b,eta):\\n    return numpy.array({})\\n\".format(np.reshape(np.asarray(matGH2a),(dimH,3)).tolist()), file=text_file)\n",
    "    \n",
    "    print(\"def KoHH(b,eta):\\n    return numpy.array({})\\n\".format(np.reshape(np.asarray(matKoHH),(dimH,dimH)).tolist()), file=text_file)\n",
    "    print(\"def KHH(L, xi, b,eta):\\n    return numpy.array({})\\n\".format(np.reshape(np.asarray(matKHH),(dimH,dimH)).tolist()), file=text_file)\n",
    "    \n",
    "    print(\"def GoHH(b,eta):\\n    return numpy.array({})\\n\".format(np.reshape(np.asarray(matGoHH),(dimH,dimH)).tolist()), file=text_file)\n",
    "    print(\"def GHH(L, xi, b,eta):\\n    return numpy.array({})\\n\".format(np.reshape(np.asarray(matGHH),(dimH,dimH)).tolist()), file=text_file)\n",
    "    \n",
    "    print(\"def G1sH(L, xi, b,eta):\\n    return numpy.array({})\\n\".format(np.reshape(np.asarray(matG1sH),(3,dimH)).tolist()), file=text_file)\n",
    "    print(\"def G2aH(L, xi, b,eta):\\n    return numpy.array({})\\n\".format(np.reshape(np.asarray(matG2aH),(3,dimH)).tolist()), file=text_file)\n",
    "    \n",
    "    print(\"def K1sH(L, xi, b,eta):\\n    return numpy.array({})\\n\".format(np.reshape(np.asarray(matK1sH),(3,dimH)).tolist()), file=text_file)\n",
    "    print(\"def K2aH(L, xi, b,eta):\\n    return numpy.array({})\\n\".format(np.reshape(np.asarray(matK2aH),(3,dimH)).tolist()), file=text_file)\n",
    "    \n",
    "    \n",
    "    \n",
    "## replace things for easier usage with python     \n",
    "with open(ME_file, 'r') as file:\n",
    "    filedata = file.read()\n",
    "    \n",
    "filedata = filedata.replace('pi', 'PI')\n",
    "filedata = filedata.replace('sqrt', 'numpy.sqrt')\n",
    "\n",
    "with open(ME_file, 'w') as file:\n",
    "    file.write(filedata)"
   ]
  },
  {
   "cell_type": "markdown",
   "id": "9e6876d8-fe72-4201-9a1e-4cdcb4ff5b1b",
   "metadata": {},
   "source": [
    "____________\n",
    "___________\n"
   ]
  },
  {
   "cell_type": "code",
   "execution_count": 225,
   "id": "c89da2ce-cf9f-4a56-8331-3f7bd2e83196",
   "metadata": {},
   "outputs": [
    {
     "data": {
      "text/plain": [
       "[0, 0, 0, 0, 0]\n",
       "[0, 0, 0, 0, 0]\n",
       "[0, 0, 0, 0, 0]"
      ]
     },
     "execution_count": 225,
     "metadata": {},
     "output_type": "execute_result"
    }
   ],
   "source": [
    "matGF1s2s"
   ]
  },
  {
   "cell_type": "code",
   "execution_count": 226,
   "id": "1f10d4f7-cf39-4f8e-9b3a-b4542b01dfa5",
   "metadata": {},
   "outputs": [],
   "source": [
    "##delete all but 3s, which is what causes the pole"
   ]
  },
  {
   "cell_type": "code",
   "execution_count": 227,
   "id": "346e984f-3cd6-498e-b3f4-003b3c277cf2",
   "metadata": {},
   "outputs": [],
   "source": [
    "matG1sH = sympy.Matrix(sympy.BlockMatrix([sympy.Matrix(matG1s3s)]))\n",
    "matG2aH = sympy.Matrix(sympy.BlockMatrix([sympy.Matrix(matG2a3s)]))\n",
    "\n",
    "matK1sH = sympy.Matrix(sympy.BlockMatrix([sympy.Matrix(sympy.ZeroMatrix(3,7))]))\n",
    "matK2aH = sympy.Matrix(sympy.BlockMatrix([sympy.Matrix(sympy.ZeroMatrix(3,7))]))\n",
    "\n",
    "matGH1s = sympy.Matrix(sympy.BlockMatrix([[sympy.Matrix(matG3s1s)]]))\n",
    "matGH2a = sympy.Matrix(sympy.BlockMatrix([[sympy.Matrix(matG3s2a)]]))\n",
    "\n",
    "matGHH = sympy.Matrix(sympy.BlockMatrix([[sympy.Matrix(matG3s3s)]]))\n",
    "\n",
    "matKHH_nonzero = sympy.Matrix(sympy.BlockMatrix([[sympy.Matrix(sympy.ZeroMatrix(7,7))]]))\n",
    "matKHH = sympy.Matrix(sympy.BlockMatrix([matKHH_nonzero]))\n",
    "\n",
    "# self-interaction\n",
    "\n",
    "g3s = 6/(7*pi*eta*b)\n",
    "\n",
    "matGoHH = sympy.Matrix(sympy.BlockDiagMatrix(g3s*matDelta3))\n",
    "\n",
    "\n",
    "\n",
    "halfMinusk3s = S(19)/35\n",
    "\n",
    "matKoHH = sympy.Matrix(sympy.BlockDiagMatrix(halfMinusk3s*matDelta3))"
   ]
  },
  {
   "cell_type": "code",
   "execution_count": 228,
   "id": "07055760-7cf5-4ed2-8ea5-9be060bfe99e",
   "metadata": {},
   "outputs": [],
   "source": [
    "ME_file = \"matrixPeriodic_\"+str(Nb)+\"_\"+str(Nm)+\"_3s.py\"\n",
    "dimH=7\n",
    "\n",
    "with open(ME_file, \"w\") as text_file:\n",
    "    print(\"import numpy\", file=text_file)\n",
    "    print(\"from math import *\", file=text_file)\n",
    "    print(\"PI = 3.14159265359\\n\", file=text_file)\n",
    "    \n",
    "    print(\"def G1s1s(L, xi, b,eta):\\n    return numpy.array({})\\n\".format(np.reshape(np.asarray(matG1s1s),(3,3)).tolist()), file=text_file)\n",
    "    print(\"def G2a1s(L, xi, b,eta):\\n    return numpy.array({})\\n\".format(np.reshape(np.asarray(matG2a1s),(3,3)).tolist()), file=text_file)\n",
    "    \n",
    "    print(\"def G1s2a(L, xi, b,eta):\\n    return numpy.array({})\\n\".format(np.reshape(np.asarray(matG1s2a),(3,3)).tolist()), file=text_file)\n",
    "    print(\"def G2a2a(L, xi, b,eta):\\n    return numpy.array({})\\n\".format(np.reshape(np.asarray(matG2a2a),(3,3)).tolist()), file=text_file)\n",
    "    \n",
    "    print(\"def GH1s(L, xi, b,eta):\\n    return numpy.array({})\\n\".format(np.reshape(np.asarray(matGH1s),(dimH,3)).tolist()), file=text_file)\n",
    "    print(\"def GH2a(L, xi, b,eta):\\n    return numpy.array({})\\n\".format(np.reshape(np.asarray(matGH2a),(dimH,3)).tolist()), file=text_file)\n",
    "    \n",
    "    print(\"def KoHH(b,eta):\\n    return numpy.array({})\\n\".format(np.reshape(np.asarray(matKoHH),(dimH,dimH)).tolist()), file=text_file)\n",
    "    print(\"def KHH(L, xi, b,eta):\\n    return numpy.array({})\\n\".format(np.reshape(np.asarray(matKHH),(dimH,dimH)).tolist()), file=text_file)\n",
    "    \n",
    "    print(\"def GoHH(b,eta):\\n    return numpy.array({})\\n\".format(np.reshape(np.asarray(matGoHH),(dimH,dimH)).tolist()), file=text_file)\n",
    "    print(\"def GHH(L, xi, b,eta):\\n    return numpy.array({})\\n\".format(np.reshape(np.asarray(matGHH),(dimH,dimH)).tolist()), file=text_file)\n",
    "    \n",
    "    print(\"def G1sH(L, xi, b,eta):\\n    return numpy.array({})\\n\".format(np.reshape(np.asarray(matG1sH),(3,dimH)).tolist()), file=text_file)\n",
    "    print(\"def G2aH(L, xi, b,eta):\\n    return numpy.array({})\\n\".format(np.reshape(np.asarray(matG2aH),(3,dimH)).tolist()), file=text_file)\n",
    "    \n",
    "    print(\"def K1sH(L, xi, b,eta):\\n    return numpy.array({})\\n\".format(np.reshape(np.asarray(matK1sH),(3,dimH)).tolist()), file=text_file)\n",
    "    print(\"def K2aH(L, xi, b,eta):\\n    return numpy.array({})\\n\".format(np.reshape(np.asarray(matK2aH),(3,dimH)).tolist()), file=text_file)\n",
    "    \n",
    "    \n",
    "    \n",
    "## replace things for easier usage with python     \n",
    "with open(ME_file, 'r') as file:\n",
    "    filedata = file.read()\n",
    "    \n",
    "filedata = filedata.replace('pi', 'PI')\n",
    "filedata = filedata.replace('sqrt', 'numpy.sqrt')\n",
    "\n",
    "with open(ME_file, 'w') as file:\n",
    "    file.write(filedata)"
   ]
  },
  {
   "cell_type": "code",
   "execution_count": null,
   "id": "ac6298a9-dc70-48a2-99be-6179a008f44e",
   "metadata": {},
   "outputs": [],
   "source": []
  },
  {
   "cell_type": "code",
   "execution_count": null,
   "id": "d7c02979-1a29-4568-8fd3-ba06d8a150e7",
   "metadata": {},
   "outputs": [],
   "source": []
  },
  {
   "cell_type": "code",
   "execution_count": 232,
   "id": "21534fcc-24fb-4edd-9340-a0775d070c26",
   "metadata": {},
   "outputs": [
    {
     "data": {
      "text/plain": [
       "0"
      ]
     },
     "execution_count": 232,
     "metadata": {},
     "output_type": "execute_result"
    }
   ],
   "source": [
    "matG2s2s[0,2] - matG2s2s[2,0]"
   ]
  },
  {
   "cell_type": "code",
   "execution_count": 236,
   "id": "e6dc93fb-9149-431b-883e-0312c08b1a8d",
   "metadata": {},
   "outputs": [
    {
     "data": {
      "text/latex": [
       "$\\displaystyle \\frac{b^{2} \\cdot \\left(2700 L^{2} \\left(L^{4} \\xi^{4} + 2 \\pi^{2} L^{2} \\xi^{2} + 8 \\pi^{4}\\right) e^{\\frac{10 \\pi^{2}}{L^{2} \\xi^{2}}} + 2400 L^{2} \\left(L^{4} \\xi^{4} + 3 \\pi^{2} L^{2} \\xi^{2} + 18 \\pi^{4}\\right) e^{\\frac{9 \\pi^{2}}{L^{2} \\xi^{2}}} + 1728 L^{2} \\left(L^{4} \\xi^{4} + 5 \\pi^{2} L^{2} \\xi^{2} + 50 \\pi^{4}\\right) e^{\\frac{7 \\pi^{2}}{L^{2} \\xi^{2}}} + 2700 L^{2} \\left(L^{4} \\xi^{4} + 6 \\pi^{2} L^{2} \\xi^{2} + 72 \\pi^{4}\\right) e^{\\frac{6 \\pi^{2}}{L^{2} \\xi^{2}}} + 675 L^{2} \\left(L^{4} \\xi^{4} + 8 \\pi^{2} L^{2} \\xi^{2} + 128 \\pi^{4}\\right) e^{\\frac{4 \\pi^{2}}{L^{2} \\xi^{2}}} + 1600 L^{2} \\left(L^{4} \\xi^{4} + 9 \\pi^{2} L^{2} \\xi^{2} + 162 \\pi^{4}\\right) e^{\\frac{3 \\pi^{2}}{L^{2} \\xi^{2}}} + 300 L^{2} \\left(L^{4} \\xi^{4} + 12 \\pi^{2} L^{2} \\xi^{2} + 288 \\pi^{4}\\right) - 288 \\pi^{2} b^{2} \\cdot \\left(10 L^{4} \\xi^{4} + 120 \\pi^{2} L^{2} \\xi^{2} + 15 \\left(L^{4} \\xi^{4} + 2 \\pi^{2} L^{2} \\xi^{2} + 8 \\pi^{4}\\right) e^{\\frac{10 \\pi^{2}}{L^{2} \\xi^{2}}} + 20 \\left(L^{4} \\xi^{4} + 3 \\pi^{2} L^{2} \\xi^{2} + 18 \\pi^{4}\\right) e^{\\frac{9 \\pi^{2}}{L^{2} \\xi^{2}}} + 24 \\left(L^{4} \\xi^{4} + 5 \\pi^{2} L^{2} \\xi^{2} + 50 \\pi^{4}\\right) e^{\\frac{7 \\pi^{2}}{L^{2} \\xi^{2}}} + 45 \\left(L^{4} \\xi^{4} + 6 \\pi^{2} L^{2} \\xi^{2} + 72 \\pi^{4}\\right) e^{\\frac{6 \\pi^{2}}{L^{2} \\xi^{2}}} + 15 \\left(L^{4} \\xi^{4} + 8 \\pi^{2} L^{2} \\xi^{2} + 128 \\pi^{4}\\right) e^{\\frac{4 \\pi^{2}}{L^{2} \\xi^{2}}} + 40 \\left(L^{4} \\xi^{4} + 9 \\pi^{2} L^{2} \\xi^{2} + 162 \\pi^{4}\\right) e^{\\frac{3 \\pi^{2}}{L^{2} \\xi^{2}}} + 2880 \\pi^{4}\\right)\\right) e^{- \\frac{12 \\pi^{2}}{L^{2} \\xi^{2}}}}{1350 L^{6} \\eta \\xi^{4}}$"
      ],
      "text/plain": [
       "b**2*(2700*L**2*(L**4*xi**4 + 2*pi**2*L**2*xi**2 + 8*pi**4)*exp(10*pi**2/(L**2*xi**2)) + 2400*L**2*(L**4*xi**4 + 3*pi**2*L**2*xi**2 + 18*pi**4)*exp(9*pi**2/(L**2*xi**2)) + 1728*L**2*(L**4*xi**4 + 5*pi**2*L**2*xi**2 + 50*pi**4)*exp(7*pi**2/(L**2*xi**2)) + 2700*L**2*(L**4*xi**4 + 6*pi**2*L**2*xi**2 + 72*pi**4)*exp(6*pi**2/(L**2*xi**2)) + 675*L**2*(L**4*xi**4 + 8*pi**2*L**2*xi**2 + 128*pi**4)*exp(4*pi**2/(L**2*xi**2)) + 1600*L**2*(L**4*xi**4 + 9*pi**2*L**2*xi**2 + 162*pi**4)*exp(3*pi**2/(L**2*xi**2)) + 300*L**2*(L**4*xi**4 + 12*pi**2*L**2*xi**2 + 288*pi**4) - 288*pi**2*b**2*(10*L**4*xi**4 + 120*pi**2*L**2*xi**2 + 15*(L**4*xi**4 + 2*pi**2*L**2*xi**2 + 8*pi**4)*exp(10*pi**2/(L**2*xi**2)) + 20*(L**4*xi**4 + 3*pi**2*L**2*xi**2 + 18*pi**4)*exp(9*pi**2/(L**2*xi**2)) + 24*(L**4*xi**4 + 5*pi**2*L**2*xi**2 + 50*pi**4)*exp(7*pi**2/(L**2*xi**2)) + 45*(L**4*xi**4 + 6*pi**2*L**2*xi**2 + 72*pi**4)*exp(6*pi**2/(L**2*xi**2)) + 15*(L**4*xi**4 + 8*pi**2*L**2*xi**2 + 128*pi**4)*exp(4*pi**2/(L**2*xi**2)) + 40*(L**4*xi**4 + 9*pi**2*L**2*xi**2 + 162*pi**4)*exp(3*pi**2/(L**2*xi**2)) + 2880*pi**4))*exp(-12*pi**2/(L**2*xi**2))/(1350*L**6*eta*xi**4)"
      ]
     },
     "execution_count": 236,
     "metadata": {},
     "output_type": "execute_result"
    }
   ],
   "source": [
    "sympy.simplify(G2s2s(GF, 0,0, 0,0).subs({xij:0, yij:0, zij:0}))"
   ]
  },
  {
   "cell_type": "code",
   "execution_count": 237,
   "id": "1f511b34-945f-47ad-84eb-26101c241b5f",
   "metadata": {},
   "outputs": [
    {
     "data": {
      "text/latex": [
       "$\\displaystyle \\frac{2 b^{2} e^{- \\frac{2 \\pi^{2}}{L^{2} \\xi^{2}}}}{\\eta} + \\frac{16 b^{2} e^{- \\frac{3 \\pi^{2}}{L^{2} \\xi^{2}}}}{9 \\eta} + \\frac{32 b^{2} e^{- \\frac{5 \\pi^{2}}{L^{2} \\xi^{2}}}}{25 \\eta} + \\frac{2 b^{2} e^{- \\frac{6 \\pi^{2}}{L^{2} \\xi^{2}}}}{\\eta} + \\frac{b^{2} e^{- \\frac{8 \\pi^{2}}{L^{2} \\xi^{2}}}}{2 \\eta} + \\frac{32 b^{2} e^{- \\frac{9 \\pi^{2}}{L^{2} \\xi^{2}}}}{27 \\eta} + \\frac{2 b^{2} e^{- \\frac{12 \\pi^{2}}{L^{2} \\xi^{2}}}}{9 \\eta} - \\frac{16 \\pi^{2} b^{4} e^{- \\frac{2 \\pi^{2}}{L^{2} \\xi^{2}}}}{5 L^{2} \\eta} - \\frac{64 \\pi^{2} b^{4} e^{- \\frac{3 \\pi^{2}}{L^{2} \\xi^{2}}}}{15 L^{2} \\eta} - \\frac{128 \\pi^{2} b^{4} e^{- \\frac{5 \\pi^{2}}{L^{2} \\xi^{2}}}}{25 L^{2} \\eta} - \\frac{48 \\pi^{2} b^{4} e^{- \\frac{6 \\pi^{2}}{L^{2} \\xi^{2}}}}{5 L^{2} \\eta} - \\frac{16 \\pi^{2} b^{4} e^{- \\frac{8 \\pi^{2}}{L^{2} \\xi^{2}}}}{5 L^{2} \\eta} - \\frac{128 \\pi^{2} b^{4} e^{- \\frac{9 \\pi^{2}}{L^{2} \\xi^{2}}}}{15 L^{2} \\eta} - \\frac{32 \\pi^{2} b^{4} e^{- \\frac{12 \\pi^{2}}{L^{2} \\xi^{2}}}}{15 L^{2} \\eta} + \\frac{4 \\pi^{2} b^{2} e^{- \\frac{2 \\pi^{2}}{L^{2} \\xi^{2}}}}{L^{2} \\eta \\xi^{2}} + \\frac{16 \\pi^{2} b^{2} e^{- \\frac{3 \\pi^{2}}{L^{2} \\xi^{2}}}}{3 L^{2} \\eta \\xi^{2}} + \\frac{32 \\pi^{2} b^{2} e^{- \\frac{5 \\pi^{2}}{L^{2} \\xi^{2}}}}{5 L^{2} \\eta \\xi^{2}} + \\frac{12 \\pi^{2} b^{2} e^{- \\frac{6 \\pi^{2}}{L^{2} \\xi^{2}}}}{L^{2} \\eta \\xi^{2}} + \\frac{4 \\pi^{2} b^{2} e^{- \\frac{8 \\pi^{2}}{L^{2} \\xi^{2}}}}{L^{2} \\eta \\xi^{2}} + \\frac{32 \\pi^{2} b^{2} e^{- \\frac{9 \\pi^{2}}{L^{2} \\xi^{2}}}}{3 L^{2} \\eta \\xi^{2}} + \\frac{8 \\pi^{2} b^{2} e^{- \\frac{12 \\pi^{2}}{L^{2} \\xi^{2}}}}{3 L^{2} \\eta \\xi^{2}} - \\frac{32 \\pi^{4} b^{4} e^{- \\frac{2 \\pi^{2}}{L^{2} \\xi^{2}}}}{5 L^{4} \\eta \\xi^{2}} - \\frac{64 \\pi^{4} b^{4} e^{- \\frac{3 \\pi^{2}}{L^{2} \\xi^{2}}}}{5 L^{4} \\eta \\xi^{2}} - \\frac{128 \\pi^{4} b^{4} e^{- \\frac{5 \\pi^{2}}{L^{2} \\xi^{2}}}}{5 L^{4} \\eta \\xi^{2}} - \\frac{288 \\pi^{4} b^{4} e^{- \\frac{6 \\pi^{2}}{L^{2} \\xi^{2}}}}{5 L^{4} \\eta \\xi^{2}} - \\frac{128 \\pi^{4} b^{4} e^{- \\frac{8 \\pi^{2}}{L^{2} \\xi^{2}}}}{5 L^{4} \\eta \\xi^{2}} - \\frac{384 \\pi^{4} b^{4} e^{- \\frac{9 \\pi^{2}}{L^{2} \\xi^{2}}}}{5 L^{4} \\eta \\xi^{2}} - \\frac{128 \\pi^{4} b^{4} e^{- \\frac{12 \\pi^{2}}{L^{2} \\xi^{2}}}}{5 L^{4} \\eta \\xi^{2}} + \\frac{16 \\pi^{4} b^{2} e^{- \\frac{2 \\pi^{2}}{L^{2} \\xi^{2}}}}{L^{4} \\eta \\xi^{4}} + \\frac{32 \\pi^{4} b^{2} e^{- \\frac{3 \\pi^{2}}{L^{2} \\xi^{2}}}}{L^{4} \\eta \\xi^{4}} + \\frac{64 \\pi^{4} b^{2} e^{- \\frac{5 \\pi^{2}}{L^{2} \\xi^{2}}}}{L^{4} \\eta \\xi^{4}} + \\frac{144 \\pi^{4} b^{2} e^{- \\frac{6 \\pi^{2}}{L^{2} \\xi^{2}}}}{L^{4} \\eta \\xi^{4}} + \\frac{64 \\pi^{4} b^{2} e^{- \\frac{8 \\pi^{2}}{L^{2} \\xi^{2}}}}{L^{4} \\eta \\xi^{4}} + \\frac{192 \\pi^{4} b^{2} e^{- \\frac{9 \\pi^{2}}{L^{2} \\xi^{2}}}}{L^{4} \\eta \\xi^{4}} + \\frac{64 \\pi^{4} b^{2} e^{- \\frac{12 \\pi^{2}}{L^{2} \\xi^{2}}}}{L^{4} \\eta \\xi^{4}} - \\frac{128 \\pi^{6} b^{4} e^{- \\frac{2 \\pi^{2}}{L^{2} \\xi^{2}}}}{5 L^{6} \\eta \\xi^{4}} - \\frac{384 \\pi^{6} b^{4} e^{- \\frac{3 \\pi^{2}}{L^{2} \\xi^{2}}}}{5 L^{6} \\eta \\xi^{4}} - \\frac{256 \\pi^{6} b^{4} e^{- \\frac{5 \\pi^{2}}{L^{2} \\xi^{2}}}}{L^{6} \\eta \\xi^{4}} - \\frac{3456 \\pi^{6} b^{4} e^{- \\frac{6 \\pi^{2}}{L^{2} \\xi^{2}}}}{5 L^{6} \\eta \\xi^{4}} - \\frac{2048 \\pi^{6} b^{4} e^{- \\frac{8 \\pi^{2}}{L^{2} \\xi^{2}}}}{5 L^{6} \\eta \\xi^{4}} - \\frac{6912 \\pi^{6} b^{4} e^{- \\frac{9 \\pi^{2}}{L^{2} \\xi^{2}}}}{5 L^{6} \\eta \\xi^{4}} - \\frac{3072 \\pi^{6} b^{4} e^{- \\frac{12 \\pi^{2}}{L^{2} \\xi^{2}}}}{5 L^{6} \\eta \\xi^{4}}$"
      ],
      "text/plain": [
       "2*b**2*exp(-2*pi**2/(L**2*xi**2))/eta + 16*b**2*exp(-3*pi**2/(L**2*xi**2))/(9*eta) + 32*b**2*exp(-5*pi**2/(L**2*xi**2))/(25*eta) + 2*b**2*exp(-6*pi**2/(L**2*xi**2))/eta + b**2*exp(-8*pi**2/(L**2*xi**2))/(2*eta) + 32*b**2*exp(-9*pi**2/(L**2*xi**2))/(27*eta) + 2*b**2*exp(-12*pi**2/(L**2*xi**2))/(9*eta) - 16*pi**2*b**4*exp(-2*pi**2/(L**2*xi**2))/(5*L**2*eta) - 64*pi**2*b**4*exp(-3*pi**2/(L**2*xi**2))/(15*L**2*eta) - 128*pi**2*b**4*exp(-5*pi**2/(L**2*xi**2))/(25*L**2*eta) - 48*pi**2*b**4*exp(-6*pi**2/(L**2*xi**2))/(5*L**2*eta) - 16*pi**2*b**4*exp(-8*pi**2/(L**2*xi**2))/(5*L**2*eta) - 128*pi**2*b**4*exp(-9*pi**2/(L**2*xi**2))/(15*L**2*eta) - 32*pi**2*b**4*exp(-12*pi**2/(L**2*xi**2))/(15*L**2*eta) + 4*pi**2*b**2*exp(-2*pi**2/(L**2*xi**2))/(L**2*eta*xi**2) + 16*pi**2*b**2*exp(-3*pi**2/(L**2*xi**2))/(3*L**2*eta*xi**2) + 32*pi**2*b**2*exp(-5*pi**2/(L**2*xi**2))/(5*L**2*eta*xi**2) + 12*pi**2*b**2*exp(-6*pi**2/(L**2*xi**2))/(L**2*eta*xi**2) + 4*pi**2*b**2*exp(-8*pi**2/(L**2*xi**2))/(L**2*eta*xi**2) + 32*pi**2*b**2*exp(-9*pi**2/(L**2*xi**2))/(3*L**2*eta*xi**2) + 8*pi**2*b**2*exp(-12*pi**2/(L**2*xi**2))/(3*L**2*eta*xi**2) - 32*pi**4*b**4*exp(-2*pi**2/(L**2*xi**2))/(5*L**4*eta*xi**2) - 64*pi**4*b**4*exp(-3*pi**2/(L**2*xi**2))/(5*L**4*eta*xi**2) - 128*pi**4*b**4*exp(-5*pi**2/(L**2*xi**2))/(5*L**4*eta*xi**2) - 288*pi**4*b**4*exp(-6*pi**2/(L**2*xi**2))/(5*L**4*eta*xi**2) - 128*pi**4*b**4*exp(-8*pi**2/(L**2*xi**2))/(5*L**4*eta*xi**2) - 384*pi**4*b**4*exp(-9*pi**2/(L**2*xi**2))/(5*L**4*eta*xi**2) - 128*pi**4*b**4*exp(-12*pi**2/(L**2*xi**2))/(5*L**4*eta*xi**2) + 16*pi**4*b**2*exp(-2*pi**2/(L**2*xi**2))/(L**4*eta*xi**4) + 32*pi**4*b**2*exp(-3*pi**2/(L**2*xi**2))/(L**4*eta*xi**4) + 64*pi**4*b**2*exp(-5*pi**2/(L**2*xi**2))/(L**4*eta*xi**4) + 144*pi**4*b**2*exp(-6*pi**2/(L**2*xi**2))/(L**4*eta*xi**4) + 64*pi**4*b**2*exp(-8*pi**2/(L**2*xi**2))/(L**4*eta*xi**4) + 192*pi**4*b**2*exp(-9*pi**2/(L**2*xi**2))/(L**4*eta*xi**4) + 64*pi**4*b**2*exp(-12*pi**2/(L**2*xi**2))/(L**4*eta*xi**4) - 128*pi**6*b**4*exp(-2*pi**2/(L**2*xi**2))/(5*L**6*eta*xi**4) - 384*pi**6*b**4*exp(-3*pi**2/(L**2*xi**2))/(5*L**6*eta*xi**4) - 256*pi**6*b**4*exp(-5*pi**2/(L**2*xi**2))/(L**6*eta*xi**4) - 3456*pi**6*b**4*exp(-6*pi**2/(L**2*xi**2))/(5*L**6*eta*xi**4) - 2048*pi**6*b**4*exp(-8*pi**2/(L**2*xi**2))/(5*L**6*eta*xi**4) - 6912*pi**6*b**4*exp(-9*pi**2/(L**2*xi**2))/(5*L**6*eta*xi**4) - 3072*pi**6*b**4*exp(-12*pi**2/(L**2*xi**2))/(5*L**6*eta*xi**4)"
      ]
     },
     "execution_count": 237,
     "metadata": {},
     "output_type": "execute_result"
    }
   ],
   "source": [
    "sympy.simplify(G2s2s(GF, 0,0, 0,0).subs({xij:0, yij:0, zij:0})).expand(power_exp=True)"
   ]
  },
  {
   "cell_type": "code",
   "execution_count": 242,
   "id": "2269204e-a52c-4da4-b172-8cd55876022b",
   "metadata": {},
   "outputs": [
    {
     "data": {
      "text/latex": [
       "$\\displaystyle \\frac{b^{2} e^{- \\frac{\\pi^{2}}{L^{2} \\xi^{2}}}}{\\eta} + \\frac{b^{2} e^{- \\frac{2 \\pi^{2}}{L^{2} \\xi^{2}}}}{\\eta} + \\frac{4 b^{2} e^{- \\frac{3 \\pi^{2}}{L^{2} \\xi^{2}}}}{9 \\eta} + \\frac{b^{2} e^{- \\frac{4 \\pi^{2}}{L^{2} \\xi^{2}}}}{2 \\eta} + \\frac{34 b^{2} e^{- \\frac{5 \\pi^{2}}{L^{2} \\xi^{2}}}}{25 \\eta} + \\frac{b^{2} e^{- \\frac{6 \\pi^{2}}{L^{2} \\xi^{2}}}}{\\eta} + \\frac{b^{2} e^{- \\frac{8 \\pi^{2}}{L^{2} \\xi^{2}}}}{4 \\eta} + \\frac{11 b^{2} e^{- \\frac{9 \\pi^{2}}{L^{2} \\xi^{2}}}}{27 \\eta} + \\frac{b^{2} e^{- \\frac{12 \\pi^{2}}{L^{2} \\xi^{2}}}}{18 \\eta} - \\frac{4 \\pi^{2} b^{4} e^{- \\frac{\\pi^{2}}{L^{2} \\xi^{2}}}}{5 L^{2} \\eta} - \\frac{8 \\pi^{2} b^{4} e^{- \\frac{2 \\pi^{2}}{L^{2} \\xi^{2}}}}{5 L^{2} \\eta} - \\frac{16 \\pi^{2} b^{4} e^{- \\frac{3 \\pi^{2}}{L^{2} \\xi^{2}}}}{15 L^{2} \\eta} - \\frac{8 \\pi^{2} b^{4} e^{- \\frac{4 \\pi^{2}}{L^{2} \\xi^{2}}}}{5 L^{2} \\eta} - \\frac{136 \\pi^{2} b^{4} e^{- \\frac{5 \\pi^{2}}{L^{2} \\xi^{2}}}}{25 L^{2} \\eta} - \\frac{24 \\pi^{2} b^{4} e^{- \\frac{6 \\pi^{2}}{L^{2} \\xi^{2}}}}{5 L^{2} \\eta} - \\frac{8 \\pi^{2} b^{4} e^{- \\frac{8 \\pi^{2}}{L^{2} \\xi^{2}}}}{5 L^{2} \\eta} - \\frac{44 \\pi^{2} b^{4} e^{- \\frac{9 \\pi^{2}}{L^{2} \\xi^{2}}}}{15 L^{2} \\eta} - \\frac{8 \\pi^{2} b^{4} e^{- \\frac{12 \\pi^{2}}{L^{2} \\xi^{2}}}}{15 L^{2} \\eta} + \\frac{\\pi^{2} b^{2} e^{- \\frac{\\pi^{2}}{L^{2} \\xi^{2}}}}{L^{2} \\eta \\xi^{2}} + \\frac{2 \\pi^{2} b^{2} e^{- \\frac{2 \\pi^{2}}{L^{2} \\xi^{2}}}}{L^{2} \\eta \\xi^{2}} + \\frac{4 \\pi^{2} b^{2} e^{- \\frac{3 \\pi^{2}}{L^{2} \\xi^{2}}}}{3 L^{2} \\eta \\xi^{2}} + \\frac{2 \\pi^{2} b^{2} e^{- \\frac{4 \\pi^{2}}{L^{2} \\xi^{2}}}}{L^{2} \\eta \\xi^{2}} + \\frac{34 \\pi^{2} b^{2} e^{- \\frac{5 \\pi^{2}}{L^{2} \\xi^{2}}}}{5 L^{2} \\eta \\xi^{2}} + \\frac{6 \\pi^{2} b^{2} e^{- \\frac{6 \\pi^{2}}{L^{2} \\xi^{2}}}}{L^{2} \\eta \\xi^{2}} + \\frac{2 \\pi^{2} b^{2} e^{- \\frac{8 \\pi^{2}}{L^{2} \\xi^{2}}}}{L^{2} \\eta \\xi^{2}} + \\frac{11 \\pi^{2} b^{2} e^{- \\frac{9 \\pi^{2}}{L^{2} \\xi^{2}}}}{3 L^{2} \\eta \\xi^{2}} + \\frac{2 \\pi^{2} b^{2} e^{- \\frac{12 \\pi^{2}}{L^{2} \\xi^{2}}}}{3 L^{2} \\eta \\xi^{2}} - \\frac{4 \\pi^{4} b^{4} e^{- \\frac{\\pi^{2}}{L^{2} \\xi^{2}}}}{5 L^{4} \\eta \\xi^{2}} - \\frac{16 \\pi^{4} b^{4} e^{- \\frac{2 \\pi^{2}}{L^{2} \\xi^{2}}}}{5 L^{4} \\eta \\xi^{2}} - \\frac{16 \\pi^{4} b^{4} e^{- \\frac{3 \\pi^{2}}{L^{2} \\xi^{2}}}}{5 L^{4} \\eta \\xi^{2}} - \\frac{32 \\pi^{4} b^{4} e^{- \\frac{4 \\pi^{2}}{L^{2} \\xi^{2}}}}{5 L^{4} \\eta \\xi^{2}} - \\frac{136 \\pi^{4} b^{4} e^{- \\frac{5 \\pi^{2}}{L^{2} \\xi^{2}}}}{5 L^{4} \\eta \\xi^{2}} - \\frac{144 \\pi^{4} b^{4} e^{- \\frac{6 \\pi^{2}}{L^{2} \\xi^{2}}}}{5 L^{4} \\eta \\xi^{2}} - \\frac{64 \\pi^{4} b^{4} e^{- \\frac{8 \\pi^{2}}{L^{2} \\xi^{2}}}}{5 L^{4} \\eta \\xi^{2}} - \\frac{132 \\pi^{4} b^{4} e^{- \\frac{9 \\pi^{2}}{L^{2} \\xi^{2}}}}{5 L^{4} \\eta \\xi^{2}} - \\frac{32 \\pi^{4} b^{4} e^{- \\frac{12 \\pi^{2}}{L^{2} \\xi^{2}}}}{5 L^{4} \\eta \\xi^{2}} + \\frac{2 \\pi^{4} b^{2} e^{- \\frac{\\pi^{2}}{L^{2} \\xi^{2}}}}{L^{4} \\eta \\xi^{4}} + \\frac{8 \\pi^{4} b^{2} e^{- \\frac{2 \\pi^{2}}{L^{2} \\xi^{2}}}}{L^{4} \\eta \\xi^{4}} + \\frac{8 \\pi^{4} b^{2} e^{- \\frac{3 \\pi^{2}}{L^{2} \\xi^{2}}}}{L^{4} \\eta \\xi^{4}} + \\frac{16 \\pi^{4} b^{2} e^{- \\frac{4 \\pi^{2}}{L^{2} \\xi^{2}}}}{L^{4} \\eta \\xi^{4}} + \\frac{68 \\pi^{4} b^{2} e^{- \\frac{5 \\pi^{2}}{L^{2} \\xi^{2}}}}{L^{4} \\eta \\xi^{4}} + \\frac{72 \\pi^{4} b^{2} e^{- \\frac{6 \\pi^{2}}{L^{2} \\xi^{2}}}}{L^{4} \\eta \\xi^{4}} + \\frac{32 \\pi^{4} b^{2} e^{- \\frac{8 \\pi^{2}}{L^{2} \\xi^{2}}}}{L^{4} \\eta \\xi^{4}} + \\frac{66 \\pi^{4} b^{2} e^{- \\frac{9 \\pi^{2}}{L^{2} \\xi^{2}}}}{L^{4} \\eta \\xi^{4}} + \\frac{16 \\pi^{4} b^{2} e^{- \\frac{12 \\pi^{2}}{L^{2} \\xi^{2}}}}{L^{4} \\eta \\xi^{4}} - \\frac{8 \\pi^{6} b^{4} e^{- \\frac{\\pi^{2}}{L^{2} \\xi^{2}}}}{5 L^{6} \\eta \\xi^{4}} - \\frac{64 \\pi^{6} b^{4} e^{- \\frac{2 \\pi^{2}}{L^{2} \\xi^{2}}}}{5 L^{6} \\eta \\xi^{4}} - \\frac{96 \\pi^{6} b^{4} e^{- \\frac{3 \\pi^{2}}{L^{2} \\xi^{2}}}}{5 L^{6} \\eta \\xi^{4}} - \\frac{256 \\pi^{6} b^{4} e^{- \\frac{4 \\pi^{2}}{L^{2} \\xi^{2}}}}{5 L^{6} \\eta \\xi^{4}} - \\frac{272 \\pi^{6} b^{4} e^{- \\frac{5 \\pi^{2}}{L^{2} \\xi^{2}}}}{L^{6} \\eta \\xi^{4}} - \\frac{1728 \\pi^{6} b^{4} e^{- \\frac{6 \\pi^{2}}{L^{2} \\xi^{2}}}}{5 L^{6} \\eta \\xi^{4}} - \\frac{1024 \\pi^{6} b^{4} e^{- \\frac{8 \\pi^{2}}{L^{2} \\xi^{2}}}}{5 L^{6} \\eta \\xi^{4}} - \\frac{2376 \\pi^{6} b^{4} e^{- \\frac{9 \\pi^{2}}{L^{2} \\xi^{2}}}}{5 L^{6} \\eta \\xi^{4}} - \\frac{768 \\pi^{6} b^{4} e^{- \\frac{12 \\pi^{2}}{L^{2} \\xi^{2}}}}{5 L^{6} \\eta \\xi^{4}}$"
      ],
      "text/plain": [
       "b**2*exp(-pi**2/(L**2*xi**2))/eta + b**2*exp(-2*pi**2/(L**2*xi**2))/eta + 4*b**2*exp(-3*pi**2/(L**2*xi**2))/(9*eta) + b**2*exp(-4*pi**2/(L**2*xi**2))/(2*eta) + 34*b**2*exp(-5*pi**2/(L**2*xi**2))/(25*eta) + b**2*exp(-6*pi**2/(L**2*xi**2))/eta + b**2*exp(-8*pi**2/(L**2*xi**2))/(4*eta) + 11*b**2*exp(-9*pi**2/(L**2*xi**2))/(27*eta) + b**2*exp(-12*pi**2/(L**2*xi**2))/(18*eta) - 4*pi**2*b**4*exp(-pi**2/(L**2*xi**2))/(5*L**2*eta) - 8*pi**2*b**4*exp(-2*pi**2/(L**2*xi**2))/(5*L**2*eta) - 16*pi**2*b**4*exp(-3*pi**2/(L**2*xi**2))/(15*L**2*eta) - 8*pi**2*b**4*exp(-4*pi**2/(L**2*xi**2))/(5*L**2*eta) - 136*pi**2*b**4*exp(-5*pi**2/(L**2*xi**2))/(25*L**2*eta) - 24*pi**2*b**4*exp(-6*pi**2/(L**2*xi**2))/(5*L**2*eta) - 8*pi**2*b**4*exp(-8*pi**2/(L**2*xi**2))/(5*L**2*eta) - 44*pi**2*b**4*exp(-9*pi**2/(L**2*xi**2))/(15*L**2*eta) - 8*pi**2*b**4*exp(-12*pi**2/(L**2*xi**2))/(15*L**2*eta) + pi**2*b**2*exp(-pi**2/(L**2*xi**2))/(L**2*eta*xi**2) + 2*pi**2*b**2*exp(-2*pi**2/(L**2*xi**2))/(L**2*eta*xi**2) + 4*pi**2*b**2*exp(-3*pi**2/(L**2*xi**2))/(3*L**2*eta*xi**2) + 2*pi**2*b**2*exp(-4*pi**2/(L**2*xi**2))/(L**2*eta*xi**2) + 34*pi**2*b**2*exp(-5*pi**2/(L**2*xi**2))/(5*L**2*eta*xi**2) + 6*pi**2*b**2*exp(-6*pi**2/(L**2*xi**2))/(L**2*eta*xi**2) + 2*pi**2*b**2*exp(-8*pi**2/(L**2*xi**2))/(L**2*eta*xi**2) + 11*pi**2*b**2*exp(-9*pi**2/(L**2*xi**2))/(3*L**2*eta*xi**2) + 2*pi**2*b**2*exp(-12*pi**2/(L**2*xi**2))/(3*L**2*eta*xi**2) - 4*pi**4*b**4*exp(-pi**2/(L**2*xi**2))/(5*L**4*eta*xi**2) - 16*pi**4*b**4*exp(-2*pi**2/(L**2*xi**2))/(5*L**4*eta*xi**2) - 16*pi**4*b**4*exp(-3*pi**2/(L**2*xi**2))/(5*L**4*eta*xi**2) - 32*pi**4*b**4*exp(-4*pi**2/(L**2*xi**2))/(5*L**4*eta*xi**2) - 136*pi**4*b**4*exp(-5*pi**2/(L**2*xi**2))/(5*L**4*eta*xi**2) - 144*pi**4*b**4*exp(-6*pi**2/(L**2*xi**2))/(5*L**4*eta*xi**2) - 64*pi**4*b**4*exp(-8*pi**2/(L**2*xi**2))/(5*L**4*eta*xi**2) - 132*pi**4*b**4*exp(-9*pi**2/(L**2*xi**2))/(5*L**4*eta*xi**2) - 32*pi**4*b**4*exp(-12*pi**2/(L**2*xi**2))/(5*L**4*eta*xi**2) + 2*pi**4*b**2*exp(-pi**2/(L**2*xi**2))/(L**4*eta*xi**4) + 8*pi**4*b**2*exp(-2*pi**2/(L**2*xi**2))/(L**4*eta*xi**4) + 8*pi**4*b**2*exp(-3*pi**2/(L**2*xi**2))/(L**4*eta*xi**4) + 16*pi**4*b**2*exp(-4*pi**2/(L**2*xi**2))/(L**4*eta*xi**4) + 68*pi**4*b**2*exp(-5*pi**2/(L**2*xi**2))/(L**4*eta*xi**4) + 72*pi**4*b**2*exp(-6*pi**2/(L**2*xi**2))/(L**4*eta*xi**4) + 32*pi**4*b**2*exp(-8*pi**2/(L**2*xi**2))/(L**4*eta*xi**4) + 66*pi**4*b**2*exp(-9*pi**2/(L**2*xi**2))/(L**4*eta*xi**4) + 16*pi**4*b**2*exp(-12*pi**2/(L**2*xi**2))/(L**4*eta*xi**4) - 8*pi**6*b**4*exp(-pi**2/(L**2*xi**2))/(5*L**6*eta*xi**4) - 64*pi**6*b**4*exp(-2*pi**2/(L**2*xi**2))/(5*L**6*eta*xi**4) - 96*pi**6*b**4*exp(-3*pi**2/(L**2*xi**2))/(5*L**6*eta*xi**4) - 256*pi**6*b**4*exp(-4*pi**2/(L**2*xi**2))/(5*L**6*eta*xi**4) - 272*pi**6*b**4*exp(-5*pi**2/(L**2*xi**2))/(L**6*eta*xi**4) - 1728*pi**6*b**4*exp(-6*pi**2/(L**2*xi**2))/(5*L**6*eta*xi**4) - 1024*pi**6*b**4*exp(-8*pi**2/(L**2*xi**2))/(5*L**6*eta*xi**4) - 2376*pi**6*b**4*exp(-9*pi**2/(L**2*xi**2))/(5*L**6*eta*xi**4) - 768*pi**6*b**4*exp(-12*pi**2/(L**2*xi**2))/(5*L**6*eta*xi**4)"
      ]
     },
     "execution_count": 242,
     "metadata": {},
     "output_type": "execute_result"
    }
   ],
   "source": [
    "sympy.powdenest(sympy.simplify(G2s2s(GF, 0,1, 0,1).subs({xij:0, yij:0, zij:0})).expand(power_exp=True), force=True)"
   ]
  },
  {
   "cell_type": "code",
   "execution_count": 243,
   "id": "2001fc9c-5034-449f-85ba-38fdcb73ed6c",
   "metadata": {},
   "outputs": [
    {
     "data": {
      "text/latex": [
       "$\\displaystyle \\frac{b^{2} e^{- \\frac{\\pi^{2}}{L^{2} \\xi^{2}}}}{L^{3} \\eta} + \\frac{b^{2} e^{- \\frac{2 \\pi^{2}}{L^{2} \\xi^{2}}}}{L^{3} \\eta} + \\frac{4 b^{2} e^{- \\frac{3 \\pi^{2}}{L^{2} \\xi^{2}}}}{9 L^{3} \\eta} + \\frac{b^{2} e^{- \\frac{4 \\pi^{2}}{L^{2} \\xi^{2}}}}{2 L^{3} \\eta} + \\frac{34 b^{2} e^{- \\frac{5 \\pi^{2}}{L^{2} \\xi^{2}}}}{25 L^{3} \\eta} + \\frac{b^{2} e^{- \\frac{6 \\pi^{2}}{L^{2} \\xi^{2}}}}{L^{3} \\eta} + \\frac{b^{2} e^{- \\frac{8 \\pi^{2}}{L^{2} \\xi^{2}}}}{4 L^{3} \\eta} + \\frac{11 b^{2} e^{- \\frac{9 \\pi^{2}}{L^{2} \\xi^{2}}}}{27 L^{3} \\eta} + \\frac{b^{2} e^{- \\frac{12 \\pi^{2}}{L^{2} \\xi^{2}}}}{18 L^{3} \\eta} - \\frac{4 \\pi^{2} b^{4} e^{- \\frac{\\pi^{2}}{L^{2} \\xi^{2}}}}{5 L^{5} \\eta} - \\frac{8 \\pi^{2} b^{4} e^{- \\frac{2 \\pi^{2}}{L^{2} \\xi^{2}}}}{5 L^{5} \\eta} - \\frac{16 \\pi^{2} b^{4} e^{- \\frac{3 \\pi^{2}}{L^{2} \\xi^{2}}}}{15 L^{5} \\eta} - \\frac{8 \\pi^{2} b^{4} e^{- \\frac{4 \\pi^{2}}{L^{2} \\xi^{2}}}}{5 L^{5} \\eta} - \\frac{136 \\pi^{2} b^{4} e^{- \\frac{5 \\pi^{2}}{L^{2} \\xi^{2}}}}{25 L^{5} \\eta} - \\frac{24 \\pi^{2} b^{4} e^{- \\frac{6 \\pi^{2}}{L^{2} \\xi^{2}}}}{5 L^{5} \\eta} - \\frac{8 \\pi^{2} b^{4} e^{- \\frac{8 \\pi^{2}}{L^{2} \\xi^{2}}}}{5 L^{5} \\eta} - \\frac{44 \\pi^{2} b^{4} e^{- \\frac{9 \\pi^{2}}{L^{2} \\xi^{2}}}}{15 L^{5} \\eta} - \\frac{8 \\pi^{2} b^{4} e^{- \\frac{12 \\pi^{2}}{L^{2} \\xi^{2}}}}{15 L^{5} \\eta} + \\frac{\\pi^{2} b^{2} e^{- \\frac{\\pi^{2}}{L^{2} \\xi^{2}}}}{L^{5} \\eta \\xi^{2}} + \\frac{2 \\pi^{2} b^{2} e^{- \\frac{2 \\pi^{2}}{L^{2} \\xi^{2}}}}{L^{5} \\eta \\xi^{2}} + \\frac{4 \\pi^{2} b^{2} e^{- \\frac{3 \\pi^{2}}{L^{2} \\xi^{2}}}}{3 L^{5} \\eta \\xi^{2}} + \\frac{2 \\pi^{2} b^{2} e^{- \\frac{4 \\pi^{2}}{L^{2} \\xi^{2}}}}{L^{5} \\eta \\xi^{2}} + \\frac{34 \\pi^{2} b^{2} e^{- \\frac{5 \\pi^{2}}{L^{2} \\xi^{2}}}}{5 L^{5} \\eta \\xi^{2}} + \\frac{6 \\pi^{2} b^{2} e^{- \\frac{6 \\pi^{2}}{L^{2} \\xi^{2}}}}{L^{5} \\eta \\xi^{2}} + \\frac{2 \\pi^{2} b^{2} e^{- \\frac{8 \\pi^{2}}{L^{2} \\xi^{2}}}}{L^{5} \\eta \\xi^{2}} + \\frac{11 \\pi^{2} b^{2} e^{- \\frac{9 \\pi^{2}}{L^{2} \\xi^{2}}}}{3 L^{5} \\eta \\xi^{2}} + \\frac{2 \\pi^{2} b^{2} e^{- \\frac{12 \\pi^{2}}{L^{2} \\xi^{2}}}}{3 L^{5} \\eta \\xi^{2}} - \\frac{4 \\pi^{4} b^{4} e^{- \\frac{\\pi^{2}}{L^{2} \\xi^{2}}}}{5 L^{7} \\eta \\xi^{2}} - \\frac{16 \\pi^{4} b^{4} e^{- \\frac{2 \\pi^{2}}{L^{2} \\xi^{2}}}}{5 L^{7} \\eta \\xi^{2}} - \\frac{16 \\pi^{4} b^{4} e^{- \\frac{3 \\pi^{2}}{L^{2} \\xi^{2}}}}{5 L^{7} \\eta \\xi^{2}} - \\frac{32 \\pi^{4} b^{4} e^{- \\frac{4 \\pi^{2}}{L^{2} \\xi^{2}}}}{5 L^{7} \\eta \\xi^{2}} - \\frac{136 \\pi^{4} b^{4} e^{- \\frac{5 \\pi^{2}}{L^{2} \\xi^{2}}}}{5 L^{7} \\eta \\xi^{2}} - \\frac{144 \\pi^{4} b^{4} e^{- \\frac{6 \\pi^{2}}{L^{2} \\xi^{2}}}}{5 L^{7} \\eta \\xi^{2}} - \\frac{64 \\pi^{4} b^{4} e^{- \\frac{8 \\pi^{2}}{L^{2} \\xi^{2}}}}{5 L^{7} \\eta \\xi^{2}} - \\frac{132 \\pi^{4} b^{4} e^{- \\frac{9 \\pi^{2}}{L^{2} \\xi^{2}}}}{5 L^{7} \\eta \\xi^{2}} - \\frac{32 \\pi^{4} b^{4} e^{- \\frac{12 \\pi^{2}}{L^{2} \\xi^{2}}}}{5 L^{7} \\eta \\xi^{2}} + \\frac{2 \\pi^{4} b^{2} e^{- \\frac{\\pi^{2}}{L^{2} \\xi^{2}}}}{L^{7} \\eta \\xi^{4}} + \\frac{8 \\pi^{4} b^{2} e^{- \\frac{2 \\pi^{2}}{L^{2} \\xi^{2}}}}{L^{7} \\eta \\xi^{4}} + \\frac{8 \\pi^{4} b^{2} e^{- \\frac{3 \\pi^{2}}{L^{2} \\xi^{2}}}}{L^{7} \\eta \\xi^{4}} + \\frac{16 \\pi^{4} b^{2} e^{- \\frac{4 \\pi^{2}}{L^{2} \\xi^{2}}}}{L^{7} \\eta \\xi^{4}} + \\frac{68 \\pi^{4} b^{2} e^{- \\frac{5 \\pi^{2}}{L^{2} \\xi^{2}}}}{L^{7} \\eta \\xi^{4}} + \\frac{72 \\pi^{4} b^{2} e^{- \\frac{6 \\pi^{2}}{L^{2} \\xi^{2}}}}{L^{7} \\eta \\xi^{4}} + \\frac{32 \\pi^{4} b^{2} e^{- \\frac{8 \\pi^{2}}{L^{2} \\xi^{2}}}}{L^{7} \\eta \\xi^{4}} + \\frac{66 \\pi^{4} b^{2} e^{- \\frac{9 \\pi^{2}}{L^{2} \\xi^{2}}}}{L^{7} \\eta \\xi^{4}} + \\frac{16 \\pi^{4} b^{2} e^{- \\frac{12 \\pi^{2}}{L^{2} \\xi^{2}}}}{L^{7} \\eta \\xi^{4}} - \\frac{8 \\pi^{6} b^{4} e^{- \\frac{\\pi^{2}}{L^{2} \\xi^{2}}}}{5 L^{9} \\eta \\xi^{4}} - \\frac{64 \\pi^{6} b^{4} e^{- \\frac{2 \\pi^{2}}{L^{2} \\xi^{2}}}}{5 L^{9} \\eta \\xi^{4}} - \\frac{96 \\pi^{6} b^{4} e^{- \\frac{3 \\pi^{2}}{L^{2} \\xi^{2}}}}{5 L^{9} \\eta \\xi^{4}} - \\frac{256 \\pi^{6} b^{4} e^{- \\frac{4 \\pi^{2}}{L^{2} \\xi^{2}}}}{5 L^{9} \\eta \\xi^{4}} - \\frac{272 \\pi^{6} b^{4} e^{- \\frac{5 \\pi^{2}}{L^{2} \\xi^{2}}}}{L^{9} \\eta \\xi^{4}} - \\frac{1728 \\pi^{6} b^{4} e^{- \\frac{6 \\pi^{2}}{L^{2} \\xi^{2}}}}{5 L^{9} \\eta \\xi^{4}} - \\frac{1024 \\pi^{6} b^{4} e^{- \\frac{8 \\pi^{2}}{L^{2} \\xi^{2}}}}{5 L^{9} \\eta \\xi^{4}} - \\frac{2376 \\pi^{6} b^{4} e^{- \\frac{9 \\pi^{2}}{L^{2} \\xi^{2}}}}{5 L^{9} \\eta \\xi^{4}} - \\frac{768 \\pi^{6} b^{4} e^{- \\frac{12 \\pi^{2}}{L^{2} \\xi^{2}}}}{5 L^{9} \\eta \\xi^{4}}$"
      ],
      "text/plain": [
       "b**2*exp(-pi**2/(L**2*xi**2))/(L**3*eta) + b**2*exp(-2*pi**2/(L**2*xi**2))/(L**3*eta) + 4*b**2*exp(-3*pi**2/(L**2*xi**2))/(9*L**3*eta) + b**2*exp(-4*pi**2/(L**2*xi**2))/(2*L**3*eta) + 34*b**2*exp(-5*pi**2/(L**2*xi**2))/(25*L**3*eta) + b**2*exp(-6*pi**2/(L**2*xi**2))/(L**3*eta) + b**2*exp(-8*pi**2/(L**2*xi**2))/(4*L**3*eta) + 11*b**2*exp(-9*pi**2/(L**2*xi**2))/(27*L**3*eta) + b**2*exp(-12*pi**2/(L**2*xi**2))/(18*L**3*eta) - 4*pi**2*b**4*exp(-pi**2/(L**2*xi**2))/(5*L**5*eta) - 8*pi**2*b**4*exp(-2*pi**2/(L**2*xi**2))/(5*L**5*eta) - 16*pi**2*b**4*exp(-3*pi**2/(L**2*xi**2))/(15*L**5*eta) - 8*pi**2*b**4*exp(-4*pi**2/(L**2*xi**2))/(5*L**5*eta) - 136*pi**2*b**4*exp(-5*pi**2/(L**2*xi**2))/(25*L**5*eta) - 24*pi**2*b**4*exp(-6*pi**2/(L**2*xi**2))/(5*L**5*eta) - 8*pi**2*b**4*exp(-8*pi**2/(L**2*xi**2))/(5*L**5*eta) - 44*pi**2*b**4*exp(-9*pi**2/(L**2*xi**2))/(15*L**5*eta) - 8*pi**2*b**4*exp(-12*pi**2/(L**2*xi**2))/(15*L**5*eta) + pi**2*b**2*exp(-pi**2/(L**2*xi**2))/(L**5*eta*xi**2) + 2*pi**2*b**2*exp(-2*pi**2/(L**2*xi**2))/(L**5*eta*xi**2) + 4*pi**2*b**2*exp(-3*pi**2/(L**2*xi**2))/(3*L**5*eta*xi**2) + 2*pi**2*b**2*exp(-4*pi**2/(L**2*xi**2))/(L**5*eta*xi**2) + 34*pi**2*b**2*exp(-5*pi**2/(L**2*xi**2))/(5*L**5*eta*xi**2) + 6*pi**2*b**2*exp(-6*pi**2/(L**2*xi**2))/(L**5*eta*xi**2) + 2*pi**2*b**2*exp(-8*pi**2/(L**2*xi**2))/(L**5*eta*xi**2) + 11*pi**2*b**2*exp(-9*pi**2/(L**2*xi**2))/(3*L**5*eta*xi**2) + 2*pi**2*b**2*exp(-12*pi**2/(L**2*xi**2))/(3*L**5*eta*xi**2) - 4*pi**4*b**4*exp(-pi**2/(L**2*xi**2))/(5*L**7*eta*xi**2) - 16*pi**4*b**4*exp(-2*pi**2/(L**2*xi**2))/(5*L**7*eta*xi**2) - 16*pi**4*b**4*exp(-3*pi**2/(L**2*xi**2))/(5*L**7*eta*xi**2) - 32*pi**4*b**4*exp(-4*pi**2/(L**2*xi**2))/(5*L**7*eta*xi**2) - 136*pi**4*b**4*exp(-5*pi**2/(L**2*xi**2))/(5*L**7*eta*xi**2) - 144*pi**4*b**4*exp(-6*pi**2/(L**2*xi**2))/(5*L**7*eta*xi**2) - 64*pi**4*b**4*exp(-8*pi**2/(L**2*xi**2))/(5*L**7*eta*xi**2) - 132*pi**4*b**4*exp(-9*pi**2/(L**2*xi**2))/(5*L**7*eta*xi**2) - 32*pi**4*b**4*exp(-12*pi**2/(L**2*xi**2))/(5*L**7*eta*xi**2) + 2*pi**4*b**2*exp(-pi**2/(L**2*xi**2))/(L**7*eta*xi**4) + 8*pi**4*b**2*exp(-2*pi**2/(L**2*xi**2))/(L**7*eta*xi**4) + 8*pi**4*b**2*exp(-3*pi**2/(L**2*xi**2))/(L**7*eta*xi**4) + 16*pi**4*b**2*exp(-4*pi**2/(L**2*xi**2))/(L**7*eta*xi**4) + 68*pi**4*b**2*exp(-5*pi**2/(L**2*xi**2))/(L**7*eta*xi**4) + 72*pi**4*b**2*exp(-6*pi**2/(L**2*xi**2))/(L**7*eta*xi**4) + 32*pi**4*b**2*exp(-8*pi**2/(L**2*xi**2))/(L**7*eta*xi**4) + 66*pi**4*b**2*exp(-9*pi**2/(L**2*xi**2))/(L**7*eta*xi**4) + 16*pi**4*b**2*exp(-12*pi**2/(L**2*xi**2))/(L**7*eta*xi**4) - 8*pi**6*b**4*exp(-pi**2/(L**2*xi**2))/(5*L**9*eta*xi**4) - 64*pi**6*b**4*exp(-2*pi**2/(L**2*xi**2))/(5*L**9*eta*xi**4) - 96*pi**6*b**4*exp(-3*pi**2/(L**2*xi**2))/(5*L**9*eta*xi**4) - 256*pi**6*b**4*exp(-4*pi**2/(L**2*xi**2))/(5*L**9*eta*xi**4) - 272*pi**6*b**4*exp(-5*pi**2/(L**2*xi**2))/(L**9*eta*xi**4) - 1728*pi**6*b**4*exp(-6*pi**2/(L**2*xi**2))/(5*L**9*eta*xi**4) - 1024*pi**6*b**4*exp(-8*pi**2/(L**2*xi**2))/(5*L**9*eta*xi**4) - 2376*pi**6*b**4*exp(-9*pi**2/(L**2*xi**2))/(5*L**9*eta*xi**4) - 768*pi**6*b**4*exp(-12*pi**2/(L**2*xi**2))/(5*L**9*eta*xi**4)"
      ]
     },
     "execution_count": 243,
     "metadata": {},
     "output_type": "execute_result"
    }
   ],
   "source": [
    "sympy.simplify(matG2s2s[1,1]).expand(power_exp=True)"
   ]
  },
  {
   "cell_type": "code",
   "execution_count": null,
   "id": "8cf820fe-8018-4e7e-aa1c-50e0bf838bd9",
   "metadata": {},
   "outputs": [],
   "source": []
  },
  {
   "cell_type": "code",
   "execution_count": null,
   "id": "384798cc-02de-423f-a93e-dc44496d0431",
   "metadata": {},
   "outputs": [],
   "source": []
  },
  {
   "cell_type": "code",
   "execution_count": null,
   "id": "465a18e1-9ccb-43c6-be9c-7d256fc16fbc",
   "metadata": {},
   "outputs": [],
   "source": []
  },
  {
   "cell_type": "code",
   "execution_count": null,
   "id": "1a2ecb19-d935-4ba6-9ed1-ed6bd6f6a66b",
   "metadata": {},
   "outputs": [],
   "source": []
  },
  {
   "cell_type": "code",
   "execution_count": null,
   "id": "5999447b-0f5d-4f5d-8519-51aeabda8507",
   "metadata": {},
   "outputs": [],
   "source": []
  },
  {
   "cell_type": "code",
   "execution_count": null,
   "id": "87409254-df20-4573-a990-3d0c4292594b",
   "metadata": {},
   "outputs": [],
   "source": []
  },
  {
   "cell_type": "code",
   "execution_count": null,
   "id": "0138fd72-a87b-45fb-aa9a-f041db877f90",
   "metadata": {},
   "outputs": [],
   "source": []
  },
  {
   "cell_type": "code",
   "execution_count": null,
   "id": "4d63aade-4b5e-4997-9bc1-af488bcb092a",
   "metadata": {},
   "outputs": [],
   "source": []
  },
  {
   "cell_type": "code",
   "execution_count": null,
   "id": "b03f4491-bf22-4bda-892b-f1e233128fe4",
   "metadata": {},
   "outputs": [],
   "source": []
  },
  {
   "cell_type": "code",
   "execution_count": null,
   "id": "f819bd5c-78d8-4896-afea-eb0b37fa52ff",
   "metadata": {},
   "outputs": [],
   "source": []
  },
  {
   "cell_type": "code",
   "execution_count": null,
   "id": "47707548-ff1b-47c4-bbd0-c6b8ba21f9b3",
   "metadata": {},
   "outputs": [],
   "source": []
  },
  {
   "cell_type": "code",
   "execution_count": null,
   "id": "2c06000a-c307-491c-8d33-07ae3d5b48c1",
   "metadata": {},
   "outputs": [],
   "source": []
  },
  {
   "cell_type": "code",
   "execution_count": null,
   "id": "4222120c-1388-43c0-8ef4-c936f4534cc2",
   "metadata": {},
   "outputs": [],
   "source": []
  },
  {
   "cell_type": "code",
   "execution_count": null,
   "id": "8f3ddb1b-53bd-47f6-b3bf-c4cf0ea4a9cb",
   "metadata": {},
   "outputs": [],
   "source": []
  },
  {
   "cell_type": "code",
   "execution_count": null,
   "id": "2320a53c-2980-4747-864f-4c3c2f0178bf",
   "metadata": {},
   "outputs": [],
   "source": []
  },
  {
   "cell_type": "code",
   "execution_count": 33,
   "id": "fb424ab9-5900-4a51-9f4e-22575d533bae",
   "metadata": {},
   "outputs": [
    {
     "data": {
      "text/plain": [
       "(3, 3)"
      ]
     },
     "execution_count": 33,
     "metadata": {},
     "output_type": "execute_result"
    }
   ],
   "source": [
    "matG1s1s.shape"
   ]
  },
  {
   "cell_type": "code",
   "execution_count": null,
   "id": "07fd7f91-94b4-44d9-a71b-8086fd3ed985",
   "metadata": {},
   "outputs": [],
   "source": []
  },
  {
   "cell_type": "code",
   "execution_count": 390,
   "id": "9220b198-44e3-4a93-896a-7557fde40e85",
   "metadata": {},
   "outputs": [
    {
     "data": {
      "text/plain": [
       "[-3.36052539015438, 3.36052539015438]"
      ]
     },
     "execution_count": 390,
     "metadata": {},
     "output_type": "execute_result"
    }
   ],
   "source": [
    "sympy.solve(matGF3s3s[4,4].subs({b:1, eta:1/6, xi:sqrt(pi)/L}), L) ## this does not seem to tell me much tbh. GR3s3s eg also has a root wrt L"
   ]
  },
  {
   "cell_type": "code",
   "execution_count": 401,
   "id": "9985b839-32c4-4ab9-8e00-4e3e2054cdef",
   "metadata": {},
   "outputs": [
    {
     "data": {
      "text/plain": [
       "[-2.88813589883052*b, 2.88813589883052*b]"
      ]
     },
     "execution_count": 401,
     "metadata": {},
     "output_type": "execute_result"
    }
   ],
   "source": [
    "sympy.solve(sympy.Matrix(matGF3s1s)[0,0].subs(xi,sqrt(pi)/L), L)"
   ]
  },
  {
   "cell_type": "code",
   "execution_count": 410,
   "id": "10ce310b-cf2a-46a1-90cd-803a7a075377",
   "metadata": {},
   "outputs": [
    {
     "data": {
      "text/plain": [
       "-0.0108895285293013"
      ]
     },
     "execution_count": 410,
     "metadata": {},
     "output_type": "execute_result"
    }
   ],
   "source": [
    "Laplacian(Laplacian( GreenReal(0,0) )).subs({b:1, eta:1, L:10, xi:sqrt(pi)/10, xij:10, yij:10, zij:10}).evalf()"
   ]
  },
  {
   "cell_type": "code",
   "execution_count": 411,
   "id": "364c0f32-5e68-4603-ab81-f290724a3f1c",
   "metadata": {},
   "outputs": [
    {
     "data": {
      "text/plain": [
       "2.7477148249433"
      ]
     },
     "execution_count": 411,
     "metadata": {},
     "output_type": "execute_result"
    }
   ],
   "source": [
    "Laplacian(Laplacian( GreenFourier(0,0) )).subs({b:1, eta:1, L:10, xi:sqrt(pi)/10, xij:0, yij:0, zij:0}).evalf()"
   ]
  },
  {
   "cell_type": "code",
   "execution_count": 413,
   "id": "45d3307b-b5d4-4081-9ac3-afb02e5fd2f8",
   "metadata": {},
   "outputs": [
    {
     "data": {
      "text/plain": [
       "0.0"
      ]
     },
     "execution_count": 413,
     "metadata": {},
     "output_type": "execute_result"
    }
   ],
   "source": [
    "(diff(GreenFourier(0,0), rij[0]) + diff(GreenFourier(1,0), rij[1]) + diff(GreenFourier(2,0), rij[2])).subs({b:1, eta:1, L:10, xi:sqrt(pi)/10, xij:10, yij:10, zij:10}).evalf()"
   ]
  },
  {
   "cell_type": "code",
   "execution_count": null,
   "id": "bbb38b2b-8562-472d-b838-7581e1f3a992",
   "metadata": {},
   "outputs": [],
   "source": []
  },
  {
   "cell_type": "code",
   "execution_count": 415,
   "id": "a28d9095-3c4d-46e8-8875-47faf20e837a",
   "metadata": {},
   "outputs": [
    {
     "data": {
      "text/plain": [
       "2.7477148249433"
      ]
     },
     "execution_count": 415,
     "metadata": {},
     "output_type": "execute_result"
    }
   ],
   "source": [
    "Laplacian(Laplacian( GreenFourier(0,0) )).subs(\n",
    "    {b:1, eta:1, L:10, xi:sqrt(pi)/10, xij:0, yij:0, zij:0}).evalf()"
   ]
  },
  {
   "cell_type": "code",
   "execution_count": 438,
   "id": "9f0d4abb-ebb8-47e9-a7bc-29d35252685f",
   "metadata": {},
   "outputs": [
    {
     "data": {
      "text/plain": [
       "sqrt(kx**2 + ky**2 + kz**2)"
      ]
     },
     "execution_count": 438,
     "metadata": {},
     "output_type": "execute_result"
    }
   ],
   "source": [
    "k_vec = Matrix([kx, ky, kz])\n",
    "norm(k_vec)"
   ]
  },
  {
   "cell_type": "code",
   "execution_count": 448,
   "id": "03052496-4c6e-4f5b-99d4-24560b776c72",
   "metadata": {},
   "outputs": [],
   "source": [
    "def M1r(alpha, beta):\n",
    "    func = norm(rij)*erfc(xi*norm(rij))\n",
    "    return KroneckerDelta[alpha, beta]*Laplacian(func) - diff( func, rij[alpha], rij[beta])\n",
    "\n",
    "def M2r(alpha, beta):\n",
    "    func = norm(rij)*erf(xi*norm(rij))\n",
    "    return KroneckerDelta[alpha, beta]*Laplacian(func) - diff( func, rij[alpha], rij[beta])\n",
    "\n",
    "def Mr(alpha, beta):\n",
    "    return M1r(alpha,beta) + M2r(alpha,beta)"
   ]
  },
  {
   "cell_type": "code",
   "execution_count": 452,
   "id": "3f5f6309-ad70-41cf-8876-25498e1e7519",
   "metadata": {},
   "outputs": [
    {
     "data": {
      "text/plain": [
       "0"
      ]
     },
     "execution_count": 452,
     "metadata": {},
     "output_type": "execute_result"
    }
   ],
   "source": [
    "Laplacian(Laplacian( Mr(2,2))).subs({xij:1, yij:1, zij:1, xi:1})"
   ]
  },
  {
   "cell_type": "code",
   "execution_count": 465,
   "id": "59e3d640-b6a2-40bd-892d-4d90e4bcc5c9",
   "metadata": {},
   "outputs": [
    {
     "data": {
      "text/plain": [
       "-(nan + nan*xi/sqrt(pi))"
      ]
     },
     "execution_count": 465,
     "metadata": {},
     "output_type": "execute_result"
    }
   ],
   "source": [
    "M2r(0,1).subs({xij:0, yij:0, zij:0})"
   ]
  },
  {
   "cell_type": "code",
   "execution_count": 466,
   "id": "475c8a14-4342-48a8-b4b9-dc99af0e6146",
   "metadata": {},
   "outputs": [
    {
     "data": {
      "text/plain": [
       "-(-xij*yij*erf(xi*sqrt(xij**2 + yij**2 + zij**2))/(xij**2 + yij**2 + zij**2)**(3/2) - 4*exp(-xi**2*(xij**2 + yij**2 + zij**2))*xi**3*xij*yij/sqrt(pi) + 2*exp(-xi**2*(xij**2 + yij**2 + zij**2))*xi*xij*yij/(sqrt(pi)*(xij**2 + yij**2 + zij**2)))"
      ]
     },
     "execution_count": 466,
     "metadata": {},
     "output_type": "execute_result"
    }
   ],
   "source": [
    "M2r(0,1)"
   ]
  },
  {
   "cell_type": "code",
   "execution_count": null,
   "id": "408986e5-cab0-4709-bf37-dc2324e4bf69",
   "metadata": {},
   "outputs": [],
   "source": []
  },
  {
   "cell_type": "code",
   "execution_count": null,
   "id": "1befc6a4-ded3-45a2-bf6f-5a04a6554ca1",
   "metadata": {},
   "outputs": [],
   "source": []
  },
  {
   "cell_type": "code",
   "execution_count": null,
   "id": "1bf8635c-bea0-4f53-8d19-91056144f05d",
   "metadata": {},
   "outputs": [],
   "source": []
  },
  {
   "cell_type": "code",
   "execution_count": null,
   "id": "cfa816de-c52c-4c75-a2cf-2f26fa521d20",
   "metadata": {},
   "outputs": [],
   "source": []
  },
  {
   "cell_type": "code",
   "execution_count": 467,
   "id": "3552b375-5f26-410f-abb2-dc48d29aa017",
   "metadata": {},
   "outputs": [],
   "source": [
    "def M2r(alpha, beta):\n",
    "    func = norm(rij)*erf(xi*norm(rij))\n",
    "    return KroneckerDelta[alpha, beta]*Laplacian(func) - diff( func, rij[alpha], rij[beta])"
   ]
  },
  {
   "cell_type": "code",
   "execution_count": 494,
   "id": "1f076cec-9997-49a3-aee1-033ecab437c6",
   "metadata": {},
   "outputs": [
    {
     "data": {
      "text/latex": [
       "$\\displaystyle \\frac{8 \\xi}{\\sqrt{\\pi}}$"
      ],
      "text/plain": [
       "8*xi/sqrt(pi)"
      ]
     },
     "execution_count": 494,
     "metadata": {},
     "output_type": "execute_result"
    }
   ],
   "source": [
    "\n",
    "sympy.limit(sympy.powdenest(M2r(0,0).subs({xij:L, yij:L, zij:L}), force=True), L, 0) ## have to multiply by 1/8*pi*eta"
   ]
  },
  {
   "cell_type": "code",
   "execution_count": 493,
   "id": "71068db1-3b54-4d8f-ae3f-3868f53e9728",
   "metadata": {},
   "outputs": [
    {
     "data": {
      "text/latex": [
       "$\\displaystyle - \\frac{4 \\xi^{3} yij^{2} e^{- \\xi^{2} \\left(xij^{2} + yij^{2} + zij^{2}\\right)}}{\\sqrt{\\pi}} - \\frac{4 \\xi^{3} zij^{2} e^{- \\xi^{2} \\left(xij^{2} + yij^{2} + zij^{2}\\right)}}{\\sqrt{\\pi}} + \\frac{2 \\xi yij^{2} e^{- \\xi^{2} \\left(xij^{2} + yij^{2} + zij^{2}\\right)}}{\\sqrt{\\pi} \\left(xij^{2} + yij^{2} + zij^{2}\\right)} + \\frac{2 \\xi zij^{2} e^{- \\xi^{2} \\left(xij^{2} + yij^{2} + zij^{2}\\right)}}{\\sqrt{\\pi} \\left(xij^{2} + yij^{2} + zij^{2}\\right)} + \\frac{4 \\xi e^{- \\xi^{2} \\left(xij^{2} + yij^{2} + zij^{2}\\right)}}{\\sqrt{\\pi}} - \\frac{yij^{2} \\operatorname{erf}{\\left(\\xi \\sqrt{xij^{2} + yij^{2} + zij^{2}} \\right)}}{\\left(xij^{2} + yij^{2} + zij^{2}\\right)^{\\frac{3}{2}}} - \\frac{zij^{2} \\operatorname{erf}{\\left(\\xi \\sqrt{xij^{2} + yij^{2} + zij^{2}} \\right)}}{\\left(xij^{2} + yij^{2} + zij^{2}\\right)^{\\frac{3}{2}}} + \\frac{2 \\operatorname{erf}{\\left(\\xi \\sqrt{xij^{2} + yij^{2} + zij^{2}} \\right)}}{\\sqrt{xij^{2} + yij^{2} + zij^{2}}}$"
      ],
      "text/plain": [
       "-4*xi**3*yij**2*exp(-xi**2*(xij**2 + yij**2 + zij**2))/sqrt(pi) - 4*xi**3*zij**2*exp(-xi**2*(xij**2 + yij**2 + zij**2))/sqrt(pi) + 2*xi*yij**2*exp(-xi**2*(xij**2 + yij**2 + zij**2))/(sqrt(pi)*(xij**2 + yij**2 + zij**2)) + 2*xi*zij**2*exp(-xi**2*(xij**2 + yij**2 + zij**2))/(sqrt(pi)*(xij**2 + yij**2 + zij**2)) + 4*xi*exp(-xi**2*(xij**2 + yij**2 + zij**2))/sqrt(pi) - yij**2*erf(xi*sqrt(xij**2 + yij**2 + zij**2))/(xij**2 + yij**2 + zij**2)**(3/2) - zij**2*erf(xi*sqrt(xij**2 + yij**2 + zij**2))/(xij**2 + yij**2 + zij**2)**(3/2) + 2*erf(xi*sqrt(xij**2 + yij**2 + zij**2))/sqrt(xij**2 + yij**2 + zij**2)"
      ]
     },
     "execution_count": 493,
     "metadata": {},
     "output_type": "execute_result"
    }
   ],
   "source": [
    "sympy.powdenest(M2r(0,0))"
   ]
  },
  {
   "cell_type": "code",
   "execution_count": null,
   "id": "c52b2144-154c-4dbc-9f84-4e903f69a004",
   "metadata": {},
   "outputs": [],
   "source": []
  },
  {
   "cell_type": "code",
   "execution_count": null,
   "id": "d590e33a-2b99-4325-ae45-edc7de39a06f",
   "metadata": {},
   "outputs": [],
   "source": []
  },
  {
   "cell_type": "code",
   "execution_count": null,
   "id": "3b9984f0-e861-4fe4-852b-5eddc0de6e4f",
   "metadata": {},
   "outputs": [],
   "source": []
  },
  {
   "cell_type": "code",
   "execution_count": null,
   "id": "34d8f9c6-6aa3-4625-afbe-4702f86d43a2",
   "metadata": {},
   "outputs": [],
   "source": []
  },
  {
   "cell_type": "code",
   "execution_count": null,
   "id": "432d7053-f568-40cd-b481-cc610dff185d",
   "metadata": {},
   "outputs": [],
   "source": []
  },
  {
   "cell_type": "code",
   "execution_count": null,
   "id": "62e75cff-52f0-4a7a-b254-0fac725c2d9f",
   "metadata": {},
   "outputs": [],
   "source": []
  }
 ],
 "metadata": {
  "kernelspec": {
   "display_name": "Python 3 (ipykernel)",
   "language": "python",
   "name": "python3"
  },
  "language_info": {
   "codemirror_mode": {
    "name": "ipython",
    "version": 3
   },
   "file_extension": ".py",
   "mimetype": "text/x-python",
   "name": "python",
   "nbconvert_exporter": "python",
   "pygments_lexer": "ipython3",
   "version": "3.10.2"
  }
 },
 "nbformat": 4,
 "nbformat_minor": 5
}
