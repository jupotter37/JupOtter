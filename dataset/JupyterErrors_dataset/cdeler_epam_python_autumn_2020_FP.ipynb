{
 "cells": [
  {
   "cell_type": "markdown",
   "metadata": {
    "slideshow": {
     "slide_type": "slide"
    }
   },
   "source": [
    "# Functional Programming"
   ]
  },
  {
   "cell_type": "markdown",
   "metadata": {
    "slideshow": {
     "slide_type": "slide"
    }
   },
   "source": [
    "## PART I : Functions, functional programming."
   ]
  },
  {
   "cell_type": "markdown",
   "metadata": {
    "slideshow": {
     "slide_type": "subslide"
    }
   },
   "source": [
    "```python\n",
    "def f(a, b, *args, c=10, **kwargs):\n",
    "    \"\"\"Some function\"\"\"\n",
    "    x = 100\n",
    "    return a * x\n",
    "````\n",
    "\n",
    "https://docs.python.org/3/tutorial/controlflow.html#defining-function"
   ]
  },
  {
   "cell_type": "markdown",
   "metadata": {
    "slideshow": {
     "slide_type": "fragment"
    }
   },
   "source": [
    "Why do we need functions, anyway?"
   ]
  },
  {
   "cell_type": "markdown",
   "metadata": {
    "slideshow": {
     "slide_type": "subslide"
    }
   },
   "source": [
    "There are several well known paradigms of programming\n",
    "\n",
    "* Imperative - How to do\n",
    "* Declarative - What has to be done\n",
    "* Functional - Subset of Declarative, Sequence of transformations\n",
    " "
   ]
  },
  {
   "cell_type": "markdown",
   "metadata": {
    "slideshow": {
     "slide_type": "fragment"
    }
   },
   "source": [
    "   \n",
    "**Imperative style** is a set of instructions (**statements**) on how to change a **state**.\n",
    "\n",
    "**State** is **values** of all **variables** in all contexts in a giving moment. We can create, mutate and delete variables. We usually use statements, flow control conditional constructs (`if/then/else, try/except`), loops (`for/while`) changing context (`def, class, import`). State is defined by the values of the variables in the various namespaces. "
   ]
  },
  {
   "cell_type": "markdown",
   "metadata": {
    "slideshow": {
     "slide_type": "subslide"
    }
   },
   "source": [
    "In **functional style** we use a notion of evaluating functions rather than changing states. Each function evaluation creates a new object or objects from existing objects. So, we can consider program execution as a sequence of function executions or sequence of mappings between data objects. In order to make complex transformations, functions can be composed from lower-level functions that are easy to understand."
   ]
  },
  {
   "cell_type": "markdown",
   "metadata": {
    "slideshow": {
     "slide_type": "fragment"
    }
   },
   "source": [
    "<img src=\"https://miro.medium.com/max/481/1*Pu1s8ChYsCKNlmnV4eGNig.png\">"
   ]
  },
  {
   "cell_type": "markdown",
   "metadata": {
    "slideshow": {
     "slide_type": "slide"
    }
   },
   "source": [
    "### SECTION 1: Functions as objects"
   ]
  },
  {
   "cell_type": "markdown",
   "metadata": {
    "slideshow": {
     "slide_type": "subslide"
    }
   },
   "source": [
    "Everything is an **object** in Python, so **function** does. This is a usually called _First-class object model_. This basically means, that unlike in **C** or **Java**, function objects not only may be invoked, but may be \n",
    "\n",
    "* assigned to other names\n",
    "* passed to other functions\n",
    "* returned from one function to another\n",
    "* embedded in data structures\n",
    "* ... and more\n",
    "\n",
    "as if they were simple numbers or strings\n",
    "\n",
    "Still, functions belong to the same general category as other objects."
   ]
  },
  {
   "cell_type": "markdown",
   "metadata": {
    "slideshow": {
     "slide_type": "subslide"
    }
   },
   "source": [
    "### Assigned to other names"
   ]
  },
  {
   "cell_type": "code",
   "execution_count": 1,
   "metadata": {
    "scrolled": true,
    "slideshow": {
     "slide_type": "fragment"
    }
   },
   "outputs": [
    {
     "name": "stdout",
     "output_type": "stream",
     "text": [
      "Hello world\n"
     ]
    }
   ],
   "source": [
    " def f(a):\n",
    "    print(a)\n",
    "    \n",
    "g = f\n",
    "\n",
    "g('Hello world')"
   ]
  },
  {
   "cell_type": "code",
   "execution_count": 2,
   "metadata": {
    "slideshow": {
     "slide_type": "subslide"
    }
   },
   "outputs": [
    {
     "name": "stdout",
     "output_type": "stream",
     "text": [
      "  1           0 LOAD_CONST               0 (10)\n",
      "              2 STORE_NAME               0 (a)\n",
      "              4 LOAD_CONST               1 (None)\n",
      "              6 RETURN_VALUE\n"
     ]
    }
   ],
   "source": [
    "from dis import dis\n",
    "\n",
    "dis(\"a=10\")"
   ]
  },
  {
   "cell_type": "code",
   "execution_count": 3,
   "metadata": {
    "slideshow": {
     "slide_type": "fragment"
    }
   },
   "outputs": [
    {
     "name": "stdout",
     "output_type": "stream",
     "text": [
      "  1           0 LOAD_CONST               4 ((10,))\n",
      "              2 LOAD_CONST               1 (<code object f at 0x7f53ec609920, file \"<dis>\", line 1>)\n",
      "              4 LOAD_CONST               2 ('f')\n",
      "              6 MAKE_FUNCTION            1 (defaults)\n",
      "              8 STORE_NAME               0 (f)\n",
      "             10 LOAD_CONST               3 (None)\n",
      "             12 RETURN_VALUE\n",
      "\n",
      "Disassembly of <code object f at 0x7f53ec609920, file \"<dis>\", line 1>:\n",
      "  1           0 LOAD_CONST               0 (None)\n",
      "              2 RETURN_VALUE\n"
     ]
    }
   ],
   "source": [
    "dis(\"def f(a, b, c=10): return\")"
   ]
  },
  {
   "cell_type": "markdown",
   "metadata": {
    "slideshow": {
     "slide_type": "subslide"
    }
   },
   "source": [
    "### Passed to other functions"
   ]
  },
  {
   "cell_type": "code",
   "execution_count": 4,
   "metadata": {
    "slideshow": {
     "slide_type": "subslide"
    }
   },
   "outputs": [
    {
     "name": "stdout",
     "output_type": "stream",
     "text": [
      "[2, 4, 3, 1, 7]\n"
     ]
    }
   ],
   "source": [
    "x = [3, 1, 2, 7, 4]\n",
    "\n",
    "\n",
    "def key(a):\n",
    "    return a % 2 \n",
    "\n",
    "z = sorted(x, key=key)\n",
    "print(z)"
   ]
  },
  {
   "cell_type": "markdown",
   "metadata": {
    "slideshow": {
     "slide_type": "subslide"
    }
   },
   "source": [
    "### Returned from other functions"
   ]
  },
  {
   "cell_type": "code",
   "execution_count": 6,
   "metadata": {
    "slideshow": {
     "slide_type": "subslide"
    }
   },
   "outputs": [
    {
     "name": "stdout",
     "output_type": "stream",
     "text": [
      "<function power at 0x7f53ec6293a0>\n"
     ]
    }
   ],
   "source": [
    "def add(a, b):\n",
    "    return a + b\n",
    "def mul(a, b):\n",
    "    return a * b\n",
    "def power (a, b):\n",
    "    return a ** b\n",
    "        \n",
    "# determine what function produces highest value\n",
    "    \n",
    "def highest(a, b, functions):\n",
    "    results = [\n",
    "        (f, f(a, b))\n",
    "        for f in functions\n",
    "        ]\n",
    "       \n",
    "      \n",
    "    sorted_results = sorted(results, key=lambda a: a[1], reverse = True)\n",
    "    return sorted_results[0][0]\n",
    "\n",
    "print(highest(a=2, b=4, functions=[add, mul, power]))"
   ]
  },
  {
   "cell_type": "markdown",
   "metadata": {
    "slideshow": {
     "slide_type": "subslide"
    }
   },
   "source": [
    "### Functions can be assigned names or can be anonymous: \n",
    "     \n",
    "     >>> b = 3\n",
    "     >>> f2 = lambda x: x + 10*b\n",
    "     \n",
    "Formally: \n",
    "\n",
    "`lambda argument1, argument2,... argumentN : expression using arguments`\n",
    "\n",
    "**Use cases:**\n",
    " \n",
    "* List sorting \n",
    "\n",
    "`sorted(results, key=lambda a: a[1], reverse = True)`\n",
    "\n",
    "* Function as a parameter\n",
    "\n",
    "`print(highest(a=2, b=4, functions=[add, mul, power]))`\n",
    "     \n",
    "\n"
   ]
  },
  {
   "cell_type": "markdown",
   "metadata": {
    "slideshow": {
     "slide_type": "subslide"
    }
   },
   "source": [
    "### Notes\n",
    "\n",
    "* lambda is an expression, not a statement\n",
    "* lambda ’s body is a single expression, not a block of statements\n",
    "* scope lookup rules are the same as for the **def** "
   ]
  },
  {
   "cell_type": "markdown",
   "metadata": {
    "slideshow": {
     "slide_type": "fragment"
    }
   },
   "source": [
    "### Benefits\n",
    "\n",
    "Lambda is an expression which returns functional object\n",
    "\n",
    "Lambda provides code proximity\n",
    "\n",
    "Is good as one-time job\n",
    "\n",
    "Can be inlined into fuction calls"
   ]
  },
  {
   "cell_type": "markdown",
   "metadata": {
    "slideshow": {
     "slide_type": "subslide"
    }
   },
   "source": [
    "### Final Notes\n",
    "\n",
    "Because we can manipulate functions as objects, define functions inside functions and return functions, we can do a lot of interesting things like creating functions on-the-fly that enhance capabilities of other functions or classes, combining and splitting functions, memorizing function results to reuse to not to call function twice, etc."
   ]
  },
  {
   "cell_type": "markdown",
   "metadata": {
    "slideshow": {
     "slide_type": "slide"
    }
   },
   "source": [
    " ### SECTION 2 - Scopes, bounded and free variables. LEGB."
   ]
  },
  {
   "cell_type": "markdown",
   "metadata": {
    "slideshow": {
     "slide_type": "subslide"
    }
   },
   "source": [
    "### Pure functions\n",
    "\n",
    "Function that has no side-effects\n",
    "\n",
    "* Output is dependent on the input only\n",
    "\n",
    "* Determenistic - always produce same results with same parameters not produce side effects \n",
    "\n",
    "* Objects are created or deleted, never mutated \n",
    "\n",
    "* May return another function "
   ]
  },
  {
   "cell_type": "markdown",
   "metadata": {
    "slideshow": {
     "slide_type": "subslide"
    }
   },
   "source": [
    "### Bound and free variables"
   ]
  },
  {
   "cell_type": "code",
   "execution_count": 7,
   "metadata": {
    "scrolled": true,
    "slideshow": {
     "slide_type": "-"
    }
   },
   "outputs": [
    {
     "name": "stdout",
     "output_type": "stream",
     "text": [
      "v='global'\n"
     ]
    }
   ],
   "source": [
    "v = 'global'\n",
    "def f():\n",
    "    print(f'{v=}')\n",
    "f()"
   ]
  },
  {
   "cell_type": "code",
   "execution_count": 8,
   "metadata": {
    "slideshow": {
     "slide_type": "subslide"
    }
   },
   "outputs": [
    {
     "name": "stdout",
     "output_type": "stream",
     "text": [
      "113\n",
      "123\n"
     ]
    }
   ],
   "source": [
    "b = 10  # global variable\n",
    "\n",
    "def f(a):   # a is function parameter\n",
    "    c = 3  # local variable\n",
    "    return a + b + c\n",
    "\n",
    "print(f(100)) \n",
    "\n",
    "b = 20\n",
    "\n",
    "print(f(100))"
   ]
  },
  {
   "cell_type": "markdown",
   "metadata": {
    "slideshow": {
     "slide_type": "fragment"
    }
   },
   "source": [
    "It is not a pure function, because of different results depending on context."
   ]
  },
  {
   "cell_type": "code",
   "execution_count": 9,
   "metadata": {
    "slideshow": {
     "slide_type": "subslide"
    }
   },
   "outputs": [
    {
     "name": "stdout",
     "output_type": "stream",
     "text": [
      "v1='enclosed1'\n",
      "v2='enclosed2'\n"
     ]
    }
   ],
   "source": [
    "def f():\n",
    "    v1 = 'enclosed1'\n",
    "    def f2():\n",
    "        def f3():\n",
    "            print(f'{v1=}')\n",
    "            print(f'{v2=}')\n",
    "        v2 = 'enclosed2'\n",
    "        f3()\n",
    "    f2()\n",
    "f()"
   ]
  },
  {
   "cell_type": "code",
   "execution_count": 10,
   "metadata": {
    "slideshow": {
     "slide_type": "subslide"
    }
   },
   "outputs": [
    {
     "name": "stdout",
     "output_type": "stream",
     "text": [
      "113\n",
      "123\n"
     ]
    }
   ],
   "source": [
    "def g(b):\n",
    "    def f(a):\n",
    "        c = 3\n",
    "        return a + b + c\n",
    "    return f\n",
    "\n",
    "print(g(10)(100))  # here we invoke g(10) that returns FUNCTION and invoke the result with parameter a=100\n",
    "\n",
    "print(g(20)(100))  # here we invoke g(20) that returns FUNCTION and invoke the result with parameter a=100\n"
   ]
  },
  {
   "cell_type": "markdown",
   "metadata": {
    "slideshow": {
     "slide_type": "fragment"
    }
   },
   "source": [
    "Variable `a` is function parameter, variable `c` is `local variable` to function `scope`, but `b` is complicated - enclosed variable defined outside function."
   ]
  },
  {
   "cell_type": "markdown",
   "metadata": {
    "slideshow": {
     "slide_type": "fragment"
    }
   },
   "source": [
    "This is a method called **Curriyng** which is transformation of function of many arguments to a sequence of functions taking only one argument.\n",
    "Like x = f(a, b, c): \n",
    "        g = l(a)\n",
    "        k = g(b)\n",
    "        d = k(c)\n",
    "\n",
    "Otherwise x = j(a)(b)(c)\n",
    "\n",
    "**NB** Currying is related to,  but not equivalent of partial function application"
   ]
  },
  {
   "cell_type": "markdown",
   "metadata": {
    "slideshow": {
     "slide_type": "subslide"
    }
   },
   "source": [
    "Class body is not considered an enclosing scope:"
   ]
  },
  {
   "cell_type": "code",
   "execution_count": 11,
   "metadata": {
    "slideshow": {
     "slide_type": "-"
    }
   },
   "outputs": [
    {
     "name": "stdout",
     "output_type": "stream",
     "text": [
      "A v='local'\n",
      "f v='global'\n"
     ]
    }
   ],
   "source": [
    "v = 'global'\n",
    "class A:\n",
    "    v = 'local'\n",
    "    print(f'A {v=}')\n",
    "    \n",
    "    def f():\n",
    "        print(f'f {v=}')\n",
    "\n",
    "\n",
    "A.f()"
   ]
  },
  {
   "cell_type": "markdown",
   "metadata": {
    "slideshow": {
     "slide_type": "subslide"
    }
   },
   "source": [
    "We can use same variables locally without affecting global value"
   ]
  },
  {
   "cell_type": "code",
   "execution_count": 12,
   "metadata": {
    "slideshow": {
     "slide_type": "-"
    }
   },
   "outputs": [
    {
     "name": "stdout",
     "output_type": "stream",
     "text": [
      "f v='local'\n",
      "outside f v='global'\n"
     ]
    }
   ],
   "source": [
    "v = 'global'\n",
    "def f():\n",
    "    v = 'local'\n",
    "    print(f'f {v=}')\n",
    "f()\n",
    "\n",
    "print(f'outside f {v=}')"
   ]
  },
  {
   "cell_type": "code",
   "execution_count": 17,
   "metadata": {
    "slideshow": {
     "slide_type": "fragment"
    }
   },
   "outputs": [
    {
     "ename": "UnboundLocalError",
     "evalue": "local variable 'v' referenced before assignment",
     "output_type": "error",
     "traceback": [
      "\u001b[0;31m--------------------------------------------------------------------\u001b[0m",
      "\u001b[0;31mUnboundLocalError\u001b[0m                  Traceback (most recent call last)",
      "\u001b[0;32m<ipython-input-17-db4c83a67cad>\u001b[0m in \u001b[0;36m<module>\u001b[0;34m\u001b[0m\n\u001b[1;32m      3\u001b[0m     \u001b[0mprint\u001b[0m\u001b[0;34m(\u001b[0m\u001b[0mv\u001b[0m\u001b[0;34m)\u001b[0m\u001b[0;34m\u001b[0m\u001b[0;34m\u001b[0m\u001b[0m\n\u001b[1;32m      4\u001b[0m     \u001b[0mv\u001b[0m \u001b[0;34m=\u001b[0m \u001b[0;34m'local'\u001b[0m\u001b[0;34m\u001b[0m\u001b[0;34m\u001b[0m\u001b[0m\n\u001b[0;32m----> 5\u001b[0;31m \u001b[0mf\u001b[0m\u001b[0;34m(\u001b[0m\u001b[0;34m)\u001b[0m\u001b[0;34m\u001b[0m\u001b[0;34m\u001b[0m\u001b[0m\n\u001b[0m",
      "\u001b[0;32m<ipython-input-17-db4c83a67cad>\u001b[0m in \u001b[0;36mf\u001b[0;34m()\u001b[0m\n\u001b[1;32m      1\u001b[0m \u001b[0mv\u001b[0m \u001b[0;34m=\u001b[0m \u001b[0;34m'global'\u001b[0m\u001b[0;34m\u001b[0m\u001b[0;34m\u001b[0m\u001b[0m\n\u001b[1;32m      2\u001b[0m \u001b[0;32mdef\u001b[0m \u001b[0mf\u001b[0m\u001b[0;34m(\u001b[0m\u001b[0;34m)\u001b[0m\u001b[0;34m:\u001b[0m\u001b[0;34m\u001b[0m\u001b[0;34m\u001b[0m\u001b[0m\n\u001b[0;32m----> 3\u001b[0;31m     \u001b[0mprint\u001b[0m\u001b[0;34m(\u001b[0m\u001b[0mv\u001b[0m\u001b[0;34m)\u001b[0m\u001b[0;34m\u001b[0m\u001b[0;34m\u001b[0m\u001b[0m\n\u001b[0m\u001b[1;32m      4\u001b[0m     \u001b[0mv\u001b[0m \u001b[0;34m=\u001b[0m \u001b[0;34m'local'\u001b[0m\u001b[0;34m\u001b[0m\u001b[0;34m\u001b[0m\u001b[0m\n\u001b[1;32m      5\u001b[0m \u001b[0mf\u001b[0m\u001b[0;34m(\u001b[0m\u001b[0;34m)\u001b[0m\u001b[0;34m\u001b[0m\u001b[0;34m\u001b[0m\u001b[0m\n",
      "\u001b[0;31mUnboundLocalError\u001b[0m: local variable 'v' referenced before assignment"
     ]
    }
   ],
   "source": [
    "v = 'global'\n",
    "def f():\n",
    "    print(v)\n",
    "    v = 'local'\n",
    "f()"
   ]
  },
  {
   "cell_type": "markdown",
   "metadata": {
    "slideshow": {
     "slide_type": "subslide"
    }
   },
   "source": [
    "A `free variable` is determined at run time dynamically searching the name of the variable.\n",
    "\n",
    "A `bounded variable` evaluation does not depend on the context of the function call. "
   ]
  },
  {
   "cell_type": "markdown",
   "metadata": {
    "slideshow": {
     "slide_type": "subslide"
    }
   },
   "source": [
    "Use `global` to be able to affect global variable"
   ]
  },
  {
   "cell_type": "code",
   "execution_count": 22,
   "metadata": {
    "slideshow": {
     "slide_type": "-"
    }
   },
   "outputs": [
    {
     "name": "stdout",
     "output_type": "stream",
     "text": [
      "f v='global'\n",
      "outside f v='local'\n"
     ]
    }
   ],
   "source": [
    "v = 'global'\n",
    "def f():\n",
    "    global v\n",
    "    print(f'f {v=}')\n",
    "    v = 'local'\n",
    "f()\n",
    "\n",
    "print(f'outside f {v=}')"
   ]
  },
  {
   "cell_type": "markdown",
   "metadata": {
    "slideshow": {
     "slide_type": "subslide"
    }
   },
   "source": [
    "To affect an enclosed scope variable use `nonlocal`"
   ]
  },
  {
   "cell_type": "code",
   "execution_count": 24,
   "metadata": {
    "slideshow": {
     "slide_type": "-"
    }
   },
   "outputs": [
    {
     "name": "stdout",
     "output_type": "stream",
     "text": [
      "f2 v='non-local'\n",
      "f1 v='local'\n"
     ]
    }
   ],
   "source": [
    "def f1():\n",
    "    v = 'non-local'\n",
    "    def f2():\n",
    "        nonlocal v\n",
    "        print(f'f2 {v=}')\n",
    "        v = 'local'\n",
    "    f2()\n",
    "    print(f'f1 {v=}')\n",
    "f1()"
   ]
  },
  {
   "cell_type": "markdown",
   "metadata": {
    "slideshow": {
     "slide_type": "subslide"
    }
   },
   "source": [
    "What will happend here?"
   ]
  },
  {
   "cell_type": "code",
   "execution_count": 25,
   "metadata": {},
   "outputs": [
    {
     "name": "stdout",
     "output_type": "stream",
     "text": [
      "f2 v='global'\n"
     ]
    }
   ],
   "source": [
    "v = 'global'\n",
    "def f1():\n",
    "    v = 'non-local'\n",
    "    def f2():\n",
    "        global v\n",
    "        print(f'f2 {v=}')\n",
    "    f2()\n",
    "f1()"
   ]
  },
  {
   "cell_type": "markdown",
   "metadata": {
    "slideshow": {
     "slide_type": "subslide"
    }
   },
   "source": [
    "### LEGB"
   ]
  },
  {
   "cell_type": "markdown",
   "metadata": {},
   "source": [
    "<img src=\"https://cdn.askpython.com/wp-content/uploads/2019/08/python-variable-scope-resolution-legb.png\">"
   ]
  },
  {
   "cell_type": "markdown",
   "metadata": {
    "slideshow": {
     "slide_type": "subslide"
    }
   },
   "source": [
    "### Partial"
   ]
  },
  {
   "cell_type": "code",
   "execution_count": 26,
   "metadata": {
    "slideshow": {
     "slide_type": "fragment"
    }
   },
   "outputs": [],
   "source": [
    "def filter_(strng, black_list={\"abc\"}, white_list=[\"qwe\"]):\n",
    "    if strng in white_list: return True\n",
    "    if strng in black_list: return False"
   ]
  },
  {
   "cell_type": "markdown",
   "metadata": {
    "slideshow": {
     "slide_type": "fragment"
    }
   },
   "source": [
    "The partial() is used for partial function application which “freezes” some portion of a function’s arguments and/or keywords resulting in a new object with a simplified signature."
   ]
  },
  {
   "cell_type": "code",
   "execution_count": 27,
   "metadata": {
    "scrolled": true,
    "slideshow": {
     "slide_type": "fragment"
    }
   },
   "outputs": [
    {
     "ename": "NameError",
     "evalue": "name 'bl' is not defined",
     "output_type": "error",
     "traceback": [
      "\u001b[0;31m--------------------------------------------------------------------\u001b[0m",
      "\u001b[0;31mNameError\u001b[0m                          Traceback (most recent call last)",
      "\u001b[0;32m<ipython-input-27-91ce269e9015>\u001b[0m in \u001b[0;36m<module>\u001b[0;34m\u001b[0m\n\u001b[1;32m      2\u001b[0m \u001b[0;34m\u001b[0m\u001b[0m\n\u001b[1;32m      3\u001b[0m \u001b[0;34m\u001b[0m\u001b[0m\n\u001b[0;32m----> 4\u001b[0;31m \u001b[0mfilter_n\u001b[0m \u001b[0;34m=\u001b[0m \u001b[0mpartial\u001b[0m\u001b[0;34m(\u001b[0m\u001b[0mfilter_\u001b[0m\u001b[0;34m,\u001b[0m \u001b[0mblack_list\u001b[0m\u001b[0;34m=\u001b[0m\u001b[0mbl\u001b[0m\u001b[0;34m,\u001b[0m \u001b[0mwhite_list\u001b[0m\u001b[0;34m=\u001b[0m\u001b[0mwl\u001b[0m\u001b[0;34m)\u001b[0m\u001b[0;34m\u001b[0m\u001b[0;34m\u001b[0m\u001b[0m\n\u001b[0m",
      "\u001b[0;31mNameError\u001b[0m: name 'bl' is not defined"
     ]
    }
   ],
   "source": [
    "from functools import partial\n",
    "\n",
    "\n",
    "filter_n = partial(filter_, black_list=bl_1, white_list=wl_1)\n",
    "filter_n_2 = partial(filter_, black_list=bl_2, white_list=wl_2)"
   ]
  },
  {
   "cell_type": "markdown",
   "metadata": {
    "slideshow": {
     "slide_type": "fragment"
    }
   },
   "source": [
    "You can now apply filter_n to any dataset to check if an item belongs to either white or black list"
   ]
  },
  {
   "cell_type": "markdown",
   "metadata": {
    "slideshow": {
     "slide_type": "subslide"
    }
   },
   "source": [
    "Lets consider following tricky example"
   ]
  },
  {
   "cell_type": "code",
   "execution_count": 31,
   "metadata": {
    "slideshow": {
     "slide_type": "fragment"
    }
   },
   "outputs": [
    {
     "data": {
      "text/plain": [
       "113"
      ]
     },
     "execution_count": 31,
     "metadata": {},
     "output_type": "execute_result"
    }
   ],
   "source": [
    "def f(a):\n",
    "    c = 3\n",
    "    return a + b + c\n",
    "       \n",
    "def g(a, b):\n",
    "    return f(a)\n",
    "\n",
    "g(100, 1)"
   ]
  },
  {
   "cell_type": "markdown",
   "metadata": {
    "slideshow": {
     "slide_type": "fragment"
    }
   },
   "source": [
    "In python whether variable in function is free or bound is determined when function is defined."
   ]
  },
  {
   "cell_type": "markdown",
   "metadata": {
    "slideshow": {
     "slide_type": "subslide"
    }
   },
   "source": [
    "Back to pure functions. Functional programming langages deals primary with pure functions (haskell has ONLY pure functions). Python is hybrid language that allows mixing approaches with procedural, imperative, declarative, OOP and functional style. This allows to write very readable code.\n",
    "\n",
    "Now, what is so important about pure functions?"
   ]
  },
  {
   "cell_type": "markdown",
   "metadata": {
    "slideshow": {
     "slide_type": "fragment"
    }
   },
   "source": [
    "* testable. feed a parameter and expect a return result\n",
    "* values could be cached, precomputed, etc.\n",
    "* they can be lazy  (lazy function - function that is invoked only when needed)\n",
    "* since they dont alter the context they are very easy to parallelize (very important)\n",
    " \n",
    "\n",
    "In python to exploit benefits of functional programming style functions do not have to be pure, but you have to be careful with side effects, otherwise you may introduce `race conditions` or  `Heisenbugs` (bugs that appear only in rare cases), that are VERY hard to find and eliminate."
   ]
  },
  {
   "cell_type": "markdown",
   "metadata": {
    "slideshow": {
     "slide_type": "slide"
    }
   },
   "source": [
    "### Functional programming drawbacks and The Python Way"
   ]
  },
  {
   "cell_type": "markdown",
   "metadata": {
    "slideshow": {
     "slide_type": "subslide"
    }
   },
   "source": [
    "There are some disadvantages of pure functional approach, which are most clear in languages like Haskell, F# etc:\n",
    "\n",
    "* Hard to code and understand\n",
    "* Functions limited to pure ones\n",
    "* I/O is hacked on top of language core (in haskell it's a mess)\n",
    "* Conditional execution is a mess (what happens if you need different business logic based on some value in db?)\n",
    "* Common patterns are overcomplicated\n",
    "\n",
    "Functional languages are good for calculations (like finding factorial of a number), data processing and so on, but poor in business cases.\n",
    "\n",
    "Python hybrid approach allows most of benefits of pure functional programming without significant drawbacks."
   ]
  },
  {
   "cell_type": "markdown",
   "metadata": {
    "slideshow": {
     "slide_type": "slide"
    }
   },
   "source": [
    "### Decorators - example of hybrid approach"
   ]
  },
  {
   "cell_type": "markdown",
   "metadata": {
    "slideshow": {
     "slide_type": "fragment"
    }
   },
   "source": [
    "If you have a function whose logic can be decomposed into two pieces, so that one is essential to your task and the other is auxiliary, so you can separate them. This brings you an ability generalize auxiliary task, and make logic relevant to your main task clear.\n",
    "\n",
    "Decorator is a function manager, which adds functionality to a function and which manages both function calls and function objects.\n",
    "\n",
    "You can encounter decorators: \n",
    "\n",
    "* Python built-in decorators (static and class method declaration, property creation, etc.). \n",
    "* Python toolkits (e.g. managing database or user-interface logic)\n",
    "* In most of the libraries you will be using\n",
    "\n",
    "**Note** We are speaking about function decorators. There is class decorators also. "
   ]
  },
  {
   "cell_type": "code",
   "execution_count": null,
   "metadata": {
    "slideshow": {
     "slide_type": "subslide"
    }
   },
   "outputs": [],
   "source": [
    "def get_user(username):\n",
    "    conn = connect_to_db()\n",
    "    print('connected to db!')\n",
    "    try:\n",
    "        user = conn.get_user(username)\n",
    "    except UserNotExists:\n",
    "        logging.error('Database error: user not exists')\n",
    "        user = None\n",
    "    conn.disconnect()\n",
    "    return user\n",
    "\n",
    "def update_user(username, data_to_update):\n",
    "    conn = connect_to_db()\n",
    "    print('connected to db!')\n",
    "    try:\n",
    "        user = conn.get_user(username)\n",
    "    except UserNotExists:\n",
    "        logging.error('Database error: user not exists')\n",
    "        user = None\n",
    "    if user:\n",
    "        user.update(data_to_update)\n",
    "    conn.disconnect()\n",
    "\n",
    "def delete_user(username):\n",
    "    conn = connect_to_db()\n",
    "    print('connected to db!')\n",
    "    try:\n",
    "        user = conn.get_user(username)\n",
    "    except UserNotExists:\n",
    "        logging.error('Database error: user not exists')\n",
    "        user = None\n",
    "    if user:\n",
    "        user.delete(user)\n",
    "    conn.disconnect()"
   ]
  },
  {
   "cell_type": "markdown",
   "metadata": {
    "slideshow": {
     "slide_type": "subslide"
    }
   },
   "source": [
    "To shorten this, we could write the following:"
   ]
  },
  {
   "cell_type": "code",
   "execution_count": null,
   "metadata": {
    "slideshow": {
     "slide_type": "fragment"
    }
   },
   "outputs": [],
   "source": [
    "def connect_and_get_user(username):\n",
    "    conn = connect_to_db()\n",
    "    print('connected to db!')\n",
    "    try:\n",
    "        user = conn.get_user(username)\n",
    "    except UserNotExists:\n",
    "        logging.error('Database error: user not exists')\n",
    "        user = None\n",
    "    return user, conn"
   ]
  },
  {
   "cell_type": "markdown",
   "metadata": {
    "slideshow": {
     "slide_type": "fragment"
    }
   },
   "source": [
    "We'll still need to check if user was found and close connection:"
   ]
  },
  {
   "cell_type": "code",
   "execution_count": null,
   "metadata": {
    "slideshow": {
     "slide_type": "fragment"
    }
   },
   "outputs": [],
   "source": [
    "def get_user(username):\n",
    "    user, conn = connect_and_get_user(username)\n",
    "    conn.disconnect()\n",
    "    return user\n",
    "    \n",
    "def delete_user(username):\n",
    "    user, conn = connect_and_get_user(username)\n",
    "    if user:\n",
    "        user.delete()\n",
    "    conn.disconnect()"
   ]
  },
  {
   "cell_type": "markdown",
   "metadata": {
    "slideshow": {
     "slide_type": "subslide"
    }
   },
   "source": [
    "### Functional approach"
   ]
  },
  {
   "cell_type": "code",
   "execution_count": null,
   "metadata": {
    "slideshow": {
     "slide_type": "fragment"
    }
   },
   "outputs": [],
   "source": [
    "def get_user(user):\n",
    "    return user\n",
    "\n",
    "def delete_user(user):\n",
    "    user.delete()\n",
    "\n",
    "def update_user(user, data_to_update):\n",
    "    user.update(data_to_update)"
   ]
  },
  {
   "cell_type": "code",
   "execution_count": null,
   "metadata": {
    "slideshow": {
     "slide_type": "fragment"
    }
   },
   "outputs": [],
   "source": [
    "def decorator(f):\n",
    "    # \n",
    "    def wrapped(username, *args, **kwargs):\n",
    "        conn = connect_to_db()\n",
    "        print('connected to db!')\n",
    "        try:\n",
    "            user = conn.get_user(username)\n",
    "        except UserNotExists:\n",
    "            logging.error('Database error: user not exists')\n",
    "            user = None\n",
    "        if user:\n",
    "            result = f(user, *args, **kwargs)\n",
    "        else:\n",
    "            return\n",
    "        return result\n",
    "    return wrapped"
   ]
  },
  {
   "cell_type": "markdown",
   "metadata": {
    "slideshow": {
     "slide_type": "fragment"
    }
   },
   "source": [
    "Substitute original functions with their wrapped versions"
   ]
  },
  {
   "cell_type": "code",
   "execution_count": null,
   "metadata": {
    "slideshow": {
     "slide_type": "fragment"
    }
   },
   "outputs": [],
   "source": [
    "delete_user = decorator(delete_user) \n",
    "get_user = decorator(get_user)\n",
    "update_user = decorator(update_user)"
   ]
  },
  {
   "cell_type": "markdown",
   "metadata": {
    "slideshow": {
     "slide_type": "subslide"
    }
   },
   "source": [
    "Or in short:"
   ]
  },
  {
   "cell_type": "code",
   "execution_count": null,
   "metadata": {
    "slideshow": {
     "slide_type": "fragment"
    }
   },
   "outputs": [],
   "source": [
    "@decorator(retry=10)\n",
    "def change_password(user, password):\n",
    "    user.change_password(password)\n",
    "    \n",
    "\n",
    "change_password = decorator(change_password)"
   ]
  },
  {
   "cell_type": "markdown",
   "metadata": {
    "slideshow": {
     "slide_type": "subslide"
    }
   },
   "source": [
    "Decorators can also be parameterized:\n",
    "    It will look like this: @save(filename='test.csv') to save result of a function call to file"
   ]
  },
  {
   "cell_type": "code",
   "execution_count": null,
   "metadata": {
    "slideshow": {
     "slide_type": "fragment"
    }
   },
   "outputs": [],
   "source": [
    "def save(filename):\n",
    "    # parametrized decorator that saves result of function to file\n",
    "    def wrapper(f):\n",
    "        def substitute(a):\n",
    "            result = f(a)\n",
    "            with open(filename, 'w+') as output:\n",
    "                output.write(str(result))\n",
    "            return result\n",
    "        return substitute\n",
    "    return wrapper\n"
   ]
  },
  {
   "cell_type": "markdown",
   "metadata": {
    "slideshow": {
     "slide_type": "subslide"
    }
   },
   "source": [
    "This can be used as follows"
   ]
  },
  {
   "cell_type": "code",
   "execution_count": 34,
   "metadata": {
    "slideshow": {
     "slide_type": "fragment"
    }
   },
   "outputs": [
    {
     "data": {
      "text/plain": [
       "24"
      ]
     },
     "execution_count": 34,
     "metadata": {},
     "output_type": "execute_result"
    }
   ],
   "source": [
    "@decorator\n",
    "@save(filename=\"test.csv\")\n",
    "def f(a):\n",
    "    print(a)\n",
    "    return a \n",
    "\n",
    "#is equivalent to \n",
    "def f(a):\n",
    "    print(a)\n",
    "    return a\n",
    "\n",
    "f = save(filename='test.csv')(f)\n",
    "\n",
    "#or, if we expand it with intermediate result\n",
    "save_to_test_csv = save(filename='test.csv')  # made a simple decorator\n",
    "f = save_to_test_csv(f)"
   ]
  },
  {
   "cell_type": "markdown",
   "metadata": {
    "slideshow": {
     "slide_type": "fragment"
    }
   },
   "source": [
    "  `save` when invoked makes a unparametrized decorator and later we invoke it with argument (f).\n",
    "this is not very readable, and theoretically you could replace two-layer function\n",
    "of parametrized decorator with this:"
   ]
  },
  {
   "cell_type": "code",
   "execution_count": null,
   "metadata": {
    "slideshow": {
     "slide_type": "fragment"
    }
   },
   "outputs": [],
   "source": [
    "def save(filename, f):\n",
    "    def substitute(a):\n",
    "        result = f(a)\n",
    "        with open(filename, 'w+') as output:\n",
    "            output.write(str(result))\n",
    "        return result\n",
    "            \n",
    "    return substitute"
   ]
  },
  {
   "cell_type": "markdown",
   "metadata": {
    "slideshow": {
     "slide_type": "fragment"
    }
   },
   "source": [
    "Decorator shortcut (@-syntax) allows only one parameter (function), and for that reason we **CURRY** it.\n",
    "\n",
    " "
   ]
  },
  {
   "cell_type": "code",
   "execution_count": 36,
   "metadata": {
    "slideshow": {
     "slide_type": "subslide"
    }
   },
   "outputs": [
    {
     "name": "stdout",
     "output_type": "stream",
     "text": [
      "Help on function inner in module __main__:\n",
      "\n",
      "inner(*args, **kwargs)\n",
      "\n"
     ]
    }
   ],
   "source": [
    "def decorator(func):\n",
    "    def inner(*args, **kwargs):\n",
    "        return func(*args, **kwargs)\n",
    "    return inner\n",
    "\n",
    "def increment(x):\n",
    "    \"Add 1\"\n",
    "    return x + 1\n",
    "\n",
    "help(increment)"
   ]
  },
  {
   "cell_type": "code",
   "execution_count": 37,
   "metadata": {
    "scrolled": true,
    "slideshow": {
     "slide_type": "subslide"
    }
   },
   "outputs": [
    {
     "name": "stdout",
     "output_type": "stream",
     "text": [
      "Help on function inner in module __main__:\n",
      "\n",
      "inner(*args, **kwargs)\n",
      "\n"
     ]
    }
   ],
   "source": [
    "@decorator\n",
    "def increment(x):\n",
    "    \"Add 1\"\n",
    "    return x + 1\n",
    " \n",
    "help(increment)"
   ]
  },
  {
   "cell_type": "markdown",
   "metadata": {
    "slideshow": {
     "slide_type": "fragment"
    }
   },
   "source": [
    "What should we do to fix it?"
   ]
  },
  {
   "cell_type": "code",
   "execution_count": 38,
   "metadata": {
    "slideshow": {
     "slide_type": "subslide"
    }
   },
   "outputs": [
    {
     "name": "stdout",
     "output_type": "stream",
     "text": [
      "Help on function increment in module __main__:\n",
      "\n",
      "increment(*args, **kwargs)\n",
      "    Add 1\n",
      "\n"
     ]
    }
   ],
   "source": [
    "def decorator(func):\n",
    "    def inner(*args, **kwargs):\n",
    "        return func(*args, **kwargs)\n",
    "    inner.__name__ = func.__name__\n",
    "    inner.__doc__ = func.__doc__\n",
    "    return inner\n",
    "\n",
    "@decorator\n",
    "def increment(x):\n",
    "    \"Add 1\"\n",
    "    return x + 1\n",
    "\n",
    "help(increment)"
   ]
  },
  {
   "cell_type": "markdown",
   "metadata": {
    "slideshow": {
     "slide_type": "subslide"
    }
   },
   "source": [
    "We can use decorators for that!"
   ]
  },
  {
   "cell_type": "code",
   "execution_count": 39,
   "metadata": {
    "slideshow": {
     "slide_type": "fragment"
    }
   },
   "outputs": [
    {
     "name": "stdout",
     "output_type": "stream",
     "text": [
      "Help on function increment in module __main__:\n",
      "\n",
      "increment(x)\n",
      "    Add 1\n",
      "\n"
     ]
    }
   ],
   "source": [
    "from functools import wraps\n",
    "\n",
    "\n",
    "def decorator(func):\n",
    "    @wraps(func)\n",
    "    def inner(*args, **kwargs):\n",
    "        return func(*args, **kwargs)\n",
    "    return inner\n",
    "\n",
    "@decorator\n",
    "def increment(x):\n",
    "    \"Add 1\"\n",
    "    return x + 1\n",
    "\n",
    "help(increment)"
   ]
  },
  {
   "cell_type": "markdown",
   "metadata": {
    "slideshow": {
     "slide_type": "subslide"
    }
   },
   "source": [
    "### Creative decorator application\n",
    "\n",
    "* code deduplication\n",
    "* `registration` of functions (as routes in flask, for example)\n",
    "* cache and value memorisation (example, lru_cache decorator)\n",
    "* rpc (when function is not actually executed but is sent to some other place to be run, example - celery)"
   ]
  },
  {
   "cell_type": "markdown",
   "metadata": {
    "slideshow": {
     "slide_type": "slide"
    }
   },
   "source": [
    "## Functiona Programming Tools"
   ]
  },
  {
   "cell_type": "markdown",
   "metadata": {
    "slideshow": {
     "slide_type": "subslide"
    }
   },
   "source": [
    "In order to support functional paradigm, Python includes a set of built-ins used for functional\n",
    "programming—tools that apply functions to sequences and other iterables.\n",
    "\n",
    "* **Map** - call functions on an iterable’s items\n",
    "* **Filter** - filter out items based on a test function\n",
    "* **Reduce** -  apply functions to pairs of items and returnin results\n"
   ]
  },
  {
   "cell_type": "markdown",
   "metadata": {
    "slideshow": {
     "slide_type": "subslide"
    }
   },
   "source": [
    "### Map"
   ]
  },
  {
   "cell_type": "code",
   "execution_count": 40,
   "metadata": {
    "slideshow": {
     "slide_type": "-"
    }
   },
   "outputs": [
    {
     "data": {
      "text/plain": [
       "[2, 3, 4, 5, 6]"
      ]
     },
     "execution_count": 40,
     "metadata": {},
     "output_type": "execute_result"
    }
   ],
   "source": [
    "c = [1, 2, 3, 4, 5]\n",
    "\n",
    "for i in range(len(c)):\n",
    "    c[i] += 1\n",
    "\n",
    "c"
   ]
  },
  {
   "cell_type": "code",
   "execution_count": 43,
   "metadata": {
    "slideshow": {
     "slide_type": "fragment"
    }
   },
   "outputs": [
    {
     "data": {
      "text/plain": [
       "[3, 4, 5, 6, 7]"
      ]
     },
     "execution_count": 43,
     "metadata": {},
     "output_type": "execute_result"
    }
   ],
   "source": [
    "def increase(x): return x + 1\n",
    "\n",
    "list(map(increase, c))"
   ]
  },
  {
   "cell_type": "markdown",
   "metadata": {
    "slideshow": {
     "slide_type": "notes"
    }
   },
   "source": [
    "List comprehension can be used instead of a Map (+/-)"
   ]
  },
  {
   "cell_type": "markdown",
   "metadata": {
    "slideshow": {
     "slide_type": "subslide"
    }
   },
   "source": [
    "### Filter"
   ]
  },
  {
   "cell_type": "markdown",
   "metadata": {
    "slideshow": {
     "slide_type": "fragment"
    }
   },
   "source": [
    "Application of test function to select iterables' items"
   ]
  },
  {
   "cell_type": "code",
   "execution_count": 45,
   "metadata": {
    "slideshow": {
     "slide_type": "fragment"
    }
   },
   "outputs": [
    {
     "data": {
      "text/plain": [
       "[0, 2, 4, 6, 8]"
      ]
     },
     "execution_count": 45,
     "metadata": {},
     "output_type": "execute_result"
    }
   ],
   "source": [
    "list(filter((lambda x: x % 2 == 0), range(10)))"
   ]
  },
  {
   "cell_type": "markdown",
   "metadata": {
    "slideshow": {
     "slide_type": "subslide"
    }
   },
   "source": [
    "Can be represented as for loop"
   ]
  },
  {
   "cell_type": "code",
   "execution_count": 46,
   "metadata": {
    "slideshow": {
     "slide_type": "fragment"
    }
   },
   "outputs": [
    {
     "data": {
      "text/plain": [
       "[0, 2, 4, 6, 8]"
      ]
     },
     "execution_count": 46,
     "metadata": {},
     "output_type": "execute_result"
    }
   ],
   "source": [
    "l = []\n",
    "for i in range(10):\n",
    "    if i % 2 == 0: l.append(i)\n",
    "\n",
    "l"
   ]
  },
  {
   "cell_type": "code",
   "execution_count": 47,
   "metadata": {
    "slideshow": {
     "slide_type": "fragment"
    }
   },
   "outputs": [],
   "source": [
    "def test(x):\n",
    "    if x % 2 == 0: return True"
   ]
  },
  {
   "cell_type": "code",
   "execution_count": 48,
   "metadata": {
    "slideshow": {
     "slide_type": "fragment"
    }
   },
   "outputs": [
    {
     "data": {
      "text/plain": [
       "[0, 2, 4, 6, 8]"
      ]
     },
     "execution_count": 48,
     "metadata": {},
     "output_type": "execute_result"
    }
   ],
   "source": [
    "list(filter(test, list(range(10))))"
   ]
  },
  {
   "cell_type": "markdown",
   "metadata": {
    "slideshow": {
     "slide_type": "subslide"
    }
   },
   "source": [
    "### Reduce\n",
    "\n",
    "https://www.artima.com/weblogs/viewpost.jsp?thread=98196"
   ]
  },
  {
   "cell_type": "code",
   "execution_count": 49,
   "metadata": {
    "slideshow": {
     "slide_type": "fragment"
    }
   },
   "outputs": [],
   "source": [
    "from functools import reduce"
   ]
  },
  {
   "cell_type": "code",
   "execution_count": 50,
   "metadata": {
    "slideshow": {
     "slide_type": "fragment"
    }
   },
   "outputs": [
    {
     "data": {
      "text/plain": [
       "10"
      ]
     },
     "execution_count": 50,
     "metadata": {},
     "output_type": "execute_result"
    }
   ],
   "source": [
    "reduce((lambda x, y: x + y), [1, 2, 3, 4])"
   ]
  },
  {
   "cell_type": "code",
   "execution_count": 51,
   "metadata": {
    "slideshow": {
     "slide_type": "fragment"
    }
   },
   "outputs": [],
   "source": [
    "def my_reduce(func, seq):\n",
    "    res = seq[0]\n",
    "    for chunk in seq[1:]:\n",
    "        res = func(res, chunk)\n",
    "    return res"
   ]
  },
  {
   "cell_type": "code",
   "execution_count": 52,
   "metadata": {
    "slideshow": {
     "slide_type": "fragment"
    }
   },
   "outputs": [
    {
     "data": {
      "text/plain": [
       "10"
      ]
     },
     "execution_count": 52,
     "metadata": {},
     "output_type": "execute_result"
    }
   ],
   "source": [
    "my_reduce((lambda x, y: x + y), [1, 2, 3, 4])"
   ]
  },
  {
   "cell_type": "code",
   "execution_count": 53,
   "metadata": {
    "slideshow": {
     "slide_type": "subslide"
    }
   },
   "outputs": [],
   "source": [
    "def true_reduce(func, seq, initial=None):\n",
    "    if not seq:\n",
    "        return initial\n",
    "    if initial is None:\n",
    "        initial = seq[0]\n",
    "        seq  = seq[1:]\n",
    "    return true_reduce(func, seq[1:], func(initial, seq[0]))"
   ]
  },
  {
   "cell_type": "code",
   "execution_count": 54,
   "metadata": {
    "scrolled": true,
    "slideshow": {
     "slide_type": "fragment"
    }
   },
   "outputs": [
    {
     "data": {
      "text/plain": [
       "10"
      ]
     },
     "execution_count": 54,
     "metadata": {},
     "output_type": "execute_result"
    }
   ],
   "source": [
    "true_reduce((lambda x, y: x + y), [1, 2, 3, 4])"
   ]
  },
  {
   "cell_type": "markdown",
   "metadata": {
    "slideshow": {
     "slide_type": "slide"
    }
   },
   "source": [
    "### Recursion"
   ]
  },
  {
   "cell_type": "code",
   "execution_count": 55,
   "metadata": {
    "slideshow": {
     "slide_type": "fragment"
    }
   },
   "outputs": [],
   "source": [
    "def factor(x):\n",
    "    if not x:\n",
    "        return 1\n",
    "    else: return x*factor(x-1)"
   ]
  },
  {
   "cell_type": "code",
   "execution_count": 59,
   "metadata": {
    "slideshow": {
     "slide_type": "fragment"
    }
   },
   "outputs": [],
   "source": [
    "l = []\n",
    "def factor(x):\n",
    "    l.append(x)\n",
    "    print(l)\n",
    "    if not x:\n",
    "        return 1\n",
    "    else: return x*factor(x-1)"
   ]
  },
  {
   "cell_type": "code",
   "execution_count": 60,
   "metadata": {
    "scrolled": true,
    "slideshow": {
     "slide_type": "fragment"
    }
   },
   "outputs": [
    {
     "name": "stdout",
     "output_type": "stream",
     "text": [
      "[10]\n",
      "[10, 9]\n",
      "[10, 9, 8]\n",
      "[10, 9, 8, 7]\n",
      "[10, 9, 8, 7, 6]\n",
      "[10, 9, 8, 7, 6, 5]\n",
      "[10, 9, 8, 7, 6, 5, 4]\n",
      "[10, 9, 8, 7, 6, 5, 4, 3]\n",
      "[10, 9, 8, 7, 6, 5, 4, 3, 2]\n",
      "[10, 9, 8, 7, 6, 5, 4, 3, 2, 1]\n",
      "[10, 9, 8, 7, 6, 5, 4, 3, 2, 1, 0]\n"
     ]
    },
    {
     "data": {
      "text/plain": [
       "3628800"
      ]
     },
     "execution_count": 60,
     "metadata": {},
     "output_type": "execute_result"
    }
   ],
   "source": [
    "factor(10)"
   ]
  },
  {
   "cell_type": "markdown",
   "metadata": {
    "slideshow": {
     "slide_type": "subslide"
    }
   },
   "source": [
    "### Why it is better to avoid recursion\n",
    "\n",
    "Although the recursion is very usefull to walk through a data structure with arbitrary shape, the recursion is not recommended way to solve problems in Python as it lacks compile time optimizations like tail recursion, cycle detections and so on. Obviously, due to absence of compile time. It is recommended to use techniques like queue  stacks, and others."
   ]
  },
  {
   "cell_type": "code",
   "execution_count": 62,
   "metadata": {
    "slideshow": {
     "slide_type": "fragment"
    }
   },
   "outputs": [
    {
     "data": {
      "text/plain": [
       "6000"
      ]
     },
     "execution_count": 62,
     "metadata": {},
     "output_type": "execute_result"
    }
   ],
   "source": [
    "import sys\n",
    "sys.getrecursionlimit()\n",
    "\n",
    "sys.setrecursionlimit(3000*2)\n",
    "sys.getrecursionlimit()"
   ]
  },
  {
   "cell_type": "markdown",
   "metadata": {
    "slideshow": {
     "slide_type": "slide"
    }
   },
   "source": [
    "## Comprehensions and Generators"
   ]
  },
  {
   "cell_type": "markdown",
   "metadata": {
    "slideshow": {
     "slide_type": "subslide"
    }
   },
   "source": [
    "Comprehensions were borrowed from Haskell - pure functional language. **Map** and **Filter** were introduced earlier. The difference is that comprehensions apply an arbitrary expression to items in an iterable, rather than applying a function. Comprehensions are not limited to lists now. Sets, Dictionaries and value generator expressions.\n",
    "\n",
    "Formally one can write: `[ expression for target in iterable ]`\n",
    "\n",
    "You can surely write many nested loops, but don't get it far. Remember, KISS!\n",
    "\n",
    "If you need to translate code into statements, than it should be statements.\n",
    "\n",
    "But, remember, that **for** is twice as slow as **map** , and **map** is slower than comprehension, due to **map** and **comprehensions** are implemented in **C**, rahter than stepping Python Virtual Machine. This is changing though as Python version increases, so check it with _timeit_ module"
   ]
  },
  {
   "cell_type": "markdown",
   "metadata": {
    "slideshow": {
     "slide_type": "subslide"
    }
   },
   "source": [
    "It worth mentioning that both **Map** and **Filter** can be expressed as list comprehension:\n",
    "\n",
    "**Map**: `[increase(x) for x in [1, 2, 3, 4,5]]`\n",
    "\n",
    "**Filter**: `[x for x in range(10) if x % 2 == 0]`"
   ]
  },
  {
   "cell_type": "code",
   "execution_count": 63,
   "metadata": {
    "slideshow": {
     "slide_type": "fragment"
    }
   },
   "outputs": [
    {
     "data": {
      "text/plain": [
       "[2, 3, 4, 5, 6]"
      ]
     },
     "execution_count": 63,
     "metadata": {},
     "output_type": "execute_result"
    }
   ],
   "source": [
    "[increase(x) for x in [1, 2, 3, 4, 5]]"
   ]
  },
  {
   "cell_type": "code",
   "execution_count": 64,
   "metadata": {
    "slideshow": {
     "slide_type": "fragment"
    }
   },
   "outputs": [
    {
     "data": {
      "text/plain": [
       "[0, 2, 4, 6, 8]"
      ]
     },
     "execution_count": 64,
     "metadata": {},
     "output_type": "execute_result"
    }
   ],
   "source": [
    "[x for x in range(10) if x % 2 == 0]"
   ]
  },
  {
   "cell_type": "markdown",
   "metadata": {
    "slideshow": {
     "slide_type": "subslide"
    }
   },
   "source": [
    "With list comprehensions, you can combine map and filter in single iteration"
   ]
  },
  {
   "cell_type": "code",
   "execution_count": 65,
   "metadata": {
    "slideshow": {
     "slide_type": "fragment"
    }
   },
   "outputs": [
    {
     "data": {
      "text/plain": [
       "[0, 4, 16, 36, 64]"
      ]
     },
     "execution_count": 65,
     "metadata": {},
     "output_type": "execute_result"
    }
   ],
   "source": [
    "[x**2 for x in range(10) if x % 2 ==0]"
   ]
  },
  {
   "cell_type": "markdown",
   "metadata": {
    "slideshow": {
     "slide_type": "slide"
    }
   },
   "source": [
    "## Generators"
   ]
  },
  {
   "cell_type": "markdown",
   "metadata": {
    "slideshow": {
     "slide_type": "subslide"
    }
   },
   "source": [
    "### Generator Functions"
   ]
  },
  {
   "cell_type": "markdown",
   "metadata": {
    "slideshow": {
     "slide_type": "fragment"
    }
   },
   "source": [
    "Unlike normal functions that return a value and exit, generator functions automatically\n",
    "suspend and resume their execution and state around the point of value generation. They preserve state, scope (local). The syntax difference is in using **yield** instead of **return** operator. "
   ]
  },
  {
   "cell_type": "code",
   "execution_count": 66,
   "metadata": {
    "slideshow": {
     "slide_type": "fragment"
    }
   },
   "outputs": [],
   "source": [
    "def gen_list(n):\n",
    "    for i in range(n):\n",
    "        yield i"
   ]
  },
  {
   "cell_type": "code",
   "execution_count": 70,
   "metadata": {
    "slideshow": {
     "slide_type": "fragment"
    }
   },
   "outputs": [],
   "source": [
    "k = gen_list(5)"
   ]
  },
  {
   "cell_type": "code",
   "execution_count": 71,
   "metadata": {
    "slideshow": {
     "slide_type": "fragment"
    }
   },
   "outputs": [
    {
     "data": {
      "text/plain": [
       "(0, 1, 2)"
      ]
     },
     "execution_count": 71,
     "metadata": {},
     "output_type": "execute_result"
    }
   ],
   "source": [
    "next(k), next(k), next(k),"
   ]
  },
  {
   "cell_type": "code",
   "execution_count": 76,
   "metadata": {
    "slideshow": {
     "slide_type": "fragment"
    }
   },
   "outputs": [
    {
     "data": {
      "text/plain": [
       "[0, 1, 2, 3, 4]"
      ]
     },
     "execution_count": 76,
     "metadata": {},
     "output_type": "execute_result"
    }
   ],
   "source": [
    "list(gen_list(5))"
   ]
  },
  {
   "cell_type": "markdown",
   "metadata": {
    "slideshow": {
     "slide_type": "fragment"
    }
   },
   "source": [
    "Generator functions are usefull for reducing memory consumption and increasing performance"
   ]
  },
  {
   "cell_type": "markdown",
   "metadata": {
    "slideshow": {
     "slide_type": "subslide"
    }
   },
   "source": [
    "### Generator Expressions "
   ]
  },
  {
   "cell_type": "code",
   "execution_count": 97,
   "metadata": {
    "slideshow": {
     "slide_type": "fragment"
    }
   },
   "outputs": [
    {
     "data": {
      "text/plain": [
       "285"
      ]
     },
     "execution_count": 97,
     "metadata": {},
     "output_type": "execute_result"
    }
   ],
   "source": [
    "sum([x**2 for x in range(10)])"
   ]
  },
  {
   "cell_type": "code",
   "execution_count": 96,
   "metadata": {
    "slideshow": {
     "slide_type": "fragment"
    }
   },
   "outputs": [
    {
     "data": {
      "text/plain": [
       "285"
      ]
     },
     "execution_count": 96,
     "metadata": {},
     "output_type": "execute_result"
    }
   ],
   "source": [
    "sum(x**2 for x in range(10))"
   ]
  },
  {
   "cell_type": "code",
   "execution_count": 80,
   "metadata": {
    "slideshow": {
     "slide_type": "fragment"
    }
   },
   "outputs": [],
   "source": [
    "k = (x**2 for x in range(10))"
   ]
  },
  {
   "cell_type": "code",
   "execution_count": 92,
   "metadata": {
    "slideshow": {
     "slide_type": "fragment"
    }
   },
   "outputs": [
    {
     "ename": "StopIteration",
     "evalue": "",
     "output_type": "error",
     "traceback": [
      "\u001b[0;31m--------------------------------------------------------------------\u001b[0m",
      "\u001b[0;31mStopIteration\u001b[0m                      Traceback (most recent call last)",
      "\u001b[0;32m<ipython-input-92-413ff6b5fa2c>\u001b[0m in \u001b[0;36m<module>\u001b[0;34m\u001b[0m\n\u001b[0;32m----> 1\u001b[0;31m \u001b[0mnext\u001b[0m\u001b[0;34m(\u001b[0m\u001b[0mk\u001b[0m\u001b[0;34m)\u001b[0m\u001b[0;34m\u001b[0m\u001b[0;34m\u001b[0m\u001b[0m\n\u001b[0m",
      "\u001b[0;31mStopIteration\u001b[0m: "
     ]
    }
   ],
   "source": [
    "next(k)"
   ]
  },
  {
   "cell_type": "code",
   "execution_count": 93,
   "metadata": {
    "slideshow": {
     "slide_type": "fragment"
    }
   },
   "outputs": [
    {
     "data": {
      "text/plain": [
       "[]"
      ]
     },
     "execution_count": 93,
     "metadata": {},
     "output_type": "execute_result"
    }
   ],
   "source": [
    "list(k)"
   ]
  },
  {
   "cell_type": "markdown",
   "metadata": {
    "slideshow": {
     "slide_type": "slide"
    }
   },
   "source": [
    "# Links\n",
    "\n",
    "\n",
    "* functools - https://docs.python.org/3/library/functools.html\n",
    "* inspect - https://docs.python.org/3/library/inspect.html\n",
    "* The fate of reduce() in Python 3000 - https://www.artima.com/weblogs/viewpost.jsp?thread=98196\n",
    "* David Beazley - Lambda Calculus from the Ground Up: https://youtu.be/pkCLMl0e_0k\n",
    "*  Exploring Railway Oriented Programming in Python - https://youtu.be/cKixdve3JGg?list=PLGVZCDnMOq0oX4ymLgldSvpfiZj-S8-fH"
   ]
  },
  {
   "cell_type": "markdown",
   "metadata": {
    "slideshow": {
     "slide_type": "slide"
    }
   },
   "source": [
    "# Fin."
   ]
  },
  {
   "cell_type": "code",
   "execution_count": 103,
   "metadata": {},
   "outputs": [],
   "source": [
    "import functools as ft"
   ]
  },
  {
   "cell_type": "code",
   "execution_count": 108,
   "metadata": {},
   "outputs": [
    {
     "data": {
      "text/plain": [
       "functools.cached_property"
      ]
     },
     "execution_count": 108,
     "metadata": {},
     "output_type": "execute_result"
    }
   ],
   "source": [
    "ft.cached_property"
   ]
  },
  {
   "cell_type": "code",
   "execution_count": 105,
   "metadata": {},
   "outputs": [],
   "source": [
    "from functools import reduce"
   ]
  },
  {
   "cell_type": "code",
   "execution_count": 106,
   "metadata": {},
   "outputs": [
    {
     "data": {
      "text/plain": [
       "362880"
      ]
     },
     "execution_count": 106,
     "metadata": {},
     "output_type": "execute_result"
    }
   ],
   "source": [
    "r(lambda x, y: x * y, range(1, 10))"
   ]
  },
  {
   "cell_type": "code",
   "execution_count": 1,
   "metadata": {},
   "outputs": [],
   "source": [
    "from functools import *"
   ]
  },
  {
   "cell_type": "code",
   "execution_count": 3,
   "metadata": {},
   "outputs": [
    {
     "data": {
      "text/plain": [
       "<function _functools.reduce>"
      ]
     },
     "execution_count": 3,
     "metadata": {},
     "output_type": "execute_result"
    }
   ],
   "source": [
    "reduce"
   ]
  },
  {
   "cell_type": "code",
   "execution_count": null,
   "metadata": {},
   "outputs": [],
   "source": []
  }
 ],
 "metadata": {
  "celltoolbar": "Slideshow",
  "kernelspec": {
   "display_name": "Python 3",
   "language": "python",
   "name": "python3"
  },
  "language_info": {
   "codemirror_mode": {
    "name": "ipython",
    "version": 3
   },
   "file_extension": ".py",
   "mimetype": "text/x-python",
   "name": "python",
   "nbconvert_exporter": "python",
   "pygments_lexer": "ipython3",
   "version": "3.8.2"
  }
 },
 "nbformat": 4,
 "nbformat_minor": 4
}
