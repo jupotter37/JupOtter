{
 "cells": [
  {
   "cell_type": "code",
   "execution_count": 2,
   "id": "2b528a3d",
   "metadata": {},
   "outputs": [
    {
     "name": "stdout",
     "output_type": "stream",
     "text": [
      "/home/romet/projects/ut/wp4/nvidia-e2e\n"
     ]
    }
   ],
   "source": [
    "%cd .."
   ]
  },
  {
   "cell_type": "code",
   "execution_count": 3,
   "id": "2d0ec628",
   "metadata": {},
   "outputs": [],
   "source": [
    "import numpy as np\n",
    "import pandas as pd\n",
    "import matplotlib.pyplot as plt\n",
    "from pathlib import Path\n",
    "import random\n",
    "import cv2\n",
    "\n",
    "\n",
    "import torch\n",
    "import torch.nn as nn\n",
    "import torchvision\n",
    "from torchvision import transforms\n",
    "\n",
    "from tqdm.auto import tqdm\n",
    "\n",
    "from dataloading.nvidia import NvidiaCropWide, Normalize, NvidiaDataset\n",
    "from trainer import Trainer\n",
    "\n",
    "import tensorrt\n",
    "\n",
    "#%load_ext autoreload\n",
    "#%autoreload 2"
   ]
  },
  {
   "cell_type": "code",
   "execution_count": 4,
   "id": "dc745f9a",
   "metadata": {},
   "outputs": [],
   "source": [
    "xmin = 300\n",
    "xmax = 1620\n",
    "\n",
    "ymin = 520\n",
    "ymax = 864\n",
    "\n",
    "height = ymax - ymin\n",
    "width = xmax - xmin\n",
    "\n",
    "scale = 0.2\n",
    "scaled_width = int(scale*width)\n",
    "scaled_height = int(scale*height)\n",
    "\n",
    "def crop(img):\n",
    "    return img[ymin:ymax, xmin:xmax, :]\n",
    "\n",
    "def resize(img):\n",
    "    return cv2.resize(img, dsize=(scaled_width, scaled_height), interpolation=cv2.INTER_LINEAR)\n",
    "\n",
    "def normalise(img):\n",
    "    return (img / 255)\n",
    "\n",
    "def preprocess(img):\n",
    "    img = crop(img)\n",
    "    img = resize(img)\n",
    "    img = normalise(img)\n",
    "    return img\n",
    "\n",
    "def read_image(image_path):\n",
    "    img = cv2.imread(image_path)\n",
    "    img = cv2.cvtColor(img, cv2.COLOR_BGR2RGB)\n",
    "    img = preprocess(img)\n",
    "    return img\n",
    "\n",
    "def create_tensor(img):\n",
    "    device = torch.device('cuda' if torch.cuda.is_available() else 'cpu')    \n",
    "    img_tensor = torch.FloatTensor(img).to(device).permute(2, 0, 1).unsqueeze(0)\n",
    "    return img_tensor"
   ]
  },
  {
   "cell_type": "code",
   "execution_count": 5,
   "id": "dfa74762",
   "metadata": {},
   "outputs": [],
   "source": [
    "# image_path = validset.image_paths[0]\n",
    "# img = read_image(image_path)\n",
    "# plt.imshow(img)"
   ]
  },
  {
   "cell_type": "code",
   "execution_count": null,
   "id": "0d5364ca",
   "metadata": {},
   "outputs": [],
   "source": []
  },
  {
   "cell_type": "code",
   "execution_count": 6,
   "id": "a5c1b81e",
   "metadata": {},
   "outputs": [
    {
     "ename": "NameError",
     "evalue": "name 'TensorrtModel' is not defined",
     "output_type": "error",
     "traceback": [
      "\u001b[0;31m---------------------------------------------------------------------------\u001b[0m",
      "\u001b[0;31mNameError\u001b[0m                                 Traceback (most recent call last)",
      "\u001b[0;32m/tmp/ipykernel_272428/845031874.py\u001b[0m in \u001b[0;36m<module>\u001b[0;34m\u001b[0m\n\u001b[1;32m      1\u001b[0m \u001b[0msteering_model_path\u001b[0m \u001b[0;34m=\u001b[0m \u001b[0;34m\"models/1-pilotnet-steering-v1\"\u001b[0m\u001b[0;34m\u001b[0m\u001b[0;34m\u001b[0m\u001b[0m\n\u001b[0;32m----> 2\u001b[0;31m \u001b[0mtensorrt_steering_model\u001b[0m \u001b[0;34m=\u001b[0m \u001b[0mTensorrtModel\u001b[0m\u001b[0;34m(\u001b[0m\u001b[0;34mf\"{steering_model_path}/best.onnx\"\u001b[0m\u001b[0;34m)\u001b[0m\u001b[0;34m\u001b[0m\u001b[0;34m\u001b[0m\u001b[0m\n\u001b[0m\u001b[1;32m      3\u001b[0m \u001b[0;34m\u001b[0m\u001b[0m\n\u001b[1;32m      4\u001b[0m \u001b[0mspeed_model_path\u001b[0m \u001b[0;34m=\u001b[0m \u001b[0;34m\"models/1-pilotnet-speed-v1\"\u001b[0m\u001b[0;34m\u001b[0m\u001b[0;34m\u001b[0m\u001b[0m\n\u001b[1;32m      5\u001b[0m \u001b[0mtensorrt_speed_model\u001b[0m \u001b[0;34m=\u001b[0m \u001b[0mTensorrtModel\u001b[0m\u001b[0;34m(\u001b[0m\u001b[0;34mf\"{speed_model_path}/best.onnx\"\u001b[0m\u001b[0;34m)\u001b[0m\u001b[0;34m\u001b[0m\u001b[0;34m\u001b[0m\u001b[0m\n",
      "\u001b[0;31mNameError\u001b[0m: name 'TensorrtModel' is not defined"
     ]
    }
   ],
   "source": [
    "steering_model_path = \"models/1-pilotnet-steering-v1\"\n",
    "tensorrt_steering_model = TensorrtModel(f\"{steering_model_path}/best.onnx\")\n",
    "\n",
    "speed_model_path = \"models/1-pilotnet-speed-v1\"\n",
    "tensorrt_speed_model = TensorrtModel(f\"{speed_model_path}/best.onnx\")"
   ]
  },
  {
   "cell_type": "code",
   "execution_count": null,
   "id": "0f170d3a",
   "metadata": {},
   "outputs": [],
   "source": [
    "root_path = Path(\"/home/romet/data2/datasets/rally-estonia/dataset\")\n",
    "valid_paths = [root_path / \"2021-06-07-14-20-07_e2e_rec_ss6\"]\n",
    "validset = NvidiaDataset(valid_paths, camera=\"front_wide\")"
   ]
  },
  {
   "cell_type": "code",
   "execution_count": null,
   "id": "eddaf3f9",
   "metadata": {},
   "outputs": [],
   "source": [
    "steering_predictions = []\n",
    "speed_predictions = []\n",
    "\n",
    "for path in tqdm(validset.frames.image_path.to_numpy()):\n",
    "    img = read_image(path)\n",
    "    img = np.transpose(img, [2, 0, 1])\n",
    "    img = np.expand_dims(img, axis=0)\n",
    "    img = np.array(img, dtype=np.float32, order='C')\n",
    "    steering_predictions.append(tensorrt_steering_model.predict(img))\n",
    "    speed_predictions.append(tensorrt_speed_model.predict(img))"
   ]
  },
  {
   "cell_type": "code",
   "execution_count": null,
   "id": "9f8a688f",
   "metadata": {},
   "outputs": [],
   "source": [
    "fig, (ax1, ax2) = plt.subplots(1, 2, figsize=(20, 10))\n",
    "\n",
    "ax1.plot(validset.steering_angles)\n",
    "ax1.plot(steering_predictions)\n",
    "ax1.legend([\"ground truth\", \"predictions\"])\n",
    "ax1.set_title(\"Steering angle\")\n",
    "\n",
    "ax2.plot(validset.vehicle_speed)\n",
    "ax2.plot(speed_predictions)\n",
    "ax2.legend([\"ground truth\", \"predictions\"])\n",
    "ax2.set_title(\"Vehicle speed\");"
   ]
  },
  {
   "cell_type": "code",
   "execution_count": null,
   "id": "7d7f7084",
   "metadata": {},
   "outputs": [],
   "source": [
    "import math\n",
    "import cv2\n",
    "import shutil\n",
    "from skimage import io\n",
    "import os\n",
    "from moviepy.editor import ImageSequenceClip\n",
    "\n",
    "\n",
    "def draw_steering_angle(frame, steering_angle, steering_wheel_radius, steering_position, size, color):\n",
    "    steering_angle_rad = math.radians(steering_angle)\n",
    "    x = steering_wheel_radius * np.cos(np.pi / 2 + steering_angle_rad)\n",
    "    y = steering_wheel_radius * np.sin(np.pi / 2 + steering_angle_rad)\n",
    "    cv2.circle(frame, (steering_position[0] + int(x), steering_position[1] - int(y)), size, color, thickness=-1)\n",
    "    \n",
    "def draw_frames(dataset, predicted_angles, predicted_speed, temp_frames_folder):\n",
    "    \n",
    "    for frame_index, data in tqdm(enumerate(dataset), total=len(dataset)):\n",
    "        \n",
    "        frame = data[\"image\"].permute(1, 2, 0).cpu().numpy()\n",
    "        true_angle = math.degrees(data[\"steering_angle\"])\n",
    "        pred_angle = math.degrees(predicted_angles[frame_index])\n",
    "        \n",
    "        true_speed = data[\"vehicle_speed\"] * 3.6\n",
    "        pred_speed = predicted_speed[frame_index] * 3.6\n",
    "        \n",
    "        cv2.putText(frame, 'True: {:.2f} deg, {:.2f} km/h'.format(true_angle, true_speed), (10, 1150), cv2.FONT_HERSHEY_SIMPLEX, 1, (0, 255, 0), 2,\n",
    "                    cv2.LINE_AA)\n",
    "        cv2.putText(frame, 'Pred: {:.2f} deg, {:.2f} km/h'.format(pred_angle, pred_speed), (10, 1200), cv2.FONT_HERSHEY_SIMPLEX, 1, (255, 0, 0), 2,\n",
    "                    cv2.LINE_AA)\n",
    "    \n",
    "        radius = 200\n",
    "        steering_pos = (960, 1200)\n",
    "        cv2.circle(frame, steering_pos, radius, (255, 255, 255), 7)\n",
    "        \n",
    "        cv2.rectangle(frame, (905, 1200), (955, 1200-int(3*true_speed)), (0,255,0), cv2.FILLED)\n",
    "        cv2.rectangle(frame, (965, 1200), (1015, 1200-int(3*pred_speed)), (255, 0,0), cv2.FILLED)\n",
    "        \n",
    "\n",
    "        draw_steering_angle(frame, true_angle, radius, steering_pos, 13, (0, 255, 0))\n",
    "        draw_steering_angle(frame, pred_angle, radius, steering_pos, 9, (255, 0, 0))\n",
    "            \n",
    "        io.imsave(f\"{temp_frames_folder}/{frame_index + 1:05}.jpg\", frame)\n",
    "        \n",
    "\n",
    "def convert_frames_to_video(frames_folder, output_video_path, fps=25):\n",
    "    output_folder = Path(os.path.split(output_video_path)[:-1][0])\n",
    "    output_folder.mkdir(parents=True, exist_ok=True)\n",
    "\n",
    "    p = Path(frames_folder).glob('**/*.jpg')\n",
    "    image_list = sorted([str(x) for x in p if x.is_file()])\n",
    "\n",
    "    print(\"Creating video {}, FPS={}\".format(frames_folder, fps))\n",
    "    clip = ImageSequenceClip(image_list, fps=fps)\n",
    "    clip.write_videofile(output_video_path)"
   ]
  },
  {
   "cell_type": "code",
   "execution_count": null,
   "id": "c5d42404",
   "metadata": {},
   "outputs": [],
   "source": [
    "temp_frames_folder = Path(\"./temp_frames\")\n",
    "shutil.rmtree(temp_frames_folder, ignore_errors=True)\n",
    "temp_frames_folder.mkdir()\n",
    "\n",
    "draw_frames(validset, steering_predictions, speed_predictions, temp_frames_folder)\n",
    "output_video = \"output/test.mp4\"\n",
    "convert_frames_to_video(temp_frames_folder, output_video, fps=30.0)\n",
    "\n",
    "shutil.rmtree(temp_frames_folder, ignore_errors=True)"
   ]
  },
  {
   "cell_type": "code",
   "execution_count": null,
   "id": "b994d77f",
   "metadata": {
    "scrolled": false
   },
   "outputs": [],
   "source": [
    "from IPython.display import HTML\n",
    "\n",
    "\n",
    "HTML(f\"\"\"\n",
    "<video width=\"640\" height=\"480\" controls>\n",
    "  <source src=\"{output_video}\" type=\"video/mp4\">\n",
    "</video>\n",
    "\"\"\")"
   ]
  },
  {
   "cell_type": "code",
   "execution_count": null,
   "id": "568c6515",
   "metadata": {},
   "outputs": [],
   "source": [
    "output_video"
   ]
  },
  {
   "cell_type": "code",
   "execution_count": null,
   "id": "229dc730",
   "metadata": {},
   "outputs": [],
   "source": []
  }
 ],
 "metadata": {
  "kernelspec": {
   "display_name": "Python 3 (ipykernel)",
   "language": "python",
   "name": "python3"
  },
  "language_info": {
   "codemirror_mode": {
    "name": "ipython",
    "version": 3
   },
   "file_extension": ".py",
   "mimetype": "text/x-python",
   "name": "python",
   "nbconvert_exporter": "python",
   "pygments_lexer": "ipython3",
   "version": "3.8.12"
  }
 },
 "nbformat": 4,
 "nbformat_minor": 5
}
