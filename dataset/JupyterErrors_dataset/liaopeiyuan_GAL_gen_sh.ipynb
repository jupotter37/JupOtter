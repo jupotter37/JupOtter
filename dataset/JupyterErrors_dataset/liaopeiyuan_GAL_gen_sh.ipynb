{
 "cells": [
  {
   "cell_type": "markdown",
   "metadata": {},
   "source": [
    "Ablation"
   ]
  },
  {
   "cell_type": "code",
   "execution_count": 1,
   "metadata": {
    "scrolled": true
   },
   "outputs": [
    {
     "ename": "FileNotFoundError",
     "evalue": "[Errno 2] No such file or directory: './WN18RR/ablation/baseline_conve_500_1.sh'",
     "output_type": "error",
     "traceback": [
      "\u001b[0;31m---------------------------------------------------------------------------\u001b[0m",
      "\u001b[0;31mFileNotFoundError\u001b[0m                         Traceback (most recent call last)",
      "\u001b[0;32m<ipython-input-1-5e58f2fa0e5a>\u001b[0m in \u001b[0;36m<module>\u001b[0;34m\u001b[0m\n\u001b[1;32m      3\u001b[0m         \u001b[0;31m#string1 = \"python run.py -data {} -model compgcn -score conve -batch 128 -epoch 80 -seed {} -gcn_layer 1 -lambda 0.5 -experiment ablation\".format(dataset, seed)\u001b[0m\u001b[0;34m\u001b[0m\u001b[0;34m\u001b[0m\u001b[0;34m\u001b[0m\u001b[0m\n\u001b[1;32m      4\u001b[0m         \u001b[0mstring2\u001b[0m \u001b[0;34m=\u001b[0m \u001b[0;34m\"python run_baseline.py -data {} -model compgcn -score conve -batch 128 -epoch 120 -seed {} -gcn_layer 1 -experiment ablation\"\u001b[0m\u001b[0;34m.\u001b[0m\u001b[0mformat\u001b[0m\u001b[0;34m(\u001b[0m\u001b[0mdataset\u001b[0m\u001b[0;34m,\u001b[0m \u001b[0mseed\u001b[0m\u001b[0;34m)\u001b[0m\u001b[0;34m\u001b[0m\u001b[0;34m\u001b[0m\u001b[0m\n\u001b[0;32m----> 5\u001b[0;31m         \u001b[0mf\u001b[0m \u001b[0;34m=\u001b[0m \u001b[0mopen\u001b[0m\u001b[0;34m(\u001b[0m\u001b[0;34m\"./\"\u001b[0m\u001b[0;34m+\u001b[0m\u001b[0mdataset\u001b[0m\u001b[0;34m+\u001b[0m\u001b[0;34m\"/ablation/\"\u001b[0m\u001b[0;34m+\u001b[0m\u001b[0;34m\"baseline_conve_\"\u001b[0m\u001b[0;34m+\u001b[0m\u001b[0mstr\u001b[0m\u001b[0;34m(\u001b[0m\u001b[0mseed\u001b[0m\u001b[0;34m)\u001b[0m\u001b[0;34m+\u001b[0m\u001b[0;34m\"_1.sh\"\u001b[0m\u001b[0;34m,\u001b[0m \u001b[0;34m\"w\"\u001b[0m\u001b[0;34m)\u001b[0m\u001b[0;34m\u001b[0m\u001b[0;34m\u001b[0m\u001b[0m\n\u001b[0m\u001b[1;32m      6\u001b[0m         \u001b[0mf\u001b[0m\u001b[0;34m.\u001b[0m\u001b[0mwrite\u001b[0m\u001b[0;34m(\u001b[0m\u001b[0mstring2\u001b[0m\u001b[0;34m)\u001b[0m\u001b[0;34m\u001b[0m\u001b[0;34m\u001b[0m\u001b[0m\n\u001b[1;32m      7\u001b[0m         \u001b[0mf\u001b[0m\u001b[0;34m.\u001b[0m\u001b[0mclose\u001b[0m\u001b[0;34m(\u001b[0m\u001b[0;34m)\u001b[0m\u001b[0;34m\u001b[0m\u001b[0;34m\u001b[0m\u001b[0m\n",
      "\u001b[0;31mFileNotFoundError\u001b[0m: [Errno 2] No such file or directory: './WN18RR/ablation/baseline_conve_500_1.sh'"
     ]
    }
   ],
   "source": [
    "for dataset in ['WN18RR','FB15k-237']: \n",
    "    for seed in [500,600,700,800,900]:\n",
    "        #string1 = \"python run.py -data {} -model compgcn -score conve -batch 128 -epoch 80 -seed {} -gcn_layer 1 -lambda 0.5 -experiment ablation\".format(dataset, seed)\n",
    "        string2 = \"python run_baseline.py -data {} -model compgcn -score conve -batch 128 -epoch 120 -seed {} -gcn_layer 1 -experiment ablation\".format(dataset, seed)\n",
    "        f = open(\"./\"+dataset+\"/ablation/\"+\"baseline_conve_\"+str(seed)+\"_1.sh\", \"w\")\n",
    "        f.write(string2)\n",
    "        f.close()\n",
    "\n",
    "        \"\"\"\n",
    "        f2 = open(\"./\"+dataset+\"/ablation/\"+\"adv_gnn_conve_\"+str(seed)+\"_1.sh\", \"w\")\n",
    "        f2.write(string1)\n",
    "        f2.close()\n",
    "        \"\"\""
   ]
  },
  {
   "cell_type": "markdown",
   "metadata": {},
   "source": [
    "Decoder_Layer"
   ]
  },
  {
   "cell_type": "code",
   "execution_count": 2,
   "metadata": {},
   "outputs": [
    {
     "ename": "FileNotFoundError",
     "evalue": "[Errno 2] No such file or directory: './WN18RR/decoder_layer/adv_gnn_400_conve_1.sh'",
     "output_type": "error",
     "traceback": [
      "\u001b[0;31m---------------------------------------------------------------------------\u001b[0m",
      "\u001b[0;31mFileNotFoundError\u001b[0m                         Traceback (most recent call last)",
      "\u001b[0;32m<ipython-input-2-6d70b3559ba6>\u001b[0m in \u001b[0;36m<module>\u001b[0;34m\u001b[0m\n\u001b[1;32m      5\u001b[0m                 \u001b[0mstring1\u001b[0m \u001b[0;34m=\u001b[0m \u001b[0;34m\"python run.py -data {} -model compgcn -score {} -batch 128 -epoch 80 -seed {} -gcn_layer {} -lambda 0.5 -experiment decoder_layer\"\u001b[0m\u001b[0;34m.\u001b[0m\u001b[0mformat\u001b[0m\u001b[0;34m(\u001b[0m\u001b[0mdataset\u001b[0m\u001b[0;34m,\u001b[0m \u001b[0mscore_func\u001b[0m\u001b[0;34m,\u001b[0m \u001b[0mseed\u001b[0m\u001b[0;34m,\u001b[0m \u001b[0mlayer\u001b[0m\u001b[0;34m)\u001b[0m\u001b[0;34m\u001b[0m\u001b[0;34m\u001b[0m\u001b[0m\n\u001b[1;32m      6\u001b[0m \u001b[0;34m\u001b[0m\u001b[0m\n\u001b[0;32m----> 7\u001b[0;31m                 \u001b[0mf2\u001b[0m \u001b[0;34m=\u001b[0m \u001b[0mopen\u001b[0m\u001b[0;34m(\u001b[0m\u001b[0;34m\"./\"\u001b[0m\u001b[0;34m+\u001b[0m\u001b[0mdataset\u001b[0m\u001b[0;34m+\u001b[0m\u001b[0;34m\"/decoder_layer/\"\u001b[0m\u001b[0;34m+\u001b[0m\u001b[0;34m\"adv_gnn_\"\u001b[0m\u001b[0;34m+\u001b[0m\u001b[0mstr\u001b[0m\u001b[0;34m(\u001b[0m\u001b[0mseed\u001b[0m\u001b[0;34m)\u001b[0m\u001b[0;34m+\u001b[0m\u001b[0;34m\"_\"\u001b[0m\u001b[0;34m+\u001b[0m\u001b[0mstr\u001b[0m\u001b[0;34m(\u001b[0m\u001b[0mscore_func\u001b[0m\u001b[0;34m)\u001b[0m\u001b[0;34m+\u001b[0m\u001b[0;34m\"_\"\u001b[0m\u001b[0;34m+\u001b[0m\u001b[0mstr\u001b[0m\u001b[0;34m(\u001b[0m\u001b[0mlayer\u001b[0m\u001b[0;34m)\u001b[0m\u001b[0;34m+\u001b[0m\u001b[0;34m\".sh\"\u001b[0m\u001b[0;34m,\u001b[0m \u001b[0;34m\"w\"\u001b[0m\u001b[0;34m)\u001b[0m\u001b[0;34m\u001b[0m\u001b[0;34m\u001b[0m\u001b[0m\n\u001b[0m\u001b[1;32m      8\u001b[0m                 \u001b[0mf2\u001b[0m\u001b[0;34m.\u001b[0m\u001b[0mwrite\u001b[0m\u001b[0;34m(\u001b[0m\u001b[0mstring1\u001b[0m\u001b[0;34m)\u001b[0m\u001b[0;34m\u001b[0m\u001b[0;34m\u001b[0m\u001b[0m\n\u001b[1;32m      9\u001b[0m                 \u001b[0mf2\u001b[0m\u001b[0;34m.\u001b[0m\u001b[0mclose\u001b[0m\u001b[0;34m(\u001b[0m\u001b[0;34m)\u001b[0m\u001b[0;34m\u001b[0m\u001b[0;34m\u001b[0m\u001b[0m\n",
      "\u001b[0;31mFileNotFoundError\u001b[0m: [Errno 2] No such file or directory: './WN18RR/decoder_layer/adv_gnn_400_conve_1.sh'"
     ]
    }
   ],
   "source": [
    "for dataset in ['WN18RR','FB15k-237']: \n",
    "    for seed in [400]:\n",
    "        for layer in [1,2]:\n",
    "            for score_func in ['conve','distmult']:\n",
    "                string1 = \"python run.py -data {} -model compgcn -score {} -batch 128 -epoch 80 -seed {} -gcn_layer {} -lambda 0.5 -experiment decoder_layer\".format(dataset, score_func, seed, layer)\n",
    "\n",
    "                f2 = open(\"./\"+dataset+\"/decoder_layer/\"+\"adv_gnn_\"+str(seed)+\"_\"+str(score_func)+\"_\"+str(layer)+\".sh\", \"w\")\n",
    "                f2.write(string1)\n",
    "                f2.close()"
   ]
  },
  {
   "cell_type": "markdown",
   "metadata": {},
   "source": [
    "Lambda_Curve"
   ]
  },
  {
   "cell_type": "code",
   "execution_count": 1,
   "metadata": {},
   "outputs": [],
   "source": [
    "for dataset in ['WN18RR','FB15k-237']: \n",
    "    for seed in [500,600,700,800,900]:\n",
    "        # [1e-3, 1e-2, 1e-1, 1, 10, 100, 1000]:\n",
    "        for lamb in [1, 1.5]:\n",
    "            string1 = \"python run.py -data {} -model compgcn -score conve -batch 128 -epoch 120 -seed {} -gcn_layer 1 -lambda {} -experiment lambda_curve\".format(dataset, seed, lamb)\n",
    "\n",
    "            f2 = open(\"./\"+dataset+\"/lambda_curve/\"+\"adv_gnn_conve_\"+str(seed)+\"_1_\"+str(lamb)+\".sh\", \"w\")\n",
    "            f2.write(string1)\n",
    "            f2.close()"
   ]
  },
  {
   "cell_type": "code",
   "execution_count": null,
   "metadata": {},
   "outputs": [],
   "source": []
  }
 ],
 "metadata": {
  "kernelspec": {
   "display_name": "Python 3",
   "language": "python",
   "name": "python3"
  },
  "language_info": {
   "codemirror_mode": {
    "name": "ipython",
    "version": 3
   },
   "file_extension": ".py",
   "mimetype": "text/x-python",
   "name": "python",
   "nbconvert_exporter": "python",
   "pygments_lexer": "ipython3",
   "version": "3.7.6"
  }
 },
 "nbformat": 4,
 "nbformat_minor": 4
}
