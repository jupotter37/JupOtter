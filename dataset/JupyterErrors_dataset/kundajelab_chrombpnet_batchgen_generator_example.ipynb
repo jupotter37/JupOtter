{
 "cells": [
  {
   "cell_type": "code",
   "execution_count": 3,
   "metadata": {},
   "outputs": [
    {
     "name": "stdout",
     "output_type": "stream",
     "text": [
      "The autoreload extension is already loaded. To reload it, use:\n",
      "  %reload_ext autoreload\n",
      "2114\n"
     ]
    },
    {
     "ename": "NameError",
     "evalue": "name 'batchgen_generator' is not defined",
     "output_type": "error",
     "traceback": [
      "\u001b[0;31m---------------------------------------------------------------------------\u001b[0m",
      "\u001b[0;31mNameError\u001b[0m                                 Traceback (most recent call last)",
      "\u001b[0;32m<ipython-input-3-8128c6b7eb26>\u001b[0m in \u001b[0;36m<module>\u001b[0;34m\u001b[0m\n\u001b[1;32m     27\u001b[0m \u001b[0;31m# need generator to crop and revcomp aug training examples, but not for\u001b[0m\u001b[0;34m\u001b[0m\u001b[0;34m\u001b[0m\u001b[0;34m\u001b[0m\u001b[0m\n\u001b[1;32m     28\u001b[0m \u001b[0;31m# validation. Also applies bias model to cropped, rev comp-ed seqs.\u001b[0m\u001b[0;34m\u001b[0m\u001b[0;34m\u001b[0m\u001b[0;34m\u001b[0m\u001b[0m\n\u001b[0;32m---> 29\u001b[0;31m valid_generator = batchgen_generator.ChromBPNetBatchGenerator(val_peaks_seqs,val_nonpeaks_seqs, \n\u001b[0m\u001b[1;32m     30\u001b[0m                                           val_peaks_cts,val_nonpeaks_cts, negative_sampling, negative_sampling_ratio, input_len, output_len, args.batch_size)\n",
      "\u001b[0;31mNameError\u001b[0m: name 'batchgen_generator' is not defined"
     ]
    }
   ],
   "source": [
    "%load_ext autoreload\n",
    "%autoreload 2\n",
    "import sys\n",
    "sys.path.append(\"../../src/training\")\n",
    "from generators.batchgen_generator import *\n",
    "import utils.batchgen_generator_utils as data_utils\n",
    "\n",
    "bed_regions=\"/oak/stanford/groups/akundaje/projects/atlas/atac/caper_out/25b3429e-5864-4e8d-a475-a92df8938887/call-reproducibility_idr/glob-1b1244d5baf1a7d98d4b7b76d79e43bf/idr.optimal_peak.narrowPeak.gz\"\n",
    "nonpeaks=\"/srv/scratch/anusri/chrombpnet_paper/results/chrombpnet/ATAC/HEPG2/negatives_data/bpnet.inputs.all.negatives.bed\"\n",
    "ref_fasta=\"/mnt/data/GRCh38_no_alt_analysis_set_GCA_000001405.15.fasta\"\n",
    "bigwig=\"/srv/scratch/anusri/chrombpnet_paper/results/chrombpnet/ATAC/HEPG2/data/shifted.sorted.bam.bpnet.unstranded.bw\"\n",
    "input_len=2114\n",
    "output_len=1000\n",
    "\n",
    "train_peaks_seqs, train_peaks_cts, train_nonpeaks_seqs, train_nonpeaks_cts,\\\n",
    "val_peaks_seqs, val_peaks_cts, val_nonpeaks_seqs, val_nonpeaks_cts =  \\\n",
    "                        data_utils.load_train_val_data(\n",
    "                            bed_regions, nonpeaks, ref_fasta, bigwig,\n",
    "                            [\"chr10\"], [\"chr11\"], input_len, output_len, 500,\n",
    "                            outlier=0.9999\n",
    "                        )\n",
    "\n",
    "negative_sampling_ratio=0.1\n",
    "negative_sampling=True\n",
    "\n",
    "\n"
   ]
  },
  {
   "cell_type": "code",
   "execution_count": 20,
   "metadata": {},
   "outputs": [],
   "source": [
    "# need generator to crop and revcomp aug training examples, but not for \n",
    "# validation. Also applies bias model to cropped, rev comp-ed seqs.\n",
    "from generators.batchgen_generator import *\n",
    "\n",
    "batch_size=50\n",
    "valid_generator = ChromBPNetBatchGenerator(val_peaks_seqs,val_nonpeaks_seqs, \n",
    "                                          val_peaks_cts,val_nonpeaks_cts, negative_sampling, negative_sampling_ratio, input_len, output_len, batch_size)"
   ]
  },
  {
   "cell_type": "code",
   "execution_count": 21,
   "metadata": {},
   "outputs": [],
   "source": [
    "X,y,coords = valid_generator[0]"
   ]
  },
  {
   "cell_type": "code",
   "execution_count": 22,
   "metadata": {},
   "outputs": [
    {
     "name": "stdout",
     "output_type": "stream",
     "text": [
      "(50, 2114, 4)\n"
     ]
    }
   ],
   "source": [
    "print(X.shape)"
   ]
  },
  {
   "cell_type": "code",
   "execution_count": 23,
   "metadata": {},
   "outputs": [
    {
     "name": "stdout",
     "output_type": "stream",
     "text": [
      "(50, 1000, 1)\n"
     ]
    }
   ],
   "source": [
    "print(y[0].shape)"
   ]
  },
  {
   "cell_type": "code",
   "execution_count": 24,
   "metadata": {},
   "outputs": [
    {
     "name": "stdout",
     "output_type": "stream",
     "text": [
      "(50, 1)\n"
     ]
    }
   ],
   "source": [
    "print(y[1].shape)"
   ]
  }
 ],
 "metadata": {
  "kernelspec": {
   "display_name": "Python 3",
   "language": "python",
   "name": "python3"
  },
  "language_info": {
   "codemirror_mode": {
    "name": "ipython",
    "version": 3
   },
   "file_extension": ".py",
   "mimetype": "text/x-python",
   "name": "python",
   "nbconvert_exporter": "python",
   "pygments_lexer": "ipython3",
   "version": "3.7.6"
  }
 },
 "nbformat": 4,
 "nbformat_minor": 4
}
