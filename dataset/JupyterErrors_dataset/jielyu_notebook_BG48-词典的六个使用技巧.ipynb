{
 "cells": [
  {
   "cell_type": "markdown",
   "metadata": {},
   "source": [
    "# <center> 词典的六个使用技巧</center>"
   ]
  },
  {
   "cell_type": "markdown",
   "metadata": {},
   "source": [
    "By [青衣极客 Blue Geek](https://mp.weixin.qq.com/s/VeHOdd5_fWkR4WT2RvkP0w)\n",
    "\n",
    "In 2019-11-19"
   ]
  },
  {
   "cell_type": "markdown",
   "metadata": {},
   "source": [
    "词典dict类型是python中常用的内置数据结构，日常开发用起来也非常方便。可能仍然有一些朋友对dict这个数据结构有诸多不满，但是如果你使用过C++的map类型就会明白python的dict实在是太亲民了。不过关于dict有没有一些技巧让它更好用一点呢？本文就来讨论一下几个在词典类型中常用的小技巧，虽没有颠覆性的东西，但是对于提升开发效率和代码美观程度还是很不错的。"
   ]
  },
  {
   "cell_type": "markdown",
   "metadata": {},
   "source": [
    "## 1. 从词典中取值\n",
    "\n",
    "一般而言，我们从词典类型取值是直接使用中括号和key来完成的。这种方式有个小麻烦，那就是在key不存在的时候会报异常。如果在一些对稳定性有较高要求的项目中，就需要对这种代码进行异常捕获。等代码一写出来自己就觉得恶心了，毕竟这个取值的操作实在太多，那么就需要加很多的try...except...，这可并不是件有意思的事情。那么有没有什么办法解决这个问题呢？答案是使用get方法。get方法的第一个参数是键的名字，第二个参数是默认值，这就不需要再捕获异常了。"
   ]
  },
  {
   "cell_type": "code",
   "execution_count": 4,
   "metadata": {},
   "outputs": [
    {
     "name": "stdout",
     "output_type": "stream",
     "text": [
      "error, 不存在键为 hello 的数据项\n",
      "0\n"
     ]
    }
   ],
   "source": [
    "d = {'key':123}\n",
    "# 使用异常捕获\n",
    "try:\n",
    "    print(d['hello'])\n",
    "except Exception as e:\n",
    "    print('error, 不存在键为 hello 的数据项')\n",
    "    \n",
    "# 使用get方法\n",
    "print(d.get('hello', 0))"
   ]
  },
  {
   "cell_type": "markdown",
   "metadata": {},
   "source": [
    "## 2. 向词典增加条目\n",
    "\n",
    "有这样一个需求：向词典中增加数据，如果这个数据项已经存在就在数据项后追加，如果不存在就创建。看到这样描述的需求，那开门见山的实现方法就是使用if...else...，不过这样写的代码实在是太难看，关键是每次遇到这种需求都要这样实现一遍，这实在不是程序员的作风。这时，setdefault方法或许能助你一臂之力。"
   ]
  },
  {
   "cell_type": "code",
   "execution_count": 6,
   "metadata": {},
   "outputs": [
    {
     "name": "stdout",
     "output_type": "stream",
     "text": [
      "{'hello': [1], 'world': [1]}\n"
     ]
    }
   ],
   "source": [
    "d = {}\n",
    "value = 1\n",
    "# 使用if...else...实现\n",
    "if 'hello' not in d:\n",
    "    d['hello'] = [value]\n",
    "else:\n",
    "    d['hello'].append(value)\n",
    "\n",
    "# 使用setdefault方法实现\n",
    "d.setdefault('world', []).append(value)\n",
    "print(d)"
   ]
  },
  {
   "cell_type": "markdown",
   "metadata": {},
   "source": [
    "## 3. 使用命名参数\n",
    "\n",
    "创建词典的时候我们常常使用键的名字和值的方式来创建，键的名字是个字符串，因此需要加上引号。入股只是有少数几个元素也不太妨碍，但是如果有一堆的元素需要指定，那输入引号也足够心烦的。这时，我们可以使用dict来创建，就可以用参数名代替键的名字字符串。"
   ]
  },
  {
   "cell_type": "code",
   "execution_count": 9,
   "metadata": {},
   "outputs": [
    {
     "name": "stdout",
     "output_type": "stream",
     "text": [
      "{'a': 1, 'b': 2}\n",
      "{'a': 1, 'b': 2}\n"
     ]
    }
   ],
   "source": [
    "print(dict(a=1,b=2))\n",
    "print({\"a\":1, \"b\":2})"
   ]
  },
  {
   "cell_type": "markdown",
   "metadata": {},
   "source": [
    "## 4. 获取子集\n",
    "\n",
    "从一个词典中获取子集元素是一些需要进行匹配任务中的常见需求。在python中要实现这种需求，往往也是一行代码搞定，不过需要结合词典的get方法和表达式推导来实现。"
   ]
  },
  {
   "cell_type": "code",
   "execution_count": 12,
   "metadata": {},
   "outputs": [
    {
     "name": "stdout",
     "output_type": "stream",
     "text": [
      "{'a': 1, 'b': 2}\n"
     ]
    }
   ],
   "source": [
    "d = dict(a=1, b=2, c=3, d=4, e=5, f=7)\n",
    "print(dict([(k,d.get(k, 0)) for k in ['a', 'b']]))"
   ]
  },
  {
   "cell_type": "markdown",
   "metadata": {},
   "source": [
    "## 5. 键值反转\n",
    "\n",
    "在统计任务中有时会遇到需要将词典中的键和值进行反转的需求。第一种简单直观的实现方式还是使用表达式推导，实际上会用这种方式就行。不过python中还有一个更简洁的方式，那就是使用zip函数，配合词典的keys()和values()两个函数实现。"
   ]
  },
  {
   "cell_type": "code",
   "execution_count": 16,
   "metadata": {},
   "outputs": [
    {
     "name": "stdout",
     "output_type": "stream",
     "text": [
      "{1: 'a', 2: 'b', 3: 'c', 4: 'd', 5: 'e', 7: 'f'}\n",
      "{1: 'a', 2: 'b', 3: 'c', 4: 'd', 5: 'e', 7: 'f'}\n"
     ]
    }
   ],
   "source": [
    "d = dict(a=1, b=2, c=3, d=4, e=5, f=7)\n",
    "print(dict([(v,k) for k, v in d.items()]))\n",
    "\n",
    "print(dict(zip(d.values(), d.keys())))"
   ]
  },
  {
   "cell_type": "markdown",
   "metadata": {},
   "source": [
    "## 6. 交集与并集\n",
    "\n",
    "由于词典类型的键具有互异性(也称唯一性)，所以常常将词典当作数学中的集合使用。这时就需要对词典进行求交集和并集的运算。python已经提供了set类型，因此如果是单纯地完成数学集合运算，不建议使用dict。但是总会在一些别的需求中需要使用dict，毕竟dict除了key还带有一些值。"
   ]
  },
  {
   "cell_type": "code",
   "execution_count": 20,
   "metadata": {},
   "outputs": [
    {
     "name": "stdout",
     "output_type": "stream",
     "text": [
      "{6: None, 7: None, 8: None, 9: None}\n",
      "{0: None, 1: None, 2: None, 3: None, 4: None, 5: None, 6: None, 7: None, 8: None, 9: None, 10: None, 11: None, 12: None, 13: None, 14: None}\n"
     ]
    },
    {
     "ename": "TypeError",
     "evalue": "keywords must be strings",
     "output_type": "error",
     "traceback": [
      "\u001b[0;31m---------------------------------------------------------------------------\u001b[0m",
      "\u001b[0;31mTypeError\u001b[0m                                 Traceback (most recent call last)",
      "\u001b[0;32m<ipython-input-20-7e20d6381c45>\u001b[0m in \u001b[0;36m<module>\u001b[0;34m\u001b[0m\n\u001b[1;32m      8\u001b[0m \u001b[0mprint\u001b[0m\u001b[0;34m(\u001b[0m\u001b[0mc\u001b[0m\u001b[0;34m)\u001b[0m\u001b[0;34m\u001b[0m\u001b[0;34m\u001b[0m\u001b[0m\n\u001b[1;32m      9\u001b[0m \u001b[0;31m# 在python3下如果key不是字符串会报错的求并集方法\u001b[0m\u001b[0;34m\u001b[0m\u001b[0;34m\u001b[0m\u001b[0;34m\u001b[0m\u001b[0m\n\u001b[0;32m---> 10\u001b[0;31m \u001b[0mprint\u001b[0m\u001b[0;34m(\u001b[0m\u001b[0mdict\u001b[0m\u001b[0;34m(\u001b[0m\u001b[0ma\u001b[0m\u001b[0;34m,\u001b[0m \u001b[0;34m**\u001b[0m\u001b[0mb\u001b[0m\u001b[0;34m)\u001b[0m\u001b[0;34m)\u001b[0m\u001b[0;34m\u001b[0m\u001b[0;34m\u001b[0m\u001b[0m\n\u001b[0m",
      "\u001b[0;31mTypeError\u001b[0m: keywords must be strings"
     ]
    }
   ],
   "source": [
    "a = dict.fromkeys(range(10))\n",
    "b = dict.fromkeys(range(6, 15))\n",
    "# 交集\n",
    "print(dict.fromkeys([x for x in a if x in b]))\n",
    "# 并集\n",
    "c = a.copy()\n",
    "c.update(b)\n",
    "print(c)\n",
    "# 在python3下如果key不是字符串会报错的求并集方法\n",
    "print(dict(a, **b))"
   ]
  },
  {
   "cell_type": "markdown",
   "metadata": {},
   "source": [
    "到此，python中关于dict类型数据的一些常用使用技巧讨论完毕。有时候遇到一些编写python程序的朋友，在使用dict数据结构的时候写了很多不必要的代码，即使是工作多年的朋友也可能会这样，越是考虑情况周全写出来的代码越难看。学会了本文所讨论的这几个技巧，至少不让代码太难看。"
   ]
  }
 ],
 "metadata": {
  "kernelspec": {
   "display_name": "Python 3",
   "language": "python",
   "name": "python3"
  },
  "language_info": {
   "codemirror_mode": {
    "name": "ipython",
    "version": 3
   },
   "file_extension": ".py",
   "mimetype": "text/x-python",
   "name": "python",
   "nbconvert_exporter": "python",
   "pygments_lexer": "ipython3",
   "version": "3.7.7"
  }
 },
 "nbformat": 4,
 "nbformat_minor": 2
}
