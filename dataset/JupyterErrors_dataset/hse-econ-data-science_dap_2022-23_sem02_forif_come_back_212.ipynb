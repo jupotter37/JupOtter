{
 "cells": [
  {
   "cell_type": "markdown",
   "metadata": {},
   "source": [
    "# Анализ данных на Python\n",
    "\n",
    "## Семинар 2. Условный оператор if-else, циклы while и for"
   ]
  },
  {
   "cell_type": "markdown",
   "metadata": {},
   "source": [
    "# Условия"
   ]
  },
  {
   "cell_type": "markdown",
   "metadata": {},
   "source": [
    "Условия – это, наверное, душа программирования. Мы очень часто хотим, чтобы наша программа работала по-разному в зависимости от происходящего. Алгоритмы, использующие условия, называют разветвляющимися, и для их понимания очень удобно рисовать блок-схемы (нет, они не остались в школе, если в коде много условий и разных действий по-прежнему очень помогает нарисовать на бумаге дерево). \n",
    "\n",
    "![](https://github.com/hse-econ-data-science/dap_2021_spring/blob/main/sem02_forif/flowchart.png?raw=true)\n",
    "\n",
    "**Условия (if)** позволяют выполнять код только в случае истинности какого-то логического выражения.\n",
    "\n",
    "Проще говоря, \"если верно, что..., то сделать ...\".\n",
    "\n",
    "Самый простой пример использования if - это вывод какой-то фразы по условию."
   ]
  },
  {
   "cell_type": "markdown",
   "metadata": {},
   "source": [
    "```python\n",
    "if condition:\n",
    "    # run code if condition is True\n",
    "```"
   ]
  },
  {
   "cell_type": "code",
   "execution_count": 4,
   "metadata": {},
   "outputs": [
    {
     "data": {
      "text/plain": [
       "False"
      ]
     },
     "execution_count": 4,
     "metadata": {},
     "output_type": "execute_result"
    }
   ],
   "source": [
    "x == 1"
   ]
  },
  {
   "cell_type": "code",
   "execution_count": 3,
   "metadata": {},
   "outputs": [],
   "source": [
    "x = 10\n",
    "if x == 1:  # Выражение равно True, это условие истинное\n",
    "    print('That is true!')  # Фраза выводится"
   ]
  },
  {
   "cell_type": "code",
   "execution_count": 2,
   "metadata": {},
   "outputs": [],
   "source": [
    "if x != 1:  # Выражение равно False, это условие ложное\n",
    "    print('That is true!')  # Фраза не выводится"
   ]
  },
  {
   "cell_type": "markdown",
   "metadata": {},
   "source": [
    "Обратите внимание, что код, который находится внутри условия, **выделяется отступом** в 4 пробела или табуляцией (работает не во всех IDE, но в Jupyter все будет хорошо).\n",
    "\n",
    "Иначе программа не поймет, что он относится к условию."
   ]
  },
  {
   "cell_type": "code",
   "execution_count": 9,
   "metadata": {},
   "outputs": [
    {
     "ename": "IndentationError",
     "evalue": "expected an indented block (<ipython-input-9-b1fb9bc19953>, line 2)",
     "output_type": "error",
     "traceback": [
      "\u001b[0;36m  File \u001b[0;32m\"<ipython-input-9-b1fb9bc19953>\"\u001b[0;36m, line \u001b[0;32m2\u001b[0m\n\u001b[0;31m    print('That is true!')\u001b[0m\n\u001b[0m    ^\u001b[0m\n\u001b[0;31mIndentationError\u001b[0m\u001b[0;31m:\u001b[0m expected an indented block\n"
     ]
    }
   ],
   "source": [
    "if x == 1:\n",
    "print('That is true!')"
   ]
  },
  {
   "cell_type": "markdown",
   "metadata": {},
   "source": [
    "А что делать, если в том случае, когда условие не истинное, мы тоже хотим совершать какое-то действие? Для этого у нас есть ключевое слово **else (\"то\")**. "
   ]
  },
  {
   "cell_type": "markdown",
   "metadata": {},
   "source": [
    "```python\n",
    "if condition:\n",
    "    # if condition is True\n",
    "else:\n",
    "    # if condition is False\n",
    "```"
   ]
  },
  {
   "cell_type": "code",
   "execution_count": 11,
   "metadata": {},
   "outputs": [
    {
     "name": "stdout",
     "output_type": "stream",
     "text": [
      "That is true!\n"
     ]
    }
   ],
   "source": [
    "x = 1\n",
    "\n",
    "if x == 1:\n",
    "    print('That is true!')\n",
    "else:\n",
    "    print('That is false!')"
   ]
  },
  {
   "cell_type": "code",
   "execution_count": 12,
   "metadata": {},
   "outputs": [
    {
     "name": "stdout",
     "output_type": "stream",
     "text": [
      "That is false!\n"
     ]
    }
   ],
   "source": [
    "x = 10\n",
    "\n",
    "if x == 1:\n",
    "    print('That is true!')\n",
    "else:\n",
    "    print('That is false!')"
   ]
  },
  {
   "cell_type": "markdown",
   "metadata": {},
   "source": [
    "Мы разобрались, как поступать, если у нас два варианта действий, но их может быть и больше.\n",
    "\n",
    "Для примера давайте решим простую задачу - найти минимум из двух введенных чисел. Пока ничего нового:"
   ]
  },
  {
   "cell_type": "code",
   "execution_count": 17,
   "metadata": {},
   "outputs": [
    {
     "name": "stdout",
     "output_type": "stream",
     "text": [
      "Введите первое число: 4.2\n",
      "Введите второе число: 5.7\n"
     ]
    }
   ],
   "source": [
    "a = float(input('Введите первое число: '))\n",
    "b = float(input('Введите второе число: '))"
   ]
  },
  {
   "cell_type": "code",
   "execution_count": 18,
   "metadata": {},
   "outputs": [
    {
     "data": {
      "text/plain": [
       "(float, float)"
      ]
     },
     "execution_count": 18,
     "metadata": {},
     "output_type": "execute_result"
    }
   ],
   "source": [
    "type(a), type(b)"
   ]
  },
  {
   "cell_type": "code",
   "execution_count": 28,
   "metadata": {},
   "outputs": [
    {
     "name": "stdout",
     "output_type": "stream",
     "text": [
      "Введите первое число: 2.7\n",
      "Введите второе число: 5.2\n",
      "Минимум равен 2.7\n"
     ]
    }
   ],
   "source": [
    "a = float(input('Введите первое число: '))\n",
    "b = float(input('Введите второе число: '))\n",
    "\n",
    "if a < b:\n",
    "    min_ = a\n",
    "else:\n",
    "    min_ = b\n",
    "\n",
    "print('Минимум равен', min_)"
   ]
  },
  {
   "cell_type": "markdown",
   "metadata": {},
   "source": [
    "А теперь усложним задание, добавив третий вариант развития событий - если числа равны, будем печатать *'Равные числа'*.\n",
    "\n",
    "Можно решить эту задачу с помощью вложенных условий:"
   ]
  },
  {
   "cell_type": "code",
   "execution_count": 31,
   "metadata": {},
   "outputs": [
    {
     "name": "stdout",
     "output_type": "stream",
     "text": [
      "Введите первое число: 0\n",
      "Введите второе число: 0\n",
      "Равные числа: 0.0\n"
     ]
    }
   ],
   "source": [
    "a = float(input('Введите первое число: '))\n",
    "b = float(input('Введите второе число: '))\n",
    "\n",
    "if a < b: \n",
    "    print(a)\n",
    "else:\n",
    "    if a > b: # обратите внимание, здесь одно условие находится внутри другого, и код ниже будет писаться после двойного отступа\n",
    "        print(b)\n",
    "    else:\n",
    "        print('Равные числа:', a)"
   ]
  },
  {
   "cell_type": "markdown",
   "metadata": {},
   "source": [
    "Неплохо, но можно упростить это решение с помощью конструкции **else if (или elif)**, которая позволяет в случае ложности условия сразу же написать еще одну проверку.\n",
    "\n",
    "Вот как будет выглядеть решение нашей задачи с помощью elif:"
   ]
  },
  {
   "cell_type": "code",
   "execution_count": null,
   "metadata": {},
   "outputs": [],
   "source": [
    "if cond1:\n",
    "    # if cond1 is True\n",
    "elif cond2:\n",
    "    # if cond1 is False, but cond2 is True\n",
    "elif cond3:\n",
    "    # if cond1 and cond2 are False, but cond3 is True\n",
    "else:\n",
    "    # if cond1, cond2, cond3 are False"
   ]
  },
  {
   "cell_type": "code",
   "execution_count": 32,
   "metadata": {},
   "outputs": [
    {
     "name": "stdout",
     "output_type": "stream",
     "text": [
      "Введите первое число: 1\n",
      "Введите второе число: 1\n",
      "Равные числа: 1.0\n"
     ]
    }
   ],
   "source": [
    "a = float(input('Введите первое число: '))\n",
    "b = float(input('Введите второе число: '))\n",
    "\n",
    "if a < b: \n",
    "    print(a)\n",
    "elif a > b: \n",
    "    print(b)\n",
    "else:\n",
    "    print('Равные числа:', a)"
   ]
  },
  {
   "cell_type": "markdown",
   "metadata": {},
   "source": [
    "# Задачи для тренировки"
   ]
  },
  {
   "cell_type": "markdown",
   "metadata": {},
   "source": [
    "### Распродажа\n",
    "\n",
    "В магазине проходит акция:\n",
    "* На все товары дешевле 1000 рублей скидка 15%\n",
    "* На все товары дороже 1000, но дешевле 5000 рублей скидка 20%\n",
    "* На все товары дороже 5000 рублей скидка 25%\n",
    "\n",
    "**Ввод**  \n",
    "Целое неотрицательное число - цена товара в рублях\n",
    "\n",
    "**Вывод**  \n",
    "Целое неотрицательное число - скидка на товар в рублях"
   ]
  },
  {
   "cell_type": "code",
   "execution_count": 35,
   "metadata": {},
   "outputs": [
    {
     "name": "stdout",
     "output_type": "stream",
     "text": [
      "Введите цену товара: 1000\n",
      "150.0\n"
     ]
    }
   ],
   "source": [
    "price = float(input(\"Введите цену товара: \"))\n",
    "\n",
    "if price >= 5_000:\n",
    "    disc = price * 0.25\n",
    "elif price <= 1_000:\n",
    "    disc = price * 0.15\n",
    "else:\n",
    "    disc = price * 0.2\n",
    "\n",
    "print(disc)"
   ]
  },
  {
   "cell_type": "markdown",
   "metadata": {},
   "source": [
    "## Хитрости умножения  \n",
    "\n",
    "Для умножения двузначного числа на 11 есть интересная хитрость: результат произведения можно получить если между первой и второй цифрой исходного числа вписать сумму этих цифр. Например, 15 * 11 = 1 1+5 5 = 165 или 34 * 11 = 3 3+4 4 = 374. Реализуйте программу, которая умножала бы двузначные числа на 11, используя эту хитрость. Пользоваться оператором умножения нельзя.  \n",
    "\n",
    "__Формат ввода:__  \n",
    "Вводится двузначное число.  \n",
    "__Формат вывода:__  \n",
    "Программа должна вывести ответ на задачу.  \n",
    "\n",
    "**Тест 1**  \n",
    "__Пример ввода:__  \n",
    "15   \n",
    "__Вывод:__  \n",
    "165  \n",
    "\n",
    "**Тест 2**  \n",
    "__Пример ввода:__   \n",
    "66      \n",
    "__Вывод:__   \n",
    "726   "
   ]
  },
  {
   "cell_type": "code",
   "execution_count": 9,
   "metadata": {},
   "outputs": [],
   "source": [
    "# ваше решение здесь\n",
    "\n"
   ]
  },
  {
   "cell_type": "markdown",
   "metadata": {},
   "source": [
    "# Цикл for"
   ]
  },
  {
   "cell_type": "markdown",
   "metadata": {
    "heading_collapsed": true
   },
   "source": [
    "## list"
   ]
  },
  {
   "cell_type": "code",
   "execution_count": 36,
   "metadata": {
    "hidden": true
   },
   "outputs": [],
   "source": [
    "l = [10, 15, 0, -35]"
   ]
  },
  {
   "cell_type": "code",
   "execution_count": 37,
   "metadata": {
    "hidden": true
   },
   "outputs": [
    {
     "name": "stdout",
     "output_type": "stream",
     "text": [
      "[10, 15, 0, -35]\n"
     ]
    }
   ],
   "source": [
    "print(l)"
   ]
  },
  {
   "cell_type": "code",
   "execution_count": 38,
   "metadata": {
    "hidden": true
   },
   "outputs": [
    {
     "data": {
      "text/plain": [
       "list"
      ]
     },
     "execution_count": 38,
     "metadata": {},
     "output_type": "execute_result"
    }
   ],
   "source": [
    "type(l)"
   ]
  },
  {
   "cell_type": "code",
   "execution_count": 39,
   "metadata": {
    "hidden": true
   },
   "outputs": [
    {
     "data": {
      "text/plain": [
       "4"
      ]
     },
     "execution_count": 39,
     "metadata": {},
     "output_type": "execute_result"
    }
   ],
   "source": [
    "len(l)"
   ]
  },
  {
   "cell_type": "code",
   "execution_count": 40,
   "metadata": {
    "hidden": true
   },
   "outputs": [
    {
     "data": {
      "text/plain": [
       "-10"
      ]
     },
     "execution_count": 40,
     "metadata": {},
     "output_type": "execute_result"
    }
   ],
   "source": [
    "sum(l)"
   ]
  },
  {
   "cell_type": "code",
   "execution_count": 45,
   "metadata": {
    "hidden": true
   },
   "outputs": [
    {
     "data": {
      "text/plain": [
       "[10, 15, 0, -35]"
      ]
     },
     "execution_count": 45,
     "metadata": {},
     "output_type": "execute_result"
    }
   ],
   "source": [
    "l"
   ]
  },
  {
   "cell_type": "code",
   "execution_count": 41,
   "metadata": {
    "hidden": true
   },
   "outputs": [
    {
     "data": {
      "text/plain": [
       "10"
      ]
     },
     "execution_count": 41,
     "metadata": {},
     "output_type": "execute_result"
    }
   ],
   "source": [
    "l[0]"
   ]
  },
  {
   "cell_type": "code",
   "execution_count": 42,
   "metadata": {
    "hidden": true
   },
   "outputs": [
    {
     "data": {
      "text/plain": [
       "-35"
      ]
     },
     "execution_count": 42,
     "metadata": {},
     "output_type": "execute_result"
    }
   ],
   "source": [
    "l[-1]"
   ]
  },
  {
   "cell_type": "code",
   "execution_count": 44,
   "metadata": {
    "hidden": true
   },
   "outputs": [
    {
     "data": {
      "text/plain": [
       "-35"
      ]
     },
     "execution_count": 44,
     "metadata": {},
     "output_type": "execute_result"
    }
   ],
   "source": [
    "l[3]"
   ]
  },
  {
   "cell_type": "code",
   "execution_count": 46,
   "metadata": {
    "hidden": true,
    "scrolled": true
   },
   "outputs": [
    {
     "ename": "IndexError",
     "evalue": "list index out of range",
     "output_type": "error",
     "traceback": [
      "\u001b[0;31m---------------------------------------------------------------------------\u001b[0m",
      "\u001b[0;31mIndexError\u001b[0m                                Traceback (most recent call last)",
      "\u001b[0;32m<ipython-input-46-32713d2680e6>\u001b[0m in \u001b[0;36m<module>\u001b[0;34m\u001b[0m\n\u001b[0;32m----> 1\u001b[0;31m \u001b[0ml\u001b[0m\u001b[0;34m[\u001b[0m\u001b[0;36m4\u001b[0m\u001b[0;34m]\u001b[0m\u001b[0;34m\u001b[0m\u001b[0;34m\u001b[0m\u001b[0m\n\u001b[0m",
      "\u001b[0;31mIndexError\u001b[0m: list index out of range"
     ]
    }
   ],
   "source": [
    "l[4]"
   ]
  },
  {
   "cell_type": "code",
   "execution_count": 47,
   "metadata": {
    "hidden": true
   },
   "outputs": [
    {
     "data": {
      "text/plain": [
       "[10, 15, 0, -35]"
      ]
     },
     "execution_count": 47,
     "metadata": {},
     "output_type": "execute_result"
    }
   ],
   "source": [
    "l"
   ]
  },
  {
   "cell_type": "code",
   "execution_count": 49,
   "metadata": {
    "hidden": true
   },
   "outputs": [],
   "source": [
    "l[3] = 0"
   ]
  },
  {
   "cell_type": "code",
   "execution_count": 50,
   "metadata": {
    "hidden": true
   },
   "outputs": [
    {
     "data": {
      "text/plain": [
       "[10, 15, 0, 0]"
      ]
     },
     "execution_count": 50,
     "metadata": {},
     "output_type": "execute_result"
    }
   ],
   "source": [
    "l"
   ]
  },
  {
   "cell_type": "code",
   "execution_count": 51,
   "metadata": {
    "hidden": true
   },
   "outputs": [],
   "source": [
    "l[2] = l[2] + 5  # l[2] += 5"
   ]
  },
  {
   "cell_type": "code",
   "execution_count": 54,
   "metadata": {
    "hidden": true
   },
   "outputs": [],
   "source": [
    "l = [10, 15, 5, 0, -5, -22]"
   ]
  },
  {
   "cell_type": "code",
   "execution_count": 55,
   "metadata": {
    "hidden": true
   },
   "outputs": [
    {
     "data": {
      "text/plain": [
       "[15, 5, 0]"
      ]
     },
     "execution_count": 55,
     "metadata": {},
     "output_type": "execute_result"
    }
   ],
   "source": [
    "l[1:4]"
   ]
  },
  {
   "cell_type": "code",
   "execution_count": 56,
   "metadata": {
    "hidden": true
   },
   "outputs": [
    {
     "data": {
      "text/plain": [
       "[10, 15, 5, 0]"
      ]
     },
     "execution_count": 56,
     "metadata": {},
     "output_type": "execute_result"
    }
   ],
   "source": [
    "l[:4]"
   ]
  },
  {
   "cell_type": "code",
   "execution_count": 57,
   "metadata": {
    "hidden": true,
    "scrolled": true
   },
   "outputs": [
    {
     "data": {
      "text/plain": [
       "[5, 0, -5, -22]"
      ]
     },
     "execution_count": 57,
     "metadata": {},
     "output_type": "execute_result"
    }
   ],
   "source": [
    "l[2:]"
   ]
  },
  {
   "cell_type": "code",
   "execution_count": 58,
   "metadata": {
    "hidden": true
   },
   "outputs": [
    {
     "data": {
      "text/plain": [
       "[10, 15, 5, 0, -5, -22]"
      ]
     },
     "execution_count": 58,
     "metadata": {},
     "output_type": "execute_result"
    }
   ],
   "source": [
    "l[:]"
   ]
  },
  {
   "cell_type": "code",
   "execution_count": 59,
   "metadata": {
    "hidden": true
   },
   "outputs": [
    {
     "data": {
      "text/plain": [
       "[15, 5, 0, -5, -22]"
      ]
     },
     "execution_count": 59,
     "metadata": {},
     "output_type": "execute_result"
    }
   ],
   "source": [
    "l[1:1000000]"
   ]
  },
  {
   "cell_type": "code",
   "execution_count": 61,
   "metadata": {
    "hidden": true
   },
   "outputs": [
    {
     "data": {
      "text/plain": [
       "[10, 15, 5, 0, -5, -22]"
      ]
     },
     "execution_count": 61,
     "metadata": {},
     "output_type": "execute_result"
    }
   ],
   "source": [
    "l"
   ]
  },
  {
   "cell_type": "code",
   "execution_count": 60,
   "metadata": {
    "hidden": true
   },
   "outputs": [
    {
     "data": {
      "text/plain": [
       "[15, 0, -22]"
      ]
     },
     "execution_count": 60,
     "metadata": {},
     "output_type": "execute_result"
    }
   ],
   "source": [
    "l[1:6:2]"
   ]
  },
  {
   "cell_type": "code",
   "execution_count": 63,
   "metadata": {
    "hidden": true
   },
   "outputs": [
    {
     "data": {
      "text/plain": [
       "[-22, -5, 0, 5, 15, 10]"
      ]
     },
     "execution_count": 63,
     "metadata": {},
     "output_type": "execute_result"
    }
   ],
   "source": [
    "l[::-1]"
   ]
  },
  {
   "cell_type": "code",
   "execution_count": 64,
   "metadata": {
    "hidden": true
   },
   "outputs": [
    {
     "data": {
      "text/plain": [
       "[10, 15, 5, 0, -5, -22]"
      ]
     },
     "execution_count": 64,
     "metadata": {},
     "output_type": "execute_result"
    }
   ],
   "source": [
    "l"
   ]
  },
  {
   "cell_type": "code",
   "execution_count": 65,
   "metadata": {
    "hidden": true
   },
   "outputs": [],
   "source": [
    "l.append(66)"
   ]
  },
  {
   "cell_type": "code",
   "execution_count": 66,
   "metadata": {
    "hidden": true
   },
   "outputs": [
    {
     "data": {
      "text/plain": [
       "[10, 15, 5, 0, -5, -22, 66]"
      ]
     },
     "execution_count": 66,
     "metadata": {},
     "output_type": "execute_result"
    }
   ],
   "source": [
    "l"
   ]
  },
  {
   "cell_type": "code",
   "execution_count": 67,
   "metadata": {
    "hidden": true
   },
   "outputs": [],
   "source": [
    "?l.count"
   ]
  },
  {
   "cell_type": "code",
   "execution_count": 72,
   "metadata": {
    "hidden": true
   },
   "outputs": [],
   "source": [
    "l.insert(len(l), 77)"
   ]
  },
  {
   "cell_type": "code",
   "execution_count": 73,
   "metadata": {
    "hidden": true
   },
   "outputs": [
    {
     "data": {
      "text/plain": [
       "[10, 77, 15, 5, 0, -5, -22, 77, 66, 77]"
      ]
     },
     "execution_count": 73,
     "metadata": {},
     "output_type": "execute_result"
    }
   ],
   "source": [
    "l"
   ]
  },
  {
   "cell_type": "code",
   "execution_count": 74,
   "metadata": {
    "hidden": true
   },
   "outputs": [],
   "source": [
    "l.reverse()"
   ]
  },
  {
   "cell_type": "code",
   "execution_count": 75,
   "metadata": {
    "hidden": true
   },
   "outputs": [
    {
     "data": {
      "text/plain": [
       "[77, 66, 77, -22, -5, 0, 5, 15, 77, 10]"
      ]
     },
     "execution_count": 75,
     "metadata": {},
     "output_type": "execute_result"
    }
   ],
   "source": [
    "l"
   ]
  },
  {
   "cell_type": "code",
   "execution_count": 76,
   "metadata": {
    "hidden": true
   },
   "outputs": [],
   "source": [
    "l.sort()"
   ]
  },
  {
   "cell_type": "code",
   "execution_count": 77,
   "metadata": {
    "hidden": true,
    "scrolled": true
   },
   "outputs": [
    {
     "data": {
      "text/plain": [
       "[-22, -5, 0, 5, 10, 15, 66, 77, 77, 77]"
      ]
     },
     "execution_count": 77,
     "metadata": {},
     "output_type": "execute_result"
    }
   ],
   "source": [
    "l"
   ]
  },
  {
   "cell_type": "code",
   "execution_count": 78,
   "metadata": {
    "hidden": true
   },
   "outputs": [],
   "source": [
    "l.sort(reverse=True)"
   ]
  },
  {
   "cell_type": "code",
   "execution_count": 80,
   "metadata": {
    "hidden": true
   },
   "outputs": [
    {
     "data": {
      "text/plain": [
       "'Ahmed'"
      ]
     },
     "execution_count": 80,
     "metadata": {},
     "output_type": "execute_result"
    }
   ],
   "source": [
    "\"ahmed\".capitalize()"
   ]
  },
  {
   "cell_type": "code",
   "execution_count": 81,
   "metadata": {
    "hidden": true
   },
   "outputs": [
    {
     "data": {
      "text/plain": [
       "'AHMED'"
      ]
     },
     "execution_count": 81,
     "metadata": {},
     "output_type": "execute_result"
    }
   ],
   "source": [
    "\"ahmed\".upper()"
   ]
  },
  {
   "cell_type": "code",
   "execution_count": 88,
   "metadata": {
    "hidden": true
   },
   "outputs": [],
   "source": [
    "l = [\n",
    "    [1, 2, 3],\n",
    "    [4, 5, 6],\n",
    "    [7, 8, 9],\n",
    "]"
   ]
  },
  {
   "cell_type": "code",
   "execution_count": 85,
   "metadata": {
    "hidden": true
   },
   "outputs": [
    {
     "data": {
      "text/plain": [
       "[1, 2, 3]"
      ]
     },
     "execution_count": 85,
     "metadata": {},
     "output_type": "execute_result"
    }
   ],
   "source": [
    "l[0]"
   ]
  },
  {
   "cell_type": "code",
   "execution_count": 87,
   "metadata": {
    "hidden": true,
    "scrolled": true
   },
   "outputs": [
    {
     "data": {
      "text/plain": [
       "3"
      ]
     },
     "execution_count": 87,
     "metadata": {},
     "output_type": "execute_result"
    }
   ],
   "source": [
    "l[0][2]"
   ]
  },
  {
   "cell_type": "markdown",
   "metadata": {},
   "source": [
    "## мотивация к циклу for"
   ]
  },
  {
   "cell_type": "code",
   "execution_count": 102,
   "metadata": {},
   "outputs": [],
   "source": [
    "l = [10, 0, 5, 1]"
   ]
  },
  {
   "cell_type": "code",
   "execution_count": 101,
   "metadata": {},
   "outputs": [
    {
     "ename": "TypeError",
     "evalue": "can only concatenate list (not \"int\") to list",
     "output_type": "error",
     "traceback": [
      "\u001b[0;31m---------------------------------------------------------------------------\u001b[0m",
      "\u001b[0;31mTypeError\u001b[0m                                 Traceback (most recent call last)",
      "\u001b[0;32m<ipython-input-101-154280c4c1f4>\u001b[0m in \u001b[0;36m<module>\u001b[0;34m\u001b[0m\n\u001b[0;32m----> 1\u001b[0;31m \u001b[0ml\u001b[0m \u001b[0;34m+\u001b[0m \u001b[0;36m1\u001b[0m\u001b[0;34m\u001b[0m\u001b[0;34m\u001b[0m\u001b[0m\n\u001b[0m",
      "\u001b[0;31mTypeError\u001b[0m: can only concatenate list (not \"int\") to list"
     ]
    }
   ],
   "source": [
    "l + 1"
   ]
  },
  {
   "cell_type": "code",
   "execution_count": 97,
   "metadata": {},
   "outputs": [],
   "source": [
    "l[0] = l[0] + 1\n",
    "l[1] = l[1] + 1\n",
    "l[2] = l[2] + 1\n",
    "l[3] = l[3] + 1"
   ]
  },
  {
   "cell_type": "code",
   "execution_count": 105,
   "metadata": {},
   "outputs": [
    {
     "data": {
      "text/plain": [
       "[11, 1, 6, 2]"
      ]
     },
     "execution_count": 105,
     "metadata": {},
     "output_type": "execute_result"
    }
   ],
   "source": [
    "l"
   ]
  },
  {
   "cell_type": "code",
   "execution_count": 103,
   "metadata": {},
   "outputs": [],
   "source": [
    "i = 0\n",
    "l[i] = l[i] + 1\n",
    "\n",
    "i = 1\n",
    "l[i] = l[i] + 1\n",
    "\n",
    "i = 2\n",
    "l[i] = l[i] + 1\n",
    "\n",
    "i = 3\n",
    "l[i] = l[i] + 1"
   ]
  },
  {
   "cell_type": "code",
   "execution_count": null,
   "metadata": {},
   "outputs": [],
   "source": [
    "for i in [0, 1, 2, 3]:\n",
    "    l[i] = l[i] + 1"
   ]
  },
  {
   "cell_type": "code",
   "execution_count": 104,
   "metadata": {
    "scrolled": true
   },
   "outputs": [
    {
     "data": {
      "text/plain": [
       "[11, 1, 6, 2]"
      ]
     },
     "execution_count": 104,
     "metadata": {},
     "output_type": "execute_result"
    }
   ],
   "source": [
    "l"
   ]
  },
  {
   "cell_type": "markdown",
   "metadata": {},
   "source": [
    "## range"
   ]
  },
  {
   "cell_type": "code",
   "execution_count": null,
   "metadata": {},
   "outputs": [],
   "source": [
    "for i in [0, 1, 2, 3, 4, 5, 6, 7, 8, 9, 10]:\n",
    "    l[i] = l[i] + 1"
   ]
  },
  {
   "cell_type": "code",
   "execution_count": 107,
   "metadata": {},
   "outputs": [
    {
     "data": {
      "text/plain": [
       "[0, 1, 2, 3, 4, 5, 6, 7, 8, 9]"
      ]
     },
     "execution_count": 107,
     "metadata": {},
     "output_type": "execute_result"
    }
   ],
   "source": [
    "list(range(10))"
   ]
  },
  {
   "cell_type": "code",
   "execution_count": 108,
   "metadata": {},
   "outputs": [
    {
     "data": {
      "text/plain": [
       "[4, 5, 6, 7, 8, 9]"
      ]
     },
     "execution_count": 108,
     "metadata": {},
     "output_type": "execute_result"
    }
   ],
   "source": [
    "list(range(4, 10))"
   ]
  },
  {
   "cell_type": "code",
   "execution_count": 111,
   "metadata": {},
   "outputs": [
    {
     "data": {
      "text/plain": [
       "[4, 6, 8, 10, 12, 14]"
      ]
     },
     "execution_count": 111,
     "metadata": {},
     "output_type": "execute_result"
    }
   ],
   "source": [
    "list(range(4, 15, 2))"
   ]
  },
  {
   "cell_type": "code",
   "execution_count": 112,
   "metadata": {},
   "outputs": [
    {
     "data": {
      "text/plain": [
       "[4, 7, 10, 13]"
      ]
     },
     "execution_count": 112,
     "metadata": {},
     "output_type": "execute_result"
    }
   ],
   "source": [
    "list(range(4, 15, 3))"
   ]
  },
  {
   "cell_type": "code",
   "execution_count": 110,
   "metadata": {},
   "outputs": [
    {
     "data": {
      "text/plain": [
       "4"
      ]
     },
     "execution_count": 110,
     "metadata": {},
     "output_type": "execute_result"
    }
   ],
   "source": [
    "len(l)"
   ]
  },
  {
   "cell_type": "code",
   "execution_count": null,
   "metadata": {},
   "outputs": [],
   "source": [
    "for i in range(len(l)):\n",
    "    l[i] = l[i] + 1"
   ]
  },
  {
   "cell_type": "markdown",
   "metadata": {},
   "source": [
    "# Цикл while"
   ]
  },
  {
   "cell_type": "markdown",
   "metadata": {},
   "source": [
    "Довольно часто задачи требуют от нас несколько раз выполнить однотипный код.\n",
    "\n",
    "Если писать несколько раз одни и те же строки, это загромождает программу. Иногда несколько раз превращается в много (100 или 10000).\n",
    "А иногда это число вообще зависит от параметров ввода.\n",
    "\n",
    "Справиться с этим помогают **циклы**. На этом семинаре мы поработаем с циклом **while (пока)**"
   ]
  },
  {
   "cell_type": "markdown",
   "metadata": {},
   "source": [
    "Прицип использования цикла while: записываем логическое выражение и некоторый код. Код будет выполняться до тех пор, пока логическое выражение верно.\n",
    "\n",
    "Например, давайте напечатаем все целые числа от 1 до 10."
   ]
  },
  {
   "cell_type": "code",
   "execution_count": 5,
   "metadata": {},
   "outputs": [
    {
     "data": {
      "text/plain": [
       "False"
      ]
     },
     "execution_count": 5,
     "metadata": {},
     "output_type": "execute_result"
    }
   ],
   "source": [
    "True or True  # True\n",
    "True or False  # True\n",
    "False or True  # True\n",
    "False or False  # False"
   ]
  },
  {
   "cell_type": "code",
   "execution_count": 6,
   "metadata": {},
   "outputs": [
    {
     "data": {
      "text/plain": [
       "False"
      ]
     },
     "execution_count": 6,
     "metadata": {},
     "output_type": "execute_result"
    }
   ],
   "source": [
    "True and True  # True\n",
    "True and False  # False\n",
    "False and True  # False\n",
    "False and False  # False"
   ]
  },
  {
   "cell_type": "code",
   "execution_count": 11,
   "metadata": {},
   "outputs": [
    {
     "name": "stdout",
     "output_type": "stream",
     "text": [
      "Hello\n"
     ]
    }
   ],
   "source": [
    "x = 5\n",
    "if x == 5 or 1 / 0:\n",
    "    print(\"Hello\")"
   ]
  },
  {
   "cell_type": "code",
   "execution_count": 7,
   "metadata": {},
   "outputs": [
    {
     "name": "stdout",
     "output_type": "stream",
     "text": [
      "1\n",
      "2\n",
      "3\n",
      "4\n"
     ]
    }
   ],
   "source": [
    "i = 1 \n",
    "while i <= 10 and i != 5:\n",
    "    print(i) \n",
    "    i += 1"
   ]
  },
  {
   "cell_type": "markdown",
   "metadata": {},
   "source": [
    "Здесь мы использовали запись i += 1. Она эквивалентна i = i + 1.  \n",
    "Аналогично можно записывать и другие арифметические операции: например, -="
   ]
  },
  {
   "cell_type": "markdown",
   "metadata": {},
   "source": [
    "Обратите внимание, что код внутри цикла (тот, который мы хотим повторно выполнять), выделяется отступом."
   ]
  },
  {
   "cell_type": "markdown",
   "metadata": {},
   "source": [
    "## Операторы break и continue."
   ]
  },
  {
   "cell_type": "markdown",
   "metadata": {},
   "source": [
    "Циклами можно управлять с помощью операторов **break**, **continue**."
   ]
  },
  {
   "cell_type": "markdown",
   "metadata": {},
   "source": [
    "**Break** внутри цикла позволяет прервать его выполнение и сразу же перейти к коду, который идет после цикла (либо завершить программу).  \n",
    "\n",
    "В этом случае мы можем написать сразу после цикла секцию **else** (синтаксис при этом такой же, как и в условиях).  \n",
    "Код, написанный после **else**, будет выполняться, если цикл завершился \"естественным путем\" (т.е. не был прерван с помощью break)."
   ]
  },
  {
   "cell_type": "markdown",
   "metadata": {},
   "source": [
    "### Задача\n",
    "\n",
    "Рассмотрим пример задачи, которую можно решить с использованием break. \n",
    "\n",
    "Пусть студент сдал 5 предметов во время сессии и мы хотим узнать, есть ли у него пересдачи\n",
    "\n",
    "**Формат ввода**  \n",
    "До пяти оценок от 1 до 10\n",
    "\n",
    "**Формат вывода**  \n",
    "Если хотя бы одна из оценок меньше 4, завершаем программу и печатаем 'YES' (пересдачи есть)  \n",
    "Если все пять оценок больше 3, печатаем 'NO' (студент закрыл сессию без пересдач)"
   ]
  },
  {
   "cell_type": "code",
   "execution_count": 11,
   "metadata": {},
   "outputs": [
    {
     "name": "stdout",
     "output_type": "stream",
     "text": [
      "Введите оценку: 6\n",
      "Введите оценку: 7\n",
      "Введите оценку: 3\n",
      "YES\n"
     ]
    }
   ],
   "source": [
    "i = 1\n",
    "while i <= 5:\n",
    "    mark = int(input(\"Введите оценку: \"))\n",
    "    if mark < 4:\n",
    "        print('YES')\n",
    "        break\n",
    "    i += 1\n",
    "else: # else находится на том же уровне отступа, что и while, поэтому относится именно к циклу, а не к условию внутри цикла\n",
    "    print ('NO')"
   ]
  },
  {
   "cell_type": "markdown",
   "metadata": {},
   "source": [
    "Оператор **continue** позволяет сразу же перейти на новую итерацию цикла, не выполняя код, который написан внутри цикла ниже его."
   ]
  },
  {
   "cell_type": "markdown",
   "metadata": {},
   "source": [
    "Изменим условие задачи - теперь будем считать количество пересдач у студента"
   ]
  },
  {
   "cell_type": "code",
   "execution_count": 12,
   "metadata": {},
   "outputs": [
    {
     "name": "stdout",
     "output_type": "stream",
     "text": [
      "Введите оценку: 5\n",
      "Введите оценку: 2\n",
      "Введите оценку: 7\n",
      "Введите оценку: 8\n",
      "Введите оценку: 3\n",
      "Итого пересдач: 2\n"
     ]
    }
   ],
   "source": [
    "i = 1\n",
    "retakes = 0\n",
    "while i <= 5:\n",
    "    mark = int(input(\"Введите оценку: \"))\n",
    "    i += 1\n",
    "    if mark >= 4: # если пересдачи нет, сразу же идем проверять переменную i, без увеличения переменной retakes\n",
    "        continue\n",
    "    retakes += 1\n",
    "print(\"Итого пересдач:\", retakes)"
   ]
  },
  {
   "cell_type": "markdown",
   "metadata": {},
   "source": [
    "Операторами break и continue не стоит злоупотреблять, это может ухудшить читаемость кода.\n",
    "\n",
    "Например, в предыдущем примере мы бы справились и без continue:"
   ]
  },
  {
   "cell_type": "code",
   "execution_count": 13,
   "metadata": {},
   "outputs": [
    {
     "name": "stdout",
     "output_type": "stream",
     "text": [
      "Введите оценку: 5\n",
      "Введите оценку: 6\n",
      "Введите оценку: 7\n",
      "Введите оценку: 1\n",
      "Введите оценку: 7\n",
      "Итого пересдач: 1\n"
     ]
    }
   ],
   "source": [
    "i = 1\n",
    "retakes = 0\n",
    "while i <= 5:\n",
    "    mark = int(input(\"Введите оценку: \"))\n",
    "    i += 1\n",
    "    if mark < 4:\n",
    "        retakes += 1\n",
    "print(\"Итого пересдач:\", retakes)"
   ]
  },
  {
   "cell_type": "markdown",
   "metadata": {},
   "source": [
    "## (∩｀-´)⊃━☆ﾟ.*･｡ﾟ Задача\n",
    "Вася начал бегать и в первый день он пробежал X километров и выдохся. Вася поставил себе цель Y километров и решил узнать, когда он ее достигнет, если каждый день будет бегать дистанцию на 10% больше, чем в предыдущий.\n",
    "\n",
    "**Формат ввода**\n",
    "\n",
    "Программа получает на вход целые числа X, Y\n",
    "\n",
    "**Формат вывода**\n",
    "\n",
    "Одно целое число (день, когда Вася пробежит свою цель)\n",
    "\n",
    "**Примеры**  \n",
    "**Ввод:**  \n",
    "10  \n",
    "21\n",
    "\n",
    "**Вывод:**  \n",
    "9"
   ]
  },
  {
   "cell_type": "code",
   "execution_count": 14,
   "metadata": {},
   "outputs": [],
   "source": [
    "# ваше решение здесь\n",
    "\n"
   ]
  },
  {
   "cell_type": "markdown",
   "metadata": {},
   "source": [
    "## (∩｀-´)⊃━☆ﾟ.*･｡ﾟ Задача\n",
    "\n",
    "## Cложные проценты\n",
    "Процентная ставка по вкладу составляет P процентов годовых, которые прибавляются к сумме вклада через год. Вклад составляет X рублей Y копеек. Дробное число копеек по истечении года отбрасывается. Выведите величину вклада в рублях.\n",
    "\n",
    "**Формат ввода**\n",
    "\n",
    "Программа получает на вход целые числа P, X, Y, K.\n",
    "\n",
    "**Формат вывода**\n",
    "\n",
    "Программа должна вывести два числа: величину вклада через K лет в рублях и копейках. Перерасчет суммы вклада (с отбрасыванием дробных частей копеек) происходит ежегодно.\n",
    "\n",
    "**Примеры**  \n",
    "Тест 1  \n",
    "**Входные данные:**  \n",
    "12  \n",
    "179  \n",
    "0  \n",
    "5  \n",
    "\n",
    "**Вывод программы:**  \n",
    "315 43\n",
    "\n",
    "Тест 2  \n",
    "**Входные данные:**  \n",
    "13  \n",
    "179  \n",
    "0  \n",
    "100  \n",
    "\n",
    "**Вывод программы:**   \n",
    "36360285 50\n",
    "\n",
    "Тест 3  \n",
    "**Входные данные:**   \n",
    "1  \n",
    "1  \n",
    "0  \n",
    "1000  \n",
    "\n",
    "**Вывод программы:**  \n",
    "11881 92"
   ]
  },
  {
   "cell_type": "code",
   "execution_count": 15,
   "metadata": {},
   "outputs": [],
   "source": [
    "# ваше решение здесь\n",
    "\n"
   ]
  },
  {
   "cell_type": "markdown",
   "metadata": {},
   "source": [
    "## Функция range"
   ]
  },
  {
   "cell_type": "markdown",
   "metadata": {},
   "source": [
    "Давайте решим задачу - на вход подается число N, нужно сгенерировать список от 1 до N. "
   ]
  },
  {
   "cell_type": "code",
   "execution_count": 16,
   "metadata": {},
   "outputs": [
    {
     "name": "stdout",
     "output_type": "stream",
     "text": [
      "5\n",
      "[1, 2, 3, 4, 5]\n"
     ]
    }
   ],
   "source": [
    "i = 1\n",
    "myList = []\n",
    "N = int(input())\n",
    "\n",
    "while i <= N:\n",
    "    myList.append(i)\n",
    "    i += 1\n",
    "    \n",
    "print(myList)"
   ]
  },
  {
   "cell_type": "markdown",
   "metadata": {},
   "source": [
    "Неплохо, но python предлагает нам готовое решение - встроенную функцию range().\n",
    "\n",
    "range(N) возвращает диапазон чисел от 0 до N - 1."
   ]
  },
  {
   "cell_type": "code",
   "execution_count": 17,
   "metadata": {},
   "outputs": [
    {
     "name": "stdout",
     "output_type": "stream",
     "text": [
      "0 8 9\n"
     ]
    }
   ],
   "source": [
    "myRange = range(10)\n",
    "print(myRange[0], myRange[8], myRange[-1])"
   ]
  },
  {
   "cell_type": "markdown",
   "metadata": {},
   "source": [
    "Есть одно но - range возвращает не список и не кортеж, это становится понятно, если попробовать напечатать результат."
   ]
  },
  {
   "cell_type": "code",
   "execution_count": 18,
   "metadata": {},
   "outputs": [
    {
     "name": "stdout",
     "output_type": "stream",
     "text": [
      "range(0, 10)\n",
      "<class 'range'>\n"
     ]
    }
   ],
   "source": [
    "print(myRange)\n",
    "print(type(myRange))"
   ]
  },
  {
   "cell_type": "markdown",
   "metadata": {},
   "source": [
    "Выручает старое доброе преобразование типов."
   ]
  },
  {
   "cell_type": "code",
   "execution_count": 19,
   "metadata": {},
   "outputs": [
    {
     "name": "stdout",
     "output_type": "stream",
     "text": [
      "[0, 1, 2, 3, 4, 5, 6, 7, 8, 9]\n",
      "(0, 1, 2, 3, 4, 5, 6, 7, 8, 9)\n"
     ]
    }
   ],
   "source": [
    "print(list(myRange))\n",
    "print(tuple(myRange))"
   ]
  },
  {
   "cell_type": "markdown",
   "metadata": {},
   "source": [
    "Функция range ведет себя очень похоже на срезы.  \n",
    "range(N, M) вернет диапазон от N до M - 1.  \n",
    "range(N, M, i) вернет диапазон от N до M - 1 с шагом i."
   ]
  },
  {
   "cell_type": "code",
   "execution_count": 20,
   "metadata": {},
   "outputs": [
    {
     "name": "stdout",
     "output_type": "stream",
     "text": [
      "[1, 2, 3, 4]\n",
      "[1, 3, 5, 7, 9]\n",
      "[-5, -4, -3, -2]\n",
      "[-5, -7, -9]\n"
     ]
    }
   ],
   "source": [
    "print(list(range(1, 5)))\n",
    "print(list(range(1, 10, 2)))\n",
    "print(list(range(-5, -1)))\n",
    "print(list(range(-5, -10, -2)))"
   ]
  },
  {
   "cell_type": "markdown",
   "metadata": {},
   "source": [
    "## Цикл for"
   ]
  },
  {
   "cell_type": "markdown",
   "metadata": {},
   "source": [
    "Мы уже умеем писать циклы с помощью оператора while, но теперь мы готовы познакомиться с еще одним способом. \n",
    "\n",
    "Давайте вспомним про наш список студентов и выведем их имена по очереди. Для начала уже знакомым способом."
   ]
  },
  {
   "cell_type": "code",
   "execution_count": 21,
   "metadata": {},
   "outputs": [
    {
     "name": "stdout",
     "output_type": "stream",
     "text": [
      "Ivan Ivanov\n",
      "Tatiana Sidorova\n",
      "Maria Smirnova\n"
     ]
    }
   ],
   "source": [
    "students = ['Ivan Ivanov', 'Tatiana Sidorova', 'Maria Smirnova']\n",
    "\n",
    "i = 0\n",
    "while i < len(students):\n",
    "    print(students[i])\n",
    "    i += 1"
   ]
  },
  {
   "cell_type": "markdown",
   "metadata": {},
   "source": [
    "А теперь напишем то же самое с помощью цикла for.\n",
    "\n",
    "Теперь мы будем перебирать список students, доставая из него по одному элементу."
   ]
  },
  {
   "cell_type": "code",
   "execution_count": 22,
   "metadata": {},
   "outputs": [
    {
     "name": "stdout",
     "output_type": "stream",
     "text": [
      "Ivan Ivanov\n",
      "Tatiana Sidorova\n",
      "Maria Smirnova\n"
     ]
    }
   ],
   "source": [
    "students = ['Ivan Ivanov', 'Tatiana Sidorova', 'Maria Smirnova']\n",
    "\n",
    "for student in students:\n",
    "    print(student)"
   ]
  },
  {
   "cell_type": "markdown",
   "metadata": {},
   "source": [
    "В примере выше на каждом шаге цикл for достает очередной элемент из списка students и сохраняет его в переменную student.\n",
    "\n",
    "Обратите внимание, что переменную student нам не надо создавать заранее, она создается прямо во время работы цикла.\n",
    "\n",
    "Получившийся код гораздо короче и проще варианта с использованием while."
   ]
  },
  {
   "cell_type": "markdown",
   "metadata": {},
   "source": [
    "Цикл for может перебирать и элементы range, это дает нам еще один способ решения задачи."
   ]
  },
  {
   "cell_type": "code",
   "execution_count": 23,
   "metadata": {},
   "outputs": [
    {
     "name": "stdout",
     "output_type": "stream",
     "text": [
      "Ivan Ivanov\n",
      "Tatiana Sidorova\n",
      "Maria Smirnova\n"
     ]
    }
   ],
   "source": [
    "students = ['Ivan Ivanov', 'Tatiana Sidorova', 'Maria Smirnova']\n",
    "\n",
    "for i in range(len(students)): # здесь не надо преобразовывать range в список или кортеж\n",
    "    print(students[i])"
   ]
  },
  {
   "cell_type": "markdown",
   "metadata": {},
   "source": [
    "Цикл for может перебирать и кортежи, и даже строки."
   ]
  },
  {
   "cell_type": "code",
   "execution_count": 24,
   "metadata": {},
   "outputs": [
    {
     "name": "stdout",
     "output_type": "stream",
     "text": [
      "H\n",
      "e\n",
      "l\n",
      "l\n",
      "o\n"
     ]
    }
   ],
   "source": [
    "myStr = 'Hello'\n",
    "\n",
    "for char in myStr:\n",
    "    print(char)"
   ]
  },
  {
   "cell_type": "markdown",
   "metadata": {},
   "source": [
    "# Задача\n",
    "\n",
    "Пройтись в цикле по элементам списка и посчитать их сумму.\n",
    "\n",
    "**Формат ввода**\n",
    "\n",
    "Программа получает на вход числа через пробел.\n",
    "\n",
    "**Формат вывода**\n",
    "\n",
    "Сумма элементов списка."
   ]
  },
  {
   "cell_type": "code",
   "execution_count": 113,
   "metadata": {},
   "outputs": [],
   "source": [
    "l = [1, -10, 20, 4]"
   ]
  },
  {
   "cell_type": "code",
   "execution_count": 114,
   "metadata": {},
   "outputs": [
    {
     "data": {
      "text/plain": [
       "15"
      ]
     },
     "execution_count": 114,
     "metadata": {},
     "output_type": "execute_result"
    }
   ],
   "source": [
    "sum(l)"
   ]
  },
  {
   "cell_type": "code",
   "execution_count": 116,
   "metadata": {},
   "outputs": [
    {
     "name": "stdout",
     "output_type": "stream",
     "text": [
      "15\n"
     ]
    }
   ],
   "source": [
    "s = 0\n",
    "for num in l:\n",
    "    s = s + num\n",
    "\n",
    "print(s)"
   ]
  },
  {
   "cell_type": "markdown",
   "metadata": {},
   "source": [
    "# Задача\n",
    "\n",
    "Выведите значение наименьшего из всех положительных элементов в списке. Известно, что в списке есть хотя бы один положительный элемент, а значения всех элементов списка по модулю не превосходят 1000.\n",
    "\n",
    "**Формат ввода**\n",
    "\n",
    "Вводится список чисел. Все числа списка находятся на одной строке.\n",
    "\n",
    "**Формат вывода**\n",
    "\n",
    "Выведите ответ на задачу.\n",
    "\n",
    "**Пример 1**\n",
    "\n",
    "**Ввод**\n",
    "\n",
    "5 -4 3 -2 1\n",
    "\n",
    "**Вывод**\n",
    "\n",
    "1\n",
    "\n",
    "**Пример 2**\n",
    "\n",
    "**Ввод**\n",
    "\n",
    "10 5 0 -5 -10\n",
    "\n",
    "**Вывод**\n",
    "\n",
    "5\n",
    "\n",
    "**Пример 3**\n",
    "\n",
    "**Ввод**\n",
    "\n",
    "-1 -2 -3 -4 100\n",
    "\n",
    "**Вывод**\n",
    "\n",
    "100"
   ]
  },
  {
   "cell_type": "code",
   "execution_count": 119,
   "metadata": {},
   "outputs": [],
   "source": [
    "l = [-40, -10, 0, 14, 2, 7]"
   ]
  },
  {
   "cell_type": "code",
   "execution_count": 120,
   "metadata": {},
   "outputs": [
    {
     "name": "stdout",
     "output_type": "stream",
     "text": [
      "-40\n"
     ]
    }
   ],
   "source": [
    "cur_min = l[0]\n",
    "\n",
    "for num in l:\n",
    "    if num > 0:\n",
    "        cur_min = min(cur_min, num)\n",
    "    \n",
    "print(cur_min)"
   ]
  },
  {
   "cell_type": "code",
   "execution_count": 121,
   "metadata": {},
   "outputs": [
    {
     "data": {
      "text/plain": [
       "(True, False)"
      ]
     },
     "execution_count": 121,
     "metadata": {},
     "output_type": "execute_result"
    }
   ],
   "source": [
    "True, False"
   ]
  },
  {
   "cell_type": "code",
   "execution_count": 122,
   "metadata": {},
   "outputs": [],
   "source": [
    "None"
   ]
  },
  {
   "cell_type": "code",
   "execution_count": 123,
   "metadata": {},
   "outputs": [
    {
     "data": {
      "text/plain": [
       "NoneType"
      ]
     },
     "execution_count": 123,
     "metadata": {},
     "output_type": "execute_result"
    }
   ],
   "source": [
    "type(None)"
   ]
  },
  {
   "cell_type": "code",
   "execution_count": 124,
   "metadata": {},
   "outputs": [
    {
     "ename": "TypeError",
     "evalue": "'<' not supported between instances of 'int' and 'NoneType'",
     "output_type": "error",
     "traceback": [
      "\u001b[0;31m---------------------------------------------------------------------------\u001b[0m",
      "\u001b[0;31mTypeError\u001b[0m                                 Traceback (most recent call last)",
      "\u001b[0;32m<ipython-input-124-d0dd3609e231>\u001b[0m in \u001b[0;36m<module>\u001b[0;34m\u001b[0m\n\u001b[0;32m----> 1\u001b[0;31m \u001b[0mmin\u001b[0m\u001b[0;34m(\u001b[0m\u001b[0;32mNone\u001b[0m\u001b[0;34m,\u001b[0m \u001b[0;36m5\u001b[0m\u001b[0;34m)\u001b[0m\u001b[0;34m\u001b[0m\u001b[0;34m\u001b[0m\u001b[0m\n\u001b[0m",
      "\u001b[0;31mTypeError\u001b[0m: '<' not supported between instances of 'int' and 'NoneType'"
     ]
    }
   ],
   "source": [
    "min(None, 5)"
   ]
  },
  {
   "cell_type": "code",
   "execution_count": 125,
   "metadata": {},
   "outputs": [
    {
     "name": "stdout",
     "output_type": "stream",
     "text": [
      "2\n"
     ]
    }
   ],
   "source": [
    "cur_min = None\n",
    "\n",
    "for num in l:\n",
    "    if num > 0:\n",
    "        if cur_min == None:\n",
    "            cur_min = num\n",
    "        \n",
    "        cur_min = min(cur_min, num)\n",
    "    \n",
    "print(cur_min)"
   ]
  },
  {
   "cell_type": "markdown",
   "metadata": {},
   "source": [
    "## break"
   ]
  },
  {
   "cell_type": "code",
   "execution_count": 14,
   "metadata": {},
   "outputs": [
    {
     "data": {
      "text/plain": [
       "[2, 20, -60, 10, 13, 20, 30, 0]"
      ]
     },
     "execution_count": 14,
     "metadata": {},
     "output_type": "execute_result"
    }
   ],
   "source": [
    "x = [1, 10, -30, 5, 13, 20, 30, 0]\n",
    "\n",
    "for i in range(len(x)):\n",
    "    if x[i] == 13:\n",
    "        break\n",
    "\n",
    "    x[i] *= 2\n",
    "\n",
    "x"
   ]
  },
  {
   "cell_type": "markdown",
   "metadata": {},
   "source": [
    "## continue"
   ]
  },
  {
   "cell_type": "code",
   "execution_count": 15,
   "metadata": {},
   "outputs": [
    {
     "data": {
      "text/plain": [
       "[2, 20, -60, 10, 13, 40, 60, 0]"
      ]
     },
     "execution_count": 15,
     "metadata": {},
     "output_type": "execute_result"
    }
   ],
   "source": [
    "x = [1, 10, -30, 5, 13, 20, 30, 0]\n",
    "\n",
    "for i in range(len(x)):\n",
    "    if x[i] == 13:\n",
    "        continue\n",
    "\n",
    "    x[i] *= 2\n",
    "\n",
    "x"
   ]
  },
  {
   "cell_type": "code",
   "execution_count": 16,
   "metadata": {},
   "outputs": [],
   "source": [
    "l = [1, 2, 3]"
   ]
  },
  {
   "cell_type": "code",
   "execution_count": 17,
   "metadata": {},
   "outputs": [
    {
     "data": {
      "text/plain": [
       "140291729514240"
      ]
     },
     "execution_count": 17,
     "metadata": {},
     "output_type": "execute_result"
    }
   ],
   "source": [
    "id(l)"
   ]
  },
  {
   "cell_type": "code",
   "execution_count": 18,
   "metadata": {},
   "outputs": [],
   "source": [
    "l2 = l + [0]"
   ]
  },
  {
   "cell_type": "code",
   "execution_count": 19,
   "metadata": {},
   "outputs": [
    {
     "data": {
      "text/plain": [
       "140291729776704"
      ]
     },
     "execution_count": 19,
     "metadata": {},
     "output_type": "execute_result"
    }
   ],
   "source": [
    "id(l2)"
   ]
  },
  {
   "cell_type": "code",
   "execution_count": 20,
   "metadata": {},
   "outputs": [
    {
     "data": {
      "text/plain": [
       "False"
      ]
     },
     "execution_count": 20,
     "metadata": {},
     "output_type": "execute_result"
    }
   ],
   "source": [
    "l is l2"
   ]
  },
  {
   "cell_type": "code",
   "execution_count": null,
   "metadata": {},
   "outputs": [],
   "source": []
  },
  {
   "cell_type": "code",
   "execution_count": null,
   "metadata": {},
   "outputs": [],
   "source": []
  }
 ],
 "metadata": {
  "kernelspec": {
   "display_name": "Python 3",
   "language": "python",
   "name": "python3"
  },
  "language_info": {
   "codemirror_mode": {
    "name": "ipython",
    "version": 3
   },
   "file_extension": ".py",
   "mimetype": "text/x-python",
   "name": "python",
   "nbconvert_exporter": "python",
   "pygments_lexer": "ipython3",
   "version": "3.8.5"
  },
  "toc": {
   "base_numbering": 1,
   "nav_menu": {},
   "number_sections": true,
   "sideBar": true,
   "skip_h1_title": false,
   "title_cell": "Table of Contents",
   "title_sidebar": "Contents",
   "toc_cell": false,
   "toc_position": {},
   "toc_section_display": true,
   "toc_window_display": false
  }
 },
 "nbformat": 4,
 "nbformat_minor": 2
}
