{
 "cells": [
  {
   "cell_type": "markdown",
   "metadata": {},
   "source": [
    "## Question: *when are molecules likely to have similar phenotypes?* \n"
   ]
  },
  {
   "cell_type": "code",
   "execution_count": 144,
   "metadata": {
    "tags": []
   },
   "outputs": [
    {
     "output_type": "stream",
     "name": "stdout",
     "text": "The autoreload extension is already loaded. To reload it, use:\n  %reload_ext autoreload\n/Users/sabrieyuboglu/Documents/sabri/research/projects/milieu/milieu\n"
    }
   ],
   "source": [
    "%load_ext autoreload\n",
    "%autoreload 2\n",
    "%cd /Users/sabrieyuboglu/Documents/sabri/research/projects/milieu/milieu\n",
    "\n",
    "import numpy as np\n",
    "\n",
    "from scipy.sparse import csr_matrix\n",
    "from scipy.stats import pearsonr, spearmanr, ttest_ind, ttest_rel\n",
    "import seaborn as sns\n",
    "import matplotlib.pyplot as plt\n",
    "\n",
    "from milieu.data.associations import load_diseases, build_disease_matrix\n",
    "from milieu.data.network_matrices import load_network_matrices\n",
    "from milieu.data.network import Network"
   ]
  },
  {
   "cell_type": "code",
   "execution_count": 166,
   "metadata": {},
   "outputs": [],
   "source": [
    "network = Network(\"data/networks/species_9606/huri/network.txt\")"
   ]
  },
  {
   "cell_type": "markdown",
   "metadata": {},
   "source": [
    "## Compute jaccard similarity  between proteins "
   ]
  },
  {
   "cell_type": "code",
   "execution_count": 167,
   "metadata": {},
   "outputs": [],
   "source": [
    "processes = load_diseases(\"data/associations/gene_ontology/species_9606/go_process/associations.csv\")\n",
    "functions = load_diseases(\"data/associations/gene_ontology/species_9606/go_function/associations.csv\")\n",
    "diseases = load_diseases(\"data/associations/disgenet/associations.csv\")\n",
    "drugs = load_diseases(\"data/associations/drugbank/associations.csv\")\n",
    "\n",
    "associations = {}\n",
    "for dct in [diseases, functions, processes, drugs]:\n",
    "    associations.update(dct)"
   ]
  },
  {
   "cell_type": "code",
   "execution_count": 168,
   "metadata": {
    "tags": []
   },
   "outputs": [],
   "source": [
    "association_matrix, _  = build_disease_matrix(associations, network)"
   ]
  },
  {
   "cell_type": "code",
   "execution_count": 175,
   "metadata": {},
   "outputs": [
    {
     "output_type": "execute_result",
     "data": {
      "text/plain": "(4914, 8992)"
     },
     "metadata": {},
     "execution_count": 175
    }
   ],
   "source": [
    "association_matrix.shape"
   ]
  },
  {
   "cell_type": "code",
   "execution_count": 169,
   "metadata": {},
   "outputs": [],
   "source": [
    "def compute_jaccard(matrix):\n",
    "    \"\"\"\n",
    "    Computes the pairwise jaccard similarity between \n",
    "    :param matrix: (nd.array) an NxD matrix where N is the # of sets and D is\n",
    "        the maximum cardinality of the sets.  \n",
    "    \"\"\"\n",
    "    intersection = (csr_matrix(matrix)\n",
    "                        .dot(csr_matrix(matrix.T)).todense())\n",
    "    union = np.zeros_like(intersection)\n",
    "    union += matrix.sum(axis=1, keepdims=True)\n",
    "    union += matrix.sum(axis=1, keepdims=True).T\n",
    "    union -= intersection\n",
    "    jaccard = np.array(np.nan_to_num(intersection / union, 0))\n",
    "    return jaccard\n"
   ]
  },
  {
   "cell_type": "code",
   "execution_count": 172,
   "metadata": {},
   "outputs": [],
   "source": [
    "association_jaccard = compute_jaccard(association_matrix.T)\n",
    "np.fill_diagonal(association_jaccard, 0)"
   ]
  },
  {
   "cell_type": "code",
   "execution_count": 173,
   "metadata": {
    "tags": []
   },
   "outputs": [
    {
     "output_type": "error",
     "ename": "ValueError",
     "evalue": "Failed",
     "traceback": [
      "\u001b[0;31m---------------------------------------------------------------------------\u001b[0m",
      "\u001b[0;31mValueError\u001b[0m                                Traceback (most recent call last)",
      "\u001b[0;32m<ipython-input-173-877f236f0797>\u001b[0m in \u001b[0;36m<module>\u001b[0;34m\u001b[0m\n\u001b[1;32m     11\u001b[0m \u001b[0;34m\u001b[0m\u001b[0m\n\u001b[1;32m     12\u001b[0m     \u001b[0;32mif\u001b[0m \u001b[0mcomputed\u001b[0m \u001b[0;34m!=\u001b[0m \u001b[0mvalue\u001b[0m\u001b[0;34m:\u001b[0m\u001b[0;34m\u001b[0m\u001b[0;34m\u001b[0m\u001b[0m\n\u001b[0;32m---> 13\u001b[0;31m         \u001b[0;32mraise\u001b[0m \u001b[0mValueError\u001b[0m\u001b[0;34m(\u001b[0m\u001b[0;34m\"Failed\"\u001b[0m\u001b[0;34m)\u001b[0m\u001b[0;34m\u001b[0m\u001b[0;34m\u001b[0m\u001b[0m\n\u001b[0m\u001b[1;32m     14\u001b[0m \u001b[0;34m\u001b[0m\u001b[0m\n\u001b[1;32m     15\u001b[0m \u001b[0mprint\u001b[0m\u001b[0;34m(\u001b[0m\u001b[0;34m\"passed\"\u001b[0m\u001b[0;34m)\u001b[0m\u001b[0;34m\u001b[0m\u001b[0;34m\u001b[0m\u001b[0m\n",
      "\u001b[0;31mValueError\u001b[0m: Failed"
     ]
    }
   ],
   "source": [
    "# test jaccard\n",
    "from sklearn.metrics import jaccard_score\n",
    "for _ in range(10000):\n",
    "    i = np.random.randint(0, association_jaccard.shape[0])\n",
    "    j = np.random.randint(0, association_jaccard.shape[0])\n",
    "    if i == j:\n",
    "        continue \n",
    "\n",
    "    computed = association_jaccard[i, j]\n",
    "    value = jaccard_score(association_matrix[:, i], association_matrix[:, j])\n",
    "\n",
    "    if computed != value:\n",
    "        raise ValueError(\"Failed\")\n",
    "        \n",
    "print(\"passed\")"
   ]
  },
  {
   "cell_type": "code",
   "execution_count": 46,
   "metadata": {},
   "outputs": [],
   "source": [
    "mi_matrix = load_network_matrices({\"mi\": \"data/networks/species_9606/huri/mutual_interactor\"}, \n",
    "                                  network=network)[\"mi\"]"
   ]
  },
  {
   "cell_type": "code",
   "execution_count": 47,
   "metadata": {},
   "outputs": [
    {
     "output_type": "execute_result",
     "data": {
      "text/plain": "(0.02120972491532083, 0.0)"
     },
     "metadata": {},
     "execution_count": 47
    }
   ],
   "source": [
    "pearsonr(mi_matrix[np.triu_indices(mi_matrix.shape[0], k=1)], \n",
    "         association_jaccard[np.triu_indices(association_jaccard.shape[0], k=1)])"
   ]
  },
  {
   "cell_type": "code",
   "execution_count": 48,
   "metadata": {},
   "outputs": [],
   "source": [
    "x = network.adj_matrix\n",
    "di_matrix = x / x.sum(axis=0, keepdims = True) / x.sum(axis=1, keepdims=True)"
   ]
  },
  {
   "cell_type": "code",
   "execution_count": 49,
   "metadata": {},
   "outputs": [],
   "source": [
    "mi_values = mi_matrix[np.triu_indices(mi_matrix.shape[0], k=1)]\n",
    "di_values = di_matrix[np.triu_indices(di_matrix.shape[0], k=1)]\n",
    "adj_values = network.adj_matrix[np.triu_indices(network.adj_matrix.shape[0], k=1)]\n",
    "jaccard_values = association_jaccard[np.triu_indices(association_jaccard.shape[0], k=1)]"
   ]
  },
  {
   "cell_type": "code",
   "execution_count": 50,
   "metadata": {
    "tags": []
   },
   "outputs": [
    {
     "output_type": "stream",
     "name": "stdout",
     "text": "0.011688996860919494\n0.0050902866818882675\n"
    }
   ],
   "source": [
    "# Claim: we findg that molecules with high mutual interactor scores are more similar than molecules with high direct interactor scores.\n",
    "print(jaccard_values[mi_values >= np.percentile(mi_values, 99.9)].mean())\n",
    "print(jaccard_values[di_values >= np.percentile(di_values, 99.9)].mean())\n"
   ]
  },
  {
   "cell_type": "code",
   "execution_count": 101,
   "metadata": {},
   "outputs": [
    {
     "output_type": "execute_result",
     "data": {
      "text/plain": "Ttest_relResult(statistic=16.27395083226033, pvalue=2.0066307152972687e-59)"
     },
     "metadata": {},
     "execution_count": 101
    }
   ],
   "source": [
    "k = adj_values.sum().astype(int)\n",
    "ttest_rel(jaccard_values[mi_values.argsort()[-k:]],\n",
    "          jaccard_values[di_values.argsort()[-k:]])"
   ]
  },
  {
   "cell_type": "code",
   "execution_count": 57,
   "metadata": {},
   "outputs": [
    {
     "output_type": "execute_result",
     "data": {
      "text/plain": "Ttest_indResult(statistic=16.05568064757644, pvalue=5.9682123171391184e-58)"
     },
     "metadata": {},
     "execution_count": 57
    }
   ],
   "source": [
    "k = adj_values.sum().astype(int)\n",
    "ttest_ind(jaccard_values[np.argpartition(mi_values, -k)[-k:]],\n",
    "          jaccard_values[np.argpartition(di_values, -k)[-k:]])"
   ]
  },
  {
   "cell_type": "code",
   "execution_count": null,
   "metadata": {},
   "outputs": [],
   "source": []
  },
  {
   "cell_type": "code",
   "execution_count": 56,
   "metadata": {
    "tags": []
   },
   "outputs": [
    {
     "output_type": "stream",
     "name": "stdout",
     "text": "0.008811414816040475\n0.0037057968986399605\n"
    }
   ],
   "source": [
    "k = adj_values.sum().astype(int)\n",
    "print(jaccard_values[np.argpartition(mi_values, -k)[-k:]].mean())\n",
    "print(jaccard_values[np.argpartition(di_values, -k)[-k:]].mean())"
   ]
  },
  {
   "cell_type": "code",
   "execution_count": 37,
   "metadata": {},
   "outputs": [
    {
     "output_type": "execute_result",
     "data": {
      "text/plain": "0.042"
     },
     "metadata": {},
     "execution_count": 37
    }
   ],
   "source": [
    "adj_values[np.argpartition(jaccard_values, -k)[-k:]].mean()"
   ]
  },
  {
   "cell_type": "code",
   "execution_count": 96,
   "metadata": {},
   "outputs": [
    {
     "output_type": "execute_result",
     "data": {
      "text/plain": "38750"
     },
     "metadata": {},
     "execution_count": 96
    }
   ],
   "source": [
    "(jaccard_values > 0.2).sum()"
   ]
  },
  {
   "cell_type": "code",
   "execution_count": 99,
   "metadata": {},
   "outputs": [
    {
     "output_type": "execute_result",
     "data": {
      "text/plain": "62841"
     },
     "metadata": {},
     "execution_count": 99
    }
   ],
   "source": [
    "len(list(network.get_interactions()))"
   ]
  },
  {
   "cell_type": "code",
   "execution_count": 100,
   "metadata": {},
   "outputs": [
    {
     "output_type": "execute_result",
     "data": {
      "text/plain": "62084.0"
     },
     "metadata": {},
     "execution_count": 100
    }
   ],
   "source": [
    "adj_values.sum()"
   ]
  },
  {
   "cell_type": "code",
   "execution_count": null,
   "metadata": {},
   "outputs": [],
   "source": []
  }
 ],
 "metadata": {
  "language_info": {
   "codemirror_mode": {
    "name": "ipython",
    "version": 3
   },
   "file_extension": ".py",
   "mimetype": "text/x-python",
   "name": "python",
   "nbconvert_exporter": "python",
   "pygments_lexer": "ipython3",
   "version": "3.7.3-final"
  },
  "orig_nbformat": 2,
  "kernelspec": {
   "name": "python37364bitenvvenv7b9a91cff3f348e1a0d1e908b403a530",
   "display_name": "Python 3.7.3 64-bit ('env': venv)"
  }
 },
 "nbformat": 4,
 "nbformat_minor": 2
}