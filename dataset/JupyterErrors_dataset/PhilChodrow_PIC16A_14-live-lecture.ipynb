{
 "cells": [
  {
   "cell_type": "markdown",
   "metadata": {},
   "source": [
    "## Midterm Review Questions\n",
    "\n",
    "### Likely Topics\n",
    "\n",
    "\n",
    "- Dictionaries\n",
    "- Functions\n",
    "- Object-oriented programming\n",
    "- Iteration\n",
    "- Numpy\n",
    "- lambda functions\n",
    "- Exceptions + error handling\n",
    "    - Raising exceptions\n",
    "    - `try-except`\n",
    "\n",
    "\n"
   ]
  },
  {
   "cell_type": "markdown",
   "metadata": {},
   "source": [
    "## `lambda` Functions\n",
    "\n",
    "- How do they work? \n",
    "- Do we need docstrings?"
   ]
  },
  {
   "cell_type": "code",
   "execution_count": 3,
   "metadata": {},
   "outputs": [
    {
     "data": {
      "text/plain": [
       "['Picard', 'Sisko', 'Janeway']"
      ]
     },
     "execution_count": 3,
     "metadata": {},
     "output_type": "execute_result"
    }
   ],
   "source": [
    "def doubler(x):\n",
    "    return 2*x\n",
    "\n",
    "doubler(5)\n",
    "\n",
    "doubler = lambda x: 2*x\n",
    "\n",
    "L = [\"Picard\", \"Janeway\", \"Sisko\"]\n",
    "\n",
    "# sort by LAST letter\n",
    "L.sort(key = lambda x: x[-1])\n",
    "L"
   ]
  },
  {
   "cell_type": "code",
   "execution_count": 4,
   "metadata": {},
   "outputs": [
    {
     "data": {
      "text/plain": [
       "[1, 4, 9, 16, 25]"
      ]
     },
     "execution_count": 4,
     "metadata": {},
     "output_type": "execute_result"
    }
   ],
   "source": [
    "# function to give a list of squares up to k\n",
    "squares = lambda k: [j**2 for j in range(1, k+1)]\n",
    "\n",
    "squares(5)"
   ]
  },
  {
   "cell_type": "code",
   "execution_count": 17,
   "metadata": {},
   "outputs": [
    {
     "data": {
      "text/plain": [
       "[1, 4, 9, 16, 25]"
      ]
     },
     "execution_count": 17,
     "metadata": {},
     "output_type": "execute_result"
    }
   ],
   "source": [
    "import numpy as np\n",
    "squares = lambda k: list(np.arange(1, k+1)**2)\n",
    "squares(5)"
   ]
  },
  {
   "cell_type": "markdown",
   "metadata": {},
   "source": [
    "## \"Magic\" Methods\n",
    "\n",
    "What's magic about \"magic\" methods is simply that they are called implicitly through other operations. "
   ]
  },
  {
   "cell_type": "code",
   "execution_count": 8,
   "metadata": {},
   "outputs": [],
   "source": [
    "class totoro: \n",
    "    \n",
    "    def yell(self):\n",
    "        print(\"AAAAAAHHHHHHH\")\n",
    "        \n",
    "    def __str__(self):\n",
    "        return \"An object of class totoro. A magic method was called.\""
   ]
  },
  {
   "cell_type": "code",
   "execution_count": 9,
   "metadata": {},
   "outputs": [
    {
     "name": "stdout",
     "output_type": "stream",
     "text": [
      "AAAAAAHHHHHHH\n"
     ]
    }
   ],
   "source": [
    "my_neighbor = totoro()\n",
    "my_neighbor.yell()     # explicitly calling a method of the class"
   ]
  },
  {
   "cell_type": "code",
   "execution_count": 10,
   "metadata": {},
   "outputs": [
    {
     "name": "stdout",
     "output_type": "stream",
     "text": [
      "An object of class totoro. A magic method was called.\n"
     ]
    }
   ],
   "source": [
    "print(my_neighbor)     # example of magic method being called"
   ]
  },
  {
   "cell_type": "code",
   "execution_count": 11,
   "metadata": {},
   "outputs": [
    {
     "data": {
      "text/plain": [
       "'An object of class totoro. A magic method was called.'"
      ]
     },
     "execution_count": 11,
     "metadata": {},
     "output_type": "execute_result"
    }
   ],
   "source": [
    "# printing an object: print(str(obj))"
   ]
  },
  {
   "cell_type": "code",
   "execution_count": 12,
   "metadata": {},
   "outputs": [
    {
     "data": {
      "text/plain": [
       "4"
      ]
     },
     "execution_count": 12,
     "metadata": {},
     "output_type": "execute_result"
    }
   ],
   "source": [
    "2 + 2 # calling the __add__() magic method of integers\n",
    "(2).__add__(2)"
   ]
  },
  {
   "cell_type": "markdown",
   "metadata": {},
   "source": [
    "## `try-except` and `if-else`"
   ]
  },
  {
   "cell_type": "code",
   "execution_count": 14,
   "metadata": {},
   "outputs": [
    {
     "name": "stdin",
     "output_type": "stream",
     "text": [
      "please choose a Star Trek Captain Picard\n"
     ]
    },
    {
     "ename": "KeyError",
     "evalue": "'Picard'",
     "output_type": "error",
     "traceback": [
      "\u001b[0;31m---------------------------------------------------------------------------\u001b[0m",
      "\u001b[0;31mKeyError\u001b[0m                                  Traceback (most recent call last)",
      "\u001b[0;32m<ipython-input-14-2d5818879414>\u001b[0m in \u001b[0;36m<module>\u001b[0;34m\u001b[0m\n\u001b[1;32m      8\u001b[0m \u001b[0mkey\u001b[0m \u001b[0;34m=\u001b[0m \u001b[0minput\u001b[0m\u001b[0;34m(\u001b[0m\u001b[0;34m\"please choose a Star Trek Captain\"\u001b[0m\u001b[0;34m)\u001b[0m\u001b[0;34m\u001b[0m\u001b[0;34m\u001b[0m\u001b[0m\n\u001b[1;32m      9\u001b[0m \u001b[0;34m\u001b[0m\u001b[0m\n\u001b[0;32m---> 10\u001b[0;31m \u001b[0mprint\u001b[0m\u001b[0;34m(\u001b[0m\u001b[0md\u001b[0m\u001b[0;34m[\u001b[0m\u001b[0mkey\u001b[0m\u001b[0;34m]\u001b[0m\u001b[0;34m)\u001b[0m\u001b[0;34m\u001b[0m\u001b[0;34m\u001b[0m\u001b[0m\n\u001b[0m",
      "\u001b[0;31mKeyError\u001b[0m: 'Picard'"
     ]
    }
   ],
   "source": [
    "# this code errors\n",
    "\n",
    "d = {\n",
    "    \"Sisko\" : \"DS9\",\n",
    "    \"Janeway\" : \"VOY\"\n",
    "}\n",
    "\n",
    "key = input(\"please choose a Star Trek Captain\")\n",
    "\n",
    "print(d[key])"
   ]
  },
  {
   "cell_type": "code",
   "execution_count": 15,
   "metadata": {},
   "outputs": [
    {
     "name": "stdin",
     "output_type": "stream",
     "text": [
      "please choose a Star Trek Captain Picard\n"
     ]
    },
    {
     "name": "stdout",
     "output_type": "stream",
     "text": [
      "Sorry, your input wasn't found in my data.\n"
     ]
    }
   ],
   "source": [
    "# prevent error scenario from ever occurring\n",
    "# using if-else\n",
    "\n",
    "d = {\n",
    "    \"Sisko\" : \"DS9\",\n",
    "    \"Janeway\" : \"VOY\"\n",
    "}\n",
    "\n",
    "key = input(\"please choose a Star Trek Captain\")\n",
    "\n",
    "# check if the key is in the dictionary\n",
    "if key in d.keys():\n",
    "    # print if so\n",
    "    print(d[key])\n",
    "else:\n",
    "    print(\"Sorry, your input wasn't found in my data.\")"
   ]
  },
  {
   "cell_type": "code",
   "execution_count": 16,
   "metadata": {},
   "outputs": [
    {
     "name": "stdin",
     "output_type": "stream",
     "text": [
      "please choose a Star Trek Captain Picard\n"
     ]
    },
    {
     "name": "stdout",
     "output_type": "stream",
     "text": [
      "Sorry, I couldn't find that value.\n"
     ]
    }
   ],
   "source": [
    "# allow the scenario to occur\n",
    "# define alternate behavior for the exception\n",
    "\n",
    "d = {\n",
    "    \"Sisko\" : \"DS9\",\n",
    "    \"Janeway\" : \"VOY\"\n",
    "}\n",
    "\n",
    "key = input(\"please choose a Star Trek Captain\")\n",
    "\n",
    "try: \n",
    "    print(d[key])\n",
    "except KeyError:\n",
    "    print(\"Sorry, I couldn't find that value.\")"
   ]
  },
  {
   "cell_type": "code",
   "execution_count": null,
   "metadata": {},
   "outputs": [],
   "source": []
  }
 ],
 "metadata": {
  "kernelspec": {
   "display_name": "Python 3",
   "language": "python",
   "name": "python3"
  },
  "language_info": {
   "codemirror_mode": {
    "name": "ipython",
    "version": 3
   },
   "file_extension": ".py",
   "mimetype": "text/x-python",
   "name": "python",
   "nbconvert_exporter": "python",
   "pygments_lexer": "ipython3",
   "version": "3.8.5"
  }
 },
 "nbformat": 4,
 "nbformat_minor": 4
}
