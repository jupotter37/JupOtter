{
 "cells": [
  {
   "cell_type": "code",
   "execution_count": null,
   "metadata": {},
   "outputs": [],
   "source": [
    "print(\"Hello Python\")"
   ]
  },
  {
   "cell_type": "code",
   "execution_count": null,
   "metadata": {},
   "outputs": [],
   "source": [
    "import keyword\n",
    "keyword.kwlists"
   ]
  },
  {
   "cell_type": "code",
   "execution_count": null,
   "metadata": {},
   "outputs": [],
   "source": [
    "finalFileName = '1.txt'\n",
    "htmlContent = ''.encode()\n",
    "with open(finalFileName, 'wb') as fp:\n",
    "fp.write(htmlContent)"
   ]
  },
  {
   "cell_type": "code",
   "execution_count": null,
   "metadata": {},
   "outputs": [],
   "source": [
    "#!/usr/bin/python\n",
    "# -*- coding: UTF-8 -*-\n",
    " \n",
    "for i in range(1,5):\n",
    "    for j in range(1,5):\n",
    "        for k in range(1,5):\n",
    "            if( i != k ) and (i != j) and (j != k):\n",
    "                print(i,j,k)"
   ]
  },
  {
   "cell_type": "code",
   "execution_count": null,
   "metadata": {},
   "outputs": [],
   "source": [
    "#!/usr/bin/python\n",
    "# -*- coding: UTF-8 -*-\n",
    "\n",
    "a = 0o77\n",
    "b = a | 3\n",
    "print('a | b is %d' % b)\n",
    "b |= 7\n",
    "print('a | b is %d' % b)"
   ]
  },
  {
   "cell_type": "code",
   "execution_count": null,
   "metadata": {},
   "outputs": [],
   "source": [
    "a = 0o77\n",
    "b = a | 3\n",
    "print('a | b is %d' % b)\n",
    "b |= 7\n",
    "print('a | b is %d' % b)"
   ]
  },
  {
   "cell_type": "code",
   "execution_count": null,
   "metadata": {},
   "outputs": [],
   "source": [
    "data = np.loadtxt(filename)\n",
    "np.save(filename, np.transpose((x, y, z)))\n",
    "data = np.genfromtxt(filename)"
   ]
  },
  {
   "cell_type": "code",
   "execution_count": null,
   "metadata": {},
   "outputs": [],
   "source": [
    "import math\n",
    "\n",
    "\n",
    "a = -1 \n",
    "\n",
    "b = abs(a)\n",
    "\n",
    "print(b)"
   ]
  },
  {
   "cell_type": "code",
   "execution_count": 20,
   "metadata": {},
   "outputs": [
    {
     "name": "stdout",
     "output_type": "stream",
     "text": [
      "0.11999999999999922\n",
      "10\n"
     ]
    }
   ],
   "source": [
    "import math\n",
    "\n",
    "a,b = math.modf(10.12)\n",
    "\n",
    "print(a)\n",
    "print(int(b))"
   ]
  },
  {
   "cell_type": "code",
   "execution_count": 24,
   "metadata": {},
   "outputs": [
    {
     "name": "stdout",
     "output_type": "stream",
     "text": [
      "\n",
      "201\n",
      "201\n",
      "401\n",
      "1\n",
      "1\n",
      "1\n",
      "401\n",
      "401\n",
      "401\n",
      "201\n",
      "1\n",
      "1\n",
      "201\n",
      "201\n",
      "1\n",
      "401\n",
      "201\n",
      "201\n",
      "201\n",
      "201\n",
      "201\n",
      "401\n",
      "401\n",
      "201\n",
      "1\n",
      "1\n",
      "401\n",
      "1\n",
      "401\n",
      "401\n",
      "1\n",
      "201\n",
      "201\n",
      "201\n",
      "1\n",
      "401\n",
      "1\n",
      "1\n",
      "1\n",
      "401\n",
      "401\n",
      "201\n",
      "401\n",
      "201\n",
      "401\n",
      "201\n",
      "1\n",
      "1\n",
      "201\n",
      "401\n",
      "401\n",
      "1\n",
      "1\n",
      "1\n",
      "1\n",
      "401\n",
      "201\n",
      "201\n",
      "401\n",
      "401\n",
      "201\n",
      "201\n",
      "401\n",
      "201\n",
      "201\n",
      "201\n",
      "1\n",
      "201\n",
      "1\n",
      "401\n",
      "201\n",
      "1\n",
      "201\n",
      "1\n",
      "1\n",
      "201\n",
      "401\n",
      "1\n",
      "201\n",
      "401\n",
      "1\n",
      "401\n",
      "401\n",
      "1\n",
      "1\n",
      "401\n",
      "201\n",
      "1\n",
      "1\n",
      "1\n",
      "401\n",
      "1\n",
      "1\n",
      "1\n",
      "201\n",
      "401\n",
      "1\n",
      "201\n",
      "201\n",
      "1\n",
      "\n",
      "1\n",
      "1\n",
      "201\n",
      "401\n",
      "201\n",
      "1\n",
      "1\n",
      "401\n",
      "201\n",
      "401\n",
      "201\n",
      "201\n",
      "201\n",
      "201\n",
      "201\n",
      "201\n",
      "1\n",
      "1\n",
      "201\n",
      "201\n",
      "1\n",
      "401\n",
      "401\n",
      "201\n",
      "201\n",
      "1\n",
      "401\n",
      "401\n",
      "401\n",
      "1\n",
      "1\n",
      "201\n",
      "1\n",
      "401\n",
      "1\n",
      "1\n",
      "1\n",
      "401\n",
      "1\n",
      "401\n",
      "201\n",
      "201\n",
      "401\n",
      "201\n",
      "1\n",
      "401\n",
      "201\n",
      "1\n",
      "1\n",
      "1\n",
      "201\n",
      "401\n",
      "401\n",
      "1\n",
      "1\n",
      "1\n",
      "201\n",
      "401\n",
      "201\n",
      "1\n",
      "401\n",
      "1\n",
      "401\n",
      "201\n",
      "201\n",
      "1\n",
      "1\n",
      "201\n",
      "1\n",
      "401\n",
      "1\n",
      "201\n",
      "401\n",
      "201\n",
      "201\n",
      "1\n",
      "1\n",
      "201\n",
      "1\n",
      "401\n",
      "401\n",
      "201\n",
      "201\n",
      "401\n",
      "201\n",
      "401\n",
      "401\n",
      "1\n",
      "201\n",
      "201\n",
      "401\n",
      "401\n",
      "1\n",
      "401\n",
      "401\n",
      "201\n",
      "401\n",
      "1\n",
      "401\n",
      "401\n",
      "\n",
      "201\n",
      "401\n",
      "1\n",
      "1\n",
      "201\n",
      "1\n",
      "1\n",
      "1\n",
      "401\n",
      "1\n",
      "401\n",
      "1\n",
      "1\n",
      "201\n",
      "201\n",
      "1\n",
      "201\n",
      "401\n",
      "401\n",
      "401\n",
      "401\n",
      "401\n",
      "201\n",
      "201\n",
      "1\n",
      "201\n",
      "1\n",
      "1\n",
      "1\n",
      "401\n",
      "201\n",
      "201\n",
      "201\n",
      "1\n",
      "1\n",
      "401\n",
      "1\n",
      "1\n",
      "201\n",
      "1\n",
      "201\n",
      "401\n",
      "201\n",
      "201\n",
      "201\n",
      "201\n",
      "401\n",
      "201\n",
      "1\n",
      "201\n",
      "1\n",
      "401\n",
      "201\n",
      "401\n",
      "401\n",
      "401\n",
      "1\n",
      "201\n",
      "1\n",
      "401\n",
      "201\n",
      "401\n",
      "201\n",
      "1\n",
      "401\n",
      "401\n",
      "1\n",
      "201\n",
      "1\n",
      "1\n",
      "201\n",
      "201\n",
      "401\n",
      "1\n",
      "201\n",
      "401\n",
      "201\n",
      "401\n",
      "201\n",
      "401\n",
      "201\n",
      "401\n",
      "401\n",
      "201\n",
      "201\n",
      "1\n",
      "1\n",
      "401\n",
      "201\n",
      "401\n",
      "401\n",
      "201\n",
      "401\n",
      "201\n",
      "201\n",
      "201\n",
      "401\n",
      "201\n",
      "401\n",
      "401\n",
      "\n",
      "401\n",
      "401\n",
      "401\n",
      "401\n",
      "401\n",
      "201\n",
      "401\n",
      "1\n",
      "1\n",
      "401\n",
      "1\n",
      "1\n",
      "401\n",
      "1\n",
      "201\n",
      "1\n",
      "1\n",
      "201\n",
      "201\n",
      "201\n",
      "401\n",
      "1\n",
      "401\n",
      "1\n",
      "1\n",
      "1\n",
      "401\n",
      "1\n",
      "401\n",
      "1\n",
      "401\n",
      "201\n",
      "401\n",
      "201\n",
      "201\n",
      "401\n",
      "401\n",
      "401\n",
      "1\n",
      "401\n",
      "201\n",
      "201\n",
      "201\n",
      "201\n",
      "201\n",
      "201\n",
      "1\n",
      "1\n",
      "1\n",
      "401\n",
      "401\n",
      "401\n",
      "401\n",
      "1\n",
      "401\n",
      "401\n",
      "201\n",
      "1\n",
      "401\n",
      "401\n",
      "201\n",
      "201\n",
      "201\n",
      "201\n",
      "401\n",
      "401\n",
      "1\n",
      "401\n",
      "1\n",
      "1\n",
      "1\n",
      "201\n",
      "201\n",
      "1\n",
      "1\n",
      "401\n",
      "1\n",
      "1\n",
      "401\n",
      "201\n",
      "201\n",
      "201\n",
      "201\n",
      "201\n",
      "401\n",
      "1\n",
      "201\n",
      "401\n",
      "201\n",
      "201\n",
      "201\n",
      "401\n",
      "401\n",
      "401\n",
      "1\n",
      "201\n",
      "1\n",
      "1\n",
      "201\n",
      "201\n",
      "\n",
      "401\n",
      "1\n",
      "1\n",
      "401\n",
      "401\n",
      "401\n",
      "201\n",
      "401\n",
      "201\n",
      "1\n",
      "201\n",
      "1\n",
      "201\n",
      "1\n",
      "1\n",
      "201\n",
      "401\n",
      "401\n",
      "201\n",
      "1\n",
      "401\n",
      "201\n",
      "201\n",
      "401\n",
      "401\n",
      "1\n",
      "401\n",
      "201\n",
      "401\n",
      "401\n",
      "401\n",
      "201\n",
      "401\n",
      "201\n",
      "201\n",
      "1\n",
      "401\n",
      "401\n",
      "201\n",
      "1\n",
      "201\n",
      "1\n",
      "401\n",
      "401\n",
      "401\n",
      "1\n",
      "1\n",
      "401\n",
      "401\n",
      "201\n",
      "401\n",
      "1\n",
      "1\n",
      "201\n",
      "201\n",
      "1\n",
      "1\n",
      "1\n",
      "201\n",
      "201\n",
      "201\n",
      "201\n",
      "201\n",
      "401\n",
      "1\n",
      "201\n",
      "201\n",
      "1\n",
      "1\n",
      "1\n",
      "401\n",
      "401\n",
      "401\n",
      "201\n",
      "1\n",
      "201\n",
      "1\n",
      "401\n",
      "401\n",
      "401\n",
      "1\n",
      "1\n",
      "1\n",
      "1\n",
      "401\n",
      "201\n",
      "201\n",
      "201\n",
      "1\n",
      "1\n",
      "201\n",
      "1\n",
      "1\n",
      "401\n",
      "401\n",
      "1\n",
      "1\n",
      "1\n",
      "1\n",
      "201\n",
      "\n",
      "401\n",
      "1\n",
      "201\n",
      "401\n",
      "201\n",
      "401\n",
      "201\n",
      "401\n",
      "1\n",
      "201\n",
      "401\n",
      "401\n",
      "401\n",
      "401\n",
      "201\n",
      "201\n",
      "201\n",
      "201\n",
      "401\n",
      "1\n",
      "1\n",
      "401\n",
      "201\n",
      "1\n",
      "401\n",
      "1\n",
      "201\n",
      "1\n",
      "1\n",
      "1\n",
      "201\n",
      "1\n",
      "401\n",
      "1\n",
      "1\n",
      "201\n",
      "201\n",
      "201\n",
      "401\n",
      "401\n",
      "1\n",
      "401\n",
      "201\n",
      "401\n",
      "1\n",
      "1\n",
      "401\n",
      "1\n",
      "1\n",
      "1\n",
      "201\n",
      "401\n",
      "201\n",
      "401\n",
      "401\n",
      "401\n",
      "1\n",
      "1\n",
      "1\n",
      "401\n",
      "201\n",
      "1\n",
      "1\n",
      "201\n",
      "1\n",
      "401\n",
      "1\n",
      "401\n",
      "1\n",
      "401\n",
      "401\n",
      "1\n",
      "1\n",
      "1\n",
      "401\n",
      "201\n",
      "401\n",
      "1\n",
      "201\n",
      "201\n",
      "201\n",
      "201\n",
      "401\n",
      "401\n",
      "401\n",
      "1\n",
      "1\n",
      "1\n",
      "1\n",
      "1\n",
      "201\n",
      "201\n",
      "401\n",
      "201\n",
      "401\n",
      "1\n",
      "201\n",
      "401\n",
      "401\n",
      "401\n",
      "\n",
      "1\n",
      "1\n",
      "1\n",
      "401\n",
      "401\n",
      "401\n",
      "201\n",
      "1\n",
      "1\n",
      "401\n",
      "1\n",
      "401\n",
      "1\n",
      "1\n",
      "401\n",
      "1\n",
      "201\n",
      "201\n",
      "401\n",
      "1\n",
      "401\n",
      "1\n",
      "1\n",
      "201\n",
      "1\n",
      "201\n",
      "401\n",
      "201\n",
      "1\n",
      "401\n",
      "1\n",
      "401\n",
      "401\n",
      "1\n",
      "1\n",
      "1\n",
      "201\n",
      "1\n",
      "401\n",
      "201\n",
      "1\n",
      "1\n",
      "201\n",
      "401\n",
      "401\n",
      "1\n",
      "1\n",
      "201\n",
      "201\n",
      "201\n",
      "201\n",
      "1\n",
      "401\n",
      "1\n",
      "201\n",
      "201\n",
      "201\n",
      "401\n",
      "401\n",
      "201\n",
      "1\n",
      "1\n",
      "1\n",
      "401\n",
      "201\n",
      "401\n",
      "201\n",
      "1\n",
      "401\n",
      "401\n",
      "1\n",
      "1\n",
      "201\n",
      "201\n",
      "201\n",
      "201\n",
      "201\n",
      "201\n",
      "1\n",
      "401\n",
      "401\n",
      "401\n",
      "1\n",
      "201\n",
      "201\n",
      "401\n",
      "1\n",
      "201\n",
      "1\n",
      "1\n",
      "201\n",
      "401\n",
      "401\n",
      "1\n",
      "201\n",
      "201\n",
      "401\n",
      "201\n",
      "1\n",
      "201\n",
      "\n",
      "201\n",
      "1\n",
      "1\n",
      "401\n",
      "201\n",
      "401\n",
      "1\n",
      "1\n",
      "1\n",
      "201\n",
      "401\n",
      "401\n",
      "201\n",
      "1\n",
      "401\n",
      "201\n",
      "401\n",
      "1\n",
      "1\n",
      "201\n",
      "1\n",
      "201\n",
      "401\n",
      "1\n",
      "401\n",
      "401\n",
      "201\n",
      "201\n",
      "201\n",
      "401\n",
      "401\n",
      "1\n",
      "201\n",
      "201\n",
      "201\n",
      "401\n",
      "201\n",
      "1\n",
      "1\n",
      "401\n",
      "201\n",
      "1\n",
      "401\n",
      "401\n",
      "1\n",
      "201\n",
      "201\n",
      "1\n",
      "201\n",
      "401\n",
      "401\n",
      "1\n",
      "201\n",
      "401\n",
      "1\n",
      "201\n",
      "1\n",
      "201\n",
      "401\n",
      "201\n",
      "401\n",
      "1\n",
      "1\n",
      "401\n",
      "1\n",
      "1\n",
      "201\n",
      "201\n",
      "201\n",
      "401\n",
      "201\n",
      "401\n",
      "401\n",
      "401\n",
      "1\n",
      "1\n",
      "1\n",
      "201\n",
      "1\n",
      "1\n",
      "1\n",
      "201\n",
      "1\n",
      "1\n",
      "401\n",
      "1\n",
      "201\n",
      "401\n",
      "1\n",
      "201\n",
      "401\n",
      "1\n",
      "201\n",
      "1\n",
      "1\n",
      "1\n",
      "401\n",
      "401\n",
      "401\n",
      "401\n",
      "\n",
      "201\n",
      "401\n",
      "401\n",
      "1\n",
      "1\n",
      "201\n",
      "1\n",
      "201\n",
      "401\n",
      "1\n",
      "1\n",
      "401\n",
      "1\n",
      "201\n",
      "1\n",
      "1\n",
      "401\n",
      "401\n",
      "1\n",
      "1\n",
      "401\n",
      "1\n",
      "401\n",
      "201\n",
      "201\n",
      "401\n",
      "1\n",
      "1\n",
      "1\n",
      "401\n",
      "201\n",
      "401\n",
      "1\n",
      "201\n",
      "401\n",
      "201\n",
      "201\n",
      "1\n",
      "401\n",
      "201\n",
      "1\n",
      "1\n",
      "401\n",
      "1\n",
      "201\n",
      "401\n",
      "1\n",
      "1\n",
      "401\n",
      "401\n",
      "201\n",
      "1\n",
      "401\n",
      "1\n",
      "401\n",
      "401\n",
      "201\n",
      "201\n",
      "1\n",
      "401\n",
      "1\n",
      "401\n",
      "201\n",
      "1\n",
      "201\n",
      "401\n",
      "401\n",
      "201\n",
      "201\n",
      "201\n",
      "401\n",
      "1\n",
      "201\n",
      "1\n",
      "401\n",
      "401\n",
      "1\n",
      "401\n",
      "401\n",
      "401\n",
      "401\n",
      "201\n",
      "201\n",
      "401\n",
      "1\n",
      "201\n",
      "401\n",
      "401\n",
      "401\n",
      "1\n",
      "201\n",
      "201\n",
      "201\n",
      "401\n",
      "1\n",
      "201\n",
      "201\n",
      "1\n",
      "201\n",
      "401\n",
      "\n",
      "401\n",
      "1\n",
      "1\n",
      "201\n",
      "201\n",
      "201\n",
      "201\n",
      "401\n",
      "401\n",
      "1\n",
      "1\n",
      "401\n",
      "201\n",
      "401\n",
      "1\n",
      "201\n",
      "201\n",
      "201\n",
      "201\n",
      "401\n",
      "1\n",
      "201\n",
      "401\n",
      "201\n",
      "201\n",
      "401\n",
      "201\n",
      "401\n",
      "201\n",
      "401\n",
      "401\n",
      "1\n",
      "1\n",
      "1\n",
      "401\n",
      "1\n",
      "201\n",
      "201\n",
      "401\n",
      "201\n",
      "401\n",
      "1\n",
      "401\n",
      "201\n",
      "201\n",
      "1\n",
      "1\n",
      "401\n",
      "1\n",
      "401\n",
      "1\n",
      "201\n",
      "1\n",
      "201\n",
      "401\n",
      "1\n",
      "201\n",
      "401\n",
      "1\n",
      "401\n",
      "1\n",
      "201\n",
      "1\n",
      "201\n",
      "201\n",
      "201\n",
      "201\n",
      "1\n",
      "1\n",
      "1\n",
      "401\n",
      "201\n",
      "1\n",
      "201\n",
      "1\n",
      "1\n",
      "401\n",
      "201\n",
      "201\n",
      "401\n",
      "201\n",
      "1\n",
      "1\n",
      "1\n",
      "1\n",
      "401\n",
      "401\n",
      "401\n",
      "201\n",
      "1\n",
      "201\n",
      "401\n",
      "1\n",
      "201\n",
      "401\n",
      "401\n",
      "1\n",
      "201\n",
      "1\n",
      "401\n"
     ]
    }
   ],
   "source": [
    "import random\n",
    "\n",
    "for i in range(1000):\n",
    "    if(i%100 == 0):\n",
    "        print(end=\"\\n\")\n",
    "    #print(random.random(),end=\",\")\n",
    "    print(random.randrange(1,500,200))"
   ]
  },
  {
   "cell_type": "code",
   "execution_count": 25,
   "metadata": {},
   "outputs": [
    {
     "name": "stdout",
     "output_type": "stream",
     "text": [
      "lincolnlincoln\n"
     ]
    }
   ],
   "source": [
    "print(\"lincoln\"*2)"
   ]
  },
  {
   "cell_type": "code",
   "execution_count": 27,
   "metadata": {},
   "outputs": [
    {
     "name": "stdout",
     "output_type": "stream",
     "text": [
      "L\n"
     ]
    }
   ],
   "source": [
    "print(\"Lincoln\"[0])"
   ]
  },
  {
   "cell_type": "code",
   "execution_count": 28,
   "metadata": {},
   "outputs": [
    {
     "name": "stdout",
     "output_type": "stream",
     "text": [
      "n\n"
     ]
    }
   ],
   "source": [
    "print(\"Lincoln\"[-1])"
   ]
  },
  {
   "cell_type": "code",
   "execution_count": 36,
   "metadata": {},
   "outputs": [
    {
     "name": "stdout",
     "output_type": "stream",
     "text": [
      "inco\n",
      "s\n",
      "['L', 'i', 'n', 'c', 'o', 'l', 'n']\n",
      "['L', 's', 'l', 'n']\n"
     ]
    }
   ],
   "source": [
    "name = \"Lincoln\"\n",
    "\n",
    "n25 = name[1:5]\n",
    "\n",
    "print(n25)\n",
    "\n",
    "n25 = 's'\n",
    "\n",
    "print(n25)\n",
    "\n",
    "# name[1:5] = 's'\n",
    "\n",
    "nameArray = list(name)\n",
    "\n",
    "print(nameArray)\n",
    "\n",
    "nameArray[1:5] = 's'\n",
    "\n",
    "print(nameArray)"
   ]
  },
  {
   "cell_type": "code",
   "execution_count": 39,
   "metadata": {},
   "outputs": [
    {
     "name": "stdout",
     "output_type": "stream",
     "text": [
      "           1\n",
      "         123\n",
      "   112312321\n",
      "1321321321321\n",
      "1321321321321321321\n"
     ]
    }
   ],
   "source": [
    "print(\"%12ld\" % 1)\n",
    "print(\"%12ld\" % 123)\n",
    "print(\"%12ld\" % 112312321)\n",
    "print(\"%12ld\" % 1321321321321)\n",
    "print(\"%12ld\" % 1321321321321321321)"
   ]
  },
  {
   "cell_type": "code",
   "execution_count": 42,
   "metadata": {},
   "outputs": [
    {
     "name": "stdout",
     "output_type": "stream",
     "text": [
      "           1\n",
      "         123\n",
      "   112312321\n",
      "1321321321321\n",
      "1321321321321321321\n"
     ]
    }
   ],
   "source": [
    "print(\"%12ld\" % 1)\n",
    "print(\"%12ld\" % 123)\n",
    "print(\"%12ld\" % 112312321)\n",
    "print(\"%12ld\" % 1321321321321)\n",
    "print(\"%12ld\" % 1321321321321321321)"
   ]
  },
  {
   "cell_type": "code",
   "execution_count": 43,
   "metadata": {},
   "outputs": [],
   "source": [
    "hello = (1, 2, 3)  \n",
    "li = [1, \"2\", [3, 'a'], (1, 3), hello]  "
   ]
  },
  {
   "cell_type": "code",
   "execution_count": 44,
   "metadata": {},
   "outputs": [
    {
     "name": "stdout",
     "output_type": "stream",
     "text": [
      "(1, 3)\n",
      "[3, 'a']\n"
     ]
    }
   ],
   "source": [
    "li = [1, \"2\", [3, 'a'], (1, 3)]  \n",
    "print(li[3]) # (1, 3)  \n",
    "print(li[-2]) # [3, 'a']  "
   ]
  },
  {
   "cell_type": "code",
   "execution_count": null,
   "metadata": {},
   "outputs": [],
   "source": [
    "hello = (1, 2, 3)  \n",
    "li = [1, \"2\", [3, 'a'], (1, 3), hello]  \n",
    "print(li) # [1, '2', [3, 'a'], (1, 3), (1, 2, 3)]  \n",
    "print(li[1:2]) # ['2']  "
   ]
  },
  {
   "cell_type": "code",
   "execution_count": null,
   "metadata": {},
   "outputs": [],
   "source": [
    "print(li[:2]) # [1, '2']  \n",
    "print(li[:]) # [1, '2', [3, 'a'], (1, 3), (1, 2, 3)]  \n",
    "print(li[2:]) # [[3, 'a'], (1, 3), (1, 2, 3)]  "
   ]
  },
  {
   "cell_type": "code",
   "execution_count": null,
   "metadata": {},
   "outputs": [],
   "source": [
    "print(li[1:-1:2]) # ['2', (1, 3)]  "
   ]
  },
  {
   "cell_type": "code",
   "execution_count": null,
   "metadata": {},
   "outputs": [],
   "source": [
    "li = [0, 1, 2, 3, 4, 5, 6, 7, 8, 9, ['a', 'b', 'c']]  \n",
    "print(li[1:-1:2][1:3]) # (3, 5)  \n",
    "# 1 3 5 7 9 \n",
    "# 3 5\n",
    "\n"
   ]
  },
  {
   "cell_type": "code",
   "execution_count": null,
   "metadata": {},
   "outputs": [],
   "source": [
    "print(li[-1][1:3]) # ['b', 'c']  \n",
    "\n",
    "# a b c  \n",
    "\n",
    "print(li[-1][1]) # b  "
   ]
  },
  {
   "cell_type": "code",
   "execution_count": 47,
   "metadata": {},
   "outputs": [
    {
     "name": "stdout",
     "output_type": "stream",
     "text": [
      "[0, 1, 2, 3, 22, 5]\n",
      "[0, 1, 2, 33, 22, 5]\n",
      "[0, 5]\n"
     ]
    }
   ],
   "source": [
    "li = [0, 1, 2, 3, 4, 5]  \n",
    "li[len(li) - 2] = 22 # 修改 [0, 1, 2, 22, 4, 5]  \n",
    "\n",
    "# li[4] = 22\n",
    "print(li)\n",
    "\n",
    "\n",
    "li[3] = 33 # 修改 [0, 1, 2, 33, 4, 5]  \n",
    "print(li)\n",
    "\n",
    "# [0, 1, 2, 33, 22, 5]\n",
    "\n",
    "li[1:-1] = [9, 9] # 替换 [0, 9, 9, 5]  \n",
    "\n",
    "# 1 2 33 22 \n",
    "\n",
    "# 9,9 \n",
    "\n",
    "# 0 , 9 , 9 ,5 \n",
    "\n",
    "\n",
    "\n",
    "li[1:-1] = [] # 删除 [0, 5]  \n",
    "\n",
    "print(li)"
   ]
  },
  {
   "cell_type": "code",
   "execution_count": 48,
   "metadata": {},
   "outputs": [],
   "source": [
    "li = [0, 1, 2, 3, 4, 5]  \n",
    "del li[3] # [0, 1, 2, 4, 5]  \n",
    "del li[2:-1] # [0, 1, 5]  "
   ]
  },
  {
   "cell_type": "code",
   "execution_count": null,
   "metadata": {},
   "outputs": [],
   "source": [
    "[1, 2, 3] + [3, 4, 5] # [1, 2, 3, 3, 4, 5]  \n",
    "[1, 2, 3] * 2 # [1, 2, 3, 1, 2, 3]  \n",
    "3 in [1, 2, 3] # True  \n",
    "for x in [1, 2, 3]: print(x) # 1 2 3  "
   ]
  },
  {
   "cell_type": "code",
   "execution_count": 49,
   "metadata": {},
   "outputs": [
    {
     "name": "stdout",
     "output_type": "stream",
     "text": [
      "[(2, 4), (4, 16), (6, 36)]\n"
     ]
    }
   ],
   "source": [
    "vec = [2, 4, 6]  \n",
    "[(x, x**2) for x in vec]  \n",
    "# [(2, 4), (4, 16), (6, 36)]  \n",
    "\n",
    "ll = list()\n",
    "for x in vec:\n",
    "    zj = (x,x**2)\n",
    "    ll.append(zj)\n",
    "    \n",
    "print(ll)\n",
    "    "
   ]
  },
  {
   "cell_type": "code",
   "execution_count": null,
   "metadata": {},
   "outputs": [],
   "source": [
    "freshfruit = [' banana', ' loganberry ', 'passion fruit ']  \n",
    "[weapon.strip() for weapon in freshfruit]  \n",
    "# ['banana', 'loganberry', 'passion fruit']  "
   ]
  },
  {
   "cell_type": "code",
   "execution_count": null,
   "metadata": {},
   "outputs": [],
   "source": [
    "vec = [2, 4, 6]  \n",
    "[3*x for x in vec if x > 3]  \n",
    "# [12, 18]  \n",
    "vec1 = [2, 4, 6]  \n",
    "vec2 = [4, 3, -9]  \n",
    "[x*y for x in vec1 for y in vec2]  \n",
    "# [8, 6, -18, 16, 12, -36, 24, 18, -54]  \n",
    "[vec1[i]*vec2[i] for i in range(len(vec1))]  \n",
    "# [8, 12, -54]  \n"
   ]
  },
  {
   "cell_type": "code",
   "execution_count": 51,
   "metadata": {},
   "outputs": [
    {
     "name": "stdout",
     "output_type": "stream",
     "text": [
      "[[1, 4, 7], [2, 5, 8], [3, 6, 9]]\n",
      "[[1, 4, 7], [2, 5, 8], [3, 6, 9]]\n"
     ]
    }
   ],
   "source": [
    "matrix = [  \n",
    "[1, 2, 3],  \n",
    "[4, 5, 6],  \n",
    "[7, 8, 9],  \n",
    "]  \n",
    "new_matrix = [[row[i] for row in matrix] for i in range(len(matrix[0]))]  \n",
    "# i = 0 , i = 1, i = 2\n",
    "\n",
    "print(new_matrix)  \n",
    "\n",
    "matrix2 = []\n",
    "for i in range(len(matrix[0])):\n",
    "    newRow = []           \n",
    "    for row in matrix:\n",
    "       newRow.append(row[i])    \n",
    "    matrix2.append(newRow)\n",
    "print(matrix2)               \n",
    "# [[1, 4, 7], [2, 5, 8], [3, 6, 9]] "
   ]
  },
  {
   "cell_type": "code",
   "execution_count": 52,
   "metadata": {},
   "outputs": [
    {
     "data": {
      "text/plain": [
       "array([[1, 4, 7],\n",
       "       [2, 5, 8],\n",
       "       [3, 6, 9]])"
      ]
     },
     "execution_count": 52,
     "metadata": {},
     "output_type": "execute_result"
    }
   ],
   "source": [
    "import numpy as np\n",
    "\n",
    "matrix = [  \n",
    "[1, 2, 3],  \n",
    "[4, 5, 6],  \n",
    "[7, 8, 9],  \n",
    "]  \n",
    "\n",
    "nmatrix = np.asarray(matrix)\n",
    "nmatrix.T"
   ]
  },
  {
   "cell_type": "code",
   "execution_count": 53,
   "metadata": {},
   "outputs": [
    {
     "data": {
      "text/plain": [
       "array([[1, 4, 7],\n",
       "       [2, 5, 8],\n",
       "       [3, 6, 9]])"
      ]
     },
     "execution_count": 53,
     "metadata": {},
     "output_type": "execute_result"
    }
   ],
   "source": [
    "nmatrix.transpose(1,0)"
   ]
  },
  {
   "cell_type": "code",
   "execution_count": 56,
   "metadata": {},
   "outputs": [
    {
     "name": "stdout",
     "output_type": "stream",
     "text": [
      "1\n",
      "[1, 2, 3]\n",
      "{'name': 'hello'}\n"
     ]
    }
   ],
   "source": [
    "dis = {'a': 1, 'b': [1, 2, 3], 9: {'name': 'hello'}}  \n",
    "\n",
    "for key in dis:\n",
    "    print(dis[key])"
   ]
  },
  {
   "cell_type": "code",
   "execution_count": 68,
   "metadata": {},
   "outputs": [
    {
     "name": "stdout",
     "output_type": "stream",
     "text": [
      "a 1\n",
      "b [1, 2, 3]\n",
      "9 {'name': 'hello'}\n"
     ]
    }
   ],
   "source": [
    "for k,v in dis.items():\n",
    "    print(k,v)"
   ]
  },
  {
   "cell_type": "code",
   "execution_count": 71,
   "metadata": {},
   "outputs": [
    {
     "name": "stdout",
     "output_type": "stream",
     "text": [
      "[[0, 0, 0, 0, 0], [1, 1, 1, 1, 1], [2, 2, 2, 2, 2], [3, 3, 3, 3, 3], [4, 4, 4, 4, 4]]\n",
      "[[0 0 0 0 0]\n",
      " [1 1 1 1 1]\n",
      " [2 2 2 2 2]\n",
      " [3 3 3 3 3]\n",
      " [4 4 4 4 4]]\n",
      "[[1 1 1]\n",
      " [2 2 2]\n",
      " [3 3 3]\n",
      " [4 4 4]]\n"
     ]
    }
   ],
   "source": [
    "matrix = []\n",
    "\n",
    "for i in range(5):\n",
    "    row = []\n",
    "    for j in range(5):\n",
    "        row.append(i)\n",
    "    matrix.append(row)\n",
    "    \n",
    "print(matrix)\n",
    "        \n",
    "# print(matrix[1:][2:])\n",
    "\n",
    "nm = np.asarray(matrix)\n",
    "\n",
    "print(nm)\n",
    "\n",
    "print(nm[1:,2:])\n",
    "        "
   ]
  },
  {
   "cell_type": "code",
   "execution_count": 72,
   "metadata": {},
   "outputs": [
    {
     "name": "stdout",
     "output_type": "stream",
     "text": [
      "1\n",
      "2\n",
      "3\n",
      "4\n"
     ]
    },
    {
     "ename": "SystemExit",
     "evalue": "",
     "output_type": "error",
     "traceback": [
      "An exception has occurred, use %tb to see the full traceback.\n",
      "\u001b[0;31mSystemExit\u001b[0m\n"
     ]
    },
    {
     "name": "stderr",
     "output_type": "stream",
     "text": [
      "/Users/lw/anaconda3/lib/python3.6/site-packages/IPython/core/interactiveshell.py:3275: UserWarning: To exit: use 'exit', 'quit', or Ctrl-D.\n",
      "  warn(\"To exit: use 'exit', 'quit', or Ctrl-D.\", stacklevel=1)\n"
     ]
    }
   ],
   "source": [
    "import sys  \n",
    "li = [1,2,3,4]  \n",
    "it = iter(li)  \n",
    "while True:  \n",
    "    try:  \n",
    "        print (next(it))  \n",
    "    except StopIteration:  \n",
    "        sys.exit()  "
   ]
  },
  {
   "cell_type": "code",
   "execution_count": 74,
   "metadata": {},
   "outputs": [
    {
     "ename": "SyntaxError",
     "evalue": "invalid syntax (<ipython-input-74-db4a981513f8>, line 7)",
     "output_type": "error",
     "traceback": [
      "\u001b[0;36m  File \u001b[0;32m\"<ipython-input-74-db4a981513f8>\"\u001b[0;36m, line \u001b[0;32m7\u001b[0m\n\u001b[0;31m    except StopIteration\u001b[0m\n\u001b[0m                        ^\u001b[0m\n\u001b[0;31mSyntaxError\u001b[0m\u001b[0;31m:\u001b[0m invalid syntax\n"
     ]
    }
   ],
   "source": [
    "import sys  \n",
    "li = [1,2,3,4]  \n",
    "it = iter(li)  \n",
    "while True:  \n",
    "    try:\n",
    "        print (next(it))  \n",
    "    except StopIteration:\n",
    "        sys.exit()\n"
   ]
  },
  {
   "cell_type": "code",
   "execution_count": 80,
   "metadata": {},
   "outputs": [
    {
     "name": "stdout",
     "output_type": "stream",
     "text": [
      "0\n",
      "1\n"
     ]
    }
   ],
   "source": [
    "import sys  \n",
    "def fibonacci(n): # 生成器函数 - 斐波那契  \n",
    "    a, b, counter = 0, 1, 0  \n",
    "    while True:  \n",
    "        if (counter > n):   \n",
    "             return  \n",
    "        yield a  \n",
    "        a, b = b, a + b  \n",
    "        counter += 1  \n",
    "\n",
    "f = fibonacci(10) # f 是一个迭代器，由生成器返回生成 \n",
    "print(next(f))\n",
    "print(next(f))"
   ]
  },
  {
   "cell_type": "code",
   "execution_count": 77,
   "metadata": {},
   "outputs": [
    {
     "name": "stdout",
     "output_type": "stream",
     "text": [
      "0\n",
      "1\n",
      "1\n",
      "2\n",
      "3\n",
      "5\n",
      "8\n",
      "13\n",
      "21\n",
      "34\n",
      "55\n"
     ]
    },
    {
     "ename": "SystemExit",
     "evalue": "",
     "output_type": "error",
     "traceback": [
      "An exception has occurred, use %tb to see the full traceback.\n",
      "\u001b[0;31mSystemExit\u001b[0m\n"
     ]
    },
    {
     "name": "stderr",
     "output_type": "stream",
     "text": [
      "/Users/lw/anaconda3/lib/python3.6/site-packages/IPython/core/interactiveshell.py:3275: UserWarning: To exit: use 'exit', 'quit', or Ctrl-D.\n",
      "  warn(\"To exit: use 'exit', 'quit', or Ctrl-D.\", stacklevel=1)\n"
     ]
    }
   ],
   "source": [
    "while True:  \n",
    "    try:  \n",
    "        print(next(f))  \n",
    "    except StopIteration:  \n",
    "        sys.exit()  "
   ]
  },
  {
   "cell_type": "code",
   "execution_count": null,
   "metadata": {},
   "outputs": [],
   "source": [
    "\n",
    "\n",
    "\n",
    "a = 10 \n",
    "\n",
    "b = 20 \n",
    "\n",
    "\n",
    "c = a\n",
    "a = b\n",
    "b = c\n",
    "\n",
    "a,b = b,a "
   ]
  },
  {
   "cell_type": "code",
   "execution_count": 84,
   "metadata": {},
   "outputs": [
    {
     "data": {
      "text/plain": [
       "2"
      ]
     },
     "execution_count": 84,
     "metadata": {},
     "output_type": "execute_result"
    }
   ],
   "source": [
    "def  addFunction(a,b):\n",
    "    return a+b\n",
    "addFunction(1,1)\n"
   ]
  },
  {
   "cell_type": "code",
   "execution_count": 87,
   "metadata": {},
   "outputs": [
    {
     "data": {
      "text/plain": [
       "3"
      ]
     },
     "execution_count": 87,
     "metadata": {},
     "output_type": "execute_result"
    }
   ],
   "source": [
    "import Lincoln as lk\n",
    "\n",
    "lk.deductFunction(10,7)"
   ]
  },
  {
   "cell_type": "code",
   "execution_count": 88,
   "metadata": {},
   "outputs": [
    {
     "name": "stdout",
     "output_type": "stream",
     "text": [
      "Lincoln\n",
      "Awesome\n"
     ]
    }
   ],
   "source": [
    "print(\"Lincoln\")\n",
    "print(\"Awesome\")"
   ]
  },
  {
   "cell_type": "code",
   "execution_count": 89,
   "metadata": {},
   "outputs": [
    {
     "name": "stdout",
     "output_type": "stream",
     "text": [
      "LincolnAwesome\n"
     ]
    }
   ],
   "source": [
    "print(\"Lincoln\",end='')\n",
    "print(\"Awesome\")"
   ]
  },
  {
   "cell_type": "code",
   "execution_count": null,
   "metadata": {},
   "outputs": [],
   "source": [
    "g = lambda x:x+1"
   ]
  },
  {
   "cell_type": "code",
   "execution_count": null,
   "metadata": {},
   "outputs": [],
   "source": [
    "def nolambda(x):\n",
    "    return x+1"
   ]
  },
  {
   "cell_type": "code",
   "execution_count": 95,
   "metadata": {},
   "outputs": [
    {
     "ename": "TypeError",
     "evalue": "must be str, not datetime.datetime",
     "output_type": "error",
     "traceback": [
      "\u001b[0;31m---------------------------------------------------------------------------\u001b[0m",
      "\u001b[0;31mTypeError\u001b[0m                                 Traceback (most recent call last)",
      "\u001b[0;32m<ipython-input-95-a265d890ad69>\u001b[0m in \u001b[0;36m<module>\u001b[0;34m\u001b[0m\n\u001b[1;32m      1\u001b[0m \u001b[0;32mimport\u001b[0m \u001b[0mlprint\u001b[0m \u001b[0;32mas\u001b[0m \u001b[0mlp\u001b[0m\u001b[0;34m\u001b[0m\u001b[0;34m\u001b[0m\u001b[0m\n\u001b[1;32m      2\u001b[0m \u001b[0;34m\u001b[0m\u001b[0m\n\u001b[0;32m----> 3\u001b[0;31m \u001b[0mlp\u001b[0m\u001b[0;34m.\u001b[0m\u001b[0mlprint\u001b[0m\u001b[0;34m(\u001b[0m\u001b[0;34m\"Lincoln\"\u001b[0m\u001b[0;34m)\u001b[0m\u001b[0;34m\u001b[0m\u001b[0;34m\u001b[0m\u001b[0m\n\u001b[0m",
      "\u001b[0;32m~/WorkSpace/GiteePython/Untitled Folder/lprint.py\u001b[0m in \u001b[0;36mlprint\u001b[0;34m(msg, *tuple)\u001b[0m\n\u001b[1;32m      3\u001b[0m \u001b[0;32mdef\u001b[0m \u001b[0mlprint\u001b[0m\u001b[0;34m(\u001b[0m\u001b[0mmsg\u001b[0m\u001b[0;34m,\u001b[0m\u001b[0;34m*\u001b[0m\u001b[0mtuple\u001b[0m\u001b[0;34m)\u001b[0m\u001b[0;34m:\u001b[0m\u001b[0;34m\u001b[0m\u001b[0;34m\u001b[0m\u001b[0m\n\u001b[1;32m      4\u001b[0m         \u001b[0mnow\u001b[0m \u001b[0;34m=\u001b[0m \u001b[0mdatetime\u001b[0m\u001b[0;34m.\u001b[0m\u001b[0mnow\u001b[0m\u001b[0;34m(\u001b[0m\u001b[0;34m)\u001b[0m\u001b[0;34m\u001b[0m\u001b[0;34m\u001b[0m\u001b[0m\n\u001b[0;32m----> 5\u001b[0;31m \u001b[0;34m\u001b[0m\u001b[0m\n\u001b[0m\u001b[1;32m      6\u001b[0m         \u001b[0mprint\u001b[0m\u001b[0;34m(\u001b[0m\u001b[0;34m\"时间\"\u001b[0m\u001b[0;34m+\u001b[0m\u001b[0mnow\u001b[0m\u001b[0;34m.\u001b[0m\u001b[0mstrftime\u001b[0m\u001b[0;34m(\u001b[0m\u001b[0;34m'%Y-%m-%d'\u001b[0m\u001b[0;34m)\u001b[0m\u001b[0;34m)\u001b[0m\u001b[0;34m\u001b[0m\u001b[0;34m\u001b[0m\u001b[0m\n\u001b[1;32m      7\u001b[0m         \u001b[0mprint\u001b[0m\u001b[0;34m(\u001b[0m\u001b[0mmsg\u001b[0m\u001b[0;34m)\u001b[0m\u001b[0;34m\u001b[0m\u001b[0;34m\u001b[0m\u001b[0m\n",
      "\u001b[0;31mTypeError\u001b[0m: must be str, not datetime.datetime"
     ]
    }
   ],
   "source": [
    "import lprint as lp\n",
    "\n",
    "lp.lprint(\"Lincoln\")"
   ]
  },
  {
   "cell_type": "code",
   "execution_count": 97,
   "metadata": {},
   "outputs": [
    {
     "ename": "TypeError",
     "evalue": "must be str, not datetime.datetime",
     "output_type": "error",
     "traceback": [
      "\u001b[0;31m---------------------------------------------------------------------------\u001b[0m",
      "\u001b[0;31mTypeError\u001b[0m                                 Traceback (most recent call last)",
      "\u001b[0;32m<ipython-input-97-a265d890ad69>\u001b[0m in \u001b[0;36m<module>\u001b[0;34m\u001b[0m\n\u001b[1;32m      1\u001b[0m \u001b[0;32mimport\u001b[0m \u001b[0mlprint\u001b[0m \u001b[0;32mas\u001b[0m \u001b[0mlp\u001b[0m\u001b[0;34m\u001b[0m\u001b[0;34m\u001b[0m\u001b[0m\n\u001b[1;32m      2\u001b[0m \u001b[0;34m\u001b[0m\u001b[0m\n\u001b[0;32m----> 3\u001b[0;31m \u001b[0mlp\u001b[0m\u001b[0;34m.\u001b[0m\u001b[0mlprint\u001b[0m\u001b[0;34m(\u001b[0m\u001b[0;34m\"Lincoln\"\u001b[0m\u001b[0;34m)\u001b[0m\u001b[0;34m\u001b[0m\u001b[0;34m\u001b[0m\u001b[0m\n\u001b[0m",
      "\u001b[0;32m~/WorkSpace/GiteePython/Untitled Folder/lprint.py\u001b[0m in \u001b[0;36mlprint\u001b[0;34m(msg, *tuple)\u001b[0m\n\u001b[1;32m      3\u001b[0m \u001b[0;32mdef\u001b[0m \u001b[0mlprint\u001b[0m\u001b[0;34m(\u001b[0m\u001b[0mmsg\u001b[0m\u001b[0;34m,\u001b[0m\u001b[0;34m*\u001b[0m\u001b[0mtuple\u001b[0m\u001b[0;34m)\u001b[0m\u001b[0;34m:\u001b[0m\u001b[0;34m\u001b[0m\u001b[0;34m\u001b[0m\u001b[0m\n\u001b[1;32m      4\u001b[0m \u001b[0;34m\u001b[0m\u001b[0m\n\u001b[0;32m----> 5\u001b[0;31m         \u001b[0mprint\u001b[0m\u001b[0;34m(\u001b[0m\u001b[0mmsg\u001b[0m\u001b[0;34m)\u001b[0m\u001b[0;34m\u001b[0m\u001b[0;34m\u001b[0m\u001b[0m\n\u001b[0m\u001b[1;32m      6\u001b[0m         \u001b[0;32mif\u001b[0m \u001b[0mlen\u001b[0m\u001b[0;34m(\u001b[0m\u001b[0mtuple\u001b[0m\u001b[0;34m)\u001b[0m\u001b[0;34m>\u001b[0m\u001b[0;36m1\u001b[0m\u001b[0;34m:\u001b[0m\u001b[0;34m\u001b[0m\u001b[0;34m\u001b[0m\u001b[0m\n\u001b[1;32m      7\u001b[0m                 \u001b[0;32mfor\u001b[0m \u001b[0mobj\u001b[0m \u001b[0;32min\u001b[0m \u001b[0mtuple\u001b[0m\u001b[0;34m:\u001b[0m\u001b[0;34m\u001b[0m\u001b[0;34m\u001b[0m\u001b[0m\n",
      "\u001b[0;31mTypeError\u001b[0m: must be str, not datetime.datetime"
     ]
    }
   ],
   "source": [
    "import lprint as lp\n",
    "\n",
    "lp.lprint(\"Lincoln\")"
   ]
  },
  {
   "cell_type": "code",
   "execution_count": 99,
   "metadata": {},
   "outputs": [
    {
     "name": "stdout",
     "output_type": "stream",
     "text": [
      "Lincoln\n",
      "结束\n"
     ]
    }
   ],
   "source": [
    "import lprint2 as lpp\n",
    "\n",
    "lpp.lprint(\"Lincoln\")"
   ]
  },
  {
   "cell_type": "code",
   "execution_count": 100,
   "metadata": {},
   "outputs": [
    {
     "name": "stdout",
     "output_type": "stream",
     "text": [
      "Lincoln\n",
      "1\n",
      "2\n",
      "3\n",
      "4\n",
      "5\n",
      "6\n",
      "7\n",
      "8\n",
      "结束\n"
     ]
    }
   ],
   "source": [
    "lpp.lprint(\"Lincoln\",1,2,3,4,5,6,7,8)"
   ]
  },
  {
   "cell_type": "code",
   "execution_count": null,
   "metadata": {},
   "outputs": [],
   "source": [
    "from lincoln3 import function1 "
   ]
  },
  {
   "cell_type": "code",
   "execution_count": 102,
   "metadata": {},
   "outputs": [
    {
     "name": "stdout",
     "output_type": "stream",
     "text": [
      "文件名称: data.log\n",
      "文件编码: utf-8\n",
      "文件打开模式: w+\n",
      "文件是否可读: True\n",
      "文件是否可写: True\n",
      "此时文件指针位置为: 0\n",
      "写入文件 5 个字符\n",
      " 15\n",
      "第一行内容 15\n",
      " 39\n",
      "第一行内容第二次写\n",
      "['第一行内容第二次写入的内容']\n",
      "第一行内容第二次写入的内容"
     ]
    }
   ],
   "source": [
    "filename = 'data.log'  \n",
    "# 打开文件(a+ 追加读写模式)  \n",
    "# 用 with 关键字的方式打开文件，会自动关闭文件资源  \n",
    "with open(filename, 'w+', encoding='utf-8') as file:  \n",
    "    print('文件名称: {}'.format(file.name))  \n",
    "    print('文件编码: {}'.format(file.encoding))  \n",
    "    print('文件打开模式: {}'.format(file.mode))  \n",
    "    print('文件是否可读: {}'.format(file.readable()))  \n",
    "    print('文件是否可写: {}'.format(file.writable()))  \n",
    "    print('此时文件指针位置为: {}'.format(file.tell()))  \n",
    "    # 写入内容  \n",
    "    num = file.write(\"第一行内容\")  \n",
    "    print('写入文件 {} 个字符'.format(num))  \n",
    "    # 文件指针在文件尾部，故无内容  \n",
    "    print(file.readline(), file.tell())  \n",
    "    # 改变文件指针到文件头部  \n",
    "    file.seek(0)  \n",
    "    # 改变文件指针后，读取到第一行内容  \n",
    "    print(file.readline(), file.tell())  \n",
    "    # 但文件指针的改变，却不会影响到写入的位置  \n",
    "    file.write('第二次写入的内容')  \n",
    "    # 文件指针又回到了文件尾  \n",
    "    print(file.readline(), file.tell())  \n",
    "    # file.read() 从当前文件指针位置读取指定长度的字符  \n",
    "    file.seek(0)  \n",
    "    print(file.read(9))  \n",
    "    # 按行分割文件，返回字符串列表  \n",
    "    file.seek(0)  \n",
    "    print(file.readlines())  \n",
    "    # 迭代文件对象，一行一个元素  \n",
    "    file.seek(0)  \n",
    "    for line in file:  \n",
    "        print(line, end='')  \n",
    "    # 关闭文件资源  \n",
    "    if not file.closed:  \n",
    "        file.close()  \n"
   ]
  },
  {
   "cell_type": "code",
   "execution_count": null,
   "metadata": {},
   "outputs": [],
   "source": [
    "filename = 'data.log'  \n",
    "# 打开文件(a+ 追加读写模式)  \n",
    "# 用 with 关键字的方式打开文件，会自动关闭文件资源  \n",
    "with open(filename, 'w+', encoding='utf-8') as file:    \n",
    "    # 写入内容  \n",
    "    num = file.write(\"第一行内容\")   \n",
    "    file.write('第二次写入的内容')    \n",
    "    for line in file:  \n",
    "        print(line, end='')  \n",
    "    # 关闭文件资源  \n",
    "    if not file.closed:  \n",
    "        file.close() "
   ]
  },
  {
   "cell_type": "code",
   "execution_count": 103,
   "metadata": {},
   "outputs": [],
   "source": [
    "filename = 'datas.log'  \n",
    "# 打开文件(a+ 追加读写模式)  \n",
    "# 用 with 关键字的方式打开文件，会自动关闭文件资源  \n",
    "with open(filename, 'w+', encoding='utf-8') as file:    \n",
    "    for i in range(10):\n",
    "        for j in range(20):\n",
    "            file.write(str(i*j)+\",\")\n",
    "    # 关闭文件资源  \n",
    "    if not file.closed:  \n",
    "        file.close() "
   ]
  },
  {
   "cell_type": "code",
   "execution_count": 106,
   "metadata": {},
   "outputs": [],
   "source": [
    "filename = 'spider.csv'  \n",
    "# 打开文件(a+ 追加读写模式)  \n",
    "# 用 with 关键字的方式打开文件，会自动关闭文件资源  \n",
    "with open(filename, 'w+', encoding='utf-8') as file:    \n",
    "    header = \"#,Title,Date,ReadCount,\\n\"\n",
    "    file.writelines(header)\n",
    "    for i in range(100):\n",
    "        row = str(i)+\",\"+\"Title\"+str(i)+\",\"+\"Date\"+str(i)+\",\"+\"RC\"+str(i)+\",\\n\"\n",
    "        file.writelines(row)\n",
    "    # 关闭文件资源  \n",
    "    if not file.closed:  \n",
    "        file.close() "
   ]
  },
  {
   "cell_type": "markdown",
   "metadata": {},
   "source": [
    "![](http://ww3.sinaimg.cn/large/006y8mN6ly1g6cwu6cp3cj30m80gtq4h.jpg)"
   ]
  },
  {
   "cell_type": "code",
   "execution_count": 109,
   "metadata": {},
   "outputs": [],
   "source": [
    "import pickle\n",
    "\n",
    "a_dict = {'da': 111, 2: [23,1,4], '23': {1:2,'d':'sad'}}\n",
    "\n",
    "# pickle a variable to a file\n",
    "file = open('pickle_example.pickle', 'wb')\n",
    "pickle.dump(a_dict, file)\n",
    "file.close()"
   ]
  },
  {
   "cell_type": "code",
   "execution_count": 110,
   "metadata": {},
   "outputs": [
    {
     "name": "stdout",
     "output_type": "stream",
     "text": [
      "{'da': 111, 2: [23, 1, 4], '23': {1: 2, 'd': 'sad'}}\n"
     ]
    }
   ],
   "source": [
    "# reload a file to a variable\n",
    "with open('pickle_example.pickle', 'rb') as file:\n",
    "    a_dict1 =pickle.load(file)\n",
    "\n",
    "print(a_dict1)"
   ]
  },
  {
   "cell_type": "code",
   "execution_count": 111,
   "metadata": {},
   "outputs": [
    {
     "name": "stdout",
     "output_type": "stream",
     "text": [
      "3\n"
     ]
    }
   ],
   "source": [
    "s = ' sdghHhf '\n",
    "s1=s.strip()\n",
    "s4=s1.find('h')\n",
    "print(s4)"
   ]
  },
  {
   "cell_type": "code",
   "execution_count": 113,
   "metadata": {},
   "outputs": [
    {
     "name": "stdout",
     "output_type": "stream",
     "text": [
      "hHhf\n"
     ]
    }
   ],
   "source": [
    "s = ' sdghHhf '\n",
    "s1=s.strip()\n",
    "s4=s1.index('h')\n",
    "print(s1[s4:])"
   ]
  },
  {
   "cell_type": "code",
   "execution_count": null,
   "metadata": {},
   "outputs": [],
   "source": [
    "s1 = '12312321'\n",
    "s1."
   ]
  }
 ],
 "metadata": {
  "celltoolbar": "Tags",
  "kernelspec": {
   "display_name": "Python 3",
   "language": "python",
   "name": "python3"
  },
  "language_info": {
   "codemirror_mode": {
    "name": "ipython",
    "version": 3
   },
   "file_extension": ".py",
   "mimetype": "text/x-python",
   "name": "python",
   "nbconvert_exporter": "python",
   "pygments_lexer": "ipython3",
   "version": "3.6.8"
  },
  "varInspector": {
   "cols": {
    "lenName": 16,
    "lenType": 16,
    "lenVar": 40
   },
   "kernels_config": {
    "python": {
     "delete_cmd_postfix": "",
     "delete_cmd_prefix": "del ",
     "library": "var_list.py",
     "varRefreshCmd": "print(var_dic_list())"
    },
    "r": {
     "delete_cmd_postfix": ") ",
     "delete_cmd_prefix": "rm(",
     "library": "var_list.r",
     "varRefreshCmd": "cat(var_dic_list()) "
    }
   },
   "types_to_exclude": [
    "module",
    "function",
    "builtin_function_or_method",
    "instance",
    "_Feature"
   ],
   "window_display": false
  }
 },
 "nbformat": 4,
 "nbformat_minor": 2
}
