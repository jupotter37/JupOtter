{
  "nbformat": 4,
  "nbformat_minor": 0,
  "metadata": {
    "colab": {
      "provenance": []
    },
    "kernelspec": {
      "name": "python3",
      "display_name": "Python 3"
    },
    "language_info": {
      "name": "python"
    }
  },
  "cells": [
    {
      "cell_type": "markdown",
      "source": [
        "<p><img src=\"https://i.postimg.cc/cCjTSn8r/ss-cumf.png\" alt=\"\" width=\"1280\" height=\"300\" /></p>"
      ],
      "metadata": {
        "id": "NNxfGh-BdjWV"
      }
    },
    {
      "cell_type": "markdown",
      "source": [
        "# **FUNCIONES**"
      ],
      "metadata": {
        "id": "U3TfIH3gfPMo"
      }
    },
    {
      "cell_type": "markdown",
      "source": [
        "## **ARGS**\n",
        "\n",
        "`* --> tupla`\n",
        "\n",
        "Definir argumentos dinámicos"
      ],
      "metadata": {
        "id": "C9SEq6sWfXb8"
      }
    },
    {
      "cell_type": "code",
      "source": [
        "def suma(*mimamamemima):\n",
        "  print(type(mimamamemima))\n",
        "  print(mimamamemima)\n",
        "  print(mimamamemima[::-1])\n",
        "\n",
        "suma(1,2,3,4,5,6,7,8,9)"
      ],
      "metadata": {
        "colab": {
          "base_uri": "https://localhost:8080/"
        },
        "id": "GCfPB2ozfWdY",
        "outputId": "4912569e-d30d-4b2e-8396-a3d4167eabef"
      },
      "execution_count": 37,
      "outputs": [
        {
          "output_type": "stream",
          "name": "stdout",
          "text": [
            "<class 'tuple'>\n",
            "(1, 2, 3, 4, 5, 6, 7, 8, 9)\n",
            "(9, 8, 7, 6, 5, 4, 3, 2, 1)\n"
          ]
        }
      ]
    },
    {
      "cell_type": "markdown",
      "source": [
        "## **KARGS**\n",
        "\n",
        "`** --> diccionario`\n",
        "\n",
        "Definir argumentos dinámicos"
      ],
      "metadata": {
        "id": "7PQvnVQegvwX"
      }
    },
    {
      "cell_type": "code",
      "execution_count": 4,
      "metadata": {
        "colab": {
          "base_uri": "https://localhost:8080/"
        },
        "id": "3clIu9Rcdiyu",
        "outputId": "af54b591-9e5c-42cc-9bad-afe4eb517b63"
      },
      "outputs": [
        {
          "output_type": "stream",
          "name": "stdout",
          "text": [
            "<class 'dict'>\n",
            "{'nombre': 'Pepito', 'version': 1.0, 'cloud_provider': 'aws', 'sparkmaster': 'ss'}\n",
            "dict_keys(['nombre', 'version', 'cloud_provider', 'sparkmaster'])\n"
          ]
        }
      ],
      "source": [
        "def set_config(**data): # definir config\n",
        "  print(type(data))\n",
        "  print(data)\n",
        "  print(data.keys())\n",
        "\n",
        "set_config(nombre=\"Pepito\", version=1.0, cloud_provider=\"aws\", sparkmaster =\"ss\")"
      ]
    },
    {
      "cell_type": "code",
      "source": [
        "spark.master            spark://5.6.7.8:7077\n",
        "spark.executor.memory   4g\n",
        "spark.eventLog.enabled  true\n",
        "spark.serializer        org.apache.spark.serializer.KryoSerializer"
      ],
      "metadata": {
        "id": "9ectKnFli5C8",
        "colab": {
          "base_uri": "https://localhost:8080/",
          "height": 141
        },
        "outputId": "ab8be261-6ec2-4dca-84f3-9aaca46f010e"
      },
      "execution_count": 5,
      "outputs": [
        {
          "output_type": "error",
          "ename": "SyntaxError",
          "evalue": "ignored",
          "traceback": [
            "\u001b[0;36m  File \u001b[0;32m\"<ipython-input-5-01ecf4c89c7e>\"\u001b[0;36m, line \u001b[0;32m2\u001b[0m\n\u001b[0;31m    spark.executor.memory   4g\u001b[0m\n\u001b[0m                            ^\u001b[0m\n\u001b[0;31mSyntaxError\u001b[0m\u001b[0;31m:\u001b[0m invalid decimal literal\n"
          ]
        }
      ]
    },
    {
      "cell_type": "code",
      "source": [
        "def set_config(**data): # definir config\n",
        "  params = []\n",
        "  for key, value in data.items():\n",
        "    params.append(\"{}={}\".format(key.replace(\"_\", \".\"), value))\n",
        "  return \"\\n\".join(params)\n",
        "\n",
        "resultado = set_config(\n",
        "  spark_master='spark://5.6.7.8:7077',\n",
        "  spark_executor_memory='4g',\n",
        "  spark_eventLog_enabled='true',\n",
        "  spark_serializer ='org.apache.spark.serializer.KryoSerializer',\n",
        ")\n",
        "\n",
        "print(resultado)"
      ],
      "metadata": {
        "colab": {
          "base_uri": "https://localhost:8080/"
        },
        "id": "zbvTt_HOjBBK",
        "outputId": "16f3884a-2fa3-4f46-d726-576b93854ca4"
      },
      "execution_count": 7,
      "outputs": [
        {
          "output_type": "stream",
          "name": "stdout",
          "text": [
            "spark.master=spark://5.6.7.8:7077\n",
            "spark.executor.memory=4g\n",
            "spark.eventLog.enabled=true\n",
            "spark.serializer=org.apache.spark.serializer.KryoSerializer\n"
          ]
        }
      ]
    },
    {
      "cell_type": "markdown",
      "source": [
        "## **ARGUMENTOS OPCIONALES**"
      ],
      "metadata": {
        "id": "iHJDY99WkWPq"
      }
    },
    {
      "cell_type": "code",
      "source": [
        "def opciones(nombre_app: str = \"por defecto\", version_app:float = 1.0):\n",
        "  print(f\"nombre_app : {nombre_app}\")\n",
        "  print(f\"version_app : {version_app}\")"
      ],
      "metadata": {
        "id": "GxUJOPlokYXx"
      },
      "execution_count": 8,
      "outputs": []
    },
    {
      "cell_type": "markdown",
      "source": [
        "### **SIN ARGUMENTOS**"
      ],
      "metadata": {
        "id": "dCbQ1mE5ljyB"
      }
    },
    {
      "cell_type": "code",
      "source": [
        "opciones()"
      ],
      "metadata": {
        "colab": {
          "base_uri": "https://localhost:8080/"
        },
        "id": "MZGawDhvllK3",
        "outputId": "aaa623ee-212a-4c09-f63e-18fb5c8498e7"
      },
      "execution_count": 9,
      "outputs": [
        {
          "output_type": "stream",
          "name": "stdout",
          "text": [
            "nombre_app : por defecto\n",
            "version_app : 1.0\n"
          ]
        }
      ]
    },
    {
      "cell_type": "markdown",
      "source": [
        "### **POSICIONALMENTE**\n",
        "\n",
        "Nota: cuando trabajen posicionalmente, tener CUIDADO con el orden de los argumentos"
      ],
      "metadata": {
        "id": "uvm5RNh0ljvV"
      }
    },
    {
      "cell_type": "code",
      "source": [
        "opciones(\"yoda\")"
      ],
      "metadata": {
        "colab": {
          "base_uri": "https://localhost:8080/"
        },
        "id": "Tdudp5ZOl-mg",
        "outputId": "019cc3a2-558b-46ff-e129-d508698553fc"
      },
      "execution_count": 10,
      "outputs": [
        {
          "output_type": "stream",
          "name": "stdout",
          "text": [
            "nombre_app : yoda\n",
            "version_app : 1.0\n"
          ]
        }
      ]
    },
    {
      "cell_type": "code",
      "source": [
        "opciones(\"yoda\", 1.5)"
      ],
      "metadata": {
        "colab": {
          "base_uri": "https://localhost:8080/"
        },
        "id": "f6t0VordmHZN",
        "outputId": "3c9c990e-281e-4020-8a91-2fd6b4d06b51"
      },
      "execution_count": 11,
      "outputs": [
        {
          "output_type": "stream",
          "name": "stdout",
          "text": [
            "nombre_app : yoda\n",
            "version_app : 1.5\n"
          ]
        }
      ]
    },
    {
      "cell_type": "code",
      "source": [
        "opciones(1.5, \"yoda\")"
      ],
      "metadata": {
        "colab": {
          "base_uri": "https://localhost:8080/"
        },
        "id": "m5JOJQOImMWn",
        "outputId": "23659fc5-4141-466b-eb2a-c0e6b61bd762"
      },
      "execution_count": 12,
      "outputs": [
        {
          "output_type": "stream",
          "name": "stdout",
          "text": [
            "nombre_app : 1.5\n",
            "version_app : yoda\n"
          ]
        }
      ]
    },
    {
      "cell_type": "markdown",
      "source": [
        "### **LLAMADO POR ARGUMENTO**\n",
        "\n",
        "\n",
        "\n",
        "```python\n",
        "def opciones(nombre_app: str = \"por defecto\", version_app:float = 1.0):\n",
        "  pass\n",
        "```\n",
        "\n"
      ],
      "metadata": {
        "id": "OFdwlaZKljtD"
      }
    },
    {
      "cell_type": "code",
      "source": [
        "opciones(version_app=0.32)"
      ],
      "metadata": {
        "colab": {
          "base_uri": "https://localhost:8080/"
        },
        "id": "Bs1IVwF3mp6R",
        "outputId": "9650c624-f9e5-45e3-8740-90843a8fe99e"
      },
      "execution_count": 13,
      "outputs": [
        {
          "output_type": "stream",
          "name": "stdout",
          "text": [
            "nombre_app : por defecto\n",
            "version_app : 0.32\n"
          ]
        }
      ]
    },
    {
      "cell_type": "code",
      "source": [
        "opciones(version_app=0.32,nombre_app=\"mauricio_app\")"
      ],
      "metadata": {
        "colab": {
          "base_uri": "https://localhost:8080/"
        },
        "id": "cLR-7Hu9mysi",
        "outputId": "0383fea1-49fc-4aac-c6e0-6d6fc314fea1"
      },
      "execution_count": 14,
      "outputs": [
        {
          "output_type": "stream",
          "name": "stdout",
          "text": [
            "nombre_app : mauricio_app\n",
            "version_app : 0.32\n"
          ]
        }
      ]
    },
    {
      "cell_type": "markdown",
      "source": [
        "## **COMBINANDO TODOS**\n",
        "\n",
        "\n",
        "\n",
        "```python\n",
        "[tag.lower() for tag in tags]\n",
        "\n",
        "==\n",
        "\n",
        "lista = []\n",
        "for tag in tags:\n",
        "  lista.upper(tag.lower())\n",
        "```\n",
        "\n"
      ],
      "metadata": {
        "id": "t2G5KCwpnK0j"
      }
    },
    {
      "cell_type": "code",
      "source": [
        "def to_csv(file_name: str, *tags, delimeter=\",\", **extra_config):\n",
        "  print(f\"file_name : {file_name}\")\n",
        "  print(f\"tags : {tags}\")\n",
        "  print(f\"extra_config : {extra_config}\")\n",
        "  print(f\"delimeter : {delimeter}\")\n",
        "  print(\"-\" * 80)\n",
        "  print([tag.lower() for tag in tags  ]) # for comp siempre retornan una lista\n",
        "  print(\"\\n\".join([tag.lower() for tag in tags  ]))"
      ],
      "metadata": {
        "id": "HWLXlDH5nKV_"
      },
      "execution_count": 15,
      "outputs": []
    },
    {
      "cell_type": "markdown",
      "source": [
        "### **POSICIONALMENTE**"
      ],
      "metadata": {
        "id": "OI4s1qjhot3i"
      }
    },
    {
      "cell_type": "code",
      "source": [
        "to_csv()"
      ],
      "metadata": {
        "colab": {
          "base_uri": "https://localhost:8080/",
          "height": 176
        },
        "id": "_JfBPUYHo1cz",
        "outputId": "1a4f16e3-751e-41f8-a666-3ce7d62c65a0"
      },
      "execution_count": 16,
      "outputs": [
        {
          "output_type": "error",
          "ename": "TypeError",
          "evalue": "ignored",
          "traceback": [
            "\u001b[0;31m---------------------------------------------------------------------------\u001b[0m",
            "\u001b[0;31mTypeError\u001b[0m                                 Traceback (most recent call last)",
            "\u001b[0;32m<ipython-input-16-4f2dc98e969f>\u001b[0m in \u001b[0;36m<cell line: 1>\u001b[0;34m()\u001b[0m\n\u001b[0;32m----> 1\u001b[0;31m \u001b[0mto_csv\u001b[0m\u001b[0;34m(\u001b[0m\u001b[0;34m)\u001b[0m\u001b[0;34m\u001b[0m\u001b[0;34m\u001b[0m\u001b[0m\n\u001b[0m",
            "\u001b[0;31mTypeError\u001b[0m: to_csv() missing 1 required positional argument: 'file_name'"
          ]
        }
      ]
    },
    {
      "cell_type": "code",
      "source": [
        "to_csv(\"c:/documentos/demo.csv\")"
      ],
      "metadata": {
        "colab": {
          "base_uri": "https://localhost:8080/"
        },
        "id": "a8mbShf_ozbZ",
        "outputId": "0d188510-a52f-4eec-ac17-9a08d466630f"
      },
      "execution_count": 17,
      "outputs": [
        {
          "output_type": "stream",
          "name": "stdout",
          "text": [
            "file_name : c:/documentos/demo.csv\n",
            "tags : ()\n",
            "extra_config : {}\n",
            "delimeter : ,\n",
            "--------------------------------------------------------------------------------\n",
            "[]\n",
            "\n"
          ]
        }
      ]
    },
    {
      "cell_type": "markdown",
      "source": [
        "### **LISTA DINÁMICAMENTE**\n",
        "\n",
        "\n",
        "\n",
        "```python\n",
        "def to_csv(file_name: str, *tags, delimeter=\",\", **extra_config, ):\n",
        "  pass\n",
        "```\n",
        "\n"
      ],
      "metadata": {
        "id": "YXU-2WjAo79G"
      }
    },
    {
      "cell_type": "code",
      "source": [
        "to_csv(\"c:/documentos/demo.csv\",\n",
        "  \"tag1\",\n",
        "  \"tAg2\",\n",
        "  \"TAG3\",\n",
        "  pepito=1,\n",
        "  julanito=2\n",
        ")"
      ],
      "metadata": {
        "colab": {
          "base_uri": "https://localhost:8080/"
        },
        "id": "4EzHwIHko7hf",
        "outputId": "b55c96e2-e80f-4531-86e8-e59ea1ad729c"
      },
      "execution_count": 18,
      "outputs": [
        {
          "output_type": "stream",
          "name": "stdout",
          "text": [
            "file_name : c:/documentos/demo.csv\n",
            "tags : ('tag1', 'tAg2', 'TAG3')\n",
            "extra_config : {'pepito': 1, 'julanito': 2}\n",
            "delimeter : ,\n",
            "--------------------------------------------------------------------------------\n",
            "['tag1', 'tag2', 'tag3']\n",
            "tag1\n",
            "tag2\n",
            "tag3\n"
          ]
        }
      ]
    },
    {
      "cell_type": "code",
      "source": [
        "def csv_2(file_name: str, *):\n",
        "  print(file_name)\n",
        "  print(*)\n",
        "csv_2(\"sdsdsds\")"
      ],
      "metadata": {
        "colab": {
          "base_uri": "https://localhost:8080/",
          "height": 141
        },
        "id": "PbTQsU-4tHsj",
        "outputId": "ce689313-b8d2-4c14-e3ec-8cee164abd1b"
      },
      "execution_count": 19,
      "outputs": [
        {
          "output_type": "error",
          "ename": "SyntaxError",
          "evalue": "ignored",
          "traceback": [
            "\u001b[0;36m  File \u001b[0;32m\"<ipython-input-19-9d857724a964>\"\u001b[0;36m, line \u001b[0;32m1\u001b[0m\n\u001b[0;31m    def csv_2(file_name: str, *):\u001b[0m\n\u001b[0m                              ^\u001b[0m\n\u001b[0;31mSyntaxError\u001b[0m\u001b[0;31m:\u001b[0m named arguments must follow bare *\n"
          ]
        }
      ]
    },
    {
      "cell_type": "markdown",
      "source": [
        "## **FUNCIONES COMO OBJETOS**"
      ],
      "metadata": {
        "id": "xDQWnMJwueuY"
      }
    },
    {
      "cell_type": "code",
      "source": [
        "def suma_dinamica(*valores: list):\n",
        "  print(f\"longitud --> {len(valores)}\")\n",
        "  print(f\"total    --> {sum(valores)}\")"
      ],
      "metadata": {
        "id": "053ljaHzun_i"
      },
      "execution_count": 20,
      "outputs": []
    },
    {
      "cell_type": "markdown",
      "source": [
        "### **ASIGNAR A VARIABLES**"
      ],
      "metadata": {
        "id": "ijUo7Zyiu_ld"
      }
    },
    {
      "cell_type": "code",
      "source": [
        "datos = suma_dinamica\n",
        "\n",
        "print(\"Forma original : --\")\n",
        "suma_dinamica(1,2,3,4)\n",
        "print(\"*\" *20)\n",
        "print(\"Forma alias : --\")\n",
        "datos(1,2,3,4)"
      ],
      "metadata": {
        "colab": {
          "base_uri": "https://localhost:8080/"
        },
        "id": "M6BG7OW_vCl_",
        "outputId": "48e94c06-b6c7-4e13-e6c2-b0b176af1a15"
      },
      "execution_count": 21,
      "outputs": [
        {
          "output_type": "stream",
          "name": "stdout",
          "text": [
            "Forma original : --\n",
            "longitud --> 4\n",
            "total    --> 10\n",
            "********************\n",
            "Forma alias : --\n",
            "longitud --> 4\n",
            "total    --> 10\n"
          ]
        }
      ]
    },
    {
      "cell_type": "code",
      "source": [
        "# metodos magicos, ya estan definidos | el nombre de la funcion real se obtiene con __name__\n",
        "print(datos.__name__)"
      ],
      "metadata": {
        "colab": {
          "base_uri": "https://localhost:8080/"
        },
        "id": "FPz2pPGVvgkF",
        "outputId": "04324d24-a430-40c9-b820-3931b9e0dfcd"
      },
      "execution_count": 22,
      "outputs": [
        {
          "output_type": "stream",
          "name": "stdout",
          "text": [
            "suma_dinamica\n"
          ]
        }
      ]
    },
    {
      "cell_type": "code",
      "source": [
        "type(datos)"
      ],
      "metadata": {
        "colab": {
          "base_uri": "https://localhost:8080/"
        },
        "id": "TLmfh9vNwVbp",
        "outputId": "cf5b7906-abab-4445-cdf0-f5737f5f17f9"
      },
      "execution_count": 23,
      "outputs": [
        {
          "output_type": "execute_result",
          "data": {
            "text/plain": [
              "function"
            ]
          },
          "metadata": {},
          "execution_count": 23
        }
      ]
    },
    {
      "cell_type": "code",
      "source": [
        "def ejecutador(funcion):\n",
        "  print(f\"ejecutando función {funcion.__name__}\")\n",
        "  funcion(1,2,3,4)\n",
        "\n",
        "print(\"Forma original : --\")\n",
        "ejecutador(suma_dinamica)\n",
        "print(\"*\" *20)\n",
        "print(\"Forma alias : --\")\n",
        "ejecutador(datos)"
      ],
      "metadata": {
        "colab": {
          "base_uri": "https://localhost:8080/"
        },
        "id": "6MxEdGL3wTad",
        "outputId": "090e9d25-3f99-4ae7-ce09-d512882efac5"
      },
      "execution_count": 24,
      "outputs": [
        {
          "output_type": "stream",
          "name": "stdout",
          "text": [
            "Forma original : --\n",
            "ejecutando función suma_dinamica\n",
            "longitud --> 4\n",
            "total    --> 10\n",
            "********************\n",
            "Forma alias : --\n",
            "ejecutando función suma_dinamica\n",
            "longitud --> 4\n",
            "total    --> 10\n"
          ]
        }
      ]
    },
    {
      "cell_type": "code",
      "source": [
        "def ejecutador_2(funcion, *valores_a_sumar):\n",
        "  print(f\"ejecutando función {funcion.__name__}\")\n",
        "  print(valores_a_sumar)\n",
        "  funcion(*valores_a_sumar)\n",
        "\n",
        "print(\"Forma original : --\")\n",
        "ejecutador_2(suma_dinamica,1,2,3,4)\n",
        "print(\"*\" *20)\n",
        "print(\"Forma alias : --\")\n",
        "ejecutador_2(datos,1,2,3,4)"
      ],
      "metadata": {
        "colab": {
          "base_uri": "https://localhost:8080/"
        },
        "id": "dgz4478gxVm_",
        "outputId": "16ce8116-e5ee-491b-b758-30416feb6b70"
      },
      "execution_count": 25,
      "outputs": [
        {
          "output_type": "stream",
          "name": "stdout",
          "text": [
            "Forma original : --\n",
            "ejecutando función suma_dinamica\n",
            "(1, 2, 3, 4)\n",
            "longitud --> 4\n",
            "total    --> 10\n",
            "********************\n",
            "Forma alias : --\n",
            "ejecutando función suma_dinamica\n",
            "(1, 2, 3, 4)\n",
            "longitud --> 4\n",
            "total    --> 10\n"
          ]
        }
      ]
    },
    {
      "cell_type": "code",
      "source": [
        "\"1,2,3,4\"\n",
        "\"(1, 2, 3, 4)\"\n",
        "\n",
        "datos = (1, 2, 3, 4)\n",
        "def test(*datos):\n",
        "  print(datos)\n",
        "test(datos)\n",
        "test(*datos)"
      ],
      "metadata": {
        "colab": {
          "base_uri": "https://localhost:8080/"
        },
        "id": "5cJrkLcByGte",
        "outputId": "7895a9eb-ef36-4725-9267-2343e1eaf3f0"
      },
      "execution_count": 26,
      "outputs": [
        {
          "output_type": "stream",
          "name": "stdout",
          "text": [
            "((1, 2, 3, 4),)\n",
            "(1, 2, 3, 4)\n"
          ]
        }
      ]
    },
    {
      "cell_type": "markdown",
      "source": [
        "### **COMBINAR CON ESTRUCTURAS DE DATOS**"
      ],
      "metadata": {
        "id": "p0tPunuFy2S2"
      }
    },
    {
      "cell_type": "code",
      "source": [
        "def estandarizar_multiplicar_10(texto:str):\n",
        "  return texto.lower() * 10\n",
        "\n",
        "estandarizar_multiplicar_10(\"sSSSsssasdeasd\")"
      ],
      "metadata": {
        "colab": {
          "base_uri": "https://localhost:8080/",
          "height": 35
        },
        "id": "YM5yOFc7zUtA",
        "outputId": "4300dcd5-780c-4573-a81c-6c14889cc3ca"
      },
      "execution_count": 27,
      "outputs": [
        {
          "output_type": "execute_result",
          "data": {
            "text/plain": [
              "'sssssssasdeasdsssssssasdeasdsssssssasdeasdsssssssasdeasdsssssssasdeasdsssssssasdeasdsssssssasdeasdsssssssasdeasdsssssssasdeasdsssssssasdeasd'"
            ],
            "application/vnd.google.colaboratory.intrinsic+json": {
              "type": "string"
            }
          },
          "metadata": {},
          "execution_count": 27
        }
      ]
    },
    {
      "cell_type": "code",
      "source": [
        "def ejecutador_3(lista_funciones: list, texto_test: str = \"PruEbA\"):\n",
        "  for funcion in lista_funciones:\n",
        "    print(funcion(texto_test))\n",
        "\n",
        "lista_funciones = [str.upper, str.lower]\n",
        "\n",
        "\n",
        "lista_funciones.append(estandarizar_multiplicar_10)\n",
        "print(lista_funciones)\n",
        "print(len(lista_funciones))\n",
        "print(\"*\" *20)\n",
        "ejecutador_3(lista_funciones)"
      ],
      "metadata": {
        "colab": {
          "base_uri": "https://localhost:8080/"
        },
        "id": "zT75dLCYy8GY",
        "outputId": "eef05769-a69d-436c-8fdf-519fb9608a34"
      },
      "execution_count": 28,
      "outputs": [
        {
          "output_type": "stream",
          "name": "stdout",
          "text": [
            "[<method 'upper' of 'str' objects>, <method 'lower' of 'str' objects>, <function estandarizar_multiplicar_10 at 0x7dee4b4e7e20>]\n",
            "3\n",
            "********************\n",
            "PRUEBA\n",
            "prueba\n",
            "pruebapruebapruebapruebapruebapruebapruebapruebapruebaprueba\n"
          ]
        }
      ]
    },
    {
      "cell_type": "code",
      "source": [
        "str.lower(\"SSS\")"
      ],
      "metadata": {
        "colab": {
          "base_uri": "https://localhost:8080/",
          "height": 35
        },
        "id": "wgUNDsdx0RNW",
        "outputId": "7f4960e0-d63f-4a3a-868f-659bd95a2ce1"
      },
      "execution_count": 29,
      "outputs": [
        {
          "output_type": "execute_result",
          "data": {
            "text/plain": [
              "'sss'"
            ],
            "application/vnd.google.colaboratory.intrinsic+json": {
              "type": "string"
            }
          },
          "metadata": {},
          "execution_count": 29
        }
      ]
    },
    {
      "cell_type": "code",
      "source": [
        "str.upper(\"sss\")"
      ],
      "metadata": {
        "colab": {
          "base_uri": "https://localhost:8080/",
          "height": 35
        },
        "id": "YJ2sNiwB0UOX",
        "outputId": "10d908a0-31b4-450f-b8e1-889bfd51238b"
      },
      "execution_count": 30,
      "outputs": [
        {
          "output_type": "execute_result",
          "data": {
            "text/plain": [
              "'SSS'"
            ],
            "application/vnd.google.colaboratory.intrinsic+json": {
              "type": "string"
            }
          },
          "metadata": {},
          "execution_count": 30
        }
      ]
    },
    {
      "cell_type": "code",
      "source": [
        "datos = {\n",
        "    \"mi_funcion\": estandarizar_multiplicar_10\n",
        "}"
      ],
      "metadata": {
        "id": "GnnvTqIR0zDU"
      },
      "execution_count": 31,
      "outputs": []
    },
    {
      "cell_type": "code",
      "source": [
        "datos.keys()"
      ],
      "metadata": {
        "colab": {
          "base_uri": "https://localhost:8080/"
        },
        "id": "Gh8NAZ3108Vz",
        "outputId": "b10982fa-7378-4337-f8e2-7d8a26ee7db0"
      },
      "execution_count": 32,
      "outputs": [
        {
          "output_type": "execute_result",
          "data": {
            "text/plain": [
              "dict_keys(['mi_funcion'])"
            ]
          },
          "metadata": {},
          "execution_count": 32
        }
      ]
    },
    {
      "cell_type": "code",
      "source": [
        "datos.values()"
      ],
      "metadata": {
        "colab": {
          "base_uri": "https://localhost:8080/"
        },
        "id": "G8nnuNCN0--S",
        "outputId": "fbbb75b2-db84-4a00-a495-36718f80cfbd"
      },
      "execution_count": 33,
      "outputs": [
        {
          "output_type": "execute_result",
          "data": {
            "text/plain": [
              "dict_values([<function estandarizar_multiplicar_10 at 0x7dee4b4e7e20>])"
            ]
          },
          "metadata": {},
          "execution_count": 33
        }
      ]
    },
    {
      "cell_type": "code",
      "source": [
        "datos[\"mi_funcion\"](\"hola\")"
      ],
      "metadata": {
        "colab": {
          "base_uri": "https://localhost:8080/",
          "height": 35
        },
        "id": "5Dv7-A5Z1EmD",
        "outputId": "8f6ffa65-c247-4752-d29a-b0bdbdb36e62"
      },
      "execution_count": 34,
      "outputs": [
        {
          "output_type": "execute_result",
          "data": {
            "text/plain": [
              "'holaholaholaholaholaholaholaholaholahola'"
            ],
            "application/vnd.google.colaboratory.intrinsic+json": {
              "type": "string"
            }
          },
          "metadata": {},
          "execution_count": 34
        }
      ]
    },
    {
      "cell_type": "code",
      "source": [
        "id(datos)"
      ],
      "metadata": {
        "colab": {
          "base_uri": "https://localhost:8080/"
        },
        "id": "4z33GMbq189h",
        "outputId": "4d24457e-7ecb-4cd2-9363-bf13efa41194"
      },
      "execution_count": 35,
      "outputs": [
        {
          "output_type": "execute_result",
          "data": {
            "text/plain": [
              "138462366859840"
            ]
          },
          "metadata": {},
          "execution_count": 35
        }
      ]
    },
    {
      "cell_type": "code",
      "source": [
        "estandarizar_multiplicar_10.__name__"
      ],
      "metadata": {
        "id": "pNz0Zx-32LDg",
        "outputId": "014d8a6e-efe0-4799-d37d-988cf7468a67",
        "colab": {
          "base_uri": "https://localhost:8080/",
          "height": 35
        }
      },
      "execution_count": 36,
      "outputs": [
        {
          "output_type": "execute_result",
          "data": {
            "text/plain": [
              "'estandarizar_multiplicar_10'"
            ],
            "application/vnd.google.colaboratory.intrinsic+json": {
              "type": "string"
            }
          },
          "metadata": {},
          "execution_count": 36
        }
      ]
    }
  ]
}