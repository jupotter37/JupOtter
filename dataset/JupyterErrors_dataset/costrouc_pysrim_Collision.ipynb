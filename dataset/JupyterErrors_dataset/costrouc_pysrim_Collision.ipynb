{
 "cells": [
  {
   "cell_type": "code",
   "execution_count": 78,
   "metadata": {},
   "outputs": [],
   "source": [
    "import re\n",
    "import os\n",
    "\n",
    "import matplotlib.pyplot as plt\n",
    "import numpy as np\n",
    "import pandas as pd\n",
    "import srim"
   ]
  },
  {
   "cell_type": "code",
   "execution_count": 94,
   "metadata": {},
   "outputs": [],
   "source": [
    "# Define calculations in code\n",
    "ion = srim.Ion('Si', energy=21.0e8) #eV\n",
    "\n",
    "layer = srim.Layer({\n",
    "    'Si': {\n",
    "        'stoich': 0.5,\n",
    "        'E_d': 35.0, # Displacement Energy\n",
    "        'lattice': 0.0,\n",
    "        'surface': 3.0\n",
    "    },\n",
    "    'C': {\n",
    "        'stoich': 0.5,\n",
    "        'E_d': 20.0, # Displacement Energy\n",
    "        'lattice': 0.0,\n",
    "        'surface': 3.0\n",
    "    }\n",
    "}, density=3.21, width=1.0e8)\n",
    "target = srim.Target([layer])\n",
    "\n",
    "SRIM_EXECUTABLE_DIRECTORY = os.path.abspath('/tmp/srim')\n",
    "DATA_DIRECTORY = os.path.abspath('/tmp/SiC')\n",
    "NUM_IONS = 10\n",
    "TRIM_SETTINGS = {\n",
    "    'calculation': 2, # full cascade\n",
    "    'collisions': 2,\n",
    "    # 'angle_ions': 30\n",
    "}\n",
    "\n",
    "trim = srim.TRIM(target, ion, number_ions=NUM_IONS, **TRIM_SETTINGS)"
   ]
  },
  {
   "cell_type": "code",
   "execution_count": 95,
   "metadata": {},
   "outputs": [],
   "source": [
    "trim.run(SRIM_EXECUTABLE_DIRECTORY)\n",
    "os.makedirs(DATA_DIRECTORY, exist_ok=True)\n",
    "srim.TRIM.copy_output_files(SRIM_EXECUTABLE_DIRECTORY, DATA_DIRECTORY)"
   ]
  },
  {
   "cell_type": "code",
   "execution_count": 96,
   "metadata": {},
   "outputs": [],
   "source": [
    "int_regex = r'\\d+'\n",
    "float_regex = r'-?\\d+\\.\\d*(?:E[+-]\\d+)?'\n",
    "element_regex = r'[A-Z][a-z]?'\n",
    "\n",
    "ion_regex = 'Ion\\s+Energy\\s+Depth'\n",
    "recoil_regex = r'Û\\s+(' + r')\\s+('.join([int_regex, int_regex, float_regex, float_regex, float_regex, float_regex, int_regex, int_regex]) + r')\\s+Û'\n",
    "cascade_regex = r'³\\s*(' + r')\\s*³\\s*('.join([int_regex, float_regex, float_regex, float_regex, float_regex, float_regex, element_regex, float_regex]) + r')\\s*³'\n",
    "\n",
    "def format_recoil(index, recoil, atom, energy, x, y, z, vacancy, replacement):\n",
    "    return int(index), int(recoil), int(atom), float(energy), float(x), float(y), float(z), int(vacancy), int(replacement)\n",
    "\n",
    "def parse_ion_recoil(ion_block):\n",
    "    return [format_recoil(m.start(), *m.groups()) for m in re.finditer(recoil_regex, ion_block)]\n",
    "\n",
    "def format_cascade(index, ion, energy, x, y, z, stopping_energy, atom_hit, recoil_energy):\n",
    "    return int(index), int(ion), float(energy), float(x), float(y), float(z), float(stopping_energy), atom_hit, float(recoil_energy)\n",
    "\n",
    "def parse_ion_cascade(ion_block):\n",
    "    return [format_cascade(m.start(), *m.groups()) for m in re.finditer(cascade_regex, ion_block)]\n",
    "\n",
    "with open('/tmp/SiC/COLLISON.txt', encoding='latin1') as f:\n",
    "    collision = f.read()"
   ]
  },
  {
   "cell_type": "markdown",
   "metadata": {},
   "source": [
    "# Tabular Representations"
   ]
  },
  {
   "cell_type": "code",
   "execution_count": 97,
   "metadata": {},
   "outputs": [],
   "source": [
    "indicies = [(i, m.start()) for i, m in enumerate(re.finditer(ion_regex, collision), start=1)]\n",
    "ion_indicies_df = pd.DataFrame(indicies, columns=['ion_number', 'index']).set_index('ion_number')\n",
    "\n",
    "recoils = parse_ion_recoil(collision)\n",
    "recoils_df = pd.DataFrame(recoils, columns=['index', 'recoil', 'atom', 'energy', 'x', 'y', 'z', 'vacancy', 'replacement']).set_index('index')\n",
    "\n",
    "cascade = parse_ion_cascade(collision)\n",
    "cascade_df = pd.DataFrame(cascade, columns=['index', 'ion', 'energy', 'x', 'y', 'z', 'stopping_energy', 'atom_hit', 'recoil_energy']).set_index('index')"
   ]
  },
  {
   "cell_type": "code",
   "execution_count": 98,
   "metadata": {},
   "outputs": [
    {
     "name": "stdout",
     "output_type": "stream",
     "text": [
      "<class 'pandas.core.frame.DataFrame'>\n",
      "Int64Index: 18934 entries, 2069 to 15871503\n",
      "Data columns (total 8 columns):\n",
      "ion                18934 non-null int64\n",
      "energy             18934 non-null float64\n",
      "x                  18934 non-null float64\n",
      "y                  18934 non-null float64\n",
      "z                  18934 non-null float64\n",
      "stopping_energy    18934 non-null float64\n",
      "atom_hit           18934 non-null object\n",
      "recoil_energy      18934 non-null float64\n",
      "dtypes: float64(6), int64(1), object(1)\n",
      "memory usage: 1.3+ MB\n"
     ]
    }
   ],
   "source": [
    "cascade_df.info()"
   ]
  },
  {
   "cell_type": "code",
   "execution_count": 99,
   "metadata": {},
   "outputs": [
    {
     "data": {
      "text/html": [
       "<div>\n",
       "<style scoped>\n",
       "    .dataframe tbody tr th:only-of-type {\n",
       "        vertical-align: middle;\n",
       "    }\n",
       "\n",
       "    .dataframe tbody tr th {\n",
       "        vertical-align: top;\n",
       "    }\n",
       "\n",
       "    .dataframe thead th {\n",
       "        text-align: right;\n",
       "    }\n",
       "</style>\n",
       "<table border=\"1\" class=\"dataframe\">\n",
       "  <thead>\n",
       "    <tr style=\"text-align: right;\">\n",
       "      <th></th>\n",
       "      <th>ion</th>\n",
       "      <th>energy</th>\n",
       "      <th>x</th>\n",
       "      <th>y</th>\n",
       "      <th>z</th>\n",
       "      <th>stopping_energy</th>\n",
       "      <th>atom_hit</th>\n",
       "      <th>recoil_energy</th>\n",
       "    </tr>\n",
       "    <tr>\n",
       "      <th>index</th>\n",
       "      <th></th>\n",
       "      <th></th>\n",
       "      <th></th>\n",
       "      <th></th>\n",
       "      <th></th>\n",
       "      <th></th>\n",
       "      <th></th>\n",
       "      <th></th>\n",
       "    </tr>\n",
       "  </thead>\n",
       "  <tbody>\n",
       "    <tr>\n",
       "      <th>8692734</th>\n",
       "      <td>6</td>\n",
       "      <td>838000.000</td>\n",
       "      <td>20003000.0</td>\n",
       "      <td>3206.0</td>\n",
       "      <td>-125300.0</td>\n",
       "      <td>96.39</td>\n",
       "      <td>Si</td>\n",
       "      <td>50.231</td>\n",
       "    </tr>\n",
       "    <tr>\n",
       "      <th>8605053</th>\n",
       "      <td>6</td>\n",
       "      <td>1046000.000</td>\n",
       "      <td>17646000.0</td>\n",
       "      <td>-7535.0</td>\n",
       "      <td>-112500.0</td>\n",
       "      <td>81.51</td>\n",
       "      <td>Si</td>\n",
       "      <td>536.220</td>\n",
       "    </tr>\n",
       "    <tr>\n",
       "      <th>10313590</th>\n",
       "      <td>7</td>\n",
       "      <td>674300.000</td>\n",
       "      <td>21564000.0</td>\n",
       "      <td>16860.0</td>\n",
       "      <td>-34530.0</td>\n",
       "      <td>112.97</td>\n",
       "      <td>C</td>\n",
       "      <td>25.508</td>\n",
       "    </tr>\n",
       "    <tr>\n",
       "      <th>11193734</th>\n",
       "      <td>7</td>\n",
       "      <td>5.309</td>\n",
       "      <td>25212000.0</td>\n",
       "      <td>43230.0</td>\n",
       "      <td>-58950.0</td>\n",
       "      <td>13.65</td>\n",
       "      <td>C</td>\n",
       "      <td>126.880</td>\n",
       "    </tr>\n",
       "    <tr>\n",
       "      <th>13442907</th>\n",
       "      <td>9</td>\n",
       "      <td>571000.000</td>\n",
       "      <td>22598000.0</td>\n",
       "      <td>-47960.0</td>\n",
       "      <td>43380.0</td>\n",
       "      <td>127.21</td>\n",
       "      <td>C</td>\n",
       "      <td>37.782</td>\n",
       "    </tr>\n",
       "    <tr>\n",
       "      <th>5432416</th>\n",
       "      <td>4</td>\n",
       "      <td>394300.000</td>\n",
       "      <td>23721000.0</td>\n",
       "      <td>192600.0</td>\n",
       "      <td>-15270.0</td>\n",
       "      <td>164.08</td>\n",
       "      <td>C</td>\n",
       "      <td>34.143</td>\n",
       "    </tr>\n",
       "    <tr>\n",
       "      <th>8332507</th>\n",
       "      <td>6</td>\n",
       "      <td>1691000.000</td>\n",
       "      <td>7909000.0</td>\n",
       "      <td>-916.8</td>\n",
       "      <td>-35010.0</td>\n",
       "      <td>56.02</td>\n",
       "      <td>C</td>\n",
       "      <td>24.084</td>\n",
       "    </tr>\n",
       "    <tr>\n",
       "      <th>12590730</th>\n",
       "      <td>8</td>\n",
       "      <td>235.600</td>\n",
       "      <td>25196000.0</td>\n",
       "      <td>-20090.0</td>\n",
       "      <td>-47010.0</td>\n",
       "      <td>76.87</td>\n",
       "      <td>Si</td>\n",
       "      <td>770.860</td>\n",
       "    </tr>\n",
       "    <tr>\n",
       "      <th>6370845</th>\n",
       "      <td>4</td>\n",
       "      <td>566.600</td>\n",
       "      <td>25271000.0</td>\n",
       "      <td>212200.0</td>\n",
       "      <td>-812.8</td>\n",
       "      <td>116.32</td>\n",
       "      <td>C</td>\n",
       "      <td>30.759</td>\n",
       "    </tr>\n",
       "    <tr>\n",
       "      <th>3225543</th>\n",
       "      <td>3</td>\n",
       "      <td>1737000.000</td>\n",
       "      <td>7134100.0</td>\n",
       "      <td>-532.5</td>\n",
       "      <td>2291.0</td>\n",
       "      <td>54.86</td>\n",
       "      <td>Si</td>\n",
       "      <td>125.000</td>\n",
       "    </tr>\n",
       "  </tbody>\n",
       "</table>\n",
       "</div>"
      ],
      "text/plain": [
       "          ion       energy           x         y         z  stopping_energy  \\\n",
       "index                                                                         \n",
       "8692734     6   838000.000  20003000.0    3206.0 -125300.0            96.39   \n",
       "8605053     6  1046000.000  17646000.0   -7535.0 -112500.0            81.51   \n",
       "10313590    7   674300.000  21564000.0   16860.0  -34530.0           112.97   \n",
       "11193734    7        5.309  25212000.0   43230.0  -58950.0            13.65   \n",
       "13442907    9   571000.000  22598000.0  -47960.0   43380.0           127.21   \n",
       "5432416     4   394300.000  23721000.0  192600.0  -15270.0           164.08   \n",
       "8332507     6  1691000.000   7909000.0    -916.8  -35010.0            56.02   \n",
       "12590730    8      235.600  25196000.0  -20090.0  -47010.0            76.87   \n",
       "6370845     4      566.600  25271000.0  212200.0    -812.8           116.32   \n",
       "3225543     3  1737000.000   7134100.0    -532.5    2291.0            54.86   \n",
       "\n",
       "         atom_hit  recoil_energy  \n",
       "index                             \n",
       "8692734        Si         50.231  \n",
       "8605053        Si        536.220  \n",
       "10313590        C         25.508  \n",
       "11193734        C        126.880  \n",
       "13442907        C         37.782  \n",
       "5432416         C         34.143  \n",
       "8332507         C         24.084  \n",
       "12590730       Si        770.860  \n",
       "6370845         C         30.759  \n",
       "3225543        Si        125.000  "
      ]
     },
     "execution_count": 99,
     "metadata": {},
     "output_type": "execute_result"
    }
   ],
   "source": [
    "cascade_df.sample(10)"
   ]
  },
  {
   "cell_type": "markdown",
   "metadata": {},
   "source": [
    "# Parse only Cascades for Demonstration"
   ]
  },
  {
   "cell_type": "code",
   "execution_count": 100,
   "metadata": {},
   "outputs": [
    {
     "name": "stderr",
     "output_type": "stream",
     "text": [
      "/home/costrouc/.virtualenvs/srim-implementation-PqLUTV1W/lib/python3.6/site-packages/ipykernel_launcher.py:13: RuntimeWarning: invalid value encountered in double_scalars\n",
      "  del sys.path[0]\n",
      "/home/costrouc/.virtualenvs/srim-implementation-PqLUTV1W/lib/python3.6/site-packages/ipykernel_launcher.py:13: RuntimeWarning: divide by zero encountered in double_scalars\n",
      "  del sys.path[0]\n"
     ]
    }
   ],
   "source": [
    "energies = []\n",
    "dedx = []\n",
    "\n",
    "for i in range(1, len(cascade)):\n",
    "    c1 = cascade[i-1]\n",
    "    c2 = cascade[i]\n",
    "    if c1[1] != c2[1]:\n",
    "        continue\n",
    "    \n",
    "    de = c1[2] - c2[2]\n",
    "    dx = np.linalg.norm(np.array(c1[3:6]) - np.array(c2[3:6]))\n",
    "    energies.append(c1[2])\n",
    "    dedx.append(de/dx)"
   ]
  },
  {
   "cell_type": "code",
   "execution_count": 105,
   "metadata": {},
   "outputs": [
    {
     "data": {
      "text/plain": [
       "Text(0.5,1,'Electronic Energy Loss Curve')"
      ]
     },
     "execution_count": 105,
     "metadata": {},
     "output_type": "execute_result"
    },
    {
     "data": {
      "image/png": "[encoded data removed]",
      "text/plain": [
       "<Figure size 432x288 with 1 Axes>"
      ]
     },
     "metadata": {},
     "output_type": "display_data"
    }
   ],
   "source": [
    "fig, ax = plt.subplots()\n",
    "ax.scatter(energies, dedx, s=1)\n",
    "ax.set_ylim([0, 2])\n",
    "ax.set_xlabel('Energy')\n",
    "ax.set_ylabel(r'$\\frac{dE}{dx}$')\n",
    "ax.set_xscale('log')\n",
    "ax.set_title('Electronic Energy Loss Curve')"
   ]
  },
  {
   "cell_type": "code",
   "execution_count": 106,
   "metadata": {},
   "outputs": [
    {
     "data": {
      "image/png": "[encoded data removed]",
      "text/plain": [
       "<Figure size 432x288 with 1 Axes>"
      ]
     },
     "metadata": {},
     "output_type": "display_data"
    }
   ],
   "source": [
    "bins = 10**np.linspace(0, 6, 500)\n",
    "ax = cascade_df[cascade_df['atom_hit'] == 'Si'].recoil_energy.hist(bins=bins)\n",
    "ax.set_xscale('log')"
   ]
  },
  {
   "cell_type": "code",
   "execution_count": 107,
   "metadata": {},
   "outputs": [
    {
     "data": {
      "image/png": "[encoded data removed]",
      "text/plain": [
       "<Figure size 432x288 with 1 Axes>"
      ]
     },
     "metadata": {},
     "output_type": "display_data"
    }
   ],
   "source": [
    "bins = 10**np.linspace(0, 6, 500)\n",
    "ax = cascade_df[cascade_df['atom_hit'] == 'C'].recoil_energy.hist(bins=bins)\n",
    "ax.set_xscale('log')"
   ]
  },
  {
   "cell_type": "code",
   "execution_count": 108,
   "metadata": {},
   "outputs": [],
   "source": [
    "import numpy as np\n",
    "\n",
    "def unit_vector(vector):\n",
    "    \"\"\" Returns the unit vector of the vector.  \"\"\"\n",
    "    return vector / np.linalg.norm(vector)\n",
    "\n",
    "def angle_between(v1, v2):\n",
    "    \"\"\" Returns the angle in radians between vectors 'v1' and 'v2'::\n",
    "\n",
    "            >>> angle_between((1, 0, 0), (0, 1, 0))\n",
    "            1.5707963267948966\n",
    "            >>> angle_between((1, 0, 0), (1, 0, 0))\n",
    "            0.0\n",
    "            >>> angle_between((1, 0, 0), (-1, 0, 0))\n",
    "            3.141592653589793\n",
    "    \"\"\"\n",
    "    v1_u = unit_vector(v1)\n",
    "    v2_u = unit_vector(v2)\n",
    "    return np.arccos(np.clip(np.dot(v1_u, v2_u), -1.0, 1.0))"
   ]
  },
  {
   "cell_type": "code",
   "execution_count": 124,
   "metadata": {},
   "outputs": [
    {
     "name": "stderr",
     "output_type": "stream",
     "text": [
      "/home/costrouc/.virtualenvs/srim-implementation-PqLUTV1W/lib/python3.6/site-packages/ipykernel_launcher.py:5: RuntimeWarning: invalid value encountered in true_divide\n",
      "  \"\"\"\n"
     ]
    }
   ],
   "source": [
    "angles = []\n",
    "energies = []\n",
    "\n",
    "for i in range(1, len(cascade)-1):\n",
    "    c1 = cascade[i-1]\n",
    "    c2 = cascade[i]\n",
    "    c3 = cascade[i+1]\n",
    "    if (c1[1] != c2[1]) or (c2[1] != c3[1]):\n",
    "        continue\n",
    "    \n",
    "    v1 = np.array(c1[3:6]) - np.array(c2[3:6])\n",
    "    v2 = np.array(c2[3:6]) - np.array(c3[3:6])\n",
    "    angles.append(angle_between(v1, v2))\n",
    "    energies.append(c1[2])\n",
    "    \n",
    "angles = np.array(angles)"
   ]
  },
  {
   "cell_type": "code",
   "execution_count": 123,
   "metadata": {},
   "outputs": [
    {
     "ename": "ValueError",
     "evalue": "x and y must be the same size",
     "output_type": "error",
     "traceback": [
      "\u001b[0;31m---------------------------------------------------------------------------\u001b[0m",
      "\u001b[0;31mValueError\u001b[0m                                Traceback (most recent call last)",
      "\u001b[0;32m<ipython-input-123-94e9027d0952>\u001b[0m in \u001b[0;36m<module>\u001b[0;34m()\u001b[0m\n\u001b[1;32m      1\u001b[0m \u001b[0mfig\u001b[0m\u001b[0;34m,\u001b[0m \u001b[0max\u001b[0m \u001b[0;34m=\u001b[0m \u001b[0mplt\u001b[0m\u001b[0;34m.\u001b[0m\u001b[0msubplots\u001b[0m\u001b[0;34m(\u001b[0m\u001b[0;34m)\u001b[0m\u001b[0;34m\u001b[0m\u001b[0m\n\u001b[0;32m----> 2\u001b[0;31m \u001b[0max\u001b[0m\u001b[0;34m.\u001b[0m\u001b[0mscatter\u001b[0m\u001b[0;34m(\u001b[0m\u001b[0mangles\u001b[0m\u001b[0;34m,\u001b[0m \u001b[0menergies\u001b[0m\u001b[0;34m,\u001b[0m \u001b[0ms\u001b[0m\u001b[0;34m=\u001b[0m\u001b[0;36m1\u001b[0m\u001b[0;34m)\u001b[0m\u001b[0;34m\u001b[0m\u001b[0m\n\u001b[0m\u001b[1;32m      3\u001b[0m \u001b[0max\u001b[0m\u001b[0;34m.\u001b[0m\u001b[0mset_xlabel\u001b[0m\u001b[0;34m(\u001b[0m\u001b[0;34m'Angle'\u001b[0m\u001b[0;34m)\u001b[0m\u001b[0;34m\u001b[0m\u001b[0m\n\u001b[1;32m      4\u001b[0m \u001b[0max\u001b[0m\u001b[0;34m.\u001b[0m\u001b[0mset_ylabel\u001b[0m\u001b[0;34m(\u001b[0m\u001b[0;34mr'Energy'\u001b[0m\u001b[0;34m)\u001b[0m\u001b[0;34m\u001b[0m\u001b[0m\n\u001b[1;32m      5\u001b[0m \u001b[0max\u001b[0m\u001b[0;34m.\u001b[0m\u001b[0mset_yscale\u001b[0m\u001b[0;34m(\u001b[0m\u001b[0;34m'log'\u001b[0m\u001b[0;34m)\u001b[0m\u001b[0;34m\u001b[0m\u001b[0m\n",
      "\u001b[0;32m~/.virtualenvs/srim-implementation-PqLUTV1W/lib/python3.6/site-packages/matplotlib/__init__.py\u001b[0m in \u001b[0;36minner\u001b[0;34m(ax, *args, **kwargs)\u001b[0m\n\u001b[1;32m   1853\u001b[0m                         \u001b[0;34m\"the Matplotlib list!)\"\u001b[0m \u001b[0;34m%\u001b[0m \u001b[0;34m(\u001b[0m\u001b[0mlabel_namer\u001b[0m\u001b[0;34m,\u001b[0m \u001b[0mfunc\u001b[0m\u001b[0;34m.\u001b[0m\u001b[0m__name__\u001b[0m\u001b[0;34m)\u001b[0m\u001b[0;34m,\u001b[0m\u001b[0;34m\u001b[0m\u001b[0m\n\u001b[1;32m   1854\u001b[0m                         RuntimeWarning, stacklevel=2)\n\u001b[0;32m-> 1855\u001b[0;31m             \u001b[0;32mreturn\u001b[0m \u001b[0mfunc\u001b[0m\u001b[0;34m(\u001b[0m\u001b[0max\u001b[0m\u001b[0;34m,\u001b[0m \u001b[0;34m*\u001b[0m\u001b[0margs\u001b[0m\u001b[0;34m,\u001b[0m \u001b[0;34m**\u001b[0m\u001b[0mkwargs\u001b[0m\u001b[0;34m)\u001b[0m\u001b[0;34m\u001b[0m\u001b[0m\n\u001b[0m\u001b[1;32m   1856\u001b[0m \u001b[0;34m\u001b[0m\u001b[0m\n\u001b[1;32m   1857\u001b[0m         inner.__doc__ = _add_data_doc(inner.__doc__,\n",
      "\u001b[0;32m~/.virtualenvs/srim-implementation-PqLUTV1W/lib/python3.6/site-packages/matplotlib/axes/_axes.py\u001b[0m in \u001b[0;36mscatter\u001b[0;34m(self, x, y, s, c, marker, cmap, norm, vmin, vmax, alpha, linewidths, verts, edgecolors, **kwargs)\u001b[0m\n\u001b[1;32m   4241\u001b[0m         \u001b[0my\u001b[0m \u001b[0;34m=\u001b[0m \u001b[0mnp\u001b[0m\u001b[0;34m.\u001b[0m\u001b[0mma\u001b[0m\u001b[0;34m.\u001b[0m\u001b[0mravel\u001b[0m\u001b[0;34m(\u001b[0m\u001b[0my\u001b[0m\u001b[0;34m)\u001b[0m\u001b[0;34m\u001b[0m\u001b[0m\n\u001b[1;32m   4242\u001b[0m         \u001b[0;32mif\u001b[0m \u001b[0mx\u001b[0m\u001b[0;34m.\u001b[0m\u001b[0msize\u001b[0m \u001b[0;34m!=\u001b[0m \u001b[0my\u001b[0m\u001b[0;34m.\u001b[0m\u001b[0msize\u001b[0m\u001b[0;34m:\u001b[0m\u001b[0;34m\u001b[0m\u001b[0m\n\u001b[0;32m-> 4243\u001b[0;31m             \u001b[0;32mraise\u001b[0m \u001b[0mValueError\u001b[0m\u001b[0;34m(\u001b[0m\u001b[0;34m\"x and y must be the same size\"\u001b[0m\u001b[0;34m)\u001b[0m\u001b[0;34m\u001b[0m\u001b[0m\n\u001b[0m\u001b[1;32m   4244\u001b[0m \u001b[0;34m\u001b[0m\u001b[0m\n\u001b[1;32m   4245\u001b[0m         \u001b[0;32mif\u001b[0m \u001b[0ms\u001b[0m \u001b[0;32mis\u001b[0m \u001b[0;32mNone\u001b[0m\u001b[0;34m:\u001b[0m\u001b[0;34m\u001b[0m\u001b[0m\n",
      "\u001b[0;31mValueError\u001b[0m: x and y must be the same size"
     ]
    },
    {
     "data": {
      "image/png": "[encoded data removed]",
      "text/plain": [
       "<Figure size 432x288 with 1 Axes>"
      ]
     },
     "metadata": {},
     "output_type": "display_data"
    }
   ],
   "source": [
    "fig, ax = plt.subplots()\n",
    "ax.scatter(angles, energies, s=1)\n",
    "ax.set_xlabel('Angle')\n",
    "ax.set_ylabel(r'Energy')\n",
    "ax.set_yscale('log')\n",
    "ax.set_title('Electronic Energy Loss Curve')"
   ]
  },
  {
   "cell_type": "code",
   "execution_count": 130,
   "metadata": {},
   "outputs": [
    {
     "data": {
      "text/plain": [
       "<matplotlib.axes._subplots.AxesSubplot at 0x7fdac8c170f0>"
      ]
     },
     "execution_count": 130,
     "metadata": {},
     "output_type": "execute_result"
    },
    {
     "data": {
      "image/png": "[encoded data removed]",
      "text/plain": [
       "<Figure size 432x288 with 1 Axes>"
      ]
     },
     "metadata": {},
     "output_type": "display_data"
    }
   ],
   "source": [
    "fig, ax = plt.subplots()\n",
    "ax.hist(angles[~np.isnan(angles)], bins=100)\n",
    "ax"
   ]
  },
  {
   "cell_type": "code",
   "execution_count": null,
   "metadata": {},
   "outputs": [],
   "source": []
  }
 ],
 "metadata": {
  "kernelspec": {
   "display_name": "Python 3",
   "language": "python",
   "name": "python3"
  },
  "language_info": {
   "codemirror_mode": {
    "name": "ipython",
    "version": 3
   },
   "file_extension": ".py",
   "mimetype": "text/x-python",
   "name": "python",
   "nbconvert_exporter": "python",
   "pygments_lexer": "ipython3",
   "version": "3.6.5"
  }
 },
 "nbformat": 4,
 "nbformat_minor": 2
}
