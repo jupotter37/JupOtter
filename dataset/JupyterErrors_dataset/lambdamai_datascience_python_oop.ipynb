{
 "cells": [
  {
   "cell_type": "markdown",
   "metadata": {},
   "source": [
    "# ООП в Python"
   ]
  },
  {
   "cell_type": "markdown",
   "metadata": {},
   "source": [
    "\n",
    "## Полиморфизм\n",
    "\n",
    "Полиморфизм можно перевести как множество форм. В ООП под полиморфизмом понимается следующее. Объекты разных классов, с разной внутренней реализацией, то есть программным кодом, могут иметь \"одинаковые\" методы. На самом деле у методов совпадают только имена, а вложенный в них код (то, что они делают) различен. Вот и получается, что у одного имени как бы множество форм.\n",
    "\n",
    "Например, для чисел есть операция сложения, обозначаемая знаком +. Однако мы можем определить класс, объекты которого также будут поддерживать операцию, обозначаемую этим знаком. Но это вовсе не значит, что объекты должны быть числами, и будет получаться какая-то сумма. Операция + для объектов нашего класса может значить что-то иное. Но интерфейс, в данном случае это знак +, у чисел и нашего класса будет одинаков. А полиморфизм проявляется во внутренней реализации и результате операции.\n",
    "Полиморфизм полезен не только тем, что дает возможность объектам пользовательских классов участвовать в стандартных операциях. Если у объектов разных классов есть одноименный метод, то коллекция таких разнородных объектов может быть обработана в одном цикле.\n",
    "\n",
    "### Пример:\n",
    "\n",
    "В качестве примера предположим, что нужно реализовать приложение с базой данных сотрудников. Имеет смысл начать с создания универсального суперкласса, в котором определены стандартные линии поведения, общие для всех типов сотрудников в организации."
   ]
  },
  {
   "cell_type": "code",
   "execution_count": null,
   "metadata": {},
   "outputs": [],
   "source": [
    "class Employee:\n",
    "    # Универсальный суперкласс сотрудников\n",
    "    def computeSalary (self) : ... # Cтандартный расчет зарплаты"
   ]
  },
  {
   "cell_type": "markdown",
   "metadata": {},
   "source": [
    "После написания кода общего поведения можно специализировать его для каждого индивидуального типа сотрудника, отражая его отличия от нормы. То есть можно создавать подклассы, настраивающие только те фрагменты поведения, которые отличаются в зависимости от типа сотрудника; остальное поведение будет унаследовано от более универсального класса. Скажем, если с инженерами связано уникальное правило подсчета заработной платы, то можно заменить в подклассе только один метод:"
   ]
  },
  {
   "cell_type": "code",
   "execution_count": null,
   "metadata": {},
   "outputs": [],
   "source": [
    "class Engineer(Employee ) : # Специализированный подкласс инженеров \n",
    "    def computeSalary(self) : ... # Специальный метод расчета зарплаты \n",
    "        return super().computeSalary(self) * 2"
   ]
  },
  {
   "cell_type": "markdown",
   "metadata": {},
   "source": [
    "Из-за того, что версия `computeSalary` находится ниже в дереве классов, она заместит (переопределит) универсальную версию в `Employee`. Теперь можно создавать экземпляры разновидностей классов сотрудников, к которым принадлежат реальные сотрудники, чтобы получить корректное поведение:"
   ]
  },
  {
   "cell_type": "code",
   "execution_count": null,
   "metadata": {},
   "outputs": [],
   "source": [
    "bob = Employee() # Стандартное поведение\n",
    "sue = Employee() # Стандартное поведение\n",
    "tom = Engineer() # Специальный расчет заработной платы"
   ]
  },
  {
   "cell_type": "markdown",
   "metadata": {},
   "source": [
    "Обратите внимание, что можно создавать экземпляры любого класса в дереве (за исключением абстрактных), а не только классов в нижней части — класс, из которого вы создаете экземпляр, определяет уровень, откуда будет начинаться поиск атрибутов, и соответственно то, какие версии методов он будет задействовать. В конце концов, эти объекты могут оказаться встроенными в более крупный контейнерный объект (например, список или экземпляр другого класса), который представляет отдел или компанию. Когда нужно будет запросить заработные платы сотрудников, они будут рассчитываться в соответствии с классами, из которых создавались объекты, благодаря принципам поиска в иерархии наследования:"
   ]
  },
  {
   "cell_type": "code",
   "execution_count": null,
   "metadata": {},
   "outputs": [],
   "source": [
    "company = [bob, sue, tom] # Список сотрудников for emp in company:\n",
    "for emp in company:\n",
    "    print( emp.computeSalary() ) # Метод computeSalary() из соответствующего класса"
   ]
  },
  {
   "cell_type": "markdown",
   "metadata": {},
   "source": [
    "# Класс\n",
    "\n",
    "Создавать классы в Python очень просто:"
   ]
  },
  {
   "cell_type": "code",
   "execution_count": null,
   "metadata": {},
   "outputs": [],
   "source": [
    "class SomeClass(object):\n",
    "  # поля и методы класса SomeClass"
   ]
  },
  {
   "cell_type": "markdown",
   "metadata": {},
   "source": [
    "Классы-родители перечисляются в скобках через запятую:"
   ]
  },
  {
   "cell_type": "code",
   "execution_count": null,
   "metadata": {},
   "outputs": [],
   "source": [
    "class SomeClass(ParentClass1, ParentClass2, …):\n",
    "  # поля и методы класса SomeClass"
   ]
  },
  {
   "cell_type": "markdown",
   "metadata": {},
   "source": [
    "Свойства классов устанавливаются с помощью простого присваивания:"
   ]
  },
  {
   "cell_type": "code",
   "execution_count": 3,
   "metadata": {},
   "outputs": [],
   "source": [
    "class SomeClass(object):\n",
    "    attr1 = 42\n",
    "    attr2 = \"Hello, World\""
   ]
  },
  {
   "cell_type": "markdown",
   "metadata": {},
   "source": [
    "Методы объявляются как простые функции:"
   ]
  },
  {
   "cell_type": "code",
   "execution_count": null,
   "metadata": {},
   "outputs": [],
   "source": [
    "class SomeClass(object):\n",
    "    def method1(self, x):\n",
    "        # код метода\n",
    "        self.var = 1\n",
    "    def method2(self, x):\n",
    "        print(self.var)"
   ]
  },
  {
   "cell_type": "markdown",
   "metadata": {},
   "source": [
    "Обратите внимание на первый аргумент – `self` – общепринятое имя для ссылки на объект, в контексте которого вызывается метод. Этот параметр обязателен и отличает метод класса от обычной функции.\n",
    "\n",
    "Все пользовательские атрибуты сохраняются в атрибуте `__dict__`, который является словарем."
   ]
  },
  {
   "cell_type": "markdown",
   "metadata": {},
   "source": [
    "## Экземпляры классов\n",
    "\n",
    "Инстанцировать класс в Python тоже очень просто:"
   ]
  },
  {
   "cell_type": "code",
   "execution_count": 5,
   "metadata": {},
   "outputs": [
    {
     "data": {
      "text/plain": [
       "42"
      ]
     },
     "execution_count": 5,
     "metadata": {},
     "output_type": "execute_result"
    }
   ],
   "source": [
    "class SomeClass(object):\n",
    "    attr1 = 42\n",
    "\n",
    "    def method1(self, x):\n",
    "        return 2*x\n",
    "\n",
    "obj = SomeClass()\n",
    "obj.method1(6) # 12\n",
    "obj.attr1 # 42"
   ]
  },
  {
   "cell_type": "markdown",
   "metadata": {},
   "source": [
    "Можно создавать разные инстансы одного класса с заранее заданными параметрами с помощью инициализатора (специальный метод `__init__`). Для примера возьмем класс `Point` (точка пространства), объекты которого должны иметь определенные координаты:\n",
    "\n"
   ]
  },
  {
   "cell_type": "code",
   "execution_count": 6,
   "metadata": {},
   "outputs": [
    {
     "data": {
      "text/plain": [
       "(13, 14, 15)"
      ]
     },
     "execution_count": 6,
     "metadata": {},
     "output_type": "execute_result"
    }
   ],
   "source": [
    "class Point(object):\n",
    "    def __init__(self, x, y, z):\n",
    "        self.coord = (x, y, z)\n",
    "\n",
    "p = Point(13, 14, 15)\n",
    "p.coord # (13, 14, 15)"
   ]
  },
  {
   "cell_type": "markdown",
   "metadata": {},
   "source": [
    "Подробнее о других специальных методах жизненного цикла объектов поговорим чуть ниже.\n",
    "\n",
    "## Динамическое изменение\n",
    "\n",
    "Можно обойтись даже без определения атрибутов и методов:\n",
    "\n"
   ]
  },
  {
   "cell_type": "code",
   "execution_count": 7,
   "metadata": {},
   "outputs": [],
   "source": [
    "class SomeClass(object):\n",
    "    pass"
   ]
  },
  {
   "cell_type": "markdown",
   "metadata": {},
   "source": [
    "Кажется, этот класс совершенно бесполезен? Отнюдь. Классы в Python могут динамически изменяться после определения:"
   ]
  },
  {
   "cell_type": "code",
   "execution_count": 8,
   "metadata": {},
   "outputs": [
    {
     "data": {
      "text/plain": [
       "25"
      ]
     },
     "execution_count": 8,
     "metadata": {},
     "output_type": "execute_result"
    }
   ],
   "source": [
    "class SomeClass(object):\n",
    "    pass\n",
    "\n",
    "def squareMethod(self, x):\n",
    "    return x*x\n",
    "\n",
    "SomeClass.square = squareMethod\n",
    "obj = SomeClass()\n",
    "obj.square(5) # 25"
   ]
  },
  {
   "cell_type": "markdown",
   "metadata": {},
   "source": [
    "## Статические и классовые методы\n",
    "\n",
    "Для создания статических методов в Python предназначен декоратор `@staticmethod`. У них нет обязательных параметров-ссылок вроде `self`. Доступ к таким методам можно получить как из экземпляра класса, так и из самого  класса:"
   ]
  },
  {
   "cell_type": "code",
   "execution_count": null,
   "metadata": {},
   "outputs": [],
   "source": [
    "class SomeClass(object):\n",
    "    @staticmethod\n",
    "    def hello():\n",
    "        print(\"Hello, world\")\n",
    "\n",
    "SomeClass.hello() # Hello, world\n",
    "obj = SomeClass()\n",
    "obj.hello() # Hello, world"
   ]
  },
  {
   "cell_type": "markdown",
   "metadata": {},
   "source": [
    "Еще есть так называемые методы классов. Они аналогичны методам экземпляров, но выполняются не в контексте объекта, а в контексте самого класса  (классы – это тоже объекты). Такие методы создаются с помощью декоратора `@classmethod` и требуют обязательную ссылку на класс `(cls)`."
   ]
  },
  {
   "cell_type": "code",
   "execution_count": 9,
   "metadata": {},
   "outputs": [
    {
     "name": "stdout",
     "output_type": "stream",
     "text": [
      "Hello, класс SomeClass\n"
     ]
    }
   ],
   "source": [
    "class SomeClass(object):\n",
    "    @classmethod\n",
    "    def hello(cls):\n",
    "        print('Hello, класс {}'.format(cls.__name__))\n",
    "\n",
    "SomeClass.hello() # Hello, класс SomeClass"
   ]
  },
  {
   "cell_type": "markdown",
   "metadata": {},
   "source": [
    "Статические и классовые методы доступны без инстанцирования.\n",
    "\n",
    "\n",
    "## Специальные методы\n",
    "\n",
    "### Жизненный цикл объекта\n",
    "\n",
    "С инициализатором объектов `__init__` вы уже знакомы. Кроме него есть еще и метод `__new__`, который непосредственно создает новый экземпляр класса. Первым параметром он принимает ссылку на сам класс:"
   ]
  },
  {
   "cell_type": "code",
   "execution_count": 10,
   "metadata": {},
   "outputs": [
    {
     "name": "stdout",
     "output_type": "stream",
     "text": [
      "new\n",
      "init\n"
     ]
    }
   ],
   "source": [
    "class SomeClass(object):\n",
    "    def __new__(cls):\n",
    "        print(\"new\")\n",
    "        return super(SomeClass, cls).__new__(cls)\n",
    "\n",
    "    def __init__(self):\n",
    "        print(\"init\")\n",
    "\n",
    "obj = SomeClass()"
   ]
  },
  {
   "cell_type": "markdown",
   "metadata": {},
   "source": [
    "Метод `__new__` может быть очень полезен для решения ряда задач, например, создания иммутабельных объектов или реализации паттерна Синглтон:"
   ]
  },
  {
   "cell_type": "code",
   "execution_count": 12,
   "metadata": {},
   "outputs": [
    {
     "data": {
      "text/plain": [
       "True"
      ]
     },
     "execution_count": 12,
     "metadata": {},
     "output_type": "execute_result"
    }
   ],
   "source": [
    "class Singleton(object):\n",
    "    obj = None # единственный экземпляр класса\n",
    "\n",
    "    def __new__(cls, *args, **kwargs):\n",
    "        if cls.obj is None:\n",
    "            cls.obj = object.__new__(cls, *args, **kwargs)\n",
    "        return cls.obj\n",
    "\n",
    "single = Singleton()\n",
    "single.attr = 42\n",
    "newSingle = Singleton()\n",
    "newSingle.attr # 42\n",
    "newSingle is single # true"
   ]
  },
  {
   "cell_type": "markdown",
   "metadata": {},
   "source": [
    "В Python вы можете поучаствовать не только в создании объекта, но и в его удалении. Специально для этого предназначен метод-деструктор `__del__`"
   ]
  },
  {
   "cell_type": "code",
   "execution_count": 13,
   "metadata": {},
   "outputs": [
    {
     "name": "stdout",
     "output_type": "stream",
     "text": [
      "удаляется объект John класса SomeClass\n"
     ]
    }
   ],
   "source": [
    "class SomeClass(object):\n",
    "    def __init__(self, name):\n",
    "        self.name = name\n",
    "\n",
    "    def __del__(self):\n",
    "        print('удаляется объект {} класса SomeClass'.format(self.name))\n",
    "\n",
    "obj = SomeClass(\"John\")\n",
    "del obj # удаляется объект John класса SomeClas"
   ]
  },
  {
   "cell_type": "markdown",
   "metadata": {},
   "source": [
    "На практике деструктор используется редко, в основном для тех ресурсов, которые требуют явного освобождения памяти при удалении объекта. Не следует совершать в нем сложные вычисления.\n",
    "\n",
    "## Объект как функция\n",
    "\n",
    "Объект класса может имитировать стандартную функцию, то есть при желании его можно \"вызвать\" с параметрами. За эту возможность отвечает специальный метод `__call__`:\n",
    "\n"
   ]
  },
  {
   "cell_type": "code",
   "execution_count": 14,
   "metadata": {},
   "outputs": [
    {
     "data": {
      "text/plain": [
       "361"
      ]
     },
     "execution_count": 14,
     "metadata": {},
     "output_type": "execute_result"
    }
   ],
   "source": [
    "class Multiplier:\n",
    "    def __call__(self, x, y):\n",
    "        return x*y\n",
    "\n",
    "multiply = Multiplier(config=\"./path/\")\n",
    "multiply(19, 19) # 361\n",
    "# то же самое\n",
    "multiply.__call__(19, 19) # 361"
   ]
  },
  {
   "cell_type": "markdown",
   "metadata": {},
   "source": [
    "## Имитация контейнеров\n",
    "\n",
    "Вы знакомы с функцией `len()`, которая умеет вычислять длину списков значений?"
   ]
  },
  {
   "cell_type": "code",
   "execution_count": 15,
   "metadata": {},
   "outputs": [
    {
     "data": {
      "text/plain": [
       "2"
      ]
     },
     "execution_count": 15,
     "metadata": {},
     "output_type": "execute_result"
    }
   ],
   "source": [
    "list = ['hello', 'world']\n",
    "len(list) # 2"
   ]
  },
  {
   "cell_type": "markdown",
   "metadata": {},
   "source": [
    "Но для объектов вашего пользовательского класса это не пройдет:"
   ]
  },
  {
   "cell_type": "code",
   "execution_count": 16,
   "metadata": {},
   "outputs": [
    {
     "ename": "TypeError",
     "evalue": "object of type 'Collection' has no len()",
     "output_type": "error",
     "traceback": [
      "\u001b[0;31m---------------------------------------------------------------------------\u001b[0m",
      "\u001b[0;31mTypeError\u001b[0m                                 Traceback (most recent call last)",
      "Cell \u001b[0;32mIn [16], line 6\u001b[0m\n\u001b[1;32m      3\u001b[0m         \u001b[38;5;28mself\u001b[39m\u001b[38;5;241m.\u001b[39mlist \u001b[38;5;241m=\u001b[39m \u001b[38;5;28mlist\u001b[39m\n\u001b[1;32m      5\u001b[0m collection \u001b[38;5;241m=\u001b[39m Collection(\u001b[38;5;28mlist\u001b[39m)\n\u001b[0;32m----> 6\u001b[0m \u001b[38;5;28;43mlen\u001b[39;49m\u001b[43m(\u001b[49m\u001b[43mcollection\u001b[49m\u001b[43m)\u001b[49m\n",
      "\u001b[0;31mTypeError\u001b[0m: object of type 'Collection' has no len()"
     ]
    }
   ],
   "source": [
    "class Collection:\n",
    "    def __init__(self, list):\n",
    "        self.list = list\n",
    "\n",
    "collection = Collection(list)\n",
    "len(collection)"
   ]
  },
  {
   "cell_type": "markdown",
   "metadata": {},
   "source": [
    "Этот код выдаст ошибку `object of type 'Collection' has no len().` Интерпретатор просто не понимает, как ему посчитать длину `collection`\n",
    "\n",
    "Решить эту проблему поможет специальный метод `__len__`:\n",
    "\n"
   ]
  },
  {
   "cell_type": "code",
   "execution_count": null,
   "metadata": {},
   "outputs": [],
   "source": [
    "class Collection:\n",
    "    def __init__(self, list):\n",
    "        self.list = list\n",
    "    def __getItem__(self,key):\n",
    "        return self.list[key] \n",
    "    def __len__(self):\n",
    "        return len(self.list)\n",
    "\n",
    "collection = Collection([1, 2, 3])\n",
    "len(collection) # 3"
   ]
  },
  {
   "cell_type": "markdown",
   "metadata": {},
   "source": [
    "Можно работать с объектом как с коллекцией значений, определив для него интерфейс классического списка с помощью специальных методов:\n",
    "\n",
    "- `__getItem__` – реализация синтаксиса `obj[key]`, получение значения по ключу;\n",
    "- `__setItem__` – установка значения для ключа;\n",
    "- `__delItem__` – удаление значения;\n",
    "- `__contains__` – проверка наличия значения."
   ]
  },
  {
   "cell_type": "markdown",
   "metadata": {},
   "source": [
    "## Имитация числовых типов\n",
    "\n",
    "Ваши объекты могут участвовать в математических операциях, если у них определены  специальные методы. Например, `__mul__` позволяет умножать объект на число по определенной программистом логике:"
   ]
  },
  {
   "cell_type": "code",
   "execution_count": 17,
   "metadata": {},
   "outputs": [
    {
     "name": "stdout",
     "output_type": "stream",
     "text": [
      "4200\n"
     ]
    }
   ],
   "source": [
    "class SomeClass:\n",
    "    def __init__(self, value):\n",
    "        self.value = value\n",
    "\n",
    "    def __mul__(self, number):\n",
    "        return self.value*number\n",
    "\n",
    "obj = SomeClass(42)\n",
    "print(obj * 100) # 4200"
   ]
  },
  {
   "cell_type": "markdown",
   "metadata": {},
   "source": [
    "## Другие специальные методы\n",
    "\n",
    "В Python существует огромное количество специальных методов, расширяющих возможности пользовательских классов. Например, можно определить вид объекта на печати, его \"официальное\" строковое представление или поведение при сравнениях. Узнать о них подробнее вы можете в официальной документации языка.\n",
    "\n",
    "Эти методы могут эмулировать поведение встроенных классов, но при этом они необязательно существуют у самих встроенных классов. Например, у объектов `int` при сложении не вызывается метод `__add__`. Таким образом, их нельзя переопределить"
   ]
  },
  {
   "cell_type": "markdown",
   "metadata": {},
   "source": [
    "## Строковое представление объекта\n",
    "\n",
    "\n",
    "Начиная с 3-й версии в языке программирования Python все классы неявно имеют один общий суперкласс - `object` и все классы по умолчанию наследуют его методы.\n",
    "\n",
    "Одним из наиболее используемых методов класса `object` является метод `__str__()`. Когда необходимо получить строковое представление объекта или вывести объект в виде строки, то Python как раз вызывает этот метод. И при определении класса хорошей практикой считается переопределение этого метода.\n",
    "\n",
    "К примеру, возьмем класс `Person` и выведем его строковое представление:"
   ]
  },
  {
   "cell_type": "code",
   "execution_count": 18,
   "metadata": {},
   "outputs": [
    {
     "name": "stdout",
     "output_type": "stream",
     "text": [
      "<__main__.Person object at 0x108bb1c00>\n"
     ]
    }
   ],
   "source": [
    "class Person:\n",
    "    def __init__(self, name, age):\n",
    "        self.name = name  # устанавливаем имя\n",
    "        self.age = age  # устанавливаем возраст\n",
    "\n",
    "    def display_info(self):\n",
    "        print(f\"Name: {self.name}  Age: {self.age}\")\n",
    "\n",
    "\n",
    "tom = Person(\"Tom\", 23)\n",
    "print(tom)"
   ]
  },
  {
   "cell_type": "markdown",
   "metadata": {},
   "source": [
    "Это не очень информативная информация об объекте. Мы, конечно, можем выйти из положения, определив в классе Person дополнительный метод, который выводит данные объекта - в примере выше это метод `display_info`.\n",
    "\n",
    "Но есть и другой выход - определим в классе `Person` метод `__str__()` (по два подчеркивания с каждой стороны):"
   ]
  },
  {
   "cell_type": "code",
   "execution_count": 19,
   "metadata": {},
   "outputs": [
    {
     "name": "stdout",
     "output_type": "stream",
     "text": [
      "Name: Tom  Age: 23\n",
      "Name: Tom  Age: 23\n"
     ]
    }
   ],
   "source": [
    "class Person:\n",
    "    def __init__(self, name, age):\n",
    "        self.name = name  # устанавливаем имя\n",
    "        self.age = age  # устанавливаем возраст\n",
    " \n",
    "    def display_info(self):\n",
    "        print(self)\n",
    "        # print(self.__str__())     # или так\n",
    " \n",
    "    def __str__(self):\n",
    "        return f\"Name: {self.name}  Age: {self.age}\"\n",
    " \n",
    " \n",
    "tom = Person(\"Tom\", 23)\n",
    "print(tom)      # Name: Tom  Age: 23\n",
    "tom.display_info()  # Name: Tom  Age: 23"
   ]
  },
  {
   "cell_type": "markdown",
   "metadata": {},
   "source": [
    "Метод `__str__` должен возвращать строку. И в данном случае мы возвращаем базовую информацию о человеке. Если нам потребуется использовать эту информацию в других методах класса, то мы можем использовать выражение `self.__str__()`"
   ]
  },
  {
   "cell_type": "markdown",
   "metadata": {},
   "source": [
    "## Переопределение функционала базового класса"
   ]
  },
  {
   "cell_type": "code",
   "execution_count": 20,
   "metadata": {},
   "outputs": [],
   "source": [
    "class Person:\n",
    " \n",
    "    def __init__(self, name):\n",
    "        self.__name = name   # имя человека\n",
    " \n",
    "    @property\n",
    "    def name(self):\n",
    "        return self.__name\n",
    " \n",
    "    def display_info(self):\n",
    "        print(f\"Name: {self.__name} \")\n",
    " \n",
    " \n",
    "class Employee(Person):\n",
    " \n",
    "    def work(self):\n",
    "        print(f\"{self.name} works\")"
   ]
  },
  {
   "cell_type": "markdown",
   "metadata": {},
   "source": [
    "Что, если мы хотим что-то изменить из этого функционала? Например, добавить работнику через конструктор, новый атрибут, который будет хранить компанию, где он работает или изменить реализацию метода `display_info`. Python позволяет переопределить функционал базового класса.\n",
    "\n",
    "Например, изменим классы следующим образом:"
   ]
  },
  {
   "cell_type": "code",
   "execution_count": 22,
   "metadata": {},
   "outputs": [
    {
     "name": "stdout",
     "output_type": "stream",
     "text": [
      "Name: Tom\n",
      "Company: Microsoft\n"
     ]
    }
   ],
   "source": [
    "class Person:\n",
    " \n",
    "    def __init__(self, name):\n",
    "        self.__name = name   # имя человека\n",
    " \n",
    "    @property\n",
    "    def name(self):\n",
    "        return self.__name\n",
    " \n",
    "    def display_info(self):\n",
    "        print(f\"Name: {self.__name}\")\n",
    " \n",
    " \n",
    "class Employee(Person):\n",
    " \n",
    "    def __init__(self, name, company):\n",
    "        super().__init__(name)\n",
    "        self.company = company\n",
    " \n",
    "    def display_info(self):\n",
    "        super().display_info()\n",
    "        print(f\"Company: {self.company}\")\n",
    " \n",
    "    def work(self):\n",
    "        print(f\"{self.name} works\")\n",
    " \n",
    " \n",
    "tom = Employee(\"Tom\", \"Microsoft\")\n",
    "tom.display_info()"
   ]
  },
  {
   "cell_type": "markdown",
   "metadata": {},
   "source": [
    "Здесь в классе `Employee` добавляется новый атрибут - `self.company`, который хранит компания работника. Соответственно метод `__init__()` принимает три параметра: второй для установки имени и третий для установки компании. Но если в базом классе определен конструктор с помощью метода `__init__`, и мы хотим в производном классе изменить логику конструктора, то в конструкторе производного класса мы должны вызвать конструктор базового класса. То есть в конструкторе Employee надо вызвать конструктор класса `Person`.\n",
    "\n",
    "Для обращения к базовому классу используется выражение `super()`. Так, в конструкторе `Employee` выполняется вызов:"
   ]
  },
  {
   "cell_type": "code",
   "execution_count": null,
   "metadata": {},
   "outputs": [],
   "source": [
    "super().__init__(name)"
   ]
  },
  {
   "cell_type": "markdown",
   "metadata": {},
   "source": [
    "Это выражение будет представлять вызов конструктора класса `Person`, в который передается имя работника. И это логично. Ведь имя работника устанавливается именно в конструкторе класса `Person`. В самом конструкторе `Employee` лишь устанавливаем свойство `company`.\n",
    "\n",
    "Кроме того, в классе `Employee` переопределяется метод `display_info()` - в него добавляется вывод компании работника. Причем мы могли определить этот метод следующим образом:"
   ]
  },
  {
   "cell_type": "code",
   "execution_count": null,
   "metadata": {},
   "outputs": [],
   "source": [
    "def display_info(self):\n",
    "    print(f\"Name: {self.name}\")\n",
    "    print(f\"Company: {self.company}\")"
   ]
  },
  {
   "cell_type": "markdown",
   "metadata": {},
   "source": [
    "Но тогда строка вывода имени повторяла бы код из класса `Person`. Если эта часть кода совпадает с методом из класса `Person`, то нет смысла повторяться, поэтому опять же с помощью выражения `super()` обращаемся к реализации метода `display_info` в классе `Person`:"
   ]
  },
  {
   "cell_type": "code",
   "execution_count": null,
   "metadata": {},
   "outputs": [],
   "source": [
    "def display_info(self):\n",
    "    super().display_info()      # обращение к методу display_info в классе Person\n",
    "    print(f\"Company: {self.company}\")"
   ]
  },
  {
   "cell_type": "markdown",
   "metadata": {},
   "source": [
    "Затем мы можем вызвать вызвать конструктор `Employee` для создания объекта этого класса и вызвать метод `display_info:`"
   ]
  },
  {
   "cell_type": "code",
   "execution_count": 23,
   "metadata": {},
   "outputs": [
    {
     "name": "stdout",
     "output_type": "stream",
     "text": [
      "Name: Tom\n",
      "Company: Microsoft\n"
     ]
    }
   ],
   "source": [
    "tom = Employee(\"Tom\", \"Microsoft\")\n",
    "tom.display_info()"
   ]
  },
  {
   "cell_type": "markdown",
   "metadata": {},
   "source": [
    "## Проверка типа объекта\n",
    "\n",
    "При работе с объектами бывает необходимо в зависимости от их типа выполнить те или иные операции. И с помощью встроенной функции `isinstance()` мы можем проверить тип объекта. Эта функция принимает два параметра:"
   ]
  },
  {
   "cell_type": "code",
   "execution_count": 28,
   "metadata": {},
   "outputs": [
    {
     "data": {
      "text/plain": [
       "True"
      ]
     },
     "execution_count": 28,
     "metadata": {},
     "output_type": "execute_result"
    }
   ],
   "source": [
    "isinstance(object, type)"
   ]
  },
  {
   "cell_type": "markdown",
   "metadata": {},
   "source": [
    "Первый параметр представляет объект, а второй - тип, на принадлежность к которому выполняется проверка. Если объект представляет указанный тип, то функция возвращает `True`. Например, возьмем следующую иерархию классов `Person-Employee/Student`:"
   ]
  },
  {
   "cell_type": "code",
   "execution_count": 24,
   "metadata": {},
   "outputs": [
    {
     "name": "stdout",
     "output_type": "stream",
     "text": [
      "Tom works\n",
      "Bob studies\n",
      "Sam does nothing\n"
     ]
    }
   ],
   "source": [
    "class Person:\n",
    " \n",
    "    def __init__(self, name):\n",
    "        self.__name = name   # имя человека\n",
    " \n",
    "    @property\n",
    "    def name(self):\n",
    "        return self.__name\n",
    " \n",
    "    def do_nothing(self):\n",
    "        print(f\"{self.name} does nothing\")\n",
    " \n",
    " \n",
    "#  класс работника\n",
    "class Employee(Person):\n",
    " \n",
    "    def work(self):\n",
    "        print(f\"{self.name} works\")\n",
    " \n",
    " \n",
    "#  класс студента\n",
    "class Student(Person):\n",
    " \n",
    "    def study(self):\n",
    "        print(f\"{self.name} studies\")\n",
    " \n",
    " \n",
    "def act(person):\n",
    "    if isinstance(person, Student):\n",
    "        person.study()\n",
    "    elif isinstance(person, Employee):\n",
    "        person.work()\n",
    "    elif isinstance(person, Person):\n",
    "        person.do_nothing()\n",
    " \n",
    " \n",
    "tom = Employee(\"Tom\")\n",
    "bob = Student(\"Bob\")\n",
    "sam = Person(\"Sam\")\n",
    " \n",
    "act(tom)\n",
    "act(bob)\n",
    "act(sam)"
   ]
  },
  {
   "cell_type": "markdown",
   "metadata": {},
   "source": [
    "Здесь класс `Employee` определяет метод `work()`, а класс `Student` - метод `study`.\n",
    "\n",
    "Здесь также определена функция `act`, которая проверяет с помощью функции `isinstance`, представляет ли параметр person определнный тип, и зависимости от результатов проверки обращается к определенному методу объекта."
   ]
  },
  {
   "cell_type": "markdown",
   "metadata": {},
   "source": [
    "`@property` декоратор может быть использован для определения методов в классе , которые действуют как атрибуты. Используя функцию в качестве декоратора можно легко создавать вычисляемые свойства только для чтения\n",
    "\n",
    "Объект свойства также предоставляет методы `getter`, `setter`, `deleter`, которые можно использовать в качестве декораторов для указания функций реализующих получение, установку и удаление свойства соответственно. Следующий код эквивалентен коду из первого примера:"
   ]
  },
  {
   "cell_type": "code",
   "execution_count": 37,
   "metadata": {},
   "outputs": [],
   "source": [
    "  class Mine(object):\n",
    "\n",
    "        def __init__(self):\n",
    "            self._x = None\n",
    "\n",
    "        x = property()\n",
    "\n",
    "        @x.getter\n",
    "        def x(self):\n",
    "            \"\"\"Это свойство x.\"\"\"\n",
    "            print(self._x, \"return\")\n",
    "            return self._x\n",
    "\n",
    "        @x.setter\n",
    "        def x(self, value):\n",
    "            print(self._x, \"set\")\n",
    "            self._x = value\n",
    "\n",
    "        @x.deleter\n",
    "        def x(self):\n",
    "            print(self._x, \"delete\")\n",
    "            self._x = 'No more'"
   ]
  },
  {
   "cell_type": "code",
   "execution_count": 38,
   "metadata": {},
   "outputs": [],
   "source": [
    "obj = Mine()"
   ]
  },
  {
   "cell_type": "code",
   "execution_count": 39,
   "metadata": {},
   "outputs": [
    {
     "name": "stdout",
     "output_type": "stream",
     "text": [
      "None set\n"
     ]
    }
   ],
   "source": [
    "obj.x = 1"
   ]
  },
  {
   "cell_type": "code",
   "execution_count": 40,
   "metadata": {},
   "outputs": [
    {
     "name": "stdout",
     "output_type": "stream",
     "text": [
      "1 return\n"
     ]
    },
    {
     "data": {
      "text/plain": [
       "1"
      ]
     },
     "execution_count": 40,
     "metadata": {},
     "output_type": "execute_result"
    }
   ],
   "source": [
    "obj.x"
   ]
  },
  {
   "cell_type": "code",
   "execution_count": 41,
   "metadata": {},
   "outputs": [
    {
     "name": "stdout",
     "output_type": "stream",
     "text": [
      "1 delete\n"
     ]
    }
   ],
   "source": [
    "del obj.x"
   ]
  },
  {
   "cell_type": "code",
   "execution_count": null,
   "metadata": {},
   "outputs": [],
   "source": []
  }
 ],
 "metadata": {
  "kernelspec": {
   "display_name": "Python 3.10.6 64-bit",
   "language": "python",
   "name": "python3"
  },
  "language_info": {
   "codemirror_mode": {
    "name": "ipython",
    "version": 3
   },
   "file_extension": ".py",
   "mimetype": "text/x-python",
   "name": "python",
   "nbconvert_exporter": "python",
   "pygments_lexer": "ipython3",
   "version": "3.10.6"
  },
  "orig_nbformat": 4,
  "vscode": {
   "interpreter": {
    "hash": "b0fa6594d8f4cbf19f97940f81e996739fb7646882a419484c72d19e05852a7e"
   }
  }
 },
 "nbformat": 4,
 "nbformat_minor": 2
}
