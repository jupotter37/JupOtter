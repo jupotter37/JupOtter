{
 "cells": [
  {
   "cell_type": "markdown",
   "metadata": {},
   "source": [
    "# Introduction to SymPDE"
   ]
  },
  {
   "cell_type": "markdown",
   "metadata": {},
   "source": [
    "[SymPDE](https://github.com/pyccel/sympde) is a Symbolic Library for Partial Differential Equations and more precisely for variational problems. You can install it using\n",
    "```shell\n",
    "> pip3 install sympde\n",
    "```\n",
    "\n",
    "**SymPDE** presents different topological concepts that are useful when you are dealing with Partial Differential Equations. One of the main novelties is allowing semantic capturing of mathematical expressions, and hence reducing bugs. **SymPDE** can be viewed as a static compiler for PDEs, but rather than generating a decorated AST, it provides an AST that you can later on decorate.\n",
    "\n",
    "The important notions in **SymPDE** are:\n",
    "\n",
    "* Geometry\n",
    "* Function space\n",
    "* Expressions, like Linear and Bilinear Forms\n",
    "* Equation"
   ]
  },
  {
   "cell_type": "markdown",
   "metadata": {},
   "source": [
    "## 1. Geometry"
   ]
  },
  {
   "cell_type": "markdown",
   "metadata": {},
   "source": [
    "The concept of a geometry is not really defined as in a standard library. it is more a mathematical concept, up to a homeomorphism.\n",
    "\n",
    "**SymPDE** provides some basic geometries.\n",
    "Typical imports are the following ones:"
   ]
  },
  {
   "cell_type": "code",
   "execution_count": 1,
   "metadata": {},
   "outputs": [],
   "source": [
    "from sympde.topology import Line\n",
    "from sympde.topology import Square\n",
    "from sympde.topology import Cube\n",
    "from sympde.topology import Domain"
   ]
  },
  {
   "cell_type": "markdown",
   "metadata": {},
   "source": [
    "### Line\n",
    "A line is defined by its **bounds**.\n"
   ]
  },
  {
   "cell_type": "code",
   "execution_count": 2,
   "metadata": {},
   "outputs": [],
   "source": [
    "# create the interval [-1, 1]\n",
    "domain = Line(bounds=[-1,1])"
   ]
  },
  {
   "cell_type": "markdown",
   "metadata": {},
   "source": [
    "### Square\n",
    "A square is defined by its **bounds** for each **axis**."
   ]
  },
  {
   "cell_type": "code",
   "execution_count": 3,
   "metadata": {},
   "outputs": [],
   "source": [
    "# create the square [-1, 1] x [-1, 1]\n",
    "domain = Square(bounds1=[-1,1], bounds2=[-1,1])"
   ]
  },
  {
   "cell_type": "markdown",
   "metadata": {},
   "source": [
    "### Cube\n",
    "A cube is defined by its **bounds** for each **axis**."
   ]
  },
  {
   "cell_type": "code",
   "execution_count": 4,
   "metadata": {},
   "outputs": [],
   "source": [
    "# create the cube [-1, 1] x [-1, 1] x [-1, 1]\n",
    "domain = Cube(bounds1=[-1,1], bounds2=[-1,1], bounds3=[-1,1])"
   ]
  },
  {
   "cell_type": "markdown",
   "metadata": {},
   "source": [
    "### Domain\n",
    "Represents an undefined domain.\n",
    "A domain is defined by at least one interior domain and possible boundaries.\n",
    "A domain without a boundary is either infinite or periodic.\n",
    "A domain can also be constructed from a connectivity, in which case, only the\n",
    "name and connectivity need to be passed.\n",
    "\n",
    "This concept can be used to create a more complicated *topological* geometries."
   ]
  },
  {
   "cell_type": "code",
   "execution_count": 5,
   "metadata": {},
   "outputs": [],
   "source": [
    "from sympde.topology import Domain\n",
    "from sympde.topology import InteriorDomain\n",
    "from sympde.topology import Union\n",
    "from sympde.topology import Interface\n",
    "from sympde.topology import Connectivity\n",
    "from sympde.topology import Boundary"
   ]
  },
  {
   "cell_type": "code",
   "execution_count": 6,
   "metadata": {},
   "outputs": [],
   "source": [
    "# ... create a domain with 2 subdomains A and B\n",
    "A = InteriorDomain('A', dim=3)\n",
    "B = InteriorDomain('B', dim=3)\n",
    "\n",
    "connectivity = Connectivity()\n",
    "\n",
    "bnd_A_1 = Boundary('Gamma_1', A)\n",
    "bnd_A_2 = Boundary('Gamma_2', A)\n",
    "bnd_A_3 = Boundary('Gamma_3', A)\n",
    "\n",
    "bnd_B_1 = Boundary('Gamma_1', B)\n",
    "bnd_B_2 = Boundary('Gamma_2', B)\n",
    "bnd_B_3 = Boundary('Gamma_3', B)\n",
    "\n",
    "connectivity['I'] = Interface('I', bnd_A_1, bnd_B_2)\n",
    "\n",
    "Omega = Domain('Omega',\n",
    "               interiors=[A, B],\n",
    "               boundaries=[bnd_A_2, bnd_A_3, bnd_B_1, bnd_B_3],\n",
    "               connectivity=connectivity)"
   ]
  },
  {
   "cell_type": "markdown",
   "metadata": {},
   "source": [
    "You can then export this topology into a **hdf5** file:"
   ]
  },
  {
   "cell_type": "code",
   "execution_count": 7,
   "metadata": {},
   "outputs": [],
   "source": [
    "# export\n",
    "Omega.export('omega.h5')"
   ]
  },
  {
   "cell_type": "markdown",
   "metadata": {},
   "source": [
    "And read it using:"
   ]
  },
  {
   "cell_type": "code",
   "execution_count": 8,
   "metadata": {},
   "outputs": [],
   "source": [
    "domain = Domain.from_file('omega.h5')"
   ]
  },
  {
   "cell_type": "markdown",
   "metadata": {},
   "source": [
    "### PeriodicDomain\n",
    "**TODO**"
   ]
  },
  {
   "cell_type": "markdown",
   "metadata": {},
   "source": [
    "## 2. Function Spaces"
   ]
  },
  {
   "cell_type": "markdown",
   "metadata": {},
   "source": [
    "Once you have a topological domain, you can create a function space over it. There are two kinds of function spaces:\n",
    "    \n",
    "* Scalar function space\n",
    "* Vector function space"
   ]
  },
  {
   "cell_type": "code",
   "execution_count": 9,
   "metadata": {},
   "outputs": [],
   "source": [
    "from sympde.topology import ScalarFunctionSpace\n",
    "from sympde.topology import VectorFunctionSpace"
   ]
  },
  {
   "cell_type": "markdown",
   "metadata": {},
   "source": [
    "### Scalar Function space"
   ]
  },
  {
   "cell_type": "code",
   "execution_count": 10,
   "metadata": {},
   "outputs": [],
   "source": [
    "# create a generic domain in 3D\n",
    "domain = Cube()\n",
    "\n",
    "# create a scalar function space in 3D\n",
    "V = ScalarFunctionSpace('V', domain)"
   ]
  },
  {
   "cell_type": "markdown",
   "metadata": {},
   "source": [
    "Scalar function spaces can be typed also. This can be achieved by specifying the keyword **kind**"
   ]
  },
  {
   "cell_type": "markdown",
   "metadata": {},
   "source": [
    "In this example, we create the Sobolev space $H^1(\\Omega)$"
   ]
  },
  {
   "cell_type": "code",
   "execution_count": 11,
   "metadata": {},
   "outputs": [],
   "source": [
    "H1 = ScalarFunctionSpace('H1', domain, kind=\"H1\")"
   ]
  },
  {
   "cell_type": "markdown",
   "metadata": {},
   "source": [
    "In this example, we create the space $L^2(\\Omega)$"
   ]
  },
  {
   "cell_type": "code",
   "execution_count": 12,
   "metadata": {},
   "outputs": [],
   "source": [
    "L2 = ScalarFunctionSpace('L2', domain, kind=\"L2\")"
   ]
  },
  {
   "cell_type": "markdown",
   "metadata": {},
   "source": [
    "### Vector Function space"
   ]
  },
  {
   "cell_type": "code",
   "execution_count": 13,
   "metadata": {},
   "outputs": [],
   "source": [
    "# create a scalar function space in 3D\n",
    "V = VectorFunctionSpace('V', domain)"
   ]
  },
  {
   "cell_type": "markdown",
   "metadata": {},
   "source": [
    "Vector function spaces can also be typed"
   ]
  },
  {
   "cell_type": "markdown",
   "metadata": {},
   "source": [
    "In this example, we create the Sobolev space $H(\\mbox{curl}, \\Omega)$"
   ]
  },
  {
   "cell_type": "code",
   "execution_count": 14,
   "metadata": {},
   "outputs": [],
   "source": [
    "Hcurl = VectorFunctionSpace('Hcurl', domain, kind=\"Hcurl\")"
   ]
  },
  {
   "cell_type": "markdown",
   "metadata": {},
   "source": [
    "In this example, we create the Sobolev space $H(\\mbox{div}, \\Omega)$"
   ]
  },
  {
   "cell_type": "code",
   "execution_count": 15,
   "metadata": {},
   "outputs": [],
   "source": [
    "Hdiv = VectorFunctionSpace('Hdiv', domain, kind=\"Hdiv\")"
   ]
  },
  {
   "cell_type": "markdown",
   "metadata": {},
   "source": [
    "### Elements of Function Spaces\n",
    "\n",
    "You can create an element of a function space, by calling the function **element_of** as in the following examples:\n"
   ]
  },
  {
   "cell_type": "code",
   "execution_count": 16,
   "metadata": {},
   "outputs": [],
   "source": [
    "from sympde.topology import element_of"
   ]
  },
  {
   "cell_type": "code",
   "execution_count": 17,
   "metadata": {},
   "outputs": [],
   "source": [
    "u0 = element_of(H1, name='u0')\n",
    "u1 = element_of(Hcurl, name=\"u1\")\n",
    "u2 = element_of(Hdiv, name=\"u2\")\n",
    "u3 = element_of(L2, name=\"u3\")"
   ]
  },
  {
   "cell_type": "markdown",
   "metadata": {},
   "source": [
    "### Product of Function Spaces\n",
    "\n",
    "You can create a product between function spaces, either by calling the constructor **ProductSpace** or simply by using the operator $*$"
   ]
  },
  {
   "cell_type": "code",
   "execution_count": 18,
   "metadata": {},
   "outputs": [],
   "source": [
    "from sympde.topology import ProductSpace"
   ]
  },
  {
   "cell_type": "code",
   "execution_count": 19,
   "metadata": {},
   "outputs": [],
   "source": [
    "W = ProductSpace(H1,Hcurl,Hdiv,L2)"
   ]
  },
  {
   "cell_type": "code",
   "execution_count": 20,
   "metadata": {},
   "outputs": [],
   "source": [
    "W = H1 * Hcurl * Hdiv * L2"
   ]
  },
  {
   "cell_type": "code",
   "execution_count": 21,
   "metadata": {},
   "outputs": [],
   "source": [
    "u0,u1,u2,u3 = element_of(W, name='u0,u1,u2,u3')"
   ]
  },
  {
   "cell_type": "markdown",
   "metadata": {},
   "source": [
    "## 3. Bilinear Forms"
   ]
  },
  {
   "cell_type": "markdown",
   "metadata": {},
   "source": [
    "Once you create a function space, and have the ability to create elements in it, you can start doing some funny things, like creating a bilinear form.\n",
    "\n",
    "A **BilinearForm** is a type, but **SymPDE** uses the Curry-Howard correspondance, and defines it as a **proposition**. If the construction is a success, this means that indeed your bilinear form is bilinear with respect to its arguments, otherwise, **SymPDE** will tell you why your expression is not bilinear."
   ]
  },
  {
   "cell_type": "code",
   "execution_count": 22,
   "metadata": {},
   "outputs": [],
   "source": [
    "v = element_of(H1, name='v')\n",
    "u = element_of(H1, name='u')"
   ]
  },
  {
   "cell_type": "code",
   "execution_count": 23,
   "metadata": {},
   "outputs": [],
   "source": [
    "from sympde.calculus import grad, div, dot"
   ]
  },
  {
   "cell_type": "code",
   "execution_count": 24,
   "metadata": {},
   "outputs": [],
   "source": [
    "from sympde.expr.expr import integral\n",
    "from sympde.expr.expr import BilinearForm"
   ]
  },
  {
   "cell_type": "code",
   "execution_count": 25,
   "metadata": {},
   "outputs": [],
   "source": [
    "a = BilinearForm((v,u), integral(domain, dot(grad(v), grad(u))))"
   ]
  },
  {
   "cell_type": "markdown",
   "metadata": {},
   "source": [
    "The following expression is not bilineaar with respect to $u$, and **SymPDE** is able to tell you this"
   ]
  },
  {
   "cell_type": "code",
   "execution_count": 26,
   "metadata": {},
   "outputs": [
    {
     "name": "stdout",
     "output_type": "stream",
     "text": [
      "Failed to assert addition property\n",
      "Integral(Cube, 2*l_duSR*Dot(Grad(l_duSR), Grad(v)) + 2*l_duSR*Dot(Grad(r_duSR), Grad(v)) + 2*r_duSR*Dot(Grad(l_duSR), Grad(v)) + 2*r_duSR*Dot(Grad(r_duSR), Grad(v))) != Integral(Cube, 2*l_duSR*Dot(Grad(l_duSR), Grad(v)) + 2*r_duSR*Dot(Grad(r_duSR), Grad(v)))\n"
     ]
    },
    {
     "ename": "UnconsistentLinearExpressionError",
     "evalue": " Expression is not linear w.r.t test functions (u,)",
     "output_type": "error",
     "traceback": [
      "\u001b[0;31m---------------------------------------------------------------------------\u001b[0m",
      "\u001b[0;31mUnconsistentLinearExpressionError\u001b[0m         Traceback (most recent call last)",
      "Input \u001b[0;32mIn [26]\u001b[0m, in \u001b[0;36m<module>\u001b[0;34m\u001b[0m\n\u001b[0;32m----> 1\u001b[0m \u001b[43mBilinearForm\u001b[49m\u001b[43m(\u001b[49m\u001b[43m(\u001b[49m\u001b[43mv\u001b[49m\u001b[43m,\u001b[49m\u001b[43mu\u001b[49m\u001b[43m)\u001b[49m\u001b[43m,\u001b[49m\u001b[43m \u001b[49m\u001b[43mintegral\u001b[49m\u001b[43m(\u001b[49m\u001b[43mdomain\u001b[49m\u001b[43m,\u001b[49m\u001b[43m \u001b[49m\u001b[43mdot\u001b[49m\u001b[43m(\u001b[49m\u001b[43mgrad\u001b[49m\u001b[43m(\u001b[49m\u001b[43mv\u001b[49m\u001b[43m)\u001b[49m\u001b[43m,\u001b[49m\u001b[43m \u001b[49m\u001b[43mgrad\u001b[49m\u001b[43m(\u001b[49m\u001b[43mu\u001b[49m\u001b[38;5;241;43m*\u001b[39;49m\u001b[38;5;241;43m*\u001b[39;49m\u001b[38;5;241;43m2\u001b[39;49m\u001b[43m)\u001b[49m\u001b[43m)\u001b[49m\u001b[43m)\u001b[49m\u001b[43m)\u001b[49m\n",
      "File \u001b[0;32m~/GITHUB/IGA-Python/.iga-python/lib/python3.8/site-packages/sympde/expr/expr.py:443\u001b[0m, in \u001b[0;36mBilinearForm.__new__\u001b[0;34m(cls, arguments, expr, **options)\u001b[0m\n\u001b[1;32m    440\u001b[0m \u001b[38;5;28;01mif\u001b[39;00m \u001b[38;5;129;01mnot\u001b[39;00m is_linear_expression(expr, test_functions):\n\u001b[1;32m    441\u001b[0m     msg \u001b[38;5;241m=\u001b[39m \u001b[38;5;124m'\u001b[39m\u001b[38;5;124m Expression is not linear w.r.t test functions \u001b[39m\u001b[38;5;132;01m{}\u001b[39;00m\u001b[38;5;124m'\u001b[39m\\\n\u001b[1;32m    442\u001b[0m             \u001b[38;5;241m.\u001b[39mformat(test_functions)\n\u001b[0;32m--> 443\u001b[0m     \u001b[38;5;28;01mraise\u001b[39;00m UnconsistentLinearExpressionError(msg)\n\u001b[1;32m    445\u001b[0m \u001b[38;5;66;03m# Create new object of type BilinearForm\u001b[39;00m\n\u001b[1;32m    446\u001b[0m obj \u001b[38;5;241m=\u001b[39m Basic\u001b[38;5;241m.\u001b[39m\u001b[38;5;21m__new__\u001b[39m(\u001b[38;5;28mcls\u001b[39m, args, expr)\n",
      "\u001b[0;31mUnconsistentLinearExpressionError\u001b[0m:  Expression is not linear w.r.t test functions (u,)"
     ]
    }
   ],
   "source": [
    "BilinearForm((v,u), integral(domain, dot(grad(v), grad(u**2))))"
   ]
  },
  {
   "cell_type": "markdown",
   "metadata": {},
   "source": [
    "### Printing"
   ]
  },
  {
   "cell_type": "markdown",
   "metadata": {},
   "source": [
    "You can print your bilinear form using *Latex* printer as follows"
   ]
  },
  {
   "cell_type": "code",
   "execution_count": 27,
   "metadata": {},
   "outputs": [],
   "source": [
    "from IPython.display import Math\n",
    "from sympde.printing.latex import latex"
   ]
  },
  {
   "cell_type": "code",
   "execution_count": 28,
   "metadata": {},
   "outputs": [
    {
     "data": {
      "text/latex": [
       "$\\displaystyle \\left( v, u \\right) \\mapsto \\int_{NCubeInterior\\left(Cube\\right)} \\nabla{u} \\cdot \\nabla{v} ~d\\mathbf{x}$"
      ],
      "text/plain": [
       "<IPython.core.display.Math object>"
      ]
     },
     "execution_count": 28,
     "metadata": {},
     "output_type": "execute_result"
    }
   ],
   "source": [
    "Math(latex(a))"
   ]
  },
  {
   "cell_type": "markdown",
   "metadata": {},
   "source": [
    "### Free-variables\n",
    "\n",
    "Elements of functions spaces that are neither test or trial functions for the bilinear form, are considered as **free-variables**."
   ]
  },
  {
   "cell_type": "code",
   "execution_count": 29,
   "metadata": {},
   "outputs": [],
   "source": [
    "psi = element_of(H1, name='psi')\n",
    "a1 = BilinearForm((v,u), integral(domain, (1+psi**2)*dot(grad(v), grad(u))))"
   ]
  },
  {
   "cell_type": "markdown",
   "metadata": {},
   "source": [
    "You can then call the bilinear form and specify the free variable $\\psi$ as follows"
   ]
  },
  {
   "cell_type": "code",
   "execution_count": 30,
   "metadata": {},
   "outputs": [],
   "source": [
    "expr = a1(v,u,psi=u)"
   ]
  },
  {
   "cell_type": "markdown",
   "metadata": {},
   "source": [
    "**TODO**\n",
    "\n",
    "there is a problem with the printing of **Integral**"
   ]
  },
  {
   "cell_type": "markdown",
   "metadata": {},
   "source": [
    "## 4. Linear Forms"
   ]
  },
  {
   "cell_type": "code",
   "execution_count": 31,
   "metadata": {},
   "outputs": [],
   "source": [
    "from sympde.expr.expr import LinearForm"
   ]
  },
  {
   "cell_type": "code",
   "execution_count": 32,
   "metadata": {},
   "outputs": [],
   "source": [
    "from sympde.calculus import bracket"
   ]
  },
  {
   "cell_type": "code",
   "execution_count": 33,
   "metadata": {},
   "outputs": [],
   "source": [
    "psi = element_of(H1, name='psi')\n",
    "l = LinearForm(v, integral(domain, v*psi**2))"
   ]
  },
  {
   "cell_type": "code",
   "execution_count": 34,
   "metadata": {},
   "outputs": [
    {
     "data": {
      "text/latex": [
       "$\\displaystyle v \\mapsto \\int_{NCubeInterior\\left(Cube\\right)} \\psi^{2} v ~d\\mathbf{x}$"
      ],
      "text/plain": [
       "<IPython.core.display.Math object>"
      ]
     },
     "execution_count": 34,
     "metadata": {},
     "output_type": "execute_result"
    }
   ],
   "source": [
    "Math(latex(l))"
   ]
  },
  {
   "cell_type": "markdown",
   "metadata": {},
   "source": [
    "### Linearization of a non linear expression"
   ]
  },
  {
   "cell_type": "markdown",
   "metadata": {},
   "source": [
    "Since **SymPDE** is able to do computations, you can linearize a non linear expression.\n",
    "let's take the previous example, which is non-linear w.r.t $\\psi$. In order to linearize $l$, we need to tell the function **linearize** around wich function we will do the linearization, and what is the name of the perturbation, as in the following example:"
   ]
  },
  {
   "cell_type": "code",
   "execution_count": 35,
   "metadata": {},
   "outputs": [],
   "source": [
    "from sympde.expr.expr import linearize"
   ]
  },
  {
   "cell_type": "code",
   "execution_count": 36,
   "metadata": {},
   "outputs": [],
   "source": [
    "dpsi = element_of(H1, name='delta_psi')\n",
    "b = linearize(l, psi, trials=dpsi)"
   ]
  },
  {
   "cell_type": "markdown",
   "metadata": {},
   "source": [
    "If we check the type of $b$, we will see that it is a **BilinearForm**"
   ]
  },
  {
   "cell_type": "code",
   "execution_count": 37,
   "metadata": {},
   "outputs": [
    {
     "data": {
      "text/plain": [
       "sympde.expr.expr.BilinearForm"
      ]
     },
     "execution_count": 37,
     "metadata": {},
     "output_type": "execute_result"
    }
   ],
   "source": [
    "type(b)"
   ]
  },
  {
   "cell_type": "code",
   "execution_count": 38,
   "metadata": {},
   "outputs": [
    {
     "data": {
      "text/latex": [
       "$\\displaystyle \\left( \\delta_{\\psi}, v \\right) \\mapsto \\int_{NCubeInterior\\left(Cube\\right)} 2 \\delta_{\\psi} \\psi v ~d\\mathbf{x}$"
      ],
      "text/plain": [
       "<IPython.core.display.Math object>"
      ]
     },
     "execution_count": 38,
     "metadata": {},
     "output_type": "execute_result"
    }
   ],
   "source": [
    "Math(latex(b))"
   ]
  },
  {
   "cell_type": "markdown",
   "metadata": {},
   "source": [
    "### Free-variables\n",
    "\n",
    "**TODO**"
   ]
  },
  {
   "cell_type": "markdown",
   "metadata": {},
   "source": [
    "## 5. Equation"
   ]
  },
  {
   "cell_type": "markdown",
   "metadata": {},
   "source": [
    "Here, we consider variational problems that can be writtent as\n",
    "$$\n",
    "\\mbox{Find}~(u_1,u_2,\\ldots,u_r) \\in V_1 \\times V_2 \\times \\ldots \\times V_r,~ \\mbox{such that:} \\\\\n",
    "a((v_1,\\ldots, v_r), (u_1, \\ldots,u_r)) = l(v_1,\\ldots,v_r),\\quad \\forall (v_1,\\ldots, v_r) \\in V_1 \\times V_2 \\times \\ldots \\times V_r\n",
    "$$"
   ]
  },
  {
   "cell_type": "code",
   "execution_count": 39,
   "metadata": {},
   "outputs": [],
   "source": [
    "from sympde.expr import find"
   ]
  },
  {
   "cell_type": "code",
   "execution_count": 40,
   "metadata": {},
   "outputs": [],
   "source": [
    "equation = find(u, forall=v, lhs=a(u, v), rhs=l(v))"
   ]
  },
  {
   "cell_type": "code",
   "execution_count": 41,
   "metadata": {},
   "outputs": [
    {
     "data": {
      "text/latex": [
       "$\\displaystyle \\mbox{find} ~u \\in ScalarFunctionSpace\\left(\\right) ~\\mbox{such that}\\\\\\int_{NCubeInterior\\left(Cube\\right)} \\nabla{u} \\cdot \\nabla{v} ~d\\mathbf{x} = \\int_{NCubeInterior\\left(Cube\\right)} \\psi^{2} v ~d\\mathbf{x},\\quad \\forall~ v \\in ScalarFunctionSpace\\left(\\right)$"
      ],
      "text/plain": [
       "<IPython.core.display.Math object>"
      ]
     },
     "execution_count": 41,
     "metadata": {},
     "output_type": "execute_result"
    }
   ],
   "source": [
    "Math(latex(equation))"
   ]
  },
  {
   "cell_type": "markdown",
   "metadata": {},
   "source": [
    "### Essential Boundary Conditions"
   ]
  },
  {
   "cell_type": "markdown",
   "metadata": {},
   "source": [
    "You can tell **SymPDE** what are the essential boundary conditions for your problem."
   ]
  },
  {
   "cell_type": "code",
   "execution_count": 42,
   "metadata": {},
   "outputs": [],
   "source": [
    "from sympde.expr import EssentialBC"
   ]
  },
  {
   "cell_type": "code",
   "execution_count": 43,
   "metadata": {},
   "outputs": [],
   "source": [
    "bnd = domain.boundary"
   ]
  },
  {
   "cell_type": "code",
   "execution_count": 44,
   "metadata": {},
   "outputs": [
    {
     "data": {
      "text/plain": [
       "sympde.topology.basic.Union"
      ]
     },
     "execution_count": 44,
     "metadata": {},
     "output_type": "execute_result"
    }
   ],
   "source": [
    "type(bnd)"
   ]
  },
  {
   "cell_type": "code",
   "execution_count": 45,
   "metadata": {},
   "outputs": [
    {
     "data": {
      "text/latex": [
       "$\\displaystyle Boundary\\left(\\Gamma_1, NCubeInterior\\left(Cube\\right), 0, -1\\right) \\cup Boundary\\left(\\Gamma_2, NCubeInterior\\left(Cube\\right), 0, 1\\right) \\cup Boundary\\left(\\Gamma_3, NCubeInterior\\left(Cube\\right), 1, -1\\right) \\cup Boundary\\left(\\Gamma_4, NCubeInterior\\left(Cube\\right), 1, 1\\right) \\cup Boundary\\left(\\Gamma_5, NCubeInterior\\left(Cube\\right), 2, -1\\right) \\cup Boundary\\left(\\Gamma_6, NCubeInterior\\left(Cube\\right), 2, 1\\right)$"
      ],
      "text/plain": [
       "Union(Cube_\\Gamma_1, Cube_\\Gamma_2, Cube_\\Gamma_3, Cube_\\Gamma_4, Cube_\\Gamma_5, Cube_\\Gamma_6)"
      ]
     },
     "execution_count": 45,
     "metadata": {},
     "output_type": "execute_result"
    }
   ],
   "source": [
    "bnd"
   ]
  },
  {
   "cell_type": "markdown",
   "metadata": {},
   "source": [
    "In order to set $u$ to $0$ on the whole boundary of our domain, we simply write"
   ]
  },
  {
   "cell_type": "code",
   "execution_count": 46,
   "metadata": {},
   "outputs": [],
   "source": [
    "bc = EssentialBC(u, 0, bnd)"
   ]
  },
  {
   "cell_type": "markdown",
   "metadata": {},
   "source": [
    "then, we add the boundary condition to our **find** statement as the following"
   ]
  },
  {
   "cell_type": "code",
   "execution_count": 47,
   "metadata": {},
   "outputs": [],
   "source": [
    "equation = find(u, forall=v, lhs=a(u, v), rhs=l(v), bc=bc)"
   ]
  },
  {
   "cell_type": "code",
   "execution_count": 48,
   "metadata": {},
   "outputs": [
    {
     "data": {
      "text/latex": [
       "$\\displaystyle \\mbox{find} ~u \\in ScalarFunctionSpace\\left(\\right) ~\\mbox{such that}\\\\\\int_{NCubeInterior\\left(Cube\\right)} \\nabla{u} \\cdot \\nabla{v} ~d\\mathbf{x} = \\int_{NCubeInterior\\left(Cube\\right)} \\psi^{2} v ~d\\mathbf{x},\\quad \\forall~ v \\in ScalarFunctionSpace\\left(\\right)$"
      ],
      "text/plain": [
       "<IPython.core.display.Math object>"
      ]
     },
     "execution_count": 48,
     "metadata": {},
     "output_type": "execute_result"
    }
   ],
   "source": [
    "Math(latex(equation))"
   ]
  },
  {
   "cell_type": "code",
   "execution_count": null,
   "metadata": {},
   "outputs": [],
   "source": []
  },
  {
   "cell_type": "code",
   "execution_count": null,
   "metadata": {},
   "outputs": [],
   "source": []
  }
 ],
 "metadata": {
  "kernelspec": {
   "display_name": ".iga-python",
   "language": "python",
   "name": ".iga-python"
  },
  "language_info": {
   "codemirror_mode": {
    "name": "ipython",
    "version": 3
   },
   "file_extension": ".py",
   "mimetype": "text/x-python",
   "name": "python",
   "nbconvert_exporter": "python",
   "pygments_lexer": "ipython3",
   "version": "3.8.10"
  }
 },
 "nbformat": 4,
 "nbformat_minor": 4
}
