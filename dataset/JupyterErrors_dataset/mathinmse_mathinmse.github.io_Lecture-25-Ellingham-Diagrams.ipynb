{
 "cells": [
  {
   "cell_type": "markdown",
   "metadata": {
    "slideshow": {
     "slide_type": "skip"
    }
   },
   "source": [
    "# Slideshow\n",
    "\n",
    "Run the next cell or run this command in a terminal window: \n",
    "\n",
    "```bash\n",
    "jupyter nbconvert Lecture-25-Ellingham-Diagrams.ipynb --to slides --post serve\n",
    "```"
   ]
  },
  {
   "cell_type": "code",
   "execution_count": null,
   "metadata": {
    "collapsed": false,
    "slideshow": {
     "slide_type": "skip"
    }
   },
   "outputs": [],
   "source": [
    "!jupyter nbconvert Lecture-25-Ellingham-Diagrams.ipynb --to slides --post serve"
   ]
  },
  {
   "cell_type": "markdown",
   "metadata": {
    "slideshow": {
     "slide_type": "slide"
    }
   },
   "source": [
    "# Richardson-Ellingham Diagrams"
   ]
  },
  {
   "cell_type": "markdown",
   "metadata": {
    "slideshow": {
     "slide_type": "slide"
    }
   },
   "source": [
    "Outline of the talk:\n",
    "\n",
    "* Molecules and Chemical Reactions\n",
    "* Reaction Equilibrium\n",
    "* Mass Constraints\n",
    "* Activity\n",
    "* Richardson-Ellingham Diagrams\n",
    "* A Computed Example\n",
    "* Further Thoughts\n",
    "\n",
    "The treatment here (and examples) are taken from DeHoff's [Thermodynamics in Materials Science][dehoff].\n",
    "\n",
    "[dehoff]:https://www.amazon.com/Thermodynamics-Materials-Science-Second-Robert/dp/0849340659"
   ]
  },
  {
   "cell_type": "markdown",
   "metadata": {
    "slideshow": {
     "slide_type": "slide"
    }
   },
   "source": [
    "# Molecules and Chemical Reactions"
   ]
  },
  {
   "cell_type": "markdown",
   "metadata": {
    "slideshow": {
     "slide_type": "fragment"
    }
   },
   "source": [
    "A chemical reaction is a re-arrangement of the atoms in the system - and can be succinctly expressed thus:\n",
    "\n",
    "$$\n",
    "\\mathrm{C} + \\mathrm{O_2} = \\mathrm{CO_2}\n",
    "$$\n",
    "\n",
    "and\n",
    "\n",
    "$$\n",
    "\\mathrm{2H_2} + \\mathrm{O_2} = \\mathrm{2H_2O}\n",
    "$$"
   ]
  },
  {
   "cell_type": "markdown",
   "metadata": {
    "slideshow": {
     "slide_type": "fragment"
    }
   },
   "source": [
    "* These are statements of mass balance (could balance charge, too).\n",
    "* The coefficients may be divided by a constant value without loss of generality.\n",
    "* One may think of these coefficients as molar quantities."
   ]
  },
  {
   "cell_type": "markdown",
   "metadata": {
    "slideshow": {
     "slide_type": "slide"
    }
   },
   "source": [
    "$\\require{mhchem}$ The concept of degrees of freedom can be used in the study of chemical reactions.  We define:\n",
    "\n",
    "* $e$ is the number of elements ($\\ce{H, O}$, etc.)\n",
    "* $c$ is the number of components ($\\ce{H2, O2, H2O}$)\n",
    "* $r$ is the number of possible reactions (degrees of freedom)\n",
    "\n",
    "$$\n",
    "r = c - e\n",
    "$$"
   ]
  },
  {
   "cell_type": "markdown",
   "metadata": {
    "slideshow": {
     "slide_type": "fragment"
    }
   },
   "source": [
    "For a system containing C and O $(e=2)$ and contains molecular species $\\mathrm{O_2}$, $\\mathrm{CO_2}$, and $\\mathrm{CO}$ $(c=3)$ we have a single independent reaction $(r = 3 - 2 = 1)$:\n",
    "\n",
    "$$\n",
    "\\mathrm{2CO} + \\mathrm{O_2} = \\mathrm{2CO_2}\n",
    "$$"
   ]
  },
  {
   "cell_type": "markdown",
   "metadata": {
    "slideshow": {
     "slide_type": "fragment"
    }
   },
   "source": [
    "If the system also contains $\\mathrm{C}$ as a chemical component then we can write two independent reactions:\n",
    "\n",
    "$$\n",
    "\\mathrm{C} + \\mathrm{O_2} = \\mathrm{CO_2}\n",
    "$$\n",
    "\n",
    "$$\n",
    "\\mathrm{2C} + \\mathrm{O_2} = \\mathrm{2CO}\n",
    "$$\n",
    "\n",
    "These are referred to as _multivariant_ interacting systems."
   ]
  },
  {
   "cell_type": "markdown",
   "metadata": {
    "slideshow": {
     "slide_type": "slide"
    }
   },
   "source": [
    "# Reaction Equilibrium"
   ]
  },
  {
   "cell_type": "markdown",
   "metadata": {
    "slideshow": {
     "slide_type": "fragment"
    }
   },
   "source": [
    "We will now consider the thermodynamics of the following reaction:\n",
    "\n",
    "$$\n",
    "\\mathrm{2CO} + \\mathrm{O_2} = \\mathrm{2CO_2}\n",
    "$$"
   ]
  },
  {
   "cell_type": "markdown",
   "metadata": {
    "slideshow": {
     "slide_type": "subslide"
    }
   },
   "source": [
    "we can use the combined first and second law of thermodynamics:\n",
    "\n",
    "$$\n",
    "dU = dQ - dW\n",
    "$$"
   ]
  },
  {
   "cell_type": "markdown",
   "metadata": {
    "slideshow": {
     "slide_type": "fragment"
    }
   },
   "source": [
    "and assuming only reversible work we can make the substitutions:\n",
    "\n",
    "$$\n",
    "dW = PdV\n",
    "$$\n",
    "\n",
    "and\n",
    "\n",
    "$$\n",
    "dQ = TdS\n",
    "$$"
   ]
  },
  {
   "cell_type": "markdown",
   "metadata": {
    "slideshow": {
     "slide_type": "fragment"
    }
   },
   "source": [
    "giving\n",
    "\n",
    "$$\n",
    "dU = TdS - PdV\n",
    "$$"
   ]
  },
  {
   "cell_type": "markdown",
   "metadata": {
    "slideshow": {
     "slide_type": "slide"
    }
   },
   "source": [
    "If the system is multicomponent and single phase we can write:\n",
    "\n",
    "$$\n",
    "dU = TdS - PdV + \\sum_{k=1}^{c}{\\mu_k dn_k}\n",
    "$$"
   ]
  },
  {
   "cell_type": "markdown",
   "metadata": {
    "slideshow": {
     "slide_type": "fragment"
    }
   },
   "source": [
    "Explicitly in the components of our gaseous system we have:\n",
    "\n",
    "$$\n",
    "dS = \\frac{1}{T}dU + \\frac{P}{T}dV - \\frac{1}{T}[\\mu_{CO} dn_{CO} + \\mu_{O_2} dn_{O_2} + \\mu_{CO_2} dn_{CO_2}]\n",
    "$$"
   ]
  },
  {
   "cell_type": "markdown",
   "metadata": {
    "slideshow": {
     "slide_type": "fragment"
    }
   },
   "source": [
    "If the system is isolated then we may also write:\n",
    "\n",
    "$$\n",
    "dU = 0\n",
    "$$\n",
    "\n",
    "$$\n",
    "dV = 0\n",
    "$$"
   ]
  },
  {
   "cell_type": "markdown",
   "metadata": {
    "slideshow": {
     "slide_type": "slide"
    }
   },
   "source": [
    "# Mass Constraints"
   ]
  },
  {
   "cell_type": "markdown",
   "metadata": {
    "slideshow": {
     "slide_type": "fragment"
    }
   },
   "source": [
    "Another feature of an isolated system is that no matter can cross the boundary.  If the system is non-reacting then the number of molecular species is constant:\n",
    "\n",
    "$$\n",
    "dn_k = 0 \\quad (k=1, 2, \\ldots, c)\n",
    "$$"
   ]
  },
  {
   "cell_type": "markdown",
   "metadata": {
    "slideshow": {
     "slide_type": "fragment"
    }
   },
   "source": [
    "However, in a reacting system this is not true:\n",
    "\n",
    "$$\n",
    "dn_k \\neq 0 \\quad (k=1, 2, \\ldots, c)\n",
    "$$"
   ]
  },
  {
   "cell_type": "markdown",
   "metadata": {
    "slideshow": {
     "slide_type": "slide"
    }
   },
   "source": [
    "The number of atoms _does_ remain constant:\n",
    "\n",
    "$$\n",
    "dm_i = 0 \\quad (i=1, 2, \\ldots, e)\n",
    "$$"
   ]
  },
  {
   "cell_type": "markdown",
   "metadata": {
    "slideshow": {
     "slide_type": "fragment"
    }
   },
   "source": [
    "Counting the total number of carbon and oxygen atoms in our hypothetical reaction:\n",
    "\n",
    "$$\n",
    "\\mathrm{2CO} + \\mathrm{O_2} = \\mathrm{2CO_2}\n",
    "$$\n",
    "\n",
    "we get the following relations:\n",
    "\n",
    "$$\n",
    "m_C = n_{CO_2} + n_{CO}\n",
    "$$\n",
    "\n",
    "$$\n",
    "m_O = n_{CO} + 2n_{CO_2} + 2n_{O_2}\n",
    "$$\n"
   ]
  },
  {
   "cell_type": "markdown",
   "metadata": {
    "slideshow": {
     "slide_type": "slide"
    }
   },
   "source": [
    "From these expressions we enforce the constraint that:\n",
    "\n",
    "$$\n",
    "dm_C = dm_O = 0\n",
    "$$"
   ]
  },
  {
   "cell_type": "markdown",
   "metadata": {
    "slideshow": {
     "slide_type": "fragment"
    }
   },
   "source": [
    "and we can derive:\n",
    "\n",
    "$$\n",
    "dn_{CO} = - dn_{CO_2}\n",
    "$$"
   ]
  },
  {
   "cell_type": "markdown",
   "metadata": {
    "slideshow": {
     "slide_type": "fragment"
    }
   },
   "source": [
    "and\n",
    "\n",
    "$$\n",
    "dn_{O_2} = - \\frac{1}{2}dn_{CO_2}\n",
    "$$"
   ]
  },
  {
   "cell_type": "markdown",
   "metadata": {
    "slideshow": {
     "slide_type": "fragment"
    }
   },
   "source": [
    "This is a statement (similar to a network constraint) that the number of moles for only one comoponent may be varied independently."
   ]
  },
  {
   "cell_type": "markdown",
   "metadata": {
    "slideshow": {
     "slide_type": "slide"
    }
   },
   "source": [
    "Revisiting our combined first and second law for an isolated system we now arrive at:\n",
    "\n",
    "$$\n",
    "dS_{iso} = \\frac{1}{T}(0) + \\frac{P}{T}(0) - \\frac{1}{T} \\left[\\mu_{CO} dn_{CO} + \\mu_{O_2} dn_{O_2} + \\mu_{CO_2} dn_{CO_2} \\right]\n",
    "$$"
   ]
  },
  {
   "cell_type": "markdown",
   "metadata": {
    "slideshow": {
     "slide_type": "fragment"
    }
   },
   "source": [
    "we can now substitute our network constraints above:\n",
    "\n",
    "$$\n",
    "dS_{iso} = \\frac{1}{T}(0) + \\frac{P}{T}(0) - \\frac{1}{T} \\left[ \\mu_{CO} (- dn_{CO_2}) + \\mu_{O_2} \\left(- \\frac{1}{2}dn_{CO_2} \\right) + \\mu_{CO_2} dn_{CO_2} \\right] \n",
    "$$"
   ]
  },
  {
   "cell_type": "markdown",
   "metadata": {
    "slideshow": {
     "slide_type": "slide"
    }
   },
   "source": [
    "simplifying:\n",
    "\n",
    "$$\n",
    "dS_{iso} = \\frac{1}{T}(0) + \\frac{P}{T}(0) - \\frac{1}{T} \\left[ \\mu_{CO_2} - \\left( \\mu_{CO} + \\frac{1}{2} \\mu_{O_2} \\right) \\right] dn_{CO_2} \n",
    "$$"
   ]
  },
  {
   "cell_type": "markdown",
   "metadata": {
    "slideshow": {
     "slide_type": "fragment"
    }
   },
   "source": [
    "The terms in the brackets (the chemical potentials of the product minus the chemical potential of the reactants) is known as the affinity of the reaction:\n",
    "\n",
    "$$\n",
    "\\mathcal{A} = \\left[ \\mu_{CO_2} - \\left( \\mu_{CO} + \\frac{1}{2} \\mu_{O_2} \\right) \\right]\n",
    "$$"
   ]
  },
  {
   "cell_type": "markdown",
   "metadata": {
    "slideshow": {
     "slide_type": "slide"
    }
   },
   "source": [
    "In our shorthand notation we have:\n",
    "\n",
    "$$\n",
    "dS_{iso} = -\\frac{1}{T} \\, \\mathcal{A} \\, dn_{CO_2}\n",
    "$$"
   ]
  },
  {
   "cell_type": "markdown",
   "metadata": {
    "slideshow": {
     "slide_type": "slide"
    }
   },
   "source": [
    "Equilibrium conditions dictate a maximum in entropy with changes in the number of moles of $\\mathrm{CO_2}$ therefore the equilibrium condition is:\n",
    "\n",
    "$$\n",
    "\\mathcal{A} = 0\n",
    "$$"
   ]
  },
  {
   "cell_type": "markdown",
   "metadata": {
    "slideshow": {
     "slide_type": "slide"
    }
   },
   "source": [
    "Therefore we can inspect the affinity of the reacting system (based on the instantaneous number of moles) and identify the following conditions:\n",
    "\n",
    "$$\n",
    "\\begin{eqnarray}\n",
    "\\mathcal{A} &>& 0, \\quad \\textrm{products decompose}\\\\\n",
    "\\mathcal{A} &=& 0, \\quad \\textrm{equilibrium}\\\\\n",
    "\\mathcal{A} &<& 0, \\quad \\textrm{products form}\\\\\n",
    "\\end{eqnarray}\n",
    "$$\n",
    "\n",
    "and in general the affinity can be remembered as:\n",
    "\n",
    "$$\n",
    "\\mathcal{A} = \\mu_{\\textrm{products}} - \\mu_{\\textrm{reactants}}\n",
    "$$"
   ]
  },
  {
   "cell_type": "markdown",
   "metadata": {
    "slideshow": {
     "slide_type": "slide"
    }
   },
   "source": [
    "We can write, for any general chemical reaction:\n",
    "\n",
    "$$\n",
    "l L + m M = r R + s S\n",
    "$$\n",
    "\n",
    "$$\n",
    "\\mathcal{A} = (r \\mu_R + s \\mu_S) - (l \\mu_L + m \\mu_M)\n",
    "$$"
   ]
  },
  {
   "cell_type": "markdown",
   "metadata": {
    "slideshow": {
     "slide_type": "slide"
    }
   },
   "source": [
    "# Activity"
   ]
  },
  {
   "cell_type": "markdown",
   "metadata": {
    "slideshow": {
     "slide_type": "fragment"
    }
   },
   "source": [
    "It is not practical to measure the chemical potential of a substance.  Instead the idea of \"activity\" is used.  We define the following:\n",
    "\n",
    "$$\n",
    "\\mu_k - \\mu^\\circ_k = \\Delta \\mu_k \\equiv RT \\ln a_k\n",
    "$$"
   ]
  },
  {
   "cell_type": "markdown",
   "metadata": {
    "slideshow": {
     "slide_type": "fragment"
    }
   },
   "source": [
    "and in an ideal solution:\n",
    "\n",
    "$$\n",
    "a_k = X_k\n",
    "$$\n",
    "\n",
    "(this makes it a little clearer what the idea of \"activity\" really is)"
   ]
  },
  {
   "cell_type": "markdown",
   "metadata": {
    "slideshow": {
     "slide_type": "fragment"
    }
   },
   "source": [
    "If the solution is non-ideal we can define the activity like this:\n",
    "\n",
    "$$\n",
    "a_k = \\gamma_k X_k\n",
    "$$\n",
    "\n",
    "further clarifying the concept of activity.  The activity is a way of capturing the idea that a component \"acts as if\" a certain amount was present relative to an ideal solution (situation)."
   ]
  },
  {
   "cell_type": "markdown",
   "metadata": {
    "slideshow": {
     "slide_type": "slide"
    }
   },
   "source": [
    "# Further Development of the Affinity"
   ]
  },
  {
   "cell_type": "markdown",
   "metadata": {
    "slideshow": {
     "slide_type": "fragment"
    }
   },
   "source": [
    "Using:\n",
    "\n",
    "$$\n",
    "dG' = -S'dT + V'dP + \\mu dn\n",
    "$$\n",
    "\n",
    "and\n",
    "\n",
    "$$\n",
    "G' = nG\n",
    "$$\n",
    "\n",
    "it can be demonstrated that the Gibbs free energy per mol (the molar Gibbs energy) is identical to the chemical potential:\n",
    "\n",
    "$$\n",
    "\\mu = G\n",
    "$$\n",
    "\n",
    "in a unary system."
   ]
  },
  {
   "cell_type": "markdown",
   "metadata": {
    "slideshow": {
     "slide_type": "slide"
    }
   },
   "source": [
    "Using our definition of activity:\n",
    "\n",
    "$$\n",
    "\\mu_k = \\mu_k^\\circ + RT \\ln a_k = G_k^\\circ + RT \\ln a_k\n",
    "$$\n",
    "\n",
    "where $G^\\circ$ is the Gibbs free energy per mol of component $k$ in the standard/reference state.  This is generally referred to as the _the standard Gibbs free energy change_.  Using the notation from our generalized chemical reaction.\n",
    "\n",
    "$$\n",
    "\\Delta G^\\circ \\equiv \\left[ (r G^\\circ_R + s G^\\circ_S) - (l G^\\circ_L + m G^\\circ_M) \\right]\n",
    "$$"
   ]
  },
  {
   "cell_type": "markdown",
   "metadata": {
    "slideshow": {
     "slide_type": "slide"
    }
   },
   "source": [
    "Using:\n",
    "\n",
    "$$\n",
    "\\mu_k = \\mu_k^\\circ + RT \\ln a_k = G_k^\\circ + RT \\ln a_k\n",
    "$$\n",
    "\n",
    "and recalling that:\n",
    "\n",
    "$$\n",
    "\\mathcal{A} = (r \\mu_R + s \\mu_S) - (l \\mu_L + m \\mu_M)\n",
    "$$\n",
    "\n",
    "We get:\n",
    "\n",
    "$$\n",
    "\\mathcal{A} = \\Delta G^\\circ + RT \\ln \\frac{a^r_R a^s_S}{a^l_L a^m_M}\n",
    "$$"
   ]
  },
  {
   "cell_type": "markdown",
   "metadata": {
    "slideshow": {
     "slide_type": "slide"
    }
   },
   "source": [
    "# General, Measurable Affinity"
   ]
  },
  {
   "cell_type": "markdown",
   "metadata": {
    "slideshow": {
     "slide_type": "fragment"
    }
   },
   "source": [
    "Our affinity is now defined as follows, in general:\n",
    "\n",
    "$$\n",
    "\\mathcal{A} = \\Delta G^\\circ + RT \\ln Q\n",
    "$$\n",
    "\n",
    "where Q is:\n",
    "\n",
    "$$\n",
    "Q \\equiv \\frac{a^r_R a^s_S}{a^l_L a^m_M}\n",
    "$$\n",
    "\n",
    "and at equilibrium:\n",
    "\n",
    "$$\n",
    "K \\equiv Q_{\\mathrm{equil.}} = \\left[ \\frac{a^r_R a^s_S}{a^l_L a^m_M} \\right]_{\\mathrm{equil}}\n",
    "$$\n",
    "\n",
    "with\n",
    "\n",
    "$$\n",
    "\\mathcal{A} = 0 = \\Delta G^\\circ + RT \\ln K\n",
    "$$"
   ]
  },
  {
   "cell_type": "markdown",
   "metadata": {
    "slideshow": {
     "slide_type": "slide"
    }
   },
   "source": [
    "Further extending the ideas:\n",
    "\n",
    "$$\n",
    "\\begin{eqnarray}\n",
    "{Q/K} &>& 1, \\quad \\textrm{products decompose}\\\\\n",
    "{Q/K} &=& 1, \\quad \\textrm{equilibrium}\\\\\n",
    "{Q/K} &<& 1, \\quad \\textrm{products form}\\\\\n",
    "\\end{eqnarray}\n",
    "$$"
   ]
  },
  {
   "cell_type": "markdown",
   "metadata": {
    "slideshow": {
     "slide_type": "slide"
    }
   },
   "source": [
    "# An Example (DeHoff 11.1)"
   ]
  },
  {
   "cell_type": "markdown",
   "metadata": {
    "slideshow": {
     "slide_type": "fragment"
    }
   },
   "source": [
    "A gas mixture at 1 atm total pressure and at the temperature 700C has the following composition:\n",
    "\n",
    "|Component|H$_2$|O$_2$|H$_2$O|\n",
    "|------|------|------|------|\n",
    "|Mole Fraction  |0.01  |0.03  |0.96|"
   ]
  },
  {
   "cell_type": "markdown",
   "metadata": {
    "slideshow": {
     "slide_type": "fragment"
    }
   },
   "source": [
    "$\\require{mhchem}$  The single reaction ($c - e = 3 - 2 = 1$) reaction for our system is:\n",
    "\n",
    "$$\n",
    "\\ce{2H2 + O2 = H2O}\n",
    "$$"
   ]
  },
  {
   "cell_type": "markdown",
   "metadata": {
    "slideshow": {
     "slide_type": "fragment"
    }
   },
   "source": [
    "At 700C the standard Gibbs free energy change for the reaction is:\n",
    "\n",
    "$$\n",
    "\\Delta G^\\circ = -440 \\mathrm{kJ}\n",
    "$$"
   ]
  },
  {
   "cell_type": "markdown",
   "metadata": {
    "slideshow": {
     "slide_type": "slide"
    }
   },
   "source": [
    "We compute K (the equilibrium constant) as follows:"
   ]
  },
  {
   "cell_type": "markdown",
   "metadata": {
    "slideshow": {
     "slide_type": "fragment"
    }
   },
   "source": [
    "$K = \\exp{(- \\Delta G^\\circ / RT)}$"
   ]
  },
  {
   "cell_type": "code",
   "execution_count": 7,
   "metadata": {
    "collapsed": true,
    "slideshow": {
     "slide_type": "skip"
    }
   },
   "outputs": [],
   "source": [
    "import numpy as np"
   ]
  },
  {
   "cell_type": "code",
   "execution_count": 3,
   "metadata": {
    "collapsed": true,
    "slideshow": {
     "slide_type": "fragment"
    }
   },
   "outputs": [],
   "source": [
    "gibbsChange = -440000\n",
    "gasConst = 8.314\n",
    "temp = 700+273"
   ]
  },
  {
   "cell_type": "code",
   "execution_count": 2,
   "metadata": {
    "collapsed": false,
    "slideshow": {
     "slide_type": "fragment"
    }
   },
   "outputs": [
    {
     "ename": "NameError",
     "evalue": "name 'np' is not defined",
     "output_type": "error",
     "traceback": [
      "\u001b[0;31m---------------------------------------------------------------------------\u001b[0m",
      "\u001b[0;31mNameError\u001b[0m                                 Traceback (most recent call last)",
      "\u001b[0;32m<ipython-input-2-8f6dac8aabd2>\u001b[0m in \u001b[0;36m<module>\u001b[0;34m()\u001b[0m\n\u001b[0;32m----> 1\u001b[0;31m \u001b[0mkConst\u001b[0m \u001b[0;34m=\u001b[0m \u001b[0mnp\u001b[0m\u001b[0;34m.\u001b[0m\u001b[0mexp\u001b[0m\u001b[0;34m(\u001b[0m\u001b[0;34m-\u001b[0m\u001b[0mgibbsChange\u001b[0m\u001b[0;34m/\u001b[0m\u001b[0;34m(\u001b[0m\u001b[0mgasConst\u001b[0m\u001b[0;34m*\u001b[0m\u001b[0mtemp\u001b[0m\u001b[0;34m)\u001b[0m\u001b[0;34m)\u001b[0m\u001b[0;34m\u001b[0m\u001b[0m\n\u001b[0m\u001b[1;32m      2\u001b[0m \u001b[0mkConst\u001b[0m\u001b[0;34m\u001b[0m\u001b[0m\n",
      "\u001b[0;31mNameError\u001b[0m: name 'np' is not defined"
     ]
    }
   ],
   "source": [
    "kConst = np.exp(-gibbsChange/(gasConst*temp))\n",
    "kConst"
   ]
  },
  {
   "cell_type": "markdown",
   "metadata": {
    "slideshow": {
     "slide_type": "slide"
    }
   },
   "source": [
    "We compute Q (proper quotient of activities - i.e. not at equilibrium) with:\n",
    "\n",
    "$$\n",
    "Q = \\frac{a^2_{H_2O}}{a^2_{H_2} a_{O_2}}\n",
    "$$"
   ]
  },
  {
   "cell_type": "code",
   "execution_count": 10,
   "metadata": {
    "collapsed": true,
    "slideshow": {
     "slide_type": "fragment"
    }
   },
   "outputs": [],
   "source": [
    "activityWater = 0.96\n",
    "activityHydrogen = 0.01\n",
    "activityOxygen = 0.03"
   ]
  },
  {
   "cell_type": "code",
   "execution_count": 11,
   "metadata": {
    "collapsed": false,
    "slideshow": {
     "slide_type": "fragment"
    }
   },
   "outputs": [
    {
     "data": {
      "text/plain": [
       "307200.0"
      ]
     },
     "execution_count": 11,
     "metadata": {},
     "output_type": "execute_result"
    }
   ],
   "source": [
    "properQuotient = activityWater**2/(activityHydrogen**2*activityOxygen)\n",
    "properQuotient"
   ]
  },
  {
   "cell_type": "code",
   "execution_count": 12,
   "metadata": {
    "collapsed": false,
    "slideshow": {
     "slide_type": "slide"
    }
   },
   "outputs": [
    {
     "data": {
      "text/plain": [
       "7.3376881013649339e-19"
      ]
     },
     "execution_count": 12,
     "metadata": {},
     "output_type": "execute_result"
    }
   ],
   "source": [
    "properQuotient/kConst"
   ]
  },
  {
   "cell_type": "markdown",
   "metadata": {
    "slideshow": {
     "slide_type": "fragment"
    }
   },
   "source": [
    "This number is much less than one, meaning that there is a strong tendency for products to form from this system in the current state."
   ]
  },
  {
   "cell_type": "markdown",
   "metadata": {
    "slideshow": {
     "slide_type": "slide"
    }
   },
   "source": [
    "# Multicomponent, Multiphase, and Chemical Reactions "
   ]
  },
  {
   "cell_type": "markdown",
   "metadata": {
    "slideshow": {
     "slide_type": "fragment"
    }
   },
   "source": [
    "Consider the oxidation of copper.  There are three phases and (correspondingly) three components in this system:\n",
    "\n",
    "* metallic copper ($\\alpha$)\n",
    "* the gas phase ($\\mathrm{g}$)\n",
    "* a ceramic oxide, $\\mathrm{Cu_2O}$ ($\\epsilon$)"
   ]
  },
  {
   "cell_type": "markdown",
   "metadata": {
    "slideshow": {
     "slide_type": "fragment"
    }
   },
   "source": [
    "At equilibrium the three phases are solutions:\n",
    "\n",
    "* some oxygen will dissolve in Cu\n",
    "* some Cu will evaporate into the gas phase\n",
    "* the oxide phase will be non-stoichiometric\n",
    "* in the gas phase there may be monatomic oxygen and ozone\n",
    "* etc."
   ]
  },
  {
   "cell_type": "markdown",
   "metadata": {
    "slideshow": {
     "slide_type": "skip"
    }
   },
   "source": [
    "_In most practical applications_ we consider many fewer components than may be truly present.  We can eliminate components from consideration if we have independent observation that molar quantitites are negligable.  This makes the problem tractable with simple calculations (however some advanced thermodynamic software packages are already equipped to deal with many more components, the limitation is knowing what components have high activties)."
   ]
  },
  {
   "cell_type": "markdown",
   "metadata": {
    "slideshow": {
     "slide_type": "slide"
    }
   },
   "source": [
    "To proceed here, we assume only three components and two atomic species, leaving only one chemical reaction.\n",
    "\n",
    "$$\n",
    "\\require{mhchem}\n",
    "\\ce{Cu(\\alpha) + \\frac{1}{2}O2(g) = CuO(\\epsilon)}\n",
    "$$"
   ]
  },
  {
   "cell_type": "markdown",
   "metadata": {
    "slideshow": {
     "slide_type": "slide"
    }
   },
   "source": [
    "Proceeding as before:\n",
    "\n",
    "$$\n",
    "\\mathcal{A}_{CuO} = \\mu_{CuO}^{\\epsilon} - \\left(\\mu_{Cu}^{\\alpha} + \\frac{1}{2}\\mu_{O_2}^{g} \\right)\n",
    "$$\n",
    "\n",
    "Equilibrium is when $\\mathcal{A} = 0$ leading us to the following statement:\n",
    "\n",
    "$$\n",
    "\\Delta G^\\circ_{CuO} = - RT \\ln K_{CuO}\n",
    "$$"
   ]
  },
  {
   "cell_type": "markdown",
   "metadata": {
    "slideshow": {
     "slide_type": "fragment"
    }
   },
   "source": [
    "With \n",
    "\n",
    "$$\n",
    "\\Delta G^\\circ_{CuO} = G_{CuO}^{\\circ} - \\left(G_{Cu}^{\\circ} + \\frac{1}{2}G_{O_2}^{\\circ} \\right)\n",
    "$$\n",
    "\n",
    "and\n",
    "\n",
    "$$\n",
    "K_{CuO} = \\frac{a_{CuO}}{a_{Cu} a_{O_2}^{1/2}}\n",
    "$$"
   ]
  },
  {
   "cell_type": "markdown",
   "metadata": {
    "slideshow": {
     "slide_type": "slide"
    }
   },
   "source": [
    "# An Example for the Oxidation of Cu (DeHoff 11.4) "
   ]
  },
  {
   "cell_type": "markdown",
   "metadata": {
    "slideshow": {
     "slide_type": "fragment"
    }
   },
   "source": [
    "Find the partial pressure of oxygen that exists in a system in which pure copper is equilibrated with $\\mathrm{CuO}$ at 900C.  The standard free energy for the formation of CuO from copper and oxygen at 900C is:\n",
    "\n",
    "$$\n",
    "\\Delta G^\\circ_{900} = - 52.7 \\mathrm{kJ}\n",
    "$$"
   ]
  },
  {
   "cell_type": "markdown",
   "metadata": {
    "slideshow": {
     "slide_type": "fragment"
    }
   },
   "source": [
    "$K = \\exp{- \\Delta G^\\circ / RT}$"
   ]
  },
  {
   "cell_type": "code",
   "execution_count": 1,
   "metadata": {
    "collapsed": true,
    "slideshow": {
     "slide_type": "skip"
    }
   },
   "outputs": [],
   "source": [
    "import numpy as np"
   ]
  },
  {
   "cell_type": "code",
   "execution_count": 2,
   "metadata": {
    "collapsed": true,
    "slideshow": {
     "slide_type": "fragment"
    }
   },
   "outputs": [],
   "source": [
    "gibbsChange = -52700\n",
    "gasConst = 8.314\n",
    "temp = 900+273"
   ]
  },
  {
   "cell_type": "code",
   "execution_count": 3,
   "metadata": {
    "collapsed": false,
    "slideshow": {
     "slide_type": "fragment"
    }
   },
   "outputs": [
    {
     "data": {
      "text/plain": [
       "222.25853126426236"
      ]
     },
     "execution_count": 3,
     "metadata": {},
     "output_type": "execute_result"
    }
   ],
   "source": [
    "kConst = np.exp(-gibbsChange/(gasConst*temp))\n",
    "kConst"
   ]
  },
  {
   "cell_type": "markdown",
   "metadata": {
    "slideshow": {
     "slide_type": "slide"
    }
   },
   "source": [
    "Now that we know the equilibrium constant we can continue by computing the proper quotient of activities.  We can _assume_ that the components are pure and stiochiometric.  This leads us to define the activities of the components as follows:\n",
    "\n",
    "$$\n",
    "a_{Cu} = 1\n",
    "$$\n",
    "\n",
    "$$\n",
    "a_{CuO} = 1\n",
    "$$\n",
    "\n",
    "The expression for equilibrium is therefore:\n",
    "\n",
    "$$\n",
    "K_{CuO} = \\frac{a_{CuO}}{a_{Cu} a_{O_2}^{1/2}} = \\frac{1}{P_{O_2}^{1/2}} = 220\n",
    "$$\n",
    "\n",
    "solving for the pressure of oxygen we get:"
   ]
  },
  {
   "cell_type": "code",
   "execution_count": 5,
   "metadata": {
    "collapsed": false,
    "slideshow": {
     "slide_type": "fragment"
    }
   },
   "outputs": [
    {
     "data": {
      "text/plain": [
       "222.25853126426236"
      ]
     },
     "execution_count": 5,
     "metadata": {},
     "output_type": "execute_result"
    }
   ],
   "source": [
    "kConst"
   ]
  },
  {
   "cell_type": "code",
   "execution_count": 6,
   "metadata": {
    "collapsed": false,
    "slideshow": {
     "slide_type": "fragment"
    }
   },
   "outputs": [
    {
     "data": {
      "text/plain": [
       "2.0243384298548366e-05"
      ]
     },
     "execution_count": 6,
     "metadata": {},
     "output_type": "execute_result"
    }
   ],
   "source": [
    "pressureOfOxygen = (1.0/kConst)**2\n",
    "pressureOfOxygen"
   ]
  },
  {
   "cell_type": "markdown",
   "metadata": {
    "slideshow": {
     "slide_type": "fragment"
    }
   },
   "source": [
    "This means that an equilibrium is established between copper, oxygen and its oxide at 900C when the partial pressure of oxygen is $2.0 \\times 10^{-5}$ atm."
   ]
  },
  {
   "cell_type": "markdown",
   "metadata": {
    "slideshow": {
     "slide_type": "slide"
    }
   },
   "source": [
    "# Richardson-Ellingham Diagrams"
   ]
  },
  {
   "cell_type": "markdown",
   "metadata": {
    "slideshow": {
     "slide_type": "fragment"
    }
   },
   "source": [
    "The important calculation in the case of condensed phases (keeping in mind all of the previous assumptions) in equilibrium with a gas phase is the equilibrium constant.\n",
    "\n",
    "This is computed from knowledge of the standard Gibbs free energy changes for the reaction."
   ]
  },
  {
   "cell_type": "markdown",
   "metadata": {
    "slideshow": {
     "slide_type": "slide"
    }
   },
   "source": [
    "The standard Gibbs free energy change is defined as:\n",
    "\n",
    "$$\n",
    "\\Delta G^\\circ = \\Delta H^\\circ - T \\Delta S^\\circ\n",
    "$$"
   ]
  },
  {
   "cell_type": "markdown",
   "metadata": {
    "slideshow": {
     "slide_type": "fragment"
    }
   },
   "source": [
    "Where the standard enthalpy and entropy changes at any temperature can be computed from the integrals:\n",
    "\n",
    "$$\n",
    "\\Delta H^\\circ(T) = \\Delta H^\\circ(T_0) + \\int^{T}_{T_0} \\Delta C^{0}_{P}(T) dT\n",
    "$$"
   ]
  },
  {
   "cell_type": "markdown",
   "metadata": {
    "slideshow": {
     "slide_type": "fragment"
    }
   },
   "source": [
    "and\n",
    "\n",
    "$$\n",
    "\\Delta S^\\circ(T) = \\Delta S^\\circ(T_0) + \\int^{T}_{T_0} \\frac{\\Delta C^{0}_{P}(T)}{T} dT\n",
    "$$"
   ]
  },
  {
   "cell_type": "markdown",
   "metadata": {
    "slideshow": {
     "slide_type": "slide"
    }
   },
   "source": [
    "Under most circumstances the integral quantities are small enough to be neglected.  Therefore most standard state free energy change curves can be safely approximated as straight lines.  So it is possible then to collect all of this information on one chart.  Questions such as:\n",
    "\n",
    "* Which metal more likely to oxidize, Cu or Zn at a pressure of $10^{6}$ atmospheres?\n",
    "* What is the minimum partial pressure of oxygen needed to make a titanium oxide stable?"
   ]
  },
  {
   "cell_type": "markdown",
   "metadata": {
    "slideshow": {
     "slide_type": "slide"
    }
   },
   "source": [
    "![](./images/Gaskell_Ellingham.png)"
   ]
  },
  {
   "cell_type": "markdown",
   "metadata": {
    "slideshow": {
     "slide_type": "subslide"
    }
   },
   "source": [
    "![](./images/Ellingham_Diagram_Small.png)"
   ]
  },
  {
   "cell_type": "markdown",
   "metadata": {
    "slideshow": {
     "slide_type": "slide"
    }
   },
   "source": [
    "Each line on the R-E diagram has a slope proportional to the entropy change associated with the reaction and an intercept at zero temperature equal to the standard enthalpy of formation.  Note that the differences between the entropies of the solid phases do exist but are small.  The main driver is the consumption of one mol of the gas phases for each mol of species forming in the chemical reaction."
   ]
  },
  {
   "cell_type": "markdown",
   "metadata": {
    "slideshow": {
     "slide_type": "fragment"
    }
   },
   "source": [
    "Note the following: $\\require{mhchem}$\n",
    "\n",
    "* The entropy change in the CO2 reaction ($\\ce{C + O2=CO2}$) is almost zero.  (one mol formed per mol consumed)\n",
    "* The entropy change in the CO reaction ($\\ce{2C + O2 = 2CO}$) is negative. (two mols of gas formed from one more of oxygen)"
   ]
  },
  {
   "cell_type": "markdown",
   "metadata": {
    "slideshow": {
     "slide_type": "slide"
    }
   },
   "source": [
    "# Constructing the Richardson-Ellingham Diagram "
   ]
  },
  {
   "cell_type": "markdown",
   "metadata": {
    "slideshow": {
     "slide_type": "fragment"
    }
   },
   "source": [
    "Each reaction is written on the basis of one mol of oxygen consumed.  For an oxide with the formula $M_uO_v$ we can write the following three expressions:"
   ]
  },
  {
   "cell_type": "markdown",
   "metadata": {
    "slideshow": {
     "slide_type": "fragment"
    }
   },
   "source": [
    "$$\n",
    "\\frac{2u}{v}M + O_2 = \\frac{2}{v} M_u O_v\n",
    "$$"
   ]
  },
  {
   "cell_type": "markdown",
   "metadata": {
    "slideshow": {
     "slide_type": "fragment"
    }
   },
   "source": [
    "$$\n",
    "K = \\frac{a_{M_uO_v}^{(2/v)}}{a_{M}^{(2u/v)} P_{O_2}}\n",
    "$$"
   ]
  },
  {
   "cell_type": "markdown",
   "metadata": {
    "slideshow": {
     "slide_type": "fragment"
    }
   },
   "source": [
    "$$\n",
    "K = \\frac{1}{P_{O_2}}\n",
    "$$\n",
    "\n",
    "This pressure of oxygen can be thought of as the dissociation pressure - it represents the limit of stability of the oxide in equilibrium with the metal.  If the oxygen pressure drops below this value - the metal is stable.  If above - the oxide is stable."
   ]
  },
  {
   "cell_type": "markdown",
   "metadata": {
    "slideshow": {
     "slide_type": "fragment"
    }
   },
   "source": [
    "There is no statement of kinetics (e.g. stainless steels)."
   ]
  },
  {
   "cell_type": "markdown",
   "metadata": {
    "slideshow": {
     "slide_type": "slide"
    }
   },
   "source": [
    "Other scales on the chart are useful.  Rearranging our expression for the standard free energy change:\n",
    "\n",
    "$$\n",
    "\\Delta G^\\circ = (-R \\ln K) T\n",
    "$$\n",
    "\n",
    "The locus of points that share a common K is a straight line through the origin.  This means that we can use:\n",
    "\n",
    "$$\n",
    "P_{O_2} = \\frac{1}{K}\n",
    "$$\n",
    "\n",
    "to construct a scale of partial pressures along the outer edge of the diagram.  You can see this on both charts up above.\n",
    "\n",
    "A single example is below."
   ]
  },
  {
   "cell_type": "markdown",
   "metadata": {
    "slideshow": {
     "slide_type": "slide"
    }
   },
   "source": [
    "# Using the Richardson-Ellingham Diagram\n",
    "\n",
    "An example R-E diagram is presented below."
   ]
  },
  {
   "cell_type": "markdown",
   "metadata": {
    "slideshow": {
     "slide_type": "fragment"
    }
   },
   "source": [
    "![](./images/ZnO.png)"
   ]
  },
  {
   "cell_type": "markdown",
   "metadata": {
    "slideshow": {
     "slide_type": "slide"
    }
   },
   "source": [
    "The standard Gibbs free energy change at 700C is given by point B.  The corresponding oxygen potential at equilibrium is given at point C.\n",
    "\n",
    "If the oxygen potential in a system was higher, say at point E on the chart, we could write the following:\n",
    "\n",
    "$$\n",
    "\\mathcal{A} = RT \\ln \\frac{(\\mathrm{P_{O_2}})_{equil}}{(\\mathrm{P_{O_2}})_E} = \\mathrm{B} - \\mathrm{D}\n",
    "$$"
   ]
  },
  {
   "cell_type": "markdown",
   "metadata": {
    "slideshow": {
     "slide_type": "fragment"
    }
   },
   "source": [
    "The affinity for the reaction tells us that the products are preferred.  So in agreement with our intuition, the increase in the oxygen partial pressure (above the dissasociation pressure) will result in the products of the reaction being formed."
   ]
  },
  {
   "cell_type": "markdown",
   "metadata": {
    "slideshow": {
     "slide_type": "slide"
    }
   },
   "source": [
    "# A Computed Example using $\\mathrm{SiO_2}$ "
   ]
  },
  {
   "cell_type": "code",
   "execution_count": 1,
   "metadata": {
    "collapsed": true,
    "slideshow": {
     "slide_type": "skip"
    }
   },
   "outputs": [],
   "source": [
    "%matplotlib inline\n",
    "from ipywidgets import interact, fixed\n",
    "import numpy as np\n",
    "import matplotlib.pyplot as plt"
   ]
  },
  {
   "cell_type": "code",
   "execution_count": 2,
   "metadata": {
    "collapsed": false,
    "slideshow": {
     "slide_type": "skip"
    }
   },
   "outputs": [],
   "source": [
    "def standardGibbsChangeSolid(temperature):\n",
    "    return (-907100 + 175*temperature)\n",
    "\n",
    "def standardGibbsSolveTemperature(equilibriumK):\n",
    "    gasConstant = 8.314\n",
    "    return round((907100)/(gasConstant*np.log(equilibriumK)+175),1)\n",
    "    \n",
    "def standardGibbsOxygenPressure(pressure, temperature):\n",
    "    return (-8.314*np.log(1.0/pressure)*temperature)\n",
    "\n",
    "def makeEllinghamDiagram(pressureExponent, temperature):\n",
    "    # Computations for the diagram.\n",
    "    pressure = 10.0**pressureExponent\n",
    "    gasConstant = 8.314\n",
    "    equilibriumK = 1.0/pressure\n",
    "    equilibriumTemperature = standardGibbsSolveTemperature(equilibriumK)\n",
    "\n",
    "    # The actual lines as ufuncs.\n",
    "    tempLimits = np.linspace(0,2230,20)\n",
    "    oxide = standardGibbsChangeSolid(tempLimits)\n",
    "    atmosphere = standardGibbsOxygenPressure(pressure, temperature)\n",
    "\n",
    "    # Creating the figure.\n",
    "    fig = plt.figure(figsize=(7,9))\n",
    "    axes = fig.add_axes([0.1, 0.1, 0.8, 0.8]) # left, bottom, width, height (range 0 to 1)\n",
    "\n",
    "    # Labeling the figure.\n",
    "    axes.set_ylabel(r'$\\Delta G^\\circ (J)$')\n",
    "    axes.set_xlabel(r'T$^\\circ$C')\n",
    "    axes.set_title('Richardson-Ellingham Diagram')\n",
    "        \n",
    "    # Plotting the data.\n",
    "    axes.plot(tempLimits, oxide, 'r', label='Oxide', linewidth=2)\n",
    "    axes.plot(temperature, atmosphere, 'g--', label='Atmosphere')    \n",
    "\n",
    "    # Plot annotations.\n",
    "    annotationX = 1200\n",
    "    annotationY = -1700000\n",
    "    annotationOffset = -70000\n",
    "    axes.axvline(x=equilibriumTemperature, ymin=2E6, ymax=0, label='Equilibrium Temperature')\n",
    "    axes.text(annotationX, annotationY, r'$\\mathrm{Si + O_2 = SiO_2}$', fontsize=15)\n",
    "    axes.text(annotationX, annotationY+annotationOffset, r'$P_{O_2} = 10^{'+str(pressureExponent)+'}\\, \\mathrm{atm}$', fontsize=15)\n",
    "    axes.text(annotationX, annotationY+2*annotationOffset, '$T_{equil} = '+str(equilibriumTemperature-273.15)+' \\mathrm{C}$', fontsize=15)\n",
    "\n",
    "    # Plot options.\n",
    "    axes.legend()\n",
    "    axes.grid(True)\n",
    "    axes.set_xlim(0,3000)\n",
    "    axes.set_ylim(-2E6,0)\n",
    "    \n",
    "    return"
   ]
  },
  {
   "cell_type": "code",
   "execution_count": 3,
   "metadata": {
    "collapsed": false,
    "slideshow": {
     "slide_type": "fragment"
    }
   },
   "outputs": [
    {
     "data": {
      "image/png": "[encoded data removed]",
      "text/plain": [
       "<matplotlib.figure.Figure at 0x10669c890>"
      ]
     },
     "metadata": {},
     "output_type": "display_data"
    }
   ],
   "source": [
    "temperature = np.linspace(0,3000,20)\n",
    "interact(makeEllinghamDiagram, pressureExponent=(-200,0,1), temperature=fixed(temperature));"
   ]
  },
  {
   "cell_type": "markdown",
   "metadata": {
    "slideshow": {
     "slide_type": "slide"
    }
   },
   "source": [
    "# Further Thoughts (From a Non-Expert)"
   ]
  },
  {
   "cell_type": "markdown",
   "metadata": {
    "slideshow": {
     "slide_type": "fragment"
    }
   },
   "source": [
    "* Where is the hydrogen/water/oxygen coming from? \n",
    "    * BCC metals dissolve hydrogen (as protons) - can adjust pO2 elsewhere\n",
    "    * Sulfonated PTFE (as in FC electrolytes) transports hydrogen - so polymer end groups that are negatively charged can act as metastable H sites.\n",
    "    * Start examination of phase equilibria in binary M-H diagrams (this was published recently owing to the surge in interest of the H-economy\n",
    "    * Explore thermochemistry of sacrifical anodes (as in Zn protecting Fe)"
   ]
  },
  {
   "cell_type": "markdown",
   "metadata": {
    "slideshow": {
     "slide_type": "slide"
    }
   },
   "source": [
    "* How to compute the stability of the oxides?\n",
    "    * Need free energies of formation and internal interface activities\n",
    "    * Indirect measurements (e.g. capacitive swelling) are helpful, but don't provide direct measurements of activity (and therefore chemical potential)\n",
    "    * Non-ideality will be an issue for oxidizing species (appealing to phase diagrams might be helpful)\n",
    "    * Leverage electrochemical measurements to measure cell potentials (and therefore activities) directly"
   ]
  },
  {
   "cell_type": "markdown",
   "metadata": {
    "slideshow": {
     "slide_type": "slide"
    }
   },
   "source": [
    "* What to do about kinetics of dissasociation reactions?\n",
    "    * Low temperature experiments?\n",
    "    * Literature?\n",
    "    * Auger or other surface technique?"
   ]
  },
  {
   "cell_type": "markdown",
   "metadata": {
    "slideshow": {
     "slide_type": "slide"
    }
   },
   "source": [
    "* What to do about diffusion of gasses through interfaces and monolithic components?\n",
    "    * Can we devise experiments to do in-lab?\n",
    "    * Can we measure activity of key species more easily than partial pressures of He, Kr, etc.?"
   ]
  }
 ],
 "metadata": {
  "anaconda-cloud": {},
  "celltoolbar": "Slideshow",
  "kernelspec": {
   "display_name": "Python 2",
   "language": "python",
   "name": "python2"
  },
  "language_info": {
   "codemirror_mode": {
    "name": "ipython",
    "version": 2
   },
   "file_extension": ".py",
   "mimetype": "text/x-python",
   "name": "python",
   "nbconvert_exporter": "python",
   "pygments_lexer": "ipython2",
   "version": "2.7.13"
  }
 },
 "nbformat": 4,
 "nbformat_minor": 0
}
