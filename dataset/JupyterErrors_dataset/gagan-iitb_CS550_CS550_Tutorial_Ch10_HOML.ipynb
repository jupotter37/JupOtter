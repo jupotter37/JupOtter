{
  "nbformat": 4,
  "nbformat_minor": 0,
  "metadata": {
    "colab": {
      "provenance": []
    },
    "kernelspec": {
      "name": "python3",
      "display_name": "Python 3"
    },
    "language_info": {
      "name": "python"
    }
  },
  "cells": [
    {
      "cell_type": "markdown",
      "source": [
        "# 00 TensorFlow Fundamentals"
      ],
      "metadata": {
        "id": "KCdtgDukA9WQ"
      }
    },
    {
      "cell_type": "code",
      "source": [
        "import tensorflow as tf\n",
        "import numpy as np\n"
      ],
      "metadata": {
        "id": "FIl2uqVeJQpG"
      },
      "execution_count": 2,
      "outputs": []
    },
    {
      "cell_type": "markdown",
      "source": [
        "## 01 What is a tensor?"
      ],
      "metadata": {
        "id": "bnmGhFZ5F_qN"
      }
    },
    {
      "cell_type": "markdown",
      "source": [
        "* It's a primary data structure used by neural networks.\n",
        "* It's an n-dimensional array of numbers.\n",
        "* When using deep learning, we prefer tensors over numpy arrays.\n",
        "* Reason: Tensors works well with GPU and helps in faster training of a deep learning model. "
      ],
      "metadata": {
        "id": "Vyg9yqi3HZut"
      }
    },
    {
      "cell_type": "markdown",
      "source": [
        "## 02 Create a scalar in tensorflow"
      ],
      "metadata": {
        "id": "qvegpK0fJBGj"
      }
    },
    {
      "cell_type": "code",
      "source": [
        "scalar = tf.constant(7)"
      ],
      "metadata": {
        "id": "F38VgqI0JKqs"
      },
      "execution_count": 3,
      "outputs": []
    },
    {
      "cell_type": "markdown",
      "source": [
        "## 03 Create a vector in tensorflow"
      ],
      "metadata": {
        "id": "pAiZSIn-KVD0"
      }
    },
    {
      "cell_type": "code",
      "source": [
        "vector = tf.constant([3, 4])"
      ],
      "metadata": {
        "id": "-o8mn8Y8KUgc"
      },
      "execution_count": 4,
      "outputs": []
    },
    {
      "cell_type": "markdown",
      "source": [
        "## 04 Create a matrix in tensorflow"
      ],
      "metadata": {
        "id": "7RVDxezZKpsj"
      }
    },
    {
      "cell_type": "code",
      "source": [
        "matrix = tf.constant([[3, 4],\n",
        "                      [4, 5]])"
      ],
      "metadata": {
        "id": "XIue_WXpK6Jc"
      },
      "execution_count": 5,
      "outputs": []
    },
    {
      "cell_type": "markdown",
      "source": [
        "## 05 Check dimensions"
      ],
      "metadata": {
        "id": "55NBrlkeLHv8"
      }
    },
    {
      "cell_type": "code",
      "source": [
        "print(scalar.ndim)\n",
        "print(vector.ndim)\n",
        "print(matrix.ndim)"
      ],
      "metadata": {
        "colab": {
          "base_uri": "https://localhost:8080/"
        },
        "id": "xPeeQNZ-OawM",
        "outputId": "fe594794-42f5-4697-f4ff-4419fc9bce63"
      },
      "execution_count": 6,
      "outputs": [
        {
          "output_type": "stream",
          "name": "stdout",
          "text": [
            "0\n",
            "1\n",
            "2\n"
          ]
        }
      ]
    },
    {
      "cell_type": "markdown",
      "source": [
        "what we have created so far\n",
        "\n",
        "* scalar = a single number\n",
        "* vector = a number with direction\n",
        "* matrix = a two dimensional array of numbers \n",
        "* tensor = an n-dimensional array of numbers"
      ],
      "metadata": {
        "id": "z9cEO9ymm_kc"
      }
    },
    {
      "cell_type": "markdown",
      "source": [
        "## 06 Changable & Unchangable tensors"
      ],
      "metadata": {
        "id": "YbkMzIFEOoCV"
      }
    },
    {
      "cell_type": "code",
      "source": [
        "unchangable = tf.constant([3,4])\n",
        "changable = tf.Variable([3,4])"
      ],
      "metadata": {
        "id": "5L873ZAGO7Hc"
      },
      "execution_count": 7,
      "outputs": []
    },
    {
      "cell_type": "code",
      "source": [
        "# changable tensors can be changed by '.assign()'\n",
        "changable[0].assign(7)\n",
        "print(changable)"
      ],
      "metadata": {
        "colab": {
          "base_uri": "https://localhost:8080/"
        },
        "id": "qMFyjsK4PMxM",
        "outputId": "0ff8458a-2173-4d56-96e3-94cedeef3e87"
      },
      "execution_count": 8,
      "outputs": [
        {
          "output_type": "stream",
          "name": "stdout",
          "text": [
            "<tf.Variable 'Variable:0' shape=(2,) dtype=int32, numpy=array([7, 4], dtype=int32)>\n"
          ]
        }
      ]
    },
    {
      "cell_type": "code",
      "source": [
        "unchangable[0].assign(7)"
      ],
      "metadata": {
        "colab": {
          "base_uri": "https://localhost:8080/",
          "height": 287
        },
        "id": "ZOHSpAWmP-2U",
        "outputId": "fade2de9-3c84-40de-9a8e-63411eeeea0f"
      },
      "execution_count": 9,
      "outputs": [
        {
          "output_type": "error",
          "ename": "AttributeError",
          "evalue": "ignored",
          "traceback": [
            "\u001b[0;31m---------------------------------------------------------------------------\u001b[0m",
            "\u001b[0;31mAttributeError\u001b[0m                            Traceback (most recent call last)",
            "\u001b[0;32m<ipython-input-9-b5aa2acebc45>\u001b[0m in \u001b[0;36m<module>\u001b[0;34m\u001b[0m\n\u001b[0;32m----> 1\u001b[0;31m \u001b[0munchangable\u001b[0m\u001b[0;34m[\u001b[0m\u001b[0;36m0\u001b[0m\u001b[0;34m]\u001b[0m\u001b[0;34m.\u001b[0m\u001b[0massign\u001b[0m\u001b[0;34m(\u001b[0m\u001b[0;36m7\u001b[0m\u001b[0;34m)\u001b[0m\u001b[0;34m\u001b[0m\u001b[0;34m\u001b[0m\u001b[0m\n\u001b[0m",
            "\u001b[0;32m/usr/local/lib/python3.7/dist-packages/tensorflow/python/framework/ops.py\u001b[0m in \u001b[0;36m__getattr__\u001b[0;34m(self, name)\u001b[0m\n\u001b[1;32m    511\u001b[0m         \u001b[0;32mfrom\u001b[0m \u001b[0mtensorflow\u001b[0m\u001b[0;34m.\u001b[0m\u001b[0mpython\u001b[0m\u001b[0;34m.\u001b[0m\u001b[0mops\u001b[0m\u001b[0;34m.\u001b[0m\u001b[0mnumpy_ops\u001b[0m \u001b[0;32mimport\u001b[0m \u001b[0mnp_config\u001b[0m\u001b[0;34m\u001b[0m\u001b[0;34m\u001b[0m\u001b[0m\n\u001b[1;32m    512\u001b[0m         np_config.enable_numpy_behavior()\"\"\".format(type(self).__name__, name))\n\u001b[0;32m--> 513\u001b[0;31m     \u001b[0mself\u001b[0m\u001b[0;34m.\u001b[0m\u001b[0m__getattribute__\u001b[0m\u001b[0;34m(\u001b[0m\u001b[0mname\u001b[0m\u001b[0;34m)\u001b[0m\u001b[0;34m\u001b[0m\u001b[0;34m\u001b[0m\u001b[0m\n\u001b[0m\u001b[1;32m    514\u001b[0m \u001b[0;34m\u001b[0m\u001b[0m\n\u001b[1;32m    515\u001b[0m   \u001b[0;34m@\u001b[0m\u001b[0mstaticmethod\u001b[0m\u001b[0;34m\u001b[0m\u001b[0;34m\u001b[0m\u001b[0m\n",
            "\u001b[0;31mAttributeError\u001b[0m: 'tensorflow.python.framework.ops.EagerTensor' object has no attribute 'assign'"
          ]
        }
      ]
    },
    {
      "cell_type": "markdown",
      "source": [
        "## 07 What is random seed?"
      ],
      "metadata": {
        "id": "f2JcdRKeQDws"
      }
    },
    {
      "cell_type": "markdown",
      "source": [
        "* .seed() method is used to initialize the random number generator. \n",
        "* If this method is not used, the default start number  is based on system time."
      ],
      "metadata": {
        "id": "VO_B0j5JQZ4N"
      }
    },
    {
      "cell_type": "code",
      "source": [
        "# creating 3 random tensors\n",
        "random_1 = tf.random.Generator.from_seed(42)\n",
        "random_1 = random_1.normal(shape=(3, 2))\n",
        "\n",
        "random_2 = tf.random.Generator.from_seed(42)\n",
        "random_2 = random_2.normal(shape=(3, 2))\n",
        "\n",
        "random_3 = tf.random.Generator.from_seed(24)\n",
        "random_3 = random_3.normal(shape=(3, 2))"
      ],
      "metadata": {
        "id": "IDMohBCOQ1Xj"
      },
      "execution_count": 30,
      "outputs": []
    },
    {
      "cell_type": "code",
      "source": [
        "print(random_1 == random_2)\n",
        "print(random_1 == random_3)"
      ],
      "metadata": {
        "colab": {
          "base_uri": "https://localhost:8080/"
        },
        "id": "sdvR01TVRxz0",
        "outputId": "13abf943-cf1d-44cf-902c-6d11f111f173"
      },
      "execution_count": 31,
      "outputs": [
        {
          "output_type": "stream",
          "name": "stdout",
          "text": [
            "tf.Tensor(\n",
            "[[ True  True]\n",
            " [ True  True]\n",
            " [ True  True]], shape=(3, 2), dtype=bool)\n",
            "tf.Tensor(\n",
            "[[False False]\n",
            " [False False]\n",
            " [False False]], shape=(3, 2), dtype=bool)\n"
          ]
        }
      ]
    },
    {
      "cell_type": "markdown",
      "source": [
        "## 08 Shuffling the tensors"
      ],
      "metadata": {
        "id": "tV1xmP2bSqy0"
      }
    },
    {
      "cell_type": "code",
      "source": [
        "not_shuffled = tf.constant([[3, 4],\n",
        "                            [4, 5],\n",
        "                            [5, 6]])\n",
        "\n",
        "shuffled = tf.random.shuffle(not_shuffled)\n",
        "\n",
        "shuffled"
      ],
      "metadata": {
        "colab": {
          "base_uri": "https://localhost:8080/"
        },
        "id": "1_1wjMMMSyQN",
        "outputId": "0b9a8a06-760e-40be-8e3a-f04161b9c4db"
      },
      "execution_count": 32,
      "outputs": [
        {
          "output_type": "execute_result",
          "data": {
            "text/plain": [
              "<tf.Tensor: shape=(3, 2), dtype=int32, numpy=\n",
              "array([[3, 4],\n",
              "       [4, 5],\n",
              "       [5, 6]], dtype=int32)>"
            ]
          },
          "metadata": {},
          "execution_count": 32
        }
      ]
    },
    {
      "cell_type": "markdown",
      "source": [
        "## 09 Creating tensors of 1's and 0's"
      ],
      "metadata": {
        "id": "KB9qlQTpUw5l"
      }
    },
    {
      "cell_type": "code",
      "source": [
        "ones = tf.ones([3, 2])\n",
        "zeros = tf.zeros([3, 2])\n",
        "\n",
        "print(ones)\n",
        "print(zeros)"
      ],
      "metadata": {
        "colab": {
          "base_uri": "https://localhost:8080/"
        },
        "id": "lSlWQsGlU6bd",
        "outputId": "34f929a2-4124-452c-8c60-32108a435949"
      },
      "execution_count": 33,
      "outputs": [
        {
          "output_type": "stream",
          "name": "stdout",
          "text": [
            "tf.Tensor(\n",
            "[[1. 1.]\n",
            " [1. 1.]\n",
            " [1. 1.]], shape=(3, 2), dtype=float32)\n",
            "tf.Tensor(\n",
            "[[0. 0.]\n",
            " [0. 0.]\n",
            " [0. 0.]], shape=(3, 2), dtype=float32)\n"
          ]
        }
      ]
    },
    {
      "cell_type": "markdown",
      "source": [
        "## 10 Turning numpy array into tensor"
      ],
      "metadata": {
        "id": "ei04pgJyVLJ8"
      }
    },
    {
      "cell_type": "code",
      "source": [
        "numpy_A = np.arange(1,25,dtype=int)\n",
        "numpy_A"
      ],
      "metadata": {
        "colab": {
          "base_uri": "https://localhost:8080/"
        },
        "id": "ytSDxhQ-fT36",
        "outputId": "a0669420-bf78-4a9d-b645-a71edf412aa7"
      },
      "execution_count": 34,
      "outputs": [
        {
          "output_type": "execute_result",
          "data": {
            "text/plain": [
              "array([ 1,  2,  3,  4,  5,  6,  7,  8,  9, 10, 11, 12, 13, 14, 15, 16, 17,\n",
              "       18, 19, 20, 21, 22, 23, 24])"
            ]
          },
          "metadata": {},
          "execution_count": 34
        }
      ]
    },
    {
      "cell_type": "code",
      "source": [
        "A = tf.constant(numpy_A)\n",
        "A"
      ],
      "metadata": {
        "colab": {
          "base_uri": "https://localhost:8080/"
        },
        "id": "HZyGiT86f56N",
        "outputId": "4e465a15-216e-4abe-86d3-ff91ff25d56d"
      },
      "execution_count": 35,
      "outputs": [
        {
          "output_type": "execute_result",
          "data": {
            "text/plain": [
              "<tf.Tensor: shape=(24,), dtype=int64, numpy=\n",
              "array([ 1,  2,  3,  4,  5,  6,  7,  8,  9, 10, 11, 12, 13, 14, 15, 16, 17,\n",
              "       18, 19, 20, 21, 22, 23, 24])>"
            ]
          },
          "metadata": {},
          "execution_count": 35
        }
      ]
    },
    {
      "cell_type": "code",
      "source": [
        "B = tf.constant(numpy_A, shape=(2,3,4))\n",
        "B"
      ],
      "metadata": {
        "colab": {
          "base_uri": "https://localhost:8080/"
        },
        "id": "B4wuaECUgDLt",
        "outputId": "ce0bedec-340e-4e88-ab90-ade0f10e1461"
      },
      "execution_count": 36,
      "outputs": [
        {
          "output_type": "execute_result",
          "data": {
            "text/plain": [
              "<tf.Tensor: shape=(2, 3, 4), dtype=int64, numpy=\n",
              "array([[[ 1,  2,  3,  4],\n",
              "        [ 5,  6,  7,  8],\n",
              "        [ 9, 10, 11, 12]],\n",
              "\n",
              "       [[13, 14, 15, 16],\n",
              "        [17, 18, 19, 20],\n",
              "        [21, 22, 23, 24]]])>"
            ]
          },
          "metadata": {},
          "execution_count": 36
        }
      ]
    },
    {
      "cell_type": "markdown",
      "source": [
        "## 11 Slicing a tensor "
      ],
      "metadata": {
        "id": "MbnZmelfgf49"
      }
    },
    {
      "cell_type": "code",
      "source": [
        "B[:2,:2,:2]"
      ],
      "metadata": {
        "colab": {
          "base_uri": "https://localhost:8080/"
        },
        "id": "bK4BOwv-gqwt",
        "outputId": "9686b0d7-fc00-4b11-dde2-53263e95070e"
      },
      "execution_count": 37,
      "outputs": [
        {
          "output_type": "execute_result",
          "data": {
            "text/plain": [
              "<tf.Tensor: shape=(2, 2, 2), dtype=int64, numpy=\n",
              "array([[[ 1,  2],\n",
              "        [ 5,  6]],\n",
              "\n",
              "       [[13, 14],\n",
              "        [17, 18]]])>"
            ]
          },
          "metadata": {},
          "execution_count": 37
        }
      ]
    },
    {
      "cell_type": "markdown",
      "source": [
        "## 12 Adding an extra dimension to a tensor"
      ],
      "metadata": {
        "id": "LNztWMG5gwB7"
      }
    },
    {
      "cell_type": "code",
      "source": [
        "C = tf.expand_dims(B,axis=0)\n",
        "C.shape"
      ],
      "metadata": {
        "colab": {
          "base_uri": "https://localhost:8080/"
        },
        "id": "Mlmt3PeGhAm9",
        "outputId": "d0810285-cff3-44b5-c098-93e0c12609de"
      },
      "execution_count": 38,
      "outputs": [
        {
          "output_type": "execute_result",
          "data": {
            "text/plain": [
              "TensorShape([1, 2, 3, 4])"
            ]
          },
          "metadata": {},
          "execution_count": 38
        }
      ]
    },
    {
      "cell_type": "markdown",
      "source": [
        "## 13 Tensor operations"
      ],
      "metadata": {
        "id": "ShjabYtVhwal"
      }
    },
    {
      "cell_type": "code",
      "source": [
        "tensor = tf.constant([[3,4],\n",
        "                      [5,6]])\n",
        "\n",
        "add = tensor + 10\n",
        "print(add)\n",
        "print()\n",
        "\n",
        "sub = tensor - 10\n",
        "print(sub)\n",
        "print()\n",
        "\n",
        "multi = tensor * 10\n",
        "print(multi)\n",
        "print()\n",
        "\n",
        "div = tensor / 10\n",
        "print(div)"
      ],
      "metadata": {
        "colab": {
          "base_uri": "https://localhost:8080/"
        },
        "id": "Z6k5VpP0hPlR",
        "outputId": "c4df7d60-1bdf-43f6-e9a7-a639f73850f2"
      },
      "execution_count": 39,
      "outputs": [
        {
          "output_type": "stream",
          "name": "stdout",
          "text": [
            "tf.Tensor(\n",
            "[[13 14]\n",
            " [15 16]], shape=(2, 2), dtype=int32)\n",
            "\n",
            "tf.Tensor(\n",
            "[[-7 -6]\n",
            " [-5 -4]], shape=(2, 2), dtype=int32)\n",
            "\n",
            "tf.Tensor(\n",
            "[[30 40]\n",
            " [50 60]], shape=(2, 2), dtype=int32)\n",
            "\n",
            "tf.Tensor(\n",
            "[[0.3 0.4]\n",
            " [0.5 0.6]], shape=(2, 2), dtype=float64)\n"
          ]
        }
      ]
    },
    {
      "cell_type": "markdown",
      "source": [
        "## 14 Matrix multipication in tensorflow"
      ],
      "metadata": {
        "id": "UDKBcHZGiyKN"
      }
    },
    {
      "cell_type": "code",
      "source": [
        "A = tf.constant([[3, 4],\n",
        "                [5, 6]])\n",
        "\n",
        "# Element wise multiplication\n",
        "print(A * A)\n",
        "print()\n",
        "\n",
        "# matrix multiplication\n",
        "print(A @ A)"
      ],
      "metadata": {
        "colab": {
          "base_uri": "https://localhost:8080/"
        },
        "id": "hDLQsH9LjBGN",
        "outputId": "4cd76151-c109-46c3-e507-763eeed68e05"
      },
      "execution_count": 40,
      "outputs": [
        {
          "output_type": "stream",
          "name": "stdout",
          "text": [
            "tf.Tensor(\n",
            "[[ 9 16]\n",
            " [25 36]], shape=(2, 2), dtype=int32)\n",
            "\n",
            "tf.Tensor(\n",
            "[[29 36]\n",
            " [45 56]], shape=(2, 2), dtype=int32)\n"
          ]
        }
      ]
    },
    {
      "cell_type": "markdown",
      "source": [
        "## 15 Change datatype of tensor"
      ],
      "metadata": {
        "id": "5V_t8acXkLUN"
      }
    },
    {
      "cell_type": "code",
      "source": [
        "E = tf.cast(A, dtype=tf.float16)\n",
        "\n",
        "print(A.dtype)\n",
        "print(E.dtype)"
      ],
      "metadata": {
        "colab": {
          "base_uri": "https://localhost:8080/"
        },
        "id": "dqLsKR8-kTG9",
        "outputId": "ff957b92-5237-49eb-c3db-b24fb54546ad"
      },
      "execution_count": 41,
      "outputs": [
        {
          "output_type": "stream",
          "name": "stdout",
          "text": [
            "<dtype: 'int32'>\n",
            "<dtype: 'float16'>\n"
          ]
        }
      ]
    },
    {
      "cell_type": "markdown",
      "source": [
        "## 16 Some tensorflow statistics"
      ],
      "metadata": {
        "id": "ZGuVj_pdlD69"
      }
    },
    {
      "cell_type": "code",
      "source": [
        "I = tf.constant(np.random.randint(0,100,size=50))\n",
        "print(I)"
      ],
      "metadata": {
        "colab": {
          "base_uri": "https://localhost:8080/"
        },
        "id": "UC2hcK8TlpBs",
        "outputId": "a9cdcb42-1863-42b3-cde7-08232fec881d"
      },
      "execution_count": 42,
      "outputs": [
        {
          "output_type": "stream",
          "name": "stdout",
          "text": [
            "tf.Tensor(\n",
            "[18 52 41 90 34 59 14 85 42 86 64 38  6  8 35  3  6 39 53 81 14 44 81 41\n",
            " 87 73 91 35  5 32 32 14 79 72 13 81 99 29 57 83 38 25 14 90 15 19 55 46\n",
            " 91  3], shape=(50,), dtype=int64)\n"
          ]
        }
      ]
    },
    {
      "cell_type": "code",
      "source": [
        "min = tf.reduce_min(I)\n",
        "min"
      ],
      "metadata": {
        "colab": {
          "base_uri": "https://localhost:8080/"
        },
        "id": "wagMRqaml43c",
        "outputId": "c516c9e3-86d9-47c8-cf2d-ca3f60c7cb2d"
      },
      "execution_count": 43,
      "outputs": [
        {
          "output_type": "execute_result",
          "data": {
            "text/plain": [
              "<tf.Tensor: shape=(), dtype=int64, numpy=3>"
            ]
          },
          "metadata": {},
          "execution_count": 43
        }
      ]
    },
    {
      "cell_type": "code",
      "source": [
        "max = tf.reduce_max(I)\n",
        "max"
      ],
      "metadata": {
        "colab": {
          "base_uri": "https://localhost:8080/"
        },
        "id": "4KyejskrmBSM",
        "outputId": "d1287434-02e0-45f3-8c97-6a0d863821b5"
      },
      "execution_count": 44,
      "outputs": [
        {
          "output_type": "execute_result",
          "data": {
            "text/plain": [
              "<tf.Tensor: shape=(), dtype=int64, numpy=99>"
            ]
          },
          "metadata": {},
          "execution_count": 44
        }
      ]
    },
    {
      "cell_type": "code",
      "source": [
        "sum = tf.reduce_sum(I)\n",
        "sum"
      ],
      "metadata": {
        "colab": {
          "base_uri": "https://localhost:8080/"
        },
        "id": "QwOH8KTnmMR8",
        "outputId": "5ce13e1a-9d82-4d6b-ee5b-f0c1f667cf8d"
      },
      "execution_count": 45,
      "outputs": [
        {
          "output_type": "execute_result",
          "data": {
            "text/plain": [
              "<tf.Tensor: shape=(), dtype=int64, numpy=2312>"
            ]
          },
          "metadata": {},
          "execution_count": 45
        }
      ]
    },
    {
      "cell_type": "code",
      "source": [
        "import tensorflow_probability as tfp\n",
        "var = tfp.stats.variance(I)\n",
        "var"
      ],
      "metadata": {
        "colab": {
          "base_uri": "https://localhost:8080/"
        },
        "id": "dUJUwRdZmVZ1",
        "outputId": "f049637b-9b60-4803-c540-5f8b72587b68"
      },
      "execution_count": 46,
      "outputs": [
        {
          "output_type": "execute_result",
          "data": {
            "text/plain": [
              "<tf.Tensor: shape=(), dtype=int64, numpy=865>"
            ]
          },
          "metadata": {},
          "execution_count": 46
        }
      ]
    },
    {
      "cell_type": "code",
      "source": [
        "std_dev = tfp.stats.stddev(tf.cast(I,dtype=tf.float16))\n",
        "std_dev"
      ],
      "metadata": {
        "colab": {
          "base_uri": "https://localhost:8080/"
        },
        "id": "7ZwTWm3fmq48",
        "outputId": "708a4233-a476-48f8-9c5a-5b6c90c46843"
      },
      "execution_count": 47,
      "outputs": [
        {
          "output_type": "execute_result",
          "data": {
            "text/plain": [
              "<tf.Tensor: shape=(), dtype=float16, numpy=29.42>"
            ]
          },
          "metadata": {},
          "execution_count": 47
        }
      ]
    },
    {
      "cell_type": "markdown",
      "source": [
        "## 17 Finding position of max and min element in a tensor"
      ],
      "metadata": {
        "id": "HcCJaoE8oPj8"
      }
    },
    {
      "cell_type": "code",
      "source": [
        "F = tf.constant(np.random.uniform(size=50))\n",
        "F"
      ],
      "metadata": {
        "colab": {
          "base_uri": "https://localhost:8080/"
        },
        "id": "hOvCh66nowu8",
        "outputId": "86085679-9fc9-4c1a-b6a5-df37082cf4cd"
      },
      "execution_count": 48,
      "outputs": [
        {
          "output_type": "execute_result",
          "data": {
            "text/plain": [
              "<tf.Tensor: shape=(50,), dtype=float64, numpy=\n",
              "array([0.99318425, 0.29861728, 0.4738228 , 0.8175981 , 0.24899476,\n",
              "       0.62397069, 0.28448312, 0.46979699, 0.81795351, 0.19119863,\n",
              "       0.47516001, 0.29793599, 0.64392963, 0.26170293, 0.29982215,\n",
              "       0.54220802, 0.17455411, 0.99074953, 0.97061477, 0.39565884,\n",
              "       0.58804928, 0.64097952, 0.44753115, 0.87275115, 0.12887186,\n",
              "       0.70424817, 0.01309728, 0.0893157 , 0.49119734, 0.67960604,\n",
              "       0.48751312, 0.99750443, 0.23448513, 0.93363167, 0.11775829,\n",
              "       0.14315635, 0.80828727, 0.35406897, 0.64420803, 0.60091176,\n",
              "       0.80209462, 0.78080432, 0.00962969, 0.04602623, 0.59537124,\n",
              "       0.34407399, 0.53512584, 0.04791463, 0.0817017 , 0.27377723])>"
            ]
          },
          "metadata": {},
          "execution_count": 48
        }
      ]
    },
    {
      "cell_type": "code",
      "source": [
        "min_index = tf.argmin(F)\n",
        "min_index, F[min_index]"
      ],
      "metadata": {
        "colab": {
          "base_uri": "https://localhost:8080/"
        },
        "id": "NHckNbcto98M",
        "outputId": "2fea38da-b45b-48f0-bcd1-39f4b3a2c6a5"
      },
      "execution_count": 50,
      "outputs": [
        {
          "output_type": "execute_result",
          "data": {
            "text/plain": [
              "(<tf.Tensor: shape=(), dtype=int64, numpy=42>,\n",
              " <tf.Tensor: shape=(), dtype=float64, numpy=0.009629689455294854>)"
            ]
          },
          "metadata": {},
          "execution_count": 50
        }
      ]
    },
    {
      "cell_type": "code",
      "source": [
        "max_index = tf.argmax(F)\n",
        "max_index, F[max_index]"
      ],
      "metadata": {
        "colab": {
          "base_uri": "https://localhost:8080/"
        },
        "id": "9ea8m3V1pnfs",
        "outputId": "990856ec-2998-4b9c-8501-5e1427912c9e"
      },
      "execution_count": 51,
      "outputs": [
        {
          "output_type": "execute_result",
          "data": {
            "text/plain": [
              "(<tf.Tensor: shape=(), dtype=int64, numpy=31>,\n",
              " <tf.Tensor: shape=(), dtype=float64, numpy=0.997504431725341>)"
            ]
          },
          "metadata": {},
          "execution_count": 51
        }
      ]
    },
    {
      "cell_type": "markdown",
      "source": [
        "## 18 Squeezing the tensor"
      ],
      "metadata": {
        "id": "ei0cxhCqkxd2"
      }
    },
    {
      "cell_type": "code",
      "source": [
        "G = tf.constant(tf.random.uniform(shape=[50]),\n",
        "                shape=(1,1,1,50))\n",
        "print(G.shape)\n",
        "print()\n",
        "G_squeezed = tf.squeeze(G)\n",
        "print(G_squeezed.shape)"
      ],
      "metadata": {
        "colab": {
          "base_uri": "https://localhost:8080/"
        },
        "id": "n7ucsFyDlY3-",
        "outputId": "9121a615-37ba-4442-9ffb-c61749ad5f1c"
      },
      "execution_count": 52,
      "outputs": [
        {
          "output_type": "stream",
          "name": "stdout",
          "text": [
            "(1, 1, 1, 50)\n",
            "\n",
            "(50,)\n"
          ]
        }
      ]
    },
    {
      "cell_type": "markdown",
      "source": [
        "## 19 One Hot Encoding tensor"
      ],
      "metadata": {
        "id": "7PDqZr2YmOrI"
      }
    },
    {
      "cell_type": "code",
      "source": [
        "some_list = [0,1,2,3]\n",
        "\n",
        "print(tf.one_hot(some_list, depth=4))\n",
        "print()\n",
        "print(tf.one_hot(some_list, depth=4, on_value='Yes',off_value='No'))"
      ],
      "metadata": {
        "colab": {
          "base_uri": "https://localhost:8080/"
        },
        "id": "FQjQn5WtmcSC",
        "outputId": "c51ea5bd-4df5-47a1-c26d-1a7ab34dfe0f"
      },
      "execution_count": 56,
      "outputs": [
        {
          "output_type": "stream",
          "name": "stdout",
          "text": [
            "tf.Tensor(\n",
            "[[1. 0. 0. 0.]\n",
            " [0. 1. 0. 0.]\n",
            " [0. 0. 1. 0.]\n",
            " [0. 0. 0. 1.]], shape=(4, 4), dtype=float32)\n",
            "\n",
            "tf.Tensor(\n",
            "[[b'Yes' b'No' b'No' b'No']\n",
            " [b'No' b'Yes' b'No' b'No']\n",
            " [b'No' b'No' b'Yes' b'No']\n",
            " [b'No' b'No' b'No' b'Yes']], shape=(4, 4), dtype=string)\n"
          ]
        }
      ]
    },
    {
      "cell_type": "markdown",
      "source": [
        "## 20 Some math functions"
      ],
      "metadata": {
        "id": "vgpEllfyn6M2"
      }
    },
    {
      "cell_type": "code",
      "source": [
        "E = tf.range(1,24)\n",
        "E = tf.cast(E,dtype=tf.float16)"
      ],
      "metadata": {
        "id": "EIYtz77moQgN"
      },
      "execution_count": 64,
      "outputs": []
    },
    {
      "cell_type": "code",
      "source": [
        "tf.math.square(E)"
      ],
      "metadata": {
        "colab": {
          "base_uri": "https://localhost:8080/"
        },
        "id": "80yxOkZUoWt-",
        "outputId": "05beb3de-6fe2-4ef4-cc66-dfea104d32dc"
      },
      "execution_count": 58,
      "outputs": [
        {
          "output_type": "execute_result",
          "data": {
            "text/plain": [
              "<tf.Tensor: shape=(23,), dtype=int32, numpy=\n",
              "array([  1,   4,   9,  16,  25,  36,  49,  64,  81, 100, 121, 144, 169,\n",
              "       196, 225, 256, 289, 324, 361, 400, 441, 484, 529], dtype=int32)>"
            ]
          },
          "metadata": {},
          "execution_count": 58
        }
      ]
    },
    {
      "cell_type": "code",
      "source": [
        "tf.math.sqrt(tf.cast(E,dtype=tf.float16))"
      ],
      "metadata": {
        "colab": {
          "base_uri": "https://localhost:8080/"
        },
        "id": "YIVDtxSSob69",
        "outputId": "e87bab42-618c-41eb-8742-41611600ffe2"
      },
      "execution_count": 62,
      "outputs": [
        {
          "output_type": "execute_result",
          "data": {
            "text/plain": [
              "<tf.Tensor: shape=(23,), dtype=float16, numpy=\n",
              "array([1.   , 1.414, 1.732, 2.   , 2.236, 2.45 , 2.646, 2.828, 3.   ,\n",
              "       3.162, 3.316, 3.465, 3.605, 3.742, 3.873, 4.   , 4.125, 4.242,\n",
              "       4.36 , 4.473, 4.582, 4.69 , 4.797], dtype=float16)>"
            ]
          },
          "metadata": {},
          "execution_count": 62
        }
      ]
    },
    {
      "cell_type": "code",
      "source": [
        "tf.math.log(E)"
      ],
      "metadata": {
        "colab": {
          "base_uri": "https://localhost:8080/"
        },
        "id": "7fITih45ofd8",
        "outputId": "3f4b719e-4844-44f9-f5fc-77294b23f2e6"
      },
      "execution_count": 65,
      "outputs": [
        {
          "output_type": "execute_result",
          "data": {
            "text/plain": [
              "<tf.Tensor: shape=(23,), dtype=float16, numpy=\n",
              "array([0.    , 0.6934, 1.099 , 1.387 , 1.609 , 1.792 , 1.946 , 2.08  ,\n",
              "       2.197 , 2.303 , 2.398 , 2.484 , 2.564 , 2.639 , 2.709 , 2.773 ,\n",
              "       2.834 , 2.89  , 2.945 , 2.996 , 3.045 , 3.092 , 3.135 ],\n",
              "      dtype=float16)>"
            ]
          },
          "metadata": {},
          "execution_count": 65
        }
      ]
    },
    {
      "cell_type": "markdown",
      "source": [
        "# 01 Regression & Classification using TensorFlow"
      ],
      "metadata": {
        "id": "Q_ckXFI3pkk2"
      }
    },
    {
      "cell_type": "markdown",
      "source": [
        "## 01 Steps for making an ML model"
      ],
      "metadata": {
        "id": "TKz4Q5Aap2-f"
      }
    },
    {
      "cell_type": "markdown",
      "source": [
        "1. Create a model - Define the input, output & hidden layers of the deep learning model.\n",
        "2. Compile the model - Define a loss function, an optimizer and an evaluation metric. \n",
        "3. Fitting the model - Letting the model learn patterns between X & y. "
      ],
      "metadata": {
        "id": "2pmaMX3dyhwg"
      }
    },
    {
      "cell_type": "markdown",
      "source": [
        "## 02 Steps for modelling with tensorflow"
      ],
      "metadata": {
        "id": "Ux6gRkrOzT1n"
      }
    },
    {
      "cell_type": "markdown",
      "source": [
        "1. Getting data ready(turning into tensors).\n",
        "2. Build or pick a pretrained model.\n",
        "3. Fit the model to data & make prediction.\n",
        "4. Evaluate the model.\n",
        "5. Improve through experimentation.\n",
        "6. Save and reload your trained model."
      ],
      "metadata": {
        "id": "e0Jara2Uzc1O"
      }
    },
    {
      "cell_type": "markdown",
      "source": [
        "## 03 Some basic definations"
      ],
      "metadata": {
        "id": "F2M_l1jI0AT-"
      }
    },
    {
      "cell_type": "markdown",
      "source": [
        "* Epoch - Number of times the algorithm runs on the whole training dataset.\n",
        "* Sample - A single row of dataset\n",
        "* Batch - It denotes the number of samples to be taken for updating the model parameters.\n",
        "* Learning rate - It is a parameter that provides the model a scale on how much model weights should be updated.\n",
        "* Loss function - A function that gives difference between predicted value & the actual value.\n",
        "* Weights/Bias - The learnable parameter in a model that controls the signal between two neurons. "
      ],
      "metadata": {
        "id": "Kv5Wqvk30MTu"
      }
    },
    {
      "cell_type": "markdown",
      "source": [
        "## 04 Sequential and Functional API"
      ],
      "metadata": {
        "id": "XiX4Ju0E28qP"
      }
    },
    {
      "cell_type": "markdown",
      "source": [
        "* There are 2 ways of building keras models:\n",
        "> * Sequential \n",
        "> * Functional\n",
        "\n",
        "* The Sequential API allows you to create models layer-by-layer for most problems. Sequential API doesn't allow you to create models that shares layers or have multiple inputs or outputs.\n",
        "\n",
        "* Alternately, the functional API allows you to create models that have a lot more flexibility as you can easily define models where layers connect to more than just the previous & next layers. You can connect a layer to any other layer\n"
      ],
      "metadata": {
        "id": "GFujP_HS3CdP"
      }
    },
    {
      "cell_type": "markdown",
      "source": [
        "## 05 Regression using TensorFlow"
      ],
      "metadata": {
        "id": "XXp_r9Bf4hks"
      }
    },
    {
      "cell_type": "code",
      "source": [
        "# Import required libraries\n",
        "import tensorflow as tf\n",
        "import pandas as pd\n",
        "import matplotlib.pyplot as plt\n"
      ],
      "metadata": {
        "id": "DT-PWeSTIsuN"
      },
      "execution_count": 1,
      "outputs": []
    },
    {
      "cell_type": "code",
      "source": [
        "# read in the insurance dataset (the below link is obtained from github>raw)\n",
        "insurance = pd.read_csv(\"https://raw.githubusercontent.com/stedy/Machine-Learning-with-R-datasets/master/insurance.csv\")\n",
        "insurance"
      ],
      "metadata": {
        "colab": {
          "base_uri": "https://localhost:8080/",
          "height": 424
        },
        "id": "muCwhwguI-Rb",
        "outputId": "31b6fce5-dcdf-4709-d186-8556da187f57"
      },
      "execution_count": 2,
      "outputs": [
        {
          "output_type": "execute_result",
          "data": {
            "text/plain": [
              "      age     sex     bmi  children smoker     region      charges\n",
              "0      19  female  27.900         0    yes  southwest  16884.92400\n",
              "1      18    male  33.770         1     no  southeast   1725.55230\n",
              "2      28    male  33.000         3     no  southeast   4449.46200\n",
              "3      33    male  22.705         0     no  northwest  21984.47061\n",
              "4      32    male  28.880         0     no  northwest   3866.85520\n",
              "...   ...     ...     ...       ...    ...        ...          ...\n",
              "1333   50    male  30.970         3     no  northwest  10600.54830\n",
              "1334   18  female  31.920         0     no  northeast   2205.98080\n",
              "1335   18  female  36.850         0     no  southeast   1629.83350\n",
              "1336   21  female  25.800         0     no  southwest   2007.94500\n",
              "1337   61  female  29.070         0    yes  northwest  29141.36030\n",
              "\n",
              "[1338 rows x 7 columns]"
            ],
            "text/html": [
              "\n",
              "  <div id=\"df-a88e27ed-828f-4376-968e-baa31155860a\">\n",
              "    <div class=\"colab-df-container\">\n",
              "      <div>\n",
              "<style scoped>\n",
              "    .dataframe tbody tr th:only-of-type {\n",
              "        vertical-align: middle;\n",
              "    }\n",
              "\n",
              "    .dataframe tbody tr th {\n",
              "        vertical-align: top;\n",
              "    }\n",
              "\n",
              "    .dataframe thead th {\n",
              "        text-align: right;\n",
              "    }\n",
              "</style>\n",
              "<table border=\"1\" class=\"dataframe\">\n",
              "  <thead>\n",
              "    <tr style=\"text-align: right;\">\n",
              "      <th></th>\n",
              "      <th>age</th>\n",
              "      <th>sex</th>\n",
              "      <th>bmi</th>\n",
              "      <th>children</th>\n",
              "      <th>smoker</th>\n",
              "      <th>region</th>\n",
              "      <th>charges</th>\n",
              "    </tr>\n",
              "  </thead>\n",
              "  <tbody>\n",
              "    <tr>\n",
              "      <th>0</th>\n",
              "      <td>19</td>\n",
              "      <td>female</td>\n",
              "      <td>27.900</td>\n",
              "      <td>0</td>\n",
              "      <td>yes</td>\n",
              "      <td>southwest</td>\n",
              "      <td>16884.92400</td>\n",
              "    </tr>\n",
              "    <tr>\n",
              "      <th>1</th>\n",
              "      <td>18</td>\n",
              "      <td>male</td>\n",
              "      <td>33.770</td>\n",
              "      <td>1</td>\n",
              "      <td>no</td>\n",
              "      <td>southeast</td>\n",
              "      <td>1725.55230</td>\n",
              "    </tr>\n",
              "    <tr>\n",
              "      <th>2</th>\n",
              "      <td>28</td>\n",
              "      <td>male</td>\n",
              "      <td>33.000</td>\n",
              "      <td>3</td>\n",
              "      <td>no</td>\n",
              "      <td>southeast</td>\n",
              "      <td>4449.46200</td>\n",
              "    </tr>\n",
              "    <tr>\n",
              "      <th>3</th>\n",
              "      <td>33</td>\n",
              "      <td>male</td>\n",
              "      <td>22.705</td>\n",
              "      <td>0</td>\n",
              "      <td>no</td>\n",
              "      <td>northwest</td>\n",
              "      <td>21984.47061</td>\n",
              "    </tr>\n",
              "    <tr>\n",
              "      <th>4</th>\n",
              "      <td>32</td>\n",
              "      <td>male</td>\n",
              "      <td>28.880</td>\n",
              "      <td>0</td>\n",
              "      <td>no</td>\n",
              "      <td>northwest</td>\n",
              "      <td>3866.85520</td>\n",
              "    </tr>\n",
              "    <tr>\n",
              "      <th>...</th>\n",
              "      <td>...</td>\n",
              "      <td>...</td>\n",
              "      <td>...</td>\n",
              "      <td>...</td>\n",
              "      <td>...</td>\n",
              "      <td>...</td>\n",
              "      <td>...</td>\n",
              "    </tr>\n",
              "    <tr>\n",
              "      <th>1333</th>\n",
              "      <td>50</td>\n",
              "      <td>male</td>\n",
              "      <td>30.970</td>\n",
              "      <td>3</td>\n",
              "      <td>no</td>\n",
              "      <td>northwest</td>\n",
              "      <td>10600.54830</td>\n",
              "    </tr>\n",
              "    <tr>\n",
              "      <th>1334</th>\n",
              "      <td>18</td>\n",
              "      <td>female</td>\n",
              "      <td>31.920</td>\n",
              "      <td>0</td>\n",
              "      <td>no</td>\n",
              "      <td>northeast</td>\n",
              "      <td>2205.98080</td>\n",
              "    </tr>\n",
              "    <tr>\n",
              "      <th>1335</th>\n",
              "      <td>18</td>\n",
              "      <td>female</td>\n",
              "      <td>36.850</td>\n",
              "      <td>0</td>\n",
              "      <td>no</td>\n",
              "      <td>southeast</td>\n",
              "      <td>1629.83350</td>\n",
              "    </tr>\n",
              "    <tr>\n",
              "      <th>1336</th>\n",
              "      <td>21</td>\n",
              "      <td>female</td>\n",
              "      <td>25.800</td>\n",
              "      <td>0</td>\n",
              "      <td>no</td>\n",
              "      <td>southwest</td>\n",
              "      <td>2007.94500</td>\n",
              "    </tr>\n",
              "    <tr>\n",
              "      <th>1337</th>\n",
              "      <td>61</td>\n",
              "      <td>female</td>\n",
              "      <td>29.070</td>\n",
              "      <td>0</td>\n",
              "      <td>yes</td>\n",
              "      <td>northwest</td>\n",
              "      <td>29141.36030</td>\n",
              "    </tr>\n",
              "  </tbody>\n",
              "</table>\n",
              "<p>1338 rows × 7 columns</p>\n",
              "</div>\n",
              "      <button class=\"colab-df-convert\" onclick=\"convertToInteractive('df-a88e27ed-828f-4376-968e-baa31155860a')\"\n",
              "              title=\"Convert this dataframe to an interactive table.\"\n",
              "              style=\"display:none;\">\n",
              "        \n",
              "  <svg xmlns=\"http://www.w3.org/2000/svg\" height=\"24px\"viewBox=\"0 0 24 24\"\n",
              "       width=\"24px\">\n",
              "    <path d=\"M0 0h24v24H0V0z\" fill=\"none\"/>\n",
              "    <path d=\"M18.56 5.44l.94 2.06.94-2.06 2.06-.94-2.06-.94-.94-2.06-.94 2.06-2.06.94zm-11 1L8.5 8.5l.94-2.06 2.06-.94-2.06-.94L8.5 2.5l-.94 2.06-2.06.94zm10 10l.94 2.06.94-2.06 2.06-.94-2.06-.94-.94-2.06-.94 2.06-2.06.94z\"/><path d=\"M17.41 7.96l-1.37-1.37c-.4-.4-.92-.59-1.43-.59-.52 0-1.04.2-1.43.59L10.3 9.45l-7.72 7.72c-.78.78-.78 2.05 0 2.83L4 21.41c.39.39.9.59 1.41.59.51 0 1.02-.2 1.41-.59l7.78-7.78 2.81-2.81c.8-.78.8-2.07 0-2.86zM5.41 20L4 18.59l7.72-7.72 1.47 1.35L5.41 20z\"/>\n",
              "  </svg>\n",
              "      </button>\n",
              "      \n",
              "  <style>\n",
              "    .colab-df-container {\n",
              "      display:flex;\n",
              "      flex-wrap:wrap;\n",
              "      gap: 12px;\n",
              "    }\n",
              "\n",
              "    .colab-df-convert {\n",
              "      background-color: #E8F0FE;\n",
              "      border: none;\n",
              "      border-radius: 50%;\n",
              "      cursor: pointer;\n",
              "      display: none;\n",
              "      fill: #1967D2;\n",
              "      height: 32px;\n",
              "      padding: 0 0 0 0;\n",
              "      width: 32px;\n",
              "    }\n",
              "\n",
              "    .colab-df-convert:hover {\n",
              "      background-color: #E2EBFA;\n",
              "      box-shadow: 0px 1px 2px rgba(60, 64, 67, 0.3), 0px 1px 3px 1px rgba(60, 64, 67, 0.15);\n",
              "      fill: #174EA6;\n",
              "    }\n",
              "\n",
              "    [theme=dark] .colab-df-convert {\n",
              "      background-color: #3B4455;\n",
              "      fill: #D2E3FC;\n",
              "    }\n",
              "\n",
              "    [theme=dark] .colab-df-convert:hover {\n",
              "      background-color: #434B5C;\n",
              "      box-shadow: 0px 1px 3px 1px rgba(0, 0, 0, 0.15);\n",
              "      filter: drop-shadow(0px 1px 2px rgba(0, 0, 0, 0.3));\n",
              "      fill: #FFFFFF;\n",
              "    }\n",
              "  </style>\n",
              "\n",
              "      <script>\n",
              "        const buttonEl =\n",
              "          document.querySelector('#df-a88e27ed-828f-4376-968e-baa31155860a button.colab-df-convert');\n",
              "        buttonEl.style.display =\n",
              "          google.colab.kernel.accessAllowed ? 'block' : 'none';\n",
              "\n",
              "        async function convertToInteractive(key) {\n",
              "          const element = document.querySelector('#df-a88e27ed-828f-4376-968e-baa31155860a');\n",
              "          const dataTable =\n",
              "            await google.colab.kernel.invokeFunction('convertToInteractive',\n",
              "                                                     [key], {});\n",
              "          if (!dataTable) return;\n",
              "\n",
              "          const docLinkHtml = 'Like what you see? Visit the ' +\n",
              "            '<a target=\"_blank\" href=https://colab.research.google.com/notebooks/data_table.ipynb>data table notebook</a>'\n",
              "            + ' to learn more about interactive tables.';\n",
              "          element.innerHTML = '';\n",
              "          dataTable['output_type'] = 'display_data';\n",
              "          await google.colab.output.renderOutput(dataTable, element);\n",
              "          const docLink = document.createElement('div');\n",
              "          docLink.innerHTML = docLinkHtml;\n",
              "          element.appendChild(docLink);\n",
              "        }\n",
              "      </script>\n",
              "    </div>\n",
              "  </div>\n",
              "  "
            ]
          },
          "metadata": {},
          "execution_count": 2
        }
      ]
    },
    {
      "cell_type": "code",
      "source": [
        "# Let's try one hot encode our DataFrame so it's all numbers\n",
        "insurance_one_hot = pd.get_dummies(insurance)\n",
        "insurance_one_hot.head()"
      ],
      "metadata": {
        "colab": {
          "base_uri": "https://localhost:8080/",
          "height": 206
        },
        "id": "2bwKfhInJecp",
        "outputId": "e9f20d9e-0339-47be-d3b4-c3ed23b9593c"
      },
      "execution_count": 3,
      "outputs": [
        {
          "output_type": "execute_result",
          "data": {
            "text/plain": [
              "   age     bmi  children      charges  sex_female  sex_male  smoker_no  \\\n",
              "0   19  27.900         0  16884.92400           1         0          0   \n",
              "1   18  33.770         1   1725.55230           0         1          1   \n",
              "2   28  33.000         3   4449.46200           0         1          1   \n",
              "3   33  22.705         0  21984.47061           0         1          1   \n",
              "4   32  28.880         0   3866.85520           0         1          1   \n",
              "\n",
              "   smoker_yes  region_northeast  region_northwest  region_southeast  \\\n",
              "0           1                 0                 0                 0   \n",
              "1           0                 0                 0                 1   \n",
              "2           0                 0                 0                 1   \n",
              "3           0                 0                 1                 0   \n",
              "4           0                 0                 1                 0   \n",
              "\n",
              "   region_southwest  \n",
              "0                 1  \n",
              "1                 0  \n",
              "2                 0  \n",
              "3                 0  \n",
              "4                 0  "
            ],
            "text/html": [
              "\n",
              "  <div id=\"df-9bc5c8f4-63e8-49bc-96da-a43d48bcc39a\">\n",
              "    <div class=\"colab-df-container\">\n",
              "      <div>\n",
              "<style scoped>\n",
              "    .dataframe tbody tr th:only-of-type {\n",
              "        vertical-align: middle;\n",
              "    }\n",
              "\n",
              "    .dataframe tbody tr th {\n",
              "        vertical-align: top;\n",
              "    }\n",
              "\n",
              "    .dataframe thead th {\n",
              "        text-align: right;\n",
              "    }\n",
              "</style>\n",
              "<table border=\"1\" class=\"dataframe\">\n",
              "  <thead>\n",
              "    <tr style=\"text-align: right;\">\n",
              "      <th></th>\n",
              "      <th>age</th>\n",
              "      <th>bmi</th>\n",
              "      <th>children</th>\n",
              "      <th>charges</th>\n",
              "      <th>sex_female</th>\n",
              "      <th>sex_male</th>\n",
              "      <th>smoker_no</th>\n",
              "      <th>smoker_yes</th>\n",
              "      <th>region_northeast</th>\n",
              "      <th>region_northwest</th>\n",
              "      <th>region_southeast</th>\n",
              "      <th>region_southwest</th>\n",
              "    </tr>\n",
              "  </thead>\n",
              "  <tbody>\n",
              "    <tr>\n",
              "      <th>0</th>\n",
              "      <td>19</td>\n",
              "      <td>27.900</td>\n",
              "      <td>0</td>\n",
              "      <td>16884.92400</td>\n",
              "      <td>1</td>\n",
              "      <td>0</td>\n",
              "      <td>0</td>\n",
              "      <td>1</td>\n",
              "      <td>0</td>\n",
              "      <td>0</td>\n",
              "      <td>0</td>\n",
              "      <td>1</td>\n",
              "    </tr>\n",
              "    <tr>\n",
              "      <th>1</th>\n",
              "      <td>18</td>\n",
              "      <td>33.770</td>\n",
              "      <td>1</td>\n",
              "      <td>1725.55230</td>\n",
              "      <td>0</td>\n",
              "      <td>1</td>\n",
              "      <td>1</td>\n",
              "      <td>0</td>\n",
              "      <td>0</td>\n",
              "      <td>0</td>\n",
              "      <td>1</td>\n",
              "      <td>0</td>\n",
              "    </tr>\n",
              "    <tr>\n",
              "      <th>2</th>\n",
              "      <td>28</td>\n",
              "      <td>33.000</td>\n",
              "      <td>3</td>\n",
              "      <td>4449.46200</td>\n",
              "      <td>0</td>\n",
              "      <td>1</td>\n",
              "      <td>1</td>\n",
              "      <td>0</td>\n",
              "      <td>0</td>\n",
              "      <td>0</td>\n",
              "      <td>1</td>\n",
              "      <td>0</td>\n",
              "    </tr>\n",
              "    <tr>\n",
              "      <th>3</th>\n",
              "      <td>33</td>\n",
              "      <td>22.705</td>\n",
              "      <td>0</td>\n",
              "      <td>21984.47061</td>\n",
              "      <td>0</td>\n",
              "      <td>1</td>\n",
              "      <td>1</td>\n",
              "      <td>0</td>\n",
              "      <td>0</td>\n",
              "      <td>1</td>\n",
              "      <td>0</td>\n",
              "      <td>0</td>\n",
              "    </tr>\n",
              "    <tr>\n",
              "      <th>4</th>\n",
              "      <td>32</td>\n",
              "      <td>28.880</td>\n",
              "      <td>0</td>\n",
              "      <td>3866.85520</td>\n",
              "      <td>0</td>\n",
              "      <td>1</td>\n",
              "      <td>1</td>\n",
              "      <td>0</td>\n",
              "      <td>0</td>\n",
              "      <td>1</td>\n",
              "      <td>0</td>\n",
              "      <td>0</td>\n",
              "    </tr>\n",
              "  </tbody>\n",
              "</table>\n",
              "</div>\n",
              "      <button class=\"colab-df-convert\" onclick=\"convertToInteractive('df-9bc5c8f4-63e8-49bc-96da-a43d48bcc39a')\"\n",
              "              title=\"Convert this dataframe to an interactive table.\"\n",
              "              style=\"display:none;\">\n",
              "        \n",
              "  <svg xmlns=\"http://www.w3.org/2000/svg\" height=\"24px\"viewBox=\"0 0 24 24\"\n",
              "       width=\"24px\">\n",
              "    <path d=\"M0 0h24v24H0V0z\" fill=\"none\"/>\n",
              "    <path d=\"M18.56 5.44l.94 2.06.94-2.06 2.06-.94-2.06-.94-.94-2.06-.94 2.06-2.06.94zm-11 1L8.5 8.5l.94-2.06 2.06-.94-2.06-.94L8.5 2.5l-.94 2.06-2.06.94zm10 10l.94 2.06.94-2.06 2.06-.94-2.06-.94-.94-2.06-.94 2.06-2.06.94z\"/><path d=\"M17.41 7.96l-1.37-1.37c-.4-.4-.92-.59-1.43-.59-.52 0-1.04.2-1.43.59L10.3 9.45l-7.72 7.72c-.78.78-.78 2.05 0 2.83L4 21.41c.39.39.9.59 1.41.59.51 0 1.02-.2 1.41-.59l7.78-7.78 2.81-2.81c.8-.78.8-2.07 0-2.86zM5.41 20L4 18.59l7.72-7.72 1.47 1.35L5.41 20z\"/>\n",
              "  </svg>\n",
              "      </button>\n",
              "      \n",
              "  <style>\n",
              "    .colab-df-container {\n",
              "      display:flex;\n",
              "      flex-wrap:wrap;\n",
              "      gap: 12px;\n",
              "    }\n",
              "\n",
              "    .colab-df-convert {\n",
              "      background-color: #E8F0FE;\n",
              "      border: none;\n",
              "      border-radius: 50%;\n",
              "      cursor: pointer;\n",
              "      display: none;\n",
              "      fill: #1967D2;\n",
              "      height: 32px;\n",
              "      padding: 0 0 0 0;\n",
              "      width: 32px;\n",
              "    }\n",
              "\n",
              "    .colab-df-convert:hover {\n",
              "      background-color: #E2EBFA;\n",
              "      box-shadow: 0px 1px 2px rgba(60, 64, 67, 0.3), 0px 1px 3px 1px rgba(60, 64, 67, 0.15);\n",
              "      fill: #174EA6;\n",
              "    }\n",
              "\n",
              "    [theme=dark] .colab-df-convert {\n",
              "      background-color: #3B4455;\n",
              "      fill: #D2E3FC;\n",
              "    }\n",
              "\n",
              "    [theme=dark] .colab-df-convert:hover {\n",
              "      background-color: #434B5C;\n",
              "      box-shadow: 0px 1px 3px 1px rgba(0, 0, 0, 0.15);\n",
              "      filter: drop-shadow(0px 1px 2px rgba(0, 0, 0, 0.3));\n",
              "      fill: #FFFFFF;\n",
              "    }\n",
              "  </style>\n",
              "\n",
              "      <script>\n",
              "        const buttonEl =\n",
              "          document.querySelector('#df-9bc5c8f4-63e8-49bc-96da-a43d48bcc39a button.colab-df-convert');\n",
              "        buttonEl.style.display =\n",
              "          google.colab.kernel.accessAllowed ? 'block' : 'none';\n",
              "\n",
              "        async function convertToInteractive(key) {\n",
              "          const element = document.querySelector('#df-9bc5c8f4-63e8-49bc-96da-a43d48bcc39a');\n",
              "          const dataTable =\n",
              "            await google.colab.kernel.invokeFunction('convertToInteractive',\n",
              "                                                     [key], {});\n",
              "          if (!dataTable) return;\n",
              "\n",
              "          const docLinkHtml = 'Like what you see? Visit the ' +\n",
              "            '<a target=\"_blank\" href=https://colab.research.google.com/notebooks/data_table.ipynb>data table notebook</a>'\n",
              "            + ' to learn more about interactive tables.';\n",
              "          element.innerHTML = '';\n",
              "          dataTable['output_type'] = 'display_data';\n",
              "          await google.colab.output.renderOutput(dataTable, element);\n",
              "          const docLink = document.createElement('div');\n",
              "          docLink.innerHTML = docLinkHtml;\n",
              "          element.appendChild(docLink);\n",
              "        }\n",
              "      </script>\n",
              "    </div>\n",
              "  </div>\n",
              "  "
            ]
          },
          "metadata": {},
          "execution_count": 3
        }
      ]
    },
    {
      "cell_type": "code",
      "source": [
        "# create X and y values (features and labels)\n",
        "X = insurance_one_hot.drop(\"charges\",axis=1)\n",
        "y = insurance_one_hot['charges']"
      ],
      "metadata": {
        "id": "id1LE10NL3nc"
      },
      "execution_count": 12,
      "outputs": []
    },
    {
      "cell_type": "code",
      "source": [
        "# creating train and test set\n",
        "from sklearn.model_selection import train_test_split \n",
        "X_train, X_test, y_train, y_test = train_test_split(X, y, test_size=0.2, random_state=42)\n",
        "len(X), len(X_train), len(X_test)"
      ],
      "metadata": {
        "colab": {
          "base_uri": "https://localhost:8080/"
        },
        "id": "zsyboK3oNi7T",
        "outputId": "641c4fc4-e11d-4649-a494-5d9c1d8fc841"
      },
      "execution_count": 13,
      "outputs": [
        {
          "output_type": "execute_result",
          "data": {
            "text/plain": [
              "(1338, 1070, 268)"
            ]
          },
          "metadata": {},
          "execution_count": 13
        }
      ]
    },
    {
      "cell_type": "code",
      "source": [
        "X_train = tf.constant(X_train)\n",
        "y_train = tf.constant(y_train)\n",
        "X_test = tf.constant(X_test)\n",
        "y_test = tf.constant(y_test)"
      ],
      "metadata": {
        "id": "AM413Pd8cF4_"
      },
      "execution_count": 14,
      "outputs": []
    },
    {
      "cell_type": "code",
      "source": [
        "# Build a neural network\n",
        "\n",
        "tf.random.set_seed(42)\n",
        "\n",
        "# 1. Create a model\n",
        "insurance_model = tf.keras.Sequential([\n",
        "                                       tf.keras.layers.Dense(100, activation='relu'),\n",
        "                                       tf.keras.layers.Dense(100, activation='relu'),\n",
        "                                       tf.keras.layers.Dense(100, activation='relu'),\n",
        "                                       tf.keras.layers.Dense(100, activation='relu'),\n",
        "                                       tf.keras.layers.Dense(1)\n",
        "])\n",
        "\n",
        "# 2. Compile the model\n",
        "insurance_model.compile(loss = tf.keras.losses.mae,\n",
        "                        optimizer = tf.keras.optimizers.Adam(learning_rate=0.0095),\n",
        "                        metrics = \"mae\"\n",
        "                        )\n",
        "\n",
        "# 3. Fitting the model\n",
        "history = insurance_model.fit(X_train, y_train, epochs = 50)"
      ],
      "metadata": {
        "colab": {
          "base_uri": "https://localhost:8080/"
        },
        "id": "Tg5T6UFdPpl8",
        "outputId": "47a3dc91-2809-4270-e1f1-9f3603040cd7"
      },
      "execution_count": 15,
      "outputs": [
        {
          "output_type": "stream",
          "name": "stdout",
          "text": [
            "Epoch 1/50\n",
            "34/34 [==============================] - 1s 4ms/step - loss: 9583.9033 - mae: 9583.9033\n",
            "Epoch 2/50\n",
            "34/34 [==============================] - 0s 3ms/step - loss: 7112.3315 - mae: 7112.3315\n",
            "Epoch 3/50\n",
            "34/34 [==============================] - 0s 4ms/step - loss: 6471.3115 - mae: 6471.3115\n",
            "Epoch 4/50\n",
            "34/34 [==============================] - 0s 3ms/step - loss: 6043.1177 - mae: 6043.1177\n",
            "Epoch 5/50\n",
            "34/34 [==============================] - 0s 3ms/step - loss: 5000.4541 - mae: 5000.4541\n",
            "Epoch 6/50\n",
            "34/34 [==============================] - 0s 3ms/step - loss: 3835.1191 - mae: 3835.1191\n",
            "Epoch 7/50\n",
            "34/34 [==============================] - 0s 3ms/step - loss: 3679.3142 - mae: 3679.3142\n",
            "Epoch 8/50\n",
            "34/34 [==============================] - 0s 4ms/step - loss: 3393.2324 - mae: 3393.2324\n",
            "Epoch 9/50\n",
            "34/34 [==============================] - 0s 3ms/step - loss: 3127.3545 - mae: 3127.3545\n",
            "Epoch 10/50\n",
            "34/34 [==============================] - 0s 3ms/step - loss: 3183.9744 - mae: 3183.9744\n",
            "Epoch 11/50\n",
            "34/34 [==============================] - 0s 3ms/step - loss: 3241.8323 - mae: 3241.8323\n",
            "Epoch 12/50\n",
            "34/34 [==============================] - 0s 3ms/step - loss: 3025.9436 - mae: 3025.9436\n",
            "Epoch 13/50\n",
            "34/34 [==============================] - 0s 3ms/step - loss: 3136.0317 - mae: 3136.0317\n",
            "Epoch 14/50\n",
            "34/34 [==============================] - 0s 3ms/step - loss: 2814.3018 - mae: 2814.3018\n",
            "Epoch 15/50\n",
            "34/34 [==============================] - 0s 3ms/step - loss: 2977.3091 - mae: 2977.3091\n",
            "Epoch 16/50\n",
            "34/34 [==============================] - 0s 3ms/step - loss: 2837.2458 - mae: 2837.2458\n",
            "Epoch 17/50\n",
            "34/34 [==============================] - 0s 3ms/step - loss: 2973.2573 - mae: 2973.2573\n",
            "Epoch 18/50\n",
            "34/34 [==============================] - 0s 3ms/step - loss: 2760.6897 - mae: 2760.6897\n",
            "Epoch 19/50\n",
            "34/34 [==============================] - 0s 3ms/step - loss: 2809.8511 - mae: 2809.8511\n",
            "Epoch 20/50\n",
            "34/34 [==============================] - 0s 3ms/step - loss: 2541.4016 - mae: 2541.4016\n",
            "Epoch 21/50\n",
            "34/34 [==============================] - 0s 3ms/step - loss: 2492.7114 - mae: 2492.7114\n",
            "Epoch 22/50\n",
            "34/34 [==============================] - 0s 3ms/step - loss: 2546.3491 - mae: 2546.3491\n",
            "Epoch 23/50\n",
            "34/34 [==============================] - 0s 3ms/step - loss: 2673.4336 - mae: 2673.4336\n",
            "Epoch 24/50\n",
            "34/34 [==============================] - 0s 3ms/step - loss: 2530.1555 - mae: 2530.1555\n",
            "Epoch 25/50\n",
            "34/34 [==============================] - 0s 4ms/step - loss: 2632.9031 - mae: 2632.9031\n",
            "Epoch 26/50\n",
            "34/34 [==============================] - 0s 3ms/step - loss: 2677.4973 - mae: 2677.4973\n",
            "Epoch 27/50\n",
            "34/34 [==============================] - 0s 3ms/step - loss: 2460.8503 - mae: 2460.8503\n",
            "Epoch 28/50\n",
            "34/34 [==============================] - 0s 3ms/step - loss: 2620.1362 - mae: 2620.1362\n",
            "Epoch 29/50\n",
            "34/34 [==============================] - 0s 3ms/step - loss: 2500.6223 - mae: 2500.6223\n",
            "Epoch 30/50\n",
            "34/34 [==============================] - 0s 3ms/step - loss: 2381.2927 - mae: 2381.2927\n",
            "Epoch 31/50\n",
            "34/34 [==============================] - 0s 3ms/step - loss: 2336.4614 - mae: 2336.4614\n",
            "Epoch 32/50\n",
            "34/34 [==============================] - 0s 3ms/step - loss: 2304.2808 - mae: 2304.2808\n",
            "Epoch 33/50\n",
            "34/34 [==============================] - 0s 3ms/step - loss: 2583.8281 - mae: 2583.8281\n",
            "Epoch 34/50\n",
            "34/34 [==============================] - 0s 3ms/step - loss: 2864.7656 - mae: 2864.7656\n",
            "Epoch 35/50\n",
            "34/34 [==============================] - 0s 3ms/step - loss: 2285.0886 - mae: 2285.0886\n",
            "Epoch 36/50\n",
            "34/34 [==============================] - 0s 3ms/step - loss: 2317.5696 - mae: 2317.5696\n",
            "Epoch 37/50\n",
            "34/34 [==============================] - 0s 3ms/step - loss: 2267.2119 - mae: 2267.2119\n",
            "Epoch 38/50\n",
            "34/34 [==============================] - 0s 3ms/step - loss: 2287.4541 - mae: 2287.4541\n",
            "Epoch 39/50\n",
            "34/34 [==============================] - 0s 3ms/step - loss: 2347.9600 - mae: 2347.9600\n",
            "Epoch 40/50\n",
            "34/34 [==============================] - 0s 3ms/step - loss: 2194.3335 - mae: 2194.3335\n",
            "Epoch 41/50\n",
            "34/34 [==============================] - 0s 3ms/step - loss: 2442.2419 - mae: 2442.2419\n",
            "Epoch 42/50\n",
            "34/34 [==============================] - 0s 3ms/step - loss: 2246.4294 - mae: 2246.4294\n",
            "Epoch 43/50\n",
            "34/34 [==============================] - 0s 3ms/step - loss: 2460.8606 - mae: 2460.8606\n",
            "Epoch 44/50\n",
            "34/34 [==============================] - 0s 3ms/step - loss: 2393.2036 - mae: 2393.2036\n",
            "Epoch 45/50\n",
            "34/34 [==============================] - 0s 3ms/step - loss: 2202.6226 - mae: 2202.6226\n",
            "Epoch 46/50\n",
            "34/34 [==============================] - 0s 3ms/step - loss: 2366.2585 - mae: 2366.2585\n",
            "Epoch 47/50\n",
            "34/34 [==============================] - 0s 3ms/step - loss: 2540.5793 - mae: 2540.5793\n",
            "Epoch 48/50\n",
            "34/34 [==============================] - 0s 4ms/step - loss: 2589.1782 - mae: 2589.1782\n",
            "Epoch 49/50\n",
            "34/34 [==============================] - 0s 4ms/step - loss: 2436.0283 - mae: 2436.0283\n",
            "Epoch 50/50\n",
            "34/34 [==============================] - 0s 3ms/step - loss: 2329.7222 - mae: 2329.7222\n"
          ]
        }
      ]
    },
    {
      "cell_type": "code",
      "source": [
        "# check the results of insurance model on the test data\n",
        "insurance_model.evaluate(X_test,y_test)"
      ],
      "metadata": {
        "colab": {
          "base_uri": "https://localhost:8080/"
        },
        "id": "6r29A4_oSuYr",
        "outputId": "87666ba1-6d5a-44c4-d603-3f9b9be0d140"
      },
      "execution_count": 16,
      "outputs": [
        {
          "output_type": "stream",
          "name": "stdout",
          "text": [
            "9/9 [==============================] - 0s 2ms/step - loss: 2232.2280 - mae: 2232.2280\n"
          ]
        },
        {
          "output_type": "execute_result",
          "data": {
            "text/plain": [
              "[2232.22802734375, 2232.22802734375]"
            ]
          },
          "metadata": {},
          "execution_count": 16
        }
      ]
    },
    {
      "cell_type": "code",
      "source": [
        "# Plot history (also known as a loss curve or a training curve)\n",
        "pd.DataFrame(history.history).plot()\n",
        "plt.ylabel(\"loss\")\n",
        "plt.xlabel(\"epochs\")"
      ],
      "metadata": {
        "colab": {
          "base_uri": "https://localhost:8080/",
          "height": 296
        },
        "id": "JzEVlvS4TeCs",
        "outputId": "1e3e5079-0b3a-43dc-c547-f6ae5bebf7ce"
      },
      "execution_count": 17,
      "outputs": [
        {
          "output_type": "execute_result",
          "data": {
            "text/plain": [
              "Text(0.5, 0, 'epochs')"
            ]
          },
          "metadata": {},
          "execution_count": 17
        },
        {
          "output_type": "display_data",
          "data": {
            "text/plain": [
              "<Figure size 432x288 with 1 Axes>"
            ],
            "image/png": "[encoded data removed]"
          },
          "metadata": {
            "needs_background": "light"
          }
        }
      ]
    },
    {
      "cell_type": "markdown",
      "source": [
        "## 06 Ways to improve a regression model"
      ],
      "metadata": {
        "id": "hdi-6TRnaOFw"
      }
    },
    {
      "cell_type": "markdown",
      "source": [
        "* While creating model\n",
        "> * Add more layers.\n",
        "> * Increase the number of hidden units in a layer.\n",
        "> * Change activation layers.\n",
        "\n",
        "* While compiling\n",
        "> * Changing the activation function.\n",
        "> * Changing the learning rate.\n",
        "\n",
        "* While fitting\n",
        "> * Increasing epochs.\n",
        "> * Increasing the input data."
      ],
      "metadata": {
        "id": "zF7NZdptaaYY"
      }
    },
    {
      "cell_type": "markdown",
      "source": [
        "## 07 Saving a model"
      ],
      "metadata": {
        "id": "vTAXpOkzbF-Y"
      }
    },
    {
      "cell_type": "markdown",
      "source": [
        "There are two main formats to save our models-\n",
        "* The Saved Model format\n",
        "* The HDF5 format"
      ],
      "metadata": {
        "id": "1X0jFQMGebqI"
      }
    },
    {
      "cell_type": "code",
      "source": [
        "insurance_model.save('first_deep_regression_model')\n",
        "insurance_model.save('first_deep_regression_model.h5')"
      ],
      "metadata": {
        "id": "Iymq1Kb4euEY"
      },
      "execution_count": 18,
      "outputs": []
    },
    {
      "cell_type": "markdown",
      "source": [
        "## 08 Loading a model"
      ],
      "metadata": {
        "id": "MaoLrEFHfOxe"
      }
    },
    {
      "cell_type": "code",
      "source": [
        "loaded_saved_model = tf.keras.models.load_model('first_deep_regression_model')\n",
        "loaded_HDF5_model = tf.keras.models.load_model('first_deep_regression_model.h5')"
      ],
      "metadata": {
        "id": "RS3AfdAtfWk2"
      },
      "execution_count": 19,
      "outputs": []
    },
    {
      "cell_type": "code",
      "source": [
        "insurance_model.evaluate(X_test,y_test)"
      ],
      "metadata": {
        "colab": {
          "base_uri": "https://localhost:8080/"
        },
        "id": "U-4nYUsxfzA_",
        "outputId": "b1924566-7141-4615-c658-d4ec2b44158d"
      },
      "execution_count": 20,
      "outputs": [
        {
          "output_type": "stream",
          "name": "stdout",
          "text": [
            "9/9 [==============================] - 0s 2ms/step - loss: 2232.2280 - mae: 2232.2280\n"
          ]
        },
        {
          "output_type": "execute_result",
          "data": {
            "text/plain": [
              "[2232.22802734375, 2232.22802734375]"
            ]
          },
          "metadata": {},
          "execution_count": 20
        }
      ]
    },
    {
      "cell_type": "code",
      "source": [
        "loaded_saved_model.evaluate(X_test,y_test)"
      ],
      "metadata": {
        "colab": {
          "base_uri": "https://localhost:8080/"
        },
        "id": "eb0NldWzf-Wn",
        "outputId": "32df80ac-3ece-4f29-cf3c-8f3202d5e4af"
      },
      "execution_count": 21,
      "outputs": [
        {
          "output_type": "stream",
          "name": "stdout",
          "text": [
            "9/9 [==============================] - 0s 4ms/step - loss: 2232.2280 - mae: 2232.2280\n"
          ]
        },
        {
          "output_type": "execute_result",
          "data": {
            "text/plain": [
              "[2232.22802734375, 2232.22802734375]"
            ]
          },
          "metadata": {},
          "execution_count": 21
        }
      ]
    },
    {
      "cell_type": "code",
      "source": [
        "loaded_HDF5_model.evaluate(X_test,y_test)"
      ],
      "metadata": {
        "colab": {
          "base_uri": "https://localhost:8080/"
        },
        "id": "Ooa9tqsUgELf",
        "outputId": "76115cd7-4f24-44a0-ba72-4ef934e47ba8"
      },
      "execution_count": 22,
      "outputs": [
        {
          "output_type": "stream",
          "name": "stdout",
          "text": [
            "9/9 [==============================] - 0s 3ms/step - loss: 2232.2280 - mae: 2232.2280\n"
          ]
        },
        {
          "output_type": "execute_result",
          "data": {
            "text/plain": [
              "[2232.22802734375, 2232.22802734375]"
            ]
          },
          "metadata": {},
          "execution_count": 22
        }
      ]
    },
    {
      "cell_type": "markdown",
      "source": [
        "## 09 Classification using TensorFlow"
      ],
      "metadata": {
        "id": "jbe5JCXTggB_"
      }
    },
    {
      "cell_type": "markdown",
      "source": [
        "**Typical architecture of a classification neural network** \n",
        "\n",
        "The architecture of a classification neural network can widely vary depending on the problem you're working on.\n",
        "\n",
        "However, there are some fundamentals all deep neural networks contain:\n",
        "* An input layer.\n",
        "* Some hidden layers.\n",
        "* An output layer.\n",
        "\n",
        "Much of the rest is up to the data analyst creating the model.\n",
        "\n",
        "The following are some standard values you'll often use in your classification neural networks.\n",
        "\n",
        "| **Hyperparameter** | **Binary Classification** | **Multiclass classification** |\n",
        "| --- | --- | --- |\n",
        "| Input layer shape | Same as number of features (e.g. 5 for age, sex, height, weight, smoking status in heart disease prediction) | Same as binary classification |\n",
        "| Hidden layer(s) | Problem specific, minimum = 1, maximum = unlimited | Same as binary classification |\n",
        "| Neurons per hidden layer | Problem specific, generally 10 to 100 | Same as binary classification |\n",
        "| Output layer shape | 1 (one class or the other) | 1 per class (e.g. 3 for food, person or dog photo) |\n",
        "| Hidden activation | Usually [ReLU](https://www.kaggle.com/dansbecker/rectified-linear-units-relu-in-deep-learning) (rectified linear unit) | Same as binary classification |\n",
        "| Output activation | [Sigmoid](https://en.wikipedia.org/wiki/Sigmoid_function) | [Softmax](https://en.wikipedia.org/wiki/Softmax_function) |\n",
        "| Loss function | [Cross entropy](https://en.wikipedia.org/wiki/Cross_entropy#Cross-entropy_loss_function_and_logistic_regression) ([`tf.keras.losses.BinaryCrossentropy`](https://www.tensorflow.org/api_docs/python/tf/keras/losses/BinaryCrossentropy) in TensorFlow) | Cross entropy ([`tf.keras.losses.CategoricalCrossentropy`](https://www.tensorflow.org/api_docs/python/tf/keras/losses/CategoricalCrossentropy) in TensorFlow) |\n",
        "| Optimizer | [SGD](https://www.tensorflow.org/api_docs/python/tf/keras/optimizers/SGD) (stochastic gradient descent), [Adam](https://www.tensorflow.org/api_docs/python/tf/keras/optimizers/Adam) | Same as binary classification |\n",
        "\n",
        "***Table 1:*** *Typical architecture of a classification network.* ***Source:*** *Adapted from page 295 of [Hands-On Machine Learning with Scikit-Learn, Keras & TensorFlow Book by Aurélien Géron](https://www.oreilly.com/library/view/hands-on-machine-learning/9781492032632/)*"
      ],
      "metadata": {
        "id": "ZfP-dcs_gxFo"
      }
    },
    {
      "cell_type": "code",
      "metadata": {
        "id": "zl50sxPTqpw4",
        "colab": {
          "base_uri": "https://localhost:8080/"
        },
        "outputId": "2ed45577-a751-4c78-b6c0-d8ed77625220"
      },
      "source": [
        "import tensorflow as tf\n",
        "from tensorflow.keras.datasets import fashion_mnist\n",
        "\n",
        "# The data has already been sorted into training and test sets for us\n",
        "(train_data, train_labels), (test_data, test_labels) = fashion_mnist.load_data()"
      ],
      "execution_count": 23,
      "outputs": [
        {
          "output_type": "stream",
          "name": "stdout",
          "text": [
            "Downloading data from https://storage.googleapis.com/tensorflow/tf-keras-datasets/train-labels-idx1-ubyte.gz\n",
            "32768/29515 [=================================] - 0s 0us/step\n",
            "40960/29515 [=========================================] - 0s 0us/step\n",
            "Downloading data from https://storage.googleapis.com/tensorflow/tf-keras-datasets/train-images-idx3-ubyte.gz\n",
            "26427392/26421880 [==============================] - 0s 0us/step\n",
            "26435584/26421880 [==============================] - 0s 0us/step\n",
            "Downloading data from https://storage.googleapis.com/tensorflow/tf-keras-datasets/t10k-labels-idx1-ubyte.gz\n",
            "16384/5148 [===============================================================================================] - 0s 0us/step\n",
            "Downloading data from https://storage.googleapis.com/tensorflow/tf-keras-datasets/t10k-images-idx3-ubyte.gz\n",
            "4423680/4422102 [==============================] - 0s 0us/step\n",
            "4431872/4422102 [==============================] - 0s 0us/step\n"
          ]
        }
      ]
    },
    {
      "cell_type": "code",
      "metadata": {
        "id": "gN5-jr6arj19",
        "colab": {
          "base_uri": "https://localhost:8080/"
        },
        "outputId": "b2b7b7f6-fa47-4db3-e877-937ac238d8c5"
      },
      "source": [
        "# Check the shape of our data\n",
        "train_data.shape, train_labels.shape, test_data.shape, test_labels.shape"
      ],
      "execution_count": null,
      "outputs": [
        {
          "output_type": "execute_result",
          "data": {
            "text/plain": [
              "((60000, 28, 28), (60000,), (10000, 28, 28), (10000,))"
            ]
          },
          "metadata": {},
          "execution_count": 66
        }
      ]
    },
    {
      "cell_type": "markdown",
      "metadata": {
        "id": "r2wW0cEfsAve"
      },
      "source": [
        "Okay, 60,000 training examples each with shape (28, 28) and a label each as well as 10,000 test examples of shape (28, 28).\n",
        "\n",
        "But these are just numbers, let's visualize."
      ]
    },
    {
      "cell_type": "code",
      "metadata": {
        "id": "RmC2VsWOscKP",
        "colab": {
          "base_uri": "https://localhost:8080/",
          "height": 265
        },
        "outputId": "ee77373b-2800-46fe-a55c-c3c6a32d33d1"
      },
      "source": [
        "# Plot a single example\n",
        "import matplotlib.pyplot as plt\n",
        "plt.imshow(train_data[7]);"
      ],
      "execution_count": 24,
      "outputs": [
        {
          "output_type": "display_data",
          "data": {
            "text/plain": [
              "<Figure size 432x288 with 1 Axes>"
            ],
            "image/png": "[encoded data removed]"
          },
          "metadata": {
            "needs_background": "light"
          }
        }
      ]
    },
    {
      "cell_type": "code",
      "metadata": {
        "id": "hzTDEpaYsxga",
        "colab": {
          "base_uri": "https://localhost:8080/"
        },
        "outputId": "ef1f396a-d3a6-4b4c-9bc9-71cafb987016"
      },
      "source": [
        "# Check our samples label\n",
        "train_labels[7]"
      ],
      "execution_count": 25,
      "outputs": [
        {
          "output_type": "execute_result",
          "data": {
            "text/plain": [
              "2"
            ]
          },
          "metadata": {},
          "execution_count": 25
        }
      ]
    },
    {
      "cell_type": "code",
      "metadata": {
        "id": "uGOi32T8s1ai",
        "colab": {
          "base_uri": "https://localhost:8080/"
        },
        "outputId": "8699c2d3-c657-458f-d4c5-559ff9e0ec92"
      },
      "source": [
        "class_names = ['T-shirt/top', 'Trouser', 'Pullover', 'Dress', 'Coat', \n",
        "               'Sandal', 'Shirt', 'Sneaker', 'Bag', 'Ankle boot']\n",
        "\n",
        "# How many classes are there (this'll be our output shape)?\n",
        "len(class_names)"
      ],
      "execution_count": 26,
      "outputs": [
        {
          "output_type": "execute_result",
          "data": {
            "text/plain": [
              "10"
            ]
          },
          "metadata": {},
          "execution_count": 26
        }
      ]
    },
    {
      "cell_type": "code",
      "metadata": {
        "id": "_qD40id2tytn",
        "colab": {
          "base_uri": "https://localhost:8080/",
          "height": 281
        },
        "outputId": "0dd7fe18-854e-4fa4-84dc-977682d94ba0"
      },
      "source": [
        "# Plot an example image and its label\n",
        "plt.imshow(train_data[17], cmap=plt.cm.binary) # change the colours to black & white\n",
        "plt.title(class_names[train_labels[17]]);"
      ],
      "execution_count": 27,
      "outputs": [
        {
          "output_type": "display_data",
          "data": {
            "text/plain": [
              "<Figure size 432x288 with 1 Axes>"
            ],
            "image/png": "[encoded data removed]"
          },
          "metadata": {
            "needs_background": "light"
          }
        }
      ]
    },
    {
      "cell_type": "code",
      "metadata": {
        "id": "Rtz9__w3s4JF",
        "colab": {
          "base_uri": "https://localhost:8080/",
          "height": 427
        },
        "outputId": "3dce3487-4b5b-4eb2-93d4-14575a7e7085"
      },
      "source": [
        "# Plot multiple random images of fashion MNIST\n",
        "import random\n",
        "plt.figure(figsize=(7, 7))\n",
        "for i in range(4):\n",
        "  ax = plt.subplot(2, 2, i + 1)\n",
        "  rand_index = random.choice(range(len(train_data)))\n",
        "  plt.imshow(train_data[rand_index], cmap=plt.cm.binary)\n",
        "  plt.title(class_names[train_labels[rand_index]])\n",
        "  plt.axis(False)"
      ],
      "execution_count": 28,
      "outputs": [
        {
          "output_type": "display_data",
          "data": {
            "text/plain": [
              "<Figure size 504x504 with 4 Axes>"
            ],
            "image/png": "[encoded data removed]"
          },
          "metadata": {
            "needs_background": "light"
          }
        }
      ]
    },
    {
      "cell_type": "code",
      "metadata": {
        "id": "qUFHuzIpv30K",
        "colab": {
          "base_uri": "https://localhost:8080/"
        },
        "outputId": "4e981e0b-3d06-4ec2-b4a9-6e3381294d78"
      },
      "source": [
        "# Set random seed\n",
        "tf.random.set_seed(42)\n",
        "\n",
        "# Create the model\n",
        "model_11 = tf.keras.Sequential([\n",
        "  tf.keras.layers.Flatten(input_shape=(28, 28)), # input layer (we had to reshape 28x28 to 784, the Flatten layer does this for us)\n",
        "  tf.keras.layers.Dense(4, activation=\"relu\"),\n",
        "  tf.keras.layers.Dense(4, activation=\"relu\"),\n",
        "  tf.keras.layers.Dense(10, activation=\"softmax\") # output shape is 10, activation is softmax\n",
        "])\n",
        "\n",
        "# Compile the model\n",
        "model_11.compile(loss=tf.keras.losses.SparseCategoricalCrossentropy(), # different loss function for multiclass classifcation\n",
        "                 optimizer=tf.keras.optimizers.Adam(),\n",
        "                 metrics=[\"accuracy\"])\n",
        "\n",
        "# Fit the model\n",
        "non_norm_history = model_11.fit(train_data,\n",
        "                                train_labels,\n",
        "                                epochs=10,\n",
        "                                validation_data=(test_data, test_labels)) # see how the model performs on the test set during training"
      ],
      "execution_count": 29,
      "outputs": [
        {
          "output_type": "stream",
          "name": "stdout",
          "text": [
            "Epoch 1/10\n",
            "1875/1875 [==============================] - 5s 2ms/step - loss: 2.1671 - accuracy: 0.1606 - val_loss: 1.7959 - val_accuracy: 0.2046\n",
            "Epoch 2/10\n",
            "1875/1875 [==============================] - 4s 2ms/step - loss: 1.7066 - accuracy: 0.2509 - val_loss: 1.6567 - val_accuracy: 0.2805\n",
            "Epoch 3/10\n",
            "1875/1875 [==============================] - 5s 3ms/step - loss: 1.6321 - accuracy: 0.2806 - val_loss: 1.6094 - val_accuracy: 0.2857\n",
            "Epoch 4/10\n",
            "1875/1875 [==============================] - 4s 2ms/step - loss: 1.6052 - accuracy: 0.2833 - val_loss: 1.6041 - val_accuracy: 0.2859\n",
            "Epoch 5/10\n",
            "1875/1875 [==============================] - 5s 2ms/step - loss: 1.5975 - accuracy: 0.2862 - val_loss: 1.6064 - val_accuracy: 0.2756\n",
            "Epoch 6/10\n",
            "1875/1875 [==============================] - 5s 3ms/step - loss: 1.5950 - accuracy: 0.2920 - val_loss: 1.5747 - val_accuracy: 0.2994\n",
            "Epoch 7/10\n",
            "1875/1875 [==============================] - 5s 2ms/step - loss: 1.5775 - accuracy: 0.3040 - val_loss: 1.6030 - val_accuracy: 0.3000\n",
            "Epoch 8/10\n",
            "1875/1875 [==============================] - 5s 3ms/step - loss: 1.5708 - accuracy: 0.3175 - val_loss: 1.5635 - val_accuracy: 0.3315\n",
            "Epoch 9/10\n",
            "1875/1875 [==============================] - 5s 2ms/step - loss: 1.5638 - accuracy: 0.3280 - val_loss: 1.5534 - val_accuracy: 0.3334\n",
            "Epoch 10/10\n",
            "1875/1875 [==============================] - 4s 2ms/step - loss: 1.5432 - accuracy: 0.3346 - val_loss: 1.5390 - val_accuracy: 0.3549\n"
          ]
        }
      ]
    },
    {
      "cell_type": "code",
      "metadata": {
        "id": "tGiweanwz82_",
        "colab": {
          "base_uri": "https://localhost:8080/"
        },
        "outputId": "75d26d8d-7174-4df7-b856-87dd02487f76"
      },
      "source": [
        "# Check the min and max values of the training data\n",
        "train_data.min(), train_data.max()"
      ],
      "execution_count": 30,
      "outputs": [
        {
          "output_type": "execute_result",
          "data": {
            "text/plain": [
              "(0, 255)"
            ]
          },
          "metadata": {},
          "execution_count": 30
        }
      ]
    },
    {
      "cell_type": "code",
      "metadata": {
        "id": "ABRKp5U8voV_",
        "colab": {
          "base_uri": "https://localhost:8080/"
        },
        "outputId": "9f3e5460-a0ee-486e-bece-a7a3d86ca12b"
      },
      "source": [
        "# Divide train and test images by the maximum value (normalize it)\n",
        "train_data = train_data / 255.0\n",
        "test_data = test_data / 255.0\n",
        "\n",
        "# Check the min and max values of the training data\n",
        "train_data.min(), train_data.max()"
      ],
      "execution_count": 31,
      "outputs": [
        {
          "output_type": "execute_result",
          "data": {
            "text/plain": [
              "(0.0, 1.0)"
            ]
          },
          "metadata": {},
          "execution_count": 31
        }
      ]
    },
    {
      "cell_type": "code",
      "metadata": {
        "id": "z1QRy7y_K_87",
        "colab": {
          "base_uri": "https://localhost:8080/"
        },
        "outputId": "b05469f0-5724-4853-b3d7-3a2122f9afb1"
      },
      "source": [
        "# Set random seed\n",
        "tf.random.set_seed(42)\n",
        "\n",
        "# Create the model\n",
        "model_12 = tf.keras.Sequential([\n",
        "  tf.keras.layers.Flatten(input_shape=(28, 28)), # input layer (we had to reshape 28x28 to 784)\n",
        "  tf.keras.layers.Dense(4, activation=\"relu\"),\n",
        "  tf.keras.layers.Dense(4, activation=\"relu\"),\n",
        "  tf.keras.layers.Dense(10, activation=\"softmax\") # output shape is 10, activation is softmax\n",
        "])\n",
        "\n",
        "# Compile the model\n",
        "model_12.compile(loss=tf.keras.losses.SparseCategoricalCrossentropy(),\n",
        "                 optimizer=tf.keras.optimizers.Adam(),\n",
        "                 metrics=[\"accuracy\"])\n",
        "\n",
        "# Fit the model (to the normalized data)\n",
        "norm_history = model_12.fit(train_data,\n",
        "                            train_labels,\n",
        "                            epochs=10,\n",
        "                            validation_data=(test_data, test_labels))"
      ],
      "execution_count": 32,
      "outputs": [
        {
          "output_type": "stream",
          "name": "stdout",
          "text": [
            "Epoch 1/10\n",
            "1875/1875 [==============================] - 5s 2ms/step - loss: 1.0348 - accuracy: 0.6474 - val_loss: 0.6937 - val_accuracy: 0.7617\n",
            "Epoch 2/10\n",
            "1875/1875 [==============================] - 6s 3ms/step - loss: 0.6376 - accuracy: 0.7757 - val_loss: 0.6400 - val_accuracy: 0.7820\n",
            "Epoch 3/10\n",
            "1875/1875 [==============================] - 5s 3ms/step - loss: 0.5942 - accuracy: 0.7914 - val_loss: 0.6247 - val_accuracy: 0.7783\n",
            "Epoch 4/10\n",
            "1875/1875 [==============================] - 5s 2ms/step - loss: 0.5750 - accuracy: 0.7979 - val_loss: 0.6078 - val_accuracy: 0.7881\n",
            "Epoch 5/10\n",
            "1875/1875 [==============================] - 4s 2ms/step - loss: 0.5641 - accuracy: 0.8006 - val_loss: 0.6169 - val_accuracy: 0.7881\n",
            "Epoch 6/10\n",
            "1875/1875 [==============================] - 4s 2ms/step - loss: 0.5544 - accuracy: 0.8043 - val_loss: 0.5855 - val_accuracy: 0.7951\n",
            "Epoch 7/10\n",
            "1875/1875 [==============================] - 5s 2ms/step - loss: 0.5488 - accuracy: 0.8063 - val_loss: 0.6097 - val_accuracy: 0.7836\n",
            "Epoch 8/10\n",
            "1875/1875 [==============================] - 5s 2ms/step - loss: 0.5428 - accuracy: 0.8077 - val_loss: 0.5787 - val_accuracy: 0.7971\n",
            "Epoch 9/10\n",
            "1875/1875 [==============================] - 5s 2ms/step - loss: 0.5373 - accuracy: 0.8097 - val_loss: 0.5698 - val_accuracy: 0.7977\n",
            "Epoch 10/10\n",
            "1875/1875 [==============================] - 5s 2ms/step - loss: 0.5360 - accuracy: 0.8124 - val_loss: 0.5658 - val_accuracy: 0.8014\n"
          ]
        }
      ]
    },
    {
      "cell_type": "code",
      "metadata": {
        "id": "zmRcYU7xN1wQ",
        "colab": {
          "base_uri": "https://localhost:8080/",
          "height": 545
        },
        "outputId": "595dac9f-7434-44e5-ac7d-e0374a78fb3b"
      },
      "source": [
        "import pandas as pd\n",
        "# Plot non-normalized data loss curves\n",
        "pd.DataFrame(non_norm_history.history).plot(title=\"Non-normalized Data\")\n",
        "# Plot normalized data loss curves\n",
        "pd.DataFrame(norm_history.history).plot(title=\"Normalized data\");"
      ],
      "execution_count": 33,
      "outputs": [
        {
          "output_type": "display_data",
          "data": {
            "text/plain": [
              "<Figure size 432x288 with 1 Axes>"
            ],
            "image/png": "[encoded data removed]"
          },
          "metadata": {
            "needs_background": "light"
          }
        },
        {
          "output_type": "display_data",
          "data": {
            "text/plain": [
              "<Figure size 432x288 with 1 Axes>"
            ],
            "image/png": "[encoded data removed]"
          },
          "metadata": {
            "needs_background": "light"
          }
        }
      ]
    },
    {
      "cell_type": "code",
      "metadata": {
        "id": "jK4zA47sYVp5"
      },
      "source": [
        "# Note: The following confusion matrix code is a remix of Scikit-Learn's \n",
        "# plot_confusion_matrix function - https://scikit-learn.org/stable/modules/generated/sklearn.metrics.plot_confusion_matrix.html\n",
        "# and Made with ML's introductory notebook - https://github.com/GokuMohandas/MadeWithML/blob/main/notebooks/08_Neural_Networks.ipynb\n",
        "import itertools\n",
        "from sklearn.metrics import confusion_matrix\n",
        "\n",
        "# Our function needs a different name to sklearn's plot_confusion_matrix\n",
        "def make_confusion_matrix(y_true, y_pred, classes=None, figsize=(10, 10), text_size=15): \n",
        "  \"\"\"Makes a labelled confusion matrix comparing predictions and ground truth labels.\n",
        "\n",
        "  If classes is passed, confusion matrix will be labelled, if not, integer class values\n",
        "  will be used.\n",
        "\n",
        "  Args:\n",
        "    y_true: Array of truth labels (must be same shape as y_pred).\n",
        "    y_pred: Array of predicted labels (must be same shape as y_true).\n",
        "    classes: Array of class labels (e.g. string form). If `None`, integer labels are used.\n",
        "    figsize: Size of output figure (default=(10, 10)).\n",
        "    text_size: Size of output figure text (default=15).\n",
        "  \n",
        "  Returns:\n",
        "    A labelled confusion matrix plot comparing y_true and y_pred.\n",
        "\n",
        "  Example usage:\n",
        "    make_confusion_matrix(y_true=test_labels, # ground truth test labels\n",
        "                          y_pred=y_preds, # predicted labels\n",
        "                          classes=class_names, # array of class label names\n",
        "                          figsize=(15, 15),\n",
        "                          text_size=10)\n",
        "  \"\"\"  \n",
        "  # Create the confustion matrix\n",
        "  cm = confusion_matrix(y_true, y_pred)\n",
        "  cm_norm = cm.astype(\"float\") / cm.sum(axis=1)[:, np.newaxis] # normalize it\n",
        "  n_classes = cm.shape[0] # find the number of classes we're dealing with\n",
        "\n",
        "  # Plot the figure and make it pretty\n",
        "  fig, ax = plt.subplots(figsize=figsize)\n",
        "  cax = ax.matshow(cm, cmap=plt.cm.Blues) # colors will represent how 'correct' a class is, darker == better\n",
        "  fig.colorbar(cax)\n",
        "\n",
        "  # Are there a list of classes?\n",
        "  if classes:\n",
        "    labels = classes\n",
        "  else:\n",
        "    labels = np.arange(cm.shape[0])\n",
        "  \n",
        "  # Label the axes\n",
        "  ax.set(title=\"Confusion Matrix\",\n",
        "         xlabel=\"Predicted label\",\n",
        "         ylabel=\"True label\",\n",
        "         xticks=np.arange(n_classes), # create enough axis slots for each class\n",
        "         yticks=np.arange(n_classes), \n",
        "         xticklabels=labels, # axes will labeled with class names (if they exist) or ints\n",
        "         yticklabels=labels)\n",
        "  \n",
        "  # Make x-axis labels appear on bottom\n",
        "  ax.xaxis.set_label_position(\"bottom\")\n",
        "  ax.xaxis.tick_bottom()\n",
        "\n",
        "  # Set the threshold for different colors\n",
        "  threshold = (cm.max() + cm.min()) / 2.\n",
        "\n",
        "  # Plot the text on each cell\n",
        "  for i, j in itertools.product(range(cm.shape[0]), range(cm.shape[1])):\n",
        "    plt.text(j, i, f\"{cm[i, j]} ({cm_norm[i, j]*100:.1f}%)\",\n",
        "             horizontalalignment=\"center\",\n",
        "             color=\"white\" if cm[i, j] > threshold else \"black\",\n",
        "             size=text_size)"
      ],
      "execution_count": 34,
      "outputs": []
    },
    {
      "cell_type": "code",
      "metadata": {
        "id": "HhxrXhrjbjja",
        "colab": {
          "base_uri": "https://localhost:8080/"
        },
        "outputId": "4a1cd5fb-e04b-420d-aed0-c9f35cb0b63b"
      },
      "source": [
        "# Make predictions with the most recent model\n",
        "y_probs = model_12.predict(test_data) # \"probs\" is short for probabilities\n",
        "\n",
        "# View the first 5 predictions\n",
        "y_probs[:5]"
      ],
      "execution_count": 36,
      "outputs": [
        {
          "output_type": "execute_result",
          "data": {
            "text/plain": [
              "array([[2.67575240e-10, 8.36207697e-15, 4.81270290e-05, 3.40115491e-08,\n",
              "        1.23736827e-04, 2.73353249e-01, 3.39613962e-07, 8.82699341e-02,\n",
              "        6.16736943e-03, 6.32037222e-01],\n",
              "       [8.12876970e-05, 5.76154818e-15, 9.49077964e-01, 7.81001347e-07,\n",
              "        8.87467805e-03, 8.59926008e-13, 4.17942293e-02, 5.20495725e-26,\n",
              "        1.70956584e-04, 7.83172140e-08],\n",
              "       [1.09286455e-04, 9.96481419e-01, 9.71140857e-09, 3.40285408e-03,\n",
              "        2.56672706e-06, 1.08077262e-20, 3.80360325e-06, 1.49554544e-18,\n",
              "        3.59249377e-08, 2.74246805e-14],\n",
              "       [1.03193539e-04, 9.93369401e-01, 5.70148302e-08, 6.49508741e-03,\n",
              "        2.15692162e-05, 1.15561135e-17, 1.01945634e-05, 3.01000205e-14,\n",
              "        5.62861715e-07, 8.60025853e-12],\n",
              "       [1.39543653e-01, 3.78134882e-06, 3.45286101e-01, 1.36686331e-02,\n",
              "        3.66058983e-02, 5.40098140e-11, 4.62722391e-01, 3.91256352e-19,\n",
              "        2.16952222e-03, 8.28049593e-08]], dtype=float32)"
            ]
          },
          "metadata": {},
          "execution_count": 36
        }
      ]
    },
    {
      "cell_type": "code",
      "metadata": {
        "id": "hQvrJbbWf4Es",
        "colab": {
          "base_uri": "https://localhost:8080/"
        },
        "outputId": "5e3725c1-69ab-418c-c4d6-36a7858a1a55"
      },
      "source": [
        "# See the predicted class number and label for the first example\n",
        "y_probs[0].argmax(), class_names[y_probs[0].argmax()]"
      ],
      "execution_count": 37,
      "outputs": [
        {
          "output_type": "execute_result",
          "data": {
            "text/plain": [
              "(9, 'Ankle boot')"
            ]
          },
          "metadata": {},
          "execution_count": 37
        }
      ]
    },
    {
      "cell_type": "code",
      "metadata": {
        "id": "ozUpeZU6g2An",
        "colab": {
          "base_uri": "https://localhost:8080/"
        },
        "outputId": "0981f9b2-9622-4e2b-af93-5da1f2294f17"
      },
      "source": [
        "# Convert all of the predictions from probabilities to labels\n",
        "y_preds = y_probs.argmax(axis=1)\n",
        "\n",
        "# View the first 10 prediction labels\n",
        "y_preds[:10]"
      ],
      "execution_count": 38,
      "outputs": [
        {
          "output_type": "execute_result",
          "data": {
            "text/plain": [
              "array([9, 2, 1, 1, 6, 1, 4, 6, 5, 7])"
            ]
          },
          "metadata": {},
          "execution_count": 38
        }
      ]
    },
    {
      "cell_type": "code",
      "metadata": {
        "id": "FBMSVSRqcU_m",
        "colab": {
          "base_uri": "https://localhost:8080/"
        },
        "outputId": "11572321-09f8-4fd6-9204-3b4773111928"
      },
      "source": [
        "# Check out the non-prettified confusion matrix\n",
        "import numpy as np\n",
        "from sklearn.metrics import confusion_matrix\n",
        "confusion_matrix(y_true=test_labels, \n",
        "                 y_pred=y_preds)"
      ],
      "execution_count": 41,
      "outputs": [
        {
          "output_type": "execute_result",
          "data": {
            "text/plain": [
              "array([[801,  11,  27,  81,   7,   1,  62,   0,  10,   0],\n",
              "       [  2, 940,   2,  36,   7,   0,  13,   0,   0,   0],\n",
              "       [ 34,   2, 662,  14, 166,   1, 108,   0,  13,   0],\n",
              "       [ 67,  12,  12, 836,  33,   0,  28,   0,  12,   0],\n",
              "       [  3,   1, 119,  44, 730,   0,  92,   0,   9,   2],\n",
              "       [  0,   0,   0,   0,   0, 918,   0,  51,   7,  24],\n",
              "       [205,   9, 171,  58, 141,   3, 397,   0,  16,   0],\n",
              "       [  0,   0,   0,   0,   0,  44,   0, 921,   0,  35],\n",
              "       [  3,   2,  34,  23,  10,  13,   7,   5, 901,   2],\n",
              "       [  0,   0,   2,   0,   4,  37,   0,  47,   2, 908]])"
            ]
          },
          "metadata": {},
          "execution_count": 41
        }
      ]
    },
    {
      "cell_type": "code",
      "metadata": {
        "id": "DLr6daZAbzRi",
        "colab": {
          "base_uri": "https://localhost:8080/",
          "height": 852
        },
        "outputId": "e3d1e4e6-7352-469c-e8fd-63126e4f5303"
      },
      "source": [
        "# Make a prettier confusion matrix\n",
        "make_confusion_matrix(y_true=test_labels, \n",
        "                      y_pred=y_preds,\n",
        "                      classes=class_names,\n",
        "                      figsize=(15, 15),\n",
        "                      text_size=10)"
      ],
      "execution_count": 42,
      "outputs": [
        {
          "output_type": "display_data",
          "data": {
            "text/plain": [
              "<Figure size 1080x1080 with 2 Axes>"
            ],
            "image/png": "[encoded data removed]"
          },
          "metadata": {
            "needs_background": "light"
          }
        }
      ]
    },
    {
      "cell_type": "code",
      "source": [],
      "metadata": {
        "id": "wcygsBLYrVeH"
      },
      "execution_count": null,
      "outputs": []
    }
  ]
}