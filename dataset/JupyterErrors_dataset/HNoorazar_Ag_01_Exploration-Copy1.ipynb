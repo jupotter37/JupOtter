{
 "cells": [
  {
   "cell_type": "markdown",
   "metadata": {},
   "source": [
    "First Exploration Nov. 5 2020"
   ]
  },
  {
   "cell_type": "code",
   "execution_count": 2,
   "metadata": {},
   "outputs": [],
   "source": [
    "import csv\n",
    "import numpy as np\n",
    "import pandas as pd\n",
    "# import geopandas as gpd\n",
    "from IPython.display import Image\n",
    "# from shapely.geometry import Point, Polygon\n",
    "from math import factorial\n",
    "\n",
    "import datetime\n",
    "from datetime import date\n",
    "import datetime\n",
    "import time\n",
    "\n",
    "\n",
    "import scipy\n",
    "import os, os.path\n",
    "import itertools\n",
    "from statsmodels.sandbox.regression.predstd import wls_prediction_std\n",
    "from sklearn.linear_model import LinearRegression\n",
    "from patsy import cr\n",
    "\n",
    "# from pprint import pprint\n",
    "import matplotlib.pyplot as plt\n",
    "import seaborn as sb\n",
    "\n",
    "\n",
    "import sys\n",
    "\n",
    "\n",
    "# search path for modules\n",
    "# look @ https://stackoverflow.com/questions/67631/how-to-import-a-module-given-the-full-path\n",
    "sys.path.append('/Users/hn/Documents/00_GitHub/Ag/Stop_the_Rot/')\n",
    "import onion_core as oc"
   ]
  },
  {
   "cell_type": "code",
   "execution_count": 3,
   "metadata": {},
   "outputs": [],
   "source": [
    "data_dir = \"/Users/hn/Documents/01_research_data/Stop_the_Rot/files_from_team/Columbia_Basin_Farm_A_red_onion_data/\""
   ]
  },
  {
   "cell_type": "markdown",
   "metadata": {},
   "source": [
    "# Cleaned 3 Farm A irrigation Applied 2017"
   ]
  },
  {
   "cell_type": "code",
   "execution_count": 4,
   "metadata": {},
   "outputs": [],
   "source": [
    "dd = \"/Users/hn/Documents/01_research_data/Stop_the_Rot/Clean_For_Python/\"\n",
    "irrigation_fileN = \"CLEANED (3) Farm A Irrigation Applied 2017 selected fields_Python.xlsx\""
   ]
  },
  {
   "cell_type": "code",
   "execution_count": 5,
   "metadata": {},
   "outputs": [
    {
     "data": {
      "text/plain": [
       "['(clean) Year Summary', '(clean) Hours of operation']"
      ]
     },
     "execution_count": 5,
     "metadata": {},
     "output_type": "execute_result"
    }
   ],
   "source": [
    "xl = pd.ExcelFile(dd + irrigation_fileN)\n",
    "EX_sheet_names = xl.sheet_names\n",
    "EX_sheet_names"
   ]
  },
  {
   "cell_type": "code",
   "execution_count": null,
   "metadata": {},
   "outputs": [],
   "source": []
  },
  {
   "cell_type": "markdown",
   "metadata": {},
   "source": [
    "# replace NAs with zeros"
   ]
  },
  {
   "cell_type": "code",
   "execution_count": 6,
   "metadata": {},
   "outputs": [],
   "source": [
    "Irrigation_2017 = pd.read_excel(io = dd + irrigation_fileN, \n",
    "                                header = 0, \n",
    "                                sheet_name = \"(clean) Year Summary\", \n",
    "                                skiprows = 0)\n",
    "\n",
    "Irrigation_2017_NA_0 = Irrigation_2017.copy()\n",
    "Irrigation_2017_NA_0.sort_values(by = 'Date', inplace=True)\n",
    "Irrigation_2017_NA_0['irrig_inch'] = Irrigation_2017_NA_0['irrig_inch'].fillna(0)\n"
   ]
  },
  {
   "cell_type": "code",
   "execution_count": 7,
   "metadata": {},
   "outputs": [
    {
     "data": {
      "text/plain": [
       "Timestamp('2017-05-24 00:00:00')"
      ]
     },
     "execution_count": 7,
     "metadata": {},
     "output_type": "execute_result"
    }
   ],
   "source": [
    "threshold =  Irrigation_2017_NA_0.Date[13]\n",
    "threshold"
   ]
  },
  {
   "cell_type": "code",
   "execution_count": 8,
   "metadata": {},
   "outputs": [],
   "source": [
    "Irrigation_2017_NA_0_after_May20 = Irrigation_2017_NA_0[Irrigation_2017_NA_0.Date >= threshold].copy()\n",
    "Irrigation_2017_NA_0_after_May20['irr_cum_sum'] = Irrigation_2017_NA_0_after_May20.groupby(['Field'])['irrig_inch'].cumsum()"
   ]
  },
  {
   "cell_type": "code",
   "execution_count": 9,
   "metadata": {},
   "outputs": [
    {
     "data": {
      "text/plain": [
       "array(['2017-05-24T00:00:00.000000000', '2017-05-31T00:00:00.000000000',\n",
       "       '2017-06-07T00:00:00.000000000', '2017-06-14T00:00:00.000000000',\n",
       "       '2017-06-21T00:00:00.000000000', '2017-06-28T00:00:00.000000000',\n",
       "       '2017-07-05T00:00:00.000000000', '2017-07-12T00:00:00.000000000',\n",
       "       '2017-07-19T00:00:00.000000000', '2017-07-26T00:00:00.000000000',\n",
       "       '2017-08-02T00:00:00.000000000', '2017-08-09T00:00:00.000000000',\n",
       "       '2017-08-16T00:00:00.000000000', '2017-08-23T00:00:00.000000000',\n",
       "       '2017-08-30T00:00:00.000000000'], dtype='datetime64[ns]')"
      ]
     },
     "execution_count": 9,
     "metadata": {},
     "output_type": "execute_result"
    }
   ],
   "source": [
    "np.sort(Irrigation_2017_NA_0_after_May20.Date.unique())"
   ]
  },
  {
   "cell_type": "code",
   "execution_count": 10,
   "metadata": {},
   "outputs": [
    {
     "data": {
      "text/html": [
       "<div>\n",
       "<style scoped>\n",
       "    .dataframe tbody tr th:only-of-type {\n",
       "        vertical-align: middle;\n",
       "    }\n",
       "\n",
       "    .dataframe tbody tr th {\n",
       "        vertical-align: top;\n",
       "    }\n",
       "\n",
       "    .dataframe thead th {\n",
       "        text-align: right;\n",
       "    }\n",
       "</style>\n",
       "<table border=\"1\" class=\"dataframe\">\n",
       "  <thead>\n",
       "    <tr style=\"text-align: right;\">\n",
       "      <th></th>\n",
       "      <th>Field</th>\n",
       "      <th>Acres</th>\n",
       "      <th>Date</th>\n",
       "      <th>GPM High</th>\n",
       "      <th>irrig_inch</th>\n",
       "      <th>irrig_hour</th>\n",
       "      <th>Harvest Dates</th>\n",
       "      <th>irr_cum_sum</th>\n",
       "    </tr>\n",
       "  </thead>\n",
       "  <tbody>\n",
       "    <tr>\n",
       "      <th>125</th>\n",
       "      <td>A4</td>\n",
       "      <td>120.0</td>\n",
       "      <td>2017-05-24</td>\n",
       "      <td>900.0</td>\n",
       "      <td>1.990168</td>\n",
       "      <td>120.1</td>\n",
       "      <td>2017-09-13</td>\n",
       "      <td>1.990168</td>\n",
       "    </tr>\n",
       "    <tr>\n",
       "      <th>97</th>\n",
       "      <td>A5</td>\n",
       "      <td>120.0</td>\n",
       "      <td>2017-05-24</td>\n",
       "      <td>900.0</td>\n",
       "      <td>1.996796</td>\n",
       "      <td>120.5</td>\n",
       "      <td>2017-08-23</td>\n",
       "      <td>1.996796</td>\n",
       "    </tr>\n",
       "  </tbody>\n",
       "</table>\n",
       "</div>"
      ],
      "text/plain": [
       "    Field  Acres       Date  GPM High  irrig_inch  irrig_hour Harvest Dates  \\\n",
       "125    A4  120.0 2017-05-24     900.0    1.990168       120.1    2017-09-13   \n",
       "97     A5  120.0 2017-05-24     900.0    1.996796       120.5    2017-08-23   \n",
       "\n",
       "     irr_cum_sum  \n",
       "125     1.990168  \n",
       "97      1.996796  "
      ]
     },
     "execution_count": 10,
     "metadata": {},
     "output_type": "execute_result"
    }
   ],
   "source": [
    "Irrigation_2017_NA_0_after_May20.head(2)"
   ]
  },
  {
   "cell_type": "code",
   "execution_count": 11,
   "metadata": {},
   "outputs": [],
   "source": [
    "# Irrigation_2017[Irrigation_2017['irrig_inch'].isnull()]"
   ]
  },
  {
   "cell_type": "code",
   "execution_count": 12,
   "metadata": {},
   "outputs": [
    {
     "data": {
      "text/html": [
       "<div>\n",
       "<style scoped>\n",
       "    .dataframe tbody tr th:only-of-type {\n",
       "        vertical-align: middle;\n",
       "    }\n",
       "\n",
       "    .dataframe tbody tr th {\n",
       "        vertical-align: top;\n",
       "    }\n",
       "\n",
       "    .dataframe thead th {\n",
       "        text-align: right;\n",
       "    }\n",
       "</style>\n",
       "<table border=\"1\" class=\"dataframe\">\n",
       "  <thead>\n",
       "    <tr style=\"text-align: right;\">\n",
       "      <th></th>\n",
       "      <th>Field</th>\n",
       "      <th>Acres</th>\n",
       "      <th>Date</th>\n",
       "      <th>GPM High</th>\n",
       "      <th>irrig_inch</th>\n",
       "      <th>irrig_hour</th>\n",
       "      <th>Harvest Dates</th>\n",
       "      <th>irr_cum_sum</th>\n",
       "    </tr>\n",
       "  </thead>\n",
       "  <tbody>\n",
       "    <tr>\n",
       "      <th>125</th>\n",
       "      <td>A4</td>\n",
       "      <td>120.0</td>\n",
       "      <td>2017-05-24</td>\n",
       "      <td>900.0</td>\n",
       "      <td>1.990168</td>\n",
       "      <td>120.1</td>\n",
       "      <td>2017-09-13</td>\n",
       "      <td>1.990168</td>\n",
       "    </tr>\n",
       "    <tr>\n",
       "      <th>97</th>\n",
       "      <td>A5</td>\n",
       "      <td>120.0</td>\n",
       "      <td>2017-05-24</td>\n",
       "      <td>900.0</td>\n",
       "      <td>1.996796</td>\n",
       "      <td>120.5</td>\n",
       "      <td>2017-08-23</td>\n",
       "      <td>1.996796</td>\n",
       "    </tr>\n",
       "    <tr>\n",
       "      <th>69</th>\n",
       "      <td>A3</td>\n",
       "      <td>128.0</td>\n",
       "      <td>2017-05-24</td>\n",
       "      <td>960.0</td>\n",
       "      <td>1.324017</td>\n",
       "      <td>79.9</td>\n",
       "      <td>2017-09-09</td>\n",
       "      <td>1.324017</td>\n",
       "    </tr>\n",
       "  </tbody>\n",
       "</table>\n",
       "</div>"
      ],
      "text/plain": [
       "    Field  Acres       Date  GPM High  irrig_inch  irrig_hour Harvest Dates  \\\n",
       "125    A4  120.0 2017-05-24     900.0    1.990168       120.1    2017-09-13   \n",
       "97     A5  120.0 2017-05-24     900.0    1.996796       120.5    2017-08-23   \n",
       "69     A3  128.0 2017-05-24     960.0    1.324017        79.9    2017-09-09   \n",
       "\n",
       "     irr_cum_sum  \n",
       "125     1.990168  \n",
       "97      1.996796  \n",
       "69      1.324017  "
      ]
     },
     "execution_count": 12,
     "metadata": {},
     "output_type": "execute_result"
    }
   ],
   "source": [
    "Irrigation_2017_NA_0_after_May20.head(3)"
   ]
  },
  {
   "cell_type": "code",
   "execution_count": 24,
   "metadata": {},
   "outputs": [
    {
     "data": {
      "image/png": "[encoded data removed]",
      "text/plain": [
       "<Figure size 1080x504 with 1 Axes>"
      ]
     },
     "metadata": {
      "needs_background": "light"
     },
     "output_type": "display_data"
    }
   ],
   "source": [
    "import matplotlib.pylab as pylab\n",
    "params = {'legend.fontsize': 'x-large',\n",
    "          #'figure.figsize': (15, 5),\n",
    "          'axes.labelsize': 32, # changes date (a), (b), (c), (d) on x-axis, EVI, NDVI on y axis. \n",
    "                               # The smaller this number the bigger the labels!!\n",
    "          'axes.titlesize': 32, # changes titles, bean dry for example. \n",
    "                               # This line and the one above are connected, problematic\n",
    "          'xtick.labelsize':20,\n",
    "          'ytick.labelsize':20\n",
    "         }\n",
    "\n",
    "\n",
    "\n",
    "df = Irrigation_2017_NA_0_after_May20.copy();\n",
    "\n",
    "fig, ax = plt.subplots(figsize=(15,7))\n",
    "\n",
    "df.set_index('Date', inplace=True);\n",
    "df.groupby('Field')['irr_cum_sum'].plot(legend=True);\n",
    "\n",
    "ax.grid(True);\n",
    "ax.set_title(\"Cumulative irrigation\");\n",
    "ax.set(xlabel = \"\", ylabel = 'inches')\n",
    "ax.xaxis.labelpad = 15\n",
    "ax.yaxis.labelpad = 15\n",
    "\n",
    "# ax.xaxis.set_major_locator(mdates.DayLocator(interval=1))\n",
    "# ax.xaxis.set_major_formatter(np.sort(df.index.unique()))\n",
    "\n",
    "file_name = dd + \"Cumulative_irrigation_13.png\"\n",
    "plt.savefig(fname = file_name, dpi=600, bbox_inches='tight')\n",
    "plt.show()"
   ]
  },
  {
   "cell_type": "code",
   "execution_count": 25,
   "metadata": {},
   "outputs": [
    {
     "data": {
      "text/plain": [
       "'/Users/hn/Documents/01_research_data/Stop_the_Rot/Clean_For_Python/'"
      ]
     },
     "execution_count": 25,
     "metadata": {},
     "output_type": "execute_result"
    }
   ],
   "source": [
    "dd"
   ]
  },
  {
   "cell_type": "markdown",
   "metadata": {},
   "source": [
    "   - **A1**: Apr 1 - Sep 6\n",
    "   - **A2**: Mar 25 - Sep 6\n",
    "   - **A3**: Mar 15 - Sep 13\n",
    "   - **A4**: Mar 21 - Sep 15\n",
    "   - **A5**: Mar 16 - Sep 23"
   ]
  },
  {
   "cell_type": "code",
   "execution_count": 45,
   "metadata": {},
   "outputs": [],
   "source": [
    "planting_dates = [datetime.date(2017, 4, 1),\n",
    "                  datetime.date(2017, 3, 25),\n",
    "                  datetime.date(2017, 3, 15),\n",
    "                  datetime.date(2017, 3, 21),\n",
    "                  datetime.date(2017, 3, 16)]\n",
    "\n",
    "harvesting_dates = [datetime.date(2017, 9, 6),\n",
    "                    datetime.date(2017, 9, 6),\n",
    "                    datetime.date(2017, 9, 13),\n",
    "                    datetime.date(2017, 9, 15),\n",
    "                    datetime.date(2017, 9, 23)]\n",
    "\n",
    "field_names = ['A1', 'A2', 'A3', 'A4', 'A5']\n",
    "\n",
    "data1 = {'field_names': field_names, 'planting dates': planting_dates, 'harvesting dates': harvesting_dates}\n",
    "\n",
    "Planting_and_Harvesting_dates = pd.DataFrame(data1)"
   ]
  },
  {
   "cell_type": "code",
   "execution_count": 109,
   "metadata": {},
   "outputs": [],
   "source": [
    "planting_dates = [datetime.date(2017, 4, 1),\n",
    "                  datetime.date(2017, 3, 25),\n",
    "                  datetime.date(2017, 3, 15),\n",
    "                  datetime.date(2017, 3, 21),\n",
    "                  datetime.date(2017, 3, 16)]\n",
    "\n",
    "planting_y = [5.7, 2, 1.2, 0, 0]\n",
    "planting_y = [0, 0, 0, 0, 0]\n",
    "\n",
    "harvesting_dates = [datetime.date(2017, 9, 6),\n",
    "                    datetime.date(2017, 9, 6),\n",
    "                    datetime.date(2017, 9, 13),\n",
    "                    datetime.date(2017, 9, 15),\n",
    "                    datetime.date(2017, 9, 23)]\n",
    "\n",
    "harvesting_y = [29.5, 24.2, 25, 17, 17]\n",
    "\n",
    "field_names = ['A1', 'A2', 'A3', 'A4', 'A5']\n",
    "\n",
    "colors = ['cornflowerblue', 'orange', 'green', 'red', 'purple']\n",
    "\n",
    "planting_table = {'Field': field_names, 'planting dates': planting_dates, 'y': planting_y, 'colors':colors}\n",
    "harvesting_table = {'Field': field_names, 'harvesting dates': harvesting_dates, 'y': harvesting_y, 'colors':colors}\n",
    "\n",
    "planting_table = pd.DataFrame(planting_table)\n",
    "harvesting_table = pd.DataFrame(harvesting_table)\n",
    "\n",
    "planting_table.sort_values(by = 'planting dates', inplace=True)\n",
    "harvesting_table.sort_values(by = 'harvesting dates', inplace=True)"
   ]
  },
  {
   "cell_type": "markdown",
   "metadata": {},
   "source": [
    "# After updating Pandas the damn datetime format is problematic:"
   ]
  },
  {
   "cell_type": "code",
   "execution_count": 110,
   "metadata": {},
   "outputs": [],
   "source": [
    "planting_table['planting dates'] = pd.to_datetime(planting_table['planting dates'])\n",
    "harvesting_table['harvesting dates'] = pd.to_datetime(harvesting_table['harvesting dates'])"
   ]
  },
  {
   "cell_type": "code",
   "execution_count": 111,
   "metadata": {},
   "outputs": [
    {
     "data": {
      "text/html": [
       "<div>\n",
       "<style scoped>\n",
       "    .dataframe tbody tr th:only-of-type {\n",
       "        vertical-align: middle;\n",
       "    }\n",
       "\n",
       "    .dataframe tbody tr th {\n",
       "        vertical-align: top;\n",
       "    }\n",
       "\n",
       "    .dataframe thead th {\n",
       "        text-align: right;\n",
       "    }\n",
       "</style>\n",
       "<table border=\"1\" class=\"dataframe\">\n",
       "  <thead>\n",
       "    <tr style=\"text-align: right;\">\n",
       "      <th></th>\n",
       "      <th>Field</th>\n",
       "      <th>y</th>\n",
       "      <th>colors</th>\n",
       "    </tr>\n",
       "    <tr>\n",
       "      <th>planting dates</th>\n",
       "      <th></th>\n",
       "      <th></th>\n",
       "      <th></th>\n",
       "    </tr>\n",
       "  </thead>\n",
       "  <tbody>\n",
       "    <tr>\n",
       "      <th>2017-03-15</th>\n",
       "      <td>A3</td>\n",
       "      <td>0</td>\n",
       "      <td>green</td>\n",
       "    </tr>\n",
       "    <tr>\n",
       "      <th>2017-03-16</th>\n",
       "      <td>A5</td>\n",
       "      <td>0</td>\n",
       "      <td>purple</td>\n",
       "    </tr>\n",
       "  </tbody>\n",
       "</table>\n",
       "</div>"
      ],
      "text/plain": [
       "               Field  y  colors\n",
       "planting dates                 \n",
       "2017-03-15        A3  0   green\n",
       "2017-03-16        A5  0  purple"
      ]
     },
     "execution_count": 111,
     "metadata": {},
     "output_type": "execute_result"
    }
   ],
   "source": [
    "planting_table.set_index('planting dates', inplace=True);\n",
    "planting_table.head(2)"
   ]
  },
  {
   "cell_type": "code",
   "execution_count": 112,
   "metadata": {},
   "outputs": [
    {
     "data": {
      "text/plain": [
       "DatetimeIndex(['2017-03-15', '2017-03-16', '2017-03-21', '2017-03-25',\n",
       "               '2017-04-01'],\n",
       "              dtype='datetime64[ns]', name='planting dates', freq=None)"
      ]
     },
     "execution_count": 112,
     "metadata": {},
     "output_type": "execute_result"
    }
   ],
   "source": [
    "planting_table.index"
   ]
  },
  {
   "cell_type": "code",
   "execution_count": 113,
   "metadata": {},
   "outputs": [
    {
     "data": {
      "text/plain": [
       "planting dates\n",
       "2017-03-15             green\n",
       "2017-03-16            purple\n",
       "2017-03-21               red\n",
       "2017-03-25            orange\n",
       "2017-04-01    cornflowerblue\n",
       "Name: colors, dtype: object"
      ]
     },
     "execution_count": 113,
     "metadata": {},
     "output_type": "execute_result"
    }
   ],
   "source": [
    "planting_table.colors"
   ]
  },
  {
   "cell_type": "code",
   "execution_count": 114,
   "metadata": {},
   "outputs": [
    {
     "data": {
      "image/png": "[encoded data removed]",
      "text/plain": [
       "<Figure size 1080x504 with 1 Axes>"
      ]
     },
     "metadata": {
      "needs_background": "light"
     },
     "output_type": "display_data"
    }
   ],
   "source": [
    "df = Irrigation_2017_NA_0_after_May20.copy();\n",
    "\n",
    "fig, ax = plt.subplots(figsize = (15,7))\n",
    "\n",
    "df.set_index('Date', inplace = True);\n",
    "df.groupby('Field')['irr_cum_sum'].plot(legend=True);\n",
    "\n",
    "# add planting dots\n",
    "plt.scatter(x = planting_table.index, \n",
    "            y = planting_table['y'], \n",
    "            linewidths=3, \n",
    "            c = planting_table.colors)\n",
    "\n",
    "ax.set_xlim([datetime.date(2017, 3, 1), datetime.date(2017, 10, 1)])\n",
    "\n",
    "ax.grid(True);\n",
    "ax.set_title(\"Cumulative irrigation\");\n",
    "\n",
    "\n",
    "file_name = dd + \"Cumulative_irrigation.png\"\n",
    "plt.savefig(fname = file_name, dpi = 600, bbox_inches='tight')\n",
    "plt.show()"
   ]
  },
  {
   "cell_type": "code",
   "execution_count": null,
   "metadata": {},
   "outputs": [],
   "source": []
  },
  {
   "cell_type": "code",
   "execution_count": 47,
   "metadata": {},
   "outputs": [
    {
     "ename": "KeyError",
     "evalue": "'Column not found: irr_cum_sum'",
     "output_type": "error",
     "traceback": [
      "\u001b[0;31m---------------------------------------------------------------------------\u001b[0m",
      "\u001b[0;31mKeyError\u001b[0m                                  Traceback (most recent call last)",
      "\u001b[0;32m<ipython-input-47-96e777d24ed9>\u001b[0m in \u001b[0;36m<module>\u001b[0;34m\u001b[0m\n\u001b[1;32m      4\u001b[0m \u001b[0;34m\u001b[0m\u001b[0m\n\u001b[1;32m      5\u001b[0m \u001b[0mdf\u001b[0m\u001b[0;34m.\u001b[0m\u001b[0mset_index\u001b[0m\u001b[0;34m(\u001b[0m\u001b[0;34m'Date'\u001b[0m\u001b[0;34m,\u001b[0m \u001b[0minplace\u001b[0m\u001b[0;34m=\u001b[0m\u001b[0;32mTrue\u001b[0m\u001b[0;34m)\u001b[0m\u001b[0;34m;\u001b[0m\u001b[0;34m\u001b[0m\u001b[0;34m\u001b[0m\u001b[0m\n\u001b[0;32m----> 6\u001b[0;31m \u001b[0mdf\u001b[0m\u001b[0;34m.\u001b[0m\u001b[0mgroupby\u001b[0m\u001b[0;34m(\u001b[0m\u001b[0;34m'Field'\u001b[0m\u001b[0;34m)\u001b[0m\u001b[0;34m[\u001b[0m\u001b[0;34m'irr_cum_sum'\u001b[0m\u001b[0;34m]\u001b[0m\u001b[0;34m.\u001b[0m\u001b[0mplot\u001b[0m\u001b[0;34m(\u001b[0m\u001b[0mlegend\u001b[0m\u001b[0;34m=\u001b[0m\u001b[0;32mTrue\u001b[0m\u001b[0;34m)\u001b[0m\u001b[0;34m;\u001b[0m\u001b[0;34m\u001b[0m\u001b[0;34m\u001b[0m\u001b[0m\n\u001b[0m\u001b[1;32m      7\u001b[0m \u001b[0;34m\u001b[0m\u001b[0m\n\u001b[1;32m      8\u001b[0m \u001b[0;31m# add planting dots\u001b[0m\u001b[0;34m\u001b[0m\u001b[0;34m\u001b[0m\u001b[0;34m\u001b[0m\u001b[0m\n",
      "\u001b[0;32m~/opt/anaconda3/lib/python3.7/site-packages/pandas/core/groupby/generic.py\u001b[0m in \u001b[0;36m__getitem__\u001b[0;34m(self, key)\u001b[0m\n\u001b[1;32m   1533\u001b[0m                 \u001b[0mstacklevel\u001b[0m\u001b[0;34m=\u001b[0m\u001b[0;36m2\u001b[0m\u001b[0;34m,\u001b[0m\u001b[0;34m\u001b[0m\u001b[0;34m\u001b[0m\u001b[0m\n\u001b[1;32m   1534\u001b[0m             )\n\u001b[0;32m-> 1535\u001b[0;31m         \u001b[0;32mreturn\u001b[0m \u001b[0msuper\u001b[0m\u001b[0;34m(\u001b[0m\u001b[0;34m)\u001b[0m\u001b[0;34m.\u001b[0m\u001b[0m__getitem__\u001b[0m\u001b[0;34m(\u001b[0m\u001b[0mkey\u001b[0m\u001b[0;34m)\u001b[0m\u001b[0;34m\u001b[0m\u001b[0;34m\u001b[0m\u001b[0m\n\u001b[0m\u001b[1;32m   1536\u001b[0m \u001b[0;34m\u001b[0m\u001b[0m\n\u001b[1;32m   1537\u001b[0m     \u001b[0;32mdef\u001b[0m \u001b[0m_gotitem\u001b[0m\u001b[0;34m(\u001b[0m\u001b[0mself\u001b[0m\u001b[0;34m,\u001b[0m \u001b[0mkey\u001b[0m\u001b[0;34m,\u001b[0m \u001b[0mndim\u001b[0m\u001b[0;34m:\u001b[0m \u001b[0mint\u001b[0m\u001b[0;34m,\u001b[0m \u001b[0msubset\u001b[0m\u001b[0;34m=\u001b[0m\u001b[0;32mNone\u001b[0m\u001b[0;34m)\u001b[0m\u001b[0;34m:\u001b[0m\u001b[0;34m\u001b[0m\u001b[0;34m\u001b[0m\u001b[0m\n",
      "\u001b[0;32m~/opt/anaconda3/lib/python3.7/site-packages/pandas/core/base.py\u001b[0m in \u001b[0;36m__getitem__\u001b[0;34m(self, key)\u001b[0m\n\u001b[1;32m    278\u001b[0m             \u001b[0;31m# error: \"SelectionMixin\" has no attribute \"obj\"  [attr-defined]\u001b[0m\u001b[0;34m\u001b[0m\u001b[0;34m\u001b[0m\u001b[0;34m\u001b[0m\u001b[0m\n\u001b[1;32m    279\u001b[0m             \u001b[0;32mif\u001b[0m \u001b[0mkey\u001b[0m \u001b[0;32mnot\u001b[0m \u001b[0;32min\u001b[0m \u001b[0mself\u001b[0m\u001b[0;34m.\u001b[0m\u001b[0mobj\u001b[0m\u001b[0;34m:\u001b[0m  \u001b[0;31m# type: ignore[attr-defined]\u001b[0m\u001b[0;34m\u001b[0m\u001b[0;34m\u001b[0m\u001b[0m\n\u001b[0;32m--> 280\u001b[0;31m                 \u001b[0;32mraise\u001b[0m \u001b[0mKeyError\u001b[0m\u001b[0;34m(\u001b[0m\u001b[0;34mf\"Column not found: {key}\"\u001b[0m\u001b[0;34m)\u001b[0m\u001b[0;34m\u001b[0m\u001b[0;34m\u001b[0m\u001b[0m\n\u001b[0m\u001b[1;32m    281\u001b[0m             \u001b[0;32mreturn\u001b[0m \u001b[0mself\u001b[0m\u001b[0;34m.\u001b[0m\u001b[0m_gotitem\u001b[0m\u001b[0;34m(\u001b[0m\u001b[0mkey\u001b[0m\u001b[0;34m,\u001b[0m \u001b[0mndim\u001b[0m\u001b[0;34m=\u001b[0m\u001b[0;36m1\u001b[0m\u001b[0;34m)\u001b[0m\u001b[0;34m\u001b[0m\u001b[0;34m\u001b[0m\u001b[0m\n\u001b[1;32m    282\u001b[0m \u001b[0;34m\u001b[0m\u001b[0m\n",
      "\u001b[0;31mKeyError\u001b[0m: 'Column not found: irr_cum_sum'"
     ]
    },
    {
     "data": {
      "image/png": "[encoded data removed]",
      "text/plain": [
       "<Figure size 1080x504 with 1 Axes>"
      ]
     },
     "metadata": {
      "needs_background": "light"
     },
     "output_type": "display_data"
    }
   ],
   "source": [
    "df = Irrigation_2017_NA_0.copy();\n",
    "\n",
    "fig, ax = plt.subplots(figsize=(15,7))\n",
    "\n",
    "df.set_index('Date', inplace=True);\n",
    "df.groupby('Field')['irr_cum_sum'].plot(legend=True);\n",
    "\n",
    "# add planting dots\n",
    "plt.scatter(x = Planting_and_Harvesting_dates.loc[0, 'planting dates'], y = 5.7, linewidths=3)\n",
    "plt.scatter(x = Planting_and_Harvesting_dates.loc[1, 'planting dates'], y = 2, linewidths=3)\n",
    "plt.scatter(x = Planting_and_Harvesting_dates.loc[2, 'planting dates'], y = 1.2, linewidths=3)\n",
    "plt.scatter(x = Planting_and_Harvesting_dates.loc[3, 'planting dates'], y = 0, linewidths=3)\n",
    "plt.scatter(x = Planting_and_Harvesting_dates.loc[4, 'planting dates'], y = 0, linewidths=3)\n",
    "\n",
    "plt.scatter(x = Planting_and_Harvesting_dates.loc[0, 'harvesting dates'], \n",
    "            y = 29.5, \n",
    "            linewidths=3, \n",
    "            c = 'cornflowerblue')\n",
    "\n",
    "plt.scatter(x = Planting_and_Harvesting_dates.loc[1, 'harvesting dates'], \n",
    "            y = 24.2, \n",
    "            linewidths=3, \n",
    "            c = 'orange')\n",
    "\n",
    "plt.scatter(x = Planting_and_Harvesting_dates.loc[2, 'harvesting dates'], \n",
    "            y = 25, \n",
    "            linewidths=3, \n",
    "            c = 'green')\n",
    "\n",
    "plt.scatter(x = Planting_and_Harvesting_dates.loc[3, 'harvesting dates'], \n",
    "            y = 17, \n",
    "            linewidths=3, \n",
    "            c = 'red')\n",
    "\n",
    "plt.scatter(x = Planting_and_Harvesting_dates.loc[4, 'harvesting dates'], \n",
    "            y = 17, \n",
    "            linewidths=3, \n",
    "            c = 'purple')\n",
    "\n",
    "ax.grid(True);\n",
    "ax.set_title(\"Cumulative irrigation (dots are planting and harvesting dates)\");\n",
    "\n",
    "\n",
    "file_name = python_data_dir + \"Cumulative_irrigation_wPantingHarvesting.png\"\n",
    "plt.savefig(fname = file_name, dpi=600, bbox_inches='tight')\n",
    "plt.show()"
   ]
  },
  {
   "cell_type": "code",
   "execution_count": 42,
   "metadata": {},
   "outputs": [],
   "source": [
    "planting_dates = [datetime.date(2017, 4, 1),\n",
    "                  datetime.date(2017, 3, 25),\n",
    "                  datetime.date(2017, 3, 15),\n",
    "                  datetime.date(2017, 3, 21),\n",
    "                  datetime.date(2017, 3, 16)]\n",
    "\n",
    "planting_y = [5.7, 2, 1.2, 0, 0]\n",
    "\n",
    "harvesting_dates = [datetime.date(2017, 9, 6),\n",
    "                    datetime.date(2017, 9, 6),\n",
    "                    datetime.date(2017, 9, 13),\n",
    "                    datetime.date(2017, 9, 15),\n",
    "                    datetime.date(2017, 9, 23)]\n",
    "\n",
    "harvesting_y = [29.5, 24.2, 25, 17, 17]\n",
    "\n",
    "field_names = ['A1', 'A2', 'A3', 'A4', 'A5']\n",
    "\n",
    "colors = ['cornflowerblue', 'orange', 'green', 'red', 'purple']\n",
    "\n",
    "planting_table = {'Field': field_names, 'planting dates': planting_dates, 'y': planting_y, 'colors':colors}\n",
    "harvesting_table = {'Field': field_names, 'harvesting dates': harvesting_dates, 'y': harvesting_y, 'colors':colors}\n",
    "\n",
    "planting_table = pd.DataFrame(planting_table)\n",
    "harvesting_table = pd.DataFrame(harvesting_table)\n",
    "\n",
    "planting_table.sort_values(by = 'planting dates', inplace=True)\n",
    "harvesting_table.sort_values(by = 'harvesting dates', inplace=True)"
   ]
  },
  {
   "cell_type": "code",
   "execution_count": 43,
   "metadata": {},
   "outputs": [
    {
     "ename": "KeyError",
     "evalue": "'Column not found: irr_cum_sum'",
     "output_type": "error",
     "traceback": [
      "\u001b[0;31m---------------------------------------------------------------------------\u001b[0m",
      "\u001b[0;31mKeyError\u001b[0m                                  Traceback (most recent call last)",
      "\u001b[0;32m<ipython-input-43-69dd262d36ee>\u001b[0m in \u001b[0;36m<module>\u001b[0;34m\u001b[0m\n\u001b[1;32m      4\u001b[0m \u001b[0;34m\u001b[0m\u001b[0m\n\u001b[1;32m      5\u001b[0m \u001b[0mdf\u001b[0m\u001b[0;34m.\u001b[0m\u001b[0mset_index\u001b[0m\u001b[0;34m(\u001b[0m\u001b[0;34m'Date'\u001b[0m\u001b[0;34m,\u001b[0m \u001b[0minplace\u001b[0m\u001b[0;34m=\u001b[0m\u001b[0;32mTrue\u001b[0m\u001b[0;34m)\u001b[0m\u001b[0;34m;\u001b[0m\u001b[0;34m\u001b[0m\u001b[0;34m\u001b[0m\u001b[0m\n\u001b[0;32m----> 6\u001b[0;31m \u001b[0mdf\u001b[0m\u001b[0;34m.\u001b[0m\u001b[0mgroupby\u001b[0m\u001b[0;34m(\u001b[0m\u001b[0;34m'Field'\u001b[0m\u001b[0;34m)\u001b[0m\u001b[0;34m[\u001b[0m\u001b[0;34m'irr_cum_sum'\u001b[0m\u001b[0;34m]\u001b[0m\u001b[0;34m.\u001b[0m\u001b[0mplot\u001b[0m\u001b[0;34m(\u001b[0m\u001b[0mlegend\u001b[0m\u001b[0;34m=\u001b[0m\u001b[0;32mTrue\u001b[0m\u001b[0;34m)\u001b[0m\u001b[0;34m;\u001b[0m\u001b[0;34m\u001b[0m\u001b[0;34m\u001b[0m\u001b[0m\n\u001b[0m\u001b[1;32m      7\u001b[0m \u001b[0;34m\u001b[0m\u001b[0m\n\u001b[1;32m      8\u001b[0m \u001b[0;31m# add planting dots\u001b[0m\u001b[0;34m\u001b[0m\u001b[0;34m\u001b[0m\u001b[0;34m\u001b[0m\u001b[0m\n",
      "\u001b[0;32m~/opt/anaconda3/lib/python3.7/site-packages/pandas/core/groupby/generic.py\u001b[0m in \u001b[0;36m__getitem__\u001b[0;34m(self, key)\u001b[0m\n\u001b[1;32m   1533\u001b[0m                 \u001b[0mstacklevel\u001b[0m\u001b[0;34m=\u001b[0m\u001b[0;36m2\u001b[0m\u001b[0;34m,\u001b[0m\u001b[0;34m\u001b[0m\u001b[0;34m\u001b[0m\u001b[0m\n\u001b[1;32m   1534\u001b[0m             )\n\u001b[0;32m-> 1535\u001b[0;31m         \u001b[0;32mreturn\u001b[0m \u001b[0msuper\u001b[0m\u001b[0;34m(\u001b[0m\u001b[0;34m)\u001b[0m\u001b[0;34m.\u001b[0m\u001b[0m__getitem__\u001b[0m\u001b[0;34m(\u001b[0m\u001b[0mkey\u001b[0m\u001b[0;34m)\u001b[0m\u001b[0;34m\u001b[0m\u001b[0;34m\u001b[0m\u001b[0m\n\u001b[0m\u001b[1;32m   1536\u001b[0m \u001b[0;34m\u001b[0m\u001b[0m\n\u001b[1;32m   1537\u001b[0m     \u001b[0;32mdef\u001b[0m \u001b[0m_gotitem\u001b[0m\u001b[0;34m(\u001b[0m\u001b[0mself\u001b[0m\u001b[0;34m,\u001b[0m \u001b[0mkey\u001b[0m\u001b[0;34m,\u001b[0m \u001b[0mndim\u001b[0m\u001b[0;34m:\u001b[0m \u001b[0mint\u001b[0m\u001b[0;34m,\u001b[0m \u001b[0msubset\u001b[0m\u001b[0;34m=\u001b[0m\u001b[0;32mNone\u001b[0m\u001b[0;34m)\u001b[0m\u001b[0;34m:\u001b[0m\u001b[0;34m\u001b[0m\u001b[0;34m\u001b[0m\u001b[0m\n",
      "\u001b[0;32m~/opt/anaconda3/lib/python3.7/site-packages/pandas/core/base.py\u001b[0m in \u001b[0;36m__getitem__\u001b[0;34m(self, key)\u001b[0m\n\u001b[1;32m    278\u001b[0m             \u001b[0;31m# error: \"SelectionMixin\" has no attribute \"obj\"  [attr-defined]\u001b[0m\u001b[0;34m\u001b[0m\u001b[0;34m\u001b[0m\u001b[0;34m\u001b[0m\u001b[0m\n\u001b[1;32m    279\u001b[0m             \u001b[0;32mif\u001b[0m \u001b[0mkey\u001b[0m \u001b[0;32mnot\u001b[0m \u001b[0;32min\u001b[0m \u001b[0mself\u001b[0m\u001b[0;34m.\u001b[0m\u001b[0mobj\u001b[0m\u001b[0;34m:\u001b[0m  \u001b[0;31m# type: ignore[attr-defined]\u001b[0m\u001b[0;34m\u001b[0m\u001b[0;34m\u001b[0m\u001b[0m\n\u001b[0;32m--> 280\u001b[0;31m                 \u001b[0;32mraise\u001b[0m \u001b[0mKeyError\u001b[0m\u001b[0;34m(\u001b[0m\u001b[0;34mf\"Column not found: {key}\"\u001b[0m\u001b[0;34m)\u001b[0m\u001b[0;34m\u001b[0m\u001b[0;34m\u001b[0m\u001b[0m\n\u001b[0m\u001b[1;32m    281\u001b[0m             \u001b[0;32mreturn\u001b[0m \u001b[0mself\u001b[0m\u001b[0;34m.\u001b[0m\u001b[0m_gotitem\u001b[0m\u001b[0;34m(\u001b[0m\u001b[0mkey\u001b[0m\u001b[0;34m,\u001b[0m \u001b[0mndim\u001b[0m\u001b[0;34m=\u001b[0m\u001b[0;36m1\u001b[0m\u001b[0;34m)\u001b[0m\u001b[0;34m\u001b[0m\u001b[0;34m\u001b[0m\u001b[0m\n\u001b[1;32m    282\u001b[0m \u001b[0;34m\u001b[0m\u001b[0m\n",
      "\u001b[0;31mKeyError\u001b[0m: 'Column not found: irr_cum_sum'"
     ]
    },
    {
     "data": {
      "image/png": "[encoded data removed]",
      "text/plain": [
       "<Figure size 1080x504 with 1 Axes>"
      ]
     },
     "metadata": {
      "needs_background": "light"
     },
     "output_type": "display_data"
    }
   ],
   "source": [
    "df = Irrigation_2017_NA_0.copy();\n",
    "\n",
    "fig, ax = plt.subplots(figsize=(15,7))\n",
    "\n",
    "df.set_index('Date', inplace=True);\n",
    "df.groupby('Field')['irr_cum_sum'].plot(legend=True);\n",
    "\n",
    "# add planting dots\n",
    "plt.scatter(x = planting_table['planting dates'], \n",
    "            y = planting_table['y'], \n",
    "            linewidths=3, \n",
    "            c = planting_table.colors)\n",
    "\n",
    "plt.scatter(x = harvesting_table['harvesting dates'], \n",
    "            y = harvesting_table['y'], \n",
    "            linewidths=3,\n",
    "            c = harvesting_table.colors)\n",
    "\n",
    "ax.grid(True);\n",
    "ax.set_title(\"Cumulative irrigation (dots are planting and harvesting dates)\");\n",
    "\n",
    "# file_name = python_data_dir + \"Cumulative_irrigation_wPantingHarvesting_2.png\"\n",
    "# plt.savefig(fname = file_name, dpi=600, bbox_inches='tight')\n",
    "# plt.show()"
   ]
  },
  {
   "cell_type": "code",
   "execution_count": null,
   "metadata": {},
   "outputs": [],
   "source": []
  }
 ],
 "metadata": {
  "kernelspec": {
   "display_name": "Python 3",
   "language": "python",
   "name": "python3"
  },
  "language_info": {
   "codemirror_mode": {
    "name": "ipython",
    "version": 3
   },
   "file_extension": ".py",
   "mimetype": "text/x-python",
   "name": "python",
   "nbconvert_exporter": "python",
   "pygments_lexer": "ipython3",
   "version": "3.7.4"
  }
 },
 "nbformat": 4,
 "nbformat_minor": 2
}
