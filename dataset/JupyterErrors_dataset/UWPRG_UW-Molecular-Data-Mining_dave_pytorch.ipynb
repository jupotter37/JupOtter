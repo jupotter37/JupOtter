{
 "cells": [
  {
   "cell_type": "code",
   "execution_count": 1,
   "metadata": {},
   "outputs": [],
   "source": [
    "import torch\n",
    "import torch.nn as nn\n",
    "import torch.nn.functional as F\n",
    "\n",
    "import pandas as pd\n",
    "import numpy as np\n",
    "\n",
    "from nltk.stem import WordNetLemmatizer\n",
    "lemmatizer = WordNetLemmatizer()\n",
    "from nltk.stem import PorterStemmer\n",
    "stemmer = PorterStemmer()\n",
    "\n",
    "import Levenshtein as lev"
   ]
  },
  {
   "cell_type": "code",
   "execution_count": 2,
   "metadata": {},
   "outputs": [],
   "source": [
    "df = pd.read_excel('Carbon_SynAntList_Full_Refined.xlsx', skiprows = 1)\n",
    "df = df.rename(columns = {'Unnamed: 0':'index', 0:'word1', 1:'word2', 2:'relationship', 'Unnamed: 4': 'label'})\n",
    "df = df.fillna(0)"
   ]
  },
  {
   "cell_type": "code",
   "execution_count": 3,
   "metadata": {},
   "outputs": [
    {
     "data": {
      "text/html": [
       "<div>\n",
       "<style scoped>\n",
       "    .dataframe tbody tr th:only-of-type {\n",
       "        vertical-align: middle;\n",
       "    }\n",
       "\n",
       "    .dataframe tbody tr th {\n",
       "        vertical-align: top;\n",
       "    }\n",
       "\n",
       "    .dataframe thead th {\n",
       "        text-align: right;\n",
       "    }\n",
       "</style>\n",
       "<table border=\"1\" class=\"dataframe\">\n",
       "  <thead>\n",
       "    <tr style=\"text-align: right;\">\n",
       "      <th></th>\n",
       "      <th>index</th>\n",
       "      <th>word1</th>\n",
       "      <th>word2</th>\n",
       "      <th>relationship</th>\n",
       "      <th>label</th>\n",
       "    </tr>\n",
       "  </thead>\n",
       "  <tbody>\n",
       "    <tr>\n",
       "      <th>0</th>\n",
       "      <td>0</td>\n",
       "      <td>carbon</td>\n",
       "      <td>original</td>\n",
       "      <td>ant</td>\n",
       "      <td>0</td>\n",
       "    </tr>\n",
       "    <tr>\n",
       "      <th>1</th>\n",
       "      <td>1</td>\n",
       "      <td>carbon</td>\n",
       "      <td>graphite</td>\n",
       "      <td>syn</td>\n",
       "      <td>1</td>\n",
       "    </tr>\n",
       "    <tr>\n",
       "      <th>2</th>\n",
       "      <td>2</td>\n",
       "      <td>carbon</td>\n",
       "      <td>soot</td>\n",
       "      <td>syn</td>\n",
       "      <td>1</td>\n",
       "    </tr>\n",
       "    <tr>\n",
       "      <th>3</th>\n",
       "      <td>3</td>\n",
       "      <td>carbon</td>\n",
       "      <td>imitate</td>\n",
       "      <td>syn</td>\n",
       "      <td>0</td>\n",
       "    </tr>\n",
       "    <tr>\n",
       "      <th>4</th>\n",
       "      <td>4</td>\n",
       "      <td>carbon</td>\n",
       "      <td>paint</td>\n",
       "      <td>syn</td>\n",
       "      <td>0</td>\n",
       "    </tr>\n",
       "  </tbody>\n",
       "</table>\n",
       "</div>"
      ],
      "text/plain": [
       "   index   word1     word2 relationship label\n",
       "0      0  carbon  original          ant     0\n",
       "1      1  carbon  graphite          syn     1\n",
       "2      2  carbon      soot          syn     1\n",
       "3      3  carbon   imitate          syn     0\n",
       "4      4  carbon     paint          syn     0"
      ]
     },
     "execution_count": 3,
     "metadata": {},
     "output_type": "execute_result"
    }
   ],
   "source": [
    "df.head()"
   ]
  },
  {
   "cell_type": "code",
   "execution_count": 4,
   "metadata": {},
   "outputs": [],
   "source": [
    "lev_distances = []\n",
    "stems_equal = []\n",
    "lemmas_equal = []\n",
    "\n",
    "for row in df.iterrows():\n",
    "    word1 = row[1]['word1']\n",
    "    word2 = row[1]['word2']\n",
    "    \n",
    "    distance = lev.distance(str(word1),str(word2))\n",
    "    lev_distances.append(distance)\n",
    "    \n",
    "    word1lemma = lemmatizer.lemmatize(str(word1))\n",
    "    word2lemma = lemmatizer.lemmatize(str(word2))\n",
    "    lemmas_equal.append(word1lemma == word2lemma)\n",
    "    \n",
    "    word1stem = stemmer.stem(str(word1))\n",
    "    word2stem = stemmer.stem(str(word2))\n",
    "    stems_equal.append(word1stem == word2stem)"
   ]
  },
  {
   "cell_type": "code",
   "execution_count": 6,
   "metadata": {},
   "outputs": [],
   "source": [
    "df['lev_distance'] = lev_distances\n",
    "df['stems_equal'] = stems_equal\n",
    "df['lemmas_equal'] = lemmas_equal"
   ]
  },
  {
   "cell_type": "code",
   "execution_count": 7,
   "metadata": {},
   "outputs": [
    {
     "data": {
      "text/html": [
       "<div>\n",
       "<style scoped>\n",
       "    .dataframe tbody tr th:only-of-type {\n",
       "        vertical-align: middle;\n",
       "    }\n",
       "\n",
       "    .dataframe tbody tr th {\n",
       "        vertical-align: top;\n",
       "    }\n",
       "\n",
       "    .dataframe thead th {\n",
       "        text-align: right;\n",
       "    }\n",
       "</style>\n",
       "<table border=\"1\" class=\"dataframe\">\n",
       "  <thead>\n",
       "    <tr style=\"text-align: right;\">\n",
       "      <th></th>\n",
       "      <th>index</th>\n",
       "      <th>word1</th>\n",
       "      <th>word2</th>\n",
       "      <th>relationship</th>\n",
       "      <th>label</th>\n",
       "      <th>lev_distance</th>\n",
       "      <th>stems_equal</th>\n",
       "      <th>lemmas_equal</th>\n",
       "    </tr>\n",
       "  </thead>\n",
       "  <tbody>\n",
       "    <tr>\n",
       "      <th>0</th>\n",
       "      <td>0</td>\n",
       "      <td>carbon</td>\n",
       "      <td>original</td>\n",
       "      <td>ant</td>\n",
       "      <td>0</td>\n",
       "      <td>7</td>\n",
       "      <td>False</td>\n",
       "      <td>False</td>\n",
       "    </tr>\n",
       "    <tr>\n",
       "      <th>1</th>\n",
       "      <td>1</td>\n",
       "      <td>carbon</td>\n",
       "      <td>graphite</td>\n",
       "      <td>syn</td>\n",
       "      <td>1</td>\n",
       "      <td>7</td>\n",
       "      <td>False</td>\n",
       "      <td>False</td>\n",
       "    </tr>\n",
       "    <tr>\n",
       "      <th>2</th>\n",
       "      <td>2</td>\n",
       "      <td>carbon</td>\n",
       "      <td>soot</td>\n",
       "      <td>syn</td>\n",
       "      <td>1</td>\n",
       "      <td>5</td>\n",
       "      <td>False</td>\n",
       "      <td>False</td>\n",
       "    </tr>\n",
       "    <tr>\n",
       "      <th>3</th>\n",
       "      <td>3</td>\n",
       "      <td>carbon</td>\n",
       "      <td>imitate</td>\n",
       "      <td>syn</td>\n",
       "      <td>0</td>\n",
       "      <td>7</td>\n",
       "      <td>False</td>\n",
       "      <td>False</td>\n",
       "    </tr>\n",
       "    <tr>\n",
       "      <th>4</th>\n",
       "      <td>4</td>\n",
       "      <td>carbon</td>\n",
       "      <td>paint</td>\n",
       "      <td>syn</td>\n",
       "      <td>0</td>\n",
       "      <td>5</td>\n",
       "      <td>False</td>\n",
       "      <td>False</td>\n",
       "    </tr>\n",
       "  </tbody>\n",
       "</table>\n",
       "</div>"
      ],
      "text/plain": [
       "   index   word1     word2 relationship label  lev_distance  stems_equal  \\\n",
       "0      0  carbon  original          ant     0             7        False   \n",
       "1      1  carbon  graphite          syn     1             7        False   \n",
       "2      2  carbon      soot          syn     1             5        False   \n",
       "3      3  carbon   imitate          syn     0             7        False   \n",
       "4      4  carbon     paint          syn     0             5        False   \n",
       "\n",
       "   lemmas_equal  \n",
       "0         False  \n",
       "1         False  \n",
       "2         False  \n",
       "3         False  \n",
       "4         False  "
      ]
     },
     "execution_count": 7,
     "metadata": {},
     "output_type": "execute_result"
    }
   ],
   "source": [
    "df.head()"
   ]
  },
  {
   "cell_type": "code",
   "execution_count": null,
   "metadata": {},
   "outputs": [],
   "source": [
    "df2 = df.iloc[:2000]"
   ]
  },
  {
   "cell_type": "code",
   "execution_count": null,
   "metadata": {},
   "outputs": [],
   "source": [
    "df2.head()"
   ]
  },
  {
   "cell_type": "code",
   "execution_count": null,
   "metadata": {},
   "outputs": [],
   "source": [
    "stemmer.stem"
   ]
  },
  {
   "cell_type": "markdown",
   "metadata": {},
   "source": [
    "### Protype Architecture"
   ]
  },
  {
   "cell_type": "code",
   "execution_count": 5,
   "metadata": {},
   "outputs": [],
   "source": [
    "class SynSpace(nn.Module):\n",
    "    \"\"\"\n",
    "    \n",
    "    \"\"\"\n",
    "    def __init__(self, in_reprs, out_reprs=60):\n",
    "        # \n",
    "        self.in_reprs = in_reprs\n",
    "        self.out_reprs = out_reprs\n",
    "        # \n",
    "        self.layers = []\n",
    "        self.layers.append(nn.Linear(self.in_reprs, self.out_reprs))\n",
    "        \n",
    "        self.layers = nn.Sequential(*self.layers)\n",
    "    \n",
    "    def forward(self, x):\n",
    "        \n",
    "        out = self.layers(x)\n",
    "        return out\n"
   ]
  },
  {
   "cell_type": "code",
   "execution_count": 7,
   "metadata": {},
   "outputs": [
    {
     "ename": "NameError",
     "evalue": "name 'self' is not defined",
     "output_type": "error",
     "traceback": [
      "\u001b[0;31m---------------------------------------------------------------------------\u001b[0m",
      "\u001b[0;31mNameError\u001b[0m                                 Traceback (most recent call last)",
      "\u001b[0;32m<ipython-input-7-b048654559ad>\u001b[0m in \u001b[0;36m<module>\u001b[0;34m\u001b[0m\n\u001b[0;32m----> 1\u001b[0;31m \u001b[0msynspace\u001b[0m \u001b[0;34m=\u001b[0m \u001b[0mSynSpace\u001b[0m\u001b[0;34m(\u001b[0m\u001b[0mself\u001b[0m\u001b[0;34m,\u001b[0m\u001b[0;36m3\u001b[0m\u001b[0;34m,\u001b[0m\u001b[0;36m60\u001b[0m\u001b[0;34m)\u001b[0m\u001b[0;34m\u001b[0m\u001b[0;34m\u001b[0m\u001b[0m\n\u001b[0m",
      "\u001b[0;31mNameError\u001b[0m: name 'self' is not defined"
     ]
    }
   ],
   "source": [
    "synspace = SynSpace(3,60)"
   ]
  },
  {
   "cell_type": "code",
   "execution_count": 3,
   "metadata": {},
   "outputs": [],
   "source": [
    "class AntSpace(nn.Module):\n",
    "    \"\"\"\n",
    "    This class builds antonym subspace\n",
    "    \"\"\"\n",
    "    def __init__(self, in_reprs, out_reprs=60):\n",
    "        # \n",
    "        self.in_reprs = in_reprs\n",
    "        self.out_reprs = out_reprs\n",
    "        # \n",
    "        self.layers = []\n",
    "        self.layers.append(nn.Linear(self.in_reprs, self.out_reprs))\n",
    "    \n",
    "    def forward(self, x):\n",
    "        \n",
    "        out = self.layers(x)\n",
    "        return out"
   ]
  },
  {
   "cell_type": "code",
   "execution_count": null,
   "metadata": {},
   "outputs": [],
   "source": [
    "class FullNet(nn.Module):\n",
    "    \"\"\"\n",
    "    \n",
    "    \"\"\"\n",
    "    def __init__(self, in_reprs, out_reprs=3)\n",
    "        \"\"\"\n",
    "        this method does..\n",
    "        \n",
    "        Parameters:\n",
    "        ___________\n",
    "        in_reprs (torch.tensor): the dimmensionalilty of the concatenated input data\n",
    "            i.e., W2V embedding, stems equal, lemmas equal, lev distance.\n",
    "            \n",
    "        \"\"\"\n",
    "        \n",
    "        self.in_reprs = in_reprs\n",
    "        self.out_reprs = out_reprs\n",
    "        \n",
    "        self.layers = []\n",
    "        self.layers.append(nn.Linear(in_reprs))"
   ]
  }
 ],
 "metadata": {
  "kernelspec": {
   "display_name": "Python 3",
   "language": "python",
   "name": "python3"
  },
  "language_info": {
   "codemirror_mode": {
    "name": "ipython",
    "version": 3
   },
   "file_extension": ".py",
   "mimetype": "text/x-python",
   "name": "python",
   "nbconvert_exporter": "python",
   "pygments_lexer": "ipython3",
   "version": "3.7.3"
  }
 },
 "nbformat": 4,
 "nbformat_minor": 4
}
