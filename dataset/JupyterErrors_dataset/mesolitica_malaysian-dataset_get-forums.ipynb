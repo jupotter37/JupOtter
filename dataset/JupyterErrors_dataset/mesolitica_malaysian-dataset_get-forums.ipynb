{
 "cells": [
  {
   "cell_type": "code",
   "execution_count": 1,
   "metadata": {},
   "outputs": [],
   "source": [
    "import requests\n",
    "import numpy as np\n",
    "from bs4 import BeautifulSoup\n",
    "from tqdm import tqdm\n",
    "from concurrent.futures import ThreadPoolExecutor, as_completed\n",
    "from glob import glob\n",
    "from tqdm import tqdm\n",
    "import time\n",
    "import json\n",
    "import os\n",
    "import gc"
   ]
  },
  {
   "cell_type": "code",
   "execution_count": 2,
   "metadata": {},
   "outputs": [],
   "source": [
    "url = 'https://b.cari.com.my/forum.php'"
   ]
  },
  {
   "cell_type": "code",
   "execution_count": 3,
   "metadata": {},
   "outputs": [],
   "source": [
    "r = requests.get(url)\n",
    "soup = BeautifulSoup(r.content, \"lxml\")"
   ]
  },
  {
   "cell_type": "code",
   "execution_count": 4,
   "metadata": {},
   "outputs": [],
   "source": [
    "a = soup.find_all('a')\n",
    "a = [a_.get('href') for a_ in a if a_.get('href')]\n",
    "a = [a_ for a_ in a if 'forum.php?mod=forumdisplay&fid=' in a_]\n",
    "forums = list(set(a))"
   ]
  },
  {
   "cell_type": "code",
   "execution_count": 5,
   "metadata": {},
   "outputs": [],
   "source": [
    "with open('forums.json', 'w') as fopen:\n",
    "    json.dump(forums, fopen)"
   ]
  },
  {
   "cell_type": "code",
   "execution_count": 19,
   "metadata": {
    "scrolled": true
   },
   "outputs": [],
   "source": [
    "def get_href(url, forum):\n",
    "    while True:\n",
    "        try:\n",
    "            r = requests.get(url, timeout = 5.0)\n",
    "            break\n",
    "        except:\n",
    "            time.sleep(1.0)\n",
    "    soup = BeautifulSoup(r.content, \"lxml\")\n",
    "    a = soup.find_all('a')\n",
    "    a = [a_.get('href') for a_ in a if a_.get('href')]\n",
    "    a = [a_ for a_ in a if forum in a_ and '&page=' in a_[-10:]]\n",
    "    try:\n",
    "        max_page = max([int(a_.split('page=')[-1]) for a_ in a])\n",
    "    except:\n",
    "        max_page = -1\n",
    "    \n",
    "    a = soup.find_all('a')\n",
    "    a = [a_.get('href') for a_ in a if a_.get('href')]\n",
    "    a = [a_.split('&extra=')[0] for a_ in a if a_.startswith('forum.php?mod=viewthread&tid=')]\n",
    "    a = list(set(a))\n",
    "        \n",
    "    return a, max_page"
   ]
  },
  {
   "cell_type": "code",
   "execution_count": 20,
   "metadata": {
    "scrolled": false
   },
   "outputs": [
    {
     "data": {
      "text/plain": [
       "'forum.php?mod=forumdisplay&fid=60'"
      ]
     },
     "execution_count": 20,
     "metadata": {},
     "output_type": "execute_result"
    }
   ],
   "source": [
    "forums[0]"
   ]
  },
  {
   "cell_type": "code",
   "execution_count": 21,
   "metadata": {},
   "outputs": [
    {
     "data": {
      "text/plain": [
       "'https://b.cari.com.my/forum.php'"
      ]
     },
     "execution_count": 21,
     "metadata": {},
     "output_type": "execute_result"
    }
   ],
   "source": [
    "url"
   ]
  },
  {
   "cell_type": "code",
   "execution_count": 22,
   "metadata": {},
   "outputs": [
    {
     "data": {
      "text/plain": [
       "(['forum.php?mod=viewthread&tid=1192930',\n",
       "  'forum.php?mod=viewthread&tid=5166783',\n",
       "  'forum.php?mod=viewthread&tid=773605',\n",
       "  'forum.php?mod=viewthread&tid=5177025',\n",
       "  'forum.php?mod=viewthread&tid=5176870',\n",
       "  'forum.php?mod=viewthread&tid=803850',\n",
       "  'forum.php?mod=viewthread&tid=1242793',\n",
       "  'forum.php?mod=viewthread&tid=1190090',\n",
       "  'forum.php?mod=viewthread&tid=1161301',\n",
       "  'forum.php?mod=viewthread&tid=5175798',\n",
       "  'forum.php?mod=viewthread&tid=1087706',\n",
       "  'forum.php?mod=viewthread&tid=740483',\n",
       "  'forum.php?mod=viewthread&tid=755667',\n",
       "  'forum.php?mod=viewthread&tid=1029495',\n",
       "  'forum.php?mod=viewthread&tid=1034686',\n",
       "  'forum.php?mod=viewthread&tid=1256246',\n",
       "  'forum.php?mod=viewthread&tid=5156681',\n",
       "  'forum.php?mod=viewthread&tid=1212010',\n",
       "  'forum.php?mod=viewthread&tid=1257202',\n",
       "  'forum.php?mod=viewthread&tid=1219899',\n",
       "  'forum.php?mod=viewthread&tid=5176367',\n",
       "  'forum.php?mod=viewthread&tid=5048090',\n",
       "  'forum.php?mod=viewthread&tid=1161526',\n",
       "  'forum.php?mod=viewthread&tid=5056105',\n",
       "  'forum.php?mod=viewthread&tid=5176824',\n",
       "  'forum.php?mod=viewthread&tid=1259853',\n",
       "  'forum.php?mod=viewthread&tid=1211156',\n",
       "  'forum.php?mod=viewthread&tid=891951',\n",
       "  'forum.php?mod=viewthread&tid=5156682',\n",
       "  'forum.php?mod=viewthread&tid=5158397',\n",
       "  'forum.php?mod=viewthread&tid=5156124',\n",
       "  'forum.php?mod=viewthread&tid=5134528',\n",
       "  'forum.php?mod=viewthread&tid=5162917',\n",
       "  'forum.php?mod=viewthread&tid=219155',\n",
       "  'forum.php?mod=viewthread&tid=5169828',\n",
       "  'forum.php?mod=viewthread&tid=5158153',\n",
       "  'forum.php?mod=viewthread&tid=5073144',\n",
       "  'forum.php?mod=viewthread&tid=5176829',\n",
       "  'forum.php?mod=viewthread&tid=5162895',\n",
       "  'forum.php?mod=viewthread&tid=5113893',\n",
       "  'forum.php?mod=viewthread&tid=1213393',\n",
       "  'forum.php?mod=viewthread&tid=1267544',\n",
       "  'forum.php?mod=viewthread&tid=913813',\n",
       "  'forum.php?mod=viewthread&tid=1180421',\n",
       "  'forum.php?mod=viewthread&tid=5057998',\n",
       "  'forum.php?mod=viewthread&tid=1199733',\n",
       "  'forum.php?mod=viewthread&tid=5176368',\n",
       "  'forum.php?mod=viewthread&tid=1261519',\n",
       "  'forum.php?mod=viewthread&tid=5158398',\n",
       "  'forum.php?mod=viewthread&tid=1259852',\n",
       "  'forum.php?mod=viewthread&tid=5176649',\n",
       "  'forum.php?mod=viewthread&tid=1211493',\n",
       "  'forum.php?mod=viewthread&tid=1267542',\n",
       "  'forum.php?mod=viewthread&tid=5177026',\n",
       "  'forum.php?mod=viewthread&tid=717485',\n",
       "  'forum.php?mod=viewthread&tid=1155553',\n",
       "  'forum.php?mod=viewthread&tid=1242857',\n",
       "  'forum.php?mod=viewthread&tid=1206496',\n",
       "  'forum.php?mod=viewthread&tid=5163923',\n",
       "  'forum.php?mod=viewthread&tid=1008103'],\n",
       " 251)"
      ]
     },
     "execution_count": 22,
     "metadata": {},
     "output_type": "execute_result"
    }
   ],
   "source": [
    "forum = 'forum.php?mod=forumdisplay&fid=74'\n",
    "filtered, max_page = get_href('https://b.cari.com.my/' + forum, forum)\n",
    "filtered, max_page"
   ]
  },
  {
   "cell_type": "code",
   "execution_count": 24,
   "metadata": {},
   "outputs": [],
   "source": [
    "!rm -rf forums\n",
    "!mkdir forums"
   ]
  },
  {
   "cell_type": "code",
   "execution_count": 1,
   "metadata": {},
   "outputs": [
    {
     "ename": "NameError",
     "evalue": "name 'forums' is not defined",
     "output_type": "error",
     "traceback": [
      "\u001b[0;31m---------------------------------------------------------------------------\u001b[0m",
      "\u001b[0;31mNameError\u001b[0m                                 Traceback (most recent call last)",
      "\u001b[0;32m/tmp/ipykernel_4142722/3922853288.py\u001b[0m in \u001b[0;36m<module>\u001b[0;34m\u001b[0m\n\u001b[1;32m      1\u001b[0m \u001b[0mmax_worker\u001b[0m \u001b[0;34m=\u001b[0m \u001b[0;36m1\u001b[0m\u001b[0;34m\u001b[0m\u001b[0;34m\u001b[0m\u001b[0m\n\u001b[1;32m      2\u001b[0m \u001b[0;34m\u001b[0m\u001b[0m\n\u001b[0;32m----> 3\u001b[0;31m \u001b[0mforums\u001b[0m \u001b[0;34m=\u001b[0m \u001b[0msorted\u001b[0m\u001b[0;34m(\u001b[0m\u001b[0mforums\u001b[0m\u001b[0;34m)\u001b[0m\u001b[0;34m\u001b[0m\u001b[0;34m\u001b[0m\u001b[0m\n\u001b[0m\u001b[1;32m      4\u001b[0m \u001b[0;32mfor\u001b[0m \u001b[0mi\u001b[0m \u001b[0;32min\u001b[0m \u001b[0mtqdm\u001b[0m\u001b[0;34m(\u001b[0m\u001b[0mrange\u001b[0m\u001b[0;34m(\u001b[0m\u001b[0mlen\u001b[0m\u001b[0;34m(\u001b[0m\u001b[0mforums\u001b[0m\u001b[0;34m)\u001b[0m\u001b[0;34m)\u001b[0m\u001b[0;34m)\u001b[0m\u001b[0;34m:\u001b[0m\u001b[0;34m\u001b[0m\u001b[0;34m\u001b[0m\u001b[0m\n\u001b[1;32m      5\u001b[0m     \u001b[0mfilename\u001b[0m \u001b[0;34m=\u001b[0m \u001b[0mos\u001b[0m\u001b[0;34m.\u001b[0m\u001b[0mpath\u001b[0m\u001b[0;34m.\u001b[0m\u001b[0mjoin\u001b[0m\u001b[0;34m(\u001b[0m\u001b[0;34m'forums'\u001b[0m\u001b[0;34m,\u001b[0m \u001b[0;34mf'{i}.json'\u001b[0m\u001b[0;34m)\u001b[0m\u001b[0;34m\u001b[0m\u001b[0;34m\u001b[0m\u001b[0m\n",
      "\u001b[0;31mNameError\u001b[0m: name 'forums' is not defined"
     ]
    }
   ],
   "source": [
    "max_worker = 1\n",
    "\n",
    "forums = sorted(forums)\n",
    "for i in tqdm(range(len(forums))):\n",
    "    filename = os.path.join('forums', f'{i}.json')\n",
    "    if os.path.exists(filename) and os.path.getsize(filename) > 1000:\n",
    "        continue\n",
    "        \n",
    "    forum = forums[i]\n",
    "    url = 'https://b.cari.com.my/' + forum\n",
    "    filtered, max_page = get_href(url, forum)\n",
    "    for i in tqdm(range(2, max_page + 1, max_worker)):\n",
    "        aranged = np.arange(i, i + max_worker)\n",
    "        urls = [(f'{url}&page={a}', forum) for a in aranged]\n",
    "        \n",
    "        with ThreadPoolExecutor(max_workers=max_worker) as executor:\n",
    "            futures = {executor.submit(get_href, url[0], url[1]): url for url in urls}\n",
    "\n",
    "            for future in as_completed(futures):\n",
    "                filtered.extend(future.result()[0])\n",
    "                \n",
    "    with open(filename, 'w') as fopen:\n",
    "        json.dump(filtered, fopen)"
   ]
  },
  {
   "cell_type": "code",
   "execution_count": null,
   "metadata": {},
   "outputs": [],
   "source": []
  }
 ],
 "metadata": {
  "kernelspec": {
   "display_name": "Python 3 (ipykernel)",
   "language": "python",
   "name": "python3"
  },
  "language_info": {
   "codemirror_mode": {
    "name": "ipython",
    "version": 3
   },
   "file_extension": ".py",
   "mimetype": "text/x-python",
   "name": "python",
   "nbconvert_exporter": "python",
   "pygments_lexer": "ipython3",
   "version": "3.8.10"
  }
 },
 "nbformat": 4,
 "nbformat_minor": 4
}
