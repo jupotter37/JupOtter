{
 "cells": [
  {
   "cell_type": "code",
   "execution_count": 2,
   "metadata": {
    "collapsed": false,
    "history": [
     {
      "code": "from .foo import RAWR\n\n__all__ = [RAWR]",
      "response": {
       "content": {
        "ename": "SystemError",
        "evalue": "Parent module '' not loaded, cannot perform relative import",
        "traceback": [
         "\u001b[0;31m---------------------------------------------------------------------------\u001b[0m",
         "\u001b[0;31mSystemError\u001b[0m                               Traceback (most recent call last)",
         "\u001b[0;32m<ipython-input-1-7adf16446d09>\u001b[0m in \u001b[0;36m<module>\u001b[0;34m()\u001b[0m\n\u001b[0;32m----> 1\u001b[0;31m \u001b[0;32mfrom\u001b[0m \u001b[0;34m.\u001b[0m\u001b[0mfoo\u001b[0m \u001b[0;32mimport\u001b[0m \u001b[0mRAWR\u001b[0m\u001b[0;34m\u001b[0m\u001b[0m\n\u001b[0m\u001b[1;32m      2\u001b[0m \u001b[0;34m\u001b[0m\u001b[0m\n\u001b[1;32m      3\u001b[0m \u001b[0m__all__\u001b[0m \u001b[0;34m=\u001b[0m \u001b[0;34m[\u001b[0m\u001b[0mRAWR\u001b[0m\u001b[0;34m]\u001b[0m\u001b[0;34m\u001b[0m\u001b[0m\n",
         "\u001b[0;31mSystemError\u001b[0m: Parent module '' not loaded, cannot perform relative import"
        ]
       },
       "metadata": {},
       "msg_type": "error",
       "version": "5.0"
      },
      "timestamp": "2016-11-13T17:01:10.441036"
     },
     {
      "code": "from .foo import RAWR\n\n__all__ = [RAWR]",
      "response": {
       "content": {
        "ename": "SystemError",
        "evalue": "Parent module '' not loaded, cannot perform relative import",
        "traceback": [
         "\u001b[0;31m---------------------------------------------------------------------------\u001b[0m",
         "\u001b[0;31mSystemError\u001b[0m                               Traceback (most recent call last)",
         "\u001b[0;32m<ipython-input-1-7adf16446d09>\u001b[0m in \u001b[0;36m<module>\u001b[0;34m()\u001b[0m\n\u001b[0;32m----> 1\u001b[0;31m \u001b[0;32mfrom\u001b[0m \u001b[0;34m.\u001b[0m\u001b[0mfoo\u001b[0m \u001b[0;32mimport\u001b[0m \u001b[0mRAWR\u001b[0m\u001b[0;34m\u001b[0m\u001b[0m\n\u001b[0m\u001b[1;32m      2\u001b[0m \u001b[0;34m\u001b[0m\u001b[0m\n\u001b[1;32m      3\u001b[0m \u001b[0m__all__\u001b[0m \u001b[0;34m=\u001b[0m \u001b[0;34m[\u001b[0m\u001b[0mRAWR\u001b[0m\u001b[0;34m]\u001b[0m\u001b[0;34m\u001b[0m\u001b[0m\n",
         "\u001b[0;31mSystemError\u001b[0m: Parent module '' not loaded, cannot perform relative import"
        ]
       },
       "metadata": {},
       "msg_type": "error",
       "version": "5.0"
      },
      "timestamp": "2016-11-13T17:07:52.236213"
     },
     {
      "code": "if __package__ is None:\nfrom .foo import RAWR\n\n__all__ = [RAWR]",
      "response": {
       "content": {
        "ename": "IndentationError",
        "evalue": "expected an indented block (<ipython-input-2-64dc6114ee1a>, line 2)",
        "traceback": [
         "\u001b[0;36m  File \u001b[0;32m\"<ipython-input-2-64dc6114ee1a>\"\u001b[0;36m, line \u001b[0;32m2\u001b[0m\n\u001b[0;31m    from .foo import RAWR\u001b[0m\n\u001b[0m       ^\u001b[0m\n\u001b[0;31mIndentationError\u001b[0m\u001b[0;31m:\u001b[0m expected an indented block\n"
        ]
       },
       "metadata": {},
       "msg_type": "error",
       "version": "5.0"
      },
      "timestamp": "2016-11-13T17:08:03.881435"
     }
    ]
   },
   "outputs": [
    {
     "ename": "IndentationError",
     "evalue": "expected an indented block (<ipython-input-2-64dc6114ee1a>, line 2)",
     "output_type": "error",
     "traceback": [
      "\u001b[0;36m  File \u001b[0;32m\"<ipython-input-2-64dc6114ee1a>\"\u001b[0;36m, line \u001b[0;32m2\u001b[0m\n\u001b[0;31m    from .foo import RAWR\u001b[0m\n\u001b[0m       ^\u001b[0m\n\u001b[0;31mIndentationError\u001b[0m\u001b[0;31m:\u001b[0m expected an indented block\n"
     ]
    }
   ],
   "source": [
    "if __package__ is None:\n",
    "    __package__ = ''\n",
    "from .foo import RAWR\n",
    "\n",
    "__all__ = [RAWR]"
   ]
  },
  {
   "cell_type": "code",
   "execution_count": null,
   "metadata": {
    "collapsed": true
   },
   "outputs": [],
   "source": []
  }
 ],
 "metadata": {
  "kernelspec": {
   "display_name": "Python 3",
   "language": "python",
   "name": "python3"
  },
  "language_info": {
   "codemirror_mode": {
    "name": "ipython",
    "version": 3
   },
   "file_extension": ".py",
   "mimetype": "text/x-python",
   "name": "python",
   "nbconvert_exporter": "python",
   "pygments_lexer": "ipython3",
   "version": "3.5.2+"
  }
 },
 "nbformat": 4,
 "nbformat_minor": 1
}
