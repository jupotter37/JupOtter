{
 "cells": [
  {
   "cell_type": "code",
   "execution_count": 1,
   "metadata": {},
   "outputs": [],
   "source": [
    "%matplotlib inline\n",
    "import numpy as np\n",
    "import matplotlib.pyplot as plt\n",
    "\n",
    "from numpy import genfromtxt\n",
    "\n",
    "\n",
    "import pandas as pd\n",
    "\n",
    "from mpl_toolkits import mplot3d\n",
    "#%matplotlib notebook\n",
    "\n",
    "import math\n",
    "import sys\n",
    "\n",
    "#classes\n",
    "sys.path.append(\".\")\n",
    "import Track as trk\n",
    "\n",
    "sys.path.append(\"../modules\")\n",
    "import TiffProcessing as tp"
   ]
  },
  {
   "cell_type": "code",
   "execution_count": 2,
   "metadata": {
    "collapsed": true
   },
   "outputs": [],
   "source": [
    "import matplotlib.pyplot as plt\n",
    "import numpy as np\n",
    "from matplotlib.colors import LinearSegmentedColormap\n",
    "\n",
    "\n",
    "\n",
    "cmap_green = LinearSegmentedColormap.from_list('mycmap', [(0.0, 'darkgreen'),\n",
    "                                                          (0.5, 'lime'),\n",
    "                                                    (1.0, 'aquamarine')]\n",
    "                                        )\n",
    "\n",
    "cmap_magenta = LinearSegmentedColormap.from_list('mycmap', [(0.0, 'purple'),\n",
    "                                                          (0.5, 'magenta'),\n",
    "                                                    (1.0, 'pink')]\n",
    "                                        )\n",
    "\n",
    "\n",
    "cmap_red = LinearSegmentedColormap.from_list('mycmap', [(0.0, 'maroon'),\n",
    "                                                          (0.5, 'red'),\n",
    "                                                    (1.0, 'orange')]\n",
    "                                        )\n",
    "\n"
   ]
  },
  {
   "cell_type": "markdown",
   "metadata": {},
   "source": [
    "# read in the data"
   ]
  },
  {
   "cell_type": "code",
   "execution_count": 3,
   "metadata": {},
   "outputs": [
    {
     "data": {
      "text/html": [
       "<style  type=\"text/css\" >\n",
       "    #T_e6ce1d88_2acc_11e8_9a63_784f438ca174row0_col0 {\n",
       "            text-align:  left;\n",
       "        }    #T_e6ce1d88_2acc_11e8_9a63_784f438ca174row0_col1 {\n",
       "            text-align:  left;\n",
       "        }    #T_e6ce1d88_2acc_11e8_9a63_784f438ca174row1_col0 {\n",
       "            text-align:  left;\n",
       "        }    #T_e6ce1d88_2acc_11e8_9a63_784f438ca174row1_col1 {\n",
       "            text-align:  left;\n",
       "        }    #T_e6ce1d88_2acc_11e8_9a63_784f438ca174row2_col0 {\n",
       "            text-align:  left;\n",
       "        }    #T_e6ce1d88_2acc_11e8_9a63_784f438ca174row2_col1 {\n",
       "            text-align:  left;\n",
       "        }    #T_e6ce1d88_2acc_11e8_9a63_784f438ca174row3_col0 {\n",
       "            text-align:  left;\n",
       "        }    #T_e6ce1d88_2acc_11e8_9a63_784f438ca174row3_col1 {\n",
       "            text-align:  left;\n",
       "        }    #T_e6ce1d88_2acc_11e8_9a63_784f438ca174row4_col0 {\n",
       "            text-align:  left;\n",
       "        }    #T_e6ce1d88_2acc_11e8_9a63_784f438ca174row4_col1 {\n",
       "            text-align:  left;\n",
       "        }    #T_e6ce1d88_2acc_11e8_9a63_784f438ca174row5_col0 {\n",
       "            text-align:  left;\n",
       "        }    #T_e6ce1d88_2acc_11e8_9a63_784f438ca174row5_col1 {\n",
       "            text-align:  left;\n",
       "        }    #T_e6ce1d88_2acc_11e8_9a63_784f438ca174row6_col0 {\n",
       "            text-align:  left;\n",
       "        }    #T_e6ce1d88_2acc_11e8_9a63_784f438ca174row6_col1 {\n",
       "            text-align:  left;\n",
       "        }    #T_e6ce1d88_2acc_11e8_9a63_784f438ca174row7_col0 {\n",
       "            text-align:  left;\n",
       "        }    #T_e6ce1d88_2acc_11e8_9a63_784f438ca174row7_col1 {\n",
       "            text-align:  left;\n",
       "        }    #T_e6ce1d88_2acc_11e8_9a63_784f438ca174row8_col0 {\n",
       "            text-align:  left;\n",
       "        }    #T_e6ce1d88_2acc_11e8_9a63_784f438ca174row8_col1 {\n",
       "            text-align:  left;\n",
       "        }    #T_e6ce1d88_2acc_11e8_9a63_784f438ca174row9_col0 {\n",
       "            text-align:  left;\n",
       "        }    #T_e6ce1d88_2acc_11e8_9a63_784f438ca174row9_col1 {\n",
       "            text-align:  left;\n",
       "        }    #T_e6ce1d88_2acc_11e8_9a63_784f438ca174row10_col0 {\n",
       "            text-align:  left;\n",
       "        }    #T_e6ce1d88_2acc_11e8_9a63_784f438ca174row10_col1 {\n",
       "            text-align:  left;\n",
       "        }    #T_e6ce1d88_2acc_11e8_9a63_784f438ca174row11_col0 {\n",
       "            text-align:  left;\n",
       "        }    #T_e6ce1d88_2acc_11e8_9a63_784f438ca174row11_col1 {\n",
       "            text-align:  left;\n",
       "        }    #T_e6ce1d88_2acc_11e8_9a63_784f438ca174row12_col0 {\n",
       "            text-align:  left;\n",
       "        }    #T_e6ce1d88_2acc_11e8_9a63_784f438ca174row12_col1 {\n",
       "            text-align:  left;\n",
       "        }    #T_e6ce1d88_2acc_11e8_9a63_784f438ca174row13_col0 {\n",
       "            text-align:  left;\n",
       "        }    #T_e6ce1d88_2acc_11e8_9a63_784f438ca174row13_col1 {\n",
       "            text-align:  left;\n",
       "        }    #T_e6ce1d88_2acc_11e8_9a63_784f438ca174row14_col0 {\n",
       "            text-align:  left;\n",
       "        }    #T_e6ce1d88_2acc_11e8_9a63_784f438ca174row14_col1 {\n",
       "            text-align:  left;\n",
       "        }    #T_e6ce1d88_2acc_11e8_9a63_784f438ca174row15_col0 {\n",
       "            text-align:  left;\n",
       "        }    #T_e6ce1d88_2acc_11e8_9a63_784f438ca174row15_col1 {\n",
       "            text-align:  left;\n",
       "        }    #T_e6ce1d88_2acc_11e8_9a63_784f438ca174row16_col0 {\n",
       "            text-align:  left;\n",
       "        }    #T_e6ce1d88_2acc_11e8_9a63_784f438ca174row16_col1 {\n",
       "            text-align:  left;\n",
       "        }    #T_e6ce1d88_2acc_11e8_9a63_784f438ca174row17_col0 {\n",
       "            text-align:  left;\n",
       "        }    #T_e6ce1d88_2acc_11e8_9a63_784f438ca174row17_col1 {\n",
       "            text-align:  left;\n",
       "        }    #T_e6ce1d88_2acc_11e8_9a63_784f438ca174row18_col0 {\n",
       "            text-align:  left;\n",
       "        }    #T_e6ce1d88_2acc_11e8_9a63_784f438ca174row18_col1 {\n",
       "            text-align:  left;\n",
       "        }</style>  \n",
       "<table id=\"T_e6ce1d88_2acc_11e8_9a63_784f438ca174\" > \n",
       "<thead>    <tr> \n",
       "        <th class=\"blank level0\" ></th> \n",
       "        <th class=\"col_heading level0 col0\" >key</th> \n",
       "        <th class=\"col_heading level0 col1\" >value</th> \n",
       "    </tr></thead> \n",
       "<tbody>    <tr> \n",
       "        <th id=\"T_e6ce1d88_2acc_11e8_9a63_784f438ca174level0_row0\" class=\"row_heading level0 row0\" >0</th> \n",
       "        <td id=\"T_e6ce1d88_2acc_11e8_9a63_784f438ca174row0_col0\" class=\"data row0 col0\" >inputDataFolder</td> \n",
       "        <td id=\"T_e6ce1d88_2acc_11e8_9a63_784f438ca174row0_col1\" class=\"data row0 col1\" > /Users/johannesschoeneberg/Desktop/PostDoc/drubin_lab/organoids_lattice_data/data_/2016_04_25Daphne/Sample3_CD_10ulMG/Position5_Basal_apical_ObjScan/matlab_decon</td> \n",
       "    </tr>    <tr> \n",
       "        <th id=\"T_e6ce1d88_2acc_11e8_9a63_784f438ca174level0_row1\" class=\"row_heading level0 row1\" >1</th> \n",
       "        <td id=\"T_e6ce1d88_2acc_11e8_9a63_784f438ca174row1_col0\" class=\"data row1 col0\" >outputDataFolder</td> \n",
       "        <td id=\"T_e6ce1d88_2acc_11e8_9a63_784f438ca174row1_col1\" class=\"data row1 col1\" > /Users/johannesschoeneberg/Desktop/PostDoc/drubin_lab/organoids_lattice_data/data_/2016_04_25Daphne/Sample3_CD_10ulMG/Position5_Basal_apical_ObjScan/matlab_decon/output</td> \n",
       "    </tr>    <tr> \n",
       "        <th id=\"T_e6ce1d88_2acc_11e8_9a63_784f438ca174level0_row2\" class=\"row_heading level0 row2\" >2</th> \n",
       "        <td id=\"T_e6ce1d88_2acc_11e8_9a63_784f438ca174row2_col0\" class=\"data row2 col0\" >movieLength</td> \n",
       "        <td id=\"T_e6ce1d88_2acc_11e8_9a63_784f438ca174row2_col1\" class=\"data row2 col1\" > 70</td> \n",
       "    </tr>    <tr> \n",
       "        <th id=\"T_e6ce1d88_2acc_11e8_9a63_784f438ca174level0_row3\" class=\"row_heading level0 row3\" >3</th> \n",
       "        <td id=\"T_e6ce1d88_2acc_11e8_9a63_784f438ca174row3_col0\" class=\"data row3 col0\" >allowedMaxNumDetectionsPerFrame</td> \n",
       "        <td id=\"T_e6ce1d88_2acc_11e8_9a63_784f438ca174row3_col1\" class=\"data row3 col1\" > 3000</td> \n",
       "    </tr>    <tr> \n",
       "        <th id=\"T_e6ce1d88_2acc_11e8_9a63_784f438ca174level0_row4\" class=\"row_heading level0 row4\" >4</th> \n",
       "        <td id=\"T_e6ce1d88_2acc_11e8_9a63_784f438ca174row4_col0\" class=\"data row4 col0\" >framerate_msec</td> \n",
       "        <td id=\"T_e6ce1d88_2acc_11e8_9a63_784f438ca174row4_col1\" class=\"data row4 col1\" > 5689</td> \n",
       "    </tr>    <tr> \n",
       "        <th id=\"T_e6ce1d88_2acc_11e8_9a63_784f438ca174level0_row5\" class=\"row_heading level0 row5\" >5</th> \n",
       "        <td id=\"T_e6ce1d88_2acc_11e8_9a63_784f438ca174row5_col0\" class=\"data row5 col0\" >ch0_outputDataFolder</td> \n",
       "        <td id=\"T_e6ce1d88_2acc_11e8_9a63_784f438ca174row5_col1\" class=\"data row5 col1\" > output_488</td> \n",
       "    </tr>    <tr> \n",
       "        <th id=\"T_e6ce1d88_2acc_11e8_9a63_784f438ca174level0_row6\" class=\"row_heading level0 row6\" >6</th> \n",
       "        <td id=\"T_e6ce1d88_2acc_11e8_9a63_784f438ca174row6_col0\" class=\"data row6 col0\" >ch0_uniqueFilenameString</td> \n",
       "        <td id=\"T_e6ce1d88_2acc_11e8_9a63_784f438ca174row6_col1\" class=\"data row6 col1\" > 488nm_0</td> \n",
       "    </tr>    <tr> \n",
       "        <th id=\"T_e6ce1d88_2acc_11e8_9a63_784f438ca174level0_row7\" class=\"row_heading level0 row7\" >7</th> \n",
       "        <td id=\"T_e6ce1d88_2acc_11e8_9a63_784f438ca174row7_col0\" class=\"data row7 col0\" >ch0_detectionFilename</td> \n",
       "        <td id=\"T_e6ce1d88_2acc_11e8_9a63_784f438ca174row7_col1\" class=\"data row7 col1\" > Detection3D.mat</td> \n",
       "    </tr>    <tr> \n",
       "        <th id=\"T_e6ce1d88_2acc_11e8_9a63_784f438ca174level0_row8\" class=\"row_heading level0 row8\" >8</th> \n",
       "        <td id=\"T_e6ce1d88_2acc_11e8_9a63_784f438ca174row8_col0\" class=\"data row8 col0\" >ch0_trackingFilename</td> \n",
       "        <td id=\"T_e6ce1d88_2acc_11e8_9a63_784f438ca174row8_col1\" class=\"data row8 col1\" > trackedFeatures.mat</td> \n",
       "    </tr>    <tr> \n",
       "        <th id=\"T_e6ce1d88_2acc_11e8_9a63_784f438ca174level0_row9\" class=\"row_heading level0 row9\" >9</th> \n",
       "        <td id=\"T_e6ce1d88_2acc_11e8_9a63_784f438ca174row9_col0\" class=\"data row9 col0\" >ch0_trackingCsvFilename</td> \n",
       "        <td id=\"T_e6ce1d88_2acc_11e8_9a63_784f438ca174row9_col1\" class=\"data row9 col1\" > trackedFeatures.csv</td> \n",
       "    </tr>    <tr> \n",
       "        <th id=\"T_e6ce1d88_2acc_11e8_9a63_784f438ca174level0_row10\" class=\"row_heading level0 row10\" >10</th> \n",
       "        <td id=\"T_e6ce1d88_2acc_11e8_9a63_784f438ca174row10_col0\" class=\"data row10 col0\" >ch0_trackColor</td> \n",
       "        <td id=\"T_e6ce1d88_2acc_11e8_9a63_784f438ca174row10_col1\" class=\"data row10 col1\" > green</td> \n",
       "    </tr>    <tr> \n",
       "        <th id=\"T_e6ce1d88_2acc_11e8_9a63_784f438ca174level0_row11\" class=\"row_heading level0 row11\" >11</th> \n",
       "        <td id=\"T_e6ce1d88_2acc_11e8_9a63_784f438ca174row11_col0\" class=\"data row11 col0\" >ch0_trackingBildFilename</td> \n",
       "        <td id=\"T_e6ce1d88_2acc_11e8_9a63_784f438ca174row11_col1\" class=\"data row11 col1\" > tracks.bild</td> \n",
       "    </tr>    <tr> \n",
       "        <th id=\"T_e6ce1d88_2acc_11e8_9a63_784f438ca174level0_row12\" class=\"row_heading level0 row12\" >12</th> \n",
       "        <td id=\"T_e6ce1d88_2acc_11e8_9a63_784f438ca174row12_col0\" class=\"data row12 col0\" >ch1_outputDataFolder</td> \n",
       "        <td id=\"T_e6ce1d88_2acc_11e8_9a63_784f438ca174row12_col1\" class=\"data row12 col1\" > output_560</td> \n",
       "    </tr>    <tr> \n",
       "        <th id=\"T_e6ce1d88_2acc_11e8_9a63_784f438ca174level0_row13\" class=\"row_heading level0 row13\" >13</th> \n",
       "        <td id=\"T_e6ce1d88_2acc_11e8_9a63_784f438ca174row13_col0\" class=\"data row13 col0\" >ch1_uniqueFilenameString</td> \n",
       "        <td id=\"T_e6ce1d88_2acc_11e8_9a63_784f438ca174row13_col1\" class=\"data row13 col1\" > 560nm_0</td> \n",
       "    </tr>    <tr> \n",
       "        <th id=\"T_e6ce1d88_2acc_11e8_9a63_784f438ca174level0_row14\" class=\"row_heading level0 row14\" >14</th> \n",
       "        <td id=\"T_e6ce1d88_2acc_11e8_9a63_784f438ca174row14_col0\" class=\"data row14 col0\" >ch1_detectionFilename</td> \n",
       "        <td id=\"T_e6ce1d88_2acc_11e8_9a63_784f438ca174row14_col1\" class=\"data row14 col1\" > Detection3D.mat</td> \n",
       "    </tr>    <tr> \n",
       "        <th id=\"T_e6ce1d88_2acc_11e8_9a63_784f438ca174level0_row15\" class=\"row_heading level0 row15\" >15</th> \n",
       "        <td id=\"T_e6ce1d88_2acc_11e8_9a63_784f438ca174row15_col0\" class=\"data row15 col0\" >ch1_trackingFilename</td> \n",
       "        <td id=\"T_e6ce1d88_2acc_11e8_9a63_784f438ca174row15_col1\" class=\"data row15 col1\" > trackedFeatures.mat</td> \n",
       "    </tr>    <tr> \n",
       "        <th id=\"T_e6ce1d88_2acc_11e8_9a63_784f438ca174level0_row16\" class=\"row_heading level0 row16\" >16</th> \n",
       "        <td id=\"T_e6ce1d88_2acc_11e8_9a63_784f438ca174row16_col0\" class=\"data row16 col0\" >ch1_trackingCsvFilename</td> \n",
       "        <td id=\"T_e6ce1d88_2acc_11e8_9a63_784f438ca174row16_col1\" class=\"data row16 col1\" > trackedFeatures.csv</td> \n",
       "    </tr>    <tr> \n",
       "        <th id=\"T_e6ce1d88_2acc_11e8_9a63_784f438ca174level0_row17\" class=\"row_heading level0 row17\" >17</th> \n",
       "        <td id=\"T_e6ce1d88_2acc_11e8_9a63_784f438ca174row17_col0\" class=\"data row17 col0\" >ch1_trackColor</td> \n",
       "        <td id=\"T_e6ce1d88_2acc_11e8_9a63_784f438ca174row17_col1\" class=\"data row17 col1\" > purple</td> \n",
       "    </tr>    <tr> \n",
       "        <th id=\"T_e6ce1d88_2acc_11e8_9a63_784f438ca174level0_row18\" class=\"row_heading level0 row18\" >18</th> \n",
       "        <td id=\"T_e6ce1d88_2acc_11e8_9a63_784f438ca174row18_col0\" class=\"data row18 col0\" >ch1_trackingBildFilename</td> \n",
       "        <td id=\"T_e6ce1d88_2acc_11e8_9a63_784f438ca174row18_col1\" class=\"data row18 col1\" > tracks.bild</td> \n",
       "    </tr></tbody> \n",
       "</table> "
      ],
      "text/plain": [
       "<pandas.io.formats.style.Styler at 0x10a8e4b38>"
      ]
     },
     "execution_count": 3,
     "metadata": {},
     "output_type": "execute_result"
    }
   ],
   "source": [
    "inputParameters = pd.read_csv('../../_inputParameters.csv',names=['key','value'])\n",
    "inputParameters.style.set_properties(**{'text-align': 'left'})\n",
    "#inputParameters"
   ]
  },
  {
   "cell_type": "code",
   "execution_count": 4,
   "metadata": {
    "collapsed": true
   },
   "outputs": [],
   "source": [
    "def getInputParameter(inputParametersPandas,key):\n",
    "    #this locates the row, gets the result out of its array form and strips whitespaces away\n",
    "    return (((inputParametersPandas.loc[inputParametersPandas['key'] == key]).values)[0,1]).strip()"
   ]
  },
  {
   "cell_type": "code",
   "execution_count": 5,
   "metadata": {
    "collapsed": true
   },
   "outputs": [],
   "source": [
    "outputDataFolder = getInputParameter(inputParameters,\"outputDataFolder\")\n",
    "ch0_outputDataFolder  = getInputParameter(inputParameters,\"ch0_outputDataFolder\")\n",
    "ch0_trackingCsvFilename = getInputParameter(inputParameters,\"ch0_trackingCsvFilename\")\n",
    "ch1_outputDataFolder  = getInputParameter(inputParameters,\"ch1_outputDataFolder\")\n",
    "ch1_trackingCsvFilename = getInputParameter(inputParameters,\"ch1_trackingCsvFilename\")\n",
    "#trackColor = getInputParameter(inputParameters,\"trackColor\")\n",
    "#trackingBildFilename = getInputParameter(inputParameters,\"trackingBildFilename\")\n",
    "#framerate_msec = float(getInputParameter(inputParameters,\"framerate_msec\"))\n",
    "#movieLength = float(getInputParameter(inputParameters,\"movieLength\"))\n",
    "#print(trackColor)\n",
    "\n"
   ]
  },
  {
   "cell_type": "code",
   "execution_count": 6,
   "metadata": {},
   "outputs": [
    {
     "data": {
      "text/html": [
       "<div>\n",
       "<style scoped>\n",
       "    .dataframe tbody tr th:only-of-type {\n",
       "        vertical-align: middle;\n",
       "    }\n",
       "\n",
       "    .dataframe tbody tr th {\n",
       "        vertical-align: top;\n",
       "    }\n",
       "\n",
       "    .dataframe thead th {\n",
       "        text-align: right;\n",
       "    }\n",
       "</style>\n",
       "<table border=\"1\" class=\"dataframe\">\n",
       "  <thead>\n",
       "    <tr style=\"text-align: right;\">\n",
       "      <th></th>\n",
       "      <th>trackId</th>\n",
       "      <th>tracklength</th>\n",
       "      <th>frameId</th>\n",
       "      <th>particleId</th>\n",
       "      <th>x</th>\n",
       "      <th>y</th>\n",
       "      <th>z</th>\n",
       "      <th>A</th>\n",
       "      <th>noIdea1</th>\n",
       "      <th>noIdea2</th>\n",
       "      <th>noIdea3</th>\n",
       "      <th>noIdea4</th>\n",
       "    </tr>\n",
       "  </thead>\n",
       "  <tbody>\n",
       "    <tr>\n",
       "      <th>0</th>\n",
       "      <td>1</td>\n",
       "      <td>70</td>\n",
       "      <td>1</td>\n",
       "      <td>123</td>\n",
       "      <td>2.401194e+02</td>\n",
       "      <td>3.449448e+02</td>\n",
       "      <td>4.499062e+01</td>\n",
       "      <td>1.935832e+04</td>\n",
       "      <td>7.636581e-02</td>\n",
       "      <td>7.634770e-02</td>\n",
       "      <td>7.634294e-02</td>\n",
       "      <td>8.918059e+02</td>\n",
       "    </tr>\n",
       "    <tr>\n",
       "      <th>1</th>\n",
       "      <td>1</td>\n",
       "      <td>70</td>\n",
       "      <td>2</td>\n",
       "      <td>0</td>\n",
       "      <td>2.398080e+02</td>\n",
       "      <td>3.455938e+02</td>\n",
       "      <td>4.452885e+01</td>\n",
       "      <td>2.285881e+04</td>\n",
       "      <td>5.624323e-02</td>\n",
       "      <td>5.640477e-02</td>\n",
       "      <td>5.648089e-02</td>\n",
       "      <td>7.705259e+02</td>\n",
       "    </tr>\n",
       "    <tr>\n",
       "      <th>2</th>\n",
       "      <td>1</td>\n",
       "      <td>70</td>\n",
       "      <td>3</td>\n",
       "      <td>121</td>\n",
       "      <td>2.396020e+02</td>\n",
       "      <td>3.457261e+02</td>\n",
       "      <td>4.401741e+01</td>\n",
       "      <td>2.191670e+04</td>\n",
       "      <td>6.825404e-02</td>\n",
       "      <td>6.812530e-02</td>\n",
       "      <td>6.801579e-02</td>\n",
       "      <td>8.966284e+02</td>\n",
       "    </tr>\n",
       "    <tr>\n",
       "      <th>3</th>\n",
       "      <td>1</td>\n",
       "      <td>70</td>\n",
       "      <td>4</td>\n",
       "      <td>90</td>\n",
       "      <td>2.400139e+02</td>\n",
       "      <td>3.457024e+02</td>\n",
       "      <td>4.475419e+01</td>\n",
       "      <td>2.231589e+04</td>\n",
       "      <td>5.023574e-02</td>\n",
       "      <td>5.033191e-02</td>\n",
       "      <td>5.030067e-02</td>\n",
       "      <td>6.751585e+02</td>\n",
       "    </tr>\n",
       "    <tr>\n",
       "      <th>4</th>\n",
       "      <td>1</td>\n",
       "      <td>70</td>\n",
       "      <td>5</td>\n",
       "      <td>85</td>\n",
       "      <td>2.397104e+02</td>\n",
       "      <td>3.454962e+02</td>\n",
       "      <td>4.467903e+01</td>\n",
       "      <td>2.411560e+04</td>\n",
       "      <td>5.471115e-02</td>\n",
       "      <td>5.492841e-02</td>\n",
       "      <td>5.473449e-02</td>\n",
       "      <td>7.897406e+02</td>\n",
       "    </tr>\n",
       "  </tbody>\n",
       "</table>\n",
       "</div>"
      ],
      "text/plain": [
       "   trackId  tracklength  frameId  particleId              x              y  \\\n",
       "0        1           70        1         123   2.401194e+02   3.449448e+02   \n",
       "1        1           70        2           0   2.398080e+02   3.455938e+02   \n",
       "2        1           70        3         121   2.396020e+02   3.457261e+02   \n",
       "3        1           70        4          90   2.400139e+02   3.457024e+02   \n",
       "4        1           70        5          85   2.397104e+02   3.454962e+02   \n",
       "\n",
       "               z              A        noIdea1        noIdea2        noIdea3  \\\n",
       "0   4.499062e+01   1.935832e+04   7.636581e-02   7.634770e-02   7.634294e-02   \n",
       "1   4.452885e+01   2.285881e+04   5.624323e-02   5.640477e-02   5.648089e-02   \n",
       "2   4.401741e+01   2.191670e+04   6.825404e-02   6.812530e-02   6.801579e-02   \n",
       "3   4.475419e+01   2.231589e+04   5.023574e-02   5.033191e-02   5.030067e-02   \n",
       "4   4.467903e+01   2.411560e+04   5.471115e-02   5.492841e-02   5.473449e-02   \n",
       "\n",
       "          noIdea4  \n",
       "0   8.918059e+02   \n",
       "1   7.705259e+02   \n",
       "2   8.966284e+02   \n",
       "3   6.751585e+02   \n",
       "4   7.897406e+02   "
      ]
     },
     "execution_count": 6,
     "metadata": {},
     "output_type": "execute_result"
    }
   ],
   "source": [
    "data0 = pd.read_csv(outputDataFolder+'/'+ch0_outputDataFolder+'/'+ch0_trackingCsvFilename,header=0)\n",
    "data0.columns = [\"trackId\", \"tracklength\", \"frameId\", \"particleId\", \"x\", \"y\", \"z\", \"A\", \"noIdea1\", \"noIdea2\", \"noIdea3\", \"noIdea4\"]\n",
    "trackIdsLong0 = (data0[data0['tracklength'] > 10]).drop_duplicates(subset='trackId')['trackId'].values\n",
    "trackIds0 = data0.drop_duplicates(subset='trackId')['trackId'].values\n",
    "#data0 = data0.drop_duplicates(subset='trackId')\n",
    "\n",
    "data1 = pd.read_csv(outputDataFolder+'/'+ch1_outputDataFolder+'/'+ch1_trackingCsvFilename,header=0)\n",
    "data1.columns = [\"trackId\", \"tracklength\", \"frameId\", \"particleId\", \"x\", \"y\", \"z\", \"A\", \"noIdea1\", \"noIdea2\", \"noIdea3\", \"noIdea4\"]\n",
    "trackIdsLong1 = (data1[data1['tracklength'] > 10]).drop_duplicates(subset='trackId')['trackId'].values\n",
    "trackIds1 = data1.drop_duplicates(subset='trackId')['trackId'].values\n",
    "data1[0:5]"
   ]
  },
  {
   "cell_type": "markdown",
   "metadata": {},
   "source": [
    "# read in tracks from channel 0"
   ]
  },
  {
   "cell_type": "code",
   "execution_count": 7,
   "metadata": {},
   "outputs": [
    {
     "data": {
      "text/plain": [
       "Track.Track"
      ]
     },
     "execution_count": 7,
     "metadata": {},
     "output_type": "execute_result"
    }
   ],
   "source": [
    "trk.Track"
   ]
  },
  {
   "cell_type": "code",
   "execution_count": 8,
   "metadata": {},
   "outputs": [
    {
     "name": "stdout",
     "output_type": "stream",
     "text": [
      "0/3985\n",
      "1000/3985\n",
      "2000/3985\n",
      "3000/3985\n",
      "time elapse: 15.34s\n"
     ]
    }
   ],
   "source": [
    "import timeit\n",
    "\n",
    "start_time = timeit.default_timer()\n",
    "\n",
    "tracks0 = []\n",
    "cm0 = []\n",
    "len0 = []\n",
    "Amean0 = []\n",
    "maxDist0 = []\n",
    "\n",
    "for i in range(0,len(trackIdsLong0)):\n",
    "    if(i %1000 == 0):\n",
    "        print(str(i)+\"/\"+str(len(trackIdsLong0)))\n",
    "    a = trk.Track(data0[data0['trackId'] == trackIdsLong0[i]])\n",
    "    tracks0.append(a)\n",
    "    cm0.append(a.cm)\n",
    "    len0.append(a.len)\n",
    "    Amean0.append(a.Amean)\n",
    "    maxDist0.append(a.maxDist)\n",
    "    \n",
    "elapsed = timeit.default_timer() - start_time\n",
    "print('time elapse: '+str(np.round(elapsed,decimals=2))+'s')"
   ]
  },
  {
   "cell_type": "code",
   "execution_count": 9,
   "metadata": {},
   "outputs": [
    {
     "data": {
      "text/plain": [
       "(-500, 500)"
      ]
     },
     "execution_count": 9,
     "metadata": {},
     "output_type": "execute_result"
    },
    {
     "data": {
      "image/png": "[encoded data removed]",
      "text/plain": [
       "<matplotlib.figure.Figure at 0x10e18ab00>"
      ]
     },
     "metadata": {},
     "output_type": "display_data"
    }
   ],
   "source": [
    "cm0 = np.array(cm0)\n",
    "#plt.figure(dpi=300)\n",
    "ax = plt.axes(projection='3d')\n",
    "ax.scatter3D(cm0[:,0], cm0[:,1], cm0[:,2],c=np.log(Amean0),cmap='plasma',s=1,alpha=0.3);\n",
    "plt.xlabel('x [px]')\n",
    "plt.ylabel('y [px]')\n",
    "#plt.xlim(-200,800)\n",
    "#plt.ylim(-200,800)\n",
    "ax.set_zlim(-500,500)"
   ]
  },
  {
   "cell_type": "markdown",
   "metadata": {},
   "source": [
    "# read in tracks from channel 1"
   ]
  },
  {
   "cell_type": "code",
   "execution_count": 10,
   "metadata": {},
   "outputs": [
    {
     "name": "stdout",
     "output_type": "stream",
     "text": [
      "0/2066\n",
      "1000/2066\n",
      "2000/2066\n",
      "time elapse: 5.99s\n"
     ]
    }
   ],
   "source": [
    "import timeit\n",
    "\n",
    "start_time = timeit.default_timer()\n",
    "\n",
    "\n",
    "tracks1 = []\n",
    "cm1 = []\n",
    "Amean1 = []\n",
    "Afirst = []\n",
    "maxDist1 = []\n",
    "len1= []\n",
    "for i in range(0,len(trackIdsLong1)):\n",
    "    if(i %1000 == 0):\n",
    "        print(str(i)+\"/\"+str(len(trackIdsLong1)))\n",
    "    a = trk.Track(data1[data1['trackId'] == trackIdsLong1[i]])\n",
    "    tracks1.append(a)\n",
    "    cm1.append(a.cm)\n",
    "    len1.append(a.len)\n",
    "    Amean1.append(a.Amean)\n",
    "    Afirst.append(a.A[0])\n",
    "    maxDist1.append(a.maxDist)\n",
    "    \n",
    "elapsed = timeit.default_timer() - start_time\n",
    "print('time elapse: '+str(np.round(elapsed,decimals=2))+'s')"
   ]
  },
  {
   "cell_type": "code",
   "execution_count": 11,
   "metadata": {},
   "outputs": [
    {
     "data": {
      "text/plain": [
       "(-500, 500)"
      ]
     },
     "execution_count": 11,
     "metadata": {},
     "output_type": "execute_result"
    },
    {
     "data": {
      "image/png": "[encoded data removed]",
      "text/plain": [
       "<matplotlib.figure.Figure at 0x10f2d9d68>"
      ]
     },
     "metadata": {},
     "output_type": "display_data"
    }
   ],
   "source": [
    "cm1 = np.array(cm1)\n",
    "#plt.figure(dpi=300)\n",
    "ax = plt.axes(projection='3d')\n",
    "ax.scatter3D(cm1[:,0], cm1[:,1], cm1[:,2],c=np.log(Amean1),cmap='plasma',s=1,alpha=0.3);\n",
    "plt.xlabel('x [px]')\n",
    "plt.ylabel('y [px]')\n",
    "#plt.xlim(-200,800)\n",
    "#plt.ylim(-200,800)\n",
    "ax.set_zlim(-500,500)"
   ]
  },
  {
   "cell_type": "markdown",
   "metadata": {},
   "source": [
    "# test the write BILD file function"
   ]
  },
  {
   "cell_type": "code",
   "execution_count": 12,
   "metadata": {},
   "outputs": [
    {
     "name": "stdout",
     "output_type": "stream",
     "text": [
      "_tmp__track_488_1.bild\n",
      "_tmp__track_560_1.bild\n"
     ]
    }
   ],
   "source": [
    "t0 = tracks0[0]\n",
    "filename = '_tmp__track_488_'+str(t0.id)+'.bild'\n",
    "\n",
    "print(filename)\n",
    "t0.writeBILD(filename,color='green',center=t0.cm-np.array([20,20,20]))\n",
    "\n",
    "t1 = tracks1[0]\n",
    "filename = '_tmp__track_560_'+str(t1.id)+'.bild'\n",
    "print(filename)\n",
    "t1.writeBILD(filename,color='red',center=t1.cm-np.array([20,20,20]))"
   ]
  },
  {
   "cell_type": "markdown",
   "metadata": {},
   "source": [
    "# test the write Tiff box function"
   ]
  },
  {
   "cell_type": "code",
   "execution_count": 13,
   "metadata": {
    "collapsed": true
   },
   "outputs": [],
   "source": [
    "import skimage\n",
    "\n",
    "import json\n",
    "\n",
    "class Track:\n",
    "    def __init__(self,pandasTrackData):\n",
    "        tracklength = int((pandasTrackData['tracklength'].values)[0])\n",
    "\n",
    "        #trim the end of the track until you got rid of all the nans\n",
    "        xCoordLastEntry = pandasTrackData[tracklength-1:tracklength]['x'].astype(float).values\n",
    "        #print(xCoordLastEntry,tracklength)\n",
    "        while np.isnan(xCoordLastEntry):\n",
    "            tracklength = tracklength-1\n",
    "            xCoordLastEntry = pandasTrackData[tracklength-1:tracklength]['x'].astype(float).values\n",
    "            #print(xCoordLastEntry,tracklength)\n",
    "\n",
    "        track = pandasTrackData[0:tracklength] # this function kills all the NaNs that come from matlab\n",
    "\n",
    "        self.id = track['trackId'].astype(int).values[0]\n",
    "        self.len = tracklength\n",
    "\n",
    "        self.coords = track[['x','y','z']].astype(float).values\n",
    "\n",
    "\n",
    "        self.cm = np.nanmean(self.coords,axis=0)\n",
    "        self.maxDist = np.linalg.norm(self.coords[0]-self.coords[-1])\n",
    "\n",
    "        self.particleIDs = track['particleId'].astype(int).values\n",
    "        self.A = track['A'].astype(float).values\n",
    "        self.Amean = np.nanmean(self.A)\n",
    "\n",
    "        self.frameIDs = track['frameId'].astype(int).values\n",
    "\n",
    "    def reveal(self):\n",
    "        print('id',self.id)\n",
    "        print('tracklength',self.len)\n",
    "        print('center of mass',self.cm)\n",
    "        print('coords',self.coords)\n",
    "        print('particleIDs',self.particleIDs)\n",
    "        print('A',self.A)\n",
    "        print('frameIDs',self.frameIDs)\n",
    "\n",
    "\n",
    "    def plot(self):\n",
    "        plt.figure(dpi=300)\n",
    "        ax = plt.axes(projection='3d')\n",
    "        ax.plot3D(self.coords[:,0], self.coords[:,1], self.coords[:,2], 'grey')\n",
    "        ax.scatter3D(self.coords[:,0], self.coords[:,1], self.coords[:,2],c=self.A, cmap='plasma',s=100);\n",
    "        plt.xlabel('x [px]')\n",
    "        plt.ylabel('y [px]')\n",
    "\n",
    "    def writeBILD(self,BILDfilename,color='black',center=[]):\n",
    "        filename=BILDfilename\n",
    "        file = open(BILDfilename,'w')\n",
    "\n",
    "        file.write(\".transparency 0.5\\n\")\n",
    "        file.write(\".color \"+color+\"\\n\")\n",
    "\n",
    "        line = \".comment trackID\"+str(self.id)+\"\\n\"\n",
    "        file.write(line)\n",
    "\n",
    "\n",
    "\n",
    "        for i in range(1,self.len):\n",
    "            tzero = self.coords[i-1]\n",
    "            tone = self.coords[i]\n",
    "            if len(center) != 0:\n",
    "                tzero = tzero-center\n",
    "                tone = tone-center\n",
    "\n",
    "\n",
    "\n",
    "            # Data for a three-dimensional line\n",
    "            x0 = float(tzero[0])\n",
    "            y0 = float(tzero[1])\n",
    "            z0 = float(tzero[2])\n",
    "            A0 = float(self.A[i-1])\n",
    "\n",
    "            x1 = float(tone[0])\n",
    "            y1 = float(tone[1])\n",
    "            z1 = float(tone[2])\n",
    "            A1 = float(self.A[i])\n",
    "\n",
    "            if(math.isnan(x0) or math.isnan(y0) or math.isnan(z0) or math.isnan(x1) or math.isnan(y1) or math.isnan(z1)):\n",
    "                line = \".arrow \"+str(x0)+\" \"+str(y0)+\" \"+str(z0)+\" \"+str(x1)+\" \"+str(y1)+\" \"+str(z1)+\"\\n\" #\" \"+str(radius)+\"\\n\"\n",
    "                print(line)\n",
    "                file.write(\".comment \"+line)\n",
    "                continue\n",
    "\n",
    "            line = \".arrow \"+str(x0)+\" \"+str(y0)+\" \"+str(z0)+\" \"+str(x1)+\" \"+str(y1)+\" \"+str(z1)+\"\\n\" #\" \"+str(radius)+\"\\n\"\n",
    "            file.write(line)\n",
    "\n",
    "        file.close()\n",
    "        \n",
    "        \n",
    "    def writeTiffBoxesAroundEveryDetection(self,tiffFilename,tiffImageSize=[40,40,40],center=[]):\n",
    "        \n",
    "\n",
    "        centerOfImage = np.array([tiffImageSize[0]//2,tiffImageSize[1]//2,tiffImageSize[2]//2])-np.array([1,1,1])\n",
    "\n",
    "        #### </matlab weirdo> ####\n",
    "        #### warning, i have to invert all the coordinates to get back to tiff coordinates ####\n",
    "        #### this is a problem that comes from the matlab code.. lets see what we can do here\n",
    "        trackCoordsRaw = self.coords\n",
    "        trackCoordsRaw[:,[0, 1,2]] = trackCoordsRaw[:,[2, 1, 0]]\n",
    "        trackCoords = trackCoordsRaw.astype(int)\n",
    "        \n",
    "        \n",
    "        centerOfMass = np.array([self.cm.astype(int)[2],self.cm.astype(int)[1],self.cm.astype(int)[0]])\n",
    "        #### </matlab weirdo> ####\n",
    "        \n",
    "        # recenter all track coordinates to the center of mass of the track\n",
    "        if len(center) == 0:\n",
    "            boxCenters = trackCoords-centerOfMass\n",
    "        else:\n",
    "            boxCenters = trackCoords-np.array(center)\n",
    "\n",
    "        \n",
    "        meshIndexes = tp.getCubeMeshIndexes()\n",
    "        \n",
    "        counter = 0\n",
    "        for boxCenter in boxCenters:\n",
    "            if(counter%20 ==0):\n",
    "                print(counter)\n",
    "            image = np.zeros(tiffImageSize)\n",
    "        \n",
    "            meshIndexesAdjusted = meshIndexes+boxCenter+centerOfImage\n",
    "\n",
    "            for index in meshIndexesAdjusted:\n",
    "                image[index[0],index[1],index[2]]=10\n",
    "            \n",
    "            \n",
    "            data = image.astype('uint16')\n",
    "            metadata = dict(microscope='joh', shape=data.shape, dtype=data.dtype.str)\n",
    "            metadata = json.dumps(metadata)\n",
    "            skimage.external.tifffile.imsave(tiffFilename+str(counter)+'.tif', data, description=metadata)\n",
    "            counter = counter +1;\n",
    "        print('done')"
   ]
  },
  {
   "cell_type": "code",
   "execution_count": 14,
   "metadata": {},
   "outputs": [
    {
     "name": "stdout",
     "output_type": "stream",
     "text": [
      "0/2066\n",
      "time elapse: 0.04s\n"
     ]
    }
   ],
   "source": [
    "import timeit\n",
    "\n",
    "start_time = timeit.default_timer()\n",
    "\n",
    "\n",
    "tracks1 = []\n",
    "cm1 = []\n",
    "Amean1 = []\n",
    "Afirst = []\n",
    "maxDist1 = []\n",
    "len1= []\n",
    "for i in range(0,10):\n",
    "    if(i %1000 == 0):\n",
    "        print(str(i)+\"/\"+str(len(trackIdsLong1)))\n",
    "    a = Track(data1[data1['trackId'] == trackIdsLong1[i]])\n",
    "    tracks1.append(a)\n",
    "    cm1.append(a.cm)\n",
    "    len1.append(a.len)\n",
    "    Amean1.append(a.Amean)\n",
    "    Afirst.append(a.A[0])\n",
    "    maxDist1.append(a.maxDist)\n",
    "    \n",
    "elapsed = timeit.default_timer() - start_time\n",
    "print('time elapse: '+str(np.round(elapsed,decimals=2))+'s')"
   ]
  },
  {
   "cell_type": "code",
   "execution_count": 15,
   "metadata": {},
   "outputs": [
    {
     "name": "stdout",
     "output_type": "stream",
     "text": [
      "_tmp__track_488_tiffTest_\n",
      "0\n"
     ]
    },
    {
     "ename": "AttributeError",
     "evalue": "module 'skimage' has no attribute 'external'",
     "output_type": "error",
     "traceback": [
      "\u001b[0;31m---------------------------------------------------------------------------\u001b[0m",
      "\u001b[0;31mAttributeError\u001b[0m                            Traceback (most recent call last)",
      "\u001b[0;32m<ipython-input-15-25328011c3c9>\u001b[0m in \u001b[0;36m<module>\u001b[0;34m()\u001b[0m\n\u001b[1;32m      3\u001b[0m \u001b[0;34m\u001b[0m\u001b[0m\n\u001b[1;32m      4\u001b[0m \u001b[0mprint\u001b[0m\u001b[0;34m(\u001b[0m\u001b[0mfilename\u001b[0m\u001b[0;34m)\u001b[0m\u001b[0;34m\u001b[0m\u001b[0m\n\u001b[0;32m----> 5\u001b[0;31m \u001b[0mt1\u001b[0m\u001b[0;34m.\u001b[0m\u001b[0mwriteTiffBoxesAroundEveryDetection\u001b[0m\u001b[0;34m(\u001b[0m\u001b[0mfilename\u001b[0m\u001b[0;34m,\u001b[0m\u001b[0mtiffImageSize\u001b[0m\u001b[0;34m=\u001b[0m\u001b[0;34m[\u001b[0m\u001b[0;36m40\u001b[0m\u001b[0;34m,\u001b[0m\u001b[0;36m40\u001b[0m\u001b[0;34m,\u001b[0m\u001b[0;36m40\u001b[0m\u001b[0;34m]\u001b[0m\u001b[0;34m)\u001b[0m\u001b[0;34m\u001b[0m\u001b[0m\n\u001b[0m",
      "\u001b[0;32m<ipython-input-13-da6d1fd6d0f4>\u001b[0m in \u001b[0;36mwriteTiffBoxesAroundEveryDetection\u001b[0;34m(self, tiffFilename, tiffImageSize, center)\u001b[0m\n\u001b[1;32m    134\u001b[0m             \u001b[0mmetadata\u001b[0m \u001b[0;34m=\u001b[0m \u001b[0mdict\u001b[0m\u001b[0;34m(\u001b[0m\u001b[0mmicroscope\u001b[0m\u001b[0;34m=\u001b[0m\u001b[0;34m'joh'\u001b[0m\u001b[0;34m,\u001b[0m \u001b[0mshape\u001b[0m\u001b[0;34m=\u001b[0m\u001b[0mdata\u001b[0m\u001b[0;34m.\u001b[0m\u001b[0mshape\u001b[0m\u001b[0;34m,\u001b[0m \u001b[0mdtype\u001b[0m\u001b[0;34m=\u001b[0m\u001b[0mdata\u001b[0m\u001b[0;34m.\u001b[0m\u001b[0mdtype\u001b[0m\u001b[0;34m.\u001b[0m\u001b[0mstr\u001b[0m\u001b[0;34m)\u001b[0m\u001b[0;34m\u001b[0m\u001b[0m\n\u001b[1;32m    135\u001b[0m             \u001b[0mmetadata\u001b[0m \u001b[0;34m=\u001b[0m \u001b[0mjson\u001b[0m\u001b[0;34m.\u001b[0m\u001b[0mdumps\u001b[0m\u001b[0;34m(\u001b[0m\u001b[0mmetadata\u001b[0m\u001b[0;34m)\u001b[0m\u001b[0;34m\u001b[0m\u001b[0m\n\u001b[0;32m--> 136\u001b[0;31m             \u001b[0mskimage\u001b[0m\u001b[0;34m.\u001b[0m\u001b[0mexternal\u001b[0m\u001b[0;34m.\u001b[0m\u001b[0mtifffile\u001b[0m\u001b[0;34m.\u001b[0m\u001b[0mimsave\u001b[0m\u001b[0;34m(\u001b[0m\u001b[0mtiffFilename\u001b[0m\u001b[0;34m+\u001b[0m\u001b[0mstr\u001b[0m\u001b[0;34m(\u001b[0m\u001b[0mcounter\u001b[0m\u001b[0;34m)\u001b[0m\u001b[0;34m+\u001b[0m\u001b[0;34m'.tif'\u001b[0m\u001b[0;34m,\u001b[0m \u001b[0mdata\u001b[0m\u001b[0;34m,\u001b[0m \u001b[0mdescription\u001b[0m\u001b[0;34m=\u001b[0m\u001b[0mmetadata\u001b[0m\u001b[0;34m)\u001b[0m\u001b[0;34m\u001b[0m\u001b[0m\n\u001b[0m\u001b[1;32m    137\u001b[0m             \u001b[0mcounter\u001b[0m \u001b[0;34m=\u001b[0m \u001b[0mcounter\u001b[0m \u001b[0;34m+\u001b[0m\u001b[0;36m1\u001b[0m\u001b[0;34m;\u001b[0m\u001b[0;34m\u001b[0m\u001b[0m\n\u001b[1;32m    138\u001b[0m         \u001b[0mprint\u001b[0m\u001b[0;34m(\u001b[0m\u001b[0;34m'done'\u001b[0m\u001b[0;34m)\u001b[0m\u001b[0;34m\u001b[0m\u001b[0m\n",
      "\u001b[0;31mAttributeError\u001b[0m: module 'skimage' has no attribute 'external'"
     ]
    }
   ],
   "source": [
    "t1 = tracks1[0]\n",
    "filename = '_tmp__track_488_tiffTest_'\n",
    "\n",
    "print(filename)\n",
    "t1.writeTiffBoxesAroundEveryDetection(filename,tiffImageSize=[40,40,40])"
   ]
  },
  {
   "cell_type": "code",
   "execution_count": 16,
   "metadata": {
    "collapsed": true
   },
   "outputs": [],
   "source": [
    "import skimage\n",
    "\n"
   ]
  },
  {
   "cell_type": "code",
   "execution_count": 19,
   "metadata": {},
   "outputs": [
    {
     "data": {
      "text/plain": [
       "<module 'skimage' from '/Users/johannesschoeneberg/anaconda3/lib/python3.6/site-packages/skimage/__init__.py'>"
      ]
     },
     "execution_count": 19,
     "metadata": {},
     "output_type": "execute_result"
    }
   ],
   "source": [
    "skimage"
   ]
  },
  {
   "cell_type": "code",
   "execution_count": null,
   "metadata": {
    "collapsed": true
   },
   "outputs": [],
   "source": []
  }
 ],
 "metadata": {
  "kernelspec": {
   "display_name": "Python 3",
   "language": "python",
   "name": "python3"
  },
  "language_info": {
   "codemirror_mode": {
    "name": "ipython",
    "version": 3
   },
   "file_extension": ".py",
   "mimetype": "text/x-python",
   "name": "python",
   "nbconvert_exporter": "python",
   "pygments_lexer": "ipython3",
   "version": "3.6.3"
  }
 },
 "nbformat": 4,
 "nbformat_minor": 2
}
