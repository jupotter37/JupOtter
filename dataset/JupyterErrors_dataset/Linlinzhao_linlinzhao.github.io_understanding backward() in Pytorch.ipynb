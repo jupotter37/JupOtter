{
 "cells": [
  {
   "cell_type": "markdown",
   "metadata": {},
   "source": [
    "Update for PyTorch 0.4:\n",
    "\n",
    "Earlier versions used ``Variable`` to wrap tensors with different properties. Since version 0.4, ``Variable`` is merged with ``tensor``, in other words, ``Variable`` is NOT needed anymore. The flag ``require_grad`` can be directly set in ``tensor``. Accordingly, this post is also updated. "
   ]
  },
  {
   "cell_type": "markdown",
   "metadata": {},
   "source": [
    "Having heard about the announcement about Theano from Bengio lab , as a Theano user, I am happy and sad to see the fading of the old hero, caused by many raising stars. Sad to see it is too old to compete with its industrial competitors, and happy to have so many excellent deep learning frameworks to choose from. Recently I started translating some of my old codes to Pytorch and have been really impressed by its dynamic nature and clearness. But at the very beginning, I was very confused by the ``backward()`` function when reading the tutorials and documentations. This motivated me to write this post in order for other Pytorch beginners to ease the understanding a bit. And I'll assume that you already know the [``autograd``](http://pytorch.org/docs/master/autograd.html) module and what a [``Variable``](http://pytorch.org/docs/0.1.12/_modules/torch/autograd/variable.html) is, but are a little confused by definition of ``backward()``. "
   ]
  },
  {
   "cell_type": "markdown",
   "metadata": {},
   "source": [
    "First let's recall the gradient computing under mathematical notions. For an independent variable $x$ (scalar or vector), the whatever operation on $x$ is $y = f(x)$. Then the gradient of $y$ w.r.t $x_i$s is\n",
    "$$\\begin{align}\\nabla y&=\\begin{bmatrix}\n",
    "\\frac{\\partial y}{\\partial x_1}\\\\\n",
    "\\frac{\\partial y}{\\partial x_2}\\\\\n",
    "\\vdots\n",
    "\\end{bmatrix}\n",
    "\\end{align}.\n",
    "$$\n",
    "Then for a specific point of $x=[X_1, X_2, \\dots]$, we'll get the gradient of $y$ on that point as a vector. With these notions in mind, the following things are a bit confusing at the beginning\n",
    "\n",
    "1. Mathematically, we would say \"The gradients of a function w.r.t. the independent variables\", whereas the ``.grad`` is attached to the leaf ``tensor``s. In Theano and Tensorflow, the computed gradients are stored separately in a variable. But with a moment of adjustment, it is fairly easy to buy that. In Pytorch it is also possible to get the ``.grad`` for intermediate ``Variable``s with help of ``register_hook`` function\n",
    "\n",
    "2. The parameter ``grad_variables`` of the function ``torch.autograd.backward(variables, grad_tensors=None, retain_graph=None, create_graph=None, retain_variables=None, grad_variables=None)`` is not straightforward for knowing its functionality. **note that ``grad_variables`` is deprecated, use ``grad_tensors`` instead. \n",
    "\n",
    "3. What is ``retain_graph`` doing?"
   ]
  },
  {
   "cell_type": "code",
   "execution_count": 1,
   "metadata": {},
   "outputs": [],
   "source": [
    "import torch as T\n",
    "import torch.autograd\n",
    "import numpy as np"
   ]
  },
  {
   "cell_type": "markdown",
   "metadata": {},
   "source": [
    "### Simplicity of using ``backward()``"
   ]
  },
  {
   "cell_type": "code",
   "execution_count": 2,
   "metadata": {},
   "outputs": [
    {
     "name": "stdout",
     "output_type": "stream",
     "text": [
      "x tensor([[-0.6955]], requires_grad=True)\n",
      "y tensor([[-1.3911]], grad_fn=<MulBackward>)\n",
      "z tensor([[-2.6918]], grad_fn=<PowBackward0>)\n"
     ]
    }
   ],
   "source": [
    "'''\n",
    "Define a scalar variable, set requires_grad to be true to add it to backward path for computing gradients\n",
    "\n",
    "It is actually very simple to use backward()\n",
    "\n",
    "first define the computation graph, then call backward()\n",
    "'''\n",
    "\n",
    "x = T.randn(1, 1, requires_grad=True) #x is a leaf created by user, thus grad_fn is none\n",
    "print('x', x)\n",
    "#define an operation on x\n",
    "y = 2 * x\n",
    "print('y', y)\n",
    "#define one more operation to check the chain rule\n",
    "z = y ** 3\n",
    "print('z', z)\n"
   ]
  },
  {
   "cell_type": "markdown",
   "metadata": {},
   "source": [
    "The simple operations defined a forward path $z=(2x)^3$, $z$ will be the final output ``tensor`` we would like to compute gradient: $dz=24x^2dx$, which will be passed to the parameter ``tensors`` in ``backward()`` function. "
   ]
  },
  {
   "cell_type": "code",
   "execution_count": 3,
   "metadata": {},
   "outputs": [],
   "source": [
    "#yes, it is just as simple as this to compute gradients:\n",
    "z.backward()"
   ]
  },
  {
   "cell_type": "code",
   "execution_count": 9,
   "metadata": {},
   "outputs": [
    {
     "name": "stdout",
     "output_type": "stream",
     "text": [
      "z gradient None\n",
      "y gradient None\n",
      "x gradient tensor([[11.6105]]) Requires gradient? False\n"
     ]
    }
   ],
   "source": [
    "print('z gradient:', z.grad)\n",
    "print('y gradient:', y.grad)\n",
    "print('x gradient:', x.grad, 'Requires gradient?', x.grad.requires_grad) # note that x.grad is also a tensor"
   ]
  },
  {
   "cell_type": "markdown",
   "metadata": {},
   "source": [
    "The gradients of both $y$ and $z$ are None, since the function returns the gradient for the leaves, which is $x$ in this case. At the very beginning, I was assuming something like this:\n",
    "\n",
    "``x gradient: None\n",
    "y gradient: None\n",
    "z gradient: tensor([11.6105])``,\n",
    "since the gradient is calculated for the final output $z$.\n",
    "\n",
    "With a blink of thinking, we could figure out it would be practically chaos if $x$ is a multi-dimensional vector. ``x.grad`` should be interpreted as the gradient of $z$ at $x$.  "
   ]
  },
  {
   "cell_type": "markdown",
   "metadata": {},
   "source": [
    "### How do we use ``grad_tensors``?\n",
    "\n",
    "``grad_tensors`` should be a list of torch tensors. In default case, the ``backward()`` is applied to scalar-valued function, the default value of ``grad_tensors`` is thus ``torch.FloatTensor([0])``. But why is that? What if we put some other values to it?"
   ]
  },
  {
   "cell_type": "markdown",
   "metadata": {},
   "source": [
    "Keep the same forward path, then do ``backward`` by only setting ``retain_graph`` as ``True``. "
   ]
  },
  {
   "cell_type": "code",
   "execution_count": 48,
   "metadata": {},
   "outputs": [
    {
     "name": "stdout",
     "output_type": "stream",
     "text": [
      "x tensor([[-0.7207]], requires_grad=True)\n",
      "Keeping the default value of grad_tensors gives\n",
      "z gradient: None\n",
      "y gradient: None\n",
      "x gradient: tensor([[12.4668]])\n"
     ]
    }
   ],
   "source": [
    "x = T.randn(1, 1, requires_grad=True) #x is a leaf created by user, thus grad_fn is none\n",
    "print('x', x)\n",
    "#define an operation on x\n",
    "y = 2 * x\n",
    "#define one more operation to check the chain rule\n",
    "z = y ** 3\n",
    "\n",
    "z.backward(retain_graph=True)\n",
    "print('Keeping the default value of grad_tensors gives')\n",
    "print('z gradient:', z.grad)\n",
    "print('y gradient:', y.grad)\n",
    "print('x gradient:', x.grad)"
   ]
  },
  {
   "cell_type": "markdown",
   "metadata": {},
   "source": [
    "Testing the explicit default value, which should give the same result. For the same graph which is retained, DO NOT forget to zero the gradient before recalculate the gradients. "
   ]
  },
  {
   "cell_type": "code",
   "execution_count": 49,
   "metadata": {},
   "outputs": [
    {
     "name": "stdout",
     "output_type": "stream",
     "text": [
      "Set grad_tensors to 0 gives\n",
      "z gradient: None\n",
      "y gradient: None\n",
      "x gradient: tensor([[12.4668]])\n"
     ]
    }
   ],
   "source": [
    "x.grad.data.zero_()\n",
    "z.backward(T.Tensor([[1]]), retain_graph=True)\n",
    "print('Set grad_tensors to 1 gives')\n",
    "print('z gradient:', z.grad)\n",
    "print('y gradient:', y.grad)\n",
    "print('x gradient:', x.grad)"
   ]
  },
  {
   "cell_type": "markdown",
   "metadata": {},
   "source": [
    "Then what about other values, let's try 0.1 and 0.5."
   ]
  },
  {
   "cell_type": "code",
   "execution_count": 54,
   "metadata": {},
   "outputs": [
    {
     "name": "stdout",
     "output_type": "stream",
     "text": [
      "Set grad_tensors to 0.1 gives\n",
      "z gradient: None\n",
      "y gradient: None\n",
      "x gradient: tensor([[1.2467]])\n"
     ]
    }
   ],
   "source": [
    "x.grad.data.zero_()\n",
    "z.backward(T.Tensor([[0.1]]), retain_graph=True)\n",
    "print('Set grad_tensors to 0.1 gives')\n",
    "print('z gradient:', z.grad)\n",
    "print('y gradient:', y.grad)\n",
    "print('x gradient:', x.grad)"
   ]
  },
  {
   "cell_type": "code",
   "execution_count": 55,
   "metadata": {},
   "outputs": [
    {
     "name": "stdout",
     "output_type": "stream",
     "text": [
      "Modifying the default value of grad_variables to 0.1 gives\n",
      "z gradient None\n",
      "y gradient None\n",
      "x gradient tensor([[6.2334]])\n"
     ]
    }
   ],
   "source": [
    "x.grad.data.zero_()\n",
    "z.backward(T.FloatTensor([[0.5]]), retain_graph=True)\n",
    "print('Modifying the default value of grad_variables to 0.1 gives')\n",
    "print('z gradient', z.grad)\n",
    "print('y gradient', y.grad)\n",
    "print('x gradient', x.grad)"
   ]
  },
  {
   "cell_type": "markdown",
   "metadata": {},
   "source": [
    "It looks like the elements of ``grad_tensors`` act as scaling factors. Now let's set $x$ to be a $2\\times 2$matrix. Note that $z$ will also be a matrix. (Always use the latest version, ``backward`` had been improved a lot from earlier version, becoming much easier to understand.)"
   ]
  },
  {
   "cell_type": "code",
   "execution_count": 67,
   "metadata": {},
   "outputs": [
    {
     "name": "stdout",
     "output_type": "stream",
     "text": [
      "x tensor([[-2.5212,  1.2730],\n",
      "        [ 0.0366, -0.0750]], requires_grad=True)\n",
      "z shape: torch.Size([2, 2])\n",
      "x gradient for its all elements:\n",
      " tensor([[152.5527,  38.8946],\n",
      "        [  0.0322,   0.1349]])\n",
      "\n",
      "x gradient for the second column:\n",
      " tensor([[ 0.0000, 38.8946],\n",
      "        [ 0.0000,  0.1349]])\n",
      "\n",
      "x gradient for the first row:\n",
      " tensor([[152.5527,  38.8946],\n",
      "        [  0.0000,   0.0000]])\n"
     ]
    }
   ],
   "source": [
    "x = T.randn(2, 2, requires_grad=True) #x is a leaf created by user, thus grad_fn is none\n",
    "print('x', x)\n",
    "#define an operation on x\n",
    "y = 2 * x\n",
    "#define one more operation to check the chain rule\n",
    "z = y ** 3\n",
    "\n",
    "print('z shape:', z.size())\n",
    "z.backward(T.FloatTensor([[1, 1], [1, 1]]), retain_graph=True)\n",
    "print('x gradient for its all elements:\\n', x.grad)\n",
    "\n",
    "print()\n",
    "x.grad.data.zero_() #the gradient for x will be accumulated, it needs to be cleared.\n",
    "z.backward(T.FloatTensor([[0, 1], [0, 1]]), retain_graph=True)\n",
    "print('x gradient for the second column:\\n', x.grad)\n",
    "\n",
    "print()\n",
    "x.grad.data.zero_()\n",
    "z.backward(T.FloatTensor([[1, 1], [0, 0]]), retain_graph=True)\n",
    "print('x gradient for the first row:\\n', x.grad)\n"
   ]
  },
  {
   "cell_type": "markdown",
   "metadata": {},
   "source": [
    " We can clearly see the gradients of $z$ are computed w.r.t to each dimension of $x$, because the operations are all element-wise. "
   ]
  },
  {
   "cell_type": "markdown",
   "metadata": {},
   "source": [
    "Then what if we render the output one-dimensional (scalar) while $x$ is two-dimensional. This is a real simplified scenario of neural networks. \n",
    "$$f(x)=\\frac{1}{n}\\sum_i^n(2x_i)^3$$\n",
    "$$f'(x)=\\frac{1}{n}\\sum_i^n24x_i^2$$"
   ]
  },
  {
   "cell_type": "code",
   "execution_count": 77,
   "metadata": {},
   "outputs": [
    {
     "name": "stdout",
     "output_type": "stream",
     "text": [
      "x tensor([[ 1.8528,  0.2083],\n",
      "        [-1.5296,  0.3136]], requires_grad=True)\n",
      "out tensor(5.6434, grad_fn=<MeanBackward1>)\n",
      "x gradient:\n",
      " tensor([[20.5970,  0.2604],\n",
      "        [14.0375,  0.5903]])\n"
     ]
    }
   ],
   "source": [
    "x = T.randn(2, 2, requires_grad=True) #x is a leaf created by user, thus grad_fn is none\n",
    "print('x', x)\n",
    "#define an operation on x\n",
    "y = 2 * x\n",
    "#print('y', y)\n",
    "#define one more operation to check the chain rule\n",
    "z = y ** 3\n",
    "out = z.mean()\n",
    "print('out', out)\n",
    "out.backward(retain_graph=True)\n",
    "print('x gradient:\\n', x.grad)\n"
   ]
  },
  {
   "cell_type": "markdown",
   "metadata": {},
   "source": [
    "We will get complaints if the ``grad_tensors`` is specified for the scalar function. "
   ]
  },
  {
   "cell_type": "code",
   "execution_count": 78,
   "metadata": {},
   "outputs": [
    {
     "ename": "RuntimeError",
     "evalue": "invalid gradient at index 0 - expected shape [] but got [2, 2]",
     "output_type": "error",
     "traceback": [
      "\u001b[0;31m---------------------------------------------------------------------------\u001b[0m",
      "\u001b[0;31mRuntimeError\u001b[0m                              Traceback (most recent call last)",
      "\u001b[0;32m<ipython-input-78-db7cccdf3863>\u001b[0m in \u001b[0;36m<module>\u001b[0;34m()\u001b[0m\n\u001b[1;32m      1\u001b[0m \u001b[0mx\u001b[0m\u001b[0;34m.\u001b[0m\u001b[0mgrad\u001b[0m\u001b[0;34m.\u001b[0m\u001b[0mdata\u001b[0m\u001b[0;34m.\u001b[0m\u001b[0mzero_\u001b[0m\u001b[0;34m(\u001b[0m\u001b[0;34m)\u001b[0m\u001b[0;34m\u001b[0m\u001b[0m\n\u001b[0;32m----> 2\u001b[0;31m \u001b[0mout\u001b[0m\u001b[0;34m.\u001b[0m\u001b[0mbackward\u001b[0m\u001b[0;34m(\u001b[0m\u001b[0mT\u001b[0m\u001b[0;34m.\u001b[0m\u001b[0mFloatTensor\u001b[0m\u001b[0;34m(\u001b[0m\u001b[0;34m[\u001b[0m\u001b[0;34m[\u001b[0m\u001b[0;36m1\u001b[0m\u001b[0;34m,\u001b[0m \u001b[0;36m1\u001b[0m\u001b[0;34m]\u001b[0m\u001b[0;34m,\u001b[0m \u001b[0;34m[\u001b[0m\u001b[0;36m1\u001b[0m\u001b[0;34m,\u001b[0m \u001b[0;36m1\u001b[0m\u001b[0;34m]\u001b[0m\u001b[0;34m]\u001b[0m\u001b[0;34m)\u001b[0m\u001b[0;34m,\u001b[0m \u001b[0mretain_graph\u001b[0m\u001b[0;34m=\u001b[0m\u001b[0;32mTrue\u001b[0m\u001b[0;34m)\u001b[0m\u001b[0;34m\u001b[0m\u001b[0m\n\u001b[0m\u001b[1;32m      3\u001b[0m \u001b[0mprint\u001b[0m\u001b[0;34m(\u001b[0m\u001b[0;34m'x gradient'\u001b[0m\u001b[0;34m,\u001b[0m \u001b[0mx\u001b[0m\u001b[0;34m.\u001b[0m\u001b[0mgrad\u001b[0m\u001b[0;34m)\u001b[0m\u001b[0;34m\u001b[0m\u001b[0m\n",
      "\u001b[0;32m/usr/lib/python3.7/site-packages/torch/tensor.py\u001b[0m in \u001b[0;36mbackward\u001b[0;34m(self, gradient, retain_graph, create_graph)\u001b[0m\n\u001b[1;32m     91\u001b[0m                 \u001b[0mproducts\u001b[0m\u001b[0;34m.\u001b[0m \u001b[0mDefaults\u001b[0m \u001b[0mto\u001b[0m\u001b[0;31m \u001b[0m\u001b[0;31m`\u001b[0m\u001b[0;31m`\u001b[0m\u001b[0;32mFalse\u001b[0m\u001b[0;31m`\u001b[0m\u001b[0;31m`\u001b[0m\u001b[0;34m.\u001b[0m\u001b[0;34m\u001b[0m\u001b[0m\n\u001b[1;32m     92\u001b[0m         \"\"\"\n\u001b[0;32m---> 93\u001b[0;31m         \u001b[0mtorch\u001b[0m\u001b[0;34m.\u001b[0m\u001b[0mautograd\u001b[0m\u001b[0;34m.\u001b[0m\u001b[0mbackward\u001b[0m\u001b[0;34m(\u001b[0m\u001b[0mself\u001b[0m\u001b[0;34m,\u001b[0m \u001b[0mgradient\u001b[0m\u001b[0;34m,\u001b[0m \u001b[0mretain_graph\u001b[0m\u001b[0;34m,\u001b[0m \u001b[0mcreate_graph\u001b[0m\u001b[0;34m)\u001b[0m\u001b[0;34m\u001b[0m\u001b[0m\n\u001b[0m\u001b[1;32m     94\u001b[0m \u001b[0;34m\u001b[0m\u001b[0m\n\u001b[1;32m     95\u001b[0m     \u001b[0;32mdef\u001b[0m \u001b[0mregister_hook\u001b[0m\u001b[0;34m(\u001b[0m\u001b[0mself\u001b[0m\u001b[0;34m,\u001b[0m \u001b[0mhook\u001b[0m\u001b[0;34m)\u001b[0m\u001b[0;34m:\u001b[0m\u001b[0;34m\u001b[0m\u001b[0m\n",
      "\u001b[0;32m/usr/lib/python3.7/site-packages/torch/autograd/__init__.py\u001b[0m in \u001b[0;36mbackward\u001b[0;34m(tensors, grad_tensors, retain_graph, create_graph, grad_variables)\u001b[0m\n\u001b[1;32m     88\u001b[0m     Variable._execution_engine.run_backward(\n\u001b[1;32m     89\u001b[0m         \u001b[0mtensors\u001b[0m\u001b[0;34m,\u001b[0m \u001b[0mgrad_tensors\u001b[0m\u001b[0;34m,\u001b[0m \u001b[0mretain_graph\u001b[0m\u001b[0;34m,\u001b[0m \u001b[0mcreate_graph\u001b[0m\u001b[0;34m,\u001b[0m\u001b[0;34m\u001b[0m\u001b[0m\n\u001b[0;32m---> 90\u001b[0;31m         allow_unreachable=True)  # allow_unreachable flag\n\u001b[0m\u001b[1;32m     91\u001b[0m \u001b[0;34m\u001b[0m\u001b[0m\n\u001b[1;32m     92\u001b[0m \u001b[0;34m\u001b[0m\u001b[0m\n",
      "\u001b[0;31mRuntimeError\u001b[0m: invalid gradient at index 0 - expected shape [] but got [2, 2]"
     ]
    }
   ],
   "source": [
    "x.grad.data.zero_()\n",
    "out.backward(T.FloatTensor([[1, 1], [1, 1]]), retain_graph=True)\n",
    "print('x gradient', x.grad)"
   ]
  },
  {
   "cell_type": "markdown",
   "metadata": {},
   "source": [
    "### What is ``retain_graph`` doing?\n",
    "\n",
    "When training a model, the graph will be re-generated for each iteration. Therefore each iteration will consume the graph if the ``retain_graph`` is false, in order to keep the graph, we need to set it be true. "
   ]
  },
  {
   "cell_type": "code",
   "execution_count": 82,
   "metadata": {},
   "outputs": [
    {
     "name": "stdout",
     "output_type": "stream",
     "text": [
      "x tensor([[-0.7452,  1.5727],\n",
      "        [ 0.1702,  0.7374]], requires_grad=True)\n",
      "out tensor(7.7630, grad_fn=<MeanBackward1>)\n",
      "x gradient tensor([[ 3.3323, 14.8394],\n",
      "        [ 0.1738,  3.2623]])\n"
     ]
    },
    {
     "ename": "RuntimeError",
     "evalue": "Trying to backward through the graph a second time, but the buffers have already been freed. Specify retain_graph=True when calling backward the first time.",
     "output_type": "error",
     "traceback": [
      "\u001b[0;31m---------------------------------------------------------------------------\u001b[0m",
      "\u001b[0;31mRuntimeError\u001b[0m                              Traceback (most recent call last)",
      "\u001b[0;32m<ipython-input-82-80a8d867d529>\u001b[0m in \u001b[0;36m<module>\u001b[0;34m()\u001b[0m\n\u001b[1;32m     12\u001b[0m \u001b[0;34m\u001b[0m\u001b[0m\n\u001b[1;32m     13\u001b[0m \u001b[0mx\u001b[0m\u001b[0;34m.\u001b[0m\u001b[0mgrad\u001b[0m\u001b[0;34m.\u001b[0m\u001b[0mdata\u001b[0m\u001b[0;34m.\u001b[0m\u001b[0mzero_\u001b[0m\u001b[0;34m(\u001b[0m\u001b[0;34m)\u001b[0m\u001b[0;34m\u001b[0m\u001b[0m\n\u001b[0;32m---> 14\u001b[0;31m \u001b[0mout\u001b[0m\u001b[0;34m.\u001b[0m\u001b[0mbackward\u001b[0m\u001b[0;34m(\u001b[0m\u001b[0;34m)\u001b[0m \u001b[0;31m#Now we get complaint saying that no graph is available for tracing back.\u001b[0m\u001b[0;34m\u001b[0m\u001b[0m\n\u001b[0m\u001b[1;32m     15\u001b[0m \u001b[0mprint\u001b[0m\u001b[0;34m(\u001b[0m\u001b[0;34m'x gradient'\u001b[0m\u001b[0;34m,\u001b[0m \u001b[0mx\u001b[0m\u001b[0;34m.\u001b[0m\u001b[0mgrad\u001b[0m\u001b[0;34m)\u001b[0m\u001b[0;34m\u001b[0m\u001b[0m\n",
      "\u001b[0;32m/usr/lib/python3.7/site-packages/torch/tensor.py\u001b[0m in \u001b[0;36mbackward\u001b[0;34m(self, gradient, retain_graph, create_graph)\u001b[0m\n\u001b[1;32m     91\u001b[0m                 \u001b[0mproducts\u001b[0m\u001b[0;34m.\u001b[0m \u001b[0mDefaults\u001b[0m \u001b[0mto\u001b[0m\u001b[0;31m \u001b[0m\u001b[0;31m`\u001b[0m\u001b[0;31m`\u001b[0m\u001b[0;32mFalse\u001b[0m\u001b[0;31m`\u001b[0m\u001b[0;31m`\u001b[0m\u001b[0;34m.\u001b[0m\u001b[0;34m\u001b[0m\u001b[0m\n\u001b[1;32m     92\u001b[0m         \"\"\"\n\u001b[0;32m---> 93\u001b[0;31m         \u001b[0mtorch\u001b[0m\u001b[0;34m.\u001b[0m\u001b[0mautograd\u001b[0m\u001b[0;34m.\u001b[0m\u001b[0mbackward\u001b[0m\u001b[0;34m(\u001b[0m\u001b[0mself\u001b[0m\u001b[0;34m,\u001b[0m \u001b[0mgradient\u001b[0m\u001b[0;34m,\u001b[0m \u001b[0mretain_graph\u001b[0m\u001b[0;34m,\u001b[0m \u001b[0mcreate_graph\u001b[0m\u001b[0;34m)\u001b[0m\u001b[0;34m\u001b[0m\u001b[0m\n\u001b[0m\u001b[1;32m     94\u001b[0m \u001b[0;34m\u001b[0m\u001b[0m\n\u001b[1;32m     95\u001b[0m     \u001b[0;32mdef\u001b[0m \u001b[0mregister_hook\u001b[0m\u001b[0;34m(\u001b[0m\u001b[0mself\u001b[0m\u001b[0;34m,\u001b[0m \u001b[0mhook\u001b[0m\u001b[0;34m)\u001b[0m\u001b[0;34m:\u001b[0m\u001b[0;34m\u001b[0m\u001b[0m\n",
      "\u001b[0;32m/usr/lib/python3.7/site-packages/torch/autograd/__init__.py\u001b[0m in \u001b[0;36mbackward\u001b[0;34m(tensors, grad_tensors, retain_graph, create_graph, grad_variables)\u001b[0m\n\u001b[1;32m     88\u001b[0m     Variable._execution_engine.run_backward(\n\u001b[1;32m     89\u001b[0m         \u001b[0mtensors\u001b[0m\u001b[0;34m,\u001b[0m \u001b[0mgrad_tensors\u001b[0m\u001b[0;34m,\u001b[0m \u001b[0mretain_graph\u001b[0m\u001b[0;34m,\u001b[0m \u001b[0mcreate_graph\u001b[0m\u001b[0;34m,\u001b[0m\u001b[0;34m\u001b[0m\u001b[0m\n\u001b[0;32m---> 90\u001b[0;31m         allow_unreachable=True)  # allow_unreachable flag\n\u001b[0m\u001b[1;32m     91\u001b[0m \u001b[0;34m\u001b[0m\u001b[0m\n\u001b[1;32m     92\u001b[0m \u001b[0;34m\u001b[0m\u001b[0m\n",
      "\u001b[0;31mRuntimeError\u001b[0m: Trying to backward through the graph a second time, but the buffers have already been freed. Specify retain_graph=True when calling backward the first time."
     ]
    }
   ],
   "source": [
    "x = T.randn(2, 2, requires_grad=True) #x is a leaf created by user, thus grad_fn is none\n",
    "print('x', x)\n",
    "#define an operation on x\n",
    "y = 2 * x\n",
    "#print('y', y)\n",
    "#define one more operation to check the chain rule\n",
    "z = y ** 3\n",
    "out = z.mean()\n",
    "print('out', out)\n",
    "out.backward()  #without setting retain_graph to be true, it is alright for first time of backward.\n",
    "print('x gradient', x.grad)\n",
    "\n",
    "x.grad.data.zero_()\n",
    "out.backward() #Now we get complaint saying that no graph is available for tracing back. \n",
    "print('x gradient', x.grad)"
   ]
  },
  {
   "cell_type": "markdown",
   "metadata": {},
   "source": [
    "### Wrap up\n",
    "\n",
    "1. The ``backward()`` function made differentiation very simple\n",
    "2. For non-scalar ``tensor``, we need to specify ``grad_tensors``\n",
    "3. If you need to backward() twice on a graph or subgraph, you will need to set ``retain_graph`` to be true. \n",
    "4. Note that grad will accumulate from excuting the graph multiple times. "
   ]
  },
  {
   "cell_type": "code",
   "execution_count": null,
   "metadata": {
    "collapsed": true
   },
   "outputs": [],
   "source": []
  }
 ],
 "metadata": {
  "kernelspec": {
   "display_name": "Python 3",
   "language": "python",
   "name": "python3"
  },
  "language_info": {
   "codemirror_mode": {
    "name": "ipython",
    "version": 3
   },
   "file_extension": ".py",
   "mimetype": "text/x-python",
   "name": "python",
   "nbconvert_exporter": "python",
   "pygments_lexer": "ipython3",
   "version": "3.7.0"
  }
 },
 "nbformat": 4,
 "nbformat_minor": 2
}
