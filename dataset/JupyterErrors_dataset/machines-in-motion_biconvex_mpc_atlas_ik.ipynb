{
 "cells": [
  {
   "cell_type": "code",
   "execution_count": 1,
   "id": "e647c639",
   "metadata": {
    "scrolled": true
   },
   "outputs": [
    {
     "name": "stderr",
     "output_type": "stream",
     "text": [
      "<frozen importlib._bootstrap>:219: RuntimeWarning: to-Python converter for boost::shared_ptr<hpp::fcl::CollisionGeometry> already registered; second conversion method ignored.\n"
     ]
    },
    {
     "name": "stdout",
     "output_type": "stream",
     "text": [
      "solo import \n"
     ]
    }
   ],
   "source": [
    "## This is demo for the inverse kinematics C++ version\n",
    "## Author : Avadesh Meduri\n",
    "## Date : 22/04/2021\n",
    "\n",
    "import time\n",
    "import numpy as np\n",
    "from py_biconvex_mpc.ik.inverse_kinematics import InverseKinematics\n",
    "from robot_properties_atlas.config import AtlasConfig\n",
    "from py_biconvex_mpc.ik_utils.abstract_gait_generator import AbstractGaitGenerator\n",
    "\n",
    "import pinocchio as pin\n",
    "\n"
   ]
  },
  {
   "cell_type": "code",
   "execution_count": 2,
   "id": "3737bf99",
   "metadata": {},
   "outputs": [
    {
     "name": "stdout",
     "output_type": "stream",
     "text": [
      "You can open the visualizer by visiting the following URL:\n",
      "http://127.0.0.1:7001/static/\n"
     ]
    }
   ],
   "source": [
    "robot = AtlasConfig.buildRobotWrapper()\n",
    "rmodel = robot.model\n",
    "rdata = robot.data\n",
    "viz = pin.visualize.MeshcatVisualizer(robot.model, robot.collision_model, robot.visual_model)\n",
    "viz.initViewer(open=True)\n",
    "viz.loadViewerModel()"
   ]
  },
  {
   "cell_type": "code",
   "execution_count": 6,
   "id": "6eb7b727",
   "metadata": {},
   "outputs": [
    {
     "ename": "TypeError",
     "evalue": "__init__(): incompatible constructor arguments. The following argument types are supported:\n    1. inverse_kinematics_cpp.InverseKinematics(arg0: str, arg1: int)\n\nInvoked with: '/home/ameduri/.local/lib/python3.8/site-packages/robot_properties_atlas/robot_properties_atlas/urdf/atlas.urdf', 0.05, 5",
     "output_type": "error",
     "traceback": [
      "\u001b[0;31m---------------------------------------------------------------------------\u001b[0m",
      "\u001b[0;31mTypeError\u001b[0m                                 Traceback (most recent call last)",
      "Input \u001b[0;32mIn [6]\u001b[0m, in \u001b[0;36m<cell line: 38>\u001b[0;34m()\u001b[0m\n\u001b[1;32m     35\u001b[0m sl \u001b[38;5;241m=\u001b[39m np\u001b[38;5;241m.\u001b[39marray([\u001b[38;5;241m0.5\u001b[39m, \u001b[38;5;241m0\u001b[39m, \u001b[38;5;241m0\u001b[39m])\n\u001b[1;32m     36\u001b[0m st \u001b[38;5;241m=\u001b[39m \u001b[38;5;241m0.5\u001b[39m\n\u001b[0;32m---> 38\u001b[0m gg \u001b[38;5;241m=\u001b[39m \u001b[43mAbstractGaitGenerator\u001b[49m\u001b[43m(\u001b[49m\u001b[43mrmodel\u001b[49m\u001b[43m,\u001b[49m\u001b[43m \u001b[49m\u001b[43mrdata\u001b[49m\u001b[43m,\u001b[49m\u001b[43m \u001b[49m\u001b[43mAtlasConfig\u001b[49m\u001b[38;5;241;43m.\u001b[39;49m\u001b[43murdf_path\u001b[49m\u001b[43m,\u001b[49m\u001b[43m \u001b[49m\u001b[43mT\u001b[49m\u001b[43m,\u001b[49m\u001b[43m \u001b[49m\u001b[43mdt\u001b[49m\u001b[43m)\u001b[49m\n\u001b[1;32m     39\u001b[0m gg\u001b[38;5;241m.\u001b[39mcreate_swing_foot_task(des_pos_left[\u001b[38;5;241m0\u001b[39m], des_pos_left[\u001b[38;5;241m0\u001b[39m] \u001b[38;5;241m+\u001b[39m sl, \u001b[38;5;241m0\u001b[39m, st, \u001b[38;5;241m0.1\u001b[39m, \u001b[38;5;124m\"\u001b[39m\u001b[38;5;124ml_foot\u001b[39m\u001b[38;5;124m\"\u001b[39m, \u001b[38;5;124m\"\u001b[39m\u001b[38;5;124mL_step\u001b[39m\u001b[38;5;124m\"\u001b[39m, \u001b[38;5;241m1e3\u001b[39m)\n\u001b[1;32m     40\u001b[0m gg\u001b[38;5;241m.\u001b[39mcreate_contact_task(des_pos_right[\u001b[38;5;241m0\u001b[39m], \u001b[38;5;241m0\u001b[39m, st, \u001b[38;5;124m\"\u001b[39m\u001b[38;5;124mr_foot\u001b[39m\u001b[38;5;124m\"\u001b[39m, \u001b[38;5;124m\"\u001b[39m\u001b[38;5;124mR_step\u001b[39m\u001b[38;5;124m\"\u001b[39m, \u001b[38;5;241m1e5\u001b[39m)\n",
      "File \u001b[0;32m~/.local/lib/python3.8/site-packages/py_biconvex_mpc/ik_utils/abstract_gait_generator.py:28\u001b[0m, in \u001b[0;36mAbstractGaitGenerator.__init__\u001b[0;34m(self, pin_model, pin_data, r_urdf, T, dt)\u001b[0m\n\u001b[1;32m     26\u001b[0m \u001b[38;5;28mself\u001b[39m\u001b[38;5;241m.\u001b[39mrmodel \u001b[38;5;241m=\u001b[39m pin_model\n\u001b[1;32m     27\u001b[0m \u001b[38;5;28mself\u001b[39m\u001b[38;5;241m.\u001b[39mrdata \u001b[38;5;241m=\u001b[39m pin_data\n\u001b[0;32m---> 28\u001b[0m \u001b[38;5;28mself\u001b[39m\u001b[38;5;241m.\u001b[39mik \u001b[38;5;241m=\u001b[39m \u001b[43mInverseKinematics\u001b[49m\u001b[43m(\u001b[49m\u001b[43mr_urdf\u001b[49m\u001b[43m,\u001b[49m\u001b[43m \u001b[49m\u001b[43mdt\u001b[49m\u001b[43m,\u001b[49m\u001b[43m \u001b[49m\u001b[43mT\u001b[49m\u001b[43m)\u001b[49m\n\u001b[1;32m     29\u001b[0m \u001b[38;5;66;03m# self.ik = InverseKinematics(self.rmodel, dt, T)\u001b[39;00m\n\u001b[1;32m     31\u001b[0m \u001b[38;5;28mself\u001b[39m\u001b[38;5;241m.\u001b[39mt \u001b[38;5;241m=\u001b[39m \u001b[38;5;241m0\u001b[39m\n",
      "\u001b[0;31mTypeError\u001b[0m: __init__(): incompatible constructor arguments. The following argument types are supported:\n    1. inverse_kinematics_cpp.InverseKinematics(arg0: str, arg1: int)\n\nInvoked with: '/home/ameduri/.local/lib/python3.8/site-packages/robot_properties_atlas/robot_properties_atlas/urdf/atlas.urdf', 0.05, 5"
     ]
    }
   ],
   "source": [
    "dt = 5e-2\n",
    "T = 5\n",
    "\n",
    "q0 = np.array([ 0.0, 0.0, 0.95, #base\n",
    "                0.0, 0.0, 0.0, 1.0, #base quaternion\n",
    "                0.0, #hip yaw\n",
    "                0.0487, #hip forward/backward\n",
    "                0.0, #hip tilt\n",
    "                0.0, -1.2, 0.0, 0.0, 0.0, 0.0, 0.0, #left arm\n",
    "                0.0, 1.2, 0.0, 0.0, 0.0, 0.0, 0.0, #right arm\n",
    "                0.0, 0.0, 0.0, #left hip abductors\n",
    "                0.0, 0.0, 0.0, #left knee, ankle tilt fwd, ankle tilt side\n",
    "                0.0, 0.0, 0.0, #right hip abductors\n",
    "                0.0, 0.0, 0.0]) #right knee, right ankle tilt fwd, right ankle tilt side;\n",
    "v = np.zeros(rmodel.nv)\n",
    "x0 = np.concatenate([q0, np.zeros(rmodel.nv)])\n",
    "\n",
    "stateWeights = np.array([0.] * 3 + [50.] * 3 + [0.01] * (rmodel.nv - 6) \\\n",
    "                        + [10.] * 6 + [1.0] *(rmodel.nv - 6))\n",
    "\n",
    "# print(robot.model.nq, robot.model.nv)\n",
    "\n",
    "des_pos_left = np.tile(np.array([0.0,   0.1115,  0]), (int(T/dt),1))\n",
    "des_pos_right = np.tile(np.array([0.0,   -0.1115,  0]), (int(T/dt),1))\n",
    "\n",
    "des_vel_left = np.tile(np.array([0.,   0,  0]), (int(T/dt),1))\n",
    "des_vel_right = np.tile(np.array([0.,   -0,  0]), (int(T/dt),1))\n",
    "\n",
    "des_com_pos = np.tile(np.array([0.,   0,  1.2]), (int(T/dt),1))\n",
    "des_com_pos[:,0] = 0.1*np.linspace(0, len(des_com_pos), len(des_com_pos))\n",
    "\n",
    "des_mom = np.tile(np.array([0.,   0,  0.0, 0, 0, 0]), (int(T/dt),1))\n",
    "des_mom[:,0] = 0.1\n",
    "\n",
    "sl = np.array([0.5, 0, 0])\n",
    "st = 0.5\n",
    "\n",
    "gg = AbstractGaitGenerator(rmodel, rdata, AtlasConfig.urdf_path, T, dt)\n",
    "gg.create_swing_foot_task(des_pos_left[0], des_pos_left[0] + sl, 0, st, 0.1, \"l_foot\", \"L_step\", 1e3)\n",
    "gg.create_contact_task(des_pos_right[0], 0, st, \"r_foot\", \"R_step\", 1e5)\n",
    "gg.create_contact_task(des_pos_left[0] + sl, st, T, \"l_foot\", \"L_step\", 1e5)\n",
    "gg.create_swing_foot_task(des_pos_right[0], des_pos_right[0] + 2*sl, st, 2*st, 0.1, \"r_foot\", \"R_step\", 1e3)\n",
    "gg.create_contact_task(des_pos_right[0] + 2*sl, 2*st , T, \"r_foot\", \"R_step\", 1e5)\n",
    "\n",
    "gg.create_centroidal_task(des_mom, 0, T, \"mom track\", 1e1)\n",
    "\n",
    "xs, us = gg.optimize(x0, stateWeights, x0, wt_xreg=5e-4, wt_ureg=1e-5)\n",
    "# np.savez(\"../motion_planner/dat_file/ik\", xs = xs)\n"
   ]
  },
  {
   "cell_type": "code",
   "execution_count": 5,
   "id": "924d1ddf",
   "metadata": {},
   "outputs": [
    {
     "ename": "NameError",
     "evalue": "name 'xs' is not defined",
     "output_type": "error",
     "traceback": [
      "\u001b[0;31m---------------------------------------------------------------------------\u001b[0m",
      "\u001b[0;31mNameError\u001b[0m                                 Traceback (most recent call last)",
      "Input \u001b[0;32mIn [5]\u001b[0m, in \u001b[0;36m<cell line: 1>\u001b[0;34m()\u001b[0m\n\u001b[0;32m----> 1\u001b[0m \u001b[38;5;28;01mfor\u001b[39;00m i \u001b[38;5;129;01min\u001b[39;00m \u001b[38;5;28mrange\u001b[39m(\u001b[38;5;28mlen\u001b[39m(\u001b[43mxs\u001b[49m)):\n\u001b[1;32m      2\u001b[0m     time\u001b[38;5;241m.\u001b[39msleep(\u001b[38;5;241m0.06\u001b[39m)\n\u001b[1;32m      3\u001b[0m     viz\u001b[38;5;241m.\u001b[39mdisplay(xs[i][:rmodel\u001b[38;5;241m.\u001b[39mnq])\n",
      "\u001b[0;31mNameError\u001b[0m: name 'xs' is not defined"
     ]
    }
   ],
   "source": [
    "for i in range(len(xs)):\n",
    "    time.sleep(0.06)\n",
    "    viz.display(xs[i][:rmodel.nq])"
   ]
  },
  {
   "cell_type": "code",
   "execution_count": 9,
   "id": "f92b8492",
   "metadata": {},
   "outputs": [
    {
     "data": {
      "text/plain": [
       "Nb joints = 31 (nq=36,nv=35)\n",
       "  Joint 0 universe: parent=0\n",
       "  Joint 1 root_joint: parent=0\n",
       "  Joint 2 back_bkz: parent=1\n",
       "  Joint 3 back_bky: parent=2\n",
       "  Joint 4 back_bkx: parent=3\n",
       "  Joint 5 l_arm_shz: parent=4\n",
       "  Joint 6 l_arm_shx: parent=5\n",
       "  Joint 7 l_arm_ely: parent=6\n",
       "  Joint 8 l_arm_elx: parent=7\n",
       "  Joint 9 l_arm_wry: parent=8\n",
       "  Joint 10 l_arm_wrx: parent=9\n",
       "  Joint 11 l_arm_wry2: parent=10\n",
       "  Joint 12 r_arm_shz: parent=4\n",
       "  Joint 13 r_arm_shx: parent=12\n",
       "  Joint 14 r_arm_ely: parent=13\n",
       "  Joint 15 r_arm_elx: parent=14\n",
       "  Joint 16 r_arm_wry: parent=15\n",
       "  Joint 17 r_arm_wrx: parent=16\n",
       "  Joint 18 r_arm_wry2: parent=17\n",
       "  Joint 19 l_leg_hpz: parent=1\n",
       "  Joint 20 l_leg_hpx: parent=19\n",
       "  Joint 21 l_leg_hpy: parent=20\n",
       "  Joint 22 l_leg_kny: parent=21\n",
       "  Joint 23 l_leg_aky: parent=22\n",
       "  Joint 24 l_leg_akx: parent=23\n",
       "  Joint 25 r_leg_hpz: parent=1\n",
       "  Joint 26 r_leg_hpx: parent=25\n",
       "  Joint 27 r_leg_hpy: parent=26\n",
       "  Joint 28 r_leg_kny: parent=27\n",
       "  Joint 29 r_leg_aky: parent=28\n",
       "  Joint 30 r_leg_akx: parent=29"
      ]
     },
     "execution_count": 9,
     "metadata": {},
     "output_type": "execute_result"
    }
   ],
   "source": [
    "rmodel"
   ]
  }
 ],
 "metadata": {
  "kernelspec": {
   "display_name": "Python 3 (ipykernel)",
   "language": "python",
   "name": "python3"
  },
  "language_info": {
   "codemirror_mode": {
    "name": "ipython",
    "version": 3
   },
   "file_extension": ".py",
   "mimetype": "text/x-python",
   "name": "python",
   "nbconvert_exporter": "python",
   "pygments_lexer": "ipython3",
   "version": "3.8.10"
  }
 },
 "nbformat": 4,
 "nbformat_minor": 5
}
