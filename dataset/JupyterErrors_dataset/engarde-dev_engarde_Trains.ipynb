{
 "cells": [
  {
   "cell_type": "markdown",
   "metadata": {},
   "source": [
    "We'll work with a data set of customer preferences on trains, available [here](http://vincentarelbundock.github.io/Rdatasets/doc/Ecdat/Train.html). This is a static\n",
    "dataset and isn't being updated, but you could imagine that each month the Dutch authorities\n",
    "upload a new month's worth of data."
   ]
  },
  {
   "cell_type": "markdown",
   "metadata": {},
   "source": [
    "We can start by making some very basic assertions, that the dataset is the correct shape, and that a few columns are the correct dtypes. Assertions are made as decorators to functions that return a DataFrame."
   ]
  },
  {
   "cell_type": "code",
   "execution_count": 5,
   "metadata": {
    "collapsed": false
   },
   "outputs": [],
   "source": [
    "import pandas as pd\n",
    "import engarde.decorators as ed\n",
    "\n",
    "pd.set_option('display.max_rows', 10)\n",
    "\n",
    "dtypes = dict(\n",
    "    price1=int,\n",
    "    price2=int,\n",
    "    time1=int,\n",
    "    time2=int,\n",
    "    change1=int,\n",
    "    change2=int,\n",
    "    comfort1=int,\n",
    "    comfort2=int\n",
    ")\n",
    "\n",
    "@ed.is_shape((-1, 11))\n",
    "@ed.has_dtypes(items=dtypes)\n",
    "def unload():\n",
    "    url = \"http://vincentarelbundock.github.io/Rdatasets/csv/Ecdat/Train.csv\"\n",
    "    trains = pd.read_csv(url, index_col=0)\n",
    "    return trains"
   ]
  },
  {
   "cell_type": "code",
   "execution_count": 6,
   "metadata": {
    "collapsed": false
   },
   "outputs": [
    {
     "data": {
      "text/html": [
       "<div>\n",
       "<table border=\"1\" class=\"dataframe\">\n",
       "  <thead>\n",
       "    <tr style=\"text-align: right;\">\n",
       "      <th></th>\n",
       "      <th>id</th>\n",
       "      <th>choiceid</th>\n",
       "      <th>choice</th>\n",
       "      <th>price1</th>\n",
       "      <th>time1</th>\n",
       "      <th>change1</th>\n",
       "      <th>comfort1</th>\n",
       "      <th>price2</th>\n",
       "      <th>time2</th>\n",
       "      <th>change2</th>\n",
       "      <th>comfort2</th>\n",
       "    </tr>\n",
       "  </thead>\n",
       "  <tbody>\n",
       "    <tr>\n",
       "      <th>1</th>\n",
       "      <td>1</td>\n",
       "      <td>1</td>\n",
       "      <td>choice1</td>\n",
       "      <td>2400</td>\n",
       "      <td>150</td>\n",
       "      <td>0</td>\n",
       "      <td>1</td>\n",
       "      <td>4000</td>\n",
       "      <td>150</td>\n",
       "      <td>0</td>\n",
       "      <td>1</td>\n",
       "    </tr>\n",
       "    <tr>\n",
       "      <th>2</th>\n",
       "      <td>1</td>\n",
       "      <td>2</td>\n",
       "      <td>choice1</td>\n",
       "      <td>2400</td>\n",
       "      <td>150</td>\n",
       "      <td>0</td>\n",
       "      <td>1</td>\n",
       "      <td>3200</td>\n",
       "      <td>130</td>\n",
       "      <td>0</td>\n",
       "      <td>1</td>\n",
       "    </tr>\n",
       "    <tr>\n",
       "      <th>3</th>\n",
       "      <td>1</td>\n",
       "      <td>3</td>\n",
       "      <td>choice1</td>\n",
       "      <td>2400</td>\n",
       "      <td>115</td>\n",
       "      <td>0</td>\n",
       "      <td>1</td>\n",
       "      <td>4000</td>\n",
       "      <td>115</td>\n",
       "      <td>0</td>\n",
       "      <td>0</td>\n",
       "    </tr>\n",
       "    <tr>\n",
       "      <th>4</th>\n",
       "      <td>1</td>\n",
       "      <td>4</td>\n",
       "      <td>choice2</td>\n",
       "      <td>4000</td>\n",
       "      <td>130</td>\n",
       "      <td>0</td>\n",
       "      <td>1</td>\n",
       "      <td>3200</td>\n",
       "      <td>150</td>\n",
       "      <td>0</td>\n",
       "      <td>0</td>\n",
       "    </tr>\n",
       "    <tr>\n",
       "      <th>5</th>\n",
       "      <td>1</td>\n",
       "      <td>5</td>\n",
       "      <td>choice2</td>\n",
       "      <td>2400</td>\n",
       "      <td>150</td>\n",
       "      <td>0</td>\n",
       "      <td>1</td>\n",
       "      <td>3200</td>\n",
       "      <td>150</td>\n",
       "      <td>0</td>\n",
       "      <td>0</td>\n",
       "    </tr>\n",
       "  </tbody>\n",
       "</table>\n",
       "</div>"
      ],
      "text/plain": [
       "   id  choiceid   choice  price1  time1  change1  comfort1  price2  time2  \\\n",
       "1   1         1  choice1    2400    150        0         1    4000    150   \n",
       "2   1         2  choice1    2400    150        0         1    3200    130   \n",
       "3   1         3  choice1    2400    115        0         1    4000    115   \n",
       "4   1         4  choice2    4000    130        0         1    3200    150   \n",
       "5   1         5  choice2    2400    150        0         1    3200    150   \n",
       "\n",
       "   change2  comfort2  \n",
       "1        0         1  \n",
       "2        0         1  \n",
       "3        0         0  \n",
       "4        0         0  \n",
       "5        0         0  "
      ]
     },
     "execution_count": 6,
     "metadata": {},
     "output_type": "execute_result"
    }
   ],
   "source": [
    "df = unload()\n",
    "df.head()"
   ]
  },
  {
   "cell_type": "markdown",
   "metadata": {},
   "source": [
    "Notice two things: we only specified the dtypes for some of the columns, and we don't care about the length of the DataFrame (just its width), so we passed -1 for the first dimension of the shape."
   ]
  },
  {
   "cell_type": "markdown",
   "metadata": {},
   "source": [
    "Since people are rational, their first choice is surely going to be better in *at least* one way than their second choice. This is fundamental to our analysis later on, so we'll explicilty state it in our code, and check it in our data."
   ]
  },
  {
   "cell_type": "code",
   "execution_count": 7,
   "metadata": {
    "collapsed": false
   },
   "outputs": [],
   "source": [
    "def rational(df):\n",
    "    \"\"\"\n",
    "    Check that at least one criteria is better.\n",
    "    \"\"\"\n",
    "    r = ((df.price1 < df.price2) | (df.time1 < df.time2) |\n",
    "         (df.change1 < df.change2) | (df.comfort1 > df.comfort2))\n",
    "    return r\n",
    "\n",
    "@ed.is_shape((-1, 11))\n",
    "@ed.has_dtypes(items=dtypes)\n",
    "@ed.verify_all(rational)\n",
    "def unload():\n",
    "    url = \"http://vincentarelbundock.github.io/Rdatasets/csv/Ecdat/Train.csv\"\n",
    "    trains = pd.read_csv(url, index_col=0)\n",
    "    return trains"
   ]
  },
  {
   "cell_type": "code",
   "execution_count": 8,
   "metadata": {
    "collapsed": false
   },
   "outputs": [
    {
     "ename": "AssertionError",
     "evalue": "('rational not true for all',        id  choiceid   choice  price1  time1  change1  comfort1  price2  time2  \\\n13      2         3  choice2    2450    121        0         0    2450     93   \n18      2         8  choice2    2975    108        0         0    2450    108   \n27      3         6  choice2    1920    106        0         0    1440     96   \n28      3         7  choice1    1920    106        0         0    1920     96   \n33      4         1  choice2     545    105        1         1     545     85   \n...   ...       ...      ...     ...    ...      ...       ...     ...    ...   \n2899  233        10  choice1    1350    110        0         0    1350     95   \n2900  234         1  choice2    4400     85        1         1    3300     85   \n2907  234         8  choice2    3300     95        1         0    3300     85   \n2914  235         1  choice2    3000     75        2         1    3000     65   \n2916  235         3  choice2    2550     75        1         0    2100     55   \n\n      change2  comfort2  \n13          0         1  \n18          0         1  \n27          0         1  \n28          0         1  \n33          1         1  \n...       ...       ...  \n2899        0         1  \n2900        0         1  \n2907        0         1  \n2914        1         1  \n2916        1         1  \n\n[467 rows x 11 columns])",
     "output_type": "error",
     "traceback": [
      "\u001b[0;31m---------------------------------------------------------------------------\u001b[0m",
      "\u001b[0;31mAssertionError\u001b[0m                            Traceback (most recent call last)",
      "\u001b[0;32m<ipython-input-8-b108f050ce4e>\u001b[0m in \u001b[0;36m<module>\u001b[0;34m()\u001b[0m\n\u001b[0;32m----> 1\u001b[0;31m \u001b[0mdf\u001b[0m \u001b[0;34m=\u001b[0m \u001b[0munload\u001b[0m\u001b[0;34m(\u001b[0m\u001b[0;34m)\u001b[0m\u001b[0;34m\u001b[0m\u001b[0m\n\u001b[0m",
      "\u001b[0;32m/Users/tom.augspurger/sandbox/engarde/engarde/decorators.py\u001b[0m in \u001b[0;36mwrapper\u001b[0;34m(*args, **kwargs)\u001b[0m\n\u001b[1;32m     22\u001b[0m         \u001b[0;34m@\u001b[0m\u001b[0mwraps\u001b[0m\u001b[0;34m(\u001b[0m\u001b[0mfunc\u001b[0m\u001b[0;34m)\u001b[0m\u001b[0;34m\u001b[0m\u001b[0m\n\u001b[1;32m     23\u001b[0m         \u001b[0;32mdef\u001b[0m \u001b[0mwrapper\u001b[0m\u001b[0;34m(\u001b[0m\u001b[0;34m*\u001b[0m\u001b[0margs\u001b[0m\u001b[0;34m,\u001b[0m \u001b[0;34m**\u001b[0m\u001b[0mkwargs\u001b[0m\u001b[0;34m)\u001b[0m\u001b[0;34m:\u001b[0m\u001b[0;34m\u001b[0m\u001b[0m\n\u001b[0;32m---> 24\u001b[0;31m             \u001b[0mresult\u001b[0m \u001b[0;34m=\u001b[0m \u001b[0mfunc\u001b[0m\u001b[0;34m(\u001b[0m\u001b[0;34m*\u001b[0m\u001b[0margs\u001b[0m\u001b[0;34m,\u001b[0m \u001b[0;34m**\u001b[0m\u001b[0mkwargs\u001b[0m\u001b[0;34m)\u001b[0m\u001b[0;34m\u001b[0m\u001b[0m\n\u001b[0m\u001b[1;32m     25\u001b[0m             \u001b[0mck\u001b[0m\u001b[0;34m.\u001b[0m\u001b[0mis_shape\u001b[0m\u001b[0;34m(\u001b[0m\u001b[0mresult\u001b[0m\u001b[0;34m,\u001b[0m \u001b[0mshape\u001b[0m\u001b[0;34m)\u001b[0m\u001b[0;34m\u001b[0m\u001b[0m\n\u001b[1;32m     26\u001b[0m             \u001b[0;32mreturn\u001b[0m \u001b[0mresult\u001b[0m\u001b[0;34m\u001b[0m\u001b[0m\n",
      "\u001b[0;32m/Users/tom.augspurger/sandbox/engarde/engarde/decorators.py\u001b[0m in \u001b[0;36mwrapper\u001b[0;34m(*args, **kwargs)\u001b[0m\n\u001b[1;32m    115\u001b[0m         \u001b[0;34m@\u001b[0m\u001b[0mwraps\u001b[0m\u001b[0;34m(\u001b[0m\u001b[0mfunc\u001b[0m\u001b[0;34m)\u001b[0m\u001b[0;34m\u001b[0m\u001b[0m\n\u001b[1;32m    116\u001b[0m         \u001b[0;32mdef\u001b[0m \u001b[0mwrapper\u001b[0m\u001b[0;34m(\u001b[0m\u001b[0;34m*\u001b[0m\u001b[0margs\u001b[0m\u001b[0;34m,\u001b[0m \u001b[0;34m**\u001b[0m\u001b[0mkwargs\u001b[0m\u001b[0;34m)\u001b[0m\u001b[0;34m:\u001b[0m\u001b[0;34m\u001b[0m\u001b[0m\n\u001b[0;32m--> 117\u001b[0;31m             \u001b[0mresult\u001b[0m \u001b[0;34m=\u001b[0m \u001b[0mfunc\u001b[0m\u001b[0;34m(\u001b[0m\u001b[0;34m*\u001b[0m\u001b[0margs\u001b[0m\u001b[0;34m,\u001b[0m \u001b[0;34m**\u001b[0m\u001b[0mkwargs\u001b[0m\u001b[0;34m)\u001b[0m\u001b[0;34m\u001b[0m\u001b[0m\n\u001b[0m\u001b[1;32m    118\u001b[0m             \u001b[0mck\u001b[0m\u001b[0;34m.\u001b[0m\u001b[0mhas_dtypes\u001b[0m\u001b[0;34m(\u001b[0m\u001b[0mresult\u001b[0m\u001b[0;34m,\u001b[0m \u001b[0mitems\u001b[0m\u001b[0;34m)\u001b[0m\u001b[0;34m\u001b[0m\u001b[0m\n\u001b[1;32m    119\u001b[0m             \u001b[0;32mreturn\u001b[0m \u001b[0mresult\u001b[0m\u001b[0;34m\u001b[0m\u001b[0m\n",
      "\u001b[0;32m/Users/tom.augspurger/sandbox/engarde/engarde/decorators.py\u001b[0m in \u001b[0;36mwrapper\u001b[0;34m(*operation_args, **operation_kwargs)\u001b[0m\n\u001b[1;32m    147\u001b[0m         \u001b[0;32mdef\u001b[0m \u001b[0mwrapper\u001b[0m\u001b[0;34m(\u001b[0m\u001b[0;34m*\u001b[0m\u001b[0moperation_args\u001b[0m\u001b[0;34m,\u001b[0m \u001b[0;34m**\u001b[0m\u001b[0moperation_kwargs\u001b[0m\u001b[0;34m)\u001b[0m\u001b[0;34m:\u001b[0m\u001b[0;34m\u001b[0m\u001b[0m\n\u001b[1;32m    148\u001b[0m             \u001b[0mresult\u001b[0m \u001b[0;34m=\u001b[0m \u001b[0moperation_func\u001b[0m\u001b[0;34m(\u001b[0m\u001b[0;34m*\u001b[0m\u001b[0moperation_args\u001b[0m\u001b[0;34m,\u001b[0m \u001b[0;34m**\u001b[0m\u001b[0moperation_kwargs\u001b[0m\u001b[0;34m)\u001b[0m\u001b[0;34m\u001b[0m\u001b[0m\n\u001b[0;32m--> 149\u001b[0;31m             \u001b[0mvfunc\u001b[0m\u001b[0;34m(\u001b[0m\u001b[0mresult\u001b[0m\u001b[0;34m,\u001b[0m \u001b[0mfunc\u001b[0m\u001b[0;34m,\u001b[0m \u001b[0;34m*\u001b[0m\u001b[0margs\u001b[0m\u001b[0;34m,\u001b[0m \u001b[0;34m**\u001b[0m\u001b[0mkwargs\u001b[0m\u001b[0;34m)\u001b[0m\u001b[0;34m\u001b[0m\u001b[0m\n\u001b[0m\u001b[1;32m    150\u001b[0m             \u001b[0;32mreturn\u001b[0m \u001b[0mresult\u001b[0m\u001b[0;34m\u001b[0m\u001b[0m\n\u001b[1;32m    151\u001b[0m         \u001b[0;32mreturn\u001b[0m \u001b[0mwrapper\u001b[0m\u001b[0;34m\u001b[0m\u001b[0m\n",
      "\u001b[0;32m/Users/tom.augspurger/sandbox/engarde/engarde/generic.py\u001b[0m in \u001b[0;36mverify_all\u001b[0;34m(df, check, *args, **kwargs)\u001b[0m\n\u001b[1;32m     40\u001b[0m     \u001b[0mresult\u001b[0m \u001b[0;34m=\u001b[0m \u001b[0mcheck\u001b[0m\u001b[0;34m(\u001b[0m\u001b[0mdf\u001b[0m\u001b[0;34m,\u001b[0m \u001b[0;34m*\u001b[0m\u001b[0margs\u001b[0m\u001b[0;34m,\u001b[0m \u001b[0;34m**\u001b[0m\u001b[0mkwargs\u001b[0m\u001b[0;34m)\u001b[0m\u001b[0;34m\u001b[0m\u001b[0m\n\u001b[1;32m     41\u001b[0m     \u001b[0;32mtry\u001b[0m\u001b[0;34m:\u001b[0m\u001b[0;34m\u001b[0m\u001b[0m\n\u001b[0;32m---> 42\u001b[0;31m         \u001b[0;32massert\u001b[0m \u001b[0mnp\u001b[0m\u001b[0;34m.\u001b[0m\u001b[0mall\u001b[0m\u001b[0;34m(\u001b[0m\u001b[0mresult\u001b[0m\u001b[0;34m)\u001b[0m\u001b[0;34m\u001b[0m\u001b[0m\n\u001b[0m\u001b[1;32m     43\u001b[0m     \u001b[0;32mexcept\u001b[0m \u001b[0mAssertionError\u001b[0m \u001b[0;32mas\u001b[0m \u001b[0me\u001b[0m\u001b[0;34m:\u001b[0m\u001b[0;34m\u001b[0m\u001b[0m\n\u001b[1;32m     44\u001b[0m         \u001b[0mmsg\u001b[0m \u001b[0;34m=\u001b[0m \u001b[0;34m\"{} not true for all\"\u001b[0m\u001b[0;34m.\u001b[0m\u001b[0mformat\u001b[0m\u001b[0;34m(\u001b[0m\u001b[0mcheck\u001b[0m\u001b[0;34m.\u001b[0m\u001b[0m__name__\u001b[0m\u001b[0;34m)\u001b[0m\u001b[0;34m\u001b[0m\u001b[0m\n",
      "\u001b[0;31mAssertionError\u001b[0m: ('rational not true for all',        id  choiceid   choice  price1  time1  change1  comfort1  price2  time2  \\\n13      2         3  choice2    2450    121        0         0    2450     93   \n18      2         8  choice2    2975    108        0         0    2450    108   \n27      3         6  choice2    1920    106        0         0    1440     96   \n28      3         7  choice1    1920    106        0         0    1920     96   \n33      4         1  choice2     545    105        1         1     545     85   \n...   ...       ...      ...     ...    ...      ...       ...     ...    ...   \n2899  233        10  choice1    1350    110        0         0    1350     95   \n2900  234         1  choice2    4400     85        1         1    3300     85   \n2907  234         8  choice2    3300     95        1         0    3300     85   \n2914  235         1  choice2    3000     75        2         1    3000     65   \n2916  235         3  choice2    2550     75        1         0    2100     55   \n\n      change2  comfort2  \n13          0         1  \n18          0         1  \n27          0         1  \n28          0         1  \n33          1         1  \n...       ...       ...  \n2899        0         1  \n2900        0         1  \n2907        0         1  \n2914        1         1  \n2916        1         1  \n\n[467 rows x 11 columns])"
     ]
    }
   ],
   "source": [
    "df = unload()"
   ]
  },
  {
   "cell_type": "markdown",
   "metadata": {},
   "source": [
    "OK, so apparently people aren't rational... We'll fix this problem by ignoring those people (why change your mind when you can change the data?)."
   ]
  },
  {
   "cell_type": "code",
   "execution_count": 11,
   "metadata": {
    "collapsed": true
   },
   "outputs": [],
   "source": [
    "@ed.verify_all(rational)\n",
    "def drop_silly_people(df):\n",
    "    r = ((df.price1 < df.price2) | (df.time1 < df.time2) |\n",
    "         (df.change1 < df.change2) | (df.comfort1 > df.comfort2))\n",
    "    return df[r]\n",
    "\n",
    "\n",
    "@ed.is_shape((-1, 11))\n",
    "@ed.has_dtypes(items=dtypes)\n",
    "def unload():\n",
    "    url = \"http://vincentarelbundock.github.io/Rdatasets/csv/Ecdat/Train.csv\"\n",
    "    trains = pd.read_csv(url, index_col=0)\n",
    "    return trains\n",
    "\n",
    "def main():\n",
    "    df = (unload()\n",
    "          .pipe(drop_silly_people)\n",
    "          )\n",
    "    return df"
   ]
  },
  {
   "cell_type": "code",
   "execution_count": 12,
   "metadata": {
    "collapsed": false
   },
   "outputs": [],
   "source": [
    "df = main()"
   ]
  },
  {
   "cell_type": "markdown",
   "metadata": {},
   "source": [
    "There's a couple things to notice here. The checks are always performed on the *result* of a function. That's why our `ed.verify_all(rational)` works now. I also like how the assertions don't clutter the logic of the code."
   ]
  }
 ],
 "metadata": {
  "kernelspec": {
   "display_name": "Python 3",
   "language": "python",
   "name": "python3"
  },
  "language_info": {
   "codemirror_mode": {
    "name": "ipython",
    "version": 3
   },
   "file_extension": ".py",
   "mimetype": "text/x-python",
   "name": "python",
   "nbconvert_exporter": "python",
   "pygments_lexer": "ipython3",
   "version": "3.4.3"
  }
 },
 "nbformat": 4,
 "nbformat_minor": 0
}
