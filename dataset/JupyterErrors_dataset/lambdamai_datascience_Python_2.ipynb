{
 "cells": [
  {
   "cell_type": "code",
   "execution_count": 1,
   "id": "7ee94e12",
   "metadata": {},
   "outputs": [],
   "source": [
    "import pandas as pd"
   ]
  },
  {
   "cell_type": "code",
   "execution_count": 2,
   "id": "78e6ca9b",
   "metadata": {},
   "outputs": [],
   "source": [
    "carriers = pd.read_csv('dot-airline-on-time-performance-statistics/Air Carriers')"
   ]
  },
  {
   "cell_type": "code",
   "execution_count": 3,
   "id": "1cec7910",
   "metadata": {},
   "outputs": [
    {
     "data": {
      "text/html": [
       "<div>\n",
       "<style scoped>\n",
       "    .dataframe tbody tr th:only-of-type {\n",
       "        vertical-align: middle;\n",
       "    }\n",
       "\n",
       "    .dataframe tbody tr th {\n",
       "        vertical-align: top;\n",
       "    }\n",
       "\n",
       "    .dataframe thead th {\n",
       "        text-align: right;\n",
       "    }\n",
       "</style>\n",
       "<table border=\"1\" class=\"dataframe\">\n",
       "  <thead>\n",
       "    <tr style=\"text-align: right;\">\n",
       "      <th></th>\n",
       "      <th>Code</th>\n",
       "      <th>Description</th>\n",
       "    </tr>\n",
       "  </thead>\n",
       "  <tbody>\n",
       "    <tr>\n",
       "      <th>0</th>\n",
       "      <td>19031</td>\n",
       "      <td>Mackey International Inc.: MAC</td>\n",
       "    </tr>\n",
       "    <tr>\n",
       "      <th>1</th>\n",
       "      <td>19032</td>\n",
       "      <td>Munz Northern Airlines Inc.: XY</td>\n",
       "    </tr>\n",
       "    <tr>\n",
       "      <th>2</th>\n",
       "      <td>19033</td>\n",
       "      <td>Cochise Airlines Inc.: COC</td>\n",
       "    </tr>\n",
       "    <tr>\n",
       "      <th>3</th>\n",
       "      <td>19034</td>\n",
       "      <td>Golden Gate Airlines Inc.: GSA</td>\n",
       "    </tr>\n",
       "    <tr>\n",
       "      <th>4</th>\n",
       "      <td>19035</td>\n",
       "      <td>Aeromech Inc.: RZZ</td>\n",
       "    </tr>\n",
       "    <tr>\n",
       "      <th>...</th>\n",
       "      <td>...</td>\n",
       "      <td>...</td>\n",
       "    </tr>\n",
       "    <tr>\n",
       "      <th>1651</th>\n",
       "      <td>21985</td>\n",
       "      <td>European Air Transport Leipzig GmbH: QY</td>\n",
       "    </tr>\n",
       "    <tr>\n",
       "      <th>1652</th>\n",
       "      <td>21995</td>\n",
       "      <td>Luxaviation Germany GmbH: LXQ</td>\n",
       "    </tr>\n",
       "    <tr>\n",
       "      <th>1653</th>\n",
       "      <td>22001</td>\n",
       "      <td>Vuela Aviacion, S.A.: Q6</td>\n",
       "    </tr>\n",
       "    <tr>\n",
       "      <th>1654</th>\n",
       "      <td>22002</td>\n",
       "      <td>OPENSKIES SAS: LV</td>\n",
       "    </tr>\n",
       "    <tr>\n",
       "      <th>1655</th>\n",
       "      <td>22005</td>\n",
       "      <td>Aviateca, S.A.: 3GQ</td>\n",
       "    </tr>\n",
       "  </tbody>\n",
       "</table>\n",
       "<p>1656 rows × 2 columns</p>\n",
       "</div>"
      ],
      "text/plain": [
       "       Code                              Description\n",
       "0     19031           Mackey International Inc.: MAC\n",
       "1     19032          Munz Northern Airlines Inc.: XY\n",
       "2     19033               Cochise Airlines Inc.: COC\n",
       "3     19034           Golden Gate Airlines Inc.: GSA\n",
       "4     19035                       Aeromech Inc.: RZZ\n",
       "...     ...                                      ...\n",
       "1651  21985  European Air Transport Leipzig GmbH: QY\n",
       "1652  21995            Luxaviation Germany GmbH: LXQ\n",
       "1653  22001                 Vuela Aviacion, S.A.: Q6\n",
       "1654  22002                        OPENSKIES SAS: LV\n",
       "1655  22005                      Aviateca, S.A.: 3GQ\n",
       "\n",
       "[1656 rows x 2 columns]"
      ]
     },
     "execution_count": 3,
     "metadata": {},
     "output_type": "execute_result"
    }
   ],
   "source": [
    "carriers"
   ]
  },
  {
   "cell_type": "code",
   "execution_count": 4,
   "id": "05bfe9a6",
   "metadata": {},
   "outputs": [
    {
     "data": {
      "text/plain": [
       "1656"
      ]
     },
     "execution_count": 4,
     "metadata": {},
     "output_type": "execute_result"
    }
   ],
   "source": [
    "len(carriers['Code'].unique())"
   ]
  },
  {
   "cell_type": "code",
   "execution_count": 5,
   "id": "c35598d4",
   "metadata": {},
   "outputs": [],
   "source": [
    "airports = pd.read_csv('dot-airline-on-time-performance-statistics/Airports')"
   ]
  },
  {
   "cell_type": "code",
   "execution_count": 6,
   "id": "6d24b5e6",
   "metadata": {},
   "outputs": [
    {
     "data": {
      "text/html": [
       "<div>\n",
       "<style scoped>\n",
       "    .dataframe tbody tr th:only-of-type {\n",
       "        vertical-align: middle;\n",
       "    }\n",
       "\n",
       "    .dataframe tbody tr th {\n",
       "        vertical-align: top;\n",
       "    }\n",
       "\n",
       "    .dataframe thead th {\n",
       "        text-align: right;\n",
       "    }\n",
       "</style>\n",
       "<table border=\"1\" class=\"dataframe\">\n",
       "  <thead>\n",
       "    <tr style=\"text-align: right;\">\n",
       "      <th></th>\n",
       "      <th>Code</th>\n",
       "      <th>Description</th>\n",
       "    </tr>\n",
       "  </thead>\n",
       "  <tbody>\n",
       "    <tr>\n",
       "      <th>0</th>\n",
       "      <td>01A</td>\n",
       "      <td>Afognak Lake, AK: Afognak Lake Airport</td>\n",
       "    </tr>\n",
       "    <tr>\n",
       "      <th>1</th>\n",
       "      <td>03A</td>\n",
       "      <td>Granite Mountain, AK: Bear Creek Mining Strip</td>\n",
       "    </tr>\n",
       "    <tr>\n",
       "      <th>2</th>\n",
       "      <td>04A</td>\n",
       "      <td>Lik, AK: Lik Mining Camp</td>\n",
       "    </tr>\n",
       "    <tr>\n",
       "      <th>3</th>\n",
       "      <td>05A</td>\n",
       "      <td>Little Squaw, AK: Little Squaw Airport</td>\n",
       "    </tr>\n",
       "    <tr>\n",
       "      <th>4</th>\n",
       "      <td>06A</td>\n",
       "      <td>Kizhuyak, AK: Kizhuyak Bay</td>\n",
       "    </tr>\n",
       "    <tr>\n",
       "      <th>...</th>\n",
       "      <td>...</td>\n",
       "      <td>...</td>\n",
       "    </tr>\n",
       "    <tr>\n",
       "      <th>6505</th>\n",
       "      <td>ZXZ</td>\n",
       "      <td>Waterville, WA: Waterville Airport</td>\n",
       "    </tr>\n",
       "    <tr>\n",
       "      <th>6506</th>\n",
       "      <td>ZYL</td>\n",
       "      <td>Sylhet, Bangladesh: Savannakhet</td>\n",
       "    </tr>\n",
       "    <tr>\n",
       "      <th>6507</th>\n",
       "      <td>ZZU</td>\n",
       "      <td>Mzuzu, Malawi: Mzuzu Airport</td>\n",
       "    </tr>\n",
       "    <tr>\n",
       "      <th>6508</th>\n",
       "      <td>ZZV</td>\n",
       "      <td>Zanesville, OH: Zanesville Municipal</td>\n",
       "    </tr>\n",
       "    <tr>\n",
       "      <th>6509</th>\n",
       "      <td>ZZZ</td>\n",
       "      <td>Unknown Point in Alaska</td>\n",
       "    </tr>\n",
       "  </tbody>\n",
       "</table>\n",
       "<p>6510 rows × 2 columns</p>\n",
       "</div>"
      ],
      "text/plain": [
       "     Code                                    Description\n",
       "0     01A         Afognak Lake, AK: Afognak Lake Airport\n",
       "1     03A  Granite Mountain, AK: Bear Creek Mining Strip\n",
       "2     04A                       Lik, AK: Lik Mining Camp\n",
       "3     05A         Little Squaw, AK: Little Squaw Airport\n",
       "4     06A                     Kizhuyak, AK: Kizhuyak Bay\n",
       "...   ...                                            ...\n",
       "6505  ZXZ             Waterville, WA: Waterville Airport\n",
       "6506  ZYL                Sylhet, Bangladesh: Savannakhet\n",
       "6507  ZZU                   Mzuzu, Malawi: Mzuzu Airport\n",
       "6508  ZZV           Zanesville, OH: Zanesville Municipal\n",
       "6509  ZZZ                        Unknown Point in Alaska\n",
       "\n",
       "[6510 rows x 2 columns]"
      ]
     },
     "execution_count": 6,
     "metadata": {},
     "output_type": "execute_result"
    }
   ],
   "source": [
    "airports"
   ]
  },
  {
   "cell_type": "code",
   "execution_count": 7,
   "id": "08116e49",
   "metadata": {},
   "outputs": [],
   "source": [
    "stats = pd.read_csv('dot-airline-on-time-performance-statistics/August 2018 Nationwide.csv')"
   ]
  },
  {
   "cell_type": "code",
   "execution_count": 8,
   "id": "65afa2d4",
   "metadata": {},
   "outputs": [
    {
     "data": {
      "text/html": [
       "<div>\n",
       "<style scoped>\n",
       "    .dataframe tbody tr th:only-of-type {\n",
       "        vertical-align: middle;\n",
       "    }\n",
       "\n",
       "    .dataframe tbody tr th {\n",
       "        vertical-align: top;\n",
       "    }\n",
       "\n",
       "    .dataframe thead th {\n",
       "        text-align: right;\n",
       "    }\n",
       "</style>\n",
       "<table border=\"1\" class=\"dataframe\">\n",
       "  <thead>\n",
       "    <tr style=\"text-align: right;\">\n",
       "      <th></th>\n",
       "      <th>FL_DATE</th>\n",
       "      <th>OP_CARRIER_AIRLINE_ID</th>\n",
       "      <th>TAIL_NUM</th>\n",
       "      <th>OP_CARRIER_FL_NUM</th>\n",
       "      <th>ORIGIN_AIRPORT_ID</th>\n",
       "      <th>ORIGIN_AIRPORT_SEQ_ID</th>\n",
       "      <th>ORIGIN_CITY_MARKET_ID</th>\n",
       "      <th>ORIGIN</th>\n",
       "      <th>DEST_AIRPORT_ID</th>\n",
       "      <th>DEST_AIRPORT_SEQ_ID</th>\n",
       "      <th>...</th>\n",
       "      <th>CANCELLED</th>\n",
       "      <th>CANCELLATION_CODE</th>\n",
       "      <th>CRS_ELAPSED_TIME</th>\n",
       "      <th>ACTUAL_ELAPSED_TIME</th>\n",
       "      <th>CARRIER_DELAY</th>\n",
       "      <th>WEATHER_DELAY</th>\n",
       "      <th>NAS_DELAY</th>\n",
       "      <th>SECURITY_DELAY</th>\n",
       "      <th>LATE_AIRCRAFT_DELAY</th>\n",
       "      <th>Unnamed: 28</th>\n",
       "    </tr>\n",
       "  </thead>\n",
       "  <tbody>\n",
       "    <tr>\n",
       "      <th>0</th>\n",
       "      <td>2018-08-01</td>\n",
       "      <td>19805</td>\n",
       "      <td>N956AN</td>\n",
       "      <td>1587</td>\n",
       "      <td>12478</td>\n",
       "      <td>1247805</td>\n",
       "      <td>31703</td>\n",
       "      <td>JFK</td>\n",
       "      <td>14107</td>\n",
       "      <td>1410702</td>\n",
       "      <td>...</td>\n",
       "      <td>0.0</td>\n",
       "      <td>NaN</td>\n",
       "      <td>342.0</td>\n",
       "      <td>377.0</td>\n",
       "      <td>9.0</td>\n",
       "      <td>0.0</td>\n",
       "      <td>35.0</td>\n",
       "      <td>0.0</td>\n",
       "      <td>0.0</td>\n",
       "      <td>NaN</td>\n",
       "    </tr>\n",
       "    <tr>\n",
       "      <th>1</th>\n",
       "      <td>2018-08-01</td>\n",
       "      <td>19805</td>\n",
       "      <td>N973AN</td>\n",
       "      <td>1588</td>\n",
       "      <td>14107</td>\n",
       "      <td>1410702</td>\n",
       "      <td>30466</td>\n",
       "      <td>PHX</td>\n",
       "      <td>11618</td>\n",
       "      <td>1161802</td>\n",
       "      <td>...</td>\n",
       "      <td>0.0</td>\n",
       "      <td>NaN</td>\n",
       "      <td>285.0</td>\n",
       "      <td>309.0</td>\n",
       "      <td>0.0</td>\n",
       "      <td>0.0</td>\n",
       "      <td>53.0</td>\n",
       "      <td>0.0</td>\n",
       "      <td>0.0</td>\n",
       "      <td>NaN</td>\n",
       "    </tr>\n",
       "    <tr>\n",
       "      <th>2</th>\n",
       "      <td>2018-08-01</td>\n",
       "      <td>19805</td>\n",
       "      <td>N9006</td>\n",
       "      <td>1590</td>\n",
       "      <td>11042</td>\n",
       "      <td>1104205</td>\n",
       "      <td>30647</td>\n",
       "      <td>CLE</td>\n",
       "      <td>11298</td>\n",
       "      <td>1129806</td>\n",
       "      <td>...</td>\n",
       "      <td>0.0</td>\n",
       "      <td>NaN</td>\n",
       "      <td>176.0</td>\n",
       "      <td>177.0</td>\n",
       "      <td>NaN</td>\n",
       "      <td>NaN</td>\n",
       "      <td>NaN</td>\n",
       "      <td>NaN</td>\n",
       "      <td>NaN</td>\n",
       "      <td>NaN</td>\n",
       "    </tr>\n",
       "    <tr>\n",
       "      <th>3</th>\n",
       "      <td>2018-08-01</td>\n",
       "      <td>19805</td>\n",
       "      <td>N870NN</td>\n",
       "      <td>1591</td>\n",
       "      <td>14843</td>\n",
       "      <td>1484306</td>\n",
       "      <td>34819</td>\n",
       "      <td>SJU</td>\n",
       "      <td>11298</td>\n",
       "      <td>1129806</td>\n",
       "      <td>...</td>\n",
       "      <td>0.0</td>\n",
       "      <td>NaN</td>\n",
       "      <td>304.0</td>\n",
       "      <td>303.0</td>\n",
       "      <td>43.0</td>\n",
       "      <td>0.0</td>\n",
       "      <td>0.0</td>\n",
       "      <td>0.0</td>\n",
       "      <td>0.0</td>\n",
       "      <td>NaN</td>\n",
       "    </tr>\n",
       "    <tr>\n",
       "      <th>4</th>\n",
       "      <td>2018-08-01</td>\n",
       "      <td>19805</td>\n",
       "      <td>N9023N</td>\n",
       "      <td>1593</td>\n",
       "      <td>10423</td>\n",
       "      <td>1042302</td>\n",
       "      <td>30423</td>\n",
       "      <td>AUS</td>\n",
       "      <td>13303</td>\n",
       "      <td>1330303</td>\n",
       "      <td>...</td>\n",
       "      <td>0.0</td>\n",
       "      <td>NaN</td>\n",
       "      <td>173.0</td>\n",
       "      <td>175.0</td>\n",
       "      <td>NaN</td>\n",
       "      <td>NaN</td>\n",
       "      <td>NaN</td>\n",
       "      <td>NaN</td>\n",
       "      <td>NaN</td>\n",
       "      <td>NaN</td>\n",
       "    </tr>\n",
       "    <tr>\n",
       "      <th>...</th>\n",
       "      <td>...</td>\n",
       "      <td>...</td>\n",
       "      <td>...</td>\n",
       "      <td>...</td>\n",
       "      <td>...</td>\n",
       "      <td>...</td>\n",
       "      <td>...</td>\n",
       "      <td>...</td>\n",
       "      <td>...</td>\n",
       "      <td>...</td>\n",
       "      <td>...</td>\n",
       "      <td>...</td>\n",
       "      <td>...</td>\n",
       "      <td>...</td>\n",
       "      <td>...</td>\n",
       "      <td>...</td>\n",
       "      <td>...</td>\n",
       "      <td>...</td>\n",
       "      <td>...</td>\n",
       "      <td>...</td>\n",
       "      <td>...</td>\n",
       "    </tr>\n",
       "    <tr>\n",
       "      <th>701347</th>\n",
       "      <td>2018-08-31</td>\n",
       "      <td>19805</td>\n",
       "      <td>N971AN</td>\n",
       "      <td>2357</td>\n",
       "      <td>14869</td>\n",
       "      <td>1486903</td>\n",
       "      <td>34614</td>\n",
       "      <td>SLC</td>\n",
       "      <td>11298</td>\n",
       "      <td>1129806</td>\n",
       "      <td>...</td>\n",
       "      <td>0.0</td>\n",
       "      <td>NaN</td>\n",
       "      <td>161.0</td>\n",
       "      <td>150.0</td>\n",
       "      <td>NaN</td>\n",
       "      <td>NaN</td>\n",
       "      <td>NaN</td>\n",
       "      <td>NaN</td>\n",
       "      <td>NaN</td>\n",
       "      <td>NaN</td>\n",
       "    </tr>\n",
       "    <tr>\n",
       "      <th>701348</th>\n",
       "      <td>2018-08-31</td>\n",
       "      <td>19805</td>\n",
       "      <td>N936AN</td>\n",
       "      <td>2358</td>\n",
       "      <td>15376</td>\n",
       "      <td>1537603</td>\n",
       "      <td>30436</td>\n",
       "      <td>TUS</td>\n",
       "      <td>13930</td>\n",
       "      <td>1393006</td>\n",
       "      <td>...</td>\n",
       "      <td>0.0</td>\n",
       "      <td>NaN</td>\n",
       "      <td>204.0</td>\n",
       "      <td>226.0</td>\n",
       "      <td>NaN</td>\n",
       "      <td>NaN</td>\n",
       "      <td>NaN</td>\n",
       "      <td>NaN</td>\n",
       "      <td>NaN</td>\n",
       "      <td>NaN</td>\n",
       "    </tr>\n",
       "    <tr>\n",
       "      <th>701349</th>\n",
       "      <td>2018-08-31</td>\n",
       "      <td>19805</td>\n",
       "      <td>N831AA</td>\n",
       "      <td>2360</td>\n",
       "      <td>11298</td>\n",
       "      <td>1129806</td>\n",
       "      <td>30194</td>\n",
       "      <td>DFW</td>\n",
       "      <td>12892</td>\n",
       "      <td>1289208</td>\n",
       "      <td>...</td>\n",
       "      <td>0.0</td>\n",
       "      <td>NaN</td>\n",
       "      <td>198.0</td>\n",
       "      <td>182.0</td>\n",
       "      <td>NaN</td>\n",
       "      <td>NaN</td>\n",
       "      <td>NaN</td>\n",
       "      <td>NaN</td>\n",
       "      <td>NaN</td>\n",
       "      <td>NaN</td>\n",
       "    </tr>\n",
       "    <tr>\n",
       "      <th>701350</th>\n",
       "      <td>2018-08-31</td>\n",
       "      <td>19805</td>\n",
       "      <td>N952NN</td>\n",
       "      <td>2361</td>\n",
       "      <td>12892</td>\n",
       "      <td>1289208</td>\n",
       "      <td>32575</td>\n",
       "      <td>LAX</td>\n",
       "      <td>13204</td>\n",
       "      <td>1320402</td>\n",
       "      <td>...</td>\n",
       "      <td>0.0</td>\n",
       "      <td>NaN</td>\n",
       "      <td>307.0</td>\n",
       "      <td>304.0</td>\n",
       "      <td>NaN</td>\n",
       "      <td>NaN</td>\n",
       "      <td>NaN</td>\n",
       "      <td>NaN</td>\n",
       "      <td>NaN</td>\n",
       "      <td>NaN</td>\n",
       "    </tr>\n",
       "    <tr>\n",
       "      <th>701351</th>\n",
       "      <td>2018-08-31</td>\n",
       "      <td>19805</td>\n",
       "      <td>N839NN</td>\n",
       "      <td>2362</td>\n",
       "      <td>13303</td>\n",
       "      <td>1330303</td>\n",
       "      <td>32467</td>\n",
       "      <td>MIA</td>\n",
       "      <td>11278</td>\n",
       "      <td>1127805</td>\n",
       "      <td>...</td>\n",
       "      <td>0.0</td>\n",
       "      <td>NaN</td>\n",
       "      <td>158.0</td>\n",
       "      <td>141.0</td>\n",
       "      <td>39.0</td>\n",
       "      <td>0.0</td>\n",
       "      <td>0.0</td>\n",
       "      <td>0.0</td>\n",
       "      <td>20.0</td>\n",
       "      <td>NaN</td>\n",
       "    </tr>\n",
       "  </tbody>\n",
       "</table>\n",
       "<p>701352 rows × 29 columns</p>\n",
       "</div>"
      ],
      "text/plain": [
       "           FL_DATE  OP_CARRIER_AIRLINE_ID TAIL_NUM  OP_CARRIER_FL_NUM  \\\n",
       "0       2018-08-01                  19805   N956AN               1587   \n",
       "1       2018-08-01                  19805   N973AN               1588   \n",
       "2       2018-08-01                  19805    N9006               1590   \n",
       "3       2018-08-01                  19805   N870NN               1591   \n",
       "4       2018-08-01                  19805   N9023N               1593   \n",
       "...            ...                    ...      ...                ...   \n",
       "701347  2018-08-31                  19805   N971AN               2357   \n",
       "701348  2018-08-31                  19805   N936AN               2358   \n",
       "701349  2018-08-31                  19805   N831AA               2360   \n",
       "701350  2018-08-31                  19805   N952NN               2361   \n",
       "701351  2018-08-31                  19805   N839NN               2362   \n",
       "\n",
       "        ORIGIN_AIRPORT_ID  ORIGIN_AIRPORT_SEQ_ID  ORIGIN_CITY_MARKET_ID  \\\n",
       "0                   12478                1247805                  31703   \n",
       "1                   14107                1410702                  30466   \n",
       "2                   11042                1104205                  30647   \n",
       "3                   14843                1484306                  34819   \n",
       "4                   10423                1042302                  30423   \n",
       "...                   ...                    ...                    ...   \n",
       "701347              14869                1486903                  34614   \n",
       "701348              15376                1537603                  30436   \n",
       "701349              11298                1129806                  30194   \n",
       "701350              12892                1289208                  32575   \n",
       "701351              13303                1330303                  32467   \n",
       "\n",
       "       ORIGIN  DEST_AIRPORT_ID  DEST_AIRPORT_SEQ_ID  ...  CANCELLED  \\\n",
       "0         JFK            14107              1410702  ...        0.0   \n",
       "1         PHX            11618              1161802  ...        0.0   \n",
       "2         CLE            11298              1129806  ...        0.0   \n",
       "3         SJU            11298              1129806  ...        0.0   \n",
       "4         AUS            13303              1330303  ...        0.0   \n",
       "...       ...              ...                  ...  ...        ...   \n",
       "701347    SLC            11298              1129806  ...        0.0   \n",
       "701348    TUS            13930              1393006  ...        0.0   \n",
       "701349    DFW            12892              1289208  ...        0.0   \n",
       "701350    LAX            13204              1320402  ...        0.0   \n",
       "701351    MIA            11278              1127805  ...        0.0   \n",
       "\n",
       "       CANCELLATION_CODE  CRS_ELAPSED_TIME  ACTUAL_ELAPSED_TIME  \\\n",
       "0                    NaN             342.0                377.0   \n",
       "1                    NaN             285.0                309.0   \n",
       "2                    NaN             176.0                177.0   \n",
       "3                    NaN             304.0                303.0   \n",
       "4                    NaN             173.0                175.0   \n",
       "...                  ...               ...                  ...   \n",
       "701347               NaN             161.0                150.0   \n",
       "701348               NaN             204.0                226.0   \n",
       "701349               NaN             198.0                182.0   \n",
       "701350               NaN             307.0                304.0   \n",
       "701351               NaN             158.0                141.0   \n",
       "\n",
       "        CARRIER_DELAY  WEATHER_DELAY  NAS_DELAY  SECURITY_DELAY  \\\n",
       "0                 9.0            0.0       35.0             0.0   \n",
       "1                 0.0            0.0       53.0             0.0   \n",
       "2                 NaN            NaN        NaN             NaN   \n",
       "3                43.0            0.0        0.0             0.0   \n",
       "4                 NaN            NaN        NaN             NaN   \n",
       "...               ...            ...        ...             ...   \n",
       "701347            NaN            NaN        NaN             NaN   \n",
       "701348            NaN            NaN        NaN             NaN   \n",
       "701349            NaN            NaN        NaN             NaN   \n",
       "701350            NaN            NaN        NaN             NaN   \n",
       "701351           39.0            0.0        0.0             0.0   \n",
       "\n",
       "        LATE_AIRCRAFT_DELAY  Unnamed: 28  \n",
       "0                       0.0          NaN  \n",
       "1                       0.0          NaN  \n",
       "2                       NaN          NaN  \n",
       "3                       0.0          NaN  \n",
       "4                       NaN          NaN  \n",
       "...                     ...          ...  \n",
       "701347                  NaN          NaN  \n",
       "701348                  NaN          NaN  \n",
       "701349                  NaN          NaN  \n",
       "701350                  NaN          NaN  \n",
       "701351                 20.0          NaN  \n",
       "\n",
       "[701352 rows x 29 columns]"
      ]
     },
     "execution_count": 8,
     "metadata": {},
     "output_type": "execute_result"
    }
   ],
   "source": [
    "stats"
   ]
  },
  {
   "cell_type": "code",
   "execution_count": 10,
   "id": "98060af9",
   "metadata": {},
   "outputs": [
    {
     "ename": "ValueError",
     "evalue": "invalid literal for int() with base 10: 'N956AN'",
     "output_type": "error",
     "traceback": [
      "\u001b[0;31m---------------------------------------------------------------------------\u001b[0m",
      "\u001b[0;31mValueError\u001b[0m                                Traceback (most recent call last)",
      "\u001b[0;32m/tmp/ipykernel_115835/2258153377.py\u001b[0m in \u001b[0;36m<module>\u001b[0;34m\u001b[0m\n\u001b[0;32m----> 1\u001b[0;31m \u001b[0mstats\u001b[0m\u001b[0;34m[\u001b[0m\u001b[0;34m'TAIL_NUM'\u001b[0m\u001b[0;34m]\u001b[0m\u001b[0;34m.\u001b[0m\u001b[0mastype\u001b[0m\u001b[0;34m(\u001b[0m\u001b[0mint\u001b[0m\u001b[0;34m)\u001b[0m\u001b[0;34m\u001b[0m\u001b[0;34m\u001b[0m\u001b[0m\n\u001b[0m",
      "\u001b[0;32m~/.local/lib/python3.9/site-packages/pandas/core/generic.py\u001b[0m in \u001b[0;36mastype\u001b[0;34m(self, dtype, copy, errors)\u001b[0m\n\u001b[1;32m   5870\u001b[0m         \u001b[0;32melse\u001b[0m\u001b[0;34m:\u001b[0m\u001b[0;34m\u001b[0m\u001b[0;34m\u001b[0m\u001b[0m\n\u001b[1;32m   5871\u001b[0m             \u001b[0;31m# else, only a single dtype is given\u001b[0m\u001b[0;34m\u001b[0m\u001b[0;34m\u001b[0m\u001b[0m\n\u001b[0;32m-> 5872\u001b[0;31m             \u001b[0mnew_data\u001b[0m \u001b[0;34m=\u001b[0m \u001b[0mself\u001b[0m\u001b[0;34m.\u001b[0m\u001b[0m_mgr\u001b[0m\u001b[0;34m.\u001b[0m\u001b[0mastype\u001b[0m\u001b[0;34m(\u001b[0m\u001b[0mdtype\u001b[0m\u001b[0;34m=\u001b[0m\u001b[0mdtype\u001b[0m\u001b[0;34m,\u001b[0m \u001b[0mcopy\u001b[0m\u001b[0;34m=\u001b[0m\u001b[0mcopy\u001b[0m\u001b[0;34m,\u001b[0m \u001b[0merrors\u001b[0m\u001b[0;34m=\u001b[0m\u001b[0merrors\u001b[0m\u001b[0;34m)\u001b[0m\u001b[0;34m\u001b[0m\u001b[0;34m\u001b[0m\u001b[0m\n\u001b[0m\u001b[1;32m   5873\u001b[0m             \u001b[0;32mreturn\u001b[0m \u001b[0mself\u001b[0m\u001b[0;34m.\u001b[0m\u001b[0m_constructor\u001b[0m\u001b[0;34m(\u001b[0m\u001b[0mnew_data\u001b[0m\u001b[0;34m)\u001b[0m\u001b[0;34m.\u001b[0m\u001b[0m__finalize__\u001b[0m\u001b[0;34m(\u001b[0m\u001b[0mself\u001b[0m\u001b[0;34m,\u001b[0m \u001b[0mmethod\u001b[0m\u001b[0;34m=\u001b[0m\u001b[0;34m\"astype\"\u001b[0m\u001b[0;34m)\u001b[0m\u001b[0;34m\u001b[0m\u001b[0;34m\u001b[0m\u001b[0m\n\u001b[1;32m   5874\u001b[0m \u001b[0;34m\u001b[0m\u001b[0m\n",
      "\u001b[0;32m~/.local/lib/python3.9/site-packages/pandas/core/internals/managers.py\u001b[0m in \u001b[0;36mastype\u001b[0;34m(self, dtype, copy, errors)\u001b[0m\n\u001b[1;32m    629\u001b[0m         \u001b[0mself\u001b[0m\u001b[0;34m,\u001b[0m \u001b[0mdtype\u001b[0m\u001b[0;34m,\u001b[0m \u001b[0mcopy\u001b[0m\u001b[0;34m:\u001b[0m \u001b[0mbool\u001b[0m \u001b[0;34m=\u001b[0m \u001b[0;32mFalse\u001b[0m\u001b[0;34m,\u001b[0m \u001b[0merrors\u001b[0m\u001b[0;34m:\u001b[0m \u001b[0mstr\u001b[0m \u001b[0;34m=\u001b[0m \u001b[0;34m\"raise\"\u001b[0m\u001b[0;34m\u001b[0m\u001b[0;34m\u001b[0m\u001b[0m\n\u001b[1;32m    630\u001b[0m     ) -> \"BlockManager\":\n\u001b[0;32m--> 631\u001b[0;31m         \u001b[0;32mreturn\u001b[0m \u001b[0mself\u001b[0m\u001b[0;34m.\u001b[0m\u001b[0mapply\u001b[0m\u001b[0;34m(\u001b[0m\u001b[0;34m\"astype\"\u001b[0m\u001b[0;34m,\u001b[0m \u001b[0mdtype\u001b[0m\u001b[0;34m=\u001b[0m\u001b[0mdtype\u001b[0m\u001b[0;34m,\u001b[0m \u001b[0mcopy\u001b[0m\u001b[0;34m=\u001b[0m\u001b[0mcopy\u001b[0m\u001b[0;34m,\u001b[0m \u001b[0merrors\u001b[0m\u001b[0;34m=\u001b[0m\u001b[0merrors\u001b[0m\u001b[0;34m)\u001b[0m\u001b[0;34m\u001b[0m\u001b[0;34m\u001b[0m\u001b[0m\n\u001b[0m\u001b[1;32m    632\u001b[0m \u001b[0;34m\u001b[0m\u001b[0m\n\u001b[1;32m    633\u001b[0m     def convert(\n",
      "\u001b[0;32m~/.local/lib/python3.9/site-packages/pandas/core/internals/managers.py\u001b[0m in \u001b[0;36mapply\u001b[0;34m(self, f, align_keys, ignore_failures, **kwargs)\u001b[0m\n\u001b[1;32m    425\u001b[0m                     \u001b[0mapplied\u001b[0m \u001b[0;34m=\u001b[0m \u001b[0mb\u001b[0m\u001b[0;34m.\u001b[0m\u001b[0mapply\u001b[0m\u001b[0;34m(\u001b[0m\u001b[0mf\u001b[0m\u001b[0;34m,\u001b[0m \u001b[0;34m**\u001b[0m\u001b[0mkwargs\u001b[0m\u001b[0;34m)\u001b[0m\u001b[0;34m\u001b[0m\u001b[0;34m\u001b[0m\u001b[0m\n\u001b[1;32m    426\u001b[0m                 \u001b[0;32melse\u001b[0m\u001b[0;34m:\u001b[0m\u001b[0;34m\u001b[0m\u001b[0;34m\u001b[0m\u001b[0m\n\u001b[0;32m--> 427\u001b[0;31m                     \u001b[0mapplied\u001b[0m \u001b[0;34m=\u001b[0m \u001b[0mgetattr\u001b[0m\u001b[0;34m(\u001b[0m\u001b[0mb\u001b[0m\u001b[0;34m,\u001b[0m \u001b[0mf\u001b[0m\u001b[0;34m)\u001b[0m\u001b[0;34m(\u001b[0m\u001b[0;34m**\u001b[0m\u001b[0mkwargs\u001b[0m\u001b[0;34m)\u001b[0m\u001b[0;34m\u001b[0m\u001b[0;34m\u001b[0m\u001b[0m\n\u001b[0m\u001b[1;32m    428\u001b[0m             \u001b[0;32mexcept\u001b[0m \u001b[0;34m(\u001b[0m\u001b[0mTypeError\u001b[0m\u001b[0;34m,\u001b[0m \u001b[0mNotImplementedError\u001b[0m\u001b[0;34m)\u001b[0m\u001b[0;34m:\u001b[0m\u001b[0;34m\u001b[0m\u001b[0;34m\u001b[0m\u001b[0m\n\u001b[1;32m    429\u001b[0m                 \u001b[0;32mif\u001b[0m \u001b[0;32mnot\u001b[0m \u001b[0mignore_failures\u001b[0m\u001b[0;34m:\u001b[0m\u001b[0;34m\u001b[0m\u001b[0;34m\u001b[0m\u001b[0m\n",
      "\u001b[0;32m~/.local/lib/python3.9/site-packages/pandas/core/internals/blocks.py\u001b[0m in \u001b[0;36mastype\u001b[0;34m(self, dtype, copy, errors)\u001b[0m\n\u001b[1;32m    671\u001b[0m             \u001b[0mvals1d\u001b[0m \u001b[0;34m=\u001b[0m \u001b[0mvalues\u001b[0m\u001b[0;34m.\u001b[0m\u001b[0mravel\u001b[0m\u001b[0;34m(\u001b[0m\u001b[0;34m)\u001b[0m\u001b[0;34m\u001b[0m\u001b[0;34m\u001b[0m\u001b[0m\n\u001b[1;32m    672\u001b[0m             \u001b[0;32mtry\u001b[0m\u001b[0;34m:\u001b[0m\u001b[0;34m\u001b[0m\u001b[0;34m\u001b[0m\u001b[0m\n\u001b[0;32m--> 673\u001b[0;31m                 \u001b[0mvalues\u001b[0m \u001b[0;34m=\u001b[0m \u001b[0mastype_nansafe\u001b[0m\u001b[0;34m(\u001b[0m\u001b[0mvals1d\u001b[0m\u001b[0;34m,\u001b[0m \u001b[0mdtype\u001b[0m\u001b[0;34m,\u001b[0m \u001b[0mcopy\u001b[0m\u001b[0;34m=\u001b[0m\u001b[0;32mTrue\u001b[0m\u001b[0;34m)\u001b[0m\u001b[0;34m\u001b[0m\u001b[0;34m\u001b[0m\u001b[0m\n\u001b[0m\u001b[1;32m    674\u001b[0m             \u001b[0;32mexcept\u001b[0m \u001b[0;34m(\u001b[0m\u001b[0mValueError\u001b[0m\u001b[0;34m,\u001b[0m \u001b[0mTypeError\u001b[0m\u001b[0;34m)\u001b[0m\u001b[0;34m:\u001b[0m\u001b[0;34m\u001b[0m\u001b[0;34m\u001b[0m\u001b[0m\n\u001b[1;32m    675\u001b[0m                 \u001b[0;31m# e.g. astype_nansafe can fail on object-dtype of strings\u001b[0m\u001b[0;34m\u001b[0m\u001b[0;34m\u001b[0m\u001b[0m\n",
      "\u001b[0;32m~/.local/lib/python3.9/site-packages/pandas/core/dtypes/cast.py\u001b[0m in \u001b[0;36mastype_nansafe\u001b[0;34m(arr, dtype, copy, skipna)\u001b[0m\n\u001b[1;32m   1072\u001b[0m         \u001b[0;31m# work around NumPy brokenness, #1987\u001b[0m\u001b[0;34m\u001b[0m\u001b[0;34m\u001b[0m\u001b[0m\n\u001b[1;32m   1073\u001b[0m         \u001b[0;32mif\u001b[0m \u001b[0mnp\u001b[0m\u001b[0;34m.\u001b[0m\u001b[0missubdtype\u001b[0m\u001b[0;34m(\u001b[0m\u001b[0mdtype\u001b[0m\u001b[0;34m.\u001b[0m\u001b[0mtype\u001b[0m\u001b[0;34m,\u001b[0m \u001b[0mnp\u001b[0m\u001b[0;34m.\u001b[0m\u001b[0minteger\u001b[0m\u001b[0;34m)\u001b[0m\u001b[0;34m:\u001b[0m\u001b[0;34m\u001b[0m\u001b[0;34m\u001b[0m\u001b[0m\n\u001b[0;32m-> 1074\u001b[0;31m             \u001b[0;32mreturn\u001b[0m \u001b[0mlib\u001b[0m\u001b[0;34m.\u001b[0m\u001b[0mastype_intsafe\u001b[0m\u001b[0;34m(\u001b[0m\u001b[0marr\u001b[0m\u001b[0;34m.\u001b[0m\u001b[0mravel\u001b[0m\u001b[0;34m(\u001b[0m\u001b[0;34m)\u001b[0m\u001b[0;34m,\u001b[0m \u001b[0mdtype\u001b[0m\u001b[0;34m)\u001b[0m\u001b[0;34m.\u001b[0m\u001b[0mreshape\u001b[0m\u001b[0;34m(\u001b[0m\u001b[0marr\u001b[0m\u001b[0;34m.\u001b[0m\u001b[0mshape\u001b[0m\u001b[0;34m)\u001b[0m\u001b[0;34m\u001b[0m\u001b[0;34m\u001b[0m\u001b[0m\n\u001b[0m\u001b[1;32m   1075\u001b[0m \u001b[0;34m\u001b[0m\u001b[0m\n\u001b[1;32m   1076\u001b[0m         \u001b[0;31m# if we have a datetime/timedelta array of objects\u001b[0m\u001b[0;34m\u001b[0m\u001b[0;34m\u001b[0m\u001b[0m\n",
      "\u001b[0;32mpandas/_libs/lib.pyx\u001b[0m in \u001b[0;36mpandas._libs.lib.astype_intsafe\u001b[0;34m()\u001b[0m\n",
      "\u001b[0;31mValueError\u001b[0m: invalid literal for int() with base 10: 'N956AN'"
     ]
    }
   ],
   "source": [
    "stats['TAIL_NUM'].astype(int)"
   ]
  },
  {
   "cell_type": "code",
   "execution_count": null,
   "id": "5307aaf3",
   "metadata": {},
   "outputs": [],
   "source": [
    "stats.info()"
   ]
  },
  {
   "cell_type": "code",
   "execution_count": null,
   "id": "ac57b30e",
   "metadata": {},
   "outputs": [],
   "source": [
    "stats.dropna().info()"
   ]
  },
  {
   "cell_type": "code",
   "execution_count": null,
   "id": "a8410def",
   "metadata": {},
   "outputs": [],
   "source": [
    "stats = stats.drop(['Unnamed: 28'], axis=1)\n",
    "stats.info()"
   ]
  },
  {
   "cell_type": "code",
   "execution_count": null,
   "id": "a89c31ec",
   "metadata": {},
   "outputs": [],
   "source": [
    "stats.dropna().info()"
   ]
  },
  {
   "cell_type": "code",
   "execution_count": null,
   "id": "1565a937",
   "metadata": {},
   "outputs": [],
   "source": [
    "stats.dropna(subset=['DEP_TIME', 'ARR_TIME']).info()"
   ]
  },
  {
   "cell_type": "code",
   "execution_count": null,
   "id": "38576240",
   "metadata": {},
   "outputs": [],
   "source": [
    "stats['CANCELLED'].unique()"
   ]
  },
  {
   "cell_type": "code",
   "execution_count": null,
   "id": "fbde49e8",
   "metadata": {},
   "outputs": [],
   "source": [
    "stats['CANCELLED'] = stats['CANCELLED'].astype(bool)\n",
    "stats.info()"
   ]
  },
  {
   "cell_type": "code",
   "execution_count": null,
   "id": "99f5adda",
   "metadata": {},
   "outputs": [],
   "source": [
    "stats.head()"
   ]
  },
  {
   "cell_type": "code",
   "execution_count": null,
   "id": "40d3e5c8",
   "metadata": {
    "scrolled": false
   },
   "outputs": [],
   "source": [
    "stats['CANCELLATION_CODE'] = stats['CANCELLATION_CODE'].fillna('none')\n",
    "stats.info()"
   ]
  },
  {
   "cell_type": "code",
   "execution_count": null,
   "id": "5dc0ec2c",
   "metadata": {},
   "outputs": [],
   "source": [
    "stats[stats['DEP_TIME'] > 0][['FL_DATE', 'DEP_TIME', 'ACTUAL_ELAPSED_TIME']]"
   ]
  },
  {
   "cell_type": "code",
   "execution_count": null,
   "id": "5ae7b578",
   "metadata": {},
   "outputs": [],
   "source": [
    "stats['ACTUAL_ELAPSED_TIME'] = stats['ACTUAL_ELAPSED_TIME'].fillna(-1)\n",
    "stats.info()"
   ]
  },
  {
   "cell_type": "code",
   "execution_count": null,
   "id": "a786fa9e",
   "metadata": {},
   "outputs": [],
   "source": [
    "len(stats['TAIL_NUM'].unique())"
   ]
  },
  {
   "cell_type": "code",
   "execution_count": null,
   "id": "23f6eaa8",
   "metadata": {},
   "outputs": [],
   "source": [
    "stats = stats.dropna(subset=['TAIL_NUM'])\n",
    "stats.info()"
   ]
  },
  {
   "cell_type": "code",
   "execution_count": null,
   "id": "ce8e60ae",
   "metadata": {},
   "outputs": [],
   "source": [
    "stats[stats['CANCELLED'] == True]"
   ]
  },
  {
   "cell_type": "code",
   "execution_count": null,
   "id": "2b4799de",
   "metadata": {},
   "outputs": [],
   "source": [
    "stats['LATE_AIRCRAFT_DELAY'] = stats['LATE_AIRCRAFT_DELAY'].fillna(0)\n",
    "stats.info()"
   ]
  },
  {
   "cell_type": "code",
   "execution_count": null,
   "id": "a43a7669",
   "metadata": {},
   "outputs": [],
   "source": [
    "stats"
   ]
  },
  {
   "cell_type": "code",
   "execution_count": null,
   "id": "fc9bffb9",
   "metadata": {},
   "outputs": [],
   "source": [
    "carriers[carriers['Code'] == 19805]"
   ]
  },
  {
   "cell_type": "code",
   "execution_count": null,
   "id": "6f024bbe",
   "metadata": {},
   "outputs": [],
   "source": [
    "merged_stats = stats.join(carriers.set_index('Code'), how='inner', on='OP_CARRIER_AIRLINE_ID', lsuffix='OP_CARRIER_AIRLINE_ID', rsuffix='Code')\n",
    "merged_stats"
   ]
  },
  {
   "cell_type": "code",
   "execution_count": null,
   "id": "394afeeb",
   "metadata": {},
   "outputs": [],
   "source": [
    "carriers[carriers['Code'] == 19805].Description.unique()[0]"
   ]
  },
  {
   "cell_type": "code",
   "execution_count": null,
   "id": "f8994e40",
   "metadata": {},
   "outputs": [],
   "source": [
    "merged_stats[merged_stats['Description'] == 'American Airlines Inc.: AA'][['FL_DATE', 'CANCELLED', 'Description']].sum()"
   ]
  },
  {
   "cell_type": "code",
   "execution_count": null,
   "id": "d353d59b",
   "metadata": {},
   "outputs": [],
   "source": [
    "merged_stats['DEST']"
   ]
  },
  {
   "cell_type": "code",
   "execution_count": null,
   "id": "234f6e5f",
   "metadata": {},
   "outputs": [],
   "source": [
    "airports[airports['Code'] == 'BKG']"
   ]
  },
  {
   "cell_type": "code",
   "execution_count": null,
   "id": "8ce9ffc1",
   "metadata": {},
   "outputs": [],
   "source": [
    "airports_indexed = airports.set_index('Code')"
   ]
  },
  {
   "cell_type": "code",
   "execution_count": null,
   "id": "23ec7e9b",
   "metadata": {},
   "outputs": [],
   "source": [
    "merged_stats = merged_stats.rename(columns={\"Description\": \"CARRIER_NAME\"})"
   ]
  },
  {
   "cell_type": "code",
   "execution_count": null,
   "id": "cf6813df",
   "metadata": {},
   "outputs": [],
   "source": [
    "merged_stats = merged_stats.join(airports_indexed, how='inner', on='ORIGIN')\n",
    "merged_stats"
   ]
  },
  {
   "cell_type": "code",
   "execution_count": null,
   "id": "340b9b73",
   "metadata": {},
   "outputs": [],
   "source": [
    "merged_stats = merged_stats.rename(columns={\"Description\": \"ORIGIN_AIRPORT_NAME\"})"
   ]
  },
  {
   "cell_type": "code",
   "execution_count": null,
   "id": "6fe3b9d7",
   "metadata": {},
   "outputs": [],
   "source": [
    "merged_stats = merged_stats.join(airports_indexed, how='inner', on='DEST')\n",
    "merged_stats"
   ]
  },
  {
   "cell_type": "code",
   "execution_count": null,
   "id": "59d072fc",
   "metadata": {},
   "outputs": [],
   "source": [
    "merged_stats = merged_stats.rename(columns={\"Description\": \"DEST_AIRPORT_NAME\"})"
   ]
  },
  {
   "cell_type": "code",
   "execution_count": null,
   "id": "58877864",
   "metadata": {},
   "outputs": [],
   "source": [
    "merged_stats"
   ]
  },
  {
   "cell_type": "code",
   "execution_count": null,
   "id": "0c5bfe94",
   "metadata": {},
   "outputs": [],
   "source": [
    "merged_stats[['FL_DATE', 'TAIL_NUM', 'CARRIER_NAME', 'ORIGIN_AIRPORT_NAME', 'DEST_AIRPORT_NAME']]"
   ]
  },
  {
   "cell_type": "code",
   "execution_count": null,
   "id": "deaa8fbc",
   "metadata": {},
   "outputs": [],
   "source": [
    "grouped = merged_stats.groupby(['CARRIER_NAME'])\n",
    "grouped"
   ]
  },
  {
   "cell_type": "code",
   "execution_count": null,
   "id": "2651695e",
   "metadata": {},
   "outputs": [],
   "source": [
    "f = {\"CARRIER_NAME\": \"nunique\", 'CRS_ELAPSED_TIME': 'mean'}"
   ]
  },
  {
   "cell_type": "code",
   "execution_count": null,
   "id": "15c68509",
   "metadata": {},
   "outputs": [],
   "source": [
    "view1 = grouped.agg(f)\n",
    "view1"
   ]
  },
  {
   "cell_type": "code",
   "execution_count": null,
   "id": "c06a30b4",
   "metadata": {},
   "outputs": [],
   "source": [
    "view2 = grouped.agg(lambda x: x.drop_duplicates('CARRIER_NAME', keep='first').CRS_ELAPSED_TIME.mean())\n",
    "view2"
   ]
  },
  {
   "cell_type": "code",
   "execution_count": null,
   "id": "24c73f6a",
   "metadata": {},
   "outputs": [],
   "source": [
    "crs_elapsed = pd.concat([view1, view2['CRS_ELAPSED_TIME'].to_frame('CRS_ELAPSED_TIME')], 0)\n",
    "crs_elapsed"
   ]
  },
  {
   "cell_type": "code",
   "execution_count": null,
   "id": "a1d30021",
   "metadata": {},
   "outputs": [],
   "source": [
    "crs_elapsed[['CARRIER_NAME', 'CRS_ELAPSED_TIME']].plot.bar()"
   ]
  },
  {
   "cell_type": "code",
   "execution_count": null,
   "id": "352b8817",
   "metadata": {},
   "outputs": [],
   "source": [
    "grouped = merged_stats.groupby(['ORIGIN'])\n",
    "grouped"
   ]
  },
  {
   "cell_type": "code",
   "execution_count": null,
   "id": "cfc47ba4",
   "metadata": {},
   "outputs": [],
   "source": [
    "f2 = {'ORIGIN': 'nunique', 'CANCELLED': 'sum'}"
   ]
  },
  {
   "cell_type": "code",
   "execution_count": null,
   "id": "fc32867d",
   "metadata": {},
   "outputs": [],
   "source": [
    "view3 = grouped.agg(f2)\n",
    "view3"
   ]
  },
  {
   "cell_type": "code",
   "execution_count": null,
   "id": "23ac015f",
   "metadata": {},
   "outputs": [],
   "source": [
    "view3[view3['CANCELLED'] > 500].index"
   ]
  },
  {
   "cell_type": "code",
   "execution_count": null,
   "id": "e2395f20",
   "metadata": {},
   "outputs": [],
   "source": [
    "airports_indexed.loc[view3[view3['CANCELLED'] > 50][view3['CANCELLED'] < 200].index]"
   ]
  },
  {
   "cell_type": "code",
   "execution_count": null,
   "id": "f6bf0100",
   "metadata": {},
   "outputs": [],
   "source": [
    "view3[['ORIGIN', 'CANCELLED']].plot.bar()"
   ]
  },
  {
   "cell_type": "code",
   "execution_count": null,
   "id": "cb88b363",
   "metadata": {},
   "outputs": [],
   "source": []
  }
 ],
 "metadata": {
  "kernelspec": {
   "display_name": "Python 3",
   "language": "python",
   "name": "python3"
  },
  "language_info": {
   "codemirror_mode": {
    "name": "ipython",
    "version": 3
   },
   "file_extension": ".py",
   "mimetype": "text/x-python",
   "name": "python",
   "nbconvert_exporter": "python",
   "pygments_lexer": "ipython3",
   "version": "3.10.2"
  }
 },
 "nbformat": 4,
 "nbformat_minor": 5
}
