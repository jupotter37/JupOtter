{
 "cells": [
  {
   "attachments": {},
   "cell_type": "markdown",
   "metadata": {},
   "source": [
    "# Basics"
   ]
  },
  {
   "attachments": {},
   "cell_type": "markdown",
   "metadata": {},
   "source": [
    "Python is a very simple language, and has a very straightforward syntax. It encourages programmers to program without boilerplate (prepared) code. The simplest directive in Python is the \"print\" directive - it simply prints out a line (and also includes a newline, unlike in C).\n",
    "\n",
    "There are two major Python versions, Python 2 and Python 3. Python 2 and 3 are quite different. This tutorial uses Python 3, because it more semantically correct and supports newer features.\n",
    "\n",
    "For example, one difference between Python 2 and 3 is the `print` statement. In Python 2, the \"print\" statement is not a function, and therefore it is invoked without parentheses. However, in Python 3, it is a function, and must be invoked with parentheses."
   ]
  },
  {
   "cell_type": "code",
   "execution_count": 40,
   "metadata": {},
   "outputs": [],
   "source": [
    "import random\n",
    "import csv\n",
    "import os\n",
    "import calendar\n",
    "import pandas as pd\n",
    "from pathlib import Path\n",
    "import matplotlib.pyplot as plt"
   ]
  },
  {
   "attachments": {},
   "cell_type": "markdown",
   "metadata": {},
   "source": [
    "### Integers and Floating-point Numbers"
   ]
  },
  {
   "attachments": {},
   "cell_type": "markdown",
   "metadata": {},
   "source": [
    "The _order of operations_ (also called _precedence_) of Python math operators is similar to that of mathematics. The \\*\\* operator is evaluated first; the \\*, /, //, and % operators are evaluated next, from left to right; and the + and \\- operators are evaluated last (also from left to right). You can use parentheses to override the usual precedence if you need to. Whitespace in between the operators and values doesn’t matter for Python (except for the indentation at the beginning of the line), but a single space is convention."
   ]
  },
  {
   "attachments": {},
   "cell_type": "markdown",
   "metadata": {},
   "source": [
    "| Operator | Operation | Example | Evaluates to... |\n",
    "| -------- | --------- | ------- | --------------- |\n",
    "| \\*\\* | Exponent | 2 \\*\\* 3 | 8 |\n",
    "| % | Modulus/remainder | 22 % 8 | 6 |\n",
    "| // | Integer division/floored quotient | 22 // 8 | 2 |\n",
    "| / | Division | 22 / 8 | 2.75 |\n",
    "| \\* | Multiplication | 3 \\* 5 | 15 |\n",
    "| \\- | Subtraction | 5 - 2 | 3 |\n",
    "| + | Addition | 2 + 2 | 4 |"
   ]
  },
  {
   "cell_type": "code",
   "execution_count": 18,
   "metadata": {},
   "outputs": [
    {
     "name": "stdout",
     "output_type": "stream",
     "text": [
      "2 + 3 * 6 = 20\n",
      "(2 + 3) * 6 = 30\n",
      "48565878 * 578453 = 28093077826734\n",
      "2 ** 8 = 256\n",
      "23 / 7 = 3.2857142857142856\n",
      "23 // 7 = 3\n",
      "23 % 7 = 2\n",
      "2 + 2 = 4\n",
      "(5 - 1) * ((7 + 1) / (3 - 1)) = 16.0\n"
     ]
    }
   ],
   "source": [
    "print(\"2 + 3 * 6 = {}\".format(2 + 3 * 6))\n",
    "print(\"(2 + 3) * 6 = {}\".format((2 + 3) * 6))\n",
    "print(\"48565878 * 578453 = {}\".format(48565878 * 578453))\n",
    "print(\"2 ** 8 = {}\".format(2 ** 8))\n",
    "print(\"23 / 7 = {}\".format(23 / 7))\n",
    "print(\"23 // 7 = {}\".format(23 // 7))\n",
    "print(\"23 % 7 = {}\".format(23 % 7))\n",
    "print(\"2 + 2 = {}\".format(2 + 2))\n",
    "print(\"(5 - 1) * ((7 + 1) / (3 - 1)) = {}\".format((5 - 1) * ((7 + 1) / (3 - 1))))"
   ]
  },
  {
   "cell_type": "code",
   "execution_count": 20,
   "metadata": {},
   "outputs": [
    {
     "name": "stdout",
     "output_type": "stream",
     "text": [
      "12\n",
      "3.0\n"
     ]
    }
   ],
   "source": [
    "# Write a Python program to do arithmetical operations addition and division\n",
    "\n",
    "x = 9\n",
    "y = 3\n",
    "\n",
    "## Addition\n",
    "print(x + y)\n",
    "\n",
    "## Division\n",
    "print(x / y)"
   ]
  },
  {
   "cell_type": "code",
   "execution_count": 21,
   "metadata": {},
   "outputs": [
    {
     "name": "stdout",
     "output_type": "stream",
     "text": [
      "Area: 750.0\n"
     ]
    }
   ],
   "source": [
    "# Write a Python program to find the area of a triangle\n",
    "\n",
    "height = 50\n",
    "base = 30\n",
    "\n",
    "print(f'Area: {height * base / 2}')"
   ]
  },
  {
   "cell_type": "code",
   "execution_count": 22,
   "metadata": {},
   "outputs": [
    {
     "name": "stdout",
     "output_type": "stream",
     "text": [
      "Before swap:\n",
      "var1 = 123 and var2 = 111\n",
      "\n",
      "After swap:\n",
      "var1 = 111 and var2 = 123\n"
     ]
    }
   ],
   "source": [
    "# Write a Python program to swap two variables\n",
    "\n",
    "var1 = 123\n",
    "var2 = 111\n",
    "\n",
    "print(f'Before swap:\\nvar1 = {var1} and var2 = {var2}')\n",
    "\n",
    "var1, var2 = var2, var1\n",
    "\n",
    "print(f'\\nAfter swap:\\nvar1 = {var1} and var2 = {var2}')"
   ]
  },
  {
   "cell_type": "code",
   "execution_count": 25,
   "metadata": {},
   "outputs": [
    {
     "name": "stdout",
     "output_type": "stream",
     "text": [
      "0.0591638585266161\n",
      "4\n"
     ]
    }
   ],
   "source": [
    "# Write a Python program to generate a random number\n",
    "\n",
    "print(random.random())\n",
    "print(random.randint(1, 10))"
   ]
  },
  {
   "cell_type": "code",
   "execution_count": 26,
   "metadata": {},
   "outputs": [
    {
     "name": "stdout",
     "output_type": "stream",
     "text": [
      "Kilometers: 16.0934\n",
      "Miles: 10.0\n"
     ]
    }
   ],
   "source": [
    "# Write a Python program to convert kilometers to miles\n",
    "\n",
    "km = 16.0934\n",
    "\n",
    "miles = km / 1.60934\n",
    "\n",
    "print(f'Kilometers: {km}\\nMiles: {miles}')"
   ]
  },
  {
   "cell_type": "code",
   "execution_count": 27,
   "metadata": {},
   "outputs": [
    {
     "name": "stdout",
     "output_type": "stream",
     "text": [
      "Celsius: 100\n",
      "Fahrenheit: 212.0\n"
     ]
    }
   ],
   "source": [
    "# Write a Python program to convert Celsius to Fahrenheit\n",
    "\n",
    "c = 100\n",
    "\n",
    "f = (9 * c / 5) + 32\n",
    "\n",
    "print(f'Celsius: {c}\\nFahrenheit: {f}')"
   ]
  },
  {
   "cell_type": "code",
   "execution_count": 28,
   "metadata": {},
   "outputs": [
    {
     "name": "stdout",
     "output_type": "stream",
     "text": [
      "                                  2023\n",
      "\n",
      "      January                   February                   March\n",
      "Mo Tu We Th Fr Sa Su      Mo Tu We Th Fr Sa Su      Mo Tu We Th Fr Sa Su\n",
      "                   1             1  2  3  4  5             1  2  3  4  5\n",
      " 2  3  4  5  6  7  8       6  7  8  9 10 11 12       6  7  8  9 10 11 12\n",
      " 9 10 11 12 13 14 15      13 14 15 16 17 18 19      13 14 15 16 17 18 19\n",
      "16 17 18 19 20 21 22      20 21 22 23 24 25 26      20 21 22 23 24 25 26\n",
      "23 24 25 26 27 28 29      27 28                     27 28 29 30 31\n",
      "30 31\n",
      "\n",
      "       April                      May                       June\n",
      "Mo Tu We Th Fr Sa Su      Mo Tu We Th Fr Sa Su      Mo Tu We Th Fr Sa Su\n",
      "                1  2       1  2  3  4  5  6  7                1  2  3  4\n",
      " 3  4  5  6  7  8  9       8  9 10 11 12 13 14       5  6  7  8  9 10 11\n",
      "10 11 12 13 14 15 16      15 16 17 18 19 20 21      12 13 14 15 16 17 18\n",
      "17 18 19 20 21 22 23      22 23 24 25 26 27 28      19 20 21 22 23 24 25\n",
      "24 25 26 27 28 29 30      29 30 31                  26 27 28 29 30\n",
      "\n",
      "        July                     August                  September\n",
      "Mo Tu We Th Fr Sa Su      Mo Tu We Th Fr Sa Su      Mo Tu We Th Fr Sa Su\n",
      "                1  2          1  2  3  4  5  6                   1  2  3\n",
      " 3  4  5  6  7  8  9       7  8  9 10 11 12 13       4  5  6  7  8  9 10\n",
      "10 11 12 13 14 15 16      14 15 16 17 18 19 20      11 12 13 14 15 16 17\n",
      "17 18 19 20 21 22 23      21 22 23 24 25 26 27      18 19 20 21 22 23 24\n",
      "24 25 26 27 28 29 30      28 29 30 31               25 26 27 28 29 30\n",
      "31\n",
      "\n",
      "      October                   November                  December\n",
      "Mo Tu We Th Fr Sa Su      Mo Tu We Th Fr Sa Su      Mo Tu We Th Fr Sa Su\n",
      "                   1             1  2  3  4  5                   1  2  3\n",
      " 2  3  4  5  6  7  8       6  7  8  9 10 11 12       4  5  6  7  8  9 10\n",
      " 9 10 11 12 13 14 15      13 14 15 16 17 18 19      11 12 13 14 15 16 17\n",
      "16 17 18 19 20 21 22      20 21 22 23 24 25 26      18 19 20 21 22 23 24\n",
      "23 24 25 26 27 28 29      27 28 29 30               25 26 27 28 29 30 31\n",
      "30 31\n",
      "\n"
     ]
    }
   ],
   "source": [
    "# Write a Python program to display calendar\n",
    "\n",
    "print(calendar.calendar(2023))"
   ]
  },
  {
   "cell_type": "code",
   "execution_count": 29,
   "metadata": {},
   "outputs": [
    {
     "name": "stdout",
     "output_type": "stream",
     "text": [
      "Before swap:\n",
      "var1 = 123 and var2 = 111\n",
      "\n",
      "After swap:\n",
      "var1 = 111 and var2 = 123\n"
     ]
    }
   ],
   "source": [
    "# Write a Python program to swap two variables without temp variable\n",
    "\n",
    "var1 = 123\n",
    "var2 = 111\n",
    "\n",
    "print(f'Before swap:\\nvar1 = {var1} and var2 = {var2}')\n",
    "\n",
    "var1, var2 = var2, var1\n",
    "\n",
    "print(f'\\nAfter swap:\\nvar1 = {var1} and var2 = {var2}')"
   ]
  },
  {
   "attachments": {},
   "cell_type": "markdown",
   "metadata": {},
   "source": [
    "## Data Types"
   ]
  },
  {
   "attachments": {},
   "cell_type": "markdown",
   "metadata": {},
   "source": [
    "![](./img/datatypes.drawio.svg)"
   ]
  },
  {
   "attachments": {},
   "cell_type": "markdown",
   "metadata": {},
   "source": [
    "### Strings"
   ]
  },
  {
   "cell_type": "code",
   "execution_count": null,
   "metadata": {},
   "outputs": [],
   "source": [
    "# Write a Python program to print \"Hello Python\"\n",
    "\n",
    "print('Hello Python')"
   ]
  },
  {
   "cell_type": "code",
   "execution_count": 19,
   "metadata": {},
   "outputs": [
    {
     "name": "stdout",
     "output_type": "stream",
     "text": [
      "There are \"double quotes\" in this string.\n",
      "This string's got an apostrophe.\n",
      "This string was written on multiple lines,\n",
      "      and it displays across multiple lines\n",
      "This one-line string was written out       using multiple lines\n"
     ]
    }
   ],
   "source": [
    "# Exercise 1\n",
    "print('There are \"double quotes\" in this string.')\n",
    "\n",
    "# Exercise 2\n",
    "print(\"This string's got an apostrophe.\")\n",
    "\n",
    "# Exercise 3\n",
    "print(\n",
    "    \"\"\"This string was written on multiple lines,\n",
    "      and it displays across multiple lines\"\"\"\n",
    ")\n",
    "\n",
    "# Exercise 4\n",
    "print(\n",
    "    \"This one-line string was written out \\\n",
    "      using multiple lines\"\n",
    ")"
   ]
  },
  {
   "attachments": {},
   "cell_type": "markdown",
   "metadata": {},
   "source": [
    "#### Concatenation, Indexing, and Slicing"
   ]
  },
  {
   "cell_type": "code",
   "execution_count": 30,
   "metadata": {},
   "outputs": [
    {
     "name": "stdout",
     "output_type": "stream",
     "text": [
      "28\n",
      "batman\n",
      "heebie jeebies\n",
      "zing\n"
     ]
    }
   ],
   "source": [
    "# Exercise 1\n",
    "# Display the number of letters in the string\n",
    "my_word = \"antidisestablishmentarianism\"\n",
    "print(len(my_word))\n",
    "\n",
    "\n",
    "# Exercise 2\n",
    "# Concatenate two strings together\n",
    "string_left = \"bat\"\n",
    "string_right = \"man\"\n",
    "print(string_left + string_right)\n",
    "\n",
    "\n",
    "# Exercise 3\n",
    "# Display two strings together, with a space in between\n",
    "string_one = \"heebie\"\n",
    "string_two = \"jeebies\"\n",
    "print(string_one + \" \" + string_two)\n",
    "\n",
    "\n",
    "# Exercise 4\n",
    "# Use subscripting to display part of a string\n",
    "print(\"bazinga\"[2:6])"
   ]
  },
  {
   "attachments": {},
   "cell_type": "markdown",
   "metadata": {},
   "source": [
    "#### String methods"
   ]
  },
  {
   "attachments": {},
   "cell_type": "markdown",
   "metadata": {},
   "source": [
    "-   istitle() : Checks for Titlecased String\n",
    "-   isupper() : returns if all characters are uppercase characters\n",
    "-   join() : Returns a Concatenated String\n",
    "-   ljust() : returns left-justified string of given width\n",
    "-   lower() : returns lowercased string\n",
    "-   lstrip() : Removes Leading Characters\n",
    "-   maketrans() : returns a translation table\n",
    "-   replace() : Replaces Substring Inside\n",
    "-   rfind() : Returns the Highest Index of Substring\n",
    "-   rjust() : returns right-justified string of given width\n",
    "-   rstrip() : Removes Trailing Characters\n",
    "-   split() : Splits String from Left\n",
    "-   splitlines() : Splits String at Line Boundaries\n",
    "-   startswith() : Checks if String Starts with the Specified String\n",
    "-   strip() : Removes Both Leading and Trailing Characters\n",
    "-   swapcase() : swap uppercase characters to lowercase; vice versa\n",
    "-   title() : Returns a Title Cased String\n",
    "-   translate() : returns mapped charactered string\n",
    "-   upper() : returns uppercased string\n",
    "-   zfill() : Returns a Copy of The String Padded With Zeros\n",
    "-   capitalize() : Converts first character to Capital Letter\n",
    "-   casefold() : converts to case folded strings\n",
    "-   center(): Pads string with specified character\n",
    "-   count() : returns occurrences of substring in string\n",
    "-   encode() : returns encoded string of given string\n",
    "-   endswith(): Checks if String Ends with the Specified Suffix\n",
    "-   expandtabs() : Replaces Tab character With Spaces\n",
    "-   find(): Returns the index of first occurrence of substring\n",
    "-   format(): formats string into nicer output\n",
    "-   format_map() : Formats the String Using Dictionary\n",
    "-   index(): Returns Index of Substring\n",
    "-   isalnum(): Checks Alphanumeric Character\n",
    "-   isalpha() : Checks if All Characters are Alphabets\n",
    "-   isdecimal() : Checks Decimal Characters\n",
    "-   isdigit() : Checks Digit Characters\n",
    "-   isidentifier() : Checks for Valid Identifier\n",
    "-   islower() : Checks if all Alphabets in a String are Lowercase\n",
    "-   isnumeric() : Checks Numeric Characters\n",
    "-   isprintable() : Checks Printable Character\n",
    "-   isspace() : Checks Whitespace Characters"
   ]
  },
  {
   "cell_type": "code",
   "execution_count": 32,
   "metadata": {},
   "outputs": [
    {
     "name": "stdout",
     "output_type": "stream",
     "text": [
      "animals\n",
      "badger\n",
      "honey bee\n",
      "honeybadger\n",
      "ANIMALS\n",
      "BADGER\n",
      "HONEY BEE\n",
      "HONEYBADGER\n",
      "Filet Mignon\n",
      "Filet Mignon\n",
      "Cheeseburger\n",
      "False\n",
      "True\n",
      "False\n",
      "False\n",
      "True\n",
      "True\n",
      "True\n",
      "True\n"
     ]
    }
   ],
   "source": [
    "# Exercise 1\n",
    "string1 = \"Animals\"\n",
    "string2 = \"Badger\"\n",
    "string3 = \"Honey Bee\"\n",
    "string4 = \"Honeybadger\"\n",
    "\n",
    "print(string1.lower())\n",
    "print(string2.lower())\n",
    "print(string3.lower())\n",
    "print(string4.lower())\n",
    "\n",
    "\n",
    "# Exercise 2\n",
    "print(string1.upper())\n",
    "print(string2.upper())\n",
    "print(string3.upper())\n",
    "print(string4.upper())\n",
    "\n",
    "\n",
    "# Exercise 3\n",
    "string1 = \"    Filet Mignon\"\n",
    "string2 = \"Brisket    \"\n",
    "string3 = \"  Cheeseburger   \"\n",
    "\n",
    "print(string1.strip())  # Could also use .lstrip()\n",
    "print(string1.strip())  # Could also use .rstrip()\n",
    "print(string3.strip())\n",
    "\n",
    "\n",
    "# Exercise 4\n",
    "string1 = \"Becomes\"\n",
    "string2 = \"becomes\"\n",
    "string3 = \"BEAR\"\n",
    "string4 = \"  bEautiful\"\n",
    "\n",
    "print(string1.startswith(\"be\"))\n",
    "print(string2.startswith(\"be\"))\n",
    "print(string3.startswith(\"be\"))\n",
    "print(string4.startswith(\"be\"))\n",
    "\n",
    "\n",
    "# Exercise 5\n",
    "string1 = string1.lower()\n",
    "# (string2 will pass unmodified)\n",
    "string3 = string3.lower()\n",
    "string4 = string4.strip().lower()\n",
    "\n",
    "print(string1.startswith(\"be\"))\n",
    "print(string2.startswith(\"be\"))\n",
    "print(string3.startswith(\"be\"))\n",
    "print(string4.startswith(\"be\"))"
   ]
  },
  {
   "attachments": {},
   "cell_type": "markdown",
   "metadata": {},
   "source": [
    "#### Working with Strings and Numbers"
   ]
  },
  {
   "cell_type": "code",
   "execution_count": 33,
   "metadata": {},
   "outputs": [
    {
     "name": "stdout",
     "output_type": "stream",
     "text": [
      "42\n",
      "42.07\n",
      "mp3\n",
      "The product of 10 and 5 is 50.0.\n"
     ]
    }
   ],
   "source": [
    "# Exercise 1\n",
    "# Store an integer as a string\n",
    "my_integer_string = \"6\"\n",
    "\n",
    "# Convert the 'integer' string into an int object using int()\n",
    "# Multiply the integer by 7 and display the result\n",
    "print(int(my_integer_string) * 7)\n",
    "\n",
    "\n",
    "# Exercise 2\n",
    "# Store a floating-point number as a string\n",
    "my_float_string = \"6.01\"\n",
    "\n",
    "# Convert the 'float' string into a number using float()\n",
    "# Multiply the number by 7 and display the result\n",
    "print(float(my_float_string) * 7)\n",
    "\n",
    "\n",
    "# Exercise 3\n",
    "# Create a string and an int object, then display them together\n",
    "my_string = \"mp\"\n",
    "my_int = 3\n",
    "print(my_string + str(my_int))\n",
    "\n",
    "\n",
    "# Exercise 4\n",
    "# Get two numbers from the user, multiply them,\n",
    "# and display the result\n",
    "a = input(\"Enter a number: \")\n",
    "b = input(\"Enter another number: \")\n",
    "product = float(a) * float(b)\n",
    "print(\"The product of \" + a + \" and \" + b + \" is \" + str(product) + \".\")"
   ]
  },
  {
   "attachments": {},
   "cell_type": "markdown",
   "metadata": {},
   "source": [
    "#### Streamline Your Prints"
   ]
  },
  {
   "cell_type": "code",
   "execution_count": 34,
   "metadata": {},
   "outputs": [
    {
     "name": "stdout",
     "output_type": "stream",
     "text": [
      "Hello World !\n",
      "Hello World!\n",
      "Hello World!\n",
      "Hello World!\n",
      "World Hello!\n"
     ]
    }
   ],
   "source": [
    "x = \"Hello\"\n",
    "y = \"World\"\n",
    "\n",
    "print(x, y, \"!\")\n",
    "print(x + \" \" + y + \"!\")\n",
    "print(f\"{x} {y}!\")\n",
    "print(\"{} {}!\".format(x, y))\n",
    "print(\"{1} {0}!\".format(x, y))"
   ]
  },
  {
   "cell_type": "code",
   "execution_count": 35,
   "metadata": {},
   "outputs": [
    {
     "name": "stdout",
     "output_type": "stream",
     "text": [
      "0.2 kg is the weight of the newt.\n",
      "0.2 kg is the weight of the newt.\n",
      "0.2 kg is the weight of the newt.\n"
     ]
    }
   ],
   "source": [
    "# Exercise 1\n",
    "weight = 0.2\n",
    "animal = \"newt\"\n",
    "\n",
    "# Concatenate a number and a string in one print call\n",
    "print(str(weight) + \" kg is the weight of the \" + animal + \".\")\n",
    "\n",
    "# Exercise 2\n",
    "# Use format() to print a number and a string inside of another string\n",
    "print(\"{} kg is the weight of the {}.\".format(weight, animal))\n",
    "\n",
    "# Exercise 3\n",
    "# Use formatted string literal (f-string) to reference objects inside a string\n",
    "print(f\"{weight} kg is the weight of the {animal}.\")"
   ]
  },
  {
   "attachments": {},
   "cell_type": "markdown",
   "metadata": {},
   "source": [
    "#### Find a String in a String"
   ]
  },
  {
   "cell_type": "code",
   "execution_count": 36,
   "metadata": {},
   "outputs": [
    {
     "name": "stdout",
     "output_type": "stream",
     "text": [
      "-1\n",
      "Somebody xaid xomething to Samantha.\n",
      "1\n"
     ]
    }
   ],
   "source": [
    "# Exercise 1\n",
    "# Cannot find the string \"a\" in the string \"AAA\":\n",
    "print(\"AAA\".find(\"a\"))\n",
    "\n",
    "\n",
    "# Exercise 2\n",
    "# Replace every occurrence of the character `\"s\"`\n",
    "# with the character `\"x\"`\n",
    "phrase = \"Somebody said something to Samantha.\"\n",
    "phrase = phrase.replace(\"s\", \"x\")\n",
    "print(phrase)\n",
    "# NOTE: This leaves the capital \"S\" unchanged, so the\n",
    "# output will be \"Somebody xaid xomething to Samantha.\"\n",
    "\n",
    "\n",
    "# Exercise 3\n",
    "# Try to find an upper-case \"X\" in user input:\n",
    "my_input = input(\"Type something: \")\n",
    "print(my_input.find(\"X\"))"
   ]
  },
  {
   "attachments": {},
   "cell_type": "markdown",
   "metadata": {},
   "source": [
    "### Integers and Floating-point Numbers"
   ]
  },
  {
   "attachments": {},
   "cell_type": "markdown",
   "metadata": {},
   "source": [
    "The _order of operations_ (also called _precedence_) of Python math operators is similar to that of mathematics. The \\*\\* operator is evaluated first; the \\*, /, //, and % operators are evaluated next, from left to right; and the + and \\- operators are evaluated last (also from left to right). You can use parentheses to override the usual precedence if you need to. Whitespace in between the operators and values doesn’t matter for Python (except for the indentation at the beginning of the line), but a single space is convention.\n",
    "\n",
    "| Operator | Operation | Example | Evaluates to... |\n",
    "| -------- | --------- | ------- | --------------- |\n",
    "| \\*\\* | Exponent | 2 \\*\\* 3 | 8 |\n",
    "| % | Modulus/remainder | 22 % 8 | 6 |\n",
    "| // | Integer division/floored quotient | 22 // 8 | 2 |\n",
    "| / | Division | 22 / 8 | 2.75 |\n",
    "| \\* | Multiplication | 3 \\* 5 | 15 |\n",
    "| \\- | Subtraction | 5 - 2 | 3 |\n",
    "| + | Addition | 2 + 2 | 4 |"
   ]
  },
  {
   "cell_type": "code",
   "execution_count": 37,
   "metadata": {},
   "outputs": [
    {
     "name": "stdout",
     "output_type": "stream",
     "text": [
      "2 + 3 * 6 = 20\n",
      "(2 + 3) * 6 = 30\n",
      "48565878 * 578453 = 28093077826734\n",
      "2 ** 8 = 256\n",
      "23 / 7 = 3.2857142857142856\n",
      "23 // 7 = 3\n",
      "23 % 7 = 2\n",
      "2 + 2 = 4\n",
      "(5 - 1) * ((7 + 1) / (3 - 1)) = 16.0\n"
     ]
    }
   ],
   "source": [
    "print(\"2 + 3 * 6 = {}\".format(2 + 3 * 6))\n",
    "print(\"(2 + 3) * 6 = {}\".format((2 + 3) * 6))\n",
    "print(\"48565878 * 578453 = {}\".format(48565878 * 578453))\n",
    "print(\"2 ** 8 = {}\".format(2 ** 8))\n",
    "print(\"23 / 7 = {}\".format(23 / 7))\n",
    "print(\"23 // 7 = {}\".format(23 // 7))\n",
    "print(\"23 % 7 = {}\".format(23 % 7))\n",
    "print(\"2 + 2 = {}\".format(2 + 2))\n",
    "print(\"(5 - 1) * ((7 + 1) / (3 - 1)) = {}\".format((5 - 1) * ((7 + 1) / (3 - 1))))"
   ]
  },
  {
   "cell_type": "code",
   "execution_count": 38,
   "metadata": {},
   "outputs": [
    {
     "name": "stdout",
     "output_type": "stream",
     "text": [
      "12\n",
      "3.0\n",
      "Area: 750.0\n",
      "Before swap:\n",
      "var1 = 123 and var2 = 111\n",
      "\n",
      "After swap:\n",
      "var1 = 111 and var2 = 123\n",
      "0.33061008354963906\n",
      "10\n",
      "Kilometers: 16.0934\n",
      "Miles: 10.0\n",
      "Celsius: 100\n",
      "Fahrenheit: 212.0\n",
      "                                  2023\n",
      "\n",
      "      January                   February                   March\n",
      "Mo Tu We Th Fr Sa Su      Mo Tu We Th Fr Sa Su      Mo Tu We Th Fr Sa Su\n",
      "                   1             1  2  3  4  5             1  2  3  4  5\n",
      " 2  3  4  5  6  7  8       6  7  8  9 10 11 12       6  7  8  9 10 11 12\n",
      " 9 10 11 12 13 14 15      13 14 15 16 17 18 19      13 14 15 16 17 18 19\n",
      "16 17 18 19 20 21 22      20 21 22 23 24 25 26      20 21 22 23 24 25 26\n",
      "23 24 25 26 27 28 29      27 28                     27 28 29 30 31\n",
      "30 31\n",
      "\n",
      "       April                      May                       June\n",
      "Mo Tu We Th Fr Sa Su      Mo Tu We Th Fr Sa Su      Mo Tu We Th Fr Sa Su\n",
      "                1  2       1  2  3  4  5  6  7                1  2  3  4\n",
      " 3  4  5  6  7  8  9       8  9 10 11 12 13 14       5  6  7  8  9 10 11\n",
      "10 11 12 13 14 15 16      15 16 17 18 19 20 21      12 13 14 15 16 17 18\n",
      "17 18 19 20 21 22 23      22 23 24 25 26 27 28      19 20 21 22 23 24 25\n",
      "24 25 26 27 28 29 30      29 30 31                  26 27 28 29 30\n",
      "\n",
      "        July                     August                  September\n",
      "Mo Tu We Th Fr Sa Su      Mo Tu We Th Fr Sa Su      Mo Tu We Th Fr Sa Su\n",
      "                1  2          1  2  3  4  5  6                   1  2  3\n",
      " 3  4  5  6  7  8  9       7  8  9 10 11 12 13       4  5  6  7  8  9 10\n",
      "10 11 12 13 14 15 16      14 15 16 17 18 19 20      11 12 13 14 15 16 17\n",
      "17 18 19 20 21 22 23      21 22 23 24 25 26 27      18 19 20 21 22 23 24\n",
      "24 25 26 27 28 29 30      28 29 30 31               25 26 27 28 29 30\n",
      "31\n",
      "\n",
      "      October                   November                  December\n",
      "Mo Tu We Th Fr Sa Su      Mo Tu We Th Fr Sa Su      Mo Tu We Th Fr Sa Su\n",
      "                   1             1  2  3  4  5                   1  2  3\n",
      " 2  3  4  5  6  7  8       6  7  8  9 10 11 12       4  5  6  7  8  9 10\n",
      " 9 10 11 12 13 14 15      13 14 15 16 17 18 19      11 12 13 14 15 16 17\n",
      "16 17 18 19 20 21 22      20 21 22 23 24 25 26      18 19 20 21 22 23 24\n",
      "23 24 25 26 27 28 29      27 28 29 30               25 26 27 28 29 30 31\n",
      "30 31\n",
      "\n",
      "Before swap:\n",
      "var1 = 123 and var2 = 111\n",
      "\n",
      "After swap:\n",
      "var1 = 111 and var2 = 123\n"
     ]
    }
   ],
   "source": [
    "# Write a Python program to do arithmetical operations addition and division\n",
    "\n",
    "x = 9\n",
    "y = 3\n",
    "\n",
    "## Addition\n",
    "print(x + y)\n",
    "\n",
    "## Division\n",
    "print(x / y)\n",
    "\n",
    "\n",
    "# Write a Python program to find the area of a triangle\n",
    "\n",
    "height = 50\n",
    "base = 30\n",
    "\n",
    "print(f'Area: {height * base / 2}')\n",
    "\n",
    "\n",
    "# Write a Python program to swap two variables\n",
    "\n",
    "var1 = 123\n",
    "var2 = 111\n",
    "\n",
    "print(f'Before swap:\\nvar1 = {var1} and var2 = {var2}')\n",
    "\n",
    "var1, var2 = var2, var1\n",
    "\n",
    "print(f'\\nAfter swap:\\nvar1 = {var1} and var2 = {var2}')\n",
    "\n",
    "\n",
    "# Write a Python program to generate a random number\n",
    "\n",
    "print(random.random())\n",
    "print(random.randint(1, 10))\n",
    "\n",
    "\n",
    "# Write a Python program to convert kilometers to miles\n",
    "\n",
    "km = 16.0934\n",
    "\n",
    "miles = km / 1.60934\n",
    "\n",
    "print(f'Kilometers: {km}\\nMiles: {miles}')\n",
    "\n",
    "\n",
    "# Write a Python program to convert Celsius to Fahrenheit\n",
    "\n",
    "c = 100\n",
    "\n",
    "f = (9 * c / 5) + 32\n",
    "\n",
    "print(f'Celsius: {c}\\nFahrenheit: {f}')\n",
    "\n",
    "\n",
    "# Write a Python program to display calendar\n",
    "\n",
    "print(calendar.calendar(2023))\n",
    "\n",
    "\n",
    "# Write a Python program to swap two variables without temp variable\n",
    "\n",
    "var1 = 123\n",
    "var2 = 111\n",
    "\n",
    "print(f'Before swap:\\nvar1 = {var1} and var2 = {var2}')\n",
    "\n",
    "var1, var2 = var2, var1\n",
    "\n",
    "print(f'\\nAfter swap:\\nvar1 = {var1} and var2 = {var2}')"
   ]
  },
  {
   "cell_type": "code",
   "execution_count": 39,
   "metadata": {},
   "outputs": [
    {
     "name": "stdout",
     "output_type": "stream",
     "text": [
      "25000000\n",
      "25000000\n",
      "175000.0\n",
      "inf\n"
     ]
    }
   ],
   "source": [
    "# Exercise 1\n",
    "num1 = 25_000_000\n",
    "num2 = 25000000\n",
    "print(num1)\n",
    "print(num2)\n",
    "\n",
    "# Exercise 2\n",
    "num = 1.75e5\n",
    "print(num)\n",
    "\n",
    "# Exercise 3\n",
    "print(2e308)"
   ]
  },
  {
   "attachments": {},
   "cell_type": "markdown",
   "metadata": {},
   "source": [
    "#### Math Functions and Number Methods"
   ]
  },
  {
   "cell_type": "code",
   "execution_count": null,
   "metadata": {},
   "outputs": [],
   "source": [
    "# Exercise 1\n",
    "user_input = input(\"Enter a number: \")\n",
    "num = float(user_input)\n",
    "print(f\"{num} rounded to 2 decimal places is {round(num, 2)}\")\n",
    "\n",
    "# Exercise 2\n",
    "user_input = input(\"Enter a number: \")\n",
    "num = float(user_input)\n",
    "print(f\"The absolute value of {num} is {abs(num)}\")\n",
    "\n",
    "# Exercise 3\n",
    "num1 = float(input(\"Enter a number: \"))\n",
    "num2 = float(input(\"Enter another number: \"))\n",
    "print(\n",
    "    f\"The difference between {num1} and {num2} is an integer? \"\n",
    "    f\"{(num1 - num2).is_integer()}!\"\n",
    ")"
   ]
  },
  {
   "attachments": {},
   "cell_type": "markdown",
   "metadata": {},
   "source": [
    "#### Print Numbers in Style"
   ]
  },
  {
   "cell_type": "code",
   "execution_count": null,
   "metadata": {},
   "outputs": [],
   "source": [
    "# Exercise 1\n",
    "print(f\"{3 ** .125:.3f}\")\n",
    "\n",
    "# Exercise 2\n",
    "print(f\"${150000:,.2f}\")\n",
    "\n",
    "# Exercise 3\n",
    "print(f\"{2 / 10:.0%}\")"
   ]
  },
  {
   "attachments": {},
   "cell_type": "markdown",
   "metadata": {},
   "source": [
    "### Tuple"
   ]
  },
  {
   "attachments": {},
   "cell_type": "markdown",
   "metadata": {},
   "source": [
    "-   In python, a tuple is a collection of objects which is ordered and immutable\n",
    "-   Created by placing sequence of elements within round () braces, separated by ' , '\n",
    "-   Values can be of any datatype\n",
    "-   Concatenation of tuples can be done by the use of '+' operator\n",
    "-   Tuples are just like lists except that the tuples are immutable i.e cannot be changed"
   ]
  },
  {
   "cell_type": "code",
   "execution_count": 49,
   "metadata": {},
   "outputs": [
    {
     "name": "stdout",
     "output_type": "stream",
     "text": [
      "(10, 'Hello', 3.14, 'a')\n",
      "<class 'tuple'>\n"
     ]
    }
   ],
   "source": [
    "# Tuple with items\n",
    "tup= (10,\"Hello\",3.14,\"a\")\n",
    "print(tup)\n",
    "print(type(tup))"
   ]
  },
  {
   "cell_type": "code",
   "execution_count": 46,
   "metadata": {},
   "outputs": [
    {
     "data": {
      "text/plain": [
       "('pop',\n",
       " 'rock',\n",
       " 'soul',\n",
       " 'hard rock',\n",
       " 'soft rock',\n",
       " 'R&B',\n",
       " 'progressive rock',\n",
       " 'disco')"
      ]
     },
     "execution_count": 46,
     "metadata": {},
     "output_type": "execute_result"
    }
   ],
   "source": [
    "genres_tuple = (\"pop\", \"rock\", \"soul\", \"hard rock\", \"soft rock\", \\\n",
    "                \"R&B\", \"progressive rock\", \"disco\") \n",
    "genres_tuple"
   ]
  },
  {
   "attachments": {},
   "cell_type": "markdown",
   "metadata": {},
   "source": [
    "Find the length of the tuple, <code>genres_tuple</code>:"
   ]
  },
  {
   "cell_type": "code",
   "execution_count": 47,
   "metadata": {},
   "outputs": [
    {
     "data": {
      "text/plain": [
       "8"
      ]
     },
     "execution_count": 47,
     "metadata": {},
     "output_type": "execute_result"
    }
   ],
   "source": [
    "len(genres_tuple)"
   ]
  },
  {
   "attachments": {},
   "cell_type": "markdown",
   "metadata": {},
   "source": [
    "Access the element, with respect to index 3:"
   ]
  },
  {
   "cell_type": "code",
   "execution_count": 48,
   "metadata": {},
   "outputs": [
    {
     "data": {
      "text/plain": [
       "'hard rock'"
      ]
     },
     "execution_count": 48,
     "metadata": {},
     "output_type": "execute_result"
    }
   ],
   "source": [
    "genres_tuple[3]"
   ]
  },
  {
   "attachments": {},
   "cell_type": "markdown",
   "metadata": {},
   "source": [
    "Use slicing to obtain indexes 3, 4 and 5:"
   ]
  },
  {
   "cell_type": "code",
   "execution_count": 49,
   "metadata": {},
   "outputs": [
    {
     "data": {
      "text/plain": [
       "('hard rock', 'soft rock', 'R&B')"
      ]
     },
     "execution_count": 49,
     "metadata": {},
     "output_type": "execute_result"
    }
   ],
   "source": [
    "genres_tuple[3:6]"
   ]
  },
  {
   "attachments": {},
   "cell_type": "markdown",
   "metadata": {},
   "source": [
    "Find the first two elements of the tuple <code>genres_tuple</code>:"
   ]
  },
  {
   "cell_type": "code",
   "execution_count": 50,
   "metadata": {},
   "outputs": [
    {
     "data": {
      "text/plain": [
       "('pop', 'rock')"
      ]
     },
     "execution_count": 50,
     "metadata": {},
     "output_type": "execute_result"
    }
   ],
   "source": [
    "genres_tuple[0:2]"
   ]
  },
  {
   "attachments": {},
   "cell_type": "markdown",
   "metadata": {},
   "source": [
    "Find the first index of <code>\"disco\"</code>:"
   ]
  },
  {
   "cell_type": "code",
   "execution_count": 51,
   "metadata": {},
   "outputs": [
    {
     "data": {
      "text/plain": [
       "7"
      ]
     },
     "execution_count": 51,
     "metadata": {},
     "output_type": "execute_result"
    }
   ],
   "source": [
    "genres_tuple.index(\"disco\")"
   ]
  },
  {
   "cell_type": "code",
   "execution_count": 50,
   "metadata": {},
   "outputs": [
    {
     "name": "stdout",
     "output_type": "stream",
     "text": [
      "3.14\n",
      "('a', 3.14, 'Hello', 10)\n"
     ]
    }
   ],
   "source": [
    "# Negative Indexing : index of -1 refers to the last item, -2 to the #second last item and so on\n",
    "tup = (10,\"Hello\",3.14,\"a\")\n",
    "print(tup[-2])\n",
    "#Reverse the tuple\n",
    "print(tup[::-1])"
   ]
  },
  {
   "cell_type": "code",
   "execution_count": 51,
   "metadata": {},
   "outputs": [
    {
     "name": "stdout",
     "output_type": "stream",
     "text": [
      "(10, 'Hello', 3.14, 'a', 50, 60)\n",
      "(10, 'Hello', 3.14, 'a', 10, 'Hello', 3.14, 'a')\n"
     ]
    }
   ],
   "source": [
    "#concatenation and repeat in Tuples\n",
    "#concatenation using + operator\n",
    "tup = (10,\"Hello\",3.14,\"a\")\n",
    "print(tup + (50,60))\n",
    "#repeat using * operator\n",
    "print(tup * 2)"
   ]
  },
  {
   "cell_type": "code",
   "execution_count": 52,
   "metadata": {},
   "outputs": [
    {
     "name": "stdout",
     "output_type": "stream",
     "text": [
      "True\n",
      "False\n"
     ]
    }
   ],
   "source": [
    "#membership : check if an item exists in a tuple or not, using the keyword in\n",
    "tup = (10,\"Hello\",3.14,\"a\")\n",
    "print(10 in tup)\n",
    "print(\"World\" in tup)"
   ]
  },
  {
   "cell_type": "code",
   "execution_count": 53,
   "metadata": {},
   "outputs": [
    {
     "name": "stdout",
     "output_type": "stream",
     "text": [
      "10\n",
      "Hello\n",
      "3.14\n",
      "a\n"
     ]
    }
   ],
   "source": [
    "#Iterate through Tuple : use for loop to iterate through each item #in a tuple\n",
    "tup = (10,\"Hello\",3.14,\"a\")\n",
    "for i in tup:\n",
    "    print(i)"
   ]
  },
  {
   "cell_type": "code",
   "execution_count": 54,
   "metadata": {},
   "outputs": [
    {
     "name": "stdout",
     "output_type": "stream",
     "text": [
      "((10, 'Hello', 3.14, 'a'), (70, (8, 'Mike')))\n",
      "(10, 'Hello', 3.14, 'a')\n",
      "(70, (8, 'Mike'))\n"
     ]
    }
   ],
   "source": [
    "#Nested Tuple\n",
    "nest_tup = ((10,\"Hello\",3.14,\"a\"), (70,(8,\"Mike\")))\n",
    "print(nest_tup)\n",
    "a,b = nest_tup\n",
    "print(a)\n",
    "print(b)"
   ]
  },
  {
   "cell_type": "code",
   "execution_count": 55,
   "metadata": {},
   "outputs": [
    {
     "name": "stdout",
     "output_type": "stream",
     "text": [
      "(0, 10)\n",
      "(1, 'Hello')\n",
      "(2, 3.14)\n",
      "(3, 'a')\n"
     ]
    }
   ],
   "source": [
    "#Enumerate : use enumerate function\n",
    "tup = (10,\"Hello\",3.14,\"a\")\n",
    "for i in enumerate(tup):\n",
    "    print(i)"
   ]
  },
  {
   "cell_type": "code",
   "execution_count": null,
   "metadata": {},
   "outputs": [],
   "source": [
    "# Exercise 1\n",
    "# Create a tuple \"cardinal_numbers\" with \"first\", \"second\" and \"third\"\n",
    "cardinal_numbers = (\"first\", \"second\", \"third\")\n",
    "\n",
    "\n",
    "# Exercise 2\n",
    "# Display the second object in the tuple\n",
    "print(cardinal_numbers[1])\n",
    "\n",
    "\n",
    "# Exercise 3\n",
    "# Unpack the tuple into three strings and display them\n",
    "position1, position2, position3 = cardinal_numbers\n",
    "print(position1)\n",
    "print(position2)\n",
    "print(position3)\n",
    "\n",
    "# Exercise 4\n",
    "# Create a tuple containing the letters of your name from a string\n",
    "my_name = tuple(\"David\")\n",
    "\n",
    "# Exercide 5\n",
    "# Check whether or not x is in my_name\n",
    "print(\"x\" in my_name)\n",
    "\n",
    "# Exercise 6\n",
    "# Create tuple containing all but the first letter in my_name\n",
    "print(my_name[1:])\n"
   ]
  },
  {
   "attachments": {},
   "cell_type": "markdown",
   "metadata": {},
   "source": [
    "### Lists"
   ]
  },
  {
   "attachments": {},
   "cell_type": "markdown",
   "metadata": {},
   "source": [
    "-   One of the most versatile data type in Python, Lists are used to store multiple items ( homogeneous or non-homogeneous) in a single variable.\n",
    "-   Place the items inside the square brackets[]\n",
    "-   Items can be of any data type\n",
    "-   Lists are defined as objects with the data type 'list'\n",
    "-   Items are ordered, changeable, and allow duplicate values\n",
    "-   list() constructor can be used when creating a new list\n",
    "-   To access values in lists, use the square brackets for slicing along with the index to obtain item value available at a particular index\n",
    "-   Items inside list are indexed, the first item has index [0], the second item has index [1] etc"
   ]
  },
  {
   "cell_type": "code",
   "execution_count": 9,
   "metadata": {},
   "outputs": [
    {
     "name": "stdout",
     "output_type": "stream",
     "text": [
      "['hello', 'World', 'Beautiful', 'Day']\n"
     ]
    }
   ],
   "source": [
    "#list() constructor to make a List\n",
    "list_cons = list((\"hello\",\"World\",\"Beautiful\",\"Day\"))\n",
    "print(list_cons)"
   ]
  },
  {
   "cell_type": "code",
   "execution_count": 10,
   "metadata": {},
   "outputs": [
    {
     "name": "stdout",
     "output_type": "stream",
     "text": [
      "['hello', [8, 4, 6], ['World']]\n"
     ]
    }
   ],
   "source": [
    "# nested list\n",
    "list_nest= [\"hello\",[8,4,6],['World']]\n",
    "print(list_nest)"
   ]
  },
  {
   "cell_type": "code",
   "execution_count": 11,
   "metadata": {},
   "outputs": [
    {
     "name": "stdout",
     "output_type": "stream",
     "text": [
      "['monday', 'tuesday', 'wednesday']\n"
     ]
    }
   ],
   "source": [
    "#slice lists in Python : Use the slicing operator :(colon)\n",
    "list_one = [\"sunday\",\"monday\",\"tuesday\",\"wednesday\",\"thursday\"]\n",
    "print(list_one[1:4])"
   ]
  },
  {
   "cell_type": "code",
   "execution_count": 12,
   "metadata": {},
   "outputs": [
    {
     "name": "stdout",
     "output_type": "stream",
     "text": [
      "['sunday', 'monday', 'tuesday', 'friday', 'thursday']\n"
     ]
    }
   ],
   "source": [
    "#Add/Change List Elements : use the assignment operator = to change #an item\n",
    "list_one = [\"sunday\",\"monday\",\"tuesday\",\"wednesday\",\"thursday\"]\n",
    "list_one[3] = 'friday'\n",
    "print(list_one)"
   ]
  },
  {
   "cell_type": "code",
   "execution_count": 13,
   "metadata": {},
   "outputs": [
    {
     "name": "stdout",
     "output_type": "stream",
     "text": [
      "['sunday', 'monday', 'tuesday', 'wednesday', 'thursday', 'friday']\n",
      "['sunday', 'monday', 'tuesday', 'wednesday', 'thursday', 'friday', 'saturday']\n"
     ]
    }
   ],
   "source": [
    "# Appending and Extending lists in Python : Use the append() or #extend() method\n",
    "list_one = [\"sunday\",\"monday\",\"tuesday\",\"wednesday\",\"thursday\"]\n",
    "list_one.append('friday')\n",
    "print(list_one)\n",
    "#extend\n",
    "list_one.extend(['saturday'])\n",
    "print(list_one)"
   ]
  },
  {
   "cell_type": "code",
   "execution_count": 14,
   "metadata": {},
   "outputs": [
    {
     "name": "stdout",
     "output_type": "stream",
     "text": [
      "['sunday', 'monday', 'tuesday', 'wednesday', 'thursday', 0, 1, 2, 3, 4]\n",
      "['a', 'b', 'a', 'b']\n"
     ]
    }
   ],
   "source": [
    "# Concatenating and repeat lists : use + operator to concate two #lists and use * operator to repeat lists\n",
    "list_one = [\"sunday\",\"monday\",\"tuesday\",\"wednesday\",\"thursday\"]\n",
    "print(list_one + [0,1,2,3,4])\n",
    "#repeat operation \n",
    "print(['a','b']*2)"
   ]
  },
  {
   "cell_type": "code",
   "execution_count": 15,
   "metadata": {},
   "outputs": [
    {
     "name": "stdout",
     "output_type": "stream",
     "text": [
      "['sunday', 'monday', 'wednesday', 'thursday']\n",
      "['sunday', 'monday', 'wednesday', 'thursday']\n",
      "Pop result: ['sunday', 'monday', 'wednesday', 'thursday']\n"
     ]
    }
   ],
   "source": [
    "# Delete/Remove List Elements : delete one or more items or entire list using the keyword del\n",
    "del list_one[2]\n",
    "print(list_one)\n",
    "#remove method : remove the given item or pop() method to remove an item at the given index location\n",
    "list_one = [\"sunday\",\"monday\",\"tuesday\",\"wednesday\",\"thursday\"]\n",
    "list_one.remove(\"tuesday\")\n",
    "print(list_one)\n",
    "#pop method\n",
    "list_one = [\"sunday\",\"monday\",\"tuesday\",\"wednesday\",\"thursday\"]\n",
    "list_one.pop(2)\n",
    "print(\"Pop result:\", list_one)"
   ]
  },
  {
   "cell_type": "code",
   "execution_count": 16,
   "metadata": {},
   "outputs": [
    {
     "name": "stdout",
     "output_type": "stream",
     "text": [
      "2\n"
     ]
    }
   ],
   "source": [
    "# index() method : Returns the index of the first matched item\n",
    "list_one = [\"sunday\",\"monday\",\"tuesday\",\"wednesday\",\"thursday\"]\n",
    "print(list_one.index(\"tuesday\"))"
   ]
  },
  {
   "cell_type": "code",
   "execution_count": 17,
   "metadata": {},
   "outputs": [
    {
     "name": "stdout",
     "output_type": "stream",
     "text": [
      "['monday', 'sunday', 'thursday', 'tuesday', 'wednesday']\n"
     ]
    }
   ],
   "source": [
    "# sort() method: Sort items in a list in ascending order\n",
    "list_one = [\"sunday\",\"monday\",\"tuesday\",\"wednesday\",\"thursday\"]\n",
    "list_one.sort()\n",
    "print(list_one)"
   ]
  },
  {
   "cell_type": "code",
   "execution_count": 18,
   "metadata": {},
   "outputs": [
    {
     "name": "stdout",
     "output_type": "stream",
     "text": [
      "['thursday', 'wednesday', 'tuesday', 'monday', 'sunday']\n"
     ]
    }
   ],
   "source": [
    "# reverse() : Reverse the order of items in the list\n",
    "list_one = [\"sunday\",\"monday\",\"tuesday\",\"wednesday\",\"thursday\"]\n",
    "list_one.reverse()\n",
    "print(list_one)"
   ]
  },
  {
   "cell_type": "code",
   "execution_count": 19,
   "metadata": {},
   "outputs": [
    {
     "name": "stdout",
     "output_type": "stream",
     "text": [
      "['sunday', 'monday', 'tuesday', 'wednesday', 'thursday']\n"
     ]
    }
   ],
   "source": [
    "# copy(): Returns a shallow copy of the list\n",
    "list_one = [\"sunday\",\"monday\",\"tuesday\",\"wednesday\",\"thursday\"]\n",
    "list_two = list_one.copy()\n",
    "print(list_two)"
   ]
  },
  {
   "cell_type": "code",
   "execution_count": 20,
   "metadata": {},
   "outputs": [
    {
     "name": "stdout",
     "output_type": "stream",
     "text": [
      "True\n"
     ]
    }
   ],
   "source": [
    "#Membership : check if an item exists in a list or not, using the keyword in\n",
    "list_one = [\"sunday\",\"monday\",\"tuesday\",\"wednesday\",\"thursday\"]\n",
    "print('tuesday' in list_one)"
   ]
  },
  {
   "cell_type": "code",
   "execution_count": 21,
   "metadata": {},
   "outputs": [
    {
     "name": "stdout",
     "output_type": "stream",
     "text": [
      "['sunday', 'monday', 'friday', 'tuesday', 'wednesday', 'thursday']\n"
     ]
    }
   ],
   "source": [
    "# insert() method : insert item at a desired location\n",
    "list_one = [\"sunday\",\"monday\",\"tuesday\",\"wednesday\",\"thursday\"]\n",
    "list_one.insert(2,'friday')\n",
    "print(list_one)"
   ]
  },
  {
   "cell_type": "code",
   "execution_count": null,
   "metadata": {},
   "outputs": [],
   "source": [
    "\n",
    "# Exercise 1\n",
    "# Create a list named food with two elements \"rice\" and \"beans\".\n",
    "food = [\"rice\", \"beans\"]\n",
    "\n",
    "\n",
    "# Exercise 2\n",
    "# Append the string \"broccoli\" to the food list using .append()\n",
    "food.append(\"broccoli\")\n",
    "\n",
    "\n",
    "# Exercise 3\n",
    "# Add the strings \"bread\" and \"pizza\" to food using .extend()\n",
    "food.extend([\"bread\", \"pizza\"])\n",
    "\n",
    "\n",
    "# Exercise 4\n",
    "# Print the first two items in food using slicing notation\n",
    "print(food[:2])\n",
    "\n",
    "# NOTE: The following is also acceptable\n",
    "print(food[0:2])\n",
    "\n",
    "\n",
    "# Exercise 5\n",
    "# Print the last item in food using index notation\n",
    "print(food[-1])\n",
    "\n",
    "\n",
    "# Exercise 6\n",
    "# Create a list called breakfast from the string \"eggs, fruit, orange juice\"\n",
    "breakfast = \"eggs, fruit, orange juice\".split(\", \")\n",
    "\n",
    "\n",
    "# Exercise 7\n",
    "# Verify that breakfast has three items using len()\n",
    "print(len(breakfast) == 3)\n",
    "\n",
    "\n",
    "# Exercise 8\n",
    "# Create a new list called `lengths` using a list\n",
    "# comprehension that contains the lengths of each\n",
    "# string in the `breakfast` list.\n",
    "lengths = [len(item) for item in breakfast]\n",
    "print(lengths)"
   ]
  },
  {
   "attachments": {},
   "cell_type": "markdown",
   "metadata": {},
   "source": [
    "#### Nesting, Copying, and Sorting Lists and Tuples"
   ]
  },
  {
   "cell_type": "code",
   "execution_count": null,
   "metadata": {},
   "outputs": [],
   "source": [
    "# Exercise 1\n",
    "# Create a tuple called data with two values, (1, 2) and (3, 4)\n",
    "data = ((1, 2), (3, 4))\n",
    "\n",
    "\n",
    "# Exercise 2\n",
    "# Loop over data and print the sum of each nested tuple\n",
    "index = 1\n",
    "for row in data:\n",
    "    print(f\"Row {index} sum: {sum(row)}\")\n",
    "    index += 1\n",
    "\n",
    "\n",
    "# Exercise 3\n",
    "# Create the list [4, 3, 2, 1] and assign it to variable numbers\n",
    "numbers = [4, 3, 2, 1]\n",
    "\n",
    "\n",
    "# Exercise 4\n",
    "# Create a copy of the number list using [:]\n",
    "numbers_copy = numbers[:]\n",
    "\n",
    "\n",
    "# Exercise 5\n",
    "# Sort the numbers list in numerical order\n",
    "numbers.sort()\n",
    "print(numbers)"
   ]
  },
  {
   "attachments": {},
   "cell_type": "markdown",
   "metadata": {},
   "source": [
    "#### Challenge: List of Lists"
   ]
  },
  {
   "cell_type": "code",
   "execution_count": null,
   "metadata": {},
   "outputs": [],
   "source": [
    "def enrollment_stats(list_of_universities):\n",
    "    # Variables\n",
    "    total_students = []\n",
    "    total_tuition = []\n",
    "\n",
    "    # Iterate through lists, adding values\n",
    "    for university in list_of_universities:\n",
    "        total_students.append(university[1])\n",
    "        total_tuition.append(university[2])\n",
    "\n",
    "    # Return variables\n",
    "    return total_students, total_tuition\n",
    "\n",
    "\n",
    "def mean(values):\n",
    "    \"\"\"Return the mean value in the list `values`\"\"\"\n",
    "    return sum(values) / len(values)\n",
    "\n",
    "\n",
    "def median(values):\n",
    "    \"\"\"Return the median value of the list `values`\"\"\"\n",
    "    values.sort()\n",
    "    # If the number of values is odd,\n",
    "    # return the middle value of the list\n",
    "    if len(values) % 2 == 1:\n",
    "        # The value at the center of the list is the value\n",
    "        # at whose index is half of the length of the list,\n",
    "        # rounded down\n",
    "        center_index = int(len(values) / 2)\n",
    "        return values[center_index]\n",
    "    # Otherwise, if the length of the list is even, return\n",
    "    # the mean of the two center values\n",
    "    else:\n",
    "        left_center_index = (len(values) - 1) // 2\n",
    "        right_center_index = (len(values) + 1) // 2\n",
    "        return mean([values[left_center_index], values[right_center_index]])\n",
    "\n",
    "\n",
    "universities = [\n",
    "    [\"California Institute of Technology\", 2175, 37704],\n",
    "    [\"Harvard\", 19627, 39849],\n",
    "    [\"Massachusetts Institute of Technology\", 10566, 40732],\n",
    "    [\"Princeton\", 7802, 37000],\n",
    "    [\"Rice\", 5879, 35551],\n",
    "    [\"Stanford\", 19535, 40569],\n",
    "    [\"Yale\", 11701, 40500],\n",
    "]\n",
    "\n",
    "totals = enrollment_stats(universities)\n",
    "\n",
    "print(\"\\n\")\n",
    "print(\"*****\" * 6)\n",
    "print(f\"Total students:   {sum(totals[0]):,}\")\n",
    "print(f\"Total tuition:  $ {sum(totals[1]):,}\")\n",
    "print(f\"\\nStudent mean:     {mean(totals[0]):,.2f}\")\n",
    "print(f\"Student median:   {median(totals[0]):,}\")\n",
    "print(f\"\\nTuition mean:   $ {mean(totals[1]):,.2f}\")\n",
    "print(f\"Tuition median: $ {median(totals[1]):,}\")\n",
    "print(\"*****\" * 6)\n",
    "print(\"\\n\")\n"
   ]
  },
  {
   "attachments": {},
   "cell_type": "markdown",
   "metadata": {},
   "source": [
    "### List Comprehensions"
   ]
  },
  {
   "attachments": {},
   "cell_type": "markdown",
   "metadata": {},
   "source": [
    "-   In python, list comprehensions are used to create a new list based on the values of an existing list in the most elegant and shortest way.\n",
    "-   List comprehension consists of an expression followed by for statement inside square [] brackets."
   ]
  },
  {
   "cell_type": "code",
   "execution_count": 24,
   "metadata": {},
   "outputs": [
    {
     "data": {
      "text/plain": [
       "[0, 1, 2, 3, 4]"
      ]
     },
     "execution_count": 24,
     "metadata": {},
     "output_type": "execute_result"
    }
   ],
   "source": [
    "lst = [x for x in range(5)]\n",
    "print(lst)"
   ]
  },
  {
   "cell_type": "code",
   "execution_count": 23,
   "metadata": {},
   "outputs": [
    {
     "data": {
      "text/plain": [
       "['0', '1', '2', '3', '4']"
      ]
     },
     "execution_count": 23,
     "metadata": {},
     "output_type": "execute_result"
    }
   ],
   "source": [
    "[str(x) for x in lst]"
   ]
  },
  {
   "cell_type": "code",
   "execution_count": 26,
   "metadata": {},
   "outputs": [
    {
     "name": "stdout",
     "output_type": "stream",
     "text": [
      "[69, 70, 71, 72, 73]\n"
     ]
    }
   ],
   "source": [
    "lst1= [x for x in range(69,74)]\n",
    "print (lst1)"
   ]
  },
  {
   "cell_type": "code",
   "execution_count": 27,
   "metadata": {},
   "outputs": [
    {
     "name": "stdout",
     "output_type": "stream",
     "text": [
      "[71, 72, 73]\n"
     ]
    }
   ],
   "source": [
    "print(lst1[2:])"
   ]
  },
  {
   "cell_type": "code",
   "execution_count": 28,
   "metadata": {},
   "outputs": [
    {
     "name": "stdout",
     "output_type": "stream",
     "text": [
      "[1, 2, 4, 8, 16, 32, 64, 128, 256, 512, 1024, 2048, 4096, 8192, 16384, 32768, 65536, 131072, 262144, 524288]\n"
     ]
    }
   ],
   "source": [
    "sqr = [2**x for x in range(20)]\n",
    "print(sqr)"
   ]
  },
  {
   "attachments": {},
   "cell_type": "markdown",
   "metadata": {},
   "source": [
    "### Sets"
   ]
  },
  {
   "attachments": {},
   "cell_type": "markdown",
   "metadata": {},
   "source": [
    "-   In python, a set is a collection of objects which is both unindexed and unordered\n",
    "-   Sets make sure that there are no duplicate elements in the items sequence\n",
    "-   Created by using the built-in set() function with an iterable object by placing the items inside curly {} braces, separated by ','\n",
    "-   Items can be added to the set by using built-in add() function\n",
    "-   Items can be accessed by looping through the set using loops or using 'in' keyword\n",
    "-   Items can be removed from the set by using built-in remove()"
   ]
  },
  {
   "cell_type": "code",
   "execution_count": 56,
   "metadata": {},
   "outputs": [
    {
     "name": "stdout",
     "output_type": "stream",
     "text": [
      "{40, 10, 20, 30}\n",
      "{40, 10, 20, 30}\n"
     ]
    }
   ],
   "source": [
    "#Create Set\n",
    "set_one = {10, 20, 30, 40}\n",
    "print(set_one)\n",
    "#Create set from list using set() \n",
    "set_two = set([10, 20, 30, 40, 30, 20])\n",
    "print(set_two)"
   ]
  },
  {
   "cell_type": "code",
   "execution_count": 57,
   "metadata": {},
   "outputs": [
    {
     "name": "stdout",
     "output_type": "stream",
     "text": [
      "After discard: {40, 10, 20, 30}\n",
      "After removing element : {10, 20, 30}\n",
      "After removing element : {20, 30}\n"
     ]
    }
   ],
   "source": [
    "# Removing elements : Use the methods discard(), pop() and remove()\n",
    "#set_one is {100, 70, 40, 10, 80, 20, 60, 30}\n",
    "#discard() method\n",
    "set_one.discard(100)\n",
    "print(\"After discard:\",set_one)\n",
    "#remove() method\n",
    "set_one.remove(40)\n",
    "print(\"After removing element :\", set_one)\n",
    "#pop() method\n",
    "set_one.pop()\n",
    "print(\"After removing element :\", set_one)"
   ]
  },
  {
   "cell_type": "code",
   "execution_count": 58,
   "metadata": {},
   "outputs": [
    {
     "name": "stdout",
     "output_type": "stream",
     "text": [
      "Set Union: {100, 70, 40, 10, 80, 50, 20, 60, 30}\n",
      "Set Intersection: {50}\n",
      "Set Difference: {10, 20, 30}\n",
      "Set Symmetric Difference: {80, 50, 100, 70, 60}\n"
     ]
    }
   ],
   "source": [
    "#Set operations \n",
    "X = {10, 20, 30, 40, 50}\n",
    "Y = {40, 50, 60, 70, 80}\n",
    "Z = {20, 30, 100, 50, 10}\n",
    "#Union : Union of X, Y, Z is a set of all elements from all three #sets using | operator or union() method\n",
    "print(\"Set Union:\", X|Y|Z)\n",
    "#Intersection :Intersection of X, Y, Z is a set of all elements from #all three sets using & operator or intersection()\n",
    "print(\"Set Intersection:\", X&Y&Z)\n",
    "#Difference : Difference of X, Y is a set of all elements from both #sets using - operator or difference()\n",
    "print(\"Set Difference:\", X-Y)\n",
    "# Symmetric Difference : Symmetric Difference of X, Y, Z is a set of #all elements from all three sets using ^ operator or #symmetric_difference()            \n",
    "print(\"Set Symmetric Difference:\", X^Y^Z)"
   ]
  },
  {
   "cell_type": "code",
   "execution_count": 59,
   "metadata": {},
   "outputs": [
    {
     "name": "stdout",
     "output_type": "stream",
     "text": [
      "(0, 50)\n",
      "(1, 20)\n",
      "(2, 40)\n",
      "(3, 10)\n",
      "(4, 30)\n"
     ]
    }
   ],
   "source": [
    "#enumerate : Returns an enumerate object which contains the index #and value for all the items of the set as a pair\n",
    "set_one = {10, 20, 30, 40, 50, 30}\n",
    "for i in enumerate(set_one):\n",
    "    print(i)"
   ]
  },
  {
   "cell_type": "code",
   "execution_count": 60,
   "metadata": {},
   "outputs": [
    {
     "name": "stdout",
     "output_type": "stream",
     "text": [
      "frozenset({70, 40, 10, 80, 50, 20, 60, 30})\n"
     ]
    }
   ],
   "source": [
    "#Frozenset : set which has the characteristics of a set, but its elements cannot be changed once assigned\n",
    "X = frozenset([10, 20, 30, 40, 50])\n",
    "Y = frozenset([40, 50, 60, 70, 80])\n",
    "print(X.union(Y))"
   ]
  },
  {
   "attachments": {},
   "cell_type": "markdown",
   "metadata": {},
   "source": [
    "### Dictionaries"
   ]
  },
  {
   "attachments": {},
   "cell_type": "markdown",
   "metadata": {},
   "source": [
    "-   In python, dictionary is an unordered collection of data values in which data values are stored in key:value pairs\n",
    "-   Created by placing sequence of elements within curly {} braces, separated by ' , '\n",
    "-   Values can be of any datatype and can be duplicated, whereas keys are immutable and can't be repeated\n",
    "-   Can be created by the built-in function dict()\n",
    "-   Dictionaries are defined as objects with the data type 'dict\n",
    "-   dict() constructor can be used when creating a new dict\n",
    "-   To access values in dict, use the keys\n",
    "-   Key Value format makes dictionary one of the most optimized and efficient data type in Python"
   ]
  },
  {
   "cell_type": "code",
   "execution_count": 29,
   "metadata": {},
   "outputs": [
    {
     "name": "stdout",
     "output_type": "stream",
     "text": [
      "{0: 'sunday', 1: 'monday', 2: 'tuesday', 3: 'wednesday', 4: 'thursday'}\n"
     ]
    }
   ],
   "source": [
    "#Create a Dictionary\n",
    "#empty dictionary\n",
    "dict_emp = {}\n",
    "#dict with items\n",
    "dict_one = {0:'sunday', 1: 'monday', 2: 'tuesday', 3: 'wednesday', 4: 'thursday'}\n",
    "print(dict_one)"
   ]
  },
  {
   "cell_type": "code",
   "execution_count": 30,
   "metadata": {},
   "outputs": [
    {
     "name": "stdout",
     "output_type": "stream",
     "text": [
      "monday\n",
      "tuesday\n"
     ]
    }
   ],
   "source": [
    "#Accessing Elements from Dictionary : Using keys or get() method\n",
    "dict_one = {0:'sunday', 1: 'monday', 2: 'tuesday', 3: 'wednesday', 4: 'thursday'}\n",
    "print(dict_one[1])\n",
    "#get() method\n",
    "print(dict_one.get(2))"
   ]
  },
  {
   "cell_type": "code",
   "execution_count": 31,
   "metadata": {},
   "outputs": [
    {
     "name": "stdout",
     "output_type": "stream",
     "text": [
      "5\n"
     ]
    }
   ],
   "source": [
    "# Length of Dictionary\n",
    "dict_one = {0:'sunday', 1: 'monday', 2: 'tuesday', 3: 'wednesday', 4: 'thursday'}\n",
    "print(len(dict_one))"
   ]
  },
  {
   "cell_type": "code",
   "execution_count": 32,
   "metadata": {},
   "outputs": [
    {
     "name": "stdout",
     "output_type": "stream",
     "text": [
      "After changing the element {0: 'sunday', 1: 'monday', 2: 'friday', 3: 'wednesday', 4: 'thursday'}\n",
      "After adding the element : {0: 'sunday', 1: 'monday', 2: 'friday', 3: 'wednesday', 4: 'thursday', 5: 'saturday'}\n"
     ]
    }
   ],
   "source": [
    "#Changing and Adding Dictionary elements: add new items or change the value of existing items using an = operator\n",
    "dict_one = {0:'sunday', 1: 'monday', 2: 'tuesday', 3: 'wednesday', 4: 'thursday'}\n",
    "#change element\n",
    "dict_one[2] = 'friday'\n",
    "print(\"After changing the element\", dict_one)\n",
    "#Add element\n",
    "dict_one[5] = 'saturday'\n",
    "print(\"After adding the element :\", dict_one)"
   ]
  },
  {
   "cell_type": "code",
   "execution_count": 33,
   "metadata": {},
   "outputs": [
    {
     "name": "stdout",
     "output_type": "stream",
     "text": [
      "tuesday\n",
      "(4, 'thursday')\n"
     ]
    }
   ],
   "source": [
    "#Removing elements from Dictionary : Use the pop() or popitem() #method\n",
    "dict_one = {0:'sunday', 1: 'monday', 2: 'tuesday', 3: 'wednesday', 4: 'thursday'}\n",
    "print(dict_one.pop(2))\n",
    "#popitem : remove an arbitrary item and return (key,value)\n",
    "print(dict_one.popitem())"
   ]
  },
  {
   "cell_type": "code",
   "execution_count": 34,
   "metadata": {},
   "outputs": [
    {
     "name": "stdout",
     "output_type": "stream",
     "text": [
      "{}\n"
     ]
    }
   ],
   "source": [
    "# remove all items : using clear method\n",
    "dict_one.clear()\n",
    "print(dict_one)"
   ]
  },
  {
   "cell_type": "code",
   "execution_count": 35,
   "metadata": {},
   "outputs": [
    {
     "name": "stdout",
     "output_type": "stream",
     "text": [
      "{'Computer Science': None, 'Space Science': None, 'Math': None, 'English': None}\n"
     ]
    }
   ],
   "source": [
    "#fromkeys(seq[, t]): Returns a new dictionary with keys from seq and value equal to t\n",
    "subjects = {}.fromkeys(['Computer Science','Space Science','Math','English'])\n",
    "print(subjects)"
   ]
  },
  {
   "cell_type": "code",
   "execution_count": 36,
   "metadata": {},
   "outputs": [
    {
     "name": "stdout",
     "output_type": "stream",
     "text": [
      "dict_items([(0, 'sunday'), (1, 'monday'), (2, 'tuesday'), (3, 'wednesday'), (4, 'thursday')])\n"
     ]
    }
   ],
   "source": [
    "#items() method : displays a list of dictionary's (key, value) tuple pairs\n",
    "dict_one = {0:'sunday', 1: 'monday', 2: 'tuesday', 3: 'wednesday', 4: 'thursday'}\n",
    "print(dict_one.items())"
   ]
  },
  {
   "cell_type": "code",
   "execution_count": 37,
   "metadata": {},
   "outputs": [
    {
     "name": "stdout",
     "output_type": "stream",
     "text": [
      "dict_keys([0, 1, 2, 3, 4])\n"
     ]
    }
   ],
   "source": [
    "#keys() method : displays a list of all the keys in the dictionary\n",
    "dict_one = {0:'sunday', 1: 'monday', 2: 'tuesday', 3: 'wednesday', 4: 'thursday'}\n",
    "print(dict_one.keys())"
   ]
  },
  {
   "cell_type": "code",
   "execution_count": 38,
   "metadata": {},
   "outputs": [
    {
     "name": "stdout",
     "output_type": "stream",
     "text": [
      "dict_values(['sunday', 'monday', 'tuesday', 'wednesday', 'thursday'])\n"
     ]
    }
   ],
   "source": [
    "#values() method : displays a list of all the values in the dictionary\n",
    "dict_one = {0:'sunday', 1: 'monday', 2: 'tuesday', 3: 'wednesday', 4: 'thursday'}\n",
    "print(dict_one.values())"
   ]
  },
  {
   "cell_type": "code",
   "execution_count": 39,
   "metadata": {},
   "outputs": [
    {
     "name": "stdout",
     "output_type": "stream",
     "text": [
      "wednesday\n",
      "If key is not present: dict_items([(0, 'sunday'), (1, 'monday'), (2, 'tuesday'), (3, 'wednesday'), (4, 'thursday'), (6, None)])\n"
     ]
    }
   ],
   "source": [
    "#setdefault() method : returns the value of a key. If not there, it inserts key with a value to the dictionary\n",
    "dict_one = {0:'sunday', 1: 'monday', 2: 'tuesday', 3: 'wednesday', 4: 'thursday'}\n",
    "element = dict_one.setdefault(3)\n",
    "print(element)\n",
    "#If key not present \n",
    "element = dict_one.setdefault(6)\n",
    "print(\"If key is not present:\", dict_one.items())"
   ]
  },
  {
   "cell_type": "code",
   "execution_count": 40,
   "metadata": {},
   "outputs": [
    {
     "name": "stdout",
     "output_type": "stream",
     "text": [
      "12\n"
     ]
    }
   ],
   "source": [
    "#Nested Dictionaries\n",
    "people = {\"subject\": {0:\"Maths\",1:\"English\",3:\"Science\"},\n",
    "          \"marks\": {0:42,1:36,2: 78},\n",
    "          \"Age\": {0:12,1:34,2:19}\n",
    "         }\n",
    "#print(people[\"marks\"][0])\n",
    "print(people[\"Age\"][0])"
   ]
  },
  {
   "cell_type": "code",
   "execution_count": 41,
   "metadata": {},
   "outputs": [
    {
     "name": "stdout",
     "output_type": "stream",
     "text": [
      "[0, 1, 2, 3, 4]\n"
     ]
    }
   ],
   "source": [
    "#sorted(): Return a new sorted list of keys in the dictionary\n",
    "dict_one = {0:'sunday', 1: 'monday', 2: 'tuesday', 3: 'wednesday', 4: 'thursday'}\n",
    "print(sorted(dict_one))"
   ]
  },
  {
   "cell_type": "code",
   "execution_count": 42,
   "metadata": {},
   "outputs": [
    {
     "name": "stdout",
     "output_type": "stream",
     "text": [
      "(0, 'sunday')\n",
      "(1, 'monday')\n",
      "(2, 'tuesday')\n",
      "(3, 'wednesday')\n",
      "(4, 'thursday')\n"
     ]
    }
   ],
   "source": [
    "#Iterate through dictionay\n",
    "dict_one = {0:'sunday', 1: 'monday', 2: 'tuesday', 3: 'wednesday', 4: 'thursday'}\n",
    "for i in dict_one.items():\n",
    "    print(i)"
   ]
  },
  {
   "cell_type": "code",
   "execution_count": 45,
   "metadata": {},
   "outputs": [
    {
     "data": {
      "text/plain": [
       "['a', 'b']"
      ]
     },
     "execution_count": 45,
     "metadata": {},
     "output_type": "execute_result"
    }
   ],
   "source": [
    "x={0:'a',1:'b'}\n",
    "x.items()\n",
    "list(x.keys())\n",
    "list(x.values())"
   ]
  },
  {
   "cell_type": "code",
   "execution_count": 43,
   "metadata": {},
   "outputs": [
    {
     "name": "stdout",
     "output_type": "stream",
     "text": [
      "{0: 0, 1: 1, 2: 8, 3: 27, 4: 64, 5: 125, 6: 216, 7: 343, 8: 512, 9: 729}\n"
     ]
    }
   ],
   "source": [
    "# Dictionary Comprehension\n",
    "cubes = {x: x*x*x for x in range(10)}\n",
    "print(cubes)"
   ]
  },
  {
   "cell_type": "code",
   "execution_count": 44,
   "metadata": {},
   "outputs": [
    {
     "data": {
      "text/plain": [
       "{0: 'a', 1: 'b', 2: 'c'}"
      ]
     },
     "execution_count": 44,
     "metadata": {},
     "output_type": "execute_result"
    }
   ],
   "source": [
    "# Converting list to Dictionary\n",
    "lst=[\"a\",\"b\",\"c\"]\n",
    "{k:v for k,v in enumerate(lst)}"
   ]
  },
  {
   "cell_type": "code",
   "execution_count": 46,
   "metadata": {},
   "outputs": [
    {
     "name": "stdout",
     "output_type": "stream",
     "text": [
      "mars\n"
     ]
    }
   ],
   "source": [
    "# Dictionay of List\n",
    "y={'a':[\"earth\",\"mars\"],\"b\":[\"cricket\",\"football\"]}\n",
    "print(y['a'][1])"
   ]
  },
  {
   "cell_type": "code",
   "execution_count": 47,
   "metadata": {},
   "outputs": [
    {
     "name": "stdout",
     "output_type": "stream",
     "text": [
      "{0: 'zero', 4: 'four', 5: 'five', 2: 'two'}\n"
     ]
    }
   ],
   "source": [
    "# update() method : updates the dictionary with the elements from \n",
    "# another dictionary object or from any other key/value pairs\n",
    "dict1 ={0:\"zero\",4:\"four\",5:\"five\"}\n",
    "dict2={2:\"two\"}\n",
    "# updates the value of key 2\n",
    "dict1.update(dict2)\n",
    "print(dict1)"
   ]
  },
  {
   "cell_type": "code",
   "execution_count": 48,
   "metadata": {},
   "outputs": [
    {
     "name": "stdout",
     "output_type": "stream",
     "text": [
      "True\n"
     ]
    }
   ],
   "source": [
    "# Membership Test : check if a key is in a dictionary or not using #the keyword in\n",
    "dict_one = {0:'sunday', 1: 'monday', 2: 'tuesday', 3: 'wednesday', 4: 'thursday'}\n",
    "print(0 in dict_one.keys())"
   ]
  },
  {
   "attachments": {},
   "cell_type": "markdown",
   "metadata": {},
   "source": [
    "## Operators"
   ]
  },
  {
   "attachments": {},
   "cell_type": "markdown",
   "metadata": {},
   "source": [
    "In python, operators are used to perform operations on variables and values."
   ]
  },
  {
   "attachments": {},
   "cell_type": "markdown",
   "metadata": {},
   "source": [
    "- Arithmetic operators : +, --- , *, /, //, %, **\n",
    "- Logical operators : and, or, not\n",
    "- Identity operators : is, is not\n",
    "- Membership operators : in , not in\n",
    "- Bitwise operators : &, |, ^,~, << , >>\n",
    "- Assignment operators : =, +=, -=, *=,/= , %=, //=, **=, &=, |=, ^=, >>=, <<=\n",
    "- Comparison operators : ==, !=, > , <, >=, <="
   ]
  },
  {
   "cell_type": "code",
   "execution_count": 1,
   "metadata": {},
   "outputs": [
    {
     "name": "stdout",
     "output_type": "stream",
     "text": [
      "Addition: 14\n",
      "Subtraction: 6\n",
      "Multiply:  40\n",
      "Division: 2.5\n",
      "Modulus: 2\n",
      "Floor Division: 2\n",
      "Exponent: 10000\n"
     ]
    }
   ],
   "source": [
    "#Arithmatic Operators\n",
    "x=10\n",
    "y=4\n",
    "#Addition\n",
    "print(\"Addition:\",x+y)\n",
    "#Subtraction\n",
    "print(\"Subtraction:\",x-y)\n",
    "#Multiply\n",
    "print(\"Multiply: \",x*y)\n",
    "#Division\n",
    "print(\"Division:\",x/y)\n",
    "#Modulus\n",
    "print(\"Modulus:\",x%y)\n",
    "#Floor Division\n",
    "print(\"Floor Division:\",x//y)\n",
    "#Exponent\n",
    "print(\"Exponent:\",x**y)"
   ]
  },
  {
   "cell_type": "code",
   "execution_count": 2,
   "metadata": {},
   "outputs": [
    {
     "name": "stdout",
     "output_type": "stream",
     "text": [
      "Greater than: True\n",
      "Greater than: False\n",
      "Greater than equal to: True\n",
      "Less than: False\n",
      "Not equal to: True\n",
      "Equal to: False\n"
     ]
    }
   ],
   "source": [
    "#Comparison Operator  : Result is either True or False\n",
    "x=5\n",
    "y=3\n",
    "#Greater than\n",
    "print(\"Greater than:\",x>y)\n",
    "#Less than\n",
    "print(\"Greater than:\",x<y)\n",
    "#Greater than equal to \n",
    "print(\"Greater than equal to:\",x>=y)\n",
    "#less than equal to\n",
    "print(\"Less than:\",x<=y)\n",
    "#Not equal to \n",
    "print(\"Not equal to:\",x!=y)\n",
    "#Equal to\n",
    "print(\"Equal to:\",x==y)"
   ]
  },
  {
   "cell_type": "code",
   "execution_count": 3,
   "metadata": {},
   "outputs": [
    {
     "name": "stdout",
     "output_type": "stream",
     "text": [
      "And result: False\n",
      "Or result: True\n",
      "Not result: True\n"
     ]
    }
   ],
   "source": [
    "#Logical Operators : and, or, not [Result is either True or False]\n",
    "x= True\n",
    "y= False\n",
    "#And\n",
    "print(\"And result:\",(x and y))\n",
    "#Or\n",
    "print(\"Or result:\",(x or y))\n",
    "#Not\n",
    "print(\"Not result:\",(not y))"
   ]
  },
  {
   "cell_type": "code",
   "execution_count": 4,
   "metadata": {},
   "outputs": [
    {
     "name": "stdout",
     "output_type": "stream",
     "text": [
      "And result: 992\n",
      "Or result: 1019\n",
      "Not result: -1011\n",
      "XOR result: 27\n",
      "Bitwise right shift result: 250\n",
      "Bitwise left shift result: 4004\n"
     ]
    }
   ],
   "source": [
    "# Bitwise operators\n",
    "x = 1001\n",
    "y = 1010\n",
    "#And\n",
    "print(\"And result:\",(x & y))\n",
    "#Or\n",
    "print(\"Or result:\",(x | y))\n",
    "#Not\n",
    "print(\"Not result:\",(~y))\n",
    "#Xor\n",
    "print(\"XOR result:\",(x^y))\n",
    "#Bitwise right shift\n",
    "print(\"Bitwise right shift result:\",(x>>2))\n",
    "#Bitwise left shift\n",
    "print(\"Bitwise left shift result:\",(x<<2))"
   ]
  },
  {
   "cell_type": "code",
   "execution_count": 5,
   "metadata": {},
   "outputs": [],
   "source": [
    "# Assignment operators : used in Python to assign values to variables\n",
    "x=5\n",
    "x+=5\n",
    "x-=2\n",
    "x*=2\n",
    "x**=2"
   ]
  },
  {
   "cell_type": "code",
   "execution_count": 6,
   "metadata": {},
   "outputs": [
    {
     "name": "stdout",
     "output_type": "stream",
     "text": [
      "Is operator result: True\n",
      "Not is operator result: True\n"
     ]
    }
   ],
   "source": [
    "# Identity Operator : is and is not are the identity operators in Python\n",
    "x=5\n",
    "y=5\n",
    "z='a'\n",
    "print(\"Is operator result:\", (x is y))\n",
    "print(\"Not is operator result:\", (y is not z))"
   ]
  },
  {
   "cell_type": "code",
   "execution_count": 7,
   "metadata": {},
   "outputs": [
    {
     "name": "stdout",
     "output_type": "stream",
     "text": [
      "True\n",
      "False\n"
     ]
    }
   ],
   "source": [
    "#Membership operator : in operator\n",
    "x = 'Python Course'\n",
    "print('y' in x)\n",
    "print('a' in x)"
   ]
  },
  {
   "cell_type": "code",
   "execution_count": 8,
   "metadata": {},
   "outputs": [
    {
     "name": "stdout",
     "output_type": "stream",
     "text": [
      "False\n",
      "False\n"
     ]
    }
   ],
   "source": [
    "#Chaining Comparison operators with Logical operators\n",
    "a, b, c, d, e, f, g = 10, 15, 2, 1, 45, 25, 19\n",
    "e1 = a <= b < c > d < e is not f is g\n",
    "e2 = a is d < f is c\n",
    "print(e1)\n",
    "print(e2)"
   ]
  },
  {
   "attachments": {},
   "cell_type": "markdown",
   "metadata": {},
   "source": [
    "## Loops"
   ]
  },
  {
   "attachments": {},
   "cell_type": "markdown",
   "metadata": {},
   "source": [
    "### For Loop"
   ]
  },
  {
   "cell_type": "code",
   "execution_count": 62,
   "metadata": {},
   "outputs": [
    {
     "name": "stdout",
     "output_type": "stream",
     "text": [
      "Today is sunday\n",
      "Today is monday\n",
      "Today is tuesday\n"
     ]
    }
   ],
   "source": [
    "# for loop with range function\n",
    "days =['sunday','monday','tuesday']\n",
    "for i in range(len(days)):\n",
    "    print(\"Today is\", days[i])"
   ]
  },
  {
   "cell_type": "code",
   "execution_count": 4,
   "metadata": {},
   "outputs": [
    {
     "name": "stdout",
     "output_type": "stream",
     "text": [
      "0\n",
      "1\n",
      "2\n"
     ]
    }
   ],
   "source": [
    "for i in range(0, 3):\n",
    "    print(i)"
   ]
  },
  {
   "cell_type": "code",
   "execution_count": 2,
   "metadata": {},
   "outputs": [
    {
     "name": "stdout",
     "output_type": "stream",
     "text": [
      "1982\n",
      "1980\n",
      "1973\n"
     ]
    }
   ],
   "source": [
    "dates = [1982,1980,1973]\n",
    "N = len(dates)\n",
    "\n",
    "for i in range(N):\n",
    "    print(dates[i])"
   ]
  },
  {
   "cell_type": "code",
   "execution_count": 5,
   "metadata": {},
   "outputs": [
    {
     "name": "stdout",
     "output_type": "stream",
     "text": [
      "1982\n",
      "1980\n",
      "1973\n"
     ]
    }
   ],
   "source": [
    "# Exmaple of for loop, loop through list\n",
    "\n",
    "for year in dates:  \n",
    "    print(year) "
   ]
  },
  {
   "cell_type": "code",
   "execution_count": 8,
   "metadata": {},
   "outputs": [
    {
     "name": "stdout",
     "output_type": "stream",
     "text": [
      "Before square  0 is red\n",
      "After square  0 is white\n",
      "Before square  1 is yellow\n",
      "After square  1 is white\n",
      "Before square  2 is green\n",
      "After square  2 is white\n"
     ]
    }
   ],
   "source": [
    "# Use for loop to change the elements in list\n",
    "\n",
    "squares = ['red', 'yellow', 'green']\n",
    "\n",
    "for i in range(0, 3):\n",
    "    print(\"Before square \", i, 'is',  squares[i])\n",
    "    squares[i] = 'white'\n",
    "    print(\"After square \", i, 'is',  squares[i])"
   ]
  },
  {
   "cell_type": "code",
   "execution_count": 9,
   "metadata": {},
   "outputs": [
    {
     "name": "stdout",
     "output_type": "stream",
     "text": [
      "0 red\n",
      "1 yellow\n",
      "2 green\n",
      "3 purple\n",
      "4 blue\n"
     ]
    }
   ],
   "source": [
    "# Loop through the list and iterate on both index and element value\n",
    "\n",
    "squares=['red', 'yellow', 'green', 'purple', 'blue']\n",
    "\n",
    "for i, square in enumerate(squares):\n",
    "    print(i, square)"
   ]
  },
  {
   "cell_type": "code",
   "execution_count": null,
   "metadata": {},
   "outputs": [],
   "source": [
    "lst=['a','b','c']\n",
    "\n",
    "for i,x in enumerate(lst):\n",
    "    if i%2==0:\n",
    "        {\n",
    "            print(x)\n",
    "        }"
   ]
  },
  {
   "attachments": {},
   "cell_type": "markdown",
   "metadata": {},
   "source": [
    "### While Loop"
   ]
  },
  {
   "cell_type": "code",
   "execution_count": 10,
   "metadata": {},
   "outputs": [
    {
     "name": "stdout",
     "output_type": "stream",
     "text": [
      "1982\n",
      "1980\n",
      "It took  2 repetitions to get out of loop.\n"
     ]
    }
   ],
   "source": [
    "# While Loop Example\n",
    "\n",
    "dates = [1982, 1980, 1973, 2000]\n",
    "\n",
    "i = 0\n",
    "year = dates[0]\n",
    "\n",
    "while(year != 1973):    \n",
    "    print(year)\n",
    "    i = i + 1\n",
    "    year = dates[i]\n",
    "    \n",
    "\n",
    "print(\"It took \", i ,\"repetitions to get out of loop.\")"
   ]
  },
  {
   "cell_type": "code",
   "execution_count": 74,
   "metadata": {},
   "outputs": [
    {
     "name": "stdout",
     "output_type": "stream",
     "text": [
      "5\n",
      "4\n",
      "3\n",
      "2\n"
     ]
    }
   ],
   "source": [
    "x=5\n",
    "\n",
    "while x>=2:\n",
    "    print(x)\n",
    "    x=x-1"
   ]
  },
  {
   "cell_type": "code",
   "execution_count": 61,
   "metadata": {},
   "outputs": [
    {
     "name": "stdout",
     "output_type": "stream",
     "text": [
      "1\n",
      "2\n",
      "3\n",
      "4\n",
      "5\n",
      "i is no longer less than 6\n"
     ]
    }
   ],
   "source": [
    "#while with else statement\n",
    "i = 1\n",
    "while i < 6:\n",
    "  print(i)\n",
    "  i += 1\n",
    "else:\n",
    "  print(\"i is no longer less than 6\")"
   ]
  },
  {
   "cell_type": "code",
   "execution_count": 63,
   "metadata": {},
   "outputs": [
    {
     "name": "stdout",
     "output_type": "stream",
     "text": [
      "0\n",
      "1\n",
      "2\n",
      "3\n",
      "4\n",
      "5\n",
      "6\n",
      "7\n",
      "8\n",
      "9\n",
      "exit\n"
     ]
    }
   ],
   "source": [
    "#break statement\n",
    "count = 0\n",
    "while True:\n",
    "    print(count)\n",
    "    count += 1\n",
    "    if count >= 10:\n",
    "        break\n",
    "print('exit')"
   ]
  },
  {
   "cell_type": "code",
   "execution_count": 64,
   "metadata": {},
   "outputs": [
    {
     "name": "stdout",
     "output_type": "stream",
     "text": [
      "1\n",
      "3\n",
      "5\n",
      "7\n",
      "9\n",
      "11\n",
      "13\n"
     ]
    }
   ],
   "source": [
    "#Continue statement\n",
    "for x in range(15):\n",
    "    if x % 2 == 0:\n",
    "        continue\n",
    "    print(x)"
   ]
  },
  {
   "cell_type": "code",
   "execution_count": 16,
   "metadata": {},
   "outputs": [
    {
     "name": "stdout",
     "output_type": "stream",
     "text": [
      "Invalid dob\n",
      "Valid dob\n"
     ]
    }
   ],
   "source": [
    "while True:\n",
    "    try:\n",
    "        year, month, day = map(int, input(\"Enter dob(yyyy-mm-dd): \").split(\"-\"))\n",
    "        if year > 1900 and (month >= 1 and month <= 12) and (day > 0 and day <= 31):\n",
    "            if year % 4 == 0 and (year % 400 == 0 or year % 100 != 0):\n",
    "                if month == 2 and (day<=29):  \n",
    "                    print(\"Valid dob\")\n",
    "                else:\n",
    "                    raise Exception()\n",
    "            else:\n",
    "                if month == 2:\n",
    "                    if day <= 28:\n",
    "                        print(\"valid dob\")\n",
    "                    else:\n",
    "                        raise Exception()\n",
    "                else:\n",
    "                    print(\"valid dob\")\n",
    "            break\n",
    "        else:\n",
    "            raise Exception()\n",
    "    except:\n",
    "        print(\"Invalid dob\")"
   ]
  },
  {
   "attachments": {},
   "cell_type": "markdown",
   "metadata": {},
   "source": [
    "### Quiz"
   ]
  },
  {
   "cell_type": "code",
   "execution_count": 11,
   "metadata": {},
   "outputs": [
    {
     "name": "stdout",
     "output_type": "stream",
     "text": [
      "-4\n",
      "-3\n",
      "-2\n",
      "-1\n",
      "0\n",
      "1\n",
      "2\n",
      "3\n",
      "4\n"
     ]
    }
   ],
   "source": [
    "# Write a for loop the prints out all the element between -5 and 5 using the range function\n",
    "\n",
    "for i in range(-4, 5):\n",
    "    print(i)"
   ]
  },
  {
   "cell_type": "code",
   "execution_count": 12,
   "metadata": {},
   "outputs": [
    {
     "name": "stdout",
     "output_type": "stream",
     "text": [
      "rock\n",
      "R&B\n",
      "Soundtrack\n",
      "R&B\n",
      "soul\n",
      "pop\n"
     ]
    }
   ],
   "source": [
    "# Print the elements of the following list. Make sure you follow Python conventions\n",
    "\n",
    "Genres = [ 'rock', 'R&B', 'Soundtrack', 'R&B', 'soul', 'pop']\n",
    "\n",
    "for Genre in Genres:\n",
    "    print(Genre)"
   ]
  },
  {
   "cell_type": "code",
   "execution_count": 13,
   "metadata": {},
   "outputs": [
    {
     "name": "stdout",
     "output_type": "stream",
     "text": [
      "10\n",
      "9.5\n",
      "10\n",
      "8\n",
      "7.5\n"
     ]
    }
   ],
   "source": [
    "# Write a while loop to display the values of the Rating of an album playlist stored in the list PlayListRatings. If the score is less than 6, exit the loop. The list PlayListRatings is given by:\n",
    "\n",
    "PlayListRatings = [10, 9.5, 10, 8, 7.5, 5, 10, 10]\n",
    "\n",
    "i = 0\n",
    "rating = PlayListRatings[0]\n",
    "\n",
    "while(i < len(PlayListRatings) and rating >= 6):\n",
    "    print(rating)\n",
    "    i = i + 1 \n",
    "    rating = PlayListRatings[i]"
   ]
  },
  {
   "attachments": {},
   "cell_type": "markdown",
   "metadata": {},
   "source": [
    "#### Challenge: Capital City Loop"
   ]
  },
  {
   "cell_type": "code",
   "execution_count": null,
   "metadata": {},
   "outputs": [],
   "source": [
    "capitals_dict = {\n",
    "    \"Alabama\": \"Montgomery\",\n",
    "    \"Alaska\": \"Juneau\",\n",
    "    \"Arizona\": \"Phoenix\",\n",
    "    \"Arkansas\": \"Little Rock\",\n",
    "    \"California\": \"Sacramento\",\n",
    "    \"Colorado\": \"Denver\",\n",
    "    \"Connecticut\": \"Hartford\",\n",
    "    \"Delaware\": \"Dover\",\n",
    "    \"Florida\": \"Tallahassee\",\n",
    "    \"Georgia\": \"Atlanta\",\n",
    "    \"Hawaii\": \"Honolulu\",\n",
    "    \"Idaho\": \"Boise\",\n",
    "    \"Illinois\": \"Springfield\",\n",
    "    \"Indiana\": \"Indianapolis\",\n",
    "    \"Iowa\": \"Des Moines\",\n",
    "    \"Kansas\": \"Topeka\",\n",
    "    \"Kentucky\": \"Frankfort\",\n",
    "    \"Louisiana\": \"Baton Rouge\",\n",
    "    \"Maine\": \"Augusta\",\n",
    "    \"Maryland\": \"Annapolis\",\n",
    "    \"Massachusetts\": \"Boston\",\n",
    "    \"Michigan\": \"Lansing\",\n",
    "    \"Minnesota\": \"Saint Paul\",\n",
    "    \"Mississippi\": \"Jackson\",\n",
    "    \"Missouri\": \"Jefferson City\",\n",
    "    \"Montana\": \"Helena\",\n",
    "    \"Nebraska\": \"Lincoln\",\n",
    "    \"Nevada\": \"Carson City\",\n",
    "    \"New Hampshire\": \"Concord\",\n",
    "    \"New Jersey\": \"Trenton\",\n",
    "    \"New Mexico\": \"Santa Fe\",\n",
    "    \"New York\": \"Albany\",\n",
    "    \"North Carolina\": \"Raleigh\",\n",
    "    \"North Dakota\": \"Bismarck\",\n",
    "    \"Ohio\": \"Columbus\",\n",
    "    \"Oklahoma\": \"Oklahoma City\",\n",
    "    \"Oregon\": \"Salem\",\n",
    "    \"Pennsylvania\": \"Harrisburg\",\n",
    "    \"Rhode Island\": \"Providence\",\n",
    "    \"South Carolina\": \"Columbia\",\n",
    "    \"South Dakota\": \"Pierre\",\n",
    "    \"Tennessee\": \"Nashville\",\n",
    "    \"Texas\": \"Austin\",\n",
    "    \"Utah\": \"Salt Lake City\",\n",
    "    \"Vermont\": \"Montpelier\",\n",
    "    \"Virginia\": \"Richmond\",\n",
    "    \"Washington\": \"Olympia\",\n",
    "    \"West Virginia\": \"Charleston\",\n",
    "    \"Wisconsin\": \"Madison\",\n",
    "    \"Wyoming\": \"Cheyenne\",\n",
    "}\n",
    "\n",
    "# Pull random state and capital pair from the dict by casting to list of tuples\n",
    "state, capital = random.choice(list(capitals_dict.items()))\n",
    "\n",
    "# Game loop continues until the user inputs \"exit\"\n",
    "# or guesses the correct capital\n",
    "while True:\n",
    "    guess = input(f\"What is the capital of '{state}'? \").lower()\n",
    "    if guess == \"exit\":\n",
    "        print(f\"The capital of '{state}' is '{capital}'.\")\n",
    "        print(\"Goodbye\")\n",
    "        break\n",
    "    elif guess == capital.lower():\n",
    "        print(\"Correct! Nice job.\")\n",
    "        break"
   ]
  },
  {
   "attachments": {},
   "cell_type": "markdown",
   "metadata": {},
   "source": [
    "### Functions"
   ]
  },
  {
   "attachments": {},
   "cell_type": "markdown",
   "metadata": {},
   "source": [
    "A function is a reusable block of code which performs operations specified in the function. They let you break down tasks and allow you to reuse your code in different programs.\n",
    "\n",
    "There are two types of functions :\n",
    "\n",
    "- <b>Pre-defined functions</b>\n",
    "- <b>User defined functions</b>"
   ]
  },
  {
   "attachments": {},
   "cell_type": "markdown",
   "metadata": {},
   "source": [
    "You can define functions to provide the required functionality. Here are simple rules to define a function in Python:\n",
    "-  Functions blocks begin <code>def</code> followed by the function <code>name</code> and parentheses <code>()</code>.\n",
    "-  There are input parameters or arguments that should be placed within these parentheses. \n",
    "-  You can also define parameters inside these parentheses.\n",
    "-  There is a body within every function that starts with a colon (<code>:</code>) and is indented.\n",
    "-  You can also place documentation before the body. \n",
    "-  The statement <code>return</code> exits a function, optionally passing back a value. "
   ]
  },
  {
   "cell_type": "code",
   "execution_count": 14,
   "metadata": {},
   "outputs": [],
   "source": [
    "def mult(a, b):\n",
    "    return (a * b)"
   ]
  },
  {
   "cell_type": "code",
   "execution_count": 15,
   "metadata": {},
   "outputs": [
    {
     "data": {
      "text/plain": [
       "6"
      ]
     },
     "execution_count": 15,
     "metadata": {},
     "output_type": "execute_result"
    }
   ],
   "source": [
    "mult(2, 3)"
   ]
  },
  {
   "cell_type": "code",
   "execution_count": 16,
   "metadata": {},
   "outputs": [
    {
     "data": {
      "text/plain": [
       "31.400000000000002"
      ]
     },
     "execution_count": 16,
     "metadata": {},
     "output_type": "execute_result"
    }
   ],
   "source": [
    "mult(10.0, 3.14)"
   ]
  },
  {
   "cell_type": "code",
   "execution_count": 17,
   "metadata": {},
   "outputs": [
    {
     "data": {
      "text/plain": [
       "'Michael Jackson Michael Jackson '"
      ]
     },
     "execution_count": 17,
     "metadata": {},
     "output_type": "execute_result"
    }
   ],
   "source": [
    "mult(2, \"Michael Jackson \")"
   ]
  },
  {
   "cell_type": "code",
   "execution_count": 18,
   "metadata": {},
   "outputs": [],
   "source": [
    "def isGoodRating(rating=4): \n",
    "    if(rating < 7):\n",
    "        print(\"this album sucks it's rating is\",rating)\n",
    "    else:\n",
    "        print(\"this album is good its rating is\",rating)"
   ]
  },
  {
   "cell_type": "code",
   "execution_count": 19,
   "metadata": {},
   "outputs": [
    {
     "name": "stdout",
     "output_type": "stream",
     "text": [
      "this album sucks it's rating is 4\n",
      "this album is good its rating is 10\n"
     ]
    }
   ],
   "source": [
    "isGoodRating()\n",
    "isGoodRating(10)"
   ]
  },
  {
   "attachments": {},
   "cell_type": "markdown",
   "metadata": {},
   "source": [
    "When the number of arguments  are unknown for a function, They can all be packed into a tuple as shown:"
   ]
  },
  {
   "cell_type": "code",
   "execution_count": 22,
   "metadata": {},
   "outputs": [
    {
     "name": "stdout",
     "output_type": "stream",
     "text": [
      "No of arguments: 3\n",
      "Horsefeather\n",
      "Adonis\n",
      "Bone\n",
      "No of arguments: 4\n",
      "Sidecar\n",
      "Long Island\n",
      "Mudslide\n",
      "Carriage\n"
     ]
    }
   ],
   "source": [
    "def printAll(*args): # All the arguments are 'packed' into args which can be treated like a tuple\n",
    "    print(\"No of arguments:\", len(args)) \n",
    "    for argument in args:\n",
    "        print(argument)\n",
    "        \n",
    "#printAll with 3 arguments\n",
    "printAll('Horsefeather','Adonis','Bone')\n",
    "\n",
    "#printAll with 4 arguments\n",
    "printAll('Sidecar','Long Island','Mudslide','Carriage')"
   ]
  },
  {
   "attachments": {},
   "cell_type": "markdown",
   "metadata": {},
   "source": [
    "Similarly, The arguments can also be packed into a dictionary as shown:"
   ]
  },
  {
   "cell_type": "code",
   "execution_count": 23,
   "metadata": {},
   "outputs": [
    {
     "name": "stdout",
     "output_type": "stream",
     "text": [
      "Country : Canada\n",
      "Province : Ontario\n",
      "City : Toronto\n"
     ]
    }
   ],
   "source": [
    "def printDictionary(**args):\n",
    "    for key in args:\n",
    "        print(key + \" : \" + args[key])\n",
    "\n",
    "printDictionary(Country='Canada', Province='Ontario', City='Toronto')"
   ]
  },
  {
   "cell_type": "code",
   "execution_count": null,
   "metadata": {},
   "outputs": [],
   "source": [
    "# Exercise 1\n",
    "def cube(num):\n",
    "    \"\"\"Return the cube of the input number.\"\"\"\n",
    "    cube_num = num**3  # Could also use pow(num, 3)\n",
    "    return cube_num\n",
    "\n",
    "\n",
    "print(f\"0 cubed is {cube(0)}\")\n",
    "print(f\"2 cubed is {cube(2)}\")\n",
    "\n",
    "\n",
    "# Exercise 2\n",
    "def greet(name):\n",
    "    \"\"\"Display a greeting.\"\"\"\n",
    "    print(f\"Hello {name}!\")\n",
    "\n",
    "\n",
    "greet(\"Guido\")"
   ]
  },
  {
   "cell_type": "code",
   "execution_count": null,
   "metadata": {},
   "outputs": [],
   "source": [
    "def doubles(num):\n",
    "    \"\"\"Return the result of multiplying an input number by 2.\"\"\"\n",
    "    return num * 2\n",
    "\n",
    "\n",
    "# Call doubles() to double the number 2 three times\n",
    "my_num = 2\n",
    "for i in range(0, 3):\n",
    "    my_num = doubles(my_num)\n",
    "    print(my_num)"
   ]
  },
  {
   "attachments": {},
   "cell_type": "markdown",
   "metadata": {},
   "source": [
    "#### Challenge: Convert temperatures"
   ]
  },
  {
   "cell_type": "code",
   "execution_count": null,
   "metadata": {},
   "outputs": [],
   "source": [
    "def convert_cel_to_far(temp_cel):\n",
    "    \"\"\"Return the Celsius temperature temp_cel converted to Fahrenheit.\"\"\"\n",
    "    temp_far = temp_cel * (9 / 5) + 32\n",
    "    return temp_far\n",
    "\n",
    "\n",
    "def convert_far_to_cel(temp_far):\n",
    "    \"\"\"Return the Fahrenheit temperature temp_far converted to Celsius.\"\"\"\n",
    "    temp_cel = (temp_far - 32) * (5 / 9)\n",
    "    return temp_cel\n",
    "\n",
    "\n",
    "# Prompt the user to input a Fahrenheit temperature.\n",
    "temp_far = input(\"Enter a temperature in degrees F: \")\n",
    "\n",
    "# Convert the temperature to Celsius.\n",
    "# Note that `temp_far` must be converted to a `float`\n",
    "# since `input()` returns a string.\n",
    "temp_cel = convert_far_to_cel(float(temp_far))\n",
    "\n",
    "# Display the converted temperature\n",
    "print(f\"{temp_far} degrees F = {temp_cel:.2f} degrees C\")\n",
    "\n",
    "# You could also use `round()` instead of the formatting mini-language:\n",
    "# print(f\"{temp_far} degrees F = {round(temp_cel, 2)} degrees C\"\")\n",
    "\n",
    "# Prompt the user to input a Celsius temperature.\n",
    "temp_cel = input(\"\\nEnter a temperature in degrees C: \")\n",
    "\n",
    "# Convert the temperature to Fahrenheit.\n",
    "temp_far = convert_cel_to_far(float(temp_cel))\n",
    "\n",
    "# Display the converted temperature\n",
    "print(f\"{temp_cel} degrees C = {temp_far:.2f} degrees F\")"
   ]
  },
  {
   "attachments": {},
   "cell_type": "markdown",
   "metadata": {},
   "source": [
    "#### Challenge: Track Your Investments"
   ]
  },
  {
   "cell_type": "code",
   "execution_count": null,
   "metadata": {},
   "outputs": [],
   "source": [
    "# Calculate interest to track the growth of an investment\n",
    "\n",
    "def invest(amount, rate, years):\n",
    "    \"\"\"Display year on year growth of an initial investment\"\"\"\n",
    "    for year in range(1, years + 1):\n",
    "        amount = amount * (1 + rate)\n",
    "        print(f\"year {year}: ${amount:,.2f}\")\n",
    "\n",
    "\n",
    "amount = float(input(\"Enter a principal amount: \"))\n",
    "rate = float(input(\"Enter an anual rate of return: \"))\n",
    "years = int(input(\"Enter a number of years: \"))\n",
    "\n",
    "invest(amount, rate, years)"
   ]
  },
  {
   "attachments": {},
   "cell_type": "markdown",
   "metadata": {},
   "source": [
    "#### Challenge: Cats With Hats"
   ]
  },
  {
   "cell_type": "code",
   "execution_count": null,
   "metadata": {},
   "outputs": [],
   "source": [
    "def get_cats_with_hats(array_of_cats):\n",
    "    cats_with_hats_on = []\n",
    "    # We want to walk around the circle 100 times\n",
    "    for num in range(1, 100 + 1):\n",
    "        # Each time we walk around, we visit 100 cats\n",
    "        for cat in range(1, 100 + 1):\n",
    "            # Determine whether to visit the cat\n",
    "            # Use modulo operator to visit every 2nd, 3rd, 4th,... etc.\n",
    "            if cat % num == 0:\n",
    "                # Remove or add hat depending on\n",
    "                # whether the cat already has one\n",
    "                if array_of_cats[cat] is True:\n",
    "                    array_of_cats[cat] = False\n",
    "                else:\n",
    "                    array_of_cats[cat] = True\n",
    "\n",
    "    # Add all number of each cat with a hat to list\n",
    "    for cat in range(1, 100 + 1):\n",
    "        if array_of_cats[cat] is True:\n",
    "            cats_with_hats_on.append(cat)\n",
    "\n",
    "    # Return the resulting list\n",
    "    return cats_with_hats_on\n",
    "\n",
    "\n",
    "# Cats contains whether each cat already has a hat on,\n",
    "# by default all are set to false since none have been visited\n",
    "cats = [False] * (100 + 1)\n",
    "print(get_cats_with_hats(cats))"
   ]
  },
  {
   "attachments": {},
   "cell_type": "markdown",
   "metadata": {},
   "source": [
    "### Tuple Unpacking with Python Functions"
   ]
  },
  {
   "attachments": {},
   "cell_type": "markdown",
   "metadata": {},
   "source": [
    "In python, tuples are immutable data types. Python offers a very powerful tuple assignment tool that maps right hand side arguments into left hand side arguments i.e mapping is known as unpacking of a tuple of values into a normal variable.\n",
    "\n",
    "-   During the unpacking of tuple, the total number of variables on the left-hand side should be equivalent to the total number of values in given tuple\n",
    "-   It uses a special syntax to pass optional arguments (*args) for tuple unpacking"
   ]
  },
  {
   "cell_type": "code",
   "execution_count": 69,
   "metadata": {},
   "outputs": [
    {
     "name": "stdout",
     "output_type": "stream",
     "text": [
      "300\n",
      "400\n"
     ]
    }
   ],
   "source": [
    "def result(a, b):\n",
    "    return a + b\n",
    "# function with normal variables\n",
    "print(result(100, 200))\n",
    " \n",
    "# A tuple is created\n",
    "c = (100, 300)\n",
    " \n",
    "# Tuple is passed\n",
    "# function unpacked them\n",
    " \n",
    "print(result(*c))"
   ]
  },
  {
   "attachments": {},
   "cell_type": "markdown",
   "metadata": {},
   "source": [
    "### Lambda Functions in Python"
   ]
  },
  {
   "attachments": {},
   "cell_type": "markdown",
   "metadata": {},
   "source": [
    "In python, Lambda is used to create small anonymous functions using \"lambda\" keyword and can be used wherever function objects are needed.It can any number of arguments but only one expression\n",
    "\n",
    "-   It can be used inside another function\n",
    "-   In python normal functions are defined using the def keyword, anonymous functions are defined using the lambda keyword\n",
    "-   Whenever we require a nameless function for a short period of time, we use lambda functions"
   ]
  },
  {
   "cell_type": "code",
   "execution_count": 68,
   "metadata": {},
   "outputs": [
    {
     "name": "stdout",
     "output_type": "stream",
     "text": [
      "38\n"
     ]
    }
   ],
   "source": [
    "#A lambda function that adds 10 to the number passed in as an #argument, and print the result\n",
    "x = lambda a, b, c : a * b + c\n",
    "print(x(5, 6, 8))"
   ]
  },
  {
   "attachments": {},
   "cell_type": "markdown",
   "metadata": {},
   "source": [
    "### Map and Filter Functions in Python"
   ]
  },
  {
   "attachments": {},
   "cell_type": "markdown",
   "metadata": {},
   "source": [
    "In python, Map allows you to process and transform the items of the iterables or collections without using a for loop.\n",
    "\n",
    "-   In Python, the map() function applies the given function to each item of a given iterable construct (i.e lists, tuples etc) and returns a map object\n",
    "-   In python, filter() function returns an iterator when the items are filtered through a function to test if the item is true or not"
   ]
  },
  {
   "cell_type": "code",
   "execution_count": 67,
   "metadata": {},
   "outputs": [
    {
     "name": "stdout",
     "output_type": "stream",
     "text": [
      "[('s', 1), ('t', 2), ('x', 3), ('y', 4), ('z', 5)]\n"
     ]
    }
   ],
   "source": [
    "#map\n",
    "numbers = [1,2,3,4,5]\n",
    "strings = ['s', 't', 'x', 'y', 'z']\n",
    "mapped_list = list(map(lambda x, y: (x, y), strings, numbers))\n",
    "print(mapped_list)"
   ]
  },
  {
   "cell_type": "code",
   "execution_count": 66,
   "metadata": {},
   "outputs": [
    {
     "name": "stdout",
     "output_type": "stream",
     "text": [
      "['sUNDAY', 'mONDAY', 'tUESDAY', 'wEDNESDAY']\n"
     ]
    }
   ],
   "source": [
    "#map implementation\n",
    "days = ['Sunday', 'Monday', 'Tuesday', 'Wednesday']\n",
    "mod_days = list(map(str.swapcase, days))\n",
    "print(mod_days)"
   ]
  },
  {
   "cell_type": "code",
   "execution_count": 65,
   "metadata": {},
   "outputs": [
    {
     "name": "stdout",
     "output_type": "stream",
     "text": [
      "[23]\n"
     ]
    }
   ],
   "source": [
    "#Filter function\n",
    "marks = [95, 40, 68, 95, 67, 61, 88, 23, 38, 92]\n",
    "def stud(score):\n",
    "    return score < 33\n",
    "fail_list = list(filter(stud, marks))\n",
    "print(fail_list)"
   ]
  },
  {
   "attachments": {},
   "cell_type": "markdown",
   "metadata": {},
   "source": [
    "## OOP - Object Oriented Programming\n",
    "\n",
    "-   Python is a multi-paradigm programming language and supports Object Oriented programming. In Python everything is a object. An object has two characteristics : Attributes and Behavior\n",
    "-   Principles of object-oriented programming system are -\n",
    "    -   Class and constructor - It's a blueprint for the object. In python we use the class keyword to define class. Class constructor is used to assign the values to the data members of the class when an object of the class is created.\n",
    "    -   Object - It's an instantiation of a class.\n",
    "    -   Method - It's a function that is associated with an object\n",
    "    -   Inheritance - Specifies that the child object acquires all the properties and behaviors of the parent object.\n",
    "    -   Polymorphism - Refers to functions having the same names but carrying different functionalities.\n",
    "    -   Encapsulation - To prevents data from direct modification, we can restrict access to methods and variables in python"
   ]
  },
  {
   "attachments": {},
   "cell_type": "markdown",
   "metadata": {},
   "source": [
    "### Classes"
   ]
  },
  {
   "cell_type": "code",
   "execution_count": null,
   "metadata": {},
   "outputs": [],
   "source": [
    "# Create a class Circle\n",
    "\n",
    "class Circle(object):\n",
    "    \n",
    "    # Constructor\n",
    "    def __init__(self, radius=3, color='blue'):\n",
    "        self.radius = radius\n",
    "        self.color = color \n",
    "    \n",
    "    # Method\n",
    "    def add_radius(self, r):\n",
    "        self.radius = self.radius + r\n",
    "        return(self.radius)\n",
    "    \n",
    "    # Method\n",
    "    def drawCircle(self):\n",
    "        plt.gca().add_patch(plt.Circle((0, 0), radius=self.radius, fc=self.color))\n",
    "        plt.axis('scaled')\n",
    "        plt.show()  \n",
    "        \n",
    "        \n",
    "# Create an object RedCircle\n",
    "RedCircle = Circle(10, 'red')\n",
    "\n",
    "# Find out the methods can be used on the object RedCircle\n",
    "dir(RedCircle)\n",
    "\n",
    "# Print the object attribute radius\n",
    "RedCircle.radius\n",
    "\n",
    "# Print the object attribute color\n",
    "RedCircle.color\n",
    "\n",
    "# Set the object attribute radius\n",
    "RedCircle.radius = 1\n",
    "RedCircle.radius\n",
    "\n",
    "# Call the method drawCircle\n",
    "RedCircle.drawCircle()\n",
    "\n",
    "# Use method to change the object attribute radius\n",
    "print('Radius of object:',RedCircle.radius)\n",
    "RedCircle.add_radius(2)\n",
    "print('Radius of object of after applying the method add_radius(2):',RedCircle.radius)\n",
    "RedCircle.add_radius(5)\n",
    "print('Radius of object of after applying the method add_radius(5):',RedCircle.radius)\n",
    "\n",
    "# Create a blue circle with a given radius\n",
    "BlueCircle = Circle(radius=100)\n",
    "BlueCircle.drawCircle()"
   ]
  },
  {
   "cell_type": "code",
   "execution_count": null,
   "metadata": {},
   "outputs": [],
   "source": [
    "# Create a new Rectangle class for creating a rectangle object\n",
    "\n",
    "class Rectangle(object):\n",
    "    \n",
    "    # Constructor\n",
    "    def __init__(self, width=2, height=3, color='r'):\n",
    "        self.height = height \n",
    "        self.width = width\n",
    "        self.color = color\n",
    "    \n",
    "    # Method\n",
    "    def drawRectangle(self):\n",
    "        plt.gca().add_patch(plt.Rectangle((0, 0), self.width, self.height ,fc=self.color))\n",
    "        plt.axis('scaled')\n",
    "        plt.show()\n",
    "        \n",
    "        \n",
    "# Create a new object rectangle\n",
    "SkinnyBlueRectangle = Rectangle(2, 3, 'blue')\n",
    "\n",
    "# Print the object attribute height\n",
    "SkinnyBlueRectangle.height \n",
    "\n",
    "# Print the object attribute width\n",
    "SkinnyBlueRectangle.width\n",
    "\n",
    "# Print the object attribute color\n",
    "SkinnyBlueRectangle.color\n",
    "\n",
    "# Use the drawRectangle method to draw the shape\n",
    "SkinnyBlueRectangle.drawRectangle()\n",
    "\n",
    "# Create a new object rectangle\n",
    "FatYellowRectangle = Rectangle(20, 5, 'yellow')\n",
    "FatYellowRectangle.drawRectangle()"
   ]
  },
  {
   "cell_type": "code",
   "execution_count": 59,
   "metadata": {},
   "outputs": [
    {
     "name": "stdout",
     "output_type": "stream",
     "text": [
      "John\n",
      "Young person\n"
     ]
    }
   ],
   "source": [
    "class Person:\n",
    "    def __init__(self,name,age):\n",
    "        self.name = name\n",
    "        self.age = age\n",
    "    \n",
    "    def first_name(self):\n",
    "        return self.name.split()[0]\n",
    "    \n",
    "    def age_category(self):\n",
    "        if self.age < 18:\n",
    "            return \"Child\"\n",
    "        elif self.age >=18 and self.age < 60:\n",
    "            return \"Young person\"\n",
    "        return \"Senior citizen\"\n",
    "        \n",
    "    \n",
    "p1 = Person(\"John Doe\",37)\n",
    "print(p1.first_name())\n",
    "\n",
    "print(p1.age_category())"
   ]
  },
  {
   "cell_type": "code",
   "execution_count": 60,
   "metadata": {},
   "outputs": [
    {
     "name": "stdout",
     "output_type": "stream",
     "text": [
      "The age of Jhon Doe is 40.\n",
      "And the Social security number is 123443\n",
      "('Jhon Doe', 40, 123443)\n"
     ]
    }
   ],
   "source": [
    "class Patient(Person):\n",
    "    def __init__(self,name,age,ssn):\n",
    "        super().__init__(name,age)\n",
    "        self.ssn = ssn\n",
    "        \n",
    "    def __str__(self):\n",
    "        s = \"The age of \"+str(self.name) +\" is \" + str(self.age) + \".\\n\"\n",
    "        s += \"And the Social security number is \"+ str(self.ssn)\n",
    "        return s\n",
    "   \n",
    "    def __repr__(self):\n",
    "        s = f\"('{self.name}', {self.age}, {self.ssn})\"\n",
    "        return s\n",
    "patient1 = Patient(\"Jhon Doe\",40,123443)\n",
    "\n",
    "print(patient1)\n",
    "print(patient1.__repr__())"
   ]
  },
  {
   "cell_type": "code",
   "execution_count": 61,
   "metadata": {},
   "outputs": [
    {
     "name": "stdout",
     "output_type": "stream",
     "text": [
      "fname: Rakesh, lname:reddy, age: 25,subjects: ['Python', 'Big-data']\n",
      "['Python', 'Big-data']\n",
      "(Rakesh, reddy, 25, ['Python', 'Big-data'])\n",
      "275\n",
      "fname: Jennifer, lname:Connley, age: 20, Total marks: 275\n"
     ]
    }
   ],
   "source": [
    "class Person:\n",
    "    def __init__(self,fname,lname,age):\n",
    "        self.fname = fname\n",
    "        self.lname = lname\n",
    "        self.age = age\n",
    "        \n",
    "    def __str__(self):\n",
    "        s = f\"fname: {self.fname}, lname:{self.lname}, age: {self.age}\"\n",
    "        return s\n",
    "\n",
    "class Student(Person):\n",
    "    def __init__(self,fname,lname,age,reg_no,maths,science,english):\n",
    "        super().__init__(fname,lname,age)\n",
    "        self.reg_no = reg_no\n",
    "        self.maths = maths\n",
    "        self.science = science\n",
    "        self.english = english\n",
    "    def get_total_marks(self):\n",
    "        return self.maths + self.science + self.english\n",
    "    \n",
    "    def __str__(self):\n",
    "        s = f\"{super().__str__()}, Total marks: {self.get_total_marks()}\"\n",
    "        \n",
    "        return s\n",
    "    \n",
    "    def __repr__(self):\n",
    "        s = f\"({self.fname}, {self.lname}, {self.age}, {self.maths}, {self.science}, {self.english})\"\n",
    "        return s\n",
    "        \n",
    "    \n",
    "\n",
    "class Teacher(Person):\n",
    "    def __init__(self,fname,lname,age,subjects):\n",
    "        super().__init__(fname,lname,age)\n",
    "        self.subjects = subjects\n",
    "        \n",
    "    def get_subjects(self):\n",
    "        return self.subjects\n",
    "    \n",
    "    def __str__(self):\n",
    "        return f\"{super().__str__()},subjects: {self.subjects}\"\n",
    "        \n",
    "    def __repr__(self):\n",
    "        s = f\"({self.fname}, {self.lname}, {self.age}, {self.subjects})\"\n",
    "        return s\n",
    "        \n",
    "    \n",
    "    \n",
    "\n",
    "t1 = Teacher(\"Rakesh\",\"reddy\",25,['Python','Big-data'])\n",
    "t2 = Teacher(\"Virat\",\"Kohli\",34,['Airflow','Pyspark'])\n",
    "\n",
    "print(t1.__str__())\n",
    "print(t1.get_subjects())\n",
    "\n",
    "print(t1.__repr__())\n",
    "        \n",
    "s1 = Student(\"Jennifer\",\"Connley\",20,'S1234',90,90,95)\n",
    "\n",
    "print(s1.get_total_marks())\n",
    "\n",
    "print(s1.__str__())"
   ]
  },
  {
   "cell_type": "code",
   "execution_count": 62,
   "metadata": {},
   "outputs": [
    {
     "name": "stdout",
     "output_type": "stream",
     "text": [
      "fname: Rakesh, lname:reddy, age: 25,subjects: ['Python', 'Big-data']\n",
      "fname: Virat, lname:Kohli, age: 34,subjects: ['Airflow', 'Pyspark']\n"
     ]
    }
   ],
   "source": [
    "class HOD(Teacher):\n",
    "    def __init__(self,department,teachers):\n",
    "        self.deparment = department\n",
    "        self.teachers = teachers\n",
    "        \n",
    "    def get_teacher_details(self):\n",
    "        for t in self.teachers:\n",
    "            print(t.__str__())\n",
    "            \n",
    "            \n",
    "h = HOD('Big-data',[t1,t2])\n",
    "\n",
    "h.get_teacher_details()"
   ]
  },
  {
   "cell_type": "code",
   "execution_count": 63,
   "metadata": {},
   "outputs": [
    {
     "name": "stdout",
     "output_type": "stream",
     "text": [
      "e_manager, 34, Delhi\n",
      "e1, 20, Banglore, 20000\n",
      "e2, 22, Hyderabad, 25000\n",
      "e3, 24, Mumbai, 26000\n"
     ]
    }
   ],
   "source": [
    "class Person:\n",
    "    def __init__(self,name,age,address):\n",
    "        self.name = name\n",
    "        self.age = age\n",
    "        self.address = address\n",
    "        \n",
    "    def __str__(self):\n",
    "        s = f'{self.name}, {self.age}, {self.address}'\n",
    "        return s\n",
    "    def __repr__(self):\n",
    "        s = f'({self.__str__()})'\n",
    "        return s\n",
    "    \n",
    "    \n",
    "class Employee(Person):\n",
    "    def __init__(self,name,age,address,salary):\n",
    "        super().__init__(name,age,address)\n",
    "        self.salary = salary\n",
    "    def __str__(self):\n",
    "        s = f'{super().__str__()}, {self.salary}'\n",
    "        return s\n",
    "\n",
    "class SalesEmployee(Employee):\n",
    "    def __init__(self,name,age,address,salary,bonus):\n",
    "        super().__init__(name,age,address,salary)\n",
    "        self.bonus = bonus\n",
    "    def __str__(self):\n",
    "        s = f'{super().__str(),{self.bonus}}'\n",
    "        return s\n",
    "    \n",
    "    \n",
    "class Manager(Person):\n",
    "    def __init__(self,name,age,address,employees_managed):\n",
    "        super().__init__(name,age,address)\n",
    "        self.emp_managed = employees_managed\n",
    "    def get_employees_details(self):\n",
    "        for emp in self.emp_managed:\n",
    "            print(emp.__str__())\n",
    "            \n",
    "            \n",
    "            \n",
    "e1 = Employee('e1',20,'Banglore',20000)\n",
    "e2 = Employee('e2',22,'Hyderabad',25000)\n",
    "e3 = Employee('e3',24,'Mumbai',26000)\n",
    "\n",
    "m1 = Manager('e_manager',34,'Delhi',[e1,e2,e3])\n",
    "\n",
    "print(m1.__str__())\n",
    "m1.get_employees_details()"
   ]
  },
  {
   "cell_type": "code",
   "execution_count": 65,
   "metadata": {},
   "outputs": [
    {
     "name": "stdout",
     "output_type": "stream",
     "text": [
      "testHr\n",
      "hi hr user\n"
     ]
    }
   ],
   "source": [
    "# abstract class is a type of class which contains some type of implementation\n",
    "#such that it should be implemented in the child classes\n",
    "\n",
    "from abc import ABC, abstractmethod\n",
    "class Department(ABC):\n",
    "    salary = 1000\n",
    "    \n",
    "    @abstractmethod\n",
    "    def departmentInfo(self):\n",
    "        pass\n",
    "    @abstractmethod\n",
    "    def test(self):\n",
    "        print(\"tested\")\n",
    "    \n",
    "class DataEngineering(Department):\n",
    "    salary = 1500\n",
    "    \n",
    "    def departmentInfo(self):\n",
    "        print(\"hi user\")\n",
    "        \n",
    "    def test(self):\n",
    "        print(\"hi DE user\")\n",
    "        \n",
    "class hr(DataEngineering):\n",
    "    def departmentInfo(self):\n",
    "        print(\"hr deptinfo\")\n",
    "    \n",
    "    def testHr(self):\n",
    "        print(\"testHr\")\n",
    "        \n",
    "    def test(self):\n",
    "        print(\"hi hr user\")\n",
    "        \n",
    "        \n",
    "# d = Department()\n",
    "md1 = DataEngineering()\n",
    "\n",
    "h1 = hr()\n",
    "\n",
    "h1.testHr()\n",
    "h1.test()"
   ]
  },
  {
   "cell_type": "code",
   "execution_count": null,
   "metadata": {},
   "outputs": [],
   "source": [
    "# Exercise 1\n",
    "class Dog:\n",
    "\n",
    "    species = \"Canis familiaris\"\n",
    "\n",
    "    def __init__(self, name, age, coat_color):\n",
    "        self.name = name\n",
    "        self.age = age\n",
    "        self.coat_color = coat_color\n",
    "\n",
    "    def __str__(self):\n",
    "        return f\"{self.name} is {self.age} years old\"\n",
    "\n",
    "    def speak(self, sound):\n",
    "        return f\"{self.name} says {sound}\"\n",
    "\n",
    "\n",
    "# The value for `age` can vary in your solution\n",
    "philo = Dog(\"Philo\", 5, \"brown\")\n",
    "print(f\"{philo.name}'s coat is {philo.coat_color}.\")\n",
    "\n",
    "\n",
    "# Exercise 2\n",
    "class Car:\n",
    "    def __init__(self, color, mileage):\n",
    "        self.color = color\n",
    "        self.mileage = mileage\n",
    "\n",
    "\n",
    "blue_car = Car(\"blue\", 20000)\n",
    "red_car = Car(\"red\", 30000)\n",
    "\n",
    "for car in (blue_car, red_car):\n",
    "    print(f\"The {car.color} car has {car.mileage:,} miles\")\n",
    "\n",
    "\n",
    "# Exercise 3\n",
    "class Car:\n",
    "    def __init__(self, color, mileage):\n",
    "        self.color = color\n",
    "        self.mileage = mileage\n",
    "\n",
    "    def drive(self, miles):\n",
    "        self.mileage = self.mileage + miles\n",
    "\n",
    "\n",
    "blue_car = Car(\"blue\", 0)\n",
    "blue_car.drive(100)\n",
    "print(blue_car.mileage)"
   ]
  },
  {
   "attachments": {},
   "cell_type": "markdown",
   "metadata": {},
   "source": [
    "### Quiz"
   ]
  },
  {
   "attachments": {},
   "cell_type": "markdown",
   "metadata": {},
   "source": [
    "You have been recruited by your friend, a linguistics enthusiast, to create a utility tool that can perform analysis on a given piece of text. Complete the class\n",
    "'analysedText' with the following methods -\n",
    "\n",
    "<ul>\n",
    "    <li> Constructor (__init__) - This method should take the argument <code>text</code>, make it lower case, and remove all punctuation.  Assume only the following punctuation is used: period (.), exclamation mark (!), comma (,) and question mark (?). Assign this newly formatted text to a new attribute called <code>fmtText</code>.\n",
    "    <li> freqAll - This method should create and <strong>return</strong> dictionary of all unique words in the text, along with the number of times they occur in the text. Each key in the dictionary should be the unique word appearing in the text and the associated value should be the number of times it occurs in the text. Create this dictionary from the <code>fmtText</code> attribute.\n",
    "    <li> freqOf - This method should take a word as an argument and <strong>return</strong> the number of occurrences of that word in <code>fmtText</code>.\n",
    "</ul>\n",
    " The skeleton code has been given to you. Docstrings can be ignored for the purpose of the exercise. <br>\n",
    " <i> Hint: Some useful functions are <code>replace()</code>, <code>lower()</code>, <code>split()</code>, <code>count()</code> </i><br>"
   ]
  },
  {
   "cell_type": "code",
   "execution_count": null,
   "metadata": {},
   "outputs": [],
   "source": [
    "class analysedText(object):\n",
    "    \n",
    "    def __init__ (self, text):\n",
    "\n",
    "        # TODO: Remove the punctuation from <text> and make it lower case.\n",
    "\n",
    "        # TODO: Assign the formatted text to a new attribute called \"fmtText\"\n",
    "        \n",
    "        pass \n",
    "    \n",
    "    def freqAll(self):    \n",
    "\n",
    "        # TODO: Split the text into a list of words  \n",
    "\n",
    "        # TODO: Create a dictionary with the unique words in the text as keys\n",
    "        # and the number of times they occur in the text as values\n",
    "      \n",
    "        pass # return the created dictionary\n",
    "    \n",
    "    def freqOf(self, word):\n",
    "\n",
    "        # TODO: return the number of occurrences of <word> in <fmtText>\n",
    "\n",
    "        pass"
   ]
  },
  {
   "attachments": {},
   "cell_type": "markdown",
   "metadata": {},
   "source": [
    "You can run the code cell below to test your functions to ensure they are working correctly. First execute the code cell in which you implemented your solution, then execute the code cell to test your implementation."
   ]
  },
  {
   "cell_type": "code",
   "execution_count": null,
   "metadata": {},
   "outputs": [],
   "source": [
    "import sys\n",
    "\n",
    "sampleMap = {'eirmod': 1,'sed': 1, 'amet': 2, 'diam': 5, 'consetetur': 1, 'labore': 1, 'tempor': 1, 'dolor': 1, 'magna': 2, 'et': 3, 'nonumy': 1, 'ipsum': 1, 'lorem': 2}\n",
    "\n",
    "def testMsg(passed):\n",
    "    if passed:\n",
    "       return 'Test Passed'\n",
    "    else :\n",
    "       return 'Test Failed'\n",
    "\n",
    "print(\"Constructor: \")\n",
    "try:\n",
    "    samplePassage = analysedText(\"Lorem ipsum dolor! diam amet, consetetur Lorem magna. sed diam nonumy eirmod tempor. diam et labore? et diam magna. et diam amet.\")\n",
    "    print(testMsg(samplePassage.fmtText == \"lorem ipsum dolor diam amet consetetur lorem magna sed diam nonumy eirmod tempor diam et labore et diam magna et diam amet\"))\n",
    "except:\n",
    "    print(\"Error detected. Recheck your function \" )\n",
    "print(\"freqAll: \")\n",
    "try:\n",
    "    wordMap = samplePassage.freqAll()\n",
    "    print(testMsg(wordMap==sampleMap))\n",
    "except:\n",
    "    print(\"Error detected. Recheck your function \" )\n",
    "print(\"freqOf: \")\n",
    "try:\n",
    "    passed = True\n",
    "    for word in sampleMap:\n",
    "        if samplePassage.freqOf(word) != sampleMap[word]:\n",
    "            passed = False\n",
    "            break\n",
    "    print(testMsg(passed))\n",
    "    \n",
    "except:\n",
    "    print(\"Error detected. Recheck your function  \" )"
   ]
  },
  {
   "attachments": {},
   "cell_type": "markdown",
   "metadata": {},
   "source": [
    "Solution:"
   ]
  },
  {
   "cell_type": "code",
   "execution_count": null,
   "metadata": {},
   "outputs": [],
   "source": [
    "class analysedText(object):\n",
    "    \n",
    "    def __init__ (self, text):\n",
    "        # remove punctuation\n",
    "        formattedText = text.replace('.','').replace('!','').replace('?','').replace(',','')\n",
    "        \n",
    "        # make text lowercase\n",
    "        formattedText = formattedText.lower()\n",
    "        \n",
    "        self.fmtText = formattedText\n",
    "        \n",
    "    def freqAll(self):        \n",
    "        # split text into words\n",
    "        wordList = self.fmtText.split(' ')\n",
    "        \n",
    "        # Create dictionary\n",
    "        freqMap = {}\n",
    "        for word in set(wordList): # use set to remove duplicates in list\n",
    "            freqMap[word] = wordList.count(word)\n",
    "        \n",
    "        return freqMap\n",
    "    \n",
    "    def freqOf(self,word):\n",
    "        # get frequency map\n",
    "        freqDict = self.freqAll()\n",
    "        \n",
    "        if word in freqDict:\n",
    "            return freqDict[word]\n",
    "        else:\n",
    "            return 0"
   ]
  },
  {
   "attachments": {},
   "cell_type": "markdown",
   "metadata": {},
   "source": [
    "### Magic Methods in Python\n",
    "\n",
    "In Python, Magic methods in Python are the special methods that start and end with the double underscores\n",
    "\n",
    "-   Magic methods are not meant to be invoked directly by you, but the invocation happens internally from the class once certain action is performed\n",
    "-   Examples for magic methods are: __new__, __repr__, __init__, __add__, __len__, __del__ etc. The __init__ method used for initialization is invoked without any call\n",
    "-   Use the dir() function to see the number of magic methods inherited by a class\n",
    "-   The advantage of using Python's magic methods is that they provide a simple way to make objects behave like built-in types\n",
    "-   Magic methods can be used to emulate the behavior of built-in types of user-defined objects. Therefore, whenever you find yourself trying to manipulate a user-defined object's output in a Python class, then use magic methods."
   ]
  },
  {
   "cell_type": "code",
   "execution_count": 1,
   "metadata": {},
   "outputs": [],
   "source": [
    "# __Del__ method\n",
    "from os.path import join\n",
    "\n",
    "class FileObject:\n",
    "    def __init__(self, file_path='~', file_name='test.txt'):\n",
    "        self.file = open(join(file_path, file_name), 'rt')\n",
    "    def __del__(self):\n",
    "        self.file.close()\n",
    "        del self.file"
   ]
  },
  {
   "cell_type": "code",
   "execution_count": 2,
   "metadata": {},
   "outputs": [],
   "source": [
    "# __repr__ method\n",
    "class String:\n",
    "    def __init__(self, string):\n",
    "        self.string = string\n",
    "    def __repr__(self):\n",
    "        return 'Object: {}'.format(self.string)"
   ]
  },
  {
   "attachments": {},
   "cell_type": "markdown",
   "metadata": {},
   "source": [
    "### Inheritance and Polymorphism in Python"
   ]
  },
  {
   "attachments": {},
   "cell_type": "markdown",
   "metadata": {},
   "source": [
    "-   In Python, Inheritance and Polymorphism are very powerful and important concept\n",
    "-   Using inheritance you can use or inherit all the data fields and methods available in the parent class\n",
    "-   On top of it, you can add you own methods and data fields\n",
    "-   Python allows multiple inheritance i.e you can inherit from multiple classes\n",
    "-   Inheritance provides a way to write better organized code and re-use the code\n",
    "\n",
    "More on this [here](https://erdemisbilen.medium.com/class-inheritance-in-python-fundamentals-for-data-scientists-6a40e7ccc5db)."
   ]
  },
  {
   "cell_type": "code",
   "execution_count": 3,
   "metadata": {},
   "outputs": [
    {
     "name": "stdout",
     "output_type": "stream",
     "text": [
      "CziarTK720 in red color\n",
      "Cziar\n"
     ]
    }
   ],
   "source": [
    "# Inheritance\n",
    "class Vehicle:\n",
    "    def __init__(self, name, color):\n",
    "        self.__name = name      \n",
    "        self.__color = color\n",
    "    def getColor(self):         \n",
    "        return self.__color\n",
    "    def setColor(self, color):  \n",
    "        self.__color = color\n",
    "    def get_Name(self):          \n",
    "        return self.__name\n",
    "    \n",
    "class Bike(Vehicle):\n",
    "    def __init__(self, name, color, model):\n",
    "        super().__init__(name, color)       # call parent class\n",
    "        self.__model = model\n",
    "    def get_details(self):\n",
    "        return self.get_Name() + self.__model + \" in \" +  self.getColor() + \" color\"\n",
    "    \n",
    "b_obj = Bike(\"Cziar\", \"red\", \"TK720\")\n",
    "print(b_obj.get_details())\n",
    "print(b_obj.get_Name())"
   ]
  },
  {
   "cell_type": "code",
   "execution_count": 5,
   "metadata": {},
   "outputs": [
    {
     "name": "stdout",
     "output_type": "stream",
     "text": [
      "36\n",
      "314.1592653589793\n"
     ]
    }
   ],
   "source": [
    "# Polymorphism\n",
    "from math import pi\n",
    "\n",
    "class Shape:\n",
    "    def __init__(self, name):\n",
    "        self.name = name\n",
    "    def area(self):\n",
    "        pass\n",
    "\n",
    "class Square(Shape):\n",
    "    def __init__(self, length):\n",
    "        super().__init__(\"Square\")\n",
    "        self.length = length\n",
    "    def area(self):\n",
    "        return self.length**2\n",
    "\n",
    "class Circle(Shape):\n",
    "    def __init__(self, radius):\n",
    "        super().__init__(\"Circle\")\n",
    "        self.radius = radius\n",
    "    def area(self):\n",
    "        return pi*self.radius**2\n",
    "\n",
    "a = Square(6)\n",
    "b = Circle(10)\n",
    "print(a.area())\n",
    "print(b.area())"
   ]
  },
  {
   "cell_type": "code",
   "execution_count": null,
   "metadata": {},
   "outputs": [],
   "source": [
    "# Exercise 1\n",
    "# The parent `Dog` class (given in exercise)\n",
    "class Dog:\n",
    "    species = \"Canis familiaris\"\n",
    "\n",
    "    def __init__(self, name, age):\n",
    "        self.name = name\n",
    "        self.age = age\n",
    "\n",
    "    def __str__(self):\n",
    "        return f\"{self.name} is {self.age} years old\"\n",
    "\n",
    "    def speak(self, sound):\n",
    "        return f\"{self.name} says {sound}\"\n",
    "\n",
    "\n",
    "# The GoldenRetriever class that solves the exercise\n",
    "class GoldenRetriever(Dog):\n",
    "    def speak(self, sound=\"Bark\"):\n",
    "        return super().speak(sound)\n",
    "\n",
    "\n",
    "# Exercise 2\n",
    "# Rectangle and Square classes\n",
    "class Rectangle:\n",
    "    def __init__(self, length, width):\n",
    "        self.length = length\n",
    "        self.width = width\n",
    "\n",
    "    def area(self):\n",
    "        return self.length * self.width\n",
    "\n",
    "\n",
    "class Square(Rectangle):\n",
    "    def __init__(self, side_length):\n",
    "        super().__init__(side_length, side_length)\n",
    "\n",
    "\n",
    "square = Square(4)\n",
    "print(square.area())"
   ]
  },
  {
   "attachments": {},
   "cell_type": "markdown",
   "metadata": {},
   "source": [
    "#### Challenge: Model a Farm"
   ]
  },
  {
   "cell_type": "code",
   "execution_count": null,
   "metadata": {},
   "outputs": [],
   "source": [
    "class Animal:\n",
    "\n",
    "    # Class attributes\n",
    "    stuff_in_belly = 0\n",
    "    position = 0\n",
    "\n",
    "    # Initializer\n",
    "    def __init__(self, name, color):\n",
    "        self.name = name\n",
    "        self.color = color\n",
    "\n",
    "    # Instance methods\n",
    "    def talk(self, sound=None):\n",
    "        \"\"\"Return the string \"<name> says <sound>\"\n",
    "\n",
    "        If `sound` is left out, returns \"Hello, I'm <name>\"\n",
    "        \"\"\"\n",
    "        if sound is None:\n",
    "            return f\"Hello. I'm {self.name}!\"\n",
    "        return f\"{self.name} says {sound}\"\n",
    "\n",
    "    def walk(self, walk_increment):\n",
    "        self.position = self.position + walk_increment\n",
    "        return self.position\n",
    "\n",
    "    def run(self, run_increment):\n",
    "        self.position = self.position + run_increment\n",
    "        return self.position\n",
    "\n",
    "    def feed(self):\n",
    "        self.stuff_in_belly = self.stuff_in_belly + 1\n",
    "        if self.stuff_in_belly > 3:\n",
    "            return self.poop()\n",
    "        else:\n",
    "            return f\"{self.name} is eating.\"\n",
    "\n",
    "    def is_hungry(self):\n",
    "        if self.stuff_in_belly < 2:\n",
    "            return f\"{self.name} is hungry\"\n",
    "        else:\n",
    "            return f\"{self.name} is not hungry\"\n",
    "\n",
    "    def poop(self):\n",
    "        self.stuff_in_belly = 0\n",
    "        return \"Ate too much ... need to find a bathroom\"\n",
    "\n",
    "\n",
    "class Dog(Animal):\n",
    "    def talk(self, sound=\"Bark Bark!\"):\n",
    "        return super().talk(sound)\n",
    "\n",
    "    def fetch(self):\n",
    "        return f\"{self.name} is fetching.\"\n",
    "\n",
    "\n",
    "class Sheep(Animal):\n",
    "    def talk(self, sound=\"Baaa Baaa\"):\n",
    "        return super().talk(sound)\n",
    "\n",
    "\n",
    "class Pig(Animal):\n",
    "    def talk(self, sound=\"Oink Oink\"):\n",
    "        return super().talk(sound)\n",
    "\n",
    "\n",
    "# The following code illustrates how to use the classes defined above.\n",
    "# It is not necesarrily a part of the solution, and is included for\n",
    "# illustration purposes only.\n",
    "\n",
    "# Create a dog\n",
    "dog = Dog(\"Blitzer\", \"yellow\")\n",
    "\n",
    "# Output the dog's attributes\n",
    "print(f\"Our dog's name is {dog.name}.\")\n",
    "print(f\"And he's {dog.color}.\")\n",
    "\n",
    "# Output some behavior\n",
    "print(f\"Say something, {dog.name}.\")\n",
    "print(dog.talk())\n",
    "print(\"Go fetch!\")\n",
    "print(dog.fetch())\n",
    "\n",
    "# Walk the dog\n",
    "print(f\"{dog.name} is at position {dog.walk(2)}.\")\n",
    "\n",
    "# Run the dog\n",
    "print(f\"{dog.name} is now at position {dog.run(4)}\")\n",
    "\n",
    "# Feed the dog\n",
    "print(dog.feed())\n",
    "\n",
    "# Is the dog hungry?\n",
    "print(dog.is_hungry())\n",
    "\n",
    "# Feed the dog more\n",
    "print(dog.feed())\n",
    "print(dog.feed())\n",
    "print(dog.is_hungry())\n",
    "print(dog.feed())\n",
    "\n",
    "print(\"\\n\")\n",
    "\n",
    "# Create a sheep\n",
    "sheep = Sheep(\"Shaun\", \"white\")\n",
    "\n",
    "# The sheep talks!\n",
    "print(sheep.talk())\n",
    "\n",
    "# When the sheep runs, the distance is returned\n",
    "print(sheep.run(2))\n",
    "print(sheep.run(2))\n",
    "\n",
    "print(\"\\n\")\n",
    "\n",
    "# Create a pig\n",
    "pig = Pig(\"Carl\", \"pink\")\n",
    "\n",
    "# Pigs love to oink!\n",
    "print(pig.talk())"
   ]
  },
  {
   "attachments": {},
   "cell_type": "markdown",
   "metadata": {},
   "source": [
    "## Errors and Exception Handling in Python"
   ]
  },
  {
   "attachments": {},
   "cell_type": "markdown",
   "metadata": {},
   "source": [
    "In Python, an error can be a syntax error or an exception.\n",
    "\n",
    "When the parser detects an incorrect statement, Syntax errors occur.\n",
    "\n",
    "-   Exceptions errors are raised when an external event occurs which in some way changes the normal flow of the program\n",
    "-   Exception error occurs whenever syntactically correct python code results in an error\n",
    "-   Python comes with various built-in exceptions as well as the user can create user-defined exceptions\n",
    "-   Garbage collection is the memory management feature i.e a process of cleaning shared computer memory\n",
    "\n",
    "Some of python's built in exceptions:\n",
    "\n",
    "- IndexError : When the wrong index of a list is retrieved\n",
    "- ImportError : When an imported module is not found\n",
    "- KeyError : When the key of the dictionary is not found\n",
    "- NameError: When the variable is not defined\n",
    "- MemoryError : When a program run out of memory\n",
    "- TypeError : When a function and operation is applied in an incorrect type\n",
    "- AssertionError : When assert statement fails\n",
    "- AttributeError : When an attribute assignment is failed"
   ]
  },
  {
   "attachments": {},
   "cell_type": "markdown",
   "metadata": {},
   "source": [
    "In Python, exceptions can be handled using a try statement\n",
    "\n",
    "-   The block of code which can raise an exception is placed inside the try clause. The code that handles the exceptions is written in the except clause\n",
    "-   In case no exception has occurred, the except block is skipped and program normal flow continues\n",
    "-   A try clause can have any number of except clauses to handle different exceptions but only one will be executed in case the exception occurs\n",
    "-   We can also raise exceptions using the raise keyword\n",
    "-   The try statement in Python can have an optional finally clause which executes regardless of the result of the try- and except blocks"
   ]
  },
  {
   "cell_type": "code",
   "execution_count": 7,
   "metadata": {},
   "outputs": [
    {
     "ename": "ZeroDivisionError",
     "evalue": "division by zero",
     "output_type": "error",
     "traceback": [
      "\u001b[0;31m---------------------------------------------------------------------------\u001b[0m",
      "\u001b[0;31mZeroDivisionError\u001b[0m                         Traceback (most recent call last)",
      "\u001b[0;32m<ipython-input-7-9e1622b385b6>\u001b[0m in \u001b[0;36m<module>\u001b[0;34m\u001b[0m\n\u001b[0;32m----> 1\u001b[0;31m \u001b[0;36m1\u001b[0m\u001b[0;34m/\u001b[0m\u001b[0;36m0\u001b[0m\u001b[0;34m\u001b[0m\u001b[0;34m\u001b[0m\u001b[0m\n\u001b[0m",
      "\u001b[0;31mZeroDivisionError\u001b[0m: division by zero"
     ]
    }
   ],
   "source": [
    "1/0"
   ]
  },
  {
   "attachments": {},
   "cell_type": "markdown",
   "metadata": {},
   "source": [
    "<code>ZeroDivisionError</code> occurs when you try to divide by zero."
   ]
  },
  {
   "cell_type": "code",
   "execution_count": 53,
   "metadata": {},
   "outputs": [
    {
     "ename": "NameError",
     "evalue": "name 'a' is not defined",
     "output_type": "error",
     "traceback": [
      "\u001b[0;31m---------------------------------------------------------------------------\u001b[0m",
      "\u001b[0;31mNameError\u001b[0m                                 Traceback (most recent call last)",
      "\u001b[0;32m<ipython-input-53-6ddcec040107>\u001b[0m in \u001b[0;36m<module>\u001b[0;34m\u001b[0m\n\u001b[0;32m----> 1\u001b[0;31m \u001b[0my\u001b[0m \u001b[0;34m=\u001b[0m \u001b[0ma\u001b[0m \u001b[0;34m+\u001b[0m \u001b[0;36m5\u001b[0m\u001b[0;34m\u001b[0m\u001b[0;34m\u001b[0m\u001b[0m\n\u001b[0m",
      "\u001b[0;31mNameError\u001b[0m: name 'a' is not defined"
     ]
    }
   ],
   "source": [
    "y = a + 5"
   ]
  },
  {
   "attachments": {},
   "cell_type": "markdown",
   "metadata": {},
   "source": [
    "<code>NameError</code> -- in this case, it means that you tried to use the variable a when it was not defined."
   ]
  },
  {
   "cell_type": "code",
   "execution_count": 54,
   "metadata": {},
   "outputs": [
    {
     "ename": "IndexError",
     "evalue": "list index out of range",
     "output_type": "error",
     "traceback": [
      "\u001b[0;31m---------------------------------------------------------------------------\u001b[0m",
      "\u001b[0;31mIndexError\u001b[0m                                Traceback (most recent call last)",
      "\u001b[0;32m<ipython-input-54-3f911ca4e3d3>\u001b[0m in \u001b[0;36m<module>\u001b[0;34m\u001b[0m\n\u001b[1;32m      1\u001b[0m \u001b[0ma\u001b[0m \u001b[0;34m=\u001b[0m \u001b[0;34m[\u001b[0m\u001b[0;36m1\u001b[0m\u001b[0;34m,\u001b[0m \u001b[0;36m2\u001b[0m\u001b[0;34m,\u001b[0m \u001b[0;36m3\u001b[0m\u001b[0;34m]\u001b[0m\u001b[0;34m\u001b[0m\u001b[0;34m\u001b[0m\u001b[0m\n\u001b[0;32m----> 2\u001b[0;31m \u001b[0ma\u001b[0m\u001b[0;34m[\u001b[0m\u001b[0;36m10\u001b[0m\u001b[0;34m]\u001b[0m\u001b[0;34m\u001b[0m\u001b[0;34m\u001b[0m\u001b[0m\n\u001b[0m",
      "\u001b[0;31mIndexError\u001b[0m: list index out of range"
     ]
    }
   ],
   "source": [
    "a = [1, 2, 3]\n",
    "a[10]"
   ]
  },
  {
   "attachments": {},
   "cell_type": "markdown",
   "metadata": {},
   "source": [
    "<code>IndexError</code> - in this case, it occured because you tried to access data from a list using an index that does not exist for this list."
   ]
  },
  {
   "attachments": {},
   "cell_type": "markdown",
   "metadata": {},
   "source": [
    "There are many more exceptions that are built into Python, here is a list of them https://docs.python.org/3/library/exceptions.html"
   ]
  },
  {
   "attachments": {},
   "cell_type": "markdown",
   "metadata": {},
   "source": [
    "A <code>try except</code> will allow you to execute code that might raise an exception and in the case of any exception or a specific one we can handle or catch the exception and execute specific code. This will allow us to continue the execution of our program even if there is an exception.\n",
    "\n",
    "Python tries to execute the code in the <code>try</code> block. In this case if there is any exception raised by the code in the <code>try</code> block, it will be caught and the code block in the <code>except</code> block will be executed. After that, the code that comes <em>after</em> the try except will be executed.\n"
   ]
  },
  {
   "cell_type": "code",
   "execution_count": 55,
   "metadata": {},
   "outputs": [
    {
     "name": "stdout",
     "output_type": "stream",
     "text": [
      "Success a= 0.1\n"
     ]
    }
   ],
   "source": [
    "a = 1\n",
    "\n",
    "try:\n",
    "    b = int(input(\"Please enter a number to divide a\"))\n",
    "    a = a/b\n",
    "    print(\"Success a=\",a)\n",
    "except:\n",
    "    print(\"There was an error\")"
   ]
  },
  {
   "attachments": {},
   "cell_type": "markdown",
   "metadata": {},
   "source": [
    "```py\n",
    "# potential code before try catch\n",
    "\n",
    "try:\n",
    "    # code to try to execute\n",
    "except ZeroDivisionError:\n",
    "    # code to execute if there is a ZeroDivisionError\n",
    "except NameError:\n",
    "    # code to execute if there is a NameError\n",
    "except:\n",
    "    # code to execute if ther is any exception\n",
    "else:\n",
    "    # code to execute if there is no exception\n",
    "finally:\n",
    "    # code to execute at the end of the try except no matter what\n",
    "    \n",
    "# code that will execute if there is no exception or a one that we are handling\n",
    "```"
   ]
  },
  {
   "cell_type": "code",
   "execution_count": 57,
   "metadata": {},
   "outputs": [
    {
     "name": "stdout",
     "output_type": "stream",
     "text": [
      "The number you provided cant divide 1 because it is 0\n",
      "Processing Complete\n"
     ]
    }
   ],
   "source": [
    "a = 1\n",
    "b = 0\n",
    "\n",
    "try:\n",
    "    a = a/b\n",
    "except ZeroDivisionError:\n",
    "    print(\"The number you provided cant divide 1 because it is 0\")\n",
    "except ValueError:\n",
    "    print(\"You did not provide a number\")\n",
    "except:\n",
    "    print(\"Something went wrong\")\n",
    "else:\n",
    "    print(\"success a=\",a)\n",
    "finally:\n",
    "    print(\"Processing Complete\")"
   ]
  },
  {
   "cell_type": "code",
   "execution_count": 64,
   "metadata": {},
   "outputs": [
    {
     "name": "stdout",
     "output_type": "stream",
     "text": [
      "main FileNotFound\n",
      "Alternate file not found\n"
     ]
    }
   ],
   "source": [
    "path = './Assignment_1.txt'\n",
    "alternate_path = './Assignment/code.txt'\n",
    "txt_file = None\n",
    "try:\n",
    "    with open(path,'r') as file:\n",
    "        data = file.read()\n",
    "        print(data)\n",
    "except FileNotFoundError as e:\n",
    "    print(\"main FileNotFound\")\n",
    "    try:\n",
    "        txt_file = open(alternate_path,'r')\n",
    "        print(txt_file)\n",
    "    except:\n",
    "        print(\"Alternate file not found\")\n",
    "except Exception:\n",
    "    print(\"Unexpected error\")\n",
    "finally:\n",
    "    if txt_file is not None:\n",
    "        txt_file.close()\n",
    "        print(\"file closed\")"
   ]
  },
  {
   "attachments": {},
   "cell_type": "markdown",
   "metadata": {},
   "source": [
    "## Decorators in Python"
   ]
  },
  {
   "attachments": {},
   "cell_type": "markdown",
   "metadata": {},
   "source": [
    "In Python, a decorator is any callable Python object that is used to modify a function or a class. It takes a function, adds some functionality, and returns it.\n",
    "\n",
    "-   Decorators are a very powerful and useful tool in Python since it allows programmers to modify/control the behavior of function or class.\n",
    "-   In Decorators, functions are passed as an argument into another function and then called inside the wrapper function.\n",
    "-   Decorators are usually called before the definition of a function you want to decorate."
   ]
  },
  {
   "cell_type": "code",
   "execution_count": 12,
   "metadata": {},
   "outputs": [
    {
     "data": {
      "text/plain": [
       "['mother', 'of', 'dragons']"
      ]
     },
     "execution_count": 12,
     "metadata": {},
     "output_type": "execute_result"
    }
   ],
   "source": [
    "# Multiple Decorators\n",
    "def lowercase_decorator(function):\n",
    "    def wrapper():\n",
    "        func= function()\n",
    "        make_lowercase = func.lower()\n",
    "        return make_lowercase\n",
    "    return wrapper\n",
    "\n",
    "def split_string(function):\n",
    "    def wrapper():\n",
    "        func= function()\n",
    "        split_string =func.split()\n",
    "        return split_string\n",
    "    return wrapper\n",
    "\n",
    "@split_string\n",
    "@lowercase_decorator\n",
    "def test_func():\n",
    "    return 'MOTHER OF DRAGONS'\n",
    "\n",
    "test_func()"
   ]
  },
  {
   "attachments": {},
   "cell_type": "markdown",
   "metadata": {},
   "source": [
    "## Generators in Python"
   ]
  },
  {
   "attachments": {},
   "cell_type": "markdown",
   "metadata": {},
   "source": [
    "In Python, Generator functions act just like regular functions with just one difference that they use the Python *yield* keyword instead of *return* . A generator function is a function that returns an iterator A generator expression is an expression that also returns an iterator\n",
    "\n",
    "-   Generator objects are used either by calling the next method on the generator object or using the generator object in a \"for in\" loop.\n",
    "-   A return statement terminates a function entirely but a yield statement pauses the function saving all its states and later continues from there on successive calls.\n",
    "-   Generator expressions can be used as the function arguments. Just like list comprehensions, generator expressions allow you to quickly create a generator object within minutes with just a few lines of code.\n",
    "-   The major difference between a list comprehension and a generator expression is that a list comprehension produces the entire list while the generator expression produces one item at a time as lazy evaluation. For this reason, compared to a list comprehension, a generator expression is much more memory efficient"
   ]
  },
  {
   "cell_type": "code",
   "execution_count": 9,
   "metadata": {},
   "outputs": [
    {
     "name": "stdout",
     "output_type": "stream",
     "text": [
      "0,1,2,3,4,5,6,7,8,9,"
     ]
    }
   ],
   "source": [
    "def test_sequence():\n",
    "    num = 0\n",
    "    while num<10:\n",
    "        yield num\n",
    "        num += 1\n",
    "for i in test_sequence():\n",
    "       print(i, end=\",\")"
   ]
  },
  {
   "cell_type": "code",
   "execution_count": 10,
   "metadata": {},
   "outputs": [
    {
     "name": "stdout",
     "output_type": "stream",
     "text": [
      "n a j o r T "
     ]
    }
   ],
   "source": [
    "# Python generator with Loop\n",
    "#Reverse a string\n",
    "def reverse_str(test_str):\n",
    "    length = len(test_str)\n",
    "    for i in range(length - 1, -1, -1):\n",
    "        yield test_str[i]\n",
    "for char in reverse_str(\"Trojan\"):\n",
    "    print(char,end =\" \")"
   ]
  },
  {
   "cell_type": "code",
   "execution_count": 11,
   "metadata": {},
   "outputs": [
    {
     "name": "stdout",
     "output_type": "stream",
     "text": [
      "[1, 27, 216, 1000]\n",
      "<class 'generator'>\n",
      "(1, 27, 216, 1000)\n"
     ]
    }
   ],
   "source": [
    "# Generator Expression\n",
    "# Initialize the list\n",
    "test_list = [1, 3, 6, 10]\n",
    "# list comprehension\n",
    "list_comprehension = [x**3 for x in test_list]\n",
    "# generator expression\n",
    "test_generator = (x**3 for x in test_list)\n",
    "print(list_comprehension)\n",
    "print(type(test_generator))\n",
    "print(tuple(test_generator))"
   ]
  },
  {
   "attachments": {},
   "cell_type": "markdown",
   "metadata": {},
   "source": [
    "## Reading and Writing Files"
   ]
  },
  {
   "cell_type": "code",
   "execution_count": 28,
   "metadata": {},
   "outputs": [
    {
     "name": "stdout",
     "output_type": "stream",
     "text": [
      "../data/Example1.txt\n"
     ]
    }
   ],
   "source": [
    "# Read the Example1.txt\n",
    "example1 = \"../data/Example1.txt\"\n",
    "file1 = open(example1, \"r\")\n",
    "\n",
    "# Print the path of file\n",
    "print(file1.name)"
   ]
  },
  {
   "cell_type": "code",
   "execution_count": 29,
   "metadata": {},
   "outputs": [
    {
     "name": "stdout",
     "output_type": "stream",
     "text": [
      "r\n"
     ]
    }
   ],
   "source": [
    "# Print the mode of file, either 'r' or 'w'\n",
    "print(file1.mode)"
   ]
  },
  {
   "cell_type": "code",
   "execution_count": 30,
   "metadata": {},
   "outputs": [
    {
     "data": {
      "text/plain": [
       "'This is line 1 \\nThis is line 2\\nThis is line 3'"
      ]
     },
     "execution_count": 30,
     "metadata": {},
     "output_type": "execute_result"
    }
   ],
   "source": [
    "# Read the file\n",
    "FileContent = file1.read()\n",
    "FileContent"
   ]
  },
  {
   "cell_type": "code",
   "execution_count": 31,
   "metadata": {},
   "outputs": [
    {
     "name": "stdout",
     "output_type": "stream",
     "text": [
      "This is line 1 \n",
      "This is line 2\n",
      "This is line 3\n"
     ]
    }
   ],
   "source": [
    "# Print the file with '\\n' as a new line\n",
    "print(FileContent)"
   ]
  },
  {
   "attachments": {},
   "cell_type": "markdown",
   "metadata": {},
   "source": [
    "It is very important that the file is closed in the end. This frees up resources and ensures consistency across different python versions."
   ]
  },
  {
   "cell_type": "code",
   "execution_count": 32,
   "metadata": {},
   "outputs": [],
   "source": [
    "# Close file after finish\n",
    "file1.close()"
   ]
  },
  {
   "cell_type": "code",
   "execution_count": 33,
   "metadata": {},
   "outputs": [
    {
     "name": "stdout",
     "output_type": "stream",
     "text": [
      "This\n",
      " is \n",
      "line 1 \n",
      "\n",
      "This is line 2\n"
     ]
    }
   ],
   "source": [
    "# Read certain amount of characters\n",
    "\n",
    "with open(example1, \"r\") as file1:\n",
    "    print(file1.read(4))\n",
    "    print(file1.read(4))\n",
    "    print(file1.read(7))\n",
    "    print(file1.read(15))"
   ]
  },
  {
   "cell_type": "code",
   "execution_count": 34,
   "metadata": {},
   "outputs": [
    {
     "name": "stdout",
     "output_type": "stream",
     "text": [
      "first line: This is line 1 \n",
      "\n"
     ]
    }
   ],
   "source": [
    "# Read one line\n",
    "\n",
    "with open(example1, \"r\") as file1:\n",
    "    print(\"first line: \" + file1.readline())"
   ]
  },
  {
   "cell_type": "code",
   "execution_count": 36,
   "metadata": {},
   "outputs": [
    {
     "data": {
      "text/plain": [
       "['This is line 1 \\n', 'This is line 2\\n', 'This is line 3']"
      ]
     },
     "execution_count": 36,
     "metadata": {},
     "output_type": "execute_result"
    }
   ],
   "source": [
    "# Read all lines and save as a list\n",
    "\n",
    "with open(example1, \"r\") as file1:\n",
    "    FileasList = file1.readlines()\n",
    "    \n",
    "FileasList"
   ]
  },
  {
   "cell_type": "code",
   "execution_count": 37,
   "metadata": {},
   "outputs": [],
   "source": [
    "# Write line to file\n",
    "\n",
    "exmp2 = '../data/Example2.txt'\n",
    "\n",
    "with open(exmp2, 'w') as writefile:\n",
    "    writefile.write(\"This is line A\")"
   ]
  },
  {
   "cell_type": "code",
   "execution_count": 38,
   "metadata": {},
   "outputs": [
    {
     "name": "stdout",
     "output_type": "stream",
     "text": [
      "This is line A\n"
     ]
    }
   ],
   "source": [
    "# Read file\n",
    "\n",
    "with open(exmp2, 'r') as testwritefile:\n",
    "    print(testwritefile.read())"
   ]
  },
  {
   "cell_type": "code",
   "execution_count": 39,
   "metadata": {},
   "outputs": [],
   "source": [
    "# Write lines to file\n",
    "\n",
    "with open(exmp2, 'w') as writefile:\n",
    "    writefile.write(\"This is line A\\n\")\n",
    "    writefile.write(\"This is line B\\n\")"
   ]
  },
  {
   "cell_type": "code",
   "execution_count": 41,
   "metadata": {},
   "outputs": [
    {
     "name": "stdout",
     "output_type": "stream",
     "text": [
      "This is line A\n",
      "\n",
      "This is line B\n",
      "\n",
      "This is line C\n",
      "\n"
     ]
    }
   ],
   "source": [
    "# Write the strings in the list to text file\n",
    "\n",
    "Lines = [\"This is line A\\n\", \"This is line B\\n\", \"This is line C\\n\"]\n",
    "\n",
    "with open(exmp2, 'w') as writefile:\n",
    "    for line in Lines:\n",
    "        print(line)\n",
    "        writefile.write(line)"
   ]
  },
  {
   "cell_type": "code",
   "execution_count": 42,
   "metadata": {},
   "outputs": [],
   "source": [
    "# Write a new line to text file with append mode\n",
    "\n",
    "with open(exmp2, 'a') as testwritefile:\n",
    "    testwritefile.write(\"This is line C\\n\")\n",
    "    testwritefile.write(\"This is line D\\n\")\n",
    "    testwritefile.write(\"This is line E\\n\")"
   ]
  },
  {
   "cell_type": "code",
   "execution_count": 43,
   "metadata": {},
   "outputs": [
    {
     "name": "stdout",
     "output_type": "stream",
     "text": [
      "This is line A\n",
      "This is line B\n",
      "This is line C\n",
      "This is line C\n",
      "This is line D\n",
      "This is line E\n",
      "\n"
     ]
    }
   ],
   "source": [
    "# Verify if the new line is in the text file\n",
    "\n",
    "with open(exmp2, 'r') as testwritefile:\n",
    "    print(testwritefile.read())"
   ]
  },
  {
   "attachments": {},
   "cell_type": "markdown",
   "metadata": {},
   "source": [
    "It's fairly ineffecient to open the file in **a** or **w** and then reopening it in **r** to read any lines. Luckily we can access the file in the following modes:\n",
    "- **r+** : Reading and writing. Cannot truncate the file.\n",
    "- **w+** : Writing and reading. Truncates the file.\n",
    "- **a+** : Appending and Reading. Creates a new file, if none exists."
   ]
  },
  {
   "cell_type": "code",
   "execution_count": 45,
   "metadata": {},
   "outputs": [
    {
     "name": "stdout",
     "output_type": "stream",
     "text": [
      "This is line A\n",
      "This is line B\n",
      "This is line C\n",
      "This is line C\n",
      "This is line D\n",
      "This is line E\n",
      "This is line E\n",
      "This is line E\n",
      "\n"
     ]
    }
   ],
   "source": [
    "with open(exmp2, 'a+') as testwritefile:\n",
    "    testwritefile.write(\"This is line E\\n\")\n",
    "    testwritefile.seek(0,0) # move 0 bytes from beginning.\n",
    "    print(testwritefile.read())"
   ]
  },
  {
   "cell_type": "code",
   "execution_count": null,
   "metadata": {},
   "outputs": [],
   "source": [
    "header=['index','planets']\n",
    "output=open(os.path.join('..', 'data', 'temp.csv'), 'w')\n",
    "mywriter=csv.writer(output)\n",
    "mywriter.writerow(header)\n",
    "mywriter.writerow([1,'earth'])\n",
    "output.close()"
   ]
  },
  {
   "cell_type": "code",
   "execution_count": null,
   "metadata": {},
   "outputs": [],
   "source": [
    "# Exercise 1\n",
    "numbers = [\n",
    "    [1, 2, 3, 4, 5],\n",
    "    [6, 7, 8, 9, 10],\n",
    "    [11, 12, 13, 14, 15],\n",
    "]\n",
    "\n",
    "file_path = Path.home() / \"numbers.csv\"\n",
    "\n",
    "with file_path.open(mode=\"w\", encoding=\"utf-8\") as file:\n",
    "    writer = csv.writer(file)\n",
    "    writer.writerows(numbers)\n",
    "\n",
    "\n",
    "# Exercise 2\n",
    "numbers = []\n",
    "\n",
    "with file_path.open(mode=\"r\", encoding=\"utf-8\") as file:\n",
    "    reader = csv.reader(file)\n",
    "    for row in reader:\n",
    "        int_row = [int(num) for num in row]\n",
    "        numbers.append(int_row)\n",
    "\n",
    "print(numbers)\n",
    "\n",
    "\n",
    "# Exercise 3\n",
    "favorite_colors = [\n",
    "    {\"name\": \"Joe\", \"favorite_color\": \"blue\"},\n",
    "    {\"name\": \"Anne\", \"favorite_color\": \"green\"},\n",
    "    {\"name\": \"Bailey\", \"favorite_color\": \"red\"},\n",
    "]\n",
    "\n",
    "file_path = Path.home() / \"favorite_colors.csv\"\n",
    "\n",
    "with file_path.open(mode=\"w\", encoding=\"utf-8\") as file:\n",
    "    writer = csv.DictWriter(file, fieldnames=[\"name\", \"favorite_color\"])\n",
    "    writer.writeheader()\n",
    "    writer.writerows(favorite_colors)\n",
    "\n",
    "\n",
    "# Exercise 4\n",
    "favorite_colors = []\n",
    "\n",
    "with file_path.open(mode=\"r\", encoding=\"utf-8\") as file:\n",
    "    reader = csv.DictReader(file)\n",
    "    for row in reader:\n",
    "        favorite_colors.append(row)\n",
    "\n",
    "print(favorite_colors)"
   ]
  },
  {
   "attachments": {},
   "cell_type": "markdown",
   "metadata": {},
   "source": [
    "### Challenge: Create a High Scores List"
   ]
  },
  {
   "cell_type": "code",
   "execution_count": null,
   "metadata": {},
   "outputs": [],
   "source": [
    "# Change the path below to match the location on your computer\n",
    "scores_csv_path = (\n",
    "    Path.cwd()\n",
    "    / \"practice_files\"\n",
    "    / \"scores.csv\"\n",
    ")\n",
    "\n",
    "with scores_csv_path.open(mode=\"r\", encoding=\"utf-8\") as file:\n",
    "    reader = csv.DictReader(file)\n",
    "    scores = [row for row in reader]\n",
    "\n",
    "high_scores = {}\n",
    "for item in scores:\n",
    "    name = item[\"name\"]\n",
    "    score = int(item[\"score\"])\n",
    "    # If the name has not been added to the high_score dictionary, then\n",
    "    # create a new key with the name and set its value to the score\n",
    "    if name not in high_scores:\n",
    "        high_scores[name] = score\n",
    "    # Otherwise, check to see if score is greater than the score currently\n",
    "    # assigned to high_scores[name] and replace it if it is\n",
    "    else:\n",
    "        if score > high_scores[name]:\n",
    "            high_scores[name] = score\n",
    "\n",
    "# The high_scores dictionary now contains one key for each name that was\n",
    "# in the scores.csv file, and each value is that player's highest score.\n",
    "\n",
    "output_csv_file = Path.cwd() / \"high_scores.csv\"\n",
    "with output_csv_file.open(mode=\"w\", encoding=\"utf-8\") as file:\n",
    "    writer = csv.DictWriter(file, fieldnames=[\"name\", \"high_score\"])\n",
    "    writer.writeheader()\n",
    "    for name in high_scores:\n",
    "        row_dict = {\"name\": name, \"high_score\": high_scores[name]}\n",
    "        writer.writerow(row_dict)"
   ]
  },
  {
   "attachments": {},
   "cell_type": "markdown",
   "metadata": {},
   "source": [
    "## Assignment - OOPs"
   ]
  },
  {
   "attachments": {},
   "cell_type": "markdown",
   "metadata": {},
   "source": [
    "## Python OOP Assignment\n",
    "\n",
    "Q1. What is the purpose of Python's OOP?\n",
    "\n",
    "> Python OOP concept helps us to solve complex problems by using objects(Similar to real world)\n",
    "> OOP has other advantages like Encapsulation, Ploymorphism, Abstraction, Inheritance, etc.\n",
    "\n",
    "Q2. Where does an inheritance search look for an attribute?\n",
    "\n",
    "> In an inheritance the attribute is first serached in the class the object was created. Later it will search in the upper super classes.\n",
    "\n",
    "Q3. How do you distinguish between a class object and an instance object?\n",
    "\n",
    "> Instance object is always associated with self keyword & it is bound yo a particular object.\n",
    "> Class object is bound to a class & hence self keyword is not used.\n",
    "\n",
    "Q4. What makes the first argument in a class’s method function special?\n",
    "\n",
    "> In a class the first argument is self keyword. It is nothing but a refernce to the object who called that method.\n",
    "\n",
    "Q5. What is the purpose of the init method?\n",
    "\n",
    "> \\__init\\__() method in a class is a constructor of that calss.\n",
    "> It gets called as soon as an object is created.\n",
    "\n",
    "Q6. What is the process for creating a class instance?\n",
    "\n",
    "> Class instance can be created anywhere in the body of class.\n",
    "> We can declare & define it similar to any other variable declartion without the self keyword.\n",
    "\n",
    "Q7. What is the process for creating a class?\n",
    "\n",
    "> Class is created using the *class* keyword.\n",
    "\n",
    "```\n",
    "# Creating blank class\n",
    "class Data():\n",
    "\tpass\n",
    "\n",
    "# Creating a class with a constructor\n",
    "class Data()\n",
    "\tdef __init__(self):\n",
    "\t\tprint(\"Welcome to the Data class\")\n",
    "```\n",
    "\n",
    "Q8. How would you define the superclasses of a class?\n",
    "\n",
    "> The super classes of the class are the parent class from which the sub-class was created.\n",
    "> The charecteristics of super class are inherited in sub-class.\n",
    "\n",
    "Q9. What is the relationship between classes and modules?\n",
    "\n",
    "> Classes in Python are the collection of attributes & methods. These can be used only by the objects of the class or the derived class.\n",
    "> Modules in Python are a way to organize code. It can consists of sunctions, classes, methods, etc. We can import the module and use it wherever required.\n",
    "\n",
    "Q10. How do you make instances and classes?\n",
    "\n",
    "> Class is created using the *class* keyword & we can define the class attributes & methods inside it.\n",
    "> To create instances of a Class we need to create the class objects by passing the arguments if required.\n",
    "\n",
    "```\n",
    "# Creating a class\n",
    "class Employee():\n",
    "\tcompany_name = \"Google\"\n",
    "\n",
    "\tdef __init__(self, name, country):\n",
    "\t\tself.name = name\n",
    "\t\tself.country = country\n",
    "\n",
    "\tdef display(self):\n",
    "\t\tprint(f\"My name is {self.name} and I am from {self.country}, working at {Employee.company_name}\")\n",
    "\t\n",
    "# Creating instance/object\n",
    "emp_1 = Employee('Vivek', 'India')\n",
    "emp_1.display()\n",
    "```\n",
    "\n",
    "Q11. Where and how should be class attributes created?\n",
    "\n",
    "> Class attributes should be created directly inside the body of Class.\n",
    "> We can aslo declafe a class attribute outside the class using Class name as prefix.\n",
    "\n",
    "```\n",
    "class Example():\n",
    "\t# Class attribute\n",
    "\tcount = 5\n",
    "\tdef __init__(self):\n",
    "\t\tpass\n",
    "print(Example.count) # Output -> 5\n",
    "# Class attribute declared outside of the class\n",
    "Example.type = 'Outside'\n",
    "print(Example.type)\n",
    "```\n",
    "\n",
    "Q12. Where and how are instance attributes created?\n",
    "\n",
    "> Instance attributes are mostly created inside the constructor. It can also be created in a method.\n",
    "> Note that self keyword is required to create the instance attribute.\n",
    "> We can also create the instance attributes outside the class using the object name as prefix.\n",
    "\n",
    "```\n",
    "class Person():\n",
    "\n",
    "    def __init__(self, name):\n",
    "        # Instance attribute declared inside the class\n",
    "        self.name = name\n",
    "\n",
    "    def disp(self):\n",
    "        print(\"Name:\", self.name, \"& Age:\", self.age)\n",
    "\n",
    "e1 = Person('abc')\n",
    "e2 = Person('xyz')\n",
    "\n",
    "# Instance attributes declared outside of the class\n",
    "e1.age = 20\n",
    "e2.age = 30\n",
    "\n",
    "e1.disp() # Outout -> Name: abc & Age: 20\n",
    "e2.disp() # Output -> Name: xyz & Age: 30\n",
    "```\n",
    "\n",
    "Q13. What does the term \"self\" in a Python class mean?\n",
    "\n",
    "> self keyword in python is used to reference the object of the class which instanciated.\n",
    "\n",
    "Q14. How does a Python class handle operator overloading?\n",
    "\n",
    "> In Python operator overloading is handled based on the datatype of the operands/arguments passed to it.\n",
    "\n",
    "Q15. When do you consider allowing operator overloading of your classes?\n",
    "\n",
    "> Whenever we need to handle the data differently based on the datatype of the operands, we will go ahead with operator overloading.\n",
    "\n",
    "Q16. What is the most popular form of operator overloading?\n",
    "\n",
    "> '+' operator is most popular form of operator overloading. It is used to add integers or floats and at the same time it is also used to concatinate strings.\n",
    "\n",
    "Q17. What are the two most important concepts to grasp in order to comprehend Python OOP code?\n",
    "\n",
    "> Inheritance & Polymorphism are the two most important concepts in Python OOP.\n",
    "\n",
    "Q18. Describe three applications for exception processing.\n",
    "\n",
    "1. To handle divide by zero\n",
    "2. To handle index out of range error\n",
    "3. To handle wrong key name for dictionaries\n",
    "\n",
    "Q19. What happens if you don't do something extra to treat an exception?\n",
    "\n",
    "> The program will throw error & stop the further execution if we do not handle the exceptions.\n",
    "\n",
    "Q20. What are your options for recovering from an exception in your script?\n",
    "\n",
    "> We can use try & except to handle the exception in our script.\n",
    "\n",
    "Q21. Describe two methods for triggering exceptions in your script.\n",
    "\n",
    "1. Dividing a value by zero will trigger exception.\n",
    "2. Accessing a dictionary using wrong key will trigger exception.\n",
    "\n",
    "Q22. Identify two methods for specifying actions to be executed at termination time, regardless ofwhether or not an exception exists.\n",
    "\n",
    "> finally is used to execute the code regardless of whether or not an exception exists.\n",
    "\n",
    "Q23. What is the purpose of the try statement?\n",
    "\n",
    "> try statement is used to check the error-prone code.\n",
    "\n",
    "Q24. What are the two most popular try statement variations?\n",
    "\n",
    "1. try/except/else\n",
    "2. try/except/finally\n",
    "\n",
    "Q25. What is the purpose of the raise statement?\n",
    "\n",
    "> raise statement is used to raise user defined exceptions.\n",
    "\n",
    "Q26. What does the assert statement do, and what other statement is it like?\n",
    "\n",
    "> The assert statement generates AssertionError if a condition is False. It is similar to raise statement.\n",
    "\n",
    "Q27. What is the purpose of the with/as argument, and what other statement is it like?\n",
    "\n",
    "> with statement is used to handle file management in Python. It is similar to except statement as it handles the errors related to files access.\n",
    "\n",
    "Q28. What are *args, **kwargs?\n",
    "\n",
    "- *args -> It is used to accept any number of arguments to the function\n",
    "- **kwrags -> It is used to accept any no. of arguments in any sequence in the form of key-value pairs.\n",
    "\n",
    "Q29. How can I pass optional or keyword parameters from one function to another?\n",
    "\n",
    "> We can pass optional or keyword parameters from one function to another using *args & **kwargs\n",
    "\n",
    "```\n",
    "def func1(*args, **kwrags):\n",
    "\tprint('func1() passing optional or keyword parameters to func2()')\n",
    "\tfunc2(*args, **kwrags)\n",
    "\n",
    "def func2(*args, **kwrags):\n",
    "\tpass\n",
    "\n",
    "```\n",
    "\n",
    "Q30. What are Lambda Functions?\n",
    "\n",
    "> lambda functions are one line functionswhich can accept any no. of arguments but can have only on expression\n",
    "\n",
    "Q31. Explain Inheritance in Python with an example?\n",
    "\n",
    "> Inheritance in Python is used to inherit the properties of parent class into the child class.\n",
    "\n",
    "```\n",
    "class DataDomain():\n",
    "    basic_skills = ['Python', 'SQL', 'Problem Solving']\n",
    "    tools = [] # Default blank list of tools to avoid errors as it is specific only for DataAnalysis calss\n",
    "    def __init__(self, name, advance_skills):\n",
    "        self.name =name\n",
    "        self.advance_skills = advance_skills\n",
    "\n",
    "    def skills(self):\n",
    "        print(f\"{self.name} has these skills -> {self.basic_skills + self.advance_skills + self.tools}\")\n",
    "\n",
    "class DataEngineering(DataDomain):\n",
    "    pass\n",
    "\n",
    "class DataAnalysis(DataDomain):\n",
    "    def __init__(self, name, advance_skills, tools):\n",
    "        super().__init__(name, advance_skills)\n",
    "        self.tools = tools\n",
    "\n",
    "class DataScience(DataDomain):\n",
    "    def __init__(self, name, advance_skills):\n",
    "        super().__init__(name, advance_skills)\n",
    "\n",
    "emp1 = DataDomain('Dave', ['Management', 'Leadership'])\n",
    "emp1.skills()\n",
    "\n",
    "emp2 = DataEngineering('Mike', ['Scala', 'Hadoop', 'Spark'])\n",
    "emp2.skills()\n",
    "\n",
    "emp3 = DataAnalysis('Tom', ['Stats', 'Dashboarding'], ['Tableau', 'PowerBI'])\n",
    "emp3.skills()\n",
    "```\n",
    "\n",
    "Q32. Suppose class C inherits from classes A and B as class C(A,B).Classes A and B both have their own versions of method func(). If we call func() from an object of class C, which version gets invoked?\n",
    "\n",
    "> The version of func() from class A will be called because while inherting the class C we have written A before B.\n",
    "\n",
    "Q33. Which methods/functions do we use to determine the type of instance and inheritance?\n",
    "\n",
    "> Python has two built-in functions that work with inheritance:\n",
    ">\n",
    "> 1. Use isinstance() to check an instance’s type: isinstance(obj, int) will be True only if obj.__class__ is int or some class derived from int.\n",
    "> 2. Use issubclass() to check class inheritance: issubclass(bool, int) is True since bool is a subclass of int. However, issubclass(float, int) is False since float is not a subclass of int.\n",
    "\n",
    "Q34.Explain the use of the 'nonlocal' keyword in Python.\n",
    "\n",
    "- nonlocal keyword is mostly used in nested functions.\n",
    "- It is used in inner function to declare its variable as nonlocal so that its value can be used by the outer function.\n",
    "\n",
    "Q35. What is the global keyword?\n",
    "\n",
    "- global keyword id used to declare a global variable inside function.\n",
    "- We can access this global variable outside the function as well."
   ]
  }
 ],
 "metadata": {
  "kernelspec": {
   "display_name": "env-spacy",
   "language": "python",
   "name": "python3"
  },
  "language_info": {
   "codemirror_mode": {
    "name": "ipython",
    "version": 3
   },
   "file_extension": ".py",
   "mimetype": "text/x-python",
   "name": "python",
   "nbconvert_exporter": "python",
   "pygments_lexer": "ipython3",
   "version": "3.9.7"
  },
  "orig_nbformat": 4,
  "vscode": {
   "interpreter": {
    "hash": "343191058819caea96d5cde1bd3b1a75b4807623ce2cda0e1c8499e39ac847e3"
   }
  }
 },
 "nbformat": 4,
 "nbformat_minor": 2
}
