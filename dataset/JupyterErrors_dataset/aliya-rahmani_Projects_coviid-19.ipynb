{
 "cells": [
  {
   "cell_type": "code",
   "execution_count": 14,
   "metadata": {},
   "outputs": [],
   "source": [
    "import pandas as pd\n",
    "import numpy  as np\n",
    "import folium\n",
    "\n",
    "import seaborn as sns\n",
    "import matplotlib.pyplot as plt\n",
    "import requests"
   ]
  },
  {
   "cell_type": "code",
   "execution_count": 15,
   "metadata": {},
   "outputs": [],
   "source": [
    "india_json_data = requests.get('https://raw.githubusercontent.com/ammishra08/COVID-19/master/covid_19_datasets/covid19_india/india_statewise.json').json()"
   ]
  },
  {
   "cell_type": "code",
   "execution_count": 16,
   "metadata": {},
   "outputs": [
    {
     "data": {
      "text/plain": [
       "{'success': True,\n",
       " 'data': {'source': 'covid19india.org',\n",
       "  'lastRefreshed': '2020-07-12T03:54:15.207Z',\n",
       "  'total': {'confirmed': 850358,\n",
       "   'recovered': 536231,\n",
       "   'deaths': 22687,\n",
       "   'active': 291058},\n",
       "  'statewise': [{'state': 'Maharashtra',\n",
       "    'confirmed': 246600,\n",
       "    'recovered': 136985,\n",
       "    'deaths': 10116,\n",
       "    'active': 99202},\n",
       "   {'state': 'Tamil Nadu',\n",
       "    'confirmed': 134226,\n",
       "    'recovered': 85915,\n",
       "    'deaths': 1898,\n",
       "    'active': 46413},\n",
       "   {'state': 'Delhi',\n",
       "    'confirmed': 110921,\n",
       "    'recovered': 87692,\n",
       "    'deaths': 3334,\n",
       "    'active': 19895},\n",
       "   {'state': 'Gujarat',\n",
       "    'confirmed': 41027,\n",
       "    'recovered': 28685,\n",
       "    'deaths': 2033,\n",
       "    'active': 10309},\n",
       "   {'state': 'Uttar Pradesh',\n",
       "    'confirmed': 35092,\n",
       "    'recovered': 22689,\n",
       "    'deaths': 913,\n",
       "    'active': 11490},\n",
       "   {'state': 'Karnataka',\n",
       "    'confirmed': 36216,\n",
       "    'recovered': 14718,\n",
       "    'deaths': 615,\n",
       "    'active': 20879},\n",
       "   {'state': 'Telangana',\n",
       "    'confirmed': 33402,\n",
       "    'recovered': 20919,\n",
       "    'deaths': 348,\n",
       "    'active': 12135},\n",
       "   {'state': 'West Bengal',\n",
       "    'confirmed': 28453,\n",
       "    'recovered': 17959,\n",
       "    'deaths': 906,\n",
       "    'active': 9588},\n",
       "   {'state': 'Andhra Pradesh',\n",
       "    'confirmed': 27235,\n",
       "    'recovered': 14393,\n",
       "    'deaths': 309,\n",
       "    'active': 12533},\n",
       "   {'state': 'Rajasthan',\n",
       "    'confirmed': 23748,\n",
       "    'recovered': 17869,\n",
       "    'deaths': 503,\n",
       "    'active': 5376},\n",
       "   {'state': 'Haryana',\n",
       "    'confirmed': 20582,\n",
       "    'recovered': 15394,\n",
       "    'deaths': 297,\n",
       "    'active': 4891},\n",
       "   {'state': 'Madhya Pradesh',\n",
       "    'confirmed': 17201,\n",
       "    'recovered': 12679,\n",
       "    'deaths': 644,\n",
       "    'active': 3878},\n",
       "   {'state': 'Assam',\n",
       "    'confirmed': 16072,\n",
       "    'recovered': 10427,\n",
       "    'deaths': 37,\n",
       "    'active': 5605},\n",
       "   {'state': 'Bihar',\n",
       "    'confirmed': 15039,\n",
       "    'recovered': 10991,\n",
       "    'deaths': 118,\n",
       "    'active': 3930},\n",
       "   {'state': 'Odisha',\n",
       "    'confirmed': 12526,\n",
       "    'recovered': 8360,\n",
       "    'deaths': 79,\n",
       "    'active': 4087},\n",
       "   {'state': 'Jammu and Kashmir',\n",
       "    'confirmed': 10156,\n",
       "    'recovered': 5895,\n",
       "    'deaths': 169,\n",
       "    'active': 4092},\n",
       "   {'state': 'Punjab',\n",
       "    'confirmed': 7587,\n",
       "    'recovered': 5040,\n",
       "    'deaths': 195,\n",
       "    'active': 2352},\n",
       "   {'state': 'Kerala',\n",
       "    'confirmed': 7439,\n",
       "    'recovered': 3963,\n",
       "    'deaths': 30,\n",
       "    'active': 3442},\n",
       "   {'state': 'State Unassigned',\n",
       "    'confirmed': 3416,\n",
       "    'recovered': 0,\n",
       "    'deaths': 0,\n",
       "    'active': 3416},\n",
       "   {'state': 'Chhattisgarh',\n",
       "    'confirmed': 3897,\n",
       "    'recovered': 3070,\n",
       "    'deaths': 17,\n",
       "    'active': 810},\n",
       "   {'state': 'Uttarakhand',\n",
       "    'confirmed': 3417,\n",
       "    'recovered': 2718,\n",
       "    'deaths': 46,\n",
       "    'active': 623},\n",
       "   {'state': 'Jharkhand',\n",
       "    'confirmed': 3663,\n",
       "    'recovered': 2256,\n",
       "    'deaths': 24,\n",
       "    'active': 1383},\n",
       "   {'state': 'Goa',\n",
       "    'confirmed': 2368,\n",
       "    'recovered': 1428,\n",
       "    'deaths': 12,\n",
       "    'active': 928},\n",
       "   {'state': 'Tripura',\n",
       "    'confirmed': 1962,\n",
       "    'recovered': 1375,\n",
       "    'deaths': 2,\n",
       "    'active': 571},\n",
       "   {'state': 'Manipur',\n",
       "    'confirmed': 1593,\n",
       "    'recovered': 843,\n",
       "    'deaths': 0,\n",
       "    'active': 750},\n",
       "   {'state': 'Puducherry',\n",
       "    'confirmed': 1336,\n",
       "    'recovered': 690,\n",
       "    'deaths': 18,\n",
       "    'active': 628},\n",
       "   {'state': 'Himachal Pradesh',\n",
       "    'confirmed': 1182,\n",
       "    'recovered': 895,\n",
       "    'deaths': 10,\n",
       "    'active': 264},\n",
       "   {'state': 'Ladakh',\n",
       "    'confirmed': 1077,\n",
       "    'recovered': 928,\n",
       "    'deaths': 1,\n",
       "    'active': 148},\n",
       "   {'state': 'Nagaland',\n",
       "    'confirmed': 748,\n",
       "    'recovered': 313,\n",
       "    'deaths': 0,\n",
       "    'active': 435},\n",
       "   {'state': 'Chandigarh',\n",
       "    'confirmed': 549,\n",
       "    'recovered': 413,\n",
       "    'deaths': 8,\n",
       "    'active': 128},\n",
       "   {'state': 'Dadra and Nagar Haveli and Daman and Diu',\n",
       "    'confirmed': 482,\n",
       "    'recovered': 237,\n",
       "    'deaths': 1,\n",
       "    'active': 240},\n",
       "   {'state': 'Arunachal Pradesh',\n",
       "    'confirmed': 341,\n",
       "    'recovered': 125,\n",
       "    'deaths': 2,\n",
       "    'active': 214},\n",
       "   {'state': 'Mizoram',\n",
       "    'confirmed': 227,\n",
       "    'recovered': 150,\n",
       "    'deaths': 0,\n",
       "    'active': 77},\n",
       "   {'state': 'Andaman and Nicobar Islands',\n",
       "    'confirmed': 156,\n",
       "    'recovered': 92,\n",
       "    'deaths': 0,\n",
       "    'active': 64},\n",
       "   {'state': 'Sikkim',\n",
       "    'confirmed': 160,\n",
       "    'recovered': 80,\n",
       "    'deaths': 0,\n",
       "    'active': 67},\n",
       "   {'state': 'Meghalaya',\n",
       "    'confirmed': 262,\n",
       "    'recovered': 45,\n",
       "    'deaths': 2,\n",
       "    'active': 215},\n",
       "   {'state': 'Lakshadweep',\n",
       "    'confirmed': 0,\n",
       "    'recovered': 0,\n",
       "    'deaths': 0,\n",
       "    'active': 0}]},\n",
       " 'lastRefreshed': '2020-07-12T03:54:15.207Z',\n",
       " 'lastOriginUpdate': '2020-07-12T03:54:15.207Z'}"
      ]
     },
     "execution_count": 16,
     "metadata": {},
     "output_type": "execute_result"
    }
   ],
   "source": [
    "india_json_data"
   ]
  },
  {
   "cell_type": "code",
   "execution_count": 17,
   "metadata": {},
   "outputs": [],
   "source": [
    "df_india=pd.io.json.json_normalize(india_json_data['data']['statewise'])"
   ]
  },
  {
   "cell_type": "code",
   "execution_count": 18,
   "metadata": {},
   "outputs": [
    {
     "data": {
      "text/html": [
       "<div>\n",
       "<style scoped>\n",
       "    .dataframe tbody tr th:only-of-type {\n",
       "        vertical-align: middle;\n",
       "    }\n",
       "\n",
       "    .dataframe tbody tr th {\n",
       "        vertical-align: top;\n",
       "    }\n",
       "\n",
       "    .dataframe thead th {\n",
       "        text-align: right;\n",
       "    }\n",
       "</style>\n",
       "<table border=\"1\" class=\"dataframe\">\n",
       "  <thead>\n",
       "    <tr style=\"text-align: right;\">\n",
       "      <th></th>\n",
       "      <th>state</th>\n",
       "      <th>confirmed</th>\n",
       "      <th>recovered</th>\n",
       "      <th>deaths</th>\n",
       "      <th>active</th>\n",
       "    </tr>\n",
       "  </thead>\n",
       "  <tbody>\n",
       "    <tr>\n",
       "      <td>0</td>\n",
       "      <td>Maharashtra</td>\n",
       "      <td>246600</td>\n",
       "      <td>136985</td>\n",
       "      <td>10116</td>\n",
       "      <td>99202</td>\n",
       "    </tr>\n",
       "    <tr>\n",
       "      <td>1</td>\n",
       "      <td>Tamil Nadu</td>\n",
       "      <td>134226</td>\n",
       "      <td>85915</td>\n",
       "      <td>1898</td>\n",
       "      <td>46413</td>\n",
       "    </tr>\n",
       "    <tr>\n",
       "      <td>2</td>\n",
       "      <td>Delhi</td>\n",
       "      <td>110921</td>\n",
       "      <td>87692</td>\n",
       "      <td>3334</td>\n",
       "      <td>19895</td>\n",
       "    </tr>\n",
       "    <tr>\n",
       "      <td>3</td>\n",
       "      <td>Gujarat</td>\n",
       "      <td>41027</td>\n",
       "      <td>28685</td>\n",
       "      <td>2033</td>\n",
       "      <td>10309</td>\n",
       "    </tr>\n",
       "    <tr>\n",
       "      <td>4</td>\n",
       "      <td>Uttar Pradesh</td>\n",
       "      <td>35092</td>\n",
       "      <td>22689</td>\n",
       "      <td>913</td>\n",
       "      <td>11490</td>\n",
       "    </tr>\n",
       "    <tr>\n",
       "      <td>5</td>\n",
       "      <td>Karnataka</td>\n",
       "      <td>36216</td>\n",
       "      <td>14718</td>\n",
       "      <td>615</td>\n",
       "      <td>20879</td>\n",
       "    </tr>\n",
       "    <tr>\n",
       "      <td>6</td>\n",
       "      <td>Telangana</td>\n",
       "      <td>33402</td>\n",
       "      <td>20919</td>\n",
       "      <td>348</td>\n",
       "      <td>12135</td>\n",
       "    </tr>\n",
       "    <tr>\n",
       "      <td>7</td>\n",
       "      <td>West Bengal</td>\n",
       "      <td>28453</td>\n",
       "      <td>17959</td>\n",
       "      <td>906</td>\n",
       "      <td>9588</td>\n",
       "    </tr>\n",
       "    <tr>\n",
       "      <td>8</td>\n",
       "      <td>Andhra Pradesh</td>\n",
       "      <td>27235</td>\n",
       "      <td>14393</td>\n",
       "      <td>309</td>\n",
       "      <td>12533</td>\n",
       "    </tr>\n",
       "    <tr>\n",
       "      <td>9</td>\n",
       "      <td>Rajasthan</td>\n",
       "      <td>23748</td>\n",
       "      <td>17869</td>\n",
       "      <td>503</td>\n",
       "      <td>5376</td>\n",
       "    </tr>\n",
       "    <tr>\n",
       "      <td>10</td>\n",
       "      <td>Haryana</td>\n",
       "      <td>20582</td>\n",
       "      <td>15394</td>\n",
       "      <td>297</td>\n",
       "      <td>4891</td>\n",
       "    </tr>\n",
       "    <tr>\n",
       "      <td>11</td>\n",
       "      <td>Madhya Pradesh</td>\n",
       "      <td>17201</td>\n",
       "      <td>12679</td>\n",
       "      <td>644</td>\n",
       "      <td>3878</td>\n",
       "    </tr>\n",
       "    <tr>\n",
       "      <td>12</td>\n",
       "      <td>Assam</td>\n",
       "      <td>16072</td>\n",
       "      <td>10427</td>\n",
       "      <td>37</td>\n",
       "      <td>5605</td>\n",
       "    </tr>\n",
       "    <tr>\n",
       "      <td>13</td>\n",
       "      <td>Bihar</td>\n",
       "      <td>15039</td>\n",
       "      <td>10991</td>\n",
       "      <td>118</td>\n",
       "      <td>3930</td>\n",
       "    </tr>\n",
       "    <tr>\n",
       "      <td>14</td>\n",
       "      <td>Odisha</td>\n",
       "      <td>12526</td>\n",
       "      <td>8360</td>\n",
       "      <td>79</td>\n",
       "      <td>4087</td>\n",
       "    </tr>\n",
       "    <tr>\n",
       "      <td>15</td>\n",
       "      <td>Jammu and Kashmir</td>\n",
       "      <td>10156</td>\n",
       "      <td>5895</td>\n",
       "      <td>169</td>\n",
       "      <td>4092</td>\n",
       "    </tr>\n",
       "    <tr>\n",
       "      <td>16</td>\n",
       "      <td>Punjab</td>\n",
       "      <td>7587</td>\n",
       "      <td>5040</td>\n",
       "      <td>195</td>\n",
       "      <td>2352</td>\n",
       "    </tr>\n",
       "    <tr>\n",
       "      <td>17</td>\n",
       "      <td>Kerala</td>\n",
       "      <td>7439</td>\n",
       "      <td>3963</td>\n",
       "      <td>30</td>\n",
       "      <td>3442</td>\n",
       "    </tr>\n",
       "    <tr>\n",
       "      <td>18</td>\n",
       "      <td>State Unassigned</td>\n",
       "      <td>3416</td>\n",
       "      <td>0</td>\n",
       "      <td>0</td>\n",
       "      <td>3416</td>\n",
       "    </tr>\n",
       "    <tr>\n",
       "      <td>19</td>\n",
       "      <td>Chhattisgarh</td>\n",
       "      <td>3897</td>\n",
       "      <td>3070</td>\n",
       "      <td>17</td>\n",
       "      <td>810</td>\n",
       "    </tr>\n",
       "    <tr>\n",
       "      <td>20</td>\n",
       "      <td>Uttarakhand</td>\n",
       "      <td>3417</td>\n",
       "      <td>2718</td>\n",
       "      <td>46</td>\n",
       "      <td>623</td>\n",
       "    </tr>\n",
       "    <tr>\n",
       "      <td>21</td>\n",
       "      <td>Jharkhand</td>\n",
       "      <td>3663</td>\n",
       "      <td>2256</td>\n",
       "      <td>24</td>\n",
       "      <td>1383</td>\n",
       "    </tr>\n",
       "    <tr>\n",
       "      <td>22</td>\n",
       "      <td>Goa</td>\n",
       "      <td>2368</td>\n",
       "      <td>1428</td>\n",
       "      <td>12</td>\n",
       "      <td>928</td>\n",
       "    </tr>\n",
       "    <tr>\n",
       "      <td>23</td>\n",
       "      <td>Tripura</td>\n",
       "      <td>1962</td>\n",
       "      <td>1375</td>\n",
       "      <td>2</td>\n",
       "      <td>571</td>\n",
       "    </tr>\n",
       "    <tr>\n",
       "      <td>24</td>\n",
       "      <td>Manipur</td>\n",
       "      <td>1593</td>\n",
       "      <td>843</td>\n",
       "      <td>0</td>\n",
       "      <td>750</td>\n",
       "    </tr>\n",
       "    <tr>\n",
       "      <td>25</td>\n",
       "      <td>Puducherry</td>\n",
       "      <td>1336</td>\n",
       "      <td>690</td>\n",
       "      <td>18</td>\n",
       "      <td>628</td>\n",
       "    </tr>\n",
       "    <tr>\n",
       "      <td>26</td>\n",
       "      <td>Himachal Pradesh</td>\n",
       "      <td>1182</td>\n",
       "      <td>895</td>\n",
       "      <td>10</td>\n",
       "      <td>264</td>\n",
       "    </tr>\n",
       "    <tr>\n",
       "      <td>27</td>\n",
       "      <td>Ladakh</td>\n",
       "      <td>1077</td>\n",
       "      <td>928</td>\n",
       "      <td>1</td>\n",
       "      <td>148</td>\n",
       "    </tr>\n",
       "    <tr>\n",
       "      <td>28</td>\n",
       "      <td>Nagaland</td>\n",
       "      <td>748</td>\n",
       "      <td>313</td>\n",
       "      <td>0</td>\n",
       "      <td>435</td>\n",
       "    </tr>\n",
       "    <tr>\n",
       "      <td>29</td>\n",
       "      <td>Chandigarh</td>\n",
       "      <td>549</td>\n",
       "      <td>413</td>\n",
       "      <td>8</td>\n",
       "      <td>128</td>\n",
       "    </tr>\n",
       "    <tr>\n",
       "      <td>30</td>\n",
       "      <td>Dadra and Nagar Haveli and Daman and Diu</td>\n",
       "      <td>482</td>\n",
       "      <td>237</td>\n",
       "      <td>1</td>\n",
       "      <td>240</td>\n",
       "    </tr>\n",
       "    <tr>\n",
       "      <td>31</td>\n",
       "      <td>Arunachal Pradesh</td>\n",
       "      <td>341</td>\n",
       "      <td>125</td>\n",
       "      <td>2</td>\n",
       "      <td>214</td>\n",
       "    </tr>\n",
       "    <tr>\n",
       "      <td>32</td>\n",
       "      <td>Mizoram</td>\n",
       "      <td>227</td>\n",
       "      <td>150</td>\n",
       "      <td>0</td>\n",
       "      <td>77</td>\n",
       "    </tr>\n",
       "    <tr>\n",
       "      <td>33</td>\n",
       "      <td>Andaman and Nicobar Islands</td>\n",
       "      <td>156</td>\n",
       "      <td>92</td>\n",
       "      <td>0</td>\n",
       "      <td>64</td>\n",
       "    </tr>\n",
       "    <tr>\n",
       "      <td>34</td>\n",
       "      <td>Sikkim</td>\n",
       "      <td>160</td>\n",
       "      <td>80</td>\n",
       "      <td>0</td>\n",
       "      <td>67</td>\n",
       "    </tr>\n",
       "    <tr>\n",
       "      <td>35</td>\n",
       "      <td>Meghalaya</td>\n",
       "      <td>262</td>\n",
       "      <td>45</td>\n",
       "      <td>2</td>\n",
       "      <td>215</td>\n",
       "    </tr>\n",
       "    <tr>\n",
       "      <td>36</td>\n",
       "      <td>Lakshadweep</td>\n",
       "      <td>0</td>\n",
       "      <td>0</td>\n",
       "      <td>0</td>\n",
       "      <td>0</td>\n",
       "    </tr>\n",
       "  </tbody>\n",
       "</table>\n",
       "</div>"
      ],
      "text/plain": [
       "                                       state  confirmed  recovered  deaths  \\\n",
       "0                                Maharashtra     246600     136985   10116   \n",
       "1                                 Tamil Nadu     134226      85915    1898   \n",
       "2                                      Delhi     110921      87692    3334   \n",
       "3                                    Gujarat      41027      28685    2033   \n",
       "4                              Uttar Pradesh      35092      22689     913   \n",
       "5                                  Karnataka      36216      14718     615   \n",
       "6                                  Telangana      33402      20919     348   \n",
       "7                                West Bengal      28453      17959     906   \n",
       "8                             Andhra Pradesh      27235      14393     309   \n",
       "9                                  Rajasthan      23748      17869     503   \n",
       "10                                   Haryana      20582      15394     297   \n",
       "11                            Madhya Pradesh      17201      12679     644   \n",
       "12                                     Assam      16072      10427      37   \n",
       "13                                     Bihar      15039      10991     118   \n",
       "14                                    Odisha      12526       8360      79   \n",
       "15                         Jammu and Kashmir      10156       5895     169   \n",
       "16                                    Punjab       7587       5040     195   \n",
       "17                                    Kerala       7439       3963      30   \n",
       "18                          State Unassigned       3416          0       0   \n",
       "19                              Chhattisgarh       3897       3070      17   \n",
       "20                               Uttarakhand       3417       2718      46   \n",
       "21                                 Jharkhand       3663       2256      24   \n",
       "22                                       Goa       2368       1428      12   \n",
       "23                                   Tripura       1962       1375       2   \n",
       "24                                   Manipur       1593        843       0   \n",
       "25                                Puducherry       1336        690      18   \n",
       "26                          Himachal Pradesh       1182        895      10   \n",
       "27                                    Ladakh       1077        928       1   \n",
       "28                                  Nagaland        748        313       0   \n",
       "29                                Chandigarh        549        413       8   \n",
       "30  Dadra and Nagar Haveli and Daman and Diu        482        237       1   \n",
       "31                         Arunachal Pradesh        341        125       2   \n",
       "32                                   Mizoram        227        150       0   \n",
       "33               Andaman and Nicobar Islands        156         92       0   \n",
       "34                                    Sikkim        160         80       0   \n",
       "35                                 Meghalaya        262         45       2   \n",
       "36                               Lakshadweep          0          0       0   \n",
       "\n",
       "    active  \n",
       "0    99202  \n",
       "1    46413  \n",
       "2    19895  \n",
       "3    10309  \n",
       "4    11490  \n",
       "5    20879  \n",
       "6    12135  \n",
       "7     9588  \n",
       "8    12533  \n",
       "9     5376  \n",
       "10    4891  \n",
       "11    3878  \n",
       "12    5605  \n",
       "13    3930  \n",
       "14    4087  \n",
       "15    4092  \n",
       "16    2352  \n",
       "17    3442  \n",
       "18    3416  \n",
       "19     810  \n",
       "20     623  \n",
       "21    1383  \n",
       "22     928  \n",
       "23     571  \n",
       "24     750  \n",
       "25     628  \n",
       "26     264  \n",
       "27     148  \n",
       "28     435  \n",
       "29     128  \n",
       "30     240  \n",
       "31     214  \n",
       "32      77  \n",
       "33      64  \n",
       "34      67  \n",
       "35     215  \n",
       "36       0  "
      ]
     },
     "execution_count": 18,
     "metadata": {},
     "output_type": "execute_result"
    }
   ],
   "source": [
    "df_india"
   ]
  },
  {
   "cell_type": "code",
   "execution_count": 19,
   "metadata": {},
   "outputs": [],
   "source": [
    "df_india.set_index('state',inplace=True)"
   ]
  },
  {
   "cell_type": "code",
   "execution_count": 20,
   "metadata": {},
   "outputs": [
    {
     "data": {
      "image/png": "[encoded data removed]",
      "text/plain": [
       "<Figure size 1080x720 with 1 Axes>"
      ]
     },
     "metadata": {},
     "output_type": "display_data"
    }
   ],
   "source": [
    "sns.set_style('darkgrid')\n",
    "plt.figure(figsize=(15,10))\n",
    "sns.barplot(x= df_india.index,y=df_india['confirmed'],palette='viridis')\n",
    "plt.xticks(rotation=90)\n",
    "plt.show()"
   ]
  },
  {
   "cell_type": "markdown",
   "metadata": {},
   "source": [
    "# Bargraph using Plotly"
   ]
  },
  {
   "cell_type": "code",
   "execution_count": 21,
   "metadata": {},
   "outputs": [
    {
     "data": {
      "application/vnd.plotly.v1+json": {
       "config": {
        "plotlyServerURL": "https://plot.ly"
       },
       "data": [
        {
         "alignmentgroup": "True",
         "hovertemplate": "x=%{x}<br>confirmed=%{marker.color}<extra></extra>",
         "legendgroup": "",
         "marker": {
          "color": [
           246600,
           134226,
           110921,
           41027,
           35092,
           36216,
           33402,
           28453,
           27235,
           23748,
           20582,
           17201,
           16072,
           15039,
           12526,
           10156,
           7587,
           7439,
           3416,
           3897,
           3417,
           3663,
           2368,
           1962,
           1593,
           1336,
           1182,
           1077,
           748,
           549,
           482,
           341,
           227,
           156,
           160,
           262,
           0
          ],
          "coloraxis": "coloraxis"
         },
         "name": "",
         "offsetgroup": "",
         "orientation": "v",
         "showlegend": false,
         "textposition": "auto",
         "type": "bar",
         "x": [
          "Maharashtra",
          "Tamil Nadu",
          "Delhi",
          "Gujarat",
          "Uttar Pradesh",
          "Karnataka",
          "Telangana",
          "West Bengal",
          "Andhra Pradesh",
          "Rajasthan",
          "Haryana",
          "Madhya Pradesh",
          "Assam",
          "Bihar",
          "Odisha",
          "Jammu and Kashmir",
          "Punjab",
          "Kerala",
          "State Unassigned",
          "Chhattisgarh",
          "Uttarakhand",
          "Jharkhand",
          "Goa",
          "Tripura",
          "Manipur",
          "Puducherry",
          "Himachal Pradesh",
          "Ladakh",
          "Nagaland",
          "Chandigarh",
          "Dadra and Nagar Haveli and Daman and Diu",
          "Arunachal Pradesh",
          "Mizoram",
          "Andaman and Nicobar Islands",
          "Sikkim",
          "Meghalaya",
          "Lakshadweep"
         ],
         "xaxis": "x",
         "y": [
          246600,
          134226,
          110921,
          41027,
          35092,
          36216,
          33402,
          28453,
          27235,
          23748,
          20582,
          17201,
          16072,
          15039,
          12526,
          10156,
          7587,
          7439,
          3416,
          3897,
          3417,
          3663,
          2368,
          1962,
          1593,
          1336,
          1182,
          1077,
          748,
          549,
          482,
          341,
          227,
          156,
          160,
          262,
          0
         ],
         "yaxis": "y"
        }
       ],
       "layout": {
        "barmode": "relative",
        "coloraxis": {
         "colorbar": {
          "title": {
           "text": "confirmed"
          }
         },
         "colorscale": [
          [
           0,
           "#0d0887"
          ],
          [
           0.1111111111111111,
           "#46039f"
          ],
          [
           0.2222222222222222,
           "#7201a8"
          ],
          [
           0.3333333333333333,
           "#9c179e"
          ],
          [
           0.4444444444444444,
           "#bd3786"
          ],
          [
           0.5555555555555556,
           "#d8576b"
          ],
          [
           0.6666666666666666,
           "#ed7953"
          ],
          [
           0.7777777777777778,
           "#fb9f3a"
          ],
          [
           0.8888888888888888,
           "#fdca26"
          ],
          [
           1,
           "#f0f921"
          ]
         ]
        },
        "height": 800,
        "legend": {
         "tracegroupgap": 0
        },
        "margin": {
         "t": 60
        },
        "template": {
         "data": {
          "bar": [
           {
            "error_x": {
             "color": "#2a3f5f"
            },
            "error_y": {
             "color": "#2a3f5f"
            },
            "marker": {
             "line": {
              "color": "#E5ECF6",
              "width": 0.5
             }
            },
            "type": "bar"
           }
          ],
          "barpolar": [
           {
            "marker": {
             "line": {
              "color": "#E5ECF6",
              "width": 0.5
             }
            },
            "type": "barpolar"
           }
          ],
          "carpet": [
           {
            "aaxis": {
             "endlinecolor": "#2a3f5f",
             "gridcolor": "white",
             "linecolor": "white",
             "minorgridcolor": "white",
             "startlinecolor": "#2a3f5f"
            },
            "baxis": {
             "endlinecolor": "#2a3f5f",
             "gridcolor": "white",
             "linecolor": "white",
             "minorgridcolor": "white",
             "startlinecolor": "#2a3f5f"
            },
            "type": "carpet"
           }
          ],
          "choropleth": [
           {
            "colorbar": {
             "outlinewidth": 0,
             "ticks": ""
            },
            "type": "choropleth"
           }
          ],
          "contour": [
           {
            "colorbar": {
             "outlinewidth": 0,
             "ticks": ""
            },
            "colorscale": [
             [
              0,
              "#0d0887"
             ],
             [
              0.1111111111111111,
              "#46039f"
             ],
             [
              0.2222222222222222,
              "#7201a8"
             ],
             [
              0.3333333333333333,
              "#9c179e"
             ],
             [
              0.4444444444444444,
              "#bd3786"
             ],
             [
              0.5555555555555556,
              "#d8576b"
             ],
             [
              0.6666666666666666,
              "#ed7953"
             ],
             [
              0.7777777777777778,
              "#fb9f3a"
             ],
             [
              0.8888888888888888,
              "#fdca26"
             ],
             [
              1,
              "#f0f921"
             ]
            ],
            "type": "contour"
           }
          ],
          "contourcarpet": [
           {
            "colorbar": {
             "outlinewidth": 0,
             "ticks": ""
            },
            "type": "contourcarpet"
           }
          ],
          "heatmap": [
           {
            "colorbar": {
             "outlinewidth": 0,
             "ticks": ""
            },
            "colorscale": [
             [
              0,
              "#0d0887"
             ],
             [
              0.1111111111111111,
              "#46039f"
             ],
             [
              0.2222222222222222,
              "#7201a8"
             ],
             [
              0.3333333333333333,
              "#9c179e"
             ],
             [
              0.4444444444444444,
              "#bd3786"
             ],
             [
              0.5555555555555556,
              "#d8576b"
             ],
             [
              0.6666666666666666,
              "#ed7953"
             ],
             [
              0.7777777777777778,
              "#fb9f3a"
             ],
             [
              0.8888888888888888,
              "#fdca26"
             ],
             [
              1,
              "#f0f921"
             ]
            ],
            "type": "heatmap"
           }
          ],
          "heatmapgl": [
           {
            "colorbar": {
             "outlinewidth": 0,
             "ticks": ""
            },
            "colorscale": [
             [
              0,
              "#0d0887"
             ],
             [
              0.1111111111111111,
              "#46039f"
             ],
             [
              0.2222222222222222,
              "#7201a8"
             ],
             [
              0.3333333333333333,
              "#9c179e"
             ],
             [
              0.4444444444444444,
              "#bd3786"
             ],
             [
              0.5555555555555556,
              "#d8576b"
             ],
             [
              0.6666666666666666,
              "#ed7953"
             ],
             [
              0.7777777777777778,
              "#fb9f3a"
             ],
             [
              0.8888888888888888,
              "#fdca26"
             ],
             [
              1,
              "#f0f921"
             ]
            ],
            "type": "heatmapgl"
           }
          ],
          "histogram": [
           {
            "marker": {
             "colorbar": {
              "outlinewidth": 0,
              "ticks": ""
             }
            },
            "type": "histogram"
           }
          ],
          "histogram2d": [
           {
            "colorbar": {
             "outlinewidth": 0,
             "ticks": ""
            },
            "colorscale": [
             [
              0,
              "#0d0887"
             ],
             [
              0.1111111111111111,
              "#46039f"
             ],
             [
              0.2222222222222222,
              "#7201a8"
             ],
             [
              0.3333333333333333,
              "#9c179e"
             ],
             [
              0.4444444444444444,
              "#bd3786"
             ],
             [
              0.5555555555555556,
              "#d8576b"
             ],
             [
              0.6666666666666666,
              "#ed7953"
             ],
             [
              0.7777777777777778,
              "#fb9f3a"
             ],
             [
              0.8888888888888888,
              "#fdca26"
             ],
             [
              1,
              "#f0f921"
             ]
            ],
            "type": "histogram2d"
           }
          ],
          "histogram2dcontour": [
           {
            "colorbar": {
             "outlinewidth": 0,
             "ticks": ""
            },
            "colorscale": [
             [
              0,
              "#0d0887"
             ],
             [
              0.1111111111111111,
              "#46039f"
             ],
             [
              0.2222222222222222,
              "#7201a8"
             ],
             [
              0.3333333333333333,
              "#9c179e"
             ],
             [
              0.4444444444444444,
              "#bd3786"
             ],
             [
              0.5555555555555556,
              "#d8576b"
             ],
             [
              0.6666666666666666,
              "#ed7953"
             ],
             [
              0.7777777777777778,
              "#fb9f3a"
             ],
             [
              0.8888888888888888,
              "#fdca26"
             ],
             [
              1,
              "#f0f921"
             ]
            ],
            "type": "histogram2dcontour"
           }
          ],
          "mesh3d": [
           {
            "colorbar": {
             "outlinewidth": 0,
             "ticks": ""
            },
            "type": "mesh3d"
           }
          ],
          "parcoords": [
           {
            "line": {
             "colorbar": {
              "outlinewidth": 0,
              "ticks": ""
             }
            },
            "type": "parcoords"
           }
          ],
          "pie": [
           {
            "automargin": true,
            "type": "pie"
           }
          ],
          "scatter": [
           {
            "marker": {
             "colorbar": {
              "outlinewidth": 0,
              "ticks": ""
             }
            },
            "type": "scatter"
           }
          ],
          "scatter3d": [
           {
            "line": {
             "colorbar": {
              "outlinewidth": 0,
              "ticks": ""
             }
            },
            "marker": {
             "colorbar": {
              "outlinewidth": 0,
              "ticks": ""
             }
            },
            "type": "scatter3d"
           }
          ],
          "scattercarpet": [
           {
            "marker": {
             "colorbar": {
              "outlinewidth": 0,
              "ticks": ""
             }
            },
            "type": "scattercarpet"
           }
          ],
          "scattergeo": [
           {
            "marker": {
             "colorbar": {
              "outlinewidth": 0,
              "ticks": ""
             }
            },
            "type": "scattergeo"
           }
          ],
          "scattergl": [
           {
            "marker": {
             "colorbar": {
              "outlinewidth": 0,
              "ticks": ""
             }
            },
            "type": "scattergl"
           }
          ],
          "scattermapbox": [
           {
            "marker": {
             "colorbar": {
              "outlinewidth": 0,
              "ticks": ""
             }
            },
            "type": "scattermapbox"
           }
          ],
          "scatterpolar": [
           {
            "marker": {
             "colorbar": {
              "outlinewidth": 0,
              "ticks": ""
             }
            },
            "type": "scatterpolar"
           }
          ],
          "scatterpolargl": [
           {
            "marker": {
             "colorbar": {
              "outlinewidth": 0,
              "ticks": ""
             }
            },
            "type": "scatterpolargl"
           }
          ],
          "scatterternary": [
           {
            "marker": {
             "colorbar": {
              "outlinewidth": 0,
              "ticks": ""
             }
            },
            "type": "scatterternary"
           }
          ],
          "surface": [
           {
            "colorbar": {
             "outlinewidth": 0,
             "ticks": ""
            },
            "colorscale": [
             [
              0,
              "#0d0887"
             ],
             [
              0.1111111111111111,
              "#46039f"
             ],
             [
              0.2222222222222222,
              "#7201a8"
             ],
             [
              0.3333333333333333,
              "#9c179e"
             ],
             [
              0.4444444444444444,
              "#bd3786"
             ],
             [
              0.5555555555555556,
              "#d8576b"
             ],
             [
              0.6666666666666666,
              "#ed7953"
             ],
             [
              0.7777777777777778,
              "#fb9f3a"
             ],
             [
              0.8888888888888888,
              "#fdca26"
             ],
             [
              1,
              "#f0f921"
             ]
            ],
            "type": "surface"
           }
          ],
          "table": [
           {
            "cells": {
             "fill": {
              "color": "#EBF0F8"
             },
             "line": {
              "color": "white"
             }
            },
            "header": {
             "fill": {
              "color": "#C8D4E3"
             },
             "line": {
              "color": "white"
             }
            },
            "type": "table"
           }
          ]
         },
         "layout": {
          "annotationdefaults": {
           "arrowcolor": "#2a3f5f",
           "arrowhead": 0,
           "arrowwidth": 1
          },
          "coloraxis": {
           "colorbar": {
            "outlinewidth": 0,
            "ticks": ""
           }
          },
          "colorscale": {
           "diverging": [
            [
             0,
             "#8e0152"
            ],
            [
             0.1,
             "#c51b7d"
            ],
            [
             0.2,
             "#de77ae"
            ],
            [
             0.3,
             "#f1b6da"
            ],
            [
             0.4,
             "#fde0ef"
            ],
            [
             0.5,
             "#f7f7f7"
            ],
            [
             0.6,
             "#e6f5d0"
            ],
            [
             0.7,
             "#b8e186"
            ],
            [
             0.8,
             "#7fbc41"
            ],
            [
             0.9,
             "#4d9221"
            ],
            [
             1,
             "#276419"
            ]
           ],
           "sequential": [
            [
             0,
             "#0d0887"
            ],
            [
             0.1111111111111111,
             "#46039f"
            ],
            [
             0.2222222222222222,
             "#7201a8"
            ],
            [
             0.3333333333333333,
             "#9c179e"
            ],
            [
             0.4444444444444444,
             "#bd3786"
            ],
            [
             0.5555555555555556,
             "#d8576b"
            ],
            [
             0.6666666666666666,
             "#ed7953"
            ],
            [
             0.7777777777777778,
             "#fb9f3a"
            ],
            [
             0.8888888888888888,
             "#fdca26"
            ],
            [
             1,
             "#f0f921"
            ]
           ],
           "sequentialminus": [
            [
             0,
             "#0d0887"
            ],
            [
             0.1111111111111111,
             "#46039f"
            ],
            [
             0.2222222222222222,
             "#7201a8"
            ],
            [
             0.3333333333333333,
             "#9c179e"
            ],
            [
             0.4444444444444444,
             "#bd3786"
            ],
            [
             0.5555555555555556,
             "#d8576b"
            ],
            [
             0.6666666666666666,
             "#ed7953"
            ],
            [
             0.7777777777777778,
             "#fb9f3a"
            ],
            [
             0.8888888888888888,
             "#fdca26"
            ],
            [
             1,
             "#f0f921"
            ]
           ]
          },
          "colorway": [
           "#636efa",
           "#EF553B",
           "#00cc96",
           "#ab63fa",
           "#FFA15A",
           "#19d3f3",
           "#FF6692",
           "#B6E880",
           "#FF97FF",
           "#FECB52"
          ],
          "font": {
           "color": "#2a3f5f"
          },
          "geo": {
           "bgcolor": "white",
           "lakecolor": "white",
           "landcolor": "#E5ECF6",
           "showlakes": true,
           "showland": true,
           "subunitcolor": "white"
          },
          "hoverlabel": {
           "align": "left"
          },
          "hovermode": "closest",
          "mapbox": {
           "style": "light"
          },
          "paper_bgcolor": "white",
          "plot_bgcolor": "#E5ECF6",
          "polar": {
           "angularaxis": {
            "gridcolor": "white",
            "linecolor": "white",
            "ticks": ""
           },
           "bgcolor": "#E5ECF6",
           "radialaxis": {
            "gridcolor": "white",
            "linecolor": "white",
            "ticks": ""
           }
          },
          "scene": {
           "xaxis": {
            "backgroundcolor": "#E5ECF6",
            "gridcolor": "white",
            "gridwidth": 2,
            "linecolor": "white",
            "showbackground": true,
            "ticks": "",
            "zerolinecolor": "white"
           },
           "yaxis": {
            "backgroundcolor": "#E5ECF6",
            "gridcolor": "white",
            "gridwidth": 2,
            "linecolor": "white",
            "showbackground": true,
            "ticks": "",
            "zerolinecolor": "white"
           },
           "zaxis": {
            "backgroundcolor": "#E5ECF6",
            "gridcolor": "white",
            "gridwidth": 2,
            "linecolor": "white",
            "showbackground": true,
            "ticks": "",
            "zerolinecolor": "white"
           }
          },
          "shapedefaults": {
           "line": {
            "color": "#2a3f5f"
           }
          },
          "ternary": {
           "aaxis": {
            "gridcolor": "white",
            "linecolor": "white",
            "ticks": ""
           },
           "baxis": {
            "gridcolor": "white",
            "linecolor": "white",
            "ticks": ""
           },
           "bgcolor": "#E5ECF6",
           "caxis": {
            "gridcolor": "white",
            "linecolor": "white",
            "ticks": ""
           }
          },
          "title": {
           "x": 0.05
          },
          "xaxis": {
           "automargin": true,
           "gridcolor": "white",
           "linecolor": "white",
           "ticks": "",
           "title": {
            "standoff": 15
           },
           "zerolinecolor": "white",
           "zerolinewidth": 2
          },
          "yaxis": {
           "automargin": true,
           "gridcolor": "white",
           "linecolor": "white",
           "ticks": "",
           "title": {
            "standoff": 15
           },
           "zerolinecolor": "white",
           "zerolinewidth": 2
          }
         }
        },
        "width": 900,
        "xaxis": {
         "anchor": "y",
         "domain": [
          0,
          1
         ],
         "title": {
          "text": "x"
         }
        },
        "yaxis": {
         "anchor": "x",
         "domain": [
          0,
          1
         ],
         "title": {
          "text": "confirmed"
         }
        }
       }
      },
      "text/html": [
       "<div>\n",
       "        \n",
       "        \n",
       "            <div id=\"641d8b29-e173-4b93-b92b-a683e1e53e9e\" class=\"plotly-graph-div\" style=\"height:800px; width:900px;\"></div>\n",
       "            <script type=\"text/javascript\">\n",
       "                require([\"plotly\"], function(Plotly) {\n",
       "                    window.PLOTLYENV=window.PLOTLYENV || {};\n",
       "                    \n",
       "                if (document.getElementById(\"641d8b29-e173-4b93-b92b-a683e1e53e9e\")) {\n",
       "                    Plotly.newPlot(\n",
       "                        '641d8b29-e173-4b93-b92b-a683e1e53e9e',\n",
       "                        [{\"alignmentgroup\": \"True\", \"hovertemplate\": \"x=%{x}<br>confirmed=%{marker.color}<extra></extra>\", \"legendgroup\": \"\", \"marker\": {\"color\": [246600, 134226, 110921, 41027, 35092, 36216, 33402, 28453, 27235, 23748, 20582, 17201, 16072, 15039, 12526, 10156, 7587, 7439, 3416, 3897, 3417, 3663, 2368, 1962, 1593, 1336, 1182, 1077, 748, 549, 482, 341, 227, 156, 160, 262, 0], \"coloraxis\": \"coloraxis\"}, \"name\": \"\", \"offsetgroup\": \"\", \"orientation\": \"v\", \"showlegend\": false, \"textposition\": \"auto\", \"type\": \"bar\", \"x\": [\"Maharashtra\", \"Tamil Nadu\", \"Delhi\", \"Gujarat\", \"Uttar Pradesh\", \"Karnataka\", \"Telangana\", \"West Bengal\", \"Andhra Pradesh\", \"Rajasthan\", \"Haryana\", \"Madhya Pradesh\", \"Assam\", \"Bihar\", \"Odisha\", \"Jammu and Kashmir\", \"Punjab\", \"Kerala\", \"State Unassigned\", \"Chhattisgarh\", \"Uttarakhand\", \"Jharkhand\", \"Goa\", \"Tripura\", \"Manipur\", \"Puducherry\", \"Himachal Pradesh\", \"Ladakh\", \"Nagaland\", \"Chandigarh\", \"Dadra and Nagar Haveli and Daman and Diu\", \"Arunachal Pradesh\", \"Mizoram\", \"Andaman and Nicobar Islands\", \"Sikkim\", \"Meghalaya\", \"Lakshadweep\"], \"xaxis\": \"x\", \"y\": [246600, 134226, 110921, 41027, 35092, 36216, 33402, 28453, 27235, 23748, 20582, 17201, 16072, 15039, 12526, 10156, 7587, 7439, 3416, 3897, 3417, 3663, 2368, 1962, 1593, 1336, 1182, 1077, 748, 549, 482, 341, 227, 156, 160, 262, 0], \"yaxis\": \"y\"}],\n",
       "                        {\"barmode\": \"relative\", \"coloraxis\": {\"colorbar\": {\"title\": {\"text\": \"confirmed\"}}, \"colorscale\": [[0.0, \"#0d0887\"], [0.1111111111111111, \"#46039f\"], [0.2222222222222222, \"#7201a8\"], [0.3333333333333333, \"#9c179e\"], [0.4444444444444444, \"#bd3786\"], [0.5555555555555556, \"#d8576b\"], [0.6666666666666666, \"#ed7953\"], [0.7777777777777778, \"#fb9f3a\"], [0.8888888888888888, \"#fdca26\"], [1.0, \"#f0f921\"]]}, \"height\": 800, \"legend\": {\"tracegroupgap\": 0}, \"margin\": {\"t\": 60}, \"template\": {\"data\": {\"bar\": [{\"error_x\": {\"color\": \"#2a3f5f\"}, \"error_y\": {\"color\": \"#2a3f5f\"}, \"marker\": {\"line\": {\"color\": \"#E5ECF6\", \"width\": 0.5}}, \"type\": \"bar\"}], \"barpolar\": [{\"marker\": {\"line\": {\"color\": \"#E5ECF6\", \"width\": 0.5}}, \"type\": \"barpolar\"}], \"carpet\": [{\"aaxis\": {\"endlinecolor\": \"#2a3f5f\", \"gridcolor\": \"white\", \"linecolor\": \"white\", \"minorgridcolor\": \"white\", \"startlinecolor\": \"#2a3f5f\"}, \"baxis\": {\"endlinecolor\": \"#2a3f5f\", \"gridcolor\": \"white\", \"linecolor\": \"white\", \"minorgridcolor\": \"white\", \"startlinecolor\": \"#2a3f5f\"}, \"type\": \"carpet\"}], \"choropleth\": [{\"colorbar\": {\"outlinewidth\": 0, \"ticks\": \"\"}, \"type\": \"choropleth\"}], \"contour\": [{\"colorbar\": {\"outlinewidth\": 0, \"ticks\": \"\"}, \"colorscale\": [[0.0, \"#0d0887\"], [0.1111111111111111, \"#46039f\"], [0.2222222222222222, \"#7201a8\"], [0.3333333333333333, \"#9c179e\"], [0.4444444444444444, \"#bd3786\"], [0.5555555555555556, \"#d8576b\"], [0.6666666666666666, \"#ed7953\"], [0.7777777777777778, \"#fb9f3a\"], [0.8888888888888888, \"#fdca26\"], [1.0, \"#f0f921\"]], \"type\": \"contour\"}], \"contourcarpet\": [{\"colorbar\": {\"outlinewidth\": 0, \"ticks\": \"\"}, \"type\": \"contourcarpet\"}], \"heatmap\": [{\"colorbar\": {\"outlinewidth\": 0, \"ticks\": \"\"}, \"colorscale\": [[0.0, \"#0d0887\"], [0.1111111111111111, \"#46039f\"], [0.2222222222222222, \"#7201a8\"], [0.3333333333333333, \"#9c179e\"], [0.4444444444444444, \"#bd3786\"], [0.5555555555555556, \"#d8576b\"], [0.6666666666666666, \"#ed7953\"], [0.7777777777777778, \"#fb9f3a\"], [0.8888888888888888, \"#fdca26\"], [1.0, \"#f0f921\"]], \"type\": \"heatmap\"}], \"heatmapgl\": [{\"colorbar\": {\"outlinewidth\": 0, \"ticks\": \"\"}, \"colorscale\": [[0.0, \"#0d0887\"], [0.1111111111111111, \"#46039f\"], [0.2222222222222222, \"#7201a8\"], [0.3333333333333333, \"#9c179e\"], [0.4444444444444444, \"#bd3786\"], [0.5555555555555556, \"#d8576b\"], [0.6666666666666666, \"#ed7953\"], [0.7777777777777778, \"#fb9f3a\"], [0.8888888888888888, \"#fdca26\"], [1.0, \"#f0f921\"]], \"type\": \"heatmapgl\"}], \"histogram\": [{\"marker\": {\"colorbar\": {\"outlinewidth\": 0, \"ticks\": \"\"}}, \"type\": \"histogram\"}], \"histogram2d\": [{\"colorbar\": {\"outlinewidth\": 0, \"ticks\": \"\"}, \"colorscale\": [[0.0, \"#0d0887\"], [0.1111111111111111, \"#46039f\"], [0.2222222222222222, \"#7201a8\"], [0.3333333333333333, \"#9c179e\"], [0.4444444444444444, \"#bd3786\"], [0.5555555555555556, \"#d8576b\"], [0.6666666666666666, \"#ed7953\"], [0.7777777777777778, \"#fb9f3a\"], [0.8888888888888888, \"#fdca26\"], [1.0, \"#f0f921\"]], \"type\": \"histogram2d\"}], \"histogram2dcontour\": [{\"colorbar\": {\"outlinewidth\": 0, \"ticks\": \"\"}, \"colorscale\": [[0.0, \"#0d0887\"], [0.1111111111111111, \"#46039f\"], [0.2222222222222222, \"#7201a8\"], [0.3333333333333333, \"#9c179e\"], [0.4444444444444444, \"#bd3786\"], [0.5555555555555556, \"#d8576b\"], [0.6666666666666666, \"#ed7953\"], [0.7777777777777778, \"#fb9f3a\"], [0.8888888888888888, \"#fdca26\"], [1.0, \"#f0f921\"]], \"type\": \"histogram2dcontour\"}], \"mesh3d\": [{\"colorbar\": {\"outlinewidth\": 0, \"ticks\": \"\"}, \"type\": \"mesh3d\"}], \"parcoords\": [{\"line\": {\"colorbar\": {\"outlinewidth\": 0, \"ticks\": \"\"}}, \"type\": \"parcoords\"}], \"pie\": [{\"automargin\": true, \"type\": \"pie\"}], \"scatter\": [{\"marker\": {\"colorbar\": {\"outlinewidth\": 0, \"ticks\": \"\"}}, \"type\": \"scatter\"}], \"scatter3d\": [{\"line\": {\"colorbar\": {\"outlinewidth\": 0, \"ticks\": \"\"}}, \"marker\": {\"colorbar\": {\"outlinewidth\": 0, \"ticks\": \"\"}}, \"type\": \"scatter3d\"}], \"scattercarpet\": [{\"marker\": {\"colorbar\": {\"outlinewidth\": 0, \"ticks\": \"\"}}, \"type\": \"scattercarpet\"}], \"scattergeo\": [{\"marker\": {\"colorbar\": {\"outlinewidth\": 0, \"ticks\": \"\"}}, \"type\": \"scattergeo\"}], \"scattergl\": [{\"marker\": {\"colorbar\": {\"outlinewidth\": 0, \"ticks\": \"\"}}, \"type\": \"scattergl\"}], \"scattermapbox\": [{\"marker\": {\"colorbar\": {\"outlinewidth\": 0, \"ticks\": \"\"}}, \"type\": \"scattermapbox\"}], \"scatterpolar\": [{\"marker\": {\"colorbar\": {\"outlinewidth\": 0, \"ticks\": \"\"}}, \"type\": \"scatterpolar\"}], \"scatterpolargl\": [{\"marker\": {\"colorbar\": {\"outlinewidth\": 0, \"ticks\": \"\"}}, \"type\": \"scatterpolargl\"}], \"scatterternary\": [{\"marker\": {\"colorbar\": {\"outlinewidth\": 0, \"ticks\": \"\"}}, \"type\": \"scatterternary\"}], \"surface\": [{\"colorbar\": {\"outlinewidth\": 0, \"ticks\": \"\"}, \"colorscale\": [[0.0, \"#0d0887\"], [0.1111111111111111, \"#46039f\"], [0.2222222222222222, \"#7201a8\"], [0.3333333333333333, \"#9c179e\"], [0.4444444444444444, \"#bd3786\"], [0.5555555555555556, \"#d8576b\"], [0.6666666666666666, \"#ed7953\"], [0.7777777777777778, \"#fb9f3a\"], [0.8888888888888888, \"#fdca26\"], [1.0, \"#f0f921\"]], \"type\": \"surface\"}], \"table\": [{\"cells\": {\"fill\": {\"color\": \"#EBF0F8\"}, \"line\": {\"color\": \"white\"}}, \"header\": {\"fill\": {\"color\": \"#C8D4E3\"}, \"line\": {\"color\": \"white\"}}, \"type\": \"table\"}]}, \"layout\": {\"annotationdefaults\": {\"arrowcolor\": \"#2a3f5f\", \"arrowhead\": 0, \"arrowwidth\": 1}, \"coloraxis\": {\"colorbar\": {\"outlinewidth\": 0, \"ticks\": \"\"}}, \"colorscale\": {\"diverging\": [[0, \"#8e0152\"], [0.1, \"#c51b7d\"], [0.2, \"#de77ae\"], [0.3, \"#f1b6da\"], [0.4, \"#fde0ef\"], [0.5, \"#f7f7f7\"], [0.6, \"#e6f5d0\"], [0.7, \"#b8e186\"], [0.8, \"#7fbc41\"], [0.9, \"#4d9221\"], [1, \"#276419\"]], \"sequential\": [[0.0, \"#0d0887\"], [0.1111111111111111, \"#46039f\"], [0.2222222222222222, \"#7201a8\"], [0.3333333333333333, \"#9c179e\"], [0.4444444444444444, \"#bd3786\"], [0.5555555555555556, \"#d8576b\"], [0.6666666666666666, \"#ed7953\"], [0.7777777777777778, \"#fb9f3a\"], [0.8888888888888888, \"#fdca26\"], [1.0, \"#f0f921\"]], \"sequentialminus\": [[0.0, \"#0d0887\"], [0.1111111111111111, \"#46039f\"], [0.2222222222222222, \"#7201a8\"], [0.3333333333333333, \"#9c179e\"], [0.4444444444444444, \"#bd3786\"], [0.5555555555555556, \"#d8576b\"], [0.6666666666666666, \"#ed7953\"], [0.7777777777777778, \"#fb9f3a\"], [0.8888888888888888, \"#fdca26\"], [1.0, \"#f0f921\"]]}, \"colorway\": [\"#636efa\", \"#EF553B\", \"#00cc96\", \"#ab63fa\", \"#FFA15A\", \"#19d3f3\", \"#FF6692\", \"#B6E880\", \"#FF97FF\", \"#FECB52\"], \"font\": {\"color\": \"#2a3f5f\"}, \"geo\": {\"bgcolor\": \"white\", \"lakecolor\": \"white\", \"landcolor\": \"#E5ECF6\", \"showlakes\": true, \"showland\": true, \"subunitcolor\": \"white\"}, \"hoverlabel\": {\"align\": \"left\"}, \"hovermode\": \"closest\", \"mapbox\": {\"style\": \"light\"}, \"paper_bgcolor\": \"white\", \"plot_bgcolor\": \"#E5ECF6\", \"polar\": {\"angularaxis\": {\"gridcolor\": \"white\", \"linecolor\": \"white\", \"ticks\": \"\"}, \"bgcolor\": \"#E5ECF6\", \"radialaxis\": {\"gridcolor\": \"white\", \"linecolor\": \"white\", \"ticks\": \"\"}}, \"scene\": {\"xaxis\": {\"backgroundcolor\": \"#E5ECF6\", \"gridcolor\": \"white\", \"gridwidth\": 2, \"linecolor\": \"white\", \"showbackground\": true, \"ticks\": \"\", \"zerolinecolor\": \"white\"}, \"yaxis\": {\"backgroundcolor\": \"#E5ECF6\", \"gridcolor\": \"white\", \"gridwidth\": 2, \"linecolor\": \"white\", \"showbackground\": true, \"ticks\": \"\", \"zerolinecolor\": \"white\"}, \"zaxis\": {\"backgroundcolor\": \"#E5ECF6\", \"gridcolor\": \"white\", \"gridwidth\": 2, \"linecolor\": \"white\", \"showbackground\": true, \"ticks\": \"\", \"zerolinecolor\": \"white\"}}, \"shapedefaults\": {\"line\": {\"color\": \"#2a3f5f\"}}, \"ternary\": {\"aaxis\": {\"gridcolor\": \"white\", \"linecolor\": \"white\", \"ticks\": \"\"}, \"baxis\": {\"gridcolor\": \"white\", \"linecolor\": \"white\", \"ticks\": \"\"}, \"bgcolor\": \"#E5ECF6\", \"caxis\": {\"gridcolor\": \"white\", \"linecolor\": \"white\", \"ticks\": \"\"}}, \"title\": {\"x\": 0.05}, \"xaxis\": {\"automargin\": true, \"gridcolor\": \"white\", \"linecolor\": \"white\", \"ticks\": \"\", \"title\": {\"standoff\": 15}, \"zerolinecolor\": \"white\", \"zerolinewidth\": 2}, \"yaxis\": {\"automargin\": true, \"gridcolor\": \"white\", \"linecolor\": \"white\", \"ticks\": \"\", \"title\": {\"standoff\": 15}, \"zerolinecolor\": \"white\", \"zerolinewidth\": 2}}}, \"width\": 900, \"xaxis\": {\"anchor\": \"y\", \"domain\": [0.0, 1.0], \"title\": {\"text\": \"x\"}}, \"yaxis\": {\"anchor\": \"x\", \"domain\": [0.0, 1.0], \"title\": {\"text\": \"confirmed\"}}},\n",
       "                        {\"responsive\": true}\n",
       "                    ).then(function(){\n",
       "                            \n",
       "var gd = document.getElementById('641d8b29-e173-4b93-b92b-a683e1e53e9e');\n",
       "var x = new MutationObserver(function (mutations, observer) {{\n",
       "        var display = window.getComputedStyle(gd).display;\n",
       "        if (!display || display === 'none') {{\n",
       "            console.log([gd, 'removed!']);\n",
       "            Plotly.purge(gd);\n",
       "            observer.disconnect();\n",
       "        }}\n",
       "}});\n",
       "\n",
       "// Listen for the removal of the full notebook cells\n",
       "var notebookContainer = gd.closest('#notebook-container');\n",
       "if (notebookContainer) {{\n",
       "    x.observe(notebookContainer, {childList: true});\n",
       "}}\n",
       "\n",
       "// Listen for the clearing of the current output cell\n",
       "var outputEl = gd.closest('.output');\n",
       "if (outputEl) {{\n",
       "    x.observe(outputEl, {childList: true});\n",
       "}}\n",
       "\n",
       "                        })\n",
       "                };\n",
       "                });\n",
       "            </script>\n",
       "        </div>"
      ]
     },
     "metadata": {},
     "output_type": "display_data"
    }
   ],
   "source": [
    "import plotly.express as px\n",
    "figure=px.bar(df_india,x=df_india.index,height=800,width=900,y='confirmed',color='confirmed')\n",
    "figure.show()"
   ]
  },
  {
   "cell_type": "code",
   "execution_count": 22,
   "metadata": {},
   "outputs": [],
   "source": [
    "location = {\n",
    "    \"Sikkim\": [27.5330,88.5122],\n",
    "    \"Maharashtra\" : [19.7515,75.7139],\n",
    "    \"West Bengal\": [22.9868,87.8550],\n",
    "    \"Chandigarh\":[30.7333,76.7794],\n",
    "    \"Karnataka\": [15.3173,75.7139],\n",
    "    \"Telangana\": [18.1124,79.0193],\n",
    "    \"Uttar Pradesh\": [26.8467,80.9462],\n",
    "    \"Gujarat\":[22.2587,71.1924],\n",
    "     \"Odisha\":[20.9517,85.0985],\n",
    "    \"Delhi\" : [28.7041,77.1025],\n",
    "    \"Tamil Nadu\": [11.1271,78.6569],\n",
    "    \"Haryana\": [29.0588,76.0856],\n",
    "    \"Madhya Pradesh\":[22.9734,78.6569],\n",
    "    \"Kerala\" : [10.8505,76.2711],\n",
    "    \"Rajasthan\": [27.0238,74.2179],\n",
    "    \"Jammu and Kashmir\":[33.7782,76.5762],\n",
    "    \"Ladakh\": [34.1526,77.5770],\n",
    "    \"Andhra Pradesh\":[15.9129,79.7400],\n",
    "    \"Bihar\": [25.0961,85.3131],\n",
    "    \"Chhattisgarh\":[21.2787,81.8661],\n",
    "    \"Uttarakhand\":[30.0668,79.0193],\n",
    "    \"Himachal Pradesh\":[31.1048,77.1734],\n",
    "    \"Goa\": [15.2993,74.1240],\n",
    "    \"Tripura\":[23.9408,91.9882],  \n",
    "    \"Andaman and Nicobar Islands\": [11.7401,92.6586],\n",
    "    \"Puducherry\":[11.9416,79.8083],\n",
    "    \"Manipur\":[24.6637,93.9063],\n",
    "    \"Mizoram\":[23.1645,92.9376],\n",
    "    \"Assam\":[26.2006,92.9376],\n",
    "    \"Meghalaya\":[25.4670,91.3662],   \n",
    "    \"Arunachal Pradesh\":[28.2180,94.7278],\n",
    "    \"Jharkhand\" : [23.6102,85.2799],\n",
    "    \"Nagaland\": [26.1584,94.5624],\n",
    "    \"Punjab\":[31.1471,75.3412], \n",
    "    \"Dadra and Nagar Haveli\":[20.1809,73.0169],\n",
    "    \"Lakshadweep\":[10.5667,72.6417],\n",
    "    \"Daman and Diu\":[20.4283,20.4283] \n",
    "}"
   ]
  },
  {
   "cell_type": "code",
   "execution_count": 30,
   "metadata": {},
   "outputs": [
    {
     "ename": "NameError",
     "evalue": "name 'df' is not defined",
     "output_type": "error",
     "traceback": [
      "\u001b[0;31m---------------------------------------------------------------------------\u001b[0m",
      "\u001b[0;31mNameError\u001b[0m                                 Traceback (most recent call last)",
      "\u001b[0;32m<ipython-input-30-2367f23f6570>\u001b[0m in \u001b[0;36m<module>\u001b[0;34m\u001b[0m\n\u001b[1;32m      4\u001b[0m \u001b[0;32mfor\u001b[0m \u001b[0mindex\u001b[0m \u001b[0;32min\u001b[0m \u001b[0mdf_india\u001b[0m\u001b[0;34m.\u001b[0m\u001b[0mindex\u001b[0m\u001b[0;34m:\u001b[0m\u001b[0;34m\u001b[0m\u001b[0;34m\u001b[0m\u001b[0m\n\u001b[1;32m      5\u001b[0m \u001b[0;34m\u001b[0m\u001b[0m\n\u001b[0;32m----> 6\u001b[0;31m     \u001b[0mdf\u001b[0m\u001b[0;34m.\u001b[0m\u001b[0mindia\u001b[0m\u001b[0;34m.\u001b[0m\u001b[0mlocation\u001b[0m\u001b[0;34m[\u001b[0m\u001b[0mdf_india\u001b[0m\u001b[0;34m.\u001b[0m\u001b[0mindex\u001b[0m\u001b[0;34m==\u001b[0m\u001b[0mindex\u001b[0m\u001b[0;34m,\u001b[0m \u001b[0;34m\"Lat\"\u001b[0m\u001b[0;34m]\u001b[0m\u001b[0;34m=\u001b[0m\u001b[0mlocation\u001b[0m\u001b[0;34m[\u001b[0m\u001b[0mindex\u001b[0m\u001b[0;34m]\u001b[0m\u001b[0;34m[\u001b[0m\u001b[0;36m0\u001b[0m\u001b[0;34m]\u001b[0m\u001b[0;34m\u001b[0m\u001b[0;34m\u001b[0m\u001b[0m\n\u001b[0m\u001b[1;32m      7\u001b[0m     \u001b[0mdf\u001b[0m\u001b[0;34m.\u001b[0m\u001b[0mindia\u001b[0m\u001b[0;34m.\u001b[0m\u001b[0mlocation\u001b[0m\u001b[0;34m[\u001b[0m\u001b[0mdf_india\u001b[0m\u001b[0;34m.\u001b[0m\u001b[0mindex\u001b[0m\u001b[0;34m==\u001b[0m\u001b[0mindex\u001b[0m\u001b[0;34m,\u001b[0m \u001b[0;34m\"Long\"\u001b[0m\u001b[0;34m]\u001b[0m\u001b[0;34m=\u001b[0m\u001b[0mlocation\u001b[0m\u001b[0;34m[\u001b[0m\u001b[0mindex\u001b[0m\u001b[0;34m]\u001b[0m\u001b[0;34m[\u001b[0m\u001b[0;36m1\u001b[0m\u001b[0;34m]\u001b[0m\u001b[0;34m\u001b[0m\u001b[0;34m\u001b[0m\u001b[0m\n",
      "\u001b[0;31mNameError\u001b[0m: name 'df' is not defined"
     ]
    }
   ],
   "source": [
    "df_india[\"Lat\"]= ''\n",
    "df_india['Long']= ''\n",
    "\n",
    "for index in df_india.index:\n",
    "    \n",
    "    df.india.loc[df_india.index==index, \"Lat\"]=location[index][0]\n",
    "    df.india.loc[df_india.index==index, \"Long\"]=location[index][1]"
   ]
  },
  {
   "cell_type": "code",
   "execution_count": 25,
   "metadata": {},
   "outputs": [
    {
     "data": {
      "text/html": [
       "<div>\n",
       "<style scoped>\n",
       "    .dataframe tbody tr th:only-of-type {\n",
       "        vertical-align: middle;\n",
       "    }\n",
       "\n",
       "    .dataframe tbody tr th {\n",
       "        vertical-align: top;\n",
       "    }\n",
       "\n",
       "    .dataframe thead th {\n",
       "        text-align: right;\n",
       "    }\n",
       "</style>\n",
       "<table border=\"1\" class=\"dataframe\">\n",
       "  <thead>\n",
       "    <tr style=\"text-align: right;\">\n",
       "      <th></th>\n",
       "      <th>confirmed</th>\n",
       "      <th>recovered</th>\n",
       "      <th>deaths</th>\n",
       "      <th>active</th>\n",
       "      <th>Lat</th>\n",
       "      <th>Long</th>\n",
       "    </tr>\n",
       "    <tr>\n",
       "      <th>state</th>\n",
       "      <th></th>\n",
       "      <th></th>\n",
       "      <th></th>\n",
       "      <th></th>\n",
       "      <th></th>\n",
       "      <th></th>\n",
       "    </tr>\n",
       "  </thead>\n",
       "  <tbody>\n",
       "    <tr>\n",
       "      <td>Maharashtra</td>\n",
       "      <td>246600</td>\n",
       "      <td>136985</td>\n",
       "      <td>10116</td>\n",
       "      <td>99202</td>\n",
       "      <td></td>\n",
       "      <td></td>\n",
       "    </tr>\n",
       "    <tr>\n",
       "      <td>Tamil Nadu</td>\n",
       "      <td>134226</td>\n",
       "      <td>85915</td>\n",
       "      <td>1898</td>\n",
       "      <td>46413</td>\n",
       "      <td></td>\n",
       "      <td></td>\n",
       "    </tr>\n",
       "    <tr>\n",
       "      <td>Delhi</td>\n",
       "      <td>110921</td>\n",
       "      <td>87692</td>\n",
       "      <td>3334</td>\n",
       "      <td>19895</td>\n",
       "      <td></td>\n",
       "      <td></td>\n",
       "    </tr>\n",
       "    <tr>\n",
       "      <td>Gujarat</td>\n",
       "      <td>41027</td>\n",
       "      <td>28685</td>\n",
       "      <td>2033</td>\n",
       "      <td>10309</td>\n",
       "      <td></td>\n",
       "      <td></td>\n",
       "    </tr>\n",
       "    <tr>\n",
       "      <td>Uttar Pradesh</td>\n",
       "      <td>35092</td>\n",
       "      <td>22689</td>\n",
       "      <td>913</td>\n",
       "      <td>11490</td>\n",
       "      <td></td>\n",
       "      <td></td>\n",
       "    </tr>\n",
       "    <tr>\n",
       "      <td>Karnataka</td>\n",
       "      <td>36216</td>\n",
       "      <td>14718</td>\n",
       "      <td>615</td>\n",
       "      <td>20879</td>\n",
       "      <td></td>\n",
       "      <td></td>\n",
       "    </tr>\n",
       "    <tr>\n",
       "      <td>Telangana</td>\n",
       "      <td>33402</td>\n",
       "      <td>20919</td>\n",
       "      <td>348</td>\n",
       "      <td>12135</td>\n",
       "      <td></td>\n",
       "      <td></td>\n",
       "    </tr>\n",
       "    <tr>\n",
       "      <td>West Bengal</td>\n",
       "      <td>28453</td>\n",
       "      <td>17959</td>\n",
       "      <td>906</td>\n",
       "      <td>9588</td>\n",
       "      <td></td>\n",
       "      <td></td>\n",
       "    </tr>\n",
       "    <tr>\n",
       "      <td>Andhra Pradesh</td>\n",
       "      <td>27235</td>\n",
       "      <td>14393</td>\n",
       "      <td>309</td>\n",
       "      <td>12533</td>\n",
       "      <td></td>\n",
       "      <td></td>\n",
       "    </tr>\n",
       "    <tr>\n",
       "      <td>Rajasthan</td>\n",
       "      <td>23748</td>\n",
       "      <td>17869</td>\n",
       "      <td>503</td>\n",
       "      <td>5376</td>\n",
       "      <td></td>\n",
       "      <td></td>\n",
       "    </tr>\n",
       "    <tr>\n",
       "      <td>Haryana</td>\n",
       "      <td>20582</td>\n",
       "      <td>15394</td>\n",
       "      <td>297</td>\n",
       "      <td>4891</td>\n",
       "      <td></td>\n",
       "      <td></td>\n",
       "    </tr>\n",
       "    <tr>\n",
       "      <td>Madhya Pradesh</td>\n",
       "      <td>17201</td>\n",
       "      <td>12679</td>\n",
       "      <td>644</td>\n",
       "      <td>3878</td>\n",
       "      <td></td>\n",
       "      <td></td>\n",
       "    </tr>\n",
       "    <tr>\n",
       "      <td>Assam</td>\n",
       "      <td>16072</td>\n",
       "      <td>10427</td>\n",
       "      <td>37</td>\n",
       "      <td>5605</td>\n",
       "      <td></td>\n",
       "      <td></td>\n",
       "    </tr>\n",
       "    <tr>\n",
       "      <td>Bihar</td>\n",
       "      <td>15039</td>\n",
       "      <td>10991</td>\n",
       "      <td>118</td>\n",
       "      <td>3930</td>\n",
       "      <td></td>\n",
       "      <td></td>\n",
       "    </tr>\n",
       "    <tr>\n",
       "      <td>Odisha</td>\n",
       "      <td>12526</td>\n",
       "      <td>8360</td>\n",
       "      <td>79</td>\n",
       "      <td>4087</td>\n",
       "      <td></td>\n",
       "      <td></td>\n",
       "    </tr>\n",
       "    <tr>\n",
       "      <td>Jammu and Kashmir</td>\n",
       "      <td>10156</td>\n",
       "      <td>5895</td>\n",
       "      <td>169</td>\n",
       "      <td>4092</td>\n",
       "      <td></td>\n",
       "      <td></td>\n",
       "    </tr>\n",
       "    <tr>\n",
       "      <td>Punjab</td>\n",
       "      <td>7587</td>\n",
       "      <td>5040</td>\n",
       "      <td>195</td>\n",
       "      <td>2352</td>\n",
       "      <td></td>\n",
       "      <td></td>\n",
       "    </tr>\n",
       "    <tr>\n",
       "      <td>Kerala</td>\n",
       "      <td>7439</td>\n",
       "      <td>3963</td>\n",
       "      <td>30</td>\n",
       "      <td>3442</td>\n",
       "      <td></td>\n",
       "      <td></td>\n",
       "    </tr>\n",
       "    <tr>\n",
       "      <td>State Unassigned</td>\n",
       "      <td>3416</td>\n",
       "      <td>0</td>\n",
       "      <td>0</td>\n",
       "      <td>3416</td>\n",
       "      <td></td>\n",
       "      <td></td>\n",
       "    </tr>\n",
       "    <tr>\n",
       "      <td>Chhattisgarh</td>\n",
       "      <td>3897</td>\n",
       "      <td>3070</td>\n",
       "      <td>17</td>\n",
       "      <td>810</td>\n",
       "      <td></td>\n",
       "      <td></td>\n",
       "    </tr>\n",
       "    <tr>\n",
       "      <td>Uttarakhand</td>\n",
       "      <td>3417</td>\n",
       "      <td>2718</td>\n",
       "      <td>46</td>\n",
       "      <td>623</td>\n",
       "      <td></td>\n",
       "      <td></td>\n",
       "    </tr>\n",
       "    <tr>\n",
       "      <td>Jharkhand</td>\n",
       "      <td>3663</td>\n",
       "      <td>2256</td>\n",
       "      <td>24</td>\n",
       "      <td>1383</td>\n",
       "      <td></td>\n",
       "      <td></td>\n",
       "    </tr>\n",
       "    <tr>\n",
       "      <td>Goa</td>\n",
       "      <td>2368</td>\n",
       "      <td>1428</td>\n",
       "      <td>12</td>\n",
       "      <td>928</td>\n",
       "      <td></td>\n",
       "      <td></td>\n",
       "    </tr>\n",
       "    <tr>\n",
       "      <td>Tripura</td>\n",
       "      <td>1962</td>\n",
       "      <td>1375</td>\n",
       "      <td>2</td>\n",
       "      <td>571</td>\n",
       "      <td></td>\n",
       "      <td></td>\n",
       "    </tr>\n",
       "    <tr>\n",
       "      <td>Manipur</td>\n",
       "      <td>1593</td>\n",
       "      <td>843</td>\n",
       "      <td>0</td>\n",
       "      <td>750</td>\n",
       "      <td></td>\n",
       "      <td></td>\n",
       "    </tr>\n",
       "    <tr>\n",
       "      <td>Puducherry</td>\n",
       "      <td>1336</td>\n",
       "      <td>690</td>\n",
       "      <td>18</td>\n",
       "      <td>628</td>\n",
       "      <td></td>\n",
       "      <td></td>\n",
       "    </tr>\n",
       "    <tr>\n",
       "      <td>Himachal Pradesh</td>\n",
       "      <td>1182</td>\n",
       "      <td>895</td>\n",
       "      <td>10</td>\n",
       "      <td>264</td>\n",
       "      <td></td>\n",
       "      <td></td>\n",
       "    </tr>\n",
       "    <tr>\n",
       "      <td>Ladakh</td>\n",
       "      <td>1077</td>\n",
       "      <td>928</td>\n",
       "      <td>1</td>\n",
       "      <td>148</td>\n",
       "      <td></td>\n",
       "      <td></td>\n",
       "    </tr>\n",
       "    <tr>\n",
       "      <td>Nagaland</td>\n",
       "      <td>748</td>\n",
       "      <td>313</td>\n",
       "      <td>0</td>\n",
       "      <td>435</td>\n",
       "      <td></td>\n",
       "      <td></td>\n",
       "    </tr>\n",
       "    <tr>\n",
       "      <td>Chandigarh</td>\n",
       "      <td>549</td>\n",
       "      <td>413</td>\n",
       "      <td>8</td>\n",
       "      <td>128</td>\n",
       "      <td></td>\n",
       "      <td></td>\n",
       "    </tr>\n",
       "    <tr>\n",
       "      <td>Dadra and Nagar Haveli and Daman and Diu</td>\n",
       "      <td>482</td>\n",
       "      <td>237</td>\n",
       "      <td>1</td>\n",
       "      <td>240</td>\n",
       "      <td></td>\n",
       "      <td></td>\n",
       "    </tr>\n",
       "    <tr>\n",
       "      <td>Arunachal Pradesh</td>\n",
       "      <td>341</td>\n",
       "      <td>125</td>\n",
       "      <td>2</td>\n",
       "      <td>214</td>\n",
       "      <td></td>\n",
       "      <td></td>\n",
       "    </tr>\n",
       "    <tr>\n",
       "      <td>Mizoram</td>\n",
       "      <td>227</td>\n",
       "      <td>150</td>\n",
       "      <td>0</td>\n",
       "      <td>77</td>\n",
       "      <td></td>\n",
       "      <td></td>\n",
       "    </tr>\n",
       "    <tr>\n",
       "      <td>Andaman and Nicobar Islands</td>\n",
       "      <td>156</td>\n",
       "      <td>92</td>\n",
       "      <td>0</td>\n",
       "      <td>64</td>\n",
       "      <td></td>\n",
       "      <td></td>\n",
       "    </tr>\n",
       "    <tr>\n",
       "      <td>Sikkim</td>\n",
       "      <td>160</td>\n",
       "      <td>80</td>\n",
       "      <td>0</td>\n",
       "      <td>67</td>\n",
       "      <td></td>\n",
       "      <td></td>\n",
       "    </tr>\n",
       "    <tr>\n",
       "      <td>Meghalaya</td>\n",
       "      <td>262</td>\n",
       "      <td>45</td>\n",
       "      <td>2</td>\n",
       "      <td>215</td>\n",
       "      <td></td>\n",
       "      <td></td>\n",
       "    </tr>\n",
       "    <tr>\n",
       "      <td>Lakshadweep</td>\n",
       "      <td>0</td>\n",
       "      <td>0</td>\n",
       "      <td>0</td>\n",
       "      <td>0</td>\n",
       "      <td></td>\n",
       "      <td></td>\n",
       "    </tr>\n",
       "  </tbody>\n",
       "</table>\n",
       "</div>"
      ],
      "text/plain": [
       "                                          confirmed  recovered  deaths  \\\n",
       "state                                                                    \n",
       "Maharashtra                                  246600     136985   10116   \n",
       "Tamil Nadu                                   134226      85915    1898   \n",
       "Delhi                                        110921      87692    3334   \n",
       "Gujarat                                       41027      28685    2033   \n",
       "Uttar Pradesh                                 35092      22689     913   \n",
       "Karnataka                                     36216      14718     615   \n",
       "Telangana                                     33402      20919     348   \n",
       "West Bengal                                   28453      17959     906   \n",
       "Andhra Pradesh                                27235      14393     309   \n",
       "Rajasthan                                     23748      17869     503   \n",
       "Haryana                                       20582      15394     297   \n",
       "Madhya Pradesh                                17201      12679     644   \n",
       "Assam                                         16072      10427      37   \n",
       "Bihar                                         15039      10991     118   \n",
       "Odisha                                        12526       8360      79   \n",
       "Jammu and Kashmir                             10156       5895     169   \n",
       "Punjab                                         7587       5040     195   \n",
       "Kerala                                         7439       3963      30   \n",
       "State Unassigned                               3416          0       0   \n",
       "Chhattisgarh                                   3897       3070      17   \n",
       "Uttarakhand                                    3417       2718      46   \n",
       "Jharkhand                                      3663       2256      24   \n",
       "Goa                                            2368       1428      12   \n",
       "Tripura                                        1962       1375       2   \n",
       "Manipur                                        1593        843       0   \n",
       "Puducherry                                     1336        690      18   \n",
       "Himachal Pradesh                               1182        895      10   \n",
       "Ladakh                                         1077        928       1   \n",
       "Nagaland                                        748        313       0   \n",
       "Chandigarh                                      549        413       8   \n",
       "Dadra and Nagar Haveli and Daman and Diu        482        237       1   \n",
       "Arunachal Pradesh                               341        125       2   \n",
       "Mizoram                                         227        150       0   \n",
       "Andaman and Nicobar Islands                     156         92       0   \n",
       "Sikkim                                          160         80       0   \n",
       "Meghalaya                                       262         45       2   \n",
       "Lakshadweep                                       0          0       0   \n",
       "\n",
       "                                          active Lat Long  \n",
       "state                                                      \n",
       "Maharashtra                                99202           \n",
       "Tamil Nadu                                 46413           \n",
       "Delhi                                      19895           \n",
       "Gujarat                                    10309           \n",
       "Uttar Pradesh                              11490           \n",
       "Karnataka                                  20879           \n",
       "Telangana                                  12135           \n",
       "West Bengal                                 9588           \n",
       "Andhra Pradesh                             12533           \n",
       "Rajasthan                                   5376           \n",
       "Haryana                                     4891           \n",
       "Madhya Pradesh                              3878           \n",
       "Assam                                       5605           \n",
       "Bihar                                       3930           \n",
       "Odisha                                      4087           \n",
       "Jammu and Kashmir                           4092           \n",
       "Punjab                                      2352           \n",
       "Kerala                                      3442           \n",
       "State Unassigned                            3416           \n",
       "Chhattisgarh                                 810           \n",
       "Uttarakhand                                  623           \n",
       "Jharkhand                                   1383           \n",
       "Goa                                          928           \n",
       "Tripura                                      571           \n",
       "Manipur                                      750           \n",
       "Puducherry                                   628           \n",
       "Himachal Pradesh                             264           \n",
       "Ladakh                                       148           \n",
       "Nagaland                                     435           \n",
       "Chandigarh                                   128           \n",
       "Dadra and Nagar Haveli and Daman and Diu     240           \n",
       "Arunachal Pradesh                            214           \n",
       "Mizoram                                       77           \n",
       "Andaman and Nicobar Islands                   64           \n",
       "Sikkim                                        67           \n",
       "Meghalaya                                    215           \n",
       "Lakshadweep                                    0           "
      ]
     },
     "execution_count": 25,
     "metadata": {},
     "output_type": "execute_result"
    }
   ],
   "source": [
    "df_india"
   ]
  },
  {
   "cell_type": "code",
   "execution_count": null,
   "metadata": {},
   "outputs": [],
   "source": [
    "india_map = folium.Map(location= [10,80], zoom_start=4, max_zoom=8, height = 1000, width='100%', tiles = 'CartoDB dark_matter')\n",
    "for i in range(0, len(df_india)):\n",
    "    folium.Circle(location=[df_india.iloc[i]['Lat'], df_india.iloc[i]['Long']],\n",
    "                  radius=(int(np.log2(df_india.iloc[i]['confirmed']+1.0001)))*12000,\n",
    "                  tooltip= \"<h5 style='text-align:center;font-weight: bold'>\"+ df_india.iloc[i].name +\"</h5>\"+\n",
    "                  \"<li>Confirmed \"+str(df_india.iloc[i]['confirmed'])+\"</li>\"+ \"<li>Deaths \"+str(df_india.iloc[i]['deaths'])+\"</li>\"+ \"<li>Active \"+str(df_india.iloc[i]['active'])+\"</li>\"+ \"</ul>\", fill=True).add_to(india_map), india_map "
   ]
  }
 ],
 "metadata": {
  "kernelspec": {
   "display_name": "Python 3",
   "language": "python",
   "name": "python3"
  },
  "language_info": {
   "codemirror_mode": {
    "name": "ipython",
    "version": 3
   },
   "file_extension": ".py",
   "mimetype": "text/x-python",
   "name": "python",
   "nbconvert_exporter": "python",
   "pygments_lexer": "ipython3",
   "version": "3.7.4"
  }
 },
 "nbformat": 4,
 "nbformat_minor": 2
}
