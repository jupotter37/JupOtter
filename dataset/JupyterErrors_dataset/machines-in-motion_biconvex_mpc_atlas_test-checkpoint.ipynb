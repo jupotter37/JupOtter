{
 "cells": [
  {
   "cell_type": "code",
   "execution_count": 6,
   "id": "5ede2cc0",
   "metadata": {},
   "outputs": [
    {
     "name": "stdout",
     "output_type": "stream",
     "text": [
      "The autoreload extension is already loaded. To reload it, use:\n",
      "  %reload_ext autoreload\n"
     ]
    },
    {
     "ename": "ModuleNotFoundError",
     "evalue": "No module named 'motions'",
     "output_type": "error",
     "traceback": [
      "\u001b[0;31m---------------------------------------------------------------------------\u001b[0m",
      "\u001b[0;31mModuleNotFoundError\u001b[0m                       Traceback (most recent call last)",
      "Input \u001b[0;32mIn [6]\u001b[0m, in \u001b[0;36m<cell line: 16>\u001b[0;34m()\u001b[0m\n\u001b[1;32m     13\u001b[0m \u001b[38;5;28;01mimport\u001b[39;00m \u001b[38;5;21;01mpinocchio\u001b[39;00m \u001b[38;5;28;01mas\u001b[39;00m \u001b[38;5;21;01mpin\u001b[39;00m\n\u001b[1;32m     15\u001b[0m \u001b[38;5;28;01mimport\u001b[39;00m \u001b[38;5;21;01mnumpy\u001b[39;00m \u001b[38;5;28;01mas\u001b[39;00m \u001b[38;5;21;01mnp\u001b[39;00m\n\u001b[0;32m---> 16\u001b[0m \u001b[38;5;28;01mfrom\u001b[39;00m \u001b[38;5;21;01mmotions\u001b[39;00m\u001b[38;5;21;01m.\u001b[39;00m\u001b[38;5;21;01mweight_abstract\u001b[39;00m \u001b[38;5;28;01mimport\u001b[39;00m BiconvexMotionParams\n\u001b[1;32m     17\u001b[0m \u001b[38;5;28;01mfrom\u001b[39;00m \u001b[38;5;21;01mrobot_properties_solo\u001b[39;00m\u001b[38;5;21;01m.\u001b[39;00m\u001b[38;5;21;01mconfig\u001b[39;00m \u001b[38;5;28;01mimport\u001b[39;00m Solo12Config\n",
      "\u001b[0;31mModuleNotFoundError\u001b[0m: No module named 'motions'"
     ]
    }
   ],
   "source": [
    "## This is a demo for atlas\n",
    "## Author : Avadesh Meduri\n",
    "## Date : 06/04/2022\n",
    "%load_ext autoreload\n",
    "%autoreload 2\n",
    "\n",
    "import time\n",
    "import numpy as np\n",
    "from abstract_cyclic_gen1 import AbstractGaitGen\n",
    "from robot_properties_atlas.config import AtlasConfig\n",
    "from py_biconvex_mpc.ik_utils.abstract_gait_generator import AbstractGaitGenerator\n",
    "\n",
    "import pinocchio as pin\n",
    "\n",
    "import numpy as np\n",
    "from motions.weight_abstract import BiconvexMotionParams\n",
    "from robot_properties_solo.config import Solo12Config"
   ]
  },
  {
   "cell_type": "code",
   "execution_count": 2,
   "id": "87d3ac86",
   "metadata": {},
   "outputs": [
    {
     "name": "stdout",
     "output_type": "stream",
     "text": [
      "You can open the visualizer by visiting the following URL:\n",
      "http://127.0.0.1:7000/static/\n"
     ]
    }
   ],
   "source": [
    "robot = AtlasConfig.buildRobotWrapper()\n",
    "rmodel = robot.model\n",
    "rdata = robot.data\n",
    "viz = pin.visualize.MeshcatVisualizer(robot.model, robot.collision_model, robot.visual_model)\n",
    "viz.initViewer(open=True)\n",
    "viz.loadViewerModel()"
   ]
  },
  {
   "cell_type": "code",
   "execution_count": 3,
   "id": "cbb58b11",
   "metadata": {},
   "outputs": [],
   "source": [
    "## robot config and init\n",
    "pin_robot = AtlasConfig.buildRobotWrapper()\n",
    "urdf_path = AtlasConfig.urdf_path\n",
    "\n",
    "n_eff = 2\n",
    "eff_names = [\"l_foot\", \"r_foot\"]\n",
    "hip_names = [\"l_leg_hpz\", \"r_leg_hpz\"]\n",
    "q0 = np.array(AtlasConfig.initial_configuration)\n",
    "q0[0:2] = 0.0\n",
    "\n",
    "v0 = pin.utils.zero(pin_robot.model.nv)\n",
    "x0 = np.concatenate([q0, pin.utils.zero(pin_robot.model.nv)])\n",
    "\n",
    "v_des = np.array([0.5,0.0,0.0])\n",
    "w_des = 0.0\n",
    "\n",
    "plan_freq = 0.05 # sec\n",
    "update_time = 0.0 # sec (time of lag)"
   ]
  },
  {
   "cell_type": "code",
   "execution_count": 4,
   "id": "32753a2b",
   "metadata": {},
   "outputs": [],
   "source": [
    "gg = AbstractGaitGen(urdf_path, eff_names, hip_names, x0, plan_freq, q0)"
   ]
  },
  {
   "cell_type": "code",
   "execution_count": null,
   "id": "1dabb0ab",
   "metadata": {},
   "outputs": [],
   "source": []
  }
 ],
 "metadata": {
  "kernelspec": {
   "display_name": "Python 3 (ipykernel)",
   "language": "python",
   "name": "python3"
  },
  "language_info": {
   "codemirror_mode": {
    "name": "ipython",
    "version": 3
   },
   "file_extension": ".py",
   "mimetype": "text/x-python",
   "name": "python",
   "nbconvert_exporter": "python",
   "pygments_lexer": "ipython3",
   "version": "3.8.10"
  }
 },
 "nbformat": 4,
 "nbformat_minor": 5
}
