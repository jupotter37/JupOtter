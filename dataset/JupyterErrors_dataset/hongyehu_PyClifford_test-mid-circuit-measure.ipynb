{
 "cells": [
  {
   "cell_type": "code",
   "execution_count": 5,
   "id": "c0bd9053-26f1-446a-83a0-d1b40e62f77e",
   "metadata": {},
   "outputs": [
    {
     "name": "stdout",
     "output_type": "stream",
     "text": [
      "The autoreload extension is already loaded. To reload it, use:\n",
      "  %reload_ext autoreload\n"
     ]
    }
   ],
   "source": [
    "# will autoupdate any of the packages imported:\n",
    "%load_ext autoreload\n",
    "%autoreload 2\n",
    "%matplotlib inline"
   ]
  },
  {
   "cell_type": "code",
   "execution_count": 6,
   "id": "8529f49c-9b13-48fd-b9e4-82814e7ddf9d",
   "metadata": {},
   "outputs": [],
   "source": [
    "import sys\n",
    "sys.path.insert(0, '..')\n",
    "import numpy as np\n",
    "import matplotlib.pyplot as plt\n",
    "from numba import njit\n",
    "import pycliffordv2 as pc"
   ]
  },
  {
   "cell_type": "code",
   "execution_count": 7,
   "id": "ee478e08-852e-4b7e-ba29-76587da32daf",
   "metadata": {},
   "outputs": [
    {
     "name": "stdout",
     "output_type": "stream",
     "text": [
      "Done calculating qubit_op.\n",
      "Done calculating pyclifford Hamiltonian.\n",
      "Using exact ground state\n"
     ]
    }
   ],
   "source": [
    "bond_len = 3.8\n",
    "molecule = [[\"H\", [0, 0.0, 0]], [\"Li\", [bond_len, 0, 0]]]\n",
    "pyc_h, E0, shift = pc.qchem.qchem_hamiltonian(molecule, use_pyscf=False,multiplicity=1)"
   ]
  },
  {
   "cell_type": "code",
   "execution_count": 8,
   "id": "341917b3-6c4e-4721-9fe4-89e58052a90e",
   "metadata": {},
   "outputs": [
    {
     "data": {
      "text/plain": [
       "-0.24 IIIIIIIZ +0.08 IIIIIIIX +0.04 IIIIIIZI -0.31 IIIIIIZZ -0.08 IIIIIIZX -0.06 IIIIIZII +0.05 IIIIIZIZ +0.01 IIIIIZIX -0.43 IIIIIZZI +0.04 IIIIIZZZ -0.01 IIIIIZZX +0.41 IIIIZIII -0.05 IIIIZIIZ +0.01 IIIIZIIX +0.07 IIIIZIZI -0.05 IIIIZIZZ -0.01 IIIIZIZX -0.43 IIIIZZII +0.04 IIIIZZIZ -0.01 IIIIZZIX -0.06 IIIIZZZI +0.05 IIIIZZZZ +0.01 IIIIZZZX +0.00 IIIIXXXI +0.05 IIIIXXXZ -0.06 IIIIXXXX -0.01 IIIIXXYY -0.01 IIIIXYXY +0.01 IIIIXYYI +0.01 IIIIXYYZ -0.01 IIIIXYYX +0.06 IIIIYXXY -0.05 IIIIYXYI -0.00 IIIIYXYZ -0.01 IIIIYXYX +0.01 IIIIYYXI +0.01 IIIIYYXZ -0.01 IIIIYYXX +0.01 IIIIYYYY +0.24 IIIZIIII -0.09 IIIZIIIZ -0.03 IIIZIIIX -0.07 IIIZIIZZ +0.03 IIIZIIZX -0.05 IIIZIZZI +0.07 IIIZZIII -0.05 IIIZZZII -0.02 IIIZXXXZ +0.01 IIIZXXXX -0.01 IIIZYXXY +0.02 IIIZYXYI +0.08 IIIXIIII +0.03 IIIXIIIZ +0.03 IIIXIIIX +0.01 IIIXIIZZ -0.03 IIIXIIZX -0.02 IIIXIZZI +0.00 IIIXZIII -0.02 IIIXZZII +0.02 IIIXXXXZ -0.02 IIIXXXXX +0.02 IIIXYXXY -0.02 IIIXYXYI -0.04 IIZIIIII -0.31 IIZZIIII +0.07 IIZZIIIZ +0.01 IIZZIIIX +0.07 IIZZIIZZ -0.01 IIZZIIZX +0.06 IIZZIZZI -0.06 IIZZZIII +0.06 IIZZZZII +0.00 IIZZXXXZ -0.01 IIZZXXXX +0.01 IIZZYXXY -0.00 IIZZYXYI +0.08 IIZXIIII +0.03 IIZXIIIZ +0.03 IIZXIIIX +0.01 IIZXIIZZ -0.03 IIZXIIZX -0.02 IIZXIZZI +0.00 IIZXZIII -0.02 IIZXZZII +0.02 IIZXXXXZ -0.02 IIZXXXXX +0.02 IIZXYXXY -0.02 IIZXYXYI +0.01 IIXIIIXI -0.01 IIXIIIYY -0.01 IIXIIZXZ -0.01 IIXIIZXX -0.00 IIXIXXZI +0.00 IIXIYYII -0.01 IIYYIIXI +0.01 IIYYIIYY +0.01 IIYYIZXZ +0.01 IIYYIZXX +0.00 IIYYXXZI -0.00 IIYYYYII +0.06 IZIIIIII +0.05 IZIZIIII -0.01 IZIXIIII -0.43 IZZIIIII +0.05 IZZIIIIZ -0.02 IZZIIIIX +0.06 IZZIIIZZ +0.02 IZZIIIZX +0.08 IZZIIZZI -0.07 IZZIZIII +0.07 IZZIZZII -0.01 IZZIXXXZ +0.01 IZZIXXXX -0.01 IZZIYXXY +0.01 IZZIYXYI -0.04 IZZZIIII -0.01 IZZXIIII -0.01 IZXZIIXI +0.01 IZXZIIYY +0.01 IZXZIZXZ +0.01 IZXZIZXX +0.00 IZXZXXZI -0.00 IZXZYYII +0.01 IZXXIIXI -0.01 IZXXIIYY -0.01 IZXXIZXZ -0.01 IZXXIZXX -0.00 IZXXXXZI +0.00 IZXXYYII +0.00 IXIIIXII -0.00 IXIIZXZI +0.01 IYXYIYXY +0.01 IYXYIYYI +0.01 IYXYZXXZ +0.01 IYXYZXXX +0.00 IYXYXIII +0.00 IYXYXZII +0.01 IYYIIYXY +0.01 IYYIIYYI +0.01 IYYIZXXZ +0.01 IYYIZXXX +0.00 IYYIXIII +0.00 IYYIXZII -0.41 ZIIIIIII +0.07 ZIIIIIIZ -0.00 ZIIIIIIX +0.06 ZIIIIIZZ +0.00 ZIIIIIZX +0.07 ZIIIIZZI -0.07 ZIIIZIII +0.07 ZIIIZZII +0.00 ZIIIXXXZ +0.01 ZIIIXXXX -0.01 ZIIIYXXY -0.00 ZIIIYXYI -0.05 ZIIZIIII -0.01 ZIIXIIII +0.07 ZIZIIIII +0.05 ZIZZIIII -0.01 ZIZXIIII -0.43 ZZIIIIII +0.05 ZZIIIIIZ -0.02 ZZIIIIIX +0.06 ZZIIIIZZ +0.02 ZZIIIIZX +0.07 ZZIIIZZI -0.07 ZZIIZIII +0.08 ZZIIZZII -0.01 ZZIIXXXZ +0.01 ZZIIXXXX -0.01 ZZIIYXXY +0.01 ZZIIYXYI -0.04 ZZIZIIII -0.01 ZZIXIIII +0.06 ZZZIIIII +0.05 ZZZZIIII -0.01 ZZZXIIII -0.00 ZXZIIXII +0.00 ZXZIZXZI +0.01 ZXXZIYXY +0.01 ZXXZIYYI +0.01 ZXXZZXXZ +0.01 ZXXZZXXX +0.00 ZXXZXIII +0.00 ZXXZXZII -0.01 ZXXXIYXY -0.01 ZXXXIYYI -0.01 ZXXXZXXZ -0.01 ZXXXZXXX -0.00 ZXXXXIII -0.00 ZXXXXZII +0.00 XIIIIYXY +0.00 XIIIIYYI +0.00 XIIIZXXZ +0.00 XIIIZXXX +0.00 XIIIXIII +0.00 XIIIXZII -0.00 XZIIIYXY -0.00 XZIIIYYI -0.00 XZIIZXXZ -0.00 XZIIZXXX -0.00 XZIIXIII -0.00 XZIIXZII +0.00 XXZIIIXI -0.00 XXZIIIYY -0.00 XXZIIZXZ -0.00 XXZIIZXX -0.00 XXZIXXZI +0.00 XXZIYYII +0.00 XXXIIIII -0.05 XXXZIIII -0.02 XXXZIIIZ -0.02 XXXZIIIX -0.00 XXXZIIZZ +0.02 XXXZIIZX +0.01 XXXZIZZI +0.00 XXXZZIII +0.01 XXXZZZII -0.02 XXXZXXXZ +0.01 XXXZXXXX -0.01 XXXZYXXY +0.02 XXXZYXYI -0.06 XXXXIIII -0.01 XXXXIIIZ -0.02 XXXXIIIX -0.01 XXXXIIZZ +0.02 XXXXIIZX +0.01 XXXXIZZI -0.01 XXXXZIII +0.01 XXXXZZII -0.01 XXXXXXXZ +0.02 XXXXXXXX -0.02 XXXXYXXY +0.01 XXXXYXYI -0.01 XXYYIIII -0.01 XYXYIIII +0.01 XYYIIIII -0.01 XYYZIIII -0.01 XYYXIIII +0.06 YXXYIIII +0.01 YXXYIIIZ +0.02 YXXYIIIX +0.01 YXXYIIZZ -0.02 YXXYIIZX -0.01 YXXYIZZI +0.01 YXXYZIII -0.01 YXXYZZII +0.01 YXXYXXXZ -0.02 YXXYXXXX +0.02 YXXYYXXY -0.01 YXXYYXYI -0.05 YXYIIIII -0.02 YXYIIIIZ -0.02 YXYIIIIX -0.00 YXYIIIZZ +0.02 YXYIIIZX +0.01 YXYIIZZI +0.00 YXYIZIII +0.01 YXYIZZII -0.02 YXYIXXXZ +0.01 YXYIXXXX -0.01 YXYIYXXY +0.02 YXYIYXYI +0.00 YXYZIIII -0.01 YXYXIIII +0.00 YYIIIIXI -0.00 YYIIIIYY -0.00 YYIIIZXZ -0.00 YYIIIZXX -0.00 YYIIXXZI +0.00 YYIIYYII +0.01 YYXIIIII -0.01 YYXZIIII -0.01 YYXXIIII +0.01 YYYYIIII"
      ]
     },
     "execution_count": 8,
     "metadata": {},
     "output_type": "execute_result"
    }
   ],
   "source": [
    "pyc_h"
   ]
  },
  {
   "cell_type": "code",
   "execution_count": 145,
   "id": "c51a7c7d-b207-4ace-9b6d-9ae3c665f1e0",
   "metadata": {},
   "outputs": [],
   "source": [
    "circ = pc.circuit.Circuit(300)"
   ]
  },
  {
   "cell_type": "code",
   "execution_count": 146,
   "id": "da77d7f5-4642-45cd-aa93-2e6ac7589a87",
   "metadata": {},
   "outputs": [],
   "source": [
    "for k in range(100):\n",
    "    in1 = np.random.randint(0,300)\n",
    "    in2 = np.random.randint(0,300)\n",
    "    while in2==in1:\n",
    "        in2 = np.random.randint(0,300)\n",
    "    circ.gate(in1,in2)\n",
    "    circ.measure(in1,in2)"
   ]
  },
  {
   "cell_type": "code",
   "execution_count": 147,
   "id": "43bba4f4-9040-4e8b-8854-692cdc110630",
   "metadata": {},
   "outputs": [],
   "source": [
    "state = pc.stabilizer.ghz_state(300)"
   ]
  },
  {
   "cell_type": "code",
   "execution_count": 148,
   "id": "8720d7a9-5989-4dba-94f8-c2182074c79d",
   "metadata": {},
   "outputs": [
    {
     "name": "stdout",
     "output_type": "stream",
     "text": [
      "38.5 ms ± 550 µs per loop (mean ± std. dev. of 7 runs, 10 loops each)\n"
     ]
    }
   ],
   "source": [
    "%timeit circ.forward(state)"
   ]
  },
  {
   "cell_type": "code",
   "execution_count": 149,
   "id": "e0afcbb5-10cf-45cc-85bf-d8768dacd526",
   "metadata": {
    "tags": []
   },
   "outputs": [
    {
     "ename": "ValueError",
     "evalue": "Post-selection result is not possible, they are orthogonal states.",
     "output_type": "error",
     "traceback": [
      "\u001b[0;31m---------------------------------------------------------------------------\u001b[0m",
      "\u001b[0;31mValueError\u001b[0m                                Traceback (most recent call last)",
      "Input \u001b[0;32mIn [149]\u001b[0m, in \u001b[0;36m<cell line: 1>\u001b[0;34m()\u001b[0m\n\u001b[0;32m----> 1\u001b[0m \u001b[43mcirc\u001b[49m\u001b[38;5;241;43m.\u001b[39;49m\u001b[43mbackward\u001b[49m\u001b[43m(\u001b[49m\u001b[43mstate\u001b[49m\u001b[43m)\u001b[49m\n",
      "File \u001b[0;32m~/Git_Code/PyClifford/dev/../pycliffordv2/circuit.py:513\u001b[0m, in \u001b[0;36mCircuit.backward\u001b[0;34m(self, obj, measure_result)\u001b[0m\n\u001b[1;32m    511\u001b[0m         layer\u001b[38;5;241m.\u001b[39mbackward(obj,measure_result \u001b[38;5;241m=\u001b[39m \u001b[38;5;28mself\u001b[39m\u001b[38;5;241m.\u001b[39mmeasure_result[new_pointer:])\n\u001b[1;32m    512\u001b[0m     \u001b[38;5;28;01melse\u001b[39;00m:\n\u001b[0;32m--> 513\u001b[0m         \u001b[43mlayer\u001b[49m\u001b[38;5;241;43m.\u001b[39;49m\u001b[43mbackward\u001b[49m\u001b[43m(\u001b[49m\u001b[43mobj\u001b[49m\u001b[43m,\u001b[49m\u001b[43mmeasure_result\u001b[49m\u001b[43m \u001b[49m\u001b[38;5;241;43m=\u001b[39;49m\u001b[43m \u001b[49m\u001b[38;5;28;43mself\u001b[39;49m\u001b[38;5;241;43m.\u001b[39;49m\u001b[43mmeasure_result\u001b[49m\u001b[43m[\u001b[49m\u001b[43mnew_pointer\u001b[49m\u001b[43m:\u001b[49m\u001b[43mpointer\u001b[49m\u001b[43m]\u001b[49m\u001b[43m)\u001b[49m\n\u001b[1;32m    514\u001b[0m     pointer \u001b[38;5;241m=\u001b[39m new_pointer\n\u001b[1;32m    515\u001b[0m \u001b[38;5;28;01melse\u001b[39;00m:\n",
      "File \u001b[0;32m~/Git_Code/PyClifford/dev/../pycliffordv2/circuit.py:237\u001b[0m, in \u001b[0;36mMeasureLayer.backward\u001b[0;34m(self, obj, measure_result)\u001b[0m\n\u001b[1;32m    235\u001b[0m             prob \u001b[38;5;241m=\u001b[39m obj\u001b[38;5;241m.\u001b[39mpostselect(pauli(tmp), tmp_res)\n\u001b[1;32m    236\u001b[0m             \u001b[38;5;28;01mif\u001b[39;00m prob \u001b[38;5;241m==\u001b[39m \u001b[38;5;241m0.0\u001b[39m:\n\u001b[0;32m--> 237\u001b[0m                 \u001b[38;5;28;01mraise\u001b[39;00m \u001b[38;5;167;01mValueError\u001b[39;00m(\u001b[38;5;124m\"\u001b[39m\u001b[38;5;124mPost-selection result is not possible, they are orthogonal states.\u001b[39m\u001b[38;5;124m\"\u001b[39m)\n\u001b[1;32m    238\u001b[0m         \u001b[38;5;28;01mreturn\u001b[39;00m obj\n\u001b[1;32m    239\u001b[0m \u001b[38;5;28;01melse\u001b[39;00m:\n",
      "\u001b[0;31mValueError\u001b[0m: Post-selection result is not possible, they are orthogonal states."
     ]
    }
   ],
   "source": [
    "circ.backward(state)"
   ]
  },
  {
   "cell_type": "code",
   "execution_count": 150,
   "id": "6995777b-2bb3-42de-9d37-de41d50e0d4f",
   "metadata": {},
   "outputs": [],
   "source": [
    "def binary_sum(x):\n",
    "    # Summing in pyclifford seems to take quadratic time. More efficient to do a recursive sum over halves of the list.\n",
    "    if len(x) < 30:\n",
    "        return sum(x)\n",
    "    else:\n",
    "        return binary_sum(x[::2]) + binary_sum(x[1::2])"
   ]
  },
  {
   "cell_type": "code",
   "execution_count": 161,
   "id": "32361d59-05b5-4686-9364-9c92eaa7bf32",
   "metadata": {},
   "outputs": [],
   "source": [
    "from qiskit_nature.drivers import UnitsType, Molecule\n",
    "from qiskit_nature.problems.second_quantization import ElectronicStructureProblem\n",
    "from qiskit_nature.converters.second_quantization import QubitConverter\n",
    "from qiskit_nature.mappers.second_quantization import JordanWignerMapper, ParityMapper, BravyiKitaevMapper\n",
    "from qiskit_nature.transformers.second_quantization.electronic import FreezeCoreTransformer\n",
    "from qiskit.algorithms import NumPyMinimumEigensolver\n",
    "from qiskit_nature.algorithms import GroundStateEigensolver\n",
    "from pyscf import scf, gto, fci\n",
    "from qiskit_nature.problems.second_quantization import ElectronicStructureProblem\n",
    "from qiskit_nature.drivers.second_quantization import (\n",
    "    ElectronicStructureDriverType,\n",
    "    ElectronicStructureMoleculeDriver,\n",
    ")"
   ]
  },
  {
   "cell_type": "code",
   "execution_count": 162,
   "id": "0cce920a-2b25-40e9-8d28-61db20037a5c",
   "metadata": {},
   "outputs": [],
   "source": [
    "def calculate_hamiltonian(geometry, use_pyscf=False, multiplicity=1, freeze=True, mapper=ParityMapper()):\n",
    "    molecule = Molecule(geometry=geometry, charge=0, multiplicity=multiplicity)\n",
    "\n",
    "    driver = ElectronicStructureMoleculeDriver(\n",
    "        molecule, basis=\"sto3g\", driver_type=ElectronicStructureDriverType.PYSCF\n",
    "    )\n",
    "\n",
    "    es_problem = ElectronicStructureProblem(driver, transformers=[FreezeCoreTransformer()] if freeze else [])\n",
    "    \n",
    "    qubit_converter = QubitConverter(mapper, two_qubit_reduction=True, z2symmetry_reduction='auto')\n",
    "    second_q_op = es_problem.second_q_ops()\n",
    "    qubit_op = qubit_converter.convert(second_q_op['ElectronicEnergy'], num_particles=es_problem.num_particles).to_pauli_op().oplist\n",
    "    shift = 0 # shift includes nuclear repulsion, core freezing, and a constant term (removing the identity). \n",
    "    nuclear_repuls = es_problem.grouped_property_transformed.get_property(\"ElectronicEnergy\").nuclear_repulsion_energy\n",
    "    shift += nuclear_repuls\n",
    "    if freeze:\n",
    "        core_shift = es_problem.grouped_property_transformed.get_property(\"ElectronicEnergy\")._shift['FreezeCoreTransformer']\n",
    "        shift += core_shift\n",
    "    \n",
    "    print('Done calculating qubit_op.')\n",
    "    is_identity = lambda x: str(x.primitive).count('I') == len(str(x.primitive))\n",
    "    const_shift = sum([x.coeff for x in qubit_op if is_identity(x)])\n",
    "    shift += const_shift\n",
    "    pyc_hamiltonian = binary_sum([x.coeff * pc.paulialg.pauli(str(x.primitive)) for x in qubit_op if not is_identity(x)])\n",
    "    print('Done calculating pyclifford Hamiltonian.')\n",
    "    if pyc_hamiltonian.N >= 14 or use_pyscf:\n",
    "        print(\"Using pyscf ground state estimate\")\n",
    "        mol_s = '; '.join([x + ' ' + ' '.join(map(str, y)) for x,y in geometry])\n",
    "        mol = gto.M(atom = mol_s, basis = 'sto3g', spin=multiplicity-1)\n",
    "        rhf = scf.RHF(mol)\n",
    "        E0 = rhf.kernel()\n",
    "        return pyc_hamiltonian, np.real(E0),shift\n",
    "    else:\n",
    "        print(\"Using exact ground state\")\n",
    "        numpy_solver = NumPyMinimumEigensolver()\n",
    "        calc = GroundStateEigensolver(qubit_converter, numpy_solver)\n",
    "        res = calc.solve(es_problem)\n",
    "        return pyc_hamiltonian, np.real(min(res.total_energies) ),shift"
   ]
  },
  {
   "cell_type": "code",
   "execution_count": 164,
   "id": "c06c998e-3a22-4732-bd8e-a534b78ddec3",
   "metadata": {},
   "outputs": [
    {
     "name": "stdout",
     "output_type": "stream",
     "text": [
      "Done calculating qubit_op.\n",
      "Done calculating pyclifford Hamiltonian.\n",
      "Using exact ground state\n",
      "n_qubits: 8 E0 -7.7849965239549315 n_terms 275\n"
     ]
    }
   ],
   "source": [
    "bond_len = 3.8\n",
    "molecule = [[\"H\", [0, 0.0, 0]], [\"Li\", [bond_len, 0, 0]]]\n",
    "pyc_h, E0, shift = calculate_hamiltonian(molecule, use_pyscf=False,multiplicity=1, mapper=ParityMapper())\n",
    "print('n_qubits:', pyc_h.N, 'E0', E0, 'n_terms', len(pyc_h))"
   ]
  },
  {
   "cell_type": "code",
   "execution_count": 165,
   "id": "22ead68b-bf2d-42b6-b1a8-b58396ec2812",
   "metadata": {},
   "outputs": [
    {
     "data": {
      "text/plain": [
       "-0.24 IIIIIIIZ +0.08 IIIIIIIX +0.04 IIIIIIZI -0.31 IIIIIIZZ -0.08 IIIIIIZX -0.06 IIIIIZII +0.05 IIIIIZIZ +0.01 IIIIIZIX -0.43 IIIIIZZI +0.04 IIIIIZZZ -0.01 IIIIIZZX +0.41 IIIIZIII -0.05 IIIIZIIZ +0.01 IIIIZIIX +0.07 IIIIZIZI -0.05 IIIIZIZZ -0.01 IIIIZIZX -0.43 IIIIZZII +0.04 IIIIZZIZ -0.01 IIIIZZIX -0.06 IIIIZZZI +0.05 IIIIZZZZ +0.01 IIIIZZZX +0.00 IIIIXXXI +0.05 IIIIXXXZ -0.06 IIIIXXXX -0.01 IIIIXXYY -0.01 IIIIXYXY +0.01 IIIIXYYI +0.01 IIIIXYYZ -0.01 IIIIXYYX +0.06 IIIIYXXY -0.05 IIIIYXYI -0.00 IIIIYXYZ -0.01 IIIIYXYX +0.01 IIIIYYXI +0.01 IIIIYYXZ -0.01 IIIIYYXX +0.01 IIIIYYYY +0.24 IIIZIIII -0.09 IIIZIIIZ -0.03 IIIZIIIX -0.07 IIIZIIZZ +0.03 IIIZIIZX -0.05 IIIZIZZI +0.07 IIIZZIII -0.05 IIIZZZII -0.02 IIIZXXXZ +0.01 IIIZXXXX -0.01 IIIZYXXY +0.02 IIIZYXYI +0.08 IIIXIIII +0.03 IIIXIIIZ +0.03 IIIXIIIX +0.01 IIIXIIZZ -0.03 IIIXIIZX -0.02 IIIXIZZI +0.00 IIIXZIII -0.02 IIIXZZII +0.02 IIIXXXXZ -0.02 IIIXXXXX +0.02 IIIXYXXY -0.02 IIIXYXYI -0.04 IIZIIIII -0.31 IIZZIIII +0.07 IIZZIIIZ +0.01 IIZZIIIX +0.07 IIZZIIZZ -0.01 IIZZIIZX +0.06 IIZZIZZI -0.06 IIZZZIII +0.06 IIZZZZII +0.00 IIZZXXXZ -0.01 IIZZXXXX +0.01 IIZZYXXY -0.00 IIZZYXYI +0.08 IIZXIIII +0.03 IIZXIIIZ +0.03 IIZXIIIX +0.01 IIZXIIZZ -0.03 IIZXIIZX -0.02 IIZXIZZI +0.00 IIZXZIII -0.02 IIZXZZII +0.02 IIZXXXXZ -0.02 IIZXXXXX +0.02 IIZXYXXY -0.02 IIZXYXYI +0.01 IIXIIIXI -0.01 IIXIIIYY -0.01 IIXIIZXZ -0.01 IIXIIZXX -0.00 IIXIXXZI +0.00 IIXIYYII -0.01 IIYYIIXI +0.01 IIYYIIYY +0.01 IIYYIZXZ +0.01 IIYYIZXX +0.00 IIYYXXZI -0.00 IIYYYYII +0.06 IZIIIIII +0.05 IZIZIIII -0.01 IZIXIIII -0.43 IZZIIIII +0.05 IZZIIIIZ -0.02 IZZIIIIX +0.06 IZZIIIZZ +0.02 IZZIIIZX +0.08 IZZIIZZI -0.07 IZZIZIII +0.07 IZZIZZII -0.01 IZZIXXXZ +0.01 IZZIXXXX -0.01 IZZIYXXY +0.01 IZZIYXYI -0.04 IZZZIIII -0.01 IZZXIIII -0.01 IZXZIIXI +0.01 IZXZIIYY +0.01 IZXZIZXZ +0.01 IZXZIZXX +0.00 IZXZXXZI -0.00 IZXZYYII +0.01 IZXXIIXI -0.01 IZXXIIYY -0.01 IZXXIZXZ -0.01 IZXXIZXX -0.00 IZXXXXZI +0.00 IZXXYYII +0.00 IXIIIXII -0.00 IXIIZXZI +0.01 IYXYIYXY +0.01 IYXYIYYI +0.01 IYXYZXXZ +0.01 IYXYZXXX +0.00 IYXYXIII +0.00 IYXYXZII +0.01 IYYIIYXY +0.01 IYYIIYYI +0.01 IYYIZXXZ +0.01 IYYIZXXX +0.00 IYYIXIII +0.00 IYYIXZII -0.41 ZIIIIIII +0.07 ZIIIIIIZ -0.00 ZIIIIIIX +0.06 ZIIIIIZZ +0.00 ZIIIIIZX +0.07 ZIIIIZZI -0.07 ZIIIZIII +0.07 ZIIIZZII +0.00 ZIIIXXXZ +0.01 ZIIIXXXX -0.01 ZIIIYXXY -0.00 ZIIIYXYI -0.05 ZIIZIIII -0.01 ZIIXIIII +0.07 ZIZIIIII +0.05 ZIZZIIII -0.01 ZIZXIIII -0.43 ZZIIIIII +0.05 ZZIIIIIZ -0.02 ZZIIIIIX +0.06 ZZIIIIZZ +0.02 ZZIIIIZX +0.07 ZZIIIZZI -0.07 ZZIIZIII +0.08 ZZIIZZII -0.01 ZZIIXXXZ +0.01 ZZIIXXXX -0.01 ZZIIYXXY +0.01 ZZIIYXYI -0.04 ZZIZIIII -0.01 ZZIXIIII +0.06 ZZZIIIII +0.05 ZZZZIIII -0.01 ZZZXIIII -0.00 ZXZIIXII +0.00 ZXZIZXZI +0.01 ZXXZIYXY +0.01 ZXXZIYYI +0.01 ZXXZZXXZ +0.01 ZXXZZXXX +0.00 ZXXZXIII +0.00 ZXXZXZII -0.01 ZXXXIYXY -0.01 ZXXXIYYI -0.01 ZXXXZXXZ -0.01 ZXXXZXXX -0.00 ZXXXXIII -0.00 ZXXXXZII +0.00 XIIIIYXY +0.00 XIIIIYYI +0.00 XIIIZXXZ +0.00 XIIIZXXX +0.00 XIIIXIII +0.00 XIIIXZII -0.00 XZIIIYXY -0.00 XZIIIYYI -0.00 XZIIZXXZ -0.00 XZIIZXXX -0.00 XZIIXIII -0.00 XZIIXZII +0.00 XXZIIIXI -0.00 XXZIIIYY -0.00 XXZIIZXZ -0.00 XXZIIZXX -0.00 XXZIXXZI +0.00 XXZIYYII +0.00 XXXIIIII -0.05 XXXZIIII -0.02 XXXZIIIZ -0.02 XXXZIIIX -0.00 XXXZIIZZ +0.02 XXXZIIZX +0.01 XXXZIZZI +0.00 XXXZZIII +0.01 XXXZZZII -0.02 XXXZXXXZ +0.01 XXXZXXXX -0.01 XXXZYXXY +0.02 XXXZYXYI -0.06 XXXXIIII -0.01 XXXXIIIZ -0.02 XXXXIIIX -0.01 XXXXIIZZ +0.02 XXXXIIZX +0.01 XXXXIZZI -0.01 XXXXZIII +0.01 XXXXZZII -0.01 XXXXXXXZ +0.02 XXXXXXXX -0.02 XXXXYXXY +0.01 XXXXYXYI -0.01 XXYYIIII -0.01 XYXYIIII +0.01 XYYIIIII -0.01 XYYZIIII -0.01 XYYXIIII +0.06 YXXYIIII +0.01 YXXYIIIZ +0.02 YXXYIIIX +0.01 YXXYIIZZ -0.02 YXXYIIZX -0.01 YXXYIZZI +0.01 YXXYZIII -0.01 YXXYZZII +0.01 YXXYXXXZ -0.02 YXXYXXXX +0.02 YXXYYXXY -0.01 YXXYYXYI -0.05 YXYIIIII -0.02 YXYIIIIZ -0.02 YXYIIIIX -0.00 YXYIIIZZ +0.02 YXYIIIZX +0.01 YXYIIZZI +0.00 YXYIZIII +0.01 YXYIZZII -0.02 YXYIXXXZ +0.01 YXYIXXXX -0.01 YXYIYXXY +0.02 YXYIYXYI +0.00 YXYZIIII -0.01 YXYXIIII +0.00 YYIIIIXI -0.00 YYIIIIYY -0.00 YYIIIZXZ -0.00 YYIIIZXX -0.00 YYIIXXZI +0.00 YYIIYYII +0.01 YYXIIIII -0.01 YYXZIIII -0.01 YYXXIIII +0.01 YYYYIIII"
      ]
     },
     "execution_count": 165,
     "metadata": {},
     "output_type": "execute_result"
    }
   ],
   "source": [
    "pyc_h"
   ]
  },
  {
   "cell_type": "code",
   "execution_count": null,
   "id": "4c6dd93c-9de2-4fc1-9e6b-dfe5a77f4a57",
   "metadata": {},
   "outputs": [],
   "source": []
  }
 ],
 "metadata": {
  "kernelspec": {
   "display_name": "Python 3 (ipykernel)",
   "language": "python",
   "name": "python3"
  },
  "language_info": {
   "codemirror_mode": {
    "name": "ipython",
    "version": 3
   },
   "file_extension": ".py",
   "mimetype": "text/x-python",
   "name": "python",
   "nbconvert_exporter": "python",
   "pygments_lexer": "ipython3",
   "version": "3.9.12"
  }
 },
 "nbformat": 4,
 "nbformat_minor": 5
}
