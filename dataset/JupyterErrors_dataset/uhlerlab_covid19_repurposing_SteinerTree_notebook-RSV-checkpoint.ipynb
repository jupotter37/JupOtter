{
 "cells": [
  {
   "cell_type": "markdown",
   "metadata": {},
   "source": [
    "# Imports"
   ]
  },
  {
   "cell_type": "code",
   "execution_count": 14,
   "metadata": {},
   "outputs": [],
   "source": [
    "# Import standard libraries\n",
    "import csv\n",
    "import OmicsIntegrator as oi\n",
    "import pandas as pd\n",
    "import numpy as np\n",
    "import scipy.stats as ss\n",
    "import networkx as nx\n",
    "import matplotlib.pyplot as plt\n",
    "from matplotlib_venn import venn2, venn3\n",
    "import pickle\n",
    "import tqdm\n",
    "import time\n",
    "\n",
    "# Import custom libraries\n",
    "import drugs2\n",
    "import prizes\n",
    "import sensitivity_analysis as sensitivity\n",
    "import sensitivity_sarspartners as svp\n",
    "import neighborhoods as nbh"
   ]
  },
  {
   "cell_type": "markdown",
   "metadata": {},
   "source": [
    "# Create prized list"
   ]
  },
  {
   "cell_type": "markdown",
   "metadata": {},
   "source": [
    "## Select RSV differentially expressed genes"
   ]
  },
  {
   "cell_type": "code",
   "execution_count": 15,
   "metadata": {},
   "outputs": [],
   "source": [
    "# Load RSV DE genes data\n",
    "rsv_de_genes_file_name = '../Data/rsv_diff_exp_genes.csv'\n",
    "rsv_genes_df = pd.read_csv(rsv_de_genes_file_name)"
   ]
  },
  {
   "cell_type": "code",
   "execution_count": 16,
   "metadata": {},
   "outputs": [],
   "source": [
    "# Minor reformatting\n",
    "rsv_genes_df.columns = ['name','log2FC_blanco']\n",
    "rsv_genes_df = rsv_genes_df.replace([np.inf, -np.inf], np.nan)\n",
    "rsv_genes_df = rsv_genes_df.dropna(subset = ['log2FC_blanco'], how='any')\n",
    "rsv_genes_df['name'] = rsv_genes_df['name'].str.upper().str.strip()"
   ]
  },
  {
   "cell_type": "code",
   "execution_count": 17,
   "metadata": {},
   "outputs": [
    {
     "data": {
      "text/html": [
       "<div>\n",
       "<style scoped>\n",
       "    .dataframe tbody tr th:only-of-type {\n",
       "        vertical-align: middle;\n",
       "    }\n",
       "\n",
       "    .dataframe tbody tr th {\n",
       "        vertical-align: top;\n",
       "    }\n",
       "\n",
       "    .dataframe thead th {\n",
       "        text-align: right;\n",
       "    }\n",
       "</style>\n",
       "<table border=\"1\" class=\"dataframe\">\n",
       "  <thead>\n",
       "    <tr style=\"text-align: right;\">\n",
       "      <th></th>\n",
       "      <th>name</th>\n",
       "      <th>log2FC_blanco</th>\n",
       "      <th>log2FC_aging</th>\n",
       "    </tr>\n",
       "  </thead>\n",
       "  <tbody>\n",
       "    <tr>\n",
       "      <th>0</th>\n",
       "      <td>IFIT1</td>\n",
       "      <td>6.565934</td>\n",
       "      <td>0</td>\n",
       "    </tr>\n",
       "    <tr>\n",
       "      <th>1</th>\n",
       "      <td>IFNL1</td>\n",
       "      <td>6.545864</td>\n",
       "      <td>0</td>\n",
       "    </tr>\n",
       "    <tr>\n",
       "      <th>2</th>\n",
       "      <td>OASL</td>\n",
       "      <td>6.490729</td>\n",
       "      <td>0</td>\n",
       "    </tr>\n",
       "    <tr>\n",
       "      <th>3</th>\n",
       "      <td>IFIT2</td>\n",
       "      <td>6.473374</td>\n",
       "      <td>0</td>\n",
       "    </tr>\n",
       "    <tr>\n",
       "      <th>4</th>\n",
       "      <td>IFIT3</td>\n",
       "      <td>5.540238</td>\n",
       "      <td>0</td>\n",
       "    </tr>\n",
       "  </tbody>\n",
       "</table>\n",
       "</div>"
      ],
      "text/plain": [
       "    name  log2FC_blanco  log2FC_aging\n",
       "0  IFIT1       6.565934             0\n",
       "1  IFNL1       6.545864             0\n",
       "2   OASL       6.490729             0\n",
       "3  IFIT2       6.473374             0\n",
       "4  IFIT3       5.540238             0"
      ]
     },
     "execution_count": 17,
     "metadata": {},
     "output_type": "execute_result"
    }
   ],
   "source": [
    "# Keep only protein coding genes\n",
    "protein_coding_genes_file_name = '../Data/protein_coding_ensembl_gene_id_hgnc_hg19.txt'\n",
    "coding_genes = prizes.load_protein_coding_genes(protein_coding_genes_file_name)\n",
    "rsv_genes_df = rsv_genes_df.merge(coding_genes, on = 'name', how = 'inner')\n",
    "# Add a dummy log2FC_aging column for legacy purposes\n",
    "rsv_genes_df['log2FC_aging'] = 0\n",
    "rsv_genes_df.head()"
   ]
  },
  {
   "cell_type": "markdown",
   "metadata": {},
   "source": [
    "## Create final prized list"
   ]
  },
  {
   "cell_type": "code",
   "execution_count": 18,
   "metadata": {},
   "outputs": [
    {
     "data": {
      "text/html": [
       "<div>\n",
       "<style scoped>\n",
       "    .dataframe tbody tr th:only-of-type {\n",
       "        vertical-align: middle;\n",
       "    }\n",
       "\n",
       "    .dataframe tbody tr th {\n",
       "        vertical-align: top;\n",
       "    }\n",
       "\n",
       "    .dataframe thead th {\n",
       "        text-align: right;\n",
       "    }\n",
       "</style>\n",
       "<table border=\"1\" class=\"dataframe\">\n",
       "  <thead>\n",
       "    <tr style=\"text-align: right;\">\n",
       "      <th></th>\n",
       "      <th>name</th>\n",
       "      <th>prize</th>\n",
       "      <th>log2FC_blanco</th>\n",
       "      <th>log2FC_aging</th>\n",
       "    </tr>\n",
       "  </thead>\n",
       "  <tbody>\n",
       "    <tr>\n",
       "      <th>0</th>\n",
       "      <td>IFIT1</td>\n",
       "      <td>6.565934</td>\n",
       "      <td>6.565934</td>\n",
       "      <td>0</td>\n",
       "    </tr>\n",
       "    <tr>\n",
       "      <th>1</th>\n",
       "      <td>IFNL1</td>\n",
       "      <td>6.545864</td>\n",
       "      <td>6.545864</td>\n",
       "      <td>0</td>\n",
       "    </tr>\n",
       "    <tr>\n",
       "      <th>2</th>\n",
       "      <td>OASL</td>\n",
       "      <td>6.490729</td>\n",
       "      <td>6.490729</td>\n",
       "      <td>0</td>\n",
       "    </tr>\n",
       "    <tr>\n",
       "      <th>3</th>\n",
       "      <td>IFIT2</td>\n",
       "      <td>6.473374</td>\n",
       "      <td>6.473374</td>\n",
       "      <td>0</td>\n",
       "    </tr>\n",
       "    <tr>\n",
       "      <th>4</th>\n",
       "      <td>IFIT3</td>\n",
       "      <td>5.540238</td>\n",
       "      <td>5.540238</td>\n",
       "      <td>0</td>\n",
       "    </tr>\n",
       "  </tbody>\n",
       "</table>\n",
       "</div>"
      ],
      "text/plain": [
       "    name     prize  log2FC_blanco  log2FC_aging\n",
       "0  IFIT1  6.565934       6.565934             0\n",
       "1  IFNL1  6.545864       6.545864             0\n",
       "2   OASL  6.490729       6.490729             0\n",
       "3  IFIT2  6.473374       6.473374             0\n",
       "4  IFIT3  5.540238       5.540238             0"
      ]
     },
     "execution_count": 18,
     "metadata": {},
     "output_type": "execute_result"
    }
   ],
   "source": [
    "terminal_df = rsv_genes_df.copy()\n",
    "terminal_df.insert(1,'prize', np.abs(terminal_df['log2FC_blanco']))\n",
    "terminal_df.sort_values(by='prize', ascending=False, inplace=True)\n",
    "terminal_df.head()"
   ]
  },
  {
   "cell_type": "code",
   "execution_count": 19,
   "metadata": {},
   "outputs": [
    {
     "data": {
      "text/plain": [
       "[]"
      ]
     },
     "execution_count": 19,
     "metadata": {},
     "output_type": "execute_result"
    },
    {
     "data": {
      "image/png": "[encoded data removed]",
      "text/plain": [
       "<Figure size 432x288 with 1 Axes>"
      ]
     },
     "metadata": {
      "needs_background": "light"
     },
     "output_type": "display_data"
    }
   ],
   "source": [
    "# Plot histogram of prizes\n",
    "plt.figure()\n",
    "plt.hist(terminal_df['prize'], bins=50)\n",
    "plt.axvline(x=2.295, color='red') # the 2.295 threshold corresponds to about 150 selected terminals\n",
    "plt.plot()"
   ]
  },
  {
   "cell_type": "code",
   "execution_count": 20,
   "metadata": {},
   "outputs": [
    {
     "data": {
      "text/html": [
       "<div>\n",
       "<style scoped>\n",
       "    .dataframe tbody tr th:only-of-type {\n",
       "        vertical-align: middle;\n",
       "    }\n",
       "\n",
       "    .dataframe tbody tr th {\n",
       "        vertical-align: top;\n",
       "    }\n",
       "\n",
       "    .dataframe thead th {\n",
       "        text-align: right;\n",
       "    }\n",
       "</style>\n",
       "<table border=\"1\" class=\"dataframe\">\n",
       "  <thead>\n",
       "    <tr style=\"text-align: right;\">\n",
       "      <th></th>\n",
       "      <th>name</th>\n",
       "      <th>prize</th>\n",
       "      <th>log2FC_blanco</th>\n",
       "      <th>log2FC_aging</th>\n",
       "    </tr>\n",
       "  </thead>\n",
       "  <tbody>\n",
       "    <tr>\n",
       "      <th>0</th>\n",
       "      <td>IFIT1</td>\n",
       "      <td>6.565934</td>\n",
       "      <td>6.565934</td>\n",
       "      <td>0</td>\n",
       "    </tr>\n",
       "    <tr>\n",
       "      <th>1</th>\n",
       "      <td>IFNL1</td>\n",
       "      <td>6.545864</td>\n",
       "      <td>6.545864</td>\n",
       "      <td>0</td>\n",
       "    </tr>\n",
       "    <tr>\n",
       "      <th>2</th>\n",
       "      <td>OASL</td>\n",
       "      <td>6.490729</td>\n",
       "      <td>6.490729</td>\n",
       "      <td>0</td>\n",
       "    </tr>\n",
       "    <tr>\n",
       "      <th>3</th>\n",
       "      <td>IFIT2</td>\n",
       "      <td>6.473374</td>\n",
       "      <td>6.473374</td>\n",
       "      <td>0</td>\n",
       "    </tr>\n",
       "    <tr>\n",
       "      <th>4</th>\n",
       "      <td>IFIT3</td>\n",
       "      <td>5.540238</td>\n",
       "      <td>5.540238</td>\n",
       "      <td>0</td>\n",
       "    </tr>\n",
       "  </tbody>\n",
       "</table>\n",
       "</div>"
      ],
      "text/plain": [
       "    name     prize  log2FC_blanco  log2FC_aging\n",
       "0  IFIT1  6.565934       6.565934             0\n",
       "1  IFNL1  6.545864       6.545864             0\n",
       "2   OASL  6.490729       6.490729             0\n",
       "3  IFIT2  6.473374       6.473374             0\n",
       "4  IFIT3  5.540238       5.540238             0"
      ]
     },
     "execution_count": 20,
     "metadata": {},
     "output_type": "execute_result"
    }
   ],
   "source": [
    "# Reduce number of terminals to top 150 differentially expressed genes (see red vertical line in histogram above)\n",
    "terminal_df = terminal_df.iloc[:150]\n",
    "terminal_df.head()"
   ]
  },
  {
   "cell_type": "code",
   "execution_count": 21,
   "metadata": {},
   "outputs": [],
   "source": [
    "# Save terminal df to tsv\n",
    "terminal_df.to_csv(r'../Save_rsv/terminals_ppi_analysis.tsv', header=True, index=None, sep='\\t', quoting = csv.QUOTE_NONE, escapechar = '\\t')"
   ]
  },
  {
   "cell_type": "markdown",
   "metadata": {},
   "source": [
    "# Prepare the sentivity analysis for Stein tree parameters"
   ]
  },
  {
   "cell_type": "markdown",
   "metadata": {},
   "source": [
    "## W range"
   ]
  },
  {
   "cell_type": "code",
   "execution_count": 22,
   "metadata": {},
   "outputs": [],
   "source": [
    "# Load prizes data\n",
    "prizes_data = terminal_df\n",
    "terminals = list(prizes_data['name'])\n",
    "n_terminals = len(terminals)"
   ]
  },
  {
   "cell_type": "code",
   "execution_count": 23,
   "metadata": {},
   "outputs": [],
   "source": [
    "# Load IREF interactome\n",
    "interactome_file = \"../Data/iRefIndex_v14_MIScore_interactome_C9.costs.allcaps.txt\"\n",
    "graph = oi.Graph(interactome_file)"
   ]
  },
  {
   "cell_type": "code",
   "execution_count": 38,
   "metadata": {},
   "outputs": [
    {
     "name": "stderr",
     "output_type": "stream",
     "text": [
      "  0%|          | 0/151 [00:02<?, ?it/s]\n"
     ]
    },
    {
     "ename": "NetworkXNoPath",
     "evalue": "Node STC1 not reachable from IFIT1",
     "output_type": "error",
     "traceback": [
      "\u001b[0;31m--------------------------------------------------------------------------\u001b[0m",
      "\u001b[0;31mKeyError\u001b[0m                                 Traceback (most recent call last)",
      "\u001b[0;32m~/anaconda3/lib/python3.7/site-packages/networkx/algorithms/shortest_paths/weighted.py\u001b[0m in \u001b[0;36mdijkstra_path_length\u001b[0;34m(G, source, target, weight)\u001b[0m\n\u001b[1;32m    227\u001b[0m     \u001b[0;32mtry\u001b[0m\u001b[0;34m:\u001b[0m\u001b[0;34m\u001b[0m\u001b[0;34m\u001b[0m\u001b[0m\n\u001b[0;32m--> 228\u001b[0;31m         \u001b[0;32mreturn\u001b[0m \u001b[0mlength\u001b[0m\u001b[0;34m[\u001b[0m\u001b[0mtarget\u001b[0m\u001b[0;34m]\u001b[0m\u001b[0;34m\u001b[0m\u001b[0;34m\u001b[0m\u001b[0m\n\u001b[0m\u001b[1;32m    229\u001b[0m     \u001b[0;32mexcept\u001b[0m \u001b[0mKeyError\u001b[0m\u001b[0;34m:\u001b[0m\u001b[0;34m\u001b[0m\u001b[0;34m\u001b[0m\u001b[0m\n",
      "\u001b[0;31mKeyError\u001b[0m: 'STC1'",
      "\nDuring handling of the above exception, another exception occurred:\n",
      "\u001b[0;31mNetworkXNoPath\u001b[0m                           Traceback (most recent call last)",
      "\u001b[0;32m<ipython-input-38-616ba73dce12>\u001b[0m in \u001b[0;36m<module>\u001b[0;34m\u001b[0m\n\u001b[1;32m      8\u001b[0m                                                                        \u001b[0msource\u001b[0m \u001b[0;34m=\u001b[0m \u001b[0mterminals\u001b[0m\u001b[0;34m[\u001b[0m\u001b[0mix_prot1\u001b[0m\u001b[0;34m]\u001b[0m\u001b[0;34m,\u001b[0m\u001b[0;34m\u001b[0m\u001b[0;34m\u001b[0m\u001b[0m\n\u001b[1;32m      9\u001b[0m                                                                        \u001b[0mtarget\u001b[0m \u001b[0;34m=\u001b[0m \u001b[0mterminals\u001b[0m\u001b[0;34m[\u001b[0m\u001b[0mix_prot2\u001b[0m\u001b[0;34m]\u001b[0m\u001b[0;34m,\u001b[0m\u001b[0;34m\u001b[0m\u001b[0;34m\u001b[0m\u001b[0m\n\u001b[0;32m---> 10\u001b[0;31m                                                                        weight = 'cost')\n\u001b[0m\u001b[1;32m     11\u001b[0m         \u001b[0mshortest_dist_mat\u001b[0m\u001b[0;34m[\u001b[0m\u001b[0mix_prot2\u001b[0m\u001b[0;34m,\u001b[0m\u001b[0mix_prot2\u001b[0m\u001b[0;34m]\u001b[0m \u001b[0;34m=\u001b[0m \u001b[0mshortest_dist_mat\u001b[0m\u001b[0;34m[\u001b[0m\u001b[0mix_prot1\u001b[0m\u001b[0;34m,\u001b[0m\u001b[0mix_prot2\u001b[0m\u001b[0;34m]\u001b[0m\u001b[0;34m\u001b[0m\u001b[0;34m\u001b[0m\u001b[0m\n",
      "\u001b[0;32m~/anaconda3/lib/python3.7/site-packages/networkx/algorithms/shortest_paths/weighted.py\u001b[0m in \u001b[0;36mdijkstra_path_length\u001b[0;34m(G, source, target, weight)\u001b[0m\n\u001b[1;32m    229\u001b[0m     \u001b[0;32mexcept\u001b[0m \u001b[0mKeyError\u001b[0m\u001b[0;34m:\u001b[0m\u001b[0;34m\u001b[0m\u001b[0;34m\u001b[0m\u001b[0m\n\u001b[1;32m    230\u001b[0m         raise nx.NetworkXNoPath(\n\u001b[0;32m--> 231\u001b[0;31m             \"Node %s not reachable from %s\" % (target, source))\n\u001b[0m\u001b[1;32m    232\u001b[0m \u001b[0;34m\u001b[0m\u001b[0m\n\u001b[1;32m    233\u001b[0m \u001b[0;34m\u001b[0m\u001b[0m\n",
      "\u001b[0;31mNetworkXNoPath\u001b[0m: Node STC1 not reachable from IFIT1"
     ]
    }
   ],
   "source": [
    "# Distribution of cheapest path between any two terminals without penalty (g=-\\infty)\n",
    "network = graph.interactome_graph\n",
    "shortest_dist_mat = np.zeros(shape = (n_terminals,n_terminals))\n",
    "for ix_prot1 in tqdm.tqdm(np.arange(n_terminals)):\n",
    "    time.sleep(0.01)\n",
    "    for ix_prot2 in np.arange(ix_prot1+1, n_terminals, 1):\n",
    "        shortest_dist_mat[ix_prot1,ix_prot2] = nx.dijkstra_path_length(network,\n",
    "                                                                       source = terminals[ix_prot1],\n",
    "                                                                       target = terminals[ix_prot2],\n",
    "                                                                       weight = 'cost')\n",
    "        shortest_dist_mat[ix_prot2,ix_prot2] = shortest_dist_mat[ix_prot1,ix_prot2]"
   ]
  },
  {
   "cell_type": "code",
   "execution_count": 63,
   "metadata": {},
   "outputs": [
    {
     "data": {
      "text/plain": [
       "<matplotlib.colorbar.Colorbar at 0x7f1b9fb11f50>"
      ]
     },
     "execution_count": 63,
     "metadata": {},
     "output_type": "execute_result"
    },
    {
     "data": {
      "image/png": "[encoded data removed]",
      "text/plain": [
       "<Figure size 288x288 with 2 Axes>"
      ]
     },
     "metadata": {
      "needs_background": "light"
     },
     "output_type": "display_data"
    }
   ],
   "source": [
    "# Plot heatmap of cheapest path\n",
    "plt.matshow(np.transpose(shortest_dist_mat))\n",
    "plt.xlabel('terminals')\n",
    "plt.ylabel('terminals')\n",
    "plt.colorbar()"
   ]
  },
  {
   "cell_type": "code",
   "execution_count": 64,
   "metadata": {},
   "outputs": [
    {
     "data": {
      "text/plain": [
       "Text(0, 0.5, 'Number of pairs of terminals')"
      ]
     },
     "execution_count": 64,
     "metadata": {},
     "output_type": "execute_result"
    },
    {
     "data": {
      "image/png": "[encoded data removed]",
      "text/plain": [
       "<Figure size 432x288 with 1 Axes>"
      ]
     },
     "metadata": {
      "needs_background": "light"
     },
     "output_type": "display_data"
    }
   ],
   "source": [
    "# Plot histogram of cheapest path\n",
    "plt.subplot(1,2,1)\n",
    "flat_mat = shortest_dist_mat[np.triu_indices(n_terminals, k=1)]\n",
    "plt.hist(flat_mat,40)\n",
    "plt.xlabel('Cost of shortest path between two terminals')\n",
    "plt.ylabel('Number of pairs of terminals')"
   ]
  },
  {
   "cell_type": "markdown",
   "metadata": {},
   "source": [
    "## G range"
   ]
  },
  {
   "cell_type": "code",
   "execution_count": 24,
   "metadata": {},
   "outputs": [],
   "source": [
    "# Create a dictionary containing edge costs under several choices of g\n",
    "g_range = [0,1,2,3,4,5]\n",
    "edge_costs_dict={'g = -Inf': graph.edge_costs}\n",
    "for g in g_range:\n",
    "    params = {\"w\": 0, \"b\": 1, \"g\": g, \"edge_noise\": 0, \"dummy_mode\": \"terminals\", \"seed\": 0, \"skip_checks\": False}\n",
    "    graph._reset_hyperparameters(params)\n",
    "    edge_costs_dict['g='+str(g)] = graph.costs\n",
    "edge_costs_df = pd.DataFrame(data = edge_costs_dict)"
   ]
  },
  {
   "cell_type": "code",
   "execution_count": 25,
   "metadata": {},
   "outputs": [
    {
     "data": {
      "image/png": "[encoded data removed]",
      "text/plain": [
       "<Figure size 432x288 with 1 Axes>"
      ]
     },
     "metadata": {
      "needs_background": "light"
     },
     "output_type": "display_data"
    }
   ],
   "source": [
    "# Boxplot of edge costs under several choices of g\n",
    "plt.figure()\n",
    "edge_costs_df.boxplot()\n",
    "plt.yscale('log')\n",
    "plt.ylabel('penalized edge cost')\n",
    "plt.title('Boxplots of penalized edge costs in IREF for different values of g')\n",
    "plt.show()"
   ]
  },
  {
   "cell_type": "markdown",
   "metadata": {},
   "source": [
    "## B range"
   ]
  },
  {
   "cell_type": "code",
   "execution_count": 26,
   "metadata": {
    "scrolled": true
   },
   "outputs": [
    {
     "data": {
      "text/html": [
       "<div>\n",
       "<style scoped>\n",
       "    .dataframe tbody tr th:only-of-type {\n",
       "        vertical-align: middle;\n",
       "    }\n",
       "\n",
       "    .dataframe tbody tr th {\n",
       "        vertical-align: top;\n",
       "    }\n",
       "\n",
       "    .dataframe thead th {\n",
       "        text-align: right;\n",
       "    }\n",
       "</style>\n",
       "<table border=\"1\" class=\"dataframe\">\n",
       "  <thead>\n",
       "    <tr style=\"text-align: right;\">\n",
       "      <th></th>\n",
       "      <th>max_penalized_edge_cost</th>\n",
       "    </tr>\n",
       "  </thead>\n",
       "  <tbody>\n",
       "    <tr>\n",
       "      <th>g = -Inf</th>\n",
       "      <td>0.859220</td>\n",
       "    </tr>\n",
       "    <tr>\n",
       "      <th>g=0</th>\n",
       "      <td>0.860892</td>\n",
       "    </tr>\n",
       "    <tr>\n",
       "      <th>g=1</th>\n",
       "      <td>2.015303</td>\n",
       "    </tr>\n",
       "    <tr>\n",
       "      <th>g=2</th>\n",
       "      <td>19.487738</td>\n",
       "    </tr>\n",
       "    <tr>\n",
       "      <th>g=3</th>\n",
       "      <td>194.212079</td>\n",
       "    </tr>\n",
       "    <tr>\n",
       "      <th>g=4</th>\n",
       "      <td>1941.455488</td>\n",
       "    </tr>\n",
       "    <tr>\n",
       "      <th>g=5</th>\n",
       "      <td>19413.889586</td>\n",
       "    </tr>\n",
       "  </tbody>\n",
       "</table>\n",
       "</div>"
      ],
      "text/plain": [
       "          max_penalized_edge_cost\n",
       "g = -Inf                 0.859220\n",
       "g=0                      0.860892\n",
       "g=1                      2.015303\n",
       "g=2                     19.487738\n",
       "g=3                    194.212079\n",
       "g=4                   1941.455488\n",
       "g=5                  19413.889586"
      ]
     },
     "execution_count": 26,
     "metadata": {},
     "output_type": "execute_result"
    }
   ],
   "source": [
    "# For a range of g, compute the maximum penalized edge cost\n",
    "g_range = [0,1,2,3,4,5]\n",
    "max_penalized_edge_cost = pd.DataFrame(edge_costs_df.max())\n",
    "max_penalized_edge_cost.columns=['max_penalized_edge_cost']\n",
    "max_penalized_edge_cost"
   ]
  },
  {
   "cell_type": "markdown",
   "metadata": {},
   "source": [
    "# Sensitivity analysis for Steiner tree parameters"
   ]
  },
  {
   "cell_type": "markdown",
   "metadata": {},
   "source": [
    "## Run sensitivity analysis"
   ]
  },
  {
   "cell_type": "code",
   "execution_count": 27,
   "metadata": {},
   "outputs": [],
   "source": [
    "# Load set of virus interacting genes from Gordon et al.\n",
    "virus_partners_file_name = \"../Data/SARSCov_targets_df.tsv\"\n",
    "virus_interacting_genes = sensitivity.import_virus_partners(virus_partners_file_name)"
   ]
  },
  {
   "cell_type": "code",
   "execution_count": 28,
   "metadata": {},
   "outputs": [],
   "source": [
    "# Parameters for sensitivity analysis\n",
    "interactome_file_name = \"../Data/iRefIndex_v14_MIScore_interactome_C9.costs.allcaps.txt\"\n",
    "prize_file_name = \"../Save_rsv/terminals_ppi_analysis.tsv\"\n",
    "# Graph hyperparameters\n",
    "graph_params =  {\n",
    "                \"noise\": 0.0, \n",
    "                \"dummy_mode\": \"terminals\", \n",
    "                \"exclude_terminals\": False, \n",
    "                \"seed\": 1,\n",
    "                \"pruning\": 'strong',\n",
    "                \"verbosity_level\": 0\n",
    "                }\n",
    "# Set sweeping parameters, i.e. configurations (w,b,g)\n",
    "W_list = np.linspace(start = 0.2, stop = 2, num = 10)\n",
    "B_list = np.array([5., 10., 15., 20., 25., 30., 35., 40., 45., 50.])"
   ]
  },
  {
   "cell_type": "code",
   "execution_count": 26,
   "metadata": {
    "scrolled": true
   },
   "outputs": [
    {
     "name": "stderr",
     "output_type": "stream",
     "text": [
      "11:05:06 - OI2: INFO - Duplicated gene symbols in the prize file (we'll keep the max prize):\n",
      "11:05:06 - OI2: INFO - []\n",
      "11:05:06 - OI2: INFO - Members of the prize file not present in the interactome:\n",
      "11:05:06 - OI2: INFO - ['CH25H', 'CNFN', 'GBP4', 'INSL4', 'KIF12', 'NUDT8', 'SAMD11', 'ST6GAL2', 'STC1', 'TMEM158', 'TMEM238']\n"
     ]
    },
    {
     "name": "stdout",
     "output_type": "stream",
     "text": [
      "Progress= 0.01\n"
     ]
    },
    {
     "name": "stderr",
     "output_type": "stream",
     "text": [
      "11:05:07 - OI2: INFO - Duplicated gene symbols in the prize file (we'll keep the max prize):\n",
      "11:05:07 - OI2: INFO - []\n",
      "11:05:07 - OI2: INFO - Members of the prize file not present in the interactome:\n",
      "11:05:07 - OI2: INFO - ['CH25H', 'CNFN', 'GBP4', 'INSL4', 'KIF12', 'NUDT8', 'SAMD11', 'ST6GAL2', 'STC1', 'TMEM158', 'TMEM238']\n"
     ]
    },
    {
     "name": "stdout",
     "output_type": "stream",
     "text": [
      "Progress= 0.02\n"
     ]
    },
    {
     "name": "stderr",
     "output_type": "stream",
     "text": [
      "11:05:08 - OI2: INFO - Duplicated gene symbols in the prize file (we'll keep the max prize):\n",
      "11:05:08 - OI2: INFO - []\n",
      "11:05:08 - OI2: INFO - Members of the prize file not present in the interactome:\n",
      "11:05:08 - OI2: INFO - ['CH25H', 'CNFN', 'GBP4', 'INSL4', 'KIF12', 'NUDT8', 'SAMD11', 'ST6GAL2', 'STC1', 'TMEM158', 'TMEM238']\n"
     ]
    },
    {
     "name": "stdout",
     "output_type": "stream",
     "text": [
      "Progress= 0.03\n"
     ]
    },
    {
     "name": "stderr",
     "output_type": "stream",
     "text": [
      "11:05:09 - OI2: INFO - Duplicated gene symbols in the prize file (we'll keep the max prize):\n",
      "11:05:09 - OI2: INFO - []\n",
      "11:05:09 - OI2: INFO - Members of the prize file not present in the interactome:\n",
      "11:05:09 - OI2: INFO - ['CH25H', 'CNFN', 'GBP4', 'INSL4', 'KIF12', 'NUDT8', 'SAMD11', 'ST6GAL2', 'STC1', 'TMEM158', 'TMEM238']\n"
     ]
    },
    {
     "name": "stdout",
     "output_type": "stream",
     "text": [
      "Progress= 0.04\n"
     ]
    },
    {
     "name": "stderr",
     "output_type": "stream",
     "text": [
      "11:05:10 - OI2: INFO - Duplicated gene symbols in the prize file (we'll keep the max prize):\n",
      "11:05:10 - OI2: INFO - []\n",
      "11:05:10 - OI2: INFO - Members of the prize file not present in the interactome:\n",
      "11:05:10 - OI2: INFO - ['CH25H', 'CNFN', 'GBP4', 'INSL4', 'KIF12', 'NUDT8', 'SAMD11', 'ST6GAL2', 'STC1', 'TMEM158', 'TMEM238']\n"
     ]
    },
    {
     "name": "stdout",
     "output_type": "stream",
     "text": [
      "Progress= 0.05\n"
     ]
    },
    {
     "name": "stderr",
     "output_type": "stream",
     "text": [
      "11:05:11 - OI2: INFO - Duplicated gene symbols in the prize file (we'll keep the max prize):\n",
      "11:05:11 - OI2: INFO - []\n",
      "11:05:11 - OI2: INFO - Members of the prize file not present in the interactome:\n",
      "11:05:11 - OI2: INFO - ['CH25H', 'CNFN', 'GBP4', 'INSL4', 'KIF12', 'NUDT8', 'SAMD11', 'ST6GAL2', 'STC1', 'TMEM158', 'TMEM238']\n"
     ]
    },
    {
     "name": "stdout",
     "output_type": "stream",
     "text": [
      "Progress= 0.06\n"
     ]
    },
    {
     "name": "stderr",
     "output_type": "stream",
     "text": [
      "11:05:12 - OI2: INFO - Duplicated gene symbols in the prize file (we'll keep the max prize):\n",
      "11:05:12 - OI2: INFO - []\n",
      "11:05:12 - OI2: INFO - Members of the prize file not present in the interactome:\n",
      "11:05:12 - OI2: INFO - ['CH25H', 'CNFN', 'GBP4', 'INSL4', 'KIF12', 'NUDT8', 'SAMD11', 'ST6GAL2', 'STC1', 'TMEM158', 'TMEM238']\n"
     ]
    },
    {
     "name": "stdout",
     "output_type": "stream",
     "text": [
      "Progress= 0.07\n"
     ]
    },
    {
     "name": "stderr",
     "output_type": "stream",
     "text": [
      "11:05:13 - OI2: INFO - Duplicated gene symbols in the prize file (we'll keep the max prize):\n",
      "11:05:13 - OI2: INFO - []\n",
      "11:05:13 - OI2: INFO - Members of the prize file not present in the interactome:\n",
      "11:05:13 - OI2: INFO - ['CH25H', 'CNFN', 'GBP4', 'INSL4', 'KIF12', 'NUDT8', 'SAMD11', 'ST6GAL2', 'STC1', 'TMEM158', 'TMEM238']\n"
     ]
    },
    {
     "name": "stdout",
     "output_type": "stream",
     "text": [
      "Progress= 0.08\n"
     ]
    },
    {
     "name": "stderr",
     "output_type": "stream",
     "text": [
      "11:05:14 - OI2: INFO - Duplicated gene symbols in the prize file (we'll keep the max prize):\n",
      "11:05:14 - OI2: INFO - []\n",
      "11:05:14 - OI2: INFO - Members of the prize file not present in the interactome:\n",
      "11:05:14 - OI2: INFO - ['CH25H', 'CNFN', 'GBP4', 'INSL4', 'KIF12', 'NUDT8', 'SAMD11', 'ST6GAL2', 'STC1', 'TMEM158', 'TMEM238']\n"
     ]
    },
    {
     "name": "stdout",
     "output_type": "stream",
     "text": [
      "Progress= 0.09\n"
     ]
    },
    {
     "name": "stderr",
     "output_type": "stream",
     "text": [
      "11:05:14 - OI2: INFO - Duplicated gene symbols in the prize file (we'll keep the max prize):\n",
      "11:05:14 - OI2: INFO - []\n",
      "11:05:14 - OI2: INFO - Members of the prize file not present in the interactome:\n",
      "11:05:14 - OI2: INFO - ['CH25H', 'CNFN', 'GBP4', 'INSL4', 'KIF12', 'NUDT8', 'SAMD11', 'ST6GAL2', 'STC1', 'TMEM158', 'TMEM238']\n"
     ]
    },
    {
     "name": "stdout",
     "output_type": "stream",
     "text": [
      "Progress= 0.1\n"
     ]
    },
    {
     "name": "stderr",
     "output_type": "stream",
     "text": [
      "11:05:15 - OI2: INFO - Duplicated gene symbols in the prize file (we'll keep the max prize):\n",
      "11:05:15 - OI2: INFO - []\n",
      "11:05:15 - OI2: INFO - Members of the prize file not present in the interactome:\n",
      "11:05:15 - OI2: INFO - ['CH25H', 'CNFN', 'GBP4', 'INSL4', 'KIF12', 'NUDT8', 'SAMD11', 'ST6GAL2', 'STC1', 'TMEM158', 'TMEM238']\n"
     ]
    },
    {
     "name": "stdout",
     "output_type": "stream",
     "text": [
      "Progress= 0.11\n"
     ]
    },
    {
     "name": "stderr",
     "output_type": "stream",
     "text": [
      "11:05:17 - OI2: INFO - Duplicated gene symbols in the prize file (we'll keep the max prize):\n",
      "11:05:17 - OI2: INFO - []\n",
      "11:05:17 - OI2: INFO - Members of the prize file not present in the interactome:\n",
      "11:05:17 - OI2: INFO - ['CH25H', 'CNFN', 'GBP4', 'INSL4', 'KIF12', 'NUDT8', 'SAMD11', 'ST6GAL2', 'STC1', 'TMEM158', 'TMEM238']\n"
     ]
    },
    {
     "name": "stdout",
     "output_type": "stream",
     "text": [
      "Progress= 0.12\n"
     ]
    },
    {
     "name": "stderr",
     "output_type": "stream",
     "text": [
      "11:05:18 - OI2: INFO - Duplicated gene symbols in the prize file (we'll keep the max prize):\n",
      "11:05:18 - OI2: INFO - []\n",
      "11:05:18 - OI2: INFO - Members of the prize file not present in the interactome:\n",
      "11:05:18 - OI2: INFO - ['CH25H', 'CNFN', 'GBP4', 'INSL4', 'KIF12', 'NUDT8', 'SAMD11', 'ST6GAL2', 'STC1', 'TMEM158', 'TMEM238']\n"
     ]
    },
    {
     "name": "stdout",
     "output_type": "stream",
     "text": [
      "Progress= 0.13\n"
     ]
    },
    {
     "name": "stderr",
     "output_type": "stream",
     "text": [
      "11:05:19 - OI2: INFO - Duplicated gene symbols in the prize file (we'll keep the max prize):\n",
      "11:05:19 - OI2: INFO - []\n",
      "11:05:19 - OI2: INFO - Members of the prize file not present in the interactome:\n",
      "11:05:19 - OI2: INFO - ['CH25H', 'CNFN', 'GBP4', 'INSL4', 'KIF12', 'NUDT8', 'SAMD11', 'ST6GAL2', 'STC1', 'TMEM158', 'TMEM238']\n"
     ]
    },
    {
     "name": "stdout",
     "output_type": "stream",
     "text": [
      "Progress= 0.14\n"
     ]
    },
    {
     "name": "stderr",
     "output_type": "stream",
     "text": [
      "11:05:20 - OI2: INFO - Duplicated gene symbols in the prize file (we'll keep the max prize):\n",
      "11:05:20 - OI2: INFO - []\n",
      "11:05:20 - OI2: INFO - Members of the prize file not present in the interactome:\n",
      "11:05:20 - OI2: INFO - ['CH25H', 'CNFN', 'GBP4', 'INSL4', 'KIF12', 'NUDT8', 'SAMD11', 'ST6GAL2', 'STC1', 'TMEM158', 'TMEM238']\n"
     ]
    },
    {
     "name": "stdout",
     "output_type": "stream",
     "text": [
      "Progress= 0.15\n"
     ]
    },
    {
     "name": "stderr",
     "output_type": "stream",
     "text": [
      "11:05:21 - OI2: INFO - Duplicated gene symbols in the prize file (we'll keep the max prize):\n",
      "11:05:21 - OI2: INFO - []\n",
      "11:05:21 - OI2: INFO - Members of the prize file not present in the interactome:\n",
      "11:05:21 - OI2: INFO - ['CH25H', 'CNFN', 'GBP4', 'INSL4', 'KIF12', 'NUDT8', 'SAMD11', 'ST6GAL2', 'STC1', 'TMEM158', 'TMEM238']\n"
     ]
    },
    {
     "name": "stdout",
     "output_type": "stream",
     "text": [
      "Progress= 0.16\n"
     ]
    },
    {
     "name": "stderr",
     "output_type": "stream",
     "text": [
      "11:05:23 - OI2: INFO - Duplicated gene symbols in the prize file (we'll keep the max prize):\n",
      "11:05:23 - OI2: INFO - []\n",
      "11:05:23 - OI2: INFO - Members of the prize file not present in the interactome:\n",
      "11:05:23 - OI2: INFO - ['CH25H', 'CNFN', 'GBP4', 'INSL4', 'KIF12', 'NUDT8', 'SAMD11', 'ST6GAL2', 'STC1', 'TMEM158', 'TMEM238']\n"
     ]
    },
    {
     "name": "stdout",
     "output_type": "stream",
     "text": [
      "Progress= 0.17\n"
     ]
    },
    {
     "name": "stderr",
     "output_type": "stream",
     "text": [
      "11:05:24 - OI2: INFO - Duplicated gene symbols in the prize file (we'll keep the max prize):\n",
      "11:05:24 - OI2: INFO - []\n",
      "11:05:24 - OI2: INFO - Members of the prize file not present in the interactome:\n",
      "11:05:24 - OI2: INFO - ['CH25H', 'CNFN', 'GBP4', 'INSL4', 'KIF12', 'NUDT8', 'SAMD11', 'ST6GAL2', 'STC1', 'TMEM158', 'TMEM238']\n"
     ]
    },
    {
     "name": "stdout",
     "output_type": "stream",
     "text": [
      "Progress= 0.18\n"
     ]
    },
    {
     "name": "stderr",
     "output_type": "stream",
     "text": [
      "11:05:25 - OI2: INFO - Duplicated gene symbols in the prize file (we'll keep the max prize):\n",
      "11:05:25 - OI2: INFO - []\n",
      "11:05:25 - OI2: INFO - Members of the prize file not present in the interactome:\n",
      "11:05:25 - OI2: INFO - ['CH25H', 'CNFN', 'GBP4', 'INSL4', 'KIF12', 'NUDT8', 'SAMD11', 'ST6GAL2', 'STC1', 'TMEM158', 'TMEM238']\n"
     ]
    },
    {
     "name": "stdout",
     "output_type": "stream",
     "text": [
      "Progress= 0.19\n"
     ]
    },
    {
     "name": "stderr",
     "output_type": "stream",
     "text": [
      "11:05:26 - OI2: INFO - Duplicated gene symbols in the prize file (we'll keep the max prize):\n",
      "11:05:26 - OI2: INFO - []\n",
      "11:05:26 - OI2: INFO - Members of the prize file not present in the interactome:\n",
      "11:05:26 - OI2: INFO - ['CH25H', 'CNFN', 'GBP4', 'INSL4', 'KIF12', 'NUDT8', 'SAMD11', 'ST6GAL2', 'STC1', 'TMEM158', 'TMEM238']\n"
     ]
    },
    {
     "name": "stdout",
     "output_type": "stream",
     "text": [
      "Progress= 0.2\n"
     ]
    },
    {
     "name": "stderr",
     "output_type": "stream",
     "text": [
      "11:05:27 - OI2: INFO - Duplicated gene symbols in the prize file (we'll keep the max prize):\n",
      "11:05:27 - OI2: INFO - []\n",
      "11:05:27 - OI2: INFO - Members of the prize file not present in the interactome:\n",
      "11:05:27 - OI2: INFO - ['CH25H', 'CNFN', 'GBP4', 'INSL4', 'KIF12', 'NUDT8', 'SAMD11', 'ST6GAL2', 'STC1', 'TMEM158', 'TMEM238']\n"
     ]
    },
    {
     "name": "stdout",
     "output_type": "stream",
     "text": [
      "Progress= 0.21\n"
     ]
    },
    {
     "name": "stderr",
     "output_type": "stream",
     "text": [
      "11:05:29 - OI2: INFO - Duplicated gene symbols in the prize file (we'll keep the max prize):\n",
      "11:05:29 - OI2: INFO - []\n",
      "11:05:29 - OI2: INFO - Members of the prize file not present in the interactome:\n",
      "11:05:29 - OI2: INFO - ['CH25H', 'CNFN', 'GBP4', 'INSL4', 'KIF12', 'NUDT8', 'SAMD11', 'ST6GAL2', 'STC1', 'TMEM158', 'TMEM238']\n"
     ]
    },
    {
     "name": "stdout",
     "output_type": "stream",
     "text": [
      "Progress= 0.22\n"
     ]
    },
    {
     "name": "stderr",
     "output_type": "stream",
     "text": [
      "11:05:30 - OI2: INFO - Duplicated gene symbols in the prize file (we'll keep the max prize):\n",
      "11:05:30 - OI2: INFO - []\n",
      "11:05:30 - OI2: INFO - Members of the prize file not present in the interactome:\n",
      "11:05:30 - OI2: INFO - ['CH25H', 'CNFN', 'GBP4', 'INSL4', 'KIF12', 'NUDT8', 'SAMD11', 'ST6GAL2', 'STC1', 'TMEM158', 'TMEM238']\n"
     ]
    },
    {
     "name": "stdout",
     "output_type": "stream",
     "text": [
      "Progress= 0.23\n"
     ]
    },
    {
     "name": "stderr",
     "output_type": "stream",
     "text": [
      "11:05:31 - OI2: INFO - Duplicated gene symbols in the prize file (we'll keep the max prize):\n",
      "11:05:31 - OI2: INFO - []\n",
      "11:05:31 - OI2: INFO - Members of the prize file not present in the interactome:\n",
      "11:05:31 - OI2: INFO - ['CH25H', 'CNFN', 'GBP4', 'INSL4', 'KIF12', 'NUDT8', 'SAMD11', 'ST6GAL2', 'STC1', 'TMEM158', 'TMEM238']\n"
     ]
    },
    {
     "name": "stdout",
     "output_type": "stream",
     "text": [
      "Progress= 0.24\n"
     ]
    },
    {
     "name": "stderr",
     "output_type": "stream",
     "text": [
      "11:05:33 - OI2: INFO - Duplicated gene symbols in the prize file (we'll keep the max prize):\n",
      "11:05:33 - OI2: INFO - []\n",
      "11:05:33 - OI2: INFO - Members of the prize file not present in the interactome:\n",
      "11:05:33 - OI2: INFO - ['CH25H', 'CNFN', 'GBP4', 'INSL4', 'KIF12', 'NUDT8', 'SAMD11', 'ST6GAL2', 'STC1', 'TMEM158', 'TMEM238']\n"
     ]
    },
    {
     "name": "stdout",
     "output_type": "stream",
     "text": [
      "Progress= 0.25\n"
     ]
    },
    {
     "name": "stderr",
     "output_type": "stream",
     "text": [
      "11:05:34 - OI2: INFO - Duplicated gene symbols in the prize file (we'll keep the max prize):\n",
      "11:05:34 - OI2: INFO - []\n",
      "11:05:34 - OI2: INFO - Members of the prize file not present in the interactome:\n",
      "11:05:34 - OI2: INFO - ['CH25H', 'CNFN', 'GBP4', 'INSL4', 'KIF12', 'NUDT8', 'SAMD11', 'ST6GAL2', 'STC1', 'TMEM158', 'TMEM238']\n"
     ]
    },
    {
     "name": "stdout",
     "output_type": "stream",
     "text": [
      "Progress= 0.26\n"
     ]
    },
    {
     "name": "stderr",
     "output_type": "stream",
     "text": [
      "11:05:35 - OI2: INFO - Duplicated gene symbols in the prize file (we'll keep the max prize):\n",
      "11:05:35 - OI2: INFO - []\n",
      "11:05:35 - OI2: INFO - Members of the prize file not present in the interactome:\n",
      "11:05:35 - OI2: INFO - ['CH25H', 'CNFN', 'GBP4', 'INSL4', 'KIF12', 'NUDT8', 'SAMD11', 'ST6GAL2', 'STC1', 'TMEM158', 'TMEM238']\n"
     ]
    },
    {
     "name": "stdout",
     "output_type": "stream",
     "text": [
      "Progress= 0.27\n"
     ]
    },
    {
     "name": "stderr",
     "output_type": "stream",
     "text": [
      "11:05:37 - OI2: INFO - Duplicated gene symbols in the prize file (we'll keep the max prize):\n",
      "11:05:37 - OI2: INFO - []\n",
      "11:05:37 - OI2: INFO - Members of the prize file not present in the interactome:\n",
      "11:05:37 - OI2: INFO - ['CH25H', 'CNFN', 'GBP4', 'INSL4', 'KIF12', 'NUDT8', 'SAMD11', 'ST6GAL2', 'STC1', 'TMEM158', 'TMEM238']\n"
     ]
    },
    {
     "name": "stdout",
     "output_type": "stream",
     "text": [
      "Progress= 0.28\n"
     ]
    },
    {
     "name": "stderr",
     "output_type": "stream",
     "text": [
      "11:05:38 - OI2: INFO - Duplicated gene symbols in the prize file (we'll keep the max prize):\n",
      "11:05:38 - OI2: INFO - []\n",
      "11:05:38 - OI2: INFO - Members of the prize file not present in the interactome:\n",
      "11:05:38 - OI2: INFO - ['CH25H', 'CNFN', 'GBP4', 'INSL4', 'KIF12', 'NUDT8', 'SAMD11', 'ST6GAL2', 'STC1', 'TMEM158', 'TMEM238']\n"
     ]
    },
    {
     "name": "stdout",
     "output_type": "stream",
     "text": [
      "Progress= 0.29\n"
     ]
    },
    {
     "name": "stderr",
     "output_type": "stream",
     "text": [
      "11:05:39 - OI2: INFO - Duplicated gene symbols in the prize file (we'll keep the max prize):\n",
      "11:05:39 - OI2: INFO - []\n",
      "11:05:39 - OI2: INFO - Members of the prize file not present in the interactome:\n",
      "11:05:39 - OI2: INFO - ['CH25H', 'CNFN', 'GBP4', 'INSL4', 'KIF12', 'NUDT8', 'SAMD11', 'ST6GAL2', 'STC1', 'TMEM158', 'TMEM238']\n"
     ]
    },
    {
     "name": "stdout",
     "output_type": "stream",
     "text": [
      "Progress= 0.3\n"
     ]
    },
    {
     "name": "stderr",
     "output_type": "stream",
     "text": [
      "11:05:40 - OI2: INFO - Duplicated gene symbols in the prize file (we'll keep the max prize):\n",
      "11:05:40 - OI2: INFO - []\n",
      "11:05:40 - OI2: INFO - Members of the prize file not present in the interactome:\n",
      "11:05:40 - OI2: INFO - ['CH25H', 'CNFN', 'GBP4', 'INSL4', 'KIF12', 'NUDT8', 'SAMD11', 'ST6GAL2', 'STC1', 'TMEM158', 'TMEM238']\n"
     ]
    },
    {
     "name": "stdout",
     "output_type": "stream",
     "text": [
      "Progress= 0.31\n"
     ]
    },
    {
     "name": "stderr",
     "output_type": "stream",
     "text": [
      "11:05:42 - OI2: INFO - Duplicated gene symbols in the prize file (we'll keep the max prize):\n",
      "11:05:42 - OI2: INFO - []\n",
      "11:05:42 - OI2: INFO - Members of the prize file not present in the interactome:\n",
      "11:05:42 - OI2: INFO - ['CH25H', 'CNFN', 'GBP4', 'INSL4', 'KIF12', 'NUDT8', 'SAMD11', 'ST6GAL2', 'STC1', 'TMEM158', 'TMEM238']\n"
     ]
    },
    {
     "name": "stdout",
     "output_type": "stream",
     "text": [
      "Progress= 0.32\n"
     ]
    },
    {
     "name": "stderr",
     "output_type": "stream",
     "text": [
      "11:05:43 - OI2: INFO - Duplicated gene symbols in the prize file (we'll keep the max prize):\n",
      "11:05:43 - OI2: INFO - []\n",
      "11:05:43 - OI2: INFO - Members of the prize file not present in the interactome:\n",
      "11:05:43 - OI2: INFO - ['CH25H', 'CNFN', 'GBP4', 'INSL4', 'KIF12', 'NUDT8', 'SAMD11', 'ST6GAL2', 'STC1', 'TMEM158', 'TMEM238']\n"
     ]
    },
    {
     "name": "stdout",
     "output_type": "stream",
     "text": [
      "Progress= 0.33\n"
     ]
    },
    {
     "name": "stderr",
     "output_type": "stream",
     "text": [
      "11:05:44 - OI2: INFO - Duplicated gene symbols in the prize file (we'll keep the max prize):\n",
      "11:05:44 - OI2: INFO - []\n",
      "11:05:44 - OI2: INFO - Members of the prize file not present in the interactome:\n",
      "11:05:44 - OI2: INFO - ['CH25H', 'CNFN', 'GBP4', 'INSL4', 'KIF12', 'NUDT8', 'SAMD11', 'ST6GAL2', 'STC1', 'TMEM158', 'TMEM238']\n"
     ]
    },
    {
     "name": "stdout",
     "output_type": "stream",
     "text": [
      "Progress= 0.34\n"
     ]
    },
    {
     "name": "stderr",
     "output_type": "stream",
     "text": [
      "11:05:45 - OI2: INFO - Duplicated gene symbols in the prize file (we'll keep the max prize):\n",
      "11:05:45 - OI2: INFO - []\n",
      "11:05:45 - OI2: INFO - Members of the prize file not present in the interactome:\n",
      "11:05:45 - OI2: INFO - ['CH25H', 'CNFN', 'GBP4', 'INSL4', 'KIF12', 'NUDT8', 'SAMD11', 'ST6GAL2', 'STC1', 'TMEM158', 'TMEM238']\n"
     ]
    },
    {
     "name": "stdout",
     "output_type": "stream",
     "text": [
      "Progress= 0.35\n"
     ]
    },
    {
     "name": "stderr",
     "output_type": "stream",
     "text": [
      "11:05:47 - OI2: INFO - Duplicated gene symbols in the prize file (we'll keep the max prize):\n",
      "11:05:47 - OI2: INFO - []\n",
      "11:05:47 - OI2: INFO - Members of the prize file not present in the interactome:\n",
      "11:05:47 - OI2: INFO - ['CH25H', 'CNFN', 'GBP4', 'INSL4', 'KIF12', 'NUDT8', 'SAMD11', 'ST6GAL2', 'STC1', 'TMEM158', 'TMEM238']\n"
     ]
    },
    {
     "name": "stdout",
     "output_type": "stream",
     "text": [
      "Progress= 0.36\n"
     ]
    },
    {
     "name": "stderr",
     "output_type": "stream",
     "text": [
      "11:05:48 - OI2: INFO - Duplicated gene symbols in the prize file (we'll keep the max prize):\n",
      "11:05:48 - OI2: INFO - []\n",
      "11:05:48 - OI2: INFO - Members of the prize file not present in the interactome:\n",
      "11:05:48 - OI2: INFO - ['CH25H', 'CNFN', 'GBP4', 'INSL4', 'KIF12', 'NUDT8', 'SAMD11', 'ST6GAL2', 'STC1', 'TMEM158', 'TMEM238']\n"
     ]
    },
    {
     "name": "stdout",
     "output_type": "stream",
     "text": [
      "Progress= 0.37\n"
     ]
    },
    {
     "name": "stderr",
     "output_type": "stream",
     "text": [
      "11:05:49 - OI2: INFO - Duplicated gene symbols in the prize file (we'll keep the max prize):\n",
      "11:05:49 - OI2: INFO - []\n",
      "11:05:49 - OI2: INFO - Members of the prize file not present in the interactome:\n",
      "11:05:49 - OI2: INFO - ['CH25H', 'CNFN', 'GBP4', 'INSL4', 'KIF12', 'NUDT8', 'SAMD11', 'ST6GAL2', 'STC1', 'TMEM158', 'TMEM238']\n"
     ]
    },
    {
     "name": "stdout",
     "output_type": "stream",
     "text": [
      "Progress= 0.38\n"
     ]
    },
    {
     "name": "stderr",
     "output_type": "stream",
     "text": [
      "11:05:51 - OI2: INFO - Duplicated gene symbols in the prize file (we'll keep the max prize):\n",
      "11:05:51 - OI2: INFO - []\n",
      "11:05:51 - OI2: INFO - Members of the prize file not present in the interactome:\n",
      "11:05:51 - OI2: INFO - ['CH25H', 'CNFN', 'GBP4', 'INSL4', 'KIF12', 'NUDT8', 'SAMD11', 'ST6GAL2', 'STC1', 'TMEM158', 'TMEM238']\n"
     ]
    },
    {
     "name": "stdout",
     "output_type": "stream",
     "text": [
      "Progress= 0.39\n"
     ]
    },
    {
     "name": "stderr",
     "output_type": "stream",
     "text": [
      "11:05:52 - OI2: INFO - Duplicated gene symbols in the prize file (we'll keep the max prize):\n",
      "11:05:52 - OI2: INFO - []\n",
      "11:05:52 - OI2: INFO - Members of the prize file not present in the interactome:\n",
      "11:05:52 - OI2: INFO - ['CH25H', 'CNFN', 'GBP4', 'INSL4', 'KIF12', 'NUDT8', 'SAMD11', 'ST6GAL2', 'STC1', 'TMEM158', 'TMEM238']\n"
     ]
    },
    {
     "name": "stdout",
     "output_type": "stream",
     "text": [
      "Progress= 0.4\n"
     ]
    },
    {
     "name": "stderr",
     "output_type": "stream",
     "text": [
      "11:05:53 - OI2: INFO - Duplicated gene symbols in the prize file (we'll keep the max prize):\n",
      "11:05:53 - OI2: INFO - []\n",
      "11:05:53 - OI2: INFO - Members of the prize file not present in the interactome:\n",
      "11:05:53 - OI2: INFO - ['CH25H', 'CNFN', 'GBP4', 'INSL4', 'KIF12', 'NUDT8', 'SAMD11', 'ST6GAL2', 'STC1', 'TMEM158', 'TMEM238']\n"
     ]
    },
    {
     "name": "stdout",
     "output_type": "stream",
     "text": [
      "Progress= 0.41\n"
     ]
    },
    {
     "name": "stderr",
     "output_type": "stream",
     "text": [
      "11:05:55 - OI2: INFO - Duplicated gene symbols in the prize file (we'll keep the max prize):\n",
      "11:05:55 - OI2: INFO - []\n",
      "11:05:55 - OI2: INFO - Members of the prize file not present in the interactome:\n",
      "11:05:55 - OI2: INFO - ['CH25H', 'CNFN', 'GBP4', 'INSL4', 'KIF12', 'NUDT8', 'SAMD11', 'ST6GAL2', 'STC1', 'TMEM158', 'TMEM238']\n"
     ]
    },
    {
     "name": "stdout",
     "output_type": "stream",
     "text": [
      "Progress= 0.42\n"
     ]
    },
    {
     "name": "stderr",
     "output_type": "stream",
     "text": [
      "11:05:56 - OI2: INFO - Duplicated gene symbols in the prize file (we'll keep the max prize):\n",
      "11:05:56 - OI2: INFO - []\n",
      "11:05:56 - OI2: INFO - Members of the prize file not present in the interactome:\n",
      "11:05:56 - OI2: INFO - ['CH25H', 'CNFN', 'GBP4', 'INSL4', 'KIF12', 'NUDT8', 'SAMD11', 'ST6GAL2', 'STC1', 'TMEM158', 'TMEM238']\n"
     ]
    },
    {
     "name": "stdout",
     "output_type": "stream",
     "text": [
      "Progress= 0.43\n"
     ]
    },
    {
     "name": "stderr",
     "output_type": "stream",
     "text": [
      "11:05:57 - OI2: INFO - Duplicated gene symbols in the prize file (we'll keep the max prize):\n",
      "11:05:57 - OI2: INFO - []\n",
      "11:05:57 - OI2: INFO - Members of the prize file not present in the interactome:\n",
      "11:05:57 - OI2: INFO - ['CH25H', 'CNFN', 'GBP4', 'INSL4', 'KIF12', 'NUDT8', 'SAMD11', 'ST6GAL2', 'STC1', 'TMEM158', 'TMEM238']\n"
     ]
    },
    {
     "name": "stdout",
     "output_type": "stream",
     "text": [
      "Progress= 0.44\n"
     ]
    },
    {
     "name": "stderr",
     "output_type": "stream",
     "text": [
      "11:05:59 - OI2: INFO - Duplicated gene symbols in the prize file (we'll keep the max prize):\n",
      "11:05:59 - OI2: INFO - []\n",
      "11:05:59 - OI2: INFO - Members of the prize file not present in the interactome:\n",
      "11:05:59 - OI2: INFO - ['CH25H', 'CNFN', 'GBP4', 'INSL4', 'KIF12', 'NUDT8', 'SAMD11', 'ST6GAL2', 'STC1', 'TMEM158', 'TMEM238']\n"
     ]
    },
    {
     "name": "stdout",
     "output_type": "stream",
     "text": [
      "Progress= 0.45\n"
     ]
    },
    {
     "name": "stderr",
     "output_type": "stream",
     "text": [
      "11:06:00 - OI2: INFO - Duplicated gene symbols in the prize file (we'll keep the max prize):\n",
      "11:06:00 - OI2: INFO - []\n",
      "11:06:00 - OI2: INFO - Members of the prize file not present in the interactome:\n",
      "11:06:00 - OI2: INFO - ['CH25H', 'CNFN', 'GBP4', 'INSL4', 'KIF12', 'NUDT8', 'SAMD11', 'ST6GAL2', 'STC1', 'TMEM158', 'TMEM238']\n"
     ]
    },
    {
     "name": "stdout",
     "output_type": "stream",
     "text": [
      "Progress= 0.46\n"
     ]
    },
    {
     "name": "stderr",
     "output_type": "stream",
     "text": [
      "11:06:01 - OI2: INFO - Duplicated gene symbols in the prize file (we'll keep the max prize):\n",
      "11:06:01 - OI2: INFO - []\n",
      "11:06:01 - OI2: INFO - Members of the prize file not present in the interactome:\n",
      "11:06:01 - OI2: INFO - ['CH25H', 'CNFN', 'GBP4', 'INSL4', 'KIF12', 'NUDT8', 'SAMD11', 'ST6GAL2', 'STC1', 'TMEM158', 'TMEM238']\n"
     ]
    },
    {
     "name": "stdout",
     "output_type": "stream",
     "text": [
      "Progress= 0.47\n"
     ]
    },
    {
     "name": "stderr",
     "output_type": "stream",
     "text": [
      "11:06:02 - OI2: INFO - Duplicated gene symbols in the prize file (we'll keep the max prize):\n",
      "11:06:02 - OI2: INFO - []\n",
      "11:06:02 - OI2: INFO - Members of the prize file not present in the interactome:\n",
      "11:06:02 - OI2: INFO - ['CH25H', 'CNFN', 'GBP4', 'INSL4', 'KIF12', 'NUDT8', 'SAMD11', 'ST6GAL2', 'STC1', 'TMEM158', 'TMEM238']\n"
     ]
    },
    {
     "name": "stdout",
     "output_type": "stream",
     "text": [
      "Progress= 0.48\n"
     ]
    },
    {
     "name": "stderr",
     "output_type": "stream",
     "text": [
      "11:06:04 - OI2: INFO - Duplicated gene symbols in the prize file (we'll keep the max prize):\n",
      "11:06:04 - OI2: INFO - []\n",
      "11:06:04 - OI2: INFO - Members of the prize file not present in the interactome:\n",
      "11:06:04 - OI2: INFO - ['CH25H', 'CNFN', 'GBP4', 'INSL4', 'KIF12', 'NUDT8', 'SAMD11', 'ST6GAL2', 'STC1', 'TMEM158', 'TMEM238']\n"
     ]
    },
    {
     "name": "stdout",
     "output_type": "stream",
     "text": [
      "Progress= 0.49\n"
     ]
    },
    {
     "name": "stderr",
     "output_type": "stream",
     "text": [
      "11:06:05 - OI2: INFO - Duplicated gene symbols in the prize file (we'll keep the max prize):\n",
      "11:06:05 - OI2: INFO - []\n",
      "11:06:05 - OI2: INFO - Members of the prize file not present in the interactome:\n",
      "11:06:05 - OI2: INFO - ['CH25H', 'CNFN', 'GBP4', 'INSL4', 'KIF12', 'NUDT8', 'SAMD11', 'ST6GAL2', 'STC1', 'TMEM158', 'TMEM238']\n"
     ]
    },
    {
     "name": "stdout",
     "output_type": "stream",
     "text": [
      "Progress= 0.5\n"
     ]
    },
    {
     "name": "stderr",
     "output_type": "stream",
     "text": [
      "11:06:06 - OI2: INFO - Duplicated gene symbols in the prize file (we'll keep the max prize):\n",
      "11:06:06 - OI2: INFO - []\n",
      "11:06:06 - OI2: INFO - Members of the prize file not present in the interactome:\n",
      "11:06:06 - OI2: INFO - ['CH25H', 'CNFN', 'GBP4', 'INSL4', 'KIF12', 'NUDT8', 'SAMD11', 'ST6GAL2', 'STC1', 'TMEM158', 'TMEM238']\n"
     ]
    },
    {
     "name": "stdout",
     "output_type": "stream",
     "text": [
      "Progress= 0.51\n"
     ]
    },
    {
     "name": "stderr",
     "output_type": "stream",
     "text": [
      "11:06:08 - OI2: INFO - Duplicated gene symbols in the prize file (we'll keep the max prize):\n",
      "11:06:08 - OI2: INFO - []\n",
      "11:06:08 - OI2: INFO - Members of the prize file not present in the interactome:\n",
      "11:06:08 - OI2: INFO - ['CH25H', 'CNFN', 'GBP4', 'INSL4', 'KIF12', 'NUDT8', 'SAMD11', 'ST6GAL2', 'STC1', 'TMEM158', 'TMEM238']\n"
     ]
    },
    {
     "name": "stdout",
     "output_type": "stream",
     "text": [
      "Progress= 0.52\n"
     ]
    },
    {
     "name": "stderr",
     "output_type": "stream",
     "text": [
      "11:06:09 - OI2: INFO - Duplicated gene symbols in the prize file (we'll keep the max prize):\n",
      "11:06:09 - OI2: INFO - []\n",
      "11:06:09 - OI2: INFO - Members of the prize file not present in the interactome:\n",
      "11:06:09 - OI2: INFO - ['CH25H', 'CNFN', 'GBP4', 'INSL4', 'KIF12', 'NUDT8', 'SAMD11', 'ST6GAL2', 'STC1', 'TMEM158', 'TMEM238']\n"
     ]
    },
    {
     "name": "stdout",
     "output_type": "stream",
     "text": [
      "Progress= 0.53\n"
     ]
    },
    {
     "name": "stderr",
     "output_type": "stream",
     "text": [
      "11:06:10 - OI2: INFO - Duplicated gene symbols in the prize file (we'll keep the max prize):\n",
      "11:06:10 - OI2: INFO - []\n",
      "11:06:10 - OI2: INFO - Members of the prize file not present in the interactome:\n",
      "11:06:10 - OI2: INFO - ['CH25H', 'CNFN', 'GBP4', 'INSL4', 'KIF12', 'NUDT8', 'SAMD11', 'ST6GAL2', 'STC1', 'TMEM158', 'TMEM238']\n"
     ]
    },
    {
     "name": "stdout",
     "output_type": "stream",
     "text": [
      "Progress= 0.54\n"
     ]
    },
    {
     "name": "stderr",
     "output_type": "stream",
     "text": [
      "11:06:12 - OI2: INFO - Duplicated gene symbols in the prize file (we'll keep the max prize):\n",
      "11:06:12 - OI2: INFO - []\n",
      "11:06:12 - OI2: INFO - Members of the prize file not present in the interactome:\n",
      "11:06:12 - OI2: INFO - ['CH25H', 'CNFN', 'GBP4', 'INSL4', 'KIF12', 'NUDT8', 'SAMD11', 'ST6GAL2', 'STC1', 'TMEM158', 'TMEM238']\n"
     ]
    },
    {
     "name": "stdout",
     "output_type": "stream",
     "text": [
      "Progress= 0.55\n"
     ]
    },
    {
     "name": "stderr",
     "output_type": "stream",
     "text": [
      "11:06:13 - OI2: INFO - Duplicated gene symbols in the prize file (we'll keep the max prize):\n",
      "11:06:13 - OI2: INFO - []\n",
      "11:06:13 - OI2: INFO - Members of the prize file not present in the interactome:\n",
      "11:06:13 - OI2: INFO - ['CH25H', 'CNFN', 'GBP4', 'INSL4', 'KIF12', 'NUDT8', 'SAMD11', 'ST6GAL2', 'STC1', 'TMEM158', 'TMEM238']\n"
     ]
    },
    {
     "name": "stdout",
     "output_type": "stream",
     "text": [
      "Progress= 0.56\n"
     ]
    },
    {
     "name": "stderr",
     "output_type": "stream",
     "text": [
      "11:06:14 - OI2: INFO - Duplicated gene symbols in the prize file (we'll keep the max prize):\n",
      "11:06:14 - OI2: INFO - []\n",
      "11:06:14 - OI2: INFO - Members of the prize file not present in the interactome:\n",
      "11:06:14 - OI2: INFO - ['CH25H', 'CNFN', 'GBP4', 'INSL4', 'KIF12', 'NUDT8', 'SAMD11', 'ST6GAL2', 'STC1', 'TMEM158', 'TMEM238']\n"
     ]
    },
    {
     "name": "stdout",
     "output_type": "stream",
     "text": [
      "Progress= 0.57\n"
     ]
    },
    {
     "name": "stderr",
     "output_type": "stream",
     "text": [
      "11:06:15 - OI2: INFO - Duplicated gene symbols in the prize file (we'll keep the max prize):\n",
      "11:06:15 - OI2: INFO - []\n",
      "11:06:15 - OI2: INFO - Members of the prize file not present in the interactome:\n",
      "11:06:15 - OI2: INFO - ['CH25H', 'CNFN', 'GBP4', 'INSL4', 'KIF12', 'NUDT8', 'SAMD11', 'ST6GAL2', 'STC1', 'TMEM158', 'TMEM238']\n"
     ]
    },
    {
     "name": "stdout",
     "output_type": "stream",
     "text": [
      "Progress= 0.58\n"
     ]
    },
    {
     "name": "stderr",
     "output_type": "stream",
     "text": [
      "11:06:17 - OI2: INFO - Duplicated gene symbols in the prize file (we'll keep the max prize):\n",
      "11:06:17 - OI2: INFO - []\n",
      "11:06:17 - OI2: INFO - Members of the prize file not present in the interactome:\n",
      "11:06:17 - OI2: INFO - ['CH25H', 'CNFN', 'GBP4', 'INSL4', 'KIF12', 'NUDT8', 'SAMD11', 'ST6GAL2', 'STC1', 'TMEM158', 'TMEM238']\n"
     ]
    },
    {
     "name": "stdout",
     "output_type": "stream",
     "text": [
      "Progress= 0.59\n"
     ]
    },
    {
     "name": "stderr",
     "output_type": "stream",
     "text": [
      "11:06:18 - OI2: INFO - Duplicated gene symbols in the prize file (we'll keep the max prize):\n",
      "11:06:18 - OI2: INFO - []\n",
      "11:06:18 - OI2: INFO - Members of the prize file not present in the interactome:\n",
      "11:06:18 - OI2: INFO - ['CH25H', 'CNFN', 'GBP4', 'INSL4', 'KIF12', 'NUDT8', 'SAMD11', 'ST6GAL2', 'STC1', 'TMEM158', 'TMEM238']\n"
     ]
    },
    {
     "name": "stdout",
     "output_type": "stream",
     "text": [
      "Progress= 0.6\n"
     ]
    },
    {
     "name": "stderr",
     "output_type": "stream",
     "text": [
      "11:06:19 - OI2: INFO - Duplicated gene symbols in the prize file (we'll keep the max prize):\n",
      "11:06:19 - OI2: INFO - []\n",
      "11:06:19 - OI2: INFO - Members of the prize file not present in the interactome:\n",
      "11:06:19 - OI2: INFO - ['CH25H', 'CNFN', 'GBP4', 'INSL4', 'KIF12', 'NUDT8', 'SAMD11', 'ST6GAL2', 'STC1', 'TMEM158', 'TMEM238']\n"
     ]
    },
    {
     "name": "stdout",
     "output_type": "stream",
     "text": [
      "Progress= 0.61\n"
     ]
    },
    {
     "name": "stderr",
     "output_type": "stream",
     "text": [
      "11:06:21 - OI2: INFO - Duplicated gene symbols in the prize file (we'll keep the max prize):\n",
      "11:06:21 - OI2: INFO - []\n",
      "11:06:21 - OI2: INFO - Members of the prize file not present in the interactome:\n",
      "11:06:21 - OI2: INFO - ['CH25H', 'CNFN', 'GBP4', 'INSL4', 'KIF12', 'NUDT8', 'SAMD11', 'ST6GAL2', 'STC1', 'TMEM158', 'TMEM238']\n"
     ]
    },
    {
     "name": "stdout",
     "output_type": "stream",
     "text": [
      "Progress= 0.62\n"
     ]
    },
    {
     "name": "stderr",
     "output_type": "stream",
     "text": [
      "11:06:22 - OI2: INFO - Duplicated gene symbols in the prize file (we'll keep the max prize):\n",
      "11:06:22 - OI2: INFO - []\n",
      "11:06:22 - OI2: INFO - Members of the prize file not present in the interactome:\n",
      "11:06:22 - OI2: INFO - ['CH25H', 'CNFN', 'GBP4', 'INSL4', 'KIF12', 'NUDT8', 'SAMD11', 'ST6GAL2', 'STC1', 'TMEM158', 'TMEM238']\n"
     ]
    },
    {
     "name": "stdout",
     "output_type": "stream",
     "text": [
      "Progress= 0.63\n"
     ]
    },
    {
     "name": "stderr",
     "output_type": "stream",
     "text": [
      "11:06:23 - OI2: INFO - Duplicated gene symbols in the prize file (we'll keep the max prize):\n",
      "11:06:23 - OI2: INFO - []\n",
      "11:06:23 - OI2: INFO - Members of the prize file not present in the interactome:\n",
      "11:06:23 - OI2: INFO - ['CH25H', 'CNFN', 'GBP4', 'INSL4', 'KIF12', 'NUDT8', 'SAMD11', 'ST6GAL2', 'STC1', 'TMEM158', 'TMEM238']\n"
     ]
    },
    {
     "name": "stdout",
     "output_type": "stream",
     "text": [
      "Progress= 0.64\n"
     ]
    },
    {
     "name": "stderr",
     "output_type": "stream",
     "text": [
      "11:06:25 - OI2: INFO - Duplicated gene symbols in the prize file (we'll keep the max prize):\n",
      "11:06:25 - OI2: INFO - []\n",
      "11:06:25 - OI2: INFO - Members of the prize file not present in the interactome:\n",
      "11:06:25 - OI2: INFO - ['CH25H', 'CNFN', 'GBP4', 'INSL4', 'KIF12', 'NUDT8', 'SAMD11', 'ST6GAL2', 'STC1', 'TMEM158', 'TMEM238']\n"
     ]
    },
    {
     "name": "stdout",
     "output_type": "stream",
     "text": [
      "Progress= 0.65\n"
     ]
    },
    {
     "name": "stderr",
     "output_type": "stream",
     "text": [
      "11:06:26 - OI2: INFO - Duplicated gene symbols in the prize file (we'll keep the max prize):\n",
      "11:06:26 - OI2: INFO - []\n",
      "11:06:26 - OI2: INFO - Members of the prize file not present in the interactome:\n",
      "11:06:26 - OI2: INFO - ['CH25H', 'CNFN', 'GBP4', 'INSL4', 'KIF12', 'NUDT8', 'SAMD11', 'ST6GAL2', 'STC1', 'TMEM158', 'TMEM238']\n"
     ]
    },
    {
     "name": "stdout",
     "output_type": "stream",
     "text": [
      "Progress= 0.66\n"
     ]
    },
    {
     "name": "stderr",
     "output_type": "stream",
     "text": [
      "11:06:27 - OI2: INFO - Duplicated gene symbols in the prize file (we'll keep the max prize):\n",
      "11:06:27 - OI2: INFO - []\n",
      "11:06:27 - OI2: INFO - Members of the prize file not present in the interactome:\n",
      "11:06:27 - OI2: INFO - ['CH25H', 'CNFN', 'GBP4', 'INSL4', 'KIF12', 'NUDT8', 'SAMD11', 'ST6GAL2', 'STC1', 'TMEM158', 'TMEM238']\n"
     ]
    },
    {
     "name": "stdout",
     "output_type": "stream",
     "text": [
      "Progress= 0.67\n"
     ]
    },
    {
     "name": "stderr",
     "output_type": "stream",
     "text": [
      "11:06:29 - OI2: INFO - Duplicated gene symbols in the prize file (we'll keep the max prize):\n",
      "11:06:29 - OI2: INFO - []\n",
      "11:06:29 - OI2: INFO - Members of the prize file not present in the interactome:\n",
      "11:06:29 - OI2: INFO - ['CH25H', 'CNFN', 'GBP4', 'INSL4', 'KIF12', 'NUDT8', 'SAMD11', 'ST6GAL2', 'STC1', 'TMEM158', 'TMEM238']\n"
     ]
    },
    {
     "name": "stdout",
     "output_type": "stream",
     "text": [
      "Progress= 0.68\n"
     ]
    },
    {
     "name": "stderr",
     "output_type": "stream",
     "text": [
      "11:06:30 - OI2: INFO - Duplicated gene symbols in the prize file (we'll keep the max prize):\n",
      "11:06:30 - OI2: INFO - []\n",
      "11:06:30 - OI2: INFO - Members of the prize file not present in the interactome:\n",
      "11:06:30 - OI2: INFO - ['CH25H', 'CNFN', 'GBP4', 'INSL4', 'KIF12', 'NUDT8', 'SAMD11', 'ST6GAL2', 'STC1', 'TMEM158', 'TMEM238']\n"
     ]
    },
    {
     "name": "stdout",
     "output_type": "stream",
     "text": [
      "Progress= 0.69\n"
     ]
    },
    {
     "name": "stderr",
     "output_type": "stream",
     "text": [
      "11:06:31 - OI2: INFO - Duplicated gene symbols in the prize file (we'll keep the max prize):\n",
      "11:06:31 - OI2: INFO - []\n",
      "11:06:31 - OI2: INFO - Members of the prize file not present in the interactome:\n",
      "11:06:31 - OI2: INFO - ['CH25H', 'CNFN', 'GBP4', 'INSL4', 'KIF12', 'NUDT8', 'SAMD11', 'ST6GAL2', 'STC1', 'TMEM158', 'TMEM238']\n"
     ]
    },
    {
     "name": "stdout",
     "output_type": "stream",
     "text": [
      "Progress= 0.7\n"
     ]
    },
    {
     "name": "stderr",
     "output_type": "stream",
     "text": [
      "11:06:33 - OI2: INFO - Duplicated gene symbols in the prize file (we'll keep the max prize):\n",
      "11:06:33 - OI2: INFO - []\n",
      "11:06:33 - OI2: INFO - Members of the prize file not present in the interactome:\n",
      "11:06:33 - OI2: INFO - ['CH25H', 'CNFN', 'GBP4', 'INSL4', 'KIF12', 'NUDT8', 'SAMD11', 'ST6GAL2', 'STC1', 'TMEM158', 'TMEM238']\n"
     ]
    },
    {
     "name": "stdout",
     "output_type": "stream",
     "text": [
      "Progress= 0.71\n"
     ]
    },
    {
     "name": "stderr",
     "output_type": "stream",
     "text": [
      "11:06:34 - OI2: INFO - Duplicated gene symbols in the prize file (we'll keep the max prize):\n",
      "11:06:34 - OI2: INFO - []\n",
      "11:06:34 - OI2: INFO - Members of the prize file not present in the interactome:\n",
      "11:06:34 - OI2: INFO - ['CH25H', 'CNFN', 'GBP4', 'INSL4', 'KIF12', 'NUDT8', 'SAMD11', 'ST6GAL2', 'STC1', 'TMEM158', 'TMEM238']\n"
     ]
    },
    {
     "name": "stdout",
     "output_type": "stream",
     "text": [
      "Progress= 0.72\n"
     ]
    },
    {
     "name": "stderr",
     "output_type": "stream",
     "text": [
      "11:06:36 - OI2: INFO - Duplicated gene symbols in the prize file (we'll keep the max prize):\n",
      "11:06:36 - OI2: INFO - []\n",
      "11:06:36 - OI2: INFO - Members of the prize file not present in the interactome:\n",
      "11:06:36 - OI2: INFO - ['CH25H', 'CNFN', 'GBP4', 'INSL4', 'KIF12', 'NUDT8', 'SAMD11', 'ST6GAL2', 'STC1', 'TMEM158', 'TMEM238']\n"
     ]
    },
    {
     "name": "stdout",
     "output_type": "stream",
     "text": [
      "Progress= 0.73\n"
     ]
    },
    {
     "name": "stderr",
     "output_type": "stream",
     "text": [
      "11:06:37 - OI2: INFO - Duplicated gene symbols in the prize file (we'll keep the max prize):\n",
      "11:06:37 - OI2: INFO - []\n",
      "11:06:37 - OI2: INFO - Members of the prize file not present in the interactome:\n",
      "11:06:37 - OI2: INFO - ['CH25H', 'CNFN', 'GBP4', 'INSL4', 'KIF12', 'NUDT8', 'SAMD11', 'ST6GAL2', 'STC1', 'TMEM158', 'TMEM238']\n"
     ]
    },
    {
     "name": "stdout",
     "output_type": "stream",
     "text": [
      "Progress= 0.74\n"
     ]
    },
    {
     "name": "stderr",
     "output_type": "stream",
     "text": [
      "11:06:38 - OI2: INFO - Duplicated gene symbols in the prize file (we'll keep the max prize):\n",
      "11:06:38 - OI2: INFO - []\n",
      "11:06:38 - OI2: INFO - Members of the prize file not present in the interactome:\n",
      "11:06:38 - OI2: INFO - ['CH25H', 'CNFN', 'GBP4', 'INSL4', 'KIF12', 'NUDT8', 'SAMD11', 'ST6GAL2', 'STC1', 'TMEM158', 'TMEM238']\n"
     ]
    },
    {
     "name": "stdout",
     "output_type": "stream",
     "text": [
      "Progress= 0.75\n"
     ]
    },
    {
     "name": "stderr",
     "output_type": "stream",
     "text": [
      "11:06:40 - OI2: INFO - Duplicated gene symbols in the prize file (we'll keep the max prize):\n",
      "11:06:40 - OI2: INFO - []\n",
      "11:06:40 - OI2: INFO - Members of the prize file not present in the interactome:\n",
      "11:06:40 - OI2: INFO - ['CH25H', 'CNFN', 'GBP4', 'INSL4', 'KIF12', 'NUDT8', 'SAMD11', 'ST6GAL2', 'STC1', 'TMEM158', 'TMEM238']\n"
     ]
    },
    {
     "name": "stdout",
     "output_type": "stream",
     "text": [
      "Progress= 0.76\n"
     ]
    },
    {
     "name": "stderr",
     "output_type": "stream",
     "text": [
      "11:06:41 - OI2: INFO - Duplicated gene symbols in the prize file (we'll keep the max prize):\n",
      "11:06:41 - OI2: INFO - []\n",
      "11:06:41 - OI2: INFO - Members of the prize file not present in the interactome:\n",
      "11:06:41 - OI2: INFO - ['CH25H', 'CNFN', 'GBP4', 'INSL4', 'KIF12', 'NUDT8', 'SAMD11', 'ST6GAL2', 'STC1', 'TMEM158', 'TMEM238']\n"
     ]
    },
    {
     "name": "stdout",
     "output_type": "stream",
     "text": [
      "Progress= 0.77\n"
     ]
    },
    {
     "name": "stderr",
     "output_type": "stream",
     "text": [
      "11:06:42 - OI2: INFO - Duplicated gene symbols in the prize file (we'll keep the max prize):\n",
      "11:06:42 - OI2: INFO - []\n",
      "11:06:42 - OI2: INFO - Members of the prize file not present in the interactome:\n",
      "11:06:42 - OI2: INFO - ['CH25H', 'CNFN', 'GBP4', 'INSL4', 'KIF12', 'NUDT8', 'SAMD11', 'ST6GAL2', 'STC1', 'TMEM158', 'TMEM238']\n"
     ]
    },
    {
     "name": "stdout",
     "output_type": "stream",
     "text": [
      "Progress= 0.78\n"
     ]
    },
    {
     "name": "stderr",
     "output_type": "stream",
     "text": [
      "11:06:44 - OI2: INFO - Duplicated gene symbols in the prize file (we'll keep the max prize):\n",
      "11:06:44 - OI2: INFO - []\n",
      "11:06:44 - OI2: INFO - Members of the prize file not present in the interactome:\n",
      "11:06:44 - OI2: INFO - ['CH25H', 'CNFN', 'GBP4', 'INSL4', 'KIF12', 'NUDT8', 'SAMD11', 'ST6GAL2', 'STC1', 'TMEM158', 'TMEM238']\n"
     ]
    },
    {
     "name": "stdout",
     "output_type": "stream",
     "text": [
      "Progress= 0.79\n"
     ]
    },
    {
     "name": "stderr",
     "output_type": "stream",
     "text": [
      "11:06:45 - OI2: INFO - Duplicated gene symbols in the prize file (we'll keep the max prize):\n",
      "11:06:45 - OI2: INFO - []\n",
      "11:06:45 - OI2: INFO - Members of the prize file not present in the interactome:\n",
      "11:06:45 - OI2: INFO - ['CH25H', 'CNFN', 'GBP4', 'INSL4', 'KIF12', 'NUDT8', 'SAMD11', 'ST6GAL2', 'STC1', 'TMEM158', 'TMEM238']\n"
     ]
    },
    {
     "name": "stdout",
     "output_type": "stream",
     "text": [
      "Progress= 0.8\n"
     ]
    },
    {
     "name": "stderr",
     "output_type": "stream",
     "text": [
      "11:06:46 - OI2: INFO - Duplicated gene symbols in the prize file (we'll keep the max prize):\n",
      "11:06:46 - OI2: INFO - []\n",
      "11:06:46 - OI2: INFO - Members of the prize file not present in the interactome:\n",
      "11:06:46 - OI2: INFO - ['CH25H', 'CNFN', 'GBP4', 'INSL4', 'KIF12', 'NUDT8', 'SAMD11', 'ST6GAL2', 'STC1', 'TMEM158', 'TMEM238']\n"
     ]
    },
    {
     "name": "stdout",
     "output_type": "stream",
     "text": [
      "Progress= 0.81\n"
     ]
    },
    {
     "name": "stderr",
     "output_type": "stream",
     "text": [
      "11:06:48 - OI2: INFO - Duplicated gene symbols in the prize file (we'll keep the max prize):\n",
      "11:06:48 - OI2: INFO - []\n",
      "11:06:48 - OI2: INFO - Members of the prize file not present in the interactome:\n",
      "11:06:48 - OI2: INFO - ['CH25H', 'CNFN', 'GBP4', 'INSL4', 'KIF12', 'NUDT8', 'SAMD11', 'ST6GAL2', 'STC1', 'TMEM158', 'TMEM238']\n"
     ]
    },
    {
     "name": "stdout",
     "output_type": "stream",
     "text": [
      "Progress= 0.82\n"
     ]
    },
    {
     "name": "stderr",
     "output_type": "stream",
     "text": [
      "11:06:49 - OI2: INFO - Duplicated gene symbols in the prize file (we'll keep the max prize):\n",
      "11:06:49 - OI2: INFO - []\n",
      "11:06:49 - OI2: INFO - Members of the prize file not present in the interactome:\n",
      "11:06:49 - OI2: INFO - ['CH25H', 'CNFN', 'GBP4', 'INSL4', 'KIF12', 'NUDT8', 'SAMD11', 'ST6GAL2', 'STC1', 'TMEM158', 'TMEM238']\n"
     ]
    },
    {
     "name": "stdout",
     "output_type": "stream",
     "text": [
      "Progress= 0.83\n"
     ]
    },
    {
     "name": "stderr",
     "output_type": "stream",
     "text": [
      "11:06:50 - OI2: INFO - Duplicated gene symbols in the prize file (we'll keep the max prize):\n",
      "11:06:50 - OI2: INFO - []\n",
      "11:06:50 - OI2: INFO - Members of the prize file not present in the interactome:\n",
      "11:06:50 - OI2: INFO - ['CH25H', 'CNFN', 'GBP4', 'INSL4', 'KIF12', 'NUDT8', 'SAMD11', 'ST6GAL2', 'STC1', 'TMEM158', 'TMEM238']\n"
     ]
    },
    {
     "name": "stdout",
     "output_type": "stream",
     "text": [
      "Progress= 0.84\n"
     ]
    },
    {
     "name": "stderr",
     "output_type": "stream",
     "text": [
      "11:06:52 - OI2: INFO - Duplicated gene symbols in the prize file (we'll keep the max prize):\n",
      "11:06:52 - OI2: INFO - []\n",
      "11:06:52 - OI2: INFO - Members of the prize file not present in the interactome:\n",
      "11:06:52 - OI2: INFO - ['CH25H', 'CNFN', 'GBP4', 'INSL4', 'KIF12', 'NUDT8', 'SAMD11', 'ST6GAL2', 'STC1', 'TMEM158', 'TMEM238']\n"
     ]
    },
    {
     "name": "stdout",
     "output_type": "stream",
     "text": [
      "Progress= 0.85\n"
     ]
    },
    {
     "name": "stderr",
     "output_type": "stream",
     "text": [
      "11:06:53 - OI2: INFO - Duplicated gene symbols in the prize file (we'll keep the max prize):\n",
      "11:06:53 - OI2: INFO - []\n",
      "11:06:53 - OI2: INFO - Members of the prize file not present in the interactome:\n",
      "11:06:53 - OI2: INFO - ['CH25H', 'CNFN', 'GBP4', 'INSL4', 'KIF12', 'NUDT8', 'SAMD11', 'ST6GAL2', 'STC1', 'TMEM158', 'TMEM238']\n"
     ]
    },
    {
     "name": "stdout",
     "output_type": "stream",
     "text": [
      "Progress= 0.86\n"
     ]
    },
    {
     "name": "stderr",
     "output_type": "stream",
     "text": [
      "11:06:54 - OI2: INFO - Duplicated gene symbols in the prize file (we'll keep the max prize):\n",
      "11:06:54 - OI2: INFO - []\n",
      "11:06:54 - OI2: INFO - Members of the prize file not present in the interactome:\n",
      "11:06:54 - OI2: INFO - ['CH25H', 'CNFN', 'GBP4', 'INSL4', 'KIF12', 'NUDT8', 'SAMD11', 'ST6GAL2', 'STC1', 'TMEM158', 'TMEM238']\n"
     ]
    },
    {
     "name": "stdout",
     "output_type": "stream",
     "text": [
      "Progress= 0.87\n"
     ]
    },
    {
     "name": "stderr",
     "output_type": "stream",
     "text": [
      "11:06:56 - OI2: INFO - Duplicated gene symbols in the prize file (we'll keep the max prize):\n",
      "11:06:56 - OI2: INFO - []\n",
      "11:06:56 - OI2: INFO - Members of the prize file not present in the interactome:\n",
      "11:06:56 - OI2: INFO - ['CH25H', 'CNFN', 'GBP4', 'INSL4', 'KIF12', 'NUDT8', 'SAMD11', 'ST6GAL2', 'STC1', 'TMEM158', 'TMEM238']\n"
     ]
    },
    {
     "name": "stdout",
     "output_type": "stream",
     "text": [
      "Progress= 0.88\n"
     ]
    },
    {
     "name": "stderr",
     "output_type": "stream",
     "text": [
      "11:06:57 - OI2: INFO - Duplicated gene symbols in the prize file (we'll keep the max prize):\n",
      "11:06:57 - OI2: INFO - []\n",
      "11:06:57 - OI2: INFO - Members of the prize file not present in the interactome:\n",
      "11:06:57 - OI2: INFO - ['CH25H', 'CNFN', 'GBP4', 'INSL4', 'KIF12', 'NUDT8', 'SAMD11', 'ST6GAL2', 'STC1', 'TMEM158', 'TMEM238']\n"
     ]
    },
    {
     "name": "stdout",
     "output_type": "stream",
     "text": [
      "Progress= 0.89\n"
     ]
    },
    {
     "name": "stderr",
     "output_type": "stream",
     "text": [
      "11:06:58 - OI2: INFO - Duplicated gene symbols in the prize file (we'll keep the max prize):\n",
      "11:06:58 - OI2: INFO - []\n",
      "11:06:58 - OI2: INFO - Members of the prize file not present in the interactome:\n",
      "11:06:58 - OI2: INFO - ['CH25H', 'CNFN', 'GBP4', 'INSL4', 'KIF12', 'NUDT8', 'SAMD11', 'ST6GAL2', 'STC1', 'TMEM158', 'TMEM238']\n"
     ]
    },
    {
     "name": "stdout",
     "output_type": "stream",
     "text": [
      "Progress= 0.9\n"
     ]
    },
    {
     "name": "stderr",
     "output_type": "stream",
     "text": [
      "11:07:00 - OI2: INFO - Duplicated gene symbols in the prize file (we'll keep the max prize):\n",
      "11:07:00 - OI2: INFO - []\n",
      "11:07:00 - OI2: INFO - Members of the prize file not present in the interactome:\n",
      "11:07:00 - OI2: INFO - ['CH25H', 'CNFN', 'GBP4', 'INSL4', 'KIF12', 'NUDT8', 'SAMD11', 'ST6GAL2', 'STC1', 'TMEM158', 'TMEM238']\n"
     ]
    },
    {
     "name": "stdout",
     "output_type": "stream",
     "text": [
      "Progress= 0.91\n"
     ]
    },
    {
     "name": "stderr",
     "output_type": "stream",
     "text": [
      "11:07:01 - OI2: INFO - Duplicated gene symbols in the prize file (we'll keep the max prize):\n",
      "11:07:01 - OI2: INFO - []\n",
      "11:07:01 - OI2: INFO - Members of the prize file not present in the interactome:\n",
      "11:07:01 - OI2: INFO - ['CH25H', 'CNFN', 'GBP4', 'INSL4', 'KIF12', 'NUDT8', 'SAMD11', 'ST6GAL2', 'STC1', 'TMEM158', 'TMEM238']\n"
     ]
    },
    {
     "name": "stdout",
     "output_type": "stream",
     "text": [
      "Progress= 0.92\n"
     ]
    },
    {
     "name": "stderr",
     "output_type": "stream",
     "text": [
      "11:07:02 - OI2: INFO - Duplicated gene symbols in the prize file (we'll keep the max prize):\n",
      "11:07:02 - OI2: INFO - []\n",
      "11:07:02 - OI2: INFO - Members of the prize file not present in the interactome:\n",
      "11:07:02 - OI2: INFO - ['CH25H', 'CNFN', 'GBP4', 'INSL4', 'KIF12', 'NUDT8', 'SAMD11', 'ST6GAL2', 'STC1', 'TMEM158', 'TMEM238']\n"
     ]
    },
    {
     "name": "stdout",
     "output_type": "stream",
     "text": [
      "Progress= 0.93\n"
     ]
    },
    {
     "name": "stderr",
     "output_type": "stream",
     "text": [
      "11:07:04 - OI2: INFO - Duplicated gene symbols in the prize file (we'll keep the max prize):\n",
      "11:07:04 - OI2: INFO - []\n",
      "11:07:04 - OI2: INFO - Members of the prize file not present in the interactome:\n",
      "11:07:04 - OI2: INFO - ['CH25H', 'CNFN', 'GBP4', 'INSL4', 'KIF12', 'NUDT8', 'SAMD11', 'ST6GAL2', 'STC1', 'TMEM158', 'TMEM238']\n"
     ]
    },
    {
     "name": "stdout",
     "output_type": "stream",
     "text": [
      "Progress= 0.94\n"
     ]
    },
    {
     "name": "stderr",
     "output_type": "stream",
     "text": [
      "11:07:05 - OI2: INFO - Duplicated gene symbols in the prize file (we'll keep the max prize):\n",
      "11:07:05 - OI2: INFO - []\n",
      "11:07:05 - OI2: INFO - Members of the prize file not present in the interactome:\n",
      "11:07:05 - OI2: INFO - ['CH25H', 'CNFN', 'GBP4', 'INSL4', 'KIF12', 'NUDT8', 'SAMD11', 'ST6GAL2', 'STC1', 'TMEM158', 'TMEM238']\n"
     ]
    },
    {
     "name": "stdout",
     "output_type": "stream",
     "text": [
      "Progress= 0.95\n"
     ]
    },
    {
     "name": "stderr",
     "output_type": "stream",
     "text": [
      "11:07:06 - OI2: INFO - Duplicated gene symbols in the prize file (we'll keep the max prize):\n",
      "11:07:06 - OI2: INFO - []\n",
      "11:07:06 - OI2: INFO - Members of the prize file not present in the interactome:\n",
      "11:07:06 - OI2: INFO - ['CH25H', 'CNFN', 'GBP4', 'INSL4', 'KIF12', 'NUDT8', 'SAMD11', 'ST6GAL2', 'STC1', 'TMEM158', 'TMEM238']\n"
     ]
    },
    {
     "name": "stdout",
     "output_type": "stream",
     "text": [
      "Progress= 0.96\n"
     ]
    },
    {
     "name": "stderr",
     "output_type": "stream",
     "text": [
      "11:07:08 - OI2: INFO - Duplicated gene symbols in the prize file (we'll keep the max prize):\n",
      "11:07:08 - OI2: INFO - []\n",
      "11:07:08 - OI2: INFO - Members of the prize file not present in the interactome:\n",
      "11:07:08 - OI2: INFO - ['CH25H', 'CNFN', 'GBP4', 'INSL4', 'KIF12', 'NUDT8', 'SAMD11', 'ST6GAL2', 'STC1', 'TMEM158', 'TMEM238']\n"
     ]
    },
    {
     "name": "stdout",
     "output_type": "stream",
     "text": [
      "Progress= 0.97\n"
     ]
    },
    {
     "name": "stderr",
     "output_type": "stream",
     "text": [
      "11:07:09 - OI2: INFO - Duplicated gene symbols in the prize file (we'll keep the max prize):\n",
      "11:07:09 - OI2: INFO - []\n",
      "11:07:09 - OI2: INFO - Members of the prize file not present in the interactome:\n",
      "11:07:09 - OI2: INFO - ['CH25H', 'CNFN', 'GBP4', 'INSL4', 'KIF12', 'NUDT8', 'SAMD11', 'ST6GAL2', 'STC1', 'TMEM158', 'TMEM238']\n"
     ]
    },
    {
     "name": "stdout",
     "output_type": "stream",
     "text": [
      "Progress= 0.98\n"
     ]
    },
    {
     "name": "stderr",
     "output_type": "stream",
     "text": [
      "11:07:10 - OI2: INFO - Duplicated gene symbols in the prize file (we'll keep the max prize):\n",
      "11:07:10 - OI2: INFO - []\n",
      "11:07:10 - OI2: INFO - Members of the prize file not present in the interactome:\n",
      "11:07:10 - OI2: INFO - ['CH25H', 'CNFN', 'GBP4', 'INSL4', 'KIF12', 'NUDT8', 'SAMD11', 'ST6GAL2', 'STC1', 'TMEM158', 'TMEM238']\n"
     ]
    },
    {
     "name": "stdout",
     "output_type": "stream",
     "text": [
      "Progress= 0.99\n"
     ]
    },
    {
     "name": "stderr",
     "output_type": "stream",
     "text": [
      "11:07:12 - OI2: INFO - Duplicated gene symbols in the prize file (we'll keep the max prize):\n",
      "11:07:12 - OI2: INFO - []\n",
      "11:07:12 - OI2: INFO - Members of the prize file not present in the interactome:\n",
      "11:07:12 - OI2: INFO - ['CH25H', 'CNFN', 'GBP4', 'INSL4', 'KIF12', 'NUDT8', 'SAMD11', 'ST6GAL2', 'STC1', 'TMEM158', 'TMEM238']\n"
     ]
    },
    {
     "name": "stdout",
     "output_type": "stream",
     "text": [
      "Progress= 1.0\n"
     ]
    }
   ],
   "source": [
    "# Run sensitivity analysis\n",
    "networks_dict = sensitivity.run_sensitivity_analysis(interactome_file_name, \n",
    "                                                     prize_file_name, \n",
    "                                                     graph_params, \n",
    "                                                     W_list, \n",
    "                                                     B_list, \n",
    "                                                     G=0)"
   ]
  },
  {
   "cell_type": "code",
   "execution_count": 27,
   "metadata": {},
   "outputs": [],
   "source": [
    "# Save as pickle\n",
    "with open(\"../Save_rsv/networks_dict.pkl\", \"wb\") as f: \n",
    "    pickle.dump(networks_dict, f)"
   ]
  },
  {
   "cell_type": "code",
   "execution_count": 29,
   "metadata": {},
   "outputs": [],
   "source": [
    "# Add metatadata\n",
    "networks_dict = pickle.load(open(\"../Save_rsv/networks_dict.pkl\", \"rb\"))\n",
    "networks_dict = sensitivity.add_metadata(networks_dict, virus_interacting_genes)"
   ]
  },
  {
   "cell_type": "code",
   "execution_count": 30,
   "metadata": {},
   "outputs": [
    {
     "data": {
      "text/html": [
       "<div>\n",
       "<style scoped>\n",
       "    .dataframe tbody tr th:only-of-type {\n",
       "        vertical-align: middle;\n",
       "    }\n",
       "\n",
       "    .dataframe tbody tr th {\n",
       "        vertical-align: top;\n",
       "    }\n",
       "\n",
       "    .dataframe thead th {\n",
       "        text-align: right;\n",
       "    }\n",
       "</style>\n",
       "<table border=\"1\" class=\"dataframe\">\n",
       "  <thead>\n",
       "    <tr style=\"text-align: right;\">\n",
       "      <th></th>\n",
       "      <th>index</th>\n",
       "      <th>w</th>\n",
       "      <th>b</th>\n",
       "      <th>g</th>\n",
       "      <th>nodes</th>\n",
       "      <th>edges</th>\n",
       "      <th>number_components</th>\n",
       "      <th>size_components</th>\n",
       "      <th>percentage_terminals</th>\n",
       "      <th>upregulated_terminals</th>\n",
       "      <th>downregulated_terminals</th>\n",
       "      <th>number_transcription_regulators</th>\n",
       "      <th>transcription_regulators</th>\n",
       "      <th>number_of_proteins_interacting_sars</th>\n",
       "      <th>proteins_interacting_sars</th>\n",
       "    </tr>\n",
       "  </thead>\n",
       "  <tbody>\n",
       "    <tr>\n",
       "      <th>w_0.2_b_10.0</th>\n",
       "      <td>1</td>\n",
       "      <td>0.2</td>\n",
       "      <td>10.0</td>\n",
       "      <td>0</td>\n",
       "      <td>162</td>\n",
       "      <td>234</td>\n",
       "      <td>39</td>\n",
       "      <td>[124, 1, 1, 1, 1, 1, 1, 1, 1, 1, 1, 1, 1, 1, 1...</td>\n",
       "      <td>0.926667</td>\n",
       "      <td>101</td>\n",
       "      <td>38</td>\n",
       "      <td>6</td>\n",
       "      <td>[BATF2, MAFF, MAX, MXD1, MXD3, SPDEF]</td>\n",
       "      <td>2</td>\n",
       "      <td>[PLOD2, STC2]</td>\n",
       "    </tr>\n",
       "    <tr>\n",
       "      <th>w_0.2_b_15.0</th>\n",
       "      <td>2</td>\n",
       "      <td>0.2</td>\n",
       "      <td>15.0</td>\n",
       "      <td>0</td>\n",
       "      <td>162</td>\n",
       "      <td>234</td>\n",
       "      <td>39</td>\n",
       "      <td>[124, 1, 1, 1, 1, 1, 1, 1, 1, 1, 1, 1, 1, 1, 1...</td>\n",
       "      <td>0.926667</td>\n",
       "      <td>101</td>\n",
       "      <td>38</td>\n",
       "      <td>6</td>\n",
       "      <td>[BATF2, MAFF, MAX, MXD1, MXD3, SPDEF]</td>\n",
       "      <td>2</td>\n",
       "      <td>[PLOD2, STC2]</td>\n",
       "    </tr>\n",
       "    <tr>\n",
       "      <th>w_0.2_b_20.0</th>\n",
       "      <td>3</td>\n",
       "      <td>0.2</td>\n",
       "      <td>20.0</td>\n",
       "      <td>0</td>\n",
       "      <td>162</td>\n",
       "      <td>234</td>\n",
       "      <td>39</td>\n",
       "      <td>[124, 1, 1, 1, 1, 1, 1, 1, 1, 1, 1, 1, 1, 1, 1...</td>\n",
       "      <td>0.926667</td>\n",
       "      <td>101</td>\n",
       "      <td>38</td>\n",
       "      <td>6</td>\n",
       "      <td>[BATF2, MAFF, MAX, MXD1, MXD3, SPDEF]</td>\n",
       "      <td>2</td>\n",
       "      <td>[PLOD2, STC2]</td>\n",
       "    </tr>\n",
       "    <tr>\n",
       "      <th>w_0.2_b_25.0</th>\n",
       "      <td>4</td>\n",
       "      <td>0.2</td>\n",
       "      <td>25.0</td>\n",
       "      <td>0</td>\n",
       "      <td>162</td>\n",
       "      <td>234</td>\n",
       "      <td>39</td>\n",
       "      <td>[124, 1, 1, 1, 1, 1, 1, 1, 1, 1, 1, 1, 1, 1, 1...</td>\n",
       "      <td>0.926667</td>\n",
       "      <td>101</td>\n",
       "      <td>38</td>\n",
       "      <td>6</td>\n",
       "      <td>[BATF2, MAFF, MAX, MXD1, MXD3, SPDEF]</td>\n",
       "      <td>2</td>\n",
       "      <td>[PLOD2, STC2]</td>\n",
       "    </tr>\n",
       "    <tr>\n",
       "      <th>w_0.2_b_30.0</th>\n",
       "      <td>5</td>\n",
       "      <td>0.2</td>\n",
       "      <td>30.0</td>\n",
       "      <td>0</td>\n",
       "      <td>162</td>\n",
       "      <td>234</td>\n",
       "      <td>39</td>\n",
       "      <td>[124, 1, 1, 1, 1, 1, 1, 1, 1, 1, 1, 1, 1, 1, 1...</td>\n",
       "      <td>0.926667</td>\n",
       "      <td>101</td>\n",
       "      <td>38</td>\n",
       "      <td>6</td>\n",
       "      <td>[BATF2, MAFF, MAX, MXD1, MXD3, SPDEF]</td>\n",
       "      <td>2</td>\n",
       "      <td>[PLOD2, STC2]</td>\n",
       "    </tr>\n",
       "  </tbody>\n",
       "</table>\n",
       "</div>"
      ],
      "text/plain": [
       "              index    w     b  g  nodes  edges  number_components  \\\n",
       "w_0.2_b_10.0      1  0.2  10.0  0    162    234                 39   \n",
       "w_0.2_b_15.0      2  0.2  15.0  0    162    234                 39   \n",
       "w_0.2_b_20.0      3  0.2  20.0  0    162    234                 39   \n",
       "w_0.2_b_25.0      4  0.2  25.0  0    162    234                 39   \n",
       "w_0.2_b_30.0      5  0.2  30.0  0    162    234                 39   \n",
       "\n",
       "                                                size_components  \\\n",
       "w_0.2_b_10.0  [124, 1, 1, 1, 1, 1, 1, 1, 1, 1, 1, 1, 1, 1, 1...   \n",
       "w_0.2_b_15.0  [124, 1, 1, 1, 1, 1, 1, 1, 1, 1, 1, 1, 1, 1, 1...   \n",
       "w_0.2_b_20.0  [124, 1, 1, 1, 1, 1, 1, 1, 1, 1, 1, 1, 1, 1, 1...   \n",
       "w_0.2_b_25.0  [124, 1, 1, 1, 1, 1, 1, 1, 1, 1, 1, 1, 1, 1, 1...   \n",
       "w_0.2_b_30.0  [124, 1, 1, 1, 1, 1, 1, 1, 1, 1, 1, 1, 1, 1, 1...   \n",
       "\n",
       "              percentage_terminals  upregulated_terminals  \\\n",
       "w_0.2_b_10.0              0.926667                    101   \n",
       "w_0.2_b_15.0              0.926667                    101   \n",
       "w_0.2_b_20.0              0.926667                    101   \n",
       "w_0.2_b_25.0              0.926667                    101   \n",
       "w_0.2_b_30.0              0.926667                    101   \n",
       "\n",
       "              downregulated_terminals  number_transcription_regulators  \\\n",
       "w_0.2_b_10.0                       38                                6   \n",
       "w_0.2_b_15.0                       38                                6   \n",
       "w_0.2_b_20.0                       38                                6   \n",
       "w_0.2_b_25.0                       38                                6   \n",
       "w_0.2_b_30.0                       38                                6   \n",
       "\n",
       "                           transcription_regulators  \\\n",
       "w_0.2_b_10.0  [BATF2, MAFF, MAX, MXD1, MXD3, SPDEF]   \n",
       "w_0.2_b_15.0  [BATF2, MAFF, MAX, MXD1, MXD3, SPDEF]   \n",
       "w_0.2_b_20.0  [BATF2, MAFF, MAX, MXD1, MXD3, SPDEF]   \n",
       "w_0.2_b_25.0  [BATF2, MAFF, MAX, MXD1, MXD3, SPDEF]   \n",
       "w_0.2_b_30.0  [BATF2, MAFF, MAX, MXD1, MXD3, SPDEF]   \n",
       "\n",
       "              number_of_proteins_interacting_sars proteins_interacting_sars  \n",
       "w_0.2_b_10.0                                    2             [PLOD2, STC2]  \n",
       "w_0.2_b_15.0                                    2             [PLOD2, STC2]  \n",
       "w_0.2_b_20.0                                    2             [PLOD2, STC2]  \n",
       "w_0.2_b_25.0                                    2             [PLOD2, STC2]  \n",
       "w_0.2_b_30.0                                    2             [PLOD2, STC2]  "
      ]
     },
     "execution_count": 30,
     "metadata": {},
     "output_type": "execute_result"
    }
   ],
   "source": [
    "# Make summary\n",
    "networks_summary_df = sensitivity.make_summary(networks_dict, n_terminals, g=0)\n",
    "networks_summary_df.head()"
   ]
  },
  {
   "cell_type": "markdown",
   "metadata": {},
   "source": [
    "## Plot node stability heatmaps"
   ]
  },
  {
   "cell_type": "code",
   "execution_count": 18,
   "metadata": {},
   "outputs": [
    {
     "data": {
      "text/plain": [
       "<Figure size 432x288 with 0 Axes>"
      ]
     },
     "metadata": {},
     "output_type": "display_data"
    },
    {
     "data": {
      "image/png": "[encoded data removed]",
      "text/plain": [
       "<Figure size 288x288 with 2 Axes>"
      ]
     },
     "metadata": {
      "needs_background": "light"
     },
     "output_type": "display_data"
    }
   ],
   "source": [
    "# Stability of selected nodes\n",
    "mat_allnodes = sensitivity.create_matrix_gene_overlap_between_networks(networks_summary_df, networks_dict)\n",
    "plt.figure()\n",
    "plt.matshow(mat_allnodes)\n",
    "plt.xlabel('networks')\n",
    "plt.ylabel('networks')\n",
    "plt.title('Nodes stability')\n",
    "plt.colorbar()\n",
    "plt.show()"
   ]
  },
  {
   "cell_type": "code",
   "execution_count": 19,
   "metadata": {},
   "outputs": [
    {
     "data": {
      "text/plain": [
       "<Figure size 432x288 with 0 Axes>"
      ]
     },
     "metadata": {},
     "output_type": "display_data"
    },
    {
     "data": {
      "image/png": "[encoded data removed]",
      "text/plain": [
       "<Figure size 288x288 with 2 Axes>"
      ]
     },
     "metadata": {
      "needs_background": "light"
     },
     "output_type": "display_data"
    }
   ],
   "source": [
    "# Stability of selected terminals\n",
    "mat_terminals = sensitivity.create_matrix_terminal_overlap_between_networks(networks_summary_df, networks_dict)\n",
    "plt.figure()\n",
    "plt.matshow(mat_terminals)\n",
    "plt.xlabel('networks')\n",
    "plt.ylabel('networks')\n",
    "plt.title('Terminals stability')\n",
    "plt.colorbar()\n",
    "plt.show()"
   ]
  },
  {
   "cell_type": "markdown",
   "metadata": {},
   "source": [
    "## Select robust parameters"
   ]
  },
  {
   "cell_type": "code",
   "execution_count": 31,
   "metadata": {},
   "outputs": [],
   "source": [
    "# Select network corresponding to g=0, w=1.4 and b=40\n",
    "index_selected = 67\n",
    "paramstring_selected = networks_summary_df[networks_summary_df['index']==index_selected].index[0]\n",
    "network_selected = networks_dict[paramstring_selected]"
   ]
  },
  {
   "cell_type": "code",
   "execution_count": 32,
   "metadata": {},
   "outputs": [
    {
     "data": {
      "text/plain": [
       "PosixPath('/home/louiscam/projects/sars_cov_2/Save_rsv/network_selected.pickle')"
      ]
     },
     "execution_count": 32,
     "metadata": {},
     "output_type": "execute_result"
    }
   ],
   "source": [
    "# Save selected network to file\n",
    "oi.output_networkx_graph_as_interactive_html(network_selected, filename=\"../Save_rsv/network_selected.html\")\n",
    "oi.output_networkx_graph_as_pickle(network_selected, filename= '../Save_rsv/network_selected.pickle')\n",
    "#oi.output_networkx_graph_as_graphml_for_cytoscape(robust_network, filename= '../Save_rsv/network_selected.graphml')"
   ]
  },
  {
   "cell_type": "code",
   "execution_count": 33,
   "metadata": {},
   "outputs": [
    {
     "data": {
      "text/html": [
       "<div>\n",
       "<style scoped>\n",
       "    .dataframe tbody tr th:only-of-type {\n",
       "        vertical-align: middle;\n",
       "    }\n",
       "\n",
       "    .dataframe tbody tr th {\n",
       "        vertical-align: top;\n",
       "    }\n",
       "\n",
       "    .dataframe thead th {\n",
       "        text-align: right;\n",
       "    }\n",
       "</style>\n",
       "<table border=\"1\" class=\"dataframe\">\n",
       "  <thead>\n",
       "    <tr style=\"text-align: right;\">\n",
       "      <th></th>\n",
       "      <th>index</th>\n",
       "      <th>w</th>\n",
       "      <th>b</th>\n",
       "      <th>g</th>\n",
       "      <th>nodes</th>\n",
       "      <th>edges</th>\n",
       "      <th>number_components</th>\n",
       "      <th>size_components</th>\n",
       "      <th>percentage_terminals</th>\n",
       "      <th>upregulated_terminals</th>\n",
       "      <th>downregulated_terminals</th>\n",
       "      <th>number_transcription_regulators</th>\n",
       "      <th>transcription_regulators</th>\n",
       "      <th>number_of_proteins_interacting_sars</th>\n",
       "      <th>proteins_interacting_sars</th>\n",
       "    </tr>\n",
       "  </thead>\n",
       "  <tbody>\n",
       "    <tr>\n",
       "      <th>w_1.4000000000000001_b_40.0</th>\n",
       "      <td>67</td>\n",
       "      <td>1.4000000000000001</td>\n",
       "      <td>40.0</td>\n",
       "      <td>0</td>\n",
       "      <td>234</td>\n",
       "      <td>871</td>\n",
       "      <td>1</td>\n",
       "      <td>[234]</td>\n",
       "      <td>0.926667</td>\n",
       "      <td>101</td>\n",
       "      <td>38</td>\n",
       "      <td>6</td>\n",
       "      <td>[BATF2, MAFF, MAX, MXD1, MXD3, SPDEF]</td>\n",
       "      <td>5</td>\n",
       "      <td>[IDE, ITGB1, PLOD2, RBX1, STC2]</td>\n",
       "    </tr>\n",
       "  </tbody>\n",
       "</table>\n",
       "</div>"
      ],
      "text/plain": [
       "                             index                   w     b  g  nodes  edges  \\\n",
       "w_1.4000000000000001_b_40.0     67  1.4000000000000001  40.0  0    234    871   \n",
       "\n",
       "                             number_components size_components  \\\n",
       "w_1.4000000000000001_b_40.0                  1           [234]   \n",
       "\n",
       "                             percentage_terminals  upregulated_terminals  \\\n",
       "w_1.4000000000000001_b_40.0              0.926667                    101   \n",
       "\n",
       "                             downregulated_terminals  \\\n",
       "w_1.4000000000000001_b_40.0                       38   \n",
       "\n",
       "                             number_transcription_regulators  \\\n",
       "w_1.4000000000000001_b_40.0                                6   \n",
       "\n",
       "                                          transcription_regulators  \\\n",
       "w_1.4000000000000001_b_40.0  [BATF2, MAFF, MAX, MXD1, MXD3, SPDEF]   \n",
       "\n",
       "                             number_of_proteins_interacting_sars  \\\n",
       "w_1.4000000000000001_b_40.0                                    5   \n",
       "\n",
       "                                   proteins_interacting_sars  \n",
       "w_1.4000000000000001_b_40.0  [IDE, ITGB1, PLOD2, RBX1, STC2]  "
      ]
     },
     "execution_count": 33,
     "metadata": {},
     "output_type": "execute_result"
    }
   ],
   "source": [
    "# Characteristics of selected network\n",
    "networks_summary_df[networks_summary_df['index']==index_selected]"
   ]
  },
  {
   "cell_type": "markdown",
   "metadata": {},
   "source": [
    "# Add drug targets to selected network"
   ]
  },
  {
   "cell_type": "markdown",
   "metadata": {},
   "source": [
    "## Construct drug/target data"
   ]
  },
  {
   "cell_type": "code",
   "execution_count": 34,
   "metadata": {},
   "outputs": [],
   "source": [
    "# Compute degree centrality for all nodes in the interactome\n",
    "graph = oi.Graph(interactome_file_name)\n",
    "centrality_dic = nx.degree_centrality(graph.interactome_graph)"
   ]
  },
  {
   "cell_type": "code",
   "execution_count": 35,
   "metadata": {},
   "outputs": [
    {
     "data": {
      "text/html": [
       "<div>\n",
       "<style scoped>\n",
       "    .dataframe tbody tr th:only-of-type {\n",
       "        vertical-align: middle;\n",
       "    }\n",
       "\n",
       "    .dataframe tbody tr th {\n",
       "        vertical-align: top;\n",
       "    }\n",
       "\n",
       "    .dataframe thead th {\n",
       "        text-align: right;\n",
       "    }\n",
       "</style>\n",
       "<table border=\"1\" class=\"dataframe\">\n",
       "  <thead>\n",
       "    <tr style=\"text-align: right;\">\n",
       "      <th></th>\n",
       "      <th>gene</th>\n",
       "      <th>drug</th>\n",
       "      <th>protein_target</th>\n",
       "      <th>affinity_constant</th>\n",
       "      <th>affinity_constant_type</th>\n",
       "      <th>degree_centrality</th>\n",
       "    </tr>\n",
       "  </thead>\n",
       "  <tbody>\n",
       "    <tr>\n",
       "      <th>0</th>\n",
       "      <td>SCN4A</td>\n",
       "      <td>levobupivacaine</td>\n",
       "      <td>Sodium channel protein type 4 subunit alpha</td>\n",
       "      <td>NaN</td>\n",
       "      <td>NaN</td>\n",
       "      <td>0.000635</td>\n",
       "    </tr>\n",
       "    <tr>\n",
       "      <th>1</th>\n",
       "      <td>CYP2D6</td>\n",
       "      <td>levobupivacaine</td>\n",
       "      <td>Cytochrome P450 2D6</td>\n",
       "      <td>6.706859</td>\n",
       "      <td>IC50</td>\n",
       "      <td>NaN</td>\n",
       "    </tr>\n",
       "    <tr>\n",
       "      <th>4</th>\n",
       "      <td>PTGER1</td>\n",
       "      <td>levobupivacaine</td>\n",
       "      <td>Prostaglandin E2 receptor EP1 subtype</td>\n",
       "      <td>NaN</td>\n",
       "      <td>NaN</td>\n",
       "      <td>0.000317</td>\n",
       "    </tr>\n",
       "    <tr>\n",
       "      <th>5</th>\n",
       "      <td>SCN1A</td>\n",
       "      <td>levobupivacaine</td>\n",
       "      <td>Sodium channel protein type 1 subunit alpha</td>\n",
       "      <td>5.790000</td>\n",
       "      <td>IC50</td>\n",
       "      <td>0.000254</td>\n",
       "    </tr>\n",
       "    <tr>\n",
       "      <th>6</th>\n",
       "      <td>KCNA5</td>\n",
       "      <td>levobupivacaine</td>\n",
       "      <td>Potassium voltage-gated channel subfamily A me...</td>\n",
       "      <td>NaN</td>\n",
       "      <td>NaN</td>\n",
       "      <td>0.002031</td>\n",
       "    </tr>\n",
       "  </tbody>\n",
       "</table>\n",
       "</div>"
      ],
      "text/plain": [
       "     gene             drug                                     protein_target  \\\n",
       "0   SCN4A  levobupivacaine        Sodium channel protein type 4 subunit alpha   \n",
       "1  CYP2D6  levobupivacaine                                Cytochrome P450 2D6   \n",
       "4  PTGER1  levobupivacaine              Prostaglandin E2 receptor EP1 subtype   \n",
       "5   SCN1A  levobupivacaine        Sodium channel protein type 1 subunit alpha   \n",
       "6   KCNA5  levobupivacaine  Potassium voltage-gated channel subfamily A me...   \n",
       "\n",
       "   affinity_constant affinity_constant_type  degree_centrality  \n",
       "0                NaN                    NaN           0.000635  \n",
       "1           6.706859                   IC50                NaN  \n",
       "4                NaN                    NaN           0.000317  \n",
       "5           5.790000                   IC50           0.000254  \n",
       "6                NaN                    NaN           0.002031  "
      ]
     },
     "execution_count": 35,
     "metadata": {},
     "output_type": "execute_result"
    }
   ],
   "source": [
    "# Load drug/target data from DrugCentral\n",
    "drug_target_file_name = '../Data/drug.target.interaction.tsv'\n",
    "drugcentral_df = drugs2.load_drug_target_data(drug_target_file_name, aff_cst_thresh=5)\n",
    "drugcentral_df['degree_centrality'] = [centrality_dic[gene] if (gene in list(centrality_dic.keys())) else None for gene in drugcentral_df['gene']]\n",
    "drugcentral_df.head()"
   ]
  },
  {
   "cell_type": "code",
   "execution_count": 36,
   "metadata": {},
   "outputs": [
    {
     "data": {
      "text/html": [
       "<div>\n",
       "<style scoped>\n",
       "    .dataframe tbody tr th:only-of-type {\n",
       "        vertical-align: middle;\n",
       "    }\n",
       "\n",
       "    .dataframe tbody tr th {\n",
       "        vertical-align: top;\n",
       "    }\n",
       "\n",
       "    .dataframe thead th {\n",
       "        text-align: right;\n",
       "    }\n",
       "</style>\n",
       "<table border=\"1\" class=\"dataframe\">\n",
       "  <thead>\n",
       "    <tr style=\"text-align: right;\">\n",
       "      <th></th>\n",
       "      <th>drug</th>\n",
       "      <th>num_targets</th>\n",
       "      <th>num_terminal_targets</th>\n",
       "      <th>max_target_centrality</th>\n",
       "    </tr>\n",
       "  </thead>\n",
       "  <tbody>\n",
       "    <tr>\n",
       "      <th>1830</th>\n",
       "      <td>sunitinib</td>\n",
       "      <td>260</td>\n",
       "      <td>1</td>\n",
       "      <td>0.055718</td>\n",
       "    </tr>\n",
       "    <tr>\n",
       "      <th>1369</th>\n",
       "      <td>nintedanib</td>\n",
       "      <td>218</td>\n",
       "      <td>1</td>\n",
       "      <td>0.037187</td>\n",
       "    </tr>\n",
       "    <tr>\n",
       "      <th>1269</th>\n",
       "      <td>midostaurin</td>\n",
       "      <td>204</td>\n",
       "      <td>0</td>\n",
       "      <td>0.055718</td>\n",
       "    </tr>\n",
       "    <tr>\n",
       "      <th>259</th>\n",
       "      <td>bosutinib</td>\n",
       "      <td>203</td>\n",
       "      <td>0</td>\n",
       "      <td>0.055718</td>\n",
       "    </tr>\n",
       "    <tr>\n",
       "      <th>474</th>\n",
       "      <td>crizotinib</td>\n",
       "      <td>148</td>\n",
       "      <td>0</td>\n",
       "      <td>0.055718</td>\n",
       "    </tr>\n",
       "    <tr>\n",
       "      <th>1735</th>\n",
       "      <td>ruxolitinib</td>\n",
       "      <td>132</td>\n",
       "      <td>0</td>\n",
       "      <td>0.027224</td>\n",
       "    </tr>\n",
       "    <tr>\n",
       "      <th>508</th>\n",
       "      <td>dasatinib</td>\n",
       "      <td>129</td>\n",
       "      <td>0</td>\n",
       "      <td>0.055718</td>\n",
       "    </tr>\n",
       "    <tr>\n",
       "      <th>1730</th>\n",
       "      <td>ruboxistaurin</td>\n",
       "      <td>121</td>\n",
       "      <td>0</td>\n",
       "      <td>0.055718</td>\n",
       "    </tr>\n",
       "    <tr>\n",
       "      <th>1795</th>\n",
       "      <td>sorafenib</td>\n",
       "      <td>116</td>\n",
       "      <td>0</td>\n",
       "      <td>0.037187</td>\n",
       "    </tr>\n",
       "    <tr>\n",
       "      <th>2031</th>\n",
       "      <td>vandetanib</td>\n",
       "      <td>109</td>\n",
       "      <td>1</td>\n",
       "      <td>0.055718</td>\n",
       "    </tr>\n",
       "  </tbody>\n",
       "</table>\n",
       "</div>"
      ],
      "text/plain": [
       "               drug  num_targets  num_terminal_targets  max_target_centrality\n",
       "1830      sunitinib          260                     1               0.055718\n",
       "1369     nintedanib          218                     1               0.037187\n",
       "1269    midostaurin          204                     0               0.055718\n",
       "259       bosutinib          203                     0               0.055718\n",
       "474      crizotinib          148                     0               0.055718\n",
       "1735    ruxolitinib          132                     0               0.027224\n",
       "508       dasatinib          129                     0               0.055718\n",
       "1730  ruboxistaurin          121                     0               0.055718\n",
       "1795      sorafenib          116                     0               0.037187\n",
       "2031     vandetanib          109                     1               0.055718"
      ]
     },
     "execution_count": 36,
     "metadata": {},
     "output_type": "execute_result"
    }
   ],
   "source": [
    "# Construct table that gives the number of targets per drug\n",
    "num_targets_df0 = drugcentral_df.groupby('drug', as_index=False)[['gene']].agg({\n",
    "    ('num_targets','count'),\n",
    "    ('num_terminal_targets',lambda gs: len(set(gs).intersection(set(terminals))))\n",
    "})\n",
    "max_centrality_df0 = drugcentral_df.groupby('drug', as_index=False)[['degree_centrality']].agg({\n",
    "    ('max_degree_centrality',max)\n",
    "})\n",
    "num_targets_df = pd.DataFrame({'drug': num_targets_df0.index,\n",
    "                               'num_targets': num_targets_df0['gene']['num_targets'],\n",
    "                               'num_terminal_targets': num_targets_df0['gene']['num_terminal_targets'],\n",
    "                               'max_target_centrality': max_centrality_df0['degree_centrality']['max_degree_centrality']}).reset_index(drop=True)\n",
    "num_targets_df = num_targets_df.sort_values(by='num_targets', ascending=False, inplace=False)\n",
    "num_targets_df.head(10)"
   ]
  },
  {
   "cell_type": "code",
   "execution_count": 37,
   "metadata": {},
   "outputs": [
    {
     "data": {
      "text/plain": [
       "[]"
      ]
     },
     "execution_count": 37,
     "metadata": {},
     "output_type": "execute_result"
    },
    {
     "data": {
      "image/png": "[encoded data removed]",
      "text/plain": [
       "<Figure size 432x288 with 1 Axes>"
      ]
     },
     "metadata": {
      "needs_background": "light"
     },
     "output_type": "display_data"
    }
   ],
   "source": [
    "# Histogram of number of targets per drug\n",
    "plt.figure()\n",
    "plt.hist(num_targets_df['num_targets'],50)\n",
    "plt.yscale('log')\n",
    "plt.xlabel('Number of targets')\n",
    "plt.ylabel('Count')\n",
    "plt.plot()"
   ]
  },
  {
   "cell_type": "code",
   "execution_count": 38,
   "metadata": {},
   "outputs": [
    {
     "data": {
      "image/png": "[encoded data removed]",
      "text/plain": [
       "<Figure size 432x288 with 1 Axes>"
      ]
     },
     "metadata": {
      "needs_background": "light"
     },
     "output_type": "display_data"
    },
    {
     "data": {
      "text/html": [
       "<div>\n",
       "<style scoped>\n",
       "    .dataframe tbody tr th:only-of-type {\n",
       "        vertical-align: middle;\n",
       "    }\n",
       "\n",
       "    .dataframe tbody tr th {\n",
       "        vertical-align: top;\n",
       "    }\n",
       "\n",
       "    .dataframe thead th {\n",
       "        text-align: right;\n",
       "    }\n",
       "</style>\n",
       "<table border=\"1\" class=\"dataframe\">\n",
       "  <thead>\n",
       "    <tr style=\"text-align: right;\">\n",
       "      <th></th>\n",
       "      <th>drug</th>\n",
       "      <th>corr</th>\n",
       "    </tr>\n",
       "  </thead>\n",
       "  <tbody>\n",
       "    <tr>\n",
       "      <th>0</th>\n",
       "      <td>tenofovir</td>\n",
       "      <td>0.685816</td>\n",
       "    </tr>\n",
       "    <tr>\n",
       "      <th>1</th>\n",
       "      <td>flucytosine</td>\n",
       "      <td>0.683364</td>\n",
       "    </tr>\n",
       "    <tr>\n",
       "      <th>2</th>\n",
       "      <td>lansoprazole</td>\n",
       "      <td>0.682132</td>\n",
       "    </tr>\n",
       "    <tr>\n",
       "      <th>3</th>\n",
       "      <td>nitazoxanide</td>\n",
       "      <td>0.677335</td>\n",
       "    </tr>\n",
       "    <tr>\n",
       "      <th>4</th>\n",
       "      <td>acarbose</td>\n",
       "      <td>0.677105</td>\n",
       "    </tr>\n",
       "  </tbody>\n",
       "</table>\n",
       "</div>"
      ],
      "text/plain": [
       "           drug      corr\n",
       "0     tenofovir  0.685816\n",
       "1   flucytosine  0.683364\n",
       "2  lansoprazole  0.682132\n",
       "3  nitazoxanide  0.677335\n",
       "4      acarbose  0.677105"
      ]
     },
     "execution_count": 38,
     "metadata": {},
     "output_type": "execute_result"
    }
   ],
   "source": [
    "# Load L1000 drugs with correlations\n",
    "embedded_drugs_file_name = '../Data/rsv_correlations_autoencoder_space.txt'\n",
    "bestdrugs_df = pd.read_csv(embedded_drugs_file_name, header=None)\n",
    "bestdrugs_df.columns = ['drug','corr']\n",
    "bestdrugs_df['drug'] = bestdrugs_df['drug'].str.strip(\"()' \").str.lower()\n",
    "bestdrugs_df['corr'] = pd.to_numeric(bestdrugs_df['corr'].str.strip(\"() \"))\n",
    "bestdrugs_df.sort_values(by='corr', axis=0, ascending=False, inplace=True)\n",
    "\n",
    "# Plot histogram of correlations\n",
    "plt.figure()\n",
    "plt.hist(bestdrugs_df['corr'],50)\n",
    "plt.xlabel('anticorrelation')\n",
    "plt.ylabel('count')\n",
    "plt.show()\n",
    "\n",
    "# Select top drugs (most anticorrelated with RSV signature)\n",
    "bestdrugs_df = bestdrugs_df.iloc[:142] # so that we have the same number (142) of selected drugs as in the A549-SARS-Cov-2 analysis\n",
    "bestdrugs_df.head()"
   ]
  },
  {
   "cell_type": "code",
   "execution_count": 39,
   "metadata": {},
   "outputs": [
    {
     "data": {
      "text/html": [
       "<div>\n",
       "<style scoped>\n",
       "    .dataframe tbody tr th:only-of-type {\n",
       "        vertical-align: middle;\n",
       "    }\n",
       "\n",
       "    .dataframe tbody tr th {\n",
       "        vertical-align: top;\n",
       "    }\n",
       "\n",
       "    .dataframe thead th {\n",
       "        text-align: right;\n",
       "    }\n",
       "</style>\n",
       "<table border=\"1\" class=\"dataframe\">\n",
       "  <thead>\n",
       "    <tr style=\"text-align: right;\">\n",
       "      <th></th>\n",
       "      <th>gene</th>\n",
       "      <th>drug</th>\n",
       "      <th>protein_target</th>\n",
       "      <th>affinity_constant</th>\n",
       "      <th>affinity_constant_type</th>\n",
       "      <th>degree_centrality</th>\n",
       "      <th>corr</th>\n",
       "    </tr>\n",
       "  </thead>\n",
       "  <tbody>\n",
       "    <tr>\n",
       "      <th>0</th>\n",
       "      <td>GRIN1</td>\n",
       "      <td>acamprosate</td>\n",
       "      <td>Glutamate [NMDA] receptor</td>\n",
       "      <td>NaN</td>\n",
       "      <td>NaN</td>\n",
       "      <td>0.003554</td>\n",
       "      <td>0.667056</td>\n",
       "    </tr>\n",
       "    <tr>\n",
       "      <th>1</th>\n",
       "      <td>GRIN2A</td>\n",
       "      <td>acamprosate</td>\n",
       "      <td>Glutamate [NMDA] receptor</td>\n",
       "      <td>NaN</td>\n",
       "      <td>NaN</td>\n",
       "      <td>0.001967</td>\n",
       "      <td>0.667056</td>\n",
       "    </tr>\n",
       "    <tr>\n",
       "      <th>2</th>\n",
       "      <td>GRIN2B</td>\n",
       "      <td>acamprosate</td>\n",
       "      <td>Glutamate [NMDA] receptor</td>\n",
       "      <td>NaN</td>\n",
       "      <td>NaN</td>\n",
       "      <td>0.003046</td>\n",
       "      <td>0.667056</td>\n",
       "    </tr>\n",
       "    <tr>\n",
       "      <th>3</th>\n",
       "      <td>GRIN2C</td>\n",
       "      <td>acamprosate</td>\n",
       "      <td>Glutamate [NMDA] receptor</td>\n",
       "      <td>NaN</td>\n",
       "      <td>NaN</td>\n",
       "      <td>0.000381</td>\n",
       "      <td>0.667056</td>\n",
       "    </tr>\n",
       "    <tr>\n",
       "      <th>4</th>\n",
       "      <td>GRIN2D</td>\n",
       "      <td>acamprosate</td>\n",
       "      <td>Glutamate [NMDA] receptor</td>\n",
       "      <td>NaN</td>\n",
       "      <td>NaN</td>\n",
       "      <td>0.002285</td>\n",
       "      <td>0.667056</td>\n",
       "    </tr>\n",
       "  </tbody>\n",
       "</table>\n",
       "</div>"
      ],
      "text/plain": [
       "     gene         drug             protein_target  affinity_constant  \\\n",
       "0   GRIN1  acamprosate  Glutamate [NMDA] receptor                NaN   \n",
       "1  GRIN2A  acamprosate  Glutamate [NMDA] receptor                NaN   \n",
       "2  GRIN2B  acamprosate  Glutamate [NMDA] receptor                NaN   \n",
       "3  GRIN2C  acamprosate  Glutamate [NMDA] receptor                NaN   \n",
       "4  GRIN2D  acamprosate  Glutamate [NMDA] receptor                NaN   \n",
       "\n",
       "  affinity_constant_type  degree_centrality      corr  \n",
       "0                    NaN           0.003554  0.667056  \n",
       "1                    NaN           0.001967  0.667056  \n",
       "2                    NaN           0.003046  0.667056  \n",
       "3                    NaN           0.000381  0.667056  \n",
       "4                    NaN           0.002285  0.667056  "
      ]
     },
     "execution_count": 39,
     "metadata": {},
     "output_type": "execute_result"
    }
   ],
   "source": [
    "# Merge L1000 drugs with DrugCentral drug/target dataset\n",
    "targets_and_drugs_df = drugcentral_df.merge(bestdrugs_df, on = 'drug', how = 'inner')\n",
    "targets_and_drugs_df.head()"
   ]
  },
  {
   "cell_type": "markdown",
   "metadata": {},
   "source": [
    "## Add drug target information to selected network"
   ]
  },
  {
   "cell_type": "code",
   "execution_count": 40,
   "metadata": {},
   "outputs": [
    {
     "data": {
      "text/plain": [
       "PosixPath('/home/louiscam/projects/sars_cov_2/Save_rsv/network_selected_with_drug_info.pickle')"
      ]
     },
     "execution_count": 40,
     "metadata": {},
     "output_type": "execute_result"
    }
   ],
   "source": [
    "network_selected = pickle.load(open('../Save_rsv/network_selected.pickle', \"rb\"))\n",
    "network_selected = drugs2.add_drug_info_to_selected_network(network_selected, targets_and_drugs_df)\n",
    "# Save enriched network as pickle\n",
    "oi.output_networkx_graph_as_pickle(network_selected, filename= '../Save_rsv/network_selected_with_drug_info.pickle')"
   ]
  },
  {
   "cell_type": "code",
   "execution_count": 41,
   "metadata": {
    "scrolled": true
   },
   "outputs": [
    {
     "data": {
      "text/html": [
       "<div>\n",
       "<style scoped>\n",
       "    .dataframe tbody tr th:only-of-type {\n",
       "        vertical-align: middle;\n",
       "    }\n",
       "\n",
       "    .dataframe tbody tr th {\n",
       "        vertical-align: top;\n",
       "    }\n",
       "\n",
       "    .dataframe thead th {\n",
       "        text-align: right;\n",
       "    }\n",
       "</style>\n",
       "<table border=\"1\" class=\"dataframe\">\n",
       "  <thead>\n",
       "    <tr style=\"text-align: right;\">\n",
       "      <th></th>\n",
       "      <th>name</th>\n",
       "      <th>protein_target</th>\n",
       "      <th>drug</th>\n",
       "      <th>corr</th>\n",
       "      <th>affinity</th>\n",
       "      <th>terminal</th>\n",
       "    </tr>\n",
       "  </thead>\n",
       "  <tbody>\n",
       "    <tr>\n",
       "      <th>ADRB2</th>\n",
       "      <td>ADRB2</td>\n",
       "      <td>{Beta-2 adrenergic receptor}</td>\n",
       "      <td>acebutolol</td>\n",
       "      <td>0.6241904</td>\n",
       "      <td>6.400000</td>\n",
       "      <td>False</td>\n",
       "    </tr>\n",
       "    <tr>\n",
       "      <th>ADRB2</th>\n",
       "      <td>ADRB2</td>\n",
       "      <td>{Beta-2 adrenergic receptor}</td>\n",
       "      <td>aripiprazole</td>\n",
       "      <td>0.63305247</td>\n",
       "      <td>6.787812</td>\n",
       "      <td>False</td>\n",
       "    </tr>\n",
       "    <tr>\n",
       "      <th>ADRB2</th>\n",
       "      <td>ADRB2</td>\n",
       "      <td>{Beta-2 adrenergic receptor}</td>\n",
       "      <td>dobutamine</td>\n",
       "      <td>0.6730379</td>\n",
       "      <td>6.200000</td>\n",
       "      <td>False</td>\n",
       "    </tr>\n",
       "    <tr>\n",
       "      <th>ADRB2</th>\n",
       "      <td>ADRB2</td>\n",
       "      <td>{Beta-2 adrenergic receptor}</td>\n",
       "      <td>doxazosin</td>\n",
       "      <td>0.6689246999999999</td>\n",
       "      <td>5.723768</td>\n",
       "      <td>False</td>\n",
       "    </tr>\n",
       "    <tr>\n",
       "      <th>ADRB2</th>\n",
       "      <td>ADRB2</td>\n",
       "      <td>{Beta-2 adrenergic receptor}</td>\n",
       "      <td>itraconazole</td>\n",
       "      <td>0.59362006</td>\n",
       "      <td>6.300000</td>\n",
       "      <td>False</td>\n",
       "    </tr>\n",
       "    <tr>\n",
       "      <th>ADRB2</th>\n",
       "      <td>ADRB2</td>\n",
       "      <td>{Beta-2 adrenergic receptor}</td>\n",
       "      <td>montelukast</td>\n",
       "      <td>0.63802785</td>\n",
       "      <td>5.620151</td>\n",
       "      <td>False</td>\n",
       "    </tr>\n",
       "    <tr>\n",
       "      <th>ADRB2</th>\n",
       "      <td>ADRB2</td>\n",
       "      <td>{Beta-2 adrenergic receptor}</td>\n",
       "      <td>oxprenolol</td>\n",
       "      <td>0.6294411</td>\n",
       "      <td>8.000000</td>\n",
       "      <td>False</td>\n",
       "    </tr>\n",
       "    <tr>\n",
       "      <th>ADRB2</th>\n",
       "      <td>ADRB2</td>\n",
       "      <td>{Beta-2 adrenergic receptor}</td>\n",
       "      <td>pindolol</td>\n",
       "      <td>0.5497773</td>\n",
       "      <td>9.000000</td>\n",
       "      <td>False</td>\n",
       "    </tr>\n",
       "    <tr>\n",
       "      <th>ADRB2</th>\n",
       "      <td>ADRB2</td>\n",
       "      <td>{Beta-2 adrenergic receptor}</td>\n",
       "      <td>quetiapine</td>\n",
       "      <td>0.65528965</td>\n",
       "      <td>5.301030</td>\n",
       "      <td>False</td>\n",
       "    </tr>\n",
       "    <tr>\n",
       "      <th>ADRB2</th>\n",
       "      <td>ADRB2</td>\n",
       "      <td>{Beta-2 adrenergic receptor}</td>\n",
       "      <td>sotalol</td>\n",
       "      <td>0.6361720999999999</td>\n",
       "      <td>6.900000</td>\n",
       "      <td>False</td>\n",
       "    </tr>\n",
       "    <tr>\n",
       "      <th>ADRB2</th>\n",
       "      <td>ADRB2</td>\n",
       "      <td>{Beta-2 adrenergic receptor}</td>\n",
       "      <td>timolol</td>\n",
       "      <td>0.6431299</td>\n",
       "      <td>9.700000</td>\n",
       "      <td>False</td>\n",
       "    </tr>\n",
       "    <tr>\n",
       "      <th>DPP4</th>\n",
       "      <td>DPP4</td>\n",
       "      <td>{Dipeptidyl peptidase 4}</td>\n",
       "      <td>vidarabine</td>\n",
       "      <td>0.5726343</td>\n",
       "      <td>7.210000</td>\n",
       "      <td>False</td>\n",
       "    </tr>\n",
       "    <tr>\n",
       "      <th>TK1</th>\n",
       "      <td>TK1</td>\n",
       "      <td>{Thymidine kinase, cytosolic}</td>\n",
       "      <td>zidovudine</td>\n",
       "      <td>0.66523814</td>\n",
       "      <td>5.540000</td>\n",
       "      <td>False</td>\n",
       "    </tr>\n",
       "  </tbody>\n",
       "</table>\n",
       "</div>"
      ],
      "text/plain": [
       "        name                 protein_target          drug                corr  \\\n",
       "ADRB2  ADRB2   {Beta-2 adrenergic receptor}    acebutolol           0.6241904   \n",
       "ADRB2  ADRB2   {Beta-2 adrenergic receptor}  aripiprazole          0.63305247   \n",
       "ADRB2  ADRB2   {Beta-2 adrenergic receptor}    dobutamine           0.6730379   \n",
       "ADRB2  ADRB2   {Beta-2 adrenergic receptor}     doxazosin  0.6689246999999999   \n",
       "ADRB2  ADRB2   {Beta-2 adrenergic receptor}  itraconazole          0.59362006   \n",
       "ADRB2  ADRB2   {Beta-2 adrenergic receptor}   montelukast          0.63802785   \n",
       "ADRB2  ADRB2   {Beta-2 adrenergic receptor}    oxprenolol           0.6294411   \n",
       "ADRB2  ADRB2   {Beta-2 adrenergic receptor}      pindolol           0.5497773   \n",
       "ADRB2  ADRB2   {Beta-2 adrenergic receptor}    quetiapine          0.65528965   \n",
       "ADRB2  ADRB2   {Beta-2 adrenergic receptor}       sotalol  0.6361720999999999   \n",
       "ADRB2  ADRB2   {Beta-2 adrenergic receptor}       timolol           0.6431299   \n",
       "DPP4    DPP4       {Dipeptidyl peptidase 4}    vidarabine           0.5726343   \n",
       "TK1      TK1  {Thymidine kinase, cytosolic}    zidovudine          0.66523814   \n",
       "\n",
       "       affinity  terminal  \n",
       "ADRB2  6.400000     False  \n",
       "ADRB2  6.787812     False  \n",
       "ADRB2  6.200000     False  \n",
       "ADRB2  5.723768     False  \n",
       "ADRB2  6.300000     False  \n",
       "ADRB2  5.620151     False  \n",
       "ADRB2  8.000000     False  \n",
       "ADRB2  9.000000     False  \n",
       "ADRB2  5.301030     False  \n",
       "ADRB2  6.900000     False  \n",
       "ADRB2  9.700000     False  \n",
       "DPP4   7.210000     False  \n",
       "TK1    5.540000     False  "
      ]
     },
     "execution_count": 41,
     "metadata": {},
     "output_type": "execute_result"
    }
   ],
   "source": [
    "# Construct table of drug targets in the network\n",
    "drug_targets_df = drugs2.drug_targets_in_selected_network(network_selected)\n",
    "drug_targets_df.to_csv(r'../Save_rsv/drug_targets_in_network.tsv', header=True, index=None, sep='\\t', quoting = csv.QUOTE_NONE, escapechar = '\\t')\n",
    "drug_targets_df['affinity'] = pd.to_numeric(drug_targets_df['affinity'], errors='coerce')\n",
    "drug_targets_df.dropna(subset=['affinity'], inplace=True)\n",
    "drug_targets_df['terminal'] = drug_targets_df['name'].isin(terminals)\n",
    "drug_targets_df"
   ]
  },
  {
   "cell_type": "code",
   "execution_count": 42,
   "metadata": {},
   "outputs": [],
   "source": [
    "# Save drug/target dataframe to csv\n",
    "drug_targets_df.to_csv(r'../Save_rsv/final_drug_target_table.tsv', header=True, index=None, sep='\\t', quoting = csv.QUOTE_NONE, escapechar = '\\t')"
   ]
  },
  {
   "cell_type": "markdown",
   "metadata": {},
   "source": [
    "# Compare to A549 cell type"
   ]
  },
  {
   "cell_type": "code",
   "execution_count": 43,
   "metadata": {},
   "outputs": [
    {
     "data": {
      "text/html": [
       "<div>\n",
       "<style scoped>\n",
       "    .dataframe tbody tr th:only-of-type {\n",
       "        vertical-align: middle;\n",
       "    }\n",
       "\n",
       "    .dataframe tbody tr th {\n",
       "        vertical-align: top;\n",
       "    }\n",
       "\n",
       "    .dataframe thead th {\n",
       "        text-align: right;\n",
       "    }\n",
       "</style>\n",
       "<table border=\"1\" class=\"dataframe\">\n",
       "  <thead>\n",
       "    <tr style=\"text-align: right;\">\n",
       "      <th></th>\n",
       "      <th>name</th>\n",
       "      <th>protein_target</th>\n",
       "      <th>drug</th>\n",
       "      <th>corr</th>\n",
       "      <th>affinity</th>\n",
       "    </tr>\n",
       "  </thead>\n",
       "  <tbody>\n",
       "    <tr>\n",
       "      <th>0</th>\n",
       "      <td>ACVR2A</td>\n",
       "      <td>{'Activin receptor type-2A'}</td>\n",
       "      <td>dasatinib</td>\n",
       "      <td>0.882561</td>\n",
       "      <td>6.68</td>\n",
       "    </tr>\n",
       "    <tr>\n",
       "      <th>1</th>\n",
       "      <td>AURKC</td>\n",
       "      <td>{'Aurora kinase C'}</td>\n",
       "      <td>erlotinib</td>\n",
       "      <td>0.873780</td>\n",
       "      <td>6.22</td>\n",
       "    </tr>\n",
       "    <tr>\n",
       "      <th>2</th>\n",
       "      <td>AURKC</td>\n",
       "      <td>{'Aurora kinase C'}</td>\n",
       "      <td>sorafenib</td>\n",
       "      <td>0.865171</td>\n",
       "      <td>6.68</td>\n",
       "    </tr>\n",
       "    <tr>\n",
       "      <th>3</th>\n",
       "      <td>AURKC</td>\n",
       "      <td>{'Aurora kinase C'}</td>\n",
       "      <td>sunitinib</td>\n",
       "      <td>0.868590</td>\n",
       "      <td>6.66</td>\n",
       "    </tr>\n",
       "    <tr>\n",
       "      <th>4</th>\n",
       "      <td>AURKC</td>\n",
       "      <td>{'Aurora kinase C'}</td>\n",
       "      <td>pazopanib</td>\n",
       "      <td>0.866959</td>\n",
       "      <td>6.12</td>\n",
       "    </tr>\n",
       "  </tbody>\n",
       "</table>\n",
       "</div>"
      ],
      "text/plain": [
       "     name                protein_target       drug      corr  affinity\n",
       "0  ACVR2A  {'Activin receptor type-2A'}  dasatinib  0.882561      6.68\n",
       "1   AURKC           {'Aurora kinase C'}  erlotinib  0.873780      6.22\n",
       "2   AURKC           {'Aurora kinase C'}  sorafenib  0.865171      6.68\n",
       "3   AURKC           {'Aurora kinase C'}  sunitinib  0.868590      6.66\n",
       "4   AURKC           {'Aurora kinase C'}  pazopanib  0.866959      6.12"
      ]
     },
     "execution_count": 43,
     "metadata": {},
     "output_type": "execute_result"
    }
   ],
   "source": [
    "# Drug/target dataframe for A549\n",
    "drug_targets_df_a549_file_name = '../Save/final_drug_target_table.tsv'\n",
    "drug_targets_df_a549 = pd.read_csv(drug_targets_df_a549_file_name, sep = '\\t')\n",
    "drug_targets_df_a549.head()"
   ]
  },
  {
   "cell_type": "code",
   "execution_count": 58,
   "metadata": {},
   "outputs": [
    {
     "data": {
      "image/png": "[encoded data removed]",
      "text/plain": [
       "<Figure size 432x288 with 1 Axes>"
      ]
     },
     "metadata": {},
     "output_type": "display_data"
    },
    {
     "name": "stdout",
     "output_type": "stream",
     "text": [
      "[]\n",
      "['ADRB2', 'DPP4', 'TK1']\n"
     ]
    }
   ],
   "source": [
    "# Common gene targets\n",
    "targets_rsv = set(drug_targets_df['name'])\n",
    "targets_a549 = set(drug_targets_df_a549['name'])\n",
    "\n",
    "# plot Venn diagram RSV vs SARS-Cov-2\n",
    "plt.figure()\n",
    "venn2(subsets = [targets_rsv,targets_a549],\n",
    "      set_labels = ('RSV gene targets','SARS-Cov-2 gene targets'),\n",
    "      set_colors=('r', 'g'), \n",
    "      alpha = 0.5)\n",
    "#venn2_circles(subsets = [targets_rsv,targets_a549])\n",
    "plt.savefig('../Save_rsv/venn2_rsv_sars_genes.pdf', format='pdf')\n",
    "plt.show()\n",
    "\n",
    "print(sorted(targets_rsv.intersection(targets_a549)))\n",
    "print(sorted(targets_rsv.difference(targets_a549)))"
   ]
  },
  {
   "cell_type": "code",
   "execution_count": 59,
   "metadata": {},
   "outputs": [
    {
     "data": {
      "image/png": "[encoded data removed]",
      "text/plain": [
       "<Figure size 432x288 with 1 Axes>"
      ]
     },
     "metadata": {},
     "output_type": "display_data"
    },
    {
     "name": "stdout",
     "output_type": "stream",
     "text": [
      "['afatinib', 'axitinib', 'belinostat', 'bosutinib', 'dasatinib', 'docetaxel', 'erlotinib', 'formoterol', 'imatinib', 'milrinone', 'pazopanib', 'primaquine', 'ruxolitinib', 'sorafenib', 'sunitinib', 'tofacitinib', 'vardenafil', 'vorinostat']\n",
      "['acebutolol', 'aripiprazole', 'dobutamine', 'doxazosin', 'itraconazole', 'montelukast', 'oxprenolol', 'pindolol', 'quetiapine', 'sotalol', 'timolol', 'vidarabine', 'zidovudine']\n",
      "[]\n"
     ]
    }
   ],
   "source": [
    "# Common drugs\n",
    "drugs_rsv = set(drug_targets_df['drug'])\n",
    "drugs_a549 = set(drug_targets_df_a549['drug'])\n",
    "\n",
    "# plot Venn diagram RSV vs SARS-Cov-2\n",
    "plt.figure()\n",
    "venn2(subsets = [drugs_rsv,drugs_a549],\n",
    "      set_labels = ('RSV drugs','A549 drugs'),\n",
    "      set_colors=('r', 'g'), \n",
    "      alpha = 0.5)\n",
    "#venn2_circles(subsets = [targets_rsv,targets_a549])\n",
    "plt.savefig('../Save_rsv/venn2_rsv_sars_drugs.pdf', format='pdf')\n",
    "plt.show()\n",
    "\n",
    "a549_minus_rsv = num_targets_df.loc[num_targets_df['drug'].isin(drugs_a549.difference(drugs_rsv))]\n",
    "rsv_minus_a549 = num_targets_df.loc[num_targets_df['drug'].isin(drugs_rsv.difference(drugs_a549))]\n",
    "a549_inter_rsv = num_targets_df.loc[num_targets_df['drug'].isin(drugs_a549.intersection(drugs_rsv))]\n",
    "print(sorted(set(a549_minus_rsv['drug'])))\n",
    "print(sorted(set(rsv_minus_a549['drug'])))\n",
    "print(sorted(set(a549_inter_rsv['drug'])))"
   ]
  },
  {
   "cell_type": "code",
   "execution_count": null,
   "metadata": {},
   "outputs": [],
   "source": []
  }
 ],
 "metadata": {
  "kernelspec": {
   "display_name": "Python 3",
   "language": "python",
   "name": "python3"
  },
  "language_info": {
   "codemirror_mode": {
    "name": "ipython",
    "version": 3
   },
   "file_extension": ".py",
   "mimetype": "text/x-python",
   "name": "python",
   "nbconvert_exporter": "python",
   "pygments_lexer": "ipython3",
   "version": "3.7.4"
  }
 },
 "nbformat": 4,
 "nbformat_minor": 2
}
