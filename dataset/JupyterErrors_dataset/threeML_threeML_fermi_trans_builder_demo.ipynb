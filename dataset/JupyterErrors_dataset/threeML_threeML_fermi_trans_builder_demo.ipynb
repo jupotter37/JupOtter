{
 "cells": [
  {
   "cell_type": "markdown",
   "metadata": {
    "ExecuteTime": {
     "end_time": "2019-03-06T15:28:46.450144Z",
     "start_time": "2019-03-06T15:28:45.798601Z"
    }
   },
   "source": [
    "# Building the input files for a LAT unbinned GRB analysis\n",
    "\n",
    "This provides a little class that runs GtBurst\n",
    "\n"
   ]
  },
  {
   "cell_type": "code",
   "execution_count": 1,
   "metadata": {
    "ExecuteTime": {
     "end_time": "2019-03-06T15:30:55.157095Z",
     "start_time": "2019-03-06T15:30:54.720109Z"
    },
    "collapsed": true
   },
   "outputs": [],
   "source": [
    "from lat_transient_builder import TransientLATDataBuilder"
   ]
  },
  {
   "cell_type": "markdown",
   "metadata": {},
   "source": [
    "We first create an object by specifying a trigger name"
   ]
  },
  {
   "cell_type": "code",
   "execution_count": 11,
   "metadata": {
    "ExecuteTime": {
     "end_time": "2019-03-06T12:30:54.981250Z",
     "start_time": "2019-03-06T12:30:54.842475Z"
    },
    "collapsed": true
   },
   "outputs": [],
   "source": [
    "analysis_builder = TransientLATDataBuilder('080916009')"
   ]
  },
  {
   "cell_type": "markdown",
   "metadata": {},
   "source": [
    "The setup will only contain default values for the moment. We have to add the proper values for the analysis.\n",
    "The code will fail if not everything is set.\n"
   ]
  },
  {
   "cell_type": "code",
   "execution_count": 14,
   "metadata": {},
   "outputs": [
    {
     "name": "stdout",
     "output_type": "stream",
     "text": [
      "zmax                              100\n",
      "emin                              100\n",
      "emax                           100000\n",
      "irf                              auto\n",
      "tsmin                              20\n",
      "strategy                         time\n",
      "thetamax                          180\n",
      "spectralfiles                      no\n",
      "liketype                     unbinned\n",
      "optimizeposition                   no\n",
      "datarepository        /root/FermiData\n",
      "ltcube                               \n",
      "expomap                              \n",
      "ulphindex                          -2\n",
      "fgl_mode                         fast\n",
      "filter_GTI                      False\n",
      "likelihood_profile              False\n",
      "remove_fits_files               False\n",
      "dtype: object\n"
     ]
    },
    {
     "ename": "AssertionError",
     "evalue": "outfile is not set but is required",
     "output_type": "error",
     "traceback": [
      "\u001b[0;31m---------------------------------------------------------------------------\u001b[0m",
      "\u001b[0;31mAssertionError\u001b[0m                            Traceback (most recent call last)",
      "\u001b[0;32m<ipython-input-14-e9d2864a6c04>\u001b[0m in \u001b[0;36m<module>\u001b[0;34m()\u001b[0m\n\u001b[1;32m      1\u001b[0m \u001b[0manalysis_builder\u001b[0m\u001b[0;34m.\u001b[0m\u001b[0mdisplay\u001b[0m\u001b[0;34m(\u001b[0m\u001b[0;34m)\u001b[0m\u001b[0;34m\u001b[0m\u001b[0m\n\u001b[0;32m----> 2\u001b[0;31m \u001b[0manalysis_builder\u001b[0m\u001b[0;34m.\u001b[0m\u001b[0mrun\u001b[0m\u001b[0;34m(\u001b[0m\u001b[0;34m)\u001b[0m\u001b[0;34m\u001b[0m\u001b[0m\n\u001b[0m",
      "\u001b[0;32m/workdir/scratch/fermi_lat_test/lat_transient_builder.py\u001b[0m in \u001b[0;36mrun\u001b[0;34m(self)\u001b[0m\n\u001b[1;32m    554\u001b[0m         \u001b[0;31m# no way around it as I do not want to rewrite the fermitools\u001b[0m\u001b[0;34m\u001b[0m\u001b[0;34m\u001b[0m\u001b[0m\n\u001b[1;32m    555\u001b[0m \u001b[0;34m\u001b[0m\u001b[0m\n\u001b[0;32m--> 556\u001b[0;31m         \u001b[0mcmd\u001b[0m \u001b[0;34m=\u001b[0m \u001b[0mself\u001b[0m\u001b[0;34m.\u001b[0m\u001b[0m_get_command_string\u001b[0m\u001b[0;34m(\u001b[0m\u001b[0;34m)\u001b[0m    \u001b[0;31m# should not allow you to be missing args!\u001b[0m\u001b[0;34m\u001b[0m\u001b[0m\n\u001b[0m\u001b[1;32m    557\u001b[0m \u001b[0;34m\u001b[0m\u001b[0m\n\u001b[1;32m    558\u001b[0m         \u001b[0;31m# now we want to get the site package directory to find where the script is\u001b[0m\u001b[0;34m\u001b[0m\u001b[0;34m\u001b[0m\u001b[0m\n",
      "\u001b[0;32m/workdir/scratch/fermi_lat_test/lat_transient_builder.py\u001b[0m in \u001b[0;36m_get_command_string\u001b[0;34m(self)\u001b[0m\n\u001b[1;32m    540\u001b[0m                 \u001b[0;31m# but fail if we did not set the ones needed\u001b[0m\u001b[0;34m\u001b[0m\u001b[0;34m\u001b[0m\u001b[0m\n\u001b[1;32m    541\u001b[0m \u001b[0;34m\u001b[0m\u001b[0m\n\u001b[0;32m--> 542\u001b[0;31m                 \u001b[0;32massert\u001b[0m \u001b[0mv\u001b[0m\u001b[0;34m.\u001b[0m\u001b[0mname\u001b[0m \u001b[0;32mnot\u001b[0m \u001b[0;32min\u001b[0m \u001b[0m_required_parameters\u001b[0m\u001b[0;34m,\u001b[0m \u001b[0;34m'%s is not set but is required'\u001b[0m \u001b[0;34m%\u001b[0m \u001b[0mv\u001b[0m\u001b[0;34m.\u001b[0m\u001b[0mname\u001b[0m\u001b[0;34m\u001b[0m\u001b[0m\n\u001b[0m\u001b[1;32m    543\u001b[0m \u001b[0;34m\u001b[0m\u001b[0m\n\u001b[1;32m    544\u001b[0m         \u001b[0;32mreturn\u001b[0m \u001b[0mcmd_str\u001b[0m\u001b[0;34m\u001b[0m\u001b[0m\n",
      "\u001b[0;31mAssertionError\u001b[0m: outfile is not set but is required"
     ]
    }
   ],
   "source": [
    "analysis_builder.display()\n",
    "analysis_builder.run()\n"
   ]
  },
  {
   "cell_type": "markdown",
   "metadata": {},
   "source": [
    "We set values by pulling them up from the object. Tab completion works! "
   ]
  },
  {
   "cell_type": "code",
   "execution_count": 15,
   "metadata": {
    "collapsed": true
   },
   "outputs": [],
   "source": [
    "analysis_builder.outfile.value = 'test'\n",
    "analysis_builder.roi.value = 10.\n",
    "analysis_builder.tstarts.value = '1'\n",
    "analysis_builder.tstops.value = '2'\n",
    "analysis_builder.galactic_model.value = 'template (fixed norm.)'\n",
    "analysis_builder.particle_model.value = 'auto'"
   ]
  },
  {
   "cell_type": "code",
   "execution_count": 16,
   "metadata": {},
   "outputs": [
    {
     "name": "stdout",
     "output_type": "stream",
     "text": [
      "outfile                                 test\n",
      "roi                                       10\n",
      "tstarts                                    1\n",
      "tstops                                     2\n",
      "zmax                                     100\n",
      "emin                                     100\n",
      "emax                                  100000\n",
      "irf                                     auto\n",
      "galactic_model        template (fixed norm.)\n",
      "particle_model                          auto\n",
      "tsmin                                     20\n",
      "strategy                                time\n",
      "thetamax                                 180\n",
      "spectralfiles                             no\n",
      "liketype                            unbinned\n",
      "optimizeposition                          no\n",
      "datarepository               /root/FermiData\n",
      "ltcube                                      \n",
      "expomap                                     \n",
      "ulphindex                                 -2\n",
      "fgl_mode                                fast\n",
      "filter_GTI                             False\n",
      "likelihood_profile                     False\n",
      "remove_fits_files                      False\n",
      "dtype: object\n"
     ]
    }
   ],
   "source": [
    "analysis_builder.display()"
   ]
  },
  {
   "cell_type": "markdown",
   "metadata": {},
   "source": [
    "We can get info on each parameter by calling the display method."
   ]
  },
  {
   "cell_type": "code",
   "execution_count": 17,
   "metadata": {},
   "outputs": [
    {
     "name": "stdout",
     "output_type": "stream",
     "text": [
      "Galactic model for the likelihood\n",
      "['template (fixed norm.)', 'template', 'none']\n"
     ]
    }
   ],
   "source": [
    "analysis_builder.galactic_model.display()"
   ]
  },
  {
   "cell_type": "code",
   "execution_count": 18,
   "metadata": {},
   "outputs": [
    {
     "data": {
      "text/plain": [
       "'template (fixed norm.)'"
      ]
     },
     "execution_count": 18,
     "metadata": {},
     "output_type": "execute_result"
    }
   ],
   "source": [
    "analysis_builder.galactic_model.get_disp_value()"
   ]
  },
  {
   "cell_type": "markdown",
   "metadata": {},
   "source": [
    "Now we can fun the analysis. In the future, this should return a dictionary with the location of the analysis files for each interval. We can also think to add *interval builders* to the object just to help people. "
   ]
  },
  {
   "cell_type": "code",
   "execution_count": 7,
   "metadata": {
    "collapsed": true
   },
   "outputs": [],
   "source": [
    "analysis_builder.run() # runs gtburst... we have to wait!"
   ]
  },
  {
   "cell_type": "markdown",
   "metadata": {},
   "source": [
    "## Saving and loading configurations\n",
    "\n",
    "Performing standard analysis for many GRBs would require inputing these values over and over. \n",
    "We can instead save our configurations to a yaml file for use later or with other triggers\n",
    "\n"
   ]
  },
  {
   "cell_type": "code",
   "execution_count": 19,
   "metadata": {
    "collapsed": true
   },
   "outputs": [],
   "source": [
    "analysis_builder.save_configuration('my_config.yml')"
   ]
  },
  {
   "cell_type": "code",
   "execution_count": 20,
   "metadata": {
    "collapsed": true
   },
   "outputs": [],
   "source": [
    "analysis_reloaded = TransientLATDataBuilder.from_saved_configuration('130427678',config_file='my_config.yml')"
   ]
  },
  {
   "cell_type": "code",
   "execution_count": 21,
   "metadata": {},
   "outputs": [
    {
     "name": "stdout",
     "output_type": "stream",
     "text": [
      "outfile                                 test\n",
      "roi                                       10\n",
      "tstarts                                    1\n",
      "tstops                                     2\n",
      "zmax                                     100\n",
      "emin                                     100\n",
      "emax                                  100000\n",
      "irf                                     auto\n",
      "galactic_model        template (fixed norm.)\n",
      "particle_model                          auto\n",
      "tsmin                                     20\n",
      "strategy                                time\n",
      "thetamax                                 180\n",
      "spectralfiles                             no\n",
      "liketype                            unbinned\n",
      "optimizeposition                          no\n",
      "datarepository               /root/FermiData\n",
      "ltcube                                      \n",
      "expomap                                     \n",
      "ulphindex                                 -2\n",
      "fgl_mode                                fast\n",
      "filter_GTI                             False\n",
      "likelihood_profile                     False\n",
      "remove_fits_files                      False\n",
      "dtype: object\n"
     ]
    }
   ],
   "source": [
    "analysis_reloaded.display()"
   ]
  },
  {
   "cell_type": "code",
   "execution_count": 22,
   "metadata": {
    "collapsed": true
   },
   "outputs": [],
   "source": [
    "analysis_reloaded.outfile.value = 'test2'"
   ]
  },
  {
   "cell_type": "code",
   "execution_count": 23,
   "metadata": {},
   "outputs": [
    {
     "name": "stdout",
     "output_type": "stream",
     "text": [
      "outfile                                test2\n",
      "roi                                       10\n",
      "tstarts                                    1\n",
      "tstops                                     2\n",
      "zmax                                     100\n",
      "emin                                     100\n",
      "emax                                  100000\n",
      "irf                                     auto\n",
      "galactic_model        template (fixed norm.)\n",
      "particle_model                          auto\n",
      "tsmin                                     20\n",
      "strategy                                time\n",
      "thetamax                                 180\n",
      "spectralfiles                             no\n",
      "liketype                            unbinned\n",
      "optimizeposition                          no\n",
      "datarepository               /root/FermiData\n",
      "ltcube                                      \n",
      "expomap                                     \n",
      "ulphindex                                 -2\n",
      "fgl_mode                                fast\n",
      "filter_GTI                             False\n",
      "likelihood_profile                     False\n",
      "remove_fits_files                      False\n",
      "dtype: object\n"
     ]
    }
   ],
   "source": [
    "analysis_reloaded.display()"
   ]
  },
  {
   "cell_type": "code",
   "execution_count": null,
   "metadata": {
    "collapsed": true
   },
   "outputs": [],
   "source": []
  }
 ],
 "metadata": {
  "kernelspec": {
   "display_name": "Python 3",
   "language": "python",
   "name": "python3"
  },
  "language_info": {
   "codemirror_mode": {
    "name": "ipython",
    "version": 3
   },
   "file_extension": ".py",
   "mimetype": "text/x-python",
   "name": "python",
   "nbconvert_exporter": "python",
   "pygments_lexer": "ipython3",
   "version": "3.7.10"
  },
  "toc": {
   "base_numbering": 1,
   "nav_menu": {},
   "number_sections": true,
   "sideBar": true,
   "skip_h1_title": false,
   "title_cell": "Table of Contents",
   "title_sidebar": "Contents",
   "toc_cell": false,
   "toc_position": {},
   "toc_section_display": true,
   "toc_window_display": false
  },
  "varInspector": {
   "cols": {
    "lenName": 16,
    "lenType": 16,
    "lenVar": 40
   },
   "kernels_config": {
    "python": {
     "delete_cmd_postfix": "",
     "delete_cmd_prefix": "del ",
     "library": "var_list.py",
     "varRefreshCmd": "print(var_dic_list())"
    },
    "r": {
     "delete_cmd_postfix": ") ",
     "delete_cmd_prefix": "rm(",
     "library": "var_list.r",
     "varRefreshCmd": "cat(var_dic_list()) "
    }
   },
   "types_to_exclude": [
    "module",
    "function",
    "builtin_function_or_method",
    "instance",
    "_Feature"
   ],
   "window_display": false
  }
 },
 "nbformat": 4,
 "nbformat_minor": 2
}
