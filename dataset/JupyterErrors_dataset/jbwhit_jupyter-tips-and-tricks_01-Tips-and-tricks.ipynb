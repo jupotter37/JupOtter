{
 "cells": [
  {
   "cell_type": "markdown",
   "metadata": {},
   "source": [
    "# Markdown Cell\n",
    "\n",
    "\n",
    "\n",
    "## Sub heading this is big text\n",
    "\n",
    "#### Smaller subheadings\n",
    "\n",
    "This is just a _paragraph_ and this is **bolded**."
   ]
  },
  {
   "cell_type": "code",
   "execution_count": null,
   "metadata": {
    "ExecuteTime": {
     "end_time": "2020-09-18T00:44:37.936450Z",
     "start_time": "2020-09-18T00:44:37.934896Z"
    },
    "code_folding": [],
    "execution_event_id": "3698fd05-45fb-4ca5-bf80-0816f34865e3",
    "last_executed_text": "# code cell\nname = \"Jonathan\"",
    "persistent_id": "5e98591e-08d0-4812-ba61-d0ecc428c08d",
    "run_control": {
     "marked": false
    }
   },
   "outputs": [],
   "source": [
    "# code cell\n",
    "name = \"Jonathan\""
   ]
  },
  {
   "cell_type": "markdown",
   "metadata": {},
   "source": [
    "# Tips and Tricks\n",
    "\n",
    "A markdown cell lets you do many _useful things_."
   ]
  },
  {
   "cell_type": "code",
   "execution_count": null,
   "metadata": {
    "ExecuteTime": {
     "end_time": "2020-09-18T00:45:10.817308Z",
     "start_time": "2020-09-18T00:45:10.667615Z"
    },
    "execution_event_id": "3594bd73-572e-4d77-8131-1ee8b788de2b",
    "last_executed_text": "import numpy as np\n\n# don't do:\n# from numpy import *",
    "persistent_id": "03635f66-daaa-47cf-bb74-883e8ce82c00"
   },
   "outputs": [],
   "source": [
    "import numpy as np\n",
    "\n",
    "# don't do:\n",
    "# from numpy import *"
   ]
  },
  {
   "cell_type": "code",
   "execution_count": null,
   "metadata": {
    "ExecuteTime": {
     "end_time": "2020-09-18T00:45:45.587870Z",
     "start_time": "2020-09-18T00:45:45.585457Z"
    },
    "execution_event_id": "36464e57-4a52-4b9e-93cd-39c160a6dc9a",
    "last_executed_text": "max(\"a\")",
    "persistent_id": "e41e09ce-28e8-437f-9e9e-676775bc5fce"
   },
   "outputs": [],
   "source": [
    "max(\"a\")"
   ]
  },
  {
   "cell_type": "code",
   "execution_count": null,
   "metadata": {
    "ExecuteTime": {
     "end_time": "2020-09-18T00:46:05.347425Z",
     "start_time": "2020-09-18T00:46:05.329561Z"
    },
    "execution_event_id": "9bde99f0-122a-4548-979e-3714d27624b6",
    "last_executed_text": "np.max(\"a\")",
    "persistent_id": "9939f76b-a6b5-413b-80e7-8595aab7f804"
   },
   "outputs": [],
   "source": [
    "np.max(\"a\")"
   ]
  },
  {
   "cell_type": "markdown",
   "metadata": {},
   "source": [
    "## Imports"
   ]
  },
  {
   "cell_type": "code",
   "execution_count": null,
   "metadata": {
    "ExecuteTime": {
     "end_time": "2020-09-18T00:46:28.748416Z",
     "start_time": "2020-09-18T00:46:27.771553Z"
    },
    "execution_event_id": "77561380-a286-472a-bf6d-53b6eb053337",
    "last_executed_text": "%matplotlib inline\n%config InlineBackend.figure_format='retina'\n\nimport pandas as pd\nimport matplotlib.pyplot as plt\nimport seaborn as sns\nimport os\nfrom pivottablejs import pivot_ui\nimport sys\nimport warnings\n\nwarnings.filterwarnings(\"ignore\")",
    "persistent_id": "23f17423-b7db-427a-9453-8e1a5b0215ea",
    "run_control": {
     "marked": false
    }
   },
   "outputs": [],
   "source": [
    "# %matplotlib inline\n",
    "# %config InlineBackend.figure_format='retina'\n",
    "\n",
    "import pandas as pd\n",
    "import matplotlib.pyplot as plt\n",
    "import seaborn as sns\n",
    "import os\n",
    "from pivottablejs import pivot_ui\n",
    "import sys\n",
    "import warnings\n",
    "\n",
    "warnings.filterwarnings(\"ignore\")"
   ]
  },
  {
   "cell_type": "markdown",
   "metadata": {},
   "source": [
    "# Keyboard shortcuts\n",
    "\n",
    "Practice doing these a few times and try to force yourself to use them whenever you can. \n",
    "\n",
    "## Help (h)\n",
    "For help in the Notebook, `ESC` + `h`\n",
    "(doesn't work in Lab)"
   ]
  },
  {
   "cell_type": "markdown",
   "metadata": {},
   "source": [
    "## Select multiple cells\n",
    "\n",
    "j, k, and arrow keys while holding shift selects multiple cells."
   ]
  },
  {
   "cell_type": "code",
   "execution_count": null,
   "metadata": {
    "ExecuteTime": {
     "end_time": "2020-01-17T00:04:09.632919Z",
     "start_time": "2020-01-17T00:04:09.630339Z"
    },
    "execution_event_id": "5bc75f4d-888e-4909-9e28-748029e2d436",
    "last_executed_text": "first = 1",
    "persistent_id": "ea0e37d6-44e2-411f-9da8-5b9c4dba6afe"
   },
   "outputs": [],
   "source": [
    "first = 1"
   ]
  },
  {
   "cell_type": "code",
   "execution_count": null,
   "metadata": {
    "ExecuteTime": {
     "end_time": "2020-01-17T00:04:09.632919Z",
     "start_time": "2020-01-17T00:04:09.630339Z"
    },
    "execution_event_id": "5bc75f4d-888e-4909-9e28-748029e2d436",
    "last_executed_text": "first = 1",
    "persistent_id": "ea0e37d6-44e2-411f-9da8-5b9c4dba6afe"
   },
   "outputs": [],
   "source": [
    "second = 2"
   ]
  },
  {
   "cell_type": "code",
   "execution_count": null,
   "metadata": {
    "ExecuteTime": {
     "end_time": "2020-01-17T00:04:09.632919Z",
     "start_time": "2020-01-17T00:04:09.630339Z"
    },
    "execution_event_id": "5bc75f4d-888e-4909-9e28-748029e2d436",
    "last_executed_text": "first = 1",
    "persistent_id": "ea0e37d6-44e2-411f-9da8-5b9c4dba6afe"
   },
   "outputs": [],
   "source": [
    "third = 3"
   ]
  },
  {
   "cell_type": "markdown",
   "metadata": {},
   "source": [
    "## Split a cell with -\n",
    "\n",
    "Well, `ctrl + shift + -`, but remember it by horizontal."
   ]
  },
  {
   "cell_type": "code",
   "execution_count": null,
   "metadata": {
    "persistent_id": "2dcbaf4c-5978-46f0-a6a4-56aa3a232295"
   },
   "outputs": [],
   "source": []
  },
  {
   "cell_type": "code",
   "execution_count": null,
   "metadata": {},
   "outputs": [],
   "source": []
  },
  {
   "cell_type": "code",
   "execution_count": null,
   "metadata": {},
   "outputs": [],
   "source": []
  },
  {
   "cell_type": "code",
   "execution_count": null,
   "metadata": {},
   "outputs": [],
   "source": []
  },
  {
   "cell_type": "code",
   "execution_count": null,
   "metadata": {},
   "outputs": [],
   "source": []
  },
  {
   "cell_type": "markdown",
   "metadata": {},
   "source": [
    "## Add a new cell (a)bove"
   ]
  },
  {
   "cell_type": "markdown",
   "metadata": {},
   "source": [
    "## Add a new cell (b)elow"
   ]
  },
  {
   "cell_type": "code",
   "execution_count": null,
   "metadata": {},
   "outputs": [],
   "source": []
  },
  {
   "cell_type": "markdown",
   "metadata": {},
   "source": [
    "## (d)(d)elete \n",
    "## unD(z)o "
   ]
  },
  {
   "cell_type": "markdown",
   "metadata": {},
   "source": [
    "## (c)opy cells\n",
    "\n",
    "## (v)aste cells"
   ]
  },
  {
   "cell_type": "markdown",
   "metadata": {},
   "source": [
    "# Pivot Tables w/ pandas\n",
    "\n",
    "A library and example from: http://nicolas.kruchten.com/content/2015/09/jupyter_pivottablejs/"
   ]
  },
  {
   "cell_type": "code",
   "execution_count": null,
   "metadata": {
    "ExecuteTime": {
     "end_time": "2020-09-18T01:11:28.535160Z",
     "start_time": "2020-09-18T01:11:28.516831Z"
    },
    "execution_event_id": "feae431d-e0b8-4129-b5a1-44683a71f02e",
    "last_executed_text": "# df = pd.read_csv(\"../data/mps.csv\", encoding=\"ISO-8859-1\")\n# canadian_politics = pd.read_csv(\"../data/montreal_2014.csv\",)\ncanadian_politics = pd.read_csv(\"../data/mps2.csv\")",
    "persistent_id": "646cd755-8c22-4efe-9f37-4629e03fc41d"
   },
   "outputs": [],
   "source": [
    "canadian_politics = pd.read_csv(\"../data/mps2.csv\")"
   ]
  },
  {
   "cell_type": "code",
   "execution_count": null,
   "metadata": {
    "ExecuteTime": {
     "end_time": "2020-09-18T01:11:39.998368Z",
     "start_time": "2020-09-18T01:11:39.980478Z"
    },
    "execution_event_id": "3bf0cb3a-6a47-4a70-93c3-5f2678de2f2f",
    "last_executed_text": "# recommend using .head()\ncanadian_politics.head(10)",
    "persistent_id": "eb2f750c-1142-4f82-bb4a-b24e13bf5652"
   },
   "outputs": [],
   "source": [
    "# recommend using .head()\n",
    "canadian_politics.head(10)"
   ]
  },
  {
   "cell_type": "code",
   "execution_count": null,
   "metadata": {
    "ExecuteTime": {
     "end_time": "2020-09-18T01:13:04.534685Z",
     "start_time": "2020-09-18T01:13:04.395844Z"
    },
    "execution_event_id": "06fa634a-482b-4edd-ba0f-62a9b00af5f8",
    "last_executed_text": "sns.distplot(canadian_politics[\"Age\"].dropna());",
    "persistent_id": "e69366c4-06ab-480c-9517-27a92536a7f3"
   },
   "outputs": [],
   "source": [
    "sns.distplot(canadian_politics[\"Age\"].dropna());"
   ]
  },
  {
   "cell_type": "code",
   "execution_count": null,
   "metadata": {
    "ExecuteTime": {
     "end_time": "2020-09-18T01:13:27.189419Z",
     "start_time": "2020-09-18T01:13:27.187062Z"
    },
    "execution_event_id": "46322154-8a48-4806-9525-674536d939de",
    "last_executed_text": "sns.set_context(\"poster\", font_scale=1.3)",
    "persistent_id": "07d985ae-a47f-4486-8877-71e9529824de"
   },
   "outputs": [],
   "source": [
    "sns.set_context(\"poster\", font_scale=1.3)"
   ]
  },
  {
   "cell_type": "code",
   "execution_count": null,
   "metadata": {
    "ExecuteTime": {
     "end_time": "2020-09-18T01:13:28.031979Z",
     "start_time": "2020-09-18T01:13:27.871692Z"
    },
    "execution_event_id": "8402cb15-a04b-48d8-a281-7956f1716ca4",
    "last_executed_text": "fig, ax = plt.subplots(figsize=(12, 8))\nsns.distplot(canadian_politics[\"Age\"].dropna())\nfig.tight_layout()",
    "persistent_id": "dea1274f-c2fa-4fce-b2ff-864248c03b86"
   },
   "outputs": [],
   "source": [
    "fig, ax = plt.subplots(figsize=(12, 8))\n",
    "sns.distplot(canadian_politics[\"Age\"].dropna())\n",
    "fig.tight_layout()"
   ]
  },
  {
   "cell_type": "markdown",
   "metadata": {},
   "source": [
    "# Enhanced Pandas Dataframe Display"
   ]
  },
  {
   "cell_type": "code",
   "execution_count": null,
   "metadata": {
    "ExecuteTime": {
     "end_time": "2020-09-18T01:14:33.940776Z",
     "start_time": "2020-09-18T01:14:33.939368Z"
    },
    "execution_event_id": "50577d9b-14d8-4270-a8ad-ead2c262d503",
    "last_executed_text": "# Province, Party, Average, Age, Heatmap",
    "persistent_id": "d51338c0-4a0d-4f36-8c01-c304b6e0c6c1"
   },
   "outputs": [],
   "source": [
    "# Province, Party, (deselect) Average, Age, Heatmap"
   ]
  },
  {
   "cell_type": "code",
   "execution_count": null,
   "metadata": {
    "ExecuteTime": {
     "end_time": "2020-09-18T01:20:44.803193Z",
     "start_time": "2020-09-18T01:20:44.798320Z"
    },
    "execution_event_id": "42c7e3a8-9df7-47e6-9a6c-3528de0fb2f8",
    "last_executed_text": "pivot_ui(canadian_politics)",
    "persistent_id": "b39539b8-5424-4347-85b6-f7573dc8ae03"
   },
   "outputs": [],
   "source": [
    "pivot_ui(canadian_politics)"
   ]
  },
  {
   "cell_type": "code",
   "execution_count": null,
   "metadata": {
    "ExecuteTime": {
     "end_time": "2020-09-18T01:19:30.931538Z",
     "start_time": "2020-09-18T01:19:30.902341Z"
    },
    "execution_event_id": "4b79df8c-b7ca-4910-be78-abe695ce56f6",
    "last_executed_text": "pd.read_clipboard(sep='\\t')",
    "persistent_id": "080bc2d8-eab1-4f0c-8768-f040f26cbdce"
   },
   "outputs": [],
   "source": [
    "newdf = pd.read_clipboard(sep='\\t')\n",
    "newdf.fillna(\"\")"
   ]
  },
  {
   "cell_type": "code",
   "execution_count": null,
   "metadata": {},
   "outputs": [],
   "source": []
  },
  {
   "cell_type": "code",
   "execution_count": null,
   "metadata": {
    "ExecuteTime": {
     "end_time": "2020-09-18T01:21:34.613991Z",
     "start_time": "2020-09-18T01:21:34.610168Z"
    },
    "execution_event_id": "d5ea25c6-0246-4f68-865a-9a672acc7450",
    "last_executed_text": "canadian_politics['Age-bin'] = pd.cut(canadian_politics['Age'], [x for x in range(10, 100, 5)])",
    "persistent_id": "dbd0b1e0-cd72-4b92-b371-048bb040b2ec",
    "scrolled": true
   },
   "outputs": [],
   "source": [
    "canadian_politics['Age-bin'] = pd.cut(canadian_politics['Age'], [x for x in range(10, 100, 5)])\n",
    "# pd.qcut# neat!"
   ]
  },
  {
   "cell_type": "markdown",
   "metadata": {},
   "source": [
    "# Tab -- Your Friend"
   ]
  },
  {
   "cell_type": "code",
   "execution_count": null,
   "metadata": {
    "ExecuteTime": {
     "end_time": "2020-09-18T01:22:31.982890Z",
     "start_time": "2020-09-18T01:22:31.980894Z"
    },
    "execution_event_id": "3eb6bfac-a0c1-4a10-be91-7b9f2c65cbcc",
    "last_executed_text": "import numpy as np",
    "persistent_id": "ffc60d8b-1163-467f-a3d6-3c8bd704e21f"
   },
   "outputs": [],
   "source": [
    "import numpy as np"
   ]
  },
  {
   "cell_type": "code",
   "execution_count": null,
   "metadata": {},
   "outputs": [],
   "source": [
    "from numpy.random import chisquare, choice"
   ]
  },
  {
   "cell_type": "code",
   "execution_count": null,
   "metadata": {
    "ExecuteTime": {
     "end_time": "2020-01-17T00:14:06.519577Z",
     "start_time": "2020-01-17T00:14:06.346314Z"
    },
    "execution_event_id": "dbb3cbad-8308-4dda-af2a-a17abecea697",
    "last_executed_text": "np.random.chisquare()",
    "persistent_id": "7a734967-ab48-49da-8415-d9465cfdd79a"
   },
   "outputs": [],
   "source": [
    "np.random.chisquare()"
   ]
  },
  {
   "cell_type": "code",
   "execution_count": null,
   "metadata": {
    "ExecuteTime": {
     "end_time": "2020-01-17T00:14:06.650297Z",
     "start_time": "2020-01-17T00:14:06.639955Z"
    },
    "persistent_id": "f7a2acd3-017a-4d68-ade0-5e751b15beea"
   },
   "outputs": [],
   "source": [
    "# pure tab right ↓ less useful\n",
    "np.random.choice()"
   ]
  },
  {
   "cell_type": "code",
   "execution_count": null,
   "metadata": {
    "persistent_id": "e4a99e3d-a1bb-4ca9-bf04-3083ba8882bb"
   },
   "outputs": [],
   "source": []
  },
  {
   "cell_type": "code",
   "execution_count": null,
   "metadata": {},
   "outputs": [],
   "source": []
  },
  {
   "cell_type": "code",
   "execution_count": null,
   "metadata": {},
   "outputs": [],
   "source": []
  },
  {
   "cell_type": "code",
   "execution_count": null,
   "metadata": {},
   "outputs": [],
   "source": []
  },
  {
   "cell_type": "code",
   "execution_count": null,
   "metadata": {},
   "outputs": [],
   "source": []
  },
  {
   "cell_type": "code",
   "execution_count": null,
   "metadata": {
    "persistent_id": "b57abe30-2030-4b8a-a146-64222d53cd8e"
   },
   "outputs": [],
   "source": []
  },
  {
   "cell_type": "code",
   "execution_count": null,
   "metadata": {
    "persistent_id": "a8f87805-6473-4d86-a746-66e04eef185b"
   },
   "outputs": [],
   "source": []
  },
  {
   "cell_type": "markdown",
   "metadata": {},
   "source": [
    "## shift-tab"
   ]
  },
  {
   "cell_type": "code",
   "execution_count": null,
   "metadata": {
    "ExecuteTime": {
     "start_time": "2020-01-17T00:13:00.537Z"
    },
    "execution_event_id": "39b6fb50-ffcd-41b6-917d-afd9992666f8",
    "last_executed_text": "# shift-tab right ↓ more useful\nnp.linspace(start=50, stop=100, endpoint=False)",
    "persistent_id": "e168be3c-422d-45b4-900a-6ee471fe39c2"
   },
   "outputs": [],
   "source": [
    "# shift-tab right ↓ more useful\n",
    "np.linspace(start=50, stop=100, endpoint=False)"
   ]
  },
  {
   "cell_type": "code",
   "execution_count": null,
   "metadata": {
    "persistent_id": "c6130ab4-7fc5-43ea-aeef-20cba6eefe17"
   },
   "outputs": [],
   "source": []
  },
  {
   "cell_type": "code",
   "execution_count": null,
   "metadata": {},
   "outputs": [],
   "source": []
  },
  {
   "cell_type": "code",
   "execution_count": null,
   "metadata": {},
   "outputs": [],
   "source": []
  },
  {
   "cell_type": "code",
   "execution_count": null,
   "metadata": {},
   "outputs": [],
   "source": []
  },
  {
   "cell_type": "code",
   "execution_count": null,
   "metadata": {},
   "outputs": [],
   "source": []
  },
  {
   "cell_type": "code",
   "execution_count": null,
   "metadata": {},
   "outputs": [],
   "source": []
  },
  {
   "cell_type": "code",
   "execution_count": null,
   "metadata": {},
   "outputs": [],
   "source": []
  },
  {
   "cell_type": "code",
   "execution_count": null,
   "metadata": {},
   "outputs": [],
   "source": []
  },
  {
   "cell_type": "code",
   "execution_count": null,
   "metadata": {},
   "outputs": [],
   "source": []
  },
  {
   "cell_type": "code",
   "execution_count": null,
   "metadata": {},
   "outputs": [],
   "source": []
  },
  {
   "cell_type": "code",
   "execution_count": null,
   "metadata": {},
   "outputs": [],
   "source": []
  },
  {
   "cell_type": "code",
   "execution_count": null,
   "metadata": {
    "persistent_id": "3515bfa1-9e0e-47c0-87fb-4fe7a79f0e31"
   },
   "outputs": [],
   "source": []
  },
  {
   "cell_type": "code",
   "execution_count": null,
   "metadata": {
    "persistent_id": "946e5818-e06e-4689-a1d1-311f34435682"
   },
   "outputs": [],
   "source": []
  },
  {
   "cell_type": "code",
   "execution_count": null,
   "metadata": {
    "persistent_id": "405816b8-172b-4b76-9a5f-418e53766f75"
   },
   "outputs": [],
   "source": []
  },
  {
   "cell_type": "code",
   "execution_count": null,
   "metadata": {
    "persistent_id": "4f8ac0c0-0832-46de-a47e-1b8d1808988b"
   },
   "outputs": [],
   "source": []
  },
  {
   "cell_type": "code",
   "execution_count": null,
   "metadata": {
    "persistent_id": "3894f1c9-3f32-4748-9d86-2fdd93fe5a2a"
   },
   "outputs": [],
   "source": []
  },
  {
   "cell_type": "code",
   "execution_count": null,
   "metadata": {
    "persistent_id": "83d7a991-f982-4afd-a91e-5a3bc84a2083"
   },
   "outputs": [],
   "source": []
  },
  {
   "cell_type": "code",
   "execution_count": null,
   "metadata": {
    "persistent_id": "282e726e-2159-411a-8798-f908505cc7eb"
   },
   "outputs": [],
   "source": []
  },
  {
   "cell_type": "markdown",
   "metadata": {},
   "source": [
    "## shift-tab-tab"
   ]
  },
  {
   "cell_type": "code",
   "execution_count": null,
   "metadata": {
    "ExecuteTime": {
     "end_time": "2020-09-18T01:26:01.454140Z",
     "start_time": "2020-09-18T01:26:01.441444Z"
    },
    "persistent_id": "1fafd8a8-eb93-4c9a-a8d6-beaf78242322"
   },
   "outputs": [],
   "source": [
    "np.linspace(start=50, end=120)"
   ]
  },
  {
   "cell_type": "code",
   "execution_count": null,
   "metadata": {},
   "outputs": [],
   "source": []
  },
  {
   "cell_type": "code",
   "execution_count": null,
   "metadata": {},
   "outputs": [],
   "source": []
  },
  {
   "cell_type": "code",
   "execution_count": null,
   "metadata": {},
   "outputs": [],
   "source": []
  },
  {
   "cell_type": "code",
   "execution_count": null,
   "metadata": {},
   "outputs": [],
   "source": []
  },
  {
   "cell_type": "code",
   "execution_count": null,
   "metadata": {},
   "outputs": [],
   "source": []
  },
  {
   "cell_type": "code",
   "execution_count": null,
   "metadata": {},
   "outputs": [],
   "source": []
  },
  {
   "cell_type": "code",
   "execution_count": null,
   "metadata": {},
   "outputs": [],
   "source": []
  },
  {
   "cell_type": "code",
   "execution_count": null,
   "metadata": {},
   "outputs": [],
   "source": []
  },
  {
   "cell_type": "code",
   "execution_count": null,
   "metadata": {},
   "outputs": [],
   "source": []
  },
  {
   "cell_type": "code",
   "execution_count": null,
   "metadata": {},
   "outputs": [],
   "source": []
  },
  {
   "cell_type": "code",
   "execution_count": null,
   "metadata": {},
   "outputs": [],
   "source": []
  },
  {
   "cell_type": "code",
   "execution_count": null,
   "metadata": {},
   "outputs": [],
   "source": []
  },
  {
   "cell_type": "code",
   "execution_count": null,
   "metadata": {},
   "outputs": [],
   "source": []
  },
  {
   "cell_type": "code",
   "execution_count": null,
   "metadata": {},
   "outputs": [],
   "source": []
  },
  {
   "cell_type": "code",
   "execution_count": null,
   "metadata": {},
   "outputs": [],
   "source": []
  },
  {
   "cell_type": "code",
   "execution_count": null,
   "metadata": {},
   "outputs": [],
   "source": []
  },
  {
   "cell_type": "code",
   "execution_count": null,
   "metadata": {},
   "outputs": [],
   "source": []
  },
  {
   "cell_type": "code",
   "execution_count": null,
   "metadata": {},
   "outputs": [],
   "source": []
  },
  {
   "cell_type": "code",
   "execution_count": null,
   "metadata": {},
   "outputs": [],
   "source": []
  },
  {
   "cell_type": "code",
   "execution_count": null,
   "metadata": {
    "persistent_id": "33a9a67b-6092-4193-a061-ad55272b77b2"
   },
   "outputs": [],
   "source": []
  },
  {
   "cell_type": "markdown",
   "metadata": {},
   "source": [
    "## shift-tab-tab-tab"
   ]
  },
  {
   "cell_type": "code",
   "execution_count": null,
   "metadata": {
    "ExecuteTime": {
     "end_time": "2020-09-18T01:26:46.745388Z",
     "start_time": "2020-09-18T01:26:46.742200Z"
    },
    "persistent_id": "dda3feff-49bb-453d-86ad-cbb42b245044"
   },
   "outputs": [],
   "source": [
    "np.linspace(start=50, stop=150, num=100, endpoint=False)"
   ]
  },
  {
   "cell_type": "code",
   "execution_count": null,
   "metadata": {},
   "outputs": [],
   "source": []
  },
  {
   "cell_type": "code",
   "execution_count": null,
   "metadata": {},
   "outputs": [],
   "source": []
  },
  {
   "cell_type": "code",
   "execution_count": null,
   "metadata": {},
   "outputs": [],
   "source": []
  },
  {
   "cell_type": "code",
   "execution_count": null,
   "metadata": {},
   "outputs": [],
   "source": []
  },
  {
   "cell_type": "code",
   "execution_count": null,
   "metadata": {},
   "outputs": [],
   "source": []
  },
  {
   "cell_type": "code",
   "execution_count": null,
   "metadata": {},
   "outputs": [],
   "source": []
  },
  {
   "cell_type": "code",
   "execution_count": null,
   "metadata": {},
   "outputs": [],
   "source": []
  },
  {
   "cell_type": "code",
   "execution_count": null,
   "metadata": {},
   "outputs": [],
   "source": []
  },
  {
   "cell_type": "code",
   "execution_count": null,
   "metadata": {},
   "outputs": [],
   "source": []
  },
  {
   "cell_type": "code",
   "execution_count": null,
   "metadata": {},
   "outputs": [],
   "source": []
  },
  {
   "cell_type": "code",
   "execution_count": null,
   "metadata": {},
   "outputs": [],
   "source": []
  },
  {
   "cell_type": "code",
   "execution_count": null,
   "metadata": {},
   "outputs": [],
   "source": []
  },
  {
   "cell_type": "code",
   "execution_count": null,
   "metadata": {},
   "outputs": [],
   "source": []
  },
  {
   "cell_type": "code",
   "execution_count": null,
   "metadata": {},
   "outputs": [],
   "source": []
  },
  {
   "cell_type": "code",
   "execution_count": null,
   "metadata": {},
   "outputs": [],
   "source": []
  },
  {
   "cell_type": "code",
   "execution_count": null,
   "metadata": {},
   "outputs": [],
   "source": []
  },
  {
   "cell_type": "code",
   "execution_count": null,
   "metadata": {},
   "outputs": [],
   "source": []
  },
  {
   "cell_type": "code",
   "execution_count": null,
   "metadata": {},
   "outputs": [],
   "source": []
  },
  {
   "cell_type": "code",
   "execution_count": null,
   "metadata": {},
   "outputs": [],
   "source": []
  },
  {
   "cell_type": "code",
   "execution_count": null,
   "metadata": {},
   "outputs": [],
   "source": []
  },
  {
   "cell_type": "code",
   "execution_count": null,
   "metadata": {},
   "outputs": [],
   "source": []
  },
  {
   "cell_type": "code",
   "execution_count": null,
   "metadata": {},
   "outputs": [],
   "source": []
  },
  {
   "cell_type": "code",
   "execution_count": null,
   "metadata": {},
   "outputs": [],
   "source": []
  },
  {
   "cell_type": "code",
   "execution_count": null,
   "metadata": {},
   "outputs": [],
   "source": []
  },
  {
   "cell_type": "markdown",
   "metadata": {},
   "source": [
    "## shift-tab-tab-tab-tab"
   ]
  },
  {
   "cell_type": "code",
   "execution_count": null,
   "metadata": {
    "ExecuteTime": {
     "end_time": "2018-06-06T07:41:53.566846Z",
     "start_time": "2018-06-06T07:41:53.556479Z"
    },
    "persistent_id": "cbfb4d59-2ec9-4910-aeb9-8383ec35f5fe"
   },
   "outputs": [],
   "source": [
    "plt.plot(np.linspace(start, stop, num=50, ))"
   ]
  },
  {
   "cell_type": "code",
   "execution_count": null,
   "metadata": {
    "persistent_id": "aaed2b68-4700-4464-a3da-933b2d9a9a6b"
   },
   "outputs": [],
   "source": []
  },
  {
   "cell_type": "code",
   "execution_count": null,
   "metadata": {},
   "outputs": [],
   "source": []
  },
  {
   "cell_type": "code",
   "execution_count": null,
   "metadata": {},
   "outputs": [],
   "source": []
  },
  {
   "cell_type": "code",
   "execution_count": null,
   "metadata": {},
   "outputs": [],
   "source": []
  },
  {
   "cell_type": "code",
   "execution_count": null,
   "metadata": {
    "persistent_id": "21e88c7f-2060-4403-b61e-eb2c58ef1f30"
   },
   "outputs": [],
   "source": []
  },
  {
   "cell_type": "code",
   "execution_count": null,
   "metadata": {},
   "outputs": [],
   "source": []
  },
  {
   "cell_type": "code",
   "execution_count": null,
   "metadata": {},
   "outputs": [],
   "source": []
  },
  {
   "cell_type": "code",
   "execution_count": null,
   "metadata": {},
   "outputs": [],
   "source": []
  },
  {
   "cell_type": "code",
   "execution_count": null,
   "metadata": {},
   "outputs": [],
   "source": []
  },
  {
   "cell_type": "code",
   "execution_count": null,
   "metadata": {},
   "outputs": [],
   "source": []
  },
  {
   "cell_type": "code",
   "execution_count": null,
   "metadata": {},
   "outputs": [],
   "source": []
  },
  {
   "cell_type": "code",
   "execution_count": null,
   "metadata": {},
   "outputs": [],
   "source": []
  },
  {
   "cell_type": "code",
   "execution_count": null,
   "metadata": {},
   "outputs": [],
   "source": []
  },
  {
   "cell_type": "code",
   "execution_count": null,
   "metadata": {},
   "outputs": [],
   "source": []
  },
  {
   "cell_type": "code",
   "execution_count": null,
   "metadata": {},
   "outputs": [],
   "source": []
  },
  {
   "cell_type": "code",
   "execution_count": null,
   "metadata": {},
   "outputs": [],
   "source": []
  },
  {
   "cell_type": "code",
   "execution_count": null,
   "metadata": {},
   "outputs": [],
   "source": []
  },
  {
   "cell_type": "code",
   "execution_count": null,
   "metadata": {},
   "outputs": [],
   "source": []
  },
  {
   "cell_type": "code",
   "execution_count": null,
   "metadata": {},
   "outputs": [],
   "source": []
  },
  {
   "cell_type": "code",
   "execution_count": null,
   "metadata": {},
   "outputs": [],
   "source": []
  },
  {
   "cell_type": "code",
   "execution_count": null,
   "metadata": {},
   "outputs": [],
   "source": []
  },
  {
   "cell_type": "code",
   "execution_count": null,
   "metadata": {
    "persistent_id": "7c162d78-44e0-4ffc-9a33-679cd26eb2c3"
   },
   "outputs": [],
   "source": []
  },
  {
   "cell_type": "code",
   "execution_count": null,
   "metadata": {
    "persistent_id": "dddd6e42-3ce3-49ac-bee8-f81ec6fa500f"
   },
   "outputs": [],
   "source": []
  },
  {
   "cell_type": "markdown",
   "metadata": {},
   "source": [
    "## DO NOT TRY shift-tab-tab-tab-tab-tab"
   ]
  },
  {
   "cell_type": "code",
   "execution_count": null,
   "metadata": {},
   "outputs": [],
   "source": []
  },
  {
   "cell_type": "code",
   "execution_count": null,
   "metadata": {},
   "outputs": [],
   "source": []
  },
  {
   "cell_type": "code",
   "execution_count": null,
   "metadata": {},
   "outputs": [],
   "source": []
  },
  {
   "cell_type": "code",
   "execution_count": null,
   "metadata": {},
   "outputs": [],
   "source": []
  },
  {
   "cell_type": "code",
   "execution_count": null,
   "metadata": {},
   "outputs": [],
   "source": []
  },
  {
   "cell_type": "code",
   "execution_count": null,
   "metadata": {},
   "outputs": [],
   "source": []
  },
  {
   "cell_type": "code",
   "execution_count": null,
   "metadata": {},
   "outputs": [],
   "source": []
  },
  {
   "cell_type": "code",
   "execution_count": null,
   "metadata": {},
   "outputs": [],
   "source": []
  },
  {
   "cell_type": "code",
   "execution_count": null,
   "metadata": {},
   "outputs": [],
   "source": []
  },
  {
   "cell_type": "markdown",
   "metadata": {},
   "source": [
    "## ?"
   ]
  },
  {
   "cell_type": "code",
   "execution_count": null,
   "metadata": {
    "ExecuteTime": {
     "end_time": "2020-09-18T01:28:52.614343Z",
     "start_time": "2020-09-18T01:28:52.610974Z"
    },
    "execution_event_id": "99c7ec0c-5c24-44c3-99d5-1af74556d82f",
    "last_executed_text": "np.linspace?",
    "persistent_id": "f1b235f2-cbfb-47c2-a110-e618c2160cdc"
   },
   "outputs": [],
   "source": [
    "np.linspace?"
   ]
  },
  {
   "cell_type": "code",
   "execution_count": null,
   "metadata": {
    "ExecuteTime": {
     "end_time": "2020-09-18T01:28:59.656865Z",
     "start_time": "2020-09-18T01:28:59.653734Z"
    },
    "execution_event_id": "0c7c2bca-a30f-4f53-8e17-8945d47bffb2",
    "last_executed_text": "?np.linspace",
    "persistent_id": "591deb25-5503-4f05-8804-03e909a03e84"
   },
   "outputs": [],
   "source": [
    "?np.linspace"
   ]
  },
  {
   "cell_type": "markdown",
   "metadata": {},
   "source": [
    "## ??\n",
    "\n",
    "(Lab can scroll if you click)"
   ]
  },
  {
   "cell_type": "code",
   "execution_count": null,
   "metadata": {
    "ExecuteTime": {
     "end_time": "2020-09-18T01:29:31.549845Z",
     "start_time": "2020-09-18T01:29:31.536015Z"
    },
    "execution_event_id": "b4ea38ff-4e55-48f7-884c-8676b9ef4891",
    "last_executed_text": "np.linspace??",
    "persistent_id": "b709800a-b4d9-40e0-b810-b53d5be31737"
   },
   "outputs": [],
   "source": [
    "np.linspace??"
   ]
  },
  {
   "cell_type": "code",
   "execution_count": null,
   "metadata": {
    "ExecuteTime": {
     "end_time": "2020-09-18T01:31:10.067762Z",
     "start_time": "2020-09-18T01:31:07.402599Z"
    },
    "persistent_id": "7256abb3-2382-4acc-83cd-edcb28ba4628"
   },
   "outputs": [],
   "source": [
    "!code ~/miniconda3/envs/dspy3/lib/python3.6/site-packages/numpy/core/function_base.py"
   ]
  },
  {
   "cell_type": "markdown",
   "metadata": {},
   "source": [
    "# Random stuff"
   ]
  },
  {
   "cell_type": "code",
   "execution_count": null,
   "metadata": {
    "ExecuteTime": {
     "end_time": "2020-09-18T01:31:44.677404Z",
     "start_time": "2020-09-18T01:31:44.673514Z"
    },
    "execution_event_id": "2ad0dfca-8911-4fe9-9e8f-446214c0e5d7",
    "last_executed_text": "import textwrap\ndef example_function():\n    \"\"\"Docstring for example function\"\"\"\n    \n    print(textwrap.dedent(\"\"\"\n    This is a multi-lined string\n    that I want to write inside of a function.\n    Notice what happens when I print this.\n        And when something is indented more.\"\"\"))\n\n\nexample_function()",
    "persistent_id": "2dd939f9-4894-4c97-99ee-842a9cf63707"
   },
   "outputs": [],
   "source": [
    "import textwrap\n",
    "def example_function():\n",
    "    \"\"\"Docstring for example function\"\"\"\n",
    "    \n",
    "    print(textwrap.dedent(\"\"\"\n",
    "    This is a multi-lined string\n",
    "    that I want to write inside of a function.\n",
    "    Notice what happens when I print this.\n",
    "        And when something is indented more.\"\"\"))\n",
    "\n",
    "\n",
    "example_function()"
   ]
  },
  {
   "cell_type": "code",
   "execution_count": null,
   "metadata": {
    "ExecuteTime": {
     "end_time": "2020-09-18T01:31:58.363979Z",
     "start_time": "2020-09-18T01:31:58.361830Z"
    }
   },
   "outputs": [],
   "source": [
    "# python3.6+"
   ]
  },
  {
   "cell_type": "code",
   "execution_count": null,
   "metadata": {
    "ExecuteTime": {
     "end_time": "2020-09-18T01:32:08.545784Z",
     "start_time": "2020-09-18T01:32:08.543111Z"
    }
   },
   "outputs": [],
   "source": [
    "name"
   ]
  },
  {
   "cell_type": "code",
   "execution_count": null,
   "metadata": {
    "ExecuteTime": {
     "end_time": "2020-09-18T01:32:28.400337Z",
     "start_time": "2020-09-18T01:32:28.397982Z"
    }
   },
   "outputs": [],
   "source": [
    "f\"{name}'s name is not Alex.\""
   ]
  },
  {
   "cell_type": "code",
   "execution_count": null,
   "metadata": {
    "ExecuteTime": {
     "end_time": "2020-09-18T01:34:04.673941Z",
     "start_time": "2020-09-18T01:34:04.670984Z"
    }
   },
   "outputs": [],
   "source": [
    "age = 37\n",
    "f\"{age} plus 2 = {age + 2}\"\n",
    "\n",
    "# Note: \n",
    "# f\"\"\"{example_dictionary[\"key\"]}\"\"\""
   ]
  },
  {
   "cell_type": "code",
   "execution_count": null,
   "metadata": {},
   "outputs": [],
   "source": []
  },
  {
   "cell_type": "code",
   "execution_count": null,
   "metadata": {},
   "outputs": [],
   "source": []
  },
  {
   "cell_type": "code",
   "execution_count": null,
   "metadata": {},
   "outputs": [],
   "source": []
  },
  {
   "cell_type": "code",
   "execution_count": null,
   "metadata": {},
   "outputs": [],
   "source": []
  },
  {
   "cell_type": "markdown",
   "metadata": {},
   "source": [
    "## Inspect _everything_ and Find and Replace"
   ]
  },
  {
   "cell_type": "code",
   "execution_count": null,
   "metadata": {
    "ExecuteTime": {
     "end_time": "2020-09-18T01:35:31.809763Z",
     "start_time": "2020-09-18T01:35:31.807442Z"
    },
    "execution_event_id": "43c59478-bf18-499c-9923-6642a04f74b9",
    "last_executed_text": "# But first find and replace\ndef silly_function(xval):\n    \"\"\"Takes a value and returns the value.\"\"\"\n    xval_sq = xval ** 2.0\n    1 + 12\n    xval_abs = np.sqrt(xval_sq)\n    return xval_abs",
    "persistent_id": "ea55279f-0c0e-4a87-8099-35951a5c64d2"
   },
   "outputs": [],
   "source": [
    "# But first find and replace\n",
    "def silly_function(xval):\n",
    "    \"\"\"Takes a value and returns the value.\"\"\"\n",
    "    xval_sq = xval ** 2.0\n",
    "    3 + 1\n",
    "    xval_abs = np.sqrt(xval_sq)\n",
    "    return xval_abs"
   ]
  },
  {
   "cell_type": "code",
   "execution_count": null,
   "metadata": {
    "ExecuteTime": {
     "end_time": "2020-09-18T01:35:32.776227Z",
     "start_time": "2020-09-18T01:35:32.773568Z"
    },
    "execution_event_id": "e17af4c5-1986-41ac-98a6-041086dda59a",
    "last_executed_text": "silly_function(-2,)",
    "persistent_id": "fb0fa1f1-51d4-48b0-8656-a2372ac6bba8"
   },
   "outputs": [],
   "source": [
    "silly_function(-2,)"
   ]
  },
  {
   "cell_type": "code",
   "execution_count": null,
   "metadata": {
    "ExecuteTime": {
     "end_time": "2020-09-18T01:35:33.127282Z",
     "start_time": "2020-09-18T01:35:33.124728Z"
    },
    "execution_event_id": "7b09e834-f580-40cd-bba5-6a7bb3d9b277",
    "last_executed_text": "silly_function?",
    "persistent_id": "684f8136-a102-4fca-9a38-f2bd1d7f0659"
   },
   "outputs": [],
   "source": [
    "silly_function?"
   ]
  },
  {
   "cell_type": "code",
   "execution_count": null,
   "metadata": {
    "ExecuteTime": {
     "end_time": "2020-09-18T01:35:33.511211Z",
     "start_time": "2020-09-18T01:35:33.506903Z"
    },
    "execution_event_id": "e4205668-f142-477e-9d98-cd8c8c3c2fa7",
    "last_executed_text": "silly_function??",
    "persistent_id": "4671b66f-3676-475d-968c-07701c20c24e"
   },
   "outputs": [],
   "source": [
    "silly_function??"
   ]
  },
  {
   "cell_type": "code",
   "execution_count": null,
   "metadata": {
    "ExecuteTime": {
     "end_time": "2020-09-18T01:36:10.515204Z",
     "start_time": "2020-09-18T01:36:10.391767Z"
    },
    "execution_event_id": "0b812da3-692d-406a-a1d4-5b1bcd1b5ae9",
    "last_executed_text": "!ls ../data/",
    "persistent_id": "9ab43ff0-98a4-44da-94d1-89d86ee0a180"
   },
   "outputs": [],
   "source": [
    "!ls ../data/"
   ]
  },
  {
   "cell_type": "code",
   "execution_count": null,
   "metadata": {
    "ExecuteTime": {
     "end_time": "2020-09-18T01:36:20.889291Z",
     "start_time": "2020-09-18T01:36:20.877360Z"
    },
    "execution_event_id": "039a4e83-59ae-4533-b496-3cdd0f09f365",
    "last_executed_text": "coal_years = !ls ../data/coal_prod_20*.csv",
    "persistent_id": "efeed389-27ed-4c67-ac6b-ef863892abc1"
   },
   "outputs": [],
   "source": [
    "coal_years = !ls ../data/coal_prod_20*.csv"
   ]
  },
  {
   "cell_type": "code",
   "execution_count": null,
   "metadata": {
    "ExecuteTime": {
     "end_time": "2020-09-18T01:36:21.477478Z",
     "start_time": "2020-09-18T01:36:21.474138Z"
    },
    "execution_event_id": "faadaf37-72da-4341-b252-9ab792df1bab",
    "last_executed_text": "coal_years",
    "persistent_id": "acd2b234-7821-4ff7-ae3a-817f57e65f5b"
   },
   "outputs": [],
   "source": [
    "coal_years"
   ]
  },
  {
   "cell_type": "code",
   "execution_count": null,
   "metadata": {
    "ExecuteTime": {
     "end_time": "2020-09-18T01:36:51.117906Z",
     "start_time": "2020-09-18T01:36:51.116268Z"
    }
   },
   "outputs": [],
   "source": [
    "from glob import glob "
   ]
  },
  {
   "cell_type": "code",
   "execution_count": null,
   "metadata": {
    "ExecuteTime": {
     "end_time": "2020-09-18T01:36:51.568414Z",
     "start_time": "2020-09-18T01:36:51.565828Z"
    }
   },
   "outputs": [],
   "source": [
    "for filename in glob(\"../data/coal_prod_20*.csv\"):\n",
    "    print(filename)"
   ]
  },
  {
   "cell_type": "markdown",
   "metadata": {},
   "source": [
    "## Line numbers (lowercase \"L\")\n",
    "\n",
    "Type lowercase \"L\" to have line numbers; shift-L for line numbers notebook-wide."
   ]
  },
  {
   "cell_type": "markdown",
   "metadata": {},
   "source": [
    "## Move blocks of code around\n",
    "\n",
    "\n",
    "### Indent/dedent\n",
    "\n",
    "    Cmd + [\n",
    "    Cmd + ]\n",
    "\n",
    "### Comment\n",
    "\n",
    "    Cmd + /"
   ]
  },
  {
   "cell_type": "code",
   "execution_count": null,
   "metadata": {
    "ExecuteTime": {
     "end_time": "2020-09-18T01:42:27.378469Z",
     "start_time": "2020-09-18T01:42:27.376006Z"
    },
    "execution_event_id": "741f141f-a59f-4e70-864f-396573c14beb",
    "last_executed_text": "example = {}\n\n# Indent/dedent/comment\nfor index in range(5):\n    example[\"float_one\"] = 1\n    example[\"float_two\"] = 2\n    example[\"float_three\"] = 3\n    example[\"float_four\"] = 4",
    "persistent_id": "dc226ce8-66ec-4547-8399-86df1ee7474d"
   },
   "outputs": [],
   "source": [
    "ex_dictionary = {}\n",
    "\n",
    "# Indent/dedent/comment\n",
    "\n",
    "for index in range(5):\n",
    "    ex_dictionary[\"float_one\"] = 1\n",
    "    ex_dictionary[\"float_two\"] = 2\n",
    "    ex_dictionary[\"float_three\"] = 3\n",
    "    ex_dictionary[\"float_four\"] = 4"
   ]
  },
  {
   "cell_type": "code",
   "execution_count": null,
   "metadata": {
    "ExecuteTime": {
     "end_time": "2020-09-18T01:42:30.218092Z",
     "start_time": "2020-09-18T01:42:30.215284Z"
    },
    "persistent_id": "5bbdd8b8-c753-408d-a975-4ef4a3c2dba2"
   },
   "outputs": [],
   "source": [
    "ex_dictionary"
   ]
  },
  {
   "cell_type": "code",
   "execution_count": null,
   "metadata": {
    "persistent_id": "5a9fafca-174b-46d8-9e6b-e0cc8e863ceb"
   },
   "outputs": [],
   "source": []
  },
  {
   "cell_type": "code",
   "execution_count": null,
   "metadata": {},
   "outputs": [],
   "source": []
  },
  {
   "cell_type": "code",
   "execution_count": null,
   "metadata": {},
   "outputs": [],
   "source": []
  },
  {
   "cell_type": "code",
   "execution_count": null,
   "metadata": {
    "persistent_id": "86de0f31-24d6-4cc4-99c1-478c29a87a0b"
   },
   "outputs": [],
   "source": []
  },
  {
   "cell_type": "code",
   "execution_count": null,
   "metadata": {
    "persistent_id": "6f21b1ca-6164-41cb-a3f9-9b088c6a85cd"
   },
   "outputs": [],
   "source": []
  },
  {
   "cell_type": "code",
   "execution_count": null,
   "metadata": {
    "persistent_id": "b610c99e-1776-41e0-9e6c-1c709c0bc350"
   },
   "outputs": [],
   "source": []
  },
  {
   "cell_type": "code",
   "execution_count": null,
   "metadata": {
    "persistent_id": "8b382af0-e185-4a9c-8c45-c5ec046273be"
   },
   "outputs": [],
   "source": []
  },
  {
   "cell_type": "markdown",
   "metadata": {},
   "source": [
    "## Multicursor magic\n",
    "\n",
    "Hold down `option`, click and drag (for big cursor).\n",
    "\n",
    "cmd + click == wherever you click. \n",
    "\n",
    "Shift command P -- command palette Classic Notebook\n",
    "Shift command C -- command palette in JupyterLab\n",
    "\n",
    "Hide left bar (CMD + B)\n",
    "\n",
    "Full screen CMD + Shift + D (but CTRL + CMD F for browser fullscreen)\n",
    "\n",
    "Move cells around mouse"
   ]
  },
  {
   "cell_type": "code",
   "execution_count": null,
   "metadata": {
    "ExecuteTime": {
     "end_time": "2019-06-06T01:35:43.677925Z",
     "start_time": "2019-06-06T01:35:43.675237Z"
    },
    "persistent_id": "aa9c3019-ed09-4b46-9ef8-6864b12c62d9"
   },
   "outputs": [],
   "source": [
    "example[\"one_better_neat\"] = 1\n",
    "example[\"two_better_neat\"] = 2\n",
    "example[\"three_better_neat\"] = 3\n",
    "example[\"four_better_neat\"] = 4"
   ]
  },
  {
   "cell_type": "markdown",
   "metadata": {},
   "source": [
    "## Monospace"
   ]
  },
  {
   "cell_type": "markdown",
   "metadata": {},
   "source": [
    "You can also get `monospaced` fonts by indenting 4 spaces:\n",
    "\n",
    "    mkdir toc\n",
    "    cd toc"
   ]
  },
  {
   "cell_type": "markdown",
   "metadata": {},
   "source": [
    "## Syntax Highlighting"
   ]
  },
  {
   "cell_type": "markdown",
   "metadata": {},
   "source": [
    "Wrap with triple-backticks and language:\n",
    "\n",
    "```bash\n",
    "mkdir toc\n",
    "cd toc\n",
    "wget https://repo.continuum.io/miniconda/Miniconda3-latest-MacOSX-x86_64.sh\n",
    "```"
   ]
  },
  {
   "cell_type": "markdown",
   "metadata": {},
   "source": [
    "```SQL\n",
    "SELECT first_name,\n",
    "       last_name,\n",
    "       year_of_birth\n",
    "FROM presidents\n",
    "WHERE year_of_birth > 1800;\n",
    "```"
   ]
  },
  {
   "cell_type": "markdown",
   "metadata": {},
   "source": [
    "## Headings and LaTeX\n",
    "\n",
    "With text and $\\LaTeX$ support.\n",
    "\n",
    "$$\\begin{align}\n",
    "        B'&=-\\nabla \\times E,\\\\\n",
    "        E'&=\\nabla \\times B - 4\\pi j\n",
    "\\end{align}$$"
   ]
  },
  {
   "cell_type": "markdown",
   "metadata": {},
   "source": [
    "# Magics\n",
    "\n",
    " - `%` $\\equiv$ inline magic\n",
    " - `%%` $\\equiv$ cell magic\n",
    " \n",
    "## Read through the documentation: https://ipython.readthedocs.io/en/stable/interactive/magics.html"
   ]
  },
  {
   "cell_type": "code",
   "execution_count": null,
   "metadata": {
    "ExecuteTime": {
     "end_time": "2020-09-18T01:44:36.413738Z",
     "start_time": "2020-09-18T01:44:36.410985Z"
    },
    "execution_event_id": "0354d148-0c5a-42bc-919c-6acd9c865fcb",
    "last_executed_text": "%%latex\n\nIf you want to get crazier$\\ldots$\n\n\\begin{equation}\n\\oint_S {E_n dA = \\frac{1}{{\\varepsilon _0 }}} Q_\\textrm{inside}\n\\end{equation}",
    "persistent_id": "3b77d101-a596-423c-a7b6-e050ffbbbc2a"
   },
   "outputs": [],
   "source": [
    "%%latex\n",
    "\n",
    "If you want to get crazier$\\ldots$\n",
    "\n",
    "\\begin{equation}\n",
    "\\oint_S {E_n dA = \\frac{1}{{\\varepsilon _0 }}} Q_\\textrm{inside}\n",
    "\\end{equation}"
   ]
  },
  {
   "cell_type": "code",
   "execution_count": null,
   "metadata": {
    "ExecuteTime": {
     "end_time": "2020-09-18T01:45:26.659855Z",
     "start_time": "2020-09-18T01:45:26.617829Z"
    },
    "execution_event_id": "30641be1-3667-4497-9324-ebe883b783b9",
    "last_executed_text": "%%python2\nprint \"hi\"",
    "persistent_id": "8ad64db0-b6c7-45e5-8fd4-4c7260d982c0"
   },
   "outputs": [],
   "source": [
    "%%python2\n",
    "print \"hi\""
   ]
  },
  {
   "cell_type": "code",
   "execution_count": null,
   "metadata": {
    "ExecuteTime": {
     "end_time": "2020-09-18T01:46:11.122644Z",
     "start_time": "2020-09-18T01:45:50.578776Z"
    },
    "execution_event_id": "d6e3a8da-dd14-4f2b-9cde-a788639e91e9",
    "last_executed_text": "%%bash\nwget http://www.ast.cam.ac.uk/~rfc/vpfit11.1.tar.gz\nmkdir -p vpfit11\ncd vpfit11\ntar -xvzf ../vpfit11.1.tar.gz",
    "persistent_id": "753aa199-d7eb-4d3b-b6c1-c41cee5430a5"
   },
   "outputs": [],
   "source": [
    "%%bash\n",
    "wget http://www.ast.cam.ac.uk/%7Erfc/vpfit12.2.tar.gz\n",
    "mkdir -p vpfit12\n",
    "cd vpfit12\n",
    "tar -xvzf ../vpfit12.2.tar.gz"
   ]
  },
  {
   "cell_type": "markdown",
   "metadata": {
    "persistent_id": "3032ee12-092a-4a88-a81c-184b5fabf51d"
   },
   "source": [
    "## Scripting"
   ]
  },
  {
   "cell_type": "code",
   "execution_count": null,
   "metadata": {
    "ExecuteTime": {
     "end_time": "2020-09-18T01:46:14.284001Z",
     "start_time": "2020-09-18T01:46:14.281707Z"
    },
    "execution_event_id": "2480b65d-f2da-4b78-8df7-e9bf60285231",
    "last_executed_text": "normal_argument = 12.4\nsecond_argument = 98.4\n\narg_with_spaces = \"the secret to life\"",
    "persistent_id": "b61aa815-d196-452a-ad19-81a97f63c4a1"
   },
   "outputs": [],
   "source": [
    "normal_argument = 12.4\n",
    "second_argument = 98.4\n",
    "\n",
    "arg_with_spaces = \"the secret to life\""
   ]
  },
  {
   "cell_type": "code",
   "execution_count": null,
   "metadata": {
    "ExecuteTime": {
     "end_time": "2020-09-18T01:47:06.644045Z",
     "start_time": "2020-09-18T01:47:06.635857Z"
    },
    "execution_event_id": "f1f144e0-1178-4956-9a13-cfe980c86a22",
    "last_executed_text": "%%bash -s {normal_argument} {second_argument}\necho \"This script knows the value of the argument: $1\"\necho \"It also has no trouble with the second argument: $2\"",
    "persistent_id": "993bbfca-dc1b-4aa6-b99d-804745388d2e"
   },
   "outputs": [],
   "source": [
    "%%bash -s {normal_argument} {second_argument}\n",
    "echo \"This script knows the value of the argument: $1\"\n",
    "echo \"It also has no trouble with the second argument: $2\""
   ]
  },
  {
   "cell_type": "code",
   "execution_count": null,
   "metadata": {
    "ExecuteTime": {
     "end_time": "2020-09-18T01:47:07.050017Z",
     "start_time": "2020-09-18T01:47:07.040851Z"
    },
    "execution_event_id": "a7dbda42-a942-4b48-881f-2ee0d34529a2",
    "last_executed_text": "%%bash -s \"$arg_with_spaces\"\necho \"This bash script knows $1.\"",
    "persistent_id": "3e6bd91e-f32a-4358-a6bd-76613dbfbc5c"
   },
   "outputs": [],
   "source": [
    "%%bash -s \"$arg_with_spaces\"\n",
    "echo \"This bash script knows $1.\""
   ]
  },
  {
   "cell_type": "code",
   "execution_count": null,
   "metadata": {
    "ExecuteTime": {
     "end_time": "2020-09-18T01:48:05.483744Z",
     "start_time": "2020-09-18T01:48:05.481900Z"
    }
   },
   "outputs": [],
   "source": [
    "# %%R -i df -o df2\n",
    "# df2 <- "
   ]
  },
  {
   "cell_type": "code",
   "execution_count": null,
   "metadata": {
    "ExecuteTime": {
     "end_time": "2019-09-13T00:13:26.802713Z",
     "start_time": "2019-09-13T00:13:26.677875Z"
    },
    "execution_event_id": "34f4c661-f246-49b6-b3b4-d55c89d00015",
    "last_executed_text": "ls vpfit10/",
    "persistent_id": "a1f8182b-eb18-41c9-9b5d-e0306b32469a",
    "scrolled": true
   },
   "outputs": [],
   "source": [
    "ls vpfit10/"
   ]
  },
  {
   "cell_type": "code",
   "execution_count": null,
   "metadata": {
    "ExecuteTime": {
     "end_time": "2020-01-16T21:42:41.183618Z",
     "start_time": "2020-01-16T21:42:41.180141Z"
    },
    "execution_event_id": "230a3965-f0dd-4c49-8205-d744c9b5989a",
    "last_executed_text": "tailthing = \"*.ipynb\"",
    "persistent_id": "ed780724-eef3-4683-ba48-a3068ddf85d3"
   },
   "outputs": [],
   "source": [
    "tailthing = \"*.ipynb\""
   ]
  },
  {
   "cell_type": "code",
   "execution_count": null,
   "metadata": {
    "ExecuteTime": {
     "end_time": "2020-01-16T21:42:41.412568Z",
     "start_time": "2020-01-16T21:42:41.407543Z"
    },
    "execution_event_id": "709be233-0f06-45ed-9583-3fe66f156425",
    "last_executed_text": "tailthing",
    "persistent_id": "a318319c-2661-4e23-b20e-974d5fe9c358"
   },
   "outputs": [],
   "source": [
    "tailthing"
   ]
  },
  {
   "cell_type": "code",
   "execution_count": null,
   "metadata": {
    "ExecuteTime": {
     "end_time": "2020-01-16T21:42:42.002263Z",
     "start_time": "2020-01-16T21:42:41.873670Z"
    },
    "execution_event_id": "dbce3271-0906-49e2-a2cd-ce2c29c6f5f2",
    "last_executed_text": "!ls {tailthing}",
    "persistent_id": "c46006f1-07db-44c2-b976-d8fcd72b7c35"
   },
   "outputs": [],
   "source": [
    "!ls {tailthing}"
   ]
  },
  {
   "cell_type": "code",
   "execution_count": null,
   "metadata": {
    "ExecuteTime": {
     "end_time": "2020-01-16T21:42:44.751364Z",
     "start_time": "2020-01-16T21:42:44.737412Z"
    },
    "execution_event_id": "9292f2db-123a-490b-86b9-a29b6da5f135",
    "last_executed_text": "output = !ls ",
    "persistent_id": "0849e6f9-a7e6-43bc-a4e0-0cb274ac62ff"
   },
   "outputs": [],
   "source": [
    "output = !ls "
   ]
  },
  {
   "cell_type": "code",
   "execution_count": null,
   "metadata": {
    "ExecuteTime": {
     "end_time": "2020-01-16T21:42:45.041063Z",
     "start_time": "2020-01-16T21:42:45.036590Z"
    },
    "execution_event_id": "549481e7-769a-4370-9e67-cb0c80133f1c",
    "last_executed_text": "output",
    "persistent_id": "1ca59cd1-62bc-4390-9670-23c16d41505c"
   },
   "outputs": [],
   "source": [
    "output"
   ]
  },
  {
   "cell_type": "markdown",
   "metadata": {},
   "source": [
    "## Need to set or change environment variables"
   ]
  },
  {
   "cell_type": "code",
   "execution_count": null,
   "metadata": {
    "ExecuteTime": {
     "end_time": "2020-09-18T01:49:04.531433Z",
     "start_time": "2020-09-18T01:49:04.527919Z"
    },
    "execution_event_id": "9741f747-d417-4e2a-b487-a33e204445c7",
    "last_executed_text": "%env  ",
    "persistent_id": "41ff6d18-9413-4d7c-ae9d-f7b958ef9223"
   },
   "outputs": [],
   "source": [
    "%env "
   ]
  },
  {
   "cell_type": "markdown",
   "metadata": {},
   "source": [
    "## Danger zone\n",
    "\n",
    "    _, _N and _iN"
   ]
  },
  {
   "cell_type": "code",
   "execution_count": null,
   "metadata": {
    "ExecuteTime": {
     "end_time": "2020-09-18T01:49:33.840545Z",
     "start_time": "2020-09-18T01:49:33.719867Z"
    },
    "persistent_id": "acbe90cc-b55b-4c4b-9ab3-4e48640ee56d"
   },
   "outputs": [],
   "source": [
    "!pwd"
   ]
  },
  {
   "cell_type": "code",
   "execution_count": null,
   "metadata": {
    "ExecuteTime": {
     "end_time": "2020-09-18T01:50:32.298206Z",
     "start_time": "2020-09-18T01:50:32.295641Z"
    },
    "execution_event_id": "771ee9a3-ee3e-44d4-b146-d8ba08e567f6",
    "last_executed_text": "a = 3\na",
    "persistent_id": "4e1f0cfd-d1ef-46cc-bbd4-abcf0a207997"
   },
   "outputs": [],
   "source": [
    "a = 3\n",
    "a"
   ]
  },
  {
   "cell_type": "code",
   "execution_count": null,
   "metadata": {
    "ExecuteTime": {
     "end_time": "2020-09-18T01:50:33.312428Z",
     "start_time": "2020-09-18T01:50:33.306623Z"
    }
   },
   "outputs": [],
   "source": [
    "print(canadian_politics.head().to_latex())"
   ]
  },
  {
   "cell_type": "code",
   "execution_count": null,
   "metadata": {
    "ExecuteTime": {
     "end_time": "2020-09-18T01:50:50.480710Z",
     "start_time": "2020-09-18T01:50:50.478168Z"
    }
   },
   "outputs": [],
   "source": [
    "5 * 83"
   ]
  },
  {
   "cell_type": "code",
   "execution_count": null,
   "metadata": {
    "ExecuteTime": {
     "end_time": "2020-09-18T01:50:51.464845Z",
     "start_time": "2020-09-18T01:50:51.462546Z"
    },
    "execution_event_id": "9f943d88-71a5-4e60-8e21-0304e3184f66",
    "last_executed_text": "_",
    "persistent_id": "876376f0-2c19-46d4-99ca-765f767726e2"
   },
   "outputs": [],
   "source": [
    "_"
   ]
  },
  {
   "cell_type": "code",
   "execution_count": null,
   "metadata": {
    "ExecuteTime": {
     "end_time": "2020-09-18T01:51:01.716234Z",
     "start_time": "2020-09-18T01:51:01.713271Z"
    }
   },
   "outputs": [],
   "source": [
    "3 + 7"
   ]
  },
  {
   "cell_type": "code",
   "execution_count": null,
   "metadata": {
    "ExecuteTime": {
     "end_time": "2020-09-18T01:51:05.222834Z",
     "start_time": "2020-09-18T01:51:05.220534Z"
    }
   },
   "outputs": [],
   "source": [
    "_"
   ]
  },
  {
   "cell_type": "code",
   "execution_count": null,
   "metadata": {},
   "outputs": [],
   "source": []
  },
  {
   "cell_type": "code",
   "execution_count": null,
   "metadata": {
    "ExecuteTime": {
     "end_time": "2020-09-18T01:51:29.578757Z",
     "start_time": "2020-09-18T01:51:29.576930Z"
    },
    "execution_event_id": "c035d5e2-dce6-4040-848b-ce9ed2628e1e",
    "last_executed_text": "print(_i26)",
    "persistent_id": "0289e890-0bf1-4815-bb0b-f5740ea632ef"
   },
   "outputs": [],
   "source": [
    "print(_81)"
   ]
  },
  {
   "cell_type": "code",
   "execution_count": null,
   "metadata": {
    "persistent_id": "28d4d4b5-6d2a-4735-aa2e-4675d645d291"
   },
   "outputs": [],
   "source": []
  },
  {
   "cell_type": "code",
   "execution_count": null,
   "metadata": {
    "ExecuteTime": {
     "end_time": "2020-09-18T01:51:39.218592Z",
     "start_time": "2020-09-18T01:51:39.216865Z"
    },
    "persistent_id": "2040ed44-b4d5-4a30-b3b9-76c6145a5483"
   },
   "outputs": [],
   "source": [
    "saved = _25"
   ]
  },
  {
   "cell_type": "code",
   "execution_count": null,
   "metadata": {
    "ExecuteTime": {
     "end_time": "2020-09-18T01:51:39.729891Z",
     "start_time": "2020-09-18T01:51:39.727373Z"
    },
    "persistent_id": "b57b0c00-89b1-495c-bf16-88ed4a4f2cec"
   },
   "outputs": [],
   "source": [
    "saved"
   ]
  },
  {
   "cell_type": "code",
   "execution_count": null,
   "metadata": {
    "ExecuteTime": {
     "end_time": "2020-09-18T01:51:57.985805Z",
     "start_time": "2020-09-18T01:51:57.981851Z"
    },
    "scrolled": false
   },
   "outputs": [],
   "source": [
    "%history "
   ]
  },
  {
   "cell_type": "code",
   "execution_count": null,
   "metadata": {
    "ExecuteTime": {
     "end_time": "2020-09-18T01:52:47.398434Z",
     "start_time": "2020-09-18T01:52:47.395905Z"
    },
    "execution_event_id": "37952e62-e39e-4796-8a39-de8c0a412af5",
    "last_executed_text": "%history -f alex.ipynb",
    "persistent_id": "d2e54e4f-e47e-46a2-8c52-dc7672732be9",
    "scrolled": false
   },
   "outputs": [],
   "source": [
    "%history -opf alex.txt"
   ]
  },
  {
   "cell_type": "code",
   "execution_count": null,
   "metadata": {},
   "outputs": [],
   "source": []
  }
 ],
 "metadata": {
  "anaconda-cloud": {},
  "hide_input": false,
  "history": [
   {
    "cell": {
     "executionCount": 1,
     "executionEventId": "0239fa9c-5a2e-4d3e-998d-ccb71bde55fa",
     "hasError": false,
     "id": "a4124572-caa9-42cc-9a04-2090cf14bd07",
     "outputs": [],
     "persistentId": "5e98591e-08d0-4812-ba61-d0ecc428c08d",
     "text": "# code cell\nname = \"Jonathan\""
    },
    "executionTime": "2019-09-06T18:43:09.914Z"
   },
   {
    "cell": {
     "executionCount": 2,
     "executionEventId": "a67ab256-f9b9-4c1c-b44e-649b050c7e14",
     "hasError": false,
     "id": "a4124572-caa9-42cc-9a04-2090cf14bd07",
     "outputs": [],
     "persistentId": "5e98591e-08d0-4812-ba61-d0ecc428c08d",
     "text": "# code cell\nname = \"Jonathan\""
    },
    "executionTime": "2019-09-06T18:43:21.570Z"
   },
   {
    "cell": {
     "executionCount": 3,
     "executionEventId": "8e4cd12b-74d0-4cd5-99da-35948aaef7a8",
     "hasError": false,
     "id": "0870ed9d-a416-4f63-b8d4-2cf73de38958",
     "outputs": [],
     "persistentId": "ea0e37d6-44e2-411f-9da8-5b9c4dba6afe",
     "text": "first = 1"
    },
    "executionTime": "2019-09-06T18:43:29.882Z"
   },
   {
    "cell": {
     "executionCount": 4,
     "executionEventId": "6b2a0d54-351a-460e-8380-47006c6a0161",
     "hasError": false,
     "id": "a18a070e-2e76-43e9-99f3-de43693f520c",
     "outputs": [],
     "persistentId": "8fa080b3-f270-4d06-9fdc-ddd37ad35295",
     "text": "# Add this to python2 code to make life easier -- safe to use in python3 as well.\nfrom __future__ import absolute_import, division, print_function"
    },
    "executionTime": "2019-09-06T18:43:38.969Z"
   },
   {
    "cell": {
     "executionCount": 5,
     "executionEventId": "b4d78e43-f1f5-4f26-8d61-4933f6e5224e",
     "hasError": false,
     "id": "78c07d7c-5330-462d-a96e-ec4b4712e965",
     "outputs": [],
     "persistentId": "03635f66-daaa-47cf-bb74-883e8ce82c00",
     "text": "import numpy as np\n\n# don't do:\n# from numpy import *"
    },
    "executionTime": "2019-09-06T18:43:40.232Z"
   },
   {
    "cell": {
     "executionCount": 6,
     "executionEventId": "4f8bc197-7e03-497c-b3ed-6fc5cdd8f25b",
     "hasError": false,
     "id": "21e1d3f4-268a-46fb-a225-6511688c9212",
     "outputs": [
      {
       "data": {
        "text/plain": "'a'"
       },
       "execution_count": 6,
       "metadata": {},
       "output_type": "execute_result"
      }
     ],
     "persistentId": "e41e09ce-28e8-437f-9e9e-676775bc5fce",
     "text": "max(\"a\")"
    },
    "executionTime": "2019-09-06T18:43:40.950Z"
   },
   {
    "cell": {
     "executionCount": 7,
     "executionEventId": "ac9f2421-eb1f-473c-9f1b-7cc326b1f774",
     "hasError": true,
     "id": "e3f670c7-e45a-4af9-9707-933ca4f6d47b",
     "outputs": [
      {
       "ename": "TypeError",
       "evalue": "cannot perform reduce with flexible type",
       "output_type": "error",
       "traceback": [
        "\u001b[0;31m-----------------------------------------------------------------------\u001b[0m",
        "\u001b[0;31mTypeError\u001b[0m                             Traceback (most recent call last)",
        "\u001b[0;32m<ipython-input-7-4005723e4b17>\u001b[0m in \u001b[0;36m<module>\u001b[0;34m\u001b[0m\n\u001b[0;32m----> 1\u001b[0;31m \u001b[0mnp\u001b[0m\u001b[0;34m.\u001b[0m\u001b[0mmax\u001b[0m\u001b[0;34m(\u001b[0m\u001b[0;34m\"a\"\u001b[0m\u001b[0;34m)\u001b[0m\u001b[0;34m\u001b[0m\u001b[0;34m\u001b[0m\u001b[0m\n\u001b[0m",
        "\u001b[0;32m~/miniconda3/envs/dspy3/lib/python3.6/site-packages/numpy/core/fromnumeric.py\u001b[0m in \u001b[0;36mamax\u001b[0;34m(a, axis, out, keepdims, initial)\u001b[0m\n\u001b[1;32m   2503\u001b[0m     \"\"\"\n\u001b[1;32m   2504\u001b[0m     return _wrapreduction(a, np.maximum, 'max', axis, None, out, keepdims=keepdims,\n\u001b[0;32m-> 2505\u001b[0;31m                           initial=initial)\n\u001b[0m\u001b[1;32m   2506\u001b[0m \u001b[0;34m\u001b[0m\u001b[0m\n\u001b[1;32m   2507\u001b[0m \u001b[0;34m\u001b[0m\u001b[0m\n",
        "\u001b[0;32m~/miniconda3/envs/dspy3/lib/python3.6/site-packages/numpy/core/fromnumeric.py\u001b[0m in \u001b[0;36m_wrapreduction\u001b[0;34m(obj, ufunc, method, axis, dtype, out, **kwargs)\u001b[0m\n\u001b[1;32m     84\u001b[0m                 \u001b[0;32mreturn\u001b[0m \u001b[0mreduction\u001b[0m\u001b[0;34m(\u001b[0m\u001b[0maxis\u001b[0m\u001b[0;34m=\u001b[0m\u001b[0maxis\u001b[0m\u001b[0;34m,\u001b[0m \u001b[0mout\u001b[0m\u001b[0;34m=\u001b[0m\u001b[0mout\u001b[0m\u001b[0;34m,\u001b[0m \u001b[0;34m**\u001b[0m\u001b[0mpasskwargs\u001b[0m\u001b[0;34m)\u001b[0m\u001b[0;34m\u001b[0m\u001b[0;34m\u001b[0m\u001b[0m\n\u001b[1;32m     85\u001b[0m \u001b[0;34m\u001b[0m\u001b[0m\n\u001b[0;32m---> 86\u001b[0;31m     \u001b[0;32mreturn\u001b[0m \u001b[0mufunc\u001b[0m\u001b[0;34m.\u001b[0m\u001b[0mreduce\u001b[0m\u001b[0;34m(\u001b[0m\u001b[0mobj\u001b[0m\u001b[0;34m,\u001b[0m \u001b[0maxis\u001b[0m\u001b[0;34m,\u001b[0m \u001b[0mdtype\u001b[0m\u001b[0;34m,\u001b[0m \u001b[0mout\u001b[0m\u001b[0;34m,\u001b[0m \u001b[0;34m**\u001b[0m\u001b[0mpasskwargs\u001b[0m\u001b[0;34m)\u001b[0m\u001b[0;34m\u001b[0m\u001b[0;34m\u001b[0m\u001b[0m\n\u001b[0m\u001b[1;32m     87\u001b[0m \u001b[0;34m\u001b[0m\u001b[0m\n\u001b[1;32m     88\u001b[0m \u001b[0;34m\u001b[0m\u001b[0m\n",
        "\u001b[0;31mTypeError\u001b[0m: cannot perform reduce with flexible type"
       ]
      }
     ],
     "persistentId": "9939f76b-a6b5-413b-80e7-8595aab7f804",
     "text": "np.max(\"a\")"
    },
    "executionTime": "2019-09-06T18:43:42.036Z"
   },
   {
    "cell": {
     "executionCount": 8,
     "executionEventId": "20fe5c30-a786-4234-b9e5-795fee1fc777",
     "hasError": false,
     "id": "8d562bbd-a330-46e5-965c-3a26dd7cb09d",
     "outputs": [],
     "persistentId": "23f17423-b7db-427a-9453-8e1a5b0215ea",
     "text": "%matplotlib inline\n%config InlineBackend.figure_format='retina'"
    },
    "executionTime": "2019-09-06T18:43:45.182Z"
   },
   {
    "cell": {
     "executionCount": 9,
     "executionEventId": "fe214f94-5034-4f37-8611-18bc32d7f5c6",
     "hasError": false,
     "id": "3fa9fc9c-e3ab-4d27-b277-87992648657a",
     "outputs": [],
     "persistentId": "d595746b-e2e3-4f7c-baa3-417fb0512be5",
     "text": "import pandas as pd\nimport matplotlib.pyplot as plt\nimport seaborn as sns\nimport os\nfrom pivottablejs import pivot_ui\nimport sys\nimport warnings\n\nwarnings.filterwarnings(\"ignore\")"
    },
    "executionTime": "2019-09-06T18:44:08.450Z"
   },
   {
    "cell": {
     "executionCount": 10,
     "executionEventId": "a986597c-e053-4ea9-ae6a-b64dceada756",
     "hasError": false,
     "id": "0870ed9d-a416-4f63-b8d4-2cf73de38958",
     "outputs": [],
     "persistentId": "ea0e37d6-44e2-411f-9da8-5b9c4dba6afe",
     "text": "first = 1"
    },
    "executionTime": "2019-09-06T18:44:11.499Z"
   },
   {
    "cell": {
     "executionCount": 11,
     "executionEventId": "45c52fec-a0ee-4799-a07c-e8b027c489f9",
     "hasError": false,
     "id": "f3f79dd7-f1b7-4d02-8235-c7dc61c65504",
     "outputs": [],
     "persistentId": "53022f8e-b2ba-489e-aa21-b847224ed0c5",
     "text": "second = 2"
    },
    "executionTime": "2019-09-06T18:44:11.805Z"
   },
   {
    "cell": {
     "executionCount": 12,
     "executionEventId": "8db04190-84cb-408a-9fcb-4d45ef065a6e",
     "hasError": false,
     "id": "27bfc590-2f1c-404b-a1c6-51651952e73f",
     "outputs": [],
     "persistentId": "436ebfc0-e6c0-438d-83bd-30855822d454",
     "text": "third = 3"
    },
    "executionTime": "2019-09-06T18:44:12.376Z"
   },
   {
    "cell": {
     "executionCount": 13,
     "executionEventId": "49517fcf-553a-4a84-8562-6d33aef29e46",
     "hasError": false,
     "id": "1e67462c-60f0-40fa-8e29-d595d5314479",
     "outputs": [],
     "persistentId": "646cd755-8c22-4efe-9f37-4629e03fc41d",
     "text": "# df = pd.read_csv(\"../data/mps.csv\", encoding=\"ISO-8859-1\")\n# canadian_politics = pd.read_csv(\"../data/montreal_2014.csv\",)\ncanadian_politics = pd.read_csv(\"../data/mps2.csv\")"
    },
    "executionTime": "2019-09-06T18:44:34.180Z"
   },
   {
    "cell": {
     "executionCount": 14,
     "executionEventId": "0350fb76-6a3e-479e-b3b2-4c4a3dc6c14d",
     "hasError": false,
     "id": "a84cdcc7-b140-41ec-a556-e8c55345bbcd",
     "outputs": [
      {
       "data": {
        "text/html": "<div>\n<style scoped>\n    .dataframe tbody tr th:only-of-type {\n        vertical-align: middle;\n    }\n\n    .dataframe tbody tr th {\n        vertical-align: top;\n    }\n\n    .dataframe thead th {\n        text-align: right;\n    }\n</style>\n<table border=\"1\" class=\"dataframe\">\n  <thead>\n    <tr style=\"text-align: right;\">\n      <th></th>\n      <th>Name</th>\n      <th>Party</th>\n      <th>Province</th>\n      <th>Age</th>\n      <th>Gender</th>\n    </tr>\n  </thead>\n  <tbody>\n    <tr>\n      <th>0</th>\n      <td>Liu, Laurin</td>\n      <td>NDP</td>\n      <td>Quebec</td>\n      <td>22.0</td>\n      <td>Female</td>\n    </tr>\n    <tr>\n      <th>1</th>\n      <td>Mourani, Maria</td>\n      <td>Bloc Quebecois</td>\n      <td>Quebec</td>\n      <td>43.0</td>\n      <td>Female</td>\n    </tr>\n    <tr>\n      <th>2</th>\n      <td>Sellah, Djaouida</td>\n      <td>NDP</td>\n      <td>Quebec</td>\n      <td>NaN</td>\n      <td>Female</td>\n    </tr>\n    <tr>\n      <th>3</th>\n      <td>St-Denis, Lise</td>\n      <td>NDP</td>\n      <td>Quebec</td>\n      <td>72.0</td>\n      <td>Female</td>\n    </tr>\n    <tr>\n      <th>4</th>\n      <td>Fry, Hedy</td>\n      <td>Liberal</td>\n      <td>British Columbia</td>\n      <td>71.0</td>\n      <td>Female</td>\n    </tr>\n    <tr>\n      <th>5</th>\n      <td>Turmel, Nycole</td>\n      <td>NDP</td>\n      <td>Quebec</td>\n      <td>70.0</td>\n      <td>Female</td>\n    </tr>\n    <tr>\n      <th>6</th>\n      <td>Sgro, Judy</td>\n      <td>Liberal</td>\n      <td>Ontario</td>\n      <td>68.0</td>\n      <td>Female</td>\n    </tr>\n    <tr>\n      <th>7</th>\n      <td>Raynault, Francine</td>\n      <td>NDP</td>\n      <td>Quebec</td>\n      <td>67.0</td>\n      <td>Female</td>\n    </tr>\n    <tr>\n      <th>8</th>\n      <td>Davidson, Patricia</td>\n      <td>Conservative</td>\n      <td>Ontario</td>\n      <td>66.0</td>\n      <td>Female</td>\n    </tr>\n    <tr>\n      <th>9</th>\n      <td>Smith, Joy</td>\n      <td>Conservative</td>\n      <td>Manitoba</td>\n      <td>65.0</td>\n      <td>Female</td>\n    </tr>\n  </tbody>\n</table>\n</div>",
        "text/plain": "                 Name           Party          Province   Age  Gender\n0         Liu, Laurin             NDP            Quebec  22.0  Female\n1      Mourani, Maria  Bloc Quebecois            Quebec  43.0  Female\n2    Sellah, Djaouida             NDP            Quebec   NaN  Female\n3      St-Denis, Lise             NDP            Quebec  72.0  Female\n4           Fry, Hedy         Liberal  British Columbia  71.0  Female\n5      Turmel, Nycole             NDP            Quebec  70.0  Female\n6          Sgro, Judy         Liberal           Ontario  68.0  Female\n7  Raynault, Francine             NDP            Quebec  67.0  Female\n8  Davidson, Patricia    Conservative           Ontario  66.0  Female\n9          Smith, Joy    Conservative          Manitoba  65.0  Female"
       },
       "execution_count": 14,
       "metadata": {},
       "output_type": "execute_result"
      }
     ],
     "persistentId": "eb2f750c-1142-4f82-bb4a-b24e13bf5652",
     "text": "# recommend using .head()\ncanadian_politics.head(10)"
    },
    "executionTime": "2019-09-06T18:44:35.869Z"
   },
   {
    "cell": {
     "executionCount": 15,
     "executionEventId": "c1ed8c3f-df65-4f0d-bf40-81ac34f17113",
     "hasError": false,
     "id": "297c4e22-acb4-4b55-8689-106c24f7e587",
     "outputs": [
      {
       "data": {
        "text/plain": "<matplotlib.axes._subplots.AxesSubplot at 0x11f87c588>"
       },
       "execution_count": 15,
       "metadata": {},
       "output_type": "execute_result"
      },
      {
       "data": {
        "image/png": "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\n",
        "text/plain": "<Figure size 432x288 with 1 Axes>"
       },
       "metadata": {
        "image/png": {
         "height": 261,
         "width": 384
        },
        "needs_background": "light"
       },
       "output_type": "display_data"
      }
     ],
     "persistentId": "e69366c4-06ab-480c-9517-27a92536a7f3",
     "text": "sns.distplot(canadian_politics[\"Age\"].dropna())"
    },
    "executionTime": "2019-09-06T18:44:40.215Z"
   },
   {
    "cell": {
     "executionCount": 16,
     "executionEventId": "0c037042-372a-4fe1-8579-bd0b0dde3d45",
     "hasError": false,
     "id": "297c4e22-acb4-4b55-8689-106c24f7e587",
     "outputs": [
      {
       "data": {
        "image/png": "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\n",
        "text/plain": "<Figure size 432x288 with 1 Axes>"
       },
       "metadata": {
        "image/png": {
         "height": 261,
         "width": 384
        },
        "needs_background": "light"
       },
       "output_type": "display_data"
      }
     ],
     "persistentId": "e69366c4-06ab-480c-9517-27a92536a7f3",
     "text": "sns.distplot(canadian_politics[\"Age\"].dropna());"
    },
    "executionTime": "2019-09-06T18:44:44.544Z"
   },
   {
    "cell": {
     "executionCount": 17,
     "executionEventId": "05bd0cf1-32a1-4673-acdd-783ff1a39d91",
     "hasError": false,
     "id": "b51ff504-8c36-4e60-bace-7a481d5f8370",
     "outputs": [],
     "persistentId": "07d985ae-a47f-4486-8877-71e9529824de",
     "text": "sns.set_context(\"poster\", font_scale=1.3)"
    },
    "executionTime": "2019-09-06T18:44:51.356Z"
   },
   {
    "cell": {
     "executionCount": 18,
     "executionEventId": "a3d6744e-4f72-464e-8653-4cfd0b8a4db3",
     "hasError": false,
     "id": "ee001341-910a-40f3-883c-f546f7f6cd30",
     "outputs": [
      {
       "data": {
        "image/png": "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\n",
        "text/plain": "<Figure size 864x576 with 1 Axes>"
       },
       "metadata": {
        "image/png": {
         "height": 521,
         "width": 810
        },
        "needs_background": "light"
       },
       "output_type": "display_data"
      }
     ],
     "persistentId": "dea1274f-c2fa-4fce-b2ff-864248c03b86",
     "text": "fig, ax = plt.subplots(figsize=(12, 8))\nsns.distplot(canadian_politics[\"Age\"].dropna())\nfig.tight_layout()"
    },
    "executionTime": "2019-09-06T18:44:52.259Z"
   },
   {
    "cell": {
     "executionCount": 19,
     "executionEventId": "b53c7ef3-33ba-4a55-ac23-5a14cee87e1d",
     "hasError": false,
     "id": "17bfb04f-5d3c-472a-8df0-92a6137ffefe",
     "outputs": [
      {
       "data": {
        "text/html": "\n        <iframe\n            width=\"100%\"\n            height=\"500\"\n            src=\"pivottablejs.html\"\n            frameborder=\"0\"\n            allowfullscreen\n        ></iframe>\n        ",
        "text/plain": "<IPython.lib.display.IFrame at 0x121df6358>"
       },
       "execution_count": 19,
       "metadata": {},
       "output_type": "execute_result"
      }
     ],
     "persistentId": "b39539b8-5424-4347-85b6-f7573dc8ae03",
     "text": "pivot_ui(canadian_politics)"
    },
    "executionTime": "2019-09-06T18:46:47.535Z"
   },
   {
    "cell": {
     "executionCount": 20,
     "executionEventId": "81fed338-b394-4a9a-b826-c025aea067e9",
     "hasError": false,
     "id": "fafd9b5a-5f2d-48c9-ace5-c9f465e301ab",
     "outputs": [],
     "persistentId": "ffc60d8b-1163-467f-a3d6-3c8bd704e21f",
     "text": "import numpy as np"
    },
    "executionTime": "2019-09-06T18:46:52.344Z"
   },
   {
    "cell": {
     "executionCount": 21,
     "executionEventId": "dbb3cbad-8308-4dda-af2a-a17abecea697",
     "hasError": true,
     "id": "b521514b-6141-4ac2-ab28-eb3a3fbf9d4a",
     "outputs": [
      {
       "ename": "TypeError",
       "evalue": "chisquare() takes at least 1 positional argument (0 given)",
       "output_type": "error",
       "traceback": [
        "\u001b[0;31m-----------------------------------------------------------------------\u001b[0m",
        "\u001b[0;31mTypeError\u001b[0m                             Traceback (most recent call last)",
        "\u001b[0;32m<ipython-input-21-016675c2fa1d>\u001b[0m in \u001b[0;36m<module>\u001b[0;34m\u001b[0m\n\u001b[0;32m----> 1\u001b[0;31m \u001b[0mnp\u001b[0m\u001b[0;34m.\u001b[0m\u001b[0mrandom\u001b[0m\u001b[0;34m.\u001b[0m\u001b[0mchisquare\u001b[0m\u001b[0;34m(\u001b[0m\u001b[0;34m)\u001b[0m\u001b[0;34m\u001b[0m\u001b[0;34m\u001b[0m\u001b[0m\n\u001b[0m",
        "\u001b[0;32mmtrand.pyx\u001b[0m in \u001b[0;36mmtrand.RandomState.chisquare\u001b[0;34m()\u001b[0m\n",
        "\u001b[0;31mTypeError\u001b[0m: chisquare() takes at least 1 positional argument (0 given)"
       ]
      }
     ],
     "persistentId": "7a734967-ab48-49da-8415-d9465cfdd79a",
     "text": "np.random.chisquare()"
    },
    "executionTime": "2019-09-06T18:46:52.964Z"
   },
   {
    "cell": {
     "executionCount": 22,
     "executionEventId": "d43877c5-a0ec-4194-b791-a2a6172b89bd",
     "hasError": false,
     "id": "9feb4645-36a1-402e-beab-8201e8db8cc6",
     "outputs": [
      {
       "data": {
        "text/plain": "array([50., 51., 52., 53., 54., 55., 56., 57., 58., 59., 60., 61., 62.,\n       63., 64., 65., 66., 67., 68., 69., 70., 71., 72., 73., 74., 75.,\n       76., 77., 78., 79., 80., 81., 82., 83., 84., 85., 86., 87., 88.,\n       89., 90., 91., 92., 93., 94., 95., 96., 97., 98., 99.])"
       },
       "execution_count": 22,
       "metadata": {},
       "output_type": "execute_result"
      }
     ],
     "persistentId": "e168be3c-422d-45b4-900a-6ee471fe39c2",
     "text": "# shift-tab right ↓ more useful\nnp.linspace(start=50, endpoint=False, stop=100)"
    },
    "executionTime": "2019-09-06T18:48:10.100Z"
   },
   {
    "cell": {
     "executionCount": 23,
     "executionEventId": "1ccae02e-b6f3-4e1c-b6a0-28ef1ccf5110",
     "hasError": false,
     "id": "c64170a5-43bc-417b-adf3-8b5aa28071bc",
     "outputs": [
      {
       "data": {
        "text/plain": "\u001b[0;31mSignature:\u001b[0m\n\u001b[0mnp\u001b[0m\u001b[0;34m.\u001b[0m\u001b[0mlinspace\u001b[0m\u001b[0;34m(\u001b[0m\u001b[0;34m\u001b[0m\n\u001b[0;34m\u001b[0m    \u001b[0mstart\u001b[0m\u001b[0;34m,\u001b[0m\u001b[0;34m\u001b[0m\n\u001b[0;34m\u001b[0m    \u001b[0mstop\u001b[0m\u001b[0;34m,\u001b[0m\u001b[0;34m\u001b[0m\n\u001b[0;34m\u001b[0m    \u001b[0mnum\u001b[0m\u001b[0;34m=\u001b[0m\u001b[0;36m50\u001b[0m\u001b[0;34m,\u001b[0m\u001b[0;34m\u001b[0m\n\u001b[0;34m\u001b[0m    \u001b[0mendpoint\u001b[0m\u001b[0;34m=\u001b[0m\u001b[0;32mTrue\u001b[0m\u001b[0;34m,\u001b[0m\u001b[0;34m\u001b[0m\n\u001b[0;34m\u001b[0m    \u001b[0mretstep\u001b[0m\u001b[0;34m=\u001b[0m\u001b[0;32mFalse\u001b[0m\u001b[0;34m,\u001b[0m\u001b[0;34m\u001b[0m\n\u001b[0;34m\u001b[0m    \u001b[0mdtype\u001b[0m\u001b[0;34m=\u001b[0m\u001b[0;32mNone\u001b[0m\u001b[0;34m,\u001b[0m\u001b[0;34m\u001b[0m\n\u001b[0;34m\u001b[0m    \u001b[0maxis\u001b[0m\u001b[0;34m=\u001b[0m\u001b[0;36m0\u001b[0m\u001b[0;34m,\u001b[0m\u001b[0;34m\u001b[0m\n\u001b[0;34m\u001b[0m\u001b[0;34m)\u001b[0m\u001b[0;34m\u001b[0m\u001b[0;34m\u001b[0m\u001b[0m\n\u001b[0;31mDocstring:\u001b[0m\nReturn evenly spaced numbers over a specified interval.\n\nReturns `num` evenly spaced samples, calculated over the\ninterval [`start`, `stop`].\n\nThe endpoint of the interval can optionally be excluded.\n\n.. versionchanged:: 1.16.0\n    Non-scalar `start` and `stop` are now supported.\n\nParameters\n----------\nstart : array_like\n    The starting value of the sequence.\nstop : array_like\n    The end value of the sequence, unless `endpoint` is set to False.\n    In that case, the sequence consists of all but the last of ``num + 1``\n    evenly spaced samples, so that `stop` is excluded.  Note that the step\n    size changes when `endpoint` is False.\nnum : int, optional\n    Number of samples to generate. Default is 50. Must be non-negative.\nendpoint : bool, optional\n    If True, `stop` is the last sample. Otherwise, it is not included.\n    Default is True.\nretstep : bool, optional\n    If True, return (`samples`, `step`), where `step` is the spacing\n    between samples.\ndtype : dtype, optional\n    The type of the output array.  If `dtype` is not given, infer the data\n    type from the other input arguments.\n\n    .. versionadded:: 1.9.0\n\naxis : int, optional\n    The axis in the result to store the samples.  Relevant only if start\n    or stop are array-like.  By default (0), the samples will be along a\n    new axis inserted at the beginning. Use -1 to get an axis at the end.\n\n    .. versionadded:: 1.16.0\n\nReturns\n-------\nsamples : ndarray\n    There are `num` equally spaced samples in the closed interval\n    ``[start, stop]`` or the half-open interval ``[start, stop)``\n    (depending on whether `endpoint` is True or False).\nstep : float, optional\n    Only returned if `retstep` is True\n\n    Size of spacing between samples.\n\n\nSee Also\n--------\narange : Similar to `linspace`, but uses a step size (instead of the\n         number of samples).\ngeomspace : Similar to `linspace`, but with numbers spaced evenly on a log\n            scale (a geometric progression).\nlogspace : Similar to `geomspace`, but with the end points specified as\n           logarithms.\n\nExamples\n--------\n>>> np.linspace(2.0, 3.0, num=5)\narray([ 2.  ,  2.25,  2.5 ,  2.75,  3.  ])\n>>> np.linspace(2.0, 3.0, num=5, endpoint=False)\narray([ 2. ,  2.2,  2.4,  2.6,  2.8])\n>>> np.linspace(2.0, 3.0, num=5, retstep=True)\n(array([ 2.  ,  2.25,  2.5 ,  2.75,  3.  ]), 0.25)\n\nGraphical illustration:\n\n>>> import matplotlib.pyplot as plt\n>>> N = 8\n>>> y = np.zeros(N)\n>>> x1 = np.linspace(0, 10, N, endpoint=True)\n>>> x2 = np.linspace(0, 10, N, endpoint=False)\n>>> plt.plot(x1, y, 'o')\n[<matplotlib.lines.Line2D object at 0x...>]\n>>> plt.plot(x2, y + 0.5, 'o')\n[<matplotlib.lines.Line2D object at 0x...>]\n>>> plt.ylim([-0.5, 1])\n(-0.5, 1)\n>>> plt.show()\n\u001b[0;31mFile:\u001b[0m      ~/miniconda3/envs/dspy3/lib/python3.6/site-packages/numpy/core/function_base.py\n\u001b[0;31mType:\u001b[0m      function\n"
       },
       "metadata": {},
       "output_type": "display_data"
      }
     ],
     "persistentId": "f1b235f2-cbfb-47c2-a110-e618c2160cdc",
     "text": "np.linspace?"
    },
    "executionTime": "2019-09-06T18:48:28.498Z"
   },
   {
    "cell": {
     "executionCount": 24,
     "executionEventId": "555bb65e-702c-4865-b7b6-7e36b1ba4dbb",
     "hasError": false,
     "id": "932ff934-1500-4c5d-85a9-016ce0e7b9b2",
     "outputs": [
      {
       "data": {
        "text/plain": "\u001b[0;31mSignature:\u001b[0m\n\u001b[0mnp\u001b[0m\u001b[0;34m.\u001b[0m\u001b[0mlinspace\u001b[0m\u001b[0;34m(\u001b[0m\u001b[0;34m\u001b[0m\n\u001b[0;34m\u001b[0m    \u001b[0mstart\u001b[0m\u001b[0;34m,\u001b[0m\u001b[0;34m\u001b[0m\n\u001b[0;34m\u001b[0m    \u001b[0mstop\u001b[0m\u001b[0;34m,\u001b[0m\u001b[0;34m\u001b[0m\n\u001b[0;34m\u001b[0m    \u001b[0mnum\u001b[0m\u001b[0;34m=\u001b[0m\u001b[0;36m50\u001b[0m\u001b[0;34m,\u001b[0m\u001b[0;34m\u001b[0m\n\u001b[0;34m\u001b[0m    \u001b[0mendpoint\u001b[0m\u001b[0;34m=\u001b[0m\u001b[0;32mTrue\u001b[0m\u001b[0;34m,\u001b[0m\u001b[0;34m\u001b[0m\n\u001b[0;34m\u001b[0m    \u001b[0mretstep\u001b[0m\u001b[0;34m=\u001b[0m\u001b[0;32mFalse\u001b[0m\u001b[0;34m,\u001b[0m\u001b[0;34m\u001b[0m\n\u001b[0;34m\u001b[0m    \u001b[0mdtype\u001b[0m\u001b[0;34m=\u001b[0m\u001b[0;32mNone\u001b[0m\u001b[0;34m,\u001b[0m\u001b[0;34m\u001b[0m\n\u001b[0;34m\u001b[0m    \u001b[0maxis\u001b[0m\u001b[0;34m=\u001b[0m\u001b[0;36m0\u001b[0m\u001b[0;34m,\u001b[0m\u001b[0;34m\u001b[0m\n\u001b[0;34m\u001b[0m\u001b[0;34m)\u001b[0m\u001b[0;34m\u001b[0m\u001b[0;34m\u001b[0m\u001b[0m\n\u001b[0;31mDocstring:\u001b[0m\nReturn evenly spaced numbers over a specified interval.\n\nReturns `num` evenly spaced samples, calculated over the\ninterval [`start`, `stop`].\n\nThe endpoint of the interval can optionally be excluded.\n\n.. versionchanged:: 1.16.0\n    Non-scalar `start` and `stop` are now supported.\n\nParameters\n----------\nstart : array_like\n    The starting value of the sequence.\nstop : array_like\n    The end value of the sequence, unless `endpoint` is set to False.\n    In that case, the sequence consists of all but the last of ``num + 1``\n    evenly spaced samples, so that `stop` is excluded.  Note that the step\n    size changes when `endpoint` is False.\nnum : int, optional\n    Number of samples to generate. Default is 50. Must be non-negative.\nendpoint : bool, optional\n    If True, `stop` is the last sample. Otherwise, it is not included.\n    Default is True.\nretstep : bool, optional\n    If True, return (`samples`, `step`), where `step` is the spacing\n    between samples.\ndtype : dtype, optional\n    The type of the output array.  If `dtype` is not given, infer the data\n    type from the other input arguments.\n\n    .. versionadded:: 1.9.0\n\naxis : int, optional\n    The axis in the result to store the samples.  Relevant only if start\n    or stop are array-like.  By default (0), the samples will be along a\n    new axis inserted at the beginning. Use -1 to get an axis at the end.\n\n    .. versionadded:: 1.16.0\n\nReturns\n-------\nsamples : ndarray\n    There are `num` equally spaced samples in the closed interval\n    ``[start, stop]`` or the half-open interval ``[start, stop)``\n    (depending on whether `endpoint` is True or False).\nstep : float, optional\n    Only returned if `retstep` is True\n\n    Size of spacing between samples.\n\n\nSee Also\n--------\narange : Similar to `linspace`, but uses a step size (instead of the\n         number of samples).\ngeomspace : Similar to `linspace`, but with numbers spaced evenly on a log\n            scale (a geometric progression).\nlogspace : Similar to `geomspace`, but with the end points specified as\n           logarithms.\n\nExamples\n--------\n>>> np.linspace(2.0, 3.0, num=5)\narray([ 2.  ,  2.25,  2.5 ,  2.75,  3.  ])\n>>> np.linspace(2.0, 3.0, num=5, endpoint=False)\narray([ 2. ,  2.2,  2.4,  2.6,  2.8])\n>>> np.linspace(2.0, 3.0, num=5, retstep=True)\n(array([ 2.  ,  2.25,  2.5 ,  2.75,  3.  ]), 0.25)\n\nGraphical illustration:\n\n>>> import matplotlib.pyplot as plt\n>>> N = 8\n>>> y = np.zeros(N)\n>>> x1 = np.linspace(0, 10, N, endpoint=True)\n>>> x2 = np.linspace(0, 10, N, endpoint=False)\n>>> plt.plot(x1, y, 'o')\n[<matplotlib.lines.Line2D object at 0x...>]\n>>> plt.plot(x2, y + 0.5, 'o')\n[<matplotlib.lines.Line2D object at 0x...>]\n>>> plt.ylim([-0.5, 1])\n(-0.5, 1)\n>>> plt.show()\n\u001b[0;31mFile:\u001b[0m      ~/miniconda3/envs/dspy3/lib/python3.6/site-packages/numpy/core/function_base.py\n\u001b[0;31mType:\u001b[0m      function\n"
       },
       "metadata": {},
       "output_type": "display_data"
      }
     ],
     "persistentId": "591deb25-5503-4f05-8804-03e909a03e84",
     "text": "?np.linspace"
    },
    "executionTime": "2019-09-06T18:48:33.645Z"
   },
   {
    "cell": {
     "executionCount": 25,
     "executionEventId": "213509e0-903c-4fed-90ed-165ffb5153bf",
     "hasError": false,
     "id": "da6a965d-dabe-4314-a63b-f9729cbaa0a9",
     "outputs": [
      {
       "data": {
        "text/plain": "\u001b[0;31mSignature:\u001b[0m\n\u001b[0mnp\u001b[0m\u001b[0;34m.\u001b[0m\u001b[0mlinspace\u001b[0m\u001b[0;34m(\u001b[0m\u001b[0;34m\u001b[0m\n\u001b[0;34m\u001b[0m    \u001b[0mstart\u001b[0m\u001b[0;34m,\u001b[0m\u001b[0;34m\u001b[0m\n\u001b[0;34m\u001b[0m    \u001b[0mstop\u001b[0m\u001b[0;34m,\u001b[0m\u001b[0;34m\u001b[0m\n\u001b[0;34m\u001b[0m    \u001b[0mnum\u001b[0m\u001b[0;34m=\u001b[0m\u001b[0;36m50\u001b[0m\u001b[0;34m,\u001b[0m\u001b[0;34m\u001b[0m\n\u001b[0;34m\u001b[0m    \u001b[0mendpoint\u001b[0m\u001b[0;34m=\u001b[0m\u001b[0;32mTrue\u001b[0m\u001b[0;34m,\u001b[0m\u001b[0;34m\u001b[0m\n\u001b[0;34m\u001b[0m    \u001b[0mretstep\u001b[0m\u001b[0;34m=\u001b[0m\u001b[0;32mFalse\u001b[0m\u001b[0;34m,\u001b[0m\u001b[0;34m\u001b[0m\n\u001b[0;34m\u001b[0m    \u001b[0mdtype\u001b[0m\u001b[0;34m=\u001b[0m\u001b[0;32mNone\u001b[0m\u001b[0;34m,\u001b[0m\u001b[0;34m\u001b[0m\n\u001b[0;34m\u001b[0m    \u001b[0maxis\u001b[0m\u001b[0;34m=\u001b[0m\u001b[0;36m0\u001b[0m\u001b[0;34m,\u001b[0m\u001b[0;34m\u001b[0m\n\u001b[0;34m\u001b[0m\u001b[0;34m)\u001b[0m\u001b[0;34m\u001b[0m\u001b[0;34m\u001b[0m\u001b[0m\n\u001b[0;31mSource:\u001b[0m   \n\u001b[0;34m@\u001b[0m\u001b[0marray_function_dispatch\u001b[0m\u001b[0;34m(\u001b[0m\u001b[0m_linspace_dispatcher\u001b[0m\u001b[0;34m)\u001b[0m\u001b[0;34m\u001b[0m\n\u001b[0;34m\u001b[0m\u001b[0;32mdef\u001b[0m \u001b[0mlinspace\u001b[0m\u001b[0;34m(\u001b[0m\u001b[0mstart\u001b[0m\u001b[0;34m,\u001b[0m \u001b[0mstop\u001b[0m\u001b[0;34m,\u001b[0m \u001b[0mnum\u001b[0m\u001b[0;34m=\u001b[0m\u001b[0;36m50\u001b[0m\u001b[0;34m,\u001b[0m \u001b[0mendpoint\u001b[0m\u001b[0;34m=\u001b[0m\u001b[0;32mTrue\u001b[0m\u001b[0;34m,\u001b[0m \u001b[0mretstep\u001b[0m\u001b[0;34m=\u001b[0m\u001b[0;32mFalse\u001b[0m\u001b[0;34m,\u001b[0m \u001b[0mdtype\u001b[0m\u001b[0;34m=\u001b[0m\u001b[0;32mNone\u001b[0m\u001b[0;34m,\u001b[0m\u001b[0;34m\u001b[0m\n\u001b[0;34m\u001b[0m             \u001b[0maxis\u001b[0m\u001b[0;34m=\u001b[0m\u001b[0;36m0\u001b[0m\u001b[0;34m)\u001b[0m\u001b[0;34m:\u001b[0m\u001b[0;34m\u001b[0m\n\u001b[0;34m\u001b[0m    \u001b[0;34m\"\"\"\u001b[0m\n\u001b[0;34m    Return evenly spaced numbers over a specified interval.\u001b[0m\n\u001b[0;34m\u001b[0m\n\u001b[0;34m    Returns `num` evenly spaced samples, calculated over the\u001b[0m\n\u001b[0;34m    interval [`start`, `stop`].\u001b[0m\n\u001b[0;34m\u001b[0m\n\u001b[0;34m    The endpoint of the interval can optionally be excluded.\u001b[0m\n\u001b[0;34m\u001b[0m\n\u001b[0;34m    .. versionchanged:: 1.16.0\u001b[0m\n\u001b[0;34m        Non-scalar `start` and `stop` are now supported.\u001b[0m\n\u001b[0;34m\u001b[0m\n\u001b[0;34m    Parameters\u001b[0m\n\u001b[0;34m    ----------\u001b[0m\n\u001b[0;34m    start : array_like\u001b[0m\n\u001b[0;34m        The starting value of the sequence.\u001b[0m\n\u001b[0;34m    stop : array_like\u001b[0m\n\u001b[0;34m        The end value of the sequence, unless `endpoint` is set to False.\u001b[0m\n\u001b[0;34m        In that case, the sequence consists of all but the last of ``num + 1``\u001b[0m\n\u001b[0;34m        evenly spaced samples, so that `stop` is excluded.  Note that the step\u001b[0m\n\u001b[0;34m        size changes when `endpoint` is False.\u001b[0m\n\u001b[0;34m    num : int, optional\u001b[0m\n\u001b[0;34m        Number of samples to generate. Default is 50. Must be non-negative.\u001b[0m\n\u001b[0;34m    endpoint : bool, optional\u001b[0m\n\u001b[0;34m        If True, `stop` is the last sample. Otherwise, it is not included.\u001b[0m\n\u001b[0;34m        Default is True.\u001b[0m\n\u001b[0;34m    retstep : bool, optional\u001b[0m\n\u001b[0;34m        If True, return (`samples`, `step`), where `step` is the spacing\u001b[0m\n\u001b[0;34m        between samples.\u001b[0m\n\u001b[0;34m    dtype : dtype, optional\u001b[0m\n\u001b[0;34m        The type of the output array.  If `dtype` is not given, infer the data\u001b[0m\n\u001b[0;34m        type from the other input arguments.\u001b[0m\n\u001b[0;34m\u001b[0m\n\u001b[0;34m        .. versionadded:: 1.9.0\u001b[0m\n\u001b[0;34m\u001b[0m\n\u001b[0;34m    axis : int, optional\u001b[0m\n\u001b[0;34m        The axis in the result to store the samples.  Relevant only if start\u001b[0m\n\u001b[0;34m        or stop are array-like.  By default (0), the samples will be along a\u001b[0m\n\u001b[0;34m        new axis inserted at the beginning. Use -1 to get an axis at the end.\u001b[0m\n\u001b[0;34m\u001b[0m\n\u001b[0;34m        .. versionadded:: 1.16.0\u001b[0m\n\u001b[0;34m\u001b[0m\n\u001b[0;34m    Returns\u001b[0m\n\u001b[0;34m    -------\u001b[0m\n\u001b[0;34m    samples : ndarray\u001b[0m\n\u001b[0;34m        There are `num` equally spaced samples in the closed interval\u001b[0m\n\u001b[0;34m        ``[start, stop]`` or the half-open interval ``[start, stop)``\u001b[0m\n\u001b[0;34m        (depending on whether `endpoint` is True or False).\u001b[0m\n\u001b[0;34m    step : float, optional\u001b[0m\n\u001b[0;34m        Only returned if `retstep` is True\u001b[0m\n\u001b[0;34m\u001b[0m\n\u001b[0;34m        Size of spacing between samples.\u001b[0m\n\u001b[0;34m\u001b[0m\n\u001b[0;34m\u001b[0m\n\u001b[0;34m    See Also\u001b[0m\n\u001b[0;34m    --------\u001b[0m\n\u001b[0;34m    arange : Similar to `linspace`, but uses a step size (instead of the\u001b[0m\n\u001b[0;34m             number of samples).\u001b[0m\n\u001b[0;34m    geomspace : Similar to `linspace`, but with numbers spaced evenly on a log\u001b[0m\n\u001b[0;34m                scale (a geometric progression).\u001b[0m\n\u001b[0;34m    logspace : Similar to `geomspace`, but with the end points specified as\u001b[0m\n\u001b[0;34m               logarithms.\u001b[0m\n\u001b[0;34m\u001b[0m\n\u001b[0;34m    Examples\u001b[0m\n\u001b[0;34m    --------\u001b[0m\n\u001b[0;34m    >>> np.linspace(2.0, 3.0, num=5)\u001b[0m\n\u001b[0;34m    array([ 2.  ,  2.25,  2.5 ,  2.75,  3.  ])\u001b[0m\n\u001b[0;34m    >>> np.linspace(2.0, 3.0, num=5, endpoint=False)\u001b[0m\n\u001b[0;34m    array([ 2. ,  2.2,  2.4,  2.6,  2.8])\u001b[0m\n\u001b[0;34m    >>> np.linspace(2.0, 3.0, num=5, retstep=True)\u001b[0m\n\u001b[0;34m    (array([ 2.  ,  2.25,  2.5 ,  2.75,  3.  ]), 0.25)\u001b[0m\n\u001b[0;34m\u001b[0m\n\u001b[0;34m    Graphical illustration:\u001b[0m\n\u001b[0;34m\u001b[0m\n\u001b[0;34m    >>> import matplotlib.pyplot as plt\u001b[0m\n\u001b[0;34m    >>> N = 8\u001b[0m\n\u001b[0;34m    >>> y = np.zeros(N)\u001b[0m\n\u001b[0;34m    >>> x1 = np.linspace(0, 10, N, endpoint=True)\u001b[0m\n\u001b[0;34m    >>> x2 = np.linspace(0, 10, N, endpoint=False)\u001b[0m\n\u001b[0;34m    >>> plt.plot(x1, y, 'o')\u001b[0m\n\u001b[0;34m    [<matplotlib.lines.Line2D object at 0x...>]\u001b[0m\n\u001b[0;34m    >>> plt.plot(x2, y + 0.5, 'o')\u001b[0m\n\u001b[0;34m    [<matplotlib.lines.Line2D object at 0x...>]\u001b[0m\n\u001b[0;34m    >>> plt.ylim([-0.5, 1])\u001b[0m\n\u001b[0;34m    (-0.5, 1)\u001b[0m\n\u001b[0;34m    >>> plt.show()\u001b[0m\n\u001b[0;34m\u001b[0m\n\u001b[0;34m    \"\"\"\u001b[0m\u001b[0;34m\u001b[0m\n\u001b[0;34m\u001b[0m    \u001b[0;31m# 2016-02-25, 1.12\u001b[0m\u001b[0;34m\u001b[0m\n\u001b[0;34m\u001b[0m    \u001b[0mnum\u001b[0m \u001b[0;34m=\u001b[0m \u001b[0m_index_deprecate\u001b[0m\u001b[0;34m(\u001b[0m\u001b[0mnum\u001b[0m\u001b[0;34m)\u001b[0m\u001b[0;34m\u001b[0m\n\u001b[0;34m\u001b[0m    \u001b[0;32mif\u001b[0m \u001b[0mnum\u001b[0m \u001b[0;34m<\u001b[0m \u001b[0;36m0\u001b[0m\u001b[0;34m:\u001b[0m\u001b[0;34m\u001b[0m\n\u001b[0;34m\u001b[0m        \u001b[0;32mraise\u001b[0m \u001b[0mValueError\u001b[0m\u001b[0;34m(\u001b[0m\u001b[0;34m\"Number of samples, %s, must be non-negative.\"\u001b[0m \u001b[0;34m%\u001b[0m \u001b[0mnum\u001b[0m\u001b[0;34m)\u001b[0m\u001b[0;34m\u001b[0m\n\u001b[0;34m\u001b[0m    \u001b[0mdiv\u001b[0m \u001b[0;34m=\u001b[0m \u001b[0;34m(\u001b[0m\u001b[0mnum\u001b[0m \u001b[0;34m-\u001b[0m \u001b[0;36m1\u001b[0m\u001b[0;34m)\u001b[0m \u001b[0;32mif\u001b[0m \u001b[0mendpoint\u001b[0m \u001b[0;32melse\u001b[0m \u001b[0mnum\u001b[0m\u001b[0;34m\u001b[0m\n\u001b[0;34m\u001b[0m\u001b[0;34m\u001b[0m\n\u001b[0;34m\u001b[0m    \u001b[0;31m# Convert float/complex array scalars to float, gh-3504\u001b[0m\u001b[0;34m\u001b[0m\n\u001b[0;34m\u001b[0m    \u001b[0;31m# and make sure one can use variables that have an __array_interface__, gh-6634\u001b[0m\u001b[0;34m\u001b[0m\n\u001b[0;34m\u001b[0m    \u001b[0mstart\u001b[0m \u001b[0;34m=\u001b[0m \u001b[0masanyarray\u001b[0m\u001b[0;34m(\u001b[0m\u001b[0mstart\u001b[0m\u001b[0;34m)\u001b[0m \u001b[0;34m*\u001b[0m \u001b[0;36m1.0\u001b[0m\u001b[0;34m\u001b[0m\n\u001b[0;34m\u001b[0m    \u001b[0mstop\u001b[0m  \u001b[0;34m=\u001b[0m \u001b[0masanyarray\u001b[0m\u001b[0;34m(\u001b[0m\u001b[0mstop\u001b[0m\u001b[0;34m)\u001b[0m  \u001b[0;34m*\u001b[0m \u001b[0;36m1.0\u001b[0m\u001b[0;34m\u001b[0m\n\u001b[0;34m\u001b[0m\u001b[0;34m\u001b[0m\n\u001b[0;34m\u001b[0m    \u001b[0mdt\u001b[0m \u001b[0;34m=\u001b[0m \u001b[0mresult_type\u001b[0m\u001b[0;34m(\u001b[0m\u001b[0mstart\u001b[0m\u001b[0;34m,\u001b[0m \u001b[0mstop\u001b[0m\u001b[0;34m,\u001b[0m \u001b[0mfloat\u001b[0m\u001b[0;34m(\u001b[0m\u001b[0mnum\u001b[0m\u001b[0;34m)\u001b[0m\u001b[0;34m)\u001b[0m\u001b[0;34m\u001b[0m\n\u001b[0;34m\u001b[0m    \u001b[0;32mif\u001b[0m \u001b[0mdtype\u001b[0m \u001b[0;32mis\u001b[0m \u001b[0;32mNone\u001b[0m\u001b[0;34m:\u001b[0m\u001b[0;34m\u001b[0m\n\u001b[0;34m\u001b[0m        \u001b[0mdtype\u001b[0m \u001b[0;34m=\u001b[0m \u001b[0mdt\u001b[0m\u001b[0;34m\u001b[0m\n\u001b[0;34m\u001b[0m\u001b[0;34m\u001b[0m\n\u001b[0;34m\u001b[0m    \u001b[0mdelta\u001b[0m \u001b[0;34m=\u001b[0m \u001b[0mstop\u001b[0m \u001b[0;34m-\u001b[0m \u001b[0mstart\u001b[0m\u001b[0;34m\u001b[0m\n\u001b[0;34m\u001b[0m    \u001b[0my\u001b[0m \u001b[0;34m=\u001b[0m \u001b[0m_nx\u001b[0m\u001b[0;34m.\u001b[0m\u001b[0marange\u001b[0m\u001b[0;34m(\u001b[0m\u001b[0;36m0\u001b[0m\u001b[0;34m,\u001b[0m \u001b[0mnum\u001b[0m\u001b[0;34m,\u001b[0m \u001b[0mdtype\u001b[0m\u001b[0;34m=\u001b[0m\u001b[0mdt\u001b[0m\u001b[0;34m)\u001b[0m\u001b[0;34m.\u001b[0m\u001b[0mreshape\u001b[0m\u001b[0;34m(\u001b[0m\u001b[0;34m(\u001b[0m\u001b[0;34m-\u001b[0m\u001b[0;36m1\u001b[0m\u001b[0;34m,\u001b[0m\u001b[0;34m)\u001b[0m \u001b[0;34m+\u001b[0m \u001b[0;34m(\u001b[0m\u001b[0;36m1\u001b[0m\u001b[0;34m,\u001b[0m\u001b[0;34m)\u001b[0m \u001b[0;34m*\u001b[0m \u001b[0mndim\u001b[0m\u001b[0;34m(\u001b[0m\u001b[0mdelta\u001b[0m\u001b[0;34m)\u001b[0m\u001b[0;34m)\u001b[0m\u001b[0;34m\u001b[0m\n\u001b[0;34m\u001b[0m    \u001b[0;31m# In-place multiplication y *= delta/div is faster, but prevents the multiplicant\u001b[0m\u001b[0;34m\u001b[0m\n\u001b[0;34m\u001b[0m    \u001b[0;31m# from overriding what class is produced, and thus prevents, e.g. use of Quantities,\u001b[0m\u001b[0;34m\u001b[0m\n\u001b[0;34m\u001b[0m    \u001b[0;31m# see gh-7142. Hence, we multiply in place only for standard scalar types.\u001b[0m\u001b[0;34m\u001b[0m\n\u001b[0;34m\u001b[0m    \u001b[0m_mult_inplace\u001b[0m \u001b[0;34m=\u001b[0m \u001b[0m_nx\u001b[0m\u001b[0;34m.\u001b[0m\u001b[0misscalar\u001b[0m\u001b[0;34m(\u001b[0m\u001b[0mdelta\u001b[0m\u001b[0;34m)\u001b[0m\u001b[0;34m\u001b[0m\n\u001b[0;34m\u001b[0m    \u001b[0;32mif\u001b[0m \u001b[0mnum\u001b[0m \u001b[0;34m>\u001b[0m \u001b[0;36m1\u001b[0m\u001b[0;34m:\u001b[0m\u001b[0;34m\u001b[0m\n\u001b[0;34m\u001b[0m        \u001b[0mstep\u001b[0m \u001b[0;34m=\u001b[0m \u001b[0mdelta\u001b[0m \u001b[0;34m/\u001b[0m \u001b[0mdiv\u001b[0m\u001b[0;34m\u001b[0m\n\u001b[0;34m\u001b[0m        \u001b[0;32mif\u001b[0m \u001b[0m_nx\u001b[0m\u001b[0;34m.\u001b[0m\u001b[0many\u001b[0m\u001b[0;34m(\u001b[0m\u001b[0mstep\u001b[0m \u001b[0;34m==\u001b[0m \u001b[0;36m0\u001b[0m\u001b[0;34m)\u001b[0m\u001b[0;34m:\u001b[0m\u001b[0;34m\u001b[0m\n\u001b[0;34m\u001b[0m            \u001b[0;31m# Special handling for denormal numbers, gh-5437\u001b[0m\u001b[0;34m\u001b[0m\n\u001b[0;34m\u001b[0m            \u001b[0my\u001b[0m \u001b[0;34m/=\u001b[0m \u001b[0mdiv\u001b[0m\u001b[0;34m\u001b[0m\n\u001b[0;34m\u001b[0m            \u001b[0;32mif\u001b[0m \u001b[0m_mult_inplace\u001b[0m\u001b[0;34m:\u001b[0m\u001b[0;34m\u001b[0m\n\u001b[0;34m\u001b[0m                \u001b[0my\u001b[0m \u001b[0;34m*=\u001b[0m \u001b[0mdelta\u001b[0m\u001b[0;34m\u001b[0m\n\u001b[0;34m\u001b[0m            \u001b[0;32melse\u001b[0m\u001b[0;34m:\u001b[0m\u001b[0;34m\u001b[0m\n\u001b[0;34m\u001b[0m                \u001b[0my\u001b[0m \u001b[0;34m=\u001b[0m \u001b[0my\u001b[0m \u001b[0;34m*\u001b[0m \u001b[0mdelta\u001b[0m\u001b[0;34m\u001b[0m\n\u001b[0;34m\u001b[0m        \u001b[0;32melse\u001b[0m\u001b[0;34m:\u001b[0m\u001b[0;34m\u001b[0m\n\u001b[0;34m\u001b[0m            \u001b[0;32mif\u001b[0m \u001b[0m_mult_inplace\u001b[0m\u001b[0;34m:\u001b[0m\u001b[0;34m\u001b[0m\n\u001b[0;34m\u001b[0m                \u001b[0my\u001b[0m \u001b[0;34m*=\u001b[0m \u001b[0mstep\u001b[0m\u001b[0;34m\u001b[0m\n\u001b[0;34m\u001b[0m            \u001b[0;32melse\u001b[0m\u001b[0;34m:\u001b[0m\u001b[0;34m\u001b[0m\n\u001b[0;34m\u001b[0m                \u001b[0my\u001b[0m \u001b[0;34m=\u001b[0m \u001b[0my\u001b[0m \u001b[0;34m*\u001b[0m \u001b[0mstep\u001b[0m\u001b[0;34m\u001b[0m\n\u001b[0;34m\u001b[0m    \u001b[0;32melse\u001b[0m\u001b[0;34m:\u001b[0m\u001b[0;34m\u001b[0m\n\u001b[0;34m\u001b[0m        \u001b[0;31m# 0 and 1 item long sequences have an undefined step\u001b[0m\u001b[0;34m\u001b[0m\n\u001b[0;34m\u001b[0m        \u001b[0mstep\u001b[0m \u001b[0;34m=\u001b[0m \u001b[0mNaN\u001b[0m\u001b[0;34m\u001b[0m\n\u001b[0;34m\u001b[0m        \u001b[0;31m# Multiply with delta to allow possible override of output class.\u001b[0m\u001b[0;34m\u001b[0m\n\u001b[0;34m\u001b[0m        \u001b[0my\u001b[0m \u001b[0;34m=\u001b[0m \u001b[0my\u001b[0m \u001b[0;34m*\u001b[0m \u001b[0mdelta\u001b[0m\u001b[0;34m\u001b[0m\n\u001b[0;34m\u001b[0m\u001b[0;34m\u001b[0m\n\u001b[0;34m\u001b[0m    \u001b[0my\u001b[0m \u001b[0;34m+=\u001b[0m \u001b[0mstart\u001b[0m\u001b[0;34m\u001b[0m\n\u001b[0;34m\u001b[0m\u001b[0;34m\u001b[0m\n\u001b[0;34m\u001b[0m    \u001b[0;32mif\u001b[0m \u001b[0mendpoint\u001b[0m \u001b[0;32mand\u001b[0m \u001b[0mnum\u001b[0m \u001b[0;34m>\u001b[0m \u001b[0;36m1\u001b[0m\u001b[0;34m:\u001b[0m\u001b[0;34m\u001b[0m\n\u001b[0;34m\u001b[0m        \u001b[0my\u001b[0m\u001b[0;34m[\u001b[0m\u001b[0;34m-\u001b[0m\u001b[0;36m1\u001b[0m\u001b[0;34m]\u001b[0m \u001b[0;34m=\u001b[0m \u001b[0mstop\u001b[0m\u001b[0;34m\u001b[0m\n\u001b[0;34m\u001b[0m\u001b[0;34m\u001b[0m\n\u001b[0;34m\u001b[0m    \u001b[0;32mif\u001b[0m \u001b[0maxis\u001b[0m \u001b[0;34m!=\u001b[0m \u001b[0;36m0\u001b[0m\u001b[0;34m:\u001b[0m\u001b[0;34m\u001b[0m\n\u001b[0;34m\u001b[0m        \u001b[0my\u001b[0m \u001b[0;34m=\u001b[0m \u001b[0m_nx\u001b[0m\u001b[0;34m.\u001b[0m\u001b[0mmoveaxis\u001b[0m\u001b[0;34m(\u001b[0m\u001b[0my\u001b[0m\u001b[0;34m,\u001b[0m \u001b[0;36m0\u001b[0m\u001b[0;34m,\u001b[0m \u001b[0maxis\u001b[0m\u001b[0;34m)\u001b[0m\u001b[0;34m\u001b[0m\n\u001b[0;34m\u001b[0m\u001b[0;34m\u001b[0m\n\u001b[0;34m\u001b[0m    \u001b[0;32mif\u001b[0m \u001b[0mretstep\u001b[0m\u001b[0;34m:\u001b[0m\u001b[0;34m\u001b[0m\n\u001b[0;34m\u001b[0m        \u001b[0;32mreturn\u001b[0m \u001b[0my\u001b[0m\u001b[0;34m.\u001b[0m\u001b[0mastype\u001b[0m\u001b[0;34m(\u001b[0m\u001b[0mdtype\u001b[0m\u001b[0;34m,\u001b[0m \u001b[0mcopy\u001b[0m\u001b[0;34m=\u001b[0m\u001b[0;32mFalse\u001b[0m\u001b[0;34m)\u001b[0m\u001b[0;34m,\u001b[0m \u001b[0mstep\u001b[0m\u001b[0;34m\u001b[0m\n\u001b[0;34m\u001b[0m    \u001b[0;32melse\u001b[0m\u001b[0;34m:\u001b[0m\u001b[0;34m\u001b[0m\n\u001b[0;34m\u001b[0m        \u001b[0;32mreturn\u001b[0m \u001b[0my\u001b[0m\u001b[0;34m.\u001b[0m\u001b[0mastype\u001b[0m\u001b[0;34m(\u001b[0m\u001b[0mdtype\u001b[0m\u001b[0;34m,\u001b[0m \u001b[0mcopy\u001b[0m\u001b[0;34m=\u001b[0m\u001b[0;32mFalse\u001b[0m\u001b[0;34m)\u001b[0m\u001b[0;34m\u001b[0m\u001b[0;34m\u001b[0m\u001b[0m\n\u001b[0;31mFile:\u001b[0m      ~/miniconda3/envs/dspy3/lib/python3.6/site-packages/numpy/core/function_base.py\n\u001b[0;31mType:\u001b[0m      function\n"
       },
       "metadata": {},
       "output_type": "display_data"
      }
     ],
     "persistentId": "b709800a-b4d9-40e0-b810-b53d5be31737",
     "text": "np.linspace??"
    },
    "executionTime": "2019-09-06T18:48:38.383Z"
   },
   {
    "cell": {
     "executionCount": 26,
     "executionEventId": "abc892e4-b750-4e07-8f22-fb4de9543f58",
     "hasError": false,
     "id": "9257a4c4-d935-46a0-b4c9-ba4322287222",
     "outputs": [
      {
       "name": "stdout",
       "output_type": "stream",
       "text": "\nThis is a multi-lined string\nthat I want to write inside of a function.\nNotice what happens when I print this.\n    And when something is indented more.\n"
      }
     ],
     "persistentId": "2dd939f9-4894-4c97-99ee-842a9cf63707",
     "text": "import textwrap\ndef example_function():\n    \"\"\"Docstring for example function\"\"\"\n    \n    print(textwrap.dedent(\"\"\"\n    This is a multi-lined string\n    that I want to write inside of a function.\n    Notice what happens when I print this.\n        And when something is indented more.\"\"\"))\n\n\nexample_function()"
    },
    "executionTime": "2019-09-06T18:49:01.499Z"
   },
   {
    "cell": {
     "executionCount": 27,
     "executionEventId": "8faca035-5d53-43d7-9d84-7a3dc01d1594",
     "hasError": false,
     "id": "b79e9950-29e0-46f0-bbd8-0cf5fc380a3e",
     "outputs": [],
     "persistentId": "ea55279f-0c0e-4a87-8099-35951a5c64d2",
     "text": "# But first find and replace\ndef silly_function(xval):\n    \"\"\"Takes a value and returns the value.\"\"\"\n    xval_sq = xval ** 2.0\n    1 + 12\n    xval_abs = np.sqrt(xval_sq)\n    return xval_abs"
    },
    "executionTime": "2019-09-06T18:49:06.186Z"
   },
   {
    "cell": {
     "executionCount": 28,
     "executionEventId": "db44c540-8e11-438b-8253-2822133cc616",
     "hasError": false,
     "id": "0c01aa7e-6645-4654-83e9-60c4a42bbac3",
     "outputs": [
      {
       "data": {
        "text/plain": "2.0"
       },
       "execution_count": 28,
       "metadata": {},
       "output_type": "execute_result"
      }
     ],
     "persistentId": "fb0fa1f1-51d4-48b0-8656-a2372ac6bba8",
     "text": "silly_function(-2,)"
    },
    "executionTime": "2019-09-06T18:49:06.384Z"
   },
   {
    "cell": {
     "executionCount": 29,
     "executionEventId": "6b4b07ac-6204-4fd3-8b26-00fc972af0f3",
     "hasError": false,
     "id": "e3303386-1edd-4833-a506-9a170af7347a",
     "outputs": [
      {
       "data": {
        "text/plain": "\u001b[0;31mSignature:\u001b[0m \u001b[0msilly_function\u001b[0m\u001b[0;34m(\u001b[0m\u001b[0mxval\u001b[0m\u001b[0;34m)\u001b[0m\u001b[0;34m\u001b[0m\u001b[0;34m\u001b[0m\u001b[0m\n\u001b[0;31mDocstring:\u001b[0m Takes a value and returns the value.\n\u001b[0;31mFile:\u001b[0m      ~/github/jupyter-tips-and-tricks/notebooks/<ipython-input-27-81d11fb09452>\n\u001b[0;31mType:\u001b[0m      function\n"
       },
       "metadata": {},
       "output_type": "display_data"
      }
     ],
     "persistentId": "684f8136-a102-4fca-9a38-f2bd1d7f0659",
     "text": "silly_function?"
    },
    "executionTime": "2019-09-06T18:49:07.845Z"
   },
   {
    "cell": {
     "executionCount": 30,
     "executionEventId": "eaef8f62-737c-4c62-acd8-c53e517a9cec",
     "hasError": false,
     "id": "b643754d-da35-4f8e-81ff-76a2c815186b",
     "outputs": [
      {
       "data": {
        "text/plain": "\u001b[0;31mSignature:\u001b[0m \u001b[0msilly_function\u001b[0m\u001b[0;34m(\u001b[0m\u001b[0mxval\u001b[0m\u001b[0;34m)\u001b[0m\u001b[0;34m\u001b[0m\u001b[0;34m\u001b[0m\u001b[0m\n\u001b[0;31mSource:\u001b[0m   \n\u001b[0;32mdef\u001b[0m \u001b[0msilly_function\u001b[0m\u001b[0;34m(\u001b[0m\u001b[0mxval\u001b[0m\u001b[0;34m)\u001b[0m\u001b[0;34m:\u001b[0m\u001b[0;34m\u001b[0m\n\u001b[0;34m\u001b[0m    \u001b[0;34m\"\"\"Takes a value and returns the value.\"\"\"\u001b[0m\u001b[0;34m\u001b[0m\n\u001b[0;34m\u001b[0m    \u001b[0mxval_sq\u001b[0m \u001b[0;34m=\u001b[0m \u001b[0mxval\u001b[0m \u001b[0;34m**\u001b[0m \u001b[0;36m2.0\u001b[0m\u001b[0;34m\u001b[0m\n\u001b[0;34m\u001b[0m    \u001b[0;36m1\u001b[0m \u001b[0;34m+\u001b[0m \u001b[0;36m12\u001b[0m\u001b[0;34m\u001b[0m\n\u001b[0;34m\u001b[0m    \u001b[0mxval_abs\u001b[0m \u001b[0;34m=\u001b[0m \u001b[0mnp\u001b[0m\u001b[0;34m.\u001b[0m\u001b[0msqrt\u001b[0m\u001b[0;34m(\u001b[0m\u001b[0mxval_sq\u001b[0m\u001b[0;34m)\u001b[0m\u001b[0;34m\u001b[0m\n\u001b[0;34m\u001b[0m    \u001b[0;32mreturn\u001b[0m \u001b[0mxval_abs\u001b[0m\u001b[0;34m\u001b[0m\u001b[0;34m\u001b[0m\u001b[0m\n\u001b[0;31mFile:\u001b[0m      ~/github/jupyter-tips-and-tricks/notebooks/<ipython-input-27-81d11fb09452>\n\u001b[0;31mType:\u001b[0m      function\n"
       },
       "metadata": {},
       "output_type": "display_data"
      }
     ],
     "persistentId": "4671b66f-3676-475d-968c-07701c20c24e",
     "text": "silly_function??"
    },
    "executionTime": "2019-09-06T18:49:08.651Z"
   },
   {
    "cell": {
     "executionCount": 31,
     "executionEventId": "80f2fb19-e486-465a-a8f8-9bb5c9e5b53b",
     "hasError": false,
     "id": "21638813-50d1-4674-9553-a69c438dfb52",
     "outputs": [],
     "persistentId": "dc226ce8-66ec-4547-8399-86df1ee7474d",
     "text": "example = {}\n\n# Indent/dedent/comment\nfor index in range(5):\n    example[\"float_one\"] = 1.0\n    example[\"float_two\"] = 2.0\n    example[\"float_three\"] = 3.0\n    example[\"float_four\"] = 4.0"
    },
    "executionTime": "2019-09-06T18:50:29.157Z"
   },
   {
    "cell": {
     "executionCount": 32,
     "executionEventId": "2a8b1c94-a5e4-4fb4-acc0-3de37ca00a2c",
     "hasError": false,
     "id": "23c61fdd-9589-42d9-a3e1-ea0ab416d1db",
     "outputs": [
      {
       "data": {
        "text/latex": "\nIf you want to get crazier$\\ldots$\n\n\\begin{equation}\n\\oint_S {E_n dA = \\frac{1}{{\\varepsilon _0 }}} Q_\\textrm{inside}\n\\end{equation}\n",
        "text/plain": "<IPython.core.display.Latex object>"
       },
       "metadata": {},
       "output_type": "display_data"
      }
     ],
     "persistentId": "3b77d101-a596-423c-a7b6-e050ffbbbc2a",
     "text": "%%latex\n\nIf you want to get crazier$\\ldots$\n\n\\begin{equation}\n\\oint_S {E_n dA = \\frac{1}{{\\varepsilon _0 }}} Q_\\textrm{inside}\n\\end{equation}"
    },
    "executionTime": "2019-09-06T18:50:44.193Z"
   },
   {
    "cell": {
     "executionCount": 33,
     "executionEventId": "1eca0c55-334b-40c7-a61d-9a5e6e097e51",
     "hasError": false,
     "id": "4377ba39-a352-4a5a-a7fa-65fdaedf63bc",
     "outputs": [
      {
       "name": "stdout",
       "output_type": "stream",
       "text": "hi\n"
      }
     ],
     "persistentId": "8ad64db0-b6c7-45e5-8fd4-4c7260d982c0",
     "text": "%%python2\nprint \"hi\""
    },
    "executionTime": "2019-09-06T18:50:47.133Z"
   },
   {
    "cell": {
     "executionCount": 34,
     "executionEventId": "a7e508aa-5895-41bd-ac50-2ba718a2e349",
     "hasError": false,
     "id": "4622c0a6-e0db-44a9-ae93-ff4a5948b994",
     "outputs": [
      {
       "name": "stdout",
       "output_type": "stream",
       "text": "00-Overview.ipynb                      Untitled2.ipynb\n01-Tips-and-tricks.ipynb               billy.ipynb\n02-NBExtensions.ipynb                  delete.ipynb\n03-Git-Integration.ipynb               ex1.png\n03-Interactive-Splines.ipynb           example.md\n04-Autoreload.ipynb                    history.ipynb\n05-SQL-Example.ipynb                   jupyterlab-example.md\n06-Advanced-Visualization.ipynb        new-name.ipynb\n07-Some_basics.ipynb                   pivottablejs.html\n08-More_basics.ipynb                   presidents.sqlite\n09-Extras.ipynb                        temp\n10-R-stuff.ipynb                       untitled.txt\n11-older-stuff.ipynb                   \u001b[34mvpfit10\u001b[m\u001b[m\n12-old-pandas.ipynb                    vpfit10.2.tar.gz\n2019-06-02-jbw-test-formatter-01.ipynb vpfit10.2.tar.gz.1\n3d-example-plot.html                   vpfit10.2.tar.gz.2\nAdvanced-Notebook-Tricks.ipynb         vpfit10.2.tar.gz.3\nBasic-Plotting.ipynb                   \u001b[34mvpfit11\u001b[m\u001b[m\nData_Cleaning.ipynb                    vpfit11.1.tar.gz\nExample-pycat.ipynb                    vpfit11.1.tar.gz.1\nUntitled.ipynb                         vpfit11.1.tar.gz.2\nUntitled1.ipynb\n"
      }
     ],
     "persistentId": "f8d04f19-845d-44f3-9483-2b6e4bf60de4",
     "text": "!ls"
    },
    "executionTime": "2019-09-06T18:50:58.401Z"
   },
   {
    "cell": {
     "executionCount": 35,
     "executionEventId": "34f4c661-f246-49b6-b3b4-d55c89d00015",
     "hasError": false,
     "id": "b5c908e8-6ce3-4197-9371-3e2cad2d6044",
     "outputs": [
      {
       "name": "stdout",
       "output_type": "stream",
       "text": "00README                  rd_plcset.f               vp_f_sigscl.f\nMMatomdat_atom_noiso.dat  rd_pmpset.f               vp_fgf13write.f\natom.dat                  rd_prhelp.dat             vp_flchderivs.f\natomtab.f                 rd_prhelp.f               vp_fnzbin.f\nautovpin.f                rd_qdatafiles.f           vp_getargs.f\nbintofits.f               rd_readlinwav.f           vp_getres.f\ncalcn.f                   rd_sclsig.f               vp_gglwcoeff.f\ncase.f                    rd_scrn.f                 vp_gsclfts.f\nchanwav.f                 rd_setintv.f              vp_gwatfits.f\ncheckb.f                  rd_sizes.f                vp_initval.f\nchisum26.f                rd_splvtick.f             vp_ionregcheck.f\ncmax1.f                   rd_stackz.f               vp_ksvnorm.f\ncms_src.f                 rd_start.dat              vp_lineid.f\ncom_cons.f                rd_stplot.f               vp_linlim.f\ndcholin.f                 rd_tgplots.f              vp_listfiles.f\ndexpf.f                   rd_tickvpfl.f             vp_lycont.f\ndlycabscft.f              rd_ulims.f                vp_lyconte.f\n\u001b[34mdocs\u001b[m\u001b[m/                     rd_ulimse.f               vp_minpol.f\ndotick.f                  rd_ulimx.f                vp_minquad.f\ndpoly.f                   rd_ulinfo.f               vp_nearlin.f\ndsepvar.f                 rd_wrfits.f               vp_newtfxl.f\neigen.f                   rd_wrwcfits.f             vp_pareorder.f\nerfcc.f                   rd_wvsc.f                 vp_parmcest.f\nexternals.f               rd_xcdc.f                 vp_pgbegin.f\nfl_gen.f                  rd_zcorr.f                vp_pgcurs.f\ngen_vpin.f                rd_ztabcf.f               vp_plcset.f\nginsert.f                 sepvar.f                  vp_poisson.f\ngu_tabsort.f              splot.f                   vp_presetsys.f\nhedit.f                   spvoigt.f                 vp_psfinterp.f\nlinfit.f                  svbksbd.f                 vp_rdbwvfts.f\nlm_udchole.f              svdajc.f                  vp_rdlines.f\nlyregset.f                svdcmpd.f                 vp_rdspecial.f\n\u001b[31mmakefile\u001b[m\u001b[m*                 svdfit.f                  vp_rdwaveval.f\nmedianv.f                 test.f                    vp_readfits.f\npda_che2d.f               tickpg.f                  vp_rfitsext.f\npda_dp1vlu.f              tiedb.f                   vp_runstst.f\npda_dpcoef.f              tikset.f                  vp_rwlims.f\npda_dpolft.f              tstfit3d.f                vp_scontf.f\npda_qsiad.f               udchole.f                 vp_setintv.f\npda_src.f                 varythis.f                vp_setoptn.f\npda_xermsg.f              voigt_king.f              vp_setup.dat\n\u001b[34mpgfiles\u001b[m\u001b[m/                  vp_abfind.f               vp_sizes.f\npldef.f                   vp_abundset.f             vp_smry.f\nplset.f                   vp_addline.f              vp_spdatin.f\npr_mdian1.f               vp_addxlink.f             vp_splot.dat\nprg_polyd.f               vp_archwav.f              vp_spread.f\nprobks.f                  vp_asciin.f               vp_spvoigte.f\nrd_ablin.f                vp_ationsep.f             vp_srcpath.f\nrd_adnois.f               vp_atomass.f              vp_startval.f\nrd_alias.f                vp_blfixf.f               vp_stration.f\nrd_comalias.f             vp_cfcopy.f               vp_stripcmt.f\nrd_compreset.f            vp_chanwav.f              vp_subchspread.f\nrd_cuchstr.f              vp_charlims.f             vp_sumlinclear.f\nrd_cufilnm.f              vp_chdisprof.f            vp_sysdel.f\nrd_cuplot.f               vp_checkn.f               vp_tdcolset.f\nrd_cuwvrest.f             vp_chipconv.f             vp_tieval.f\nrd_cydata.f               vp_chsation.f             vp_trimattab.f\nrd_daswap.f               vp_chspread.f             vp_tsetxref.f\nrd_dblid.f                vp_cmssrc.f               vp_ucheck.f\nrd_dmanip.f               vp_curse.f                vp_ucoptv.f\nrd_drebin.f               vp_cval.f                 vp_ucprinerr.f\nrd_dvcont.f               vp_dattim.f               vp_ucprinit.f\nrd_estcolb.f              vp_dattim_alt.f           vp_usdef.f\nrd_ewwav.f                vp_deriv.f                vp_vreset.f\nrd_extabs.f               vp_dlinin.f               vp_wrt25.f\nrd_fluxbb.f               vp_dlset.f                vp_wval.f\nrd_gen.f                  vp_dotick.f               vp_wvalch.f\nrd_gprof.f                vp_emlsmry.f              vp_wvalsubch.f\nrd_gprofe.f               vp_empval.f               vp_wverass.f\nrd_gpsim.f                vp_emscchk.f              vpf_bvalsp.f\nrd_hdust.f                vp_emtset.f               vpf_dvresn.f\nrd_intvtab.f              vp_endorder.f             vpfit.f\nrd_markreg.f              vp_endrej.f               vpgti.f\nrd_mattrd.f               vp_errej.f                vppreset.com\nrd_meantau.f              vp_ewred.f                vpreset.awk\nrd_moderrs.f              vp_f13fin.f               wcor.f\nrd_multiset.f             vp_f13finx.f              wval.f\nrd_pgannot.f              vp_f13read.f\n"
      }
     ],
     "persistentId": "a1f8182b-eb18-41c9-9b5d-e0306b32469a",
     "text": "ls vpfit10/"
    },
    "executionTime": "2019-09-06T18:51:00.635Z"
   },
   {
    "cell": {
     "executionCount": 36,
     "executionEventId": "230a3965-f0dd-4c49-8205-d744c9b5989a",
     "hasError": false,
     "id": "dab2a0de-151d-4883-8305-028b9b2acbb9",
     "outputs": [],
     "persistentId": "ed780724-eef3-4683-ba48-a3068ddf85d3",
     "text": "tailthing = \"*.ipynb\""
    },
    "executionTime": "2019-09-06T18:51:02.448Z"
   },
   {
    "cell": {
     "executionCount": 37,
     "executionEventId": "709be233-0f06-45ed-9583-3fe66f156425",
     "hasError": false,
     "id": "6826894b-e7bd-4aab-89e7-ec89abad1512",
     "outputs": [
      {
       "data": {
        "text/plain": "'*.ipynb'"
       },
       "execution_count": 37,
       "metadata": {},
       "output_type": "execute_result"
      }
     ],
     "persistentId": "a318319c-2661-4e23-b20e-974d5fe9c358",
     "text": "tailthing"
    },
    "executionTime": "2019-09-06T18:51:03.189Z"
   },
   {
    "cell": {
     "executionCount": 38,
     "executionEventId": "dbce3271-0906-49e2-a2cd-ce2c29c6f5f2",
     "hasError": false,
     "id": "1fe1c8ab-e81a-468e-81cb-d84acc240317",
     "outputs": [
      {
       "name": "stdout",
       "output_type": "stream",
       "text": "00-Overview.ipynb                      12-old-pandas.ipynb\n01-Tips-and-tricks.ipynb               2019-06-02-jbw-test-formatter-01.ipynb\n02-NBExtensions.ipynb                  Advanced-Notebook-Tricks.ipynb\n03-Git-Integration.ipynb               Basic-Plotting.ipynb\n03-Interactive-Splines.ipynb           Data_Cleaning.ipynb\n04-Autoreload.ipynb                    Example-pycat.ipynb\n05-SQL-Example.ipynb                   Untitled.ipynb\n06-Advanced-Visualization.ipynb        Untitled1.ipynb\n07-Some_basics.ipynb                   Untitled2.ipynb\n08-More_basics.ipynb                   billy.ipynb\n09-Extras.ipynb                        delete.ipynb\n10-R-stuff.ipynb                       history.ipynb\n11-older-stuff.ipynb                   new-name.ipynb\n"
      }
     ],
     "persistentId": "c46006f1-07db-44c2-b976-d8fcd72b7c35",
     "text": "!ls {tailthing}"
    },
    "executionTime": "2019-09-06T18:51:03.799Z"
   },
   {
    "cell": {
     "executionCount": 39,
     "executionEventId": "9292f2db-123a-490b-86b9-a29b6da5f135",
     "hasError": false,
     "id": "f1d963c5-6fd2-4baa-9433-b0a88098a3f5",
     "outputs": [],
     "persistentId": "0849e6f9-a7e6-43bc-a4e0-0cb274ac62ff",
     "text": "output = !ls "
    },
    "executionTime": "2019-09-06T18:51:04.951Z"
   },
   {
    "cell": {
     "executionCount": 40,
     "executionEventId": "549481e7-769a-4370-9e67-cb0c80133f1c",
     "hasError": false,
     "id": "f91cddc2-a052-429d-82fc-8795b9a8ed9b",
     "outputs": [
      {
       "data": {
        "text/plain": "['00-Overview.ipynb',\n '01-Tips-and-tricks.ipynb',\n '02-NBExtensions.ipynb',\n '03-Git-Integration.ipynb',\n '03-Interactive-Splines.ipynb',\n '04-Autoreload.ipynb',\n '05-SQL-Example.ipynb',\n '06-Advanced-Visualization.ipynb',\n '07-Some_basics.ipynb',\n '08-More_basics.ipynb',\n '09-Extras.ipynb',\n '10-R-stuff.ipynb',\n '11-older-stuff.ipynb',\n '12-old-pandas.ipynb',\n '2019-06-02-jbw-test-formatter-01.ipynb',\n '3d-example-plot.html',\n 'Advanced-Notebook-Tricks.ipynb',\n 'Basic-Plotting.ipynb',\n 'Data_Cleaning.ipynb',\n 'Example-pycat.ipynb',\n 'Untitled.ipynb',\n 'Untitled1.ipynb',\n 'Untitled2.ipynb',\n 'billy.ipynb',\n 'delete.ipynb',\n 'ex1.png',\n 'example.md',\n 'history.ipynb',\n 'jupyterlab-example.md',\n 'new-name.ipynb',\n 'pivottablejs.html',\n 'presidents.sqlite',\n 'temp',\n 'untitled.txt',\n 'vpfit10',\n 'vpfit10.2.tar.gz',\n 'vpfit10.2.tar.gz.1',\n 'vpfit10.2.tar.gz.2',\n 'vpfit10.2.tar.gz.3',\n 'vpfit11',\n 'vpfit11.1.tar.gz',\n 'vpfit11.1.tar.gz.1',\n 'vpfit11.1.tar.gz.2']"
       },
       "execution_count": 40,
       "metadata": {},
       "output_type": "execute_result"
      }
     ],
     "persistentId": "1ca59cd1-62bc-4390-9670-23c16d41505c",
     "text": "output"
    },
    "executionTime": "2019-09-06T18:51:05.448Z"
   },
   {
    "cell": {
     "executionCount": 41,
     "executionEventId": "9741f747-d417-4e2a-b487-a33e204445c7",
     "hasError": false,
     "id": "36a072b1-71df-4283-9aee-f99a49c1a422",
     "outputs": [
      {
       "data": {
        "text/plain": "{'SSH_AGENT_PID': '458',\n 'TERM_PROGRAM': 'iTerm.app',\n 'TERM': 'xterm-color',\n 'SHELL': '/bin/bash',\n 'initials': 'jbw',\n 'CLICOLOR': '1',\n 'TMPDIR': '/var/folders/yk/2rgr0zrj0614jntythcnlyvw0000gn/T/',\n 'CONDA_SHLVL': '2',\n 'Apple_PubSub_Socket_Render': '/private/tmp/com.apple.launchd.BdhlOB1rQM/Render',\n 'CONDA_PROMPT_MODIFIER': '(dspy3) ',\n 'BASH': '/Users/jonathan/.dotfiles',\n 'TERM_PROGRAM_VERSION': '3.2.9',\n 'OLDPWD': '/Users/jonathan/github/learning/anki-coding-challenges',\n 'TERM_SESSION_ID': 'w0t3p0:39B8CDA1-6B21-4E76-8FB9-175F3056427B',\n 'USER': 'jonathan',\n 'CONDA_EXE': '/Users/jonathan/miniconda3/bin/conda',\n 'SSH_AUTH_SOCK': '/var/folders/yk/2rgr0zrj0614jntythcnlyvw0000gn/T//ssh-rRX7E7gV49As/agent.456',\n '__CF_USER_TEXT_ENCODING': '0x0:0:0',\n '_CE_CONDA': '',\n 'CONDA_PREFIX_1': '/Users/jonathan/miniconda3',\n 'PATH': '/Users/jonathan/miniconda3/envs/dspy3/bin:/Users/jonathan/miniconda3/envs/dspy3/bin:/Users/jonathan/miniconda3/condabin:/Users/jonathan/miniconda3/bin:/usr/local/bin:/usr/bin:/bin:/usr/sbin:/sbin:/Library/TeX/texbin:/opt/X11/bin:/usr/local/opt/fzf/bin',\n 'CONDA_PREFIX': '/Users/jonathan/miniconda3/envs/dspy3',\n 'PWD': '/Users/jonathan/github/jupyter-tips-and-tricks',\n 'EDITOR': 'vim',\n 'LANG': 'en_US.UTF-8',\n 'ITERM_PROFILE': 'Default',\n 'XPC_FLAGS': '0x0',\n 'ITERM_ORIG_PS1': '(dspy3) \\\\n# \\\\w\\\\n# \\\\[\\\\e[0;32m\\\\]\\\\h \\\\[\\\\e[0m\\\\]\\\\[\\\\e[0;36m\\\\]${git_branch}\\\\[\\\\e[0;31m\\\\]$git_dirty\\\\[\\\\e[0m\\\\]$ ',\n 'PS1': '(dspy3) \\\\n# \\\\w\\\\n# \\\\[\\\\e[0;32m\\\\]\\\\h \\\\[\\\\e[0m\\\\]\\\\[\\\\e[0;36m\\\\]${git_branch}\\\\[\\\\e[0;31m\\\\]$git_dirty\\\\[\\\\e[0m\\\\]$ ',\n 'PS3': '#? ',\n '_CE_M': '',\n 'HISTCONTROL': 'ignoreboth',\n 'PS2': '> ',\n 'XPC_SERVICE_NAME': '0',\n 'GITAWAREPROMPT': '/Users/jonathan/.bash/git-aware-prompt',\n 'SHLVL': '1',\n 'PS4': '+',\n 'HOME': '/Users/jonathan',\n 'COLORFGBG': '15;0',\n 'ITERM_PREV_PS1': '\\\\[\\x1b]133;D;$?\\x07\\x1b]133;A\\x07\\\\](dspy3) \\\\n# \\\\w\\\\n# \\\\[\\\\e[0;32m\\\\]\\\\h \\\\[\\\\e[0m\\\\]\\\\[\\\\e[0;36m\\\\]${git_branch}\\\\[\\\\e[0;31m\\\\]$git_dirty\\\\[\\\\e[0m\\\\]$ \\\\[\\x1b]133;B\\x07\\\\]',\n 'ITERM_SESSION_ID': 'w0t3p0:39B8CDA1-6B21-4E76-8FB9-175F3056427B',\n 'CONDA_PYTHON_EXE': '/Users/jonathan/miniconda3/bin/python',\n 'LOGNAME': 'jonathan',\n 'CONDA_DEFAULT_ENV': 'dspy3',\n 'PROMPT_COMMAND': '__bp_precmd_invoke_cmd; echo -ne \"\\\\033]0;${USER}@${HOSTNAME%%.*} ${PWD}\"; echo -ne \"\\\\007\"; __bp_interactive_mode',\n 'DISPLAY': '/private/tmp/com.apple.launchd.jIwOWP8DYq/org.macosforge.xquartz:0',\n '_fzf_orig_completion_git': 'complete -o bashdefault -o default -o nospace -F %s git #__git_wrap__git_main',\n 'COLORTERM': 'truecolor',\n '_': '/Users/jonathan/miniconda3/envs/dspy3/bin/jupyter',\n 'GIT_PYTHON_REFRESH': 'quiet',\n 'JPY_PARENT_PID': '48853',\n 'PAGER': 'cat',\n 'GIT_PAGER': 'cat',\n 'MPLBACKEND': 'module://ipykernel.pylab.backend_inline'}"
       },
       "execution_count": 41,
       "metadata": {},
       "output_type": "execute_result"
      }
     ],
     "persistentId": "41ff6d18-9413-4d7c-ae9d-f7b958ef9223",
     "text": "%env  "
    },
    "executionTime": "2019-09-06T18:51:08.362Z"
   },
   {
    "cell": {
     "executionCount": 42,
     "executionEventId": "e8b3c0cd-e37d-4845-ad10-73f9f117e77e",
     "hasError": false,
     "id": "ce682d99-0874-4a2c-a609-5e5ea3269c16",
     "outputs": [
      {
       "data": {
        "text/plain": "3"
       },
       "execution_count": 42,
       "metadata": {},
       "output_type": "execute_result"
      }
     ],
     "persistentId": "4e1f0cfd-d1ef-46cc-bbd4-abcf0a207997",
     "text": "a = 3\na"
    },
    "executionTime": "2019-09-06T18:51:13.992Z"
   },
   {
    "cell": {
     "executionCount": 43,
     "executionEventId": "4d1e82a5-3d6a-4796-86b1-3a1b64185e23",
     "hasError": false,
     "id": "aea08d50-9fb3-47b1-bc34-64186995609b",
     "outputs": [
      {
       "data": {
        "text/plain": "3"
       },
       "execution_count": 43,
       "metadata": {},
       "output_type": "execute_result"
      }
     ],
     "persistentId": "0f940ea9-c565-4b3e-af33-c28d266f731d",
     "text": "_42"
    },
    "executionTime": "2019-09-06T18:51:19.296Z"
   },
   {
    "cell": {
     "executionCount": 44,
     "executionEventId": "1fe8007d-6526-4a5f-b791-30fe8dccb8ab",
     "hasError": false,
     "id": "64fd4b01-cca1-4a7d-a38a-f3af4ed60a51",
     "outputs": [
      {
       "data": {
        "text/plain": "'a = 3\\na'"
       },
       "execution_count": 44,
       "metadata": {},
       "output_type": "execute_result"
      }
     ],
     "persistentId": "0bf93d59-ce34-4566-866e-4aeae93bd1f2",
     "text": "_i42"
    },
    "executionTime": "2019-09-06T18:51:25.127Z"
   },
   {
    "cell": {
     "executionCount": 45,
     "executionEventId": "3c8b5525-f977-421e-9136-5e669ffa5178",
     "hasError": false,
     "id": "377bc85c-ee47-4dbf-bbda-330eab50825f",
     "outputs": [
      {
       "name": "stdout",
       "output_type": "stream",
       "text": "03-Git-Integration.ipynb:    \"import qgrid\\n\",\n03-Git-Integration.ipynb:    \"Interactive pandas dataframes: https://github.com/quantopian/qgrid\"\n03-Git-Integration.ipynb:    \"qgrid_widget = qgrid.show_grid(\\n\",\n03-Git-Integration.ipynb:    \"qgrid_widget\"\n03-Git-Integration.ipynb:    \"# make a change via qgrid\\n\",\n03-Git-Integration.ipynb:    \"df3 = qgrid_widget.get_changed_df()\"\n03-Git-Integration.ipynb:    \"qgrid_widget = qgrid.show_grid(\\n\",\n03-Git-Integration.ipynb:    \"qgrid_widget\"\n11-older-stuff.ipynb:    \"# import qgrid # Put imports at the top\\n\",\n11-older-stuff.ipynb:    \"# qgrid.nbinstall(overwrite=True)\\n\",\n11-older-stuff.ipynb:    \"# qgrid.show_grid(df[['MSHA_ID',\\n\",\n11-older-stuff.ipynb:    \"# Check out http://nbviewer.ipython.org/github/quantopian/qgrid/blob/master/qgrid_demo.ipynb for more (including demo)\"\nhistory.ipynb:    \"import qgrid\\n\",\nhistory.ipynb:    \"qgrid_widget = qgrid.show_grid(df[['CRIM',\\n\",\nhistory.ipynb:    \"qgrid_widget\"\nhistory.ipynb:    \"df2 = qgrid_widget.get_changed_df()\"\nnew-name.ipynb:    \"import qgrid\\n\",\nnew-name.ipynb:    \"qgrid_widget = qgrid.show_grid(df[['CRIM',\\n\",\nnew-name.ipynb:    \"qgrid_widget\"\nnew-name.ipynb:    \"df2 = qgrid_widget.get_changed_df()\"\n"
      }
     ],
     "persistentId": "418b062f-6022-4f33-93fa-9207ed87374a",
     "text": "!grep qgrid *.ipynb"
    },
    "executionTime": "2019-09-09T22:00:28.656Z"
   },
   {
    "cell": {
     "executionCount": 1,
     "executionEventId": "0d8206d0-b521-448f-8b17-233a091a2845",
     "hasError": false,
     "id": "ed89ea1a-bbad-4e49-b9df-c66428af55f1",
     "outputs": [],
     "persistentId": "5e98591e-08d0-4812-ba61-d0ecc428c08d",
     "text": "# code cell\nname = \"Jonathan\""
    },
    "executionTime": "2019-09-12T03:03:59.077Z"
   },
   {
    "cell": {
     "executionCount": 2,
     "executionEventId": "6ac733a7-3e30-40a4-8183-f3f7182c4fe3",
     "hasError": false,
     "id": "2c6fdf47-ba81-41cb-b0ee-1db3cd77e90b",
     "outputs": [],
     "persistentId": "8fa080b3-f270-4d06-9fdc-ddd37ad35295",
     "text": "# Add this to python2 code to make life easier -- safe to use in python3 as well.\nfrom __future__ import absolute_import, division, print_function"
    },
    "executionTime": "2019-09-12T03:04:01.784Z"
   },
   {
    "cell": {
     "executionCount": 3,
     "executionEventId": "6c191df3-46ce-4103-be1e-3b7ad4a69283",
     "hasError": false,
     "id": "192fcd3d-6748-47f6-9bb1-765ddae5dcb0",
     "outputs": [],
     "persistentId": "d595746b-e2e3-4f7c-baa3-417fb0512be5",
     "text": "import pandas as pd\nimport matplotlib.pyplot as plt\nimport seaborn as sns\nimport os\nfrom pivottablejs import pivot_ui\nimport sys\nimport warnings\n\nwarnings.filterwarnings(\"ignore\")"
    },
    "executionTime": "2019-09-12T03:04:16.687Z"
   },
   {
    "cell": {
     "executionCount": 4,
     "executionEventId": "744986dd-4f4e-4d76-9b84-6b5304d5ba20",
     "hasError": false,
     "id": "bab208ac-d686-4606-806e-5545222b2fca",
     "outputs": [],
     "persistentId": "ea0e37d6-44e2-411f-9da8-5b9c4dba6afe",
     "text": "first = 1"
    },
    "executionTime": "2019-09-12T03:04:17.738Z"
   },
   {
    "cell": {
     "executionCount": 5,
     "executionEventId": "a8c5189d-e8bc-4a4a-93db-c6727d6763bf",
     "hasError": false,
     "id": "4fa83b58-3232-421e-978a-c301368fe61d",
     "outputs": [],
     "persistentId": "ea0e37d6-44e2-411f-9da8-5b9c4dba6afe",
     "text": "second = 2"
    },
    "executionTime": "2019-09-12T03:04:18.096Z"
   },
   {
    "cell": {
     "executionCount": 6,
     "executionEventId": "b3e63adb-cb70-46ea-a7e0-f6fbf8e0e974",
     "hasError": false,
     "id": "caeab22e-eec0-4e14-92bb-719687570fc1",
     "outputs": [],
     "persistentId": "ea0e37d6-44e2-411f-9da8-5b9c4dba6afe",
     "text": "third = 3"
    },
    "executionTime": "2019-09-12T03:04:18.452Z"
   },
   {
    "cell": {
     "executionCount": 7,
     "executionEventId": "279f925d-c6a9-439d-b7a6-3bf072d1c6d9",
     "hasError": false,
     "id": "ccab43a3-92d3-4026-b16f-8223aacfc60e",
     "outputs": [],
     "persistentId": "646cd755-8c22-4efe-9f37-4629e03fc41d",
     "text": "# df = pd.read_csv(\"../data/mps.csv\", encoding=\"ISO-8859-1\")\n# canadian_politics = pd.read_csv(\"../data/montreal_2014.csv\",)\ncanadian_politics = pd.read_csv(\"../data/mps2.csv\")"
    },
    "executionTime": "2019-09-12T03:04:22.210Z"
   },
   {
    "cell": {
     "executionCount": 8,
     "executionEventId": "da6126d7-9adf-45f5-acf3-5f9182c383b3",
     "hasError": false,
     "id": "e94c4cec-724f-4189-8d55-5ee757610ddf",
     "outputs": [
      {
       "data": {
        "text/html": "<div>\n<style scoped>\n    .dataframe tbody tr th:only-of-type {\n        vertical-align: middle;\n    }\n\n    .dataframe tbody tr th {\n        vertical-align: top;\n    }\n\n    .dataframe thead th {\n        text-align: right;\n    }\n</style>\n<table border=\"1\" class=\"dataframe\">\n  <thead>\n    <tr style=\"text-align: right;\">\n      <th></th>\n      <th>Name</th>\n      <th>Party</th>\n      <th>Province</th>\n      <th>Age</th>\n      <th>Gender</th>\n    </tr>\n  </thead>\n  <tbody>\n    <tr>\n      <td>0</td>\n      <td>Liu, Laurin</td>\n      <td>NDP</td>\n      <td>Quebec</td>\n      <td>22.0</td>\n      <td>Female</td>\n    </tr>\n    <tr>\n      <td>1</td>\n      <td>Mourani, Maria</td>\n      <td>Bloc Quebecois</td>\n      <td>Quebec</td>\n      <td>43.0</td>\n      <td>Female</td>\n    </tr>\n    <tr>\n      <td>2</td>\n      <td>Sellah, Djaouida</td>\n      <td>NDP</td>\n      <td>Quebec</td>\n      <td>NaN</td>\n      <td>Female</td>\n    </tr>\n    <tr>\n      <td>3</td>\n      <td>St-Denis, Lise</td>\n      <td>NDP</td>\n      <td>Quebec</td>\n      <td>72.0</td>\n      <td>Female</td>\n    </tr>\n    <tr>\n      <td>4</td>\n      <td>Fry, Hedy</td>\n      <td>Liberal</td>\n      <td>British Columbia</td>\n      <td>71.0</td>\n      <td>Female</td>\n    </tr>\n    <tr>\n      <td>5</td>\n      <td>Turmel, Nycole</td>\n      <td>NDP</td>\n      <td>Quebec</td>\n      <td>70.0</td>\n      <td>Female</td>\n    </tr>\n    <tr>\n      <td>6</td>\n      <td>Sgro, Judy</td>\n      <td>Liberal</td>\n      <td>Ontario</td>\n      <td>68.0</td>\n      <td>Female</td>\n    </tr>\n    <tr>\n      <td>7</td>\n      <td>Raynault, Francine</td>\n      <td>NDP</td>\n      <td>Quebec</td>\n      <td>67.0</td>\n      <td>Female</td>\n    </tr>\n    <tr>\n      <td>8</td>\n      <td>Davidson, Patricia</td>\n      <td>Conservative</td>\n      <td>Ontario</td>\n      <td>66.0</td>\n      <td>Female</td>\n    </tr>\n    <tr>\n      <td>9</td>\n      <td>Smith, Joy</td>\n      <td>Conservative</td>\n      <td>Manitoba</td>\n      <td>65.0</td>\n      <td>Female</td>\n    </tr>\n  </tbody>\n</table>\n</div>",
        "text/plain": "                 Name           Party          Province   Age  Gender\n0         Liu, Laurin             NDP            Quebec  22.0  Female\n1      Mourani, Maria  Bloc Quebecois            Quebec  43.0  Female\n2    Sellah, Djaouida             NDP            Quebec   NaN  Female\n3      St-Denis, Lise             NDP            Quebec  72.0  Female\n4           Fry, Hedy         Liberal  British Columbia  71.0  Female\n5      Turmel, Nycole             NDP            Quebec  70.0  Female\n6          Sgro, Judy         Liberal           Ontario  68.0  Female\n7  Raynault, Francine             NDP            Quebec  67.0  Female\n8  Davidson, Patricia    Conservative           Ontario  66.0  Female\n9          Smith, Joy    Conservative          Manitoba  65.0  Female"
       },
       "execution_count": 8,
       "metadata": {},
       "output_type": "execute_result"
      }
     ],
     "persistentId": "eb2f750c-1142-4f82-bb4a-b24e13bf5652",
     "text": "# recommend using .head()\ncanadian_politics.head(10)"
    },
    "executionTime": "2019-09-12T03:04:23.107Z"
   },
   {
    "cell": {
     "executionCount": 9,
     "executionEventId": "441c25dd-7044-43a1-b388-1e2bc8672dc4",
     "hasError": false,
     "id": "a90e632c-3d23-4e1c-8176-3dcb36d6d9d2",
     "outputs": [
      {
       "data": {
        "image/png": "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\n",
        "text/plain": "<Figure size 432x288 with 1 Axes>"
       },
       "metadata": {
        "needs_background": "light"
       },
       "output_type": "display_data"
      }
     ],
     "persistentId": "e69366c4-06ab-480c-9517-27a92536a7f3",
     "text": "sns.distplot(canadian_politics[\"Age\"].dropna());"
    },
    "executionTime": "2019-09-12T03:04:28.470Z"
   },
   {
    "cell": {
     "executionCount": 10,
     "executionEventId": "1d30b86b-ad9e-4095-9af0-65e2914f46a9",
     "hasError": false,
     "id": "f95f02e7-68ea-4cf7-948e-d376db2c7752",
     "outputs": [],
     "persistentId": "07d985ae-a47f-4486-8877-71e9529824de",
     "text": "sns.set_context(\"poster\", font_scale=1.3)"
    },
    "executionTime": "2019-09-12T03:04:30.422Z"
   },
   {
    "cell": {
     "executionCount": 11,
     "executionEventId": "0ac3b2da-1dbe-475c-9678-43c564b8b5c6",
     "hasError": false,
     "id": "8e6f5dbc-dd77-4cb0-8180-c325ef16b8dc",
     "outputs": [
      {
       "data": {
        "image/png": "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\n",
        "text/plain": "<Figure size 864x576 with 1 Axes>"
       },
       "metadata": {
        "needs_background": "light"
       },
       "output_type": "display_data"
      }
     ],
     "persistentId": "dea1274f-c2fa-4fce-b2ff-864248c03b86",
     "text": "fig, ax = plt.subplots(figsize=(12, 8))\nsns.distplot(canadian_politics[\"Age\"].dropna())\nfig.tight_layout()"
    },
    "executionTime": "2019-09-12T03:04:31.165Z"
   },
   {
    "cell": {
     "executionCount": 12,
     "executionEventId": "50577d9b-14d8-4270-a8ad-ead2c262d503",
     "hasError": false,
     "id": "96621645-9c76-436d-b980-bdadd27ecf5b",
     "outputs": [],
     "persistentId": "d51338c0-4a0d-4f36-8c01-c304b6e0c6c1",
     "text": "# Province, Party, Average, Age, Heatmap"
    },
    "executionTime": "2019-09-12T03:04:40.490Z"
   },
   {
    "cell": {
     "executionCount": 13,
     "executionEventId": "d44a99ac-3535-4507-9728-f870c2ed8f35",
     "hasError": false,
     "id": "cd784c5e-7f27-48b7-b8d9-e37805712a0b",
     "outputs": [
      {
       "data": {
        "text/html": "\n        <iframe\n            width=\"100%\"\n            height=\"500\"\n            src=\"pivottablejs.html\"\n            frameborder=\"0\"\n            allowfullscreen\n        ></iframe>\n        ",
        "text/plain": "<IPython.lib.display.IFrame at 0x121bd7ba8>"
       },
       "execution_count": 13,
       "metadata": {},
       "output_type": "execute_result"
      }
     ],
     "persistentId": "b39539b8-5424-4347-85b6-f7573dc8ae03",
     "text": "pivot_ui(canadian_politics)"
    },
    "executionTime": "2019-09-12T03:04:41.896Z"
   },
   {
    "cell": {
     "executionCount": 14,
     "executionEventId": "fb8f156a-666b-4c94-ad7d-fd972c3452d3",
     "hasError": false,
     "id": "2597d478-d0da-4a52-af23-ae1ebf4d292b",
     "outputs": [],
     "persistentId": "ffc60d8b-1163-467f-a3d6-3c8bd704e21f",
     "text": "import numpy as np"
    },
    "executionTime": "2019-09-12T03:05:16.829Z"
   },
   {
    "cell": {
     "executionCount": 15,
     "executionEventId": "83810e42-723c-4726-93e2-42f74f253db2",
     "hasError": false,
     "id": "6cfe86ab-f069-42c4-abf0-8fae3db9a8b2",
     "outputs": [
      {
       "data": {
        "text/plain": "\u001b[0;31mSignature:\u001b[0m\n\u001b[0mnp\u001b[0m\u001b[0;34m.\u001b[0m\u001b[0mlinspace\u001b[0m\u001b[0;34m(\u001b[0m\u001b[0;34m\u001b[0m\n\u001b[0;34m\u001b[0m    \u001b[0mstart\u001b[0m\u001b[0;34m,\u001b[0m\u001b[0;34m\u001b[0m\n\u001b[0;34m\u001b[0m    \u001b[0mstop\u001b[0m\u001b[0;34m,\u001b[0m\u001b[0;34m\u001b[0m\n\u001b[0;34m\u001b[0m    \u001b[0mnum\u001b[0m\u001b[0;34m=\u001b[0m\u001b[0;36m50\u001b[0m\u001b[0;34m,\u001b[0m\u001b[0;34m\u001b[0m\n\u001b[0;34m\u001b[0m    \u001b[0mendpoint\u001b[0m\u001b[0;34m=\u001b[0m\u001b[0;32mTrue\u001b[0m\u001b[0;34m,\u001b[0m\u001b[0;34m\u001b[0m\n\u001b[0;34m\u001b[0m    \u001b[0mretstep\u001b[0m\u001b[0;34m=\u001b[0m\u001b[0;32mFalse\u001b[0m\u001b[0;34m,\u001b[0m\u001b[0;34m\u001b[0m\n\u001b[0;34m\u001b[0m    \u001b[0mdtype\u001b[0m\u001b[0;34m=\u001b[0m\u001b[0;32mNone\u001b[0m\u001b[0;34m,\u001b[0m\u001b[0;34m\u001b[0m\n\u001b[0;34m\u001b[0m    \u001b[0maxis\u001b[0m\u001b[0;34m=\u001b[0m\u001b[0;36m0\u001b[0m\u001b[0;34m,\u001b[0m\u001b[0;34m\u001b[0m\n\u001b[0;34m\u001b[0m\u001b[0;34m)\u001b[0m\u001b[0;34m\u001b[0m\u001b[0;34m\u001b[0m\u001b[0m\n\u001b[0;31mDocstring:\u001b[0m\nReturn evenly spaced numbers over a specified interval.\n\nReturns `num` evenly spaced samples, calculated over the\ninterval [`start`, `stop`].\n\nThe endpoint of the interval can optionally be excluded.\n\n.. versionchanged:: 1.16.0\n    Non-scalar `start` and `stop` are now supported.\n\nParameters\n----------\nstart : array_like\n    The starting value of the sequence.\nstop : array_like\n    The end value of the sequence, unless `endpoint` is set to False.\n    In that case, the sequence consists of all but the last of ``num + 1``\n    evenly spaced samples, so that `stop` is excluded.  Note that the step\n    size changes when `endpoint` is False.\nnum : int, optional\n    Number of samples to generate. Default is 50. Must be non-negative.\nendpoint : bool, optional\n    If True, `stop` is the last sample. Otherwise, it is not included.\n    Default is True.\nretstep : bool, optional\n    If True, return (`samples`, `step`), where `step` is the spacing\n    between samples.\ndtype : dtype, optional\n    The type of the output array.  If `dtype` is not given, infer the data\n    type from the other input arguments.\n\n    .. versionadded:: 1.9.0\n\naxis : int, optional\n    The axis in the result to store the samples.  Relevant only if start\n    or stop are array-like.  By default (0), the samples will be along a\n    new axis inserted at the beginning. Use -1 to get an axis at the end.\n\n    .. versionadded:: 1.16.0\n\nReturns\n-------\nsamples : ndarray\n    There are `num` equally spaced samples in the closed interval\n    ``[start, stop]`` or the half-open interval ``[start, stop)``\n    (depending on whether `endpoint` is True or False).\nstep : float, optional\n    Only returned if `retstep` is True\n\n    Size of spacing between samples.\n\n\nSee Also\n--------\narange : Similar to `linspace`, but uses a step size (instead of the\n         number of samples).\ngeomspace : Similar to `linspace`, but with numbers spaced evenly on a log\n            scale (a geometric progression).\nlogspace : Similar to `geomspace`, but with the end points specified as\n           logarithms.\n\nExamples\n--------\n>>> np.linspace(2.0, 3.0, num=5)\narray([2.  , 2.25, 2.5 , 2.75, 3.  ])\n>>> np.linspace(2.0, 3.0, num=5, endpoint=False)\narray([2. ,  2.2,  2.4,  2.6,  2.8])\n>>> np.linspace(2.0, 3.0, num=5, retstep=True)\n(array([2.  ,  2.25,  2.5 ,  2.75,  3.  ]), 0.25)\n\nGraphical illustration:\n\n>>> import matplotlib.pyplot as plt\n>>> N = 8\n>>> y = np.zeros(N)\n>>> x1 = np.linspace(0, 10, N, endpoint=True)\n>>> x2 = np.linspace(0, 10, N, endpoint=False)\n>>> plt.plot(x1, y, 'o')\n[<matplotlib.lines.Line2D object at 0x...>]\n>>> plt.plot(x2, y + 0.5, 'o')\n[<matplotlib.lines.Line2D object at 0x...>]\n>>> plt.ylim([-0.5, 1])\n(-0.5, 1)\n>>> plt.show()\n\u001b[0;31mFile:\u001b[0m      ~/miniconda3/envs/dspy3/lib/python3.6/site-packages/numpy/core/function_base.py\n\u001b[0;31mType:\u001b[0m      function\n"
       },
       "metadata": {},
       "output_type": "display_data"
      }
     ],
     "persistentId": "f1b235f2-cbfb-47c2-a110-e618c2160cdc",
     "text": "np.linspace?"
    },
    "executionTime": "2019-09-12T03:06:02.480Z"
   },
   {
    "cell": {
     "executionCount": 16,
     "executionEventId": "3f2487d8-6bab-4223-b2c3-98f57de01815",
     "hasError": false,
     "id": "376abd1d-86dd-4c30-878a-1aca82a44b2c",
     "outputs": [
      {
       "name": "stdout",
       "output_type": "stream",
       "text": "01-Tips-and-tricks.ipynb:    \"last_executed_text\": \"!grep qgrid *.ipynb\",\n01-Tips-and-tricks.ipynb:      \"03-Git-Integration.ipynb:    \\\"import qgrid\\\\n\\\",\\n\",\n01-Tips-and-tricks.ipynb:      \"03-Git-Integration.ipynb:    \\\"Interactive pandas dataframes: https://github.com/quantopian/qgrid\\\"\\n\",\n01-Tips-and-tricks.ipynb:      \"03-Git-Integration.ipynb:    \\\"qgrid_widget = qgrid.show_grid(\\\\n\\\",\\n\",\n01-Tips-and-tricks.ipynb:      \"03-Git-Integration.ipynb:    \\\"qgrid_widget\\\"\\n\",\n01-Tips-and-tricks.ipynb:      \"03-Git-Integration.ipynb:    \\\"# make a change via qgrid\\\\n\\\",\\n\",\n01-Tips-and-tricks.ipynb:      \"03-Git-Integration.ipynb:    \\\"df3 = qgrid_widget.get_changed_df()\\\"\\n\",\n01-Tips-and-tricks.ipynb:      \"03-Git-Integration.ipynb:    \\\"qgrid_widget = qgrid.show_grid(\\\\n\\\",\\n\",\n01-Tips-and-tricks.ipynb:      \"03-Git-Integration.ipynb:    \\\"qgrid_widget\\\"\\n\",\n01-Tips-and-tricks.ipynb:      \"11-older-stuff.ipynb:    \\\"# import qgrid # Put imports at the top\\\\n\\\",\\n\",\n01-Tips-and-tricks.ipynb:      \"11-older-stuff.ipynb:    \\\"# qgrid.nbinstall(overwrite=True)\\\\n\\\",\\n\",\n01-Tips-and-tricks.ipynb:      \"11-older-stuff.ipynb:    \\\"# qgrid.show_grid(df[['MSHA_ID',\\\\n\\\",\\n\",\n01-Tips-and-tricks.ipynb:      \"11-older-stuff.ipynb:    \\\"# Check out http://nbviewer.ipython.org/github/quantopian/qgrid/blob/master/qgrid_demo.ipynb for more (including demo)\\\"\\n\",\n01-Tips-and-tricks.ipynb:      \"history.ipynb:    \\\"import qgrid\\\\n\\\",\\n\",\n01-Tips-and-tricks.ipynb:      \"history.ipynb:    \\\"qgrid_widget = qgrid.show_grid(df[['CRIM',\\\\n\\\",\\n\",\n01-Tips-and-tricks.ipynb:      \"history.ipynb:    \\\"qgrid_widget\\\"\\n\",\n01-Tips-and-tricks.ipynb:      \"history.ipynb:    \\\"df2 = qgrid_widget.get_changed_df()\\\"\\n\",\n01-Tips-and-tricks.ipynb:      \"new-name.ipynb:    \\\"import qgrid\\\\n\\\",\\n\",\n01-Tips-and-tricks.ipynb:      \"new-name.ipynb:    \\\"qgrid_widget = qgrid.show_grid(df[['CRIM',\\\\n\\\",\\n\",\n01-Tips-and-tricks.ipynb:      \"new-name.ipynb:    \\\"qgrid_widget\\\"\\n\",\n01-Tips-and-tricks.ipynb:      \"new-name.ipynb:    \\\"df2 = qgrid_widget.get_changed_df()\\\"\\n\"\n01-Tips-and-tricks.ipynb:    \"!grep qgrid *.ipynb\"\n01-Tips-and-tricks.ipynb:       \"text\": \"03-Git-Integration.ipynb:    \\\"import qgrid\\\\n\\\",\\n03-Git-Integration.ipynb:    \\\"Interactive pandas dataframes: https://github.com/quantopian/qgrid\\\"\\n03-Git-Integration.ipynb:    \\\"qgrid_widget = qgrid.show_grid(\\\\n\\\",\\n03-Git-Integration.ipynb:    \\\"qgrid_widget\\\"\\n03-Git-Integration.ipynb:    \\\"# make a change via qgrid\\\\n\\\",\\n03-Git-Integration.ipynb:    \\\"df3 = qgrid_widget.get_changed_df()\\\"\\n03-Git-Integration.ipynb:    \\\"qgrid_widget = qgrid.show_grid(\\\\n\\\",\\n03-Git-Integration.ipynb:    \\\"qgrid_widget\\\"\\n11-older-stuff.ipynb:    \\\"# import qgrid # Put imports at the top\\\\n\\\",\\n11-older-stuff.ipynb:    \\\"# qgrid.nbinstall(overwrite=True)\\\\n\\\",\\n11-older-stuff.ipynb:    \\\"# qgrid.show_grid(df[['MSHA_ID',\\\\n\\\",\\n11-older-stuff.ipynb:    \\\"# Check out http://nbviewer.ipython.org/github/quantopian/qgrid/blob/master/qgrid_demo.ipynb for more (including demo)\\\"\\nhistory.ipynb:    \\\"import qgrid\\\\n\\\",\\nhistory.ipynb:    \\\"qgrid_widget = qgrid.show_grid(df[['CRIM',\\\\n\\\",\\nhistory.ipynb:    \\\"qgrid_widget\\\"\\nhistory.ipynb:    \\\"df2 = qgrid_widget.get_changed_df()\\\"\\nnew-name.ipynb:    \\\"import qgrid\\\\n\\\",\\nnew-name.ipynb:    \\\"qgrid_widget = qgrid.show_grid(df[['CRIM',\\\\n\\\",\\nnew-name.ipynb:    \\\"qgrid_widget\\\"\\nnew-name.ipynb:    \\\"df2 = qgrid_widget.get_changed_df()\\\"\\n\"\n01-Tips-and-tricks.ipynb:     \"text\": \"!grep qgrid *.ipynb\"\n03-Git-Integration.ipynb:    \"last_executed_text\": \"import qgrid\\nfrom sklearn.datasets import load_boston\",\n03-Git-Integration.ipynb:    \"import qgrid\\n\",\n03-Git-Integration.ipynb:    \"Interactive pandas dataframes: https://github.com/quantopian/qgrid\"\n03-Git-Integration.ipynb:    \"last_executed_text\": \"qgrid_widget = qgrid.show_grid(\\n    df[[\\\"Year\\\", \\\"Mine_State\\\", \\\"Labor_Hours\\\", \\\"Production_short_tons\\\"]],\\n    show_toolbar=True,\\n)\\nqgrid_widget\",\n03-Git-Integration.ipynb:    \"qgrid_widget = qgrid.show_grid(\\n\",\n03-Git-Integration.ipynb:    \"qgrid_widget\"\n03-Git-Integration.ipynb:    \"# make a change via qgrid\\n\",\n03-Git-Integration.ipynb:    \"df3 = qgrid_widget.get_changed_df()\"\n03-Git-Integration.ipynb:    \"qgrid_widget = qgrid.show_grid(\\n\",\n03-Git-Integration.ipynb:    \"qgrid_widget\"\n03-Git-Integration.ipynb:     \"text\": \"import qgrid\\nfrom sklearn.datasets import load_boston\"\n03-Git-Integration.ipynb:     \"text\": \"qgrid_widget = qgrid.show_grid(\\n    df[[\\\"Year\\\", \\\"Mine_State\\\", \\\"Labor_Hours\\\", \\\"Production_short_tons\\\"]],\\n    show_toolbar=True,\\n)\\nqgrid_widget\"\n11-older-stuff.ipynb:    \"# import qgrid # Put imports at the top\\n\",\n11-older-stuff.ipynb:    \"# qgrid.nbinstall(overwrite=True)\\n\",\n11-older-stuff.ipynb:    \"# qgrid.show_grid(df[['MSHA_ID',\\n\",\n11-older-stuff.ipynb:    \"# Check out http://nbviewer.ipython.org/github/quantopian/qgrid/blob/master/qgrid_demo.ipynb for more (including demo)\"\nhistory.ipynb:    \"import qgrid\\n\",\nhistory.ipynb:    \"qgrid_widget = qgrid.show_grid(df[['CRIM',\\n\",\nhistory.ipynb:    \"qgrid_widget\"\nhistory.ipynb:    \"df2 = qgrid_widget.get_changed_df()\"\nnew-name.ipynb:    \"import qgrid\\n\",\nnew-name.ipynb:    \"qgrid_widget = qgrid.show_grid(df[['CRIM',\\n\",\nnew-name.ipynb:    \"qgrid_widget\"\nnew-name.ipynb:    \"df2 = qgrid_widget.get_changed_df()\"\n"
      }
     ],
     "persistentId": "418b062f-6022-4f33-93fa-9207ed87374a",
     "text": "!grep qgrid *.ipynb"
    },
    "executionTime": "2019-09-12T03:06:03.450Z"
   },
   {
    "cell": {
     "executionCount": 17,
     "executionEventId": "0c7c2bca-a30f-4f53-8e17-8945d47bffb2",
     "hasError": false,
     "id": "1bb7fd41-ad48-4f11-9471-f48da648d14b",
     "outputs": [
      {
       "data": {
        "text/plain": "\u001b[0;31mSignature:\u001b[0m\n\u001b[0mnp\u001b[0m\u001b[0;34m.\u001b[0m\u001b[0mlinspace\u001b[0m\u001b[0;34m(\u001b[0m\u001b[0;34m\u001b[0m\n\u001b[0;34m\u001b[0m    \u001b[0mstart\u001b[0m\u001b[0;34m,\u001b[0m\u001b[0;34m\u001b[0m\n\u001b[0;34m\u001b[0m    \u001b[0mstop\u001b[0m\u001b[0;34m,\u001b[0m\u001b[0;34m\u001b[0m\n\u001b[0;34m\u001b[0m    \u001b[0mnum\u001b[0m\u001b[0;34m=\u001b[0m\u001b[0;36m50\u001b[0m\u001b[0;34m,\u001b[0m\u001b[0;34m\u001b[0m\n\u001b[0;34m\u001b[0m    \u001b[0mendpoint\u001b[0m\u001b[0;34m=\u001b[0m\u001b[0;32mTrue\u001b[0m\u001b[0;34m,\u001b[0m\u001b[0;34m\u001b[0m\n\u001b[0;34m\u001b[0m    \u001b[0mretstep\u001b[0m\u001b[0;34m=\u001b[0m\u001b[0;32mFalse\u001b[0m\u001b[0;34m,\u001b[0m\u001b[0;34m\u001b[0m\n\u001b[0;34m\u001b[0m    \u001b[0mdtype\u001b[0m\u001b[0;34m=\u001b[0m\u001b[0;32mNone\u001b[0m\u001b[0;34m,\u001b[0m\u001b[0;34m\u001b[0m\n\u001b[0;34m\u001b[0m    \u001b[0maxis\u001b[0m\u001b[0;34m=\u001b[0m\u001b[0;36m0\u001b[0m\u001b[0;34m,\u001b[0m\u001b[0;34m\u001b[0m\n\u001b[0;34m\u001b[0m\u001b[0;34m)\u001b[0m\u001b[0;34m\u001b[0m\u001b[0;34m\u001b[0m\u001b[0m\n\u001b[0;31mDocstring:\u001b[0m\nReturn evenly spaced numbers over a specified interval.\n\nReturns `num` evenly spaced samples, calculated over the\ninterval [`start`, `stop`].\n\nThe endpoint of the interval can optionally be excluded.\n\n.. versionchanged:: 1.16.0\n    Non-scalar `start` and `stop` are now supported.\n\nParameters\n----------\nstart : array_like\n    The starting value of the sequence.\nstop : array_like\n    The end value of the sequence, unless `endpoint` is set to False.\n    In that case, the sequence consists of all but the last of ``num + 1``\n    evenly spaced samples, so that `stop` is excluded.  Note that the step\n    size changes when `endpoint` is False.\nnum : int, optional\n    Number of samples to generate. Default is 50. Must be non-negative.\nendpoint : bool, optional\n    If True, `stop` is the last sample. Otherwise, it is not included.\n    Default is True.\nretstep : bool, optional\n    If True, return (`samples`, `step`), where `step` is the spacing\n    between samples.\ndtype : dtype, optional\n    The type of the output array.  If `dtype` is not given, infer the data\n    type from the other input arguments.\n\n    .. versionadded:: 1.9.0\n\naxis : int, optional\n    The axis in the result to store the samples.  Relevant only if start\n    or stop are array-like.  By default (0), the samples will be along a\n    new axis inserted at the beginning. Use -1 to get an axis at the end.\n\n    .. versionadded:: 1.16.0\n\nReturns\n-------\nsamples : ndarray\n    There are `num` equally spaced samples in the closed interval\n    ``[start, stop]`` or the half-open interval ``[start, stop)``\n    (depending on whether `endpoint` is True or False).\nstep : float, optional\n    Only returned if `retstep` is True\n\n    Size of spacing between samples.\n\n\nSee Also\n--------\narange : Similar to `linspace`, but uses a step size (instead of the\n         number of samples).\ngeomspace : Similar to `linspace`, but with numbers spaced evenly on a log\n            scale (a geometric progression).\nlogspace : Similar to `geomspace`, but with the end points specified as\n           logarithms.\n\nExamples\n--------\n>>> np.linspace(2.0, 3.0, num=5)\narray([2.  , 2.25, 2.5 , 2.75, 3.  ])\n>>> np.linspace(2.0, 3.0, num=5, endpoint=False)\narray([2. ,  2.2,  2.4,  2.6,  2.8])\n>>> np.linspace(2.0, 3.0, num=5, retstep=True)\n(array([2.  ,  2.25,  2.5 ,  2.75,  3.  ]), 0.25)\n\nGraphical illustration:\n\n>>> import matplotlib.pyplot as plt\n>>> N = 8\n>>> y = np.zeros(N)\n>>> x1 = np.linspace(0, 10, N, endpoint=True)\n>>> x2 = np.linspace(0, 10, N, endpoint=False)\n>>> plt.plot(x1, y, 'o')\n[<matplotlib.lines.Line2D object at 0x...>]\n>>> plt.plot(x2, y + 0.5, 'o')\n[<matplotlib.lines.Line2D object at 0x...>]\n>>> plt.ylim([-0.5, 1])\n(-0.5, 1)\n>>> plt.show()\n\u001b[0;31mFile:\u001b[0m      ~/miniconda3/envs/dspy3/lib/python3.6/site-packages/numpy/core/function_base.py\n\u001b[0;31mType:\u001b[0m      function\n"
       },
       "metadata": {},
       "output_type": "display_data"
      }
     ],
     "persistentId": "591deb25-5503-4f05-8804-03e909a03e84",
     "text": "?np.linspace"
    },
    "executionTime": "2019-09-12T03:06:13.568Z"
   },
   {
    "cell": {
     "executionCount": 18,
     "executionEventId": "0503ca17-62c2-4b58-9e49-d32ef2fb786a",
     "hasError": false,
     "id": "87d7687f-01f6-4c42-9e1c-0d78c56636ed",
     "outputs": [
      {
       "data": {
        "text/plain": "\u001b[0;31mSignature:\u001b[0m\n\u001b[0mnp\u001b[0m\u001b[0;34m.\u001b[0m\u001b[0mlinspace\u001b[0m\u001b[0;34m(\u001b[0m\u001b[0;34m\u001b[0m\n\u001b[0;34m\u001b[0m    \u001b[0mstart\u001b[0m\u001b[0;34m,\u001b[0m\u001b[0;34m\u001b[0m\n\u001b[0;34m\u001b[0m    \u001b[0mstop\u001b[0m\u001b[0;34m,\u001b[0m\u001b[0;34m\u001b[0m\n\u001b[0;34m\u001b[0m    \u001b[0mnum\u001b[0m\u001b[0;34m=\u001b[0m\u001b[0;36m50\u001b[0m\u001b[0;34m,\u001b[0m\u001b[0;34m\u001b[0m\n\u001b[0;34m\u001b[0m    \u001b[0mendpoint\u001b[0m\u001b[0;34m=\u001b[0m\u001b[0;32mTrue\u001b[0m\u001b[0;34m,\u001b[0m\u001b[0;34m\u001b[0m\n\u001b[0;34m\u001b[0m    \u001b[0mretstep\u001b[0m\u001b[0;34m=\u001b[0m\u001b[0;32mFalse\u001b[0m\u001b[0;34m,\u001b[0m\u001b[0;34m\u001b[0m\n\u001b[0;34m\u001b[0m    \u001b[0mdtype\u001b[0m\u001b[0;34m=\u001b[0m\u001b[0;32mNone\u001b[0m\u001b[0;34m,\u001b[0m\u001b[0;34m\u001b[0m\n\u001b[0;34m\u001b[0m    \u001b[0maxis\u001b[0m\u001b[0;34m=\u001b[0m\u001b[0;36m0\u001b[0m\u001b[0;34m,\u001b[0m\u001b[0;34m\u001b[0m\n\u001b[0;34m\u001b[0m\u001b[0;34m)\u001b[0m\u001b[0;34m\u001b[0m\u001b[0;34m\u001b[0m\u001b[0m\n\u001b[0;31mSource:\u001b[0m   \n\u001b[0;34m@\u001b[0m\u001b[0marray_function_dispatch\u001b[0m\u001b[0;34m(\u001b[0m\u001b[0m_linspace_dispatcher\u001b[0m\u001b[0;34m)\u001b[0m\u001b[0;34m\u001b[0m\n\u001b[0;34m\u001b[0m\u001b[0;32mdef\u001b[0m \u001b[0mlinspace\u001b[0m\u001b[0;34m(\u001b[0m\u001b[0mstart\u001b[0m\u001b[0;34m,\u001b[0m \u001b[0mstop\u001b[0m\u001b[0;34m,\u001b[0m \u001b[0mnum\u001b[0m\u001b[0;34m=\u001b[0m\u001b[0;36m50\u001b[0m\u001b[0;34m,\u001b[0m \u001b[0mendpoint\u001b[0m\u001b[0;34m=\u001b[0m\u001b[0;32mTrue\u001b[0m\u001b[0;34m,\u001b[0m \u001b[0mretstep\u001b[0m\u001b[0;34m=\u001b[0m\u001b[0;32mFalse\u001b[0m\u001b[0;34m,\u001b[0m \u001b[0mdtype\u001b[0m\u001b[0;34m=\u001b[0m\u001b[0;32mNone\u001b[0m\u001b[0;34m,\u001b[0m\u001b[0;34m\u001b[0m\n\u001b[0;34m\u001b[0m             \u001b[0maxis\u001b[0m\u001b[0;34m=\u001b[0m\u001b[0;36m0\u001b[0m\u001b[0;34m)\u001b[0m\u001b[0;34m:\u001b[0m\u001b[0;34m\u001b[0m\n\u001b[0;34m\u001b[0m    \u001b[0;34m\"\"\"\u001b[0m\n\u001b[0;34m    Return evenly spaced numbers over a specified interval.\u001b[0m\n\u001b[0;34m\u001b[0m\n\u001b[0;34m    Returns `num` evenly spaced samples, calculated over the\u001b[0m\n\u001b[0;34m    interval [`start`, `stop`].\u001b[0m\n\u001b[0;34m\u001b[0m\n\u001b[0;34m    The endpoint of the interval can optionally be excluded.\u001b[0m\n\u001b[0;34m\u001b[0m\n\u001b[0;34m    .. versionchanged:: 1.16.0\u001b[0m\n\u001b[0;34m        Non-scalar `start` and `stop` are now supported.\u001b[0m\n\u001b[0;34m\u001b[0m\n\u001b[0;34m    Parameters\u001b[0m\n\u001b[0;34m    ----------\u001b[0m\n\u001b[0;34m    start : array_like\u001b[0m\n\u001b[0;34m        The starting value of the sequence.\u001b[0m\n\u001b[0;34m    stop : array_like\u001b[0m\n\u001b[0;34m        The end value of the sequence, unless `endpoint` is set to False.\u001b[0m\n\u001b[0;34m        In that case, the sequence consists of all but the last of ``num + 1``\u001b[0m\n\u001b[0;34m        evenly spaced samples, so that `stop` is excluded.  Note that the step\u001b[0m\n\u001b[0;34m        size changes when `endpoint` is False.\u001b[0m\n\u001b[0;34m    num : int, optional\u001b[0m\n\u001b[0;34m        Number of samples to generate. Default is 50. Must be non-negative.\u001b[0m\n\u001b[0;34m    endpoint : bool, optional\u001b[0m\n\u001b[0;34m        If True, `stop` is the last sample. Otherwise, it is not included.\u001b[0m\n\u001b[0;34m        Default is True.\u001b[0m\n\u001b[0;34m    retstep : bool, optional\u001b[0m\n\u001b[0;34m        If True, return (`samples`, `step`), where `step` is the spacing\u001b[0m\n\u001b[0;34m        between samples.\u001b[0m\n\u001b[0;34m    dtype : dtype, optional\u001b[0m\n\u001b[0;34m        The type of the output array.  If `dtype` is not given, infer the data\u001b[0m\n\u001b[0;34m        type from the other input arguments.\u001b[0m\n\u001b[0;34m\u001b[0m\n\u001b[0;34m        .. versionadded:: 1.9.0\u001b[0m\n\u001b[0;34m\u001b[0m\n\u001b[0;34m    axis : int, optional\u001b[0m\n\u001b[0;34m        The axis in the result to store the samples.  Relevant only if start\u001b[0m\n\u001b[0;34m        or stop are array-like.  By default (0), the samples will be along a\u001b[0m\n\u001b[0;34m        new axis inserted at the beginning. Use -1 to get an axis at the end.\u001b[0m\n\u001b[0;34m\u001b[0m\n\u001b[0;34m        .. versionadded:: 1.16.0\u001b[0m\n\u001b[0;34m\u001b[0m\n\u001b[0;34m    Returns\u001b[0m\n\u001b[0;34m    -------\u001b[0m\n\u001b[0;34m    samples : ndarray\u001b[0m\n\u001b[0;34m        There are `num` equally spaced samples in the closed interval\u001b[0m\n\u001b[0;34m        ``[start, stop]`` or the half-open interval ``[start, stop)``\u001b[0m\n\u001b[0;34m        (depending on whether `endpoint` is True or False).\u001b[0m\n\u001b[0;34m    step : float, optional\u001b[0m\n\u001b[0;34m        Only returned if `retstep` is True\u001b[0m\n\u001b[0;34m\u001b[0m\n\u001b[0;34m        Size of spacing between samples.\u001b[0m\n\u001b[0;34m\u001b[0m\n\u001b[0;34m\u001b[0m\n\u001b[0;34m    See Also\u001b[0m\n\u001b[0;34m    --------\u001b[0m\n\u001b[0;34m    arange : Similar to `linspace`, but uses a step size (instead of the\u001b[0m\n\u001b[0;34m             number of samples).\u001b[0m\n\u001b[0;34m    geomspace : Similar to `linspace`, but with numbers spaced evenly on a log\u001b[0m\n\u001b[0;34m                scale (a geometric progression).\u001b[0m\n\u001b[0;34m    logspace : Similar to `geomspace`, but with the end points specified as\u001b[0m\n\u001b[0;34m               logarithms.\u001b[0m\n\u001b[0;34m\u001b[0m\n\u001b[0;34m    Examples\u001b[0m\n\u001b[0;34m    --------\u001b[0m\n\u001b[0;34m    >>> np.linspace(2.0, 3.0, num=5)\u001b[0m\n\u001b[0;34m    array([2.  , 2.25, 2.5 , 2.75, 3.  ])\u001b[0m\n\u001b[0;34m    >>> np.linspace(2.0, 3.0, num=5, endpoint=False)\u001b[0m\n\u001b[0;34m    array([2. ,  2.2,  2.4,  2.6,  2.8])\u001b[0m\n\u001b[0;34m    >>> np.linspace(2.0, 3.0, num=5, retstep=True)\u001b[0m\n\u001b[0;34m    (array([2.  ,  2.25,  2.5 ,  2.75,  3.  ]), 0.25)\u001b[0m\n\u001b[0;34m\u001b[0m\n\u001b[0;34m    Graphical illustration:\u001b[0m\n\u001b[0;34m\u001b[0m\n\u001b[0;34m    >>> import matplotlib.pyplot as plt\u001b[0m\n\u001b[0;34m    >>> N = 8\u001b[0m\n\u001b[0;34m    >>> y = np.zeros(N)\u001b[0m\n\u001b[0;34m    >>> x1 = np.linspace(0, 10, N, endpoint=True)\u001b[0m\n\u001b[0;34m    >>> x2 = np.linspace(0, 10, N, endpoint=False)\u001b[0m\n\u001b[0;34m    >>> plt.plot(x1, y, 'o')\u001b[0m\n\u001b[0;34m    [<matplotlib.lines.Line2D object at 0x...>]\u001b[0m\n\u001b[0;34m    >>> plt.plot(x2, y + 0.5, 'o')\u001b[0m\n\u001b[0;34m    [<matplotlib.lines.Line2D object at 0x...>]\u001b[0m\n\u001b[0;34m    >>> plt.ylim([-0.5, 1])\u001b[0m\n\u001b[0;34m    (-0.5, 1)\u001b[0m\n\u001b[0;34m    >>> plt.show()\u001b[0m\n\u001b[0;34m\u001b[0m\n\u001b[0;34m    \"\"\"\u001b[0m\u001b[0;34m\u001b[0m\n\u001b[0;34m\u001b[0m    \u001b[0;31m# 2016-02-25, 1.12\u001b[0m\u001b[0;34m\u001b[0m\n\u001b[0;34m\u001b[0m    \u001b[0mnum\u001b[0m \u001b[0;34m=\u001b[0m \u001b[0m_index_deprecate\u001b[0m\u001b[0;34m(\u001b[0m\u001b[0mnum\u001b[0m\u001b[0;34m)\u001b[0m\u001b[0;34m\u001b[0m\n\u001b[0;34m\u001b[0m    \u001b[0;32mif\u001b[0m \u001b[0mnum\u001b[0m \u001b[0;34m<\u001b[0m \u001b[0;36m0\u001b[0m\u001b[0;34m:\u001b[0m\u001b[0;34m\u001b[0m\n\u001b[0;34m\u001b[0m        \u001b[0;32mraise\u001b[0m \u001b[0mValueError\u001b[0m\u001b[0;34m(\u001b[0m\u001b[0;34m\"Number of samples, %s, must be non-negative.\"\u001b[0m \u001b[0;34m%\u001b[0m \u001b[0mnum\u001b[0m\u001b[0;34m)\u001b[0m\u001b[0;34m\u001b[0m\n\u001b[0;34m\u001b[0m    \u001b[0mdiv\u001b[0m \u001b[0;34m=\u001b[0m \u001b[0;34m(\u001b[0m\u001b[0mnum\u001b[0m \u001b[0;34m-\u001b[0m \u001b[0;36m1\u001b[0m\u001b[0;34m)\u001b[0m \u001b[0;32mif\u001b[0m \u001b[0mendpoint\u001b[0m \u001b[0;32melse\u001b[0m \u001b[0mnum\u001b[0m\u001b[0;34m\u001b[0m\n\u001b[0;34m\u001b[0m\u001b[0;34m\u001b[0m\n\u001b[0;34m\u001b[0m    \u001b[0;31m# Convert float/complex array scalars to float, gh-3504\u001b[0m\u001b[0;34m\u001b[0m\n\u001b[0;34m\u001b[0m    \u001b[0;31m# and make sure one can use variables that have an __array_interface__, gh-6634\u001b[0m\u001b[0;34m\u001b[0m\n\u001b[0;34m\u001b[0m    \u001b[0mstart\u001b[0m \u001b[0;34m=\u001b[0m \u001b[0masanyarray\u001b[0m\u001b[0;34m(\u001b[0m\u001b[0mstart\u001b[0m\u001b[0;34m)\u001b[0m \u001b[0;34m*\u001b[0m \u001b[0;36m1.0\u001b[0m\u001b[0;34m\u001b[0m\n\u001b[0;34m\u001b[0m    \u001b[0mstop\u001b[0m  \u001b[0;34m=\u001b[0m \u001b[0masanyarray\u001b[0m\u001b[0;34m(\u001b[0m\u001b[0mstop\u001b[0m\u001b[0;34m)\u001b[0m  \u001b[0;34m*\u001b[0m \u001b[0;36m1.0\u001b[0m\u001b[0;34m\u001b[0m\n\u001b[0;34m\u001b[0m\u001b[0;34m\u001b[0m\n\u001b[0;34m\u001b[0m    \u001b[0mdt\u001b[0m \u001b[0;34m=\u001b[0m \u001b[0mresult_type\u001b[0m\u001b[0;34m(\u001b[0m\u001b[0mstart\u001b[0m\u001b[0;34m,\u001b[0m \u001b[0mstop\u001b[0m\u001b[0;34m,\u001b[0m \u001b[0mfloat\u001b[0m\u001b[0;34m(\u001b[0m\u001b[0mnum\u001b[0m\u001b[0;34m)\u001b[0m\u001b[0;34m)\u001b[0m\u001b[0;34m\u001b[0m\n\u001b[0;34m\u001b[0m    \u001b[0;32mif\u001b[0m \u001b[0mdtype\u001b[0m \u001b[0;32mis\u001b[0m \u001b[0;32mNone\u001b[0m\u001b[0;34m:\u001b[0m\u001b[0;34m\u001b[0m\n\u001b[0;34m\u001b[0m        \u001b[0mdtype\u001b[0m \u001b[0;34m=\u001b[0m \u001b[0mdt\u001b[0m\u001b[0;34m\u001b[0m\n\u001b[0;34m\u001b[0m\u001b[0;34m\u001b[0m\n\u001b[0;34m\u001b[0m    \u001b[0mdelta\u001b[0m \u001b[0;34m=\u001b[0m \u001b[0mstop\u001b[0m \u001b[0;34m-\u001b[0m \u001b[0mstart\u001b[0m\u001b[0;34m\u001b[0m\n\u001b[0;34m\u001b[0m    \u001b[0my\u001b[0m \u001b[0;34m=\u001b[0m \u001b[0m_nx\u001b[0m\u001b[0;34m.\u001b[0m\u001b[0marange\u001b[0m\u001b[0;34m(\u001b[0m\u001b[0;36m0\u001b[0m\u001b[0;34m,\u001b[0m \u001b[0mnum\u001b[0m\u001b[0;34m,\u001b[0m \u001b[0mdtype\u001b[0m\u001b[0;34m=\u001b[0m\u001b[0mdt\u001b[0m\u001b[0;34m)\u001b[0m\u001b[0;34m.\u001b[0m\u001b[0mreshape\u001b[0m\u001b[0;34m(\u001b[0m\u001b[0;34m(\u001b[0m\u001b[0;34m-\u001b[0m\u001b[0;36m1\u001b[0m\u001b[0;34m,\u001b[0m\u001b[0;34m)\u001b[0m \u001b[0;34m+\u001b[0m \u001b[0;34m(\u001b[0m\u001b[0;36m1\u001b[0m\u001b[0;34m,\u001b[0m\u001b[0;34m)\u001b[0m \u001b[0;34m*\u001b[0m \u001b[0mndim\u001b[0m\u001b[0;34m(\u001b[0m\u001b[0mdelta\u001b[0m\u001b[0;34m)\u001b[0m\u001b[0;34m)\u001b[0m\u001b[0;34m\u001b[0m\n\u001b[0;34m\u001b[0m    \u001b[0;31m# In-place multiplication y *= delta/div is faster, but prevents the multiplicant\u001b[0m\u001b[0;34m\u001b[0m\n\u001b[0;34m\u001b[0m    \u001b[0;31m# from overriding what class is produced, and thus prevents, e.g. use of Quantities,\u001b[0m\u001b[0;34m\u001b[0m\n\u001b[0;34m\u001b[0m    \u001b[0;31m# see gh-7142. Hence, we multiply in place only for standard scalar types.\u001b[0m\u001b[0;34m\u001b[0m\n\u001b[0;34m\u001b[0m    \u001b[0m_mult_inplace\u001b[0m \u001b[0;34m=\u001b[0m \u001b[0m_nx\u001b[0m\u001b[0;34m.\u001b[0m\u001b[0misscalar\u001b[0m\u001b[0;34m(\u001b[0m\u001b[0mdelta\u001b[0m\u001b[0;34m)\u001b[0m\u001b[0;34m\u001b[0m\n\u001b[0;34m\u001b[0m    \u001b[0;32mif\u001b[0m \u001b[0mnum\u001b[0m \u001b[0;34m>\u001b[0m \u001b[0;36m1\u001b[0m\u001b[0;34m:\u001b[0m\u001b[0;34m\u001b[0m\n\u001b[0;34m\u001b[0m        \u001b[0mstep\u001b[0m \u001b[0;34m=\u001b[0m \u001b[0mdelta\u001b[0m \u001b[0;34m/\u001b[0m \u001b[0mdiv\u001b[0m\u001b[0;34m\u001b[0m\n\u001b[0;34m\u001b[0m        \u001b[0;32mif\u001b[0m \u001b[0m_nx\u001b[0m\u001b[0;34m.\u001b[0m\u001b[0many\u001b[0m\u001b[0;34m(\u001b[0m\u001b[0mstep\u001b[0m \u001b[0;34m==\u001b[0m \u001b[0;36m0\u001b[0m\u001b[0;34m)\u001b[0m\u001b[0;34m:\u001b[0m\u001b[0;34m\u001b[0m\n\u001b[0;34m\u001b[0m            \u001b[0;31m# Special handling for denormal numbers, gh-5437\u001b[0m\u001b[0;34m\u001b[0m\n\u001b[0;34m\u001b[0m            \u001b[0my\u001b[0m \u001b[0;34m/=\u001b[0m \u001b[0mdiv\u001b[0m\u001b[0;34m\u001b[0m\n\u001b[0;34m\u001b[0m            \u001b[0;32mif\u001b[0m \u001b[0m_mult_inplace\u001b[0m\u001b[0;34m:\u001b[0m\u001b[0;34m\u001b[0m\n\u001b[0;34m\u001b[0m                \u001b[0my\u001b[0m \u001b[0;34m*=\u001b[0m \u001b[0mdelta\u001b[0m\u001b[0;34m\u001b[0m\n\u001b[0;34m\u001b[0m            \u001b[0;32melse\u001b[0m\u001b[0;34m:\u001b[0m\u001b[0;34m\u001b[0m\n\u001b[0;34m\u001b[0m                \u001b[0my\u001b[0m \u001b[0;34m=\u001b[0m \u001b[0my\u001b[0m \u001b[0;34m*\u001b[0m \u001b[0mdelta\u001b[0m\u001b[0;34m\u001b[0m\n\u001b[0;34m\u001b[0m        \u001b[0;32melse\u001b[0m\u001b[0;34m:\u001b[0m\u001b[0;34m\u001b[0m\n\u001b[0;34m\u001b[0m            \u001b[0;32mif\u001b[0m \u001b[0m_mult_inplace\u001b[0m\u001b[0;34m:\u001b[0m\u001b[0;34m\u001b[0m\n\u001b[0;34m\u001b[0m                \u001b[0my\u001b[0m \u001b[0;34m*=\u001b[0m \u001b[0mstep\u001b[0m\u001b[0;34m\u001b[0m\n\u001b[0;34m\u001b[0m            \u001b[0;32melse\u001b[0m\u001b[0;34m:\u001b[0m\u001b[0;34m\u001b[0m\n\u001b[0;34m\u001b[0m                \u001b[0my\u001b[0m \u001b[0;34m=\u001b[0m \u001b[0my\u001b[0m \u001b[0;34m*\u001b[0m \u001b[0mstep\u001b[0m\u001b[0;34m\u001b[0m\n\u001b[0;34m\u001b[0m    \u001b[0;32melse\u001b[0m\u001b[0;34m:\u001b[0m\u001b[0;34m\u001b[0m\n\u001b[0;34m\u001b[0m        \u001b[0;31m# 0 and 1 item long sequences have an undefined step\u001b[0m\u001b[0;34m\u001b[0m\n\u001b[0;34m\u001b[0m        \u001b[0mstep\u001b[0m \u001b[0;34m=\u001b[0m \u001b[0mNaN\u001b[0m\u001b[0;34m\u001b[0m\n\u001b[0;34m\u001b[0m        \u001b[0;31m# Multiply with delta to allow possible override of output class.\u001b[0m\u001b[0;34m\u001b[0m\n\u001b[0;34m\u001b[0m        \u001b[0my\u001b[0m \u001b[0;34m=\u001b[0m \u001b[0my\u001b[0m \u001b[0;34m*\u001b[0m \u001b[0mdelta\u001b[0m\u001b[0;34m\u001b[0m\n\u001b[0;34m\u001b[0m\u001b[0;34m\u001b[0m\n\u001b[0;34m\u001b[0m    \u001b[0my\u001b[0m \u001b[0;34m+=\u001b[0m \u001b[0mstart\u001b[0m\u001b[0;34m\u001b[0m\n\u001b[0;34m\u001b[0m\u001b[0;34m\u001b[0m\n\u001b[0;34m\u001b[0m    \u001b[0;32mif\u001b[0m \u001b[0mendpoint\u001b[0m \u001b[0;32mand\u001b[0m \u001b[0mnum\u001b[0m \u001b[0;34m>\u001b[0m \u001b[0;36m1\u001b[0m\u001b[0;34m:\u001b[0m\u001b[0;34m\u001b[0m\n\u001b[0;34m\u001b[0m        \u001b[0my\u001b[0m\u001b[0;34m[\u001b[0m\u001b[0;34m-\u001b[0m\u001b[0;36m1\u001b[0m\u001b[0;34m]\u001b[0m \u001b[0;34m=\u001b[0m \u001b[0mstop\u001b[0m\u001b[0;34m\u001b[0m\n\u001b[0;34m\u001b[0m\u001b[0;34m\u001b[0m\n\u001b[0;34m\u001b[0m    \u001b[0;32mif\u001b[0m \u001b[0maxis\u001b[0m \u001b[0;34m!=\u001b[0m \u001b[0;36m0\u001b[0m\u001b[0;34m:\u001b[0m\u001b[0;34m\u001b[0m\n\u001b[0;34m\u001b[0m        \u001b[0my\u001b[0m \u001b[0;34m=\u001b[0m \u001b[0m_nx\u001b[0m\u001b[0;34m.\u001b[0m\u001b[0mmoveaxis\u001b[0m\u001b[0;34m(\u001b[0m\u001b[0my\u001b[0m\u001b[0;34m,\u001b[0m \u001b[0;36m0\u001b[0m\u001b[0;34m,\u001b[0m \u001b[0maxis\u001b[0m\u001b[0;34m)\u001b[0m\u001b[0;34m\u001b[0m\n\u001b[0;34m\u001b[0m\u001b[0;34m\u001b[0m\n\u001b[0;34m\u001b[0m    \u001b[0;32mif\u001b[0m \u001b[0mretstep\u001b[0m\u001b[0;34m:\u001b[0m\u001b[0;34m\u001b[0m\n\u001b[0;34m\u001b[0m        \u001b[0;32mreturn\u001b[0m \u001b[0my\u001b[0m\u001b[0;34m.\u001b[0m\u001b[0mastype\u001b[0m\u001b[0;34m(\u001b[0m\u001b[0mdtype\u001b[0m\u001b[0;34m,\u001b[0m \u001b[0mcopy\u001b[0m\u001b[0;34m=\u001b[0m\u001b[0;32mFalse\u001b[0m\u001b[0;34m)\u001b[0m\u001b[0;34m,\u001b[0m \u001b[0mstep\u001b[0m\u001b[0;34m\u001b[0m\n\u001b[0;34m\u001b[0m    \u001b[0;32melse\u001b[0m\u001b[0;34m:\u001b[0m\u001b[0;34m\u001b[0m\n\u001b[0;34m\u001b[0m        \u001b[0;32mreturn\u001b[0m \u001b[0my\u001b[0m\u001b[0;34m.\u001b[0m\u001b[0mastype\u001b[0m\u001b[0;34m(\u001b[0m\u001b[0mdtype\u001b[0m\u001b[0;34m,\u001b[0m \u001b[0mcopy\u001b[0m\u001b[0;34m=\u001b[0m\u001b[0;32mFalse\u001b[0m\u001b[0;34m)\u001b[0m\u001b[0;34m\u001b[0m\u001b[0;34m\u001b[0m\u001b[0m\n\u001b[0;31mFile:\u001b[0m      ~/miniconda3/envs/dspy3/lib/python3.6/site-packages/numpy/core/function_base.py\n\u001b[0;31mType:\u001b[0m      function\n"
       },
       "metadata": {},
       "output_type": "display_data"
      }
     ],
     "persistentId": "b709800a-b4d9-40e0-b810-b53d5be31737",
     "text": "np.linspace??"
    },
    "executionTime": "2019-09-12T03:06:15.578Z"
   },
   {
    "cell": {
     "executionCount": 19,
     "executionEventId": "2ad0dfca-8911-4fe9-9e8f-446214c0e5d7",
     "hasError": false,
     "id": "0125bc7b-cc33-494b-8408-31dc67189b90",
     "outputs": [
      {
       "name": "stdout",
       "output_type": "stream",
       "text": "\nThis is a multi-lined string\nthat I want to write inside of a function.\nNotice what happens when I print this.\n    And when something is indented more.\n"
      }
     ],
     "persistentId": "2dd939f9-4894-4c97-99ee-842a9cf63707",
     "text": "import textwrap\ndef example_function():\n    \"\"\"Docstring for example function\"\"\"\n    \n    print(textwrap.dedent(\"\"\"\n    This is a multi-lined string\n    that I want to write inside of a function.\n    Notice what happens when I print this.\n        And when something is indented more.\"\"\"))\n\n\nexample_function()"
    },
    "executionTime": "2019-09-12T03:06:22.645Z"
   },
   {
    "cell": {
     "executionCount": 20,
     "executionEventId": "43c59478-bf18-499c-9923-6642a04f74b9",
     "hasError": false,
     "id": "92cf85c9-3244-462b-80f3-6ec2b70e6d6d",
     "outputs": [],
     "persistentId": "ea55279f-0c0e-4a87-8099-35951a5c64d2",
     "text": "# But first find and replace\ndef silly_function(xval):\n    \"\"\"Takes a value and returns the value.\"\"\"\n    xval_sq = xval ** 2.0\n    1 + 12\n    xval_abs = np.sqrt(xval_sq)\n    return xval_abs"
    },
    "executionTime": "2019-09-12T03:06:28.757Z"
   },
   {
    "cell": {
     "executionCount": 21,
     "executionEventId": "e17af4c5-1986-41ac-98a6-041086dda59a",
     "hasError": false,
     "id": "5cbdfdb3-89e0-4a1e-a795-a33d5e227fc3",
     "outputs": [
      {
       "data": {
        "text/plain": "2.0"
       },
       "execution_count": 21,
       "metadata": {},
       "output_type": "execute_result"
      }
     ],
     "persistentId": "fb0fa1f1-51d4-48b0-8656-a2372ac6bba8",
     "text": "silly_function(-2,)"
    },
    "executionTime": "2019-09-12T03:06:29.078Z"
   },
   {
    "cell": {
     "executionCount": 22,
     "executionEventId": "7b09e834-f580-40cd-bba5-6a7bb3d9b277",
     "hasError": false,
     "id": "e15bc5dd-f912-4653-bd70-a26a376d777f",
     "outputs": [
      {
       "data": {
        "text/plain": "\u001b[0;31mSignature:\u001b[0m \u001b[0msilly_function\u001b[0m\u001b[0;34m(\u001b[0m\u001b[0mxval\u001b[0m\u001b[0;34m)\u001b[0m\u001b[0;34m\u001b[0m\u001b[0;34m\u001b[0m\u001b[0m\n\u001b[0;31mDocstring:\u001b[0m Takes a value and returns the value.\n\u001b[0;31mFile:\u001b[0m      ~/github/jupyter-tips-and-tricks/notebooks/<ipython-input-20-81d11fb09452>\n\u001b[0;31mType:\u001b[0m      function\n"
       },
       "metadata": {},
       "output_type": "display_data"
      }
     ],
     "persistentId": "684f8136-a102-4fca-9a38-f2bd1d7f0659",
     "text": "silly_function?"
    },
    "executionTime": "2019-09-12T03:06:29.588Z"
   },
   {
    "cell": {
     "executionCount": 23,
     "executionEventId": "e4205668-f142-477e-9d98-cd8c8c3c2fa7",
     "hasError": false,
     "id": "20d514ef-50bf-4898-b818-2dcaa83edf61",
     "outputs": [
      {
       "data": {
        "text/plain": "\u001b[0;31mSignature:\u001b[0m \u001b[0msilly_function\u001b[0m\u001b[0;34m(\u001b[0m\u001b[0mxval\u001b[0m\u001b[0;34m)\u001b[0m\u001b[0;34m\u001b[0m\u001b[0;34m\u001b[0m\u001b[0m\n\u001b[0;31mSource:\u001b[0m   \n\u001b[0;32mdef\u001b[0m \u001b[0msilly_function\u001b[0m\u001b[0;34m(\u001b[0m\u001b[0mxval\u001b[0m\u001b[0;34m)\u001b[0m\u001b[0;34m:\u001b[0m\u001b[0;34m\u001b[0m\n\u001b[0;34m\u001b[0m    \u001b[0;34m\"\"\"Takes a value and returns the value.\"\"\"\u001b[0m\u001b[0;34m\u001b[0m\n\u001b[0;34m\u001b[0m    \u001b[0mxval_sq\u001b[0m \u001b[0;34m=\u001b[0m \u001b[0mxval\u001b[0m \u001b[0;34m**\u001b[0m \u001b[0;36m2.0\u001b[0m\u001b[0;34m\u001b[0m\n\u001b[0;34m\u001b[0m    \u001b[0;36m1\u001b[0m \u001b[0;34m+\u001b[0m \u001b[0;36m12\u001b[0m\u001b[0;34m\u001b[0m\n\u001b[0;34m\u001b[0m    \u001b[0mxval_abs\u001b[0m \u001b[0;34m=\u001b[0m \u001b[0mnp\u001b[0m\u001b[0;34m.\u001b[0m\u001b[0msqrt\u001b[0m\u001b[0;34m(\u001b[0m\u001b[0mxval_sq\u001b[0m\u001b[0;34m)\u001b[0m\u001b[0;34m\u001b[0m\n\u001b[0;34m\u001b[0m    \u001b[0;32mreturn\u001b[0m \u001b[0mxval_abs\u001b[0m\u001b[0;34m\u001b[0m\u001b[0;34m\u001b[0m\u001b[0m\n\u001b[0;31mFile:\u001b[0m      ~/github/jupyter-tips-and-tricks/notebooks/<ipython-input-20-81d11fb09452>\n\u001b[0;31mType:\u001b[0m      function\n"
       },
       "metadata": {},
       "output_type": "display_data"
      }
     ],
     "persistentId": "4671b66f-3676-475d-968c-07701c20c24e",
     "text": "silly_function??"
    },
    "executionTime": "2019-09-12T03:06:30.760Z"
   },
   {
    "cell": {
     "executionCount": 24,
     "executionEventId": "0b812da3-692d-406a-a1d4-5b1bcd1b5ae9",
     "hasError": false,
     "id": "63a77188-29fa-4916-86ff-171656743160",
     "outputs": [
      {
       "name": "stdout",
       "output_type": "stream",
       "text": "coal_prod_2008.csv           collincountyforeclosures.csv\ncoal_prod_2009.csv           example.csv\ncoal_prod_2010.csv           montreal_2014.csv\ncoal_prod_2011.csv           mps.csv\ncoal_prod_2012.csv           mps2.csv\ncoal_prod_cleaned.csv        nbextensions.png\ncoal_prod_cleaned.csv.zip    raw_players.csv.gz\ncoalpublic2012.xls\n"
      }
     ],
     "persistentId": "9ab43ff0-98a4-44da-94d1-89d86ee0a180",
     "text": "!ls ../data/"
    },
    "executionTime": "2019-09-12T03:06:32.901Z"
   },
   {
    "cell": {
     "executionCount": 25,
     "executionEventId": "039a4e83-59ae-4533-b496-3cdd0f09f365",
     "hasError": false,
     "id": "c1df9b19-0a82-4be4-bfb6-d9a7822edd53",
     "outputs": [],
     "persistentId": "efeed389-27ed-4c67-ac6b-ef863892abc1",
     "text": "coal_years = !ls ../data/coal_prod_20*.csv"
    },
    "executionTime": "2019-09-12T03:06:33.588Z"
   },
   {
    "cell": {
     "executionCount": 26,
     "executionEventId": "faadaf37-72da-4341-b252-9ab792df1bab",
     "hasError": false,
     "id": "046e7f6b-d616-46f7-a811-ec709812dced",
     "outputs": [
      {
       "data": {
        "text/plain": "['../data/coal_prod_2008.csv',\n '../data/coal_prod_2009.csv',\n '../data/coal_prod_2010.csv',\n '../data/coal_prod_2011.csv',\n '../data/coal_prod_2012.csv']"
       },
       "execution_count": 26,
       "metadata": {},
       "output_type": "execute_result"
      }
     ],
     "persistentId": "acd2b234-7821-4ff7-ae3a-817f57e65f5b",
     "text": "coal_years"
    },
    "executionTime": "2019-09-12T03:06:33.997Z"
   },
   {
    "cell": {
     "executionCount": 27,
     "executionEventId": "96bd912b-54d6-4bf4-bc4d-fecfa1011ed4",
     "hasError": false,
     "id": "b62be2df-6880-4ed0-9a8d-351407136110",
     "outputs": [],
     "persistentId": "dc226ce8-66ec-4547-8399-86df1ee7474d",
     "text": "example = {}\n\n# Indent/dedent/comment\nfor index in range(5):\n    example[\"float_one\"] = 1.0\n    example[\"float_two\"] = 2.0\n    example[\"float_three\"] = 3.0\n    example[\"float_four\"] = 4.0"
    },
    "executionTime": "2019-09-12T03:06:40.298Z"
   },
   {
    "cell": {
     "executionCount": 28,
     "executionEventId": "741f141f-a59f-4e70-864f-396573c14beb",
     "hasError": false,
     "id": "b62be2df-6880-4ed0-9a8d-351407136110",
     "outputs": [],
     "persistentId": "dc226ce8-66ec-4547-8399-86df1ee7474d",
     "text": "example = {}\n\n# Indent/dedent/comment\nfor index in range(5):\n    example[\"float_one\"] = 1\n    example[\"float_two\"] = 2\n    example[\"float_three\"] = 3\n    example[\"float_four\"] = 4"
    },
    "executionTime": "2019-09-12T03:06:54.179Z"
   },
   {
    "cell": {
     "executionCount": 1,
     "executionEventId": "da40e88c-c381-4385-af30-c84632041c38",
     "hasError": false,
     "id": "9ad32d68-7380-492f-8abd-4a6794bcb1a4",
     "outputs": [],
     "persistentId": "5e98591e-08d0-4812-ba61-d0ecc428c08d",
     "text": "# code cell\nname = \"Jonathan\""
    },
    "executionTime": "2019-09-12T18:20:49.002Z"
   },
   {
    "cell": {
     "executionCount": 2,
     "executionEventId": "2dfb835f-8c09-426a-a16a-3a064bca29df",
     "hasError": false,
     "id": "61fc8ab8-8a60-432a-a6ff-e72bbc5b3767",
     "outputs": [],
     "persistentId": "8fa080b3-f270-4d06-9fdc-ddd37ad35295",
     "text": "# Add this to python2 code to make life easier -- safe to use in python3 as well.\nfrom __future__ import absolute_import, division, print_function"
    },
    "executionTime": "2019-09-12T18:20:49.862Z"
   },
   {
    "cell": {
     "executionCount": 3,
     "executionEventId": "731c6f17-e1da-446a-8625-48f6d8e08fd3",
     "hasError": false,
     "id": "f88b2e6d-9e26-4481-8692-3b5ad686e5d4",
     "outputs": [],
     "persistentId": "03635f66-daaa-47cf-bb74-883e8ce82c00",
     "text": "import numpy as np\n\n# don't do:\n# from numpy import *"
    },
    "executionTime": "2019-09-12T18:20:50.543Z"
   },
   {
    "cell": {
     "executionCount": 4,
     "executionEventId": "ac247735-10c8-4d46-9d01-2192e3851721",
     "hasError": false,
     "id": "79b44ade-2506-41ab-a916-f6e608306f56",
     "outputs": [
      {
       "data": {
        "text/plain": "'a'"
       },
       "execution_count": 4,
       "metadata": {},
       "output_type": "execute_result"
      }
     ],
     "persistentId": "e41e09ce-28e8-437f-9e9e-676775bc5fce",
     "text": "max(\"a\")"
    },
    "executionTime": "2019-09-12T18:20:50.782Z"
   },
   {
    "cell": {
     "executionCount": 5,
     "executionEventId": "fb4ba64a-95b2-4c40-a428-3b7f96627732",
     "hasError": true,
     "id": "3996fe4b-8e79-4737-af13-694dd0f99535",
     "outputs": [
      {
       "ename": "TypeError",
       "evalue": "cannot perform reduce with flexible type",
       "output_type": "error",
       "traceback": [
        "\u001b[0;31m---------------------------------------------------------------------------\u001b[0m",
        "\u001b[0;31mTypeError\u001b[0m                                 Traceback (most recent call last)",
        "\u001b[0;32m<ipython-input-5-4005723e4b17>\u001b[0m in \u001b[0;36m<module>\u001b[0;34m\u001b[0m\n\u001b[0;32m----> 1\u001b[0;31m \u001b[0mnp\u001b[0m\u001b[0;34m.\u001b[0m\u001b[0mmax\u001b[0m\u001b[0;34m(\u001b[0m\u001b[0;34m\"a\"\u001b[0m\u001b[0;34m)\u001b[0m\u001b[0;34m\u001b[0m\u001b[0;34m\u001b[0m\u001b[0m\n\u001b[0m",
        "\u001b[0;32m<__array_function__ internals>\u001b[0m in \u001b[0;36mamax\u001b[0;34m(*args, **kwargs)\u001b[0m\n",
        "\u001b[0;32m~/miniconda3/envs/dspy3/lib/python3.6/site-packages/numpy/core/fromnumeric.py\u001b[0m in \u001b[0;36mamax\u001b[0;34m(a, axis, out, keepdims, initial, where)\u001b[0m\n\u001b[1;32m   2619\u001b[0m     \"\"\"\n\u001b[1;32m   2620\u001b[0m     return _wrapreduction(a, np.maximum, 'max', axis, None, out,\n\u001b[0;32m-> 2621\u001b[0;31m                           keepdims=keepdims, initial=initial, where=where)\n\u001b[0m\u001b[1;32m   2622\u001b[0m \u001b[0;34m\u001b[0m\u001b[0m\n\u001b[1;32m   2623\u001b[0m \u001b[0;34m\u001b[0m\u001b[0m\n",
        "\u001b[0;32m~/miniconda3/envs/dspy3/lib/python3.6/site-packages/numpy/core/fromnumeric.py\u001b[0m in \u001b[0;36m_wrapreduction\u001b[0;34m(obj, ufunc, method, axis, dtype, out, **kwargs)\u001b[0m\n\u001b[1;32m     88\u001b[0m                 \u001b[0;32mreturn\u001b[0m \u001b[0mreduction\u001b[0m\u001b[0;34m(\u001b[0m\u001b[0maxis\u001b[0m\u001b[0;34m=\u001b[0m\u001b[0maxis\u001b[0m\u001b[0;34m,\u001b[0m \u001b[0mout\u001b[0m\u001b[0;34m=\u001b[0m\u001b[0mout\u001b[0m\u001b[0;34m,\u001b[0m \u001b[0;34m**\u001b[0m\u001b[0mpasskwargs\u001b[0m\u001b[0;34m)\u001b[0m\u001b[0;34m\u001b[0m\u001b[0;34m\u001b[0m\u001b[0m\n\u001b[1;32m     89\u001b[0m \u001b[0;34m\u001b[0m\u001b[0m\n\u001b[0;32m---> 90\u001b[0;31m     \u001b[0;32mreturn\u001b[0m \u001b[0mufunc\u001b[0m\u001b[0;34m.\u001b[0m\u001b[0mreduce\u001b[0m\u001b[0;34m(\u001b[0m\u001b[0mobj\u001b[0m\u001b[0;34m,\u001b[0m \u001b[0maxis\u001b[0m\u001b[0;34m,\u001b[0m \u001b[0mdtype\u001b[0m\u001b[0;34m,\u001b[0m \u001b[0mout\u001b[0m\u001b[0;34m,\u001b[0m \u001b[0;34m**\u001b[0m\u001b[0mpasskwargs\u001b[0m\u001b[0;34m)\u001b[0m\u001b[0;34m\u001b[0m\u001b[0;34m\u001b[0m\u001b[0m\n\u001b[0m\u001b[1;32m     91\u001b[0m \u001b[0;34m\u001b[0m\u001b[0m\n\u001b[1;32m     92\u001b[0m \u001b[0;34m\u001b[0m\u001b[0m\n",
        "\u001b[0;31mTypeError\u001b[0m: cannot perform reduce with flexible type"
       ]
      }
     ],
     "persistentId": "9939f76b-a6b5-413b-80e7-8595aab7f804",
     "text": "np.max(\"a\")"
    },
    "executionTime": "2019-09-12T18:20:51.332Z"
   },
   {
    "cell": {
     "executionCount": 6,
     "executionEventId": "c4df82b2-6518-4be6-b2ce-ae88d84cafd4",
     "hasError": false,
     "id": "67ec0185-8de1-42c1-bfaa-ee63b74d1fc2",
     "outputs": [],
     "persistentId": "23f17423-b7db-427a-9453-8e1a5b0215ea",
     "text": "%matplotlib inline\n%config InlineBackend.figure_format='retina'"
    },
    "executionTime": "2019-09-12T18:20:52.035Z"
   },
   {
    "cell": {
     "executionCount": 7,
     "executionEventId": "69afd7e0-f584-471f-b42f-1955579db6e4",
     "hasError": false,
     "id": "fcd91f32-3a35-476b-ba18-077c4cf284fd",
     "outputs": [],
     "persistentId": "d595746b-e2e3-4f7c-baa3-417fb0512be5",
     "text": "import pandas as pd\nimport matplotlib.pyplot as plt\nimport seaborn as sns\nimport os\nfrom pivottablejs import pivot_ui\nimport sys\nimport warnings\n\nwarnings.filterwarnings(\"ignore\")"
    },
    "executionTime": "2019-09-12T18:20:53.913Z"
   },
   {
    "cell": {
     "executionCount": 8,
     "executionEventId": "7e570bd2-7e37-41aa-8329-1a8d2b22327a",
     "hasError": false,
     "id": "c7d2ba74-0d08-4629-898e-b1bbaf5e85fd",
     "outputs": [],
     "persistentId": "ea0e37d6-44e2-411f-9da8-5b9c4dba6afe",
     "text": "first = 1"
    },
    "executionTime": "2019-09-12T18:20:54.638Z"
   },
   {
    "cell": {
     "executionCount": 9,
     "executionEventId": "836f8c9a-d56d-430b-b172-b20ffe1b34c5",
     "hasError": false,
     "id": "e55eb548-8193-4bb1-9795-ea33c9c8cce2",
     "outputs": [],
     "persistentId": "ea0e37d6-44e2-411f-9da8-5b9c4dba6afe",
     "text": "second = 2"
    },
    "executionTime": "2019-09-12T18:20:55.298Z"
   },
   {
    "cell": {
     "executionCount": 10,
     "executionEventId": "d39473b5-902e-44c6-8369-2a203b78a87c",
     "hasError": false,
     "id": "68240569-73d2-4139-bfc9-a6b2f1e70a66",
     "outputs": [],
     "persistentId": "ea0e37d6-44e2-411f-9da8-5b9c4dba6afe",
     "text": "third = 3"
    },
    "executionTime": "2019-09-12T18:20:55.340Z"
   },
   {
    "cell": {
     "executionCount": 1,
     "executionEventId": "f1cf2f2a-c316-4c96-a831-0020c3c75e96",
     "hasError": false,
     "id": "f077bb9d-6055-4eb3-8c02-dc0054ccab86",
     "outputs": [],
     "persistentId": "5e98591e-08d0-4812-ba61-d0ecc428c08d",
     "text": "# code cell\nname = \"Jonathan\""
    },
    "executionTime": "2020-01-16T21:46:40.037Z"
   },
   {
    "cell": {
     "executionCount": 2,
     "executionEventId": "61406ccb-4f07-42c5-b1bd-7e8bea92e22d",
     "hasError": false,
     "id": "3ac840b9-cac1-45d9-8fbf-c81bfb1b9294",
     "outputs": [],
     "persistentId": "03635f66-daaa-47cf-bb74-883e8ce82c00",
     "text": "import numpy as np\n\n# don't do:\n# from numpy import *"
    },
    "executionTime": "2020-01-16T21:46:43.899Z"
   },
   {
    "cell": {
     "executionCount": 3,
     "executionEventId": "d3b05bc7-c5eb-4d44-89ad-b1084cf06c59",
     "hasError": false,
     "id": "916e4bec-a9fe-4cf7-8158-15f98053e057",
     "outputs": [
      {
       "data": {
        "text/plain": "'a'"
       },
       "execution_count": 3,
       "metadata": {},
       "output_type": "execute_result"
      }
     ],
     "persistentId": "e41e09ce-28e8-437f-9e9e-676775bc5fce",
     "text": "max(\"a\")"
    },
    "executionTime": "2020-01-16T21:46:44.016Z"
   },
   {
    "cell": {
     "executionCount": 4,
     "executionEventId": "e994e87a-1029-447e-951d-d5b7254e182c",
     "hasError": true,
     "id": "4f64fbb0-7f13-4443-a8a7-2d6726f5ec5e",
     "outputs": [
      {
       "ename": "TypeError",
       "evalue": "cannot perform reduce with flexible type",
       "output_type": "error",
       "traceback": [
        "\u001b[0;31m---------------------------------------------------------------------------\u001b[0m",
        "\u001b[0;31mTypeError\u001b[0m                                 Traceback (most recent call last)",
        "\u001b[0;32m<ipython-input-4-4005723e4b17>\u001b[0m in \u001b[0;36m<module>\u001b[0;34m\u001b[0m\n\u001b[0;32m----> 1\u001b[0;31m \u001b[0mnp\u001b[0m\u001b[0;34m.\u001b[0m\u001b[0mmax\u001b[0m\u001b[0;34m(\u001b[0m\u001b[0;34m\"a\"\u001b[0m\u001b[0;34m)\u001b[0m\u001b[0;34m\u001b[0m\u001b[0;34m\u001b[0m\u001b[0m\n\u001b[0m",
        "\u001b[0;32m<__array_function__ internals>\u001b[0m in \u001b[0;36mamax\u001b[0;34m(*args, **kwargs)\u001b[0m\n",
        "\u001b[0;32m~/miniconda3/envs/dspy3/lib/python3.6/site-packages/numpy/core/fromnumeric.py\u001b[0m in \u001b[0;36mamax\u001b[0;34m(a, axis, out, keepdims, initial, where)\u001b[0m\n\u001b[1;32m   2619\u001b[0m     \"\"\"\n\u001b[1;32m   2620\u001b[0m     return _wrapreduction(a, np.maximum, 'max', axis, None, out,\n\u001b[0;32m-> 2621\u001b[0;31m                           keepdims=keepdims, initial=initial, where=where)\n\u001b[0m\u001b[1;32m   2622\u001b[0m \u001b[0;34m\u001b[0m\u001b[0m\n\u001b[1;32m   2623\u001b[0m \u001b[0;34m\u001b[0m\u001b[0m\n",
        "\u001b[0;32m~/miniconda3/envs/dspy3/lib/python3.6/site-packages/numpy/core/fromnumeric.py\u001b[0m in \u001b[0;36m_wrapreduction\u001b[0;34m(obj, ufunc, method, axis, dtype, out, **kwargs)\u001b[0m\n\u001b[1;32m     88\u001b[0m                 \u001b[0;32mreturn\u001b[0m \u001b[0mreduction\u001b[0m\u001b[0;34m(\u001b[0m\u001b[0maxis\u001b[0m\u001b[0;34m=\u001b[0m\u001b[0maxis\u001b[0m\u001b[0;34m,\u001b[0m \u001b[0mout\u001b[0m\u001b[0;34m=\u001b[0m\u001b[0mout\u001b[0m\u001b[0;34m,\u001b[0m \u001b[0;34m**\u001b[0m\u001b[0mpasskwargs\u001b[0m\u001b[0;34m)\u001b[0m\u001b[0;34m\u001b[0m\u001b[0;34m\u001b[0m\u001b[0m\n\u001b[1;32m     89\u001b[0m \u001b[0;34m\u001b[0m\u001b[0m\n\u001b[0;32m---> 90\u001b[0;31m     \u001b[0;32mreturn\u001b[0m \u001b[0mufunc\u001b[0m\u001b[0;34m.\u001b[0m\u001b[0mreduce\u001b[0m\u001b[0;34m(\u001b[0m\u001b[0mobj\u001b[0m\u001b[0;34m,\u001b[0m \u001b[0maxis\u001b[0m\u001b[0;34m,\u001b[0m \u001b[0mdtype\u001b[0m\u001b[0;34m,\u001b[0m \u001b[0mout\u001b[0m\u001b[0;34m,\u001b[0m \u001b[0;34m**\u001b[0m\u001b[0mpasskwargs\u001b[0m\u001b[0;34m)\u001b[0m\u001b[0;34m\u001b[0m\u001b[0;34m\u001b[0m\u001b[0m\n\u001b[0m\u001b[1;32m     91\u001b[0m \u001b[0;34m\u001b[0m\u001b[0m\n\u001b[1;32m     92\u001b[0m \u001b[0;34m\u001b[0m\u001b[0m\n",
        "\u001b[0;31mTypeError\u001b[0m: cannot perform reduce with flexible type"
       ]
      }
     ],
     "persistentId": "9939f76b-a6b5-413b-80e7-8595aab7f804",
     "text": "np.max(\"a\")"
    },
    "executionTime": "2020-01-16T21:46:44.397Z"
   },
   {
    "cell": {
     "executionCount": 5,
     "executionEventId": "a53d7045-f2e0-475d-9c45-0e71b9fee6c4",
     "hasError": false,
     "id": "1e45d5d5-0424-4e6b-ba67-406b5beada0c",
     "outputs": [],
     "persistentId": "23f17423-b7db-427a-9453-8e1a5b0215ea",
     "text": "%matplotlib inline\n%config InlineBackend.figure_format='retina'\n\nimport pandas as pd\nimport matplotlib.pyplot as plt\nimport seaborn as sns\nimport os\nfrom pivottablejs import pivot_ui\nimport sys\nimport warnings\n\nwarnings.filterwarnings(\"ignore\")"
    },
    "executionTime": "2020-01-16T21:46:46.260Z"
   },
   {
    "cell": {
     "executionCount": 6,
     "executionEventId": "c2bcaaf9-c811-49ee-8d06-9e211a7dba76",
     "hasError": false,
     "id": "931d7b91-3b4d-4a57-8428-f6e622dd4ee7",
     "outputs": [],
     "persistentId": "ea0e37d6-44e2-411f-9da8-5b9c4dba6afe",
     "text": "first = 1\n\nsecond = 2\n\nthird = 3"
    },
    "executionTime": "2020-01-16T21:46:46.266Z"
   },
   {
    "cell": {
     "executionCount": 7,
     "executionEventId": "63376454-dc2d-4f31-adcc-e5e79dd20e1d",
     "hasError": false,
     "id": "72a5b8ed-ce43-4109-b3ae-bf43ded81d67",
     "outputs": [],
     "persistentId": "646cd755-8c22-4efe-9f37-4629e03fc41d",
     "text": "# df = pd.read_csv(\"../data/mps.csv\", encoding=\"ISO-8859-1\")\n# canadian_politics = pd.read_csv(\"../data/montreal_2014.csv\",)\ncanadian_politics = pd.read_csv(\"../data/mps2.csv\")"
    },
    "executionTime": "2020-01-16T21:46:47.625Z"
   },
   {
    "cell": {
     "executionCount": 8,
     "executionEventId": "e7f916dd-f987-4bdb-b158-ca7aa106c9dc",
     "hasError": false,
     "id": "0619e112-a98f-47d1-b26c-0be7e73006a8",
     "outputs": [
      {
       "data": {
        "text/html": "<div>\n<style scoped>\n    .dataframe tbody tr th:only-of-type {\n        vertical-align: middle;\n    }\n\n    .dataframe tbody tr th {\n        vertical-align: top;\n    }\n\n    .dataframe thead th {\n        text-align: right;\n    }\n</style>\n<table border=\"1\" class=\"dataframe\">\n  <thead>\n    <tr style=\"text-align: right;\">\n      <th></th>\n      <th>Name</th>\n      <th>Party</th>\n      <th>Province</th>\n      <th>Age</th>\n      <th>Gender</th>\n    </tr>\n  </thead>\n  <tbody>\n    <tr>\n      <th>0</th>\n      <td>Liu, Laurin</td>\n      <td>NDP</td>\n      <td>Quebec</td>\n      <td>22.0</td>\n      <td>Female</td>\n    </tr>\n    <tr>\n      <th>1</th>\n      <td>Mourani, Maria</td>\n      <td>Bloc Quebecois</td>\n      <td>Quebec</td>\n      <td>43.0</td>\n      <td>Female</td>\n    </tr>\n    <tr>\n      <th>2</th>\n      <td>Sellah, Djaouida</td>\n      <td>NDP</td>\n      <td>Quebec</td>\n      <td>NaN</td>\n      <td>Female</td>\n    </tr>\n    <tr>\n      <th>3</th>\n      <td>St-Denis, Lise</td>\n      <td>NDP</td>\n      <td>Quebec</td>\n      <td>72.0</td>\n      <td>Female</td>\n    </tr>\n    <tr>\n      <th>4</th>\n      <td>Fry, Hedy</td>\n      <td>Liberal</td>\n      <td>British Columbia</td>\n      <td>71.0</td>\n      <td>Female</td>\n    </tr>\n    <tr>\n      <th>5</th>\n      <td>Turmel, Nycole</td>\n      <td>NDP</td>\n      <td>Quebec</td>\n      <td>70.0</td>\n      <td>Female</td>\n    </tr>\n    <tr>\n      <th>6</th>\n      <td>Sgro, Judy</td>\n      <td>Liberal</td>\n      <td>Ontario</td>\n      <td>68.0</td>\n      <td>Female</td>\n    </tr>\n    <tr>\n      <th>7</th>\n      <td>Raynault, Francine</td>\n      <td>NDP</td>\n      <td>Quebec</td>\n      <td>67.0</td>\n      <td>Female</td>\n    </tr>\n    <tr>\n      <th>8</th>\n      <td>Davidson, Patricia</td>\n      <td>Conservative</td>\n      <td>Ontario</td>\n      <td>66.0</td>\n      <td>Female</td>\n    </tr>\n    <tr>\n      <th>9</th>\n      <td>Smith, Joy</td>\n      <td>Conservative</td>\n      <td>Manitoba</td>\n      <td>65.0</td>\n      <td>Female</td>\n    </tr>\n  </tbody>\n</table>\n</div>",
        "text/plain": "                 Name           Party          Province   Age  Gender\n0         Liu, Laurin             NDP            Quebec  22.0  Female\n1      Mourani, Maria  Bloc Quebecois            Quebec  43.0  Female\n2    Sellah, Djaouida             NDP            Quebec   NaN  Female\n3      St-Denis, Lise             NDP            Quebec  72.0  Female\n4           Fry, Hedy         Liberal  British Columbia  71.0  Female\n5      Turmel, Nycole             NDP            Quebec  70.0  Female\n6          Sgro, Judy         Liberal           Ontario  68.0  Female\n7  Raynault, Francine             NDP            Quebec  67.0  Female\n8  Davidson, Patricia    Conservative           Ontario  66.0  Female\n9          Smith, Joy    Conservative          Manitoba  65.0  Female"
       },
       "execution_count": 8,
       "metadata": {},
       "output_type": "execute_result"
      }
     ],
     "persistentId": "eb2f750c-1142-4f82-bb4a-b24e13bf5652",
     "text": "# recommend using .head()\ncanadian_politics.head(10)"
    },
    "executionTime": "2020-01-16T21:46:48.094Z"
   },
   {
    "cell": {
     "executionCount": 9,
     "executionEventId": "9f772474-f231-4f83-954a-67b78d0c2588",
     "hasError": false,
     "id": "b0ba2b74-2146-4879-953f-48258cc122a2",
     "outputs": [
      {
       "data": {
        "image/png": "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\n",
        "text/plain": "<Figure size 432x288 with 1 Axes>"
       },
       "metadata": {
        "image/png": {
         "height": 261,
         "width": 390
        },
        "needs_background": "light"
       },
       "output_type": "display_data"
      }
     ],
     "persistentId": "e69366c4-06ab-480c-9517-27a92536a7f3",
     "text": "sns.distplot(canadian_politics[\"Age\"].dropna());"
    },
    "executionTime": "2020-01-16T21:46:48.797Z"
   },
   {
    "cell": {
     "executionCount": 10,
     "executionEventId": "0fc07758-e2de-4b28-8512-2d9bf20e8291",
     "hasError": false,
     "id": "cf5f9340-13ba-4bc0-abee-0e0900f380c4",
     "outputs": [],
     "persistentId": "07d985ae-a47f-4486-8877-71e9529824de",
     "text": "sns.set_context(\"poster\", font_scale=1.3)"
    },
    "executionTime": "2020-01-16T21:46:49.698Z"
   },
   {
    "cell": {
     "executionCount": 11,
     "executionEventId": "b3119cd7-912f-407c-8cae-c5bce1afe838",
     "hasError": false,
     "id": "f57e1b6f-6088-449f-a0ce-7497940b5848",
     "outputs": [
      {
       "data": {
        "image/png": "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\n",
        "text/plain": "<Figure size 864x576 with 1 Axes>"
       },
       "metadata": {
        "image/png": {
         "height": 521,
         "width": 810
        },
        "needs_background": "light"
       },
       "output_type": "display_data"
      }
     ],
     "persistentId": "dea1274f-c2fa-4fce-b2ff-864248c03b86",
     "text": "fig, ax = plt.subplots(figsize=(12, 8))\nsns.distplot(canadian_politics[\"Age\"].dropna())\nfig.tight_layout()"
    },
    "executionTime": "2020-01-16T21:46:50.494Z"
   },
   {
    "cell": {
     "executionCount": 12,
     "executionEventId": "deacafd0-d8f9-43d2-a2c7-ed12d386b3d4",
     "hasError": false,
     "id": "0dfdb66d-75f8-43ec-9826-ae4acda412c0",
     "outputs": [],
     "persistentId": "dbd0b1e0-cd72-4b92-b371-048bb040b2ec",
     "text": "canadian_politics['Age-bin'] = pd.cut(canadian_politics['Age'], [x for x in range(10, 100, 5)])"
    },
    "executionTime": "2020-01-16T21:46:50.591Z"
   },
   {
    "cell": {
     "executionCount": 13,
     "executionEventId": "b2a18eda-efb9-4d30-b5df-4a5b32fd0e34",
     "hasError": false,
     "id": "f1a4d311-d159-4f56-be05-3ef582440d3d",
     "outputs": [
      {
       "data": {
        "text/html": "\n        <iframe\n            width=\"100%\"\n            height=\"500\"\n            src=\"pivottablejs.html\"\n            frameborder=\"0\"\n            allowfullscreen\n        ></iframe>\n        ",
        "text/plain": "<IPython.lib.display.IFrame at 0x11d774b70>"
       },
       "execution_count": 13,
       "metadata": {},
       "output_type": "execute_result"
      }
     ],
     "persistentId": "b39539b8-5424-4347-85b6-f7573dc8ae03",
     "text": "pivot_ui(canadian_politics)"
    },
    "executionTime": "2020-01-16T21:47:27.200Z"
   },
   {
    "cell": {
     "executionCount": 14,
     "executionEventId": "99c7ec0c-5c24-44c3-99d5-1af74556d82f",
     "hasError": false,
     "id": "0acb60e2-1445-4e12-ae51-ecd7790d2cac",
     "outputs": [
      {
       "data": {
        "text/plain": "\u001b[0;31mSignature:\u001b[0m\n\u001b[0mnp\u001b[0m\u001b[0;34m.\u001b[0m\u001b[0mlinspace\u001b[0m\u001b[0;34m(\u001b[0m\u001b[0;34m\u001b[0m\n\u001b[0;34m\u001b[0m    \u001b[0mstart\u001b[0m\u001b[0;34m,\u001b[0m\u001b[0;34m\u001b[0m\n\u001b[0;34m\u001b[0m    \u001b[0mstop\u001b[0m\u001b[0;34m,\u001b[0m\u001b[0;34m\u001b[0m\n\u001b[0;34m\u001b[0m    \u001b[0mnum\u001b[0m\u001b[0;34m=\u001b[0m\u001b[0;36m50\u001b[0m\u001b[0;34m,\u001b[0m\u001b[0;34m\u001b[0m\n\u001b[0;34m\u001b[0m    \u001b[0mendpoint\u001b[0m\u001b[0;34m=\u001b[0m\u001b[0;32mTrue\u001b[0m\u001b[0;34m,\u001b[0m\u001b[0;34m\u001b[0m\n\u001b[0;34m\u001b[0m    \u001b[0mretstep\u001b[0m\u001b[0;34m=\u001b[0m\u001b[0;32mFalse\u001b[0m\u001b[0;34m,\u001b[0m\u001b[0;34m\u001b[0m\n\u001b[0;34m\u001b[0m    \u001b[0mdtype\u001b[0m\u001b[0;34m=\u001b[0m\u001b[0;32mNone\u001b[0m\u001b[0;34m,\u001b[0m\u001b[0;34m\u001b[0m\n\u001b[0;34m\u001b[0m    \u001b[0maxis\u001b[0m\u001b[0;34m=\u001b[0m\u001b[0;36m0\u001b[0m\u001b[0;34m,\u001b[0m\u001b[0;34m\u001b[0m\n\u001b[0;34m\u001b[0m\u001b[0;34m)\u001b[0m\u001b[0;34m\u001b[0m\u001b[0;34m\u001b[0m\u001b[0m\n\u001b[0;31mDocstring:\u001b[0m\nReturn evenly spaced numbers over a specified interval.\n\nReturns `num` evenly spaced samples, calculated over the\ninterval [`start`, `stop`].\n\nThe endpoint of the interval can optionally be excluded.\n\n.. versionchanged:: 1.16.0\n    Non-scalar `start` and `stop` are now supported.\n\nParameters\n----------\nstart : array_like\n    The starting value of the sequence.\nstop : array_like\n    The end value of the sequence, unless `endpoint` is set to False.\n    In that case, the sequence consists of all but the last of ``num + 1``\n    evenly spaced samples, so that `stop` is excluded.  Note that the step\n    size changes when `endpoint` is False.\nnum : int, optional\n    Number of samples to generate. Default is 50. Must be non-negative.\nendpoint : bool, optional\n    If True, `stop` is the last sample. Otherwise, it is not included.\n    Default is True.\nretstep : bool, optional\n    If True, return (`samples`, `step`), where `step` is the spacing\n    between samples.\ndtype : dtype, optional\n    The type of the output array.  If `dtype` is not given, infer the data\n    type from the other input arguments.\n\n    .. versionadded:: 1.9.0\n\naxis : int, optional\n    The axis in the result to store the samples.  Relevant only if start\n    or stop are array-like.  By default (0), the samples will be along a\n    new axis inserted at the beginning. Use -1 to get an axis at the end.\n\n    .. versionadded:: 1.16.0\n\nReturns\n-------\nsamples : ndarray\n    There are `num` equally spaced samples in the closed interval\n    ``[start, stop]`` or the half-open interval ``[start, stop)``\n    (depending on whether `endpoint` is True or False).\nstep : float, optional\n    Only returned if `retstep` is True\n\n    Size of spacing between samples.\n\n\nSee Also\n--------\narange : Similar to `linspace`, but uses a step size (instead of the\n         number of samples).\ngeomspace : Similar to `linspace`, but with numbers spaced evenly on a log\n            scale (a geometric progression).\nlogspace : Similar to `geomspace`, but with the end points specified as\n           logarithms.\n\nExamples\n--------\n>>> np.linspace(2.0, 3.0, num=5)\narray([2.  , 2.25, 2.5 , 2.75, 3.  ])\n>>> np.linspace(2.0, 3.0, num=5, endpoint=False)\narray([2. ,  2.2,  2.4,  2.6,  2.8])\n>>> np.linspace(2.0, 3.0, num=5, retstep=True)\n(array([2.  ,  2.25,  2.5 ,  2.75,  3.  ]), 0.25)\n\nGraphical illustration:\n\n>>> import matplotlib.pyplot as plt\n>>> N = 8\n>>> y = np.zeros(N)\n>>> x1 = np.linspace(0, 10, N, endpoint=True)\n>>> x2 = np.linspace(0, 10, N, endpoint=False)\n>>> plt.plot(x1, y, 'o')\n[<matplotlib.lines.Line2D object at 0x...>]\n>>> plt.plot(x2, y + 0.5, 'o')\n[<matplotlib.lines.Line2D object at 0x...>]\n>>> plt.ylim([-0.5, 1])\n(-0.5, 1)\n>>> plt.show()\n\u001b[0;31mFile:\u001b[0m      ~/miniconda3/envs/dspy3/lib/python3.6/site-packages/numpy/core/function_base.py\n\u001b[0;31mType:\u001b[0m      function\n"
       },
       "metadata": {},
       "output_type": "display_data"
      }
     ],
     "persistentId": "f1b235f2-cbfb-47c2-a110-e618c2160cdc",
     "text": "np.linspace?"
    },
    "executionTime": "2020-01-16T21:47:54.855Z"
   },
   {
    "cell": {
     "executionCount": 15,
     "executionEventId": "b4ea38ff-4e55-48f7-884c-8676b9ef4891",
     "hasError": false,
     "id": "6651422c-0ee4-4004-b81d-572bc8d9c317",
     "outputs": [
      {
       "data": {
        "text/plain": "\u001b[0;31mSignature:\u001b[0m\n\u001b[0mnp\u001b[0m\u001b[0;34m.\u001b[0m\u001b[0mlinspace\u001b[0m\u001b[0;34m(\u001b[0m\u001b[0;34m\u001b[0m\n\u001b[0;34m\u001b[0m    \u001b[0mstart\u001b[0m\u001b[0;34m,\u001b[0m\u001b[0;34m\u001b[0m\n\u001b[0;34m\u001b[0m    \u001b[0mstop\u001b[0m\u001b[0;34m,\u001b[0m\u001b[0;34m\u001b[0m\n\u001b[0;34m\u001b[0m    \u001b[0mnum\u001b[0m\u001b[0;34m=\u001b[0m\u001b[0;36m50\u001b[0m\u001b[0;34m,\u001b[0m\u001b[0;34m\u001b[0m\n\u001b[0;34m\u001b[0m    \u001b[0mendpoint\u001b[0m\u001b[0;34m=\u001b[0m\u001b[0;32mTrue\u001b[0m\u001b[0;34m,\u001b[0m\u001b[0;34m\u001b[0m\n\u001b[0;34m\u001b[0m    \u001b[0mretstep\u001b[0m\u001b[0;34m=\u001b[0m\u001b[0;32mFalse\u001b[0m\u001b[0;34m,\u001b[0m\u001b[0;34m\u001b[0m\n\u001b[0;34m\u001b[0m    \u001b[0mdtype\u001b[0m\u001b[0;34m=\u001b[0m\u001b[0;32mNone\u001b[0m\u001b[0;34m,\u001b[0m\u001b[0;34m\u001b[0m\n\u001b[0;34m\u001b[0m    \u001b[0maxis\u001b[0m\u001b[0;34m=\u001b[0m\u001b[0;36m0\u001b[0m\u001b[0;34m,\u001b[0m\u001b[0;34m\u001b[0m\n\u001b[0;34m\u001b[0m\u001b[0;34m)\u001b[0m\u001b[0;34m\u001b[0m\u001b[0;34m\u001b[0m\u001b[0m\n\u001b[0;31mSource:\u001b[0m   \n\u001b[0;34m@\u001b[0m\u001b[0marray_function_dispatch\u001b[0m\u001b[0;34m(\u001b[0m\u001b[0m_linspace_dispatcher\u001b[0m\u001b[0;34m)\u001b[0m\u001b[0;34m\u001b[0m\n\u001b[0;34m\u001b[0m\u001b[0;32mdef\u001b[0m \u001b[0mlinspace\u001b[0m\u001b[0;34m(\u001b[0m\u001b[0mstart\u001b[0m\u001b[0;34m,\u001b[0m \u001b[0mstop\u001b[0m\u001b[0;34m,\u001b[0m \u001b[0mnum\u001b[0m\u001b[0;34m=\u001b[0m\u001b[0;36m50\u001b[0m\u001b[0;34m,\u001b[0m \u001b[0mendpoint\u001b[0m\u001b[0;34m=\u001b[0m\u001b[0;32mTrue\u001b[0m\u001b[0;34m,\u001b[0m \u001b[0mretstep\u001b[0m\u001b[0;34m=\u001b[0m\u001b[0;32mFalse\u001b[0m\u001b[0;34m,\u001b[0m \u001b[0mdtype\u001b[0m\u001b[0;34m=\u001b[0m\u001b[0;32mNone\u001b[0m\u001b[0;34m,\u001b[0m\u001b[0;34m\u001b[0m\n\u001b[0;34m\u001b[0m             \u001b[0maxis\u001b[0m\u001b[0;34m=\u001b[0m\u001b[0;36m0\u001b[0m\u001b[0;34m)\u001b[0m\u001b[0;34m:\u001b[0m\u001b[0;34m\u001b[0m\n\u001b[0;34m\u001b[0m    \u001b[0;34m\"\"\"\u001b[0m\n\u001b[0;34m    Return evenly spaced numbers over a specified interval.\u001b[0m\n\u001b[0;34m\u001b[0m\n\u001b[0;34m    Returns `num` evenly spaced samples, calculated over the\u001b[0m\n\u001b[0;34m    interval [`start`, `stop`].\u001b[0m\n\u001b[0;34m\u001b[0m\n\u001b[0;34m    The endpoint of the interval can optionally be excluded.\u001b[0m\n\u001b[0;34m\u001b[0m\n\u001b[0;34m    .. versionchanged:: 1.16.0\u001b[0m\n\u001b[0;34m        Non-scalar `start` and `stop` are now supported.\u001b[0m\n\u001b[0;34m\u001b[0m\n\u001b[0;34m    Parameters\u001b[0m\n\u001b[0;34m    ----------\u001b[0m\n\u001b[0;34m    start : array_like\u001b[0m\n\u001b[0;34m        The starting value of the sequence.\u001b[0m\n\u001b[0;34m    stop : array_like\u001b[0m\n\u001b[0;34m        The end value of the sequence, unless `endpoint` is set to False.\u001b[0m\n\u001b[0;34m        In that case, the sequence consists of all but the last of ``num + 1``\u001b[0m\n\u001b[0;34m        evenly spaced samples, so that `stop` is excluded.  Note that the step\u001b[0m\n\u001b[0;34m        size changes when `endpoint` is False.\u001b[0m\n\u001b[0;34m    num : int, optional\u001b[0m\n\u001b[0;34m        Number of samples to generate. Default is 50. Must be non-negative.\u001b[0m\n\u001b[0;34m    endpoint : bool, optional\u001b[0m\n\u001b[0;34m        If True, `stop` is the last sample. Otherwise, it is not included.\u001b[0m\n\u001b[0;34m        Default is True.\u001b[0m\n\u001b[0;34m    retstep : bool, optional\u001b[0m\n\u001b[0;34m        If True, return (`samples`, `step`), where `step` is the spacing\u001b[0m\n\u001b[0;34m        between samples.\u001b[0m\n\u001b[0;34m    dtype : dtype, optional\u001b[0m\n\u001b[0;34m        The type of the output array.  If `dtype` is not given, infer the data\u001b[0m\n\u001b[0;34m        type from the other input arguments.\u001b[0m\n\u001b[0;34m\u001b[0m\n\u001b[0;34m        .. versionadded:: 1.9.0\u001b[0m\n\u001b[0;34m\u001b[0m\n\u001b[0;34m    axis : int, optional\u001b[0m\n\u001b[0;34m        The axis in the result to store the samples.  Relevant only if start\u001b[0m\n\u001b[0;34m        or stop are array-like.  By default (0), the samples will be along a\u001b[0m\n\u001b[0;34m        new axis inserted at the beginning. Use -1 to get an axis at the end.\u001b[0m\n\u001b[0;34m\u001b[0m\n\u001b[0;34m        .. versionadded:: 1.16.0\u001b[0m\n\u001b[0;34m\u001b[0m\n\u001b[0;34m    Returns\u001b[0m\n\u001b[0;34m    -------\u001b[0m\n\u001b[0;34m    samples : ndarray\u001b[0m\n\u001b[0;34m        There are `num` equally spaced samples in the closed interval\u001b[0m\n\u001b[0;34m        ``[start, stop]`` or the half-open interval ``[start, stop)``\u001b[0m\n\u001b[0;34m        (depending on whether `endpoint` is True or False).\u001b[0m\n\u001b[0;34m    step : float, optional\u001b[0m\n\u001b[0;34m        Only returned if `retstep` is True\u001b[0m\n\u001b[0;34m\u001b[0m\n\u001b[0;34m        Size of spacing between samples.\u001b[0m\n\u001b[0;34m\u001b[0m\n\u001b[0;34m\u001b[0m\n\u001b[0;34m    See Also\u001b[0m\n\u001b[0;34m    --------\u001b[0m\n\u001b[0;34m    arange : Similar to `linspace`, but uses a step size (instead of the\u001b[0m\n\u001b[0;34m             number of samples).\u001b[0m\n\u001b[0;34m    geomspace : Similar to `linspace`, but with numbers spaced evenly on a log\u001b[0m\n\u001b[0;34m                scale (a geometric progression).\u001b[0m\n\u001b[0;34m    logspace : Similar to `geomspace`, but with the end points specified as\u001b[0m\n\u001b[0;34m               logarithms.\u001b[0m\n\u001b[0;34m\u001b[0m\n\u001b[0;34m    Examples\u001b[0m\n\u001b[0;34m    --------\u001b[0m\n\u001b[0;34m    >>> np.linspace(2.0, 3.0, num=5)\u001b[0m\n\u001b[0;34m    array([2.  , 2.25, 2.5 , 2.75, 3.  ])\u001b[0m\n\u001b[0;34m    >>> np.linspace(2.0, 3.0, num=5, endpoint=False)\u001b[0m\n\u001b[0;34m    array([2. ,  2.2,  2.4,  2.6,  2.8])\u001b[0m\n\u001b[0;34m    >>> np.linspace(2.0, 3.0, num=5, retstep=True)\u001b[0m\n\u001b[0;34m    (array([2.  ,  2.25,  2.5 ,  2.75,  3.  ]), 0.25)\u001b[0m\n\u001b[0;34m\u001b[0m\n\u001b[0;34m    Graphical illustration:\u001b[0m\n\u001b[0;34m\u001b[0m\n\u001b[0;34m    >>> import matplotlib.pyplot as plt\u001b[0m\n\u001b[0;34m    >>> N = 8\u001b[0m\n\u001b[0;34m    >>> y = np.zeros(N)\u001b[0m\n\u001b[0;34m    >>> x1 = np.linspace(0, 10, N, endpoint=True)\u001b[0m\n\u001b[0;34m    >>> x2 = np.linspace(0, 10, N, endpoint=False)\u001b[0m\n\u001b[0;34m    >>> plt.plot(x1, y, 'o')\u001b[0m\n\u001b[0;34m    [<matplotlib.lines.Line2D object at 0x...>]\u001b[0m\n\u001b[0;34m    >>> plt.plot(x2, y + 0.5, 'o')\u001b[0m\n\u001b[0;34m    [<matplotlib.lines.Line2D object at 0x...>]\u001b[0m\n\u001b[0;34m    >>> plt.ylim([-0.5, 1])\u001b[0m\n\u001b[0;34m    (-0.5, 1)\u001b[0m\n\u001b[0;34m    >>> plt.show()\u001b[0m\n\u001b[0;34m\u001b[0m\n\u001b[0;34m    \"\"\"\u001b[0m\u001b[0;34m\u001b[0m\n\u001b[0;34m\u001b[0m    \u001b[0;31m# 2016-02-25, 1.12\u001b[0m\u001b[0;34m\u001b[0m\n\u001b[0;34m\u001b[0m    \u001b[0mnum\u001b[0m \u001b[0;34m=\u001b[0m \u001b[0m_index_deprecate\u001b[0m\u001b[0;34m(\u001b[0m\u001b[0mnum\u001b[0m\u001b[0;34m)\u001b[0m\u001b[0;34m\u001b[0m\n\u001b[0;34m\u001b[0m    \u001b[0;32mif\u001b[0m \u001b[0mnum\u001b[0m \u001b[0;34m<\u001b[0m \u001b[0;36m0\u001b[0m\u001b[0;34m:\u001b[0m\u001b[0;34m\u001b[0m\n\u001b[0;34m\u001b[0m        \u001b[0;32mraise\u001b[0m \u001b[0mValueError\u001b[0m\u001b[0;34m(\u001b[0m\u001b[0;34m\"Number of samples, %s, must be non-negative.\"\u001b[0m \u001b[0;34m%\u001b[0m \u001b[0mnum\u001b[0m\u001b[0;34m)\u001b[0m\u001b[0;34m\u001b[0m\n\u001b[0;34m\u001b[0m    \u001b[0mdiv\u001b[0m \u001b[0;34m=\u001b[0m \u001b[0;34m(\u001b[0m\u001b[0mnum\u001b[0m \u001b[0;34m-\u001b[0m \u001b[0;36m1\u001b[0m\u001b[0;34m)\u001b[0m \u001b[0;32mif\u001b[0m \u001b[0mendpoint\u001b[0m \u001b[0;32melse\u001b[0m \u001b[0mnum\u001b[0m\u001b[0;34m\u001b[0m\n\u001b[0;34m\u001b[0m\u001b[0;34m\u001b[0m\n\u001b[0;34m\u001b[0m    \u001b[0;31m# Convert float/complex array scalars to float, gh-3504\u001b[0m\u001b[0;34m\u001b[0m\n\u001b[0;34m\u001b[0m    \u001b[0;31m# and make sure one can use variables that have an __array_interface__, gh-6634\u001b[0m\u001b[0;34m\u001b[0m\n\u001b[0;34m\u001b[0m    \u001b[0mstart\u001b[0m \u001b[0;34m=\u001b[0m \u001b[0masanyarray\u001b[0m\u001b[0;34m(\u001b[0m\u001b[0mstart\u001b[0m\u001b[0;34m)\u001b[0m \u001b[0;34m*\u001b[0m \u001b[0;36m1.0\u001b[0m\u001b[0;34m\u001b[0m\n\u001b[0;34m\u001b[0m    \u001b[0mstop\u001b[0m  \u001b[0;34m=\u001b[0m \u001b[0masanyarray\u001b[0m\u001b[0;34m(\u001b[0m\u001b[0mstop\u001b[0m\u001b[0;34m)\u001b[0m  \u001b[0;34m*\u001b[0m \u001b[0;36m1.0\u001b[0m\u001b[0;34m\u001b[0m\n\u001b[0;34m\u001b[0m\u001b[0;34m\u001b[0m\n\u001b[0;34m\u001b[0m    \u001b[0mdt\u001b[0m \u001b[0;34m=\u001b[0m \u001b[0mresult_type\u001b[0m\u001b[0;34m(\u001b[0m\u001b[0mstart\u001b[0m\u001b[0;34m,\u001b[0m \u001b[0mstop\u001b[0m\u001b[0;34m,\u001b[0m \u001b[0mfloat\u001b[0m\u001b[0;34m(\u001b[0m\u001b[0mnum\u001b[0m\u001b[0;34m)\u001b[0m\u001b[0;34m)\u001b[0m\u001b[0;34m\u001b[0m\n\u001b[0;34m\u001b[0m    \u001b[0;32mif\u001b[0m \u001b[0mdtype\u001b[0m \u001b[0;32mis\u001b[0m \u001b[0;32mNone\u001b[0m\u001b[0;34m:\u001b[0m\u001b[0;34m\u001b[0m\n\u001b[0;34m\u001b[0m        \u001b[0mdtype\u001b[0m \u001b[0;34m=\u001b[0m \u001b[0mdt\u001b[0m\u001b[0;34m\u001b[0m\n\u001b[0;34m\u001b[0m\u001b[0;34m\u001b[0m\n\u001b[0;34m\u001b[0m    \u001b[0mdelta\u001b[0m \u001b[0;34m=\u001b[0m \u001b[0mstop\u001b[0m \u001b[0;34m-\u001b[0m \u001b[0mstart\u001b[0m\u001b[0;34m\u001b[0m\n\u001b[0;34m\u001b[0m    \u001b[0my\u001b[0m \u001b[0;34m=\u001b[0m \u001b[0m_nx\u001b[0m\u001b[0;34m.\u001b[0m\u001b[0marange\u001b[0m\u001b[0;34m(\u001b[0m\u001b[0;36m0\u001b[0m\u001b[0;34m,\u001b[0m \u001b[0mnum\u001b[0m\u001b[0;34m,\u001b[0m \u001b[0mdtype\u001b[0m\u001b[0;34m=\u001b[0m\u001b[0mdt\u001b[0m\u001b[0;34m)\u001b[0m\u001b[0;34m.\u001b[0m\u001b[0mreshape\u001b[0m\u001b[0;34m(\u001b[0m\u001b[0;34m(\u001b[0m\u001b[0;34m-\u001b[0m\u001b[0;36m1\u001b[0m\u001b[0;34m,\u001b[0m\u001b[0;34m)\u001b[0m \u001b[0;34m+\u001b[0m \u001b[0;34m(\u001b[0m\u001b[0;36m1\u001b[0m\u001b[0;34m,\u001b[0m\u001b[0;34m)\u001b[0m \u001b[0;34m*\u001b[0m \u001b[0mndim\u001b[0m\u001b[0;34m(\u001b[0m\u001b[0mdelta\u001b[0m\u001b[0;34m)\u001b[0m\u001b[0;34m)\u001b[0m\u001b[0;34m\u001b[0m\n\u001b[0;34m\u001b[0m    \u001b[0;31m# In-place multiplication y *= delta/div is faster, but prevents the multiplicant\u001b[0m\u001b[0;34m\u001b[0m\n\u001b[0;34m\u001b[0m    \u001b[0;31m# from overriding what class is produced, and thus prevents, e.g. use of Quantities,\u001b[0m\u001b[0;34m\u001b[0m\n\u001b[0;34m\u001b[0m    \u001b[0;31m# see gh-7142. Hence, we multiply in place only for standard scalar types.\u001b[0m\u001b[0;34m\u001b[0m\n\u001b[0;34m\u001b[0m    \u001b[0m_mult_inplace\u001b[0m \u001b[0;34m=\u001b[0m \u001b[0m_nx\u001b[0m\u001b[0;34m.\u001b[0m\u001b[0misscalar\u001b[0m\u001b[0;34m(\u001b[0m\u001b[0mdelta\u001b[0m\u001b[0;34m)\u001b[0m\u001b[0;34m\u001b[0m\n\u001b[0;34m\u001b[0m    \u001b[0;32mif\u001b[0m \u001b[0mnum\u001b[0m \u001b[0;34m>\u001b[0m \u001b[0;36m1\u001b[0m\u001b[0;34m:\u001b[0m\u001b[0;34m\u001b[0m\n\u001b[0;34m\u001b[0m        \u001b[0mstep\u001b[0m \u001b[0;34m=\u001b[0m \u001b[0mdelta\u001b[0m \u001b[0;34m/\u001b[0m \u001b[0mdiv\u001b[0m\u001b[0;34m\u001b[0m\n\u001b[0;34m\u001b[0m        \u001b[0;32mif\u001b[0m \u001b[0m_nx\u001b[0m\u001b[0;34m.\u001b[0m\u001b[0many\u001b[0m\u001b[0;34m(\u001b[0m\u001b[0mstep\u001b[0m \u001b[0;34m==\u001b[0m \u001b[0;36m0\u001b[0m\u001b[0;34m)\u001b[0m\u001b[0;34m:\u001b[0m\u001b[0;34m\u001b[0m\n\u001b[0;34m\u001b[0m            \u001b[0;31m# Special handling for denormal numbers, gh-5437\u001b[0m\u001b[0;34m\u001b[0m\n\u001b[0;34m\u001b[0m            \u001b[0my\u001b[0m \u001b[0;34m/=\u001b[0m \u001b[0mdiv\u001b[0m\u001b[0;34m\u001b[0m\n\u001b[0;34m\u001b[0m            \u001b[0;32mif\u001b[0m \u001b[0m_mult_inplace\u001b[0m\u001b[0;34m:\u001b[0m\u001b[0;34m\u001b[0m\n\u001b[0;34m\u001b[0m                \u001b[0my\u001b[0m \u001b[0;34m*=\u001b[0m \u001b[0mdelta\u001b[0m\u001b[0;34m\u001b[0m\n\u001b[0;34m\u001b[0m            \u001b[0;32melse\u001b[0m\u001b[0;34m:\u001b[0m\u001b[0;34m\u001b[0m\n\u001b[0;34m\u001b[0m                \u001b[0my\u001b[0m \u001b[0;34m=\u001b[0m \u001b[0my\u001b[0m \u001b[0;34m*\u001b[0m \u001b[0mdelta\u001b[0m\u001b[0;34m\u001b[0m\n\u001b[0;34m\u001b[0m        \u001b[0;32melse\u001b[0m\u001b[0;34m:\u001b[0m\u001b[0;34m\u001b[0m\n\u001b[0;34m\u001b[0m            \u001b[0;32mif\u001b[0m \u001b[0m_mult_inplace\u001b[0m\u001b[0;34m:\u001b[0m\u001b[0;34m\u001b[0m\n\u001b[0;34m\u001b[0m                \u001b[0my\u001b[0m \u001b[0;34m*=\u001b[0m \u001b[0mstep\u001b[0m\u001b[0;34m\u001b[0m\n\u001b[0;34m\u001b[0m            \u001b[0;32melse\u001b[0m\u001b[0;34m:\u001b[0m\u001b[0;34m\u001b[0m\n\u001b[0;34m\u001b[0m                \u001b[0my\u001b[0m \u001b[0;34m=\u001b[0m \u001b[0my\u001b[0m \u001b[0;34m*\u001b[0m \u001b[0mstep\u001b[0m\u001b[0;34m\u001b[0m\n\u001b[0;34m\u001b[0m    \u001b[0;32melse\u001b[0m\u001b[0;34m:\u001b[0m\u001b[0;34m\u001b[0m\n\u001b[0;34m\u001b[0m        \u001b[0;31m# 0 and 1 item long sequences have an undefined step\u001b[0m\u001b[0;34m\u001b[0m\n\u001b[0;34m\u001b[0m        \u001b[0mstep\u001b[0m \u001b[0;34m=\u001b[0m \u001b[0mNaN\u001b[0m\u001b[0;34m\u001b[0m\n\u001b[0;34m\u001b[0m        \u001b[0;31m# Multiply with delta to allow possible override of output class.\u001b[0m\u001b[0;34m\u001b[0m\n\u001b[0;34m\u001b[0m        \u001b[0my\u001b[0m \u001b[0;34m=\u001b[0m \u001b[0my\u001b[0m \u001b[0;34m*\u001b[0m \u001b[0mdelta\u001b[0m\u001b[0;34m\u001b[0m\n\u001b[0;34m\u001b[0m\u001b[0;34m\u001b[0m\n\u001b[0;34m\u001b[0m    \u001b[0my\u001b[0m \u001b[0;34m+=\u001b[0m \u001b[0mstart\u001b[0m\u001b[0;34m\u001b[0m\n\u001b[0;34m\u001b[0m\u001b[0;34m\u001b[0m\n\u001b[0;34m\u001b[0m    \u001b[0;32mif\u001b[0m \u001b[0mendpoint\u001b[0m \u001b[0;32mand\u001b[0m \u001b[0mnum\u001b[0m \u001b[0;34m>\u001b[0m \u001b[0;36m1\u001b[0m\u001b[0;34m:\u001b[0m\u001b[0;34m\u001b[0m\n\u001b[0;34m\u001b[0m        \u001b[0my\u001b[0m\u001b[0;34m[\u001b[0m\u001b[0;34m-\u001b[0m\u001b[0;36m1\u001b[0m\u001b[0;34m]\u001b[0m \u001b[0;34m=\u001b[0m \u001b[0mstop\u001b[0m\u001b[0;34m\u001b[0m\n\u001b[0;34m\u001b[0m\u001b[0;34m\u001b[0m\n\u001b[0;34m\u001b[0m    \u001b[0;32mif\u001b[0m \u001b[0maxis\u001b[0m \u001b[0;34m!=\u001b[0m \u001b[0;36m0\u001b[0m\u001b[0;34m:\u001b[0m\u001b[0;34m\u001b[0m\n\u001b[0;34m\u001b[0m        \u001b[0my\u001b[0m \u001b[0;34m=\u001b[0m \u001b[0m_nx\u001b[0m\u001b[0;34m.\u001b[0m\u001b[0mmoveaxis\u001b[0m\u001b[0;34m(\u001b[0m\u001b[0my\u001b[0m\u001b[0;34m,\u001b[0m \u001b[0;36m0\u001b[0m\u001b[0;34m,\u001b[0m \u001b[0maxis\u001b[0m\u001b[0;34m)\u001b[0m\u001b[0;34m\u001b[0m\n\u001b[0;34m\u001b[0m\u001b[0;34m\u001b[0m\n\u001b[0;34m\u001b[0m    \u001b[0;32mif\u001b[0m \u001b[0mretstep\u001b[0m\u001b[0;34m:\u001b[0m\u001b[0;34m\u001b[0m\n\u001b[0;34m\u001b[0m        \u001b[0;32mreturn\u001b[0m \u001b[0my\u001b[0m\u001b[0;34m.\u001b[0m\u001b[0mastype\u001b[0m\u001b[0;34m(\u001b[0m\u001b[0mdtype\u001b[0m\u001b[0;34m,\u001b[0m \u001b[0mcopy\u001b[0m\u001b[0;34m=\u001b[0m\u001b[0;32mFalse\u001b[0m\u001b[0;34m)\u001b[0m\u001b[0;34m,\u001b[0m \u001b[0mstep\u001b[0m\u001b[0;34m\u001b[0m\n\u001b[0;34m\u001b[0m    \u001b[0;32melse\u001b[0m\u001b[0;34m:\u001b[0m\u001b[0;34m\u001b[0m\n\u001b[0;34m\u001b[0m        \u001b[0;32mreturn\u001b[0m \u001b[0my\u001b[0m\u001b[0;34m.\u001b[0m\u001b[0mastype\u001b[0m\u001b[0;34m(\u001b[0m\u001b[0mdtype\u001b[0m\u001b[0;34m,\u001b[0m \u001b[0mcopy\u001b[0m\u001b[0;34m=\u001b[0m\u001b[0;32mFalse\u001b[0m\u001b[0;34m)\u001b[0m\u001b[0;34m\u001b[0m\u001b[0;34m\u001b[0m\u001b[0m\n\u001b[0;31mFile:\u001b[0m      ~/miniconda3/envs/dspy3/lib/python3.6/site-packages/numpy/core/function_base.py\n\u001b[0;31mType:\u001b[0m      function\n"
       },
       "metadata": {},
       "output_type": "display_data"
      }
     ],
     "persistentId": "b709800a-b4d9-40e0-b810-b53d5be31737",
     "text": "np.linspace??"
    },
    "executionTime": "2020-01-16T21:48:01.266Z"
   },
   {
    "cell": {
     "executionCount": 16,
     "executionEventId": "0354d148-0c5a-42bc-919c-6acd9c865fcb",
     "hasError": false,
     "id": "91f67528-b905-4f40-a78b-228701cd401a",
     "outputs": [
      {
       "data": {
        "text/latex": "\nIf you want to get crazier$\\ldots$\n\n\\begin{equation}\n\\oint_S {E_n dA = \\frac{1}{{\\varepsilon _0 }}} Q_\\textrm{inside}\n\\end{equation}\n",
        "text/plain": "<IPython.core.display.Latex object>"
       },
       "metadata": {},
       "output_type": "display_data"
      }
     ],
     "persistentId": "3b77d101-a596-423c-a7b6-e050ffbbbc2a",
     "text": "%%latex\n\nIf you want to get crazier$\\ldots$\n\n\\begin{equation}\n\\oint_S {E_n dA = \\frac{1}{{\\varepsilon _0 }}} Q_\\textrm{inside}\n\\end{equation}"
    },
    "executionTime": "2020-01-16T21:48:32.333Z"
   },
   {
    "cell": {
     "executionCount": 17,
     "executionEventId": "30641be1-3667-4497-9324-ebe883b783b9",
     "hasError": false,
     "id": "4c22fa20-301c-497c-b662-a8bb67a77ee5",
     "outputs": [
      {
       "name": "stdout",
       "output_type": "stream",
       "text": "hi\n"
      }
     ],
     "persistentId": "8ad64db0-b6c7-45e5-8fd4-4c7260d982c0",
     "text": "%%python2\nprint \"hi\""
    },
    "executionTime": "2020-01-16T21:48:40.958Z"
   },
   {
    "cell": {
     "executionCount": 18,
     "executionEventId": "d6e3a8da-dd14-4f2b-9cde-a788639e91e9",
     "hasError": false,
     "id": "503ce66a-dfbc-46d9-b132-54c7d4666a8f",
     "outputs": [
      {
       "name": "stderr",
       "output_type": "stream",
       "text": "--2020-01-16 13:48:42--  http://www.ast.cam.ac.uk/~rfc/vpfit11.1.tar.gz\nResolving www.ast.cam.ac.uk (www.ast.cam.ac.uk)... 131.111.68.64\nConnecting to www.ast.cam.ac.uk (www.ast.cam.ac.uk)|131.111.68.64|:80... connected.\nHTTP request sent, awaiting response... 301 Moved Permanently\nLocation: https://www.ast.cam.ac.uk:443/~rfc/vpfit11.1.tar.gz [following]\n--2020-01-16 13:48:43--  https://www.ast.cam.ac.uk/~rfc/vpfit11.1.tar.gz\nConnecting to www.ast.cam.ac.uk (www.ast.cam.ac.uk)|131.111.68.64|:443... connected.\nHTTP request sent, awaiting response... 301 Moved Permanently\nLocation: https://people.ast.cam.ac.uk/~rfc/vpfit11.1.tar.gz [following]\n--2020-01-16 13:48:43--  https://people.ast.cam.ac.uk/~rfc/vpfit11.1.tar.gz\nResolving people.ast.cam.ac.uk (people.ast.cam.ac.uk)... 131.111.69.227\nConnecting to people.ast.cam.ac.uk (people.ast.cam.ac.uk)|131.111.69.227|:443... connected.\nHTTP request sent, awaiting response... 200 OK\nLength: 3761497 (3.6M) [application/x-gzip]\nSaving to: ‘vpfit11.1.tar.gz.4’\n\n     0K .......... .......... .......... .......... ..........  1%  170K 21s\n    50K .......... .......... .......... .......... ..........  2%  341K 16s\n   100K .......... .......... .......... .......... ..........  4% 25.3M 10s\n   150K .......... .......... .......... .......... ..........  5%  353K 10s\n   200K .......... .......... .......... .......... ..........  6% 8.04M 8s\n   250K .......... .......... .......... .......... ..........  8% 28.5M 7s\n   300K .......... .......... .......... .......... ..........  9%  365K 7s\n   350K .......... .......... .......... .......... .......... 10% 21.2M 6s\n   400K .......... .......... .......... .......... .......... 12% 6.01M 5s\n   450K .......... .......... .......... .......... .......... 13%  363K 6s\n   500K .......... .......... .......... .......... .......... 14% 31.7M 5s\n   550K .......... .......... .......... .......... .......... 16% 18.9M 5s\n   600K .......... .......... .......... .......... .......... 17% 32.6M 4s\n   650K .......... .......... .......... .......... .......... 19% 6.69M 4s\n   700K .......... .......... .......... .......... .......... 20% 76.7M 3s\n   750K .......... .......... .......... .......... .......... 21%  357K 4s\n   800K .......... .......... .......... .......... .......... 23%  106M 3s\n   850K .......... .......... .......... .......... .......... 24%  156M 3s\n   900K .......... .......... .......... .......... .......... 25% 6.97M 3s\n   950K .......... .......... .......... .......... .......... 27% 76.8M 3s\n  1000K .......... .......... .......... .......... .......... 28% 96.9M 3s\n  1050K .......... .......... .......... .......... .......... 29%  513K 3s\n  1100K .......... .......... .......... .......... .......... 31% 1.31M 3s\n  1150K .......... .......... .......... .......... .......... 32% 29.0M 2s\n  1200K .......... .......... .......... .......... .......... 34% 3.84M 2s\n  1250K .......... .......... .......... .......... .......... 35% 16.2M 2s\n  1300K .......... .......... .......... .......... .......... 36% 28.9M 2s\n  1350K .......... .......... .......... .......... .......... 38% 28.8M 2s\n  1400K .......... .......... .......... .......... .......... 39% 7.90M 2s\n  1450K .......... .......... .......... .......... .......... 40% 38.1M 2s\n  1500K .......... .......... .......... .......... .......... 42% 29.2M 2s\n  1550K .......... .......... .......... .......... .......... 43%  600K 2s\n  1600K .......... .......... .......... .......... .......... 44% 1.32M 2s\n  1650K .......... .......... .......... .......... .......... 46% 34.4M 2s\n  1700K .......... .......... .......... .......... .......... 47% 27.2M 1s\n  1750K .......... .......... .......... .......... .......... 49% 19.0M 1s\n  1800K .......... .......... .......... .......... .......... 50% 33.1M 1s\n  1850K .......... .......... .......... .......... .......... 51% 11.5M 1s\n  1900K .......... .......... .......... .......... .......... 53%  107M 1s\n  1950K .......... .......... .......... .......... .......... 54% 40.3M 1s\n  2000K .......... .......... .......... .......... .......... 55% 4.15M 1s\n  2050K .......... .......... .......... .......... .......... 57% 27.0M 1s\n  2100K .......... .......... .......... .......... .......... 58% 29.2M 1s\n  2150K .......... .......... .......... .......... .......... 59% 35.0M 1s\n  2200K .......... .......... .......... .......... .......... 61% 7.61M 1s\n  2250K .......... .......... .......... .......... .......... 62% 34.4M 1s\n  2300K .......... .......... .......... .......... .......... 63%  738K 1s\n  2350K .......... .......... .......... .......... .......... 65%  991K 1s\n  2400K .......... .......... .......... .......... .......... 66%  162M 1s\n  2450K .......... .......... .......... .......... .......... 68%  205M 1s\n  2500K .......... .......... .......... .......... .......... 69% 17.5M 1s\n  2550K .......... .......... .......... .......... .......... 70% 5.50M 1s\n  2600K .......... .......... .......... .......... .......... 72% 10.6M 1s\n  2650K .......... .......... .......... .......... .......... 73%  187M 1s\n  2700K .......... .......... .......... .......... .......... 74% 76.9M 1s\n  2750K .......... .......... .......... .......... .......... 76% 28.7M 0s\n  2800K .......... .......... .......... .......... .......... 77% 24.3M 0s\n  2850K .......... .......... .......... .......... .......... 78% 18.1M 0s\n  2900K .......... .......... .......... .......... .......... 80% 35.8M 0s\n  2950K .......... .......... .......... .......... .......... 81% 29.0M 0s\n  3000K .......... .......... .......... .......... .......... 83% 23.5M 0s\n  3050K .......... .......... .......... .......... .......... 84% 28.3M 0s\n  3100K .......... .......... .......... .......... .......... 85% 36.0M 0s\n  3150K .......... .......... .......... .......... .......... 87% 3.25M 0s\n  3200K .......... .......... .......... .......... .......... 88% 25.2M 0s\n  3250K .......... .......... .......... .......... .......... 89%  984K 0s\n  3300K .......... .......... .......... .......... .......... 91% 1020K 0s\n  3350K .......... .......... .......... .......... .......... 92% 8.84M 0s\n  3400K .......... .......... .......... .......... .......... 93%  150M 0s\n  3450K .......... .......... .......... .......... .......... 95% 3.26M 0s\n  3500K .......... .......... .......... .......... .......... 96% 34.1M 0s\n  3550K .......... .......... .......... .......... .......... 98% 3.34M 0s\n  3600K .......... .......... .......... .......... .......... 99% 20.4M 0s\n  3650K .......... .......... ...                             100%  123M=1.7s\n\n2020-01-16 13:48:46 (2.15 MB/s) - ‘vpfit11.1.tar.gz.4’ saved [3761497/3761497]\n\nx ./\nx ./#temp2#\nx ./atom.dat\nx ./atomtab.f\nx ./autovpin.f\nx ./bintofits.f\nx ./calcn.f\nx ./case.f\nx ./chanwav.f\nx ./chisum26.f\nx ./cmax1.f\nx ./cms_src.f\nx ./com_cons.f\nx ./dcholin.f\nx ./dexpf.f\nx ./dlycabscft.f\nx ./docs/\nx ./dotick.f\nx ./dpoly.f\nx ./dsepvar.f\nx ./eigen.f\nx ./erfcc.f\nx ./externals.f\nx ./fl_gen.f\nx ./gen_vpin.f\nx ./ginsert.f\nx ./gu_tabsort.f\nx ./hedit.f\nx ./linfit.f\nx ./lm_udchole.f\nx ./lyregset.f\nx ./makefile\nx ./medianv.f\nx ./MMatomdat_atom_noiso.dat\nx ./pda_che2d.f\nx ./pda_dp1vlu.f\nx ./pda_dpcoef.f\nx ./pda_dpolft.f\nx ./pda_qsiad.f\nx ./pda_src.f\nx ./pda_xermsg.f\nx ./pgfiles/\nx ./pldef.f\nx ./plset.f\nx ./pr_mdian1.f\nx ./prg_polyd.f\nx ./probks.f\nx ./rd_ablin.f\nx ./rd_adnois.f\nx ./rd_advprof.f\nx ./rd_alias.f\nx ./rd_bclimsreset.f\nx ./rd_comalias.f\nx ./rd_compreset.f\nx ./rd_cuchstr.f\nx ./rd_cufilnm.f\nx ./rd_cuplot.f\nx ./rd_cuwvrest.f\nx ./rd_cydata.f\nx ./rd_daswap.f\nx ./rd_dblid.f\nx ./rd_dmanip.f\nx ./rd_drebin.f\nx ./rd_drebing.f\nx ./rd_dsetbad.f\nx ./rd_dvcont.f\nx ./rd_esoftread.f\nx ./rd_estcolb.f\nx ./rd_ewwav.f\nx ./rd_extabs.f\nx ./rd_fluxbb.f\nx ./rd_flxval.f\nx ./rd_gen.f\nx ./rd_gprof.f\nx ./rd_gprofe.f\nx ./rd_gpsim.f\nx ./rd_hdust.f\nx ./rd_intinfo.f\nx ./rd_intvtab.f\nx ./rd_jbsim.f\nx ./rd_markreg.f\nx ./rd_mattrd.f\nx ./rd_meantau.f\nx ./rd_medvp.f\nx ./rd_moderrs.f\nx ./rd_multiset.f\nx ./rd_pgannot.f\nx ./rd_plcset.f\nx ./rd_pmpset.f\nx ./rd_prhelp.dat\nx ./rd_prhelp.f\nx ./rd_qdatafiles.f\nx ./rd_readlinwav.f\nx ./rd_sclsig.f\nx ./rd_scrng.f\nx ./rd_scwval.f\nx ./rd_seekmax2.f\nx ./rd_setintv.f\nx ./rd_sizes.f\nx ./rd_splvtick.f\nx ./rd_stackz.f\nx ./rd_start.dat\nx ./rd_stplot.f\nx ./rd_taueff.f\nx ./rd_tgplots.f\nx ./rd_tickvpfl.f\nx ./rd_ulimse.f\nx ./rd_ulinfo.f\nx ./rd_wrfits.f\nx ./rd_wrwcfits.f\nx ./rd_wvnewt.f\nx ./rd_wvsc.f\nx ./rd_xcdc.f\nx ./rd_zcorr.f\nx ./rd_ztabcf.f\nx ./rhedit.f\nx ./sepvar.f\nx ./splot.f\nx ./spvoigt.f\nx ./svbksbd.f\nx ./svdajc.f\nx ./svdcmpd.f\nx ./svdfit.f\nx ./tempccc.f\nx ./tickpg.f\nx ./tikset.f\nx ./tstfit3d.f\nx ./udchole.f\nx ./varythis.f\nx ./voigt_king.f\nx ./voigt_subroutine.f\nx ./vp_abfind.f\nx ./vp_abundset.f\nx ./vp_addline.f\nx ./vp_addxlink.f\nx ./vp_archwav.f\nx ./vp_asciin.f\nx ./vp_ationsep.f\nx ./vp_atomass.f\nx ./vp_blfixf.f\nx ./vp_cfcopy.f\nx ./vp_chanwav.f\nx ./vp_charlims.f\nx ./vp_chdisprof.f\nx ./vp_checkb.f\nx ./vp_checkn.f\nx ./vp_chipconv.f\nx ./vp_chsation.f\nx ./vp_chspread.f\nx ./vp_cmssrc.f\nx ./vp_curse.f\nx ./vp_cval.f\nx ./vp_dattim.f\nx ./vp_dattim_alt.f\nx ./vp_deriv.f\nx ./vp_dlinin.f\nx ./vp_dlset.f\nx ./vp_dlyccft.f\nx ./vp_dotick.f\nx ./vp_emlsmry.f\nx ./vp_empval.f\nx ./vp_emscchk.f\nx ./vp_emtset.f\nx ./vp_endorder.f\nx ./vp_endrej.f\nx ./vp_errej.f\nx ./vp_ewred.f\nx ./vp_f13fin.f\nx ./vp_f13finx.f\nx ./vp_f13read.f\nx ./vp_f_sigscl.f\nx ./vp_fgf13write.f\nx ./vp_flchderivs.f\nx ./vp_fnzbin.f\nx ./vp_getargs.f\nx ./vp_getres.f\nx ./vp_gglwcoeff.f\nx ./vp_gsclfts.f\nx ./vp_gwatfits.f\nx ./vp_initval.f\nx ./vp_ionregcheck.f\nx ./vp_ksvnorm.f\nx ./vp_lineid.f\nx ./vp_linlim.f\nx ./vp_listfiles.f\nx ./vp_lycont.f\nx ./vp_lyconte.f\nx ./vp_minpol.f\nx ./vp_minquad.f\nx ./vp_nearlin.f\nx ./vp_newtfxl.f\nx ./vp_pareorder.f\nx ./vp_parmcest.f\nx ./vp_pgbegin.f\nx ./vp_pgcurs.f\nx ./vp_plcset.f\nx ./vp_poisson.f\nx ./vp_presetsys.f\nx ./vp_psfinterp.f\nx ./vp_rdbwvfts.f\nx ./vp_rdfitsext.f\nx ./vp_rdlines.f\nx ./vp_rdspecial.f\nx ./vp_rdwaveval.f\nx ./vp_readfits.f\nx ./vp_runstst.f\nx ./vp_rwlims.f\nx ./vp_scontf.f\nx ./vp_setintv.f\nx ./vp_setoptn.f\nx ./vp_setup.dat\nx ./vp_sizes.f\nx ./vp_smry.f\nx ./vp_spdatin.f\nx ./vp_splot.dat\nx ./vp_spread.f\nx ./vp_spvoigte.f\nx ./vp_srcpath.f\nx ./vp_startval.f\nx ./vp_stration.f\nx ./vp_stripcmt.f\nx ./vp_subchspread.f\nx ./vp_sumlinclear.f\nx ./vp_sysdel.f\nx ./vp_tdcolset.f\nx ./vp_tiedb.f\nx ./vp_tiedrop.f\nx ./vp_tieval.f\nx ./vp_trimattab.f\nx ./vp_tsetxref.f\nx ./vp_ucheck.f\nx ./vp_ucoptv.f\nx ./vp_ucprinerr.f\nx ./vp_ucprinit.f\nx ./vp_usdef.f\nx ./vp_vreset.f\nx ./vp_wrt25.f\nx ./vp_wval.f\nx ./vp_wvalch.f\nx ./vp_wvalsubch.f\nx ./vp_wverass.f\nx ./vpbrentres.f\nx ./vpf_bvalsp.f\nx ./vpf_dvresn.f\nx ./vpfit.f\nx ./vpgti.f\nx ./vppreset.cmd\nx ./vpreset.awk\nx ./wcor.f\nx ./wval.f\nx ./xmakefile\nx ./pgfiles/Al.pg\nx ./pgfiles/AlSi.pg\nx ./pgfiles/CaII.pg\nx ./pgfiles/CI2.pg\nx ./pgfiles/CIH2.pg\nx ./pgfiles/CII.pg\nx ./pgfiles/CII.pg~\nx ./pgfiles/CIIOI.pg\nx ./pgfiles/CIIOI.pg~\nx ./pgfiles/CIISi.pg\nx ./pgfiles/CIV.pg\nx ./pgfiles/CIVSiIV.pg\nx ./pgfiles/CrZn.pg\nx ./pgfiles/FeII.pg\nx ./pgfiles/FeIIhi.pg\nx ./pgfiles/hc.pg\nx ./pgfiles/HC4.pg\nx ./pgfiles/HC4.pg~\nx ./pgfiles/HCNlo.pg\nx ./pgfiles/hcnosi.pg\nx ./pgfiles/hcsi.pg\nx ./pgfiles/HD.pg\nx ./pgfiles/HDs.pg\nx ./pgfiles/HHC4N5O6.pg\nx ./pgfiles/HHC4O6.pg\nx ./pgfiles/HHC4O6Si4.pg\nx ./pgfiles/HHC4Si4.pg\nx ./pgfiles/HHCSi34.pg\nx ./pgfiles/HHCSi34.pg~\nx ./pgfiles/HHO6.pg\nx ./pgfiles/hiHCNO.pg\nx ./pgfiles/hiHCOSi.pg\nx ./pgfiles/hiion.pg\nx ./pgfiles/hiSi.pg\nx ./pgfiles/HNI.pg\nx ./pgfiles/HOhi.pg\nx ./pgfiles/HQhi.pg\nx ./pgfiles/HSSi.pg\nx ./pgfiles/Hvhi.pg\nx ./pgfiles/LaCIV.pg\nx ./pgfiles/LaN.pg\nx ./pgfiles/laonly.pg\nx ./pgfiles/LL.pg\nx ./pgfiles/LLO.pg\nx ./pgfiles/llyman.pg\nx ./pgfiles/loc.pg\nx ./pgfiles/local.pg\nx ./pgfiles/lohi.pg\nx ./pgfiles/lointhi.pg\nx ./pgfiles/lointz.pg\nx ./pgfiles/loion.pg\nx ./pgfiles/loloz.pg\nx ./pgfiles/lorare.pg\nx ./pgfiles/lowz.pg\nx ./pgfiles/lowzFeII.pg\nx ./pgfiles/ly4.pg\nx ./pgfiles/lyabg.pg\nx ./pgfiles/lyman.pg\nx ./pgfiles/lyman8.pg\nx ./pgfiles/MgFeMn.pg\nx ./pgfiles/MgICI.pg\nx ./pgfiles/MgII.pg\nx ./pgfiles/MgIIFeII.pg\nx ./pgfiles/NaCa.pg\nx ./pgfiles/NiII.pg\nx ./pgfiles/nitrogen.pg\nx ./pgfiles/NV.pg\nx ./pgfiles/OI.pg\nx ./pgfiles/OIArI.pg\nx ./pgfiles/oneline.pg\nx ./pgfiles/OSipair.pg\nx ./pgfiles/OVI.pg\nx ./pgfiles/OVIHI.pg\nx ./pgfiles/range.pg\nx ./pgfiles/sdlaion.pg\nx ./pgfiles/SiII.pg\nx ./pgfiles/SiIIfs.pg\nx ./pgfiles/SiIIl.pg\nx ./pgfiles/SiIV.pg\nx ./pgfiles/stloion.pg\nx ./pgfiles/strong.pg\nx ./pgfiles/TiII.pg\nx ./pgfiles/ultralow.pg\nx ./pgfiles/vhiHCNO.pg\nx ./docs/rdgen11.1.pdf\nx ./docs/sample.txt.gz\nx ./docs/vpfit11.1.pdf\n"
      }
     ],
     "persistentId": "753aa199-d7eb-4d3b-b6c1-c41cee5430a5",
     "text": "%%bash\nwget http://www.ast.cam.ac.uk/~rfc/vpfit11.1.tar.gz\nmkdir -p vpfit11\ncd vpfit11\ntar -xvzf ../vpfit11.1.tar.gz"
    },
    "executionTime": "2020-01-16T21:48:46.839Z"
   },
   {
    "cell": {
     "executionCount": 19,
     "executionEventId": "2480b65d-f2da-4b78-8df7-e9bf60285231",
     "hasError": false,
     "id": "959d9f8d-82e3-4e2a-a10f-c562a0cd96b4",
     "outputs": [],
     "persistentId": "b61aa815-d196-452a-ad19-81a97f63c4a1",
     "text": "normal_argument = 12.4\nsecond_argument = 98.4\n\narg_with_spaces = \"the secret to life\""
    },
    "executionTime": "2020-01-16T21:48:46.850Z"
   },
   {
    "cell": {
     "executionCount": 20,
     "executionEventId": "f1f144e0-1178-4956-9a13-cfe980c86a22",
     "hasError": false,
     "id": "0cddf071-0793-4f56-b004-a107e39be455",
     "outputs": [
      {
       "name": "stdout",
       "output_type": "stream",
       "text": "This script knows the value of the argument: 12.4\nIt also has no trouble with the second argument: 98.4\n"
      }
     ],
     "persistentId": "993bbfca-dc1b-4aa6-b99d-804745388d2e",
     "text": "%%bash -s {normal_argument} {second_argument}\necho \"This script knows the value of the argument: $1\"\necho \"It also has no trouble with the second argument: $2\""
    },
    "executionTime": "2020-01-16T21:48:46.869Z"
   },
   {
    "cell": {
     "executionCount": 21,
     "executionEventId": "a7dbda42-a942-4b48-881f-2ee0d34529a2",
     "hasError": false,
     "id": "f1597185-251e-46aa-8cc0-df8588f75da6",
     "outputs": [
      {
       "name": "stdout",
       "output_type": "stream",
       "text": "This bash script knows the secret to life.\n"
      }
     ],
     "persistentId": "3e6bd91e-f32a-4358-a6bd-76613dbfbc5c",
     "text": "%%bash -s \"$arg_with_spaces\"\necho \"This bash script knows $1.\""
    },
    "executionTime": "2020-01-16T21:48:46.879Z"
   },
   {
    "cell": {
     "executionCount": 22,
     "executionEventId": "4a08fb41-5e6e-4b96-a255-0539859e919e",
     "hasError": false,
     "id": "e236f8dd-009a-47fd-8273-8f47a164b45d",
     "outputs": [
      {
       "name": "stdout",
       "output_type": "stream",
       "text": "00-Overview.ipynb                       Untitled4.ipynb\n01-Tips-and-tricks.ipynb                alex.ipynb\n02-NBExtensions.ipynb                   billy.ipynb\n03-Git-and-Autoreload.ipynb             delete.ipynb\n05-SQL-Example.ipynb                    ex1.png\n06-Interactive-Splines.ipynb            example.md\n07-Advanced-Visualization.ipynb         fifth.ipynb\n07-Some_basics.ipynb                    history.ipynb\n08-More_basics.ipynb                    jupyterlab-example.md\n09-Extras.ipynb                         new-name.ipynb\n10-R-stuff.ipynb                        pivottablejs.html\n11-older-stuff.ipynb                    presidents.sqlite\n12-old-pandas.ipynb                     temp\n2019-06-02-jbw-test-formatter-01.ipynb  untitled.txt\n3d-example-plot.html                    \u001b[34mvpfit10\u001b[m\u001b[m/\nAdvanced-Notebook-Tricks.ipynb          vpfit10.2.tar.gz\nBasic-Plotting.ipynb                    vpfit10.2.tar.gz.1\nData_Cleaning.ipynb                     vpfit10.2.tar.gz.2\nExample-pycat.ipynb                     vpfit10.2.tar.gz.3\nOld-Advanced.ipynb                      \u001b[34mvpfit11\u001b[m\u001b[m/\nOld-Autoreload.ipynb                    vpfit11.1.tar.gz\nUntitled.ipynb                          vpfit11.1.tar.gz.1\nUntitled1.ipynb                         vpfit11.1.tar.gz.2\nUntitled2.ipynb                         vpfit11.1.tar.gz.3\nUntitled3.ipynb                         vpfit11.1.tar.gz.4\n"
      }
     ],
     "persistentId": "65ae2345-4c04-4cc7-9f40-f9cb2004ce36",
     "text": "ls"
    },
    "executionTime": "2020-01-16T21:48:47.220Z"
   },
   {
    "cell": {
     "executionCount": 23,
     "executionEventId": "8f29a696-d5fc-4abd-953f-b88bdc924ac0",
     "hasError": true,
     "id": "6f808572-6fea-44d4-833a-3f385eca08c9",
     "outputs": [
      {
       "ename": "NameError",
       "evalue": "name '_29' is not defined",
       "output_type": "error",
       "traceback": [
        "\u001b[0;31m---------------------------------------------------------------------------\u001b[0m",
        "\u001b[0;31mNameError\u001b[0m                                 Traceback (most recent call last)",
        "\u001b[0;32m<ipython-input-23-058c400f6c88>\u001b[0m in \u001b[0;36m<module>\u001b[0;34m\u001b[0m\n\u001b[0;32m----> 1\u001b[0;31m \u001b[0m_29\u001b[0m\u001b[0;34m\u001b[0m\u001b[0;34m\u001b[0m\u001b[0m\n\u001b[0m",
        "\u001b[0;31mNameError\u001b[0m: name '_29' is not defined"
       ]
      }
     ],
     "persistentId": "a94a12cd-2b16-4dd6-8cf9-6782a25a4803",
     "text": "_29"
    },
    "executionTime": "2020-01-16T21:49:27.198Z"
   },
   {
    "cell": {
     "executionCount": 24,
     "executionEventId": "c185922d-c641-4531-8c9c-23f328793ebf",
     "hasError": true,
     "id": "42a67a88-82e6-4c56-916d-8fc4a4c8af14",
     "outputs": [
      {
       "ename": "NameError",
       "evalue": "name '_i27' is not defined",
       "output_type": "error",
       "traceback": [
        "\u001b[0;31m---------------------------------------------------------------------------\u001b[0m",
        "\u001b[0;31mNameError\u001b[0m                                 Traceback (most recent call last)",
        "\u001b[0;32m<ipython-input-24-50f68bb70352>\u001b[0m in \u001b[0;36m<module>\u001b[0;34m\u001b[0m\n\u001b[0;32m----> 1\u001b[0;31m \u001b[0mprint\u001b[0m\u001b[0;34m(\u001b[0m\u001b[0m_i27\u001b[0m\u001b[0;34m)\u001b[0m\u001b[0;34m\u001b[0m\u001b[0;34m\u001b[0m\u001b[0m\n\u001b[0m",
        "\u001b[0;31mNameError\u001b[0m: name '_i27' is not defined"
       ]
      }
     ],
     "persistentId": "0289e890-0bf1-4815-bb0b-f5740ea632ef",
     "text": "print(_i27)"
    },
    "executionTime": "2020-01-16T21:49:31.196Z"
   },
   {
    "cell": {
     "executionCount": 25,
     "executionEventId": "f8b76c6e-49f4-4490-9c40-03d054703444",
     "hasError": false,
     "id": "165f1900-bbe2-4062-aded-516c69a353fc",
     "outputs": [
      {
       "data": {
        "text/plain": "228738335"
       },
       "execution_count": 25,
       "metadata": {},
       "output_type": "execute_result"
      }
     ],
     "persistentId": "7785b1f4-be56-4ccf-9b52-c7285962402d",
     "text": "2345 * 97543"
    },
    "executionTime": "2020-01-16T21:49:32.132Z"
   },
   {
    "cell": {
     "executionCount": 26,
     "executionEventId": "771ee9a3-ee3e-44d4-b146-d8ba08e567f6",
     "hasError": false,
     "id": "17a16641-4175-495a-8fd8-ffeb41191152",
     "outputs": [
      {
       "data": {
        "text/plain": "3"
       },
       "execution_count": 26,
       "metadata": {},
       "output_type": "execute_result"
      }
     ],
     "persistentId": "4e1f0cfd-d1ef-46cc-bbd4-abcf0a207997",
     "text": "a = 3\na"
    },
    "executionTime": "2020-01-16T21:49:34.226Z"
   },
   {
    "cell": {
     "executionCount": 27,
     "executionEventId": "20c2fae5-2bed-4c56-a58e-451cae6017cc",
     "hasError": false,
     "id": "165f1900-bbe2-4062-aded-516c69a353fc",
     "outputs": [
      {
       "data": {
        "text/plain": "228738335"
       },
       "execution_count": 27,
       "metadata": {},
       "output_type": "execute_result"
      }
     ],
     "persistentId": "7785b1f4-be56-4ccf-9b52-c7285962402d",
     "text": "2345 * 97543"
    },
    "executionTime": "2020-01-16T21:49:34.527Z"
   },
   {
    "cell": {
     "executionCount": 28,
     "executionEventId": "9f943d88-71a5-4e60-8e21-0304e3184f66",
     "hasError": false,
     "id": "3eb2da0a-93e5-430a-a861-69ff84f5d7d9",
     "outputs": [
      {
       "data": {
        "text/plain": "228738335"
       },
       "execution_count": 28,
       "metadata": {},
       "output_type": "execute_result"
      }
     ],
     "persistentId": "876376f0-2c19-46d4-99ca-765f767726e2",
     "text": "_"
    },
    "executionTime": "2020-01-16T21:49:34.809Z"
   },
   {
    "cell": {
     "executionCount": 29,
     "executionEventId": "927025b8-f699-4633-9fff-5cbe9796bb18",
     "hasError": false,
     "id": "6f808572-6fea-44d4-833a-3f385eca08c9",
     "outputs": [
      {
       "data": {
        "text/plain": "3"
       },
       "execution_count": 29,
       "metadata": {},
       "output_type": "execute_result"
      }
     ],
     "persistentId": "a94a12cd-2b16-4dd6-8cf9-6782a25a4803",
     "text": "_26"
    },
    "executionTime": "2020-01-16T21:49:39.547Z"
   },
   {
    "cell": {
     "executionCount": 30,
     "executionEventId": "c035d5e2-dce6-4040-848b-ce9ed2628e1e",
     "hasError": false,
     "id": "42a67a88-82e6-4c56-916d-8fc4a4c8af14",
     "outputs": [
      {
       "name": "stdout",
       "output_type": "stream",
       "text": "a = 3\na\n"
      }
     ],
     "persistentId": "0289e890-0bf1-4815-bb0b-f5740ea632ef",
     "text": "print(_i26)"
    },
    "executionTime": "2020-01-16T21:49:42.352Z"
   },
   {
    "cell": {
     "executionCount": 31,
     "executionEventId": "37952e62-e39e-4796-8a39-de8c0a412af5",
     "hasError": false,
     "id": "36772e15-811c-4e0f-99c6-3e85a269a08d",
     "outputs": [
      {
       "name": "stdin",
       "output_type": "stream",
       "text": "File 'alex.ipynb' exists. Overwrite?  y\n"
      },
      {
       "name": "stdout",
       "output_type": "stream",
       "text": "Overwriting file.\n"
      }
     ],
     "persistentId": "d2e54e4f-e47e-46a2-8c52-dc7672732be9",
     "text": "%history -f alex.ipynb"
    },
    "executionTime": "2020-01-16T21:49:47.757Z"
   },
   {
    "cell": {
     "executionCount": 32,
     "executionEventId": "9aa68c7c-3ccb-473d-acb9-7aee1d40905a",
     "hasError": false,
     "id": "f5bafab7-26fb-4306-92c6-8cb178d2e1c4",
     "outputs": [],
     "persistentId": "a43241a1-f537-4c9c-8cae-29ada8d6dd72",
     "text": "#gather"
    },
    "executionTime": "2020-01-16T21:50:27.608Z"
   },
   {
    "cell": {
     "executionCount": 1,
     "executionEventId": "881c2919-0b43-4433-b939-a0c2fc2d8f91",
     "hasError": false,
     "id": "111e08e8-4bc8-4477-b0c4-b56ac1fc75c8",
     "outputs": [],
     "persistentId": "5e98591e-08d0-4812-ba61-d0ecc428c08d",
     "text": "# code cell\nname = \"Jonathan\""
    },
    "executionTime": "2020-01-16T23:38:15.642Z"
   },
   {
    "cell": {
     "executionCount": 2,
     "executionEventId": "00c2a428-ddef-4691-b2fd-33dab2a4c4b4",
     "hasError": false,
     "id": "111e08e8-4bc8-4477-b0c4-b56ac1fc75c8",
     "outputs": [],
     "persistentId": "5e98591e-08d0-4812-ba61-d0ecc428c08d",
     "text": "# code cell\nname = \"Jonathan\""
    },
    "executionTime": "2020-01-16T23:38:45.863Z"
   },
   {
    "cell": {
     "executionCount": 3,
     "executionEventId": "7497ebcc-3e47-433b-b12d-f61186b1a6ee",
     "hasError": false,
     "id": "111e08e8-4bc8-4477-b0c4-b56ac1fc75c8",
     "outputs": [],
     "persistentId": "5e98591e-08d0-4812-ba61-d0ecc428c08d",
     "text": "# code cell\nname = \"Jonathan\""
    },
    "executionTime": "2020-01-16T23:39:02.095Z"
   },
   {
    "cell": {
     "executionCount": 4,
     "executionEventId": "fc2437c7-05a3-4ee0-9887-d92643347086",
     "hasError": false,
     "id": "4c7b72d4-1e32-4d9c-b53a-fdd896fca820",
     "outputs": [],
     "persistentId": "03635f66-daaa-47cf-bb74-883e8ce82c00",
     "text": "import numpy as np\n\n# don't do:\n# from numpy import *"
    },
    "executionTime": "2020-01-16T23:39:56.619Z"
   },
   {
    "cell": {
     "executionCount": 5,
     "executionEventId": "cadbafb1-959c-48c7-8206-732c638d2e8a",
     "hasError": false,
     "id": "65f353b7-e6c9-4bc0-aafd-20d146cf39cb",
     "outputs": [
      {
       "data": {
        "text/plain": "'a'"
       },
       "execution_count": 5,
       "metadata": {},
       "output_type": "execute_result"
      }
     ],
     "persistentId": "e41e09ce-28e8-437f-9e9e-676775bc5fce",
     "text": "max(\"a\")"
    },
    "executionTime": "2020-01-16T23:40:11.641Z"
   },
   {
    "cell": {
     "executionCount": 6,
     "executionEventId": "d250c508-511f-4b72-bcbe-ae9a0c673f63",
     "hasError": true,
     "id": "e738a0af-a7af-4825-8b52-4d31040261f2",
     "outputs": [
      {
       "ename": "TypeError",
       "evalue": "cannot perform reduce with flexible type",
       "output_type": "error",
       "traceback": [
        "\u001b[0;31m----------------------------------------------------------------------\u001b[0m",
        "\u001b[0;31mTypeError\u001b[0m                            Traceback (most recent call last)",
        "\u001b[0;32m<ipython-input-6-4005723e4b17>\u001b[0m in \u001b[0;36m<module>\u001b[0;34m\u001b[0m\n\u001b[0;32m----> 1\u001b[0;31m \u001b[0mnp\u001b[0m\u001b[0;34m.\u001b[0m\u001b[0mmax\u001b[0m\u001b[0;34m(\u001b[0m\u001b[0;34m\"a\"\u001b[0m\u001b[0;34m)\u001b[0m\u001b[0;34m\u001b[0m\u001b[0;34m\u001b[0m\u001b[0m\n\u001b[0m",
        "\u001b[0;32m<__array_function__ internals>\u001b[0m in \u001b[0;36mamax\u001b[0;34m(*args, **kwargs)\u001b[0m\n",
        "\u001b[0;32m~/miniconda3/envs/dspy3/lib/python3.6/site-packages/numpy/core/fromnumeric.py\u001b[0m in \u001b[0;36mamax\u001b[0;34m(a, axis, out, keepdims, initial, where)\u001b[0m\n\u001b[1;32m   2619\u001b[0m     \"\"\"\n\u001b[1;32m   2620\u001b[0m     return _wrapreduction(a, np.maximum, 'max', axis, None, out,\n\u001b[0;32m-> 2621\u001b[0;31m                           keepdims=keepdims, initial=initial, where=where)\n\u001b[0m\u001b[1;32m   2622\u001b[0m \u001b[0;34m\u001b[0m\u001b[0m\n\u001b[1;32m   2623\u001b[0m \u001b[0;34m\u001b[0m\u001b[0m\n",
        "\u001b[0;32m~/miniconda3/envs/dspy3/lib/python3.6/site-packages/numpy/core/fromnumeric.py\u001b[0m in \u001b[0;36m_wrapreduction\u001b[0;34m(obj, ufunc, method, axis, dtype, out, **kwargs)\u001b[0m\n\u001b[1;32m     88\u001b[0m                 \u001b[0;32mreturn\u001b[0m \u001b[0mreduction\u001b[0m\u001b[0;34m(\u001b[0m\u001b[0maxis\u001b[0m\u001b[0;34m=\u001b[0m\u001b[0maxis\u001b[0m\u001b[0;34m,\u001b[0m \u001b[0mout\u001b[0m\u001b[0;34m=\u001b[0m\u001b[0mout\u001b[0m\u001b[0;34m,\u001b[0m \u001b[0;34m**\u001b[0m\u001b[0mpasskwargs\u001b[0m\u001b[0;34m)\u001b[0m\u001b[0;34m\u001b[0m\u001b[0;34m\u001b[0m\u001b[0m\n\u001b[1;32m     89\u001b[0m \u001b[0;34m\u001b[0m\u001b[0m\n\u001b[0;32m---> 90\u001b[0;31m     \u001b[0;32mreturn\u001b[0m \u001b[0mufunc\u001b[0m\u001b[0;34m.\u001b[0m\u001b[0mreduce\u001b[0m\u001b[0;34m(\u001b[0m\u001b[0mobj\u001b[0m\u001b[0;34m,\u001b[0m \u001b[0maxis\u001b[0m\u001b[0;34m,\u001b[0m \u001b[0mdtype\u001b[0m\u001b[0;34m,\u001b[0m \u001b[0mout\u001b[0m\u001b[0;34m,\u001b[0m \u001b[0;34m**\u001b[0m\u001b[0mpasskwargs\u001b[0m\u001b[0;34m)\u001b[0m\u001b[0;34m\u001b[0m\u001b[0;34m\u001b[0m\u001b[0m\n\u001b[0m\u001b[1;32m     91\u001b[0m \u001b[0;34m\u001b[0m\u001b[0m\n\u001b[1;32m     92\u001b[0m \u001b[0;34m\u001b[0m\u001b[0m\n",
        "\u001b[0;31mTypeError\u001b[0m: cannot perform reduce with flexible type"
       ]
      }
     ],
     "persistentId": "9939f76b-a6b5-413b-80e7-8595aab7f804",
     "text": "np.max(\"a\")"
    },
    "executionTime": "2020-01-16T23:40:18.853Z"
   },
   {
    "cell": {
     "executionCount": 7,
     "executionEventId": "9599cb67-a2db-46f6-be7c-53c9793aa3a6",
     "hasError": false,
     "id": "94266888-df41-4647-aa4d-d2a3eedcdfc6",
     "outputs": [],
     "persistentId": "23f17423-b7db-427a-9453-8e1a5b0215ea",
     "text": "%matplotlib inline\n%config InlineBackend.figure_format='retina'\n\nimport pandas as pd\nimport matplotlib.pyplot as plt\nimport seaborn as sns\nimport os\nfrom pivottablejs import pivot_ui\nimport sys\nimport warnings\n\nwarnings.filterwarnings(\"ignore\")"
    },
    "executionTime": "2020-01-16T23:40:46.138Z"
   },
   {
    "cell": {
     "executionCount": 8,
     "executionEventId": "96a9bed7-3dd3-450b-8b2a-9dc54b1ab5f9",
     "hasError": false,
     "id": "3d7f8785-1fd0-48dd-8828-b90b06be9575",
     "outputs": [],
     "persistentId": "ea0e37d6-44e2-411f-9da8-5b9c4dba6afe",
     "text": "first = 1\n\nsecond = 2\n\nthird = 3"
    },
    "executionTime": "2020-01-16T23:42:21.525Z"
   },
   {
    "cell": {
     "executionCount": 9,
     "executionEventId": "74cfdc12-2624-49aa-866b-dc6948b3905e",
     "hasError": false,
     "id": "40d870aa-e8a9-4312-82aa-b1d2f15a127c",
     "outputs": [
      {
       "name": "stdout",
       "output_type": "stream",
       "text": "oops\n"
      }
     ],
     "persistentId": "102e56e1-93e0-423e-954a-24219e24e734",
     "text": "print(\"oops\")"
    },
    "executionTime": "2020-01-16T23:44:05.622Z"
   },
   {
    "cell": {
     "executionCount": 10,
     "executionEventId": "77b30125-dc61-4f07-95e3-fee524fc9294",
     "hasError": false,
     "id": "07ee34cf-201c-4f08-9c3b-2ef7985c260f",
     "outputs": [],
     "persistentId": "646cd755-8c22-4efe-9f37-4629e03fc41d",
     "text": "# df = pd.read_csv(\"../data/mps.csv\", encoding=\"ISO-8859-1\")\n# canadian_politics = pd.read_csv(\"../data/montreal_2014.csv\",)\ncanadian_politics = pd.read_csv(\"../data/mps2.csv\")"
    },
    "executionTime": "2020-01-16T23:45:11.924Z"
   },
   {
    "cell": {
     "executionCount": 11,
     "executionEventId": "ccf83d93-03aa-4e49-90ce-7e797e3e6fe1",
     "hasError": false,
     "id": "9545ef3c-d2df-410b-acae-d5dbe50bc5e7",
     "outputs": [
      {
       "data": {
        "text/html": "<div>\n<style scoped>\n    .dataframe tbody tr th:only-of-type {\n        vertical-align: middle;\n    }\n\n    .dataframe tbody tr th {\n        vertical-align: top;\n    }\n\n    .dataframe thead th {\n        text-align: right;\n    }\n</style>\n<table border=\"1\" class=\"dataframe\">\n  <thead>\n    <tr style=\"text-align: right;\">\n      <th></th>\n      <th>Name</th>\n      <th>Party</th>\n      <th>Province</th>\n      <th>Age</th>\n      <th>Gender</th>\n    </tr>\n  </thead>\n  <tbody>\n    <tr>\n      <th>0</th>\n      <td>Liu, Laurin</td>\n      <td>NDP</td>\n      <td>Quebec</td>\n      <td>22.0</td>\n      <td>Female</td>\n    </tr>\n    <tr>\n      <th>1</th>\n      <td>Mourani, Maria</td>\n      <td>Bloc Quebecois</td>\n      <td>Quebec</td>\n      <td>43.0</td>\n      <td>Female</td>\n    </tr>\n    <tr>\n      <th>2</th>\n      <td>Sellah, Djaouida</td>\n      <td>NDP</td>\n      <td>Quebec</td>\n      <td>NaN</td>\n      <td>Female</td>\n    </tr>\n    <tr>\n      <th>3</th>\n      <td>St-Denis, Lise</td>\n      <td>NDP</td>\n      <td>Quebec</td>\n      <td>72.0</td>\n      <td>Female</td>\n    </tr>\n    <tr>\n      <th>4</th>\n      <td>Fry, Hedy</td>\n      <td>Liberal</td>\n      <td>British Columbia</td>\n      <td>71.0</td>\n      <td>Female</td>\n    </tr>\n    <tr>\n      <th>5</th>\n      <td>Turmel, Nycole</td>\n      <td>NDP</td>\n      <td>Quebec</td>\n      <td>70.0</td>\n      <td>Female</td>\n    </tr>\n    <tr>\n      <th>6</th>\n      <td>Sgro, Judy</td>\n      <td>Liberal</td>\n      <td>Ontario</td>\n      <td>68.0</td>\n      <td>Female</td>\n    </tr>\n    <tr>\n      <th>7</th>\n      <td>Raynault, Francine</td>\n      <td>NDP</td>\n      <td>Quebec</td>\n      <td>67.0</td>\n      <td>Female</td>\n    </tr>\n    <tr>\n      <th>8</th>\n      <td>Davidson, Patricia</td>\n      <td>Conservative</td>\n      <td>Ontario</td>\n      <td>66.0</td>\n      <td>Female</td>\n    </tr>\n    <tr>\n      <th>9</th>\n      <td>Smith, Joy</td>\n      <td>Conservative</td>\n      <td>Manitoba</td>\n      <td>65.0</td>\n      <td>Female</td>\n    </tr>\n  </tbody>\n</table>\n</div>",
        "text/plain": "                 Name           Party          Province   Age  Gender\n0         Liu, Laurin             NDP            Quebec  22.0  Female\n1      Mourani, Maria  Bloc Quebecois            Quebec  43.0  Female\n2    Sellah, Djaouida             NDP            Quebec   NaN  Female\n3      St-Denis, Lise             NDP            Quebec  72.0  Female\n4           Fry, Hedy         Liberal  British Columbia  71.0  Female\n5      Turmel, Nycole             NDP            Quebec  70.0  Female\n6          Sgro, Judy         Liberal           Ontario  68.0  Female\n7  Raynault, Francine             NDP            Quebec  67.0  Female\n8  Davidson, Patricia    Conservative           Ontario  66.0  Female\n9          Smith, Joy    Conservative          Manitoba  65.0  Female"
       },
       "execution_count": 11,
       "metadata": {},
       "output_type": "execute_result"
      }
     ],
     "persistentId": "eb2f750c-1142-4f82-bb4a-b24e13bf5652",
     "text": "# recommend using .head()\ncanadian_politics.head(10)"
    },
    "executionTime": "2020-01-16T23:45:19.381Z"
   },
   {
    "cell": {
     "executionCount": 12,
     "executionEventId": "77feffb5-c383-40aa-b626-f3d857520416",
     "hasError": false,
     "id": "a8ce122b-a5e8-4205-8a02-112d3510e4b0",
     "outputs": [
      {
       "data": {
        "image/png": "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\n",
        "text/plain": "<Figure size 432x288 with 1 Axes>"
       },
       "metadata": {
        "image/png": {
         "height": 261,
         "width": 390
        },
        "needs_background": "light"
       },
       "output_type": "display_data"
      }
     ],
     "persistentId": "e69366c4-06ab-480c-9517-27a92536a7f3",
     "text": "sns.distplot(canadian_politics[\"Age\"].dropna());"
    },
    "executionTime": "2020-01-16T23:45:46.823Z"
   },
   {
    "cell": {
     "executionCount": 13,
     "executionEventId": "cbfad4e4-446b-4276-a3a3-6dd139b1cedb",
     "hasError": false,
     "id": "829dda81-c35a-4ea6-8602-181bd19dbf50",
     "outputs": [],
     "persistentId": "07d985ae-a47f-4486-8877-71e9529824de",
     "text": "sns.set_context(\"poster\", font_scale=1.3)"
    },
    "executionTime": "2020-01-16T23:47:10.277Z"
   },
   {
    "cell": {
     "executionCount": 14,
     "executionEventId": "11a74667-0238-4f5f-9856-5c7edd7101de",
     "hasError": false,
     "id": "fde72b11-d2ae-4d67-93ef-9e86d7533b67",
     "outputs": [
      {
       "data": {
        "image/png": "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\n",
        "text/plain": "<Figure size 864x576 with 1 Axes>"
       },
       "metadata": {
        "image/png": {
         "height": 521,
         "width": 810
        },
        "needs_background": "light"
       },
       "output_type": "display_data"
      }
     ],
     "persistentId": "dea1274f-c2fa-4fce-b2ff-864248c03b86",
     "text": "fig, ax = plt.subplots(figsize=(12, 8))\nsns.distplot(canadian_politics[\"Age\"].dropna())\nfig.tight_layout()"
    },
    "executionTime": "2020-01-16T23:47:11.378Z"
   },
   {
    "cell": {
     "executionCount": 15,
     "executionEventId": "afc58155-ae00-4c26-8393-f0b7f10a3622",
     "hasError": false,
     "id": "1cbb066a-4891-4e5f-a9c5-f4d84e1e03f8",
     "outputs": [
      {
       "data": {
        "text/html": "\n        <iframe\n            width=\"100%\"\n            height=\"500\"\n            src=\"pivottablejs.html\"\n            frameborder=\"0\"\n            allowfullscreen\n        ></iframe>\n        ",
        "text/plain": "<IPython.lib.display.IFrame at 0x1266a6898>"
       },
       "execution_count": 15,
       "metadata": {},
       "output_type": "execute_result"
      }
     ],
     "persistentId": "b39539b8-5424-4347-85b6-f7573dc8ae03",
     "text": "pivot_ui(canadian_politics)"
    },
    "executionTime": "2020-01-16T23:51:33.378Z"
   },
   {
    "cell": {
     "executionCount": 16,
     "executionEventId": "d5ea25c6-0246-4f68-865a-9a672acc7450",
     "hasError": false,
     "id": "00f08e07-04f9-4648-ac29-8f407fbb2807",
     "outputs": [],
     "persistentId": "dbd0b1e0-cd72-4b92-b371-048bb040b2ec",
     "text": "canadian_politics['Age-bin'] = pd.cut(canadian_politics['Age'], [x for x in range(10, 100, 5)])"
    },
    "executionTime": "2020-01-16T23:58:25.930Z"
   },
   {
    "cell": {
     "executionCount": 17,
     "executionEventId": "42c7e3a8-9df7-47e6-9a6c-3528de0fb2f8",
     "hasError": false,
     "id": "1cbb066a-4891-4e5f-a9c5-f4d84e1e03f8",
     "outputs": [
      {
       "data": {
        "text/html": "\n        <iframe\n            width=\"100%\"\n            height=\"500\"\n            src=\"pivottablejs.html\"\n            frameborder=\"0\"\n            allowfullscreen\n        ></iframe>\n        ",
        "text/plain": "<IPython.lib.display.IFrame at 0x126255748>"
       },
       "execution_count": 17,
       "metadata": {},
       "output_type": "execute_result"
      }
     ],
     "persistentId": "b39539b8-5424-4347-85b6-f7573dc8ae03",
     "text": "pivot_ui(canadian_politics)"
    },
    "executionTime": "2020-01-16T23:58:29.557Z"
   },
   {
    "cell": {
     "executionCount": 18,
     "executionEventId": "65217e32-f1d6-4b2d-b09a-ad0c6f88d12a",
     "hasError": false,
     "id": "6a029235-033e-4eb6-ac5d-7f3512d73670",
     "outputs": [
      {
       "data": {
        "text/html": "<div>\n<style scoped>\n    .dataframe tbody tr th:only-of-type {\n        vertical-align: middle;\n    }\n\n    .dataframe tbody tr th {\n        vertical-align: top;\n    }\n\n    .dataframe thead th {\n        text-align: right;\n    }\n</style>\n<table border=\"1\" class=\"dataframe\">\n  <thead>\n    <tr style=\"text-align: right;\">\n      <th></th>\n      <th>Gender</th>\n      <th>Unnamed: 1</th>\n      <th>(20.0, 25.0]</th>\n      <th>(25.0, 30.0]</th>\n      <th>(30.0, 35.0]</th>\n      <th>(35.0, 40.0]</th>\n      <th>(40.0, 45.0]</th>\n      <th>(45.0, 50.0]</th>\n      <th>(50.0, 55.0]</th>\n      <th>(55.0, 60.0]</th>\n      <th>(60.0, 65.0]</th>\n      <th>(65.0, 70.0]</th>\n      <th>(70.0, 75.0]</th>\n    </tr>\n  </thead>\n  <tbody>\n    <tr>\n      <th>0</th>\n      <td>Female</td>\n      <td>2</td>\n      <td>4</td>\n      <td>10</td>\n      <td>3</td>\n      <td>3</td>\n      <td>6</td>\n      <td>8</td>\n      <td>12</td>\n      <td>13</td>\n      <td>8</td>\n      <td>4</td>\n      <td>2</td>\n    </tr>\n    <tr>\n      <th>1</th>\n      <td>Male</td>\n      <td>1</td>\n      <td>2</td>\n      <td>2</td>\n      <td>8</td>\n      <td>22</td>\n      <td>30</td>\n      <td>44</td>\n      <td>29</td>\n      <td>42</td>\n      <td>34</td>\n      <td>14</td>\n      <td>5</td>\n    </tr>\n  </tbody>\n</table>\n</div>",
        "text/plain": "   Gender  Unnamed: 1  (20.0, 25.0]  (25.0, 30.0]  (30.0, 35.0]  (35.0, 40.0]  \\\n0  Female           2             4            10             3             3   \n1    Male           1             2             2             8            22   \n\n   (40.0, 45.0]  (45.0, 50.0]  (50.0, 55.0]  (55.0, 60.0]  (60.0, 65.0]  \\\n0             6             8            12            13             8   \n1            30            44            29            42            34   \n\n   (65.0, 70.0]  (70.0, 75.0]  \n0             4             2  \n1            14             5  "
       },
       "execution_count": 18,
       "metadata": {},
       "output_type": "execute_result"
      }
     ],
     "persistentId": "080bc2d8-eab1-4f0c-8768-f040f26cbdce",
     "text": "pd.read_clipboard(sep='\\t')"
    },
    "executionTime": "2020-01-16T23:59:35.793Z"
   },
   {
    "cell": {
     "executionCount": 19,
     "executionEventId": "4b79df8c-b7ca-4910-be78-abe695ce56f6",
     "hasError": false,
     "id": "6a029235-033e-4eb6-ac5d-7f3512d73670",
     "outputs": [
      {
       "data": {
        "text/html": "<div>\n<style scoped>\n    .dataframe tbody tr th:only-of-type {\n        vertical-align: middle;\n    }\n\n    .dataframe tbody tr th {\n        vertical-align: top;\n    }\n\n    .dataframe thead th {\n        text-align: right;\n    }\n</style>\n<table border=\"1\" class=\"dataframe\">\n  <thead>\n    <tr style=\"text-align: right;\">\n      <th></th>\n      <th>Province</th>\n      <th>Female-Bloc Quebecois</th>\n      <th>Female-Conservative</th>\n      <th>Female-Green</th>\n      <th>Female-Liberal</th>\n      <th>Female-NDP</th>\n      <th>Male-Bloc Quebecois</th>\n      <th>Male-Conservative</th>\n      <th>Male-Liberal</th>\n      <th>Male-NDP</th>\n    </tr>\n  </thead>\n  <tbody>\n    <tr>\n      <th>0</th>\n      <td>Alberta</td>\n      <td>NaN</td>\n      <td>4.0</td>\n      <td>NaN</td>\n      <td>NaN</td>\n      <td>1.0</td>\n      <td>NaN</td>\n      <td>23.0</td>\n      <td>NaN</td>\n      <td>NaN</td>\n    </tr>\n    <tr>\n      <th>1</th>\n      <td>British Columbia</td>\n      <td>NaN</td>\n      <td>5.0</td>\n      <td>1.0</td>\n      <td>2.0</td>\n      <td>3.0</td>\n      <td>NaN</td>\n      <td>16.0</td>\n      <td>NaN</td>\n      <td>9.0</td>\n    </tr>\n    <tr>\n      <th>2</th>\n      <td>Manitoba</td>\n      <td>NaN</td>\n      <td>4.0</td>\n      <td>NaN</td>\n      <td>NaN</td>\n      <td>1.0</td>\n      <td>NaN</td>\n      <td>7.0</td>\n      <td>1.0</td>\n      <td>1.0</td>\n    </tr>\n    <tr>\n      <th>3</th>\n      <td>New Brunswick</td>\n      <td>NaN</td>\n      <td>1.0</td>\n      <td>NaN</td>\n      <td>NaN</td>\n      <td>NaN</td>\n      <td>NaN</td>\n      <td>7.0</td>\n      <td>1.0</td>\n      <td>1.0</td>\n    </tr>\n    <tr>\n      <th>4</th>\n      <td>Newfoundland and Labrador</td>\n      <td>NaN</td>\n      <td>NaN</td>\n      <td>NaN</td>\n      <td>1.0</td>\n      <td>NaN</td>\n      <td>NaN</td>\n      <td>1.0</td>\n      <td>3.0</td>\n      <td>2.0</td>\n    </tr>\n    <tr>\n      <th>5</th>\n      <td>Nova Scotia</td>\n      <td>NaN</td>\n      <td>NaN</td>\n      <td>NaN</td>\n      <td>NaN</td>\n      <td>1.0</td>\n      <td>NaN</td>\n      <td>4.0</td>\n      <td>4.0</td>\n      <td>2.0</td>\n    </tr>\n    <tr>\n      <th>6</th>\n      <td>Ontario</td>\n      <td>NaN</td>\n      <td>10.0</td>\n      <td>NaN</td>\n      <td>3.0</td>\n      <td>6.0</td>\n      <td>NaN</td>\n      <td>63.0</td>\n      <td>8.0</td>\n      <td>16.0</td>\n    </tr>\n    <tr>\n      <th>7</th>\n      <td>Prince Edward Island</td>\n      <td>NaN</td>\n      <td>1.0</td>\n      <td>NaN</td>\n      <td>NaN</td>\n      <td>NaN</td>\n      <td>NaN</td>\n      <td>NaN</td>\n      <td>3.0</td>\n      <td>NaN</td>\n    </tr>\n    <tr>\n      <th>8</th>\n      <td>Quebec</td>\n      <td>1.0</td>\n      <td>NaN</td>\n      <td>NaN</td>\n      <td>NaN</td>\n      <td>27.0</td>\n      <td>3.0</td>\n      <td>5.0</td>\n      <td>7.0</td>\n      <td>32.0</td>\n    </tr>\n    <tr>\n      <th>9</th>\n      <td>Saskatchewan</td>\n      <td>NaN</td>\n      <td>2.0</td>\n      <td>NaN</td>\n      <td>NaN</td>\n      <td>NaN</td>\n      <td>NaN</td>\n      <td>11.0</td>\n      <td>1.0</td>\n      <td>NaN</td>\n    </tr>\n    <tr>\n      <th>10</th>\n      <td>Territories</td>\n      <td>NaN</td>\n      <td>1.0</td>\n      <td>NaN</td>\n      <td>NaN</td>\n      <td>NaN</td>\n      <td>NaN</td>\n      <td>1.0</td>\n      <td>NaN</td>\n      <td>1.0</td>\n    </tr>\n  </tbody>\n</table>\n</div>",
        "text/plain": "                     Province  Female-Bloc Quebecois  Female-Conservative  \\\n0                     Alberta                    NaN                  4.0   \n1            British Columbia                    NaN                  5.0   \n2                    Manitoba                    NaN                  4.0   \n3               New Brunswick                    NaN                  1.0   \n4   Newfoundland and Labrador                    NaN                  NaN   \n5                 Nova Scotia                    NaN                  NaN   \n6                     Ontario                    NaN                 10.0   \n7        Prince Edward Island                    NaN                  1.0   \n8                      Quebec                    1.0                  NaN   \n9                Saskatchewan                    NaN                  2.0   \n10                Territories                    NaN                  1.0   \n\n    Female-Green  Female-Liberal  Female-NDP  Male-Bloc Quebecois  \\\n0            NaN             NaN         1.0                  NaN   \n1            1.0             2.0         3.0                  NaN   \n2            NaN             NaN         1.0                  NaN   \n3            NaN             NaN         NaN                  NaN   \n4            NaN             1.0         NaN                  NaN   \n5            NaN             NaN         1.0                  NaN   \n6            NaN             3.0         6.0                  NaN   \n7            NaN             NaN         NaN                  NaN   \n8            NaN             NaN        27.0                  3.0   \n9            NaN             NaN         NaN                  NaN   \n10           NaN             NaN         NaN                  NaN   \n\n    Male-Conservative  Male-Liberal  Male-NDP  \n0                23.0           NaN       NaN  \n1                16.0           NaN       9.0  \n2                 7.0           1.0       1.0  \n3                 7.0           1.0       1.0  \n4                 1.0           3.0       2.0  \n5                 4.0           4.0       2.0  \n6                63.0           8.0      16.0  \n7                 NaN           3.0       NaN  \n8                 5.0           7.0      32.0  \n9                11.0           1.0       NaN  \n10                1.0           NaN       1.0  "
       },
       "execution_count": 19,
       "metadata": {},
       "output_type": "execute_result"
      }
     ],
     "persistentId": "080bc2d8-eab1-4f0c-8768-f040f26cbdce",
     "text": "pd.read_clipboard(sep='\\t')"
    },
    "executionTime": "2020-01-17T00:00:13.409Z"
   },
   {
    "cell": {
     "executionCount": 20,
     "executionEventId": "3eb6bfac-a0c1-4a10-be91-7b9f2c65cbcc",
     "hasError": false,
     "id": "af0451be-643b-483e-ac70-065a17335bc0",
     "outputs": [],
     "persistentId": "ffc60d8b-1163-467f-a3d6-3c8bd704e21f",
     "text": "import numpy as np"
    },
    "executionTime": "2020-01-17T00:01:20.207Z"
   },
   {
    "cell": {
     "executionCount": 21,
     "executionEventId": "51112216-2a9c-4668-bde4-6a31cc3ed23e",
     "hasError": false,
     "id": "650d9901-e30c-4cdd-99fa-19e643a2d17c",
     "outputs": [],
     "persistentId": "e9b419f0-bd28-49f6-8c96-6cbe3e5739de",
     "text": "from numpy.random import chisquare"
    },
    "executionTime": "2020-01-17T00:01:21.217Z"
   },
   {
    "cell": {
     "executionCount": 22,
     "executionEventId": "7c110deb-2cab-439b-a20d-44b187f78b24",
     "hasError": false,
     "id": "650d9901-e30c-4cdd-99fa-19e643a2d17c",
     "outputs": [],
     "persistentId": "e9b419f0-bd28-49f6-8c96-6cbe3e5739de",
     "text": "from numpy.random import choice, chisquare"
    },
    "executionTime": "2020-01-17T00:01:38.193Z"
   },
   {
    "cell": {
     "executionCount": 23,
     "executionEventId": "349bd1d8-0016-4263-a538-a9b2e90edba5",
     "hasError": true,
     "id": "cedab7ee-f867-4e50-a78e-14199288411b",
     "outputs": [
      {
       "ename": "SyntaxError",
       "evalue": "keyword argument repeated (<ipython-input-23-efc32a7c2f4c>, line 2)",
       "output_type": "error",
       "traceback": [
        "\u001b[0;36m  File \u001b[0;32m\"<ipython-input-23-efc32a7c2f4c>\"\u001b[0;36m, line \u001b[0;32m2\u001b[0m\n\u001b[0;31m    np.linspace(start=50, endpoint=False, stop=100, endpoint=False)\u001b[0m\n\u001b[0m                                                   ^\u001b[0m\n\u001b[0;31mSyntaxError\u001b[0m\u001b[0;31m:\u001b[0m keyword argument repeated\n"
       ]
      }
     ],
     "persistentId": "e168be3c-422d-45b4-900a-6ee471fe39c2",
     "text": "# shift-tab right ↓ more useful\nnp.linspace(start=50, endpoint=False, stop=100, endpoint=False)"
    },
    "executionTime": "2020-01-17T00:02:29.998Z"
   },
   {
    "cell": {
     "executionCount": 24,
     "executionEventId": "39b6fb50-ffcd-41b6-917d-afd9992666f8",
     "hasError": false,
     "id": "cedab7ee-f867-4e50-a78e-14199288411b",
     "outputs": [
      {
       "data": {
        "text/plain": "array([50., 51., 52., 53., 54., 55., 56., 57., 58., 59., 60., 61., 62.,\n       63., 64., 65., 66., 67., 68., 69., 70., 71., 72., 73., 74., 75.,\n       76., 77., 78., 79., 80., 81., 82., 83., 84., 85., 86., 87., 88.,\n       89., 90., 91., 92., 93., 94., 95., 96., 97., 98., 99.])"
       },
       "execution_count": 24,
       "metadata": {},
       "output_type": "execute_result"
      }
     ],
     "persistentId": "e168be3c-422d-45b4-900a-6ee471fe39c2",
     "text": "# shift-tab right ↓ more useful\nnp.linspace(start=50, stop=100, endpoint=False)"
    },
    "executionTime": "2020-01-17T00:02:34.657Z"
   },
   {
    "cell": {
     "executionCount": 1,
     "executionEventId": "3698fd05-45fb-4ca5-bf80-0816f34865e3",
     "hasError": false,
     "id": "bfcdbbd9-36d6-4a8c-b39f-f5eb668ffe92",
     "outputs": [],
     "persistentId": "5e98591e-08d0-4812-ba61-d0ecc428c08d",
     "text": "# code cell\nname = \"Jonathan\""
    },
    "executionTime": "2020-01-20T04:53:21.243Z"
   },
   {
    "cell": {
     "executionCount": 2,
     "executionEventId": "3594bd73-572e-4d77-8131-1ee8b788de2b",
     "hasError": false,
     "id": "a2c46a17-bfbb-49bd-ab41-c4110a091b6b",
     "outputs": [],
     "persistentId": "03635f66-daaa-47cf-bb74-883e8ce82c00",
     "text": "import numpy as np\n\n# don't do:\n# from numpy import *"
    },
    "executionTime": "2020-01-20T04:53:23.922Z"
   },
   {
    "cell": {
     "executionCount": 3,
     "executionEventId": "36464e57-4a52-4b9e-93cd-39c160a6dc9a",
     "hasError": false,
     "id": "bf0504a6-4ea5-4fcd-af2f-f0175de7a7d5",
     "outputs": [
      {
       "data": {
        "text/plain": "'a'"
       },
       "execution_count": 3,
       "metadata": {},
       "output_type": "execute_result"
      }
     ],
     "persistentId": "e41e09ce-28e8-437f-9e9e-676775bc5fce",
     "text": "max(\"a\")"
    },
    "executionTime": "2020-01-20T04:53:25.819Z"
   },
   {
    "cell": {
     "executionCount": 4,
     "executionEventId": "9bde99f0-122a-4548-979e-3714d27624b6",
     "hasError": true,
     "id": "c1512396-d34a-42bc-aba2-a2a07f97f7c7",
     "outputs": [
      {
       "ename": "TypeError",
       "evalue": "cannot perform reduce with flexible type",
       "output_type": "error",
       "traceback": [
        "\u001b[0;31m----------------------------------------------------------------------\u001b[0m",
        "\u001b[0;31mTypeError\u001b[0m                            Traceback (most recent call last)",
        "\u001b[0;32m<ipython-input-4-4005723e4b17>\u001b[0m in \u001b[0;36m<module>\u001b[0;34m\u001b[0m\n\u001b[0;32m----> 1\u001b[0;31m \u001b[0mnp\u001b[0m\u001b[0;34m.\u001b[0m\u001b[0mmax\u001b[0m\u001b[0;34m(\u001b[0m\u001b[0;34m\"a\"\u001b[0m\u001b[0;34m)\u001b[0m\u001b[0;34m\u001b[0m\u001b[0;34m\u001b[0m\u001b[0m\n\u001b[0m",
        "\u001b[0;32m<__array_function__ internals>\u001b[0m in \u001b[0;36mamax\u001b[0;34m(*args, **kwargs)\u001b[0m\n",
        "\u001b[0;32m~/miniconda3/envs/dspy3/lib/python3.6/site-packages/numpy/core/fromnumeric.py\u001b[0m in \u001b[0;36mamax\u001b[0;34m(a, axis, out, keepdims, initial, where)\u001b[0m\n\u001b[1;32m   2619\u001b[0m     \"\"\"\n\u001b[1;32m   2620\u001b[0m     return _wrapreduction(a, np.maximum, 'max', axis, None, out,\n\u001b[0;32m-> 2621\u001b[0;31m                           keepdims=keepdims, initial=initial, where=where)\n\u001b[0m\u001b[1;32m   2622\u001b[0m \u001b[0;34m\u001b[0m\u001b[0m\n\u001b[1;32m   2623\u001b[0m \u001b[0;34m\u001b[0m\u001b[0m\n",
        "\u001b[0;32m~/miniconda3/envs/dspy3/lib/python3.6/site-packages/numpy/core/fromnumeric.py\u001b[0m in \u001b[0;36m_wrapreduction\u001b[0;34m(obj, ufunc, method, axis, dtype, out, **kwargs)\u001b[0m\n\u001b[1;32m     88\u001b[0m                 \u001b[0;32mreturn\u001b[0m \u001b[0mreduction\u001b[0m\u001b[0;34m(\u001b[0m\u001b[0maxis\u001b[0m\u001b[0;34m=\u001b[0m\u001b[0maxis\u001b[0m\u001b[0;34m,\u001b[0m \u001b[0mout\u001b[0m\u001b[0;34m=\u001b[0m\u001b[0mout\u001b[0m\u001b[0;34m,\u001b[0m \u001b[0;34m**\u001b[0m\u001b[0mpasskwargs\u001b[0m\u001b[0;34m)\u001b[0m\u001b[0;34m\u001b[0m\u001b[0;34m\u001b[0m\u001b[0m\n\u001b[1;32m     89\u001b[0m \u001b[0;34m\u001b[0m\u001b[0m\n\u001b[0;32m---> 90\u001b[0;31m     \u001b[0;32mreturn\u001b[0m \u001b[0mufunc\u001b[0m\u001b[0;34m.\u001b[0m\u001b[0mreduce\u001b[0m\u001b[0;34m(\u001b[0m\u001b[0mobj\u001b[0m\u001b[0;34m,\u001b[0m \u001b[0maxis\u001b[0m\u001b[0;34m,\u001b[0m \u001b[0mdtype\u001b[0m\u001b[0;34m,\u001b[0m \u001b[0mout\u001b[0m\u001b[0;34m,\u001b[0m \u001b[0;34m**\u001b[0m\u001b[0mpasskwargs\u001b[0m\u001b[0;34m)\u001b[0m\u001b[0;34m\u001b[0m\u001b[0;34m\u001b[0m\u001b[0m\n\u001b[0m\u001b[1;32m     91\u001b[0m \u001b[0;34m\u001b[0m\u001b[0m\n\u001b[1;32m     92\u001b[0m \u001b[0;34m\u001b[0m\u001b[0m\n",
        "\u001b[0;31mTypeError\u001b[0m: cannot perform reduce with flexible type"
       ]
      }
     ],
     "persistentId": "9939f76b-a6b5-413b-80e7-8595aab7f804",
     "text": "np.max(\"a\")"
    },
    "executionTime": "2020-01-20T04:53:31.653Z"
   },
   {
    "cell": {
     "executionCount": 5,
     "executionEventId": "77561380-a286-472a-bf6d-53b6eb053337",
     "hasError": false,
     "id": "b345fe32-82f0-4abe-abcc-175550a194c4",
     "outputs": [],
     "persistentId": "23f17423-b7db-427a-9453-8e1a5b0215ea",
     "text": "%matplotlib inline\n%config InlineBackend.figure_format='retina'\n\nimport pandas as pd\nimport matplotlib.pyplot as plt\nimport seaborn as sns\nimport os\nfrom pivottablejs import pivot_ui\nimport sys\nimport warnings\n\nwarnings.filterwarnings(\"ignore\")"
    },
    "executionTime": "2020-01-20T04:53:39.884Z"
   },
   {
    "cell": {
     "executionCount": 6,
     "executionEventId": "5bc75f4d-888e-4909-9e28-748029e2d436",
     "hasError": false,
     "id": "851047c7-bd10-4a71-a4fb-7ff2536d3407",
     "outputs": [],
     "persistentId": "ea0e37d6-44e2-411f-9da8-5b9c4dba6afe",
     "text": "first = 1"
    },
    "executionTime": "2020-01-20T04:53:39.898Z"
   },
   {
    "cell": {
     "executionCount": 7,
     "executionEventId": "c1127457-308d-4696-8b33-4c28600fa036",
     "hasError": false,
     "id": "963a1aaf-a198-47da-8fef-48ad05ee7d5d",
     "outputs": [],
     "persistentId": "ea0e37d6-44e2-411f-9da8-5b9c4dba6afe",
     "text": "second = 2"
    },
    "executionTime": "2020-01-20T04:53:39.905Z"
   },
   {
    "cell": {
     "executionCount": 8,
     "executionEventId": "fcb96c88-5358-4551-b1b2-2d48d25e35c2",
     "hasError": false,
     "id": "57bbe263-7418-4c7d-86ca-58609cbf7047",
     "outputs": [],
     "persistentId": "ea0e37d6-44e2-411f-9da8-5b9c4dba6afe",
     "text": "third = 3"
    },
    "executionTime": "2020-01-20T04:53:39.922Z"
   },
   {
    "cell": {
     "executionCount": 9,
     "executionEventId": "feae431d-e0b8-4129-b5a1-44683a71f02e",
     "hasError": false,
     "id": "5082d0d3-371d-4c33-8092-a52902997023",
     "outputs": [],
     "persistentId": "646cd755-8c22-4efe-9f37-4629e03fc41d",
     "text": "# df = pd.read_csv(\"../data/mps.csv\", encoding=\"ISO-8859-1\")\n# canadian_politics = pd.read_csv(\"../data/montreal_2014.csv\",)\ncanadian_politics = pd.read_csv(\"../data/mps2.csv\")"
    },
    "executionTime": "2020-01-20T04:53:50.720Z"
   },
   {
    "cell": {
     "executionCount": 10,
     "executionEventId": "3bf0cb3a-6a47-4a70-93c3-5f2678de2f2f",
     "hasError": false,
     "id": "f63947f9-2358-4a55-b43c-43c5ca6da9c7",
     "outputs": [
      {
       "data": {
        "text/html": "<div>\n<style scoped>\n    .dataframe tbody tr th:only-of-type {\n        vertical-align: middle;\n    }\n\n    .dataframe tbody tr th {\n        vertical-align: top;\n    }\n\n    .dataframe thead th {\n        text-align: right;\n    }\n</style>\n<table border=\"1\" class=\"dataframe\">\n  <thead>\n    <tr style=\"text-align: right;\">\n      <th></th>\n      <th>Name</th>\n      <th>Party</th>\n      <th>Province</th>\n      <th>Age</th>\n      <th>Gender</th>\n    </tr>\n  </thead>\n  <tbody>\n    <tr>\n      <th>0</th>\n      <td>Liu, Laurin</td>\n      <td>NDP</td>\n      <td>Quebec</td>\n      <td>22.0</td>\n      <td>Female</td>\n    </tr>\n    <tr>\n      <th>1</th>\n      <td>Mourani, Maria</td>\n      <td>Bloc Quebecois</td>\n      <td>Quebec</td>\n      <td>43.0</td>\n      <td>Female</td>\n    </tr>\n    <tr>\n      <th>2</th>\n      <td>Sellah, Djaouida</td>\n      <td>NDP</td>\n      <td>Quebec</td>\n      <td>NaN</td>\n      <td>Female</td>\n    </tr>\n    <tr>\n      <th>3</th>\n      <td>St-Denis, Lise</td>\n      <td>NDP</td>\n      <td>Quebec</td>\n      <td>72.0</td>\n      <td>Female</td>\n    </tr>\n    <tr>\n      <th>4</th>\n      <td>Fry, Hedy</td>\n      <td>Liberal</td>\n      <td>British Columbia</td>\n      <td>71.0</td>\n      <td>Female</td>\n    </tr>\n    <tr>\n      <th>5</th>\n      <td>Turmel, Nycole</td>\n      <td>NDP</td>\n      <td>Quebec</td>\n      <td>70.0</td>\n      <td>Female</td>\n    </tr>\n    <tr>\n      <th>6</th>\n      <td>Sgro, Judy</td>\n      <td>Liberal</td>\n      <td>Ontario</td>\n      <td>68.0</td>\n      <td>Female</td>\n    </tr>\n    <tr>\n      <th>7</th>\n      <td>Raynault, Francine</td>\n      <td>NDP</td>\n      <td>Quebec</td>\n      <td>67.0</td>\n      <td>Female</td>\n    </tr>\n    <tr>\n      <th>8</th>\n      <td>Davidson, Patricia</td>\n      <td>Conservative</td>\n      <td>Ontario</td>\n      <td>66.0</td>\n      <td>Female</td>\n    </tr>\n    <tr>\n      <th>9</th>\n      <td>Smith, Joy</td>\n      <td>Conservative</td>\n      <td>Manitoba</td>\n      <td>65.0</td>\n      <td>Female</td>\n    </tr>\n  </tbody>\n</table>\n</div>",
        "text/plain": "                 Name           Party          Province   Age  Gender\n0         Liu, Laurin             NDP            Quebec  22.0  Female\n1      Mourani, Maria  Bloc Quebecois            Quebec  43.0  Female\n2    Sellah, Djaouida             NDP            Quebec   NaN  Female\n3      St-Denis, Lise             NDP            Quebec  72.0  Female\n4           Fry, Hedy         Liberal  British Columbia  71.0  Female\n5      Turmel, Nycole             NDP            Quebec  70.0  Female\n6          Sgro, Judy         Liberal           Ontario  68.0  Female\n7  Raynault, Francine             NDP            Quebec  67.0  Female\n8  Davidson, Patricia    Conservative           Ontario  66.0  Female\n9          Smith, Joy    Conservative          Manitoba  65.0  Female"
       },
       "execution_count": 10,
       "metadata": {},
       "output_type": "execute_result"
      }
     ],
     "persistentId": "eb2f750c-1142-4f82-bb4a-b24e13bf5652",
     "text": "# recommend using .head()\ncanadian_politics.head(10)"
    },
    "executionTime": "2020-01-20T04:53:51.494Z"
   },
   {
    "cell": {
     "executionCount": 11,
     "executionEventId": "06fa634a-482b-4edd-ba0f-62a9b00af5f8",
     "hasError": false,
     "id": "52e50b20-3097-4374-99c6-e100e7860f88",
     "outputs": [
      {
       "data": {
        "image/png": "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\n",
        "text/plain": "<Figure size 432x288 with 1 Axes>"
       },
       "metadata": {
        "image/png": {
         "height": 261,
         "width": 390
        },
        "needs_background": "light"
       },
       "output_type": "display_data"
      }
     ],
     "persistentId": "e69366c4-06ab-480c-9517-27a92536a7f3",
     "text": "sns.distplot(canadian_politics[\"Age\"].dropna());"
    },
    "executionTime": "2020-01-20T04:53:53.375Z"
   },
   {
    "cell": {
     "executionCount": 12,
     "executionEventId": "46322154-8a48-4806-9525-674536d939de",
     "hasError": false,
     "id": "81b77239-4735-4182-8c58-af8c5ea14140",
     "outputs": [],
     "persistentId": "07d985ae-a47f-4486-8877-71e9529824de",
     "text": "sns.set_context(\"poster\", font_scale=1.3)"
    },
    "executionTime": "2020-01-20T04:53:57.538Z"
   },
   {
    "cell": {
     "executionCount": 13,
     "executionEventId": "8402cb15-a04b-48d8-a281-7956f1716ca4",
     "hasError": false,
     "id": "55fec2a1-6764-493a-9b7f-65cf98976ed6",
     "outputs": [
      {
       "data": {
        "image/png": "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\n",
        "text/plain": "<Figure size 864x576 with 1 Axes>"
       },
       "metadata": {
        "image/png": {
         "height": 521,
         "width": 810
        },
        "needs_background": "light"
       },
       "output_type": "display_data"
      }
     ],
     "persistentId": "dea1274f-c2fa-4fce-b2ff-864248c03b86",
     "text": "fig, ax = plt.subplots(figsize=(12, 8))\nsns.distplot(canadian_politics[\"Age\"].dropna())\nfig.tight_layout()"
    },
    "executionTime": "2020-01-20T04:53:58.653Z"
   }
  ],
  "kernelspec": {
   "display_name": "dspy3",
   "language": "python",
   "name": "dspy3"
  },
  "language_info": {
   "codemirror_mode": {
    "name": "ipython",
    "version": 3
   },
   "file_extension": ".py",
   "mimetype": "text/x-python",
   "name": "python",
   "nbconvert_exporter": "python",
   "pygments_lexer": "ipython3",
   "version": "3.6.11"
  },
  "toc": {
   "base_numbering": 1,
   "nav_menu": {
    "height": "208px",
    "width": "252px"
   },
   "number_sections": true,
   "sideBar": true,
   "skip_h1_title": false,
   "title_cell": "Table of Contents",
   "title_sidebar": "Contents",
   "toc_cell": false,
   "toc_position": {},
   "toc_section_display": "block",
   "toc_window_display": false
  },
  "uuid": "1b548c03-be1a-47d4-bdd0-6e3a864845d1",
  "varInspector": {
   "cols": {
    "lenName": 16,
    "lenType": 16,
    "lenVar": 40
   },
   "kernels_config": {
    "python": {
     "delete_cmd_postfix": "",
     "delete_cmd_prefix": "del ",
     "library": "var_list.py",
     "varRefreshCmd": "print(var_dic_list())"
    },
    "r": {
     "delete_cmd_postfix": ") ",
     "delete_cmd_prefix": "rm(",
     "library": "var_list.r",
     "varRefreshCmd": "cat(var_dic_list()) "
    }
   },
   "position": {
    "height": "380.05px",
    "left": "974px",
    "right": "20px",
    "top": "172px",
    "width": "499.4px"
   },
   "types_to_exclude": [
    "module",
    "function",
    "builtin_function_or_method",
    "instance",
    "_Feature"
   ],
   "window_display": false
  },
  "widgets": {
   "state": {
    "1f2b33bdbf62410e92177b1ae2e22d0e": {
     "views": [
      {
       "cell_index": 9
      }
     ]
    }
   },
   "version": "1.2.0"
  }
 },
 "nbformat": 4,
 "nbformat_minor": 4
}
