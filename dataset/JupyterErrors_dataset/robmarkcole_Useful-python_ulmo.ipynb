{
 "cells": [
  {
   "cell_type": "markdown",
   "metadata": {},
   "source": [
    "From http://earthpy.org/ulmo.html\n",
    "\n",
    "**Task:**\n",
    "    \n",
    "    easy access to climatology data \n",
    "    \n",
    "**Solution:**\n",
    "    \n",
    "    ulmo\n",
    "    \n",
    "[**Notebook file**](http://nbviewer.ipython.org/urls/raw.github.com/koldunovn/earthpy.org/master/content/ulmo.ipynb)"
   ]
  },
  {
   "cell_type": "markdown",
   "metadata": {},
   "source": [
    "[Project ulmo](http://ulmo.readthedocs.org/en/latest/index.html) tries to provide \"clean, simple and fast access to public hydrology and climatology data\".\n",
    "\n",
    "They certainly now do more hydrology than climatology data, but for me there is also something interesting - historical measurements from meteorological stations. In the following I will give you an example of how to access those, so you get an idea of what ulmo is doing."
   ]
  },
  {
   "cell_type": "markdown",
   "metadata": {},
   "source": [
    "Nessesary preparations, as usual:"
   ]
  },
  {
   "cell_type": "code",
   "execution_count": 1,
   "metadata": {
    "collapsed": false
   },
   "outputs": [],
   "source": [
    "%matplotlib inline"
   ]
  },
  {
   "cell_type": "markdown",
   "metadata": {},
   "source": [
    "Installation is very simple with pip, but if you need development version, go to [githib repository](https://github.com/twdb/ulmo)."
   ]
  },
  {
   "cell_type": "code",
   "execution_count": 3,
   "metadata": {
    "collapsed": true
   },
   "outputs": [],
   "source": [
    "# !pip install ulmo"
   ]
  },
  {
   "cell_type": "markdown",
   "metadata": {},
   "source": [
    "Import ulmo and pandas (you already use pandas for data analysis, right? if not, you have to, go and read [this post](http://earthpy.org/pandas-basics.html) first)."
   ]
  },
  {
   "cell_type": "code",
   "execution_count": 4,
   "metadata": {
    "collapsed": false
   },
   "outputs": [
    {
     "name": "stderr",
     "output_type": "stream",
     "text": [
      "/Users/robincole/anaconda3/lib/python3.6/site-packages/ulmo/twc/kbdi/core.py:20: FutureWarning: pandas.tslib is deprecated and will be removed in a future version.\n",
      "You can access Timestamp as pandas.Timestamp\n",
      "  CSV_SWITCHOVER = pandas.tslib.Timestamp('2016-10-01')\n"
     ]
    }
   ],
   "source": [
    "import ulmo\n",
    "import pandas"
   ]
  },
  {
   "cell_type": "code",
   "execution_count": 16,
   "metadata": {
    "collapsed": false
   },
   "outputs": [],
   "source": [
    "st = ulmo.ncdc.ghcn_daily.get_stations(country='GM', as_dataframe=True)"
   ]
  },
  {
   "cell_type": "markdown",
   "metadata": {},
   "source": [
    "Now we have a nice table with information about all available Germany meteorological stations:"
   ]
  },
  {
   "cell_type": "code",
   "execution_count": 17,
   "metadata": {
    "collapsed": false
   },
   "outputs": [
    {
     "data": {
      "text/html": [
       "<div>\n",
       "<style scoped>\n",
       "    .dataframe tbody tr th:only-of-type {\n",
       "        vertical-align: middle;\n",
       "    }\n",
       "\n",
       "    .dataframe tbody tr th {\n",
       "        vertical-align: top;\n",
       "    }\n",
       "\n",
       "    .dataframe thead th {\n",
       "        text-align: right;\n",
       "    }\n",
       "</style>\n",
       "<table border=\"1\" class=\"dataframe\">\n",
       "  <thead>\n",
       "    <tr style=\"text-align: right;\">\n",
       "      <th></th>\n",
       "      <th>country</th>\n",
       "      <th>network</th>\n",
       "      <th>network_id</th>\n",
       "      <th>latitude</th>\n",
       "      <th>longitude</th>\n",
       "      <th>elevation</th>\n",
       "      <th>state</th>\n",
       "      <th>name</th>\n",
       "      <th>gsn_flag</th>\n",
       "      <th>hcn_flag</th>\n",
       "      <th>wm_oid</th>\n",
       "      <th>id</th>\n",
       "    </tr>\n",
       "    <tr>\n",
       "      <th>id</th>\n",
       "      <th></th>\n",
       "      <th></th>\n",
       "      <th></th>\n",
       "      <th></th>\n",
       "      <th></th>\n",
       "      <th></th>\n",
       "      <th></th>\n",
       "      <th></th>\n",
       "      <th></th>\n",
       "      <th></th>\n",
       "      <th></th>\n",
       "      <th></th>\n",
       "    </tr>\n",
       "  </thead>\n",
       "  <tbody>\n",
       "    <tr>\n",
       "      <th>GM000001153</th>\n",
       "      <td>GM</td>\n",
       "      <td>0</td>\n",
       "      <td>00001153</td>\n",
       "      <td>51.9506</td>\n",
       "      <td>7.5914</td>\n",
       "      <td>62.0</td>\n",
       "      <td>NaN</td>\n",
       "      <td>MUENSTER</td>\n",
       "      <td>NaN</td>\n",
       "      <td>NaN</td>\n",
       "      <td>10313</td>\n",
       "      <td>GM000001153</td>\n",
       "    </tr>\n",
       "    <tr>\n",
       "      <th>GM000001474</th>\n",
       "      <td>GM</td>\n",
       "      <td>0</td>\n",
       "      <td>00001474</td>\n",
       "      <td>53.1017</td>\n",
       "      <td>8.7842</td>\n",
       "      <td>4.0</td>\n",
       "      <td>NaN</td>\n",
       "      <td>BREMEN-SEEFAHRTSCHULE</td>\n",
       "      <td>NaN</td>\n",
       "      <td>NaN</td>\n",
       "      <td>10224</td>\n",
       "      <td>GM000001474</td>\n",
       "    </tr>\n",
       "    <tr>\n",
       "      <th>GM000002277</th>\n",
       "      <td>GM</td>\n",
       "      <td>0</td>\n",
       "      <td>00002277</td>\n",
       "      <td>49.7517</td>\n",
       "      <td>6.6467</td>\n",
       "      <td>144.0</td>\n",
       "      <td>NaN</td>\n",
       "      <td>TRIER</td>\n",
       "      <td>NaN</td>\n",
       "      <td>NaN</td>\n",
       "      <td>10609</td>\n",
       "      <td>GM000002277</td>\n",
       "    </tr>\n",
       "    <tr>\n",
       "      <th>GM000002288</th>\n",
       "      <td>GM</td>\n",
       "      <td>0</td>\n",
       "      <td>00002288</td>\n",
       "      <td>49.4253</td>\n",
       "      <td>7.7367</td>\n",
       "      <td>285.0</td>\n",
       "      <td>NaN</td>\n",
       "      <td>KAISERSLAUTERN</td>\n",
       "      <td>NaN</td>\n",
       "      <td>NaN</td>\n",
       "      <td>NaN</td>\n",
       "      <td>GM000002288</td>\n",
       "    </tr>\n",
       "    <tr>\n",
       "      <th>GM000002698</th>\n",
       "      <td>GM</td>\n",
       "      <td>0</td>\n",
       "      <td>00002698</td>\n",
       "      <td>49.0392</td>\n",
       "      <td>8.3650</td>\n",
       "      <td>112.0</td>\n",
       "      <td>NaN</td>\n",
       "      <td>KARLSRUHE</td>\n",
       "      <td>NaN</td>\n",
       "      <td>NaN</td>\n",
       "      <td>10727</td>\n",
       "      <td>GM000002698</td>\n",
       "    </tr>\n",
       "  </tbody>\n",
       "</table>\n",
       "</div>"
      ],
      "text/plain": [
       "            country network network_id  latitude  longitude  elevation state  \\\n",
       "id                                                                             \n",
       "GM000001153      GM       0   00001153   51.9506     7.5914       62.0   NaN   \n",
       "GM000001474      GM       0   00001474   53.1017     8.7842        4.0   NaN   \n",
       "GM000002277      GM       0   00002277   49.7517     6.6467      144.0   NaN   \n",
       "GM000002288      GM       0   00002288   49.4253     7.7367      285.0   NaN   \n",
       "GM000002698      GM       0   00002698   49.0392     8.3650      112.0   NaN   \n",
       "\n",
       "                              name gsn_flag hcn_flag wm_oid           id  \n",
       "id                                                                        \n",
       "GM000001153               MUENSTER      NaN      NaN  10313  GM000001153  \n",
       "GM000001474  BREMEN-SEEFAHRTSCHULE      NaN      NaN  10224  GM000001474  \n",
       "GM000002277                  TRIER      NaN      NaN  10609  GM000002277  \n",
       "GM000002288         KAISERSLAUTERN      NaN      NaN    NaN  GM000002288  \n",
       "GM000002698              KARLSRUHE      NaN      NaN  10727  GM000002698  "
      ]
     },
     "execution_count": 17,
     "metadata": {},
     "output_type": "execute_result"
    }
   ],
   "source": [
    "st.head()"
   ]
  },
  {
   "cell_type": "code",
   "execution_count": 18,
   "metadata": {
    "collapsed": false
   },
   "outputs": [
    {
     "data": {
      "text/html": [
       "<div>\n",
       "<style scoped>\n",
       "    .dataframe tbody tr th:only-of-type {\n",
       "        vertical-align: middle;\n",
       "    }\n",
       "\n",
       "    .dataframe tbody tr th {\n",
       "        vertical-align: top;\n",
       "    }\n",
       "\n",
       "    .dataframe thead th {\n",
       "        text-align: right;\n",
       "    }\n",
       "</style>\n",
       "<table border=\"1\" class=\"dataframe\">\n",
       "  <thead>\n",
       "    <tr style=\"text-align: right;\">\n",
       "      <th></th>\n",
       "      <th>country</th>\n",
       "      <th>network</th>\n",
       "      <th>network_id</th>\n",
       "      <th>latitude</th>\n",
       "      <th>longitude</th>\n",
       "      <th>elevation</th>\n",
       "      <th>state</th>\n",
       "      <th>name</th>\n",
       "      <th>gsn_flag</th>\n",
       "      <th>hcn_flag</th>\n",
       "      <th>wm_oid</th>\n",
       "      <th>id</th>\n",
       "    </tr>\n",
       "    <tr>\n",
       "      <th>id</th>\n",
       "      <th></th>\n",
       "      <th></th>\n",
       "      <th></th>\n",
       "      <th></th>\n",
       "      <th></th>\n",
       "      <th></th>\n",
       "      <th></th>\n",
       "      <th></th>\n",
       "      <th></th>\n",
       "      <th></th>\n",
       "      <th></th>\n",
       "      <th></th>\n",
       "    </tr>\n",
       "  </thead>\n",
       "  <tbody>\n",
       "    <tr>\n",
       "      <th>GM000003865</th>\n",
       "      <td>GM</td>\n",
       "      <td>0</td>\n",
       "      <td>00003865</td>\n",
       "      <td>53.4806</td>\n",
       "      <td>10.2428</td>\n",
       "      <td>35.0</td>\n",
       "      <td>NaN</td>\n",
       "      <td>HAMBURG BERGEDORF</td>\n",
       "      <td>NaN</td>\n",
       "      <td>NaN</td>\n",
       "      <td>NaN</td>\n",
       "      <td>GM000003865</td>\n",
       "    </tr>\n",
       "    <tr>\n",
       "      <th>GM000010147</th>\n",
       "      <td>GM</td>\n",
       "      <td>0</td>\n",
       "      <td>00010147</td>\n",
       "      <td>53.6350</td>\n",
       "      <td>9.9900</td>\n",
       "      <td>11.0</td>\n",
       "      <td>NaN</td>\n",
       "      <td>HAMBURG FUHLSBUETTEL</td>\n",
       "      <td>GSN</td>\n",
       "      <td>NaN</td>\n",
       "      <td>10147</td>\n",
       "      <td>GM000010147</td>\n",
       "    </tr>\n",
       "    <tr>\n",
       "      <th>GME00123250</th>\n",
       "      <td>GM</td>\n",
       "      <td>E</td>\n",
       "      <td>00123250</td>\n",
       "      <td>53.5614</td>\n",
       "      <td>9.9883</td>\n",
       "      <td>14.0</td>\n",
       "      <td>NaN</td>\n",
       "      <td>HAMBURG-BOTANISCHER GARTEN</td>\n",
       "      <td>NaN</td>\n",
       "      <td>NaN</td>\n",
       "      <td>NaN</td>\n",
       "      <td>GME00123250</td>\n",
       "    </tr>\n",
       "    <tr>\n",
       "      <th>GME00123262</th>\n",
       "      <td>GM</td>\n",
       "      <td>E</td>\n",
       "      <td>00123262</td>\n",
       "      <td>53.4228</td>\n",
       "      <td>10.1475</td>\n",
       "      <td>2.0</td>\n",
       "      <td>NaN</td>\n",
       "      <td>HAMBURG-KIRCHWERDER</td>\n",
       "      <td>NaN</td>\n",
       "      <td>NaN</td>\n",
       "      <td>NaN</td>\n",
       "      <td>GME00123262</td>\n",
       "    </tr>\n",
       "    <tr>\n",
       "      <th>GME00123274</th>\n",
       "      <td>GM</td>\n",
       "      <td>E</td>\n",
       "      <td>00123274</td>\n",
       "      <td>53.4792</td>\n",
       "      <td>9.8983</td>\n",
       "      <td>3.0</td>\n",
       "      <td>NaN</td>\n",
       "      <td>HAMBURG-NEUWIEDENTHAL</td>\n",
       "      <td>NaN</td>\n",
       "      <td>NaN</td>\n",
       "      <td>NaN</td>\n",
       "      <td>GME00123274</td>\n",
       "    </tr>\n",
       "    <tr>\n",
       "      <th>GME00123286</th>\n",
       "      <td>GM</td>\n",
       "      <td>E</td>\n",
       "      <td>00123286</td>\n",
       "      <td>53.4714</td>\n",
       "      <td>10.1817</td>\n",
       "      <td>1.0</td>\n",
       "      <td>NaN</td>\n",
       "      <td>HAMBURG-REITBROOK</td>\n",
       "      <td>NaN</td>\n",
       "      <td>NaN</td>\n",
       "      <td>NaN</td>\n",
       "      <td>GME00123286</td>\n",
       "    </tr>\n",
       "    <tr>\n",
       "      <th>GME00123298</th>\n",
       "      <td>GM</td>\n",
       "      <td>E</td>\n",
       "      <td>00123298</td>\n",
       "      <td>53.5481</td>\n",
       "      <td>9.9703</td>\n",
       "      <td>35.0</td>\n",
       "      <td>NaN</td>\n",
       "      <td>HAMBURG-SANKT PAULI</td>\n",
       "      <td>NaN</td>\n",
       "      <td>NaN</td>\n",
       "      <td>NaN</td>\n",
       "      <td>GME00123298</td>\n",
       "    </tr>\n",
       "    <tr>\n",
       "      <th>GME00123322</th>\n",
       "      <td>GM</td>\n",
       "      <td>E</td>\n",
       "      <td>00123322</td>\n",
       "      <td>53.5867</td>\n",
       "      <td>10.1306</td>\n",
       "      <td>18.0</td>\n",
       "      <td>NaN</td>\n",
       "      <td>HAMBURG-WANDSBEK</td>\n",
       "      <td>NaN</td>\n",
       "      <td>NaN</td>\n",
       "      <td>NaN</td>\n",
       "      <td>GME00123322</td>\n",
       "    </tr>\n",
       "  </tbody>\n",
       "</table>\n",
       "</div>"
      ],
      "text/plain": [
       "            country network network_id  latitude  longitude  elevation state  \\\n",
       "id                                                                             \n",
       "GM000003865      GM       0   00003865   53.4806    10.2428       35.0   NaN   \n",
       "GM000010147      GM       0   00010147   53.6350     9.9900       11.0   NaN   \n",
       "GME00123250      GM       E   00123250   53.5614     9.9883       14.0   NaN   \n",
       "GME00123262      GM       E   00123262   53.4228    10.1475        2.0   NaN   \n",
       "GME00123274      GM       E   00123274   53.4792     9.8983        3.0   NaN   \n",
       "GME00123286      GM       E   00123286   53.4714    10.1817        1.0   NaN   \n",
       "GME00123298      GM       E   00123298   53.5481     9.9703       35.0   NaN   \n",
       "GME00123322      GM       E   00123322   53.5867    10.1306       18.0   NaN   \n",
       "\n",
       "                                   name gsn_flag hcn_flag wm_oid           id  \n",
       "id                                                                             \n",
       "GM000003865           HAMBURG BERGEDORF      NaN      NaN    NaN  GM000003865  \n",
       "GM000010147        HAMBURG FUHLSBUETTEL      GSN      NaN  10147  GM000010147  \n",
       "GME00123250  HAMBURG-BOTANISCHER GARTEN      NaN      NaN    NaN  GME00123250  \n",
       "GME00123262         HAMBURG-KIRCHWERDER      NaN      NaN    NaN  GME00123262  \n",
       "GME00123274       HAMBURG-NEUWIEDENTHAL      NaN      NaN    NaN  GME00123274  \n",
       "GME00123286           HAMBURG-REITBROOK      NaN      NaN    NaN  GME00123286  \n",
       "GME00123298         HAMBURG-SANKT PAULI      NaN      NaN    NaN  GME00123298  \n",
       "GME00123322            HAMBURG-WANDSBEK      NaN      NaN    NaN  GME00123322  "
      ]
     },
     "execution_count": 18,
     "metadata": {},
     "output_type": "execute_result"
    }
   ],
   "source": [
    "st[st.name.str.contains('HAMBURG')]"
   ]
  },
  {
   "cell_type": "markdown",
   "metadata": {},
   "source": [
    "Getting the data is also very easy,. The only thing you need is the id of your station:"
   ]
  },
  {
   "cell_type": "code",
   "execution_count": 19,
   "metadata": {
    "collapsed": false
   },
   "outputs": [
    {
     "name": "stderr",
     "output_type": "stream",
     "text": [
      "/Users/robincole/anaconda3/lib/python3.6/site-packages/ulmo/ncdc/ghcn_daily/core.py:89: SettingWithCopyWarning: \n",
      "A value is trying to be set on a copy of a slice from a DataFrame.\n",
      "Try using .loc[row_indexer,col_indexer] = value instead\n",
      "\n",
      "See the caveats in the documentation: http://pandas.pydata.org/pandas-docs/stable/indexing.html#indexing-view-versus-copy\n",
      "  axis=1)\n"
     ]
    },
    {
     "ename": "AttributeError",
     "evalue": "'PeriodIndexResampler' object has no attribute 'index'",
     "output_type": "error",
     "traceback": [
      "\u001b[0;31m---------------------------------------------------------------------------\u001b[0m",
      "\u001b[0;31mAttributeError\u001b[0m                            Traceback (most recent call last)",
      "\u001b[0;32m<ipython-input-19-51a31bb3f3fa>\u001b[0m in \u001b[0;36m<module>\u001b[0;34m()\u001b[0m\n\u001b[0;32m----> 1\u001b[0;31m \u001b[0mdata\u001b[0m \u001b[0;34m=\u001b[0m \u001b[0mulmo\u001b[0m\u001b[0;34m.\u001b[0m\u001b[0mncdc\u001b[0m\u001b[0;34m.\u001b[0m\u001b[0mghcn_daily\u001b[0m\u001b[0;34m.\u001b[0m\u001b[0mget_data\u001b[0m\u001b[0;34m(\u001b[0m\u001b[0;34m'GM000010147'\u001b[0m\u001b[0;34m,\u001b[0m \u001b[0mas_dataframe\u001b[0m\u001b[0;34m=\u001b[0m\u001b[0;32mTrue\u001b[0m\u001b[0;34m)\u001b[0m\u001b[0;34m\u001b[0m\u001b[0m\n\u001b[0m",
      "\u001b[0;32m~/anaconda3/lib/python3.6/site-packages/ulmo/ncdc/ghcn_daily/core.py\u001b[0m in \u001b[0;36mget_data\u001b[0;34m(station_id, elements, update, as_dataframe)\u001b[0m\n\u001b[1;32m     93\u001b[0m         \u001b[0;31m# here we're just using pandas' builtin resample logic to construct a daily\u001b[0m\u001b[0;34m\u001b[0m\u001b[0;34m\u001b[0m\u001b[0m\n\u001b[1;32m     94\u001b[0m         \u001b[0;31m# index for the timespan\u001b[0m\u001b[0;34m\u001b[0m\u001b[0;34m\u001b[0m\u001b[0m\n\u001b[0;32m---> 95\u001b[0;31m         \u001b[0mdaily_index\u001b[0m \u001b[0;34m=\u001b[0m \u001b[0melement_df\u001b[0m\u001b[0;34m.\u001b[0m\u001b[0mresample\u001b[0m\u001b[0;34m(\u001b[0m\u001b[0;34m'D'\u001b[0m\u001b[0;34m)\u001b[0m\u001b[0;34m.\u001b[0m\u001b[0mindex\u001b[0m\u001b[0;34m.\u001b[0m\u001b[0mcopy\u001b[0m\u001b[0;34m(\u001b[0m\u001b[0;34m)\u001b[0m\u001b[0;34m\u001b[0m\u001b[0m\n\u001b[0m\u001b[1;32m     96\u001b[0m \u001b[0;34m\u001b[0m\u001b[0m\n\u001b[1;32m     97\u001b[0m         \u001b[0;31m# XXX: hackish; pandas support for this sort of thing will probably be\u001b[0m\u001b[0;34m\u001b[0m\u001b[0;34m\u001b[0m\u001b[0m\n",
      "\u001b[0;32m~/anaconda3/lib/python3.6/site-packages/pandas/core/resample.py\u001b[0m in \u001b[0;36m__getattr__\u001b[0;34m(self, attr)\u001b[0m\n\u001b[1;32m     95\u001b[0m             \u001b[0;32mreturn\u001b[0m \u001b[0mself\u001b[0m\u001b[0;34m[\u001b[0m\u001b[0mattr\u001b[0m\u001b[0;34m]\u001b[0m\u001b[0;34m\u001b[0m\u001b[0m\n\u001b[1;32m     96\u001b[0m \u001b[0;34m\u001b[0m\u001b[0m\n\u001b[0;32m---> 97\u001b[0;31m         \u001b[0;32mreturn\u001b[0m \u001b[0mobject\u001b[0m\u001b[0;34m.\u001b[0m\u001b[0m__getattribute__\u001b[0m\u001b[0;34m(\u001b[0m\u001b[0mself\u001b[0m\u001b[0;34m,\u001b[0m \u001b[0mattr\u001b[0m\u001b[0;34m)\u001b[0m\u001b[0;34m\u001b[0m\u001b[0m\n\u001b[0m\u001b[1;32m     98\u001b[0m \u001b[0;34m\u001b[0m\u001b[0m\n\u001b[1;32m     99\u001b[0m     \u001b[0;34m@\u001b[0m\u001b[0mproperty\u001b[0m\u001b[0;34m\u001b[0m\u001b[0m\n",
      "\u001b[0;31mAttributeError\u001b[0m: 'PeriodIndexResampler' object has no attribute 'index'"
     ]
    }
   ],
   "source": [
    "data = ulmo.ncdc.ghcn_daily.get_data('GM000010147', as_dataframe=True)"
   ]
  },
  {
   "cell_type": "markdown",
   "metadata": {},
   "source": [
    "This function returns dictionary with names of the variables as keys and pandas data frames with measurements as values:"
   ]
  },
  {
   "cell_type": "code",
   "execution_count": 15,
   "metadata": {
    "collapsed": false
   },
   "outputs": [
    {
     "ename": "NameError",
     "evalue": "name 'data' is not defined",
     "output_type": "error",
     "traceback": [
      "\u001b[0;31m---------------------------------------------------------------------------\u001b[0m",
      "\u001b[0;31mNameError\u001b[0m                                 Traceback (most recent call last)",
      "\u001b[0;32m<ipython-input-15-c5d84736ba45>\u001b[0m in \u001b[0;36m<module>\u001b[0;34m()\u001b[0m\n\u001b[0;32m----> 1\u001b[0;31m \u001b[0mdata\u001b[0m\u001b[0;34m\u001b[0m\u001b[0m\n\u001b[0m",
      "\u001b[0;31mNameError\u001b[0m: name 'data' is not defined"
     ]
    }
   ],
   "source": [
    "data"
   ]
  },
  {
   "cell_type": "markdown",
   "metadata": {},
   "source": [
    "Let's get maximum daily temperatures:"
   ]
  },
  {
   "cell_type": "code",
   "execution_count": 10,
   "metadata": {
    "collapsed": false
   },
   "outputs": [],
   "source": [
    "tm = data['TMAX'].copy()"
   ]
  },
  {
   "cell_type": "code",
   "execution_count": 11,
   "metadata": {
    "collapsed": false
   },
   "outputs": [
    {
     "data": {
      "text/html": [
       "<div style=\"max-height:1000px;max-width:1500px;overflow:auto;\">\n",
       "<table border=\"1\" class=\"dataframe\">\n",
       "  <thead>\n",
       "    <tr style=\"text-align: right;\">\n",
       "      <th></th>\n",
       "      <th>value</th>\n",
       "      <th>mflag</th>\n",
       "      <th>qflag</th>\n",
       "      <th>sflag</th>\n",
       "    </tr>\n",
       "  </thead>\n",
       "  <tbody>\n",
       "    <tr>\n",
       "      <th>1891-01-01</th>\n",
       "      <td>-72</td>\n",
       "      <td> NaN</td>\n",
       "      <td> NaN</td>\n",
       "      <td> E</td>\n",
       "    </tr>\n",
       "    <tr>\n",
       "      <th>1891-01-02</th>\n",
       "      <td>-43</td>\n",
       "      <td> NaN</td>\n",
       "      <td> NaN</td>\n",
       "      <td> E</td>\n",
       "    </tr>\n",
       "    <tr>\n",
       "      <th>1891-01-03</th>\n",
       "      <td>-32</td>\n",
       "      <td> NaN</td>\n",
       "      <td> NaN</td>\n",
       "      <td> E</td>\n",
       "    </tr>\n",
       "    <tr>\n",
       "      <th>1891-01-04</th>\n",
       "      <td> 12</td>\n",
       "      <td> NaN</td>\n",
       "      <td> NaN</td>\n",
       "      <td> E</td>\n",
       "    </tr>\n",
       "    <tr>\n",
       "      <th>1891-01-05</th>\n",
       "      <td>-29</td>\n",
       "      <td> NaN</td>\n",
       "      <td> NaN</td>\n",
       "      <td> E</td>\n",
       "    </tr>\n",
       "  </tbody>\n",
       "</table>\n",
       "</div>"
      ],
      "text/plain": [
       "           value mflag qflag sflag\n",
       "1891-01-01   -72   NaN   NaN     E\n",
       "1891-01-02   -43   NaN   NaN     E\n",
       "1891-01-03   -32   NaN   NaN     E\n",
       "1891-01-04    12   NaN   NaN     E\n",
       "1891-01-05   -29   NaN   NaN     E"
      ]
     },
     "execution_count": 11,
     "metadata": {},
     "output_type": "execute_result"
    }
   ],
   "source": [
    "tm.head()"
   ]
  },
  {
   "cell_type": "markdown",
   "metadata": {},
   "source": [
    "Values has to be divided by 10 in order to get degrees Celsius:"
   ]
  },
  {
   "cell_type": "code",
   "execution_count": 12,
   "metadata": {
    "collapsed": false
   },
   "outputs": [],
   "source": [
    "tm.value=tm.value/10.0"
   ]
  },
  {
   "cell_type": "markdown",
   "metadata": {},
   "source": [
    "Now you can plot the data, as you would usually do with pandas:"
   ]
  },
  {
   "cell_type": "code",
   "execution_count": 13,
   "metadata": {
    "collapsed": false
   },
   "outputs": [
    {
     "data": {
      "text/plain": [
       "<matplotlib.axes.AxesSubplot at 0xbc0e46c>"
      ]
     },
     "execution_count": 13,
     "metadata": {},
     "output_type": "execute_result"
    },
    {
     "data": {
      "image/png": "[encoded data removed]",
      "text/plain": [
       "<matplotlib.figure.Figure at 0xbbac96c>"
      ]
     },
     "metadata": {},
     "output_type": "display_data"
    }
   ],
   "source": [
    "tm['value']['1980':'2010'].plot()"
   ]
  },
  {
   "cell_type": "markdown",
   "metadata": {},
   "source": [
    "Or do some statistical analysis:"
   ]
  },
  {
   "cell_type": "code",
   "execution_count": 14,
   "metadata": {
    "collapsed": false
   },
   "outputs": [
    {
     "data": {
      "text/plain": [
       "<matplotlib.axes.AxesSubplot at 0xb544e6c>"
      ]
     },
     "execution_count": 14,
     "metadata": {},
     "output_type": "execute_result"
    },
    {
     "data": {
      "image/png": "[encoded data removed]",
      "text/plain": [
       "<matplotlib.figure.Figure at 0xcda5bec>"
      ]
     },
     "metadata": {},
     "output_type": "display_data"
    }
   ],
   "source": [
    "pandas.rolling_mean(tm.value, window=365).plot()"
   ]
  },
  {
   "cell_type": "markdown",
   "metadata": {},
   "source": [
    "Unfortunately something like\n",
    "\n",
    "    tm.value.resample('A')\n",
    "    \n",
    "will not work, since *value* have a type that pandas can't process in this case. We first have to convert *value* variable to float:"
   ]
  },
  {
   "cell_type": "code",
   "execution_count": 15,
   "metadata": {
    "collapsed": false
   },
   "outputs": [],
   "source": [
    "tm.value = tm.value.astype('float')"
   ]
  },
  {
   "cell_type": "markdown",
   "metadata": {},
   "source": [
    "Now it's working:"
   ]
  },
  {
   "cell_type": "code",
   "execution_count": 16,
   "metadata": {
    "collapsed": false
   },
   "outputs": [
    {
     "data": {
      "text/plain": [
       "<matplotlib.text.Text at 0xb3afcac>"
      ]
     },
     "execution_count": 16,
     "metadata": {},
     "output_type": "execute_result"
    },
    {
     "data": {
      "image/png": "[encoded data removed]",
      "text/plain": [
       "<matplotlib.figure.Figure at 0xbafd5ec>"
      ]
     },
     "metadata": {},
     "output_type": "display_data"
    }
   ],
   "source": [
    "tm['1950':'2012'].value.resample('A').plot()\n",
    "title('Annual mean daily maximum temperature in Hamburg')"
   ]
  },
  {
   "cell_type": "markdown",
   "metadata": {},
   "source": [
    "Now you know how to easily find meteo station and get it's data with ulmo. Maybe if you want data only for one station ulmo is not that useful, but when you begin to collect statistics about many stations, then it became very handy. If you use hydrological data you certainly has to give ulmo a try ([see list of supported data sets](http://ulmo.readthedocs.org/en/latest/index.html#api-reference)). Hopefully authors will continue development and add more data sources in future:)"
   ]
  },
  {
   "cell_type": "code",
   "execution_count": null,
   "metadata": {
    "collapsed": false
   },
   "outputs": [],
   "source": []
  }
 ],
 "metadata": {
  "Author": "Nikolay Koldunov",
  "Category": "Data processing",
  "Date": "2013-4-16",
  "Tags": "pandas, data analysis",
  "Title": "Climatology data access with ulmo",
  "kernelspec": {
   "display_name": "Python 3",
   "language": "python",
   "name": "python3"
  },
  "language_info": {
   "codemirror_mode": {
    "name": "ipython",
    "version": 3
   },
   "file_extension": ".py",
   "mimetype": "text/x-python",
   "name": "python",
   "nbconvert_exporter": "python",
   "pygments_lexer": "ipython3",
   "version": "3.6.5"
  },
  "slug": "ulmo"
 },
 "nbformat": 4,
 "nbformat_minor": 2
}
