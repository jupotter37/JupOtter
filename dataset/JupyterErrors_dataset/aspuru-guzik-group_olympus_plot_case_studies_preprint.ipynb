{
 "cells": [
  {
   "cell_type": "code",
   "execution_count": 2,
   "id": "aaa13a4f",
   "metadata": {},
   "outputs": [],
   "source": [
    "import pickle\n",
    "import numpy as np\n",
    "import pandas as pd\n",
    "import matplotlib.pyplot as plt\n",
    "import seaborn as sns\n",
    "# import plotly.express as px\n",
    "# import plotly.graph_objects as go\n",
    "\n",
    "import rdkit\n",
    "from rdkit import DataStructs\n",
    "import rdkit.Chem.AllChem as chem\n",
    "\n",
    "import olympus\n",
    "from olympus.datasets import Dataset\n",
    "from olympus.emulators import Emulator\n",
    "from olympus.campaigns import Campaign \n",
    "from olympus.scalarizers import Scalarizer\n",
    "from olympus.plotter import Plotter\n",
    "\n",
    "from olympus.utils.misc import get_hypervolume, get_pareto, get_pareto_set\n",
    "\n"
   ]
  },
  {
   "cell_type": "code",
   "execution_count": 3,
   "id": "dadc07f4",
   "metadata": {},
   "outputs": [],
   "source": [
    "# helper functions\n",
    "\n",
    "\n",
    "def get_single_traces(campaigns):\n",
    "    traces = []\n",
    "    for campaign in campaigns:\n",
    "        trace = campaign.best_values\n",
    "        assert trace.shape[1]==1\n",
    "        traces.append(trace)\n",
    "    return np.array(traces).squeeze(axis=-1)\n",
    "    \n",
    "\n",
    "def get_traces(campaigns, scalarizer, return_n_best_params=10):\n",
    "    traces = []\n",
    "    best_n_params = []\n",
    "    for campaign in campaigns:\n",
    "#         print(campaign.observations.get_values().shape)\n",
    "        values = campaign.observations.get_values()\n",
    "        params = campaign.observations.get_params()\n",
    "        scalarized = scalarizer.scalarize(values)\n",
    "        trace_best_idx = [np.argmin(scalarized[:i+1]) for i in range(len(scalarized))]\n",
    "        #instance_trace = []\n",
    "        trace0 = values[trace_best_idx, 0]\n",
    "        trace1 = values[trace_best_idx, 1]\n",
    "        trace2 = values[trace_best_idx, 2]\n",
    "        traces.append([trace0, trace1, trace2])\n",
    "        \n",
    "        sort_idx = np.argsort(scalarized)\n",
    "        best_n_params.append(list(params[sort_idx][:return_n_best_params]))\n",
    "        \n",
    "        \n",
    "    return np.array(traces), best_n_params\n",
    "\n",
    "\n",
    "def get_frac_top_k(campaigns, dataset, scalarizer, k):\n",
    "    ''' returns the fraction of tolerable candidates measuremd at each iteration\n",
    "    '''\n",
    "    traces = []\n",
    "    \n",
    "    values = dataset.targets.values\n",
    "    scalarized = scalarizer.scalarize(values)\n",
    "    sort_idxs = np.argsort(scalarized, axis=0)\n",
    "    sort_values = [values[i] for i in sort_idxs]\n",
    "    \n",
    "    for campaign in campaigns:\n",
    "        campaign_trace = []\n",
    "        campaign_values = campaign.observations.get_values()\n",
    "        for val_ix in range(len(campaign_values)):\n",
    "            campaign_trace.append(\n",
    "                sum(val in campaign_values[:val_ix] for val in sort_values)/ len(sort_values)\n",
    "            )\n",
    "        traces.append(campaign_trace)\n",
    "        \n",
    "    return np.array(traces)\n",
    "    \n",
    "\n",
    "\n",
    "def plot_trace_mean(traces, obj_num=0, ax=None, color=None, label=None, use_std_err=True, linewidth=4):\n",
    "\n",
    "    if obj_num==None:\n",
    "        pass\n",
    "    elif isinstance(obj_num, int):\n",
    "        traces = traces[:, obj_num, :]\n",
    "        \n",
    "    if ax is None:\n",
    "        fig, ax = plt.subplots()\n",
    "    mean = np.mean(traces, axis=0)\n",
    "    if use_std_err is True:\n",
    "        stde = np.std(traces, axis=0, ddof=1) / np.sqrt(np.shape(traces)[0] - 1)\n",
    "    else:\n",
    "        stde = np.nanstd(traces, axis=0, ddof=1)\n",
    "\n",
    "    x = np.arange(1, len(mean) + 1, 1)\n",
    "        \n",
    "    ax.plot(x, mean, color='#444444', linewidth=linewidth+1, zorder=11)\n",
    "    ax.plot(x, mean, color=color, linewidth=linewidth, label=label, zorder=11)\n",
    "    \n",
    "    ax.fill_between(x, y1=mean-1.96*stde, y2=mean+1.96*stde, alpha=0.2, color=color, zorder=10)\n",
    "    ax.plot(x, mean-1.96*stde, color=color, linewidth=1, alpha=0.5, zorder=10)\n",
    "    ax.plot(x, mean+1.96*stde, color=color, linewidth=1, alpha=0.5, zorder=10)\n",
    "\n",
    "\n",
    "def plot_trace_sigle(pkl_file, ax, obj_name, goal='min', color='k', label='', shift=0.0, use_std_err=True):\n",
    "    with open(pkl_file, 'rb') as content:\n",
    "        data = pickle.load(content)\n",
    "    plot_trace_mean(data, obj_name, goal=goal, ax=ax, color=color, label=label, shift=shift, use_std_err=use_std_err)\n",
    "    \n",
    "\n",
    "def gradient_patch(ax, xmin, xmax, ymin, ymax, fill_color='k', alpha=1, zorder=1):\n",
    "    \n",
    "    x = np.linspace(xmin, xmax, 100)\n",
    "    y = np.linspace(ymin, ymax, 100)\n",
    "    \n",
    "    z = np.empty((100, 1, 4), dtype=float)\n",
    "    rgb = mcolors.colorConverter.to_rgb(fill_color)\n",
    "    z[:,:,:3] = rgb\n",
    "    z[:,:,-1] = np.linspace(0, alpha, 100)[:,None]\n",
    "\n",
    "    im = ax.imshow(z, aspect='auto', extent=[xmin, xmax, ymin, ymax],\n",
    "                   origin='lower', zorder=zorder)\n",
    "\n",
    "    xy = np.column_stack([x, y])\n",
    "    xy = np.vstack([[xmin, ymin], xy, [xmax, ymin], [xmin, ymin]])\n",
    "    clip_path = Rectangle(xy=(xmin, ymin), width=xmax-xmin, height=ymax-ymin, \n",
    "                          facecolor='none', edgecolor='none')\n",
    "    ax.add_patch(clip_path)\n",
    "    im.set_clip_path(clip_path)"
   ]
  },
  {
   "cell_type": "code",
   "execution_count": null,
   "id": "63f641bd",
   "metadata": {},
   "outputs": [],
   "source": []
  },
  {
   "cell_type": "markdown",
   "id": "19e6b613",
   "metadata": {},
   "source": [
    "## `redoxmers` example"
   ]
  },
  {
   "cell_type": "code",
   "execution_count": 4,
   "id": "925b349e",
   "metadata": {},
   "outputs": [
    {
     "data": {
      "text/plain": [
       "[<Campaign (dataset=redoxmers, model=n/a, planner=Gryffin, num_iter=200)>,\n",
       " <Campaign (dataset=redoxmers, model=n/a, planner=Gryffin, num_iter=200)>,\n",
       " <Campaign (dataset=redoxmers, model=n/a, planner=Gryffin, num_iter=200)>,\n",
       " <Campaign (dataset=redoxmers, model=n/a, planner=Gryffin, num_iter=200)>,\n",
       " <Campaign (dataset=redoxmers, model=n/a, planner=Gryffin, num_iter=200)>,\n",
       " <Campaign (dataset=redoxmers, model=n/a, planner=Gryffin, num_iter=200)>,\n",
       " <Campaign (dataset=redoxmers, model=n/a, planner=Gryffin, num_iter=200)>]"
      ]
     },
     "execution_count": 4,
     "metadata": {},
     "output_type": "execute_result"
    }
   ],
   "source": [
    "dataset = 'redoxmers'\n",
    "case_study = 'case_study_3'\n",
    "\n",
    "# load results\n",
    "\n",
    "data_random = {}\n",
    "for sub in ['Chimera', 'WeightedSum', 'Parego', 'Hypervolume']:\n",
    "    with open(f'{case_study}/RandomSearch/{dataset}/{sub}/results.pkl', 'rb') as content:\n",
    "        data_random_ = pickle.load(content)\n",
    "        data_random[sub] = data_random_\n",
    "        \n",
    "data_gpyopt = {}\n",
    "for sub in ['Chimera', 'WeightedSum', 'Parego', 'Hypervolume']:\n",
    "    with open(f'{case_study}/Gpyopt/{dataset}/{sub}/results.pkl', 'rb') as content:\n",
    "        data_gpyopt_ = pickle.load(content)\n",
    "        data_gpyopt[sub] = data_gpyopt_\n",
    "    \n",
    "        \n",
    "data_botorch = {}\n",
    "for sub in ['Chimera', 'WeightedSum', 'Parego', 'Hypervolume']:\n",
    "    with open(f'{case_study}/Botorch/{dataset}/{sub}/results.pkl', 'rb') as content:\n",
    "        data_botorch_ = pickle.load(content)\n",
    "        data_botorch[sub] = data_botorch_\n",
    "        \n",
    "        \n",
    "data_gryffin = {}\n",
    "for sub in ['Chimera', 'WeightedSum', 'Parego', 'Hypervolume']:\n",
    "    with open(f'{case_study}/Gryffin/{dataset}/{sub}/results.pkl', 'rb') as content:\n",
    "        data_gryffin_ = pickle.load(content)\n",
    "        data_gryffin[sub] = data_gryffin_\n",
    "        \n",
    "        \n",
    "# data_hebo = {}\n",
    "# for sub in ['Chimera', 'WeightedSum', 'Parego']:\n",
    "#     with open(f'{case_study}/Hebo/{sub}/results.pkl', 'rb') as content:\n",
    "#         data_hebo_ = pickle.load(content)\n",
    "#         data_hebo[sub] = data_hebo_\n",
    "\n",
    "data_gryffin['Chimera']"
   ]
  },
  {
   "cell_type": "code",
   "execution_count": 5,
   "id": "10b430ef",
   "metadata": {},
   "outputs": [],
   "source": [
    "scalarizers = {'Chimera' : Scalarizer(\n",
    "                            kind='Chimera', \n",
    "                            value_space=Dataset(kind='redoxmers').value_space,\n",
    "                            goals=['min', 'min', 'min'],\n",
    "                            tolerances=[25., 2.04, 0.0],\n",
    "                            absolutes=[True, True, False]\n",
    "                        ),\n",
    "               'WeightedSum':\n",
    "                    Scalarizer(\n",
    "                        kind='WeightedSum', \n",
    "                        value_space=Dataset(kind='redoxmers').value_space,\n",
    "                        goals=['min', 'min', 'min'],\n",
    "                        weights=[3., 2., 1.],\n",
    "                    ),\n",
    "                'Parego':\n",
    "                   Scalarizer(\n",
    "                        kind='Parego', \n",
    "                        value_space=Dataset(kind='redoxmers').value_space,\n",
    "                        goals=['min', 'min', 'min'],\n",
    "                        rho=0.05,\n",
    "                    ),\n",
    "                'Hypervolume':\n",
    "                    Scalarizer(\n",
    "                        kind='Hypervolume',\n",
    "                        value_space=Dataset(kind='redoxmers').value_space,\n",
    "                        goals=['min', 'min', 'min'],\n",
    "                    )\n",
    "              }\n",
    "\n",
    "\n",
    "# get traces\n",
    "traces_random = {}\n",
    "best_n_params = {}\n",
    "best_n_params_df = []\n",
    "for sub in ['Chimera', 'WeightedSum', 'Parego', 'Hypervolume']:\n",
    "    traces_random[sub], best_n_params[sub] = get_traces(data_random[sub], scalarizers[sub])\n",
    "    \n",
    "traces_gpyopt = {}\n",
    "for sub in ['Chimera', 'WeightedSum', 'Parego', 'Hypervolume']:\n",
    "    traces_gpyopt[sub], best_n_params[sub] = get_traces(data_gpyopt[sub], scalarizers[sub])\n",
    "\n",
    "traces_botorch = {}\n",
    "for sub in ['Chimera', 'WeightedSum', 'Parego', 'Hypervolume']:\n",
    "    traces_botorch[sub], best_n_params[sub] = get_traces(data_botorch[sub], scalarizers[sub])\n",
    "    \n",
    "traces_gryffin = {}\n",
    "for sub in ['Chimera', 'WeightedSum', 'Parego', 'Hypervolume']:\n",
    "    traces_gryffin[sub], best_n_params[sub] = get_traces(data_gryffin[sub], scalarizers[sub])\n",
    "    \n",
    "# traces_hebo = {}\n",
    "# for sub in ['Chimera', 'WeightedSum', 'Parego', 'Hypervolume']:\n",
    "#     traces_hebo[sub]= get_traces(data_hebo[sub], scalarizers[sub])"
   ]
  },
  {
   "cell_type": "code",
   "execution_count": 8,
   "id": "cbe21e37",
   "metadata": {},
   "outputs": [
    {
     "data": {
      "image/png": "[encoded data removed]",
      "text/plain": [
       "<Figure size 1200x400 with 3 Axes>"
      ]
     },
     "metadata": {},
     "output_type": "display_data"
    }
   ],
   "source": [
    "#---------------\n",
    "# BOTORCH\n",
    "#---------------\n",
    "\n",
    "fig, axes = plt.subplots(nrows=1, ncols=3, figsize=(12,4), sharex=True)\n",
    "\n",
    "for i in range(3):\n",
    "    \n",
    "    plot_trace_mean(traces_botorch['Chimera'], obj_num=i, ax=axes[i], color='#dd882c', label='Chimera')\n",
    "    plot_trace_mean(traces_botorch['WeightedSum'], obj_num=i, ax=axes[i], color='gray', label='WeightedSum')\n",
    "    plot_trace_mean(traces_botorch['Parego'], obj_num=i, ax=axes[i], color='#ffb703', label='Chebyshev')\n",
    "    plot_trace_mean(traces_botorch['Hypervolume'], obj_num=i, ax=axes[i], color='#4267B2', label='Hypervolume')\n",
    "\n",
    "        \n",
    "    #axes[i].set_yscale('log')\n",
    "    axes[i].set_xlabel('# evaluations')\n",
    "\n",
    "axes[0].set_title(f'Objective 0 (minimize)')\n",
    "axes[1].set_title(f'Objective 1 (minimize)')\n",
    "axes[2].set_title(f'Objective 2 (minimize)')    \n",
    "\n",
    "#axes[0].legend(loc='upper right')\n",
    "axes[1].legend(loc='upper right', ncol=1, fontsize=11.5, frameon=False)\n",
    "\n",
    "#axes[0].set_ylim(0.6, 0.88)\n",
    "axes[0].set_ylabel(r'$\\Delta \\lambda_{abs}$ [nm]', fontsize=14)\n",
    "axes[1].set_ylabel(r'$E^{red}$  [V vs. Li/Li+]', fontsize=14)\n",
    "axes[2].set_ylabel(r'$G^{solv}$ [eV]', fontsize=14)\n",
    "\n",
    "axes[0].axhline(25., ls='--',  c='k', lw=2.5, alpha=0.8)\n",
    "axes[0].fill_between(x=[0,200], y1=25., y2=50, alpha=0.2, color='gray')\n",
    "axes[0].set_xlim(0, 200)\n",
    "axes[0].set_ylim(-2, 50)\n",
    "\n",
    "\n",
    "axes[1].axhline(2.04, ls='--',  c='k', lw=2.5, alpha=0.8)\n",
    "axes[1].fill_between(x=[0,200], y1=2.04, y2=2.5, alpha=0.2, color='gray')\n",
    "axes[1].set_xlim(0, 200)\n",
    "axes[1].set_ylim(1.5, 2.5)\n",
    "\n",
    "for ax in axes:\n",
    "    ax.grid(linestyle=\":\")\n",
    "    \n",
    "\n",
    "\n",
    "#axes[0].set_ylabel('best achieved yield [%]')\n",
    "plt.tight_layout()\n",
    "plt.savefig('redoxmers_botorch_traces_chebyshev.png', dpi=300)"
   ]
  },
  {
   "cell_type": "code",
   "execution_count": 9,
   "id": "19d5f4d1",
   "metadata": {},
   "outputs": [
    {
     "data": {
      "image/png": "[encoded data removed]",
      "text/plain": [
       "<Figure size 500x300 with 1 Axes>"
      ]
     },
     "metadata": {},
     "output_type": "display_data"
    }
   ],
   "source": [
    "# zoomed in plot of first objective\n",
    "# TODO: make the tick sizes bigger here\n",
    "\n",
    "fig, ax = plt.subplots(figsize=(5, 3))\n",
    "\n",
    "plot_trace_mean(traces_botorch['Chimera'], obj_num=0, ax=ax, color='#dd882c', label='Chimera', linewidth=6)\n",
    "plot_trace_mean(traces_botorch['WeightedSum'], obj_num=0, ax=ax, color='gray', label='WeightedSum',linewidth=6)\n",
    "plot_trace_mean(traces_botorch['Parego'], obj_num=0, ax=ax, color='#ffb703', label='Parego',linewidth=6)\n",
    "plot_trace_mean(traces_botorch['Hypervolume'], obj_num=0, ax=ax, color='#4267B2', label='Hypervolume',linewidth=6)\n",
    "\n",
    "ax.xaxis.set_tick_params(labelsize=18)\n",
    "ax.yaxis.set_tick_params(labelsize=18)\n",
    "\n",
    "ax.set_xlim(100, 200)\n",
    "ax.set_ylim(-0.2, 5)\n",
    "plt.tight_layout()\n",
    "plt.savefig('redoxmers_botorch_obj1_zoom_in.png', dpi=300)"
   ]
  },
  {
   "cell_type": "code",
   "execution_count": null,
   "id": "244e7eca",
   "metadata": {},
   "outputs": [],
   "source": []
  },
  {
   "cell_type": "code",
   "execution_count": null,
   "id": "015fc5e6",
   "metadata": {},
   "outputs": [],
   "source": []
  },
  {
   "cell_type": "code",
   "execution_count": null,
   "id": "0a626e5c",
   "metadata": {},
   "outputs": [],
   "source": []
  },
  {
   "cell_type": "code",
   "execution_count": 6,
   "id": "33f3cdf7",
   "metadata": {},
   "outputs": [],
   "source": [
    "df_orig = Dataset(kind='redoxmers').data"
   ]
  },
  {
   "cell_type": "code",
   "execution_count": 7,
   "id": "22cbe357",
   "metadata": {},
   "outputs": [
    {
     "data": {
      "text/html": [
       "<div>\n",
       "<style scoped>\n",
       "    .dataframe tbody tr th:only-of-type {\n",
       "        vertical-align: middle;\n",
       "    }\n",
       "\n",
       "    .dataframe tbody tr th {\n",
       "        vertical-align: top;\n",
       "    }\n",
       "\n",
       "    .dataframe thead th {\n",
       "        text-align: right;\n",
       "    }\n",
       "</style>\n",
       "<table border=\"1\" class=\"dataframe\">\n",
       "  <thead>\n",
       "    <tr style=\"text-align: right;\">\n",
       "      <th></th>\n",
       "      <th>r1_label</th>\n",
       "      <th>r3_label</th>\n",
       "      <th>r4_label</th>\n",
       "      <th>r5_label</th>\n",
       "      <th>abs_lam_diff</th>\n",
       "      <th>ered</th>\n",
       "      <th>gsol</th>\n",
       "    </tr>\n",
       "  </thead>\n",
       "  <tbody>\n",
       "    <tr>\n",
       "      <th>0</th>\n",
       "      <td>R1_0</td>\n",
       "      <td>R3_0</td>\n",
       "      <td>R4_0</td>\n",
       "      <td>R5_0</td>\n",
       "      <td>39.96</td>\n",
       "      <td>1.684123</td>\n",
       "      <td>-0.681801</td>\n",
       "    </tr>\n",
       "    <tr>\n",
       "      <th>1</th>\n",
       "      <td>R1_0</td>\n",
       "      <td>R3_0</td>\n",
       "      <td>R4_0</td>\n",
       "      <td>R5_1</td>\n",
       "      <td>63.92</td>\n",
       "      <td>1.963624</td>\n",
       "      <td>-0.711542</td>\n",
       "    </tr>\n",
       "    <tr>\n",
       "      <th>2</th>\n",
       "      <td>R1_0</td>\n",
       "      <td>R3_0</td>\n",
       "      <td>R4_0</td>\n",
       "      <td>R5_2</td>\n",
       "      <td>51.76</td>\n",
       "      <td>2.044655</td>\n",
       "      <td>-0.8874</td>\n",
       "    </tr>\n",
       "    <tr>\n",
       "      <th>3</th>\n",
       "      <td>R1_0</td>\n",
       "      <td>R3_0</td>\n",
       "      <td>R4_0</td>\n",
       "      <td>R5_3</td>\n",
       "      <td>36.93</td>\n",
       "      <td>1.731604</td>\n",
       "      <td>-0.710235</td>\n",
       "    </tr>\n",
       "    <tr>\n",
       "      <th>4</th>\n",
       "      <td>R1_0</td>\n",
       "      <td>R3_0</td>\n",
       "      <td>R4_0</td>\n",
       "      <td>R5_4</td>\n",
       "      <td>53.79</td>\n",
       "      <td>1.844226</td>\n",
       "      <td>-0.748112</td>\n",
       "    </tr>\n",
       "  </tbody>\n",
       "</table>\n",
       "</div>"
      ],
      "text/plain": [
       "  r1_label r3_label r4_label r5_label abs_lam_diff      ered      gsol\n",
       "0     R1_0     R3_0     R4_0     R5_0        39.96  1.684123 -0.681801\n",
       "1     R1_0     R3_0     R4_0     R5_1        63.92  1.963624 -0.711542\n",
       "2     R1_0     R3_0     R4_0     R5_2        51.76  2.044655   -0.8874\n",
       "3     R1_0     R3_0     R4_0     R5_3        36.93  1.731604 -0.710235\n",
       "4     R1_0     R3_0     R4_0     R5_4        53.79  1.844226 -0.748112"
      ]
     },
     "execution_count": 7,
     "metadata": {},
     "output_type": "execute_result"
    }
   ],
   "source": [
    "df_orig.head()"
   ]
  },
  {
   "cell_type": "code",
   "execution_count": 8,
   "id": "462b7b26",
   "metadata": {},
   "outputs": [
    {
     "name": "stdout",
     "output_type": "stream",
     "text": [
      "(1407, 2395)\n"
     ]
    },
    {
     "data": {
      "text/html": [
       "<div>\n",
       "<style scoped>\n",
       "    .dataframe tbody tr th:only-of-type {\n",
       "        vertical-align: middle;\n",
       "    }\n",
       "\n",
       "    .dataframe tbody tr th {\n",
       "        vertical-align: top;\n",
       "    }\n",
       "\n",
       "    .dataframe thead th {\n",
       "        text-align: right;\n",
       "    }\n",
       "</style>\n",
       "<table border=\"1\" class=\"dataframe\">\n",
       "  <thead>\n",
       "    <tr style=\"text-align: right;\">\n",
       "      <th></th>\n",
       "      <th>Unnamed: 0</th>\n",
       "      <th>product_smiles</th>\n",
       "      <th>r1_label</th>\n",
       "      <th>r1_smiles</th>\n",
       "      <th>r1_smiles_raw</th>\n",
       "      <th>r3_label</th>\n",
       "      <th>r3_smiles</th>\n",
       "      <th>r3_smiles_raw</th>\n",
       "      <th>r4_label</th>\n",
       "      <th>r4_smiles</th>\n",
       "      <th>...</th>\n",
       "      <th>r5_MW</th>\n",
       "      <th>r5_AMW</th>\n",
       "      <th>r5_WPath</th>\n",
       "      <th>r5_WPol</th>\n",
       "      <th>r5_Zagreb1</th>\n",
       "      <th>r5_Zagreb2</th>\n",
       "      <th>r5_mZagreb2</th>\n",
       "      <th>r5_type</th>\n",
       "      <th>r5_ix</th>\n",
       "      <th>product_mols</th>\n",
       "    </tr>\n",
       "  </thead>\n",
       "  <tbody>\n",
       "    <tr>\n",
       "      <th>0</th>\n",
       "      <td>0</td>\n",
       "      <td>CCOCN(C(C)=O)c1c(C)c(C)c(C)c2nsnc12</td>\n",
       "      <td>R1_0</td>\n",
       "      <td>CCOC</td>\n",
       "      <td>CCOC</td>\n",
       "      <td>R3_0</td>\n",
       "      <td>C</td>\n",
       "      <td>C</td>\n",
       "      <td>R4_0</td>\n",
       "      <td>C</td>\n",
       "      <td>...</td>\n",
       "      <td>16.031300</td>\n",
       "      <td>3.206260</td>\n",
       "      <td>0</td>\n",
       "      <td>0</td>\n",
       "      <td>0.0</td>\n",
       "      <td>0.0</td>\n",
       "      <td>0.0</td>\n",
       "      <td>R5</td>\n",
       "      <td>0</td>\n",
       "      <td>&lt;rdkit.Chem.rdchem.Mol object at 0x15fcb53f0&gt;</td>\n",
       "    </tr>\n",
       "    <tr>\n",
       "      <th>1</th>\n",
       "      <td>1</td>\n",
       "      <td>CCOCN(C(C)=O)c1c(C)c(C)c(C(F)(F)F)c2nsnc12</td>\n",
       "      <td>R1_0</td>\n",
       "      <td>CCOC</td>\n",
       "      <td>CCOC</td>\n",
       "      <td>R3_0</td>\n",
       "      <td>C</td>\n",
       "      <td>C</td>\n",
       "      <td>R4_0</td>\n",
       "      <td>C</td>\n",
       "      <td>...</td>\n",
       "      <td>70.003035</td>\n",
       "      <td>14.000607</td>\n",
       "      <td>9</td>\n",
       "      <td>0</td>\n",
       "      <td>12.0</td>\n",
       "      <td>9.0</td>\n",
       "      <td>1.0</td>\n",
       "      <td>R5</td>\n",
       "      <td>1</td>\n",
       "      <td>&lt;rdkit.Chem.rdchem.Mol object at 0x15fcb5460&gt;</td>\n",
       "    </tr>\n",
       "    <tr>\n",
       "      <th>2</th>\n",
       "      <td>2</td>\n",
       "      <td>CCOCN(C(C)=O)c1c(C)c(C)c(C#N)c2nsnc12</td>\n",
       "      <td>R1_0</td>\n",
       "      <td>CCOC</td>\n",
       "      <td>CCOC</td>\n",
       "      <td>R3_0</td>\n",
       "      <td>C</td>\n",
       "      <td>C</td>\n",
       "      <td>R4_0</td>\n",
       "      <td>C</td>\n",
       "      <td>...</td>\n",
       "      <td>27.010899</td>\n",
       "      <td>9.003633</td>\n",
       "      <td>1</td>\n",
       "      <td>0</td>\n",
       "      <td>2.0</td>\n",
       "      <td>1.0</td>\n",
       "      <td>1.0</td>\n",
       "      <td>R5</td>\n",
       "      <td>2</td>\n",
       "      <td>&lt;rdkit.Chem.rdchem.Mol object at 0x15fcb54d0&gt;</td>\n",
       "    </tr>\n",
       "    <tr>\n",
       "      <th>3</th>\n",
       "      <td>3</td>\n",
       "      <td>CCOCN(C(C)=O)c1c(C)c(C)c(OC)c2nsnc12</td>\n",
       "      <td>R1_0</td>\n",
       "      <td>CCOC</td>\n",
       "      <td>CCOC</td>\n",
       "      <td>R3_0</td>\n",
       "      <td>C</td>\n",
       "      <td>C</td>\n",
       "      <td>R4_0</td>\n",
       "      <td>C</td>\n",
       "      <td>...</td>\n",
       "      <td>32.026215</td>\n",
       "      <td>5.337702</td>\n",
       "      <td>1</td>\n",
       "      <td>0</td>\n",
       "      <td>2.0</td>\n",
       "      <td>1.0</td>\n",
       "      <td>1.0</td>\n",
       "      <td>R5</td>\n",
       "      <td>3</td>\n",
       "      <td>&lt;rdkit.Chem.rdchem.Mol object at 0x15fcb5540&gt;</td>\n",
       "    </tr>\n",
       "    <tr>\n",
       "      <th>4</th>\n",
       "      <td>4</td>\n",
       "      <td>CCOCN(C(C)=O)c1c(C)c(C)c(OC(F)(F)F)c2nsnc12</td>\n",
       "      <td>R1_0</td>\n",
       "      <td>CCOC</td>\n",
       "      <td>CCOC</td>\n",
       "      <td>R3_0</td>\n",
       "      <td>C</td>\n",
       "      <td>C</td>\n",
       "      <td>R4_0</td>\n",
       "      <td>C</td>\n",
       "      <td>...</td>\n",
       "      <td>85.997949</td>\n",
       "      <td>14.332992</td>\n",
       "      <td>16</td>\n",
       "      <td>0</td>\n",
       "      <td>20.0</td>\n",
       "      <td>16.0</td>\n",
       "      <td>1.0</td>\n",
       "      <td>R5</td>\n",
       "      <td>4</td>\n",
       "      <td>&lt;rdkit.Chem.rdchem.Mol object at 0x15fcb55b0&gt;</td>\n",
       "    </tr>\n",
       "  </tbody>\n",
       "</table>\n",
       "<p>5 rows × 2395 columns</p>\n",
       "</div>"
      ],
      "text/plain": [
       "   Unnamed: 0                               product_smiles r1_label r1_smiles  \\\n",
       "0           0          CCOCN(C(C)=O)c1c(C)c(C)c(C)c2nsnc12     R1_0      CCOC   \n",
       "1           1   CCOCN(C(C)=O)c1c(C)c(C)c(C(F)(F)F)c2nsnc12     R1_0      CCOC   \n",
       "2           2        CCOCN(C(C)=O)c1c(C)c(C)c(C#N)c2nsnc12     R1_0      CCOC   \n",
       "3           3         CCOCN(C(C)=O)c1c(C)c(C)c(OC)c2nsnc12     R1_0      CCOC   \n",
       "4           4  CCOCN(C(C)=O)c1c(C)c(C)c(OC(F)(F)F)c2nsnc12     R1_0      CCOC   \n",
       "\n",
       "  r1_smiles_raw r3_label r3_smiles r3_smiles_raw r4_label r4_smiles  ...  \\\n",
       "0          CCOC     R3_0         C             C     R4_0         C  ...   \n",
       "1          CCOC     R3_0         C             C     R4_0         C  ...   \n",
       "2          CCOC     R3_0         C             C     R4_0         C  ...   \n",
       "3          CCOC     R3_0         C             C     R4_0         C  ...   \n",
       "4          CCOC     R3_0         C             C     R4_0         C  ...   \n",
       "\n",
       "       r5_MW     r5_AMW r5_WPath r5_WPol  r5_Zagreb1  r5_Zagreb2  r5_mZagreb2  \\\n",
       "0  16.031300   3.206260        0       0         0.0         0.0          0.0   \n",
       "1  70.003035  14.000607        9       0        12.0         9.0          1.0   \n",
       "2  27.010899   9.003633        1       0         2.0         1.0          1.0   \n",
       "3  32.026215   5.337702        1       0         2.0         1.0          1.0   \n",
       "4  85.997949  14.332992       16       0        20.0        16.0          1.0   \n",
       "\n",
       "   r5_type  r5_ix                                   product_mols  \n",
       "0       R5      0  <rdkit.Chem.rdchem.Mol object at 0x15fcb53f0>  \n",
       "1       R5      1  <rdkit.Chem.rdchem.Mol object at 0x15fcb5460>  \n",
       "2       R5      2  <rdkit.Chem.rdchem.Mol object at 0x15fcb54d0>  \n",
       "3       R5      3  <rdkit.Chem.rdchem.Mol object at 0x15fcb5540>  \n",
       "4       R5      4  <rdkit.Chem.rdchem.Mol object at 0x15fcb55b0>  \n",
       "\n",
       "[5 rows x 2395 columns]"
      ]
     },
     "execution_count": 8,
     "metadata": {},
     "output_type": "execute_result"
    }
   ],
   "source": [
    "raw_df = pd.read_csv('../src/olympus/datasets/dataset_redoxmers/raw_data/df_results.csv')\n",
    "# make product mols\n",
    "prod_smiles = raw_df['product_smiles'].tolist()\n",
    "prod_mols = [chem.MolFromSmiles(s) for s in prod_smiles]\n",
    "\n",
    "# prod_fps = [np.array(Chem.GetMorganFingerprintAsBitVect(m, 3)) for m in prod_mols ]\n",
    "prod_fps = [chem.GetMorganFingerprintAsBitVect(m, 3) for m in prod_mols ]\n",
    "fps_dict = {s:fp for s, fp in zip(prod_smiles, prod_fps)}\n",
    "raw_df['product_mols'] = prod_mols\n",
    "print(raw_df.shape)\n",
    "raw_df.head()"
   ]
  },
  {
   "cell_type": "code",
   "execution_count": 9,
   "id": "f86adc86",
   "metadata": {},
   "outputs": [],
   "source": [
    "def lookup_prod_smiles_mol(r1_label, r3_label, r4_label, r5_label, raw_df):\n",
    "    \n",
    "    match = raw_df[\n",
    "        (raw_df['r1_label']==r1_label)&\n",
    "        (raw_df['r3_label']==r3_label)&\n",
    "        (raw_df['r4_label']==r4_label)&\n",
    "        (raw_df['r5_label']==r5_label)\n",
    "    ]\n",
    "    assert len(match)==1\n",
    "    match = match.to_dict('r')[0]\n",
    "    smi, mol = match['product_smiles'], match['product_mols']\n",
    "    fp = fps_dict[smi]\n",
    "    return smi, mol, fp\n",
    "\n",
    "def get_similarity_distribution(campaigns, raw_df):\n",
    "    \n",
    "    smiles, mols, fps = [], [], []\n",
    "\n",
    "    for campaign in campaigns:\n",
    "        for param in campaign.observations.get_params():\n",
    "            # this is dataset specific\n",
    "            smi, mol, fp = lookup_prod_smiles_mol(param[0], param[1], param[2], param[3], raw_df)\n",
    "            smiles.append(smi)\n",
    "            mols.append(mol)\n",
    "            fps.append(fp)\n",
    "    # compute all fp pairwise distances without duplicates\n",
    "    qu, ta, sim = [], [], []\n",
    "\n",
    "    # compare all fp pairwise without duplicates\n",
    "    for n in range(len(fps)-1): # -1 so the last fp will not be used\n",
    "        s = DataStructs.BulkTanimotoSimilarity(fps[n], fps[n+1:]) # +1 compare with the next to the last fp\n",
    "        # collect the SMILES and values\n",
    "        for m in range(len(s)):\n",
    "            qu.append(smiles[n])\n",
    "            ta.append(smiles[n+1:][m])\n",
    "            sim.append(s[m])\n",
    "\n",
    "    d = {'query':qu, 'target':ta, 'similarity':sim}\n",
    "    df_sim = pd.DataFrame(data=d)\n",
    "    #df_sim = df_sim.sort_values('similarity', ascending=False)\n",
    "    \n",
    "    return df_sim\n",
    "\n",
    "\n"
   ]
  },
  {
   "cell_type": "code",
   "execution_count": 10,
   "id": "566729f7",
   "metadata": {},
   "outputs": [],
   "source": [
    "# df_sim_chimera = get_similarity_distribution(data_gpyopt['Chimera'][:1], raw_df)\n",
    "# df_sim_weightedsum = get_similarity_distribution(data_gpyopt['WeightedSum'][:1], raw_df)\n",
    "# df_sim_parego = get_similarity_distribution(data_gpyopt['Parego'][:1], raw_df)\n",
    "# df_sim_hypervolume = get_similarity_distribution(data_gpyopt['Hypervolume'][:1], raw_df)"
   ]
  },
  {
   "cell_type": "code",
   "execution_count": 11,
   "id": "695b125d",
   "metadata": {},
   "outputs": [
    {
     "data": {
      "text/plain": [
       "{'Chimera': [[array(['R1_0', 'R3_7', 'R4_3', 'R5_10'], dtype='<U5'),\n",
       "   array(['R1_0', 'R3_7', 'R4_0', 'R5_10'], dtype='<U5'),\n",
       "   array(['R1_0', 'R3_7', 'R4_7', 'R5_10'], dtype='<U5'),\n",
       "   array(['R1_0', 'R3_7', 'R4_7', 'R5_2'], dtype='<U5'),\n",
       "   array(['R1_0', 'R3_7', 'R4_7', 'R5_0'], dtype='<U5'),\n",
       "   array(['R1_0', 'R3_7', 'R4_7', 'R5_5'], dtype='<U5'),\n",
       "   array(['R1_0', 'R3_7', 'R4_3', 'R5_1'], dtype='<U5'),\n",
       "   array(['R1_0', 'R3_7', 'R4_7', 'R5_6'], dtype='<U5'),\n",
       "   array(['R1_0', 'R3_7', 'R4_3', 'R5_3'], dtype='<U5'),\n",
       "   array(['R1_0', 'R3_7', 'R4_0', 'R5_3'], dtype='<U5')],\n",
       "  [array(['R1_0', 'R3_7', 'R4_3', 'R5_10'], dtype='<U5'),\n",
       "   array(['R1_0', 'R3_7', 'R4_0', 'R5_10'], dtype='<U5'),\n",
       "   array(['R1_0', 'R3_7', 'R4_7', 'R5_10'], dtype='<U5'),\n",
       "   array(['R1_0', 'R3_7', 'R4_7', 'R5_0'], dtype='<U5'),\n",
       "   array(['R1_0', 'R3_7', 'R4_2', 'R5_3'], dtype='<U5'),\n",
       "   array(['R1_0', 'R3_7', 'R4_7', 'R5_5'], dtype='<U5'),\n",
       "   array(['R1_0', 'R3_7', 'R4_7', 'R5_6'], dtype='<U5'),\n",
       "   array(['R1_0', 'R3_7', 'R4_3', 'R5_3'], dtype='<U5'),\n",
       "   array(['R1_0', 'R3_7', 'R4_7', 'R5_1'], dtype='<U5'),\n",
       "   array(['R1_0', 'R3_5', 'R4_3', 'R5_5'], dtype='<U5')],\n",
       "  [array(['R1_0', 'R3_7', 'R4_3', 'R5_10'], dtype='<U5'),\n",
       "   array(['R1_0', 'R3_7', 'R4_0', 'R5_10'], dtype='<U5'),\n",
       "   array(['R1_0', 'R3_7', 'R4_7', 'R5_10'], dtype='<U5'),\n",
       "   array(['R1_0', 'R3_7', 'R4_7', 'R5_2'], dtype='<U5'),\n",
       "   array(['R1_0', 'R3_7', 'R4_2', 'R5_3'], dtype='<U5'),\n",
       "   array(['R1_0', 'R3_7', 'R4_7', 'R5_5'], dtype='<U5'),\n",
       "   array(['R1_0', 'R3_7', 'R4_3', 'R5_1'], dtype='<U5'),\n",
       "   array(['R1_0', 'R3_7', 'R4_7', 'R5_6'], dtype='<U5'),\n",
       "   array(['R1_0', 'R3_7', 'R4_3', 'R5_3'], dtype='<U5'),\n",
       "   array(['R1_0', 'R3_5', 'R4_7', 'R5_7'], dtype='<U5')],\n",
       "  [array(['R1_0', 'R3_7', 'R4_3', 'R5_10'], dtype='<U5'),\n",
       "   array(['R1_0', 'R3_7', 'R4_0', 'R5_10'], dtype='<U5'),\n",
       "   array(['R1_0', 'R3_7', 'R4_7', 'R5_0'], dtype='<U5'),\n",
       "   array(['R1_0', 'R3_7', 'R4_3', 'R5_1'], dtype='<U5'),\n",
       "   array(['R1_0', 'R3_7', 'R4_7', 'R5_6'], dtype='<U5'),\n",
       "   array(['R1_0', 'R3_7', 'R4_3', 'R5_3'], dtype='<U5'),\n",
       "   array(['R1_0', 'R3_7', 'R4_0', 'R5_3'], dtype='<U5'),\n",
       "   array(['R1_0', 'R3_7', 'R4_7', 'R5_1'], dtype='<U5'),\n",
       "   array(['R1_0', 'R3_5', 'R4_3', 'R5_5'], dtype='<U5'),\n",
       "   array(['R1_0', 'R3_7', 'R4_7', 'R5_7'], dtype='<U5')],\n",
       "  [array(['R1_0', 'R3_7', 'R4_3', 'R5_10'], dtype='<U5'),\n",
       "   array(['R1_0', 'R3_7', 'R4_0', 'R5_10'], dtype='<U5'),\n",
       "   array(['R1_0', 'R3_7', 'R4_7', 'R5_10'], dtype='<U5'),\n",
       "   array(['R1_0', 'R3_7', 'R4_7', 'R5_2'], dtype='<U5'),\n",
       "   array(['R1_0', 'R3_0', 'R4_7', 'R5_10'], dtype='<U5'),\n",
       "   array(['R1_0', 'R3_7', 'R4_7', 'R5_0'], dtype='<U5'),\n",
       "   array(['R1_0', 'R3_3', 'R4_7', 'R5_2'], dtype='<U5'),\n",
       "   array(['R1_0', 'R3_7', 'R4_7', 'R5_5'], dtype='<U5'),\n",
       "   array(['R1_0', 'R3_7', 'R4_3', 'R5_1'], dtype='<U5'),\n",
       "   array(['R1_0', 'R3_7', 'R4_7', 'R5_6'], dtype='<U5')],\n",
       "  [array(['R1_0', 'R3_7', 'R4_3', 'R5_10'], dtype='<U5'),\n",
       "   array(['R1_0', 'R3_7', 'R4_0', 'R5_10'], dtype='<U5'),\n",
       "   array(['R1_0', 'R3_7', 'R4_7', 'R5_10'], dtype='<U5'),\n",
       "   array(['R1_0', 'R3_7', 'R4_7', 'R5_0'], dtype='<U5'),\n",
       "   array(['R1_0', 'R3_7', 'R4_7', 'R5_5'], dtype='<U5'),\n",
       "   array(['R1_0', 'R3_7', 'R4_3', 'R5_1'], dtype='<U5'),\n",
       "   array(['R1_0', 'R3_7', 'R4_7', 'R5_6'], dtype='<U5'),\n",
       "   array(['R1_0', 'R3_7', 'R4_3', 'R5_3'], dtype='<U5'),\n",
       "   array(['R1_0', 'R3_7', 'R4_7', 'R5_1'], dtype='<U5'),\n",
       "   array(['R1_0', 'R3_0', 'R4_7', 'R5_5'], dtype='<U5')],\n",
       "  [array(['R1_0', 'R3_7', 'R4_3', 'R5_10'], dtype='<U5'),\n",
       "   array(['R1_0', 'R3_7', 'R4_0', 'R5_10'], dtype='<U5'),\n",
       "   array(['R1_0', 'R3_7', 'R4_7', 'R5_10'], dtype='<U5'),\n",
       "   array(['R1_0', 'R3_7', 'R4_7', 'R5_2'], dtype='<U5'),\n",
       "   array(['R1_0', 'R3_7', 'R4_7', 'R5_0'], dtype='<U5'),\n",
       "   array(['R1_0', 'R3_7', 'R4_7', 'R5_5'], dtype='<U5'),\n",
       "   array(['R1_0', 'R3_7', 'R4_7', 'R5_6'], dtype='<U5'),\n",
       "   array(['R1_0', 'R3_7', 'R4_3', 'R5_3'], dtype='<U5'),\n",
       "   array(['R1_0', 'R3_7', 'R4_7', 'R5_1'], dtype='<U5'),\n",
       "   array(['R1_0', 'R3_7', 'R4_0', 'R5_6'], dtype='<U5')]],\n",
       " 'WeightedSum': [[array(['R1_0', 'R3_0', 'R4_7', 'R5_8'], dtype='<U5'),\n",
       "   array(['R1_0', 'R3_0', 'R4_7', 'R5_0'], dtype='<U5'),\n",
       "   array(['R1_0', 'R3_4', 'R4_7', 'R5_6'], dtype='<U5'),\n",
       "   array(['R1_0', 'R3_0', 'R4_7', 'R5_4'], dtype='<U5'),\n",
       "   array(['R1_1', 'R3_6', 'R4_5', 'R5_10'], dtype='<U5'),\n",
       "   array(['R1_1', 'R3_3', 'R4_7', 'R5_10'], dtype='<U5'),\n",
       "   array(['R1_1', 'R3_6', 'R4_5', 'R5_2'], dtype='<U5'),\n",
       "   array(['R1_1', 'R3_1', 'R4_5', 'R5_2'], dtype='<U5'),\n",
       "   array(['R1_1', 'R3_6', 'R4_5', 'R5_3'], dtype='<U5'),\n",
       "   array(['R1_0', 'R3_0', 'R4_7', 'R5_5'], dtype='<U5')],\n",
       "  [array(['R1_0', 'R3_1', 'R4_5', 'R5_5'], dtype='<U5'),\n",
       "   array(['R1_1', 'R3_7', 'R4_4', 'R5_0'], dtype='<U5'),\n",
       "   array(['R1_0', 'R3_1', 'R4_2', 'R5_5'], dtype='<U5'),\n",
       "   array(['R1_0', 'R3_1', 'R4_3', 'R5_5'], dtype='<U5'),\n",
       "   array(['R1_1', 'R3_0', 'R4_7', 'R5_3'], dtype='<U5'),\n",
       "   array(['R1_0', 'R3_0', 'R4_5', 'R5_5'], dtype='<U5'),\n",
       "   array(['R1_0', 'R3_6', 'R4_7', 'R5_3'], dtype='<U5'),\n",
       "   array(['R1_1', 'R3_4', 'R4_7', 'R5_4'], dtype='<U5'),\n",
       "   array(['R1_0', 'R3_5', 'R4_0', 'R5_5'], dtype='<U5'),\n",
       "   array(['R1_0', 'R3_7', 'R4_6', 'R5_4'], dtype='<U5')],\n",
       "  [array(['R1_0', 'R3_1', 'R4_5', 'R5_5'], dtype='<U5'),\n",
       "   array(['R1_1', 'R3_3', 'R4_1', 'R5_5'], dtype='<U5'),\n",
       "   array(['R1_0', 'R3_1', 'R4_2', 'R5_5'], dtype='<U5'),\n",
       "   array(['R1_1', 'R3_0', 'R4_1', 'R5_5'], dtype='<U5'),\n",
       "   array(['R1_1', 'R3_6', 'R4_3', 'R5_5'], dtype='<U5'),\n",
       "   array(['R1_0', 'R3_1', 'R4_3', 'R5_5'], dtype='<U5'),\n",
       "   array(['R1_1', 'R3_7', 'R4_3', 'R5_5'], dtype='<U5'),\n",
       "   array(['R1_0', 'R3_0', 'R4_5', 'R5_5'], dtype='<U5'),\n",
       "   array(['R1_1', 'R3_1', 'R4_1', 'R5_5'], dtype='<U5'),\n",
       "   array(['R1_0', 'R3_4', 'R4_1', 'R5_5'], dtype='<U5')],\n",
       "  [array(['R1_0', 'R3_0', 'R4_7', 'R5_8'], dtype='<U5'),\n",
       "   array(['R1_0', 'R3_0', 'R4_7', 'R5_0'], dtype='<U5'),\n",
       "   array(['R1_1', 'R3_3', 'R4_1', 'R5_5'], dtype='<U5'),\n",
       "   array(['R1_1', 'R3_3', 'R4_5', 'R5_5'], dtype='<U5'),\n",
       "   array(['R1_1', 'R3_0', 'R4_1', 'R5_5'], dtype='<U5'),\n",
       "   array(['R1_0', 'R3_0', 'R4_7', 'R5_4'], dtype='<U5'),\n",
       "   array(['R1_0', 'R3_6', 'R4_7', 'R5_7'], dtype='<U5'),\n",
       "   array(['R1_0', 'R3_6', 'R4_5', 'R5_2'], dtype='<U5'),\n",
       "   array(['R1_1', 'R3_1', 'R4_3', 'R5_3'], dtype='<U5'),\n",
       "   array(['R1_1', 'R3_7', 'R4_3', 'R5_5'], dtype='<U5')],\n",
       "  [array(['R1_1', 'R3_6', 'R4_3', 'R5_5'], dtype='<U5'),\n",
       "   array(['R1_1', 'R3_7', 'R4_3', 'R5_5'], dtype='<U5'),\n",
       "   array(['R1_1', 'R3_2', 'R4_4', 'R5_5'], dtype='<U5'),\n",
       "   array(['R1_0', 'R3_6', 'R4_7', 'R5_3'], dtype='<U5'),\n",
       "   array(['R1_1', 'R3_1', 'R4_1', 'R5_5'], dtype='<U5'),\n",
       "   array(['R1_0', 'R3_4', 'R4_1', 'R5_5'], dtype='<U5'),\n",
       "   array(['R1_1', 'R3_1', 'R4_6', 'R5_5'], dtype='<U5'),\n",
       "   array(['R1_1', 'R3_1', 'R4_3', 'R5_5'], dtype='<U5'),\n",
       "   array(['R1_1', 'R3_5', 'R4_5', 'R5_3'], dtype='<U5'),\n",
       "   array(['R1_1', 'R3_4', 'R4_1', 'R5_5'], dtype='<U5')],\n",
       "  [array(['R1_0', 'R3_6', 'R4_5', 'R5_3'], dtype='<U5'),\n",
       "   array(['R1_0', 'R3_4', 'R4_7', 'R5_6'], dtype='<U5'),\n",
       "   array(['R1_0', 'R3_7', 'R4_5', 'R5_3'], dtype='<U5'),\n",
       "   array(['R1_0', 'R3_6', 'R4_5', 'R5_2'], dtype='<U5'),\n",
       "   array(['R1_1', 'R3_6', 'R4_5', 'R5_2'], dtype='<U5'),\n",
       "   array(['R1_0', 'R3_0', 'R4_5', 'R5_5'], dtype='<U5'),\n",
       "   array(['R1_0', 'R3_0', 'R4_1', 'R5_5'], dtype='<U5'),\n",
       "   array(['R1_0', 'R3_6', 'R4_7', 'R5_3'], dtype='<U5'),\n",
       "   array(['R1_1', 'R3_6', 'R4_5', 'R5_3'], dtype='<U5'),\n",
       "   array(['R1_0', 'R3_5', 'R4_5', 'R5_1'], dtype='<U5')],\n",
       "  [array(['R1_1', 'R3_3', 'R4_1', 'R5_5'], dtype='<U5'),\n",
       "   array(['R1_1', 'R3_3', 'R4_5', 'R5_5'], dtype='<U5'),\n",
       "   array(['R1_1', 'R3_0', 'R4_1', 'R5_5'], dtype='<U5'),\n",
       "   array(['R1_1', 'R3_0', 'R4_7', 'R5_7'], dtype='<U5'),\n",
       "   array(['R1_0', 'R3_5', 'R4_4', 'R5_2'], dtype='<U5'),\n",
       "   array(['R1_1', 'R3_1', 'R4_1', 'R5_5'], dtype='<U5'),\n",
       "   array(['R1_1', 'R3_6', 'R4_5', 'R5_3'], dtype='<U5'),\n",
       "   array(['R1_1', 'R3_2', 'R4_5', 'R5_3'], dtype='<U5'),\n",
       "   array(['R1_1', 'R3_1', 'R4_3', 'R5_5'], dtype='<U5'),\n",
       "   array(['R1_1', 'R3_5', 'R4_5', 'R5_3'], dtype='<U5')],\n",
       "  [array(['R1_0', 'R3_0', 'R4_7', 'R5_8'], dtype='<U5'),\n",
       "   array(['R1_0', 'R3_0', 'R4_7', 'R5_0'], dtype='<U5'),\n",
       "   array(['R1_0', 'R3_4', 'R4_7', 'R5_6'], dtype='<U5'),\n",
       "   array(['R1_0', 'R3_0', 'R4_7', 'R5_4'], dtype='<U5'),\n",
       "   array(['R1_0', 'R3_6', 'R4_5', 'R5_2'], dtype='<U5'),\n",
       "   array(['R1_1', 'R3_0', 'R4_7', 'R5_7'], dtype='<U5'),\n",
       "   array(['R1_1', 'R3_6', 'R4_5', 'R5_2'], dtype='<U5'),\n",
       "   array(['R1_1', 'R3_0', 'R4_7', 'R5_3'], dtype='<U5'),\n",
       "   array(['R1_0', 'R3_0', 'R4_1', 'R5_5'], dtype='<U5'),\n",
       "   array(['R1_0', 'R3_5', 'R4_4', 'R5_2'], dtype='<U5')],\n",
       "  [array(['R1_0', 'R3_5', 'R4_4', 'R5_2'], dtype='<U5'),\n",
       "   array(['R1_0', 'R3_4', 'R4_1', 'R5_5'], dtype='<U5'),\n",
       "   array(['R1_0', 'R3_5', 'R4_5', 'R5_1'], dtype='<U5'),\n",
       "   array(['R1_1', 'R3_5', 'R4_5', 'R5_1'], dtype='<U5'),\n",
       "   array(['R1_1', 'R3_2', 'R4_5', 'R5_3'], dtype='<U5'),\n",
       "   array(['R1_0', 'R3_4', 'R4_7', 'R5_5'], dtype='<U5'),\n",
       "   array(['R1_1', 'R3_5', 'R4_5', 'R5_3'], dtype='<U5'),\n",
       "   array(['R1_0', 'R3_5', 'R4_0', 'R5_5'], dtype='<U5'),\n",
       "   array(['R1_0', 'R3_1', 'R4_5', 'R5_10'], dtype='<U5'),\n",
       "   array(['R1_0', 'R3_6', 'R4_5', 'R5_6'], dtype='<U5')],\n",
       "  [array(['R1_1', 'R3_7', 'R4_4', 'R5_0'], dtype='<U5'),\n",
       "   array(['R1_1', 'R3_3', 'R4_1', 'R5_5'], dtype='<U5'),\n",
       "   array(['R1_1', 'R3_3', 'R4_5', 'R5_5'], dtype='<U5'),\n",
       "   array(['R1_1', 'R3_0', 'R4_1', 'R5_5'], dtype='<U5'),\n",
       "   array(['R1_0', 'R3_0', 'R4_1', 'R5_5'], dtype='<U5'),\n",
       "   array(['R1_1', 'R3_1', 'R4_1', 'R5_5'], dtype='<U5'),\n",
       "   array(['R1_1', 'R3_1', 'R4_5', 'R5_2'], dtype='<U5'),\n",
       "   array(['R1_0', 'R3_4', 'R4_1', 'R5_5'], dtype='<U5'),\n",
       "   array(['R1_0', 'R3_0', 'R4_7', 'R5_5'], dtype='<U5'),\n",
       "   array(['R1_1', 'R3_4', 'R4_1', 'R5_5'], dtype='<U5')],\n",
       "  [array(['R1_0', 'R3_6', 'R4_5', 'R5_3'], dtype='<U5'),\n",
       "   array(['R1_0', 'R3_7', 'R4_5', 'R5_3'], dtype='<U5'),\n",
       "   array(['R1_1', 'R3_3', 'R4_5', 'R5_5'], dtype='<U5'),\n",
       "   array(['R1_0', 'R3_6', 'R4_5', 'R5_2'], dtype='<U5'),\n",
       "   array(['R1_0', 'R3_1', 'R4_3', 'R5_5'], dtype='<U5'),\n",
       "   array(['R1_1', 'R3_6', 'R4_5', 'R5_2'], dtype='<U5'),\n",
       "   array(['R1_0', 'R3_4', 'R4_1', 'R5_5'], dtype='<U5'),\n",
       "   array(['R1_1', 'R3_6', 'R4_0', 'R5_5'], dtype='<U5'),\n",
       "   array(['R1_1', 'R3_6', 'R4_5', 'R5_3'], dtype='<U5'),\n",
       "   array(['R1_0', 'R3_0', 'R4_7', 'R5_5'], dtype='<U5')],\n",
       "  [array(['R1_0', 'R3_0', 'R4_7', 'R5_8'], dtype='<U5'),\n",
       "   array(['R1_0', 'R3_0', 'R4_7', 'R5_0'], dtype='<U5'),\n",
       "   array(['R1_0', 'R3_7', 'R4_4', 'R5_6'], dtype='<U5'),\n",
       "   array(['R1_0', 'R3_0', 'R4_7', 'R5_4'], dtype='<U5'),\n",
       "   array(['R1_1', 'R3_1', 'R4_3', 'R5_3'], dtype='<U5'),\n",
       "   array(['R1_1', 'R3_0', 'R4_7', 'R5_7'], dtype='<U5'),\n",
       "   array(['R1_1', 'R3_0', 'R4_7', 'R5_3'], dtype='<U5'),\n",
       "   array(['R1_0', 'R3_0', 'R4_7', 'R5_5'], dtype='<U5'),\n",
       "   array(['R1_0', 'R3_7', 'R4_4', 'R5_5'], dtype='<U5'),\n",
       "   array(['R1_0', 'R3_7', 'R4_6', 'R5_4'], dtype='<U5')],\n",
       "  [array(['R1_0', 'R3_0', 'R4_7', 'R5_8'], dtype='<U5'),\n",
       "   array(['R1_0', 'R3_1', 'R4_5', 'R5_5'], dtype='<U5'),\n",
       "   array(['R1_0', 'R3_0', 'R4_7', 'R5_0'], dtype='<U5'),\n",
       "   array(['R1_0', 'R3_1', 'R4_2', 'R5_5'], dtype='<U5'),\n",
       "   array(['R1_0', 'R3_1', 'R4_3', 'R5_5'], dtype='<U5'),\n",
       "   array(['R1_0', 'R3_0', 'R4_5', 'R5_5'], dtype='<U5'),\n",
       "   array(['R1_0', 'R3_0', 'R4_1', 'R5_5'], dtype='<U5'),\n",
       "   array(['R1_0', 'R3_0', 'R4_7', 'R5_5'], dtype='<U5'),\n",
       "   array(['R1_1', 'R3_7', 'R4_0', 'R5_7'], dtype='<U5'),\n",
       "   array(['R1_0', 'R3_2', 'R4_7', 'R5_1'], dtype='<U5')],\n",
       "  [array(['R1_0', 'R3_1', 'R4_5', 'R5_5'], dtype='<U5'),\n",
       "   array(['R1_0', 'R3_7', 'R4_5', 'R5_3'], dtype='<U5'),\n",
       "   array(['R1_1', 'R3_5', 'R4_5', 'R5_6'], dtype='<U5'),\n",
       "   array(['R1_0', 'R3_1', 'R4_2', 'R5_5'], dtype='<U5'),\n",
       "   array(['R1_0', 'R3_1', 'R4_3', 'R5_5'], dtype='<U5'),\n",
       "   array(['R1_0', 'R3_0', 'R4_5', 'R5_5'], dtype='<U5'),\n",
       "   array(['R1_0', 'R3_5', 'R4_4', 'R5_2'], dtype='<U5'),\n",
       "   array(['R1_0', 'R3_5', 'R4_5', 'R5_1'], dtype='<U5'),\n",
       "   array(['R1_1', 'R3_5', 'R4_5', 'R5_1'], dtype='<U5'),\n",
       "   array(['R1_0', 'R3_4', 'R4_7', 'R5_5'], dtype='<U5')],\n",
       "  [array(['R1_1', 'R3_3', 'R4_1', 'R5_5'], dtype='<U5'),\n",
       "   array(['R1_1', 'R3_5', 'R4_5', 'R5_6'], dtype='<U5'),\n",
       "   array(['R1_1', 'R3_3', 'R4_5', 'R5_5'], dtype='<U5'),\n",
       "   array(['R1_1', 'R3_0', 'R4_1', 'R5_5'], dtype='<U5'),\n",
       "   array(['R1_1', 'R3_2', 'R4_4', 'R5_5'], dtype='<U5'),\n",
       "   array(['R1_0', 'R3_0', 'R4_5', 'R5_5'], dtype='<U5'),\n",
       "   array(['R1_0', 'R3_0', 'R4_1', 'R5_5'], dtype='<U5'),\n",
       "   array(['R1_1', 'R3_1', 'R4_1', 'R5_5'], dtype='<U5'),\n",
       "   array(['R1_1', 'R3_6', 'R4_0', 'R5_5'], dtype='<U5'),\n",
       "   array(['R1_1', 'R3_5', 'R4_5', 'R5_1'], dtype='<U5')],\n",
       "  [array(['R1_0', 'R3_6', 'R4_5', 'R5_3'], dtype='<U5'),\n",
       "   array(['R1_0', 'R3_7', 'R4_5', 'R5_3'], dtype='<U5'),\n",
       "   array(['R1_1', 'R3_7', 'R4_4', 'R5_0'], dtype='<U5'),\n",
       "   array(['R1_1', 'R3_3', 'R4_5', 'R5_5'], dtype='<U5'),\n",
       "   array(['R1_0', 'R3_6', 'R4_5', 'R5_2'], dtype='<U5'),\n",
       "   array(['R1_1', 'R3_6', 'R4_5', 'R5_2'], dtype='<U5'),\n",
       "   array(['R1_1', 'R3_0', 'R4_7', 'R5_3'], dtype='<U5'),\n",
       "   array(['R1_0', 'R3_0', 'R4_5', 'R5_5'], dtype='<U5'),\n",
       "   array(['R1_0', 'R3_6', 'R4_7', 'R5_3'], dtype='<U5'),\n",
       "   array(['R1_1', 'R3_1', 'R4_1', 'R5_5'], dtype='<U5')],\n",
       "  [array(['R1_1', 'R3_3', 'R4_1', 'R5_5'], dtype='<U5'),\n",
       "   array(['R1_0', 'R3_1', 'R4_2', 'R5_5'], dtype='<U5'),\n",
       "   array(['R1_1', 'R3_0', 'R4_1', 'R5_5'], dtype='<U5'),\n",
       "   array(['R1_0', 'R3_6', 'R4_7', 'R5_7'], dtype='<U5'),\n",
       "   array(['R1_1', 'R3_6', 'R4_3', 'R5_5'], dtype='<U5'),\n",
       "   array(['R1_1', 'R3_1', 'R4_3', 'R5_3'], dtype='<U5'),\n",
       "   array(['R1_1', 'R3_1', 'R4_1', 'R5_5'], dtype='<U5'),\n",
       "   array(['R1_1', 'R3_1', 'R4_6', 'R5_5'], dtype='<U5'),\n",
       "   array(['R1_1', 'R3_1', 'R4_3', 'R5_5'], dtype='<U5'),\n",
       "   array(['R1_1', 'R3_4', 'R4_1', 'R5_5'], dtype='<U5')],\n",
       "  [array(['R1_0', 'R3_4', 'R4_7', 'R5_6'], dtype='<U5'),\n",
       "   array(['R1_0', 'R3_7', 'R4_4', 'R5_6'], dtype='<U5'),\n",
       "   array(['R1_0', 'R3_0', 'R4_7', 'R5_4'], dtype='<U5'),\n",
       "   array(['R1_1', 'R3_6', 'R4_5', 'R5_10'], dtype='<U5'),\n",
       "   array(['R1_1', 'R3_3', 'R4_7', 'R5_10'], dtype='<U5'),\n",
       "   array(['R1_1', 'R3_6', 'R4_5', 'R5_2'], dtype='<U5'),\n",
       "   array(['R1_1', 'R3_6', 'R4_5', 'R5_3'], dtype='<U5'),\n",
       "   array(['R1_0', 'R3_0', 'R4_7', 'R5_5'], dtype='<U5'),\n",
       "   array(['R1_1', 'R3_2', 'R4_5', 'R5_3'], dtype='<U5'),\n",
       "   array(['R1_0', 'R3_4', 'R4_7', 'R5_5'], dtype='<U5')],\n",
       "  [array(['R1_0', 'R3_4', 'R4_7', 'R5_6'], dtype='<U5'),\n",
       "   array(['R1_1', 'R3_7', 'R4_4', 'R5_0'], dtype='<U5'),\n",
       "   array(['R1_0', 'R3_4', 'R4_7', 'R5_5'], dtype='<U5'),\n",
       "   array(['R1_1', 'R3_1', 'R4_3', 'R5_5'], dtype='<U5'),\n",
       "   array(['R1_1', 'R3_4', 'R4_7', 'R5_4'], dtype='<U5'),\n",
       "   array(['R1_1', 'R3_4', 'R4_5', 'R5_5'], dtype='<U5'),\n",
       "   array(['R1_0', 'R3_7', 'R4_7', 'R5_0'], dtype='<U5'),\n",
       "   array(['R1_0', 'R3_6', 'R4_5', 'R5_6'], dtype='<U5'),\n",
       "   array(['R1_1', 'R3_0', 'R4_7', 'R5_4'], dtype='<U5'),\n",
       "   array(['R1_0', 'R3_4', 'R4_7', 'R5_3'], dtype='<U5')],\n",
       "  [array(['R1_0', 'R3_1', 'R4_5', 'R5_5'], dtype='<U5'),\n",
       "   array(['R1_0', 'R3_6', 'R4_5', 'R5_3'], dtype='<U5'),\n",
       "   array(['R1_1', 'R3_5', 'R4_5', 'R5_6'], dtype='<U5'),\n",
       "   array(['R1_1', 'R3_3', 'R4_7', 'R5_10'], dtype='<U5'),\n",
       "   array(['R1_0', 'R3_6', 'R4_5', 'R5_2'], dtype='<U5'),\n",
       "   array(['R1_0', 'R3_0', 'R4_5', 'R5_5'], dtype='<U5'),\n",
       "   array(['R1_0', 'R3_0', 'R4_1', 'R5_5'], dtype='<U5'),\n",
       "   array(['R1_0', 'R3_6', 'R4_7', 'R5_3'], dtype='<U5'),\n",
       "   array(['R1_0', 'R3_4', 'R4_1', 'R5_5'], dtype='<U5'),\n",
       "   array(['R1_1', 'R3_6', 'R4_5', 'R5_3'], dtype='<U5')],\n",
       "  [array(['R1_0', 'R3_1', 'R4_5', 'R5_5'], dtype='<U5'),\n",
       "   array(['R1_0', 'R3_6', 'R4_5', 'R5_3'], dtype='<U5'),\n",
       "   array(['R1_0', 'R3_1', 'R4_2', 'R5_5'], dtype='<U5'),\n",
       "   array(['R1_0', 'R3_6', 'R4_7', 'R5_7'], dtype='<U5'),\n",
       "   array(['R1_1', 'R3_6', 'R4_5', 'R5_10'], dtype='<U5'),\n",
       "   array(['R1_1', 'R3_1', 'R4_3', 'R5_3'], dtype='<U5'),\n",
       "   array(['R1_0', 'R3_1', 'R4_3', 'R5_5'], dtype='<U5'),\n",
       "   array(['R1_1', 'R3_0', 'R4_7', 'R5_3'], dtype='<U5'),\n",
       "   array(['R1_0', 'R3_0', 'R4_5', 'R5_5'], dtype='<U5'),\n",
       "   array(['R1_0', 'R3_6', 'R4_7', 'R5_3'], dtype='<U5')],\n",
       "  [array(['R1_0', 'R3_6', 'R4_5', 'R5_3'], dtype='<U5'),\n",
       "   array(['R1_0', 'R3_7', 'R4_5', 'R5_3'], dtype='<U5'),\n",
       "   array(['R1_0', 'R3_6', 'R4_7', 'R5_7'], dtype='<U5'),\n",
       "   array(['R1_1', 'R3_1', 'R4_3', 'R5_3'], dtype='<U5'),\n",
       "   array(['R1_0', 'R3_6', 'R4_7', 'R5_3'], dtype='<U5'),\n",
       "   array(['R1_1', 'R3_6', 'R4_5', 'R5_3'], dtype='<U5'),\n",
       "   array(['R1_1', 'R3_2', 'R4_5', 'R5_3'], dtype='<U5'),\n",
       "   array(['R1_0', 'R3_7', 'R4_3', 'R5_3'], dtype='<U5'),\n",
       "   array(['R1_1', 'R3_1', 'R4_3', 'R5_5'], dtype='<U5'),\n",
       "   array(['R1_0', 'R3_7', 'R4_3', 'R5_4'], dtype='<U5')],\n",
       "  [array(['R1_0', 'R3_6', 'R4_5', 'R5_3'], dtype='<U5'),\n",
       "   array(['R1_0', 'R3_7', 'R4_5', 'R5_3'], dtype='<U5'),\n",
       "   array(['R1_0', 'R3_7', 'R4_4', 'R5_6'], dtype='<U5'),\n",
       "   array(['R1_0', 'R3_6', 'R4_5', 'R5_2'], dtype='<U5'),\n",
       "   array(['R1_1', 'R3_1', 'R4_1', 'R5_5'], dtype='<U5'),\n",
       "   array(['R1_0', 'R3_4', 'R4_1', 'R5_5'], dtype='<U5'),\n",
       "   array(['R1_1', 'R3_6', 'R4_5', 'R5_3'], dtype='<U5'),\n",
       "   array(['R1_1', 'R3_1', 'R4_6', 'R5_5'], dtype='<U5'),\n",
       "   array(['R1_0', 'R3_4', 'R4_7', 'R5_5'], dtype='<U5'),\n",
       "   array(['R1_1', 'R3_1', 'R4_3', 'R5_5'], dtype='<U5')],\n",
       "  [array(['R1_0', 'R3_4', 'R4_7', 'R5_6'], dtype='<U5'),\n",
       "   array(['R1_0', 'R3_6', 'R4_7', 'R5_7'], dtype='<U5'),\n",
       "   array(['R1_1', 'R3_3', 'R4_7', 'R5_10'], dtype='<U5'),\n",
       "   array(['R1_1', 'R3_6', 'R4_3', 'R5_5'], dtype='<U5'),\n",
       "   array(['R1_1', 'R3_1', 'R4_1', 'R5_5'], dtype='<U5'),\n",
       "   array(['R1_1', 'R3_6', 'R4_0', 'R5_5'], dtype='<U5'),\n",
       "   array(['R1_1', 'R3_1', 'R4_6', 'R5_5'], dtype='<U5'),\n",
       "   array(['R1_1', 'R3_1', 'R4_3', 'R5_5'], dtype='<U5'),\n",
       "   array(['R1_1', 'R3_5', 'R4_5', 'R5_3'], dtype='<U5'),\n",
       "   array(['R1_0', 'R3_7', 'R4_4', 'R5_5'], dtype='<U5')],\n",
       "  [array(['R1_0', 'R3_0', 'R4_7', 'R5_8'], dtype='<U5'),\n",
       "   array(['R1_0', 'R3_0', 'R4_7', 'R5_0'], dtype='<U5'),\n",
       "   array(['R1_0', 'R3_7', 'R4_4', 'R5_6'], dtype='<U5'),\n",
       "   array(['R1_0', 'R3_1', 'R4_2', 'R5_5'], dtype='<U5'),\n",
       "   array(['R1_0', 'R3_0', 'R4_7', 'R5_4'], dtype='<U5'),\n",
       "   array(['R1_1', 'R3_0', 'R4_7', 'R5_7'], dtype='<U5'),\n",
       "   array(['R1_1', 'R3_0', 'R4_7', 'R5_3'], dtype='<U5'),\n",
       "   array(['R1_0', 'R3_0', 'R4_7', 'R5_5'], dtype='<U5'),\n",
       "   array(['R1_0', 'R3_7', 'R4_4', 'R5_5'], dtype='<U5'),\n",
       "   array(['R1_0', 'R3_7', 'R4_7', 'R5_0'], dtype='<U5')],\n",
       "  [array(['R1_0', 'R3_0', 'R4_7', 'R5_8'], dtype='<U5'),\n",
       "   array(['R1_0', 'R3_0', 'R4_7', 'R5_0'], dtype='<U5'),\n",
       "   array(['R1_1', 'R3_7', 'R4_4', 'R5_0'], dtype='<U5'),\n",
       "   array(['R1_0', 'R3_0', 'R4_7', 'R5_4'], dtype='<U5'),\n",
       "   array(['R1_0', 'R3_6', 'R4_7', 'R5_7'], dtype='<U5'),\n",
       "   array(['R1_1', 'R3_6', 'R4_5', 'R5_2'], dtype='<U5'),\n",
       "   array(['R1_0', 'R3_0', 'R4_1', 'R5_5'], dtype='<U5'),\n",
       "   array(['R1_1', 'R3_1', 'R4_1', 'R5_5'], dtype='<U5'),\n",
       "   array(['R1_1', 'R3_1', 'R4_5', 'R5_2'], dtype='<U5'),\n",
       "   array(['R1_0', 'R3_0', 'R4_7', 'R5_5'], dtype='<U5')]],\n",
       " 'Parego': [[array(['R1_0', 'R3_0', 'R4_7', 'R5_0'], dtype='<U5'),\n",
       "   array(['R1_0', 'R3_0', 'R4_7', 'R5_8'], dtype='<U5'),\n",
       "   array(['R1_0', 'R3_7', 'R4_3', 'R5_3'], dtype='<U5'),\n",
       "   array(['R1_0', 'R3_0', 'R4_7', 'R5_5'], dtype='<U5'),\n",
       "   array(['R1_0', 'R3_7', 'R4_5', 'R5_3'], dtype='<U5'),\n",
       "   array(['R1_0', 'R3_0', 'R4_7', 'R5_4'], dtype='<U5'),\n",
       "   array(['R1_0', 'R3_5', 'R4_7', 'R5_0'], dtype='<U5'),\n",
       "   array(['R1_0', 'R3_7', 'R4_3', 'R5_4'], dtype='<U5'),\n",
       "   array(['R1_1', 'R3_7', 'R4_3', 'R5_5'], dtype='<U5'),\n",
       "   array(['R1_0', 'R3_4', 'R4_7', 'R5_5'], dtype='<U5')],\n",
       "  [array(['R1_1', 'R3_3', 'R4_5', 'R5_5'], dtype='<U5'),\n",
       "   array(['R1_1', 'R3_0', 'R4_1', 'R5_5'], dtype='<U5'),\n",
       "   array(['R1_1', 'R3_3', 'R4_1', 'R5_5'], dtype='<U5'),\n",
       "   array(['R1_1', 'R3_5', 'R4_5', 'R5_6'], dtype='<U5'),\n",
       "   array(['R1_1', 'R3_1', 'R4_1', 'R5_5'], dtype='<U5'),\n",
       "   array(['R1_0', 'R3_5', 'R4_4', 'R5_2'], dtype='<U5'),\n",
       "   array(['R1_1', 'R3_5', 'R4_5', 'R5_1'], dtype='<U5'),\n",
       "   array(['R1_0', 'R3_5', 'R4_5', 'R5_1'], dtype='<U5'),\n",
       "   array(['R1_1', 'R3_4', 'R4_1', 'R5_5'], dtype='<U5'),\n",
       "   array(['R1_1', 'R3_5', 'R4_5', 'R5_3'], dtype='<U5')],\n",
       "  [array(['R1_0', 'R3_0', 'R4_7', 'R5_8'], dtype='<U5'),\n",
       "   array(['R1_0', 'R3_0', 'R4_7', 'R5_0'], dtype='<U5'),\n",
       "   array(['R1_1', 'R3_0', 'R4_1', 'R5_5'], dtype='<U5'),\n",
       "   array(['R1_1', 'R3_3', 'R4_5', 'R5_5'], dtype='<U5'),\n",
       "   array(['R1_0', 'R3_0', 'R4_7', 'R5_4'], dtype='<U5'),\n",
       "   array(['R1_1', 'R3_7', 'R4_3', 'R5_5'], dtype='<U5'),\n",
       "   array(['R1_1', 'R3_1', 'R4_5', 'R5_2'], dtype='<U5'),\n",
       "   array(['R1_1', 'R3_6', 'R4_0', 'R5_5'], dtype='<U5'),\n",
       "   array(['R1_0', 'R3_0', 'R4_7', 'R5_5'], dtype='<U5'),\n",
       "   array(['R1_1', 'R3_5', 'R4_5', 'R5_3'], dtype='<U5')],\n",
       "  [array(['R1_0', 'R3_6', 'R4_5', 'R5_3'], dtype='<U5'),\n",
       "   array(['R1_0', 'R3_7', 'R4_5', 'R5_3'], dtype='<U5'),\n",
       "   array(['R1_0', 'R3_6', 'R4_5', 'R5_2'], dtype='<U5'),\n",
       "   array(['R1_1', 'R3_1', 'R4_3', 'R5_3'], dtype='<U5'),\n",
       "   array(['R1_1', 'R3_6', 'R4_5', 'R5_3'], dtype='<U5'),\n",
       "   array(['R1_1', 'R3_2', 'R4_5', 'R5_3'], dtype='<U5'),\n",
       "   array(['R1_1', 'R3_5', 'R4_5', 'R5_3'], dtype='<U5'),\n",
       "   array(['R1_0', 'R3_7', 'R4_3', 'R5_3'], dtype='<U5'),\n",
       "   array(['R1_0', 'R3_7', 'R4_4', 'R5_5'], dtype='<U5'),\n",
       "   array(['R1_1', 'R3_6', 'R4_3', 'R5_3'], dtype='<U5')],\n",
       "  [array(['R1_0', 'R3_4', 'R4_7', 'R5_6'], dtype='<U5'),\n",
       "   array(['R1_1', 'R3_5', 'R4_5', 'R5_6'], dtype='<U5'),\n",
       "   array(['R1_0', 'R3_6', 'R4_5', 'R5_2'], dtype='<U5'),\n",
       "   array(['R1_1', 'R3_3', 'R4_7', 'R5_10'], dtype='<U5'),\n",
       "   array(['R1_1', 'R3_1', 'R4_1', 'R5_5'], dtype='<U5'),\n",
       "   array(['R1_1', 'R3_5', 'R4_5', 'R5_1'], dtype='<U5'),\n",
       "   array(['R1_1', 'R3_1', 'R4_3', 'R5_5'], dtype='<U5'),\n",
       "   array(['R1_0', 'R3_4', 'R4_7', 'R5_5'], dtype='<U5'),\n",
       "   array(['R1_0', 'R3_7', 'R4_6', 'R5_4'], dtype='<U5'),\n",
       "   array(['R1_1', 'R3_2', 'R4_5', 'R5_10'], dtype='<U5')],\n",
       "  [array(['R1_0', 'R3_7', 'R4_5', 'R5_3'], dtype='<U5'),\n",
       "   array(['R1_0', 'R3_6', 'R4_5', 'R5_3'], dtype='<U5'),\n",
       "   array(['R1_1', 'R3_6', 'R4_5', 'R5_3'], dtype='<U5'),\n",
       "   array(['R1_1', 'R3_6', 'R4_3', 'R5_5'], dtype='<U5'),\n",
       "   array(['R1_1', 'R3_5', 'R4_5', 'R5_3'], dtype='<U5'),\n",
       "   array(['R1_1', 'R3_6', 'R4_0', 'R5_5'], dtype='<U5'),\n",
       "   array(['R1_1', 'R3_4', 'R4_7', 'R5_4'], dtype='<U5'),\n",
       "   array(['R1_1', 'R3_2', 'R4_5', 'R5_3'], dtype='<U5'),\n",
       "   array(['R1_0', 'R3_7', 'R4_3', 'R5_3'], dtype='<U5'),\n",
       "   array(['R1_0', 'R3_4', 'R4_5', 'R5_3'], dtype='<U5')],\n",
       "  [array(['R1_1', 'R3_7', 'R4_0', 'R5_0'], dtype='<U5'),\n",
       "   array(['R1_1', 'R3_7', 'R4_7', 'R5_0'], dtype='<U5'),\n",
       "   array(['R1_0', 'R3_3', 'R4_7', 'R5_3'], dtype='<U5'),\n",
       "   array(['R1_0', 'R3_7', 'R4_3', 'R5_0'], dtype='<U5'),\n",
       "   array(['R1_0', 'R3_7', 'R4_7', 'R5_4'], dtype='<U5'),\n",
       "   array(['R1_1', 'R3_0', 'R4_7', 'R5_0'], dtype='<U5'),\n",
       "   array(['R1_1', 'R3_0', 'R4_7', 'R5_8'], dtype='<U5'),\n",
       "   array(['R1_0', 'R3_3', 'R4_7', 'R5_5'], dtype='<U5'),\n",
       "   array(['R1_0', 'R3_0', 'R4_7', 'R5_3'], dtype='<U5'),\n",
       "   array(['R1_0', 'R3_3', 'R4_0', 'R5_8'], dtype='<U5')],\n",
       "  [array(['R1_0', 'R3_0', 'R4_7', 'R5_0'], dtype='<U5'),\n",
       "   array(['R1_0', 'R3_0', 'R4_7', 'R5_8'], dtype='<U5'),\n",
       "   array(['R1_0', 'R3_0', 'R4_7', 'R5_4'], dtype='<U5'),\n",
       "   array(['R1_1', 'R3_7', 'R4_4', 'R5_0'], dtype='<U5'),\n",
       "   array(['R1_1', 'R3_0', 'R4_7', 'R5_7'], dtype='<U5'),\n",
       "   array(['R1_0', 'R3_4', 'R4_7', 'R5_6'], dtype='<U5'),\n",
       "   array(['R1_0', 'R3_1', 'R4_5', 'R5_5'], dtype='<U5'),\n",
       "   array(['R1_0', 'R3_6', 'R4_7', 'R5_3'], dtype='<U5'),\n",
       "   array(['R1_0', 'R3_0', 'R4_7', 'R5_5'], dtype='<U5'),\n",
       "   array(['R1_0', 'R3_6', 'R4_7', 'R5_7'], dtype='<U5')],\n",
       "  [array(['R1_0', 'R3_7', 'R4_7', 'R5_0'], dtype='<U5'),\n",
       "   array(['R1_0', 'R3_7', 'R4_0', 'R5_0'], dtype='<U5'),\n",
       "   array(['R1_0', 'R3_7', 'R4_0', 'R5_3'], dtype='<U5'),\n",
       "   array(['R1_0', 'R3_7', 'R4_3', 'R5_3'], dtype='<U5'),\n",
       "   array(['R1_1', 'R3_7', 'R4_7', 'R5_0'], dtype='<U5'),\n",
       "   array(['R1_0', 'R3_7', 'R4_7', 'R5_5'], dtype='<U5'),\n",
       "   array(['R1_0', 'R3_7', 'R4_5', 'R5_3'], dtype='<U5'),\n",
       "   array(['R1_0', 'R3_5', 'R4_7', 'R5_0'], dtype='<U5'),\n",
       "   array(['R1_0', 'R3_7', 'R4_0', 'R5_4'], dtype='<U5'),\n",
       "   array(['R1_0', 'R3_5', 'R4_0', 'R5_5'], dtype='<U5')],\n",
       "  [array(['R1_0', 'R3_6', 'R4_5', 'R5_3'], dtype='<U5'),\n",
       "   array(['R1_0', 'R3_0', 'R4_7', 'R5_8'], dtype='<U5'),\n",
       "   array(['R1_0', 'R3_7', 'R4_5', 'R5_3'], dtype='<U5'),\n",
       "   array(['R1_0', 'R3_7', 'R4_4', 'R5_6'], dtype='<U5'),\n",
       "   array(['R1_0', 'R3_0', 'R4_7', 'R5_0'], dtype='<U5'),\n",
       "   array(['R1_0', 'R3_6', 'R4_7', 'R5_7'], dtype='<U5'),\n",
       "   array(['R1_0', 'R3_0', 'R4_7', 'R5_4'], dtype='<U5'),\n",
       "   array(['R1_1', 'R3_6', 'R4_5', 'R5_3'], dtype='<U5'),\n",
       "   array(['R1_0', 'R3_5', 'R4_5', 'R5_1'], dtype='<U5'),\n",
       "   array(['R1_0', 'R3_0', 'R4_7', 'R5_5'], dtype='<U5')],\n",
       "  [array(['R1_0', 'R3_7', 'R4_0', 'R5_3'], dtype='<U5'),\n",
       "   array(['R1_0', 'R3_0', 'R4_7', 'R5_5'], dtype='<U5'),\n",
       "   array(['R1_0', 'R3_7', 'R4_7', 'R5_5'], dtype='<U5'),\n",
       "   array(['R1_1', 'R3_7', 'R4_0', 'R5_3'], dtype='<U5'),\n",
       "   array(['R1_0', 'R3_4', 'R4_7', 'R5_3'], dtype='<U5'),\n",
       "   array(['R1_1', 'R3_0', 'R4_7', 'R5_7'], dtype='<U5'),\n",
       "   array(['R1_0', 'R3_4', 'R4_7', 'R5_0'], dtype='<U5'),\n",
       "   array(['R1_1', 'R3_7', 'R4_0', 'R5_7'], dtype='<U5'),\n",
       "   array(['R1_0', 'R3_4', 'R4_7', 'R5_5'], dtype='<U5'),\n",
       "   array(['R1_1', 'R3_4', 'R4_7', 'R5_3'], dtype='<U5')],\n",
       "  [array(['R1_0', 'R3_1', 'R4_5', 'R5_5'], dtype='<U5'),\n",
       "   array(['R1_0', 'R3_0', 'R4_7', 'R5_8'], dtype='<U5'),\n",
       "   array(['R1_0', 'R3_0', 'R4_7', 'R5_0'], dtype='<U5'),\n",
       "   array(['R1_1', 'R3_7', 'R4_4', 'R5_0'], dtype='<U5'),\n",
       "   array(['R1_1', 'R3_0', 'R4_1', 'R5_5'], dtype='<U5'),\n",
       "   array(['R1_0', 'R3_0', 'R4_7', 'R5_4'], dtype='<U5'),\n",
       "   array(['R1_1', 'R3_5', 'R4_5', 'R5_1'], dtype='<U5'),\n",
       "   array(['R1_1', 'R3_1', 'R4_6', 'R5_5'], dtype='<U5'),\n",
       "   array(['R1_0', 'R3_0', 'R4_7', 'R5_5'], dtype='<U5'),\n",
       "   array(['R1_0', 'R3_2', 'R4_7', 'R5_1'], dtype='<U5')],\n",
       "  [array(['R1_1', 'R3_3', 'R4_5', 'R5_5'], dtype='<U5'),\n",
       "   array(['R1_0', 'R3_1', 'R4_5', 'R5_5'], dtype='<U5'),\n",
       "   array(['R1_0', 'R3_6', 'R4_7', 'R5_7'], dtype='<U5'),\n",
       "   array(['R1_1', 'R3_3', 'R4_1', 'R5_5'], dtype='<U5'),\n",
       "   array(['R1_0', 'R3_1', 'R4_3', 'R5_5'], dtype='<U5'),\n",
       "   array(['R1_0', 'R3_1', 'R4_2', 'R5_5'], dtype='<U5'),\n",
       "   array(['R1_1', 'R3_6', 'R4_5', 'R5_10'], dtype='<U5'),\n",
       "   array(['R1_1', 'R3_6', 'R4_5', 'R5_2'], dtype='<U5'),\n",
       "   array(['R1_0', 'R3_0', 'R4_1', 'R5_5'], dtype='<U5'),\n",
       "   array(['R1_0', 'R3_0', 'R4_5', 'R5_5'], dtype='<U5')],\n",
       "  [array(['R1_0', 'R3_0', 'R4_7', 'R5_0'], dtype='<U5'),\n",
       "   array(['R1_0', 'R3_0', 'R4_7', 'R5_8'], dtype='<U5'),\n",
       "   array(['R1_0', 'R3_0', 'R4_7', 'R5_5'], dtype='<U5'),\n",
       "   array(['R1_0', 'R3_0', 'R4_7', 'R5_4'], dtype='<U5'),\n",
       "   array(['R1_0', 'R3_0', 'R4_5', 'R5_5'], dtype='<U5'),\n",
       "   array(['R1_0', 'R3_0', 'R4_7', 'R5_7'], dtype='<U5'),\n",
       "   array(['R1_0', 'R3_3', 'R4_7', 'R5_4'], dtype='<U5'),\n",
       "   array(['R1_0', 'R3_7', 'R4_3', 'R5_4'], dtype='<U5'),\n",
       "   array(['R1_1', 'R3_0', 'R4_7', 'R5_4'], dtype='<U5'),\n",
       "   array(['R1_0', 'R3_0', 'R4_6', 'R5_5'], dtype='<U5')],\n",
       "  [array(['R1_0', 'R3_7', 'R4_7', 'R5_0'], dtype='<U5'),\n",
       "   array(['R1_0', 'R3_0', 'R4_7', 'R5_0'], dtype='<U5'),\n",
       "   array(['R1_0', 'R3_0', 'R4_7', 'R5_8'], dtype='<U5'),\n",
       "   array(['R1_0', 'R3_7', 'R4_3', 'R5_3'], dtype='<U5'),\n",
       "   array(['R1_0', 'R3_0', 'R4_0', 'R5_8'], dtype='<U5'),\n",
       "   array(['R1_0', 'R3_3', 'R4_7', 'R5_0'], dtype='<U5'),\n",
       "   array(['R1_0', 'R3_5', 'R4_7', 'R5_8'], dtype='<U5'),\n",
       "   array(['R1_0', 'R3_0', 'R4_7', 'R5_5'], dtype='<U5'),\n",
       "   array(['R1_0', 'R3_7', 'R4_7', 'R5_4'], dtype='<U5'),\n",
       "   array(['R1_0', 'R3_7', 'R4_7', 'R5_8'], dtype='<U5')],\n",
       "  [array(['R1_0', 'R3_0', 'R4_7', 'R5_0'], dtype='<U5'),\n",
       "   array(['R1_0', 'R3_0', 'R4_7', 'R5_8'], dtype='<U5'),\n",
       "   array(['R1_0', 'R3_0', 'R4_7', 'R5_5'], dtype='<U5'),\n",
       "   array(['R1_0', 'R3_0', 'R4_7', 'R5_4'], dtype='<U5'),\n",
       "   array(['R1_1', 'R3_7', 'R4_4', 'R5_0'], dtype='<U5'),\n",
       "   array(['R1_1', 'R3_7', 'R4_3', 'R5_5'], dtype='<U5'),\n",
       "   array(['R1_0', 'R3_4', 'R4_7', 'R5_6'], dtype='<U5'),\n",
       "   array(['R1_0', 'R3_4', 'R4_7', 'R5_5'], dtype='<U5'),\n",
       "   array(['R1_0', 'R3_6', 'R4_7', 'R5_3'], dtype='<U5'),\n",
       "   array(['R1_0', 'R3_5', 'R4_0', 'R5_5'], dtype='<U5')],\n",
       "  [array(['R1_0', 'R3_0', 'R4_7', 'R5_0'], dtype='<U5'),\n",
       "   array(['R1_1', 'R3_3', 'R4_5', 'R5_5'], dtype='<U5'),\n",
       "   array(['R1_1', 'R3_0', 'R4_1', 'R5_5'], dtype='<U5'),\n",
       "   array(['R1_1', 'R3_3', 'R4_1', 'R5_5'], dtype='<U5'),\n",
       "   array(['R1_1', 'R3_6', 'R4_3', 'R5_5'], dtype='<U5'),\n",
       "   array(['R1_0', 'R3_6', 'R4_5', 'R5_2'], dtype='<U5'),\n",
       "   array(['R1_0', 'R3_0', 'R4_7', 'R5_4'], dtype='<U5'),\n",
       "   array(['R1_1', 'R3_1', 'R4_1', 'R5_5'], dtype='<U5'),\n",
       "   array(['R1_0', 'R3_0', 'R4_1', 'R5_5'], dtype='<U5'),\n",
       "   array(['R1_0', 'R3_0', 'R4_5', 'R5_5'], dtype='<U5')],\n",
       "  [array(['R1_0', 'R3_0', 'R4_1', 'R5_5'], dtype='<U5'),\n",
       "   array(['R1_0', 'R3_0', 'R4_5', 'R5_5'], dtype='<U5'),\n",
       "   array(['R1_1', 'R3_0', 'R4_1', 'R5_5'], dtype='<U5'),\n",
       "   array(['R1_1', 'R3_3', 'R4_1', 'R5_5'], dtype='<U5'),\n",
       "   array(['R1_1', 'R3_6', 'R4_0', 'R5_5'], dtype='<U5'),\n",
       "   array(['R1_1', 'R3_1', 'R4_1', 'R5_5'], dtype='<U5'),\n",
       "   array(['R1_1', 'R3_2', 'R4_5', 'R5_3'], dtype='<U5'),\n",
       "   array(['R1_1', 'R3_4', 'R4_1', 'R5_5'], dtype='<U5'),\n",
       "   array(['R1_0', 'R3_0', 'R4_7', 'R5_5'], dtype='<U5'),\n",
       "   array(['R1_0', 'R3_4', 'R4_7', 'R5_5'], dtype='<U5')],\n",
       "  [array(['R1_1', 'R3_3', 'R4_5', 'R5_5'], dtype='<U5'),\n",
       "   array(['R1_1', 'R3_7', 'R4_3', 'R5_5'], dtype='<U5'),\n",
       "   array(['R1_1', 'R3_0', 'R4_1', 'R5_5'], dtype='<U5'),\n",
       "   array(['R1_1', 'R3_3', 'R4_1', 'R5_5'], dtype='<U5'),\n",
       "   array(['R1_0', 'R3_5', 'R4_5', 'R5_1'], dtype='<U5'),\n",
       "   array(['R1_0', 'R3_4', 'R4_1', 'R5_5'], dtype='<U5'),\n",
       "   array(['R1_1', 'R3_1', 'R4_1', 'R5_5'], dtype='<U5'),\n",
       "   array(['R1_1', 'R3_4', 'R4_1', 'R5_5'], dtype='<U5'),\n",
       "   array(['R1_0', 'R3_7', 'R4_3', 'R5_3'], dtype='<U5'),\n",
       "   array(['R1_1', 'R3_4', 'R4_5', 'R5_5'], dtype='<U5')],\n",
       "  [array(['R1_0', 'R3_7', 'R4_3', 'R5_3'], dtype='<U5'),\n",
       "   array(['R1_1', 'R3_7', 'R4_7', 'R5_0'], dtype='<U5'),\n",
       "   array(['R1_0', 'R3_7', 'R4_7', 'R5_3'], dtype='<U5'),\n",
       "   array(['R1_0', 'R3_7', 'R4_5', 'R5_8'], dtype='<U5'),\n",
       "   array(['R1_0', 'R3_7', 'R4_5', 'R5_3'], dtype='<U5'),\n",
       "   array(['R1_0', 'R3_3', 'R4_5', 'R5_3'], dtype='<U5'),\n",
       "   array(['R1_0', 'R3_5', 'R4_7', 'R5_3'], dtype='<U5'),\n",
       "   array(['R1_0', 'R3_4', 'R4_7', 'R5_0'], dtype='<U5'),\n",
       "   array(['R1_0', 'R3_0', 'R4_5', 'R5_3'], dtype='<U5'),\n",
       "   array(['R1_0', 'R3_7', 'R4_4', 'R5_5'], dtype='<U5')],\n",
       "  [array(['R1_0', 'R3_6', 'R4_5', 'R5_3'], dtype='<U5'),\n",
       "   array(['R1_0', 'R3_0', 'R4_7', 'R5_8'], dtype='<U5'),\n",
       "   array(['R1_0', 'R3_7', 'R4_5', 'R5_3'], dtype='<U5'),\n",
       "   array(['R1_1', 'R3_3', 'R4_5', 'R5_5'], dtype='<U5'),\n",
       "   array(['R1_1', 'R3_6', 'R4_5', 'R5_10'], dtype='<U5'),\n",
       "   array(['R1_0', 'R3_6', 'R4_5', 'R5_2'], dtype='<U5'),\n",
       "   array(['R1_1', 'R3_6', 'R4_5', 'R5_2'], dtype='<U5'),\n",
       "   array(['R1_0', 'R3_6', 'R4_7', 'R5_3'], dtype='<U5'),\n",
       "   array(['R1_1', 'R3_6', 'R4_0', 'R5_5'], dtype='<U5'),\n",
       "   array(['R1_0', 'R3_5', 'R4_5', 'R5_1'], dtype='<U5')],\n",
       "  [array(['R1_1', 'R3_6', 'R4_3', 'R5_5'], dtype='<U5'),\n",
       "   array(['R1_1', 'R3_1', 'R4_3', 'R5_3'], dtype='<U5'),\n",
       "   array(['R1_1', 'R3_7', 'R4_3', 'R5_5'], dtype='<U5'),\n",
       "   array(['R1_1', 'R3_1', 'R4_1', 'R5_5'], dtype='<U5'),\n",
       "   array(['R1_1', 'R3_6', 'R4_0', 'R5_5'], dtype='<U5'),\n",
       "   array(['R1_1', 'R3_1', 'R4_6', 'R5_5'], dtype='<U5'),\n",
       "   array(['R1_1', 'R3_1', 'R4_3', 'R5_5'], dtype='<U5'),\n",
       "   array(['R1_1', 'R3_4', 'R4_1', 'R5_5'], dtype='<U5'),\n",
       "   array(['R1_1', 'R3_7', 'R4_0', 'R5_7'], dtype='<U5'),\n",
       "   array(['R1_1', 'R3_1', 'R4_2', 'R5_5'], dtype='<U5')],\n",
       "  [array(['R1_0', 'R3_0', 'R4_7', 'R5_0'], dtype='<U5'),\n",
       "   array(['R1_0', 'R3_0', 'R4_7', 'R5_8'], dtype='<U5'),\n",
       "   array(['R1_0', 'R3_0', 'R4_7', 'R5_5'], dtype='<U5'),\n",
       "   array(['R1_0', 'R3_7', 'R4_5', 'R5_3'], dtype='<U5'),\n",
       "   array(['R1_0', 'R3_0', 'R4_7', 'R5_4'], dtype='<U5'),\n",
       "   array(['R1_0', 'R3_7', 'R4_3', 'R5_3'], dtype='<U5'),\n",
       "   array(['R1_0', 'R3_6', 'R4_7', 'R5_7'], dtype='<U5'),\n",
       "   array(['R1_0', 'R3_7', 'R4_6', 'R5_4'], dtype='<U5'),\n",
       "   array(['R1_0', 'R3_5', 'R4_7', 'R5_0'], dtype='<U5'),\n",
       "   array(['R1_0', 'R3_4', 'R4_5', 'R5_3'], dtype='<U5')],\n",
       "  [array(['R1_0', 'R3_0', 'R4_7', 'R5_0'], dtype='<U5'),\n",
       "   array(['R1_0', 'R3_0', 'R4_7', 'R5_8'], dtype='<U5'),\n",
       "   array(['R1_0', 'R3_0', 'R4_7', 'R5_4'], dtype='<U5'),\n",
       "   array(['R1_1', 'R3_6', 'R4_5', 'R5_10'], dtype='<U5'),\n",
       "   array(['R1_1', 'R3_6', 'R4_5', 'R5_2'], dtype='<U5'),\n",
       "   array(['R1_1', 'R3_1', 'R4_5', 'R5_2'], dtype='<U5'),\n",
       "   array(['R1_1', 'R3_6', 'R4_5', 'R5_3'], dtype='<U5'),\n",
       "   array(['R1_1', 'R3_2', 'R4_5', 'R5_3'], dtype='<U5'),\n",
       "   array(['R1_0', 'R3_0', 'R4_7', 'R5_5'], dtype='<U5'),\n",
       "   array(['R1_1', 'R3_5', 'R4_5', 'R5_3'], dtype='<U5')],\n",
       "  [array(['R1_0', 'R3_0', 'R4_7', 'R5_0'], dtype='<U5'),\n",
       "   array(['R1_0', 'R3_0', 'R4_7', 'R5_8'], dtype='<U5'),\n",
       "   array(['R1_0', 'R3_0', 'R4_7', 'R5_5'], dtype='<U5'),\n",
       "   array(['R1_0', 'R3_0', 'R4_7', 'R5_4'], dtype='<U5'),\n",
       "   array(['R1_1', 'R3_0', 'R4_7', 'R5_3'], dtype='<U5'),\n",
       "   array(['R1_1', 'R3_0', 'R4_7', 'R5_7'], dtype='<U5'),\n",
       "   array(['R1_1', 'R3_1', 'R4_3', 'R5_3'], dtype='<U5'),\n",
       "   array(['R1_0', 'R3_5', 'R4_7', 'R5_0'], dtype='<U5'),\n",
       "   array(['R1_0', 'R3_1', 'R4_7', 'R5_7'], dtype='<U5'),\n",
       "   array(['R1_1', 'R3_1', 'R4_7', 'R5_0'], dtype='<U5')],\n",
       "  [array(['R1_1', 'R3_3', 'R4_1', 'R5_5'], dtype='<U5'),\n",
       "   array(['R1_1', 'R3_0', 'R4_1', 'R5_5'], dtype='<U5'),\n",
       "   array(['R1_1', 'R3_3', 'R4_5', 'R5_5'], dtype='<U5'),\n",
       "   array(['R1_1', 'R3_0', 'R4_7', 'R5_7'], dtype='<U5'),\n",
       "   array(['R1_1', 'R3_1', 'R4_1', 'R5_5'], dtype='<U5'),\n",
       "   array(['R1_1', 'R3_1', 'R4_5', 'R5_2'], dtype='<U5'),\n",
       "   array(['R1_0', 'R3_0', 'R4_1', 'R5_5'], dtype='<U5'),\n",
       "   array(['R1_1', 'R3_6', 'R4_0', 'R5_5'], dtype='<U5'),\n",
       "   array(['R1_1', 'R3_2', 'R4_5', 'R5_3'], dtype='<U5'),\n",
       "   array(['R1_1', 'R3_1', 'R4_3', 'R5_5'], dtype='<U5')],\n",
       "  [array(['R1_0', 'R3_7', 'R4_0', 'R5_3'], dtype='<U5'),\n",
       "   array(['R1_0', 'R3_7', 'R4_0', 'R5_0'], dtype='<U5'),\n",
       "   array(['R1_0', 'R3_5', 'R4_7', 'R5_0'], dtype='<U5'),\n",
       "   array(['R1_0', 'R3_7', 'R4_0', 'R5_4'], dtype='<U5'),\n",
       "   array(['R1_1', 'R3_7', 'R4_0', 'R5_3'], dtype='<U5'),\n",
       "   array(['R1_0', 'R3_7', 'R4_7', 'R5_4'], dtype='<U5'),\n",
       "   array(['R1_1', 'R3_0', 'R4_7', 'R5_8'], dtype='<U5'),\n",
       "   array(['R1_0', 'R3_4', 'R4_7', 'R5_3'], dtype='<U5'),\n",
       "   array(['R1_0', 'R3_7', 'R4_3', 'R5_4'], dtype='<U5'),\n",
       "   array(['R1_0', 'R3_4', 'R4_7', 'R5_0'], dtype='<U5')],\n",
       "  [array(['R1_0', 'R3_0', 'R4_7', 'R5_0'], dtype='<U5'),\n",
       "   array(['R1_0', 'R3_0', 'R4_7', 'R5_8'], dtype='<U5'),\n",
       "   array(['R1_0', 'R3_4', 'R4_7', 'R5_6'], dtype='<U5'),\n",
       "   array(['R1_0', 'R3_6', 'R4_5', 'R5_3'], dtype='<U5'),\n",
       "   array(['R1_0', 'R3_0', 'R4_7', 'R5_4'], dtype='<U5'),\n",
       "   array(['R1_1', 'R3_5', 'R4_5', 'R5_6'], dtype='<U5'),\n",
       "   array(['R1_0', 'R3_6', 'R4_5', 'R5_2'], dtype='<U5'),\n",
       "   array(['R1_1', 'R3_1', 'R4_1', 'R5_5'], dtype='<U5'),\n",
       "   array(['R1_0', 'R3_0', 'R4_5', 'R5_5'], dtype='<U5'),\n",
       "   array(['R1_0', 'R3_6', 'R4_7', 'R5_3'], dtype='<U5')],\n",
       "  [array(['R1_0', 'R3_1', 'R4_5', 'R5_5'], dtype='<U5'),\n",
       "   array(['R1_0', 'R3_0', 'R4_7', 'R5_0'], dtype='<U5'),\n",
       "   array(['R1_1', 'R3_3', 'R4_1', 'R5_5'], dtype='<U5'),\n",
       "   array(['R1_1', 'R3_7', 'R4_4', 'R5_0'], dtype='<U5'),\n",
       "   array(['R1_0', 'R3_1', 'R4_2', 'R5_5'], dtype='<U5'),\n",
       "   array(['R1_0', 'R3_0', 'R4_7', 'R5_4'], dtype='<U5'),\n",
       "   array(['R1_1', 'R3_3', 'R4_7', 'R5_10'], dtype='<U5'),\n",
       "   array(['R1_0', 'R3_1', 'R4_3', 'R5_5'], dtype='<U5'),\n",
       "   array(['R1_1', 'R3_1', 'R4_6', 'R5_5'], dtype='<U5'),\n",
       "   array(['R1_1', 'R3_1', 'R4_3', 'R5_5'], dtype='<U5')]],\n",
       " 'Hypervolume': [[array(['R1_0', 'R3_7', 'R4_3', 'R5_10'], dtype='<U5'),\n",
       "   array(['R1_0', 'R3_7', 'R4_0', 'R5_10'], dtype='<U5'),\n",
       "   array(['R1_0', 'R3_7', 'R4_7', 'R5_10'], dtype='<U5'),\n",
       "   array(['R1_0', 'R3_7', 'R4_7', 'R5_5'], dtype='<U5'),\n",
       "   array(['R1_0', 'R3_7', 'R4_3', 'R5_3'], dtype='<U5'),\n",
       "   array(['R1_0', 'R3_7', 'R4_0', 'R5_3'], dtype='<U5'),\n",
       "   array(['R1_0', 'R3_5', 'R4_7', 'R5_10'], dtype='<U5'),\n",
       "   array(['R1_0', 'R3_0', 'R4_7', 'R5_5'], dtype='<U5'),\n",
       "   array(['R1_0', 'R3_7', 'R4_3', 'R5_1'], dtype='<U5'),\n",
       "   array(['R1_0', 'R3_7', 'R4_7', 'R5_2'], dtype='<U5')],\n",
       "  [array(['R1_0', 'R3_7', 'R4_7', 'R5_0'], dtype='<U5'),\n",
       "   array(['R1_0', 'R3_7', 'R4_3', 'R5_10'], dtype='<U5'),\n",
       "   array(['R1_0', 'R3_7', 'R4_0', 'R5_10'], dtype='<U5'),\n",
       "   array(['R1_0', 'R3_7', 'R4_7', 'R5_10'], dtype='<U5'),\n",
       "   array(['R1_0', 'R3_7', 'R4_7', 'R5_5'], dtype='<U5'),\n",
       "   array(['R1_0', 'R3_7', 'R4_0', 'R5_3'], dtype='<U5'),\n",
       "   array(['R1_0', 'R3_5', 'R4_7', 'R5_10'], dtype='<U5'),\n",
       "   array(['R1_0', 'R3_0', 'R4_7', 'R5_5'], dtype='<U5'),\n",
       "   array(['R1_0', 'R3_7', 'R4_7', 'R5_1'], dtype='<U5'),\n",
       "   array(['R1_0', 'R3_7', 'R4_7', 'R5_2'], dtype='<U5')],\n",
       "  [array(['R1_0', 'R3_7', 'R4_7', 'R5_0'], dtype='<U5'),\n",
       "   array(['R1_0', 'R3_7', 'R4_3', 'R5_10'], dtype='<U5'),\n",
       "   array(['R1_0', 'R3_7', 'R4_0', 'R5_10'], dtype='<U5'),\n",
       "   array(['R1_0', 'R3_7', 'R4_7', 'R5_10'], dtype='<U5'),\n",
       "   array(['R1_0', 'R3_7', 'R4_7', 'R5_5'], dtype='<U5'),\n",
       "   array(['R1_0', 'R3_7', 'R4_3', 'R5_3'], dtype='<U5'),\n",
       "   array(['R1_0', 'R3_7', 'R4_0', 'R5_3'], dtype='<U5'),\n",
       "   array(['R1_0', 'R3_0', 'R4_7', 'R5_5'], dtype='<U5'),\n",
       "   array(['R1_0', 'R3_7', 'R4_3', 'R5_1'], dtype='<U5'),\n",
       "   array(['R1_0', 'R3_7', 'R4_7', 'R5_2'], dtype='<U5')],\n",
       "  [array(['R1_0', 'R3_7', 'R4_3', 'R5_10'], dtype='<U5'),\n",
       "   array(['R1_0', 'R3_7', 'R4_7', 'R5_10'], dtype='<U5'),\n",
       "   array(['R1_0', 'R3_7', 'R4_0', 'R5_10'], dtype='<U5'),\n",
       "   array(['R1_0', 'R3_7', 'R4_7', 'R5_5'], dtype='<U5'),\n",
       "   array(['R1_0', 'R3_5', 'R4_7', 'R5_10'], dtype='<U5'),\n",
       "   array(['R1_0', 'R3_7', 'R4_3', 'R5_3'], dtype='<U5'),\n",
       "   array(['R1_0', 'R3_0', 'R4_7', 'R5_10'], dtype='<U5'),\n",
       "   array(['R1_0', 'R3_7', 'R4_7', 'R5_2'], dtype='<U5'),\n",
       "   array(['R1_0', 'R3_7', 'R4_3', 'R5_1'], dtype='<U5'),\n",
       "   array(['R1_0', 'R3_0', 'R4_7', 'R5_5'], dtype='<U5')],\n",
       "  [array(['R1_0', 'R3_7', 'R4_7', 'R5_0'], dtype='<U5'),\n",
       "   array(['R1_0', 'R3_7', 'R4_3', 'R5_10'], dtype='<U5'),\n",
       "   array(['R1_0', 'R3_7', 'R4_0', 'R5_10'], dtype='<U5'),\n",
       "   array(['R1_0', 'R3_7', 'R4_7', 'R5_10'], dtype='<U5'),\n",
       "   array(['R1_0', 'R3_7', 'R4_7', 'R5_5'], dtype='<U5'),\n",
       "   array(['R1_0', 'R3_7', 'R4_3', 'R5_3'], dtype='<U5'),\n",
       "   array(['R1_0', 'R3_7', 'R4_0', 'R5_3'], dtype='<U5'),\n",
       "   array(['R1_0', 'R3_0', 'R4_7', 'R5_5'], dtype='<U5'),\n",
       "   array(['R1_0', 'R3_7', 'R4_7', 'R5_2'], dtype='<U5'),\n",
       "   array(['R1_0', 'R3_7', 'R4_4', 'R5_10'], dtype='<U5')],\n",
       "  [array(['R1_0', 'R3_7', 'R4_3', 'R5_10'], dtype='<U5'),\n",
       "   array(['R1_0', 'R3_7', 'R4_0', 'R5_10'], dtype='<U5'),\n",
       "   array(['R1_0', 'R3_7', 'R4_7', 'R5_10'], dtype='<U5'),\n",
       "   array(['R1_0', 'R3_7', 'R4_3', 'R5_3'], dtype='<U5'),\n",
       "   array(['R1_0', 'R3_7', 'R4_0', 'R5_3'], dtype='<U5'),\n",
       "   array(['R1_0', 'R3_5', 'R4_7', 'R5_10'], dtype='<U5'),\n",
       "   array(['R1_0', 'R3_7', 'R4_3', 'R5_1'], dtype='<U5'),\n",
       "   array(['R1_0', 'R3_7', 'R4_4', 'R5_10'], dtype='<U5'),\n",
       "   array(['R1_0', 'R3_7', 'R4_7', 'R5_1'], dtype='<U5'),\n",
       "   array(['R1_0', 'R3_0', 'R4_7', 'R5_10'], dtype='<U5')],\n",
       "  [array(['R1_0', 'R3_7', 'R4_3', 'R5_10'], dtype='<U5'),\n",
       "   array(['R1_0', 'R3_7', 'R4_0', 'R5_10'], dtype='<U5'),\n",
       "   array(['R1_0', 'R3_7', 'R4_7', 'R5_10'], dtype='<U5'),\n",
       "   array(['R1_0', 'R3_7', 'R4_7', 'R5_5'], dtype='<U5'),\n",
       "   array(['R1_0', 'R3_7', 'R4_0', 'R5_3'], dtype='<U5'),\n",
       "   array(['R1_0', 'R3_5', 'R4_7', 'R5_10'], dtype='<U5'),\n",
       "   array(['R1_0', 'R3_0', 'R4_7', 'R5_5'], dtype='<U5'),\n",
       "   array(['R1_0', 'R3_7', 'R4_3', 'R5_1'], dtype='<U5'),\n",
       "   array(['R1_0', 'R3_7', 'R4_4', 'R5_10'], dtype='<U5'),\n",
       "   array(['R1_0', 'R3_7', 'R4_7', 'R5_1'], dtype='<U5')],\n",
       "  [array(['R1_0', 'R3_7', 'R4_7', 'R5_0'], dtype='<U5'),\n",
       "   array(['R1_0', 'R3_7', 'R4_3', 'R5_10'], dtype='<U5'),\n",
       "   array(['R1_0', 'R3_7', 'R4_0', 'R5_10'], dtype='<U5'),\n",
       "   array(['R1_0', 'R3_7', 'R4_7', 'R5_10'], dtype='<U5'),\n",
       "   array(['R1_0', 'R3_7', 'R4_7', 'R5_5'], dtype='<U5'),\n",
       "   array(['R1_0', 'R3_7', 'R4_3', 'R5_3'], dtype='<U5'),\n",
       "   array(['R1_0', 'R3_7', 'R4_0', 'R5_3'], dtype='<U5'),\n",
       "   array(['R1_0', 'R3_7', 'R4_3', 'R5_1'], dtype='<U5'),\n",
       "   array(['R1_0', 'R3_7', 'R4_7', 'R5_2'], dtype='<U5'),\n",
       "   array(['R1_0', 'R3_7', 'R4_4', 'R5_10'], dtype='<U5')],\n",
       "  [array(['R1_0', 'R3_7', 'R4_3', 'R5_10'], dtype='<U5'),\n",
       "   array(['R1_0', 'R3_7', 'R4_0', 'R5_10'], dtype='<U5'),\n",
       "   array(['R1_0', 'R3_7', 'R4_7', 'R5_10'], dtype='<U5'),\n",
       "   array(['R1_0', 'R3_7', 'R4_7', 'R5_5'], dtype='<U5'),\n",
       "   array(['R1_0', 'R3_5', 'R4_7', 'R5_10'], dtype='<U5'),\n",
       "   array(['R1_0', 'R3_7', 'R4_0', 'R5_3'], dtype='<U5'),\n",
       "   array(['R1_0', 'R3_0', 'R4_7', 'R5_5'], dtype='<U5'),\n",
       "   array(['R1_0', 'R3_7', 'R4_4', 'R5_10'], dtype='<U5'),\n",
       "   array(['R1_0', 'R3_7', 'R4_7', 'R5_1'], dtype='<U5'),\n",
       "   array(['R1_0', 'R3_3', 'R4_7', 'R5_2'], dtype='<U5')],\n",
       "  [array(['R1_0', 'R3_7', 'R4_7', 'R5_0'], dtype='<U5'),\n",
       "   array(['R1_0', 'R3_7', 'R4_3', 'R5_10'], dtype='<U5'),\n",
       "   array(['R1_0', 'R3_7', 'R4_7', 'R5_10'], dtype='<U5'),\n",
       "   array(['R1_0', 'R3_7', 'R4_7', 'R5_5'], dtype='<U5'),\n",
       "   array(['R1_0', 'R3_7', 'R4_3', 'R5_3'], dtype='<U5'),\n",
       "   array(['R1_0', 'R3_5', 'R4_7', 'R5_10'], dtype='<U5'),\n",
       "   array(['R1_0', 'R3_0', 'R4_7', 'R5_5'], dtype='<U5'),\n",
       "   array(['R1_0', 'R3_7', 'R4_3', 'R5_1'], dtype='<U5'),\n",
       "   array(['R1_1', 'R3_3', 'R4_7', 'R5_10'], dtype='<U5'),\n",
       "   array(['R1_0', 'R3_7', 'R4_4', 'R5_10'], dtype='<U5')],\n",
       "  [array(['R1_0', 'R3_7', 'R4_7', 'R5_0'], dtype='<U5'),\n",
       "   array(['R1_0', 'R3_7', 'R4_3', 'R5_10'], dtype='<U5'),\n",
       "   array(['R1_0', 'R3_7', 'R4_0', 'R5_10'], dtype='<U5'),\n",
       "   array(['R1_0', 'R3_7', 'R4_7', 'R5_10'], dtype='<U5'),\n",
       "   array(['R1_0', 'R3_7', 'R4_7', 'R5_5'], dtype='<U5'),\n",
       "   array(['R1_0', 'R3_5', 'R4_7', 'R5_10'], dtype='<U5'),\n",
       "   array(['R1_0', 'R3_7', 'R4_7', 'R5_1'], dtype='<U5'),\n",
       "   array(['R1_0', 'R3_7', 'R4_7', 'R5_2'], dtype='<U5'),\n",
       "   array(['R1_0', 'R3_0', 'R4_7', 'R5_10'], dtype='<U5'),\n",
       "   array(['R1_0', 'R3_0', 'R4_7', 'R5_0'], dtype='<U5')],\n",
       "  [array(['R1_0', 'R3_7', 'R4_7', 'R5_0'], dtype='<U5'),\n",
       "   array(['R1_0', 'R3_7', 'R4_3', 'R5_10'], dtype='<U5'),\n",
       "   array(['R1_0', 'R3_7', 'R4_0', 'R5_10'], dtype='<U5'),\n",
       "   array(['R1_0', 'R3_7', 'R4_7', 'R5_5'], dtype='<U5'),\n",
       "   array(['R1_0', 'R3_7', 'R4_0', 'R5_3'], dtype='<U5'),\n",
       "   array(['R1_0', 'R3_7', 'R4_7', 'R5_1'], dtype='<U5'),\n",
       "   array(['R1_0', 'R3_7', 'R4_4', 'R5_10'], dtype='<U5'),\n",
       "   array(['R1_0', 'R3_0', 'R4_7', 'R5_0'], dtype='<U5'),\n",
       "   array(['R1_0', 'R3_7', 'R4_7', 'R5_2'], dtype='<U5'),\n",
       "   array(['R1_0', 'R3_7', 'R4_7', 'R5_4'], dtype='<U5')],\n",
       "  [array(['R1_0', 'R3_7', 'R4_3', 'R5_10'], dtype='<U5'),\n",
       "   array(['R1_0', 'R3_7', 'R4_3', 'R5_1'], dtype='<U5'),\n",
       "   array(['R1_0', 'R3_7', 'R4_4', 'R5_10'], dtype='<U5'),\n",
       "   array(['R1_1', 'R3_3', 'R4_7', 'R5_10'], dtype='<U5'),\n",
       "   array(['R1_0', 'R3_7', 'R4_7', 'R5_2'], dtype='<U5'),\n",
       "   array(['R1_0', 'R3_0', 'R4_7', 'R5_10'], dtype='<U5'),\n",
       "   array(['R1_1', 'R3_0', 'R4_7', 'R5_10'], dtype='<U5'),\n",
       "   array(['R1_0', 'R3_7', 'R4_7', 'R5_3'], dtype='<U5'),\n",
       "   array(['R1_0', 'R3_3', 'R4_7', 'R5_10'], dtype='<U5'),\n",
       "   array(['R1_0', 'R3_5', 'R4_7', 'R5_8'], dtype='<U5')],\n",
       "  [array(['R1_0', 'R3_7', 'R4_7', 'R5_0'], dtype='<U5'),\n",
       "   array(['R1_0', 'R3_7', 'R4_3', 'R5_10'], dtype='<U5'),\n",
       "   array(['R1_0', 'R3_7', 'R4_0', 'R5_10'], dtype='<U5'),\n",
       "   array(['R1_0', 'R3_7', 'R4_7', 'R5_10'], dtype='<U5'),\n",
       "   array(['R1_0', 'R3_7', 'R4_7', 'R5_5'], dtype='<U5'),\n",
       "   array(['R1_0', 'R3_7', 'R4_3', 'R5_3'], dtype='<U5'),\n",
       "   array(['R1_0', 'R3_7', 'R4_0', 'R5_3'], dtype='<U5'),\n",
       "   array(['R1_0', 'R3_7', 'R4_3', 'R5_1'], dtype='<U5'),\n",
       "   array(['R1_0', 'R3_7', 'R4_7', 'R5_1'], dtype='<U5'),\n",
       "   array(['R1_0', 'R3_7', 'R4_4', 'R5_10'], dtype='<U5')],\n",
       "  [array(['R1_0', 'R3_7', 'R4_7', 'R5_0'], dtype='<U5'),\n",
       "   array(['R1_0', 'R3_7', 'R4_3', 'R5_10'], dtype='<U5'),\n",
       "   array(['R1_0', 'R3_7', 'R4_0', 'R5_10'], dtype='<U5'),\n",
       "   array(['R1_0', 'R3_7', 'R4_7', 'R5_10'], dtype='<U5'),\n",
       "   array(['R1_0', 'R3_7', 'R4_7', 'R5_5'], dtype='<U5'),\n",
       "   array(['R1_0', 'R3_7', 'R4_3', 'R5_3'], dtype='<U5'),\n",
       "   array(['R1_0', 'R3_7', 'R4_0', 'R5_3'], dtype='<U5'),\n",
       "   array(['R1_0', 'R3_5', 'R4_7', 'R5_10'], dtype='<U5'),\n",
       "   array(['R1_0', 'R3_7', 'R4_7', 'R5_2'], dtype='<U5'),\n",
       "   array(['R1_0', 'R3_0', 'R4_7', 'R5_10'], dtype='<U5')],\n",
       "  [array(['R1_0', 'R3_7', 'R4_7', 'R5_0'], dtype='<U5'),\n",
       "   array(['R1_0', 'R3_7', 'R4_3', 'R5_10'], dtype='<U5'),\n",
       "   array(['R1_0', 'R3_7', 'R4_0', 'R5_10'], dtype='<U5'),\n",
       "   array(['R1_0', 'R3_7', 'R4_7', 'R5_10'], dtype='<U5'),\n",
       "   array(['R1_0', 'R3_7', 'R4_7', 'R5_5'], dtype='<U5'),\n",
       "   array(['R1_0', 'R3_7', 'R4_0', 'R5_3'], dtype='<U5'),\n",
       "   array(['R1_0', 'R3_0', 'R4_7', 'R5_10'], dtype='<U5'),\n",
       "   array(['R1_0', 'R3_7', 'R4_3', 'R5_1'], dtype='<U5'),\n",
       "   array(['R1_0', 'R3_7', 'R4_7', 'R5_2'], dtype='<U5'),\n",
       "   array(['R1_0', 'R3_7', 'R4_7', 'R5_1'], dtype='<U5')],\n",
       "  [array(['R1_0', 'R3_7', 'R4_7', 'R5_0'], dtype='<U5'),\n",
       "   array(['R1_0', 'R3_7', 'R4_0', 'R5_10'], dtype='<U5'),\n",
       "   array(['R1_0', 'R3_7', 'R4_7', 'R5_10'], dtype='<U5'),\n",
       "   array(['R1_0', 'R3_7', 'R4_7', 'R5_5'], dtype='<U5'),\n",
       "   array(['R1_0', 'R3_5', 'R4_7', 'R5_10'], dtype='<U5'),\n",
       "   array(['R1_0', 'R3_7', 'R4_0', 'R5_3'], dtype='<U5'),\n",
       "   array(['R1_0', 'R3_0', 'R4_7', 'R5_5'], dtype='<U5'),\n",
       "   array(['R1_0', 'R3_7', 'R4_4', 'R5_10'], dtype='<U5'),\n",
       "   array(['R1_0', 'R3_7', 'R4_7', 'R5_2'], dtype='<U5'),\n",
       "   array(['R1_0', 'R3_7', 'R4_7', 'R5_1'], dtype='<U5')],\n",
       "  [array(['R1_0', 'R3_7', 'R4_7', 'R5_0'], dtype='<U5'),\n",
       "   array(['R1_0', 'R3_7', 'R4_3', 'R5_10'], dtype='<U5'),\n",
       "   array(['R1_0', 'R3_7', 'R4_0', 'R5_10'], dtype='<U5'),\n",
       "   array(['R1_0', 'R3_7', 'R4_7', 'R5_10'], dtype='<U5'),\n",
       "   array(['R1_0', 'R3_7', 'R4_7', 'R5_5'], dtype='<U5'),\n",
       "   array(['R1_0', 'R3_7', 'R4_3', 'R5_3'], dtype='<U5'),\n",
       "   array(['R1_0', 'R3_7', 'R4_0', 'R5_3'], dtype='<U5'),\n",
       "   array(['R1_0', 'R3_5', 'R4_7', 'R5_10'], dtype='<U5'),\n",
       "   array(['R1_0', 'R3_7', 'R4_3', 'R5_1'], dtype='<U5'),\n",
       "   array(['R1_0', 'R3_7', 'R4_7', 'R5_2'], dtype='<U5')],\n",
       "  [array(['R1_0', 'R3_7', 'R4_7', 'R5_0'], dtype='<U5'),\n",
       "   array(['R1_0', 'R3_7', 'R4_3', 'R5_10'], dtype='<U5'),\n",
       "   array(['R1_0', 'R3_7', 'R4_0', 'R5_10'], dtype='<U5'),\n",
       "   array(['R1_0', 'R3_7', 'R4_7', 'R5_10'], dtype='<U5'),\n",
       "   array(['R1_0', 'R3_7', 'R4_7', 'R5_5'], dtype='<U5'),\n",
       "   array(['R1_0', 'R3_7', 'R4_3', 'R5_3'], dtype='<U5'),\n",
       "   array(['R1_0', 'R3_0', 'R4_7', 'R5_5'], dtype='<U5'),\n",
       "   array(['R1_0', 'R3_7', 'R4_3', 'R5_1'], dtype='<U5'),\n",
       "   array(['R1_0', 'R3_7', 'R4_7', 'R5_1'], dtype='<U5'),\n",
       "   array(['R1_0', 'R3_7', 'R4_7', 'R5_2'], dtype='<U5')],\n",
       "  [array(['R1_0', 'R3_7', 'R4_7', 'R5_0'], dtype='<U5'),\n",
       "   array(['R1_0', 'R3_7', 'R4_7', 'R5_10'], dtype='<U5'),\n",
       "   array(['R1_0', 'R3_7', 'R4_7', 'R5_5'], dtype='<U5'),\n",
       "   array(['R1_0', 'R3_7', 'R4_3', 'R5_3'], dtype='<U5'),\n",
       "   array(['R1_0', 'R3_5', 'R4_7', 'R5_10'], dtype='<U5'),\n",
       "   array(['R1_0', 'R3_0', 'R4_7', 'R5_5'], dtype='<U5'),\n",
       "   array(['R1_0', 'R3_7', 'R4_7', 'R5_1'], dtype='<U5'),\n",
       "   array(['R1_0', 'R3_7', 'R4_7', 'R5_2'], dtype='<U5'),\n",
       "   array(['R1_0', 'R3_3', 'R4_7', 'R5_2'], dtype='<U5'),\n",
       "   array(['R1_0', 'R3_0', 'R4_7', 'R5_8'], dtype='<U5')],\n",
       "  [array(['R1_0', 'R3_7', 'R4_3', 'R5_10'], dtype='<U5'),\n",
       "   array(['R1_0', 'R3_7', 'R4_0', 'R5_10'], dtype='<U5'),\n",
       "   array(['R1_0', 'R3_7', 'R4_7', 'R5_10'], dtype='<U5'),\n",
       "   array(['R1_0', 'R3_7', 'R4_7', 'R5_5'], dtype='<U5'),\n",
       "   array(['R1_0', 'R3_7', 'R4_3', 'R5_3'], dtype='<U5'),\n",
       "   array(['R1_0', 'R3_7', 'R4_0', 'R5_3'], dtype='<U5'),\n",
       "   array(['R1_0', 'R3_5', 'R4_7', 'R5_10'], dtype='<U5'),\n",
       "   array(['R1_0', 'R3_0', 'R4_7', 'R5_5'], dtype='<U5'),\n",
       "   array(['R1_0', 'R3_7', 'R4_7', 'R5_2'], dtype='<U5'),\n",
       "   array(['R1_0', 'R3_0', 'R4_7', 'R5_10'], dtype='<U5')],\n",
       "  [array(['R1_0', 'R3_7', 'R4_3', 'R5_10'], dtype='<U5'),\n",
       "   array(['R1_0', 'R3_7', 'R4_0', 'R5_10'], dtype='<U5'),\n",
       "   array(['R1_0', 'R3_7', 'R4_7', 'R5_10'], dtype='<U5'),\n",
       "   array(['R1_0', 'R3_7', 'R4_7', 'R5_5'], dtype='<U5'),\n",
       "   array(['R1_0', 'R3_7', 'R4_3', 'R5_3'], dtype='<U5'),\n",
       "   array(['R1_0', 'R3_5', 'R4_7', 'R5_10'], dtype='<U5'),\n",
       "   array(['R1_0', 'R3_7', 'R4_3', 'R5_1'], dtype='<U5'),\n",
       "   array(['R1_0', 'R3_7', 'R4_4', 'R5_10'], dtype='<U5'),\n",
       "   array(['R1_0', 'R3_7', 'R4_7', 'R5_2'], dtype='<U5'),\n",
       "   array(['R1_0', 'R3_7', 'R4_7', 'R5_1'], dtype='<U5')],\n",
       "  [array(['R1_0', 'R3_7', 'R4_7', 'R5_0'], dtype='<U5'),\n",
       "   array(['R1_0', 'R3_7', 'R4_0', 'R5_10'], dtype='<U5'),\n",
       "   array(['R1_0', 'R3_7', 'R4_7', 'R5_10'], dtype='<U5'),\n",
       "   array(['R1_0', 'R3_7', 'R4_7', 'R5_5'], dtype='<U5'),\n",
       "   array(['R1_0', 'R3_7', 'R4_3', 'R5_3'], dtype='<U5'),\n",
       "   array(['R1_0', 'R3_7', 'R4_0', 'R5_3'], dtype='<U5'),\n",
       "   array(['R1_0', 'R3_5', 'R4_7', 'R5_10'], dtype='<U5'),\n",
       "   array(['R1_0', 'R3_0', 'R4_7', 'R5_5'], dtype='<U5'),\n",
       "   array(['R1_0', 'R3_7', 'R4_7', 'R5_1'], dtype='<U5'),\n",
       "   array(['R1_0', 'R3_7', 'R4_4', 'R5_10'], dtype='<U5')],\n",
       "  [array(['R1_0', 'R3_7', 'R4_7', 'R5_0'], dtype='<U5'),\n",
       "   array(['R1_0', 'R3_7', 'R4_3', 'R5_10'], dtype='<U5'),\n",
       "   array(['R1_0', 'R3_7', 'R4_7', 'R5_10'], dtype='<U5'),\n",
       "   array(['R1_0', 'R3_7', 'R4_7', 'R5_5'], dtype='<U5'),\n",
       "   array(['R1_0', 'R3_7', 'R4_3', 'R5_3'], dtype='<U5'),\n",
       "   array(['R1_0', 'R3_5', 'R4_7', 'R5_10'], dtype='<U5'),\n",
       "   array(['R1_0', 'R3_7', 'R4_7', 'R5_2'], dtype='<U5'),\n",
       "   array(['R1_0', 'R3_7', 'R4_5', 'R5_10'], dtype='<U5'),\n",
       "   array(['R1_0', 'R3_7', 'R4_7', 'R5_1'], dtype='<U5'),\n",
       "   array(['R1_0', 'R3_7', 'R4_4', 'R5_10'], dtype='<U5')],\n",
       "  [array(['R1_0', 'R3_7', 'R4_7', 'R5_0'], dtype='<U5'),\n",
       "   array(['R1_0', 'R3_7', 'R4_7', 'R5_10'], dtype='<U5'),\n",
       "   array(['R1_0', 'R3_7', 'R4_7', 'R5_5'], dtype='<U5'),\n",
       "   array(['R1_0', 'R3_7', 'R4_3', 'R5_3'], dtype='<U5'),\n",
       "   array(['R1_0', 'R3_5', 'R4_7', 'R5_10'], dtype='<U5'),\n",
       "   array(['R1_0', 'R3_7', 'R4_7', 'R5_1'], dtype='<U5'),\n",
       "   array(['R1_0', 'R3_7', 'R4_7', 'R5_2'], dtype='<U5'),\n",
       "   array(['R1_0', 'R3_7', 'R4_4', 'R5_10'], dtype='<U5'),\n",
       "   array(['R1_0', 'R3_0', 'R4_7', 'R5_10'], dtype='<U5'),\n",
       "   array(['R1_0', 'R3_0', 'R4_7', 'R5_0'], dtype='<U5')],\n",
       "  [array(['R1_0', 'R3_7', 'R4_7', 'R5_0'], dtype='<U5'),\n",
       "   array(['R1_0', 'R3_7', 'R4_3', 'R5_10'], dtype='<U5'),\n",
       "   array(['R1_0', 'R3_7', 'R4_0', 'R5_10'], dtype='<U5'),\n",
       "   array(['R1_0', 'R3_7', 'R4_7', 'R5_10'], dtype='<U5'),\n",
       "   array(['R1_0', 'R3_7', 'R4_7', 'R5_5'], dtype='<U5'),\n",
       "   array(['R1_0', 'R3_7', 'R4_3', 'R5_3'], dtype='<U5'),\n",
       "   array(['R1_0', 'R3_7', 'R4_0', 'R5_3'], dtype='<U5'),\n",
       "   array(['R1_0', 'R3_0', 'R4_7', 'R5_5'], dtype='<U5'),\n",
       "   array(['R1_0', 'R3_7', 'R4_3', 'R5_1'], dtype='<U5'),\n",
       "   array(['R1_0', 'R3_7', 'R4_7', 'R5_2'], dtype='<U5')]]}"
      ]
     },
     "execution_count": 11,
     "metadata": {},
     "output_type": "execute_result"
    }
   ],
   "source": [
    "\n",
    "best_n_params"
   ]
  },
  {
   "cell_type": "code",
   "execution_count": null,
   "id": "7270b919",
   "metadata": {},
   "outputs": [],
   "source": []
  },
  {
   "cell_type": "code",
   "execution_count": null,
   "id": "3801465e",
   "metadata": {},
   "outputs": [],
   "source": []
  },
  {
   "cell_type": "code",
   "execution_count": null,
   "id": "29b0b949",
   "metadata": {},
   "outputs": [],
   "source": []
  },
  {
   "cell_type": "code",
   "execution_count": null,
   "id": "240c3809",
   "metadata": {},
   "outputs": [],
   "source": []
  },
  {
   "cell_type": "code",
   "execution_count": 12,
   "id": "7e4cd0cd",
   "metadata": {},
   "outputs": [],
   "source": [
    "def get_pareto_data(campaigns):\n",
    "    pareto_fronts, pareto_sets = [], []\n",
    "    hypervolumes = []\n",
    "    values_ = []\n",
    "    # get the pareto optimal sets and the hypervolumes after the 200 evaluation budget\n",
    "    for campaign in campaigns:\n",
    "\n",
    "        params = campaign.observations.get_params()\n",
    "        values = campaign.observations.get_values()\n",
    "\n",
    "        pareto_front, pareto_set = get_pareto_set(params, values)\n",
    "        w_ref = np.amax(df_orig[['abs_lam_diff', 'ered', 'gsol']].values, axis=0)\n",
    "        #print(w_ref)\n",
    "        hypervolume = get_hypervolume(values, w_ref)\n",
    "        \n",
    "        pareto_fronts.append(pareto_front)\n",
    "        pareto_sets.append(pareto_set)\n",
    "        hypervolumes.append(hypervolume)\n",
    "\n",
    "        idxs = [ np.where(np.all(values==p, axis=1))[0][0] for p in pareto_front ] \n",
    "        assert len(idxs)==pareto_front.shape[0]\n",
    "        values = np.delete(values, idxs, axis=0)\n",
    "        values_.append(values)\n",
    "        \n",
    "    return pareto_fronts, pareto_sets, hypervolumes, values_\n",
    "    \n",
    "\n",
    "def make_plotly_df(pareto_fronts, values_):\n",
    "    front_df = pd.DataFrame(\n",
    "        {'abs_lam_diff': pareto_fronts[:, 0], 'ered': pareto_fronts[:, 1], 'gsol': pareto_fronts[:, 2]}\n",
    "    )\n",
    "    front_df['type'] = 'front'\n",
    "    front_df['size'] = 10\n",
    "    full_df = pd.DataFrame(\n",
    "        {'abs_lam_diff': values_[:, 0], 'ered': values_[:, 1], 'gsol': values_[:, 2]}\n",
    "    )\n",
    "    full_df['type'] = 'normal'\n",
    "    full_df['size'] = 2\n",
    "    df = pd.concat((front_df, full_df))\n",
    "    return df\n"
   ]
  },
  {
   "cell_type": "code",
   "execution_count": null,
   "id": "060fec6b",
   "metadata": {},
   "outputs": [],
   "source": []
  },
  {
   "cell_type": "code",
   "execution_count": 13,
   "id": "7984c5e9",
   "metadata": {},
   "outputs": [
    {
     "name": "stderr",
     "output_type": "stream",
     "text": [
      "/var/folders/b7/skyhqqz10kv5ht16t37st2pm0000gn/T/ipykernel_83237/1479686172.py:10: FutureWarning: Using short name for 'orient' is deprecated. Only the options: ('dict', list, 'series', 'split', 'records', 'index') will be used in a future version. Use one of the above to silence this warning.\n",
      "  match = match.to_dict('r')[0]\n"
     ]
    }
   ],
   "source": [
    "pareto_fronts_hv, pareto_sets_hv, hypervolumes_hv, values_hv = get_pareto_data(data_gpyopt['Hypervolume'])\n",
    "df_hv = make_plotly_df(pareto_fronts_hv[0], values_hv[0])\n",
    "\n",
    "pareto_fronts_chi, pareto_sets_chi, hypervolumes_chi, values_chi = get_pareto_data(data_gpyopt['Chimera'])\n",
    "df_chi = make_plotly_df(pareto_fronts_chi[0], values_chi[0])\n",
    "\n",
    "\n",
    "pareto_fronts_ws, pareto_sets_ws, hypervolumes_ws, values_ws = get_pareto_data(data_gpyopt['WeightedSum'])\n",
    "df_ws = make_plotly_df(pareto_fronts_ws[0], values_ws[0])\n",
    "\n",
    "pareto_fronts_par, pareto_sets_par, hypervolumes_par, values_par = get_pareto_data(data_gpyopt['Parego'])\n",
    "df_par = make_plotly_df(pareto_fronts_par[0], values_par[0])\n",
    "\n",
    "#---------------------\n",
    "# make pareto sets df\n",
    "#---------------------\n",
    "\n",
    "all_pareto_sets = {'method': [], 'R1': [], 'R3': [], 'R4': [], 'R5': [], 'smiles': []}\n",
    "for method, data in zip(['Hypervolume', 'Chimera', 'ParEGO', 'Weighted Sum'], [pareto_sets_hv,pareto_sets_chi,pareto_sets_ws,pareto_sets_par]):\n",
    "    \n",
    "    for array in data:\n",
    "        for instance in array:\n",
    "            all_pareto_sets['method'].append(method)\n",
    "            all_pareto_sets['R1'].append(instance[0])\n",
    "            all_pareto_sets['R3'].append(instance[1])\n",
    "            all_pareto_sets['R4'].append(instance[2])\n",
    "            all_pareto_sets['R5'].append(instance[3])\n",
    "            smiles = lookup_prod_smiles_mol(\n",
    "                instance[0], instance[1], instance[2], instance[3], raw_df\n",
    "            )\n",
    "            all_pareto_sets['smiles'].append(smiles)\n",
    "            \n",
    "            \n",
    "pareto_sets_df = pd.DataFrame(all_pareto_sets)\n",
    "    \n",
    "\n",
    "# full hypervolume\n",
    "values = df_orig[['abs_lam_diff', 'ered', 'gsol']].values\n",
    "w_ref = np.amax(values, axis=0)\n",
    "#print(w_ref)\n",
    "full_hypervolume = get_hypervolume(values, w_ref)\n"
   ]
  },
  {
   "cell_type": "code",
   "execution_count": 14,
   "id": "8de35284",
   "metadata": {},
   "outputs": [
    {
     "data": {
      "text/html": [
       "<div>\n",
       "<style scoped>\n",
       "    .dataframe tbody tr th:only-of-type {\n",
       "        vertical-align: middle;\n",
       "    }\n",
       "\n",
       "    .dataframe tbody tr th {\n",
       "        vertical-align: top;\n",
       "    }\n",
       "\n",
       "    .dataframe thead th {\n",
       "        text-align: right;\n",
       "    }\n",
       "</style>\n",
       "<table border=\"1\" class=\"dataframe\">\n",
       "  <thead>\n",
       "    <tr style=\"text-align: right;\">\n",
       "      <th></th>\n",
       "      <th>method</th>\n",
       "      <th>R1</th>\n",
       "      <th>R3</th>\n",
       "      <th>R4</th>\n",
       "      <th>R5</th>\n",
       "      <th>smiles</th>\n",
       "    </tr>\n",
       "  </thead>\n",
       "  <tbody>\n",
       "    <tr>\n",
       "      <th>0</th>\n",
       "      <td>Hypervolume</td>\n",
       "      <td>R1_0</td>\n",
       "      <td>R3_7</td>\n",
       "      <td>R4_3</td>\n",
       "      <td>R5_3</td>\n",
       "      <td>(CCOCN(C(C)=O)c1c(N(C)C)c(OC)c(OC)c2nsnc12, &lt;r...</td>\n",
       "    </tr>\n",
       "    <tr>\n",
       "      <th>1</th>\n",
       "      <td>Hypervolume</td>\n",
       "      <td>R1_0</td>\n",
       "      <td>R3_7</td>\n",
       "      <td>R4_0</td>\n",
       "      <td>R5_10</td>\n",
       "      <td>(CCOCN(C(C)=O)c1c(N(C)C)c(C)c(S(=O)(=O)N(C)C)c...</td>\n",
       "    </tr>\n",
       "    <tr>\n",
       "      <th>2</th>\n",
       "      <td>Hypervolume</td>\n",
       "      <td>R1_0</td>\n",
       "      <td>R3_7</td>\n",
       "      <td>R4_7</td>\n",
       "      <td>R5_10</td>\n",
       "      <td>(CCOCN(C(C)=O)c1c(N(C)C)c(N(C)C)c(S(=O)(=O)N(C...</td>\n",
       "    </tr>\n",
       "    <tr>\n",
       "      <th>3</th>\n",
       "      <td>Hypervolume</td>\n",
       "      <td>R1_0</td>\n",
       "      <td>R3_7</td>\n",
       "      <td>R4_3</td>\n",
       "      <td>R5_10</td>\n",
       "      <td>(CCOCN(C(C)=O)c1c(N(C)C)c(OC)c(S(=O)(=O)N(C)C)...</td>\n",
       "    </tr>\n",
       "    <tr>\n",
       "      <th>4</th>\n",
       "      <td>Hypervolume</td>\n",
       "      <td>R1_0</td>\n",
       "      <td>R3_5</td>\n",
       "      <td>R4_7</td>\n",
       "      <td>R5_10</td>\n",
       "      <td>(CCOCN(C(C)=O)c1c(SC)c(N(C)C)c(S(=O)(=O)N(C)C)...</td>\n",
       "    </tr>\n",
       "  </tbody>\n",
       "</table>\n",
       "</div>"
      ],
      "text/plain": [
       "        method    R1    R3    R4     R5  \\\n",
       "0  Hypervolume  R1_0  R3_7  R4_3   R5_3   \n",
       "1  Hypervolume  R1_0  R3_7  R4_0  R5_10   \n",
       "2  Hypervolume  R1_0  R3_7  R4_7  R5_10   \n",
       "3  Hypervolume  R1_0  R3_7  R4_3  R5_10   \n",
       "4  Hypervolume  R1_0  R3_5  R4_7  R5_10   \n",
       "\n",
       "                                              smiles  \n",
       "0  (CCOCN(C(C)=O)c1c(N(C)C)c(OC)c(OC)c2nsnc12, <r...  \n",
       "1  (CCOCN(C(C)=O)c1c(N(C)C)c(C)c(S(=O)(=O)N(C)C)c...  \n",
       "2  (CCOCN(C(C)=O)c1c(N(C)C)c(N(C)C)c(S(=O)(=O)N(C...  \n",
       "3  (CCOCN(C(C)=O)c1c(N(C)C)c(OC)c(S(=O)(=O)N(C)C)...  \n",
       "4  (CCOCN(C(C)=O)c1c(SC)c(N(C)C)c(S(=O)(=O)N(C)C)...  "
      ]
     },
     "execution_count": 14,
     "metadata": {},
     "output_type": "execute_result"
    }
   ],
   "source": [
    "pareto_sets_df.head()"
   ]
  },
  {
   "cell_type": "code",
   "execution_count": 15,
   "id": "651e149a",
   "metadata": {},
   "outputs": [],
   "source": [
    "# save these expensive results to disk\n",
    "pickle.dump(pareto_sets_df, open('pareto_sets_params.pkl', 'wb'))"
   ]
  },
  {
   "cell_type": "code",
   "execution_count": 16,
   "id": "77233457",
   "metadata": {},
   "outputs": [
    {
     "name": "stderr",
     "output_type": "stream",
     "text": [
      "/var/folders/b7/skyhqqz10kv5ht16t37st2pm0000gn/T/ipykernel_83237/1758492908.py:8: SettingWithCopyWarning: \n",
      "A value is trying to be set on a copy of a slice from a DataFrame.\n",
      "Try using .loc[row_indexer,col_indexer] = value instead\n",
      "\n",
      "See the caveats in the documentation: https://pandas.pydata.org/pandas-docs/stable/user_guide/indexing.html#returning-a-view-versus-a-copy\n",
      "  hv_sets['smi'] = hv_smiles\n",
      "/var/folders/b7/skyhqqz10kv5ht16t37st2pm0000gn/T/ipykernel_83237/1758492908.py:17: SettingWithCopyWarning: \n",
      "A value is trying to be set on a copy of a slice from a DataFrame.\n",
      "Try using .loc[row_indexer,col_indexer] = value instead\n",
      "\n",
      "See the caveats in the documentation: https://pandas.pydata.org/pandas-docs/stable/user_guide/indexing.html#returning-a-view-versus-a-copy\n",
      "  chi_sets['smi'] = chi_smiles\n",
      "/var/folders/b7/skyhqqz10kv5ht16t37st2pm0000gn/T/ipykernel_83237/1758492908.py:26: SettingWithCopyWarning: \n",
      "A value is trying to be set on a copy of a slice from a DataFrame.\n",
      "Try using .loc[row_indexer,col_indexer] = value instead\n",
      "\n",
      "See the caveats in the documentation: https://pandas.pydata.org/pandas-docs/stable/user_guide/indexing.html#returning-a-view-versus-a-copy\n",
      "  par_sets['smi'] = par_smiles\n",
      "/var/folders/b7/skyhqqz10kv5ht16t37st2pm0000gn/T/ipykernel_83237/1758492908.py:35: SettingWithCopyWarning: \n",
      "A value is trying to be set on a copy of a slice from a DataFrame.\n",
      "Try using .loc[row_indexer,col_indexer] = value instead\n",
      "\n",
      "See the caveats in the documentation: https://pandas.pydata.org/pandas-docs/stable/user_guide/indexing.html#returning-a-view-versus-a-copy\n",
      "  ws_sets['smi'] = ws_smiles\n"
     ]
    }
   ],
   "source": [
    "# get counts of all the R group options in the flattened Pareto sets\n",
    "hv_sets = pareto_sets_df[pareto_sets_df['method']=='Hypervolume']\n",
    "hv_counts_r1 = dict(hv_sets['R1'].value_counts())\n",
    "hv_counts_r3 = dict(hv_sets['R3'].value_counts())\n",
    "hv_counts_r4 = dict(hv_sets['R4'].value_counts())\n",
    "hv_counts_r5 = dict(hv_sets['R5'].value_counts())\n",
    "hv_smiles = [row.to_dict()['smiles'][0] for _, row in hv_sets.iterrows()]\n",
    "hv_sets['smi'] = hv_smiles\n",
    "hv_counts_smiles = dict(hv_sets['smi'].value_counts())\n",
    "\n",
    "chi_sets = pareto_sets_df[pareto_sets_df['method']=='Chimera']\n",
    "chi_counts_r1 = dict(chi_sets['R1'].value_counts())\n",
    "chi_counts_r3 = dict(chi_sets['R3'].value_counts())\n",
    "chi_counts_r4 = dict(chi_sets['R4'].value_counts())\n",
    "chi_counts_r5 = dict(chi_sets['R5'].value_counts())\n",
    "chi_smiles = [row.to_dict()['smiles'][0] for _, row in chi_sets.iterrows()]\n",
    "chi_sets['smi'] = chi_smiles\n",
    "chi_counts_smiles = dict(chi_sets['smi'].value_counts())\n",
    "\n",
    "par_sets = pareto_sets_df[pareto_sets_df['method']=='ParEGO']\n",
    "par_counts_r1 = dict(par_sets['R1'].value_counts())\n",
    "par_counts_r3 = dict(par_sets['R3'].value_counts())\n",
    "par_counts_r4 = dict(par_sets['R4'].value_counts())\n",
    "par_counts_r5 = dict(par_sets['R5'].value_counts())\n",
    "par_smiles = [row.to_dict()['smiles'][0] for _, row in par_sets.iterrows()]\n",
    "par_sets['smi'] = par_smiles\n",
    "par_counts_smiles = dict(par_sets['smi'].value_counts())\n",
    "\n",
    "ws_sets = pareto_sets_df[pareto_sets_df['method']=='Weighted Sum']\n",
    "ws_counts_r1 = dict(ws_sets['R1'].value_counts())\n",
    "ws_counts_r3 = dict(ws_sets['R3'].value_counts())\n",
    "ws_counts_r4 = dict(ws_sets['R4'].value_counts())\n",
    "ws_counts_r5 = dict(ws_sets['R5'].value_counts())\n",
    "ws_smiles = [row.to_dict()['smiles'][0] for _, row in ws_sets.iterrows()]\n",
    "ws_sets['smi'] = ws_smiles\n",
    "ws_counts_smiles = dict(ws_sets['smi'].value_counts())"
   ]
  },
  {
   "cell_type": "code",
   "execution_count": null,
   "id": "1575a7ea",
   "metadata": {},
   "outputs": [],
   "source": []
  },
  {
   "cell_type": "code",
   "execution_count": 17,
   "id": "1db55403",
   "metadata": {},
   "outputs": [
    {
     "name": "stdout",
     "output_type": "stream",
     "text": [
      "['R1_0' 'R1_1']\n",
      "2\n",
      "['R3_7' 'R3_5' 'R3_0' 'R3_2' 'R3_1' 'R3_3' 'R3_6' 'R3_4']\n",
      "8\n",
      "dict_keys(['R3_7', 'R3_0', 'R3_5', 'R3_2', 'R3_1', 'R3_6', 'R3_3', 'R3_4'])\n",
      "dict_values([289, 178, 64, 49, 32, 15, 10, 7])\n",
      "dict_values([289, 178, 64, 49, 32, 15, 10, 7])\n",
      "['R4_3' 'R4_0' 'R4_7' 'R4_4' 'R4_5' 'R4_6' 'R4_1']\n",
      "7\n",
      "--------------------------------------------------\n",
      "['R5_3' 'R5_10' 'R5_0' 'R5_5' 'R5_8' 'R5_6']\n",
      "6\n",
      "dict_values([174, 174, 124, 39, 35, 15, 7, 7, 6, 1])\n",
      "[0.3 1.3 2.3 3.3 4.3 5.3]\n",
      "[174 174 124  39  35  15]\n"
     ]
    },
    {
     "data": {
      "image/png": "[encoded data removed]",
      "text/plain": [
       "<Figure size 1500x400 with 4 Axes>"
      ]
     },
     "metadata": {},
     "output_type": "display_data"
    }
   ],
   "source": [
    "# make bar chart of the frequencies\n",
    "fig, axes = plt.subplots(1, 4, figsize=(15, 4), sharey=False, gridspec_kw={'width_ratios': [0.5,2,2,1.75]} )\n",
    "\n",
    "strategy = ['Hypervolume', 'Chimera',  'Chebyshev', 'Weighted Sum']\n",
    "colors = {'Hypervolume': '#4267B2', 'Chimera': '#dd882c', 'Chebyshev': '#ffb703', 'Weighted Sum': 'gray' }\n",
    "linewidth=3\n",
    "\n",
    "#-----------\n",
    "# R1 GROUPS\n",
    "#-----------\n",
    "n = len(hv_sets['R1'].unique()) # of R-group options\n",
    "options = hv_sets['R1'].unique()\n",
    "print(options)\n",
    "print(n) \n",
    "ind = np.arange(n) \n",
    "width = 0.15\n",
    "      \n",
    "bar_hv = axes[0].bar(\n",
    "    ind, \n",
    "    np.array(list(hv_counts_r1.values()))/np.sum(np.array(list(hv_counts_r1.values()))), \n",
    "    width, \n",
    "    color=colors['Hypervolume'],\n",
    "    linewidth=linewidth,\n",
    ")\n",
    "  \n",
    "bar_chi = axes[0].bar(\n",
    "    ind+width, \n",
    "    np.array(list(chi_counts_r1.values()))/np.sum(np.array(list(chi_counts_r1.values()))),  \n",
    "    width, \n",
    "    color=colors['Chimera'],\n",
    "    linewidth=linewidth,\n",
    ")\n",
    "  \n",
    "bar_par = axes[0].bar(\n",
    "    ind+width*2, \n",
    "    np.array(list(par_counts_r1.values()))/np.sum(np.array(list(par_counts_r1.values()))), \n",
    "    width, \n",
    "    color=colors['Chebyshev'],\n",
    "    linewidth=linewidth,\n",
    ")\n",
    "\n",
    "bar_ws = axes[0].bar(\n",
    "    ind+width*3, \n",
    "    np.array(list(ws_counts_r1.values()))/np.sum(np.array(list(ws_counts_r1.values()))), \n",
    "    width, \n",
    "    color=colors['Weighted Sum'],\n",
    "    linewidth=linewidth,\n",
    ")\n",
    "  \n",
    "axes[0].set_xlabel(\"Substituent\")\n",
    "axes[0].set_ylabel('Relative frequency')\n",
    "# plt.title(\"Players Score\")\n",
    "  \n",
    "axes[0].set_xticks(ind+width, options,rotation=45)\n",
    "\n",
    "#-----------\n",
    "# R2 GROUPS\n",
    "#-----------\n",
    "n = len(hv_sets['R3'].unique()) # of R-group options\n",
    "options = hv_sets['R3'].unique()\n",
    "print(options)\n",
    "print(n) \n",
    "ind = np.arange(n) \n",
    "width = 0.15\n",
    "\n",
    "print(hv_counts_r3.keys())\n",
    "print(hv_counts_r3.values())\n",
    "print(np.array(hv_counts_r3.values()))\n",
    "      \n",
    "bar_hv = axes[1].bar(\n",
    "    ind, \n",
    "    np.array(list(hv_counts_r3.values()))/np.sum(np.array(list(hv_counts_r3.values()))), \n",
    "    width, \n",
    "    color=colors['Hypervolume'],\n",
    "    linewidth=linewidth,\n",
    ")\n",
    "  \n",
    "bar_chi = axes[1].bar(\n",
    "    ind+width, \n",
    "    np.array(list(chi_counts_r3.values()))/np.sum(np.array(list(chi_counts_r3.values()))), \n",
    "    width, \n",
    "    color=colors['Chimera'],\n",
    "    linewidth=linewidth,\n",
    ")\n",
    "  \n",
    "bar_par = axes[1].bar(\n",
    "    ind+width*2, \n",
    "    np.array(list(par_counts_r3.values()))/np.sum(np.array(list(par_counts_r3.values()))),  \n",
    "    width, \n",
    "    color=colors['Chebyshev'],\n",
    "    linewidth=linewidth,\n",
    ")\n",
    "\n",
    "bar_ws = axes[1].bar(\n",
    "    ind+width*3, \n",
    "    np.array(list(ws_counts_r3.values()))/np.sum(np.array(list(ws_counts_r3.values()))), \n",
    "    width, \n",
    "    color=colors['Weighted Sum'],\n",
    "    linewidth=linewidth,\n",
    ")\n",
    "  \n",
    "axes[1].set_xlabel(\"Substituent\")\n",
    "axes[1].set_xticks(ind+width, options,rotation=45)\n",
    "axes[1].legend( (bar_hv, bar_chi, bar_par, bar_ws), strategy, fontsize=12, frameon=False)\n",
    "\n",
    "\n",
    "#-----------\n",
    "# R3 GROUPS\n",
    "#-----------\n",
    "n = len(hv_sets['R4'].unique()) # of R-group options\n",
    "options = hv_sets['R4'].unique()\n",
    "print(options)\n",
    "print(n) \n",
    "ind = np.arange(n) \n",
    "width = 0.15\n",
    "      \n",
    "bar_hv = axes[2].bar(\n",
    "    ind, \n",
    "    np.array(list(hv_counts_r4.values()))/np.sum(np.array(list(hv_counts_r4.values()))), \n",
    "    width, \n",
    "    color=colors['Hypervolume'],\n",
    "    linewidth=linewidth,\n",
    ")\n",
    "  \n",
    "bar_chi = axes[2].bar(\n",
    "    ind+width, \n",
    "    np.array(list(chi_counts_r4.values()))/np.sum(np.array(list(chi_counts_r4.values()))),\n",
    "    width, \n",
    "    color=colors['Chimera'],\n",
    "    linewidth=linewidth,\n",
    ")\n",
    "  \n",
    "bar_par = axes[2].bar(\n",
    "    ind+width*2, \n",
    "    np.array(list(par_counts_r4.values()))/np.sum(np.array(list(par_counts_r4.values()))), \n",
    "    width, \n",
    "    color=colors['Chebyshev'],\n",
    "    linewidth=linewidth,\n",
    ")\n",
    "\n",
    "bar_ws = axes[2].bar(\n",
    "    ind+width*3, \n",
    "    np.array(list(ws_counts_r4.values()))/np.sum(np.array(list(ws_counts_r4.values()))), \n",
    "    width, \n",
    "    color=colors['Weighted Sum'],\n",
    "    linewidth=linewidth,\n",
    ")\n",
    "  \n",
    "axes[2].set_xlabel(\"Substituent\")\n",
    "axes[2].set_xticks(ind+width, options, rotation=45)\n",
    "\n",
    "\n",
    "#-----------\n",
    "# R4 GROUPS\n",
    "#-----------\n",
    "n = len(hv_sets['R5'].unique()) # of R-group options\n",
    "options = hv_sets['R5'].unique()\n",
    "print('-'*50)\n",
    "print(options)\n",
    "print(n) \n",
    "ind = np.arange(n) \n",
    "width = 0.15\n",
    "\n",
    "print(par_counts_r5.values())\n",
    "      \n",
    "bar_hv = axes[3].bar(\n",
    "    ind, \n",
    "    np.array(list(hv_counts_r5.values()))/np.sum(np.array(list(hv_counts_r5.values()))), \n",
    "    width, \n",
    "    color=colors['Hypervolume'],\n",
    "    linewidth=linewidth,\n",
    ")\n",
    "  \n",
    "bar_chi = axes[3].bar(\n",
    "    ind+width, \n",
    "    np.array(list(chi_counts_r5.values()))/np.sum(np.array(list(chi_counts_r5.values()))), \n",
    "    width, \n",
    "    color=colors['Chimera'],\n",
    "    linewidth=linewidth,\n",
    ")\n",
    "\n",
    "print(ind+width*2)\n",
    "print( np.array(list(par_counts_r5.values()))[:6] )\n",
    "  \n",
    "bar_par = axes[3].bar(\n",
    "    ind+width*2, \n",
    "    np.array(list(par_counts_r5.values()))[:6]/np.sum(np.array(list(par_counts_r5.values()))), \n",
    "    width, \n",
    "    color=colors['Chebyshev'],\n",
    "    linewidth=linewidth,\n",
    ")\n",
    "\n",
    "bar_ws = axes[3].bar(\n",
    "    ind+width*3, \n",
    "    np.array(list(ws_counts_r5.values()))[:6]/np.sum(np.array(list(ws_counts_r5.values()))), \n",
    "    width, \n",
    "    color=colors['Weighted Sum'],\n",
    "    linewidth=linewidth,\n",
    ")\n",
    "  \n",
    "axes[3].set_xlabel(\"Substituent\")\n",
    "axes[3].set_xticks(ind+width, options, rotation=45)\n",
    "plt.savefig('plot_for_labels.png', dpi=400)\n",
    "plt.show()\n",
    "\n"
   ]
  },
  {
   "cell_type": "code",
   "execution_count": 92,
   "id": "36b35890",
   "metadata": {},
   "outputs": [],
   "source": [
    "# visualize structures of the best molecules according to each scalarizer\n",
    "top_smiles_hv = list(hv_counts_smiles.keys())\n",
    "top_mols_hv = [chem.MolFromSmiles(s) for s in top_smiles_hv]\n",
    "\n",
    "img = rdkit.Chem.AllChem.Draw.MolsToGridImage(top_mols_hv, molsPerRow=5, returnPNG=False)\n",
    "img.save('top_mols_hv.png')"
   ]
  },
  {
   "cell_type": "code",
   "execution_count": 93,
   "id": "32a5cf5f",
   "metadata": {},
   "outputs": [],
   "source": [
    "top_smiles_chi = list(chi_counts_smiles.keys())\n",
    "top_mols_chi = [chem.MolFromSmiles(s) for s in top_smiles_chi]\n",
    "\n",
    "img = rdkit.Chem.AllChem.Draw.MolsToGridImage(top_mols_chi, molsPerRow=5, returnPNG=False)\n",
    "img.save('top_mols_chi.png')"
   ]
  },
  {
   "cell_type": "code",
   "execution_count": null,
   "id": "46b56842",
   "metadata": {},
   "outputs": [],
   "source": [
    "top_smiles_par = list(par_counts_smiles.keys())\n",
    "top_mols_par = [chem.MolFromSmiles(s) for s in top_smiles_par]\n",
    "\n",
    "img = rdkit.Chem.AllChem.Draw.MolsToGridImage(top_mols_par, molsPerRow=5, returnPNG=False)\n",
    "img.save('top_mols_par.png')"
   ]
  },
  {
   "cell_type": "code",
   "execution_count": 94,
   "id": "3f0f4c2e",
   "metadata": {},
   "outputs": [],
   "source": [
    "top_smiles_ws = list(ws_counts_smiles.keys())\n",
    "top_mols_ws = [chem.MolFromSmiles(s) for s in top_smiles_ws]\n",
    "\n",
    "img = rdkit.Chem.AllChem.Draw.MolsToGridImage(top_mols_ws, molsPerRow=5, returnPNG=False)\n",
    "img.save('top_mols_ws.png')"
   ]
  },
  {
   "cell_type": "code",
   "execution_count": null,
   "id": "bb42ed2a",
   "metadata": {},
   "outputs": [],
   "source": []
  },
  {
   "cell_type": "code",
   "execution_count": 117,
   "id": "6852aba6",
   "metadata": {},
   "outputs": [],
   "source": [
    "# rank the dataset acording to each scalarizer\n",
    "\n",
    "keep_cols = ['product_smiles', 'r1_label', 'r1_smiles',\n",
    "       'r1_smiles_raw', 'r3_label', 'r3_smiles', 'r3_smiles_raw', 'r4_label',\n",
    "       'r4_smiles', 'r4_smiles_raw', 'r5_label', 'r5_smiles', 'r5_smiles_raw',\n",
    "       'abs_lam_diff', 'ered', 'gsol', 'merit', 'rank' ]\n",
    "\n",
    "hv_df = raw_df.copy()\n",
    "objs_hv = hv_df[['abs_lam_diff', 'ered', 'gsol']].values\n",
    "merits_hv = scalarizers['Hypervolume'].scalarize(objs_hv)\n",
    "# print(merits_hv)\n",
    "hv_df['merit'] = merits_hv\n",
    "hv_df = hv_df.sort_values(by='merit', ascending=True)\n",
    "hv_df['rank'] = np.arange(hv_df.shape[0])+1\n",
    "hv_df = hv_df[keep_cols]\n",
    "\n",
    "chi_df = raw_df.copy()\n",
    "objs_chi = chi_df[['abs_lam_diff', 'ered', 'gsol']].values\n",
    "merits_chi = scalarizers['Chimera'].scalarize(objs_chi)\n",
    "# print(merits_chi)\n",
    "chi_df['merit'] = merits_chi\n",
    "chi_df = chi_df.sort_values(by='merit', ascending=True)\n",
    "chi_df['rank'] = np.arange(chi_df.shape[0])+1\n",
    "chi_df = chi_df[keep_cols]\n",
    "\n",
    "par_df = raw_df.copy()\n",
    "objs_par = par_df[['abs_lam_diff', 'ered', 'gsol']].values\n",
    "merits_par = scalarizers['Parego'].scalarize(objs_par)\n",
    "# print(merits_chi)\n",
    "par_df['merit'] = merits_par\n",
    "par_df = par_df.sort_values(by='merit', ascending=True)\n",
    "par_df['rank'] = np.arange(par_df.shape[0])+1\n",
    "par_df = par_df[keep_cols]\n",
    "\n",
    "ws_df = raw_df.copy()\n",
    "objs_ws = ws_df[['abs_lam_diff', 'ered', 'gsol']].values\n",
    "merits_ws = scalarizers['WeightedSum'].scalarize(objs_ws)\n",
    "# print(merits_chi)\n",
    "ws_df['merit'] = merits_ws\n",
    "ws_df = ws_df.sort_values(by='merit', ascending=True)\n",
    "ws_df['rank'] = np.arange(ws_df.shape[0])+1\n",
    "ws_df = ws_df[keep_cols]\n",
    "\n",
    "\n"
   ]
  },
  {
   "cell_type": "code",
   "execution_count": 132,
   "id": "08fee0a7",
   "metadata": {},
   "outputs": [
    {
     "name": "stdout",
     "output_type": "stream",
     "text": [
      "10\n"
     ]
    }
   ],
   "source": [
    "\n",
    "num_mols = 10\n",
    "top_smiles_hv = hv_df['product_smiles'].tolist()[:num_mols]\n",
    "top_mols_hv   = [chem.MolFromSmiles(s) for s in top_smiles_hv]\n",
    "top_abs_lam_diff_hv = hv_df['abs_lam_diff'].tolist()[:num_mols]\n",
    "top_ered_hv = hv_df['ered'].tolist()[:num_mols]\n",
    "top_gsol_hv = hv_df['gsol'].tolist()[:num_mols]\n",
    "legends_hv = [\n",
    "    f'abs lam diff : {round(a,3)}\\nered : {round(e,3)}\\ngsol : {round(g,3)}' for a, e, g in zip(top_abs_lam_diff_hv,top_ered_hv,top_gsol_hv)\n",
    "]\n",
    "print(len(top_abs_lam_diff_hv))\n",
    "\n",
    "top_smiles_chi = chi_df['product_smiles'].tolist()[:num_mols]\n",
    "top_mols_chi   = [chem.MolFromSmiles(s) for s in top_smiles_chi]\n",
    "top_abs_lam_diff_chi = chi_df['abs_lam_diff'].tolist()[:num_mols]\n",
    "top_ered_chi = chi_df['ered'].tolist()[:num_mols]\n",
    "top_gsol_chi = chi_df['gsol'].tolist()[:num_mols]\n",
    "legends_chi = [\n",
    "    f'abs lam diff : {round(a,3)}\\nered : {round(e,3)}\\ngsol : {round(g,3)}' for a, e, g in zip(top_abs_lam_diff_chi,top_ered_chi,top_gsol_chi)\n",
    "]\n",
    "\n",
    "\n",
    "top_smiles_par = par_df['product_smiles'].tolist()[:num_mols]\n",
    "top_mols_par   = [chem.MolFromSmiles(s) for s in top_smiles_par]\n",
    "top_abs_lam_diff_par = par_df['abs_lam_diff'].tolist()[:num_mols]\n",
    "top_ered_par = par_df['ered'].tolist()[:num_mols]\n",
    "top_gsol_par = par_df['gsol'].tolist()[:num_mols]\n",
    "legends_par = [\n",
    "    f'abs lam diff : {round(a,3)}\\nered : {round(e,3)}\\ngsol : {round(g,3)}' for a, e, g in zip(top_abs_lam_diff_par,top_ered_par,top_gsol_par)\n",
    "]\n",
    "\n",
    "top_smiles_ws = ws_df['product_smiles'].tolist()[:num_mols]\n",
    "top_mols_ws   = [chem.MolFromSmiles(s) for s in top_smiles_ws]\n",
    "top_abs_lam_diff_ws = ws_df['abs_lam_diff'].tolist()[:num_mols]\n",
    "top_ered_ws = ws_df['ered'].tolist()[:num_mols]\n",
    "top_gsol_ws = ws_df['gsol'].tolist()[:num_mols]\n",
    "legends_ws = [\n",
    "    f'abs lam diff : {round(a,3)}\\nered : {round(e,3)}\\ngsol : {round(g,3)}' for a, e, g in zip(top_abs_lam_diff_ws,top_ered_ws,top_gsol_ws)\n",
    "]"
   ]
  },
  {
   "cell_type": "code",
   "execution_count": 136,
   "id": "e01321d7",
   "metadata": {},
   "outputs": [],
   "source": [
    "img = rdkit.Chem.AllChem.Draw.MolsToGridImage(\n",
    "    top_mols_hv, molsPerRow=5, subImgSize=(300, 300), returnPNG=False, legends=legends_hv\n",
    ")\n",
    "img.save('top_20_mols_hv_rank.png')\n",
    "\n",
    "img = rdkit.Chem.AllChem.Draw.MolsToGridImage(top_mols_chi, molsPerRow=5, subImgSize=(300, 300), returnPNG=False, legends=legends_chi)\n",
    "img.save('top_20_mols_chi_rank.png')\n",
    "\n",
    "img = rdkit.Chem.AllChem.Draw.MolsToGridImage(top_mols_par, molsPerRow=5, subImgSize=(300, 300), returnPNG=False, legends=legends_par)\n",
    "img.save('top_20_mols_par_rank.png')\n",
    "\n",
    "img = rdkit.Chem.AllChem.Draw.MolsToGridImage(top_mols_ws, molsPerRow=5, subImgSize=(300, 300), returnPNG=False, legends=legends_ws)\n",
    "img.save('top_20_mols_ws_rank.png')"
   ]
  },
  {
   "cell_type": "code",
   "execution_count": 170,
   "id": "2146a44d",
   "metadata": {},
   "outputs": [],
   "source": [
    "def make_value_counts(sub_df, raw_df, rgroup='r1', num_mols=20):\n",
    "    options = raw_df[f'{rgroup}_label'].unique().tolist()\n",
    "    sub_df_counts = dict(sub_df.iloc[:num_mols,:][f'{rgroup}_label'].value_counts())\n",
    "    ordered_counts = {}\n",
    "    for key in options:\n",
    "        if key in list(sub_df_counts.keys()):\n",
    "            ordered_counts[key] = sub_df_counts[key]\n",
    "        else:\n",
    "            ordered_counts[key]=0\n",
    "    return ordered_counts"
   ]
  },
  {
   "cell_type": "code",
   "execution_count": 173,
   "id": "023cdf31",
   "metadata": {},
   "outputs": [],
   "source": [
    "num_mols = 50\n",
    "hv_counts_r1 = make_value_counts(hv_df, raw_df, 'r1', num_mols)\n",
    "hv_counts_r3 = make_value_counts(hv_df, raw_df, 'r3', num_mols)\n",
    "hv_counts_r4 = make_value_counts(hv_df, raw_df, 'r4', num_mols)\n",
    "hv_counts_r5 = make_value_counts(hv_df, raw_df, 'r5', num_mols)\n",
    "\n",
    "chi_counts_r1 = make_value_counts(chi_df, raw_df, 'r1', num_mols)\n",
    "chi_counts_r3 = make_value_counts(chi_df, raw_df, 'r3', num_mols)\n",
    "chi_counts_r4 = make_value_counts(chi_df, raw_df, 'r4', num_mols)\n",
    "chi_counts_r5 = make_value_counts(chi_df, raw_df, 'r5', num_mols)\n",
    "\n",
    "par_counts_r1 = make_value_counts(par_df, raw_df, 'r1', num_mols)\n",
    "par_counts_r3 = make_value_counts(par_df, raw_df, 'r3', num_mols)\n",
    "par_counts_r4 = make_value_counts(par_df, raw_df, 'r4', num_mols)\n",
    "par_counts_r5 = make_value_counts(par_df, raw_df, 'r5', num_mols)\n",
    "\n",
    "ws_counts_r1 = make_value_counts(ws_df, raw_df, 'r1', num_mols)\n",
    "ws_counts_r3 = make_value_counts(ws_df, raw_df, 'r3', num_mols)\n",
    "ws_counts_r4 = make_value_counts(ws_df, raw_df, 'r4', num_mols)\n",
    "ws_counts_r5 = make_value_counts(ws_df, raw_df, 'r5', num_mols)"
   ]
  },
  {
   "cell_type": "code",
   "execution_count": null,
   "id": "7d6b863b",
   "metadata": {},
   "outputs": [],
   "source": []
  },
  {
   "cell_type": "code",
   "execution_count": null,
   "id": "9fcaa9e9",
   "metadata": {},
   "outputs": [],
   "source": []
  },
  {
   "cell_type": "code",
   "execution_count": 26,
   "id": "199cc827",
   "metadata": {},
   "outputs": [
    {
     "name": "stdout",
     "output_type": "stream",
     "text": [
      "['R1_0' 'R1_1']\n",
      "2\n",
      "==================================================\n",
      "['R3_0' 'R3_1' 'R3_2' 'R3_3' 'R3_4' 'R3_5' 'R3_6' 'R3_7']\n",
      "8\n",
      "['R3_7', 'R3_0', 'R3_5', 'R3_2', 'R3_1', 'R3_6', 'R3_3', 'R3_4']\n",
      "[289, 178, 64, 49, 32, 15, 10, 7]\n",
      "[289 178  64  49  32  15  10   7]\n",
      "['R4_0' 'R4_1' 'R4_2' 'R4_3' 'R4_4' 'R4_5' 'R4_6' 'R4_7']\n",
      "8\n"
     ]
    },
    {
     "ename": "ValueError",
     "evalue": "shape mismatch: objects cannot be broadcast to a single shape.  Mismatch is between arg 0 with shape (8,) and arg 1 with shape (7,).",
     "output_type": "error",
     "traceback": [
      "\u001b[0;31m---------------------------------------------------------------------------\u001b[0m",
      "\u001b[0;31mValueError\u001b[0m                                Traceback (most recent call last)",
      "Cell \u001b[0;32mIn[26], line 122\u001b[0m\n\u001b[1;32m    119\u001b[0m ind \u001b[38;5;241m=\u001b[39m np\u001b[38;5;241m.\u001b[39marange(n) \n\u001b[1;32m    120\u001b[0m width \u001b[38;5;241m=\u001b[39m \u001b[38;5;241m0.18\u001b[39m\n\u001b[0;32m--> 122\u001b[0m bar_hv \u001b[38;5;241m=\u001b[39m \u001b[43maxes\u001b[49m\u001b[43m[\u001b[49m\u001b[38;5;241;43m2\u001b[39;49m\u001b[43m]\u001b[49m\u001b[38;5;241;43m.\u001b[39;49m\u001b[43mbar\u001b[49m\u001b[43m(\u001b[49m\n\u001b[1;32m    123\u001b[0m \u001b[43m    \u001b[49m\u001b[43mind\u001b[49m\u001b[43m,\u001b[49m\u001b[43m \u001b[49m\n\u001b[1;32m    124\u001b[0m \u001b[43m    \u001b[49m\u001b[43mnp\u001b[49m\u001b[38;5;241;43m.\u001b[39;49m\u001b[43marray\u001b[49m\u001b[43m(\u001b[49m\u001b[38;5;28;43mlist\u001b[39;49m\u001b[43m(\u001b[49m\u001b[43mhv_counts_r4\u001b[49m\u001b[38;5;241;43m.\u001b[39;49m\u001b[43mvalues\u001b[49m\u001b[43m(\u001b[49m\u001b[43m)\u001b[49m\u001b[43m)\u001b[49m\u001b[43m)\u001b[49m\u001b[38;5;241;43m/\u001b[39;49m\u001b[43mnp\u001b[49m\u001b[38;5;241;43m.\u001b[39;49m\u001b[43msum\u001b[49m\u001b[43m(\u001b[49m\u001b[43mnp\u001b[49m\u001b[38;5;241;43m.\u001b[39;49m\u001b[43marray\u001b[49m\u001b[43m(\u001b[49m\u001b[38;5;28;43mlist\u001b[39;49m\u001b[43m(\u001b[49m\u001b[43mhv_counts_r4\u001b[49m\u001b[38;5;241;43m.\u001b[39;49m\u001b[43mvalues\u001b[49m\u001b[43m(\u001b[49m\u001b[43m)\u001b[49m\u001b[43m)\u001b[49m\u001b[43m)\u001b[49m\u001b[43m)\u001b[49m\u001b[43m,\u001b[49m\u001b[43m \u001b[49m\n\u001b[1;32m    125\u001b[0m \u001b[43m    \u001b[49m\u001b[43mwidth\u001b[49m\u001b[43m,\u001b[49m\u001b[43m \u001b[49m\n\u001b[1;32m    126\u001b[0m \u001b[43m    \u001b[49m\u001b[43mcolor\u001b[49m\u001b[38;5;241;43m=\u001b[39;49m\u001b[43mcolors\u001b[49m\u001b[43m[\u001b[49m\u001b[38;5;124;43m'\u001b[39;49m\u001b[38;5;124;43mHypervolume\u001b[39;49m\u001b[38;5;124;43m'\u001b[39;49m\u001b[43m]\u001b[49m\u001b[43m,\u001b[49m\n\u001b[1;32m    127\u001b[0m \u001b[43m    \u001b[49m\u001b[43mlinewidth\u001b[49m\u001b[38;5;241;43m=\u001b[39;49m\u001b[43mlinewidth\u001b[49m\u001b[43m,\u001b[49m\n\u001b[1;32m    128\u001b[0m \u001b[43m)\u001b[49m\n\u001b[1;32m    130\u001b[0m bar_chi \u001b[38;5;241m=\u001b[39m axes[\u001b[38;5;241m2\u001b[39m]\u001b[38;5;241m.\u001b[39mbar(\n\u001b[1;32m    131\u001b[0m     ind\u001b[38;5;241m+\u001b[39mwidth, \n\u001b[1;32m    132\u001b[0m     np\u001b[38;5;241m.\u001b[39marray(\u001b[38;5;28mlist\u001b[39m(chi_counts_r4\u001b[38;5;241m.\u001b[39mvalues()))\u001b[38;5;241m/\u001b[39mnp\u001b[38;5;241m.\u001b[39msum(np\u001b[38;5;241m.\u001b[39marray(\u001b[38;5;28mlist\u001b[39m(chi_counts_r4\u001b[38;5;241m.\u001b[39mvalues()))),\n\u001b[0;32m   (...)\u001b[0m\n\u001b[1;32m    135\u001b[0m     linewidth\u001b[38;5;241m=\u001b[39mlinewidth,\n\u001b[1;32m    136\u001b[0m )\n\u001b[1;32m    138\u001b[0m bar_par \u001b[38;5;241m=\u001b[39m axes[\u001b[38;5;241m2\u001b[39m]\u001b[38;5;241m.\u001b[39mbar(\n\u001b[1;32m    139\u001b[0m     ind\u001b[38;5;241m+\u001b[39mwidth\u001b[38;5;241m*\u001b[39m\u001b[38;5;241m2\u001b[39m, \n\u001b[1;32m    140\u001b[0m     np\u001b[38;5;241m.\u001b[39marray(\u001b[38;5;28mlist\u001b[39m(par_counts_r4\u001b[38;5;241m.\u001b[39mvalues()))\u001b[38;5;241m/\u001b[39mnp\u001b[38;5;241m.\u001b[39msum(np\u001b[38;5;241m.\u001b[39marray(\u001b[38;5;28mlist\u001b[39m(par_counts_r4\u001b[38;5;241m.\u001b[39mvalues()))), \n\u001b[0;32m   (...)\u001b[0m\n\u001b[1;32m    143\u001b[0m     linewidth\u001b[38;5;241m=\u001b[39mlinewidth,\n\u001b[1;32m    144\u001b[0m )\n",
      "File \u001b[0;32m~/mambaforge/envs/atlas/lib/python3.10/site-packages/matplotlib/__init__.py:1423\u001b[0m, in \u001b[0;36m_preprocess_data.<locals>.inner\u001b[0;34m(ax, data, *args, **kwargs)\u001b[0m\n\u001b[1;32m   1420\u001b[0m \u001b[38;5;129m@functools\u001b[39m\u001b[38;5;241m.\u001b[39mwraps(func)\n\u001b[1;32m   1421\u001b[0m \u001b[38;5;28;01mdef\u001b[39;00m \u001b[38;5;21minner\u001b[39m(ax, \u001b[38;5;241m*\u001b[39margs, data\u001b[38;5;241m=\u001b[39m\u001b[38;5;28;01mNone\u001b[39;00m, \u001b[38;5;241m*\u001b[39m\u001b[38;5;241m*\u001b[39mkwargs):\n\u001b[1;32m   1422\u001b[0m     \u001b[38;5;28;01mif\u001b[39;00m data \u001b[38;5;129;01mis\u001b[39;00m \u001b[38;5;28;01mNone\u001b[39;00m:\n\u001b[0;32m-> 1423\u001b[0m         \u001b[38;5;28;01mreturn\u001b[39;00m \u001b[43mfunc\u001b[49m\u001b[43m(\u001b[49m\u001b[43max\u001b[49m\u001b[43m,\u001b[49m\u001b[43m \u001b[49m\u001b[38;5;241;43m*\u001b[39;49m\u001b[38;5;28;43mmap\u001b[39;49m\u001b[43m(\u001b[49m\u001b[43msanitize_sequence\u001b[49m\u001b[43m,\u001b[49m\u001b[43m \u001b[49m\u001b[43margs\u001b[49m\u001b[43m)\u001b[49m\u001b[43m,\u001b[49m\u001b[43m \u001b[49m\u001b[38;5;241;43m*\u001b[39;49m\u001b[38;5;241;43m*\u001b[39;49m\u001b[43mkwargs\u001b[49m\u001b[43m)\u001b[49m\n\u001b[1;32m   1425\u001b[0m     bound \u001b[38;5;241m=\u001b[39m new_sig\u001b[38;5;241m.\u001b[39mbind(ax, \u001b[38;5;241m*\u001b[39margs, \u001b[38;5;241m*\u001b[39m\u001b[38;5;241m*\u001b[39mkwargs)\n\u001b[1;32m   1426\u001b[0m     auto_label \u001b[38;5;241m=\u001b[39m (bound\u001b[38;5;241m.\u001b[39marguments\u001b[38;5;241m.\u001b[39mget(label_namer)\n\u001b[1;32m   1427\u001b[0m                   \u001b[38;5;129;01mor\u001b[39;00m bound\u001b[38;5;241m.\u001b[39mkwargs\u001b[38;5;241m.\u001b[39mget(label_namer))\n",
      "File \u001b[0;32m~/mambaforge/envs/atlas/lib/python3.10/site-packages/matplotlib/axes/_axes.py:2391\u001b[0m, in \u001b[0;36mAxes.bar\u001b[0;34m(self, x, height, width, bottom, align, **kwargs)\u001b[0m\n\u001b[1;32m   2388\u001b[0m     \u001b[38;5;28;01mif\u001b[39;00m yerr \u001b[38;5;129;01mis\u001b[39;00m \u001b[38;5;129;01mnot\u001b[39;00m \u001b[38;5;28;01mNone\u001b[39;00m:\n\u001b[1;32m   2389\u001b[0m         yerr \u001b[38;5;241m=\u001b[39m \u001b[38;5;28mself\u001b[39m\u001b[38;5;241m.\u001b[39m_convert_dx(yerr, y0, y, \u001b[38;5;28mself\u001b[39m\u001b[38;5;241m.\u001b[39mconvert_yunits)\n\u001b[0;32m-> 2391\u001b[0m x, height, width, y, linewidth, hatch \u001b[38;5;241m=\u001b[39m \u001b[43mnp\u001b[49m\u001b[38;5;241;43m.\u001b[39;49m\u001b[43mbroadcast_arrays\u001b[49m\u001b[43m(\u001b[49m\n\u001b[1;32m   2392\u001b[0m \u001b[43m    \u001b[49m\u001b[38;5;66;43;03m# Make args iterable too.\u001b[39;49;00m\n\u001b[1;32m   2393\u001b[0m \u001b[43m    \u001b[49m\u001b[43mnp\u001b[49m\u001b[38;5;241;43m.\u001b[39;49m\u001b[43matleast_1d\u001b[49m\u001b[43m(\u001b[49m\u001b[43mx\u001b[49m\u001b[43m)\u001b[49m\u001b[43m,\u001b[49m\u001b[43m \u001b[49m\u001b[43mheight\u001b[49m\u001b[43m,\u001b[49m\u001b[43m \u001b[49m\u001b[43mwidth\u001b[49m\u001b[43m,\u001b[49m\u001b[43m \u001b[49m\u001b[43my\u001b[49m\u001b[43m,\u001b[49m\u001b[43m \u001b[49m\u001b[43mlinewidth\u001b[49m\u001b[43m,\u001b[49m\u001b[43m \u001b[49m\u001b[43mhatch\u001b[49m\u001b[43m)\u001b[49m\n\u001b[1;32m   2395\u001b[0m \u001b[38;5;66;03m# Now that units have been converted, set the tick locations.\u001b[39;00m\n\u001b[1;32m   2396\u001b[0m \u001b[38;5;28;01mif\u001b[39;00m orientation \u001b[38;5;241m==\u001b[39m \u001b[38;5;124m'\u001b[39m\u001b[38;5;124mvertical\u001b[39m\u001b[38;5;124m'\u001b[39m:\n",
      "File \u001b[0;32m<__array_function__ internals>:180\u001b[0m, in \u001b[0;36mbroadcast_arrays\u001b[0;34m(*args, **kwargs)\u001b[0m\n",
      "File \u001b[0;32m~/mambaforge/envs/atlas/lib/python3.10/site-packages/numpy/lib/stride_tricks.py:540\u001b[0m, in \u001b[0;36mbroadcast_arrays\u001b[0;34m(subok, *args)\u001b[0m\n\u001b[1;32m    533\u001b[0m \u001b[38;5;66;03m# nditer is not used here to avoid the limit of 32 arrays.\u001b[39;00m\n\u001b[1;32m    534\u001b[0m \u001b[38;5;66;03m# Otherwise, something like the following one-liner would suffice:\u001b[39;00m\n\u001b[1;32m    535\u001b[0m \u001b[38;5;66;03m# return np.nditer(args, flags=['multi_index', 'zerosize_ok'],\u001b[39;00m\n\u001b[1;32m    536\u001b[0m \u001b[38;5;66;03m#                  order='C').itviews\u001b[39;00m\n\u001b[1;32m    538\u001b[0m args \u001b[38;5;241m=\u001b[39m [np\u001b[38;5;241m.\u001b[39marray(_m, copy\u001b[38;5;241m=\u001b[39m\u001b[38;5;28;01mFalse\u001b[39;00m, subok\u001b[38;5;241m=\u001b[39msubok) \u001b[38;5;28;01mfor\u001b[39;00m _m \u001b[38;5;129;01min\u001b[39;00m args]\n\u001b[0;32m--> 540\u001b[0m shape \u001b[38;5;241m=\u001b[39m \u001b[43m_broadcast_shape\u001b[49m\u001b[43m(\u001b[49m\u001b[38;5;241;43m*\u001b[39;49m\u001b[43margs\u001b[49m\u001b[43m)\u001b[49m\n\u001b[1;32m    542\u001b[0m \u001b[38;5;28;01mif\u001b[39;00m \u001b[38;5;28mall\u001b[39m(array\u001b[38;5;241m.\u001b[39mshape \u001b[38;5;241m==\u001b[39m shape \u001b[38;5;28;01mfor\u001b[39;00m array \u001b[38;5;129;01min\u001b[39;00m args):\n\u001b[1;32m    543\u001b[0m     \u001b[38;5;66;03m# Common case where nothing needs to be broadcasted.\u001b[39;00m\n\u001b[1;32m    544\u001b[0m     \u001b[38;5;28;01mreturn\u001b[39;00m args\n",
      "File \u001b[0;32m~/mambaforge/envs/atlas/lib/python3.10/site-packages/numpy/lib/stride_tricks.py:422\u001b[0m, in \u001b[0;36m_broadcast_shape\u001b[0;34m(*args)\u001b[0m\n\u001b[1;32m    417\u001b[0m \u001b[38;5;124;03m\"\"\"Returns the shape of the arrays that would result from broadcasting the\u001b[39;00m\n\u001b[1;32m    418\u001b[0m \u001b[38;5;124;03msupplied arrays against each other.\u001b[39;00m\n\u001b[1;32m    419\u001b[0m \u001b[38;5;124;03m\"\"\"\u001b[39;00m\n\u001b[1;32m    420\u001b[0m \u001b[38;5;66;03m# use the old-iterator because np.nditer does not handle size 0 arrays\u001b[39;00m\n\u001b[1;32m    421\u001b[0m \u001b[38;5;66;03m# consistently\u001b[39;00m\n\u001b[0;32m--> 422\u001b[0m b \u001b[38;5;241m=\u001b[39m \u001b[43mnp\u001b[49m\u001b[38;5;241;43m.\u001b[39;49m\u001b[43mbroadcast\u001b[49m\u001b[43m(\u001b[49m\u001b[38;5;241;43m*\u001b[39;49m\u001b[43margs\u001b[49m\u001b[43m[\u001b[49m\u001b[43m:\u001b[49m\u001b[38;5;241;43m32\u001b[39;49m\u001b[43m]\u001b[49m\u001b[43m)\u001b[49m\n\u001b[1;32m    423\u001b[0m \u001b[38;5;66;03m# unfortunately, it cannot handle 32 or more arguments directly\u001b[39;00m\n\u001b[1;32m    424\u001b[0m \u001b[38;5;28;01mfor\u001b[39;00m pos \u001b[38;5;129;01min\u001b[39;00m \u001b[38;5;28mrange\u001b[39m(\u001b[38;5;241m32\u001b[39m, \u001b[38;5;28mlen\u001b[39m(args), \u001b[38;5;241m31\u001b[39m):\n\u001b[1;32m    425\u001b[0m     \u001b[38;5;66;03m# ironically, np.broadcast does not properly handle np.broadcast\u001b[39;00m\n\u001b[1;32m    426\u001b[0m     \u001b[38;5;66;03m# objects (it treats them as scalars)\u001b[39;00m\n\u001b[1;32m    427\u001b[0m     \u001b[38;5;66;03m# use broadcasting to avoid allocating the full array\u001b[39;00m\n",
      "\u001b[0;31mValueError\u001b[0m: shape mismatch: objects cannot be broadcast to a single shape.  Mismatch is between arg 0 with shape (8,) and arg 1 with shape (7,)."
     ]
    },
    {
     "data": {
      "image/png": "[encoded data removed]",
      "text/plain": [
       "<Figure size 1500x400 with 4 Axes>"
      ]
     },
     "metadata": {},
     "output_type": "display_data"
    }
   ],
   "source": [
    "# make bar chart of the frequencies\n",
    "fig, axes = plt.subplots(1, 4, figsize=(15, 4), sharey=False, gridspec_kw={'width_ratios': [2,8,8,11]} )\n",
    "\n",
    "strategy = ['Hypervolume', 'Chimera',  'ParEGO', 'Weighted Sum']\n",
    "colors = {'Hypervolume': '#4267B2', 'Chimera': '#dd882c', 'Chebyshev': '#ffb703', 'Weighted Sum': 'gray' }\n",
    "linewidth=3\n",
    "\n",
    "#-----------\n",
    "# R1 GROUPS\n",
    "#-----------\n",
    "n = len(raw_df['r1_label'].unique()) # of R-group options\n",
    "options = raw_df['r1_label'].unique()\n",
    "format_options = [r'R$_1^1$', r'R$_1^2$']\n",
    "print(options)\n",
    "print(n) \n",
    "ind = np.arange(n) \n",
    "width = 0.15\n",
    "      \n",
    "bar_hv = axes[0].bar(\n",
    "    ind, \n",
    "    np.array(list(hv_counts_r1.values()))/np.sum(np.array(list(hv_counts_r1.values()))), \n",
    "    width, \n",
    "    color=colors['Hypervolume'],\n",
    "    linewidth=linewidth,\n",
    ")\n",
    "  \n",
    "bar_chi = axes[0].bar(\n",
    "    ind+width, \n",
    "    np.array(list(chi_counts_r1.values()))/np.sum(np.array(list(chi_counts_r1.values()))),  \n",
    "    width, \n",
    "    color=colors['Chimera'],\n",
    "    linewidth=linewidth,\n",
    ")\n",
    "  \n",
    "bar_par = axes[0].bar(\n",
    "    ind+width*2, \n",
    "    np.array(list(par_counts_r1.values()))/np.sum(np.array(list(par_counts_r1.values()))), \n",
    "    width, \n",
    "    color=colors['Chebyshev'],\n",
    "    linewidth=linewidth,\n",
    ")\n",
    "\n",
    "bar_ws = axes[0].bar(\n",
    "    ind+width*3, \n",
    "    np.array(list(ws_counts_r1.values()))/np.sum(np.array(list(ws_counts_r1.values()))), \n",
    "    width, \n",
    "    color=colors['Weighted Sum'],\n",
    "    linewidth=linewidth,\n",
    ")\n",
    "  \n",
    "# axes[0].set_xlabel(\"Substituent\")\n",
    "axes[0].set_ylabel('Relative frequency')\n",
    "# plt.title(\"Players Score\")\n",
    "  \n",
    "axes[0].set_xticks(ind+width, format_options,rotation=0)\n",
    "\n",
    "print('='*50)\n",
    "\n",
    "#-----------\n",
    "# R2 GROUPS\n",
    "#-----------\n",
    "n = len(raw_df['r3_label'].unique()) # of R-group options\n",
    "options = raw_df['r3_label'].unique()\n",
    "format_options = [r'R$_2^1$', r'R$_2^2$', r'R$_2^3$', r'R$_2^4$', r'R$_2^5$', r'R$_2^6$', r'R$_2^7$', r'R$_2^8$']\n",
    "print(options)\n",
    "print(n) \n",
    "ind = np.arange(n) \n",
    "width = 0.18\n",
    "\n",
    "print(list(hv_counts_r3.keys()))\n",
    "print(list(hv_counts_r3.values()))\n",
    "print(np.array(list(hv_counts_r3.values())))\n",
    "      \n",
    "bar_hv = axes[1].bar(\n",
    "    ind, \n",
    "    np.array(list(hv_counts_r3.values()))/np.sum(np.array(list(hv_counts_r3.values()))), \n",
    "    width, \n",
    "    color=colors['Hypervolume'],\n",
    "    linewidth=linewidth,\n",
    ")\n",
    "  \n",
    "bar_chi = axes[1].bar(\n",
    "    ind+width, \n",
    "    np.array(list(chi_counts_r3.values()))/np.sum(np.array(list(chi_counts_r3.values()))), \n",
    "    width, \n",
    "    color=colors['Chimera'],\n",
    "    linewidth=linewidth,\n",
    ")\n",
    "  \n",
    "bar_par = axes[1].bar(\n",
    "    ind+width*2, \n",
    "    np.array(list(par_counts_r3.values()))/np.sum(np.array(list(par_counts_r3.values()))),  \n",
    "    width, \n",
    "    color=colors['Chebyshev'],\n",
    "    linewidth=linewidth,\n",
    ")\n",
    "\n",
    "bar_ws = axes[1].bar(\n",
    "    ind+width*3, \n",
    "    np.array(list(ws_counts_r3.values()))/np.sum(np.array(list(ws_counts_r3.values()))), \n",
    "    width, \n",
    "    color=colors['Weighted Sum'],\n",
    "    linewidth=linewidth,\n",
    ")\n",
    "  \n",
    "# axes[1].set_xlabel(\"Substituent\")\n",
    "axes[1].set_xticks(ind+width, format_options,rotation=0)\n",
    "axes[1].legend( (bar_hv, bar_chi, bar_par, bar_ws), strategy, fontsize=12, frameon=True)\n",
    "\n",
    "\n",
    "#-----------\n",
    "# R3 GROUPS\n",
    "#-----------\n",
    "n = len(raw_df['r4_label'].unique()) # of R-group options\n",
    "options = raw_df['r4_label'].unique()\n",
    "format_options = [r'R$_3^1$', r'R$_3^2$', r'R$_3^3$', r'R$_3^4$', r'R$_3^5$', r'R$_3^6$', r'R$_3^7$', r'R$_3^8$']\n",
    "print(options)\n",
    "print(n) \n",
    "ind = np.arange(n) \n",
    "width = 0.18\n",
    "      \n",
    "bar_hv = axes[2].bar(\n",
    "    ind, \n",
    "    np.array(list(hv_counts_r4.values()))/np.sum(np.array(list(hv_counts_r4.values()))), \n",
    "    width, \n",
    "    color=colors['Hypervolume'],\n",
    "    linewidth=linewidth,\n",
    ")\n",
    "  \n",
    "bar_chi = axes[2].bar(\n",
    "    ind+width, \n",
    "    np.array(list(chi_counts_r4.values()))/np.sum(np.array(list(chi_counts_r4.values()))),\n",
    "    width, \n",
    "    color=colors['Chimera'],\n",
    "    linewidth=linewidth,\n",
    ")\n",
    "  \n",
    "bar_par = axes[2].bar(\n",
    "    ind+width*2, \n",
    "    np.array(list(par_counts_r4.values()))/np.sum(np.array(list(par_counts_r4.values()))), \n",
    "    width, \n",
    "    color=colors['Chebyshev'],\n",
    "    linewidth=linewidth,\n",
    ")\n",
    "\n",
    "bar_ws = axes[2].bar(\n",
    "    ind+width*3, \n",
    "    np.array(list(ws_counts_r4.values()))/np.sum(np.array(list(ws_counts_r4.values()))), \n",
    "    width, \n",
    "    color=colors['Weighted Sum'],\n",
    "    linewidth=linewidth,\n",
    ")\n",
    "  \n",
    "# axes[2].set_xlabel(\"Substituent\")\n",
    "axes[2].set_xticks(ind+width, format_options, rotation=0)\n",
    "\n",
    "\n",
    "#-----------\n",
    "# R4 GROUPS\n",
    "#-----------\n",
    "n = len(raw_df['r5_label'].unique()) # of R-group options\n",
    "options = raw_df['r5_label'].unique()\n",
    "format_options = [r'R$_4^1$', r'R$_4^2$', r'R$_4^3$', r'R$_4^4$', r'R$_4^5$', r'R$_4^6$', r'R$_4^7$', r'R$_4^8$', \n",
    "                  r'R$_4^9$', r'R$_4^{10}$', r'R$_4^{11}$'\n",
    "        ]\n",
    "print('-'*50)\n",
    "print(options)\n",
    "print(n) \n",
    "ind = np.arange(n) \n",
    "width = 0.2\n",
    "\n",
    "      \n",
    "bar_hv = axes[3].bar(\n",
    "    ind, \n",
    "    np.array(list(hv_counts_r5.values()))/np.sum(np.array(list(hv_counts_r5.values()))), \n",
    "    width, \n",
    "    color=colors['Hypervolume'],\n",
    "    linewidth=linewidth,\n",
    ")\n",
    "  \n",
    "bar_chi = axes[3].bar(\n",
    "    ind+width, \n",
    "    np.array(list(chi_counts_r5.values()))/np.sum(np.array(list(chi_counts_r5.values()))), \n",
    "    width, \n",
    "    color=colors['Chimera'],\n",
    "    linewidth=linewidth,\n",
    ")\n",
    "\n",
    "\n",
    "  \n",
    "bar_par = axes[3].bar(\n",
    "    ind+width*2, \n",
    "    np.array(list(par_counts_r5.values()))/np.sum(np.array(list(par_counts_r5.values()))), \n",
    "    width, \n",
    "    color=colors['Chebyshev'],\n",
    "    linewidth=linewidth,\n",
    ")\n",
    "\n",
    "bar_ws = axes[3].bar(\n",
    "    ind+width*3, \n",
    "    np.array(list(ws_counts_r5.values()))/np.sum(np.array(list(ws_counts_r5.values()))), \n",
    "    width, \n",
    "    color=colors['Weighted Sum'],\n",
    "    linewidth=linewidth,\n",
    ")\n",
    "  \n",
    "# axes[3].set_xlabel(\"Substituent\")\n",
    "axes[3].set_xticks(ind+width, format_options, rotation=0)\n",
    "\n",
    "for ax in axes:\n",
    "    ax.grid(linestyle=\":\")\n",
    "    \n",
    "plt.tight_layout()\n",
    "plt.savefig('redoxmers_rgroup_frequency_barplot_chebyshev.png',dpi=400)\n"
   ]
  },
  {
   "cell_type": "code",
   "execution_count": null,
   "id": "b0bb0d34",
   "metadata": {},
   "outputs": [],
   "source": []
  },
  {
   "cell_type": "code",
   "execution_count": 182,
   "id": "90330ba7",
   "metadata": {},
   "outputs": [
    {
     "data": {
      "text/html": [
       "<div>\n",
       "<style scoped>\n",
       "    .dataframe tbody tr th:only-of-type {\n",
       "        vertical-align: middle;\n",
       "    }\n",
       "\n",
       "    .dataframe tbody tr th {\n",
       "        vertical-align: top;\n",
       "    }\n",
       "\n",
       "    .dataframe thead th {\n",
       "        text-align: right;\n",
       "    }\n",
       "</style>\n",
       "<table border=\"1\" class=\"dataframe\">\n",
       "  <thead>\n",
       "    <tr style=\"text-align: right;\">\n",
       "      <th></th>\n",
       "      <th>Unnamed: 0</th>\n",
       "      <th>product_smiles</th>\n",
       "      <th>r1_label</th>\n",
       "      <th>r1_smiles</th>\n",
       "      <th>r1_smiles_raw</th>\n",
       "      <th>r3_label</th>\n",
       "      <th>r3_smiles</th>\n",
       "      <th>r3_smiles_raw</th>\n",
       "      <th>r4_label</th>\n",
       "      <th>r4_smiles</th>\n",
       "      <th>...</th>\n",
       "      <th>r5_MW</th>\n",
       "      <th>r5_AMW</th>\n",
       "      <th>r5_WPath</th>\n",
       "      <th>r5_WPol</th>\n",
       "      <th>r5_Zagreb1</th>\n",
       "      <th>r5_Zagreb2</th>\n",
       "      <th>r5_mZagreb2</th>\n",
       "      <th>r5_type</th>\n",
       "      <th>r5_ix</th>\n",
       "      <th>product_mols</th>\n",
       "    </tr>\n",
       "  </thead>\n",
       "  <tbody>\n",
       "    <tr>\n",
       "      <th>0</th>\n",
       "      <td>0</td>\n",
       "      <td>CCOCN(C(C)=O)c1c(C)c(C)c(C)c2nsnc12</td>\n",
       "      <td>R1_0</td>\n",
       "      <td>CCOC</td>\n",
       "      <td>CCOC</td>\n",
       "      <td>R3_0</td>\n",
       "      <td>C</td>\n",
       "      <td>C</td>\n",
       "      <td>R4_0</td>\n",
       "      <td>C</td>\n",
       "      <td>...</td>\n",
       "      <td>16.031300</td>\n",
       "      <td>3.206260</td>\n",
       "      <td>0</td>\n",
       "      <td>0</td>\n",
       "      <td>0.0</td>\n",
       "      <td>0.0</td>\n",
       "      <td>0.0</td>\n",
       "      <td>R5</td>\n",
       "      <td>0</td>\n",
       "      <td>&lt;rdkit.Chem.rdchem.Mol object at 0x7fcb8b33b6c0&gt;</td>\n",
       "    </tr>\n",
       "    <tr>\n",
       "      <th>1</th>\n",
       "      <td>1</td>\n",
       "      <td>CCOCN(C(C)=O)c1c(C)c(C)c(C(F)(F)F)c2nsnc12</td>\n",
       "      <td>R1_0</td>\n",
       "      <td>CCOC</td>\n",
       "      <td>CCOC</td>\n",
       "      <td>R3_0</td>\n",
       "      <td>C</td>\n",
       "      <td>C</td>\n",
       "      <td>R4_0</td>\n",
       "      <td>C</td>\n",
       "      <td>...</td>\n",
       "      <td>70.003035</td>\n",
       "      <td>14.000607</td>\n",
       "      <td>9</td>\n",
       "      <td>0</td>\n",
       "      <td>12.0</td>\n",
       "      <td>9.0</td>\n",
       "      <td>1.0</td>\n",
       "      <td>R5</td>\n",
       "      <td>1</td>\n",
       "      <td>&lt;rdkit.Chem.rdchem.Mol object at 0x7fcb8b33b3f0&gt;</td>\n",
       "    </tr>\n",
       "    <tr>\n",
       "      <th>2</th>\n",
       "      <td>2</td>\n",
       "      <td>CCOCN(C(C)=O)c1c(C)c(C)c(C#N)c2nsnc12</td>\n",
       "      <td>R1_0</td>\n",
       "      <td>CCOC</td>\n",
       "      <td>CCOC</td>\n",
       "      <td>R3_0</td>\n",
       "      <td>C</td>\n",
       "      <td>C</td>\n",
       "      <td>R4_0</td>\n",
       "      <td>C</td>\n",
       "      <td>...</td>\n",
       "      <td>27.010899</td>\n",
       "      <td>9.003633</td>\n",
       "      <td>1</td>\n",
       "      <td>0</td>\n",
       "      <td>2.0</td>\n",
       "      <td>1.0</td>\n",
       "      <td>1.0</td>\n",
       "      <td>R5</td>\n",
       "      <td>2</td>\n",
       "      <td>&lt;rdkit.Chem.rdchem.Mol object at 0x7fcb8b33b9e0&gt;</td>\n",
       "    </tr>\n",
       "    <tr>\n",
       "      <th>3</th>\n",
       "      <td>3</td>\n",
       "      <td>CCOCN(C(C)=O)c1c(C)c(C)c(OC)c2nsnc12</td>\n",
       "      <td>R1_0</td>\n",
       "      <td>CCOC</td>\n",
       "      <td>CCOC</td>\n",
       "      <td>R3_0</td>\n",
       "      <td>C</td>\n",
       "      <td>C</td>\n",
       "      <td>R4_0</td>\n",
       "      <td>C</td>\n",
       "      <td>...</td>\n",
       "      <td>32.026215</td>\n",
       "      <td>5.337702</td>\n",
       "      <td>1</td>\n",
       "      <td>0</td>\n",
       "      <td>2.0</td>\n",
       "      <td>1.0</td>\n",
       "      <td>1.0</td>\n",
       "      <td>R5</td>\n",
       "      <td>3</td>\n",
       "      <td>&lt;rdkit.Chem.rdchem.Mol object at 0x7fcb8b33b670&gt;</td>\n",
       "    </tr>\n",
       "    <tr>\n",
       "      <th>4</th>\n",
       "      <td>4</td>\n",
       "      <td>CCOCN(C(C)=O)c1c(C)c(C)c(OC(F)(F)F)c2nsnc12</td>\n",
       "      <td>R1_0</td>\n",
       "      <td>CCOC</td>\n",
       "      <td>CCOC</td>\n",
       "      <td>R3_0</td>\n",
       "      <td>C</td>\n",
       "      <td>C</td>\n",
       "      <td>R4_0</td>\n",
       "      <td>C</td>\n",
       "      <td>...</td>\n",
       "      <td>85.997949</td>\n",
       "      <td>14.332992</td>\n",
       "      <td>16</td>\n",
       "      <td>0</td>\n",
       "      <td>20.0</td>\n",
       "      <td>16.0</td>\n",
       "      <td>1.0</td>\n",
       "      <td>R5</td>\n",
       "      <td>4</td>\n",
       "      <td>&lt;rdkit.Chem.rdchem.Mol object at 0x7fcb88f11210&gt;</td>\n",
       "    </tr>\n",
       "  </tbody>\n",
       "</table>\n",
       "<p>5 rows × 2395 columns</p>\n",
       "</div>"
      ],
      "text/plain": [
       "   Unnamed: 0                               product_smiles r1_label r1_smiles  \\\n",
       "0           0          CCOCN(C(C)=O)c1c(C)c(C)c(C)c2nsnc12     R1_0      CCOC   \n",
       "1           1   CCOCN(C(C)=O)c1c(C)c(C)c(C(F)(F)F)c2nsnc12     R1_0      CCOC   \n",
       "2           2        CCOCN(C(C)=O)c1c(C)c(C)c(C#N)c2nsnc12     R1_0      CCOC   \n",
       "3           3         CCOCN(C(C)=O)c1c(C)c(C)c(OC)c2nsnc12     R1_0      CCOC   \n",
       "4           4  CCOCN(C(C)=O)c1c(C)c(C)c(OC(F)(F)F)c2nsnc12     R1_0      CCOC   \n",
       "\n",
       "  r1_smiles_raw r3_label r3_smiles r3_smiles_raw r4_label r4_smiles  ...  \\\n",
       "0          CCOC     R3_0         C             C     R4_0         C  ...   \n",
       "1          CCOC     R3_0         C             C     R4_0         C  ...   \n",
       "2          CCOC     R3_0         C             C     R4_0         C  ...   \n",
       "3          CCOC     R3_0         C             C     R4_0         C  ...   \n",
       "4          CCOC     R3_0         C             C     R4_0         C  ...   \n",
       "\n",
       "       r5_MW     r5_AMW r5_WPath r5_WPol  r5_Zagreb1  r5_Zagreb2  r5_mZagreb2  \\\n",
       "0  16.031300   3.206260        0       0         0.0         0.0          0.0   \n",
       "1  70.003035  14.000607        9       0        12.0         9.0          1.0   \n",
       "2  27.010899   9.003633        1       0         2.0         1.0          1.0   \n",
       "3  32.026215   5.337702        1       0         2.0         1.0          1.0   \n",
       "4  85.997949  14.332992       16       0        20.0        16.0          1.0   \n",
       "\n",
       "   r5_type  r5_ix                                      product_mols  \n",
       "0       R5      0  <rdkit.Chem.rdchem.Mol object at 0x7fcb8b33b6c0>  \n",
       "1       R5      1  <rdkit.Chem.rdchem.Mol object at 0x7fcb8b33b3f0>  \n",
       "2       R5      2  <rdkit.Chem.rdchem.Mol object at 0x7fcb8b33b9e0>  \n",
       "3       R5      3  <rdkit.Chem.rdchem.Mol object at 0x7fcb8b33b670>  \n",
       "4       R5      4  <rdkit.Chem.rdchem.Mol object at 0x7fcb88f11210>  \n",
       "\n",
       "[5 rows x 2395 columns]"
      ]
     },
     "execution_count": 182,
     "metadata": {},
     "output_type": "execute_result"
    }
   ],
   "source": [
    "raw_df.head()"
   ]
  },
  {
   "cell_type": "code",
   "execution_count": 183,
   "id": "d648bc23",
   "metadata": {},
   "outputs": [
    {
     "data": {
      "text/plain": [
       "array(['R5_0', 'R5_1', 'R5_2', 'R5_3', 'R5_4', 'R5_5', 'R5_6', 'R5_7',\n",
       "       'R5_8', 'R5_9', 'R5_10'], dtype=object)"
      ]
     },
     "execution_count": 183,
     "metadata": {},
     "output_type": "execute_result"
    }
   ],
   "source": [
    "raw_df['r5_label'].unique()"
   ]
  },
  {
   "cell_type": "code",
   "execution_count": 184,
   "id": "c9d46512",
   "metadata": {},
   "outputs": [
    {
     "data": {
      "text/plain": [
       "array(['C', 'C(F)(F)F', 'C#N', 'OC', 'OC(F)(F)F', 'SC', 'SC(F)(F)F', 'Br',\n",
       "       'N(C)C', 'N(=O)[O]', '[S](=O)(=O)N(C)C'], dtype=object)"
      ]
     },
     "execution_count": 184,
     "metadata": {},
     "output_type": "execute_result"
    }
   ],
   "source": [
    "raw_df['r5_smiles'].unique()"
   ]
  },
  {
   "cell_type": "code",
   "execution_count": null,
   "id": "162db1e5",
   "metadata": {},
   "outputs": [],
   "source": []
  },
  {
   "cell_type": "code",
   "execution_count": null,
   "id": "036f0993",
   "metadata": {},
   "outputs": [],
   "source": []
  },
  {
   "cell_type": "code",
   "execution_count": null,
   "id": "72835813",
   "metadata": {},
   "outputs": [],
   "source": []
  },
  {
   "cell_type": "code",
   "execution_count": null,
   "id": "d0003308",
   "metadata": {},
   "outputs": [],
   "source": []
  },
  {
   "cell_type": "code",
   "execution_count": 27,
   "id": "c9733d84",
   "metadata": {},
   "outputs": [],
   "source": [
    "df_hvol = pd.concat([\n",
    "    pd.DataFrame({'hypervol': hypervolumes_hv, 'kind': ['Hypervolume' for _ in range(len(hypervolumes_hv))]}),\n",
    "    pd.DataFrame({'hypervol': hypervolumes_chi, 'kind': ['Chimera' for _ in range(len(hypervolumes_chi))]}),\n",
    "    pd.DataFrame({'hypervol': hypervolumes_par, 'kind': ['ParEGO' for _ in range(len(hypervolumes_par))]}),\n",
    "    pd.DataFrame({'hypervol': hypervolumes_ws, 'kind': ['Weighted Sum' for _ in range(len(hypervolumes_ws))]}),\n",
    "])\n",
    "\n",
    "# normalize the hypervolumes\n",
    "df_hvol['hypervol'] /= full_hypervolume\n"
   ]
  },
  {
   "cell_type": "code",
   "execution_count": 31,
   "id": "f4f47342",
   "metadata": {},
   "outputs": [
    {
     "name": "stderr",
     "output_type": "stream",
     "text": [
      "/var/folders/b7/skyhqqz10kv5ht16t37st2pm0000gn/T/ipykernel_14455/258043154.py:8: FutureWarning: Passing `palette` without assigning `hue` is deprecated.\n",
      "  sns.swarmplot(data=df_hvol, x='kind', y='hypervol', palette=pal, ax=ax, linewidth=0.5,)\n",
      "/Users/rileyhickman/mambaforge/envs/atlas/lib/python3.10/site-packages/seaborn/categorical.py:3543: UserWarning: 40.0% of the points cannot be placed; you may want to decrease the size of the markers or use stripplot.\n",
      "  warnings.warn(msg, UserWarning)\n"
     ]
    },
    {
     "data": {
      "image/png": "[encoded data removed]",
      "text/plain": [
       "<Figure size 600x500 with 1 Axes>"
      ]
     },
     "metadata": {},
     "output_type": "display_data"
    }
   ],
   "source": [
    "fig, ax = plt.subplots(figsize=(6, 5))\n",
    "\n",
    "hue_order = ['#4267B2', '#dd882c', '#ffb703', 'gray']\n",
    "order=['Hypervolume', 'Chimera', 'ParEGO', 'Weighted Sum']\n",
    "labels = ['Hypervolume', 'Chimera', 'Chebyshev', 'Weighted\\nSum']\n",
    "pal = {o:h for o,h in zip(order, hue_order)}\n",
    "bp_ = sns.boxplot(data=df_hvol, x='kind', y='hypervol', palette=pal, ax=ax, linewidth=2.0)\n",
    "sns.swarmplot(data=df_hvol, x='kind', y='hypervol', palette=pal, ax=ax, linewidth=0.5,)\n",
    "ax.set_ylabel('Normalized hypervolume indicator [a.u.]', fontsize=16)\n",
    "# ax.set_xlabel('Scalarizing strategy', fontsize=12)\n",
    "ax.set_xlabel('')\n",
    "ax.grid(linestyle=\":\")\n",
    "\n",
    "bp_.set_xticks(np.arange(4), labels)\n",
    "\n",
    "ax.xaxis.set_tick_params(labelsize=14)\n",
    "ax.yaxis.set_tick_params(labelsize=14)\n",
    "\n",
    "plt.tight_layout()\n",
    "plt.savefig('redoxmers_hypervolume_boxplots_chebyshev.png', dpi=300)"
   ]
  },
  {
   "cell_type": "code",
   "execution_count": null,
   "id": "0cbaa045",
   "metadata": {},
   "outputs": [],
   "source": []
  },
  {
   "cell_type": "code",
   "execution_count": null,
   "id": "92935367",
   "metadata": {},
   "outputs": [],
   "source": []
  },
  {
   "cell_type": "code",
   "execution_count": null,
   "id": "8b9998b5",
   "metadata": {},
   "outputs": [],
   "source": []
  },
  {
   "cell_type": "code",
   "execution_count": null,
   "id": "3b88964b",
   "metadata": {},
   "outputs": [],
   "source": []
  },
  {
   "cell_type": "code",
   "execution_count": 48,
   "id": "354e5807",
   "metadata": {},
   "outputs": [
    {
     "data": {
      "application/vnd.plotly.v1+json": {
       "config": {
        "plotlyServerURL": "https://plot.ly"
       },
       "data": [
        {
         "hovertemplate": "abs_lam_diff=%{x}<br>ered=%{y}<br>gsol=%{z}<br>size=%{marker.size}<extra></extra>",
         "legendgroup": "",
         "marker": {
          "color": "#636efa",
          "size": [
           10,
           10,
           10,
           10,
           10,
           10,
           10,
           10,
           10,
           10,
           10,
           10,
           10,
           10,
           10,
           2,
           2,
           2,
           2,
           2,
           2,
           2,
           2,
           2,
           2,
           2,
           2,
           2,
           2,
           2,
           2,
           2,
           2,
           2,
           2,
           2,
           2,
           2,
           2,
           2,
           2,
           2,
           2,
           2,
           2,
           2,
           2,
           2,
           2,
           2,
           2,
           2,
           2,
           2,
           2,
           2,
           2,
           2,
           2,
           2,
           2,
           2,
           2,
           2,
           2,
           2,
           2,
           2,
           2,
           2,
           2,
           2,
           2,
           2,
           2,
           2,
           2,
           2,
           2,
           2,
           2,
           2,
           2,
           2,
           2,
           2,
           2,
           2,
           2,
           2,
           2,
           2,
           2,
           2,
           2,
           2,
           2,
           2,
           2,
           2,
           2,
           2,
           2,
           2,
           2,
           2,
           2,
           2,
           2,
           2,
           2,
           2,
           2,
           2,
           2,
           2,
           2,
           2,
           2,
           2,
           2,
           2,
           2,
           2,
           2,
           2,
           2,
           2,
           2,
           2,
           2,
           2,
           2,
           2,
           2,
           2,
           2,
           2,
           2,
           2,
           2,
           2,
           2,
           2,
           2,
           2,
           2,
           2,
           2,
           2,
           2,
           2,
           2,
           2,
           2,
           2,
           2,
           2,
           2,
           2,
           2,
           2,
           2,
           2,
           2,
           2,
           2,
           2,
           2,
           2,
           2,
           2,
           2,
           2,
           2,
           2,
           2,
           2,
           2,
           2,
           2,
           2,
           2,
           2,
           2,
           2,
           2,
           2,
           2,
           2,
           2,
           2,
           2,
           2,
           2,
           2,
           2,
           2,
           2,
           2
          ],
          "sizemode": "area",
          "sizeref": 0.025,
          "symbol": "circle"
         },
         "mode": "markers",
         "name": "",
         "scene": "scene",
         "showlegend": false,
         "type": "scatter3d",
         "x": [
          3.089999999999975,
          13.310000000000002,
          18.970000000000027,
          16.439999999999998,
          8.720000000000027,
          6.449999999999989,
          4.170000000000016,
          2.730000000000018,
          3.850000000000023,
          0.3700000000000045,
          0.2900000000000204,
          4.350000000000023,
          8.569999999999993,
          1.8199999999999927,
          7.240000000000009,
          40.05000000000001,
          59.88999999999999,
          24.360000000000014,
          38.93000000000001,
          42.420000000000016,
          39.95999999999998,
          46.860000000000014,
          36.93000000000001,
          24.79000000000002,
          39.420000000000016,
          34.74000000000001,
          37.610000000000014,
          29.110000000000014,
          5.5400000000000205,
          29.910000000000025,
          10.439999999999998,
          13.970000000000027,
          13.850000000000025,
          20.70999999999998,
          0.3000000000000113,
          25.19999999999999,
          6.5,
          3.8100000000000014,
          32.77999999999997,
          8.670000000000016,
          3.879999999999996,
          58.24000000000001,
          52.56,
          25.360000000000014,
          25.54000000000002,
          41.80000000000001,
          22.99000000000001,
          54.81999999999999,
          33.75999999999999,
          36.95999999999998,
          39.99000000000001,
          79.75999999999999,
          3.480000000000018,
          31.56,
          13.45999999999998,
          10,
          7.529999999999973,
          6.720000000000027,
          17.519999999999982,
          6.230000000000018,
          20.329999999999984,
          39.44999999999999,
          29.610000000000014,
          15.680000000000009,
          9.25,
          7.990000000000009,
          27.829999999999984,
          24.83999999999997,
          19.970000000000027,
          30.25999999999999,
          9.470000000000027,
          13.699999999999989,
          14.79000000000002,
          31.30000000000001,
          1.079999999999984,
          16.420000000000016,
          6.189999999999998,
          61.39999999999998,
          18.920000000000016,
          12.649999999999975,
          8.829999999999984,
          17.529999999999973,
          14.579999999999984,
          4.269999999999982,
          15.389999999999986,
          17,
          6.379999999999996,
          2.769999999999982,
          13.740000000000007,
          10.009999999999993,
          44.93000000000001,
          6.8700000000000045,
          25.79000000000002,
          11.829999999999984,
          20.05000000000001,
          3.4399999999999977,
          19.69999999999999,
          27.33999999999997,
          6.889999999999986,
          23.49000000000001,
          3.740000000000009,
          36.870000000000005,
          25.860000000000014,
          18.82,
          18.410000000000025,
          13.569999999999991,
          10.600000000000025,
          46.56999999999999,
          12.199999999999989,
          54.610000000000014,
          27.75999999999999,
          34.44999999999999,
          13.120000000000005,
          53.75999999999999,
          13.810000000000002,
          9.949999999999989,
          60.05000000000001,
          37.660000000000025,
          8.54000000000002,
          10.259999999999993,
          25.48000000000001,
          58.18000000000001,
          22.56,
          12.699999999999989,
          21.879999999999995,
          5.970000000000027,
          10.589999999999977,
          39.74000000000001,
          11.779999999999973,
          20.019999999999985,
          52.38999999999999,
          12.29000000000002,
          10.519999999999982,
          22.029999999999973,
          36.610000000000014,
          42.60000000000002,
          39.170000000000016,
          73.32,
          4.990000000000009,
          61,
          9.360000000000014,
          49.360000000000014,
          13.370000000000005,
          64.52999999999997,
          59.76999999999998,
          41.19,
          9.160000000000023,
          50.19,
          3.069999999999993,
          7.009999999999991,
          1.7200000000000273,
          24.07,
          9.899999999999975,
          23.829999999999984,
          13.990000000000007,
          7.850000000000023,
          37.660000000000025,
          56.14999999999998,
          39.170000000000016,
          24.74000000000001,
          28.55000000000001,
          45.420000000000016,
          15.20999999999998,
          46.23000000000002,
          12.220000000000027,
          15.560000000000002,
          10,
          22.49000000000001,
          56.27999999999997,
          48.52999999999997,
          7.2099999999999795,
          18.970000000000027,
          6.439999999999998,
          25.149999999999977,
          46.06,
          18.69,
          9.839999999999977,
          33.44999999999999,
          29.56,
          11.269999999999982,
          58.88999999999999,
          48.860000000000014,
          31.870000000000005,
          11.879999999999995,
          3.6100000000000136,
          36.04000000000002,
          23.879999999999995,
          1,
          64.80000000000001,
          53.73000000000002,
          36.51999999999998,
          5.879999999999996,
          64.32999999999998,
          8.889999999999986,
          8.509999999999991,
          19.24000000000001,
          39.60000000000002,
          17.29000000000002,
          47.19,
          61.85000000000002
         ],
         "y": [
          1.67147,
          1.89361244,
          1.74588935,
          1.84458002,
          2.04979784,
          2.14454306,
          1.54135178,
          1.73761751,
          1.63933499,
          1.64455931,
          1.65087203,
          2.16810692,
          2.5925285,
          1.91638721,
          2.43079226,
          2.52406814,
          2.45764853,
          2.30723165,
          2.4311732,
          2.84049323,
          1.68412265,
          1.97973209,
          1.7316041,
          1.77609245,
          2.07962,
          2.11142849,
          1.66725245,
          2.02231574,
          1.61558066,
          2.15980787,
          1.89110912,
          1.66627289,
          1.92621002,
          1.91230571,
          1.83562793,
          1.8028943,
          2.02745843,
          1.8314648,
          1.99434386,
          1.97978651,
          2.02400276,
          1.70787698,
          2.52268043,
          1.98694274,
          2.35033229,
          2.20320782,
          2.14454306,
          1.9022108,
          2.28320522,
          2.18802464,
          2.36600525,
          2.46235586,
          1.78488128,
          1.66782386,
          1.79016002,
          1.76175278,
          1.74882803,
          1.67737457,
          1.8548654,
          1.67353796,
          1.93448186,
          1.98117422,
          1.86882413,
          1.72880147,
          1.67829971,
          1.95434516,
          2.05981112,
          1.99314662,
          2.19501761,
          1.72406693,
          1.99311941,
          2.14135949,
          1.9079249,
          1.96011368,
          1.82131547,
          2.2621991,
          1.88449709,
          2.07376985,
          2.03692751,
          1.93791032,
          2.08745648,
          1.79279939,
          1.79522108,
          1.80392828,
          1.9169042,
          1.88368079,
          2.38415432,
          2.01320039,
          1.77228305,
          1.72499207,
          2.32361207,
          1.840172,
          2.06775644,
          1.94517539,
          1.93026431,
          1.92365228,
          2.1032927,
          2.0883272,
          1.8464303,
          1.85228045,
          2.00707814,
          1.90689092,
          2.24494796,
          2.02332251,
          2.046968,
          2.35582871,
          1.88623853,
          2.2232888,
          1.96966439,
          1.72591721,
          1.8766334,
          2.07121211,
          2.15167208,
          2.3892698,
          1.99584041,
          1.85538239,
          2.05385213,
          1.96892972,
          2.27052536,
          1.84945061,
          2.2358054,
          2.23420001,
          2.21444555,
          2.10514298,
          2.07967442,
          2.02264226,
          2.3228774,
          2.16364448,
          2.35071323,
          2.24875736,
          1.89529946,
          1.70814908,
          2.15169929,
          2.47468199,
          2.12138735,
          1.99031678,
          2.3315846,
          1.93290368,
          2.13657053,
          2.87249219,
          2.00547275,
          1.96982765,
          2.04909038,
          2.5288571,
          2.35465868,
          2.7166061,
          2.30897309,
          2.17817462,
          2.261927,
          1.88863301,
          2.11959149,
          1.83127433,
          2.1656036,
          2.47587923,
          2.35400564,
          2.10696605,
          2.32546235,
          2.15866505,
          1.67182373,
          2.13110132,
          2.0654708,
          2.80141967,
          1.79576528,
          2.50529324,
          1.921802,
          2.11991801,
          2.24247185,
          1.79704415,
          2.46992024,
          2.34418283,
          1.96691618,
          2.06544359,
          2.27621225,
          2.25841691,
          1.98811277,
          2.12440766,
          2.32546235,
          1.92474068,
          2.36309378,
          2.85056093,
          2.33392466,
          2.40839843,
          2.45789342,
          2.08163354,
          2.04421979,
          2.19210614,
          2.35971974,
          2.64626825,
          2.43792128,
          2.2940348,
          2.01646559,
          2.15137277,
          2.91972875,
          1.87304168,
          1.99034399,
          2.20285409,
          1.7566373,
          2.31528581,
          2.56466546,
          1.9016666
         ],
         "z": [
          -0.86895135,
          -1.12801776,
          -1.09188288,
          -1.15683315,
          -1.0881279,
          -1.02750402,
          -0.93686751,
          -0.83368719,
          -0.6761685,
          -0.74144529,
          -0.74694171,
          -0.99441666,
          -1.07335287,
          -0.81986451,
          -1.04252394,
          -0.59706903,
          -0.40431339,
          -0.69208635,
          -0.65399235,
          -0.66955647,
          -0.68180097,
          -0.84176856,
          -0.71023542,
          -0.83213622,
          -0.71692908,
          -0.64550283,
          -0.78723972,
          -0.636714,
          -0.86304678,
          -0.75981204,
          -0.72481998,
          -0.8187489,
          -0.68125677,
          -0.92396997,
          -0.71404482,
          -0.73208505,
          -0.64253694,
          -0.65344815,
          -0.69671205,
          -0.60136821,
          -0.69061701,
          -0.6968481,
          -1.10181453,
          -1.07566572,
          -1.04761221,
          -0.78400173,
          -1.11386856,
          -1.11596373,
          -1.04951691,
          -1.0361568,
          -0.91760283,
          -0.97406358,
          -0.69238566,
          -0.70313361,
          -0.83069409,
          -0.85591776,
          -0.80201475,
          -0.91156221,
          -0.87686946,
          -0.59013048,
          -1.03430652,
          -1.01664723,
          -0.84353721,
          -0.74737707,
          -0.76022019,
          -0.73377207,
          -0.92848683,
          -1.12007244,
          -1.0146609,
          -0.80059983,
          -0.74008479,
          -0.86974044,
          -0.63674121,
          -0.77061441,
          -0.70307919,
          -0.8739852,
          -0.70267104,
          -0.94835013,
          -0.77393403,
          -0.86650245,
          -0.66988299,
          -0.7580706,
          -0.67510731,
          -0.78753903,
          -0.50096331,
          -0.72745935,
          -0.7060995,
          -0.73401696,
          -0.69774603,
          -0.77387961,
          -0.56920599,
          -0.8922159,
          -0.82351065,
          -0.79518504,
          -0.60196683,
          -0.7738524,
          -0.80054541,
          -0.80745675,
          -0.76653291,
          -0.70843956,
          -0.77627409,
          -0.63758472,
          -0.86612151,
          -0.64833267,
          -1.00290618,
          -0.53473092,
          -0.79485852,
          -0.98181843,
          -0.73589445,
          -0.74860152,
          -0.72873822,
          -0.61769421,
          -0.82723842,
          -0.74996202,
          -0.75891411,
          -0.85172742,
          -0.53707098,
          -0.75654684,
          -0.7882737,
          -0.69072585,
          -0.72109221,
          -0.80655882,
          -0.66014181,
          -0.79004235,
          -1.00135521,
          -0.61524531,
          -0.76305003,
          -0.98481153,
          -0.78797439,
          -0.82277598,
          -0.585015,
          -0.67597803,
          -0.96064905,
          -0.78699483,
          -0.73110549,
          -0.76016577,
          -0.71611278,
          -0.78046443,
          -0.80065425,
          -0.40795953,
          -0.75679173,
          -0.64724427,
          -0.83801358,
          -0.52202385,
          -0.86424402,
          -0.68969187,
          -1.00091985,
          -0.73769031,
          -0.45854292,
          -0.70903818,
          -0.72043917,
          -0.74043852,
          -0.47114115,
          -0.63257808,
          -0.90897726,
          -0.6369861,
          -0.84876153,
          -0.41503413,
          -0.82176921,
          -0.67241352,
          -0.71132382,
          -0.59823906,
          -0.75856038,
          -0.86005368,
          -0.5763078,
          -0.62479602,
          -0.45998505,
          -0.73790799,
          -0.48779367,
          -0.70955517,
          -0.47261049,
          -0.77670945,
          -0.81191919,
          -0.85839387,
          -0.48686853,
          -0.79295382,
          -0.84726498,
          -0.72201735,
          -0.98421291,
          -0.51995589,
          -0.5433837,
          -0.54439047,
          -0.6296394,
          -0.83434023,
          -0.71257548,
          -0.80557926,
          -0.88788951,
          -0.54694821,
          -0.45745452,
          -0.99626694,
          -0.78830091,
          -0.73986711,
          -0.58947744,
          -0.73420743,
          -0.92799705,
          -0.84103389,
          -0.6609309,
          -0.93101736,
          -0.58787205,
          -1.1145216
         ]
        },
        {
         "color": "blue",
         "opacity": 0.2,
         "type": "mesh3d",
         "x": [
          3.089999999999975,
          13.310000000000002,
          18.970000000000027,
          16.439999999999998,
          8.720000000000027,
          6.449999999999989,
          4.170000000000016,
          2.730000000000018,
          3.850000000000023,
          0.3700000000000045,
          0.2900000000000204,
          4.350000000000023,
          8.569999999999993,
          1.8199999999999927,
          7.240000000000009
         ],
         "y": [
          1.67147,
          1.89361244,
          1.74588935,
          1.84458002,
          2.04979784,
          2.14454306,
          1.54135178,
          1.73761751,
          1.63933499,
          1.64455931,
          1.65087203,
          2.16810692,
          2.5925285,
          1.91638721,
          2.43079226
         ],
         "z": [
          -0.86895135,
          -1.12801776,
          -1.09188288,
          -1.15683315,
          -1.0881279,
          -1.02750402,
          -0.93686751,
          -0.83368719,
          -0.6761685,
          -0.74144529,
          -0.74694171,
          -0.99441666,
          -1.07335287,
          -0.81986451,
          -1.04252394
         ]
        }
       ],
       "layout": {
        "legend": {
         "itemsizing": "constant",
         "tracegroupgap": 0
        },
        "margin": {
         "b": 0,
         "l": 0,
         "r": 0,
         "t": 0
        },
        "scene": {
         "domain": {
          "x": [
           0,
           1
          ],
          "y": [
           0,
           1
          ]
         },
         "xaxis": {
          "title": {
           "text": "$\\Delta_{abs}$ [nm]"
          }
         },
         "yaxis": {
          "title": {
           "text": "$E^{red}$  [V vs. Li/Li+]"
          }
         },
         "zaxis": {
          "title": {
           "text": "$G^{solv}$ [eV]"
          }
         }
        },
        "template": {
         "data": {
          "bar": [
           {
            "error_x": {
             "color": "#2a3f5f"
            },
            "error_y": {
             "color": "#2a3f5f"
            },
            "marker": {
             "line": {
              "color": "#E5ECF6",
              "width": 0.5
             },
             "pattern": {
              "fillmode": "overlay",
              "size": 10,
              "solidity": 0.2
             }
            },
            "type": "bar"
           }
          ],
          "barpolar": [
           {
            "marker": {
             "line": {
              "color": "#E5ECF6",
              "width": 0.5
             },
             "pattern": {
              "fillmode": "overlay",
              "size": 10,
              "solidity": 0.2
             }
            },
            "type": "barpolar"
           }
          ],
          "carpet": [
           {
            "aaxis": {
             "endlinecolor": "#2a3f5f",
             "gridcolor": "white",
             "linecolor": "white",
             "minorgridcolor": "white",
             "startlinecolor": "#2a3f5f"
            },
            "baxis": {
             "endlinecolor": "#2a3f5f",
             "gridcolor": "white",
             "linecolor": "white",
             "minorgridcolor": "white",
             "startlinecolor": "#2a3f5f"
            },
            "type": "carpet"
           }
          ],
          "choropleth": [
           {
            "colorbar": {
             "outlinewidth": 0,
             "ticks": ""
            },
            "type": "choropleth"
           }
          ],
          "contour": [
           {
            "colorbar": {
             "outlinewidth": 0,
             "ticks": ""
            },
            "colorscale": [
             [
              0,
              "#0d0887"
             ],
             [
              0.1111111111111111,
              "#46039f"
             ],
             [
              0.2222222222222222,
              "#7201a8"
             ],
             [
              0.3333333333333333,
              "#9c179e"
             ],
             [
              0.4444444444444444,
              "#bd3786"
             ],
             [
              0.5555555555555556,
              "#d8576b"
             ],
             [
              0.6666666666666666,
              "#ed7953"
             ],
             [
              0.7777777777777778,
              "#fb9f3a"
             ],
             [
              0.8888888888888888,
              "#fdca26"
             ],
             [
              1,
              "#f0f921"
             ]
            ],
            "type": "contour"
           }
          ],
          "contourcarpet": [
           {
            "colorbar": {
             "outlinewidth": 0,
             "ticks": ""
            },
            "type": "contourcarpet"
           }
          ],
          "heatmap": [
           {
            "colorbar": {
             "outlinewidth": 0,
             "ticks": ""
            },
            "colorscale": [
             [
              0,
              "#0d0887"
             ],
             [
              0.1111111111111111,
              "#46039f"
             ],
             [
              0.2222222222222222,
              "#7201a8"
             ],
             [
              0.3333333333333333,
              "#9c179e"
             ],
             [
              0.4444444444444444,
              "#bd3786"
             ],
             [
              0.5555555555555556,
              "#d8576b"
             ],
             [
              0.6666666666666666,
              "#ed7953"
             ],
             [
              0.7777777777777778,
              "#fb9f3a"
             ],
             [
              0.8888888888888888,
              "#fdca26"
             ],
             [
              1,
              "#f0f921"
             ]
            ],
            "type": "heatmap"
           }
          ],
          "heatmapgl": [
           {
            "colorbar": {
             "outlinewidth": 0,
             "ticks": ""
            },
            "colorscale": [
             [
              0,
              "#0d0887"
             ],
             [
              0.1111111111111111,
              "#46039f"
             ],
             [
              0.2222222222222222,
              "#7201a8"
             ],
             [
              0.3333333333333333,
              "#9c179e"
             ],
             [
              0.4444444444444444,
              "#bd3786"
             ],
             [
              0.5555555555555556,
              "#d8576b"
             ],
             [
              0.6666666666666666,
              "#ed7953"
             ],
             [
              0.7777777777777778,
              "#fb9f3a"
             ],
             [
              0.8888888888888888,
              "#fdca26"
             ],
             [
              1,
              "#f0f921"
             ]
            ],
            "type": "heatmapgl"
           }
          ],
          "histogram": [
           {
            "marker": {
             "pattern": {
              "fillmode": "overlay",
              "size": 10,
              "solidity": 0.2
             }
            },
            "type": "histogram"
           }
          ],
          "histogram2d": [
           {
            "colorbar": {
             "outlinewidth": 0,
             "ticks": ""
            },
            "colorscale": [
             [
              0,
              "#0d0887"
             ],
             [
              0.1111111111111111,
              "#46039f"
             ],
             [
              0.2222222222222222,
              "#7201a8"
             ],
             [
              0.3333333333333333,
              "#9c179e"
             ],
             [
              0.4444444444444444,
              "#bd3786"
             ],
             [
              0.5555555555555556,
              "#d8576b"
             ],
             [
              0.6666666666666666,
              "#ed7953"
             ],
             [
              0.7777777777777778,
              "#fb9f3a"
             ],
             [
              0.8888888888888888,
              "#fdca26"
             ],
             [
              1,
              "#f0f921"
             ]
            ],
            "type": "histogram2d"
           }
          ],
          "histogram2dcontour": [
           {
            "colorbar": {
             "outlinewidth": 0,
             "ticks": ""
            },
            "colorscale": [
             [
              0,
              "#0d0887"
             ],
             [
              0.1111111111111111,
              "#46039f"
             ],
             [
              0.2222222222222222,
              "#7201a8"
             ],
             [
              0.3333333333333333,
              "#9c179e"
             ],
             [
              0.4444444444444444,
              "#bd3786"
             ],
             [
              0.5555555555555556,
              "#d8576b"
             ],
             [
              0.6666666666666666,
              "#ed7953"
             ],
             [
              0.7777777777777778,
              "#fb9f3a"
             ],
             [
              0.8888888888888888,
              "#fdca26"
             ],
             [
              1,
              "#f0f921"
             ]
            ],
            "type": "histogram2dcontour"
           }
          ],
          "mesh3d": [
           {
            "colorbar": {
             "outlinewidth": 0,
             "ticks": ""
            },
            "type": "mesh3d"
           }
          ],
          "parcoords": [
           {
            "line": {
             "colorbar": {
              "outlinewidth": 0,
              "ticks": ""
             }
            },
            "type": "parcoords"
           }
          ],
          "pie": [
           {
            "automargin": true,
            "type": "pie"
           }
          ],
          "scatter": [
           {
            "fillpattern": {
             "fillmode": "overlay",
             "size": 10,
             "solidity": 0.2
            },
            "type": "scatter"
           }
          ],
          "scatter3d": [
           {
            "line": {
             "colorbar": {
              "outlinewidth": 0,
              "ticks": ""
             }
            },
            "marker": {
             "colorbar": {
              "outlinewidth": 0,
              "ticks": ""
             }
            },
            "type": "scatter3d"
           }
          ],
          "scattercarpet": [
           {
            "marker": {
             "colorbar": {
              "outlinewidth": 0,
              "ticks": ""
             }
            },
            "type": "scattercarpet"
           }
          ],
          "scattergeo": [
           {
            "marker": {
             "colorbar": {
              "outlinewidth": 0,
              "ticks": ""
             }
            },
            "type": "scattergeo"
           }
          ],
          "scattergl": [
           {
            "marker": {
             "colorbar": {
              "outlinewidth": 0,
              "ticks": ""
             }
            },
            "type": "scattergl"
           }
          ],
          "scattermapbox": [
           {
            "marker": {
             "colorbar": {
              "outlinewidth": 0,
              "ticks": ""
             }
            },
            "type": "scattermapbox"
           }
          ],
          "scatterpolar": [
           {
            "marker": {
             "colorbar": {
              "outlinewidth": 0,
              "ticks": ""
             }
            },
            "type": "scatterpolar"
           }
          ],
          "scatterpolargl": [
           {
            "marker": {
             "colorbar": {
              "outlinewidth": 0,
              "ticks": ""
             }
            },
            "type": "scatterpolargl"
           }
          ],
          "scatterternary": [
           {
            "marker": {
             "colorbar": {
              "outlinewidth": 0,
              "ticks": ""
             }
            },
            "type": "scatterternary"
           }
          ],
          "surface": [
           {
            "colorbar": {
             "outlinewidth": 0,
             "ticks": ""
            },
            "colorscale": [
             [
              0,
              "#0d0887"
             ],
             [
              0.1111111111111111,
              "#46039f"
             ],
             [
              0.2222222222222222,
              "#7201a8"
             ],
             [
              0.3333333333333333,
              "#9c179e"
             ],
             [
              0.4444444444444444,
              "#bd3786"
             ],
             [
              0.5555555555555556,
              "#d8576b"
             ],
             [
              0.6666666666666666,
              "#ed7953"
             ],
             [
              0.7777777777777778,
              "#fb9f3a"
             ],
             [
              0.8888888888888888,
              "#fdca26"
             ],
             [
              1,
              "#f0f921"
             ]
            ],
            "type": "surface"
           }
          ],
          "table": [
           {
            "cells": {
             "fill": {
              "color": "#EBF0F8"
             },
             "line": {
              "color": "white"
             }
            },
            "header": {
             "fill": {
              "color": "#C8D4E3"
             },
             "line": {
              "color": "white"
             }
            },
            "type": "table"
           }
          ]
         },
         "layout": {
          "annotationdefaults": {
           "arrowcolor": "#2a3f5f",
           "arrowhead": 0,
           "arrowwidth": 1
          },
          "autotypenumbers": "strict",
          "coloraxis": {
           "colorbar": {
            "outlinewidth": 0,
            "ticks": ""
           }
          },
          "colorscale": {
           "diverging": [
            [
             0,
             "#8e0152"
            ],
            [
             0.1,
             "#c51b7d"
            ],
            [
             0.2,
             "#de77ae"
            ],
            [
             0.3,
             "#f1b6da"
            ],
            [
             0.4,
             "#fde0ef"
            ],
            [
             0.5,
             "#f7f7f7"
            ],
            [
             0.6,
             "#e6f5d0"
            ],
            [
             0.7,
             "#b8e186"
            ],
            [
             0.8,
             "#7fbc41"
            ],
            [
             0.9,
             "#4d9221"
            ],
            [
             1,
             "#276419"
            ]
           ],
           "sequential": [
            [
             0,
             "#0d0887"
            ],
            [
             0.1111111111111111,
             "#46039f"
            ],
            [
             0.2222222222222222,
             "#7201a8"
            ],
            [
             0.3333333333333333,
             "#9c179e"
            ],
            [
             0.4444444444444444,
             "#bd3786"
            ],
            [
             0.5555555555555556,
             "#d8576b"
            ],
            [
             0.6666666666666666,
             "#ed7953"
            ],
            [
             0.7777777777777778,
             "#fb9f3a"
            ],
            [
             0.8888888888888888,
             "#fdca26"
            ],
            [
             1,
             "#f0f921"
            ]
           ],
           "sequentialminus": [
            [
             0,
             "#0d0887"
            ],
            [
             0.1111111111111111,
             "#46039f"
            ],
            [
             0.2222222222222222,
             "#7201a8"
            ],
            [
             0.3333333333333333,
             "#9c179e"
            ],
            [
             0.4444444444444444,
             "#bd3786"
            ],
            [
             0.5555555555555556,
             "#d8576b"
            ],
            [
             0.6666666666666666,
             "#ed7953"
            ],
            [
             0.7777777777777778,
             "#fb9f3a"
            ],
            [
             0.8888888888888888,
             "#fdca26"
            ],
            [
             1,
             "#f0f921"
            ]
           ]
          },
          "colorway": [
           "#636efa",
           "#EF553B",
           "#00cc96",
           "#ab63fa",
           "#FFA15A",
           "#19d3f3",
           "#FF6692",
           "#B6E880",
           "#FF97FF",
           "#FECB52"
          ],
          "font": {
           "color": "#2a3f5f"
          },
          "geo": {
           "bgcolor": "white",
           "lakecolor": "white",
           "landcolor": "#E5ECF6",
           "showlakes": true,
           "showland": true,
           "subunitcolor": "white"
          },
          "hoverlabel": {
           "align": "left"
          },
          "hovermode": "closest",
          "mapbox": {
           "style": "light"
          },
          "paper_bgcolor": "white",
          "plot_bgcolor": "#E5ECF6",
          "polar": {
           "angularaxis": {
            "gridcolor": "white",
            "linecolor": "white",
            "ticks": ""
           },
           "bgcolor": "#E5ECF6",
           "radialaxis": {
            "gridcolor": "white",
            "linecolor": "white",
            "ticks": ""
           }
          },
          "scene": {
           "xaxis": {
            "backgroundcolor": "#E5ECF6",
            "gridcolor": "white",
            "gridwidth": 2,
            "linecolor": "white",
            "showbackground": true,
            "ticks": "",
            "zerolinecolor": "white"
           },
           "yaxis": {
            "backgroundcolor": "#E5ECF6",
            "gridcolor": "white",
            "gridwidth": 2,
            "linecolor": "white",
            "showbackground": true,
            "ticks": "",
            "zerolinecolor": "white"
           },
           "zaxis": {
            "backgroundcolor": "#E5ECF6",
            "gridcolor": "white",
            "gridwidth": 2,
            "linecolor": "white",
            "showbackground": true,
            "ticks": "",
            "zerolinecolor": "white"
           }
          },
          "shapedefaults": {
           "line": {
            "color": "#2a3f5f"
           }
          },
          "ternary": {
           "aaxis": {
            "gridcolor": "white",
            "linecolor": "white",
            "ticks": ""
           },
           "baxis": {
            "gridcolor": "white",
            "linecolor": "white",
            "ticks": ""
           },
           "bgcolor": "#E5ECF6",
           "caxis": {
            "gridcolor": "white",
            "linecolor": "white",
            "ticks": ""
           }
          },
          "title": {
           "x": 0.05
          },
          "xaxis": {
           "automargin": true,
           "gridcolor": "white",
           "linecolor": "white",
           "ticks": "",
           "title": {
            "standoff": 15
           },
           "zerolinecolor": "white",
           "zerolinewidth": 2
          },
          "yaxis": {
           "automargin": true,
           "gridcolor": "white",
           "linecolor": "white",
           "ticks": "",
           "title": {
            "standoff": 15
           },
           "zerolinecolor": "white",
           "zerolinewidth": 2
          }
         }
        }
       }
      },
      "text/html": [
       "<div>                            <div id=\"e355c36c-eb68-40bd-a025-db936116903c\" class=\"plotly-graph-div\" style=\"height:525px; width:100%;\"></div>            <script type=\"text/javascript\">                require([\"plotly\"], function(Plotly) {                    window.PLOTLYENV=window.PLOTLYENV || {};                                    if (document.getElementById(\"e355c36c-eb68-40bd-a025-db936116903c\")) {                    Plotly.newPlot(                        \"e355c36c-eb68-40bd-a025-db936116903c\",                        [{\"hovertemplate\":\"abs_lam_diff=%{x}<br>ered=%{y}<br>gsol=%{z}<br>size=%{marker.size}<extra></extra>\",\"legendgroup\":\"\",\"marker\":{\"color\":\"#636efa\",\"size\":[10,10,10,10,10,10,10,10,10,10,10,10,10,10,10,2,2,2,2,2,2,2,2,2,2,2,2,2,2,2,2,2,2,2,2,2,2,2,2,2,2,2,2,2,2,2,2,2,2,2,2,2,2,2,2,2,2,2,2,2,2,2,2,2,2,2,2,2,2,2,2,2,2,2,2,2,2,2,2,2,2,2,2,2,2,2,2,2,2,2,2,2,2,2,2,2,2,2,2,2,2,2,2,2,2,2,2,2,2,2,2,2,2,2,2,2,2,2,2,2,2,2,2,2,2,2,2,2,2,2,2,2,2,2,2,2,2,2,2,2,2,2,2,2,2,2,2,2,2,2,2,2,2,2,2,2,2,2,2,2,2,2,2,2,2,2,2,2,2,2,2,2,2,2,2,2,2,2,2,2,2,2,2,2,2,2,2,2,2,2,2,2,2,2,2,2,2,2,2,2],\"sizemode\":\"area\",\"sizeref\":0.025,\"symbol\":\"circle\"},\"mode\":\"markers\",\"name\":\"\",\"scene\":\"scene\",\"showlegend\":false,\"x\":[3.089999999999975,13.310000000000002,18.970000000000027,16.439999999999998,8.720000000000027,6.449999999999989,4.170000000000016,2.730000000000018,3.850000000000023,0.3700000000000045,0.2900000000000204,4.350000000000023,8.569999999999993,1.8199999999999927,7.240000000000009,40.05000000000001,59.88999999999999,24.360000000000014,38.93000000000001,42.420000000000016,39.95999999999998,46.860000000000014,36.93000000000001,24.79000000000002,39.420000000000016,34.74000000000001,37.610000000000014,29.110000000000014,5.5400000000000205,29.910000000000025,10.439999999999998,13.970000000000027,13.850000000000025,20.70999999999998,0.3000000000000113,25.19999999999999,6.5,3.8100000000000014,32.77999999999997,8.670000000000016,3.879999999999996,58.24000000000001,52.56,25.360000000000014,25.54000000000002,41.80000000000001,22.99000000000001,54.81999999999999,33.75999999999999,36.95999999999998,39.99000000000001,79.75999999999999,3.480000000000018,31.56,13.45999999999998,10.0,7.529999999999973,6.720000000000027,17.519999999999982,6.230000000000018,20.329999999999984,39.44999999999999,29.610000000000014,15.680000000000009,9.25,7.990000000000009,27.829999999999984,24.83999999999997,19.970000000000027,30.25999999999999,9.470000000000027,13.699999999999989,14.79000000000002,31.30000000000001,1.079999999999984,16.420000000000016,6.189999999999998,61.39999999999998,18.920000000000016,12.649999999999975,8.829999999999984,17.529999999999973,14.579999999999984,4.269999999999982,15.389999999999986,17.0,6.379999999999996,2.769999999999982,13.740000000000007,10.009999999999993,44.93000000000001,6.8700000000000045,25.79000000000002,11.829999999999984,20.05000000000001,3.4399999999999977,19.69999999999999,27.33999999999997,6.889999999999986,23.49000000000001,3.740000000000009,36.870000000000005,25.860000000000014,18.82,18.410000000000025,13.569999999999991,10.600000000000025,46.56999999999999,12.199999999999989,54.610000000000014,27.75999999999999,34.44999999999999,13.120000000000005,53.75999999999999,13.810000000000002,9.949999999999989,60.05000000000001,37.660000000000025,8.54000000000002,10.259999999999993,25.48000000000001,58.18000000000001,22.56,12.699999999999989,21.879999999999995,5.970000000000027,10.589999999999977,39.74000000000001,11.779999999999973,20.019999999999985,52.38999999999999,12.29000000000002,10.519999999999982,22.029999999999973,36.610000000000014,42.60000000000002,39.170000000000016,73.32,4.990000000000009,61.0,9.360000000000014,49.360000000000014,13.370000000000005,64.52999999999997,59.76999999999998,41.19,9.160000000000023,50.19,3.069999999999993,7.009999999999991,1.7200000000000273,24.07,9.899999999999975,23.829999999999984,13.990000000000007,7.850000000000023,37.660000000000025,56.14999999999998,39.170000000000016,24.74000000000001,28.55000000000001,45.420000000000016,15.20999999999998,46.23000000000002,12.220000000000027,15.560000000000002,10.0,22.49000000000001,56.27999999999997,48.52999999999997,7.2099999999999795,18.970000000000027,6.439999999999998,25.149999999999977,46.06,18.69,9.839999999999977,33.44999999999999,29.56,11.269999999999982,58.88999999999999,48.860000000000014,31.870000000000005,11.879999999999995,3.6100000000000136,36.04000000000002,23.879999999999995,1.0,64.80000000000001,53.73000000000002,36.51999999999998,5.879999999999996,64.32999999999998,8.889999999999986,8.509999999999991,19.24000000000001,39.60000000000002,17.29000000000002,47.19,61.85000000000002],\"y\":[1.67147,1.89361244,1.74588935,1.84458002,2.04979784,2.14454306,1.54135178,1.73761751,1.63933499,1.64455931,1.65087203,2.16810692,2.5925285,1.91638721,2.43079226,2.52406814,2.45764853,2.30723165,2.4311732,2.84049323,1.68412265,1.97973209,1.7316041,1.77609245,2.07962,2.11142849,1.66725245,2.02231574,1.61558066,2.15980787,1.89110912,1.66627289,1.92621002,1.91230571,1.83562793,1.8028943,2.02745843,1.8314648,1.99434386,1.97978651,2.02400276,1.70787698,2.52268043,1.98694274,2.35033229,2.20320782,2.14454306,1.9022108,2.28320522,2.18802464,2.36600525,2.46235586,1.78488128,1.66782386,1.79016002,1.76175278,1.74882803,1.67737457,1.8548654,1.67353796,1.93448186,1.98117422,1.86882413,1.72880147,1.67829971,1.95434516,2.05981112,1.99314662,2.19501761,1.72406693,1.99311941,2.14135949,1.9079249,1.96011368,1.82131547,2.2621991,1.88449709,2.07376985,2.03692751,1.93791032,2.08745648,1.79279939,1.79522108,1.80392828,1.9169042,1.88368079,2.38415432,2.01320039,1.77228305,1.72499207,2.32361207,1.840172,2.06775644,1.94517539,1.93026431,1.92365228,2.1032927,2.0883272,1.8464303,1.85228045,2.00707814,1.90689092,2.24494796,2.02332251,2.046968,2.35582871,1.88623853,2.2232888,1.96966439,1.72591721,1.8766334,2.07121211,2.15167208,2.3892698,1.99584041,1.85538239,2.05385213,1.96892972,2.27052536,1.84945061,2.2358054,2.23420001,2.21444555,2.10514298,2.07967442,2.02264226,2.3228774,2.16364448,2.35071323,2.24875736,1.89529946,1.70814908,2.15169929,2.47468199,2.12138735,1.99031678,2.3315846,1.93290368,2.13657053,2.87249219,2.00547275,1.96982765,2.04909038,2.5288571,2.35465868,2.7166061,2.30897309,2.17817462,2.261927,1.88863301,2.11959149,1.83127433,2.1656036,2.47587923,2.35400564,2.10696605,2.32546235,2.15866505,1.67182373,2.13110132,2.0654708,2.80141967,1.79576528,2.50529324,1.921802,2.11991801,2.24247185,1.79704415,2.46992024,2.34418283,1.96691618,2.06544359,2.27621225,2.25841691,1.98811277,2.12440766,2.32546235,1.92474068,2.36309378,2.85056093,2.33392466,2.40839843,2.45789342,2.08163354,2.04421979,2.19210614,2.35971974,2.64626825,2.43792128,2.2940348,2.01646559,2.15137277,2.91972875,1.87304168,1.99034399,2.20285409,1.7566373,2.31528581,2.56466546,1.9016666],\"z\":[-0.86895135,-1.12801776,-1.09188288,-1.15683315,-1.0881279,-1.02750402,-0.93686751,-0.83368719,-0.6761685,-0.74144529,-0.74694171,-0.99441666,-1.07335287,-0.81986451,-1.04252394,-0.59706903,-0.40431339,-0.69208635,-0.65399235,-0.66955647,-0.68180097,-0.84176856,-0.71023542,-0.83213622,-0.71692908,-0.64550283,-0.78723972,-0.636714,-0.86304678,-0.75981204,-0.72481998,-0.8187489,-0.68125677,-0.92396997,-0.71404482,-0.73208505,-0.64253694,-0.65344815,-0.69671205,-0.60136821,-0.69061701,-0.6968481,-1.10181453,-1.07566572,-1.04761221,-0.78400173,-1.11386856,-1.11596373,-1.04951691,-1.0361568,-0.91760283,-0.97406358,-0.69238566,-0.70313361,-0.83069409,-0.85591776,-0.80201475,-0.91156221,-0.87686946,-0.59013048,-1.03430652,-1.01664723,-0.84353721,-0.74737707,-0.76022019,-0.73377207,-0.92848683,-1.12007244,-1.0146609,-0.80059983,-0.74008479,-0.86974044,-0.63674121,-0.77061441,-0.70307919,-0.8739852,-0.70267104,-0.94835013,-0.77393403,-0.86650245,-0.66988299,-0.7580706,-0.67510731,-0.78753903,-0.50096331,-0.72745935,-0.7060995,-0.73401696,-0.69774603,-0.77387961,-0.56920599,-0.8922159,-0.82351065,-0.79518504,-0.60196683,-0.7738524,-0.80054541,-0.80745675,-0.76653291,-0.70843956,-0.77627409,-0.63758472,-0.86612151,-0.64833267,-1.00290618,-0.53473092,-0.79485852,-0.98181843,-0.73589445,-0.74860152,-0.72873822,-0.61769421,-0.82723842,-0.74996202,-0.75891411,-0.85172742,-0.53707098,-0.75654684,-0.7882737,-0.69072585,-0.72109221,-0.80655882,-0.66014181,-0.79004235,-1.00135521,-0.61524531,-0.76305003,-0.98481153,-0.78797439,-0.82277598,-0.585015,-0.67597803,-0.96064905,-0.78699483,-0.73110549,-0.76016577,-0.71611278,-0.78046443,-0.80065425,-0.40795953,-0.75679173,-0.64724427,-0.83801358,-0.52202385,-0.86424402,-0.68969187,-1.00091985,-0.73769031,-0.45854292,-0.70903818,-0.72043917,-0.74043852,-0.47114115,-0.63257808,-0.90897726,-0.6369861,-0.84876153,-0.41503413,-0.82176921,-0.67241352,-0.71132382,-0.59823906,-0.75856038,-0.86005368,-0.5763078,-0.62479602,-0.45998505,-0.73790799,-0.48779367,-0.70955517,-0.47261049,-0.77670945,-0.81191919,-0.85839387,-0.48686853,-0.79295382,-0.84726498,-0.72201735,-0.98421291,-0.51995589,-0.5433837,-0.54439047,-0.6296394,-0.83434023,-0.71257548,-0.80557926,-0.88788951,-0.54694821,-0.45745452,-0.99626694,-0.78830091,-0.73986711,-0.58947744,-0.73420743,-0.92799705,-0.84103389,-0.6609309,-0.93101736,-0.58787205,-1.1145216],\"type\":\"scatter3d\"},{\"color\":\"blue\",\"opacity\":0.2,\"x\":[3.089999999999975,13.310000000000002,18.970000000000027,16.439999999999998,8.720000000000027,6.449999999999989,4.170000000000016,2.730000000000018,3.850000000000023,0.3700000000000045,0.2900000000000204,4.350000000000023,8.569999999999993,1.8199999999999927,7.240000000000009],\"y\":[1.67147,1.89361244,1.74588935,1.84458002,2.04979784,2.14454306,1.54135178,1.73761751,1.63933499,1.64455931,1.65087203,2.16810692,2.5925285,1.91638721,2.43079226],\"z\":[-0.86895135,-1.12801776,-1.09188288,-1.15683315,-1.0881279,-1.02750402,-0.93686751,-0.83368719,-0.6761685,-0.74144529,-0.74694171,-0.99441666,-1.07335287,-0.81986451,-1.04252394],\"type\":\"mesh3d\"}],                        {\"template\":{\"data\":{\"histogram2dcontour\":[{\"type\":\"histogram2dcontour\",\"colorbar\":{\"outlinewidth\":0,\"ticks\":\"\"},\"colorscale\":[[0.0,\"#0d0887\"],[0.1111111111111111,\"#46039f\"],[0.2222222222222222,\"#7201a8\"],[0.3333333333333333,\"#9c179e\"],[0.4444444444444444,\"#bd3786\"],[0.5555555555555556,\"#d8576b\"],[0.6666666666666666,\"#ed7953\"],[0.7777777777777778,\"#fb9f3a\"],[0.8888888888888888,\"#fdca26\"],[1.0,\"#f0f921\"]]}],\"choropleth\":[{\"type\":\"choropleth\",\"colorbar\":{\"outlinewidth\":0,\"ticks\":\"\"}}],\"histogram2d\":[{\"type\":\"histogram2d\",\"colorbar\":{\"outlinewidth\":0,\"ticks\":\"\"},\"colorscale\":[[0.0,\"#0d0887\"],[0.1111111111111111,\"#46039f\"],[0.2222222222222222,\"#7201a8\"],[0.3333333333333333,\"#9c179e\"],[0.4444444444444444,\"#bd3786\"],[0.5555555555555556,\"#d8576b\"],[0.6666666666666666,\"#ed7953\"],[0.7777777777777778,\"#fb9f3a\"],[0.8888888888888888,\"#fdca26\"],[1.0,\"#f0f921\"]]}],\"heatmap\":[{\"type\":\"heatmap\",\"colorbar\":{\"outlinewidth\":0,\"ticks\":\"\"},\"colorscale\":[[0.0,\"#0d0887\"],[0.1111111111111111,\"#46039f\"],[0.2222222222222222,\"#7201a8\"],[0.3333333333333333,\"#9c179e\"],[0.4444444444444444,\"#bd3786\"],[0.5555555555555556,\"#d8576b\"],[0.6666666666666666,\"#ed7953\"],[0.7777777777777778,\"#fb9f3a\"],[0.8888888888888888,\"#fdca26\"],[1.0,\"#f0f921\"]]}],\"heatmapgl\":[{\"type\":\"heatmapgl\",\"colorbar\":{\"outlinewidth\":0,\"ticks\":\"\"},\"colorscale\":[[0.0,\"#0d0887\"],[0.1111111111111111,\"#46039f\"],[0.2222222222222222,\"#7201a8\"],[0.3333333333333333,\"#9c179e\"],[0.4444444444444444,\"#bd3786\"],[0.5555555555555556,\"#d8576b\"],[0.6666666666666666,\"#ed7953\"],[0.7777777777777778,\"#fb9f3a\"],[0.8888888888888888,\"#fdca26\"],[1.0,\"#f0f921\"]]}],\"contourcarpet\":[{\"type\":\"contourcarpet\",\"colorbar\":{\"outlinewidth\":0,\"ticks\":\"\"}}],\"contour\":[{\"type\":\"contour\",\"colorbar\":{\"outlinewidth\":0,\"ticks\":\"\"},\"colorscale\":[[0.0,\"#0d0887\"],[0.1111111111111111,\"#46039f\"],[0.2222222222222222,\"#7201a8\"],[0.3333333333333333,\"#9c179e\"],[0.4444444444444444,\"#bd3786\"],[0.5555555555555556,\"#d8576b\"],[0.6666666666666666,\"#ed7953\"],[0.7777777777777778,\"#fb9f3a\"],[0.8888888888888888,\"#fdca26\"],[1.0,\"#f0f921\"]]}],\"surface\":[{\"type\":\"surface\",\"colorbar\":{\"outlinewidth\":0,\"ticks\":\"\"},\"colorscale\":[[0.0,\"#0d0887\"],[0.1111111111111111,\"#46039f\"],[0.2222222222222222,\"#7201a8\"],[0.3333333333333333,\"#9c179e\"],[0.4444444444444444,\"#bd3786\"],[0.5555555555555556,\"#d8576b\"],[0.6666666666666666,\"#ed7953\"],[0.7777777777777778,\"#fb9f3a\"],[0.8888888888888888,\"#fdca26\"],[1.0,\"#f0f921\"]]}],\"mesh3d\":[{\"type\":\"mesh3d\",\"colorbar\":{\"outlinewidth\":0,\"ticks\":\"\"}}],\"scatter\":[{\"fillpattern\":{\"fillmode\":\"overlay\",\"size\":10,\"solidity\":0.2},\"type\":\"scatter\"}],\"parcoords\":[{\"type\":\"parcoords\",\"line\":{\"colorbar\":{\"outlinewidth\":0,\"ticks\":\"\"}}}],\"scatterpolargl\":[{\"type\":\"scatterpolargl\",\"marker\":{\"colorbar\":{\"outlinewidth\":0,\"ticks\":\"\"}}}],\"bar\":[{\"error_x\":{\"color\":\"#2a3f5f\"},\"error_y\":{\"color\":\"#2a3f5f\"},\"marker\":{\"line\":{\"color\":\"#E5ECF6\",\"width\":0.5},\"pattern\":{\"fillmode\":\"overlay\",\"size\":10,\"solidity\":0.2}},\"type\":\"bar\"}],\"scattergeo\":[{\"type\":\"scattergeo\",\"marker\":{\"colorbar\":{\"outlinewidth\":0,\"ticks\":\"\"}}}],\"scatterpolar\":[{\"type\":\"scatterpolar\",\"marker\":{\"colorbar\":{\"outlinewidth\":0,\"ticks\":\"\"}}}],\"histogram\":[{\"marker\":{\"pattern\":{\"fillmode\":\"overlay\",\"size\":10,\"solidity\":0.2}},\"type\":\"histogram\"}],\"scattergl\":[{\"type\":\"scattergl\",\"marker\":{\"colorbar\":{\"outlinewidth\":0,\"ticks\":\"\"}}}],\"scatter3d\":[{\"type\":\"scatter3d\",\"line\":{\"colorbar\":{\"outlinewidth\":0,\"ticks\":\"\"}},\"marker\":{\"colorbar\":{\"outlinewidth\":0,\"ticks\":\"\"}}}],\"scattermapbox\":[{\"type\":\"scattermapbox\",\"marker\":{\"colorbar\":{\"outlinewidth\":0,\"ticks\":\"\"}}}],\"scatterternary\":[{\"type\":\"scatterternary\",\"marker\":{\"colorbar\":{\"outlinewidth\":0,\"ticks\":\"\"}}}],\"scattercarpet\":[{\"type\":\"scattercarpet\",\"marker\":{\"colorbar\":{\"outlinewidth\":0,\"ticks\":\"\"}}}],\"carpet\":[{\"aaxis\":{\"endlinecolor\":\"#2a3f5f\",\"gridcolor\":\"white\",\"linecolor\":\"white\",\"minorgridcolor\":\"white\",\"startlinecolor\":\"#2a3f5f\"},\"baxis\":{\"endlinecolor\":\"#2a3f5f\",\"gridcolor\":\"white\",\"linecolor\":\"white\",\"minorgridcolor\":\"white\",\"startlinecolor\":\"#2a3f5f\"},\"type\":\"carpet\"}],\"table\":[{\"cells\":{\"fill\":{\"color\":\"#EBF0F8\"},\"line\":{\"color\":\"white\"}},\"header\":{\"fill\":{\"color\":\"#C8D4E3\"},\"line\":{\"color\":\"white\"}},\"type\":\"table\"}],\"barpolar\":[{\"marker\":{\"line\":{\"color\":\"#E5ECF6\",\"width\":0.5},\"pattern\":{\"fillmode\":\"overlay\",\"size\":10,\"solidity\":0.2}},\"type\":\"barpolar\"}],\"pie\":[{\"automargin\":true,\"type\":\"pie\"}]},\"layout\":{\"autotypenumbers\":\"strict\",\"colorway\":[\"#636efa\",\"#EF553B\",\"#00cc96\",\"#ab63fa\",\"#FFA15A\",\"#19d3f3\",\"#FF6692\",\"#B6E880\",\"#FF97FF\",\"#FECB52\"],\"font\":{\"color\":\"#2a3f5f\"},\"hovermode\":\"closest\",\"hoverlabel\":{\"align\":\"left\"},\"paper_bgcolor\":\"white\",\"plot_bgcolor\":\"#E5ECF6\",\"polar\":{\"bgcolor\":\"#E5ECF6\",\"angularaxis\":{\"gridcolor\":\"white\",\"linecolor\":\"white\",\"ticks\":\"\"},\"radialaxis\":{\"gridcolor\":\"white\",\"linecolor\":\"white\",\"ticks\":\"\"}},\"ternary\":{\"bgcolor\":\"#E5ECF6\",\"aaxis\":{\"gridcolor\":\"white\",\"linecolor\":\"white\",\"ticks\":\"\"},\"baxis\":{\"gridcolor\":\"white\",\"linecolor\":\"white\",\"ticks\":\"\"},\"caxis\":{\"gridcolor\":\"white\",\"linecolor\":\"white\",\"ticks\":\"\"}},\"coloraxis\":{\"colorbar\":{\"outlinewidth\":0,\"ticks\":\"\"}},\"colorscale\":{\"sequential\":[[0.0,\"#0d0887\"],[0.1111111111111111,\"#46039f\"],[0.2222222222222222,\"#7201a8\"],[0.3333333333333333,\"#9c179e\"],[0.4444444444444444,\"#bd3786\"],[0.5555555555555556,\"#d8576b\"],[0.6666666666666666,\"#ed7953\"],[0.7777777777777778,\"#fb9f3a\"],[0.8888888888888888,\"#fdca26\"],[1.0,\"#f0f921\"]],\"sequentialminus\":[[0.0,\"#0d0887\"],[0.1111111111111111,\"#46039f\"],[0.2222222222222222,\"#7201a8\"],[0.3333333333333333,\"#9c179e\"],[0.4444444444444444,\"#bd3786\"],[0.5555555555555556,\"#d8576b\"],[0.6666666666666666,\"#ed7953\"],[0.7777777777777778,\"#fb9f3a\"],[0.8888888888888888,\"#fdca26\"],[1.0,\"#f0f921\"]],\"diverging\":[[0,\"#8e0152\"],[0.1,\"#c51b7d\"],[0.2,\"#de77ae\"],[0.3,\"#f1b6da\"],[0.4,\"#fde0ef\"],[0.5,\"#f7f7f7\"],[0.6,\"#e6f5d0\"],[0.7,\"#b8e186\"],[0.8,\"#7fbc41\"],[0.9,\"#4d9221\"],[1,\"#276419\"]]},\"xaxis\":{\"gridcolor\":\"white\",\"linecolor\":\"white\",\"ticks\":\"\",\"title\":{\"standoff\":15},\"zerolinecolor\":\"white\",\"automargin\":true,\"zerolinewidth\":2},\"yaxis\":{\"gridcolor\":\"white\",\"linecolor\":\"white\",\"ticks\":\"\",\"title\":{\"standoff\":15},\"zerolinecolor\":\"white\",\"automargin\":true,\"zerolinewidth\":2},\"scene\":{\"xaxis\":{\"backgroundcolor\":\"#E5ECF6\",\"gridcolor\":\"white\",\"linecolor\":\"white\",\"showbackground\":true,\"ticks\":\"\",\"zerolinecolor\":\"white\",\"gridwidth\":2},\"yaxis\":{\"backgroundcolor\":\"#E5ECF6\",\"gridcolor\":\"white\",\"linecolor\":\"white\",\"showbackground\":true,\"ticks\":\"\",\"zerolinecolor\":\"white\",\"gridwidth\":2},\"zaxis\":{\"backgroundcolor\":\"#E5ECF6\",\"gridcolor\":\"white\",\"linecolor\":\"white\",\"showbackground\":true,\"ticks\":\"\",\"zerolinecolor\":\"white\",\"gridwidth\":2}},\"shapedefaults\":{\"line\":{\"color\":\"#2a3f5f\"}},\"annotationdefaults\":{\"arrowcolor\":\"#2a3f5f\",\"arrowhead\":0,\"arrowwidth\":1},\"geo\":{\"bgcolor\":\"white\",\"landcolor\":\"#E5ECF6\",\"subunitcolor\":\"white\",\"showland\":true,\"showlakes\":true,\"lakecolor\":\"white\"},\"title\":{\"x\":0.05},\"mapbox\":{\"style\":\"light\"}}},\"scene\":{\"domain\":{\"x\":[0.0,1.0],\"y\":[0.0,1.0]},\"xaxis\":{\"title\":{\"text\":\"$\\\\Delta_{abs}$ [nm]\"}},\"yaxis\":{\"title\":{\"text\":\"$E^{red}$  [V vs. Li/Li+]\"}},\"zaxis\":{\"title\":{\"text\":\"$G^{solv}$ [eV]\"}}},\"legend\":{\"tracegroupgap\":0,\"itemsizing\":\"constant\"},\"margin\":{\"t\":0,\"l\":0,\"r\":0,\"b\":0}},                        {\"responsive\": true}                    ).then(function(){\n",
       "                            \n",
       "var gd = document.getElementById('e355c36c-eb68-40bd-a025-db936116903c');\n",
       "var x = new MutationObserver(function (mutations, observer) {{\n",
       "        var display = window.getComputedStyle(gd).display;\n",
       "        if (!display || display === 'none') {{\n",
       "            console.log([gd, 'removed!']);\n",
       "            Plotly.purge(gd);\n",
       "            observer.disconnect();\n",
       "        }}\n",
       "}});\n",
       "\n",
       "// Listen for the removal of the full notebook cells\n",
       "var notebookContainer = gd.closest('#notebook-container');\n",
       "if (notebookContainer) {{\n",
       "    x.observe(notebookContainer, {childList: true});\n",
       "}}\n",
       "\n",
       "// Listen for the clearing of the current output cell\n",
       "var outputEl = gd.closest('.output');\n",
       "if (outputEl) {{\n",
       "    x.observe(outputEl, {childList: true});\n",
       "}}\n",
       "\n",
       "                        })                };                });            </script>        </div>"
      ]
     },
     "metadata": {},
     "output_type": "display_data"
    }
   ],
   "source": [
    "fig = px.scatter_3d(df_hv, x='abs_lam_diff', y='ered', z='gsol', size='size')\n",
    "pareto_points = df_hv[df_hv['type']=='front']\n",
    "fig.add_trace(go.Mesh3d(x=pareto_points['abs_lam_diff'].values,\n",
    "                   y=pareto_points['ered'].values,\n",
    "                   z=pareto_points['gsol'].values,\n",
    "                   opacity=0.2,\n",
    "                   color='blue'\n",
    "                  ))\n",
    "fig.update_layout(margin=dict(l=0, r=0, b=0, t=0))\n",
    "\n",
    "# fig.update_layout(\n",
    "#     title=\"Hypervolume\",\n",
    "#     xaxis_title=r'$\\Delta_{abs}$ [nm]',\n",
    "#     yaxis_title=r'$E^{red}$  [V vs. Li/Li+]',\n",
    "#     zaxis_title=r'$G^{solv}$ [eV]',\n",
    "#     #legend_title=\"Legend Title\",\n",
    "#     font=dict(\n",
    "#         family=\"Courier New, monospace\",\n",
    "#         size=18,\n",
    "#         color=\"RebeccaPurple\"\n",
    "#     )\n",
    "# )\n",
    "\n",
    "fig.update_scenes(xaxis_title_text=r'$\\Delta_{abs}$ [nm]',  \n",
    "                  yaxis_title_text=r'$E^{red}$  [V vs. Li/Li+]',  \n",
    "                  zaxis_title_text=r'$G^{solv}$ [eV]',\n",
    "                  )\n",
    "\n",
    "# axes[0].set_ylabel(r'$\\Delta_{`abs}$ [nm]', fontsize=12)\n",
    "# axes[1].set_ylabel(r'$E^{red}$  [V vs. Li/Li+]', fontsize=12)\n",
    "# axes[2].set_ylabel(r'$G^{solv}$ [eV]', fontsize=12)\n",
    "\n",
    "fig.write_image(\"hypervolume_redoxmers_run.png\")\n",
    "fig.show()"
   ]
  },
  {
   "cell_type": "code",
   "execution_count": 49,
   "id": "282554c4",
   "metadata": {},
   "outputs": [
    {
     "data": {
      "application/vnd.plotly.v1+json": {
       "config": {
        "plotlyServerURL": "https://plot.ly"
       },
       "data": [
        {
         "hovertemplate": "abs_lam_diff=%{x}<br>ered=%{y}<br>gsol=%{z}<br>size=%{marker.size}<extra></extra>",
         "legendgroup": "",
         "marker": {
          "color": "#636efa",
          "size": [
           10,
           10,
           10,
           10,
           10,
           10,
           10,
           10,
           10,
           10,
           10,
           2,
           2,
           2,
           2,
           2,
           2,
           2,
           2,
           2,
           2,
           2,
           2,
           2,
           2,
           2,
           2,
           2,
           2,
           2,
           2,
           2,
           2,
           2,
           2,
           2,
           2,
           2,
           2,
           2,
           2,
           2,
           2,
           2,
           2,
           2,
           2,
           2,
           2,
           2,
           2,
           2,
           2,
           2,
           2,
           2,
           2,
           2,
           2,
           2,
           2,
           2,
           2,
           2,
           2,
           2,
           2,
           2,
           2,
           2,
           2,
           2,
           2,
           2,
           2,
           2,
           2,
           2,
           2,
           2,
           2,
           2,
           2,
           2,
           2,
           2,
           2,
           2,
           2,
           2,
           2,
           2,
           2,
           2,
           2,
           2,
           2,
           2,
           2,
           2,
           2,
           2,
           2,
           2,
           2,
           2,
           2,
           2,
           2,
           2,
           2,
           2,
           2,
           2,
           2,
           2,
           2,
           2,
           2,
           2,
           2,
           2,
           2,
           2,
           2,
           2,
           2,
           2,
           2,
           2,
           2,
           2,
           2,
           2,
           2,
           2,
           2,
           2,
           2,
           2,
           2,
           2,
           2,
           2,
           2,
           2,
           2,
           2,
           2,
           2,
           2,
           2,
           2,
           2,
           2,
           2,
           2,
           2,
           2,
           2,
           2,
           2,
           2,
           2,
           2,
           2,
           2,
           2,
           2,
           2,
           2,
           2,
           2,
           2,
           2,
           2,
           2,
           2,
           2,
           2,
           2,
           2,
           2,
           2,
           2,
           2,
           2,
           2,
           2,
           2,
           2,
           2,
           2,
           2,
           2,
           2,
           2,
           2,
           2,
           2
          ],
          "sizemode": "area",
          "sizeref": 0.025,
          "symbol": "circle"
         },
         "mode": "markers",
         "name": "",
         "scene": "scene",
         "showlegend": false,
         "type": "scatter3d",
         "x": [
          1.8899999999999864,
          0.0299999999999727,
          3.089999999999975,
          13.310000000000002,
          3.850000000000023,
          4.170000000000016,
          18.970000000000027,
          8.720000000000027,
          2.730000000000018,
          0.3700000000000045,
          0.2900000000000204,
          56.410000000000025,
          10,
          25.75,
          41.30000000000001,
          23.160000000000025,
          36.610000000000014,
          39.95999999999998,
          63.920000000000016,
          51.75999999999999,
          28.19999999999999,
          28.73000000000001,
          11.939999999999998,
          26.73000000000001,
          18.920000000000016,
          5.279999999999973,
          12.29000000000002,
          4.639999999999986,
          3.6100000000000136,
          15.20999999999998,
          13.970000000000027,
          8.339999999999975,
          39.44999999999999,
          0.3000000000000113,
          10.439999999999998,
          24.32,
          13.740000000000007,
          2.839999999999975,
          20.70999999999998,
          5.5400000000000205,
          3.8100000000000014,
          24.79000000000002,
          37.610000000000014,
          27.75999999999999,
          8.670000000000016,
          6.5,
          13.850000000000025,
          3.879999999999996,
          3.4399999999999977,
          23.49000000000001,
          58.24000000000001,
          6.610000000000014,
          17,
          41.160000000000025,
          14.529999999999973,
          7.2099999999999795,
          14.70999999999998,
          22.120000000000005,
          4.269999999999982,
          9.279999999999973,
          11.889999999999986,
          10.009999999999993,
          9.949999999999989,
          16.50999999999999,
          39.160000000000025,
          25.19999999999999,
          29.910000000000025,
          19.29000000000002,
          69.62,
          1.7099999999999795,
          7.529999999999973,
          13.45999999999998,
          6.230000000000018,
          3.480000000000018,
          9.25,
          6.189999999999998,
          15.569999999999991,
          18.410000000000025,
          27.829999999999984,
          10,
          6.720000000000027,
          17.519999999999982,
          25.54000000000002,
          5.879999999999996,
          27.33999999999997,
          60.06999999999999,
          6.889999999999986,
          17.529999999999973,
          7.850000000000023,
          49.339999999999975,
          24.83999999999997,
          20.329999999999984,
          11.829999999999984,
          15.680000000000009,
          9.649999999999975,
          3.3100000000000023,
          61.01999999999998,
          1.079999999999984,
          30.25999999999999,
          12.199999999999989,
          14.79000000000002,
          6.720000000000027,
          16.319999999999993,
          6.569999999999993,
          10.829999999999984,
          21.779999999999973,
          15.389999999999986,
          52.22000000000003,
          28.100000000000023,
          65.01999999999998,
          12.220000000000027,
          28.860000000000014,
          18.69,
          15.019999999999982,
          11.079999999999984,
          48.52999999999997,
          10.259999999999993,
          33.44999999999999,
          13.810000000000002,
          31.410000000000025,
          8.259999999999991,
          7.339999999999975,
          31.56,
          9.360000000000014,
          21.139999999999983,
          30.30000000000001,
          14.350000000000025,
          31.30000000000001,
          42.60000000000002,
          7.620000000000003,
          11.389999999999986,
          68.60000000000002,
          12.649999999999975,
          29.49000000000001,
          40.97000000000003,
          10.529999999999973,
          44.81999999999999,
          7.009999999999991,
          1.7200000000000273,
          29.610000000000014,
          9.470000000000027,
          7.990000000000009,
          17.589999999999975,
          29.33999999999997,
          32.47000000000003,
          8.5,
          8.889999999999986,
          45.97000000000003,
          16.279999999999973,
          15.800000000000011,
          58.81999999999999,
          39.170000000000016,
          26.44999999999999,
          11.930000000000009,
          7.620000000000003,
          24.470000000000027,
          25.95999999999998,
          37.52999999999997,
          13.699999999999989,
          0.8600000000000136,
          36.370000000000005,
          7.529999999999973,
          56.05000000000001,
          27.769999999999985,
          1.3000000000000114,
          24.329999999999984,
          25.360000000000014,
          28.600000000000023,
          10.600000000000025,
          16.410000000000025,
          38.64999999999998,
          2.980000000000018,
          17.20999999999998,
          5.970000000000027,
          6.410000000000025,
          46.06,
          5.490000000000009,
          28.55000000000001,
          8.029999999999973,
          7.170000000000016,
          13.410000000000023,
          5.779999999999973,
          15.70999999999998,
          27.55000000000001,
          8.829999999999984,
          11.879999999999995,
          13.610000000000014,
          22.160000000000025,
          1.9800000000000184,
          66.95999999999998,
          39.170000000000016,
          11.379999999999995,
          7.399999999999977,
          14.579999999999984,
          18.82,
          24.079999999999984,
          15.560000000000002,
          43.910000000000025,
          45.95999999999998,
          58.39999999999998
         ],
         "y": [
          2.07597386,
          2.11488416,
          1.67147,
          1.89361244,
          1.63933499,
          1.54135178,
          1.74588935,
          2.04979784,
          1.73761751,
          1.64455931,
          1.65087203,
          2.71755845,
          2.24247185,
          2.87899538,
          2.58779396,
          2.38244009,
          2.12138735,
          1.68412265,
          1.96362377,
          2.04465515,
          2.1209792,
          2.21681282,
          2.25139673,
          1.98133748,
          2.03692751,
          2.20252757,
          1.70814908,
          1.85021249,
          2.04421979,
          1.79576528,
          1.66627289,
          1.79345243,
          1.98117422,
          1.83562793,
          1.89110912,
          1.99442549,
          1.77228305,
          2.09243591,
          1.91230571,
          1.61558066,
          1.8314648,
          1.77609245,
          1.66725245,
          1.8766334,
          1.97978651,
          2.02745843,
          1.92621002,
          2.02400276,
          1.92365228,
          1.85228045,
          1.70787698,
          2.04269603,
          1.88368079,
          2.03534933,
          1.91048264,
          1.96691618,
          1.87562663,
          2.17768484,
          1.80392828,
          1.99075214,
          1.96917461,
          1.72499207,
          1.85538239,
          2.0328188,
          2.11300667,
          1.8028943,
          2.15980787,
          1.92895823,
          2.17727669,
          1.85769524,
          1.74882803,
          1.79016002,
          1.67353796,
          1.78488128,
          1.67829971,
          1.88449709,
          2.03371673,
          2.046968,
          2.05981112,
          1.76175278,
          1.67737457,
          1.8548654,
          2.35033229,
          2.15137277,
          2.0883272,
          2.05099508,
          1.8464303,
          1.79279939,
          2.10696605,
          2.49468134,
          1.99314662,
          1.93448186,
          1.94517539,
          1.72880147,
          1.96577336,
          2.20225547,
          2.47397453,
          1.82131547,
          1.72406693,
          1.96966439,
          1.9079249,
          2.17752158,
          1.88381684,
          1.78939814,
          1.88776229,
          2.38333802,
          1.9169042,
          2.25436262,
          2.14252952,
          1.80411875,
          1.921802,
          2.23123412,
          2.12440766,
          1.9841129,
          2.39435807,
          2.34418283,
          1.84945061,
          1.92474068,
          1.99584041,
          2.06971556,
          2.32132643,
          1.78313984,
          1.66782386,
          2.00547275,
          1.95956948,
          1.97222213,
          1.98977258,
          1.96011368,
          1.99031678,
          1.85426678,
          1.69620389,
          1.8559538,
          1.93791032,
          2.1332237,
          2.54912855,
          1.64967479,
          2.35125743,
          1.88863301,
          2.11959149,
          1.86882413,
          1.99311941,
          1.95434516,
          1.84569563,
          2.09752418,
          1.76376632,
          2.03823359,
          1.87304168,
          2.23624076,
          2.08079003,
          2.18897699,
          2.10179615,
          1.67182373,
          2.28663368,
          2.06367494,
          2.13798545,
          2.07638201,
          1.85796734,
          2.33939387,
          2.14135949,
          2.16655595,
          2.20867703,
          1.96639919,
          2.22483977,
          2.03153993,
          1.9563587,
          2.31972104,
          1.98694274,
          1.95374654,
          1.88623853,
          2.0875109,
          2.27025326,
          1.96784132,
          1.86169511,
          2.02264226,
          2.28494666,
          1.98811277,
          1.8665657,
          2.0654708,
          2.26067534,
          2.03382557,
          2.06005601,
          2.00871074,
          2.43694172,
          2.0262884,
          2.08745648,
          2.08163354,
          2.34810107,
          2.31953057,
          2.30611604,
          2.16930416,
          2.3315846,
          1.89829256,
          1.77900392,
          1.79522108,
          2.02332251,
          1.92218294,
          2.11991801,
          2.06288585,
          1.77342587,
          2.44496867
         ],
         "z": [
          -0.77216538,
          -0.74645193,
          -0.86895135,
          -1.12801776,
          -0.6761685,
          -0.93686751,
          -1.09188288,
          -1.0881279,
          -0.83368719,
          -0.74144529,
          -0.74694171,
          -0.62536743,
          -0.45998505,
          -0.86288352,
          -0.56311095,
          -0.80721186,
          -0.73110549,
          -0.68180097,
          -0.7115415,
          -0.88739973,
          -0.73978548,
          -0.69369174,
          -0.59306916,
          -0.74860152,
          -0.77393403,
          -0.87474708,
          -0.67597803,
          -0.7343979,
          -0.71257548,
          -0.75856038,
          -0.8187489,
          -0.63497256,
          -1.01664723,
          -0.71404482,
          -0.72481998,
          -0.76582545,
          -0.69774603,
          -0.63919011,
          -0.92396997,
          -0.86304678,
          -0.65344815,
          -0.83213622,
          -0.78723972,
          -0.72873822,
          -0.60136821,
          -0.64253694,
          -0.68125677,
          -0.69061701,
          -0.7738524,
          -0.70843956,
          -0.6968481,
          -0.61320456,
          -0.72745935,
          -0.740112,
          -0.6247416,
          -0.47261049,
          -0.80691255,
          -0.60966726,
          -0.78753903,
          -0.50983377,
          -0.77687271,
          -0.77387961,
          -0.85172742,
          -0.6225648,
          -0.70977285,
          -0.73208505,
          -0.75981204,
          -0.65372025,
          -0.60716394,
          -0.6048783,
          -0.80201475,
          -0.83069409,
          -0.59013048,
          -0.69238566,
          -0.76022019,
          -0.70267104,
          -0.83692518,
          -1.00290618,
          -0.92848683,
          -0.85591776,
          -0.91156221,
          -0.87686946,
          -1.04761221,
          -0.73986711,
          -0.80745675,
          -0.54384627,
          -0.76653291,
          -0.7580706,
          -0.6369861,
          -0.63132642,
          -1.12007244,
          -1.03430652,
          -0.79518504,
          -0.74737707,
          -0.69559644,
          -0.70849398,
          -0.59149098,
          -0.70307919,
          -0.80059983,
          -0.73589445,
          -0.63674121,
          -0.57679758,
          -0.55307046,
          -0.60849723,
          -0.59992608,
          -0.54025455,
          -0.50096331,
          -0.54278508,
          -0.52564278,
          -0.64675449,
          -0.5763078,
          -0.54425442,
          -0.79295382,
          -0.62604768,
          -0.61404807,
          -0.70955517,
          -0.69072585,
          -0.72201735,
          -0.75891411,
          -0.74860152,
          -0.43680213,
          -0.60482388,
          -0.70313361,
          -0.75679173,
          -0.65366583,
          -0.67747458,
          -0.67339308,
          -0.77061441,
          -0.76016577,
          -0.72941847,
          -0.78794718,
          -0.61769421,
          -0.86650245,
          -0.7441935,
          -0.50724882,
          -0.55606356,
          -0.77855973,
          -0.70903818,
          -0.72043917,
          -0.84353721,
          -0.74008479,
          -0.73377207,
          -0.57334191,
          -0.48556245,
          -0.74849268,
          -0.62387088,
          -0.73420743,
          -0.69464409,
          -0.60740883,
          -0.40254474,
          -0.51818724,
          -0.82176921,
          -0.7888179,
          -0.67543383,
          -0.511548,
          -0.47067858,
          -0.5458326,
          -0.5202552,
          -0.86974044,
          -0.65970645,
          -0.56147835,
          -0.55336977,
          -0.68876673,
          -0.61233384,
          -0.53149293,
          -0.8930322,
          -1.07566572,
          -0.64525794,
          -0.79485852,
          -0.45538656,
          -0.52490811,
          -0.61238826,
          -0.62063289,
          -0.61524531,
          -0.57472962,
          -0.48686853,
          -0.70697022,
          -0.71132382,
          -0.72019428,
          -0.55981854,
          -0.44376789,
          -0.51029634,
          -0.55366908,
          -0.73741821,
          -0.66988299,
          -0.83434023,
          -0.48564408,
          -0.6190275,
          -0.541479,
          -0.43321041,
          -0.71611278,
          -0.62553069,
          -0.51421458,
          -0.67510731,
          -0.64833267,
          -0.4552233,
          -0.62479602,
          -0.64065945,
          -0.53845869,
          -0.79298103
         ]
        },
        {
         "color": "blue",
         "opacity": 0.2,
         "type": "mesh3d",
         "x": [
          1.8899999999999864,
          0.0299999999999727,
          3.089999999999975,
          13.310000000000002,
          3.850000000000023,
          4.170000000000016,
          18.970000000000027,
          8.720000000000027,
          2.730000000000018,
          0.3700000000000045,
          0.2900000000000204
         ],
         "y": [
          2.07597386,
          2.11488416,
          1.67147,
          1.89361244,
          1.63933499,
          1.54135178,
          1.74588935,
          2.04979784,
          1.73761751,
          1.64455931,
          1.65087203
         ],
         "z": [
          -0.77216538,
          -0.74645193,
          -0.86895135,
          -1.12801776,
          -0.6761685,
          -0.93686751,
          -1.09188288,
          -1.0881279,
          -0.83368719,
          -0.74144529,
          -0.74694171
         ]
        }
       ],
       "layout": {
        "legend": {
         "itemsizing": "constant",
         "tracegroupgap": 0
        },
        "margin": {
         "b": 0,
         "l": 0,
         "r": 0,
         "t": 0
        },
        "scene": {
         "domain": {
          "x": [
           0,
           1
          ],
          "y": [
           0,
           1
          ]
         },
         "xaxis": {
          "title": {
           "text": "$\\Delta_{abs}$ [nm]"
          }
         },
         "yaxis": {
          "title": {
           "text": "$E^{red}$  [V vs. Li/Li+]"
          }
         },
         "zaxis": {
          "title": {
           "text": "$G^{solv}$ [eV]"
          }
         }
        },
        "template": {
         "data": {
          "bar": [
           {
            "error_x": {
             "color": "#2a3f5f"
            },
            "error_y": {
             "color": "#2a3f5f"
            },
            "marker": {
             "line": {
              "color": "#E5ECF6",
              "width": 0.5
             },
             "pattern": {
              "fillmode": "overlay",
              "size": 10,
              "solidity": 0.2
             }
            },
            "type": "bar"
           }
          ],
          "barpolar": [
           {
            "marker": {
             "line": {
              "color": "#E5ECF6",
              "width": 0.5
             },
             "pattern": {
              "fillmode": "overlay",
              "size": 10,
              "solidity": 0.2
             }
            },
            "type": "barpolar"
           }
          ],
          "carpet": [
           {
            "aaxis": {
             "endlinecolor": "#2a3f5f",
             "gridcolor": "white",
             "linecolor": "white",
             "minorgridcolor": "white",
             "startlinecolor": "#2a3f5f"
            },
            "baxis": {
             "endlinecolor": "#2a3f5f",
             "gridcolor": "white",
             "linecolor": "white",
             "minorgridcolor": "white",
             "startlinecolor": "#2a3f5f"
            },
            "type": "carpet"
           }
          ],
          "choropleth": [
           {
            "colorbar": {
             "outlinewidth": 0,
             "ticks": ""
            },
            "type": "choropleth"
           }
          ],
          "contour": [
           {
            "colorbar": {
             "outlinewidth": 0,
             "ticks": ""
            },
            "colorscale": [
             [
              0,
              "#0d0887"
             ],
             [
              0.1111111111111111,
              "#46039f"
             ],
             [
              0.2222222222222222,
              "#7201a8"
             ],
             [
              0.3333333333333333,
              "#9c179e"
             ],
             [
              0.4444444444444444,
              "#bd3786"
             ],
             [
              0.5555555555555556,
              "#d8576b"
             ],
             [
              0.6666666666666666,
              "#ed7953"
             ],
             [
              0.7777777777777778,
              "#fb9f3a"
             ],
             [
              0.8888888888888888,
              "#fdca26"
             ],
             [
              1,
              "#f0f921"
             ]
            ],
            "type": "contour"
           }
          ],
          "contourcarpet": [
           {
            "colorbar": {
             "outlinewidth": 0,
             "ticks": ""
            },
            "type": "contourcarpet"
           }
          ],
          "heatmap": [
           {
            "colorbar": {
             "outlinewidth": 0,
             "ticks": ""
            },
            "colorscale": [
             [
              0,
              "#0d0887"
             ],
             [
              0.1111111111111111,
              "#46039f"
             ],
             [
              0.2222222222222222,
              "#7201a8"
             ],
             [
              0.3333333333333333,
              "#9c179e"
             ],
             [
              0.4444444444444444,
              "#bd3786"
             ],
             [
              0.5555555555555556,
              "#d8576b"
             ],
             [
              0.6666666666666666,
              "#ed7953"
             ],
             [
              0.7777777777777778,
              "#fb9f3a"
             ],
             [
              0.8888888888888888,
              "#fdca26"
             ],
             [
              1,
              "#f0f921"
             ]
            ],
            "type": "heatmap"
           }
          ],
          "heatmapgl": [
           {
            "colorbar": {
             "outlinewidth": 0,
             "ticks": ""
            },
            "colorscale": [
             [
              0,
              "#0d0887"
             ],
             [
              0.1111111111111111,
              "#46039f"
             ],
             [
              0.2222222222222222,
              "#7201a8"
             ],
             [
              0.3333333333333333,
              "#9c179e"
             ],
             [
              0.4444444444444444,
              "#bd3786"
             ],
             [
              0.5555555555555556,
              "#d8576b"
             ],
             [
              0.6666666666666666,
              "#ed7953"
             ],
             [
              0.7777777777777778,
              "#fb9f3a"
             ],
             [
              0.8888888888888888,
              "#fdca26"
             ],
             [
              1,
              "#f0f921"
             ]
            ],
            "type": "heatmapgl"
           }
          ],
          "histogram": [
           {
            "marker": {
             "pattern": {
              "fillmode": "overlay",
              "size": 10,
              "solidity": 0.2
             }
            },
            "type": "histogram"
           }
          ],
          "histogram2d": [
           {
            "colorbar": {
             "outlinewidth": 0,
             "ticks": ""
            },
            "colorscale": [
             [
              0,
              "#0d0887"
             ],
             [
              0.1111111111111111,
              "#46039f"
             ],
             [
              0.2222222222222222,
              "#7201a8"
             ],
             [
              0.3333333333333333,
              "#9c179e"
             ],
             [
              0.4444444444444444,
              "#bd3786"
             ],
             [
              0.5555555555555556,
              "#d8576b"
             ],
             [
              0.6666666666666666,
              "#ed7953"
             ],
             [
              0.7777777777777778,
              "#fb9f3a"
             ],
             [
              0.8888888888888888,
              "#fdca26"
             ],
             [
              1,
              "#f0f921"
             ]
            ],
            "type": "histogram2d"
           }
          ],
          "histogram2dcontour": [
           {
            "colorbar": {
             "outlinewidth": 0,
             "ticks": ""
            },
            "colorscale": [
             [
              0,
              "#0d0887"
             ],
             [
              0.1111111111111111,
              "#46039f"
             ],
             [
              0.2222222222222222,
              "#7201a8"
             ],
             [
              0.3333333333333333,
              "#9c179e"
             ],
             [
              0.4444444444444444,
              "#bd3786"
             ],
             [
              0.5555555555555556,
              "#d8576b"
             ],
             [
              0.6666666666666666,
              "#ed7953"
             ],
             [
              0.7777777777777778,
              "#fb9f3a"
             ],
             [
              0.8888888888888888,
              "#fdca26"
             ],
             [
              1,
              "#f0f921"
             ]
            ],
            "type": "histogram2dcontour"
           }
          ],
          "mesh3d": [
           {
            "colorbar": {
             "outlinewidth": 0,
             "ticks": ""
            },
            "type": "mesh3d"
           }
          ],
          "parcoords": [
           {
            "line": {
             "colorbar": {
              "outlinewidth": 0,
              "ticks": ""
             }
            },
            "type": "parcoords"
           }
          ],
          "pie": [
           {
            "automargin": true,
            "type": "pie"
           }
          ],
          "scatter": [
           {
            "fillpattern": {
             "fillmode": "overlay",
             "size": 10,
             "solidity": 0.2
            },
            "type": "scatter"
           }
          ],
          "scatter3d": [
           {
            "line": {
             "colorbar": {
              "outlinewidth": 0,
              "ticks": ""
             }
            },
            "marker": {
             "colorbar": {
              "outlinewidth": 0,
              "ticks": ""
             }
            },
            "type": "scatter3d"
           }
          ],
          "scattercarpet": [
           {
            "marker": {
             "colorbar": {
              "outlinewidth": 0,
              "ticks": ""
             }
            },
            "type": "scattercarpet"
           }
          ],
          "scattergeo": [
           {
            "marker": {
             "colorbar": {
              "outlinewidth": 0,
              "ticks": ""
             }
            },
            "type": "scattergeo"
           }
          ],
          "scattergl": [
           {
            "marker": {
             "colorbar": {
              "outlinewidth": 0,
              "ticks": ""
             }
            },
            "type": "scattergl"
           }
          ],
          "scattermapbox": [
           {
            "marker": {
             "colorbar": {
              "outlinewidth": 0,
              "ticks": ""
             }
            },
            "type": "scattermapbox"
           }
          ],
          "scatterpolar": [
           {
            "marker": {
             "colorbar": {
              "outlinewidth": 0,
              "ticks": ""
             }
            },
            "type": "scatterpolar"
           }
          ],
          "scatterpolargl": [
           {
            "marker": {
             "colorbar": {
              "outlinewidth": 0,
              "ticks": ""
             }
            },
            "type": "scatterpolargl"
           }
          ],
          "scatterternary": [
           {
            "marker": {
             "colorbar": {
              "outlinewidth": 0,
              "ticks": ""
             }
            },
            "type": "scatterternary"
           }
          ],
          "surface": [
           {
            "colorbar": {
             "outlinewidth": 0,
             "ticks": ""
            },
            "colorscale": [
             [
              0,
              "#0d0887"
             ],
             [
              0.1111111111111111,
              "#46039f"
             ],
             [
              0.2222222222222222,
              "#7201a8"
             ],
             [
              0.3333333333333333,
              "#9c179e"
             ],
             [
              0.4444444444444444,
              "#bd3786"
             ],
             [
              0.5555555555555556,
              "#d8576b"
             ],
             [
              0.6666666666666666,
              "#ed7953"
             ],
             [
              0.7777777777777778,
              "#fb9f3a"
             ],
             [
              0.8888888888888888,
              "#fdca26"
             ],
             [
              1,
              "#f0f921"
             ]
            ],
            "type": "surface"
           }
          ],
          "table": [
           {
            "cells": {
             "fill": {
              "color": "#EBF0F8"
             },
             "line": {
              "color": "white"
             }
            },
            "header": {
             "fill": {
              "color": "#C8D4E3"
             },
             "line": {
              "color": "white"
             }
            },
            "type": "table"
           }
          ]
         },
         "layout": {
          "annotationdefaults": {
           "arrowcolor": "#2a3f5f",
           "arrowhead": 0,
           "arrowwidth": 1
          },
          "autotypenumbers": "strict",
          "coloraxis": {
           "colorbar": {
            "outlinewidth": 0,
            "ticks": ""
           }
          },
          "colorscale": {
           "diverging": [
            [
             0,
             "#8e0152"
            ],
            [
             0.1,
             "#c51b7d"
            ],
            [
             0.2,
             "#de77ae"
            ],
            [
             0.3,
             "#f1b6da"
            ],
            [
             0.4,
             "#fde0ef"
            ],
            [
             0.5,
             "#f7f7f7"
            ],
            [
             0.6,
             "#e6f5d0"
            ],
            [
             0.7,
             "#b8e186"
            ],
            [
             0.8,
             "#7fbc41"
            ],
            [
             0.9,
             "#4d9221"
            ],
            [
             1,
             "#276419"
            ]
           ],
           "sequential": [
            [
             0,
             "#0d0887"
            ],
            [
             0.1111111111111111,
             "#46039f"
            ],
            [
             0.2222222222222222,
             "#7201a8"
            ],
            [
             0.3333333333333333,
             "#9c179e"
            ],
            [
             0.4444444444444444,
             "#bd3786"
            ],
            [
             0.5555555555555556,
             "#d8576b"
            ],
            [
             0.6666666666666666,
             "#ed7953"
            ],
            [
             0.7777777777777778,
             "#fb9f3a"
            ],
            [
             0.8888888888888888,
             "#fdca26"
            ],
            [
             1,
             "#f0f921"
            ]
           ],
           "sequentialminus": [
            [
             0,
             "#0d0887"
            ],
            [
             0.1111111111111111,
             "#46039f"
            ],
            [
             0.2222222222222222,
             "#7201a8"
            ],
            [
             0.3333333333333333,
             "#9c179e"
            ],
            [
             0.4444444444444444,
             "#bd3786"
            ],
            [
             0.5555555555555556,
             "#d8576b"
            ],
            [
             0.6666666666666666,
             "#ed7953"
            ],
            [
             0.7777777777777778,
             "#fb9f3a"
            ],
            [
             0.8888888888888888,
             "#fdca26"
            ],
            [
             1,
             "#f0f921"
            ]
           ]
          },
          "colorway": [
           "#636efa",
           "#EF553B",
           "#00cc96",
           "#ab63fa",
           "#FFA15A",
           "#19d3f3",
           "#FF6692",
           "#B6E880",
           "#FF97FF",
           "#FECB52"
          ],
          "font": {
           "color": "#2a3f5f"
          },
          "geo": {
           "bgcolor": "white",
           "lakecolor": "white",
           "landcolor": "#E5ECF6",
           "showlakes": true,
           "showland": true,
           "subunitcolor": "white"
          },
          "hoverlabel": {
           "align": "left"
          },
          "hovermode": "closest",
          "mapbox": {
           "style": "light"
          },
          "paper_bgcolor": "white",
          "plot_bgcolor": "#E5ECF6",
          "polar": {
           "angularaxis": {
            "gridcolor": "white",
            "linecolor": "white",
            "ticks": ""
           },
           "bgcolor": "#E5ECF6",
           "radialaxis": {
            "gridcolor": "white",
            "linecolor": "white",
            "ticks": ""
           }
          },
          "scene": {
           "xaxis": {
            "backgroundcolor": "#E5ECF6",
            "gridcolor": "white",
            "gridwidth": 2,
            "linecolor": "white",
            "showbackground": true,
            "ticks": "",
            "zerolinecolor": "white"
           },
           "yaxis": {
            "backgroundcolor": "#E5ECF6",
            "gridcolor": "white",
            "gridwidth": 2,
            "linecolor": "white",
            "showbackground": true,
            "ticks": "",
            "zerolinecolor": "white"
           },
           "zaxis": {
            "backgroundcolor": "#E5ECF6",
            "gridcolor": "white",
            "gridwidth": 2,
            "linecolor": "white",
            "showbackground": true,
            "ticks": "",
            "zerolinecolor": "white"
           }
          },
          "shapedefaults": {
           "line": {
            "color": "#2a3f5f"
           }
          },
          "ternary": {
           "aaxis": {
            "gridcolor": "white",
            "linecolor": "white",
            "ticks": ""
           },
           "baxis": {
            "gridcolor": "white",
            "linecolor": "white",
            "ticks": ""
           },
           "bgcolor": "#E5ECF6",
           "caxis": {
            "gridcolor": "white",
            "linecolor": "white",
            "ticks": ""
           }
          },
          "title": {
           "x": 0.05
          },
          "xaxis": {
           "automargin": true,
           "gridcolor": "white",
           "linecolor": "white",
           "ticks": "",
           "title": {
            "standoff": 15
           },
           "zerolinecolor": "white",
           "zerolinewidth": 2
          },
          "yaxis": {
           "automargin": true,
           "gridcolor": "white",
           "linecolor": "white",
           "ticks": "",
           "title": {
            "standoff": 15
           },
           "zerolinecolor": "white",
           "zerolinewidth": 2
          }
         }
        }
       }
      },
      "text/html": [
       "<div>                            <div id=\"e8e12cac-251c-4bfa-aa40-3407edbe7cdb\" class=\"plotly-graph-div\" style=\"height:525px; width:100%;\"></div>            <script type=\"text/javascript\">                require([\"plotly\"], function(Plotly) {                    window.PLOTLYENV=window.PLOTLYENV || {};                                    if (document.getElementById(\"e8e12cac-251c-4bfa-aa40-3407edbe7cdb\")) {                    Plotly.newPlot(                        \"e8e12cac-251c-4bfa-aa40-3407edbe7cdb\",                        [{\"hovertemplate\":\"abs_lam_diff=%{x}<br>ered=%{y}<br>gsol=%{z}<br>size=%{marker.size}<extra></extra>\",\"legendgroup\":\"\",\"marker\":{\"color\":\"#636efa\",\"size\":[10,10,10,10,10,10,10,10,10,10,10,2,2,2,2,2,2,2,2,2,2,2,2,2,2,2,2,2,2,2,2,2,2,2,2,2,2,2,2,2,2,2,2,2,2,2,2,2,2,2,2,2,2,2,2,2,2,2,2,2,2,2,2,2,2,2,2,2,2,2,2,2,2,2,2,2,2,2,2,2,2,2,2,2,2,2,2,2,2,2,2,2,2,2,2,2,2,2,2,2,2,2,2,2,2,2,2,2,2,2,2,2,2,2,2,2,2,2,2,2,2,2,2,2,2,2,2,2,2,2,2,2,2,2,2,2,2,2,2,2,2,2,2,2,2,2,2,2,2,2,2,2,2,2,2,2,2,2,2,2,2,2,2,2,2,2,2,2,2,2,2,2,2,2,2,2,2,2,2,2,2,2,2,2,2,2,2,2,2,2,2,2,2,2,2,2,2,2,2,2],\"sizemode\":\"area\",\"sizeref\":0.025,\"symbol\":\"circle\"},\"mode\":\"markers\",\"name\":\"\",\"scene\":\"scene\",\"showlegend\":false,\"x\":[1.8899999999999864,0.0299999999999727,3.089999999999975,13.310000000000002,3.850000000000023,4.170000000000016,18.970000000000027,8.720000000000027,2.730000000000018,0.3700000000000045,0.2900000000000204,56.410000000000025,10.0,25.75,41.30000000000001,23.160000000000025,36.610000000000014,39.95999999999998,63.920000000000016,51.75999999999999,28.19999999999999,28.73000000000001,11.939999999999998,26.73000000000001,18.920000000000016,5.279999999999973,12.29000000000002,4.639999999999986,3.6100000000000136,15.20999999999998,13.970000000000027,8.339999999999975,39.44999999999999,0.3000000000000113,10.439999999999998,24.32,13.740000000000007,2.839999999999975,20.70999999999998,5.5400000000000205,3.8100000000000014,24.79000000000002,37.610000000000014,27.75999999999999,8.670000000000016,6.5,13.850000000000025,3.879999999999996,3.4399999999999977,23.49000000000001,58.24000000000001,6.610000000000014,17.0,41.160000000000025,14.529999999999973,7.2099999999999795,14.70999999999998,22.120000000000005,4.269999999999982,9.279999999999973,11.889999999999986,10.009999999999993,9.949999999999989,16.50999999999999,39.160000000000025,25.19999999999999,29.910000000000025,19.29000000000002,69.62,1.7099999999999795,7.529999999999973,13.45999999999998,6.230000000000018,3.480000000000018,9.25,6.189999999999998,15.569999999999991,18.410000000000025,27.829999999999984,10.0,6.720000000000027,17.519999999999982,25.54000000000002,5.879999999999996,27.33999999999997,60.06999999999999,6.889999999999986,17.529999999999973,7.850000000000023,49.339999999999975,24.83999999999997,20.329999999999984,11.829999999999984,15.680000000000009,9.649999999999975,3.3100000000000023,61.01999999999998,1.079999999999984,30.25999999999999,12.199999999999989,14.79000000000002,6.720000000000027,16.319999999999993,6.569999999999993,10.829999999999984,21.779999999999973,15.389999999999986,52.22000000000003,28.100000000000023,65.01999999999998,12.220000000000027,28.860000000000014,18.69,15.019999999999982,11.079999999999984,48.52999999999997,10.259999999999993,33.44999999999999,13.810000000000002,31.410000000000025,8.259999999999991,7.339999999999975,31.56,9.360000000000014,21.139999999999983,30.30000000000001,14.350000000000025,31.30000000000001,42.60000000000002,7.620000000000003,11.389999999999986,68.60000000000002,12.649999999999975,29.49000000000001,40.97000000000003,10.529999999999973,44.81999999999999,7.009999999999991,1.7200000000000273,29.610000000000014,9.470000000000027,7.990000000000009,17.589999999999975,29.33999999999997,32.47000000000003,8.5,8.889999999999986,45.97000000000003,16.279999999999973,15.800000000000011,58.81999999999999,39.170000000000016,26.44999999999999,11.930000000000009,7.620000000000003,24.470000000000027,25.95999999999998,37.52999999999997,13.699999999999989,0.8600000000000136,36.370000000000005,7.529999999999973,56.05000000000001,27.769999999999985,1.3000000000000114,24.329999999999984,25.360000000000014,28.600000000000023,10.600000000000025,16.410000000000025,38.64999999999998,2.980000000000018,17.20999999999998,5.970000000000027,6.410000000000025,46.06,5.490000000000009,28.55000000000001,8.029999999999973,7.170000000000016,13.410000000000023,5.779999999999973,15.70999999999998,27.55000000000001,8.829999999999984,11.879999999999995,13.610000000000014,22.160000000000025,1.9800000000000184,66.95999999999998,39.170000000000016,11.379999999999995,7.399999999999977,14.579999999999984,18.82,24.079999999999984,15.560000000000002,43.910000000000025,45.95999999999998,58.39999999999998],\"y\":[2.07597386,2.11488416,1.67147,1.89361244,1.63933499,1.54135178,1.74588935,2.04979784,1.73761751,1.64455931,1.65087203,2.71755845,2.24247185,2.87899538,2.58779396,2.38244009,2.12138735,1.68412265,1.96362377,2.04465515,2.1209792,2.21681282,2.25139673,1.98133748,2.03692751,2.20252757,1.70814908,1.85021249,2.04421979,1.79576528,1.66627289,1.79345243,1.98117422,1.83562793,1.89110912,1.99442549,1.77228305,2.09243591,1.91230571,1.61558066,1.8314648,1.77609245,1.66725245,1.8766334,1.97978651,2.02745843,1.92621002,2.02400276,1.92365228,1.85228045,1.70787698,2.04269603,1.88368079,2.03534933,1.91048264,1.96691618,1.87562663,2.17768484,1.80392828,1.99075214,1.96917461,1.72499207,1.85538239,2.0328188,2.11300667,1.8028943,2.15980787,1.92895823,2.17727669,1.85769524,1.74882803,1.79016002,1.67353796,1.78488128,1.67829971,1.88449709,2.03371673,2.046968,2.05981112,1.76175278,1.67737457,1.8548654,2.35033229,2.15137277,2.0883272,2.05099508,1.8464303,1.79279939,2.10696605,2.49468134,1.99314662,1.93448186,1.94517539,1.72880147,1.96577336,2.20225547,2.47397453,1.82131547,1.72406693,1.96966439,1.9079249,2.17752158,1.88381684,1.78939814,1.88776229,2.38333802,1.9169042,2.25436262,2.14252952,1.80411875,1.921802,2.23123412,2.12440766,1.9841129,2.39435807,2.34418283,1.84945061,1.92474068,1.99584041,2.06971556,2.32132643,1.78313984,1.66782386,2.00547275,1.95956948,1.97222213,1.98977258,1.96011368,1.99031678,1.85426678,1.69620389,1.8559538,1.93791032,2.1332237,2.54912855,1.64967479,2.35125743,1.88863301,2.11959149,1.86882413,1.99311941,1.95434516,1.84569563,2.09752418,1.76376632,2.03823359,1.87304168,2.23624076,2.08079003,2.18897699,2.10179615,1.67182373,2.28663368,2.06367494,2.13798545,2.07638201,1.85796734,2.33939387,2.14135949,2.16655595,2.20867703,1.96639919,2.22483977,2.03153993,1.9563587,2.31972104,1.98694274,1.95374654,1.88623853,2.0875109,2.27025326,1.96784132,1.86169511,2.02264226,2.28494666,1.98811277,1.8665657,2.0654708,2.26067534,2.03382557,2.06005601,2.00871074,2.43694172,2.0262884,2.08745648,2.08163354,2.34810107,2.31953057,2.30611604,2.16930416,2.3315846,1.89829256,1.77900392,1.79522108,2.02332251,1.92218294,2.11991801,2.06288585,1.77342587,2.44496867],\"z\":[-0.77216538,-0.74645193,-0.86895135,-1.12801776,-0.6761685,-0.93686751,-1.09188288,-1.0881279,-0.83368719,-0.74144529,-0.74694171,-0.62536743,-0.45998505,-0.86288352,-0.56311095,-0.80721186,-0.73110549,-0.68180097,-0.7115415,-0.88739973,-0.73978548,-0.69369174,-0.59306916,-0.74860152,-0.77393403,-0.87474708,-0.67597803,-0.7343979,-0.71257548,-0.75856038,-0.8187489,-0.63497256,-1.01664723,-0.71404482,-0.72481998,-0.76582545,-0.69774603,-0.63919011,-0.92396997,-0.86304678,-0.65344815,-0.83213622,-0.78723972,-0.72873822,-0.60136821,-0.64253694,-0.68125677,-0.69061701,-0.7738524,-0.70843956,-0.6968481,-0.61320456,-0.72745935,-0.740112,-0.6247416,-0.47261049,-0.80691255,-0.60966726,-0.78753903,-0.50983377,-0.77687271,-0.77387961,-0.85172742,-0.6225648,-0.70977285,-0.73208505,-0.75981204,-0.65372025,-0.60716394,-0.6048783,-0.80201475,-0.83069409,-0.59013048,-0.69238566,-0.76022019,-0.70267104,-0.83692518,-1.00290618,-0.92848683,-0.85591776,-0.91156221,-0.87686946,-1.04761221,-0.73986711,-0.80745675,-0.54384627,-0.76653291,-0.7580706,-0.6369861,-0.63132642,-1.12007244,-1.03430652,-0.79518504,-0.74737707,-0.69559644,-0.70849398,-0.59149098,-0.70307919,-0.80059983,-0.73589445,-0.63674121,-0.57679758,-0.55307046,-0.60849723,-0.59992608,-0.54025455,-0.50096331,-0.54278508,-0.52564278,-0.64675449,-0.5763078,-0.54425442,-0.79295382,-0.62604768,-0.61404807,-0.70955517,-0.69072585,-0.72201735,-0.75891411,-0.74860152,-0.43680213,-0.60482388,-0.70313361,-0.75679173,-0.65366583,-0.67747458,-0.67339308,-0.77061441,-0.76016577,-0.72941847,-0.78794718,-0.61769421,-0.86650245,-0.7441935,-0.50724882,-0.55606356,-0.77855973,-0.70903818,-0.72043917,-0.84353721,-0.74008479,-0.73377207,-0.57334191,-0.48556245,-0.74849268,-0.62387088,-0.73420743,-0.69464409,-0.60740883,-0.40254474,-0.51818724,-0.82176921,-0.7888179,-0.67543383,-0.511548,-0.47067858,-0.5458326,-0.5202552,-0.86974044,-0.65970645,-0.56147835,-0.55336977,-0.68876673,-0.61233384,-0.53149293,-0.8930322,-1.07566572,-0.64525794,-0.79485852,-0.45538656,-0.52490811,-0.61238826,-0.62063289,-0.61524531,-0.57472962,-0.48686853,-0.70697022,-0.71132382,-0.72019428,-0.55981854,-0.44376789,-0.51029634,-0.55366908,-0.73741821,-0.66988299,-0.83434023,-0.48564408,-0.6190275,-0.541479,-0.43321041,-0.71611278,-0.62553069,-0.51421458,-0.67510731,-0.64833267,-0.4552233,-0.62479602,-0.64065945,-0.53845869,-0.79298103],\"type\":\"scatter3d\"},{\"color\":\"blue\",\"opacity\":0.2,\"x\":[1.8899999999999864,0.0299999999999727,3.089999999999975,13.310000000000002,3.850000000000023,4.170000000000016,18.970000000000027,8.720000000000027,2.730000000000018,0.3700000000000045,0.2900000000000204],\"y\":[2.07597386,2.11488416,1.67147,1.89361244,1.63933499,1.54135178,1.74588935,2.04979784,1.73761751,1.64455931,1.65087203],\"z\":[-0.77216538,-0.74645193,-0.86895135,-1.12801776,-0.6761685,-0.93686751,-1.09188288,-1.0881279,-0.83368719,-0.74144529,-0.74694171],\"type\":\"mesh3d\"}],                        {\"template\":{\"data\":{\"histogram2dcontour\":[{\"type\":\"histogram2dcontour\",\"colorbar\":{\"outlinewidth\":0,\"ticks\":\"\"},\"colorscale\":[[0.0,\"#0d0887\"],[0.1111111111111111,\"#46039f\"],[0.2222222222222222,\"#7201a8\"],[0.3333333333333333,\"#9c179e\"],[0.4444444444444444,\"#bd3786\"],[0.5555555555555556,\"#d8576b\"],[0.6666666666666666,\"#ed7953\"],[0.7777777777777778,\"#fb9f3a\"],[0.8888888888888888,\"#fdca26\"],[1.0,\"#f0f921\"]]}],\"choropleth\":[{\"type\":\"choropleth\",\"colorbar\":{\"outlinewidth\":0,\"ticks\":\"\"}}],\"histogram2d\":[{\"type\":\"histogram2d\",\"colorbar\":{\"outlinewidth\":0,\"ticks\":\"\"},\"colorscale\":[[0.0,\"#0d0887\"],[0.1111111111111111,\"#46039f\"],[0.2222222222222222,\"#7201a8\"],[0.3333333333333333,\"#9c179e\"],[0.4444444444444444,\"#bd3786\"],[0.5555555555555556,\"#d8576b\"],[0.6666666666666666,\"#ed7953\"],[0.7777777777777778,\"#fb9f3a\"],[0.8888888888888888,\"#fdca26\"],[1.0,\"#f0f921\"]]}],\"heatmap\":[{\"type\":\"heatmap\",\"colorbar\":{\"outlinewidth\":0,\"ticks\":\"\"},\"colorscale\":[[0.0,\"#0d0887\"],[0.1111111111111111,\"#46039f\"],[0.2222222222222222,\"#7201a8\"],[0.3333333333333333,\"#9c179e\"],[0.4444444444444444,\"#bd3786\"],[0.5555555555555556,\"#d8576b\"],[0.6666666666666666,\"#ed7953\"],[0.7777777777777778,\"#fb9f3a\"],[0.8888888888888888,\"#fdca26\"],[1.0,\"#f0f921\"]]}],\"heatmapgl\":[{\"type\":\"heatmapgl\",\"colorbar\":{\"outlinewidth\":0,\"ticks\":\"\"},\"colorscale\":[[0.0,\"#0d0887\"],[0.1111111111111111,\"#46039f\"],[0.2222222222222222,\"#7201a8\"],[0.3333333333333333,\"#9c179e\"],[0.4444444444444444,\"#bd3786\"],[0.5555555555555556,\"#d8576b\"],[0.6666666666666666,\"#ed7953\"],[0.7777777777777778,\"#fb9f3a\"],[0.8888888888888888,\"#fdca26\"],[1.0,\"#f0f921\"]]}],\"contourcarpet\":[{\"type\":\"contourcarpet\",\"colorbar\":{\"outlinewidth\":0,\"ticks\":\"\"}}],\"contour\":[{\"type\":\"contour\",\"colorbar\":{\"outlinewidth\":0,\"ticks\":\"\"},\"colorscale\":[[0.0,\"#0d0887\"],[0.1111111111111111,\"#46039f\"],[0.2222222222222222,\"#7201a8\"],[0.3333333333333333,\"#9c179e\"],[0.4444444444444444,\"#bd3786\"],[0.5555555555555556,\"#d8576b\"],[0.6666666666666666,\"#ed7953\"],[0.7777777777777778,\"#fb9f3a\"],[0.8888888888888888,\"#fdca26\"],[1.0,\"#f0f921\"]]}],\"surface\":[{\"type\":\"surface\",\"colorbar\":{\"outlinewidth\":0,\"ticks\":\"\"},\"colorscale\":[[0.0,\"#0d0887\"],[0.1111111111111111,\"#46039f\"],[0.2222222222222222,\"#7201a8\"],[0.3333333333333333,\"#9c179e\"],[0.4444444444444444,\"#bd3786\"],[0.5555555555555556,\"#d8576b\"],[0.6666666666666666,\"#ed7953\"],[0.7777777777777778,\"#fb9f3a\"],[0.8888888888888888,\"#fdca26\"],[1.0,\"#f0f921\"]]}],\"mesh3d\":[{\"type\":\"mesh3d\",\"colorbar\":{\"outlinewidth\":0,\"ticks\":\"\"}}],\"scatter\":[{\"fillpattern\":{\"fillmode\":\"overlay\",\"size\":10,\"solidity\":0.2},\"type\":\"scatter\"}],\"parcoords\":[{\"type\":\"parcoords\",\"line\":{\"colorbar\":{\"outlinewidth\":0,\"ticks\":\"\"}}}],\"scatterpolargl\":[{\"type\":\"scatterpolargl\",\"marker\":{\"colorbar\":{\"outlinewidth\":0,\"ticks\":\"\"}}}],\"bar\":[{\"error_x\":{\"color\":\"#2a3f5f\"},\"error_y\":{\"color\":\"#2a3f5f\"},\"marker\":{\"line\":{\"color\":\"#E5ECF6\",\"width\":0.5},\"pattern\":{\"fillmode\":\"overlay\",\"size\":10,\"solidity\":0.2}},\"type\":\"bar\"}],\"scattergeo\":[{\"type\":\"scattergeo\",\"marker\":{\"colorbar\":{\"outlinewidth\":0,\"ticks\":\"\"}}}],\"scatterpolar\":[{\"type\":\"scatterpolar\",\"marker\":{\"colorbar\":{\"outlinewidth\":0,\"ticks\":\"\"}}}],\"histogram\":[{\"marker\":{\"pattern\":{\"fillmode\":\"overlay\",\"size\":10,\"solidity\":0.2}},\"type\":\"histogram\"}],\"scattergl\":[{\"type\":\"scattergl\",\"marker\":{\"colorbar\":{\"outlinewidth\":0,\"ticks\":\"\"}}}],\"scatter3d\":[{\"type\":\"scatter3d\",\"line\":{\"colorbar\":{\"outlinewidth\":0,\"ticks\":\"\"}},\"marker\":{\"colorbar\":{\"outlinewidth\":0,\"ticks\":\"\"}}}],\"scattermapbox\":[{\"type\":\"scattermapbox\",\"marker\":{\"colorbar\":{\"outlinewidth\":0,\"ticks\":\"\"}}}],\"scatterternary\":[{\"type\":\"scatterternary\",\"marker\":{\"colorbar\":{\"outlinewidth\":0,\"ticks\":\"\"}}}],\"scattercarpet\":[{\"type\":\"scattercarpet\",\"marker\":{\"colorbar\":{\"outlinewidth\":0,\"ticks\":\"\"}}}],\"carpet\":[{\"aaxis\":{\"endlinecolor\":\"#2a3f5f\",\"gridcolor\":\"white\",\"linecolor\":\"white\",\"minorgridcolor\":\"white\",\"startlinecolor\":\"#2a3f5f\"},\"baxis\":{\"endlinecolor\":\"#2a3f5f\",\"gridcolor\":\"white\",\"linecolor\":\"white\",\"minorgridcolor\":\"white\",\"startlinecolor\":\"#2a3f5f\"},\"type\":\"carpet\"}],\"table\":[{\"cells\":{\"fill\":{\"color\":\"#EBF0F8\"},\"line\":{\"color\":\"white\"}},\"header\":{\"fill\":{\"color\":\"#C8D4E3\"},\"line\":{\"color\":\"white\"}},\"type\":\"table\"}],\"barpolar\":[{\"marker\":{\"line\":{\"color\":\"#E5ECF6\",\"width\":0.5},\"pattern\":{\"fillmode\":\"overlay\",\"size\":10,\"solidity\":0.2}},\"type\":\"barpolar\"}],\"pie\":[{\"automargin\":true,\"type\":\"pie\"}]},\"layout\":{\"autotypenumbers\":\"strict\",\"colorway\":[\"#636efa\",\"#EF553B\",\"#00cc96\",\"#ab63fa\",\"#FFA15A\",\"#19d3f3\",\"#FF6692\",\"#B6E880\",\"#FF97FF\",\"#FECB52\"],\"font\":{\"color\":\"#2a3f5f\"},\"hovermode\":\"closest\",\"hoverlabel\":{\"align\":\"left\"},\"paper_bgcolor\":\"white\",\"plot_bgcolor\":\"#E5ECF6\",\"polar\":{\"bgcolor\":\"#E5ECF6\",\"angularaxis\":{\"gridcolor\":\"white\",\"linecolor\":\"white\",\"ticks\":\"\"},\"radialaxis\":{\"gridcolor\":\"white\",\"linecolor\":\"white\",\"ticks\":\"\"}},\"ternary\":{\"bgcolor\":\"#E5ECF6\",\"aaxis\":{\"gridcolor\":\"white\",\"linecolor\":\"white\",\"ticks\":\"\"},\"baxis\":{\"gridcolor\":\"white\",\"linecolor\":\"white\",\"ticks\":\"\"},\"caxis\":{\"gridcolor\":\"white\",\"linecolor\":\"white\",\"ticks\":\"\"}},\"coloraxis\":{\"colorbar\":{\"outlinewidth\":0,\"ticks\":\"\"}},\"colorscale\":{\"sequential\":[[0.0,\"#0d0887\"],[0.1111111111111111,\"#46039f\"],[0.2222222222222222,\"#7201a8\"],[0.3333333333333333,\"#9c179e\"],[0.4444444444444444,\"#bd3786\"],[0.5555555555555556,\"#d8576b\"],[0.6666666666666666,\"#ed7953\"],[0.7777777777777778,\"#fb9f3a\"],[0.8888888888888888,\"#fdca26\"],[1.0,\"#f0f921\"]],\"sequentialminus\":[[0.0,\"#0d0887\"],[0.1111111111111111,\"#46039f\"],[0.2222222222222222,\"#7201a8\"],[0.3333333333333333,\"#9c179e\"],[0.4444444444444444,\"#bd3786\"],[0.5555555555555556,\"#d8576b\"],[0.6666666666666666,\"#ed7953\"],[0.7777777777777778,\"#fb9f3a\"],[0.8888888888888888,\"#fdca26\"],[1.0,\"#f0f921\"]],\"diverging\":[[0,\"#8e0152\"],[0.1,\"#c51b7d\"],[0.2,\"#de77ae\"],[0.3,\"#f1b6da\"],[0.4,\"#fde0ef\"],[0.5,\"#f7f7f7\"],[0.6,\"#e6f5d0\"],[0.7,\"#b8e186\"],[0.8,\"#7fbc41\"],[0.9,\"#4d9221\"],[1,\"#276419\"]]},\"xaxis\":{\"gridcolor\":\"white\",\"linecolor\":\"white\",\"ticks\":\"\",\"title\":{\"standoff\":15},\"zerolinecolor\":\"white\",\"automargin\":true,\"zerolinewidth\":2},\"yaxis\":{\"gridcolor\":\"white\",\"linecolor\":\"white\",\"ticks\":\"\",\"title\":{\"standoff\":15},\"zerolinecolor\":\"white\",\"automargin\":true,\"zerolinewidth\":2},\"scene\":{\"xaxis\":{\"backgroundcolor\":\"#E5ECF6\",\"gridcolor\":\"white\",\"linecolor\":\"white\",\"showbackground\":true,\"ticks\":\"\",\"zerolinecolor\":\"white\",\"gridwidth\":2},\"yaxis\":{\"backgroundcolor\":\"#E5ECF6\",\"gridcolor\":\"white\",\"linecolor\":\"white\",\"showbackground\":true,\"ticks\":\"\",\"zerolinecolor\":\"white\",\"gridwidth\":2},\"zaxis\":{\"backgroundcolor\":\"#E5ECF6\",\"gridcolor\":\"white\",\"linecolor\":\"white\",\"showbackground\":true,\"ticks\":\"\",\"zerolinecolor\":\"white\",\"gridwidth\":2}},\"shapedefaults\":{\"line\":{\"color\":\"#2a3f5f\"}},\"annotationdefaults\":{\"arrowcolor\":\"#2a3f5f\",\"arrowhead\":0,\"arrowwidth\":1},\"geo\":{\"bgcolor\":\"white\",\"landcolor\":\"#E5ECF6\",\"subunitcolor\":\"white\",\"showland\":true,\"showlakes\":true,\"lakecolor\":\"white\"},\"title\":{\"x\":0.05},\"mapbox\":{\"style\":\"light\"}}},\"scene\":{\"domain\":{\"x\":[0.0,1.0],\"y\":[0.0,1.0]},\"xaxis\":{\"title\":{\"text\":\"$\\\\Delta_{abs}$ [nm]\"}},\"yaxis\":{\"title\":{\"text\":\"$E^{red}$  [V vs. Li/Li+]\"}},\"zaxis\":{\"title\":{\"text\":\"$G^{solv}$ [eV]\"}}},\"legend\":{\"tracegroupgap\":0,\"itemsizing\":\"constant\"},\"margin\":{\"t\":0,\"l\":0,\"r\":0,\"b\":0}},                        {\"responsive\": true}                    ).then(function(){\n",
       "                            \n",
       "var gd = document.getElementById('e8e12cac-251c-4bfa-aa40-3407edbe7cdb');\n",
       "var x = new MutationObserver(function (mutations, observer) {{\n",
       "        var display = window.getComputedStyle(gd).display;\n",
       "        if (!display || display === 'none') {{\n",
       "            console.log([gd, 'removed!']);\n",
       "            Plotly.purge(gd);\n",
       "            observer.disconnect();\n",
       "        }}\n",
       "}});\n",
       "\n",
       "// Listen for the removal of the full notebook cells\n",
       "var notebookContainer = gd.closest('#notebook-container');\n",
       "if (notebookContainer) {{\n",
       "    x.observe(notebookContainer, {childList: true});\n",
       "}}\n",
       "\n",
       "// Listen for the clearing of the current output cell\n",
       "var outputEl = gd.closest('.output');\n",
       "if (outputEl) {{\n",
       "    x.observe(outputEl, {childList: true});\n",
       "}}\n",
       "\n",
       "                        })                };                });            </script>        </div>"
      ]
     },
     "metadata": {},
     "output_type": "display_data"
    }
   ],
   "source": [
    "fig = px.scatter_3d(df_chi, x='abs_lam_diff', y='ered', z='gsol', size='size')\n",
    "pareto_points = df_chi[df_chi['type']=='front']\n",
    "fig.add_trace(go.Mesh3d(x=pareto_points['abs_lam_diff'].values,\n",
    "                   y=pareto_points['ered'].values,\n",
    "                   z=pareto_points['gsol'].values,\n",
    "                   opacity=0.2,\n",
    "                   color='blue'\n",
    "                  ))\n",
    "fig.update_layout(margin=dict(l=0, r=0, b=0, t=0))\n",
    "\n",
    "fig.update_scenes(xaxis_title_text=r'$\\Delta_{abs}$ [nm]',  \n",
    "                  yaxis_title_text=r'$E^{red}$  [V vs. Li/Li+]',  \n",
    "                  zaxis_title_text=r'$G^{solv}$ [eV]',\n",
    "                  )\n",
    "\n",
    "# axes[0].set_ylabel(r'$\\Delta_{`abs}$ [nm]', fontsize=12)\n",
    "# axes[1].set_ylabel(r'$E^{red}$  [V vs. Li/Li+]', fontsize=12)\n",
    "# axes[2].set_ylabel(r'$G^{solv}$ [eV]', fontsize=12)\n",
    "\n",
    "#fig.write_image(\"chimera_redoxmers_run.png\")\n",
    "fig.show()"
   ]
  },
  {
   "cell_type": "code",
   "execution_count": 50,
   "id": "ed00815e",
   "metadata": {},
   "outputs": [
    {
     "data": {
      "application/vnd.plotly.v1+json": {
       "config": {
        "plotlyServerURL": "https://plot.ly"
       },
       "data": [
        {
         "hovertemplate": "abs_lam_diff=%{x}<br>ered=%{y}<br>gsol=%{z}<br>size=%{marker.size}<extra></extra>",
         "legendgroup": "",
         "marker": {
          "color": "#636efa",
          "size": [
           10,
           10,
           10,
           10,
           10,
           10,
           10,
           10,
           10,
           10,
           10,
           2,
           2,
           2,
           2,
           2,
           2,
           2,
           2,
           2,
           2,
           2,
           2,
           2,
           2,
           2,
           2,
           2,
           2,
           2,
           2,
           2,
           2,
           2,
           2,
           2,
           2,
           2,
           2,
           2,
           2,
           2,
           2,
           2,
           2,
           2,
           2,
           2,
           2,
           2,
           2,
           2,
           2,
           2,
           2,
           2,
           2,
           2,
           2,
           2,
           2,
           2,
           2,
           2,
           2,
           2,
           2,
           2,
           2,
           2,
           2,
           2,
           2,
           2,
           2,
           2,
           2,
           2,
           2,
           2,
           2,
           2,
           2,
           2,
           2,
           2,
           2,
           2,
           2,
           2,
           2,
           2,
           2,
           2,
           2,
           2,
           2,
           2,
           2,
           2,
           2,
           2,
           2,
           2,
           2,
           2,
           2,
           2,
           2,
           2,
           2,
           2,
           2,
           2,
           2,
           2,
           2,
           2,
           2,
           2,
           2,
           2,
           2,
           2,
           2,
           2,
           2,
           2,
           2,
           2,
           2,
           2,
           2,
           2,
           2,
           2,
           2,
           2,
           2,
           2,
           2,
           2,
           2,
           2,
           2,
           2,
           2,
           2,
           2,
           2,
           2,
           2,
           2,
           2,
           2,
           2,
           2,
           2,
           2,
           2,
           2,
           2,
           2,
           2,
           2,
           2,
           2,
           2,
           2,
           2,
           2,
           2,
           2,
           2,
           2,
           2,
           2,
           2,
           2,
           2,
           2,
           2,
           2,
           2,
           2,
           2,
           2,
           2,
           2,
           2,
           2,
           2,
           2,
           2,
           2,
           2,
           2,
           2,
           2,
           2
          ],
          "sizemode": "area",
          "sizeref": 0.025,
          "symbol": "circle"
         },
         "mode": "markers",
         "name": "",
         "scene": "scene",
         "showlegend": false,
         "type": "scatter3d",
         "x": [
          3.089999999999975,
          0.3000000000000113,
          5.279999999999973,
          20.70999999999998,
          21.879999999999995,
          0.5,
          0.0199999999999818,
          1.8199999999999927,
          8.649999999999977,
          0.0299999999999727,
          5.5400000000000205,
          16.100000000000023,
          50.30000000000001,
          70.82999999999998,
          6.439999999999998,
          43.00999999999999,
          39.95999999999998,
          63.920000000000016,
          51.75999999999999,
          36.93000000000001,
          53.79000000000002,
          11.680000000000009,
          27.970000000000027,
          17.79000000000002,
          17.20999999999998,
          13.829999999999984,
          13.410000000000023,
          8.670000000000016,
          25.19999999999999,
          3.470000000000028,
          26.73000000000001,
          31.44999999999999,
          33.31999999999999,
          1.0600000000000025,
          17.589999999999975,
          34.629999999999995,
          2.5299999999999727,
          44.63999999999999,
          0.8199999999999932,
          7.620000000000003,
          24.74000000000001,
          27.930000000000007,
          17.410000000000025,
          10.439999999999998,
          13.970000000000027,
          6.5,
          8.5,
          6.410000000000025,
          8.990000000000009,
          3.6100000000000136,
          7.399999999999977,
          5.490000000000009,
          3.069999999999993,
          12.810000000000002,
          15.519999999999982,
          3.25,
          2.1899999999999977,
          33.69999999999999,
          30.81,
          34.48000000000002,
          10,
          1.490000000000009,
          14.009999999999993,
          2.579999999999984,
          0.2400000000000091,
          0.6100000000000136,
          8.20999999999998,
          3.550000000000012,
          8.050000000000011,
          21.44,
          4.180000000000007,
          25.660000000000025,
          1.9499999999999889,
          10.25,
          68.94,
          14.180000000000009,
          5.970000000000027,
          15.70999999999998,
          23.30000000000001,
          5.589999999999975,
          10.399999999999975,
          49.360000000000014,
          11.610000000000014,
          11.439999999999998,
          14.259999999999993,
          2.839999999999975,
          13.569999999999991,
          10.589999999999977,
          6.180000000000007,
          4.910000000000025,
          3.25,
          8.939999999999998,
          10.339999999999977,
          6.350000000000023,
          16.370000000000005,
          7.009999999999991,
          7.1200000000000045,
          11,
          5.480000000000018,
          0.4800000000000182,
          25.95999999999998,
          6.089999999999975,
          8.060000000000002,
          28.98000000000001,
          9.730000000000018,
          8.449999999999989,
          11.930000000000009,
          17.139999999999986,
          14.439999999999998,
          2.3500000000000227,
          45.38999999999999,
          30.25999999999999,
          3.920000000000016,
          3.740000000000009,
          10.949999999999989,
          8.939999999999998,
          7.550000000000011,
          9.839999999999977,
          8.990000000000009,
          1.7200000000000273,
          7.889999999999986,
          34.74000000000001,
          1.240000000000009,
          2.180000000000007,
          19.329999999999984,
          22.110000000000014,
          18.31,
          13.29000000000002,
          16.189999999999998,
          65.61000000000001,
          41.56,
          21.779999999999973,
          13.850000000000025,
          18.82,
          15.560000000000002,
          16.410000000000025,
          19.95999999999998,
          12.699999999999989,
          24.70999999999998,
          8.819999999999993,
          14.350000000000025,
          7.529999999999973,
          24.829999999999984,
          3.8100000000000014,
          15.800000000000011,
          11.079999999999984,
          6.610000000000014,
          12.560000000000002,
          14.379999999999995,
          22.49000000000001,
          14.45999999999998,
          7.589999999999975,
          3.329999999999984,
          24.79000000000002,
          8.54000000000002,
          1.9800000000000184,
          5.779999999999973,
          5.95999999999998,
          24.19999999999999,
          7.079999999999984,
          0.9499999999999886,
          11.519999999999982,
          11.370000000000005,
          24.470000000000027,
          13.259999999999993,
          23.879999999999995,
          15.45999999999998,
          8.490000000000009,
          28.860000000000014,
          8.300000000000011,
          32.77999999999997,
          7.9599999999999795,
          31.06,
          17.910000000000025,
          20.860000000000014,
          8.339999999999975,
          21.600000000000023,
          17.5,
          37.660000000000025,
          32.25,
          29.399999999999977,
          28.629999999999995,
          9.490000000000007,
          22.029999999999973,
          6.970000000000027,
          53.370000000000005,
          1.5600000000000025,
          9.050000000000011,
          11.569999999999991,
          15.860000000000014,
          9.949999999999989,
          11.920000000000016,
          23.74000000000001,
          12.420000000000016,
          11.779999999999973,
          30.50999999999999,
          11.310000000000002,
          31.58999999999997,
          15.259999999999993,
          8.519999999999982
         ],
         "y": [
          1.67147,
          1.83562793,
          2.20252757,
          1.91230571,
          2.07967442,
          2.3740322,
          2.12783612,
          1.91638721,
          2.35732526,
          2.11488416,
          1.61558066,
          2.25844412,
          2.34021017,
          2.42839778,
          2.27621225,
          2.41092896,
          1.68412265,
          1.96362377,
          2.04465515,
          1.7316041,
          1.84422629,
          2.4309011,
          2.36459033,
          2.48031446,
          1.86169511,
          2.0616614,
          2.06005601,
          1.97978651,
          1.8028943,
          2.25700199,
          1.98133748,
          2.16799808,
          2.37952862,
          2.131319,
          1.84569563,
          2.38426316,
          2.29542251,
          2.41098338,
          2.33041457,
          2.13798545,
          2.13110132,
          2.07232772,
          2.35337981,
          1.89110912,
          1.66627289,
          2.02745843,
          2.03823359,
          2.28494666,
          2.38649438,
          2.04421979,
          2.02416602,
          1.8665657,
          2.261927,
          2.15382167,
          2.1228839,
          2.45109092,
          2.47299497,
          2.11632629,
          2.31294575,
          2.17145375,
          2.24247185,
          2.51141549,
          2.45544452,
          2.51585072,
          2.25134231,
          2.0483285,
          2.28293312,
          2.25153278,
          1.97608595,
          1.86659291,
          2.52134714,
          2.42213948,
          2.36780111,
          2.33411513,
          2.02808426,
          1.97926952,
          2.02264226,
          2.43694172,
          2.1740387,
          2.03975735,
          2.52697961,
          1.74496421,
          2.7481697,
          2.06332121,
          1.85543681,
          2.09243591,
          2.35582871,
          2.3228774,
          2.6099429,
          2.41364996,
          2.63739779,
          2.64352004,
          2.63448632,
          2.42469722,
          2.09395967,
          1.88863301,
          2.11357808,
          1.93113503,
          2.35827761,
          2.23240415,
          1.85796734,
          2.39245337,
          2.3936234,
          2.18870489,
          2.71638842,
          2.58779396,
          2.06367494,
          2.14633892,
          2.0371724,
          2.42769032,
          2.72221136,
          1.72406693,
          2.3857325,
          2.00707814,
          2.22674447,
          2.21637746,
          2.183018,
          2.32546235,
          2.3655971,
          2.11959149,
          2.23213205,
          2.11142849,
          2.20429622,
          2.25019949,
          2.26358681,
          2.32793846,
          2.11804052,
          2.32984316,
          2.34908063,
          2.68958657,
          1.77309935,
          2.38333802,
          1.92621002,
          2.02332251,
          2.32894523,
          2.0875109,
          2.31218387,
          2.10514298,
          2.25180488,
          2.15316863,
          1.98977258,
          1.96639919,
          2.10217709,
          1.8314648,
          2.18897699,
          2.39435807,
          2.04269603,
          1.97137862,
          1.86340934,
          1.79704415,
          2.5487204,
          2.00128241,
          1.88430662,
          1.77609245,
          2.27052536,
          2.30611604,
          2.00871074,
          2.37912047,
          1.87070162,
          2.42543189,
          2.63503052,
          2.48425991,
          2.59957589,
          2.07638201,
          2.12013569,
          1.86569498,
          2.03842406,
          2.0554031,
          2.23123412,
          2.11833983,
          1.99434386,
          2.42145923,
          2.08998701,
          2.32788404,
          2.16557639,
          1.79345243,
          1.95167858,
          2.09945609,
          1.96892972,
          2.66526083,
          2.49359294,
          2.37460361,
          2.45285957,
          2.47468199,
          2.51786426,
          2.51185085,
          2.83284722,
          2.71949036,
          2.47489967,
          2.85896882,
          2.62025549,
          2.39291594,
          2.62240508,
          2.53468004,
          2.35071323,
          2.57361755,
          2.51840846,
          2.86677809,
          2.7732029,
          2.2243772
         ],
         "z": [
          -0.86895135,
          -0.71404482,
          -0.87474708,
          -0.92396997,
          -1.00135521,
          -0.83768706,
          -0.75951273,
          -0.81986451,
          -0.94222788,
          -0.74645193,
          -0.86304678,
          -0.59587179,
          -0.65380188,
          -0.58613061,
          -0.81191919,
          -0.43677492,
          -0.68180097,
          -0.7115415,
          -0.88739973,
          -0.71023542,
          -0.74811174,
          -0.65532564,
          -0.68887557,
          -0.63627864,
          -0.62063289,
          -0.62509533,
          -0.44376789,
          -0.60136821,
          -0.73208505,
          -0.55187322,
          -0.74860152,
          -0.49187517,
          -0.43927824,
          -0.47935857,
          -0.57334191,
          -0.57407658,
          -0.59649762,
          -0.49318125,
          -0.64022409,
          -0.511548,
          -0.67241352,
          -0.67693038,
          -0.60757209,
          -0.72481998,
          -0.8187489,
          -0.64253694,
          -0.62387088,
          -0.57472962,
          -0.57173652,
          -0.71257548,
          -0.75749919,
          -0.70697022,
          -0.45854292,
          -0.54879849,
          -0.79676322,
          -0.39587829,
          -0.4369926,
          -0.53764239,
          -0.43838031,
          -0.50806512,
          -0.45998505,
          -0.44967246,
          -0.42795888,
          -0.54893454,
          -0.50071842,
          -0.59494665,
          -0.57497451,
          -0.73556793,
          -0.71186802,
          -0.52292178,
          -0.8358912,
          -0.81888495,
          -0.68751507,
          -0.62542185,
          -0.71543253,
          -0.58422591,
          -0.61524531,
          -0.55366908,
          -0.60362664,
          -0.72335064,
          -0.78947094,
          -0.62207502,
          -0.63587049,
          -0.63788403,
          -0.69752835,
          -0.63919011,
          -0.53473092,
          -0.76305003,
          -0.62354436,
          -0.54885291,
          -0.53078547,
          -0.67358355,
          -0.876162,
          -0.77216538,
          -0.73483326,
          -0.70903818,
          -0.59584458,
          -0.5099154,
          -0.65728476,
          -0.57565476,
          -0.5458326,
          -0.49816068,
          -0.60610275,
          -0.65554332,
          -0.6192996,
          -0.53018685,
          -0.67543383,
          -0.5618865,
          -0.7262349,
          -0.67497126,
          -0.79104912,
          -0.80059983,
          -0.71611278,
          -0.77627409,
          -0.79540272,
          -0.78196098,
          -0.4794402,
          -0.84726498,
          -0.72920079,
          -0.72043917,
          -0.68446755,
          -0.64550283,
          -0.71306526,
          -0.48689574,
          -0.68620899,
          -0.76321329,
          -0.71660256,
          -0.82835403,
          -0.59385825,
          -0.68177376,
          -0.75605706,
          -0.54025455,
          -0.68125677,
          -0.64833267,
          -0.38727993,
          -0.45538656,
          -0.66123021,
          -0.79004235,
          -0.50411967,
          -0.63176178,
          -0.67339308,
          -0.55336977,
          -0.58117839,
          -0.65344815,
          -0.40254474,
          -0.61404807,
          -0.61320456,
          -0.39908907,
          -0.54988689,
          -0.73790799,
          -0.59538201,
          -0.78144399,
          -0.73028919,
          -0.83213622,
          -0.7882737,
          -0.541479,
          -0.51029634,
          -0.55116576,
          -0.60822513,
          -0.78302217,
          -0.6024294,
          -0.54539724,
          -0.51141195,
          -0.47067858,
          -0.73584003,
          -0.8372517,
          -0.68816811,
          -0.55053993,
          -0.54425442,
          -0.70892934,
          -0.69671205,
          -0.80612346,
          -0.51086775,
          -0.75034296,
          -0.74370372,
          -0.63497256,
          -0.68686203,
          -0.69584133,
          -0.75654684,
          -0.57595407,
          -0.68250843,
          -0.60335454,
          -0.5719542,
          -0.78699483,
          -0.45432537,
          -0.56414493,
          -0.62397972,
          -0.70852119,
          -0.69717462,
          -0.61383039,
          -0.49900419,
          -0.89227032,
          -0.75205719,
          -0.78435546,
          -0.78797439,
          -0.49320846,
          -0.70362339,
          -0.71545974,
          -0.87681504,
          -0.68748786
         ]
        },
        {
         "color": "blue",
         "opacity": 0.2,
         "type": "mesh3d",
         "x": [
          3.089999999999975,
          0.3000000000000113,
          5.279999999999973,
          20.70999999999998,
          21.879999999999995,
          0.5,
          0.0199999999999818,
          1.8199999999999927,
          8.649999999999977,
          0.0299999999999727,
          5.5400000000000205
         ],
         "y": [
          1.67147,
          1.83562793,
          2.20252757,
          1.91230571,
          2.07967442,
          2.3740322,
          2.12783612,
          1.91638721,
          2.35732526,
          2.11488416,
          1.61558066
         ],
         "z": [
          -0.86895135,
          -0.71404482,
          -0.87474708,
          -0.92396997,
          -1.00135521,
          -0.83768706,
          -0.75951273,
          -0.81986451,
          -0.94222788,
          -0.74645193,
          -0.86304678
         ]
        }
       ],
       "layout": {
        "legend": {
         "itemsizing": "constant",
         "tracegroupgap": 0
        },
        "margin": {
         "b": 0,
         "l": 0,
         "r": 0,
         "t": 0
        },
        "scene": {
         "domain": {
          "x": [
           0,
           1
          ],
          "y": [
           0,
           1
          ]
         },
         "xaxis": {
          "title": {
           "text": "$\\Delta_{abs}$ [nm]"
          }
         },
         "yaxis": {
          "title": {
           "text": "$E^{red}$  [V vs. Li/Li+]"
          }
         },
         "zaxis": {
          "title": {
           "text": "$G^{solv}$ [eV]"
          }
         }
        },
        "template": {
         "data": {
          "bar": [
           {
            "error_x": {
             "color": "#2a3f5f"
            },
            "error_y": {
             "color": "#2a3f5f"
            },
            "marker": {
             "line": {
              "color": "#E5ECF6",
              "width": 0.5
             },
             "pattern": {
              "fillmode": "overlay",
              "size": 10,
              "solidity": 0.2
             }
            },
            "type": "bar"
           }
          ],
          "barpolar": [
           {
            "marker": {
             "line": {
              "color": "#E5ECF6",
              "width": 0.5
             },
             "pattern": {
              "fillmode": "overlay",
              "size": 10,
              "solidity": 0.2
             }
            },
            "type": "barpolar"
           }
          ],
          "carpet": [
           {
            "aaxis": {
             "endlinecolor": "#2a3f5f",
             "gridcolor": "white",
             "linecolor": "white",
             "minorgridcolor": "white",
             "startlinecolor": "#2a3f5f"
            },
            "baxis": {
             "endlinecolor": "#2a3f5f",
             "gridcolor": "white",
             "linecolor": "white",
             "minorgridcolor": "white",
             "startlinecolor": "#2a3f5f"
            },
            "type": "carpet"
           }
          ],
          "choropleth": [
           {
            "colorbar": {
             "outlinewidth": 0,
             "ticks": ""
            },
            "type": "choropleth"
           }
          ],
          "contour": [
           {
            "colorbar": {
             "outlinewidth": 0,
             "ticks": ""
            },
            "colorscale": [
             [
              0,
              "#0d0887"
             ],
             [
              0.1111111111111111,
              "#46039f"
             ],
             [
              0.2222222222222222,
              "#7201a8"
             ],
             [
              0.3333333333333333,
              "#9c179e"
             ],
             [
              0.4444444444444444,
              "#bd3786"
             ],
             [
              0.5555555555555556,
              "#d8576b"
             ],
             [
              0.6666666666666666,
              "#ed7953"
             ],
             [
              0.7777777777777778,
              "#fb9f3a"
             ],
             [
              0.8888888888888888,
              "#fdca26"
             ],
             [
              1,
              "#f0f921"
             ]
            ],
            "type": "contour"
           }
          ],
          "contourcarpet": [
           {
            "colorbar": {
             "outlinewidth": 0,
             "ticks": ""
            },
            "type": "contourcarpet"
           }
          ],
          "heatmap": [
           {
            "colorbar": {
             "outlinewidth": 0,
             "ticks": ""
            },
            "colorscale": [
             [
              0,
              "#0d0887"
             ],
             [
              0.1111111111111111,
              "#46039f"
             ],
             [
              0.2222222222222222,
              "#7201a8"
             ],
             [
              0.3333333333333333,
              "#9c179e"
             ],
             [
              0.4444444444444444,
              "#bd3786"
             ],
             [
              0.5555555555555556,
              "#d8576b"
             ],
             [
              0.6666666666666666,
              "#ed7953"
             ],
             [
              0.7777777777777778,
              "#fb9f3a"
             ],
             [
              0.8888888888888888,
              "#fdca26"
             ],
             [
              1,
              "#f0f921"
             ]
            ],
            "type": "heatmap"
           }
          ],
          "heatmapgl": [
           {
            "colorbar": {
             "outlinewidth": 0,
             "ticks": ""
            },
            "colorscale": [
             [
              0,
              "#0d0887"
             ],
             [
              0.1111111111111111,
              "#46039f"
             ],
             [
              0.2222222222222222,
              "#7201a8"
             ],
             [
              0.3333333333333333,
              "#9c179e"
             ],
             [
              0.4444444444444444,
              "#bd3786"
             ],
             [
              0.5555555555555556,
              "#d8576b"
             ],
             [
              0.6666666666666666,
              "#ed7953"
             ],
             [
              0.7777777777777778,
              "#fb9f3a"
             ],
             [
              0.8888888888888888,
              "#fdca26"
             ],
             [
              1,
              "#f0f921"
             ]
            ],
            "type": "heatmapgl"
           }
          ],
          "histogram": [
           {
            "marker": {
             "pattern": {
              "fillmode": "overlay",
              "size": 10,
              "solidity": 0.2
             }
            },
            "type": "histogram"
           }
          ],
          "histogram2d": [
           {
            "colorbar": {
             "outlinewidth": 0,
             "ticks": ""
            },
            "colorscale": [
             [
              0,
              "#0d0887"
             ],
             [
              0.1111111111111111,
              "#46039f"
             ],
             [
              0.2222222222222222,
              "#7201a8"
             ],
             [
              0.3333333333333333,
              "#9c179e"
             ],
             [
              0.4444444444444444,
              "#bd3786"
             ],
             [
              0.5555555555555556,
              "#d8576b"
             ],
             [
              0.6666666666666666,
              "#ed7953"
             ],
             [
              0.7777777777777778,
              "#fb9f3a"
             ],
             [
              0.8888888888888888,
              "#fdca26"
             ],
             [
              1,
              "#f0f921"
             ]
            ],
            "type": "histogram2d"
           }
          ],
          "histogram2dcontour": [
           {
            "colorbar": {
             "outlinewidth": 0,
             "ticks": ""
            },
            "colorscale": [
             [
              0,
              "#0d0887"
             ],
             [
              0.1111111111111111,
              "#46039f"
             ],
             [
              0.2222222222222222,
              "#7201a8"
             ],
             [
              0.3333333333333333,
              "#9c179e"
             ],
             [
              0.4444444444444444,
              "#bd3786"
             ],
             [
              0.5555555555555556,
              "#d8576b"
             ],
             [
              0.6666666666666666,
              "#ed7953"
             ],
             [
              0.7777777777777778,
              "#fb9f3a"
             ],
             [
              0.8888888888888888,
              "#fdca26"
             ],
             [
              1,
              "#f0f921"
             ]
            ],
            "type": "histogram2dcontour"
           }
          ],
          "mesh3d": [
           {
            "colorbar": {
             "outlinewidth": 0,
             "ticks": ""
            },
            "type": "mesh3d"
           }
          ],
          "parcoords": [
           {
            "line": {
             "colorbar": {
              "outlinewidth": 0,
              "ticks": ""
             }
            },
            "type": "parcoords"
           }
          ],
          "pie": [
           {
            "automargin": true,
            "type": "pie"
           }
          ],
          "scatter": [
           {
            "fillpattern": {
             "fillmode": "overlay",
             "size": 10,
             "solidity": 0.2
            },
            "type": "scatter"
           }
          ],
          "scatter3d": [
           {
            "line": {
             "colorbar": {
              "outlinewidth": 0,
              "ticks": ""
             }
            },
            "marker": {
             "colorbar": {
              "outlinewidth": 0,
              "ticks": ""
             }
            },
            "type": "scatter3d"
           }
          ],
          "scattercarpet": [
           {
            "marker": {
             "colorbar": {
              "outlinewidth": 0,
              "ticks": ""
             }
            },
            "type": "scattercarpet"
           }
          ],
          "scattergeo": [
           {
            "marker": {
             "colorbar": {
              "outlinewidth": 0,
              "ticks": ""
             }
            },
            "type": "scattergeo"
           }
          ],
          "scattergl": [
           {
            "marker": {
             "colorbar": {
              "outlinewidth": 0,
              "ticks": ""
             }
            },
            "type": "scattergl"
           }
          ],
          "scattermapbox": [
           {
            "marker": {
             "colorbar": {
              "outlinewidth": 0,
              "ticks": ""
             }
            },
            "type": "scattermapbox"
           }
          ],
          "scatterpolar": [
           {
            "marker": {
             "colorbar": {
              "outlinewidth": 0,
              "ticks": ""
             }
            },
            "type": "scatterpolar"
           }
          ],
          "scatterpolargl": [
           {
            "marker": {
             "colorbar": {
              "outlinewidth": 0,
              "ticks": ""
             }
            },
            "type": "scatterpolargl"
           }
          ],
          "scatterternary": [
           {
            "marker": {
             "colorbar": {
              "outlinewidth": 0,
              "ticks": ""
             }
            },
            "type": "scatterternary"
           }
          ],
          "surface": [
           {
            "colorbar": {
             "outlinewidth": 0,
             "ticks": ""
            },
            "colorscale": [
             [
              0,
              "#0d0887"
             ],
             [
              0.1111111111111111,
              "#46039f"
             ],
             [
              0.2222222222222222,
              "#7201a8"
             ],
             [
              0.3333333333333333,
              "#9c179e"
             ],
             [
              0.4444444444444444,
              "#bd3786"
             ],
             [
              0.5555555555555556,
              "#d8576b"
             ],
             [
              0.6666666666666666,
              "#ed7953"
             ],
             [
              0.7777777777777778,
              "#fb9f3a"
             ],
             [
              0.8888888888888888,
              "#fdca26"
             ],
             [
              1,
              "#f0f921"
             ]
            ],
            "type": "surface"
           }
          ],
          "table": [
           {
            "cells": {
             "fill": {
              "color": "#EBF0F8"
             },
             "line": {
              "color": "white"
             }
            },
            "header": {
             "fill": {
              "color": "#C8D4E3"
             },
             "line": {
              "color": "white"
             }
            },
            "type": "table"
           }
          ]
         },
         "layout": {
          "annotationdefaults": {
           "arrowcolor": "#2a3f5f",
           "arrowhead": 0,
           "arrowwidth": 1
          },
          "autotypenumbers": "strict",
          "coloraxis": {
           "colorbar": {
            "outlinewidth": 0,
            "ticks": ""
           }
          },
          "colorscale": {
           "diverging": [
            [
             0,
             "#8e0152"
            ],
            [
             0.1,
             "#c51b7d"
            ],
            [
             0.2,
             "#de77ae"
            ],
            [
             0.3,
             "#f1b6da"
            ],
            [
             0.4,
             "#fde0ef"
            ],
            [
             0.5,
             "#f7f7f7"
            ],
            [
             0.6,
             "#e6f5d0"
            ],
            [
             0.7,
             "#b8e186"
            ],
            [
             0.8,
             "#7fbc41"
            ],
            [
             0.9,
             "#4d9221"
            ],
            [
             1,
             "#276419"
            ]
           ],
           "sequential": [
            [
             0,
             "#0d0887"
            ],
            [
             0.1111111111111111,
             "#46039f"
            ],
            [
             0.2222222222222222,
             "#7201a8"
            ],
            [
             0.3333333333333333,
             "#9c179e"
            ],
            [
             0.4444444444444444,
             "#bd3786"
            ],
            [
             0.5555555555555556,
             "#d8576b"
            ],
            [
             0.6666666666666666,
             "#ed7953"
            ],
            [
             0.7777777777777778,
             "#fb9f3a"
            ],
            [
             0.8888888888888888,
             "#fdca26"
            ],
            [
             1,
             "#f0f921"
            ]
           ],
           "sequentialminus": [
            [
             0,
             "#0d0887"
            ],
            [
             0.1111111111111111,
             "#46039f"
            ],
            [
             0.2222222222222222,
             "#7201a8"
            ],
            [
             0.3333333333333333,
             "#9c179e"
            ],
            [
             0.4444444444444444,
             "#bd3786"
            ],
            [
             0.5555555555555556,
             "#d8576b"
            ],
            [
             0.6666666666666666,
             "#ed7953"
            ],
            [
             0.7777777777777778,
             "#fb9f3a"
            ],
            [
             0.8888888888888888,
             "#fdca26"
            ],
            [
             1,
             "#f0f921"
            ]
           ]
          },
          "colorway": [
           "#636efa",
           "#EF553B",
           "#00cc96",
           "#ab63fa",
           "#FFA15A",
           "#19d3f3",
           "#FF6692",
           "#B6E880",
           "#FF97FF",
           "#FECB52"
          ],
          "font": {
           "color": "#2a3f5f"
          },
          "geo": {
           "bgcolor": "white",
           "lakecolor": "white",
           "landcolor": "#E5ECF6",
           "showlakes": true,
           "showland": true,
           "subunitcolor": "white"
          },
          "hoverlabel": {
           "align": "left"
          },
          "hovermode": "closest",
          "mapbox": {
           "style": "light"
          },
          "paper_bgcolor": "white",
          "plot_bgcolor": "#E5ECF6",
          "polar": {
           "angularaxis": {
            "gridcolor": "white",
            "linecolor": "white",
            "ticks": ""
           },
           "bgcolor": "#E5ECF6",
           "radialaxis": {
            "gridcolor": "white",
            "linecolor": "white",
            "ticks": ""
           }
          },
          "scene": {
           "xaxis": {
            "backgroundcolor": "#E5ECF6",
            "gridcolor": "white",
            "gridwidth": 2,
            "linecolor": "white",
            "showbackground": true,
            "ticks": "",
            "zerolinecolor": "white"
           },
           "yaxis": {
            "backgroundcolor": "#E5ECF6",
            "gridcolor": "white",
            "gridwidth": 2,
            "linecolor": "white",
            "showbackground": true,
            "ticks": "",
            "zerolinecolor": "white"
           },
           "zaxis": {
            "backgroundcolor": "#E5ECF6",
            "gridcolor": "white",
            "gridwidth": 2,
            "linecolor": "white",
            "showbackground": true,
            "ticks": "",
            "zerolinecolor": "white"
           }
          },
          "shapedefaults": {
           "line": {
            "color": "#2a3f5f"
           }
          },
          "ternary": {
           "aaxis": {
            "gridcolor": "white",
            "linecolor": "white",
            "ticks": ""
           },
           "baxis": {
            "gridcolor": "white",
            "linecolor": "white",
            "ticks": ""
           },
           "bgcolor": "#E5ECF6",
           "caxis": {
            "gridcolor": "white",
            "linecolor": "white",
            "ticks": ""
           }
          },
          "title": {
           "x": 0.05
          },
          "xaxis": {
           "automargin": true,
           "gridcolor": "white",
           "linecolor": "white",
           "ticks": "",
           "title": {
            "standoff": 15
           },
           "zerolinecolor": "white",
           "zerolinewidth": 2
          },
          "yaxis": {
           "automargin": true,
           "gridcolor": "white",
           "linecolor": "white",
           "ticks": "",
           "title": {
            "standoff": 15
           },
           "zerolinecolor": "white",
           "zerolinewidth": 2
          }
         }
        }
       }
      },
      "text/html": [
       "<div>                            <div id=\"007090d9-41fb-43b8-9293-e66a392dbc54\" class=\"plotly-graph-div\" style=\"height:525px; width:100%;\"></div>            <script type=\"text/javascript\">                require([\"plotly\"], function(Plotly) {                    window.PLOTLYENV=window.PLOTLYENV || {};                                    if (document.getElementById(\"007090d9-41fb-43b8-9293-e66a392dbc54\")) {                    Plotly.newPlot(                        \"007090d9-41fb-43b8-9293-e66a392dbc54\",                        [{\"hovertemplate\":\"abs_lam_diff=%{x}<br>ered=%{y}<br>gsol=%{z}<br>size=%{marker.size}<extra></extra>\",\"legendgroup\":\"\",\"marker\":{\"color\":\"#636efa\",\"size\":[10,10,10,10,10,10,10,10,10,10,10,2,2,2,2,2,2,2,2,2,2,2,2,2,2,2,2,2,2,2,2,2,2,2,2,2,2,2,2,2,2,2,2,2,2,2,2,2,2,2,2,2,2,2,2,2,2,2,2,2,2,2,2,2,2,2,2,2,2,2,2,2,2,2,2,2,2,2,2,2,2,2,2,2,2,2,2,2,2,2,2,2,2,2,2,2,2,2,2,2,2,2,2,2,2,2,2,2,2,2,2,2,2,2,2,2,2,2,2,2,2,2,2,2,2,2,2,2,2,2,2,2,2,2,2,2,2,2,2,2,2,2,2,2,2,2,2,2,2,2,2,2,2,2,2,2,2,2,2,2,2,2,2,2,2,2,2,2,2,2,2,2,2,2,2,2,2,2,2,2,2,2,2,2,2,2,2,2,2,2,2,2,2,2,2,2,2,2,2,2],\"sizemode\":\"area\",\"sizeref\":0.025,\"symbol\":\"circle\"},\"mode\":\"markers\",\"name\":\"\",\"scene\":\"scene\",\"showlegend\":false,\"x\":[3.089999999999975,0.3000000000000113,5.279999999999973,20.70999999999998,21.879999999999995,0.5,0.0199999999999818,1.8199999999999927,8.649999999999977,0.0299999999999727,5.5400000000000205,16.100000000000023,50.30000000000001,70.82999999999998,6.439999999999998,43.00999999999999,39.95999999999998,63.920000000000016,51.75999999999999,36.93000000000001,53.79000000000002,11.680000000000009,27.970000000000027,17.79000000000002,17.20999999999998,13.829999999999984,13.410000000000023,8.670000000000016,25.19999999999999,3.470000000000028,26.73000000000001,31.44999999999999,33.31999999999999,1.0600000000000025,17.589999999999975,34.629999999999995,2.5299999999999727,44.63999999999999,0.8199999999999932,7.620000000000003,24.74000000000001,27.930000000000007,17.410000000000025,10.439999999999998,13.970000000000027,6.5,8.5,6.410000000000025,8.990000000000009,3.6100000000000136,7.399999999999977,5.490000000000009,3.069999999999993,12.810000000000002,15.519999999999982,3.25,2.1899999999999977,33.69999999999999,30.81,34.48000000000002,10.0,1.490000000000009,14.009999999999993,2.579999999999984,0.2400000000000091,0.6100000000000136,8.20999999999998,3.550000000000012,8.050000000000011,21.44,4.180000000000007,25.660000000000025,1.9499999999999889,10.25,68.94,14.180000000000009,5.970000000000027,15.70999999999998,23.30000000000001,5.589999999999975,10.399999999999975,49.360000000000014,11.610000000000014,11.439999999999998,14.259999999999993,2.839999999999975,13.569999999999991,10.589999999999977,6.180000000000007,4.910000000000025,3.25,8.939999999999998,10.339999999999977,6.350000000000023,16.370000000000005,7.009999999999991,7.1200000000000045,11.0,5.480000000000018,0.4800000000000182,25.95999999999998,6.089999999999975,8.060000000000002,28.98000000000001,9.730000000000018,8.449999999999989,11.930000000000009,17.139999999999986,14.439999999999998,2.3500000000000227,45.38999999999999,30.25999999999999,3.920000000000016,3.740000000000009,10.949999999999989,8.939999999999998,7.550000000000011,9.839999999999977,8.990000000000009,1.7200000000000273,7.889999999999986,34.74000000000001,1.240000000000009,2.180000000000007,19.329999999999984,22.110000000000014,18.31,13.29000000000002,16.189999999999998,65.61000000000001,41.56,21.779999999999973,13.850000000000025,18.82,15.560000000000002,16.410000000000025,19.95999999999998,12.699999999999989,24.70999999999998,8.819999999999993,14.350000000000025,7.529999999999973,24.829999999999984,3.8100000000000014,15.800000000000011,11.079999999999984,6.610000000000014,12.560000000000002,14.379999999999995,22.49000000000001,14.45999999999998,7.589999999999975,3.329999999999984,24.79000000000002,8.54000000000002,1.9800000000000184,5.779999999999973,5.95999999999998,24.19999999999999,7.079999999999984,0.9499999999999886,11.519999999999982,11.370000000000005,24.470000000000027,13.259999999999993,23.879999999999995,15.45999999999998,8.490000000000009,28.860000000000014,8.300000000000011,32.77999999999997,7.9599999999999795,31.06,17.910000000000025,20.860000000000014,8.339999999999975,21.600000000000023,17.5,37.660000000000025,32.25,29.399999999999977,28.629999999999995,9.490000000000007,22.029999999999973,6.970000000000027,53.370000000000005,1.5600000000000025,9.050000000000011,11.569999999999991,15.860000000000014,9.949999999999989,11.920000000000016,23.74000000000001,12.420000000000016,11.779999999999973,30.50999999999999,11.310000000000002,31.58999999999997,15.259999999999993,8.519999999999982],\"y\":[1.67147,1.83562793,2.20252757,1.91230571,2.07967442,2.3740322,2.12783612,1.91638721,2.35732526,2.11488416,1.61558066,2.25844412,2.34021017,2.42839778,2.27621225,2.41092896,1.68412265,1.96362377,2.04465515,1.7316041,1.84422629,2.4309011,2.36459033,2.48031446,1.86169511,2.0616614,2.06005601,1.97978651,1.8028943,2.25700199,1.98133748,2.16799808,2.37952862,2.131319,1.84569563,2.38426316,2.29542251,2.41098338,2.33041457,2.13798545,2.13110132,2.07232772,2.35337981,1.89110912,1.66627289,2.02745843,2.03823359,2.28494666,2.38649438,2.04421979,2.02416602,1.8665657,2.261927,2.15382167,2.1228839,2.45109092,2.47299497,2.11632629,2.31294575,2.17145375,2.24247185,2.51141549,2.45544452,2.51585072,2.25134231,2.0483285,2.28293312,2.25153278,1.97608595,1.86659291,2.52134714,2.42213948,2.36780111,2.33411513,2.02808426,1.97926952,2.02264226,2.43694172,2.1740387,2.03975735,2.52697961,1.74496421,2.7481697,2.06332121,1.85543681,2.09243591,2.35582871,2.3228774,2.6099429,2.41364996,2.63739779,2.64352004,2.63448632,2.42469722,2.09395967,1.88863301,2.11357808,1.93113503,2.35827761,2.23240415,1.85796734,2.39245337,2.3936234,2.18870489,2.71638842,2.58779396,2.06367494,2.14633892,2.0371724,2.42769032,2.72221136,1.72406693,2.3857325,2.00707814,2.22674447,2.21637746,2.183018,2.32546235,2.3655971,2.11959149,2.23213205,2.11142849,2.20429622,2.25019949,2.26358681,2.32793846,2.11804052,2.32984316,2.34908063,2.68958657,1.77309935,2.38333802,1.92621002,2.02332251,2.32894523,2.0875109,2.31218387,2.10514298,2.25180488,2.15316863,1.98977258,1.96639919,2.10217709,1.8314648,2.18897699,2.39435807,2.04269603,1.97137862,1.86340934,1.79704415,2.5487204,2.00128241,1.88430662,1.77609245,2.27052536,2.30611604,2.00871074,2.37912047,1.87070162,2.42543189,2.63503052,2.48425991,2.59957589,2.07638201,2.12013569,1.86569498,2.03842406,2.0554031,2.23123412,2.11833983,1.99434386,2.42145923,2.08998701,2.32788404,2.16557639,1.79345243,1.95167858,2.09945609,1.96892972,2.66526083,2.49359294,2.37460361,2.45285957,2.47468199,2.51786426,2.51185085,2.83284722,2.71949036,2.47489967,2.85896882,2.62025549,2.39291594,2.62240508,2.53468004,2.35071323,2.57361755,2.51840846,2.86677809,2.7732029,2.2243772],\"z\":[-0.86895135,-0.71404482,-0.87474708,-0.92396997,-1.00135521,-0.83768706,-0.75951273,-0.81986451,-0.94222788,-0.74645193,-0.86304678,-0.59587179,-0.65380188,-0.58613061,-0.81191919,-0.43677492,-0.68180097,-0.7115415,-0.88739973,-0.71023542,-0.74811174,-0.65532564,-0.68887557,-0.63627864,-0.62063289,-0.62509533,-0.44376789,-0.60136821,-0.73208505,-0.55187322,-0.74860152,-0.49187517,-0.43927824,-0.47935857,-0.57334191,-0.57407658,-0.59649762,-0.49318125,-0.64022409,-0.511548,-0.67241352,-0.67693038,-0.60757209,-0.72481998,-0.8187489,-0.64253694,-0.62387088,-0.57472962,-0.57173652,-0.71257548,-0.75749919,-0.70697022,-0.45854292,-0.54879849,-0.79676322,-0.39587829,-0.4369926,-0.53764239,-0.43838031,-0.50806512,-0.45998505,-0.44967246,-0.42795888,-0.54893454,-0.50071842,-0.59494665,-0.57497451,-0.73556793,-0.71186802,-0.52292178,-0.8358912,-0.81888495,-0.68751507,-0.62542185,-0.71543253,-0.58422591,-0.61524531,-0.55366908,-0.60362664,-0.72335064,-0.78947094,-0.62207502,-0.63587049,-0.63788403,-0.69752835,-0.63919011,-0.53473092,-0.76305003,-0.62354436,-0.54885291,-0.53078547,-0.67358355,-0.876162,-0.77216538,-0.73483326,-0.70903818,-0.59584458,-0.5099154,-0.65728476,-0.57565476,-0.5458326,-0.49816068,-0.60610275,-0.65554332,-0.6192996,-0.53018685,-0.67543383,-0.5618865,-0.7262349,-0.67497126,-0.79104912,-0.80059983,-0.71611278,-0.77627409,-0.79540272,-0.78196098,-0.4794402,-0.84726498,-0.72920079,-0.72043917,-0.68446755,-0.64550283,-0.71306526,-0.48689574,-0.68620899,-0.76321329,-0.71660256,-0.82835403,-0.59385825,-0.68177376,-0.75605706,-0.54025455,-0.68125677,-0.64833267,-0.38727993,-0.45538656,-0.66123021,-0.79004235,-0.50411967,-0.63176178,-0.67339308,-0.55336977,-0.58117839,-0.65344815,-0.40254474,-0.61404807,-0.61320456,-0.39908907,-0.54988689,-0.73790799,-0.59538201,-0.78144399,-0.73028919,-0.83213622,-0.7882737,-0.541479,-0.51029634,-0.55116576,-0.60822513,-0.78302217,-0.6024294,-0.54539724,-0.51141195,-0.47067858,-0.73584003,-0.8372517,-0.68816811,-0.55053993,-0.54425442,-0.70892934,-0.69671205,-0.80612346,-0.51086775,-0.75034296,-0.74370372,-0.63497256,-0.68686203,-0.69584133,-0.75654684,-0.57595407,-0.68250843,-0.60335454,-0.5719542,-0.78699483,-0.45432537,-0.56414493,-0.62397972,-0.70852119,-0.69717462,-0.61383039,-0.49900419,-0.89227032,-0.75205719,-0.78435546,-0.78797439,-0.49320846,-0.70362339,-0.71545974,-0.87681504,-0.68748786],\"type\":\"scatter3d\"},{\"color\":\"blue\",\"opacity\":0.2,\"x\":[3.089999999999975,0.3000000000000113,5.279999999999973,20.70999999999998,21.879999999999995,0.5,0.0199999999999818,1.8199999999999927,8.649999999999977,0.0299999999999727,5.5400000000000205],\"y\":[1.67147,1.83562793,2.20252757,1.91230571,2.07967442,2.3740322,2.12783612,1.91638721,2.35732526,2.11488416,1.61558066],\"z\":[-0.86895135,-0.71404482,-0.87474708,-0.92396997,-1.00135521,-0.83768706,-0.75951273,-0.81986451,-0.94222788,-0.74645193,-0.86304678],\"type\":\"mesh3d\"}],                        {\"template\":{\"data\":{\"histogram2dcontour\":[{\"type\":\"histogram2dcontour\",\"colorbar\":{\"outlinewidth\":0,\"ticks\":\"\"},\"colorscale\":[[0.0,\"#0d0887\"],[0.1111111111111111,\"#46039f\"],[0.2222222222222222,\"#7201a8\"],[0.3333333333333333,\"#9c179e\"],[0.4444444444444444,\"#bd3786\"],[0.5555555555555556,\"#d8576b\"],[0.6666666666666666,\"#ed7953\"],[0.7777777777777778,\"#fb9f3a\"],[0.8888888888888888,\"#fdca26\"],[1.0,\"#f0f921\"]]}],\"choropleth\":[{\"type\":\"choropleth\",\"colorbar\":{\"outlinewidth\":0,\"ticks\":\"\"}}],\"histogram2d\":[{\"type\":\"histogram2d\",\"colorbar\":{\"outlinewidth\":0,\"ticks\":\"\"},\"colorscale\":[[0.0,\"#0d0887\"],[0.1111111111111111,\"#46039f\"],[0.2222222222222222,\"#7201a8\"],[0.3333333333333333,\"#9c179e\"],[0.4444444444444444,\"#bd3786\"],[0.5555555555555556,\"#d8576b\"],[0.6666666666666666,\"#ed7953\"],[0.7777777777777778,\"#fb9f3a\"],[0.8888888888888888,\"#fdca26\"],[1.0,\"#f0f921\"]]}],\"heatmap\":[{\"type\":\"heatmap\",\"colorbar\":{\"outlinewidth\":0,\"ticks\":\"\"},\"colorscale\":[[0.0,\"#0d0887\"],[0.1111111111111111,\"#46039f\"],[0.2222222222222222,\"#7201a8\"],[0.3333333333333333,\"#9c179e\"],[0.4444444444444444,\"#bd3786\"],[0.5555555555555556,\"#d8576b\"],[0.6666666666666666,\"#ed7953\"],[0.7777777777777778,\"#fb9f3a\"],[0.8888888888888888,\"#fdca26\"],[1.0,\"#f0f921\"]]}],\"heatmapgl\":[{\"type\":\"heatmapgl\",\"colorbar\":{\"outlinewidth\":0,\"ticks\":\"\"},\"colorscale\":[[0.0,\"#0d0887\"],[0.1111111111111111,\"#46039f\"],[0.2222222222222222,\"#7201a8\"],[0.3333333333333333,\"#9c179e\"],[0.4444444444444444,\"#bd3786\"],[0.5555555555555556,\"#d8576b\"],[0.6666666666666666,\"#ed7953\"],[0.7777777777777778,\"#fb9f3a\"],[0.8888888888888888,\"#fdca26\"],[1.0,\"#f0f921\"]]}],\"contourcarpet\":[{\"type\":\"contourcarpet\",\"colorbar\":{\"outlinewidth\":0,\"ticks\":\"\"}}],\"contour\":[{\"type\":\"contour\",\"colorbar\":{\"outlinewidth\":0,\"ticks\":\"\"},\"colorscale\":[[0.0,\"#0d0887\"],[0.1111111111111111,\"#46039f\"],[0.2222222222222222,\"#7201a8\"],[0.3333333333333333,\"#9c179e\"],[0.4444444444444444,\"#bd3786\"],[0.5555555555555556,\"#d8576b\"],[0.6666666666666666,\"#ed7953\"],[0.7777777777777778,\"#fb9f3a\"],[0.8888888888888888,\"#fdca26\"],[1.0,\"#f0f921\"]]}],\"surface\":[{\"type\":\"surface\",\"colorbar\":{\"outlinewidth\":0,\"ticks\":\"\"},\"colorscale\":[[0.0,\"#0d0887\"],[0.1111111111111111,\"#46039f\"],[0.2222222222222222,\"#7201a8\"],[0.3333333333333333,\"#9c179e\"],[0.4444444444444444,\"#bd3786\"],[0.5555555555555556,\"#d8576b\"],[0.6666666666666666,\"#ed7953\"],[0.7777777777777778,\"#fb9f3a\"],[0.8888888888888888,\"#fdca26\"],[1.0,\"#f0f921\"]]}],\"mesh3d\":[{\"type\":\"mesh3d\",\"colorbar\":{\"outlinewidth\":0,\"ticks\":\"\"}}],\"scatter\":[{\"fillpattern\":{\"fillmode\":\"overlay\",\"size\":10,\"solidity\":0.2},\"type\":\"scatter\"}],\"parcoords\":[{\"type\":\"parcoords\",\"line\":{\"colorbar\":{\"outlinewidth\":0,\"ticks\":\"\"}}}],\"scatterpolargl\":[{\"type\":\"scatterpolargl\",\"marker\":{\"colorbar\":{\"outlinewidth\":0,\"ticks\":\"\"}}}],\"bar\":[{\"error_x\":{\"color\":\"#2a3f5f\"},\"error_y\":{\"color\":\"#2a3f5f\"},\"marker\":{\"line\":{\"color\":\"#E5ECF6\",\"width\":0.5},\"pattern\":{\"fillmode\":\"overlay\",\"size\":10,\"solidity\":0.2}},\"type\":\"bar\"}],\"scattergeo\":[{\"type\":\"scattergeo\",\"marker\":{\"colorbar\":{\"outlinewidth\":0,\"ticks\":\"\"}}}],\"scatterpolar\":[{\"type\":\"scatterpolar\",\"marker\":{\"colorbar\":{\"outlinewidth\":0,\"ticks\":\"\"}}}],\"histogram\":[{\"marker\":{\"pattern\":{\"fillmode\":\"overlay\",\"size\":10,\"solidity\":0.2}},\"type\":\"histogram\"}],\"scattergl\":[{\"type\":\"scattergl\",\"marker\":{\"colorbar\":{\"outlinewidth\":0,\"ticks\":\"\"}}}],\"scatter3d\":[{\"type\":\"scatter3d\",\"line\":{\"colorbar\":{\"outlinewidth\":0,\"ticks\":\"\"}},\"marker\":{\"colorbar\":{\"outlinewidth\":0,\"ticks\":\"\"}}}],\"scattermapbox\":[{\"type\":\"scattermapbox\",\"marker\":{\"colorbar\":{\"outlinewidth\":0,\"ticks\":\"\"}}}],\"scatterternary\":[{\"type\":\"scatterternary\",\"marker\":{\"colorbar\":{\"outlinewidth\":0,\"ticks\":\"\"}}}],\"scattercarpet\":[{\"type\":\"scattercarpet\",\"marker\":{\"colorbar\":{\"outlinewidth\":0,\"ticks\":\"\"}}}],\"carpet\":[{\"aaxis\":{\"endlinecolor\":\"#2a3f5f\",\"gridcolor\":\"white\",\"linecolor\":\"white\",\"minorgridcolor\":\"white\",\"startlinecolor\":\"#2a3f5f\"},\"baxis\":{\"endlinecolor\":\"#2a3f5f\",\"gridcolor\":\"white\",\"linecolor\":\"white\",\"minorgridcolor\":\"white\",\"startlinecolor\":\"#2a3f5f\"},\"type\":\"carpet\"}],\"table\":[{\"cells\":{\"fill\":{\"color\":\"#EBF0F8\"},\"line\":{\"color\":\"white\"}},\"header\":{\"fill\":{\"color\":\"#C8D4E3\"},\"line\":{\"color\":\"white\"}},\"type\":\"table\"}],\"barpolar\":[{\"marker\":{\"line\":{\"color\":\"#E5ECF6\",\"width\":0.5},\"pattern\":{\"fillmode\":\"overlay\",\"size\":10,\"solidity\":0.2}},\"type\":\"barpolar\"}],\"pie\":[{\"automargin\":true,\"type\":\"pie\"}]},\"layout\":{\"autotypenumbers\":\"strict\",\"colorway\":[\"#636efa\",\"#EF553B\",\"#00cc96\",\"#ab63fa\",\"#FFA15A\",\"#19d3f3\",\"#FF6692\",\"#B6E880\",\"#FF97FF\",\"#FECB52\"],\"font\":{\"color\":\"#2a3f5f\"},\"hovermode\":\"closest\",\"hoverlabel\":{\"align\":\"left\"},\"paper_bgcolor\":\"white\",\"plot_bgcolor\":\"#E5ECF6\",\"polar\":{\"bgcolor\":\"#E5ECF6\",\"angularaxis\":{\"gridcolor\":\"white\",\"linecolor\":\"white\",\"ticks\":\"\"},\"radialaxis\":{\"gridcolor\":\"white\",\"linecolor\":\"white\",\"ticks\":\"\"}},\"ternary\":{\"bgcolor\":\"#E5ECF6\",\"aaxis\":{\"gridcolor\":\"white\",\"linecolor\":\"white\",\"ticks\":\"\"},\"baxis\":{\"gridcolor\":\"white\",\"linecolor\":\"white\",\"ticks\":\"\"},\"caxis\":{\"gridcolor\":\"white\",\"linecolor\":\"white\",\"ticks\":\"\"}},\"coloraxis\":{\"colorbar\":{\"outlinewidth\":0,\"ticks\":\"\"}},\"colorscale\":{\"sequential\":[[0.0,\"#0d0887\"],[0.1111111111111111,\"#46039f\"],[0.2222222222222222,\"#7201a8\"],[0.3333333333333333,\"#9c179e\"],[0.4444444444444444,\"#bd3786\"],[0.5555555555555556,\"#d8576b\"],[0.6666666666666666,\"#ed7953\"],[0.7777777777777778,\"#fb9f3a\"],[0.8888888888888888,\"#fdca26\"],[1.0,\"#f0f921\"]],\"sequentialminus\":[[0.0,\"#0d0887\"],[0.1111111111111111,\"#46039f\"],[0.2222222222222222,\"#7201a8\"],[0.3333333333333333,\"#9c179e\"],[0.4444444444444444,\"#bd3786\"],[0.5555555555555556,\"#d8576b\"],[0.6666666666666666,\"#ed7953\"],[0.7777777777777778,\"#fb9f3a\"],[0.8888888888888888,\"#fdca26\"],[1.0,\"#f0f921\"]],\"diverging\":[[0,\"#8e0152\"],[0.1,\"#c51b7d\"],[0.2,\"#de77ae\"],[0.3,\"#f1b6da\"],[0.4,\"#fde0ef\"],[0.5,\"#f7f7f7\"],[0.6,\"#e6f5d0\"],[0.7,\"#b8e186\"],[0.8,\"#7fbc41\"],[0.9,\"#4d9221\"],[1,\"#276419\"]]},\"xaxis\":{\"gridcolor\":\"white\",\"linecolor\":\"white\",\"ticks\":\"\",\"title\":{\"standoff\":15},\"zerolinecolor\":\"white\",\"automargin\":true,\"zerolinewidth\":2},\"yaxis\":{\"gridcolor\":\"white\",\"linecolor\":\"white\",\"ticks\":\"\",\"title\":{\"standoff\":15},\"zerolinecolor\":\"white\",\"automargin\":true,\"zerolinewidth\":2},\"scene\":{\"xaxis\":{\"backgroundcolor\":\"#E5ECF6\",\"gridcolor\":\"white\",\"linecolor\":\"white\",\"showbackground\":true,\"ticks\":\"\",\"zerolinecolor\":\"white\",\"gridwidth\":2},\"yaxis\":{\"backgroundcolor\":\"#E5ECF6\",\"gridcolor\":\"white\",\"linecolor\":\"white\",\"showbackground\":true,\"ticks\":\"\",\"zerolinecolor\":\"white\",\"gridwidth\":2},\"zaxis\":{\"backgroundcolor\":\"#E5ECF6\",\"gridcolor\":\"white\",\"linecolor\":\"white\",\"showbackground\":true,\"ticks\":\"\",\"zerolinecolor\":\"white\",\"gridwidth\":2}},\"shapedefaults\":{\"line\":{\"color\":\"#2a3f5f\"}},\"annotationdefaults\":{\"arrowcolor\":\"#2a3f5f\",\"arrowhead\":0,\"arrowwidth\":1},\"geo\":{\"bgcolor\":\"white\",\"landcolor\":\"#E5ECF6\",\"subunitcolor\":\"white\",\"showland\":true,\"showlakes\":true,\"lakecolor\":\"white\"},\"title\":{\"x\":0.05},\"mapbox\":{\"style\":\"light\"}}},\"scene\":{\"domain\":{\"x\":[0.0,1.0],\"y\":[0.0,1.0]},\"xaxis\":{\"title\":{\"text\":\"$\\\\Delta_{abs}$ [nm]\"}},\"yaxis\":{\"title\":{\"text\":\"$E^{red}$  [V vs. Li/Li+]\"}},\"zaxis\":{\"title\":{\"text\":\"$G^{solv}$ [eV]\"}}},\"legend\":{\"tracegroupgap\":0,\"itemsizing\":\"constant\"},\"margin\":{\"t\":0,\"l\":0,\"r\":0,\"b\":0}},                        {\"responsive\": true}                    ).then(function(){\n",
       "                            \n",
       "var gd = document.getElementById('007090d9-41fb-43b8-9293-e66a392dbc54');\n",
       "var x = new MutationObserver(function (mutations, observer) {{\n",
       "        var display = window.getComputedStyle(gd).display;\n",
       "        if (!display || display === 'none') {{\n",
       "            console.log([gd, 'removed!']);\n",
       "            Plotly.purge(gd);\n",
       "            observer.disconnect();\n",
       "        }}\n",
       "}});\n",
       "\n",
       "// Listen for the removal of the full notebook cells\n",
       "var notebookContainer = gd.closest('#notebook-container');\n",
       "if (notebookContainer) {{\n",
       "    x.observe(notebookContainer, {childList: true});\n",
       "}}\n",
       "\n",
       "// Listen for the clearing of the current output cell\n",
       "var outputEl = gd.closest('.output');\n",
       "if (outputEl) {{\n",
       "    x.observe(outputEl, {childList: true});\n",
       "}}\n",
       "\n",
       "                        })                };                });            </script>        </div>"
      ]
     },
     "metadata": {},
     "output_type": "display_data"
    }
   ],
   "source": [
    "fig = px.scatter_3d(df_ws, x='abs_lam_diff', y='ered', z='gsol', size='size')\n",
    "\n",
    "pareto_points = df_ws[df_ws['type']=='front']\n",
    "\n",
    "fig.add_trace(go.Mesh3d(x=pareto_points['abs_lam_diff'].values,\n",
    "                   y=pareto_points['ered'].values,\n",
    "                   z=pareto_points['gsol'].values,\n",
    "                   opacity=0.2,\n",
    "                   color='blue'\n",
    "                  ))\n",
    "\n",
    "fig.update_layout(margin=dict(l=0, r=0, b=0, t=0))\n",
    "\n",
    "fig.update_scenes(xaxis_title_text=r'$\\Delta_{abs}$ [nm]',  \n",
    "                  yaxis_title_text=r'$E^{red}$  [V vs. Li/Li+]',  \n",
    "                  zaxis_title_text=r'$G^{solv}$ [eV]',\n",
    "                  )\n",
    "\n",
    "# axes[0].set_ylabel(r'$\\Delta_{`abs}$ [nm]', fontsize=12)\n",
    "# axes[1].set_ylabel(r'$E^{red}$  [V vs. Li/Li+]', fontsize=12)\n",
    "# axes[2].set_ylabel(r'$G^{solv}$ [eV]', fontsize=12)\n",
    "\n",
    "#fig.write_image(\"chimera_redoxmers_run.png\")\n",
    "fig.show()"
   ]
  },
  {
   "cell_type": "code",
   "execution_count": 51,
   "id": "e33ef459",
   "metadata": {},
   "outputs": [
    {
     "data": {
      "application/vnd.plotly.v1+json": {
       "config": {
        "plotlyServerURL": "https://plot.ly"
       },
       "data": [
        {
         "hovertemplate": "abs_lam_diff=%{x}<br>ered=%{y}<br>gsol=%{z}<br>size=%{marker.size}<extra></extra>",
         "legendgroup": "",
         "marker": {
          "color": "#636efa",
          "size": [
           10,
           10,
           10,
           10,
           10,
           10,
           10,
           10,
           10,
           10,
           10,
           2,
           2,
           2,
           2,
           2,
           2,
           2,
           2,
           2,
           2,
           2,
           2,
           2,
           2,
           2,
           2,
           2,
           2,
           2,
           2,
           2,
           2,
           2,
           2,
           2,
           2,
           2,
           2,
           2,
           2,
           2,
           2,
           2,
           2,
           2,
           2,
           2,
           2,
           2,
           2,
           2,
           2,
           2,
           2,
           2,
           2,
           2,
           2,
           2,
           2,
           2,
           2,
           2,
           2,
           2,
           2,
           2,
           2,
           2,
           2,
           2,
           2,
           2,
           2,
           2,
           2,
           2,
           2,
           2,
           2,
           2,
           2,
           2,
           2,
           2,
           2,
           2,
           2,
           2,
           2,
           2,
           2,
           2,
           2,
           2,
           2,
           2,
           2,
           2,
           2,
           2,
           2,
           2,
           2,
           2,
           2,
           2,
           2,
           2,
           2,
           2,
           2,
           2,
           2,
           2,
           2,
           2,
           2,
           2,
           2,
           2,
           2,
           2,
           2,
           2,
           2,
           2,
           2,
           2,
           2,
           2,
           2,
           2,
           2,
           2,
           2,
           2,
           2,
           2,
           2,
           2,
           2,
           2,
           2,
           2,
           2,
           2,
           2,
           2,
           2,
           2,
           2,
           2,
           2,
           2,
           2,
           2,
           2,
           2,
           2,
           2,
           2,
           2,
           2,
           2,
           2,
           2,
           2,
           2,
           2,
           2,
           2,
           2,
           2,
           2,
           2,
           2,
           2,
           2,
           2,
           2,
           2,
           2,
           2,
           2,
           2,
           2,
           2,
           2,
           2,
           2,
           2,
           2,
           2,
           2,
           2,
           2,
           2,
           2
          ],
          "sizemode": "area",
          "sizeref": 0.025,
          "symbol": "circle"
         },
         "mode": "markers",
         "name": "",
         "scene": "scene",
         "showlegend": false,
         "type": "scatter3d",
         "x": [
          0.2900000000000204,
          0.3700000000000045,
          2.730000000000018,
          4.170000000000016,
          0.0699999999999931,
          3.850000000000023,
          1.8899999999999864,
          0.0299999999999727,
          3.089999999999975,
          18.970000000000027,
          13.310000000000002,
          20.649999999999977,
          44.93000000000001,
          42.579999999999984,
          39.25,
          56.80000000000001,
          6.569999999999993,
          26.04000000000002,
          7.339999999999975,
          17.060000000000002,
          17.019999999999982,
          1.7099999999999795,
          14.79000000000002,
          18.139999999999983,
          17.589999999999975,
          8.670000000000016,
          44.81999999999999,
          11,
          29.33999999999997,
          52.38999999999999,
          45.95999999999998,
          1.3000000000000114,
          4.019999999999982,
          59.73000000000002,
          26.160000000000025,
          13.740000000000007,
          1.079999999999984,
          39.95999999999998,
          6.889999999999986,
          24.83999999999997,
          42.30000000000001,
          13.699999999999989,
          12.199999999999989,
          9.470000000000027,
          9.25,
          54.610000000000014,
          6.189999999999998,
          7.990000000000009,
          3.480000000000018,
          27.33999999999997,
          13.810000000000002,
          6.230000000000018,
          11.379999999999995,
          17.670000000000016,
          39.170000000000016,
          7.170000000000016,
          31.56,
          9.139999999999986,
          8.339999999999975,
          7.2099999999999795,
          5.160000000000025,
          30.30000000000001,
          12.730000000000018,
          7.54000000000002,
          12.220000000000027,
          7.4599999999999795,
          21.139999999999983,
          27.829999999999984,
          2.9499999999999886,
          9.360000000000014,
          2.769999999999982,
          8.870000000000005,
          34.48000000000002,
          7.850000000000023,
          4.639999999999986,
          19.24000000000001,
          36.610000000000014,
          9.370000000000005,
          17.519999999999982,
          19.970000000000027,
          69.73000000000002,
          3.550000000000012,
          12.699999999999989,
          23.920000000000016,
          13.970000000000027,
          7.529999999999973,
          10,
          13.45999999999998,
          16.279999999999973,
          8.259999999999991,
          41.60000000000002,
          22.389999999999983,
          4.1200000000000045,
          8.389999999999986,
          0.8600000000000136,
          12.649999999999975,
          29.279999999999973,
          20.329999999999984,
          8.029999999999973,
          24.32,
          5.879999999999996,
          18.69,
          26.879999999999995,
          4.180000000000007,
          2.180000000000007,
          8.5,
          12.810000000000002,
          6.410000000000025,
          0.3000000000000113,
          3.6100000000000136,
          5.490000000000009,
          7.399999999999977,
          5.279999999999973,
          7.009999999999991,
          14.439999999999998,
          25.79000000000002,
          5.970000000000027,
          3.470000000000028,
          26.73000000000001,
          8.670000000000016,
          22.639999999999983,
          1.0600000000000025,
          17.20999999999998,
          13.410000000000023,
          15.680000000000009,
          20.180000000000007,
          5.5400000000000205,
          6.720000000000027,
          2.3500000000000227,
          11.680000000000009,
          37.610000000000014,
          8.490000000000009,
          10.439999999999998,
          6.5,
          25.870000000000005,
          20.70999999999998,
          13.850000000000025,
          27.019999999999985,
          23.30000000000001,
          10.009999999999993,
          68.94,
          25.889999999999983,
          47.160000000000025,
          2.839999999999975,
          13.829999999999984,
          7.529999999999973,
          21.660000000000025,
          10.529999999999973,
          3.8100000000000014,
          2.980000000000018,
          16.50999999999999,
          36.98000000000002,
          32.47000000000003,
          17,
          10.600000000000025,
          24.57,
          4.269999999999982,
          9.279999999999973,
          41.69999999999999,
          48.79000000000002,
          8.300000000000011,
          41.80000000000001,
          34.629999999999995,
          17.480000000000018,
          38.63,
          29.610000000000014,
          60.19999999999999,
          52.27999999999997,
          0.410000000000025,
          14.579999999999984,
          8.430000000000007,
          39.60000000000002,
          15.019999999999982,
          28.600000000000023,
          45.079999999999984,
          19.29000000000002,
          12.240000000000007,
          26.279999999999973,
          10.259999999999993,
          11.889999999999986,
          60.22000000000003,
          15.20999999999998,
          15.389999999999986,
          7.399999999999977,
          10.829999999999984,
          7.620000000000003,
          18.920000000000016,
          11.819999999999991,
          6.810000000000002,
          22.56,
          17.529999999999973,
          28.25,
          7.649999999999977,
          8.829999999999984,
          21.680000000000007,
          22.120000000000005,
          9.949999999999989,
          39.160000000000025,
          23.829999999999984,
          29.529999999999973
         ],
         "y": [
          1.65087203,
          1.64455931,
          1.73761751,
          1.54135178,
          2.08693949,
          1.63933499,
          2.07597386,
          2.11488416,
          1.67147,
          1.74588935,
          1.89361244,
          1.750379,
          2.32361207,
          2.89649141,
          2.44407074,
          2.46475034,
          1.78939814,
          2.07246377,
          1.78313984,
          2.07602828,
          2.21245922,
          1.85769524,
          1.9079249,
          2.07379706,
          1.84569563,
          1.96063067,
          2.35125743,
          1.93113503,
          2.09752418,
          1.89529946,
          1.77342587,
          1.9563587,
          1.98604481,
          1.75130414,
          2.20938449,
          1.77228305,
          1.82131547,
          1.68412265,
          1.8464303,
          1.99314662,
          1.6807214,
          2.14135949,
          1.96966439,
          1.99311941,
          1.67829971,
          1.72591721,
          1.88449709,
          1.95434516,
          1.78488128,
          2.0883272,
          1.99584041,
          1.67353796,
          1.89829256,
          1.8494234,
          1.67182373,
          2.03382557,
          1.66782386,
          2.1441077,
          1.79345243,
          1.96691618,
          2.15765828,
          1.97222213,
          2.26407659,
          2.21167013,
          1.921802,
          2.31185735,
          1.95956948,
          2.05981112,
          2.2153979,
          2.00547275,
          2.01320039,
          2.20990148,
          2.17145375,
          2.10696605,
          1.85021249,
          2.20285409,
          2.12138735,
          2.21109872,
          1.8548654,
          2.19501761,
          1.94144762,
          2.09004143,
          2.24851247,
          2.39922866,
          1.66627289,
          1.74882803,
          1.76175278,
          1.79016002,
          2.08079003,
          2.32132643,
          2.66923349,
          2.47013792,
          2.17153538,
          2.25256676,
          2.16655595,
          1.93791032,
          2.45683223,
          1.93448186,
          2.26067534,
          1.99442549,
          2.15137277,
          2.12440766,
          2.10160568,
          2.42973107,
          2.25019949,
          2.03823359,
          2.15382167,
          2.28494666,
          1.83562793,
          2.04421979,
          1.8665657,
          2.02416602,
          2.20252757,
          1.88863301,
          2.0371724,
          2.06775644,
          2.02264226,
          2.25700199,
          1.98133748,
          1.97978651,
          2.31300017,
          2.131319,
          1.86169511,
          2.06005601,
          1.72880147,
          1.62464159,
          1.61558066,
          1.67737457,
          2.42769032,
          2.4309011,
          1.66725245,
          2.0554031,
          1.89110912,
          2.02745843,
          2.30766701,
          1.91230571,
          1.92621002,
          2.08800068,
          2.1740387,
          1.72499207,
          2.02808426,
          2.37386894,
          2.47481804,
          2.09243591,
          2.0616614,
          1.96639919,
          2.31403415,
          1.64967479,
          1.8314648,
          1.96784132,
          2.0328188,
          1.64039618,
          1.76376632,
          1.88368079,
          1.88623853,
          2.1155372,
          1.80392828,
          1.99075214,
          2.31049685,
          2.29142264,
          2.11833983,
          2.20320782,
          2.38426316,
          2.15384888,
          2.37656273,
          1.86882413,
          2.09110262,
          2.49288548,
          1.87625246,
          1.79522108,
          2.02212527,
          1.7566373,
          1.9841129,
          1.95374654,
          2.12691098,
          1.92895823,
          2.15129114,
          2.31495929,
          1.84945061,
          1.96917461,
          1.76871854,
          1.79576528,
          1.9169042,
          1.77900392,
          1.88776229,
          1.85426678,
          2.03692751,
          2.1343121,
          1.99148681,
          2.21444555,
          1.79279939,
          2.07436847,
          1.74172622,
          2.08745648,
          2.11221758,
          2.17768484,
          1.85538239,
          2.11300667,
          2.47587923,
          1.73397137
         ],
         "z": [
          -0.74694171,
          -0.74144529,
          -0.83368719,
          -0.93686751,
          -0.66433215,
          -0.6761685,
          -0.77216538,
          -0.74645193,
          -0.86895135,
          -1.09188288,
          -1.12801776,
          -0.50382036,
          -0.56920599,
          -0.61437459,
          -0.50104494,
          -0.66539334,
          -0.60849723,
          -0.61987101,
          -0.60482388,
          -0.56041716,
          -0.69975957,
          -0.6048783,
          -0.63674121,
          -0.631272,
          -0.57334191,
          -0.90484134,
          -0.77855973,
          -0.5099154,
          -0.48556245,
          -0.585015,
          -0.53845869,
          -0.53149293,
          -0.59655204,
          -0.62251038,
          -0.66318933,
          -0.69774603,
          -0.70307919,
          -0.68180097,
          -0.76653291,
          -1.12007244,
          -0.74666961,
          -0.86974044,
          -0.73589445,
          -0.74008479,
          -0.76022019,
          -0.74860152,
          -0.70267104,
          -0.73377207,
          -0.69238566,
          -0.80745675,
          -0.75891411,
          -0.59013048,
          -0.62553069,
          -0.53532954,
          -0.82176921,
          -0.55981854,
          -0.70313361,
          -0.55187322,
          -0.63497256,
          -0.47261049,
          -0.56316537,
          -0.67747458,
          -0.45674706,
          -0.50384757,
          -0.5763078,
          -0.72245271,
          -0.65366583,
          -0.92848683,
          -0.50346663,
          -0.75679173,
          -0.73401696,
          -0.65478144,
          -0.50806512,
          -0.6369861,
          -0.7343979,
          -0.84103389,
          -0.73110549,
          -0.44529165,
          -0.87686946,
          -1.0146609,
          -0.59519154,
          -0.48482778,
          -0.57282492,
          -0.55649892,
          -0.8187489,
          -0.80201475,
          -0.85591776,
          -0.83069409,
          -0.60740883,
          -0.43680213,
          -0.63548955,
          -0.52294899,
          -0.71197686,
          -0.68109351,
          -0.65970645,
          -0.86650245,
          -0.5583492,
          -1.03430652,
          -0.72019428,
          -0.76582545,
          -0.73986711,
          -0.79295382,
          -0.71352783,
          -0.53192829,
          -0.48689574,
          -0.62387088,
          -0.54879849,
          -0.57472962,
          -0.71404482,
          -0.71257548,
          -0.70697022,
          -0.75749919,
          -0.87474708,
          -0.70903818,
          -0.7262349,
          -0.82351065,
          -0.61524531,
          -0.55187322,
          -0.74860152,
          -0.60136821,
          -0.39176958,
          -0.47935857,
          -0.62063289,
          -0.44376789,
          -0.74737707,
          -0.81156546,
          -0.86304678,
          -0.91156221,
          -0.67497126,
          -0.65532564,
          -0.78723972,
          -0.55053993,
          -0.72481998,
          -0.64253694,
          -0.54784614,
          -0.92396997,
          -0.68125677,
          -0.5082828,
          -0.60362664,
          -0.77387961,
          -0.71543253,
          -0.568689,
          -0.3953613,
          -0.63919011,
          -0.62509533,
          -0.55336977,
          -0.5403906,
          -0.55606356,
          -0.65344815,
          -0.61238826,
          -0.6225648,
          -0.73622097,
          -0.74849268,
          -0.72745935,
          -0.79485852,
          -0.63989757,
          -0.78753903,
          -0.50983377,
          -0.72030312,
          -0.451686,
          -0.70892934,
          -0.78400173,
          -0.57407658,
          -0.55987296,
          -0.5665122,
          -0.84353721,
          -0.6478701,
          -0.75505029,
          -0.45062481,
          -0.67510731,
          -0.43051662,
          -0.6609309,
          -0.62604768,
          -0.64525794,
          -0.52874472,
          -0.65372025,
          -0.42681606,
          -0.50063679,
          -0.69072585,
          -0.77687271,
          -0.79219194,
          -0.75856038,
          -0.50096331,
          -0.51421458,
          -0.59992608,
          -0.72941847,
          -0.77393403,
          -0.56392725,
          -0.617667,
          -0.66014181,
          -0.7580706,
          -0.57628059,
          -0.58463406,
          -0.66988299,
          -0.59380383,
          -0.60966726,
          -0.85172742,
          -0.70977285,
          -0.63257808,
          -0.77336262
         ]
        },
        {
         "color": "blue",
         "opacity": 0.2,
         "type": "mesh3d",
         "x": [
          0.2900000000000204,
          0.3700000000000045,
          2.730000000000018,
          4.170000000000016,
          0.0699999999999931,
          3.850000000000023,
          1.8899999999999864,
          0.0299999999999727,
          3.089999999999975,
          18.970000000000027,
          13.310000000000002
         ],
         "y": [
          1.65087203,
          1.64455931,
          1.73761751,
          1.54135178,
          2.08693949,
          1.63933499,
          2.07597386,
          2.11488416,
          1.67147,
          1.74588935,
          1.89361244
         ],
         "z": [
          -0.74694171,
          -0.74144529,
          -0.83368719,
          -0.93686751,
          -0.66433215,
          -0.6761685,
          -0.77216538,
          -0.74645193,
          -0.86895135,
          -1.09188288,
          -1.12801776
         ]
        }
       ],
       "layout": {
        "legend": {
         "itemsizing": "constant",
         "tracegroupgap": 0
        },
        "margin": {
         "b": 0,
         "l": 0,
         "r": 0,
         "t": 0
        },
        "scene": {
         "domain": {
          "x": [
           0,
           1
          ],
          "y": [
           0,
           1
          ]
         },
         "xaxis": {
          "title": {
           "text": "$\\Delta_{abs}$ [nm]"
          }
         },
         "yaxis": {
          "title": {
           "text": "$E^{red}$  [V vs. Li/Li+]"
          }
         },
         "zaxis": {
          "title": {
           "text": "$G^{solv}$ [eV]"
          }
         }
        },
        "template": {
         "data": {
          "bar": [
           {
            "error_x": {
             "color": "#2a3f5f"
            },
            "error_y": {
             "color": "#2a3f5f"
            },
            "marker": {
             "line": {
              "color": "#E5ECF6",
              "width": 0.5
             },
             "pattern": {
              "fillmode": "overlay",
              "size": 10,
              "solidity": 0.2
             }
            },
            "type": "bar"
           }
          ],
          "barpolar": [
           {
            "marker": {
             "line": {
              "color": "#E5ECF6",
              "width": 0.5
             },
             "pattern": {
              "fillmode": "overlay",
              "size": 10,
              "solidity": 0.2
             }
            },
            "type": "barpolar"
           }
          ],
          "carpet": [
           {
            "aaxis": {
             "endlinecolor": "#2a3f5f",
             "gridcolor": "white",
             "linecolor": "white",
             "minorgridcolor": "white",
             "startlinecolor": "#2a3f5f"
            },
            "baxis": {
             "endlinecolor": "#2a3f5f",
             "gridcolor": "white",
             "linecolor": "white",
             "minorgridcolor": "white",
             "startlinecolor": "#2a3f5f"
            },
            "type": "carpet"
           }
          ],
          "choropleth": [
           {
            "colorbar": {
             "outlinewidth": 0,
             "ticks": ""
            },
            "type": "choropleth"
           }
          ],
          "contour": [
           {
            "colorbar": {
             "outlinewidth": 0,
             "ticks": ""
            },
            "colorscale": [
             [
              0,
              "#0d0887"
             ],
             [
              0.1111111111111111,
              "#46039f"
             ],
             [
              0.2222222222222222,
              "#7201a8"
             ],
             [
              0.3333333333333333,
              "#9c179e"
             ],
             [
              0.4444444444444444,
              "#bd3786"
             ],
             [
              0.5555555555555556,
              "#d8576b"
             ],
             [
              0.6666666666666666,
              "#ed7953"
             ],
             [
              0.7777777777777778,
              "#fb9f3a"
             ],
             [
              0.8888888888888888,
              "#fdca26"
             ],
             [
              1,
              "#f0f921"
             ]
            ],
            "type": "contour"
           }
          ],
          "contourcarpet": [
           {
            "colorbar": {
             "outlinewidth": 0,
             "ticks": ""
            },
            "type": "contourcarpet"
           }
          ],
          "heatmap": [
           {
            "colorbar": {
             "outlinewidth": 0,
             "ticks": ""
            },
            "colorscale": [
             [
              0,
              "#0d0887"
             ],
             [
              0.1111111111111111,
              "#46039f"
             ],
             [
              0.2222222222222222,
              "#7201a8"
             ],
             [
              0.3333333333333333,
              "#9c179e"
             ],
             [
              0.4444444444444444,
              "#bd3786"
             ],
             [
              0.5555555555555556,
              "#d8576b"
             ],
             [
              0.6666666666666666,
              "#ed7953"
             ],
             [
              0.7777777777777778,
              "#fb9f3a"
             ],
             [
              0.8888888888888888,
              "#fdca26"
             ],
             [
              1,
              "#f0f921"
             ]
            ],
            "type": "heatmap"
           }
          ],
          "heatmapgl": [
           {
            "colorbar": {
             "outlinewidth": 0,
             "ticks": ""
            },
            "colorscale": [
             [
              0,
              "#0d0887"
             ],
             [
              0.1111111111111111,
              "#46039f"
             ],
             [
              0.2222222222222222,
              "#7201a8"
             ],
             [
              0.3333333333333333,
              "#9c179e"
             ],
             [
              0.4444444444444444,
              "#bd3786"
             ],
             [
              0.5555555555555556,
              "#d8576b"
             ],
             [
              0.6666666666666666,
              "#ed7953"
             ],
             [
              0.7777777777777778,
              "#fb9f3a"
             ],
             [
              0.8888888888888888,
              "#fdca26"
             ],
             [
              1,
              "#f0f921"
             ]
            ],
            "type": "heatmapgl"
           }
          ],
          "histogram": [
           {
            "marker": {
             "pattern": {
              "fillmode": "overlay",
              "size": 10,
              "solidity": 0.2
             }
            },
            "type": "histogram"
           }
          ],
          "histogram2d": [
           {
            "colorbar": {
             "outlinewidth": 0,
             "ticks": ""
            },
            "colorscale": [
             [
              0,
              "#0d0887"
             ],
             [
              0.1111111111111111,
              "#46039f"
             ],
             [
              0.2222222222222222,
              "#7201a8"
             ],
             [
              0.3333333333333333,
              "#9c179e"
             ],
             [
              0.4444444444444444,
              "#bd3786"
             ],
             [
              0.5555555555555556,
              "#d8576b"
             ],
             [
              0.6666666666666666,
              "#ed7953"
             ],
             [
              0.7777777777777778,
              "#fb9f3a"
             ],
             [
              0.8888888888888888,
              "#fdca26"
             ],
             [
              1,
              "#f0f921"
             ]
            ],
            "type": "histogram2d"
           }
          ],
          "histogram2dcontour": [
           {
            "colorbar": {
             "outlinewidth": 0,
             "ticks": ""
            },
            "colorscale": [
             [
              0,
              "#0d0887"
             ],
             [
              0.1111111111111111,
              "#46039f"
             ],
             [
              0.2222222222222222,
              "#7201a8"
             ],
             [
              0.3333333333333333,
              "#9c179e"
             ],
             [
              0.4444444444444444,
              "#bd3786"
             ],
             [
              0.5555555555555556,
              "#d8576b"
             ],
             [
              0.6666666666666666,
              "#ed7953"
             ],
             [
              0.7777777777777778,
              "#fb9f3a"
             ],
             [
              0.8888888888888888,
              "#fdca26"
             ],
             [
              1,
              "#f0f921"
             ]
            ],
            "type": "histogram2dcontour"
           }
          ],
          "mesh3d": [
           {
            "colorbar": {
             "outlinewidth": 0,
             "ticks": ""
            },
            "type": "mesh3d"
           }
          ],
          "parcoords": [
           {
            "line": {
             "colorbar": {
              "outlinewidth": 0,
              "ticks": ""
             }
            },
            "type": "parcoords"
           }
          ],
          "pie": [
           {
            "automargin": true,
            "type": "pie"
           }
          ],
          "scatter": [
           {
            "fillpattern": {
             "fillmode": "overlay",
             "size": 10,
             "solidity": 0.2
            },
            "type": "scatter"
           }
          ],
          "scatter3d": [
           {
            "line": {
             "colorbar": {
              "outlinewidth": 0,
              "ticks": ""
             }
            },
            "marker": {
             "colorbar": {
              "outlinewidth": 0,
              "ticks": ""
             }
            },
            "type": "scatter3d"
           }
          ],
          "scattercarpet": [
           {
            "marker": {
             "colorbar": {
              "outlinewidth": 0,
              "ticks": ""
             }
            },
            "type": "scattercarpet"
           }
          ],
          "scattergeo": [
           {
            "marker": {
             "colorbar": {
              "outlinewidth": 0,
              "ticks": ""
             }
            },
            "type": "scattergeo"
           }
          ],
          "scattergl": [
           {
            "marker": {
             "colorbar": {
              "outlinewidth": 0,
              "ticks": ""
             }
            },
            "type": "scattergl"
           }
          ],
          "scattermapbox": [
           {
            "marker": {
             "colorbar": {
              "outlinewidth": 0,
              "ticks": ""
             }
            },
            "type": "scattermapbox"
           }
          ],
          "scatterpolar": [
           {
            "marker": {
             "colorbar": {
              "outlinewidth": 0,
              "ticks": ""
             }
            },
            "type": "scatterpolar"
           }
          ],
          "scatterpolargl": [
           {
            "marker": {
             "colorbar": {
              "outlinewidth": 0,
              "ticks": ""
             }
            },
            "type": "scatterpolargl"
           }
          ],
          "scatterternary": [
           {
            "marker": {
             "colorbar": {
              "outlinewidth": 0,
              "ticks": ""
             }
            },
            "type": "scatterternary"
           }
          ],
          "surface": [
           {
            "colorbar": {
             "outlinewidth": 0,
             "ticks": ""
            },
            "colorscale": [
             [
              0,
              "#0d0887"
             ],
             [
              0.1111111111111111,
              "#46039f"
             ],
             [
              0.2222222222222222,
              "#7201a8"
             ],
             [
              0.3333333333333333,
              "#9c179e"
             ],
             [
              0.4444444444444444,
              "#bd3786"
             ],
             [
              0.5555555555555556,
              "#d8576b"
             ],
             [
              0.6666666666666666,
              "#ed7953"
             ],
             [
              0.7777777777777778,
              "#fb9f3a"
             ],
             [
              0.8888888888888888,
              "#fdca26"
             ],
             [
              1,
              "#f0f921"
             ]
            ],
            "type": "surface"
           }
          ],
          "table": [
           {
            "cells": {
             "fill": {
              "color": "#EBF0F8"
             },
             "line": {
              "color": "white"
             }
            },
            "header": {
             "fill": {
              "color": "#C8D4E3"
             },
             "line": {
              "color": "white"
             }
            },
            "type": "table"
           }
          ]
         },
         "layout": {
          "annotationdefaults": {
           "arrowcolor": "#2a3f5f",
           "arrowhead": 0,
           "arrowwidth": 1
          },
          "autotypenumbers": "strict",
          "coloraxis": {
           "colorbar": {
            "outlinewidth": 0,
            "ticks": ""
           }
          },
          "colorscale": {
           "diverging": [
            [
             0,
             "#8e0152"
            ],
            [
             0.1,
             "#c51b7d"
            ],
            [
             0.2,
             "#de77ae"
            ],
            [
             0.3,
             "#f1b6da"
            ],
            [
             0.4,
             "#fde0ef"
            ],
            [
             0.5,
             "#f7f7f7"
            ],
            [
             0.6,
             "#e6f5d0"
            ],
            [
             0.7,
             "#b8e186"
            ],
            [
             0.8,
             "#7fbc41"
            ],
            [
             0.9,
             "#4d9221"
            ],
            [
             1,
             "#276419"
            ]
           ],
           "sequential": [
            [
             0,
             "#0d0887"
            ],
            [
             0.1111111111111111,
             "#46039f"
            ],
            [
             0.2222222222222222,
             "#7201a8"
            ],
            [
             0.3333333333333333,
             "#9c179e"
            ],
            [
             0.4444444444444444,
             "#bd3786"
            ],
            [
             0.5555555555555556,
             "#d8576b"
            ],
            [
             0.6666666666666666,
             "#ed7953"
            ],
            [
             0.7777777777777778,
             "#fb9f3a"
            ],
            [
             0.8888888888888888,
             "#fdca26"
            ],
            [
             1,
             "#f0f921"
            ]
           ],
           "sequentialminus": [
            [
             0,
             "#0d0887"
            ],
            [
             0.1111111111111111,
             "#46039f"
            ],
            [
             0.2222222222222222,
             "#7201a8"
            ],
            [
             0.3333333333333333,
             "#9c179e"
            ],
            [
             0.4444444444444444,
             "#bd3786"
            ],
            [
             0.5555555555555556,
             "#d8576b"
            ],
            [
             0.6666666666666666,
             "#ed7953"
            ],
            [
             0.7777777777777778,
             "#fb9f3a"
            ],
            [
             0.8888888888888888,
             "#fdca26"
            ],
            [
             1,
             "#f0f921"
            ]
           ]
          },
          "colorway": [
           "#636efa",
           "#EF553B",
           "#00cc96",
           "#ab63fa",
           "#FFA15A",
           "#19d3f3",
           "#FF6692",
           "#B6E880",
           "#FF97FF",
           "#FECB52"
          ],
          "font": {
           "color": "#2a3f5f"
          },
          "geo": {
           "bgcolor": "white",
           "lakecolor": "white",
           "landcolor": "#E5ECF6",
           "showlakes": true,
           "showland": true,
           "subunitcolor": "white"
          },
          "hoverlabel": {
           "align": "left"
          },
          "hovermode": "closest",
          "mapbox": {
           "style": "light"
          },
          "paper_bgcolor": "white",
          "plot_bgcolor": "#E5ECF6",
          "polar": {
           "angularaxis": {
            "gridcolor": "white",
            "linecolor": "white",
            "ticks": ""
           },
           "bgcolor": "#E5ECF6",
           "radialaxis": {
            "gridcolor": "white",
            "linecolor": "white",
            "ticks": ""
           }
          },
          "scene": {
           "xaxis": {
            "backgroundcolor": "#E5ECF6",
            "gridcolor": "white",
            "gridwidth": 2,
            "linecolor": "white",
            "showbackground": true,
            "ticks": "",
            "zerolinecolor": "white"
           },
           "yaxis": {
            "backgroundcolor": "#E5ECF6",
            "gridcolor": "white",
            "gridwidth": 2,
            "linecolor": "white",
            "showbackground": true,
            "ticks": "",
            "zerolinecolor": "white"
           },
           "zaxis": {
            "backgroundcolor": "#E5ECF6",
            "gridcolor": "white",
            "gridwidth": 2,
            "linecolor": "white",
            "showbackground": true,
            "ticks": "",
            "zerolinecolor": "white"
           }
          },
          "shapedefaults": {
           "line": {
            "color": "#2a3f5f"
           }
          },
          "ternary": {
           "aaxis": {
            "gridcolor": "white",
            "linecolor": "white",
            "ticks": ""
           },
           "baxis": {
            "gridcolor": "white",
            "linecolor": "white",
            "ticks": ""
           },
           "bgcolor": "#E5ECF6",
           "caxis": {
            "gridcolor": "white",
            "linecolor": "white",
            "ticks": ""
           }
          },
          "title": {
           "x": 0.05
          },
          "xaxis": {
           "automargin": true,
           "gridcolor": "white",
           "linecolor": "white",
           "ticks": "",
           "title": {
            "standoff": 15
           },
           "zerolinecolor": "white",
           "zerolinewidth": 2
          },
          "yaxis": {
           "automargin": true,
           "gridcolor": "white",
           "linecolor": "white",
           "ticks": "",
           "title": {
            "standoff": 15
           },
           "zerolinecolor": "white",
           "zerolinewidth": 2
          }
         }
        }
       }
      },
      "text/html": [
       "<div>                            <div id=\"cf871163-3959-4734-be2f-ba44b2c540ca\" class=\"plotly-graph-div\" style=\"height:525px; width:100%;\"></div>            <script type=\"text/javascript\">                require([\"plotly\"], function(Plotly) {                    window.PLOTLYENV=window.PLOTLYENV || {};                                    if (document.getElementById(\"cf871163-3959-4734-be2f-ba44b2c540ca\")) {                    Plotly.newPlot(                        \"cf871163-3959-4734-be2f-ba44b2c540ca\",                        [{\"hovertemplate\":\"abs_lam_diff=%{x}<br>ered=%{y}<br>gsol=%{z}<br>size=%{marker.size}<extra></extra>\",\"legendgroup\":\"\",\"marker\":{\"color\":\"#636efa\",\"size\":[10,10,10,10,10,10,10,10,10,10,10,2,2,2,2,2,2,2,2,2,2,2,2,2,2,2,2,2,2,2,2,2,2,2,2,2,2,2,2,2,2,2,2,2,2,2,2,2,2,2,2,2,2,2,2,2,2,2,2,2,2,2,2,2,2,2,2,2,2,2,2,2,2,2,2,2,2,2,2,2,2,2,2,2,2,2,2,2,2,2,2,2,2,2,2,2,2,2,2,2,2,2,2,2,2,2,2,2,2,2,2,2,2,2,2,2,2,2,2,2,2,2,2,2,2,2,2,2,2,2,2,2,2,2,2,2,2,2,2,2,2,2,2,2,2,2,2,2,2,2,2,2,2,2,2,2,2,2,2,2,2,2,2,2,2,2,2,2,2,2,2,2,2,2,2,2,2,2,2,2,2,2,2,2,2,2,2,2,2,2,2,2,2,2,2,2,2,2,2,2],\"sizemode\":\"area\",\"sizeref\":0.025,\"symbol\":\"circle\"},\"mode\":\"markers\",\"name\":\"\",\"scene\":\"scene\",\"showlegend\":false,\"x\":[0.2900000000000204,0.3700000000000045,2.730000000000018,4.170000000000016,0.0699999999999931,3.850000000000023,1.8899999999999864,0.0299999999999727,3.089999999999975,18.970000000000027,13.310000000000002,20.649999999999977,44.93000000000001,42.579999999999984,39.25,56.80000000000001,6.569999999999993,26.04000000000002,7.339999999999975,17.060000000000002,17.019999999999982,1.7099999999999795,14.79000000000002,18.139999999999983,17.589999999999975,8.670000000000016,44.81999999999999,11.0,29.33999999999997,52.38999999999999,45.95999999999998,1.3000000000000114,4.019999999999982,59.73000000000002,26.160000000000025,13.740000000000007,1.079999999999984,39.95999999999998,6.889999999999986,24.83999999999997,42.30000000000001,13.699999999999989,12.199999999999989,9.470000000000027,9.25,54.610000000000014,6.189999999999998,7.990000000000009,3.480000000000018,27.33999999999997,13.810000000000002,6.230000000000018,11.379999999999995,17.670000000000016,39.170000000000016,7.170000000000016,31.56,9.139999999999986,8.339999999999975,7.2099999999999795,5.160000000000025,30.30000000000001,12.730000000000018,7.54000000000002,12.220000000000027,7.4599999999999795,21.139999999999983,27.829999999999984,2.9499999999999886,9.360000000000014,2.769999999999982,8.870000000000005,34.48000000000002,7.850000000000023,4.639999999999986,19.24000000000001,36.610000000000014,9.370000000000005,17.519999999999982,19.970000000000027,69.73000000000002,3.550000000000012,12.699999999999989,23.920000000000016,13.970000000000027,7.529999999999973,10.0,13.45999999999998,16.279999999999973,8.259999999999991,41.60000000000002,22.389999999999983,4.1200000000000045,8.389999999999986,0.8600000000000136,12.649999999999975,29.279999999999973,20.329999999999984,8.029999999999973,24.32,5.879999999999996,18.69,26.879999999999995,4.180000000000007,2.180000000000007,8.5,12.810000000000002,6.410000000000025,0.3000000000000113,3.6100000000000136,5.490000000000009,7.399999999999977,5.279999999999973,7.009999999999991,14.439999999999998,25.79000000000002,5.970000000000027,3.470000000000028,26.73000000000001,8.670000000000016,22.639999999999983,1.0600000000000025,17.20999999999998,13.410000000000023,15.680000000000009,20.180000000000007,5.5400000000000205,6.720000000000027,2.3500000000000227,11.680000000000009,37.610000000000014,8.490000000000009,10.439999999999998,6.5,25.870000000000005,20.70999999999998,13.850000000000025,27.019999999999985,23.30000000000001,10.009999999999993,68.94,25.889999999999983,47.160000000000025,2.839999999999975,13.829999999999984,7.529999999999973,21.660000000000025,10.529999999999973,3.8100000000000014,2.980000000000018,16.50999999999999,36.98000000000002,32.47000000000003,17.0,10.600000000000025,24.57,4.269999999999982,9.279999999999973,41.69999999999999,48.79000000000002,8.300000000000011,41.80000000000001,34.629999999999995,17.480000000000018,38.63,29.610000000000014,60.19999999999999,52.27999999999997,0.410000000000025,14.579999999999984,8.430000000000007,39.60000000000002,15.019999999999982,28.600000000000023,45.079999999999984,19.29000000000002,12.240000000000007,26.279999999999973,10.259999999999993,11.889999999999986,60.22000000000003,15.20999999999998,15.389999999999986,7.399999999999977,10.829999999999984,7.620000000000003,18.920000000000016,11.819999999999991,6.810000000000002,22.56,17.529999999999973,28.25,7.649999999999977,8.829999999999984,21.680000000000007,22.120000000000005,9.949999999999989,39.160000000000025,23.829999999999984,29.529999999999973],\"y\":[1.65087203,1.64455931,1.73761751,1.54135178,2.08693949,1.63933499,2.07597386,2.11488416,1.67147,1.74588935,1.89361244,1.750379,2.32361207,2.89649141,2.44407074,2.46475034,1.78939814,2.07246377,1.78313984,2.07602828,2.21245922,1.85769524,1.9079249,2.07379706,1.84569563,1.96063067,2.35125743,1.93113503,2.09752418,1.89529946,1.77342587,1.9563587,1.98604481,1.75130414,2.20938449,1.77228305,1.82131547,1.68412265,1.8464303,1.99314662,1.6807214,2.14135949,1.96966439,1.99311941,1.67829971,1.72591721,1.88449709,1.95434516,1.78488128,2.0883272,1.99584041,1.67353796,1.89829256,1.8494234,1.67182373,2.03382557,1.66782386,2.1441077,1.79345243,1.96691618,2.15765828,1.97222213,2.26407659,2.21167013,1.921802,2.31185735,1.95956948,2.05981112,2.2153979,2.00547275,2.01320039,2.20990148,2.17145375,2.10696605,1.85021249,2.20285409,2.12138735,2.21109872,1.8548654,2.19501761,1.94144762,2.09004143,2.24851247,2.39922866,1.66627289,1.74882803,1.76175278,1.79016002,2.08079003,2.32132643,2.66923349,2.47013792,2.17153538,2.25256676,2.16655595,1.93791032,2.45683223,1.93448186,2.26067534,1.99442549,2.15137277,2.12440766,2.10160568,2.42973107,2.25019949,2.03823359,2.15382167,2.28494666,1.83562793,2.04421979,1.8665657,2.02416602,2.20252757,1.88863301,2.0371724,2.06775644,2.02264226,2.25700199,1.98133748,1.97978651,2.31300017,2.131319,1.86169511,2.06005601,1.72880147,1.62464159,1.61558066,1.67737457,2.42769032,2.4309011,1.66725245,2.0554031,1.89110912,2.02745843,2.30766701,1.91230571,1.92621002,2.08800068,2.1740387,1.72499207,2.02808426,2.37386894,2.47481804,2.09243591,2.0616614,1.96639919,2.31403415,1.64967479,1.8314648,1.96784132,2.0328188,1.64039618,1.76376632,1.88368079,1.88623853,2.1155372,1.80392828,1.99075214,2.31049685,2.29142264,2.11833983,2.20320782,2.38426316,2.15384888,2.37656273,1.86882413,2.09110262,2.49288548,1.87625246,1.79522108,2.02212527,1.7566373,1.9841129,1.95374654,2.12691098,1.92895823,2.15129114,2.31495929,1.84945061,1.96917461,1.76871854,1.79576528,1.9169042,1.77900392,1.88776229,1.85426678,2.03692751,2.1343121,1.99148681,2.21444555,1.79279939,2.07436847,1.74172622,2.08745648,2.11221758,2.17768484,1.85538239,2.11300667,2.47587923,1.73397137],\"z\":[-0.74694171,-0.74144529,-0.83368719,-0.93686751,-0.66433215,-0.6761685,-0.77216538,-0.74645193,-0.86895135,-1.09188288,-1.12801776,-0.50382036,-0.56920599,-0.61437459,-0.50104494,-0.66539334,-0.60849723,-0.61987101,-0.60482388,-0.56041716,-0.69975957,-0.6048783,-0.63674121,-0.631272,-0.57334191,-0.90484134,-0.77855973,-0.5099154,-0.48556245,-0.585015,-0.53845869,-0.53149293,-0.59655204,-0.62251038,-0.66318933,-0.69774603,-0.70307919,-0.68180097,-0.76653291,-1.12007244,-0.74666961,-0.86974044,-0.73589445,-0.74008479,-0.76022019,-0.74860152,-0.70267104,-0.73377207,-0.69238566,-0.80745675,-0.75891411,-0.59013048,-0.62553069,-0.53532954,-0.82176921,-0.55981854,-0.70313361,-0.55187322,-0.63497256,-0.47261049,-0.56316537,-0.67747458,-0.45674706,-0.50384757,-0.5763078,-0.72245271,-0.65366583,-0.92848683,-0.50346663,-0.75679173,-0.73401696,-0.65478144,-0.50806512,-0.6369861,-0.7343979,-0.84103389,-0.73110549,-0.44529165,-0.87686946,-1.0146609,-0.59519154,-0.48482778,-0.57282492,-0.55649892,-0.8187489,-0.80201475,-0.85591776,-0.83069409,-0.60740883,-0.43680213,-0.63548955,-0.52294899,-0.71197686,-0.68109351,-0.65970645,-0.86650245,-0.5583492,-1.03430652,-0.72019428,-0.76582545,-0.73986711,-0.79295382,-0.71352783,-0.53192829,-0.48689574,-0.62387088,-0.54879849,-0.57472962,-0.71404482,-0.71257548,-0.70697022,-0.75749919,-0.87474708,-0.70903818,-0.7262349,-0.82351065,-0.61524531,-0.55187322,-0.74860152,-0.60136821,-0.39176958,-0.47935857,-0.62063289,-0.44376789,-0.74737707,-0.81156546,-0.86304678,-0.91156221,-0.67497126,-0.65532564,-0.78723972,-0.55053993,-0.72481998,-0.64253694,-0.54784614,-0.92396997,-0.68125677,-0.5082828,-0.60362664,-0.77387961,-0.71543253,-0.568689,-0.3953613,-0.63919011,-0.62509533,-0.55336977,-0.5403906,-0.55606356,-0.65344815,-0.61238826,-0.6225648,-0.73622097,-0.74849268,-0.72745935,-0.79485852,-0.63989757,-0.78753903,-0.50983377,-0.72030312,-0.451686,-0.70892934,-0.78400173,-0.57407658,-0.55987296,-0.5665122,-0.84353721,-0.6478701,-0.75505029,-0.45062481,-0.67510731,-0.43051662,-0.6609309,-0.62604768,-0.64525794,-0.52874472,-0.65372025,-0.42681606,-0.50063679,-0.69072585,-0.77687271,-0.79219194,-0.75856038,-0.50096331,-0.51421458,-0.59992608,-0.72941847,-0.77393403,-0.56392725,-0.617667,-0.66014181,-0.7580706,-0.57628059,-0.58463406,-0.66988299,-0.59380383,-0.60966726,-0.85172742,-0.70977285,-0.63257808,-0.77336262],\"type\":\"scatter3d\"},{\"color\":\"blue\",\"opacity\":0.2,\"x\":[0.2900000000000204,0.3700000000000045,2.730000000000018,4.170000000000016,0.0699999999999931,3.850000000000023,1.8899999999999864,0.0299999999999727,3.089999999999975,18.970000000000027,13.310000000000002],\"y\":[1.65087203,1.64455931,1.73761751,1.54135178,2.08693949,1.63933499,2.07597386,2.11488416,1.67147,1.74588935,1.89361244],\"z\":[-0.74694171,-0.74144529,-0.83368719,-0.93686751,-0.66433215,-0.6761685,-0.77216538,-0.74645193,-0.86895135,-1.09188288,-1.12801776],\"type\":\"mesh3d\"}],                        {\"template\":{\"data\":{\"histogram2dcontour\":[{\"type\":\"histogram2dcontour\",\"colorbar\":{\"outlinewidth\":0,\"ticks\":\"\"},\"colorscale\":[[0.0,\"#0d0887\"],[0.1111111111111111,\"#46039f\"],[0.2222222222222222,\"#7201a8\"],[0.3333333333333333,\"#9c179e\"],[0.4444444444444444,\"#bd3786\"],[0.5555555555555556,\"#d8576b\"],[0.6666666666666666,\"#ed7953\"],[0.7777777777777778,\"#fb9f3a\"],[0.8888888888888888,\"#fdca26\"],[1.0,\"#f0f921\"]]}],\"choropleth\":[{\"type\":\"choropleth\",\"colorbar\":{\"outlinewidth\":0,\"ticks\":\"\"}}],\"histogram2d\":[{\"type\":\"histogram2d\",\"colorbar\":{\"outlinewidth\":0,\"ticks\":\"\"},\"colorscale\":[[0.0,\"#0d0887\"],[0.1111111111111111,\"#46039f\"],[0.2222222222222222,\"#7201a8\"],[0.3333333333333333,\"#9c179e\"],[0.4444444444444444,\"#bd3786\"],[0.5555555555555556,\"#d8576b\"],[0.6666666666666666,\"#ed7953\"],[0.7777777777777778,\"#fb9f3a\"],[0.8888888888888888,\"#fdca26\"],[1.0,\"#f0f921\"]]}],\"heatmap\":[{\"type\":\"heatmap\",\"colorbar\":{\"outlinewidth\":0,\"ticks\":\"\"},\"colorscale\":[[0.0,\"#0d0887\"],[0.1111111111111111,\"#46039f\"],[0.2222222222222222,\"#7201a8\"],[0.3333333333333333,\"#9c179e\"],[0.4444444444444444,\"#bd3786\"],[0.5555555555555556,\"#d8576b\"],[0.6666666666666666,\"#ed7953\"],[0.7777777777777778,\"#fb9f3a\"],[0.8888888888888888,\"#fdca26\"],[1.0,\"#f0f921\"]]}],\"heatmapgl\":[{\"type\":\"heatmapgl\",\"colorbar\":{\"outlinewidth\":0,\"ticks\":\"\"},\"colorscale\":[[0.0,\"#0d0887\"],[0.1111111111111111,\"#46039f\"],[0.2222222222222222,\"#7201a8\"],[0.3333333333333333,\"#9c179e\"],[0.4444444444444444,\"#bd3786\"],[0.5555555555555556,\"#d8576b\"],[0.6666666666666666,\"#ed7953\"],[0.7777777777777778,\"#fb9f3a\"],[0.8888888888888888,\"#fdca26\"],[1.0,\"#f0f921\"]]}],\"contourcarpet\":[{\"type\":\"contourcarpet\",\"colorbar\":{\"outlinewidth\":0,\"ticks\":\"\"}}],\"contour\":[{\"type\":\"contour\",\"colorbar\":{\"outlinewidth\":0,\"ticks\":\"\"},\"colorscale\":[[0.0,\"#0d0887\"],[0.1111111111111111,\"#46039f\"],[0.2222222222222222,\"#7201a8\"],[0.3333333333333333,\"#9c179e\"],[0.4444444444444444,\"#bd3786\"],[0.5555555555555556,\"#d8576b\"],[0.6666666666666666,\"#ed7953\"],[0.7777777777777778,\"#fb9f3a\"],[0.8888888888888888,\"#fdca26\"],[1.0,\"#f0f921\"]]}],\"surface\":[{\"type\":\"surface\",\"colorbar\":{\"outlinewidth\":0,\"ticks\":\"\"},\"colorscale\":[[0.0,\"#0d0887\"],[0.1111111111111111,\"#46039f\"],[0.2222222222222222,\"#7201a8\"],[0.3333333333333333,\"#9c179e\"],[0.4444444444444444,\"#bd3786\"],[0.5555555555555556,\"#d8576b\"],[0.6666666666666666,\"#ed7953\"],[0.7777777777777778,\"#fb9f3a\"],[0.8888888888888888,\"#fdca26\"],[1.0,\"#f0f921\"]]}],\"mesh3d\":[{\"type\":\"mesh3d\",\"colorbar\":{\"outlinewidth\":0,\"ticks\":\"\"}}],\"scatter\":[{\"fillpattern\":{\"fillmode\":\"overlay\",\"size\":10,\"solidity\":0.2},\"type\":\"scatter\"}],\"parcoords\":[{\"type\":\"parcoords\",\"line\":{\"colorbar\":{\"outlinewidth\":0,\"ticks\":\"\"}}}],\"scatterpolargl\":[{\"type\":\"scatterpolargl\",\"marker\":{\"colorbar\":{\"outlinewidth\":0,\"ticks\":\"\"}}}],\"bar\":[{\"error_x\":{\"color\":\"#2a3f5f\"},\"error_y\":{\"color\":\"#2a3f5f\"},\"marker\":{\"line\":{\"color\":\"#E5ECF6\",\"width\":0.5},\"pattern\":{\"fillmode\":\"overlay\",\"size\":10,\"solidity\":0.2}},\"type\":\"bar\"}],\"scattergeo\":[{\"type\":\"scattergeo\",\"marker\":{\"colorbar\":{\"outlinewidth\":0,\"ticks\":\"\"}}}],\"scatterpolar\":[{\"type\":\"scatterpolar\",\"marker\":{\"colorbar\":{\"outlinewidth\":0,\"ticks\":\"\"}}}],\"histogram\":[{\"marker\":{\"pattern\":{\"fillmode\":\"overlay\",\"size\":10,\"solidity\":0.2}},\"type\":\"histogram\"}],\"scattergl\":[{\"type\":\"scattergl\",\"marker\":{\"colorbar\":{\"outlinewidth\":0,\"ticks\":\"\"}}}],\"scatter3d\":[{\"type\":\"scatter3d\",\"line\":{\"colorbar\":{\"outlinewidth\":0,\"ticks\":\"\"}},\"marker\":{\"colorbar\":{\"outlinewidth\":0,\"ticks\":\"\"}}}],\"scattermapbox\":[{\"type\":\"scattermapbox\",\"marker\":{\"colorbar\":{\"outlinewidth\":0,\"ticks\":\"\"}}}],\"scatterternary\":[{\"type\":\"scatterternary\",\"marker\":{\"colorbar\":{\"outlinewidth\":0,\"ticks\":\"\"}}}],\"scattercarpet\":[{\"type\":\"scattercarpet\",\"marker\":{\"colorbar\":{\"outlinewidth\":0,\"ticks\":\"\"}}}],\"carpet\":[{\"aaxis\":{\"endlinecolor\":\"#2a3f5f\",\"gridcolor\":\"white\",\"linecolor\":\"white\",\"minorgridcolor\":\"white\",\"startlinecolor\":\"#2a3f5f\"},\"baxis\":{\"endlinecolor\":\"#2a3f5f\",\"gridcolor\":\"white\",\"linecolor\":\"white\",\"minorgridcolor\":\"white\",\"startlinecolor\":\"#2a3f5f\"},\"type\":\"carpet\"}],\"table\":[{\"cells\":{\"fill\":{\"color\":\"#EBF0F8\"},\"line\":{\"color\":\"white\"}},\"header\":{\"fill\":{\"color\":\"#C8D4E3\"},\"line\":{\"color\":\"white\"}},\"type\":\"table\"}],\"barpolar\":[{\"marker\":{\"line\":{\"color\":\"#E5ECF6\",\"width\":0.5},\"pattern\":{\"fillmode\":\"overlay\",\"size\":10,\"solidity\":0.2}},\"type\":\"barpolar\"}],\"pie\":[{\"automargin\":true,\"type\":\"pie\"}]},\"layout\":{\"autotypenumbers\":\"strict\",\"colorway\":[\"#636efa\",\"#EF553B\",\"#00cc96\",\"#ab63fa\",\"#FFA15A\",\"#19d3f3\",\"#FF6692\",\"#B6E880\",\"#FF97FF\",\"#FECB52\"],\"font\":{\"color\":\"#2a3f5f\"},\"hovermode\":\"closest\",\"hoverlabel\":{\"align\":\"left\"},\"paper_bgcolor\":\"white\",\"plot_bgcolor\":\"#E5ECF6\",\"polar\":{\"bgcolor\":\"#E5ECF6\",\"angularaxis\":{\"gridcolor\":\"white\",\"linecolor\":\"white\",\"ticks\":\"\"},\"radialaxis\":{\"gridcolor\":\"white\",\"linecolor\":\"white\",\"ticks\":\"\"}},\"ternary\":{\"bgcolor\":\"#E5ECF6\",\"aaxis\":{\"gridcolor\":\"white\",\"linecolor\":\"white\",\"ticks\":\"\"},\"baxis\":{\"gridcolor\":\"white\",\"linecolor\":\"white\",\"ticks\":\"\"},\"caxis\":{\"gridcolor\":\"white\",\"linecolor\":\"white\",\"ticks\":\"\"}},\"coloraxis\":{\"colorbar\":{\"outlinewidth\":0,\"ticks\":\"\"}},\"colorscale\":{\"sequential\":[[0.0,\"#0d0887\"],[0.1111111111111111,\"#46039f\"],[0.2222222222222222,\"#7201a8\"],[0.3333333333333333,\"#9c179e\"],[0.4444444444444444,\"#bd3786\"],[0.5555555555555556,\"#d8576b\"],[0.6666666666666666,\"#ed7953\"],[0.7777777777777778,\"#fb9f3a\"],[0.8888888888888888,\"#fdca26\"],[1.0,\"#f0f921\"]],\"sequentialminus\":[[0.0,\"#0d0887\"],[0.1111111111111111,\"#46039f\"],[0.2222222222222222,\"#7201a8\"],[0.3333333333333333,\"#9c179e\"],[0.4444444444444444,\"#bd3786\"],[0.5555555555555556,\"#d8576b\"],[0.6666666666666666,\"#ed7953\"],[0.7777777777777778,\"#fb9f3a\"],[0.8888888888888888,\"#fdca26\"],[1.0,\"#f0f921\"]],\"diverging\":[[0,\"#8e0152\"],[0.1,\"#c51b7d\"],[0.2,\"#de77ae\"],[0.3,\"#f1b6da\"],[0.4,\"#fde0ef\"],[0.5,\"#f7f7f7\"],[0.6,\"#e6f5d0\"],[0.7,\"#b8e186\"],[0.8,\"#7fbc41\"],[0.9,\"#4d9221\"],[1,\"#276419\"]]},\"xaxis\":{\"gridcolor\":\"white\",\"linecolor\":\"white\",\"ticks\":\"\",\"title\":{\"standoff\":15},\"zerolinecolor\":\"white\",\"automargin\":true,\"zerolinewidth\":2},\"yaxis\":{\"gridcolor\":\"white\",\"linecolor\":\"white\",\"ticks\":\"\",\"title\":{\"standoff\":15},\"zerolinecolor\":\"white\",\"automargin\":true,\"zerolinewidth\":2},\"scene\":{\"xaxis\":{\"backgroundcolor\":\"#E5ECF6\",\"gridcolor\":\"white\",\"linecolor\":\"white\",\"showbackground\":true,\"ticks\":\"\",\"zerolinecolor\":\"white\",\"gridwidth\":2},\"yaxis\":{\"backgroundcolor\":\"#E5ECF6\",\"gridcolor\":\"white\",\"linecolor\":\"white\",\"showbackground\":true,\"ticks\":\"\",\"zerolinecolor\":\"white\",\"gridwidth\":2},\"zaxis\":{\"backgroundcolor\":\"#E5ECF6\",\"gridcolor\":\"white\",\"linecolor\":\"white\",\"showbackground\":true,\"ticks\":\"\",\"zerolinecolor\":\"white\",\"gridwidth\":2}},\"shapedefaults\":{\"line\":{\"color\":\"#2a3f5f\"}},\"annotationdefaults\":{\"arrowcolor\":\"#2a3f5f\",\"arrowhead\":0,\"arrowwidth\":1},\"geo\":{\"bgcolor\":\"white\",\"landcolor\":\"#E5ECF6\",\"subunitcolor\":\"white\",\"showland\":true,\"showlakes\":true,\"lakecolor\":\"white\"},\"title\":{\"x\":0.05},\"mapbox\":{\"style\":\"light\"}}},\"scene\":{\"domain\":{\"x\":[0.0,1.0],\"y\":[0.0,1.0]},\"xaxis\":{\"title\":{\"text\":\"$\\\\Delta_{abs}$ [nm]\"}},\"yaxis\":{\"title\":{\"text\":\"$E^{red}$  [V vs. Li/Li+]\"}},\"zaxis\":{\"title\":{\"text\":\"$G^{solv}$ [eV]\"}}},\"legend\":{\"tracegroupgap\":0,\"itemsizing\":\"constant\"},\"margin\":{\"t\":0,\"l\":0,\"r\":0,\"b\":0}},                        {\"responsive\": true}                    ).then(function(){\n",
       "                            \n",
       "var gd = document.getElementById('cf871163-3959-4734-be2f-ba44b2c540ca');\n",
       "var x = new MutationObserver(function (mutations, observer) {{\n",
       "        var display = window.getComputedStyle(gd).display;\n",
       "        if (!display || display === 'none') {{\n",
       "            console.log([gd, 'removed!']);\n",
       "            Plotly.purge(gd);\n",
       "            observer.disconnect();\n",
       "        }}\n",
       "}});\n",
       "\n",
       "// Listen for the removal of the full notebook cells\n",
       "var notebookContainer = gd.closest('#notebook-container');\n",
       "if (notebookContainer) {{\n",
       "    x.observe(notebookContainer, {childList: true});\n",
       "}}\n",
       "\n",
       "// Listen for the clearing of the current output cell\n",
       "var outputEl = gd.closest('.output');\n",
       "if (outputEl) {{\n",
       "    x.observe(outputEl, {childList: true});\n",
       "}}\n",
       "\n",
       "                        })                };                });            </script>        </div>"
      ]
     },
     "metadata": {},
     "output_type": "display_data"
    }
   ],
   "source": [
    "fig = px.scatter_3d(df_par, x='abs_lam_diff', y='ered', z='gsol', size='size')\n",
    "pareto_points = df_par[df_par['type']=='front']\n",
    "\n",
    "fig.add_trace(go.Mesh3d(x=pareto_points['abs_lam_diff'].values,\n",
    "                   y=pareto_points['ered'].values,\n",
    "                   z=pareto_points['gsol'].values,\n",
    "                   opacity=0.2,\n",
    "                   color='blue'\n",
    "                  ))\n",
    "fig.update_layout(margin=dict(l=0, r=0, b=0, t=0))\n",
    "\n",
    "fig.update_scenes(xaxis_title_text=r'$\\Delta_{abs}$ [nm]',  \n",
    "                  yaxis_title_text=r'$E^{red}$  [V vs. Li/Li+]',  \n",
    "                  zaxis_title_text=r'$G^{solv}$ [eV]',\n",
    "                  )\n",
    "\n",
    "# axes[0].set_ylabel(r'$\\Delta_{`abs}$ [nm]', fontsize=12)\n",
    "# axes[1].set_ylabel(r'$E^{red}$  [V vs. Li/Li+]', fontsize=12)\n",
    "# axes[2].set_ylabel(r'$G^{solv}$ [eV]', fontsize=12)\n",
    "\n",
    "#fig.write_image(\"chimera_redoxmers_run.png\")\n",
    "fig.show()"
   ]
  },
  {
   "cell_type": "code",
   "execution_count": 31,
   "id": "d9eaba7b",
   "metadata": {},
   "outputs": [],
   "source": [
    "from scipy.stats import ttest_ind"
   ]
  },
  {
   "cell_type": "code",
   "execution_count": 14,
   "id": "8e38ee16",
   "metadata": {},
   "outputs": [
    {
     "data": {
      "text/html": [
       "<div>\n",
       "<style scoped>\n",
       "    .dataframe tbody tr th:only-of-type {\n",
       "        vertical-align: middle;\n",
       "    }\n",
       "\n",
       "    .dataframe tbody tr th {\n",
       "        vertical-align: top;\n",
       "    }\n",
       "\n",
       "    .dataframe thead th {\n",
       "        text-align: right;\n",
       "    }\n",
       "</style>\n",
       "<table border=\"1\" class=\"dataframe\">\n",
       "  <thead>\n",
       "    <tr style=\"text-align: right;\">\n",
       "      <th></th>\n",
       "      <th>Unnamed: 0</th>\n",
       "      <th>product_smiles</th>\n",
       "      <th>r1_label</th>\n",
       "      <th>r1_smiles</th>\n",
       "      <th>r1_smiles_raw</th>\n",
       "      <th>r3_label</th>\n",
       "      <th>r3_smiles</th>\n",
       "      <th>r3_smiles_raw</th>\n",
       "      <th>r4_label</th>\n",
       "      <th>r4_smiles</th>\n",
       "      <th>...</th>\n",
       "      <th>r5_MW</th>\n",
       "      <th>r5_AMW</th>\n",
       "      <th>r5_WPath</th>\n",
       "      <th>r5_WPol</th>\n",
       "      <th>r5_Zagreb1</th>\n",
       "      <th>r5_Zagreb2</th>\n",
       "      <th>r5_mZagreb2</th>\n",
       "      <th>r5_type</th>\n",
       "      <th>r5_ix</th>\n",
       "      <th>product_mols</th>\n",
       "    </tr>\n",
       "  </thead>\n",
       "  <tbody>\n",
       "    <tr>\n",
       "      <th>0</th>\n",
       "      <td>0</td>\n",
       "      <td>CCOCN(C(C)=O)c1c(C)c(C)c(C)c2nsnc12</td>\n",
       "      <td>R1_0</td>\n",
       "      <td>CCOC</td>\n",
       "      <td>CCOC</td>\n",
       "      <td>R3_0</td>\n",
       "      <td>C</td>\n",
       "      <td>C</td>\n",
       "      <td>R4_0</td>\n",
       "      <td>C</td>\n",
       "      <td>...</td>\n",
       "      <td>16.031300</td>\n",
       "      <td>3.206260</td>\n",
       "      <td>0</td>\n",
       "      <td>0</td>\n",
       "      <td>0.0</td>\n",
       "      <td>0.0</td>\n",
       "      <td>0.0</td>\n",
       "      <td>R5</td>\n",
       "      <td>0</td>\n",
       "      <td>&lt;rdkit.Chem.rdchem.Mol object at 0x7fd9b6776530&gt;</td>\n",
       "    </tr>\n",
       "    <tr>\n",
       "      <th>1</th>\n",
       "      <td>1</td>\n",
       "      <td>CCOCN(C(C)=O)c1c(C)c(C)c(C(F)(F)F)c2nsnc12</td>\n",
       "      <td>R1_0</td>\n",
       "      <td>CCOC</td>\n",
       "      <td>CCOC</td>\n",
       "      <td>R3_0</td>\n",
       "      <td>C</td>\n",
       "      <td>C</td>\n",
       "      <td>R4_0</td>\n",
       "      <td>C</td>\n",
       "      <td>...</td>\n",
       "      <td>70.003035</td>\n",
       "      <td>14.000607</td>\n",
       "      <td>9</td>\n",
       "      <td>0</td>\n",
       "      <td>12.0</td>\n",
       "      <td>9.0</td>\n",
       "      <td>1.0</td>\n",
       "      <td>R5</td>\n",
       "      <td>1</td>\n",
       "      <td>&lt;rdkit.Chem.rdchem.Mol object at 0x7fd9b5a57300&gt;</td>\n",
       "    </tr>\n",
       "    <tr>\n",
       "      <th>2</th>\n",
       "      <td>2</td>\n",
       "      <td>CCOCN(C(C)=O)c1c(C)c(C)c(C#N)c2nsnc12</td>\n",
       "      <td>R1_0</td>\n",
       "      <td>CCOC</td>\n",
       "      <td>CCOC</td>\n",
       "      <td>R3_0</td>\n",
       "      <td>C</td>\n",
       "      <td>C</td>\n",
       "      <td>R4_0</td>\n",
       "      <td>C</td>\n",
       "      <td>...</td>\n",
       "      <td>27.010899</td>\n",
       "      <td>9.003633</td>\n",
       "      <td>1</td>\n",
       "      <td>0</td>\n",
       "      <td>2.0</td>\n",
       "      <td>1.0</td>\n",
       "      <td>1.0</td>\n",
       "      <td>R5</td>\n",
       "      <td>2</td>\n",
       "      <td>&lt;rdkit.Chem.rdchem.Mol object at 0x7fd9b5ac3b20&gt;</td>\n",
       "    </tr>\n",
       "    <tr>\n",
       "      <th>3</th>\n",
       "      <td>3</td>\n",
       "      <td>CCOCN(C(C)=O)c1c(C)c(C)c(OC)c2nsnc12</td>\n",
       "      <td>R1_0</td>\n",
       "      <td>CCOC</td>\n",
       "      <td>CCOC</td>\n",
       "      <td>R3_0</td>\n",
       "      <td>C</td>\n",
       "      <td>C</td>\n",
       "      <td>R4_0</td>\n",
       "      <td>C</td>\n",
       "      <td>...</td>\n",
       "      <td>32.026215</td>\n",
       "      <td>5.337702</td>\n",
       "      <td>1</td>\n",
       "      <td>0</td>\n",
       "      <td>2.0</td>\n",
       "      <td>1.0</td>\n",
       "      <td>1.0</td>\n",
       "      <td>R5</td>\n",
       "      <td>3</td>\n",
       "      <td>&lt;rdkit.Chem.rdchem.Mol object at 0x7fd9b5ac3a80&gt;</td>\n",
       "    </tr>\n",
       "    <tr>\n",
       "      <th>4</th>\n",
       "      <td>4</td>\n",
       "      <td>CCOCN(C(C)=O)c1c(C)c(C)c(OC(F)(F)F)c2nsnc12</td>\n",
       "      <td>R1_0</td>\n",
       "      <td>CCOC</td>\n",
       "      <td>CCOC</td>\n",
       "      <td>R3_0</td>\n",
       "      <td>C</td>\n",
       "      <td>C</td>\n",
       "      <td>R4_0</td>\n",
       "      <td>C</td>\n",
       "      <td>...</td>\n",
       "      <td>85.997949</td>\n",
       "      <td>14.332992</td>\n",
       "      <td>16</td>\n",
       "      <td>0</td>\n",
       "      <td>20.0</td>\n",
       "      <td>16.0</td>\n",
       "      <td>1.0</td>\n",
       "      <td>R5</td>\n",
       "      <td>4</td>\n",
       "      <td>&lt;rdkit.Chem.rdchem.Mol object at 0x7fd9b4933c10&gt;</td>\n",
       "    </tr>\n",
       "  </tbody>\n",
       "</table>\n",
       "<p>5 rows × 2395 columns</p>\n",
       "</div>"
      ],
      "text/plain": [
       "   Unnamed: 0                               product_smiles r1_label r1_smiles  \\\n",
       "0           0          CCOCN(C(C)=O)c1c(C)c(C)c(C)c2nsnc12     R1_0      CCOC   \n",
       "1           1   CCOCN(C(C)=O)c1c(C)c(C)c(C(F)(F)F)c2nsnc12     R1_0      CCOC   \n",
       "2           2        CCOCN(C(C)=O)c1c(C)c(C)c(C#N)c2nsnc12     R1_0      CCOC   \n",
       "3           3         CCOCN(C(C)=O)c1c(C)c(C)c(OC)c2nsnc12     R1_0      CCOC   \n",
       "4           4  CCOCN(C(C)=O)c1c(C)c(C)c(OC(F)(F)F)c2nsnc12     R1_0      CCOC   \n",
       "\n",
       "  r1_smiles_raw r3_label r3_smiles r3_smiles_raw r4_label r4_smiles  ...  \\\n",
       "0          CCOC     R3_0         C             C     R4_0         C  ...   \n",
       "1          CCOC     R3_0         C             C     R4_0         C  ...   \n",
       "2          CCOC     R3_0         C             C     R4_0         C  ...   \n",
       "3          CCOC     R3_0         C             C     R4_0         C  ...   \n",
       "4          CCOC     R3_0         C             C     R4_0         C  ...   \n",
       "\n",
       "       r5_MW     r5_AMW r5_WPath r5_WPol  r5_Zagreb1  r5_Zagreb2  r5_mZagreb2  \\\n",
       "0  16.031300   3.206260        0       0         0.0         0.0          0.0   \n",
       "1  70.003035  14.000607        9       0        12.0         9.0          1.0   \n",
       "2  27.010899   9.003633        1       0         2.0         1.0          1.0   \n",
       "3  32.026215   5.337702        1       0         2.0         1.0          1.0   \n",
       "4  85.997949  14.332992       16       0        20.0        16.0          1.0   \n",
       "\n",
       "   r5_type  r5_ix                                      product_mols  \n",
       "0       R5      0  <rdkit.Chem.rdchem.Mol object at 0x7fd9b6776530>  \n",
       "1       R5      1  <rdkit.Chem.rdchem.Mol object at 0x7fd9b5a57300>  \n",
       "2       R5      2  <rdkit.Chem.rdchem.Mol object at 0x7fd9b5ac3b20>  \n",
       "3       R5      3  <rdkit.Chem.rdchem.Mol object at 0x7fd9b5ac3a80>  \n",
       "4       R5      4  <rdkit.Chem.rdchem.Mol object at 0x7fd9b4933c10>  \n",
       "\n",
       "[5 rows x 2395 columns]"
      ]
     },
     "execution_count": 14,
     "metadata": {},
     "output_type": "execute_result"
    }
   ],
   "source": [
    "raw_df.head()"
   ]
  },
  {
   "cell_type": "code",
   "execution_count": 15,
   "id": "d51c5dc1",
   "metadata": {},
   "outputs": [
    {
     "data": {
      "text/plain": [
       "Index(['Unnamed: 0', 'product_smiles', 'r1_label', 'r1_smiles',\n",
       "       'r1_smiles_raw', 'r3_label', 'r3_smiles', 'r3_smiles_raw', 'r4_label',\n",
       "       'r4_smiles', 'r4_smiles_raw', 'r5_label', 'r5_smiles', 'r5_smiles_raw',\n",
       "       'ered', 'gsol', 'abs_lam', 'abs_lam_diff', 'ra_xgb', 'ra_nn'],\n",
       "      dtype='object')"
      ]
     },
     "execution_count": 15,
     "metadata": {},
     "output_type": "execute_result"
    }
   ],
   "source": [
    "raw_df.columns[:20]"
   ]
  },
  {
   "cell_type": "code",
   "execution_count": 19,
   "id": "d293bd01",
   "metadata": {},
   "outputs": [],
   "source": [
    "mean_abs_lam_r11 = raw_df[raw_df['r1_label']=='R1_0']['abs_lam'].mean()\n",
    "mean_abs_lam_diff_r11 = raw_df[raw_df['r1_label']=='R1_0']['abs_lam_diff'].mean()\n",
    "\n",
    "mean_abs_lam_r12 = raw_df[raw_df['r1_label']=='R1_1']['abs_lam'].mean()\n",
    "mean_abs_lam_diff_r12 = raw_df[raw_df['r1_label']=='R1_1']['abs_lam_diff'].mean()"
   ]
  },
  {
   "cell_type": "code",
   "execution_count": null,
   "id": "183745fd",
   "metadata": {},
   "outputs": [],
   "source": []
  },
  {
   "cell_type": "code",
   "execution_count": 21,
   "id": "0c5e18c8",
   "metadata": {},
   "outputs": [
    {
     "name": "stdout",
     "output_type": "stream",
     "text": [
      "358.95957325746775 355.9003125000003\n",
      "32.467852062588925 39.342784090909085\n"
     ]
    }
   ],
   "source": [
    "print(mean_abs_lam_r11, mean_abs_lam_r12)\n",
    "print(mean_abs_lam_diff_r11, mean_abs_lam_diff_r12)"
   ]
  },
  {
   "cell_type": "code",
   "execution_count": 37,
   "id": "36a4cdcf",
   "metadata": {},
   "outputs": [],
   "source": [
    "def get_average(rgroup, option, df):\n",
    "    sub_df = df[df[rgroup]==option]\n",
    "    return {\n",
    "        'abs_lam': sub_df['abs_lam'].mean(),\n",
    "        'abs_lam_std': sub_df['abs_lam'].std(),\n",
    "        'abs_lam_stde': sub_df['abs_lam'].std() / np.sqrt(sub_df.shape[0]),\n",
    "        'abs_lam_diff': sub_df['abs_lam_diff'].mean(),\n",
    "        'abs_lam_diff_std': sub_df['abs_lam_diff'].std(),\n",
    "        'abs_lam_diff_stde': sub_df['abs_lam_diff'].std() / np.sqrt(sub_df.shape[0]),\n",
    "        'ered': sub_df['ered'].mean(),\n",
    "        'ered_std': sub_df['ered'].std(),\n",
    "        'ered_stde': sub_df['ered'].std() / np.sqrt(sub_df.shape[0]),\n",
    "        'gsol': sub_df['gsol'].mean(),\n",
    "        'gsol_std': sub_df['gsol'].std(),\n",
    "        'gsol_stde': sub_df['gsol'].std() / np.sqrt(sub_df.shape[0]),\n",
    "    }"
   ]
  },
  {
   "cell_type": "code",
   "execution_count": 33,
   "id": "a8beae78",
   "metadata": {},
   "outputs": [
    {
     "name": "stdout",
     "output_type": "stream",
     "text": [
      "{'abs_lam': 358.95957325746775, 'abs_lam_std': 33.70920158247006, 'abs_lam_stde': 1.2713666168476783, 'abs_lam_diff': 32.467852062588925, 'abs_lam_diff_std': 18.39317827125737, 'abs_lam_diff_stde': 0.6937118571199099, 'ered': 2.2478907814935987, 'ered_std': 0.3055366483825762, 'ered_stde': 0.011523532944759553, 'gsol': -0.7580281400142242, 'gsol_std': 0.11812879161680898, 'gsol_stde': 0.004455311757614222}\n",
      " \n",
      "{'abs_lam': 355.9003125000003, 'abs_lam_std': 40.81840431435207, 'abs_lam_stde': 1.538401496042385, 'abs_lam_diff': 39.342784090909085, 'abs_lam_diff_std': 21.940890245932184, 'abs_lam_diff_stde': 0.8269284149105189, 'ered': 2.3909569746022723, 'ered_std': 0.3179446564854157, 'ered_stde': 0.011982990109779108, 'gsol': -0.5706581691477272, 'gsol_std': 0.11747946617753979, 'gsol_stde': 0.004427673975933491}\n"
     ]
    },
    {
     "data": {
      "text/plain": [
       "Ttest_indResult(statistic=-29.83016276056716, pvalue=7.038704376267108e-152)"
      ]
     },
     "execution_count": 33,
     "metadata": {},
     "output_type": "execute_result"
    }
   ],
   "source": [
    "r11 = get_average('r1_label', 'R1_0', raw_df)\n",
    "r12 = get_average('r1_label', 'R1_1', raw_df)\n",
    "\n",
    "print(r11)\n",
    "print(' ')\n",
    "print(r12)\n",
    "\n",
    "r11_gsol = raw_df[raw_df['r1_label']=='R1_0']['gsol'].values\n",
    "r12_gsol = raw_df[raw_df['r1_label']=='R1_1']['gsol'].values\n",
    "\n",
    "ttest_ind(r11_gsol, r12_gsol)\n",
    "\n"
   ]
  },
  {
   "cell_type": "code",
   "execution_count": 34,
   "id": "7cdfaede",
   "metadata": {},
   "outputs": [
    {
     "name": "stderr",
     "output_type": "stream",
     "text": [
      "/opt/anaconda3/envs/olympus/lib/python3.7/site-packages/seaborn/distributions.py:2619: FutureWarning: `distplot` is a deprecated function and will be removed in a future version. Please adapt your code to use either `displot` (a figure-level function with similar flexibility) or `histplot` (an axes-level function for histograms).\n",
      "  warnings.warn(msg, FutureWarning)\n",
      "/opt/anaconda3/envs/olympus/lib/python3.7/site-packages/seaborn/distributions.py:2619: FutureWarning: `distplot` is a deprecated function and will be removed in a future version. Please adapt your code to use either `displot` (a figure-level function with similar flexibility) or `histplot` (an axes-level function for histograms).\n",
      "  warnings.warn(msg, FutureWarning)\n"
     ]
    },
    {
     "data": {
      "text/plain": [
       "<matplotlib.legend.Legend at 0x7fd99dc5f210>"
      ]
     },
     "execution_count": 34,
     "metadata": {},
     "output_type": "execute_result"
    },
    {
     "data": {
      "image/png": "[encoded data removed]",
      "text/plain": [
       "<Figure size 432x288 with 1 Axes>"
      ]
     },
     "metadata": {
      "needs_background": "light"
     },
     "output_type": "display_data"
    }
   ],
   "source": [
    "sns.distplot(r11_gsol, label='r11')\n",
    "sns.distplot(r12_gsol, label='r12')\n",
    "plt.legend()"
   ]
  },
  {
   "cell_type": "code",
   "execution_count": null,
   "id": "f627c70b",
   "metadata": {},
   "outputs": [],
   "source": []
  },
  {
   "cell_type": "code",
   "execution_count": null,
   "id": "51780f15",
   "metadata": {},
   "outputs": [],
   "source": []
  },
  {
   "cell_type": "code",
   "execution_count": 40,
   "id": "aa7bc9ad",
   "metadata": {},
   "outputs": [],
   "source": [
    "r23 = get_average('r3_label', 'R3_2', raw_df)\n",
    "r28 = get_average('r3_label', 'R3_7', raw_df)"
   ]
  },
  {
   "cell_type": "code",
   "execution_count": 42,
   "id": "8086ae1a",
   "metadata": {},
   "outputs": [
    {
     "name": "stdout",
     "output_type": "stream",
     "text": [
      "{'abs_lam': 353.82250000000005, 'abs_lam_std': 41.56206690171768, 'abs_lam_stde': 3.132858668741966, 'abs_lam_diff': 41.744659090909096, 'abs_lam_diff_std': 20.636867976587848, 'abs_lam_diff_stde': 1.5555624528736984, 'ered': 2.5838330497727275, 'ered_std': 0.257896558134119, 'ered_stde': 0.0194396845012489, 'gsol': -0.714595358693182, 'gsol_std': 0.14908556136148896, 'gsol_stde': 0.011237747015808305}\n",
      "\n",
      "{'abs_lam': 400.56392045454555, 'abs_lam_std': 21.825331467931136, 'abs_lam_stde': 1.645146259187823, 'abs_lam_diff': 27.235170454545457, 'abs_lam_diff_std': 19.687569217276806, 'abs_lam_diff_stde': 1.4840063665422298, 'ered': 2.1113318635795455, 'ered_std': 0.2861085058897072, 'ered_stde': 0.021566240076485155, 'gsol': -0.713810752159091, 'gsol_std': 0.14630734195250086, 'gsol_stde': 0.011028330848424295}\n"
     ]
    }
   ],
   "source": [
    "print(r23) \n",
    "print('')\n",
    "print(r28) # chimera hypervolume favoured --> roughly 50% relative requency 10/20 redoxmers"
   ]
  },
  {
   "cell_type": "code",
   "execution_count": null,
   "id": "7c8d0e3a",
   "metadata": {},
   "outputs": [],
   "source": []
  },
  {
   "cell_type": "code",
   "execution_count": null,
   "id": "56e6543d",
   "metadata": {},
   "outputs": [],
   "source": [
    "r23 = get_average('r3_label', 'R3_2', raw_df)\n",
    "r28 = get_average('r3_label', 'R3_7', raw_df)"
   ]
  },
  {
   "cell_type": "code",
   "execution_count": null,
   "id": "054b80b2",
   "metadata": {},
   "outputs": [],
   "source": []
  }
 ],
 "metadata": {
  "kernelspec": {
   "display_name": "atlas",
   "language": "python",
   "name": "atlas"
  },
  "language_info": {
   "codemirror_mode": {
    "name": "ipython",
    "version": 3
   },
   "file_extension": ".py",
   "mimetype": "text/x-python",
   "name": "python",
   "nbconvert_exporter": "python",
   "pygments_lexer": "ipython3",
   "version": "3.10.8"
  }
 },
 "nbformat": 4,
 "nbformat_minor": 5
}
