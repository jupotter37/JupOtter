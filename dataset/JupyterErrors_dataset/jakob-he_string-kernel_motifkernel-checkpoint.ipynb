{
 "cells": [
  {
   "cell_type": "markdown",
   "metadata": {},
   "source": [
    "## Motif Kernel / SVM Tutorial\n",
    "\n",
    "This Tutorial shows how you can combine the motif kernel of the *strkernel* package with a Support Vector Machine (SVM) to predict cell populations. Before we start applying the motif Kernel to the data I will explain what kind of data we will be using and why we can use the motif kernel in this particular case. \n",
    "\n",
    "There are two FASTA files each filled with sequences from two different cell popultions. If you are not familar with the FASTA format, [here](http://genetics.bwh.harvard.edu/pph/FASTA.html) is a short explantion. *fibroblast.fa* are sequences obtained from fibroblast while *stemcells.fa* contains sequences from stemcells. The goal of this tutorial is to show that we can use prior knowledge to construct motifs and use those motifs to classify new sequences into the two cell populations. The accuracy of the prediction is in this case secondary as long as we get a result that shows that we can use the motif content of sequences to compare their similarity and therefore classify them.\n",
    "\n",
    "First, you will need some packages for preprocessing,classification and to plot the results. "
   ]
  },
  {
   "cell_type": "code",
   "execution_count": 9,
   "metadata": {},
   "outputs": [],
   "source": [
    "# preprocessing\n",
    "import numpy as np\n",
    "from Bio.Seq import Seq\n",
    "import Bio.SeqIO as sio\n",
    "\n",
    "# SVM\n",
    "from sklearn.svm import SVC\n",
    "from sklearn.model_selection import train_test_split\n",
    "from sklearn.metrics import classification_report\n",
    "\n",
    "# ROC and precision-recall curve\n",
    "from sklearn.metrics import roc_curve, auc, precision_recall_curve, average_precision_score\n",
    "\n",
    "# plotting\n",
    "import matplotlib.pyplot as plt  # plotting\n",
    "\n",
    "# strkernel\n",
    "from strkernel.motifkernel import motifKernel"
   ]
  },
  {
   "cell_type": "markdown",
   "metadata": {},
   "source": [
    "### Preprocessing\n",
    "\n",
    "In order to use the data with the SVM provided by *sklearn* we need to read in the FASTA files with *Biopython* and add some labels. In this case we will label the stemcells as positive (1) and the fibroblast as negative (0). "
   ]
  },
  {
   "cell_type": "code",
   "execution_count": 1,
   "metadata": {},
   "outputs": [
    {
     "ename": "NameError",
     "evalue": "name 'sio' is not defined",
     "output_type": "error",
     "traceback": [
      "\u001b[0;31m---------------------------------------------------------------------------\u001b[0m",
      "\u001b[0;31mNameError\u001b[0m                                 Traceback (most recent call last)",
      "\u001b[0;32m<ipython-input-1-e33e3d443aaf>\u001b[0m in \u001b[0;36m<module>\u001b[0;34m()\u001b[0m\n\u001b[1;32m      1\u001b[0m \u001b[0;31m# load the data\u001b[0m\u001b[0;34m\u001b[0m\u001b[0;34m\u001b[0m\u001b[0m\n\u001b[1;32m      2\u001b[0m \u001b[0;31m# stemcells\u001b[0m\u001b[0;34m\u001b[0m\u001b[0;34m\u001b[0m\u001b[0m\n\u001b[0;32m----> 3\u001b[0;31m \u001b[0mpos_data\u001b[0m \u001b[0;34m=\u001b[0m \u001b[0;34m[\u001b[0m\u001b[0mseq\u001b[0m\u001b[0;34m.\u001b[0m\u001b[0mseq\u001b[0m \u001b[0;32mfor\u001b[0m \u001b[0mseq\u001b[0m \u001b[0;32min\u001b[0m \u001b[0msio\u001b[0m\u001b[0;34m.\u001b[0m\u001b[0mparse\u001b[0m\u001b[0;34m(\u001b[0m\u001b[0;34m'notebook_data/stemcells.fa'\u001b[0m\u001b[0;34m,\u001b[0m \u001b[0;34m'fasta'\u001b[0m\u001b[0;34m)\u001b[0m\u001b[0;34m]\u001b[0m\u001b[0;34m\u001b[0m\u001b[0m\n\u001b[0m\u001b[1;32m      4\u001b[0m \u001b[0;31m# fibroblasts\u001b[0m\u001b[0;34m\u001b[0m\u001b[0;34m\u001b[0m\u001b[0m\n\u001b[1;32m      5\u001b[0m \u001b[0mneg_data\u001b[0m \u001b[0;34m=\u001b[0m \u001b[0;34m[\u001b[0m\u001b[0mseq\u001b[0m\u001b[0;34m.\u001b[0m\u001b[0mseq\u001b[0m \u001b[0;32mfor\u001b[0m \u001b[0mseq\u001b[0m \u001b[0;32min\u001b[0m \u001b[0msio\u001b[0m\u001b[0;34m.\u001b[0m\u001b[0mparse\u001b[0m\u001b[0;34m(\u001b[0m\u001b[0;34m'notebook_data/fibroblast.fa'\u001b[0m\u001b[0;34m,\u001b[0m \u001b[0;34m'fasta'\u001b[0m\u001b[0;34m)\u001b[0m\u001b[0;34m]\u001b[0m\u001b[0;34m\u001b[0m\u001b[0m\n",
      "\u001b[0;31mNameError\u001b[0m: name 'sio' is not defined"
     ]
    }
   ],
   "source": [
    "# load the data\n",
    "# stemcells\n",
    "pos_data = [seq.seq for seq in sio.parse('notebook_data/stemcells.fa', 'fasta')]\n",
    "# fibroblasts\n",
    "neg_data = [seq.seq for seq in sio.parse('notebook_data/fibroblast.fa', 'fasta')]\n",
    "\n",
    "pos_labels = np.ones(len(pos_data), dtype=int)\n",
    "neg_labels = np.zeros(len(neg_data), dtype=int)\n",
    "\n",
    "y = np.concatenate((pos_labels, neg_labels), axis=0)"
   ]
  },
  {
   "cell_type": "markdown",
   "metadata": {},
   "source": [
    "### Motifs\n",
    "\n",
    "Now we have to decide what set of motifs we will be using to construct the motif kernel. There are specific transcription factors have binding sites which tend to be enriched in one of the groups. Natuarlly not every sequence contains the binding site for these transcription factors but we should be able to correctly classify those that do. \n",
    "In stemcells, we expect the **oct4** binding site to be enriched because this protein has been shown to be heavily involved in the pluripotency of cells. In firboblast lung tissue on the other hand, we expect the **mafk** binding site to be enriched.\n",
    "\n",
    "The [japser](http://jaspar.genereg.net/) database allows to check for the binding motifs of the transcription factors. If we search for **oct4** and **mafk** we get the following binding sites:\n",
    "\n",
    "#### **oct4**\n",
    "![oct4](notebook_data/oct4.png)\n",
    "\n",
    "#### **mafk**\n",
    "![mafk](notebook_data/mafk.png)\n",
    "\n",
    "We can now add the most prominent motifs of these bindings sites to our motif collection. For this tutorial we chose the motif \"TCAGCA\" of the **mafk** binding site and the motifs \"ATGCAA\" and \"TTGT\" of the **oct4** binding site. This decision is based on which motifs are the most prominent. Since the reads originate from both strands we also have to include the reverse complement of the motifs. \n",
    "\n",
    "In normal use cases the number of motifs is usally a lot higher but for this tutorial the six motifs will be enough."
   ]
  },
  {
   "cell_type": "code",
   "execution_count": 53,
   "metadata": {},
   "outputs": [],
   "source": [
    "motif_collection = [\"TCAGCA\",\"TGCTGA\",\"ATGCAA\",\"TTGCAT\",\"TTGT\",\"ACAA\"]\n",
    "\n",
    "#create the motif kernel\n",
    "motif_kernel = motifKernel(motif_collection)\n",
    "\n",
    "#use the motif kernel to compute the motif content matrix for all sequences\n",
    "motif_matrix = motif_kernel.compute_matrix(pos_data + neg_data) "
   ]
  },
  {
   "cell_type": "markdown",
   "metadata": {},
   "source": [
    "### Classification\n",
    "\n",
    "We can now split the matrix into test and training data. The training data can then be used to train the SVM. We will keep 30% of the data as test data to evaluate the model."
   ]
  },
  {
   "cell_type": "code",
   "execution_count": 54,
   "metadata": {},
   "outputs": [
    {
     "data": {
      "text/plain": [
       "SVC(C=1.0, cache_size=200, class_weight=None, coef0=0.0,\n",
       "  decision_function_shape='ovr', degree=3, gamma='auto', kernel='rbf',\n",
       "  max_iter=-1, probability=False, random_state=None, shrinking=True,\n",
       "  tol=0.001, verbose=False)"
      ]
     },
     "execution_count": 54,
     "metadata": {},
     "output_type": "execute_result"
    }
   ],
   "source": [
    "#split into test and training set.\n",
    "X_train, X_test, y_train, y_test = train_test_split(motif_matrix, y, test_size=0.3, random_state=42, stratify=y)\n",
    "#train classifier\n",
    "clf = SVC()\n",
    "clf.fit(X_train, y_train)"
   ]
  },
  {
   "cell_type": "markdown",
   "metadata": {},
   "source": [
    "### Results\n",
    "\n",
    "The only thing left to do is to analyze the trained model. *sklearn* provides a function which can be used to get a classifcation report. This report shows us the precision, recall and f1-score when we apply the model to our test data. We will also plot the ROC and PRC but first we will have to define a couple of wrapper functions."
   ]
  },
  {
   "cell_type": "code",
   "execution_count": 55,
   "metadata": {},
   "outputs": [
    {
     "name": "stdout",
     "output_type": "stream",
     "text": [
      "Detailed classification report:\n",
      "\n",
      "             precision    recall  f1-score   support\n",
      "\n",
      "          0       0.77      0.65      0.70      1200\n",
      "          1       0.70      0.80      0.75      1199\n",
      "\n",
      "avg / total       0.73      0.73      0.72      2399\n",
      "\n",
      "\n"
     ]
    },
    {
     "data": {
      "image/png": "[encoded data removed]",
      "text/plain": [
       "<Figure size 432x288 with 1 Axes>"
      ]
     },
     "metadata": {},
     "output_type": "display_data"
    },
    {
     "data": {
      "image/png": "[encoded data removed]",
      "text/plain": [
       "<Figure size 432x288 with 1 Axes>"
      ]
     },
     "metadata": {},
     "output_type": "display_data"
    }
   ],
   "source": [
    "def plot_roc_curve(y_test, y_score):\n",
    "    '''Plots a roc curve including a baseline'''\n",
    "    fpr, tpr, thresholds = roc_curve(y_test, y_score)\n",
    "    roc_auc = auc(fpr, tpr)\n",
    "\n",
    "    plt.figure()\n",
    "    lw = 2\n",
    "    plt.plot(fpr, tpr, color='darkorange',\n",
    "             lw=lw, label='ROC curve (area = %0.2f)' % roc_auc)\n",
    "    plt.plot([0, 1], [0, 1], color='navy', lw=lw, linestyle='--')\n",
    "    plt.xlim([0.0, 1.0])\n",
    "    plt.ylim([0.0, 1.05])\n",
    "    plt.xlabel('False Positive Rate')\n",
    "    plt.ylabel('True Positive Rate')\n",
    "    plt.title('Receiver operating curve')\n",
    "    plt.legend(loc=\"lower right\")\n",
    "    plt.show()\n",
    "\n",
    "\n",
    "def plot_prec_recall_curve(y_test, y_scores):\n",
    "    '''Plots a precision-recall curve including a baseline'''\n",
    "    precision, recall, thresholds = precision_recall_curve(y_test, y_scores)\n",
    "    average_precision = average_precision_score(y_test, y_scores)\n",
    "    baseline = np.bincount(y_test)[1] / sum(np.bincount(y_test))\n",
    "    plt.figure()\n",
    "    plt.step(recall, precision, color='b', alpha=0.2,\n",
    "             where='post')\n",
    "    plt.fill_between(recall, precision, step='post', alpha=0.2,\n",
    "                     color='b')\n",
    "    plt.axhline(y=baseline, linewidth=2, color='navy', linestyle='--')\n",
    "    plt.xlabel('Recall')\n",
    "    plt.ylabel('Precision')\n",
    "    plt.ylim([0.0, 1.05])\n",
    "    plt.xlim([0.0, 1.0])\n",
    "    plt.title('2-class Precision-Recall curve: AP={0:0.2f}'.format(\n",
    "              average_precision))\n",
    "    plt.show()\n",
    "\n",
    "\n",
    "def reportclassfication(clf, X_test, y_test):\n",
    "    '''Reports classification results with the given model and testdata'''\n",
    "\n",
    "    print(\"Detailed classification report:\")\n",
    "    print()\n",
    "    y_true, y_pred = y_test, clf.predict(X_test)\n",
    "    print(classification_report(y_true, y_pred))\n",
    "    print()\n",
    "    \n",
    "\n",
    "# get classfication results with the tuned parameters\n",
    "reportclassfication(clf, X_test, y_test)\n",
    "\n",
    "y_scores = clf.decision_function(X_test)\n",
    "# plot ROC\n",
    "plot_roc_curve(y_test, y_scores)\n",
    "\n",
    "# plot PRC\n",
    "plot_prec_recall_curve(y_test, y_scores)"
   ]
  },
  {
   "cell_type": "markdown",
   "metadata": {},
   "source": [
    "We are able to correctly classify around 80% of the stemcell sequences and 70% of the fibroblast sequences. Obviously this is not the best classification results one could have but we can see that the motifs we derived from the bindings sites of transciption factors can be used to classify sequences into cell populations. \n",
    "\n",
    "In this example we only used the binding sites of two transcription factors to create a motif collection. For better classifcation results you could include more prior information about the cell populations to extend the motif collection."
   ]
  }
 ],
 "metadata": {
  "kernelspec": {
   "display_name": "Python 3",
   "language": "python",
   "name": "python3"
  },
  "language_info": {
   "codemirror_mode": {
    "name": "ipython",
    "version": 3
   },
   "file_extension": ".py",
   "mimetype": "text/x-python",
   "name": "python",
   "nbconvert_exporter": "python",
   "pygments_lexer": "ipython3",
   "version": "3.6.5"
  }
 },
 "nbformat": 4,
 "nbformat_minor": 2
}
