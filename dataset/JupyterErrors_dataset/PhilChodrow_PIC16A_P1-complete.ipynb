{
 "cells": [
  {
   "cell_type": "markdown",
   "metadata": {},
   "source": [
    "# Academic Integrity Statement\n",
    "\n",
    "As a matter of Departmental policy, **we are required to give you a 0** unless you **type your name** after the following statement: \n",
    "\n",
    "> *I certify on my honor that I have neither given nor received any help, or used any non-permitted resources, while completing this evaluation.*\n",
    "\n",
    "\\[TYPE YOUR NAME HERE\\]\n",
    "\n",
    "### Partial Credit\n",
    "\n",
    "Let us give you partial credit! If you're stuck on a problem and just can't get your code to run: \n",
    "\n",
    "First, **breathe**. Then, do any or all of the following: \n",
    "    \n",
    "1. Write down everything relevant that you know about the problem, as comments where your code would go. \n",
    "2. If you have non-functioning code that demonstrates some correct ideas, indicate that and keep it (commented out). \n",
    "3. Write down pseudocode (written instructions) outlining your solution approach. \n",
    "\n",
    "In brief, even if you can't quite get your code to work, you can still **show us what you know.**\n",
    "\n",
    "\n",
    "## Problem 1 (50 points)\n",
    "\n",
    "This problem has three parts which can be completed independently. "
   ]
  },
  {
   "cell_type": "markdown",
   "metadata": {},
   "source": [
    "## Part A (20 points)\n",
    "\n",
    "The code below is intended to model a PIC student who attends OH and uses what they learn to do better on future homework assignments. There are several functions intended to model this student's actions. The docstring correctly states the intended functionality of the class, but the code itself does not necessarily implement the docstring correctly. "
   ]
  },
  {
   "cell_type": "code",
   "execution_count": 1,
   "metadata": {},
   "outputs": [],
   "source": [
    "import random\n",
    "\n",
    "class PICStudent:\n",
    "    \"\"\"\n",
    "    A class representing a PIC student. \n",
    "    \n",
    "    Includes the following instance variables: \n",
    "    - name (string), the name of the student. \n",
    "    - understanding (int or float), the student's understanding of Python. \n",
    "    \n",
    "    Includes the following methods: \n",
    "    - add_name(), sets a user-specified value of name for the student. \n",
    "        No return value.\n",
    "    - say_hi(), prints a message containing the student's name. \n",
    "    - go_to_OH(), increases the student's understanding by one unit. \n",
    "        No return value.\n",
    "    - do_HW(), returns a score (int or float) out of 100 based on the student's \n",
    "        understanding of Python.\n",
    "    \"\"\"\n",
    "    pass\n",
    "\n",
    "def add_name(PCS, name):\n",
    "    if type(PCS) != PICStudent:\n",
    "        raise TypeError(\"This function is designed to work with objects of class PICStudent\")\n",
    "    PCS.name = name\n",
    "\n",
    "def say_hi(PCS, name):\n",
    "    print(\"Hello! My name is \" + str(self.name))\n",
    "\n",
    "def go_to_OH(PCS):\n",
    "    if type(PCS) != PICStudent:\n",
    "        raise TypeError(\"This function is designed to work with objects of class PICStudent\")\n",
    "    PCS.understanding += 1\n",
    "    \n",
    "def do_HW(PCS):\n",
    "    if type(PCS) != PICStudent:\n",
    "        raise TypeError(\"This function is designed to work with objects of class PICStudent\")\n",
    "    \n",
    "    score = max(75+25*random.random(), 25*PCS.understanding)\n",
    "    return score    "
   ]
  },
  {
   "cell_type": "markdown",
   "metadata": {},
   "source": [
    "First, **critique** this solution. For full credit, state **four (4) distinct issues** in this code. Your issues should include one of each of the following types: \n",
    "\n",
    "- One way in which the code **does not match the docstring.** \n",
    "- One way in which an **unexpected exception** could be raised. \n",
    "- One way in which the code might give an **illogical or absurd output** without raising an exception. \n",
    "- One additional issue. This could be a second instance of one of the above categories, or an issue of a completely different type. \n",
    "\n",
    "There may be some overlap between these types of issues. For example, an illogical or absurd output could also be in contradiction of the docstring. In such a case, you can choose which category in which to count the issue, but must still describe a total of four distinct issues. \n",
    "\n",
    "Feel free to add code cells as needed to demonstrate your critiques. "
   ]
  },
  {
   "cell_type": "markdown",
   "metadata": {},
   "source": [
    "---\n",
    "\n",
    "*There are a number of good critiques. If you gave significantly different answers than the ones shown here, but clearly justified your response and otherwise met the problem requirements, don't worry.*\n",
    "\n",
    "1. **Failure to match docstring.** On initialization, class contains neither instance variables nor methods. \n",
    "2. **Unexpected exception.** \n",
    "    - Calling `say_hi()` prior to `add_name()` will raise an `AttributeError` because `name` is not initialized. \n",
    "    - Calling `go_to_OH()` will always raise an `AttributeError` because `understanding` is not initialized. \n",
    "3. **Illogical or absurd output.** Can achieve HW scores > 100. Can also be counted as a failure to match the docstring. \n",
    "4. **Additional issue.** Many possibilities. In addition to the above: \n",
    "    - Highly repetitive type-checking, which can be eliminated in the object-oriented approach. \n",
    "    - No default provided for the `name`. \n",
    "    - Many more...\n",
    "\n",
    "\n",
    "---"
   ]
  },
  {
   "cell_type": "markdown",
   "metadata": {},
   "source": [
    "Second, **improve the code**. Write a modified version that (a) fully matches the supplied docstring and (b) fixes the issues that you indicated above. **It is not necessary to add new docstrings,** even if the old ones are no longer appropriate due to your changes. It is not necessary to demonstrate your code, although doing so may help us give you partial credit. "
   ]
  },
  {
   "cell_type": "code",
   "execution_count": 10,
   "metadata": {},
   "outputs": [],
   "source": [
    "# your improvement\n",
    "# other logical approaches are possible, especially when handling \n",
    "# the relationship between self.understanding and self.do_HW(). \n",
    "\n",
    "import random\n",
    "\n",
    "class PICStudent:\n",
    "    \n",
    "    def __init__(self, name):\n",
    "        self.name = name\n",
    "        self.understanding = 0\n",
    "    \n",
    "    def say_hi(PCS, name):\n",
    "        print(\"Hello! My name is \" + str(self.name))\n",
    "    \n",
    "    def go_to_OH(self):\n",
    "        self.understanding += 1\n",
    "    \n",
    "    def do_HW(self):\n",
    "        score = max(75+25*random.random(), min(25*PCS.understanding, 100))\n",
    "        return score\n",
    "    "
   ]
  },
  {
   "cell_type": "markdown",
   "metadata": {},
   "source": [
    "## Part B (20 points)\n",
    "\n",
    "Write a class that matches the following docstring. You may find it helpful to consult the [lecture notes](https://nbviewer.jupyter.org/github/PhilChodrow/PIC16A/blob/master/content/object_oriented_programming/inheritance_I.ipynb) in which we first defined `ArithmeticDict()`. \n",
    "\n",
    "Then, demonstrate each of the examples given in the docstring. "
   ]
  },
  {
   "cell_type": "code",
   "execution_count": 36,
   "metadata": {},
   "outputs": [],
   "source": [
    "class SubtractionDict(dict):\n",
    "    \"\"\"\n",
    "    a SubtractionDict includes all properties and methods of the dict class. \n",
    "    Additionally, implements dictionary subtraction via the - binary operator. \n",
    "    \n",
    "    If SD1 and SD2 are both SubtractionDicts whose values are numbers (ints or floats),\n",
    "    and if all values in SD1 are larger than their corresponding values in SD2, \n",
    "    then SD1 - SD2 is a new SubtractionDict whose keys are the keys of SD1 and whose values\n",
    "    are the difference in values between SD1 and SD2. Keys present in SD1 but not in SD2 are \n",
    "    handled as though they are present in SD2 with value 0. \n",
    "    \n",
    "    A ValueError is raised when: \n",
    "    1. SD2 contains keys not contained in SD1.\n",
    "    2. The result of subtraction would result in negative values. \n",
    "    \n",
    "    If subtraction would result in a value of exactly zero, the key is instead \n",
    "    removed from the result. \n",
    "    \n",
    "    Examples: \n",
    "    \n",
    "    # making strawberry-onion pie\n",
    "    SD1 = SubtractionDict({\"onions\" : 3, \"strawberries (lbs)\" : 2})\n",
    "    SD2 = SubtractionDict({\"onions\" : 1, \"strawberries (lbs)\" : 1})\n",
    "    SD1 - SD2 # == SubtractionDict({\"onions\" : 2, \"strawberries (lbs)\" : 1})\n",
    "    \n",
    "    # raises error\n",
    "    SD1 = SubtractionDict({\"onions\" : 3, \"strawberries (lbs)\" : 2})\n",
    "    SD2 = SubtractionDict({\"onions\" : 4, \"strawberries (lbs)\" : 1})\n",
    "    SD1 - SD2 # error\n",
    "    \n",
    "    # raises error\n",
    "    SD1 = SubtractionDict({\"onions\" : 3, \"strawberries (lbs)\" : 2})\n",
    "    SD2 = SubtractionDict({\"onions\" : 1, \"snozzberries (lbs)\" : 1})\n",
    "    SD1 - SD2 # error\n",
    "    \n",
    "    # key removed\n",
    "    SD1 = SubtractionDict({\"onions\" : 3, \"strawberries (lbs)\" : 2})\n",
    "    SD2 = SubtractionDict({\"onions\" : 1, \"strawberries (lbs)\" : 2})\n",
    "    SD1 - SD2 # == SubtractionDict({\"onions\" : 2})\n",
    "    \"\"\"\n",
    "    \n",
    "    def __sub__(self, other):\n",
    "        \n",
    "        # check whether there are any keys in the second argument\n",
    "        # not present in the first\n",
    "        for key in other.keys():\n",
    "            if key not in self:\n",
    "                raise ValueError(\"Second argument contains keys not \\\n",
    "                                 present in first argument.\")\n",
    "        \n",
    "        # construct the dictionary of differences\n",
    "        # can also be done with a for-loop, with no penalty\n",
    "        #    provided that the code is otherwise economical\n",
    "        difference = {key : self[key] - other.get(key, 0) for key in self.keys()}\n",
    "        \n",
    "        # check to see if we got any negative values\n",
    "        # make a note if so\n",
    "        # it was not required to indicate which value \n",
    "        # was negative, but this is a friendly thing to do\n",
    "        if min(difference.values()) < 0:\n",
    "            raise ValueError(\"Subtraction resulted in negative quantity!\")\n",
    "        \n",
    "        # remove the zeros from the result\n",
    "        # can also construct with for-loop\n",
    "        no_zeroes = {key: val for key, val in difference.items() if val > 0}\n",
    "        \n",
    "        # return the result\n",
    "        return no_zeroes"
   ]
  },
  {
   "cell_type": "code",
   "execution_count": 29,
   "metadata": {},
   "outputs": [
    {
     "data": {
      "text/plain": [
       "{'onions': 2, 'strawberries (lbs)': 1}"
      ]
     },
     "execution_count": 29,
     "metadata": {},
     "output_type": "execute_result"
    }
   ],
   "source": [
    "# example 1\n",
    "SD1 = SubtractionDict({\"onions\" : 3, \"strawberries (lbs)\" : 2})\n",
    "SD2 = SubtractionDict({\"onions\" : 1, \"strawberries (lbs)\" : 1})\n",
    "SD1 - SD2 # == SubtractionDict({\"onions\" : 2, \"strawberries (lbs)\" : 1})"
   ]
  },
  {
   "cell_type": "code",
   "execution_count": 30,
   "metadata": {},
   "outputs": [
    {
     "ename": "ValueError",
     "evalue": "Subtraction resulted in negative quantity!",
     "output_type": "error",
     "traceback": [
      "\u001b[0;31m---------------------------------------------------------------------------\u001b[0m",
      "\u001b[0;31mValueError\u001b[0m                                Traceback (most recent call last)",
      "\u001b[0;32m<ipython-input-30-653cce217be4>\u001b[0m in \u001b[0;36m<module>\u001b[0;34m\u001b[0m\n\u001b[1;32m      1\u001b[0m \u001b[0mSD1\u001b[0m \u001b[0;34m=\u001b[0m \u001b[0mSubtractionDict\u001b[0m\u001b[0;34m(\u001b[0m\u001b[0;34m{\u001b[0m\u001b[0;34m\"onions\"\u001b[0m \u001b[0;34m:\u001b[0m \u001b[0;36m3\u001b[0m\u001b[0;34m,\u001b[0m \u001b[0;34m\"strawberries (lbs)\"\u001b[0m \u001b[0;34m:\u001b[0m \u001b[0;36m2\u001b[0m\u001b[0;34m}\u001b[0m\u001b[0;34m)\u001b[0m\u001b[0;34m\u001b[0m\u001b[0;34m\u001b[0m\u001b[0m\n\u001b[1;32m      2\u001b[0m \u001b[0mSD2\u001b[0m \u001b[0;34m=\u001b[0m \u001b[0mSubtractionDict\u001b[0m\u001b[0;34m(\u001b[0m\u001b[0;34m{\u001b[0m\u001b[0;34m\"onions\"\u001b[0m \u001b[0;34m:\u001b[0m \u001b[0;36m4\u001b[0m\u001b[0;34m,\u001b[0m \u001b[0;34m\"strawberries (lbs)\"\u001b[0m \u001b[0;34m:\u001b[0m \u001b[0;36m1\u001b[0m\u001b[0;34m}\u001b[0m\u001b[0;34m)\u001b[0m\u001b[0;34m\u001b[0m\u001b[0;34m\u001b[0m\u001b[0m\n\u001b[0;32m----> 3\u001b[0;31m \u001b[0mSD1\u001b[0m \u001b[0;34m-\u001b[0m \u001b[0mSD2\u001b[0m\u001b[0;34m\u001b[0m\u001b[0;34m\u001b[0m\u001b[0m\n\u001b[0m",
      "\u001b[0;32m<ipython-input-28-85241eacb48a>\u001b[0m in \u001b[0;36m__sub__\u001b[0;34m(self, other)\u001b[0m\n\u001b[1;32m     48\u001b[0m \u001b[0;34m\u001b[0m\u001b[0m\n\u001b[1;32m     49\u001b[0m         \u001b[0;32mif\u001b[0m \u001b[0mmin\u001b[0m\u001b[0;34m(\u001b[0m\u001b[0moutput\u001b[0m\u001b[0;34m.\u001b[0m\u001b[0mvalues\u001b[0m\u001b[0;34m(\u001b[0m\u001b[0;34m)\u001b[0m\u001b[0;34m)\u001b[0m \u001b[0;34m<\u001b[0m \u001b[0;36m0\u001b[0m\u001b[0;34m:\u001b[0m\u001b[0;34m\u001b[0m\u001b[0;34m\u001b[0m\u001b[0m\n\u001b[0;32m---> 50\u001b[0;31m             \u001b[0;32mraise\u001b[0m \u001b[0mValueError\u001b[0m\u001b[0;34m(\u001b[0m\u001b[0;34m\"Subtraction resulted in negative quantity!\"\u001b[0m\u001b[0;34m)\u001b[0m\u001b[0;34m\u001b[0m\u001b[0;34m\u001b[0m\u001b[0m\n\u001b[0m\u001b[1;32m     51\u001b[0m \u001b[0;34m\u001b[0m\u001b[0m\n\u001b[1;32m     52\u001b[0m         \u001b[0;32mreturn\u001b[0m \u001b[0mSubtractionDict\u001b[0m\u001b[0;34m(\u001b[0m\u001b[0;34m{\u001b[0m\u001b[0mkey\u001b[0m\u001b[0;34m:\u001b[0m \u001b[0mval\u001b[0m \u001b[0;32mfor\u001b[0m \u001b[0mkey\u001b[0m\u001b[0;34m,\u001b[0m \u001b[0mval\u001b[0m \u001b[0;32min\u001b[0m \u001b[0moutput\u001b[0m\u001b[0;34m.\u001b[0m\u001b[0mitems\u001b[0m\u001b[0;34m(\u001b[0m\u001b[0;34m)\u001b[0m \u001b[0;32mif\u001b[0m \u001b[0mval\u001b[0m \u001b[0;34m>\u001b[0m \u001b[0;36m0\u001b[0m\u001b[0;34m}\u001b[0m\u001b[0;34m)\u001b[0m\u001b[0;34m\u001b[0m\u001b[0;34m\u001b[0m\u001b[0m\n",
      "\u001b[0;31mValueError\u001b[0m: Subtraction resulted in negative quantity!"
     ]
    }
   ],
   "source": [
    "# example 2\n",
    "SD1 = SubtractionDict({\"onions\" : 3, \"strawberries (lbs)\" : 2})\n",
    "SD2 = SubtractionDict({\"onions\" : 4, \"strawberries (lbs)\" : 1})\n",
    "SD1 - SD2"
   ]
  },
  {
   "cell_type": "code",
   "execution_count": 33,
   "metadata": {},
   "outputs": [
    {
     "ename": "ValueError",
     "evalue": "Second argument contains keys not present in first argument.",
     "output_type": "error",
     "traceback": [
      "\u001b[0;31m---------------------------------------------------------------------------\u001b[0m",
      "\u001b[0;31mValueError\u001b[0m                                Traceback (most recent call last)",
      "\u001b[0;32m<ipython-input-33-16c48cf86c18>\u001b[0m in \u001b[0;36m<module>\u001b[0;34m\u001b[0m\n\u001b[1;32m      2\u001b[0m \u001b[0mSD1\u001b[0m \u001b[0;34m=\u001b[0m \u001b[0mSubtractionDict\u001b[0m\u001b[0;34m(\u001b[0m\u001b[0;34m{\u001b[0m\u001b[0;34m\"onions\"\u001b[0m \u001b[0;34m:\u001b[0m \u001b[0;36m3\u001b[0m\u001b[0;34m,\u001b[0m \u001b[0;34m\"strawberries (lbs)\"\u001b[0m \u001b[0;34m:\u001b[0m \u001b[0;36m2\u001b[0m\u001b[0;34m}\u001b[0m\u001b[0;34m)\u001b[0m\u001b[0;34m\u001b[0m\u001b[0;34m\u001b[0m\u001b[0m\n\u001b[1;32m      3\u001b[0m \u001b[0mSD2\u001b[0m \u001b[0;34m=\u001b[0m \u001b[0mSubtractionDict\u001b[0m\u001b[0;34m(\u001b[0m\u001b[0;34m{\u001b[0m\u001b[0;34m\"onions\"\u001b[0m \u001b[0;34m:\u001b[0m \u001b[0;36m1\u001b[0m\u001b[0;34m,\u001b[0m \u001b[0;34m\"snozzberries (lbs)\"\u001b[0m \u001b[0;34m:\u001b[0m \u001b[0;36m1\u001b[0m\u001b[0;34m}\u001b[0m\u001b[0;34m)\u001b[0m\u001b[0;34m\u001b[0m\u001b[0;34m\u001b[0m\u001b[0m\n\u001b[0;32m----> 4\u001b[0;31m \u001b[0mSD1\u001b[0m \u001b[0;34m-\u001b[0m \u001b[0mSD2\u001b[0m\u001b[0;34m\u001b[0m\u001b[0;34m\u001b[0m\u001b[0m\n\u001b[0m",
      "\u001b[0;32m<ipython-input-28-85241eacb48a>\u001b[0m in \u001b[0;36m__sub__\u001b[0;34m(self, other)\u001b[0m\n\u001b[1;32m     43\u001b[0m         \u001b[0;32mfor\u001b[0m \u001b[0mkey\u001b[0m \u001b[0;32min\u001b[0m \u001b[0mother\u001b[0m\u001b[0;34m.\u001b[0m\u001b[0mkeys\u001b[0m\u001b[0;34m(\u001b[0m\u001b[0;34m)\u001b[0m\u001b[0;34m:\u001b[0m\u001b[0;34m\u001b[0m\u001b[0;34m\u001b[0m\u001b[0m\n\u001b[1;32m     44\u001b[0m             \u001b[0;32mif\u001b[0m \u001b[0mkey\u001b[0m \u001b[0;32mnot\u001b[0m \u001b[0;32min\u001b[0m \u001b[0mself\u001b[0m\u001b[0;34m:\u001b[0m\u001b[0;34m\u001b[0m\u001b[0;34m\u001b[0m\u001b[0m\n\u001b[0;32m---> 45\u001b[0;31m                 \u001b[0;32mraise\u001b[0m \u001b[0mValueError\u001b[0m\u001b[0;34m(\u001b[0m\u001b[0;34m\"Second argument contains keys not present in first argument.\"\u001b[0m\u001b[0;34m)\u001b[0m\u001b[0;34m\u001b[0m\u001b[0;34m\u001b[0m\u001b[0m\n\u001b[0m\u001b[1;32m     46\u001b[0m \u001b[0;34m\u001b[0m\u001b[0m\n\u001b[1;32m     47\u001b[0m         \u001b[0moutput\u001b[0m \u001b[0;34m=\u001b[0m \u001b[0;34m{\u001b[0m\u001b[0mkey\u001b[0m \u001b[0;34m:\u001b[0m \u001b[0mself\u001b[0m\u001b[0;34m[\u001b[0m\u001b[0mkey\u001b[0m\u001b[0;34m]\u001b[0m \u001b[0;34m-\u001b[0m \u001b[0mother\u001b[0m\u001b[0;34m[\u001b[0m\u001b[0mkey\u001b[0m\u001b[0;34m]\u001b[0m \u001b[0;32mfor\u001b[0m \u001b[0mkey\u001b[0m \u001b[0;32min\u001b[0m \u001b[0mself\u001b[0m\u001b[0;34m.\u001b[0m\u001b[0mkeys\u001b[0m\u001b[0;34m(\u001b[0m\u001b[0;34m)\u001b[0m\u001b[0;34m}\u001b[0m\u001b[0;34m\u001b[0m\u001b[0;34m\u001b[0m\u001b[0m\n",
      "\u001b[0;31mValueError\u001b[0m: Second argument contains keys not present in first argument."
     ]
    }
   ],
   "source": [
    "# example 3\n",
    "SD1 = SubtractionDict({\"onions\" : 3, \"strawberries (lbs)\" : 2})\n",
    "SD2 = SubtractionDict({\"onions\" : 1, \"snozzberries (lbs)\" : 1})\n",
    "SD1 - SD2"
   ]
  },
  {
   "cell_type": "code",
   "execution_count": 34,
   "metadata": {},
   "outputs": [
    {
     "data": {
      "text/plain": [
       "{'onions': 2}"
      ]
     },
     "execution_count": 34,
     "metadata": {},
     "output_type": "execute_result"
    }
   ],
   "source": [
    "# example 4\n",
    "SD1 = SubtractionDict({\"onions\" : 3, \"strawberries (lbs)\" : 2})\n",
    "SD2 = SubtractionDict({\"onions\" : 1, \"strawberries (lbs)\" : 2})\n",
    "SD1 - SD2 # == SubtractionDict({\"onions\" : 2})"
   ]
  },
  {
   "cell_type": "markdown",
   "metadata": {},
   "source": [
    "### Part C (10 points)\n",
    "\n",
    "It is not required to write any functioning code for this problem. \n",
    "\n",
    "**(I).** Document the `lookup()` function supplied below. You should include:\n",
    "\n",
    "- A few well-placed comments. \n",
    "- A docstring that makes clear what assumptions are made about the arguments and what the user can expect from the output. \n",
    "\n",
    "**(II).** Then, state what the `lookup()` function would do if `d` is a `SubtractionDict` from Part B. Would it be possible to access information from `d` in this case? If so, explain. If not, describe the smallest and most robust change that you could make so that the user could use `lookup()` to access information from `d` when `d` is a `SubtractionDict`. For full credit, your modified code should not explicitly mention `SubtractionDict`s. "
   ]
  },
  {
   "cell_type": "code",
   "execution_count": 35,
   "metadata": {},
   "outputs": [],
   "source": [
    "def lookup(d, x, default = None):\n",
    "    \"\"\"\n",
    "    \n",
    "    NOTE: you were not required to notice this for full credit, \n",
    "          but this function basically replicates the `get()` method\n",
    "          of dictionaries. \n",
    "    \n",
    "    Access a value from a dictionary corresponding to a supplied key, \n",
    "        with a default value returned in case that key is not found. \n",
    "        \n",
    "    d: a dictionary\n",
    "    x: the desired key, whose value we attempt to retrieve from d\n",
    "    default: the default value returned in case x is not in d.keys() \n",
    "    \n",
    "    return: d[x] if x in d.keys(), otherwise default. \n",
    "    \n",
    "    \"\"\"\n",
    "    # check whether d is a dictionary\n",
    "    # raise an informative TypeError if not\n",
    "    if type(d) == dict:   \n",
    "        raise TypeError(\"First argument must be a dict.\")\n",
    "    \n",
    "    # attempt to return the value matched to x in \n",
    "    # dictionary d\n",
    "    try:\n",
    "        return d[x]\n",
    "    \n",
    "    # if x not found, return the default\n",
    "    except KeyError:\n",
    "        return default"
   ]
  },
  {
   "cell_type": "markdown",
   "metadata": {},
   "source": [
    "---\n",
    "\n",
    "The cleanest way to make this function work with the `SubtractionDict` is to replace \n",
    "\n",
    "```python\n",
    "if type(d) == dict:  \n",
    "    raise TypeError(\"First argument must be a dict.\")\n",
    "```\n",
    "\n",
    "with \n",
    "```python\n",
    "if not isinstance(d, dict):\n",
    "    raise TypeError(\"First argument must be an instance of class dict.\")\n",
    "```\n",
    "\n",
    "This causes `lookup()` to work with *any* class that inherits from `dict`, including the `SubtractionDict` and the `ArithmeticDict` from the lecture notes. \n",
    "\n",
    "---"
   ]
  }
 ],
 "metadata": {
  "kernelspec": {
   "display_name": "Python 3",
   "language": "python",
   "name": "python3"
  },
  "language_info": {
   "codemirror_mode": {
    "name": "ipython",
    "version": 3
   },
   "file_extension": ".py",
   "mimetype": "text/x-python",
   "name": "python",
   "nbconvert_exporter": "python",
   "pygments_lexer": "ipython3",
   "version": "3.8.5"
  }
 },
 "nbformat": 4,
 "nbformat_minor": 4
}
