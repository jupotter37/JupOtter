{
 "cells": [
  {
   "cell_type": "markdown",
   "metadata": {},
   "source": [
    "# Decorators\n",
    "\n",
    "Before discussing about decorators, In previous session Sanchit explained about functions and how to pass arguments to a function and how to return a value from a function.\n",
    "\n",
    "In python we can pass function as a parameter to a function."
   ]
  },
  {
   "cell_type": "code",
   "execution_count": 1,
   "metadata": {},
   "outputs": [
    {
     "name": "stdout",
     "output_type": "stream",
     "text": [
      "5\n",
      "3\n"
     ]
    }
   ],
   "source": [
    "def inc(x):\n",
    "    print(x+1)\n",
    "    \n",
    "def dec(x):\n",
    "    print(x-1)\n",
    "    \n",
    "def gen(fun, x):\n",
    "    fun(x)\n",
    "    \n",
    "gen(inc, 4)\n",
    "gen(dec, 4)"
   ]
  },
  {
   "cell_type": "markdown",
   "metadata": {},
   "source": [
    "We can also return a function from another function"
   ]
  },
  {
   "cell_type": "code",
   "execution_count": 3,
   "metadata": {},
   "outputs": [
    {
     "name": "stdout",
     "output_type": "stream",
     "text": [
      "call func\n",
      "this is return function\n"
     ]
    }
   ],
   "source": [
    "def ret_func():\n",
    "    print ('this is return function')\n",
    "    \n",
    "def call_func():\n",
    "    print('call func')\n",
    "    return ret_func\n",
    "\n",
    "x = call_func()\n",
    "x()"
   ]
  },
  {
   "cell_type": "markdown",
   "metadata": {},
   "source": [
    "Python also supports nested functions we can define a function inside another function"
   ]
  },
  {
   "cell_type": "code",
   "execution_count": 4,
   "metadata": {},
   "outputs": [
    {
     "name": "stdout",
     "output_type": "stream",
     "text": [
      "outer\n",
      "inner\n"
     ]
    }
   ],
   "source": [
    "def outer():\n",
    "    print ('outer')\n",
    "    def inner():\n",
    "        print ('inner')\n",
    "    return inner\n",
    "\n",
    "x = outer()\n",
    "x()"
   ]
  },
  {
   "cell_type": "markdown",
   "metadata": {},
   "source": [
    "Now lets come back to our topic here i.e decorators, basically a decorator takes in a function, adds some functionality and returns it."
   ]
  },
  {
   "cell_type": "code",
   "execution_count": 5,
   "metadata": {},
   "outputs": [
    {
     "name": "stdout",
     "output_type": "stream",
     "text": [
      "Hi\n",
      "How are you?\n"
     ]
    }
   ],
   "source": [
    "def add_hi(func):\n",
    "    def inner():\n",
    "        print(\"Hi\")\n",
    "        func()\n",
    "    return inner\n",
    "\n",
    "\n",
    "def how_are_you():\n",
    "    print(\"How are you?\")\n",
    "    \n",
    "x = add_hi(how_are_you)\n",
    "x()"
   ]
  },
  {
   "cell_type": "markdown",
   "metadata": {},
   "source": [
    "Python has a simplified syntax for this.\n",
    "\n",
    "We can use the @ symbol along with the name of the decorator function and place it above the definition of the function to be decorated."
   ]
  },
  {
   "cell_type": "code",
   "execution_count": 7,
   "metadata": {},
   "outputs": [
    {
     "name": "stdout",
     "output_type": "stream",
     "text": [
      "Hi\n",
      "How are you?\n"
     ]
    }
   ],
   "source": [
    "@add_hi\n",
    "def how_are_you():\n",
    "    print(\"How are you?\")\n",
    "\n",
    "how_are_you()"
   ]
  },
  {
   "cell_type": "markdown",
   "metadata": {},
   "source": [
    "Access function arguments inside your decorator. For this lets take our CLI todo example."
   ]
  },
  {
   "cell_type": "code",
   "execution_count": 15,
   "metadata": {},
   "outputs": [
    {
     "name": "stdout",
     "output_type": "stream",
     "text": [
      "['hi']\n",
      "Your todo string should not contain any spaces.\n",
      "['hi']\n"
     ]
    },
    {
     "data": {
      "text/plain": [
       "['hi', 'hello']"
      ]
     },
     "execution_count": 15,
     "metadata": {},
     "output_type": "execute_result"
    }
   ],
   "source": [
    "todo_list = []\n",
    "\n",
    "def validate_todo(func):\n",
    "    def inner(list, val):\n",
    "        if ' ' in val:\n",
    "            print ('Your todo string should not contain any spaces.')\n",
    "            return\n",
    "        return func(list, val)\n",
    "    return inner\n",
    "\n",
    "\n",
    "@validate_todo\n",
    "def add_todo(todo_list, val):\n",
    "    todo_list.append(val)\n",
    "    return todo_list\n",
    "\n",
    "add_todo(todo_list, 'hi')\n",
    "\n",
    "print (todo_list)\n",
    "\n",
    "add_todo(todo_list, 'h i')\n",
    "\n",
    "print (todo_list)\n",
    "\n",
    "add_todo(todo_list, 'hello')"
   ]
  },
  {
   "cell_type": "markdown",
   "metadata": {},
   "source": [
    "# Iterators\n",
    "\n",
    "An iterator is an object that can be iterated (looped) upon. Iterators don’t compute the value of each item when instantiated. They only compute it when you ask for it. This is known as lazy evaluation.\n",
    "\n",
    "Lazy evaluation is useful when you have a very large data set to compute. It allows you to start using the data immediately, while the whole data set is being computed.\n",
    "\n",
    "We create iterator object using iter function."
   ]
  },
  {
   "cell_type": "code",
   "execution_count": 3,
   "metadata": {},
   "outputs": [
    {
     "name": "stdout",
     "output_type": "stream",
     "text": [
      "<class 'list_iterator'>\n",
      "88\n",
      "56\n"
     ]
    }
   ],
   "source": [
    "x = [1, 2, 3]\n",
    "y = iter(x)\n",
    "\n",
    "print (type(y))\n",
    "import sys\n",
    "print (sys.getsizeof(x))\n",
    "print (sys.getsizeof(y))"
   ]
  },
  {
   "cell_type": "markdown",
   "metadata": {},
   "source": [
    "Here in this example x is called as iterable and y is iterator, how do we access the items of an iterator? We use next function to get the items of an iterator."
   ]
  },
  {
   "cell_type": "code",
   "execution_count": 18,
   "metadata": {},
   "outputs": [
    {
     "name": "stdout",
     "output_type": "stream",
     "text": [
      "1\n",
      "2\n",
      "3\n"
     ]
    }
   ],
   "source": [
    "x = [1, 2, 3]\n",
    "y = iter(x)\n",
    "\n",
    "t = next(y)\n",
    "print (t)\n",
    "t = next(y)\n",
    "print (t)\n",
    "t = next(y)\n",
    "print (t)"
   ]
  },
  {
   "cell_type": "markdown",
   "metadata": {},
   "source": [
    "Now we are at the end of the list iterator, so what happens when we still try to use next on this iterator? It will raise StopIteration exception i.e the iteration is finished or no elements remain in that iterator."
   ]
  },
  {
   "cell_type": "code",
   "execution_count": 19,
   "metadata": {},
   "outputs": [
    {
     "name": "stdout",
     "output_type": "stream",
     "text": [
      "1\n",
      "2\n",
      "3\n"
     ]
    },
    {
     "ename": "StopIteration",
     "evalue": "",
     "output_type": "error",
     "traceback": [
      "\u001b[0;31m---------------------------------------------------------------------------\u001b[0m",
      "\u001b[0;31mStopIteration\u001b[0m                             Traceback (most recent call last)",
      "\u001b[0;32m<ipython-input-19-d492b774197e>\u001b[0m in \u001b[0;36m<module>\u001b[0;34m\u001b[0m\n\u001b[1;32m      8\u001b[0m \u001b[0mt\u001b[0m \u001b[0;34m=\u001b[0m \u001b[0mnext\u001b[0m\u001b[0;34m(\u001b[0m\u001b[0my\u001b[0m\u001b[0;34m)\u001b[0m\u001b[0;34m\u001b[0m\u001b[0;34m\u001b[0m\u001b[0m\n\u001b[1;32m      9\u001b[0m \u001b[0mprint\u001b[0m \u001b[0;34m(\u001b[0m\u001b[0mt\u001b[0m\u001b[0;34m)\u001b[0m\u001b[0;34m\u001b[0m\u001b[0;34m\u001b[0m\u001b[0m\n\u001b[0;32m---> 10\u001b[0;31m \u001b[0mt\u001b[0m \u001b[0;34m=\u001b[0m \u001b[0mnext\u001b[0m\u001b[0;34m(\u001b[0m\u001b[0my\u001b[0m\u001b[0;34m)\u001b[0m\u001b[0;34m\u001b[0m\u001b[0;34m\u001b[0m\u001b[0m\n\u001b[0m",
      "\u001b[0;31mStopIteration\u001b[0m: "
     ]
    }
   ],
   "source": [
    "x = [1, 2, 3]\n",
    "y = iter(x)\n",
    "\n",
    "t = next(y)\n",
    "print (t)\n",
    "t = next(y)\n",
    "print (t)\n",
    "t = next(y)\n",
    "print (t)\n",
    "t = next(y)"
   ]
  },
  {
   "cell_type": "markdown",
   "metadata": {},
   "source": [
    "There is another way to create iterator is using Classes we will discuss of how to create iterators using classes in next sessions."
   ]
  },
  {
   "cell_type": "markdown",
   "metadata": {},
   "source": [
    "# Generator\n",
    "\n",
    "Generators are special functions that allow us to create iterators. So generally when we write a function we use return to return any value, if we use return that says the function execution is completed and it will return something. Generators use special keyword called yield to return a value. The magic yield is it holds that state of the function i.e it will continue to run where it is left."
   ]
  },
  {
   "cell_type": "code",
   "execution_count": 4,
   "metadata": {},
   "outputs": [
    {
     "name": "stdout",
     "output_type": "stream",
     "text": [
      "<generator object even_nums at 0x7feaf050b3b8>\n"
     ]
    }
   ],
   "source": [
    "def even_nums(max):\n",
    "    number = 0\n",
    "    while number < max:\n",
    "        number += 1\n",
    "        if number%2 == 0:\n",
    "            yield number\n",
    "            \n",
    "evens = even_nums(10)\n",
    "print (evens)\n"
   ]
  },
  {
   "cell_type": "code",
   "execution_count": 5,
   "metadata": {},
   "outputs": [
    {
     "name": "stdout",
     "output_type": "stream",
     "text": [
      "2\n",
      "4\n",
      "6\n",
      "8\n",
      "10\n"
     ]
    }
   ],
   "source": [
    "def even_nums(max):\n",
    "    number = 0\n",
    "    while number < max:\n",
    "        number += 1\n",
    "        if number%2 == 0:\n",
    "            yield number\n",
    "            \n",
    "\n",
    "for i in even_nums(10):\n",
    "    print (i)"
   ]
  },
  {
   "cell_type": "markdown",
   "metadata": {},
   "source": [
    "We can achieve the same with comprehensions. "
   ]
  },
  {
   "cell_type": "code",
   "execution_count": 6,
   "metadata": {},
   "outputs": [
    {
     "name": "stdout",
     "output_type": "stream",
     "text": [
      "<generator object <genexpr> at 0x7feaf050b360>\n",
      "[2, 4, 6, 8, 10]\n"
     ]
    }
   ],
   "source": [
    "evens = (i for i in range(1, 11) if i%2==0)\n",
    "print (evens)\n",
    "print (list(evens))"
   ]
  },
  {
   "cell_type": "markdown",
   "metadata": {},
   "source": [
    "# Debugging(pdb module)\n",
    "\n",
    "In any programming language, 'debugging' term is popularly used to process of locating and rectifying errors in a program. Python's standard library contains pdb module which is a set of utilities for debugging of Python programs."
   ]
  },
  {
   "cell_type": "code",
   "execution_count": null,
   "metadata": {},
   "outputs": [
    {
     "name": "stdout",
     "output_type": "stream",
     "text": [
      "--Return--\n",
      "> <ipython-input-2-fd11c92b4e90>(3)<module>()->None\n",
      "-> import pdb; pdb.set_trace()\n"
     ]
    }
   ],
   "source": [
    "x = 1\n",
    "y = 2\n",
    "import pdb; pdb.set_trace()\n",
    "print(f'path = {x*y}')\n"
   ]
  },
  {
   "cell_type": "markdown",
   "metadata": {},
   "source": [
    "Important options\n",
    "\n",
    "ll(long list)\n",
    "n(next)\n",
    "s(step)\n",
    "c(continue)"
   ]
  }
 ],
 "metadata": {
  "kernelspec": {
   "display_name": "Python 3",
   "language": "python",
   "name": "python3"
  },
  "language_info": {
   "codemirror_mode": {
    "name": "ipython",
    "version": 3
   },
   "file_extension": ".py",
   "mimetype": "text/x-python",
   "name": "python",
   "nbconvert_exporter": "python",
   "pygments_lexer": "ipython3",
   "version": "3.6.9"
  }
 },
 "nbformat": 4,
 "nbformat_minor": 4
}
