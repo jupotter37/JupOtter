{
 "cells": [
  {
   "cell_type": "code",
   "execution_count": 1,
   "metadata": {},
   "outputs": [],
   "source": [
    "import torch\n",
    "import torch.nn.functional as F\n",
    "import torch.multiprocessing as mp\n",
    "import torch.distributed as dist\n",
    "from torch.nn.parallel import DistributedDataParallel\n",
    "from torch.utils.tensorboard import SummaryWriter\n",
    "import pytorch_lightning as pl\n",
    "import random\n",
    "import dotenv\n",
    "import omegaconf\n",
    "import hydra\n",
    "import logging\n",
    "from typing import List\n",
    "\n",
    "import wandb\n",
    "from datetime import date\n",
    "import dotenv\n",
    "import os\n",
    "import pathlib\n",
    "from typing import Dict, Any\n",
    "from copy import deepcopy\n",
    "\n",
    "from rigl_torch.models import ModelFactory\n",
    "from rigl_torch.rigl_scheduler import RigLScheduler\n",
    "from rigl_torch.rigl_constant_fan import RigLConstFanScheduler\n",
    "from rigl_torch.datasets import get_dataloaders\n",
    "from rigl_torch.optim import (\n",
    "    get_optimizer,\n",
    "    get_lr_scheduler,\n",
    ")\n",
    "from rigl_torch.utils.rigl_utils import get_names_and_W\n",
    "from rigl_torch.utils.checkpoint import Checkpoint\n",
    "from rigl_torch.utils.rigl_utils import get_T_end, get_fan_in_after_ablation, get_conv_idx_from_flat_idx\n",
    "from hydra import initialize, compose\n",
    "\n",
    "from fvcore.nn import FlopCountAnalysis\n",
    "import pandas as pd\n"
   ]
  },
  {
   "cell_type": "code",
   "execution_count": 2,
   "metadata": {},
   "outputs": [],
   "source": [
    "def get_pruner_model_loader(dense_alloc, model, dataset):\n",
    "    with initialize(\"../configs\", version_base=\"1.2.0\"):\n",
    "        cfg = compose(\n",
    "            \"config.yaml\",\n",
    "            overrides=[\n",
    "                f\"dataset={dataset}\",\n",
    "                \"compute.distributed=False\",\n",
    "                f\"model={model}\",\n",
    "                # f\"rigl.dense_allocation={dense_alloc}\",\n",
    "                f\"rigl.dense_allocation={dense_alloc}\",\n",
    "                ])\n",
    "    dotenv.load_dotenv(\"../.env\")\n",
    "    os.environ[\"IMAGE_NET_PATH\"]\n",
    "\n",
    "\n",
    "    rank=0\n",
    "    checkpoint=None\n",
    "    if checkpoint is not None:\n",
    "        run_id = checkpoint.run_id\n",
    "        optimizer_state = checkpoint.optimizer\n",
    "        scheduler_state = checkpoint.scheduler\n",
    "        pruner_state = checkpoint.pruner\n",
    "        model_state = checkpoint.model\n",
    "        cfg = checkpoint.cfg\n",
    "    else:\n",
    "        run_id, optimizer_state, scheduler_state, pruner_state, model_state = (\n",
    "            None,\n",
    "            None,\n",
    "            None,\n",
    "            None,\n",
    "            None,\n",
    "        )\n",
    "\n",
    "    print(cfg.compute)\n",
    "    cfg.compute.distributed=False\n",
    "        \n",
    "    pl.seed_everything(cfg.training.seed)\n",
    "    use_cuda = not cfg.compute.no_cuda and torch.cuda.is_available()\n",
    "    if not use_cuda:\n",
    "        raise SystemError(\"GPU has stopped responding...waiting to die!\")\n",
    "        logger.warning(\n",
    "            \"Using CPU! Verify cfg.compute.no_cuda and \"\n",
    "            \"torch.cuda.is_available() are properly set if this is unexpected\"\n",
    "        )\n",
    "\n",
    "    if cfg.compute.distributed and use_cuda:\n",
    "        device = torch.device(f\"cuda:{rank}\")\n",
    "    else:\n",
    "        print(f\"loading to device rank: {rank}\")\n",
    "        device = torch.device(f\"cuda:{rank}\")\n",
    "    if not use_cuda:\n",
    "        device = torch.device(\"cuda\" if use_cuda else \"cpu\")\n",
    "    train_loader, test_loader = get_dataloaders(cfg)\n",
    "\n",
    "    model = ModelFactory.load_model(\n",
    "        model=cfg.model.name, dataset=cfg.dataset.name\n",
    "    )\n",
    "    model.to(device)\n",
    "    if cfg.compute.distributed:\n",
    "        model = DistributedDataParallel(model, device_ids=[rank])\n",
    "    if model_state is not None:\n",
    "        try:\n",
    "            model.load_state_dict(model_state)\n",
    "        except RuntimeError:\n",
    "            model_state = checkpoint.get_single_process_model_state_from_distributed_state()\n",
    "            model.load_state_dict(model_state)\n",
    "            \n",
    "    optimizer = get_optimizer(cfg, model, state_dict=optimizer_state)\n",
    "    scheduler = get_lr_scheduler(cfg, optimizer, state_dict=scheduler_state)\n",
    "    pruner = None\n",
    "    if cfg.rigl.dense_allocation is not None:\n",
    "        T_end = get_T_end(cfg, [0 for _ in range(0,1251)])\n",
    "        if cfg.rigl.const_fan_in:\n",
    "            rigl_scheduler = RigLConstFanScheduler\n",
    "        else:\n",
    "            rigl_scheduler = RigLScheduler\n",
    "        pruner = rigl_scheduler(\n",
    "            model,\n",
    "            optimizer,\n",
    "            dense_allocation=cfg.rigl.dense_allocation,\n",
    "            alpha=cfg.rigl.alpha,\n",
    "            delta=cfg.rigl.delta,\n",
    "            static_topo=cfg.rigl.static_topo,\n",
    "            T_end=T_end,\n",
    "            ignore_linear_layers=cfg.rigl.ignore_linear_layers,\n",
    "            grad_accumulation_n=cfg.rigl.grad_accumulation_n,\n",
    "            sparsity_distribution=cfg.rigl.sparsity_distribution,\n",
    "            erk_power_scale=cfg.rigl.erk_power_scale,\n",
    "            state_dict=pruner_state,\n",
    "            filter_ablation_threshold=cfg.rigl.filter_ablation_threshold,\n",
    "            static_ablation=cfg.rigl.static_ablation,\n",
    "            dynamic_ablation=cfg.rigl.dynamic_ablation,\n",
    "            min_salient_weights_per_neuron=cfg.rigl.min_salient_weights_per_neuron,  # noqa\n",
    "            use_sparse_init=cfg.rigl.use_sparse_initialization,\n",
    "            init_method_str=cfg.rigl.init_method_str,\n",
    "            use_sparse_const_fan_in_for_ablation=cfg.rigl.use_sparse_const_fan_in_for_ablation,  # noqa\n",
    "        )\n",
    "        \n",
    "        step=0\n",
    "    return pruner, model, train_loader"
   ]
  },
  {
   "cell_type": "code",
   "execution_count": 3,
   "metadata": {},
   "outputs": [],
   "source": [
    "def get_flops_df(model_name, dataset):\n",
    "    df = {k:[] for k in [\"rigl.dense_allocation\", \"flops\", \"model\",]}\n",
    "    for da in [\"null\", 0.01, 0.05, 0.0625, 0.1, 0.2, 0.25,]:\n",
    "        print(f\"Calculating with dense_alloc == {da}\")\n",
    "        pruner, model, train_loader = get_pruner_model_loader(da, model_name, dataset)\n",
    "        model.train()\n",
    "        for data, _ in train_loader:\n",
    "            data = data[0].to(\"cpu\").reshape(1, *data[0].shape)\n",
    "            break\n",
    "        \n",
    "        flops = FlopCountAnalysis(model.to(\"cpu\"),data)\n",
    "        total_flops = 0\n",
    "\n",
    "        names, W = get_names_and_W(model)\n",
    "        if pruner is not None:\n",
    "            S = pruner.S\n",
    "        else:\n",
    "            S = [0. for _ in range(len(names))]\n",
    "        for name, counter in flops.by_module_and_operator().items():\n",
    "            if name in names:\n",
    "                if len(counter) != 1:\n",
    "                    raise ValueError(f\"Too many items found in {name}. Goodbye\")\n",
    "                f = list(counter.values())[0]\n",
    "                s = S[names.index(name)]\n",
    "                if s is None:\n",
    "                    s=0\n",
    "                total_flops += f*(1-s)\n",
    "        del model\n",
    "        del pruner\n",
    "        del train_loader\n",
    "        df[\"rigl.dense_allocation\"].append(da)\n",
    "        df[\"flops\"].append(total_flops)\n",
    "        df[\"model\"].append(model_name)\n",
    "    \n",
    "    df=pd.DataFrame(df)\n",
    "    df[\"normalized_flops\"] = df[\"flops\"]/ df.loc[df[\"rigl.dense_allocation\"]==\"null\"][\"flops\"].item()\n",
    "\n",
    "    return pd.DataFrame(df)\n",
    "\n",
    "# df = get_flops_df(\"resnet50\", \"imagenet\")\n",
    "# df.to_csv(\"../train_flops_fvcore.csv\")"
   ]
  },
  {
   "cell_type": "code",
   "execution_count": 4,
   "metadata": {},
   "outputs": [],
   "source": [
    "# df"
   ]
  },
  {
   "cell_type": "code",
   "execution_count": 5,
   "metadata": {},
   "outputs": [],
   "source": [
    "# p, m, l = get_pruner_model_loader(\"null\", \"resnet50\", \"imagenet\")"
   ]
  },
  {
   "cell_type": "code",
   "execution_count": 6,
   "metadata": {},
   "outputs": [],
   "source": [
    "from micronet_challenge import counting\n",
    "import torch.nn as nn\n",
    "\n",
    "from functools import partial\n",
    "def register_forward_hook(model, masked_layers):\n",
    "    def hook_input_shape(x, *args, n, mod,_unwrapped_forward, **kwargs):\n",
    "        # print(f\"{n}: Input Shape: {x.shape}\")\n",
    "        if not hasattr(mod, \"_input_shape\"):\n",
    "            mod._input_shape=x.shape\n",
    "        return _unwrapped_forward(x, *args, **kwargs)\n",
    "    for n,mod in model.named_modules():\n",
    "        if n in masked_layers:\n",
    "            _unwrapped_forward = mod.forward\n",
    "            mod.forward = partial(hook_input_shape, n=n, mod=mod, _unwrapped_forward=_unwrapped_forward)\n",
    "\n",
    "def get_conv_op(conv: nn.Conv2d):\n",
    "    # use_bias = True if conv.bias is not None else False\n",
    "    use_bias=True\n",
    "    c_out, c_in, k_x, k_y = conv.weight.shape\n",
    "    input_size = conv._input_shape[-1]\n",
    "    return counting.Conv2D(\n",
    "        input_size=input_size,\n",
    "        kernel_shape=(k_x, k_y, c_in, c_out),\n",
    "        strides=conv.stride,\n",
    "        use_bias=use_bias,\n",
    "        padding=\"same\",\n",
    "        activation=\"relu\",\n",
    "    )\n",
    "\n",
    "def get_add_op(conv_downsample: nn.Conv2d):\n",
    "    return counting.Add(\n",
    "        input_size=conv_downsample._input_shape[-1],\n",
    "        n_channels=conv_downsample.out_channels\n",
    "    )\n",
    "\n",
    "def get_linear_op(linear: nn.Linear, use_relu_activation: bool = True):\n",
    "    c_out, c_in = linear.weight.shape\n",
    "    input_size = linear._input_shape[-1]\n",
    "    return counting.FullyConnected(\n",
    "        kernel_shape=(c_in, c_out),\n",
    "        # use_bias = True if linear.bias is not None else False,\n",
    "        use_bias=True,\n",
    "        activation=\"relu\" if use_relu_activation else None,\n",
    "    )"
   ]
  },
  {
   "cell_type": "code",
   "execution_count": 7,
   "metadata": {},
   "outputs": [],
   "source": [
    "from typing import List, Optional, NamedTuple\n",
    "import numpy as np\n",
    "\n",
    "def get_op_from_module(m):\n",
    "    if isinstance(m, nn.Conv2d):\n",
    "        return get_conv_op(m)\n",
    "    if isinstance(m, nn.Linear):\n",
    "        return get_linear_op(m, use_relu_activation=False)  # Only 1 layer\n",
    "\n",
    "def get_names_and_ops(\n",
    "    module,\n",
    "    target_names: Optional[List[str]]=None,\n",
    ") -> Dict[str, nn.Module]:\n",
    "    if target_names is None:\n",
    "        target_names, _ = get_names_and_W(module)\n",
    "    names_ops = {k: None for k in target_names}\n",
    "    add_counter = 0\n",
    "    for n,m in module.named_modules():\n",
    "        if n in target_names:\n",
    "            op = get_op_from_module(m)\n",
    "            names_ops[n]=op\n",
    "            # if \"downsample\" in n:\n",
    "            #     names_ops[f\"add.{add_counter}\"] = get_add_op(m)\n",
    "            #     add_counter+=1\n",
    "    return names_ops\n",
    "\n",
    "\n",
    "def get_model_info(m, p):\n",
    "    names = get_names_and_ops(m)\n",
    "    # names\n",
    "\n",
    "    total_flops = 0\n",
    "    flops_dict = {n:0 for n in names}\n",
    "    if p is not None:\n",
    "        S = p.S\n",
    "    else:\n",
    "        S = [0. for _ in range(len(names))]\n",
    "    total_flops = 0\n",
    "    total_param_bits = 0\n",
    "    total_params = 0.\n",
    "    n_zeros = 0.\n",
    "    for s, (n, o) in list(zip(S, names.items())):\n",
    "        param_count, n_mults, n_adds = counting.count_ops(o, s, param_bits=32)\n",
    "        # print(f\"{n}: FLOPS: {(n_mults+n_adds)/1e9}\")\n",
    "        total_flops += n_mults + n_adds\n",
    "        if isinstance(o, counting.Add):\n",
    "            continue\n",
    "        k_shape = o.kernel_shape\n",
    "        total_param_bits += param_count\n",
    "        n_param = np.prod(k_shape)\n",
    "        total_params += n_param\n",
    "        n_zeros += int(n_param * s)\n",
    "    return total_flops, total_param_bits/32, n_zeros / total_params"
   ]
  },
  {
   "cell_type": "code",
   "execution_count": 8,
   "metadata": {},
   "outputs": [],
   "source": [
    "def init_input_shape(m):\n",
    "    m.to(\"cpu\")\n",
    "    masked_layers, _ = get_names_and_W(m)\n",
    "    register_forward_hook(m, masked_layers)\n",
    "    input = torch.ones(size=(1,3,224,224))\n",
    "    out = m(input)\n",
    "    return"
   ]
  },
  {
   "cell_type": "code",
   "execution_count": 64,
   "metadata": {},
   "outputs": [
    {
     "name": "stdout",
     "output_type": "stream",
     "text": [
      "Calculating with dense_alloc == null\n"
     ]
    },
    {
     "name": "stderr",
     "output_type": "stream",
     "text": [
      "Global seed set to 42\n"
     ]
    },
    {
     "name": "stdout",
     "output_type": "stream",
     "text": [
      "{'no_cuda': False, 'cuda_kwargs': {'num_workers': '${ oc.decode:${oc.env:NUM_WORKERS} }', 'pin_memory': True}, 'distributed': False, 'world_size': 4, 'dist_backend': 'nccl'}\n",
      "loading to device rank: 0\n"
     ]
    },
    {
     "name": "stderr",
     "output_type": "stream",
     "text": [
      "INFO:/home/user/condensed-sparsity/src/rigl_torch/models/model_factory.py:Loading model resnet50/imagenet using <function get_imagenet_resnet50 at 0x7fcee2482a70> with args: () and kwargs: {}\n"
     ]
    },
    {
     "name": "stdout",
     "output_type": "stream",
     "text": [
      "Calculating with dense_alloc == 0.01\n"
     ]
    },
    {
     "name": "stderr",
     "output_type": "stream",
     "text": [
      "Global seed set to 42\n"
     ]
    },
    {
     "name": "stdout",
     "output_type": "stream",
     "text": [
      "{'no_cuda': False, 'cuda_kwargs': {'num_workers': '${ oc.decode:${oc.env:NUM_WORKERS} }', 'pin_memory': True}, 'distributed': False, 'world_size': 4, 'dist_backend': 'nccl'}\n",
      "loading to device rank: 0\n"
     ]
    },
    {
     "name": "stderr",
     "output_type": "stream",
     "text": [
      "INFO:/home/user/condensed-sparsity/src/rigl_torch/models/model_factory.py:Loading model resnet50/imagenet using <function get_imagenet_resnet50 at 0x7fcee2482a70> with args: () and kwargs: {}\n"
     ]
    },
    {
     "name": "stdout",
     "output_type": "stream",
     "text": [
      "Calculating with dense_alloc == 0.05\n"
     ]
    },
    {
     "name": "stderr",
     "output_type": "stream",
     "text": [
      "Global seed set to 42\n"
     ]
    },
    {
     "name": "stdout",
     "output_type": "stream",
     "text": [
      "{'no_cuda': False, 'cuda_kwargs': {'num_workers': '${ oc.decode:${oc.env:NUM_WORKERS} }', 'pin_memory': True}, 'distributed': False, 'world_size': 4, 'dist_backend': 'nccl'}\n",
      "loading to device rank: 0\n"
     ]
    },
    {
     "name": "stderr",
     "output_type": "stream",
     "text": [
      "INFO:/home/user/condensed-sparsity/src/rigl_torch/models/model_factory.py:Loading model resnet50/imagenet using <function get_imagenet_resnet50 at 0x7fcee2482a70> with args: () and kwargs: {}\n"
     ]
    },
    {
     "name": "stdout",
     "output_type": "stream",
     "text": [
      "Calculating with dense_alloc == 0.0625\n"
     ]
    },
    {
     "name": "stderr",
     "output_type": "stream",
     "text": [
      "Global seed set to 42\n"
     ]
    },
    {
     "name": "stdout",
     "output_type": "stream",
     "text": [
      "{'no_cuda': False, 'cuda_kwargs': {'num_workers': '${ oc.decode:${oc.env:NUM_WORKERS} }', 'pin_memory': True}, 'distributed': False, 'world_size': 4, 'dist_backend': 'nccl'}\n",
      "loading to device rank: 0\n"
     ]
    },
    {
     "name": "stderr",
     "output_type": "stream",
     "text": [
      "INFO:/home/user/condensed-sparsity/src/rigl_torch/models/model_factory.py:Loading model resnet50/imagenet using <function get_imagenet_resnet50 at 0x7fcee2482a70> with args: () and kwargs: {}\n"
     ]
    },
    {
     "name": "stdout",
     "output_type": "stream",
     "text": [
      "Calculating with dense_alloc == 0.1\n"
     ]
    },
    {
     "name": "stderr",
     "output_type": "stream",
     "text": [
      "Global seed set to 42\n"
     ]
    },
    {
     "name": "stdout",
     "output_type": "stream",
     "text": [
      "{'no_cuda': False, 'cuda_kwargs': {'num_workers': '${ oc.decode:${oc.env:NUM_WORKERS} }', 'pin_memory': True}, 'distributed': False, 'world_size': 4, 'dist_backend': 'nccl'}\n",
      "loading to device rank: 0\n"
     ]
    },
    {
     "name": "stderr",
     "output_type": "stream",
     "text": [
      "INFO:/home/user/condensed-sparsity/src/rigl_torch/models/model_factory.py:Loading model resnet50/imagenet using <function get_imagenet_resnet50 at 0x7fcee2482a70> with args: () and kwargs: {}\n",
      "INFO:/home/user/condensed-sparsity/src/rigl_torch/rigl_scheduler.py:Sparsity of layer at index 1 set to 0.0\n"
     ]
    },
    {
     "name": "stdout",
     "output_type": "stream",
     "text": [
      "Calculating with dense_alloc == 0.2\n"
     ]
    },
    {
     "name": "stderr",
     "output_type": "stream",
     "text": [
      "Global seed set to 42\n"
     ]
    },
    {
     "name": "stdout",
     "output_type": "stream",
     "text": [
      "{'no_cuda': False, 'cuda_kwargs': {'num_workers': '${ oc.decode:${oc.env:NUM_WORKERS} }', 'pin_memory': True}, 'distributed': False, 'world_size': 4, 'dist_backend': 'nccl'}\n",
      "loading to device rank: 0\n"
     ]
    },
    {
     "name": "stderr",
     "output_type": "stream",
     "text": [
      "INFO:/home/user/condensed-sparsity/src/rigl_torch/models/model_factory.py:Loading model resnet50/imagenet using <function get_imagenet_resnet50 at 0x7fcee2482a70> with args: () and kwargs: {}\n",
      "INFO:/home/user/condensed-sparsity/src/rigl_torch/rigl_scheduler.py:Sparsity of layer at index 1 set to 0.0\n",
      "INFO:/home/user/condensed-sparsity/src/rigl_torch/rigl_scheduler.py:Sparsity of layer at index 3 set to 0.0\n",
      "INFO:/home/user/condensed-sparsity/src/rigl_torch/rigl_scheduler.py:Sparsity of layer at index 4 set to 0.0\n",
      "INFO:/home/user/condensed-sparsity/src/rigl_torch/rigl_scheduler.py:Sparsity of layer at index 5 set to 0.0\n",
      "INFO:/home/user/condensed-sparsity/src/rigl_torch/rigl_scheduler.py:Sparsity of layer at index 7 set to 0.0\n",
      "INFO:/home/user/condensed-sparsity/src/rigl_torch/rigl_scheduler.py:Sparsity of layer at index 8 set to 0.0\n",
      "INFO:/home/user/condensed-sparsity/src/rigl_torch/rigl_scheduler.py:Sparsity of layer at index 10 set to 0.0\n",
      "INFO:/home/user/condensed-sparsity/src/rigl_torch/rigl_scheduler.py:Sparsity of layer at index 11 set to 0.0\n"
     ]
    },
    {
     "name": "stdout",
     "output_type": "stream",
     "text": [
      "Calculating with dense_alloc == 0.25\n"
     ]
    },
    {
     "name": "stderr",
     "output_type": "stream",
     "text": [
      "Global seed set to 42\n"
     ]
    },
    {
     "name": "stdout",
     "output_type": "stream",
     "text": [
      "{'no_cuda': False, 'cuda_kwargs': {'num_workers': '${ oc.decode:${oc.env:NUM_WORKERS} }', 'pin_memory': True}, 'distributed': False, 'world_size': 4, 'dist_backend': 'nccl'}\n",
      "loading to device rank: 0\n"
     ]
    },
    {
     "name": "stderr",
     "output_type": "stream",
     "text": [
      "INFO:/home/user/condensed-sparsity/src/rigl_torch/models/model_factory.py:Loading model resnet50/imagenet using <function get_imagenet_resnet50 at 0x7fcee2482a70> with args: () and kwargs: {}\n",
      "INFO:/home/user/condensed-sparsity/src/rigl_torch/rigl_scheduler.py:Sparsity of layer at index 1 set to 0.0\n",
      "INFO:/home/user/condensed-sparsity/src/rigl_torch/rigl_scheduler.py:Sparsity of layer at index 3 set to 0.0\n",
      "INFO:/home/user/condensed-sparsity/src/rigl_torch/rigl_scheduler.py:Sparsity of layer at index 4 set to 0.0\n",
      "INFO:/home/user/condensed-sparsity/src/rigl_torch/rigl_scheduler.py:Sparsity of layer at index 5 set to 0.0\n",
      "INFO:/home/user/condensed-sparsity/src/rigl_torch/rigl_scheduler.py:Sparsity of layer at index 7 set to 0.0\n",
      "INFO:/home/user/condensed-sparsity/src/rigl_torch/rigl_scheduler.py:Sparsity of layer at index 8 set to 0.0\n",
      "INFO:/home/user/condensed-sparsity/src/rigl_torch/rigl_scheduler.py:Sparsity of layer at index 10 set to 0.0\n",
      "INFO:/home/user/condensed-sparsity/src/rigl_torch/rigl_scheduler.py:Sparsity of layer at index 11 set to 0.0\n",
      "INFO:/home/user/condensed-sparsity/src/rigl_torch/rigl_scheduler.py:Sparsity of layer at index 13 set to 0.0\n",
      "INFO:/home/user/condensed-sparsity/src/rigl_torch/rigl_scheduler.py:Sparsity of layer at index 15 set to 0.0\n",
      "INFO:/home/user/condensed-sparsity/src/rigl_torch/rigl_scheduler.py:Sparsity of layer at index 17 set to 0.0\n",
      "INFO:/home/user/condensed-sparsity/src/rigl_torch/rigl_scheduler.py:Sparsity of layer at index 18 set to 0.0\n",
      "INFO:/home/user/condensed-sparsity/src/rigl_torch/rigl_scheduler.py:Sparsity of layer at index 20 set to 0.0\n",
      "INFO:/home/user/condensed-sparsity/src/rigl_torch/rigl_scheduler.py:Sparsity of layer at index 21 set to 0.0\n",
      "INFO:/home/user/condensed-sparsity/src/rigl_torch/rigl_scheduler.py:Sparsity of layer at index 23 set to 0.0\n",
      "INFO:/home/user/condensed-sparsity/src/rigl_torch/rigl_scheduler.py:Sparsity of layer at index 0 set to 0.0\n"
     ]
    },
    {
     "data": {
      "text/html": [
       "<div>\n",
       "<style scoped>\n",
       "    .dataframe tbody tr th:only-of-type {\n",
       "        vertical-align: middle;\n",
       "    }\n",
       "\n",
       "    .dataframe tbody tr th {\n",
       "        vertical-align: top;\n",
       "    }\n",
       "\n",
       "    .dataframe thead th {\n",
       "        text-align: right;\n",
       "    }\n",
       "</style>\n",
       "<table border=\"1\" class=\"dataframe\">\n",
       "  <thead>\n",
       "    <tr style=\"text-align: right;\">\n",
       "      <th></th>\n",
       "      <th>rigl.dense_allocation</th>\n",
       "      <th>flops</th>\n",
       "      <th>model</th>\n",
       "      <th>params</th>\n",
       "      <th>normalized_flops</th>\n",
       "      <th>training_flops</th>\n",
       "      <th>normalized_training_flops</th>\n",
       "    </tr>\n",
       "  </thead>\n",
       "  <tbody>\n",
       "    <tr>\n",
       "      <th>0</th>\n",
       "      <td>null</td>\n",
       "      <td>8.189482e+09</td>\n",
       "      <td>resnet50</td>\n",
       "      <td>25530472.0</td>\n",
       "      <td>1.000000</td>\n",
       "      <td>3.147628e+18</td>\n",
       "      <td>1.000000</td>\n",
       "    </tr>\n",
       "    <tr>\n",
       "      <th>1</th>\n",
       "      <td>0.01</td>\n",
       "      <td>2.101481e+08</td>\n",
       "      <td>resnet50</td>\n",
       "      <td>1079578.0</td>\n",
       "      <td>0.025661</td>\n",
       "      <td>9.142521e+16</td>\n",
       "      <td>0.029046</td>\n",
       "    </tr>\n",
       "    <tr>\n",
       "      <th>2</th>\n",
       "      <td>0.05</td>\n",
       "      <td>1.006217e+09</td>\n",
       "      <td>resnet50</td>\n",
       "      <td>2099700.0</td>\n",
       "      <td>0.122867</td>\n",
       "      <td>3.984043e+17</td>\n",
       "      <td>0.126573</td>\n",
       "    </tr>\n",
       "    <tr>\n",
       "      <th>3</th>\n",
       "      <td>0.0625</td>\n",
       "      <td>1.254965e+09</td>\n",
       "      <td>resnet50</td>\n",
       "      <td>2418458.0</td>\n",
       "      <td>0.153241</td>\n",
       "      <td>4.943262e+17</td>\n",
       "      <td>0.157047</td>\n",
       "    </tr>\n",
       "    <tr>\n",
       "      <th>4</th>\n",
       "      <td>0.1</td>\n",
       "      <td>1.988961e+09</td>\n",
       "      <td>resnet50</td>\n",
       "      <td>3374716.0</td>\n",
       "      <td>0.242868</td>\n",
       "      <td>7.773687e+17</td>\n",
       "      <td>0.246970</td>\n",
       "    </tr>\n",
       "    <tr>\n",
       "      <th>5</th>\n",
       "      <td>0.2</td>\n",
       "      <td>3.395292e+09</td>\n",
       "      <td>resnet50</td>\n",
       "      <td>5920909.0</td>\n",
       "      <td>0.414592</td>\n",
       "      <td>1.319676e+18</td>\n",
       "      <td>0.419260</td>\n",
       "    </tr>\n",
       "    <tr>\n",
       "      <th>6</th>\n",
       "      <td>0.25</td>\n",
       "      <td>3.903734e+09</td>\n",
       "      <td>resnet50</td>\n",
       "      <td>7181400.0</td>\n",
       "      <td>0.476677</td>\n",
       "      <td>1.515741e+18</td>\n",
       "      <td>0.481550</td>\n",
       "    </tr>\n",
       "  </tbody>\n",
       "</table>\n",
       "</div>"
      ],
      "text/plain": [
       "  rigl.dense_allocation         flops     model      params  normalized_flops  \\\n",
       "0                  null  8.189482e+09  resnet50  25530472.0          1.000000   \n",
       "1                  0.01  2.101481e+08  resnet50   1079578.0          0.025661   \n",
       "2                  0.05  1.006217e+09  resnet50   2099700.0          0.122867   \n",
       "3                0.0625  1.254965e+09  resnet50   2418458.0          0.153241   \n",
       "4                   0.1  1.988961e+09  resnet50   3374716.0          0.242868   \n",
       "5                   0.2  3.395292e+09  resnet50   5920909.0          0.414592   \n",
       "6                  0.25  3.903734e+09  resnet50   7181400.0          0.476677   \n",
       "\n",
       "   training_flops  normalized_training_flops  \n",
       "0    3.147628e+18                   1.000000  \n",
       "1    9.142521e+16                   0.029046  \n",
       "2    3.984043e+17                   0.126573  \n",
       "3    4.943262e+17                   0.157047  \n",
       "4    7.773687e+17                   0.246970  \n",
       "5    1.319676e+18                   0.419260  \n",
       "6    1.515741e+18                   0.481550  "
      ]
     },
     "execution_count": 64,
     "metadata": {},
     "output_type": "execute_result"
    }
   ],
   "source": [
    "def get_flops_df(model_name, dataset):\n",
    "    df = {k:[] for k in [\"rigl.dense_allocation\", \"flops\", \"model\", \"params\"]}\n",
    "    for da in [\"null\", 0.01, 0.05, 0.0625, 0.1, 0.2, 0.25,]:\n",
    "    # for da in [\"null\",0.1]:\n",
    "        print(f\"Calculating with dense_alloc == {da}\")\n",
    "        pruner, model, _ = get_pruner_model_loader(da, model_name, dataset)\n",
    "        model.eval()\n",
    "        model.to(\"cpu\")\n",
    "        init_input_shape(model)\n",
    "        total_flops, params, global_sparsity = get_model_info(model, pruner)\n",
    "        del model\n",
    "        del pruner\n",
    "        df[\"rigl.dense_allocation\"].append(da)\n",
    "        df[\"flops\"].append(total_flops)\n",
    "        df[\"model\"].append(model_name)\n",
    "        df[\"params\"].append(params)\n",
    "    df = pd.DataFrame(df)\n",
    "    df[\"normalized_flops\"] = df[\"flops\"]/ df.loc[df[\"rigl.dense_allocation\"]==\"null\"][\"flops\"].item()\n",
    "    df[\"training_flops\"] = df[\"flops\"]* 3 * 1281167 * 100  # three passes * num images * num epochs\n",
    "    delta_t = 100\n",
    "    f_d = df.loc[df[\"rigl.dense_allocation\"] == \"null\"][\"flops\"].item()  # dense inference flops\n",
    "    # f_d = 3.2e18\n",
    "    df.loc[df[\"rigl.dense_allocation\"] != \"null\", \"training_flops\"] = ( (df[\"flops\"]* 3 * delta_t+2*df[\"flops\"]*2+f_d)/(delta_t+1) ) * 1281167 * 100\n",
    "    # df.loc[df[\"rigl.dense_allocation\"]==\"null\", ['training_flops']] = 3.2e18\n",
    "    # df.loc[df[\"rigl.dense_allocation\"]==\"null\"]['training_flops'] = df.loc[df[\"rigl.dense_allocation\"]==\"null\"][\"flops\"].item()*3\n",
    "    df[\"normalized_training_flops\"] = df[\"training_flops\"]/ df.loc[df[\"rigl.dense_allocation\"]==\"null\"][\"training_flops\"].item()\n",
    "    return df\n",
    "    \n",
    "df = get_flops_df(\"resnet50\", \"imagenet\")\n",
    "df"
   ]
  },
  {
   "cell_type": "code",
   "execution_count": 66,
   "metadata": {},
   "outputs": [
    {
     "data": {
      "text/html": [
       "<div>\n",
       "<style scoped>\n",
       "    .dataframe tbody tr th:only-of-type {\n",
       "        vertical-align: middle;\n",
       "    }\n",
       "\n",
       "    .dataframe tbody tr th {\n",
       "        vertical-align: top;\n",
       "    }\n",
       "\n",
       "    .dataframe thead th {\n",
       "        text-align: right;\n",
       "    }\n",
       "</style>\n",
       "<table border=\"1\" class=\"dataframe\">\n",
       "  <thead>\n",
       "    <tr style=\"text-align: right;\">\n",
       "      <th></th>\n",
       "      <th>Unnamed: 0</th>\n",
       "      <th>rigl.dense_allocation</th>\n",
       "      <th>flops</th>\n",
       "      <th>model</th>\n",
       "      <th>params</th>\n",
       "      <th>normalized_flops</th>\n",
       "      <th>training_flops</th>\n",
       "      <th>normalized_training_flops</th>\n",
       "    </tr>\n",
       "  </thead>\n",
       "  <tbody>\n",
       "    <tr>\n",
       "      <th>0</th>\n",
       "      <td>0</td>\n",
       "      <td>NaN</td>\n",
       "      <td>8.189482e+09</td>\n",
       "      <td>resnet50</td>\n",
       "      <td>25530472.0</td>\n",
       "      <td>1.000000</td>\n",
       "      <td>2.456845e+10</td>\n",
       "      <td>1.000000</td>\n",
       "    </tr>\n",
       "    <tr>\n",
       "      <th>1</th>\n",
       "      <td>1</td>\n",
       "      <td>0.0100</td>\n",
       "      <td>2.101481e+08</td>\n",
       "      <td>resnet50</td>\n",
       "      <td>1079578.0</td>\n",
       "      <td>0.025661</td>\n",
       "      <td>6.304442e+08</td>\n",
       "      <td>0.025661</td>\n",
       "    </tr>\n",
       "    <tr>\n",
       "      <th>2</th>\n",
       "      <td>2</td>\n",
       "      <td>0.0500</td>\n",
       "      <td>1.006217e+09</td>\n",
       "      <td>resnet50</td>\n",
       "      <td>2099700.0</td>\n",
       "      <td>0.122867</td>\n",
       "      <td>3.018652e+09</td>\n",
       "      <td>0.122867</td>\n",
       "    </tr>\n",
       "    <tr>\n",
       "      <th>3</th>\n",
       "      <td>3</td>\n",
       "      <td>0.0625</td>\n",
       "      <td>1.254965e+09</td>\n",
       "      <td>resnet50</td>\n",
       "      <td>2418458.0</td>\n",
       "      <td>0.153241</td>\n",
       "      <td>3.764896e+09</td>\n",
       "      <td>0.153241</td>\n",
       "    </tr>\n",
       "    <tr>\n",
       "      <th>4</th>\n",
       "      <td>4</td>\n",
       "      <td>0.1000</td>\n",
       "      <td>1.988961e+09</td>\n",
       "      <td>resnet50</td>\n",
       "      <td>3374716.0</td>\n",
       "      <td>0.242868</td>\n",
       "      <td>5.966884e+09</td>\n",
       "      <td>0.242868</td>\n",
       "    </tr>\n",
       "    <tr>\n",
       "      <th>5</th>\n",
       "      <td>5</td>\n",
       "      <td>0.2000</td>\n",
       "      <td>3.395292e+09</td>\n",
       "      <td>resnet50</td>\n",
       "      <td>5920909.0</td>\n",
       "      <td>0.414592</td>\n",
       "      <td>1.018587e+10</td>\n",
       "      <td>0.414592</td>\n",
       "    </tr>\n",
       "    <tr>\n",
       "      <th>6</th>\n",
       "      <td>6</td>\n",
       "      <td>0.2500</td>\n",
       "      <td>3.903734e+09</td>\n",
       "      <td>resnet50</td>\n",
       "      <td>7181400.0</td>\n",
       "      <td>0.476677</td>\n",
       "      <td>1.171120e+10</td>\n",
       "      <td>0.476677</td>\n",
       "    </tr>\n",
       "  </tbody>\n",
       "</table>\n",
       "</div>"
      ],
      "text/plain": [
       "   Unnamed: 0  rigl.dense_allocation         flops     model      params  \\\n",
       "0           0                    NaN  8.189482e+09  resnet50  25530472.0   \n",
       "1           1                 0.0100  2.101481e+08  resnet50   1079578.0   \n",
       "2           2                 0.0500  1.006217e+09  resnet50   2099700.0   \n",
       "3           3                 0.0625  1.254965e+09  resnet50   2418458.0   \n",
       "4           4                 0.1000  1.988961e+09  resnet50   3374716.0   \n",
       "5           5                 0.2000  3.395292e+09  resnet50   5920909.0   \n",
       "6           6                 0.2500  3.903734e+09  resnet50   7181400.0   \n",
       "\n",
       "   normalized_flops  training_flops  normalized_training_flops  \n",
       "0          1.000000    2.456845e+10                   1.000000  \n",
       "1          0.025661    6.304442e+08                   0.025661  \n",
       "2          0.122867    3.018652e+09                   0.122867  \n",
       "3          0.153241    3.764896e+09                   0.153241  \n",
       "4          0.242868    5.966884e+09                   0.242868  \n",
       "5          0.414592    1.018587e+10                   0.414592  \n",
       "6          0.476677    1.171120e+10                   0.476677  "
      ]
     },
     "execution_count": 66,
     "metadata": {},
     "output_type": "execute_result"
    }
   ],
   "source": [
    "old_flops"
   ]
  },
  {
   "cell_type": "code",
   "execution_count": 65,
   "metadata": {},
   "outputs": [],
   "source": [
    "adf.to_csv(\"../floaps_and_params.csv\")"
   ]
  },
  {
   "cell_type": "code",
   "execution_count": 51,
   "metadata": {},
   "outputs": [],
   "source": [
    "df.loc[df[\"rigl.dense_allocation\"]==\"null\", ['training_flops']] = 3.2e18"
   ]
  },
  {
   "cell_type": "code",
   "execution_count": 52,
   "metadata": {},
   "outputs": [
    {
     "data": {
      "text/html": [
       "<div>\n",
       "<style scoped>\n",
       "    .dataframe tbody tr th:only-of-type {\n",
       "        vertical-align: middle;\n",
       "    }\n",
       "\n",
       "    .dataframe tbody tr th {\n",
       "        vertical-align: top;\n",
       "    }\n",
       "\n",
       "    .dataframe thead th {\n",
       "        text-align: right;\n",
       "    }\n",
       "</style>\n",
       "<table border=\"1\" class=\"dataframe\">\n",
       "  <thead>\n",
       "    <tr style=\"text-align: right;\">\n",
       "      <th></th>\n",
       "      <th>rigl.dense_allocation</th>\n",
       "      <th>flops</th>\n",
       "      <th>model</th>\n",
       "      <th>params</th>\n",
       "      <th>normalized_flops</th>\n",
       "      <th>training_flops</th>\n",
       "      <th>normalized_training_flops</th>\n",
       "    </tr>\n",
       "  </thead>\n",
       "  <tbody>\n",
       "    <tr>\n",
       "      <th>0</th>\n",
       "      <td>null</td>\n",
       "      <td>8.189482e+09</td>\n",
       "      <td>resnet50</td>\n",
       "      <td>25530472.0</td>\n",
       "      <td>1.000000</td>\n",
       "      <td>3.200000e+18</td>\n",
       "      <td>1.000000</td>\n",
       "    </tr>\n",
       "    <tr>\n",
       "      <th>1</th>\n",
       "      <td>0.01</td>\n",
       "      <td>2.101481e+08</td>\n",
       "      <td>resnet50</td>\n",
       "      <td>1079578.0</td>\n",
       "      <td>0.025661</td>\n",
       "      <td>7.136088e+08</td>\n",
       "      <td>0.028855</td>\n",
       "    </tr>\n",
       "  </tbody>\n",
       "</table>\n",
       "</div>"
      ],
      "text/plain": [
       "  rigl.dense_allocation         flops     model      params  normalized_flops  \\\n",
       "0                  null  8.189482e+09  resnet50  25530472.0          1.000000   \n",
       "1                  0.01  2.101481e+08  resnet50   1079578.0          0.025661   \n",
       "\n",
       "   training_flops  normalized_training_flops  \n",
       "0    3.200000e+18                   1.000000  \n",
       "1    7.136088e+08                   0.028855  "
      ]
     },
     "execution_count": 52,
     "metadata": {},
     "output_type": "execute_result"
    }
   ],
   "source": [
    "df"
   ]
  },
  {
   "cell_type": "code",
   "execution_count": 17,
   "metadata": {},
   "outputs": [],
   "source": [
    "    delta_t = 100\n",
    "    f_d = df.loc[df[\"rigl.dense_allocation\"] == \"null\"][\"flops\"]  # dense inference flops\n",
    "    # df[\"training_flops\"] = (df[\"flops\"]* 3 * delta_t+2*df[\"flops\"]*2+f_d)/(delta_t+1)"
   ]
  },
  {
   "cell_type": "code",
   "execution_count": 20,
   "metadata": {},
   "outputs": [
    {
     "data": {
      "text/plain": [
       "0    2.473062e+10\n",
       "1             NaN\n",
       "2             NaN\n",
       "3             NaN\n",
       "4             NaN\n",
       "5             NaN\n",
       "6             NaN\n",
       "Name: flops, dtype: float64"
      ]
     },
     "execution_count": 20,
     "metadata": {},
     "output_type": "execute_result"
    }
   ],
   "source": [
    "(df[\"flops\"]* 3 * delta_t+2*df[\"flops\"]*2+f_d)/(delta_t+1)"
   ]
  },
  {
   "cell_type": "code",
   "execution_count": 33,
   "metadata": {},
   "outputs": [
    {
     "data": {
      "text/plain": [
       "0    8.189482e+09\n",
       "Name: flops, dtype: float64"
      ]
     },
     "execution_count": 33,
     "metadata": {},
     "output_type": "execute_result"
    }
   ],
   "source": [
    "f_d"
   ]
  },
  {
   "cell_type": "code",
   "execution_count": 35,
   "metadata": {},
   "outputs": [
    {
     "data": {
      "text/plain": [
       "0    2.464953e+10\n",
       "1    7.905315e+08\n",
       "2    3.170857e+09\n",
       "3    3.914639e+09\n",
       "4    6.109360e+09\n",
       "5    1.031443e+10\n",
       "6    1.183472e+10\n",
       "Name: flops, dtype: float64"
      ]
     },
     "execution_count": 35,
     "metadata": {},
     "output_type": "execute_result"
    }
   ],
   "source": [
    "(df[\"flops\"]*3*delta_t+2*df['flops']+2*f_d.item()) / (delta_t+1)"
   ]
  },
  {
   "cell_type": "code",
   "execution_count": null,
   "metadata": {},
   "outputs": [],
   "source": [
    "(df[\"flops\"]* 3 * delta_t+2*df[\"flops\"]*2+f_d)/(delta_t+1)"
   ]
  },
  {
   "cell_type": "code",
   "execution_count": null,
   "metadata": {},
   "outputs": [],
   "source": [
    "    delta_t = 100\n",
    "    f_d = df.loc[df[\"rigl.dense_allocation\"] == \"null\"][\"flops\"]  # dense inference flops\n",
    "    df[\"training_flops\"] = (df[\"flops\"]* 3 * delta_t+2*df[\"flops\"]*2+f_d)/(delta_t+1)"
   ]
  },
  {
   "cell_type": "code",
   "execution_count": 15,
   "metadata": {},
   "outputs": [
    {
     "data": {
      "text/html": [
       "<div>\n",
       "<style scoped>\n",
       "    .dataframe tbody tr th:only-of-type {\n",
       "        vertical-align: middle;\n",
       "    }\n",
       "\n",
       "    .dataframe tbody tr th {\n",
       "        vertical-align: top;\n",
       "    }\n",
       "\n",
       "    .dataframe thead th {\n",
       "        text-align: right;\n",
       "    }\n",
       "</style>\n",
       "<table border=\"1\" class=\"dataframe\">\n",
       "  <thead>\n",
       "    <tr style=\"text-align: right;\">\n",
       "      <th></th>\n",
       "      <th>Unnamed: 0</th>\n",
       "      <th>rigl.dense_allocation</th>\n",
       "      <th>flops</th>\n",
       "      <th>model</th>\n",
       "      <th>params</th>\n",
       "      <th>normalized_flops</th>\n",
       "      <th>training_flops</th>\n",
       "      <th>normalized_training_flops</th>\n",
       "    </tr>\n",
       "  </thead>\n",
       "  <tbody>\n",
       "    <tr>\n",
       "      <th>0</th>\n",
       "      <td>0</td>\n",
       "      <td>NaN</td>\n",
       "      <td>8.189482e+09</td>\n",
       "      <td>resnet50</td>\n",
       "      <td>25530472.0</td>\n",
       "      <td>1.000000</td>\n",
       "      <td>2.456845e+10</td>\n",
       "      <td>1.000000</td>\n",
       "    </tr>\n",
       "    <tr>\n",
       "      <th>1</th>\n",
       "      <td>1</td>\n",
       "      <td>0.0100</td>\n",
       "      <td>2.101481e+08</td>\n",
       "      <td>resnet50</td>\n",
       "      <td>1079578.0</td>\n",
       "      <td>0.025661</td>\n",
       "      <td>6.304442e+08</td>\n",
       "      <td>0.025661</td>\n",
       "    </tr>\n",
       "    <tr>\n",
       "      <th>2</th>\n",
       "      <td>2</td>\n",
       "      <td>0.0500</td>\n",
       "      <td>1.006217e+09</td>\n",
       "      <td>resnet50</td>\n",
       "      <td>2099700.0</td>\n",
       "      <td>0.122867</td>\n",
       "      <td>3.018652e+09</td>\n",
       "      <td>0.122867</td>\n",
       "    </tr>\n",
       "    <tr>\n",
       "      <th>3</th>\n",
       "      <td>3</td>\n",
       "      <td>0.0625</td>\n",
       "      <td>1.254965e+09</td>\n",
       "      <td>resnet50</td>\n",
       "      <td>2418458.0</td>\n",
       "      <td>0.153241</td>\n",
       "      <td>3.764896e+09</td>\n",
       "      <td>0.153241</td>\n",
       "    </tr>\n",
       "    <tr>\n",
       "      <th>4</th>\n",
       "      <td>4</td>\n",
       "      <td>0.1000</td>\n",
       "      <td>1.988961e+09</td>\n",
       "      <td>resnet50</td>\n",
       "      <td>3374716.0</td>\n",
       "      <td>0.242868</td>\n",
       "      <td>5.966884e+09</td>\n",
       "      <td>0.242868</td>\n",
       "    </tr>\n",
       "    <tr>\n",
       "      <th>5</th>\n",
       "      <td>5</td>\n",
       "      <td>0.2000</td>\n",
       "      <td>3.395292e+09</td>\n",
       "      <td>resnet50</td>\n",
       "      <td>5920909.0</td>\n",
       "      <td>0.414592</td>\n",
       "      <td>1.018587e+10</td>\n",
       "      <td>0.414592</td>\n",
       "    </tr>\n",
       "    <tr>\n",
       "      <th>6</th>\n",
       "      <td>6</td>\n",
       "      <td>0.2500</td>\n",
       "      <td>3.903734e+09</td>\n",
       "      <td>resnet50</td>\n",
       "      <td>7181400.0</td>\n",
       "      <td>0.476677</td>\n",
       "      <td>1.171120e+10</td>\n",
       "      <td>0.476677</td>\n",
       "    </tr>\n",
       "  </tbody>\n",
       "</table>\n",
       "</div>"
      ],
      "text/plain": [
       "   Unnamed: 0  rigl.dense_allocation         flops     model      params  \\\n",
       "0           0                    NaN  8.189482e+09  resnet50  25530472.0   \n",
       "1           1                 0.0100  2.101481e+08  resnet50   1079578.0   \n",
       "2           2                 0.0500  1.006217e+09  resnet50   2099700.0   \n",
       "3           3                 0.0625  1.254965e+09  resnet50   2418458.0   \n",
       "4           4                 0.1000  1.988961e+09  resnet50   3374716.0   \n",
       "5           5                 0.2000  3.395292e+09  resnet50   5920909.0   \n",
       "6           6                 0.2500  3.903734e+09  resnet50   7181400.0   \n",
       "\n",
       "   normalized_flops  training_flops  normalized_training_flops  \n",
       "0          1.000000    2.456845e+10                   1.000000  \n",
       "1          0.025661    6.304442e+08                   0.025661  \n",
       "2          0.122867    3.018652e+09                   0.122867  \n",
       "3          0.153241    3.764896e+09                   0.153241  \n",
       "4          0.242868    5.966884e+09                   0.242868  \n",
       "5          0.414592    1.018587e+10                   0.414592  \n",
       "6          0.476677    1.171120e+10                   0.476677  "
      ]
     },
     "execution_count": 15,
     "metadata": {},
     "output_type": "execute_result"
    }
   ],
   "source": [
    "old_flops = pd.read_csv(\"../flops_and_params.csv\")\n",
    "old_flops"
   ]
  },
  {
   "cell_type": "code",
   "execution_count": 61,
   "metadata": {},
   "outputs": [
    {
     "data": {
      "text/html": [
       "<div>\n",
       "<style scoped>\n",
       "    .dataframe tbody tr th:only-of-type {\n",
       "        vertical-align: middle;\n",
       "    }\n",
       "\n",
       "    .dataframe tbody tr th {\n",
       "        vertical-align: top;\n",
       "    }\n",
       "\n",
       "    .dataframe thead th {\n",
       "        text-align: right;\n",
       "    }\n",
       "</style>\n",
       "<table border=\"1\" class=\"dataframe\">\n",
       "  <thead>\n",
       "    <tr style=\"text-align: right;\">\n",
       "      <th></th>\n",
       "      <th>flops</th>\n",
       "      <th>training_flops</th>\n",
       "    </tr>\n",
       "  </thead>\n",
       "  <tbody>\n",
       "    <tr>\n",
       "      <th>0</th>\n",
       "      <td>0.000000e+00</td>\n",
       "      <td>-1.621680e+08</td>\n",
       "    </tr>\n",
       "    <tr>\n",
       "      <th>1</th>\n",
       "      <td>0.000000e+00</td>\n",
       "      <td>-8.316466e+07</td>\n",
       "    </tr>\n",
       "    <tr>\n",
       "      <th>2</th>\n",
       "      <td>0.000000e+00</td>\n",
       "      <td>-9.104653e+07</td>\n",
       "    </tr>\n",
       "    <tr>\n",
       "      <th>3</th>\n",
       "      <td>0.000000e+00</td>\n",
       "      <td>-9.350938e+07</td>\n",
       "    </tr>\n",
       "    <tr>\n",
       "      <th>4</th>\n",
       "      <td>2.384186e-07</td>\n",
       "      <td>-1.007767e+08</td>\n",
       "    </tr>\n",
       "    <tr>\n",
       "      <th>5</th>\n",
       "      <td>0.000000e+00</td>\n",
       "      <td>-1.147007e+08</td>\n",
       "    </tr>\n",
       "    <tr>\n",
       "      <th>6</th>\n",
       "      <td>0.000000e+00</td>\n",
       "      <td>-1.197348e+08</td>\n",
       "    </tr>\n",
       "  </tbody>\n",
       "</table>\n",
       "</div>"
      ],
      "text/plain": [
       "          flops  training_flops\n",
       "0  0.000000e+00   -1.621680e+08\n",
       "1  0.000000e+00   -8.316466e+07\n",
       "2  0.000000e+00   -9.104653e+07\n",
       "3  0.000000e+00   -9.350938e+07\n",
       "4  2.384186e-07   -1.007767e+08\n",
       "5  0.000000e+00   -1.147007e+08\n",
       "6  0.000000e+00   -1.197348e+08"
      ]
     },
     "execution_count": 61,
     "metadata": {},
     "output_type": "execute_result"
    }
   ],
   "source": [
    "old_flops[[\"flops\", \"training_flops\"]] - df[[\"flops\", \"training_flops\"]]"
   ]
  },
  {
   "cell_type": "code",
   "execution_count": 11,
   "metadata": {},
   "outputs": [
    {
     "name": "stdout",
     "output_type": "stream",
     "text": [
      "Calculating with dense_alloc == null\n"
     ]
    },
    {
     "name": "stderr",
     "output_type": "stream",
     "text": [
      "Global seed set to 42\n"
     ]
    },
    {
     "name": "stdout",
     "output_type": "stream",
     "text": [
      "{'no_cuda': False, 'cuda_kwargs': {'num_workers': '${ oc.decode:${oc.env:NUM_WORKERS} }', 'pin_memory': True}, 'distributed': False, 'world_size': 4, 'dist_backend': 'nccl'}\n",
      "loading to device rank: 0\n"
     ]
    },
    {
     "name": "stderr",
     "output_type": "stream",
     "text": [
      "INFO:/home/user/condensed-sparsity/src/rigl_torch/models/model_factory.py:Loading model resnet50/imagenet using <function get_imagenet_resnet50 at 0x7fcee2482a70> with args: () and kwargs: {}\n"
     ]
    },
    {
     "data": {
      "text/html": [
       "<div>\n",
       "<style scoped>\n",
       "    .dataframe tbody tr th:only-of-type {\n",
       "        vertical-align: middle;\n",
       "    }\n",
       "\n",
       "    .dataframe tbody tr th {\n",
       "        vertical-align: top;\n",
       "    }\n",
       "\n",
       "    .dataframe thead th {\n",
       "        text-align: right;\n",
       "    }\n",
       "</style>\n",
       "<table border=\"1\" class=\"dataframe\">\n",
       "  <thead>\n",
       "    <tr style=\"text-align: right;\">\n",
       "      <th></th>\n",
       "      <th>rigl.dense_allocation</th>\n",
       "      <th>flops</th>\n",
       "      <th>model</th>\n",
       "      <th>params</th>\n",
       "      <th>normalized_flops</th>\n",
       "      <th>training_flops</th>\n",
       "      <th>normalized_training_flops</th>\n",
       "    </tr>\n",
       "  </thead>\n",
       "  <tbody>\n",
       "    <tr>\n",
       "      <th>0</th>\n",
       "      <td>null</td>\n",
       "      <td>8.189482e+09</td>\n",
       "      <td>resnet50</td>\n",
       "      <td>25530472.0</td>\n",
       "      <td>1.0</td>\n",
       "      <td>8.189482e+09</td>\n",
       "      <td>1.0</td>\n",
       "    </tr>\n",
       "  </tbody>\n",
       "</table>\n",
       "</div>"
      ],
      "text/plain": [
       "  rigl.dense_allocation         flops     model      params  normalized_flops  \\\n",
       "0                  null  8.189482e+09  resnet50  25530472.0               1.0   \n",
       "\n",
       "   training_flops  normalized_training_flops  \n",
       "0    8.189482e+09                        1.0  "
      ]
     },
     "execution_count": 11,
     "metadata": {},
     "output_type": "execute_result"
    }
   ],
   "source": [
    "def get_flops_df(model_name, dataset):\n",
    "    df = {k:[] for k in [\"rigl.dense_allocation\", \"flops\", \"model\", \"params\"]}\n",
    "    # for da in [\"null\", 0.01, 0.05, 0.0625, 0.1, 0.2, 0.25,]:\n",
    "    for da in [\"null\",]:\n",
    "        print(f\"Calculating with dense_alloc == {da}\")\n",
    "        pruner, model, _ = get_pruner_model_loader(da, model_name, dataset)\n",
    "        model.eval()\n",
    "        model.to(\"cpu\")\n",
    "        init_input_shape(model)\n",
    "        total_flops, params, global_sparsity = get_model_info(model, pruner)\n",
    "        model.train()\n",
    "        training_flops, training_params, global_sparsity = get_model_info(model, pruner)\n",
    "        del model\n",
    "        del pruner\n",
    "        df[\"rigl.dense_allocation\"].append(da)\n",
    "        df[\"flops\"].append(total_flops)\n",
    "        df[\"model\"].append(model_name)\n",
    "        df[\"params\"].append(params)\n",
    "    df = pd.DataFrame(df)\n",
    "    df[\"normalized_flops\"] = df[\"flops\"]/ df.loc[df[\"rigl.dense_allocation\"]==\"null\"][\"flops\"].item()\n",
    "    # df[\"training_flops\"] = df[\"flops\"]* 3\n",
    "    df[\"training_flops\"] = training_flops\n",
    "    df.loc[df[\"rigl.dense_allocation\"]==\"null\"]['training_flops'] = df.loc[df[\"rigl.dense_allocation\"]==\"null\"][\"flops\"].item()*3\n",
    "    df[\"normalized_training_flops\"] = df[\"training_flops\"]/ df.loc[df[\"rigl.dense_allocation\"]==\"null\"][\"training_flops\"].item()\n",
    "    return df\n",
    "    \n",
    "df = get_flops_df(\"resnet50\", \"imagenet\")\n",
    "df"
   ]
  },
  {
   "cell_type": "code",
   "execution_count": 10,
   "metadata": {},
   "outputs": [
    {
     "data": {
      "text/html": [
       "<div>\n",
       "<style scoped>\n",
       "    .dataframe tbody tr th:only-of-type {\n",
       "        vertical-align: middle;\n",
       "    }\n",
       "\n",
       "    .dataframe tbody tr th {\n",
       "        vertical-align: top;\n",
       "    }\n",
       "\n",
       "    .dataframe thead th {\n",
       "        text-align: right;\n",
       "    }\n",
       "</style>\n",
       "<table border=\"1\" class=\"dataframe\">\n",
       "  <thead>\n",
       "    <tr style=\"text-align: right;\">\n",
       "      <th></th>\n",
       "      <th>rigl.dense_allocation</th>\n",
       "      <th>flops</th>\n",
       "      <th>model</th>\n",
       "      <th>params</th>\n",
       "      <th>normalized_flops</th>\n",
       "      <th>training_flops</th>\n",
       "      <th>normalized_training_flops</th>\n",
       "    </tr>\n",
       "  </thead>\n",
       "  <tbody>\n",
       "    <tr>\n",
       "      <th>0</th>\n",
       "      <td>null</td>\n",
       "      <td>8.189482e+09</td>\n",
       "      <td>resnet50</td>\n",
       "      <td>25530472.0</td>\n",
       "      <td>1.0</td>\n",
       "      <td>2.456845e+10</td>\n",
       "      <td>1.0</td>\n",
       "    </tr>\n",
       "  </tbody>\n",
       "</table>\n",
       "</div>"
      ],
      "text/plain": [
       "  rigl.dense_allocation         flops     model      params  normalized_flops  \\\n",
       "0                  null  8.189482e+09  resnet50  25530472.0               1.0   \n",
       "\n",
       "   training_flops  normalized_training_flops  \n",
       "0    2.456845e+10                        1.0  "
      ]
     },
     "execution_count": 10,
     "metadata": {},
     "output_type": "execute_result"
    }
   ],
   "source": [
    "df"
   ]
  },
  {
   "cell_type": "code",
   "execution_count": 12,
   "metadata": {},
   "outputs": [
    {
     "data": {
      "text/html": [
       "<div>\n",
       "<style scoped>\n",
       "    .dataframe tbody tr th:only-of-type {\n",
       "        vertical-align: middle;\n",
       "    }\n",
       "\n",
       "    .dataframe tbody tr th {\n",
       "        vertical-align: top;\n",
       "    }\n",
       "\n",
       "    .dataframe thead th {\n",
       "        text-align: right;\n",
       "    }\n",
       "</style>\n",
       "<table border=\"1\" class=\"dataframe\">\n",
       "  <thead>\n",
       "    <tr style=\"text-align: right;\">\n",
       "      <th></th>\n",
       "      <th>rigl.dense_allocation</th>\n",
       "      <th>flops</th>\n",
       "      <th>model</th>\n",
       "      <th>params</th>\n",
       "      <th>normalized_flops</th>\n",
       "      <th>training_flops</th>\n",
       "      <th>normalized_training_flops</th>\n",
       "    </tr>\n",
       "  </thead>\n",
       "  <tbody>\n",
       "    <tr>\n",
       "      <th>0</th>\n",
       "      <td>null</td>\n",
       "      <td>8.189482e+09</td>\n",
       "      <td>resnet50</td>\n",
       "      <td>25530472.0</td>\n",
       "      <td>1.0</td>\n",
       "      <td>8.189482e+09</td>\n",
       "      <td>1.0</td>\n",
       "    </tr>\n",
       "  </tbody>\n",
       "</table>\n",
       "</div>"
      ],
      "text/plain": [
       "  rigl.dense_allocation         flops     model      params  normalized_flops  \\\n",
       "0                  null  8.189482e+09  resnet50  25530472.0               1.0   \n",
       "\n",
       "   training_flops  normalized_training_flops  \n",
       "0    8.189482e+09                        1.0  "
      ]
     },
     "execution_count": 12,
     "metadata": {},
     "output_type": "execute_result"
    }
   ],
   "source": [
    "df"
   ]
  },
  {
   "cell_type": "code",
   "execution_count": 18,
   "metadata": {},
   "outputs": [],
   "source": [
    "df.to_csv(\"../flops_and_params.csv\")"
   ]
  },
  {
   "cell_type": "code",
   "execution_count": 11,
   "metadata": {},
   "outputs": [
    {
     "data": {
      "text/plain": [
       "0    8.189482\n",
       "1    0.210148\n",
       "2    1.006217\n",
       "3    1.254965\n",
       "4    1.988961\n",
       "5    3.395292\n",
       "6    3.903734\n",
       "Name: flops, dtype: float64"
      ]
     },
     "execution_count": 11,
     "metadata": {},
     "output_type": "execute_result"
    }
   ],
   "source": [
    "df[\"flops\"]/1e9"
   ]
  },
  {
   "cell_type": "code",
   "execution_count": 12,
   "metadata": {},
   "outputs": [
    {
     "data": {
      "text/html": [
       "<div>\n",
       "<style scoped>\n",
       "    .dataframe tbody tr th:only-of-type {\n",
       "        vertical-align: middle;\n",
       "    }\n",
       "\n",
       "    .dataframe tbody tr th {\n",
       "        vertical-align: top;\n",
       "    }\n",
       "\n",
       "    .dataframe thead th {\n",
       "        text-align: right;\n",
       "    }\n",
       "</style>\n",
       "<table border=\"1\" class=\"dataframe\">\n",
       "  <thead>\n",
       "    <tr style=\"text-align: right;\">\n",
       "      <th></th>\n",
       "      <th>rigl.dense_allocation</th>\n",
       "      <th>flops</th>\n",
       "      <th>model</th>\n",
       "      <th>normalized_flops</th>\n",
       "    </tr>\n",
       "  </thead>\n",
       "  <tbody>\n",
       "    <tr>\n",
       "      <th>0</th>\n",
       "      <td>NaN</td>\n",
       "      <td>4.089184e+09</td>\n",
       "      <td>resnet50</td>\n",
       "      <td>1.000000</td>\n",
       "    </tr>\n",
       "    <tr>\n",
       "      <th>1</th>\n",
       "      <td>0.0100</td>\n",
       "      <td>9.951704e+07</td>\n",
       "      <td>resnet50</td>\n",
       "      <td>0.024337</td>\n",
       "    </tr>\n",
       "    <tr>\n",
       "      <th>2</th>\n",
       "      <td>0.0500</td>\n",
       "      <td>4.975516e+08</td>\n",
       "      <td>resnet50</td>\n",
       "      <td>0.121675</td>\n",
       "    </tr>\n",
       "    <tr>\n",
       "      <th>3</th>\n",
       "      <td>0.0625</td>\n",
       "      <td>6.219257e+08</td>\n",
       "      <td>resnet50</td>\n",
       "      <td>0.152090</td>\n",
       "    </tr>\n",
       "    <tr>\n",
       "      <th>4</th>\n",
       "      <td>0.1000</td>\n",
       "      <td>9.889238e+08</td>\n",
       "      <td>resnet50</td>\n",
       "      <td>0.241839</td>\n",
       "    </tr>\n",
       "    <tr>\n",
       "      <th>5</th>\n",
       "      <td>0.2000</td>\n",
       "      <td>1.692089e+09</td>\n",
       "      <td>resnet50</td>\n",
       "      <td>0.413796</td>\n",
       "    </tr>\n",
       "    <tr>\n",
       "      <th>6</th>\n",
       "      <td>0.2500</td>\n",
       "      <td>1.946310e+09</td>\n",
       "      <td>resnet50</td>\n",
       "      <td>0.475965</td>\n",
       "    </tr>\n",
       "  </tbody>\n",
       "</table>\n",
       "</div>"
      ],
      "text/plain": [
       "   rigl.dense_allocation         flops     model  normalized_flops\n",
       "0                    NaN  4.089184e+09  resnet50          1.000000\n",
       "1                 0.0100  9.951704e+07  resnet50          0.024337\n",
       "2                 0.0500  4.975516e+08  resnet50          0.121675\n",
       "3                 0.0625  6.219257e+08  resnet50          0.152090\n",
       "4                 0.1000  9.889238e+08  resnet50          0.241839\n",
       "5                 0.2000  1.692089e+09  resnet50          0.413796\n",
       "6                 0.2500  1.946310e+09  resnet50          0.475965"
      ]
     },
     "execution_count": 12,
     "metadata": {},
     "output_type": "execute_result"
    }
   ],
   "source": [
    "pytorch_profiler_flops = pd.read_csv(\"../flops_fvcore.csv\", index_col=\"Unnamed: 0\")\n",
    "pytorch_profiler_flops"
   ]
  },
  {
   "cell_type": "code",
   "execution_count": 13,
   "metadata": {},
   "outputs": [
    {
     "ename": "FileNotFoundError",
     "evalue": "[Errno 2] No such file or directory: '../training_flops_fvcore.csv'",
     "output_type": "error",
     "traceback": [
      "\u001b[0;31m---------------------------------------------------------------------------\u001b[0m",
      "\u001b[0;31mFileNotFoundError\u001b[0m                         Traceback (most recent call last)",
      "Cell \u001b[0;32mIn [13], line 1\u001b[0m\n\u001b[0;32m----> 1\u001b[0m pytorch_profiler_flops \u001b[39m=\u001b[39m pd\u001b[39m.\u001b[39;49mread_csv(\u001b[39m\"\u001b[39;49m\u001b[39m../training_flops_fvcore.csv\u001b[39;49m\u001b[39m\"\u001b[39;49m, index_col\u001b[39m=\u001b[39;49m\u001b[39m\"\u001b[39;49m\u001b[39mUnnamed: 0\u001b[39;49m\u001b[39m\"\u001b[39;49m)\n\u001b[1;32m      2\u001b[0m pytorch_profiler_flops\n",
      "File \u001b[0;32m~/condensed-sparsity/.venv/lib/python3.10/site-packages/pandas/util/_decorators.py:311\u001b[0m, in \u001b[0;36mdeprecate_nonkeyword_arguments.<locals>.decorate.<locals>.wrapper\u001b[0;34m(*args, **kwargs)\u001b[0m\n\u001b[1;32m    305\u001b[0m \u001b[39mif\u001b[39;00m \u001b[39mlen\u001b[39m(args) \u001b[39m>\u001b[39m num_allow_args:\n\u001b[1;32m    306\u001b[0m     warnings\u001b[39m.\u001b[39mwarn(\n\u001b[1;32m    307\u001b[0m         msg\u001b[39m.\u001b[39mformat(arguments\u001b[39m=\u001b[39marguments),\n\u001b[1;32m    308\u001b[0m         \u001b[39mFutureWarning\u001b[39;00m,\n\u001b[1;32m    309\u001b[0m         stacklevel\u001b[39m=\u001b[39mstacklevel,\n\u001b[1;32m    310\u001b[0m     )\n\u001b[0;32m--> 311\u001b[0m \u001b[39mreturn\u001b[39;00m func(\u001b[39m*\u001b[39;49margs, \u001b[39m*\u001b[39;49m\u001b[39m*\u001b[39;49mkwargs)\n",
      "File \u001b[0;32m~/condensed-sparsity/.venv/lib/python3.10/site-packages/pandas/io/parsers/readers.py:680\u001b[0m, in \u001b[0;36mread_csv\u001b[0;34m(filepath_or_buffer, sep, delimiter, header, names, index_col, usecols, squeeze, prefix, mangle_dupe_cols, dtype, engine, converters, true_values, false_values, skipinitialspace, skiprows, skipfooter, nrows, na_values, keep_default_na, na_filter, verbose, skip_blank_lines, parse_dates, infer_datetime_format, keep_date_col, date_parser, dayfirst, cache_dates, iterator, chunksize, compression, thousands, decimal, lineterminator, quotechar, quoting, doublequote, escapechar, comment, encoding, encoding_errors, dialect, error_bad_lines, warn_bad_lines, on_bad_lines, delim_whitespace, low_memory, memory_map, float_precision, storage_options)\u001b[0m\n\u001b[1;32m    665\u001b[0m kwds_defaults \u001b[39m=\u001b[39m _refine_defaults_read(\n\u001b[1;32m    666\u001b[0m     dialect,\n\u001b[1;32m    667\u001b[0m     delimiter,\n\u001b[0;32m   (...)\u001b[0m\n\u001b[1;32m    676\u001b[0m     defaults\u001b[39m=\u001b[39m{\u001b[39m\"\u001b[39m\u001b[39mdelimiter\u001b[39m\u001b[39m\"\u001b[39m: \u001b[39m\"\u001b[39m\u001b[39m,\u001b[39m\u001b[39m\"\u001b[39m},\n\u001b[1;32m    677\u001b[0m )\n\u001b[1;32m    678\u001b[0m kwds\u001b[39m.\u001b[39mupdate(kwds_defaults)\n\u001b[0;32m--> 680\u001b[0m \u001b[39mreturn\u001b[39;00m _read(filepath_or_buffer, kwds)\n",
      "File \u001b[0;32m~/condensed-sparsity/.venv/lib/python3.10/site-packages/pandas/io/parsers/readers.py:575\u001b[0m, in \u001b[0;36m_read\u001b[0;34m(filepath_or_buffer, kwds)\u001b[0m\n\u001b[1;32m    572\u001b[0m _validate_names(kwds\u001b[39m.\u001b[39mget(\u001b[39m\"\u001b[39m\u001b[39mnames\u001b[39m\u001b[39m\"\u001b[39m, \u001b[39mNone\u001b[39;00m))\n\u001b[1;32m    574\u001b[0m \u001b[39m# Create the parser.\u001b[39;00m\n\u001b[0;32m--> 575\u001b[0m parser \u001b[39m=\u001b[39m TextFileReader(filepath_or_buffer, \u001b[39m*\u001b[39;49m\u001b[39m*\u001b[39;49mkwds)\n\u001b[1;32m    577\u001b[0m \u001b[39mif\u001b[39;00m chunksize \u001b[39mor\u001b[39;00m iterator:\n\u001b[1;32m    578\u001b[0m     \u001b[39mreturn\u001b[39;00m parser\n",
      "File \u001b[0;32m~/condensed-sparsity/.venv/lib/python3.10/site-packages/pandas/io/parsers/readers.py:933\u001b[0m, in \u001b[0;36mTextFileReader.__init__\u001b[0;34m(self, f, engine, **kwds)\u001b[0m\n\u001b[1;32m    930\u001b[0m     \u001b[39mself\u001b[39m\u001b[39m.\u001b[39moptions[\u001b[39m\"\u001b[39m\u001b[39mhas_index_names\u001b[39m\u001b[39m\"\u001b[39m] \u001b[39m=\u001b[39m kwds[\u001b[39m\"\u001b[39m\u001b[39mhas_index_names\u001b[39m\u001b[39m\"\u001b[39m]\n\u001b[1;32m    932\u001b[0m \u001b[39mself\u001b[39m\u001b[39m.\u001b[39mhandles: IOHandles \u001b[39m|\u001b[39m \u001b[39mNone\u001b[39;00m \u001b[39m=\u001b[39m \u001b[39mNone\u001b[39;00m\n\u001b[0;32m--> 933\u001b[0m \u001b[39mself\u001b[39m\u001b[39m.\u001b[39m_engine \u001b[39m=\u001b[39m \u001b[39mself\u001b[39;49m\u001b[39m.\u001b[39;49m_make_engine(f, \u001b[39mself\u001b[39;49m\u001b[39m.\u001b[39;49mengine)\n",
      "File \u001b[0;32m~/condensed-sparsity/.venv/lib/python3.10/site-packages/pandas/io/parsers/readers.py:1217\u001b[0m, in \u001b[0;36mTextFileReader._make_engine\u001b[0;34m(self, f, engine)\u001b[0m\n\u001b[1;32m   1213\u001b[0m     mode \u001b[39m=\u001b[39m \u001b[39m\"\u001b[39m\u001b[39mrb\u001b[39m\u001b[39m\"\u001b[39m\n\u001b[1;32m   1214\u001b[0m \u001b[39m# error: No overload variant of \"get_handle\" matches argument types\u001b[39;00m\n\u001b[1;32m   1215\u001b[0m \u001b[39m# \"Union[str, PathLike[str], ReadCsvBuffer[bytes], ReadCsvBuffer[str]]\"\u001b[39;00m\n\u001b[1;32m   1216\u001b[0m \u001b[39m# , \"str\", \"bool\", \"Any\", \"Any\", \"Any\", \"Any\", \"Any\"\u001b[39;00m\n\u001b[0;32m-> 1217\u001b[0m \u001b[39mself\u001b[39m\u001b[39m.\u001b[39mhandles \u001b[39m=\u001b[39m get_handle(  \u001b[39m# type: ignore[call-overload]\u001b[39;49;00m\n\u001b[1;32m   1218\u001b[0m     f,\n\u001b[1;32m   1219\u001b[0m     mode,\n\u001b[1;32m   1220\u001b[0m     encoding\u001b[39m=\u001b[39;49m\u001b[39mself\u001b[39;49m\u001b[39m.\u001b[39;49moptions\u001b[39m.\u001b[39;49mget(\u001b[39m\"\u001b[39;49m\u001b[39mencoding\u001b[39;49m\u001b[39m\"\u001b[39;49m, \u001b[39mNone\u001b[39;49;00m),\n\u001b[1;32m   1221\u001b[0m     compression\u001b[39m=\u001b[39;49m\u001b[39mself\u001b[39;49m\u001b[39m.\u001b[39;49moptions\u001b[39m.\u001b[39;49mget(\u001b[39m\"\u001b[39;49m\u001b[39mcompression\u001b[39;49m\u001b[39m\"\u001b[39;49m, \u001b[39mNone\u001b[39;49;00m),\n\u001b[1;32m   1222\u001b[0m     memory_map\u001b[39m=\u001b[39;49m\u001b[39mself\u001b[39;49m\u001b[39m.\u001b[39;49moptions\u001b[39m.\u001b[39;49mget(\u001b[39m\"\u001b[39;49m\u001b[39mmemory_map\u001b[39;49m\u001b[39m\"\u001b[39;49m, \u001b[39mFalse\u001b[39;49;00m),\n\u001b[1;32m   1223\u001b[0m     is_text\u001b[39m=\u001b[39;49mis_text,\n\u001b[1;32m   1224\u001b[0m     errors\u001b[39m=\u001b[39;49m\u001b[39mself\u001b[39;49m\u001b[39m.\u001b[39;49moptions\u001b[39m.\u001b[39;49mget(\u001b[39m\"\u001b[39;49m\u001b[39mencoding_errors\u001b[39;49m\u001b[39m\"\u001b[39;49m, \u001b[39m\"\u001b[39;49m\u001b[39mstrict\u001b[39;49m\u001b[39m\"\u001b[39;49m),\n\u001b[1;32m   1225\u001b[0m     storage_options\u001b[39m=\u001b[39;49m\u001b[39mself\u001b[39;49m\u001b[39m.\u001b[39;49moptions\u001b[39m.\u001b[39;49mget(\u001b[39m\"\u001b[39;49m\u001b[39mstorage_options\u001b[39;49m\u001b[39m\"\u001b[39;49m, \u001b[39mNone\u001b[39;49;00m),\n\u001b[1;32m   1226\u001b[0m )\n\u001b[1;32m   1227\u001b[0m \u001b[39massert\u001b[39;00m \u001b[39mself\u001b[39m\u001b[39m.\u001b[39mhandles \u001b[39mis\u001b[39;00m \u001b[39mnot\u001b[39;00m \u001b[39mNone\u001b[39;00m\n\u001b[1;32m   1228\u001b[0m f \u001b[39m=\u001b[39m \u001b[39mself\u001b[39m\u001b[39m.\u001b[39mhandles\u001b[39m.\u001b[39mhandle\n",
      "File \u001b[0;32m~/condensed-sparsity/.venv/lib/python3.10/site-packages/pandas/io/common.py:789\u001b[0m, in \u001b[0;36mget_handle\u001b[0;34m(path_or_buf, mode, encoding, compression, memory_map, is_text, errors, storage_options)\u001b[0m\n\u001b[1;32m    784\u001b[0m \u001b[39melif\u001b[39;00m \u001b[39misinstance\u001b[39m(handle, \u001b[39mstr\u001b[39m):\n\u001b[1;32m    785\u001b[0m     \u001b[39m# Check whether the filename is to be opened in binary mode.\u001b[39;00m\n\u001b[1;32m    786\u001b[0m     \u001b[39m# Binary mode does not support 'encoding' and 'newline'.\u001b[39;00m\n\u001b[1;32m    787\u001b[0m     \u001b[39mif\u001b[39;00m ioargs\u001b[39m.\u001b[39mencoding \u001b[39mand\u001b[39;00m \u001b[39m\"\u001b[39m\u001b[39mb\u001b[39m\u001b[39m\"\u001b[39m \u001b[39mnot\u001b[39;00m \u001b[39min\u001b[39;00m ioargs\u001b[39m.\u001b[39mmode:\n\u001b[1;32m    788\u001b[0m         \u001b[39m# Encoding\u001b[39;00m\n\u001b[0;32m--> 789\u001b[0m         handle \u001b[39m=\u001b[39m \u001b[39mopen\u001b[39;49m(\n\u001b[1;32m    790\u001b[0m             handle,\n\u001b[1;32m    791\u001b[0m             ioargs\u001b[39m.\u001b[39;49mmode,\n\u001b[1;32m    792\u001b[0m             encoding\u001b[39m=\u001b[39;49mioargs\u001b[39m.\u001b[39;49mencoding,\n\u001b[1;32m    793\u001b[0m             errors\u001b[39m=\u001b[39;49merrors,\n\u001b[1;32m    794\u001b[0m             newline\u001b[39m=\u001b[39;49m\u001b[39m\"\u001b[39;49m\u001b[39m\"\u001b[39;49m,\n\u001b[1;32m    795\u001b[0m         )\n\u001b[1;32m    796\u001b[0m     \u001b[39melse\u001b[39;00m:\n\u001b[1;32m    797\u001b[0m         \u001b[39m# Binary mode\u001b[39;00m\n\u001b[1;32m    798\u001b[0m         handle \u001b[39m=\u001b[39m \u001b[39mopen\u001b[39m(handle, ioargs\u001b[39m.\u001b[39mmode)\n",
      "\u001b[0;31mFileNotFoundError\u001b[0m: [Errno 2] No such file or directory: '../training_flops_fvcore.csv'"
     ]
    }
   ],
   "source": [
    "pytorch_profiler_flops = pd.read_csv(\"../training_flops_fvcore.csv\", index_col=\"Unnamed: 0\")\n",
    "pytorch_profiler_flops"
   ]
  }
 ],
 "metadata": {
  "kernelspec": {
   "display_name": ".venv",
   "language": "python",
   "name": "python3"
  },
  "language_info": {
   "codemirror_mode": {
    "name": "ipython",
    "version": 3
   },
   "file_extension": ".py",
   "mimetype": "text/x-python",
   "name": "python",
   "nbconvert_exporter": "python",
   "pygments_lexer": "ipython3",
   "version": "3.10.8"
  },
  "orig_nbformat": 4,
  "vscode": {
   "interpreter": {
    "hash": "f8e7aa388760f1ed0054a801e8f4bc0d2f712d90d0781f57f52c8b826e4e7fab"
   }
  }
 },
 "nbformat": 4,
 "nbformat_minor": 2
}
