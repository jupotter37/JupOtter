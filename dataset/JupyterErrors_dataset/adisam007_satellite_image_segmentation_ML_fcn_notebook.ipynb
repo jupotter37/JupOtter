{
  "nbformat": 4,
  "nbformat_minor": 0,
  "metadata": {
    "colab": {
      "name": "ML_fcn_notebook.ipynb",
      "version": "0.3.2",
      "provenance": [],
      "collapsed_sections": []
    },
    "kernelspec": {
      "name": "python3",
      "display_name": "Python 3"
    },
    "accelerator": "GPU"
  },
  "cells": [
    {
      "cell_type": "code",
      "metadata": {
        "id": "lktAwczt0EX_",
        "colab_type": "code",
        "outputId": "591eb268-6162-4bc8-d6e2-f9b8a09b15b8",
        "colab": {
          "base_uri": "https://localhost:8080/",
          "height": 462
        }
      },
      "source": [
        "!sudo apt-get install python-opencv"
      ],
      "execution_count": 0,
      "outputs": [
        {
          "output_type": "stream",
          "text": [
            "Reading package lists... Done\n",
            "Building dependency tree       \n",
            "Reading state information... Done\n",
            "The following package was automatically installed and is no longer required:\n",
            "  libnvidia-common-410\n",
            "Use 'sudo apt autoremove' to remove it.\n",
            "The following NEW packages will be installed:\n",
            "  python-opencv\n",
            "0 upgraded, 1 newly installed, 0 to remove and 4 not upgraded.\n",
            "Need to get 535 kB of archives.\n",
            "After this operation, 2,944 kB of additional disk space will be used.\n",
            "Get:1 http://archive.ubuntu.com/ubuntu bionic-updates/universe amd64 python-opencv amd64 3.2.0+dfsg-4ubuntu0.1 [535 kB]\n",
            "Fetched 535 kB in 1s (486 kB/s)\n",
            "debconf: unable to initialize frontend: Dialog\n",
            "debconf: (No usable dialog-like program is installed, so the dialog based frontend cannot be used. at /usr/share/perl5/Debconf/FrontEnd/Dialog.pm line 76, <> line 1.)\n",
            "debconf: falling back to frontend: Readline\n",
            "debconf: unable to initialize frontend: Readline\n",
            "debconf: (This frontend requires a controlling tty.)\n",
            "debconf: falling back to frontend: Teletype\n",
            "dpkg-preconfigure: unable to re-open stdin: \n",
            "Selecting previously unselected package python-opencv.\n",
            "(Reading database ... 131289 files and directories currently installed.)\n",
            "Preparing to unpack .../python-opencv_3.2.0+dfsg-4ubuntu0.1_amd64.deb ...\n",
            "Unpacking python-opencv (3.2.0+dfsg-4ubuntu0.1) ...\n",
            "Setting up python-opencv (3.2.0+dfsg-4ubuntu0.1) ...\n"
          ],
          "name": "stdout"
        }
      ]
    },
    {
      "cell_type": "code",
      "metadata": {
        "id": "36PtHGm30QxV",
        "colab_type": "code",
        "outputId": "3ee4990e-08e9-425c-c538-5b538373be58",
        "colab": {
          "base_uri": "https://localhost:8080/",
          "height": 153
        }
      },
      "source": [
        "!sudo pip install --upgrade keras"
      ],
      "execution_count": 0,
      "outputs": [
        {
          "output_type": "stream",
          "text": [
            "Requirement already up-to-date: keras in /usr/local/lib/python3.6/dist-packages (2.2.4)\n",
            "Requirement already satisfied, skipping upgrade: h5py in /usr/local/lib/python3.6/dist-packages (from keras) (2.8.0)\n",
            "Requirement already satisfied, skipping upgrade: keras-preprocessing>=1.0.5 in /usr/local/lib/python3.6/dist-packages (from keras) (1.1.0)\n",
            "Requirement already satisfied, skipping upgrade: keras-applications>=1.0.6 in /usr/local/lib/python3.6/dist-packages (from keras) (1.0.8)\n",
            "Requirement already satisfied, skipping upgrade: numpy>=1.9.1 in /usr/local/lib/python3.6/dist-packages (from keras) (1.16.4)\n",
            "Requirement already satisfied, skipping upgrade: scipy>=0.14 in /usr/local/lib/python3.6/dist-packages (from keras) (1.3.0)\n",
            "Requirement already satisfied, skipping upgrade: pyyaml in /usr/local/lib/python3.6/dist-packages (from keras) (3.13)\n",
            "Requirement already satisfied, skipping upgrade: six>=1.9.0 in /usr/local/lib/python3.6/dist-packages (from keras) (1.12.0)\n"
          ],
          "name": "stdout"
        }
      ]
    },
    {
      "cell_type": "code",
      "metadata": {
        "id": "R2WKB38D0k1s",
        "colab_type": "code",
        "outputId": "c77fe503-bcb9-4e92-de02-5e72e832596d",
        "colab": {
          "base_uri": "https://localhost:8080/",
          "height": 136
        }
      },
      "source": [
        "!git clone https://github.com/divamgupta/image-segmentation-keras"
      ],
      "execution_count": 0,
      "outputs": [
        {
          "output_type": "stream",
          "text": [
            "Cloning into 'image-segmentation-keras'...\n",
            "remote: Enumerating objects: 58, done.\u001b[K\n",
            "remote: Counting objects:   1% (1/58)   \u001b[K\rremote: Counting objects:   3% (2/58)   \u001b[K\rremote: Counting objects:   5% (3/58)   \u001b[K\rremote: Counting objects:   6% (4/58)   \u001b[K\rremote: Counting objects:   8% (5/58)   \u001b[K\rremote: Counting objects:  10% (6/58)   \u001b[K\rremote: Counting objects:  12% (7/58)   \u001b[K\rremote: Counting objects:  13% (8/58)   \u001b[K\rremote: Counting objects:  15% (9/58)   \u001b[K\rremote: Counting objects:  17% (10/58)   \u001b[K\rremote: Counting objects:  18% (11/58)   \u001b[K\rremote: Counting objects:  20% (12/58)   \u001b[K\rremote: Counting objects:  22% (13/58)   \u001b[K\rremote: Counting objects:  24% (14/58)   \u001b[K\rremote: Counting objects:  25% (15/58)   \u001b[K\rremote: Counting objects:  27% (16/58)   \u001b[K\rremote: Counting objects:  29% (17/58)   \u001b[K\rremote: Counting objects:  31% (18/58)   \u001b[K\rremote: Counting objects:  32% (19/58)   \u001b[K\rremote: Counting objects:  34% (20/58)   \u001b[K\rremote: Counting objects:  36% (21/58)   \u001b[K\rremote: Counting objects:  37% (22/58)   \u001b[K\rremote: Counting objects:  39% (23/58)   \u001b[K\rremote: Counting objects:  41% (24/58)   \u001b[K\rremote: Counting objects:  43% (25/58)   \u001b[K\rremote: Counting objects:  44% (26/58)   \u001b[K\rremote: Counting objects:  46% (27/58)   \u001b[K\rremote: Counting objects:  48% (28/58)   \u001b[K\rremote: Counting objects:  50% (29/58)   \u001b[K\rremote: Counting objects:  51% (30/58)   \u001b[K\rremote: Counting objects:  53% (31/58)   \u001b[K\rremote: Counting objects:  55% (32/58)   \u001b[K\rremote: Counting objects:  56% (33/58)   \u001b[K\rremote: Counting objects:  58% (34/58)   \u001b[K\rremote: Counting objects:  60% (35/58)   \u001b[K\rremote: Counting objects:  62% (36/58)   \u001b[K\rremote: Counting objects:  63% (37/58)   \u001b[K\rremote: Counting objects:  65% (38/58)   \u001b[K\rremote: Counting objects:  67% (39/58)   \u001b[K\rremote: Counting objects:  68% (40/58)   \u001b[K\rremote: Counting objects:  70% (41/58)   \u001b[K\rremote: Counting objects:  72% (42/58)   \u001b[K\rremote: Counting objects:  74% (43/58)   \u001b[K\rremote: Counting objects:  75% (44/58)   \u001b[K\rremote: Counting objects:  77% (45/58)   \u001b[K\rremote: Counting objects:  79% (46/58)   \u001b[K\rremote: Counting objects:  81% (47/58)   \u001b[K\rremote: Counting objects:  82% (48/58)   \u001b[K\rremote: Counting objects:  84% (49/58)   \u001b[K\rremote: Counting objects:  86% (50/58)   \u001b[K\rremote: Counting objects:  87% (51/58)   \u001b[K\rremote: Counting objects:  89% (52/58)   \u001b[K\rremote: Counting objects:  91% (53/58)   \u001b[K\rremote: Counting objects:  93% (54/58)   \u001b[K\rremote: Counting objects:  94% (55/58)   \u001b[K\rremote: Counting objects:  96% (56/58)   \u001b[K\rremote: Counting objects:  98% (57/58)   \u001b[K\rremote: Counting objects: 100% (58/58)   \u001b[K\rremote: Counting objects: 100% (58/58), done.\u001b[K\n",
            "remote: Compressing objects:   1% (1/51)   \u001b[K\rremote: Compressing objects:   3% (2/51)   \u001b[K\rremote: Compressing objects:   5% (3/51)   \u001b[K\rremote: Compressing objects:   7% (4/51)   \u001b[K\rremote: Compressing objects:   9% (5/51)   \u001b[K\rremote: Compressing objects:  11% (6/51)   \u001b[K\rremote: Compressing objects:  13% (7/51)   \u001b[K\rremote: Compressing objects:  15% (8/51)   \u001b[K\rremote: Compressing objects:  17% (9/51)   \u001b[K\rremote: Compressing objects:  19% (10/51)   \u001b[K\rremote: Compressing objects:  21% (11/51)   \u001b[K\rremote: Compressing objects:  23% (12/51)   \u001b[K\rremote: Compressing objects:  25% (13/51)   \u001b[K\rremote: Compressing objects:  27% (14/51)   \u001b[K\rremote: Compressing objects:  29% (15/51)   \u001b[K\rremote: Compressing objects:  31% (16/51)   \u001b[K\rremote: Compressing objects:  33% (17/51)   \u001b[K\rremote: Compressing objects:  35% (18/51)   \u001b[K\rremote: Compressing objects:  37% (19/51)   \u001b[K\rremote: Compressing objects:  39% (20/51)   \u001b[K\rremote: Compressing objects:  41% (21/51)   \u001b[K\rremote: Compressing objects:  43% (22/51)   \u001b[K\rremote: Compressing objects:  45% (23/51)   \u001b[K\rremote: Compressing objects:  47% (24/51)   \u001b[K\rremote: Compressing objects:  49% (25/51)   \u001b[K\rremote: Compressing objects:  50% (26/51)   \u001b[K\rremote: Compressing objects:  52% (27/51)   \u001b[K\rremote: Compressing objects:  54% (28/51)   \u001b[K\rremote: Compressing objects:  56% (29/51)   \u001b[K\rremote: Compressing objects:  58% (30/51)   \u001b[K\rremote: Compressing objects:  60% (31/51)   \u001b[K\rremote: Compressing objects:  62% (32/51)   \u001b[K\rremote: Compressing objects:  64% (33/51)   \u001b[K\rremote: Compressing objects:  66% (34/51)   \u001b[K\rremote: Compressing objects:  68% (35/51)   \u001b[K\rremote: Compressing objects:  70% (36/51)   \u001b[K\rremote: Compressing objects:  72% (37/51)   \u001b[K\rremote: Compressing objects:  74% (38/51)   \u001b[K\rremote: Compressing objects:  76% (39/51)   \u001b[K\rremote: Compressing objects:  78% (40/51)   \u001b[K\rremote: Compressing objects:  80% (41/51)   \u001b[K\rremote: Compressing objects:  82% (42/51)   \u001b[K\rremote: Compressing objects:  84% (43/51)   \u001b[K\rremote: Compressing objects:  86% (44/51)   \u001b[K\rremote: Compressing objects:  88% (45/51)   \u001b[K\rremote: Compressing objects:  90% (46/51)   \u001b[K\rremote: Compressing objects:  92% (47/51)   \u001b[K\rremote: Compressing objects:  94% (48/51)   \u001b[K\rremote: Compressing objects:  96% (49/51)   \u001b[K\rremote: Compressing objects:  98% (50/51)   \u001b[K\rremote: Compressing objects: 100% (51/51)   \u001b[K\rremote: Compressing objects: 100% (51/51), done.\u001b[K\n",
            "Receiving objects:   0% (1/285)   \rReceiving objects:   1% (3/285)   \rReceiving objects:   2% (6/285)   \rReceiving objects:   3% (9/285)   \rReceiving objects:   4% (12/285)   \rReceiving objects:   5% (15/285)   \rReceiving objects:   6% (18/285)   \rReceiving objects:   7% (20/285)   \rReceiving objects:   8% (23/285)   \rReceiving objects:   9% (26/285)   \rReceiving objects:  10% (29/285)   \rReceiving objects:  11% (32/285)   \rReceiving objects:  12% (35/285)   \rReceiving objects:  13% (38/285)   \rReceiving objects:  14% (40/285)   \rReceiving objects:  15% (43/285)   \rReceiving objects:  16% (46/285)   \rReceiving objects:  17% (49/285)   \rReceiving objects:  18% (52/285)   \rReceiving objects:  19% (55/285)   \rReceiving objects:  20% (57/285)   \rReceiving objects:  21% (60/285)   \rReceiving objects:  22% (63/285)   \rReceiving objects:  23% (66/285)   \rReceiving objects:  24% (69/285)   \rReceiving objects:  25% (72/285)   \rReceiving objects:  26% (75/285)   \rReceiving objects:  27% (77/285)   \rReceiving objects:  28% (80/285)   \rReceiving objects:  29% (83/285)   \rReceiving objects:  30% (86/285)   \rReceiving objects:  31% (89/285)   \rReceiving objects:  32% (92/285)   \rReceiving objects:  33% (95/285)   \rReceiving objects:  34% (97/285)   \rReceiving objects:  35% (100/285)   \rReceiving objects:  36% (103/285)   \rReceiving objects:  37% (106/285)   \rReceiving objects:  38% (109/285)   \rReceiving objects:  39% (112/285)   \rReceiving objects:  40% (114/285)   \rReceiving objects:  41% (117/285)   \rReceiving objects:  42% (120/285)   \rReceiving objects:  43% (123/285)   \rReceiving objects:  44% (126/285)   \rReceiving objects:  45% (129/285)   \rReceiving objects:  46% (132/285)   \rReceiving objects:  47% (134/285)   \rReceiving objects:  48% (137/285)   \rReceiving objects:  49% (140/285)   \rReceiving objects:  50% (143/285)   \rReceiving objects:  51% (146/285)   \rReceiving objects:  52% (149/285)   \rReceiving objects:  53% (152/285)   \rReceiving objects:  54% (154/285)   \rReceiving objects:  55% (157/285)   \rReceiving objects:  56% (160/285)   \rReceiving objects:  57% (163/285)   \rReceiving objects:  58% (166/285)   \rReceiving objects:  59% (169/285)   \rReceiving objects:  60% (171/285)   \rReceiving objects:  61% (174/285)   \rReceiving objects:  62% (177/285)   \rReceiving objects:  63% (180/285)   \rReceiving objects:  64% (183/285)   \rReceiving objects:  65% (186/285)   \rReceiving objects:  66% (189/285)   \rReceiving objects:  67% (191/285)   \rReceiving objects:  68% (194/285)   \rReceiving objects:  69% (197/285)   \rReceiving objects:  70% (200/285)   \rReceiving objects:  71% (203/285)   \rReceiving objects:  72% (206/285)   \rReceiving objects:  73% (209/285)   \rReceiving objects:  74% (211/285)   \rReceiving objects:  75% (214/285)   \rReceiving objects:  76% (217/285)   \rReceiving objects:  77% (220/285)   \rReceiving objects:  78% (223/285)   \rReceiving objects:  79% (226/285)   \rReceiving objects:  80% (228/285)   \rReceiving objects:  81% (231/285)   \rReceiving objects:  82% (234/285)   \rReceiving objects:  83% (237/285)   \rReceiving objects:  84% (240/285)   \rReceiving objects:  85% (243/285)   \rReceiving objects:  86% (246/285)   \rReceiving objects:  87% (248/285)   \rReceiving objects:  88% (251/285)   \rReceiving objects:  89% (254/285)   \rReceiving objects:  90% (257/285)   \rremote: Total 285 (delta 26), reused 25 (delta 7), pack-reused 227\u001b[K\n",
            "Receiving objects:  91% (260/285)   \rReceiving objects:  92% (263/285)   \rReceiving objects:  93% (266/285)   \rReceiving objects:  94% (268/285)   \rReceiving objects:  95% (271/285)   \rReceiving objects:  96% (274/285)   \rReceiving objects:  97% (277/285)   \rReceiving objects:  98% (280/285)   \rReceiving objects:  99% (283/285)   \rReceiving objects: 100% (285/285)   \rReceiving objects: 100% (285/285), 3.06 MiB | 52.27 MiB/s, done.\n",
            "Resolving deltas:   0% (0/132)   \rResolving deltas:   8% (11/132)   \rResolving deltas:   9% (13/132)   \rResolving deltas:  11% (15/132)   \rResolving deltas:  12% (17/132)   \rResolving deltas:  13% (18/132)   \rResolving deltas:  14% (19/132)   \rResolving deltas:  15% (20/132)   \rResolving deltas:  17% (23/132)   \rResolving deltas:  21% (28/132)   \rResolving deltas:  22% (30/132)   \rResolving deltas:  25% (34/132)   \rResolving deltas:  26% (35/132)   \rResolving deltas:  31% (41/132)   \rResolving deltas:  33% (44/132)   \rResolving deltas:  39% (52/132)   \rResolving deltas:  44% (59/132)   \rResolving deltas:  45% (60/132)   \rResolving deltas:  47% (63/132)   \rResolving deltas:  49% (65/132)   \rResolving deltas:  50% (66/132)   \rResolving deltas:  52% (69/132)   \rResolving deltas:  59% (78/132)   \rResolving deltas:  64% (85/132)   \rResolving deltas:  65% (86/132)   \rResolving deltas:  66% (88/132)   \rResolving deltas:  68% (91/132)   \rResolving deltas:  71% (94/132)   \rResolving deltas:  74% (98/132)   \rResolving deltas:  75% (99/132)   \rResolving deltas:  78% (103/132)   \rResolving deltas:  81% (108/132)   \rResolving deltas:  87% (116/132)   \rResolving deltas:  89% (118/132)   \rResolving deltas:  91% (121/132)   \rResolving deltas:  94% (125/132)   \rResolving deltas:  96% (127/132)   \rResolving deltas: 100% (132/132)   \rResolving deltas: 100% (132/132), done.\n"
          ],
          "name": "stdout"
        }
      ]
    },
    {
      "cell_type": "code",
      "metadata": {
        "id": "qtsyY7my1Jat",
        "colab_type": "code",
        "outputId": "07ecb6d6-9345-46eb-c1ab-433699925aaa",
        "colab": {
          "base_uri": "https://localhost:8080/",
          "height": 1000
        }
      },
      "source": [
        "!python setup.py install\n"
      ],
      "execution_count": 0,
      "outputs": [
        {
          "output_type": "stream",
          "text": [
            "running install\n",
            "running bdist_egg\n",
            "running egg_info\n",
            "creating keras_segmentation.egg-info\n",
            "writing keras_segmentation.egg-info/PKG-INFO\n",
            "writing dependency_links to keras_segmentation.egg-info/dependency_links.txt\n",
            "writing top-level names to keras_segmentation.egg-info/top_level.txt\n",
            "writing manifest file 'keras_segmentation.egg-info/SOURCES.txt'\n",
            "writing manifest file 'keras_segmentation.egg-info/SOURCES.txt'\n",
            "installing library code to build/bdist.linux-x86_64/egg\n",
            "running install_lib\n",
            "running build_py\n",
            "creating build\n",
            "creating build/lib\n",
            "creating build/lib/keras_segmentation\n",
            "copying keras_segmentation/train.py -> build/lib/keras_segmentation\n",
            "copying keras_segmentation/pretrained.py -> build/lib/keras_segmentation\n",
            "copying keras_segmentation/predict.py -> build/lib/keras_segmentation\n",
            "copying keras_segmentation/__main__.py -> build/lib/keras_segmentation\n",
            "copying keras_segmentation/metrics.py -> build/lib/keras_segmentation\n",
            "copying keras_segmentation/cli_interface.py -> build/lib/keras_segmentation\n",
            "copying keras_segmentation/__init__.py -> build/lib/keras_segmentation\n",
            "creating build/lib/test\n",
            "copying test/test_models.py -> build/lib/test\n",
            "copying test/__init__.py -> build/lib/test\n",
            "creating build/lib/keras_segmentation/models\n",
            "copying keras_segmentation/models/mobilenet.py -> build/lib/keras_segmentation/models\n",
            "copying keras_segmentation/models/resnet50.py -> build/lib/keras_segmentation/models\n",
            "copying keras_segmentation/models/unet.py -> build/lib/keras_segmentation/models\n",
            "copying keras_segmentation/models/_pspnet_2.py -> build/lib/keras_segmentation/models\n",
            "copying keras_segmentation/models/config.py -> build/lib/keras_segmentation/models\n",
            "copying keras_segmentation/models/vgg16.py -> build/lib/keras_segmentation/models\n",
            "copying keras_segmentation/models/fcn.py -> build/lib/keras_segmentation/models\n",
            "copying keras_segmentation/models/basic_models.py -> build/lib/keras_segmentation/models\n",
            "copying keras_segmentation/models/model_utils.py -> build/lib/keras_segmentation/models\n",
            "copying keras_segmentation/models/__init__.py -> build/lib/keras_segmentation/models\n",
            "copying keras_segmentation/models/pspnet.py -> build/lib/keras_segmentation/models\n",
            "copying keras_segmentation/models/segnet.py -> build/lib/keras_segmentation/models\n",
            "creating build/lib/keras_segmentation/data_utils\n",
            "copying keras_segmentation/data_utils/visualize_dataset.py -> build/lib/keras_segmentation/data_utils\n",
            "copying keras_segmentation/data_utils/augmentation.py -> build/lib/keras_segmentation/data_utils\n",
            "copying keras_segmentation/data_utils/__init__.py -> build/lib/keras_segmentation/data_utils\n",
            "copying keras_segmentation/data_utils/data_loader.py -> build/lib/keras_segmentation/data_utils\n",
            "creating build/bdist.linux-x86_64\n",
            "creating build/bdist.linux-x86_64/egg\n",
            "creating build/bdist.linux-x86_64/egg/keras_segmentation\n",
            "copying build/lib/keras_segmentation/train.py -> build/bdist.linux-x86_64/egg/keras_segmentation\n",
            "creating build/bdist.linux-x86_64/egg/keras_segmentation/models\n",
            "copying build/lib/keras_segmentation/models/mobilenet.py -> build/bdist.linux-x86_64/egg/keras_segmentation/models\n",
            "copying build/lib/keras_segmentation/models/resnet50.py -> build/bdist.linux-x86_64/egg/keras_segmentation/models\n",
            "copying build/lib/keras_segmentation/models/unet.py -> build/bdist.linux-x86_64/egg/keras_segmentation/models\n",
            "copying build/lib/keras_segmentation/models/_pspnet_2.py -> build/bdist.linux-x86_64/egg/keras_segmentation/models\n",
            "copying build/lib/keras_segmentation/models/config.py -> build/bdist.linux-x86_64/egg/keras_segmentation/models\n",
            "copying build/lib/keras_segmentation/models/vgg16.py -> build/bdist.linux-x86_64/egg/keras_segmentation/models\n",
            "copying build/lib/keras_segmentation/models/fcn.py -> build/bdist.linux-x86_64/egg/keras_segmentation/models\n",
            "copying build/lib/keras_segmentation/models/basic_models.py -> build/bdist.linux-x86_64/egg/keras_segmentation/models\n",
            "copying build/lib/keras_segmentation/models/model_utils.py -> build/bdist.linux-x86_64/egg/keras_segmentation/models\n",
            "copying build/lib/keras_segmentation/models/__init__.py -> build/bdist.linux-x86_64/egg/keras_segmentation/models\n",
            "copying build/lib/keras_segmentation/models/pspnet.py -> build/bdist.linux-x86_64/egg/keras_segmentation/models\n",
            "copying build/lib/keras_segmentation/models/segnet.py -> build/bdist.linux-x86_64/egg/keras_segmentation/models\n",
            "copying build/lib/keras_segmentation/pretrained.py -> build/bdist.linux-x86_64/egg/keras_segmentation\n",
            "copying build/lib/keras_segmentation/predict.py -> build/bdist.linux-x86_64/egg/keras_segmentation\n",
            "copying build/lib/keras_segmentation/__main__.py -> build/bdist.linux-x86_64/egg/keras_segmentation\n",
            "copying build/lib/keras_segmentation/metrics.py -> build/bdist.linux-x86_64/egg/keras_segmentation\n",
            "copying build/lib/keras_segmentation/cli_interface.py -> build/bdist.linux-x86_64/egg/keras_segmentation\n",
            "copying build/lib/keras_segmentation/__init__.py -> build/bdist.linux-x86_64/egg/keras_segmentation\n",
            "creating build/bdist.linux-x86_64/egg/keras_segmentation/data_utils\n",
            "copying build/lib/keras_segmentation/data_utils/visualize_dataset.py -> build/bdist.linux-x86_64/egg/keras_segmentation/data_utils\n",
            "copying build/lib/keras_segmentation/data_utils/augmentation.py -> build/bdist.linux-x86_64/egg/keras_segmentation/data_utils\n",
            "copying build/lib/keras_segmentation/data_utils/__init__.py -> build/bdist.linux-x86_64/egg/keras_segmentation/data_utils\n",
            "copying build/lib/keras_segmentation/data_utils/data_loader.py -> build/bdist.linux-x86_64/egg/keras_segmentation/data_utils\n",
            "creating build/bdist.linux-x86_64/egg/test\n",
            "copying build/lib/test/test_models.py -> build/bdist.linux-x86_64/egg/test\n",
            "copying build/lib/test/__init__.py -> build/bdist.linux-x86_64/egg/test\n",
            "byte-compiling build/bdist.linux-x86_64/egg/keras_segmentation/train.py to train.cpython-36.pyc\n",
            "byte-compiling build/bdist.linux-x86_64/egg/keras_segmentation/models/mobilenet.py to mobilenet.cpython-36.pyc\n",
            "byte-compiling build/bdist.linux-x86_64/egg/keras_segmentation/models/resnet50.py to resnet50.cpython-36.pyc\n",
            "byte-compiling build/bdist.linux-x86_64/egg/keras_segmentation/models/unet.py to unet.cpython-36.pyc\n",
            "byte-compiling build/bdist.linux-x86_64/egg/keras_segmentation/models/_pspnet_2.py to _pspnet_2.cpython-36.pyc\n",
            "byte-compiling build/bdist.linux-x86_64/egg/keras_segmentation/models/config.py to config.cpython-36.pyc\n",
            "byte-compiling build/bdist.linux-x86_64/egg/keras_segmentation/models/vgg16.py to vgg16.cpython-36.pyc\n",
            "byte-compiling build/bdist.linux-x86_64/egg/keras_segmentation/models/fcn.py to fcn.cpython-36.pyc\n",
            "byte-compiling build/bdist.linux-x86_64/egg/keras_segmentation/models/basic_models.py to basic_models.cpython-36.pyc\n",
            "byte-compiling build/bdist.linux-x86_64/egg/keras_segmentation/models/model_utils.py to model_utils.cpython-36.pyc\n",
            "byte-compiling build/bdist.linux-x86_64/egg/keras_segmentation/models/__init__.py to __init__.cpython-36.pyc\n",
            "byte-compiling build/bdist.linux-x86_64/egg/keras_segmentation/models/pspnet.py to pspnet.cpython-36.pyc\n",
            "byte-compiling build/bdist.linux-x86_64/egg/keras_segmentation/models/segnet.py to segnet.cpython-36.pyc\n",
            "byte-compiling build/bdist.linux-x86_64/egg/keras_segmentation/pretrained.py to pretrained.cpython-36.pyc\n",
            "byte-compiling build/bdist.linux-x86_64/egg/keras_segmentation/predict.py to predict.cpython-36.pyc\n",
            "byte-compiling build/bdist.linux-x86_64/egg/keras_segmentation/__main__.py to __main__.cpython-36.pyc\n",
            "byte-compiling build/bdist.linux-x86_64/egg/keras_segmentation/metrics.py to metrics.cpython-36.pyc\n",
            "byte-compiling build/bdist.linux-x86_64/egg/keras_segmentation/cli_interface.py to cli_interface.cpython-36.pyc\n",
            "byte-compiling build/bdist.linux-x86_64/egg/keras_segmentation/__init__.py to __init__.cpython-36.pyc\n",
            "byte-compiling build/bdist.linux-x86_64/egg/keras_segmentation/data_utils/visualize_dataset.py to visualize_dataset.cpython-36.pyc\n",
            "byte-compiling build/bdist.linux-x86_64/egg/keras_segmentation/data_utils/augmentation.py to augmentation.cpython-36.pyc\n",
            "byte-compiling build/bdist.linux-x86_64/egg/keras_segmentation/data_utils/__init__.py to __init__.cpython-36.pyc\n",
            "byte-compiling build/bdist.linux-x86_64/egg/keras_segmentation/data_utils/data_loader.py to data_loader.cpython-36.pyc\n",
            "byte-compiling build/bdist.linux-x86_64/egg/test/test_models.py to test_models.cpython-36.pyc\n",
            "byte-compiling build/bdist.linux-x86_64/egg/test/__init__.py to __init__.cpython-36.pyc\n",
            "creating build/bdist.linux-x86_64/egg/EGG-INFO\n",
            "copying keras_segmentation.egg-info/PKG-INFO -> build/bdist.linux-x86_64/egg/EGG-INFO\n",
            "copying keras_segmentation.egg-info/SOURCES.txt -> build/bdist.linux-x86_64/egg/EGG-INFO\n",
            "copying keras_segmentation.egg-info/dependency_links.txt -> build/bdist.linux-x86_64/egg/EGG-INFO\n",
            "copying keras_segmentation.egg-info/top_level.txt -> build/bdist.linux-x86_64/egg/EGG-INFO\n",
            "zip_safe flag not set; analyzing archive contents...\n",
            "creating dist\n",
            "creating 'dist/keras_segmentation-0.2.0-py3.6.egg' and adding 'build/bdist.linux-x86_64/egg' to it\n",
            "removing 'build/bdist.linux-x86_64/egg' (and everything under it)\n",
            "Processing keras_segmentation-0.2.0-py3.6.egg\n",
            "Copying keras_segmentation-0.2.0-py3.6.egg to /usr/local/lib/python3.6/dist-packages\n",
            "Adding keras-segmentation 0.2.0 to easy-install.pth file\n",
            "\n",
            "Installed /usr/local/lib/python3.6/dist-packages/keras_segmentation-0.2.0-py3.6.egg\n",
            "Processing dependencies for keras-segmentation==0.2.0\n",
            "Finished processing dependencies for keras-segmentation==0.2.0\n"
          ],
          "name": "stdout"
        }
      ]
    },
    {
      "cell_type": "code",
      "metadata": {
        "id": "B3KyWDgo1TzU",
        "colab_type": "code",
        "outputId": "14ac26c6-ab1d-4197-b187-2ae7b919c468",
        "colab": {
          "base_uri": "https://localhost:8080/",
          "height": 136
        }
      },
      "source": [
        "!git clone https://github.com/akshathkaranam/Dataset.git"
      ],
      "execution_count": 0,
      "outputs": [
        {
          "output_type": "stream",
          "text": [
            "Cloning into 'Dataset'...\n",
            "remote: Enumerating objects: 353, done.\u001b[K\n",
            "remote: Counting objects:   0% (1/353)   \u001b[K\rremote: Counting objects:   1% (4/353)   \u001b[K\rremote: Counting objects:   2% (8/353)   \u001b[K\rremote: Counting objects:   3% (11/353)   \u001b[K\rremote: Counting objects:   4% (15/353)   \u001b[K\rremote: Counting objects:   5% (18/353)   \u001b[K\rremote: Counting objects:   6% (22/353)   \u001b[K\rremote: Counting objects:   7% (25/353)   \u001b[K\rremote: Counting objects:   8% (29/353)   \u001b[K\rremote: Counting objects:   9% (32/353)   \u001b[K\rremote: Counting objects:  10% (36/353)   \u001b[K\rremote: Counting objects:  11% (39/353)   \u001b[K\rremote: Counting objects:  12% (43/353)   \u001b[K\rremote: Counting objects:  13% (46/353)   \u001b[K\rremote: Counting objects:  14% (50/353)   \u001b[K\rremote: Counting objects:  15% (53/353)   \u001b[K\rremote: Counting objects:  16% (57/353)   \u001b[K\rremote: Counting objects:  17% (61/353)   \u001b[K\rremote: Counting objects:  18% (64/353)   \u001b[K\rremote: Counting objects:  19% (68/353)   \u001b[K\rremote: Counting objects:  20% (71/353)   \u001b[K\rremote: Counting objects:  21% (75/353)   \u001b[K\rremote: Counting objects:  22% (78/353)   \u001b[K\rremote: Counting objects:  23% (82/353)   \u001b[K\rremote: Counting objects:  24% (85/353)   \u001b[K\rremote: Counting objects:  25% (89/353)   \u001b[K\rremote: Counting objects:  26% (92/353)   \u001b[K\rremote: Counting objects:  27% (96/353)   \u001b[K\rremote: Counting objects:  28% (99/353)   \u001b[K\rremote: Counting objects:  29% (103/353)   \u001b[K\rremote: Counting objects:  30% (106/353)   \u001b[K\rremote: Counting objects:  31% (110/353)   \u001b[K\rremote: Counting objects:  32% (113/353)   \u001b[K\rremote: Counting objects:  33% (117/353)   \u001b[K\rremote: Counting objects:  34% (121/353)   \u001b[K\rremote: Counting objects:  35% (124/353)   \u001b[K\rremote: Counting objects:  36% (128/353)   \u001b[K\rremote: Counting objects:  37% (131/353)   \u001b[K\rremote: Counting objects:  38% (135/353)   \u001b[K\rremote: Counting objects:  39% (138/353)   \u001b[K\rremote: Counting objects:  40% (142/353)   \u001b[K\rremote: Counting objects:  41% (145/353)   \u001b[K\rremote: Counting objects:  42% (149/353)   \u001b[K\rremote: Counting objects:  43% (152/353)   \u001b[K\rremote: Counting objects:  44% (156/353)   \u001b[K\rremote: Counting objects:  45% (159/353)   \u001b[K\rremote: Counting objects:  46% (163/353)   \u001b[K\rremote: Counting objects:  47% (166/353)   \u001b[K\rremote: Counting objects:  48% (170/353)   \u001b[K\rremote: Counting objects:  49% (173/353)   \u001b[K\rremote: Counting objects:  50% (177/353)   \u001b[K\rremote: Counting objects:  51% (181/353)   \u001b[K\rremote: Counting objects:  52% (184/353)   \u001b[K\rremote: Counting objects:  53% (188/353)   \u001b[K\rremote: Counting objects:  54% (191/353)   \u001b[K\rremote: Counting objects:  55% (195/353)   \u001b[K\rremote: Counting objects:  56% (198/353)   \u001b[K\rremote: Counting objects:  57% (202/353)   \u001b[K\rremote: Counting objects:  58% (205/353)   \u001b[K\rremote: Counting objects:  59% (209/353)   \u001b[K\rremote: Counting objects:  60% (212/353)   \u001b[K\rremote: Counting objects:  61% (216/353)   \u001b[K\rremote: Counting objects:  62% (219/353)   \u001b[K\rremote: Counting objects:  63% (223/353)   \u001b[K\rremote: Counting objects:  64% (226/353)   \u001b[K\rremote: Counting objects:  65% (230/353)   \u001b[K\rremote: Counting objects:  66% (233/353)   \u001b[K\rremote: Counting objects:  67% (237/353)   \u001b[K\rremote: Counting objects:  68% (241/353)   \u001b[K\rremote: Counting objects:  69% (244/353)   \u001b[K\rremote: Counting objects:  70% (248/353)   \u001b[K\rremote: Counting objects:  71% (251/353)   \u001b[K\rremote: Counting objects:  72% (255/353)   \u001b[K\rremote: Counting objects:  73% (258/353)   \u001b[K\rremote: Counting objects:  74% (262/353)   \u001b[K\rremote: Counting objects:  75% (265/353)   \u001b[K\rremote: Counting objects:  76% (269/353)   \u001b[K\rremote: Counting objects:  77% (272/353)   \u001b[K\rremote: Counting objects:  78% (276/353)   \u001b[K\rremote: Counting objects:  79% (279/353)   \u001b[K\rremote: Counting objects:  80% (283/353)   \u001b[K\rremote: Counting objects:  81% (286/353)   \u001b[K\rremote: Counting objects:  82% (290/353)   \u001b[K\rremote: Counting objects:  83% (293/353)   \u001b[K\rremote: Counting objects:  84% (297/353)   \u001b[K\rremote: Counting objects:  85% (301/353)   \u001b[K\rremote: Counting objects:  86% (304/353)   \u001b[K\rremote: Counting objects:  87% (308/353)   \u001b[K\rremote: Counting objects:  88% (311/353)   \u001b[K\rremote: Counting objects:  89% (315/353)   \u001b[K\rremote: Counting objects:  90% (318/353)   \u001b[K\rremote: Counting objects:  91% (322/353)   \u001b[K\rremote: Counting objects:  92% (325/353)   \u001b[K\rremote: Counting objects:  93% (329/353)   \u001b[K\rremote: Counting objects:  94% (332/353)   \u001b[K\rremote: Counting objects:  95% (336/353)   \u001b[K\rremote: Counting objects:  96% (339/353)   \u001b[K\rremote: Counting objects:  97% (343/353)   \u001b[K\rremote: Counting objects:  98% (346/353)   \u001b[K\rremote: Counting objects:  99% (350/353)   \u001b[K\rremote: Counting objects: 100% (353/353)   \u001b[K\rremote: Counting objects: 100% (353/353), done.\u001b[K\n",
            "remote: Compressing objects: 100% (321/321), done.\u001b[K\n",
            "remote: Total 353 (delta 32), reused 353 (delta 32), pack-reused 0\u001b[K\n",
            "Receiving objects: 100% (353/353), 4.11 MiB | 8.82 MiB/s, done.\n",
            "Resolving deltas: 100% (32/32), done.\n"
          ],
          "name": "stdout"
        }
      ]
    },
    {
      "cell_type": "code",
      "metadata": {
        "id": "_daZPyzm4b_m",
        "colab_type": "code",
        "outputId": "a088adde-9b4c-4818-f5da-4f55dab61fcd",
        "colab": {
          "base_uri": "https://localhost:8080/",
          "height": 34
        }
      },
      "source": [
        ""
      ],
      "execution_count": 0,
      "outputs": [
        {
          "output_type": "execute_result",
          "data": {
            "text/plain": [
              "'/content/image-segmentation-keras/Dataset'"
            ]
          },
          "metadata": {
            "tags": []
          },
          "execution_count": 13
        }
      ]
    },
    {
      "cell_type": "code",
      "metadata": {
        "id": "DQ0Q1VH1VnFq",
        "colab_type": "code",
        "outputId": "456db472-dc64-4fa1-d81a-d96add4e6cd0",
        "colab": {
          "base_uri": "https://localhost:8080/",
          "height": 34
        }
      },
      "source": [
        "cd .."
      ],
      "execution_count": 0,
      "outputs": [
        {
          "output_type": "stream",
          "text": [
            "/content/image-segmentation-keras\n"
          ],
          "name": "stdout"
        }
      ]
    },
    {
      "cell_type": "code",
      "metadata": {
        "id": "zj6vn0fYVpJj",
        "colab_type": "code",
        "outputId": "728486b0-4bc3-458b-d20d-54acbc15430a",
        "colab": {
          "base_uri": "https://localhost:8080/",
          "height": 34
        }
      },
      "source": [
        "import keras_segmentation"
      ],
      "execution_count": 0,
      "outputs": [
        {
          "output_type": "stream",
          "text": [
            "Using TensorFlow backend.\n"
          ],
          "name": "stderr"
        }
      ]
    },
    {
      "cell_type": "code",
      "metadata": {
        "id": "z_j8AvHyVtyx",
        "colab_type": "code",
        "outputId": "ad63dc71-6626-4980-9d71-1064dfacd051",
        "colab": {
          "base_uri": "https://localhost:8080/",
          "height": 68
        }
      },
      "source": [
        "ls"
      ],
      "execution_count": 0,
      "outputs": [
        {
          "output_type": "stream",
          "text": [
            "\u001b[0m\u001b[01;34mbuild\u001b[0m/    \u001b[01;34mkeras_segmentation\u001b[0m/           README.md         \u001b[01;34mscripts\u001b[0m/   \u001b[01;34mtest\u001b[0m/\n",
            "\u001b[01;34mDataset\u001b[0m/  \u001b[01;34mkeras_segmentation.egg-info\u001b[0m/  requirements.txt  setup.cfg\n",
            "\u001b[01;34mdist\u001b[0m/     LICENSE.txt                   \u001b[01;34msample_images\u001b[0m/    setup.py\n"
          ],
          "name": "stdout"
        }
      ]
    },
    {
      "cell_type": "code",
      "metadata": {
        "id": "AxLXd27HWfIH",
        "colab_type": "code",
        "outputId": "7abfd528-4552-49e9-c4e3-b6aa2ba08784",
        "colab": {
          "base_uri": "https://localhost:8080/",
          "height": 395
        }
      },
      "source": [
        "model = keras_segmentation.models.fcn.fcn_32(n_classes=2 , input_height=256, input_width=256 )\n",
        "model.train( \n",
        "    train_images =  \"/content/image-segmentation-keras/Dataset/tiles_akshath_png/\",\n",
        "    train_annotations = \"/content/image-segmentation-keras/Dataset/labels_akshath_png/\",\n",
        "    checkpoints_path = \"/tmp/fcn_32\" , epochs=5\n",
        ")"
      ],
      "execution_count": 0,
      "outputs": [
        {
          "output_type": "stream",
          "text": [
            "Verifying train dataset\n"
          ],
          "name": "stdout"
        },
        {
          "output_type": "error",
          "ename": "AssertionError",
          "evalue": "ignored",
          "traceback": [
            "\u001b[0;31m---------------------------------------------------------------------------\u001b[0m",
            "\u001b[0;31mAssertionError\u001b[0m                            Traceback (most recent call last)",
            "\u001b[0;32m<ipython-input-30-44255defef38>\u001b[0m in \u001b[0;36m<module>\u001b[0;34m()\u001b[0m\n\u001b[1;32m      3\u001b[0m     \u001b[0mtrain_images\u001b[0m \u001b[0;34m=\u001b[0m  \u001b[0;34m\"/content/image-segmentation-keras/Dataset/tiles_akshath_png/\"\u001b[0m\u001b[0;34m,\u001b[0m\u001b[0;34m\u001b[0m\u001b[0;34m\u001b[0m\u001b[0m\n\u001b[1;32m      4\u001b[0m     \u001b[0mtrain_annotations\u001b[0m \u001b[0;34m=\u001b[0m \u001b[0;34m\"/content/image-segmentation-keras/Dataset/labels_akshath_png/\"\u001b[0m\u001b[0;34m,\u001b[0m\u001b[0;34m\u001b[0m\u001b[0;34m\u001b[0m\u001b[0m\n\u001b[0;32m----> 5\u001b[0;31m     \u001b[0mcheckpoints_path\u001b[0m \u001b[0;34m=\u001b[0m \u001b[0;34m\"/tmp/fcn_32\"\u001b[0m \u001b[0;34m,\u001b[0m \u001b[0mepochs\u001b[0m\u001b[0;34m=\u001b[0m\u001b[0;36m5\u001b[0m\u001b[0;34m\u001b[0m\u001b[0;34m\u001b[0m\u001b[0m\n\u001b[0m\u001b[1;32m      6\u001b[0m )\n",
            "\u001b[0;32m/content/image-segmentation-keras/keras_segmentation/train.py\u001b[0m in \u001b[0;36mtrain\u001b[0;34m(model, train_images, train_annotations, input_height, input_width, n_classes, verify_dataset, checkpoints_path, epochs, batch_size, validate, val_images, val_annotations, val_batch_size, auto_resume_checkpoint, load_weights, steps_per_epoch, optimizer_name)\u001b[0m\n\u001b[1;32m     88\u001b[0m         \u001b[0;32mif\u001b[0m \u001b[0mverify_dataset\u001b[0m\u001b[0;34m:\u001b[0m\u001b[0;34m\u001b[0m\u001b[0;34m\u001b[0m\u001b[0m\n\u001b[1;32m     89\u001b[0m                 \u001b[0mprint\u001b[0m\u001b[0;34m(\u001b[0m\u001b[0;34m\"Verifying train dataset\"\u001b[0m\u001b[0;34m)\u001b[0m\u001b[0;34m\u001b[0m\u001b[0;34m\u001b[0m\u001b[0m\n\u001b[0;32m---> 90\u001b[0;31m                 \u001b[0mverify_segmentation_dataset\u001b[0m\u001b[0;34m(\u001b[0m \u001b[0mtrain_images\u001b[0m \u001b[0;34m,\u001b[0m \u001b[0mtrain_annotations\u001b[0m \u001b[0;34m,\u001b[0m \u001b[0mn_classes\u001b[0m \u001b[0;34m)\u001b[0m\u001b[0;34m\u001b[0m\u001b[0;34m\u001b[0m\u001b[0m\n\u001b[0m\u001b[1;32m     91\u001b[0m                 \u001b[0;32mif\u001b[0m \u001b[0mvalidate\u001b[0m\u001b[0;34m:\u001b[0m\u001b[0;34m\u001b[0m\u001b[0;34m\u001b[0m\u001b[0m\n\u001b[1;32m     92\u001b[0m                         \u001b[0mprint\u001b[0m\u001b[0;34m(\u001b[0m\u001b[0;34m\"Verifying val dataset\"\u001b[0m\u001b[0;34m)\u001b[0m\u001b[0;34m\u001b[0m\u001b[0;34m\u001b[0m\u001b[0m\n",
            "\u001b[0;32m/content/image-segmentation-keras/keras_segmentation/data_utils/data_loader.py\u001b[0m in \u001b[0;36mverify_segmentation_dataset\u001b[0;34m(images_path, segs_path, n_classes)\u001b[0m\n\u001b[1;32m     95\u001b[0m \u001b[0;32mdef\u001b[0m \u001b[0mverify_segmentation_dataset\u001b[0m\u001b[0;34m(\u001b[0m \u001b[0mimages_path\u001b[0m \u001b[0;34m,\u001b[0m \u001b[0msegs_path\u001b[0m \u001b[0;34m,\u001b[0m \u001b[0mn_classes\u001b[0m \u001b[0;34m)\u001b[0m\u001b[0;34m:\u001b[0m\u001b[0;34m\u001b[0m\u001b[0;34m\u001b[0m\u001b[0m\n\u001b[1;32m     96\u001b[0m \u001b[0;34m\u001b[0m\u001b[0m\n\u001b[0;32m---> 97\u001b[0;31m         \u001b[0mimg_seg_pairs\u001b[0m \u001b[0;34m=\u001b[0m \u001b[0mget_pairs_from_paths\u001b[0m\u001b[0;34m(\u001b[0m \u001b[0mimages_path\u001b[0m \u001b[0;34m,\u001b[0m \u001b[0msegs_path\u001b[0m \u001b[0;34m)\u001b[0m\u001b[0;34m\u001b[0m\u001b[0;34m\u001b[0m\u001b[0m\n\u001b[0m\u001b[1;32m     98\u001b[0m \u001b[0;34m\u001b[0m\u001b[0m\n\u001b[1;32m     99\u001b[0m         \u001b[0;32massert\u001b[0m \u001b[0mlen\u001b[0m\u001b[0;34m(\u001b[0m\u001b[0mimg_seg_pairs\u001b[0m\u001b[0;34m)\u001b[0m\u001b[0;34m>\u001b[0m\u001b[0;36m0\u001b[0m \u001b[0;34m,\u001b[0m \u001b[0;34m\"Dataset looks empty or path is wrong \"\u001b[0m\u001b[0;34m\u001b[0m\u001b[0;34m\u001b[0m\u001b[0m\n",
            "\u001b[0;32m/content/image-segmentation-keras/keras_segmentation/data_utils/data_loader.py\u001b[0m in \u001b[0;36mget_pairs_from_paths\u001b[0;34m(images_path, segs_path)\u001b[0m\n\u001b[1;32m     28\u001b[0m                 \u001b[0mseg_bnme\u001b[0m \u001b[0;34m=\u001b[0m \u001b[0mos\u001b[0m\u001b[0;34m.\u001b[0m\u001b[0mpath\u001b[0m\u001b[0;34m.\u001b[0m\u001b[0mbasename\u001b[0m\u001b[0;34m(\u001b[0m\u001b[0mim\u001b[0m\u001b[0;34m)\u001b[0m\u001b[0;34m.\u001b[0m\u001b[0mreplace\u001b[0m\u001b[0;34m(\u001b[0m\u001b[0;34m\".jpg\"\u001b[0m \u001b[0;34m,\u001b[0m \u001b[0;34m\".png\"\u001b[0m\u001b[0;34m)\u001b[0m\u001b[0;34m.\u001b[0m\u001b[0mreplace\u001b[0m\u001b[0;34m(\u001b[0m\u001b[0;34m\".jpeg\"\u001b[0m \u001b[0;34m,\u001b[0m \u001b[0;34m\".png\"\u001b[0m\u001b[0;34m)\u001b[0m\u001b[0;34m\u001b[0m\u001b[0;34m\u001b[0m\u001b[0m\n\u001b[1;32m     29\u001b[0m                 \u001b[0mseg\u001b[0m \u001b[0;34m=\u001b[0m \u001b[0mos\u001b[0m\u001b[0;34m.\u001b[0m\u001b[0mpath\u001b[0m\u001b[0;34m.\u001b[0m\u001b[0mjoin\u001b[0m\u001b[0;34m(\u001b[0m \u001b[0msegs_path\u001b[0m \u001b[0;34m,\u001b[0m \u001b[0mseg_bnme\u001b[0m  \u001b[0;34m)\u001b[0m\u001b[0;34m\u001b[0m\u001b[0;34m\u001b[0m\u001b[0m\n\u001b[0;32m---> 30\u001b[0;31m                 \u001b[0;32massert\u001b[0m \u001b[0;34m(\u001b[0m \u001b[0mseg\u001b[0m \u001b[0;32min\u001b[0m \u001b[0msegmentations_d\u001b[0m \u001b[0;34m)\u001b[0m\u001b[0;34m,\u001b[0m  \u001b[0;34m(\u001b[0m\u001b[0mim\u001b[0m \u001b[0;34m+\u001b[0m \u001b[0;34m\" is present in \"\u001b[0m\u001b[0;34m+\u001b[0m\u001b[0mimages_path\u001b[0m \u001b[0;34m+\u001b[0m\u001b[0;34m\" but \"\u001b[0m\u001b[0;34m+\u001b[0m\u001b[0mseg_bnme\u001b[0m\u001b[0;34m+\u001b[0m\u001b[0;34m\" is not found in \"\u001b[0m\u001b[0;34m+\u001b[0m\u001b[0msegs_path\u001b[0m \u001b[0;34m+\u001b[0m \u001b[0;34m\" . Make sure annotation image are in .png\"\u001b[0m  \u001b[0;34m)\u001b[0m\u001b[0;34m\u001b[0m\u001b[0;34m\u001b[0m\u001b[0m\n\u001b[0m\u001b[1;32m     31\u001b[0m                 \u001b[0mret\u001b[0m\u001b[0;34m.\u001b[0m\u001b[0mappend\u001b[0m\u001b[0;34m(\u001b[0m\u001b[0;34m(\u001b[0m\u001b[0mim\u001b[0m \u001b[0;34m,\u001b[0m \u001b[0mseg\u001b[0m\u001b[0;34m)\u001b[0m \u001b[0;34m)\u001b[0m\u001b[0;34m\u001b[0m\u001b[0;34m\u001b[0m\u001b[0m\n\u001b[1;32m     32\u001b[0m \u001b[0;34m\u001b[0m\u001b[0m\n",
            "\u001b[0;31mAssertionError\u001b[0m: /content/image-segmentation-keras/Dataset/tiles_akshath_png/93842-60756-17.png is present in /content/image-segmentation-keras/Dataset/tiles_akshath_png/ but 93842-60756-17.png is not found in /content/image-segmentation-keras/Dataset/labels_akshath_png/ . Make sure annotation image are in .png"
          ]
        }
      ]
    },
    {
      "cell_type": "code",
      "metadata": {
        "id": "1e36xE4-dNVZ",
        "colab_type": "code",
        "outputId": "a96dac05-656b-4d5e-a203-b184aacfecb2",
        "colab": {
          "base_uri": "https://localhost:8080/",
          "height": 289
        }
      },
      "source": [
        "!git pull"
      ],
      "execution_count": 0,
      "outputs": [
        {
          "output_type": "stream",
          "text": [
            "remote: Enumerating objects: 6, done.\u001b[K\n",
            "remote: Counting objects:  16% (1/6)   \u001b[K\rremote: Counting objects:  33% (2/6)   \u001b[K\rremote: Counting objects:  50% (3/6)   \u001b[K\rremote: Counting objects:  66% (4/6)   \u001b[K\rremote: Counting objects:  83% (5/6)   \u001b[K\rremote: Counting objects: 100% (6/6)   \u001b[K\rremote: Counting objects: 100% (6/6), done.\u001b[K\n",
            "remote: Compressing objects:  33% (1/3)   \u001b[K\rremote: Compressing objects:  66% (2/3)   \u001b[K\rremote: Compressing objects: 100% (3/3)   \u001b[K\rremote: Compressing objects: 100% (3/3), done.\u001b[K\n",
            "remote: Total 4 (delta 1), reused 4 (delta 1), pack-reused 0\u001b[K\n",
            "Unpacking objects:  25% (1/4)   \rUnpacking objects:  50% (2/4)   \rUnpacking objects:  75% (3/4)   \rUnpacking objects: 100% (4/4)   \rUnpacking objects: 100% (4/4), done.\n",
            "From https://github.com/akshathkaranam/Dataset\n",
            "   f5ab84b..97da20a  master     -> origin/master\n",
            "Updating f5ab84b..97da20a\n",
            "Fast-forward\n",
            " .DS_Store                                               | Bin \u001b[31m8196\u001b[m -> \u001b[32m0\u001b[m bytes\n",
            " labels_akshath_png/.DS_Store                            | Bin \u001b[31m0\u001b[m -> \u001b[32m18436\u001b[m bytes\n",
            " .../{93839-60759-17.png => 93842-60759-17.png}          | Bin\n",
            " 3 files changed, 0 insertions(+), 0 deletions(-)\n",
            " delete mode 100644 .DS_Store\n",
            " create mode 100644 labels_akshath_png/.DS_Store\n",
            " rename labels_akshath_png/{93839-60759-17.png => 93842-60759-17.png} (100%)\n"
          ],
          "name": "stdout"
        }
      ]
    },
    {
      "cell_type": "code",
      "metadata": {
        "id": "HIzOhPx7fwk8",
        "colab_type": "code",
        "colab": {}
      },
      "source": [
        "mv labels_akshath_png/93833-60756-18.png labels_akshath_png/93833-60756-17.png\n"
      ],
      "execution_count": 0,
      "outputs": []
    },
    {
      "cell_type": "code",
      "metadata": {
        "id": "S6NpKRlCf2o0",
        "colab_type": "code",
        "outputId": "74613416-bb9a-4fed-a38c-82e546055f8b",
        "colab": {
          "base_uri": "https://localhost:8080/",
          "height": 564
        }
      },
      "source": [
        "model = keras_segmentation.models.fcn.fcn_32(n_classes=256 , input_height=256, input_width=256 )\n",
        "model.train( \n",
        "    train_images =  \"/content/image-segmentation-keras/Dataset/tiles_akshath_png/\",\n",
        "    train_annotations = \"/content/image-segmentation-keras/Dataset/labels_akshath_png/\",\n",
        "    checkpoints_path = \"/tmp/fcn_32\" , epochs=5\n",
        ")"
      ],
      "execution_count": 0,
      "outputs": [
        {
          "output_type": "stream",
          "text": [
            " 21%|██        | 38/182 [00:00<00:00, 377.16it/s]"
          ],
          "name": "stderr"
        },
        {
          "output_type": "stream",
          "text": [
            "Verifying train dataset\n"
          ],
          "name": "stdout"
        },
        {
          "output_type": "stream",
          "text": [
            "100%|██████████| 182/182 [00:00<00:00, 371.96it/s]\n",
            "W0807 10:06:24.444810 140250540681088 deprecation.py:323] From /usr/local/lib/python3.6/dist-packages/tensorflow/python/ops/math_grad.py:1250: add_dispatch_support.<locals>.wrapper (from tensorflow.python.ops.array_ops) is deprecated and will be removed in a future version.\n",
            "Instructions for updating:\n",
            "Use tf.where in 2.0, which has the same broadcast rule as np.where\n"
          ],
          "name": "stderr"
        },
        {
          "output_type": "stream",
          "text": [
            "Dataset verified! \n",
            "Starting Epoch  0\n",
            "Epoch 1/1\n",
            "512/512 [==============================] - 666s 1s/step - loss: 0.7974 - acc: 0.8874\n",
            "saved  /tmp/fcn_32.model.0\n",
            "Finished Epoch 0\n",
            "Starting Epoch  1\n",
            "Epoch 1/1\n",
            "512/512 [==============================] - 644s 1s/step - loss: 0.4918 - acc: 0.8996\n",
            "saved  /tmp/fcn_32.model.1\n",
            "Finished Epoch 1\n",
            "Starting Epoch  2\n",
            "Epoch 1/1\n",
            "512/512 [==============================] - 646s 1s/step - loss: 0.4313 - acc: 0.9072\n",
            "saved  /tmp/fcn_32.model.2\n",
            "Finished Epoch 2\n",
            "Starting Epoch  3\n",
            "Epoch 1/1\n",
            "512/512 [==============================] - 645s 1s/step - loss: 0.3899 - acc: 0.9159\n",
            "saved  /tmp/fcn_32.model.3\n",
            "Finished Epoch 3\n",
            "Starting Epoch  4\n",
            "Epoch 1/1\n",
            "512/512 [==============================] - 645s 1s/step - loss: 0.3617 - acc: 0.9217\n",
            "saved  /tmp/fcn_32.model.4\n",
            "Finished Epoch 4\n"
          ],
          "name": "stdout"
        }
      ]
    },
    {
      "cell_type": "code",
      "metadata": {
        "id": "hQObefgRvbTt",
        "colab_type": "code",
        "outputId": "7c8397d7-36ca-44a4-b511-ba7f3eedbc1d",
        "colab": {
          "base_uri": "https://localhost:8080/",
          "height": 286
        }
      },
      "source": [
        "out = model.predict_segmentation(\n",
        "    inp=\"/content/image-segmentation-keras/Dataset/labels_akshath_png/93740-60802-17.png\",\n",
        "    out_fname=\"/tmp/out01.png\"\n",
        ")\n",
        "\n",
        "import matplotlib.pyplot as plt\n",
        "plt.imshow(out)"
      ],
      "execution_count": 0,
      "outputs": [
        {
          "output_type": "execute_result",
          "data": {
            "text/plain": [
              "<matplotlib.image.AxesImage at 0x7f8de43d9fd0>"
            ]
          },
          "metadata": {
            "tags": []
          },
          "execution_count": 55
        },
        {
          "output_type": "display_data",
          "data": {
            "image/png": "[encoded data removed]",
            "text/plain": [
              "<Figure size 432x288 with 1 Axes>"
            ]
          },
          "metadata": {
            "tags": []
          }
        }
      ]
    },
    {
      "cell_type": "code",
      "metadata": {
        "id": "TJ1YZ0N5xxzB",
        "colab_type": "code",
        "outputId": "31c7df27-11f5-4ed1-9841-b8de0b0c3df1",
        "colab": {
          "base_uri": "https://localhost:8080/",
          "height": 412
        }
      },
      "source": [
        "model = keras_segmentation.models.fcn.fcn_32(n_classes=50 , input_height=256, input_width=256 )\n",
        "model.train( \n",
        "    train_images =  \"/content/image-segmentation-keras/Dataset/tiles_akshath_png/\",\n",
        "    train_annotations = \"/content/image-segmentation-keras/Dataset/labels_akshath_png/\",\n",
        "    checkpoints_path = \"/tmp/fcn_32_1\" , epochs=1\n",
        ")"
      ],
      "execution_count": 0,
      "outputs": [
        {
          "output_type": "stream",
          "text": [
            "\r  0%|          | 0/182 [00:00<?, ?it/s]"
          ],
          "name": "stderr"
        },
        {
          "output_type": "stream",
          "text": [
            "Verifying train dataset\n"
          ],
          "name": "stdout"
        },
        {
          "output_type": "stream",
          "text": [
            "\n"
          ],
          "name": "stderr"
        },
        {
          "output_type": "error",
          "ename": "AssertionError",
          "evalue": "ignored",
          "traceback": [
            "\u001b[0;31m---------------------------------------------------------------------------\u001b[0m",
            "\u001b[0;31mAssertionError\u001b[0m                            Traceback (most recent call last)",
            "\u001b[0;32m<ipython-input-56-dcc9108f599f>\u001b[0m in \u001b[0;36m<module>\u001b[0;34m()\u001b[0m\n\u001b[1;32m      3\u001b[0m     \u001b[0mtrain_images\u001b[0m \u001b[0;34m=\u001b[0m  \u001b[0;34m\"/content/image-segmentation-keras/Dataset/tiles_akshath_png/\"\u001b[0m\u001b[0;34m,\u001b[0m\u001b[0;34m\u001b[0m\u001b[0;34m\u001b[0m\u001b[0m\n\u001b[1;32m      4\u001b[0m     \u001b[0mtrain_annotations\u001b[0m \u001b[0;34m=\u001b[0m \u001b[0;34m\"/content/image-segmentation-keras/Dataset/labels_akshath_png/\"\u001b[0m\u001b[0;34m,\u001b[0m\u001b[0;34m\u001b[0m\u001b[0;34m\u001b[0m\u001b[0m\n\u001b[0;32m----> 5\u001b[0;31m     \u001b[0mcheckpoints_path\u001b[0m \u001b[0;34m=\u001b[0m \u001b[0;34m\"/tmp/fcn_32_1\"\u001b[0m \u001b[0;34m,\u001b[0m \u001b[0mepochs\u001b[0m\u001b[0;34m=\u001b[0m\u001b[0;36m1\u001b[0m\u001b[0;34m\u001b[0m\u001b[0;34m\u001b[0m\u001b[0m\n\u001b[0m\u001b[1;32m      6\u001b[0m )\n",
            "\u001b[0;32m/content/image-segmentation-keras/keras_segmentation/train.py\u001b[0m in \u001b[0;36mtrain\u001b[0;34m(model, train_images, train_annotations, input_height, input_width, n_classes, verify_dataset, checkpoints_path, epochs, batch_size, validate, val_images, val_annotations, val_batch_size, auto_resume_checkpoint, load_weights, steps_per_epoch, optimizer_name)\u001b[0m\n\u001b[1;32m     88\u001b[0m         \u001b[0;32mif\u001b[0m \u001b[0mverify_dataset\u001b[0m\u001b[0;34m:\u001b[0m\u001b[0;34m\u001b[0m\u001b[0;34m\u001b[0m\u001b[0m\n\u001b[1;32m     89\u001b[0m                 \u001b[0mprint\u001b[0m\u001b[0;34m(\u001b[0m\u001b[0;34m\"Verifying train dataset\"\u001b[0m\u001b[0;34m)\u001b[0m\u001b[0;34m\u001b[0m\u001b[0;34m\u001b[0m\u001b[0m\n\u001b[0;32m---> 90\u001b[0;31m                 \u001b[0mverify_segmentation_dataset\u001b[0m\u001b[0;34m(\u001b[0m \u001b[0mtrain_images\u001b[0m \u001b[0;34m,\u001b[0m \u001b[0mtrain_annotations\u001b[0m \u001b[0;34m,\u001b[0m \u001b[0mn_classes\u001b[0m \u001b[0;34m)\u001b[0m\u001b[0;34m\u001b[0m\u001b[0;34m\u001b[0m\u001b[0m\n\u001b[0m\u001b[1;32m     91\u001b[0m                 \u001b[0;32mif\u001b[0m \u001b[0mvalidate\u001b[0m\u001b[0;34m:\u001b[0m\u001b[0;34m\u001b[0m\u001b[0;34m\u001b[0m\u001b[0m\n\u001b[1;32m     92\u001b[0m                         \u001b[0mprint\u001b[0m\u001b[0;34m(\u001b[0m\u001b[0;34m\"Verifying val dataset\"\u001b[0m\u001b[0;34m)\u001b[0m\u001b[0;34m\u001b[0m\u001b[0;34m\u001b[0m\u001b[0m\n",
            "\u001b[0;32m/content/image-segmentation-keras/keras_segmentation/data_utils/data_loader.py\u001b[0m in \u001b[0;36mverify_segmentation_dataset\u001b[0;34m(images_path, segs_path, n_classes)\u001b[0m\n\u001b[1;32m    104\u001b[0m \u001b[0;34m\u001b[0m\u001b[0m\n\u001b[1;32m    105\u001b[0m                 \u001b[0;32massert\u001b[0m \u001b[0;34m(\u001b[0m \u001b[0mimg\u001b[0m\u001b[0;34m.\u001b[0m\u001b[0mshape\u001b[0m\u001b[0;34m[\u001b[0m\u001b[0;36m0\u001b[0m\u001b[0;34m]\u001b[0m\u001b[0;34m==\u001b[0m\u001b[0mseg\u001b[0m\u001b[0;34m.\u001b[0m\u001b[0mshape\u001b[0m\u001b[0;34m[\u001b[0m\u001b[0;36m0\u001b[0m\u001b[0;34m]\u001b[0m \u001b[0;32mand\u001b[0m \u001b[0mimg\u001b[0m\u001b[0;34m.\u001b[0m\u001b[0mshape\u001b[0m\u001b[0;34m[\u001b[0m\u001b[0;36m1\u001b[0m\u001b[0;34m]\u001b[0m\u001b[0;34m==\u001b[0m\u001b[0mseg\u001b[0m\u001b[0;34m.\u001b[0m\u001b[0mshape\u001b[0m\u001b[0;34m[\u001b[0m\u001b[0;36m1\u001b[0m\u001b[0;34m]\u001b[0m \u001b[0;34m)\u001b[0m \u001b[0;34m,\u001b[0m \u001b[0;34m\"The size of image and the annotation does not match or they are corrupt \"\u001b[0m\u001b[0;34m+\u001b[0m \u001b[0mim_fn\u001b[0m \u001b[0;34m+\u001b[0m \u001b[0;34m\" \"\u001b[0m \u001b[0;34m+\u001b[0m \u001b[0mseg_fn\u001b[0m\u001b[0;34m\u001b[0m\u001b[0;34m\u001b[0m\u001b[0m\n\u001b[0;32m--> 106\u001b[0;31m                 \u001b[0;32massert\u001b[0m \u001b[0;34m(\u001b[0m \u001b[0mnp\u001b[0m\u001b[0;34m.\u001b[0m\u001b[0mmax\u001b[0m\u001b[0;34m(\u001b[0m\u001b[0mseg\u001b[0m\u001b[0;34m[\u001b[0m\u001b[0;34m:\u001b[0m\u001b[0;34m,\u001b[0m\u001b[0;34m:\u001b[0m\u001b[0;34m,\u001b[0m\u001b[0;36m0\u001b[0m\u001b[0;34m]\u001b[0m\u001b[0;34m)\u001b[0m \u001b[0;34m<\u001b[0m \u001b[0mn_classes\u001b[0m\u001b[0;34m)\u001b[0m \u001b[0;34m,\u001b[0m \u001b[0;34m\"The pixel values of seg image should be from 0 to \"\u001b[0m\u001b[0;34m+\u001b[0m\u001b[0mstr\u001b[0m\u001b[0;34m(\u001b[0m\u001b[0mn_classes\u001b[0m\u001b[0;34m-\u001b[0m\u001b[0;36m1\u001b[0m\u001b[0;34m)\u001b[0m \u001b[0;34m+\u001b[0m \u001b[0;34m\" . Found pixel value \"\u001b[0m\u001b[0;34m+\u001b[0m\u001b[0mstr\u001b[0m\u001b[0;34m(\u001b[0m\u001b[0mnp\u001b[0m\u001b[0;34m.\u001b[0m\u001b[0mmax\u001b[0m\u001b[0;34m(\u001b[0m\u001b[0mseg\u001b[0m\u001b[0;34m[\u001b[0m\u001b[0;34m:\u001b[0m\u001b[0;34m,\u001b[0m\u001b[0;34m:\u001b[0m\u001b[0;34m,\u001b[0m\u001b[0;36m0\u001b[0m\u001b[0;34m]\u001b[0m\u001b[0;34m)\u001b[0m\u001b[0;34m)\u001b[0m\u001b[0;34m\u001b[0m\u001b[0;34m\u001b[0m\u001b[0m\n\u001b[0m\u001b[1;32m    107\u001b[0m \u001b[0;34m\u001b[0m\u001b[0m\n\u001b[1;32m    108\u001b[0m         \u001b[0mprint\u001b[0m\u001b[0;34m(\u001b[0m\u001b[0;34m\"Dataset verified! \"\u001b[0m\u001b[0;34m)\u001b[0m\u001b[0;34m\u001b[0m\u001b[0;34m\u001b[0m\u001b[0m\n",
            "\u001b[0;31mAssertionError\u001b[0m: The pixel values of seg image should be from 0 to 49 . Found pixel value 255"
          ]
        }
      ]
    }
  ]
}