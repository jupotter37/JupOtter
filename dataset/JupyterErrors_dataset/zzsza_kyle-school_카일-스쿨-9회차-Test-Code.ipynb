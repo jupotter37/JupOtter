{
 "cells": [
  {
   "cell_type": "markdown",
   "metadata": {
    "slideshow": {
     "slide_type": "slide"
    }
   },
   "source": [
    "## 카일 스쿨 9회차\n",
    "\n",
    "[![Hits](https://hits.seeyoufarm.com/api/count/incr/badge.svg?url=https%3A%2F%2Fzzsza.github.io%2Fkyle-school%2Fweek9%2F)](https://hits.seeyoufarm.com)\n",
    "\n",
    "- #1. Test Code\n",
    "- #2. Test Code 맛보기\n",
    "- #3. 본격 Test Code 작성하기\n",
    "- Class Test\n",
    "- Fixture\n",
    "- 활용 사례\n",
    "- 최종 실습"
   ]
  },
  {
   "cell_type": "markdown",
   "metadata": {
    "slideshow": {
     "slide_type": "slide"
    }
   },
   "source": [
    "## 1. Test Code\n",
    "### 오늘 이것만은 꼭!\n",
    "- 코드를 테스트하는 방법에 대한 감을 익힌다\n",
    "- assert 키워드를 알아간다\n",
    "- pytest를 직접 터미널에서 실행해본다\n",
    "- Fixture란 무엇인지 이해한다\n",
    "- 라이브러리에서 Test Code를 확인하는 방법을 이해한다"
   ]
  },
  {
   "cell_type": "markdown",
   "metadata": {
    "slideshow": {
     "slide_type": "subslide"
    }
   },
   "source": [
    "### 테스트 자동화의 중요성\n",
    "- 시스템 테스트에서 가장 중요한 것은 테스트의 자동화\n",
    "\t- 사람이 직접 실행하는 매뉴얼 테스트만 거칠 경우, 사이드 이펙트가 생길 수 있음\n",
    "    - 예시 : 함수 작성 => print나 로그로 작성하는거 => 기본적인 테스트지만, 실수할 수 있음\n",
    "    - 나 대신 코드를 테스트해줄 엄격한 친구가 필요\n",
    "- 테스트를 최대한 자동화해서 테스트가 반복적으로, 자주 실행될 수 있도록 해야하며 항상 정확하게, 빠지는 부분이 없도록 테스트가 실행되도록 하는 것이 굉장히 중요함\n",
    "- 중요한 로직(예 : 가격)은 꼭 테스트 코드가 필수!\n",
    "- 테스트 방법\n",
    "\t- 1) UI test / End-to-End test\n",
    "\t- 2) integration test\n",
    "\t- 3) unit test "
   ]
  },
  {
   "cell_type": "markdown",
   "metadata": {
    "slideshow": {
     "slide_type": "subslide"
    }
   },
   "source": [
    "### UI test / End-To-End test\n",
    "- UI Test는 시스템의 UI(User Interface)를 통해서 테스트하는 것\n",
    "- 웹이라면 웹 브라우저를 통해 웹사이트에 접속하고, UI에 직접 입력하고 클릭하는 등을 통해 기능이 정상적으로 작동하는지 테스트\n",
    "- 장점\n",
    "\t- 사용자가 실제로 시스템을 사용하는 방시과 가장 동일하게 테스트\n",
    "- 단점\n",
    "\t- 시간이 가장 많이 소요되는 테스트\n",
    "\t- 프론트엔드 ~ 백엔드까지 모든 시스템을 실행시키고 연결해야 함\n",
    "\t- 자동화하기 가장 까다로움\n",
    "- Selenium 같은 UI Test 프레임워크를 사용해 어느정도 자동화가 가능하지만 100% 자동화는 어려움\n",
    "\t- 특히 화면 렌더링에서 문제가 발생\n",
    "- 단점 때문에 전체 테스트 중 대략 10% 정도만 UI test 방식을 통해 실행하는 것을 추천 ( 주로 마지막에 테스트 )"
   ]
  },
  {
   "cell_type": "markdown",
   "metadata": {
    "slideshow": {
     "slide_type": "subslide"
    }
   },
   "source": [
    "### Integration test\n",
    "- API 서버를 실행시키고 HTTP Request를 실행해 Response가 올바른지 파악\n",
    "- 테스트하고자 하는 서버를 실제로 실행시키고 테스트 HTTP 요청을 실행해 테스트해보는 방식\n",
    "- 하나의 시스템만 실행해서 UI test에 비해 테스트 설정이나 실행 시간이 더 짧고 간단\n",
    "- 하지만 unit test에 비해 자동화에 걸리는 공수가 더 크고 실행 속도도 더 느릴 수 밖에 없음\n",
    "- 정리하면, 최소 기능 단위를 묶어서 테스트함\n",
    "- 전체 테스트 중 대략 20% 정도만 할당하는 것을 추천    "
   ]
  },
  {
   "cell_type": "markdown",
   "metadata": {
    "slideshow": {
     "slide_type": "subslide"
    }
   },
   "source": [
    "### Unit test\n",
    "- 시스템을 테스트한다는 개념보다는 코드를 직접 테스트하는 개념\n",
    "\t- 즉, 코드로 코드를 테스트함\n",
    "- 실행하기 쉬우며 실행 속도도 빠름\n",
    "\t- 디버깅도 비교적 쉬움\n",
    "\t- 함수 단위로 테스트해서 파악이 쉬울 수밖에 없음\n",
    "- 단점은 함수 단위로 테스트하다보니 전체적인 부분을 테스트하기엔 제한적일 수 밖에 없음\n",
    "\t- 이런 단점을 integration test와 UI test를 통해 보완\n",
    "- 전체 테스트의 70%를 unit test"
   ]
  },
  {
   "cell_type": "markdown",
   "metadata": {
    "slideshow": {
     "slide_type": "subslide"
    }
   },
   "source": [
    "### 본격 시작하기 전에\n",
    "- Assert를 알아야 합니다\n",
    "- 가정 설정문을 뜻하는 assertion에서 나옴\n",
    "    - 개발 과정에서 실수가 일어난다 가정하고 특정 시점에 가정문을 작성함\n",
    "- 프로그래밍에서 코드를 점검할 때 사용함\n",
    "- 특정 지점에서 항상 참이어야 하는 문장\n",
    "- 문법\n",
    "    \n",
    "```\n",
    "assert condition\n",
    "```\n",
    "\n",
    "- 이 condition이 맞지 않으면 Error를 발생!"
   ]
  },
  {
   "cell_type": "code",
   "execution_count": 36,
   "metadata": {
    "slideshow": {
     "slide_type": "subslide"
    }
   },
   "outputs": [
    {
     "ename": "AssertionError",
     "evalue": "",
     "output_type": "error",
     "traceback": [
      "\u001b[0;31m---------------------------------------------------------------------------\u001b[0m",
      "\u001b[0;31mAssertionError\u001b[0m                            Traceback (most recent call last)",
      "\u001b[0;32m<ipython-input-36-529b3dba3ebd>\u001b[0m in \u001b[0;36m<module>\u001b[0;34m\u001b[0m\n\u001b[1;32m      1\u001b[0m \u001b[0;32massert\u001b[0m \u001b[0;36m1\u001b[0m\u001b[0;34m\u001b[0m\u001b[0;34m\u001b[0m\u001b[0m\n\u001b[1;32m      2\u001b[0m \u001b[0;32massert\u001b[0m \u001b[0;36m1\u001b[0m\u001b[0;34m==\u001b[0m\u001b[0;36m1\u001b[0m\u001b[0;34m\u001b[0m\u001b[0;34m\u001b[0m\u001b[0m\n\u001b[0;32m----> 3\u001b[0;31m \u001b[0;32massert\u001b[0m \u001b[0;36m1\u001b[0m\u001b[0;34m==\u001b[0m\u001b[0;36m2\u001b[0m\u001b[0;34m\u001b[0m\u001b[0;34m\u001b[0m\u001b[0m\n\u001b[0m",
      "\u001b[0;31mAssertionError\u001b[0m: "
     ]
    }
   ],
   "source": [
    "assert 1\n",
    "assert 1==1\n",
    "assert 1==2\n"
   ]
  },
  {
   "cell_type": "code",
   "execution_count": 35,
   "metadata": {
    "slideshow": {
     "slide_type": "subslide"
    }
   },
   "outputs": [
    {
     "ename": "AssertionError",
     "evalue": "이건 참이 아니지요",
     "output_type": "error",
     "traceback": [
      "\u001b[0;31m---------------------------------------------------------------------------\u001b[0m",
      "\u001b[0;31mAssertionError\u001b[0m                            Traceback (most recent call last)",
      "\u001b[0;32m<ipython-input-35-a4db5263a64b>\u001b[0m in \u001b[0;36m<module>\u001b[0;34m\u001b[0m\n\u001b[0;32m----> 1\u001b[0;31m \u001b[0;32massert\u001b[0m \u001b[0;36m1\u001b[0m\u001b[0;34m==\u001b[0m\u001b[0;36m2\u001b[0m\u001b[0;34m,\u001b[0m \u001b[0;34m\"이건 참이 아니지요\"\u001b[0m\u001b[0;34m\u001b[0m\u001b[0;34m\u001b[0m\u001b[0m\n\u001b[0m",
      "\u001b[0;31mAssertionError\u001b[0m: 이건 참이 아니지요"
     ]
    }
   ],
   "source": [
    "assert 1==2, \"이건 참이 아니지요\""
   ]
  },
  {
   "cell_type": "code",
   "execution_count": 39,
   "metadata": {
    "slideshow": {
     "slide_type": "subslide"
    }
   },
   "outputs": [
    {
     "ename": "AssertionError",
     "evalue": "",
     "output_type": "error",
     "traceback": [
      "\u001b[0;31m---------------------------------------------------------------------------\u001b[0m",
      "\u001b[0;31mAssertionError\u001b[0m                            Traceback (most recent call last)",
      "\u001b[0;32m<ipython-input-39-6b45681bf9aa>\u001b[0m in \u001b[0;36m<module>\u001b[0;34m\u001b[0m\n\u001b[1;32m      1\u001b[0m \u001b[0mint_value\u001b[0m \u001b[0;34m=\u001b[0m \u001b[0;36m3\u001b[0m\u001b[0;34m\u001b[0m\u001b[0;34m\u001b[0m\u001b[0m\n\u001b[0;32m----> 2\u001b[0;31m \u001b[0;32massert\u001b[0m \u001b[0mtype\u001b[0m\u001b[0;34m(\u001b[0m\u001b[0mint_value\u001b[0m\u001b[0;34m)\u001b[0m \u001b[0;34m==\u001b[0m \u001b[0mstr\u001b[0m\u001b[0;34m\u001b[0m\u001b[0;34m\u001b[0m\u001b[0m\n\u001b[0m",
      "\u001b[0;31mAssertionError\u001b[0m: "
     ]
    }
   ],
   "source": [
    "int_value = 3\n",
    "assert type(int_value) == int\n",
    "assert type(int_value) == str"
   ]
  },
  {
   "cell_type": "markdown",
   "metadata": {
    "slideshow": {
     "slide_type": "slide"
    }
   },
   "source": [
    "### 2. Test Code 맛보기\n",
    "- 주로 사용하는 라이브러리\n",
    "- 파이썬 기본 내장인 unittest와 pytest 등이 주로 사용됨\n",
    "- 이번 시간엔 pytest를 사용할 예정\n",
    "\n",
    "### 폴더 구조\n",
    "```\n",
    "├── tests : Test Code가 저장되는 폴더\n",
    "│   ├── __init__.py\n",
    "│   └── test_your_module.py\n",
    "└── your_module.py : 작성한 파일\n",
    "```"
   ]
  },
  {
   "cell_type": "markdown",
   "metadata": {
    "slideshow": {
     "slide_type": "subslide"
    }
   },
   "source": [
    "### pytest\n",
    "- 파이썬 내장 라이브러리인 unittest보다 사용하기 직관적인 pytest를 추천함\n",
    "    - unittest는 단순 assert문이 아니라, self.assertEqual 같은 함수를 사용해야 하고, 항상 클래스로 만들어야 하는 반면, pytest는 assert를 사용하고 클래스가 아닌 함수도 사용 가능 \n",
    "\n",
    "- 설치\n",
    "\n",
    "\t```\n",
    "\tpip3 install pytest\n",
    "\t```\n",
    "    "
   ]
  },
  {
   "cell_type": "markdown",
   "metadata": {
    "slideshow": {
     "slide_type": "subslide"
    }
   },
   "source": [
    "- Test하는 방식\n",
    "    - 함수 생성 : function_name.py\n",
    "    - 그 함수를 테스트하는 테스트 케이스 생성 : test 폴더 아래에 test_function_name.py로 작성\n",
    "    - 테이스 케이스 실행 : 터미널에서 pytest 실행\n",
    "\n",
    "- 자 간단한 것부터 해봅시다\n",
    "    - 처음이니 노트북에서 진행할게요\n",
    "    - %%writefile -a 파일명 : 파일에 append(아래에 추가 입력)하며 저장 "
   ]
  },
  {
   "cell_type": "code",
   "execution_count": 24,
   "metadata": {
    "slideshow": {
     "slide_type": "subslide"
    }
   },
   "outputs": [
    {
     "name": "stdout",
     "output_type": "stream",
     "text": [
      "Appending to utils.py\n"
     ]
    }
   ],
   "source": [
    "%%writefile -a utils.py\n",
    "# 이 파일을 실행하면 utils.py에 파일이 저장됩니다\n",
    "import datetime\n",
    "\n",
    "def is_working_day(date: datetime.date):\n",
    "    \"\"\"\n",
    "    date를 받아서 근무일인지 확인하는 함수\n",
    "    연휴는 고려하지 않고, 토/일은 근무일이 아니고 월~금은 근무일\n",
    "    \"\"\"\n",
    "    weekday = date.weekday()\n",
    "    if weekday in {5, 6}:\n",
    "        return False\n",
    "    else:\n",
    "        return True"
   ]
  },
  {
   "cell_type": "code",
   "execution_count": 25,
   "metadata": {
    "slideshow": {
     "slide_type": "subslide"
    }
   },
   "outputs": [
    {
     "name": "stdout",
     "output_type": "stream",
     "text": [
      "Overwriting test_utils.py\n"
     ]
    }
   ],
   "source": [
    "%%writefile test_utils.py\n",
    "# test_utils.py를 아래 내용으로 저장합니다\n",
    "\n",
    "from utils import is_working_day\n",
    "\n",
    "def test_is_working_day():\n",
    "    assert is_working_day(datetime.date(2020,7,5)) == False\n",
    "    assert is_working_day(datetime.date(2020,7,4)) == False\n",
    "    assert is_working_day(datetime.date(2020,7,6)) == True"
   ]
  },
  {
   "cell_type": "code",
   "execution_count": 26,
   "metadata": {
    "slideshow": {
     "slide_type": "subslide"
    }
   },
   "outputs": [
    {
     "name": "stdout",
     "output_type": "stream",
     "text": [
      "\u001b[1mTest session starts (platform: darwin, Python 3.7.4, pytest 5.0.1, pytest-sugar 0.9.2)\u001b[0m\n",
      "rootdir: /Users/byeon/Dropbox/workspace/kyle-school/notebooks\n",
      "plugins: sugar-0.9.2, dash-1.0.0, mock-1.10.4\n",
      "\u001b[1mcollecting ... \u001b[0m\n",
      "\n",
      "――――――――――――――――――――――――――――― test_is_working_day ――――――――――――――――――――――――――――――\n",
      "\n",
      "\u001b[1m    def test_is_working_day():\u001b[0m\n",
      "\u001b[1m>       assert is_working_day(datetime.date(2020,7,5)) == False\u001b[0m\n",
      "\u001b[1m\u001b[31mE       NameError: name 'datetime' is not defined\u001b[0m\n",
      "\n",
      "\u001b[1m\u001b[31mtest_utils.py\u001b[0m:6: NameError\n",
      "\n",
      " \u001b[36m\u001b[0mtest_utils.py\u001b[0m \u001b[31m⨯\u001b[0m                                                 \u001b[31m100% \u001b[0m\u001b[40m\u001b[31m█\u001b[0m\u001b[40m\u001b[31m█████████\u001b[0m\n",
      "\n",
      "Results (0.20s):\n",
      "\u001b[31m       1 failed\u001b[0m\n",
      "         - \u001b[36m\u001b[0mtest_utils.py\u001b[0m:5 \u001b[31mtest_is_working_day\u001b[0m\n"
     ]
    }
   ],
   "source": [
    "!pytest test_utils.py\n",
    "# pytest를 실행합니다!"
   ]
  },
  {
   "cell_type": "markdown",
   "metadata": {
    "slideshow": {
     "slide_type": "subslide"
    }
   },
   "source": [
    "- NameError: name 'datetime' is not defined\n",
    "- 오류가 날 경우 이렇게 알려줍니다\n",
    "- 그럼 고쳐봅시다"
   ]
  },
  {
   "cell_type": "code",
   "execution_count": 27,
   "metadata": {
    "slideshow": {
     "slide_type": "subslide"
    }
   },
   "outputs": [
    {
     "name": "stdout",
     "output_type": "stream",
     "text": [
      "Overwriting test_utils.py\n"
     ]
    }
   ],
   "source": [
    "%%writefile test_utils.py\n",
    "# test_utils.py를 아래 내용으로 overwrite합니다(-a 옵션 없이!)\n",
    "import datetime\n",
    "from utils import is_working_day\n",
    "\n",
    "def test_is_working_day():\n",
    "    assert is_working_day(datetime.date(2020,7,5)) == False\n",
    "    assert is_working_day(datetime.date(2020,7,4)) == False\n",
    "    assert is_working_day(datetime.date(2020,7,6)) == True"
   ]
  },
  {
   "cell_type": "code",
   "execution_count": 28,
   "metadata": {
    "slideshow": {
     "slide_type": "subslide"
    }
   },
   "outputs": [
    {
     "name": "stdout",
     "output_type": "stream",
     "text": [
      "\u001b[1mTest session starts (platform: darwin, Python 3.7.4, pytest 5.0.1, pytest-sugar 0.9.2)\u001b[0m\n",
      "rootdir: /Users/byeon/Dropbox/workspace/kyle-school/notebooks\n",
      "plugins: sugar-0.9.2, dash-1.0.0, mock-1.10.4\n",
      "\u001b[1mcollecting ... \u001b[0m\n",
      " \u001b[36m\u001b[0mtest_utils.py\u001b[0m \u001b[32m✓\u001b[0m                                                 \u001b[32m100% \u001b[0m\u001b[40m\u001b[32m█\u001b[0m\u001b[40m\u001b[32m█████████\u001b[0m\n",
      "\n",
      "Results (0.03s):\n",
      "\u001b[32m       1 passed\u001b[0m\n"
     ]
    }
   ],
   "source": [
    "!pytest test_utils.py"
   ]
  },
  {
   "cell_type": "markdown",
   "metadata": {
    "slideshow": {
     "slide_type": "subslide"
    }
   },
   "source": [
    "- Good! 성공\n",
    "- pytest에선 test_라고 되어있는 파일들만 테스트 파일로 인식하고, 함수도 test_라고 prefix가 있어야만 test할 함수로 인식함"
   ]
  },
  {
   "cell_type": "markdown",
   "metadata": {
    "slideshow": {
     "slide_type": "slide"
    }
   },
   "source": [
    "### 3. 본격 Test Code 작성하기\n",
    "- 이번엔 스크립트로 작성합시다\n",
    "- VS Code나 Pycharm을 켜주세요(아무 폴더)"
   ]
  },
  {
   "cell_type": "markdown",
   "metadata": {
    "slideshow": {
     "slide_type": "subslide"
    }
   },
   "source": [
    "- your_module.py를 만듭시다\n",
    "\n",
    "    ```\n",
    "    def multiply_by_two(x):\n",
    "        return x * 2\n",
    "    ```"
   ]
  },
  {
   "cell_type": "markdown",
   "metadata": {
    "slideshow": {
     "slide_type": "subslide"
    }
   },
   "source": [
    "- tests/test_your_module.py도 만듭시다\n",
    "\n",
    "    ```\n",
    "    from your_module import *\n",
    "\n",
    "    def test_multiply_by_two():\n",
    "        assert multiply_by_two(2) == 4\n",
    "        assert multiply_by_two(3.6) == 7.2\n",
    "    ```\n",
    "\n",
    "- `tests/__init__.py` 빈 파일을 만들어주세요"
   ]
  },
  {
   "cell_type": "markdown",
   "metadata": {
    "slideshow": {
     "slide_type": "subslide"
    }
   },
   "source": [
    "- pytest 실행\n",
    "    - 소스 코드에서 다음을 실행합니다\n",
    "    \n",
    "    ```\n",
    "    pytest tests/\n",
    "    ```\n",
    "\n",
    "    - 성공!\n",
    "        - <img src=\"https://www.dropbox.com/s/amanki06i0fiv15/Screenshot%202020-06-28%2018.52.03.png?raw=1\">\n",
    "        \n",
    "- 직접 따라쳐봅시다\n",
    "    "
   ]
  },
  {
   "cell_type": "markdown",
   "metadata": {
    "slideshow": {
     "slide_type": "subslide"
    }
   },
   "source": [
    "- 이번엔 tests/test_your_module.py에 다음과 같이 입력해볼게요(일부러 오류 발생)\n",
    "    - 2가지 모두 실패!\n",
    "\n",
    "    ```\n",
    "    from your_module import *\n",
    "\n",
    "    def test_multiply_by_two():\n",
    "        assert multiply_by_two(2) == 5\n",
    "        assert multiply_by_two(3.6) == 7.9\n",
    "    ```\n",
    "    "
   ]
  },
  {
   "cell_type": "markdown",
   "metadata": {
    "slideshow": {
     "slide_type": "subslide"
    }
   },
   "source": [
    "- 실패!\n",
    "    - 위에 테스트가 실패되서 아래꺼는 실행되지 않음\n",
    "    - <img src=\"https://www.dropbox.com/s/5q8g6mzok4u5ujn/Screenshot%202020-06-28%2018.53.45.png?raw=1\">"
   ]
  },
  {
   "cell_type": "markdown",
   "metadata": {
    "slideshow": {
     "slide_type": "subslide"
    }
   },
   "source": [
    "- 하나의 함수만 지정해서 테스트하기\n",
    "    - 파일 지정하고 :: 뒤에 함수 작성\n",
    "\n",
    "    ```\n",
    "    pytest tests/test_your_module.py::test_multiply_by_two\n",
    "    ```\n",
    "\n",
    "- 키워드 지정해서 테스트하기\n",
    "    - `-k` 에 단어 지정\n",
    "\n",
    "    ```\n",
    "    pytest tests/test_your_module.py -k multiply\n",
    "    ```"
   ]
  },
  {
   "cell_type": "markdown",
   "metadata": {
    "slideshow": {
     "slide_type": "subslide"
    }
   },
   "source": [
    "- Error가 발생하는지 Test하기\n",
    "    \n",
    "    ```\n",
    "    def test_divide_by_zero():\n",
    "        with pytest.raises(ZeroDivisionError) as e:\n",
    "            3/0\n",
    "    ```\n",
    "        "
   ]
  },
  {
   "cell_type": "markdown",
   "metadata": {
    "slideshow": {
     "slide_type": "slide"
    }
   },
   "source": [
    "### 이번엔 Class Test\n",
    "- simple_class.py를 만듭시다\n",
    "- 간단한 Queue입니다\n",
    "\n",
    "\n",
    "```\n",
    "class Queue:\n",
    "    def __init__(self):\n",
    "        self.items = []\n",
    "\n",
    "    def add_item(self, item):\n",
    "        self.items.append(item)\n",
    "\n",
    "    def first(self):\n",
    "        return self.items[0]\n",
    "\n",
    "    def last(self):\n",
    "        return self.items[-1]\n",
    "\n",
    "    def length(self):\n",
    "        return len(self.items)\n",
    "```"
   ]
  },
  {
   "cell_type": "markdown",
   "metadata": {
    "slideshow": {
     "slide_type": "subslide"
    }
   },
   "source": [
    "- 이제 test/test_simple_class.py를 만들어봅시다\n",
    "\n",
    "\n",
    "```\n",
    "from simple_class import Queue\n",
    "\n",
    "def test_firstlast():\n",
    "    q = Queue()\n",
    "\n",
    "    q.add_item(5)\n",
    "    q.add_item(17)\n",
    "    q.add_item(\"hello\")\n",
    "\n",
    "    assert q.first() == 5\n",
    "    assert q.last() == \"hello\"\n",
    "\n",
    "def test_len():\n",
    "    q = Queue()\n",
    "\n",
    "    assert q.length() == 0\n",
    "\n",
    "    q.add_item(1)\n",
    "\n",
    "    assert q.length() == 1\n",
    "\n",
    "    for i in range(10):\n",
    "        q.add_item(i)\n",
    "\n",
    "    assert q.length() == 10\n",
    "```\n",
    "\n",
    "- pytest 실행\n",
    "\n",
    "```\n",
    "pytest test/\n",
    "```"
   ]
  },
  {
   "cell_type": "markdown",
   "metadata": {
    "slideshow": {
     "slide_type": "subslide"
    }
   },
   "source": [
    "- 생각해볼 점\n",
    "    - 각 테스트는 다른 테스트에 독립적이어야 함\n",
    "    - 여러 테스트를 할 때, 공통적으로 사용하는 리소스가 있을 수 있음\n",
    "        - 예 : 하나의 인스턴스를 공통으로 사용해야 하는 경우\n",
    "    - Don't Repeat Yourself(DRY)에 따라 매번 테스트할 때 반복하면 X\n",
    "        - simple_class.py 예제에서 Queue는 생성할 떄 얼마 걸리지 않았지만, 인스턴스 생성시 시간이 오래 걸리거나 or 큰 csv 파일을 읽어야 하는 경우엔?\n",
    "        - read_csv() 함수 등으로 시간이 오래 걸림\n",
    "    - 이럴 때 사용하는 것이 Fixture"
   ]
  },
  {
   "cell_type": "markdown",
   "metadata": {
    "slideshow": {
     "slide_type": "slide"
    }
   },
   "source": [
    "### Fixture\n",
    "- 테스트에 필요한 공통 리소스(자원)\n",
    "- 함수 형태로 작성해서 활용함\n",
    "- 테스트를 할 때 필요한 부분이나 조건들을 미리 준비한 리소스\n",
    "- Test Case에서 필요한 fixture를 쉽게 사용\n",
    "    - 특정 상황\n",
    "        - 예 : 월요일 아침에 수요가 100개고, 비가 오는 경우엔 어떤 값이 반환?\n",
    "        - 예 : 월요일 아침에 수요가 100개고, 비가 안오는 경우엔 어떤 값이 반환?\n",
    "    - 데이터베이스에 접근해야 하는 경우(계정 정보)\n",
    "    - 딥러닝 모델 객체\n",
    "    - Selenium 웹드라이버\n",
    "    - csv 파일을 읽은 Dataframe\n",
    "- Dependency Injection이라 표현(의존성 주입)\n",
    "- 테스트의 독립 + 리소스 재사용을 할 수 있게 해주는 방법"
   ]
  },
  {
   "cell_type": "markdown",
   "metadata": {
    "slideshow": {
     "slide_type": "subslide"
    }
   },
   "source": [
    "- Fixtures 사용하기\n",
    "    - `@pytest.fixture` 데코레이터를 사용\n",
    "    - 테스트할 다른 함수에서 함수명을 객체처럼 사용할 수 있음\n",
    "- 문법\n",
    "    \n",
    "    ```\n",
    "    @pytest.fixture(scope=\"fixture_scope\")\n",
    "    def my_fixture():\n",
    "        return fixture_object\n",
    "        \n",
    "    def test_sample_function(my_fixture):\n",
    "        # test code\n",
    "    ```"
   ]
  },
  {
   "cell_type": "markdown",
   "metadata": {
    "slideshow": {
     "slide_type": "subslide"
    }
   },
   "source": [
    "- utils.py\n",
    "\n",
    "    ```\n",
    "    import pandas as pd\n",
    "\n",
    "    def load_data():\n",
    "        df = pd.read_csv(\"iris.csv\")\n",
    "        return df\n",
    "    ```"
   ]
  },
  {
   "cell_type": "markdown",
   "metadata": {
    "slideshow": {
     "slide_type": "subslide"
    }
   },
   "source": [
    "- tests/test_utils.py\n",
    "\n",
    "    ```\n",
    "    import pytest\n",
    "    import pandas as pd\n",
    "    from utils import load_data\n",
    "\n",
    "    @pytest.fixture(scope=\"session\")\n",
    "    def result_fixture():\n",
    "        result = load_data()\n",
    "        return result\n",
    "\n",
    "    def test_len(result_fixture):\n",
    "        assert len(result_fixture) == 150\n",
    "\n",
    "    def test_object_type(result_fixture):\n",
    "        assert isinstance(result_fixture, pd.DataFrame)\n",
    "    ```"
   ]
  },
  {
   "cell_type": "markdown",
   "metadata": {
    "slideshow": {
     "slide_type": "subslide"
    }
   },
   "source": [
    "- @pytest.mark.parametrize()\n",
    "    - 파라미터로 넘겨서 여러가지를 한꺼번에 테스트할 경우 사용\n",
    "\n",
    "    ```\n",
    "    import pytest\n",
    "\n",
    "    @pytest.mark.parametrize(\"test_input, expected\", \n",
    "                            [(\"3+5\", 8), \n",
    "                             (\"2+4\", 6), \n",
    "                             (\"6*9\", 42)])\n",
    "\n",
    "    def test_eval(test_input, expected):\n",
    "        assert eval(test_input) == expected\n",
    "    ```"
   ]
  },
  {
   "cell_type": "markdown",
   "metadata": {
    "slideshow": {
     "slide_type": "slide"
    }
   },
   "source": [
    "### 활용 사례\n",
    "- Pandas에서 Test Code는 어떻게 되어있을까?\n",
    "    - [test_append](https://github.com/pandas-dev/pandas/blob/master/pandas/tests/frame/methods/test_append.py)\n",
    "- 딥러닝 프로젝트에서 Test Code는 어떻게 되어있을까?\n",
    "    - 스캐터랩의 [chatspace](https://github.com/pingpong-ai/chatspace/tree/master/tests)를 봅시다"
   ]
  },
  {
   "cell_type": "markdown",
   "metadata": {
    "slideshow": {
     "slide_type": "slide"
    }
   },
   "source": [
    "### 최종 실습\n",
    "- Calculator Test Code 만들기\n",
    "- cals_func.py 파일\n",
    "\n",
    "```\n",
    "def add(a, b):\n",
    "    return a + b\n",
    "\n",
    "\n",
    "def subtract(a, b):\n",
    "    return a - b\n",
    "\n",
    "\n",
    "def multiply(a, b):\n",
    "    return a * b\n",
    "\n",
    "\n",
    "def divide(a, b):\n",
    "    # automatically raises ZeroDivisionError\n",
    "    return a * 1.0 / b\n",
    "\n",
    "\n",
    "def maximum(a, b):\n",
    "    return a if a >= b else b\n",
    "\n",
    "\n",
    "def minimum(a, b):\n",
    "    return a if a <= b else b\n",
    "```"
   ]
  },
  {
   "cell_type": "markdown",
   "metadata": {
    "slideshow": {
     "slide_type": "subslide"
    }
   },
   "source": [
    "- cals_class.py 파일이 있습니다\n",
    "\n",
    "```\n",
    "from calc_func import *\n",
    "\n",
    "class Calculator(object):\n",
    "    def __init__(self):\n",
    "        self._last_answer = 0.0\n",
    "\n",
    "    @property\n",
    "    def last_answer(self):\n",
    "        return self._last_answer\n",
    "\n",
    "    def _do_math(self, a, b, func):\n",
    "        self._last_answer = func(a, b)\n",
    "        return self.last_answer\n",
    "\n",
    "    def add(self, a, b):\n",
    "        return self._do_math(a, b, add)\n",
    "\n",
    "    def subtract(self, a, b):\n",
    "        return self._do_math(a, b, subtract)\n",
    "\n",
    "    def multiply(self, a, b):\n",
    "        return self._do_math(a, b, multiply)\n",
    "\n",
    "    def divide(self, a, b):\n",
    "        return self._do_math(a, b, divide)\n",
    "\n",
    "    def maximum(self, a, b):\n",
    "        return self._do_math(a, b, maximum)\n",
    "\n",
    "    def minimum(self, a, b):\n",
    "        return self._do_math(a, b, minimum)\n",
    "```"
   ]
  },
  {
   "cell_type": "markdown",
   "metadata": {
    "slideshow": {
     "slide_type": "subslide"
    }
   },
   "source": [
    "- test_calc_class.py\n",
    "    - 여기 나와있는 TODO 채우기^_^\n",
    "    - 다음 카일스쿨까지 숙제"
   ]
  },
  {
   "cell_type": "markdown",
   "metadata": {
    "slideshow": {
     "slide_type": "subslide"
    }
   },
   "source": [
    "### Reference\n",
    "- [공식 문서](https://docs.pytest.org/en/latest/contents.html)\n",
    "- [PYTHON : RELATIVE BENEFITS OF PYTEST, UNITTEST, NOSE, AND DOCTEST](http://www.rohitschauhan.com/index.php/2018/07/05/python-relative-benefits-of-pytest-unittest-nose-and-doctest/)"
   ]
  }
 ],
 "metadata": {
  "celltoolbar": "Slideshow",
  "kernelspec": {
   "display_name": "Python 3",
   "language": "python",
   "name": "python3"
  },
  "language_info": {
   "codemirror_mode": {
    "name": "ipython",
    "version": 3
   },
   "file_extension": ".py",
   "mimetype": "text/x-python",
   "name": "python",
   "nbconvert_exporter": "python",
   "pygments_lexer": "ipython3",
   "version": "3.7.4"
  },
  "varInspector": {
   "cols": {
    "lenName": 16,
    "lenType": 16,
    "lenVar": 40
   },
   "kernels_config": {
    "python": {
     "delete_cmd_postfix": "",
     "delete_cmd_prefix": "del ",
     "library": "var_list.py",
     "varRefreshCmd": "print(var_dic_list())"
    },
    "r": {
     "delete_cmd_postfix": ") ",
     "delete_cmd_prefix": "rm(",
     "library": "var_list.r",
     "varRefreshCmd": "cat(var_dic_list()) "
    }
   },
   "types_to_exclude": [
    "module",
    "function",
    "builtin_function_or_method",
    "instance",
    "_Feature"
   ],
   "window_display": false
  }
 },
 "nbformat": 4,
 "nbformat_minor": 2
}
