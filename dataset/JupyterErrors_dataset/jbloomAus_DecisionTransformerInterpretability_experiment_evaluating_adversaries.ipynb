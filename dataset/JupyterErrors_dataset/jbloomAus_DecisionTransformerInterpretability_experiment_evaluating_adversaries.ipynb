{
 "cells": [
  {
   "cell_type": "markdown",
   "metadata": {},
   "source": [
    "# Experiment Testing Adversaries\n",
    "\n",
    "To do:\n",
    "\n",
    "Option 1:\n",
    "1. Find the training data\n",
    "2. Load the training data\n",
    "3. Select trajectories which contain scenario 1. \n",
    "\n",
    "The training data is very light on the optimal trajectories! My stupid sampling thing was almost certainly part of the problem. I think we should try removing it and seeing if the model will train. \n",
    "\n",
    "Option 2:\n",
    "1. Synthesize scenario 1 forward passes somehow. \n",
    "\n",
    "Fixed Result:\n",
    "\n",
    "4. Visualize a few. \n",
    "5. Write code to add adversaries. \n",
    "6. Plot left-right preference before/after. "
   ]
  },
  {
   "cell_type": "markdown",
   "metadata": {},
   "source": [
    "## Try to Load the Training Data and use that "
   ]
  },
  {
   "cell_type": "code",
   "execution_count": 9,
   "metadata": {},
   "outputs": [
    {
     "name": "stderr",
     "output_type": "stream",
     "text": [
      "/Users/josephbloom/miniforge3/envs/decision_transformer_interpretability/lib/python3.10/site-packages/gymnasium/envs/registration.py:693: UserWarning:\n",
      "\n",
      "\u001b[33mWARN: Overriding environment DynamicObstaclesMultiEnv-v0 already in registry.\u001b[0m\n",
      "\n",
      "/Users/josephbloom/miniforge3/envs/decision_transformer_interpretability/lib/python3.10/site-packages/gymnasium/envs/registration.py:693: UserWarning:\n",
      "\n",
      "\u001b[33mWARN: Overriding environment CrossingMultiEnv-v0 already in registry.\u001b[0m\n",
      "\n",
      "/Users/josephbloom/miniforge3/envs/decision_transformer_interpretability/lib/python3.10/site-packages/gymnasium/envs/registration.py:693: UserWarning:\n",
      "\n",
      "\u001b[33mWARN: Overriding environment MultiRoomMultiEnv-v0 already in registry.\u001b[0m\n",
      "\n",
      "/Users/josephbloom/miniforge3/envs/decision_transformer_interpretability/lib/python3.10/site-packages/gymnasium/envs/registration.py:693: UserWarning:\n",
      "\n",
      "\u001b[33mWARN: Overriding environment Probe1-v0 already in registry.\u001b[0m\n",
      "\n",
      "/Users/josephbloom/miniforge3/envs/decision_transformer_interpretability/lib/python3.10/site-packages/gymnasium/envs/registration.py:693: UserWarning:\n",
      "\n",
      "\u001b[33mWARN: Overriding environment Probe2-v0 already in registry.\u001b[0m\n",
      "\n",
      "/Users/josephbloom/miniforge3/envs/decision_transformer_interpretability/lib/python3.10/site-packages/gymnasium/envs/registration.py:693: UserWarning:\n",
      "\n",
      "\u001b[33mWARN: Overriding environment Probe3-v0 already in registry.\u001b[0m\n",
      "\n",
      "/Users/josephbloom/miniforge3/envs/decision_transformer_interpretability/lib/python3.10/site-packages/gymnasium/envs/registration.py:693: UserWarning:\n",
      "\n",
      "\u001b[33mWARN: Overriding environment Probe4-v0 already in registry.\u001b[0m\n",
      "\n",
      "/Users/josephbloom/miniforge3/envs/decision_transformer_interpretability/lib/python3.10/site-packages/gymnasium/envs/registration.py:693: UserWarning:\n",
      "\n",
      "\u001b[33mWARN: Overriding environment Probe5-v0 already in registry.\u001b[0m\n",
      "\n",
      "/Users/josephbloom/miniforge3/envs/decision_transformer_interpretability/lib/python3.10/site-packages/gymnasium/envs/registration.py:693: UserWarning:\n",
      "\n",
      "\u001b[33mWARN: Overriding environment Probe6-v0 already in registry.\u001b[0m\n",
      "\n",
      "/Users/josephbloom/miniforge3/envs/decision_transformer_interpretability/lib/python3.10/site-packages/gymnasium/envs/registration.py:693: UserWarning:\n",
      "\n",
      "\u001b[33mWARN: Overriding environment MiniGrid-MemoryS7RandomDirection-v0 already in registry.\u001b[0m\n",
      "\n",
      "/Users/josephbloom/miniforge3/envs/decision_transformer_interpretability/lib/python3.10/site-packages/gymnasium/envs/registration.py:693: UserWarning:\n",
      "\n",
      "\u001b[33mWARN: Overriding environment MiniGrid-MemoryS7FixedStart-v0 already in registry.\u001b[0m\n",
      "\n"
     ]
    },
    {
     "name": "stdout",
     "output_type": "stream",
     "text": [
      "WARNING: no unembed.b_U in state_dict, deleting ln_final.b\n",
      "WARNING: no unembed.b_U in state_dict, deleting ln_final.w. You should be folding these weight into subsequent layers before calling this func.\n",
      "Ignore T-Lens warnings about folding layer norm into unembed, we just did it manually\n",
      "torch.Size([9, 7, 7, 20])\n"
     ]
    }
   ],
   "source": [
    "import sys \n",
    "import os \n",
    "\n",
    "sys.path.append(\"..\")\n",
    "\n",
    "from src.streamlit_app.environment import get_env_and_dt, preprocess_inputs\n",
    "from src.environments.registration import register_envs\n",
    "from src.decision_transformer.offline_dataset import TrajectoryDataset, one_hot_encode_observation\n",
    "from torch.utils.data import DataLoader\n",
    "\n",
    "register_envs()\n",
    "\n",
    "# GET MODEL AND ENVIRONMENT\n",
    "model_index = {\n",
    "    # The original post, reproduced with 1/10th of the total training epochs\n",
    "    \"models/MiniGrid-MemoryS7FixedStart-v0/WorkingModel.pt\": \"MemoryDT\",\n",
    "    \"models/MiniGrid-MemoryS7FixedStart-v0/MemoryGatedMLP.pt\": \"MemoryDTGatedMLP\",\n",
    "    \"models/MiniGrid-Dynamic-Obstacles-8x8-v0/ReproduceOriginalPostShort.pt\": \"DynamicObstaclesDT_reproduction\",\n",
    "}\n",
    "\n",
    "env, dt = get_env_and_dt(\"../models/MiniGrid-MemoryS7FixedStart-v0/WorkingModel.pt\")\n",
    "\n",
    "# GET TRAINING DATA \n",
    "training_trajectories = \"../trajectories/MiniGrid-MemoryS7FixedStart-v0-Checkpoint11-VariedSamplingStrategies_T1_10k_T5_20k.gz\"\n",
    "dataset = TrajectoryDataset(\n",
    "    training_trajectories, \n",
    "    max_len=9, \n",
    "    prob_go_from_end=1,\n",
    "    preprocess_observations=one_hot_encode_observation)\n",
    "s, a, r, d, rtg, ti, m = dataset[0]\n",
    "print(s.shape)"
   ]
  },
  {
   "cell_type": "code",
   "execution_count": 10,
   "metadata": {},
   "outputs": [
    {
     "data": {
      "text/plain": [
       "torch.Size([7, 7, 20])"
      ]
     },
     "execution_count": 10,
     "metadata": {},
     "output_type": "execute_result"
    }
   ],
   "source": [
    "s.shape\n",
    "s[0].shape"
   ]
  },
  {
   "cell_type": "code",
   "execution_count": 11,
   "metadata": {},
   "outputs": [
    {
     "name": "stdout",
     "output_type": "stream",
     "text": [
      "torch.Size([2560, 9, 7, 7, 20])\n",
      "torch.Size([2560, 8])\n",
      "torch.Size([2560, 9, 1])\n",
      "torch.Size([2560, 9])\n"
     ]
    }
   ],
   "source": [
    "import torch\n",
    "from torch.utils.data import DataLoader\n",
    "# Assuming necessary imports for your dataset and env\n",
    "\n",
    "dataloader = DataLoader(dataset, batch_size=256, shuffle=True)\n",
    "\n",
    "# Create lists to collect batches\n",
    "obs_list, actions_list, rtg_list, ti_list = [], [], [], []\n",
    "\n",
    "# Iterate through the dataloader\n",
    "for i, batch in enumerate(dataloader):\n",
    "    s, a, r, d, rtg, ti, m = batch\n",
    "    a[a == -10] = env.action_space.n\n",
    "    obs, actions, rtg, ti = preprocess_inputs(dt, s, rtg, a, ti)\n",
    "    \n",
    "    # Append to lists\n",
    "    obs_list.append(obs)\n",
    "    actions_list.append(actions)\n",
    "    rtg_list.append(rtg)\n",
    "    ti_list.append(ti)\n",
    "    \n",
    "    # Break after collecting 10 batches\n",
    "    if i == 9:\n",
    "        break\n",
    "\n",
    "# Concatenate along the batch dimension (assuming it's the 0-th dimension)\n",
    "obs_stacked = torch.cat(obs_list, dim=0)\n",
    "actions_stacked = torch.cat(actions_list, dim=0)\n",
    "rtg_stacked = torch.cat(rtg_list, dim=0)\n",
    "ti_stacked = torch.cat(ti_list, dim=0)\n",
    "\n",
    "# Print shapes\n",
    "print(obs_stacked.shape)\n",
    "print(actions_stacked.shape)\n",
    "print(rtg_stacked.shape)\n",
    "print(ti_stacked.shape)\n"
   ]
  },
  {
   "cell_type": "code",
   "execution_count": 12,
   "metadata": {},
   "outputs": [
    {
     "name": "stdout",
     "output_type": "stream",
     "text": [
      "tensor(0)\n"
     ]
    }
   ],
   "source": [
    "import torch \n",
    "\n",
    "starts_with_padding_mask = (actions_stacked[:,:4] == torch.tensor([7,7,7,7])).sum(dim=1) == 4\n",
    "ends_with_forwards = (actions_stacked[:,-4:] == torch.tensor([2,2,2,2])).sum(dim=1) == 4\n",
    "print(ends_with_forwards.sum())\n"
   ]
  },
  {
   "cell_type": "code",
   "execution_count": 13,
   "metadata": {},
   "outputs": [
    {
     "data": {
      "application/vnd.plotly.v1+json": {
       "config": {
        "plotlyServerURL": "https://plotly.com"
       },
       "data": [
        {
         "hovertemplate": "x: %{x}<br>y: %{y}<br>color: %{z}<extra></extra>",
         "name": "0",
         "source": "data:image/png;base64,iVBORw0KGgoAAAANSUhEUgAAAOAAAADgCAIAAACVT/22AAAFOUlEQVR4Xu3c71HiWhyH8S93LAOsQ+yDWwENyNYhNGAF2gdYh9iH9wWDezxz+SNrch42z2d8kfmtyTDs40mITkbz+TwSVteBevzjPP5x/9QDicRAhWagQjNQoRmo0AxUaAYqNAMVmoEKzUCFZqBCM1ChGajQDFRoBio0AxWagQrNQIVmoEIzUKEZqNAMVGgGKjQDFZqBCs1AhWagQjNQoRmo0AxUaKOuH58n/QlXUKEZqNAMVGgGKjQDFZqBCs1AhWagQjNQoRmo0AxUaAYqNAMVmoEKzUCFZqBCM1ChGajQDFRoBio0AxWagQrNQIVmoEIzUKEZqNAMVGgGKjQDFZqBCs1AhWagQrupBx14enqqRz9nPp97/CN6OH49+lGuoEIzUO2Nk8fkY//1ljwm4/q7emagSpLMknWyKCaTZJGsGzdqoNqvnZN6nCSTZF3P+sQI9C55Ttb7k8s6eU7u6u9SVx4O1LkzSR7qWW9aB3qXvCWbZJZM98NpMks2yZuZ9qI8sy+TUTJKXorhrNjuV9NAH5LNqZ/dTcsf3yH6td8oq/1cO3rXLtCHZFnP/t/SRoerUaB3Z9e5s/Rc35fnJMn463/QptjuV6NAd+/Ct1ywi85UtjhLPpLt1+vO8nq0Xy0CvTt63XnIxEW0M6tkW89+2yaretabFoGWV9/fcvGOOu49uT/Q6Da5r2d9ahHoxb+ZuHhHnbRrtPpgsEhuk/evw361CPTiexYX76hzvBf3mHbandk/tQhUOluLQC++Z3HxjrpaLQK9+Jrm4h11tVoE+q1b9KWLd9Rxn38D+lH/S3MtAn09cEfjuG3yWs/012sRaJJ/68FpF+yiM+3+fGn3BdMo0Ndv3nVfuHwOVKNAk6zObnSBuCGnJtoFmmSVTI9ej26TqXUOWtNAk7wmt8k0eSluc26Sl2Sa3HpmH7o+Htxw2qufgZri3V361HoFlY5irKBqi3d36ZMrqNAMVGgGKrRR14/Pk/7ETbp/fmc9uja+P8d1+v54iheagQrNQIVmoEIzUKEZqNAMVGgGKjQDFZqBCs1AhWagQjNQoRmo0AxUaAYqNAMVmoEKzUCFZqBCM1ChGajQDFRoBio0AxWagQrNQIVmoEIzUKEZqNB8PqjQ/obng3b9+q/9+PXop3X6+j3FC81AhWagQjNQoRmo0AxUaAYqNAMVmoEKzUCFZqBCM1ChGajQDFRoBio0AxWagQrNQIVmoEIzUKEZqNAMVGgGKjQDFZqBCs1AhWagQjNQoRmo0AxUaD4fVGg+H/SEHp7f2fXx69FP6/T1e4oXmoEKzUCFZqBCM1ChGajQDFRoBio0AxWagQrNQIVmoEIzUKEZqNAMVGgGKjQDFZqBCs1AhWagQjNQoRmo0AxUaAYqNAMVmoEKzUCFZqBCM1ChGajQfD6o0Hw+6Ak9PL+z6+PXo5/W6ev3FC+0IQU6Th6Tj/3XW/KYjOvvEspgAp0l62RRTCbJIlnbKNowAt2tnZN6nCSTZF3PxDGMQB8O1LkzSR7qmSCGEWh5Zl8mo2SUvBTDWbEtkmEEWvq13yirnRbbIhleoLoqwwv0OUkyTpbFcFNsi2QYgZYtzpKPZPv1urO8HhXJMAJdJdt69ts2WdUzQQwj0Pfk/kCj2+S+noljGIFm32h5rk+ySG6T969DkQwm0CTvxT2mHc/seEMKVFfIQIVmoEK7qQd/pY96oGvhCiq0Yaygo2Lb1fSquIIKzUCFZqBCM1ChDeNDkh+MrpYrqNCGsYKWt5l0VVxBhWagQjNQof0Hv4LBvuJ54cIAAAAASUVORK5CYII=",
         "type": "image",
         "xaxis": "x",
         "yaxis": "y"
        }
       ],
       "frames": [
        {
         "data": [
          {
           "name": "0",
           "source": "data:image/png;base64,iVBORw0KGgoAAAANSUhEUgAAAOAAAADgCAIAAACVT/22AAAFOUlEQVR4Xu3c71HiWhyH8S93LAOsQ+yDWwENyNYhNGAF2gdYh9iH9wWDezxz+SNrch42z2d8kfmtyTDs40mITkbz+TwSVteBevzjPP5x/9QDicRAhWagQjNQoRmo0AxUaAYqNAMVmoEKzUCFZqBCM1ChGajQDFRoBio0AxWagQrNQIVmoEIzUKEZqNAMVGgGKjQDFZqBCs1AhWagQjNQoRmo0AxUaKOuH58n/QlXUKEZqNAMVGgGKjQDFZqBCs1AhWagQjNQoRmo0AxUaAYqNAMVmoEKzUCFZqBCM1ChGajQDFRoBio0AxWagQrNQIVmoEIzUKEZqNAMVGgGKjQDFZqBCs1AhWagQrupBx14enqqRz9nPp97/CN6OH49+lGuoEIzUO2Nk8fkY//1ljwm4/q7emagSpLMknWyKCaTZJGsGzdqoNqvnZN6nCSTZF3P+sQI9C55Ttb7k8s6eU7u6u9SVx4O1LkzSR7qWW9aB3qXvCWbZJZM98NpMks2yZuZ9qI8sy+TUTJKXorhrNjuV9NAH5LNqZ/dTcsf3yH6td8oq/1cO3rXLtCHZFnP/t/SRoerUaB3Z9e5s/Rc35fnJMn463/QptjuV6NAd+/Ct1ywi85UtjhLPpLt1+vO8nq0Xy0CvTt63XnIxEW0M6tkW89+2yaretabFoGWV9/fcvGOOu49uT/Q6Da5r2d9ahHoxb+ZuHhHnbRrtPpgsEhuk/evw361CPTiexYX76hzvBf3mHbandk/tQhUOluLQC++Z3HxjrpaLQK9+Jrm4h11tVoE+q1b9KWLd9Rxn38D+lH/S3MtAn09cEfjuG3yWs/012sRaJJ/68FpF+yiM+3+fGn3BdMo0Ndv3nVfuHwOVKNAk6zObnSBuCGnJtoFmmSVTI9ej26TqXUOWtNAk7wmt8k0eSluc26Sl2Sa3HpmH7o+Htxw2qufgZri3V361HoFlY5irKBqi3d36ZMrqNAMVGgGKrRR14/Pk/7ETbp/fmc9uja+P8d1+v54iheagQrNQIVmoEIzUKEZqNAMVGgGKjQDFZqBCs1AhWagQjNQoRmo0AxUaAYqNAMVmoEKzUCFZqBCM1ChGajQDFRoBio0AxWagQrNQIVmoEIzUKEZqNB8PqjQ/obng3b9+q/9+PXop3X6+j3FC81AhWagQjNQoRmo0AxUaAYqNAMVmoEKzUCFZqBCM1ChGajQDFRoBio0AxWagQrNQIVmoEIzUKEZqNAMVGgGKjQDFZqBCs1AhWagQjNQoRmo0AxUaD4fVGg+H/SEHp7f2fXx69FP6/T1e4oXmoEKzUCFZqBCM1ChGajQDFRoBio0AxWagQrNQIVmoEIzUKEZqNAMVGgGKjQDFZqBCs1AhWagQjNQoRmo0AxUaAYqNAMVmoEKzUCFZqBCM1ChGajQfD6o0Hw+6Ak9PL+z6+PXo5/W6ev3FC+0IQU6Th6Tj/3XW/KYjOvvEspgAp0l62RRTCbJIlnbKNowAt2tnZN6nCSTZF3PxDGMQB8O1LkzSR7qmSCGEWh5Zl8mo2SUvBTDWbEtkmEEWvq13yirnRbbIhleoLoqwwv0OUkyTpbFcFNsi2QYgZYtzpKPZPv1urO8HhXJMAJdJdt69ts2WdUzQQwj0Pfk/kCj2+S+noljGIFm32h5rk+ySG6T969DkQwm0CTvxT2mHc/seEMKVFfIQIVmoEK7qQd/pY96oGvhCiq0Yaygo2Lb1fSquIIKzUCFZqBCM1ChDeNDkh+MrpYrqNCGsYKWt5l0VVxBhWagQjNQof0Hv4LBvuJ54cIAAAAASUVORK5CYII=",
           "type": "image"
          }
         ],
         "layout": {
          "margin": {
           "t": 60
          }
         },
         "name": "0"
        },
        {
         "data": [
          {
           "name": "1",
           "source": "data:image/png;base64,iVBORw0KGgoAAAANSUhEUgAAAOAAAADgCAIAAACVT/22AAAEfUlEQVR4Xu3c4TEkWxzG4detDQNxsHm4EUiAG8eSgAjIA3EgD/fDFHd0XYNZ3ee1nqd8mPqv7pqyP93tUGfn+Pg4UGvuQJ1/M+ff7K/pAJoIlGoCpZpAqSZQqgmUagKlmkCpJlCqCZRqAqWaQKkmUKoJlGoCpZpAqSZQqgmUagKlmkCpJlCqCZRqAqWaQKkmUKoJlGoCpZpAqSZQqgmUajtzb58Hv2XuQJ1/M+ffzC2eagKlmkCpJlCqCZRqAqWaQKkmUKoJlGoCpZpAqSZQqgmUagKlmkCpJlCqCZRqAqWaQKkmUKoJlGoCpZpAqSZQqgmUagKlmkCpJlCqCZRqAqWa/UGp5gpKNYFSTaBUEyjVBEo1gVJNoFQTKNUESjWBUk2gVBMo1QRKNYFSTaBUEyjVBEo1gVJNoFQTKNUESjWBUk2gVBMo1QRKNYFSTaBUEyjVBEo1gVJNoFQTKNV+TAczuLi4mI4+z/HxsfNvsMD5p6NP5QpKNYHyZDf5lTw+fdwlv5Ld6WctTKAkSY6S6+R0bbKXnCbXgxsVKE/Xzr3pOEn2kuvpbEkdgR4kl8n1083lOrlMDqafxVxOXqlzZS85mc4WMzrQg+QuuUmOksOn4WFylNwkdzJdxPqd/SzZSXaSq7Xh0drrZQ0N9CS5eet792bkt+939M/Ti/Vqn68dixsX6ElyNp39vzONfl+DAj14d50rZ+71S7lMkuy+/A+6WXu9rEGBrr4KH7LFIbzTeotHyWNy//K5c/15dFkjAj3Y+Nz5mj0X0dmcJ/fT2X/uk/PpbDEjAl1/+v6QrQ9ks4fk5yuN3ic/p7MljQh0699MbH0gb1o1OvnB4DTZTx5eDpc1ItCt1yy2PpD3eFhbY1oZd2d/NiJQeLcRgW69ZrH1gXxZIwLd+plm6wP5skYE+qEl+nVbH8hmz38D+jj9l+FGBHr7yorGZvfJ7XTGH29EoEn+ng7etsUhvNPqz5dWH2UGBXr7wVX3U5fPb2pQoEnO393oacWCHEOMCzTJeXK48Xn0PjlU57c2NNAkt8l+cphcrS1z3iRXyWGy787+3S2xccPbbv0MNFTf6tKz0VdQ2KjjCspYfatLz1xBqSZQqgmUajtzb58Hv+NH5t+/czr6anx9Npv16+MWTzWBUk2gVBMo1QRKNYFSTaBUEyjVBEo1gVJNoFQTKNUESjWBUk2gVBMo1QRKNYFSTaBUEyjVBEo1gVJNoFQTKNUESjWBUk2gVBMo1QRKNYFSzf6gVPsT9ged+/1/9fNPR59t1vfvFk81gVJNoFQTKNUESjWBUk2gVBMo1QRKNYFSTaBUEyjVBEo1gVJNoFQTKNUESjWBUk2gVBMo1QRKNYFSTaBUEyjVBEo1gVJNoFQTKNUESjWBUs3+oFSzP+gbFti/c+7zT0efbdb37xZPNYFSTaBUEyjVBEo1gVJNoFQTKNUESjWBUk2gVBMo1QRKNYFSTaBUEyjVBEo1gVJNoFQTKNUESjWBUk2gVBMo1QRKNYFSTaBUEyjVBEo1gVLtX/4amhfJiDMyAAAAAElFTkSuQmCC",
           "type": "image"
          }
         ],
         "layout": {
          "margin": {
           "t": 60
          }
         },
         "name": "1"
        },
        {
         "data": [
          {
           "name": "2",
           "source": "data:image/png;base64,iVBORw0KGgoAAAANSUhEUgAAAOAAAADgCAIAAACVT/22AAAEdUlEQVR4Xu3c4TEkWxzG4detDQNxsHm4EUiAG8eSgAjIA3EgD/fDFHd0XY1Z0+e1nqd8mPqv7lKzP33aoXrn+Pg4UGvbgTr/POef99d0AE0ESjWBUk2gVBMo1QRKNYFSTaBUEyjVBEo1gVJNoFQTKNUESjWBUk2gVBMo1QRKNYFSTaBUEyjVBEo1gVJNoFQTKNUESjWBUk2gVBMo1QRKtZ1tPz4Pfsu2A3X+ec4/zxJPNYFSTaBUEyjVBEo1gVJNoFQTKNUESjWBUk2gVBMo1QRKNYFSTaBUEyjVBEo1gVJNoFQTKNUESjWBUk2gVBMo1QRKNYFSTaBUEyjVBEo1gVLN80Hptu1AnX+e88+zxFNNoFQTKNUESjWBUk2gVBMo1QRKNYFSTaBUEyjVBEo1gVJNoFQTKNUESjWBUk2gVBMo1QRKNYFSTaBUEyjVBEo1gVJNoFQTKNUESjWBUk2gVPN8UKq5glJNoFQTKNUESjWBUk2gVBMo1QRKNYFSTaBUEyjVBEo1gVJNoFQTKNUESjWBUk2gVBMo1QRKNYFSTaBUEyjVBEo1gVJNoFQTKNUESjWBUk2gVBMo1QRKtR/TwRZcXFxMR5/n+PjY+WcscP7p6FO5glJNoDzZTX4lj08fd8mvZHf6WQsTKEmSo+Q6OV2b7CWnyfXgRgXK07VzbzpOkr3kejpbUkegB8llcv20uFwnl8nB9LPYlpNX6lzZS06ms8WMDvQguUtukqPk8Gl4mBwlN8mdTBexvrKfJTvJTnK1Njxae72soYGeJDdvfe/ejPz2/Y7+eXqxXu3ztWNx4wI9Sc6ms/93ptHva1CgB++uc+XMWr+UyyTJ7sv/oJu118saFOjqXfiQDQ7hndZbPEoek/uX953r96PLGhHowex952v2XES35jy5n87+c5+cT2eLGRHo+t33h2x8IPMekp+vNHqf/JzOljQi0I1/M7Hxgbxp1ejkB4PTZD95eDlc1ohAN96z2PhA3uNhbY9pZdzK/mxEoPBuIwLdeM9i4wP5skYEuvE9zcYH8mWNCPRDW/TrNj6Qec9/A/o4/ZfhRgR6+8qOxrz75HY64483ItAkf08Hb9vgEN5p9edLq48ygwK9/eCu+6nL5zc1KNAk5+9u9LRiQ44hxgWa5Dw5nL0fvU8O1fmtDQ00yW2ynxwmV2vbnDfJVXKY7FvZv7slHtzwtls/Aw3Vt7v0bPQVFGZ1XEEZq2936ZkrKNUESjWBUm1n24/Pg9/xI9t/fud09NV4f+Zt9f2xxFNNoFQTKNUESjWBUk2gVBMo1QRKNYFSTaBUEyjVBEo1gVJNoFQTKNUESjWBUk2gVBMo1QRKNYFSTaBUEyjVBEo1gVJNoFQTKNUESjWBUk2gVPN8UKr9Cc8H3fbX/9XPPx19tq1+/ZZ4qgmUagKlmkCpJlCqCZRqAqWaQKkmUKoJlGoCpZpAqSZQqgmUagKlmkCpJlCqCZRqAqWaQKkmUKoJlGoCpZpAqSZQqgmUagKlmkCpJlCqCZRq/wKda5Rzp/62cgAAAABJRU5ErkJggg==",
           "type": "image"
          }
         ],
         "layout": {
          "margin": {
           "t": 60
          }
         },
         "name": "2"
        },
        {
         "data": [
          {
           "name": "3",
           "source": "data:image/png;base64,iVBORw0KGgoAAAANSUhEUgAAAOAAAADgCAIAAACVT/22AAAEdUlEQVR4Xu3c4TEkWxzG4detDQNxsHm4EUiAG8eSgAjIA3EgD/fDFHd0XY1Z0+e1nqd8mPqv7lKzP33aoXrn+Pg4UGvbgTr/POef99d0AE0ESjWBUk2gVBMo1QRKNYFSTaBUEyjVBEo1gVJNoFQTKNUESjWBUk2gVBMo1QRKNYFSTaBUEyjVBEo1gVJNoFQTKNUESjWBUk2gVBMo1QRKtZ1tPz4Pfsu2A3X+ec4/zxJPNYFSTaBUEyjVBEo1gVJNoFQTKNUESjWBUk2gVBMo1QRKNYFSTaBUEyjVBEo1gVJNoFQTKNUESjWBUk2gVBMo1QRKNYFSTaBUEyjVBEo1gVLN80Hptu1AnX+e88+zxFNNoFQTKNUESjWBUk2gVBMo1QRKNYFSTaBUEyjVBEo1gVJNoFQTKNUESjWBUk2gVBMo1QRKNYFSTaBUEyjVBEo1gVJNoFQTKNUESjWBUk2gVPN8UKq5glJNoFQTKNUESjWBUk2gVBMo1QRKNYFSTaBUEyjVBEo1gVJNoFQTKNUESjWBUk2gVBMo1QRKNYFSTaBUEyjVBEo1gVJNoFQTKNUESjWBUk2gVBMo1QRKtR/TwRZcXFxMR5/n+PjY+WcscP7p6FO5glJNoDzZTX4lj08fd8mvZHf6WQsTKEmSo+Q6OV2b7CWnyfXgRgXK07VzbzpOkr3kejpbUkegB8llcv20uFwnl8nB9LPYlpNX6lzZS06ms8WMDvQguUtukqPk8Gl4mBwlN8mdTBexvrKfJTvJTnK1Njxae72soYGeJDdvfe/ejPz2/Y7+eXqxXu3ztWNx4wI9Sc6ms/93ptHva1CgB++uc+XMWr+UyyTJ7sv/oJu118saFOjqXfiQDQ7hndZbPEoek/uX953r96PLGhHowex952v2XES35jy5n87+c5+cT2eLGRHo+t33h2x8IPMekp+vNHqf/JzOljQi0I1/M7Hxgbxp1ejkB4PTZD95eDlc1ohAN96z2PhA3uNhbY9pZdzK/mxEoPBuIwLdeM9i4wP5skYEuvE9zcYH8mWNCPRDW/TrNj6Qec9/A/o4/ZfhRgR6+8qOxrz75HY64483ItAkf08Hb9vgEN5p9edLq48ygwK9/eCu+6nL5zc1KNAk5+9u9LRiQ44hxgWa5Dw5nL0fvU8O1fmtDQ00yW2ynxwmV2vbnDfJVXKY7FvZv7slHtzwtls/Aw3Vt7v0bPQVFGZ1XEEZq2936ZkrKNUESjWBUm1n24/Pg9/xI9t/fud09NV4f+Zt9f2xxFNNoFQTKNUESjWBUk2gVBMo1QRKNYFSTaBUEyjVBEo1gVJNoFQTKNUESjWBUk2gVBMo1QRKNYFSTaBUEyjVBEo1gVJNoFQTKNUESjWBUk2gVPN8UKr9Cc8H3fbX/9XPPx19tq1+/ZZ4qgmUagKlmkCpJlCqCZRqAqWaQKkmUKoJlGoCpZpAqSZQqgmUagKlmkCpJlCqCZRqAqWaQKkmUKoJlGoCpZpAqSZQqgmUagKlmkCpJlCqCZRq/wKda5Rzp/62cgAAAABJRU5ErkJggg==",
           "type": "image"
          }
         ],
         "layout": {
          "margin": {
           "t": 60
          }
         },
         "name": "3"
        },
        {
         "data": [
          {
           "name": "4",
           "source": "data:image/png;base64,iVBORw0KGgoAAAANSUhEUgAAAOAAAADgCAIAAACVT/22AAAEdUlEQVR4Xu3c4TEkWxzG4detDQNxsHm4EUiAG8eSgAjIA3EgD/fDFHd0XY1Z0+e1nqd8mPqv7lKzP33aoXrn+Pg4UGvbgTr/POef99d0AE0ESjWBUk2gVBMo1QRKNYFSTaBUEyjVBEo1gVJNoFQTKNUESjWBUk2gVBMo1QRKNYFSTaBUEyjVBEo1gVJNoFQTKNUESjWBUk2gVBMo1QRKtZ1tPz4Pfsu2A3X+ec4/zxJPNYFSTaBUEyjVBEo1gVJNoFQTKNUESjWBUk2gVBMo1QRKNYFSTaBUEyjVBEo1gVJNoFQTKNUESjWBUk2gVBMo1QRKNYFSTaBUEyjVBEo1gVLN80Hptu1AnX+e88+zxFNNoFQTKNUESjWBUk2gVBMo1QRKNYFSTaBUEyjVBEo1gVJNoFQTKNUESjWBUk2gVBMo1QRKNYFSTaBUEyjVBEo1gVJNoFQTKNUESjWBUk2gVPN8UKq5glJNoFQTKNUESjWBUk2gVBMo1QRKNYFSTaBUEyjVBEo1gVJNoFQTKNUESjWBUk2gVBMo1QRKNYFSTaBUEyjVBEo1gVJNoFQTKNUESjWBUk2gVBMo1QRKtR/TwRZcXFxMR5/n+PjY+WcscP7p6FO5glJNoDzZTX4lj08fd8mvZHf6WQsTKEmSo+Q6OV2b7CWnyfXgRgXK07VzbzpOkr3kejpbUkegB8llcv20uFwnl8nB9LPYlpNX6lzZS06ms8WMDvQguUtukqPk8Gl4mBwlN8mdTBexvrKfJTvJTnK1Njxae72soYGeJDdvfe/ejPz2/Y7+eXqxXu3ztWNx4wI9Sc6ms/93ptHva1CgB++uc+XMWr+UyyTJ7sv/oJu118saFOjqXfiQDQ7hndZbPEoek/uX953r96PLGhHowex952v2XES35jy5n87+c5+cT2eLGRHo+t33h2x8IPMekp+vNHqf/JzOljQi0I1/M7Hxgbxp1ejkB4PTZD95eDlc1ohAN96z2PhA3uNhbY9pZdzK/mxEoPBuIwLdeM9i4wP5skYEuvE9zcYH8mWNCPRDW/TrNj6Qec9/A/o4/ZfhRgR6+8qOxrz75HY64483ItAkf08Hb9vgEN5p9edLq48ygwK9/eCu+6nL5zc1KNAk5+9u9LRiQ44hxgWa5Dw5nL0fvU8O1fmtDQ00yW2ynxwmV2vbnDfJVXKY7FvZv7slHtzwtls/Aw3Vt7v0bPQVFGZ1XEEZq2936ZkrKNUESjWBUm1n24/Pg9/xI9t/fud09NV4f+Zt9f2xxFNNoFQTKNUESjWBUk2gVBMo1QRKNYFSTaBUEyjVBEo1gVJNoFQTKNUESjWBUk2gVBMo1QRKNYFSTaBUEyjVBEo1gVJNoFQTKNUESjWBUk2gVPN8UKr9Cc8H3fbX/9XPPx19tq1+/ZZ4qgmUagKlmkCpJlCqCZRqAqWaQKkmUKoJlGoCpZpAqSZQqgmUagKlmkCpJlCqCZRqAqWaQKkmUKoJlGoCpZpAqSZQqgmUagKlmkCpJlCqCZRq/wKda5Rzp/62cgAAAABJRU5ErkJggg==",
           "type": "image"
          }
         ],
         "layout": {
          "margin": {
           "t": 60
          }
         },
         "name": "4"
        },
        {
         "data": [
          {
           "name": "5",
           "source": "data:image/png;base64,iVBORw0KGgoAAAANSUhEUgAAAOAAAADgCAIAAACVT/22AAAEaklEQVR4Xu3c4TEtSQCG4c/WDQNxcPOwEUiAG8clARGQB+JAHvbHKfaYWoNznenPep7y41QzXYpX92hqdo6PjwO1th2o+eeZf95f0wFoIlCqCZRqAqWaQKkmUKoJlGoCpZpAqSZQqgmUagKlmkCpJlCqCZRqAqWaQKkmUKoJlGoCpZpAqSZQqgmUagKlmkCpJlCqCZRqAqWaQKkmUKrtbPvxefBHth2o+eeZf54tnmoCpZpAqSZQqgmUagKlmkCpJlCqCZRqAqWaQKkmUKoJlGoCpZpAqSZQqgmUagKlmkCpJlCqCZRqAqWaQKkmUKoJlGoCpZpAqSZQqgmUagKlmueD0m3bgZp/nvnn2eKpJlCqCZRqAqWaQKkmUKoJlGoCpZpAqSZQqgmUagKlmkCpJlCqCZRqAqWaQKkmUKoJlGoCpZpAqSZQqgmUagKlmkCpJlCqCZRqAqWaQKkmUKp5Pijdth2o+eeZf54tnmoCpZpAqSZQqgmUagKlmkCpJlCqCZRqAqWaQKkmUKoJlGoCpZpAqSZQqgmUagKlmkCpJlCqCZRqAqWaQKkmUKoJlGoCpZpAqSZQqgmUagKlmueDUs0KSjWBUk2gVBMo1QRKNYFSTaBUEyjVBEo1gVJNoFQTKNUESjWBUk2gVBMo1QRKNYFSTaBUEyjVBEo1gVJNoFQTKNUESjWBUk2gVBMo1QRKNYFSTaBUEyjVfkwHtuDi4mI69HmOj4/NP2OB+adDn8oKSjWB8mQ3+Z08Pr3dJb+T3elHLUygJEmOkuvkdG1kLzlNrgc3KlCe1s696XCS7CXX07EldQR6kFwm10+by3VymRxMP4ptOXmlzpW95GQ6tpjRgR4kd8lNcpQcPg0eJkfJTXIn00Ws7+xnyU6yk1ytDR6tvV7W0EBPkpu3fnZvRv74fke/nl6sV/u8dixuXKAnydl07L+dafT7GhTowbvrXDmz1y/lMkmy+/IbdLP2elmDAl19FT5kg0t4p/UWj5LH5P7lfef6/eiyRgR6MHvf+Zo9i+jWnCf307F/3Sfn07HFjAh0/e77Qza+kHkPyc9XGr1Pfk7HljQi0I3/MrHxhbxp1ejkF4PTZD95eDm4rBGBbnxmsfGFvMfD2hnTyrid/dmIQOHdRgS68ZnFxhfyZY0IdON7mo0v5MsaEeiHjujXbXwh857/B/Rx+p7hRgR6+8qJxrz75HY6xv/eiECT/D0deNsGl/BOq39fWr2VGRTo7QdP3U8tn9/UoECTnL+70dOKAzmGGBdokvPkcPZ+9D45VOe3NjTQJLfJfnKYXK0dc94kV8lhsm9n/+6WeHDD2279DjRU3+nSs9ErKMzqWEEZq+906ZkVlGoCpZpAqbaz7cfnwZ/4ka///M7p0Gfz+c/Y9vfXFk81gVJNoFQTKNUESjWBUk2gVBMo1QRKNYFSTaBUEyjVBEo1gVJNoFQTKNUESjWBUk2gVBMo1QRKNYFSTaBUEyjVBEo1gVJNoFQTKNUESjWBUu0fO0iUz44D2QoAAAAASUVORK5CYII=",
           "type": "image"
          }
         ],
         "layout": {
          "margin": {
           "t": 60
          }
         },
         "name": "5"
        },
        {
         "data": [
          {
           "name": "6",
           "source": "data:image/png;base64,iVBORw0KGgoAAAANSUhEUgAAAOAAAADgCAIAAACVT/22AAAEaklEQVR4Xu3c4TEtSQCG4c/WDQNxcPOwEUiAG8clARGQB+JAHvbHKfaYWoNznenPep7y41QzXYpX92hqdo6PjwO1th2o+eeZf95f0wFoIlCqCZRqAqWaQKkmUKoJlGoCpZpAqSZQqgmUagKlmkCpJlCqCZRqAqWaQKkmUKoJlGoCpZpAqSZQqgmUagKlmkCpJlCqCZRqAqWaQKkmUKrtbPvxefBHth2o+eeZf54tnmoCpZpAqSZQqgmUagKlmkCpJlCqCZRqAqWaQKkmUKoJlGoCpZpAqSZQqgmUagKlmkCpJlCqCZRqAqWaQKkmUKoJlGoCpZpAqSZQqgmUagKlmueD0m3bgZp/nvnn2eKpJlCqCZRqAqWaQKkmUKoJlGoCpZpAqSZQqgmUagKlmkCpJlCqCZRqAqWaQKkmUKoJlGoCpZpAqSZQqgmUagKlmkCpJlCqCZRqAqWaQKkmUKp5Pijdth2o+eeZf54tnmoCpZpAqSZQqgmUagKlmkCpJlCqCZRqAqWaQKkmUKoJlGoCpZpAqSZQqgmUagKlmkCpJlCqCZRqAqWaQKkmUKoJlGoCpZpAqSZQqgmUagKlmueDUs0KSjWBUk2gVBMo1QRKNYFSTaBUEyjVBEo1gVJNoFQTKNUESjWBUk2gVBMo1QRKNYFSTaBUEyjVBEo1gVJNoFQTKNUESjWBUk2gVBMo1QRKNYFSTaBUEyjVfkwHtuDi4mI69HmOj4/NP2OB+adDn8oKSjWB8mQ3+Z08Pr3dJb+T3elHLUygJEmOkuvkdG1kLzlNrgc3KlCe1s696XCS7CXX07EldQR6kFwm10+by3VymRxMP4ptOXmlzpW95GQ6tpjRgR4kd8lNcpQcPg0eJkfJTXIn00Ws7+xnyU6yk1ytDR6tvV7W0EBPkpu3fnZvRv74fke/nl6sV/u8dixuXKAnydl07L+dafT7GhTowbvrXDmz1y/lMkmy+/IbdLP2elmDAl19FT5kg0t4p/UWj5LH5P7lfef6/eiyRgR6MHvf+Zo9i+jWnCf307F/3Sfn07HFjAh0/e77Qza+kHkPyc9XGr1Pfk7HljQi0I3/MrHxhbxp1ejkF4PTZD95eDm4rBGBbnxmsfGFvMfD2hnTyrid/dmIQOHdRgS68ZnFxhfyZY0IdON7mo0v5MsaEeiHjujXbXwh857/B/Rx+p7hRgR6+8qJxrz75HY6xv/eiECT/D0deNsGl/BOq39fWr2VGRTo7QdP3U8tn9/UoECTnL+70dOKAzmGGBdokvPkcPZ+9D45VOe3NjTQJLfJfnKYXK0dc94kV8lhsm9n/+6WeHDD2279DjRU3+nSs9ErKMzqWEEZq+906ZkVlGoCpZpAqbaz7cfnwZ/4ka///M7p0Gfz+c/Y9vfXFk81gVJNoFQTKNUESjWBUk2gVBMo1QRKNYFSTaBUEyjVBEo1gVJNoFQTKNUESjWBUk2gVBMo1QRKNYFSTaBUEyjVBEo1gVJNoFQTKNUESjWBUu0fO0iUz44D2QoAAAAASUVORK5CYII=",
           "type": "image"
          }
         ],
         "layout": {
          "margin": {
           "t": 60
          }
         },
         "name": "6"
        },
        {
         "data": [
          {
           "name": "7",
           "source": "data:image/png;base64,iVBORw0KGgoAAAANSUhEUgAAAOAAAADgCAIAAACVT/22AAAEYUlEQVR4Xu3c0VEjRwBF0YfLYcDGAZsHjoAEYONYSIAIIA9EHIg88IcKLKbMAPJq+q05p/hQNUx/wKV71FBzcHZ2Fqi170DNP8/88/6YDkATgVJNoFQTKNUESjWBUk2gVBMo1QRKNYFSTaBUEyjVBEo1gVJNoFQTKNUESjWBUk2gVBMo1QRKNYFSTaBUEyjVBEo1gVJNoFQTKNUESjWBUu1g34/Pg/9k34Gaf57559niqSZQqgmUagKlmkCpJlCqCZRqAqWaQKkmUKoJlGoCpZpAqSZQqgmUagKlmkCpJlCqCZRqAqWaQKkmUKoJlGoCpZpAqSZQqgmUagKlmkCpJlCqeT4o3fYdqPnnmX+eLZ5qAqWaQKkmUKoJlGoCpZpAqSZQqgmUagKlmkCpJlCqCZRqAqWaQKkmUKoJlGoCpZpAqSZQqgmUagKlmkCpJlCqCZRqAqWaQKkmUKoJlGoCpZrng9Jt34Gaf57559niqSZQqgmUagKlmkCpJlCqCZRqAqWaQKkmUKoJlGoCpZpAqSZQqgmUagKlmkCpJlCqCZRqAqWaQKkmUKoJlGoCpZpAqSZQqgmUagKlmkCpJlCqeT4o3fYdqPnnmX+eLZ5qAqWaQKkmUKoJlGoCpZpAqSZQqgmUagKlmkCpJlCqCZRqAqWaQKkmUKoJlGoCpZpAqSZQqgmUagKlmkCpJlCqCZRqAqWaQKkmUKoJlGoCpZrng1LNCko1gVJNoFQTKNUESjWBUk2gVBMo1QRKNYFSTaBUEyjVBEo1gVJNoFQTKNUESjWBUk2gVBMo1QRKNYFSTaBUEyjVBEo1gVJNoFQTKNUESjWBUk2gVBMo1f6cDuzB9fX1dOjXOTs7M/+MBeafDv1SVlCqCZRnh8nP5On54yH5mRxOv2phAiVJcprcJRdbI0fJRXI3uFGB8rx2Hk2Hk+QouZuOLakj0OPkJrl73lzukpvkePpV7Mv5G3VuHCXn07HFjA70OHlIVslpcvI8eJKcJqvkQaaL2N7ZL5OD5CC53Ro83Xq9rKGBnier9353VyN/fb+iH88vtqt9WTsWNy7Q8+RyOvbvLjX6dQ0K9PjDdW5c2uuXcpMkOXz9A1ptvV7WoEA334VP2eESPmi7xdPkKVm/vu/cvh9d1ohAj2fvO99yZBHdm6tkPR37xzq5mo4tZkSg23ffn7Lzhcx7TL6/0eg6+T4dW9KIQHf+y8TOF/KuTaOTNwYXybfk8fXgskYEuvOZxc4X8hGPW2dMG+N29hcjAoUPGxHozmcWO1/Ib2tEoDvf0+x8Ib+tEYF+6oh+284XMu/lf0Cfpp8ZbkSg92+caMxbJ/fTMf73RgSa5K/pwPt2uIQP2vz70uajzKBA7z956n5h+fyiBgWa5OrDjV5UHMgxxLhAk1wlJ7P3o+vkRJ1f2tBAk9wn35KT5HbrmHOV3CYnyTc7+1e3xIMb3nfvPdBQfadLL0avoDCrYwVlrL7TpRdWUKoJlGoCpdrfPZ2PKz3yg+4AAAAASUVORK5CYII=",
           "type": "image"
          }
         ],
         "layout": {
          "margin": {
           "t": 60
          }
         },
         "name": "7"
        },
        {
         "data": [
          {
           "name": "8",
           "source": "data:image/png;base64,iVBORw0KGgoAAAANSUhEUgAAAOAAAADgCAIAAACVT/22AAADjklEQVR4Xu3c0U1bSRSA4eNVyoDtI+mDDtxA2DqSNEAFmz5IHwt9sA8o2suVYvAylv5I3ycero7QyIJfM7Yf5nA8HgeyLh2o9U+z/ml/7AdQIlDSBEqaQEkTKGkCJU2gpAmUNIGSJlDSBEqaQEkTKGkCJU2gpAmUNIGSJlDSBEqaQEkTKGkCJU2gpAmUNIGSJlDSBEqaQEkTKGkCJe1w6evz4F0uHaj1T7P+aY540gRKmkBJEyhpAiVNoKQJlDSBkiZQ0gRKmkBJEyhpAiVNoKQJlDSBkiZQ0gRKmkBJEyhpAiVNoKQJlDSBkiZQ0gRKmkBJEyhpAiVNoKS5H5S2Swdq/dOsf5ojnjSBkiZQ0gRKmkBJEyhpAiVNoKQJlDSBkiZQ0gRKmkBJEyhpAiVNoKQJlDSBkiZQ0gRKmkBJEyhpAiVNoKQJlDSBkiZQ0gRKmkBJEyhp7gcl7cPM3N3d7cfrHI/HS6+/H/HSpf/+F13fEU+aQEkTKGkCJU2gpAmUNIGSJlDSBEqaQEkTKGkCJU2gpAmUNIGSJlDSBEqaQEkTKGkCJU2gpAmUNIGSJlDSBEqaQEkTKGkCJU2gpAmUNPeDkuZ+0Nf97q//t+aIJ02g61zNfJl5+vnzz8yXmav9b3EWgS5yM3M/c7uZXM/cztxr9F0EusLz3nm9H8/MXM/c72e8nUBX+PyLOp9dz3zez3gjga6wPdm/zhxmDjPfN8ObzTPnEOhqf/182Fb7cfPMOQRKmkBX+3tmZq5mvm6GPzbPnEOgK2xbvJl5mnl4+b5z+36Ucwh0hW8zD/vZfx5mvu1nvJFAV3ic+fSLRh9mPu1nvJ1AF3ludHvWz8ztzJ8zjy+HnEOg6zxuvmN65mR/N4GSJlDSBErah/2A/+FpP2AVOyhpdtAVDptnu+lSdlDSBEqaQEkTKGk+JK3gg9HF2EFJs4OusP2aiaXsoKQJlDSBkuZ+UNLcD/o6r/+ES/9/HfGkCZQ0gZImUNIESppASRMoaQIlTaCkCZQ0gZImUNIESppASRMoaQIlTaCkCZQ0gZImUNIESppASRMoaQIlTaCkCZQ0gZImUNIESppASXM/KGnuB33dpV+/9U9wxJMmUNIESppASRMoaQIlTaCkCZQ0gZImUNIESppASRMoaQIlTaCkCZQ0gZImUNIESppASRMoaQIlTaCkCZQ0gZImUNIESppASRMoaQIl7V8QnncLcM5/VwAAAABJRU5ErkJggg==",
           "type": "image"
          }
         ],
         "layout": {
          "margin": {
           "t": 60
          }
         },
         "name": "8"
        }
       ],
       "layout": {
        "margin": {
         "t": 60
        },
        "sliders": [
         {
          "active": 0,
          "currentvalue": {
           "prefix": "animation_frame="
          },
          "len": 0.9,
          "pad": {
           "b": 10,
           "t": 60
          },
          "steps": [
           {
            "args": [
             [
              "0"
             ],
             {
              "frame": {
               "duration": 0,
               "redraw": true
              },
              "fromcurrent": true,
              "mode": "immediate",
              "transition": {
               "duration": 0,
               "easing": "linear"
              }
             }
            ],
            "label": "0",
            "method": "animate"
           },
           {
            "args": [
             [
              "1"
             ],
             {
              "frame": {
               "duration": 0,
               "redraw": true
              },
              "fromcurrent": true,
              "mode": "immediate",
              "transition": {
               "duration": 0,
               "easing": "linear"
              }
             }
            ],
            "label": "1",
            "method": "animate"
           },
           {
            "args": [
             [
              "2"
             ],
             {
              "frame": {
               "duration": 0,
               "redraw": true
              },
              "fromcurrent": true,
              "mode": "immediate",
              "transition": {
               "duration": 0,
               "easing": "linear"
              }
             }
            ],
            "label": "2",
            "method": "animate"
           },
           {
            "args": [
             [
              "3"
             ],
             {
              "frame": {
               "duration": 0,
               "redraw": true
              },
              "fromcurrent": true,
              "mode": "immediate",
              "transition": {
               "duration": 0,
               "easing": "linear"
              }
             }
            ],
            "label": "3",
            "method": "animate"
           },
           {
            "args": [
             [
              "4"
             ],
             {
              "frame": {
               "duration": 0,
               "redraw": true
              },
              "fromcurrent": true,
              "mode": "immediate",
              "transition": {
               "duration": 0,
               "easing": "linear"
              }
             }
            ],
            "label": "4",
            "method": "animate"
           },
           {
            "args": [
             [
              "5"
             ],
             {
              "frame": {
               "duration": 0,
               "redraw": true
              },
              "fromcurrent": true,
              "mode": "immediate",
              "transition": {
               "duration": 0,
               "easing": "linear"
              }
             }
            ],
            "label": "5",
            "method": "animate"
           },
           {
            "args": [
             [
              "6"
             ],
             {
              "frame": {
               "duration": 0,
               "redraw": true
              },
              "fromcurrent": true,
              "mode": "immediate",
              "transition": {
               "duration": 0,
               "easing": "linear"
              }
             }
            ],
            "label": "6",
            "method": "animate"
           },
           {
            "args": [
             [
              "7"
             ],
             {
              "frame": {
               "duration": 0,
               "redraw": true
              },
              "fromcurrent": true,
              "mode": "immediate",
              "transition": {
               "duration": 0,
               "easing": "linear"
              }
             }
            ],
            "label": "7",
            "method": "animate"
           },
           {
            "args": [
             [
              "8"
             ],
             {
              "frame": {
               "duration": 0,
               "redraw": true
              },
              "fromcurrent": true,
              "mode": "immediate",
              "transition": {
               "duration": 0,
               "easing": "linear"
              }
             }
            ],
            "label": "8",
            "method": "animate"
           }
          ],
          "x": 0.1,
          "xanchor": "left",
          "y": 0,
          "yanchor": "top"
         }
        ],
        "template": {
         "data": {
          "candlestick": [
           {
            "decreasing": {
             "line": {
              "color": "#000033"
             }
            },
            "increasing": {
             "line": {
              "color": "#000032"
             }
            },
            "type": "candlestick"
           }
          ],
          "contour": [
           {
            "colorscale": [
             [
              0,
              "#000011"
             ],
             [
              0.1111111111111111,
              "#000012"
             ],
             [
              0.2222222222222222,
              "#000013"
             ],
             [
              0.3333333333333333,
              "#000014"
             ],
             [
              0.4444444444444444,
              "#000015"
             ],
             [
              0.5555555555555556,
              "#000016"
             ],
             [
              0.6666666666666666,
              "#000017"
             ],
             [
              0.7777777777777778,
              "#000018"
             ],
             [
              0.8888888888888888,
              "#000019"
             ],
             [
              1,
              "#000020"
             ]
            ],
            "type": "contour"
           }
          ],
          "contourcarpet": [
           {
            "colorscale": [
             [
              0,
              "#000011"
             ],
             [
              0.1111111111111111,
              "#000012"
             ],
             [
              0.2222222222222222,
              "#000013"
             ],
             [
              0.3333333333333333,
              "#000014"
             ],
             [
              0.4444444444444444,
              "#000015"
             ],
             [
              0.5555555555555556,
              "#000016"
             ],
             [
              0.6666666666666666,
              "#000017"
             ],
             [
              0.7777777777777778,
              "#000018"
             ],
             [
              0.8888888888888888,
              "#000019"
             ],
             [
              1,
              "#000020"
             ]
            ],
            "type": "contourcarpet"
           }
          ],
          "heatmap": [
           {
            "colorscale": [
             [
              0,
              "#000011"
             ],
             [
              0.1111111111111111,
              "#000012"
             ],
             [
              0.2222222222222222,
              "#000013"
             ],
             [
              0.3333333333333333,
              "#000014"
             ],
             [
              0.4444444444444444,
              "#000015"
             ],
             [
              0.5555555555555556,
              "#000016"
             ],
             [
              0.6666666666666666,
              "#000017"
             ],
             [
              0.7777777777777778,
              "#000018"
             ],
             [
              0.8888888888888888,
              "#000019"
             ],
             [
              1,
              "#000020"
             ]
            ],
            "type": "heatmap"
           }
          ],
          "histogram2d": [
           {
            "colorscale": [
             [
              0,
              "#000011"
             ],
             [
              0.1111111111111111,
              "#000012"
             ],
             [
              0.2222222222222222,
              "#000013"
             ],
             [
              0.3333333333333333,
              "#000014"
             ],
             [
              0.4444444444444444,
              "#000015"
             ],
             [
              0.5555555555555556,
              "#000016"
             ],
             [
              0.6666666666666666,
              "#000017"
             ],
             [
              0.7777777777777778,
              "#000018"
             ],
             [
              0.8888888888888888,
              "#000019"
             ],
             [
              1,
              "#000020"
             ]
            ],
            "type": "histogram2d"
           }
          ],
          "icicle": [
           {
            "textfont": {
             "color": "white"
            },
            "type": "icicle"
           }
          ],
          "sankey": [
           {
            "textfont": {
             "color": "#000036"
            },
            "type": "sankey"
           }
          ],
          "scatter": [
           {
            "marker": {
             "line": {
              "width": 0
             }
            },
            "type": "scatter"
           }
          ],
          "table": [
           {
            "cells": {
             "fill": {
              "color": "#000038"
             },
             "font": {
              "color": "#000037"
             },
             "line": {
              "color": "#000039"
             }
            },
            "header": {
             "fill": {
              "color": "#000040"
             },
             "font": {
              "color": "#000036"
             },
             "line": {
              "color": "#000039"
             }
            },
            "type": "table"
           }
          ],
          "waterfall": [
           {
            "connector": {
             "line": {
              "color": "#000036",
              "width": 2
             }
            },
            "decreasing": {
             "marker": {
              "color": "#000033"
             }
            },
            "increasing": {
             "marker": {
              "color": "#000032"
             }
            },
            "totals": {
             "marker": {
              "color": "#000034"
             }
            },
            "type": "waterfall"
           }
          ]
         },
         "layout": {
          "coloraxis": {
           "colorscale": [
            [
             0,
             "#000011"
            ],
            [
             0.1111111111111111,
             "#000012"
            ],
            [
             0.2222222222222222,
             "#000013"
            ],
            [
             0.3333333333333333,
             "#000014"
            ],
            [
             0.4444444444444444,
             "#000015"
            ],
            [
             0.5555555555555556,
             "#000016"
            ],
            [
             0.6666666666666666,
             "#000017"
            ],
            [
             0.7777777777777778,
             "#000018"
            ],
            [
             0.8888888888888888,
             "#000019"
            ],
            [
             1,
             "#000020"
            ]
           ]
          },
          "colorscale": {
           "diverging": [
            [
             0,
             "#000021"
            ],
            [
             0.1,
             "#000022"
            ],
            [
             0.2,
             "#000023"
            ],
            [
             0.3,
             "#000024"
            ],
            [
             0.4,
             "#000025"
            ],
            [
             0.5,
             "#000026"
            ],
            [
             0.6,
             "#000027"
            ],
            [
             0.7,
             "#000028"
            ],
            [
             0.8,
             "#000029"
            ],
            [
             0.9,
             "#000030"
            ],
            [
             1,
             "#000031"
            ]
           ],
           "sequential": [
            [
             0,
             "#000011"
            ],
            [
             0.1111111111111111,
             "#000012"
            ],
            [
             0.2222222222222222,
             "#000013"
            ],
            [
             0.3333333333333333,
             "#000014"
            ],
            [
             0.4444444444444444,
             "#000015"
            ],
            [
             0.5555555555555556,
             "#000016"
            ],
            [
             0.6666666666666666,
             "#000017"
            ],
            [
             0.7777777777777778,
             "#000018"
            ],
            [
             0.8888888888888888,
             "#000019"
            ],
            [
             1,
             "#000020"
            ]
           ],
           "sequentialminus": [
            [
             0,
             "#000011"
            ],
            [
             0.1111111111111111,
             "#000012"
            ],
            [
             0.2222222222222222,
             "#000013"
            ],
            [
             0.3333333333333333,
             "#000014"
            ],
            [
             0.4444444444444444,
             "#000015"
            ],
            [
             0.5555555555555556,
             "#000016"
            ],
            [
             0.6666666666666666,
             "#000017"
            ],
            [
             0.7777777777777778,
             "#000018"
            ],
            [
             0.8888888888888888,
             "#000019"
            ],
            [
             1,
             "#000020"
            ]
           ]
          },
          "colorway": [
           "#000001",
           "#000002",
           "#000003",
           "#000004",
           "#000005",
           "#000006",
           "#000007",
           "#000008",
           "#000009",
           "#000010"
          ]
         }
        },
        "updatemenus": [
         {
          "buttons": [
           {
            "args": [
             null,
             {
              "frame": {
               "duration": 500,
               "redraw": true
              },
              "fromcurrent": true,
              "mode": "immediate",
              "transition": {
               "duration": 500,
               "easing": "linear"
              }
             }
            ],
            "label": "&#9654;",
            "method": "animate"
           },
           {
            "args": [
             [
              null
             ],
             {
              "frame": {
               "duration": 0,
               "redraw": true
              },
              "fromcurrent": true,
              "mode": "immediate",
              "transition": {
               "duration": 0,
               "easing": "linear"
              }
             }
            ],
            "label": "&#9724;",
            "method": "animate"
           }
          ],
          "direction": "left",
          "pad": {
           "r": 10,
           "t": 70
          },
          "showactive": false,
          "type": "buttons",
          "x": 0.1,
          "xanchor": "right",
          "y": 0,
          "yanchor": "top"
         }
        ],
        "xaxis": {
         "anchor": "y",
         "domain": [
          0,
          1
         ]
        },
        "yaxis": {
         "anchor": "x",
         "domain": [
          0,
          1
         ]
        }
       }
      }
     },
     "metadata": {},
     "output_type": "display_data"
    }
   ],
   "source": [
    "from src.visualization import render_minigrid_observation, render_minigrid_observations\n",
    "from src.environments.utils import reverse_one_hot\n",
    "import plotly.express as px\n",
    "import numpy as np \n",
    "import random\n",
    "\n",
    "# get a random batch index\n",
    "batch_index = random.randint(0, obs_stacked.shape[0] - 1)\n",
    "batch_index \n",
    "\n",
    "one_hot_s = obs_stacked[batch_index]\n",
    "original_obs = torch.from_numpy(np.stack([reverse_one_hot(one_hot_s[i]) for i in range(one_hot_s.shape[0])]))\n",
    "images = render_minigrid_observations(env, original_obs)\n",
    "px.imshow(images, animation_frame=0).show()"
   ]
  },
  {
   "cell_type": "code",
   "execution_count": 14,
   "metadata": {},
   "outputs": [
    {
     "name": "stdout",
     "output_type": "stream",
     "text": [
      "torch.Size([256, 9, 7, 7, 20])\n",
      "torch.Size([256, 8])\n",
      "torch.Size([256, 9, 1])\n"
     ]
    }
   ],
   "source": [
    "obs, actions, rtg, ti = preprocess_inputs(dt, s, rtg, a, ti)\n",
    "print(obs.shape)\n",
    "print(actions.shape)\n",
    "print(rtg.shape)\n"
   ]
  },
  {
   "cell_type": "code",
   "execution_count": 17,
   "metadata": {},
   "outputs": [
    {
     "data": {
      "text/plain": [
       "torch.Size([256, 9, 7, 7, 20])"
      ]
     },
     "execution_count": 17,
     "metadata": {},
     "output_type": "execute_result"
    }
   ],
   "source": [
    "obs.shape"
   ]
  },
  {
   "cell_type": "code",
   "execution_count": 18,
   "metadata": {},
   "outputs": [
    {
     "data": {
      "text/plain": [
       "tensor([[[ 0.3753,  0.4382, -0.5738,  ...,  0.0824, -1.0965, -0.4971],\n",
       "         [ 1.9680,  0.6180, -6.1837,  ...,  1.5152,  0.7305,  0.6445],\n",
       "         [ 2.0623,  0.6053, -5.8181,  ...,  1.3083,  0.4892,  0.6095],\n",
       "         ...,\n",
       "         [ 0.6566,  0.3052, -0.9217,  ...,  0.3654, -1.1099, -0.2242],\n",
       "         [ 5.7083,  5.6541, -1.9668,  ..., -2.6551, -2.0412, -2.7661],\n",
       "         [-3.3879, -2.5247,  7.8812,  ..., -0.6280, -0.8122, -1.1731]],\n",
       "\n",
       "        [[ 0.2570, -0.8382, -0.1530,  ...,  0.3714, -1.2210,  0.3707],\n",
       "         [-0.0107, -0.8057,  0.0756,  ...,  0.3662, -1.2963,  0.3784],\n",
       "         [ 0.0835, -0.9086,  0.0112,  ...,  0.3772, -1.2716,  0.5223],\n",
       "         ...,\n",
       "         [ 0.5680,  0.4389, -0.4616,  ..., -0.1146, -1.4083, -0.4057],\n",
       "         [ 1.0993,  0.7998, -0.7998,  ..., -0.3313, -1.3772, -0.6870],\n",
       "         [-0.5187,  0.2612,  2.3857,  ..., -0.2416, -1.7133, -0.8263]],\n",
       "\n",
       "        [[-1.0096, -3.6262,  3.0661,  ...,  2.3985, -3.8960,  1.7841],\n",
       "         [-1.7852, -3.5330,  3.3008,  ...,  2.2794, -3.2499,  1.5190],\n",
       "         [-0.5411, -3.4907,  2.6527,  ...,  2.4513, -4.4378,  1.8272],\n",
       "         ...,\n",
       "         [-1.5576,  5.2929, -1.5924,  ...,  1.4865, -3.6984, -0.2734],\n",
       "         [-1.4882, -4.3709, -2.6694,  ...,  5.2774, -1.3434,  2.0140],\n",
       "         [-1.6766, -2.8972,  8.7299,  ..., -0.7480, -2.2761, -2.0834]],\n",
       "\n",
       "        ...,\n",
       "\n",
       "        [[ 0.0297, -0.7062,  0.2030,  ...,  0.5360, -1.4251,  0.1963],\n",
       "         [-0.1521, -0.7798,  0.4303,  ...,  0.5528, -1.4918,  0.1930],\n",
       "         [-0.1784, -0.3874,  0.0167,  ...,  0.3151, -1.4431,  0.3052],\n",
       "         ...,\n",
       "         [ 1.7938,  0.7188, -5.3639,  ...,  1.1402,  0.7789,  0.6554],\n",
       "         [ 0.8675, -1.4096, -4.1900,  ...,  1.3657,  1.9525,  0.9414],\n",
       "         [-0.2262, -1.2778,  2.3020,  ..., -0.1816, -0.6267, -0.6312]],\n",
       "\n",
       "        [[-0.7569, -2.6953,  1.4070,  ...,  1.9764, -2.0767,  0.8161],\n",
       "         [-0.4949, -2.0399,  0.6268,  ...,  0.7690, -1.0907,  0.6879],\n",
       "         [-0.7725, -2.5340,  1.0180,  ...,  0.9300, -0.8975,  0.7174],\n",
       "         ...,\n",
       "         [ 2.1762, -3.4198, -0.7420,  ...,  0.5146, -0.0613,  0.3889],\n",
       "         [ 6.5459, -0.8753, -2.1009,  ..., -1.4597, -1.0171, -0.5178],\n",
       "         [-3.1867, -3.3721,  8.2852,  ..., -0.4792, -0.9077, -1.1771]],\n",
       "\n",
       "        [[-1.1975, -2.2715,  1.3572,  ...,  0.8780, -0.7585,  0.5356],\n",
       "         [-0.7763, -2.0786,  1.1201,  ...,  0.6991, -1.3334,  0.5619],\n",
       "         [-1.4746, -2.5522,  1.7909,  ...,  0.7662, -1.3310,  0.6626],\n",
       "         ...,\n",
       "         [-0.0522,  0.2883, -0.1470,  ...,  0.5872, -0.9584, -0.3967],\n",
       "         [-3.3583, -0.1551, -5.1735,  ...,  3.0684,  2.5344,  2.1168],\n",
       "         [-3.2652, -1.3098,  6.7796,  ..., -0.4469, -1.2900, -1.6046]]],\n",
       "       grad_fn=<AddBackward0>)"
      ]
     },
     "execution_count": 18,
     "metadata": {},
     "output_type": "execute_result"
    }
   ],
   "source": [
    "\n",
    "tokens = dt.to_tokens(obs, actions.unsqueeze(-1), rtg, ti.unsqueeze(-1))\n",
    "tokens.shape # now we have the tokens, we can run the model \n",
    "x, cache = dt.transformer.run_with_cache(tokens, remove_batch_dim=False)\n",
    "\n",
    "state_preds, action_preds, reward_preds = dt.get_logits(\n",
    "    x,\n",
    "    batch_size=256,\n",
    "    seq_length=9,\n",
    "    no_actions=False,  # we always pad now.\n",
    ")\n",
    "\n",
    "action_preds"
   ]
  },
  {
   "cell_type": "markdown",
   "metadata": {},
   "source": [
    "## Generate the Trajectories Manually"
   ]
  },
  {
   "cell_type": "code",
   "execution_count": 19,
   "metadata": {},
   "outputs": [
    {
     "name": "stdout",
     "output_type": "stream",
     "text": [
      "torch.Size([4, 5, 7, 7, 3])\n",
      "torch.Size([4, 4])\n"
     ]
    }
   ],
   "source": [
    "from src.environments.memory import MemoryEnv\n",
    "from src.decision_transformer.offline_dataset import one_hot_encode_observation\n",
    "import torch\n",
    "import numpy as np\n",
    "import plotly.express as px\n",
    "\n",
    "env = MemoryEnv(\n",
    "    size=7, \n",
    "    random_direction=False, \n",
    "    random_start_pos=False, \n",
    "    random_length=False, \n",
    "    render_mode=\"rgb_array\")\n",
    "\n",
    "env.reset()\n",
    "\n",
    "all_scenarios = []\n",
    "all_observations = []\n",
    "all_actions = []\n",
    "\n",
    "for target_obj in [\"key\", \"ball\"]:\n",
    "    for target_pos in [\"top\", \"bottom\"]:\n",
    "        scenario = f\"{target_obj}_{target_pos}\"\n",
    "        observations = [] \n",
    "        actions= []\n",
    "\n",
    "        # generate the new environment \n",
    "        env._gen_grid(7,7,target_obj=target_obj, target_pos=target_pos)\n",
    "        obs = env.gen_obs()['image']\n",
    "        observations.append(obs)\n",
    "        for _ in range(4):\n",
    "            action = 2\n",
    "            next_obs, reward, next_done, next_truncated, info  = env.step(action)\n",
    "            observations.append(next_obs['image'])\n",
    "            actions.append(action)\n",
    "\n",
    "        all_observations.append(observations)\n",
    "        all_actions.append(actions)\n",
    "        all_scenarios.append(scenario)\n",
    "        \n",
    "\n",
    "\n",
    "all_observations = torch.from_numpy(np.stack(all_observations))\n",
    "all_actions = torch.from_numpy(np.stack(all_actions))\n",
    "\n",
    "print(all_observations.shape)\n",
    "print(all_actions.shape)"
   ]
  },
  {
   "cell_type": "code",
   "execution_count": 20,
   "metadata": {},
   "outputs": [
    {
     "data": {
      "application/vnd.plotly.v1+json": {
       "config": {
        "plotlyServerURL": "https://plotly.com"
       },
       "data": [
        {
         "hovertemplate": "x: %{x}<br>y: %{y}<br>color: %{z}<extra></extra>",
         "name": "0",
         "source": "data:image/png;base64,iVBORw0KGgoAAAANSUhEUgAAAOAAAADgCAIAAACVT/22AAAFMUlEQVR4Xu3c4W3iWBhG4ZdVyoDUEdIHWwENhKkj0MBUkPQBqSPQR/YHInNzZ4GJwXCYex7xw/oGWwgdXRtP5MF0Oo2E1XegHv8wj3/YP/VAIjFQoRmo0AxUaAYqNAMVmoEKzUCFZqBCM1ChGajQDFRoBio0AxWagQrNQIVmoEIzUKEZqNAMVGgGKjQDFZqBCs1AhWagQjNQoRmo0AxUaAYqNAMV2qDvx+dJp3AFFZqBCs1AhWagQjNQoRmo0AxUaAYqNAMVmoEKzUCFZqBCM1ChGajQDFRoBio0AxWagQrNQIVmoEIzUKEZqNAMVGgGKjQDFZqBCs1AhWagQjNQoRmo0AxUaAYqtLt60IOfP3/Wo/OZTqce/4ALHL8enZUrqNBIgQ6T5+Rj93pPnpNh/S41BRPoJFkms2IySmbJ0kabxgh0u3aO6nGSjJJlPVM7GIE+7alza5Q81TOd00Pykix3F1fL5CV5qN91FYxAyzP7PBkkg+S1GE6KbZ3RQ/KerJJJMt4Nx8kkWSXv18+UEWjpx26jrPbzu9MZPSWrY+eu1ZVPX7xAdRlPybye/b/5NRvlBfqSJBl+/fpWxbZO9/DHdW7Nr3auZwRaflmT5CNZf73uLK9HdbrtKvAtHXY5B0agi2Rdz35ZJ4t6pu4eDl537jO6ziLKCHSTPO5pdJ081jOdpPz1+S2ddzwBI9DsGq0ujGbJfbL5OtSJOv/PXOcdT4AJNMmmuMe05Zm9D53v2XXe8QSkQKXfGGh7Ot+z67zjCQy0PZ2v6TvveAJGoJ9/A/pR/4vO71u36EuddzwBI1Bd0tueO3qHrZO3enYBjEC3f760fekC/q0Hx3XY5RwYgerC3r551312neUzBtquxR83OrvmDWkDbdgiGR+8Hl0n42vWGQNt3Vtyn4yT1+I25yp5TcbJ/dXO7J8u8eCG47y7dF1vV/sNdJQrqNAYK6h3l7SHK6jQDFRoBiq0Qd+Pz5NOcZf+n99Zj26N389hvX4/nuKFZqBCM1ChGajQDFRoBio0AxWagQrNQIVmoEIzUKEZqNAMVGgGKjQDFZqBCs1AhWagQjNQoRmo0AxUaAYqNAMVmoEKzUCFZqBCM1ChGajQDFRoBio0nw8qtL/h+aB9f/5bP349OrdeP7+neKEZqNAMVGgGKjQDFZqBCs1AhWagQjNQoRmo0AxUaAYqNAMVmoEKzUCFZqBCM1ChGajQDFRoBio0AxWagQrNQIVmoEIzUKEZqNAMVGgGKjQDFZqBCs3ngwrN54MecYHnd/Z9/Hp0br1+fk/xQjNQoRmo0AxUaAYqNAMVmoEKzUCFZqBCM1ChGajQDFRoBio0AxWagQrNQIVmoEIzUKEZqNAMVGgGKjQDFZqBCs1AhWagQjNQoRmo0AxUaAYqNAMVms8HFZrPBz3iAs/v7Pv49ejcev38nuKF1lKgw+Q5+di93pPnZFi/SyjNBDpJlsmsmIySWbK0UbQ2At2unaN6nCSjZFnPxNFGoE976twaJU/1TBBtBFqe2efJIBkkr8VwUmyLpI1ASz92G2W142JbJO0FqpvSXqAvSZJhMi+Gq2JbJG0EWrY4ST6S9dfrzvJ6VCRtBLpI1vXsl3WyqGeCaCPQTfK4p9F18ljPxNFGoNk1Wp7rk8yS+2TzdSiSZgJNsinuMW15ZsdrKVDdIAMVmoEK7a4e/JU+6oFuhSuo0NpYQQfFtqvpTXEFFZqBCs1AhWagQmvjR5I/jG6WK6jQ2lhBy9tMuimuoEIzUKEZqND+Axb7wb5luWP8AAAAAElFTkSuQmCC",
         "type": "image",
         "xaxis": "x",
         "yaxis": "y"
        },
        {
         "hovertemplate": "x: %{x}<br>y: %{y}<br>color: %{z}<extra></extra>",
         "name": "1",
         "source": "data:image/png;base64,iVBORw0KGgoAAAANSUhEUgAAAOAAAADgCAIAAACVT/22AAAFOUlEQVR4Xu3c71HiWhyH8S93LAOsQ+yDWwENyNYhNGAF2gdYh9iH9wWDezxz+SNrch42z2d8kfmtyTDs40mITkbz+TwSVteBevzjPP5x/9QDicRAhWagQjNQoRmo0AxUaAYqNAMVmoEKzUCFZqBCM1ChGajQDFRoBio0AxWagQrNQIVmoEIzUKEZqNAMVGgGKjQDFZqBCs1AhWagQjNQoRmo0AxUaKOuH58n/QlXUKEZqNAMVGgGKjQDFZqBCs1AhWagQjNQoRmo0AxUaAYqNAMVmoEKzUCFZqBCM1ChGajQDFRoBio0AxWagQrNQIVmoEIzUKEZqNAMVGgGKjQDFZqBCs1AhWagQrupBx14enqqRz9nPp97/CN6OH49+lGuoEIzUO2Nk8fkY//1ljwm4/q7emagSpLMknWyKCaTZJGsGzdqoNqvnZN6nCSTZF3P+sQI9C55Ttb7k8s6eU7u6u9SVx4O1LkzSR7qWW9aB3qXvCWbZJZM98NpMks2yZuZ9qI8sy+TUTJKXorhrNjuV9NAH5LNqZ/dTcsf3yH6td8oq/1cO3rXLtCHZFnP/t/SRoerUaB3Z9e5s/Rc35fnJMn463/QptjuV6NAd+/Ct1ywi85UtjhLPpLt1+vO8nq0Xy0CvTt63XnIxEW0M6tkW89+2yaretabFoGWV9/fcvGOOu49uT/Q6Da5r2d9ahHoxb+ZuHhHnbRrtPpgsEhuk/evw361CPTiexYX76hzvBf3mHbandk/tQhUOluLQC++Z3HxjrpaLQK9+Jrm4h11tVoE+q1b9KWLd9Rxn38D+lH/S3MtAn09cEfjuG3yWs/012sRaJJ/68FpF+yiM+3+fGn3BdMo0Ndv3nVfuHwOVKNAk6zObnSBuCGnJtoFmmSVTI9ej26TqXUOWtNAk7wmt8k0eSluc26Sl2Sa3HpmH7o+Htxw2qufgZri3V361HoFlY5irKBqi3d36ZMrqNAMVGgGKrRR14/Pk/7ETbp/fmc9uja+P8d1+v54iheagQrNQIVmoEIzUKEZqNAMVGgGKjQDFZqBCs1AhWagQjNQoRmo0AxUaAYqNAMVmoEKzUCFZqBCM1ChGajQDFRoBio0AxWagQrNQIVmoEIzUKEZqNB8PqjQ/obng3b9+q/9+PXop3X6+j3FC81AhWagQjNQoRmo0AxUaAYqNAMVmoEKzUCFZqBCM1ChGajQDFRoBio0AxWagQrNQIVmoEIzUKEZqNAMVGgGKjQDFZqBCs1AhWagQjNQoRmo0AxUaD4fVGg+H/SEHp7f2fXx69FP6/T1e4oXmoEKzUCFZqBCM1ChGajQDFRoBio0AxWagQrNQIVmoEIzUKEZqNAMVGgGKjQDFZqBCs1AhWagQjNQoRmo0AxUaAYqNAMVmoEKzUCFZqBCM1ChGajQfD6o0Hw+6Ak9PL+z6+PXo5/W6ev3FC+0IQU6Th6Tj/3XW/KYjOvvEspgAp0l62RRTCbJIlnbKNowAt2tnZN6nCSTZF3PxDGMQB8O1LkzSR7qmSCGEWh5Zl8mo2SUvBTDWbEtkmEEWvq13yirnRbbIhleoLoqwwv0OUkyTpbFcFNsi2QYgZYtzpKPZPv1urO8HhXJMAJdJdt69ts2WdUzQQwj0Pfk/kCj2+S+noljGIFm32h5rk+ySG6T969DkQwm0CTvxT2mHc/seEMKVFfIQIVmoEK7qQd/pY96oGvhCiq0Yaygo2Lb1fSquIIKzUCFZqBCM1ChDeNDkh+MrpYrqNCGsYKWt5l0VVxBhWagQjNQof0Hv4LBvuJ54cIAAAAASUVORK5CYII=",
         "type": "image",
         "xaxis": "x2",
         "yaxis": "y2"
        },
        {
         "hovertemplate": "x: %{x}<br>y: %{y}<br>color: %{z}<extra></extra>",
         "name": "2",
         "source": "data:image/png;base64,iVBORw0KGgoAAAANSUhEUgAAAOAAAADgCAIAAACVT/22AAAFYElEQVR4Xu3c71HiWhyH8a93LEOsA7YPrIAGYOtYaMAKsA+gjsU+vC8YvPHclT9Zk/MQn8/4wvnpyTDuYxKPbu5ms1kkrK4D9finefzT/ikHEomBCs1AhWagQjNQoRmo0AxUaAYqNAMVmoEKzUCFZqBCM1ChGajQDFRoBio0AxWagQrNQIVmoEIzUKEZqNAMVGgGKjQDFZqBCs1AhWagQjNQoRmo0O66fnye9Dc8gwrNQIVmoEIzUKEZqNAMVGgGKjQDFZqBCs1AhWagQjNQoRmo0AxUaAYqNAMVmoEKzUCFZqBCM1ChGajQDFRoBio0AxWagQrNQIVmoEIzUKEZqNAMVGgGKjQDFdp9OejA8/NzOfo6s9nM45/Qw/HL0ZfyDCo0A9XRQ/IreTu+/U5+JQ/lZ/XMQJUkmSabZNGYjJJFsqncqIHqeO4cleMkGSWbctYnRqDjZJ1sjheXTbJOxuVnqSvzT+o8GCXzctab2oGOk9/JNpkmk+NwkkyTbfLbTHvRvLIvk7vkLnlpDKeN9/tVNdB5sj33vbut+e37Hf08vtOs9v3c0bt6gc6TZTn7s6WNfl+VAh1fXOfB0mt9X9ZJkoeP/0Dbxvv9qhTo4atwlRZLdKFmi9PkLdl/vO9s3o/2q0ag45P3nZ8ZeRLtzCrZl7P/7JNVOetNjUCbd99Xab1Qp70mPz5pdJ/8KGd9qhFo699MtF6osw6NFj8YLJLH5PXjsF81Am29Z9F6oS7x2thjOqh3ZX9XI1DpYjUCbb1n0XqhblaNQFvf07ReqJtVI9CrtuibWi/Uae9/A/pWfqS6GoHuPtnROG2f7MqZBq9GoEmeysF5LZboQoc/Xzq8wVQKdHflrvvC0+c3VSnQJKuLG10gNuRURb1Ak6ySycn70X0ysc5vrWqgSXbJYzJJXhrbnNvkJZkkj17Zv7s+Htxw3s6fgari7S69q30GlU5inEFVF2936Z1nUKEZqNAMVGh3XT8+T/ob9+n++Z3l6Nb49Tmt06+Pl3ihGajQDFRoBio0AxWagQrNQIVmoEIzUKEZqNAMVGgGKjQDFZqBCs1AhWagQjNQoRmo0AxUaAYqNAMVmoEKzUCFZqBCM1ChGajQDFRoBio0AxWagQrN54MKbQjPB+369d/68cvRV+v09XuJF5qBCs1AhWagQjNQoRmo0AxUaAYqNAMVmoEKzUCFZqBCM1ChGajQDFRoBio0AxWagQrNQIVmoEIzUKEZqNAMVGgGKjQDFZqBCs1AhWagQjNQoRmo0Hw+qNB8PugZPTy/s+vjl6Ov1unr9xIvNAMVmoEKzUCFZqBCM1ChGajQDFRoBio0AxWagQrNQIVmoEIzUKEZqNAMVGgGKjQDFZqBCs1AhWagQjNQoRmo0AxUaAYqNAMVmoEKzUCFZqBCM1Ch+XxQofl80DN6eH5n18cvR1+t09fvJV5oBio0AxWagQrtewQ6TtbJJnlL3pJNsk7G5WcJ6L4cDMwhzdHH4SRJMk32yVOy+/hRkQz6DDpPtv+rs2mUbJN5ORbHcAOdJ8ty9mdLG+UaaKDji+s8WHpLCjXQQNfl4LwWS9S9IQY6Pnnf+ZmRJ1GiIQa6KAeXar1QnRlioA/l4FKtF6ozQwz0sM3ZQuuF6swQA9WADDHQbTm4VOuF6swQA30tB5dqvVCdGWKgV23RN7VeqM4MMdBdsi9n5+39qxGiIQaa5KkcnNdiibo30EB3V+66Lzx9Qg000CSrixtdJKtyJojhBppklUxO3o/uk4l1og060CS75DGZJC+Nbc5t8pJMkkev7HRD/y8fBzt/BrpVQz+D6sYZqNAMVGgGKjQDFdq/ORrI24OGp80AAAAASUVORK5CYII=",
         "type": "image",
         "xaxis": "x3",
         "yaxis": "y3"
        },
        {
         "hovertemplate": "x: %{x}<br>y: %{y}<br>color: %{z}<extra></extra>",
         "name": "3",
         "source": "data:image/png;base64,iVBORw0KGgoAAAANSUhEUgAAAOAAAADgCAIAAACVT/22AAAFWUlEQVR4Xu3c71HiahxH8a93LEOsA7YPrIAG4Nax0IAVYB9AHWIf3hcM3vjs8i8h5BjOZ3zh/PTJMMyZJD7L5mEymUTCajtQj3+cxz/un3IgkRio0AxUaAYqNAMVmoEKzUCFZqBCM1ChGajQDFRoBio0AxWagQrNQIVmoEIzUKEZqNAMVGgGKjQDFZqBCs1AhWagQjNQoRmo0AxUaAYqNAMVmoEK7aHtx+dJTXgGFZqBCs1AhWagQjNQoRmo0AxUaAYqNAMVmoEKzUCFZqBCM1ChGajQDFRoBio0AxWagQrNQIVmoEIzUKEZqNAMVGgGKjQDFZqBCs1AhWagQjNQoRmo0AxUaAYqtMdy0ILX19dydD2TycTjH3GD45ejq/IMKjRSoE/J7+Rz//We/E6eyt/SXcEEOk5WyawyGSSzZGWjd40R6O7cOSjHSTJIVuVM94MR6PRAnTuDZFrOdE3DZJms9jdXq2SZDMvf6gQj0OqVfZ48JA/JW2U4rnyvKxom78k6GSej/XCUjJN18t59poxAq/7df1Ot9uu90xVNk/Wpa9e648sXL1DdxjSZl7O/m3fZKC/QZZLk6fvbt658r+aGZ9e5M+/sWs8ItPpmjZPPZPv9vrN6P6rmdmeBi9RYcg2MQBfJtpz9b5ssypnqGx697zxk0M1JlBHoR/LrQKPb5Fc5UyPVvz4vUnthA4xAs2+0uDGaJc/Jx/ehGqr9L3O1FzaACTTJR2WPaccrextq79nVXtgAKVDpDwZ6f2rv2dVe2ICB3p/a9/S1FzbACPTrM6Cf5U90fRdt0VfVXtgAI1Dd0ubAjt5x22RTzm6AEeju40u7L93ASzk4rcaSa2AEqhvbXLjrPuvm9BkDvV+LsxuddbkhbaB3bJGMjt6PbpNRl3XGQO/dJnlORslbZZtznbwlo+S5syv7l1s8uOE0d5e6tensb6CTPIMKjXEGdXdJB3gGFZqBCs1AhfbQ9uPzpCYe0/7zO8vRT+P7c1yr74+XeKEZqNAMVGgGKjQDFZqBCs1AhWagQjNQoRmo0AxUaAYqNAMVmoEKzUCFZqBCM1ChGajQDFRoBio0AxWagQrNQIVmoEIzUKEZqNAMVGgGKjQDFZqBCs3ngwqtD88Hbfv1//Tjl6Nra/X1e4kXmoEKzUCFZqBCM1ChGajQDFRoBio0AxWagQrNQIVmoEIzUKEZqNAMVGgGKjQDFZqBCs1AhWagQjNQoRmo0AxUaAYqNAMVmoEKzUCFZqBCM1ChGajQfD6o0Hw+6Ak3eH5n28cvR9fW6uv3Ei80AxWagQrNQIVmoEIzUKEZqNAMVGgGKjQDFZqBCs1AhWagQjNQoRmo0AxUaAYqNAMVmoEKzUCFZqBCM1ChGajQDFRoBio0AxWagQrNQIVmoEIzUKH5fFCh+XzQE27w/M62j1+Orq3V1+8lXmgGKjQDFZqBCu0+Ah0my2SVfCafySpZJsPytwT0WA56Zpfm4PtwlCQZJ9vkJdl8/6lIen0GnSbrP+qsGiTrZFqOxdHfQKfJvJz93dxGuXoa6PDsOnfm3pJC9TTQZTk4rcYSta+PgQ6P3nceMvAkStTHQGfl4Fy1F6o1fQz0qRycq/ZCtaaPge62OWuovVCt6WOg6pE+BrouB+eqvVCt6WOgH+XgXLUXqjV9DPSiLfqq2gvVmj4Gukm25ey0rZ8aIepjoEleysFpNZaofT0NdHPhrvvM0ydUTwNNsji70VmyKGeC6G+gSRbJ6Oj96DYZWSdarwNNskmek1HyVtnmXCdvySh59spO1/f/8rGz8W+gn6rvZ1D9cAYqNAMVmoEKzUCF9h+QhMjbNytVWQAAAABJRU5ErkJggg==",
         "type": "image",
         "xaxis": "x4",
         "yaxis": "y4"
        }
       ],
       "frames": [
        {
         "data": [
          {
           "name": "0",
           "source": "data:image/png;base64,iVBORw0KGgoAAAANSUhEUgAAAOAAAADgCAIAAACVT/22AAAFMUlEQVR4Xu3c4W3iWBhG4ZdVyoDUEdIHWwENhKkj0MBUkPQBqSPQR/YHInNzZ4GJwXCYex7xw/oGWwgdXRtP5MF0Oo2E1XegHv8wj3/YP/VAIjFQoRmo0AxUaAYqNAMVmoEKzUCFZqBCM1ChGajQDFRoBio0AxWagQrNQIVmoEIzUKEZqNAMVGgGKjQDFZqBCs1AhWagQjNQoRmo0AxUaAYqNAMV2qDvx+dJp3AFFZqBCs1AhWagQjNQoRmo0AxUaAYqNAMVmoEKzUCFZqBCM1ChGajQDFRoBio0AxWagQrNQIVmoEIzUKEZqNAMVGgGKjQDFZqBCs1AhWagQjNQoRmo0AxUaAYqtLt60IOfP3/Wo/OZTqce/4ALHL8enZUrqNBIgQ6T5+Rj93pPnpNh/S41BRPoJFkms2IySmbJ0kabxgh0u3aO6nGSjJJlPVM7GIE+7alza5Q81TOd00Pykix3F1fL5CV5qN91FYxAyzP7PBkkg+S1GE6KbZ3RQ/KerJJJMt4Nx8kkWSXv18+UEWjpx26jrPbzu9MZPSWrY+eu1ZVPX7xAdRlPybye/b/5NRvlBfqSJBl+/fpWxbZO9/DHdW7Nr3auZwRaflmT5CNZf73uLK9HdbrtKvAtHXY5B0agi2Rdz35ZJ4t6pu4eDl537jO6ziLKCHSTPO5pdJ081jOdpPz1+S2ddzwBI9DsGq0ujGbJfbL5OtSJOv/PXOcdT4AJNMmmuMe05Zm9D53v2XXe8QSkQKXfGGh7Ot+z67zjCQy0PZ2v6TvveAJGoJ9/A/pR/4vO71u36EuddzwBI1Bd0tueO3qHrZO3enYBjEC3f760fekC/q0Hx3XY5RwYgerC3r551312neUzBtquxR83OrvmDWkDbdgiGR+8Hl0n42vWGQNt3Vtyn4yT1+I25yp5TcbJ/dXO7J8u8eCG47y7dF1vV/sNdJQrqNAYK6h3l7SHK6jQDFRoBiq0Qd+Pz5NOcZf+n99Zj26N389hvX4/nuKFZqBCM1ChGajQDFRoBio0AxWagQrNQIVmoEIzUKEZqNAMVGgGKjQDFZqBCs1AhWagQjNQoRmo0AxUaAYqNAMVmoEKzUCFZqBCM1ChGajQDFRoBio0nw8qtL/h+aB9f/5bP349OrdeP7+neKEZqNAMVGgGKjQDFZqBCs1AhWagQjNQoRmo0AxUaAYqNAMVmoEKzUCFZqBCM1ChGajQDFRoBio0AxWagQrNQIVmoEIzUKEZqNAMVGgGKjQDFZqBCs3ngwrN54MecYHnd/Z9/Hp0br1+fk/xQjNQoRmo0AxUaAYqNAMVmoEKzUCFZqBCM1ChGajQDFRoBio0AxWagQrNQIVmoEIzUKEZqNAMVGgGKjQDFZqBCs1AhWagQjNQoRmo0AxUaAYqNAMVms8HFZrPBz3iAs/v7Pv49ejcev38nuKF1lKgw+Q5+di93pPnZFi/SyjNBDpJlsmsmIySWbK0UbQ2At2unaN6nCSjZFnPxNFGoE976twaJU/1TBBtBFqe2efJIBkkr8VwUmyLpI1ASz92G2W142JbJO0FqpvSXqAvSZJhMi+Gq2JbJG0EWrY4ST6S9dfrzvJ6VCRtBLpI1vXsl3WyqGeCaCPQTfK4p9F18ljPxNFGoNk1Wp7rk8yS+2TzdSiSZgJNsinuMW15ZsdrKVDdIAMVmoEK7a4e/JU+6oFuhSuo0NpYQQfFtqvpTXEFFZqBCs1AhWagQmvjR5I/jG6WK6jQ2lhBy9tMuimuoEIzUKEZqND+Axb7wb5luWP8AAAAAElFTkSuQmCC",
           "type": "image"
          },
          {
           "name": "1",
           "source": "data:image/png;base64,iVBORw0KGgoAAAANSUhEUgAAAOAAAADgCAIAAACVT/22AAAFOUlEQVR4Xu3c71HiWhyH8S93LAOsQ+yDWwENyNYhNGAF2gdYh9iH9wWDezxz+SNrch42z2d8kfmtyTDs40mITkbz+TwSVteBevzjPP5x/9QDicRAhWagQjNQoRmo0AxUaAYqNAMVmoEKzUCFZqBCM1ChGajQDFRoBio0AxWagQrNQIVmoEIzUKEZqNAMVGgGKjQDFZqBCs1AhWagQjNQoRmo0AxUaKOuH58n/QlXUKEZqNAMVGgGKjQDFZqBCs1AhWagQjNQoRmo0AxUaAYqNAMVmoEKzUCFZqBCM1ChGajQDFRoBio0AxWagQrNQIVmoEIzUKEZqNAMVGgGKjQDFZqBCs1AhWagQrupBx14enqqRz9nPp97/CN6OH49+lGuoEIzUO2Nk8fkY//1ljwm4/q7emagSpLMknWyKCaTZJGsGzdqoNqvnZN6nCSTZF3P+sQI9C55Ttb7k8s6eU7u6u9SVx4O1LkzSR7qWW9aB3qXvCWbZJZM98NpMks2yZuZ9qI8sy+TUTJKXorhrNjuV9NAH5LNqZ/dTcsf3yH6td8oq/1cO3rXLtCHZFnP/t/SRoerUaB3Z9e5s/Rc35fnJMn463/QptjuV6NAd+/Ct1ywi85UtjhLPpLt1+vO8nq0Xy0CvTt63XnIxEW0M6tkW89+2yaretabFoGWV9/fcvGOOu49uT/Q6Da5r2d9ahHoxb+ZuHhHnbRrtPpgsEhuk/evw361CPTiexYX76hzvBf3mHbandk/tQhUOluLQC++Z3HxjrpaLQK9+Jrm4h11tVoE+q1b9KWLd9Rxn38D+lH/S3MtAn09cEfjuG3yWs/012sRaJJ/68FpF+yiM+3+fGn3BdMo0Ndv3nVfuHwOVKNAk6zObnSBuCGnJtoFmmSVTI9ej26TqXUOWtNAk7wmt8k0eSluc26Sl2Sa3HpmH7o+Htxw2qufgZri3V361HoFlY5irKBqi3d36ZMrqNAMVGgGKrRR14/Pk/7ETbp/fmc9uja+P8d1+v54iheagQrNQIVmoEIzUKEZqNAMVGgGKjQDFZqBCs1AhWagQjNQoRmo0AxUaAYqNAMVmoEKzUCFZqBCM1ChGajQDFRoBio0AxWagQrNQIVmoEIzUKEZqNB8PqjQ/obng3b9+q/9+PXop3X6+j3FC81AhWagQjNQoRmo0AxUaAYqNAMVmoEKzUCFZqBCM1ChGajQDFRoBio0AxWagQrNQIVmoEIzUKEZqNAMVGgGKjQDFZqBCs1AhWagQjNQoRmo0AxUaD4fVGg+H/SEHp7f2fXx69FP6/T1e4oXmoEKzUCFZqBCM1ChGajQDFRoBio0AxWagQrNQIVmoEIzUKEZqNAMVGgGKjQDFZqBCs1AhWagQjNQoRmo0AxUaAYqNAMVmoEKzUCFZqBCM1ChGajQfD6o0Hw+6Ak9PL+z6+PXo5/W6ev3FC+0IQU6Th6Tj/3XW/KYjOvvEspgAp0l62RRTCbJIlnbKNowAt2tnZN6nCSTZF3PxDGMQB8O1LkzSR7qmSCGEWh5Zl8mo2SUvBTDWbEtkmEEWvq13yirnRbbIhleoLoqwwv0OUkyTpbFcFNsi2QYgZYtzpKPZPv1urO8HhXJMAJdJdt69ts2WdUzQQwj0Pfk/kCj2+S+noljGIFm32h5rk+ySG6T969DkQwm0CTvxT2mHc/seEMKVFfIQIVmoEK7qQd/pY96oGvhCiq0Yaygo2Lb1fSquIIKzUCFZqBCM1ChDeNDkh+MrpYrqNCGsYKWt5l0VVxBhWagQjNQof0Hv4LBvuJ54cIAAAAASUVORK5CYII=",
           "type": "image"
          },
          {
           "name": "2",
           "source": "data:image/png;base64,iVBORw0KGgoAAAANSUhEUgAAAOAAAADgCAIAAACVT/22AAAFYElEQVR4Xu3c71HiWhyH8a93LEOsA7YPrIAGYOtYaMAKsA+gjsU+vC8YvPHclT9Zk/MQn8/4wvnpyTDuYxKPbu5ms1kkrK4D9finefzT/ikHEomBCs1AhWagQjNQoRmo0AxUaAYqNAMVmoEKzUCFZqBCM1ChGajQDFRoBio0AxWagQrNQIVmoEIzUKEZqNAMVGgGKjQDFZqBCs1AhWagQjNQoRmo0O66fnye9Dc8gwrNQIVmoEIzUKEZqNAMVGgGKjQDFZqBCs1AhWagQjNQoRmo0AxUaAYqNAMVmoEKzUCFZqBCM1ChGajQDFRoBio0AxWagQrNQIVmoEIzUKEZqNAMVGgGKjQDFdp9OejA8/NzOfo6s9nM45/Qw/HL0ZfyDCo0A9XRQ/IreTu+/U5+JQ/lZ/XMQJUkmSabZNGYjJJFsqncqIHqeO4cleMkGSWbctYnRqDjZJ1sjheXTbJOxuVnqSvzT+o8GCXzctab2oGOk9/JNpkmk+NwkkyTbfLbTHvRvLIvk7vkLnlpDKeN9/tVNdB5sj33vbut+e37Hf08vtOs9v3c0bt6gc6TZTn7s6WNfl+VAh1fXOfB0mt9X9ZJkoeP/0Dbxvv9qhTo4atwlRZLdKFmi9PkLdl/vO9s3o/2q0ag45P3nZ8ZeRLtzCrZl7P/7JNVOetNjUCbd99Xab1Qp70mPz5pdJ/8KGd9qhFo699MtF6osw6NFj8YLJLH5PXjsF81Am29Z9F6oS7x2thjOqh3ZX9XI1DpYjUCbb1n0XqhblaNQFvf07ReqJtVI9CrtuibWi/Uae9/A/pWfqS6GoHuPtnROG2f7MqZBq9GoEmeysF5LZboQoc/Xzq8wVQKdHflrvvC0+c3VSnQJKuLG10gNuRURb1Ak6ySycn70X0ysc5vrWqgSXbJYzJJXhrbnNvkJZkkj17Zv7s+Htxw3s6fgari7S69q30GlU5inEFVF2936Z1nUKEZqNAMVGh3XT8+T/ob9+n++Z3l6Nb49Tmt06+Pl3ihGajQDFRoBio0AxWagQrNQIVmoEIzUKEZqNAMVGgGKjQDFZqBCs1AhWagQjNQoRmo0AxUaAYqNAMVmoEKzUCFZqBCM1ChGajQDFRoBio0AxWagQrN54MKbQjPB+369d/68cvRV+v09XuJF5qBCs1AhWagQjNQoRmo0AxUaAYqNAMVmoEKzUCFZqBCM1ChGajQDFRoBio0AxWagQrNQIVmoEIzUKEZqNAMVGgGKjQDFZqBCs1AhWagQjNQoRmo0Hw+qNB8PugZPTy/s+vjl6Ov1unr9xIvNAMVmoEKzUCFZqBCM1ChGajQDFRoBio0AxWagQrNQIVmoEIzUKEZqNAMVGgGKjQDFZqBCs1AhWagQjNQoRmo0AxUaAYqNAMVmoEKzUCFZqBCM1Ch+XxQofl80DN6eH5n18cvR1+t09fvJV5oBio0AxWagQrtewQ6TtbJJnlL3pJNsk7G5WcJ6L4cDMwhzdHH4SRJMk32yVOy+/hRkQz6DDpPtv+rs2mUbJN5ORbHcAOdJ8ty9mdLG+UaaKDji+s8WHpLCjXQQNfl4LwWS9S9IQY6Pnnf+ZmRJ1GiIQa6KAeXar1QnRlioA/l4FKtF6ozQwz0sM3ZQuuF6swQA9WADDHQbTm4VOuF6swQA30tB5dqvVCdGWKgV23RN7VeqM4MMdBdsi9n5+39qxGiIQaa5KkcnNdiibo30EB3V+66Lzx9Qg000CSrixtdJKtyJojhBppklUxO3o/uk4l1og060CS75DGZJC+Nbc5t8pJMkkev7HRD/y8fBzt/BrpVQz+D6sYZqNAMVGgGKjQDFdq/ORrI24OGp80AAAAASUVORK5CYII=",
           "type": "image"
          },
          {
           "name": "3",
           "source": "data:image/png;base64,iVBORw0KGgoAAAANSUhEUgAAAOAAAADgCAIAAACVT/22AAAFWUlEQVR4Xu3c71HiahxH8a93LEOsA7YPrIAG4Nax0IAVYB9AHWIf3hcM3vjs8i8h5BjOZ3zh/PTJMMyZJD7L5mEymUTCajtQj3+cxz/un3IgkRio0AxUaAYqNAMVmoEKzUCFZqBCM1ChGajQDFRoBio0AxWagQrNQIVmoEIzUKEZqNAMVGgGKjQDFZqBCs1AhWagQjNQoRmo0AxUaAYqNAMVmoEK7aHtx+dJTXgGFZqBCs1AhWagQjNQoRmo0AxUaAYqNAMVmoEKzUCFZqBCM1ChGajQDFRoBio0AxWagQrNQIVmoEIzUKEZqNAMVGgGKjQDFZqBCs1AhWagQjNQoRmo0AxUaAYqtMdy0ILX19dydD2TycTjH3GD45ejq/IMKjRSoE/J7+Rz//We/E6eyt/SXcEEOk5WyawyGSSzZGWjd40R6O7cOSjHSTJIVuVM94MR6PRAnTuDZFrOdE3DZJms9jdXq2SZDMvf6gQj0OqVfZ48JA/JW2U4rnyvKxom78k6GSej/XCUjJN18t59poxAq/7df1Ot9uu90xVNk/Wpa9e648sXL1DdxjSZl7O/m3fZKC/QZZLk6fvbt658r+aGZ9e5M+/sWs8ItPpmjZPPZPv9vrN6P6rmdmeBi9RYcg2MQBfJtpz9b5ssypnqGx697zxk0M1JlBHoR/LrQKPb5Fc5UyPVvz4vUnthA4xAs2+0uDGaJc/Jx/ehGqr9L3O1FzaACTTJR2WPaccrextq79nVXtgAKVDpDwZ6f2rv2dVe2ICB3p/a9/S1FzbACPTrM6Cf5U90fRdt0VfVXtgAI1Dd0ubAjt5x22RTzm6AEeju40u7L93ASzk4rcaSa2AEqhvbXLjrPuvm9BkDvV+LsxuddbkhbaB3bJGMjt6PbpNRl3XGQO/dJnlORslbZZtznbwlo+S5syv7l1s8uOE0d5e6tensb6CTPIMKjXEGdXdJB3gGFZqBCs1AhfbQ9uPzpCYe0/7zO8vRT+P7c1yr74+XeKEZqNAMVGgGKjQDFZqBCs1AhWagQjNQoRmo0AxUaAYqNAMVmoEKzUCFZqBCM1ChGajQDFRoBio0AxWagQrNQIVmoEIzUKEZqNAMVGgGKjQDFZqBCs3ngwqtD88Hbfv1//Tjl6Nra/X1e4kXmoEKzUCFZqBCM1ChGajQDFRoBio0AxWagQrNQIVmoEIzUKEZqNAMVGgGKjQDFZqBCs1AhWagQjNQoRmo0AxUaAYqNAMVmoEKzUCFZqBCM1ChGajQfD6o0Hw+6Ak3eH5n28cvR9fW6uv3Ei80AxWagQrNQIVmoEIzUKEZqNAMVGgGKjQDFZqBCs1AhWagQjNQoRmo0AxUaAYqNAMVmoEKzUCFZqBCM1ChGajQDFRoBio0AxWagQrNQIVmoEIzUKH5fFCh+XzQE27w/M62j1+Orq3V1+8lXmgGKjQDFZqBCu0+Ah0my2SVfCafySpZJsPytwT0WA56Zpfm4PtwlCQZJ9vkJdl8/6lIen0GnSbrP+qsGiTrZFqOxdHfQKfJvJz93dxGuXoa6PDsOnfm3pJC9TTQZTk4rcYSta+PgQ6P3nceMvAkStTHQGfl4Fy1F6o1fQz0qRycq/ZCtaaPge62OWuovVCt6WOg6pE+BrouB+eqvVCt6WOgH+XgXLUXqjV9DPSiLfqq2gvVmj4Gukm25ey0rZ8aIepjoEleysFpNZaofT0NdHPhrvvM0ydUTwNNsji70VmyKGeC6G+gSRbJ6Oj96DYZWSdarwNNskmek1HyVtnmXCdvySh59spO1/f/8rGz8W+gn6rvZ1D9cAYqNAMVmoEKzUCF9h+QhMjbNytVWQAAAABJRU5ErkJggg==",
           "type": "image"
          }
         ],
         "layout": {
          "margin": {
           "t": 60
          }
         },
         "name": "0"
        },
        {
         "data": [
          {
           "name": "4",
           "source": "data:image/png;base64,iVBORw0KGgoAAAANSUhEUgAAAOAAAADgCAIAAACVT/22AAAEeUlEQVR4Xu3c3U0cZxiA0ZfIZRjXAe6DVEADJnUYGnAFdh9AHcZ9OBcIZz0Ji9kf9nE4R1ysXpjRavVoZvhA39H5+flA1r4Ddf71nH+9P5YDKBEoaQIlTaCkCZQ0gZImUNIESppASRMoaQIlTaCkCZQ0gZImUNIESppASRMoaQIlTaCkCZQ0gZImUNIESppASRMoaQIlTaCkCZQ0gZJ2tO/t82Ar+w7U+ddz/vXc4kkTKGkCJU2gpAmUNIGSJlDSBEqaQEkTKGkCJU2gpAmUNIGSJlDSBEqaQEkTKGkCJU2gpAmUNIGSJlDSBEqaQEkTKGkCJU2gpAmUNIGSZn9Q0lxBSRMoaQIlTaCkCZQ0gZImUNIESppASRMoaQIlTaCkCZQ0gZImUNIESppASRMoaQIlTaCkCZQ0gZImUNIESppASRMoaQIlTaCkCZQ0gZImUNIEStqb5WAPPn36tBztzvn5ufOv8QLnX452yhWUtFKgb2c+znx/+Po683Hm7fKneFUygZ7NXM9crEyOZy5mrjX6qjUCvb92Hi/HMzPHM9fLGa9HI9APj9R573jmw3LGLp3MfJ65fni4up75PHOy/KmDaAS6eme/nDmaOZr5sjI8W3nNDp3MfJ25mTmbOX0Yns6czdzMfD18po1AV/318GK12h+fHTv0YebmqXvXzYFvX71AeRkfZi6Xs/92echGe4F+npmZtz9/fDcrr9neyS/Xee/yYPf6RqCrH9bZzPeZu5+fO1efR9ne/VXgWTY4ZBcagV7N3C1n/7ibuVrO2NzJ2ufOxxwf5iLaCPTbzPtHGr2beb+csZXV3z6fZeMDt9AIdB4aXTwYXcy8m/n285AtbfyXuY0P3EIm0Jn5trLGdM+dfR82XrPb+MAtlAKFfxHo67Pxmt3GB25BoK/Pxs/0Gx+4hUagP/4H9PvyO+zes5boV2184BYagfKSbh9Z0VvvbuZ2OXsBjUDv/33p/osX8Ody8LQNDtmFRqC8sNtnrrpfHObyOQJ9va5+udGLQy5IC/QVu5o5Xfs8ejdzesg6R6Cv3e3Mu5nTmS8ry5w3M19mTmfeHezO/sNLbNzwNKtLh3V7sN+BnuQKSlrjCmp1iUe4gpImUNIEStrRvrfPg228mf3v37kc/W58Puvt9fNxiydNoKQJlDSBkiZQ0gRKmkBJEyhpAiVNoKQJlDSBkiZQ0gRKmkBJEyhpAiVNoKQJlDSBkiZQ0gRKmkBJEyhpAiVNoKQJlDSBkiZQ0gRKmv1BSfs/7A+67/f/u59/Odq1vb5/t3jSBEqaQEkTKGkCJU2gpAmUNIGSJlDSBEqaQEkTKGkCJU2gpAmUNIGSJlDSBEqaQEkTKGkCJU2gpAmUNIGSJlDSBEqaQEkTKGkCJU2gpNkflDT7gz7hBfbv3Pf5l6Nd2+v7d4snTaCkCZQ0gZImUNIESppASRMoaQIlTaCkCZQ0gZImUNIESppASRMoaQIlTaCkCZQ0gZImUNIESppASRMoaQIlTaCkCZQ0gZImUNIEStrfVZOaF1ZBIAYAAAAASUVORK5CYII=",
           "type": "image"
          },
          {
           "name": "5",
           "source": "data:image/png;base64,iVBORw0KGgoAAAANSUhEUgAAAOAAAADgCAIAAACVT/22AAAEfUlEQVR4Xu3c4TEkWxzG4detDQNxsHm4EUiAG8eSgAjIA3EgD/fDFHd0XYNZ3ee1nqd8mPqv7pqyP93tUGfn+Pg4UGvuQJ1/M+ff7K/pAJoIlGoCpZpAqSZQqgmUagKlmkCpJlCqCZRqAqWaQKkmUKoJlGoCpZpAqSZQqgmUagKlmkCpJlCqCZRqAqWaQKkmUKoJlGoCpZpAqSZQqgmUajtzb58Hv2XuQJ1/M+ffzC2eagKlmkCpJlCqCZRqAqWaQKkmUKoJlGoCpZpAqSZQqgmUagKlmkCpJlCqCZRqAqWaQKkmUKoJlGoCpZpAqSZQqgmUagKlmkCpJlCqCZRqAqWa/UGp5gpKNYFSTaBUEyjVBEo1gVJNoFQTKNUESjWBUk2gVBMo1QRKNYFSTaBUEyjVBEo1gVJNoFQTKNUESjWBUk2gVBMo1QRKNYFSTaBUEyjVBEo1gVJNoFQTKNV+TAczuLi4mI4+z/HxsfNvsMD5p6NP5QpKNYHyZDf5lTw+fdwlv5Ld6WctTKAkSY6S6+R0bbKXnCbXgxsVKE/Xzr3pOEn2kuvpbEkdgR4kl8n1083lOrlMDqafxVxOXqlzZS85mc4WMzrQg+QuuUmOksOn4WFylNwkdzJdxPqd/SzZSXaSq7Xh0drrZQ0N9CS5eet792bkt+939M/Ti/Vqn68dixsX6ElyNp39vzONfl+DAj14d50rZ+71S7lMkuy+/A+6WXu9rEGBrr4KH7LFIbzTeotHyWNy//K5c/15dFkjAj3Y+Nz5mj0X0dmcJ/fT2X/uk/PpbDEjAl1/+v6QrQ9ks4fk5yuN3ic/p7MljQh0699MbH0gb1o1OvnB4DTZTx5eDpc1ItCt1yy2PpD3eFhbY1oZd2d/NiJQeLcRgW69ZrH1gXxZIwLd+plm6wP5skYE+qEl+nVbH8hmz38D+jj9l+FGBHr7yorGZvfJ7XTGH29EoEn+ng7etsUhvNPqz5dWH2UGBXr7wVX3U5fPb2pQoEnO393oacWCHEOMCzTJeXK48Xn0PjlU57c2NNAkt8l+cphcrS1z3iRXyWGy787+3S2xccPbbv0MNFTf6tKz0VdQ2KjjCspYfatLz1xBqSZQqgmUajtzb58Hv+NH5t+/czr6anx9Npv16+MWTzWBUk2gVBMo1QRKNYFSTaBUEyjVBEo1gVJNoFQTKNUESjWBUk2gVBMo1QRKNYFSTaBUEyjVBEo1gVJNoFQTKNUESjWBUk2gVBMo1QRKNYFSzf6gVPsT9ged+/1/9fNPR59t1vfvFk81gVJNoFQTKNUESjWBUk2gVBMo1QRKNYFSTaBUEyjVBEo1gVJNoFQTKNUESjWBUk2gVBMo1QRKNYFSTaBUEyjVBEo1gVJNoFQTKNUESjWBUs3+oFSzP+gbFti/c+7zT0efbdb37xZPNYFSTaBUEyjVBEo1gVJNoFQTKNUESjWBUk2gVBMo1QRKNYFSTaBUEyjVBEo1gVJNoFQTKNUESjWBUk2gVBMo1QRKNYFSTaBUEyjVBEo1gVLtX/4amhfJiDMyAAAAAElFTkSuQmCC",
           "type": "image"
          },
          {
           "name": "6",
           "source": "data:image/png;base64,iVBORw0KGgoAAAANSUhEUgAAAOAAAADgCAIAAACVT/22AAAEfUlEQVR4Xu3c4TEkWxzG4detDQNxsHm4EUiAG8eSgAjIA3EgD/fDFHd0XYNZ3ee1nqd8mPqv7pqyP93tUGfn+Pg4UGvuQJ1/M+ff7K/pAJoIlGoCpZpAqSZQqgmUagKlmkCpJlCqCZRqAqWaQKkmUKoJlGoCpZpAqSZQqgmUagKlmkCpJlCqCZRqAqWaQKkmUKoJlGoCpZpAqSZQqgmUajtzb58Hv2XuQJ1/M+ffzC2eagKlmkCpJlCqCZRqAqWaQKkmUKoJlGoCpZpAqSZQqgmUagKlmkCpJlCqCZRqAqWaQKkmUKoJlGoCpZpAqSZQqgmUagKlmkCpJlCqCZRqAqWa/UGp5gpKNYFSTaBUEyjVBEo1gVJNoFQTKNUESjWBUk2gVBMo1QRKNYFSTaBUEyjVBEo1gVJNoFQTKNUESjWBUk2gVBMo1QRKNYFSTaBUEyjVBEo1gVJNoFQTKNV+TAczuLi4mI4+z/HxsfNvsMD5p6NP5QpKNYHyZDf5lTw+fdwlv5Ld6WctTKAkSY6S6+R0bbKXnCbXgxsVKE/Xzr3pOEn2kuvpbEkdgR4kl8n1083lOrlMDqafxVxOXqlzZS85mc4WMzrQg+QuuUmOksOn4WFylNwkdzJdxPqd/SzZSXaSq7Xh0drrZQ0N9CS5eet792bkt+939M/Ti/Vqn68dixsX6ElyNp39vzONfl+DAj14d50rZ+71S7lMkuy+/A+6WXu9rEGBrr4KH7LFIbzTeotHyWNy//K5c/15dFkjAj3Y+Nz5mj0X0dmcJ/fT2X/uk/PpbDEjAl1/+v6QrQ9ks4fk5yuN3ic/p7MljQh0699MbH0gb1o1OvnB4DTZTx5eDpc1ItCt1yy2PpD3eFhbY1oZd2d/NiJQeLcRgW69ZrH1gXxZIwLd+plm6wP5skYE+qEl+nVbH8hmz38D+jj9l+FGBHr7yorGZvfJ7XTGH29EoEn+ng7etsUhvNPqz5dWH2UGBXr7wVX3U5fPb2pQoEnO393oacWCHEOMCzTJeXK48Xn0PjlU57c2NNAkt8l+cphcrS1z3iRXyWGy787+3S2xccPbbv0MNFTf6tKz0VdQ2KjjCspYfatLz1xBqSZQqgmUajtzb58Hv+NH5t+/czr6anx9Npv16+MWTzWBUk2gVBMo1QRKNYFSTaBUEyjVBEo1gVJNoFQTKNUESjWBUk2gVBMo1QRKNYFSTaBUEyjVBEo1gVJNoFQTKNUESjWBUk2gVBMo1QRKNYFSzf6gVPsT9ged+/1/9fNPR59t1vfvFk81gVJNoFQTKNUESjWBUk2gVBMo1QRKNYFSTaBUEyjVBEo1gVJNoFQTKNUESjWBUk2gVBMo1QRKNYFSTaBUEyjVBEo1gVJNoFQTKNUESjWBUs3+oFSzP+gbFti/c+7zT0efbdb37xZPNYFSTaBUEyjVBEo1gVJNoFQTKNUESjWBUk2gVBMo1QRKNYFSTaBUEyjVBEo1gVJNoFQTKNUESjWBUk2gVBMo1QRKNYFSTaBUEyjVBEo1gVLtX/4amhfJiDMyAAAAAElFTkSuQmCC",
           "type": "image"
          },
          {
           "name": "7",
           "source": "data:image/png;base64,iVBORw0KGgoAAAANSUhEUgAAAOAAAADgCAIAAACVT/22AAAEeUlEQVR4Xu3c3U0cZxiA0ZfIZRjXAe6DVEADJnUYGnAFdh9AHcZ9OBcIZz0Ji9kf9nE4R1ysXpjRavVoZvhA39H5+flA1r4Ddf71nH+9P5YDKBEoaQIlTaCkCZQ0gZImUNIESppASRMoaQIlTaCkCZQ0gZImUNIESppASRMoaQIlTaCkCZQ0gZImUNIESppASRMoaQIlTaCkCZQ0gZJ2tO/t82Ar+w7U+ddz/vXc4kkTKGkCJU2gpAmUNIGSJlDSBEqaQEkTKGkCJU2gpAmUNIGSJlDSBEqaQEkTKGkCJU2gpAmUNIGSJlDSBEqaQEkTKGkCJU2gpAmUNIGSZn9Q0lxBSRMoaQIlTaCkCZQ0gZImUNIESppASRMoaQIlTaCkCZQ0gZImUNIESppASRMoaQIlTaCkCZQ0gZImUNIESppASRMoaQIlTaCkCZQ0gZImUNIEStqb5WAPPn36tBztzvn5ufOv8QLnX452yhWUtFKgb2c+znx/+Po683Hm7fKneFUygZ7NXM9crEyOZy5mrjX6qjUCvb92Hi/HMzPHM9fLGa9HI9APj9R573jmw3LGLp3MfJ65fni4up75PHOy/KmDaAS6eme/nDmaOZr5sjI8W3nNDp3MfJ25mTmbOX0Yns6czdzMfD18po1AV/318GK12h+fHTv0YebmqXvXzYFvX71AeRkfZi6Xs/92echGe4F+npmZtz9/fDcrr9neyS/Xee/yYPf6RqCrH9bZzPeZu5+fO1efR9ne/VXgWTY4ZBcagV7N3C1n/7ibuVrO2NzJ2ufOxxwf5iLaCPTbzPtHGr2beb+csZXV3z6fZeMDt9AIdB4aXTwYXcy8m/n285AtbfyXuY0P3EIm0Jn5trLGdM+dfR82XrPb+MAtlAKFfxHo67Pxmt3GB25BoK/Pxs/0Gx+4hUagP/4H9PvyO+zes5boV2184BYagfKSbh9Z0VvvbuZ2OXsBjUDv/33p/osX8Ody8LQNDtmFRqC8sNtnrrpfHObyOQJ9va5+udGLQy5IC/QVu5o5Xfs8ejdzesg6R6Cv3e3Mu5nTmS8ry5w3M19mTmfeHezO/sNLbNzwNKtLh3V7sN+BnuQKSlrjCmp1iUe4gpImUNIEStrRvrfPg228mf3v37kc/W58Puvt9fNxiydNoKQJlDSBkiZQ0gRKmkBJEyhpAiVNoKQJlDSBkiZQ0gRKmkBJEyhpAiVNoKQJlDSBkiZQ0gRKmkBJEyhpAiVNoKQJlDSBkiZQ0gRKmv1BSfs/7A+67/f/u59/Odq1vb5/t3jSBEqaQEkTKGkCJU2gpAmUNIGSJlDSBEqaQEkTKGkCJU2gpAmUNIGSJlDSBEqaQEkTKGkCJU2gpAmUNIGSJlDSBEqaQEkTKGkCJU2gpNkflDT7gz7hBfbv3Pf5l6Nd2+v7d4snTaCkCZQ0gZImUNIESppASRMoaQIlTaCkCZQ0gZImUNIESppASRMoaQIlTaCkCZQ0gZImUNIESppASRMoaQIlTaCkCZQ0gZImUNIEStrfVZOaF1ZBIAYAAAAASUVORK5CYII=",
           "type": "image"
          }
         ],
         "layout": {
          "margin": {
           "t": 60
          }
         },
         "name": "1"
        },
        {
         "data": [
          {
           "name": "8",
           "source": "data:image/png;base64,iVBORw0KGgoAAAANSUhEUgAAAOAAAADgCAIAAACVT/22AAAEcUlEQVR4Xu3c3VEUaRiA0ZctwxDjAPNgIyAB2TiEBIxA8wDiEPNwLyjcsXcZZH6Yx+Wc4mLqle6iup7qr/mk+uj8/Hwga9+BOv96zr/eH8sBlAiUNIGSJlDSBEqaQEkTKGkCJU2gpAmUNIGSJlDSBEqaQEkTKGkCJU2gpAmUNIGSJlDSBEqaQEkTKGkCJU2gpAmUNIGSJlDSBEqaQEk72vfr82Ar+w7U+ddz/vUs8aQJlDSBkiZQ0gRKmkBJEyhpAiVNoKQJlDSBkiZQ0gRKmkBJEyhpAiVNoKQJlDSBkiZQ0gRKmkBJEyhpAiVNoKQJlDSBkiZQ0gRKmkBJ835Q2vYdqPOv5/zrWeJJEyhpAiVNoKQJlDSBkiZQ0gRKmkBJEyhpAiVNoKQJlDSBkiZQ0gRKmkBJEyhpAiVNoKQJlDSBkiZQ0gRKmkBJEyhpAiVNoKQJlDSBkub9oKS5g5ImUNIESppASRMoaQIlTaCkCZQ0gZImUNIESppASRMoaQIlTaCkCZQ0gZImUNIESppASRMoaQIlTaCkCZQ0gZImUNIESppASRMoaQIlTaCkCZS0N8vBHnz69Gk52p3z83PnX+MFzr8c7ZQ7KGmlQN/OfJz5/vD1debjzNvld/GqZAI9m7meuViZHM9czFxr9FVrBHp/7zxejmdmjmeulzNej0agHx6p897xzIfljF06mfk8c/3wcHU983nmZPldB9EIdHVlv5w5mjma+bIyPFv5zA6dzHyduZk5mzl9GJ7OnM3czHw9fKaNQFf99fBhtdof144d+jBz89TadXPg5asXKC/jw8zlcvbfLg/ZaC/QzzMz8/bny3ez8pntnfxynfcuD7bWNwJdvVhnM99n7n5+7lx9HmV793eBZ9ngkF1oBHo1c7ec/eNu5mo5Y3Mna587H3N8mJtoI9BvM+8fafRu5v1yxlZWf/t8lo0P3EIj0HlodPFgdDHzbubbz0O2tPH/zG184BYygc7Mt5U9pntW9n3YeM9u4wO3UAoU/kWgr8/Ge3YbH7gFgb4+Gz/Tb3zgFhqB/vgb0O/Lf2H3nrVFv2rjA7fQCJSXdPvIjt56dzO3y9kLaAR6/+dL91+8gD+Xg6dtcMguNALlhd0+c9f94jC3zxHo63X1y41eHHJDWqCv2NXM6drn0buZ00PWOQJ97W5n3s2cznxZ2ea8mfkyczrz7mAr+w8v8eKGp9ldOqzbg/0O9CR3UNIad1C7SzzCHZQ0gZImUNKO9v36PNjGm9n/+zuXo9+N67PeXq+PJZ40gZImUNIESppASRMoaQIlTaCkCZQ0gZImUNIESppASRMoaQIlTaCkCZQ0gZImUNIESppASRMoaQIlTaCkCZQ0gZImUNIESppASRMoad4PStr/4f2g+/75f/fzL0e7ttef3xJPmkBJEyhpAiVNoKQJlDSBkiZQ0gRKmkBJEyhpAiVNoKQJlDSBkiZQ0gRKmkBJEyhpAiVNoKQJlDSBkiZQ0gRKmkBJEyhpAiVNoKQJlLS/AfTVlHOKn+cSAAAAAElFTkSuQmCC",
           "type": "image"
          },
          {
           "name": "9",
           "source": "data:image/png;base64,iVBORw0KGgoAAAANSUhEUgAAAOAAAADgCAIAAACVT/22AAAEdUlEQVR4Xu3c4TEkWxzG4detDQNxsHm4EUiAG8eSgAjIA3EgD/fDFHd0XY1Z0+e1nqd8mPqv7lKzP33aoXrn+Pg4UGvbgTr/POef99d0AE0ESjWBUk2gVBMo1QRKNYFSTaBUEyjVBEo1gVJNoFQTKNUESjWBUk2gVBMo1QRKNYFSTaBUEyjVBEo1gVJNoFQTKNUESjWBUk2gVBMo1QRKtZ1tPz4Pfsu2A3X+ec4/zxJPNYFSTaBUEyjVBEo1gVJNoFQTKNUESjWBUk2gVBMo1QRKNYFSTaBUEyjVBEo1gVJNoFQTKNUESjWBUk2gVBMo1QRKNYFSTaBUEyjVBEo1gVLN80Hptu1AnX+e88+zxFNNoFQTKNUESjWBUk2gVBMo1QRKNYFSTaBUEyjVBEo1gVJNoFQTKNUESjWBUk2gVBMo1QRKNYFSTaBUEyjVBEo1gVJNoFQTKNUESjWBUk2gVPN8UKq5glJNoFQTKNUESjWBUk2gVBMo1QRKNYFSTaBUEyjVBEo1gVJNoFQTKNUESjWBUk2gVBMo1QRKNYFSTaBUEyjVBEo1gVJNoFQTKNUESjWBUk2gVBMo1QRKtR/TwRZcXFxMR5/n+PjY+WcscP7p6FO5glJNoDzZTX4lj08fd8mvZHf6WQsTKEmSo+Q6OV2b7CWnyfXgRgXK07VzbzpOkr3kejpbUkegB8llcv20uFwnl8nB9LPYlpNX6lzZS06ms8WMDvQguUtukqPk8Gl4mBwlN8mdTBexvrKfJTvJTnK1Njxae72soYGeJDdvfe/ejPz2/Y7+eXqxXu3ztWNx4wI9Sc6ms/93ptHva1CgB++uc+XMWr+UyyTJ7sv/oJu118saFOjqXfiQDQ7hndZbPEoek/uX953r96PLGhHowex952v2XES35jy5n87+c5+cT2eLGRHo+t33h2x8IPMekp+vNHqf/JzOljQi0I1/M7Hxgbxp1ejkB4PTZD95eDlc1ohAN96z2PhA3uNhbY9pZdzK/mxEoPBuIwLdeM9i4wP5skYEuvE9zcYH8mWNCPRDW/TrNj6Qec9/A/o4/ZfhRgR6+8qOxrz75HY64483ItAkf08Hb9vgEN5p9edLq48ygwK9/eCu+6nL5zc1KNAk5+9u9LRiQ44hxgWa5Dw5nL0fvU8O1fmtDQ00yW2ynxwmV2vbnDfJVXKY7FvZv7slHtzwtls/Aw3Vt7v0bPQVFGZ1XEEZq2936ZkrKNUESjWBUm1n24/Pg9/xI9t/fud09NV4f+Zt9f2xxFNNoFQTKNUESjWBUk2gVBMo1QRKNYFSTaBUEyjVBEo1gVJNoFQTKNUESjWBUk2gVBMo1QRKNYFSTaBUEyjVBEo1gVJNoFQTKNUESjWBUk2gVPN8UKr9Cc8H3fbX/9XPPx19tq1+/ZZ4qgmUagKlmkCpJlCqCZRqAqWaQKkmUKoJlGoCpZpAqSZQqgmUagKlmkCpJlCqCZRqAqWaQKkmUKoJlGoCpZpAqSZQqgmUagKlmkCpJlCqCZRq/wKda5Rzp/62cgAAAABJRU5ErkJggg==",
           "type": "image"
          },
          {
           "name": "10",
           "source": "data:image/png;base64,iVBORw0KGgoAAAANSUhEUgAAAOAAAADgCAIAAACVT/22AAAEdUlEQVR4Xu3c4TEkWxzG4detDQNxsHm4EUiAG8eSgAjIA3EgD/fDFHd0XY1Z0+e1nqd8mPqv7lKzP33aoXrn+Pg4UGvbgTr/POef99d0AE0ESjWBUk2gVBMo1QRKNYFSTaBUEyjVBEo1gVJNoFQTKNUESjWBUk2gVBMo1QRKNYFSTaBUEyjVBEo1gVJNoFQTKNUESjWBUk2gVBMo1QRKtZ1tPz4Pfsu2A3X+ec4/zxJPNYFSTaBUEyjVBEo1gVJNoFQTKNUESjWBUk2gVBMo1QRKNYFSTaBUEyjVBEo1gVJNoFQTKNUESjWBUk2gVBMo1QRKNYFSTaBUEyjVBEo1gVLN80Hptu1AnX+e88+zxFNNoFQTKNUESjWBUk2gVBMo1QRKNYFSTaBUEyjVBEo1gVJNoFQTKNUESjWBUk2gVBMo1QRKNYFSTaBUEyjVBEo1gVJNoFQTKNUESjWBUk2gVPN8UKq5glJNoFQTKNUESjWBUk2gVBMo1QRKNYFSTaBUEyjVBEo1gVJNoFQTKNUESjWBUk2gVBMo1QRKNYFSTaBUEyjVBEo1gVJNoFQTKNUESjWBUk2gVBMo1QRKtR/TwRZcXFxMR5/n+PjY+WcscP7p6FO5glJNoDzZTX4lj08fd8mvZHf6WQsTKEmSo+Q6OV2b7CWnyfXgRgXK07VzbzpOkr3kejpbUkegB8llcv20uFwnl8nB9LPYlpNX6lzZS06ms8WMDvQguUtukqPk8Gl4mBwlN8mdTBexvrKfJTvJTnK1Njxae72soYGeJDdvfe/ejPz2/Y7+eXqxXu3ztWNx4wI9Sc6ms/93ptHva1CgB++uc+XMWr+UyyTJ7sv/oJu118saFOjqXfiQDQ7hndZbPEoek/uX953r96PLGhHowex952v2XES35jy5n87+c5+cT2eLGRHo+t33h2x8IPMekp+vNHqf/JzOljQi0I1/M7Hxgbxp1ejkB4PTZD95eDlc1ohAN96z2PhA3uNhbY9pZdzK/mxEoPBuIwLdeM9i4wP5skYEuvE9zcYH8mWNCPRDW/TrNj6Qec9/A/o4/ZfhRgR6+8qOxrz75HY64483ItAkf08Hb9vgEN5p9edLq48ygwK9/eCu+6nL5zc1KNAk5+9u9LRiQ44hxgWa5Dw5nL0fvU8O1fmtDQ00yW2ynxwmV2vbnDfJVXKY7FvZv7slHtzwtls/Aw3Vt7v0bPQVFGZ1XEEZq2936ZkrKNUESjWBUm1n24/Pg9/xI9t/fud09NV4f+Zt9f2xxFNNoFQTKNUESjWBUk2gVBMo1QRKNYFSTaBUEyjVBEo1gVJNoFQTKNUESjWBUk2gVBMo1QRKNYFSTaBUEyjVBEo1gVJNoFQTKNUESjWBUk2gVPN8UKr9Cc8H3fbX/9XPPx19tq1+/ZZ4qgmUagKlmkCpJlCqCZRqAqWaQKkmUKoJlGoCpZpAqSZQqgmUagKlmkCpJlCqCZRqAqWaQKkmUKoJlGoCpZpAqSZQqgmUagKlmkCpJlCqCZRq/wKda5Rzp/62cgAAAABJRU5ErkJggg==",
           "type": "image"
          },
          {
           "name": "11",
           "source": "data:image/png;base64,iVBORw0KGgoAAAANSUhEUgAAAOAAAADgCAIAAACVT/22AAAEcUlEQVR4Xu3c3VEUaRiA0ZctwxDjAPNgIyAB2TiEBIxA8wDiEPNwLyjcsXcZZH6Yx+Wc4mLqle6iup7qr/mk+uj8/Hwga9+BOv96zr/eH8sBlAiUNIGSJlDSBEqaQEkTKGkCJU2gpAmUNIGSJlDSBEqaQEkTKGkCJU2gpAmUNIGSJlDSBEqaQEkTKGkCJU2gpAmUNIGSJlDSBEqaQEk72vfr82Ar+w7U+ddz/vUs8aQJlDSBkiZQ0gRKmkBJEyhpAiVNoKQJlDSBkiZQ0gRKmkBJEyhpAiVNoKQJlDSBkiZQ0gRKmkBJEyhpAiVNoKQJlDSBkiZQ0gRKmkBJ835Q2vYdqPOv5/zrWeJJEyhpAiVNoKQJlDSBkiZQ0gRKmkBJEyhpAiVNoKQJlDSBkiZQ0gRKmkBJEyhpAiVNoKQJlDSBkiZQ0gRKmkBJEyhpAiVNoKQJlDSBkub9oKS5g5ImUNIESppASRMoaQIlTaCkCZQ0gZImUNIESppASRMoaQIlTaCkCZQ0gZImUNIESppASRMoaQIlTaCkCZQ0gZImUNIESppASRMoaQIlTaCkCZS0N8vBHnz69Gk52p3z83PnX+MFzr8c7ZQ7KGmlQN/OfJz5/vD1debjzNvld/GqZAI9m7meuViZHM9czFxr9FVrBHp/7zxejmdmjmeulzNej0agHx6p897xzIfljF06mfk8c/3wcHU983nmZPldB9EIdHVlv5w5mjma+bIyPFv5zA6dzHyduZk5mzl9GJ7OnM3czHw9fKaNQFf99fBhtdof144d+jBz89TadXPg5asXKC/jw8zlcvbfLg/ZaC/QzzMz8/bny3ez8pntnfxynfcuD7bWNwJdvVhnM99n7n5+7lx9HmV793eBZ9ngkF1oBHo1c7ec/eNu5mo5Y3Mna587H3N8mJtoI9BvM+8fafRu5v1yxlZWf/t8lo0P3EIj0HlodPFgdDHzbubbz0O2tPH/zG184BYygc7Mt5U9pntW9n3YeM9u4wO3UAoU/kWgr8/Ge3YbH7gFgb4+Gz/Tb3zgFhqB/vgb0O/Lf2H3nrVFv2rjA7fQCJSXdPvIjt56dzO3y9kLaAR6/+dL91+8gD+Xg6dtcMguNALlhd0+c9f94jC3zxHo63X1y41eHHJDWqCv2NXM6drn0buZ00PWOQJ97W5n3s2cznxZ2ea8mfkyczrz7mAr+w8v8eKGp9ldOqzbg/0O9CR3UNIad1C7SzzCHZQ0gZImUNKO9v36PNjGm9n/+zuXo9+N67PeXq+PJZ40gZImUNIESppASRMoaQIlTaCkCZQ0gZImUNIESppASRMoaQIlTaCkCZQ0gZImUNIESppASRMoaQIlTaCkCZQ0gZImUNIESppASRMoad4PStr/4f2g+/75f/fzL0e7ttef3xJPmkBJEyhpAiVNoKQJlDSBkiZQ0gRKmkBJEyhpAiVNoKQJlDSBkiZQ0gRKmkBJEyhpAiVNoKQJlDSBkiZQ0gRKmkBJEyhpAiVNoKQJlLS/AfTVlHOKn+cSAAAAAElFTkSuQmCC",
           "type": "image"
          }
         ],
         "layout": {
          "margin": {
           "t": 60
          }
         },
         "name": "2"
        },
        {
         "data": [
          {
           "name": "12",
           "source": "data:image/png;base64,iVBORw0KGgoAAAANSUhEUgAAAOAAAADgCAIAAACVT/22AAAEZ0lEQVR4Xu3c3U0cSRhA0Y+VwzCOA5wHGwEJwMZhSMAR2HkAcRjn4X1AeMe9y2Dmh7krzhEPo4IuoeGqqilQH52fnw9k7TtQ869n/vX+WA5AiUBJEyhpAiVNoKQJlDSBkiZQ0gRKmkBJEyhpAiVNoKQJlDSBkiZQ0gRKmkBJEyhpAiVNoKQJlDSBkiZQ0gRKmkBJEyhpAiVNoKQJlLSjfT8+D7ay70DNv57517PFkyZQ0gRKmkBJEyhpAiVNoKQJlDSBkiZQ0gRKmkBJEyhpAiVNoKQJlDSBkiZQ0gRKmkBJEyhpAiVNoKQJlDSBkiZQ0gRKmkBJEyhpAiXN80Fp23eg5l/P/OvZ4kkTKGkCJU2gpAmUNIGSJlDSBEqaQEkTKGkCJU2gpAmUNIGSJlDSBEqaQEkTKGkCJU2gpAmUNIGSJlDSBEqaQEkTKGkCJU2gpAmUNIGS5vmgtO07UPOvZ/71bPGkCZQ0gZImUNIESppASRMoaQIlTaCkCZQ0gZImUNIESppASRMoaQIlTaCkCZQ0gZImUNIESppASRMoaQIlTaCkCZQ0gZImUNIESppASfN8UNKsoKQJlDSBkiZQ0gRKmkBJEyhpAiVNoKQJlDSBkiZQ0gRKmkBJEyhpAiVNoKQJlDSBkiZQ0gRKmkBJEyhpAiVNoKQJlDSBkiZQ0gRKmkBJEyhpAiXt3XJgDz5//rwc2p3z83Pzr/EK8y+HdsoKSlop0Pczn2Z+PH58m/k08375VbwpmUDPZm5mLldGjmcuZ240+qY1An1YO4+XwzMzxzM3yzHejkagF0/U+eB45mI5xi6dzHyZuXm8ubqZ+TJzsvyqg2gEurqzX80czRzNfF0ZPFt5zQ6dzHybuZ05mzl9HDydOZu5nfl2+Ewbga766/HFarU/3zt26GLm9rm96/bA21cvUF7HxczVcuy/XR2y0V6gX2Zm5v2vb9/tymu2d/LbdT64Othe3wh09c06m/kxc//rfefq/Sjbe1gFXmSDS3ahEej1zP1y7B/3M9fLMTZ3sva+8ynHh1lEG4F+n/n4RKP3Mx+XY2xl9bfPF9n4wi00Ap3HRhc3RpczH2a+/zrIljb+y9zGF24hE+jMfF85Y3pgZ9+Hjc/sNr5wC6VA4V8E+vZsfGa38YVbEOjbs/E9/cYXbqER6M//Af2x/Ay796Ij+lUbX7iFRqC8prsnTvTWu5+5W469gkagD/++9PDBK/hzOfC8DS7ZhUagvLK7F566Xx5m+RyBvl3Xv93o5SEPpAX6hl3PnK69H72fOT1knSPQt+5u5sPM6czXlWPO25mvM6czHw62s//0Gg9ueJ7TpcO6O9jvQM+ygpLWWEGdLvEEKyhpAiVNoKQd7fvxebCNd/P/f37ncmjXfP9r7Pvna4snTaCkCZQ0gZImUNIESppASRMoaQIlTaCkCZQ0gZImUNIESppASRMoaQIlTaCkCZQ0gZImUNIESppASRMoaQIlTaCkCZQ0gZImUNIEStrfkrKUz3Ns5eAAAAAASUVORK5CYII=",
           "type": "image"
          },
          {
           "name": "13",
           "source": "data:image/png;base64,iVBORw0KGgoAAAANSUhEUgAAAOAAAADgCAIAAACVT/22AAAEaklEQVR4Xu3c4TEtSQCG4c/WDQNxcPOwEUiAG8clARGQB+JAHvbHKfaYWoNznenPep7y41QzXYpX92hqdo6PjwO1th2o+eeZf95f0wFoIlCqCZRqAqWaQKkmUKoJlGoCpZpAqSZQqgmUagKlmkCpJlCqCZRqAqWaQKkmUKoJlGoCpZpAqSZQqgmUagKlmkCpJlCqCZRqAqWaQKkmUKrtbPvxefBHth2o+eeZf54tnmoCpZpAqSZQqgmUagKlmkCpJlCqCZRqAqWaQKkmUKoJlGoCpZpAqSZQqgmUagKlmkCpJlCqCZRqAqWaQKkmUKoJlGoCpZpAqSZQqgmUagKlmueD0m3bgZp/nvnn2eKpJlCqCZRqAqWaQKkmUKoJlGoCpZpAqSZQqgmUagKlmkCpJlCqCZRqAqWaQKkmUKoJlGoCpZpAqSZQqgmUagKlmkCpJlCqCZRqAqWaQKkmUKp5Pijdth2o+eeZf54tnmoCpZpAqSZQqgmUagKlmkCpJlCqCZRqAqWaQKkmUKoJlGoCpZpAqSZQqgmUagKlmkCpJlCqCZRqAqWaQKkmUKoJlGoCpZpAqSZQqgmUagKlmueDUs0KSjWBUk2gVBMo1QRKNYFSTaBUEyjVBEo1gVJNoFQTKNUESjWBUk2gVBMo1QRKNYFSTaBUEyjVBEo1gVJNoFQTKNUESjWBUk2gVBMo1QRKNYFSTaBUEyjVfkwHtuDi4mI69HmOj4/NP2OB+adDn8oKSjWB8mQ3+Z08Pr3dJb+T3elHLUygJEmOkuvkdG1kLzlNrgc3KlCe1s696XCS7CXX07EldQR6kFwm10+by3VymRxMP4ptOXmlzpW95GQ6tpjRgR4kd8lNcpQcPg0eJkfJTXIn00Ws7+xnyU6yk1ytDR6tvV7W0EBPkpu3fnZvRv74fke/nl6sV/u8dixuXKAnydl07L+dafT7GhTowbvrXDmz1y/lMkmy+/IbdLP2elmDAl19FT5kg0t4p/UWj5LH5P7lfef6/eiyRgR6MHvf+Zo9i+jWnCf307F/3Sfn07HFjAh0/e77Qza+kHkPyc9XGr1Pfk7HljQi0I3/MrHxhbxp1ejkF4PTZD95eDm4rBGBbnxmsfGFvMfD2hnTyrid/dmIQOHdRgS68ZnFxhfyZY0IdON7mo0v5MsaEeiHjujXbXwh857/B/Rx+p7hRgR6+8qJxrz75HY6xv/eiECT/D0deNsGl/BOq39fWr2VGRTo7QdP3U8tn9/UoECTnL+70dOKAzmGGBdokvPkcPZ+9D45VOe3NjTQJLfJfnKYXK0dc94kV8lhsm9n/+6WeHDD2279DjRU3+nSs9ErKMzqWEEZq+906ZkVlGoCpZpAqbaz7cfnwZ/4ka///M7p0Gfz+c/Y9vfXFk81gVJNoFQTKNUESjWBUk2gVBMo1QRKNYFSTaBUEyjVBEo1gVJNoFQTKNUESjWBUk2gVBMo1QRKNYFSTaBUEyjVBEo1gVJNoFQTKNUESjWBUu0fO0iUz44D2QoAAAAASUVORK5CYII=",
           "type": "image"
          },
          {
           "name": "14",
           "source": "data:image/png;base64,iVBORw0KGgoAAAANSUhEUgAAAOAAAADgCAIAAACVT/22AAAEaklEQVR4Xu3c4TEtSQCG4c/WDQNxcPOwEUiAG8clARGQB+JAHvbHKfaYWoNznenPep7y41QzXYpX92hqdo6PjwO1th2o+eeZf95f0wFoIlCqCZRqAqWaQKkmUKoJlGoCpZpAqSZQqgmUagKlmkCpJlCqCZRqAqWaQKkmUKoJlGoCpZpAqSZQqgmUagKlmkCpJlCqCZRqAqWaQKkmUKrtbPvxefBHth2o+eeZf54tnmoCpZpAqSZQqgmUagKlmkCpJlCqCZRqAqWaQKkmUKoJlGoCpZpAqSZQqgmUagKlmkCpJlCqCZRqAqWaQKkmUKoJlGoCpZpAqSZQqgmUagKlmueD0m3bgZp/nvnn2eKpJlCqCZRqAqWaQKkmUKoJlGoCpZpAqSZQqgmUagKlmkCpJlCqCZRqAqWaQKkmUKoJlGoCpZpAqSZQqgmUagKlmkCpJlCqCZRqAqWaQKkmUKp5Pijdth2o+eeZf54tnmoCpZpAqSZQqgmUagKlmkCpJlCqCZRqAqWaQKkmUKoJlGoCpZpAqSZQqgmUagKlmkCpJlCqCZRqAqWaQKkmUKoJlGoCpZpAqSZQqgmUagKlmueDUs0KSjWBUk2gVBMo1QRKNYFSTaBUEyjVBEo1gVJNoFQTKNUESjWBUk2gVBMo1QRKNYFSTaBUEyjVBEo1gVJNoFQTKNUESjWBUk2gVBMo1QRKNYFSTaBUEyjVfkwHtuDi4mI69HmOj4/NP2OB+adDn8oKSjWB8mQ3+Z08Pr3dJb+T3elHLUygJEmOkuvkdG1kLzlNrgc3KlCe1s696XCS7CXX07EldQR6kFwm10+by3VymRxMP4ptOXmlzpW95GQ6tpjRgR4kd8lNcpQcPg0eJkfJTXIn00Ws7+xnyU6yk1ytDR6tvV7W0EBPkpu3fnZvRv74fke/nl6sV/u8dixuXKAnydl07L+dafT7GhTowbvrXDmz1y/lMkmy+/IbdLP2elmDAl19FT5kg0t4p/UWj5LH5P7lfef6/eiyRgR6MHvf+Zo9i+jWnCf307F/3Sfn07HFjAh0/e77Qza+kHkPyc9XGr1Pfk7HljQi0I3/MrHxhbxp1ejkF4PTZD95eDm4rBGBbnxmsfGFvMfD2hnTyrid/dmIQOHdRgS68ZnFxhfyZY0IdON7mo0v5MsaEeiHjujXbXwh857/B/Rx+p7hRgR6+8qJxrz75HY6xv/eiECT/D0deNsGl/BOq39fWr2VGRTo7QdP3U8tn9/UoECTnL+70dOKAzmGGBdokvPkcPZ+9D45VOe3NjTQJLfJfnKYXK0dc94kV8lhsm9n/+6WeHDD2279DjRU3+nSs9ErKMzqWEEZq+906ZkVlGoCpZpAqbaz7cfnwZ/4ka///M7p0Gfz+c/Y9vfXFk81gVJNoFQTKNUESjWBUk2gVBMo1QRKNYFSTaBUEyjVBEo1gVJNoFQTKNUESjWBUk2gVBMo1QRKNYFSTaBUEyjVBEo1gVJNoFQTKNUESjWBUu0fO0iUz44D2QoAAAAASUVORK5CYII=",
           "type": "image"
          },
          {
           "name": "15",
           "source": "data:image/png;base64,iVBORw0KGgoAAAANSUhEUgAAAOAAAADgCAIAAACVT/22AAAEZ0lEQVR4Xu3c3U0cSRhA0Y+VwzCOA5wHGwEJwMZhSMAR2HkAcRjn4X1AeMe9y2Dmh7krzhEPo4IuoeGqqilQH52fnw9k7TtQ869n/vX+WA5AiUBJEyhpAiVNoKQJlDSBkiZQ0gRKmkBJEyhpAiVNoKQJlDSBkiZQ0gRKmkBJEyhpAiVNoKQJlDSBkiZQ0gRKmkBJEyhpAiVNoKQJlLSjfT8+D7ay70DNv57517PFkyZQ0gRKmkBJEyhpAiVNoKQJlDSBkiZQ0gRKmkBJEyhpAiVNoKQJlDSBkiZQ0gRKmkBJEyhpAiVNoKQJlDSBkiZQ0gRKmkBJEyhpAiXN80Fp23eg5l/P/OvZ4kkTKGkCJU2gpAmUNIGSJlDSBEqaQEkTKGkCJU2gpAmUNIGSJlDSBEqaQEkTKGkCJU2gpAmUNIGSJlDSBEqaQEkTKGkCJU2gpAmUNIGS5vmgtO07UPOvZ/71bPGkCZQ0gZImUNIESppASRMoaQIlTaCkCZQ0gZImUNIESppASRMoaQIlTaCkCZQ0gZImUNIESppASRMoaQIlTaCkCZQ0gZImUNIESppASfN8UNKsoKQJlDSBkiZQ0gRKmkBJEyhpAiVNoKQJlDSBkiZQ0gRKmkBJEyhpAiVNoKQJlDSBkiZQ0gRKmkBJEyhpAiVNoKQJlDSBkiZQ0gRKmkBJEyhpAiXt3XJgDz5//rwc2p3z83Pzr/EK8y+HdsoKSlop0Pczn2Z+PH58m/k08375VbwpmUDPZm5mLldGjmcuZ240+qY1An1YO4+XwzMzxzM3yzHejkagF0/U+eB45mI5xi6dzHyZuXm8ubqZ+TJzsvyqg2gEurqzX80czRzNfF0ZPFt5zQ6dzHybuZ05mzl9HDydOZu5nfl2+Ewbga766/HFarU/3zt26GLm9rm96/bA21cvUF7HxczVcuy/XR2y0V6gX2Zm5v2vb9/tymu2d/LbdT64Othe3wh09c06m/kxc//rfefq/Sjbe1gFXmSDS3ahEej1zP1y7B/3M9fLMTZ3sva+8ynHh1lEG4F+n/n4RKP3Mx+XY2xl9bfPF9n4wi00Ap3HRhc3RpczH2a+/zrIljb+y9zGF24hE+jMfF85Y3pgZ9+Hjc/sNr5wC6VA4V8E+vZsfGa38YVbEOjbs/E9/cYXbqER6M//Af2x/Ay796Ij+lUbX7iFRqC8prsnTvTWu5+5W469gkagD/++9PDBK/hzOfC8DS7ZhUagvLK7F566Xx5m+RyBvl3Xv93o5SEPpAX6hl3PnK69H72fOT1knSPQt+5u5sPM6czXlWPO25mvM6czHw62s//0Gg9ueJ7TpcO6O9jvQM+ygpLWWEGdLvEEKyhpAiVNoKQd7fvxebCNd/P/f37ncmjXfP9r7Pvna4snTaCkCZQ0gZImUNIESppASRMoaQIlTaCkCZQ0gZImUNIESppASRMoaQIlTaCkCZQ0gZImUNIESppASRMoaQIlTaCkCZQ0gZImUNIEStrfkrKUz3Ns5eAAAAAASUVORK5CYII=",
           "type": "image"
          }
         ],
         "layout": {
          "margin": {
           "t": 60
          }
         },
         "name": "3"
        },
        {
         "data": [
          {
           "name": "16",
           "source": "data:image/png;base64,iVBORw0KGgoAAAANSUhEUgAAAOAAAADgCAIAAACVT/22AAAEXUlEQVR4Xu3c3U1bSRiA4Y/VlhFSB6QPtgIaCFtHoIFUkPQB1BHSR/YCkXXOLib4B7+Sn0dcWIPPXFivZo4HdE4uLy8HsvYdqPnXM/96fywHoESgpAmUNIGSJlDSBEqaQEkTKGkCJU2gpAmUNIGSJlDSBEqaQEkTKGkCJU2gpAmUNIGSJlDSBEqaQEkTKGkCJU2gpAmUNIGSJlDSBErayb4fnwdb2Xeg5l/P/OvZ4kkTKGkCJU2gpAmUNIGSJlDSBEqaQEkTKGkCJU2gpAmUNIGSJlDSBEqaQEkTKGkCJU2gpAmUNIGSJlDSBEqaQEkTKGkCJU2gpAmUNIGS5vmgtO07UPOvZ/71bPGkCZQ0gZImUNIESppASRMoaQIlTaCkCZQ0gZImUNIESppASRMoaQIlTaCkCZQ0gZImUNIESppASRMoaQIlTaCkCZQ0gZImUNIESppASfN8UNr2Haj51zP/erZ40gRKmkBJEyhpAiVNoKQJlDSBkiZQ0gRKmkBJEyhpAiVNoKQJlDSBkiZQ0gRKmkBJEyhpAiVNoKQJlDSBkiZQ0gRKmkBJEyhpAiVNoKR5Piht+w7U/OuZfz1bPGkCJU2gpAmUNIGSJlDSBEqaQEkTKGkCJU2gpAmUNIGSJlDSBEqaQEkTKGkCJU2gpAmUNIGSJlDSBEqaQEkTKGkCJU2gpAmUNIGSJlDSPB+UNCsoaQIlTaCkCZQ0gZImUNIESppASRMoaQIlTaCkCZQ0gZImUNIESppASRMoaQIlTaCkCZQ0gZImUNIESppASRMoaQIlTaCkCZQ0gZImUNIESppASftzObAHnz9/Xg7tzuXlpfnXeIP5l0M7ZQUlrRTou5lPMz+efr7NfJp5t3wXRyUT6MXM7czVysjpzNXMrUaPWiPQx7XzdDk8M3M6c7sc43g0Av34TJ2PTmc+LsfYpbOZLzO3TzdXtzNfZs6W7zqIRqCrO/v1zMnMyczXlcGLldfs0NnMt5m7mYuZ86fB85mLmbuZb4fPtBHoqr+fXqxW+/OzY4c+zty9tHfdHXj76gXK2/g4c70c+3/Xh2y0F+iXmZl59+vHd7fymu2d/Xadj64Pttc3Al39sC5mfsw8/HrfuXo/yvYeV4FX2eCSXWgEejPzsBz718PMzXKMzZ2tve98zulhFtFGoN9nPjzT6MPMh+UYW1n99vkqG1+4hUag89To4sboaub9zPdfB9nSxn+Z2/jCLWQCnZnvK2dMj+zs+7Dxmd3GF26hFCj8h0CPz8ZndhtfuAWBHp+N7+k3vnALjUB//g/oj+Vv2L1XHdGv2vjCLTQC5S3dP3Oit97DzP1y7A00An3896XHH97AX8uBl21wyS40AuWN3b/y1P3qMMvnCPR43fx2o1eHPJAW6BG7mTlfez/6MHN+yDpHoMfufub9zPnM15VjzruZrzPnM+8PtrP/9BYPbniZ06XDuj/Yd6AXWUFJa6ygTpd4hhWUNIGSJlDS/gGVB48rdMwvRQAAAABJRU5ErkJggg==",
           "type": "image"
          },
          {
           "name": "17",
           "source": "data:image/png;base64,iVBORw0KGgoAAAANSUhEUgAAAOAAAADgCAIAAACVT/22AAAEYUlEQVR4Xu3c0VEjRwBF0YfLYcDGAZsHjoAEYONYSIAIIA9EHIg88IcKLKbMAPJq+q05p/hQNUx/wKV71FBzcHZ2Fqi170DNP8/88/6YDkATgVJNoFQTKNUESjWBUk2gVBMo1QRKNYFSTaBUEyjVBEo1gVJNoFQTKNUESjWBUk2gVBMo1QRKNYFSTaBUEyjVBEo1gVJNoFQTKNUESjWBUu1g34/Pg/9k34Gaf57559niqSZQqgmUagKlmkCpJlCqCZRqAqWaQKkmUKoJlGoCpZpAqSZQqgmUagKlmkCpJlCqCZRqAqWaQKkmUKoJlGoCpZpAqSZQqgmUagKlmkCpJlCqeT4o3fYdqPnnmX+eLZ5qAqWaQKkmUKoJlGoCpZpAqSZQqgmUagKlmkCpJlCqCZRqAqWaQKkmUKoJlGoCpZpAqSZQqgmUagKlmkCpJlCqCZRqAqWaQKkmUKoJlGoCpZrng9Jt34Gaf57559niqSZQqgmUagKlmkCpJlCqCZRqAqWaQKkmUKoJlGoCpZpAqSZQqgmUagKlmkCpJlCqCZRqAqWaQKkmUKoJlGoCpZpAqSZQqgmUagKlmkCpJlCqeT4o3fYdqPnnmX+eLZ5qAqWaQKkmUKoJlGoCpZpAqSZQqgmUagKlmkCpJlCqCZRqAqWaQKkmUKoJlGoCpZpAqSZQqgmUagKlmkCpJlCqCZRqAqWaQKkmUKoJlGoCpZrng1LNCko1gVJNoFQTKNUESjWBUk2gVBMo1QRKNYFSTaBUEyjVBEo1gVJNoFQTKNUESjWBUk2gVBMo1QRKNYFSTaBUEyjVBEo1gVJNoFQTKNUESjWBUk2gVBMo1f6cDuzB9fX1dOjXOTs7M/+MBeafDv1SVlCqCZRnh8nP5On54yH5mRxOv2phAiVJcprcJRdbI0fJRXI3uFGB8rx2Hk2Hk+QouZuOLakj0OPkJrl73lzukpvkePpV7Mv5G3VuHCXn07HFjA70OHlIVslpcvI8eJKcJqvkQaaL2N7ZL5OD5CC53Ro83Xq9rKGBnier9353VyN/fb+iH88vtqt9WTsWNy7Q8+RyOvbvLjX6dQ0K9PjDdW5c2uuXcpMkOXz9A1ptvV7WoEA334VP2eESPmi7xdPkKVm/vu/cvh9d1ohAj2fvO99yZBHdm6tkPR37xzq5mo4tZkSg23ffn7Lzhcx7TL6/0eg6+T4dW9KIQHf+y8TOF/KuTaOTNwYXybfk8fXgskYEuvOZxc4X8hGPW2dMG+N29hcjAoUPGxHozmcWO1/Ib2tEoDvf0+x8Ib+tEYF+6oh+284XMu/lf0Cfpp8ZbkSg92+caMxbJ/fTMf73RgSa5K/pwPt2uIQP2vz70uajzKBA7z956n5h+fyiBgWa5OrDjV5UHMgxxLhAk1wlJ7P3o+vkRJ1f2tBAk9wn35KT5HbrmHOV3CYnyTc7+1e3xIMb3nfvPdBQfadLL0avoDCrYwVlrL7TpRdWUKoJlGoCpdrfPZ2PKz3yg+4AAAAASUVORK5CYII=",
           "type": "image"
          },
          {
           "name": "18",
           "source": "data:image/png;base64,iVBORw0KGgoAAAANSUhEUgAAAOAAAADgCAIAAACVT/22AAAEYUlEQVR4Xu3c0VEjRwBF0YfLYcDGAZsHjoAEYONYSIAIIA9EHIg88IcKLKbMAPJq+q05p/hQNUx/wKV71FBzcHZ2Fqi170DNP8/88/6YDkATgVJNoFQTKNUESjWBUk2gVBMo1QRKNYFSTaBUEyjVBEo1gVJNoFQTKNUESjWBUk2gVBMo1QRKNYFSTaBUEyjVBEo1gVJNoFQTKNUESjWBUu1g34/Pg/9k34Gaf57559niqSZQqgmUagKlmkCpJlCqCZRqAqWaQKkmUKoJlGoCpZpAqSZQqgmUagKlmkCpJlCqCZRqAqWaQKkmUKoJlGoCpZpAqSZQqgmUagKlmkCpJlCqeT4o3fYdqPnnmX+eLZ5qAqWaQKkmUKoJlGoCpZpAqSZQqgmUagKlmkCpJlCqCZRqAqWaQKkmUKoJlGoCpZpAqSZQqgmUagKlmkCpJlCqCZRqAqWaQKkmUKoJlGoCpZrng9Jt34Gaf57559niqSZQqgmUagKlmkCpJlCqCZRqAqWaQKkmUKoJlGoCpZpAqSZQqgmUagKlmkCpJlCqCZRqAqWaQKkmUKoJlGoCpZpAqSZQqgmUagKlmkCpJlCqeT4o3fYdqPnnmX+eLZ5qAqWaQKkmUKoJlGoCpZpAqSZQqgmUagKlmkCpJlCqCZRqAqWaQKkmUKoJlGoCpZpAqSZQqgmUagKlmkCpJlCqCZRqAqWaQKkmUKoJlGoCpZrng1LNCko1gVJNoFQTKNUESjWBUk2gVBMo1QRKNYFSTaBUEyjVBEo1gVJNoFQTKNUESjWBUk2gVBMo1QRKNYFSTaBUEyjVBEo1gVJNoFQTKNUESjWBUk2gVBMo1f6cDuzB9fX1dOjXOTs7M/+MBeafDv1SVlCqCZRnh8nP5On54yH5mRxOv2phAiVJcprcJRdbI0fJRXI3uFGB8rx2Hk2Hk+QouZuOLakj0OPkJrl73lzukpvkePpV7Mv5G3VuHCXn07HFjA70OHlIVslpcvI8eJKcJqvkQaaL2N7ZL5OD5CC53Ro83Xq9rKGBnier9353VyN/fb+iH88vtqt9WTsWNy7Q8+RyOvbvLjX6dQ0K9PjDdW5c2uuXcpMkOXz9A1ptvV7WoEA334VP2eESPmi7xdPkKVm/vu/cvh9d1ohAj2fvO99yZBHdm6tkPR37xzq5mo4tZkSg23ffn7Lzhcx7TL6/0eg6+T4dW9KIQHf+y8TOF/KuTaOTNwYXybfk8fXgskYEuvOZxc4X8hGPW2dMG+N29hcjAoUPGxHozmcWO1/Ib2tEoDvf0+x8Ib+tEYF+6oh+284XMu/lf0Cfpp8ZbkSg92+caMxbJ/fTMf73RgSa5K/pwPt2uIQP2vz70uajzKBA7z956n5h+fyiBgWa5OrDjV5UHMgxxLhAk1wlJ7P3o+vkRJ1f2tBAk9wn35KT5HbrmHOV3CYnyTc7+1e3xIMb3nfvPdBQfadLL0avoDCrYwVlrL7TpRdWUKoJlGoCpdrfPZ2PKz3yg+4AAAAASUVORK5CYII=",
           "type": "image"
          },
          {
           "name": "19",
           "source": "data:image/png;base64,iVBORw0KGgoAAAANSUhEUgAAAOAAAADgCAIAAACVT/22AAAEXUlEQVR4Xu3c3U1bSRiA4Y/VlhFSB6QPtgIaCFtHoIFUkPQB1BHSR/YCkXXOLib4B7+Sn0dcWIPPXFivZo4HdE4uLy8HsvYdqPnXM/96fywHoESgpAmUNIGSJlDSBEqaQEkTKGkCJU2gpAmUNIGSJlDSBEqaQEkTKGkCJU2gpAmUNIGSJlDSBEqaQEkTKGkCJU2gpAmUNIGSJlDSBErayb4fnwdb2Xeg5l/P/OvZ4kkTKGkCJU2gpAmUNIGSJlDSBEqaQEkTKGkCJU2gpAmUNIGSJlDSBEqaQEkTKGkCJU2gpAmUNIGSJlDSBEqaQEkTKGkCJU2gpAmUNIGS5vmgtO07UPOvZ/71bPGkCZQ0gZImUNIESppASRMoaQIlTaCkCZQ0gZImUNIESppASRMoaQIlTaCkCZQ0gZImUNIESppASRMoaQIlTaCkCZQ0gZImUNIESppASfN8UNr2Haj51zP/erZ40gRKmkBJEyhpAiVNoKQJlDSBkiZQ0gRKmkBJEyhpAiVNoKQJlDSBkiZQ0gRKmkBJEyhpAiVNoKQJlDSBkiZQ0gRKmkBJEyhpAiVNoKR5Piht+w7U/OuZfz1bPGkCJU2gpAmUNIGSJlDSBEqaQEkTKGkCJU2gpAmUNIGSJlDSBEqaQEkTKGkCJU2gpAmUNIGSJlDSBEqaQEkTKGkCJU2gpAmUNIGSJlDSPB+UNCsoaQIlTaCkCZQ0gZImUNIESppASRMoaQIlTaCkCZQ0gZImUNIESppASRMoaQIlTaCkCZQ0gZImUNIESppASRMoaQIlTaCkCZQ0gZImUNIESppASftzObAHnz9/Xg7tzuXlpfnXeIP5l0M7ZQUlrRTou5lPMz+efr7NfJp5t3wXRyUT6MXM7czVysjpzNXMrUaPWiPQx7XzdDk8M3M6c7sc43g0Av34TJ2PTmc+LsfYpbOZLzO3TzdXtzNfZs6W7zqIRqCrO/v1zMnMyczXlcGLldfs0NnMt5m7mYuZ86fB85mLmbuZb4fPtBHoqr+fXqxW+/OzY4c+zty9tHfdHXj76gXK2/g4c70c+3/Xh2y0F+iXmZl59+vHd7fymu2d/Xadj64Pttc3Al39sC5mfsw8/HrfuXo/yvYeV4FX2eCSXWgEejPzsBz718PMzXKMzZ2tve98zulhFtFGoN9nPjzT6MPMh+UYW1n99vkqG1+4hUag89To4sboaub9zPdfB9nSxn+Z2/jCLWQCnZnvK2dMj+zs+7Dxmd3GF26hFCj8h0CPz8ZndhtfuAWBHp+N7+k3vnALjUB//g/oj+Vv2L1XHdGv2vjCLTQC5S3dP3Oit97DzP1y7A00An3896XHH97AX8uBl21wyS40AuWN3b/y1P3qMMvnCPR43fx2o1eHPJAW6BG7mTlfez/6MHN+yDpHoMfufub9zPnM15VjzruZrzPnM+8PtrP/9BYPbniZ06XDuj/Yd6AXWUFJa6ygTpd4hhWUNIGSJlDS/gGVB48rdMwvRQAAAABJRU5ErkJggg==",
           "type": "image"
          }
         ],
         "layout": {
          "margin": {
           "t": 60
          }
         },
         "name": "4"
        }
       ],
       "layout": {
        "annotations": [
         {
          "font": {},
          "showarrow": false,
          "text": "facet_col=0",
          "x": 0.1175,
          "xanchor": "center",
          "xref": "paper",
          "y": 1,
          "yanchor": "bottom",
          "yref": "paper"
         },
         {
          "font": {},
          "showarrow": false,
          "text": "facet_col=1",
          "x": 0.3725,
          "xanchor": "center",
          "xref": "paper",
          "y": 1,
          "yanchor": "bottom",
          "yref": "paper"
         },
         {
          "font": {},
          "showarrow": false,
          "text": "facet_col=2",
          "x": 0.6275,
          "xanchor": "center",
          "xref": "paper",
          "y": 1,
          "yanchor": "bottom",
          "yref": "paper"
         },
         {
          "font": {},
          "showarrow": false,
          "text": "facet_col=3",
          "x": 0.8824999999999998,
          "xanchor": "center",
          "xref": "paper",
          "y": 1,
          "yanchor": "bottom",
          "yref": "paper"
         }
        ],
        "margin": {
         "t": 60
        },
        "sliders": [
         {
          "active": 0,
          "currentvalue": {
           "prefix": "animation_frame="
          },
          "len": 0.9,
          "pad": {
           "b": 10,
           "t": 60
          },
          "steps": [
           {
            "args": [
             [
              "0"
             ],
             {
              "frame": {
               "duration": 0,
               "redraw": true
              },
              "fromcurrent": true,
              "mode": "immediate",
              "transition": {
               "duration": 0,
               "easing": "linear"
              }
             }
            ],
            "label": "0",
            "method": "animate"
           },
           {
            "args": [
             [
              "1"
             ],
             {
              "frame": {
               "duration": 0,
               "redraw": true
              },
              "fromcurrent": true,
              "mode": "immediate",
              "transition": {
               "duration": 0,
               "easing": "linear"
              }
             }
            ],
            "label": "1",
            "method": "animate"
           },
           {
            "args": [
             [
              "2"
             ],
             {
              "frame": {
               "duration": 0,
               "redraw": true
              },
              "fromcurrent": true,
              "mode": "immediate",
              "transition": {
               "duration": 0,
               "easing": "linear"
              }
             }
            ],
            "label": "2",
            "method": "animate"
           },
           {
            "args": [
             [
              "3"
             ],
             {
              "frame": {
               "duration": 0,
               "redraw": true
              },
              "fromcurrent": true,
              "mode": "immediate",
              "transition": {
               "duration": 0,
               "easing": "linear"
              }
             }
            ],
            "label": "3",
            "method": "animate"
           },
           {
            "args": [
             [
              "4"
             ],
             {
              "frame": {
               "duration": 0,
               "redraw": true
              },
              "fromcurrent": true,
              "mode": "immediate",
              "transition": {
               "duration": 0,
               "easing": "linear"
              }
             }
            ],
            "label": "4",
            "method": "animate"
           }
          ],
          "x": 0.1,
          "xanchor": "left",
          "y": 0,
          "yanchor": "top"
         }
        ],
        "template": {
         "data": {
          "candlestick": [
           {
            "decreasing": {
             "line": {
              "color": "#000033"
             }
            },
            "increasing": {
             "line": {
              "color": "#000032"
             }
            },
            "type": "candlestick"
           }
          ],
          "contour": [
           {
            "colorscale": [
             [
              0,
              "#000011"
             ],
             [
              0.1111111111111111,
              "#000012"
             ],
             [
              0.2222222222222222,
              "#000013"
             ],
             [
              0.3333333333333333,
              "#000014"
             ],
             [
              0.4444444444444444,
              "#000015"
             ],
             [
              0.5555555555555556,
              "#000016"
             ],
             [
              0.6666666666666666,
              "#000017"
             ],
             [
              0.7777777777777778,
              "#000018"
             ],
             [
              0.8888888888888888,
              "#000019"
             ],
             [
              1,
              "#000020"
             ]
            ],
            "type": "contour"
           }
          ],
          "contourcarpet": [
           {
            "colorscale": [
             [
              0,
              "#000011"
             ],
             [
              0.1111111111111111,
              "#000012"
             ],
             [
              0.2222222222222222,
              "#000013"
             ],
             [
              0.3333333333333333,
              "#000014"
             ],
             [
              0.4444444444444444,
              "#000015"
             ],
             [
              0.5555555555555556,
              "#000016"
             ],
             [
              0.6666666666666666,
              "#000017"
             ],
             [
              0.7777777777777778,
              "#000018"
             ],
             [
              0.8888888888888888,
              "#000019"
             ],
             [
              1,
              "#000020"
             ]
            ],
            "type": "contourcarpet"
           }
          ],
          "heatmap": [
           {
            "colorscale": [
             [
              0,
              "#000011"
             ],
             [
              0.1111111111111111,
              "#000012"
             ],
             [
              0.2222222222222222,
              "#000013"
             ],
             [
              0.3333333333333333,
              "#000014"
             ],
             [
              0.4444444444444444,
              "#000015"
             ],
             [
              0.5555555555555556,
              "#000016"
             ],
             [
              0.6666666666666666,
              "#000017"
             ],
             [
              0.7777777777777778,
              "#000018"
             ],
             [
              0.8888888888888888,
              "#000019"
             ],
             [
              1,
              "#000020"
             ]
            ],
            "type": "heatmap"
           }
          ],
          "histogram2d": [
           {
            "colorscale": [
             [
              0,
              "#000011"
             ],
             [
              0.1111111111111111,
              "#000012"
             ],
             [
              0.2222222222222222,
              "#000013"
             ],
             [
              0.3333333333333333,
              "#000014"
             ],
             [
              0.4444444444444444,
              "#000015"
             ],
             [
              0.5555555555555556,
              "#000016"
             ],
             [
              0.6666666666666666,
              "#000017"
             ],
             [
              0.7777777777777778,
              "#000018"
             ],
             [
              0.8888888888888888,
              "#000019"
             ],
             [
              1,
              "#000020"
             ]
            ],
            "type": "histogram2d"
           }
          ],
          "icicle": [
           {
            "textfont": {
             "color": "white"
            },
            "type": "icicle"
           }
          ],
          "sankey": [
           {
            "textfont": {
             "color": "#000036"
            },
            "type": "sankey"
           }
          ],
          "scatter": [
           {
            "marker": {
             "line": {
              "width": 0
             }
            },
            "type": "scatter"
           }
          ],
          "table": [
           {
            "cells": {
             "fill": {
              "color": "#000038"
             },
             "font": {
              "color": "#000037"
             },
             "line": {
              "color": "#000039"
             }
            },
            "header": {
             "fill": {
              "color": "#000040"
             },
             "font": {
              "color": "#000036"
             },
             "line": {
              "color": "#000039"
             }
            },
            "type": "table"
           }
          ],
          "waterfall": [
           {
            "connector": {
             "line": {
              "color": "#000036",
              "width": 2
             }
            },
            "decreasing": {
             "marker": {
              "color": "#000033"
             }
            },
            "increasing": {
             "marker": {
              "color": "#000032"
             }
            },
            "totals": {
             "marker": {
              "color": "#000034"
             }
            },
            "type": "waterfall"
           }
          ]
         },
         "layout": {
          "coloraxis": {
           "colorscale": [
            [
             0,
             "#000011"
            ],
            [
             0.1111111111111111,
             "#000012"
            ],
            [
             0.2222222222222222,
             "#000013"
            ],
            [
             0.3333333333333333,
             "#000014"
            ],
            [
             0.4444444444444444,
             "#000015"
            ],
            [
             0.5555555555555556,
             "#000016"
            ],
            [
             0.6666666666666666,
             "#000017"
            ],
            [
             0.7777777777777778,
             "#000018"
            ],
            [
             0.8888888888888888,
             "#000019"
            ],
            [
             1,
             "#000020"
            ]
           ]
          },
          "colorscale": {
           "diverging": [
            [
             0,
             "#000021"
            ],
            [
             0.1,
             "#000022"
            ],
            [
             0.2,
             "#000023"
            ],
            [
             0.3,
             "#000024"
            ],
            [
             0.4,
             "#000025"
            ],
            [
             0.5,
             "#000026"
            ],
            [
             0.6,
             "#000027"
            ],
            [
             0.7,
             "#000028"
            ],
            [
             0.8,
             "#000029"
            ],
            [
             0.9,
             "#000030"
            ],
            [
             1,
             "#000031"
            ]
           ],
           "sequential": [
            [
             0,
             "#000011"
            ],
            [
             0.1111111111111111,
             "#000012"
            ],
            [
             0.2222222222222222,
             "#000013"
            ],
            [
             0.3333333333333333,
             "#000014"
            ],
            [
             0.4444444444444444,
             "#000015"
            ],
            [
             0.5555555555555556,
             "#000016"
            ],
            [
             0.6666666666666666,
             "#000017"
            ],
            [
             0.7777777777777778,
             "#000018"
            ],
            [
             0.8888888888888888,
             "#000019"
            ],
            [
             1,
             "#000020"
            ]
           ],
           "sequentialminus": [
            [
             0,
             "#000011"
            ],
            [
             0.1111111111111111,
             "#000012"
            ],
            [
             0.2222222222222222,
             "#000013"
            ],
            [
             0.3333333333333333,
             "#000014"
            ],
            [
             0.4444444444444444,
             "#000015"
            ],
            [
             0.5555555555555556,
             "#000016"
            ],
            [
             0.6666666666666666,
             "#000017"
            ],
            [
             0.7777777777777778,
             "#000018"
            ],
            [
             0.8888888888888888,
             "#000019"
            ],
            [
             1,
             "#000020"
            ]
           ]
          },
          "colorway": [
           "#000001",
           "#000002",
           "#000003",
           "#000004",
           "#000005",
           "#000006",
           "#000007",
           "#000008",
           "#000009",
           "#000010"
          ]
         }
        },
        "updatemenus": [
         {
          "buttons": [
           {
            "args": [
             null,
             {
              "frame": {
               "duration": 500,
               "redraw": true
              },
              "fromcurrent": true,
              "mode": "immediate",
              "transition": {
               "duration": 500,
               "easing": "linear"
              }
             }
            ],
            "label": "&#9654;",
            "method": "animate"
           },
           {
            "args": [
             [
              null
             ],
             {
              "frame": {
               "duration": 0,
               "redraw": true
              },
              "fromcurrent": true,
              "mode": "immediate",
              "transition": {
               "duration": 0,
               "easing": "linear"
              }
             }
            ],
            "label": "&#9724;",
            "method": "animate"
           }
          ],
          "direction": "left",
          "pad": {
           "r": 10,
           "t": 70
          },
          "showactive": false,
          "type": "buttons",
          "x": 0.1,
          "xanchor": "right",
          "y": 0,
          "yanchor": "top"
         }
        ],
        "xaxis": {
         "anchor": "y",
         "domain": [
          0,
          0.235
         ]
        },
        "xaxis2": {
         "anchor": "y2",
         "domain": [
          0.255,
          0.49
         ],
         "matches": "x"
        },
        "xaxis3": {
         "anchor": "y3",
         "domain": [
          0.51,
          0.745
         ],
         "matches": "x"
        },
        "xaxis4": {
         "anchor": "y4",
         "domain": [
          0.7649999999999999,
          0.9999999999999999
         ],
         "matches": "x"
        },
        "yaxis": {
         "anchor": "x",
         "domain": [
          0,
          1
         ]
        },
        "yaxis2": {
         "anchor": "x2",
         "domain": [
          0,
          1
         ],
         "matches": "y",
         "showticklabels": false
        },
        "yaxis3": {
         "anchor": "x3",
         "domain": [
          0,
          1
         ],
         "matches": "y",
         "showticklabels": false
        },
        "yaxis4": {
         "anchor": "x4",
         "domain": [
          0,
          1
         ],
         "matches": "y",
         "showticklabels": false
        }
       }
      }
     },
     "metadata": {},
     "output_type": "display_data"
    }
   ],
   "source": [
    "# to view them we can use \n",
    "from src.visualization import render_minigrid_observations\n",
    "import plotly.express as px\n",
    "\n",
    "images = torch.stack([torch.from_numpy(render_minigrid_observations(env, s)) for s in all_observations])\n",
    "images.shape\n",
    "\n",
    "px.imshow(images, animation_frame=1, facet_col=0).show()"
   ]
  },
  {
   "cell_type": "code",
   "execution_count": 29,
   "metadata": {},
   "outputs": [
    {
     "data": {
      "text/plain": [
       "torch.Size([4, 9, 7])"
      ]
     },
     "execution_count": 29,
     "metadata": {},
     "output_type": "execute_result"
    }
   ],
   "source": [
    "# Convert these synthetic trajectories into what we need for the model\n",
    "\n",
    "from src.decision_transformer.offline_dataset import one_hot_encode_observation\n",
    "\n",
    "\n",
    "one_hot_s = torch.stack([one_hot_encode_observation(all_observations[i]) for i in range(all_observations.shape[0])])\n",
    "\n",
    "# pad the first dimension to be 9 with all 0's \n",
    "obs = torch.cat([\n",
    "    torch.zeros(one_hot_s.shape[0], 9 - one_hot_s.shape[1], *one_hot_s.shape[2:]), \n",
    "    one_hot_s\n",
    "    ], dim=1)\n",
    "obs.shape\n",
    "\n",
    "actions = torch.stack([all_actions[i] for i in range(all_actions.shape[0])])\n",
    "# pad it with 7's so that the length is 9 \n",
    "actions = torch.cat([\n",
    "    torch.ones(actions.shape[0], 8 - actions.shape[1]) * 7, \n",
    "    actions\n",
    "    ], dim=1).to(int).unsqueeze(-1)\n",
    "actions.shape\n",
    "\n",
    "time = torch.cat([\n",
    "    torch.tensor([0]*5),\n",
    "    torch.arange(1,5),\n",
    "    ], dim=0)\n",
    "# repeat it for each trajectory\n",
    "time = torch.stack([time] * actions.shape[0]).unsqueeze(-1)\n",
    "\n",
    "# just set to max for now \n",
    "rtg = torch.ones(actions.shape[0], time.shape[1]).unsqueeze(-1) * 0.8920\n",
    "\n",
    "\n",
    "tokens = dt.to_tokens(\n",
    "    obs, \n",
    "    actions,\n",
    "    rtg, \n",
    "    time,\n",
    ")\n",
    "tokens.shape # now we have the tokens, we can run the model \n",
    "x, adversarial_cache = dt.transformer.run_with_cache(tokens, remove_batch_dim=False)\n",
    "state_preds, action_preds, reward_preds = dt.get_logits(\n",
    "    x,\n",
    "    batch_size=4,\n",
    "    seq_length=9,\n",
    "    no_actions=False,  # we always pad now.\n",
    ")\n",
    "\n",
    "action_preds.shape"
   ]
  },
  {
   "cell_type": "code",
   "execution_count": 30,
   "metadata": {},
   "outputs": [
    {
     "data": {
      "application/vnd.plotly.v1+json": {
       "config": {
        "plotlyServerURL": "https://plotly.com"
       },
       "data": [
        {
         "alignmentgroup": "True",
         "hovertemplate": "action=%{x}<br>scenario=key_top<br>logit=%{y}<extra></extra>",
         "legendgroup": "left",
         "marker": {
          "color": "#636efa",
          "pattern": {
           "shape": ""
          }
         },
         "name": "left",
         "offsetgroup": "left",
         "orientation": "v",
         "showlegend": true,
         "textposition": "auto",
         "type": "bar",
         "x": [
          "left"
         ],
         "xaxis": "x3",
         "y": [
          4.898122310638428
         ],
         "yaxis": "y3"
        },
        {
         "alignmentgroup": "True",
         "hovertemplate": "action=%{x}<br>scenario=key_bottom<br>logit=%{y}<extra></extra>",
         "legendgroup": "left",
         "marker": {
          "color": "#636efa",
          "pattern": {
           "shape": ""
          }
         },
         "name": "left",
         "offsetgroup": "left",
         "orientation": "v",
         "showlegend": false,
         "textposition": "auto",
         "type": "bar",
         "x": [
          "left"
         ],
         "xaxis": "x4",
         "y": [
          0.5147724747657776
         ],
         "yaxis": "y4"
        },
        {
         "alignmentgroup": "True",
         "hovertemplate": "action=%{x}<br>scenario=ball_top<br>logit=%{y}<extra></extra>",
         "legendgroup": "left",
         "marker": {
          "color": "#636efa",
          "pattern": {
           "shape": ""
          }
         },
         "name": "left",
         "offsetgroup": "left",
         "orientation": "v",
         "showlegend": false,
         "textposition": "auto",
         "type": "bar",
         "x": [
          "left"
         ],
         "xaxis": "x",
         "y": [
          7.6172637939453125
         ],
         "yaxis": "y"
        },
        {
         "alignmentgroup": "True",
         "hovertemplate": "action=%{x}<br>scenario=ball_bottom<br>logit=%{y}<extra></extra>",
         "legendgroup": "left",
         "marker": {
          "color": "#636efa",
          "pattern": {
           "shape": ""
          }
         },
         "name": "left",
         "offsetgroup": "left",
         "orientation": "v",
         "showlegend": false,
         "textposition": "auto",
         "type": "bar",
         "x": [
          "left"
         ],
         "xaxis": "x2",
         "y": [
          -0.3229745030403137
         ],
         "yaxis": "y2"
        },
        {
         "alignmentgroup": "True",
         "hovertemplate": "action=%{x}<br>scenario=key_top<br>logit=%{y}<extra></extra>",
         "legendgroup": "right",
         "marker": {
          "color": "#EF553B",
          "pattern": {
           "shape": ""
          }
         },
         "name": "right",
         "offsetgroup": "right",
         "orientation": "v",
         "showlegend": true,
         "textposition": "auto",
         "type": "bar",
         "x": [
          "right"
         ],
         "xaxis": "x3",
         "y": [
          5.562320232391357
         ],
         "yaxis": "y3"
        },
        {
         "alignmentgroup": "True",
         "hovertemplate": "action=%{x}<br>scenario=key_bottom<br>logit=%{y}<extra></extra>",
         "legendgroup": "right",
         "marker": {
          "color": "#EF553B",
          "pattern": {
           "shape": ""
          }
         },
         "name": "right",
         "offsetgroup": "right",
         "orientation": "v",
         "showlegend": false,
         "textposition": "auto",
         "type": "bar",
         "x": [
          "right"
         ],
         "xaxis": "x4",
         "y": [
          8.539351463317871
         ],
         "yaxis": "y4"
        },
        {
         "alignmentgroup": "True",
         "hovertemplate": "action=%{x}<br>scenario=ball_top<br>logit=%{y}<extra></extra>",
         "legendgroup": "right",
         "marker": {
          "color": "#EF553B",
          "pattern": {
           "shape": ""
          }
         },
         "name": "right",
         "offsetgroup": "right",
         "orientation": "v",
         "showlegend": false,
         "textposition": "auto",
         "type": "bar",
         "x": [
          "right"
         ],
         "xaxis": "x",
         "y": [
          0.8987704515457153
         ],
         "yaxis": "y"
        },
        {
         "alignmentgroup": "True",
         "hovertemplate": "action=%{x}<br>scenario=ball_bottom<br>logit=%{y}<extra></extra>",
         "legendgroup": "right",
         "marker": {
          "color": "#EF553B",
          "pattern": {
           "shape": ""
          }
         },
         "name": "right",
         "offsetgroup": "right",
         "orientation": "v",
         "showlegend": false,
         "textposition": "auto",
         "type": "bar",
         "x": [
          "right"
         ],
         "xaxis": "x2",
         "y": [
          8.03608226776123
         ],
         "yaxis": "y2"
        },
        {
         "alignmentgroup": "True",
         "hovertemplate": "action=%{x}<br>scenario=key_top<br>logit=%{y}<extra></extra>",
         "legendgroup": "forward",
         "marker": {
          "color": "#00cc96",
          "pattern": {
           "shape": ""
          }
         },
         "name": "forward",
         "offsetgroup": "forward",
         "orientation": "v",
         "showlegend": true,
         "textposition": "auto",
         "type": "bar",
         "x": [
          "forward"
         ],
         "xaxis": "x3",
         "y": [
          -2.648364543914795
         ],
         "yaxis": "y3"
        },
        {
         "alignmentgroup": "True",
         "hovertemplate": "action=%{x}<br>scenario=key_bottom<br>logit=%{y}<extra></extra>",
         "legendgroup": "forward",
         "marker": {
          "color": "#00cc96",
          "pattern": {
           "shape": ""
          }
         },
         "name": "forward",
         "offsetgroup": "forward",
         "orientation": "v",
         "showlegend": false,
         "textposition": "auto",
         "type": "bar",
         "x": [
          "forward"
         ],
         "xaxis": "x4",
         "y": [
          -0.6895761489868164
         ],
         "yaxis": "y4"
        },
        {
         "alignmentgroup": "True",
         "hovertemplate": "action=%{x}<br>scenario=ball_top<br>logit=%{y}<extra></extra>",
         "legendgroup": "forward",
         "marker": {
          "color": "#00cc96",
          "pattern": {
           "shape": ""
          }
         },
         "name": "forward",
         "offsetgroup": "forward",
         "orientation": "v",
         "showlegend": false,
         "textposition": "auto",
         "type": "bar",
         "x": [
          "forward"
         ],
         "xaxis": "x",
         "y": [
          -2.5744214057922363
         ],
         "yaxis": "y"
        },
        {
         "alignmentgroup": "True",
         "hovertemplate": "action=%{x}<br>scenario=ball_bottom<br>logit=%{y}<extra></extra>",
         "legendgroup": "forward",
         "marker": {
          "color": "#00cc96",
          "pattern": {
           "shape": ""
          }
         },
         "name": "forward",
         "offsetgroup": "forward",
         "orientation": "v",
         "showlegend": false,
         "textposition": "auto",
         "type": "bar",
         "x": [
          "forward"
         ],
         "xaxis": "x2",
         "y": [
          -0.8560268878936768
         ],
         "yaxis": "y2"
        },
        {
         "alignmentgroup": "True",
         "hovertemplate": "action=%{x}<br>scenario=key_top<br>logit=%{y}<extra></extra>",
         "legendgroup": "pickup",
         "marker": {
          "color": "#ab63fa",
          "pattern": {
           "shape": ""
          }
         },
         "name": "pickup",
         "offsetgroup": "pickup",
         "orientation": "v",
         "showlegend": true,
         "textposition": "auto",
         "type": "bar",
         "x": [
          "pickup"
         ],
         "xaxis": "x3",
         "y": [
          -1.858364462852478
         ],
         "yaxis": "y3"
        },
        {
         "alignmentgroup": "True",
         "hovertemplate": "action=%{x}<br>scenario=key_bottom<br>logit=%{y}<extra></extra>",
         "legendgroup": "pickup",
         "marker": {
          "color": "#ab63fa",
          "pattern": {
           "shape": ""
          }
         },
         "name": "pickup",
         "offsetgroup": "pickup",
         "orientation": "v",
         "showlegend": false,
         "textposition": "auto",
         "type": "bar",
         "x": [
          "pickup"
         ],
         "xaxis": "x4",
         "y": [
          -1.550932765007019
         ],
         "yaxis": "y4"
        },
        {
         "alignmentgroup": "True",
         "hovertemplate": "action=%{x}<br>scenario=ball_top<br>logit=%{y}<extra></extra>",
         "legendgroup": "pickup",
         "marker": {
          "color": "#ab63fa",
          "pattern": {
           "shape": ""
          }
         },
         "name": "pickup",
         "offsetgroup": "pickup",
         "orientation": "v",
         "showlegend": false,
         "textposition": "auto",
         "type": "bar",
         "x": [
          "pickup"
         ],
         "xaxis": "x",
         "y": [
          -1.33914315700531
         ],
         "yaxis": "y"
        },
        {
         "alignmentgroup": "True",
         "hovertemplate": "action=%{x}<br>scenario=ball_bottom<br>logit=%{y}<extra></extra>",
         "legendgroup": "pickup",
         "marker": {
          "color": "#ab63fa",
          "pattern": {
           "shape": ""
          }
         },
         "name": "pickup",
         "offsetgroup": "pickup",
         "orientation": "v",
         "showlegend": false,
         "textposition": "auto",
         "type": "bar",
         "x": [
          "pickup"
         ],
         "xaxis": "x2",
         "y": [
          -2.391603469848633
         ],
         "yaxis": "y2"
        },
        {
         "alignmentgroup": "True",
         "hovertemplate": "action=%{x}<br>scenario=key_top<br>logit=%{y}<extra></extra>",
         "legendgroup": "drop",
         "marker": {
          "color": "#FFA15A",
          "pattern": {
           "shape": ""
          }
         },
         "name": "drop",
         "offsetgroup": "drop",
         "orientation": "v",
         "showlegend": true,
         "textposition": "auto",
         "type": "bar",
         "x": [
          "drop"
         ],
         "xaxis": "x3",
         "y": [
          -2.082263708114624
         ],
         "yaxis": "y3"
        },
        {
         "alignmentgroup": "True",
         "hovertemplate": "action=%{x}<br>scenario=key_bottom<br>logit=%{y}<extra></extra>",
         "legendgroup": "drop",
         "marker": {
          "color": "#FFA15A",
          "pattern": {
           "shape": ""
          }
         },
         "name": "drop",
         "offsetgroup": "drop",
         "orientation": "v",
         "showlegend": false,
         "textposition": "auto",
         "type": "bar",
         "x": [
          "drop"
         ],
         "xaxis": "x4",
         "y": [
          -1.8842970132827759
         ],
         "yaxis": "y4"
        },
        {
         "alignmentgroup": "True",
         "hovertemplate": "action=%{x}<br>scenario=ball_top<br>logit=%{y}<extra></extra>",
         "legendgroup": "drop",
         "marker": {
          "color": "#FFA15A",
          "pattern": {
           "shape": ""
          }
         },
         "name": "drop",
         "offsetgroup": "drop",
         "orientation": "v",
         "showlegend": false,
         "textposition": "auto",
         "type": "bar",
         "x": [
          "drop"
         ],
         "xaxis": "x",
         "y": [
          -1.3597652912139893
         ],
         "yaxis": "y"
        },
        {
         "alignmentgroup": "True",
         "hovertemplate": "action=%{x}<br>scenario=ball_bottom<br>logit=%{y}<extra></extra>",
         "legendgroup": "drop",
         "marker": {
          "color": "#FFA15A",
          "pattern": {
           "shape": ""
          }
         },
         "name": "drop",
         "offsetgroup": "drop",
         "orientation": "v",
         "showlegend": false,
         "textposition": "auto",
         "type": "bar",
         "x": [
          "drop"
         ],
         "xaxis": "x2",
         "y": [
          -1.6153744459152222
         ],
         "yaxis": "y2"
        },
        {
         "alignmentgroup": "True",
         "hovertemplate": "action=%{x}<br>scenario=key_top<br>logit=%{y}<extra></extra>",
         "legendgroup": "toggle",
         "marker": {
          "color": "#19d3f3",
          "pattern": {
           "shape": ""
          }
         },
         "name": "toggle",
         "offsetgroup": "toggle",
         "orientation": "v",
         "showlegend": true,
         "textposition": "auto",
         "type": "bar",
         "x": [
          "toggle"
         ],
         "xaxis": "x3",
         "y": [
          -2.183190107345581
         ],
         "yaxis": "y3"
        },
        {
         "alignmentgroup": "True",
         "hovertemplate": "action=%{x}<br>scenario=key_bottom<br>logit=%{y}<extra></extra>",
         "legendgroup": "toggle",
         "marker": {
          "color": "#19d3f3",
          "pattern": {
           "shape": ""
          }
         },
         "name": "toggle",
         "offsetgroup": "toggle",
         "orientation": "v",
         "showlegend": false,
         "textposition": "auto",
         "type": "bar",
         "x": [
          "toggle"
         ],
         "xaxis": "x4",
         "y": [
          -2.0302650928497314
         ],
         "yaxis": "y4"
        },
        {
         "alignmentgroup": "True",
         "hovertemplate": "action=%{x}<br>scenario=ball_top<br>logit=%{y}<extra></extra>",
         "legendgroup": "toggle",
         "marker": {
          "color": "#19d3f3",
          "pattern": {
           "shape": ""
          }
         },
         "name": "toggle",
         "offsetgroup": "toggle",
         "orientation": "v",
         "showlegend": false,
         "textposition": "auto",
         "type": "bar",
         "x": [
          "toggle"
         ],
         "xaxis": "x",
         "y": [
          -1.8599131107330322
         ],
         "yaxis": "y"
        },
        {
         "alignmentgroup": "True",
         "hovertemplate": "action=%{x}<br>scenario=ball_bottom<br>logit=%{y}<extra></extra>",
         "legendgroup": "toggle",
         "marker": {
          "color": "#19d3f3",
          "pattern": {
           "shape": ""
          }
         },
         "name": "toggle",
         "offsetgroup": "toggle",
         "orientation": "v",
         "showlegend": false,
         "textposition": "auto",
         "type": "bar",
         "x": [
          "toggle"
         ],
         "xaxis": "x2",
         "y": [
          -1.8081332445144653
         ],
         "yaxis": "y2"
        },
        {
         "alignmentgroup": "True",
         "hovertemplate": "action=%{x}<br>scenario=key_top<br>logit=%{y}<extra></extra>",
         "legendgroup": "done",
         "marker": {
          "color": "#FF6692",
          "pattern": {
           "shape": ""
          }
         },
         "name": "done",
         "offsetgroup": "done",
         "orientation": "v",
         "showlegend": true,
         "textposition": "auto",
         "type": "bar",
         "x": [
          "done"
         ],
         "xaxis": "x3",
         "y": [
          -1.2899750471115112
         ],
         "yaxis": "y3"
        },
        {
         "alignmentgroup": "True",
         "hovertemplate": "action=%{x}<br>scenario=key_bottom<br>logit=%{y}<extra></extra>",
         "legendgroup": "done",
         "marker": {
          "color": "#FF6692",
          "pattern": {
           "shape": ""
          }
         },
         "name": "done",
         "offsetgroup": "done",
         "orientation": "v",
         "showlegend": false,
         "textposition": "auto",
         "type": "bar",
         "x": [
          "done"
         ],
         "xaxis": "x4",
         "y": [
          -3.1900174617767334
         ],
         "yaxis": "y4"
        },
        {
         "alignmentgroup": "True",
         "hovertemplate": "action=%{x}<br>scenario=ball_top<br>logit=%{y}<extra></extra>",
         "legendgroup": "done",
         "marker": {
          "color": "#FF6692",
          "pattern": {
           "shape": ""
          }
         },
         "name": "done",
         "offsetgroup": "done",
         "orientation": "v",
         "showlegend": false,
         "textposition": "auto",
         "type": "bar",
         "x": [
          "done"
         ],
         "xaxis": "x",
         "y": [
          -1.3787691593170166
         ],
         "yaxis": "y"
        },
        {
         "alignmentgroup": "True",
         "hovertemplate": "action=%{x}<br>scenario=ball_bottom<br>logit=%{y}<extra></extra>",
         "legendgroup": "done",
         "marker": {
          "color": "#FF6692",
          "pattern": {
           "shape": ""
          }
         },
         "name": "done",
         "offsetgroup": "done",
         "orientation": "v",
         "showlegend": false,
         "textposition": "auto",
         "type": "bar",
         "x": [
          "done"
         ],
         "xaxis": "x2",
         "y": [
          -2.0274574756622314
         ],
         "yaxis": "y2"
        },
        {
         "alignmentgroup": "True",
         "hovertemplate": "action=%{x}<br>scenario=key_top<br>logit=%{y}<extra></extra>",
         "legendgroup": "right_minus_left",
         "marker": {
          "color": "#B6E880",
          "pattern": {
           "shape": ""
          }
         },
         "name": "right_minus_left",
         "offsetgroup": "right_minus_left",
         "orientation": "v",
         "showlegend": true,
         "textposition": "auto",
         "type": "bar",
         "x": [
          "right_minus_left"
         ],
         "xaxis": "x3",
         "y": [
          0.6641979217529297
         ],
         "yaxis": "y3"
        },
        {
         "alignmentgroup": "True",
         "hovertemplate": "action=%{x}<br>scenario=key_bottom<br>logit=%{y}<extra></extra>",
         "legendgroup": "right_minus_left",
         "marker": {
          "color": "#B6E880",
          "pattern": {
           "shape": ""
          }
         },
         "name": "right_minus_left",
         "offsetgroup": "right_minus_left",
         "orientation": "v",
         "showlegend": false,
         "textposition": "auto",
         "type": "bar",
         "x": [
          "right_minus_left"
         ],
         "xaxis": "x4",
         "y": [
          8.024579048156738
         ],
         "yaxis": "y4"
        },
        {
         "alignmentgroup": "True",
         "hovertemplate": "action=%{x}<br>scenario=ball_top<br>logit=%{y}<extra></extra>",
         "legendgroup": "right_minus_left",
         "marker": {
          "color": "#B6E880",
          "pattern": {
           "shape": ""
          }
         },
         "name": "right_minus_left",
         "offsetgroup": "right_minus_left",
         "orientation": "v",
         "showlegend": false,
         "textposition": "auto",
         "type": "bar",
         "x": [
          "right_minus_left"
         ],
         "xaxis": "x",
         "y": [
          -6.718493461608887
         ],
         "yaxis": "y"
        },
        {
         "alignmentgroup": "True",
         "hovertemplate": "action=%{x}<br>scenario=ball_bottom<br>logit=%{y}<extra></extra>",
         "legendgroup": "right_minus_left",
         "marker": {
          "color": "#B6E880",
          "pattern": {
           "shape": ""
          }
         },
         "name": "right_minus_left",
         "offsetgroup": "right_minus_left",
         "orientation": "v",
         "showlegend": false,
         "textposition": "auto",
         "type": "bar",
         "x": [
          "right_minus_left"
         ],
         "xaxis": "x2",
         "y": [
          8.35905647277832
         ],
         "yaxis": "y2"
        }
       ],
       "layout": {
        "annotations": [
         {
          "font": {},
          "showarrow": false,
          "text": "scenario=ball_top",
          "x": 0.245,
          "xanchor": "center",
          "xref": "paper",
          "y": 0.46499999999999997,
          "yanchor": "bottom",
          "yref": "paper"
         },
         {
          "font": {},
          "showarrow": false,
          "text": "scenario=ball_bottom",
          "x": 0.755,
          "xanchor": "center",
          "xref": "paper",
          "y": 0.46499999999999997,
          "yanchor": "bottom",
          "yref": "paper"
         },
         {
          "font": {},
          "showarrow": false,
          "text": "scenario=key_top",
          "x": 0.245,
          "xanchor": "center",
          "xref": "paper",
          "y": 0.9999999999999999,
          "yanchor": "bottom",
          "yref": "paper"
         },
         {
          "font": {},
          "showarrow": false,
          "text": "scenario=key_bottom",
          "x": 0.755,
          "xanchor": "center",
          "xref": "paper",
          "y": 0.9999999999999999,
          "yanchor": "bottom",
          "yref": "paper"
         }
        ],
        "barmode": "relative",
        "legend": {
         "title": {
          "text": "action"
         },
         "tracegroupgap": 0
        },
        "margin": {
         "t": 60
        },
        "template": {
         "data": {
          "bar": [
           {
            "error_x": {
             "color": "#f2f5fa"
            },
            "error_y": {
             "color": "#f2f5fa"
            },
            "marker": {
             "line": {
              "color": "rgb(17,17,17)",
              "width": 0.5
             },
             "pattern": {
              "fillmode": "overlay",
              "size": 10,
              "solidity": 0.2
             }
            },
            "type": "bar"
           }
          ],
          "barpolar": [
           {
            "marker": {
             "line": {
              "color": "rgb(17,17,17)",
              "width": 0.5
             },
             "pattern": {
              "fillmode": "overlay",
              "size": 10,
              "solidity": 0.2
             }
            },
            "type": "barpolar"
           }
          ],
          "carpet": [
           {
            "aaxis": {
             "endlinecolor": "#A2B1C6",
             "gridcolor": "#506784",
             "linecolor": "#506784",
             "minorgridcolor": "#506784",
             "startlinecolor": "#A2B1C6"
            },
            "baxis": {
             "endlinecolor": "#A2B1C6",
             "gridcolor": "#506784",
             "linecolor": "#506784",
             "minorgridcolor": "#506784",
             "startlinecolor": "#A2B1C6"
            },
            "type": "carpet"
           }
          ],
          "choropleth": [
           {
            "colorbar": {
             "outlinewidth": 0,
             "ticks": ""
            },
            "type": "choropleth"
           }
          ],
          "contour": [
           {
            "colorbar": {
             "outlinewidth": 0,
             "ticks": ""
            },
            "colorscale": [
             [
              0,
              "#0d0887"
             ],
             [
              0.1111111111111111,
              "#46039f"
             ],
             [
              0.2222222222222222,
              "#7201a8"
             ],
             [
              0.3333333333333333,
              "#9c179e"
             ],
             [
              0.4444444444444444,
              "#bd3786"
             ],
             [
              0.5555555555555556,
              "#d8576b"
             ],
             [
              0.6666666666666666,
              "#ed7953"
             ],
             [
              0.7777777777777778,
              "#fb9f3a"
             ],
             [
              0.8888888888888888,
              "#fdca26"
             ],
             [
              1,
              "#f0f921"
             ]
            ],
            "type": "contour"
           }
          ],
          "contourcarpet": [
           {
            "colorbar": {
             "outlinewidth": 0,
             "ticks": ""
            },
            "type": "contourcarpet"
           }
          ],
          "heatmap": [
           {
            "colorbar": {
             "outlinewidth": 0,
             "ticks": ""
            },
            "colorscale": [
             [
              0,
              "#0d0887"
             ],
             [
              0.1111111111111111,
              "#46039f"
             ],
             [
              0.2222222222222222,
              "#7201a8"
             ],
             [
              0.3333333333333333,
              "#9c179e"
             ],
             [
              0.4444444444444444,
              "#bd3786"
             ],
             [
              0.5555555555555556,
              "#d8576b"
             ],
             [
              0.6666666666666666,
              "#ed7953"
             ],
             [
              0.7777777777777778,
              "#fb9f3a"
             ],
             [
              0.8888888888888888,
              "#fdca26"
             ],
             [
              1,
              "#f0f921"
             ]
            ],
            "type": "heatmap"
           }
          ],
          "heatmapgl": [
           {
            "colorbar": {
             "outlinewidth": 0,
             "ticks": ""
            },
            "colorscale": [
             [
              0,
              "#0d0887"
             ],
             [
              0.1111111111111111,
              "#46039f"
             ],
             [
              0.2222222222222222,
              "#7201a8"
             ],
             [
              0.3333333333333333,
              "#9c179e"
             ],
             [
              0.4444444444444444,
              "#bd3786"
             ],
             [
              0.5555555555555556,
              "#d8576b"
             ],
             [
              0.6666666666666666,
              "#ed7953"
             ],
             [
              0.7777777777777778,
              "#fb9f3a"
             ],
             [
              0.8888888888888888,
              "#fdca26"
             ],
             [
              1,
              "#f0f921"
             ]
            ],
            "type": "heatmapgl"
           }
          ],
          "histogram": [
           {
            "marker": {
             "pattern": {
              "fillmode": "overlay",
              "size": 10,
              "solidity": 0.2
             }
            },
            "type": "histogram"
           }
          ],
          "histogram2d": [
           {
            "colorbar": {
             "outlinewidth": 0,
             "ticks": ""
            },
            "colorscale": [
             [
              0,
              "#0d0887"
             ],
             [
              0.1111111111111111,
              "#46039f"
             ],
             [
              0.2222222222222222,
              "#7201a8"
             ],
             [
              0.3333333333333333,
              "#9c179e"
             ],
             [
              0.4444444444444444,
              "#bd3786"
             ],
             [
              0.5555555555555556,
              "#d8576b"
             ],
             [
              0.6666666666666666,
              "#ed7953"
             ],
             [
              0.7777777777777778,
              "#fb9f3a"
             ],
             [
              0.8888888888888888,
              "#fdca26"
             ],
             [
              1,
              "#f0f921"
             ]
            ],
            "type": "histogram2d"
           }
          ],
          "histogram2dcontour": [
           {
            "colorbar": {
             "outlinewidth": 0,
             "ticks": ""
            },
            "colorscale": [
             [
              0,
              "#0d0887"
             ],
             [
              0.1111111111111111,
              "#46039f"
             ],
             [
              0.2222222222222222,
              "#7201a8"
             ],
             [
              0.3333333333333333,
              "#9c179e"
             ],
             [
              0.4444444444444444,
              "#bd3786"
             ],
             [
              0.5555555555555556,
              "#d8576b"
             ],
             [
              0.6666666666666666,
              "#ed7953"
             ],
             [
              0.7777777777777778,
              "#fb9f3a"
             ],
             [
              0.8888888888888888,
              "#fdca26"
             ],
             [
              1,
              "#f0f921"
             ]
            ],
            "type": "histogram2dcontour"
           }
          ],
          "mesh3d": [
           {
            "colorbar": {
             "outlinewidth": 0,
             "ticks": ""
            },
            "type": "mesh3d"
           }
          ],
          "parcoords": [
           {
            "line": {
             "colorbar": {
              "outlinewidth": 0,
              "ticks": ""
             }
            },
            "type": "parcoords"
           }
          ],
          "pie": [
           {
            "automargin": true,
            "type": "pie"
           }
          ],
          "scatter": [
           {
            "marker": {
             "line": {
              "color": "#283442"
             }
            },
            "type": "scatter"
           }
          ],
          "scatter3d": [
           {
            "line": {
             "colorbar": {
              "outlinewidth": 0,
              "ticks": ""
             }
            },
            "marker": {
             "colorbar": {
              "outlinewidth": 0,
              "ticks": ""
             }
            },
            "type": "scatter3d"
           }
          ],
          "scattercarpet": [
           {
            "marker": {
             "colorbar": {
              "outlinewidth": 0,
              "ticks": ""
             }
            },
            "type": "scattercarpet"
           }
          ],
          "scattergeo": [
           {
            "marker": {
             "colorbar": {
              "outlinewidth": 0,
              "ticks": ""
             }
            },
            "type": "scattergeo"
           }
          ],
          "scattergl": [
           {
            "marker": {
             "line": {
              "color": "#283442"
             }
            },
            "type": "scattergl"
           }
          ],
          "scattermapbox": [
           {
            "marker": {
             "colorbar": {
              "outlinewidth": 0,
              "ticks": ""
             }
            },
            "type": "scattermapbox"
           }
          ],
          "scatterpolar": [
           {
            "marker": {
             "colorbar": {
              "outlinewidth": 0,
              "ticks": ""
             }
            },
            "type": "scatterpolar"
           }
          ],
          "scatterpolargl": [
           {
            "marker": {
             "colorbar": {
              "outlinewidth": 0,
              "ticks": ""
             }
            },
            "type": "scatterpolargl"
           }
          ],
          "scatterternary": [
           {
            "marker": {
             "colorbar": {
              "outlinewidth": 0,
              "ticks": ""
             }
            },
            "type": "scatterternary"
           }
          ],
          "surface": [
           {
            "colorbar": {
             "outlinewidth": 0,
             "ticks": ""
            },
            "colorscale": [
             [
              0,
              "#0d0887"
             ],
             [
              0.1111111111111111,
              "#46039f"
             ],
             [
              0.2222222222222222,
              "#7201a8"
             ],
             [
              0.3333333333333333,
              "#9c179e"
             ],
             [
              0.4444444444444444,
              "#bd3786"
             ],
             [
              0.5555555555555556,
              "#d8576b"
             ],
             [
              0.6666666666666666,
              "#ed7953"
             ],
             [
              0.7777777777777778,
              "#fb9f3a"
             ],
             [
              0.8888888888888888,
              "#fdca26"
             ],
             [
              1,
              "#f0f921"
             ]
            ],
            "type": "surface"
           }
          ],
          "table": [
           {
            "cells": {
             "fill": {
              "color": "#506784"
             },
             "line": {
              "color": "rgb(17,17,17)"
             }
            },
            "header": {
             "fill": {
              "color": "#2a3f5f"
             },
             "line": {
              "color": "rgb(17,17,17)"
             }
            },
            "type": "table"
           }
          ]
         },
         "layout": {
          "annotationdefaults": {
           "arrowcolor": "#f2f5fa",
           "arrowhead": 0,
           "arrowwidth": 1
          },
          "autotypenumbers": "strict",
          "coloraxis": {
           "colorbar": {
            "outlinewidth": 0,
            "ticks": ""
           }
          },
          "colorscale": {
           "diverging": [
            [
             0,
             "#8e0152"
            ],
            [
             0.1,
             "#c51b7d"
            ],
            [
             0.2,
             "#de77ae"
            ],
            [
             0.3,
             "#f1b6da"
            ],
            [
             0.4,
             "#fde0ef"
            ],
            [
             0.5,
             "#f7f7f7"
            ],
            [
             0.6,
             "#e6f5d0"
            ],
            [
             0.7,
             "#b8e186"
            ],
            [
             0.8,
             "#7fbc41"
            ],
            [
             0.9,
             "#4d9221"
            ],
            [
             1,
             "#276419"
            ]
           ],
           "sequential": [
            [
             0,
             "#0d0887"
            ],
            [
             0.1111111111111111,
             "#46039f"
            ],
            [
             0.2222222222222222,
             "#7201a8"
            ],
            [
             0.3333333333333333,
             "#9c179e"
            ],
            [
             0.4444444444444444,
             "#bd3786"
            ],
            [
             0.5555555555555556,
             "#d8576b"
            ],
            [
             0.6666666666666666,
             "#ed7953"
            ],
            [
             0.7777777777777778,
             "#fb9f3a"
            ],
            [
             0.8888888888888888,
             "#fdca26"
            ],
            [
             1,
             "#f0f921"
            ]
           ],
           "sequentialminus": [
            [
             0,
             "#0d0887"
            ],
            [
             0.1111111111111111,
             "#46039f"
            ],
            [
             0.2222222222222222,
             "#7201a8"
            ],
            [
             0.3333333333333333,
             "#9c179e"
            ],
            [
             0.4444444444444444,
             "#bd3786"
            ],
            [
             0.5555555555555556,
             "#d8576b"
            ],
            [
             0.6666666666666666,
             "#ed7953"
            ],
            [
             0.7777777777777778,
             "#fb9f3a"
            ],
            [
             0.8888888888888888,
             "#fdca26"
            ],
            [
             1,
             "#f0f921"
            ]
           ]
          },
          "colorway": [
           "#636efa",
           "#EF553B",
           "#00cc96",
           "#ab63fa",
           "#FFA15A",
           "#19d3f3",
           "#FF6692",
           "#B6E880",
           "#FF97FF",
           "#FECB52"
          ],
          "font": {
           "color": "#f2f5fa"
          },
          "geo": {
           "bgcolor": "rgb(17,17,17)",
           "lakecolor": "rgb(17,17,17)",
           "landcolor": "rgb(17,17,17)",
           "showlakes": true,
           "showland": true,
           "subunitcolor": "#506784"
          },
          "hoverlabel": {
           "align": "left"
          },
          "hovermode": "closest",
          "mapbox": {
           "style": "dark"
          },
          "paper_bgcolor": "rgb(17,17,17)",
          "plot_bgcolor": "rgb(17,17,17)",
          "polar": {
           "angularaxis": {
            "gridcolor": "#506784",
            "linecolor": "#506784",
            "ticks": ""
           },
           "bgcolor": "rgb(17,17,17)",
           "radialaxis": {
            "gridcolor": "#506784",
            "linecolor": "#506784",
            "ticks": ""
           }
          },
          "scene": {
           "xaxis": {
            "backgroundcolor": "rgb(17,17,17)",
            "gridcolor": "#506784",
            "gridwidth": 2,
            "linecolor": "#506784",
            "showbackground": true,
            "ticks": "",
            "zerolinecolor": "#C8D4E3"
           },
           "yaxis": {
            "backgroundcolor": "rgb(17,17,17)",
            "gridcolor": "#506784",
            "gridwidth": 2,
            "linecolor": "#506784",
            "showbackground": true,
            "ticks": "",
            "zerolinecolor": "#C8D4E3"
           },
           "zaxis": {
            "backgroundcolor": "rgb(17,17,17)",
            "gridcolor": "#506784",
            "gridwidth": 2,
            "linecolor": "#506784",
            "showbackground": true,
            "ticks": "",
            "zerolinecolor": "#C8D4E3"
           }
          },
          "shapedefaults": {
           "line": {
            "color": "#f2f5fa"
           }
          },
          "sliderdefaults": {
           "bgcolor": "#C8D4E3",
           "bordercolor": "rgb(17,17,17)",
           "borderwidth": 1,
           "tickwidth": 0
          },
          "ternary": {
           "aaxis": {
            "gridcolor": "#506784",
            "linecolor": "#506784",
            "ticks": ""
           },
           "baxis": {
            "gridcolor": "#506784",
            "linecolor": "#506784",
            "ticks": ""
           },
           "bgcolor": "rgb(17,17,17)",
           "caxis": {
            "gridcolor": "#506784",
            "linecolor": "#506784",
            "ticks": ""
           }
          },
          "title": {
           "x": 0.05
          },
          "updatemenudefaults": {
           "bgcolor": "#506784",
           "borderwidth": 0
          },
          "xaxis": {
           "automargin": true,
           "gridcolor": "#283442",
           "linecolor": "#506784",
           "ticks": "",
           "title": {
            "standoff": 15
           },
           "zerolinecolor": "#283442",
           "zerolinewidth": 2
          },
          "yaxis": {
           "automargin": true,
           "gridcolor": "#283442",
           "linecolor": "#506784",
           "ticks": "",
           "title": {
            "standoff": 15
           },
           "zerolinecolor": "#283442",
           "zerolinewidth": 2
          }
         }
        },
        "xaxis": {
         "anchor": "y",
         "categoryarray": [
          "left",
          "right",
          "forward",
          "pickup",
          "drop",
          "toggle",
          "done",
          "right_minus_left"
         ],
         "categoryorder": "array",
         "domain": [
          0,
          0.49
         ],
         "title": {
          "text": "action"
         }
        },
        "xaxis2": {
         "anchor": "y2",
         "categoryarray": [
          "left",
          "right",
          "forward",
          "pickup",
          "drop",
          "toggle",
          "done",
          "right_minus_left"
         ],
         "categoryorder": "array",
         "domain": [
          0.51,
          1
         ],
         "matches": "x",
         "title": {
          "text": "action"
         }
        },
        "xaxis3": {
         "anchor": "y3",
         "domain": [
          0,
          0.49
         ],
         "matches": "x",
         "showticklabels": false
        },
        "xaxis4": {
         "anchor": "y4",
         "domain": [
          0.51,
          1
         ],
         "matches": "x",
         "showticklabels": false
        },
        "yaxis": {
         "anchor": "x",
         "domain": [
          0,
          0.46499999999999997
         ],
         "title": {
          "text": "logit"
         }
        },
        "yaxis2": {
         "anchor": "x2",
         "domain": [
          0,
          0.46499999999999997
         ],
         "matches": "y",
         "showticklabels": false
        },
        "yaxis3": {
         "anchor": "x3",
         "domain": [
          0.5349999999999999,
          0.9999999999999999
         ],
         "matches": "y",
         "title": {
          "text": "logit"
         }
        },
        "yaxis4": {
         "anchor": "x4",
         "domain": [
          0.5349999999999999,
          0.9999999999999999
         ],
         "matches": "y",
         "showticklabels": false
        }
       }
      }
     },
     "metadata": {},
     "output_type": "display_data"
    }
   ],
   "source": [
    "import pandas as pd\n",
    "from src.streamlit_app.constants import IDX_TO_ACTION\n",
    "\n",
    "def preds_to_df(action_preds, all_scenarios):\n",
    "    import pandas as pd\n",
    "    from src.streamlit_app.constants import IDX_TO_ACTION\n",
    "    standard_predictions = pd.DataFrame(action_preds[:,-1,:].detach(), columns=IDX_TO_ACTION.values(), index = all_scenarios)\n",
    "    # get right - left \n",
    "    standard_predictions[\"right_minus_left\"] = standard_predictions[\"right\"] - standard_predictions[\"left\"]\n",
    "    # wide to long \n",
    "    standard_predictions = standard_predictions.reset_index().melt(id_vars=\"index\")\n",
    "    standard_predictions.columns = [\"scenario\", \"action\", \"logit\"]\n",
    "    # # filter for action in left or right\n",
    "    # standard_predictions = standard_predictions[standard_predictions.action.isin([\"left\", \"right\"])]\n",
    "    return standard_predictions\n",
    "\n",
    "standard_predictions = preds_to_df(action_preds, all_scenarios)\n",
    "\n",
    "px.bar(standard_predictions,\n",
    "       x = 'action',\n",
    "       y='logit',\n",
    "       color = 'action', \n",
    "       facet_col='scenario',\n",
    "        facet_col_wrap=2,\n",
    "       template='plotly_dark').show()"
   ]
  },
  {
   "cell_type": "code",
   "execution_count": 31,
   "metadata": {},
   "outputs": [
    {
     "data": {
      "application/vnd.plotly.v1+json": {
       "config": {
        "plotlyServerURL": "https://plotly.com"
       },
       "data": [
        {
         "hovertemplate": "x: %{x}<br>y: %{y}<br>color: %{z}<extra></extra>",
         "name": "0",
         "source": "data:image/png;base64,iVBORw0KGgoAAAANSUhEUgAAAOAAAADgCAIAAACVT/22AAAClUlEQVR4Xu3coQ0DQRAEQduxfv4xmBsMsVZqUAUPDGpp2b2f53lB1nWg9jf72+f3AUoESppASRMoaQIlTaCkCZQ0gZImUNIESppASRMoaQIlTaCkCZQ0gZImUNIESppASRMoaQIlTaCkCZQ0gZImUNIESppASRMoaQIlTaCkva+/z4O/XAdqf7O/OfGkCZQ0gZImUNIESppASRMoaQIlTaCkCZQ0gZImUNIESppASRMoaQIlTaCkCZQ0gZImUNIESppASRMoaQIlTaCkCZQ0gZImUNIESppASfM/KG3Xgdrf7G9OPGkCJU2gpAmUNIGSJlDSBEqaQEkTKGkCJU2gpAmUNIGSJlDSBEqaQEkTKGkCJU2gpAmUNIGSJlDSBEqaQEkTKGkCJU2gpAmUNIGSJlDS/A9K23Wg9jf7mxNPmkBJEyhpAiVNoKQJlDSBkiZQ0gRKmkBJEyhpAiVNoKQJlDSBkiZQ0gRKmkBJEyhpAiVNoKQJlDSBkiZQ0gRKmkBJEyhpAiVNoKQJlDT/g9J2Haj9zf7mxJMmUNIESppASRMoaQIlTaCkCZQ0gZImUNIESppASRMoaQIlTaCkCZQ0gZImUNIESppASRMoaQIlTaCkCZQ0gZImUNIESppASRMoaQIlzf+gtF0Han+zvznxpAmUNIGSJlDSBEqaQEkTKGkCJU2gpAmUNIGSJlDSBEqaQEkTKGkCJU2gpAmUNIGSJlDSBEqaQEkTKGkCJU2gpAmUNIGSJlDSBEqaQEnzPyht14Ha3+xvTjxpAiVNoKQJlDSBkiZQ0gRKmkBJEyhpAiVNoKQJlDSBkiZQ0gRKmkBJEyhpAiVNoKQJlDSBkiZQ0gRKmkBJEyhpAiVNoKQJlDSBkiZQ0r5ExkNM/yP71wAAAABJRU5ErkJggg==",
         "type": "image",
         "xaxis": "x",
         "yaxis": "y"
        },
        {
         "hovertemplate": "x: %{x}<br>y: %{y}<br>color: %{z}<extra></extra>",
         "name": "1",
         "source": "data:image/png;base64,iVBORw0KGgoAAAANSUhEUgAAAOAAAADgCAIAAACVT/22AAAClUlEQVR4Xu3coQ0DQRAEQduxfv4xmBsMsVZqUAUPDGpp2b2f53lB1nWg9jf72+f3AUoESppASRMoaQIlTaCkCZQ0gZImUNIESppASRMoaQIlTaCkCZQ0gZImUNIESppASRMoaQIlTaCkCZQ0gZImUNIESppASRMoaQIlTaCkva+/z4O/XAdqf7O/OfGkCZQ0gZImUNIESppASRMoaQIlTaCkCZQ0gZImUNIESppASRMoaQIlTaCkCZQ0gZImUNIESppASRMoaQIlTaCkCZQ0gZImUNIESppASfM/KG3Xgdrf7G9OPGkCJU2gpAmUNIGSJlDSBEqaQEkTKGkCJU2gpAmUNIGSJlDSBEqaQEkTKGkCJU2gpAmUNIGSJlDSBEqaQEkTKGkCJU2gpAmUNIGSJlDS/A9K23Wg9jf7mxNPmkBJEyhpAiVNoKQJlDSBkiZQ0gRKmkBJEyhpAiVNoKQJlDSBkiZQ0gRKmkBJEyhpAiVNoKQJlDSBkiZQ0gRKmkBJEyhpAiVNoKQJlDT/g9J2Haj9zf7mxJMmUNIESppASRMoaQIlTaCkCZQ0gZImUNIESppASRMoaQIlTaCkCZQ0gZImUNIESppASRMoaQIlTaCkCZQ0gZImUNIESppASRMoaQIlzf+gtF0Han+zvznxpAmUNIGSJlDSBEqaQEkTKGkCJU2gpAmUNIGSJlDSBEqaQEkTKGkCJU2gpAmUNIGSJlDSBEqaQEkTKGkCJU2gpAmUNIGSJlDSBEqaQEnzPyht14Ha3+xvTjxpAiVNoKQJlDSBkiZQ0gRKmkBJEyhpAiVNoKQJlDSBkiZQ0gRKmkBJEyhpAiVNoKQJlDSBkiZQ0gRKmkBJEyhpAiVNoKQJlDSBkiZQ0r5ExkNM/yP71wAAAABJRU5ErkJggg==",
         "type": "image",
         "xaxis": "x2",
         "yaxis": "y2"
        },
        {
         "hovertemplate": "x: %{x}<br>y: %{y}<br>color: %{z}<extra></extra>",
         "name": "2",
         "source": "data:image/png;base64,iVBORw0KGgoAAAANSUhEUgAAAOAAAADgCAIAAACVT/22AAAClUlEQVR4Xu3coQ0DQRAEQduxfv4xmBsMsVZqUAUPDGpp2b2f53lB1nWg9jf72+f3AUoESppASRMoaQIlTaCkCZQ0gZImUNIESppASRMoaQIlTaCkCZQ0gZImUNIESppASRMoaQIlTaCkCZQ0gZImUNIESppASRMoaQIlTaCkva+/z4O/XAdqf7O/OfGkCZQ0gZImUNIESppASRMoaQIlTaCkCZQ0gZImUNIESppASRMoaQIlTaCkCZQ0gZImUNIESppASRMoaQIlTaCkCZQ0gZImUNIESppASfM/KG3Xgdrf7G9OPGkCJU2gpAmUNIGSJlDSBEqaQEkTKGkCJU2gpAmUNIGSJlDSBEqaQEkTKGkCJU2gpAmUNIGSJlDSBEqaQEkTKGkCJU2gpAmUNIGSJlDS/A9K23Wg9jf7mxNPmkBJEyhpAiVNoKQJlDSBkiZQ0gRKmkBJEyhpAiVNoKQJlDSBkiZQ0gRKmkBJEyhpAiVNoKQJlDSBkiZQ0gRKmkBJEyhpAiVNoKQJlDT/g9J2Haj9zf7mxJMmUNIESppASRMoaQIlTaCkCZQ0gZImUNIESppASRMoaQIlTaCkCZQ0gZImUNIESppASRMoaQIlTaCkCZQ0gZImUNIESppASRMoaQIlzf+gtF0Han+zvznxpAmUNIGSJlDSBEqaQEkTKGkCJU2gpAmUNIGSJlDSBEqaQEkTKGkCJU2gpAmUNIGSJlDSBEqaQEkTKGkCJU2gpAmUNIGSJlDSBEqaQEnzPyht14Ha3+xvTjxpAiVNoKQJlDSBkiZQ0gRKmkBJEyhpAiVNoKQJlDSBkiZQ0gRKmkBJEyhpAiVNoKQJlDSBkiZQ0gRKmkBJEyhpAiVNoKQJlDSBkiZQ0r5ExkNM/yP71wAAAABJRU5ErkJggg==",
         "type": "image",
         "xaxis": "x3",
         "yaxis": "y3"
        },
        {
         "hovertemplate": "x: %{x}<br>y: %{y}<br>color: %{z}<extra></extra>",
         "name": "3",
         "source": "data:image/png;base64,iVBORw0KGgoAAAANSUhEUgAAAOAAAADgCAIAAACVT/22AAAClUlEQVR4Xu3coQ0DQRAEQduxfv4xmBsMsVZqUAUPDGpp2b2f53lB1nWg9jf72+f3AUoESppASRMoaQIlTaCkCZQ0gZImUNIESppASRMoaQIlTaCkCZQ0gZImUNIESppASRMoaQIlTaCkCZQ0gZImUNIESppASRMoaQIlTaCkva+/z4O/XAdqf7O/OfGkCZQ0gZImUNIESppASRMoaQIlTaCkCZQ0gZImUNIESppASRMoaQIlTaCkCZQ0gZImUNIESppASRMoaQIlTaCkCZQ0gZImUNIESppASfM/KG3Xgdrf7G9OPGkCJU2gpAmUNIGSJlDSBEqaQEkTKGkCJU2gpAmUNIGSJlDSBEqaQEkTKGkCJU2gpAmUNIGSJlDSBEqaQEkTKGkCJU2gpAmUNIGSJlDS/A9K23Wg9jf7mxNPmkBJEyhpAiVNoKQJlDSBkiZQ0gRKmkBJEyhpAiVNoKQJlDSBkiZQ0gRKmkBJEyhpAiVNoKQJlDSBkiZQ0gRKmkBJEyhpAiVNoKQJlDT/g9J2Haj9zf7mxJMmUNIESppASRMoaQIlTaCkCZQ0gZImUNIESppASRMoaQIlTaCkCZQ0gZImUNIESppASRMoaQIlTaCkCZQ0gZImUNIESppASRMoaQIlzf+gtF0Han+zvznxpAmUNIGSJlDSBEqaQEkTKGkCJU2gpAmUNIGSJlDSBEqaQEkTKGkCJU2gpAmUNIGSJlDSBEqaQEkTKGkCJU2gpAmUNIGSJlDSBEqaQEnzPyht14Ha3+xvTjxpAiVNoKQJlDSBkiZQ0gRKmkBJEyhpAiVNoKQJlDSBkiZQ0gRKmkBJEyhpAiVNoKQJlDSBkiZQ0gRKmkBJEyhpAiVNoKQJlDSBkiZQ0r5ExkNM/yP71wAAAABJRU5ErkJggg==",
         "type": "image",
         "xaxis": "x4",
         "yaxis": "y4"
        }
       ],
       "frames": [
        {
         "data": [
          {
           "name": "0",
           "source": "data:image/png;base64,iVBORw0KGgoAAAANSUhEUgAAAOAAAADgCAIAAACVT/22AAAClUlEQVR4Xu3coQ0DQRAEQduxfv4xmBsMsVZqUAUPDGpp2b2f53lB1nWg9jf72+f3AUoESppASRMoaQIlTaCkCZQ0gZImUNIESppASRMoaQIlTaCkCZQ0gZImUNIESppASRMoaQIlTaCkCZQ0gZImUNIESppASRMoaQIlTaCkva+/z4O/XAdqf7O/OfGkCZQ0gZImUNIESppASRMoaQIlTaCkCZQ0gZImUNIESppASRMoaQIlTaCkCZQ0gZImUNIESppASRMoaQIlTaCkCZQ0gZImUNIESppASfM/KG3Xgdrf7G9OPGkCJU2gpAmUNIGSJlDSBEqaQEkTKGkCJU2gpAmUNIGSJlDSBEqaQEkTKGkCJU2gpAmUNIGSJlDSBEqaQEkTKGkCJU2gpAmUNIGSJlDS/A9K23Wg9jf7mxNPmkBJEyhpAiVNoKQJlDSBkiZQ0gRKmkBJEyhpAiVNoKQJlDSBkiZQ0gRKmkBJEyhpAiVNoKQJlDSBkiZQ0gRKmkBJEyhpAiVNoKQJlDT/g9J2Haj9zf7mxJMmUNIESppASRMoaQIlTaCkCZQ0gZImUNIESppASRMoaQIlTaCkCZQ0gZImUNIESppASRMoaQIlTaCkCZQ0gZImUNIESppASRMoaQIlzf+gtF0Han+zvznxpAmUNIGSJlDSBEqaQEkTKGkCJU2gpAmUNIGSJlDSBEqaQEkTKGkCJU2gpAmUNIGSJlDSBEqaQEkTKGkCJU2gpAmUNIGSJlDSBEqaQEnzPyht14Ha3+xvTjxpAiVNoKQJlDSBkiZQ0gRKmkBJEyhpAiVNoKQJlDSBkiZQ0gRKmkBJEyhpAiVNoKQJlDSBkiZQ0gRKmkBJEyhpAiVNoKQJlDSBkiZQ0r5ExkNM/yP71wAAAABJRU5ErkJggg==",
           "type": "image"
          },
          {
           "name": "1",
           "source": "data:image/png;base64,iVBORw0KGgoAAAANSUhEUgAAAOAAAADgCAIAAACVT/22AAAClUlEQVR4Xu3coQ0DQRAEQduxfv4xmBsMsVZqUAUPDGpp2b2f53lB1nWg9jf72+f3AUoESppASRMoaQIlTaCkCZQ0gZImUNIESppASRMoaQIlTaCkCZQ0gZImUNIESppASRMoaQIlTaCkCZQ0gZImUNIESppASRMoaQIlTaCkva+/z4O/XAdqf7O/OfGkCZQ0gZImUNIESppASRMoaQIlTaCkCZQ0gZImUNIESppASRMoaQIlTaCkCZQ0gZImUNIESppASRMoaQIlTaCkCZQ0gZImUNIESppASfM/KG3Xgdrf7G9OPGkCJU2gpAmUNIGSJlDSBEqaQEkTKGkCJU2gpAmUNIGSJlDSBEqaQEkTKGkCJU2gpAmUNIGSJlDSBEqaQEkTKGkCJU2gpAmUNIGSJlDS/A9K23Wg9jf7mxNPmkBJEyhpAiVNoKQJlDSBkiZQ0gRKmkBJEyhpAiVNoKQJlDSBkiZQ0gRKmkBJEyhpAiVNoKQJlDSBkiZQ0gRKmkBJEyhpAiVNoKQJlDT/g9J2Haj9zf7mxJMmUNIESppASRMoaQIlTaCkCZQ0gZImUNIESppASRMoaQIlTaCkCZQ0gZImUNIESppASRMoaQIlTaCkCZQ0gZImUNIESppASRMoaQIlzf+gtF0Han+zvznxpAmUNIGSJlDSBEqaQEkTKGkCJU2gpAmUNIGSJlDSBEqaQEkTKGkCJU2gpAmUNIGSJlDSBEqaQEkTKGkCJU2gpAmUNIGSJlDSBEqaQEnzPyht14Ha3+xvTjxpAiVNoKQJlDSBkiZQ0gRKmkBJEyhpAiVNoKQJlDSBkiZQ0gRKmkBJEyhpAiVNoKQJlDSBkiZQ0gRKmkBJEyhpAiVNoKQJlDSBkiZQ0r5ExkNM/yP71wAAAABJRU5ErkJggg==",
           "type": "image"
          },
          {
           "name": "2",
           "source": "data:image/png;base64,iVBORw0KGgoAAAANSUhEUgAAAOAAAADgCAIAAACVT/22AAAClUlEQVR4Xu3coQ0DQRAEQduxfv4xmBsMsVZqUAUPDGpp2b2f53lB1nWg9jf72+f3AUoESppASRMoaQIlTaCkCZQ0gZImUNIESppASRMoaQIlTaCkCZQ0gZImUNIESppASRMoaQIlTaCkCZQ0gZImUNIESppASRMoaQIlTaCkva+/z4O/XAdqf7O/OfGkCZQ0gZImUNIESppASRMoaQIlTaCkCZQ0gZImUNIESppASRMoaQIlTaCkCZQ0gZImUNIESppASRMoaQIlTaCkCZQ0gZImUNIESppASfM/KG3Xgdrf7G9OPGkCJU2gpAmUNIGSJlDSBEqaQEkTKGkCJU2gpAmUNIGSJlDSBEqaQEkTKGkCJU2gpAmUNIGSJlDSBEqaQEkTKGkCJU2gpAmUNIGSJlDS/A9K23Wg9jf7mxNPmkBJEyhpAiVNoKQJlDSBkiZQ0gRKmkBJEyhpAiVNoKQJlDSBkiZQ0gRKmkBJEyhpAiVNoKQJlDSBkiZQ0gRKmkBJEyhpAiVNoKQJlDT/g9J2Haj9zf7mxJMmUNIESppASRMoaQIlTaCkCZQ0gZImUNIESppASRMoaQIlTaCkCZQ0gZImUNIESppASRMoaQIlTaCkCZQ0gZImUNIESppASRMoaQIlzf+gtF0Han+zvznxpAmUNIGSJlDSBEqaQEkTKGkCJU2gpAmUNIGSJlDSBEqaQEkTKGkCJU2gpAmUNIGSJlDSBEqaQEkTKGkCJU2gpAmUNIGSJlDSBEqaQEnzPyht14Ha3+xvTjxpAiVNoKQJlDSBkiZQ0gRKmkBJEyhpAiVNoKQJlDSBkiZQ0gRKmkBJEyhpAiVNoKQJlDSBkiZQ0gRKmkBJEyhpAiVNoKQJlDSBkiZQ0r5ExkNM/yP71wAAAABJRU5ErkJggg==",
           "type": "image"
          },
          {
           "name": "3",
           "source": "data:image/png;base64,iVBORw0KGgoAAAANSUhEUgAAAOAAAADgCAIAAACVT/22AAAClUlEQVR4Xu3coQ0DQRAEQduxfv4xmBsMsVZqUAUPDGpp2b2f53lB1nWg9jf72+f3AUoESppASRMoaQIlTaCkCZQ0gZImUNIESppASRMoaQIlTaCkCZQ0gZImUNIESppASRMoaQIlTaCkCZQ0gZImUNIESppASRMoaQIlTaCkva+/z4O/XAdqf7O/OfGkCZQ0gZImUNIESppASRMoaQIlTaCkCZQ0gZImUNIESppASRMoaQIlTaCkCZQ0gZImUNIESppASRMoaQIlTaCkCZQ0gZImUNIESppASfM/KG3Xgdrf7G9OPGkCJU2gpAmUNIGSJlDSBEqaQEkTKGkCJU2gpAmUNIGSJlDSBEqaQEkTKGkCJU2gpAmUNIGSJlDSBEqaQEkTKGkCJU2gpAmUNIGSJlDS/A9K23Wg9jf7mxNPmkBJEyhpAiVNoKQJlDSBkiZQ0gRKmkBJEyhpAiVNoKQJlDSBkiZQ0gRKmkBJEyhpAiVNoKQJlDSBkiZQ0gRKmkBJEyhpAiVNoKQJlDT/g9J2Haj9zf7mxJMmUNIESppASRMoaQIlTaCkCZQ0gZImUNIESppASRMoaQIlTaCkCZQ0gZImUNIESppASRMoaQIlTaCkCZQ0gZImUNIESppASRMoaQIlzf+gtF0Han+zvznxpAmUNIGSJlDSBEqaQEkTKGkCJU2gpAmUNIGSJlDSBEqaQEkTKGkCJU2gpAmUNIGSJlDSBEqaQEkTKGkCJU2gpAmUNIGSJlDSBEqaQEnzPyht14Ha3+xvTjxpAiVNoKQJlDSBkiZQ0gRKmkBJEyhpAiVNoKQJlDSBkiZQ0gRKmkBJEyhpAiVNoKQJlDSBkiZQ0gRKmkBJEyhpAiVNoKQJlDSBkiZQ0r5ExkNM/yP71wAAAABJRU5ErkJggg==",
           "type": "image"
          }
         ],
         "layout": {
          "margin": {
           "t": 60
          }
         },
         "name": "0"
        },
        {
         "data": [
          {
           "name": "4",
           "source": "data:image/png;base64,iVBORw0KGgoAAAANSUhEUgAAAOAAAADgCAIAAACVT/22AAAClUlEQVR4Xu3coQ0DQRAEQduxfv4xmBsMsVZqUAUPDGpp2b2f53lB1nWg9jf72+f3AUoESppASRMoaQIlTaCkCZQ0gZImUNIESppASRMoaQIlTaCkCZQ0gZImUNIESppASRMoaQIlTaCkCZQ0gZImUNIESppASRMoaQIlTaCkva+/z4O/XAdqf7O/OfGkCZQ0gZImUNIESppASRMoaQIlTaCkCZQ0gZImUNIESppASRMoaQIlTaCkCZQ0gZImUNIESppASRMoaQIlTaCkCZQ0gZImUNIESppASfM/KG3Xgdrf7G9OPGkCJU2gpAmUNIGSJlDSBEqaQEkTKGkCJU2gpAmUNIGSJlDSBEqaQEkTKGkCJU2gpAmUNIGSJlDSBEqaQEkTKGkCJU2gpAmUNIGSJlDS/A9K23Wg9jf7mxNPmkBJEyhpAiVNoKQJlDSBkiZQ0gRKmkBJEyhpAiVNoKQJlDSBkiZQ0gRKmkBJEyhpAiVNoKQJlDSBkiZQ0gRKmkBJEyhpAiVNoKQJlDT/g9J2Haj9zf7mxJMmUNIESppASRMoaQIlTaCkCZQ0gZImUNIESppASRMoaQIlTaCkCZQ0gZImUNIESppASRMoaQIlTaCkCZQ0gZImUNIESppASRMoaQIlzf+gtF0Han+zvznxpAmUNIGSJlDSBEqaQEkTKGkCJU2gpAmUNIGSJlDSBEqaQEkTKGkCJU2gpAmUNIGSJlDSBEqaQEkTKGkCJU2gpAmUNIGSJlDSBEqaQEnzPyht14Ha3+xvTjxpAiVNoKQJlDSBkiZQ0gRKmkBJEyhpAiVNoKQJlDSBkiZQ0gRKmkBJEyhpAiVNoKQJlDSBkiZQ0gRKmkBJEyhpAiVNoKQJlDSBkiZQ0r5ExkNM/yP71wAAAABJRU5ErkJggg==",
           "type": "image"
          },
          {
           "name": "5",
           "source": "data:image/png;base64,iVBORw0KGgoAAAANSUhEUgAAAOAAAADgCAIAAACVT/22AAAClUlEQVR4Xu3coQ0DQRAEQduxfv4xmBsMsVZqUAUPDGpp2b2f53lB1nWg9jf72+f3AUoESppASRMoaQIlTaCkCZQ0gZImUNIESppASRMoaQIlTaCkCZQ0gZImUNIESppASRMoaQIlTaCkCZQ0gZImUNIESppASRMoaQIlTaCkva+/z4O/XAdqf7O/OfGkCZQ0gZImUNIESppASRMoaQIlTaCkCZQ0gZImUNIESppASRMoaQIlTaCkCZQ0gZImUNIESppASRMoaQIlTaCkCZQ0gZImUNIESppASfM/KG3Xgdrf7G9OPGkCJU2gpAmUNIGSJlDSBEqaQEkTKGkCJU2gpAmUNIGSJlDSBEqaQEkTKGkCJU2gpAmUNIGSJlDSBEqaQEkTKGkCJU2gpAmUNIGSJlDS/A9K23Wg9jf7mxNPmkBJEyhpAiVNoKQJlDSBkiZQ0gRKmkBJEyhpAiVNoKQJlDSBkiZQ0gRKmkBJEyhpAiVNoKQJlDSBkiZQ0gRKmkBJEyhpAiVNoKQJlDT/g9J2Haj9zf7mxJMmUNIESppASRMoaQIlTaCkCZQ0gZImUNIESppASRMoaQIlTaCkCZQ0gZImUNIESppASRMoaQIlTaCkCZQ0gZImUNIESppASRMoaQIlzf+gtF0Han+zvznxpAmUNIGSJlDSBEqaQEkTKGkCJU2gpAmUNIGSJlDSBEqaQEkTKGkCJU2gpAmUNIGSJlDSBEqaQEkTKGkCJU2gpAmUNIGSJlDSBEqaQEnzPyht14Ha3+xvTjxpAiVNoKQJlDSBkiZQ0gRKmkBJEyhpAiVNoKQJlDSBkiZQ0gRKmkBJEyhpAiVNoKQJlDSBkiZQ0gRKmkBJEyhpAiVNoKQJlDSBkiZQ0r5ExkNM/yP71wAAAABJRU5ErkJggg==",
           "type": "image"
          },
          {
           "name": "6",
           "source": "data:image/png;base64,iVBORw0KGgoAAAANSUhEUgAAAOAAAADgCAIAAACVT/22AAAClUlEQVR4Xu3coQ0DQRAEQduxfv4xmBsMsVZqUAUPDGpp2b2f53lB1nWg9jf72+f3AUoESppASRMoaQIlTaCkCZQ0gZImUNIESppASRMoaQIlTaCkCZQ0gZImUNIESppASRMoaQIlTaCkCZQ0gZImUNIESppASRMoaQIlTaCkva+/z4O/XAdqf7O/OfGkCZQ0gZImUNIESppASRMoaQIlTaCkCZQ0gZImUNIESppASRMoaQIlTaCkCZQ0gZImUNIESppASRMoaQIlTaCkCZQ0gZImUNIESppASfM/KG3Xgdrf7G9OPGkCJU2gpAmUNIGSJlDSBEqaQEkTKGkCJU2gpAmUNIGSJlDSBEqaQEkTKGkCJU2gpAmUNIGSJlDSBEqaQEkTKGkCJU2gpAmUNIGSJlDS/A9K23Wg9jf7mxNPmkBJEyhpAiVNoKQJlDSBkiZQ0gRKmkBJEyhpAiVNoKQJlDSBkiZQ0gRKmkBJEyhpAiVNoKQJlDSBkiZQ0gRKmkBJEyhpAiVNoKQJlDT/g9J2Haj9zf7mxJMmUNIESppASRMoaQIlTaCkCZQ0gZImUNIESppASRMoaQIlTaCkCZQ0gZImUNIESppASRMoaQIlTaCkCZQ0gZImUNIESppASRMoaQIlzf+gtF0Han+zvznxpAmUNIGSJlDSBEqaQEkTKGkCJU2gpAmUNIGSJlDSBEqaQEkTKGkCJU2gpAmUNIGSJlDSBEqaQEkTKGkCJU2gpAmUNIGSJlDSBEqaQEnzPyht14Ha3+xvTjxpAiVNoKQJlDSBkiZQ0gRKmkBJEyhpAiVNoKQJlDSBkiZQ0gRKmkBJEyhpAiVNoKQJlDSBkiZQ0gRKmkBJEyhpAiVNoKQJlDSBkiZQ0r5ExkNM/yP71wAAAABJRU5ErkJggg==",
           "type": "image"
          },
          {
           "name": "7",
           "source": "data:image/png;base64,iVBORw0KGgoAAAANSUhEUgAAAOAAAADgCAIAAACVT/22AAAClUlEQVR4Xu3coQ0DQRAEQduxfv4xmBsMsVZqUAUPDGpp2b2f53lB1nWg9jf72+f3AUoESppASRMoaQIlTaCkCZQ0gZImUNIESppASRMoaQIlTaCkCZQ0gZImUNIESppASRMoaQIlTaCkCZQ0gZImUNIESppASRMoaQIlTaCkva+/z4O/XAdqf7O/OfGkCZQ0gZImUNIESppASRMoaQIlTaCkCZQ0gZImUNIESppASRMoaQIlTaCkCZQ0gZImUNIESppASRMoaQIlTaCkCZQ0gZImUNIESppASfM/KG3Xgdrf7G9OPGkCJU2gpAmUNIGSJlDSBEqaQEkTKGkCJU2gpAmUNIGSJlDSBEqaQEkTKGkCJU2gpAmUNIGSJlDSBEqaQEkTKGkCJU2gpAmUNIGSJlDS/A9K23Wg9jf7mxNPmkBJEyhpAiVNoKQJlDSBkiZQ0gRKmkBJEyhpAiVNoKQJlDSBkiZQ0gRKmkBJEyhpAiVNoKQJlDSBkiZQ0gRKmkBJEyhpAiVNoKQJlDT/g9J2Haj9zf7mxJMmUNIESppASRMoaQIlTaCkCZQ0gZImUNIESppASRMoaQIlTaCkCZQ0gZImUNIESppASRMoaQIlTaCkCZQ0gZImUNIESppASRMoaQIlzf+gtF0Han+zvznxpAmUNIGSJlDSBEqaQEkTKGkCJU2gpAmUNIGSJlDSBEqaQEkTKGkCJU2gpAmUNIGSJlDSBEqaQEkTKGkCJU2gpAmUNIGSJlDSBEqaQEnzPyht14Ha3+xvTjxpAiVNoKQJlDSBkiZQ0gRKmkBJEyhpAiVNoKQJlDSBkiZQ0gRKmkBJEyhpAiVNoKQJlDSBkiZQ0gRKmkBJEyhpAiVNoKQJlDSBkiZQ0r5ExkNM/yP71wAAAABJRU5ErkJggg==",
           "type": "image"
          }
         ],
         "layout": {
          "margin": {
           "t": 60
          }
         },
         "name": "1"
        },
        {
         "data": [
          {
           "name": "8",
           "source": "data:image/png;base64,iVBORw0KGgoAAAANSUhEUgAAAOAAAADgCAIAAACVT/22AAAClUlEQVR4Xu3coQ0DQRAEQduxfv4xmBsMsVZqUAUPDGpp2b2f53lB1nWg9jf72+f3AUoESppASRMoaQIlTaCkCZQ0gZImUNIESppASRMoaQIlTaCkCZQ0gZImUNIESppASRMoaQIlTaCkCZQ0gZImUNIESppASRMoaQIlTaCkva+/z4O/XAdqf7O/OfGkCZQ0gZImUNIESppASRMoaQIlTaCkCZQ0gZImUNIESppASRMoaQIlTaCkCZQ0gZImUNIESppASRMoaQIlTaCkCZQ0gZImUNIESppASfM/KG3Xgdrf7G9OPGkCJU2gpAmUNIGSJlDSBEqaQEkTKGkCJU2gpAmUNIGSJlDSBEqaQEkTKGkCJU2gpAmUNIGSJlDSBEqaQEkTKGkCJU2gpAmUNIGSJlDS/A9K23Wg9jf7mxNPmkBJEyhpAiVNoKQJlDSBkiZQ0gRKmkBJEyhpAiVNoKQJlDSBkiZQ0gRKmkBJEyhpAiVNoKQJlDSBkiZQ0gRKmkBJEyhpAiVNoKQJlDT/g9J2Haj9zf7mxJMmUNIESppASRMoaQIlTaCkCZQ0gZImUNIESppASRMoaQIlTaCkCZQ0gZImUNIESppASRMoaQIlTaCkCZQ0gZImUNIESppASRMoaQIlzf+gtF0Han+zvznxpAmUNIGSJlDSBEqaQEkTKGkCJU2gpAmUNIGSJlDSBEqaQEkTKGkCJU2gpAmUNIGSJlDSBEqaQEkTKGkCJU2gpAmUNIGSJlDSBEqaQEnzPyht14Ha3+xvTjxpAiVNoKQJlDSBkiZQ0gRKmkBJEyhpAiVNoKQJlDSBkiZQ0gRKmkBJEyhpAiVNoKQJlDSBkiZQ0gRKmkBJEyhpAiVNoKQJlDSBkiZQ0r5ExkNM/yP71wAAAABJRU5ErkJggg==",
           "type": "image"
          },
          {
           "name": "9",
           "source": "data:image/png;base64,iVBORw0KGgoAAAANSUhEUgAAAOAAAADgCAIAAACVT/22AAAClUlEQVR4Xu3coQ0DQRAEQduxfv4xmBsMsVZqUAUPDGpp2b2f53lB1nWg9jf72+f3AUoESppASRMoaQIlTaCkCZQ0gZImUNIESppASRMoaQIlTaCkCZQ0gZImUNIESppASRMoaQIlTaCkCZQ0gZImUNIESppASRMoaQIlTaCkva+/z4O/XAdqf7O/OfGkCZQ0gZImUNIESppASRMoaQIlTaCkCZQ0gZImUNIESppASRMoaQIlTaCkCZQ0gZImUNIESppASRMoaQIlTaCkCZQ0gZImUNIESppASfM/KG3Xgdrf7G9OPGkCJU2gpAmUNIGSJlDSBEqaQEkTKGkCJU2gpAmUNIGSJlDSBEqaQEkTKGkCJU2gpAmUNIGSJlDSBEqaQEkTKGkCJU2gpAmUNIGSJlDS/A9K23Wg9jf7mxNPmkBJEyhpAiVNoKQJlDSBkiZQ0gRKmkBJEyhpAiVNoKQJlDSBkiZQ0gRKmkBJEyhpAiVNoKQJlDSBkiZQ0gRKmkBJEyhpAiVNoKQJlDT/g9J2Haj9zf7mxJMmUNIESppASRMoaQIlTaCkCZQ0gZImUNIESppASRMoaQIlTaCkCZQ0gZImUNIESppASRMoaQIlTaCkCZQ0gZImUNIESppASRMoaQIlzf+gtF0Han+zvznxpAmUNIGSJlDSBEqaQEkTKGkCJU2gpAmUNIGSJlDSBEqaQEkTKGkCJU2gpAmUNIGSJlDSBEqaQEkTKGkCJU2gpAmUNIGSJlDSBEqaQEnzPyht14Ha3+xvTjxpAiVNoKQJlDSBkiZQ0gRKmkBJEyhpAiVNoKQJlDSBkiZQ0gRKmkBJEyhpAiVNoKQJlDSBkiZQ0gRKmkBJEyhpAiVNoKQJlDSBkiZQ0r5ExkNM/yP71wAAAABJRU5ErkJggg==",
           "type": "image"
          },
          {
           "name": "10",
           "source": "data:image/png;base64,iVBORw0KGgoAAAANSUhEUgAAAOAAAADgCAIAAACVT/22AAAClUlEQVR4Xu3coQ0DQRAEQduxfv4xmBsMsVZqUAUPDGpp2b2f53lB1nWg9jf72+f3AUoESppASRMoaQIlTaCkCZQ0gZImUNIESppASRMoaQIlTaCkCZQ0gZImUNIESppASRMoaQIlTaCkCZQ0gZImUNIESppASRMoaQIlTaCkva+/z4O/XAdqf7O/OfGkCZQ0gZImUNIESppASRMoaQIlTaCkCZQ0gZImUNIESppASRMoaQIlTaCkCZQ0gZImUNIESppASRMoaQIlTaCkCZQ0gZImUNIESppASfM/KG3Xgdrf7G9OPGkCJU2gpAmUNIGSJlDSBEqaQEkTKGkCJU2gpAmUNIGSJlDSBEqaQEkTKGkCJU2gpAmUNIGSJlDSBEqaQEkTKGkCJU2gpAmUNIGSJlDS/A9K23Wg9jf7mxNPmkBJEyhpAiVNoKQJlDSBkiZQ0gRKmkBJEyhpAiVNoKQJlDSBkiZQ0gRKmkBJEyhpAiVNoKQJlDSBkiZQ0gRKmkBJEyhpAiVNoKQJlDT/g9J2Haj9zf7mxJMmUNIESppASRMoaQIlTaCkCZQ0gZImUNIESppASRMoaQIlTaCkCZQ0gZImUNIESppASRMoaQIlTaCkCZQ0gZImUNIESppASRMoaQIlzf+gtF0Han+zvznxpAmUNIGSJlDSBEqaQEkTKGkCJU2gpAmUNIGSJlDSBEqaQEkTKGkCJU2gpAmUNIGSJlDSBEqaQEkTKGkCJU2gpAmUNIGSJlDSBEqaQEnzPyht14Ha3+xvTjxpAiVNoKQJlDSBkiZQ0gRKmkBJEyhpAiVNoKQJlDSBkiZQ0gRKmkBJEyhpAiVNoKQJlDSBkiZQ0gRKmkBJEyhpAiVNoKQJlDSBkiZQ0r5ExkNM/yP71wAAAABJRU5ErkJggg==",
           "type": "image"
          },
          {
           "name": "11",
           "source": "data:image/png;base64,iVBORw0KGgoAAAANSUhEUgAAAOAAAADgCAIAAACVT/22AAAClUlEQVR4Xu3coQ0DQRAEQduxfv4xmBsMsVZqUAUPDGpp2b2f53lB1nWg9jf72+f3AUoESppASRMoaQIlTaCkCZQ0gZImUNIESppASRMoaQIlTaCkCZQ0gZImUNIESppASRMoaQIlTaCkCZQ0gZImUNIESppASRMoaQIlTaCkva+/z4O/XAdqf7O/OfGkCZQ0gZImUNIESppASRMoaQIlTaCkCZQ0gZImUNIESppASRMoaQIlTaCkCZQ0gZImUNIESppASRMoaQIlTaCkCZQ0gZImUNIESppASfM/KG3Xgdrf7G9OPGkCJU2gpAmUNIGSJlDSBEqaQEkTKGkCJU2gpAmUNIGSJlDSBEqaQEkTKGkCJU2gpAmUNIGSJlDSBEqaQEkTKGkCJU2gpAmUNIGSJlDS/A9K23Wg9jf7mxNPmkBJEyhpAiVNoKQJlDSBkiZQ0gRKmkBJEyhpAiVNoKQJlDSBkiZQ0gRKmkBJEyhpAiVNoKQJlDSBkiZQ0gRKmkBJEyhpAiVNoKQJlDT/g9J2Haj9zf7mxJMmUNIESppASRMoaQIlTaCkCZQ0gZImUNIESppASRMoaQIlTaCkCZQ0gZImUNIESppASRMoaQIlTaCkCZQ0gZImUNIESppASRMoaQIlzf+gtF0Han+zvznxpAmUNIGSJlDSBEqaQEkTKGkCJU2gpAmUNIGSJlDSBEqaQEkTKGkCJU2gpAmUNIGSJlDSBEqaQEkTKGkCJU2gpAmUNIGSJlDSBEqaQEnzPyht14Ha3+xvTjxpAiVNoKQJlDSBkiZQ0gRKmkBJEyhpAiVNoKQJlDSBkiZQ0gRKmkBJEyhpAiVNoKQJlDSBkiZQ0gRKmkBJEyhpAiVNoKQJlDSBkiZQ0r5ExkNM/yP71wAAAABJRU5ErkJggg==",
           "type": "image"
          }
         ],
         "layout": {
          "margin": {
           "t": 60
          }
         },
         "name": "2"
        },
        {
         "data": [
          {
           "name": "12",
           "source": "data:image/png;base64,iVBORw0KGgoAAAANSUhEUgAAAOAAAADgCAIAAACVT/22AAAClUlEQVR4Xu3coQ0DQRAEQduxfv4xmBsMsVZqUAUPDGpp2b2f53lB1nWg9jf72+f3AUoESppASRMoaQIlTaCkCZQ0gZImUNIESppASRMoaQIlTaCkCZQ0gZImUNIESppASRMoaQIlTaCkCZQ0gZImUNIESppASRMoaQIlTaCkva+/z4O/XAdqf7O/OfGkCZQ0gZImUNIESppASRMoaQIlTaCkCZQ0gZImUNIESppASRMoaQIlTaCkCZQ0gZImUNIESppASRMoaQIlTaCkCZQ0gZImUNIESppASfM/KG3Xgdrf7G9OPGkCJU2gpAmUNIGSJlDSBEqaQEkTKGkCJU2gpAmUNIGSJlDSBEqaQEkTKGkCJU2gpAmUNIGSJlDSBEqaQEkTKGkCJU2gpAmUNIGSJlDS/A9K23Wg9jf7mxNPmkBJEyhpAiVNoKQJlDSBkiZQ0gRKmkBJEyhpAiVNoKQJlDSBkiZQ0gRKmkBJEyhpAiVNoKQJlDSBkiZQ0gRKmkBJEyhpAiVNoKQJlDT/g9J2Haj9zf7mxJMmUNIESppASRMoaQIlTaCkCZQ0gZImUNIESppASRMoaQIlTaCkCZQ0gZImUNIESppASRMoaQIlTaCkCZQ0gZImUNIESppASRMoaQIlzf+gtF0Han+zvznxpAmUNIGSJlDSBEqaQEkTKGkCJU2gpAmUNIGSJlDSBEqaQEkTKGkCJU2gpAmUNIGSJlDSBEqaQEkTKGkCJU2gpAmUNIGSJlDSBEqaQEnzPyht14Ha3+xvTjxpAiVNoKQJlDSBkiZQ0gRKmkBJEyhpAiVNoKQJlDSBkiZQ0gRKmkBJEyhpAiVNoKQJlDSBkiZQ0gRKmkBJEyhpAiVNoKQJlDSBkiZQ0r5ExkNM/yP71wAAAABJRU5ErkJggg==",
           "type": "image"
          },
          {
           "name": "13",
           "source": "data:image/png;base64,iVBORw0KGgoAAAANSUhEUgAAAOAAAADgCAIAAACVT/22AAAClUlEQVR4Xu3coQ0DQRAEQduxfv4xmBsMsVZqUAUPDGpp2b2f53lB1nWg9jf72+f3AUoESppASRMoaQIlTaCkCZQ0gZImUNIESppASRMoaQIlTaCkCZQ0gZImUNIESppASRMoaQIlTaCkCZQ0gZImUNIESppASRMoaQIlTaCkva+/z4O/XAdqf7O/OfGkCZQ0gZImUNIESppASRMoaQIlTaCkCZQ0gZImUNIESppASRMoaQIlTaCkCZQ0gZImUNIESppASRMoaQIlTaCkCZQ0gZImUNIESppASfM/KG3Xgdrf7G9OPGkCJU2gpAmUNIGSJlDSBEqaQEkTKGkCJU2gpAmUNIGSJlDSBEqaQEkTKGkCJU2gpAmUNIGSJlDSBEqaQEkTKGkCJU2gpAmUNIGSJlDS/A9K23Wg9jf7mxNPmkBJEyhpAiVNoKQJlDSBkiZQ0gRKmkBJEyhpAiVNoKQJlDSBkiZQ0gRKmkBJEyhpAiVNoKQJlDSBkiZQ0gRKmkBJEyhpAiVNoKQJlDT/g9J2Haj9zf7mxJMmUNIESppASRMoaQIlTaCkCZQ0gZImUNIESppASRMoaQIlTaCkCZQ0gZImUNIESppASRMoaQIlTaCkCZQ0gZImUNIESppASRMoaQIlzf+gtF0Han+zvznxpAmUNIGSJlDSBEqaQEkTKGkCJU2gpAmUNIGSJlDSBEqaQEkTKGkCJU2gpAmUNIGSJlDSBEqaQEkTKGkCJU2gpAmUNIGSJlDSBEqaQEnzPyht14Ha3+xvTjxpAiVNoKQJlDSBkiZQ0gRKmkBJEyhpAiVNoKQJlDSBkiZQ0gRKmkBJEyhpAiVNoKQJlDSBkiZQ0gRKmkBJEyhpAiVNoKQJlDSBkiZQ0r5ExkNM/yP71wAAAABJRU5ErkJggg==",
           "type": "image"
          },
          {
           "name": "14",
           "source": "data:image/png;base64,iVBORw0KGgoAAAANSUhEUgAAAOAAAADgCAIAAACVT/22AAAClUlEQVR4Xu3coQ0DQRAEQduxfv4xmBsMsVZqUAUPDGpp2b2f53lB1nWg9jf72+f3AUoESppASRMoaQIlTaCkCZQ0gZImUNIESppASRMoaQIlTaCkCZQ0gZImUNIESppASRMoaQIlTaCkCZQ0gZImUNIESppASRMoaQIlTaCkva+/z4O/XAdqf7O/OfGkCZQ0gZImUNIESppASRMoaQIlTaCkCZQ0gZImUNIESppASRMoaQIlTaCkCZQ0gZImUNIESppASRMoaQIlTaCkCZQ0gZImUNIESppASfM/KG3Xgdrf7G9OPGkCJU2gpAmUNIGSJlDSBEqaQEkTKGkCJU2gpAmUNIGSJlDSBEqaQEkTKGkCJU2gpAmUNIGSJlDSBEqaQEkTKGkCJU2gpAmUNIGSJlDS/A9K23Wg9jf7mxNPmkBJEyhpAiVNoKQJlDSBkiZQ0gRKmkBJEyhpAiVNoKQJlDSBkiZQ0gRKmkBJEyhpAiVNoKQJlDSBkiZQ0gRKmkBJEyhpAiVNoKQJlDT/g9J2Haj9zf7mxJMmUNIESppASRMoaQIlTaCkCZQ0gZImUNIESppASRMoaQIlTaCkCZQ0gZImUNIESppASRMoaQIlTaCkCZQ0gZImUNIESppASRMoaQIlzf+gtF0Han+zvznxpAmUNIGSJlDSBEqaQEkTKGkCJU2gpAmUNIGSJlDSBEqaQEkTKGkCJU2gpAmUNIGSJlDSBEqaQEkTKGkCJU2gpAmUNIGSJlDSBEqaQEnzPyht14Ha3+xvTjxpAiVNoKQJlDSBkiZQ0gRKmkBJEyhpAiVNoKQJlDSBkiZQ0gRKmkBJEyhpAiVNoKQJlDSBkiZQ0gRKmkBJEyhpAiVNoKQJlDSBkiZQ0r5ExkNM/yP71wAAAABJRU5ErkJggg==",
           "type": "image"
          },
          {
           "name": "15",
           "source": "data:image/png;base64,iVBORw0KGgoAAAANSUhEUgAAAOAAAADgCAIAAACVT/22AAAClUlEQVR4Xu3coQ0DQRAEQduxfv4xmBsMsVZqUAUPDGpp2b2f53lB1nWg9jf72+f3AUoESppASRMoaQIlTaCkCZQ0gZImUNIESppASRMoaQIlTaCkCZQ0gZImUNIESppASRMoaQIlTaCkCZQ0gZImUNIESppASRMoaQIlTaCkva+/z4O/XAdqf7O/OfGkCZQ0gZImUNIESppASRMoaQIlTaCkCZQ0gZImUNIESppASRMoaQIlTaCkCZQ0gZImUNIESppASRMoaQIlTaCkCZQ0gZImUNIESppASfM/KG3Xgdrf7G9OPGkCJU2gpAmUNIGSJlDSBEqaQEkTKGkCJU2gpAmUNIGSJlDSBEqaQEkTKGkCJU2gpAmUNIGSJlDSBEqaQEkTKGkCJU2gpAmUNIGSJlDS/A9K23Wg9jf7mxNPmkBJEyhpAiVNoKQJlDSBkiZQ0gRKmkBJEyhpAiVNoKQJlDSBkiZQ0gRKmkBJEyhpAiVNoKQJlDSBkiZQ0gRKmkBJEyhpAiVNoKQJlDT/g9J2Haj9zf7mxJMmUNIESppASRMoaQIlTaCkCZQ0gZImUNIESppASRMoaQIlTaCkCZQ0gZImUNIESppASRMoaQIlTaCkCZQ0gZImUNIESppASRMoaQIlzf+gtF0Han+zvznxpAmUNIGSJlDSBEqaQEkTKGkCJU2gpAmUNIGSJlDSBEqaQEkTKGkCJU2gpAmUNIGSJlDSBEqaQEkTKGkCJU2gpAmUNIGSJlDSBEqaQEnzPyht14Ha3+xvTjxpAiVNoKQJlDSBkiZQ0gRKmkBJEyhpAiVNoKQJlDSBkiZQ0gRKmkBJEyhpAiVNoKQJlDSBkiZQ0gRKmkBJEyhpAiVNoKQJlDSBkiZQ0r5ExkNM/yP71wAAAABJRU5ErkJggg==",
           "type": "image"
          }
         ],
         "layout": {
          "margin": {
           "t": 60
          }
         },
         "name": "3"
        },
        {
         "data": [
          {
           "name": "16",
           "source": "data:image/png;base64,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",
           "type": "image"
          },
          {
           "name": "17",
           "source": "data:image/png;base64,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",
           "type": "image"
          },
          {
           "name": "18",
           "source": "data:image/png;base64,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",
           "type": "image"
          },
          {
           "name": "19",
           "source": "data:image/png;base64,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",
           "type": "image"
          }
         ],
         "layout": {
          "margin": {
           "t": 60
          }
         },
         "name": "4"
        },
        {
         "data": [
          {
           "name": "20",
           "source": "data:image/png;base64,iVBORw0KGgoAAAANSUhEUgAAAOAAAADgCAIAAACVT/22AAAEeUlEQVR4Xu3c3U0cZxiA0ZfIZRjXAe6DVEADJnUYGnAFdh9AHcZ9OBcIZz0Ji9kf9nE4R1ysXpjRavVoZvhA39H5+flA1r4Ddf71nH+9P5YDKBEoaQIlTaCkCZQ0gZImUNIESppASRMoaQIlTaCkCZQ0gZImUNIESppASRMoaQIlTaCkCZQ0gZImUNIESppASRMoaQIlTaCkCZQ0gZJ2tO/t82Ar+w7U+ddz/vXc4kkTKGkCJU2gpAmUNIGSJlDSBEqaQEkTKGkCJU2gpAmUNIGSJlDSBEqaQEkTKGkCJU2gpAmUNIGSJlDSBEqaQEkTKGkCJU2gpAmUNIGSZn9Q0lxBSRMoaQIlTaCkCZQ0gZImUNIESppASRMoaQIlTaCkCZQ0gZImUNIESppASRMoaQIlTaCkCZQ0gZImUNIESppASRMoaQIlTaCkCZQ0gZImUNIEStqb5WAPPn36tBztzvn5ufOv8QLnX452yhWUtFKgb2c+znx/+Po683Hm7fKneFUygZ7NXM9crEyOZy5mrjX6qjUCvb92Hi/HMzPHM9fLGa9HI9APj9R573jmw3LGLp3MfJ65fni4up75PHOy/KmDaAS6eme/nDmaOZr5sjI8W3nNDp3MfJ25mTmbOX0Yns6czdzMfD18po1AV/318GK12h+fHTv0YebmqXvXzYFvX71AeRkfZi6Xs/92echGe4F+npmZtz9/fDcrr9neyS/Xee/yYPf6RqCrH9bZzPeZu5+fO1efR9ne/VXgWTY4ZBcagV7N3C1n/7ibuVrO2NzJ2ufOxxwf5iLaCPTbzPtHGr2beb+csZXV3z6fZeMDt9AIdB4aXTwYXcy8m/n285AtbfyXuY0P3EIm0Jn5trLGdM+dfR82XrPb+MAtlAKFfxHo67Pxmt3GB25BoK/Pxs/0Gx+4hUagP/4H9PvyO+zes5boV2184BYagfKSbh9Z0VvvbuZ2OXsBjUDv/33p/osX8Ody8LQNDtmFRqC8sNtnrrpfHObyOQJ9va5+udGLQy5IC/QVu5o5Xfs8ejdzesg6R6Cv3e3Mu5nTmS8ry5w3M19mTmfeHezO/sNLbNzwNKtLh3V7sN+BnuQKSlrjCmp1iUe4gpImUNIEStrRvrfPg228mf3v37kc/W58Puvt9fNxiydNoKQJlDSBkiZQ0gRKmkBJEyhpAiVNoKQJlDSBkiZQ0gRKmkBJEyhpAiVNoKQJlDSBkiZQ0gRKmkBJEyhpAiVNoKQJlDSBkiZQ0gRKmv1BSfs/7A+67/f/u59/Odq1vb5/t3jSBEqaQEkTKGkCJU2gpAmUNIGSJlDSBEqaQEkTKGkCJU2gpAmUNIGSJlDSBEqaQEkTKGkCJU2gpAmUNIGSJlDSBEqaQEkTKGkCJU2gpNkflDT7gz7hBfbv3Pf5l6Nd2+v7d4snTaCkCZQ0gZImUNIESppASRMoaQIlTaCkCZQ0gZImUNIESppASRMoaQIlTaCkCZQ0gZImUNIESppASRMoaQIlTaCkCZQ0gZImUNIEStrfVZOaF1ZBIAYAAAAASUVORK5CYII=",
           "type": "image"
          },
          {
           "name": "21",
           "source": "data:image/png;base64,iVBORw0KGgoAAAANSUhEUgAAAOAAAADgCAIAAACVT/22AAAEfUlEQVR4Xu3c4TEkWxzG4detDQNxsHm4EUiAG8eSgAjIA3EgD/fDFHd0XYNZ3ee1nqd8mPqv7pqyP93tUGfn+Pg4UGvuQJ1/M+ff7K/pAJoIlGoCpZpAqSZQqgmUagKlmkCpJlCqCZRqAqWaQKkmUKoJlGoCpZpAqSZQqgmUagKlmkCpJlCqCZRqAqWaQKkmUKoJlGoCpZpAqSZQqgmUajtzb58Hv2XuQJ1/M+ffzC2eagKlmkCpJlCqCZRqAqWaQKkmUKoJlGoCpZpAqSZQqgmUagKlmkCpJlCqCZRqAqWaQKkmUKoJlGoCpZpAqSZQqgmUagKlmkCpJlCqCZRqAqWa/UGp5gpKNYFSTaBUEyjVBEo1gVJNoFQTKNUESjWBUk2gVBMo1QRKNYFSTaBUEyjVBEo1gVJNoFQTKNUESjWBUk2gVBMo1QRKNYFSTaBUEyjVBEo1gVJNoFQTKNV+TAczuLi4mI4+z/HxsfNvsMD5p6NP5QpKNYHyZDf5lTw+fdwlv5Ld6WctTKAkSY6S6+R0bbKXnCbXgxsVKE/Xzr3pOEn2kuvpbEkdgR4kl8n1083lOrlMDqafxVxOXqlzZS85mc4WMzrQg+QuuUmOksOn4WFylNwkdzJdxPqd/SzZSXaSq7Xh0drrZQ0N9CS5eet792bkt+939M/Ti/Vqn68dixsX6ElyNp39vzONfl+DAj14d50rZ+71S7lMkuy+/A+6WXu9rEGBrr4KH7LFIbzTeotHyWNy//K5c/15dFkjAj3Y+Nz5mj0X0dmcJ/fT2X/uk/PpbDEjAl1/+v6QrQ9ks4fk5yuN3ic/p7MljQh0699MbH0gb1o1OvnB4DTZTx5eDpc1ItCt1yy2PpD3eFhbY1oZd2d/NiJQeLcRgW69ZrH1gXxZIwLd+plm6wP5skYE+qEl+nVbH8hmz38D+jj9l+FGBHr7yorGZvfJ7XTGH29EoEn+ng7etsUhvNPqz5dWH2UGBXr7wVX3U5fPb2pQoEnO393oacWCHEOMCzTJeXK48Xn0PjlU57c2NNAkt8l+cphcrS1z3iRXyWGy787+3S2xccPbbv0MNFTf6tKz0VdQ2KjjCspYfatLz1xBqSZQqgmUajtzb58Hv+NH5t+/czr6anx9Npv16+MWTzWBUk2gVBMo1QRKNYFSTaBUEyjVBEo1gVJNoFQTKNUESjWBUk2gVBMo1QRKNYFSTaBUEyjVBEo1gVJNoFQTKNUESjWBUk2gVBMo1QRKNYFSzf6gVPsT9ged+/1/9fNPR59t1vfvFk81gVJNoFQTKNUESjWBUk2gVBMo1QRKNYFSTaBUEyjVBEo1gVJNoFQTKNUESjWBUk2gVBMo1QRKNYFSTaBUEyjVBEo1gVJNoFQTKNUESjWBUs3+oFSzP+gbFti/c+7zT0efbdb37xZPNYFSTaBUEyjVBEo1gVJNoFQTKNUESjWBUk2gVBMo1QRKNYFSTaBUEyjVBEo1gVJNoFQTKNUESjWBUk2gVBMo1QRKNYFSTaBUEyjVBEo1gVLtX/4amhfJiDMyAAAAAElFTkSuQmCC",
           "type": "image"
          },
          {
           "name": "22",
           "source": "data:image/png;base64,iVBORw0KGgoAAAANSUhEUgAAAOAAAADgCAIAAACVT/22AAAEfUlEQVR4Xu3c4TEkWxzG4detDQNxsHm4EUiAG8eSgAjIA3EgD/fDFHd0XYNZ3ee1nqd8mPqv7pqyP93tUGfn+Pg4UGvuQJ1/M+ff7K/pAJoIlGoCpZpAqSZQqgmUagKlmkCpJlCqCZRqAqWaQKkmUKoJlGoCpZpAqSZQqgmUagKlmkCpJlCqCZRqAqWaQKkmUKoJlGoCpZpAqSZQqgmUajtzb58Hv2XuQJ1/M+ffzC2eagKlmkCpJlCqCZRqAqWaQKkmUKoJlGoCpZpAqSZQqgmUagKlmkCpJlCqCZRqAqWaQKkmUKoJlGoCpZpAqSZQqgmUagKlmkCpJlCqCZRqAqWa/UGp5gpKNYFSTaBUEyjVBEo1gVJNoFQTKNUESjWBUk2gVBMo1QRKNYFSTaBUEyjVBEo1gVJNoFQTKNUESjWBUk2gVBMo1QRKNYFSTaBUEyjVBEo1gVJNoFQTKNV+TAczuLi4mI4+z/HxsfNvsMD5p6NP5QpKNYHyZDf5lTw+fdwlv5Ld6WctTKAkSY6S6+R0bbKXnCbXgxsVKE/Xzr3pOEn2kuvpbEkdgR4kl8n1083lOrlMDqafxVxOXqlzZS85mc4WMzrQg+QuuUmOksOn4WFylNwkdzJdxPqd/SzZSXaSq7Xh0drrZQ0N9CS5eet792bkt+939M/Ti/Vqn68dixsX6ElyNp39vzONfl+DAj14d50rZ+71S7lMkuy+/A+6WXu9rEGBrr4KH7LFIbzTeotHyWNy//K5c/15dFkjAj3Y+Nz5mj0X0dmcJ/fT2X/uk/PpbDEjAl1/+v6QrQ9ks4fk5yuN3ic/p7MljQh0699MbH0gb1o1OvnB4DTZTx5eDpc1ItCt1yy2PpD3eFhbY1oZd2d/NiJQeLcRgW69ZrH1gXxZIwLd+plm6wP5skYE+qEl+nVbH8hmz38D+jj9l+FGBHr7yorGZvfJ7XTGH29EoEn+ng7etsUhvNPqz5dWH2UGBXr7wVX3U5fPb2pQoEnO393oacWCHEOMCzTJeXK48Xn0PjlU57c2NNAkt8l+cphcrS1z3iRXyWGy787+3S2xccPbbv0MNFTf6tKz0VdQ2KjjCspYfatLz1xBqSZQqgmUajtzb58Hv+NH5t+/czr6anx9Npv16+MWTzWBUk2gVBMo1QRKNYFSTaBUEyjVBEo1gVJNoFQTKNUESjWBUk2gVBMo1QRKNYFSTaBUEyjVBEo1gVJNoFQTKNUESjWBUk2gVBMo1QRKNYFSzf6gVPsT9ged+/1/9fNPR59t1vfvFk81gVJNoFQTKNUESjWBUk2gVBMo1QRKNYFSTaBUEyjVBEo1gVJNoFQTKNUESjWBUk2gVBMo1QRKNYFSTaBUEyjVBEo1gVJNoFQTKNUESjWBUs3+oFSzP+gbFti/c+7zT0efbdb37xZPNYFSTaBUEyjVBEo1gVJNoFQTKNUESjWBUk2gVBMo1QRKNYFSTaBUEyjVBEo1gVJNoFQTKNUESjWBUk2gVBMo1QRKNYFSTaBUEyjVBEo1gVLtX/4amhfJiDMyAAAAAElFTkSuQmCC",
           "type": "image"
          },
          {
           "name": "23",
           "source": "data:image/png;base64,iVBORw0KGgoAAAANSUhEUgAAAOAAAADgCAIAAACVT/22AAAEeUlEQVR4Xu3c3U0cZxiA0ZfIZRjXAe6DVEADJnUYGnAFdh9AHcZ9OBcIZz0Ji9kf9nE4R1ysXpjRavVoZvhA39H5+flA1r4Ddf71nH+9P5YDKBEoaQIlTaCkCZQ0gZImUNIESppASRMoaQIlTaCkCZQ0gZImUNIESppASRMoaQIlTaCkCZQ0gZImUNIESppASRMoaQIlTaCkCZQ0gZJ2tO/t82Ar+w7U+ddz/vXc4kkTKGkCJU2gpAmUNIGSJlDSBEqaQEkTKGkCJU2gpAmUNIGSJlDSBEqaQEkTKGkCJU2gpAmUNIGSJlDSBEqaQEkTKGkCJU2gpAmUNIGSZn9Q0lxBSRMoaQIlTaCkCZQ0gZImUNIESppASRMoaQIlTaCkCZQ0gZImUNIESppASRMoaQIlTaCkCZQ0gZImUNIESppASRMoaQIlTaCkCZQ0gZImUNIEStqb5WAPPn36tBztzvn5ufOv8QLnX452yhWUtFKgb2c+znx/+Po683Hm7fKneFUygZ7NXM9crEyOZy5mrjX6qjUCvb92Hi/HMzPHM9fLGa9HI9APj9R573jmw3LGLp3MfJ65fni4up75PHOy/KmDaAS6eme/nDmaOZr5sjI8W3nNDp3MfJ25mTmbOX0Yns6czdzMfD18po1AV/318GK12h+fHTv0YebmqXvXzYFvX71AeRkfZi6Xs/92echGe4F+npmZtz9/fDcrr9neyS/Xee/yYPf6RqCrH9bZzPeZu5+fO1efR9ne/VXgWTY4ZBcagV7N3C1n/7ibuVrO2NzJ2ufOxxwf5iLaCPTbzPtHGr2beb+csZXV3z6fZeMDt9AIdB4aXTwYXcy8m/n285AtbfyXuY0P3EIm0Jn5trLGdM+dfR82XrPb+MAtlAKFfxHo67Pxmt3GB25BoK/Pxs/0Gx+4hUagP/4H9PvyO+zes5boV2184BYagfKSbh9Z0VvvbuZ2OXsBjUDv/33p/osX8Ody8LQNDtmFRqC8sNtnrrpfHObyOQJ9va5+udGLQy5IC/QVu5o5Xfs8ejdzesg6R6Cv3e3Mu5nTmS8ry5w3M19mTmfeHezO/sNLbNzwNKtLh3V7sN+BnuQKSlrjCmp1iUe4gpImUNIEStrRvrfPg228mf3v37kc/W58Puvt9fNxiydNoKQJlDSBkiZQ0gRKmkBJEyhpAiVNoKQJlDSBkiZQ0gRKmkBJEyhpAiVNoKQJlDSBkiZQ0gRKmkBJEyhpAiVNoKQJlDSBkiZQ0gRKmv1BSfs/7A+67/f/u59/Odq1vb5/t3jSBEqaQEkTKGkCJU2gpAmUNIGSJlDSBEqaQEkTKGkCJU2gpAmUNIGSJlDSBEqaQEkTKGkCJU2gpAmUNIGSJlDSBEqaQEkTKGkCJU2gpNkflDT7gz7hBfbv3Pf5l6Nd2+v7d4snTaCkCZQ0gZImUNIESppASRMoaQIlTaCkCZQ0gZImUNIESppASRMoaQIlTaCkCZQ0gZImUNIESppASRMoaQIlTaCkCZQ0gZImUNIEStrfVZOaF1ZBIAYAAAAASUVORK5CYII=",
           "type": "image"
          }
         ],
         "layout": {
          "margin": {
           "t": 60
          }
         },
         "name": "5"
        },
        {
         "data": [
          {
           "name": "24",
           "source": "data:image/png;base64,iVBORw0KGgoAAAANSUhEUgAAAOAAAADgCAIAAACVT/22AAAEcUlEQVR4Xu3c3VEUaRiA0ZctwxDjAPNgIyAB2TiEBIxA8wDiEPNwLyjcsXcZZH6Yx+Wc4mLqle6iup7qr/mk+uj8/Hwga9+BOv96zr/eH8sBlAiUNIGSJlDSBEqaQEkTKGkCJU2gpAmUNIGSJlDSBEqaQEkTKGkCJU2gpAmUNIGSJlDSBEqaQEkTKGkCJU2gpAmUNIGSJlDSBEqaQEk72vfr82Ar+w7U+ddz/vUs8aQJlDSBkiZQ0gRKmkBJEyhpAiVNoKQJlDSBkiZQ0gRKmkBJEyhpAiVNoKQJlDSBkiZQ0gRKmkBJEyhpAiVNoKQJlDSBkiZQ0gRKmkBJ835Q2vYdqPOv5/zrWeJJEyhpAiVNoKQJlDSBkiZQ0gRKmkBJEyhpAiVNoKQJlDSBkiZQ0gRKmkBJEyhpAiVNoKQJlDSBkiZQ0gRKmkBJEyhpAiVNoKQJlDSBkub9oKS5g5ImUNIESppASRMoaQIlTaCkCZQ0gZImUNIESppASRMoaQIlTaCkCZQ0gZImUNIESppASRMoaQIlTaCkCZQ0gZImUNIESppASRMoaQIlTaCkCZS0N8vBHnz69Gk52p3z83PnX+MFzr8c7ZQ7KGmlQN/OfJz5/vD1debjzNvld/GqZAI9m7meuViZHM9czFxr9FVrBHp/7zxejmdmjmeulzNej0agHx6p897xzIfljF06mfk8c/3wcHU983nmZPldB9EIdHVlv5w5mjma+bIyPFv5zA6dzHyduZk5mzl9GJ7OnM3czHw9fKaNQFf99fBhtdof144d+jBz89TadXPg5asXKC/jw8zlcvbfLg/ZaC/QzzMz8/bny3ez8pntnfxynfcuD7bWNwJdvVhnM99n7n5+7lx9HmV793eBZ9ngkF1oBHo1c7ec/eNu5mo5Y3Mna587H3N8mJtoI9BvM+8fafRu5v1yxlZWf/t8lo0P3EIj0HlodPFgdDHzbubbz0O2tPH/zG184BYygc7Mt5U9pntW9n3YeM9u4wO3UAoU/kWgr8/Ge3YbH7gFgb4+Gz/Tb3zgFhqB/vgb0O/Lf2H3nrVFv2rjA7fQCJSXdPvIjt56dzO3y9kLaAR6/+dL91+8gD+Xg6dtcMguNALlhd0+c9f94jC3zxHo63X1y41eHHJDWqCv2NXM6drn0buZ00PWOQJ97W5n3s2cznxZ2ea8mfkyczrz7mAr+w8v8eKGp9ldOqzbg/0O9CR3UNIad1C7SzzCHZQ0gZImUNKO9v36PNjGm9n/+zuXo9+N67PeXq+PJZ40gZImUNIESppASRMoaQIlTaCkCZQ0gZImUNIESppASRMoaQIlTaCkCZQ0gZImUNIESppASRMoaQIlTaCkCZQ0gZImUNIESppASRMoad4PStr/4f2g+/75f/fzL0e7ttef3xJPmkBJEyhpAiVNoKQJlDSBkiZQ0gRKmkBJEyhpAiVNoKQJlDSBkiZQ0gRKmkBJEyhpAiVNoKQJlDSBkiZQ0gRKmkBJEyhpAiVNoKQJlLS/AfTVlHOKn+cSAAAAAElFTkSuQmCC",
           "type": "image"
          },
          {
           "name": "25",
           "source": "data:image/png;base64,iVBORw0KGgoAAAANSUhEUgAAAOAAAADgCAIAAACVT/22AAAEdUlEQVR4Xu3c4TEkWxzG4detDQNxsHm4EUiAG8eSgAjIA3EgD/fDFHd0XY1Z0+e1nqd8mPqv7lKzP33aoXrn+Pg4UGvbgTr/POef99d0AE0ESjWBUk2gVBMo1QRKNYFSTaBUEyjVBEo1gVJNoFQTKNUESjWBUk2gVBMo1QRKNYFSTaBUEyjVBEo1gVJNoFQTKNUESjWBUk2gVBMo1QRKtZ1tPz4Pfsu2A3X+ec4/zxJPNYFSTaBUEyjVBEo1gVJNoFQTKNUESjWBUk2gVBMo1QRKNYFSTaBUEyjVBEo1gVJNoFQTKNUESjWBUk2gVBMo1QRKNYFSTaBUEyjVBEo1gVLN80Hptu1AnX+e88+zxFNNoFQTKNUESjWBUk2gVBMo1QRKNYFSTaBUEyjVBEo1gVJNoFQTKNUESjWBUk2gVBMo1QRKNYFSTaBUEyjVBEo1gVJNoFQTKNUESjWBUk2gVPN8UKq5glJNoFQTKNUESjWBUk2gVBMo1QRKNYFSTaBUEyjVBEo1gVJNoFQTKNUESjWBUk2gVBMo1QRKNYFSTaBUEyjVBEo1gVJNoFQTKNUESjWBUk2gVBMo1QRKtR/TwRZcXFxMR5/n+PjY+WcscP7p6FO5glJNoDzZTX4lj08fd8mvZHf6WQsTKEmSo+Q6OV2b7CWnyfXgRgXK07VzbzpOkr3kejpbUkegB8llcv20uFwnl8nB9LPYlpNX6lzZS06ms8WMDvQguUtukqPk8Gl4mBwlN8mdTBexvrKfJTvJTnK1Njxae72soYGeJDdvfe/ejPz2/Y7+eXqxXu3ztWNx4wI9Sc6ms/93ptHva1CgB++uc+XMWr+UyyTJ7sv/oJu118saFOjqXfiQDQ7hndZbPEoek/uX953r96PLGhHowex952v2XES35jy5n87+c5+cT2eLGRHo+t33h2x8IPMekp+vNHqf/JzOljQi0I1/M7Hxgbxp1ejkB4PTZD95eDlc1ohAN96z2PhA3uNhbY9pZdzK/mxEoPBuIwLdeM9i4wP5skYEuvE9zcYH8mWNCPRDW/TrNj6Qec9/A/o4/ZfhRgR6+8qOxrz75HY64483ItAkf08Hb9vgEN5p9edLq48ygwK9/eCu+6nL5zc1KNAk5+9u9LRiQ44hxgWa5Dw5nL0fvU8O1fmtDQ00yW2ynxwmV2vbnDfJVXKY7FvZv7slHtzwtls/Aw3Vt7v0bPQVFGZ1XEEZq2936ZkrKNUESjWBUm1n24/Pg9/xI9t/fud09NV4f+Zt9f2xxFNNoFQTKNUESjWBUk2gVBMo1QRKNYFSTaBUEyjVBEo1gVJNoFQTKNUESjWBUk2gVBMo1QRKNYFSTaBUEyjVBEo1gVJNoFQTKNUESjWBUk2gVPN8UKr9Cc8H3fbX/9XPPx19tq1+/ZZ4qgmUagKlmkCpJlCqCZRqAqWaQKkmUKoJlGoCpZpAqSZQqgmUagKlmkCpJlCqCZRqAqWaQKkmUKoJlGoCpZpAqSZQqgmUagKlmkCpJlCqCZRq/wKda5Rzp/62cgAAAABJRU5ErkJggg==",
           "type": "image"
          },
          {
           "name": "26",
           "source": "data:image/png;base64,iVBORw0KGgoAAAANSUhEUgAAAOAAAADgCAIAAACVT/22AAAEdUlEQVR4Xu3c4TEkWxzG4detDQNxsHm4EUiAG8eSgAjIA3EgD/fDFHd0XY1Z0+e1nqd8mPqv7lKzP33aoXrn+Pg4UGvbgTr/POef99d0AE0ESjWBUk2gVBMo1QRKNYFSTaBUEyjVBEo1gVJNoFQTKNUESjWBUk2gVBMo1QRKNYFSTaBUEyjVBEo1gVJNoFQTKNUESjWBUk2gVBMo1QRKtZ1tPz4Pfsu2A3X+ec4/zxJPNYFSTaBUEyjVBEo1gVJNoFQTKNUESjWBUk2gVBMo1QRKNYFSTaBUEyjVBEo1gVJNoFQTKNUESjWBUk2gVBMo1QRKNYFSTaBUEyjVBEo1gVLN80Hptu1AnX+e88+zxFNNoFQTKNUESjWBUk2gVBMo1QRKNYFSTaBUEyjVBEo1gVJNoFQTKNUESjWBUk2gVBMo1QRKNYFSTaBUEyjVBEo1gVJNoFQTKNUESjWBUk2gVPN8UKq5glJNoFQTKNUESjWBUk2gVBMo1QRKNYFSTaBUEyjVBEo1gVJNoFQTKNUESjWBUk2gVBMo1QRKNYFSTaBUEyjVBEo1gVJNoFQTKNUESjWBUk2gVBMo1QRKtR/TwRZcXFxMR5/n+PjY+WcscP7p6FO5glJNoDzZTX4lj08fd8mvZHf6WQsTKEmSo+Q6OV2b7CWnyfXgRgXK07VzbzpOkr3kejpbUkegB8llcv20uFwnl8nB9LPYlpNX6lzZS06ms8WMDvQguUtukqPk8Gl4mBwlN8mdTBexvrKfJTvJTnK1Njxae72soYGeJDdvfe/ejPz2/Y7+eXqxXu3ztWNx4wI9Sc6ms/93ptHva1CgB++uc+XMWr+UyyTJ7sv/oJu118saFOjqXfiQDQ7hndZbPEoek/uX953r96PLGhHowex952v2XES35jy5n87+c5+cT2eLGRHo+t33h2x8IPMekp+vNHqf/JzOljQi0I1/M7Hxgbxp1ejkB4PTZD95eDlc1ohAN96z2PhA3uNhbY9pZdzK/mxEoPBuIwLdeM9i4wP5skYEuvE9zcYH8mWNCPRDW/TrNj6Qec9/A/o4/ZfhRgR6+8qOxrz75HY64483ItAkf08Hb9vgEN5p9edLq48ygwK9/eCu+6nL5zc1KNAk5+9u9LRiQ44hxgWa5Dw5nL0fvU8O1fmtDQ00yW2ynxwmV2vbnDfJVXKY7FvZv7slHtzwtls/Aw3Vt7v0bPQVFGZ1XEEZq2936ZkrKNUESjWBUm1n24/Pg9/xI9t/fud09NV4f+Zt9f2xxFNNoFQTKNUESjWBUk2gVBMo1QRKNYFSTaBUEyjVBEo1gVJNoFQTKNUESjWBUk2gVBMo1QRKNYFSTaBUEyjVBEo1gVJNoFQTKNUESjWBUk2gVPN8UKr9Cc8H3fbX/9XPPx19tq1+/ZZ4qgmUagKlmkCpJlCqCZRqAqWaQKkmUKoJlGoCpZpAqSZQqgmUagKlmkCpJlCqCZRqAqWaQKkmUKoJlGoCpZpAqSZQqgmUagKlmkCpJlCqCZRq/wKda5Rzp/62cgAAAABJRU5ErkJggg==",
           "type": "image"
          },
          {
           "name": "27",
           "source": "data:image/png;base64,iVBORw0KGgoAAAANSUhEUgAAAOAAAADgCAIAAACVT/22AAAEcUlEQVR4Xu3c3VEUaRiA0ZctwxDjAPNgIyAB2TiEBIxA8wDiEPNwLyjcsXcZZH6Yx+Wc4mLqle6iup7qr/mk+uj8/Hwga9+BOv96zr/eH8sBlAiUNIGSJlDSBEqaQEkTKGkCJU2gpAmUNIGSJlDSBEqaQEkTKGkCJU2gpAmUNIGSJlDSBEqaQEkTKGkCJU2gpAmUNIGSJlDSBEqaQEk72vfr82Ar+w7U+ddz/vUs8aQJlDSBkiZQ0gRKmkBJEyhpAiVNoKQJlDSBkiZQ0gRKmkBJEyhpAiVNoKQJlDSBkiZQ0gRKmkBJEyhpAiVNoKQJlDSBkiZQ0gRKmkBJ835Q2vYdqPOv5/zrWeJJEyhpAiVNoKQJlDSBkiZQ0gRKmkBJEyhpAiVNoKQJlDSBkiZQ0gRKmkBJEyhpAiVNoKQJlDSBkiZQ0gRKmkBJEyhpAiVNoKQJlDSBkub9oKS5g5ImUNIESppASRMoaQIlTaCkCZQ0gZImUNIESppASRMoaQIlTaCkCZQ0gZImUNIESppASRMoaQIlTaCkCZQ0gZImUNIESppASRMoaQIlTaCkCZS0N8vBHnz69Gk52p3z83PnX+MFzr8c7ZQ7KGmlQN/OfJz5/vD1debjzNvld/GqZAI9m7meuViZHM9czFxr9FVrBHp/7zxejmdmjmeulzNej0agHx6p897xzIfljF06mfk8c/3wcHU983nmZPldB9EIdHVlv5w5mjma+bIyPFv5zA6dzHyduZk5mzl9GJ7OnM3czHw9fKaNQFf99fBhtdof144d+jBz89TadXPg5asXKC/jw8zlcvbfLg/ZaC/QzzMz8/bny3ez8pntnfxynfcuD7bWNwJdvVhnM99n7n5+7lx9HmV793eBZ9ngkF1oBHo1c7ec/eNu5mo5Y3Mna587H3N8mJtoI9BvM+8fafRu5v1yxlZWf/t8lo0P3EIj0HlodPFgdDHzbubbz0O2tPH/zG184BYygc7Mt5U9pntW9n3YeM9u4wO3UAoU/kWgr8/Ge3YbH7gFgb4+Gz/Tb3zgFhqB/vgb0O/Lf2H3nrVFv2rjA7fQCJSXdPvIjt56dzO3y9kLaAR6/+dL91+8gD+Xg6dtcMguNALlhd0+c9f94jC3zxHo63X1y41eHHJDWqCv2NXM6drn0buZ00PWOQJ97W5n3s2cznxZ2ea8mfkyczrz7mAr+w8v8eKGp9ldOqzbg/0O9CR3UNIad1C7SzzCHZQ0gZImUNKO9v36PNjGm9n/+zuXo9+N67PeXq+PJZ40gZImUNIESppASRMoaQIlTaCkCZQ0gZImUNIESppASRMoaQIlTaCkCZQ0gZImUNIESppASRMoaQIlTaCkCZQ0gZImUNIESppASRMoad4PStr/4f2g+/75f/fzL0e7ttef3xJPmkBJEyhpAiVNoKQJlDSBkiZQ0gRKmkBJEyhpAiVNoKQJlDSBkiZQ0gRKmkBJEyhpAiVNoKQJlDSBkiZQ0gRKmkBJEyhpAiVNoKQJlLS/AfTVlHOKn+cSAAAAAElFTkSuQmCC",
           "type": "image"
          }
         ],
         "layout": {
          "margin": {
           "t": 60
          }
         },
         "name": "6"
        },
        {
         "data": [
          {
           "name": "28",
           "source": "data:image/png;base64,iVBORw0KGgoAAAANSUhEUgAAAOAAAADgCAIAAACVT/22AAAEZ0lEQVR4Xu3c3U0cSRhA0Y+VwzCOA5wHGwEJwMZhSMAR2HkAcRjn4X1AeMe9y2Dmh7krzhEPo4IuoeGqqilQH52fnw9k7TtQ869n/vX+WA5AiUBJEyhpAiVNoKQJlDSBkiZQ0gRKmkBJEyhpAiVNoKQJlDSBkiZQ0gRKmkBJEyhpAiVNoKQJlDSBkiZQ0gRKmkBJEyhpAiVNoKQJlLSjfT8+D7ay70DNv57517PFkyZQ0gRKmkBJEyhpAiVNoKQJlDSBkiZQ0gRKmkBJEyhpAiVNoKQJlDSBkiZQ0gRKmkBJEyhpAiVNoKQJlDSBkiZQ0gRKmkBJEyhpAiXN80Fp23eg5l/P/OvZ4kkTKGkCJU2gpAmUNIGSJlDSBEqaQEkTKGkCJU2gpAmUNIGSJlDSBEqaQEkTKGkCJU2gpAmUNIGSJlDSBEqaQEkTKGkCJU2gpAmUNIGS5vmgtO07UPOvZ/71bPGkCZQ0gZImUNIESppASRMoaQIlTaCkCZQ0gZImUNIESppASRMoaQIlTaCkCZQ0gZImUNIESppASRMoaQIlTaCkCZQ0gZImUNIESppASfN8UNKsoKQJlDSBkiZQ0gRKmkBJEyhpAiVNoKQJlDSBkiZQ0gRKmkBJEyhpAiVNoKQJlDSBkiZQ0gRKmkBJEyhpAiVNoKQJlDSBkiZQ0gRKmkBJEyhpAiXt3XJgDz5//rwc2p3z83Pzr/EK8y+HdsoKSlop0Pczn2Z+PH58m/k08375VbwpmUDPZm5mLldGjmcuZ240+qY1An1YO4+XwzMzxzM3yzHejkagF0/U+eB45mI5xi6dzHyZuXm8ubqZ+TJzsvyqg2gEurqzX80czRzNfF0ZPFt5zQ6dzHybuZ05mzl9HDydOZu5nfl2+Ewbga766/HFarU/3zt26GLm9rm96/bA21cvUF7HxczVcuy/XR2y0V6gX2Zm5v2vb9/tymu2d/LbdT64Othe3wh09c06m/kxc//rfefq/Sjbe1gFXmSDS3ahEej1zP1y7B/3M9fLMTZ3sva+8ynHh1lEG4F+n/n4RKP3Mx+XY2xl9bfPF9n4wi00Ap3HRhc3RpczH2a+/zrIljb+y9zGF24hE+jMfF85Y3pgZ9+Hjc/sNr5wC6VA4V8E+vZsfGa38YVbEOjbs/E9/cYXbqER6M//Af2x/Ay796Ij+lUbX7iFRqC8prsnTvTWu5+5W469gkagD/++9PDBK/hzOfC8DS7ZhUagvLK7F566Xx5m+RyBvl3Xv93o5SEPpAX6hl3PnK69H72fOT1knSPQt+5u5sPM6czXlWPO25mvM6czHw62s//0Gg9ueJ7TpcO6O9jvQM+ygpLWWEGdLvEEKyhpAiVNoKQd7fvxebCNd/P/f37ncmjXfP9r7Pvna4snTaCkCZQ0gZImUNIESppASRMoaQIlTaCkCZQ0gZImUNIESppASRMoaQIlTaCkCZQ0gZImUNIESppASRMoaQIlTaCkCZQ0gZImUNIEStrfkrKUz3Ns5eAAAAAASUVORK5CYII=",
           "type": "image"
          },
          {
           "name": "29",
           "source": "data:image/png;base64,iVBORw0KGgoAAAANSUhEUgAAAOAAAADgCAIAAACVT/22AAAEaklEQVR4Xu3c4TEtSQCG4c/WDQNxcPOwEUiAG8clARGQB+JAHvbHKfaYWoNznenPep7y41QzXYpX92hqdo6PjwO1th2o+eeZf95f0wFoIlCqCZRqAqWaQKkmUKoJlGoCpZpAqSZQqgmUagKlmkCpJlCqCZRqAqWaQKkmUKoJlGoCpZpAqSZQqgmUagKlmkCpJlCqCZRqAqWaQKkmUKrtbPvxefBHth2o+eeZf54tnmoCpZpAqSZQqgmUagKlmkCpJlCqCZRqAqWaQKkmUKoJlGoCpZpAqSZQqgmUagKlmkCpJlCqCZRqAqWaQKkmUKoJlGoCpZpAqSZQqgmUagKlmueD0m3bgZp/nvnn2eKpJlCqCZRqAqWaQKkmUKoJlGoCpZpAqSZQqgmUagKlmkCpJlCqCZRqAqWaQKkmUKoJlGoCpZpAqSZQqgmUagKlmkCpJlCqCZRqAqWaQKkmUKp5Pijdth2o+eeZf54tnmoCpZpAqSZQqgmUagKlmkCpJlCqCZRqAqWaQKkmUKoJlGoCpZpAqSZQqgmUagKlmkCpJlCqCZRqAqWaQKkmUKoJlGoCpZpAqSZQqgmUagKlmueDUs0KSjWBUk2gVBMo1QRKNYFSTaBUEyjVBEo1gVJNoFQTKNUESjWBUk2gVBMo1QRKNYFSTaBUEyjVBEo1gVJNoFQTKNUESjWBUk2gVBMo1QRKNYFSTaBUEyjVfkwHtuDi4mI69HmOj4/NP2OB+adDn8oKSjWB8mQ3+Z08Pr3dJb+T3elHLUygJEmOkuvkdG1kLzlNrgc3KlCe1s696XCS7CXX07EldQR6kFwm10+by3VymRxMP4ptOXmlzpW95GQ6tpjRgR4kd8lNcpQcPg0eJkfJTXIn00Ws7+xnyU6yk1ytDR6tvV7W0EBPkpu3fnZvRv74fke/nl6sV/u8dixuXKAnydl07L+dafT7GhTowbvrXDmz1y/lMkmy+/IbdLP2elmDAl19FT5kg0t4p/UWj5LH5P7lfef6/eiyRgR6MHvf+Zo9i+jWnCf307F/3Sfn07HFjAh0/e77Qza+kHkPyc9XGr1Pfk7HljQi0I3/MrHxhbxp1ejkF4PTZD95eDm4rBGBbnxmsfGFvMfD2hnTyrid/dmIQOHdRgS68ZnFxhfyZY0IdON7mo0v5MsaEeiHjujXbXwh857/B/Rx+p7hRgR6+8qJxrz75HY6xv/eiECT/D0deNsGl/BOq39fWr2VGRTo7QdP3U8tn9/UoECTnL+70dOKAzmGGBdokvPkcPZ+9D45VOe3NjTQJLfJfnKYXK0dc94kV8lhsm9n/+6WeHDD2279DjRU3+nSs9ErKMzqWEEZq+906ZkVlGoCpZpAqbaz7cfnwZ/4ka///M7p0Gfz+c/Y9vfXFk81gVJNoFQTKNUESjWBUk2gVBMo1QRKNYFSTaBUEyjVBEo1gVJNoFQTKNUESjWBUk2gVBMo1QRKNYFSTaBUEyjVBEo1gVJNoFQTKNUESjWBUu0fO0iUz44D2QoAAAAASUVORK5CYII=",
           "type": "image"
          },
          {
           "name": "30",
           "source": "data:image/png;base64,iVBORw0KGgoAAAANSUhEUgAAAOAAAADgCAIAAACVT/22AAAEaklEQVR4Xu3c4TEtSQCG4c/WDQNxcPOwEUiAG8clARGQB+JAHvbHKfaYWoNznenPep7y41QzXYpX92hqdo6PjwO1th2o+eeZf95f0wFoIlCqCZRqAqWaQKkmUKoJlGoCpZpAqSZQqgmUagKlmkCpJlCqCZRqAqWaQKkmUKoJlGoCpZpAqSZQqgmUagKlmkCpJlCqCZRqAqWaQKkmUKrtbPvxefBHth2o+eeZf54tnmoCpZpAqSZQqgmUagKlmkCpJlCqCZRqAqWaQKkmUKoJlGoCpZpAqSZQqgmUagKlmkCpJlCqCZRqAqWaQKkmUKoJlGoCpZpAqSZQqgmUagKlmueD0m3bgZp/nvnn2eKpJlCqCZRqAqWaQKkmUKoJlGoCpZpAqSZQqgmUagKlmkCpJlCqCZRqAqWaQKkmUKoJlGoCpZpAqSZQqgmUagKlmkCpJlCqCZRqAqWaQKkmUKp5Pijdth2o+eeZf54tnmoCpZpAqSZQqgmUagKlmkCpJlCqCZRqAqWaQKkmUKoJlGoCpZpAqSZQqgmUagKlmkCpJlCqCZRqAqWaQKkmUKoJlGoCpZpAqSZQqgmUagKlmueDUs0KSjWBUk2gVBMo1QRKNYFSTaBUEyjVBEo1gVJNoFQTKNUESjWBUk2gVBMo1QRKNYFSTaBUEyjVBEo1gVJNoFQTKNUESjWBUk2gVBMo1QRKNYFSTaBUEyjVfkwHtuDi4mI69HmOj4/NP2OB+adDn8oKSjWB8mQ3+Z08Pr3dJb+T3elHLUygJEmOkuvkdG1kLzlNrgc3KlCe1s696XCS7CXX07EldQR6kFwm10+by3VymRxMP4ptOXmlzpW95GQ6tpjRgR4kd8lNcpQcPg0eJkfJTXIn00Ws7+xnyU6yk1ytDR6tvV7W0EBPkpu3fnZvRv74fke/nl6sV/u8dixuXKAnydl07L+dafT7GhTowbvrXDmz1y/lMkmy+/IbdLP2elmDAl19FT5kg0t4p/UWj5LH5P7lfef6/eiyRgR6MHvf+Zo9i+jWnCf307F/3Sfn07HFjAh0/e77Qza+kHkPyc9XGr1Pfk7HljQi0I3/MrHxhbxp1ejkF4PTZD95eDm4rBGBbnxmsfGFvMfD2hnTyrid/dmIQOHdRgS68ZnFxhfyZY0IdON7mo0v5MsaEeiHjujXbXwh857/B/Rx+p7hRgR6+8qJxrz75HY6xv/eiECT/D0deNsGl/BOq39fWr2VGRTo7QdP3U8tn9/UoECTnL+70dOKAzmGGBdokvPkcPZ+9D45VOe3NjTQJLfJfnKYXK0dc94kV8lhsm9n/+6WeHDD2279DjRU3+nSs9ErKMzqWEEZq+906ZkVlGoCpZpAqbaz7cfnwZ/4ka///M7p0Gfz+c/Y9vfXFk81gVJNoFQTKNUESjWBUk2gVBMo1QRKNYFSTaBUEyjVBEo1gVJNoFQTKNUESjWBUk2gVBMo1QRKNYFSTaBUEyjVBEo1gVJNoFQTKNUESjWBUu0fO0iUz44D2QoAAAAASUVORK5CYII=",
           "type": "image"
          },
          {
           "name": "31",
           "source": "data:image/png;base64,iVBORw0KGgoAAAANSUhEUgAAAOAAAADgCAIAAACVT/22AAAEZ0lEQVR4Xu3c3U0cSRhA0Y+VwzCOA5wHGwEJwMZhSMAR2HkAcRjn4X1AeMe9y2Dmh7krzhEPo4IuoeGqqilQH52fnw9k7TtQ869n/vX+WA5AiUBJEyhpAiVNoKQJlDSBkiZQ0gRKmkBJEyhpAiVNoKQJlDSBkiZQ0gRKmkBJEyhpAiVNoKQJlDSBkiZQ0gRKmkBJEyhpAiVNoKQJlLSjfT8+D7ay70DNv57517PFkyZQ0gRKmkBJEyhpAiVNoKQJlDSBkiZQ0gRKmkBJEyhpAiVNoKQJlDSBkiZQ0gRKmkBJEyhpAiVNoKQJlDSBkiZQ0gRKmkBJEyhpAiXN80Fp23eg5l/P/OvZ4kkTKGkCJU2gpAmUNIGSJlDSBEqaQEkTKGkCJU2gpAmUNIGSJlDSBEqaQEkTKGkCJU2gpAmUNIGSJlDSBEqaQEkTKGkCJU2gpAmUNIGS5vmgtO07UPOvZ/71bPGkCZQ0gZImUNIESppASRMoaQIlTaCkCZQ0gZImUNIESppASRMoaQIlTaCkCZQ0gZImUNIESppASRMoaQIlTaCkCZQ0gZImUNIESppASfN8UNKsoKQJlDSBkiZQ0gRKmkBJEyhpAiVNoKQJlDSBkiZQ0gRKmkBJEyhpAiVNoKQJlDSBkiZQ0gRKmkBJEyhpAiVNoKQJlDSBkiZQ0gRKmkBJEyhpAiXt3XJgDz5//rwc2p3z83Pzr/EK8y+HdsoKSlop0Pczn2Z+PH58m/k08375VbwpmUDPZm5mLldGjmcuZ240+qY1An1YO4+XwzMzxzM3yzHejkagF0/U+eB45mI5xi6dzHyZuXm8ubqZ+TJzsvyqg2gEurqzX80czRzNfF0ZPFt5zQ6dzHybuZ05mzl9HDydOZu5nfl2+Ewbga766/HFarU/3zt26GLm9rm96/bA21cvUF7HxczVcuy/XR2y0V6gX2Zm5v2vb9/tymu2d/LbdT64Othe3wh09c06m/kxc//rfefq/Sjbe1gFXmSDS3ahEej1zP1y7B/3M9fLMTZ3sva+8ynHh1lEG4F+n/n4RKP3Mx+XY2xl9bfPF9n4wi00Ap3HRhc3RpczH2a+/zrIljb+y9zGF24hE+jMfF85Y3pgZ9+Hjc/sNr5wC6VA4V8E+vZsfGa38YVbEOjbs/E9/cYXbqER6M//Af2x/Ay796Ij+lUbX7iFRqC8prsnTvTWu5+5W469gkagD/++9PDBK/hzOfC8DS7ZhUagvLK7F566Xx5m+RyBvl3Xv93o5SEPpAX6hl3PnK69H72fOT1knSPQt+5u5sPM6czXlWPO25mvM6czHw62s//0Gg9ueJ7TpcO6O9jvQM+ygpLWWEGdLvEEKyhpAiVNoKQd7fvxebCNd/P/f37ncmjXfP9r7Pvna4snTaCkCZQ0gZImUNIESppASRMoaQIlTaCkCZQ0gZImUNIESppASRMoaQIlTaCkCZQ0gZImUNIESppASRMoaQIlTaCkCZQ0gZImUNIEStrfkrKUz3Ns5eAAAAAASUVORK5CYII=",
           "type": "image"
          }
         ],
         "layout": {
          "margin": {
           "t": 60
          }
         },
         "name": "7"
        },
        {
         "data": [
          {
           "name": "32",
           "source": "data:image/png;base64,iVBORw0KGgoAAAANSUhEUgAAAOAAAADgCAIAAACVT/22AAAEXUlEQVR4Xu3c3U1bSRiA4Y/VlhFSB6QPtgIaCFtHoIFUkPQB1BHSR/YCkXXOLib4B7+Sn0dcWIPPXFivZo4HdE4uLy8HsvYdqPnXM/96fywHoESgpAmUNIGSJlDSBEqaQEkTKGkCJU2gpAmUNIGSJlDSBEqaQEkTKGkCJU2gpAmUNIGSJlDSBEqaQEkTKGkCJU2gpAmUNIGSJlDSBErayb4fnwdb2Xeg5l/P/OvZ4kkTKGkCJU2gpAmUNIGSJlDSBEqaQEkTKGkCJU2gpAmUNIGSJlDSBEqaQEkTKGkCJU2gpAmUNIGSJlDSBEqaQEkTKGkCJU2gpAmUNIGS5vmgtO07UPOvZ/71bPGkCZQ0gZImUNIESppASRMoaQIlTaCkCZQ0gZImUNIESppASRMoaQIlTaCkCZQ0gZImUNIESppASRMoaQIlTaCkCZQ0gZImUNIESppASfN8UNr2Haj51zP/erZ40gRKmkBJEyhpAiVNoKQJlDSBkiZQ0gRKmkBJEyhpAiVNoKQJlDSBkiZQ0gRKmkBJEyhpAiVNoKQJlDSBkiZQ0gRKmkBJEyhpAiVNoKR5Piht+w7U/OuZfz1bPGkCJU2gpAmUNIGSJlDSBEqaQEkTKGkCJU2gpAmUNIGSJlDSBEqaQEkTKGkCJU2gpAmUNIGSJlDSBEqaQEkTKGkCJU2gpAmUNIGSJlDSPB+UNCsoaQIlTaCkCZQ0gZImUNIESppASRMoaQIlTaCkCZQ0gZImUNIESppASRMoaQIlTaCkCZQ0gZImUNIESppASRMoaQIlTaCkCZQ0gZImUNIESppASftzObAHnz9/Xg7tzuXlpfnXeIP5l0M7ZQUlrRTou5lPMz+efr7NfJp5t3wXRyUT6MXM7czVysjpzNXMrUaPWiPQx7XzdDk8M3M6c7sc43g0Av34TJ2PTmc+LsfYpbOZLzO3TzdXtzNfZs6W7zqIRqCrO/v1zMnMyczXlcGLldfs0NnMt5m7mYuZ86fB85mLmbuZb4fPtBHoqr+fXqxW+/OzY4c+zty9tHfdHXj76gXK2/g4c70c+3/Xh2y0F+iXmZl59+vHd7fymu2d/Xadj64Pttc3Al39sC5mfsw8/HrfuXo/yvYeV4FX2eCSXWgEejPzsBz718PMzXKMzZ2tve98zulhFtFGoN9nPjzT6MPMh+UYW1n99vkqG1+4hUag89To4sboaub9zPdfB9nSxn+Z2/jCLWQCnZnvK2dMj+zs+7Dxmd3GF26hFCj8h0CPz8ZndhtfuAWBHp+N7+k3vnALjUB//g/oj+Vv2L1XHdGv2vjCLTQC5S3dP3Oit97DzP1y7A00An3896XHH97AX8uBl21wyS40AuWN3b/y1P3qMMvnCPR43fx2o1eHPJAW6BG7mTlfez/6MHN+yDpHoMfufub9zPnM15VjzruZrzPnM+8PtrP/9BYPbniZ06XDuj/Yd6AXWUFJa6ygTpd4hhWUNIGSJlDS/gGVB48rdMwvRQAAAABJRU5ErkJggg==",
           "type": "image"
          },
          {
           "name": "33",
           "source": "data:image/png;base64,iVBORw0KGgoAAAANSUhEUgAAAOAAAADgCAIAAACVT/22AAAEYUlEQVR4Xu3c0VEjRwBF0YfLYcDGAZsHjoAEYONYSIAIIA9EHIg88IcKLKbMAPJq+q05p/hQNUx/wKV71FBzcHZ2Fqi170DNP8/88/6YDkATgVJNoFQTKNUESjWBUk2gVBMo1QRKNYFSTaBUEyjVBEo1gVJNoFQTKNUESjWBUk2gVBMo1QRKNYFSTaBUEyjVBEo1gVJNoFQTKNUESjWBUu1g34/Pg/9k34Gaf57559niqSZQqgmUagKlmkCpJlCqCZRqAqWaQKkmUKoJlGoCpZpAqSZQqgmUagKlmkCpJlCqCZRqAqWaQKkmUKoJlGoCpZpAqSZQqgmUagKlmkCpJlCqeT4o3fYdqPnnmX+eLZ5qAqWaQKkmUKoJlGoCpZpAqSZQqgmUagKlmkCpJlCqCZRqAqWaQKkmUKoJlGoCpZpAqSZQqgmUagKlmkCpJlCqCZRqAqWaQKkmUKoJlGoCpZrng9Jt34Gaf57559niqSZQqgmUagKlmkCpJlCqCZRqAqWaQKkmUKoJlGoCpZpAqSZQqgmUagKlmkCpJlCqCZRqAqWaQKkmUKoJlGoCpZpAqSZQqgmUagKlmkCpJlCqeT4o3fYdqPnnmX+eLZ5qAqWaQKkmUKoJlGoCpZpAqSZQqgmUagKlmkCpJlCqCZRqAqWaQKkmUKoJlGoCpZpAqSZQqgmUagKlmkCpJlCqCZRqAqWaQKkmUKoJlGoCpZrng1LNCko1gVJNoFQTKNUESjWBUk2gVBMo1QRKNYFSTaBUEyjVBEo1gVJNoFQTKNUESjWBUk2gVBMo1QRKNYFSTaBUEyjVBEo1gVJNoFQTKNUESjWBUk2gVBMo1f6cDuzB9fX1dOjXOTs7M/+MBeafDv1SVlCqCZRnh8nP5On54yH5mRxOv2phAiVJcprcJRdbI0fJRXI3uFGB8rx2Hk2Hk+QouZuOLakj0OPkJrl73lzukpvkePpV7Mv5G3VuHCXn07HFjA70OHlIVslpcvI8eJKcJqvkQaaL2N7ZL5OD5CC53Ro83Xq9rKGBnier9353VyN/fb+iH88vtqt9WTsWNy7Q8+RyOvbvLjX6dQ0K9PjDdW5c2uuXcpMkOXz9A1ptvV7WoEA334VP2eESPmi7xdPkKVm/vu/cvh9d1ohAj2fvO99yZBHdm6tkPR37xzq5mo4tZkSg23ffn7Lzhcx7TL6/0eg6+T4dW9KIQHf+y8TOF/KuTaOTNwYXybfk8fXgskYEuvOZxc4X8hGPW2dMG+N29hcjAoUPGxHozmcWO1/Ib2tEoDvf0+x8Ib+tEYF+6oh+284XMu/lf0Cfpp8ZbkSg92+caMxbJ/fTMf73RgSa5K/pwPt2uIQP2vz70uajzKBA7z956n5h+fyiBgWa5OrDjV5UHMgxxLhAk1wlJ7P3o+vkRJ1f2tBAk9wn35KT5HbrmHOV3CYnyTc7+1e3xIMb3nfvPdBQfadLL0avoDCrYwVlrL7TpRdWUKoJlGoCpdrfPZ2PKz3yg+4AAAAASUVORK5CYII=",
           "type": "image"
          },
          {
           "name": "34",
           "source": "data:image/png;base64,iVBORw0KGgoAAAANSUhEUgAAAOAAAADgCAIAAACVT/22AAAEYUlEQVR4Xu3c0VEjRwBF0YfLYcDGAZsHjoAEYONYSIAIIA9EHIg88IcKLKbMAPJq+q05p/hQNUx/wKV71FBzcHZ2Fqi170DNP8/88/6YDkATgVJNoFQTKNUESjWBUk2gVBMo1QRKNYFSTaBUEyjVBEo1gVJNoFQTKNUESjWBUk2gVBMo1QRKNYFSTaBUEyjVBEo1gVJNoFQTKNUESjWBUu1g34/Pg/9k34Gaf57559niqSZQqgmUagKlmkCpJlCqCZRqAqWaQKkmUKoJlGoCpZpAqSZQqgmUagKlmkCpJlCqCZRqAqWaQKkmUKoJlGoCpZpAqSZQqgmUagKlmkCpJlCqeT4o3fYdqPnnmX+eLZ5qAqWaQKkmUKoJlGoCpZpAqSZQqgmUagKlmkCpJlCqCZRqAqWaQKkmUKoJlGoCpZpAqSZQqgmUagKlmkCpJlCqCZRqAqWaQKkmUKoJlGoCpZrng9Jt34Gaf57559niqSZQqgmUagKlmkCpJlCqCZRqAqWaQKkmUKoJlGoCpZpAqSZQqgmUagKlmkCpJlCqCZRqAqWaQKkmUKoJlGoCpZpAqSZQqgmUagKlmkCpJlCqeT4o3fYdqPnnmX+eLZ5qAqWaQKkmUKoJlGoCpZpAqSZQqgmUagKlmkCpJlCqCZRqAqWaQKkmUKoJlGoCpZpAqSZQqgmUagKlmkCpJlCqCZRqAqWaQKkmUKoJlGoCpZrng1LNCko1gVJNoFQTKNUESjWBUk2gVBMo1QRKNYFSTaBUEyjVBEo1gVJNoFQTKNUESjWBUk2gVBMo1QRKNYFSTaBUEyjVBEo1gVJNoFQTKNUESjWBUk2gVBMo1f6cDuzB9fX1dOjXOTs7M/+MBeafDv1SVlCqCZRnh8nP5On54yH5mRxOv2phAiVJcprcJRdbI0fJRXI3uFGB8rx2Hk2Hk+QouZuOLakj0OPkJrl73lzukpvkePpV7Mv5G3VuHCXn07HFjA70OHlIVslpcvI8eJKcJqvkQaaL2N7ZL5OD5CC53Ro83Xq9rKGBnier9353VyN/fb+iH88vtqt9WTsWNy7Q8+RyOvbvLjX6dQ0K9PjDdW5c2uuXcpMkOXz9A1ptvV7WoEA334VP2eESPmi7xdPkKVm/vu/cvh9d1ohAj2fvO99yZBHdm6tkPR37xzq5mo4tZkSg23ffn7Lzhcx7TL6/0eg6+T4dW9KIQHf+y8TOF/KuTaOTNwYXybfk8fXgskYEuvOZxc4X8hGPW2dMG+N29hcjAoUPGxHozmcWO1/Ib2tEoDvf0+x8Ib+tEYF+6oh+284XMu/lf0Cfpp8ZbkSg92+caMxbJ/fTMf73RgSa5K/pwPt2uIQP2vz70uajzKBA7z956n5h+fyiBgWa5OrDjV5UHMgxxLhAk1wlJ7P3o+vkRJ1f2tBAk9wn35KT5HbrmHOV3CYnyTc7+1e3xIMb3nfvPdBQfadLL0avoDCrYwVlrL7TpRdWUKoJlGoCpdrfPZ2PKz3yg+4AAAAASUVORK5CYII=",
           "type": "image"
          },
          {
           "name": "35",
           "source": "data:image/png;base64,iVBORw0KGgoAAAANSUhEUgAAAOAAAADgCAIAAACVT/22AAAEXUlEQVR4Xu3c3U1bSRiA4Y/VlhFSB6QPtgIaCFtHoIFUkPQB1BHSR/YCkXXOLib4B7+Sn0dcWIPPXFivZo4HdE4uLy8HsvYdqPnXM/96fywHoESgpAmUNIGSJlDSBEqaQEkTKGkCJU2gpAmUNIGSJlDSBEqaQEkTKGkCJU2gpAmUNIGSJlDSBEqaQEkTKGkCJU2gpAmUNIGSJlDSBErayb4fnwdb2Xeg5l/P/OvZ4kkTKGkCJU2gpAmUNIGSJlDSBEqaQEkTKGkCJU2gpAmUNIGSJlDSBEqaQEkTKGkCJU2gpAmUNIGSJlDSBEqaQEkTKGkCJU2gpAmUNIGS5vmgtO07UPOvZ/71bPGkCZQ0gZImUNIESppASRMoaQIlTaCkCZQ0gZImUNIESppASRMoaQIlTaCkCZQ0gZImUNIESppASRMoaQIlTaCkCZQ0gZImUNIESppASfN8UNr2Haj51zP/erZ40gRKmkBJEyhpAiVNoKQJlDSBkiZQ0gRKmkBJEyhpAiVNoKQJlDSBkiZQ0gRKmkBJEyhpAiVNoKQJlDSBkiZQ0gRKmkBJEyhpAiVNoKR5Piht+w7U/OuZfz1bPGkCJU2gpAmUNIGSJlDSBEqaQEkTKGkCJU2gpAmUNIGSJlDSBEqaQEkTKGkCJU2gpAmUNIGSJlDSBEqaQEkTKGkCJU2gpAmUNIGSJlDSPB+UNCsoaQIlTaCkCZQ0gZImUNIESppASRMoaQIlTaCkCZQ0gZImUNIESppASRMoaQIlTaCkCZQ0gZImUNIESppASRMoaQIlTaCkCZQ0gZImUNIESppASftzObAHnz9/Xg7tzuXlpfnXeIP5l0M7ZQUlrRTou5lPMz+efr7NfJp5t3wXRyUT6MXM7czVysjpzNXMrUaPWiPQx7XzdDk8M3M6c7sc43g0Av34TJ2PTmc+LsfYpbOZLzO3TzdXtzNfZs6W7zqIRqCrO/v1zMnMyczXlcGLldfs0NnMt5m7mYuZ86fB85mLmbuZb4fPtBHoqr+fXqxW+/OzY4c+zty9tHfdHXj76gXK2/g4c70c+3/Xh2y0F+iXmZl59+vHd7fymu2d/Xadj64Pttc3Al39sC5mfsw8/HrfuXo/yvYeV4FX2eCSXWgEejPzsBz718PMzXKMzZ2tve98zulhFtFGoN9nPjzT6MPMh+UYW1n99vkqG1+4hUag89To4sboaub9zPdfB9nSxn+Z2/jCLWQCnZnvK2dMj+zs+7Dxmd3GF26hFCj8h0CPz8ZndhtfuAWBHp+N7+k3vnALjUB//g/oj+Vv2L1XHdGv2vjCLTQC5S3dP3Oit97DzP1y7A00An3896XHH97AX8uBl21wyS40AuWN3b/y1P3qMMvnCPR43fx2o1eHPJAW6BG7mTlfez/6MHN+yDpHoMfufub9zPnM15VjzruZrzPnM+8PtrP/9BYPbniZ06XDuj/Yd6AXWUFJa6ygTpd4hhWUNIGSJlDS/gGVB48rdMwvRQAAAABJRU5ErkJggg==",
           "type": "image"
          }
         ],
         "layout": {
          "margin": {
           "t": 60
          }
         },
         "name": "8"
        }
       ],
       "layout": {
        "annotations": [
         {
          "font": {},
          "showarrow": false,
          "text": "facet_col=0",
          "x": 0.1175,
          "xanchor": "center",
          "xref": "paper",
          "y": 1,
          "yanchor": "bottom",
          "yref": "paper"
         },
         {
          "font": {},
          "showarrow": false,
          "text": "facet_col=1",
          "x": 0.3725,
          "xanchor": "center",
          "xref": "paper",
          "y": 1,
          "yanchor": "bottom",
          "yref": "paper"
         },
         {
          "font": {},
          "showarrow": false,
          "text": "facet_col=2",
          "x": 0.6275,
          "xanchor": "center",
          "xref": "paper",
          "y": 1,
          "yanchor": "bottom",
          "yref": "paper"
         },
         {
          "font": {},
          "showarrow": false,
          "text": "facet_col=3",
          "x": 0.8824999999999998,
          "xanchor": "center",
          "xref": "paper",
          "y": 1,
          "yanchor": "bottom",
          "yref": "paper"
         }
        ],
        "margin": {
         "t": 60
        },
        "sliders": [
         {
          "active": 0,
          "currentvalue": {
           "prefix": "animation_frame="
          },
          "len": 0.9,
          "pad": {
           "b": 10,
           "t": 60
          },
          "steps": [
           {
            "args": [
             [
              "0"
             ],
             {
              "frame": {
               "duration": 0,
               "redraw": true
              },
              "fromcurrent": true,
              "mode": "immediate",
              "transition": {
               "duration": 0,
               "easing": "linear"
              }
             }
            ],
            "label": "0",
            "method": "animate"
           },
           {
            "args": [
             [
              "1"
             ],
             {
              "frame": {
               "duration": 0,
               "redraw": true
              },
              "fromcurrent": true,
              "mode": "immediate",
              "transition": {
               "duration": 0,
               "easing": "linear"
              }
             }
            ],
            "label": "1",
            "method": "animate"
           },
           {
            "args": [
             [
              "2"
             ],
             {
              "frame": {
               "duration": 0,
               "redraw": true
              },
              "fromcurrent": true,
              "mode": "immediate",
              "transition": {
               "duration": 0,
               "easing": "linear"
              }
             }
            ],
            "label": "2",
            "method": "animate"
           },
           {
            "args": [
             [
              "3"
             ],
             {
              "frame": {
               "duration": 0,
               "redraw": true
              },
              "fromcurrent": true,
              "mode": "immediate",
              "transition": {
               "duration": 0,
               "easing": "linear"
              }
             }
            ],
            "label": "3",
            "method": "animate"
           },
           {
            "args": [
             [
              "4"
             ],
             {
              "frame": {
               "duration": 0,
               "redraw": true
              },
              "fromcurrent": true,
              "mode": "immediate",
              "transition": {
               "duration": 0,
               "easing": "linear"
              }
             }
            ],
            "label": "4",
            "method": "animate"
           },
           {
            "args": [
             [
              "5"
             ],
             {
              "frame": {
               "duration": 0,
               "redraw": true
              },
              "fromcurrent": true,
              "mode": "immediate",
              "transition": {
               "duration": 0,
               "easing": "linear"
              }
             }
            ],
            "label": "5",
            "method": "animate"
           },
           {
            "args": [
             [
              "6"
             ],
             {
              "frame": {
               "duration": 0,
               "redraw": true
              },
              "fromcurrent": true,
              "mode": "immediate",
              "transition": {
               "duration": 0,
               "easing": "linear"
              }
             }
            ],
            "label": "6",
            "method": "animate"
           },
           {
            "args": [
             [
              "7"
             ],
             {
              "frame": {
               "duration": 0,
               "redraw": true
              },
              "fromcurrent": true,
              "mode": "immediate",
              "transition": {
               "duration": 0,
               "easing": "linear"
              }
             }
            ],
            "label": "7",
            "method": "animate"
           },
           {
            "args": [
             [
              "8"
             ],
             {
              "frame": {
               "duration": 0,
               "redraw": true
              },
              "fromcurrent": true,
              "mode": "immediate",
              "transition": {
               "duration": 0,
               "easing": "linear"
              }
             }
            ],
            "label": "8",
            "method": "animate"
           }
          ],
          "x": 0.1,
          "xanchor": "left",
          "y": 0,
          "yanchor": "top"
         }
        ],
        "template": {
         "data": {
          "candlestick": [
           {
            "decreasing": {
             "line": {
              "color": "#000033"
             }
            },
            "increasing": {
             "line": {
              "color": "#000032"
             }
            },
            "type": "candlestick"
           }
          ],
          "contour": [
           {
            "colorscale": [
             [
              0,
              "#000011"
             ],
             [
              0.1111111111111111,
              "#000012"
             ],
             [
              0.2222222222222222,
              "#000013"
             ],
             [
              0.3333333333333333,
              "#000014"
             ],
             [
              0.4444444444444444,
              "#000015"
             ],
             [
              0.5555555555555556,
              "#000016"
             ],
             [
              0.6666666666666666,
              "#000017"
             ],
             [
              0.7777777777777778,
              "#000018"
             ],
             [
              0.8888888888888888,
              "#000019"
             ],
             [
              1,
              "#000020"
             ]
            ],
            "type": "contour"
           }
          ],
          "contourcarpet": [
           {
            "colorscale": [
             [
              0,
              "#000011"
             ],
             [
              0.1111111111111111,
              "#000012"
             ],
             [
              0.2222222222222222,
              "#000013"
             ],
             [
              0.3333333333333333,
              "#000014"
             ],
             [
              0.4444444444444444,
              "#000015"
             ],
             [
              0.5555555555555556,
              "#000016"
             ],
             [
              0.6666666666666666,
              "#000017"
             ],
             [
              0.7777777777777778,
              "#000018"
             ],
             [
              0.8888888888888888,
              "#000019"
             ],
             [
              1,
              "#000020"
             ]
            ],
            "type": "contourcarpet"
           }
          ],
          "heatmap": [
           {
            "colorscale": [
             [
              0,
              "#000011"
             ],
             [
              0.1111111111111111,
              "#000012"
             ],
             [
              0.2222222222222222,
              "#000013"
             ],
             [
              0.3333333333333333,
              "#000014"
             ],
             [
              0.4444444444444444,
              "#000015"
             ],
             [
              0.5555555555555556,
              "#000016"
             ],
             [
              0.6666666666666666,
              "#000017"
             ],
             [
              0.7777777777777778,
              "#000018"
             ],
             [
              0.8888888888888888,
              "#000019"
             ],
             [
              1,
              "#000020"
             ]
            ],
            "type": "heatmap"
           }
          ],
          "histogram2d": [
           {
            "colorscale": [
             [
              0,
              "#000011"
             ],
             [
              0.1111111111111111,
              "#000012"
             ],
             [
              0.2222222222222222,
              "#000013"
             ],
             [
              0.3333333333333333,
              "#000014"
             ],
             [
              0.4444444444444444,
              "#000015"
             ],
             [
              0.5555555555555556,
              "#000016"
             ],
             [
              0.6666666666666666,
              "#000017"
             ],
             [
              0.7777777777777778,
              "#000018"
             ],
             [
              0.8888888888888888,
              "#000019"
             ],
             [
              1,
              "#000020"
             ]
            ],
            "type": "histogram2d"
           }
          ],
          "icicle": [
           {
            "textfont": {
             "color": "white"
            },
            "type": "icicle"
           }
          ],
          "sankey": [
           {
            "textfont": {
             "color": "#000036"
            },
            "type": "sankey"
           }
          ],
          "scatter": [
           {
            "marker": {
             "line": {
              "width": 0
             }
            },
            "type": "scatter"
           }
          ],
          "table": [
           {
            "cells": {
             "fill": {
              "color": "#000038"
             },
             "font": {
              "color": "#000037"
             },
             "line": {
              "color": "#000039"
             }
            },
            "header": {
             "fill": {
              "color": "#000040"
             },
             "font": {
              "color": "#000036"
             },
             "line": {
              "color": "#000039"
             }
            },
            "type": "table"
           }
          ],
          "waterfall": [
           {
            "connector": {
             "line": {
              "color": "#000036",
              "width": 2
             }
            },
            "decreasing": {
             "marker": {
              "color": "#000033"
             }
            },
            "increasing": {
             "marker": {
              "color": "#000032"
             }
            },
            "totals": {
             "marker": {
              "color": "#000034"
             }
            },
            "type": "waterfall"
           }
          ]
         },
         "layout": {
          "coloraxis": {
           "colorscale": [
            [
             0,
             "#000011"
            ],
            [
             0.1111111111111111,
             "#000012"
            ],
            [
             0.2222222222222222,
             "#000013"
            ],
            [
             0.3333333333333333,
             "#000014"
            ],
            [
             0.4444444444444444,
             "#000015"
            ],
            [
             0.5555555555555556,
             "#000016"
            ],
            [
             0.6666666666666666,
             "#000017"
            ],
            [
             0.7777777777777778,
             "#000018"
            ],
            [
             0.8888888888888888,
             "#000019"
            ],
            [
             1,
             "#000020"
            ]
           ]
          },
          "colorscale": {
           "diverging": [
            [
             0,
             "#000021"
            ],
            [
             0.1,
             "#000022"
            ],
            [
             0.2,
             "#000023"
            ],
            [
             0.3,
             "#000024"
            ],
            [
             0.4,
             "#000025"
            ],
            [
             0.5,
             "#000026"
            ],
            [
             0.6,
             "#000027"
            ],
            [
             0.7,
             "#000028"
            ],
            [
             0.8,
             "#000029"
            ],
            [
             0.9,
             "#000030"
            ],
            [
             1,
             "#000031"
            ]
           ],
           "sequential": [
            [
             0,
             "#000011"
            ],
            [
             0.1111111111111111,
             "#000012"
            ],
            [
             0.2222222222222222,
             "#000013"
            ],
            [
             0.3333333333333333,
             "#000014"
            ],
            [
             0.4444444444444444,
             "#000015"
            ],
            [
             0.5555555555555556,
             "#000016"
            ],
            [
             0.6666666666666666,
             "#000017"
            ],
            [
             0.7777777777777778,
             "#000018"
            ],
            [
             0.8888888888888888,
             "#000019"
            ],
            [
             1,
             "#000020"
            ]
           ],
           "sequentialminus": [
            [
             0,
             "#000011"
            ],
            [
             0.1111111111111111,
             "#000012"
            ],
            [
             0.2222222222222222,
             "#000013"
            ],
            [
             0.3333333333333333,
             "#000014"
            ],
            [
             0.4444444444444444,
             "#000015"
            ],
            [
             0.5555555555555556,
             "#000016"
            ],
            [
             0.6666666666666666,
             "#000017"
            ],
            [
             0.7777777777777778,
             "#000018"
            ],
            [
             0.8888888888888888,
             "#000019"
            ],
            [
             1,
             "#000020"
            ]
           ]
          },
          "colorway": [
           "#000001",
           "#000002",
           "#000003",
           "#000004",
           "#000005",
           "#000006",
           "#000007",
           "#000008",
           "#000009",
           "#000010"
          ]
         }
        },
        "updatemenus": [
         {
          "buttons": [
           {
            "args": [
             null,
             {
              "frame": {
               "duration": 500,
               "redraw": true
              },
              "fromcurrent": true,
              "mode": "immediate",
              "transition": {
               "duration": 500,
               "easing": "linear"
              }
             }
            ],
            "label": "&#9654;",
            "method": "animate"
           },
           {
            "args": [
             [
              null
             ],
             {
              "frame": {
               "duration": 0,
               "redraw": true
              },
              "fromcurrent": true,
              "mode": "immediate",
              "transition": {
               "duration": 0,
               "easing": "linear"
              }
             }
            ],
            "label": "&#9724;",
            "method": "animate"
           }
          ],
          "direction": "left",
          "pad": {
           "r": 10,
           "t": 70
          },
          "showactive": false,
          "type": "buttons",
          "x": 0.1,
          "xanchor": "right",
          "y": 0,
          "yanchor": "top"
         }
        ],
        "xaxis": {
         "anchor": "y",
         "domain": [
          0,
          0.235
         ]
        },
        "xaxis2": {
         "anchor": "y2",
         "domain": [
          0.255,
          0.49
         ],
         "matches": "x"
        },
        "xaxis3": {
         "anchor": "y3",
         "domain": [
          0.51,
          0.745
         ],
         "matches": "x"
        },
        "xaxis4": {
         "anchor": "y4",
         "domain": [
          0.7649999999999999,
          0.9999999999999999
         ],
         "matches": "x"
        },
        "yaxis": {
         "anchor": "x",
         "domain": [
          0,
          1
         ]
        },
        "yaxis2": {
         "anchor": "x2",
         "domain": [
          0,
          1
         ],
         "matches": "y",
         "showticklabels": false
        },
        "yaxis3": {
         "anchor": "x3",
         "domain": [
          0,
          1
         ],
         "matches": "y",
         "showticklabels": false
        },
        "yaxis4": {
         "anchor": "x4",
         "domain": [
          0,
          1
         ],
         "matches": "y",
         "showticklabels": false
        }
       }
      }
     },
     "metadata": {},
     "output_type": "display_data"
    }
   ],
   "source": [
    "from src.streamlit_app.causal_analysis_components import get_updated_obs\n",
    "from src.visualization import render_minigrid_observations\n",
    "from src.environments.utils import reverse_one_hot\n",
    "\n",
    "import numpy as np\n",
    "all_images = []\n",
    "for scenario in range(4):\n",
    "\n",
    "    if scenario < 2:\n",
    "        channel = 6\n",
    "    else:\n",
    "        channel = 5\n",
    "\n",
    "    obs[scenario][4] = get_updated_obs(obs[scenario], 4, 4, 2, channel) # adds a ball to the 4th timeframe at position 4,5 from top LHS. \n",
    "    obs[scenario][4] = get_updated_obs(obs[scenario], 4, 0, 5, channel) # adds a ball to the 4th timeframe at position 4,5 from top LHS. \n",
    "\n",
    "    obs[scenario].shape\n",
    "    original_obs = np.stack([reverse_one_hot(obs[scenario][i]) for i in range(obs.shape[1])])\n",
    "    images = render_minigrid_observations(env, original_obs)\n",
    "    all_images.append(images)\n",
    "\n",
    "all_images = torch.from_numpy(np.stack(all_images))\n",
    "px.imshow(all_images, animation_frame=1, facet_col=0).show()"
   ]
  },
  {
   "cell_type": "code",
   "execution_count": 32,
   "metadata": {},
   "outputs": [
    {
     "data": {
      "application/vnd.plotly.v1+json": {
       "config": {
        "plotlyServerURL": "https://plotly.com"
       },
       "data": [
        {
         "alignmentgroup": "True",
         "hovertemplate": "action=%{x}<br>scenario=key_top<br>logit=%{y}<extra></extra>",
         "legendgroup": "left",
         "marker": {
          "color": "#636efa",
          "pattern": {
           "shape": ""
          }
         },
         "name": "left",
         "offsetgroup": "left",
         "orientation": "v",
         "showlegend": true,
         "textposition": "auto",
         "type": "bar",
         "x": [
          "left"
         ],
         "xaxis": "x3",
         "y": [
          4.898122310638428
         ],
         "yaxis": "y3"
        },
        {
         "alignmentgroup": "True",
         "hovertemplate": "action=%{x}<br>scenario=key_bottom<br>logit=%{y}<extra></extra>",
         "legendgroup": "left",
         "marker": {
          "color": "#636efa",
          "pattern": {
           "shape": ""
          }
         },
         "name": "left",
         "offsetgroup": "left",
         "orientation": "v",
         "showlegend": false,
         "textposition": "auto",
         "type": "bar",
         "x": [
          "left"
         ],
         "xaxis": "x4",
         "y": [
          0.5147724747657776
         ],
         "yaxis": "y4"
        },
        {
         "alignmentgroup": "True",
         "hovertemplate": "action=%{x}<br>scenario=ball_top<br>logit=%{y}<extra></extra>",
         "legendgroup": "left",
         "marker": {
          "color": "#636efa",
          "pattern": {
           "shape": ""
          }
         },
         "name": "left",
         "offsetgroup": "left",
         "orientation": "v",
         "showlegend": false,
         "textposition": "auto",
         "type": "bar",
         "x": [
          "left"
         ],
         "xaxis": "x",
         "y": [
          7.6172637939453125
         ],
         "yaxis": "y"
        },
        {
         "alignmentgroup": "True",
         "hovertemplate": "action=%{x}<br>scenario=ball_bottom<br>logit=%{y}<extra></extra>",
         "legendgroup": "left",
         "marker": {
          "color": "#636efa",
          "pattern": {
           "shape": ""
          }
         },
         "name": "left",
         "offsetgroup": "left",
         "orientation": "v",
         "showlegend": false,
         "textposition": "auto",
         "type": "bar",
         "x": [
          "left"
         ],
         "xaxis": "x2",
         "y": [
          -0.3229745030403137
         ],
         "yaxis": "y2"
        },
        {
         "alignmentgroup": "True",
         "hovertemplate": "action=%{x}<br>scenario=key_top<br>logit=%{y}<extra></extra>",
         "legendgroup": "right",
         "marker": {
          "color": "#EF553B",
          "pattern": {
           "shape": ""
          }
         },
         "name": "right",
         "offsetgroup": "right",
         "orientation": "v",
         "showlegend": true,
         "textposition": "auto",
         "type": "bar",
         "x": [
          "right"
         ],
         "xaxis": "x3",
         "y": [
          5.562320232391357
         ],
         "yaxis": "y3"
        },
        {
         "alignmentgroup": "True",
         "hovertemplate": "action=%{x}<br>scenario=key_bottom<br>logit=%{y}<extra></extra>",
         "legendgroup": "right",
         "marker": {
          "color": "#EF553B",
          "pattern": {
           "shape": ""
          }
         },
         "name": "right",
         "offsetgroup": "right",
         "orientation": "v",
         "showlegend": false,
         "textposition": "auto",
         "type": "bar",
         "x": [
          "right"
         ],
         "xaxis": "x4",
         "y": [
          8.539351463317871
         ],
         "yaxis": "y4"
        },
        {
         "alignmentgroup": "True",
         "hovertemplate": "action=%{x}<br>scenario=ball_top<br>logit=%{y}<extra></extra>",
         "legendgroup": "right",
         "marker": {
          "color": "#EF553B",
          "pattern": {
           "shape": ""
          }
         },
         "name": "right",
         "offsetgroup": "right",
         "orientation": "v",
         "showlegend": false,
         "textposition": "auto",
         "type": "bar",
         "x": [
          "right"
         ],
         "xaxis": "x",
         "y": [
          0.8987704515457153
         ],
         "yaxis": "y"
        },
        {
         "alignmentgroup": "True",
         "hovertemplate": "action=%{x}<br>scenario=ball_bottom<br>logit=%{y}<extra></extra>",
         "legendgroup": "right",
         "marker": {
          "color": "#EF553B",
          "pattern": {
           "shape": ""
          }
         },
         "name": "right",
         "offsetgroup": "right",
         "orientation": "v",
         "showlegend": false,
         "textposition": "auto",
         "type": "bar",
         "x": [
          "right"
         ],
         "xaxis": "x2",
         "y": [
          8.03608226776123
         ],
         "yaxis": "y2"
        },
        {
         "alignmentgroup": "True",
         "hovertemplate": "action=%{x}<br>scenario=key_top<br>logit=%{y}<extra></extra>",
         "legendgroup": "forward",
         "marker": {
          "color": "#00cc96",
          "pattern": {
           "shape": ""
          }
         },
         "name": "forward",
         "offsetgroup": "forward",
         "orientation": "v",
         "showlegend": true,
         "textposition": "auto",
         "type": "bar",
         "x": [
          "forward"
         ],
         "xaxis": "x3",
         "y": [
          -2.648364543914795
         ],
         "yaxis": "y3"
        },
        {
         "alignmentgroup": "True",
         "hovertemplate": "action=%{x}<br>scenario=key_bottom<br>logit=%{y}<extra></extra>",
         "legendgroup": "forward",
         "marker": {
          "color": "#00cc96",
          "pattern": {
           "shape": ""
          }
         },
         "name": "forward",
         "offsetgroup": "forward",
         "orientation": "v",
         "showlegend": false,
         "textposition": "auto",
         "type": "bar",
         "x": [
          "forward"
         ],
         "xaxis": "x4",
         "y": [
          -0.6895761489868164
         ],
         "yaxis": "y4"
        },
        {
         "alignmentgroup": "True",
         "hovertemplate": "action=%{x}<br>scenario=ball_top<br>logit=%{y}<extra></extra>",
         "legendgroup": "forward",
         "marker": {
          "color": "#00cc96",
          "pattern": {
           "shape": ""
          }
         },
         "name": "forward",
         "offsetgroup": "forward",
         "orientation": "v",
         "showlegend": false,
         "textposition": "auto",
         "type": "bar",
         "x": [
          "forward"
         ],
         "xaxis": "x",
         "y": [
          -2.5744214057922363
         ],
         "yaxis": "y"
        },
        {
         "alignmentgroup": "True",
         "hovertemplate": "action=%{x}<br>scenario=ball_bottom<br>logit=%{y}<extra></extra>",
         "legendgroup": "forward",
         "marker": {
          "color": "#00cc96",
          "pattern": {
           "shape": ""
          }
         },
         "name": "forward",
         "offsetgroup": "forward",
         "orientation": "v",
         "showlegend": false,
         "textposition": "auto",
         "type": "bar",
         "x": [
          "forward"
         ],
         "xaxis": "x2",
         "y": [
          -0.8560268878936768
         ],
         "yaxis": "y2"
        },
        {
         "alignmentgroup": "True",
         "hovertemplate": "action=%{x}<br>scenario=key_top<br>logit=%{y}<extra></extra>",
         "legendgroup": "pickup",
         "marker": {
          "color": "#ab63fa",
          "pattern": {
           "shape": ""
          }
         },
         "name": "pickup",
         "offsetgroup": "pickup",
         "orientation": "v",
         "showlegend": true,
         "textposition": "auto",
         "type": "bar",
         "x": [
          "pickup"
         ],
         "xaxis": "x3",
         "y": [
          -1.858364462852478
         ],
         "yaxis": "y3"
        },
        {
         "alignmentgroup": "True",
         "hovertemplate": "action=%{x}<br>scenario=key_bottom<br>logit=%{y}<extra></extra>",
         "legendgroup": "pickup",
         "marker": {
          "color": "#ab63fa",
          "pattern": {
           "shape": ""
          }
         },
         "name": "pickup",
         "offsetgroup": "pickup",
         "orientation": "v",
         "showlegend": false,
         "textposition": "auto",
         "type": "bar",
         "x": [
          "pickup"
         ],
         "xaxis": "x4",
         "y": [
          -1.550932765007019
         ],
         "yaxis": "y4"
        },
        {
         "alignmentgroup": "True",
         "hovertemplate": "action=%{x}<br>scenario=ball_top<br>logit=%{y}<extra></extra>",
         "legendgroup": "pickup",
         "marker": {
          "color": "#ab63fa",
          "pattern": {
           "shape": ""
          }
         },
         "name": "pickup",
         "offsetgroup": "pickup",
         "orientation": "v",
         "showlegend": false,
         "textposition": "auto",
         "type": "bar",
         "x": [
          "pickup"
         ],
         "xaxis": "x",
         "y": [
          -1.33914315700531
         ],
         "yaxis": "y"
        },
        {
         "alignmentgroup": "True",
         "hovertemplate": "action=%{x}<br>scenario=ball_bottom<br>logit=%{y}<extra></extra>",
         "legendgroup": "pickup",
         "marker": {
          "color": "#ab63fa",
          "pattern": {
           "shape": ""
          }
         },
         "name": "pickup",
         "offsetgroup": "pickup",
         "orientation": "v",
         "showlegend": false,
         "textposition": "auto",
         "type": "bar",
         "x": [
          "pickup"
         ],
         "xaxis": "x2",
         "y": [
          -2.391603469848633
         ],
         "yaxis": "y2"
        },
        {
         "alignmentgroup": "True",
         "hovertemplate": "action=%{x}<br>scenario=key_top<br>logit=%{y}<extra></extra>",
         "legendgroup": "drop",
         "marker": {
          "color": "#FFA15A",
          "pattern": {
           "shape": ""
          }
         },
         "name": "drop",
         "offsetgroup": "drop",
         "orientation": "v",
         "showlegend": true,
         "textposition": "auto",
         "type": "bar",
         "x": [
          "drop"
         ],
         "xaxis": "x3",
         "y": [
          -2.082263708114624
         ],
         "yaxis": "y3"
        },
        {
         "alignmentgroup": "True",
         "hovertemplate": "action=%{x}<br>scenario=key_bottom<br>logit=%{y}<extra></extra>",
         "legendgroup": "drop",
         "marker": {
          "color": "#FFA15A",
          "pattern": {
           "shape": ""
          }
         },
         "name": "drop",
         "offsetgroup": "drop",
         "orientation": "v",
         "showlegend": false,
         "textposition": "auto",
         "type": "bar",
         "x": [
          "drop"
         ],
         "xaxis": "x4",
         "y": [
          -1.8842970132827759
         ],
         "yaxis": "y4"
        },
        {
         "alignmentgroup": "True",
         "hovertemplate": "action=%{x}<br>scenario=ball_top<br>logit=%{y}<extra></extra>",
         "legendgroup": "drop",
         "marker": {
          "color": "#FFA15A",
          "pattern": {
           "shape": ""
          }
         },
         "name": "drop",
         "offsetgroup": "drop",
         "orientation": "v",
         "showlegend": false,
         "textposition": "auto",
         "type": "bar",
         "x": [
          "drop"
         ],
         "xaxis": "x",
         "y": [
          -1.3597652912139893
         ],
         "yaxis": "y"
        },
        {
         "alignmentgroup": "True",
         "hovertemplate": "action=%{x}<br>scenario=ball_bottom<br>logit=%{y}<extra></extra>",
         "legendgroup": "drop",
         "marker": {
          "color": "#FFA15A",
          "pattern": {
           "shape": ""
          }
         },
         "name": "drop",
         "offsetgroup": "drop",
         "orientation": "v",
         "showlegend": false,
         "textposition": "auto",
         "type": "bar",
         "x": [
          "drop"
         ],
         "xaxis": "x2",
         "y": [
          -1.6153744459152222
         ],
         "yaxis": "y2"
        },
        {
         "alignmentgroup": "True",
         "hovertemplate": "action=%{x}<br>scenario=key_top<br>logit=%{y}<extra></extra>",
         "legendgroup": "toggle",
         "marker": {
          "color": "#19d3f3",
          "pattern": {
           "shape": ""
          }
         },
         "name": "toggle",
         "offsetgroup": "toggle",
         "orientation": "v",
         "showlegend": true,
         "textposition": "auto",
         "type": "bar",
         "x": [
          "toggle"
         ],
         "xaxis": "x3",
         "y": [
          -2.183190107345581
         ],
         "yaxis": "y3"
        },
        {
         "alignmentgroup": "True",
         "hovertemplate": "action=%{x}<br>scenario=key_bottom<br>logit=%{y}<extra></extra>",
         "legendgroup": "toggle",
         "marker": {
          "color": "#19d3f3",
          "pattern": {
           "shape": ""
          }
         },
         "name": "toggle",
         "offsetgroup": "toggle",
         "orientation": "v",
         "showlegend": false,
         "textposition": "auto",
         "type": "bar",
         "x": [
          "toggle"
         ],
         "xaxis": "x4",
         "y": [
          -2.0302650928497314
         ],
         "yaxis": "y4"
        },
        {
         "alignmentgroup": "True",
         "hovertemplate": "action=%{x}<br>scenario=ball_top<br>logit=%{y}<extra></extra>",
         "legendgroup": "toggle",
         "marker": {
          "color": "#19d3f3",
          "pattern": {
           "shape": ""
          }
         },
         "name": "toggle",
         "offsetgroup": "toggle",
         "orientation": "v",
         "showlegend": false,
         "textposition": "auto",
         "type": "bar",
         "x": [
          "toggle"
         ],
         "xaxis": "x",
         "y": [
          -1.8599131107330322
         ],
         "yaxis": "y"
        },
        {
         "alignmentgroup": "True",
         "hovertemplate": "action=%{x}<br>scenario=ball_bottom<br>logit=%{y}<extra></extra>",
         "legendgroup": "toggle",
         "marker": {
          "color": "#19d3f3",
          "pattern": {
           "shape": ""
          }
         },
         "name": "toggle",
         "offsetgroup": "toggle",
         "orientation": "v",
         "showlegend": false,
         "textposition": "auto",
         "type": "bar",
         "x": [
          "toggle"
         ],
         "xaxis": "x2",
         "y": [
          -1.8081332445144653
         ],
         "yaxis": "y2"
        },
        {
         "alignmentgroup": "True",
         "hovertemplate": "action=%{x}<br>scenario=key_top<br>logit=%{y}<extra></extra>",
         "legendgroup": "done",
         "marker": {
          "color": "#FF6692",
          "pattern": {
           "shape": ""
          }
         },
         "name": "done",
         "offsetgroup": "done",
         "orientation": "v",
         "showlegend": true,
         "textposition": "auto",
         "type": "bar",
         "x": [
          "done"
         ],
         "xaxis": "x3",
         "y": [
          -1.2899750471115112
         ],
         "yaxis": "y3"
        },
        {
         "alignmentgroup": "True",
         "hovertemplate": "action=%{x}<br>scenario=key_bottom<br>logit=%{y}<extra></extra>",
         "legendgroup": "done",
         "marker": {
          "color": "#FF6692",
          "pattern": {
           "shape": ""
          }
         },
         "name": "done",
         "offsetgroup": "done",
         "orientation": "v",
         "showlegend": false,
         "textposition": "auto",
         "type": "bar",
         "x": [
          "done"
         ],
         "xaxis": "x4",
         "y": [
          -3.1900174617767334
         ],
         "yaxis": "y4"
        },
        {
         "alignmentgroup": "True",
         "hovertemplate": "action=%{x}<br>scenario=ball_top<br>logit=%{y}<extra></extra>",
         "legendgroup": "done",
         "marker": {
          "color": "#FF6692",
          "pattern": {
           "shape": ""
          }
         },
         "name": "done",
         "offsetgroup": "done",
         "orientation": "v",
         "showlegend": false,
         "textposition": "auto",
         "type": "bar",
         "x": [
          "done"
         ],
         "xaxis": "x",
         "y": [
          -1.3787691593170166
         ],
         "yaxis": "y"
        },
        {
         "alignmentgroup": "True",
         "hovertemplate": "action=%{x}<br>scenario=ball_bottom<br>logit=%{y}<extra></extra>",
         "legendgroup": "done",
         "marker": {
          "color": "#FF6692",
          "pattern": {
           "shape": ""
          }
         },
         "name": "done",
         "offsetgroup": "done",
         "orientation": "v",
         "showlegend": false,
         "textposition": "auto",
         "type": "bar",
         "x": [
          "done"
         ],
         "xaxis": "x2",
         "y": [
          -2.0274574756622314
         ],
         "yaxis": "y2"
        },
        {
         "alignmentgroup": "True",
         "hovertemplate": "action=%{x}<br>scenario=key_top<br>logit=%{y}<extra></extra>",
         "legendgroup": "right_minus_left",
         "marker": {
          "color": "#B6E880",
          "pattern": {
           "shape": ""
          }
         },
         "name": "right_minus_left",
         "offsetgroup": "right_minus_left",
         "orientation": "v",
         "showlegend": true,
         "textposition": "auto",
         "type": "bar",
         "x": [
          "right_minus_left"
         ],
         "xaxis": "x3",
         "y": [
          0.6641979217529297
         ],
         "yaxis": "y3"
        },
        {
         "alignmentgroup": "True",
         "hovertemplate": "action=%{x}<br>scenario=key_bottom<br>logit=%{y}<extra></extra>",
         "legendgroup": "right_minus_left",
         "marker": {
          "color": "#B6E880",
          "pattern": {
           "shape": ""
          }
         },
         "name": "right_minus_left",
         "offsetgroup": "right_minus_left",
         "orientation": "v",
         "showlegend": false,
         "textposition": "auto",
         "type": "bar",
         "x": [
          "right_minus_left"
         ],
         "xaxis": "x4",
         "y": [
          8.024579048156738
         ],
         "yaxis": "y4"
        },
        {
         "alignmentgroup": "True",
         "hovertemplate": "action=%{x}<br>scenario=ball_top<br>logit=%{y}<extra></extra>",
         "legendgroup": "right_minus_left",
         "marker": {
          "color": "#B6E880",
          "pattern": {
           "shape": ""
          }
         },
         "name": "right_minus_left",
         "offsetgroup": "right_minus_left",
         "orientation": "v",
         "showlegend": false,
         "textposition": "auto",
         "type": "bar",
         "x": [
          "right_minus_left"
         ],
         "xaxis": "x",
         "y": [
          -6.718493461608887
         ],
         "yaxis": "y"
        },
        {
         "alignmentgroup": "True",
         "hovertemplate": "action=%{x}<br>scenario=ball_bottom<br>logit=%{y}<extra></extra>",
         "legendgroup": "right_minus_left",
         "marker": {
          "color": "#B6E880",
          "pattern": {
           "shape": ""
          }
         },
         "name": "right_minus_left",
         "offsetgroup": "right_minus_left",
         "orientation": "v",
         "showlegend": false,
         "textposition": "auto",
         "type": "bar",
         "x": [
          "right_minus_left"
         ],
         "xaxis": "x2",
         "y": [
          8.35905647277832
         ],
         "yaxis": "y2"
        }
       ],
       "layout": {
        "annotations": [
         {
          "font": {},
          "showarrow": false,
          "text": "scenario=ball_top",
          "x": 0.245,
          "xanchor": "center",
          "xref": "paper",
          "y": 0.46499999999999997,
          "yanchor": "bottom",
          "yref": "paper"
         },
         {
          "font": {},
          "showarrow": false,
          "text": "scenario=ball_bottom",
          "x": 0.755,
          "xanchor": "center",
          "xref": "paper",
          "y": 0.46499999999999997,
          "yanchor": "bottom",
          "yref": "paper"
         },
         {
          "font": {},
          "showarrow": false,
          "text": "scenario=key_top",
          "x": 0.245,
          "xanchor": "center",
          "xref": "paper",
          "y": 0.9999999999999999,
          "yanchor": "bottom",
          "yref": "paper"
         },
         {
          "font": {},
          "showarrow": false,
          "text": "scenario=key_bottom",
          "x": 0.755,
          "xanchor": "center",
          "xref": "paper",
          "y": 0.9999999999999999,
          "yanchor": "bottom",
          "yref": "paper"
         }
        ],
        "barmode": "relative",
        "legend": {
         "title": {
          "text": "action"
         },
         "tracegroupgap": 0
        },
        "margin": {
         "t": 60
        },
        "template": {
         "data": {
          "bar": [
           {
            "error_x": {
             "color": "#f2f5fa"
            },
            "error_y": {
             "color": "#f2f5fa"
            },
            "marker": {
             "line": {
              "color": "rgb(17,17,17)",
              "width": 0.5
             },
             "pattern": {
              "fillmode": "overlay",
              "size": 10,
              "solidity": 0.2
             }
            },
            "type": "bar"
           }
          ],
          "barpolar": [
           {
            "marker": {
             "line": {
              "color": "rgb(17,17,17)",
              "width": 0.5
             },
             "pattern": {
              "fillmode": "overlay",
              "size": 10,
              "solidity": 0.2
             }
            },
            "type": "barpolar"
           }
          ],
          "carpet": [
           {
            "aaxis": {
             "endlinecolor": "#A2B1C6",
             "gridcolor": "#506784",
             "linecolor": "#506784",
             "minorgridcolor": "#506784",
             "startlinecolor": "#A2B1C6"
            },
            "baxis": {
             "endlinecolor": "#A2B1C6",
             "gridcolor": "#506784",
             "linecolor": "#506784",
             "minorgridcolor": "#506784",
             "startlinecolor": "#A2B1C6"
            },
            "type": "carpet"
           }
          ],
          "choropleth": [
           {
            "colorbar": {
             "outlinewidth": 0,
             "ticks": ""
            },
            "type": "choropleth"
           }
          ],
          "contour": [
           {
            "colorbar": {
             "outlinewidth": 0,
             "ticks": ""
            },
            "colorscale": [
             [
              0,
              "#0d0887"
             ],
             [
              0.1111111111111111,
              "#46039f"
             ],
             [
              0.2222222222222222,
              "#7201a8"
             ],
             [
              0.3333333333333333,
              "#9c179e"
             ],
             [
              0.4444444444444444,
              "#bd3786"
             ],
             [
              0.5555555555555556,
              "#d8576b"
             ],
             [
              0.6666666666666666,
              "#ed7953"
             ],
             [
              0.7777777777777778,
              "#fb9f3a"
             ],
             [
              0.8888888888888888,
              "#fdca26"
             ],
             [
              1,
              "#f0f921"
             ]
            ],
            "type": "contour"
           }
          ],
          "contourcarpet": [
           {
            "colorbar": {
             "outlinewidth": 0,
             "ticks": ""
            },
            "type": "contourcarpet"
           }
          ],
          "heatmap": [
           {
            "colorbar": {
             "outlinewidth": 0,
             "ticks": ""
            },
            "colorscale": [
             [
              0,
              "#0d0887"
             ],
             [
              0.1111111111111111,
              "#46039f"
             ],
             [
              0.2222222222222222,
              "#7201a8"
             ],
             [
              0.3333333333333333,
              "#9c179e"
             ],
             [
              0.4444444444444444,
              "#bd3786"
             ],
             [
              0.5555555555555556,
              "#d8576b"
             ],
             [
              0.6666666666666666,
              "#ed7953"
             ],
             [
              0.7777777777777778,
              "#fb9f3a"
             ],
             [
              0.8888888888888888,
              "#fdca26"
             ],
             [
              1,
              "#f0f921"
             ]
            ],
            "type": "heatmap"
           }
          ],
          "heatmapgl": [
           {
            "colorbar": {
             "outlinewidth": 0,
             "ticks": ""
            },
            "colorscale": [
             [
              0,
              "#0d0887"
             ],
             [
              0.1111111111111111,
              "#46039f"
             ],
             [
              0.2222222222222222,
              "#7201a8"
             ],
             [
              0.3333333333333333,
              "#9c179e"
             ],
             [
              0.4444444444444444,
              "#bd3786"
             ],
             [
              0.5555555555555556,
              "#d8576b"
             ],
             [
              0.6666666666666666,
              "#ed7953"
             ],
             [
              0.7777777777777778,
              "#fb9f3a"
             ],
             [
              0.8888888888888888,
              "#fdca26"
             ],
             [
              1,
              "#f0f921"
             ]
            ],
            "type": "heatmapgl"
           }
          ],
          "histogram": [
           {
            "marker": {
             "pattern": {
              "fillmode": "overlay",
              "size": 10,
              "solidity": 0.2
             }
            },
            "type": "histogram"
           }
          ],
          "histogram2d": [
           {
            "colorbar": {
             "outlinewidth": 0,
             "ticks": ""
            },
            "colorscale": [
             [
              0,
              "#0d0887"
             ],
             [
              0.1111111111111111,
              "#46039f"
             ],
             [
              0.2222222222222222,
              "#7201a8"
             ],
             [
              0.3333333333333333,
              "#9c179e"
             ],
             [
              0.4444444444444444,
              "#bd3786"
             ],
             [
              0.5555555555555556,
              "#d8576b"
             ],
             [
              0.6666666666666666,
              "#ed7953"
             ],
             [
              0.7777777777777778,
              "#fb9f3a"
             ],
             [
              0.8888888888888888,
              "#fdca26"
             ],
             [
              1,
              "#f0f921"
             ]
            ],
            "type": "histogram2d"
           }
          ],
          "histogram2dcontour": [
           {
            "colorbar": {
             "outlinewidth": 0,
             "ticks": ""
            },
            "colorscale": [
             [
              0,
              "#0d0887"
             ],
             [
              0.1111111111111111,
              "#46039f"
             ],
             [
              0.2222222222222222,
              "#7201a8"
             ],
             [
              0.3333333333333333,
              "#9c179e"
             ],
             [
              0.4444444444444444,
              "#bd3786"
             ],
             [
              0.5555555555555556,
              "#d8576b"
             ],
             [
              0.6666666666666666,
              "#ed7953"
             ],
             [
              0.7777777777777778,
              "#fb9f3a"
             ],
             [
              0.8888888888888888,
              "#fdca26"
             ],
             [
              1,
              "#f0f921"
             ]
            ],
            "type": "histogram2dcontour"
           }
          ],
          "mesh3d": [
           {
            "colorbar": {
             "outlinewidth": 0,
             "ticks": ""
            },
            "type": "mesh3d"
           }
          ],
          "parcoords": [
           {
            "line": {
             "colorbar": {
              "outlinewidth": 0,
              "ticks": ""
             }
            },
            "type": "parcoords"
           }
          ],
          "pie": [
           {
            "automargin": true,
            "type": "pie"
           }
          ],
          "scatter": [
           {
            "marker": {
             "line": {
              "color": "#283442"
             }
            },
            "type": "scatter"
           }
          ],
          "scatter3d": [
           {
            "line": {
             "colorbar": {
              "outlinewidth": 0,
              "ticks": ""
             }
            },
            "marker": {
             "colorbar": {
              "outlinewidth": 0,
              "ticks": ""
             }
            },
            "type": "scatter3d"
           }
          ],
          "scattercarpet": [
           {
            "marker": {
             "colorbar": {
              "outlinewidth": 0,
              "ticks": ""
             }
            },
            "type": "scattercarpet"
           }
          ],
          "scattergeo": [
           {
            "marker": {
             "colorbar": {
              "outlinewidth": 0,
              "ticks": ""
             }
            },
            "type": "scattergeo"
           }
          ],
          "scattergl": [
           {
            "marker": {
             "line": {
              "color": "#283442"
             }
            },
            "type": "scattergl"
           }
          ],
          "scattermapbox": [
           {
            "marker": {
             "colorbar": {
              "outlinewidth": 0,
              "ticks": ""
             }
            },
            "type": "scattermapbox"
           }
          ],
          "scatterpolar": [
           {
            "marker": {
             "colorbar": {
              "outlinewidth": 0,
              "ticks": ""
             }
            },
            "type": "scatterpolar"
           }
          ],
          "scatterpolargl": [
           {
            "marker": {
             "colorbar": {
              "outlinewidth": 0,
              "ticks": ""
             }
            },
            "type": "scatterpolargl"
           }
          ],
          "scatterternary": [
           {
            "marker": {
             "colorbar": {
              "outlinewidth": 0,
              "ticks": ""
             }
            },
            "type": "scatterternary"
           }
          ],
          "surface": [
           {
            "colorbar": {
             "outlinewidth": 0,
             "ticks": ""
            },
            "colorscale": [
             [
              0,
              "#0d0887"
             ],
             [
              0.1111111111111111,
              "#46039f"
             ],
             [
              0.2222222222222222,
              "#7201a8"
             ],
             [
              0.3333333333333333,
              "#9c179e"
             ],
             [
              0.4444444444444444,
              "#bd3786"
             ],
             [
              0.5555555555555556,
              "#d8576b"
             ],
             [
              0.6666666666666666,
              "#ed7953"
             ],
             [
              0.7777777777777778,
              "#fb9f3a"
             ],
             [
              0.8888888888888888,
              "#fdca26"
             ],
             [
              1,
              "#f0f921"
             ]
            ],
            "type": "surface"
           }
          ],
          "table": [
           {
            "cells": {
             "fill": {
              "color": "#506784"
             },
             "line": {
              "color": "rgb(17,17,17)"
             }
            },
            "header": {
             "fill": {
              "color": "#2a3f5f"
             },
             "line": {
              "color": "rgb(17,17,17)"
             }
            },
            "type": "table"
           }
          ]
         },
         "layout": {
          "annotationdefaults": {
           "arrowcolor": "#f2f5fa",
           "arrowhead": 0,
           "arrowwidth": 1
          },
          "autotypenumbers": "strict",
          "coloraxis": {
           "colorbar": {
            "outlinewidth": 0,
            "ticks": ""
           }
          },
          "colorscale": {
           "diverging": [
            [
             0,
             "#8e0152"
            ],
            [
             0.1,
             "#c51b7d"
            ],
            [
             0.2,
             "#de77ae"
            ],
            [
             0.3,
             "#f1b6da"
            ],
            [
             0.4,
             "#fde0ef"
            ],
            [
             0.5,
             "#f7f7f7"
            ],
            [
             0.6,
             "#e6f5d0"
            ],
            [
             0.7,
             "#b8e186"
            ],
            [
             0.8,
             "#7fbc41"
            ],
            [
             0.9,
             "#4d9221"
            ],
            [
             1,
             "#276419"
            ]
           ],
           "sequential": [
            [
             0,
             "#0d0887"
            ],
            [
             0.1111111111111111,
             "#46039f"
            ],
            [
             0.2222222222222222,
             "#7201a8"
            ],
            [
             0.3333333333333333,
             "#9c179e"
            ],
            [
             0.4444444444444444,
             "#bd3786"
            ],
            [
             0.5555555555555556,
             "#d8576b"
            ],
            [
             0.6666666666666666,
             "#ed7953"
            ],
            [
             0.7777777777777778,
             "#fb9f3a"
            ],
            [
             0.8888888888888888,
             "#fdca26"
            ],
            [
             1,
             "#f0f921"
            ]
           ],
           "sequentialminus": [
            [
             0,
             "#0d0887"
            ],
            [
             0.1111111111111111,
             "#46039f"
            ],
            [
             0.2222222222222222,
             "#7201a8"
            ],
            [
             0.3333333333333333,
             "#9c179e"
            ],
            [
             0.4444444444444444,
             "#bd3786"
            ],
            [
             0.5555555555555556,
             "#d8576b"
            ],
            [
             0.6666666666666666,
             "#ed7953"
            ],
            [
             0.7777777777777778,
             "#fb9f3a"
            ],
            [
             0.8888888888888888,
             "#fdca26"
            ],
            [
             1,
             "#f0f921"
            ]
           ]
          },
          "colorway": [
           "#636efa",
           "#EF553B",
           "#00cc96",
           "#ab63fa",
           "#FFA15A",
           "#19d3f3",
           "#FF6692",
           "#B6E880",
           "#FF97FF",
           "#FECB52"
          ],
          "font": {
           "color": "#f2f5fa"
          },
          "geo": {
           "bgcolor": "rgb(17,17,17)",
           "lakecolor": "rgb(17,17,17)",
           "landcolor": "rgb(17,17,17)",
           "showlakes": true,
           "showland": true,
           "subunitcolor": "#506784"
          },
          "hoverlabel": {
           "align": "left"
          },
          "hovermode": "closest",
          "mapbox": {
           "style": "dark"
          },
          "paper_bgcolor": "rgb(17,17,17)",
          "plot_bgcolor": "rgb(17,17,17)",
          "polar": {
           "angularaxis": {
            "gridcolor": "#506784",
            "linecolor": "#506784",
            "ticks": ""
           },
           "bgcolor": "rgb(17,17,17)",
           "radialaxis": {
            "gridcolor": "#506784",
            "linecolor": "#506784",
            "ticks": ""
           }
          },
          "scene": {
           "xaxis": {
            "backgroundcolor": "rgb(17,17,17)",
            "gridcolor": "#506784",
            "gridwidth": 2,
            "linecolor": "#506784",
            "showbackground": true,
            "ticks": "",
            "zerolinecolor": "#C8D4E3"
           },
           "yaxis": {
            "backgroundcolor": "rgb(17,17,17)",
            "gridcolor": "#506784",
            "gridwidth": 2,
            "linecolor": "#506784",
            "showbackground": true,
            "ticks": "",
            "zerolinecolor": "#C8D4E3"
           },
           "zaxis": {
            "backgroundcolor": "rgb(17,17,17)",
            "gridcolor": "#506784",
            "gridwidth": 2,
            "linecolor": "#506784",
            "showbackground": true,
            "ticks": "",
            "zerolinecolor": "#C8D4E3"
           }
          },
          "shapedefaults": {
           "line": {
            "color": "#f2f5fa"
           }
          },
          "sliderdefaults": {
           "bgcolor": "#C8D4E3",
           "bordercolor": "rgb(17,17,17)",
           "borderwidth": 1,
           "tickwidth": 0
          },
          "ternary": {
           "aaxis": {
            "gridcolor": "#506784",
            "linecolor": "#506784",
            "ticks": ""
           },
           "baxis": {
            "gridcolor": "#506784",
            "linecolor": "#506784",
            "ticks": ""
           },
           "bgcolor": "rgb(17,17,17)",
           "caxis": {
            "gridcolor": "#506784",
            "linecolor": "#506784",
            "ticks": ""
           }
          },
          "title": {
           "x": 0.05
          },
          "updatemenudefaults": {
           "bgcolor": "#506784",
           "borderwidth": 0
          },
          "xaxis": {
           "automargin": true,
           "gridcolor": "#283442",
           "linecolor": "#506784",
           "ticks": "",
           "title": {
            "standoff": 15
           },
           "zerolinecolor": "#283442",
           "zerolinewidth": 2
          },
          "yaxis": {
           "automargin": true,
           "gridcolor": "#283442",
           "linecolor": "#506784",
           "ticks": "",
           "title": {
            "standoff": 15
           },
           "zerolinecolor": "#283442",
           "zerolinewidth": 2
          }
         }
        },
        "xaxis": {
         "anchor": "y",
         "categoryarray": [
          "left",
          "right",
          "forward",
          "pickup",
          "drop",
          "toggle",
          "done",
          "right_minus_left"
         ],
         "categoryorder": "array",
         "domain": [
          0,
          0.49
         ],
         "title": {
          "text": "action"
         }
        },
        "xaxis2": {
         "anchor": "y2",
         "categoryarray": [
          "left",
          "right",
          "forward",
          "pickup",
          "drop",
          "toggle",
          "done",
          "right_minus_left"
         ],
         "categoryorder": "array",
         "domain": [
          0.51,
          1
         ],
         "matches": "x",
         "title": {
          "text": "action"
         }
        },
        "xaxis3": {
         "anchor": "y3",
         "domain": [
          0,
          0.49
         ],
         "matches": "x",
         "showticklabels": false
        },
        "xaxis4": {
         "anchor": "y4",
         "domain": [
          0.51,
          1
         ],
         "matches": "x",
         "showticklabels": false
        },
        "yaxis": {
         "anchor": "x",
         "domain": [
          0,
          0.46499999999999997
         ],
         "title": {
          "text": "logit"
         }
        },
        "yaxis2": {
         "anchor": "x2",
         "domain": [
          0,
          0.46499999999999997
         ],
         "matches": "y",
         "showticklabels": false
        },
        "yaxis3": {
         "anchor": "x3",
         "domain": [
          0.5349999999999999,
          0.9999999999999999
         ],
         "matches": "y",
         "title": {
          "text": "logit"
         }
        },
        "yaxis4": {
         "anchor": "x4",
         "domain": [
          0.5349999999999999,
          0.9999999999999999
         ],
         "matches": "y",
         "showticklabels": false
        }
       }
      }
     },
     "metadata": {},
     "output_type": "display_data"
    }
   ],
   "source": [
    "adversarial_predictions = preds_to_df(action_preds, all_scenarios)\n",
    "\n",
    "px.bar(adversarial_predictions,\n",
    "       x = 'action',\n",
    "       y='logit',\n",
    "       color = 'action', \n",
    "       facet_col='scenario',\n",
    "        facet_col_wrap=2,\n",
    "       template='plotly_dark').show()"
   ]
  },
  {
   "cell_type": "code",
   "execution_count": 33,
   "metadata": {},
   "outputs": [
    {
     "data": {
      "application/vnd.plotly.v1+json": {
       "config": {
        "plotlyServerURL": "https://plotly.com"
       },
       "data": [
        {
         "alignmentgroup": "True",
         "hovertemplate": "has_adversary=False<br>scenario=key_top<br>action=%{x}<br>logit=%{y}<extra></extra>",
         "legendgroup": "False",
         "marker": {
          "color": "#636efa",
          "pattern": {
           "shape": ""
          }
         },
         "name": "False",
         "offsetgroup": "False",
         "orientation": "v",
         "showlegend": true,
         "textposition": "auto",
         "type": "bar",
         "x": [
          "left",
          "right",
          "forward",
          "pickup",
          "drop",
          "toggle",
          "done",
          "right_minus_left"
         ],
         "xaxis": "x3",
         "y": [
          4.898122310638428,
          5.562320232391357,
          -2.648364543914795,
          -1.858364462852478,
          -2.082263708114624,
          -2.183190107345581,
          -1.2899750471115112,
          0.6641979217529297
         ],
         "yaxis": "y3"
        },
        {
         "alignmentgroup": "True",
         "hovertemplate": "has_adversary=False<br>scenario=key_bottom<br>action=%{x}<br>logit=%{y}<extra></extra>",
         "legendgroup": "False",
         "marker": {
          "color": "#636efa",
          "pattern": {
           "shape": ""
          }
         },
         "name": "False",
         "offsetgroup": "False",
         "orientation": "v",
         "showlegend": false,
         "textposition": "auto",
         "type": "bar",
         "x": [
          "left",
          "right",
          "forward",
          "pickup",
          "drop",
          "toggle",
          "done",
          "right_minus_left"
         ],
         "xaxis": "x4",
         "y": [
          0.5147724747657776,
          8.539351463317871,
          -0.6895761489868164,
          -1.550932765007019,
          -1.8842970132827759,
          -2.0302650928497314,
          -3.1900174617767334,
          8.024579048156738
         ],
         "yaxis": "y4"
        },
        {
         "alignmentgroup": "True",
         "hovertemplate": "has_adversary=False<br>scenario=ball_top<br>action=%{x}<br>logit=%{y}<extra></extra>",
         "legendgroup": "False",
         "marker": {
          "color": "#636efa",
          "pattern": {
           "shape": ""
          }
         },
         "name": "False",
         "offsetgroup": "False",
         "orientation": "v",
         "showlegend": false,
         "textposition": "auto",
         "type": "bar",
         "x": [
          "left",
          "right",
          "forward",
          "pickup",
          "drop",
          "toggle",
          "done",
          "right_minus_left"
         ],
         "xaxis": "x",
         "y": [
          7.6172637939453125,
          0.8987704515457153,
          -2.5744214057922363,
          -1.33914315700531,
          -1.3597652912139893,
          -1.8599131107330322,
          -1.3787691593170166,
          -6.718493461608887
         ],
         "yaxis": "y"
        },
        {
         "alignmentgroup": "True",
         "hovertemplate": "has_adversary=False<br>scenario=ball_bottom<br>action=%{x}<br>logit=%{y}<extra></extra>",
         "legendgroup": "False",
         "marker": {
          "color": "#636efa",
          "pattern": {
           "shape": ""
          }
         },
         "name": "False",
         "offsetgroup": "False",
         "orientation": "v",
         "showlegend": false,
         "textposition": "auto",
         "type": "bar",
         "x": [
          "left",
          "right",
          "forward",
          "pickup",
          "drop",
          "toggle",
          "done",
          "right_minus_left"
         ],
         "xaxis": "x2",
         "y": [
          -0.3229745030403137,
          8.03608226776123,
          -0.8560268878936768,
          -2.391603469848633,
          -1.6153744459152222,
          -1.8081332445144653,
          -2.0274574756622314,
          8.35905647277832
         ],
         "yaxis": "y2"
        },
        {
         "alignmentgroup": "True",
         "hovertemplate": "has_adversary=True<br>scenario=key_top<br>action=%{x}<br>logit=%{y}<extra></extra>",
         "legendgroup": "True",
         "marker": {
          "color": "#EF553B",
          "pattern": {
           "shape": ""
          }
         },
         "name": "True",
         "offsetgroup": "True",
         "orientation": "v",
         "showlegend": true,
         "textposition": "auto",
         "type": "bar",
         "x": [
          "left",
          "right",
          "forward",
          "pickup",
          "drop",
          "toggle",
          "done",
          "right_minus_left"
         ],
         "xaxis": "x3",
         "y": [
          4.898122310638428,
          5.562320232391357,
          -2.648364543914795,
          -1.858364462852478,
          -2.082263708114624,
          -2.183190107345581,
          -1.2899750471115112,
          0.6641979217529297
         ],
         "yaxis": "y3"
        },
        {
         "alignmentgroup": "True",
         "hovertemplate": "has_adversary=True<br>scenario=key_bottom<br>action=%{x}<br>logit=%{y}<extra></extra>",
         "legendgroup": "True",
         "marker": {
          "color": "#EF553B",
          "pattern": {
           "shape": ""
          }
         },
         "name": "True",
         "offsetgroup": "True",
         "orientation": "v",
         "showlegend": false,
         "textposition": "auto",
         "type": "bar",
         "x": [
          "left",
          "right",
          "forward",
          "pickup",
          "drop",
          "toggle",
          "done",
          "right_minus_left"
         ],
         "xaxis": "x4",
         "y": [
          0.5147724747657776,
          8.539351463317871,
          -0.6895761489868164,
          -1.550932765007019,
          -1.8842970132827759,
          -2.0302650928497314,
          -3.1900174617767334,
          8.024579048156738
         ],
         "yaxis": "y4"
        },
        {
         "alignmentgroup": "True",
         "hovertemplate": "has_adversary=True<br>scenario=ball_top<br>action=%{x}<br>logit=%{y}<extra></extra>",
         "legendgroup": "True",
         "marker": {
          "color": "#EF553B",
          "pattern": {
           "shape": ""
          }
         },
         "name": "True",
         "offsetgroup": "True",
         "orientation": "v",
         "showlegend": false,
         "textposition": "auto",
         "type": "bar",
         "x": [
          "left",
          "right",
          "forward",
          "pickup",
          "drop",
          "toggle",
          "done",
          "right_minus_left"
         ],
         "xaxis": "x",
         "y": [
          7.6172637939453125,
          0.8987704515457153,
          -2.5744214057922363,
          -1.33914315700531,
          -1.3597652912139893,
          -1.8599131107330322,
          -1.3787691593170166,
          -6.718493461608887
         ],
         "yaxis": "y"
        },
        {
         "alignmentgroup": "True",
         "hovertemplate": "has_adversary=True<br>scenario=ball_bottom<br>action=%{x}<br>logit=%{y}<extra></extra>",
         "legendgroup": "True",
         "marker": {
          "color": "#EF553B",
          "pattern": {
           "shape": ""
          }
         },
         "name": "True",
         "offsetgroup": "True",
         "orientation": "v",
         "showlegend": false,
         "textposition": "auto",
         "type": "bar",
         "x": [
          "left",
          "right",
          "forward",
          "pickup",
          "drop",
          "toggle",
          "done",
          "right_minus_left"
         ],
         "xaxis": "x2",
         "y": [
          -0.3229745030403137,
          8.03608226776123,
          -0.8560268878936768,
          -2.391603469848633,
          -1.6153744459152222,
          -1.8081332445144653,
          -2.0274574756622314,
          8.35905647277832
         ],
         "yaxis": "y2"
        }
       ],
       "layout": {
        "annotations": [
         {
          "font": {},
          "showarrow": false,
          "text": "scenario=ball_top",
          "x": 0.245,
          "xanchor": "center",
          "xref": "paper",
          "y": 0.46499999999999997,
          "yanchor": "bottom",
          "yref": "paper"
         },
         {
          "font": {},
          "showarrow": false,
          "text": "scenario=ball_bottom",
          "x": 0.755,
          "xanchor": "center",
          "xref": "paper",
          "y": 0.46499999999999997,
          "yanchor": "bottom",
          "yref": "paper"
         },
         {
          "font": {},
          "showarrow": false,
          "text": "scenario=key_top",
          "x": 0.245,
          "xanchor": "center",
          "xref": "paper",
          "y": 0.9999999999999999,
          "yanchor": "bottom",
          "yref": "paper"
         },
         {
          "font": {},
          "showarrow": false,
          "text": "scenario=key_bottom",
          "x": 0.755,
          "xanchor": "center",
          "xref": "paper",
          "y": 0.9999999999999999,
          "yanchor": "bottom",
          "yref": "paper"
         }
        ],
        "barmode": "group",
        "legend": {
         "title": {
          "text": "has_adversary"
         },
         "tracegroupgap": 0
        },
        "margin": {
         "t": 60
        },
        "template": {
         "data": {
          "bar": [
           {
            "error_x": {
             "color": "#f2f5fa"
            },
            "error_y": {
             "color": "#f2f5fa"
            },
            "marker": {
             "line": {
              "color": "rgb(17,17,17)",
              "width": 0.5
             },
             "pattern": {
              "fillmode": "overlay",
              "size": 10,
              "solidity": 0.2
             }
            },
            "type": "bar"
           }
          ],
          "barpolar": [
           {
            "marker": {
             "line": {
              "color": "rgb(17,17,17)",
              "width": 0.5
             },
             "pattern": {
              "fillmode": "overlay",
              "size": 10,
              "solidity": 0.2
             }
            },
            "type": "barpolar"
           }
          ],
          "carpet": [
           {
            "aaxis": {
             "endlinecolor": "#A2B1C6",
             "gridcolor": "#506784",
             "linecolor": "#506784",
             "minorgridcolor": "#506784",
             "startlinecolor": "#A2B1C6"
            },
            "baxis": {
             "endlinecolor": "#A2B1C6",
             "gridcolor": "#506784",
             "linecolor": "#506784",
             "minorgridcolor": "#506784",
             "startlinecolor": "#A2B1C6"
            },
            "type": "carpet"
           }
          ],
          "choropleth": [
           {
            "colorbar": {
             "outlinewidth": 0,
             "ticks": ""
            },
            "type": "choropleth"
           }
          ],
          "contour": [
           {
            "colorbar": {
             "outlinewidth": 0,
             "ticks": ""
            },
            "colorscale": [
             [
              0,
              "#0d0887"
             ],
             [
              0.1111111111111111,
              "#46039f"
             ],
             [
              0.2222222222222222,
              "#7201a8"
             ],
             [
              0.3333333333333333,
              "#9c179e"
             ],
             [
              0.4444444444444444,
              "#bd3786"
             ],
             [
              0.5555555555555556,
              "#d8576b"
             ],
             [
              0.6666666666666666,
              "#ed7953"
             ],
             [
              0.7777777777777778,
              "#fb9f3a"
             ],
             [
              0.8888888888888888,
              "#fdca26"
             ],
             [
              1,
              "#f0f921"
             ]
            ],
            "type": "contour"
           }
          ],
          "contourcarpet": [
           {
            "colorbar": {
             "outlinewidth": 0,
             "ticks": ""
            },
            "type": "contourcarpet"
           }
          ],
          "heatmap": [
           {
            "colorbar": {
             "outlinewidth": 0,
             "ticks": ""
            },
            "colorscale": [
             [
              0,
              "#0d0887"
             ],
             [
              0.1111111111111111,
              "#46039f"
             ],
             [
              0.2222222222222222,
              "#7201a8"
             ],
             [
              0.3333333333333333,
              "#9c179e"
             ],
             [
              0.4444444444444444,
              "#bd3786"
             ],
             [
              0.5555555555555556,
              "#d8576b"
             ],
             [
              0.6666666666666666,
              "#ed7953"
             ],
             [
              0.7777777777777778,
              "#fb9f3a"
             ],
             [
              0.8888888888888888,
              "#fdca26"
             ],
             [
              1,
              "#f0f921"
             ]
            ],
            "type": "heatmap"
           }
          ],
          "heatmapgl": [
           {
            "colorbar": {
             "outlinewidth": 0,
             "ticks": ""
            },
            "colorscale": [
             [
              0,
              "#0d0887"
             ],
             [
              0.1111111111111111,
              "#46039f"
             ],
             [
              0.2222222222222222,
              "#7201a8"
             ],
             [
              0.3333333333333333,
              "#9c179e"
             ],
             [
              0.4444444444444444,
              "#bd3786"
             ],
             [
              0.5555555555555556,
              "#d8576b"
             ],
             [
              0.6666666666666666,
              "#ed7953"
             ],
             [
              0.7777777777777778,
              "#fb9f3a"
             ],
             [
              0.8888888888888888,
              "#fdca26"
             ],
             [
              1,
              "#f0f921"
             ]
            ],
            "type": "heatmapgl"
           }
          ],
          "histogram": [
           {
            "marker": {
             "pattern": {
              "fillmode": "overlay",
              "size": 10,
              "solidity": 0.2
             }
            },
            "type": "histogram"
           }
          ],
          "histogram2d": [
           {
            "colorbar": {
             "outlinewidth": 0,
             "ticks": ""
            },
            "colorscale": [
             [
              0,
              "#0d0887"
             ],
             [
              0.1111111111111111,
              "#46039f"
             ],
             [
              0.2222222222222222,
              "#7201a8"
             ],
             [
              0.3333333333333333,
              "#9c179e"
             ],
             [
              0.4444444444444444,
              "#bd3786"
             ],
             [
              0.5555555555555556,
              "#d8576b"
             ],
             [
              0.6666666666666666,
              "#ed7953"
             ],
             [
              0.7777777777777778,
              "#fb9f3a"
             ],
             [
              0.8888888888888888,
              "#fdca26"
             ],
             [
              1,
              "#f0f921"
             ]
            ],
            "type": "histogram2d"
           }
          ],
          "histogram2dcontour": [
           {
            "colorbar": {
             "outlinewidth": 0,
             "ticks": ""
            },
            "colorscale": [
             [
              0,
              "#0d0887"
             ],
             [
              0.1111111111111111,
              "#46039f"
             ],
             [
              0.2222222222222222,
              "#7201a8"
             ],
             [
              0.3333333333333333,
              "#9c179e"
             ],
             [
              0.4444444444444444,
              "#bd3786"
             ],
             [
              0.5555555555555556,
              "#d8576b"
             ],
             [
              0.6666666666666666,
              "#ed7953"
             ],
             [
              0.7777777777777778,
              "#fb9f3a"
             ],
             [
              0.8888888888888888,
              "#fdca26"
             ],
             [
              1,
              "#f0f921"
             ]
            ],
            "type": "histogram2dcontour"
           }
          ],
          "mesh3d": [
           {
            "colorbar": {
             "outlinewidth": 0,
             "ticks": ""
            },
            "type": "mesh3d"
           }
          ],
          "parcoords": [
           {
            "line": {
             "colorbar": {
              "outlinewidth": 0,
              "ticks": ""
             }
            },
            "type": "parcoords"
           }
          ],
          "pie": [
           {
            "automargin": true,
            "type": "pie"
           }
          ],
          "scatter": [
           {
            "marker": {
             "line": {
              "color": "#283442"
             }
            },
            "type": "scatter"
           }
          ],
          "scatter3d": [
           {
            "line": {
             "colorbar": {
              "outlinewidth": 0,
              "ticks": ""
             }
            },
            "marker": {
             "colorbar": {
              "outlinewidth": 0,
              "ticks": ""
             }
            },
            "type": "scatter3d"
           }
          ],
          "scattercarpet": [
           {
            "marker": {
             "colorbar": {
              "outlinewidth": 0,
              "ticks": ""
             }
            },
            "type": "scattercarpet"
           }
          ],
          "scattergeo": [
           {
            "marker": {
             "colorbar": {
              "outlinewidth": 0,
              "ticks": ""
             }
            },
            "type": "scattergeo"
           }
          ],
          "scattergl": [
           {
            "marker": {
             "line": {
              "color": "#283442"
             }
            },
            "type": "scattergl"
           }
          ],
          "scattermapbox": [
           {
            "marker": {
             "colorbar": {
              "outlinewidth": 0,
              "ticks": ""
             }
            },
            "type": "scattermapbox"
           }
          ],
          "scatterpolar": [
           {
            "marker": {
             "colorbar": {
              "outlinewidth": 0,
              "ticks": ""
             }
            },
            "type": "scatterpolar"
           }
          ],
          "scatterpolargl": [
           {
            "marker": {
             "colorbar": {
              "outlinewidth": 0,
              "ticks": ""
             }
            },
            "type": "scatterpolargl"
           }
          ],
          "scatterternary": [
           {
            "marker": {
             "colorbar": {
              "outlinewidth": 0,
              "ticks": ""
             }
            },
            "type": "scatterternary"
           }
          ],
          "surface": [
           {
            "colorbar": {
             "outlinewidth": 0,
             "ticks": ""
            },
            "colorscale": [
             [
              0,
              "#0d0887"
             ],
             [
              0.1111111111111111,
              "#46039f"
             ],
             [
              0.2222222222222222,
              "#7201a8"
             ],
             [
              0.3333333333333333,
              "#9c179e"
             ],
             [
              0.4444444444444444,
              "#bd3786"
             ],
             [
              0.5555555555555556,
              "#d8576b"
             ],
             [
              0.6666666666666666,
              "#ed7953"
             ],
             [
              0.7777777777777778,
              "#fb9f3a"
             ],
             [
              0.8888888888888888,
              "#fdca26"
             ],
             [
              1,
              "#f0f921"
             ]
            ],
            "type": "surface"
           }
          ],
          "table": [
           {
            "cells": {
             "fill": {
              "color": "#506784"
             },
             "line": {
              "color": "rgb(17,17,17)"
             }
            },
            "header": {
             "fill": {
              "color": "#2a3f5f"
             },
             "line": {
              "color": "rgb(17,17,17)"
             }
            },
            "type": "table"
           }
          ]
         },
         "layout": {
          "annotationdefaults": {
           "arrowcolor": "#f2f5fa",
           "arrowhead": 0,
           "arrowwidth": 1
          },
          "autotypenumbers": "strict",
          "coloraxis": {
           "colorbar": {
            "outlinewidth": 0,
            "ticks": ""
           }
          },
          "colorscale": {
           "diverging": [
            [
             0,
             "#8e0152"
            ],
            [
             0.1,
             "#c51b7d"
            ],
            [
             0.2,
             "#de77ae"
            ],
            [
             0.3,
             "#f1b6da"
            ],
            [
             0.4,
             "#fde0ef"
            ],
            [
             0.5,
             "#f7f7f7"
            ],
            [
             0.6,
             "#e6f5d0"
            ],
            [
             0.7,
             "#b8e186"
            ],
            [
             0.8,
             "#7fbc41"
            ],
            [
             0.9,
             "#4d9221"
            ],
            [
             1,
             "#276419"
            ]
           ],
           "sequential": [
            [
             0,
             "#0d0887"
            ],
            [
             0.1111111111111111,
             "#46039f"
            ],
            [
             0.2222222222222222,
             "#7201a8"
            ],
            [
             0.3333333333333333,
             "#9c179e"
            ],
            [
             0.4444444444444444,
             "#bd3786"
            ],
            [
             0.5555555555555556,
             "#d8576b"
            ],
            [
             0.6666666666666666,
             "#ed7953"
            ],
            [
             0.7777777777777778,
             "#fb9f3a"
            ],
            [
             0.8888888888888888,
             "#fdca26"
            ],
            [
             1,
             "#f0f921"
            ]
           ],
           "sequentialminus": [
            [
             0,
             "#0d0887"
            ],
            [
             0.1111111111111111,
             "#46039f"
            ],
            [
             0.2222222222222222,
             "#7201a8"
            ],
            [
             0.3333333333333333,
             "#9c179e"
            ],
            [
             0.4444444444444444,
             "#bd3786"
            ],
            [
             0.5555555555555556,
             "#d8576b"
            ],
            [
             0.6666666666666666,
             "#ed7953"
            ],
            [
             0.7777777777777778,
             "#fb9f3a"
            ],
            [
             0.8888888888888888,
             "#fdca26"
            ],
            [
             1,
             "#f0f921"
            ]
           ]
          },
          "colorway": [
           "#636efa",
           "#EF553B",
           "#00cc96",
           "#ab63fa",
           "#FFA15A",
           "#19d3f3",
           "#FF6692",
           "#B6E880",
           "#FF97FF",
           "#FECB52"
          ],
          "font": {
           "color": "#f2f5fa"
          },
          "geo": {
           "bgcolor": "rgb(17,17,17)",
           "lakecolor": "rgb(17,17,17)",
           "landcolor": "rgb(17,17,17)",
           "showlakes": true,
           "showland": true,
           "subunitcolor": "#506784"
          },
          "hoverlabel": {
           "align": "left"
          },
          "hovermode": "closest",
          "mapbox": {
           "style": "dark"
          },
          "paper_bgcolor": "rgb(17,17,17)",
          "plot_bgcolor": "rgb(17,17,17)",
          "polar": {
           "angularaxis": {
            "gridcolor": "#506784",
            "linecolor": "#506784",
            "ticks": ""
           },
           "bgcolor": "rgb(17,17,17)",
           "radialaxis": {
            "gridcolor": "#506784",
            "linecolor": "#506784",
            "ticks": ""
           }
          },
          "scene": {
           "xaxis": {
            "backgroundcolor": "rgb(17,17,17)",
            "gridcolor": "#506784",
            "gridwidth": 2,
            "linecolor": "#506784",
            "showbackground": true,
            "ticks": "",
            "zerolinecolor": "#C8D4E3"
           },
           "yaxis": {
            "backgroundcolor": "rgb(17,17,17)",
            "gridcolor": "#506784",
            "gridwidth": 2,
            "linecolor": "#506784",
            "showbackground": true,
            "ticks": "",
            "zerolinecolor": "#C8D4E3"
           },
           "zaxis": {
            "backgroundcolor": "rgb(17,17,17)",
            "gridcolor": "#506784",
            "gridwidth": 2,
            "linecolor": "#506784",
            "showbackground": true,
            "ticks": "",
            "zerolinecolor": "#C8D4E3"
           }
          },
          "shapedefaults": {
           "line": {
            "color": "#f2f5fa"
           }
          },
          "sliderdefaults": {
           "bgcolor": "#C8D4E3",
           "bordercolor": "rgb(17,17,17)",
           "borderwidth": 1,
           "tickwidth": 0
          },
          "ternary": {
           "aaxis": {
            "gridcolor": "#506784",
            "linecolor": "#506784",
            "ticks": ""
           },
           "baxis": {
            "gridcolor": "#506784",
            "linecolor": "#506784",
            "ticks": ""
           },
           "bgcolor": "rgb(17,17,17)",
           "caxis": {
            "gridcolor": "#506784",
            "linecolor": "#506784",
            "ticks": ""
           }
          },
          "title": {
           "x": 0.05
          },
          "updatemenudefaults": {
           "bgcolor": "#506784",
           "borderwidth": 0
          },
          "xaxis": {
           "automargin": true,
           "gridcolor": "#283442",
           "linecolor": "#506784",
           "ticks": "",
           "title": {
            "standoff": 15
           },
           "zerolinecolor": "#283442",
           "zerolinewidth": 2
          },
          "yaxis": {
           "automargin": true,
           "gridcolor": "#283442",
           "linecolor": "#506784",
           "ticks": "",
           "title": {
            "standoff": 15
           },
           "zerolinecolor": "#283442",
           "zerolinewidth": 2
          }
         }
        },
        "xaxis": {
         "anchor": "y",
         "domain": [
          0,
          0.49
         ],
         "title": {
          "text": "action"
         }
        },
        "xaxis2": {
         "anchor": "y2",
         "domain": [
          0.51,
          1
         ],
         "matches": "x",
         "title": {
          "text": "action"
         }
        },
        "xaxis3": {
         "anchor": "y3",
         "domain": [
          0,
          0.49
         ],
         "matches": "x",
         "showticklabels": false
        },
        "xaxis4": {
         "anchor": "y4",
         "domain": [
          0.51,
          1
         ],
         "matches": "x",
         "showticklabels": false
        },
        "yaxis": {
         "anchor": "x",
         "domain": [
          0,
          0.46499999999999997
         ],
         "title": {
          "text": "logit"
         }
        },
        "yaxis2": {
         "anchor": "x2",
         "domain": [
          0,
          0.46499999999999997
         ],
         "matches": "y",
         "showticklabels": false
        },
        "yaxis3": {
         "anchor": "x3",
         "domain": [
          0.5349999999999999,
          0.9999999999999999
         ],
         "matches": "y",
         "title": {
          "text": "logit"
         }
        },
        "yaxis4": {
         "anchor": "x4",
         "domain": [
          0.5349999999999999,
          0.9999999999999999
         ],
         "matches": "y",
         "showticklabels": false
        }
       }
      }
     },
     "metadata": {},
     "output_type": "display_data"
    }
   ],
   "source": [
    "standard_predictions['has_adversary'] = False\n",
    "adversarial_predictions['has_adversary'] = True\n",
    "\n",
    "all_predictions = pd.concat([standard_predictions, adversarial_predictions])\n",
    "\n",
    "px.bar(all_predictions,\n",
    "       color ='has_adversary',\n",
    "       y='logit',\n",
    "       x = 'action', \n",
    "       facet_col='scenario',\n",
    "        facet_col_wrap=2,\n",
    "        # place bars next to each other\n",
    "        barmode='group',\n",
    "       template='plotly_dark').show()"
   ]
  },
  {
   "cell_type": "markdown",
   "metadata": {},
   "source": [
    "To do:\n",
    "\n",
    "1. Consider better ways of plotting these results. What we want is something that will highlight:\n",
    "    - The decision preference flips (most of the time) (as tracked by right - left)\n",
    "    - We might need to make this \"logit on correct action\" as this will show it more clearly. \n",
    "    - 0.892 is much weaker"
   ]
  },
  {
   "cell_type": "code",
   "execution_count": 34,
   "metadata": {},
   "outputs": [
    {
     "data": {
      "application/vnd.plotly.v1+json": {
       "config": {
        "plotlyServerURL": "https://plotly.com"
       },
       "data": [
        {
         "alignmentgroup": "True",
         "hovertemplate": "scenario=%{x}<br>abs_difference=%{y}<extra></extra>",
         "legendgroup": "key_top",
         "marker": {
          "color": "#636efa",
          "pattern": {
           "shape": ""
          }
         },
         "name": "key_top",
         "offsetgroup": "key_top",
         "orientation": "v",
         "showlegend": true,
         "textposition": "auto",
         "type": "bar",
         "x": [
          "key_top"
         ],
         "xaxis": "x",
         "y": [
          0
         ],
         "yaxis": "y"
        },
        {
         "alignmentgroup": "True",
         "hovertemplate": "scenario=%{x}<br>abs_difference=%{y}<extra></extra>",
         "legendgroup": "key_bottom",
         "marker": {
          "color": "#EF553B",
          "pattern": {
           "shape": ""
          }
         },
         "name": "key_bottom",
         "offsetgroup": "key_bottom",
         "orientation": "v",
         "showlegend": true,
         "textposition": "auto",
         "type": "bar",
         "x": [
          "key_bottom"
         ],
         "xaxis": "x",
         "y": [
          0
         ],
         "yaxis": "y"
        },
        {
         "alignmentgroup": "True",
         "hovertemplate": "scenario=%{x}<br>abs_difference=%{y}<extra></extra>",
         "legendgroup": "ball_top",
         "marker": {
          "color": "#00cc96",
          "pattern": {
           "shape": ""
          }
         },
         "name": "ball_top",
         "offsetgroup": "ball_top",
         "orientation": "v",
         "showlegend": true,
         "textposition": "auto",
         "type": "bar",
         "x": [
          "ball_top"
         ],
         "xaxis": "x",
         "y": [
          0
         ],
         "yaxis": "y"
        },
        {
         "alignmentgroup": "True",
         "hovertemplate": "scenario=%{x}<br>abs_difference=%{y}<extra></extra>",
         "legendgroup": "ball_bottom",
         "marker": {
          "color": "#ab63fa",
          "pattern": {
           "shape": ""
          }
         },
         "name": "ball_bottom",
         "offsetgroup": "ball_bottom",
         "orientation": "v",
         "showlegend": true,
         "textposition": "auto",
         "type": "bar",
         "x": [
          "ball_bottom"
         ],
         "xaxis": "x",
         "y": [
          0
         ],
         "yaxis": "y"
        }
       ],
       "layout": {
        "barmode": "relative",
        "legend": {
         "title": {
          "text": "scenario"
         },
         "tracegroupgap": 0
        },
        "margin": {
         "t": 60
        },
        "template": {
         "data": {
          "bar": [
           {
            "error_x": {
             "color": "#f2f5fa"
            },
            "error_y": {
             "color": "#f2f5fa"
            },
            "marker": {
             "line": {
              "color": "rgb(17,17,17)",
              "width": 0.5
             },
             "pattern": {
              "fillmode": "overlay",
              "size": 10,
              "solidity": 0.2
             }
            },
            "type": "bar"
           }
          ],
          "barpolar": [
           {
            "marker": {
             "line": {
              "color": "rgb(17,17,17)",
              "width": 0.5
             },
             "pattern": {
              "fillmode": "overlay",
              "size": 10,
              "solidity": 0.2
             }
            },
            "type": "barpolar"
           }
          ],
          "carpet": [
           {
            "aaxis": {
             "endlinecolor": "#A2B1C6",
             "gridcolor": "#506784",
             "linecolor": "#506784",
             "minorgridcolor": "#506784",
             "startlinecolor": "#A2B1C6"
            },
            "baxis": {
             "endlinecolor": "#A2B1C6",
             "gridcolor": "#506784",
             "linecolor": "#506784",
             "minorgridcolor": "#506784",
             "startlinecolor": "#A2B1C6"
            },
            "type": "carpet"
           }
          ],
          "choropleth": [
           {
            "colorbar": {
             "outlinewidth": 0,
             "ticks": ""
            },
            "type": "choropleth"
           }
          ],
          "contour": [
           {
            "colorbar": {
             "outlinewidth": 0,
             "ticks": ""
            },
            "colorscale": [
             [
              0,
              "#0d0887"
             ],
             [
              0.1111111111111111,
              "#46039f"
             ],
             [
              0.2222222222222222,
              "#7201a8"
             ],
             [
              0.3333333333333333,
              "#9c179e"
             ],
             [
              0.4444444444444444,
              "#bd3786"
             ],
             [
              0.5555555555555556,
              "#d8576b"
             ],
             [
              0.6666666666666666,
              "#ed7953"
             ],
             [
              0.7777777777777778,
              "#fb9f3a"
             ],
             [
              0.8888888888888888,
              "#fdca26"
             ],
             [
              1,
              "#f0f921"
             ]
            ],
            "type": "contour"
           }
          ],
          "contourcarpet": [
           {
            "colorbar": {
             "outlinewidth": 0,
             "ticks": ""
            },
            "type": "contourcarpet"
           }
          ],
          "heatmap": [
           {
            "colorbar": {
             "outlinewidth": 0,
             "ticks": ""
            },
            "colorscale": [
             [
              0,
              "#0d0887"
             ],
             [
              0.1111111111111111,
              "#46039f"
             ],
             [
              0.2222222222222222,
              "#7201a8"
             ],
             [
              0.3333333333333333,
              "#9c179e"
             ],
             [
              0.4444444444444444,
              "#bd3786"
             ],
             [
              0.5555555555555556,
              "#d8576b"
             ],
             [
              0.6666666666666666,
              "#ed7953"
             ],
             [
              0.7777777777777778,
              "#fb9f3a"
             ],
             [
              0.8888888888888888,
              "#fdca26"
             ],
             [
              1,
              "#f0f921"
             ]
            ],
            "type": "heatmap"
           }
          ],
          "heatmapgl": [
           {
            "colorbar": {
             "outlinewidth": 0,
             "ticks": ""
            },
            "colorscale": [
             [
              0,
              "#0d0887"
             ],
             [
              0.1111111111111111,
              "#46039f"
             ],
             [
              0.2222222222222222,
              "#7201a8"
             ],
             [
              0.3333333333333333,
              "#9c179e"
             ],
             [
              0.4444444444444444,
              "#bd3786"
             ],
             [
              0.5555555555555556,
              "#d8576b"
             ],
             [
              0.6666666666666666,
              "#ed7953"
             ],
             [
              0.7777777777777778,
              "#fb9f3a"
             ],
             [
              0.8888888888888888,
              "#fdca26"
             ],
             [
              1,
              "#f0f921"
             ]
            ],
            "type": "heatmapgl"
           }
          ],
          "histogram": [
           {
            "marker": {
             "pattern": {
              "fillmode": "overlay",
              "size": 10,
              "solidity": 0.2
             }
            },
            "type": "histogram"
           }
          ],
          "histogram2d": [
           {
            "colorbar": {
             "outlinewidth": 0,
             "ticks": ""
            },
            "colorscale": [
             [
              0,
              "#0d0887"
             ],
             [
              0.1111111111111111,
              "#46039f"
             ],
             [
              0.2222222222222222,
              "#7201a8"
             ],
             [
              0.3333333333333333,
              "#9c179e"
             ],
             [
              0.4444444444444444,
              "#bd3786"
             ],
             [
              0.5555555555555556,
              "#d8576b"
             ],
             [
              0.6666666666666666,
              "#ed7953"
             ],
             [
              0.7777777777777778,
              "#fb9f3a"
             ],
             [
              0.8888888888888888,
              "#fdca26"
             ],
             [
              1,
              "#f0f921"
             ]
            ],
            "type": "histogram2d"
           }
          ],
          "histogram2dcontour": [
           {
            "colorbar": {
             "outlinewidth": 0,
             "ticks": ""
            },
            "colorscale": [
             [
              0,
              "#0d0887"
             ],
             [
              0.1111111111111111,
              "#46039f"
             ],
             [
              0.2222222222222222,
              "#7201a8"
             ],
             [
              0.3333333333333333,
              "#9c179e"
             ],
             [
              0.4444444444444444,
              "#bd3786"
             ],
             [
              0.5555555555555556,
              "#d8576b"
             ],
             [
              0.6666666666666666,
              "#ed7953"
             ],
             [
              0.7777777777777778,
              "#fb9f3a"
             ],
             [
              0.8888888888888888,
              "#fdca26"
             ],
             [
              1,
              "#f0f921"
             ]
            ],
            "type": "histogram2dcontour"
           }
          ],
          "mesh3d": [
           {
            "colorbar": {
             "outlinewidth": 0,
             "ticks": ""
            },
            "type": "mesh3d"
           }
          ],
          "parcoords": [
           {
            "line": {
             "colorbar": {
              "outlinewidth": 0,
              "ticks": ""
             }
            },
            "type": "parcoords"
           }
          ],
          "pie": [
           {
            "automargin": true,
            "type": "pie"
           }
          ],
          "scatter": [
           {
            "marker": {
             "line": {
              "color": "#283442"
             }
            },
            "type": "scatter"
           }
          ],
          "scatter3d": [
           {
            "line": {
             "colorbar": {
              "outlinewidth": 0,
              "ticks": ""
             }
            },
            "marker": {
             "colorbar": {
              "outlinewidth": 0,
              "ticks": ""
             }
            },
            "type": "scatter3d"
           }
          ],
          "scattercarpet": [
           {
            "marker": {
             "colorbar": {
              "outlinewidth": 0,
              "ticks": ""
             }
            },
            "type": "scattercarpet"
           }
          ],
          "scattergeo": [
           {
            "marker": {
             "colorbar": {
              "outlinewidth": 0,
              "ticks": ""
             }
            },
            "type": "scattergeo"
           }
          ],
          "scattergl": [
           {
            "marker": {
             "line": {
              "color": "#283442"
             }
            },
            "type": "scattergl"
           }
          ],
          "scattermapbox": [
           {
            "marker": {
             "colorbar": {
              "outlinewidth": 0,
              "ticks": ""
             }
            },
            "type": "scattermapbox"
           }
          ],
          "scatterpolar": [
           {
            "marker": {
             "colorbar": {
              "outlinewidth": 0,
              "ticks": ""
             }
            },
            "type": "scatterpolar"
           }
          ],
          "scatterpolargl": [
           {
            "marker": {
             "colorbar": {
              "outlinewidth": 0,
              "ticks": ""
             }
            },
            "type": "scatterpolargl"
           }
          ],
          "scatterternary": [
           {
            "marker": {
             "colorbar": {
              "outlinewidth": 0,
              "ticks": ""
             }
            },
            "type": "scatterternary"
           }
          ],
          "surface": [
           {
            "colorbar": {
             "outlinewidth": 0,
             "ticks": ""
            },
            "colorscale": [
             [
              0,
              "#0d0887"
             ],
             [
              0.1111111111111111,
              "#46039f"
             ],
             [
              0.2222222222222222,
              "#7201a8"
             ],
             [
              0.3333333333333333,
              "#9c179e"
             ],
             [
              0.4444444444444444,
              "#bd3786"
             ],
             [
              0.5555555555555556,
              "#d8576b"
             ],
             [
              0.6666666666666666,
              "#ed7953"
             ],
             [
              0.7777777777777778,
              "#fb9f3a"
             ],
             [
              0.8888888888888888,
              "#fdca26"
             ],
             [
              1,
              "#f0f921"
             ]
            ],
            "type": "surface"
           }
          ],
          "table": [
           {
            "cells": {
             "fill": {
              "color": "#506784"
             },
             "line": {
              "color": "rgb(17,17,17)"
             }
            },
            "header": {
             "fill": {
              "color": "#2a3f5f"
             },
             "line": {
              "color": "rgb(17,17,17)"
             }
            },
            "type": "table"
           }
          ]
         },
         "layout": {
          "annotationdefaults": {
           "arrowcolor": "#f2f5fa",
           "arrowhead": 0,
           "arrowwidth": 1
          },
          "autotypenumbers": "strict",
          "coloraxis": {
           "colorbar": {
            "outlinewidth": 0,
            "ticks": ""
           }
          },
          "colorscale": {
           "diverging": [
            [
             0,
             "#8e0152"
            ],
            [
             0.1,
             "#c51b7d"
            ],
            [
             0.2,
             "#de77ae"
            ],
            [
             0.3,
             "#f1b6da"
            ],
            [
             0.4,
             "#fde0ef"
            ],
            [
             0.5,
             "#f7f7f7"
            ],
            [
             0.6,
             "#e6f5d0"
            ],
            [
             0.7,
             "#b8e186"
            ],
            [
             0.8,
             "#7fbc41"
            ],
            [
             0.9,
             "#4d9221"
            ],
            [
             1,
             "#276419"
            ]
           ],
           "sequential": [
            [
             0,
             "#0d0887"
            ],
            [
             0.1111111111111111,
             "#46039f"
            ],
            [
             0.2222222222222222,
             "#7201a8"
            ],
            [
             0.3333333333333333,
             "#9c179e"
            ],
            [
             0.4444444444444444,
             "#bd3786"
            ],
            [
             0.5555555555555556,
             "#d8576b"
            ],
            [
             0.6666666666666666,
             "#ed7953"
            ],
            [
             0.7777777777777778,
             "#fb9f3a"
            ],
            [
             0.8888888888888888,
             "#fdca26"
            ],
            [
             1,
             "#f0f921"
            ]
           ],
           "sequentialminus": [
            [
             0,
             "#0d0887"
            ],
            [
             0.1111111111111111,
             "#46039f"
            ],
            [
             0.2222222222222222,
             "#7201a8"
            ],
            [
             0.3333333333333333,
             "#9c179e"
            ],
            [
             0.4444444444444444,
             "#bd3786"
            ],
            [
             0.5555555555555556,
             "#d8576b"
            ],
            [
             0.6666666666666666,
             "#ed7953"
            ],
            [
             0.7777777777777778,
             "#fb9f3a"
            ],
            [
             0.8888888888888888,
             "#fdca26"
            ],
            [
             1,
             "#f0f921"
            ]
           ]
          },
          "colorway": [
           "#636efa",
           "#EF553B",
           "#00cc96",
           "#ab63fa",
           "#FFA15A",
           "#19d3f3",
           "#FF6692",
           "#B6E880",
           "#FF97FF",
           "#FECB52"
          ],
          "font": {
           "color": "#f2f5fa"
          },
          "geo": {
           "bgcolor": "rgb(17,17,17)",
           "lakecolor": "rgb(17,17,17)",
           "landcolor": "rgb(17,17,17)",
           "showlakes": true,
           "showland": true,
           "subunitcolor": "#506784"
          },
          "hoverlabel": {
           "align": "left"
          },
          "hovermode": "closest",
          "mapbox": {
           "style": "dark"
          },
          "paper_bgcolor": "rgb(17,17,17)",
          "plot_bgcolor": "rgb(17,17,17)",
          "polar": {
           "angularaxis": {
            "gridcolor": "#506784",
            "linecolor": "#506784",
            "ticks": ""
           },
           "bgcolor": "rgb(17,17,17)",
           "radialaxis": {
            "gridcolor": "#506784",
            "linecolor": "#506784",
            "ticks": ""
           }
          },
          "scene": {
           "xaxis": {
            "backgroundcolor": "rgb(17,17,17)",
            "gridcolor": "#506784",
            "gridwidth": 2,
            "linecolor": "#506784",
            "showbackground": true,
            "ticks": "",
            "zerolinecolor": "#C8D4E3"
           },
           "yaxis": {
            "backgroundcolor": "rgb(17,17,17)",
            "gridcolor": "#506784",
            "gridwidth": 2,
            "linecolor": "#506784",
            "showbackground": true,
            "ticks": "",
            "zerolinecolor": "#C8D4E3"
           },
           "zaxis": {
            "backgroundcolor": "rgb(17,17,17)",
            "gridcolor": "#506784",
            "gridwidth": 2,
            "linecolor": "#506784",
            "showbackground": true,
            "ticks": "",
            "zerolinecolor": "#C8D4E3"
           }
          },
          "shapedefaults": {
           "line": {
            "color": "#f2f5fa"
           }
          },
          "sliderdefaults": {
           "bgcolor": "#C8D4E3",
           "bordercolor": "rgb(17,17,17)",
           "borderwidth": 1,
           "tickwidth": 0
          },
          "ternary": {
           "aaxis": {
            "gridcolor": "#506784",
            "linecolor": "#506784",
            "ticks": ""
           },
           "baxis": {
            "gridcolor": "#506784",
            "linecolor": "#506784",
            "ticks": ""
           },
           "bgcolor": "rgb(17,17,17)",
           "caxis": {
            "gridcolor": "#506784",
            "linecolor": "#506784",
            "ticks": ""
           }
          },
          "title": {
           "x": 0.05
          },
          "updatemenudefaults": {
           "bgcolor": "#506784",
           "borderwidth": 0
          },
          "xaxis": {
           "automargin": true,
           "gridcolor": "#283442",
           "linecolor": "#506784",
           "ticks": "",
           "title": {
            "standoff": 15
           },
           "zerolinecolor": "#283442",
           "zerolinewidth": 2
          },
          "yaxis": {
           "automargin": true,
           "gridcolor": "#283442",
           "linecolor": "#506784",
           "ticks": "",
           "title": {
            "standoff": 15
           },
           "zerolinecolor": "#283442",
           "zerolinewidth": 2
          }
         }
        },
        "xaxis": {
         "anchor": "y",
         "categoryarray": [
          "key_top",
          "key_bottom",
          "ball_top",
          "ball_bottom"
         ],
         "categoryorder": "array",
         "domain": [
          0,
          1
         ],
         "title": {
          "text": "scenario"
         }
        },
        "yaxis": {
         "anchor": "x",
         "domain": [
          0,
          1
         ],
         "title": {
          "text": "abs_difference"
         }
        }
       }
      }
     },
     "metadata": {},
     "output_type": "display_data"
    }
   ],
   "source": [
    "standard_predictions['adversarial_logit']= adversarial_predictions['logit']\n",
    "standard_predictions['difference'] = standard_predictions['logit'] - standard_predictions['adversarial_logit']\n",
    "# make an abs difference column\n",
    "standard_predictions['abs_difference'] = standard_predictions['difference'].abs()\n",
    "px.bar(\n",
    "    standard_predictions.query('action == \"right_minus_left\"'),\n",
    "    x = 'scenario',\n",
    "    y = 'abs_difference',\n",
    "    color = 'scenario',\n",
    "    labels={'difference': 'Difference in Logits (pos = right)'},\n",
    "    template='plotly_dark').show()"
   ]
  },
  {
   "cell_type": "code",
   "execution_count": 26,
   "metadata": {},
   "outputs": [
    {
     "ename": "NameError",
     "evalue": "name 'standard_predictions' is not defined",
     "output_type": "error",
     "traceback": [
      "\u001b[0;31m---------------------------------------------------------------------------\u001b[0m",
      "\u001b[0;31mNameError\u001b[0m                                 Traceback (most recent call last)",
      "\u001b[1;32m/Users/josephbloom/GithubRepositories/DecisionTransformerInterpretability/dev/experiment_evaluating_adversaries.ipynb Cell 23\u001b[0m line \u001b[0;36m1\n\u001b[0;32m----> <a href='vscode-notebook-cell:/Users/josephbloom/GithubRepositories/DecisionTransformerInterpretability/dev/experiment_evaluating_adversaries.ipynb#X31sZmlsZQ%3D%3D?line=0'>1</a>\u001b[0m tmp \u001b[39m=\u001b[39m standard_predictions\u001b[39m.\u001b[39mquery(\u001b[39m'\u001b[39m\u001b[39maction == \u001b[39m\u001b[39m\"\u001b[39m\u001b[39mright_minus_left\u001b[39m\u001b[39m\"\u001b[39m\u001b[39m'\u001b[39m)\n\u001b[1;32m      <a href='vscode-notebook-cell:/Users/josephbloom/GithubRepositories/DecisionTransformerInterpretability/dev/experiment_evaluating_adversaries.ipynb#X31sZmlsZQ%3D%3D?line=1'>2</a>\u001b[0m tmp[\u001b[39m'\u001b[39m\u001b[39mcorrect_answer\u001b[39m\u001b[39m'\u001b[39m] \u001b[39m=\u001b[39m [\u001b[39m1\u001b[39m,\u001b[39m1\u001b[39m,\u001b[39m0\u001b[39m,\u001b[39m0\u001b[39m]\n",
      "\u001b[0;31mNameError\u001b[0m: name 'standard_predictions' is not defined"
     ]
    }
   ],
   "source": [
    "tmp = standard_predictions.query('action == \"right_minus_left\"')\n",
    "tmp['correct_answer'] = [1,1,0,0]"
   ]
  },
  {
   "cell_type": "code",
   "execution_count": 35,
   "metadata": {},
   "outputs": [
    {
     "ename": "NameError",
     "evalue": "name 'tmp' is not defined",
     "output_type": "error",
     "traceback": [
      "\u001b[0;31m---------------------------------------------------------------------------\u001b[0m",
      "\u001b[0;31mNameError\u001b[0m                                 Traceback (most recent call last)",
      "\u001b[1;32m/Users/josephbloom/GithubRepositories/DecisionTransformerInterpretability/dev/experiment_evaluating_adversaries.ipynb Cell 22\u001b[0m line \u001b[0;36m1\n\u001b[0;32m----> <a href='vscode-notebook-cell:/Users/josephbloom/GithubRepositories/DecisionTransformerInterpretability/dev/experiment_evaluating_adversaries.ipynb#X32sZmlsZQ%3D%3D?line=0'>1</a>\u001b[0m df \u001b[39m=\u001b[39m pd\u001b[39m.\u001b[39mDataFrame(tmp\u001b[39m.\u001b[39mlogit\u001b[39m.\u001b[39mvalues\u001b[39m.\u001b[39mreshape(\u001b[39m2\u001b[39m,\u001b[39m2\u001b[39m))\n\u001b[1;32m      <a href='vscode-notebook-cell:/Users/josephbloom/GithubRepositories/DecisionTransformerInterpretability/dev/experiment_evaluating_adversaries.ipynb#X32sZmlsZQ%3D%3D?line=1'>2</a>\u001b[0m df\u001b[39m.\u001b[39mcolumns \u001b[39m=\u001b[39m [\u001b[39m\"\u001b[39m\u001b[39mKey\u001b[39m\u001b[39m\"\u001b[39m, \u001b[39m\"\u001b[39m\u001b[39mBall\u001b[39m\u001b[39m\"\u001b[39m]\n\u001b[1;32m      <a href='vscode-notebook-cell:/Users/josephbloom/GithubRepositories/DecisionTransformerInterpretability/dev/experiment_evaluating_adversaries.ipynb#X32sZmlsZQ%3D%3D?line=2'>3</a>\u001b[0m df\u001b[39m.\u001b[39mindex \u001b[39m=\u001b[39m [\u001b[39m\"\u001b[39m\u001b[39mKey-Ball\u001b[39m\u001b[39m\"\u001b[39m, \u001b[39m\"\u001b[39m\u001b[39mBall-Key\u001b[39m\u001b[39m\"\u001b[39m]\n",
      "\u001b[0;31mNameError\u001b[0m: name 'tmp' is not defined"
     ]
    }
   ],
   "source": [
    "df = pd.DataFrame(tmp.logit.values.reshape(2,2))\n",
    "df.columns = [\"Key\", \"Ball\"]\n",
    "df.index = [\"Key-Ball\", \"Ball-Key\"]\n",
    "px.imshow(\n",
    "    df,\n",
    "    color_continuous_midpoint=0,\n",
    "    color_continuous_scale='RdBu',\n",
    "    text_auto=True,\n",
    "    template='plotly_dark').show()"
   ]
  },
  {
   "cell_type": "code",
   "execution_count": 28,
   "metadata": {},
   "outputs": [
    {
     "ename": "NameError",
     "evalue": "name 'tmp' is not defined",
     "output_type": "error",
     "traceback": [
      "\u001b[0;31m---------------------------------------------------------------------------\u001b[0m",
      "\u001b[0;31mNameError\u001b[0m                                 Traceback (most recent call last)",
      "\u001b[1;32m/Users/josephbloom/GithubRepositories/DecisionTransformerInterpretability/dev/experiment_evaluating_adversaries.ipynb Cell 25\u001b[0m line \u001b[0;36m1\n\u001b[0;32m----> <a href='vscode-notebook-cell:/Users/josephbloom/GithubRepositories/DecisionTransformerInterpretability/dev/experiment_evaluating_adversaries.ipynb#X33sZmlsZQ%3D%3D?line=0'>1</a>\u001b[0m df \u001b[39m=\u001b[39m pd\u001b[39m.\u001b[39mDataFrame(tmp\u001b[39m.\u001b[39mlogit\u001b[39m.\u001b[39mvalues\u001b[39m.\u001b[39mreshape(\u001b[39m2\u001b[39m,\u001b[39m2\u001b[39m))\n\u001b[1;32m      <a href='vscode-notebook-cell:/Users/josephbloom/GithubRepositories/DecisionTransformerInterpretability/dev/experiment_evaluating_adversaries.ipynb#X33sZmlsZQ%3D%3D?line=1'>2</a>\u001b[0m df\u001b[39m.\u001b[39mcolumns \u001b[39m=\u001b[39m [\u001b[39m\"\u001b[39m\u001b[39mKey\u001b[39m\u001b[39m\"\u001b[39m, \u001b[39m\"\u001b[39m\u001b[39mBall\u001b[39m\u001b[39m\"\u001b[39m]\n\u001b[1;32m      <a href='vscode-notebook-cell:/Users/josephbloom/GithubRepositories/DecisionTransformerInterpretability/dev/experiment_evaluating_adversaries.ipynb#X33sZmlsZQ%3D%3D?line=2'>3</a>\u001b[0m df\u001b[39m.\u001b[39mindex \u001b[39m=\u001b[39m [\u001b[39m\"\u001b[39m\u001b[39mKey-Ball\u001b[39m\u001b[39m\"\u001b[39m, \u001b[39m\"\u001b[39m\u001b[39mBall-Key\u001b[39m\u001b[39m\"\u001b[39m]\n",
      "\u001b[0;31mNameError\u001b[0m: name 'tmp' is not defined"
     ]
    }
   ],
   "source": [
    "df = pd.DataFrame(tmp.logit.values.reshape(2,2))\n",
    "df.columns = [\"Key\", \"Ball\"]\n",
    "df.index = [\"Key-Ball\", \"Ball-Key\"]\n",
    "fig = px.imshow(\n",
    "    df,\n",
    "    color_continuous_midpoint=0,\n",
    "    color_continuous_scale='RdBu',\n",
    "    text_auto=True,\n",
    "    template='plotly')\n",
    "\n",
    "fig.show()"
   ]
  },
  {
   "cell_type": "code",
   "execution_count": null,
   "metadata": {},
   "outputs": [],
   "source": []
  },
  {
   "cell_type": "code",
   "execution_count": null,
   "metadata": {},
   "outputs": [],
   "source": []
  }
 ],
 "metadata": {
  "kernelspec": {
   "display_name": "decision_transformer_interpretability",
   "language": "python",
   "name": "python3"
  },
  "language_info": {
   "codemirror_mode": {
    "name": "ipython",
    "version": 3
   },
   "file_extension": ".py",
   "mimetype": "text/x-python",
   "name": "python",
   "nbconvert_exporter": "python",
   "pygments_lexer": "ipython3",
   "version": "3.10.9"
  }
 },
 "nbformat": 4,
 "nbformat_minor": 2
}
