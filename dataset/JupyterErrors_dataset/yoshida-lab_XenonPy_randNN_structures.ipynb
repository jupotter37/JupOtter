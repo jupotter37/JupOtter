{
 "cells": [
  {
   "cell_type": "markdown",
   "metadata": {},
   "source": [
    "# Generating random NN models with different baseline structures"
   ]
  },
  {
   "cell_type": "markdown",
   "metadata": {},
   "source": [
    "2019.11.1\n",
    "Stephen Wu\n",
    "\n",
    "Goal of this script: \n",
    "sample codes of generating random neural network models based on a few different baseline structures other than the basic ones shown in the XenonPy official tutorial.\n",
    "    1. fixing the range of number of neurons in the first and last hidden layer with linear reduction of the range from the first to the last layer.\n",
    "    2. fixing the range of number of neurons in the first and last hidden layer with log reduction of the range from the first to the last layer.\n",
    "    3. randomly picking a subset of descriptors from the full descriptors as input for each neural network\n",
    "    \n",
    "Data from Pubchem (a subset selected by Ikebata) is used as an example."
   ]
  },
  {
   "cell_type": "markdown",
   "metadata": {},
   "source": [
    "### Preparation"
   ]
  },
  {
   "cell_type": "code",
   "execution_count": 2,
   "metadata": {},
   "outputs": [],
   "source": [
    "import pandas as pd\n",
    "import numpy as np\n",
    "import pickle as pk\n",
    "\n",
    "# user-friendly print\n",
    "from IPython.core.interactiveshell import InteractiveShell\n",
    "InteractiveShell.ast_node_interactivity = \"all\""
   ]
  },
  {
   "cell_type": "markdown",
   "metadata": {},
   "source": [
    "##### Load files"
   ]
  },
  {
   "cell_type": "markdown",
   "metadata": {},
   "source": [
    "You can download the in-house data at https://github.com/yoshida-lab/XenonPy/releases/download/v0.4.1/iQSPR_sample_data.csv"
   ]
  },
  {
   "cell_type": "code",
   "execution_count": 3,
   "metadata": {
    "scrolled": true
   },
   "outputs": [
    {
     "name": "stdout",
     "output_type": "stream",
     "text": [
      "Index(['Unnamed: 0', 'SMILES', 'E', 'HOMO-LUMO gap'], dtype='object')\n",
      "(16674, 4)\n"
     ]
    },
    {
     "data": {
      "text/html": [
       "<div>\n",
       "<style scoped>\n",
       "    .dataframe tbody tr th:only-of-type {\n",
       "        vertical-align: middle;\n",
       "    }\n",
       "\n",
       "    .dataframe tbody tr th {\n",
       "        vertical-align: top;\n",
       "    }\n",
       "\n",
       "    .dataframe thead th {\n",
       "        text-align: right;\n",
       "    }\n",
       "</style>\n",
       "<table border=\"1\" class=\"dataframe\">\n",
       "  <thead>\n",
       "    <tr style=\"text-align: right;\">\n",
       "      <th></th>\n",
       "      <th>Unnamed: 0</th>\n",
       "      <th>SMILES</th>\n",
       "      <th>E</th>\n",
       "      <th>HOMO-LUMO gap</th>\n",
       "    </tr>\n",
       "  </thead>\n",
       "  <tbody>\n",
       "    <tr>\n",
       "      <td>0</td>\n",
       "      <td>1</td>\n",
       "      <td>CC(=O)OC(CC(=O)[O-])C[N+](C)(C)C</td>\n",
       "      <td>177.577</td>\n",
       "      <td>4.352512</td>\n",
       "    </tr>\n",
       "    <tr>\n",
       "      <td>1</td>\n",
       "      <td>2</td>\n",
       "      <td>CC(=O)OC(CC(=O)O)C[N+](C)(C)C</td>\n",
       "      <td>185.735</td>\n",
       "      <td>7.513497</td>\n",
       "    </tr>\n",
       "    <tr>\n",
       "      <td>2</td>\n",
       "      <td>3</td>\n",
       "      <td>C1=CC(C(C(=C1)C(=O)O)O)O</td>\n",
       "      <td>98.605</td>\n",
       "      <td>4.581348</td>\n",
       "    </tr>\n",
       "    <tr>\n",
       "      <td>3</td>\n",
       "      <td>4</td>\n",
       "      <td>CC(CN)O</td>\n",
       "      <td>83.445</td>\n",
       "      <td>8.034841</td>\n",
       "    </tr>\n",
       "    <tr>\n",
       "      <td>4</td>\n",
       "      <td>5</td>\n",
       "      <td>C(C(=O)COP(=O)(O)O)N</td>\n",
       "      <td>90.877</td>\n",
       "      <td>5.741310</td>\n",
       "    </tr>\n",
       "  </tbody>\n",
       "</table>\n",
       "</div>"
      ],
      "text/plain": [
       "   Unnamed: 0                            SMILES        E  HOMO-LUMO gap\n",
       "0           1  CC(=O)OC(CC(=O)[O-])C[N+](C)(C)C  177.577       4.352512\n",
       "1           2     CC(=O)OC(CC(=O)O)C[N+](C)(C)C  185.735       7.513497\n",
       "2           3          C1=CC(C(C(=C1)C(=O)O)O)O   98.605       4.581348\n",
       "3           4                           CC(CN)O   83.445       8.034841\n",
       "4           5              C(C(=O)COP(=O)(O)O)N   90.877       5.741310"
      ]
     },
     "execution_count": 3,
     "metadata": {},
     "output_type": "execute_result"
    }
   ],
   "source": [
    "# load QM9 data from csv file\n",
    "data = pd.read_csv('./iQSPR_sample_data.csv')\n",
    "\n",
    "# take a look at the data\n",
    "print(data.columns)\n",
    "print(data.shape)\n",
    "data.head()"
   ]
  },
  {
   "cell_type": "markdown",
   "metadata": {},
   "source": [
    "##### Fingerprints"
   ]
  },
  {
   "cell_type": "code",
   "execution_count": 4,
   "metadata": {},
   "outputs": [],
   "source": [
    "from xenonpy.descriptor import Fingerprints\n",
    "\n",
    "FPs_ECFP_MACCS = Fingerprints(featurizers=['ECFP','MACCS'], input_type='smiles', on_errors='nan')\n",
    "FPs_All = Fingerprints(featurizers=['RDKitFP','AtomPairFP','TopologicalTorsionFP','ECFP','FCFP','MACCS'], input_type='smiles', on_errors='nan')\n"
   ]
  },
  {
   "cell_type": "markdown",
   "metadata": {},
   "source": [
    "### Train DNN models\n"
   ]
  },
  {
   "cell_type": "markdown",
   "metadata": {},
   "source": [
    "##### 1. fixing the range of number of neurons in the first and last hidden layer with linear reduction of the range from the first to the last layer.\n",
    "##### 2. fixing the range of number of neurons in the first and last hidden layer with log reduction of the range from the first to the last layer."
   ]
  },
  {
   "cell_type": "markdown",
   "metadata": {},
   "source": [
    "roughly takes 1min"
   ]
  },
  {
   "cell_type": "code",
   "execution_count": 18,
   "metadata": {},
   "outputs": [
    {
     "name": "stdout",
     "output_type": "stream",
     "text": [
      "CPU times: user 9.18 s, sys: 764 ms, total: 9.94 s\n",
      "Wall time: 16.5 s\n"
     ]
    }
   ],
   "source": [
    "%%time\n",
    "\n",
    "# pick a property as output\n",
    "prop = data['HOMO-LUMO gap'].to_frame()\n",
    "# pre-calculate all descriptors\n",
    "desc = FPs_ECFP_MACCS.transform(data['SMILES'])\n",
    "# remove NaN row\n",
    "prop = prop[~desc.isnull().any(axis=1)]\n",
    "desc = desc[~desc.isnull().any(axis=1)]\n"
   ]
  },
  {
   "cell_type": "markdown",
   "metadata": {},
   "source": [
    "prepare a function to generate random number of neurons uniformly from a given range at each hidden layer for a given total number of layer, for which the max and min values of the ranges are linearly decaying with a pair of fixed max and min values at the first and the last hidden layer."
   ]
  },
  {
   "cell_type": "code",
   "execution_count": 5,
   "metadata": {},
   "outputs": [],
   "source": [
    "# the fixed max and min values at the first and the last hidden layer \n",
    "# are determined empirically based on the length of the descriptor\n",
    "\n",
    "def neuron_vector_lin(nL):\n",
    "    max_vec = np.linspace(1500,100,nL)\n",
    "    min_vec = np.linspace(1000,20,nL)\n",
    "    return sorted([np.random.randint(min_vec[i], max_vec[i]) for i in range(nL)], reverse=True)\n"
   ]
  },
  {
   "cell_type": "code",
   "execution_count": 6,
   "metadata": {},
   "outputs": [
    {
     "data": {
      "text/plain": [
       "[1201, 933, 564, 274, 89]"
      ]
     },
     "execution_count": 6,
     "metadata": {},
     "output_type": "execute_result"
    },
    {
     "data": {
      "text/plain": [
       "[1113, 939, 682, 291, 70]"
      ]
     },
     "execution_count": 6,
     "metadata": {},
     "output_type": "execute_result"
    },
    {
     "data": {
      "text/plain": [
       "[1121, 1008, 590, 448, 30]"
      ]
     },
     "execution_count": 6,
     "metadata": {},
     "output_type": "execute_result"
    },
    {
     "data": {
      "text/plain": [
       "[1104, 1041, 792, 436, 66]"
      ]
     },
     "execution_count": 6,
     "metadata": {},
     "output_type": "execute_result"
    },
    {
     "data": {
      "text/plain": [
       "[1235, 974, 793, 298, 65]"
      ]
     },
     "execution_count": 6,
     "metadata": {},
     "output_type": "execute_result"
    },
    {
     "data": {
      "text/plain": [
       "[1433, 885, 534, 424, 89]"
      ]
     },
     "execution_count": 6,
     "metadata": {},
     "output_type": "execute_result"
    },
    {
     "data": {
      "text/plain": [
       "[1319, 787, 595, 400, 32]"
      ]
     },
     "execution_count": 6,
     "metadata": {},
     "output_type": "execute_result"
    },
    {
     "data": {
      "text/plain": [
       "[1476, 846, 799, 316, 56]"
      ]
     },
     "execution_count": 6,
     "metadata": {},
     "output_type": "execute_result"
    },
    {
     "data": {
      "text/plain": [
       "[1019, 1015, 628, 397, 69]"
      ]
     },
     "execution_count": 6,
     "metadata": {},
     "output_type": "execute_result"
    },
    {
     "data": {
      "text/plain": [
       "[1353, 871, 513, 307, 43]"
      ]
     },
     "execution_count": 6,
     "metadata": {},
     "output_type": "execute_result"
    }
   ],
   "source": [
    "# test the function\n",
    "for _ in range(10):\n",
    "    neuron_vector_lin(5)\n"
   ]
  },
  {
   "cell_type": "markdown",
   "metadata": {},
   "source": [
    "prepare a function to generate random number of neurons uniformly from a given range at each hidden layer for a given total number of layer, for which the max and min values of the ranges are decaying in log-scale with a pair of fixed max and min values at the first and the last hidden layer."
   ]
  },
  {
   "cell_type": "code",
   "execution_count": 7,
   "metadata": {},
   "outputs": [],
   "source": [
    "# the fixed max and min values at the first and the last hidden layer \n",
    "# are determined empirically based on the length of the descriptor\n",
    "\n",
    "def neuron_vector_log(nL):\n",
    "    log_base = 2\n",
    "    max_vec = np.round(np.logspace(np.log2(100),np.log2(1500),nL,base=log_base))\n",
    "    min_vec = np.round(np.logspace(np.log2(20),np.log2(1000),nL,base=log_base))\n",
    "    return sorted([np.random.randint(min_vec[i], max_vec[i]) for i in range(nL)], reverse=True)\n"
   ]
  },
  {
   "cell_type": "code",
   "execution_count": 8,
   "metadata": {},
   "outputs": [
    {
     "data": {
      "text/plain": [
       "[1454, 723, 255, 101, 41]"
      ]
     },
     "execution_count": 8,
     "metadata": {},
     "output_type": "execute_result"
    },
    {
     "data": {
      "text/plain": [
       "[1142, 617, 257, 80, 80]"
      ]
     },
     "execution_count": 8,
     "metadata": {},
     "output_type": "execute_result"
    },
    {
     "data": {
      "text/plain": [
       "[1235, 513, 299, 160, 85]"
      ]
     },
     "execution_count": 8,
     "metadata": {},
     "output_type": "execute_result"
    },
    {
     "data": {
      "text/plain": [
       "[1397, 540, 184, 183, 74]"
      ]
     },
     "execution_count": 8,
     "metadata": {},
     "output_type": "execute_result"
    },
    {
     "data": {
      "text/plain": [
       "[1188, 410, 193, 127, 81]"
      ]
     },
     "execution_count": 8,
     "metadata": {},
     "output_type": "execute_result"
    },
    {
     "data": {
      "text/plain": [
       "[1109, 669, 358, 115, 42]"
      ]
     },
     "execution_count": 8,
     "metadata": {},
     "output_type": "execute_result"
    },
    {
     "data": {
      "text/plain": [
       "[1475, 467, 325, 119, 24]"
      ]
     },
     "execution_count": 8,
     "metadata": {},
     "output_type": "execute_result"
    },
    {
     "data": {
      "text/plain": [
       "[1018, 565, 232, 139, 62]"
      ]
     },
     "execution_count": 8,
     "metadata": {},
     "output_type": "execute_result"
    },
    {
     "data": {
      "text/plain": [
       "[1419, 524, 263, 85, 61]"
      ]
     },
     "execution_count": 8,
     "metadata": {},
     "output_type": "execute_result"
    },
    {
     "data": {
      "text/plain": [
       "[1180, 731, 212, 151, 79]"
      ]
     },
     "execution_count": 8,
     "metadata": {},
     "output_type": "execute_result"
    }
   ],
   "source": [
    "# test the function\n",
    "for _ in range(10):\n",
    "    neuron_vector_log(5)\n",
    "    "
   ]
  },
  {
   "cell_type": "markdown",
   "metadata": {},
   "source": [
    "prepare a generator with a selected \"neuron_vector\" function (we use LeakyReLu in this example)"
   ]
  },
  {
   "cell_type": "code",
   "execution_count": 9,
   "metadata": {},
   "outputs": [],
   "source": [
    "from torch.nn import LeakyReLU\n",
    "from xenonpy.utils import ParameterGenerator\n",
    "\n",
    "generator = ParameterGenerator(\n",
    "    in_features=desc.shape[1],\n",
    "    out_features=1,\n",
    "    h_neurons=dict(\n",
    "        data=neuron_vector_lin, \n",
    "        repeat=(3, 4, 5)\n",
    "    ),\n",
    "    h_activation_funcs=(LeakyReLU(),)\n",
    ")"
   ]
  },
  {
   "cell_type": "code",
   "execution_count": 10,
   "metadata": {},
   "outputs": [
    {
     "name": "stdout",
     "output_type": "stream",
     "text": [
      "{'in_features': 2215, 'out_features': 1, 'h_activation_funcs': LeakyReLU(negative_slope=0.01), 'h_neurons': (1106, 944, 457, 57)}\n",
      "{'in_features': 2215, 'out_features': 1, 'h_activation_funcs': LeakyReLU(negative_slope=0.01), 'h_neurons': (1092, 1016, 483, 91)}\n",
      "{'in_features': 2215, 'out_features': 1, 'h_activation_funcs': LeakyReLU(negative_slope=0.01), 'h_neurons': (1365, 739, 401, 42)}\n",
      "{'in_features': 2215, 'out_features': 1, 'h_activation_funcs': LeakyReLU(negative_slope=0.01), 'h_neurons': (1243, 846, 616, 439, 73)}\n",
      "{'in_features': 2215, 'out_features': 1, 'h_activation_funcs': LeakyReLU(negative_slope=0.01), 'h_neurons': (1433, 1071, 611, 287, 32)}\n"
     ]
    }
   ],
   "source": [
    "# test the function\n",
    "\n",
    "for parameters in generator(num=5):\n",
    "    print(parameters)\n",
    "    "
   ]
  },
  {
   "cell_type": "markdown",
   "metadata": {},
   "source": [
    "prepare a function to automatically generate names for each model"
   ]
  },
  {
   "cell_type": "code",
   "execution_count": 11,
   "metadata": {},
   "outputs": [],
   "source": [
    "def make_name(model):\n",
    "    name = ['HLgap']\n",
    "    for n, m in model.named_children():\n",
    "        if 'layer_' in n:\n",
    "            name.append(str(m.linear.in_features))\n",
    "        else:\n",
    "            name.append(str(m.in_features))\n",
    "            name.append(str(m.out_features))\n",
    "    return '-'.join(name)\n"
   ]
  },
  {
   "cell_type": "code",
   "execution_count": 14,
   "metadata": {},
   "outputs": [
    {
     "name": "stdout",
     "output_type": "stream",
     "text": [
      "HLgap-2215-1272-917-651-278-77-1\n",
      "HLgap-2215-1026-902-507-49-1\n",
      "HLgap-2215-1320-825-759-305-55-1\n"
     ]
    }
   ],
   "source": [
    "# test the function\n",
    "from xenonpy.model import SequentialLinear, LinearLayer\n",
    "\n",
    "for paras, model in generator(num=3, factory=SequentialLinear):\n",
    "    print(make_name(model))\n",
    "    "
   ]
  },
  {
   "cell_type": "markdown",
   "metadata": {},
   "source": [
    "training models"
   ]
  },
  {
   "cell_type": "code",
   "execution_count": 15,
   "metadata": {},
   "outputs": [],
   "source": [
    "# import libraries\n",
    "import torch\n",
    "from torch.utils.data import DataLoader\n",
    "\n",
    "from xenonpy.datatools import preset, Splitter\n",
    "from xenonpy.descriptor import Compositions\n",
    "\n",
    "from xenonpy.model import SequentialLinear, LinearLayer\n",
    "from xenonpy.model.training import Trainer, SGD, MSELoss, Adam, ReduceLROnPlateau, ExponentialLR, ClipValue\n",
    "from xenonpy.model.training.extension import Validator, TensorConverter, Persist\n",
    "from xenonpy.model.training.dataset import ArrayDataset\n",
    "from xenonpy.model.utils import regression_metrics\n",
    "\n",
    "from collections import OrderedDict"
   ]
  },
  {
   "cell_type": "code",
   "execution_count": 16,
   "metadata": {},
   "outputs": [],
   "source": [
    "# prepare a trainer\n",
    "trainer = Trainer(\n",
    "    optimizer=Adam(lr=0.01),\n",
    "    loss_func=MSELoss(),\n",
    "    cuda=False,\n",
    ").extend(\n",
    "    TensorConverter(),\n",
    "    Validator(metrics_func=regression_metrics, early_stopping=50, trace_order=3, mae=0.0, pearsonr=1.0),\n",
    ")\n"
   ]
  },
  {
   "cell_type": "code",
   "execution_count": null,
   "metadata": {},
   "outputs": [
    {
     "name": "stderr",
     "output_type": "stream",
     "text": [
      "Training:   8%|▊         | 15/200 [02:03<25:27,  8.26s/it]\n"
     ]
    },
    {
     "name": "stdout",
     "output_type": "stream",
     "text": [
      "Early stopping is applied: no improvement for ['mae', 'pearsonr'] since the last 51 iterations, finish training at iteration 391\n"
     ]
    },
    {
     "name": "stderr",
     "output_type": "stream",
     "text": [
      "Training:  12%|█▎        | 25/200 [03:01<21:08,  7.25s/it]\n"
     ]
    },
    {
     "name": "stdout",
     "output_type": "stream",
     "text": [
      "Early stopping is applied: no improvement for ['mae', 'pearsonr'] since the last 51 iterations, finish training at iteration 664\n"
     ]
    },
    {
     "name": "stderr",
     "output_type": "stream",
     "text": [
      "Training:   4%|▍         | 8/200 [00:55<22:16,  6.96s/it]\n"
     ]
    },
    {
     "name": "stdout",
     "output_type": "stream",
     "text": [
      "Early stopping is applied: no improvement for ['mae', 'pearsonr'] since the last 51 iterations, finish training at iteration 197\n"
     ]
    },
    {
     "name": "stderr",
     "output_type": "stream",
     "text": [
      "Training:   5%|▌         | 10/200 [01:07<21:22,  6.75s/it]\n"
     ]
    },
    {
     "name": "stdout",
     "output_type": "stream",
     "text": [
      "Early stopping is applied: no improvement for ['mae', 'pearsonr'] since the last 51 iterations, finish training at iteration 262\n"
     ]
    },
    {
     "name": "stderr",
     "output_type": "stream",
     "text": [
      "Training:  10%|▉         | 19/200 [03:29<33:17, 11.04s/it]\n"
     ]
    },
    {
     "name": "stdout",
     "output_type": "stream",
     "text": [
      "Early stopping is applied: no improvement for ['mae', 'pearsonr'] since the last 51 iterations, finish training at iteration 508\n"
     ]
    },
    {
     "name": "stderr",
     "output_type": "stream",
     "text": [
      "Training:  12%|█▏        | 23/200 [03:15<25:05,  8.51s/it]\n"
     ]
    },
    {
     "name": "stdout",
     "output_type": "stream",
     "text": [
      "Early stopping is applied: no improvement for ['mae', 'pearsonr'] since the last 51 iterations, finish training at iteration 610\n"
     ]
    },
    {
     "name": "stderr",
     "output_type": "stream",
     "text": [
      "Training:   6%|▌         | 11/200 [01:43<29:32,  9.38s/it]\n"
     ]
    },
    {
     "name": "stdout",
     "output_type": "stream",
     "text": [
      "Early stopping is applied: no improvement for ['mae', 'pearsonr'] since the last 51 iterations, finish training at iteration 291\n"
     ]
    },
    {
     "name": "stderr",
     "output_type": "stream",
     "text": [
      "Training:   4%|▎         | 7/200 [00:54<25:13,  7.84s/it]\n"
     ]
    },
    {
     "name": "stdout",
     "output_type": "stream",
     "text": [
      "Early stopping is applied: no improvement for ['mae', 'pearsonr'] since the last 51 iterations, finish training at iteration 179\n"
     ]
    },
    {
     "name": "stderr",
     "output_type": "stream",
     "text": [
      "Training:  11%|█         | 22/200 [03:02<24:37,  8.30s/it]\n"
     ]
    },
    {
     "name": "stdout",
     "output_type": "stream",
     "text": [
      "Early stopping is applied: no improvement for ['mae', 'pearsonr'] since the last 51 iterations, finish training at iteration 588\n"
     ]
    },
    {
     "name": "stderr",
     "output_type": "stream",
     "text": [
      "Training:   6%|▋         | 13/200 [01:46<25:25,  8.16s/it]\n"
     ]
    },
    {
     "name": "stdout",
     "output_type": "stream",
     "text": [
      "Early stopping is applied: no improvement for ['mae', 'pearsonr'] since the last 51 iterations, finish training at iteration 337\n"
     ]
    },
    {
     "name": "stderr",
     "output_type": "stream",
     "text": [
      "Training:  13%|█▎        | 26/200 [04:11<28:04,  9.68s/it]\n"
     ]
    },
    {
     "name": "stdout",
     "output_type": "stream",
     "text": [
      "Early stopping is applied: no improvement for ['mae', 'pearsonr'] since the last 51 iterations, finish training at iteration 690\n"
     ]
    },
    {
     "name": "stderr",
     "output_type": "stream",
     "text": [
      "Training:  10%|▉         | 19/200 [02:13<21:14,  7.04s/it]\n"
     ]
    },
    {
     "name": "stdout",
     "output_type": "stream",
     "text": [
      "Early stopping is applied: no improvement for ['mae', 'pearsonr'] since the last 51 iterations, finish training at iteration 509\n"
     ]
    },
    {
     "name": "stderr",
     "output_type": "stream",
     "text": [
      "Training:   3%|▎         | 6/200 [01:09<37:24, 11.57s/it]\n"
     ]
    },
    {
     "name": "stdout",
     "output_type": "stream",
     "text": [
      "Early stopping is applied: no improvement for ['mae', 'pearsonr'] since the last 51 iterations, finish training at iteration 158\n"
     ]
    },
    {
     "name": "stderr",
     "output_type": "stream",
     "text": [
      "Training:   4%|▍         | 8/200 [01:01<24:24,  7.63s/it]\n"
     ]
    },
    {
     "name": "stdout",
     "output_type": "stream",
     "text": [
      "Early stopping is applied: no improvement for ['mae', 'pearsonr'] since the last 51 iterations, finish training at iteration 207\n"
     ]
    },
    {
     "name": "stderr",
     "output_type": "stream",
     "text": [
      "Training:   7%|▋         | 14/200 [02:02<27:08,  8.75s/it]\n"
     ]
    },
    {
     "name": "stdout",
     "output_type": "stream",
     "text": [
      "Early stopping is applied: no improvement for ['mae', 'pearsonr'] since the last 51 iterations, finish training at iteration 367\n"
     ]
    },
    {
     "name": "stderr",
     "output_type": "stream",
     "text": [
      "Training:   4%|▍         | 9/200 [01:31<32:11, 10.11s/it]\n"
     ]
    },
    {
     "name": "stdout",
     "output_type": "stream",
     "text": [
      "Early stopping is applied: no improvement for ['mae', 'pearsonr'] since the last 51 iterations, finish training at iteration 235\n"
     ]
    },
    {
     "name": "stderr",
     "output_type": "stream",
     "text": [
      "Training:   6%|▌         | 12/200 [02:07<33:23, 10.66s/it]\n"
     ]
    },
    {
     "name": "stdout",
     "output_type": "stream",
     "text": [
      "Early stopping is applied: no improvement for ['mae', 'pearsonr'] since the last 51 iterations, finish training at iteration 312\n"
     ]
    },
    {
     "name": "stderr",
     "output_type": "stream",
     "text": [
      "Training:  10%|█         | 21/200 [02:25<20:42,  6.94s/it]\n"
     ]
    },
    {
     "name": "stdout",
     "output_type": "stream",
     "text": [
      "Early stopping is applied: no improvement for ['mae', 'pearsonr'] since the last 51 iterations, finish training at iteration 554\n"
     ]
    },
    {
     "name": "stderr",
     "output_type": "stream",
     "text": [
      "Training:   9%|▉         | 18/200 [02:46<28:02,  9.24s/it]\n"
     ]
    },
    {
     "name": "stdout",
     "output_type": "stream",
     "text": [
      "Early stopping is applied: no improvement for ['mae', 'pearsonr'] since the last 51 iterations, finish training at iteration 472\n"
     ]
    },
    {
     "name": "stderr",
     "output_type": "stream",
     "text": [
      "Training:   9%|▉         | 18/200 [02:33<25:51,  8.53s/it]\n"
     ]
    },
    {
     "name": "stdout",
     "output_type": "stream",
     "text": [
      "Early stopping is applied: no improvement for ['mae', 'pearsonr'] since the last 51 iterations, finish training at iteration 478\n"
     ]
    },
    {
     "name": "stderr",
     "output_type": "stream",
     "text": [
      "Training:   4%|▍         | 9/200 [01:16<27:11,  8.54s/it]\n"
     ]
    },
    {
     "name": "stdout",
     "output_type": "stream",
     "text": [
      "Early stopping is applied: no improvement for ['mae', 'pearsonr'] since the last 51 iterations, finish training at iteration 239\n"
     ]
    },
    {
     "name": "stderr",
     "output_type": "stream",
     "text": [
      "Training:   8%|▊         | 15/200 [01:35<19:39,  6.38s/it]\n"
     ]
    },
    {
     "name": "stdout",
     "output_type": "stream",
     "text": [
      "Early stopping is applied: no improvement for ['mae', 'pearsonr'] since the last 51 iterations, finish training at iteration 395\n"
     ]
    },
    {
     "name": "stderr",
     "output_type": "stream",
     "text": [
      "Training:   8%|▊         | 17/200 [02:12<23:46,  7.80s/it]\n"
     ]
    },
    {
     "name": "stdout",
     "output_type": "stream",
     "text": [
      "Early stopping is applied: no improvement for ['mae', 'pearsonr'] since the last 51 iterations, finish training at iteration 450\n"
     ]
    },
    {
     "name": "stderr",
     "output_type": "stream",
     "text": [
      "Training:   4%|▍         | 9/200 [01:08<24:11,  7.60s/it]\n"
     ]
    },
    {
     "name": "stdout",
     "output_type": "stream",
     "text": [
      "Early stopping is applied: no improvement for ['mae', 'pearsonr'] since the last 51 iterations, finish training at iteration 240\n"
     ]
    },
    {
     "name": "stderr",
     "output_type": "stream",
     "text": [
      "Training:   5%|▌         | 10/200 [01:01<19:35,  6.19s/it]\n"
     ]
    },
    {
     "name": "stdout",
     "output_type": "stream",
     "text": [
      "Early stopping is applied: no improvement for ['mae', 'pearsonr'] since the last 51 iterations, finish training at iteration 265\n"
     ]
    },
    {
     "name": "stderr",
     "output_type": "stream",
     "text": [
      "Training:  11%|█         | 22/200 [03:12<26:01,  8.77s/it]\n"
     ]
    },
    {
     "name": "stdout",
     "output_type": "stream",
     "text": [
      "Early stopping is applied: no improvement for ['mae', 'pearsonr'] since the last 51 iterations, finish training at iteration 589\n"
     ]
    },
    {
     "name": "stderr",
     "output_type": "stream",
     "text": [
      "Training:   7%|▋         | 14/200 [01:42<22:43,  7.33s/it]\n"
     ]
    },
    {
     "name": "stdout",
     "output_type": "stream",
     "text": [
      "Early stopping is applied: no improvement for ['mae', 'pearsonr'] since the last 51 iterations, finish training at iteration 363\n"
     ]
    },
    {
     "name": "stderr",
     "output_type": "stream",
     "text": [
      "Training:   5%|▌         | 10/200 [01:07<21:17,  6.72s/it]\n"
     ]
    },
    {
     "name": "stdout",
     "output_type": "stream",
     "text": [
      "Early stopping is applied: no improvement for ['mae', 'pearsonr'] since the last 51 iterations, finish training at iteration 253\n"
     ]
    },
    {
     "name": "stderr",
     "output_type": "stream",
     "text": [
      "Training:   4%|▍         | 9/200 [01:09<24:41,  7.75s/it]\n"
     ]
    },
    {
     "name": "stdout",
     "output_type": "stream",
     "text": [
      "Early stopping is applied: no improvement for ['mae', 'pearsonr'] since the last 51 iterations, finish training at iteration 238\n"
     ]
    },
    {
     "name": "stderr",
     "output_type": "stream",
     "text": [
      "Training:  10%|█         | 21/200 [02:57<25:11,  8.45s/it]\n"
     ]
    },
    {
     "name": "stdout",
     "output_type": "stream",
     "text": [
      "Early stopping is applied: no improvement for ['mae', 'pearsonr'] since the last 51 iterations, finish training at iteration 558\n"
     ]
    },
    {
     "name": "stderr",
     "output_type": "stream",
     "text": [
      "Training:   4%|▍         | 8/200 [00:56<22:40,  7.08s/it]\n"
     ]
    },
    {
     "name": "stdout",
     "output_type": "stream",
     "text": [
      "Early stopping is applied: no improvement for ['mae', 'pearsonr'] since the last 51 iterations, finish training at iteration 195\n"
     ]
    },
    {
     "name": "stderr",
     "output_type": "stream",
     "text": [
      "Training:  10%|█         | 20/200 [02:31<22:47,  7.60s/it]\n"
     ]
    },
    {
     "name": "stdout",
     "output_type": "stream",
     "text": [
      "Early stopping is applied: no improvement for ['mae', 'pearsonr'] since the last 51 iterations, finish training at iteration 538\n"
     ]
    },
    {
     "name": "stderr",
     "output_type": "stream",
     "text": [
      "Training:  10%|█         | 20/200 [02:05<18:46,  6.26s/it]\n"
     ]
    },
    {
     "name": "stdout",
     "output_type": "stream",
     "text": [
      "Early stopping is applied: no improvement for ['mae', 'pearsonr'] since the last 51 iterations, finish training at iteration 534\n"
     ]
    },
    {
     "name": "stderr",
     "output_type": "stream",
     "text": [
      "Training:   6%|▌         | 11/200 [01:39<28:28,  9.04s/it]\n"
     ]
    },
    {
     "name": "stdout",
     "output_type": "stream",
     "text": [
      "Early stopping is applied: no improvement for ['mae', 'pearsonr'] since the last 51 iterations, finish training at iteration 293\n"
     ]
    },
    {
     "name": "stderr",
     "output_type": "stream",
     "text": [
      "Training:   8%|▊         | 16/200 [01:55<22:12,  7.24s/it]\n"
     ]
    },
    {
     "name": "stdout",
     "output_type": "stream",
     "text": [
      "Early stopping is applied: no improvement for ['mae', 'pearsonr'] since the last 51 iterations, finish training at iteration 427\n"
     ]
    },
    {
     "name": "stderr",
     "output_type": "stream",
     "text": [
      "Training:   8%|▊         | 17/200 [02:14<24:02,  7.88s/it]\n"
     ]
    },
    {
     "name": "stdout",
     "output_type": "stream",
     "text": [
      "Early stopping is applied: no improvement for ['mae', 'pearsonr'] since the last 51 iterations, finish training at iteration 454\n"
     ]
    },
    {
     "name": "stderr",
     "output_type": "stream",
     "text": [
      "Training:   4%|▍         | 8/200 [01:00<24:12,  7.56s/it]\n"
     ]
    },
    {
     "name": "stdout",
     "output_type": "stream",
     "text": [
      "Early stopping is applied: no improvement for ['mae', 'pearsonr'] since the last 51 iterations, finish training at iteration 215\n"
     ]
    },
    {
     "name": "stderr",
     "output_type": "stream",
     "text": [
      "Training:   6%|▋         | 13/200 [01:51<26:36,  8.54s/it]\n"
     ]
    },
    {
     "name": "stdout",
     "output_type": "stream",
     "text": [
      "Early stopping is applied: no improvement for ['mae', 'pearsonr'] since the last 51 iterations, finish training at iteration 346\n"
     ]
    },
    {
     "name": "stderr",
     "output_type": "stream",
     "text": [
      "Training:  12%|█▏        | 24/200 [03:23<24:53,  8.48s/it]\n"
     ]
    },
    {
     "name": "stdout",
     "output_type": "stream",
     "text": [
      "Early stopping is applied: no improvement for ['mae', 'pearsonr'] since the last 51 iterations, finish training at iteration 639\n"
     ]
    },
    {
     "name": "stderr",
     "output_type": "stream",
     "text": [
      "Training:   8%|▊         | 17/200 [02:01<21:49,  7.16s/it]\n"
     ]
    },
    {
     "name": "stdout",
     "output_type": "stream",
     "text": [
      "Early stopping is applied: no improvement for ['mae', 'pearsonr'] since the last 51 iterations, finish training at iteration 454\n"
     ]
    },
    {
     "name": "stderr",
     "output_type": "stream",
     "text": [
      "Training:   8%|▊         | 15/200 [02:00<24:44,  8.02s/it]\n"
     ]
    },
    {
     "name": "stdout",
     "output_type": "stream",
     "text": [
      "Early stopping is applied: no improvement for ['mae', 'pearsonr'] since the last 51 iterations, finish training at iteration 398\n"
     ]
    },
    {
     "name": "stderr",
     "output_type": "stream",
     "text": [
      "Training:   6%|▌         | 12/200 [01:52<29:16,  9.34s/it]\n"
     ]
    },
    {
     "name": "stdout",
     "output_type": "stream",
     "text": [
      "Early stopping is applied: no improvement for ['mae', 'pearsonr'] since the last 51 iterations, finish training at iteration 315\n"
     ]
    },
    {
     "name": "stderr",
     "output_type": "stream",
     "text": [
      "Training:   8%|▊         | 15/200 [02:11<27:02,  8.77s/it]\n"
     ]
    },
    {
     "name": "stdout",
     "output_type": "stream",
     "text": [
      "Early stopping is applied: no improvement for ['mae', 'pearsonr'] since the last 51 iterations, finish training at iteration 398\n"
     ]
    },
    {
     "name": "stderr",
     "output_type": "stream",
     "text": [
      "Training:  10%|█         | 21/200 [02:28<21:09,  7.09s/it]\n"
     ]
    },
    {
     "name": "stdout",
     "output_type": "stream",
     "text": [
      "Early stopping is applied: no improvement for ['mae', 'pearsonr'] since the last 51 iterations, finish training at iteration 562\n"
     ]
    },
    {
     "name": "stderr",
     "output_type": "stream",
     "text": [
      "Training:  10%|█         | 20/200 [02:48<25:18,  8.43s/it]\n"
     ]
    },
    {
     "name": "stdout",
     "output_type": "stream",
     "text": [
      "Early stopping is applied: no improvement for ['mae', 'pearsonr'] since the last 51 iterations, finish training at iteration 532\n"
     ]
    },
    {
     "name": "stderr",
     "output_type": "stream",
     "text": [
      "Training:  10%|█         | 21/200 [03:10<27:02,  9.06s/it]\n"
     ]
    },
    {
     "name": "stdout",
     "output_type": "stream",
     "text": [
      "Early stopping is applied: no improvement for ['mae', 'pearsonr'] since the last 51 iterations, finish training at iteration 562\n"
     ]
    },
    {
     "name": "stderr",
     "output_type": "stream",
     "text": [
      "Training:   6%|▌         | 11/200 [01:14<22:50,  7.25s/it]"
     ]
    }
   ],
   "source": [
    "summary = []\n",
    "save_folder = 'Test_HLgap_MACCSECFP'\n",
    "N_train = int(prop.shape[0]*0.8)\n",
    "train_batch_size = 512 # based on total number data\n",
    "test_batch_size = 1024 # based on total number data\n",
    "max_epochs = 200\n",
    "\n",
    "for paras, model in generator(num=100, factory=SequentialLinear):\n",
    "    sp = Splitter(prop.shape[0], test_size=prop.shape[0]-N_train)\n",
    "    x_train, x_val, y_train, y_val = sp.split(desc, prop)\n",
    "    \n",
    "    train_dataset = DataLoader(ArrayDataset(x_train, y_train), shuffle=True, batch_size=train_batch_size)\n",
    "    val_dataset = DataLoader(ArrayDataset(x_val, y_val), batch_size=test_batch_size)\n",
    "    \n",
    "    model_name = make_name(model)\n",
    "    persist = Persist(\n",
    "        f'{save_folder}/{model_name}', \n",
    "        # -^- required -^-\n",
    "        \n",
    "        # -v- optional -v-\n",
    "        increment=True, \n",
    "        sync_training_step=True,\n",
    "        model_class=SequentialLinear,\n",
    "        model_params=paras,\n",
    "        author='Someone',\n",
    "        email='someone@email.com',\n",
    "        dataset='Pubchem_ikebata',\n",
    "    )\n",
    "    _ = trainer.extend(persist)\n",
    "    trainer.reset(to=model)\n",
    "    \n",
    "    trainer.fit(training_dataset=train_dataset, validation_dataset=val_dataset, epochs=max_epochs)\n",
    "    persist(splitter=sp, data_indices=prop.index.tolist())  # <-- calling of this method only after the model training\n",
    "    \n",
    "    training_info = trainer.training_info\n",
    "    \n",
    "    summary.append(OrderedDict(\n",
    "        id=model_name,\n",
    "        mae=training_info['val_mae'].min(),\n",
    "        mse=training_info['val_mse'].min(),\n",
    "        r2=training_info['val_r2'].max(),\n",
    "        corr=training_info['val_pearsonr'].max(),\n",
    "        spearman_corr=training_info['val_spearmanr'].max(),\n",
    "    ))\n",
    "    \n",
    "# record the summary of the results\n",
    "summary = pd.DataFrame(summary)\n",
    "summary.to_pickle(f'{save_folder}/summary.pd.xz')\n"
   ]
  },
  {
   "cell_type": "markdown",
   "metadata": {},
   "source": [
    "plot training results"
   ]
  },
  {
   "cell_type": "code",
   "execution_count": 6,
   "metadata": {},
   "outputs": [],
   "source": [
    "# prepare target and plotting folders, and load models\n",
    "import os\n",
    "from xenonpy.model.training import Checker\n",
    "\n",
    "target_folder = 'Test_HLgap_MACCSECFP'\n",
    "save_plots = 'Plots_' + target_folder\n",
    "\n",
    "if not os.path.exists(save_plots):\n",
    "    os.makedirs(save_plots)\n",
    "\n",
    "checkers = []\n",
    "model_list = []\n",
    "tmp_file = os.listdir(target_folder)\n",
    "for tmp in tmp_file:\n",
    "    if os.path.isdir(f'{target_folder}/{tmp}'):\n",
    "        model_list.append(tmp)\n",
    "        checkers.append(Checker(f'{target_folder}/{tmp}'))\n"
   ]
  },
  {
   "cell_type": "code",
   "execution_count": 7,
   "metadata": {},
   "outputs": [],
   "source": [
    "# prediction vs. observation plots (single test trial)\n",
    "import seaborn as sb\n",
    "\n",
    "def draw(y_true, y_pred, y_true_fit=None, y_pred_fit=None, *, prop_name, log_scale=False, file_dir=None, file_name=None):\n",
    "\n",
    "    mask = ~np.isnan(y_pred)\n",
    "    y_true = y_true[mask]\n",
    "    y_pred = y_pred[mask]\n",
    "        \n",
    "    data = pd.DataFrame(dict(Observation=y_true, Prediction=y_pred, dataset=['test'] * len(y_true)))\n",
    "    scores = metrics(data['Observation'], data['Prediction'])\n",
    "    \n",
    "    if y_true_fit is not None and y_pred_fit is not None:\n",
    "        mask = ~np.isnan(y_pred_fit)\n",
    "        y_true_fit = y_true_fit[mask]\n",
    "        y_pred_fit = y_pred_fit[mask]\n",
    "        train_ = pd.DataFrame(dict(Observation=y_true_fit, Prediction=y_pred_fit, dataset=['train'] * len(y_true_fit)))\n",
    "        data = pd.concat([train_, data])\n",
    "\n",
    "    if log_scale:\n",
    "        data = data.apply(lambda c: np.log(c.values) if c.dtype.type is not np.object_ else c, axis=0)\n",
    "#         test_ = test_.apply(lambda c: np.log(c.values) if c.dtype.type is not np.object_ else c, axis=0)\n",
    "\n",
    "\n",
    "\n",
    "#     with sb.set(font_scale=2.5):\n",
    "    g = sb.lmplot(x=\"Prediction\", y=\"Observation\", hue=\"dataset\", ci=None,\n",
    "                  data=data, palette=\"Set1\", height=10, legend=False,  markers=[\".\", \"o\"],\n",
    "                  scatter_kws={'s': 25, 'alpha': 0.7}, hue_order=['train', 'test'])\n",
    "    \n",
    "    ax = plt.gca()\n",
    "    tmp = [data[\"Prediction\"].max(), data[\"Prediction\"].min(), data[\"Observation\"].max(), data[\"Observation\"].max()]\n",
    "    min_, max_ = np.min(tmp), np.max(tmp)\n",
    "    margin = (max_- min_) / 15\n",
    "    min_ = min_ - margin\n",
    "    max_ = max_ + margin\n",
    "    ax.set_xlim(min_, max_)\n",
    "    ax.set_ylim(min_, max_)\n",
    "    ax.set_xlabel(ax.get_xlabel(), fontsize='xx-large')\n",
    "    ax.set_ylabel(ax.get_ylabel(), fontsize='xx-large')\n",
    "    ax.tick_params(axis='both', which='major', labelsize='xx-large')\n",
    "    ax.plot((min_, max_), (min_, max_), ':', color='gray')\n",
    "    ax.set_title(prop_name, fontsize='xx-large')\n",
    "    if log_scale:\n",
    "        ax.set_title(prop_name + ' (log scale)', fontsize='xx-large')\n",
    "    ax.text(0.98, 0.03,\n",
    "            'MAE: %.5f\\nRMSE: %.5f\\nPearsonR: %.5f\\nSpearmanR: %.5f' % (scores['mae'], scores['rmse'], scores['pearsonr'], scores['spearmanr']),\n",
    "            transform=ax.transAxes, horizontalalignment='right', fontsize='xx-large')\n",
    "\n",
    "    ax.legend(loc='upper left', markerscale=2, fancybox=True, shadow=True, frameon=True, facecolor='w', fontsize=18)\n",
    "\n",
    "    plt.tight_layout()\n",
    "    if file_dir and file_name:\n",
    "        if log_scale:\n",
    "            plt.savefig(file_dir + '/' + file_name + '_log_scale.png', dpi=300, bbox_inches='tight')\n",
    "        else:\n",
    "            plt.savefig(file_dir + '/' + file_name + '.png', dip=300, bbox_inches='tight')\n",
    "    else:\n",
    "        print('Missing directory and/or file name information!')\n",
    "        \n",
    "# calculating basic statistics for predictions\n",
    "def metrics(y_true, y_pred, ignore_nan=True):\n",
    "    from sklearn.metrics import mean_absolute_error, r2_score, mean_squared_error\n",
    "    from scipy.stats import pearsonr, spearmanr\n",
    "    \n",
    "    if ignore_nan:\n",
    "        mask = ~np.isnan(y_pred)\n",
    "        y_true = y_true[mask]\n",
    "        y_pred = y_pred[mask]\n",
    "    \n",
    "    mae = mean_absolute_error(y_true, y_pred)\n",
    "    rmse = np.sqrt(mean_squared_error(y_true, y_pred))\n",
    "    r2 = r2_score(y_true, y_pred)\n",
    "    pr, p_val = pearsonr(y_true, y_pred)\n",
    "    sr, _ = spearmanr(y_true, y_pred)\n",
    "    return dict(\n",
    "        mae=mae,\n",
    "        rmse=rmse,\n",
    "        r2=r2,\n",
    "        pearsonr=pr,\n",
    "        spearmanr=sr,\n",
    "        p_value=p_val\n",
    "    )"
   ]
  },
  {
   "cell_type": "code",
   "execution_count": 9,
   "metadata": {},
   "outputs": [
    {
     "ename": "RuntimeError",
     "evalue": "size mismatch, m1: [1024 x 10407], m2: [567 x 502] at /Users/distiller/project/conda/conda-bld/pytorch_1556653464916/work/aten/src/TH/generic/THTensorMath.cpp:961",
     "output_type": "error",
     "traceback": [
      "\u001b[0;31m---------------------------------------------------------------------------\u001b[0m",
      "\u001b[0;31mRuntimeError\u001b[0m                              Traceback (most recent call last)",
      "\u001b[0;32m<ipython-input-9-0e7482345d9b>\u001b[0m in \u001b[0;36m<module>\u001b[0;34m\u001b[0m\n\u001b[1;32m     22\u001b[0m     \u001b[0mval_dataset\u001b[0m \u001b[0;34m=\u001b[0m \u001b[0mDataLoader\u001b[0m\u001b[0;34m(\u001b[0m\u001b[0mArrayDataset\u001b[0m\u001b[0;34m(\u001b[0m\u001b[0mx_val\u001b[0m\u001b[0;34m,\u001b[0m \u001b[0my_val\u001b[0m\u001b[0;34m)\u001b[0m\u001b[0;34m,\u001b[0m \u001b[0mbatch_size\u001b[0m\u001b[0;34m=\u001b[0m\u001b[0mtest_batch_size\u001b[0m\u001b[0;34m)\u001b[0m\u001b[0;34m\u001b[0m\u001b[0;34m\u001b[0m\u001b[0m\n\u001b[1;32m     23\u001b[0m \u001b[0;34m\u001b[0m\u001b[0m\n\u001b[0;32m---> 24\u001b[0;31m     \u001b[0my_pred\u001b[0m\u001b[0;34m,\u001b[0m \u001b[0my_true\u001b[0m \u001b[0;34m=\u001b[0m \u001b[0mtrainer\u001b[0m\u001b[0;34m.\u001b[0m\u001b[0mpredict\u001b[0m\u001b[0;34m(\u001b[0m\u001b[0mdataset\u001b[0m\u001b[0;34m=\u001b[0m\u001b[0mval_dataset\u001b[0m\u001b[0;34m,\u001b[0m \u001b[0mcheckpoint\u001b[0m\u001b[0;34m=\u001b[0m\u001b[0;34m'mae_1'\u001b[0m\u001b[0;34m)\u001b[0m\u001b[0;34m\u001b[0m\u001b[0;34m\u001b[0m\u001b[0m\n\u001b[0m\u001b[1;32m     25\u001b[0m     \u001b[0my_fit_pred\u001b[0m\u001b[0;34m,\u001b[0m \u001b[0my_fit_true\u001b[0m \u001b[0;34m=\u001b[0m \u001b[0mtrainer\u001b[0m\u001b[0;34m.\u001b[0m\u001b[0mpredict\u001b[0m\u001b[0;34m(\u001b[0m\u001b[0mdataset\u001b[0m\u001b[0;34m=\u001b[0m\u001b[0mtrain_dataset\u001b[0m\u001b[0;34m,\u001b[0m \u001b[0mcheckpoint\u001b[0m\u001b[0;34m=\u001b[0m\u001b[0;34m'mae_1'\u001b[0m\u001b[0;34m)\u001b[0m\u001b[0;34m\u001b[0m\u001b[0;34m\u001b[0m\u001b[0m\n\u001b[1;32m     26\u001b[0m     \u001b[0mdraw\u001b[0m\u001b[0;34m(\u001b[0m\u001b[0my_true\u001b[0m\u001b[0;34m,\u001b[0m \u001b[0my_pred\u001b[0m\u001b[0;34m,\u001b[0m \u001b[0my_fit_true\u001b[0m\u001b[0;34m,\u001b[0m \u001b[0my_fit_pred\u001b[0m\u001b[0;34m,\u001b[0m \u001b[0mprop_name\u001b[0m\u001b[0;34m=\u001b[0m\u001b[0;34m'HL gap'\u001b[0m\u001b[0;34m,\u001b[0m\u001b[0mfile_dir\u001b[0m\u001b[0;34m=\u001b[0m\u001b[0msave_plots\u001b[0m\u001b[0;34m,\u001b[0m \u001b[0mfile_name\u001b[0m\u001b[0;34m=\u001b[0m\u001b[0;34m'P2O_'\u001b[0m\u001b[0;34m+\u001b[0m\u001b[0mmodel_list\u001b[0m\u001b[0;34m[\u001b[0m\u001b[0mi\u001b[0m\u001b[0;34m]\u001b[0m\u001b[0;34m)\u001b[0m\u001b[0;34m\u001b[0m\u001b[0;34m\u001b[0m\u001b[0m\n",
      "\u001b[0;32m~/anaconda/envs/xepy37_test/lib/python3.7/site-packages/xenonpy/utils/useful_cls.py\u001b[0m in \u001b[0;36mfn_\u001b[0;34m(self, *args, **kwargs)\u001b[0m\n\u001b[1;32m    100\u001b[0m                 \u001b[0mself\u001b[0m\u001b[0;34m.\u001b[0m\u001b[0m_timer\u001b[0m\u001b[0;34m.\u001b[0m\u001b[0mstart\u001b[0m\u001b[0;34m(\u001b[0m\u001b[0mfn\u001b[0m\u001b[0;34m.\u001b[0m\u001b[0m__name__\u001b[0m\u001b[0;34m)\u001b[0m\u001b[0;34m\u001b[0m\u001b[0;34m\u001b[0m\u001b[0m\n\u001b[1;32m    101\u001b[0m                 \u001b[0;32mtry\u001b[0m\u001b[0;34m:\u001b[0m\u001b[0;34m\u001b[0m\u001b[0;34m\u001b[0m\u001b[0m\n\u001b[0;32m--> 102\u001b[0;31m                     \u001b[0mrt\u001b[0m \u001b[0;34m=\u001b[0m \u001b[0mfn\u001b[0m\u001b[0;34m(\u001b[0m\u001b[0mself\u001b[0m\u001b[0;34m,\u001b[0m \u001b[0;34m*\u001b[0m\u001b[0margs\u001b[0m\u001b[0;34m,\u001b[0m \u001b[0;34m**\u001b[0m\u001b[0mkwargs\u001b[0m\u001b[0;34m)\u001b[0m\u001b[0;34m\u001b[0m\u001b[0;34m\u001b[0m\u001b[0m\n\u001b[0m\u001b[1;32m    103\u001b[0m                 \u001b[0;32mfinally\u001b[0m\u001b[0;34m:\u001b[0m\u001b[0;34m\u001b[0m\u001b[0;34m\u001b[0m\u001b[0m\n\u001b[1;32m    104\u001b[0m                     \u001b[0mself\u001b[0m\u001b[0;34m.\u001b[0m\u001b[0m_timer\u001b[0m\u001b[0;34m.\u001b[0m\u001b[0mstop\u001b[0m\u001b[0;34m(\u001b[0m\u001b[0mfn\u001b[0m\u001b[0;34m.\u001b[0m\u001b[0m__name__\u001b[0m\u001b[0;34m)\u001b[0m\u001b[0;34m\u001b[0m\u001b[0;34m\u001b[0m\u001b[0m\n",
      "\u001b[0;32m~/anaconda/envs/xepy37_test/lib/python3.7/site-packages/xenonpy/model/training/trainer.py\u001b[0m in \u001b[0;36mpredict\u001b[0;34m(self, x_in, y_true, dataset, checkpoint, **model_params)\u001b[0m\n\u001b[1;32m    581\u001b[0m             \u001b[0my_trues\u001b[0m \u001b[0;34m=\u001b[0m \u001b[0;34m[\u001b[0m\u001b[0;34m]\u001b[0m\u001b[0;34m\u001b[0m\u001b[0;34m\u001b[0m\u001b[0m\n\u001b[1;32m    582\u001b[0m             \u001b[0;32mfor\u001b[0m \u001b[0mx_in\u001b[0m\u001b[0;34m,\u001b[0m \u001b[0my_true\u001b[0m \u001b[0;32min\u001b[0m \u001b[0mdataset\u001b[0m\u001b[0;34m:\u001b[0m\u001b[0;34m\u001b[0m\u001b[0;34m\u001b[0m\u001b[0m\n\u001b[0;32m--> 583\u001b[0;31m                 \u001b[0my_pred\u001b[0m\u001b[0;34m,\u001b[0m \u001b[0my_true\u001b[0m \u001b[0;34m=\u001b[0m \u001b[0m_predict\u001b[0m\u001b[0;34m(\u001b[0m\u001b[0mx_in\u001b[0m\u001b[0;34m,\u001b[0m \u001b[0my_true\u001b[0m\u001b[0;34m)\u001b[0m\u001b[0;34m\u001b[0m\u001b[0;34m\u001b[0m\u001b[0m\n\u001b[0m\u001b[1;32m    584\u001b[0m                 \u001b[0my_preds\u001b[0m\u001b[0;34m.\u001b[0m\u001b[0mappend\u001b[0m\u001b[0;34m(\u001b[0m\u001b[0my_pred\u001b[0m\u001b[0;34m)\u001b[0m\u001b[0;34m\u001b[0m\u001b[0;34m\u001b[0m\u001b[0m\n\u001b[1;32m    585\u001b[0m                 \u001b[0my_trues\u001b[0m\u001b[0;34m.\u001b[0m\u001b[0mappend\u001b[0m\u001b[0;34m(\u001b[0m\u001b[0my_true\u001b[0m\u001b[0;34m)\u001b[0m\u001b[0;34m\u001b[0m\u001b[0;34m\u001b[0m\u001b[0m\n",
      "\u001b[0;32m~/anaconda/envs/xepy37_test/lib/python3.7/site-packages/xenonpy/model/training/trainer.py\u001b[0m in \u001b[0;36m_predict\u001b[0;34m(x_, y_)\u001b[0m\n\u001b[1;32m    561\u001b[0m                 \u001b[0mmodel\u001b[0m \u001b[0;34m=\u001b[0m \u001b[0mdeepcopy\u001b[0m\u001b[0;34m(\u001b[0m\u001b[0mself\u001b[0m\u001b[0;34m.\u001b[0m\u001b[0m_model\u001b[0m\u001b[0;34m)\u001b[0m\u001b[0;34m.\u001b[0m\u001b[0mto\u001b[0m\u001b[0;34m(\u001b[0m\u001b[0mself\u001b[0m\u001b[0;34m.\u001b[0m\u001b[0mdevice\u001b[0m\u001b[0;34m)\u001b[0m\u001b[0;34m\u001b[0m\u001b[0;34m\u001b[0m\u001b[0m\n\u001b[1;32m    562\u001b[0m                 \u001b[0mmodel\u001b[0m\u001b[0;34m.\u001b[0m\u001b[0mload_state_dict\u001b[0m\u001b[0;34m(\u001b[0m\u001b[0mcp\u001b[0m\u001b[0;34m.\u001b[0m\u001b[0mmodel_state\u001b[0m\u001b[0;34m)\u001b[0m\u001b[0;34m\u001b[0m\u001b[0;34m\u001b[0m\u001b[0m\n\u001b[0;32m--> 563\u001b[0;31m                 \u001b[0my_p_\u001b[0m \u001b[0;34m=\u001b[0m \u001b[0mmodel\u001b[0m\u001b[0;34m(\u001b[0m\u001b[0;34m*\u001b[0m\u001b[0mx_\u001b[0m\u001b[0;34m,\u001b[0m \u001b[0;34m**\u001b[0m\u001b[0mmodel_params\u001b[0m\u001b[0;34m)\u001b[0m\u001b[0;34m\u001b[0m\u001b[0;34m\u001b[0m\u001b[0m\n\u001b[0m\u001b[1;32m    564\u001b[0m             \u001b[0;32melse\u001b[0m\u001b[0;34m:\u001b[0m\u001b[0;34m\u001b[0m\u001b[0;34m\u001b[0m\u001b[0m\n\u001b[1;32m    565\u001b[0m                 \u001b[0my_p_\u001b[0m \u001b[0;34m=\u001b[0m \u001b[0mself\u001b[0m\u001b[0;34m.\u001b[0m\u001b[0m_model\u001b[0m\u001b[0;34m(\u001b[0m\u001b[0;34m*\u001b[0m\u001b[0mx_\u001b[0m\u001b[0;34m,\u001b[0m \u001b[0;34m**\u001b[0m\u001b[0mmodel_params\u001b[0m\u001b[0;34m)\u001b[0m\u001b[0;34m\u001b[0m\u001b[0;34m\u001b[0m\u001b[0m\n",
      "\u001b[0;32m~/anaconda/envs/xepy37_test/lib/python3.7/site-packages/torch/nn/modules/module.py\u001b[0m in \u001b[0;36m__call__\u001b[0;34m(self, *input, **kwargs)\u001b[0m\n\u001b[1;32m    491\u001b[0m             \u001b[0mresult\u001b[0m \u001b[0;34m=\u001b[0m \u001b[0mself\u001b[0m\u001b[0;34m.\u001b[0m\u001b[0m_slow_forward\u001b[0m\u001b[0;34m(\u001b[0m\u001b[0;34m*\u001b[0m\u001b[0minput\u001b[0m\u001b[0;34m,\u001b[0m \u001b[0;34m**\u001b[0m\u001b[0mkwargs\u001b[0m\u001b[0;34m)\u001b[0m\u001b[0;34m\u001b[0m\u001b[0;34m\u001b[0m\u001b[0m\n\u001b[1;32m    492\u001b[0m         \u001b[0;32melse\u001b[0m\u001b[0;34m:\u001b[0m\u001b[0;34m\u001b[0m\u001b[0;34m\u001b[0m\u001b[0m\n\u001b[0;32m--> 493\u001b[0;31m             \u001b[0mresult\u001b[0m \u001b[0;34m=\u001b[0m \u001b[0mself\u001b[0m\u001b[0;34m.\u001b[0m\u001b[0mforward\u001b[0m\u001b[0;34m(\u001b[0m\u001b[0;34m*\u001b[0m\u001b[0minput\u001b[0m\u001b[0;34m,\u001b[0m \u001b[0;34m**\u001b[0m\u001b[0mkwargs\u001b[0m\u001b[0;34m)\u001b[0m\u001b[0;34m\u001b[0m\u001b[0;34m\u001b[0m\u001b[0m\n\u001b[0m\u001b[1;32m    494\u001b[0m         \u001b[0;32mfor\u001b[0m \u001b[0mhook\u001b[0m \u001b[0;32min\u001b[0m \u001b[0mself\u001b[0m\u001b[0;34m.\u001b[0m\u001b[0m_forward_hooks\u001b[0m\u001b[0;34m.\u001b[0m\u001b[0mvalues\u001b[0m\u001b[0;34m(\u001b[0m\u001b[0;34m)\u001b[0m\u001b[0;34m:\u001b[0m\u001b[0;34m\u001b[0m\u001b[0;34m\u001b[0m\u001b[0m\n\u001b[1;32m    495\u001b[0m             \u001b[0mhook_result\u001b[0m \u001b[0;34m=\u001b[0m \u001b[0mhook\u001b[0m\u001b[0;34m(\u001b[0m\u001b[0mself\u001b[0m\u001b[0;34m,\u001b[0m \u001b[0minput\u001b[0m\u001b[0;34m,\u001b[0m \u001b[0mresult\u001b[0m\u001b[0;34m)\u001b[0m\u001b[0;34m\u001b[0m\u001b[0;34m\u001b[0m\u001b[0m\n",
      "\u001b[0;32m~/anaconda/envs/xepy37_test/lib/python3.7/site-packages/xenonpy/model/sequential.py\u001b[0m in \u001b[0;36mforward\u001b[0;34m(self, x)\u001b[0m\n\u001b[1;32m    137\u001b[0m     \u001b[0;32mdef\u001b[0m \u001b[0mforward\u001b[0m\u001b[0;34m(\u001b[0m\u001b[0mself\u001b[0m\u001b[0;34m,\u001b[0m \u001b[0mx\u001b[0m\u001b[0;34m:\u001b[0m \u001b[0mAny\u001b[0m\u001b[0;34m)\u001b[0m \u001b[0;34m->\u001b[0m \u001b[0mAny\u001b[0m\u001b[0;34m:\u001b[0m\u001b[0;34m\u001b[0m\u001b[0;34m\u001b[0m\u001b[0m\n\u001b[1;32m    138\u001b[0m         \u001b[0;32mfor\u001b[0m \u001b[0mi\u001b[0m \u001b[0;32min\u001b[0m \u001b[0mrange\u001b[0m\u001b[0;34m(\u001b[0m\u001b[0mself\u001b[0m\u001b[0;34m.\u001b[0m\u001b[0m_h_layers\u001b[0m\u001b[0;34m)\u001b[0m\u001b[0;34m:\u001b[0m\u001b[0;34m\u001b[0m\u001b[0;34m\u001b[0m\u001b[0m\n\u001b[0;32m--> 139\u001b[0;31m             \u001b[0mx\u001b[0m \u001b[0;34m=\u001b[0m \u001b[0mgetattr\u001b[0m\u001b[0;34m(\u001b[0m\u001b[0mself\u001b[0m\u001b[0;34m,\u001b[0m \u001b[0;34mf'layer_{i}'\u001b[0m\u001b[0;34m)\u001b[0m\u001b[0;34m(\u001b[0m\u001b[0mx\u001b[0m\u001b[0;34m)\u001b[0m\u001b[0;34m\u001b[0m\u001b[0;34m\u001b[0m\u001b[0m\n\u001b[0m\u001b[1;32m    140\u001b[0m         \u001b[0;32mreturn\u001b[0m \u001b[0mself\u001b[0m\u001b[0;34m.\u001b[0m\u001b[0moutput\u001b[0m\u001b[0;34m(\u001b[0m\u001b[0mx\u001b[0m\u001b[0;34m)\u001b[0m\u001b[0;34m\u001b[0m\u001b[0;34m\u001b[0m\u001b[0m\n",
      "\u001b[0;32m~/anaconda/envs/xepy37_test/lib/python3.7/site-packages/torch/nn/modules/module.py\u001b[0m in \u001b[0;36m__call__\u001b[0;34m(self, *input, **kwargs)\u001b[0m\n\u001b[1;32m    491\u001b[0m             \u001b[0mresult\u001b[0m \u001b[0;34m=\u001b[0m \u001b[0mself\u001b[0m\u001b[0;34m.\u001b[0m\u001b[0m_slow_forward\u001b[0m\u001b[0;34m(\u001b[0m\u001b[0;34m*\u001b[0m\u001b[0minput\u001b[0m\u001b[0;34m,\u001b[0m \u001b[0;34m**\u001b[0m\u001b[0mkwargs\u001b[0m\u001b[0;34m)\u001b[0m\u001b[0;34m\u001b[0m\u001b[0;34m\u001b[0m\u001b[0m\n\u001b[1;32m    492\u001b[0m         \u001b[0;32melse\u001b[0m\u001b[0;34m:\u001b[0m\u001b[0;34m\u001b[0m\u001b[0;34m\u001b[0m\u001b[0m\n\u001b[0;32m--> 493\u001b[0;31m             \u001b[0mresult\u001b[0m \u001b[0;34m=\u001b[0m \u001b[0mself\u001b[0m\u001b[0;34m.\u001b[0m\u001b[0mforward\u001b[0m\u001b[0;34m(\u001b[0m\u001b[0;34m*\u001b[0m\u001b[0minput\u001b[0m\u001b[0;34m,\u001b[0m \u001b[0;34m**\u001b[0m\u001b[0mkwargs\u001b[0m\u001b[0;34m)\u001b[0m\u001b[0;34m\u001b[0m\u001b[0;34m\u001b[0m\u001b[0m\n\u001b[0m\u001b[1;32m    494\u001b[0m         \u001b[0;32mfor\u001b[0m \u001b[0mhook\u001b[0m \u001b[0;32min\u001b[0m \u001b[0mself\u001b[0m\u001b[0;34m.\u001b[0m\u001b[0m_forward_hooks\u001b[0m\u001b[0;34m.\u001b[0m\u001b[0mvalues\u001b[0m\u001b[0;34m(\u001b[0m\u001b[0;34m)\u001b[0m\u001b[0;34m:\u001b[0m\u001b[0;34m\u001b[0m\u001b[0;34m\u001b[0m\u001b[0m\n\u001b[1;32m    495\u001b[0m             \u001b[0mhook_result\u001b[0m \u001b[0;34m=\u001b[0m \u001b[0mhook\u001b[0m\u001b[0;34m(\u001b[0m\u001b[0mself\u001b[0m\u001b[0;34m,\u001b[0m \u001b[0minput\u001b[0m\u001b[0;34m,\u001b[0m \u001b[0mresult\u001b[0m\u001b[0;34m)\u001b[0m\u001b[0;34m\u001b[0m\u001b[0;34m\u001b[0m\u001b[0m\n",
      "\u001b[0;32m~/anaconda/envs/xepy37_test/lib/python3.7/site-packages/xenonpy/model/sequential.py\u001b[0m in \u001b[0;36mforward\u001b[0;34m(self, x)\u001b[0m\n\u001b[1;32m     43\u001b[0m \u001b[0;34m\u001b[0m\u001b[0m\n\u001b[1;32m     44\u001b[0m     \u001b[0;32mdef\u001b[0m \u001b[0mforward\u001b[0m\u001b[0;34m(\u001b[0m\u001b[0mself\u001b[0m\u001b[0;34m,\u001b[0m \u001b[0mx\u001b[0m\u001b[0;34m)\u001b[0m\u001b[0;34m:\u001b[0m\u001b[0;34m\u001b[0m\u001b[0;34m\u001b[0m\u001b[0m\n\u001b[0;32m---> 45\u001b[0;31m         \u001b[0m_out\u001b[0m \u001b[0;34m=\u001b[0m \u001b[0mself\u001b[0m\u001b[0;34m.\u001b[0m\u001b[0mlinear\u001b[0m\u001b[0;34m(\u001b[0m\u001b[0mx\u001b[0m\u001b[0;34m)\u001b[0m\u001b[0;34m\u001b[0m\u001b[0;34m\u001b[0m\u001b[0m\n\u001b[0m\u001b[1;32m     46\u001b[0m         \u001b[0;32mif\u001b[0m \u001b[0mself\u001b[0m\u001b[0;34m.\u001b[0m\u001b[0mdropout\u001b[0m\u001b[0;34m:\u001b[0m\u001b[0;34m\u001b[0m\u001b[0;34m\u001b[0m\u001b[0m\n\u001b[1;32m     47\u001b[0m             \u001b[0m_out\u001b[0m \u001b[0;34m=\u001b[0m \u001b[0mself\u001b[0m\u001b[0;34m.\u001b[0m\u001b[0mdropout\u001b[0m\u001b[0;34m(\u001b[0m\u001b[0m_out\u001b[0m\u001b[0;34m)\u001b[0m\u001b[0;34m\u001b[0m\u001b[0;34m\u001b[0m\u001b[0m\n",
      "\u001b[0;32m~/anaconda/envs/xepy37_test/lib/python3.7/site-packages/torch/nn/modules/module.py\u001b[0m in \u001b[0;36m__call__\u001b[0;34m(self, *input, **kwargs)\u001b[0m\n\u001b[1;32m    491\u001b[0m             \u001b[0mresult\u001b[0m \u001b[0;34m=\u001b[0m \u001b[0mself\u001b[0m\u001b[0;34m.\u001b[0m\u001b[0m_slow_forward\u001b[0m\u001b[0;34m(\u001b[0m\u001b[0;34m*\u001b[0m\u001b[0minput\u001b[0m\u001b[0;34m,\u001b[0m \u001b[0;34m**\u001b[0m\u001b[0mkwargs\u001b[0m\u001b[0;34m)\u001b[0m\u001b[0;34m\u001b[0m\u001b[0;34m\u001b[0m\u001b[0m\n\u001b[1;32m    492\u001b[0m         \u001b[0;32melse\u001b[0m\u001b[0;34m:\u001b[0m\u001b[0;34m\u001b[0m\u001b[0;34m\u001b[0m\u001b[0m\n\u001b[0;32m--> 493\u001b[0;31m             \u001b[0mresult\u001b[0m \u001b[0;34m=\u001b[0m \u001b[0mself\u001b[0m\u001b[0;34m.\u001b[0m\u001b[0mforward\u001b[0m\u001b[0;34m(\u001b[0m\u001b[0;34m*\u001b[0m\u001b[0minput\u001b[0m\u001b[0;34m,\u001b[0m \u001b[0;34m**\u001b[0m\u001b[0mkwargs\u001b[0m\u001b[0;34m)\u001b[0m\u001b[0;34m\u001b[0m\u001b[0;34m\u001b[0m\u001b[0m\n\u001b[0m\u001b[1;32m    494\u001b[0m         \u001b[0;32mfor\u001b[0m \u001b[0mhook\u001b[0m \u001b[0;32min\u001b[0m \u001b[0mself\u001b[0m\u001b[0;34m.\u001b[0m\u001b[0m_forward_hooks\u001b[0m\u001b[0;34m.\u001b[0m\u001b[0mvalues\u001b[0m\u001b[0;34m(\u001b[0m\u001b[0;34m)\u001b[0m\u001b[0;34m:\u001b[0m\u001b[0;34m\u001b[0m\u001b[0;34m\u001b[0m\u001b[0m\n\u001b[1;32m    495\u001b[0m             \u001b[0mhook_result\u001b[0m \u001b[0;34m=\u001b[0m \u001b[0mhook\u001b[0m\u001b[0;34m(\u001b[0m\u001b[0mself\u001b[0m\u001b[0;34m,\u001b[0m \u001b[0minput\u001b[0m\u001b[0;34m,\u001b[0m \u001b[0mresult\u001b[0m\u001b[0;34m)\u001b[0m\u001b[0;34m\u001b[0m\u001b[0;34m\u001b[0m\u001b[0m\n",
      "\u001b[0;32m~/anaconda/envs/xepy37_test/lib/python3.7/site-packages/torch/nn/modules/linear.py\u001b[0m in \u001b[0;36mforward\u001b[0;34m(self, input)\u001b[0m\n\u001b[1;32m     90\u001b[0m     \u001b[0;34m@\u001b[0m\u001b[0mweak_script_method\u001b[0m\u001b[0;34m\u001b[0m\u001b[0;34m\u001b[0m\u001b[0m\n\u001b[1;32m     91\u001b[0m     \u001b[0;32mdef\u001b[0m \u001b[0mforward\u001b[0m\u001b[0;34m(\u001b[0m\u001b[0mself\u001b[0m\u001b[0;34m,\u001b[0m \u001b[0minput\u001b[0m\u001b[0;34m)\u001b[0m\u001b[0;34m:\u001b[0m\u001b[0;34m\u001b[0m\u001b[0;34m\u001b[0m\u001b[0m\n\u001b[0;32m---> 92\u001b[0;31m         \u001b[0;32mreturn\u001b[0m \u001b[0mF\u001b[0m\u001b[0;34m.\u001b[0m\u001b[0mlinear\u001b[0m\u001b[0;34m(\u001b[0m\u001b[0minput\u001b[0m\u001b[0;34m,\u001b[0m \u001b[0mself\u001b[0m\u001b[0;34m.\u001b[0m\u001b[0mweight\u001b[0m\u001b[0;34m,\u001b[0m \u001b[0mself\u001b[0m\u001b[0;34m.\u001b[0m\u001b[0mbias\u001b[0m\u001b[0;34m)\u001b[0m\u001b[0;34m\u001b[0m\u001b[0;34m\u001b[0m\u001b[0m\n\u001b[0m\u001b[1;32m     93\u001b[0m \u001b[0;34m\u001b[0m\u001b[0m\n\u001b[1;32m     94\u001b[0m     \u001b[0;32mdef\u001b[0m \u001b[0mextra_repr\u001b[0m\u001b[0;34m(\u001b[0m\u001b[0mself\u001b[0m\u001b[0;34m)\u001b[0m\u001b[0;34m:\u001b[0m\u001b[0;34m\u001b[0m\u001b[0;34m\u001b[0m\u001b[0m\n",
      "\u001b[0;32m~/anaconda/envs/xepy37_test/lib/python3.7/site-packages/torch/nn/functional.py\u001b[0m in \u001b[0;36mlinear\u001b[0;34m(input, weight, bias)\u001b[0m\n\u001b[1;32m   1404\u001b[0m     \u001b[0;32mif\u001b[0m \u001b[0minput\u001b[0m\u001b[0;34m.\u001b[0m\u001b[0mdim\u001b[0m\u001b[0;34m(\u001b[0m\u001b[0;34m)\u001b[0m \u001b[0;34m==\u001b[0m \u001b[0;36m2\u001b[0m \u001b[0;32mand\u001b[0m \u001b[0mbias\u001b[0m \u001b[0;32mis\u001b[0m \u001b[0;32mnot\u001b[0m \u001b[0;32mNone\u001b[0m\u001b[0;34m:\u001b[0m\u001b[0;34m\u001b[0m\u001b[0;34m\u001b[0m\u001b[0m\n\u001b[1;32m   1405\u001b[0m         \u001b[0;31m# fused op is marginally faster\u001b[0m\u001b[0;34m\u001b[0m\u001b[0;34m\u001b[0m\u001b[0;34m\u001b[0m\u001b[0m\n\u001b[0;32m-> 1406\u001b[0;31m         \u001b[0mret\u001b[0m \u001b[0;34m=\u001b[0m \u001b[0mtorch\u001b[0m\u001b[0;34m.\u001b[0m\u001b[0maddmm\u001b[0m\u001b[0;34m(\u001b[0m\u001b[0mbias\u001b[0m\u001b[0;34m,\u001b[0m \u001b[0minput\u001b[0m\u001b[0;34m,\u001b[0m \u001b[0mweight\u001b[0m\u001b[0;34m.\u001b[0m\u001b[0mt\u001b[0m\u001b[0;34m(\u001b[0m\u001b[0;34m)\u001b[0m\u001b[0;34m)\u001b[0m\u001b[0;34m\u001b[0m\u001b[0;34m\u001b[0m\u001b[0m\n\u001b[0m\u001b[1;32m   1407\u001b[0m     \u001b[0;32melse\u001b[0m\u001b[0;34m:\u001b[0m\u001b[0;34m\u001b[0m\u001b[0;34m\u001b[0m\u001b[0m\n\u001b[1;32m   1408\u001b[0m         \u001b[0moutput\u001b[0m \u001b[0;34m=\u001b[0m \u001b[0minput\u001b[0m\u001b[0;34m.\u001b[0m\u001b[0mmatmul\u001b[0m\u001b[0;34m(\u001b[0m\u001b[0mweight\u001b[0m\u001b[0;34m.\u001b[0m\u001b[0mt\u001b[0m\u001b[0;34m(\u001b[0m\u001b[0;34m)\u001b[0m\u001b[0;34m)\u001b[0m\u001b[0;34m\u001b[0m\u001b[0;34m\u001b[0m\u001b[0m\n",
      "\u001b[0;31mRuntimeError\u001b[0m: size mismatch, m1: [1024 x 10407], m2: [567 x 502] at /Users/distiller/project/conda/conda-bld/pytorch_1556653464916/work/aten/src/TH/generic/THTensorMath.cpp:961"
     ]
    },
    {
     "data": {
      "image/png": "[encoded data removed]",
      "text/plain": [
       "<Figure size 1500x750 with 1 Axes>"
      ]
     },
     "metadata": {
      "needs_background": "light"
     },
     "output_type": "display_data"
    }
   ],
   "source": [
    "# plot training loss (based on the best mae among the three traced models)\n",
    "import matplotlib.pyplot as plt\n",
    "from xenonpy.model.training import Trainer\n",
    "from xenonpy.model.training.dataset import ArrayDataset\n",
    "from torch.utils.data import DataLoader\n",
    "from xenonpy.model.training.extension import TensorConverter\n",
    "\n",
    "train_batch_size = 512 # based on total number data\n",
    "test_batch_size = 1024 # based on total number data\n",
    "\n",
    "for i, checker in enumerate(checkers):\n",
    "    # plot training loss\n",
    "    fig, ax = plt.subplots(figsize=(10, 5), dpi=150)\n",
    "    trainer = Trainer.load(from_=checker).extend(TensorConverter())\n",
    "    _ = trainer.training_info.plot(y=['train_mse_loss', 'val_mse'], ax=ax)\n",
    "    fig.savefig(f'{save_plots}/Train_{model_list[i]}')\n",
    "    \n",
    "    # plot observation vs. prediction (based on the best mae among the three traced models)\n",
    "    sp = checker['splitter']\n",
    "    x_train, x_val, y_train, y_val = sp.split(desc, prop)\n",
    "    \n",
    "    train_dataset = DataLoader(ArrayDataset(x_train, y_train), shuffle=True, batch_size=train_batch_size)\n",
    "    val_dataset = DataLoader(ArrayDataset(x_val, y_val), batch_size=test_batch_size)\n",
    "    \n",
    "    y_pred, y_true = trainer.predict(dataset=val_dataset, checkpoint='mae_1')\n",
    "    y_fit_pred, y_fit_true = trainer.predict(dataset=train_dataset, checkpoint='mae_1')\n",
    "    draw(y_true, y_pred, y_fit_true, y_fit_pred, prop_name='HL gap',file_dir=save_plots, file_name='P2O_'+model_list[i])\n",
    "    "
   ]
  },
  {
   "cell_type": "markdown",
   "metadata": {},
   "source": [
    "##### 3. randomly picking a subset of descriptors from the full descriptors as input for each neural network"
   ]
  },
  {
   "cell_type": "markdown",
   "metadata": {},
   "source": [
    "roughly takes 2-3mins"
   ]
  },
  {
   "cell_type": "code",
   "execution_count": 5,
   "metadata": {},
   "outputs": [
    {
     "name": "stdout",
     "output_type": "stream",
     "text": [
      "CPU times: user 56.4 s, sys: 6.77 s, total: 1min 3s\n",
      "Wall time: 2min 20s\n"
     ]
    }
   ],
   "source": [
    "%%time\n",
    "\n",
    "# pick a property as output\n",
    "prop = data['HOMO-LUMO gap'].to_frame()\n",
    "# pre-calculate all descriptors\n",
    "desc = FPs_All.transform(data['SMILES'])\n",
    "# remove NaN row\n",
    "prop = prop[~desc.isnull().any(axis=1)]\n",
    "desc = desc[~desc.isnull().any(axis=1)]\n"
   ]
  },
  {
   "cell_type": "markdown",
   "metadata": {},
   "source": [
    "prepare a function to generate random number of neurons uniformly from a given range at each hidden layer for a given total number of layer, for which the max and min values of the ranges are linearly decaying with a pair of fixed max and min values at the first and the last hidden layer determined based on fractions of the input dimension."
   ]
  },
  {
   "cell_type": "code",
   "execution_count": 6,
   "metadata": {},
   "outputs": [],
   "source": [
    "# the fixed max and min ratio at the first and the last hidden layer \n",
    "# are determined empirically based on the length of the descriptor\n",
    "\n",
    "def neuron_vector(nL, in_neu):\n",
    "    max_vec = np.linspace(int(in_neu*0.9),100,nL)\n",
    "    min_vec = np.linspace(int(in_neu*0.7),10,nL)\n",
    "    return sorted([np.random.randint(min_vec[i], max_vec[i]) for i in range(nL)], reverse=True)\n"
   ]
  },
  {
   "cell_type": "code",
   "execution_count": 7,
   "metadata": {},
   "outputs": [
    {
     "data": {
      "text/plain": [
       "[502, 385, 247, 201, 31]"
      ]
     },
     "execution_count": 7,
     "metadata": {},
     "output_type": "execute_result"
    },
    {
     "data": {
      "text/plain": [
       "[454, 363, 280, 124, 56]"
      ]
     },
     "execution_count": 7,
     "metadata": {},
     "output_type": "execute_result"
    },
    {
     "data": {
      "text/plain": [
       "[458, 424, 229, 173, 96]"
      ]
     },
     "execution_count": 7,
     "metadata": {},
     "output_type": "execute_result"
    },
    {
     "data": {
      "text/plain": [
       "[423, 361, 282, 201, 62]"
      ]
     },
     "execution_count": 7,
     "metadata": {},
     "output_type": "execute_result"
    },
    {
     "data": {
      "text/plain": [
       "[486, 332, 312, 121, 30]"
      ]
     },
     "execution_count": 7,
     "metadata": {},
     "output_type": "execute_result"
    },
    {
     "data": {
      "text/plain": [
       "[529, 379, 278, 117, 13]"
      ]
     },
     "execution_count": 7,
     "metadata": {},
     "output_type": "execute_result"
    },
    {
     "data": {
      "text/plain": [
       "[471, 348, 226, 165, 13]"
      ]
     },
     "execution_count": 7,
     "metadata": {},
     "output_type": "execute_result"
    },
    {
     "data": {
      "text/plain": [
       "[470, 364, 280, 134, 83]"
      ]
     },
     "execution_count": 7,
     "metadata": {},
     "output_type": "execute_result"
    },
    {
     "data": {
      "text/plain": [
       "[480, 334, 245, 169, 37]"
      ]
     },
     "execution_count": 7,
     "metadata": {},
     "output_type": "execute_result"
    },
    {
     "data": {
      "text/plain": [
       "[520, 337, 263, 167, 52]"
      ]
     },
     "execution_count": 7,
     "metadata": {},
     "output_type": "execute_result"
    }
   ],
   "source": [
    "# test the function\n",
    "for _ in range(10):\n",
    "    neuron_vector(5, 600)\n",
    "    "
   ]
  },
  {
   "cell_type": "markdown",
   "metadata": {},
   "source": [
    "prepare a function to automatically generate names for each model"
   ]
  },
  {
   "cell_type": "code",
   "execution_count": 8,
   "metadata": {},
   "outputs": [],
   "source": [
    "def make_name(model):\n",
    "    name = ['HLgap']\n",
    "    for n, m in model.named_children():\n",
    "        if 'layer_' in n:\n",
    "            name.append(str(m.linear.in_features))\n",
    "        else:\n",
    "            name.append(str(m.in_features))\n",
    "            name.append(str(m.out_features))\n",
    "    return '-'.join(name)"
   ]
  },
  {
   "cell_type": "markdown",
   "metadata": {},
   "source": [
    "training models (this time the generator is greated inside the loop)"
   ]
  },
  {
   "cell_type": "code",
   "execution_count": 14,
   "metadata": {},
   "outputs": [],
   "source": [
    "# import libraries\n",
    "import matplotlib.pyplot as plt\n",
    "\n",
    "import torch\n",
    "from torch.utils.data import DataLoader\n",
    "\n",
    "from xenonpy.datatools import preset, Splitter\n",
    "from xenonpy.descriptor import Compositions\n",
    "\n",
    "from torch.nn import LeakyReLU\n",
    "from xenonpy.utils import ParameterGenerator\n",
    "\n",
    "from xenonpy.model import SequentialLinear, LinearLayer\n",
    "from xenonpy.model.training import Trainer, SGD, MSELoss, Adam, ReduceLROnPlateau, ExponentialLR, ClipValue\n",
    "from xenonpy.model.training.extension import Validator, TensorConverter, Persist\n",
    "from xenonpy.model.training.dataset import ArrayDataset\n",
    "from xenonpy.model.utils import regression_metrics\n",
    "\n",
    "from collections import OrderedDict"
   ]
  },
  {
   "cell_type": "code",
   "execution_count": 15,
   "metadata": {},
   "outputs": [],
   "source": [
    "trainer = Trainer(\n",
    "    optimizer=Adam(lr=0.01),\n",
    "    loss_func=MSELoss(),\n",
    "    cuda=False,\n",
    ").extend(\n",
    "    TensorConverter(),\n",
    "    Validator(metrics_func=regression_metrics, early_stopping=50, trace_order=3, mae=0.0, pearsonr=1.0),\n",
    ")"
   ]
  },
  {
   "cell_type": "code",
   "execution_count": 16,
   "metadata": {},
   "outputs": [
    {
     "name": "stderr",
     "output_type": "stream",
     "text": [
      "\r",
      "Training:   0%|          | 0/500 [00:00<?, ?it/s]"
     ]
    },
    {
     "name": "stdout",
     "output_type": "stream",
     "text": [
      "Number of descriptors picked:  567\n"
     ]
    },
    {
     "name": "stderr",
     "output_type": "stream",
     "text": [
      "Training:   4%|▍         | 20/500 [02:13<53:32,  6.69s/it]"
     ]
    },
    {
     "name": "stdout",
     "output_type": "stream",
     "text": [
      "Early stopping is applied: no improvement for ['mae', 'pearsonr'] since the last 51 iterations, finish training at iteration 536\n"
     ]
    },
    {
     "name": "stderr",
     "output_type": "stream",
     "text": [
      "\n"
     ]
    }
   ],
   "source": [
    "summary = []\n",
    "save_folder = 'Test_HLgap_RandFP500to1k'\n",
    "N_train = int(prop.shape[0]*0.8)\n",
    "train_batch_size = 512 # based on total number data\n",
    "test_batch_size = 1024 # based on total number data\n",
    "max_epochs = 200\n",
    "N_desc_range = (500, 1000)\n",
    "\n",
    "for _ in range(100):\n",
    "    \n",
    "    sp = Splitter(prop.shape[0], test_size=prop.shape[0]-N_train)\n",
    "    x_train, x_val, y_train, y_val = sp.split(desc, prop)\n",
    "    \n",
    "    # remove all-0 or all-1 columns based on the training set\n",
    "    x_train = x_train.loc[:, (x_train != 0).any(axis=0)]\n",
    "    x_train = x_train.loc[:, (x_train != 1).any(axis=0)]\n",
    "    \n",
    "    # randomly pick a subset of descriptors\n",
    "    x_train = x_train.sample(min(np.random.randint(N_desc_range[0],N_desc_range[1]+1), x_train.shape[1]), axis=1)\n",
    "    x_val = x_val[x_train.columns]\n",
    "    \n",
    "    train_dataset = DataLoader(ArrayDataset(x_train, y_train), shuffle=True, batch_size=train_batch_size)\n",
    "    val_dataset = DataLoader(ArrayDataset(x_val, y_val), batch_size=test_batch_size)\n",
    "    \n",
    "    print('Number of descriptors picked: ',len(x_train.columns))\n",
    "    \n",
    "    # prepare generator here\n",
    "    generator = ParameterGenerator(\n",
    "        in_features=x_train.shape[1],\n",
    "        out_features=1,\n",
    "        h_neurons=dict(\n",
    "            data=lambda x: neuron_vector(x, x_train.shape[1]), \n",
    "            repeat=(3, 4, 5)\n",
    "        ),\n",
    "        h_activation_funcs=(LeakyReLU(),)\n",
    "    )\n",
    "    \n",
    "    # get one random model from the generator\n",
    "    paras, model = next(generator(num=1,factory=SequentialLinear))\n",
    "    \n",
    "    model_name = make_name(model)\n",
    "    persist = Persist(\n",
    "        f'{save_folder}/{model_name}', \n",
    "        # -^- required -^-\n",
    "        \n",
    "        # -v- optional -v-\n",
    "        increment=True, \n",
    "        sync_training_step=True,\n",
    "        model_class=SequentialLinear,\n",
    "        model_params=paras,\n",
    "        author='Someone',\n",
    "        email='someone@email.com',\n",
    "        dataset='Pubchem_ikebata',\n",
    "    )\n",
    "    _ = trainer.extend(persist)\n",
    "    trainer.reset(to=model)\n",
    "    \n",
    "    trainer.fit(training_dataset=train_dataset, validation_dataset=val_dataset, epochs=max_epochs)\n",
    "    # make sure we record the column names of the descriptors that we have picked!\n",
    "    persist(splitter=sp, data_indices=prop.index.tolist(), x_colnames=x_train.columns)  # <-- calling of this method only after the model training\n",
    "    \n",
    "    training_info = trainer.training_info\n",
    "    \n",
    "    summary.append(OrderedDict(\n",
    "        id=model_name,\n",
    "        mae=training_info['val_mae'].min(),\n",
    "        mse=training_info['val_mse'].min(),\n",
    "        r2=training_info['val_r2'].max(),\n",
    "        corr=training_info['val_pearsonr'].max(),\n",
    "        spearman_corr=training_info['val_spearmanr'].max(),\n",
    "    ))\n",
    "\n",
    "# record the summary of the results\n",
    "summary = pd.DataFrame(summary)\n",
    "summary.to_pickle(f'{save_folder}/summary.pd.xz')\n"
   ]
  },
  {
   "cell_type": "markdown",
   "metadata": {},
   "source": [
    "plot training results"
   ]
  },
  {
   "cell_type": "code",
   "execution_count": 10,
   "metadata": {},
   "outputs": [],
   "source": [
    "# prepare target and plotting folders, and load models\n",
    "import os\n",
    "from xenonpy.model.training import Checker\n",
    "\n",
    "target_folder = 'Test_HLgap_RandFP500to1k'\n",
    "save_plots = 'Plots_' + target_folder\n",
    "\n",
    "if not os.path.exists(save_plots):\n",
    "    os.makedirs(save_plots)\n",
    "\n",
    "checkers = []\n",
    "model_list = []\n",
    "tmp_file = os.listdir(target_folder)\n",
    "for tmp in tmp_file:\n",
    "    if os.path.isdir(f'{target_folder}/{tmp}'):\n",
    "        model_list.append(tmp)\n",
    "        checkers.append(Checker(f'{target_folder}/{tmp}'))\n"
   ]
  },
  {
   "cell_type": "code",
   "execution_count": 18,
   "metadata": {},
   "outputs": [],
   "source": [
    "# prediction vs. observation plots (single test trial)\n",
    "import seaborn as sb\n",
    "\n",
    "def draw(y_true, y_pred, y_true_fit=None, y_pred_fit=None, *, prop_name, log_scale=False, file_dir=None, file_name=None):\n",
    "\n",
    "    mask = ~np.isnan(y_pred)\n",
    "    y_true = y_true[mask]\n",
    "    y_pred = y_pred[mask]\n",
    "        \n",
    "    data = pd.DataFrame(dict(Observation=y_true, Prediction=y_pred, dataset=['test'] * len(y_true)))\n",
    "    scores = metrics(data['Observation'], data['Prediction'])\n",
    "    \n",
    "    if y_true_fit is not None and y_pred_fit is not None:\n",
    "        mask = ~np.isnan(y_pred_fit)\n",
    "        y_true_fit = y_true_fit[mask]\n",
    "        y_pred_fit = y_pred_fit[mask]\n",
    "        train_ = pd.DataFrame(dict(Observation=y_true_fit, Prediction=y_pred_fit, dataset=['train'] * len(y_true_fit)))\n",
    "        data = pd.concat([train_, data])\n",
    "\n",
    "    if log_scale:\n",
    "        data = data.apply(lambda c: np.log(c.values) if c.dtype.type is not np.object_ else c, axis=0)\n",
    "#         test_ = test_.apply(lambda c: np.log(c.values) if c.dtype.type is not np.object_ else c, axis=0)\n",
    "\n",
    "\n",
    "\n",
    "#     with sb.set(font_scale=2.5):\n",
    "    g = sb.lmplot(x=\"Prediction\", y=\"Observation\", hue=\"dataset\", ci=None,\n",
    "                  data=data, palette=\"Set1\", height=10, legend=False,  markers=[\".\", \"o\"],\n",
    "                  scatter_kws={'s': 25, 'alpha': 0.7}, hue_order=['train', 'test'])\n",
    "    \n",
    "    ax = plt.gca()\n",
    "    tmp = [data[\"Prediction\"].max(), data[\"Prediction\"].min(), data[\"Observation\"].max(), data[\"Observation\"].max()]\n",
    "    min_, max_ = np.min(tmp), np.max(tmp)\n",
    "    margin = (max_- min_) / 15\n",
    "    min_ = min_ - margin\n",
    "    max_ = max_ + margin\n",
    "    ax.set_xlim(min_, max_)\n",
    "    ax.set_ylim(min_, max_)\n",
    "    ax.set_xlabel(ax.get_xlabel(), fontsize='xx-large')\n",
    "    ax.set_ylabel(ax.get_ylabel(), fontsize='xx-large')\n",
    "    ax.tick_params(axis='both', which='major', labelsize='xx-large')\n",
    "    ax.plot((min_, max_), (min_, max_), ':', color='gray')\n",
    "    ax.set_title(prop_name, fontsize='xx-large')\n",
    "    if log_scale:\n",
    "        ax.set_title(prop_name + ' (log scale)', fontsize='xx-large')\n",
    "    ax.text(0.98, 0.03,\n",
    "            'MAE: %.5f\\nRMSE: %.5f\\nPearsonR: %.5f\\nSpearmanR: %.5f' % (scores['mae'], scores['rmse'], scores['pearsonr'], scores['spearmanr']),\n",
    "            transform=ax.transAxes, horizontalalignment='right', fontsize='xx-large')\n",
    "\n",
    "    ax.legend(loc='upper left', markerscale=2, fancybox=True, shadow=True, frameon=True, facecolor='w', fontsize=18)\n",
    "\n",
    "    plt.tight_layout()\n",
    "    if file_dir and file_name:\n",
    "        if log_scale:\n",
    "            plt.savefig(file_dir + '/' + file_name + '_log_scale.png', dpi=300, bbox_inches='tight')\n",
    "        else:\n",
    "            plt.savefig(file_dir + '/' + file_name + '.png', dip=300, bbox_inches='tight')\n",
    "    else:\n",
    "        print('Missing directory and/or file name information!')\n",
    "        \n",
    "# calculating basic statistics for predictions\n",
    "def metrics(y_true, y_pred, ignore_nan=True):\n",
    "    from sklearn.metrics import mean_absolute_error, r2_score, mean_squared_error\n",
    "    from scipy.stats import pearsonr, spearmanr\n",
    "    \n",
    "    if ignore_nan:\n",
    "        mask = ~np.isnan(y_pred)\n",
    "        y_true = y_true[mask]\n",
    "        y_pred = y_pred[mask]\n",
    "    \n",
    "    mae = mean_absolute_error(y_true, y_pred)\n",
    "    rmse = np.sqrt(mean_squared_error(y_true, y_pred))\n",
    "    r2 = r2_score(y_true, y_pred)\n",
    "    pr, p_val = pearsonr(y_true, y_pred)\n",
    "    sr, _ = spearmanr(y_true, y_pred)\n",
    "    return dict(\n",
    "        mae=mae,\n",
    "        rmse=rmse,\n",
    "        r2=r2,\n",
    "        pearsonr=pr,\n",
    "        spearmanr=sr,\n",
    "        p_value=p_val\n",
    "    )"
   ]
  },
  {
   "cell_type": "code",
   "execution_count": 21,
   "metadata": {},
   "outputs": [
    {
     "data": {
      "image/png": "[encoded data removed]",
      "text/plain": [
       "<Figure size 1500x750 with 1 Axes>"
      ]
     },
     "metadata": {
      "needs_background": "light"
     },
     "output_type": "display_data"
    },
    {
     "data": {
      "image/png": "[encoded data removed]",
      "text/plain": [
       "<Figure size 720x720 with 1 Axes>"
      ]
     },
     "metadata": {
      "needs_background": "light"
     },
     "output_type": "display_data"
    }
   ],
   "source": [
    "# plot training loss (based on the best mae among the three traced models)\n",
    "import matplotlib.pyplot as plt\n",
    "from xenonpy.model.training import Trainer\n",
    "from xenonpy.model.training.dataset import ArrayDataset\n",
    "from torch.utils.data import DataLoader\n",
    "from xenonpy.model.training.extension import TensorConverter\n",
    "\n",
    "train_batch_size = 512 # based on total number data\n",
    "test_batch_size = 1024 # based on total number data\n",
    "\n",
    "for i, checker in enumerate(checkers):\n",
    "    # plot training loss\n",
    "    fig, ax = plt.subplots(figsize=(10, 5), dpi=150)\n",
    "    trainer = Trainer.load(from_=checker).extend(TensorConverter())\n",
    "    _ = trainer.training_info.plot(y=['train_mse_loss', 'val_mse'], ax=ax)\n",
    "    fig.savefig(f'{save_plots}/Train_{model_list[i]}')\n",
    "    \n",
    "    # plot observation vs. prediction (based on the best mae among the three traced models)\n",
    "    sp = checker['splitter']\n",
    "    x_train, x_val, y_train, y_val = sp.split(desc, prop)\n",
    "    \n",
    "    x_colnames = checker['x_colnames']\n",
    "    x_train = x_train[x_colnames]\n",
    "    x_val = x_val[x_colnames]\n",
    "    \n",
    "    train_dataset = DataLoader(ArrayDataset(x_train, y_train), shuffle=True, batch_size=train_batch_size)\n",
    "    val_dataset = DataLoader(ArrayDataset(x_val, y_val), batch_size=test_batch_size)\n",
    "    \n",
    "    y_pred, y_true = trainer.predict(dataset=val_dataset, checkpoint='mae_1')\n",
    "    y_fit_pred, y_fit_true = trainer.predict(dataset=train_dataset, checkpoint='mae_1')\n",
    "    draw(y_true, y_pred, y_fit_true, y_fit_pred, prop_name='HL gap',file_dir=save_plots, file_name='P2O_'+model_list[i])\n",
    "    "
   ]
  },
  {
   "cell_type": "code",
   "execution_count": null,
   "metadata": {},
   "outputs": [],
   "source": []
  }
 ],
 "metadata": {
  "kernelspec": {
   "display_name": "xepy37_test",
   "language": "python",
   "name": "xepy37_test"
  },
  "language_info": {
   "codemirror_mode": {
    "name": "ipython",
    "version": 3
   },
   "file_extension": ".py",
   "mimetype": "text/x-python",
   "name": "python",
   "nbconvert_exporter": "python",
   "pygments_lexer": "ipython3",
   "version": "3.7.4"
  }
 },
 "nbformat": 4,
 "nbformat_minor": 2
}
