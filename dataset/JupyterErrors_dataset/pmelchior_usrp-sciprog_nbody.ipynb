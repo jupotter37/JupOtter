{
 "cells": [
  {
   "attachments": {},
   "cell_type": "markdown",
   "metadata": {},
   "source": [
    "# N-body Simulation\n",
    "\n",
    "This is an excercise notebook inspired by Philip Mocz's [medium article](https://medium.com/swlh/create-your-own-n-body-simulation-with-python-f417234885e9) and [code](https://github.com/pmocz/nbody-python).\n",
    "\n",
    "## Description of the problem\n",
    "\n",
    "N-body simulation is to solve the time evolution of a system of $N$ point-mass particles. The equation of motion of the $i$-th particle is\n",
    "\n",
    "$$ \\frac{d^2 \\mathbf{x}_i}{dt} = \\mathbf{a}_i$$ \n",
    "\n",
    "with the acceleration due to gravity from all other particles (Newton's law of universal gravitation):\n",
    "\n",
    "$$ \\mathbf{a}_i = \\sum_{j\\ne i}Gm_j\\frac{\\mathbf{x}_i-\\mathbf{x}_j}{|\\mathbf{x}_i-\\mathbf{x}_j|^3} $$\n",
    "\n",
    "Given initial position and velocity of the particles, we can evolve them by calculating acceleration and integrating the second order ODE.\n",
    "\n",
    "## Example with known analytic solution -- two-body problem\n",
    "\n",
    "* Compare the numerical solution with the analytic solution\n",
    "\n",
    "## General N-body problem\n",
    "\n",
    "* Check the conservation of energy (convergence)\n",
    "* Check the computational cost (scaling with N)\n",
    "* How to make it faster?\n"
   ]
  },
  {
   "cell_type": "code",
   "execution_count": 4,
   "metadata": {},
   "outputs": [],
   "source": [
    "import numpy as np\n",
    "import matplotlib.pyplot as plt\n",
    "\n",
    "\"\"\"\n",
    "Create Your Own N-body Simulation (With Python)\n",
    "Philip Mocz (2020) Princeton Univeristy, @PMocz\n",
    "\n",
    "Simulate orbits of stars interacting due to gravity\n",
    "Code calculates pairwise forces according to Newton's Law of Gravity\n",
    "\"\"\"\n",
    "\n",
    "def getAcc_forloop( pos, mass, G, softening ):\n",
    "\t\"\"\"\n",
    "    Calculate the acceleration on each particle due to Newton's Law \n",
    "\tpos  is an N x 3 matrix of positions\n",
    "\tmass is an N x 1 vector of masses\n",
    "\tG is Newton's Gravitational constant\n",
    "\tsoftening is the softening length\n",
    "\ta is N x 3 matrix of accelerations\n",
    "\t\"\"\"\n",
    "\t\n",
    "\tN = pos.shape[0]\n",
    "\ta = np.zeros((N,3))\n",
    "\t\n",
    "\tfor i in range(N):\n",
    "\t\tfor j in range(N):\n",
    "\t\t\tdx = pos[j,0] - pos[i,0]\n",
    "\t\t\tdy = pos[j,1] - pos[i,1]\n",
    "\t\t\tdz = pos[j,2] - pos[i,2]\n",
    "\t\t\tinv_r3 = (dx**2 + dy**2 + dz**2 + softening**2)**(-1.5)\n",
    "\t\t\ta[i,0] +=  G * (dx * inv_r3) * mass[j]\n",
    "\t\t\ta[i,1] +=  G * (dy * inv_r3) * mass[j]\n",
    "\t\t\ta[i,2] +=  G * (dz * inv_r3) * mass[j]\n",
    "\n",
    "\treturn a"
   ]
  },
  {
   "cell_type": "code",
   "execution_count": null,
   "metadata": {},
   "outputs": [],
   "source": [
    "# write your own code to calculate kinetic and potential energy\n",
    "def getEnergy( pos, vel, mass, G ):\n",
    "\t\"\"\"\n",
    "\tGet kinetic energy (KE) and potential energy (PE) of simulation\n",
    "\tpos is N x 3 matrix of positions\n",
    "\tvel is N x 3 matrix of velocities\n",
    "\tmass is an N x 1 vector of masses\n",
    "\tG is Newton's Gravitational constant\n",
    "\tKE is the kinetic energy of the system\n",
    "\tPE is the potential energy of the system\n",
    "\t\"\"\"\n",
    "\t# Kinetic Energy:\n",
    "\tKE = \n",
    "\n",
    "\n",
    "\t# Potential Energy:\n",
    "\n",
    "\t# positions r = [x,y,z] for all particles from the `pos` array\n",
    "\tx = \n",
    "\ty = \n",
    "\tz = \n",
    "\n",
    "\t# matrix that stores all pairwise particle separations: r_j - r_i\n",
    "\tdx = \n",
    "\tdy = \n",
    "\tdz = \n",
    "\n",
    "\t# matrix that stores 1/r for all particle pairwise particle separations \n",
    "\t# caculate r first\n",
    "\tinv_r = \n",
    "\t# take 1/r only for r != 0\n",
    "\tinv_r[inv_r>0] = 1.0/inv_r[inv_r>0]\n",
    "\n",
    "\t# sum over upper triangle, to count each interaction only once\n",
    "\tPE = \n",
    "\t\n",
    "\treturn KE, PE"
   ]
  },
  {
   "cell_type": "code",
   "execution_count": 17,
   "metadata": {},
   "outputs": [],
   "source": [
    "def evolve(pos, vel, acc, dt, *acc_args):\n",
    "    \"\"\"evolve position and velocity of particles using the KDK leapflog algorithm\n",
    "    \"\"\"\n",
    "    # (1/2) kick\n",
    "    vel += acc * dt/2.0\n",
    "    \n",
    "    # drift\n",
    "    pos += vel * dt\n",
    "    \n",
    "    # update accelerations\n",
    "    acc = getAcc_forloop( pos, *acc_args )\n",
    "    \n",
    "    # (1/2) kick\n",
    "    vel += acc * dt/2.0\n",
    "\n",
    "    return pos, vel, acc"
   ]
  },
  {
   "cell_type": "code",
   "execution_count": 18,
   "metadata": {},
   "outputs": [],
   "source": [
    "import time"
   ]
  },
  {
   "cell_type": "code",
   "execution_count": 16,
   "metadata": {},
   "outputs": [
    {
     "name": "stdout",
     "output_type": "stream",
     "text": [
      "10 particles evolved over 10.009999999999831 for 1001 steps\n",
      "done!\n"
     ]
    }
   ],
   "source": [
    "\"\"\" N-body simulation \"\"\"\n",
    "\n",
    "# Simulation parameters\n",
    "N         = 10    # Number of particles\n",
    "t         = 0.0    # current time of the simulation\n",
    "tEnd      = 10.0   # time at which simulation ends\n",
    "dt        = 0.01   # timestep\n",
    "softening = 0.1    # softening length\n",
    "G         = 1.0    # Newton's Gravitational Constant\n",
    "istep     = 0      # number of steps\n",
    "\n",
    "# Generate Initial Conditions\n",
    "np.random.seed(17)            # set the random number generator seed\n",
    "\n",
    "mass = 20.0*np.ones((N,1))/N  # total mass of particles is 20\n",
    "pos  = np.random.randn(N,3)   # randomly selected positions and velocities\n",
    "vel  = np.random.randn(N,3)\n",
    "\n",
    "# Convert to Center-of-Mass frame\n",
    "vel -= np.mean(mass * vel,0) / np.mean(mass)\n",
    "\n",
    "# calculate initial gravitational accelerations\n",
    "acc = getAcc_forloop( pos, mass, G, softening )\n",
    "\n",
    "# calculate initial energy of system\n",
    "# KE, PE  = getEnergy( pos, vel, mass, G )\n",
    "\n",
    "# Simulation Main Loop\n",
    "tStart = time.time()\n",
    "while t<tEnd:\n",
    "    # Evolve one step\n",
    "    pos, vel, acc = evolve(pos, vel, acc, dt,\n",
    "                           *(mass, G, softening))\n",
    "\n",
    "    # update time\n",
    "    t += dt\n",
    "    istep += 1\n",
    "\n",
    "    # get energy of system\n",
    "    # KE, PE  = getEnergy( pos, vel, mass, G )\n",
    "elapsed = time.time() - tStart\n",
    "print(\"Elapsed runtime: {}\" % elapsed)\n",
    "print(\"{} particles evolved over {} for {} steps\".format(N,t,istep))\n",
    "print(\"done!\")"
   ]
  },
  {
   "cell_type": "code",
   "execution_count": 15,
   "metadata": {},
   "outputs": [
    {
     "ename": "NameError",
     "evalue": "name 'istep' is not defined",
     "output_type": "error",
     "traceback": [
      "\u001b[0;31m---------------------------------------------------------------------------\u001b[0m",
      "\u001b[0;31mNameError\u001b[0m                                 Traceback (most recent call last)",
      "Cell \u001b[0;32mIn[15], line 1\u001b[0m\n\u001b[0;32m----> 1\u001b[0m \u001b[39mprint\u001b[39m(\u001b[39m\"\u001b[39m\u001b[39m{}\u001b[39;00m\u001b[39m particles evolved over \u001b[39m\u001b[39m{}\u001b[39;00m\u001b[39m for \u001b[39m\u001b[39m{}\u001b[39;00m\u001b[39m steps\u001b[39m\u001b[39m\"\u001b[39m\u001b[39m.\u001b[39mformat(N,t,istep))\n\u001b[1;32m      2\u001b[0m \u001b[39mprint\u001b[39m(\u001b[39m\"\u001b[39m\u001b[39mdone!\u001b[39m\u001b[39m\"\u001b[39m)\n",
      "\u001b[0;31mNameError\u001b[0m: name 'istep' is not defined"
     ]
    }
   ],
   "source": [
    "print(\"{} particles evolved over {} for {} steps\".format(N,t,istep))\n",
    "print(\"done!\")"
   ]
  },
  {
   "cell_type": "code",
   "execution_count": 9,
   "metadata": {},
   "outputs": [
    {
     "data": {
      "text/plain": [
       "<function __main__.getAcc_forloop(pos, mass, G, softening)>"
      ]
     },
     "execution_count": 9,
     "metadata": {},
     "output_type": "execute_result"
    }
   ],
   "source": [
    "acc_func"
   ]
  },
  {
   "cell_type": "code",
   "execution_count": null,
   "metadata": {},
   "outputs": [],
   "source": []
  }
 ],
 "metadata": {
  "kernelspec": {
   "display_name": "prfm",
   "language": "python",
   "name": "python3"
  },
  "language_info": {
   "codemirror_mode": {
    "name": "ipython",
    "version": 3
   },
   "file_extension": ".py",
   "mimetype": "text/x-python",
   "name": "python",
   "nbconvert_exporter": "python",
   "pygments_lexer": "ipython3",
   "version": "3.11.3"
  },
  "orig_nbformat": 4
 },
 "nbformat": 4,
 "nbformat_minor": 2
}
