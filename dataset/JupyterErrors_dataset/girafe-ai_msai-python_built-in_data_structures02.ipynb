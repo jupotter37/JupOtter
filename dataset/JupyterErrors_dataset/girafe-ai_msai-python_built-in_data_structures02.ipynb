{
 "cells": [
  {
   "cell_type": "code",
   "execution_count": null,
   "metadata": {
    "id": "Il5lFOd8xFM5"
   },
   "outputs": [],
   "source": [
    "from IPython.core.interactiveshell import InteractiveShell\n",
    "InteractiveShell.ast_node_interactivity = \"all\"\n",
    "# doesn't work in colab"
   ]
  },
  {
   "cell_type": "markdown",
   "metadata": {
    "id": "9MdCwABFxFNL"
   },
   "source": [
    "# tuple/list and their methods\n"
   ]
  },
  {
   "cell_type": "code",
   "execution_count": 2,
   "metadata": {
    "colab": {
     "base_uri": "https://localhost:8080/",
     "height": 231
    },
    "id": "PWQhENkIxFNL",
    "outputId": "748bc962-038a-4896-afd9-0570f9855f91"
   },
   "outputs": [
    {
     "data": {
      "text/plain": [
       "list"
      ]
     },
     "execution_count": 2,
     "metadata": {},
     "output_type": "execute_result"
    },
    {
     "data": {
      "text/plain": [
       "['i', 'can', 'be', 'modified']"
      ]
     },
     "execution_count": 2,
     "metadata": {},
     "output_type": "execute_result"
    }
   ],
   "source": [
    "t = ['i', 'cannot', 'be', 'modified']\n",
    "type(t)\n",
    "t[1] = 'can'\n",
    "t"
   ]
  },
  {
   "cell_type": "code",
   "execution_count": 3,
   "metadata": {
    "colab": {
     "base_uri": "https://localhost:8080/",
     "height": 231
    },
    "id": "PWQhENkIxFNL",
    "outputId": "748bc962-038a-4896-afd9-0570f9855f91"
   },
   "outputs": [
    {
     "data": {
      "text/plain": [
       "tuple"
      ]
     },
     "execution_count": 3,
     "metadata": {},
     "output_type": "execute_result"
    },
    {
     "ename": "TypeError",
     "evalue": "'tuple' object does not support item assignment",
     "output_type": "error",
     "traceback": [
      "\u001b[0;31m---------------------------------------------------------------------------\u001b[0m",
      "\u001b[0;31mTypeError\u001b[0m                                 Traceback (most recent call last)",
      "\u001b[0;32m/var/folders/v8/2cskhqjj0_g0zp3824glf1tm0000gn/T/ipykernel_51907/736659190.py\u001b[0m in \u001b[0;36m<module>\u001b[0;34m\u001b[0m\n\u001b[1;32m      1\u001b[0m \u001b[0mt\u001b[0m \u001b[0;34m=\u001b[0m \u001b[0;34m(\u001b[0m\u001b[0;34m'i'\u001b[0m\u001b[0;34m,\u001b[0m \u001b[0;34m'cannot'\u001b[0m\u001b[0;34m,\u001b[0m \u001b[0;34m'be'\u001b[0m\u001b[0;34m,\u001b[0m \u001b[0;34m'modified'\u001b[0m\u001b[0;34m)\u001b[0m\u001b[0;34m\u001b[0m\u001b[0;34m\u001b[0m\u001b[0m\n\u001b[1;32m      2\u001b[0m \u001b[0mtype\u001b[0m\u001b[0;34m(\u001b[0m\u001b[0mt\u001b[0m\u001b[0;34m)\u001b[0m\u001b[0;34m\u001b[0m\u001b[0;34m\u001b[0m\u001b[0m\n\u001b[0;32m----> 3\u001b[0;31m \u001b[0mt\u001b[0m\u001b[0;34m[\u001b[0m\u001b[0;36m1\u001b[0m\u001b[0;34m]\u001b[0m \u001b[0;34m=\u001b[0m \u001b[0;34m'can'\u001b[0m\u001b[0;34m\u001b[0m\u001b[0;34m\u001b[0m\u001b[0m\n\u001b[0m\u001b[1;32m      4\u001b[0m \u001b[0mt\u001b[0m\u001b[0;34m\u001b[0m\u001b[0;34m\u001b[0m\u001b[0m\n",
      "\u001b[0;31mTypeError\u001b[0m: 'tuple' object does not support item assignment"
     ]
    }
   ],
   "source": [
    "t = ('i', 'cannot', 'be', 'modified')\n",
    "type(t)\n",
    "t[1] = 'can'\n",
    "t"
   ]
  },
  {
   "cell_type": "code",
   "execution_count": 4,
   "metadata": {
    "id": "bJdHz0rVxFNL"
   },
   "outputs": [
    {
     "data": {
      "text/plain": [
       "[0, 1, 2, 0, 1, 2, 0, 1, 2]"
      ]
     },
     "execution_count": 4,
     "metadata": {},
     "output_type": "execute_result"
    },
    {
     "data": {
      "text/plain": [
       "[[1, 1, 1]]"
      ]
     },
     "execution_count": 4,
     "metadata": {},
     "output_type": "execute_result"
    },
    {
     "data": {
      "text/plain": [
       "[[1, 1, 1], [1, 1, 1], [1, 1, 1]]"
      ]
     },
     "execution_count": 4,
     "metadata": {},
     "output_type": "execute_result"
    },
    {
     "data": {
      "text/plain": [
       "[0, 1, 1]"
      ]
     },
     "execution_count": 4,
     "metadata": {},
     "output_type": "execute_result"
    },
    {
     "data": {
      "text/plain": [
       "[[0, 1, 1], [0, 1, 1], [0, 1, 1]]"
      ]
     },
     "execution_count": 4,
     "metadata": {},
     "output_type": "execute_result"
    },
    {
     "data": {
      "text/plain": [
       "[[2, 1, 1], [2, 1, 1], [2, 1, 1]]"
      ]
     },
     "execution_count": 4,
     "metadata": {},
     "output_type": "execute_result"
    },
    {
     "data": {
      "text/plain": [
       "[2, 1, 1]"
      ]
     },
     "execution_count": 4,
     "metadata": {},
     "output_type": "execute_result"
    }
   ],
   "source": [
    "# Binding operator doesn't create copies of containers!\n",
    "\n",
    "example_list = [0, 1, 2]\n",
    "\n",
    "example_list * 3\n",
    "\n",
    "c = [1, 1, 1]\n",
    "\n",
    "new_list = [c]\n",
    "\n",
    "new_list\n",
    "\n",
    "a = [c] * 3\n",
    "\n",
    "a\n",
    "\n",
    "c[0] = 0\n",
    "\n",
    "c\n",
    "\n",
    "a\n",
    "\n",
    "a[0][0] = 2\n",
    "\n",
    "a\n",
    "\n",
    "c"
   ]
  },
  {
   "cell_type": "code",
   "execution_count": 5,
   "metadata": {
    "id": "WvrfhbObxFNL"
   },
   "outputs": [],
   "source": [
    "#Slices\n",
    "tea_party = ('Rabbit', 'Bear', 'Fox', 'Turtle')\n",
    "\n",
    "#tea_party[a:b:s] \n",
    "var1 = tea_party[:] # The whole list\n",
    "var2 = tea_party[1:3] # [a:b] - а is included, b is excluded\n",
    "var3 = tea_party[:2]  # [0:2]\n",
    "var4 = tea_party[3:]  # [3:len(tea_party)]\n",
    "var5 = tea_party[-1]  # The last element\n",
    "var6 = tea_party[:-1] # All but the last element\n",
    "var7 = tea_party[0:5:2] # every other element from 0 to 5 (5 not included), step == 2\n",
    "var8 = tea_party[::-1] # step == -1 means the list will be reversed!"
   ]
  },
  {
   "cell_type": "code",
   "execution_count": 6,
   "metadata": {},
   "outputs": [
    {
     "name": "stdout",
     "output_type": "stream",
     "text": [
      "('Rabbit', 'Bear', 'Fox', 'Turtle')\n",
      "('Bear', 'Fox')\n",
      "('Rabbit', 'Bear')\n",
      "('Turtle',)\n",
      "Turtle\n",
      "('Rabbit', 'Bear', 'Fox')\n",
      "('Rabbit', 'Fox')\n",
      "('Turtle', 'Fox', 'Bear', 'Rabbit')\n"
     ]
    }
   ],
   "source": [
    "print(var1, var2, var3, var4, var5, var6, var7, var8, sep='\\n')"
   ]
  },
  {
   "cell_type": "code",
   "execution_count": 7,
   "metadata": {
    "id": "sCliHttFxFNL"
   },
   "outputs": [
    {
     "data": {
      "text/plain": [
       "('Rabbit', 'Bear', 'Fox', 'Turtle')"
      ]
     },
     "execution_count": 7,
     "metadata": {},
     "output_type": "execute_result"
    },
    {
     "data": {
      "text/plain": [
       "['Rabbit', 'Bear', 'Fox', 'Turtle']"
      ]
     },
     "execution_count": 7,
     "metadata": {},
     "output_type": "execute_result"
    },
    {
     "data": {
      "text/plain": [
       "4354018688"
      ]
     },
     "execution_count": 7,
     "metadata": {},
     "output_type": "execute_result"
    },
    {
     "data": {
      "text/plain": [
       "['Rabbit', 'Cat', 'Whale', 'Dog', 'Turtle']"
      ]
     },
     "execution_count": 7,
     "metadata": {},
     "output_type": "execute_result"
    },
    {
     "data": {
      "text/plain": [
       "4354018688"
      ]
     },
     "execution_count": 7,
     "metadata": {},
     "output_type": "execute_result"
    },
    {
     "data": {
      "text/plain": [
       "['Rabbit', 'Turtle']"
      ]
     },
     "execution_count": 7,
     "metadata": {},
     "output_type": "execute_result"
    }
   ],
   "source": [
    "# Updating with slices\n",
    "\n",
    "tea_party\n",
    "\n",
    "tea_party_list = list(tea_party)\n",
    "\n",
    "tea_party_list\n",
    "\n",
    "id(tea_party_list)\n",
    "\n",
    "tea_party_list[1:3] = ['Cat', 'Whale', 'Dog']\n",
    "\n",
    "tea_party_list\n",
    "\n",
    "id(tea_party_list)\n",
    "\n",
    "tea_party_list[1:-1] = []\n",
    "\n",
    "tea_party_list"
   ]
  },
  {
   "cell_type": "code",
   "execution_count": 8,
   "metadata": {
    "id": "kizn88doxFNM"
   },
   "outputs": [
    {
     "data": {
      "text/plain": [
       "True"
      ]
     },
     "execution_count": 8,
     "metadata": {},
     "output_type": "execute_result"
    },
    {
     "data": {
      "text/plain": [
       "False"
      ]
     },
     "execution_count": 8,
     "metadata": {},
     "output_type": "execute_result"
    }
   ],
   "source": [
    "#Copying with slices\n",
    "\n",
    "tea_party_not_so_copy = tea_party_list\n",
    "\n",
    "tea_party_not_so_copy is tea_party_list\n",
    "\n",
    "tea_party_copy = tea_party_list[:]\n",
    "\n",
    "tea_party_copy is tea_party_list"
   ]
  },
  {
   "cell_type": "code",
   "execution_count": 12,
   "metadata": {},
   "outputs": [
    {
     "data": {
      "text/plain": [
       "['__add__',\n",
       " '__class__',\n",
       " '__contains__',\n",
       " '__delattr__',\n",
       " '__delitem__',\n",
       " '__dir__',\n",
       " '__doc__',\n",
       " '__eq__',\n",
       " '__format__',\n",
       " '__ge__',\n",
       " '__getattribute__',\n",
       " '__getitem__',\n",
       " '__gt__',\n",
       " '__hash__',\n",
       " '__iadd__',\n",
       " '__imul__',\n",
       " '__init__',\n",
       " '__init_subclass__',\n",
       " '__iter__',\n",
       " '__le__',\n",
       " '__len__',\n",
       " '__lt__',\n",
       " '__mul__',\n",
       " '__ne__',\n",
       " '__new__',\n",
       " '__reduce__',\n",
       " '__reduce_ex__',\n",
       " '__repr__',\n",
       " '__reversed__',\n",
       " '__rmul__',\n",
       " '__setattr__',\n",
       " '__setitem__',\n",
       " '__sizeof__',\n",
       " '__str__',\n",
       " '__subclasshook__',\n",
       " 'append',\n",
       " 'clear',\n",
       " 'copy',\n",
       " 'count',\n",
       " 'extend',\n",
       " 'index',\n",
       " 'insert',\n",
       " 'pop',\n",
       " 'remove',\n",
       " 'reverse',\n",
       " 'sort']"
      ]
     },
     "execution_count": 12,
     "metadata": {},
     "output_type": "execute_result"
    }
   ],
   "source": [
    "dir(list)"
   ]
  },
  {
   "cell_type": "code",
   "execution_count": 10,
   "metadata": {
    "id": "ncEPO3ggxFNM"
   },
   "outputs": [
    {
     "name": "stdout",
     "output_type": "stream",
     "text": [
      "[1, 3, 5, 7, 7, 7, 5, 3, 1, 8]\n",
      "[1, 2, 3, 5, 7, 7, 7, 5, 3, 1, 8]\n",
      "[1, 2, 5, 7, 7, 7, 5, 3, 1, 8]\n",
      "[1, 2, 5, 7, 7, 5, 3, 1, 8]\n",
      "2\n",
      "[1, 1, 2, 3, 5, 5, 7, 7, 8]\n",
      "8\n",
      "[1, 1, 2, 3, 5, 5, 7, 7]\n"
     ]
    }
   ],
   "source": [
    "#Methods\n",
    "\n",
    "#[Spisok is a russian word for list]\n",
    "\n",
    "spisok = [1, 3, 5, 7, 7, 7, 5, 3, 1]\n",
    "\n",
    "spisok.append(8) # Add a new element to the end of our list (here add 8)\n",
    "print(spisok)\n",
    "\n",
    "spisok.insert(1,2) # insert(a,b) intserts element b to the position with index a of our list\n",
    "print(spisok)\n",
    "\n",
    "spisok.remove(3) # remove(v) removes value v from the list (first from the left if the list contains several v's)\n",
    "print(spisok)\n",
    "\n",
    "i = 4\n",
    "del spisok[i] # that's how you can remove an element by its index\n",
    "print(spisok)\n",
    "\n",
    "sevens = spisok.count(7) # How many 7's in our list\n",
    "print(sevens)\n",
    "\n",
    "spisok.sort() #Sort the list\n",
    "print(spisok)\n",
    "\n",
    "d = spisok.pop() # Get the last element of the list along with removing the element\n",
    "print(d)\n",
    "print(spisok)"
   ]
  },
  {
   "cell_type": "code",
   "execution_count": 13,
   "metadata": {
    "id": "hEZ3bgESxFNM"
   },
   "outputs": [
    {
     "data": {
      "text/plain": [
       "9"
      ]
     },
     "execution_count": 13,
     "metadata": {},
     "output_type": "execute_result"
    },
    {
     "data": {
      "text/plain": [
       "39"
      ]
     },
     "execution_count": 13,
     "metadata": {},
     "output_type": "execute_result"
    },
    {
     "data": {
      "text/plain": [
       "7"
      ]
     },
     "execution_count": 13,
     "metadata": {},
     "output_type": "execute_result"
    },
    {
     "data": {
      "text/plain": [
       "1"
      ]
     },
     "execution_count": 13,
     "metadata": {},
     "output_type": "execute_result"
    },
    {
     "data": {
      "text/plain": [
       "[1, 3, 5, 7, 7, 7, 5, 3, 1]"
      ]
     },
     "execution_count": 13,
     "metadata": {},
     "output_type": "execute_result"
    },
    {
     "data": {
      "text/plain": [
       "[1, 1, 3, 3, 5, 5, 7, 7, 7]"
      ]
     },
     "execution_count": 13,
     "metadata": {},
     "output_type": "execute_result"
    }
   ],
   "source": [
    "#Functons\n",
    "\n",
    "spisok = [1, 3, 5, 7, 7, 7, 5, 3, 1]\n",
    "\n",
    "len(spisok)\n",
    "sum(spisok)\n",
    "max(spisok)\n",
    "min(spisok)\n",
    "\n",
    "sorted_spisok = sorted(spisok) # Unlike list.sort(), sorted() creates a copy of the list and doesn't change the initial one\n",
    "spisok\n",
    "sorted_spisok"
   ]
  },
  {
   "cell_type": "code",
   "execution_count": 14,
   "metadata": {
    "id": "ee2GnVTWxFNM"
   },
   "outputs": [
    {
     "data": {
      "text/plain": [
       "[(0, 'a', 1), (1, 'b', 2), (2, 'c', 4)]"
      ]
     },
     "execution_count": 14,
     "metadata": {},
     "output_type": "execute_result"
    }
   ],
   "source": [
    "# zip function creates a tuple element-wise (stops when reaches the minimum length)\n",
    "\n",
    "[pair for pair in zip(range(10), 'abc', [1, 2, 4, 5, 6])]  # future material"
   ]
  },
  {
   "cell_type": "code",
   "execution_count": 15,
   "metadata": {
    "id": "nGM-XCU8xFNM"
   },
   "outputs": [
    {
     "name": "stdout",
     "output_type": "stream",
     "text": [
      "[1, 2, 3, 4, 5]\n",
      "1 2 3 4 5\n",
      "1 2 3 4 5\n"
     ]
    }
   ],
   "source": [
    "# Unpacking operator \n",
    "\n",
    "spisok = [1, 2, 3, 4, 5]\n",
    "\n",
    "print(spisok) # printing list\n",
    "print(*spisok) # printing unpacked list, equivalent to print(spisok[0],spisok[1],...)\n",
    "print(spisok[0], spisok[1], spisok[2], spisok[3], spisok[4])"
   ]
  },
  {
   "cell_type": "code",
   "execution_count": 16,
   "metadata": {
    "id": "PsCiDz9wxFNM"
   },
   "outputs": [
    {
     "name": "stdout",
     "output_type": "stream",
     "text": [
      "['Hello!', \"We'are\", 'simple', 'sentences.', 'We', 'have', 'words', 'and', 'spaces.']\n",
      "Hello! We'are simple sentences. We have words and spaces.\n",
      "[\"Hello! We'are \", 'imple ', 'entence', '. We have word', ' and ', 'pace', '.']\n",
      "Hello! We'are cimple centencec. We have wordc and cpacec.\n"
     ]
    }
   ],
   "source": [
    "# Useful functions split(str) and str.join(list):\n",
    "\n",
    "A = 'Hello! We\\'are simple sentences. We have words and spaces.'.split(' ')\n",
    "print(A)\n",
    "\n",
    "B = ' '.join(A)\n",
    "print(B)\n",
    "\n",
    "C = B.split('s')\n",
    "print(C)\n",
    "\n",
    "D = 'c'.join(C)\n",
    "print(D)"
   ]
  },
  {
   "cell_type": "code",
   "execution_count": 17,
   "metadata": {},
   "outputs": [],
   "source": [
    "string = 'Vvorld vVide vveb'"
   ]
  },
  {
   "cell_type": "code",
   "execution_count": 18,
   "metadata": {},
   "outputs": [
    {
     "data": {
      "text/plain": [
       "'World Wide Web'"
      ]
     },
     "execution_count": 18,
     "metadata": {},
     "output_type": "execute_result"
    }
   ],
   "source": [
    "'W'.join(string.lower().split('vv'))"
   ]
  },
  {
   "cell_type": "code",
   "execution_count": 19,
   "metadata": {},
   "outputs": [
    {
     "data": {
      "text/plain": [
       "'World Wide Web'"
      ]
     },
     "execution_count": 19,
     "metadata": {},
     "output_type": "execute_result"
    }
   ],
   "source": [
    "'World Wide Web'"
   ]
  },
  {
   "cell_type": "markdown",
   "metadata": {
    "id": "hCRhx3n1xFNN"
   },
   "source": [
    "# range\n"
   ]
  },
  {
   "cell_type": "markdown",
   "metadata": {
    "id": "Ka7a5zDZxFNN"
   },
   "source": [
    "**range(start, end, step)** creates a list of integers from start (included) to end (excluded) with a given step."
   ]
  },
  {
   "cell_type": "code",
   "execution_count": 20,
   "metadata": {
    "id": "n7-vRhO3xFNN"
   },
   "outputs": [
    {
     "data": {
      "text/plain": [
       "range(0, 10)"
      ]
     },
     "execution_count": 20,
     "metadata": {},
     "output_type": "execute_result"
    },
    {
     "data": {
      "text/plain": [
       "range"
      ]
     },
     "execution_count": 20,
     "metadata": {},
     "output_type": "execute_result"
    },
    {
     "data": {
      "text/plain": [
       "[0, 1, 2, 3, 4, 5, 6, 7, 8, 9]"
      ]
     },
     "execution_count": 20,
     "metadata": {},
     "output_type": "execute_result"
    },
    {
     "data": {
      "text/plain": [
       "[0, 1, 2, 3, 4, 5, 6, 7, 8, 9]"
      ]
     },
     "execution_count": 20,
     "metadata": {},
     "output_type": "execute_result"
    },
    {
     "data": {
      "text/plain": [
       "[1, 2, 3, 4, 5, 6, 7, 8, 9]"
      ]
     },
     "execution_count": 20,
     "metadata": {},
     "output_type": "execute_result"
    },
    {
     "data": {
      "text/plain": [
       "[0, 3, 6, 9, 12, 15, 18]"
      ]
     },
     "execution_count": 20,
     "metadata": {},
     "output_type": "execute_result"
    }
   ],
   "source": [
    "# range(N) creates a list of integers from 0 to N-1.\n",
    "range(10)\n",
    "# To be exactly true, range(N) creates an iterator object and not list.\n",
    "type(range(10))\n",
    "\n",
    "# But we can easily cast it to list type\n",
    "list(range(10)) # single parameter is interpreted as \"end\" parameter having start==0 and step==1.\n",
    "list(range(0, 10))\n",
    "list(range(1, 10)) # two parameters are interpreted as (start, end), having step==1\n",
    "list(range(0, 20, 3))\n",
    "\n",
    "# end is always EXCLUDED!"
   ]
  },
  {
   "cell_type": "code",
   "execution_count": 21,
   "metadata": {
    "id": "YFDR8wD_xFNN"
   },
   "outputs": [
    {
     "data": {
      "text/plain": [
       "[100, 98, 96, 94, 92, 90, 88, 86, 84, 82, 80, 78, 76]"
      ]
     },
     "execution_count": 21,
     "metadata": {},
     "output_type": "execute_result"
    }
   ],
   "source": [
    "list(range(100, 75, -2)) # Step can be negative if start >= end"
   ]
  },
  {
   "cell_type": "code",
   "execution_count": 22,
   "metadata": {},
   "outputs": [
    {
     "ename": "TypeError",
     "evalue": "'float' object cannot be interpreted as an integer",
     "output_type": "error",
     "traceback": [
      "\u001b[0;31m---------------------------------------------------------------------------\u001b[0m",
      "\u001b[0;31mTypeError\u001b[0m                                 Traceback (most recent call last)",
      "\u001b[0;32m/var/folders/v8/2cskhqjj0_g0zp3824glf1tm0000gn/T/ipykernel_51907/2175271105.py\u001b[0m in \u001b[0;36m<module>\u001b[0;34m\u001b[0m\n\u001b[0;32m----> 1\u001b[0;31m \u001b[0mlist\u001b[0m\u001b[0;34m(\u001b[0m\u001b[0mrange\u001b[0m\u001b[0;34m(\u001b[0m\u001b[0;36m1\u001b[0m\u001b[0;34m,\u001b[0m \u001b[0;36m10\u001b[0m\u001b[0;34m,\u001b[0m \u001b[0;36m0.5\u001b[0m\u001b[0;34m)\u001b[0m\u001b[0;34m)\u001b[0m \u001b[0;31m# But it cannot be a float number!\u001b[0m\u001b[0;34m\u001b[0m\u001b[0;34m\u001b[0m\u001b[0m\n\u001b[0m",
      "\u001b[0;31mTypeError\u001b[0m: 'float' object cannot be interpreted as an integer"
     ]
    }
   ],
   "source": [
    "list(range(1, 10, 0.5)) # But it cannot be a float number!"
   ]
  },
  {
   "cell_type": "code",
   "execution_count": 23,
   "metadata": {},
   "outputs": [
    {
     "name": "stdout",
     "output_type": "stream",
     "text": [
      "append\n",
      "clear\n",
      "copy\n",
      "count\n",
      "extend\n",
      "index\n",
      "insert\n",
      "pop\n",
      "remove\n",
      "reverse\n",
      "sort\n"
     ]
    }
   ],
   "source": [
    "# substitute other types instead of 'list' in code below to get methods\n",
    "print(*[name for name in dir(list) if not name.startswith('_')], sep='\\n')"
   ]
  },
  {
   "cell_type": "code",
   "execution_count": null,
   "metadata": {},
   "outputs": [],
   "source": []
  }
 ],
 "metadata": {
  "colab": {
   "provenance": [],
   "toc_visible": true
  },
  "kernelspec": {
   "display_name": "Python 3 (ipykernel)",
   "language": "python",
   "name": "python3"
  },
  "language_info": {
   "codemirror_mode": {
    "name": "ipython",
    "version": 3
   },
   "file_extension": ".py",
   "mimetype": "text/x-python",
   "name": "python",
   "nbconvert_exporter": "python",
   "pygments_lexer": "ipython3",
   "version": "3.8.12"
  }
 },
 "nbformat": 4,
 "nbformat_minor": 1
}
