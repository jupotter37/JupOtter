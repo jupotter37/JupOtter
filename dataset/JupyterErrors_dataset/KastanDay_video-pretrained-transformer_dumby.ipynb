{
 "cells": [
  {
   "cell_type": "code",
   "execution_count": null,
   "metadata": {},
   "outputs": [],
   "source": [
    "# Importing the library\n",
    "import time\n",
    "\n",
    "# Getting % usage of virtual_memory ( 3rd field)\n",
    "print('RAM memory % used:', psutil.virtual_memory()[2])\n",
    "# Getting usage of virtual_memory in GB ( 4th field)\n",
    "\n",
    "\n",
    "import psutil\n",
    "while True: \n",
    "  print('RAM Used (GB):', psutil.virtual_memory()[3]/1000000000)\n",
    "  print(f'RAM memory % used: {psutil.virtual_memory()[2]}%')\n",
    "  if psutil.virtual_memory()[2] > 90:\n",
    "    print(\"Memory usage is high, exiting\")\n",
    "    ray.stop()\n",
    "    break\n",
    "  \n",
    "  time.sleep(10)\n"
   ]
  },
  {
   "cell_type": "code",
   "execution_count": null,
   "metadata": {},
   "outputs": [],
   "source": [
    "import os\n",
    "INPUT_DIR_TO_TRANSCRIBE = \"/tmp/hi\"\n",
    "res = os.path.join(INPUT_DIR_TO_TRANSCRIBE, '*')\n",
    "res"
   ]
  },
  {
   "cell_type": "code",
   "execution_count": 1,
   "metadata": {},
   "outputs": [
    {
     "name": "stderr",
     "output_type": "stream",
     "text": [
      "/scratch/bbki/kastanday/conda_envs/envs/v2_clip_preprocessing_yt1b/lib/python3.8/site-packages/tqdm/auto.py:22: TqdmWarning: IProgress not found. Please update jupyter and ipywidgets. See https://ipywidgets.readthedocs.io/en/stable/user_install.html\n",
      "  from .autonotebook import tqdm as notebook_tqdm\n"
     ]
    },
    {
     "ename": "ModuleNotFoundError",
     "evalue": "No module named 'intervaltree'",
     "output_type": "error",
     "traceback": [
      "\u001b[0;31m---------------------------------------------------------------------------\u001b[0m",
      "\u001b[0;31mModuleNotFoundError\u001b[0m                       Traceback (most recent call last)",
      "Cell \u001b[0;32mIn [1], line 5\u001b[0m\n\u001b[1;32m      3\u001b[0m sys\u001b[39m.\u001b[39mpath\u001b[39m.\u001b[39mappend(\u001b[39m\"\u001b[39m\u001b[39m/u/kastanday/parallel_pdg/video-pretrained-transformer/data_preprocessing/whisper_audio\u001b[39m\u001b[39m\"\u001b[39m)\n\u001b[1;32m      4\u001b[0m \u001b[39m# from CaptionPreprocessing \u001b[39;00m\n\u001b[0;32m----> 5\u001b[0m \u001b[39mimport\u001b[39;00m \u001b[39mCaptionPreprocessing\u001b[39;00m\n\u001b[1;32m      7\u001b[0m process \u001b[39m=\u001b[39m CaptionPreprocessing()\n",
      "File \u001b[0;32m~/parallel_pdg/video-pretrained-transformer/data_preprocessing/whisper_audio/CaptionPreprocessing.py:10\u001b[0m\n\u001b[1;32m      7\u001b[0m sys\u001b[39m.\u001b[39mpath\u001b[39m.\u001b[39mappend(\u001b[39m\"\u001b[39m\u001b[39m/u/kastanday/parallel_pdg/video-pretrained-transformer/data_preprocessing/whisper_audio/lhotse_faster_whisper/lhotse\u001b[39m\u001b[39m\"\u001b[39m)\n\u001b[1;32m      8\u001b[0m sys\u001b[39m.\u001b[39mpath\u001b[39m.\u001b[39mappend(\u001b[39m\"\u001b[39m\u001b[39m/u/kastanday/parallel_pdg/video-pretrained-transformer/data_preprocessing/whisper_audio/lhotse_faster_whisper\u001b[39m\u001b[39m\"\u001b[39m)\n\u001b[0;32m---> 10\u001b[0m \u001b[39mfrom\u001b[39;00m \u001b[39mlhotse\u001b[39;00m \u001b[39mimport\u001b[39;00m Recording, RecordingSet, align_with_torchaudio\n\u001b[1;32m     11\u001b[0m \u001b[39mfrom\u001b[39;00m \u001b[39mlhotse\u001b[39;00m \u001b[39mimport\u001b[39;00m annotator_lhotse\n\u001b[1;32m     12\u001b[0m \u001b[39mfrom\u001b[39;00m \u001b[39mdataclasses\u001b[39;00m \u001b[39mimport\u001b[39;00m asdict\n",
      "File \u001b[0;32m~/parallel_pdg/video-pretrained-transformer/data_preprocessing/whisper_audio/lhotse_faster_whisper/lhotse/__init__.py:8\u001b[0m\n\u001b[1;32m      1\u001b[0m \u001b[39mfrom\u001b[39;00m \u001b[39m.\u001b[39;00m\u001b[39maudio\u001b[39;00m \u001b[39mimport\u001b[39;00m (\n\u001b[1;32m      2\u001b[0m     AudioSource,\n\u001b[1;32m      3\u001b[0m     Recording,\n\u001b[1;32m      4\u001b[0m     RecordingSet,\n\u001b[1;32m      5\u001b[0m     set_audio_duration_mismatch_tolerance,\n\u001b[1;32m      6\u001b[0m )\n\u001b[1;32m      7\u001b[0m \u001b[39mfrom\u001b[39;00m \u001b[39m.\u001b[39;00m\u001b[39mcaching\u001b[39;00m \u001b[39mimport\u001b[39;00m is_caching_enabled, set_caching_enabled\n\u001b[0;32m----> 8\u001b[0m \u001b[39mfrom\u001b[39;00m \u001b[39m.\u001b[39;00m\u001b[39mcut\u001b[39;00m \u001b[39mimport\u001b[39;00m CutSet, MonoCut, MultiCut, create_cut_set_eager, create_cut_set_lazy\n\u001b[1;32m      9\u001b[0m \u001b[39mfrom\u001b[39;00m \u001b[39m.\u001b[39;00m\u001b[39mfeatures\u001b[39;00m \u001b[39mimport\u001b[39;00m \u001b[39m*\u001b[39m\n\u001b[1;32m     10\u001b[0m \u001b[39mfrom\u001b[39;00m \u001b[39m.\u001b[39;00m\u001b[39mkaldi\u001b[39;00m \u001b[39mimport\u001b[39;00m load_kaldi_data_dir\n",
      "File \u001b[0;32m~/parallel_pdg/video-pretrained-transformer/data_preprocessing/whisper_audio/lhotse_faster_whisper/lhotse/cut/__init__.py:31\u001b[0m\n\u001b[1;32m      1\u001b[0m \u001b[39m\"\"\"\u001b[39;00m\n\u001b[1;32m      2\u001b[0m \u001b[39mThe following is the hierarchy of imports in this module (to avoid circular imports):\u001b[39;00m\n\u001b[1;32m      3\u001b[0m \n\u001b[0;32m   (...)\u001b[0m\n\u001b[1;32m     28\u001b[0m \n\u001b[1;32m     29\u001b[0m \u001b[39m\"\"\"\u001b[39;00m\n\u001b[0;32m---> 31\u001b[0m \u001b[39mfrom\u001b[39;00m \u001b[39m.\u001b[39;00m\u001b[39mbase\u001b[39;00m \u001b[39mimport\u001b[39;00m Cut\n\u001b[1;32m     32\u001b[0m \u001b[39mfrom\u001b[39;00m \u001b[39m.\u001b[39;00m\u001b[39mmixed\u001b[39;00m \u001b[39mimport\u001b[39;00m MixedCut, MixTrack\n\u001b[1;32m     33\u001b[0m \u001b[39mfrom\u001b[39;00m \u001b[39m.\u001b[39;00m\u001b[39mmono\u001b[39;00m \u001b[39mimport\u001b[39;00m MonoCut\n",
      "File \u001b[0;32m~/parallel_pdg/video-pretrained-transformer/data_preprocessing/whisper_audio/lhotse_faster_whisper/lhotse/cut/base.py:6\u001b[0m\n\u001b[1;32m      4\u001b[0m \u001b[39mimport\u001b[39;00m \u001b[39mnumpy\u001b[39;00m \u001b[39mas\u001b[39;00m \u001b[39mnp\u001b[39;00m\n\u001b[1;32m      5\u001b[0m \u001b[39mimport\u001b[39;00m \u001b[39mtorch\u001b[39;00m\n\u001b[0;32m----> 6\u001b[0m \u001b[39mfrom\u001b[39;00m \u001b[39mintervaltree\u001b[39;00m \u001b[39mimport\u001b[39;00m Interval, IntervalTree\n\u001b[1;32m      7\u001b[0m \u001b[39mfrom\u001b[39;00m \u001b[39mtyping_extensions\u001b[39;00m \u001b[39mimport\u001b[39;00m Literal\n\u001b[1;32m      9\u001b[0m \u001b[39mfrom\u001b[39;00m \u001b[39mlhotse\u001b[39;00m\u001b[39m.\u001b[39;00m\u001b[39maudio\u001b[39;00m \u001b[39mimport\u001b[39;00m AudioSource, Recording\n",
      "\u001b[0;31mModuleNotFoundError\u001b[0m: No module named 'intervaltree'"
     ]
    }
   ],
   "source": [
    "import sys\n",
    "# sys.path.append(os.path.join(os.getcwd(),\"../data_preprocessing/whisper_audio\"))\n",
    "# sys.path.append(\"/u/kastanday/parallel_pdg/video-pretrained-transformer/data_preprocessing/whisper_audio\")\n",
    "from ..data_preprocessing.whisper_audio.CaptionPreprocessing import CaptionPreprocessing\n",
    "# from CaptionPreprocessing \n",
    "import CaptionPreprocessing\n",
    "\n",
    "process = CaptionPreprocessing()"
   ]
  },
  {
   "cell_type": "code",
   "execution_count": null,
   "metadata": {},
   "outputs": [],
   "source": []
  }
 ],
 "metadata": {
  "kernelspec": {
   "display_name": "Python 3.8.15 ('v2_clip_preprocessing_yt1b')",
   "language": "python",
   "name": "python3"
  },
  "language_info": {
   "codemirror_mode": {
    "name": "ipython",
    "version": 3
   },
   "file_extension": ".py",
   "mimetype": "text/x-python",
   "name": "python",
   "nbconvert_exporter": "python",
   "pygments_lexer": "ipython3",
   "version": "3.8.15"
  },
  "orig_nbformat": 4,
  "vscode": {
   "interpreter": {
    "hash": "ed46fa05772da876fce35d76971029e05ff3c7c91c911e5a2aa38ba306eeb30e"
   }
  }
 },
 "nbformat": 4,
 "nbformat_minor": 2
}
