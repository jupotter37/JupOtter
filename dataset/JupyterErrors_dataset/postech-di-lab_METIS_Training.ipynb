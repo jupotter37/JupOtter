{
 "cells": [
  {
   "cell_type": "code",
   "execution_count": 1,
   "metadata": {},
   "outputs": [],
   "source": [
    "import torch\n",
    "import torch.nn.functional as F\n",
    "import torch.optim as optim\n",
    "import torch.nn as nn\n",
    "import matplotlib.pyplot as plt\n",
    "\n",
    "from utils import load_data, accuracy"
   ]
  },
  {
   "cell_type": "markdown",
   "metadata": {},
   "source": [
    "# Data Load"
   ]
  },
  {
   "cell_type": "code",
   "execution_count": 2,
   "metadata": {},
   "outputs": [
    {
     "name": "stdout",
     "output_type": "stream",
     "text": [
      "Loading cora dataset...\n"
     ]
    }
   ],
   "source": [
    "A, features, labels, idx_train, idx_val, idx_test = load_data()\n",
    "A = A.to_dense()\n",
    "A = A[:800,:800]"
   ]
  },
  {
   "cell_type": "code",
   "execution_count": 3,
   "metadata": {},
   "outputs": [
    {
     "data": {
      "text/plain": [
       "7"
      ]
     },
     "execution_count": 3,
     "metadata": {},
     "output_type": "execute_result"
    }
   ],
   "source": [
    "labels = labels[:800]\n",
    "num_class = labels.unique().size(0)\n",
    "num_class"
   ]
  },
  {
   "cell_type": "code",
   "execution_count": 4,
   "metadata": {},
   "outputs": [],
   "source": [
    "features = features[:800,:]\n",
    "num_feature = features.size(1)"
   ]
  },
  {
   "cell_type": "code",
   "execution_count": 5,
   "metadata": {},
   "outputs": [],
   "source": [
    "gpu = torch.device('cuda:0')"
   ]
  },
  {
   "cell_type": "code",
   "execution_count": 6,
   "metadata": {},
   "outputs": [],
   "source": [
    "features = features.to(gpu)\n",
    "A = A.to(gpu)\n",
    "labels = labels.to(gpu)\n",
    "idx_train = idx_train.to(gpu)\n",
    "idx_val = idx_val.to(gpu)\n",
    "idx_test = idx_test[:300].to(gpu)"
   ]
  },
  {
   "cell_type": "markdown",
   "metadata": {},
   "source": [
    "# FCN"
   ]
  },
  {
   "cell_type": "code",
   "execution_count": 7,
   "metadata": {},
   "outputs": [],
   "source": [
    "from layers import FCN"
   ]
  },
  {
   "cell_type": "code",
   "execution_count": 8,
   "metadata": {},
   "outputs": [],
   "source": [
    "model = FCN(num_feature , num_class).to(gpu)\n",
    "criterion = nn.CrossEntropyLoss()\n",
    "optimizer = optim.Adam(model.parameters(), lr=0.1, weight_decay=0.0001)"
   ]
  },
  {
   "cell_type": "code",
   "execution_count": 9,
   "metadata": {},
   "outputs": [
    {
     "name": "stdout",
     "output_type": "stream",
     "text": [
      "Epoch [0/100], Train Loss: 1.9833, Test Loss: 1.9149, Test ACC: 0.1333 *\n",
      "Epoch [1/100], Train Loss: 1.8816, Test Loss: 1.8316, Test ACC: 0.3667 *\n",
      "Epoch [2/100], Train Loss: 1.7630, Test Loss: 1.7685, Test ACC: 0.3600 *\n",
      "Epoch [3/100], Train Loss: 1.6534, Test Loss: 1.7416, Test ACC: 0.3600\n",
      "Epoch [4/100], Train Loss: 1.5632, Test Loss: 1.7110, Test ACC: 0.3600\n",
      "Epoch [5/100], Train Loss: 1.4452, Test Loss: 1.6539, Test ACC: 0.3633 *\n",
      "Epoch [6/100], Train Loss: 1.2910, Test Loss: 1.5909, Test ACC: 0.4033 *\n",
      "Epoch [7/100], Train Loss: 1.1433, Test Loss: 1.5393, Test ACC: 0.4633 *\n",
      "Epoch [8/100], Train Loss: 1.0116, Test Loss: 1.4990, Test ACC: 0.4633 *\n",
      "Epoch [9/100], Train Loss: 0.8740, Test Loss: 1.4725, Test ACC: 0.4867 *\n",
      "Epoch [10/100], Train Loss: 0.7408, Test Loss: 1.4562, Test ACC: 0.4800\n",
      "Epoch [11/100], Train Loss: 0.6133, Test Loss: 1.4468, Test ACC: 0.4833\n",
      "Epoch [12/100], Train Loss: 0.4989, Test Loss: 1.4308, Test ACC: 0.5000\n",
      "Epoch [13/100], Train Loss: 0.3987, Test Loss: 1.4030, Test ACC: 0.5200 *\n",
      "Epoch [14/100], Train Loss: 0.3189, Test Loss: 1.3623, Test ACC: 0.5500 *\n",
      "Epoch [15/100], Train Loss: 0.2548, Test Loss: 1.3184, Test ACC: 0.5700 *\n",
      "Epoch [16/100], Train Loss: 0.2059, Test Loss: 1.2795, Test ACC: 0.5933 *\n",
      "Epoch [17/100], Train Loss: 0.1706, Test Loss: 1.2521, Test ACC: 0.6000 *\n",
      "Epoch [18/100], Train Loss: 0.1450, Test Loss: 1.2418, Test ACC: 0.6100\n",
      "Epoch [19/100], Train Loss: 0.1248, Test Loss: 1.2488, Test ACC: 0.5967\n",
      "Epoch [20/100], Train Loss: 0.1073, Test Loss: 1.2702, Test ACC: 0.6000\n",
      "Epoch [21/100], Train Loss: 0.0916, Test Loss: 1.2994, Test ACC: 0.5767\n",
      "Epoch [22/100], Train Loss: 0.0761, Test Loss: 1.3319, Test ACC: 0.5800\n",
      "Epoch [23/100], Train Loss: 0.0612, Test Loss: 1.3673, Test ACC: 0.5733\n",
      "Epoch [24/100], Train Loss: 0.0475, Test Loss: 1.4128, Test ACC: 0.5800\n",
      "Epoch [25/100], Train Loss: 0.0371, Test Loss: 1.4737, Test ACC: 0.5433\n",
      "Epoch [26/100], Train Loss: 0.0319, Test Loss: 1.5350, Test ACC: 0.5300\n",
      "Epoch [27/100], Train Loss: 0.0305, Test Loss: 1.5644, Test ACC: 0.5367\n",
      "Epoch [28/100], Train Loss: 0.0286, Test Loss: 1.5597, Test ACC: 0.5600\n",
      "Epoch [29/100], Train Loss: 0.0249, Test Loss: 1.5431, Test ACC: 0.6033\n",
      "Epoch [30/100], Train Loss: 0.0214, Test Loss: 1.5254, Test ACC: 0.6200\n",
      "Epoch [31/100], Train Loss: 0.0191, Test Loss: 1.5032, Test ACC: 0.6200\n",
      "Epoch [32/100], Train Loss: 0.0176, Test Loss: 1.4773, Test ACC: 0.6133\n",
      "Epoch [33/100], Train Loss: 0.0170, Test Loss: 1.4570, Test ACC: 0.6233\n",
      "Epoch [34/100], Train Loss: 0.0180, Test Loss: 1.4459, Test ACC: 0.6300\n",
      "Epoch [35/100], Train Loss: 0.0200, Test Loss: 1.4344, Test ACC: 0.6367\n",
      "Epoch [36/100], Train Loss: 0.0210, Test Loss: 1.4187, Test ACC: 0.6467\n",
      "Epoch [37/100], Train Loss: 0.0211, Test Loss: 1.4105, Test ACC: 0.6567\n",
      "Epoch [38/100], Train Loss: 0.0221, Test Loss: 1.4104, Test ACC: 0.6567\n",
      "Epoch [39/100], Train Loss: 0.0234, Test Loss: 1.4150, Test ACC: 0.6567\n",
      "Epoch [40/100], Train Loss: 0.0237, Test Loss: 1.4297, Test ACC: 0.6433\n",
      "Epoch [41/100], Train Loss: 0.0245, Test Loss: 1.4441, Test ACC: 0.6400\n",
      "Epoch [42/100], Train Loss: 0.0253, Test Loss: 1.4393, Test ACC: 0.6467\n",
      "Epoch [43/100], Train Loss: 0.0251, Test Loss: 1.4207, Test ACC: 0.6567\n",
      "Epoch [44/100], Train Loss: 0.0245, Test Loss: 1.3991, Test ACC: 0.6567\n",
      "Epoch [45/100], Train Loss: 0.0241, Test Loss: 1.3828, Test ACC: 0.6600\n",
      "Epoch [46/100], Train Loss: 0.0233, Test Loss: 1.3808, Test ACC: 0.6533\n",
      "Epoch [47/100], Train Loss: 0.0219, Test Loss: 1.3932, Test ACC: 0.6533\n",
      "Epoch [48/100], Train Loss: 0.0208, Test Loss: 1.4046, Test ACC: 0.6567\n",
      "Epoch [49/100], Train Loss: 0.0196, Test Loss: 1.4044, Test ACC: 0.6667\n",
      "Epoch [50/100], Train Loss: 0.0183, Test Loss: 1.3968, Test ACC: 0.6600\n",
      "Epoch [51/100], Train Loss: 0.0174, Test Loss: 1.3887, Test ACC: 0.6600\n",
      "Epoch [52/100], Train Loss: 0.0168, Test Loss: 1.3832, Test ACC: 0.6600\n",
      "Epoch [53/100], Train Loss: 0.0163, Test Loss: 1.3831, Test ACC: 0.6533\n",
      "Epoch [54/100], Train Loss: 0.0159, Test Loss: 1.3844, Test ACC: 0.6500\n",
      "Epoch [55/100], Train Loss: 0.0159, Test Loss: 1.3751, Test ACC: 0.6500\n",
      "Epoch [56/100], Train Loss: 0.0158, Test Loss: 1.3573, Test ACC: 0.6500\n",
      "Epoch [57/100], Train Loss: 0.0156, Test Loss: 1.3475, Test ACC: 0.6633\n",
      "Epoch [58/100], Train Loss: 0.0156, Test Loss: 1.3508, Test ACC: 0.6633\n",
      "Epoch [59/100], Train Loss: 0.0154, Test Loss: 1.3600, Test ACC: 0.6600\n",
      "Epoch [60/100], Train Loss: 0.0152, Test Loss: 1.3606, Test ACC: 0.6500\n",
      "Epoch [61/100], Train Loss: 0.0150, Test Loss: 1.3465, Test ACC: 0.6467\n",
      "Epoch [62/100], Train Loss: 0.0147, Test Loss: 1.3320, Test ACC: 0.6600\n",
      "Epoch [63/100], Train Loss: 0.0146, Test Loss: 1.3298, Test ACC: 0.6600\n",
      "Epoch [64/100], Train Loss: 0.0144, Test Loss: 1.3372, Test ACC: 0.6567\n",
      "Epoch [65/100], Train Loss: 0.0144, Test Loss: 1.3371, Test ACC: 0.6567\n",
      "Epoch [66/100], Train Loss: 0.0142, Test Loss: 1.3282, Test ACC: 0.6600\n",
      "Epoch [67/100], Train Loss: 0.0139, Test Loss: 1.3256, Test ACC: 0.6600\n"
     ]
    }
   ],
   "source": [
    "train_loss_arr = []\n",
    "test_loss_arr = []\n",
    "best_ACC, final_ACC = -999., -999.\n",
    "early_stop, early_stop_max = 0., 50.\n",
    "\n",
    "for epoch in range(100):\n",
    "\n",
    "    optimizer.zero_grad()\n",
    "\n",
    "    # Forward Pass\n",
    "    model.train()\n",
    "    output = model(features)\n",
    "    train_loss = criterion(output[idx_train], labels[idx_train])\n",
    "\n",
    "    # Backward and optimize\n",
    "    train_loss.backward()\n",
    "    optimizer.step()\n",
    "        \n",
    "    train_loss_arr.append(train_loss.data)\n",
    "    \n",
    "    if epoch % 1 == 0:\n",
    "        model.eval()\n",
    "        \n",
    "        output = model(features)\n",
    "        val_loss = criterion(output[idx_val], labels[idx_val])\n",
    "        test_loss = criterion(output[idx_test], labels[idx_test])\n",
    "        \n",
    "        val_acc = accuracy(output[idx_val], labels[idx_val])\n",
    "        test_acc = accuracy(output[idx_test], labels[idx_test])\n",
    "        \n",
    "        test_loss_arr.append(test_loss)\n",
    "        \n",
    "        if best_ACC < val_acc:\n",
    "            best_ACC = val_acc\n",
    "            early_stop = 0\n",
    "            final_ACC = test_acc\n",
    "            print('Epoch [{}/{}], Train Loss: {:.4f}, Test Loss: {:.4f}, Test ACC: {:.4f} *'.format(epoch, 100, train_loss.data, test_loss, test_acc))\n",
    "        else:\n",
    "            early_stop += 1\n",
    "\n",
    "            print('Epoch [{}/{}], Train Loss: {:.4f}, Test Loss: {:.4f}, Test ACC: {:.4f}'.format(epoch, 100, train_loss.data, test_loss, test_acc))\n",
    "\n",
    "    if early_stop >= early_stop_max:\n",
    "        break"
   ]
  },
  {
   "cell_type": "code",
   "execution_count": 13,
   "metadata": {},
   "outputs": [
    {
     "name": "stdout",
     "output_type": "stream",
     "text": [
      "Final Accuracy:: 0.6\n"
     ]
    }
   ],
   "source": [
    "print(\"Final Accuracy::\", round(float(final_ACC.data), 4))"
   ]
  },
  {
   "cell_type": "code",
   "execution_count": 14,
   "metadata": {},
   "outputs": [
    {
     "data": {
      "image/png": "[encoded data removed]",
      "text/plain": [
       "<Figure size 432x288 with 1 Axes>"
      ]
     },
     "metadata": {
      "needs_background": "light"
     },
     "output_type": "display_data"
    }
   ],
   "source": [
    "plt.plot(train_loss_arr)\n",
    "plt.show()"
   ]
  },
  {
   "cell_type": "markdown",
   "metadata": {},
   "source": [
    "# GCN"
   ]
  },
  {
   "cell_type": "code",
   "execution_count": 15,
   "metadata": {},
   "outputs": [],
   "source": [
    "from layers import GCN"
   ]
  },
  {
   "cell_type": "code",
   "execution_count": 16,
   "metadata": {},
   "outputs": [],
   "source": [
    "model = GCN(num_feature, num_class, A).to(gpu)\n",
    "criterion = nn.CrossEntropyLoss()\n",
    "optimizer = optim.Adam(model.parameters(), lr=0.1, weight_decay=0.0001)"
   ]
  },
  {
   "cell_type": "code",
   "execution_count": 17,
   "metadata": {
    "scrolled": true
   },
   "outputs": [
    {
     "name": "stdout",
     "output_type": "stream",
     "text": [
      "Epoch [0/100], Train Loss: 1.9451, Test Loss: 1.8909, Test ACC: 0.1333 *\n",
      "Epoch [1/100], Train Loss: 1.8839, Test Loss: 1.8245, Test ACC: 0.3500 *\n",
      "Epoch [2/100], Train Loss: 1.8211, Test Loss: 1.7737, Test ACC: 0.3600\n",
      "Epoch [3/100], Train Loss: 1.7705, Test Loss: 1.7341, Test ACC: 0.3567\n",
      "Epoch [4/100], Train Loss: 1.7322, Test Loss: 1.7011, Test ACC: 0.3567\n",
      "Epoch [5/100], Train Loss: 1.6889, Test Loss: 1.6662, Test ACC: 0.3600 *\n",
      "Epoch [6/100], Train Loss: 1.6266, Test Loss: 1.6310, Test ACC: 0.3867 *\n",
      "Epoch [7/100], Train Loss: 1.5544, Test Loss: 1.5950, Test ACC: 0.4500 *\n",
      "Epoch [8/100], Train Loss: 1.4806, Test Loss: 1.5498, Test ACC: 0.5600 *\n",
      "Epoch [9/100], Train Loss: 1.4023, Test Loss: 1.4949, Test ACC: 0.6000 *\n",
      "Epoch [10/100], Train Loss: 1.3101, Test Loss: 1.4301, Test ACC: 0.6167 *\n",
      "Epoch [11/100], Train Loss: 1.2113, Test Loss: 1.3605, Test ACC: 0.6167 *\n",
      "Epoch [12/100], Train Loss: 1.1114, Test Loss: 1.2937, Test ACC: 0.6233 *\n",
      "Epoch [13/100], Train Loss: 1.0190, Test Loss: 1.2335, Test ACC: 0.6467 *\n",
      "Epoch [14/100], Train Loss: 0.9326, Test Loss: 1.1794, Test ACC: 0.6433 *\n",
      "Epoch [15/100], Train Loss: 0.8503, Test Loss: 1.1335, Test ACC: 0.6433\n",
      "Epoch [16/100], Train Loss: 0.7744, Test Loss: 1.0982, Test ACC: 0.6533\n",
      "Epoch [17/100], Train Loss: 0.7065, Test Loss: 1.0659, Test ACC: 0.6767 *\n",
      "Epoch [18/100], Train Loss: 0.6442, Test Loss: 1.0338, Test ACC: 0.6933 *\n",
      "Epoch [19/100], Train Loss: 0.5882, Test Loss: 1.0036, Test ACC: 0.7133 *\n",
      "Epoch [20/100], Train Loss: 0.5400, Test Loss: 0.9756, Test ACC: 0.7367 *\n",
      "Epoch [21/100], Train Loss: 0.4980, Test Loss: 0.9500, Test ACC: 0.7400 *\n",
      "Epoch [22/100], Train Loss: 0.4592, Test Loss: 0.9297, Test ACC: 0.7467\n",
      "Epoch [23/100], Train Loss: 0.4226, Test Loss: 0.9146, Test ACC: 0.7600\n",
      "Epoch [24/100], Train Loss: 0.3903, Test Loss: 0.9033, Test ACC: 0.7633\n",
      "Epoch [25/100], Train Loss: 0.3631, Test Loss: 0.8915, Test ACC: 0.7667\n",
      "Epoch [26/100], Train Loss: 0.3400, Test Loss: 0.8773, Test ACC: 0.7667\n",
      "Epoch [27/100], Train Loss: 0.3190, Test Loss: 0.8628, Test ACC: 0.7667\n",
      "Epoch [28/100], Train Loss: 0.2999, Test Loss: 0.8511, Test ACC: 0.7633\n",
      "Epoch [29/100], Train Loss: 0.2831, Test Loss: 0.8458, Test ACC: 0.7667\n",
      "Epoch [30/100], Train Loss: 0.2690, Test Loss: 0.8468, Test ACC: 0.7633\n",
      "Epoch [31/100], Train Loss: 0.2573, Test Loss: 0.8472, Test ACC: 0.7733\n",
      "Epoch [32/100], Train Loss: 0.2472, Test Loss: 0.8429, Test ACC: 0.7667\n",
      "Epoch [33/100], Train Loss: 0.2376, Test Loss: 0.8362, Test ACC: 0.7667\n",
      "Epoch [34/100], Train Loss: 0.2290, Test Loss: 0.8313, Test ACC: 0.7700\n",
      "Epoch [35/100], Train Loss: 0.2219, Test Loss: 0.8294, Test ACC: 0.7700\n",
      "Epoch [36/100], Train Loss: 0.2159, Test Loss: 0.8293, Test ACC: 0.7733\n",
      "Epoch [37/100], Train Loss: 0.2104, Test Loss: 0.8311, Test ACC: 0.7733\n",
      "Epoch [38/100], Train Loss: 0.2049, Test Loss: 0.8349, Test ACC: 0.7633\n",
      "Epoch [39/100], Train Loss: 0.1998, Test Loss: 0.8374, Test ACC: 0.7667\n",
      "Epoch [40/100], Train Loss: 0.1952, Test Loss: 0.8362, Test ACC: 0.7633\n",
      "Epoch [41/100], Train Loss: 0.1909, Test Loss: 0.8347, Test ACC: 0.7600\n",
      "Epoch [42/100], Train Loss: 0.1869, Test Loss: 0.8357, Test ACC: 0.7633\n",
      "Epoch [43/100], Train Loss: 0.1829, Test Loss: 0.8385, Test ACC: 0.7633\n",
      "Epoch [44/100], Train Loss: 0.1793, Test Loss: 0.8400, Test ACC: 0.7633\n",
      "Epoch [45/100], Train Loss: 0.1758, Test Loss: 0.8397, Test ACC: 0.7700\n",
      "Epoch [46/100], Train Loss: 0.1723, Test Loss: 0.8397, Test ACC: 0.7700\n",
      "Epoch [47/100], Train Loss: 0.1687, Test Loss: 0.8402, Test ACC: 0.7700\n",
      "Epoch [48/100], Train Loss: 0.1652, Test Loss: 0.8398, Test ACC: 0.7667\n",
      "Epoch [49/100], Train Loss: 0.1617, Test Loss: 0.8407, Test ACC: 0.7633\n",
      "Epoch [50/100], Train Loss: 0.1585, Test Loss: 0.8411, Test ACC: 0.7667\n",
      "Epoch [51/100], Train Loss: 0.1554, Test Loss: 0.8380, Test ACC: 0.7633\n",
      "Epoch [52/100], Train Loss: 0.1524, Test Loss: 0.8369, Test ACC: 0.7633\n",
      "Epoch [53/100], Train Loss: 0.1493, Test Loss: 0.8370, Test ACC: 0.7667\n",
      "Epoch [54/100], Train Loss: 0.1461, Test Loss: 0.8353, Test ACC: 0.7667\n",
      "Epoch [55/100], Train Loss: 0.1428, Test Loss: 0.8377, Test ACC: 0.7667\n",
      "Epoch [56/100], Train Loss: 0.1394, Test Loss: 0.8340, Test ACC: 0.7733\n",
      "Epoch [57/100], Train Loss: 0.1360, Test Loss: 0.8353, Test ACC: 0.7733\n",
      "Epoch [58/100], Train Loss: 0.1326, Test Loss: 0.8284, Test ACC: 0.7700 *\n",
      "Epoch [59/100], Train Loss: 0.1295, Test Loss: 0.8344, Test ACC: 0.7767\n",
      "Epoch [60/100], Train Loss: 0.1265, Test Loss: 0.8278, Test ACC: 0.7733\n",
      "Epoch [61/100], Train Loss: 0.1236, Test Loss: 0.8332, Test ACC: 0.7800\n",
      "Epoch [62/100], Train Loss: 0.1209, Test Loss: 0.8304, Test ACC: 0.7700\n",
      "Epoch [63/100], Train Loss: 0.1182, Test Loss: 0.8291, Test ACC: 0.7733\n",
      "Epoch [64/100], Train Loss: 0.1158, Test Loss: 0.8319, Test ACC: 0.7733\n",
      "Epoch [65/100], Train Loss: 0.1135, Test Loss: 0.8246, Test ACC: 0.7733\n",
      "Epoch [66/100], Train Loss: 0.1117, Test Loss: 0.8439, Test ACC: 0.7667\n",
      "Epoch [67/100], Train Loss: 0.1104, Test Loss: 0.8229, Test ACC: 0.7767 *\n",
      "Epoch [68/100], Train Loss: 0.1082, Test Loss: 0.8304, Test ACC: 0.7767\n",
      "Epoch [69/100], Train Loss: 0.1060, Test Loss: 0.8436, Test ACC: 0.7667\n",
      "Epoch [70/100], Train Loss: 0.1051, Test Loss: 0.8223, Test ACC: 0.7733\n",
      "Epoch [71/100], Train Loss: 0.1033, Test Loss: 0.8303, Test ACC: 0.7733\n",
      "Epoch [72/100], Train Loss: 0.1012, Test Loss: 0.8459, Test ACC: 0.7567\n",
      "Epoch [73/100], Train Loss: 0.1004, Test Loss: 0.8286, Test ACC: 0.7700\n",
      "Epoch [74/100], Train Loss: 0.0987, Test Loss: 0.8337, Test ACC: 0.7633\n",
      "Epoch [75/100], Train Loss: 0.0971, Test Loss: 0.8450, Test ACC: 0.7667\n",
      "Epoch [76/100], Train Loss: 0.0961, Test Loss: 0.8351, Test ACC: 0.7700\n",
      "Epoch [77/100], Train Loss: 0.0951, Test Loss: 0.8380, Test ACC: 0.7667\n",
      "Epoch [78/100], Train Loss: 0.0936, Test Loss: 0.8427, Test ACC: 0.7633\n",
      "Epoch [79/100], Train Loss: 0.0927, Test Loss: 0.8383, Test ACC: 0.7667\n",
      "Epoch [80/100], Train Loss: 0.0922, Test Loss: 0.8477, Test ACC: 0.7633\n",
      "Epoch [81/100], Train Loss: 0.0909, Test Loss: 0.8421, Test ACC: 0.7667\n",
      "Epoch [82/100], Train Loss: 0.0899, Test Loss: 0.8382, Test ACC: 0.7633\n",
      "Epoch [83/100], Train Loss: 0.0892, Test Loss: 0.8539, Test ACC: 0.7633\n",
      "Epoch [84/100], Train Loss: 0.0884, Test Loss: 0.8438, Test ACC: 0.7633\n",
      "Epoch [85/100], Train Loss: 0.0872, Test Loss: 0.8459, Test ACC: 0.7667\n",
      "Epoch [86/100], Train Loss: 0.0865, Test Loss: 0.8561, Test ACC: 0.7667\n",
      "Epoch [87/100], Train Loss: 0.0858, Test Loss: 0.8504, Test ACC: 0.7633\n",
      "Epoch [88/100], Train Loss: 0.0850, Test Loss: 0.8501, Test ACC: 0.7667\n",
      "Epoch [89/100], Train Loss: 0.0841, Test Loss: 0.8552, Test ACC: 0.7667\n",
      "Epoch [90/100], Train Loss: 0.0833, Test Loss: 0.8517, Test ACC: 0.7633\n",
      "Epoch [91/100], Train Loss: 0.0828, Test Loss: 0.8621, Test ACC: 0.7667\n",
      "Epoch [92/100], Train Loss: 0.0821, Test Loss: 0.8492, Test ACC: 0.7667\n",
      "Epoch [93/100], Train Loss: 0.0817, Test Loss: 0.8634, Test ACC: 0.7700\n",
      "Epoch [94/100], Train Loss: 0.0812, Test Loss: 0.8574, Test ACC: 0.7700\n",
      "Epoch [95/100], Train Loss: 0.0807, Test Loss: 0.8602, Test ACC: 0.7667\n",
      "Epoch [96/100], Train Loss: 0.0801, Test Loss: 0.8608, Test ACC: 0.7700\n",
      "Epoch [97/100], Train Loss: 0.0794, Test Loss: 0.8615, Test ACC: 0.7633\n",
      "Epoch [98/100], Train Loss: 0.0787, Test Loss: 0.8626, Test ACC: 0.7633\n",
      "Epoch [99/100], Train Loss: 0.0782, Test Loss: 0.8613, Test ACC: 0.7667\n",
      "Final Accuracy:: tensor(0.7767, device='cuda:0', dtype=torch.float64)\n"
     ]
    }
   ],
   "source": [
    "train_loss_arr = []\n",
    "test_loss_arr = []\n",
    "best_ACC, final_ACC = -999., -999.\n",
    "early_stop, early_stop_max = 0., 50.\n",
    "\n",
    "for epoch in range(100):\n",
    "\n",
    "    optimizer.zero_grad()\n",
    "\n",
    "    # Forward Pass\n",
    "    model.train()\n",
    "    output = model(features)\n",
    "    train_loss = criterion(output[idx_train], labels[idx_train])\n",
    "\n",
    "    # Backward and optimize\n",
    "    train_loss.backward()\n",
    "    optimizer.step()\n",
    "        \n",
    "    train_loss_arr.append(train_loss.data)\n",
    "    \n",
    "    if epoch % 1 == 0:\n",
    "        model.eval()\n",
    "        \n",
    "        output = model(features)\n",
    "        val_loss = criterion(output[idx_val], labels[idx_val])\n",
    "        test_loss = criterion(output[idx_test], labels[idx_test])\n",
    "        \n",
    "        val_acc = accuracy(output[idx_val], labels[idx_val])\n",
    "        test_acc = accuracy(output[idx_test], labels[idx_test])\n",
    "        \n",
    "        test_loss_arr.append(test_loss)\n",
    "        \n",
    "        if best_ACC < val_acc:\n",
    "            best_ACC = val_acc\n",
    "            early_stop = 0\n",
    "            final_ACC = test_acc\n",
    "            print('Epoch [{}/{}], Train Loss: {:.4f}, Test Loss: {:.4f}, Test ACC: {:.4f} *'.format(epoch, 100, train_loss.data, test_loss, test_acc))\n",
    "        else:\n",
    "            early_stop += 1\n",
    "\n",
    "            print('Epoch [{}/{}], Train Loss: {:.4f}, Test Loss: {:.4f}, Test ACC: {:.4f}'.format(epoch, 100, train_loss.data, test_loss, test_acc))\n",
    "\n",
    "    if early_stop >= early_stop_max:\n",
    "        break\n",
    "        \n",
    "print(\"Final Accuracy::\", final_ACC)"
   ]
  },
  {
   "cell_type": "code",
   "execution_count": 18,
   "metadata": {},
   "outputs": [
    {
     "name": "stdout",
     "output_type": "stream",
     "text": [
      "Final Accuracy:: 0.7767\n"
     ]
    }
   ],
   "source": [
    "print(\"Final Accuracy::\", round(float(final_ACC.data), 4))"
   ]
  },
  {
   "cell_type": "code",
   "execution_count": 19,
   "metadata": {},
   "outputs": [
    {
     "data": {
      "image/png": "[encoded data removed]",
      "text/plain": [
       "<Figure size 432x288 with 1 Axes>"
      ]
     },
     "metadata": {
      "needs_background": "light"
     },
     "output_type": "display_data"
    }
   ],
   "source": [
    "plt.plot(train_loss_arr)\n",
    "plt.show()"
   ]
  },
  {
   "cell_type": "markdown",
   "metadata": {},
   "source": [
    "# GAT"
   ]
  },
  {
   "cell_type": "code",
   "execution_count": 20,
   "metadata": {},
   "outputs": [],
   "source": [
    "from layers import GAT"
   ]
  },
  {
   "cell_type": "code",
   "execution_count": 21,
   "metadata": {},
   "outputs": [],
   "source": [
    "model = GAT(num_feature, num_class, A, 0.6, 5).to(gpu)\n",
    "criterion = nn.CrossEntropyLoss()\n",
    "optimizer = optim.Adam(model.parameters(), lr=0.01)"
   ]
  },
  {
   "cell_type": "code",
   "execution_count": 22,
   "metadata": {},
   "outputs": [
    {
     "name": "stdout",
     "output_type": "stream",
     "text": [
      "Epoch [0/100], Train Loss: 1.9486, Test Loss: 1.9277, Test ACC: 0.4567 *\n",
      "Epoch [1/100], Train Loss: 1.9274, Test Loss: 1.9082, Test ACC: 0.5500 *\n",
      "Epoch [2/100], Train Loss: 1.9021, Test Loss: 1.8883, Test ACC: 0.5700 *\n",
      "Epoch [3/100], Train Loss: 1.8683, Test Loss: 1.8677, Test ACC: 0.5700\n",
      "Epoch [4/100], Train Loss: 1.8408, Test Loss: 1.8464, Test ACC: 0.5833\n",
      "Epoch [5/100], Train Loss: 1.8136, Test Loss: 1.8246, Test ACC: 0.5867\n",
      "Epoch [6/100], Train Loss: 1.7823, Test Loss: 1.8017, Test ACC: 0.5800\n",
      "Epoch [7/100], Train Loss: 1.7458, Test Loss: 1.7780, Test ACC: 0.5800\n",
      "Epoch [8/100], Train Loss: 1.7265, Test Loss: 1.7535, Test ACC: 0.5833\n",
      "Epoch [9/100], Train Loss: 1.7184, Test Loss: 1.7287, Test ACC: 0.5900\n",
      "Epoch [10/100], Train Loss: 1.6518, Test Loss: 1.7036, Test ACC: 0.5933\n",
      "Epoch [11/100], Train Loss: 1.6754, Test Loss: 1.6784, Test ACC: 0.5967\n",
      "Epoch [12/100], Train Loss: 1.6016, Test Loss: 1.6526, Test ACC: 0.6033\n",
      "Epoch [13/100], Train Loss: 1.5913, Test Loss: 1.6268, Test ACC: 0.6133\n",
      "Epoch [14/100], Train Loss: 1.5005, Test Loss: 1.6005, Test ACC: 0.6167 *\n",
      "Epoch [15/100], Train Loss: 1.5289, Test Loss: 1.5742, Test ACC: 0.6367 *\n",
      "Epoch [16/100], Train Loss: 1.5535, Test Loss: 1.5480, Test ACC: 0.6400 *\n",
      "Epoch [17/100], Train Loss: 1.4927, Test Loss: 1.5224, Test ACC: 0.6500 *\n",
      "Epoch [18/100], Train Loss: 1.4092, Test Loss: 1.4968, Test ACC: 0.6667 *\n",
      "Epoch [19/100], Train Loss: 1.3580, Test Loss: 1.4711, Test ACC: 0.6900 *\n",
      "Epoch [20/100], Train Loss: 1.3189, Test Loss: 1.4456, Test ACC: 0.7000 *\n",
      "Epoch [21/100], Train Loss: 1.4751, Test Loss: 1.4210, Test ACC: 0.7200 *\n",
      "Epoch [22/100], Train Loss: 1.2638, Test Loss: 1.3964, Test ACC: 0.7200 *\n",
      "Epoch [23/100], Train Loss: 1.3634, Test Loss: 1.3719, Test ACC: 0.7267 *\n",
      "Epoch [24/100], Train Loss: 1.3522, Test Loss: 1.3479, Test ACC: 0.7400 *\n",
      "Epoch [25/100], Train Loss: 1.2168, Test Loss: 1.3243, Test ACC: 0.7467 *\n",
      "Epoch [26/100], Train Loss: 1.1990, Test Loss: 1.3010, Test ACC: 0.7500 *\n",
      "Epoch [27/100], Train Loss: 1.2437, Test Loss: 1.2780, Test ACC: 0.7567 *\n",
      "Epoch [28/100], Train Loss: 1.1541, Test Loss: 1.2553, Test ACC: 0.7767 *\n",
      "Epoch [29/100], Train Loss: 1.2101, Test Loss: 1.2329, Test ACC: 0.7833\n",
      "Epoch [30/100], Train Loss: 1.1007, Test Loss: 1.2106, Test ACC: 0.7800 *\n",
      "Epoch [31/100], Train Loss: 1.1746, Test Loss: 1.1894, Test ACC: 0.7867\n",
      "Epoch [32/100], Train Loss: 1.1141, Test Loss: 1.1687, Test ACC: 0.7900\n",
      "Epoch [33/100], Train Loss: 1.1150, Test Loss: 1.1482, Test ACC: 0.7900\n",
      "Epoch [34/100], Train Loss: 1.0108, Test Loss: 1.1281, Test ACC: 0.7867\n",
      "Epoch [35/100], Train Loss: 1.1847, Test Loss: 1.1085, Test ACC: 0.7867\n",
      "Epoch [36/100], Train Loss: 0.9727, Test Loss: 1.0893, Test ACC: 0.7967\n",
      "Epoch [37/100], Train Loss: 1.1616, Test Loss: 1.0709, Test ACC: 0.7967\n",
      "Epoch [38/100], Train Loss: 1.1201, Test Loss: 1.0532, Test ACC: 0.7967\n",
      "Epoch [39/100], Train Loss: 0.9444, Test Loss: 1.0360, Test ACC: 0.8000\n",
      "Epoch [40/100], Train Loss: 1.0313, Test Loss: 1.0197, Test ACC: 0.8033\n",
      "Epoch [41/100], Train Loss: 1.0470, Test Loss: 1.0039, Test ACC: 0.8000\n",
      "Epoch [42/100], Train Loss: 0.9972, Test Loss: 0.9885, Test ACC: 0.7967\n",
      "Epoch [43/100], Train Loss: 0.9842, Test Loss: 0.9734, Test ACC: 0.8033\n",
      "Epoch [44/100], Train Loss: 0.9816, Test Loss: 0.9588, Test ACC: 0.8033\n",
      "Epoch [45/100], Train Loss: 1.0249, Test Loss: 0.9449, Test ACC: 0.8067\n",
      "Epoch [46/100], Train Loss: 0.9251, Test Loss: 0.9320, Test ACC: 0.8067\n",
      "Epoch [47/100], Train Loss: 0.9027, Test Loss: 0.9192, Test ACC: 0.8067\n",
      "Epoch [48/100], Train Loss: 0.9213, Test Loss: 0.9066, Test ACC: 0.8100\n",
      "Epoch [49/100], Train Loss: 0.9259, Test Loss: 0.8945, Test ACC: 0.8100\n",
      "Epoch [50/100], Train Loss: 0.8774, Test Loss: 0.8826, Test ACC: 0.8133\n",
      "Epoch [51/100], Train Loss: 0.8882, Test Loss: 0.8711, Test ACC: 0.8167\n",
      "Epoch [52/100], Train Loss: 0.8886, Test Loss: 0.8601, Test ACC: 0.8133\n",
      "Epoch [53/100], Train Loss: 0.9806, Test Loss: 0.8497, Test ACC: 0.8133\n",
      "Epoch [54/100], Train Loss: 0.9859, Test Loss: 0.8399, Test ACC: 0.8133\n",
      "Epoch [55/100], Train Loss: 0.8961, Test Loss: 0.8299, Test ACC: 0.8133\n",
      "Epoch [56/100], Train Loss: 0.7783, Test Loss: 0.8203, Test ACC: 0.8167\n",
      "Epoch [57/100], Train Loss: 0.7990, Test Loss: 0.8115, Test ACC: 0.8200\n",
      "Epoch [58/100], Train Loss: 0.8788, Test Loss: 0.8032, Test ACC: 0.8200\n",
      "Epoch [59/100], Train Loss: 0.8882, Test Loss: 0.7955, Test ACC: 0.8200\n",
      "Epoch [60/100], Train Loss: 0.8414, Test Loss: 0.7880, Test ACC: 0.8167\n",
      "Epoch [61/100], Train Loss: 0.8405, Test Loss: 0.7811, Test ACC: 0.8200\n",
      "Epoch [62/100], Train Loss: 0.8590, Test Loss: 0.7743, Test ACC: 0.8200\n",
      "Epoch [63/100], Train Loss: 0.7813, Test Loss: 0.7678, Test ACC: 0.8200\n",
      "Epoch [64/100], Train Loss: 0.7952, Test Loss: 0.7617, Test ACC: 0.8300\n",
      "Epoch [65/100], Train Loss: 0.8321, Test Loss: 0.7563, Test ACC: 0.8300\n",
      "Epoch [66/100], Train Loss: 0.7628, Test Loss: 0.7510, Test ACC: 0.8300\n",
      "Epoch [67/100], Train Loss: 0.9026, Test Loss: 0.7460, Test ACC: 0.8267\n",
      "Epoch [68/100], Train Loss: 0.6680, Test Loss: 0.7409, Test ACC: 0.8267\n",
      "Epoch [69/100], Train Loss: 0.6191, Test Loss: 0.7361, Test ACC: 0.8267\n",
      "Epoch [70/100], Train Loss: 0.7369, Test Loss: 0.7315, Test ACC: 0.8267\n",
      "Epoch [71/100], Train Loss: 0.7371, Test Loss: 0.7276, Test ACC: 0.8267\n",
      "Epoch [72/100], Train Loss: 0.8255, Test Loss: 0.7235, Test ACC: 0.8267 *\n",
      "Epoch [73/100], Train Loss: 0.7082, Test Loss: 0.7195, Test ACC: 0.8267\n",
      "Epoch [74/100], Train Loss: 0.7955, Test Loss: 0.7158, Test ACC: 0.8267\n",
      "Epoch [75/100], Train Loss: 0.6425, Test Loss: 0.7122, Test ACC: 0.8233\n",
      "Epoch [76/100], Train Loss: 0.7253, Test Loss: 0.7086, Test ACC: 0.8267\n",
      "Epoch [77/100], Train Loss: 0.8512, Test Loss: 0.7050, Test ACC: 0.8267\n"
     ]
    },
    {
     "ename": "RuntimeError",
     "evalue": "CUDA out of memory. Tried to allocate 40.00 MiB (GPU 0; 22.38 GiB total capacity; 21.68 GiB already allocated; 10.06 MiB free; 21.85 GiB reserved in total by PyTorch)",
     "output_type": "error",
     "traceback": [
      "\u001b[0;31m---------------------------------------------------------------------------\u001b[0m",
      "\u001b[0;31mRuntimeError\u001b[0m                              Traceback (most recent call last)",
      "\u001b[0;32m<ipython-input-22-518cb067f8a0>\u001b[0m in \u001b[0;36m<module>\u001b[0;34m\u001b[0m\n\u001b[1;32m     10\u001b[0m     \u001b[0;31m# Forward Pass\u001b[0m\u001b[0;34m\u001b[0m\u001b[0;34m\u001b[0m\u001b[0;34m\u001b[0m\u001b[0m\n\u001b[1;32m     11\u001b[0m     \u001b[0mmodel\u001b[0m\u001b[0;34m.\u001b[0m\u001b[0mtrain\u001b[0m\u001b[0;34m(\u001b[0m\u001b[0;34m)\u001b[0m\u001b[0;34m\u001b[0m\u001b[0;34m\u001b[0m\u001b[0m\n\u001b[0;32m---> 12\u001b[0;31m     \u001b[0moutput\u001b[0m \u001b[0;34m=\u001b[0m \u001b[0mmodel\u001b[0m\u001b[0;34m(\u001b[0m\u001b[0mfeatures\u001b[0m\u001b[0;34m)\u001b[0m\u001b[0;34m\u001b[0m\u001b[0;34m\u001b[0m\u001b[0m\n\u001b[0m\u001b[1;32m     13\u001b[0m     \u001b[0mtrain_loss\u001b[0m \u001b[0;34m=\u001b[0m \u001b[0mcriterion\u001b[0m\u001b[0;34m(\u001b[0m\u001b[0moutput\u001b[0m\u001b[0;34m[\u001b[0m\u001b[0midx_train\u001b[0m\u001b[0;34m]\u001b[0m\u001b[0;34m,\u001b[0m \u001b[0mlabels\u001b[0m\u001b[0;34m[\u001b[0m\u001b[0midx_train\u001b[0m\u001b[0;34m]\u001b[0m\u001b[0;34m)\u001b[0m\u001b[0;34m\u001b[0m\u001b[0;34m\u001b[0m\u001b[0m\n\u001b[1;32m     14\u001b[0m \u001b[0;34m\u001b[0m\u001b[0m\n",
      "\u001b[0;32m~/anaconda3/envs/torch/lib/python3.6/site-packages/torch/nn/modules/module.py\u001b[0m in \u001b[0;36m__call__\u001b[0;34m(self, *input, **kwargs)\u001b[0m\n\u001b[1;32m    548\u001b[0m             \u001b[0mresult\u001b[0m \u001b[0;34m=\u001b[0m \u001b[0mself\u001b[0m\u001b[0;34m.\u001b[0m\u001b[0m_slow_forward\u001b[0m\u001b[0;34m(\u001b[0m\u001b[0;34m*\u001b[0m\u001b[0minput\u001b[0m\u001b[0;34m,\u001b[0m \u001b[0;34m**\u001b[0m\u001b[0mkwargs\u001b[0m\u001b[0;34m)\u001b[0m\u001b[0;34m\u001b[0m\u001b[0;34m\u001b[0m\u001b[0m\n\u001b[1;32m    549\u001b[0m         \u001b[0;32melse\u001b[0m\u001b[0;34m:\u001b[0m\u001b[0;34m\u001b[0m\u001b[0;34m\u001b[0m\u001b[0m\n\u001b[0;32m--> 550\u001b[0;31m             \u001b[0mresult\u001b[0m \u001b[0;34m=\u001b[0m \u001b[0mself\u001b[0m\u001b[0;34m.\u001b[0m\u001b[0mforward\u001b[0m\u001b[0;34m(\u001b[0m\u001b[0;34m*\u001b[0m\u001b[0minput\u001b[0m\u001b[0;34m,\u001b[0m \u001b[0;34m**\u001b[0m\u001b[0mkwargs\u001b[0m\u001b[0;34m)\u001b[0m\u001b[0;34m\u001b[0m\u001b[0;34m\u001b[0m\u001b[0m\n\u001b[0m\u001b[1;32m    551\u001b[0m         \u001b[0;32mfor\u001b[0m \u001b[0mhook\u001b[0m \u001b[0;32min\u001b[0m \u001b[0mself\u001b[0m\u001b[0;34m.\u001b[0m\u001b[0m_forward_hooks\u001b[0m\u001b[0;34m.\u001b[0m\u001b[0mvalues\u001b[0m\u001b[0;34m(\u001b[0m\u001b[0;34m)\u001b[0m\u001b[0;34m:\u001b[0m\u001b[0;34m\u001b[0m\u001b[0;34m\u001b[0m\u001b[0m\n\u001b[1;32m    552\u001b[0m             \u001b[0mhook_result\u001b[0m \u001b[0;34m=\u001b[0m \u001b[0mhook\u001b[0m\u001b[0;34m(\u001b[0m\u001b[0mself\u001b[0m\u001b[0;34m,\u001b[0m \u001b[0minput\u001b[0m\u001b[0;34m,\u001b[0m \u001b[0mresult\u001b[0m\u001b[0;34m)\u001b[0m\u001b[0;34m\u001b[0m\u001b[0;34m\u001b[0m\u001b[0m\n",
      "\u001b[0;32m~/Untitled Folder/layers.py\u001b[0m in \u001b[0;36mforward\u001b[0;34m(self, X)\u001b[0m\n\u001b[1;32m    109\u001b[0m         \u001b[0mH\u001b[0m \u001b[0;34m=\u001b[0m \u001b[0mF\u001b[0m\u001b[0;34m.\u001b[0m\u001b[0mdropout\u001b[0m\u001b[0;34m(\u001b[0m\u001b[0mX\u001b[0m\u001b[0;34m,\u001b[0m \u001b[0mself\u001b[0m\u001b[0;34m.\u001b[0m\u001b[0mdropout\u001b[0m\u001b[0;34m,\u001b[0m \u001b[0mtraining\u001b[0m\u001b[0;34m=\u001b[0m\u001b[0mself\u001b[0m\u001b[0;34m.\u001b[0m\u001b[0mtraining\u001b[0m\u001b[0;34m)\u001b[0m\u001b[0;34m\u001b[0m\u001b[0;34m\u001b[0m\u001b[0m\n\u001b[1;32m    110\u001b[0m         \u001b[0;31m# GAT layer 1\u001b[0m\u001b[0;34m\u001b[0m\u001b[0;34m\u001b[0m\u001b[0;34m\u001b[0m\u001b[0m\n\u001b[0;32m--> 111\u001b[0;31m         \u001b[0mH\u001b[0m \u001b[0;34m=\u001b[0m \u001b[0mtorch\u001b[0m\u001b[0;34m.\u001b[0m\u001b[0mcat\u001b[0m\u001b[0;34m(\u001b[0m\u001b[0;34m[\u001b[0m\u001b[0mGAT_head\u001b[0m\u001b[0;34m(\u001b[0m\u001b[0mX\u001b[0m\u001b[0;34m)\u001b[0m \u001b[0;32mfor\u001b[0m \u001b[0mGAT_head\u001b[0m \u001b[0;32min\u001b[0m \u001b[0mself\u001b[0m\u001b[0;34m.\u001b[0m\u001b[0mGAT_layer\u001b[0m\u001b[0;34m]\u001b[0m\u001b[0;34m,\u001b[0m \u001b[0mdim\u001b[0m\u001b[0;34m=\u001b[0m\u001b[0;34m-\u001b[0m\u001b[0;36m1\u001b[0m\u001b[0;34m)\u001b[0m\u001b[0;34m\u001b[0m\u001b[0;34m\u001b[0m\u001b[0m\n\u001b[0m\u001b[1;32m    112\u001b[0m         \u001b[0mH\u001b[0m \u001b[0;34m=\u001b[0m \u001b[0mF\u001b[0m\u001b[0;34m.\u001b[0m\u001b[0mdropout\u001b[0m\u001b[0;34m(\u001b[0m\u001b[0mH\u001b[0m\u001b[0;34m,\u001b[0m \u001b[0mself\u001b[0m\u001b[0;34m.\u001b[0m\u001b[0mdropout\u001b[0m\u001b[0;34m,\u001b[0m \u001b[0mtraining\u001b[0m\u001b[0;34m=\u001b[0m\u001b[0mself\u001b[0m\u001b[0;34m.\u001b[0m\u001b[0mtraining\u001b[0m\u001b[0;34m)\u001b[0m\u001b[0;34m\u001b[0m\u001b[0;34m\u001b[0m\u001b[0m\n\u001b[1;32m    113\u001b[0m \u001b[0;34m\u001b[0m\u001b[0m\n",
      "\u001b[0;32m~/Untitled Folder/layers.py\u001b[0m in \u001b[0;36m<listcomp>\u001b[0;34m(.0)\u001b[0m\n\u001b[1;32m    109\u001b[0m         \u001b[0mH\u001b[0m \u001b[0;34m=\u001b[0m \u001b[0mF\u001b[0m\u001b[0;34m.\u001b[0m\u001b[0mdropout\u001b[0m\u001b[0;34m(\u001b[0m\u001b[0mX\u001b[0m\u001b[0;34m,\u001b[0m \u001b[0mself\u001b[0m\u001b[0;34m.\u001b[0m\u001b[0mdropout\u001b[0m\u001b[0;34m,\u001b[0m \u001b[0mtraining\u001b[0m\u001b[0;34m=\u001b[0m\u001b[0mself\u001b[0m\u001b[0;34m.\u001b[0m\u001b[0mtraining\u001b[0m\u001b[0;34m)\u001b[0m\u001b[0;34m\u001b[0m\u001b[0;34m\u001b[0m\u001b[0m\n\u001b[1;32m    110\u001b[0m         \u001b[0;31m# GAT layer 1\u001b[0m\u001b[0;34m\u001b[0m\u001b[0;34m\u001b[0m\u001b[0;34m\u001b[0m\u001b[0m\n\u001b[0;32m--> 111\u001b[0;31m         \u001b[0mH\u001b[0m \u001b[0;34m=\u001b[0m \u001b[0mtorch\u001b[0m\u001b[0;34m.\u001b[0m\u001b[0mcat\u001b[0m\u001b[0;34m(\u001b[0m\u001b[0;34m[\u001b[0m\u001b[0mGAT_head\u001b[0m\u001b[0;34m(\u001b[0m\u001b[0mX\u001b[0m\u001b[0;34m)\u001b[0m \u001b[0;32mfor\u001b[0m \u001b[0mGAT_head\u001b[0m \u001b[0;32min\u001b[0m \u001b[0mself\u001b[0m\u001b[0;34m.\u001b[0m\u001b[0mGAT_layer\u001b[0m\u001b[0;34m]\u001b[0m\u001b[0;34m,\u001b[0m \u001b[0mdim\u001b[0m\u001b[0;34m=\u001b[0m\u001b[0;34m-\u001b[0m\u001b[0;36m1\u001b[0m\u001b[0;34m)\u001b[0m\u001b[0;34m\u001b[0m\u001b[0;34m\u001b[0m\u001b[0m\n\u001b[0m\u001b[1;32m    112\u001b[0m         \u001b[0mH\u001b[0m \u001b[0;34m=\u001b[0m \u001b[0mF\u001b[0m\u001b[0;34m.\u001b[0m\u001b[0mdropout\u001b[0m\u001b[0;34m(\u001b[0m\u001b[0mH\u001b[0m\u001b[0;34m,\u001b[0m \u001b[0mself\u001b[0m\u001b[0;34m.\u001b[0m\u001b[0mdropout\u001b[0m\u001b[0;34m,\u001b[0m \u001b[0mtraining\u001b[0m\u001b[0;34m=\u001b[0m\u001b[0mself\u001b[0m\u001b[0;34m.\u001b[0m\u001b[0mtraining\u001b[0m\u001b[0;34m)\u001b[0m\u001b[0;34m\u001b[0m\u001b[0;34m\u001b[0m\u001b[0m\n\u001b[1;32m    113\u001b[0m \u001b[0;34m\u001b[0m\u001b[0m\n",
      "\u001b[0;32m~/anaconda3/envs/torch/lib/python3.6/site-packages/torch/nn/modules/module.py\u001b[0m in \u001b[0;36m__call__\u001b[0;34m(self, *input, **kwargs)\u001b[0m\n\u001b[1;32m    548\u001b[0m             \u001b[0mresult\u001b[0m \u001b[0;34m=\u001b[0m \u001b[0mself\u001b[0m\u001b[0;34m.\u001b[0m\u001b[0m_slow_forward\u001b[0m\u001b[0;34m(\u001b[0m\u001b[0;34m*\u001b[0m\u001b[0minput\u001b[0m\u001b[0;34m,\u001b[0m \u001b[0;34m**\u001b[0m\u001b[0mkwargs\u001b[0m\u001b[0;34m)\u001b[0m\u001b[0;34m\u001b[0m\u001b[0;34m\u001b[0m\u001b[0m\n\u001b[1;32m    549\u001b[0m         \u001b[0;32melse\u001b[0m\u001b[0;34m:\u001b[0m\u001b[0;34m\u001b[0m\u001b[0;34m\u001b[0m\u001b[0m\n\u001b[0;32m--> 550\u001b[0;31m             \u001b[0mresult\u001b[0m \u001b[0;34m=\u001b[0m \u001b[0mself\u001b[0m\u001b[0;34m.\u001b[0m\u001b[0mforward\u001b[0m\u001b[0;34m(\u001b[0m\u001b[0;34m*\u001b[0m\u001b[0minput\u001b[0m\u001b[0;34m,\u001b[0m \u001b[0;34m**\u001b[0m\u001b[0mkwargs\u001b[0m\u001b[0;34m)\u001b[0m\u001b[0;34m\u001b[0m\u001b[0;34m\u001b[0m\u001b[0m\n\u001b[0m\u001b[1;32m    551\u001b[0m         \u001b[0;32mfor\u001b[0m \u001b[0mhook\u001b[0m \u001b[0;32min\u001b[0m \u001b[0mself\u001b[0m\u001b[0;34m.\u001b[0m\u001b[0m_forward_hooks\u001b[0m\u001b[0;34m.\u001b[0m\u001b[0mvalues\u001b[0m\u001b[0;34m(\u001b[0m\u001b[0;34m)\u001b[0m\u001b[0;34m:\u001b[0m\u001b[0;34m\u001b[0m\u001b[0;34m\u001b[0m\u001b[0m\n\u001b[1;32m    552\u001b[0m             \u001b[0mhook_result\u001b[0m \u001b[0;34m=\u001b[0m \u001b[0mhook\u001b[0m\u001b[0;34m(\u001b[0m\u001b[0mself\u001b[0m\u001b[0;34m,\u001b[0m \u001b[0minput\u001b[0m\u001b[0;34m,\u001b[0m \u001b[0mresult\u001b[0m\u001b[0;34m)\u001b[0m\u001b[0;34m\u001b[0m\u001b[0;34m\u001b[0m\u001b[0m\n",
      "\u001b[0;32m~/Untitled Folder/layers.py\u001b[0m in \u001b[0;36mforward\u001b[0;34m(self, X)\u001b[0m\n\u001b[1;32m     78\u001b[0m \u001b[0;34m\u001b[0m\u001b[0m\n\u001b[1;32m     79\u001b[0m         \u001b[0;31m# calculate attention scores\u001b[0m\u001b[0;34m\u001b[0m\u001b[0;34m\u001b[0m\u001b[0;34m\u001b[0m\u001b[0m\n\u001b[0;32m---> 80\u001b[0;31m         \u001b[0ma_input\u001b[0m \u001b[0;34m=\u001b[0m \u001b[0mtorch\u001b[0m\u001b[0;34m.\u001b[0m\u001b[0mcat\u001b[0m\u001b[0;34m(\u001b[0m\u001b[0;34m[\u001b[0m\u001b[0mH\u001b[0m\u001b[0;34m.\u001b[0m\u001b[0mrepeat\u001b[0m\u001b[0;34m(\u001b[0m\u001b[0;36m1\u001b[0m\u001b[0;34m,\u001b[0m \u001b[0mN\u001b[0m\u001b[0;34m)\u001b[0m\u001b[0;34m.\u001b[0m\u001b[0mview\u001b[0m\u001b[0;34m(\u001b[0m\u001b[0mN\u001b[0m \u001b[0;34m*\u001b[0m \u001b[0mN\u001b[0m\u001b[0;34m,\u001b[0m \u001b[0;34m-\u001b[0m\u001b[0;36m1\u001b[0m\u001b[0;34m)\u001b[0m\u001b[0;34m,\u001b[0m \u001b[0mH\u001b[0m\u001b[0;34m.\u001b[0m\u001b[0mrepeat\u001b[0m\u001b[0;34m(\u001b[0m\u001b[0mN\u001b[0m\u001b[0;34m,\u001b[0m \u001b[0;36m1\u001b[0m\u001b[0;34m)\u001b[0m\u001b[0;34m]\u001b[0m\u001b[0;34m,\u001b[0m \u001b[0mdim\u001b[0m\u001b[0;34m=\u001b[0m\u001b[0;34m-\u001b[0m\u001b[0;36m1\u001b[0m\u001b[0;34m)\u001b[0m\u001b[0;34m.\u001b[0m\u001b[0mview\u001b[0m\u001b[0;34m(\u001b[0m\u001b[0mN\u001b[0m\u001b[0;34m,\u001b[0m \u001b[0mN\u001b[0m\u001b[0;34m,\u001b[0m \u001b[0mself\u001b[0m\u001b[0;34m.\u001b[0m\u001b[0mout_features\u001b[0m \u001b[0;34m*\u001b[0m \u001b[0;36m2\u001b[0m\u001b[0;34m)\u001b[0m\u001b[0;34m\u001b[0m\u001b[0;34m\u001b[0m\u001b[0m\n\u001b[0m\u001b[1;32m     81\u001b[0m         \u001b[0me\u001b[0m \u001b[0;34m=\u001b[0m \u001b[0mself\u001b[0m\u001b[0;34m.\u001b[0m\u001b[0mleakyrelu\u001b[0m\u001b[0;34m(\u001b[0m\u001b[0mtorch\u001b[0m\u001b[0;34m.\u001b[0m\u001b[0mmatmul\u001b[0m\u001b[0;34m(\u001b[0m\u001b[0ma_input\u001b[0m\u001b[0;34m,\u001b[0m \u001b[0mself\u001b[0m\u001b[0;34m.\u001b[0m\u001b[0ma\u001b[0m\u001b[0;34m)\u001b[0m\u001b[0;34m.\u001b[0m\u001b[0msqueeze\u001b[0m\u001b[0;34m(\u001b[0m\u001b[0;34m-\u001b[0m\u001b[0;36m1\u001b[0m\u001b[0;34m)\u001b[0m\u001b[0;34m)\u001b[0m\u001b[0;34m\u001b[0m\u001b[0;34m\u001b[0m\u001b[0m\n\u001b[1;32m     82\u001b[0m \u001b[0;34m\u001b[0m\u001b[0m\n",
      "\u001b[0;31mRuntimeError\u001b[0m: CUDA out of memory. Tried to allocate 40.00 MiB (GPU 0; 22.38 GiB total capacity; 21.68 GiB already allocated; 10.06 MiB free; 21.85 GiB reserved in total by PyTorch)"
     ]
    }
   ],
   "source": [
    "train_loss_arr = []\n",
    "test_loss_arr = []\n",
    "best_ACC, final_ACC = -999., -999.\n",
    "early_stop, early_stop_max = 0., 50.\n",
    "\n",
    "for epoch in range(100):\n",
    "\n",
    "    optimizer.zero_grad()\n",
    "\n",
    "    # Forward Pass\n",
    "    model.train()\n",
    "    output = model(features)\n",
    "    train_loss = criterion(output[idx_train], labels[idx_train])\n",
    "\n",
    "    # Backward and optimize\n",
    "    train_loss.backward()\n",
    "    optimizer.step()\n",
    "        \n",
    "    train_loss_arr.append(train_loss.data)\n",
    "    \n",
    "    if epoch % 1 == 0:\n",
    "        model.eval()\n",
    "        \n",
    "        output = model(features)\n",
    "        val_loss = criterion(output[idx_val], labels[idx_val])\n",
    "        test_loss = criterion(output[idx_test], labels[idx_test])\n",
    "        \n",
    "        val_acc = accuracy(output[idx_val], labels[idx_val])\n",
    "        test_acc = accuracy(output[idx_test], labels[idx_test])\n",
    "        \n",
    "        test_loss_arr.append(test_loss)\n",
    "        \n",
    "        if best_ACC < val_acc:\n",
    "            best_ACC = val_acc\n",
    "            early_stop = 0\n",
    "            final_ACC = test_acc\n",
    "            print('Epoch [{}/{}], Train Loss: {:.4f}, Test Loss: {:.4f}, Test ACC: {:.4f} *'.format(epoch, 100, train_loss.data, test_loss, test_acc))\n",
    "        else:\n",
    "            early_stop += 1\n",
    "\n",
    "            print('Epoch [{}/{}], Train Loss: {:.4f}, Test Loss: {:.4f}, Test ACC: {:.4f}'.format(epoch, 100, train_loss.data, test_loss, test_acc))\n",
    "\n",
    "    if early_stop >= early_stop_max:\n",
    "        break\n",
    "        \n",
    "print(\"Final Accuracy::\", final_ACC)"
   ]
  },
  {
   "cell_type": "code",
   "execution_count": 24,
   "metadata": {},
   "outputs": [
    {
     "name": "stdout",
     "output_type": "stream",
     "text": [
      "Final Accuracy:: 0.8267\n"
     ]
    }
   ],
   "source": [
    "print(\"Final Accuracy::\", round(float(final_ACC.data), 4))"
   ]
  },
  {
   "cell_type": "code",
   "execution_count": 25,
   "metadata": {},
   "outputs": [
    {
     "data": {
      "image/png": "[encoded data removed]",
      "text/plain": [
       "<Figure size 432x288 with 1 Axes>"
      ]
     },
     "metadata": {
      "needs_background": "light"
     },
     "output_type": "display_data"
    }
   ],
   "source": [
    "plt.plot(train_loss_arr)\n",
    "plt.show()"
   ]
  }
 ],
 "metadata": {
  "kernelspec": {
   "display_name": "torch",
   "language": "python",
   "name": "torch"
  },
  "language_info": {
   "codemirror_mode": {
    "name": "ipython",
    "version": 3
   },
   "file_extension": ".py",
   "mimetype": "text/x-python",
   "name": "python",
   "nbconvert_exporter": "python",
   "pygments_lexer": "ipython3",
   "version": "3.6.10"
  }
 },
 "nbformat": 4,
 "nbformat_minor": 4
}
