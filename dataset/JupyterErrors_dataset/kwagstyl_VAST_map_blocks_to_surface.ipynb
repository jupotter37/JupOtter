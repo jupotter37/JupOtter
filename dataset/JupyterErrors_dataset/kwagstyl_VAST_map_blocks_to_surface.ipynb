{
 "cells": [
  {
   "cell_type": "code",
   "execution_count": 1,
   "metadata": {},
   "outputs": [
    {
     "name": "stdout",
     "output_type": "stream",
     "text": [
      "Setting civet_path to /data1/quarantines/Linux-x86_64/bin/\n"
     ]
    }
   ],
   "source": [
    "import subprocess\n",
    "import glob\n",
    "import os\n",
    "import numpy as np\n",
    "import surface_tools as st"
   ]
  },
  {
   "cell_type": "code",
   "execution_count": 2,
   "metadata": {},
   "outputs": [],
   "source": [
    "#mapping volume blocks to cortical surface"
   ]
  },
  {
   "cell_type": "code",
   "execution_count": 3,
   "metadata": {},
   "outputs": [],
   "source": [
    "outdir='../surface_data/area_labels'\n",
    "voldir='../volume_data/area_blocks'\n",
    "os.makedirs(outdir,exist_ok=True)\n",
    "area_blocks=sorted(glob.glob('../volume_data/area_blocks/*.mnc'))\n",
    "area_names=[]\n",
    "for ab in area_blocks:\n",
    "    ab=ab.replace('_block.mnc','')\n",
    "    ab=ab.replace('../volume_data/area_blocks/','')\n",
    "    area_names.append(ab)\n",
    "\n",
    "\n",
    "area_names=sorted(area_names)\n",
    "area_names.insert(0,'null')\n",
    "np.savetxt(os.path.join(outdir,'area_labels.txt'),area_names,fmt='%s')"
   ]
  },
  {
   "cell_type": "code",
   "execution_count": 21,
   "metadata": {},
   "outputs": [
    {
     "name": "stdout",
     "output_type": "stream",
     "text": [
      "area6d_6d1\n",
      "area6d_6d2\n",
      "area6d_6d3\n",
      "auditory_Te10\n",
      "auditory_Te11\n",
      "auditory_Te12\n",
      "auditory_Te3\n",
      "hippocampus_EC\n",
      "ifs_ifj1\n",
      "ifs_ifj2\n",
      "ifs_ifs1\n",
      "ifs_ifs2\n",
      "ifs_ifs3\n",
      "ifs_ifs4\n",
      "pIPS_hIP4\n",
      "pIPS_hIP5\n",
      "pIPS_hIP6\n",
      "pIPS_hIP7\n",
      "pIPS_hIP8\n",
      "pIPS_hOc6\n",
      "pIPS_hPO1\n",
      "sma_presma\n",
      "sma_sma\n",
      "sts_Te4\n",
      "sts_Te5\n",
      "v1\n",
      "v2\n"
     ]
    }
   ],
   "source": [
    "hemis=['right','left']\n",
    "for k,area in enumerate(area_names[1:]):\n",
    "    print(area)\n",
    "    for hemi in hemis:\n",
    "        mid_surface_name='../surface_data/obj_surfaces/mid_{}.obj'.format(hemi)\n",
    "\n",
    "        subprocess.call('volume_object_evaluate -nearest_neighbour {} {} {}'.format(os.path.join(voldir,'{}_block.mnc'.format(area)),\n",
    "                                                             mid_surface_name,\n",
    "                                                             os.path.join(outdir,'{}_{}.txt'.format(area,hemi))),shell=True)\n",
    "       \n",
    "\n",
    "  \n",
    "        \n",
    "        "
   ]
  },
  {
   "cell_type": "code",
   "execution_count": 35,
   "metadata": {},
   "outputs": [
    {
     "name": "stdout",
     "output_type": "stream",
     "text": [
      "area6d_6d1\n",
      "area6d_6d2\n",
      "area6d_6d3\n",
      "auditory_Te10\n",
      "auditory_Te11\n",
      "auditory_Te12\n",
      "auditory_Te3\n",
      "hippocampus_EC\n",
      "ifs_ifj1\n",
      "ifs_ifj2\n",
      "ifs_ifs1\n",
      "ifs_ifs2\n",
      "ifs_ifs3\n",
      "ifs_ifs4\n",
      "pIPS_hIP4\n",
      "pIPS_hIP5\n",
      "pIPS_hIP6\n",
      "pIPS_hIP7\n",
      "pIPS_hIP8\n",
      "pIPS_hOc6\n",
      "pIPS_hPO1\n",
      "sma_presma\n",
      "sma_sma\n",
      "sts_Te4\n",
      "sts_Te5\n",
      "v1\n",
      "v2\n"
     ]
    }
   ],
   "source": [
    "#tidy up individual areas\n",
    "#TODO consider whether this is necessary to do, separate from the main tidying up.\n",
    "mid_surface_name='../surface_data/obj_surfaces/mid_{}.obj'.format('left')\n",
    "neighbours=st.get_neighbours(mid_surface_name)\n",
    "hemis=['left','right']\n",
    "for k,area in enumerate(area_names[1:]):\n",
    "    print(area)\n",
    "    for hemi in hemis:\n",
    "       #fill holes\n",
    "        area_txtfile=np.loadtxt(os.path.join(outdir,'{}_{}.txt'.format(area,hemi))).astype(bool)\n",
    "        tidied=st.tidy_holes_binary(area_txtfile,neighbours, threshold_area=300,iterations=2)\n",
    "        np.savetxt(os.path.join(outdir,'{}_{}_tidied.txt'.format(area,hemi)),tidied,fmt='%i')\n",
    "      "
   ]
  },
  {
   "cell_type": "code",
   "execution_count": 5,
   "metadata": {},
   "outputs": [
    {
     "name": "stdout",
     "output_type": "stream",
     "text": [
      "area6d_6d1 1\n",
      "area6d_6d2 2\n",
      "area6d_6d3 3\n",
      "auditory_Te10 4\n",
      "auditory_Te11 5\n",
      "auditory_Te12 6\n",
      "auditory_Te3 7\n",
      "hippocampus_EC 8\n",
      "ifs_ifj1 9\n",
      "ifs_ifj2 10\n",
      "ifs_ifs1 11\n",
      "ifs_ifs2 12\n",
      "ifs_ifs3 13\n",
      "ifs_ifs4 14\n",
      "pIPS_hIP4 15\n",
      "pIPS_hIP5 16\n",
      "pIPS_hIP6 17\n",
      "pIPS_hIP7 18\n",
      "pIPS_hIP8 19\n",
      "pIPS_hOc6 20\n",
      "pIPS_hPO1 21\n",
      "sma_presma 22\n",
      "sma_sma 23\n",
      "sts_Te4 24\n",
      "sts_Te5 25\n",
      "v1 26\n",
      "v2 27\n",
      "area6d_6d1 1\n",
      "area6d_6d2 2\n",
      "area6d_6d3 3\n",
      "auditory_Te10 4\n",
      "auditory_Te11 5\n",
      "auditory_Te12 6\n",
      "auditory_Te3 7\n",
      "hippocampus_EC 8\n",
      "ifs_ifj1 9\n",
      "ifs_ifj2 10\n",
      "ifs_ifs1 11\n",
      "ifs_ifs2 12\n",
      "ifs_ifs3 13\n",
      "ifs_ifs4 14\n",
      "pIPS_hIP4 15\n",
      "pIPS_hIP5 16\n",
      "pIPS_hIP6 17\n",
      "pIPS_hIP7 18\n",
      "pIPS_hIP8 19\n",
      "pIPS_hOc6 20\n",
      "pIPS_hPO1 21\n",
      "sma_presma 22\n",
      "sma_sma 23\n",
      "sts_Te4 24\n",
      "sts_Te5 25\n",
      "v1 26\n",
      "v2 27\n"
     ]
    }
   ],
   "source": [
    "#combine areas into single parcellation\n",
    "padl_dir='/data1/bigbrain/PADL/data/raw'\n",
    "hemis=['left','right']\n",
    "for hemi in hemis:\n",
    "    mid_surface_name='../surface_data/obj_surfaces/mid_{}.obj'.format(hemi)\n",
    "    neighbours=st.get_neighbours(mid_surface_name)\n",
    "\n",
    "    combined_areas = np.zeros(len(neighbours))\n",
    "    overlaps = np.zeros(len(neighbours)).astype(bool)\n",
    "    for k,area in enumerate(area_names[1:]):\n",
    "        print(area,area_names.index(area))\n",
    "        area_txtfile=np.loadtxt(os.path.join(outdir,'{}_{}_tidied.txt'.format(area,hemi)))\n",
    "        overlaps+= np.logical_and(area_txtfile,combined_areas)\n",
    "        combined_areas+= area_txtfile*area_names.index(area)\n",
    "    np.savetxt(os.path.join(outdir,'combined_areas_{}.txt'.format(hemi)),combined_areas, fmt='%i')\n",
    "\n",
    "    tidied_combined=st.tidy_combined_atlas(combined_areas, overlaps, neighbours,threshold=300)\n",
    "    \n",
    "    np.savetxt(os.path.join(outdir,'combined_areas_{}_tidied.txt'.format(hemi)),tidied_combined, fmt='%i')\n",
    "    np.savetxt(os.path.join(padl_dir,'combined_areas_{}_tidied.txt'.format(hemi)),tidied_combined, fmt='%i')\n"
   ]
  },
  {
   "cell_type": "code",
   "execution_count": 4,
   "metadata": {},
   "outputs": [
    {
     "ename": "NameError",
     "evalue": "name 'hemi' is not defined",
     "output_type": "error",
     "traceback": [
      "\u001b[0;31m---------------------------------------------------------------------------\u001b[0m",
      "\u001b[0;31mNameError\u001b[0m                                 Traceback (most recent call last)",
      "\u001b[0;32m<ipython-input-4-e8c53d521587>\u001b[0m in \u001b[0;36m<module>\u001b[0;34m\u001b[0m\n\u001b[0;32m----> 1\u001b[0;31m \u001b[0mnp\u001b[0m\u001b[0;34m.\u001b[0m\u001b[0msavetxt\u001b[0m\u001b[0;34m(\u001b[0m\u001b[0mos\u001b[0m\u001b[0;34m.\u001b[0m\u001b[0mpath\u001b[0m\u001b[0;34m.\u001b[0m\u001b[0mjoin\u001b[0m\u001b[0;34m(\u001b[0m\u001b[0moutdir\u001b[0m\u001b[0;34m,\u001b[0m\u001b[0;34m'combined_areas_{}.txt'\u001b[0m\u001b[0;34m.\u001b[0m\u001b[0mformat\u001b[0m\u001b[0;34m(\u001b[0m\u001b[0mhemi\u001b[0m\u001b[0;34m)\u001b[0m\u001b[0;34m)\u001b[0m\u001b[0;34m,\u001b[0m\u001b[0mcombined_areas\u001b[0m\u001b[0;34m,\u001b[0m \u001b[0mfmt\u001b[0m\u001b[0;34m=\u001b[0m\u001b[0;34m'%i'\u001b[0m\u001b[0;34m)\u001b[0m\u001b[0;34m\u001b[0m\u001b[0;34m\u001b[0m\u001b[0m\n\u001b[0m",
      "\u001b[0;31mNameError\u001b[0m: name 'hemi' is not defined"
     ]
    }
   ],
   "source": []
  },
  {
   "cell_type": "code",
   "execution_count": null,
   "metadata": {},
   "outputs": [],
   "source": []
  }
 ],
 "metadata": {
  "kernelspec": {
   "display_name": "padl",
   "language": "python",
   "name": "padl"
  },
  "language_info": {
   "codemirror_mode": {
    "name": "ipython",
    "version": 3
   },
   "file_extension": ".py",
   "mimetype": "text/x-python",
   "name": "python",
   "nbconvert_exporter": "python",
   "pygments_lexer": "ipython3",
   "version": "3.7.4"
  }
 },
 "nbformat": 4,
 "nbformat_minor": 2
}
