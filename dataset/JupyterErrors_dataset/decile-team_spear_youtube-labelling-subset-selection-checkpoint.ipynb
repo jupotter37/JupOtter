{
 "cells": [
  {
   "cell_type": "markdown",
   "metadata": {},
   "source": [
    "## <font color='brown'>**YOUTUBE SPAM COMMENT DETECTION**</font> </div><i class=\"fa fa-lightbulb-o \"></i>"
   ]
  },
  {
   "cell_type": "code",
   "execution_count": 176,
   "metadata": {},
   "outputs": [],
   "source": [
    "import os\n",
    "os.environ[\"CUDA_DEVICE_ORDER\"]=\"PCI_BUS_ID\"   # see issue #152\n",
    "os.environ[\"CUDA_VISIBLE_DEVICES\"]=\"1\""
   ]
  },
  {
   "cell_type": "code",
   "execution_count": 1,
   "metadata": {},
   "outputs": [],
   "source": [
    "import pickle\n",
    "import os\n",
    "import pandas as pd\n",
    "from sklearn.metrics import accuracy_score, f1_score, precision_score, recall_score\n",
    "from sklearn.feature_extraction.text import CountVectorizer\n",
    "from utils import load_spam_dataset\n",
    "from spear.labeling import labeling_function, ABSTAIN, preprocessor, continuous_scorer\n",
    "\n",
    "DISPLAY_ALL_TEXT = False\n",
    "\n",
    "pd.set_option(\"display.max_colwidth\", 0 if DISPLAY_ALL_TEXT else 50)"
   ]
  },
  {
   "cell_type": "markdown",
   "metadata": {},
   "source": [
    "## Load YouTube Dataset"
   ]
  },
  {
   "cell_type": "code",
   "execution_count": 2,
   "metadata": {},
   "outputs": [],
   "source": [
    "X = load_spam_dataset(load_train_labels=True)\n",
    "Y = X.label.values\n",
    "X = X.text\n",
    "# We pull out the label vectors for ease of use later\n",
    "# Y_dev = df_dev.label.values\n",
    "# Y_valid = df_valid.label.values\n",
    "# Y_test = df_test.label.values"
   ]
  },
  {
   "cell_type": "code",
   "execution_count": 3,
   "metadata": {},
   "outputs": [],
   "source": [
    "vectorizer = CountVectorizer(ngram_range=(1, 2))\n",
    "X_feats = vectorizer.fit_transform(X.tolist()).toarray()"
   ]
  },
  {
   "cell_type": "markdown",
   "metadata": {},
   "source": [
    "\n",
    "### **Representation of class Labels**\n"
   ]
  },
  {
   "cell_type": "code",
   "execution_count": 4,
   "metadata": {},
   "outputs": [
    {
     "data": {
      "text/plain": [
       "(0      pls http://www10.vakinha.com.br/VaquinhaE.aspx...\n",
       " 1      if your like drones, plz subscribe to Kamal Ta...\n",
       " 2                         go here to check the views :3﻿\n",
       " 3                Came here to check the views, goodbye.﻿\n",
       " 4                          i am 2,126,492,636 viewer :D﻿\n",
       "                              ...                        \n",
       " 443                           Check out my mummy chanel!\n",
       " 444                 The rap: cool     Rihanna: STTUUPID﻿\n",
       " 445    I hope everyone is in good spirits I&#39;m a h...\n",
       " 446    Lil m !!!!! Check hi out!!!!! Does live the wa...\n",
       " 447    Please check out my youtube channel! Just uplo...\n",
       " Name: text, Length: 1586, dtype: object,\n",
       " array([1, 1, 0, ..., 1, 1, 1]))"
      ]
     },
     "execution_count": 4,
     "metadata": {},
     "output_type": "execute_result"
    }
   ],
   "source": [
    "X, Y"
   ]
  },
  {
   "cell_type": "markdown",
   "metadata": {},
   "source": [
    "During labeling the unlabelled data we lookup for few keywords to assign a class SMS.\n",
    "\n",
    "<b>Example</b> : *If a message contains apply or buy in it then most probably the message is spam*"
   ]
  },
  {
   "cell_type": "code",
   "execution_count": 5,
   "metadata": {},
   "outputs": [],
   "source": [
    "# For clarity, we define constants to represent the class labels for spam, ham, and abstaining.\n",
    "import enum\n",
    "\n",
    "# enum to hold the class labels\n",
    "ABSTAIN = -1\n",
    "\n",
    "\n",
    "class ClassLabels(enum.Enum):\n",
    "    SPAM = 1\n",
    "    HAM = 0\n",
    "\n",
    "\n",
    "THRESHOLD = 0.8"
   ]
  },
  {
   "cell_type": "markdown",
   "metadata": {},
   "source": [
    "### **Declaration of Labeling Functions**"
   ]
  },
  {
   "cell_type": "code",
   "execution_count": 6,
   "metadata": {},
   "outputs": [],
   "source": [
    "from spear.labeling import labeling_function, ABSTAIN, preprocessor, continuous_scorer\n",
    "import re\n",
    "\n",
    "@preprocessor()\n",
    "def convert_to_lower(x):\n",
    "    return x.lower().strip()\n",
    "\n",
    "\n",
    "@labeling_function(label=ClassLabels.SPAM, pre=[convert_to_lower])\n",
    "def check(x):\n",
    "    return ClassLabels.SPAM if \"check\" in x.text.lower() else ABSTAIN\n",
    "\n",
    "\n",
    "@labeling_function(label=ClassLabels.SPAM, pre=[convert_to_lower])\n",
    "def check_out(x):\n",
    "    return ClassLabels.SPAM if \"check out\" in x.text.lower() else ABSTAIN\n",
    "\n",
    "\n",
    "keyword_my ={'my'}\n",
    "keyword_subscribe={'subscribe'}\n",
    "keyword_link={'http'}\n",
    "keyword_please={'please', 'plz'}\n",
    "keyword_song = {'song'}\n",
    "\n",
    "\n",
    "@labeling_function(label=ClassLabels.SPAM, pre=[convert_to_lower])\n",
    "def regex_check_out(x):\n",
    "    return ClassLabels.SPAM if re.search(r\"check.*out\", x, flags=re.I) else ABSTAIN\n",
    "\n",
    "\n",
    "\n",
    "\n",
    "@labeling_function(resources=dict(keywords=keyword_my),pre=[convert_to_lower],label=ClassLabels.SPAM)\n",
    "def keyword_my(x,**kwargs):    \n",
    "    if len(kwargs[\"keywords\"].intersection(x.split())) > 0:\n",
    "        return ClassLabels.SPAM\n",
    "    else:\n",
    "        return ABSTAIN\n",
    "\n",
    "\n",
    "@labeling_function(resources=dict(keywords=keyword_subscribe),pre=[convert_to_lower],label=ClassLabels.SPAM)\n",
    "def keyword_subscribe(x,**kwargs):    \n",
    "    if len(kwargs[\"keywords\"].intersection(x.split())) > 0:\n",
    "        return ClassLabels.SPAM\n",
    "    else:\n",
    "        return ABSTAIN\n",
    "\n",
    "    \n",
    "@labeling_function(resources=dict(keywords=keyword_link),pre=[convert_to_lower],label=ClassLabels.SPAM)\n",
    "def keyword_link(x,**kwargs):    \n",
    "    for pattern in kwargs[\"keywords\"]:    \n",
    "        if re.search(pattern,x, flags= re.I):\n",
    "            return ClassLabels.SPAM\n",
    "    else:\n",
    "        return ABSTAIN\n",
    "    \n",
    "@labeling_function(resources=dict(keywords=keyword_please),pre=[convert_to_lower],label=ClassLabels.SPAM)\n",
    "def keyword_please(x,**kwargs):    \n",
    "    if len(kwargs[\"keywords\"].intersection(x.split())) > 0:\n",
    "        return ClassLabels.SPAM\n",
    "    else:\n",
    "        return ABSTAIN\n",
    "\n",
    "@labeling_function(resources=dict(keywords=keyword_song),pre=[convert_to_lower],label=ClassLabels.HAM)\n",
    "def keyword_song(x,**kwargs):    \n",
    "    if len(kwargs[\"keywords\"].intersection(x.split())) > 0:\n",
    "        return ClassLabels.HAM\n",
    "    else:\n",
    "        return ABSTAIN\n",
    "\n",
    "\n",
    "@labeling_function(label=ClassLabels.HAM)\n",
    "def short_comment(x):\n",
    "    \"\"\"Ham comments are often short, such as 'cool video!'\"\"\"\n",
    "    return ClassLabels.HAM if len(x.split()) < 5 else ABSTAIN\n"
   ]
  },
  {
   "cell_type": "code",
   "execution_count": 134,
   "metadata": {},
   "outputs": [],
   "source": [
    "from textblob import TextBlob\n",
    "\n",
    "# @preprocessor()\n",
    "# def textblob_sentiment(x):\n",
    "#     scores = TextBlob(x)\n",
    "#     x.polarity = scores.sentiment.polarity\n",
    "#     x.subjectivity = scores.sentiment.subjectivity\n",
    "#     return x\n",
    "\n",
    "@continuous_scorer()\n",
    "def textblob_sentiment(sentence,**kwargs):\n",
    "    scores = TextBlob(sentence)\n",
    "    return scores\n",
    "#     similarity = 0.0\n",
    "#     words = sentence.split()\n",
    "#     words = preprocess(words)\n",
    "#     word_vectors = get_word_vectors(words)\n",
    "#     for w in kwargs['keywords']:\n",
    "#         similarity = min(max(similarity,get_similarity(word_vectors,w)),1.0)\n",
    "\n",
    "#     return similarity"
   ]
  },
  {
   "cell_type": "code",
   "execution_count": 135,
   "metadata": {},
   "outputs": [],
   "source": [
    "@labeling_function(cont_scorer=textblob_sentiment, pre=[convert_to_lower],label=ClassLabels.HAM)\n",
    "def textblob_polarity(x,**kwargs):\n",
    "    if kwargs[\"continuous_score\"] >= 0.9:\n",
    "        return ClassLabels.HAM\n",
    "    else:\n",
    "        return ABSTAIN\n",
    "\n",
    "@labeling_function(pre=[textblob_sentiment], label=ClassLabels.HAM)\n",
    "def textblob_polarity(x):\n",
    "    return ClassLabels.HAM if x.polarity > 0.9 else ABSTAIN\n",
    "\n",
    "@labeling_function(pre=[textblob_sentiment], label=ClassLabels.HAM)\n",
    "def textblob_subjectivity(x):\n",
    "    return ClassLabels.HAM if x.subjectivity >= 0.5 else ABSTAIN\n"
   ]
  },
  {
   "cell_type": "code",
   "execution_count": 136,
   "metadata": {},
   "outputs": [],
   "source": [
    "# from snorkel.preprocess.nlp import SpacyPreprocessor\n",
    "# spacy = SpacyPreprocessor(text_field=\"text\", doc_field=\"doc\", memoize=True)\n",
    "\n",
    "# @labeling_function(pre=[spacy], label=ClassLabels.HAM)\n",
    "# def has_person(x):\n",
    "#     \"\"\"Ham comments mention specific people and are short.\"\"\"\n",
    "#     if len(x.doc) < 20 and any([ent.label_ == \"PERSON\" for ent in x.doc.ents]):\n",
    "#         return ClassLabels.HAM\n",
    "#     else:\n",
    "#         return ABSTAIN\n",
    "\n",
    "\n",
    "\n",
    "# from snorkel.labeling.lf.nlp import nlp_labeling_function\n",
    "\n",
    "\n",
    "# @nlp_labeling_function()\n",
    "# def has_person_nlp(x):\n",
    "#     \"\"\"Ham comments mention specific people and are short.\"\"\"\n",
    "#     if len(x.doc) < 20 and any([ent.label_ == \"PERSON\" for ent in x.doc.ents]):\n",
    "#         return HAM\n",
    "#     else:\n",
    "#         return ABSTAIN\n",
    "\n"
   ]
  },
  {
   "cell_type": "markdown",
   "metadata": {},
   "source": [
    "## Loading all 8 LFs"
   ]
  },
  {
   "cell_type": "markdown",
   "metadata": {},
   "source": [
    "### **LFSet**\n",
    "\n",
    "Place holder for declared labeling functions. "
   ]
  },
  {
   "cell_type": "code",
   "execution_count": 138,
   "metadata": {},
   "outputs": [],
   "source": [
    "from spear.labeling import LFSet\n",
    "\n",
    "LFS = [\n",
    "    keyword_my,\n",
    "    keyword_subscribe,\n",
    "    keyword_link,\n",
    "    keyword_please,\n",
    "    keyword_song,\n",
    "    regex_check_out,\n",
    "    short_comment,\n",
    "#     has_person_nlp,\n",
    "    textblob_polarity,\n",
    "    textblob_subjectivity,\n",
    "]\n",
    "\n",
    "\n",
    "rules = LFSet(\"SPAM_LF\")\n",
    "rules.add_lf_list(LFS)"
   ]
  },
  {
   "cell_type": "markdown",
   "metadata": {},
   "source": [
    "### **Label the dataset with defined labeling functions**\n",
    "\n",
    "We can label the dataset using PreLabels by providing as set of labeling funtions. We can also provide the golden labels of the dataset if we already have some labeled data to evaluate our lf's.We provide both the  <b><font color='blue'>soft labels</font></b> and  <b><font color='blue'>hard labels</font></b> given an instance, although these labels can be very noisy we provide few frameworks to effectively use these rules to label unlabelled data."
   ]
  },
  {
   "cell_type": "code",
   "execution_count": 139,
   "metadata": {},
   "outputs": [
    {
     "name": "stderr",
     "output_type": "stream",
     "text": [
      "100%|██████████████████████████████████████████████████████████████████████████████████████████████████████████████████████████████████| 1586/1586 [00:00<00:00, 2360.65it/s]\n"
     ]
    }
   ],
   "source": [
    "from spear.labeling import PreLabels\n",
    "import numpy as np\n",
    "\n",
    "R = np.zeros((X.shape[0],len(rules.get_lfs())))\n",
    "\n",
    "yt_noisy_labels = PreLabels(name=\"youtube\",\n",
    "                               data=X,\n",
    "                               data_feats = X_feats,\n",
    "                               gold_labels=Y,\n",
    "                               rules=rules,\n",
    "                               labels_enum=ClassLabels,\n",
    "                               num_classes=2)\n",
    "L,S = yt_noisy_labels.get_labels()"
   ]
  },
  {
   "cell_type": "markdown",
   "metadata": {},
   "source": [
    "### **Analyse and refining labeling functions**\n",
    "\n",
    "Once we are done with labeling the dataset with given lf's, we can analyse the labeling functions we declared by calculating  <b><font color='blue'>coverage, overlap, conflicts, empirical accuracy</font></b> for of each lf which helps us to re-iterate on the process by refining new lf's."
   ]
  },
  {
   "cell_type": "code",
   "execution_count": 140,
   "metadata": {
    "tags": []
   },
   "outputs": [
    {
     "data": {
      "image/png": "[encoded data removed]",
      "text/plain": [
       "<Figure size 1080x720 with 6 Axes>"
      ]
     },
     "metadata": {
      "needs_background": "light"
     },
     "output_type": "display_data"
    },
    {
     "data": {
      "text/html": [
       "<div>\n",
       "<style scoped>\n",
       "    .dataframe tbody tr th:only-of-type {\n",
       "        vertical-align: middle;\n",
       "    }\n",
       "\n",
       "    .dataframe tbody tr th {\n",
       "        vertical-align: top;\n",
       "    }\n",
       "\n",
       "    .dataframe thead th {\n",
       "        text-align: right;\n",
       "    }\n",
       "</style>\n",
       "<table border=\"1\" class=\"dataframe\">\n",
       "  <thead>\n",
       "    <tr style=\"text-align: right;\">\n",
       "      <th></th>\n",
       "      <th>Polarity</th>\n",
       "      <th>Coverage</th>\n",
       "      <th>Overlaps</th>\n",
       "      <th>Conflicts</th>\n",
       "      <th>Correct</th>\n",
       "      <th>Incorrect</th>\n",
       "      <th>Emp. Acc.</th>\n",
       "    </tr>\n",
       "  </thead>\n",
       "  <tbody>\n",
       "    <tr>\n",
       "      <th>keyword_my</th>\n",
       "      <td>[-1.0, 0.0]</td>\n",
       "      <td>0.191047</td>\n",
       "      <td>0.172762</td>\n",
       "      <td>0.095208</td>\n",
       "      <td>263</td>\n",
       "      <td>40</td>\n",
       "      <td>0.867987</td>\n",
       "    </tr>\n",
       "    <tr>\n",
       "      <th>keyword_subscribe</th>\n",
       "      <td>[-1.0, 0.0]</td>\n",
       "      <td>0.086381</td>\n",
       "      <td>0.076293</td>\n",
       "      <td>0.046658</td>\n",
       "      <td>137</td>\n",
       "      <td>0</td>\n",
       "      <td>1.000000</td>\n",
       "    </tr>\n",
       "    <tr>\n",
       "      <th>keyword_link</th>\n",
       "      <td>[-1.0, 0.0]</td>\n",
       "      <td>0.119168</td>\n",
       "      <td>0.095839</td>\n",
       "      <td>0.077554</td>\n",
       "      <td>178</td>\n",
       "      <td>11</td>\n",
       "      <td>0.941799</td>\n",
       "    </tr>\n",
       "    <tr>\n",
       "      <th>keyword_please</th>\n",
       "      <td>[-1.0, 0.0]</td>\n",
       "      <td>0.092055</td>\n",
       "      <td>0.088272</td>\n",
       "      <td>0.040353</td>\n",
       "      <td>144</td>\n",
       "      <td>2</td>\n",
       "      <td>0.986301</td>\n",
       "    </tr>\n",
       "    <tr>\n",
       "      <th>keyword_song</th>\n",
       "      <td>[-1.0, 1.0]</td>\n",
       "      <td>0.083859</td>\n",
       "      <td>0.059899</td>\n",
       "      <td>0.023960</td>\n",
       "      <td>96</td>\n",
       "      <td>37</td>\n",
       "      <td>0.721805</td>\n",
       "    </tr>\n",
       "    <tr>\n",
       "      <th>regex_check_out</th>\n",
       "      <td>[-1.0, 0.0]</td>\n",
       "      <td>0.233922</td>\n",
       "      <td>0.126103</td>\n",
       "      <td>0.076293</td>\n",
       "      <td>371</td>\n",
       "      <td>0</td>\n",
       "      <td>1.000000</td>\n",
       "    </tr>\n",
       "    <tr>\n",
       "      <th>short_comment</th>\n",
       "      <td>[-1.0, 1.0]</td>\n",
       "      <td>0.225725</td>\n",
       "      <td>0.127364</td>\n",
       "      <td>0.066204</td>\n",
       "      <td>238</td>\n",
       "      <td>120</td>\n",
       "      <td>0.664804</td>\n",
       "    </tr>\n",
       "    <tr>\n",
       "      <th>textblob_polarity</th>\n",
       "      <td>[-1.0, 1.0]</td>\n",
       "      <td>0.035309</td>\n",
       "      <td>0.029004</td>\n",
       "      <td>0.005044</td>\n",
       "      <td>47</td>\n",
       "      <td>9</td>\n",
       "      <td>0.839286</td>\n",
       "    </tr>\n",
       "    <tr>\n",
       "      <th>textblob_subjectivity</th>\n",
       "      <td>[-1.0, 1.0]</td>\n",
       "      <td>0.357503</td>\n",
       "      <td>0.228247</td>\n",
       "      <td>0.152585</td>\n",
       "      <td>325</td>\n",
       "      <td>242</td>\n",
       "      <td>0.573192</td>\n",
       "    </tr>\n",
       "  </tbody>\n",
       "</table>\n",
       "</div>"
      ],
      "text/plain": [
       "                          Polarity  Coverage  Overlaps  Conflicts  Correct  \\\n",
       "keyword_my             [-1.0, 0.0]  0.191047  0.172762   0.095208      263   \n",
       "keyword_subscribe      [-1.0, 0.0]  0.086381  0.076293   0.046658      137   \n",
       "keyword_link           [-1.0, 0.0]  0.119168  0.095839   0.077554      178   \n",
       "keyword_please         [-1.0, 0.0]  0.092055  0.088272   0.040353      144   \n",
       "keyword_song           [-1.0, 1.0]  0.083859  0.059899   0.023960       96   \n",
       "regex_check_out        [-1.0, 0.0]  0.233922  0.126103   0.076293      371   \n",
       "short_comment          [-1.0, 1.0]  0.225725  0.127364   0.066204      238   \n",
       "textblob_polarity      [-1.0, 1.0]  0.035309  0.029004   0.005044       47   \n",
       "textblob_subjectivity  [-1.0, 1.0]  0.357503  0.228247   0.152585      325   \n",
       "\n",
       "                       Incorrect  Emp. Acc.  \n",
       "keyword_my                    40   0.867987  \n",
       "keyword_subscribe              0   1.000000  \n",
       "keyword_link                  11   0.941799  \n",
       "keyword_please                 2   0.986301  \n",
       "keyword_song                  37   0.721805  \n",
       "regex_check_out                0   1.000000  \n",
       "short_comment                120   0.664804  \n",
       "textblob_polarity              9   0.839286  \n",
       "textblob_subjectivity        242   0.573192  "
      ]
     },
     "metadata": {},
     "output_type": "display_data"
    }
   ],
   "source": [
    "from spear.labeling import LFAnalysis\n",
    "\n",
    "analyse = yt_noisy_labels.analyse_lfs(plot=True)\n",
    "\n",
    "result = analyse.head(16)\n",
    "display(result)"
   ]
  },
  {
   "cell_type": "markdown",
   "metadata": {},
   "source": [
    "### Create different splits of data here"
   ]
  },
  {
   "cell_type": "code",
   "execution_count": 142,
   "metadata": {},
   "outputs": [],
   "source": [
    "from utils import get_test_U_V_data\n",
    "import numpy as np\n",
    "\n",
    "test_size = 100\n",
    "# U_size = 1486\n",
    "n_lfs = len(rules.get_lfs())\n",
    "X = np.asarray(X)\n",
    "Y = np.asarray(Y)\n",
    "X_T, Y_T, _, X_U, _, X_feats_T, Y_U, X_feats_U, X_V, Y_V, X_feats_V = get_test_U_V_data\\\n",
    "                                                        (X, X_feats, Y, n_lfs, test_size, validation_size=100)\n",
    "\n",
    "# from utils import get_various_data\n",
    "\n",
    "# validation_size = 100\n",
    "# test_size = 100\n",
    "# L_size = 100\n",
    "# n_lfs = len(rules.get_lfs())\n",
    "# X = np.asarray(X)\n",
    "# Y = np.asarray(Y)\n",
    "# X_V, Y_V, X_feats_V,_, X_T, Y_T, X_feats_T,_, X_L, Y_L, X_feats_L,_, X_U, X_feats_U,_ = get_various_data(X, Y,\\\n",
    "#     X_feats, n_lfs, validation_size, test_size, L_size)"
   ]
  },
  {
   "cell_type": "code",
   "execution_count": 143,
   "metadata": {},
   "outputs": [
    {
     "data": {
      "text/plain": [
       "47"
      ]
     },
     "execution_count": 143,
     "metadata": {},
     "output_type": "execute_result"
    }
   ],
   "source": [
    "np.sum(Y_T==0)"
   ]
  },
  {
   "cell_type": "code",
   "execution_count": 144,
   "metadata": {},
   "outputs": [],
   "source": [
    "path_json = 'data_pipeline/JL/yt_json.json'\n",
    "V_path_pkl = 'data_pipeline/JL/yt_pickle_V.pkl' #validation data - have true labels\n",
    "T_path_pkl = 'data_pipeline/JL/yt_pickle_T.pkl' #test data - have true labels\n",
    "L_path_pkl = 'data_pipeline/JL/yt_pickle_L.pkl' #Labeled data - have true labels\n",
    "U_path_pkl = 'data_pipeline/JL/yt_pickle_U.pkl' #unlabelled data - don't have true labels\n",
    "\n",
    "log_path_jl_1 = 'log/JL/yt_log_1.txt' #jl is an algorithm, can be found below\n",
    "params_path = 'params/JL/yt_params.pkl' #file path to store parameters of JL, used below"
   ]
  },
  {
   "cell_type": "code",
   "execution_count": 145,
   "metadata": {},
   "outputs": [
    {
     "data": {
      "text/plain": [
       "((100,), (100,), (1386, 16634))"
      ]
     },
     "execution_count": 145,
     "metadata": {},
     "output_type": "execute_result"
    }
   ],
   "source": [
    "X_V.shape, Y_V.shape, X_feats_U.shape"
   ]
  },
  {
   "cell_type": "code",
   "execution_count": 146,
   "metadata": {},
   "outputs": [
    {
     "data": {
      "text/plain": [
       "array([0, 0, 0, ..., 0, 0, 0])"
      ]
     },
     "execution_count": 146,
     "metadata": {},
     "output_type": "execute_result"
    }
   ],
   "source": [
    "X_feats_U[0]"
   ]
  },
  {
   "cell_type": "code",
   "execution_count": 147,
   "metadata": {},
   "outputs": [
    {
     "name": "stderr",
     "output_type": "stream",
     "text": [
      "100%|█████████████████████████████████████████████████████████████████████████████████████████████████████████████████████████████████████| 100/100 [00:00<00:00, 359.79it/s]\n",
      "100%|████████████████████████████████████████████████████████████████████████████████████████████████████████████████████████████████████| 100/100 [00:00<00:00, 2429.55it/s]\n",
      "100%|██████████████████████████████████████████████████████████████████████████████████████████████████████████████████████████████████| 1386/1386 [00:00<00:00, 2416.62it/s]\n"
     ]
    }
   ],
   "source": [
    "from spear.labeling import PreLabels\n",
    "\n",
    "yt_noisy_labels = PreLabels(name=\"yt\",\n",
    "                               data=X_V,\n",
    "                               gold_labels=Y_V,\n",
    "                               data_feats=X_feats_V,\n",
    "                               rules=rules,\n",
    "                               labels_enum=ClassLabels,\n",
    "                               num_classes=2)\n",
    "yt_noisy_labels.generate_pickle(V_path_pkl)\n",
    "yt_noisy_labels.generate_json(path_json) #generating json files once is enough\n",
    "\n",
    "yt_noisy_labels = PreLabels(name=\"yt\",\n",
    "                               data=X_T,\n",
    "                               gold_labels=Y_T,\n",
    "                               data_feats=X_feats_T,\n",
    "                               rules=rules,\n",
    "                               labels_enum=ClassLabels,\n",
    "                               num_classes=2)\n",
    "yt_noisy_labels.generate_pickle(T_path_pkl)\n",
    "\n",
    "# yt_noisy_labels = PreLabels(name=\"yt\",\n",
    "#                                data=X_L,\n",
    "#                                gold_labels=Y_L,\n",
    "#                                data_feats=X_feats_L,\n",
    "#                                rules=rules,\n",
    "#                                labels_enum=ClassLabels,\n",
    "#                                num_classes=2)\n",
    "# yt_noisy_labels.generate_pickle(L_path_pkl)\n",
    "\n",
    "yt_noisy_labels = PreLabels(name=\"yt\",\n",
    "                               data=X_U,\n",
    "                               rules=rules,\n",
    "                               data_feats=X_feats_U,\n",
    "                               labels_enum=ClassLabels,\n",
    "                               num_classes=2) #note that we don't pass gold_labels here, for the unlabelled data\n",
    "yt_noisy_labels.generate_pickle(U_path_pkl)"
   ]
  },
  {
   "cell_type": "code",
   "execution_count": 148,
   "metadata": {},
   "outputs": [
    {
     "name": "stdout",
     "output_type": "stream",
     "text": [
      "Number of elements in data list:  10\n",
      "Shape of feature matrix:  (1386, 16634)\n",
      "Shape of labels matrix:  (1386, 9)\n",
      "Shape of continuous scores matrix :  (1386, 9)\n",
      "Total number of classes:  2\n",
      "Classes dictionary in json file(modified to have integer keys):  {1: 'SPAM', 0: 'HAM'}\n"
     ]
    }
   ],
   "source": [
    "from spear.utils import get_data, get_classes\n",
    "\n",
    "data_U = get_data(path = U_path_pkl, check_shapes=True)\n",
    "#check_shapes being True(above), asserts for relative shapes of arrays in pickle file\n",
    "print(\"Number of elements in data list: \", len(data_U))\n",
    "print(\"Shape of feature matrix: \", data_U[0].shape)\n",
    "print(\"Shape of labels matrix: \", data_U[1].shape)\n",
    "print(\"Shape of continuous scores matrix : \", data_U[6].shape)\n",
    "print(\"Total number of classes: \", data_U[9])\n",
    "\n",
    "classes = get_classes(path = path_json)\n",
    "print(\"Classes dictionary in json file(modified to have integer keys): \", classes)"
   ]
  },
  {
   "cell_type": "markdown",
   "metadata": {
    "heading_collapsed": true
   },
   "source": [
    "## SPEAR - with all 9 LFs"
   ]
  },
  {
   "cell_type": "code",
   "execution_count": null,
   "metadata": {
    "hidden": true
   },
   "outputs": [],
   "source": [
    "from spear.jl import JL\n",
    "\n",
    "n_features = 16634\n",
    "n_hidden = 512\n",
    "feature_model = 'lr'\n",
    "'''\n",
    "'nn' is neural network. other alternative is 'lr'(logistic regression) which doesn't need n_hidden to be passed\n",
    "during initialisation.\n",
    "''' \n",
    "\n",
    "jl = JL(path_json = path_json, n_lfs = n_lfs, n_features = n_features, feature_model = feature_model)"
   ]
  },
  {
   "cell_type": "code",
   "execution_count": null,
   "metadata": {
    "hidden": true
   },
   "outputs": [],
   "source": [
    "loss_func_mask = [1,0,1,1,1,1,1] \n",
    "'''\n",
    "One can keep 0s in places where he don't want the specific loss function to be part\n",
    "the final loss function used in training. Refer documentation(spear.JL.core.JL) to understand\n",
    "the which index of loss_func_mask refers to what loss function.\n",
    "\n",
    "Note: the loss_func_mask above may not be the optimal mask for sms dataset. We have to try\n",
    "      some other masks too, to find the best one that gives good accuracies.\n",
    "'''\n",
    "batch_size = 32\n",
    "lr_fm = 0.0003\n",
    "lr_gm = 0.01\n",
    "use_accuracy_score = False\n",
    "\n",
    "jl = JL(path_json = path_json, n_lfs = n_lfs, n_features = n_features, feature_model = feature_model, \\\n",
    "        n_hidden = n_hidden)\n",
    "\n",
    "probs_fm, probs_gm = jl.fit_and_predict_proba(path_L = L_path_pkl, path_U = U_path_pkl, path_V = V_path_pkl, \\\n",
    "        path_T = T_path_pkl, loss_func_mask = loss_func_mask, batch_size = batch_size, lr_fm = lr_fm, lr_gm = \\\n",
    "    lr_gm, use_accuracy_score = use_accuracy_score, path_log = log_path_jl_1, return_gm = True, n_epochs = \\\n",
    "    100, start_len = 7,stop_len = 10, is_qt = True, is_qc = True, qt = 0.9, qc = 0.85, metric_avg = 'macro')\n",
    "\n",
    "labels = np.argmax(probs_fm, 1)\n",
    "print(\"probs_fm shape: \", probs_fm.shape)\n",
    "print(\"probs_gm shape: \", probs_gm.shape)"
   ]
  },
  {
   "cell_type": "code",
   "execution_count": null,
   "metadata": {
    "hidden": true
   },
   "outputs": [],
   "source": [
    "labels_fm_test = jl.predict_fm(x_test = X_feats_T, need_strings=False)\n",
    "labels_gm_test = jl.predict_gm(path_test = T_path_pkl, qc = 0.85, need_strings=False)\n",
    "\n",
    "print(\"labels_fm_test shape: \", labels_fm_test.shape)\n",
    "print(\"labels_gm_test shape: \", labels_gm_test.shape)\n",
    "\n",
    "#Y_T is true labels of test data, type is numpy array of shape (num_instances,)\n",
    "print(\"accuracy_score of gm: \", accuracy_score(Y_T, labels_gm_test), \"| fm: \", accuracy_score(Y_T, labels_fm_test))\n",
    "print(\"f1_score of gm: \", f1_score(Y_T, labels_gm_test, average = None), \"| fm: \", f1_score(Y_T, labels_fm_test, average = None))\n",
    "print(\"Macro f1_score: \", f1_score(Y_T, labels_fm_test, average = 'macro'))\n",
    "print(\"Precision score of gm: \", precision_score(Y_T, labels_gm_test, average = None), \"| fm: \", precision_score(Y_T, labels_fm_test, average = None))\n",
    "print(\"Recall score of gm: \", recall_score(Y_T, labels_gm_test, average = None), \"| fm: \", recall_score(Y_T, labels_fm_test, average = None))"
   ]
  },
  {
   "cell_type": "markdown",
   "metadata": {},
   "source": [
    "## CAGE Algorithm - With All 9 LFs"
   ]
  },
  {
   "cell_type": "code",
   "execution_count": 149,
   "metadata": {},
   "outputs": [],
   "source": [
    "log_path_cage = 'params/cage/yt_log_1.txt' #jl is an algorithm, can be found below\n",
    "params_path = 'params/cage/yt_params.pkl' #file path to store parameters of JL, used below\n",
    "\n",
    "from spear.cage import Cage\n",
    "\n",
    "cage = Cage(path_json = path_json, n_lfs = n_lfs)"
   ]
  },
  {
   "cell_type": "code",
   "execution_count": 150,
   "metadata": {},
   "outputs": [
    {
     "name": "stderr",
     "output_type": "stream",
     "text": [
      "100%|██████████████████████████████████████████████████████████████████████████████████████████████████████████████████████████████████████| 100/100 [00:06<00:00, 16.36it/s]"
     ]
    },
    {
     "name": "stdout",
     "output_type": "stream",
     "text": [
      "final_test_accuracy_score: 0.74\n",
      "test_average_metric: macro\tfinal_test_f1_score: 0.7291666666666667\n",
      "probs shape:  (1386, 2)\n",
      "labels shape:  (1386,)\n"
     ]
    },
    {
     "name": "stderr",
     "output_type": "stream",
     "text": [
      "\n"
     ]
    }
   ],
   "source": [
    "probs = cage.fit_and_predict_proba(path_pkl = U_path_pkl, path_test = T_path_pkl, path_log = log_path_cage, \\\n",
    "                                   qt = 0.9, qc = 0.85, metric_avg = ['macro'], n_epochs = 100, lr = 0.01)\n",
    "labels = np.argmax(probs, 1)\n",
    "print(\"probs shape: \", probs.shape)\n",
    "print(\"labels shape: \",labels.shape)"
   ]
  },
  {
   "cell_type": "code",
   "execution_count": 151,
   "metadata": {},
   "outputs": [
    {
     "name": "stdout",
     "output_type": "stream",
     "text": [
      "labels_test shape:  (100,)\n",
      "accuracy_score:  0.74\n",
      "Binary f1_score:  0.6749999999999999\n",
      "Macro f1_score:  0.7291666666666667\n",
      "Micro f1_score:  0.74\n",
      "Class Wise f1_score:  [0.78333333 0.675     ]\n",
      "Class Wise Precision score:  [0.64383562 1.        ]\n",
      "Class Wise Recall score:  [1.         0.50943396]\n"
     ]
    }
   ],
   "source": [
    "labels_test = cage.predict(path_test = T_path_pkl, qc = 0.85, need_strings = False)\n",
    "print(\"labels_test shape: \", labels_test.shape)\n",
    "\n",
    "\n",
    "#Y_T is true labels of test data, type is numpy array of shape (num_instances,)\n",
    "print(\"accuracy_score: \", accuracy_score(Y_T, labels_test))\n",
    "print(\"Binary f1_score: \", f1_score(Y_T, labels_test, average = 'binary'))\n",
    "print(\"Macro f1_score: \", f1_score(Y_T, labels_test, average = 'macro'))\n",
    "print(\"Micro f1_score: \", f1_score(Y_T, labels_test, average = 'micro'))\n",
    "print(\"Class Wise f1_score: \", f1_score(Y_T, labels_test, average = None))\n",
    "print(\"Class Wise Precision score: \", precision_score(Y_T, labels_test, average = None))\n",
    "print(\"Class Wise Recall score: \", recall_score(Y_T, labels_test, average = None))"
   ]
  },
  {
   "cell_type": "markdown",
   "metadata": {},
   "source": [
    "### Checking here : How many instances have equal class probs from CAGE model"
   ]
  },
  {
   "cell_type": "code",
   "execution_count": 152,
   "metadata": {},
   "outputs": [
    {
     "name": "stdout",
     "output_type": "stream",
     "text": [
      "235\n"
     ]
    }
   ],
   "source": [
    "j=0\n",
    "for i in range(data_U[2].shape[0]):\n",
    "    if np.all(data_U[2][i] == 0):\n",
    "        j+=1\n",
    "print(j)"
   ]
  },
  {
   "cell_type": "code",
   "execution_count": 153,
   "metadata": {},
   "outputs": [
    {
     "name": "stdout",
     "output_type": "stream",
     "text": [
      "#Row:  235\n"
     ]
    }
   ],
   "source": [
    "j = 0 \n",
    "for i in range(probs.shape[0]):\n",
    "    if np.all(probs[i]==probs[i][0]):\n",
    "        j+=1\n",
    "#         print(labels[i])\n",
    "print('#Row: ', j)"
   ]
  },
  {
   "cell_type": "markdown",
   "metadata": {},
   "source": [
    "### Finding high confident instances by the CAGE model"
   ]
  },
  {
   "cell_type": "code",
   "execution_count": 168,
   "metadata": {},
   "outputs": [],
   "source": [
    "top_num_instances = 100\n",
    "high_probs = np.abs(probs[:,0] - probs[:,1])\n",
    "hiprob_ind = np.argsort(high_probs)[-top_num_instances:]"
   ]
  },
  {
   "cell_type": "code",
   "execution_count": 169,
   "metadata": {},
   "outputs": [
    {
     "data": {
      "text/plain": [
       "95"
      ]
     },
     "execution_count": 169,
     "metadata": {},
     "output_type": "execute_result"
    }
   ],
   "source": [
    "len(np.where(Y_U[hiprob_ind]==0)[0])"
   ]
  },
  {
   "cell_type": "code",
   "execution_count": 76,
   "metadata": {},
   "outputs": [],
   "source": [
    "def printGreedyRounded(greedyList):\n",
    "    print([(elem[0], round(elem[1],3)) for elem in greedyList])"
   ]
  },
  {
   "cell_type": "markdown",
   "metadata": {},
   "source": [
    "## Conditional Gain followed by Mutual Information\n",
    "- Budget is set in line 8\n",
    "- nus and eta are set as 1\n",
    "- TODO: Convert into an active learning setup"
   ]
  },
  {
   "cell_type": "code",
   "execution_count": 312,
   "metadata": {},
   "outputs": [
    {
     "name": "stderr",
     "output_type": "stream",
     "text": [
      "[|||||               ]28% [Iteration 27 of 100]0]"
     ]
    }
   ],
   "source": [
    "from submodlib import FacilityLocationConditionalGainFunction, FacilityLocationMutualInformationFunction, \\\n",
    "FacilityLocationVariantMutualInformationFunction\n",
    "\n",
    "nus = [1]#[0, 0.3, 0.6, 1, 1.4, 1.8, 2.2, 2.6, 3, 10, 50, 100]\n",
    "eta = 1\n",
    "row = 0\n",
    "index = 1\n",
    "groundData = np.delete(probs, hiprob_ind, axis=0)\n",
    "budget = 100\n",
    "groundxs = [x[0] for x in groundData]\n",
    "groundys = [x[1] for x in groundData]\n",
    "for nu in nus:\n",
    "    singleQueryData = probs[hiprob_ind]\n",
    "    ## Conditional Gain Function\n",
    "    obj = FacilityLocationConditionalGainFunction(n=probs.shape[0], \n",
    "                                          num_privates=100, \n",
    "                                          data=probs,\n",
    "                                          privateData=singleQueryData,\n",
    "                                          metric=\"euclidean\", \n",
    "                                          privacyHardness=nu)\n",
    "    greedyList = obj.maximize(budget=budget,optimizer='NaiveGreedy', stopIfZeroGain=False, \n",
    "                              stopIfNegativeGain=False, verbose=False)\n",
    "    \n",
    "    \n",
    "    cg_indices = [x[0] for x in greedyList]\n",
    "    \n",
    "    ## Mutual Information \n",
    "#     groundData = np.delete(groundData, cg_indices, axis=0)\n",
    "    singleQueryData =  probs[hiprob_ind]\n",
    "#     obj = FacilityLocationMutualInformationFunction(n=probs.shape[0], num_queries=10, data=probs, \n",
    "#                                                     queryData=singleQueryData, metric=\"euclidean\", \n",
    "#                                                     magnificationEta=eta)\n",
    "    \n",
    "    obj = FacilityLocationVariantMutualInformationFunction(n=probs.shape[0], num_queries=100, data=probs, \n",
    "                                                    queryData=singleQueryData, metric=\"euclidean\", \n",
    "                                                    queryDiversityEta=eta)\n",
    "    greedyList = obj.maximize(budget=budget,optimizer='NaiveGreedy', stopIfZeroGain=False, \n",
    "                              stopIfNegativeGain=False, verbose=False)\n",
    "    \n",
    "    mi_indices = [x[0] for x in greedyList]"
   ]
  },
  {
   "cell_type": "markdown",
   "metadata": {},
   "source": [
    "### Finding unique instances from CG and MI"
   ]
  },
  {
   "cell_type": "code",
   "execution_count": 313,
   "metadata": {},
   "outputs": [
    {
     "name": "stderr",
     "output_type": "stream",
     "text": [
      "ation 28 of 100]\r",
      "[||||||              ]30% [Iteration 30 of 100]\r",
      "[||||||              ]31% [Iteration 31 of 100]\r",
      "[||||||              ]32% [Iteration 32 of 100]\r",
      "[||||||              ]33% [Iteration 33 of 100]\r",
      "[||||||              ]34% [Iteration 34 of 100]\r",
      "[|||||||             ]35% [Iteration 35 of 100]\r",
      "[|||||||             ]36% [Iteration 36 of 100]\r",
      "[|||||||             ]37% [Iteration 37 of 100]\r",
      "[|||||||             ]38% [Iteration 38 of 100]\r",
      "[|||||||             ]39% [Iteration 39 of 100]\r",
      "[||||||||            ]40% [Iteration 40 of 100]\r",
      "[||||||||            ]41% [Iteration 41 of 100]\r",
      "[||||||||            ]42% [Iteration 42 of 100]\r",
      "[||||||||            ]43% [Iteration 43 of 100]\r",
      "[||||||||            ]44% [Iteration 44 of 100]\r",
      "[|||||||||           ]45% [Iteration 45 of 100]\r",
      "[|||||||||           ]46% [Iteration 46 of 100]\r",
      "[|||||||||           ]47% [Iteration 47 of 100]\r",
      "[|||||||||           ]48% [Iteration 48 of 100]\r",
      "[|||||||||           ]49% [Iteration 49 of 100]\r",
      "[||||||||||          ]50% [Iteration 50 of 100]\r",
      "[||||||||||          ]51% [Iteration 51 of 100]\r",
      "[||||||||||          ]52% [Iteration 52 of 100]\r",
      "[||||||||||          ]53% [Iteration 53 of 100]\r",
      "[||||||||||          ]54% [Iteration 54 of 100]\r",
      "[|||||||||||         ]55% [Iteration 55 of 100]\r",
      "[|||||||||||         ]56% [Iteration 56 of 100]\r",
      "[|||||||||||         ]56% [Iteration 57 of 100]\r",
      "[|||||||||||         ]57% [Iteration 58 of 100]\r",
      "[|||||||||||         ]59% [Iteration 59 of 100]\r",
      "[||||||||||||        ]60% [Iteration 60 of 100]\r",
      "[||||||||||||        ]61% [Iteration 61 of 100]\r",
      "[||||||||||||        ]62% [Iteration 62 of 100]\r",
      "[||||||||||||        ]63% [Iteration 63 of 100]\r",
      "[||||||||||||        ]64% [Iteration 64 of 100]\r",
      "[|||||||||||||       ]65% [Iteration 65 of 100]\r",
      "[|||||||||||||       ]66% [Iteration 66 of 100]\r",
      "[|||||||||||||       ]67% [Iteration 67 of 100]\r",
      "[|||||||||||||       ]68% [Iteration 68 of 100]\r",
      "[|||||||||||||       ]69% [Iteration 69 of 100]\r",
      "[||||||||||||||      ]70% [Iteration 70 of 100]\r",
      "[||||||||||||||      ]71% [Iteration 71 of 100]\r",
      "[||||||||||||||      ]72% [Iteration 72 of 100]\r",
      "[||||||||||||||      ]73% [Iteration 73 of 100]\r",
      "[||||||||||||||      ]74% [Iteration 74 of 100]\r",
      "[|||||||||||||||     ]75% [Iteration 75 of 100]\r",
      "[|||||||||||||||     ]76% [Iteration 76 of 100]\r",
      "[|||||||||||||||     ]77% [Iteration 77 of 100]\r",
      "[|||||||||||||||     ]78% [Iteration 78 of 100]\r",
      "[|||||||||||||||     ]79% [Iteration 79 of 100]\r",
      "[||||||||||||||||    ]80% [Iteration 80 of 100]\r",
      "[||||||||||||||||    ]81% [Iteration 81 of 100]\r",
      "[||||||||||||||||    ]82% [Iteration 82 of 100]\r",
      "[||||||||||||||||    ]83% [Iteration 83 of 100]\r",
      "[||||||||||||||||    ]84% [Iteration 84 of 100]\r",
      "[|||||||||||||||||   ]85% [Iteration 85 of 100]\r",
      "[|||||||||||||||||   ]86% [Iteration 86 of 100]\r",
      "[|||||||||||||||||   ]87% [Iteration 87 of 100]\r",
      "[|||||||||||||||||   ]88% [Iteration 88 of 100]\r",
      "[|||||||||||||||||   ]89% [Iteration 89 of 100]\r",
      "[||||||||||||||||||  ]90% [Iteration 90 of 100]\r",
      "[||||||||||||||||||  ]91% [Iteration 91 of 100]\r",
      "[||||||||||||||||||  ]92% [Iteration 92 of 100]\r",
      "[||||||||||||||||||  ]93% [Iteration 93 of 100]\r",
      "[||||||||||||||||||  ]94% [Iteration 94 of 100]\r",
      "[||||||||||||||||||| ]95% [Iteration 95 of 100]\r",
      "[||||||||||||||||||| ]96% [Iteration 96 of 100]\r",
      "[||||||||||||||||||| ]97% [Iteration 97 of 100]\r",
      "[||||||||||||||||||| ]98% [Iteration 98 of 100]\r",
      "[||||||||||||||||||| ]99% [Iteration 99 of 100]\r",
      "[||||||||||||||||||||]100% [Iteration 100 of 100]"
     ]
    }
   ],
   "source": [
    "indices = cg_indices\n",
    "# indices = np.asarray(list(set(cg_indices).union(set(mi_indices))))"
   ]
  },
  {
   "cell_type": "code",
   "execution_count": 314,
   "metadata": {},
   "outputs": [
    {
     "data": {
      "text/plain": [
       "(100, 100, 100)"
      ]
     },
     "execution_count": 314,
     "metadata": {},
     "output_type": "execute_result"
    }
   ],
   "source": [
    "len(indices), len(cg_indices), len(mi_indices)"
   ]
  },
  {
   "cell_type": "markdown",
   "metadata": {
    "heading_collapsed": true
   },
   "source": [
    "### Randomly selecting indices"
   ]
  },
  {
   "cell_type": "code",
   "execution_count": 229,
   "metadata": {
    "hidden": true
   },
   "outputs": [],
   "source": [
    "np.random.seed(42)\n",
    "\n",
    "rand_ind = np.random.choice(range(probs.shape[0]), size=100, replace=False)\n",
    "indices = rand_ind"
   ]
  },
  {
   "cell_type": "markdown",
   "metadata": {},
   "source": [
    "### Creating pickle files for L subset & U  set "
   ]
  },
  {
   "cell_type": "code",
   "execution_count": 315,
   "metadata": {},
   "outputs": [
    {
     "data": {
      "text/plain": [
       "26"
      ]
     },
     "execution_count": 315,
     "metadata": {},
     "output_type": "execute_result"
    }
   ],
   "source": [
    "len(np.where(Y_U[indices]==0)[0])"
   ]
  },
  {
   "cell_type": "code",
   "execution_count": 290,
   "metadata": {},
   "outputs": [
    {
     "data": {
      "text/plain": [
       "14"
      ]
     },
     "execution_count": 290,
     "metadata": {},
     "output_type": "execute_result"
    }
   ],
   "source": [
    "len(np.where(Y_U[cg_indices]==0)[0])"
   ]
  },
  {
   "cell_type": "code",
   "execution_count": 291,
   "metadata": {},
   "outputs": [
    {
     "data": {
      "text/plain": [
       "46"
      ]
     },
     "execution_count": 291,
     "metadata": {},
     "output_type": "execute_result"
    }
   ],
   "source": [
    "len(np.where(Y_U[rand_ind]==0)[0])"
   ]
  },
  {
   "cell_type": "markdown",
   "metadata": {},
   "source": [
    "## Writing subset pickle files"
   ]
  },
  {
   "cell_type": "code",
   "execution_count": 319,
   "metadata": {},
   "outputs": [
    {
     "name": "stdout",
     "output_type": "stream",
     "text": [
      "inside\n"
     ]
    }
   ],
   "source": [
    "from spear.utils import get_data, get_classes\n",
    "\n",
    "U_path_pkl = 'data_pipeline/JL/yt_pickle_U.pkl' #unlabelled data - don't have true labels\n",
    "data_U = get_data(U_path_pkl, check_shapes=True)\n",
    "\n",
    "path_save_L = 'data_pipeline/JL/subset_L.pkl'\n",
    "path_save_U = 'data_pipeline/JL/subset_U.pkl'\n",
    "\n",
    "false_mask = np.ones(data_U[0].shape[0], dtype = bool)\n",
    "false_mask[indices] = False\n",
    "\n",
    "save_file_L = open(path_save_L, 'wb')\n",
    "save_file_U = open(path_save_U, 'wb')\n",
    "\n",
    "for i in range(10):\n",
    "    if i < 7:\n",
    "        if data_U[i].shape[0] == 0:\n",
    "            if i == 3:\n",
    "                print('inside')\n",
    "                x = np.random.randint(0,2,[len(indices), 1])\n",
    "                pickle.dump(x, save_file_L)\n",
    "                pickle.dump(data_U[i], save_file_U)\n",
    "            else:\n",
    "                pickle.dump(data_U[i], save_file_L)\n",
    "                pickle.dump(data_U[i], save_file_U)\n",
    "                \n",
    "        else:\n",
    "            pickle.dump(data_U[i][indices], save_file_L)\n",
    "            pickle.dump(data_U[i][false_mask], save_file_U)\n",
    "        \n",
    "            \n",
    "    elif i >= 7:\n",
    "        pickle.dump(data_U[i], save_file_L)\n",
    "        pickle.dump(data_U[i], save_file_U)"
   ]
  },
  {
   "cell_type": "code",
   "execution_count": 320,
   "metadata": {},
   "outputs": [
    {
     "data": {
      "text/plain": [
       "(1286, 9)"
      ]
     },
     "execution_count": 320,
     "metadata": {},
     "output_type": "execute_result"
    }
   ],
   "source": [
    "## Just checking whether pickles are properly generatred\n",
    "path_save_L = 'data_pipeline/JL/subset_U.pkl'\n",
    "data_L = get_data(path_save_L, check_shapes=True)\n",
    "data_L[1].shape"
   ]
  },
  {
   "cell_type": "markdown",
   "metadata": {},
   "source": [
    "### Inserting true labels from Y_U"
   ]
  },
  {
   "cell_type": "code",
   "execution_count": 321,
   "metadata": {},
   "outputs": [],
   "source": [
    "from spear.jl import insert_true_labels\n",
    "\n",
    "path_save_L = 'data_pipeline/JL/subset_L.pkl'\n",
    "path_save_labeled = 'data_pipeline/JL/sup_subset_labeled_L.pkl'\n",
    "labels = np.asarray([Y_U[i] for i in indices])\n",
    "\n",
    "\n",
    "labels = np.reshape(labels, (len(labels),1))\n",
    "\n",
    "insert_true_labels(path = path_save_L, path_save = path_save_labeled, labels = labels)"
   ]
  },
  {
   "cell_type": "markdown",
   "metadata": {},
   "source": [
    "### Applying SPEAR here"
   ]
  },
  {
   "cell_type": "code",
   "execution_count": 322,
   "metadata": {},
   "outputs": [],
   "source": [
    "from spear.jl import JL\n",
    "\n",
    "n_features = 16634\n",
    "n_hidden = 512\n",
    "feature_model = 'lr'\n",
    "'''\n",
    "'nn' is neural network. other alternative is 'lr'(logistic regression) which doesn't need n_hidden to be passed\n",
    "during initialisation.\n",
    "''' \n",
    "\n",
    "jl = JL(path_json = path_json, n_lfs = n_lfs, n_features = n_features, feature_model = feature_model)"
   ]
  },
  {
   "cell_type": "code",
   "execution_count": 323,
   "metadata": {
    "scrolled": true
   },
   "outputs": [
    {
     "name": "stderr",
     "output_type": "stream",
     "text": [
      "  0%|                                                                                                                                                | 0/100 [00:04<?, ?it/s]\n"
     ]
    },
    {
     "ename": "IndexError",
     "evalue": "Dimension out of range (expected to be in range of [-1, 0], but got 1)",
     "output_type": "error",
     "traceback": [
      "\u001b[0;31m---------------------------------------------------------------------------\u001b[0m",
      "\u001b[0;31mIndexError\u001b[0m                                Traceback (most recent call last)",
      "\u001b[0;32m/tmp/ipykernel_717845/4179506210.py\u001b[0m in \u001b[0;36m<module>\u001b[0;34m\u001b[0m\n\u001b[1;32m     19\u001b[0m         n_hidden = n_hidden)\n\u001b[1;32m     20\u001b[0m \u001b[0;34m\u001b[0m\u001b[0m\n\u001b[0;32m---> 21\u001b[0;31m probs_fm, probs_gm = jl.fit_and_predict_proba(path_L = L_path_pkl, path_U = U_path_pkl, path_V = V_path_pkl, \\\n\u001b[0m\u001b[1;32m     22\u001b[0m         \u001b[0mpath_T\u001b[0m \u001b[0;34m=\u001b[0m \u001b[0mT_path_pkl\u001b[0m\u001b[0;34m,\u001b[0m \u001b[0mloss_func_mask\u001b[0m \u001b[0;34m=\u001b[0m \u001b[0mloss_func_mask\u001b[0m\u001b[0;34m,\u001b[0m \u001b[0mbatch_size\u001b[0m \u001b[0;34m=\u001b[0m \u001b[0mbatch_size\u001b[0m\u001b[0;34m,\u001b[0m \u001b[0mlr_fm\u001b[0m \u001b[0;34m=\u001b[0m \u001b[0mlr_fm\u001b[0m\u001b[0;34m,\u001b[0m \u001b[0mlr_gm\u001b[0m \u001b[0;34m=\u001b[0m\u001b[0;31m \u001b[0m\u001b[0;31m\\\u001b[0m\u001b[0;34m\u001b[0m\u001b[0;34m\u001b[0m\u001b[0m\n\u001b[1;32m     23\u001b[0m     \u001b[0mlr_gm\u001b[0m\u001b[0;34m,\u001b[0m \u001b[0muse_accuracy_score\u001b[0m \u001b[0;34m=\u001b[0m \u001b[0muse_accuracy_score\u001b[0m\u001b[0;34m,\u001b[0m \u001b[0mpath_log\u001b[0m \u001b[0;34m=\u001b[0m \u001b[0mlog_path_jl_1\u001b[0m\u001b[0;34m,\u001b[0m \u001b[0mreturn_gm\u001b[0m \u001b[0;34m=\u001b[0m \u001b[0;32mTrue\u001b[0m\u001b[0;34m,\u001b[0m \u001b[0mn_epochs\u001b[0m \u001b[0;34m=\u001b[0m\u001b[0;31m \u001b[0m\u001b[0;31m\\\u001b[0m\u001b[0;34m\u001b[0m\u001b[0;34m\u001b[0m\u001b[0m\n",
      "\u001b[0;32m~/.local/lib/python3.8/site-packages/spear/jl/core.py\u001b[0m in \u001b[0;36mfit_and_predict_proba\u001b[0;34m(self, path_L, path_U, path_V, path_T, loss_func_mask, batch_size, lr_fm, lr_gm, use_accuracy_score, path_log, return_gm, n_epochs, start_len, stop_len, is_qt, is_qc, qt, qc, metric_avg)\u001b[0m\n\u001b[1;32m    369\u001b[0m \u001b[0;34m\u001b[0m\u001b[0m\n\u001b[1;32m    370\u001b[0m                                         \u001b[0;32mif\u001b[0m\u001b[0;34m(\u001b[0m\u001b[0mloss_func_mask\u001b[0m\u001b[0;34m[\u001b[0m\u001b[0;36m2\u001b[0m\u001b[0;34m]\u001b[0m\u001b[0;34m)\u001b[0m\u001b[0;34m:\u001b[0m\u001b[0;34m\u001b[0m\u001b[0;34m\u001b[0m\u001b[0m\n\u001b[0;32m--> 371\u001b[0;31m                                                 \u001b[0my_pred_unsupervised\u001b[0m \u001b[0;34m=\u001b[0m \u001b[0mpredict_gm_labels\u001b[0m\u001b[0;34m(\u001b[0m\u001b[0mself\u001b[0m\u001b[0;34m.\u001b[0m\u001b[0mtheta\u001b[0m\u001b[0;34m,\u001b[0m \u001b[0mself\u001b[0m\u001b[0;34m.\u001b[0m\u001b[0mpi\u001b[0m\u001b[0;34m,\u001b[0m \u001b[0msample\u001b[0m\u001b[0;34m[\u001b[0m\u001b[0;36m2\u001b[0m\u001b[0;34m]\u001b[0m\u001b[0;34m[\u001b[0m\u001b[0munsupervised_indices\u001b[0m\u001b[0;34m]\u001b[0m\u001b[0;34m,\u001b[0m \u001b[0msample\u001b[0m\u001b[0;34m[\u001b[0m\u001b[0;36m3\u001b[0m\u001b[0;34m]\u001b[0m\u001b[0;34m[\u001b[0m\u001b[0munsupervised_indices\u001b[0m\u001b[0;34m]\u001b[0m\u001b[0;34m,\u001b[0m \u001b[0mself\u001b[0m\u001b[0;34m.\u001b[0m\u001b[0mk\u001b[0m\u001b[0;34m,\u001b[0m \u001b[0mself\u001b[0m\u001b[0;34m.\u001b[0m\u001b[0mn_classes\u001b[0m\u001b[0;34m,\u001b[0m \u001b[0mself\u001b[0m\u001b[0;34m.\u001b[0m\u001b[0mcontinuous_mask\u001b[0m\u001b[0;34m,\u001b[0m \u001b[0mqc_\u001b[0m\u001b[0;34m,\u001b[0m \u001b[0mself\u001b[0m\u001b[0;34m.\u001b[0m\u001b[0mdevice\u001b[0m\u001b[0;34m)\u001b[0m\u001b[0;34m\u001b[0m\u001b[0;34m\u001b[0m\u001b[0m\n\u001b[0m\u001b[1;32m    372\u001b[0m                                                 \u001b[0mloss_3\u001b[0m \u001b[0;34m=\u001b[0m \u001b[0msupervised_criterion\u001b[0m\u001b[0;34m(\u001b[0m\u001b[0mself\u001b[0m\u001b[0;34m.\u001b[0m\u001b[0mfeature_model\u001b[0m\u001b[0;34m(\u001b[0m\u001b[0msample\u001b[0m\u001b[0;34m[\u001b[0m\u001b[0;36m0\u001b[0m\u001b[0;34m]\u001b[0m\u001b[0;34m[\u001b[0m\u001b[0munsupervised_indices\u001b[0m\u001b[0;34m]\u001b[0m\u001b[0;34m)\u001b[0m\u001b[0;34m,\u001b[0m \u001b[0mtorch\u001b[0m\u001b[0;34m.\u001b[0m\u001b[0mtensor\u001b[0m\u001b[0;34m(\u001b[0m\u001b[0my_pred_unsupervised\u001b[0m\u001b[0;34m,\u001b[0m \u001b[0mdevice\u001b[0m \u001b[0;34m=\u001b[0m \u001b[0mself\u001b[0m\u001b[0;34m.\u001b[0m\u001b[0mdevice\u001b[0m\u001b[0;34m)\u001b[0m\u001b[0;34m)\u001b[0m\u001b[0;34m\u001b[0m\u001b[0;34m\u001b[0m\u001b[0m\n\u001b[1;32m    373\u001b[0m                                         \u001b[0;32melse\u001b[0m\u001b[0;34m:\u001b[0m\u001b[0;34m\u001b[0m\u001b[0;34m\u001b[0m\u001b[0m\n",
      "\u001b[0;32m~/.local/lib/python3.8/site-packages/spear/utils/utils_cage.py\u001b[0m in \u001b[0;36mpredict_gm_labels\u001b[0;34m(theta, pi, m, s, k, n_classes, continuous_mask, qc, device)\u001b[0m\n\u001b[1;32m    186\u001b[0m                 \u001b[0mnumpy\u001b[0m\u001b[0;34m.\u001b[0m\u001b[0mndarray\u001b[0m \u001b[0mof\u001b[0m \u001b[0mshape\u001b[0m \u001b[0;34m(\u001b[0m\u001b[0mn_instances\u001b[0m\u001b[0;34m,\u001b[0m\u001b[0;34m)\u001b[0m\u001b[0;34m,\u001b[0m \u001b[0mthe\u001b[0m \u001b[0mpredicted\u001b[0m \u001b[0;32mclass\u001b[0m \u001b[0;32mfor\u001b[0m \u001b[0man\u001b[0m \u001b[0minstance\u001b[0m\u001b[0;34m\u001b[0m\u001b[0;34m\u001b[0m\u001b[0m\n\u001b[1;32m    187\u001b[0m \t'''\n\u001b[0;32m--> 188\u001b[0;31m         \u001b[0;32mreturn\u001b[0m \u001b[0mnp\u001b[0m\u001b[0;34m.\u001b[0m\u001b[0margmax\u001b[0m\u001b[0;34m(\u001b[0m\u001b[0mprobability\u001b[0m\u001b[0;34m(\u001b[0m\u001b[0mtheta\u001b[0m\u001b[0;34m,\u001b[0m \u001b[0mpi\u001b[0m\u001b[0;34m,\u001b[0m \u001b[0mm\u001b[0m\u001b[0;34m,\u001b[0m \u001b[0ms\u001b[0m\u001b[0;34m,\u001b[0m \u001b[0mk\u001b[0m\u001b[0;34m,\u001b[0m \u001b[0mn_classes\u001b[0m\u001b[0;34m,\u001b[0m \u001b[0mcontinuous_mask\u001b[0m\u001b[0;34m,\u001b[0m \u001b[0mqc\u001b[0m\u001b[0;34m,\u001b[0m \u001b[0mdevice\u001b[0m\u001b[0;34m)\u001b[0m\u001b[0;34m.\u001b[0m\u001b[0mcpu\u001b[0m\u001b[0;34m(\u001b[0m\u001b[0;34m)\u001b[0m\u001b[0;34m.\u001b[0m\u001b[0mdetach\u001b[0m\u001b[0;34m(\u001b[0m\u001b[0;34m)\u001b[0m\u001b[0;34m.\u001b[0m\u001b[0mnumpy\u001b[0m\u001b[0;34m(\u001b[0m\u001b[0;34m)\u001b[0m\u001b[0;34m,\u001b[0m \u001b[0;36m1\u001b[0m\u001b[0;34m)\u001b[0m\u001b[0;34m\u001b[0m\u001b[0;34m\u001b[0m\u001b[0m\n\u001b[0m",
      "\u001b[0;32m~/.local/lib/python3.8/site-packages/spear/utils/utils_cage.py\u001b[0m in \u001b[0;36mprobability\u001b[0;34m(theta, pi, m, s, k, n_classes, continuous_mask, qc, device)\u001b[0m\n\u001b[1;32m    109\u001b[0m                 \u001b[0ma\u001b[0m \u001b[0mtensor\u001b[0m \u001b[0mof\u001b[0m \u001b[0mshape\u001b[0m \u001b[0;34m[\u001b[0m\u001b[0mn_instances\u001b[0m\u001b[0;34m,\u001b[0m \u001b[0mn_classes\u001b[0m\u001b[0;34m]\u001b[0m\u001b[0;34m,\u001b[0m \u001b[0mthe\u001b[0m \u001b[0mprobability\u001b[0m \u001b[0;32mfor\u001b[0m \u001b[0man\u001b[0m \u001b[0minstance\u001b[0m \u001b[0mbeing\u001b[0m \u001b[0ma\u001b[0m \u001b[0mparticular\u001b[0m \u001b[0;32mclass\u001b[0m\u001b[0;34m\u001b[0m\u001b[0;34m\u001b[0m\u001b[0m\n\u001b[1;32m    110\u001b[0m \t'''\n\u001b[0;32m--> 111\u001b[0;31m         \u001b[0mp_l_y\u001b[0m \u001b[0;34m=\u001b[0m \u001b[0mprobability_l_y\u001b[0m\u001b[0;34m(\u001b[0m\u001b[0mtheta\u001b[0m\u001b[0;34m,\u001b[0m \u001b[0mm\u001b[0m\u001b[0;34m,\u001b[0m \u001b[0mk\u001b[0m\u001b[0;34m,\u001b[0m \u001b[0mn_classes\u001b[0m\u001b[0;34m,\u001b[0m \u001b[0mdevice\u001b[0m\u001b[0;34m)\u001b[0m\u001b[0;34m\u001b[0m\u001b[0;34m\u001b[0m\u001b[0m\n\u001b[0m\u001b[1;32m    112\u001b[0m         \u001b[0mp_s\u001b[0m \u001b[0;34m=\u001b[0m \u001b[0mtorch\u001b[0m\u001b[0;34m.\u001b[0m\u001b[0mones\u001b[0m\u001b[0;34m(\u001b[0m\u001b[0ms\u001b[0m\u001b[0;34m.\u001b[0m\u001b[0mshape\u001b[0m\u001b[0;34m[\u001b[0m\u001b[0;36m0\u001b[0m\u001b[0;34m]\u001b[0m\u001b[0;34m,\u001b[0m \u001b[0mn_classes\u001b[0m\u001b[0;34m,\u001b[0m \u001b[0mdevice\u001b[0m \u001b[0;34m=\u001b[0m \u001b[0mdevice\u001b[0m\u001b[0;34m)\u001b[0m\u001b[0;34m.\u001b[0m\u001b[0mdouble\u001b[0m\u001b[0;34m(\u001b[0m\u001b[0;34m)\u001b[0m\u001b[0;34m\u001b[0m\u001b[0;34m\u001b[0m\u001b[0m\n\u001b[1;32m    113\u001b[0m         \u001b[0;32mfor\u001b[0m \u001b[0my\u001b[0m \u001b[0;32min\u001b[0m \u001b[0mrange\u001b[0m\u001b[0;34m(\u001b[0m\u001b[0mn_classes\u001b[0m\u001b[0;34m)\u001b[0m\u001b[0;34m:\u001b[0m\u001b[0;34m\u001b[0m\u001b[0;34m\u001b[0m\u001b[0m\n",
      "\u001b[0;32m~/.local/lib/python3.8/site-packages/spear/utils/utils_cage.py\u001b[0m in \u001b[0;36mprobability_l_y\u001b[0;34m(theta, m, k, n_classes, device)\u001b[0m\n\u001b[1;32m     59\u001b[0m         \u001b[0mz\u001b[0m \u001b[0;34m=\u001b[0m \u001b[0mcalculate_normalizer\u001b[0m\u001b[0;34m(\u001b[0m\u001b[0mtheta\u001b[0m\u001b[0;34m,\u001b[0m \u001b[0mk\u001b[0m\u001b[0;34m,\u001b[0m \u001b[0mn_classes\u001b[0m\u001b[0;34m,\u001b[0m \u001b[0mdevice\u001b[0m\u001b[0;34m)\u001b[0m\u001b[0;34m\u001b[0m\u001b[0;34m\u001b[0m\u001b[0m\n\u001b[1;32m     60\u001b[0m         \u001b[0;32mfor\u001b[0m \u001b[0my\u001b[0m \u001b[0;32min\u001b[0m \u001b[0mrange\u001b[0m\u001b[0;34m(\u001b[0m\u001b[0mn_classes\u001b[0m\u001b[0;34m)\u001b[0m\u001b[0;34m:\u001b[0m\u001b[0;34m\u001b[0m\u001b[0;34m\u001b[0m\u001b[0m\n\u001b[0;32m---> 61\u001b[0;31m                 \u001b[0mprobability\u001b[0m\u001b[0;34m[\u001b[0m\u001b[0;34m:\u001b[0m\u001b[0;34m,\u001b[0m \u001b[0my\u001b[0m\u001b[0;34m]\u001b[0m \u001b[0;34m=\u001b[0m \u001b[0mtorch\u001b[0m\u001b[0;34m.\u001b[0m\u001b[0mexp\u001b[0m\u001b[0;34m(\u001b[0m\u001b[0mphi\u001b[0m\u001b[0;34m(\u001b[0m\u001b[0mtheta\u001b[0m\u001b[0;34m[\u001b[0m\u001b[0my\u001b[0m\u001b[0;34m]\u001b[0m\u001b[0;34m,\u001b[0m \u001b[0mm\u001b[0m\u001b[0;34m,\u001b[0m \u001b[0mdevice\u001b[0m\u001b[0;34m)\u001b[0m\u001b[0;34m.\u001b[0m\u001b[0msum\u001b[0m\u001b[0;34m(\u001b[0m\u001b[0;36m1\u001b[0m\u001b[0;34m)\u001b[0m\u001b[0;34m)\u001b[0m \u001b[0;34m/\u001b[0m \u001b[0mz\u001b[0m\u001b[0;34m\u001b[0m\u001b[0;34m\u001b[0m\u001b[0m\n\u001b[0m\u001b[1;32m     62\u001b[0m \u001b[0;34m\u001b[0m\u001b[0m\n\u001b[1;32m     63\u001b[0m         \u001b[0;32mreturn\u001b[0m \u001b[0mprobability\u001b[0m\u001b[0;34m.\u001b[0m\u001b[0mdouble\u001b[0m\u001b[0;34m(\u001b[0m\u001b[0;34m)\u001b[0m\u001b[0;34m\u001b[0m\u001b[0;34m\u001b[0m\u001b[0m\n",
      "\u001b[0;31mIndexError\u001b[0m: Dimension out of range (expected to be in range of [-1, 0], but got 1)"
     ]
    }
   ],
   "source": [
    "loss_func_mask = [1,0,1,1,1,1,1] \n",
    "'''\n",
    "One can keep 0s in places where he don't want the specific loss function to be part\n",
    "the final loss function used in training. Refer documentation(spear.JL.core.JL) to understand\n",
    "the which index of loss_func_mask refers to what loss function.\n",
    "\n",
    "Note: the loss_func_mask above may not be the optimal mask for sms dataset. We have to try\n",
    "      some other masks too, to find the best one that gives good accuracies.\n",
    "'''\n",
    "L_path_pkl = path_save_L\n",
    "U_path_pkl = path_save_U\n",
    "\n",
    "batch_size = 32\n",
    "lr_fm = 0.0003\n",
    "lr_gm = 0.001\n",
    "use_accuracy_score = False\n",
    "\n",
    "jl = JL(path_json = path_json, n_lfs = n_lfs, n_features = n_features, feature_model = feature_model, \\\n",
    "        n_hidden = n_hidden)\n",
    "\n",
    "probs_fm, probs_gm = jl.fit_and_predict_proba(path_L = L_path_pkl, path_U = U_path_pkl, path_V = V_path_pkl, \\\n",
    "        path_T = T_path_pkl, loss_func_mask = loss_func_mask, batch_size = batch_size, lr_fm = lr_fm, lr_gm = \\\n",
    "    lr_gm, use_accuracy_score = use_accuracy_score, path_log = log_path_jl_1, return_gm = True, n_epochs = \\\n",
    "    100, start_len = 7,stop_len = 10, is_qt = True, is_qc = True, qt = 0.9, qc = 0.85, metric_avg = 'macro')\n",
    "\n",
    "labels = np.argmax(probs_fm, 1)\n",
    "print(\"probs_fm shape: \", probs_fm.shape)\n",
    "print(\"probs_gm shape: \", probs_gm.shape)"
   ]
  },
  {
   "cell_type": "markdown",
   "metadata": {
    "heading_collapsed": true
   },
   "source": [
    "## Both CG + MI"
   ]
  },
  {
   "cell_type": "code",
   "execution_count": null,
   "metadata": {
    "hidden": true
   },
   "outputs": [],
   "source": [
    "labels_fm_test = jl.predict_fm(x_test = X_feats_T, need_strings=False)\n",
    "labels_gm_test = jl.predict_gm(path_test = T_path_pkl, qc = 0.85, need_strings=False)\n",
    "\n",
    "print(\"labels_fm_test shape: \", labels_fm_test.shape)\n",
    "print(\"labels_gm_test shape: \", labels_gm_test.shape)\n",
    "\n",
    "#Y_T is true labels of test data, type is numpy array of shape (num_instances,)\n",
    "print(\"accuracy_score of gm: \", accuracy_score(Y_T, labels_gm_test), \"| fm: \", accuracy_score(Y_T, labels_fm_test))\n",
    "print(\"f1_score of gm: \", f1_score(Y_T, labels_gm_test, average = None), \"| fm: \", f1_score(Y_T, labels_fm_test, average = None))\n",
    "print(\"Macro f1_score: \", f1_score(Y_T, labels_gm_test, average = 'macro'))\n",
    "print(\"Precision score of gm: \", precision_score(Y_T, labels_gm_test, average = None), \"| fm: \", precision_score(Y_T, labels_fm_test, average = None))\n",
    "print(\"Recall score of gm: \", recall_score(Y_T, labels_gm_test, average = None), \"| fm: \", recall_score(Y_T, labels_fm_test, average = None))"
   ]
  },
  {
   "cell_type": "markdown",
   "metadata": {
    "heading_collapsed": true
   },
   "source": [
    "## With MI only - |L| - 100"
   ]
  },
  {
   "cell_type": "code",
   "execution_count": null,
   "metadata": {
    "hidden": true
   },
   "outputs": [],
   "source": [
    "\n",
    "labels_fm_test = jl.predict_fm(x_test = X_feats_T, need_strings=False)\n",
    "labels_gm_test = jl.predict_gm(path_test = T_path_pkl, qc = 0.85, need_strings=False)\n",
    "\n",
    "print(\"labels_fm_test shape: \", labels_fm_test.shape)\n",
    "print(\"labels_gm_test shape: \", labels_gm_test.shape)\n",
    "\n",
    "#Y_T is true labels of test data, type is numpy array of shape (num_instances,)\n",
    "print(\"accuracy_score of gm: \", accuracy_score(Y_T, labels_gm_test), \"| fm: \", accuracy_score(Y_T, labels_fm_test))\n",
    "print(\"f1_score of gm: \", f1_score(Y_T, labels_gm_test, average = None), \"| fm: \", f1_score(Y_T, labels_fm_test, average = None))\n",
    "print(\"Macro f1_score: \", f1_score(Y_T, labels_gm_test, average = 'macro'))\n",
    "print(\"Precision score of gm: \", precision_score(Y_T, labels_gm_test, average = None), \"| fm: \", precision_score(Y_T, labels_fm_test, average = None))\n",
    "print(\"Recall score of gm: \", recall_score(Y_T, labels_gm_test, average = None), \"| fm: \", recall_score(Y_T, labels_fm_test, average = None))"
   ]
  },
  {
   "cell_type": "markdown",
   "metadata": {},
   "source": [
    "## With CG"
   ]
  },
  {
   "cell_type": "code",
   "execution_count": 311,
   "metadata": {},
   "outputs": [
    {
     "name": "stdout",
     "output_type": "stream",
     "text": [
      "labels_fm_test shape:  (100,)\n",
      "labels_gm_test shape:  (100,)\n",
      "accuracy_score of gm:  0.77 | fm:  0.78\n",
      "f1_score of gm:  [0.8034188  0.72289157] | fm:  [0.80701754 0.74418605]\n",
      "Macro f1_score LR:  0.7756017951856384\n",
      "Macro f1_score GM:  0.7631551848419318\n",
      "Precision score of gm:  [0.67142857 1.        ] | fm:  [0.68656716 0.96969697]\n",
      "Recall score of gm:  [1.         0.56603774] | fm:  [0.9787234  0.60377358]\n"
     ]
    }
   ],
   "source": [
    "\n",
    "labels_fm_test = jl.predict_fm(x_test = X_feats_T, need_strings=False)\n",
    "labels_gm_test = jl.predict_gm(path_test = T_path_pkl, qc = 0.85, need_strings=False)\n",
    "\n",
    "print(\"labels_fm_test shape: \", labels_fm_test.shape)\n",
    "print(\"labels_gm_test shape: \", labels_gm_test.shape)\n",
    "\n",
    "#Y_T is true labels of test data, type is numpy array of shape (num_instances,)\n",
    "print(\"accuracy_score of gm: \", accuracy_score(Y_T, labels_gm_test), \"| fm: \", accuracy_score(Y_T, labels_fm_test))\n",
    "print(\"f1_score of gm: \", f1_score(Y_T, labels_gm_test, average = None), \"| fm: \", f1_score(Y_T, labels_fm_test, average = None))\n",
    "print(\"Macro f1_score LR: \", f1_score(Y_T, labels_fm_test, average = 'macro'))\n",
    "print(\"Macro f1_score GM: \", f1_score(Y_T, labels_gm_test, average = 'macro'))\n",
    "print(\"Precision score of gm: \", precision_score(Y_T, labels_gm_test, average = None), \"| fm: \", precision_score(Y_T, labels_fm_test, average = None))\n",
    "print(\"Recall score of gm: \", recall_score(Y_T, labels_gm_test, average = None), \"| fm: \", recall_score(Y_T, labels_fm_test, average = None))"
   ]
  },
  {
   "cell_type": "markdown",
   "metadata": {},
   "source": [
    "## Loading 6 LFs "
   ]
  },
  {
   "cell_type": "code",
   "execution_count": null,
   "metadata": {
    "scrolled": true
   },
   "outputs": [],
   "source": [
    "from spear.labeling import LFSet, LFAnalysis, PreLabels\n",
    "import numpy as np\n",
    "\n",
    "LFS = [\n",
    "    keyword_my,\n",
    "    keyword_subscribe,\n",
    "    keyword_link,\n",
    "    keyword_please,\n",
    "#     keyword_song,\n",
    "#     regex_check_out,\n",
    "    short_comment,\n",
    "#     has_person_nlp,\n",
    "    textblob_polarity,\n",
    "#     textblob_subjectivity,\n",
    "]\n",
    "\n",
    "\n",
    "rules = LFSet(\"SPAM_LF\")\n",
    "rules.add_lf_list(LFS)\n",
    "\n",
    "R = np.zeros((X.shape[0],len(rules.get_lfs())))\n",
    "\n",
    "yt_noisy_labels = PreLabels(name=\"youtube\",\n",
    "                               data=X,\n",
    "                               data_feats = X_feats,\n",
    "                               gold_labels=Y,\n",
    "                               rules=rules,\n",
    "                               labels_enum=ClassLabels,\n",
    "                               num_classes=2)\n",
    "L,S = yt_noisy_labels.get_labels()\n",
    "\n",
    "analyse = yt_noisy_labels.analyse_lfs(plot=True)\n",
    "\n",
    "result = analyse.head(16)\n",
    "display(result)"
   ]
  },
  {
   "cell_type": "markdown",
   "metadata": {},
   "source": [
    "### Create different splits of data here"
   ]
  },
  {
   "cell_type": "code",
   "execution_count": null,
   "metadata": {},
   "outputs": [],
   "source": [
    "from utils import get_various_data\n",
    "\n",
    "validation_size = 100\n",
    "test_size = 100\n",
    "L_size = 100\n",
    "n_lfs = len(rules.get_lfs())\n",
    "X = np.asarray(X)\n",
    "Y = np.asarray(Y)\n",
    "X_V, Y_V, X_feats_V,_, X_T, Y_T, X_feats_T,_, X_L, Y_L, X_feats_L,_, X_U, X_feats_U,_ = get_various_data(X, Y,\\\n",
    "    X_feats, n_lfs, validation_size, test_size, L_size)"
   ]
  },
  {
   "cell_type": "code",
   "execution_count": null,
   "metadata": {},
   "outputs": [],
   "source": [
    "path_json = 'data_pipeline/JL/yt_json.json'\n",
    "V_path_pkl = 'data_pipeline/JL/yt_pickle_V.pkl' #validation data - have true labels\n",
    "T_path_pkl = 'data_pipeline/JL/yt_pickle_T_6_lfs.pkl' #test data - have true labels\n",
    "L_path_pkl = 'data_pipeline/JL/yt_pickle_L.pkl' #Labeled data - have true labels\n",
    "U_path_pkl = 'data_pipeline/JL/yt_pickle_U_6_lfs.pkl' #unlabelled data - don't have true labels\n",
    "\n",
    "log_path_jl_1 = 'log/JL/yt_log_1.txt' #jl is an algorithm, can be found below\n",
    "params_path = 'params/JL/yt_params.pkl' #file path to store parameters of JL, used below"
   ]
  },
  {
   "cell_type": "code",
   "execution_count": null,
   "metadata": {},
   "outputs": [],
   "source": [
    "from spear.labeling import PreLabels\n",
    "\n",
    "yt_noisy_labels = PreLabels(name=\"yt\",\n",
    "                               data=X_V,\n",
    "                               gold_labels=Y_V,\n",
    "                               data_feats=X_feats_V,\n",
    "                               rules=rules,\n",
    "                               labels_enum=ClassLabels,\n",
    "                               num_classes=2)\n",
    "yt_noisy_labels.generate_pickle(V_path_pkl)\n",
    "yt_noisy_labels.generate_json(path_json) #generating json files once is enough\n",
    "\n",
    "yt_noisy_labels = PreLabels(name=\"yt\",\n",
    "                               data=X_T,\n",
    "                               gold_labels=Y_T,\n",
    "                               data_feats=X_feats_T,\n",
    "                               rules=rules,\n",
    "                               labels_enum=ClassLabels,\n",
    "                               num_classes=2)\n",
    "yt_noisy_labels.generate_pickle(T_path_pkl)\n",
    "\n",
    "yt_noisy_labels = PreLabels(name=\"yt\",\n",
    "                               data=X_L,\n",
    "                               gold_labels=Y_L,\n",
    "                               data_feats=X_feats_L,\n",
    "                               rules=rules,\n",
    "                               labels_enum=ClassLabels,\n",
    "                               num_classes=2)\n",
    "yt_noisy_labels.generate_pickle(L_path_pkl)\n",
    "\n",
    "yt_noisy_labels = PreLabels(name=\"yt\",\n",
    "                               data=X_U,\n",
    "                               rules=rules,\n",
    "                               data_feats=X_feats_U,\n",
    "                               labels_enum=ClassLabels,\n",
    "                               num_classes=2) #note that we don't pass gold_labels here, for the unlabelled data\n",
    "yt_noisy_labels.generate_pickle(U_path_pkl)"
   ]
  },
  {
   "cell_type": "code",
   "execution_count": null,
   "metadata": {},
   "outputs": [],
   "source": [
    "from spear.utils import get_data, get_classes\n",
    "\n",
    "data_U = get_data(path = U_path_pkl, check_shapes=True)\n",
    "#check_shapes being True(above), asserts for relative shapes of arrays in pickle file\n",
    "print(\"Number of elements in data list: \", len(data_U))\n",
    "print(\"Shape of feature matrix: \", data_U[0].shape)\n",
    "print(\"Shape of labels matrix: \", data_U[1].shape)\n",
    "print(\"Shape of continuous scores matrix : \", data_U[6].shape)\n",
    "print(\"Total number of classes: \", data_U[9])\n",
    "\n",
    "classes = get_classes(path = path_json)\n",
    "print(\"Classes dictionary in json file(modified to have integer keys): \", classes)"
   ]
  },
  {
   "cell_type": "markdown",
   "metadata": {
    "heading_collapsed": true
   },
   "source": [
    "## JL with 6 LFS"
   ]
  },
  {
   "cell_type": "code",
   "execution_count": null,
   "metadata": {
    "hidden": true
   },
   "outputs": [],
   "source": [
    "from spear.jl import JL\n",
    "\n",
    "n_features = 16634\n",
    "n_hidden = 512\n",
    "feature_model = 'lr'\n",
    "'''\n",
    "'nn' is neural network. other alternative is 'lr'(logistic regression) which doesn't need n_hidden to be passed\n",
    "during initialisation.\n",
    "''' \n",
    "\n",
    "jl = JL(path_json = path_json, n_lfs = n_lfs, n_features = n_features, feature_model = feature_model)"
   ]
  },
  {
   "cell_type": "code",
   "execution_count": null,
   "metadata": {
    "hidden": true
   },
   "outputs": [],
   "source": [
    "loss_func_mask = [1,0,1,1,1,1,1] \n",
    "'''\n",
    "One can keep 0s in places where he don't want the specific loss function to be part\n",
    "the final loss function used in training. Refer documentation(spear.JL.core.JL) to understand\n",
    "the which index of loss_func_mask refers to what loss function.\n",
    "\n",
    "Note: the loss_func_mask above may not be the optimal mask for sms dataset. We have to try\n",
    "      some other masks too, to find the best one that gives good accuracies.\n",
    "'''\n",
    "batch_size = 32\n",
    "lr_fm = 0.0003\n",
    "lr_gm = 0.01\n",
    "use_accuracy_score = False\n",
    "\n",
    "jl = JL(path_json = path_json, n_lfs = n_lfs, n_features = n_features, feature_model = feature_model, \\\n",
    "        n_hidden = n_hidden)\n",
    "\n",
    "probs_fm, probs_gm = jl.fit_and_predict_proba(path_L = L_path_pkl, path_U = U_path_pkl, path_V = V_path_pkl, \\\n",
    "        path_T = T_path_pkl, loss_func_mask = loss_func_mask, batch_size = batch_size, lr_fm = lr_fm, lr_gm = \\\n",
    "    lr_gm, use_accuracy_score = use_accuracy_score, path_log = log_path_jl_1, return_gm = True, n_epochs = \\\n",
    "    100, start_len = 7,stop_len = 10, is_qt = True, is_qc = True, qt = 0.9, qc = 0.85, metric_avg = 'macro')\n",
    "\n",
    "labels = np.argmax(probs_fm, 1)\n",
    "print(\"probs_fm shape: \", probs_fm.shape)\n",
    "print(\"probs_gm shape: \", probs_gm.shape)"
   ]
  },
  {
   "cell_type": "code",
   "execution_count": null,
   "metadata": {
    "hidden": true
   },
   "outputs": [],
   "source": [
    "labels_fm_test = jl.predict_fm(x_test = X_feats_T, need_strings=False)\n",
    "labels_gm_test = jl.predict_gm(path_test = T_path_pkl, qc = 0.85, need_strings=False)\n",
    "\n",
    "print(\"labels_fm_test shape: \", labels_fm_test.shape)\n",
    "print(\"labels_gm_test shape: \", labels_gm_test.shape)\n",
    "\n",
    "#Y_T is true labels of test data, type is numpy array of shape (num_instances,)\n",
    "print(\"accuracy_score of gm: \", accuracy_score(Y_T, labels_gm_test), \"| fm: \", accuracy_score(Y_T, labels_fm_test))\n",
    "print(\"f1_score of gm: \", f1_score(Y_T, labels_gm_test, average = None), \"| fm: \", f1_score(Y_T, labels_fm_test, average = None))\n",
    "print(\"Macro f1_score: \", f1_score(Y_T, labels_fm_test, average = 'macro'))\n",
    "print(\"Precision score of gm: \", precision_score(Y_T, labels_gm_test, average = None), \"| fm: \", precision_score(Y_T, labels_fm_test, average = None))\n",
    "print(\"Recall score of gm: \", recall_score(Y_T, labels_gm_test, average = None), \"| fm: \", recall_score(Y_T, labels_fm_test, average = None))"
   ]
  },
  {
   "cell_type": "markdown",
   "metadata": {
    "heading_collapsed": true
   },
   "source": [
    "## CAGE with 6 LFs"
   ]
  },
  {
   "cell_type": "code",
   "execution_count": null,
   "metadata": {
    "hidden": true
   },
   "outputs": [],
   "source": [
    "log_path_cage = 'params/cage/yt_log_2.txt' #jl is an algorithm, can be found below\n",
    "params_path = 'params/cage/yt_params.pkl' #file path to store parameters of JL, used below"
   ]
  },
  {
   "cell_type": "code",
   "execution_count": null,
   "metadata": {
    "hidden": true
   },
   "outputs": [],
   "source": [
    "# from spear.cage import Cage\n",
    "\n",
    "cage2 = Cage(path_json = path_json, n_lfs = n_lfs)"
   ]
  },
  {
   "cell_type": "code",
   "execution_count": null,
   "metadata": {
    "hidden": true
   },
   "outputs": [],
   "source": [
    "probs = cage2.fit_and_predict_proba(path_pkl = U_path_pkl, path_test = T_path_pkl, path_log = log_path_cage, \\\n",
    "                                   qt = 0.9, qc = 0.85, metric_avg = ['macro'], n_epochs = 100, lr = 0.01)\n",
    "labels = np.argmax(probs, 1)\n",
    "print(\"probs shape: \", probs.shape)\n",
    "print(\"labels shape: \",labels.shape)"
   ]
  },
  {
   "cell_type": "code",
   "execution_count": null,
   "metadata": {
    "hidden": true
   },
   "outputs": [],
   "source": [
    "labels_test = cage2.predict(path_test = T_path_pkl, qc = 0.85, need_strings = False)\n",
    "print(\"labels_test shape: \", labels_test.shape)\n",
    "\n",
    "from sklearn.metrics import accuracy_score, f1_score, precision_score, recall_score\n",
    "\n",
    "#Y_T is true labels of test data, type is numpy array of shape (num_instances,)\n",
    "print(\"accuracy_score: \", accuracy_score(Y_T, labels_test))\n",
    "# print(\"Binary f1_score: \", f1_score(Y_T, labels_test, average = 'binary'))\n",
    "print(\"Macro f1_score: \", f1_score(Y_T, labels_test, average = 'macro'))\n",
    "print(\"Micro f1_score: \", f1_score(Y_T, labels_test, average = 'micro'))\n",
    "print(\"Class Wise f1_score: \", f1_score(Y_T, labels_test, average = None))\n",
    "print(\"Class Wise Precision score: \", precision_score(Y_T, labels_test, average = None))\n",
    "print(\"Class Wise Recall score: \", recall_score(Y_T, labels_test, average = None))"
   ]
  },
  {
   "cell_type": "markdown",
   "metadata": {
    "heading_collapsed": true
   },
   "source": [
    "## Loading 4 LFs"
   ]
  },
  {
   "cell_type": "code",
   "execution_count": null,
   "metadata": {
    "hidden": true,
    "scrolled": true
   },
   "outputs": [],
   "source": [
    "from spear.labeling import LFSet, LFAnalysis, PreLabels\n",
    "import numpy as np\n",
    "\n",
    "LFS = [\n",
    "#     keyword_my,\n",
    "    keyword_subscribe,\n",
    "    keyword_link,\n",
    "    keyword_please,\n",
    "#     keyword_song,\n",
    "#     regex_check_out,\n",
    "#     short_comment,\n",
    "#     has_person_nlp,\n",
    "    textblob_polarity,\n",
    "#     textblob_subjectivity,\n",
    "]\n",
    "\n",
    "\n",
    "rules = LFSet(\"SPAM_LF\")\n",
    "rules.add_lf_list(LFS)\n",
    "\n",
    "R = np.zeros((X.shape[0],len(rules.get_lfs())))\n",
    "\n",
    "yt_noisy_labels = PreLabels(name=\"youtube\",\n",
    "                               data=X,\n",
    "                               data_feats = X_feats,\n",
    "                               gold_labels=Y,\n",
    "                               rules=rules,\n",
    "                               labels_enum=ClassLabels,\n",
    "                               num_classes=2)\n",
    "L,S = yt_noisy_labels.get_labels()\n",
    "\n",
    "analyse = yt_noisy_labels.analyse_lfs(plot=True)\n",
    "\n",
    "result = analyse.head(16)\n",
    "display(result)"
   ]
  },
  {
   "cell_type": "markdown",
   "metadata": {
    "hidden": true
   },
   "source": [
    "### Create different splits of data here"
   ]
  },
  {
   "cell_type": "code",
   "execution_count": null,
   "metadata": {
    "hidden": true
   },
   "outputs": [],
   "source": [
    "from utils import get_various_data\n",
    "\n",
    "validation_size = 100\n",
    "test_size = 100\n",
    "L_size = 100\n",
    "n_lfs = len(rules.get_lfs())\n",
    "X = np.asarray(X)\n",
    "Y = np.asarray(Y)\n",
    "X_V, Y_V, X_feats_V,_, X_T, Y_T, X_feats_T,_, X_L, Y_L, X_feats_L,_, X_U, X_feats_U,_ = get_various_data(X, Y,\\\n",
    "    X_feats, n_lfs, validation_size, test_size, L_size)"
   ]
  },
  {
   "cell_type": "code",
   "execution_count": null,
   "metadata": {
    "hidden": true
   },
   "outputs": [],
   "source": [
    "path_json = 'data_pipeline/JL/yt_json.json'\n",
    "V_path_pkl = 'data_pipeline/JL/yt_pickle_V.pkl' #validation data - have true labels\n",
    "T_path_pkl = 'data_pipeline/JL/yt_pickle_T_4_lfs.pkl' #test data - have true labels\n",
    "L_path_pkl = 'data_pipeline/JL/yt_pickle_L.pkl' #Labeled data - have true labels\n",
    "U_path_pkl = 'data_pipeline/JL/yt_pickle_U_4_lfs.pkl' #unlabelled data - don't have true labels\n",
    "\n",
    "log_path_jl_1 = 'log/JL/yt_log_1.txt' #jl is an algorithm, can be found below\n",
    "params_path = 'params/JL/yt_params.pkl' #file path to store parameters of JL, used below"
   ]
  },
  {
   "cell_type": "code",
   "execution_count": null,
   "metadata": {
    "hidden": true
   },
   "outputs": [],
   "source": [
    "from spear.labeling import PreLabels\n",
    "\n",
    "yt_noisy_labels = PreLabels(name=\"yt\",\n",
    "                               data=X_V,\n",
    "                               gold_labels=Y_V,\n",
    "                               data_feats=X_feats_V,\n",
    "                               rules=rules,\n",
    "                               labels_enum=ClassLabels,\n",
    "                               num_classes=2)\n",
    "yt_noisy_labels.generate_pickle(V_path_pkl)\n",
    "yt_noisy_labels.generate_json(path_json) #generating json files once is enough\n",
    "\n",
    "yt_noisy_labels = PreLabels(name=\"yt\",\n",
    "                               data=X_T,\n",
    "                               gold_labels=Y_T,\n",
    "                               data_feats=X_feats_T,\n",
    "                               rules=rules,\n",
    "                               labels_enum=ClassLabels,\n",
    "                               num_classes=2)\n",
    "yt_noisy_labels.generate_pickle(T_path_pkl)\n",
    "\n",
    "yt_noisy_labels = PreLabels(name=\"yt\",\n",
    "                               data=X_L,\n",
    "                               gold_labels=Y_L,\n",
    "                               data_feats=X_feats_L,\n",
    "                               rules=rules,\n",
    "                               labels_enum=ClassLabels,\n",
    "                               num_classes=2)\n",
    "yt_noisy_labels.generate_pickle(L_path_pkl)\n",
    "\n",
    "yt_noisy_labels = PreLabels(name=\"yt\",\n",
    "                               data=X_U,\n",
    "                               rules=rules,\n",
    "                               data_feats=X_feats_U,\n",
    "                               labels_enum=ClassLabels,\n",
    "                               num_classes=2) #note that we don't pass gold_labels here, for the unlabelled data\n",
    "yt_noisy_labels.generate_pickle(U_path_pkl)"
   ]
  },
  {
   "cell_type": "code",
   "execution_count": null,
   "metadata": {
    "hidden": true
   },
   "outputs": [],
   "source": [
    "from spear.utils import get_data, get_classes\n",
    "\n",
    "data_U = get_data(path = U_path_pkl, check_shapes=True)\n",
    "#check_shapes being True(above), asserts for relative shapes of arrays in pickle file\n",
    "print(\"Number of elements in data list: \", len(data_U))\n",
    "print(\"Shape of feature matrix: \", data_U[0].shape)\n",
    "print(\"Shape of labels matrix: \", data_U[1].shape)\n",
    "print(\"Shape of continuous scores matrix : \", data_U[6].shape)\n",
    "print(\"Total number of classes: \", data_U[9])\n",
    "\n",
    "classes = get_classes(path = path_json)\n",
    "print(\"Classes dictionary in json file(modified to have integer keys): \", classes)"
   ]
  },
  {
   "cell_type": "markdown",
   "metadata": {
    "heading_collapsed": true
   },
   "source": [
    "## JL with 4 LFs"
   ]
  },
  {
   "cell_type": "code",
   "execution_count": null,
   "metadata": {
    "hidden": true
   },
   "outputs": [],
   "source": [
    "from spear.jl import JL\n",
    "\n",
    "n_features = 16634\n",
    "n_hidden = 512\n",
    "feature_model = 'lr'\n",
    "'''\n",
    "'nn' is neural network. other alternative is 'lr'(logistic regression) which doesn't need n_hidden to be passed\n",
    "during initialisation.\n",
    "''' \n",
    "\n",
    "jl = JL(path_json = path_json, n_lfs = n_lfs, n_features = n_features, feature_model = feature_model)"
   ]
  },
  {
   "cell_type": "code",
   "execution_count": null,
   "metadata": {
    "hidden": true
   },
   "outputs": [],
   "source": [
    "loss_func_mask = [1,0,1,1,1,1,1] \n",
    "'''\n",
    "One can keep 0s in places where he don't want the specific loss function to be part\n",
    "the final loss function used in training. Refer documentation(spear.JL.core.JL) to understand\n",
    "the which index of loss_func_mask refers to what loss function.\n",
    "\n",
    "Note: the loss_func_mask above may not be the optimal mask for sms dataset. We have to try\n",
    "      some other masks too, to find the best one that gives good accuracies.\n",
    "'''\n",
    "batch_size = 32\n",
    "lr_fm = 0.0003\n",
    "lr_gm = 0.01\n",
    "use_accuracy_score = False\n",
    "\n",
    "jl = JL(path_json = path_json, n_lfs = n_lfs, n_features = n_features, feature_model = feature_model, \\\n",
    "        n_hidden = n_hidden)\n",
    "\n",
    "probs_fm, probs_gm = jl.fit_and_predict_proba(path_L = L_path_pkl, path_U = U_path_pkl, path_V = V_path_pkl, \\\n",
    "        path_T = T_path_pkl, loss_func_mask = loss_func_mask, batch_size = batch_size, lr_fm = lr_fm, lr_gm = \\\n",
    "    lr_gm, use_accuracy_score = use_accuracy_score, path_log = log_path_jl_1, return_gm = True, n_epochs = \\\n",
    "    100, start_len = 7,stop_len = 10, is_qt = True, is_qc = True, qt = 0.9, qc = 0.85, metric_avg = 'macro')\n",
    "\n",
    "labels = np.argmax(probs_fm, 1)\n",
    "print(\"probs_fm shape: \", probs_fm.shape)\n",
    "print(\"probs_gm shape: \", probs_gm.shape)"
   ]
  },
  {
   "cell_type": "code",
   "execution_count": null,
   "metadata": {
    "hidden": true
   },
   "outputs": [],
   "source": [
    "labels_fm_test = jl.predict_fm(x_test = X_feats_T, need_strings=False)\n",
    "labels_gm_test = jl.predict_gm(path_test = T_path_pkl, qc = 0.85, need_strings=False)\n",
    "\n",
    "print(\"labels_fm_test shape: \", labels_fm_test.shape)\n",
    "print(\"labels_gm_test shape: \", labels_gm_test.shape)\n",
    "\n",
    "#Y_T is true labels of test data, type is numpy array of shape (num_instances,)\n",
    "print(\"accuracy_score of gm: \", accuracy_score(Y_T, labels_gm_test), \"| fm: \", accuracy_score(Y_T, labels_fm_test))\n",
    "print(\"f1_score of gm: \", f1_score(Y_T, labels_gm_test, average = None), \"| fm: \", f1_score(Y_T, labels_fm_test, average = None))\n",
    "print(\"Macro f1_score: \", f1_score(Y_T, labels_fm_test, average = 'macro'))\n",
    "print(\"Precision score of gm: \", precision_score(Y_T, labels_gm_test, average = None), \"| fm: \", precision_score(Y_T, labels_fm_test, average = None))\n",
    "print(\"Recall score of gm: \", recall_score(Y_T, labels_gm_test, average = None), \"| fm: \", recall_score(Y_T, labels_fm_test, average = None))"
   ]
  },
  {
   "cell_type": "markdown",
   "metadata": {},
   "source": [
    "## CAGE with 4 LFs"
   ]
  },
  {
   "cell_type": "code",
   "execution_count": null,
   "metadata": {},
   "outputs": [],
   "source": [
    "log_path_cage = 'params/cage/yt_log_4_lfs.txt' #jl is an algorithm, can be found below\n",
    "params_path = 'params/cage/yt_params.pkl' #file path to store parameters of JL, used below"
   ]
  },
  {
   "cell_type": "code",
   "execution_count": null,
   "metadata": {},
   "outputs": [],
   "source": [
    "cage3 = Cage(path_json = path_json, n_lfs = n_lfs)"
   ]
  },
  {
   "cell_type": "code",
   "execution_count": null,
   "metadata": {},
   "outputs": [],
   "source": [
    "probs = cage3.fit_and_predict_proba(path_pkl = U_path_pkl, path_test = T_path_pkl, path_log = log_path_cage, \\\n",
    "                                   qt = 0.9, qc = 0.85, metric_avg = ['macro'], n_epochs = 100, lr = 0.01)\n",
    "labels = np.argmax(probs, 1)\n",
    "print(\"probs shape: \", probs.shape)\n",
    "print(\"labels shape: \",labels.shape)"
   ]
  },
  {
   "cell_type": "code",
   "execution_count": null,
   "metadata": {},
   "outputs": [],
   "source": [
    "labels_test = cage3.predict(path_test = T_path_pkl, qc = 0.85, need_strings = False)\n",
    "print(\"labels_test shape: \", labels_test.shape)\n",
    "\n",
    "\n",
    "#Y_T is true labels of test data, type is numpy array of shape (num_instances,)\n",
    "print(\"accuracy_score: \", accuracy_score(Y_T, labels_test))\n",
    "print(\"Binary f1_score: \", f1_score(Y_T, labels_test, average = 'binary'))\n",
    "print(\"Macro f1_score: \", f1_score(Y_T, labels_test, average = 'macro'))\n",
    "print(\"Micro f1_score: \", f1_score(Y_T, labels_test, average = 'micro'))\n",
    "print(\"Class Wise f1_score: \", f1_score(Y_T, labels_test, average = None))\n",
    "print(\"Class Wise Precision score: \", precision_score(Y_T, labels_test, average = None))\n",
    "print(\"Class Wise Recall score: \", recall_score(Y_T, labels_test, average = None))"
   ]
  },
  {
   "cell_type": "code",
   "execution_count": null,
   "metadata": {},
   "outputs": [],
   "source": []
  }
 ],
 "metadata": {
  "kernelspec": {
   "display_name": "Python 3 (ipykernel)",
   "language": "python",
   "name": "python3"
  },
  "language_info": {
   "codemirror_mode": {
    "name": "ipython",
    "version": 3
   },
   "file_extension": ".py",
   "mimetype": "text/x-python",
   "name": "python",
   "nbconvert_exporter": "python",
   "pygments_lexer": "ipython3",
   "version": "3.8.10"
  },
  "metadata": {
   "interpreter": {
    "hash": "31f2aee4e71d21fbe5cf8b01ff0e069b9275f58929596ceb00d14d90e3e16cd6"
   }
  }
 },
 "nbformat": 4,
 "nbformat_minor": 4
}
