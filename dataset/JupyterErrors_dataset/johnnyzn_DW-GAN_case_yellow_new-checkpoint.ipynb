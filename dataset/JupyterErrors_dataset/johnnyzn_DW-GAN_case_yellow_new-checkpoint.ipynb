{
 "cells": [
  {
   "cell_type": "code",
   "execution_count": 1,
   "metadata": {},
   "outputs": [
    {
     "name": "stderr",
     "output_type": "stream",
     "text": [
      "/home/ning_a/.local/lib/python3.6/site-packages/requests/__init__.py:91: RequestsDependencyWarning: urllib3 (1.25.7) or chardet (3.0.4) doesn't match a supported version!\n",
      "  RequestsDependencyWarning)\n"
     ]
    },
    {
     "data": {
      "text/plain": [
       "CNN(\n",
       "  (layer1): Sequential(\n",
       "    (0): Conv2d(1, 32, kernel_size=(3, 3), stride=(1, 1), padding=(1, 1))\n",
       "    (1): BatchNorm2d(32, eps=1e-05, momentum=0.1, affine=True, track_running_stats=True)\n",
       "    (2): Dropout(p=0.1)\n",
       "    (3): ReLU()\n",
       "    (4): MaxPool2d(kernel_size=2, stride=2, padding=0, dilation=1, ceil_mode=False)\n",
       "  )\n",
       "  (layer2): Sequential(\n",
       "    (0): Conv2d(32, 64, kernel_size=(3, 3), stride=(1, 1), padding=(1, 1))\n",
       "    (1): BatchNorm2d(64, eps=1e-05, momentum=0.1, affine=True, track_running_stats=True)\n",
       "    (2): Dropout(p=0.1)\n",
       "    (3): ReLU()\n",
       "    (4): MaxPool2d(kernel_size=2, stride=2, padding=0, dilation=1, ceil_mode=False)\n",
       "  )\n",
       "  (layer3): Sequential(\n",
       "    (0): Conv2d(64, 64, kernel_size=(3, 3), stride=(1, 1), padding=(1, 1))\n",
       "    (1): BatchNorm2d(64, eps=1e-05, momentum=0.1, affine=True, track_running_stats=True)\n",
       "    (2): Dropout(p=0.1)\n",
       "    (3): ReLU()\n",
       "    (4): MaxPool2d(kernel_size=2, stride=2, padding=0, dilation=1, ceil_mode=False)\n",
       "  )\n",
       "  (fc): Sequential(\n",
       "    (0): Linear(in_features=1344, out_features=1024, bias=True)\n",
       "    (1): Dropout(p=0.1)\n",
       "    (2): ReLU()\n",
       "  )\n",
       "  (rfc): Sequential(\n",
       "    (0): Linear(in_features=1024, out_features=256, bias=True)\n",
       "    (1): ReLU()\n",
       "  )\n",
       "  (rfc2): Sequential(\n",
       "    (0): Linear(in_features=256, out_features=36, bias=True)\n",
       "  )\n",
       ")"
      ]
     },
     "execution_count": 1,
     "metadata": {},
     "output_type": "execute_result"
    }
   ],
   "source": [
    "import sys, os\n",
    "sys.path.insert(1, '/home/ning_a/Desktop/CAPTCHA/base_solver/base_solver_char')\n",
    "import numpy as np\n",
    "import torch\n",
    "import torch.nn as nn\n",
    "from torch.autograd import Variable\n",
    "from torch.utils.data import DataLoader, Dataset\n",
    "from torchvision.utils import save_image\n",
    "import torchvision.transforms as transforms\n",
    "import captcha_setting\n",
    "import my_dataset\n",
    "from captcha_cnn_model import CNN, Generator\n",
    "import cv2 as cv\n",
    "from matplotlib import pyplot as plt\n",
    "from PIL import Image\n",
    "import copy\n",
    "import operator\n",
    "\n",
    "#for eachimg in filter_containor:\n",
    "class CNN(nn.Module):\n",
    "    def __init__(self):\n",
    "        super(CNN, self).__init__()\n",
    "        self.layer1 = nn.Sequential(\n",
    "            nn.Conv2d(1, 32, kernel_size=3, padding=1),\n",
    "            nn.BatchNorm2d(32),\n",
    "            nn.Dropout(0.1),  # drop 50% of the neuron\n",
    "            nn.ReLU(),\n",
    "            nn.MaxPool2d(2))\n",
    "        self.layer2 = nn.Sequential(\n",
    "            nn.Conv2d(32, 64, kernel_size=3, padding=1),\n",
    "            nn.BatchNorm2d(64),\n",
    "            nn.Dropout(0.1),  # drop 50% of the neuron\n",
    "            nn.ReLU(),\n",
    "            nn.MaxPool2d(2))\n",
    "        self.layer3 = nn.Sequential(\n",
    "            nn.Conv2d(64, 64, kernel_size=3, padding=1),\n",
    "            nn.BatchNorm2d(64),\n",
    "            nn.Dropout(0.1),  # drop 50% of the neuron\n",
    "            nn.ReLU(),\n",
    "            nn.MaxPool2d(2))\n",
    "        self.fc = nn.Sequential(\n",
    "            nn.Linear((captcha_setting.IMAGE_WIDTH//8)*(captcha_setting.IMAGE_HEIGHT//8)*64, 1024),\n",
    "            nn.Dropout(0.1),  # drop 50% of the neuron\n",
    "            nn.ReLU())\n",
    "        self.rfc = nn.Sequential(\n",
    "            nn.Linear(1024, 256),#captcha_setting.MAX_CAPTCHA*captcha_setting.ALL_CHAR_SET_LEN),\n",
    "            nn.ReLU()\n",
    "        )\n",
    "        self.rfc2 = nn.Sequential(\n",
    "            nn.Linear(256, 36),\n",
    "        )\n",
    "\n",
    "    def forward(self, x):\n",
    "        out = self.layer1(x)\n",
    "        out = self.layer2(out)\n",
    "        out = self.layer3(out)\n",
    "        out = out.view(out.size(0), -1)\n",
    "        out = self.fc(out)\n",
    "        #print(out.shape)\n",
    "        out = self.rfc(out)\n",
    "        out = self.rfc2(out)\n",
    "        #out = out.view(out.size(0), -1)\n",
    "        #print(out.shape)\n",
    "        return out\n",
    "device = torch.device(\"cuda:0\" if torch.cuda.is_available() else \"cpu\")\n",
    "cnn = CNN()\n",
    "cnn.eval()\n",
    "# cnn.load_state_dict(torch.load('ebay_char.pkl'))\n",
    "# cnn.to(device)"
   ]
  },
  {
   "cell_type": "code",
   "execution_count": 2,
   "metadata": {
    "scrolled": false
   },
   "outputs": [
    {
     "name": "stdout",
     "output_type": "stream",
     "text": [
      "load GAN net.\n",
      "('155513.png',)\n"
     ]
    },
    {
     "name": "stderr",
     "output_type": "stream",
     "text": [
      "/usr/local/lib/python3.6/dist-packages/ipykernel_launcher.py:60: UserWarning: To copy construct from a tensor, it is recommended to use sourceTensor.clone().detach() or sourceTensor.clone().detach().requires_grad_(True), rather than torch.tensor(sourceTensor).\n"
     ]
    },
    {
     "data": {
      "image/png": "[encoded data removed]",
      "text/plain": [
       "<Figure size 432x288 with 1 Axes>"
      ]
     },
     "metadata": {
      "needs_background": "light"
     },
     "output_type": "display_data"
    },
    {
     "data": {
      "image/png": "[encoded data removed]",
      "text/plain": [
       "<Figure size 432x288 with 1 Axes>"
      ]
     },
     "metadata": {
      "needs_background": "light"
     },
     "output_type": "display_data"
    }
   ],
   "source": [
    "label = ''\n",
    "def gaussian_blur(img):\n",
    "    image = np.array(img)\n",
    "    image_blur = cv.GaussianBlur(image,(5,5),0)\n",
    "    new_image = image_blur\n",
    "    return new_image\n",
    "class testdataset(Dataset):\n",
    "\n",
    "    def __init__(self, folder, transform=None):\n",
    "        self.train_image_file_paths = [os.path.join(folder, image_file) for image_file in os.listdir(folder)]\n",
    "        self.transform = transform\n",
    "\n",
    "    def __len__(self):\n",
    "        return len(self.train_image_file_paths)\n",
    "\n",
    "    def __getitem__(self, idx):\n",
    "        image_root = self.train_image_file_paths[idx]\n",
    "        image_name = image_root.split(os.path.sep)[-1]\n",
    "        image = Image.open(image_root)\n",
    "        image = image.resize((160,60), Image.ANTIALIAS)\n",
    "        label = image_name\n",
    "        #label = ohe.encode(image_name.split('_')[0]) # 为了方便，在生成图片的时候，图片文件的命名格式 \"4个数字或者数字_时间戳.PNG\", 4个字母或者即是图片的验证码的值，字母大写,同时对该值做 one-hot 处理\n",
    "        if self.transform is not None:\n",
    "            image = self.transform(image)\n",
    "            #label = self.transform(label)\n",
    "        #label = ohe.encode(image_name.split('_')[0])\n",
    "        return image, label\n",
    "transform_1 = transforms.Compose([\n",
    "    # transforms.ColorJitter(),\n",
    "    transforms.Grayscale(),\n",
    "    transforms.ToTensor(),\n",
    "    # transforms.Normalize(mean=[0.485, 0.456, 0.406], std=[0.229, 0.224, 0.225])\n",
    "])\n",
    "img_path = \"/home/ning_a/Desktop/CAPTCHA/dataset_darkweb_bias/ebay/test\"\n",
    "def get_loader():\n",
    "    dataset = testdataset(img_path, transform=transform_1)\n",
    "    return DataLoader(dataset, batch_size=1, shuffle=False)\n",
    "dataloader = get_loader()\n",
    "\n",
    "generator = Generator()\n",
    "generator.load_state_dict(torch.load('/home/ning_a/Desktop/CAPTCHA/base_solver/base_solver_char/7800.pkl'))\n",
    "generator.eval()\n",
    "print(\"load GAN net.\")\n",
    "# img = cv.imread(img_path+\"33.png\")\n",
    "\n",
    "\n",
    "label_target = \"\"\n",
    "for i, (imgs, label) in enumerate(dataloader):\n",
    "#     plt.imshow(imgs[0][0])\n",
    "#     plt.show()\n",
    "    if(i<32):\n",
    "        continue\n",
    "    print(label)\n",
    "    label_target = label\n",
    "#     imgs = Image.open('new_captcha.png')\n",
    "#     imgs = imgs.resize((160,60), Image.ANTIALIAS)\n",
    "#     plt.imshow(imgs)\n",
    "#     plt.show()\n",
    "#     imgs = transform(imgs)\n",
    "    imgs = torch.tensor(imgs).float()\n",
    "    new_img = generator(imgs)\n",
    "    new_img2 = new_img.data.cpu().numpy()\n",
    "    imgs2 = imgs.data.cpu().numpy()\n",
    "#     print(new_img2.shape)\n",
    "#     print(label)\n",
    "    imgs2 = imgs2[0][0]\n",
    "    imgs2 = imgs2*255\n",
    "    target_img = new_img2[0][0]\n",
    "#     plt.imshow(new_img2[0][0])\n",
    "#     plt.show()\n",
    "    target_img = target_img*255\n",
    "    #print()\n",
    "#    gray = cv.cvtColor(target_img,cv.COLOR_BGR2GRAY)\n",
    "#    ret, thresh = cv.threshold(target_img,0,255,cv.THRESH_BINARY_INV+cv.THRESH_OTSU)\n",
    "    cv.imwrite( \"temp.jpg\",imgs2)\n",
    "    cv.imwrite( \"temp_2.jpg\",target_img)\n",
    "    plt.imshow(imgs2)\n",
    "    plt.show()\n",
    "    plt.imshow(target_img)\n",
    "    plt.show()\n",
    "#     save_image(thresh, \"/home/ning_a/Desktop/CAPTCHA/Solving_CAPTCHA_GAN_CNN/seged_rescator_clean/%s.png\" % \n",
    "#                label[0].split('.')[0], nrow=1, normalize=True)\n",
    "    break\n",
    "#     if(i>0):\n",
    "#         break"
   ]
  },
  {
   "cell_type": "code",
   "execution_count": 3,
   "metadata": {
    "scrolled": false
   },
   "outputs": [
    {
     "data": {
      "image/png": "[encoded data removed]",
      "text/plain": [
       "<Figure size 432x288 with 1 Axes>"
      ]
     },
     "metadata": {
      "needs_background": "light"
     },
     "output_type": "display_data"
    },
    {
     "data": {
      "image/png": "[encoded data removed]",
      "text/plain": [
       "<Figure size 432x288 with 1 Axes>"
      ]
     },
     "metadata": {
      "needs_background": "light"
     },
     "output_type": "display_data"
    },
    {
     "data": {
      "image/png": "[encoded data removed]",
      "text/plain": [
       "<Figure size 432x288 with 1 Axes>"
      ]
     },
     "metadata": {
      "needs_background": "light"
     },
     "output_type": "display_data"
    }
   ],
   "source": [
    "# img = cv.imread(\"8.png\")\n",
    "# img = cv.imread('new_captcha.png')\n",
    "# img = Image.open('new_captcha.png')\n",
    "img = cv.imread('temp.jpg')\n",
    "img_t = cv.imread('temp_2.jpg')\n",
    "# img = 255-img\n",
    "plt.imshow(img)\n",
    "plt.show()\n",
    "#print(target_img)\n",
    "threshold = 5  \n",
    "# img = img.point(lambda p: p > threshold and 255)\n",
    "# img = np.array(img)\n",
    "n_img = np.zeros((img.shape[0],img.shape[1]))\n",
    "img_aft = cv.normalize(img, n_img, 0,255,cv.NORM_MINMAX)\n",
    "plt.imshow(img_aft)\n",
    "plt.show()\n",
    "gray = cv.cvtColor(img_aft,cv.COLOR_BGR2GRAY)\n",
    "# gray = g\n",
    "ret, thresh = cv.threshold(gray,0,255,cv.THRESH_BINARY_INV+cv.THRESH_OTSU)\n",
    "# ret, thresh_reverse = cv.threshold(img_aft,0,255,cv.THRESH_OTSU)\n",
    "# thresh = 255-thresh\n",
    "plt.imshow(thresh)\n",
    "plt.show()"
   ]
  },
  {
   "cell_type": "code",
   "execution_count": 4,
   "metadata": {},
   "outputs": [],
   "source": [
    "# print(type(target_img))\n",
    "\n",
    "\n",
    "def calculate_corner(thresh, nrootdir=\"cut_image/\"):\n",
    "    show_img = cv.imread('temp.jpg')\n",
    "    im2,contours,hierarchy = cv.findContours(thresh,cv.RETR_EXTERNAL,cv.CHAIN_APPROX_SIMPLE)\n",
    "#     print(contours[0])\n",
    "    new_contours = []\n",
    "    cur_contours = []\n",
    "    filter_containor = []\n",
    "    for i in contours:\n",
    "        #print(i)\n",
    "        x, y, w, h = cv.boundingRect(i)   \n",
    "        cur_contours.append([x, y, w, h])\n",
    "    contours = sorted(cur_contours, key=operator.itemgetter(0))\n",
    "    for i in range(0,len(contours)):  \n",
    "        x = contours[i][0]\n",
    "        y = contours[i][1]\n",
    "        w = contours[i][2] \n",
    "        h = contours[i][3]\n",
    "        newimage=thresh[y:y+h,x:x+w] # 先用y确定高，再用x确定宽\n",
    "        nrootdir=(\"cut_image/\")\n",
    "#         if (h<8) or (h*w<80) or (h*w >4000):\n",
    "#             continue\n",
    "#         print(contours[i])\n",
    "#         cv.rectangle(show_img, (x,y), (x+w,y+h), (153,153,0), 1)\n",
    "        new_contours.append(contours[i])\n",
    "    t0 = [i[0] for i in new_contours]\n",
    "    t1 = [i[1] for i in new_contours]\n",
    "    t2 = [i[2] for i in new_contours]\n",
    "    t3 = [i[3] for i in new_contours]\n",
    "    x_max = max([new_contours[i][0] + new_contours[i][2] for i in range(len(new_contours))] )+5\n",
    "    x_min = min(t0)\n",
    "    y_max = max([new_contours[i][1] + new_contours[i][3] for i in range(len(new_contours))] )\n",
    "    y_min = min(t1)\n",
    "#     10:50,25:135\n",
    "    x_max = 159 #135\n",
    "    x_min = 0 #25\n",
    "    y_max = 59#50\n",
    "    y_min = 0#10\n",
    "    width = (x_max-x_min)//6\n",
    "    for i in range(0,6):\n",
    "#         cv.rectangle(show_img, (x_min+i*width,y_min), (x_min+(i+1)*width,y_max), (153,153,0), 1)\n",
    "        newimage=thresh[y_min:y_max,x_min+i*width:x_min+(i+1)*width]\n",
    "        top, bottom, left, right = [1]*4\n",
    "        newimage = cv.copyMakeBorder(newimage, top, bottom, left, right, cv.BORDER_CONSTANT)\n",
    "        newimage = cv.resize(newimage,(30, 60), interpolation = cv.INTER_CUBIC)\n",
    "        cv.imwrite( \"temp.jpg\",newimage)\n",
    "        filter_containor.append(Image.open(\"temp.jpg\"))\n",
    "#     return x_max,x_min,y_max,y_min\n",
    "#     plt.imshow(show_img)\n",
    "#     plt.show()\n",
    "    return filter_containor\n",
    "# filter_containor = calculate_corner(thresh)\n",
    "# for each_img in filter_containor:\n",
    "#     print(each_img)\n",
    "#     plt.imshow(each_img)\n",
    "#     plt.show()"
   ]
  },
  {
   "cell_type": "code",
   "execution_count": 5,
   "metadata": {
    "scrolled": false
   },
   "outputs": [
    {
     "ename": "NameError",
     "evalue": "name 'filter_containor' is not defined",
     "output_type": "error",
     "traceback": [
      "\u001b[0;31m---------------------------------------------------------------------------\u001b[0m",
      "\u001b[0;31mNameError\u001b[0m                                 Traceback (most recent call last)",
      "\u001b[0;32m<ipython-input-5-e6b30019d67c>\u001b[0m in \u001b[0;36m<module>\u001b[0;34m\u001b[0m\n\u001b[1;32m      6\u001b[0m ])\n\u001b[1;32m      7\u001b[0m \u001b[0mlabel_predicted\u001b[0m \u001b[0;34m=\u001b[0m \u001b[0;34m\"\"\u001b[0m\u001b[0;34m\u001b[0m\u001b[0;34m\u001b[0m\u001b[0m\n\u001b[0;32m----> 8\u001b[0;31m \u001b[0;32mfor\u001b[0m \u001b[0meachimg\u001b[0m \u001b[0;32min\u001b[0m \u001b[0mfilter_containor\u001b[0m\u001b[0;34m:\u001b[0m\u001b[0;34m\u001b[0m\u001b[0;34m\u001b[0m\u001b[0m\n\u001b[0m\u001b[1;32m      9\u001b[0m     \u001b[0;31m#print(eachimg)\u001b[0m\u001b[0;34m\u001b[0m\u001b[0;34m\u001b[0m\u001b[0;34m\u001b[0m\u001b[0m\n\u001b[1;32m     10\u001b[0m     \u001b[0mimage\u001b[0m \u001b[0;34m=\u001b[0m \u001b[0mtransform\u001b[0m\u001b[0;34m(\u001b[0m\u001b[0meachimg\u001b[0m\u001b[0;34m)\u001b[0m\u001b[0;34m.\u001b[0m\u001b[0munsqueeze\u001b[0m\u001b[0;34m(\u001b[0m\u001b[0;36m0\u001b[0m\u001b[0;34m)\u001b[0m\u001b[0;34m\u001b[0m\u001b[0;34m\u001b[0m\u001b[0m\n",
      "\u001b[0;31mNameError\u001b[0m: name 'filter_containor' is not defined"
     ]
    }
   ],
   "source": [
    "transform = transforms.Compose([\n",
    "    # transforms.ColorJitter(),\n",
    "    transforms.Grayscale(),\n",
    "#     transforms.Lambda(gaussian_blur),\n",
    "    transforms.ToTensor()\n",
    "])\n",
    "label_predicted = \"\"\n",
    "for eachimg in filter_containor:\n",
    "    #print(eachimg)\n",
    "    image = transform(eachimg).unsqueeze(0)\n",
    "    plt.imshow(eachimg)\n",
    "    plt.show()\n",
    "    print(image.shape)\n",
    "    \n",
    "    image = torch.tensor(image, device=device).float()\n",
    "    image = Variable(image).to(device)\n",
    "    #print(image.shape)\n",
    "    #image, labels =  image.to(device), labels.to(device)\n",
    "    # vimage = generator(image)\n",
    "    predict_label = cnn(image)\n",
    "    #labels = labels.cpu()\n",
    "    predict_label = predict_label.cpu()\n",
    "    _, predicted = torch.max(predict_label, 1)\n",
    "    print(captcha_setting.ALL_CHAR_SET[predicted])\n",
    "    label_predicted += captcha_setting.ALL_CHAR_SET[predicted]"
   ]
  },
  {
   "cell_type": "code",
   "execution_count": null,
   "metadata": {},
   "outputs": [],
   "source": [
    "label_predicted"
   ]
  },
  {
   "cell_type": "code",
   "execution_count": null,
   "metadata": {},
   "outputs": [],
   "source": [
    "img = cv.imread('/home/ning_a/Desktop/CAPTCHA/Solving_CAPTCHA_GAN_CNN/seged_rescator/245.png')\n",
    "#ret, thresh = cv.threshold(test_img,0,255,cv.THRESH_BINARY_INV+cv.THRESH_OTSU)\n",
    "#ret, thresh = cv.threshold(gray,0,255,cv.THRESH_OTSU)\n",
    "plt.imshow(img)\n",
    "plt.show()"
   ]
  },
  {
   "cell_type": "markdown",
   "metadata": {},
   "source": [
    "# dataset making for seg"
   ]
  },
  {
   "cell_type": "code",
   "execution_count": 43,
   "metadata": {
    "scrolled": true
   },
   "outputs": [],
   "source": [
    "file_path = \"/home/ning_a/Desktop/CAPTCHA/dark_web_captcha/yellow_data/train/\"\n",
    "save_path = \"/home/ning_a/Desktop/CAPTCHA/dark_web_captcha/yellow_data/train_char/\"\n",
    "transform = transforms.Compose([\n",
    "    # transforms.ColorJitter(),\n",
    "    transforms.Grayscale(),\n",
    "#     transforms.Lambda(gaussian_blur),\n",
    "    transforms.ToTensor()\n",
    "])\n",
    "llist = {'0':0,'1':0,'2':0,'3':0,'4':0,'5':0,'6':0,'7':0,'8':0,'9':0,\n",
    "        'A':0,'B':0,'C':0,'D':0,'E':0,'F':0,'G':0,'H':0,'I':0,'J':0,'K':0,'L':0,'M':0,\n",
    "         'N':0,'O':0,'P':0,'Q':0,'R':0,'S':0,'T':0,'U':0,'V':0,'W':0,'X':0,'Y':0,'Z':0}\n",
    "test_img_list = os.listdir(file_path)\n",
    "for img_name in test_img_list:\n",
    "    if('_' in img_name):\n",
    "        label = img_name.split('_')[0].upper()\n",
    "    else:\n",
    "        label = img_name.split('.')[0].upper()\n",
    "#     #using GAN\n",
    "#     image = Image.open(file_path+img_name)\n",
    "#     image = image.resize((160,60), Image.ANTIALIAS)\n",
    "#     image = transform(image)\n",
    "    \n",
    "#     imgs = torch.tensor(image).float()\n",
    "#     new_img = generator(imgs)\n",
    "#     new_img2 = new_img.data.cpu().numpy()\n",
    "#     imgs2 = imgs.data.cpu().numpy()\n",
    "#     imgs2 = imgs2[0][0]\n",
    "#     imgs2 = imgs2*255\n",
    "#     target_img = new_img2[0][0]\n",
    "#     target_img = target_img*255\n",
    "#     im = Image.fromarray(target_img)\n",
    "#     im = im.convert('RGB')\n",
    "#     im.save('temp.png')\n",
    "#     img = cv.imread('temp.png')\n",
    "#     # end using GAN\n",
    "    \n",
    "    img = cv.imread(file_path+img_name)\n",
    "    img = cv.resize(img,(160, 60), interpolation = cv.INTER_CUBIC)\n",
    "    img_aft = cv.normalize(img, n_img, 0,255,cv.NORM_MINMAX)\n",
    "    gray = cv.cvtColor(img_aft,cv.COLOR_BGR2GRAY)\n",
    "    ret, thresh = cv.threshold(gray,0,255,cv.THRESH_BINARY_INV+cv.THRESH_OTSU)\n",
    "    filter_containor = calculate_corner(thresh)\n",
    "    for i in range(0,6):\n",
    "        try:\n",
    "            if(not os.path.exists(save_path+label[i])):\n",
    "                os.mkdir(save_path+label[i])\n",
    "            filter_containor[i].save( save_path+label[i]+'/'+str(llist[label[i]])+'.png')\n",
    "            llist[label[i]] += 1\n",
    "        except:\n",
    "            print(label, i)\n",
    "            break"
   ]
  },
  {
   "cell_type": "markdown",
   "metadata": {},
   "source": [
    "# Go Through All Test Data"
   ]
  },
  {
   "cell_type": "code",
   "execution_count": 43,
   "metadata": {
    "scrolled": false
   },
   "outputs": [
    {
     "name": "stderr",
     "output_type": "stream",
     "text": [
      "/usr/local/lib/python3.6/dist-packages/ipykernel_launcher.py:57: UserWarning: To copy construct from a tensor, it is recommended to use sourceTensor.clone().detach() or sourceTensor.clone().detach().requires_grad_(True), rather than torch.tensor(sourceTensor).\n"
     ]
    },
    {
     "name": "stdout",
     "output_type": "stream",
     "text": [
      "373\n",
      "398\n",
      "0.9371859296482412\n"
     ]
    }
   ],
   "source": [
    "import time\n",
    "\n",
    "file_path = \"/home/ning_a/Desktop/CAPTCHA/dark_web_captcha/yellow_data/train/\"\n",
    "save_path = \"/home/ning_a/Desktop/CAPTCHA/dark_web_captcha/yellow_data/test_char/\"\n",
    "transform = transforms.Compose([\n",
    "    # transforms.ColorJitter(),\n",
    "    transforms.Grayscale(),\n",
    "#     transforms.Lambda(gaussian_blur),\n",
    "    transforms.ToTensor()\n",
    "])\n",
    "llist = {'0':0,'1':0,'2':0,'3':0,'4':0,'5':0,'6':0,'7':0,'8':0,'9':0,\n",
    "        'A':0,'B':0,'C':0,'D':0,'E':0,'F':0,'G':0,'H':0,'I':0,'J':0,'K':0,'L':0,'M':0,\n",
    "         'N':0,'O':0,'P':0,'Q':0,'R':0,'S':0,'T':0,'U':0,'V':0,'W':0,'X':0,'Y':0,'Z':0}\n",
    "test_img_list = os.listdir(file_path)\n",
    "total = 0\n",
    "correct = 0\n",
    "cnn = CNN()\n",
    "cnn.eval()\n",
    "cnn.load_state_dict(torch.load('./model_lake/yellow_char_4.pkl'))\n",
    "cnn.to(device)\n",
    "for img_name in test_img_list:\n",
    "    start_time = time.time()\n",
    "    total += 1\n",
    "    if('_' in img_name):\n",
    "        label = img_name.split('_')[0].upper()\n",
    "    else:\n",
    "        label = img_name.split('.')[0].upper()\n",
    "        \n",
    "#     #using GAN\n",
    "#     image = Image.open(file_path+img_name)\n",
    "#     image = image.resize((160,60), Image.ANTIALIAS)\n",
    "#     image = transform(image)\n",
    "    \n",
    "#     imgs = torch.tensor(image).float()\n",
    "#     new_img = generator(imgs)\n",
    "#     new_img2 = new_img.data.cpu().numpy()\n",
    "#     imgs2 = imgs.data.cpu().numpy()\n",
    "#     imgs2 = imgs2[0][0]\n",
    "#     imgs2 = imgs2*255\n",
    "#     target_img = new_img2[0][0]\n",
    "#     target_img = target_img*255\n",
    "#     im = Image.fromarray(target_img)\n",
    "#     im = im.convert('RGB')\n",
    "#     im.save('temp.png')\n",
    "#     img = cv.imread('temp.png')\n",
    "#     # end using GAN        \n",
    "        \n",
    "        \n",
    "        \n",
    "        \n",
    "    img = cv.imread(file_path+img_name)\n",
    "    img = cv.resize(img,(160, 60), interpolation = cv.INTER_CUBIC)\n",
    "    img_aft = cv.normalize(img, n_img, 0,255,cv.NORM_MINMAX)\n",
    "    gray = cv.cvtColor(img_aft,cv.COLOR_BGR2GRAY)\n",
    "    ret, thresh = cv.threshold(gray,0,255,cv.THRESH_BINARY_INV+cv.THRESH_OTSU)\n",
    "    filter_containor = calculate_corner(thresh)\n",
    "    p_lable = ''\n",
    "    for i in range(0,6):\n",
    "        image = transform(filter_containor[i]).unsqueeze(0)\n",
    "        image = torch.tensor(image, device=device).float()\n",
    "        image = Variable(image).to(device)\n",
    "        predict_label = cnn(image)\n",
    "        predict_label = predict_label.cpu()\n",
    "        _, predicted = torch.max(predict_label, 1)\n",
    "#         print(captcha_setting.ALL_CHAR_SET[predicted])\n",
    "        p_lable += captcha_setting.ALL_CHAR_SET[predicted]\n",
    "#         label_predicted += captcha_setting.ALL_CHAR_SET[predicted]\n",
    "#     print(p_lable,label)\n",
    "    if(p_lable.upper() == label.upper()):\n",
    "        correct += 1\n",
    "    print((time.time() - start_time))\n",
    "    break\n",
    "print(correct)\n",
    "print(total)\n",
    "print(float(correct/total))"
   ]
  },
  {
   "cell_type": "code",
   "execution_count": null,
   "metadata": {},
   "outputs": [],
   "source": []
  }
 ],
 "metadata": {
  "kernelspec": {
   "display_name": "Python 3",
   "language": "python",
   "name": "python3"
  },
  "language_info": {
   "codemirror_mode": {
    "name": "ipython",
    "version": 3
   },
   "file_extension": ".py",
   "mimetype": "text/x-python",
   "name": "python",
   "nbconvert_exporter": "python",
   "pygments_lexer": "ipython3",
   "version": "3.6.9"
  }
 },
 "nbformat": 4,
 "nbformat_minor": 2
}
