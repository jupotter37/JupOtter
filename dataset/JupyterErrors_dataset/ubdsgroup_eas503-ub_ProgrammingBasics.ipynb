{
 "cells": [
  {
   "cell_type": "markdown",
   "metadata": {
    "slideshow": {
     "slide_type": "slide"
    }
   },
   "source": [
    "# Programming and Database Fundamentals for Data Scientists - EAS503"
   ]
  },
  {
   "cell_type": "markdown",
   "metadata": {
    "slideshow": {
     "slide_type": "slide"
    }
   },
   "source": [
    "## Programming Basics in Python\n",
    "### Some pythonisms"
   ]
  },
  {
   "cell_type": "code",
   "execution_count": null,
   "metadata": {},
   "outputs": [],
   "source": [
    "import this"
   ]
  },
  {
   "cell_type": "markdown",
   "metadata": {},
   "source": [
    "## What does Python give you from get go\n",
    "\n",
    "### The Python Standard Library\n",
    "\n",
    "> https://docs.python.org/3/library/\n",
    "\n",
    "- **Built-in Functions**\n",
    "    https://docs.python.org/3/library/functions.html\n",
    "- **Keywords**\n",
    "```python\n",
    "import keyword\n",
    "print(keyword.kwlist)\n",
    "```\n",
    "- **Pre-defined Data Types**\n",
    "https://docs.python.org/3/library/stdtypes.html\n",
    "\n",
    "Python supports several operations (see built-in functions) on the data types\n",
    "- **Base Modules**\n",
    "`os`, `sys`, `math`, and many more ..."
   ]
  },
  {
   "cell_type": "code",
   "execution_count": null,
   "metadata": {},
   "outputs": [],
   "source": [
    "# keywords\n",
    "import keyword\n",
    "print(keyword.kwlist)"
   ]
  },
  {
   "cell_type": "code",
   "execution_count": null,
   "metadata": {},
   "outputs": [],
   "source": [
    "dir()"
   ]
  },
  {
   "cell_type": "code",
   "execution_count": null,
   "metadata": {},
   "outputs": [],
   "source": [
    "In"
   ]
  },
  {
   "cell_type": "code",
   "execution_count": null,
   "metadata": {},
   "outputs": [],
   "source": [
    "type(dir)"
   ]
  },
  {
   "cell_type": "markdown",
   "metadata": {},
   "source": [
    "### variables\n",
    "- Variables hold values. Use `dir()` to list current set of variables.\n",
    "- Each variable has a `type` that is assigned dynamically and can be changed. \n",
    "- Each variable holds a value\n",
    "- Each variable is essentially a pointer pointing to a memory location\n",
    "\n",
    "<img width=\"200\" src='https://www.python-course.eu/images/python_variable_1.png'/>\n",
    "\n",
    "As the code is executed, the program also maintains the **data** associated with the program. For the converter program, the data consists of the `variable`, f. A `variable` is a name assigned to a data element that is stored in the memory. At the same time, we can also assign names to the functions that we create, e.g., `converter`. \n",
    "\n",
    "All of these assigned names are also called `identifiers`.\n",
    "\n",
    "There are some rules about the naming convention in Python. For instance, every identifier must begin with a letter or underscore character (`_`). This can be followed by any sequence of letters, digits, or characters. No spaces are allowed.\n",
    "\n",
    "Python reserves some identifiers for predefined functions or other utilities and may not  be used. We call these **reserved words** or **keywords**."
   ]
  },
  {
   "cell_type": "code",
   "execution_count": null,
   "metadata": {},
   "outputs": [],
   "source": [
    "x = 4\n",
    "hex(id(x))"
   ]
  },
  {
   "cell_type": "code",
   "execution_count": null,
   "metadata": {},
   "outputs": [],
   "source": [
    "# memory location\n",
    "x = 4\n",
    "print(hex(id(x)))\n",
    "x = x + 5\n",
    "print(hex(id(x)))"
   ]
  },
  {
   "cell_type": "code",
   "execution_count": null,
   "metadata": {},
   "outputs": [],
   "source": [
    "print(x)"
   ]
  },
  {
   "cell_type": "markdown",
   "metadata": {},
   "source": [
    "### numeric data types [`int`, `float`, `complex`]\n",
    "\n",
    "Support several numeric operations. Many built-in functions can be applied to them too."
   ]
  },
  {
   "cell_type": "markdown",
   "metadata": {},
   "source": [
    "### data types\n",
    "Variables are used to store different types of data, which are then manipulated within the program. Many data types are built-in, including:\n",
    "1. Boolean\n",
    "2. Numeric (Integer, Long, Float, Complex)\n",
    "3. Sequences (Lists, Strings, Tuples, Bytes)\n",
    "4. Sets\n",
    "5. Mappings (Dictionary)\n",
    "\n",
    "These will be introduced in the coming sections. \n",
    "Standard operations allowed for any data type\n",
    "\n",
    "- type()\n",
    "- check for truth value (`bool()` or within a `if` statement)\n",
    "- logical operations\n",
    "- comparisons\n",
    "\n",
    "\n"
   ]
  },
  {
   "cell_type": "code",
   "execution_count": null,
   "metadata": {},
   "outputs": [],
   "source": [
    "x = 0.0\n",
    "b_x = bool(x)\n",
    "print(b_x)"
   ]
  },
  {
   "cell_type": "code",
   "execution_count": null,
   "metadata": {},
   "outputs": [],
   "source": [
    "x == 5"
   ]
  },
  {
   "cell_type": "markdown",
   "metadata": {},
   "source": [
    "### base modules\n",
    "\n",
    "- A `module` is a single file containing several related function definitions and global variables.\n",
    "- A `package` is a collection of related modules packaged and distributed together.\n",
    "\n",
    "Structure of `python` packages.\n",
    "<img src='https://files.realpython.com/media/pkg4.a830d6e144bf.png'/>\n",
    "\n",
    "#### The `math` module"
   ]
  },
  {
   "cell_type": "code",
   "execution_count": null,
   "metadata": {},
   "outputs": [],
   "source": [
    "from math import floor,factorial\n"
   ]
  },
  {
   "cell_type": "code",
   "execution_count": 1,
   "metadata": {},
   "outputs": [],
   "source": [
    "from x import *\n"
   ]
  },
  {
   "cell_type": "code",
   "execution_count": 3,
   "metadata": {},
   "outputs": [],
   "source": [
    "from y import *"
   ]
  },
  {
   "cell_type": "code",
   "execution_count": 4,
   "metadata": {},
   "outputs": [
    {
     "data": {
      "text/plain": [
       "['In',\n",
       " 'Out',\n",
       " '_',\n",
       " '_2',\n",
       " '__',\n",
       " '___',\n",
       " '__builtin__',\n",
       " '__builtins__',\n",
       " '__doc__',\n",
       " '__loader__',\n",
       " '__name__',\n",
       " '__package__',\n",
       " '__spec__',\n",
       " '_dh',\n",
       " '_i',\n",
       " '_i1',\n",
       " '_i2',\n",
       " '_i3',\n",
       " '_i4',\n",
       " '_ih',\n",
       " '_ii',\n",
       " '_iii',\n",
       " '_oh',\n",
       " 'exit',\n",
       " 'get_ipython',\n",
       " 'quit',\n",
       " 'x',\n",
       " 'x_func1',\n",
       " 'y',\n",
       " 'y_func1']"
      ]
     },
     "execution_count": 4,
     "metadata": {},
     "output_type": "execute_result"
    }
   ],
   "source": [
    "dir()"
   ]
  },
  {
   "cell_type": "code",
   "execution_count": 7,
   "metadata": {},
   "outputs": [
    {
     "name": "stdout",
     "output_type": "stream",
     "text": [
      "i am in x\n"
     ]
    }
   ],
   "source": [
    "x.y.x.x_func1()"
   ]
  },
  {
   "cell_type": "code",
   "execution_count": null,
   "metadata": {},
   "outputs": [],
   "source": [
    "x = 4\n",
    "factorial(5)"
   ]
  },
  {
   "cell_type": "markdown",
   "metadata": {},
   "source": [
    "Before we jump into the programming world, we first need to understand the process of writing a program.\n",
    "\n",
    "It all begins with a problem. For instance,\n",
    "**write a program to convert temperature from Celsius to Fahrenheit**\n",
    "\n",
    "* First understand the problem. \n",
    "* Next, create a _pseudocode_ in your mind (or on paper).\n",
    "* Then check what do you need from the language to "
   ]
  },
  {
   "cell_type": "code",
   "execution_count": 8,
   "metadata": {
    "slideshow": {
     "slide_type": "slide"
    }
   },
   "outputs": [],
   "source": [
    "# This is a user-defined function. \n",
    "# Functions are useful as pieces of reusable code that can be used by you or any other user.\n",
    "def converter():\n",
    "    '''\n",
    "    This function converts celsius to fahrenheit\n",
    "    '''\n",
    "    celsius = float(input(\"What is the Celsius temperature? \"))\n",
    "    f = celsius*(9/5) + 32\n",
    "    print(\"Temperature in Fahrenheit is %f\"%f)\n",
    "    return f"
   ]
  },
  {
   "cell_type": "code",
   "execution_count": null,
   "metadata": {
    "slideshow": {
     "slide_type": "subslide"
    }
   },
   "outputs": [],
   "source": [
    "help(converter)"
   ]
  },
  {
   "cell_type": "markdown",
   "metadata": {
    "slideshow": {
     "slide_type": "notes"
    }
   },
   "source": [
    "### Getting help in Python\n",
    "We will be utilizing many _built-in_ functions in Python. If you need to get help for them, you can use the `help` function."
   ]
  },
  {
   "cell_type": "code",
   "execution_count": null,
   "metadata": {
    "scrolled": false
   },
   "outputs": [],
   "source": [
    "help(float)"
   ]
  },
  {
   "cell_type": "markdown",
   "metadata": {},
   "source": [
    "### Adding help to user defined functions"
   ]
  },
  {
   "cell_type": "code",
   "execution_count": 16,
   "metadata": {},
   "outputs": [],
   "source": [
    "# This is a user-defined function. \n",
    "# Functions are useful as pieces of reusable code that can be used by you or any other user.\n",
    "def converter():\n",
    "    '''\n",
    "    This function reads number off the standard input and converts it into the corresponding Fahreheit temperature.\n",
    "    \n",
    "    Function has not input parameters or output value.\n",
    "    \n",
    "    For more help, see - https://www.almanac.com/content/temperature-conversion\n",
    "    '''\n",
    "    celsius = float(input(\"What is the Celsius temperature? \"))\n",
    "    f = celsius*(9/5) + 32\n",
    "    # display\n",
    "    print(\"Temperature in Fahrenheit is %d\"%f)\n",
    "    return f"
   ]
  },
  {
   "cell_type": "code",
   "execution_count": 17,
   "metadata": {},
   "outputs": [
    {
     "name": "stdout",
     "output_type": "stream",
     "text": [
      "What is the Celsius temperature? 32\n",
      "Temperature in Fahrenheit is 89\n"
     ]
    }
   ],
   "source": [
    "f = converter()"
   ]
  },
  {
   "cell_type": "code",
   "execution_count": 76,
   "metadata": {},
   "outputs": [],
   "source": [
    "f = 467868768768768768"
   ]
  },
  {
   "cell_type": "code",
   "execution_count": 63,
   "metadata": {},
   "outputs": [],
   "source": [
    "import sys"
   ]
  },
  {
   "cell_type": "code",
   "execution_count": 77,
   "metadata": {},
   "outputs": [
    {
     "data": {
      "text/plain": [
       "32"
      ]
     },
     "execution_count": 77,
     "metadata": {},
     "output_type": "execute_result"
    }
   ],
   "source": [
    "sys.getsizeof(f)"
   ]
  },
  {
   "cell_type": "code",
   "execution_count": 19,
   "metadata": {},
   "outputs": [
    {
     "name": "stdout",
     "output_type": "stream",
     "text": [
      "Help on function converter in module __main__:\n",
      "\n",
      "converter()\n",
      "    This function reads number off the standard input and converts it into the corresponding Fahreheit temperature.\n",
      "    \n",
      "    Function has not input parameters or output value.\n",
      "    \n",
      "    For more help, see - https://www.almanac.com/content/temperature-conversion\n",
      "\n"
     ]
    }
   ],
   "source": [
    "help(converter)"
   ]
  },
  {
   "cell_type": "markdown",
   "metadata": {},
   "source": [
    "### Analyzing Simple Programs in Python\n",
    "We have already written a temperature converter program. Let us see some cool things we can do in Python.\n",
    "\n",
    "#### Anatomy of a Python (or any) program\n",
    "\n",
    "Here is what happens when we run the temperature converter program.\n",
    "1. The Python compiler loads the program and converts it into byte code (.pyc).\n",
    "2. The byte code is loaded into the memory of the computer\n",
    "3. The byte code is executed according to the logical flow of the program"
   ]
  },
  {
   "cell_type": "code",
   "execution_count": 20,
   "metadata": {},
   "outputs": [
    {
     "name": "stdout",
     "output_type": "stream",
     "text": [
      " 11           0 LOAD_GLOBAL              0 (float)\n",
      "              2 LOAD_GLOBAL              1 (input)\n",
      "              4 LOAD_CONST               1 ('What is the Celsius temperature? ')\n",
      "              6 CALL_FUNCTION            1\n",
      "              8 CALL_FUNCTION            1\n",
      "             10 STORE_FAST               0 (celsius)\n",
      "\n",
      " 12          12 LOAD_FAST                0 (celsius)\n",
      "             14 LOAD_CONST               6 (1.8)\n",
      "             16 BINARY_MULTIPLY\n",
      "             18 LOAD_CONST               4 (32)\n",
      "             20 BINARY_ADD\n",
      "             22 STORE_FAST               1 (f)\n",
      "\n",
      " 14          24 LOAD_GLOBAL              2 (print)\n",
      "             26 LOAD_CONST               5 ('Temperature in Fahrenheit is %d')\n",
      "             28 LOAD_FAST                1 (f)\n",
      "             30 BINARY_MODULO\n",
      "             32 CALL_FUNCTION            1\n",
      "             34 POP_TOP\n",
      "\n",
      " 15          36 LOAD_FAST                1 (f)\n",
      "             38 RETURN_VALUE\n"
     ]
    }
   ],
   "source": [
    "import dis\n",
    "dis.dis(converter)"
   ]
  },
  {
   "cell_type": "markdown",
   "metadata": {},
   "source": [
    "### Expressions\n",
    "Expressions are atomic part of a program that manipulates some data. We can _literal_ expressions which consist of a value.\n",
    "\n",
    "When an expression is executed in a Python environment, it is also known as _evaluation_."
   ]
  },
  {
   "cell_type": "code",
   "execution_count": 22,
   "metadata": {},
   "outputs": [
    {
     "data": {
      "text/plain": [
       "4"
      ]
     },
     "execution_count": 22,
     "metadata": {},
     "output_type": "execute_result"
    }
   ],
   "source": [
    "4 # literal"
   ]
  },
  {
   "cell_type": "code",
   "execution_count": 23,
   "metadata": {},
   "outputs": [
    {
     "data": {
      "text/plain": [
       "'Programming'"
      ]
     },
     "execution_count": 23,
     "metadata": {},
     "output_type": "execute_result"
    }
   ],
   "source": [
    "'Programming'"
   ]
  },
  {
   "cell_type": "code",
   "execution_count": 24,
   "metadata": {},
   "outputs": [
    {
     "name": "stdout",
     "output_type": "stream",
     "text": [
      "What is the Celsius temperature? 76\n",
      "Temperature in Fahrenheit is 168\n"
     ]
    },
    {
     "data": {
      "text/plain": [
       "168.8"
      ]
     },
     "execution_count": 24,
     "metadata": {},
     "output_type": "execute_result"
    }
   ],
   "source": [
    "converter()"
   ]
  },
  {
   "cell_type": "code",
   "execution_count": 25,
   "metadata": {},
   "outputs": [
    {
     "ename": "NameError",
     "evalue": "name 'Converter' is not defined",
     "output_type": "error",
     "traceback": [
      "\u001b[0;31m---------------------------------------------------------------------------\u001b[0m",
      "\u001b[0;31mNameError\u001b[0m                                 Traceback (most recent call last)",
      "\u001b[0;32m<ipython-input-25-fafea7cda1e8>\u001b[0m in \u001b[0;36m<module>\u001b[0;34m\u001b[0m\n\u001b[0;32m----> 1\u001b[0;31m \u001b[0mConverter\u001b[0m\u001b[0;34m(\u001b[0m\u001b[0;34m)\u001b[0m\u001b[0;34m\u001b[0m\u001b[0;34m\u001b[0m\u001b[0m\n\u001b[0m",
      "\u001b[0;31mNameError\u001b[0m: name 'Converter' is not defined"
     ]
    }
   ],
   "source": [
    "Converter()"
   ]
  },
  {
   "cell_type": "markdown",
   "metadata": {},
   "source": [
    "### Outputs\n",
    "We typically use a built-in function, `print`, to display information on the screen. "
   ]
  },
  {
   "cell_type": "code",
   "execution_count": 30,
   "metadata": {},
   "outputs": [
    {
     "name": "stdout",
     "output_type": "stream",
     "text": [
      "7\n",
      "3 4 7\n",
      "\n",
      "The answer is  7\n",
      "The answer is\n",
      " 7\n"
     ]
    }
   ],
   "source": [
    "print(3+4)\n",
    "print(3,4,3+4)\n",
    "print()\n",
    "print('The answer is ',3 + 4)\n",
    "print('The answer is\\n',3 + 4)"
   ]
  },
  {
   "cell_type": "code",
   "execution_count": 32,
   "metadata": {},
   "outputs": [
    {
     "name": "stdout",
     "output_type": "stream",
     "text": [
      "print \\n\n"
     ]
    }
   ],
   "source": [
    "y = 'print \\\\n'\n",
    "print(y)"
   ]
  },
  {
   "cell_type": "markdown",
   "metadata": {},
   "source": [
    "### Assignments\n",
    "One key component of any code is assignment, where a variable is \"given\" a value. The standard form is:\n",
    "```python\n",
    "<variable> = <expression>\n",
    "```\n",
    "\n",
    "One can think of this as creating a box in the memory and putting the value of the expression in it, and then assigning the variable name to that box for future reference.\n",
    "\n",
    "#### Simultaneous assignments\n",
    "Python, in all its Pythonism, allows for many forms of the assignment statement, which might not be available in other programming languages."
   ]
  },
  {
   "cell_type": "code",
   "execution_count": null,
   "metadata": {},
   "outputs": [],
   "source": [
    "x = 5\n",
    "y = 3\n",
    "print(x)\n",
    "print(y)"
   ]
  },
  {
   "cell_type": "code",
   "execution_count": 37,
   "metadata": {},
   "outputs": [
    {
     "name": "stdout",
     "output_type": "stream",
     "text": [
      "5\n",
      "3\n"
     ]
    }
   ],
   "source": [
    "x,y,z,a,b,c = 5,3,4,3,2,1\n",
    "print(x)\n",
    "print(y)"
   ]
  },
  {
   "cell_type": "code",
   "execution_count": null,
   "metadata": {},
   "outputs": [],
   "source": [
    "sm,df = x-y,x+y\n",
    "print(sm)\n",
    "print(df)"
   ]
  },
  {
   "cell_type": "code",
   "execution_count": 38,
   "metadata": {},
   "outputs": [
    {
     "name": "stdout",
     "output_type": "stream",
     "text": [
      "3\n",
      "5\n"
     ]
    }
   ],
   "source": [
    "# swapping values\n",
    "x,y = 5,3\n",
    "y,x = x,y\n",
    "print(x)\n",
    "print(y)"
   ]
  },
  {
   "cell_type": "markdown",
   "metadata": {},
   "source": [
    "### Variable Scope\n",
    "\n",
    "Another important programming aspect is the notion of a variable's `scope` -- or _the places where a variable can be seen or is accessible_.\n",
    "\n",
    "In a `Python` environment, there are multiple namespaces that exist simultaneously. A _namespace_ is a container that allows mapping a name to a variable. At any given point in the code, `Python` searches in these namespaces for an appropriate mapping from the name to the variable. But in what order should the search be done across all the existing namespaces?"
   ]
  },
  {
   "cell_type": "code",
   "execution_count": 45,
   "metadata": {},
   "outputs": [
    {
     "name": "stdout",
     "output_type": "stream",
     "text": [
      "1 global\n",
      "7 in bar()\n",
      "1 in foo()\n",
      "1 global\n"
     ]
    }
   ],
   "source": [
    "i = 1\n",
    "\n",
    "def foo():\n",
    "    #i = 5\n",
    "    print(i, 'in foo()')\n",
    "\n",
    "def bar():\n",
    "    i = 7\n",
    "    print(i, 'in bar()')\n",
    "print(i, 'global')\n",
    "\n",
    "bar()\n",
    "foo()\n",
    "print(i,'global')"
   ]
  },
  {
   "cell_type": "markdown",
   "metadata": {},
   "source": [
    "`Python` uses the following order:\n",
    "<img src='https://raw.githubusercontent.com/rasbt/python_reference/master/Images/scope_resolution_1.png'>"
   ]
  },
  {
   "cell_type": "code",
   "execution_count": 47,
   "metadata": {},
   "outputs": [
    {
     "name": "stdout",
     "output_type": "stream",
     "text": [
      "global variable [ a_var inside a_func() ]\n",
      "global variable [ a_var outside a_func() ]\n"
     ]
    }
   ],
   "source": [
    "a_var = 'global variable'\n",
    "\n",
    "def a_func():\n",
    "    print(a_var, '[ a_var inside a_func() ]')\n",
    "\n",
    "a_func()\n",
    "print(a_var, '[ a_var outside a_func() ]')"
   ]
  },
  {
   "cell_type": "markdown",
   "metadata": {},
   "source": [
    "In the example below, inside the function, the variable in the local scope is modified. However, outside the function, the global variable is used in the `print` statement."
   ]
  },
  {
   "cell_type": "code",
   "execution_count": 48,
   "metadata": {},
   "outputs": [
    {
     "name": "stdout",
     "output_type": "stream",
     "text": [
      "local value [ a_var inside a_func() ]\n",
      "global value [ a_var outside a_func() ]\n"
     ]
    }
   ],
   "source": [
    "a_var = 'global value'\n",
    "\n",
    "def a_func():\n",
    "    a_var = 'local value'\n",
    "    print(a_var, '[ a_var inside a_func() ]')\n",
    "\n",
    "a_func()\n",
    "print(a_var, '[ a_var outside a_func() ]')"
   ]
  },
  {
   "cell_type": "markdown",
   "metadata": {},
   "source": [
    "However, if one needs to modify the global variable within a function, the keyword `global` is used."
   ]
  },
  {
   "cell_type": "code",
   "execution_count": 49,
   "metadata": {},
   "outputs": [
    {
     "name": "stdout",
     "output_type": "stream",
     "text": [
      "global value [ a_var outside a_func() ]\n",
      "local value [ a_var inside a_func() ]\n",
      "local value [ a_var outside a_func() ]\n"
     ]
    }
   ],
   "source": [
    "a_var = 'global value'\n",
    "\n",
    "def a_func():\n",
    "    global a_var\n",
    "    a_var = 'local value'\n",
    "    print(a_var, '[ a_var inside a_func() ]')\n",
    "\n",
    "print(a_var, '[ a_var outside a_func() ]')\n",
    "a_func()\n",
    "print(a_var, '[ a_var outside a_func() ]')"
   ]
  },
  {
   "cell_type": "markdown",
   "metadata": {},
   "source": [
    "Of course, if the correct order is not maintained, one will get an error."
   ]
  },
  {
   "cell_type": "code",
   "execution_count": 60,
   "metadata": {},
   "outputs": [
    {
     "name": "stdout",
     "output_type": "stream",
     "text": [
      "1 [ a_var outside a_func() ]\n"
     ]
    },
    {
     "ename": "UnboundLocalError",
     "evalue": "local variable 'a_var' referenced before assignment",
     "output_type": "error",
     "traceback": [
      "\u001b[0;31m---------------------------------------------------------------------------\u001b[0m",
      "\u001b[0;31mUnboundLocalError\u001b[0m                         Traceback (most recent call last)",
      "\u001b[0;32m<ipython-input-60-2cd52cfb1ba1>\u001b[0m in \u001b[0;36m<module>\u001b[0;34m\u001b[0m\n\u001b[1;32m      6\u001b[0m \u001b[0;34m\u001b[0m\u001b[0m\n\u001b[1;32m      7\u001b[0m \u001b[0mprint\u001b[0m\u001b[0;34m(\u001b[0m\u001b[0ma_var\u001b[0m\u001b[0;34m,\u001b[0m \u001b[0;34m'[ a_var outside a_func() ]'\u001b[0m\u001b[0;34m)\u001b[0m\u001b[0;34m\u001b[0m\u001b[0;34m\u001b[0m\u001b[0m\n\u001b[0;32m----> 8\u001b[0;31m \u001b[0ma_func\u001b[0m\u001b[0;34m(\u001b[0m\u001b[0;34m)\u001b[0m\u001b[0;34m\u001b[0m\u001b[0;34m\u001b[0m\u001b[0m\n\u001b[0m",
      "\u001b[0;32m<ipython-input-60-2cd52cfb1ba1>\u001b[0m in \u001b[0;36ma_func\u001b[0;34m()\u001b[0m\n\u001b[1;32m      2\u001b[0m \u001b[0;34m\u001b[0m\u001b[0m\n\u001b[1;32m      3\u001b[0m \u001b[0;32mdef\u001b[0m \u001b[0ma_func\u001b[0m\u001b[0;34m(\u001b[0m\u001b[0;34m)\u001b[0m\u001b[0;34m:\u001b[0m\u001b[0;34m\u001b[0m\u001b[0;34m\u001b[0m\u001b[0m\n\u001b[0;32m----> 4\u001b[0;31m     \u001b[0ma_var\u001b[0m \u001b[0;34m=\u001b[0m \u001b[0ma_var\u001b[0m \u001b[0;34m+\u001b[0m \u001b[0;36m1\u001b[0m\u001b[0;34m\u001b[0m\u001b[0;34m\u001b[0m\u001b[0m\n\u001b[0m\u001b[1;32m      5\u001b[0m     \u001b[0mprint\u001b[0m\u001b[0;34m(\u001b[0m\u001b[0ma_var\u001b[0m\u001b[0;34m,\u001b[0m \u001b[0;34m'[ a_var inside a_func() ]'\u001b[0m\u001b[0;34m)\u001b[0m\u001b[0;34m\u001b[0m\u001b[0;34m\u001b[0m\u001b[0m\n\u001b[1;32m      6\u001b[0m \u001b[0;34m\u001b[0m\u001b[0m\n",
      "\u001b[0;31mUnboundLocalError\u001b[0m: local variable 'a_var' referenced before assignment"
     ]
    }
   ],
   "source": [
    "a_var = 1\n",
    "\n",
    "def a_func():\n",
    "    a_var = a_var + 1\n",
    "    print(a_var, '[ a_var inside a_func() ]')\n",
    "\n",
    "print(a_var, '[ a_var outside a_func() ]')\n",
    "a_func()"
   ]
  },
  {
   "cell_type": "code",
   "execution_count": 61,
   "metadata": {},
   "outputs": [
    {
     "name": "stdout",
     "output_type": "stream",
     "text": [
      "1 [ a_var outside a_func() ]\n",
      "2 [ a_var inside a_func() ]\n"
     ]
    }
   ],
   "source": [
    "a_var = 1\n",
    "\n",
    "def a_func():\n",
    "    global a_var\n",
    "    a_var = a_var + 1\n",
    "    print(a_var, '[ a_var inside a_func() ]')\n",
    "    \n",
    "print(a_var, '[ a_var outside a_func() ]')\n",
    "a_func()"
   ]
  },
  {
   "cell_type": "code",
   "execution_count": 62,
   "metadata": {},
   "outputs": [
    {
     "name": "stdout",
     "output_type": "stream",
     "text": [
      "1 [ a_var2 inside a_func() ]\n",
      "1 [ a_var2 outside a_func() ]\n"
     ]
    }
   ],
   "source": [
    "#a_var2 = 1\n",
    "\n",
    "def a_func():\n",
    "    global a_var2\n",
    "    a_var2 = 0\n",
    "    a_var2 = a_var2 + 1\n",
    "    print(a_var2, '[ a_var2 inside a_func() ]')\n",
    "    \n",
    "a_func()\n",
    "print(a_var2, '[ a_var2 outside a_func() ]')\n"
   ]
  },
  {
   "cell_type": "code",
   "execution_count": null,
   "metadata": {},
   "outputs": [],
   "source": [
    "var_outermost = 8\n",
    "def a_outer(var_outermost1):\n",
    "    \n",
    "    print(\"inside the outer function\")\n",
    "    print(var_outermost1)\n",
    "    def a_inner(var_outermost2):\n",
    "        var_inner = 4\n",
    "        print(var_inner)\n",
    "        print(var_outermost2)\n",
    "        return var_inner\n",
    "    var_inner = a_inner(var_outermost1)\n",
    "    print(var_inner)\n",
    "\n",
    "a_outer(var_outermost)"
   ]
  }
 ],
 "metadata": {
  "kernelspec": {
   "display_name": "Python 3",
   "language": "python",
   "name": "python3"
  },
  "language_info": {
   "codemirror_mode": {
    "name": "ipython",
    "version": 3
   },
   "file_extension": ".py",
   "mimetype": "text/x-python",
   "name": "python",
   "nbconvert_exporter": "python",
   "pygments_lexer": "ipython3",
   "version": "3.6.8"
  }
 },
 "nbformat": 4,
 "nbformat_minor": 2
}
