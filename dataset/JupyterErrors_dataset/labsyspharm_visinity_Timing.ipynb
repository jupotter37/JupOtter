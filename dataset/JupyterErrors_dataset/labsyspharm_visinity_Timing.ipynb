{
 "cells": [
  {
   "cell_type": "code",
   "execution_count": 9,
   "id": "f8faea5b",
   "metadata": {},
   "outputs": [],
   "source": [
    "import numpy as np\n",
    "import time\n",
    "import numba\n",
    "from numba import prange\n",
    "\n",
    "from sklearn.neighbors import BallTree\n",
    "import pandas as pd"
   ]
  },
  {
   "cell_type": "code",
   "execution_count": 2,
   "id": "f2b7ca56",
   "metadata": {},
   "outputs": [],
   "source": [
    "drop_columns = ['DNA1', 'AF488', 'AF555', 'AF647', 'DNA2', 'BG488', 'BG555', 'BG647', 'DNA3', 'CD2', 'NONE', 'CD10', 'DNA4', 'CD30', 'ALK', 'CD5', 'DNA5', 'CD4', 'CD68', 'CD7', 'DNA6', 'CD43', 'CD3D', 'CD45', 'DNA7', 'CD11B', 'GATA3', 'CD8A', 'DNA8', 'CD163', 'CD19', 'CD56', 'DNA10', 'KI67', 'FOXP3', 'CD21', 'DNA11', 'S6P', 'ERKP', 'CD31', 'DNA12', 'BCL6', 'CD57', 'PSTAT3']"
   ]
  },
  {
   "cell_type": "code",
   "execution_count": 3,
   "id": "634701e6",
   "metadata": {},
   "outputs": [],
   "source": [
    "df = pd.read_csv('/Users/swarchol/Harvard Drive/Ton/tonsil_with_phenotype.csv', index_col=None)\n",
    "df = df.drop(drop_columns, axis=1)\n",
    "df['id'] = df.index\n",
    "# df['Cluster'] = embedding[:, -1].astype('int32').tolist()\n",
    "df['Cluster'] = 0\n",
    "\n",
    "if 'CellType' in df.columns:\n",
    "    df = df.rename(columns={'CellType': 'phenotype'})\n",
    "df = df.replace(-np.Inf, 0)\n",
    "np_df = df.to_numpy()"
   ]
  },
  {
   "cell_type": "code",
   "execution_count": 4,
   "id": "07e4db5e",
   "metadata": {},
   "outputs": [],
   "source": [
    "test = time.time()\n",
    "points = np_df[:, [1,2]].astype(int)\n",
    "ton_scale_factor = 0.649999976158\n",
    "r = 100 / ton_scale_factor\n",
    "\n"
   ]
  },
  {
   "cell_type": "code",
   "execution_count": 5,
   "id": "d25f4444",
   "metadata": {},
   "outputs": [],
   "source": [
    "contiguous_points = np.ascontiguousarray(points.astype('float32'))\n",
    "image_ball_tree = BallTree(contiguous_points, metric='euclidean')\n",
    "neighbors, distances = image_ball_tree.query_radius(contiguous_points, r=r, return_distance=True)\n"
   ]
  },
  {
   "cell_type": "code",
   "execution_count": 11,
   "id": "b5429f62",
   "metadata": {},
   "outputs": [],
   "source": [
    "@numba.jit(nopython=True, parallel=True)\n",
    "def create_matrices(neighbors, distances):\n",
    "    lengths = np.zeros((len(neighbors),))\n",
    "    max_neighbors = 0\n",
    "    for i in prange(len(neighbors)):\n",
    "        lengths[i] = len(neighbors[i])\n",
    "        if max_neighbors < len(neighbors[i]):\n",
    "            max_neighbors = len(neighbors[i])\n",
    "    neighbors_matrix = np.zeros((len(neighbors), max_neighbors))\n",
    "    distances_matrix = np.zeros((len(neighbors), max_neighbors))\n",
    "\n",
    "    for i in prange(len(neighbors)):\n",
    "        neighbors_matrix[i, 0:len(neighbors[i])] = neighbors[i]\n",
    "        distances_matrix[i, 0:len(distances[i])] = 1 - (distances[i] / r)\n",
    "\n",
    "    lengths = lengths.astype('uint16')\n",
    "    neighbors_matrix = neighbors_matrix.astype('uint32')\n",
    "    distances_matrix = distances_matrix.astype('ufloat32')\n",
    "    return lengths,neighbors_matrix, distances_matrix"
   ]
  },
  {
   "cell_type": "code",
   "execution_count": 12,
   "id": "d0fd5e85",
   "metadata": {},
   "outputs": [
    {
     "ename": "TypingError",
     "evalue": "Failed in nopython mode pipeline (step: nopython frontend)\n\u001b[1m\u001b[1mnon-precise type array(pyobject, 1d, C)\u001b[0m\n\u001b[0m\u001b[1mDuring: typing of argument at /var/folders/ps/x7v31pds3gn4t11djwg0t03h0000gp/T/ipykernel_90463/4013336284.py (3)\u001b[0m\n\u001b[1m\nFile \"../../../../var/folders/ps/x7v31pds3gn4t11djwg0t03h0000gp/T/ipykernel_90463/4013336284.py\", line 3:\u001b[0m\n\u001b[1m<source missing, REPL/exec in use?>\u001b[0m\n",
     "output_type": "error",
     "traceback": [
      "\u001b[0;31m---------------------------------------------------------------------------\u001b[0m",
      "\u001b[0;31mTypingError\u001b[0m                               Traceback (most recent call last)",
      "\u001b[0;32m/var/folders/ps/x7v31pds3gn4t11djwg0t03h0000gp/T/ipykernel_90463/314106945.py\u001b[0m in \u001b[0;36m<module>\u001b[0;34m\u001b[0m\n\u001b[0;32m----> 1\u001b[0;31m \u001b[0mcreate_matrices\u001b[0m\u001b[0;34m(\u001b[0m\u001b[0mneighbors\u001b[0m\u001b[0;34m,\u001b[0m\u001b[0mdistances\u001b[0m\u001b[0;34m)\u001b[0m\u001b[0;34m\u001b[0m\u001b[0;34m\u001b[0m\u001b[0m\n\u001b[0m",
      "\u001b[0;32m/opt/homebrew/Caskroom/miniforge/base/envs/jupyter/lib/python3.8/site-packages/numba/core/dispatcher.py\u001b[0m in \u001b[0;36m_compile_for_args\u001b[0;34m(self, *args, **kws)\u001b[0m\n\u001b[1;32m    480\u001b[0m                 \u001b[0me\u001b[0m\u001b[0;34m.\u001b[0m\u001b[0mpatch_message\u001b[0m\u001b[0;34m(\u001b[0m\u001b[0mmsg\u001b[0m\u001b[0;34m)\u001b[0m\u001b[0;34m\u001b[0m\u001b[0;34m\u001b[0m\u001b[0m\n\u001b[1;32m    481\u001b[0m \u001b[0;34m\u001b[0m\u001b[0m\n\u001b[0;32m--> 482\u001b[0;31m             \u001b[0merror_rewrite\u001b[0m\u001b[0;34m(\u001b[0m\u001b[0me\u001b[0m\u001b[0;34m,\u001b[0m \u001b[0;34m'typing'\u001b[0m\u001b[0;34m)\u001b[0m\u001b[0;34m\u001b[0m\u001b[0;34m\u001b[0m\u001b[0m\n\u001b[0m\u001b[1;32m    483\u001b[0m         \u001b[0;32mexcept\u001b[0m \u001b[0merrors\u001b[0m\u001b[0;34m.\u001b[0m\u001b[0mUnsupportedError\u001b[0m \u001b[0;32mas\u001b[0m \u001b[0me\u001b[0m\u001b[0;34m:\u001b[0m\u001b[0;34m\u001b[0m\u001b[0;34m\u001b[0m\u001b[0m\n\u001b[1;32m    484\u001b[0m             \u001b[0;31m# Something unsupported is present in the user code, add help info\u001b[0m\u001b[0;34m\u001b[0m\u001b[0;34m\u001b[0m\u001b[0;34m\u001b[0m\u001b[0m\n",
      "\u001b[0;32m/opt/homebrew/Caskroom/miniforge/base/envs/jupyter/lib/python3.8/site-packages/numba/core/dispatcher.py\u001b[0m in \u001b[0;36merror_rewrite\u001b[0;34m(e, issue_type)\u001b[0m\n\u001b[1;32m    421\u001b[0m                 \u001b[0;32mraise\u001b[0m \u001b[0me\u001b[0m\u001b[0;34m\u001b[0m\u001b[0;34m\u001b[0m\u001b[0m\n\u001b[1;32m    422\u001b[0m             \u001b[0;32melse\u001b[0m\u001b[0;34m:\u001b[0m\u001b[0;34m\u001b[0m\u001b[0;34m\u001b[0m\u001b[0m\n\u001b[0;32m--> 423\u001b[0;31m                 \u001b[0;32mraise\u001b[0m \u001b[0me\u001b[0m\u001b[0;34m.\u001b[0m\u001b[0mwith_traceback\u001b[0m\u001b[0;34m(\u001b[0m\u001b[0;32mNone\u001b[0m\u001b[0;34m)\u001b[0m\u001b[0;34m\u001b[0m\u001b[0;34m\u001b[0m\u001b[0m\n\u001b[0m\u001b[1;32m    424\u001b[0m \u001b[0;34m\u001b[0m\u001b[0m\n\u001b[1;32m    425\u001b[0m         \u001b[0margtypes\u001b[0m \u001b[0;34m=\u001b[0m \u001b[0;34m[\u001b[0m\u001b[0;34m]\u001b[0m\u001b[0;34m\u001b[0m\u001b[0;34m\u001b[0m\u001b[0m\n",
      "\u001b[0;31mTypingError\u001b[0m: Failed in nopython mode pipeline (step: nopython frontend)\n\u001b[1m\u001b[1mnon-precise type array(pyobject, 1d, C)\u001b[0m\n\u001b[0m\u001b[1mDuring: typing of argument at /var/folders/ps/x7v31pds3gn4t11djwg0t03h0000gp/T/ipykernel_90463/4013336284.py (3)\u001b[0m\n\u001b[1m\nFile \"../../../../var/folders/ps/x7v31pds3gn4t11djwg0t03h0000gp/T/ipykernel_90463/4013336284.py\", line 3:\u001b[0m\n\u001b[1m<source missing, REPL/exec in use?>\u001b[0m\n"
     ]
    }
   ],
   "source": [
    "create_matrices(neighbors,distances)\n"
   ]
  },
  {
   "cell_type": "code",
   "execution_count": 30,
   "id": "6455e29f",
   "metadata": {},
   "outputs": [],
   "source": [
    "phenotypes_dict = {val: idx for idx, val in enumerate(sorted(df.phenotype.unique()))}\n",
    "phenotypes_array = np_df[:, 12]\n",
    "for i in range(phenotypes_array.shape[0]):\n",
    "    phenotypes_array[i] = phenotypes_dict[phenotypes_array[i]]\n",
    "phenotypes_array = np.array(phenotypes_array, dtype='uint16').flatten()"
   ]
  },
  {
   "cell_type": "code",
   "execution_count": 27,
   "id": "3d906532",
   "metadata": {},
   "outputs": [
    {
     "data": {
      "text/plain": [
       "'CD8 T cells'"
      ]
     },
     "execution_count": 27,
     "metadata": {},
     "output_type": "execute_result"
    }
   ],
   "source": [
    "np_df[0,12]"
   ]
  },
  {
   "cell_type": "code",
   "execution_count": 17,
   "id": "2013a26b",
   "metadata": {},
   "outputs": [
    {
     "data": {
      "text/plain": [
       "array([ 252, 1059,    0,  433,    0,    0,    0,    0,    0,    0,    0,\n",
       "          0,    0,    0,    0,    0])"
      ]
     },
     "execution_count": 17,
     "metadata": {},
     "output_type": "execute_result"
    }
   ],
   "source": []
  },
  {
   "cell_type": "code",
   "execution_count": 31,
   "id": "8805d0d5",
   "metadata": {},
   "outputs": [
    {
     "data": {
      "text/plain": [
       "array([24669, 25427, 26245, 24765])"
      ]
     },
     "execution_count": 31,
     "metadata": {},
     "output_type": "execute_result"
    }
   ],
   "source": [
    "np.random.choice(neighbors)"
   ]
  },
  {
   "cell_type": "code",
   "execution_count": null,
   "id": "55164886",
   "metadata": {},
   "outputs": [],
   "source": []
  }
 ],
 "metadata": {
  "kernelspec": {
   "display_name": "Python [conda env:jupyter] *",
   "language": "python",
   "name": "conda-env-jupyter-py"
  },
  "language_info": {
   "codemirror_mode": {
    "name": "ipython",
    "version": 3
   },
   "file_extension": ".py",
   "mimetype": "text/x-python",
   "name": "python",
   "nbconvert_exporter": "python",
   "pygments_lexer": "ipython3",
   "version": "3.8.12"
  }
 },
 "nbformat": 4,
 "nbformat_minor": 5
}
