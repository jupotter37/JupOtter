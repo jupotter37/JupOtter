{
 "cells": [
  {
   "cell_type": "markdown",
   "metadata": {},
   "source": [
    "Exercises: Introduction to NLP in Python\n",
    "===\n",
    "\n",
    "![](http://static1.squarespace.com/static/538cea80e4b00f1fad490c1b/54668a77e4b00fb778d22a34/54668d8ae4b00fb778d2859c/1416007413413/NLTK.png)"
   ]
  },
  {
   "cell_type": "code",
   "execution_count": 1,
   "metadata": {},
   "outputs": [],
   "source": [
    "reset -fs"
   ]
  },
  {
   "cell_type": "code",
   "execution_count": 2,
   "metadata": {},
   "outputs": [],
   "source": [
    "import nltk"
   ]
  },
  {
   "cell_type": "code",
   "execution_count": 3,
   "metadata": {},
   "outputs": [],
   "source": [
    "nltk?"
   ]
  },
  {
   "cell_type": "markdown",
   "metadata": {},
   "source": [
    "---\n",
    "What is NLTK?\n",
    "---\n",
    "\n",
    "Natural Language Toolkit (nltk) is a Python package for NLP\n",
    "\n",
    "__Pros__:\n",
    "\n",
    "- Common\n",
    "- Functionality\n",
    "\n",
    "__Cons__:\n",
    "\n",
    "- Too academic\n",
    "- Too slow\n",
    "- Awkward API"
   ]
  },
  {
   "cell_type": "markdown",
   "metadata": {},
   "source": [
    "---\n",
    "What are Corpus / Corpora?\n",
    "---\n",
    "\n",
    "> a collection of written texts, especially the entire works of a particular author or a body of writing on a particular subject.\n",
    "\n",
    "The rest of the world call them \"documents\"."
   ]
  },
  {
   "cell_type": "markdown",
   "metadata": {},
   "source": [
    "---\n",
    "0) Download `nltk` corpora\n",
    "---\n",
    "\n",
    "![](images/download_all_the_corpora.png)"
   ]
  },
  {
   "cell_type": "code",
   "execution_count": 4,
   "metadata": {},
   "outputs": [
    {
     "name": "stdout",
     "output_type": "stream",
     "text": [
      "[nltk_data] Downloading package genesis to /Users/brian/nltk_data...\n",
      "[nltk_data]   Package genesis is already up-to-date!\n"
     ]
    },
    {
     "data": {
      "text/plain": [
       "True"
      ]
     },
     "execution_count": 4,
     "metadata": {},
     "output_type": "execute_result"
    }
   ],
   "source": [
    "# Genesis is the first book in the Bible\n",
    "nltk.download('genesis')"
   ]
  },
  {
   "cell_type": "markdown",
   "metadata": {},
   "source": [
    "----"
   ]
  },
  {
   "cell_type": "code",
   "execution_count": 5,
   "metadata": {},
   "outputs": [],
   "source": [
    "# Double check that you have the corpora\n",
    "from nltk.corpus import genesis\n",
    "\n",
    "assert genesis.words()[:3] == ['In', 'the', 'beginning']"
   ]
  },
  {
   "cell_type": "markdown",
   "metadata": {},
   "source": [
    "---\n",
    "1) Zipf's Law:\n",
    "---\n",
    "\n",
    "Zipf's Law (not a real \"law\") is a NLP phenomena:\n",
    "\n",
    ">  the frequency of any word is inversely proportional to its rank in the frequency table. \n",
    "\n",
    "or in Plain English:\n",
    "\n",
    "> a rank r word occurs 1/r times as often as the most frequent word, so the rank 2 word occurs half as often as the rank 1 word, the rank 3 word one-third as often, the rank 4 word one-fourth as often,...\n",
    "\n",
    "> the most frequent word will occur about twice as often as the second most frequent word \n",
    "\n",
    "For example:\n",
    "\n",
    "|Word  |  Rank | Frequency |  Count |\n",
    "|:-------:|:------:| :---:| :---: |\n",
    "| “the”   | 1st | 1/10 | 10K |\n",
    "| \"of\" | 2nd | 1/20 |  5K |\n",
    "| \"and\" |  3rd | 1/30 | 3.3K | \n",
    " \n",
    "__Word by frequency count:__\n",
    "![](images/graph-zipf.png)"
   ]
  },
  {
   "cell_type": "markdown",
   "metadata": {},
   "source": [
    "------\n",
    "NLP (or Data Science) WorkFlow\n",
    "------\n",
    "\n",
    "1. Ask the right question\n",
    "2. Acquire the relevant data\n",
    "3. Process: clean and organize\n",
    "4. Model: Apply Statistics, Machine Learning, and Deep Learning\n",
    "5. Deliver: Add value, report, presentation, or code/API"
   ]
  },
  {
   "cell_type": "markdown",
   "metadata": {},
   "source": [
    "-------\n",
    "TODO: Take the words from \"Genesis\" and put the words counts into a dictionary\n",
    "\n",
    "<br>\n",
    "<details><summary>\n",
    "Click here for a hint…\n",
    "</summary>\n",
    "It is one line of code if you use an import from Python's Standard Library\n",
    "</details>"
   ]
  },
  {
   "cell_type": "code",
   "execution_count": null,
   "metadata": {
    "collapsed": true
   },
   "outputs": [],
   "source": []
  },
  {
   "cell_type": "markdown",
   "metadata": {},
   "source": [
    "TODO: Sort word counts from high to low.\n",
    "\n",
    "<br>\n",
    "<details><summary>\n",
    "Click here for a hint…\n",
    "</summary>\n",
    "Use the keyword arguments for `sorted`\n",
    "</details>"
   ]
  },
  {
   "cell_type": "code",
   "execution_count": null,
   "metadata": {
    "collapsed": true
   },
   "outputs": [],
   "source": []
  },
  {
   "cell_type": "code",
   "execution_count": null,
   "metadata": {
    "collapsed": true
   },
   "outputs": [],
   "source": [
    "assert word_counts_sorted[0]  == (',', 22643)\n",
    "assert word_counts_sorted[1]  == ('.', 11069)\n",
    "assert word_counts_sorted[-1] == ('kista', 1)"
   ]
  },
  {
   "cell_type": "markdown",
   "metadata": {},
   "source": [
    "Take a small sample to visualize"
   ]
  },
  {
   "cell_type": "code",
   "execution_count": 7,
   "metadata": {},
   "outputs": [
    {
     "ename": "NameError",
     "evalue": "name 'word_counts_sorted' is not defined",
     "output_type": "error",
     "traceback": [
      "\u001b[0;31m---------------------------------------------------------------------------\u001b[0m",
      "\u001b[0;31mNameError\u001b[0m                                 Traceback (most recent call last)",
      "\u001b[0;32m<ipython-input-7-b20e9b6042e4>\u001b[0m in \u001b[0;36m<module>\u001b[0;34m()\u001b[0m\n\u001b[0;32m----> 1\u001b[0;31m \u001b[0msample\u001b[0m \u001b[0;34m=\u001b[0m \u001b[0mword_counts_sorted\u001b[0m\u001b[0;34m[\u001b[0m\u001b[0;34m:\u001b[0m\u001b[0;36m15\u001b[0m\u001b[0;34m]\u001b[0m\u001b[0;34m\u001b[0m\u001b[0m\n\u001b[0m",
      "\u001b[0;31mNameError\u001b[0m: name 'word_counts_sorted' is not defined"
     ]
    }
   ],
   "source": [
    "sample = word_counts_sorted[:15]"
   ]
  },
  {
   "cell_type": "code",
   "execution_count": 1,
   "metadata": {},
   "outputs": [],
   "source": [
    "import matplotlib.pyplot as plt\n",
    "import numpy as np\n",
    "\n",
    "%matplotlib inline"
   ]
  },
  {
   "cell_type": "markdown",
   "metadata": {
    "collapsed": true
   },
   "source": [
    "TODO: Plot the words by often they occur.\n",
    "\n",
    "You'll need to extract the data from data structure in an efficent way.\n",
    "\n",
    "<br>\n",
    "<details><summary>\n",
    "Click here for a big hint…\n",
    "</summary>\n",
    "labels, values = zip(*sample)\n",
    "</details>"
   ]
  },
  {
   "cell_type": "code",
   "execution_count": null,
   "metadata": {
    "collapsed": true
   },
   "outputs": [],
   "source": []
  },
  {
   "cell_type": "markdown",
   "metadata": {},
   "source": [
    "TODO: Does this data appear to support Zipf Law? Why or Why not?"
   ]
  },
  {
   "cell_type": "code",
   "execution_count": null,
   "metadata": {
    "collapsed": true
   },
   "outputs": [],
   "source": []
  },
  {
   "cell_type": "markdown",
   "metadata": {},
   "source": [
    "TODO: Remove punctuation and plot the updated data\n",
    "<br>\n",
    "<br>\n",
    "<details><summary>\n",
    "Click here for a hint...\n",
    "</summary>\n",
    "Import all punctuation symbols from Python's Standard Library\n",
    "</details>"
   ]
  },
  {
   "cell_type": "code",
   "execution_count": null,
   "metadata": {
    "collapsed": true
   },
   "outputs": [],
   "source": []
  },
  {
   "cell_type": "markdown",
   "metadata": {},
   "source": [
    "TODO: Create a new data structure that has word frequency by word rank.\n",
    "<br>\n",
    "<br>\n",
    "<details><summary>\n",
    "Click here for a hint...\n",
    "</summary>\n",
    "It is one line code if you do it Pythonically.\n",
    "</details>"
   ]
  },
  {
   "cell_type": "code",
   "execution_count": null,
   "metadata": {},
   "outputs": [],
   "source": []
  },
  {
   "cell_type": "markdown",
   "metadata": {},
   "source": [
    "TODO: Plot word frequency against word rank for all the data\n",
    "<br>\n",
    "<br>\n",
    "<details><summary>\n",
    "Click here for a hint...\n",
    "</summary>\n",
    "Plot it on log/log scale\n",
    "</details>"
   ]
  },
  {
   "cell_type": "code",
   "execution_count": null,
   "metadata": {
    "collapsed": true
   },
   "outputs": [],
   "source": []
  },
  {
   "cell_type": "markdown",
   "metadata": {},
   "source": [
    "TODO: Describe the what the plot tells you about the data"
   ]
  },
  {
   "cell_type": "code",
   "execution_count": null,
   "metadata": {
    "collapsed": true
   },
   "outputs": [],
   "source": []
  },
  {
   "cell_type": "markdown",
   "metadata": {
    "collapsed": true
   },
   "source": [
    "TODO: How does your result compare to Wikipedia?\n",
    "    \n",
    "![](https://upload.wikimedia.org/wikipedia/commons/b/b9/Wikipedia-n-zipf.png)"
   ]
  },
  {
   "cell_type": "code",
   "execution_count": null,
   "metadata": {
    "collapsed": true
   },
   "outputs": [],
   "source": []
  },
  {
   "cell_type": "markdown",
   "metadata": {
    "collapsed": true
   },
   "source": [
    "TODO: Fit and plot a linear model to the data\n",
    "\n",
    "__Mar's Law__:\n",
    "\n",
    "> Everything is linear if plotted log-log with a fat magic marker\n",
    "\n",
    "<br>\n",
    "<details><summary>\n",
    "Click here for a hint…\n",
    "</summary>\n",
    "You can also fit a model in R by using Feather - https://github.com/wesm/feather\n",
    "</details>"
   ]
  },
  {
   "cell_type": "code",
   "execution_count": null,
   "metadata": {
    "collapsed": true
   },
   "outputs": [],
   "source": []
  },
  {
   "cell_type": "markdown",
   "metadata": {},
   "source": [
    "TODO: Is a linear model a useful model for the data? Why or Why not?"
   ]
  },
  {
   "cell_type": "code",
   "execution_count": null,
   "metadata": {
    "collapsed": true
   },
   "outputs": [],
   "source": []
  },
  {
   "cell_type": "markdown",
   "metadata": {},
   "source": [
    "TODO: How would summarize what you found in a couple of sentences?"
   ]
  },
  {
   "cell_type": "code",
   "execution_count": null,
   "metadata": {
    "collapsed": true
   },
   "outputs": [],
   "source": []
  },
  {
   "cell_type": "markdown",
   "metadata": {},
   "source": [
    "TODO: How did Data Science Workflow work for this problem?"
   ]
  },
  {
   "cell_type": "code",
   "execution_count": null,
   "metadata": {
    "collapsed": true
   },
   "outputs": [],
   "source": []
  },
  {
   "cell_type": "markdown",
   "metadata": {},
   "source": [
    "<br>\n",
    "<br> \n",
    "<br>\n",
    "\n",
    "----"
   ]
  }
 ],
 "metadata": {
  "anaconda-cloud": {},
  "kernelspec": {
   "display_name": "Python 3",
   "language": "python",
   "name": "python3"
  },
  "language_info": {
   "codemirror_mode": {
    "name": "ipython",
    "version": 3
   },
   "file_extension": ".py",
   "mimetype": "text/x-python",
   "name": "python",
   "nbconvert_exporter": "python",
   "pygments_lexer": "ipython3",
   "version": "3.6.5"
  }
 },
 "nbformat": 4,
 "nbformat_minor": 1
}
