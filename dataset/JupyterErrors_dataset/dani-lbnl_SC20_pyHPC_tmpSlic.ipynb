{
 "cells": [
  {
   "cell_type": "code",
   "execution_count": 1,
   "metadata": {},
   "outputs": [],
   "source": [
    "from urllib.request import urlretrieve\n",
    "import os\n",
    "import itk\n",
    "import numpy as np\n",
    "\n",
    "from itkwidgets import view\n",
    "import itkwidgets\n",
    "\n",
    "from ipywidgets import interactive, VBox"
   ]
  },
  {
   "cell_type": "code",
   "execution_count": 2,
   "metadata": {},
   "outputs": [
    {
     "name": "stdout",
     "output_type": "stream",
     "text": [
      "itkwidgets= 0.29.0\n",
      "itk 5.1.0\n"
     ]
    }
   ],
   "source": [
    "print('itkwidgets=',itkwidgets.__version__) #?\n",
    "print('itk',itk.Version.GetITKVersion() )"
   ]
  },
  {
   "cell_type": "markdown",
   "metadata": {},
   "source": [
    "file_name = 'cthead1.png'\n",
    "if not os.path.exists(file_name):\n",
    "    url = 'https://data.kitware.com/api/v1/file/57b5d9ef8d777f10f269538f/download'\n",
    "    urlretrieve(url, file_name)"
   ]
  },
  {
   "cell_type": "code",
   "execution_count": 3,
   "metadata": {},
   "outputs": [
    {
     "data": {
      "application/vnd.jupyter.widget-view+json": {
       "model_id": "9f04e771ca17458c8b4171070caa8cfc",
       "version_major": 2,
       "version_minor": 0
      },
      "text/plain": [
       "Viewer(geometries=[], gradient_opacity=0.22, point_sets=[], rendered_image=<itk.itkImagePython.itkImageF3; pro…"
      ]
     },
     "metadata": {},
     "output_type": "display_data"
    }
   ],
   "source": [
    "file_name = '../images/roiFiltered.tiff'\n",
    "b = itk.imread(file_name)\n",
    "view(b)"
   ]
  },
  {
   "cell_type": "code",
   "execution_count": 4,
   "metadata": {},
   "outputs": [],
   "source": [
    "islic = itk.slic_image_filter(b,\n",
    "                              maximum_number_of_iterations=10,\n",
    "                              spatial_proximity_weight=1,\n",
    "                              super_grid_size=10)"
   ]
  },
  {
   "cell_type": "code",
   "execution_count": 5,
   "metadata": {},
   "outputs": [
    {
     "name": "stdout",
     "output_type": "stream",
     "text": [
      "-0.51105565 5.0774817\n",
      "0 10529\n"
     ]
    }
   ],
   "source": [
    "print(np.min(b), np.max(b))\n",
    "print(np.min(islic), np.max(islic))"
   ]
  },
  {
   "cell_type": "code",
   "execution_count": 6,
   "metadata": {},
   "outputs": [
    {
     "name": "stdout",
     "output_type": "stream",
     "text": [
      "<itkTemplate itk::ExtractImageFilter>\n",
      "Options:\n",
      "  [<class 'itk.itkImagePython.itkImageCF2'>, <class 'itk.itkImagePython.itkImageCF2'>]\n",
      "  [<class 'itk.itkImagePython.itkImageCF3'>, <class 'itk.itkImagePython.itkImageCF2'>]\n",
      "  [<class 'itk.itkImagePython.itkImageCF3'>, <class 'itk.itkImagePython.itkImageCF3'>]\n",
      "  [<class 'itk.itkImagePython.itkImageCVF22'>, <class 'itk.itkImagePython.itkImageCVF22'>]\n",
      "  [<class 'itk.itkImagePython.itkImageCVF23'>, <class 'itk.itkImagePython.itkImageCVF23'>]\n",
      "  [<class 'itk.itkImagePython.itkImageCVF32'>, <class 'itk.itkImagePython.itkImageCVF32'>]\n",
      "  [<class 'itk.itkImagePython.itkImageCVF33'>, <class 'itk.itkImagePython.itkImageCVF33'>]\n",
      "  [<class 'itk.itkImagePython.itkImageCVF42'>, <class 'itk.itkImagePython.itkImageCVF42'>]\n",
      "  [<class 'itk.itkImagePython.itkImageCVF43'>, <class 'itk.itkImagePython.itkImageCVF43'>]\n",
      "  [<class 'itk.itkImagePython.itkImageD2'>, <class 'itk.itkImagePython.itkImageD2'>]\n",
      "  [<class 'itk.itkImagePython.itkImageD3'>, <class 'itk.itkImagePython.itkImageD2'>]\n",
      "  [<class 'itk.itkImagePython.itkImageD3'>, <class 'itk.itkImagePython.itkImageD3'>]\n",
      "  [<class 'itk.itkImagePython.itkImageF2'>, <class 'itk.itkImagePython.itkImageF2'>]\n",
      "  [<class 'itk.itkImagePython.itkImageF3'>, <class 'itk.itkImagePython.itkImageF2'>]\n",
      "  [<class 'itk.itkImagePython.itkImageF3'>, <class 'itk.itkImagePython.itkImageF3'>]\n",
      "  [<class 'itk.itkImagePython.itkImageRGBAUC2'>, <class 'itk.itkImagePython.itkImageRGBAUC2'>]\n",
      "  [<class 'itk.itkImagePython.itkImageRGBAUC3'>, <class 'itk.itkImagePython.itkImageRGBAUC3'>]\n",
      "  [<class 'itk.itkImagePython.itkImageRGBUC2'>, <class 'itk.itkImagePython.itkImageRGBUC2'>]\n",
      "  [<class 'itk.itkImagePython.itkImageRGBUC3'>, <class 'itk.itkImagePython.itkImageRGBUC2'>]\n",
      "  [<class 'itk.itkImagePython.itkImageRGBUC3'>, <class 'itk.itkImagePython.itkImageRGBUC3'>]\n",
      "  [<class 'itk.itkImagePython.itkImageSS2'>, <class 'itk.itkImagePython.itkImageSS2'>]\n",
      "  [<class 'itk.itkImagePython.itkImageSS3'>, <class 'itk.itkImagePython.itkImageSS2'>]\n",
      "  [<class 'itk.itkImagePython.itkImageSS3'>, <class 'itk.itkImagePython.itkImageSS3'>]\n",
      "  [<class 'itk.itkImagePython.itkImageUC2'>, <class 'itk.itkImagePython.itkImageUC2'>]\n",
      "  [<class 'itk.itkImagePython.itkImageUC3'>, <class 'itk.itkImagePython.itkImageUC2'>]\n",
      "  [<class 'itk.itkImagePython.itkImageUC3'>, <class 'itk.itkImagePython.itkImageUC3'>]\n",
      "  [<class 'itk.itkImagePython.itkImageUS2'>, <class 'itk.itkImagePython.itkImageUS2'>]\n",
      "  [<class 'itk.itkImagePython.itkImageUS3'>, <class 'itk.itkImagePython.itkImageUS2'>]\n",
      "  [<class 'itk.itkImagePython.itkImageUS3'>, <class 'itk.itkImagePython.itkImageUS3'>]\n",
      "  [<class 'itk.itkImagePython.itkImageVF22'>, <class 'itk.itkImagePython.itkImageVF22'>]\n",
      "  [<class 'itk.itkImagePython.itkImageVF23'>, <class 'itk.itkImagePython.itkImageVF23'>]\n",
      "  [<class 'itk.itkImagePython.itkImageVF32'>, <class 'itk.itkImagePython.itkImageVF32'>]\n",
      "  [<class 'itk.itkImagePython.itkImageVF33'>, <class 'itk.itkImagePython.itkImageVF33'>]\n",
      "  [<class 'itk.itkImagePython.itkImageVF42'>, <class 'itk.itkImagePython.itkImageVF42'>]\n",
      "  [<class 'itk.itkImagePython.itkImageVF43'>, <class 'itk.itkImagePython.itkImageVF43'>]\n"
     ]
    }
   ],
   "source": [
    "itk.ExtractImageFilter.GetTypes()"
   ]
  },
  {
   "cell_type": "code",
   "execution_count": 9,
   "metadata": {},
   "outputs": [
    {
     "data": {
      "application/vnd.jupyter.widget-view+json": {
       "model_id": "d5818a4365c84383b155e0996b79e918",
       "version_major": 2,
       "version_minor": 0
      },
      "text/plain": [
       "Viewer(geometries=[], gradient_opacity=0.22, interpolation=False, point_sets=[], rendered_label_map=<itk.itkIm…"
      ]
     },
     "metadata": {},
     "output_type": "display_data"
    }
   ],
   "source": [
    "# doesn't render itk.GetImageFromArray(islic)\n",
    "from skimage import img_as_ubyte,img_as_float64\n",
    "# Until ITK 5.1.1 is released\n",
    "islic_d = itk.array_view_from_image(islic).astype(np.float64)\n",
    "#islic_d = itk.cast_image_filter(islic, ttype=(type(islic), itk.Image[itk.F, 3]))\n",
    "view(label_map=islic_d, interpolation=False, ui_collapsed=True)"
   ]
  },
  {
   "cell_type": "code",
   "execution_count": 8,
   "metadata": {},
   "outputs": [
    {
     "ename": "TemplateTypeError",
     "evalue": "itk.ExtractImageFilter is not wrapped for input type `None`.\n\nTo limit the size of the package, only a limited number of\ntypes are available in ITK Python. To print the supported\ntypes, run the following command in your python environment:\n\n    itk.ExtractImageFilter.GetTypes()\n\nPossible solutions:\n* If you are an application user:\n** Convert your input image into a supported format (see below).\n** Contact developer to report the issue.\n* If you are an application developer, force input images to be\nloaded in a supported pixel type.\n\n    e.g.: instance = itk.ExtractImageFilter[itk.Image[itk.RGBPixel[itk.UC],2], itk.Image[itk.RGBPixel[itk.UC],2]].New(my_input)\n\n* (Advanced) If you are an application developer, build ITK Python yourself and\nturned to `ON` the corresponding CMake option to wrap the pixel type or image\ndimension you need. When configuring ITK with CMake, you can set\n`ITK_WRAP_${type}` (replace ${type} with appropriate pixel type such as\n`double`). If you need to support images with 4 or 5 dimensions, you can add\nthese dimensions to the list of dimensions in the CMake variable\n`ITK_WRAP_IMAGE_DIMS`.\n\nSupported input types:\n\nitk.Image[itk.RGBPixel[itk.UC],2]\nitk.Image[itk.RGBPixel[itk.UC],3]\nitk.Image[itk.RGBAPixel[itk.UC],2]\nitk.Image[itk.RGBAPixel[itk.UC],3]\nitk.Image[itk.Vector[itk.F,2],2]\nitk.Image[itk.Vector[itk.F,2],3]\nitk.Image[itk.Vector[itk.F,3],2]\nitk.Image[itk.Vector[itk.F,3],3]\nitk.Image[itk.Vector[itk.F,4],2]\nitk.Image[itk.Vector[itk.F,4],3]\nitk.Image[itk.CovariantVector[itk.F,2],2]\nitk.Image[itk.CovariantVector[itk.F,2],3]\nitk.Image[itk.CovariantVector[itk.F,3],2]\nitk.Image[itk.CovariantVector[itk.F,3],3]\nitk.Image[itk.CovariantVector[itk.F,4],2]\nitk.Image[itk.CovariantVector[itk.F,4],3]\nitk.Image[itk.SS,2]\nitk.Image[itk.SS,3]\nitk.Image[itk.UC,2]\nitk.Image[itk.UC,3]\nitk.Image[itk.US,2]\nitk.Image[itk.US,3]\nitk.Image[itk.F,2]\nitk.Image[itk.F,3]\nitk.Image[itk.D,2]\nitk.Image[itk.D,3]\nitk.Image[itk.complex[itk.F],2]\nitk.Image[itk.complex[itk.F],3]\nitk.Image[itk.SS,3]\nitk.Image[itk.UC,3]\nitk.Image[itk.US,3]\nitk.Image[itk.F,3]\nitk.Image[itk.D,3]\nitk.Image[itk.RGBPixel[itk.UC],3]\nitk.Image[itk.complex[itk.F],3]\n",
     "output_type": "error",
     "traceback": [
      "\u001b[0;31m----------------------------------------------------------------------\u001b[0m",
      "\u001b[0;31mTemplateTypeError\u001b[0m                    Traceback (most recent call last)",
      "\u001b[0;32m<ipython-input-8-eb9292ca2cf0>\u001b[0m in \u001b[0;36m<module>\u001b[0;34m\u001b[0m\n\u001b[0;32m----> 1\u001b[0;31m \u001b[0mviewer\u001b[0m \u001b[0;34m=\u001b[0m \u001b[0mview\u001b[0m\u001b[0;34m(\u001b[0m\u001b[0mimage\u001b[0m\u001b[0;34m=\u001b[0m\u001b[0mislic\u001b[0m\u001b[0;34m,\u001b[0m \u001b[0minterpolation\u001b[0m\u001b[0;34m=\u001b[0m\u001b[0;32mFalse\u001b[0m\u001b[0;34m,\u001b[0m \u001b[0mui_collapsed\u001b[0m\u001b[0;34m=\u001b[0m\u001b[0;32mTrue\u001b[0m\u001b[0;34m)\u001b[0m\u001b[0;34m\u001b[0m\u001b[0;34m\u001b[0m\u001b[0m\n\u001b[0m",
      "\u001b[0;32m~/anaconda3/envs/dip3d/lib/python3.7/site-packages/itkwidgets/widget_viewer.py\u001b[0m in \u001b[0;36mview\u001b[0;34m(image, label_map, label_map_names, label_map_weights, label_map_blend, cmap, select_roi, interpolation, gradient_opacity, opacity_gaussians, channels, slicing_planes, shadow, blend_mode, point_sets, point_set_colors, point_set_opacities, point_set_representations, geometries, geometry_colors, geometry_opacities, ui_collapsed, rotate, annotations, mode, **kwargs)\u001b[0m\n\u001b[1;32m   1000\u001b[0m                     \u001b[0mgeometries\u001b[0m\u001b[0;34m=\u001b[0m\u001b[0mgeometries\u001b[0m\u001b[0;34m,\u001b[0m \u001b[0mgeometry_colors\u001b[0m\u001b[0;34m=\u001b[0m\u001b[0mgeometry_colors\u001b[0m\u001b[0;34m,\u001b[0m \u001b[0mgeometry_opacities\u001b[0m\u001b[0;34m=\u001b[0m\u001b[0mgeometry_opacities\u001b[0m\u001b[0;34m,\u001b[0m\u001b[0;34m\u001b[0m\u001b[0;34m\u001b[0m\u001b[0m\n\u001b[1;32m   1001\u001b[0m                     \u001b[0mrotate\u001b[0m\u001b[0;34m=\u001b[0m\u001b[0mrotate\u001b[0m\u001b[0;34m,\u001b[0m \u001b[0mui_collapsed\u001b[0m\u001b[0;34m=\u001b[0m\u001b[0mui_collapsed\u001b[0m\u001b[0;34m,\u001b[0m \u001b[0mannotations\u001b[0m\u001b[0;34m=\u001b[0m\u001b[0mannotations\u001b[0m\u001b[0;34m,\u001b[0m \u001b[0mmode\u001b[0m\u001b[0;34m=\u001b[0m\u001b[0mmode\u001b[0m\u001b[0;34m,\u001b[0m\u001b[0;34m\u001b[0m\u001b[0;34m\u001b[0m\u001b[0m\n\u001b[0;32m-> 1002\u001b[0;31m                     **kwargs)\n\u001b[0m\u001b[1;32m   1003\u001b[0m     \u001b[0;32mreturn\u001b[0m \u001b[0mviewer\u001b[0m\u001b[0;34m\u001b[0m\u001b[0;34m\u001b[0m\u001b[0m\n",
      "\u001b[0;32m~/anaconda3/envs/dip3d/lib/python3.7/site-packages/itkwidgets/widget_viewer.py\u001b[0m in \u001b[0;36m__init__\u001b[0;34m(self, **kwargs)\u001b[0m\n\u001b[1;32m    387\u001b[0m                     \u001b[0mself\u001b[0m\u001b[0;34m.\u001b[0m\u001b[0m_downsampling\u001b[0m \u001b[0;34m=\u001b[0m \u001b[0;32mTrue\u001b[0m\u001b[0;34m\u001b[0m\u001b[0;34m\u001b[0m\u001b[0m\n\u001b[1;32m    388\u001b[0m         \u001b[0;32mif\u001b[0m \u001b[0mself\u001b[0m\u001b[0;34m.\u001b[0m\u001b[0m_downsampling\u001b[0m \u001b[0;32mand\u001b[0m \u001b[0mself\u001b[0m\u001b[0;34m.\u001b[0m\u001b[0mimage\u001b[0m\u001b[0;34m:\u001b[0m\u001b[0;34m\u001b[0m\u001b[0;34m\u001b[0m\u001b[0m\n\u001b[0;32m--> 389\u001b[0;31m             \u001b[0mself\u001b[0m\u001b[0;34m.\u001b[0m\u001b[0mextractor\u001b[0m \u001b[0;34m=\u001b[0m \u001b[0mitk\u001b[0m\u001b[0;34m.\u001b[0m\u001b[0mExtractImageFilter\u001b[0m\u001b[0;34m.\u001b[0m\u001b[0mNew\u001b[0m\u001b[0;34m(\u001b[0m\u001b[0mself\u001b[0m\u001b[0;34m.\u001b[0m\u001b[0mimage\u001b[0m\u001b[0;34m)\u001b[0m\u001b[0;34m\u001b[0m\u001b[0;34m\u001b[0m\u001b[0m\n\u001b[0m\u001b[1;32m    390\u001b[0m             \u001b[0mself\u001b[0m\u001b[0;34m.\u001b[0m\u001b[0mshrinker\u001b[0m \u001b[0;34m=\u001b[0m \u001b[0mitk\u001b[0m\u001b[0;34m.\u001b[0m\u001b[0mBinShrinkImageFilter\u001b[0m\u001b[0;34m.\u001b[0m\u001b[0mNew\u001b[0m\u001b[0;34m(\u001b[0m\u001b[0mself\u001b[0m\u001b[0;34m.\u001b[0m\u001b[0mextractor\u001b[0m\u001b[0;34m)\u001b[0m\u001b[0;34m\u001b[0m\u001b[0;34m\u001b[0m\u001b[0m\n\u001b[1;32m    391\u001b[0m         \u001b[0;32mif\u001b[0m \u001b[0mself\u001b[0m\u001b[0;34m.\u001b[0m\u001b[0m_downsampling\u001b[0m \u001b[0;32mand\u001b[0m \u001b[0mself\u001b[0m\u001b[0;34m.\u001b[0m\u001b[0mlabel_map\u001b[0m\u001b[0;34m:\u001b[0m\u001b[0;34m\u001b[0m\u001b[0;34m\u001b[0m\u001b[0m\n",
      "\u001b[0;32m~/anaconda3/envs/dip3d/lib/python3.7/site-packages/itkTemplate.py\u001b[0m in \u001b[0;36mNew\u001b[0;34m(self, *args, **kwargs)\u001b[0m\n\u001b[1;32m    522\u001b[0m or via one of the following keyword arguments: %s\"\"\" % \", \".join(primary_input_methods))\n\u001b[1;32m    523\u001b[0m             \u001b[0;32melse\u001b[0m\u001b[0;34m:\u001b[0m\u001b[0;34m\u001b[0m\u001b[0;34m\u001b[0m\u001b[0m\n\u001b[0;32m--> 524\u001b[0;31m                 \u001b[0;32mraise\u001b[0m \u001b[0mTemplateTypeError\u001b[0m\u001b[0;34m(\u001b[0m\u001b[0mself\u001b[0m\u001b[0;34m,\u001b[0m \u001b[0minput_type\u001b[0m\u001b[0;34m)\u001b[0m\u001b[0;34m\u001b[0m\u001b[0;34m\u001b[0m\u001b[0m\n\u001b[0m\u001b[1;32m    525\u001b[0m         \u001b[0;32mreturn\u001b[0m \u001b[0mself\u001b[0m\u001b[0;34m[\u001b[0m\u001b[0mlist\u001b[0m\u001b[0;34m(\u001b[0m\u001b[0mkeys\u001b[0m\u001b[0;34m)\u001b[0m\u001b[0;34m[\u001b[0m\u001b[0;36m0\u001b[0m\u001b[0;34m]\u001b[0m\u001b[0;34m]\u001b[0m\u001b[0;34m.\u001b[0m\u001b[0mNew\u001b[0m\u001b[0;34m(\u001b[0m\u001b[0;34m*\u001b[0m\u001b[0margs\u001b[0m\u001b[0;34m,\u001b[0m \u001b[0;34m**\u001b[0m\u001b[0mkwargs\u001b[0m\u001b[0;34m)\u001b[0m\u001b[0;34m\u001b[0m\u001b[0;34m\u001b[0m\u001b[0m\n\u001b[1;32m    526\u001b[0m \u001b[0;34m\u001b[0m\u001b[0m\n",
      "\u001b[0;31mTemplateTypeError\u001b[0m: itk.ExtractImageFilter is not wrapped for input type `None`.\n\nTo limit the size of the package, only a limited number of\ntypes are available in ITK Python. To print the supported\ntypes, run the following command in your python environment:\n\n    itk.ExtractImageFilter.GetTypes()\n\nPossible solutions:\n* If you are an application user:\n** Convert your input image into a supported format (see below).\n** Contact developer to report the issue.\n* If you are an application developer, force input images to be\nloaded in a supported pixel type.\n\n    e.g.: instance = itk.ExtractImageFilter[itk.Image[itk.RGBPixel[itk.UC],2], itk.Image[itk.RGBPixel[itk.UC],2]].New(my_input)\n\n* (Advanced) If you are an application developer, build ITK Python yourself and\nturned to `ON` the corresponding CMake option to wrap the pixel type or image\ndimension you need. When configuring ITK with CMake, you can set\n`ITK_WRAP_${type}` (replace ${type} with appropriate pixel type such as\n`double`). If you need to support images with 4 or 5 dimensions, you can add\nthese dimensions to the list of dimensions in the CMake variable\n`ITK_WRAP_IMAGE_DIMS`.\n\nSupported input types:\n\nitk.Image[itk.RGBPixel[itk.UC],2]\nitk.Image[itk.RGBPixel[itk.UC],3]\nitk.Image[itk.RGBAPixel[itk.UC],2]\nitk.Image[itk.RGBAPixel[itk.UC],3]\nitk.Image[itk.Vector[itk.F,2],2]\nitk.Image[itk.Vector[itk.F,2],3]\nitk.Image[itk.Vector[itk.F,3],2]\nitk.Image[itk.Vector[itk.F,3],3]\nitk.Image[itk.Vector[itk.F,4],2]\nitk.Image[itk.Vector[itk.F,4],3]\nitk.Image[itk.CovariantVector[itk.F,2],2]\nitk.Image[itk.CovariantVector[itk.F,2],3]\nitk.Image[itk.CovariantVector[itk.F,3],2]\nitk.Image[itk.CovariantVector[itk.F,3],3]\nitk.Image[itk.CovariantVector[itk.F,4],2]\nitk.Image[itk.CovariantVector[itk.F,4],3]\nitk.Image[itk.SS,2]\nitk.Image[itk.SS,3]\nitk.Image[itk.UC,2]\nitk.Image[itk.UC,3]\nitk.Image[itk.US,2]\nitk.Image[itk.US,3]\nitk.Image[itk.F,2]\nitk.Image[itk.F,3]\nitk.Image[itk.D,2]\nitk.Image[itk.D,3]\nitk.Image[itk.complex[itk.F],2]\nitk.Image[itk.complex[itk.F],3]\nitk.Image[itk.SS,3]\nitk.Image[itk.UC,3]\nitk.Image[itk.US,3]\nitk.Image[itk.F,3]\nitk.Image[itk.D,3]\nitk.Image[itk.RGBPixel[itk.UC],3]\nitk.Image[itk.complex[itk.F],3]\n"
     ]
    }
   ],
   "source": [
    "viewer = view(image=islic, interpolation=False, ui_collapsed=True)"
   ]
  },
  {
   "cell_type": "code",
   "execution_count": null,
   "metadata": {},
   "outputs": [],
   "source": [
    "print(islic)"
   ]
  },
  {
   "cell_type": "code",
   "execution_count": 9,
   "metadata": {},
   "outputs": [
    {
     "ename": "TemplateTypeError",
     "evalue": "itk.ExtractImageFilter is not wrapped for input type `None`.\n\nTo limit the size of the package, only a limited number of\ntypes are available in ITK Python. To print the supported\ntypes, run the following command in your python environment:\n\n    itk.ExtractImageFilter.GetTypes()\n\nPossible solutions:\n* If you are an application user:\n** Convert your input image into a supported format (see below).\n** Contact developer to report the issue.\n* If you are an application developer, force input images to be\nloaded in a supported pixel type.\n\n    e.g.: instance = itk.ExtractImageFilter[itk.Image[itk.RGBPixel[itk.UC],2], itk.Image[itk.RGBPixel[itk.UC],2]].New(my_input)\n\n* (Advanced) If you are an application developer, build ITK Python yourself and\nturned to `ON` the corresponding CMake option to wrap the pixel type or image\ndimension you need. When configuring ITK with CMake, you can set\n`ITK_WRAP_${type}` (replace ${type} with appropriate pixel type such as\n`double`). If you need to support images with 4 or 5 dimensions, you can add\nthese dimensions to the list of dimensions in the CMake variable\n`ITK_WRAP_IMAGE_DIMS`.\n\nSupported input types:\n\nitk.Image[itk.RGBPixel[itk.UC],2]\nitk.Image[itk.RGBPixel[itk.UC],3]\nitk.Image[itk.RGBAPixel[itk.UC],2]\nitk.Image[itk.RGBAPixel[itk.UC],3]\nitk.Image[itk.Vector[itk.F,2],2]\nitk.Image[itk.Vector[itk.F,2],3]\nitk.Image[itk.Vector[itk.F,3],2]\nitk.Image[itk.Vector[itk.F,3],3]\nitk.Image[itk.Vector[itk.F,4],2]\nitk.Image[itk.Vector[itk.F,4],3]\nitk.Image[itk.CovariantVector[itk.F,2],2]\nitk.Image[itk.CovariantVector[itk.F,2],3]\nitk.Image[itk.CovariantVector[itk.F,3],2]\nitk.Image[itk.CovariantVector[itk.F,3],3]\nitk.Image[itk.CovariantVector[itk.F,4],2]\nitk.Image[itk.CovariantVector[itk.F,4],3]\nitk.Image[itk.SS,2]\nitk.Image[itk.SS,3]\nitk.Image[itk.UC,2]\nitk.Image[itk.UC,3]\nitk.Image[itk.US,2]\nitk.Image[itk.US,3]\nitk.Image[itk.F,2]\nitk.Image[itk.F,3]\nitk.Image[itk.D,2]\nitk.Image[itk.D,3]\nitk.Image[itk.complex[itk.F],2]\nitk.Image[itk.complex[itk.F],3]\nitk.Image[itk.SS,3]\nitk.Image[itk.UC,3]\nitk.Image[itk.US,3]\nitk.Image[itk.F,3]\nitk.Image[itk.D,3]\nitk.Image[itk.RGBPixel[itk.UC],3]\nitk.Image[itk.complex[itk.F],3]\n",
     "output_type": "error",
     "traceback": [
      "\u001b[0;31m----------------------------------------------------------------------\u001b[0m",
      "\u001b[0;31mTemplateTypeError\u001b[0m                    Traceback (most recent call last)",
      "\u001b[0;32m<ipython-input-9-c6154867b8b8>\u001b[0m in \u001b[0;36m<module>\u001b[0;34m\u001b[0m\n\u001b[1;32m      1\u001b[0m \u001b[0mislic\u001b[0m \u001b[0;34m=\u001b[0m \u001b[0mitk\u001b[0m\u001b[0;34m.\u001b[0m\u001b[0mslic_image_filter\u001b[0m\u001b[0;34m(\u001b[0m\u001b[0mb\u001b[0m\u001b[0;34m)\u001b[0m\u001b[0;34m\u001b[0m\u001b[0;34m\u001b[0m\u001b[0m\n\u001b[0;32m----> 2\u001b[0;31m \u001b[0mviewer\u001b[0m \u001b[0;34m=\u001b[0m \u001b[0mview\u001b[0m\u001b[0;34m(\u001b[0m\u001b[0mimage\u001b[0m\u001b[0;34m=\u001b[0m\u001b[0mislic\u001b[0m\u001b[0;34m,\u001b[0m \u001b[0minterpolation\u001b[0m\u001b[0;34m=\u001b[0m\u001b[0;32mFalse\u001b[0m\u001b[0;34m,\u001b[0m \u001b[0mui_collapsed\u001b[0m\u001b[0;34m=\u001b[0m\u001b[0;32mTrue\u001b[0m\u001b[0;34m)\u001b[0m\u001b[0;34m\u001b[0m\u001b[0;34m\u001b[0m\u001b[0m\n\u001b[0m\u001b[1;32m      3\u001b[0m \u001b[0;34m\u001b[0m\u001b[0m\n\u001b[1;32m      4\u001b[0m \u001b[0;32mdef\u001b[0m \u001b[0mrun_slic\u001b[0m\u001b[0;34m(\u001b[0m\u001b[0miterations\u001b[0m\u001b[0;34m=\u001b[0m\u001b[0;36m10\u001b[0m\u001b[0;34m,\u001b[0m \u001b[0mspatial_proximity_weight\u001b[0m\u001b[0;34m=\u001b[0m\u001b[0;36m10.\u001b[0m\u001b[0;34m,\u001b[0m \u001b[0msuper_grid_size\u001b[0m\u001b[0;34m=\u001b[0m\u001b[0;36m50\u001b[0m\u001b[0;34m)\u001b[0m\u001b[0;34m:\u001b[0m\u001b[0;34m\u001b[0m\u001b[0;34m\u001b[0m\u001b[0m\n\u001b[1;32m      5\u001b[0m     islic = itk.slic_image_filter(b,\n",
      "\u001b[0;32m~/anaconda3/envs/dip3d/lib/python3.7/site-packages/itkwidgets/widget_viewer.py\u001b[0m in \u001b[0;36mview\u001b[0;34m(image, label_map, label_map_names, label_map_weights, label_map_blend, cmap, select_roi, interpolation, gradient_opacity, opacity_gaussians, channels, slicing_planes, shadow, blend_mode, point_sets, point_set_colors, point_set_opacities, point_set_representations, geometries, geometry_colors, geometry_opacities, ui_collapsed, rotate, annotations, mode, **kwargs)\u001b[0m\n\u001b[1;32m   1000\u001b[0m                     \u001b[0mgeometries\u001b[0m\u001b[0;34m=\u001b[0m\u001b[0mgeometries\u001b[0m\u001b[0;34m,\u001b[0m \u001b[0mgeometry_colors\u001b[0m\u001b[0;34m=\u001b[0m\u001b[0mgeometry_colors\u001b[0m\u001b[0;34m,\u001b[0m \u001b[0mgeometry_opacities\u001b[0m\u001b[0;34m=\u001b[0m\u001b[0mgeometry_opacities\u001b[0m\u001b[0;34m,\u001b[0m\u001b[0;34m\u001b[0m\u001b[0;34m\u001b[0m\u001b[0m\n\u001b[1;32m   1001\u001b[0m                     \u001b[0mrotate\u001b[0m\u001b[0;34m=\u001b[0m\u001b[0mrotate\u001b[0m\u001b[0;34m,\u001b[0m \u001b[0mui_collapsed\u001b[0m\u001b[0;34m=\u001b[0m\u001b[0mui_collapsed\u001b[0m\u001b[0;34m,\u001b[0m \u001b[0mannotations\u001b[0m\u001b[0;34m=\u001b[0m\u001b[0mannotations\u001b[0m\u001b[0;34m,\u001b[0m \u001b[0mmode\u001b[0m\u001b[0;34m=\u001b[0m\u001b[0mmode\u001b[0m\u001b[0;34m,\u001b[0m\u001b[0;34m\u001b[0m\u001b[0;34m\u001b[0m\u001b[0m\n\u001b[0;32m-> 1002\u001b[0;31m                     **kwargs)\n\u001b[0m\u001b[1;32m   1003\u001b[0m     \u001b[0;32mreturn\u001b[0m \u001b[0mviewer\u001b[0m\u001b[0;34m\u001b[0m\u001b[0;34m\u001b[0m\u001b[0m\n",
      "\u001b[0;32m~/anaconda3/envs/dip3d/lib/python3.7/site-packages/itkwidgets/widget_viewer.py\u001b[0m in \u001b[0;36m__init__\u001b[0;34m(self, **kwargs)\u001b[0m\n\u001b[1;32m    387\u001b[0m                     \u001b[0mself\u001b[0m\u001b[0;34m.\u001b[0m\u001b[0m_downsampling\u001b[0m \u001b[0;34m=\u001b[0m \u001b[0;32mTrue\u001b[0m\u001b[0;34m\u001b[0m\u001b[0;34m\u001b[0m\u001b[0m\n\u001b[1;32m    388\u001b[0m         \u001b[0;32mif\u001b[0m \u001b[0mself\u001b[0m\u001b[0;34m.\u001b[0m\u001b[0m_downsampling\u001b[0m \u001b[0;32mand\u001b[0m \u001b[0mself\u001b[0m\u001b[0;34m.\u001b[0m\u001b[0mimage\u001b[0m\u001b[0;34m:\u001b[0m\u001b[0;34m\u001b[0m\u001b[0;34m\u001b[0m\u001b[0m\n\u001b[0;32m--> 389\u001b[0;31m             \u001b[0mself\u001b[0m\u001b[0;34m.\u001b[0m\u001b[0mextractor\u001b[0m \u001b[0;34m=\u001b[0m \u001b[0mitk\u001b[0m\u001b[0;34m.\u001b[0m\u001b[0mExtractImageFilter\u001b[0m\u001b[0;34m.\u001b[0m\u001b[0mNew\u001b[0m\u001b[0;34m(\u001b[0m\u001b[0mself\u001b[0m\u001b[0;34m.\u001b[0m\u001b[0mimage\u001b[0m\u001b[0;34m)\u001b[0m\u001b[0;34m\u001b[0m\u001b[0;34m\u001b[0m\u001b[0m\n\u001b[0m\u001b[1;32m    390\u001b[0m             \u001b[0mself\u001b[0m\u001b[0;34m.\u001b[0m\u001b[0mshrinker\u001b[0m \u001b[0;34m=\u001b[0m \u001b[0mitk\u001b[0m\u001b[0;34m.\u001b[0m\u001b[0mBinShrinkImageFilter\u001b[0m\u001b[0;34m.\u001b[0m\u001b[0mNew\u001b[0m\u001b[0;34m(\u001b[0m\u001b[0mself\u001b[0m\u001b[0;34m.\u001b[0m\u001b[0mextractor\u001b[0m\u001b[0;34m)\u001b[0m\u001b[0;34m\u001b[0m\u001b[0;34m\u001b[0m\u001b[0m\n\u001b[1;32m    391\u001b[0m         \u001b[0;32mif\u001b[0m \u001b[0mself\u001b[0m\u001b[0;34m.\u001b[0m\u001b[0m_downsampling\u001b[0m \u001b[0;32mand\u001b[0m \u001b[0mself\u001b[0m\u001b[0;34m.\u001b[0m\u001b[0mlabel_map\u001b[0m\u001b[0;34m:\u001b[0m\u001b[0;34m\u001b[0m\u001b[0;34m\u001b[0m\u001b[0m\n",
      "\u001b[0;32m~/anaconda3/envs/dip3d/lib/python3.7/site-packages/itkTemplate.py\u001b[0m in \u001b[0;36mNew\u001b[0;34m(self, *args, **kwargs)\u001b[0m\n\u001b[1;32m    522\u001b[0m or via one of the following keyword arguments: %s\"\"\" % \", \".join(primary_input_methods))\n\u001b[1;32m    523\u001b[0m             \u001b[0;32melse\u001b[0m\u001b[0;34m:\u001b[0m\u001b[0;34m\u001b[0m\u001b[0;34m\u001b[0m\u001b[0m\n\u001b[0;32m--> 524\u001b[0;31m                 \u001b[0;32mraise\u001b[0m \u001b[0mTemplateTypeError\u001b[0m\u001b[0;34m(\u001b[0m\u001b[0mself\u001b[0m\u001b[0;34m,\u001b[0m \u001b[0minput_type\u001b[0m\u001b[0;34m)\u001b[0m\u001b[0;34m\u001b[0m\u001b[0;34m\u001b[0m\u001b[0m\n\u001b[0m\u001b[1;32m    525\u001b[0m         \u001b[0;32mreturn\u001b[0m \u001b[0mself\u001b[0m\u001b[0;34m[\u001b[0m\u001b[0mlist\u001b[0m\u001b[0;34m(\u001b[0m\u001b[0mkeys\u001b[0m\u001b[0;34m)\u001b[0m\u001b[0;34m[\u001b[0m\u001b[0;36m0\u001b[0m\u001b[0;34m]\u001b[0m\u001b[0;34m]\u001b[0m\u001b[0;34m.\u001b[0m\u001b[0mNew\u001b[0m\u001b[0;34m(\u001b[0m\u001b[0;34m*\u001b[0m\u001b[0margs\u001b[0m\u001b[0;34m,\u001b[0m \u001b[0;34m**\u001b[0m\u001b[0mkwargs\u001b[0m\u001b[0;34m)\u001b[0m\u001b[0;34m\u001b[0m\u001b[0;34m\u001b[0m\u001b[0m\n\u001b[1;32m    526\u001b[0m \u001b[0;34m\u001b[0m\u001b[0m\n",
      "\u001b[0;31mTemplateTypeError\u001b[0m: itk.ExtractImageFilter is not wrapped for input type `None`.\n\nTo limit the size of the package, only a limited number of\ntypes are available in ITK Python. To print the supported\ntypes, run the following command in your python environment:\n\n    itk.ExtractImageFilter.GetTypes()\n\nPossible solutions:\n* If you are an application user:\n** Convert your input image into a supported format (see below).\n** Contact developer to report the issue.\n* If you are an application developer, force input images to be\nloaded in a supported pixel type.\n\n    e.g.: instance = itk.ExtractImageFilter[itk.Image[itk.RGBPixel[itk.UC],2], itk.Image[itk.RGBPixel[itk.UC],2]].New(my_input)\n\n* (Advanced) If you are an application developer, build ITK Python yourself and\nturned to `ON` the corresponding CMake option to wrap the pixel type or image\ndimension you need. When configuring ITK with CMake, you can set\n`ITK_WRAP_${type}` (replace ${type} with appropriate pixel type such as\n`double`). If you need to support images with 4 or 5 dimensions, you can add\nthese dimensions to the list of dimensions in the CMake variable\n`ITK_WRAP_IMAGE_DIMS`.\n\nSupported input types:\n\nitk.Image[itk.RGBPixel[itk.UC],2]\nitk.Image[itk.RGBPixel[itk.UC],3]\nitk.Image[itk.RGBAPixel[itk.UC],2]\nitk.Image[itk.RGBAPixel[itk.UC],3]\nitk.Image[itk.Vector[itk.F,2],2]\nitk.Image[itk.Vector[itk.F,2],3]\nitk.Image[itk.Vector[itk.F,3],2]\nitk.Image[itk.Vector[itk.F,3],3]\nitk.Image[itk.Vector[itk.F,4],2]\nitk.Image[itk.Vector[itk.F,4],3]\nitk.Image[itk.CovariantVector[itk.F,2],2]\nitk.Image[itk.CovariantVector[itk.F,2],3]\nitk.Image[itk.CovariantVector[itk.F,3],2]\nitk.Image[itk.CovariantVector[itk.F,3],3]\nitk.Image[itk.CovariantVector[itk.F,4],2]\nitk.Image[itk.CovariantVector[itk.F,4],3]\nitk.Image[itk.SS,2]\nitk.Image[itk.SS,3]\nitk.Image[itk.UC,2]\nitk.Image[itk.UC,3]\nitk.Image[itk.US,2]\nitk.Image[itk.US,3]\nitk.Image[itk.F,2]\nitk.Image[itk.F,3]\nitk.Image[itk.D,2]\nitk.Image[itk.D,3]\nitk.Image[itk.complex[itk.F],2]\nitk.Image[itk.complex[itk.F],3]\nitk.Image[itk.SS,3]\nitk.Image[itk.UC,3]\nitk.Image[itk.US,3]\nitk.Image[itk.F,3]\nitk.Image[itk.D,3]\nitk.Image[itk.RGBPixel[itk.UC],3]\nitk.Image[itk.complex[itk.F],3]\n"
     ]
    }
   ],
   "source": [
    "islic = itk.slic_image_filter(b)\n",
    "viewer = view(image=islic, interpolation=False, ui_collapsed=True)\n",
    "\n",
    "def run_slic(iterations=10, spatial_proximity_weight=10., super_grid_size=50):\n",
    "    islic = itk.slic_image_filter(b,\n",
    "                                  maximum_number_of_iterations=iterations,\n",
    "                                  spatial_proximity_weight=spatial_proximity_weight,\n",
    "                                  super_grid_size=super_grid_size)\n",
    "    viewer.image = islic\n",
    "\n",
    "sliders = interactive(run_slic,\n",
    "                      iterations=(1, 20, 1),\n",
    "                      spatial_proximity_weight=(1.0, 40.0, 1.0),\n",
    "                      super_grid_size=(8, 80, 4),\n",
    "                      continuous_update=False)\n",
    "\n",
    "VBox([viewer, sliders])"
   ]
  },
  {
   "cell_type": "code",
   "execution_count": null,
   "metadata": {},
   "outputs": [],
   "source": [
    "array = np.asarray(islic)"
   ]
  },
  {
   "cell_type": "code",
   "execution_count": null,
   "metadata": {},
   "outputs": [],
   "source": [
    "min = np.min(array)\n",
    "\n",
    "max = np.max(array)\n",
    "\n",
    "mean = np.mean(array)"
   ]
  },
  {
   "cell_type": "code",
   "execution_count": null,
   "metadata": {},
   "outputs": [],
   "source": []
  }
 ],
 "metadata": {
  "kernelspec": {
   "display_name": "Python 3",
   "language": "python",
   "name": "python3"
  },
  "language_info": {
   "codemirror_mode": {
    "name": "ipython",
    "version": 3
   },
   "file_extension": ".py",
   "mimetype": "text/x-python",
   "name": "python",
   "nbconvert_exporter": "python",
   "pygments_lexer": "ipython3",
   "version": "3.7.7"
  },
  "toc": {
   "base_numbering": 1,
   "nav_menu": {},
   "number_sections": true,
   "sideBar": true,
   "skip_h1_title": false,
   "title_cell": "Table of Contents",
   "title_sidebar": "Contents",
   "toc_cell": false,
   "toc_position": {},
   "toc_section_display": true,
   "toc_window_display": false
  }
 },
 "nbformat": 4,
 "nbformat_minor": 2
}
