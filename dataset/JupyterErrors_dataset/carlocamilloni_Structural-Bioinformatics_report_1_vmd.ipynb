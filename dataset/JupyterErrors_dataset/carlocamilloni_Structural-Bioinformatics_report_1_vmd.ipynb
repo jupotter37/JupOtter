{
  "nbformat": 4,
  "nbformat_minor": 0,
  "metadata": {
    "colab": {
      "name": "report_1_vmd.ipynb",
      "provenance": [],
      "collapsed_sections": [
        "UFymope2e12l",
        "15uaj6r3iMiS",
        "1TgGQL3K2RRE",
        "xpQtmCkOpq2_",
        "dPnY__n_n98v",
        "LW6uLL-Zn98w",
        "HoD4UmzRn98y",
        "iG0e--lNvLBQ",
        "Ge0mpLr0HI3o",
        "KjY0f0PZFPrQ",
        "_Twcsx45vjn1",
        "TYTtnqKykHoh",
        "mJ5N9k2Uh-Km",
        "Sngj5A18lXkc",
        "PuRyHnXVh-L1",
        "avMpCAihh-L1",
        "yDojx1I6h-L1",
        "Vx58xIUch-L2",
        "Bw7U08o5h-L2",
        "wCeZpa40h-L2",
        "O8pcyPz1h-L2",
        "4chLU4Uclr-F",
        "BDdkXICKh-LY",
        "JNQV86LYh-Kz",
        "sPInh2E_h-LB",
        "9SNVANvoh-LF",
        "00AvEQZch-LK",
        "XbKvjZF5h-LN",
        "zaOIoAzfh-LU",
        "kRcCCmnbh-LW",
        "AMRn-yH-h-LY",
        "O4h2Ne2th-LZ",
        "tybiSZtlh-Lc",
        "LW8dk0jqh-Lk",
        "H7QoSWk-h-Lf",
        "A-E1DJY9h-Kb"
      ],
      "include_colab_link": true
    },
    "kernelspec": {
      "name": "python3",
      "display_name": "Python 3"
    }
  },
  "cells": [
    {
      "cell_type": "markdown",
      "metadata": {
        "id": "view-in-github",
        "colab_type": "text"
      },
      "source": [
        "<a href=\"https://colab.research.google.com/github/carlocamilloni/Structural-Bioinformatics/blob/main/Notebooks/report_1_vmd.ipynb\" target=\"_parent\"><img src=\"https://colab.research.google.com/assets/colab-badge.svg\" alt=\"Open In Colab\"/></a>"
      ]
    },
    {
      "cell_type": "markdown",
      "source": [
        "# Visualisation of Biomolecules"
      ],
      "metadata": {
        "id": "UJu2hRutSecd"
      }
    },
    {
      "cell_type": "markdown",
      "source": [
        "Start by saving a copy of this **notebook** in your Google Drive.\n",
        "\n",
        "Rename the notebook as Visualisation.ipynb"
      ],
      "metadata": {
        "id": "yOCFmnMif5Z0"
      }
    },
    {
      "cell_type": "markdown",
      "source": [
        "## Part I. Files, Folder and Images"
      ],
      "metadata": {
        "id": "0wfzPeqOVeff"
      }
    },
    {
      "cell_type": "markdown",
      "metadata": {
        "id": "PvbV-LeUpHJS"
      },
      "source": [
        "### Mount your google drive disk\n",
        "By running the code in the next cell you will be able to access your google drive folders from colab, see the side bar"
      ]
    },
    {
      "cell_type": "code",
      "metadata": {
        "id": "QCC-s3vnDKlq"
      },
      "source": [
        "from google.colab import drive\n",
        "drive.mount('/content/drive')"
      ],
      "execution_count": null,
      "outputs": []
    },
    {
      "cell_type": "markdown",
      "source": [
        "Now you can **make a folder Structural_Bioinformatics** in your google drive by using the menu on the left side of the browser, into this folder make a folder **Task1**.\n",
        "\n",
        "**Then upload all the images you made with VMD in the folder Task1.** To upload an image you can right click on the folder name, again here on the left and chose upload, then you can search on your PC for what to upload."
      ],
      "metadata": {
        "id": "9_5PxCrpVpLG"
      }
    },
    {
      "cell_type": "markdown",
      "metadata": {
        "id": "xpQtmCkOpq2_"
      },
      "source": [
        "### Images\n",
        "\n",
        "Once an image is uploaded somewhere in your Google Drive you can load it using the code in the next cell. There you need to correctly set the **PATH** to the file you want to show. To do this you can find the file in the navigation tab on the left, right click on the file and copy path. Then paste the path inside **imread(\"\")**"
      ]
    },
    {
      "cell_type": "code",
      "metadata": {
        "id": "-Er5BSWm4EEi",
        "outputId": "b20ae7dc-a28c-4cb6-f5f8-19bf3fe40ded",
        "colab": {
          "base_uri": "https://localhost:8080/",
          "height": 327
        }
      },
      "source": [
        "import cv2\n",
        "from google.colab.patches import cv2_imshow\n",
        "img = cv2.imread(\"/content/drive/MyDrive/Structural_Bioinformatics/Task1/Screenshot 2022-10-10 at 16.53.10.png\")\n",
        "cv2_imshow(img)"
      ],
      "execution_count": null,
      "outputs": [
        {
          "output_type": "error",
          "ename": "AttributeError",
          "evalue": "ignored",
          "traceback": [
            "\u001b[0;31m---------------------------------------------------------------------------\u001b[0m",
            "\u001b[0;31mAttributeError\u001b[0m                            Traceback (most recent call last)",
            "\u001b[0;32m<ipython-input-1-e38fb179ae9c>\u001b[0m in \u001b[0;36m<cell line: 4>\u001b[0;34m()\u001b[0m\n\u001b[1;32m      2\u001b[0m \u001b[0;32mfrom\u001b[0m \u001b[0mgoogle\u001b[0m\u001b[0;34m.\u001b[0m\u001b[0mcolab\u001b[0m\u001b[0;34m.\u001b[0m\u001b[0mpatches\u001b[0m \u001b[0;32mimport\u001b[0m \u001b[0mcv2_imshow\u001b[0m\u001b[0;34m\u001b[0m\u001b[0;34m\u001b[0m\u001b[0m\n\u001b[1;32m      3\u001b[0m \u001b[0mimg\u001b[0m \u001b[0;34m=\u001b[0m \u001b[0mcv2\u001b[0m\u001b[0;34m.\u001b[0m\u001b[0mimread\u001b[0m\u001b[0;34m(\u001b[0m\u001b[0;34m\"/content/drive/MyDrive/Structural_Bioinformatics/Task1/Screenshot 2022-10-10 at 16.53.10.png\"\u001b[0m\u001b[0;34m)\u001b[0m\u001b[0;34m\u001b[0m\u001b[0;34m\u001b[0m\u001b[0m\n\u001b[0;32m----> 4\u001b[0;31m \u001b[0mcv2_imshow\u001b[0m\u001b[0;34m(\u001b[0m\u001b[0mimg\u001b[0m\u001b[0;34m)\u001b[0m\u001b[0;34m\u001b[0m\u001b[0;34m\u001b[0m\u001b[0m\n\u001b[0m",
            "\u001b[0;32m/usr/local/lib/python3.10/dist-packages/google/colab/patches/__init__.py\u001b[0m in \u001b[0;36mcv2_imshow\u001b[0;34m(a)\u001b[0m\n\u001b[1;32m     16\u001b[0m       \u001b[0;34m(\u001b[0m\u001b[0mN\u001b[0m\u001b[0;34m,\u001b[0m \u001b[0mM\u001b[0m\u001b[0;34m,\u001b[0m \u001b[0;36m4\u001b[0m\u001b[0;34m)\u001b[0m \u001b[0;32mis\u001b[0m \u001b[0man\u001b[0m \u001b[0mNxM\u001b[0m \u001b[0mBGRA\u001b[0m \u001b[0mcolor\u001b[0m \u001b[0mimage\u001b[0m\u001b[0;34m.\u001b[0m\u001b[0;34m\u001b[0m\u001b[0;34m\u001b[0m\u001b[0m\n\u001b[1;32m     17\u001b[0m   \"\"\"\n\u001b[0;32m---> 18\u001b[0;31m   \u001b[0ma\u001b[0m \u001b[0;34m=\u001b[0m \u001b[0ma\u001b[0m\u001b[0;34m.\u001b[0m\u001b[0mclip\u001b[0m\u001b[0;34m(\u001b[0m\u001b[0;36m0\u001b[0m\u001b[0;34m,\u001b[0m \u001b[0;36m255\u001b[0m\u001b[0;34m)\u001b[0m\u001b[0;34m.\u001b[0m\u001b[0mastype\u001b[0m\u001b[0;34m(\u001b[0m\u001b[0;34m'uint8'\u001b[0m\u001b[0;34m)\u001b[0m\u001b[0;34m\u001b[0m\u001b[0;34m\u001b[0m\u001b[0m\n\u001b[0m\u001b[1;32m     19\u001b[0m   \u001b[0;31m# cv2 stores colors as BGR; convert to RGB\u001b[0m\u001b[0;34m\u001b[0m\u001b[0;34m\u001b[0m\u001b[0m\n\u001b[1;32m     20\u001b[0m   \u001b[0;32mif\u001b[0m \u001b[0ma\u001b[0m\u001b[0;34m.\u001b[0m\u001b[0mndim\u001b[0m \u001b[0;34m==\u001b[0m \u001b[0;36m3\u001b[0m\u001b[0;34m:\u001b[0m\u001b[0;34m\u001b[0m\u001b[0;34m\u001b[0m\u001b[0m\n",
            "\u001b[0;31mAttributeError\u001b[0m: 'NoneType' object has no attribute 'clip'"
          ]
        }
      ]
    },
    {
      "cell_type": "markdown",
      "source": [
        "## Part II. Your First Report"
      ],
      "metadata": {
        "id": "e88hYCuaeG9n"
      }
    },
    {
      "cell_type": "markdown",
      "source": [
        "# Structures Visualisation\n",
        "---\n",
        "Your name"
      ],
      "metadata": {
        "id": "bcdt0KR_hxfP"
      }
    },
    {
      "cell_type": "code",
      "source": [
        "from datetime import date\n",
        "\n",
        "today = date.today()\n",
        "print(today)"
      ],
      "metadata": {
        "id": "psDToPFp0adc"
      },
      "execution_count": null,
      "outputs": []
    },
    {
      "cell_type": "markdown",
      "source": [
        "In this report you need to use VMD to analyze visually the structure of the system PDB: [7TJH](https://www.rcsb.org/structure/7TJH)\n",
        "\n",
        "Using the information in the PDB corresponding page write few lines about the protein and its function. Where is this protein found? What does it do?"
      ],
      "metadata": {
        "id": "nZi1dHpa7rj-"
      }
    },
    {
      "cell_type": "markdown",
      "source": [
        "**Figure 1: The structure**"
      ],
      "metadata": {
        "id": "IUjEO8HU7Vg0"
      }
    },
    {
      "cell_type": "markdown",
      "source": [
        "Describe qualitatively the structure:\n",
        "This structure includes XX protein molecules, YY DNA molecules, and ZZ other small molecules ...\n",
        "The proteins of the complex are:\n",
        "\n",
        "\n",
        "1.   ORC1: made of XX aminoacid, the structure determined includes only regions: ..... . The protein secondary structure is\n",
        "2.   List item\n",
        "\n",
        "Then includes the images you have generated with VMD and briefly explain what you are showing and what you learn from it:"
      ],
      "metadata": {
        "id": "EnxI914biCpK"
      }
    },
    {
      "cell_type": "code",
      "source": [
        "# add here the code to include the image"
      ],
      "metadata": {
        "id": "zSzsHfKk7hSr"
      },
      "execution_count": null,
      "outputs": []
    },
    {
      "cell_type": "markdown",
      "source": [
        "**Figure 2: ATP/MG2+ protein interaction**"
      ],
      "metadata": {
        "id": "pRUWBWVGlv_f"
      }
    },
    {
      "cell_type": "markdown",
      "source": [
        "Caption about the figure: what are the interactions used to coordinate with MG2+, which others are used to bind ATP?"
      ],
      "metadata": {
        "id": "PxdYBkxEmKrG"
      }
    },
    {
      "cell_type": "code",
      "source": [
        "# add here the code to include the image"
      ],
      "metadata": {
        "id": "VWsqYZrigViQ"
      },
      "execution_count": null,
      "outputs": []
    },
    {
      "cell_type": "markdown",
      "source": [
        "**Figure 3: ORC5:DNA interaction**"
      ],
      "metadata": {
        "id": "BSbzEZnfmNSd"
      }
    },
    {
      "cell_type": "markdown",
      "source": [
        "Caption about the figure: Which domains are bound to DNA? What are the key interactions"
      ],
      "metadata": {
        "id": "4MqOIHyqmWMj"
      }
    },
    {
      "cell_type": "code",
      "source": [
        "# add here the code to include the image"
      ],
      "metadata": {
        "id": "u9UbbxrlmDh-"
      },
      "execution_count": null,
      "outputs": []
    }
  ]
}