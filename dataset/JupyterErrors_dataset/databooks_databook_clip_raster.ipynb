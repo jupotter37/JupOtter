{
 "cells": [
  {
   "cell_type": "code",
   "execution_count": 3,
   "metadata": {},
   "outputs": [],
   "source": [
    "from iobjectspy import (clip_raster,\n",
    "                        Rectangle)\n",
    "\n",
    "import os\n",
    "import sys"
   ]
  },
  {
   "cell_type": "code",
   "execution_count": 2,
   "metadata": {},
   "outputs": [],
   "source": [
    "# 设置示例数据路径\n",
    "example_data_dir = '/home/jovyan/data/smdata/'\n",
    "\n",
    "# 设置结果输出路径\n",
    "out_dir = os.path.join(example_data_dir, 'out')\n",
    "\n",
    "\n",
    "if not os.path.exists(out_dir):\n",
    "    os.makedirs(out_dir)\n",
    "\n",
    "\n",
    "def progress_func(step_event):\n",
    "    sys.stdout.write('%s,%s %d %%\\n' % (step_event.title, step_event.message, step_event.percent))\n",
    "\n",
    "\n",
    "def clip_image_test():\n",
    "    \"\"\"裁剪影像数据集\"\"\"\n",
    "\n",
    "    clip_region = Rectangle(875.5, 861.2, 1172.6, 520.9)\n",
    "    result = clip_raster(os.path.join(example_data_dir, 'example_data.udb/seaport'), clip_region, True, False,\n",
    "                         out_data=os.path.join(out_dir, 'out_clip_raster.tif'), progress=progress_func)\n",
    "\n",
    "    if result is not None:\n",
    "        print('裁剪影像数据成功,结果存储在 ' + result)\n",
    "    else:\n",
    "        print('裁剪影像数据失败')"
   ]
  },
  {
   "cell_type": "code",
   "execution_count": 2,
   "metadata": {},
   "outputs": [
    {
     "name": "stdout",
     "output_type": "stream",
     "text": [
      "java -cp /opt/conda/lib/python3.6/site-packages/iobjectspy/_jsuperpy/jars/com.supermap.jsuperpy-9.1.1.jar com.supermap.jsuperpy.ApplicationExample 127.0.0.1 45321\n",
      "[iObjectsPy]: Connection gateway-service successful, Python callback port bind 33479\n",
      "\n"
     ]
    },
    {
     "ename": "Py4JJavaError",
     "evalue": "An error occurred while calling z:com.supermap.data.Environment.setAnalystMemorySize.\n: java.lang.UnsatisfiedLinkError: com.supermap.data.EnvironmentNative.jni_SetAnalystMemorySize(J)Z\n\tat com.supermap.data.EnvironmentNative.jni_SetAnalystMemorySize(Native Method)\n\tat com.supermap.data.Environment.setAnalystMemorySize(Unknown Source)\n\tat sun.reflect.NativeMethodAccessorImpl.invoke0(Native Method)\n\tat sun.reflect.NativeMethodAccessorImpl.invoke(NativeMethodAccessorImpl.java:62)\n\tat sun.reflect.DelegatingMethodAccessorImpl.invoke(DelegatingMethodAccessorImpl.java:43)\n\tat java.lang.reflect.Method.invoke(Method.java:498)\n\tat py4j.reflection.MethodInvoker.invoke(MethodInvoker.java:244)\n\tat py4j.reflection.ReflectionEngine.invoke(ReflectionEngine.java:357)\n\tat py4j.Gateway.invoke(Gateway.java:282)\n\tat py4j.commands.AbstractCommand.invokeMethod(AbstractCommand.java:132)\n\tat py4j.commands.CallCommand.execute(CallCommand.java:79)\n\tat py4j.GatewayConnection.run(GatewayConnection.java:238)\n\tat java.lang.Thread.run(Thread.java:748)\n",
     "output_type": "error",
     "traceback": [
      "\u001b[0;31m---------------------------------------------------------------------------\u001b[0m",
      "\u001b[0;31mPy4JJavaError\u001b[0m                             Traceback (most recent call last)",
      "\u001b[0;32m<ipython-input-2-386dd6795692>\u001b[0m in \u001b[0;36m<module>\u001b[0;34m\u001b[0m\n\u001b[1;32m     29\u001b[0m \u001b[0;32mif\u001b[0m \u001b[0m__name__\u001b[0m \u001b[0;34m==\u001b[0m \u001b[0;34m'__main__'\u001b[0m\u001b[0;34m:\u001b[0m\u001b[0;34m\u001b[0m\u001b[0;34m\u001b[0m\u001b[0m\n\u001b[1;32m     30\u001b[0m     \u001b[0;31m# 裁剪影像数据\u001b[0m\u001b[0;34m\u001b[0m\u001b[0;34m\u001b[0m\u001b[0;34m\u001b[0m\u001b[0m\n\u001b[0;32m---> 31\u001b[0;31m     \u001b[0mclip_image_test\u001b[0m\u001b[0;34m(\u001b[0m\u001b[0;34m)\u001b[0m\u001b[0;34m\u001b[0m\u001b[0;34m\u001b[0m\u001b[0m\n\u001b[0m",
      "\u001b[0;32m<ipython-input-2-386dd6795692>\u001b[0m in \u001b[0;36mclip_image_test\u001b[0;34m()\u001b[0m\n\u001b[1;32m     19\u001b[0m     \u001b[0mclip_region\u001b[0m \u001b[0;34m=\u001b[0m \u001b[0mRectangle\u001b[0m\u001b[0;34m(\u001b[0m\u001b[0;36m875.5\u001b[0m\u001b[0;34m,\u001b[0m \u001b[0;36m861.2\u001b[0m\u001b[0;34m,\u001b[0m \u001b[0;36m1172.6\u001b[0m\u001b[0;34m,\u001b[0m \u001b[0;36m520.9\u001b[0m\u001b[0;34m)\u001b[0m\u001b[0;34m\u001b[0m\u001b[0;34m\u001b[0m\u001b[0m\n\u001b[1;32m     20\u001b[0m     result = clip_raster(os.path.join(example_data_dir, 'example_data.udb/seaport'), clip_region, True, False,\n\u001b[0;32m---> 21\u001b[0;31m                          out_data=os.path.join(out_dir, 'out_clip_raster.tif'), progress=progress_func)\n\u001b[0m\u001b[1;32m     22\u001b[0m \u001b[0;34m\u001b[0m\u001b[0m\n\u001b[1;32m     23\u001b[0m     \u001b[0;32mif\u001b[0m \u001b[0mresult\u001b[0m \u001b[0;32mis\u001b[0m \u001b[0;32mnot\u001b[0m \u001b[0;32mNone\u001b[0m\u001b[0;34m:\u001b[0m\u001b[0;34m\u001b[0m\u001b[0;34m\u001b[0m\u001b[0m\n",
      "\u001b[0;32m/opt/conda/lib/python3.6/site-packages/iobjectspy/_jsuperpy/analyst.pyc\u001b[0m in \u001b[0;36mclip_raster\u001b[0;34m(input_data, clip_region, is_clip_in_region, is_exact_clip, out_data, out_dataset_name, progress)\u001b[0m\n",
      "\u001b[0;32m/opt/conda/lib/python3.6/site-packages/iobjectspy/_jsuperpy/data/_util.pyc\u001b[0m in \u001b[0;36mget_input_dataset\u001b[0;34m(value)\u001b[0m\n",
      "\u001b[0;32m/opt/conda/lib/python3.6/site-packages/iobjectspy/_jsuperpy/data/ws.pyc\u001b[0m in \u001b[0;36m__new__\u001b[0;34m(cls)\u001b[0m\n",
      "\u001b[0;32m/opt/conda/lib/python3.6/site-packages/iobjectspy/_jsuperpy/data/_jvm.pyc\u001b[0m in \u001b[0;36m__init__\u001b[0;34m(self)\u001b[0m\n",
      "\u001b[0;32m/opt/conda/lib/python3.6/site-packages/iobjectspy/_jsuperpy/_gateway.pyc\u001b[0m in \u001b[0;36mget_jvm\u001b[0;34m()\u001b[0m\n",
      "\u001b[0;32m/opt/conda/lib/python3.6/site-packages/iobjectspy/_jsuperpy/_gateway.pyc\u001b[0m in \u001b[0;36mgateway\u001b[0;34m(self)\u001b[0m\n",
      "\u001b[0;32m/opt/conda/lib/python3.6/site-packages/iobjectspy/_jsuperpy/env.pyc\u001b[0m in \u001b[0;36m_set_all_to_java\u001b[0;34m(cls)\u001b[0m\n",
      "\u001b[0;32m/usr/local/spark/python/lib/py4j-0.10.7-src.zip/py4j/java_gateway.py\u001b[0m in \u001b[0;36m__call__\u001b[0;34m(self, *args)\u001b[0m\n\u001b[1;32m   1255\u001b[0m         \u001b[0manswer\u001b[0m \u001b[0;34m=\u001b[0m \u001b[0mself\u001b[0m\u001b[0;34m.\u001b[0m\u001b[0mgateway_client\u001b[0m\u001b[0;34m.\u001b[0m\u001b[0msend_command\u001b[0m\u001b[0;34m(\u001b[0m\u001b[0mcommand\u001b[0m\u001b[0;34m)\u001b[0m\u001b[0;34m\u001b[0m\u001b[0;34m\u001b[0m\u001b[0m\n\u001b[1;32m   1256\u001b[0m         return_value = get_return_value(\n\u001b[0;32m-> 1257\u001b[0;31m             answer, self.gateway_client, self.target_id, self.name)\n\u001b[0m\u001b[1;32m   1258\u001b[0m \u001b[0;34m\u001b[0m\u001b[0m\n\u001b[1;32m   1259\u001b[0m         \u001b[0;32mfor\u001b[0m \u001b[0mtemp_arg\u001b[0m \u001b[0;32min\u001b[0m \u001b[0mtemp_args\u001b[0m\u001b[0;34m:\u001b[0m\u001b[0;34m\u001b[0m\u001b[0;34m\u001b[0m\u001b[0m\n",
      "\u001b[0;32m/usr/local/spark/python/lib/py4j-0.10.7-src.zip/py4j/protocol.py\u001b[0m in \u001b[0;36mget_return_value\u001b[0;34m(answer, gateway_client, target_id, name)\u001b[0m\n\u001b[1;32m    326\u001b[0m                 raise Py4JJavaError(\n\u001b[1;32m    327\u001b[0m                     \u001b[0;34m\"An error occurred while calling {0}{1}{2}.\\n\"\u001b[0m\u001b[0;34m.\u001b[0m\u001b[0;34m\u001b[0m\u001b[0;34m\u001b[0m\u001b[0m\n\u001b[0;32m--> 328\u001b[0;31m                     format(target_id, \".\", name), value)\n\u001b[0m\u001b[1;32m    329\u001b[0m             \u001b[0;32melse\u001b[0m\u001b[0;34m:\u001b[0m\u001b[0;34m\u001b[0m\u001b[0;34m\u001b[0m\u001b[0m\n\u001b[1;32m    330\u001b[0m                 raise Py4JError(\n",
      "\u001b[0;31mPy4JJavaError\u001b[0m: An error occurred while calling z:com.supermap.data.Environment.setAnalystMemorySize.\n: java.lang.UnsatisfiedLinkError: com.supermap.data.EnvironmentNative.jni_SetAnalystMemorySize(J)Z\n\tat com.supermap.data.EnvironmentNative.jni_SetAnalystMemorySize(Native Method)\n\tat com.supermap.data.Environment.setAnalystMemorySize(Unknown Source)\n\tat sun.reflect.NativeMethodAccessorImpl.invoke0(Native Method)\n\tat sun.reflect.NativeMethodAccessorImpl.invoke(NativeMethodAccessorImpl.java:62)\n\tat sun.reflect.DelegatingMethodAccessorImpl.invoke(DelegatingMethodAccessorImpl.java:43)\n\tat java.lang.reflect.Method.invoke(Method.java:498)\n\tat py4j.reflection.MethodInvoker.invoke(MethodInvoker.java:244)\n\tat py4j.reflection.ReflectionEngine.invoke(ReflectionEngine.java:357)\n\tat py4j.Gateway.invoke(Gateway.java:282)\n\tat py4j.commands.AbstractCommand.invokeMethod(AbstractCommand.java:132)\n\tat py4j.commands.CallCommand.execute(CallCommand.java:79)\n\tat py4j.GatewayConnection.run(GatewayConnection.java:238)\n\tat java.lang.Thread.run(Thread.java:748)\n"
     ]
    }
   ],
   "source": [
    "if __name__ == '__main__':\n",
    "    # 裁剪影像数据\n",
    "    clip_image_test()"
   ]
  }
 ],
 "metadata": {
  "kernelspec": {
   "display_name": "Python 3",
   "language": "python",
   "name": "python3"
  },
  "language_info": {
   "codemirror_mode": {
    "name": "ipython",
    "version": 3
   },
   "file_extension": ".py",
   "mimetype": "text/x-python",
   "name": "python",
   "nbconvert_exporter": "python",
   "pygments_lexer": "ipython3",
   "version": "3.6.7"
  }
 },
 "nbformat": 4,
 "nbformat_minor": 2
}
