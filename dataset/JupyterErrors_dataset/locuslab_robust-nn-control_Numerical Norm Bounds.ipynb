{
 "cells": [
  {
   "cell_type": "markdown",
   "metadata": {},
   "source": [
    "# Numerical norm bounds for quadrotor "
   ]
  },
  {
   "cell_type": "markdown",
   "metadata": {},
   "source": [
    "For a quadrotor system with state $x = \\begin{bmatrix}p_x & p_z & \\phi & v_x & v_z & \\dot{\\phi} \\end{bmatrix}^T$ we have \n",
    "\n",
    "\\begin{equation}\n",
    "\\dot{x} = \\begin{bmatrix} \n",
    "v_x \\cos\\phi - v_z\\sin\\phi \\\\\n",
    "v_x \\sin\\phi + v_z\\cos\\phi \\\\\n",
    "\\dot{\\phi} \\\\\n",
    "v_z\\dot{\\phi} - g\\sin{\\phi} \\\\\n",
    "-v_x\\dot{\\phi} - g\\cos{\\phi} + g \\\\\n",
    "0\n",
    "\\end{bmatrix}.\n",
    "\\end{equation}\n",
    "\n",
    "Evaluating the corresponding Jacobian at 0 yields:\n",
    "\\begin{equation}\n",
    "\\nabla f(0)x = \\begin{bmatrix} v_x & v_z & \\dot{\\phi} & -g\\phi & 0 & 0 \\end{bmatrix}^T\n",
    "\\end{equation}\n",
    "\n",
    "We want to find an NLDI of the form\n",
    "\\begin{equation}\n",
    "\\dot{x} = \\nabla f(0) x + I p, \\;\\; \\|p\\| \\leq \\|Cx\\|\n",
    "\\end{equation}\n",
    "\n",
    "To find $C$, we determine an entry-wise norm bound. That is, for $i=1,\\ldots,6$, we want to find $C_i$ such that for all $x$ such that $x_{\\text{min}} \\leq x \\leq x_{\\text{max}}$:\n",
    "\\begin{equation}\n",
    "(\\nabla f_i(0)x - \\dot{x}_i)^2 \\leq x^T C_i x\n",
    "\\end{equation}\n",
    "and then write\n",
    "\\begin{equation}\n",
    "\\|\\dot{x} - \\nabla f(0)x\\|_2 \\leq \\|\\begin{bmatrix} C_1^{1/2} \\\\ C_2^{1/2} \\\\ C_3^{1/2} \\\\ C_4^{1/2} \\\\ C_5^{1/2} \\\\ C_6^{1/2} \\end{bmatrix} x \\|\n",
    "\\end{equation}\n"
   ]
  },
  {
   "cell_type": "code",
   "execution_count": 401,
   "metadata": {
    "collapsed": true
   },
   "outputs": [],
   "source": [
    "import numpy as np\n",
    "import cvxpy as cp\n",
    "import scipy.linalg as sla"
   ]
  },
  {
   "cell_type": "code",
   "execution_count": 402,
   "metadata": {
    "collapsed": true
   },
   "outputs": [],
   "source": [
    "g = 9.81"
   ]
  },
  {
   "cell_type": "markdown",
   "metadata": {},
   "source": [
    "## Define max and min values "
   ]
  },
  {
   "cell_type": "code",
   "execution_count": 403,
   "metadata": {
    "collapsed": true
   },
   "outputs": [],
   "source": [
    "# State is: x = [px, pz, phi, vx, vz, phidot]^T\n",
    "x_max = np.array([1.1, 1.1, 0.06, 0.5, 1.0, 0.8])\n",
    "x_min = np.array([-1.1, -1.1, -0.06, -0.5, -1.0, -0.8])\n",
    "\n",
    "px_max, pz_max, phi_max, vx_max, vz_max, phidot_max = x_max\n",
    "px_min, pz_min, phi_min, vx_min, vz_min, phidot_min = x_min\n",
    "\n",
    "n = 6\n",
    "px_idx, pz_idx, phi_idx, vx_idx, vz_idx, phidot_idx = range(n)"
   ]
  },
  {
   "cell_type": "markdown",
   "metadata": {},
   "source": [
    "## Find element-wise bounds "
   ]
  },
  {
   "cell_type": "markdown",
   "metadata": {},
   "source": [
    "### $f_1$"
   ]
  },
  {
   "cell_type": "code",
   "execution_count": 404,
   "metadata": {
    "collapsed": true
   },
   "outputs": [],
   "source": [
    "gridnum = 50\n",
    "vx = np.linspace(vx_min, vx_max, gridnum)\n",
    "vz = np.linspace(vz_min, vz_max, gridnum)\n",
    "phi = np.linspace(phi_min, phi_max, gridnum)\n",
    "\n",
    "Vx, Vz, Phi = np.meshgrid(vx, vz, phi)\n",
    "\n",
    "v1 = np.ravel(( Vx - (Vx*np.cos(Phi) - Vz*np.sin(Phi)) )**2)\n",
    "U1 = np.array([np.ravel(Vx*Vx), \n",
    "              np.ravel(Vz*Vz), \n",
    "              np.ravel(Phi*Phi),\n",
    "              2*np.ravel(Vx*Vz), \n",
    "              2*np.ravel(Vx*Phi), \n",
    "              2*np.ravel(Vz*Phi)]).T"
   ]
  },
  {
   "cell_type": "code",
   "execution_count": 405,
   "metadata": {
    "collapsed": false
   },
   "outputs": [
    {
     "name": "stdout",
     "output_type": "stream",
     "text": [
      "\n",
      "\n",
      "Problem\n",
      "  Name                   :                 \n",
      "  Objective sense        : min             \n",
      "  Type                   : LO (linear optimization problem)\n",
      "  Constraints            : 250003          \n",
      "  Cones                  : 0               \n",
      "  Scalar variables       : 7               \n",
      "  Matrix variables       : 0               \n",
      "  Integer variables      : 0               \n",
      "\n",
      "Optimizer started.\n",
      "Problem\n",
      "  Name                   :                 \n",
      "  Objective sense        : min             \n",
      "  Type                   : LO (linear optimization problem)\n",
      "  Constraints            : 250003          \n",
      "  Cones                  : 0               \n",
      "  Scalar variables       : 7               \n",
      "  Matrix variables       : 0               \n",
      "  Integer variables      : 0               \n",
      "\n",
      "Optimizer  - threads                : 2               \n",
      "Optimizer  - solved problem         : the dual        \n",
      "Optimizer  - Constraints            : 7\n",
      "Optimizer  - Cones                  : 0\n",
      "Optimizer  - Scalar variables       : 122936            conic                  : 0               \n",
      "Optimizer  - Semi-definite variables: 0                 scalarized             : 0               \n",
      "Factor     - setup time             : 0.09              dense det. time        : 0.00            \n",
      "Factor     - ML order time          : 0.00              GP order time          : 0.00            \n",
      "Factor     - nonzeros before factor : 28                after factor           : 28              \n",
      "Factor     - dense dim.             : 0                 flops                  : 6.04e+06        \n",
      "ITE PFEAS    DFEAS    GFEAS    PRSTATUS   POBJ              DOBJ              MU       TIME  \n",
      "0   1.4e+00  8.9e+04  8.4e+00  0.00e+00   0.000000000e+00   6.943931180e+00   2.0e+00  0.76  \n",
      "1   1.1e+00  7.1e+04  6.7e+00  7.00e+00   3.953354935e-02   5.860630276e-01   1.6e+00  0.93  \n",
      "2   1.0e-01  8.4e+03  8.1e-01  7.37e+01   3.659181128e-03   5.356544162e-03   1.9e-01  1.01  \n",
      "3   5.6e-02  4.5e+03  4.3e-01  2.48e+00   2.424790474e-03   3.021057726e-03   9.9e-02  1.07  \n",
      "4   3.4e-02  2.7e+03  2.7e-01  1.54e+00   2.117503697e-03   2.432026790e-03   6.1e-02  1.14  \n",
      "5   8.0e-03  6.4e+02  6.2e-02  1.47e+00   1.887132372e-03   1.954297191e-03   1.4e-02  1.20  \n",
      "6   2.7e-03  2.1e+02  2.1e-02  1.06e+00   1.857914225e-03   1.879094799e-03   4.7e-03  1.25  \n",
      "7   2.8e-04  2.2e+01  2.2e-03  1.02e+00   1.854298909e-03   1.856346285e-03   4.9e-04  1.30  \n",
      "8   2.6e-05  2.1e+00  2.0e-04  1.00e+00   1.852565456e-03   1.852743840e-03   4.6e-05  1.34  \n",
      "9   4.5e-06  3.6e-01  3.5e-05  1.00e+00   1.852200060e-03   1.852230917e-03   8.0e-06  1.40  \n",
      "10  2.3e-07  1.8e-02  1.8e-06  1.00e+00   1.852167145e-03   1.852168639e-03   4.1e-07  1.45  \n",
      "11  4.6e-08  3.7e-03  3.7e-07  9.98e-01   1.852167020e-03   1.852167333e-03   8.3e-08  1.50  \n",
      "12  3.1e-09  2.5e-04  2.5e-08  1.00e+00   1.852166918e-03   1.852166939e-03   5.6e-09  1.55  \n",
      "13  2.5e-11  2.0e-06  2.0e-10  1.00e+00   1.852166914e-03   1.852166914e-03   4.4e-11  1.60  \n",
      "14  2.3e-13  2.1e-09  4.6e-13  1.00e+00   1.852166914e-03   1.852166914e-03   4.4e-15  1.70  \n",
      "Basis identification started.\n",
      "Primal basis identification phase started.\n",
      "Primal basis identification phase terminated. Time: 0.01\n",
      "Dual basis identification phase started.\n",
      "Dual basis identification phase terminated. Time: 0.01\n",
      "Basis identification terminated. Time: 0.11\n",
      "Optimizer terminated. Time: 2.05    \n",
      "\n",
      "\n",
      "Interior-point solution summary\n",
      "  Problem status  : PRIMAL_AND_DUAL_FEASIBLE\n",
      "  Solution status : OPTIMAL\n",
      "  Primal.  obj: 1.8521669140e-03    nrm: 5e-01    Viol.  con: 4e-18    var: 0e+00  \n",
      "  Dual.    obj: 1.8521669140e-03    nrm: 3e-01    Viol.  con: 0e+00    var: 9e-13  \n",
      "\n",
      "Basic solution summary\n",
      "  Problem status  : PRIMAL_AND_DUAL_FEASIBLE\n",
      "  Solution status : OPTIMAL\n",
      "  Primal.  obj: 1.8521669140e-03    nrm: 5e-01    Viol.  con: 2e-18    var: 0e+00  \n",
      "  Dual.    obj: 1.8521669140e-03    nrm: 5e-01    Viol.  con: 0e+00    var: 9e-17  \n"
     ]
    },
    {
     "data": {
      "text/plain": "0.0018521669140021692"
     },
     "execution_count": 405,
     "metadata": {},
     "output_type": "execute_result"
    }
   ],
   "source": [
    "c1 = cp.Variable(6)\n",
    "cp.Problem(cp.Minimize(cp.max(U1@c1 - v1)), [U1@c1 >= v1, c1[:3]>=0]).solve(verbose=True, solver=cp.MOSEK)"
   ]
  },
  {
   "cell_type": "code",
   "execution_count": 406,
   "metadata": {
    "collapsed": false
   },
   "outputs": [
    {
     "data": {
      "text/plain": "array([-1.93377422e-18,  1.85289423e-03,  5.14305608e-01, -3.38599051e-19,\n       -3.05304174e-18, -2.55127137e-18])"
     },
     "execution_count": 406,
     "metadata": {},
     "output_type": "execute_result"
    }
   ],
   "source": [
    "c1 = c1.value\n",
    "c1"
   ]
  },
  {
   "cell_type": "code",
   "execution_count": 407,
   "metadata": {
    "collapsed": true
   },
   "outputs": [],
   "source": [
    "C1 = np.zeros((n,n))\n",
    "C1[vx_idx, vx_idx] = c1[0]/2\n",
    "C1[vz_idx, vz_idx] = c1[1]/2\n",
    "C1[phi_idx, phi_idx] = c1[2]/2\n",
    "C1[vx_idx, vz_idx] = c1[3]\n",
    "C1[vx_idx, phi_idx] = c1[4]\n",
    "C1[vz_idx, phi_idx] = c1[5]\n",
    "C1 += C1.T"
   ]
  },
  {
   "cell_type": "code",
   "execution_count": 408,
   "metadata": {
    "collapsed": false
   },
   "outputs": [
    {
     "data": {
      "text/plain": "array([[ 0.00000000e+00,  0.00000000e+00,  0.00000000e+00,\n         0.00000000e+00,  0.00000000e+00,  0.00000000e+00],\n       [ 0.00000000e+00,  0.00000000e+00,  0.00000000e+00,\n         0.00000000e+00,  0.00000000e+00,  0.00000000e+00],\n       [ 0.00000000e+00,  0.00000000e+00,  7.17151036e-01,\n         0.00000000e+00,  1.98340877e-16,  0.00000000e+00],\n       [ 0.00000000e+00,  0.00000000e+00, -4.25718097e-18,\n         0.00000000e+00, -7.86611735e-18,  0.00000000e+00],\n       [ 0.00000000e+00,  0.00000000e+00,  9.79354505e-17,\n         0.00000000e+00,  4.30452580e-02,  0.00000000e+00],\n       [ 0.00000000e+00,  0.00000000e+00,  0.00000000e+00,\n         0.00000000e+00,  0.00000000e+00,  0.00000000e+00]])"
     },
     "execution_count": 408,
     "metadata": {},
     "output_type": "execute_result"
    }
   ],
   "source": [
    "gam1 = np.real(sla.sqrtm(C1))\n",
    "gam1"
   ]
  },
  {
   "cell_type": "markdown",
   "metadata": {},
   "source": [
    "### $f_2$ "
   ]
  },
  {
   "cell_type": "code",
   "execution_count": 409,
   "metadata": {
    "collapsed": true
   },
   "outputs": [],
   "source": [
    "gridnum = 50\n",
    "vx = np.linspace(vx_min, vx_max, gridnum)\n",
    "vz = np.linspace(vz_min, vz_max, gridnum)\n",
    "phi = np.linspace(phi_min, phi_max, gridnum)\n",
    "\n",
    "Vx, Vz, Phi = np.meshgrid(vx, vz, phi)\n",
    "\n",
    "v2 = np.ravel(( Vz - (Vx*np.sin(Phi) + Vz*np.cos(Phi)) )**2)\n",
    "U2 = np.array([np.ravel(Vx*Vx), \n",
    "              np.ravel(Vz*Vz), \n",
    "              np.ravel(Phi*Phi),\n",
    "              2*np.ravel(Vx*Vz), \n",
    "              2*np.ravel(Vx*Phi), \n",
    "              2*np.ravel(Vz*Phi)]).T"
   ]
  },
  {
   "cell_type": "code",
   "execution_count": 410,
   "metadata": {
    "collapsed": false
   },
   "outputs": [
    {
     "name": "stdout",
     "output_type": "stream",
     "text": [
      "\n",
      "\n",
      "Problem\n",
      "  Name                   :                 \n",
      "  Objective sense        : min             \n",
      "  Type                   : LO (linear optimization problem)\n",
      "  Constraints            : 250003          \n",
      "  Cones                  : 0               \n",
      "  Scalar variables       : 7               \n",
      "  Matrix variables       : 0               \n",
      "  Integer variables      : 0               \n",
      "\n",
      "Optimizer started.\n",
      "Problem\n",
      "  Name                   :                 \n",
      "  Objective sense        : min             \n",
      "  Type                   : LO (linear optimization problem)\n",
      "  Constraints            : 250003          \n",
      "  Cones                  : 0               \n",
      "  Scalar variables       : 7               \n",
      "  Matrix variables       : 0               \n",
      "  Integer variables      : 0               \n",
      "\n",
      "Optimizer  - threads                : 2               \n",
      "Optimizer  - solved problem         : the dual        \n",
      "Optimizer  - Constraints            : 7\n",
      "Optimizer  - Cones                  : 0\n",
      "Optimizer  - Scalar variables       : 122936            conic                  : 0               \n",
      "Optimizer  - Semi-definite variables: 0                 scalarized             : 0               \n",
      "Factor     - setup time             : 0.08              dense det. time        : 0.00            \n",
      "Factor     - ML order time          : 0.00              GP order time          : 0.00            \n",
      "Factor     - nonzeros before factor : 28                after factor           : 28              \n",
      "Factor     - dense dim.             : 0                 flops                  : 6.04e+06        \n",
      "ITE PFEAS    DFEAS    GFEAS    PRSTATUS   POBJ              DOBJ              MU       TIME  \n",
      "0   1.4e+00  8.8e+04  2.7e+00  0.00e+00   0.000000000e+00   2.888310662e+00   2.0e+00  0.54  \n",
      "1   1.0e+00  6.3e+04  1.9e+00  3.72e+00   1.497409374e-01   5.521039135e-01   1.4e+00  0.71  \n",
      "2   3.4e-01  2.1e+04  6.5e-01  1.00e+03   6.294967125e-04   8.688822193e-04   4.9e-01  0.77  \n",
      "3   3.4e-01  2.1e+04  6.4e-01  1.72e+00   6.290829369e-04   8.657975588e-04   4.8e-01  0.83  \n",
      "4   3.4e-01  2.1e+04  6.4e-01  1.67e+00   6.279565952e-04   8.625949961e-04   4.8e-01  0.89  \n",
      "5   3.3e-01  2.1e+04  6.3e-01  1.72e+00   6.270677659e-04   8.570302389e-04   4.7e-01  0.96  \n",
      "6   3.2e-01  2.0e+04  6.1e-01  1.68e+00   6.252407083e-04   8.448957970e-04   4.6e-01  1.02  \n",
      "7   3.1e-01  2.0e+04  5.9e-01  1.67e+00   6.175296247e-04   8.261454799e-04   4.4e-01  1.08  \n",
      "8   2.5e-01  1.6e+04  4.8e-01  1.70e+00   5.824034882e-04   7.371791165e-04   3.6e-01  1.14  \n",
      "9   1.3e-01  8.0e+03  2.4e-01  1.73e+00   5.050833503e-04   5.683288332e-04   1.8e-01  1.20  \n",
      "10  7.7e-02  4.8e+03  1.4e-01  1.32e+00   5.035677722e-04   5.402474962e-04   1.1e-01  1.26  \n",
      "11  5.5e-02  3.4e+03  1.0e-01  1.14e+00   5.038167063e-04   5.297276962e-04   7.7e-02  1.31  \n",
      "12  1.8e-02  1.1e+03  3.4e-02  1.10e+00   5.050538889e-04   5.133700192e-04   2.5e-02  1.37  \n",
      "13  6.7e-03  4.2e+02  1.3e-02  1.03e+00   5.057673127e-04   5.088207948e-04   9.4e-03  1.41  \n",
      "14  1.9e-03  1.2e+02  3.5e-03  1.01e+00   5.069034788e-04   5.077525583e-04   2.6e-03  1.46  \n",
      "15  3.7e-05  2.3e+00  6.9e-05  1.00e+00   5.070399020e-04   5.070565883e-04   5.2e-05  1.51  \n",
      "16  2.6e-07  1.6e-02  5.0e-07  1.00e+00   5.070405638e-04   5.070406835e-04   3.7e-07  1.56  \n",
      "17  4.6e-08  2.9e-03  9.4e-08  9.98e-01   5.070396539e-04   5.070396768e-04   6.5e-08  1.62  \n",
      "18  2.8e-09  1.8e-04  8.5e-09  9.91e-01   5.070396708e-04   5.070396729e-04   3.8e-09  1.66  \n",
      "19  3.1e-13  2.0e-08  5.7e-13  1.00e+00   5.070396715e-04   5.070396715e-04   4.3e-13  1.69  \n",
      "Basis identification started.\n",
      "Primal basis identification phase started.\n",
      "Primal basis identification phase terminated. Time: 0.01\n",
      "Dual basis identification phase started.\n",
      "Dual basis identification phase terminated. Time: 0.00\n",
      "Basis identification terminated. Time: 0.06\n",
      "Optimizer terminated. Time: 1.92    \n",
      "\n",
      "\n",
      "Interior-point solution summary\n",
      "  Problem status  : PRIMAL_AND_DUAL_FEASIBLE\n",
      "  Solution status : OPTIMAL\n",
      "  Primal.  obj: 5.0703967149e-04    nrm: 1e-01    Viol.  con: 8e-17    var: 0e+00  \n",
      "  Dual.    obj: 5.0703967149e-04    nrm: 5e-01    Viol.  con: 0e+00    var: 6e-14  \n",
      "\n",
      "Basic solution summary\n",
      "  Problem status  : PRIMAL_AND_DUAL_FEASIBLE\n",
      "  Solution status : OPTIMAL\n",
      "  Primal.  obj: 5.0703967149e-04    nrm: 1e-01    Viol.  con: 1e-16    var: 0e+00  \n",
      "  Dual.    obj: 5.0703967149e-04    nrm: 5e-01    Viol.  con: 4e-17    var: 6e-17  \n"
     ]
    },
    {
     "data": {
      "text/plain": "0.0005070396714880391"
     },
     "execution_count": 410,
     "metadata": {},
     "output_type": "execute_result"
    }
   ],
   "source": [
    "c2 = cp.Variable(6)\n",
    "cp.Problem(cp.Minimize(cp.max(U2@c2 - v2)), [U2@c2 >= v2, c2[:3]>=0]).solve(verbose=True, solver=cp.MOSEK)"
   ]
  },
  {
   "cell_type": "code",
   "execution_count": 411,
   "metadata": {
    "collapsed": false
   },
   "outputs": [
    {
     "data": {
      "text/plain": "array([ 2.02881664e-03, -4.76107552e-17,  1.39682569e-01, -2.61109197e-17,\n        3.02046084e-16, -5.28702685e-17])"
     },
     "execution_count": 411,
     "metadata": {},
     "output_type": "execute_result"
    }
   ],
   "source": [
    "c2 = c2.value\n",
    "c2"
   ]
  },
  {
   "cell_type": "code",
   "execution_count": 412,
   "metadata": {
    "collapsed": true
   },
   "outputs": [],
   "source": [
    "C2 = np.zeros((n,n))\n",
    "C2[vx_idx, vx_idx] = c2[0]/2\n",
    "C2[vz_idx, vz_idx] = c2[1]/2\n",
    "C2[phi_idx, phi_idx] = c2[2]/2\n",
    "C2[vx_idx, vz_idx] = c2[3]\n",
    "C2[vx_idx, phi_idx] = c2[4]\n",
    "C2[vz_idx, phi_idx] = c2[5]\n",
    "C2 += C2.T"
   ]
  },
  {
   "cell_type": "code",
   "execution_count": 413,
   "metadata": {
    "collapsed": false
   },
   "outputs": [
    {
     "data": {
      "text/plain": "array([[ 0.00000000e+00,  0.00000000e+00,  0.00000000e+00,\n         0.00000000e+00,  0.00000000e+00,  0.00000000e+00],\n       [ 0.00000000e+00,  0.00000000e+00,  0.00000000e+00,\n         0.00000000e+00,  0.00000000e+00,  0.00000000e+00],\n       [ 0.00000000e+00,  0.00000000e+00,  3.73741313e-01,\n         7.21246036e-16, -2.86594840e-17,  0.00000000e+00],\n       [ 0.00000000e+00,  0.00000000e+00,  7.21246036e-16,\n         4.50423872e-02, -5.79696622e-16,  0.00000000e+00],\n       [ 0.00000000e+00,  0.00000000e+00, -5.18670264e-17,\n        -5.79696622e-16,  7.46468696e-30,  0.00000000e+00],\n       [ 0.00000000e+00,  0.00000000e+00,  0.00000000e+00,\n         0.00000000e+00,  0.00000000e+00,  0.00000000e+00]])"
     },
     "execution_count": 413,
     "metadata": {},
     "output_type": "execute_result"
    }
   ],
   "source": [
    "gam2 = np.real(sla.sqrtm(C2))\n",
    "gam2"
   ]
  },
  {
   "cell_type": "markdown",
   "metadata": {},
   "source": [
    "### $f_3$ "
   ]
  },
  {
   "cell_type": "markdown",
   "metadata": {},
   "source": [
    "No error -- linearization is the same as original"
   ]
  },
  {
   "cell_type": "markdown",
   "metadata": {},
   "source": [
    "### $f_4$"
   ]
  },
  {
   "cell_type": "code",
   "execution_count": 414,
   "metadata": {
    "collapsed": true
   },
   "outputs": [],
   "source": [
    "gridnum = 50\n",
    "vz = np.linspace(vz_min, vz_max, gridnum)\n",
    "phi = np.linspace(phi_min, phi_max, gridnum)\n",
    "phidot = np.linspace(phidot_min, phidot_max, gridnum)\n",
    "\n",
    "Vz, Phi, Phidot = np.meshgrid(vz, phi, phidot)\n",
    "\n",
    "v4 = np.ravel(( -g*Phi - (Vz*Phidot - g*np.sin(Phi)) )**2)\n",
    "U4 = np.array([np.ravel(Vz*Vz), \n",
    "              np.ravel(Phi*Phi), \n",
    "              np.ravel(Phidot*Phidot),\n",
    "              2*np.ravel(Vz*Phi), \n",
    "              2*np.ravel(Vz*Phidot), \n",
    "              2*np.ravel(Phi*Phidot)]).T"
   ]
  },
  {
   "cell_type": "code",
   "execution_count": 415,
   "metadata": {
    "collapsed": false
   },
   "outputs": [
    {
     "name": "stdout",
     "output_type": "stream",
     "text": [
      "\n",
      "\n",
      "Problem\n",
      "  Name                   :                 \n",
      "  Objective sense        : min             \n",
      "  Type                   : LO (linear optimization problem)\n",
      "  Constraints            : 250003          \n",
      "  Cones                  : 0               \n",
      "  Scalar variables       : 7               \n",
      "  Matrix variables       : 0               \n",
      "  Integer variables      : 0               \n",
      "\n",
      "Optimizer started.\n",
      "Problem\n",
      "  Name                   :                 \n",
      "  Objective sense        : min             \n",
      "  Type                   : LO (linear optimization problem)\n",
      "  Constraints            : 250003          \n",
      "  Cones                  : 0               \n",
      "  Scalar variables       : 7               \n",
      "  Matrix variables       : 0               \n",
      "  Integer variables      : 0               \n",
      "\n",
      "Optimizer  - threads                : 2               \n",
      "Optimizer  - solved problem         : the dual        \n",
      "Optimizer  - Constraints            : 7\n",
      "Optimizer  - Cones                  : 0\n",
      "Optimizer  - Scalar variables       : 122149            conic                  : 0               \n",
      "Optimizer  - Semi-definite variables: 0                 scalarized             : 0               \n",
      "Factor     - setup time             : 0.09              dense det. time        : 0.00            \n",
      "Factor     - ML order time          : 0.00              GP order time          : 0.00            \n",
      "Factor     - nonzeros before factor : 28                after factor           : 28              \n",
      "Factor     - dense dim.             : 0                 flops                  : 6.01e+06        \n",
      "ITE PFEAS    DFEAS    GFEAS    PRSTATUS   POBJ              DOBJ              MU       TIME  \n",
      "0   3.0e+00  1.1e+05  1.6e+03  0.00e+00   0.000000000e+00   9.091183346e+02   3.3e+00  0.66  \n",
      "1   3.0e-01  1.1e+04  1.7e+02  4.24e+00   6.598123515e-01   4.094768408e+01   3.3e-01  0.76  \n",
      "2   1.0e-03  3.9e+01  5.6e-01  1.12e+00   6.900962442e-01   8.139248935e-01   1.1e-03  0.80  \n",
      "3   2.5e-04  9.7e+00  1.4e-01  3.16e+00   3.450137611e-01   3.609226013e-01   2.8e-04  0.85  \n",
      "4   1.0e-05  1.4e+00  3.9e-02  1.25e+00   3.269622800e-01   3.311384313e-01   4.0e-05  0.90  \n",
      "5   1.8e-06  2.4e-01  6.5e-03  1.05e+00   3.202955012e-01   3.209802656e-01   6.7e-06  0.94  \n",
      "6   1.7e-07  2.4e-02  6.4e-04  1.00e+00   3.202073769e-01   3.202747693e-01   6.6e-07  0.99  \n",
      "7   3.6e-08  5.0e-03  1.3e-04  1.00e+00   3.201669028e-01   3.201810768e-01   1.4e-07  1.04  \n",
      "8   3.0e-09  4.0e-04  1.1e-05  1.00e+00   3.201613757e-01   3.201625250e-01   1.1e-08  1.10  \n",
      "9   8.1e-11  1.1e-05  3.0e-07  1.00e+00   3.201607921e-01   3.201608235e-01   3.1e-10  1.15  \n",
      "10  1.1e-14  1.3e-09  3.6e-11  1.00e+00   3.201607844e-01   3.201607844e-01   3.8e-14  1.19  \n",
      "Basis identification started.\n",
      "Primal basis identification phase started.\n",
      "Primal basis identification phase terminated. Time: 0.01\n",
      "Dual basis identification phase started.\n",
      "Dual basis identification phase terminated. Time: 0.00\n",
      "Basis identification terminated. Time: 0.08\n",
      "Optimizer terminated. Time: 1.43    \n",
      "\n",
      "\n",
      "Interior-point solution summary\n",
      "  Problem status  : PRIMAL_AND_DUAL_FEASIBLE\n",
      "  Solution status : OPTIMAL\n",
      "  Primal.  obj: 3.2016078437e-01    nrm: 6e-01    Viol.  con: 1e-15    var: 0e+00  \n",
      "  Dual.    obj: 3.2016078437e-01    nrm: 1e-01    Viol.  con: 0e+00    var: 3e-16  \n",
      "\n",
      "Basic solution summary\n",
      "  Problem status  : PRIMAL_AND_DUAL_FEASIBLE\n",
      "  Solution status : OPTIMAL\n",
      "  Primal.  obj: 3.2016078437e-01    nrm: 6e-01    Viol.  con: 1e-12    var: 0e+00  \n",
      "  Dual.    obj: 3.2016078437e-01    nrm: 5e-01    Viol.  con: 0e+00    var: 6e-17  \n"
     ]
    },
    {
     "data": {
      "text/plain": "0.3201607843659614"
     },
     "execution_count": 415,
     "metadata": {},
     "output_type": "execute_result"
    }
   ],
   "source": [
    "c4 = cp.Variable(6)\n",
    "cp.Problem(cp.Minimize(cp.max(U4@c4 - v4)), [U4@c4 >= v4, c4[:3]>=0]).solve(verbose=True, solver=cp.MOSEK)"
   ]
  },
  {
   "cell_type": "code",
   "execution_count": 416,
   "metadata": {
    "collapsed": false
   },
   "outputs": [
    {
     "data": {
      "text/plain": "array([ 3.20282539e-01,  1.32060869e-11,  5.00441468e-01, -2.83645720e-15,\n        9.48479457e-18, -8.97992032e-17])"
     },
     "execution_count": 416,
     "metadata": {},
     "output_type": "execute_result"
    }
   ],
   "source": [
    "c4 = c4.value\n",
    "c4"
   ]
  },
  {
   "cell_type": "code",
   "execution_count": 417,
   "metadata": {
    "collapsed": true
   },
   "outputs": [],
   "source": [
    "C4 = np.zeros((n,n))\n",
    "C4[vz_idx, vz_idx] = c4[0]/2\n",
    "C4[phi_idx, phi_idx] = c4[1]/2\n",
    "C4[phidot_idx, phidot_idx] = c4[2]/2\n",
    "C4[vz_idx, phi_idx] = c4[3]\n",
    "C4[vz_idx, phidot_idx] = c4[4]\n",
    "C4[phi_idx, phidot_idx] = c4[5]\n",
    "C4 += C4.T"
   ]
  },
  {
   "cell_type": "code",
   "execution_count": 418,
   "metadata": {
    "collapsed": false
   },
   "outputs": [
    {
     "data": {
      "text/plain": "array([[ 0.00000000e+00,  0.00000000e+00,  0.00000000e+00,\n         0.00000000e+00,  0.00000000e+00,  0.00000000e+00],\n       [ 0.00000000e+00,  0.00000000e+00,  0.00000000e+00,\n         0.00000000e+00,  0.00000000e+00,  0.00000000e+00],\n       [ 0.00000000e+00,  0.00000000e+00,  3.63401257e-06,\n         0.00000000e+00, -4.90810516e-15,  0.00000000e+00],\n       [ 0.00000000e+00,  0.00000000e+00,  0.00000000e+00,\n         0.00000000e+00,  0.00000000e+00,  0.00000000e+00],\n       [ 0.00000000e+00,  0.00000000e+00, -4.82227916e-15,\n         0.00000000e+00,  5.65935102e-01,  0.00000000e+00],\n       [ 0.00000000e+00,  0.00000000e+00, -1.26938572e-16,\n         0.00000000e+00,  7.44867077e-18,  7.07418877e-01]])"
     },
     "execution_count": 418,
     "metadata": {},
     "output_type": "execute_result"
    }
   ],
   "source": [
    "gam4 = np.real(sla.sqrtm(C4))\n",
    "gam4"
   ]
  },
  {
   "cell_type": "markdown",
   "metadata": {},
   "source": [
    "### $f_5$ "
   ]
  },
  {
   "cell_type": "code",
   "execution_count": 419,
   "metadata": {
    "collapsed": true
   },
   "outputs": [],
   "source": [
    "gridnum = 50\n",
    "vx = np.linspace(vx_min, vx_max, gridnum)\n",
    "phi = np.linspace(phi_min, phi_max, gridnum)\n",
    "phidot = np.linspace(phidot_min, phidot_max, gridnum)\n",
    "\n",
    "Vx, Phi, Phidot = np.meshgrid(vx, phi, phidot)\n",
    "\n",
    "v5 = np.ravel(( 0 - (-Vx*Phidot - g*np.cos(Phi) + g) )**2)\n",
    "U5 = np.array([np.ravel(Vx*Vx), \n",
    "              np.ravel(Phi*Phi), \n",
    "              np.ravel(Phidot*Phidot),\n",
    "              2*np.ravel(Vx*Phi), \n",
    "              2*np.ravel(Vx*Phidot), \n",
    "              2*np.ravel(Phi*Phidot)]).T"
   ]
  },
  {
   "cell_type": "code",
   "execution_count": 420,
   "metadata": {
    "collapsed": false
   },
   "outputs": [
    {
     "name": "stdout",
     "output_type": "stream",
     "text": [
      "\n",
      "\n",
      "Problem\n",
      "  Name                   :                 \n",
      "  Objective sense        : min             \n",
      "  Type                   : LO (linear optimization problem)\n",
      "  Constraints            : 250003          \n",
      "  Cones                  : 0               \n",
      "  Scalar variables       : 7               \n",
      "  Matrix variables       : 0               \n",
      "  Integer variables      : 0               \n",
      "\n",
      "Optimizer started.\n",
      "Problem\n",
      "  Name                   :                 \n",
      "  Objective sense        : min             \n",
      "  Type                   : LO (linear optimization problem)\n",
      "  Constraints            : 250003          \n",
      "  Cones                  : 0               \n",
      "  Scalar variables       : 7               \n",
      "  Matrix variables       : 0               \n",
      "  Integer variables      : 0               \n",
      "\n",
      "Optimizer  - threads                : 2               \n",
      "Optimizer  - solved problem         : the dual        \n",
      "Optimizer  - Constraints            : 7\n",
      "Optimizer  - Cones                  : 0\n",
      "Optimizer  - Scalar variables       : 122149            conic                  : 0               \n",
      "Optimizer  - Semi-definite variables: 0                 scalarized             : 0               \n",
      "Factor     - setup time             : 0.07              dense det. time        : 0.00            \n",
      "Factor     - ML order time          : 0.00              GP order time          : 0.00            \n",
      "Factor     - nonzeros before factor : 28                after factor           : 28              \n",
      "Factor     - dense dim.             : 0                 flops                  : 6.01e+06        \n",
      "ITE PFEAS    DFEAS    GFEAS    PRSTATUS   POBJ              DOBJ              MU       TIME  \n",
      "0   1.8e+00  9.6e+04  4.8e+02  0.00e+00   0.000000000e+00   3.154225613e+02   2.3e+00  0.58  \n",
      "1   3.5e-01  1.9e+04  9.4e+01  1.51e+01   1.708530797e-01   1.361746703e+01   4.6e-01  0.70  \n",
      "2   3.7e-03  2.0e+02  9.9e-01  1.19e+00   1.903514832e-01   2.645236663e-01   4.8e-03  0.78  \n",
      "3   1.7e-03  9.1e+01  4.6e-01  2.77e+00   1.048209688e-01   1.242537439e-01   2.2e-03  0.85  \n",
      "4   1.2e-03  6.2e+01  3.1e-01  1.54e+00   9.565712271e-02   1.078761643e-01   1.5e-03  0.91  \n",
      "5   1.6e-04  8.3e+00  4.2e-02  1.27e+00   8.441387864e-02   8.587319924e-02   2.0e-04  0.97  \n",
      "6   2.4e-05  1.3e+00  6.4e-03  1.03e+00   8.399782488e-02   8.422094583e-02   3.1e-05  1.03  \n",
      "7   2.6e-06  1.4e-01  7.1e-04  1.01e+00   8.370345427e-02   8.372791389e-02   3.5e-06  1.09  \n",
      "8   1.8e-06  9.6e-02  4.8e-04  1.00e+00   8.368982668e-02   8.370656710e-02   2.4e-06  1.14  \n",
      "9   1.5e-06  8.0e-02  4.0e-04  1.00e+00   8.368789658e-02   8.370180736e-02   2.0e-06  1.20  \n",
      "10  2.0e-07  1.1e-02  5.5e-05  1.00e+00   8.367557566e-02   8.367745889e-02   2.7e-07  1.29  \n",
      "11  2.3e-09  1.2e-04  6.0e-07  1.00e+00   8.367462981e-02   8.367465059e-02   2.9e-09  1.36  \n",
      "12  2.4e-13  1.2e-08  5.8e-11  1.00e+00   8.367461885e-02   8.367461885e-02   3.0e-13  1.42  \n",
      "Basis identification started.\n",
      "Primal basis identification phase started.\n",
      "Primal basis identification phase terminated. Time: 0.01\n",
      "Dual basis identification phase started.\n",
      "Dual basis identification phase terminated. Time: 0.00\n",
      "Basis identification terminated. Time: 0.08\n",
      "Optimizer terminated. Time: 1.66    \n",
      "\n",
      "\n",
      "Interior-point solution summary\n",
      "  Problem status  : PRIMAL_AND_DUAL_FEASIBLE\n",
      "  Solution status : OPTIMAL\n",
      "  Primal.  obj: 8.3674618850e-02    nrm: 3e-01    Viol.  con: 8e-15    var: 0e+00  \n",
      "  Dual.    obj: 8.3674618852e-02    nrm: 2e-01    Viol.  con: 0e+00    var: 0e+00  \n",
      "\n",
      "Basic solution summary\n",
      "  Problem status  : PRIMAL_AND_DUAL_FEASIBLE\n",
      "  Solution status : OPTIMAL\n",
      "  Primal.  obj: 8.3674618850e-02    nrm: 3e-01    Viol.  con: 5e-12    var: 0e+00  \n",
      "  Dual.    obj: 8.3674618849e-02    nrm: 5e-01    Viol.  con: 1e-17    var: 3e-17  \n"
     ]
    },
    {
     "data": {
      "text/plain": "0.08367461885009912"
     },
     "execution_count": 420,
     "metadata": {},
     "output_type": "execute_result"
    }
   ],
   "source": [
    "c5 = cp.Variable(6)\n",
    "cp.Problem(cp.Minimize(cp.max(U5@c5 - v5)), [U5@c5 >= v5, c5[:3]>=0]).solve(verbose=True, solver=cp.MOSEK)"
   ]
  },
  {
   "cell_type": "code",
   "execution_count": 421,
   "metadata": {
    "collapsed": false
   },
   "outputs": [
    {
     "data": {
      "text/plain": "array([ 3.34116019e-01,  8.65965879e-02,  1.30514070e-01,  3.44307427e-11,\n       -8.83002884e-03,  2.05432232e-11])"
     },
     "execution_count": 421,
     "metadata": {},
     "output_type": "execute_result"
    }
   ],
   "source": [
    "c5 = c5.value\n",
    "c5"
   ]
  },
  {
   "cell_type": "code",
   "execution_count": 422,
   "metadata": {
    "collapsed": true
   },
   "outputs": [],
   "source": [
    "C5 = np.zeros((n,n))\n",
    "C5[vx_idx, vx_idx] = c5[0]/2\n",
    "C5[phi_idx, phi_idx] = c5[1]/2\n",
    "C5[phidot_idx, phidot_idx] = c5[2]/2\n",
    "C5[vx_idx, phi_idx] = c5[3]\n",
    "C5[vx_idx, phidot_idx] = c5[4]\n",
    "C5[phi_idx, phidot_idx] = c5[5]\n",
    "C5 += C5.T"
   ]
  },
  {
   "cell_type": "code",
   "execution_count": 423,
   "metadata": {
    "collapsed": false
   },
   "outputs": [
    {
     "data": {
      "text/plain": "array([0.33449825, 0.13013184, 0.08659659, 0.        , 0.        ,\n       0.        ])"
     },
     "execution_count": 423,
     "metadata": {},
     "output_type": "execute_result"
    }
   ],
   "source": [
    "np.linalg.eig(C5)[0]"
   ]
  },
  {
   "cell_type": "code",
   "execution_count": 424,
   "metadata": {
    "collapsed": false
   },
   "outputs": [
    {
     "data": {
      "text/plain": "array([[ 0.00000000e+00,  0.00000000e+00,  0.00000000e+00,\n         0.00000000e+00,  0.00000000e+00,  0.00000000e+00],\n       [ 0.00000000e+00,  0.00000000e+00,  0.00000000e+00,\n         0.00000000e+00,  0.00000000e+00,  0.00000000e+00],\n       [ 0.00000000e+00,  0.00000000e+00,  2.94272982e-01,\n         3.98186946e-11,  0.00000000e+00,  3.19149441e-11],\n       [ 0.00000000e+00,  0.00000000e+00,  3.98186946e-11,\n         5.77951217e-01,  0.00000000e+00, -9.40268883e-03],\n       [ 0.00000000e+00,  0.00000000e+00,  0.00000000e+00,\n         0.00000000e+00,  0.00000000e+00,  0.00000000e+00],\n       [ 0.00000000e+00,  0.00000000e+00,  3.19149441e-11,\n        -9.40268883e-03,  0.00000000e+00,  3.61144929e-01]])"
     },
     "execution_count": 424,
     "metadata": {},
     "output_type": "execute_result"
    }
   ],
   "source": [
    "gam5 = np.real(sla.sqrtm(C5))\n",
    "gam5"
   ]
  },
  {
   "cell_type": "markdown",
   "metadata": {},
   "source": [
    "### $f_6$ "
   ]
  },
  {
   "cell_type": "markdown",
   "metadata": {},
   "source": [
    "No error -- linearization is the same as original"
   ]
  },
  {
   "cell_type": "markdown",
   "metadata": {},
   "source": [
    "## Final system "
   ]
  },
  {
   "cell_type": "code",
   "execution_count": 425,
   "metadata": {
    "collapsed": true
   },
   "outputs": [],
   "source": [
    "from linearize_dynamics import *"
   ]
  },
  {
   "cell_type": "code",
   "execution_count": 426,
   "metadata": {
    "collapsed": true
   },
   "outputs": [],
   "source": [
    "A = quadrotor_jacobian(np.zeros(n))\n",
    "G = np.eye(n)\n",
    "C = np.vstack([gam1, gam2, gam4, gam5])"
   ]
  },
  {
   "cell_type": "markdown",
   "metadata": {},
   "source": [
    "### Check correctness "
   ]
  },
  {
   "cell_type": "code",
   "execution_count": 427,
   "metadata": {
    "collapsed": false
   },
   "outputs": [
    {
     "name": "stdout",
     "output_type": "stream",
     "text": [
      "True\n",
      "2541.4533619098297\n",
      "3.9740415003721594\n",
      "2.3853982860700276\n"
     ]
    }
   ],
   "source": [
    "prop = np.random.random((1000000, n))\n",
    "rand_xs = x_max*prop + x_min*(1-prop)\n",
    "fx = xdot_uncontrolled(torch.Tensor(rand_xs))\n",
    "# print(np.linalg.norm((fx - rand_xs@A.T)@np.linalg.inv(G).T, axis=1) <= np.linalg.norm(rand_xs@C.T, axis=1))\n",
    "print((np.linalg.norm((fx - rand_xs@A.T)@np.linalg.inv(G).T, axis=1) <= np.linalg.norm(rand_xs@C.T, axis=1)).all())\n",
    "\n",
    "ratio = np.linalg.norm(rand_xs@C.T, axis=1)/np.linalg.norm((fx - rand_xs@A.T)@np.linalg.inv(G).T, axis=1)\n",
    "print(ratio.max())\n",
    "print(ratio.mean())\n",
    "print(np.median(ratio))"
   ]
  },
  {
   "cell_type": "markdown",
   "metadata": {},
   "source": [
    "### Save "
   ]
  },
  {
   "cell_type": "code",
   "execution_count": 428,
   "metadata": {
    "collapsed": true
   },
   "outputs": [],
   "source": [
    "np.save('A.npy', A)\n",
    "np.save('G.npy', G)\n",
    "np.save('C.npy', C)"
   ]
  },
  {
   "cell_type": "markdown",
   "metadata": {},
   "source": [
    "## Check if robust LQR solves "
   ]
  },
  {
   "cell_type": "code",
   "execution_count": 429,
   "metadata": {
    "collapsed": true
   },
   "outputs": [],
   "source": [
    "import scipy.linalg as la"
   ]
  },
  {
   "cell_type": "code",
   "execution_count": 430,
   "metadata": {
    "collapsed": false
   },
   "outputs": [],
   "source": [
    "mass = 1\n",
    "moment_arm = 0.01\n",
    "inertia_roll = 15.67e-3\n",
    "\n",
    "B = np.array([\n",
    "                [0, 0],\n",
    "                [0, 0],\n",
    "                [0, 0],\n",
    "                [0, 0],\n",
    "                [1/mass, 1/mass],\n",
    "                [moment_arm/inertia_roll, -moment_arm/inertia_roll]\n",
    "            ])\n",
    "m = B.shape[1]\n",
    "\n",
    "D = np.zeros((C.shape[0], m))\n",
    "\n",
    "Q = np.random.randn(n, n)\n",
    "Q = Q.T @ Q\n",
    "# Q = np.eye(n)\n",
    "\n",
    "R = np.random.randn(m, m)\n",
    "R = R.T @ R\n",
    "# R = np.eye(m)"
   ]
  },
  {
   "cell_type": "code",
   "execution_count": 431,
   "metadata": {
    "collapsed": false
   },
   "outputs": [
    {
     "name": "stdout",
     "output_type": "stream",
     "text": [
      "\n",
      "\n",
      "Problem\n",
      "  Name                   :                 \n",
      "  Objective sense        : min             \n",
      "  Type                   : CONIC (conic optimization problem)\n",
      "  Constraints            : 1053            \n",
      "  Cones                  : 0               \n",
      "  Scalar variables       : 73              \n",
      "  Matrix variables       : 3               \n",
      "  Integer variables      : 0               \n",
      "\n",
      "Optimizer started.\n",
      "Problem\n",
      "  Name                   :                 \n",
      "  Objective sense        : min             \n",
      "  Type                   : CONIC (conic optimization problem)\n",
      "  Constraints            : 1053            \n",
      "  Cones                  : 0               \n",
      "  Scalar variables       : 73              \n",
      "  Matrix variables       : 3               \n",
      "  Integer variables      : 0               \n",
      "\n",
      "Optimizer  - threads                : 2               \n",
      "Optimizer  - solved problem         : the primal      \n",
      "Optimizer  - Constraints            : 1000\n",
      "Optimizer  - Cones                  : 1\n",
      "Optimizer  - Scalar variables       : 38                conic                  : 37              \n",
      "Optimizer  - Semi-definite variables: 3                 scalarized             : 522             \n",
      "Factor     - setup time             : 0.07              dense det. time        : 0.00            \n",
      "Factor     - ML order time          : 0.03              GP order time          : 0.00            \n",
      "Factor     - nonzeros before factor : 4.10e+05          after factor           : 4.17e+05        \n",
      "Factor     - dense dim.             : 2                 flops                  : 2.47e+08        \n",
      "ITE PFEAS    DFEAS    GFEAS    PRSTATUS   POBJ              DOBJ              MU       TIME  \n",
      "0   1.0e+00  1.1e+01  1.0e+00  0.00e+00   0.000000000e+00   0.000000000e+00   1.0e+00  0.08  \n",
      "1   1.4e-01  1.6e+00  1.5e-01  -6.58e-01  -7.556113101e-01  8.482969734e-03   1.4e-01  0.29  \n",
      "2   1.8e-02  2.1e-01  3.7e-03  1.15e+00   7.698474493e-03   1.035442180e-02   1.8e-02  0.37  \n",
      "3   3.1e-03  3.5e-02  2.7e-04  9.91e-01   4.107903092e-02   4.167030081e-02   3.0e-03  0.43  \n",
      "4   2.4e-03  2.7e-02  2.1e-04  4.75e-01   1.029691871e-01   1.046801745e-01   2.4e-03  0.46  \n",
      "5   4.4e-04  5.0e-03  3.5e-05  3.09e-01   6.513034372e-01   6.545254792e-01   4.3e-04  0.52  \n",
      "6   6.7e-05  7.7e-04  8.6e-06  -2.31e-01  1.961658160e+00   1.976127074e+00   6.7e-05  0.57  \n",
      "7   2.9e-05  3.3e-04  5.3e-06  -7.05e-01  3.212686900e+00   3.246044006e+00   2.8e-05  0.61  \n",
      "8   1.1e-05  1.3e-04  3.3e-06  -5.89e-01  5.139878515e+00   5.224481321e+00   1.1e-05  0.64  \n",
      "9   1.6e-06  1.8e-05  5.7e-07  -4.19e-01  1.399493512e+01   1.413132313e+01   1.5e-06  0.70  \n",
      "10  7.7e-07  8.7e-06  3.0e-07  -4.05e-01  1.833317623e+01   1.849011638e+01   7.6e-07  0.73  \n",
      "11  1.3e-07  1.5e-06  6.2e-08  -4.69e-01  3.308109028e+01   3.331037089e+01   1.3e-07  0.77  \n",
      "12  1.0e-07  1.1e-06  5.1e-08  -1.68e-01  3.518751196e+01   3.544905916e+01   1.0e-07  0.80  \n",
      "13  5.2e-08  5.8e-07  1.9e-08  4.94e-01   4.418820034e+01   4.432351869e+01   4.4e-08  0.83  \n",
      "14  2.3e-08  2.5e-07  7.3e-09  4.11e-01   4.815214005e+01   4.826061217e+01   1.9e-08  0.88  \n",
      "15  5.6e-09  6.4e-08  9.7e-10  8.13e-01   5.180890088e+01   5.183968032e+01   4.8e-09  0.91  \n",
      "16  4.4e-09  5.0e-08  6.9e-10  9.32e-01   5.207384623e+01   5.209863371e+01   3.8e-09  0.94  \n",
      "17  4.2e-09  4.5e-08  5.9e-10  9.46e-01   5.218143720e+01   5.220378235e+01   3.4e-09  0.98  \n",
      "18  4.2e-09  4.5e-08  5.9e-10  9.49e-01   5.218143720e+01   5.220378235e+01   3.4e-09  1.02  \n",
      "19  4.2e-09  4.5e-08  5.9e-10  9.50e-01   5.218143720e+01   5.220378235e+01   3.4e-09  1.05  \n",
      "Optimizer terminated. Time: 1.12    \n",
      "\n",
      "\n",
      "Interior-point solution summary\n",
      "  Problem status  : UNKNOWN\n",
      "  Solution status : UNKNOWN\n",
      "  Primal.  obj: 5.2181437205e+01    nrm: 3e+01    Viol.  con: 1e-04    var: 0e+00    barvar: 0e+00  \n",
      "  Dual.    obj: 5.2203782351e+01    nrm: 1e+05    Viol.  con: 0e+00    var: 1e-04    barvar: 1e-05  \n"
     ]
    },
    {
     "ename": "SolverError",
     "evalue": "Solver 'MOSEK' failed. Try another solver, or solve with verbose=True for more information.",
     "output_type": "error",
     "traceback": [
      "\u001B[0;31m---------------------------------------------------------------------------\u001B[0m",
      "\u001B[0;31mSolverError\u001B[0m                               Traceback (most recent call last)",
      "\u001B[0;32m<ipython-input-431-d681af593af8>\u001B[0m in \u001B[0;36m<module>\u001B[0;34m\u001B[0m\n\u001B[1;32m     17\u001B[0m \u001B[0mcons\u001B[0m \u001B[0;34m=\u001B[0m \u001B[0;34m[\u001B[0m\u001B[0mS\u001B[0m \u001B[0;34m>>\u001B[0m \u001B[0;36m0\u001B[0m\u001B[0;34m,\u001B[0m \u001B[0mmu\u001B[0m \u001B[0;34m>=\u001B[0m \u001B[0;36m1e-2\u001B[0m\u001B[0;34m]\u001B[0m \u001B[0;34m+\u001B[0m \u001B[0;34m[\u001B[0m\u001B[0mcons_mat\u001B[0m \u001B[0;34m<<\u001B[0m \u001B[0;36m0\u001B[0m\u001B[0;34m]\u001B[0m\u001B[0;34m\u001B[0m\u001B[0;34m\u001B[0m\u001B[0m\n\u001B[1;32m     18\u001B[0m \u001B[0;34m\u001B[0m\u001B[0m\n\u001B[0;32m---> 19\u001B[0;31m \u001B[0mcp\u001B[0m\u001B[0;34m.\u001B[0m\u001B[0mProblem\u001B[0m\u001B[0;34m(\u001B[0m\u001B[0mcp\u001B[0m\u001B[0;34m.\u001B[0m\u001B[0mMinimize\u001B[0m\u001B[0;34m(\u001B[0m\u001B[0mf\u001B[0m\u001B[0;34m)\u001B[0m\u001B[0;34m,\u001B[0m \u001B[0mcons\u001B[0m\u001B[0;34m)\u001B[0m\u001B[0;34m.\u001B[0m\u001B[0msolve\u001B[0m\u001B[0;34m(\u001B[0m\u001B[0msolver\u001B[0m\u001B[0;34m=\u001B[0m\u001B[0mcp\u001B[0m\u001B[0;34m.\u001B[0m\u001B[0mMOSEK\u001B[0m\u001B[0;34m,\u001B[0m \u001B[0mverbose\u001B[0m\u001B[0;34m=\u001B[0m\u001B[0;32mTrue\u001B[0m\u001B[0;34m)\u001B[0m\u001B[0;34m\u001B[0m\u001B[0;34m\u001B[0m\u001B[0m\n\u001B[0m\u001B[1;32m     20\u001B[0m \u001B[0mK\u001B[0m \u001B[0;34m=\u001B[0m \u001B[0mnp\u001B[0m\u001B[0;34m.\u001B[0m\u001B[0mlinalg\u001B[0m\u001B[0;34m.\u001B[0m\u001B[0msolve\u001B[0m\u001B[0;34m(\u001B[0m\u001B[0mS\u001B[0m\u001B[0;34m.\u001B[0m\u001B[0mvalue\u001B[0m\u001B[0;34m,\u001B[0m \u001B[0mY\u001B[0m\u001B[0;34m.\u001B[0m\u001B[0mvalue\u001B[0m\u001B[0;34m.\u001B[0m\u001B[0mT\u001B[0m\u001B[0;34m)\u001B[0m\u001B[0;34m.\u001B[0m\u001B[0mT\u001B[0m\u001B[0;34m\u001B[0m\u001B[0;34m\u001B[0m\u001B[0m\n\u001B[1;32m     21\u001B[0m \u001B[0;34m\u001B[0m\u001B[0m\n",
      "\u001B[0;32m~/.local/lib/python3.6/site-packages/cvxpy/problems/problem.py\u001B[0m in \u001B[0;36msolve\u001B[0;34m(self, *args, **kwargs)\u001B[0m\n\u001B[1;32m    307\u001B[0m         \u001B[0;32melse\u001B[0m\u001B[0;34m:\u001B[0m\u001B[0;34m\u001B[0m\u001B[0;34m\u001B[0m\u001B[0m\n\u001B[1;32m    308\u001B[0m             \u001B[0msolve_func\u001B[0m \u001B[0;34m=\u001B[0m \u001B[0mProblem\u001B[0m\u001B[0;34m.\u001B[0m\u001B[0m_solve\u001B[0m\u001B[0;34m\u001B[0m\u001B[0;34m\u001B[0m\u001B[0m\n\u001B[0;32m--> 309\u001B[0;31m         \u001B[0;32mreturn\u001B[0m \u001B[0msolve_func\u001B[0m\u001B[0;34m(\u001B[0m\u001B[0mself\u001B[0m\u001B[0;34m,\u001B[0m \u001B[0;34m*\u001B[0m\u001B[0margs\u001B[0m\u001B[0;34m,\u001B[0m \u001B[0;34m**\u001B[0m\u001B[0mkwargs\u001B[0m\u001B[0;34m)\u001B[0m\u001B[0;34m\u001B[0m\u001B[0;34m\u001B[0m\u001B[0m\n\u001B[0m\u001B[1;32m    310\u001B[0m \u001B[0;34m\u001B[0m\u001B[0m\n\u001B[1;32m    311\u001B[0m     \u001B[0;34m@\u001B[0m\u001B[0mclassmethod\u001B[0m\u001B[0;34m\u001B[0m\u001B[0;34m\u001B[0m\u001B[0m\n",
      "\u001B[0;32m~/.local/lib/python3.6/site-packages/cvxpy/problems/problem.py\u001B[0m in \u001B[0;36m_solve\u001B[0;34m(self, solver, warm_start, verbose, gp, qcp, requires_grad, **kwargs)\u001B[0m\n\u001B[1;32m    624\u001B[0m         solution = solving_chain.solve_via_data(\n\u001B[1;32m    625\u001B[0m             self, data, warm_start, verbose, kwargs)\n\u001B[0;32m--> 626\u001B[0;31m         \u001B[0mself\u001B[0m\u001B[0;34m.\u001B[0m\u001B[0munpack_results\u001B[0m\u001B[0;34m(\u001B[0m\u001B[0msolution\u001B[0m\u001B[0;34m,\u001B[0m \u001B[0msolving_chain\u001B[0m\u001B[0;34m,\u001B[0m \u001B[0minverse_data\u001B[0m\u001B[0;34m)\u001B[0m\u001B[0;34m\u001B[0m\u001B[0;34m\u001B[0m\u001B[0m\n\u001B[0m\u001B[1;32m    627\u001B[0m         \u001B[0;32mreturn\u001B[0m \u001B[0mself\u001B[0m\u001B[0;34m.\u001B[0m\u001B[0mvalue\u001B[0m\u001B[0;34m\u001B[0m\u001B[0;34m\u001B[0m\u001B[0m\n\u001B[1;32m    628\u001B[0m \u001B[0;34m\u001B[0m\u001B[0m\n",
      "\u001B[0;32m~/.local/lib/python3.6/site-packages/cvxpy/problems/problem.py\u001B[0m in \u001B[0;36munpack_results\u001B[0;34m(self, solution, chain, inverse_data)\u001B[0m\n\u001B[1;32m    862\u001B[0m             raise error.SolverError(\n\u001B[1;32m    863\u001B[0m                     \u001B[0;34m\"Solver '%s' failed. \"\u001B[0m \u001B[0;34m%\u001B[0m \u001B[0mchain\u001B[0m\u001B[0;34m.\u001B[0m\u001B[0msolver\u001B[0m\u001B[0;34m.\u001B[0m\u001B[0mname\u001B[0m\u001B[0;34m(\u001B[0m\u001B[0;34m)\u001B[0m \u001B[0;34m+\u001B[0m\u001B[0;34m\u001B[0m\u001B[0;34m\u001B[0m\u001B[0m\n\u001B[0;32m--> 864\u001B[0;31m                     \u001B[0;34m\"Try another solver, or solve with verbose=True for more \"\u001B[0m\u001B[0;34m\u001B[0m\u001B[0;34m\u001B[0m\u001B[0m\n\u001B[0m\u001B[1;32m    865\u001B[0m                     \"information.\")\n\u001B[1;32m    866\u001B[0m         \u001B[0mself\u001B[0m\u001B[0;34m.\u001B[0m\u001B[0munpack\u001B[0m\u001B[0;34m(\u001B[0m\u001B[0msolution\u001B[0m\u001B[0;34m)\u001B[0m\u001B[0;34m\u001B[0m\u001B[0;34m\u001B[0m\u001B[0m\n",
      "\u001B[0;31mSolverError\u001B[0m: Solver 'MOSEK' failed. Try another solver, or solve with verbose=True for more information."
     ]
    }
   ],
   "source": [
    "alpha = 0.0001\n",
    "\n",
    "n, m = B.shape\n",
    "wq = C.shape[0]\n",
    "\n",
    "S = cp.Variable((n, n), symmetric=True)\n",
    "Y = cp.Variable((m, n))\n",
    "mu = cp.Variable()\n",
    "\n",
    "R_sqrt = la.sqrtm(R)\n",
    "f = cp.trace(S @ Q) + cp.matrix_frac(Y.T @ R_sqrt, S)\n",
    "\n",
    "cons_mat = cp.bmat((\n",
    "    (A @ S + S @ A.T + cp.multiply(mu, G @ G.T) + B @ Y + Y.T @ B.T + alpha * S, S @ C.T + Y.T @ D.T),\n",
    "    (C @ S + D @ Y, -cp.multiply(mu, np.eye(wq)))\n",
    "))\n",
    "cons = [S >> 0, mu >= 1e-2] + [cons_mat << 0]\n",
    "\n",
    "cp.Problem(cp.Minimize(f), cons).solve(solver=cp.MOSEK, verbose=True)\n",
    "K = np.linalg.solve(S.value, Y.value.T).T"
   ]
  },
  {
   "cell_type": "code",
   "execution_count": null,
   "outputs": [],
   "source": [],
   "metadata": {
    "collapsed": false,
    "pycharm": {
     "name": "#%%\n"
    }
   }
  }
 ],
 "metadata": {
  "kernelspec": {
   "name": "pycharm-94d9243a",
   "language": "python",
   "display_name": "PyCharm (RobustRL)"
  },
  "language_info": {
   "codemirror_mode": {
    "name": "ipython",
    "version": 3
   },
   "file_extension": ".py",
   "mimetype": "text/x-python",
   "name": "python",
   "nbconvert_exporter": "python",
   "pygments_lexer": "ipython3",
   "version": "3.5.2"
  }
 },
 "nbformat": 4,
 "nbformat_minor": 2
}