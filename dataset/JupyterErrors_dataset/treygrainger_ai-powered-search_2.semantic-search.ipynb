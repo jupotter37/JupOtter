{
 "cells": [
  {
   "cell_type": "markdown",
   "metadata": {},
   "source": [
    "# Semantic Search Application"
   ]
  },
  {
   "cell_type": "code",
   "execution_count": 2,
   "metadata": {},
   "outputs": [],
   "source": [
    "import sys\n",
    "sys.path.append('..')\n",
    "sys.path.append(\"../webserver\")\n",
    "from aips import *\n",
    "from webserver.semantic_search import *\n",
    "from webserver.semantic_search.engine import *\n",
    "from webserver.semantic_search.query_tree import *\n",
    "from env import SOLR_URL\n",
    "engine = get_engine()"
   ]
  },
  {
   "cell_type": "markdown",
   "metadata": {},
   "source": [
    "## Starting the Reviews Search Web Server and Launching the Search Page"
   ]
  },
  {
   "cell_type": "code",
   "execution_count": 8,
   "metadata": {},
   "outputs": [],
   "source": [
    "def get_running_webservers():\n",
    "    already_running_webservers = ! ps -ef | grep '[s]tart-webserver.py' | awk '{print $2}'\n",
    "    return already_running_webservers\n",
    "    \n",
    "def stop_running_webservers():\n",
    "    already_running_webservers = get_running_webservers()\n",
    "    for pid in already_running_webservers:\n",
    "        print(\"Stopping webserver (pid: \" + pid + \")\")\n",
    "        results = ! xargs kill -9 {pid}\n",
    "\n",
    "def start_reviews_search_webserver():\n",
    "    stop_running_webservers() #in case it was already running\n",
    "    get_ipython().system = os.system\n",
    "    ! cd ../webserver && python start-webserver.py &\n",
    "    if len(get_running_webservers()) > 0:\n",
    "        print(\"Successfully Started Webserver (pid: \" + get_running_webservers()[0] + \")!\")"
   ]
  },
  {
   "cell_type": "markdown",
   "metadata": {},
   "source": [
    "### Listing 7.2"
   ]
  },
  {
   "cell_type": "code",
   "execution_count": 9,
   "metadata": {},
   "outputs": [],
   "source": [
    "#Start the web server\n",
    "start_reviews_search_webserver()\n"
   ]
  },
  {
   "cell_type": "markdown",
   "metadata": {},
   "source": [
    "### Figure 7.2"
   ]
  },
  {
   "cell_type": "code",
   "execution_count": 10,
   "metadata": {},
   "outputs": [
    {
     "data": {
      "text/html": [
       "<iframe src=\"http://localhost:2345/search\" width=100% height=\"800\"></iframe>\n"
      ],
      "text/plain": [
       "<IPython.core.display.HTML object>"
      ]
     },
     "metadata": {},
     "output_type": "display_data"
    }
   ],
   "source": [
    "%%html\n",
    "<iframe src=\"http://localhost:2345/search\" width=100% height=\"800\"></iframe>\n"
   ]
  },
  {
   "cell_type": "markdown",
   "metadata": {},
   "source": [
    "### Figure 7.3"
   ]
  },
  {
   "cell_type": "code",
   "execution_count": 11,
   "metadata": {
    "tags": []
   },
   "outputs": [
    {
     "data": {
      "text/html": [
       "<iframe src=\"http://localhost:2345/search?q=bbq+near+charlotte\" width=100% height=\"800\"></iframe>\n"
      ],
      "text/plain": [
       "<IPython.core.display.HTML object>"
      ]
     },
     "metadata": {},
     "output_type": "display_data"
    }
   ],
   "source": [
    "%%html\n",
    "<iframe src=\"http://localhost:2345/search?q=bbq+near+charlotte\" width=100% height=\"800\"></iframe>"
   ]
  },
  {
   "cell_type": "markdown",
   "metadata": {
    "tags": []
   },
   "source": [
    "### Figure 7.4"
   ]
  },
  {
   "cell_type": "code",
   "execution_count": 12,
   "metadata": {
    "tags": []
   },
   "outputs": [
    {
     "data": {
      "text/html": [
       "<iframe src=\"http://localhost:2345/search?q=bbq+charlotte\" width=100% height=\"800\"></iframe>\n"
      ],
      "text/plain": [
       "<IPython.core.display.HTML object>"
      ]
     },
     "metadata": {},
     "output_type": "display_data"
    }
   ],
   "source": [
    "%%html\n",
    "<iframe src=\"http://localhost:2345/search?q=bbq+charlotte\" width=100% height=\"800\"></iframe>"
   ]
  },
  {
   "cell_type": "markdown",
   "metadata": {
    "tags": []
   },
   "source": [
    "### Figure 7.5"
   ]
  },
  {
   "cell_type": "code",
   "execution_count": 13,
   "metadata": {
    "tags": []
   },
   "outputs": [
    {
     "data": {
      "text/html": [
       "<iframe src=\"http://localhost:2345/semantic-search?q=top+kimchi+near+charlotte&submit=false\" width=100% height=\"800\"></iframe>\n"
      ],
      "text/plain": [
       "<IPython.core.display.HTML object>"
      ]
     },
     "metadata": {},
     "output_type": "display_data"
    }
   ],
   "source": [
    "%%html\n",
    "<iframe src=\"http://localhost:2345/semantic-search?q=top+kimchi+near+charlotte&submit=false\" width=100% height=\"800\"></iframe>"
   ]
  },
  {
   "cell_type": "markdown",
   "metadata": {
    "tags": []
   },
   "source": [
    "### Figure 7.6"
   ]
  },
  {
   "cell_type": "code",
   "execution_count": 14,
   "metadata": {
    "tags": []
   },
   "outputs": [
    {
     "data": {
      "text/html": [
       "<iframe src=\"http://localhost:2345/search?q=top+korean+bbq+near+charlotte&submit=false\" width=100% height=\"800\"></iframe>\n"
      ],
      "text/plain": [
       "<IPython.core.display.HTML object>"
      ]
     },
     "metadata": {},
     "output_type": "display_data"
    }
   ],
   "source": [
    "%%html\n",
    "<iframe src=\"http://localhost:2345/search?q=top+korean+bbq+near+charlotte&submit=false\" width=100% height=\"800\"></iframe>"
   ]
  },
  {
   "cell_type": "markdown",
   "metadata": {
    "tags": []
   },
   "source": [
    "### Figure 7.7"
   ]
  },
  {
   "cell_type": "code",
   "execution_count": 15,
   "metadata": {
    "tags": []
   },
   "outputs": [
    {
     "data": {
      "text/html": [
       "<iframe src=\"http://localhost:2345/semantic-search?q=top+korean+bbq+near+charlotte&submit=true\" width=100% height=\"800\"></iframe>\n"
      ],
      "text/plain": [
       "<IPython.core.display.HTML object>"
      ]
     },
     "metadata": {},
     "output_type": "display_data"
    }
   ],
   "source": [
    "%%html\n",
    "<iframe src=\"http://localhost:2345/semantic-search?q=top+korean+bbq+near+charlotte&submit=true\" width=100% height=\"800\"></iframe>"
   ]
  },
  {
   "cell_type": "markdown",
   "metadata": {},
   "source": [
    "### Listing 7.3"
   ]
  },
  {
   "cell_type": "code",
   "execution_count": 16,
   "metadata": {},
   "outputs": [
    {
     "data": {
      "text/plain": [
       "['cat: ../data/reviews/entities.csv: No such file or directory']"
      ]
     },
     "execution_count": 16,
     "metadata": {},
     "output_type": "execute_result"
    }
   ],
   "source": [
    "!! cat ../data/reviews/entities.csv"
   ]
  },
  {
   "cell_type": "markdown",
   "metadata": {},
   "source": [
    "### Listing 7.4 : [located here](../ch07/1.index-datasets.ipynb#Listing-7.4)."
   ]
  },
  {
   "cell_type": "markdown",
   "metadata": {},
   "source": [
    "### Listing 7.5 : [located here](../ch07/1.index-datasets.ipynb#Listing-7.5)."
   ]
  },
  {
   "cell_type": "markdown",
   "metadata": {},
   "source": [
    "### Listing 7.6"
   ]
  },
  {
   "cell_type": "code",
   "execution_count": 10,
   "metadata": {},
   "outputs": [],
   "source": [
    "def tag_query(collection_name, query):\n",
    "    url_params = \"json.nl=map&sort=popularity%20desc&matchText=true&echoParams=all&fl=id,type,canonical_form,surface_form,name,country:countrycode_s,admin_area:admin_code_1_s,popularity,*_p,semantic_function\"\n",
    "    return requests.post(f\"http://localhost:8983/solr/{collection_name}/tag?{url_params}\", query).json()"
   ]
  },
  {
   "cell_type": "code",
   "execution_count": 13,
   "metadata": {
    "tags": []
   },
   "outputs": [
    {
     "data": {
      "text/plain": [
       "{'responseHeader': {'status': 0,\n",
       "  'QTime': 0,\n",
       "  'params': {'json.nl': 'map',\n",
       "   'field': 'name_tag',\n",
       "   'echoParams': 'all',\n",
       "   'fl': 'id,type,canonical_form,surface_form,name,country:countrycode_s,admin_area:admin_code_1_s,popularity,*_p,semantic_function',\n",
       "   'sort': 'popularity desc',\n",
       "   'matchText': 'true'}},\n",
       " 'tagsCount': 3,\n",
       " 'tags': [{'startOffset': 0, 'endOffset': 3, 'matchText': 'top', 'ids': ['7']},\n",
       "  {'startOffset': 15, 'endOffset': 19, 'matchText': 'near', 'ids': ['1', '5']},\n",
       "  {'startOffset': 20,\n",
       "   'endOffset': 29,\n",
       "   'matchText': 'charlotte',\n",
       "   'ids': ['4460243', '4612828', '4680560', '4988584', '5234793']}],\n",
       " 'response': {'numFound': 8,\n",
       "  'start': 0,\n",
       "  'numFoundExact': True,\n",
       "  'docs': [{'id': '1',\n",
       "    'surface_form': 'near',\n",
       "    'canonical_form': '{location_distance}',\n",
       "    'type': 'semantic_function',\n",
       "    'popularity': 90,\n",
       "    'semantic_function': 'location_distance(query, position)'},\n",
       "   {'id': '5',\n",
       "    'surface_form': 'near',\n",
       "    'canonical_form': '{text_distance}',\n",
       "    'type': 'semantic_function',\n",
       "    'popularity': 10,\n",
       "    'semantic_function': 'text_distance(query, position)'},\n",
       "   {'id': '7',\n",
       "    'surface_form': 'top',\n",
       "    'canonical_form': '{popular}',\n",
       "    'type': 'semantic_function',\n",
       "    'popularity': 100,\n",
       "    'semantic_function': 'popularity(query, position)'},\n",
       "   {'id': '4460243',\n",
       "    'name': 'Charlotte',\n",
       "    'canonical_form': 'Charlotte',\n",
       "    'surface_form': 'Charlotte',\n",
       "    'popularity': 827097,\n",
       "    'type': 'city',\n",
       "    'location_p': '35.22709,-80.84313',\n",
       "    'admin_area': 'NC'},\n",
       "   {'id': '4612828',\n",
       "    'name': 'Charlotte',\n",
       "    'canonical_form': 'Charlotte',\n",
       "    'surface_form': 'Charlotte',\n",
       "    'popularity': 1506,\n",
       "    'type': 'city',\n",
       "    'location_p': '36.17728,-87.33973',\n",
       "    'admin_area': 'TN'},\n",
       "   {'id': '4680560',\n",
       "    'name': 'Charlotte',\n",
       "    'canonical_form': 'Charlotte',\n",
       "    'surface_form': 'Charlotte',\n",
       "    'popularity': 1815,\n",
       "    'type': 'city',\n",
       "    'location_p': '28.86192,-98.70641',\n",
       "    'admin_area': 'TX'},\n",
       "   {'id': '4988584',\n",
       "    'name': 'Charlotte',\n",
       "    'canonical_form': 'Charlotte',\n",
       "    'surface_form': 'Charlotte',\n",
       "    'popularity': 9054,\n",
       "    'type': 'city',\n",
       "    'location_p': '42.56365,-84.83582',\n",
       "    'admin_area': 'MI'},\n",
       "   {'id': '5234793',\n",
       "    'name': 'Charlotte',\n",
       "    'canonical_form': 'Charlotte',\n",
       "    'surface_form': 'Charlotte',\n",
       "    'popularity': 3861,\n",
       "    'type': 'city',\n",
       "    'location_p': '44.30977,-73.26096',\n",
       "    'admin_area': 'VT'}]}}"
      ]
     },
     "execution_count": 13,
     "metadata": {},
     "output_type": "execute_result"
    }
   ],
   "source": [
    "query = \"top korean bbq near charlotte\"\n",
    "tag_query(\"entities\", query)"
   ]
  },
  {
   "cell_type": "markdown",
   "metadata": {},
   "source": [
    "### Listing 7.7"
   ]
  },
  {
   "cell_type": "code",
   "execution_count": 11,
   "metadata": {},
   "outputs": [],
   "source": [
    "# %load -s process_semantic_query webserver/semantic_search/__init__\n",
    "def process_semantic_query(collection, query_bytes):\n",
    "    text = query_bytes.decode('UTF-8')\n",
    "    tagger_data = tag_query(\"entities\", query_bytes)\n",
    "    \n",
    "    query_tree, tagged_query, enriched_query = generate_query_representations(text, tagger_data)\n",
    "        \n",
    "    enriched_query_tree = enrich(collection, query_tree)\n",
    "    transformed = transform_query(enriched_query_tree)\n",
    "    query_string = to_query_string(transformed)      \n",
    "\n",
    "    response = {\n",
    "        \"tagged_query\": tagged_query,\n",
    "        \"enriched_query\": enriched_query, \n",
    "        \"transformed_query\": query_string,\n",
    "        \"tagger_data\": tagger_data\n",
    "    }\n",
    "\n",
    "    return response\n"
   ]
  },
  {
   "cell_type": "code",
   "execution_count": 14,
   "metadata": {
    "tags": []
   },
   "outputs": [
    {
     "ename": "ConnectionError",
     "evalue": "HTTPConnectionPool(host='aips-solr', port=8983): Max retries exceeded with url: /solr/reviews/select (Caused by NameResolutionError(\"<urllib3.connection.HTTPConnection object at 0x00000223CE180590>: Failed to resolve 'aips-solr' ([Errno 11001] getaddrinfo failed)\"))",
     "output_type": "error",
     "traceback": [
      "\u001b[1;31m---------------------------------------------------------------------------\u001b[0m",
      "\u001b[1;31mgaierror\u001b[0m                                  Traceback (most recent call last)",
      "File \u001b[1;32mc:\\Users\\DC\\AppData\\Local\\Programs\\Python\\Python312\\Lib\\site-packages\\urllib3\\connection.py:203\u001b[0m, in \u001b[0;36mHTTPConnection._new_conn\u001b[1;34m(self)\u001b[0m\n\u001b[0;32m    202\u001b[0m \u001b[38;5;28;01mtry\u001b[39;00m:\n\u001b[1;32m--> 203\u001b[0m     sock \u001b[38;5;241m=\u001b[39m \u001b[43mconnection\u001b[49m\u001b[38;5;241;43m.\u001b[39;49m\u001b[43mcreate_connection\u001b[49m\u001b[43m(\u001b[49m\n\u001b[0;32m    204\u001b[0m \u001b[43m        \u001b[49m\u001b[43m(\u001b[49m\u001b[38;5;28;43mself\u001b[39;49m\u001b[38;5;241;43m.\u001b[39;49m\u001b[43m_dns_host\u001b[49m\u001b[43m,\u001b[49m\u001b[43m \u001b[49m\u001b[38;5;28;43mself\u001b[39;49m\u001b[38;5;241;43m.\u001b[39;49m\u001b[43mport\u001b[49m\u001b[43m)\u001b[49m\u001b[43m,\u001b[49m\n\u001b[0;32m    205\u001b[0m \u001b[43m        \u001b[49m\u001b[38;5;28;43mself\u001b[39;49m\u001b[38;5;241;43m.\u001b[39;49m\u001b[43mtimeout\u001b[49m\u001b[43m,\u001b[49m\n\u001b[0;32m    206\u001b[0m \u001b[43m        \u001b[49m\u001b[43msource_address\u001b[49m\u001b[38;5;241;43m=\u001b[39;49m\u001b[38;5;28;43mself\u001b[39;49m\u001b[38;5;241;43m.\u001b[39;49m\u001b[43msource_address\u001b[49m\u001b[43m,\u001b[49m\n\u001b[0;32m    207\u001b[0m \u001b[43m        \u001b[49m\u001b[43msocket_options\u001b[49m\u001b[38;5;241;43m=\u001b[39;49m\u001b[38;5;28;43mself\u001b[39;49m\u001b[38;5;241;43m.\u001b[39;49m\u001b[43msocket_options\u001b[49m\u001b[43m,\u001b[49m\n\u001b[0;32m    208\u001b[0m \u001b[43m    \u001b[49m\u001b[43m)\u001b[49m\n\u001b[0;32m    209\u001b[0m \u001b[38;5;28;01mexcept\u001b[39;00m socket\u001b[38;5;241m.\u001b[39mgaierror \u001b[38;5;28;01mas\u001b[39;00m e:\n",
      "File \u001b[1;32mc:\\Users\\DC\\AppData\\Local\\Programs\\Python\\Python312\\Lib\\site-packages\\urllib3\\util\\connection.py:60\u001b[0m, in \u001b[0;36mcreate_connection\u001b[1;34m(address, timeout, source_address, socket_options)\u001b[0m\n\u001b[0;32m     58\u001b[0m     \u001b[38;5;28;01mraise\u001b[39;00m LocationParseError(\u001b[38;5;124mf\u001b[39m\u001b[38;5;124m\"\u001b[39m\u001b[38;5;124m'\u001b[39m\u001b[38;5;132;01m{\u001b[39;00mhost\u001b[38;5;132;01m}\u001b[39;00m\u001b[38;5;124m'\u001b[39m\u001b[38;5;124m, label empty or too long\u001b[39m\u001b[38;5;124m\"\u001b[39m) \u001b[38;5;28;01mfrom\u001b[39;00m \u001b[38;5;28;01mNone\u001b[39;00m\n\u001b[1;32m---> 60\u001b[0m \u001b[38;5;28;01mfor\u001b[39;00m res \u001b[38;5;129;01min\u001b[39;00m \u001b[43msocket\u001b[49m\u001b[38;5;241;43m.\u001b[39;49m\u001b[43mgetaddrinfo\u001b[49m\u001b[43m(\u001b[49m\u001b[43mhost\u001b[49m\u001b[43m,\u001b[49m\u001b[43m \u001b[49m\u001b[43mport\u001b[49m\u001b[43m,\u001b[49m\u001b[43m \u001b[49m\u001b[43mfamily\u001b[49m\u001b[43m,\u001b[49m\u001b[43m \u001b[49m\u001b[43msocket\u001b[49m\u001b[38;5;241;43m.\u001b[39;49m\u001b[43mSOCK_STREAM\u001b[49m\u001b[43m)\u001b[49m:\n\u001b[0;32m     61\u001b[0m     af, socktype, proto, canonname, sa \u001b[38;5;241m=\u001b[39m res\n",
      "File \u001b[1;32mc:\\Users\\DC\\AppData\\Local\\Programs\\Python\\Python312\\Lib\\socket.py:963\u001b[0m, in \u001b[0;36mgetaddrinfo\u001b[1;34m(host, port, family, type, proto, flags)\u001b[0m\n\u001b[0;32m    962\u001b[0m addrlist \u001b[38;5;241m=\u001b[39m []\n\u001b[1;32m--> 963\u001b[0m \u001b[38;5;28;01mfor\u001b[39;00m res \u001b[38;5;129;01min\u001b[39;00m \u001b[43m_socket\u001b[49m\u001b[38;5;241;43m.\u001b[39;49m\u001b[43mgetaddrinfo\u001b[49m\u001b[43m(\u001b[49m\u001b[43mhost\u001b[49m\u001b[43m,\u001b[49m\u001b[43m \u001b[49m\u001b[43mport\u001b[49m\u001b[43m,\u001b[49m\u001b[43m \u001b[49m\u001b[43mfamily\u001b[49m\u001b[43m,\u001b[49m\u001b[43m \u001b[49m\u001b[38;5;28;43mtype\u001b[39;49m\u001b[43m,\u001b[49m\u001b[43m \u001b[49m\u001b[43mproto\u001b[49m\u001b[43m,\u001b[49m\u001b[43m \u001b[49m\u001b[43mflags\u001b[49m\u001b[43m)\u001b[49m:\n\u001b[0;32m    964\u001b[0m     af, socktype, proto, canonname, sa \u001b[38;5;241m=\u001b[39m res\n",
      "\u001b[1;31mgaierror\u001b[0m: [Errno 11001] getaddrinfo failed",
      "\nThe above exception was the direct cause of the following exception:\n",
      "\u001b[1;31mNameResolutionError\u001b[0m                       Traceback (most recent call last)",
      "File \u001b[1;32mc:\\Users\\DC\\AppData\\Local\\Programs\\Python\\Python312\\Lib\\site-packages\\urllib3\\connectionpool.py:790\u001b[0m, in \u001b[0;36mHTTPConnectionPool.urlopen\u001b[1;34m(self, method, url, body, headers, retries, redirect, assert_same_host, timeout, pool_timeout, release_conn, chunked, body_pos, preload_content, decode_content, **response_kw)\u001b[0m\n\u001b[0;32m    789\u001b[0m \u001b[38;5;66;03m# Make the request on the HTTPConnection object\u001b[39;00m\n\u001b[1;32m--> 790\u001b[0m response \u001b[38;5;241m=\u001b[39m \u001b[38;5;28;43mself\u001b[39;49m\u001b[38;5;241;43m.\u001b[39;49m\u001b[43m_make_request\u001b[49m\u001b[43m(\u001b[49m\n\u001b[0;32m    791\u001b[0m \u001b[43m    \u001b[49m\u001b[43mconn\u001b[49m\u001b[43m,\u001b[49m\n\u001b[0;32m    792\u001b[0m \u001b[43m    \u001b[49m\u001b[43mmethod\u001b[49m\u001b[43m,\u001b[49m\n\u001b[0;32m    793\u001b[0m \u001b[43m    \u001b[49m\u001b[43murl\u001b[49m\u001b[43m,\u001b[49m\n\u001b[0;32m    794\u001b[0m \u001b[43m    \u001b[49m\u001b[43mtimeout\u001b[49m\u001b[38;5;241;43m=\u001b[39;49m\u001b[43mtimeout_obj\u001b[49m\u001b[43m,\u001b[49m\n\u001b[0;32m    795\u001b[0m \u001b[43m    \u001b[49m\u001b[43mbody\u001b[49m\u001b[38;5;241;43m=\u001b[39;49m\u001b[43mbody\u001b[49m\u001b[43m,\u001b[49m\n\u001b[0;32m    796\u001b[0m \u001b[43m    \u001b[49m\u001b[43mheaders\u001b[49m\u001b[38;5;241;43m=\u001b[39;49m\u001b[43mheaders\u001b[49m\u001b[43m,\u001b[49m\n\u001b[0;32m    797\u001b[0m \u001b[43m    \u001b[49m\u001b[43mchunked\u001b[49m\u001b[38;5;241;43m=\u001b[39;49m\u001b[43mchunked\u001b[49m\u001b[43m,\u001b[49m\n\u001b[0;32m    798\u001b[0m \u001b[43m    \u001b[49m\u001b[43mretries\u001b[49m\u001b[38;5;241;43m=\u001b[39;49m\u001b[43mretries\u001b[49m\u001b[43m,\u001b[49m\n\u001b[0;32m    799\u001b[0m \u001b[43m    \u001b[49m\u001b[43mresponse_conn\u001b[49m\u001b[38;5;241;43m=\u001b[39;49m\u001b[43mresponse_conn\u001b[49m\u001b[43m,\u001b[49m\n\u001b[0;32m    800\u001b[0m \u001b[43m    \u001b[49m\u001b[43mpreload_content\u001b[49m\u001b[38;5;241;43m=\u001b[39;49m\u001b[43mpreload_content\u001b[49m\u001b[43m,\u001b[49m\n\u001b[0;32m    801\u001b[0m \u001b[43m    \u001b[49m\u001b[43mdecode_content\u001b[49m\u001b[38;5;241;43m=\u001b[39;49m\u001b[43mdecode_content\u001b[49m\u001b[43m,\u001b[49m\n\u001b[0;32m    802\u001b[0m \u001b[43m    \u001b[49m\u001b[38;5;241;43m*\u001b[39;49m\u001b[38;5;241;43m*\u001b[39;49m\u001b[43mresponse_kw\u001b[49m\u001b[43m,\u001b[49m\n\u001b[0;32m    803\u001b[0m \u001b[43m\u001b[49m\u001b[43m)\u001b[49m\n\u001b[0;32m    805\u001b[0m \u001b[38;5;66;03m# Everything went great!\u001b[39;00m\n",
      "File \u001b[1;32mc:\\Users\\DC\\AppData\\Local\\Programs\\Python\\Python312\\Lib\\site-packages\\urllib3\\connectionpool.py:496\u001b[0m, in \u001b[0;36mHTTPConnectionPool._make_request\u001b[1;34m(self, conn, method, url, body, headers, retries, timeout, chunked, response_conn, preload_content, decode_content, enforce_content_length)\u001b[0m\n\u001b[0;32m    495\u001b[0m \u001b[38;5;28;01mtry\u001b[39;00m:\n\u001b[1;32m--> 496\u001b[0m     \u001b[43mconn\u001b[49m\u001b[38;5;241;43m.\u001b[39;49m\u001b[43mrequest\u001b[49m\u001b[43m(\u001b[49m\n\u001b[0;32m    497\u001b[0m \u001b[43m        \u001b[49m\u001b[43mmethod\u001b[49m\u001b[43m,\u001b[49m\n\u001b[0;32m    498\u001b[0m \u001b[43m        \u001b[49m\u001b[43murl\u001b[49m\u001b[43m,\u001b[49m\n\u001b[0;32m    499\u001b[0m \u001b[43m        \u001b[49m\u001b[43mbody\u001b[49m\u001b[38;5;241;43m=\u001b[39;49m\u001b[43mbody\u001b[49m\u001b[43m,\u001b[49m\n\u001b[0;32m    500\u001b[0m \u001b[43m        \u001b[49m\u001b[43mheaders\u001b[49m\u001b[38;5;241;43m=\u001b[39;49m\u001b[43mheaders\u001b[49m\u001b[43m,\u001b[49m\n\u001b[0;32m    501\u001b[0m \u001b[43m        \u001b[49m\u001b[43mchunked\u001b[49m\u001b[38;5;241;43m=\u001b[39;49m\u001b[43mchunked\u001b[49m\u001b[43m,\u001b[49m\n\u001b[0;32m    502\u001b[0m \u001b[43m        \u001b[49m\u001b[43mpreload_content\u001b[49m\u001b[38;5;241;43m=\u001b[39;49m\u001b[43mpreload_content\u001b[49m\u001b[43m,\u001b[49m\n\u001b[0;32m    503\u001b[0m \u001b[43m        \u001b[49m\u001b[43mdecode_content\u001b[49m\u001b[38;5;241;43m=\u001b[39;49m\u001b[43mdecode_content\u001b[49m\u001b[43m,\u001b[49m\n\u001b[0;32m    504\u001b[0m \u001b[43m        \u001b[49m\u001b[43menforce_content_length\u001b[49m\u001b[38;5;241;43m=\u001b[39;49m\u001b[43menforce_content_length\u001b[49m\u001b[43m,\u001b[49m\n\u001b[0;32m    505\u001b[0m \u001b[43m    \u001b[49m\u001b[43m)\u001b[49m\n\u001b[0;32m    507\u001b[0m \u001b[38;5;66;03m# We are swallowing BrokenPipeError (errno.EPIPE) since the server is\u001b[39;00m\n\u001b[0;32m    508\u001b[0m \u001b[38;5;66;03m# legitimately able to close the connection after sending a valid response.\u001b[39;00m\n\u001b[0;32m    509\u001b[0m \u001b[38;5;66;03m# With this behaviour, the received response is still readable.\u001b[39;00m\n",
      "File \u001b[1;32mc:\\Users\\DC\\AppData\\Local\\Programs\\Python\\Python312\\Lib\\site-packages\\urllib3\\connection.py:395\u001b[0m, in \u001b[0;36mHTTPConnection.request\u001b[1;34m(self, method, url, body, headers, chunked, preload_content, decode_content, enforce_content_length)\u001b[0m\n\u001b[0;32m    394\u001b[0m     \u001b[38;5;28mself\u001b[39m\u001b[38;5;241m.\u001b[39mputheader(header, value)\n\u001b[1;32m--> 395\u001b[0m \u001b[38;5;28;43mself\u001b[39;49m\u001b[38;5;241;43m.\u001b[39;49m\u001b[43mendheaders\u001b[49m\u001b[43m(\u001b[49m\u001b[43m)\u001b[49m\n\u001b[0;32m    397\u001b[0m \u001b[38;5;66;03m# If we're given a body we start sending that in chunks.\u001b[39;00m\n",
      "File \u001b[1;32mc:\\Users\\DC\\AppData\\Local\\Programs\\Python\\Python312\\Lib\\http\\client.py:1322\u001b[0m, in \u001b[0;36mHTTPConnection.endheaders\u001b[1;34m(self, message_body, encode_chunked)\u001b[0m\n\u001b[0;32m   1321\u001b[0m     \u001b[38;5;28;01mraise\u001b[39;00m CannotSendHeader()\n\u001b[1;32m-> 1322\u001b[0m \u001b[38;5;28;43mself\u001b[39;49m\u001b[38;5;241;43m.\u001b[39;49m\u001b[43m_send_output\u001b[49m\u001b[43m(\u001b[49m\u001b[43mmessage_body\u001b[49m\u001b[43m,\u001b[49m\u001b[43m \u001b[49m\u001b[43mencode_chunked\u001b[49m\u001b[38;5;241;43m=\u001b[39;49m\u001b[43mencode_chunked\u001b[49m\u001b[43m)\u001b[49m\n",
      "File \u001b[1;32mc:\\Users\\DC\\AppData\\Local\\Programs\\Python\\Python312\\Lib\\http\\client.py:1081\u001b[0m, in \u001b[0;36mHTTPConnection._send_output\u001b[1;34m(self, message_body, encode_chunked)\u001b[0m\n\u001b[0;32m   1080\u001b[0m \u001b[38;5;28;01mdel\u001b[39;00m \u001b[38;5;28mself\u001b[39m\u001b[38;5;241m.\u001b[39m_buffer[:]\n\u001b[1;32m-> 1081\u001b[0m \u001b[38;5;28;43mself\u001b[39;49m\u001b[38;5;241;43m.\u001b[39;49m\u001b[43msend\u001b[49m\u001b[43m(\u001b[49m\u001b[43mmsg\u001b[49m\u001b[43m)\u001b[49m\n\u001b[0;32m   1083\u001b[0m \u001b[38;5;28;01mif\u001b[39;00m message_body \u001b[38;5;129;01mis\u001b[39;00m \u001b[38;5;129;01mnot\u001b[39;00m \u001b[38;5;28;01mNone\u001b[39;00m:\n\u001b[0;32m   1084\u001b[0m \n\u001b[0;32m   1085\u001b[0m     \u001b[38;5;66;03m# create a consistent interface to message_body\u001b[39;00m\n",
      "File \u001b[1;32mc:\\Users\\DC\\AppData\\Local\\Programs\\Python\\Python312\\Lib\\http\\client.py:1025\u001b[0m, in \u001b[0;36mHTTPConnection.send\u001b[1;34m(self, data)\u001b[0m\n\u001b[0;32m   1024\u001b[0m \u001b[38;5;28;01mif\u001b[39;00m \u001b[38;5;28mself\u001b[39m\u001b[38;5;241m.\u001b[39mauto_open:\n\u001b[1;32m-> 1025\u001b[0m     \u001b[38;5;28;43mself\u001b[39;49m\u001b[38;5;241;43m.\u001b[39;49m\u001b[43mconnect\u001b[49m\u001b[43m(\u001b[49m\u001b[43m)\u001b[49m\n\u001b[0;32m   1026\u001b[0m \u001b[38;5;28;01melse\u001b[39;00m:\n",
      "File \u001b[1;32mc:\\Users\\DC\\AppData\\Local\\Programs\\Python\\Python312\\Lib\\site-packages\\urllib3\\connection.py:243\u001b[0m, in \u001b[0;36mHTTPConnection.connect\u001b[1;34m(self)\u001b[0m\n\u001b[0;32m    242\u001b[0m \u001b[38;5;28;01mdef\u001b[39;00m \u001b[38;5;21mconnect\u001b[39m(\u001b[38;5;28mself\u001b[39m) \u001b[38;5;241m-\u001b[39m\u001b[38;5;241m>\u001b[39m \u001b[38;5;28;01mNone\u001b[39;00m:\n\u001b[1;32m--> 243\u001b[0m     \u001b[38;5;28mself\u001b[39m\u001b[38;5;241m.\u001b[39msock \u001b[38;5;241m=\u001b[39m \u001b[38;5;28;43mself\u001b[39;49m\u001b[38;5;241;43m.\u001b[39;49m\u001b[43m_new_conn\u001b[49m\u001b[43m(\u001b[49m\u001b[43m)\u001b[49m\n\u001b[0;32m    244\u001b[0m     \u001b[38;5;28;01mif\u001b[39;00m \u001b[38;5;28mself\u001b[39m\u001b[38;5;241m.\u001b[39m_tunnel_host:\n\u001b[0;32m    245\u001b[0m         \u001b[38;5;66;03m# If we're tunneling it means we're connected to our proxy.\u001b[39;00m\n",
      "File \u001b[1;32mc:\\Users\\DC\\AppData\\Local\\Programs\\Python\\Python312\\Lib\\site-packages\\urllib3\\connection.py:210\u001b[0m, in \u001b[0;36mHTTPConnection._new_conn\u001b[1;34m(self)\u001b[0m\n\u001b[0;32m    209\u001b[0m \u001b[38;5;28;01mexcept\u001b[39;00m socket\u001b[38;5;241m.\u001b[39mgaierror \u001b[38;5;28;01mas\u001b[39;00m e:\n\u001b[1;32m--> 210\u001b[0m     \u001b[38;5;28;01mraise\u001b[39;00m NameResolutionError(\u001b[38;5;28mself\u001b[39m\u001b[38;5;241m.\u001b[39mhost, \u001b[38;5;28mself\u001b[39m, e) \u001b[38;5;28;01mfrom\u001b[39;00m \u001b[38;5;21;01me\u001b[39;00m\n\u001b[0;32m    211\u001b[0m \u001b[38;5;28;01mexcept\u001b[39;00m SocketTimeout \u001b[38;5;28;01mas\u001b[39;00m e:\n",
      "\u001b[1;31mNameResolutionError\u001b[0m: <urllib3.connection.HTTPConnection object at 0x00000223CE180590>: Failed to resolve 'aips-solr' ([Errno 11001] getaddrinfo failed)",
      "\nThe above exception was the direct cause of the following exception:\n",
      "\u001b[1;31mMaxRetryError\u001b[0m                             Traceback (most recent call last)",
      "File \u001b[1;32mc:\\Users\\DC\\AppData\\Local\\Programs\\Python\\Python312\\Lib\\site-packages\\requests\\adapters.py:486\u001b[0m, in \u001b[0;36mHTTPAdapter.send\u001b[1;34m(self, request, stream, timeout, verify, cert, proxies)\u001b[0m\n\u001b[0;32m    485\u001b[0m \u001b[38;5;28;01mtry\u001b[39;00m:\n\u001b[1;32m--> 486\u001b[0m     resp \u001b[38;5;241m=\u001b[39m \u001b[43mconn\u001b[49m\u001b[38;5;241;43m.\u001b[39;49m\u001b[43murlopen\u001b[49m\u001b[43m(\u001b[49m\n\u001b[0;32m    487\u001b[0m \u001b[43m        \u001b[49m\u001b[43mmethod\u001b[49m\u001b[38;5;241;43m=\u001b[39;49m\u001b[43mrequest\u001b[49m\u001b[38;5;241;43m.\u001b[39;49m\u001b[43mmethod\u001b[49m\u001b[43m,\u001b[49m\n\u001b[0;32m    488\u001b[0m \u001b[43m        \u001b[49m\u001b[43murl\u001b[49m\u001b[38;5;241;43m=\u001b[39;49m\u001b[43murl\u001b[49m\u001b[43m,\u001b[49m\n\u001b[0;32m    489\u001b[0m \u001b[43m        \u001b[49m\u001b[43mbody\u001b[49m\u001b[38;5;241;43m=\u001b[39;49m\u001b[43mrequest\u001b[49m\u001b[38;5;241;43m.\u001b[39;49m\u001b[43mbody\u001b[49m\u001b[43m,\u001b[49m\n\u001b[0;32m    490\u001b[0m \u001b[43m        \u001b[49m\u001b[43mheaders\u001b[49m\u001b[38;5;241;43m=\u001b[39;49m\u001b[43mrequest\u001b[49m\u001b[38;5;241;43m.\u001b[39;49m\u001b[43mheaders\u001b[49m\u001b[43m,\u001b[49m\n\u001b[0;32m    491\u001b[0m \u001b[43m        \u001b[49m\u001b[43mredirect\u001b[49m\u001b[38;5;241;43m=\u001b[39;49m\u001b[38;5;28;43;01mFalse\u001b[39;49;00m\u001b[43m,\u001b[49m\n\u001b[0;32m    492\u001b[0m \u001b[43m        \u001b[49m\u001b[43massert_same_host\u001b[49m\u001b[38;5;241;43m=\u001b[39;49m\u001b[38;5;28;43;01mFalse\u001b[39;49;00m\u001b[43m,\u001b[49m\n\u001b[0;32m    493\u001b[0m \u001b[43m        \u001b[49m\u001b[43mpreload_content\u001b[49m\u001b[38;5;241;43m=\u001b[39;49m\u001b[38;5;28;43;01mFalse\u001b[39;49;00m\u001b[43m,\u001b[49m\n\u001b[0;32m    494\u001b[0m \u001b[43m        \u001b[49m\u001b[43mdecode_content\u001b[49m\u001b[38;5;241;43m=\u001b[39;49m\u001b[38;5;28;43;01mFalse\u001b[39;49;00m\u001b[43m,\u001b[49m\n\u001b[0;32m    495\u001b[0m \u001b[43m        \u001b[49m\u001b[43mretries\u001b[49m\u001b[38;5;241;43m=\u001b[39;49m\u001b[38;5;28;43mself\u001b[39;49m\u001b[38;5;241;43m.\u001b[39;49m\u001b[43mmax_retries\u001b[49m\u001b[43m,\u001b[49m\n\u001b[0;32m    496\u001b[0m \u001b[43m        \u001b[49m\u001b[43mtimeout\u001b[49m\u001b[38;5;241;43m=\u001b[39;49m\u001b[43mtimeout\u001b[49m\u001b[43m,\u001b[49m\n\u001b[0;32m    497\u001b[0m \u001b[43m        \u001b[49m\u001b[43mchunked\u001b[49m\u001b[38;5;241;43m=\u001b[39;49m\u001b[43mchunked\u001b[49m\u001b[43m,\u001b[49m\n\u001b[0;32m    498\u001b[0m \u001b[43m    \u001b[49m\u001b[43m)\u001b[49m\n\u001b[0;32m    500\u001b[0m \u001b[38;5;28;01mexcept\u001b[39;00m (ProtocolError, \u001b[38;5;167;01mOSError\u001b[39;00m) \u001b[38;5;28;01mas\u001b[39;00m err:\n",
      "File \u001b[1;32mc:\\Users\\DC\\AppData\\Local\\Programs\\Python\\Python312\\Lib\\site-packages\\urllib3\\connectionpool.py:844\u001b[0m, in \u001b[0;36mHTTPConnectionPool.urlopen\u001b[1;34m(self, method, url, body, headers, retries, redirect, assert_same_host, timeout, pool_timeout, release_conn, chunked, body_pos, preload_content, decode_content, **response_kw)\u001b[0m\n\u001b[0;32m    842\u001b[0m     new_e \u001b[38;5;241m=\u001b[39m ProtocolError(\u001b[38;5;124m\"\u001b[39m\u001b[38;5;124mConnection aborted.\u001b[39m\u001b[38;5;124m\"\u001b[39m, new_e)\n\u001b[1;32m--> 844\u001b[0m retries \u001b[38;5;241m=\u001b[39m \u001b[43mretries\u001b[49m\u001b[38;5;241;43m.\u001b[39;49m\u001b[43mincrement\u001b[49m\u001b[43m(\u001b[49m\n\u001b[0;32m    845\u001b[0m \u001b[43m    \u001b[49m\u001b[43mmethod\u001b[49m\u001b[43m,\u001b[49m\u001b[43m \u001b[49m\u001b[43murl\u001b[49m\u001b[43m,\u001b[49m\u001b[43m \u001b[49m\u001b[43merror\u001b[49m\u001b[38;5;241;43m=\u001b[39;49m\u001b[43mnew_e\u001b[49m\u001b[43m,\u001b[49m\u001b[43m \u001b[49m\u001b[43m_pool\u001b[49m\u001b[38;5;241;43m=\u001b[39;49m\u001b[38;5;28;43mself\u001b[39;49m\u001b[43m,\u001b[49m\u001b[43m \u001b[49m\u001b[43m_stacktrace\u001b[49m\u001b[38;5;241;43m=\u001b[39;49m\u001b[43msys\u001b[49m\u001b[38;5;241;43m.\u001b[39;49m\u001b[43mexc_info\u001b[49m\u001b[43m(\u001b[49m\u001b[43m)\u001b[49m\u001b[43m[\u001b[49m\u001b[38;5;241;43m2\u001b[39;49m\u001b[43m]\u001b[49m\n\u001b[0;32m    846\u001b[0m \u001b[43m\u001b[49m\u001b[43m)\u001b[49m\n\u001b[0;32m    847\u001b[0m retries\u001b[38;5;241m.\u001b[39msleep()\n",
      "File \u001b[1;32mc:\\Users\\DC\\AppData\\Local\\Programs\\Python\\Python312\\Lib\\site-packages\\urllib3\\util\\retry.py:515\u001b[0m, in \u001b[0;36mRetry.increment\u001b[1;34m(self, method, url, response, error, _pool, _stacktrace)\u001b[0m\n\u001b[0;32m    514\u001b[0m     reason \u001b[38;5;241m=\u001b[39m error \u001b[38;5;129;01mor\u001b[39;00m ResponseError(cause)\n\u001b[1;32m--> 515\u001b[0m     \u001b[38;5;28;01mraise\u001b[39;00m MaxRetryError(_pool, url, reason) \u001b[38;5;28;01mfrom\u001b[39;00m \u001b[38;5;21;01mreason\u001b[39;00m  \u001b[38;5;66;03m# type: ignore[arg-type]\u001b[39;00m\n\u001b[0;32m    517\u001b[0m log\u001b[38;5;241m.\u001b[39mdebug(\u001b[38;5;124m\"\u001b[39m\u001b[38;5;124mIncremented Retry for (url=\u001b[39m\u001b[38;5;124m'\u001b[39m\u001b[38;5;132;01m%s\u001b[39;00m\u001b[38;5;124m'\u001b[39m\u001b[38;5;124m): \u001b[39m\u001b[38;5;132;01m%r\u001b[39;00m\u001b[38;5;124m\"\u001b[39m, url, new_retry)\n",
      "\u001b[1;31mMaxRetryError\u001b[0m: HTTPConnectionPool(host='aips-solr', port=8983): Max retries exceeded with url: /solr/reviews/select (Caused by NameResolutionError(\"<urllib3.connection.HTTPConnection object at 0x00000223CE180590>: Failed to resolve 'aips-solr' ([Errno 11001] getaddrinfo failed)\"))",
      "\nDuring handling of the above exception, another exception occurred:\n",
      "\u001b[1;31mConnectionError\u001b[0m                           Traceback (most recent call last)",
      "Cell \u001b[1;32mIn[14], line 3\u001b[0m\n\u001b[0;32m      1\u001b[0m reviews_collection \u001b[38;5;241m=\u001b[39m engine\u001b[38;5;241m.\u001b[39mget_collection(\u001b[38;5;124m\"\u001b[39m\u001b[38;5;124mreviews\u001b[39m\u001b[38;5;124m\"\u001b[39m)\n\u001b[0;32m      2\u001b[0m query_bytes \u001b[38;5;241m=\u001b[39m \u001b[38;5;28mbytes\u001b[39m(\u001b[38;5;124m\"\u001b[39m\u001b[38;5;124mtop korean bbq near charlotte\u001b[39m\u001b[38;5;124m\"\u001b[39m, \u001b[38;5;124m'\u001b[39m\u001b[38;5;124mUTF-8\u001b[39m\u001b[38;5;124m'\u001b[39m)\n\u001b[1;32m----> 3\u001b[0m processed_query \u001b[38;5;241m=\u001b[39m \u001b[43mprocess_semantic_query\u001b[49m\u001b[43m(\u001b[49m\u001b[43mreviews_collection\u001b[49m\u001b[43m,\u001b[49m\u001b[43m \u001b[49m\u001b[43mquery_bytes\u001b[49m\u001b[43m)\u001b[49m\n\u001b[0;32m      4\u001b[0m \u001b[38;5;28mprint\u001b[39m(\u001b[38;5;124m\"\u001b[39m\u001b[38;5;124mTagged Query:\u001b[39m\u001b[38;5;124m\"\u001b[39m \u001b[38;5;241m+\u001b[39m processed_query[\u001b[38;5;124m\"\u001b[39m\u001b[38;5;124mtagged_query\u001b[39m\u001b[38;5;124m\"\u001b[39m])\n\u001b[0;32m      5\u001b[0m \u001b[38;5;28mprint\u001b[39m(\u001b[38;5;124m\"\u001b[39m\u001b[38;5;130;01m\\n\u001b[39;00m\u001b[38;5;124mEnriched Query:\u001b[39m\u001b[38;5;124m\"\u001b[39m \u001b[38;5;241m+\u001b[39m processed_query[\u001b[38;5;124m\"\u001b[39m\u001b[38;5;124menriched_query\u001b[39m\u001b[38;5;124m\"\u001b[39m])\n",
      "Cell \u001b[1;32mIn[11], line 8\u001b[0m, in \u001b[0;36mprocess_semantic_query\u001b[1;34m(collection, query_bytes)\u001b[0m\n\u001b[0;32m      4\u001b[0m tagger_data \u001b[38;5;241m=\u001b[39m tag_query(\u001b[38;5;124m\"\u001b[39m\u001b[38;5;124mentities\u001b[39m\u001b[38;5;124m\"\u001b[39m, query_bytes)\n\u001b[0;32m      6\u001b[0m query_tree, tagged_query, enriched_query \u001b[38;5;241m=\u001b[39m generate_query_representations(text, tagger_data)\n\u001b[1;32m----> 8\u001b[0m enriched_query_tree \u001b[38;5;241m=\u001b[39m \u001b[43menrich\u001b[49m\u001b[43m(\u001b[49m\u001b[43mcollection\u001b[49m\u001b[43m,\u001b[49m\u001b[43m \u001b[49m\u001b[43mquery_tree\u001b[49m\u001b[43m)\u001b[49m\n\u001b[0;32m      9\u001b[0m transformed \u001b[38;5;241m=\u001b[39m transform_query(enriched_query_tree)\n\u001b[0;32m     10\u001b[0m query_string \u001b[38;5;241m=\u001b[39m to_query_string(transformed)      \n",
      "File \u001b[1;32mc:\\Users\\DC\\repos\\ai-powered-search\\docker\\data-science\\notebooks\\ch07\\..\\webserver\\semantic_search\\query_tree\\__init__.py:14\u001b[0m, in \u001b[0;36menrich\u001b[1;34m(collection, query_tree)\u001b[0m\n\u001b[0;32m     12\u001b[0m item \u001b[38;5;241m=\u001b[39m query_tree[i]\n\u001b[0;32m     13\u001b[0m \u001b[38;5;28;01mif\u001b[39;00m item[\u001b[38;5;124m\"\u001b[39m\u001b[38;5;124mtype\u001b[39m\u001b[38;5;124m\"\u001b[39m] \u001b[38;5;241m==\u001b[39m \u001b[38;5;124m\"\u001b[39m\u001b[38;5;124mkeyword\u001b[39m\u001b[38;5;124m\"\u001b[39m:\n\u001b[1;32m---> 14\u001b[0m     skg_response \u001b[38;5;241m=\u001b[39m \u001b[43mtraverse_skg\u001b[49m\u001b[43m(\u001b[49m\u001b[43mcollection\u001b[49m\u001b[43m,\u001b[49m\u001b[43m \u001b[49m\u001b[43mitem\u001b[49m\u001b[43m[\u001b[49m\u001b[38;5;124;43m\"\u001b[39;49m\u001b[38;5;124;43msurface_form\u001b[39;49m\u001b[38;5;124;43m\"\u001b[39;49m\u001b[43m]\u001b[49m\u001b[43m)\u001b[49m\n\u001b[0;32m     15\u001b[0m     enrichments \u001b[38;5;241m=\u001b[39m parse_skg_response(skg_response)\n\u001b[0;32m     16\u001b[0m     query_tree[i] \u001b[38;5;241m=\u001b[39m {\u001b[38;5;124m\"\u001b[39m\u001b[38;5;124mtype\u001b[39m\u001b[38;5;124m\"\u001b[39m: \u001b[38;5;124m\"\u001b[39m\u001b[38;5;124mskg_enriched\u001b[39m\u001b[38;5;124m\"\u001b[39m, \n\u001b[0;32m     17\u001b[0m                      \u001b[38;5;124m\"\u001b[39m\u001b[38;5;124menrichments\u001b[39m\u001b[38;5;124m\"\u001b[39m: enrichments}                    \n",
      "File \u001b[1;32mc:\\Users\\DC\\repos\\ai-powered-search\\docker\\data-science\\notebooks\\ch07\\../webserver\\semantic_search\\engine\\semantic_knowledge_graph.py:21\u001b[0m, in \u001b[0;36mtraverse_skg\u001b[1;34m(collection, keyword)\u001b[0m\n\u001b[0;32m      5\u001b[0m \u001b[38;5;28;01mdef\u001b[39;00m \u001b[38;5;21mtraverse_skg\u001b[39m(collection, keyword):\n\u001b[0;32m      6\u001b[0m     query \u001b[38;5;241m=\u001b[39m {\n\u001b[0;32m      7\u001b[0m         \u001b[38;5;124m\"\u001b[39m\u001b[38;5;124mparams\u001b[39m\u001b[38;5;124m\"\u001b[39m: {\u001b[38;5;124m\"\u001b[39m\u001b[38;5;124mfore\u001b[39m\u001b[38;5;124m\"\u001b[39m: keyword, \u001b[38;5;124m\"\u001b[39m\u001b[38;5;124mback\u001b[39m\u001b[38;5;124m\"\u001b[39m: \u001b[38;5;124m\"\u001b[39m\u001b[38;5;124m*:*\u001b[39m\u001b[38;5;124m\"\u001b[39m, \u001b[38;5;124m\"\u001b[39m\u001b[38;5;124mdf\u001b[39m\u001b[38;5;124m\"\u001b[39m: \u001b[38;5;124m\"\u001b[39m\u001b[38;5;124mtext_t\u001b[39m\u001b[38;5;124m\"\u001b[39m},\n\u001b[0;32m      8\u001b[0m         \u001b[38;5;124m\"\u001b[39m\u001b[38;5;124mquery\u001b[39m\u001b[38;5;124m\"\u001b[39m: \u001b[38;5;124m\"\u001b[39m\u001b[38;5;124m*:*\u001b[39m\u001b[38;5;124m\"\u001b[39m, \u001b[38;5;124m\"\u001b[39m\u001b[38;5;124mlimit\u001b[39m\u001b[38;5;124m\"\u001b[39m: \u001b[38;5;241m0\u001b[39m,\n\u001b[1;32m   (...)\u001b[0m\n\u001b[0;32m     19\u001b[0m                     \u001b[38;5;124m\"\u001b[39m\u001b[38;5;124mlimit\u001b[39m\u001b[38;5;124m\"\u001b[39m: \u001b[38;5;241m1\u001b[39m, \u001b[38;5;124m\"\u001b[39m\u001b[38;5;124msort\u001b[39m\u001b[38;5;124m\"\u001b[39m: {\u001b[38;5;124m\"\u001b[39m\u001b[38;5;124mr2\u001b[39m\u001b[38;5;124m\"\u001b[39m: \u001b[38;5;124m\"\u001b[39m\u001b[38;5;124mdesc\u001b[39m\u001b[38;5;124m\"\u001b[39m},\n\u001b[0;32m     20\u001b[0m                     \u001b[38;5;124m\"\u001b[39m\u001b[38;5;124mfacet\u001b[39m\u001b[38;5;124m\"\u001b[39m: {\u001b[38;5;124m\"\u001b[39m\u001b[38;5;124mr2\u001b[39m\u001b[38;5;124m\"\u001b[39m: \u001b[38;5;124m\"\u001b[39m\u001b[38;5;124mrelatedness($fore,$back)\u001b[39m\u001b[38;5;124m\"\u001b[39m}}}}}}    \n\u001b[1;32m---> 21\u001b[0m     \u001b[38;5;28;01mreturn\u001b[39;00m \u001b[43mcollection\u001b[49m\u001b[38;5;241;43m.\u001b[39;49m\u001b[43msearch\u001b[49m\u001b[43m(\u001b[49m\u001b[43mquery\u001b[49m\u001b[43m)\u001b[49m\n",
      "File \u001b[1;32mc:\\Users\\DC\\repos\\ai-powered-search\\docker\\data-science\\notebooks\\ch07\\..\\solr_collection.py:66\u001b[0m, in \u001b[0;36mSolrCollection.search\u001b[1;34m(self, request, data)\u001b[0m\n\u001b[0;32m     65\u001b[0m \u001b[38;5;28;01mdef\u001b[39;00m \u001b[38;5;21msearch\u001b[39m(\u001b[38;5;28mself\u001b[39m, request\u001b[38;5;241m=\u001b[39m\u001b[38;5;28;01mNone\u001b[39;00m, data\u001b[38;5;241m=\u001b[39m\u001b[38;5;28;01mNone\u001b[39;00m):\n\u001b[1;32m---> 66\u001b[0m     \u001b[38;5;28;01mreturn\u001b[39;00m \u001b[43mrequests\u001b[49m\u001b[38;5;241;43m.\u001b[39;49m\u001b[43mpost\u001b[49m\u001b[43m(\u001b[49m\u001b[38;5;124;43mf\u001b[39;49m\u001b[38;5;124;43m\"\u001b[39;49m\u001b[38;5;132;43;01m{\u001b[39;49;00m\u001b[43mSOLR_URL\u001b[49m\u001b[38;5;132;43;01m}\u001b[39;49;00m\u001b[38;5;124;43m/\u001b[39;49m\u001b[38;5;132;43;01m{\u001b[39;49;00m\u001b[38;5;28;43mself\u001b[39;49m\u001b[38;5;241;43m.\u001b[39;49m\u001b[43mname\u001b[49m\u001b[38;5;132;43;01m}\u001b[39;49;00m\u001b[38;5;124;43m/select\u001b[39;49m\u001b[38;5;124;43m\"\u001b[39;49m\u001b[43m,\u001b[49m\u001b[43m \u001b[49m\u001b[43mjson\u001b[49m\u001b[38;5;241;43m=\u001b[39;49m\u001b[43mrequest\u001b[49m\u001b[43m,\u001b[49m\u001b[43m \u001b[49m\u001b[43mdata\u001b[49m\u001b[38;5;241;43m=\u001b[39;49m\u001b[43mdata\u001b[49m\u001b[43m)\u001b[49m\u001b[38;5;241m.\u001b[39mjson()\n",
      "File \u001b[1;32mc:\\Users\\DC\\AppData\\Local\\Programs\\Python\\Python312\\Lib\\site-packages\\requests\\api.py:115\u001b[0m, in \u001b[0;36mpost\u001b[1;34m(url, data, json, **kwargs)\u001b[0m\n\u001b[0;32m    103\u001b[0m \u001b[38;5;28;01mdef\u001b[39;00m \u001b[38;5;21mpost\u001b[39m(url, data\u001b[38;5;241m=\u001b[39m\u001b[38;5;28;01mNone\u001b[39;00m, json\u001b[38;5;241m=\u001b[39m\u001b[38;5;28;01mNone\u001b[39;00m, \u001b[38;5;241m*\u001b[39m\u001b[38;5;241m*\u001b[39mkwargs):\n\u001b[0;32m    104\u001b[0m \u001b[38;5;250m    \u001b[39m\u001b[38;5;124mr\u001b[39m\u001b[38;5;124;03m\"\"\"Sends a POST request.\u001b[39;00m\n\u001b[0;32m    105\u001b[0m \n\u001b[0;32m    106\u001b[0m \u001b[38;5;124;03m    :param url: URL for the new :class:`Request` object.\u001b[39;00m\n\u001b[1;32m   (...)\u001b[0m\n\u001b[0;32m    112\u001b[0m \u001b[38;5;124;03m    :rtype: requests.Response\u001b[39;00m\n\u001b[0;32m    113\u001b[0m \u001b[38;5;124;03m    \"\"\"\u001b[39;00m\n\u001b[1;32m--> 115\u001b[0m     \u001b[38;5;28;01mreturn\u001b[39;00m \u001b[43mrequest\u001b[49m\u001b[43m(\u001b[49m\u001b[38;5;124;43m\"\u001b[39;49m\u001b[38;5;124;43mpost\u001b[39;49m\u001b[38;5;124;43m\"\u001b[39;49m\u001b[43m,\u001b[49m\u001b[43m \u001b[49m\u001b[43murl\u001b[49m\u001b[43m,\u001b[49m\u001b[43m \u001b[49m\u001b[43mdata\u001b[49m\u001b[38;5;241;43m=\u001b[39;49m\u001b[43mdata\u001b[49m\u001b[43m,\u001b[49m\u001b[43m \u001b[49m\u001b[43mjson\u001b[49m\u001b[38;5;241;43m=\u001b[39;49m\u001b[43mjson\u001b[49m\u001b[43m,\u001b[49m\u001b[43m \u001b[49m\u001b[38;5;241;43m*\u001b[39;49m\u001b[38;5;241;43m*\u001b[39;49m\u001b[43mkwargs\u001b[49m\u001b[43m)\u001b[49m\n",
      "File \u001b[1;32mc:\\Users\\DC\\AppData\\Local\\Programs\\Python\\Python312\\Lib\\site-packages\\requests\\api.py:59\u001b[0m, in \u001b[0;36mrequest\u001b[1;34m(method, url, **kwargs)\u001b[0m\n\u001b[0;32m     55\u001b[0m \u001b[38;5;66;03m# By using the 'with' statement we are sure the session is closed, thus we\u001b[39;00m\n\u001b[0;32m     56\u001b[0m \u001b[38;5;66;03m# avoid leaving sockets open which can trigger a ResourceWarning in some\u001b[39;00m\n\u001b[0;32m     57\u001b[0m \u001b[38;5;66;03m# cases, and look like a memory leak in others.\u001b[39;00m\n\u001b[0;32m     58\u001b[0m \u001b[38;5;28;01mwith\u001b[39;00m sessions\u001b[38;5;241m.\u001b[39mSession() \u001b[38;5;28;01mas\u001b[39;00m session:\n\u001b[1;32m---> 59\u001b[0m     \u001b[38;5;28;01mreturn\u001b[39;00m \u001b[43msession\u001b[49m\u001b[38;5;241;43m.\u001b[39;49m\u001b[43mrequest\u001b[49m\u001b[43m(\u001b[49m\u001b[43mmethod\u001b[49m\u001b[38;5;241;43m=\u001b[39;49m\u001b[43mmethod\u001b[49m\u001b[43m,\u001b[49m\u001b[43m \u001b[49m\u001b[43murl\u001b[49m\u001b[38;5;241;43m=\u001b[39;49m\u001b[43murl\u001b[49m\u001b[43m,\u001b[49m\u001b[43m \u001b[49m\u001b[38;5;241;43m*\u001b[39;49m\u001b[38;5;241;43m*\u001b[39;49m\u001b[43mkwargs\u001b[49m\u001b[43m)\u001b[49m\n",
      "File \u001b[1;32mc:\\Users\\DC\\AppData\\Local\\Programs\\Python\\Python312\\Lib\\site-packages\\requests\\sessions.py:589\u001b[0m, in \u001b[0;36mSession.request\u001b[1;34m(self, method, url, params, data, headers, cookies, files, auth, timeout, allow_redirects, proxies, hooks, stream, verify, cert, json)\u001b[0m\n\u001b[0;32m    584\u001b[0m send_kwargs \u001b[38;5;241m=\u001b[39m {\n\u001b[0;32m    585\u001b[0m     \u001b[38;5;124m\"\u001b[39m\u001b[38;5;124mtimeout\u001b[39m\u001b[38;5;124m\"\u001b[39m: timeout,\n\u001b[0;32m    586\u001b[0m     \u001b[38;5;124m\"\u001b[39m\u001b[38;5;124mallow_redirects\u001b[39m\u001b[38;5;124m\"\u001b[39m: allow_redirects,\n\u001b[0;32m    587\u001b[0m }\n\u001b[0;32m    588\u001b[0m send_kwargs\u001b[38;5;241m.\u001b[39mupdate(settings)\n\u001b[1;32m--> 589\u001b[0m resp \u001b[38;5;241m=\u001b[39m \u001b[38;5;28;43mself\u001b[39;49m\u001b[38;5;241;43m.\u001b[39;49m\u001b[43msend\u001b[49m\u001b[43m(\u001b[49m\u001b[43mprep\u001b[49m\u001b[43m,\u001b[49m\u001b[43m \u001b[49m\u001b[38;5;241;43m*\u001b[39;49m\u001b[38;5;241;43m*\u001b[39;49m\u001b[43msend_kwargs\u001b[49m\u001b[43m)\u001b[49m\n\u001b[0;32m    591\u001b[0m \u001b[38;5;28;01mreturn\u001b[39;00m resp\n",
      "File \u001b[1;32mc:\\Users\\DC\\AppData\\Local\\Programs\\Python\\Python312\\Lib\\site-packages\\requests\\sessions.py:703\u001b[0m, in \u001b[0;36mSession.send\u001b[1;34m(self, request, **kwargs)\u001b[0m\n\u001b[0;32m    700\u001b[0m start \u001b[38;5;241m=\u001b[39m preferred_clock()\n\u001b[0;32m    702\u001b[0m \u001b[38;5;66;03m# Send the request\u001b[39;00m\n\u001b[1;32m--> 703\u001b[0m r \u001b[38;5;241m=\u001b[39m \u001b[43madapter\u001b[49m\u001b[38;5;241;43m.\u001b[39;49m\u001b[43msend\u001b[49m\u001b[43m(\u001b[49m\u001b[43mrequest\u001b[49m\u001b[43m,\u001b[49m\u001b[43m \u001b[49m\u001b[38;5;241;43m*\u001b[39;49m\u001b[38;5;241;43m*\u001b[39;49m\u001b[43mkwargs\u001b[49m\u001b[43m)\u001b[49m\n\u001b[0;32m    705\u001b[0m \u001b[38;5;66;03m# Total elapsed time of the request (approximately)\u001b[39;00m\n\u001b[0;32m    706\u001b[0m elapsed \u001b[38;5;241m=\u001b[39m preferred_clock() \u001b[38;5;241m-\u001b[39m start\n",
      "File \u001b[1;32mc:\\Users\\DC\\AppData\\Local\\Programs\\Python\\Python312\\Lib\\site-packages\\requests\\adapters.py:519\u001b[0m, in \u001b[0;36mHTTPAdapter.send\u001b[1;34m(self, request, stream, timeout, verify, cert, proxies)\u001b[0m\n\u001b[0;32m    515\u001b[0m     \u001b[38;5;28;01mif\u001b[39;00m \u001b[38;5;28misinstance\u001b[39m(e\u001b[38;5;241m.\u001b[39mreason, _SSLError):\n\u001b[0;32m    516\u001b[0m         \u001b[38;5;66;03m# This branch is for urllib3 v1.22 and later.\u001b[39;00m\n\u001b[0;32m    517\u001b[0m         \u001b[38;5;28;01mraise\u001b[39;00m SSLError(e, request\u001b[38;5;241m=\u001b[39mrequest)\n\u001b[1;32m--> 519\u001b[0m     \u001b[38;5;28;01mraise\u001b[39;00m \u001b[38;5;167;01mConnectionError\u001b[39;00m(e, request\u001b[38;5;241m=\u001b[39mrequest)\n\u001b[0;32m    521\u001b[0m \u001b[38;5;28;01mexcept\u001b[39;00m ClosedPoolError \u001b[38;5;28;01mas\u001b[39;00m e:\n\u001b[0;32m    522\u001b[0m     \u001b[38;5;28;01mraise\u001b[39;00m \u001b[38;5;167;01mConnectionError\u001b[39;00m(e, request\u001b[38;5;241m=\u001b[39mrequest)\n",
      "\u001b[1;31mConnectionError\u001b[0m: HTTPConnectionPool(host='aips-solr', port=8983): Max retries exceeded with url: /solr/reviews/select (Caused by NameResolutionError(\"<urllib3.connection.HTTPConnection object at 0x00000223CE180590>: Failed to resolve 'aips-solr' ([Errno 11001] getaddrinfo failed)\"))"
     ]
    }
   ],
   "source": [
    "reviews_collection = engine.get_collection(\"reviews\")\n",
    "query_bytes = bytes(\"top korean bbq near charlotte\", 'UTF-8')\n",
    "processed_query = process_semantic_query(reviews_collection, query_bytes)\n",
    "print(\"Tagged Query:\" + processed_query[\"tagged_query\"])\n",
    "print(\"\\nEnriched Query:\" + processed_query[\"enriched_query\"])\n",
    "print(\"\\nTransformed Query:\" + processed_query[\"transformed_query\"])"
   ]
  },
  {
   "cell_type": "markdown",
   "metadata": {},
   "source": [
    "### Listing 7.8"
   ]
  },
  {
   "cell_type": "code",
   "execution_count": null,
   "metadata": {},
   "outputs": [],
   "source": [
    "# %load -s popularity webserver/semantic_search/semantic_functions/__init__\n",
    "def popularity(query, position):\n",
    "    if (len(query[\"query_tree\"]) -1 > position):\n",
    "        query[\"query_tree\"][position] = {\n",
    "            \"type\": \"solr\",\n",
    "            \"query\": '+{!func v=\"mul(if(stars_i,stars_i,0),20)\"}'}\n",
    "        return True\n",
    "    else:\n",
    "        return False\n"
   ]
  },
  {
   "cell_type": "markdown",
   "metadata": {},
   "source": [
    "### Listing 7.9"
   ]
  },
  {
   "cell_type": "code",
   "execution_count": null,
   "metadata": {},
   "outputs": [],
   "source": [
    "# %load -s location_distance,create_geo_filter webserver/semantic_search/semantic_functions/__init__\n",
    "def location_distance(query, position):\n",
    "    if (len(query[\"query_tree\"]) -1 > position):\n",
    "        next_entity = query[\"query_tree\"][position + 1]\n",
    "        if (next_entity[\"type\"] == \"city\"):\n",
    "            query[\"query_tree\"].pop(position + 1)\n",
    "            query[\"query_tree\"][position] = {\n",
    "                \"type\": \"solr\",\n",
    "                \"query\": create_geo_filter(next_entity['location_p'],\n",
    "                \"location_p\", 50)}\n",
    "            return True\n",
    "    return False\n",
    "\n",
    "def create_geo_filter(coordinates, field, distance_in_KM):\n",
    "    return \"+{!geofilt d=\" + str(distance_in_KM) + ' sfield=\"' + field + '\" pt=\"' + coordinates + '\"}'\n"
   ]
  },
  {
   "cell_type": "markdown",
   "metadata": {},
   "source": [
    "### Listing 7.10"
   ]
  },
  {
   "cell_type": "code",
   "execution_count": null,
   "metadata": {
    "tags": []
   },
   "outputs": [],
   "source": [
    "# %load -s traverse_skg webserver/semantic_search/engine/semantic_knowledge_graph\n",
    "def traverse_skg(collection, keyword):\n",
    "    query = {\n",
    "        \"params\": {\"fore\": keyword, \"back\": \"*:*\", \"df\": \"text_t\"},\n",
    "        \"query\": \"*:*\", \"limit\": 0,\n",
    "        \"facet\": {\n",
    "            \"term_needing_vector\": {\n",
    "                \"type\": \"query\", \"query\": keyword,\n",
    "                \"facet\": {\n",
    "                    \"related_terms\": {\n",
    "                        \"type\": \"terms\", \"field\": \"text_t\",\n",
    "                        \"limit\": 3, \"sort\": {\"r1\": \"desc\"},\n",
    "                        \"facet\": {\"r1\": \"relatedness($fore,$back)\"}},\n",
    "                \"doc_type\": {\n",
    "                    \"type\": \"terms\", \"field\": \"doc_type\",\n",
    "                    \"limit\": 1, \"sort\": {\"r2\": \"desc\"},\n",
    "                    \"facet\": {\"r2\": \"relatedness($fore,$back)\"}}}}}}    \n",
    "    return collection.search(query)\n"
   ]
  },
  {
   "cell_type": "code",
   "execution_count": null,
   "metadata": {
    "tags": []
   },
   "outputs": [],
   "source": [
    "# %load -s parse_skg_response webserver/semantic_search/engine/semantic_knowledge_graph\n",
    "def parse_skg_response(skg_response):\n",
    "    parsed = {}\n",
    "    related_term_nodes = {}\n",
    "    if \"facets\" in skg_response and \"term_needing_vector\" in skg_response[\"facets\"]:    \n",
    "        if (\"doc_type\" in skg_response[\"facets\"][\"term_needing_vector\"] and \n",
    "            \"buckets\" in skg_response[\"facets\"][\"term_needing_vector\"][\"doc_type\"] and\n",
    "            len(skg_response[\"facets\"][\"term_needing_vector\"][\"doc_type\"][\"buckets\"]) > 0):\n",
    "            parsed[\"category\"] = skg_response[\"facets\"][\"term_needing_vector\"][\"doc_type\"][\"buckets\"][0][\"val\"] #just top one for now\n",
    "    \n",
    "        if (\"related_terms\" in skg_response[\"facets\"][\"term_needing_vector\"] \n",
    "            and \"buckets\" in skg_response[\"facets\"][\"term_needing_vector\"][\"related_terms\"] \n",
    "          and len(skg_response[\"facets\"][\"term_needing_vector\"][\"related_terms\"][\"buckets\"]) > 0): #at least one entry    \n",
    "            related_term_nodes = skg_response[\"facets\"][\"term_needing_vector\"][\"related_terms\"][\"buckets\"]\n",
    "                \n",
    "    term_vector = \"\"\n",
    "    for related_term_node in related_term_nodes:\n",
    "        if len(term_vector) > 0: term_vector += \" \" \n",
    "        term_vector += related_term_node[\"val\"] + \"^\" + \"{:.4f}\".format(related_term_node[\"r1\"][\"relatedness\"])\n",
    "    \n",
    "    parsed[\"term_vector\"] = term_vector\n",
    "\n",
    "    return parsed\n"
   ]
  },
  {
   "cell_type": "code",
   "execution_count": null,
   "metadata": {
    "tags": []
   },
   "outputs": [
    {
     "ename": "NameError",
     "evalue": "name 'engine' is not defined",
     "output_type": "error",
     "traceback": [
      "\u001b[0;31m---------------------------------------------------------------------------\u001b[0m",
      "\u001b[0;31mNameError\u001b[0m                                 Traceback (most recent call last)",
      "Cell \u001b[0;32mIn[3], line 2\u001b[0m\n\u001b[1;32m      1\u001b[0m query \u001b[38;5;241m=\u001b[39m \u001b[38;5;124m\"\u001b[39m\u001b[38;5;124mkorean bbq\u001b[39m\u001b[38;5;124m\"\u001b[39m\n\u001b[0;32m----> 2\u001b[0m reviews_collection \u001b[38;5;241m=\u001b[39m \u001b[43mengine\u001b[49m\u001b[38;5;241m.\u001b[39mget_collection(\u001b[38;5;124m\"\u001b[39m\u001b[38;5;124mreviews\u001b[39m\u001b[38;5;124m\"\u001b[39m)\n\u001b[1;32m      3\u001b[0m skg_response \u001b[38;5;241m=\u001b[39m traverse_skg(reviews_collection, query)\n\u001b[1;32m      4\u001b[0m parse_skg_response(skg_response)\n",
      "\u001b[0;31mNameError\u001b[0m: name 'engine' is not defined"
     ]
    }
   ],
   "source": [
    "query = \"korean bbq\"\n",
    "reviews_collection = engine.get_collection(\"reviews\")\n",
    "skg_response = traverse_skg(reviews_collection, query)\n",
    "parse_skg_response(skg_response)"
   ]
  },
  {
   "cell_type": "code",
   "execution_count": null,
   "metadata": {
    "tags": []
   },
   "outputs": [
    {
     "name": "stdout",
     "output_type": "stream",
     "text": [
      "bbq: {'category': 'Barbeque', 'term_vector': 'bbq^0.9191 ribs^0.6186 pork^0.5991'}\n",
      "korean bbq: {'category': 'Korean', 'term_vector': 'bbq^0.9052 korean^0.8641 pork^0.6079'}\n",
      "lasagna: {'category': 'Italian', 'term_vector': 'lasagna^0.9193 alfredo^0.3992 pasta^0.3909'}\n",
      "karaoke: {'category': 'Karaoke', 'term_vector': 'karaoke^0.9193 sing^0.6423 songs^0.5256'}\n",
      "drive through: {'category': 'Fast Food', 'term_vector': 'through^0.8999 drive^0.8613 thru^0.6118'}\n"
     ]
    }
   ],
   "source": [
    "def skg(query):\n",
    "    return parse_skg_response(traverse_skg(reviews_collection, query))\n",
    "\n",
    "other_queries = [\"bbq\", \"korean bbq\", \"lasagna\", \"karaoke\", \"drive through\"]\n",
    "for query in other_queries: print(f\"{query}: {skg(query)}\")\n"
   ]
  },
  {
   "cell_type": "markdown",
   "metadata": {},
   "source": [
    "### Listing 7.11"
   ]
  },
  {
   "cell_type": "code",
   "execution_count": null,
   "metadata": {},
   "outputs": [],
   "source": [
    "# %load webserver/semantic_search/query_tree/__init__\n",
    "def escape_quotes_in_query(query):\n",
    "    return query.replace('\"', '\\\\\"')\n",
    "\n",
    "def to_query_string(query_tree):\n",
    "    return \" \".join([node[\"query\"] for node in query_tree])\n",
    "\n",
    "def enrich(collection, query_tree):\n",
    "    query_tree = process_semantic_functions(query_tree)    \n",
    "    for i in range(len(query_tree)):\n",
    "        item = query_tree[i]\n",
    "        if item[\"type\"] == \"keyword\":\n",
    "            skg_response = traverse_skg(collection, item[\"surface_form\"])\n",
    "            enrichments = parse_skg_response(skg_response)\n",
    "            query_tree[i] = {\"type\": \"skg_enriched\", \n",
    "                             \"enrichments\": enrichments}                    \n",
    "    return query_tree\n",
    "\n",
    "def transform_query(query_tree):\n",
    "    for i in range(len(query_tree)):\n",
    "        item = query_tree[i]\n",
    "        additional_query = \"\"\n",
    "        match item[\"type\"]:\n",
    "            case \"solr\":\n",
    "                pass\n",
    "            case \"skg_enriched\":\n",
    "                enrichments = item[\"enrichments\"]\n",
    "                query_string = \"\"\n",
    "                \n",
    "                if \"term_vector\" in enrichments:\n",
    "                    query_string = enrichments[\"term_vector\"]\n",
    "                if \"category\" in enrichments and len(query_string) > 0:\n",
    "                    query_string += f' +doc_type:\"{enrichments[\"category\"]}\"'\n",
    "                if (len(query_string) == 0):\n",
    "                    query_string = item[\"surface_form\"]\n",
    "                    \n",
    "                additional_query = '{!edismax v=\"' + escape_quotes_in_query(query_string) + '\"}'\n",
    "            case \"color\":\n",
    "                additional_query = f'+colors_s:\"{item[\"canonical_form\"]}\"'\n",
    "            case \"known_item\" | \"event\":\n",
    "                additional_query = f'+name_s:\"{item[\"canonical_form\"]}\"'\n",
    "            case \"city\":\n",
    "                additional_query = f'+city_t:\"{str(item[\"name\"])}\"'\n",
    "            case \"brand\":\n",
    "                additional_query = f'+brand_s:\"{item[\"canonical_form\"]}\"'\n",
    "            case _:\n",
    "                additional_query = \"+{!edismax v=\\\"\" + escape_quotes_in_query(item[\"surface_form\"]) + \"\\\"}\"\n",
    "        if additional_query:\n",
    "            query_tree[i] = {\"type\": \"solr\", \"query\": additional_query}                    \n",
    "    return query_tree\n",
    "\n",
    "def process_semantic_functions(query_tree):\n",
    "    position = 0\n",
    "    while position < len(query_tree):\n",
    "        item = query_tree[position]        \n",
    "        # process commands. For now, going left to right and then sorting by priority when ambiguous commands occur; \n",
    "        # consider other weighting options later.\n",
    "        if (item['type'] == \"semantic_function\"):\n",
    "            commandIsResolved = False\n",
    "    \n",
    "            command = item['semantic_function']\n",
    "\n",
    "            if (command):\n",
    "                query = {\"query_tree\": query_tree} #pass by-ref\n",
    "                commandIsResolved = eval(item['semantic_function']); #Careful... there is code in the docs that is being eval'd. \n",
    "                #MUST ENSURE THESE DOCS ARE SECURE, OTHERWISE THIS WILL INTRODUCE A POTENTIAL SECURITY THREAT (CODE INJECTION)\n",
    "            \n",
    "            #else:\n",
    "                #Alert (\"Error: \" + query.query_tree.canonical_form + \" has no command function.\");\n",
    "            \n",
    "            if (False == commandIsResolved):\n",
    "                #Bad command. Just remove for now... could alternatively keep it and run as a keyword\n",
    "                query_tree.pop(position) #.splice(position,1)  \n",
    "\n",
    "        position += 1\n",
    "\n",
    "    return query_tree "
   ]
  },
  {
   "cell_type": "code",
   "execution_count": null,
   "metadata": {
    "tags": []
   },
   "outputs": [],
   "source": [
    "query = \"good korean bbq near charlotte\"\n",
    "tagger_data = engine.tag_query(\"entities\", (bytes(query, \"utf-8\")))\n",
    "query_tree = generate_query_tree(query, tagger_data)\n",
    "enriched_query_tree = enrich(reviews_collection,query_tree)\n",
    "processed_query_tree = transform_query(enriched_query_tree)"
   ]
  },
  {
   "cell_type": "markdown",
   "metadata": {},
   "source": [
    "### Listing 7.12"
   ]
  },
  {
   "cell_type": "code",
   "execution_count": null,
   "metadata": {},
   "outputs": [],
   "source": [
    "# %load -s to_query_string webserver/semantic_search/query_tree/__init__\n",
    "def to_query_string(query_tree):\n",
    "    return \" \".join([node[\"query\"] for node in query_tree])\n"
   ]
  },
  {
   "cell_type": "code",
   "execution_count": null,
   "metadata": {
    "tags": []
   },
   "outputs": [
    {
     "data": {
      "text/plain": [
       "'+{!func v=\"mul(if(stars_i,stars_i,0),20)\"} {!edismax v=\"kimchi^0.9193 korean^0.7069 banchan^0.6593 +doc_type:\\\\\"Korean\\\\\"\"} +{!geofilt d=50 sfield=\"location_p\" pt=\"35.22709,-80.84313\"}'"
      ]
     },
     "execution_count": 27,
     "metadata": {},
     "output_type": "execute_result"
    }
   ],
   "source": [
    "query_string = to_query_string(query_tree)\n",
    "query_string"
   ]
  },
  {
   "cell_type": "code",
   "execution_count": null,
   "metadata": {},
   "outputs": [
    {
     "data": {
      "text/plain": [
       "{'responseHeader': {'zkConnected': True,\n",
       "  'status': 0,\n",
       "  'QTime': 10,\n",
       "  'params': {'json': '{\"query\": \"+{!func v=\\\\\"mul(if(stars_i,stars_i,0),20)\\\\\"} {!edismax v=\\\\\"kimchi^0.9193 korean^0.7069 banchan^0.6593 +doc_type:\\\\\\\\\\\\\"Korean\\\\\\\\\\\\\"\\\\\"} +{!geofilt d=50 sfield=\\\\\"location_p\\\\\" pt=\\\\\"35.22709,-80.84313\\\\\"}\"}'}},\n",
       " 'response': {'numFound': 15842,\n",
       "  'start': 0,\n",
       "  'docs': [{'id': 'WnLhd38sH80ViWwzyF7yoA',\n",
       "    'name_t': 'Hibiscus',\n",
       "    'city_t': 'Charlotte',\n",
       "    'state_t': 'NC',\n",
       "    'text_t': \"We ate here for dinner and had a very tasty meal of bibimbap and bulgogi. Both dishes were done well and tasty. We had a very pleasant waitress who provided great service as well. Overall great! We'll definitely be back.\",\n",
       "    'stars_i': 5,\n",
       "    'categories_t': 'Restaurants, Korean, Thai',\n",
       "    'doc_type': ['Restaurants, Korean, Thai'],\n",
       "    'location_pt_s': '35.171873,-80.849032',\n",
       "    'location_p': '35.171873,-80.849032',\n",
       "    'type_ss': ['Restaurants, Korean, Thai'],\n",
       "    'latitude_d': 35.171873,\n",
       "    'longitude_d': -80.849032,\n",
       "    '_version_': 1788408877790789635},\n",
       "   {'id': 'DlKuPBPEvU2ynAYzZkmH2Q',\n",
       "    'name_t': 'Cho Won Garden',\n",
       "    'city_t': 'Charlotte',\n",
       "    'state_t': 'NC',\n",
       "    'text_t': 'Johnny P. Sorry you didnt like the food. The food, service, and \\nprices were great. You said go to pepero because you are immature\\nAnd you dont know why you said that. This place is a 8/10 if you know\\nOf korean culture. This place is good for any occasion..dates too so dont \\nbe afraid to try It out.',\n",
       "    'stars_i': 5,\n",
       "    'categories_t': 'Restaurants, Korean, Barbeque',\n",
       "    'doc_type': ['Restaurants, Korean, Barbeque'],\n",
       "    'location_pt_s': '35.143439,-80.722294',\n",
       "    'location_p': '35.143439,-80.722294',\n",
       "    'type_ss': ['Restaurants, Korean, Barbeque'],\n",
       "    'latitude_d': 35.143439,\n",
       "    'longitude_d': -80.722294,\n",
       "    '_version_': 1788408886843146244},\n",
       "   {'id': '34lgzV2XYAKjl8dt8olYMA',\n",
       "    'name_t': 'Korean Restaurant',\n",
       "    'city_t': 'Charlotte',\n",
       "    'state_t': 'NC',\n",
       "    'text_t': \"Copied my review from Super G over here as well as I didn't realize there was a separate listing for this restaurant.  It's that good so I need to repeat it. :)\\n\\nI have been shopping here for a while and love the grocery side.  But I love even more the restaurants all along the side of this grocery store.  There's a bakery and 2 restaurants with delicious offerings.\\n\\nThe bakery, the items there are light, fresh and tasty.  I take advantage of their buy 5 and get 1 free deal.  \\n\\nThe Hong Kong restaurant, their soups are delicious.  Their Thai tea is outstanding and seriously addicted to it.  Their buns are fluffy and stuffed with great fillings.\\n\\nBut my all time favorite has to be the Korean restaurant.  I have had their spicy beef cabbage soup which lives up to it's name, SPICY but can't stop eating.  (get extra thai tea if you get this dish!)  Their bulgogi is flavorful and tender.  Their black bean noodle is really good.  The bimibap hot dish, the star of the place.  And even all their side dishes they offer in the deli case in front of the restaurant is delish.  I love their chives kimchi, cabbage kimchi and fish cakes etc.  And no I don't work there nor do I know anyone there. It's just that tasty and good.\\n\\nOh and their portions...HUGE.\",\n",
       "    'stars_i': 5,\n",
       "    'categories_t': 'Restaurants, Seafood, Korean',\n",
       "    'doc_type': ['Restaurants, Seafood, Korean'],\n",
       "    'location_pt_s': '35.162832,-80.737656',\n",
       "    'location_p': '35.162832,-80.737656',\n",
       "    'type_ss': ['Restaurants, Seafood, Korean'],\n",
       "    'latitude_d': 35.162832,\n",
       "    'longitude_d': -80.737656,\n",
       "    '_version_': 1788408913605951492},\n",
       "   {'id': 'zL_qwA1JgRPgI-LNewP1Ew',\n",
       "    'name_t': 'Simplee Sushi',\n",
       "    'city_t': 'Charlotte',\n",
       "    'state_t': 'NC',\n",
       "    'text_t': 'Love the food and the family even more. Check out lunch bento box combos if you go. Also a huge green tea selection if you like that. Have yet to try dinner there, but looks like they have some good deals :)',\n",
       "    'stars_i': 5,\n",
       "    'categories_t': 'Korean, Japanese, Sushi Bars, Restaurants',\n",
       "    'doc_type': ['Korean, Japanese, Sushi Bars, Restaurants'],\n",
       "    'location_pt_s': '35.089721,-80.858407',\n",
       "    'location_p': '35.089721,-80.858407',\n",
       "    'type_ss': ['Korean, Japanese, Sushi Bars, Restaurants'],\n",
       "    'latitude_d': 35.089721,\n",
       "    'longitude_d': -80.858407,\n",
       "    '_version_': 1788408914941837313},\n",
       "   {'id': 'J3_FTjy9LAtTtoW_cLwPxg',\n",
       "    'name_t': 'CO',\n",
       "    'city_t': 'Charlotte',\n",
       "    'state_t': 'NC',\n",
       "    'text_t': \"CO is a place that I can tell takes pride in consistency! I have been many times, and they never disappoint. From the stellar customer service to its welcoming ambiance, it's a great place to go for a fancy date night, or a chill evening with your friends. \\n\\nMy favorite dish is the Curry Laksa! I am not big on spicy food, but this Thai noodle dish does an excellent job of combining some mild heat from the yellow curry with the light, yet rich, flavors of the coconut milk broth. The flavors in this dish will make you want to savor every bite!  \\n\\nI have also tried other dishes like the Spicy Udon, but I'll let that dish speak for itself ;-)\",\n",
       "    'stars_i': 5,\n",
       "    'categories_t': 'Vietnamese, Korean, Asian Fusion, Sushi Bars, Restaurants',\n",
       "    'doc_type': ['Vietnamese, Korean, Asian Fusion, Sushi Bars, Restaurants'],\n",
       "    'location_pt_s': '35.174959,-80.8487112',\n",
       "    'location_p': '35.174959,-80.8487112',\n",
       "    'type_ss': ['Vietnamese, Korean, Asian Fusion, Sushi Bars, Restaurants'],\n",
       "    'latitude_d': 35.174959,\n",
       "    'longitude_d': -80.8487112,\n",
       "    '_version_': 1788408888385601538},\n",
       "   {'id': 'aKzNK6aaOrlL688lkXrXNA',\n",
       "    'name_t': \"Immaculate Mic's\",\n",
       "    'city_t': 'Concord',\n",
       "    'state_t': 'NC',\n",
       "    'text_t': \"I do dog transports and was rescuing a Cane Corso from Vermont , when she got sick on the way home.  My daughter lives in Concord so I always stop there and decided to look up a detailing service.  I got a referral from Corso(Sweet Girl) had mad quite the mess with explosive diarrhea in the  the back of the car on the front passenger seat.  let's just say it was a god awful mess.  I contacted Immaculate Mic's after the referral and was happy to finally have someone that would take the job at a decent rate.  The did an excellent job and there was absolutely no hint that there had even been a mess in the car.  If you need this service for any reason I recommend them.  I am moving to the area from Alabama soon and they will doing my mobile auto cleaning and needs from now on.   I highly recommend them.  I was rescued from a bad situation if you know what I mean.\",\n",
       "    'stars_i': 5,\n",
       "    'categories_t': 'Home Cleaning, Automotive, Auto Detailing, Home Services, Car Wash',\n",
       "    'doc_type': ['Home Cleaning, Automotive, Auto Detailing, Home Services, Car Wash'],\n",
       "    'location_pt_s': '35.3717187,-80.6031602',\n",
       "    'location_p': '35.3717187,-80.6031602',\n",
       "    'type_ss': ['Home Cleaning, Automotive, Auto Detailing, Home Services, Car Wash'],\n",
       "    'latitude_d': 35.3717187,\n",
       "    'longitude_d': -80.6031602,\n",
       "    '_version_': 1788408874377674758},\n",
       "   {'id': '3ULTEwOOEFOLGsri-14ZIQ',\n",
       "    'name_t': 'The Southern Nest',\n",
       "    'city_t': 'Indian Land',\n",
       "    'state_t': 'SC',\n",
       "    'text_t': \"Absolutely in love with The Southern Nest.  They have such beautiful things, and are set up just perfectly.  I could wander in there forever and still find things I didn't see before.  The staff is wonderful, friendly and SO helpful.  I was looking for something containing cardinals, angels, or butterflies, and they led me to what they had.......which was wonderful.  I go back there again and again. They always have something new and different!\",\n",
       "    'stars_i': 5,\n",
       "    'categories_t': 'Accessories, Fashion, Home & Garden, Gift Shops, Furniture Stores, Shopping, Home Decor, Flowers & Gifts',\n",
       "    'doc_type': ['Accessories, Fashion, Home & Garden, Gift Shops, Furniture Stores, Shopping, Home Decor, Flowers & Gifts'],\n",
       "    'location_pt_s': '34.937489,-80.83827',\n",
       "    'location_p': '34.937489,-80.83827',\n",
       "    'type_ss': ['Accessories, Fashion, Home & Garden, Gift Shops, Furniture Stores, Shopping, Home Decor, Flowers & Gifts'],\n",
       "    'latitude_d': 34.937489,\n",
       "    'longitude_d': -80.83827,\n",
       "    '_version_': 1788408874380820485},\n",
       "   {'id': 'g8j1m9_GaCvQGPcvNTn6dQ',\n",
       "    'name_t': 'Split Second Sound',\n",
       "    'city_t': 'Stallings',\n",
       "    'state_t': 'NC',\n",
       "    'text_t': 'LOVE LOVE LOVE their new location uptown. Vinny was awesome! I will defiantly use them again. :)',\n",
       "    'stars_i': 5,\n",
       "    'categories_t': 'Event Planning & Services, Amusement Parks, Party & Event Planning, DJs, Active Life',\n",
       "    'doc_type': ['Event Planning & Services, Amusement Parks, Party & Event Planning, DJs, Active Life'],\n",
       "    'location_pt_s': '35.075774,-80.695902',\n",
       "    'location_p': '35.075774,-80.695902',\n",
       "    'type_ss': ['Event Planning & Services, Amusement Parks, Party & Event Planning, DJs, Active Life'],\n",
       "    'latitude_d': 35.075774,\n",
       "    'longitude_d': -80.695902,\n",
       "    '_version_': 1788408874381869059},\n",
       "   {'id': '8ldY6-AZ5uRocBCzhaYtRQ',\n",
       "    'name_t': 'Mattress Firm Stonecrest at Piper Glen',\n",
       "    'city_t': 'Charlotte',\n",
       "    'state_t': 'NC',\n",
       "    'text_t': 'Bought our mattress here- customer service was rock solid and helpful.  All good!  Would buy from them again.  Free delivery',\n",
       "    'stars_i': 5,\n",
       "    'categories_t': 'Home Decor, Home & Garden, Shopping, Mattresses, Furniture Stores',\n",
       "    'doc_type': ['Home Decor, Home & Garden, Shopping, Mattresses, Furniture Stores'],\n",
       "    'location_pt_s': '35.0591334,-80.8130775',\n",
       "    'location_p': '35.0591334,-80.8130775',\n",
       "    'type_ss': ['Home Decor, Home & Garden, Shopping, Mattresses, Furniture Stores'],\n",
       "    'latitude_d': 35.0591334,\n",
       "    'longitude_d': -80.8130775,\n",
       "    '_version_': 1788408874407034884},\n",
       "   {'id': 'rpK6XXAfFZIVb2amLgjDDg',\n",
       "    'name_t': \"Carolina Buyer's Agent\",\n",
       "    'city_t': 'Charlotte',\n",
       "    'state_t': 'NC',\n",
       "    'text_t': \"This is our 5th house buy, and Julie is the best agent we have ever used.  I wouldn't hesitate to recommend her to everyone. \\n\\nWe are new to the area, so her attention to detail and knowledge of North Carolina real estate law saved us money and time, right up to a mistake she caught at closing that put over $600 right back in our pocket.\\n\\nJulie is warm, savvy, and a pleasure to work with.  She was available everytime we called, and proactive if she saw potential problems, never hesitating to go directly to the seller to advocate for us.\\n\\nShe listened to our wants and needs to help us find not only the perfect home but the perfect neighborhood.  I trust Julie 100%, and can't thank her enough for a painless experience, at least on our part.  We love our new home!\",\n",
       "    'stars_i': 5,\n",
       "    'categories_t': 'Real Estate Services, Real Estate, Home Services, Real Estate Agents',\n",
       "    'doc_type': ['Real Estate Services, Real Estate, Home Services, Real Estate Agents'],\n",
       "    'location_pt_s': '35.2146586,-80.8599193',\n",
       "    'location_p': '35.2146586,-80.8599193',\n",
       "    'type_ss': ['Real Estate Services, Real Estate, Home Services, Real Estate Agents'],\n",
       "    'latitude_d': 35.2146586,\n",
       "    'longitude_d': -80.8599193,\n",
       "    '_version_': 1788408874409132034}]}}"
      ]
     },
     "execution_count": 28,
     "metadata": {},
     "output_type": "execute_result"
    }
   ],
   "source": [
    "reviews_collection = engine.get_collection(\"reviews\")\n",
    "request = {\"query\": query_string}\n",
    "response = reviews_collection.search(request)\n",
    "response"
   ]
  },
  {
   "cell_type": "code",
   "execution_count": null,
   "metadata": {
    "tags": []
   },
   "outputs": [
    {
     "data": {
      "text/html": [
       "<iframe src=\"http://localhost:2345/semantic-search?q=good+kimchi+near+charlotte&submit=true\" width=100% height=\"800\"></iframe>\n"
      ],
      "text/plain": [
       "<IPython.core.display.HTML object>"
      ]
     },
     "metadata": {},
     "output_type": "display_data"
    }
   ],
   "source": [
    "%%html\n",
    "<iframe src=\"http://localhost:2345/semantic-search?q=good+kimchi+near+charlotte&submit=true\" width=100% height=\"800\"></iframe>"
   ]
  },
  {
   "cell_type": "code",
   "execution_count": null,
   "metadata": {
    "tags": []
   },
   "outputs": [
    {
     "name": "stdout",
     "output_type": "stream",
     "text": [
      "Stopping webserver (pid: 47169)\n"
     ]
    }
   ],
   "source": [
    "#Cleanup so webserver doesn't keep running after you're done\n",
    "stop_running_webservers()"
   ]
  },
  {
   "cell_type": "markdown",
   "metadata": {},
   "source": [
    "## Success!\n",
    "\n",
    "Up next: Chapter 8 - [Signals Boosting Models](../ch08/1.signals-boosting.ipynb)"
   ]
  }
 ],
 "metadata": {
  "kernelspec": {
   "display_name": "Python 3 (ipykernel)",
   "language": "python",
   "name": "python3"
  },
  "language_info": {
   "codemirror_mode": {
    "name": "ipython",
    "version": 3
   },
   "file_extension": ".py",
   "mimetype": "text/x-python",
   "name": "python",
   "nbconvert_exporter": "python",
   "pygments_lexer": "ipython3",
   "version": "3.12.1"
  }
 },
 "nbformat": 4,
 "nbformat_minor": 4
}
