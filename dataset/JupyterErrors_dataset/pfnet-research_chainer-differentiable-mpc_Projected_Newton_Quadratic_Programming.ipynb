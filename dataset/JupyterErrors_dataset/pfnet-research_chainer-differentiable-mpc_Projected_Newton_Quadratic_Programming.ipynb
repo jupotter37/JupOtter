{
 "cells": [
  {
   "cell_type": "code",
   "execution_count": 1,
   "metadata": {},
   "outputs": [
    {
     "name": "stdout",
     "output_type": "stream",
     "text": [
      "['/Users/i19_arahata/Program/chainer-mpc/experiment_mpc', '/Users/i19_arahata/.local/share/virtualenvs/chainer-mpc-dl9ARfgC/lib/python37.zip', '/Users/i19_arahata/.local/share/virtualenvs/chainer-mpc-dl9ARfgC/lib/python3.7', '/Users/i19_arahata/.local/share/virtualenvs/chainer-mpc-dl9ARfgC/lib/python3.7/lib-dynload', '/Users/i19_arahata/.pyenv/versions/3.7.2/lib/python3.7', '', '/Users/i19_arahata/.local/share/virtualenvs/chainer-mpc-dl9ARfgC/lib/python3.7/site-packages', '/Users/i19_arahata/.local/share/virtualenvs/chainer-mpc-dl9ARfgC/lib/python3.7/site-packages/IPython/extensions', '/Users/i19_arahata/.ipython']\n"
     ]
    },
    {
     "name": "stderr",
     "output_type": "stream",
     "text": [
      "/Users/i19_arahata/.local/share/virtualenvs/chainer-mpc-dl9ARfgC/lib/python3.7/site-packages/chainer/_environment_check.py:41: UserWarning: Accelerate has been detected as a NumPy backend library.\n",
      "vecLib, which is a part of Accelerate, is known not to work correctly with Chainer.\n",
      "We recommend using other BLAS libraries such as OpenBLAS.\n",
      "For details of the issue, please see\n",
      "https://docs.chainer.org/en/stable/tips.html#mnist-example-does-not-converge-in-cpu-mode-on-mac-os-x.\n",
      "\n",
      "Please be aware that Mac OS X is not an officially supported OS.\n",
      "\n",
      "  ''')  # NOQA\n"
     ]
    }
   ],
   "source": [
    "import sys\n",
    "print(sys.path)\n",
    "sys.path.append(\"../mpc\")\n",
    "from pnqp import PNQP\n",
    "import chainer\n",
    "import numpy as np\n",
    "import matplotlib.pyplot as plt"
   ]
  },
  {
   "cell_type": "code",
   "execution_count": 2,
   "metadata": {},
   "outputs": [],
   "source": [
    "H = np.array([[[ 7.9325,  4.9520,  1.0314,  0.2282],\n",
    "         [ 4.9520,  8.7746,  1.7916,  3.3622],\n",
    "         [ 1.0314,  1.7916,  4.2824, -2.5979],\n",
    "         [ 0.2282,  3.3622, -2.5979,  6.7064]],\n",
    "\n",
    "        [[ 3.4423, -1.9137, -0.9978, -4.4905],\n",
    "         [-1.9137,  6.7254,  3.3720,  1.7444],\n",
    "         [-0.9978,  3.3720,  3.5695, -0.9766],\n",
    "         [-4.4905,  1.7444, -0.9766, 13.0806]]])\n",
    "H = chainer.Variable(H)"
   ]
  },
  {
   "cell_type": "code",
   "execution_count": 3,
   "metadata": {},
   "outputs": [],
   "source": [
    "q = np.array([[ -0.8277,   8.5116, -12.1597,  17.9497],\n",
    "        [ -3.5764,  -5.3455,  -3.2465,   4.3960]])\n",
    "q = chainer.Variable(q)"
   ]
  },
  {
   "cell_type": "code",
   "execution_count": 4,
   "metadata": {},
   "outputs": [],
   "source": [
    "lower = np.array([[-0.2843, -0.0063, -0.1808, -0.6669],\n",
    "        [-0.1359, -0.3629, -0.2125, -0.0121]])\n",
    "lower = chainer.Variable(lower)"
   ]
  },
  {
   "cell_type": "code",
   "execution_count": 5,
   "metadata": {},
   "outputs": [],
   "source": [
    "upper = np.array([[0.1345, 0.0307, 0.0277, 0.9418],\n",
    "        [0.6205, 0.2703, 0.4023, 0.2560]])\n",
    "upper = chainer.Variable(upper)"
   ]
  },
  {
   "cell_type": "code",
   "execution_count": 6,
   "metadata": {},
   "outputs": [],
   "source": [
    "x_init = None"
   ]
  },
  {
   "cell_type": "code",
   "execution_count": 7,
   "metadata": {},
   "outputs": [
    {
     "name": "stdout",
     "output_type": "stream",
     "text": [
      "[[1 0 0 1]\n",
      " [0 0 0 1]]\n"
     ]
    },
    {
     "ename": "AttributeError",
     "evalue": "'numpy.ndarray' object has no attribute 'array'",
     "output_type": "error",
     "traceback": [
      "\u001b[0;31m---------------------------------------------------------------------------\u001b[0m",
      "\u001b[0;31mAttributeError\u001b[0m                            Traceback (most recent call last)",
      "\u001b[0;32m<ipython-input-7-a123c848839b>\u001b[0m in \u001b[0;36m<module>\u001b[0;34m\u001b[0m\n\u001b[0;32m----> 1\u001b[0;31m \u001b[0msolve\u001b[0m \u001b[0;34m=\u001b[0m \u001b[0mPNQP\u001b[0m\u001b[0;34m(\u001b[0m\u001b[0mH\u001b[0m\u001b[0;34m,\u001b[0m\u001b[0mq\u001b[0m\u001b[0;34m,\u001b[0m\u001b[0mlower\u001b[0m\u001b[0;34m,\u001b[0m\u001b[0mupper\u001b[0m\u001b[0;34m)\u001b[0m\u001b[0;34m\u001b[0m\u001b[0;34m\u001b[0m\u001b[0m\n\u001b[0m",
      "\u001b[0;32m~/Program/chainer-mpc/mpc/pnqp.py\u001b[0m in \u001b[0;36mPNQP\u001b[0;34m(H, q, lower, upper, x_init, n_iter)\u001b[0m\n\u001b[1;32m     96\u001b[0m         \u001b[0mIndex_fc\u001b[0m \u001b[0;34m=\u001b[0m \u001b[0mbger\u001b[0m\u001b[0;34m(\u001b[0m\u001b[0mIndex_f\u001b[0m\u001b[0;34m,\u001b[0m \u001b[0mIndex_c\u001b[0m\u001b[0;34m)\u001b[0m\u001b[0;34m\u001b[0m\u001b[0;34m\u001b[0m\u001b[0m\n\u001b[1;32m     97\u001b[0m         \u001b[0mg_f\u001b[0m \u001b[0;34m=\u001b[0m \u001b[0mcopy\u001b[0m\u001b[0;34m.\u001b[0m\u001b[0mdeepcopy\u001b[0m\u001b[0;34m(\u001b[0m\u001b[0mg\u001b[0m\u001b[0;34m)\u001b[0m\u001b[0;34m\u001b[0m\u001b[0;34m\u001b[0m\u001b[0m\n\u001b[0;32m---> 98\u001b[0;31m         \u001b[0mg_f\u001b[0m\u001b[0;34m[\u001b[0m\u001b[0mIndex_c\u001b[0m\u001b[0;34m.\u001b[0m\u001b[0marray\u001b[0m\u001b[0;34m]\u001b[0m \u001b[0;34m=\u001b[0m \u001b[0;36m0.0\u001b[0m\u001b[0;34m\u001b[0m\u001b[0;34m\u001b[0m\u001b[0m\n\u001b[0m\u001b[1;32m     99\u001b[0m         \u001b[0;31m# Bad implementation (when n_dim is large)\u001b[0m\u001b[0;34m\u001b[0m\u001b[0;34m\u001b[0m\u001b[0;34m\u001b[0m\u001b[0m\n\u001b[1;32m    100\u001b[0m         \u001b[0mH_f\u001b[0m \u001b[0;34m=\u001b[0m \u001b[0mcopy\u001b[0m\u001b[0;34m.\u001b[0m\u001b[0mdeepcopy\u001b[0m\u001b[0;34m(\u001b[0m\u001b[0mH\u001b[0m\u001b[0;34m)\u001b[0m\u001b[0;34m\u001b[0m\u001b[0;34m\u001b[0m\u001b[0m\n",
      "\u001b[0;31mAttributeError\u001b[0m: 'numpy.ndarray' object has no attribute 'array'"
     ]
    }
   ],
   "source": [
    "solve = PNQP(H,q,lower,upper)"
   ]
  },
  {
   "cell_type": "raw",
   "metadata": {},
   "source": [
    "# tensor([[[ 7.9325,  4.9520,  1.0314,  0.2282],\n",
    "         [ 4.9520,  8.7746,  1.7916,  3.3622],\n",
    "         [ 1.0314,  1.7916,  4.2824, -2.5979],\n",
    "         [ 0.2282,  3.3622, -2.5979,  6.7064]],\n",
    "\n",
    "        [[ 3.4423, -1.9137, -0.9978, -4.4905],\n",
    "         [-1.9137,  6.7254,  3.3720,  1.7444],\n",
    "         [-0.9978,  3.3720,  3.5695, -0.9766],\n",
    "         [-4.4905,  1.7444, -0.9766, 13.0806]]])\n",
    "tensor([[ -0.8277,   8.5116, -12.1597,  17.9497],\n",
    "        [ -3.5764,  -5.3455,  -3.2465,   4.3960]])\n",
    "tensor([[-0.2843, -0.0063, -0.1808, -0.6669],\n",
    "        [-0.1359, -0.3629, -0.2125, -0.0121]])\n",
    "tensor([[0.1345, 0.0307, 0.0277, 0.9418],\n",
    "        [0.6205, 0.2703, 0.4023, 0.2560]])\n",
    "None\n",
    "tensor([[ 0.1239, -0.0063,  0.0277, -0.6669],\n",
    "        [ 0.6205,  0.2703,  0.4023, -0.0121]])"
   ]
  }
 ],
 "metadata": {
  "jupytext": {
   "text_representation": {
    "extension": ".py",
    "format_name": "light",
    "format_version": "1.4",
    "jupytext_version": "1.2.1"
   }
  },
  "kernelspec": {
   "display_name": "Python 3",
   "language": "python",
   "name": "python3"
  },
  "language_info": {
   "codemirror_mode": {
    "name": "ipython",
    "version": 3
   },
   "file_extension": ".py",
   "mimetype": "text/x-python",
   "name": "python",
   "nbconvert_exporter": "python",
   "pygments_lexer": "ipython3",
   "version": "3.7.2"
  }
 },
 "nbformat": 4,
 "nbformat_minor": 2
}
