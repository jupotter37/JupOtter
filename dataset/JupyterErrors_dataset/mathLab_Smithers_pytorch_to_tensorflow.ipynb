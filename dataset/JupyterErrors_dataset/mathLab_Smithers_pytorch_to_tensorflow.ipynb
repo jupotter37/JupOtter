{
 "cells": [
  {
   "cell_type": "markdown",
   "metadata": {
    "id": "JCxgG6QoZ7qZ"
   },
   "source": [
    "## How to convert a model from PyTorch to Tensorflow \n",
    "In this tutorial, we will describe how to go from PyTorch to Tensorflow using ONNX, an open ecosystem for interoperable AI models (https://github.com/onnx)  Thus, following the tutorials on https://github.com/onnx/tutorials we will convert our model from PyTorch to ONNX and then from ONNX to Tensorflow."
   ]
  },
  {
   "cell_type": "markdown",
   "metadata": {
    "id": "5RRClxtos8EV"
   },
   "source": [
    "## **Installations**\n",
    "First of all, we need to install ONNX and Tensorflow and the necessary packages.\n",
    "\n",
    "**To install ONNX:**\n",
    "\n",
    "> conda install -c conda-forge protobuf numpy \\\n",
    "pip install onnx\n",
    "\n",
    "**To install Tensorflow:**\n",
    "\n",
    "> pip install tensorflow-cpu \\\n",
    "(pip install tensorflow if you need also support for CUDA-enabled GPU cards)\n",
    "\n",
    "Next **install onnx-tensorflow** by the following commands:\n",
    "\n",
    "> git clone https://github.com/onnx/onnx-tensorflow.git  \n",
    "cd onnx-tensorflow \\\n",
    "pip install -e .\n",
    "\n",
    "\n"
   ]
  },
  {
   "cell_type": "markdown",
   "metadata": {
    "id": "sK4wBKUsvyf-"
   },
   "source": [
    "## PyTorch Model\n",
    "Starting from the model you have defined in PyTorch, you need to train and test it. After this, you should save the state of your net in a file, that will be used for the conversion."
   ]
  },
  {
   "cell_type": "code",
   "execution_count": null,
   "metadata": {
    "collapsed": true,
    "id": "ClsqK3ObxDMv"
   },
   "outputs": [],
   "source": [
    "# PyTorch Model\n",
    "pytorch_model = Net() \n",
    "# Train and test the model\n",
    "...\n",
    "# Save the trained model to a file\n",
    "torch.save(pytorch_model.state_dict(), 'net_pytorch.pth')"
   ]
  },
  {
   "cell_type": "markdown",
   "metadata": {
    "id": "xu5VaFvaxnRv"
   },
   "source": [
    "## Export the trained model to ONNX\n",
    "In order to export the model, Pytorch exporter needs to run the model once and save this resulting traced model to a ONNX file. Therefore, we need to provide an input (a random tensor with the right shape) for our model. \n",
    "\n",
    "In our case we consider a net that takes as inputs RGB images with shape (1, 3, 32, 32.)\n",
    "\n",
    "ACHTUNG: If in your net there are average pooling layers (**AdaptiveAvgPool2d()**) (e.g. in the standard VGG), pay attention that this is not supported by ONNX. Thus you need to add the following flag in **torch.onnx.export()**\n",
    "> operator_export_type=torch.onnx.OperatorExportTypes.ONNX_ATEN_FALLBACK"
   ]
  },
  {
   "cell_type": "code",
   "execution_count": null,
   "metadata": {
    "collapsed": true,
    "id": "h4sV1FyHxtba"
   },
   "outputs": [],
   "source": [
    "# Load the network\n",
    "net_pytorch = Net()\n",
    "net_pytorch.load_state_dict(torch.load('net_pytorch.pth'))\n",
    "\n",
    "# Export the trained model to ONNX\n",
    "dummy_input = torch.rand(torch.randn(1, 3, 32, 32)) # random input for the model\n",
    "torch.onnx.export(net_pytorch, dummy_input, \"net_onnx.onnx\")"
   ]
  },
  {
   "cell_type": "markdown",
   "metadata": {
    "id": "ttSacDddrLc-"
   },
   "source": [
    "For a graph version of the onnx file you can use a ONNX viewer called Netron: https://github.com/lutzroeder/Netron."
   ]
  },
  {
   "cell_type": "markdown",
   "metadata": {
    "id": "lmGyuqSOrdJY"
   },
   "source": [
    "## Import the ONNX model to Tensorflow\n"
   ]
  },
  {
   "cell_type": "code",
   "execution_count": 1,
   "metadata": {
    "colab": {
     "base_uri": "https://localhost:8080/",
     "height": 368
    },
    "id": "iSGl9I2Wrv-Y",
    "outputId": "010b7444-0d43-4fb9-ea80-d10ddd343c38"
   },
   "outputs": [
    {
     "ename": "ModuleNotFoundError",
     "evalue": "ignored",
     "output_type": "error",
     "traceback": [
      "\u001b[0;31m---------------------------------------------------------------------------\u001b[0m",
      "\u001b[0;31mModuleNotFoundError\u001b[0m                       Traceback (most recent call last)",
      "\u001b[0;32m<ipython-input-1-90a7dfe5ebd7>\u001b[0m in \u001b[0;36m<module>\u001b[0;34m()\u001b[0m\n\u001b[0;32m----> 1\u001b[0;31m \u001b[0;32mimport\u001b[0m \u001b[0monnx\u001b[0m\u001b[0;34m\u001b[0m\u001b[0;34m\u001b[0m\u001b[0m\n\u001b[0m\u001b[1;32m      2\u001b[0m \u001b[0;32mfrom\u001b[0m \u001b[0monnx_tf\u001b[0m\u001b[0;34m.\u001b[0m\u001b[0mbackend\u001b[0m \u001b[0;32mimport\u001b[0m \u001b[0mprepare\u001b[0m\u001b[0;34m\u001b[0m\u001b[0;34m\u001b[0m\u001b[0m\n\u001b[1;32m      3\u001b[0m \u001b[0;34m\u001b[0m\u001b[0m\n\u001b[1;32m      4\u001b[0m \u001b[0;31m# Load the ONNX file\u001b[0m\u001b[0;34m\u001b[0m\u001b[0;34m\u001b[0m\u001b[0;34m\u001b[0m\u001b[0m\n\u001b[1;32m      5\u001b[0m \u001b[0mmodel_onnx\u001b[0m \u001b[0;34m=\u001b[0m \u001b[0monnx\u001b[0m\u001b[0;34m.\u001b[0m\u001b[0mload\u001b[0m\u001b[0;34m(\u001b[0m\u001b[0;34m'net_onnx.onnx'\u001b[0m\u001b[0;34m)\u001b[0m\u001b[0;34m\u001b[0m\u001b[0;34m\u001b[0m\u001b[0m\n",
      "\u001b[0;31mModuleNotFoundError\u001b[0m: No module named 'onnx'",
      "",
      "\u001b[0;31m---------------------------------------------------------------------------\u001b[0;32m\nNOTE: If your import is failing due to a missing package, you can\nmanually install dependencies using either !pip or !apt.\n\nTo view examples of installing some common dependencies, click the\n\"Open Examples\" button below.\n\u001b[0;31m---------------------------------------------------------------------------\u001b[0m\n"
     ]
    }
   ],
   "source": [
    "import onnx\n",
    "from onnx_tf.backend import prepare\n",
    "\n",
    "# Load the ONNX file\n",
    "model_onnx = onnx.load('net_onnx.onnx')\n",
    "\n",
    "# Import the ONNX model to Tensorflow\n",
    "tf_rep = prepare(model_onnx)"
   ]
  },
  {
   "cell_type": "markdown",
   "metadata": {
    "id": "OZmElsMAr_Al"
   },
   "source": [
    "In order to understand if we are converting correctly the model, we can explore the *tf_rep* object return from *onnx.tf.backend.prepare*"
   ]
  },
  {
   "cell_type": "code",
   "execution_count": null,
   "metadata": {
    "collapsed": true,
    "id": "F6fpSvFAr9wP"
   },
   "outputs": [],
   "source": [
    "# Input nodes to the model\n",
    "print('inputs:', tf_rep.inputs)\n",
    "\n",
    "# Output nodes from the model\n",
    "print('outputs:', tf_rep.outputs)\n",
    "\n",
    "# All nodes in the model\n",
    "print('tensor_dict:')\n",
    "print(tf_rep.tensor_dict)"
   ]
  },
  {
   "cell_type": "markdown",
   "metadata": {
    "id": "BC-DBBrfsPbz"
   },
   "source": [
    "## Run the model in Tensorflow\n",
    "After converting the model to Tensorflow, we can run it by taking an image with the right shape and format for our net."
   ]
  },
  {
   "cell_type": "code",
   "execution_count": null,
   "metadata": {
    "collapsed": true,
    "id": "8TzPK5nbsTHl"
   },
   "outputs": [],
   "source": [
    "import numpy as np\n",
    "from IPython.display import display\n",
    "from PIL import Image\n",
    "\n",
    "print('Image 1:')\n",
    "img = Image.open('image.png').resize((32, 32))\n",
    "array_img = np.array(img, dtype=np.float32)\n",
    "print(array_img.shape)\n",
    "array_img = array_img.reshape(1, 3, 32, 32)\n",
    "print(array_img.shape)\n",
    "output = tf_rep.run(array_img)\n",
    "\n",
    "\n",
    "print('The image is classified as ', np.argmax(output))\n"
   ]
  },
  {
   "cell_type": "markdown",
   "metadata": {
    "id": "x24zhUP2u7Bk"
   },
   "source": [
    "## Save the Tensorflow model into a file"
   ]
  },
  {
   "cell_type": "code",
   "execution_count": 1,
   "metadata": {
    "id": "k_rNJHmDu8Hk"
   },
   "outputs": [
    {
     "ename": "NameError",
     "evalue": "name 'tf_rep' is not defined",
     "output_type": "error",
     "traceback": [
      "\u001b[0;31m---------------------------------------------------------------------------\u001b[0m",
      "\u001b[0;31mNameError\u001b[0m                                 Traceback (most recent call last)",
      "\u001b[0;32m<ipython-input-1-6b9719aca958>\u001b[0m in \u001b[0;36m<module>\u001b[0;34m\u001b[0m\n\u001b[0;32m----> 1\u001b[0;31m \u001b[0mtf_rep\u001b[0m\u001b[0;34m.\u001b[0m\u001b[0mexport_graph\u001b[0m\u001b[0;34m(\u001b[0m\u001b[0;34m'net_tf.pb'\u001b[0m\u001b[0;34m)\u001b[0m\u001b[0;34m\u001b[0m\u001b[0;34m\u001b[0m\u001b[0m\n\u001b[0m",
      "\u001b[0;31mNameError\u001b[0m: name 'tf_rep' is not defined"
     ]
    }
   ],
   "source": [
    "tf_rep.export_graph('net_tf.pb')"
   ]
  },
  {
   "cell_type": "markdown",
   "metadata": {},
   "source": [
    "## Conversion into Tensorflow Lite\n",
    "Conversion of the Tensorflow model to Tensorflow Lite. There exists some operations that are not supported in Tensorflow and also that are not present in Tensorflow Lite. You can find a complete lists of them at the following link:\n",
    "https://www.tensorflow.org/lite/guide/ops_compatibility.\n",
    "In order to overcome this difficulty (if you do not have restrictions on your running environment) you can uncomment some of the lines below to complet the conversion. You can read something more, also on how to include then these operations in your environment, here:\n",
    "https://www.tensorflow.org/lite/guide/ops_select"
   ]
  },
  {
   "cell_type": "code",
   "execution_count": null,
   "metadata": {},
   "outputs": [],
   "source": [
    "converter = tf.lite.TFLiteConverter.from_saved_model('net_tf.pb')\n",
    "# If some unsupported operations by Tensorflow are present, uncomment those lines.\n",
    "#converter.target_spec.supported_ops = [\n",
    "#  tf.lite.OpsSet.TFLITE_BUILTINS, # enable TensorFlow Lite ops.\n",
    "#  tf.lite.OpsSet.SELECT_TF_OPS # enable TensorFlow ops.\n",
    "#]\n",
    "\n",
    "tflite_model = converter.convert()\n",
    "\n",
    "# Save the model.\n",
    "with open('net.tflite', 'wb') as f:\n",
    "  f.write(tflite_model)\n"
   ]
  }
 ],
 "metadata": {
  "anaconda-cloud": {},
  "colab": {
   "collapsed_sections": [],
   "name": "pytorch_to_tensorflow.ipynb",
   "provenance": [],
   "toc_visible": true
  },
  "kernelspec": {
   "display_name": "Python 3",
   "language": "python",
   "name": "python3"
  },
  "language_info": {
   "codemirror_mode": {
    "name": "ipython",
    "version": 3
   },
   "file_extension": ".py",
   "mimetype": "text/x-python",
   "name": "python",
   "nbconvert_exporter": "python",
   "pygments_lexer": "ipython3",
   "version": "3.8.3"
  }
 },
 "nbformat": 4,
 "nbformat_minor": 1
}
