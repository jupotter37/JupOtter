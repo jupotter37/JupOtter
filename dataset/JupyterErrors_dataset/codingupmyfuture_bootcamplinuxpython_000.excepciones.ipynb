{
 "cells": [
  {
   "cell_type": "markdown",
   "metadata": {},
   "source": [
    "<p><img src=\"https://i.postimg.cc/cCjTSn8r/ss-cumf.png\" alt=\"\" width=\"1280\" height=\"300\" /></p>"
   ]
  },
  {
   "cell_type": "code",
   "execution_count": 2,
   "metadata": {},
   "outputs": [
    {
     "name": "stdout",
     "output_type": "stream",
     "text": [
      "999\n"
     ]
    },
    {
     "ename": "ZeroDivisionError",
     "evalue": "division by zero",
     "output_type": "error",
     "traceback": [
      "\u001b[0;31m---------------------------------------------------------------------------\u001b[0m",
      "\u001b[0;31mZeroDivisionError\u001b[0m                         Traceback (most recent call last)",
      "\u001b[1;32m/Users/lvasq/repositories/personal/bootcamplinuxpython/contenido.curso/003.notebooks/LVL-3/LVL3_09_excepciones/excepciones.ipynb Cell 2\u001b[0m line \u001b[0;36m2\n\u001b[1;32m      <a href='vscode-notebook-cell:/Users/lvasq/repositories/personal/bootcamplinuxpython/contenido.curso/003.notebooks/LVL-3/LVL3_09_excepciones/excepciones.ipynb#W4sZmlsZQ%3D%3D?line=0'>1</a>\u001b[0m \u001b[39mprint\u001b[39m(\u001b[39m\"\u001b[39m\u001b[39m999\u001b[39m\u001b[39m\"\u001b[39m)\n\u001b[0;32m----> <a href='vscode-notebook-cell:/Users/lvasq/repositories/personal/bootcamplinuxpython/contenido.curso/003.notebooks/LVL-3/LVL3_09_excepciones/excepciones.ipynb#W4sZmlsZQ%3D%3D?line=1'>2</a>\u001b[0m \u001b[39m1\u001b[39;49m\u001b[39m/\u001b[39;49m\u001b[39m0\u001b[39;49m\n",
      "\u001b[0;31mZeroDivisionError\u001b[0m: division by zero"
     ]
    }
   ],
   "source": [
    "print(\"999\")\n",
    "1/0"
   ]
  },
  {
   "cell_type": "code",
   "execution_count": 3,
   "metadata": {},
   "outputs": [
    {
     "name": "stdout",
     "output_type": "stream",
     "text": [
      "999\n",
      "no se puede dividir por cero\n",
      "otras acciones\n"
     ]
    }
   ],
   "source": [
    "# modo simple\n",
    "\n",
    "try:\n",
    "    print(\"999\")\n",
    "    1/0\n",
    "except:\n",
    "    print(\"no se puede dividir por cero\")\n",
    "    print(\"otras acciones\")\n"
   ]
  },
  {
   "cell_type": "markdown",
   "metadata": {},
   "source": [
    "<p><img src=\"https://www.tutorialspoint.com/object_oriented_python/images/custom_exception_class.jpg\" alt=\"\" width=\"500\" height=\"300\" /></p>"
   ]
  },
  {
   "cell_type": "code",
   "execution_count": null,
   "metadata": {},
   "outputs": [
    {
     "name": "stdout",
     "output_type": "stream",
     "text": [
      "999\n",
      "excepcion especifica : 'division by zero'\n",
      "otras acciones\n"
     ]
    }
   ],
   "source": [
    "# modo simple\n",
    "# Exception es el papá de las excepciones (similar a object)\n",
    "try:\n",
    "    print(\"999\")\n",
    "    1/0\n",
    "except ZeroDivisionError as ex:\n",
    "    print(f\"excepción específica:'{ex}'\")\n",
    "    print(\"otras acciones\")\n",
    "except Exception as ex:\n",
    "    print(f\"el error que se presentó es:'{ex}'\")\n",
    "    print(\"otras acciones\")"
   ]
  },
  {
   "cell_type": "code",
   "execution_count": 7,
   "metadata": {},
   "outputs": [
    {
     "name": "stdout",
     "output_type": "stream",
     "text": [
      "la variable no esta definida\n"
     ]
    }
   ],
   "source": [
    "try:\n",
    "    print(nombre)\n",
    "except ZeroDivisionError as ex:\n",
    "    print(f\"excepción específica:'{ex}'\")\n",
    "    print(\"otras acciones\")\n",
    "except NameError:\n",
    "    print(\"la variable no está definida\")\n",
    "except Exception as ex:\n",
    "    print(f\"el error que se presentó es:'{ex}'\")\n",
    "    print(\"otras acciones\")"
   ]
  },
  {
   "cell_type": "code",
   "execution_count": 9,
   "metadata": {},
   "outputs": [
    {
     "name": "stdout",
     "output_type": "stream",
     "text": [
      "uno\n",
      "paso un error x\n"
     ]
    }
   ],
   "source": [
    "# un truco es que uno muchas veces puede forzar la excepción\n",
    "# para que no siga ejecutando lo demás\n",
    "# detectan que el hash cambió: corrupto o fue hackeado, etc.\n",
    "\n",
    "# raise [Exception(....)]\n",
    "\n",
    "try:\n",
    "    print(\"uno\")\n",
    "    raise \n",
    "    print(\"dos\")\n",
    "except:\n",
    "    print(\"pasó un error x\")"
   ]
  },
  {
   "cell_type": "code",
   "execution_count": 12,
   "metadata": {},
   "outputs": [
    {
     "name": "stdout",
     "output_type": "stream",
     "text": [
      "uno\n",
      "erro generado -->: estoy caprichoso, quize lanzar un error\n"
     ]
    }
   ],
   "source": [
    "try:\n",
    "    print(\"uno\")\n",
    "    raise Exception(\"estoy caprichoso, quise lanzar un error\")\n",
    "    print(\"dos\")\n",
    "except Exception as ex:\n",
    "    print(f\"error generado -->: {ex}\")"
   ]
  },
  {
   "cell_type": "code",
   "execution_count": 14,
   "metadata": {},
   "outputs": [
    {
     "name": "stdout",
     "output_type": "stream",
     "text": [
      "1. TODO BIEN\n",
      "2. bloque despues de terminado bloque 1\n",
      "3. bloque que siempre se ejecuta\n"
     ]
    }
   ],
   "source": [
    "# todo ok\n",
    "try: # obligatorio\n",
    "    print(\"1. TODO BIEN\")\n",
    "except: # obligatorio\n",
    "    print(\"-1. Bloque de captura de excepción. Nota: permite múltiple except\")\n",
    "else: # opcionales\n",
    "    print(\"2. Bloque después de terminado el bloque 1\")\n",
    "finally: # opcionales\n",
    "    print(\"3. Bloque que siempre se ejecuta\")"
   ]
  },
  {
   "cell_type": "code",
   "execution_count": 15,
   "metadata": {},
   "outputs": [
    {
     "name": "stdout",
     "output_type": "stream",
     "text": [
      "1. TODO MAL\n",
      "-1. bloque de captura de excepción, nota : permite multiple except\n",
      "3. bloque que siempre se ejecuta\n"
     ]
    }
   ],
   "source": [
    "try: # obligatorio\n",
    "    print(\"1. TODO MAL\")\n",
    "    raise\n",
    "except: # obligatorio\n",
    "    print(\"-1. Bloque de captura de excepción. Nota: permite múltiple except\")\n",
    "else: # opcionales\n",
    "    print(\"2. Bloque después de terminado el bloque 1\")\n",
    "finally: # opcionales\n",
    "    print(\"3. bloque que siempre se ejecuta\")"
   ]
  }
 ],
 "metadata": {
  "kernelspec": {
   "display_name": "ss",
   "language": "python",
   "name": "python3"
  },
  "language_info": {
   "codemirror_mode": {
    "name": "ipython",
    "version": 3
   },
   "file_extension": ".py",
   "mimetype": "text/x-python",
   "name": "python",
   "nbconvert_exporter": "python",
   "pygments_lexer": "ipython3",
   "version": "3.10.11"
  }
 },
 "nbformat": 4,
 "nbformat_minor": 2
}
