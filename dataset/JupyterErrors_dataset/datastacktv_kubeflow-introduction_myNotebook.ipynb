{
 "cells": [
  {
   "cell_type": "markdown",
   "metadata": {},
   "source": [
    "# Example - simple notebook"
   ]
  },
  {
   "cell_type": "code",
   "execution_count": null,
   "metadata": {},
   "outputs": [],
   "source": [
    "import tensorflow as tf\n",
    "import numpy as np"
   ]
  },
  {
   "cell_type": "markdown",
   "metadata": {},
   "source": [
    "### Load data"
   ]
  },
  {
   "cell_type": "code",
   "execution_count": null,
   "metadata": {},
   "outputs": [],
   "source": [
    "fashion_mnist = tf.keras.datasets.fashion_mnist\n",
    "(train_images, train_labels), (test_images, test_labels) = fashion_mnist.load_data()"
   ]
  },
  {
   "cell_type": "markdown",
   "metadata": {},
   "source": [
    "### Preprocess data"
   ]
  },
  {
   "cell_type": "code",
   "execution_count": null,
   "metadata": {},
   "outputs": [],
   "source": [
    "train_images = train_images / 255.0\n",
    "test_images = test_images / 255.0"
   ]
  },
  {
   "cell_type": "markdown",
   "metadata": {},
   "source": [
    "### Create and compile DNN model"
   ]
  },
  {
   "cell_type": "code",
   "execution_count": null,
   "metadata": {},
   "outputs": [],
   "source": [
    "model = tf.keras.Sequential([\n",
    "   tf.keras.layers.Flatten(input_shape=(28, 28)),\n",
    "   tf.keras.layers.Dense(128, activation='relu'),\n",
    "   tf.keras.layers.Dense(10),\n",
    "   tf.keras.layers.Softmax()])"
   ]
  },
  {
   "cell_type": "code",
   "execution_count": null,
   "metadata": {},
   "outputs": [],
   "source": [
    "model.compile(optimizer='adam',\n",
    "             loss=tf.keras.losses.SparseCategoricalCrossentropy(from_logits=True),\n",
    "             metrics=['accuracy'])"
   ]
  },
  {
   "cell_type": "markdown",
   "metadata": {},
   "source": [
    "### Train model"
   ]
  },
  {
   "cell_type": "code",
   "execution_count": null,
   "metadata": {},
   "outputs": [],
   "source": [
    "model.fit(train_images, train_labels, epochs=10)"
   ]
  },
  {
   "cell_type": "markdown",
   "metadata": {},
   "source": [
    "### Evaluate model"
   ]
  },
  {
   "cell_type": "code",
   "execution_count": null,
   "metadata": {},
   "outputs": [],
   "source": [
    "test_loss, test_acc = model.evaluate(test_images,  test_labels, verbose=2)\n",
    "print('\\nTest accuracy:', test_acc)"
   ]
  },
  {
   "cell_type": "markdown",
   "metadata": {},
   "source": [
    "### Save model"
   ]
  },
  {
   "cell_type": "code",
   "execution_count": null,
   "metadata": {},
   "outputs": [],
   "source": [
    "model.save('my_model')"
   ]
  },
  {
   "cell_type": "markdown",
   "metadata": {},
   "source": [
    "### Run sample prediction"
   ]
  },
  {
   "cell_type": "code",
   "execution_count": null,
   "metadata": {},
   "outputs": [],
   "source": [
    "predictions = model.predict(test_images)\n",
    "print('\\nPrediction:',predictions[0])"
   ]
  },
  {
   "cell_type": "markdown",
   "metadata": {},
   "source": [
    "### Training @ TFOperator"
   ]
  },
  {
   "cell_type": "code",
   "execution_count": 1,
   "metadata": {},
   "outputs": [],
   "source": [
    "gcp_project='<PROJECT_ID>'"
   ]
  },
  {
   "cell_type": "code",
   "execution_count": 2,
   "metadata": {},
   "outputs": [],
   "source": [
    "import tensorflow as tf\n",
    "import numpy as np\n",
    "import logging\n",
    "class mySimpleTrainer(object):\n",
    "\n",
    "    def __init__(self):\n",
    "        self.model = None\n",
    "        pass\n",
    "\n",
    "    def load_data_train(self):\n",
    "        logging.basicConfig(level=logging.INFO)\n",
    "        logging.info('STEP 1 - Start loading data:')\n",
    "        fashion_mnist = tf.keras.datasets.fashion_mnist\n",
    "        (train_images, train_labels), (test_images, test_labels) = fashion_mnist.load_data()\n",
    "        logging.info('Loading data finished')\n",
    "        return (train_images, train_labels, test_images, test_labels)\n",
    "        \n",
    "    def prepare_data_train(self, train_images, test_images):   \n",
    "        logging.basicConfig(level=logging.INFO)\n",
    "        logging.info('STEP 2 - Start preparing data:')\n",
    "        train_images = train_images / 255.0\n",
    "        test_images = test_images / 255.0\n",
    "        logging.info('Preparing data finished')\n",
    "        return (train_images, test_images)\n",
    "\n",
    "    def generate_keras_model(self):\n",
    "        logging.basicConfig(level=logging.INFO)\n",
    "        logging.info('STEP 3 - Start generating model:')\n",
    "        model = tf.keras.Sequential([\n",
    "        tf.keras.layers.Flatten(input_shape=(28, 28)),\n",
    "        tf.keras.layers.Dense(128, activation='relu'),\n",
    "        tf.keras.layers.Dense(10),\n",
    "        tf.keras.layers.Softmax()])\n",
    "        logging.info('Generating model finished')\n",
    "        return model\n",
    "\n",
    "    def train_model(self, model, train_images, train_labels, test_images, test_labels, epochs):\n",
    "        logging.basicConfig(level=logging.INFO)\n",
    "        logging.info('STEP 4 - Starting training model:')\n",
    "        model.compile(optimizer='adam',\n",
    "             loss=tf.keras.losses.SparseCategoricalCrossentropy(from_logits=True),\n",
    "             metrics=['accuracy'])\n",
    "        model.fit(train_images, train_labels, epochs=epochs)\n",
    "        logging.info('Train model finished')\n",
    "                   \n",
    "    def launch_train_cycle(self,epochs):\n",
    "        logging.basicConfig(level=logging.INFO)\n",
    "        logging.info('Starting E2E cycle:')\n",
    "        logging.info('Arguments:')\n",
    "        logging.info('epochs:{}'.format(epochs))\n",
    "        train_images, train_labels, test_images, test_labels = self.load_data_train()\n",
    "        train_images, test_images = self.prepare_data_train(train_images, test_images)\n",
    "        model = self.generate_keras_model()\n",
    "        self.train_model(model, train_images, train_labels, test_images, test_labels, epochs)\n",
    "        self.model = model\n",
    "        logging.info('Train cycle finished')"
   ]
  },
  {
   "cell_type": "code",
   "execution_count": 3,
   "metadata": {},
   "outputs": [
    {
     "name": "stderr",
     "output_type": "stream",
     "text": [
      "INFO:root:Starting E2E cycle:\n",
      "INFO:root:Arguments:\n",
      "INFO:root:epochs:10\n",
      "INFO:root:STEP 1 - Start loading data:\n",
      "INFO:root:Loading data finished\n",
      "INFO:root:STEP 2 - Start preparing data:\n",
      "INFO:root:Preparing data finished\n",
      "INFO:root:STEP 3 - Start generating model:\n",
      "INFO:root:Generating model finished\n",
      "INFO:root:STEP 4 - Starting training model:\n"
     ]
    },
    {
     "name": "stdout",
     "output_type": "stream",
     "text": [
      "Train on 60000 samples\n",
      "Epoch 1/10\n",
      "60000/60000 [==============================] - 4s 71us/sample - loss: 1.7185 - accuracy: 0.7504\n",
      "Epoch 2/10\n",
      "60000/60000 [==============================] - 4s 65us/sample - loss: 1.6730 - accuracy: 0.7896\n",
      "Epoch 3/10\n",
      "60000/60000 [==============================] - 4s 65us/sample - loss: 1.6643 - accuracy: 0.7975\n",
      "Epoch 4/10\n",
      "60000/60000 [==============================] - 4s 65us/sample - loss: 1.6579 - accuracy: 0.8037\n",
      "Epoch 5/10\n",
      "60000/60000 [==============================] - 6s 93us/sample - loss: 1.6531 - accuracy: 0.8089\n",
      "Epoch 6/10\n",
      "60000/60000 [==============================] - 4s 69us/sample - loss: 1.6499 - accuracy: 0.8117\n",
      "Epoch 7/10\n",
      "60000/60000 [==============================] - 4s 65us/sample - loss: 1.6464 - accuracy: 0.8149\n",
      "Epoch 8/10\n",
      "60000/60000 [==============================] - 4s 64us/sample - loss: 1.6440 - accuracy: 0.8180\n",
      "Epoch 9/10\n",
      "60000/60000 [==============================] - 4s 64us/sample - loss: 1.6428 - accuracy: 0.8182\n",
      "Epoch 10/10\n",
      "60000/60000 [==============================] - 4s 64us/sample - loss: 1.6406 - accuracy: 0.8204\n"
     ]
    },
    {
     "name": "stderr",
     "output_type": "stream",
     "text": [
      "INFO:root:Train model finished\n",
      "INFO:root:Train cycle finished\n"
     ]
    }
   ],
   "source": [
    "#Parameters\n",
    "epochs = 10\n",
    "#Sequence\n",
    "mySimpleTrainer_instance = mySimpleTrainer()\n",
    "mySimpleTrainer_instance.launch_train_cycle(epochs)"
   ]
  },
  {
   "cell_type": "code",
   "execution_count": 5,
   "metadata": {},
   "outputs": [],
   "source": [
    "class mySimpleTrainerWrapper(object):\n",
    "    \n",
    "    def __init__(self):\n",
    "        self.mySimpleTrainer_instance = mySimpleTrainer()\n",
    "\n",
    "    def train(self):\n",
    "        epochs = 10\n",
    "        self.mySimpleTrainer_instance.launch_train_cycle(epochs)\n",
    "\n",
    "    def predict(self, X, feature_names=None):\n",
    "        \"\"\"Predict using the model for given ndarray.\"\"\"\n",
    "        prediction = self.model.predict(data=X)\n",
    "        # Do any postprocessing\n",
    "        return prediction"
   ]
  },
  {
   "cell_type": "code",
   "execution_count": null,
   "metadata": {},
   "outputs": [],
   "source": [
    "##!pip install --user kubeflow-fairing"
   ]
  },
  {
   "cell_type": "code",
   "execution_count": null,
   "metadata": {},
   "outputs": [],
   "source": [
    "##!pip install --user msrestazure"
   ]
  },
  {
   "cell_type": "code",
   "execution_count": 25,
   "metadata": {},
   "outputs": [
    {
     "name": "stdout",
     "output_type": "stream",
     "text": [
      "\n",
      "You are running on a Google Compute Engine virtual machine.\n",
      "It is recommended that you use service accounts for authentication.\n",
      "\n",
      "You can run:\n",
      "\n",
      "  $ gcloud config set account `ACCOUNT`\n",
      "\n",
      "to switch accounts if necessary.\n",
      "\n",
      "Your credentials may be visible to others with access to this\n",
      "virtual machine. Are you sure you want to authenticate with\n",
      "your personal account?\n",
      "\n",
      "Do you want to continue (Y/n)?  ^C\n",
      "\n",
      "\n",
      "Command killed by keyboard interrupt\n",
      "\n"
     ]
    }
   ],
   "source": [
    "!gcloud auth login --no-launch-browser"
   ]
  },
  {
   "cell_type": "code",
   "execution_count": 71,
   "metadata": {},
   "outputs": [
    {
     "ename": "NameError",
     "evalue": "name 'cluster_builder' is not defined",
     "output_type": "error",
     "traceback": [
      "\u001b[0;31m---------------------------------------------------------------------------\u001b[0m",
      "\u001b[0;31mNameError\u001b[0m                                 Traceback (most recent call last)",
      "\u001b[0;32m<ipython-input-71-01e43825c4db>\u001b[0m in \u001b[0;36m<module>\u001b[0;34m\u001b[0m\n\u001b[1;32m     12\u001b[0m                            \u001b[0mpreprocessor\u001b[0m\u001b[0;34m=\u001b[0m\u001b[0mpreprocessor\u001b[0m\u001b[0;34m,\u001b[0m\u001b[0;34m\u001b[0m\u001b[0;34m\u001b[0m\u001b[0m\n\u001b[1;32m     13\u001b[0m                            context_source=cluster.gcs_context.GCSContextSource())\n\u001b[0;32m---> 14\u001b[0;31m \u001b[0mcluster_builder\u001b[0m\u001b[0;34m.\u001b[0m\u001b[0mbuild\u001b[0m\u001b[0;34m(\u001b[0m\u001b[0;34m)\u001b[0m\u001b[0;34m\u001b[0m\u001b[0;34m\u001b[0m\u001b[0m\n\u001b[0m\u001b[1;32m     15\u001b[0m \u001b[0;31m#fairing.config.set_deployer(name='tfjob', worker_count=1, ps_count=1)\u001b[0m\u001b[0;34m\u001b[0m\u001b[0;34m\u001b[0m\u001b[0;34m\u001b[0m\u001b[0m\n\u001b[1;32m     16\u001b[0m \u001b[0;31m#train_tfjob = fairing.config.fn(mySimpleTrainerWrapper)\u001b[0m\u001b[0;34m\u001b[0m\u001b[0;34m\u001b[0m\u001b[0;34m\u001b[0m\u001b[0m\n",
      "\u001b[0;31mNameError\u001b[0m: name 'cluster_builder' is not defined"
     ]
    }
   ],
   "source": [
    "import os\n",
    "from kubeflow import fairing\n",
    "from kubeflow.fairing.builders import cluster\n",
    "from kubeflow.fairing import cloud\n",
    "os.environ[\"TF_JOB_VERSION\"] = \"v1\"\n",
    "BASE_IMAGE='tensorflow/tensorflow:2.1.0'\n",
    "DOCKER_REGISTRY='gcr.io/{}/simple-notebook-example-tf'.format(gcp_project)\n",
    "fairing.config.set_builder(name='cluster', registry=DOCKER_REGISTRY, \n",
    "                           base_image=BASE_IMAGE,\n",
    "                           pod_spec_mutators=[cloud.gcp.add_gcp_credentials_if_exists],\n",
    "                           push=True,\n",
    "                           preprocessor=preprocessor,\n",
    "                           context_source=cluster.gcs_context.GCSContextSource())\n",
    "#fairing.config.set_deployer(name='tfjob', worker_count=1, ps_count=1)\n",
    "#train_tfjob = fairing.config.fn(mySimpleTrainerWrapper)"
   ]
  },
  {
   "cell_type": "code",
   "execution_count": 65,
   "metadata": {},
   "outputs": [
    {
     "name": "stderr",
     "output_type": "stream",
     "text": [
      "INFO:root:Using preprocessor: <kubeflow.fairing.preprocessors.function.FunctionPreProcessor object at 0x7f13860e7320>\n",
      "INFO:root:Using builder: <kubeflow.fairing.builders.cluster.cluster.ClusterBuilder object at 0x7f1386190fd0>\n",
      "INFO:root:Using deployer: <kubeflow.fairing.deployers.tfjob.tfjob.TfJob object at 0x7f13860e7be0>\n",
      "INFO:root:Building image using cluster builder.\n",
      "WARNING:root:/home/jovyan/.local/lib/python3.6/site-packages/kubeflow/fairing/__init__.py already exists in Fairing context, skipping...\n",
      "INFO:root:Creating docker context: /tmp/fairing_context_5d68_gwo\n",
      "WARNING:root:/home/jovyan/.local/lib/python3.6/site-packages/kubeflow/fairing/__init__.py already exists in Fairing context, skipping...\n",
      "WARNING:kubeflow.fairing.cloud.gcp:Not able to find gcp credentials secret: user-gcp-sa\n",
      "WARNING:kubeflow.fairing.cloud.gcp:Trying workload identity service account: default-editor\n",
      "WARNING:kubeflow.fairing.kubernetes.manager:Waiting for fairing-builder-sc4kd-g7555 to start...\n",
      "WARNING:kubeflow.fairing.kubernetes.manager:Waiting for fairing-builder-sc4kd-g7555 to start...\n",
      "WARNING:kubeflow.fairing.kubernetes.manager:Waiting for fairing-builder-sc4kd-g7555 to start...\n",
      "INFO:kubeflow.fairing.kubernetes.manager:Pod started running True\n"
     ]
    },
    {
     "name": "stdout",
     "output_type": "stream",
     "text": [
      "E1108 19:09:38.290112       1 aws_credentials.go:77] while getting AWS credentials NoCredentialProviders: no valid providers in chain. Deprecated.\n",
      "\tFor verbose messaging see aws.Config.CredentialsChainVerboseErrors\n",
      "\u001b[36mINFO\u001b[0m[0005] Retrieving image manifest tensorflow/tensorflow:2.1.0\n",
      "E1108 19:09:38.439988       1 metadata.go:154] while reading 'google-dockercfg' metadata: http status code: 404 while fetching url http://metadata.google.internal./computeMetadata/v1/instance/attributes/google-dockercfg\n",
      "E1108 19:09:38.442201       1 metadata.go:166] while reading 'google-dockercfg-url' metadata: http status code: 404 while fetching url http://metadata.google.internal./computeMetadata/v1/instance/attributes/google-dockercfg-url\n",
      "\u001b[36mINFO\u001b[0m[0006] Retrieving image manifest tensorflow/tensorflow:2.1.0\n",
      "\u001b[36mINFO\u001b[0m[0007] Built cross stage deps: map[]\n",
      "\u001b[36mINFO\u001b[0m[0007] Retrieving image manifest tensorflow/tensorflow:2.1.0\n",
      "\u001b[36mINFO\u001b[0m[0007] Retrieving image manifest tensorflow/tensorflow:2.1.0\n",
      "\u001b[36mINFO\u001b[0m[0008] Executing 0 build triggers\n",
      "\u001b[36mINFO\u001b[0m[0008] Checking for cached layer gcr.io/velascoluis-test/simple-notebook-example-tf/fairing-job/cache:15e03feb87f8aa5a1ea325648b4812f1433f9b54efdbb947154010c24f5e1d14...\n",
      "\u001b[36mINFO\u001b[0m[0008] No cached layer found for cmd RUN if [ -e requirements.txt ];then pip install --no-cache -r requirements.txt; fi\n",
      "\u001b[36mINFO\u001b[0m[0008] Unpacking rootfs as cmd RUN if [ -e requirements.txt ];then pip install --no-cache -r requirements.txt; fi requires it.\n",
      "\u001b[36mINFO\u001b[0m[0046] WORKDIR /app/\n",
      "\u001b[36mINFO\u001b[0m[0046] cmd: workdir\n",
      "\u001b[36mINFO\u001b[0m[0046] Changed working directory to /app/\n",
      "\u001b[36mINFO\u001b[0m[0046] Creating directory /app/\n",
      "\u001b[36mINFO\u001b[0m[0046] Resolving 1 paths\n",
      "\u001b[36mINFO\u001b[0m[0046] Taking snapshot of files...\n",
      "\u001b[36mINFO\u001b[0m[0046] ENV FAIRING_RUNTIME 1\n",
      "\u001b[36mINFO\u001b[0m[0046] No files changed in this command, skipping snapshotting.\n",
      "\u001b[36mINFO\u001b[0m[0046] RUN if [ -e requirements.txt ];then pip install --no-cache -r requirements.txt; fi\n",
      "\u001b[36mINFO\u001b[0m[0046] Taking snapshot of full filesystem...\n",
      "\u001b[36mINFO\u001b[0m[0059] Resolving 26684 paths\n",
      "\u001b[36mINFO\u001b[0m[0064] cmd: /bin/sh\n",
      "\u001b[36mINFO\u001b[0m[0064] args: [-c if [ -e requirements.txt ];then pip install --no-cache -r requirements.txt; fi]\n",
      "\u001b[36mINFO\u001b[0m[0064] Running: [/bin/sh -c if [ -e requirements.txt ];then pip install --no-cache -r requirements.txt; fi]\n",
      "\u001b[36mINFO\u001b[0m[0064] Taking snapshot of full filesystem...\n",
      "\u001b[36mINFO\u001b[0m[0064] Resolving 26684 paths\n",
      "\u001b[36mINFO\u001b[0m[0067] No files were changed, appending empty layer to config. No layer added to image.\n",
      "\u001b[36mINFO\u001b[0m[0067] Pushing layer gcr.io/velascoluis-test/simple-notebook-example-tf/fairing-job/cache:15e03feb87f8aa5a1ea325648b4812f1433f9b54efdbb947154010c24f5e1d14 to cache now\n",
      "\u001b[36mINFO\u001b[0m[0067] COPY /app/ /app/\n",
      "\u001b[36mINFO\u001b[0m[0067] Resolving 10 paths\n",
      "\u001b[36mINFO\u001b[0m[0067] Taking snapshot of files...\n",
      "\u001b[36mINFO\u001b[0m[0067] Pushing layer gcr.io/velascoluis-test/simple-notebook-example-tf/fairing-job/cache:b511dab0e6f98ec3fc927ef71efb3d0cab404e8aa301b74214d12ee29b64e858 to cache now\n"
     ]
    },
    {
     "name": "stderr",
     "output_type": "stream",
     "text": [
      "WARNING:kubeflow.fairing.deployers.job.job:The tfjob fairing-tfjob-d4w9t launched.\n",
      "WARNING:kubeflow.fairing.kubernetes.manager:Waiting for fairing-tfjob-d4w9t-worker-0 to start...\n",
      "WARNING:kubeflow.fairing.kubernetes.manager:Waiting for fairing-tfjob-d4w9t-worker-0 to start...\n",
      "WARNING:kubeflow.fairing.kubernetes.manager:Waiting for fairing-tfjob-d4w9t-worker-0 to start...\n",
      "ERROR:kubeflow.fairing.kubernetes.manager:Failed to launch fairing-tfjob-d4w9t-worker-0, reason: Error, message: None\n"
     ]
    },
    {
     "name": "stdout",
     "output_type": "stream",
     "text": [
      "Traceback (most recent call last):\n",
      "  File \"/app/function_shim.py\", line 78, in <module>\n",
      "    compare_version(args.python_version)\n",
      "  File \"/app/function_shim.py\", line 50, in compare_version\n",
      "    with Python ' + local_python_version + ' in the local environment.')\n",
      "RuntimeError: The Python version 2.7 mismatches                            with Python 3.6 in the local environment.\n"
     ]
    }
   ],
   "source": [
    "train_tfjob()"
   ]
  },
  {
   "cell_type": "code",
   "execution_count": null,
   "metadata": {},
   "outputs": [],
   "source": []
  }
 ],
 "metadata": {
  "kernelspec": {
   "display_name": "Python 3",
   "language": "python",
   "name": "python3"
  },
  "language_info": {
   "codemirror_mode": {
    "name": "ipython",
    "version": 3
   },
   "file_extension": ".py",
   "mimetype": "text/x-python",
   "name": "python",
   "nbconvert_exporter": "python",
   "pygments_lexer": "ipython3",
   "version": "3.6.9"
  }
 },
 "nbformat": 4,
 "nbformat_minor": 4
}