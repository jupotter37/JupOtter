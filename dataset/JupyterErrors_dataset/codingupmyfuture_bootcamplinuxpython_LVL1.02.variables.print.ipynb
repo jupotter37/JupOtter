{
  "nbformat": 4,
  "nbformat_minor": 0,
  "metadata": {
    "colab": {
      "provenance": [],
      "toc_visible": true
    },
    "kernelspec": {
      "name": "python3",
      "display_name": "Python 3"
    },
    "language_info": {
      "name": "python"
    }
  },
  "cells": [
    {
      "cell_type": "markdown",
      "source": [
        "<p><img src=\"https://i.postimg.cc/cCjTSn8r/ss-cumf.png\" alt=\"\" width=\"1280\" height=\"300\" /></p>"
      ],
      "metadata": {
        "id": "7Vj8ZBaLuxRf"
      }
    },
    {
      "cell_type": "markdown",
      "source": [
        "# **CONCEPTOS TEÓRICOS**"
      ],
      "metadata": {
        "id": "FosqPaLLvzID"
      }
    },
    {
      "cell_type": "markdown",
      "source": [
        "## **¿QUÉ ES UN NOTEBOOK?**\n",
        "\n",
        "Los Jupyter Notebooks son una herramienta interactiva de código abierto muy popular en el ámbito de la ciencia de datos, la investigación y la educación. Proporcionan un entorno computacional interactivo que permite combinar texto, código ejecutable, gráficos y elementos multimedia, todo en un único documento.\n",
        "\n",
        "Para entenderlo veámoslo desde un punto de vista común:\n",
        "<p><img src=\"https://media.licdn.com/dms/image/D4D12AQH4sRoj9narOg/article-cover_image-shrink_423_752/0/1684856996049?e=1696464000&v=beta&t=l2rZpBStN1O1l1wQ4fwhRurAQ5mUf4_sjHEydT64gmM\" alt=\"\" width=\"468\" height=\"200\" /></p>\n"
      ],
      "metadata": {
        "id": "xreUqKtx8qRO"
      }
    },
    {
      "cell_type": "markdown",
      "source": [
        "### **SOPORTA EJECUCIÓN AL O.S (SISTEMA OPERATIVO)**\n",
        "\n",
        "para interactuar col el os, el comando linux debe ir precedido por un `!`"
      ],
      "metadata": {
        "id": "mVC3tnDl9Wnp"
      }
    },
    {
      "cell_type": "code",
      "source": [
        "!cat /etc/*release*"
      ],
      "metadata": {
        "colab": {
          "base_uri": "https://localhost:8080/"
        },
        "id": "PDYIQ00V9WL-",
        "outputId": "1ad51c58-f0cd-4a81-8484-a072cf6d9515"
      },
      "execution_count": 39,
      "outputs": [
        {
          "output_type": "stream",
          "name": "stdout",
          "text": [
            "DISTRIB_ID=Ubuntu\n",
            "DISTRIB_RELEASE=22.04\n",
            "DISTRIB_CODENAME=jammy\n",
            "DISTRIB_DESCRIPTION=\"Ubuntu 22.04.2 LTS\"\n",
            "PRETTY_NAME=\"Ubuntu 22.04.2 LTS\"\n",
            "NAME=\"Ubuntu\"\n",
            "VERSION_ID=\"22.04\"\n",
            "VERSION=\"22.04.2 LTS (Jammy Jellyfish)\"\n",
            "VERSION_CODENAME=jammy\n",
            "ID=ubuntu\n",
            "ID_LIKE=debian\n",
            "HOME_URL=\"https://www.ubuntu.com/\"\n",
            "SUPPORT_URL=\"https://help.ubuntu.com/\"\n",
            "BUG_REPORT_URL=\"https://bugs.launchpad.net/ubuntu/\"\n",
            "PRIVACY_POLICY_URL=\"https://www.ubuntu.com/legal/terms-and-policies/privacy-policy\"\n",
            "UBUNTU_CODENAME=jammy\n"
          ]
        }
      ]
    },
    {
      "cell_type": "code",
      "source": [
        "!date"
      ],
      "metadata": {
        "colab": {
          "base_uri": "https://localhost:8080/"
        },
        "id": "PleW1rWQ9s5J",
        "outputId": "8bd4f1a1-aa4c-4275-972e-4e0da87c4ba5"
      },
      "execution_count": 41,
      "outputs": [
        {
          "output_type": "stream",
          "name": "stdout",
          "text": [
            "Fri Aug  4 12:33:43 AM UTC 2023\n"
          ]
        }
      ]
    },
    {
      "cell_type": "markdown",
      "source": [
        "## **¿QUÉ ES MARKDOWN?**\n",
        "\n",
        "**Markdown** es un lenguaje de marcado ligero y fácil de usar que se utiliza para formatear texto de manera sencilla y rápida. Se diseñó para ser legible en su forma no formateada, lo que lo convierte en una excelente opción para escribir documentos, READMEs, blogs y páginas web.\n",
        "\n",
        "\n",
        "\n",
        "*   [**TUTORIAL DETALLADO**](https://markdown.es/sintaxis-markdown/)\n",
        "\n",
        "*   [**HERRAMIENTA RECOMENDADA**](https://hackmd.io/)\n",
        "\n",
        "\n",
        "\n",
        "---\n",
        "**EJEMPLOS:**"
      ],
      "metadata": {
        "id": "VyV6mvgkwIF8"
      }
    },
    {
      "cell_type": "markdown",
      "source": [
        "### **ENLACES EXTERNOS (LINKS)**\n",
        "\n",
        "[Clic Aquí](https://www.python.org/static/community_logos/python-logo.png)"
      ],
      "metadata": {
        "id": "3NpO0s26wIDI"
      }
    },
    {
      "cell_type": "markdown",
      "source": [
        "### **TABLAS**\n",
        "\n",
        "| Nombre     |   Edad |   Profesión   |   Profesión   |\n",
        "|:----------:|------:|:--------------|-------------|\n",
        "|   Ana      |    30 | Desarrollador | Programadora |\n",
        "|   Carlos   |    25 | Diseñador     | Diseñador            |\n",
        "|   Laura    |    28 | Escritor      | Escritor             |\n",
        "\n",
        "\n",
        "\n",
        "\n",
        "\n",
        "```\n",
        ":--: |centrado\n",
        ":--: | centrado derecha\n",
        ":--  | centrado izquierda\n",
        "--   | centrado izquierda\n",
        "```\n",
        "\n"
      ],
      "metadata": {
        "id": "vU74bktLwIAa"
      }
    },
    {
      "cell_type": "markdown",
      "source": [
        "### **VIÑETAS**\n",
        "\n",
        "\n",
        "\n",
        "*   AAAA\n",
        "  - AAAA-1\n",
        "*   BBBB\n",
        "  - BBBB-2\n"
      ],
      "metadata": {
        "id": "s7071KsvwH92"
      }
    },
    {
      "cell_type": "markdown",
      "source": [
        "### **NÚMEROS**\n",
        "\n",
        "\n",
        "\n",
        "1.   111\n",
        "  - 111-A\n",
        "  * 111-A\n",
        "2.   222\n",
        "  - 222-A"
      ],
      "metadata": {
        "id": "4e2op1qcz-JR"
      }
    },
    {
      "cell_type": "markdown",
      "source": [
        "### **SEPARACIÓN POR LÍNEA**\n",
        "\n",
        "---"
      ],
      "metadata": {
        "id": "ElyEMxce0vVd"
      }
    },
    {
      "cell_type": "markdown",
      "source": [
        "### **CÓDIGO UNILÍNEA**\n",
        "\n",
        "Estoy ejecutando el comando `hola` y genera un error.\n",
        "\n",
        "\n"
      ],
      "metadata": {
        "id": "V9kO4e4x0CPn"
      }
    },
    {
      "cell_type": "markdown",
      "source": [
        "### **CÓDIGO MULTILÍNEA**\n",
        "\n",
        "Estoy ejecutando el comando `hola` y genera el siguiente error:\n",
        "\n",
        "\n",
        "\n",
        "```\n",
        "cómo van?\n",
        "cómo están?\n",
        "..\n",
        "..\n",
        "..\n",
        "bye!\n",
        "```\n",
        "\n",
        "Nota:\n",
        "\n",
        "Cuando se tiene código multilínea, se le puede especificar el lenguaje para\n",
        "resaltar su sintaxis después de las 3 comillas invertidas.\n",
        "\n",
        "\n",
        "\n",
        "\n",
        "*   `java` para Java\n",
        "*   `python` para Python\n",
        "*   `javascript` para JavaScript\n",
        "*   `html` para HTML\n",
        "*   `css` para CSS\n",
        "*   `bash` para comandos de la terminal (Bash)\n",
        "*   `sql` para SQL (Structured Query Language)\n",
        "*   `ruby` para Ruby\n",
        "*   `cpp` o `c++` para C++\n",
        "*   `php` para PHP\n",
        "*   `markdown` para el propio Markdown (útil para mostrar ejemplos de Markdown)\n"
      ],
      "metadata": {
        "id": "xu8UcN4X0HXw"
      }
    },
    {
      "cell_type": "markdown",
      "source": [
        "### **HTML**\n",
        "\n",
        "\n",
        "\n",
        "\n",
        "**Encabezados HTML:**\n",
        "\n",
        "html\n",
        "Copy code\n",
        "<!-- HTML -->\n",
        "<h1>Título 1</h1>\n",
        "<h2>Título 2</h2>\n",
        "<h3>Título 3</h3>\n",
        "\n",
        "\n",
        "**Equivalente en Markdown:**\n",
        "\n",
        "\n",
        "```\n",
        "# Título 1\n",
        "## Título 2\n",
        "### Título 3\n",
        "```\n",
        "\n",
        "<p><img src=\"https://i.postimg.cc/cCjTSn8r/ss-cumf.png\" alt=\"\" width=\"260\" height=\"63\" /></p>\n"
      ],
      "metadata": {
        "id": "1_XNQeGi0MND"
      }
    },
    {
      "cell_type": "markdown",
      "source": [
        "### **LATEX**\n",
        "\n",
        "Pará más información, visite: [link](https://manualdelatex.com/tutoriales)\n",
        "\n",
        "\n",
        "\\begin{align}\n",
        "\\mathbf{a} \\cdot \\mathbf{b} = \\sum_{i=1}^n a_i b_i.\n",
        "\\end{align}\n",
        "\n",
        "\n",
        "\n",
        "\n",
        "\n",
        "LaTeX | symbol\n",
        "--- | :---:\n",
        "`\\approx` | $\\approx$\n",
        "`\\sim` | $\\sim$\n",
        "`\\propto` | $\\propto$\n",
        "`\\le` | $\\le$\n",
        "`ge` | $\\ge$\n",
        "`\\pm` | $\\pm$\n",
        "`\\in` | $\\in$\n",
        "`\\ln` | $\\ln$\n",
        "`\\exp` | $\\exp$\n",
        "`\\prod_{i\\in D}` | ${\\displaystyle \\prod_{i\\in D}}$\n",
        "`\\sum_{i\\in D}` | ${\\displaystyle \\sum_{i\\in D}}$\n",
        "`\\frac{\\partial f}{\\partial x}` | ${\\displaystyle \\frac{\\partial f}{\\partial x}}$\n",
        "`\\sqrt{x}` | $\\sqrt{x}$\n",
        "`\\bar{x}` | $\\bar{x}$\n",
        "`\\langle x \\rangle` | $\\langle x \\rangle$\n",
        "`\\left\\langle \\frac{x}{y} \\right\\rangle` | $\\left\\langle \\frac{x}{y} \\right\\rangle$"
      ],
      "metadata": {
        "id": "_DlmTxllglj2"
      }
    },
    {
      "cell_type": "markdown",
      "source": [
        "## **¿CÓMO APRENDER A PROGRAMAR?**\n",
        "\n",
        "\n",
        "<p><img src=\"https://i.postimg.cc/FzpXQ3bt/caap.jpg\" alt=\"\" width=\"1024\" height=\"723\" /></p>\n"
      ],
      "metadata": {
        "id": "cvKY7UIt-P_u"
      }
    },
    {
      "cell_type": "markdown",
      "source": [
        "## **CONCEPTOS ELEMENTALES**"
      ],
      "metadata": {
        "id": "oAES1xAjqp-u"
      }
    },
    {
      "cell_type": "markdown",
      "source": [
        "### **¿QUÉ ES PYTHON?**\n",
        "\n",
        "\n",
        "<p><img src=\"https://upload.wikimedia.org/wikipedia/commons/thumb/6/66/Guido_van_Rossum_OSCON_2006.jpg/1200px-Guido_van_Rossum_OSCON_2006.jpg\" alt=\"\" width=\"225\" height=\"320\" /></p>\n",
        "\n",
        "\n",
        "Python es un lenguaje de programación de alto nivel, interpretado, de propósito general y con una sintaxis clara y legible. Fue creado por Guido van Rossum, un programador holandés, y la primera versión de Python se lanzó en 1991. Desde entonces, ha ganado una gran popularidad debido a su facilidad de uso, su enfoque en la legibilidad del código y su amplia comunidad de desarrolladores que han creado una gran cantidad de bibliotecas y módulos que facilitan el desarrollo de aplicaciones en diversos campos.\n",
        "\n",
        "[cuál versión usar](https://devguide.python.org/versions/)?\n"
      ],
      "metadata": {
        "id": "xWCkCH_mvpWH"
      }
    },
    {
      "cell_type": "markdown",
      "source": [
        "### **¿QUÉ ES UNA VARIABLE?**\n",
        "\n",
        "Una variable es un contenedor que se utiliza para almacenar y representar datos en memoria. Puedes pensar en una variable como una caja etiquetada en la que puedes poner un valor específico, y luego referirte a ese valor usando el nombre de la variable.\n",
        "\n",
        "\n",
        "<p><img src=\"https://blogger.googleusercontent.com/img/b/R29vZ2xl/AVvXsEhCnQzYw8GAj_eq6r2OR10JTYpw4RTQ93oSdpG1NB9KDrbsAyxT3HuDBlQUwBdfhg_w_k0jpuXLr4b9vECrNGv9ZegTlmEt668iQn3vuJc0VIy6DTzTWnByErxaAh3silXD67I6tqS3ekt4xkvUs3v6Urly0R9n4j5M6MLX6-9GxiJJfZdyiydrQ5AYQg/s800/image%20(15).webp\" alt=\"\" width=\"544\" height=\"233\" /></p>\n",
        "\n",
        "\n",
        "Mirémoslo desde una mirada más simple:\n",
        "<p><img src=\"https://img.yumpu.com/43636336/1/500x640/formulario-de-cambio-de-partidos-fecha-lugar-hora-federacian-.jpg\" alt=\"\" width=\"452\" height=\"640\" /></p>\n",
        "\n",
        "\n",
        "\n",
        "\n"
      ],
      "metadata": {
        "id": "Qfd8cIJFqysB"
      }
    },
    {
      "cell_type": "markdown",
      "source": [
        "### **¿QUÉ ES UN LENGUAJE DE PROGRAMACIÓN?**\n",
        "\n",
        "<p><img src=\"https://piperlab.es/wp-content/uploads/2020/09/lenguajes-de-programacion.jpg\" alt=\"\" width=\"544\" height=\"233\" /></p>\n",
        "\n",
        "\n",
        "Un lenguaje de programación es como un conjunto de instrucciones que le das a una computadora para que realice tareas específicas. Puedes pensar en ello como si estuvieras dando una serie de pasos detallados y precisos a una persona para que realice una tarea.\n",
        "\n",
        "\n",
        "Un lenguaje de programación consta de elementos como palabras clave, operadores, símbolos especiales, reglas de sintaxis y semántica, entre otros. Los programas escritos en un lenguaje de programación deben cumplir con las reglas y estructuras definidas en ese lenguaje para que sean comprensibles y ejecutables por la máquina.\n",
        "\n",
        "\n",
        "\n"
      ],
      "metadata": {
        "id": "xEZYHmK5qymi"
      }
    },
    {
      "cell_type": "markdown",
      "source": [
        "## **CONOCIMIENTO DEL LENGUAJE DE PROGRAMACIÓN**\n",
        "\n",
        "\n",
        "Las cinco preguntas que siempre se recomienda preguntar:"
      ],
      "metadata": {
        "id": "q-ifh44M-P84"
      }
    },
    {
      "cell_type": "markdown",
      "source": [],
      "metadata": {
        "id": "4iRcfEIb-P44"
      }
    },
    {
      "cell_type": "markdown",
      "source": [
        "### **1.LENGUAJE COMPILADO O INTERPRETADO**\n",
        "\n",
        "\n",
        "<p><img src=\"https://i.postimg.cc/FHg0cxb5/cmvsnocm.png\" alt=\"\" width=\"544\" height=\"233\" /></p>\n",
        "\n"
      ],
      "metadata": {
        "id": "54HtHGcvclDa"
      }
    },
    {
      "cell_type": "markdown",
      "source": [
        "### **2.¿CUÁLES PARADIGMAS DE PROGRAMACIÓN MANEJA?**\n",
        "\n",
        "<p><img src=\"https://keepcoding.io/wp-content/uploads/2022/08/paradigmas-de-programacion.jpg\" alt=\"\" width=\"544\" height=\"233\" /></p>\n",
        "\n",
        "\n",
        "\n",
        "Para entenderlo veámoslo desde un punto de vista común:\n",
        "<p><img src=\"https://i.postimg.cc/FzSV6dqj/pinturas.png\" alt=\"\" width=\"468\" height=\"146\" /></p>\n",
        "\n",
        "\n",
        "\n",
        "1.   Acuarela.\n",
        "2.   Óleo.\n",
        "3.   Gouache.\n",
        "4.   Aerografía.\n",
        "5.   Pintura al pastel.\n",
        "6.   Temple o témpera.\n",
        "7.   Fresco.\n",
        "8.   Acrílico.\n",
        "\n"
      ],
      "metadata": {
        "id": "acjdKdDeck9U"
      }
    },
    {
      "cell_type": "markdown",
      "source": [
        "#### **PROGRAMACIÓM IMPERATIVA**\n",
        "\n",
        "Python es un lenguaje imperativo en su núcleo, lo que significa que se ejecuta línea por línea, indicando cómo lograr el resultado paso a paso. Los programas en Python están compuestos principalmente por declaraciones y comandos que modifican el estado del programa.\n",
        "\n",
        "\n",
        "\n",
        "```python\n",
        "def factorial_iterative(n):\n",
        "    result = 1\n",
        "    for i in range(1, n+1):\n",
        "        result *= i\n",
        "    return result\n",
        "\n",
        "print(factorial_iterative(5))  # Salida: 120\n",
        "```\n",
        "\n"
      ],
      "metadata": {
        "id": "d7cxBfBZhnzQ"
      }
    },
    {
      "cell_type": "markdown",
      "source": [
        "#### **PROGRAMACIÓN ORIENTADA A OBJETOS (OOP)**\n",
        "\n",
        " Python es un lenguaje orientado a objetos, lo que permite la definición de clases y objetos. Los objetos encapsulan datos y comportamientos, y las clases son plantillas que definen cómo se crean esos objetos. Python facilita la creación de objetos y el uso de herencia, polimorfismo y encapsulación.\n",
        "\n",
        "\n",
        "\n",
        "```python\n",
        "class Persona:\n",
        "    def __init__(self, nombre, edad):\n",
        "        self.nombre = nombre\n",
        "        self.edad = edad\n",
        "\n",
        "    def saludar(self):\n",
        "        return f\"Hola, mi nombre es {self.nombre} y tengo {self.edad} años.\"\n",
        "\n",
        "persona1 = Persona(\"Juan\", 30)\n",
        "print(persona1.saludar())  # Salida: \"Hola, mi nombre es Juan y tengo 30 años.\"e\n",
        "```\n",
        "\n"
      ],
      "metadata": {
        "id": "LtqEPRioBRFw"
      }
    },
    {
      "cell_type": "markdown",
      "source": [
        "#### **PROGRAMACIÓN FUNCIONAL**\n",
        "\n",
        "Python admite programación funcional, que se centra en el uso de funciones como elementos de primer orden. Esto significa que las funciones pueden tratarse como cualquier otro objeto, lo que permite el uso de funciones anónimas (lambda), funciones de orden superior y operaciones de mapeo y reducción.\n",
        "\n",
        "\n",
        "\n",
        "```python\n",
        "numeros = [1, 2, 3, 4, 5]\n",
        "\n",
        "# Usando funciones de orden superior\n",
        "cuadrados = list(map(lambda x: x ** 2, numeros))\n",
        "print(cuadrados)  # Salida: [1, 4, 9, 16, 25]\n",
        "\n",
        "# Usando comprensiones de listas\n",
        "cubos = [x ** 3 for x in numeros]\n",
        "print(cubos)  # Salida: [1, 8, 27, 64, 125]\n",
        "```\n",
        "\n"
      ],
      "metadata": {
        "id": "jMXBVjZrhntk"
      }
    },
    {
      "cell_type": "markdown",
      "source": [
        "#### **PROGRAMACIÓN PROCEDURAL**\n",
        "\n",
        "Python es adecuado para la programación procedural, que es un estilo de programación estructurado que divide el programa en procedimientos y subrutinas para resolver problemas.\n",
        "\n",
        "\n",
        "\n",
        "\n",
        "```python\n",
        "def suma(a, b):\n",
        "    return a + b\n",
        "\n",
        "resultado = suma(3, 5)\n",
        "print(resultado)  # Salida: 8\n",
        "```\n",
        "\n",
        "\n"
      ],
      "metadata": {
        "id": "cYE5VzcFhnni"
      }
    },
    {
      "cell_type": "markdown",
      "source": [
        "### **3. LENGUAJE DE TIPADO DINÁMICO O ESTÁTICO**\n",
        "\n",
        "<p><img src=\"https://res.cloudinary.com/practicaldev/image/fetch/s--i1yqfSl1--/c_imagga_scale,f_auto,fl_progressive,h_900,q_auto,w_1600/https://miro.medium.com/max/1400/1%2ABddwVWW6hFU0miT9DCbUWQ.png\" alt=\"\" width=\"544\" height=\"233\" /></p>\n",
        "\n"
      ],
      "metadata": {
        "id": "-2Vpz_aWhna0"
      }
    },
    {
      "cell_type": "markdown",
      "source": [
        "#### **ESTÁTICO O FUERTE**\n",
        "\n",
        "En un lenguaje tipado, también llamados de tipado estricto, se caracterizan porque requieren que definamos el tipo de dato específico de las variables y expresiones que vamos a utilizar.\n",
        "\n",
        "\n",
        "```java\n",
        "int numero = 5;\n",
        "int resultado = numero + 10;\n",
        "resultado = \"hola\"; // error\n",
        "```\n",
        "\n"
      ],
      "metadata": {
        "id": "VUhrOhxThnUI"
      }
    },
    {
      "cell_type": "markdown",
      "source": [
        "\n",
        "#### **NO TIPADO O DINÁMICO**\n",
        "En un lenguaje no tipado, también llamados de tipado dinámico, no necesitan que indiquemos el tipo de las variables y expresiones al declarar la variable.\n",
        "\n",
        "\n",
        "\n",
        "```python\n",
        "numero = 5\n",
        "resultado = numero + 10\n",
        "resultado = \"hola\" # OK\n",
        "```\n",
        "\n"
      ],
      "metadata": {
        "id": "nzDsEqhDpYBK"
      }
    },
    {
      "cell_type": "markdown",
      "source": [
        "### **4. INDENTACIÓN DEL CÓDIGO**\n",
        "\n",
        "<p><img src=\"https://python.pages.doc.ic.ac.uk/java/lessons/java/01-intro/_images/guessing_game_braces.png\" alt=\"\" width=\"1365\" height=\"653\" /></p>\n",
        "\n",
        "\n",
        "\n",
        "---\n",
        "\n"
      ],
      "metadata": {
        "id": "YMp9n6YMgIkn"
      }
    },
    {
      "cell_type": "markdown",
      "source": [
        "### **5. TIPOS DE DATOS QUE SOPORTA**\n",
        "\n",
        "En Python, existen varios tipos de datos que se utilizan para representar diferentes tipos de valores. Algunos de los tipos de datos más comunes en Python son los siguientes:\n",
        "\n",
        "### **Números**\n",
        "\n",
        "- **Enteros (int):** Representan números enteros positivos o negativos, por ejemplo, `1`, `100`, `-42`.\n",
        "\n",
        "- **Números de Punto Flotante (float):** Representan números con parte decimal, por ejemplo, `3.14`, `2.718`.\n",
        "\n",
        "\n",
        "\n",
        "- **Cadenas de caracteres (str):** Son secuencias de caracteres encerradas entre comillas, por ejemplo, `\"Hola, mundo\"`.\n",
        "\n",
        "\n",
        "\n",
        "- **Valores booleanos (bool):** Representan la verdad o la falsedad de una expresión. Pueden ser `True` o `False`.\n",
        "\n",
        "\n",
        "- **Listas (list):** Son secuencias ordenadas de elementos que pueden ser de diferentes tipos, por ejemplo, `[1, 2, 3]`, `['a', 'b', 'c']`.\n",
        "\n",
        "\n",
        "- **Tuplas (tuple):** Son secuencias ordenadas de elementos inmutables, por ejemplo, `(1, 2, 3)`.\n",
        "\n",
        "\n",
        "- **Conjuntos (set):** Son colecciones no ordenadas de elementos únicos, por ejemplo, `{1, 2, 3}`.\n",
        "\n",
        "\n",
        "- **Diccionarios (dict):** Son colecciones de pares clave-valor, por ejemplo, `{'nombre': 'Juan', 'edad': 30}`.\n",
        "\n",
        "\n",
        "\n",
        "- **None:** Es un tipo especial que representa la ausencia de valor, similar a `null` en otros lenguajes.\n",
        "\n"
      ],
      "metadata": {
        "id": "BHGZYH_aBRDu"
      }
    },
    {
      "cell_type": "markdown",
      "source": [
        "##  **¡MANOS A LA OBRA!**"
      ],
      "metadata": {
        "id": "5F6jxwLFwKv2"
      }
    },
    {
      "cell_type": "markdown",
      "source": [
        "### **VARIABLES**\n",
        "Nota: las variables no pueden tener espacios\n",
        "\n",
        "nombres claros en las variables\n",
        "\n",
        "* No recomendado: `nombreCompleto`\n",
        "* No recomendado: `NombreCompleTo`\n",
        "* malo: `Nombre Completo`\n",
        "* recomendado: `nombre_completo`\n",
        "```\n",
        "# nombre_variable: tipo = valor\n",
        "```\n",
        "\n"
      ],
      "metadata": {
        "id": "HDA6b1Mql4tT"
      }
    },
    {
      "cell_type": "markdown",
      "source": [
        "#### **HARCODEADO (HARDCODING)**\n",
        "\n",
        "**malas prácticas**\n",
        "\n",
        "profundizar"
      ],
      "metadata": {
        "id": "VHGUQSnBwGdh"
      }
    },
    {
      "cell_type": "code",
      "source": [
        "1"
      ],
      "metadata": {
        "colab": {
          "base_uri": "https://localhost:8080/"
        },
        "id": "1oxZ4tGdwFfr",
        "outputId": "f5eb0464-3eeb-477b-9302-95c8d47d6898"
      },
      "execution_count": 23,
      "outputs": [
        {
          "output_type": "execute_result",
          "data": {
            "text/plain": [
              "1"
            ]
          },
          "metadata": {},
          "execution_count": 23
        }
      ]
    },
    {
      "cell_type": "markdown",
      "source": [
        "#### **SENCILLA**"
      ],
      "metadata": {
        "id": "GA0-I4DwmAbr"
      }
    },
    {
      "cell_type": "code",
      "source": [
        "nombre = 'coding up my future'\n",
        "nombre"
      ],
      "metadata": {
        "colab": {
          "base_uri": "https://localhost:8080/",
          "height": 35
        },
        "id": "mBVQnntdmQkg",
        "outputId": "50177bd6-6e94-4086-d0dd-5594d00c0a99"
      },
      "execution_count": 5,
      "outputs": [
        {
          "output_type": "execute_result",
          "data": {
            "text/plain": [
              "'coding up my future'"
            ],
            "application/vnd.google.colaboratory.intrinsic+json": {
              "type": "string"
            }
          },
          "metadata": {},
          "execution_count": 5
        }
      ]
    },
    {
      "cell_type": "code",
      "source": [
        "edad = 1"
      ],
      "metadata": {
        "id": "OxZ84ovemyDj"
      },
      "execution_count": 7,
      "outputs": []
    },
    {
      "cell_type": "markdown",
      "source": [
        "#### **REFERENCIA**\n",
        "\n",
        "Las variables de referencia no son restrictivas"
      ],
      "metadata": {
        "id": "VStVIHl_mAUX"
      }
    },
    {
      "cell_type": "code",
      "source": [
        "nombre: str = 'coding up my future'"
      ],
      "metadata": {
        "id": "J1TZy0vlpZhO"
      },
      "execution_count": 10,
      "outputs": []
    },
    {
      "cell_type": "code",
      "source": [
        "# eje no restrictivo\n",
        "nombre: int = 'hol@'"
      ],
      "metadata": {
        "id": "O00ol146pwf-"
      },
      "execution_count": 9,
      "outputs": []
    },
    {
      "cell_type": "markdown",
      "source": [
        "#### **CONSTRUCTOR**\n",
        "\n",
        "\n",
        "Permite cambiar un tipo de dato a otro, siempre y cuando el origen de dato que se quiera convertir, lo soporte el destino\n",
        "\n",
        "para entender este concepto, estudiar casteos\n",
        "\n"
      ],
      "metadata": {
        "id": "Ji4wI3eWmAP1"
      }
    },
    {
      "cell_type": "code",
      "source": [
        "edad: int = int('1')\n",
        "edad"
      ],
      "metadata": {
        "colab": {
          "base_uri": "https://localhost:8080/"
        },
        "id": "XB_JBIGZqb2E",
        "outputId": "15df7788-2597-4578-91fa-fc3dc7626c0d"
      },
      "execution_count": 11,
      "outputs": [
        {
          "output_type": "execute_result",
          "data": {
            "text/plain": [
              "1"
            ]
          },
          "metadata": {},
          "execution_count": 11
        }
      ]
    },
    {
      "cell_type": "code",
      "source": [
        "edad: int = int('1a')\n",
        "edad"
      ],
      "metadata": {
        "colab": {
          "base_uri": "https://localhost:8080/",
          "height": 193
        },
        "id": "1dAuHnj9smen",
        "outputId": "e0115219-4226-4a21-b8bf-824532efacca"
      },
      "execution_count": 12,
      "outputs": [
        {
          "output_type": "error",
          "ename": "ValueError",
          "evalue": "ignored",
          "traceback": [
            "\u001b[0;31m---------------------------------------------------------------------------\u001b[0m",
            "\u001b[0;31mValueError\u001b[0m                                Traceback (most recent call last)",
            "\u001b[0;32m<ipython-input-12-2095daba3d90>\u001b[0m in \u001b[0;36m<cell line: 1>\u001b[0;34m()\u001b[0m\n\u001b[0;32m----> 1\u001b[0;31m \u001b[0medad\u001b[0m\u001b[0;34m:\u001b[0m \u001b[0mint\u001b[0m \u001b[0;34m=\u001b[0m \u001b[0mint\u001b[0m\u001b[0;34m(\u001b[0m\u001b[0;34m'1a'\u001b[0m\u001b[0;34m)\u001b[0m\u001b[0;34m\u001b[0m\u001b[0;34m\u001b[0m\u001b[0m\n\u001b[0m\u001b[1;32m      2\u001b[0m \u001b[0medad\u001b[0m\u001b[0;34m\u001b[0m\u001b[0;34m\u001b[0m\u001b[0m\n",
            "\u001b[0;31mValueError\u001b[0m: invalid literal for int() with base 10: '1a'"
          ]
        }
      ]
    },
    {
      "cell_type": "code",
      "source": [
        "edad: int = int('True')\n",
        "edad"
      ],
      "metadata": {
        "colab": {
          "base_uri": "https://localhost:8080/",
          "height": 193
        },
        "id": "-TXHEOtBtWb5",
        "outputId": "a9baf07e-137e-4036-e627-deed4e7dc32b"
      },
      "execution_count": 13,
      "outputs": [
        {
          "output_type": "error",
          "ename": "ValueError",
          "evalue": "ignored",
          "traceback": [
            "\u001b[0;31m---------------------------------------------------------------------------\u001b[0m",
            "\u001b[0;31mValueError\u001b[0m                                Traceback (most recent call last)",
            "\u001b[0;32m<ipython-input-13-32a9fd69a5cc>\u001b[0m in \u001b[0;36m<cell line: 1>\u001b[0;34m()\u001b[0m\n\u001b[0;32m----> 1\u001b[0;31m \u001b[0medad\u001b[0m\u001b[0;34m:\u001b[0m \u001b[0mint\u001b[0m \u001b[0;34m=\u001b[0m \u001b[0mint\u001b[0m\u001b[0;34m(\u001b[0m\u001b[0;34m'True'\u001b[0m\u001b[0;34m)\u001b[0m\u001b[0;34m\u001b[0m\u001b[0;34m\u001b[0m\u001b[0m\n\u001b[0m\u001b[1;32m      2\u001b[0m \u001b[0medad\u001b[0m\u001b[0;34m\u001b[0m\u001b[0;34m\u001b[0m\u001b[0m\n",
            "\u001b[0;31mValueError\u001b[0m: invalid literal for int() with base 10: 'True'"
          ]
        }
      ]
    },
    {
      "cell_type": "code",
      "source": [
        "edad: str = float('1.2')\n",
        "edad"
      ],
      "metadata": {
        "colab": {
          "base_uri": "https://localhost:8080/"
        },
        "id": "lXG3blBotZJ3",
        "outputId": "c2db9734-fa16-4ae1-ece6-96cd0c6e86f4"
      },
      "execution_count": 19,
      "outputs": [
        {
          "output_type": "execute_result",
          "data": {
            "text/plain": [
              "1.2"
            ]
          },
          "metadata": {},
          "execution_count": 19
        }
      ]
    },
    {
      "cell_type": "markdown",
      "source": [
        "#### **TYPE**"
      ],
      "metadata": {
        "id": "KeHEq1ItuMY8"
      }
    },
    {
      "cell_type": "code",
      "source": [
        "type(edad)"
      ],
      "metadata": {
        "colab": {
          "base_uri": "https://localhost:8080/"
        },
        "id": "EB8IiGEBuKdv",
        "outputId": "358966d4-286b-4251-e8d5-92c9a84b2eeb"
      },
      "execution_count": 20,
      "outputs": [
        {
          "output_type": "execute_result",
          "data": {
            "text/plain": [
              "float"
            ]
          },
          "metadata": {},
          "execution_count": 20
        }
      ]
    },
    {
      "cell_type": "markdown",
      "source": [
        "#### **ISINSTANCE**"
      ],
      "metadata": {
        "id": "M8KO2_h2utHO"
      }
    },
    {
      "cell_type": "markdown",
      "source": [
        "##### **SIMPLE**"
      ],
      "metadata": {
        "id": "brjvMUycvAby"
      }
    },
    {
      "cell_type": "code",
      "source": [
        "isinstance(edad, str)"
      ],
      "metadata": {
        "colab": {
          "base_uri": "https://localhost:8080/"
        },
        "id": "wsLaOG9su22g",
        "outputId": "a3f3a449-9531-4f16-c72d-f3db631fa1da"
      },
      "execution_count": 21,
      "outputs": [
        {
          "output_type": "execute_result",
          "data": {
            "text/plain": [
              "False"
            ]
          },
          "metadata": {},
          "execution_count": 21
        }
      ]
    },
    {
      "cell_type": "markdown",
      "source": [
        "##### **MÚLTIPLE**"
      ],
      "metadata": {
        "id": "FMSYKNfkvCpb"
      }
    },
    {
      "cell_type": "code",
      "source": [
        "isinstance(edad, (str, float))"
      ],
      "metadata": {
        "colab": {
          "base_uri": "https://localhost:8080/"
        },
        "id": "CzTlgxTWvLDs",
        "outputId": "397fdc2e-a582-4acb-f7b4-0b92bcd73035"
      },
      "execution_count": 22,
      "outputs": [
        {
          "output_type": "execute_result",
          "data": {
            "text/plain": [
              "True"
            ]
          },
          "metadata": {},
          "execution_count": 22
        }
      ]
    },
    {
      "cell_type": "markdown",
      "source": [
        "### **IMPRIMIR (PRINT)**\n",
        "\n",
        "\n",
        "comando `print`\n",
        "\n",
        "`print(object(s), sep=separator, end=end, file=file, flush=flush)`\n",
        "\n",
        "\n",
        "Nota: solamente estudiar para evitar confusiones, la forma `simple`, `múltiple` y `sep` o `end`"
      ],
      "metadata": {
        "id": "da4Rz2YAvxvk"
      }
    },
    {
      "cell_type": "markdown",
      "source": [
        "#### **PRINT HARDCODEADO SIMPLE**"
      ],
      "metadata": {
        "id": "0N6v9BKRwcts"
      }
    },
    {
      "cell_type": "code",
      "source": [
        "print('coding up my future')"
      ],
      "metadata": {
        "colab": {
          "base_uri": "https://localhost:8080/"
        },
        "id": "iwI_zI_BwcHQ",
        "outputId": "52fb30d9-a65e-4b96-a2a2-04f35f5b962a"
      },
      "execution_count": 24,
      "outputs": [
        {
          "output_type": "stream",
          "name": "stdout",
          "text": [
            "coding up my future\n"
          ]
        }
      ]
    },
    {
      "cell_type": "markdown",
      "source": [
        "#### **VARIABLES SIMPLES**"
      ],
      "metadata": {
        "id": "AYfQwq6uwq1i"
      }
    },
    {
      "cell_type": "code",
      "source": [
        "nombre: str = 'coding up my future'\n",
        "print(nombre)"
      ],
      "metadata": {
        "colab": {
          "base_uri": "https://localhost:8080/"
        },
        "id": "dJV0rvW8woUp",
        "outputId": "34741e8c-7e8e-4ca6-b571-194e38dd9379"
      },
      "execution_count": 25,
      "outputs": [
        {
          "output_type": "stream",
          "name": "stdout",
          "text": [
            "coding up my future\n"
          ]
        }
      ]
    },
    {
      "cell_type": "markdown",
      "source": [
        "#### **PRINT HARDCODEADO MÚLTIPLE**\n",
        "\n",
        "valores separados por `,`\n",
        "\n"
      ],
      "metadata": {
        "id": "2F_bEPYbw6uK"
      }
    },
    {
      "cell_type": "code",
      "source": [
        "print(1,2,3)"
      ],
      "metadata": {
        "colab": {
          "base_uri": "https://localhost:8080/"
        },
        "id": "qdxbMRb2w6S5",
        "outputId": "9fd870e2-2e63-4ce0-e454-4461a72a971b"
      },
      "execution_count": 26,
      "outputs": [
        {
          "output_type": "stream",
          "name": "stdout",
          "text": [
            "1 2 3\n"
          ]
        }
      ]
    },
    {
      "cell_type": "markdown",
      "source": [
        "#### **PRINT VARIABLES MÚLTIPLES**"
      ],
      "metadata": {
        "id": "nAlNUCfwxLpg"
      }
    },
    {
      "cell_type": "code",
      "source": [
        "edad: int = 21\n",
        "print(nombre, edad)"
      ],
      "metadata": {
        "colab": {
          "base_uri": "https://localhost:8080/"
        },
        "id": "PopVTD-vxPw2",
        "outputId": "08a1158e-74e7-4420-9e1d-ab6856308269"
      },
      "execution_count": 27,
      "outputs": [
        {
          "output_type": "stream",
          "name": "stdout",
          "text": [
            "coding up my future 21\n"
          ]
        }
      ]
    },
    {
      "cell_type": "markdown",
      "source": [
        "#### **PRINT SEP**"
      ],
      "metadata": {
        "id": "H_RspflFxmNG"
      }
    },
    {
      "cell_type": "code",
      "source": [
        "print(1,2,3, sep=\"@@\")\n",
        "print(1,2,3, sep=\"--\")\n",
        "print(1,2,3, sep=\"\\n\")"
      ],
      "metadata": {
        "colab": {
          "base_uri": "https://localhost:8080/"
        },
        "id": "ZYs_O_t0xlUe",
        "outputId": "3587088c-01d9-4b91-a6ae-96c9ef8f9422"
      },
      "execution_count": 31,
      "outputs": [
        {
          "output_type": "stream",
          "name": "stdout",
          "text": [
            "1@@2@@3\n",
            "1--2--3\n",
            "1\n",
            "2\n",
            "3\n"
          ]
        }
      ]
    },
    {
      "cell_type": "markdown",
      "source": [
        "#### **PRINT END**"
      ],
      "metadata": {
        "id": "x0iH-E-TyBZL"
      }
    },
    {
      "cell_type": "code",
      "source": [
        "print(1,2,3, end=\"@@\")\n",
        "print(1,2,3,sep=\"\\n\", end=\"termine!!!!\")"
      ],
      "metadata": {
        "colab": {
          "base_uri": "https://localhost:8080/"
        },
        "id": "KkjIT-ZryDcm",
        "outputId": "81acf028-7686-4afd-8c17-82cefd8d219a"
      },
      "execution_count": 33,
      "outputs": [
        {
          "output_type": "stream",
          "name": "stdout",
          "text": [
            "1 2 3@@1\n",
            "2\n",
            "3termine!!!!"
          ]
        }
      ]
    },
    {
      "cell_type": "markdown",
      "source": [
        "#### **PRINT FILE ELEMENTAL**\n",
        "\n",
        "Nota: carga todo a memoria (los prints) y cuando termina de evaluar todo, los escribe"
      ],
      "metadata": {
        "id": "oVz-pL55yZim"
      }
    },
    {
      "cell_type": "code",
      "source": [
        "with open(\"data.txt\", \"w\") as file:\n",
        "  print(1,2,3, sep=\"\\n\",file=file)"
      ],
      "metadata": {
        "id": "yJQxwvdVyi77"
      },
      "execution_count": 35,
      "outputs": []
    },
    {
      "cell_type": "code",
      "source": [
        "!ls -lrt"
      ],
      "metadata": {
        "colab": {
          "base_uri": "https://localhost:8080/"
        },
        "id": "fyLd_yOmy-Uf",
        "outputId": "cf5201ed-2e18-49f6-ba2a-e5fc54f0a980"
      },
      "execution_count": 36,
      "outputs": [
        {
          "output_type": "stream",
          "name": "stdout",
          "text": [
            "total 8\n",
            "drwxr-xr-x 1 root root 4096 Aug  2 13:34 sample_data\n",
            "-rw-r--r-- 1 root root    6 Aug  3 23:46 data.txt\n"
          ]
        }
      ]
    },
    {
      "cell_type": "markdown",
      "source": [
        "#### **PRINT FILE FLUSH**"
      ],
      "metadata": {
        "id": "Ii9h_3_Zzc5r"
      }
    },
    {
      "cell_type": "code",
      "source": [
        "import time\n",
        "with open(\"luis.txt\", \"w\") as file:\n",
        "  print(1,2,3, sep=\"\\n\",file=file, flush=True)\n",
        "  time.sleep(40)\n",
        "  print(4,5,6, sep=\"\\n\",file=file, flush=True)"
      ],
      "metadata": {
        "id": "urYrj-Egzb_h"
      },
      "execution_count": 37,
      "outputs": []
    },
    {
      "cell_type": "code",
      "source": [
        "# si no le ponen flush, miren lo que pasa\n",
        "\n",
        "import time\n",
        "with open(\"final.txt\", \"w\") as file:\n",
        "  print(1,2,3, sep=\"\\n\",file=file)\n",
        "  time.sleep(40)\n",
        "  print(4,5,6, sep=\"\\n\",file=file)"
      ],
      "metadata": {
        "id": "AKjHgor30K9H"
      },
      "execution_count": 38,
      "outputs": []
    }
  ]
}
