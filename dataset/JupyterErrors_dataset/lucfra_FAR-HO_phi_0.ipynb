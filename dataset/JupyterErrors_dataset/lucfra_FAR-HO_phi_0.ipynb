{
 "cells": [
  {
   "cell_type": "code",
   "execution_count": 1,
   "metadata": {
    "collapsed": false
   },
   "outputs": [],
   "source": [
    "%load_ext autoreload\n",
    "%autoreload 2"
   ]
  },
  {
   "cell_type": "code",
   "execution_count": 2,
   "metadata": {
    "collapsed": false
   },
   "outputs": [
    {
     "name": "stdout",
     "output_type": "stream",
     "text": [
      "Data folder is C:\\Users\\lfranceschi\\DATASETS\n",
      "Experiment save directory is  C:\\Users\\lfranceschi\\EXPERIMENTS\n"
     ]
    }
   ],
   "source": [
    "import tensorflow as tf\n",
    "import numpy as np\n",
    "import experiment_manager as em\n",
    "import far_ho as far"
   ]
  },
  {
   "cell_type": "code",
   "execution_count": 244,
   "metadata": {
    "collapsed": true
   },
   "outputs": [],
   "source": [
    "import matplotlib.pyplot as plt\n",
    "import seaborn\n",
    "%matplotlib inline\n"
   ]
  },
  {
   "cell_type": "code",
   "execution_count": 3,
   "metadata": {
    "collapsed": false
   },
   "outputs": [
    {
     "name": "stdout",
     "output_type": "stream",
     "text": [
      "3\n"
     ]
    }
   ],
   "source": [
    "far.utils.check()"
   ]
  },
  {
   "cell_type": "code",
   "execution_count": 23,
   "metadata": {
    "collapsed": true
   },
   "outputs": [],
   "source": [
    "try: ss.close()\n",
    "except: pass\n",
    "tf.reset_default_graph()\n",
    "ss = tf.InteractiveSession()\n",
    "v1 = tf.Variable([1.,3])\n",
    "\n",
    "v2 = tf.Variable([[-1., -2], [1., -1.]])\n",
    "\n",
    "v01 = far.get_hyperparameter('v10', [10., 21.])\n",
    "\n",
    "lmbd = far.get_hyperparameter('lambda', \n",
    "                              initializer=tf.ones_initializer,\n",
    "                             shape=v2.get_shape())\n",
    "\n",
    "cost = tf.reduce_mean(v1**2) + tf.reduce_sum(lmbd*v2**2)\n",
    "\n",
    "io_optim = far.MomentumOptimizer(far.get_hyperparameter('eta', 0.1), \n",
    "                                   far.get_hyperparameter('mu', .9))\n",
    "\n",
    "io_optim_dict = io_optim.minimize(cost) \n",
    "\n"
   ]
  },
  {
   "cell_type": "code",
   "execution_count": 26,
   "metadata": {
    "collapsed": false
   },
   "outputs": [
    {
     "data": {
      "text/plain": [
       "[(<tf.Variable 'Variable:0' shape=(2,) dtype=float32_ref>,\n",
       "  <tf.Tensor 'sub:0' shape=(2,) dtype=float32>),\n",
       " (<tf.Variable 'Variable/Momentum:0' shape=(2,) dtype=float32_ref>,\n",
       "  <tf.Tensor 'add_1:0' shape=(2,) dtype=float32>),\n",
       " (<tf.Variable 'Variable_1:0' shape=(2, 2) dtype=float32_ref>,\n",
       "  <tf.Tensor 'sub_1:0' shape=(2, 2) dtype=float32>),\n",
       " (<tf.Variable 'Variable_1/Momentum:0' shape=(2, 2) dtype=float32_ref>,\n",
       "  <tf.Tensor 'add_2:0' shape=(2, 2) dtype=float32>)]"
      ]
     },
     "execution_count": 26,
     "metadata": {},
     "output_type": "execute_result"
    }
   ],
   "source": [
    "io_optim_dict.dynamics"
   ]
  },
  {
   "cell_type": "code",
   "execution_count": 27,
   "metadata": {
    "collapsed": false
   },
   "outputs": [],
   "source": [
    "io_optim_dict.set_init_dynamics({v1: v01})  # v1 is initialized with v01"
   ]
  },
  {
   "cell_type": "code",
   "execution_count": 28,
   "metadata": {
    "collapsed": false
   },
   "outputs": [
    {
     "data": {
      "text/plain": [
       "[<tf.Variable 'v10:0' shape=(2,) dtype=float32_ref>,\n",
       " <tf.Variable 'lambda:0' shape=(2, 2) dtype=float32_ref>,\n",
       " <tf.Variable 'eta:0' shape=() dtype=float32_ref>,\n",
       " <tf.Variable 'mu:0' shape=() dtype=float32_ref>]"
      ]
     },
     "execution_count": 28,
     "metadata": {},
     "output_type": "execute_result"
    }
   ],
   "source": [
    "oo = tf.reduce_mean(v1**2) + tf.reduce_mean(v2**2)\n",
    "rhg = far.ReverseHg()\n",
    "rhg.compute_gradients(oo, io_optim_dict)\n",
    "\n",
    "optim_oo = tf.train.AdamOptimizer(.01)\n",
    "ts_hy = optim_oo.apply_gradients(rhg.hgrads_hvars())"
   ]
  },
  {
   "cell_type": "code",
   "execution_count": null,
   "metadata": {
    "collapsed": true
   },
   "outputs": [],
   "source": []
  },
  {
   "cell_type": "code",
   "execution_count": 30,
   "metadata": {
    "collapsed": false
   },
   "outputs": [
    {
     "data": {
      "text/plain": [
       "[<tf.Variable 'Variable:0' shape=(2,) dtype=float32_ref>,\n",
       " <tf.Variable 'Variable_1:0' shape=(2, 2) dtype=float32_ref>,\n",
       " <tf.Variable 'v10:0' shape=(2,) dtype=float32_ref>,\n",
       " <tf.Variable 'lambda:0' shape=(2, 2) dtype=float32_ref>,\n",
       " <tf.Variable 'eta:0' shape=() dtype=float32_ref>,\n",
       " <tf.Variable 'mu:0' shape=() dtype=float32_ref>,\n",
       " <tf.Variable 'Variable/Momentum:0' shape=(2,) dtype=float32_ref>,\n",
       " <tf.Variable 'Variable_1/Momentum:0' shape=(2, 2) dtype=float32_ref>,\n",
       " <tf.Variable 'beta1_power:0' shape=() dtype=float32_ref>,\n",
       " <tf.Variable 'beta2_power:0' shape=() dtype=float32_ref>,\n",
       " <tf.Variable 'v10/Adam:0' shape=(2,) dtype=float32_ref>,\n",
       " <tf.Variable 'v10/Adam_1:0' shape=(2,) dtype=float32_ref>,\n",
       " <tf.Variable 'lambda/Adam:0' shape=(2, 2) dtype=float32_ref>,\n",
       " <tf.Variable 'lambda/Adam_1:0' shape=(2, 2) dtype=float32_ref>,\n",
       " <tf.Variable 'eta/Adam:0' shape=() dtype=float32_ref>,\n",
       " <tf.Variable 'eta/Adam_1:0' shape=() dtype=float32_ref>,\n",
       " <tf.Variable 'mu/Adam:0' shape=() dtype=float32_ref>,\n",
       " <tf.Variable 'mu/Adam_1:0' shape=() dtype=float32_ref>]"
      ]
     },
     "execution_count": 30,
     "metadata": {},
     "output_type": "execute_result"
    }
   ],
   "source": [
    "tf.global_variables()"
   ]
  },
  {
   "cell_type": "code",
   "execution_count": 31,
   "metadata": {
    "collapsed": false
   },
   "outputs": [
    {
     "data": {
      "text/plain": [
       "[<tf.Variable 'v10:0' shape=(2,) dtype=float32_ref>,\n",
       " <tf.Variable 'lambda:0' shape=(2, 2) dtype=float32_ref>,\n",
       " <tf.Variable 'eta:0' shape=() dtype=float32_ref>,\n",
       " <tf.Variable 'mu:0' shape=() dtype=float32_ref>]"
      ]
     },
     "execution_count": 31,
     "metadata": {},
     "output_type": "execute_result"
    }
   ],
   "source": [
    "far.utils.hyperparameters()"
   ]
  },
  {
   "cell_type": "code",
   "execution_count": 32,
   "metadata": {
    "collapsed": false
   },
   "outputs": [
    {
     "data": {
      "text/plain": [
       "[array([ 10.,  21.], dtype=float32), array([[ 1.,  1.],\n",
       "        [ 1.,  1.]], dtype=float32), 0.1, 0.89999998]"
      ]
     },
     "execution_count": 32,
     "metadata": {},
     "output_type": "execute_result"
    }
   ],
   "source": [
    "tf.global_variables_initializer().run()\n",
    "ss.run(far.utils.hyperparameters())"
   ]
  },
  {
   "cell_type": "code",
   "execution_count": 33,
   "metadata": {
    "collapsed": false
   },
   "outputs": [
    {
     "data": {
      "text/plain": [
       "[array([ 1.,  3.], dtype=float32), array([[-1., -2.],\n",
       "        [ 1., -1.]], dtype=float32), array([ 10.,  21.], dtype=float32), array([[ 1.,  1.],\n",
       "        [ 1.,  1.]], dtype=float32), 0.1, 0.89999998, array([ 0.,  0.], dtype=float32), array([[ 0.,  0.],\n",
       "        [ 0.,  0.]], dtype=float32), 0.89999998, 0.99900001, array([ 0.,  0.], dtype=float32), array([ 0.,  0.], dtype=float32), array([[ 0.,  0.],\n",
       "        [ 0.,  0.]], dtype=float32), array([[ 0.,  0.],\n",
       "        [ 0.,  0.]], dtype=float32), 0.0, 0.0, 0.0, 0.0]"
      ]
     },
     "execution_count": 33,
     "metadata": {},
     "output_type": "execute_result"
    }
   ],
   "source": [
    "ss.run(tf.global_variables())"
   ]
  },
  {
   "cell_type": "code",
   "execution_count": 34,
   "metadata": {
    "collapsed": true
   },
   "outputs": [],
   "source": [
    "def print_history():\n",
    "    for h in rhg._history:\n",
    "        print(h)\n",
    "        print('='*20)"
   ]
  },
  {
   "cell_type": "code",
   "execution_count": 35,
   "metadata": {
    "collapsed": false
   },
   "outputs": [],
   "source": [
    "rhg.run(5)"
   ]
  },
  {
   "cell_type": "code",
   "execution_count": 36,
   "metadata": {
    "collapsed": false
   },
   "outputs": [
    {
     "name": "stdout",
     "output_type": "stream",
     "text": [
      "[array([ 10.,  21.], dtype=float32), array([ 0.,  0.], dtype=float32), array([[-1., -2.],\n",
      "       [ 1., -1.]], dtype=float32), array([[ 0.,  0.],\n",
      "       [ 0.,  0.]], dtype=float32)]\n",
      "====================\n",
      "[array([  9.        ,  18.89999962], dtype=float32), array([ 10.,  21.], dtype=float32), array([[-0.80000001, -1.60000002],\n",
      "       [ 0.80000001, -0.80000001]], dtype=float32), array([[-2., -4.],\n",
      "       [ 2., -2.]], dtype=float32)]\n",
      "====================\n",
      "[array([  7.19999981,  15.11999989], dtype=float32), array([ 18.        ,  37.79999924], dtype=float32), array([[-0.46000001, -0.92000002],\n",
      "       [ 0.46000001, -0.46000001]], dtype=float32), array([[-3.4000001 , -6.80000019],\n",
      "       [ 3.4000001 , -3.4000001 ]], dtype=float32)]\n",
      "====================\n",
      "[array([  4.85999966,  10.20600033], dtype=float32), array([ 23.39999771,  49.13999557], dtype=float32), array([[-0.06200001, -0.12400001],\n",
      "       [ 0.06200001, -0.06200001]], dtype=float32), array([[-3.98000002, -7.96000004],\n",
      "       [ 3.98000002, -3.98000002]], dtype=float32)]\n",
      "====================\n",
      "[array([ 2.26799989,  4.76280069], dtype=float32), array([ 25.91999817,  54.43199539], dtype=float32), array([[ 0.30860001,  0.61720002],\n",
      "       [-0.30860001,  0.30860001]], dtype=float32), array([[-3.70600009, -7.41200018],\n",
      "       [ 3.70600009, -3.70600009]], dtype=float32)]\n",
      "====================\n",
      "[array([-0.29159975, -0.61235905], dtype=float32), array([ 25.59599686,  53.75159836], dtype=float32), array([[ 0.58042002,  1.16084003],\n",
      "       [-0.58042002,  0.58042002]], dtype=float32), array([[-2.71820021, -5.43640041],\n",
      "       [ 2.71820021, -2.71820021]], dtype=float32)]\n",
      "====================\n"
     ]
    }
   ],
   "source": [
    "print_history()"
   ]
  },
  {
   "cell_type": "code",
   "execution_count": 37,
   "metadata": {
    "collapsed": false
   },
   "outputs": [],
   "source": [
    "rhg.run(5)"
   ]
  },
  {
   "cell_type": "code",
   "execution_count": 38,
   "metadata": {
    "collapsed": false
   },
   "outputs": [
    {
     "name": "stdout",
     "output_type": "stream",
     "text": [
      "[array([ 10.,  21.], dtype=float32), array([ 0.,  0.], dtype=float32), array([[-1., -2.],\n",
      "       [ 1., -1.]], dtype=float32), array([[ 0.,  0.],\n",
      "       [ 0.,  0.]], dtype=float32)]\n",
      "====================\n",
      "[array([  9.        ,  18.89999962], dtype=float32), array([ 10.,  21.], dtype=float32), array([[-0.80000001, -1.60000002],\n",
      "       [ 0.80000001, -0.80000001]], dtype=float32), array([[-2., -4.],\n",
      "       [ 2., -2.]], dtype=float32)]\n",
      "====================\n",
      "[array([  7.19999981,  15.11999989], dtype=float32), array([ 18.        ,  37.79999924], dtype=float32), array([[-0.46000001, -0.92000002],\n",
      "       [ 0.46000001, -0.46000001]], dtype=float32), array([[-3.4000001 , -6.80000019],\n",
      "       [ 3.4000001 , -3.4000001 ]], dtype=float32)]\n",
      "====================\n",
      "[array([  4.85999966,  10.20600033], dtype=float32), array([ 23.39999771,  49.13999557], dtype=float32), array([[-0.06200001, -0.12400001],\n",
      "       [ 0.06200001, -0.06200001]], dtype=float32), array([[-3.98000002, -7.96000004],\n",
      "       [ 3.98000002, -3.98000002]], dtype=float32)]\n",
      "====================\n",
      "[array([ 2.26799989,  4.76280069], dtype=float32), array([ 25.91999817,  54.43199539], dtype=float32), array([[ 0.30860001,  0.61720002],\n",
      "       [-0.30860001,  0.30860001]], dtype=float32), array([[-3.70600009, -7.41200018],\n",
      "       [ 3.70600009, -3.70600009]], dtype=float32)]\n",
      "====================\n",
      "[array([-0.29159975, -0.61235905], dtype=float32), array([ 25.59599686,  53.75159836], dtype=float32), array([[ 0.58042002,  1.16084003],\n",
      "       [-0.58042002,  0.58042002]], dtype=float32), array([[-2.71820021, -5.43640041],\n",
      "       [ 2.71820021, -2.71820021]], dtype=float32)]\n",
      "====================\n"
     ]
    }
   ],
   "source": [
    "print_history()"
   ]
  },
  {
   "cell_type": "code",
   "execution_count": 39,
   "metadata": {
    "collapsed": false
   },
   "outputs": [
    {
     "data": {
      "text/plain": [
       "[array([ 0.00850303,  0.01785634], dtype=float32),\n",
       " array([[ 0.20626384,  0.82505536],\n",
       "        [ 0.20626384,  0.20626384]], dtype=float32),\n",
       " 135.57565,\n",
       " 25.722061]"
      ]
     },
     "execution_count": 39,
     "metadata": {},
     "output_type": "execute_result"
    }
   ],
   "source": [
    "ss.run(far.utils.hypergradients())"
   ]
  },
  {
   "cell_type": "code",
   "execution_count": 40,
   "metadata": {
    "collapsed": false
   },
   "outputs": [
    {
     "data": {
      "text/plain": [
       "[array([ 0.00850303,  0.01785634], dtype=float32),\n",
       " array([ 0.06717408,  0.14106545], dtype=float32),\n",
       " array([[-0.16844368, -0.33688736],\n",
       "        [ 0.16844368, -0.16844368]], dtype=float32),\n",
       " array([[-0.03549819, -0.07099639],\n",
       "        [ 0.03549819, -0.03549819]], dtype=float32)]"
      ]
     },
     "execution_count": 40,
     "metadata": {},
     "output_type": "execute_result"
    }
   ],
   "source": [
    "ss.run(far.utils.lagrangian_multipliers())"
   ]
  },
  {
   "cell_type": "code",
   "execution_count": 307,
   "metadata": {
    "collapsed": true
   },
   "outputs": [],
   "source": [
    "# ss.run(ts_hy)  # perform an hypergradient descent step....\n",
    "# print(ss.run(far.utils.hyperparameters()))\n",
    "# print(ss.run(oo))"
   ]
  },
  {
   "cell_type": "code",
   "execution_count": 24,
   "metadata": {
    "collapsed": false
   },
   "outputs": [
    {
     "data": {
      "text/plain": [
       "[<tf.Tensor 'add_3_1/gradients_3/add_3_1/Vectorization_2/Reshape_grad/Reshape:0' shape=(2,) dtype=float32>,\n",
       " <tf.Variable 'add_3/lambda/hypergradient:0' shape=(2, 2) dtype=float32_ref>,\n",
       " <tf.Variable 'add_3/eta/hypergradient:0' shape=() dtype=float32_ref>,\n",
       " <tf.Variable 'add_3/mu/hypergradient:0' shape=() dtype=float32_ref>]"
      ]
     },
     "execution_count": 24,
     "metadata": {},
     "output_type": "execute_result"
    }
   ],
   "source": [
    "tf.get_collection(far.GraphKeys.HYPERGRADIENTS)"
   ]
  },
  {
   "cell_type": "markdown",
   "metadata": {},
   "source": [
    "## check with some other initialization hyperparameters"
   ]
  },
  {
   "cell_type": "code",
   "execution_count": 307,
   "metadata": {
    "collapsed": true
   },
   "outputs": [],
   "source": [
    "try: ss.close()\n",
    "except: pass\n",
    "tf.reset_default_graph()\n",
    "ss = tf.InteractiveSession()\n",
    "v1 = tf.Variable([1.,3])\n",
    "\n",
    "v2 = tf.Variable([[-1., -2], [10., -1.]])\n",
    "\n",
    "std_dev = far.get_hyperparameter('stddev', 1.)\n",
    "# mean = far.get_hyperparameter('mean', 1.)\n",
    "mean = 0.\n",
    "v01 = tf.random_normal(shape=v1.get_shape(), mean=mean, stddev=std_dev)\n",
    "\n",
    "lmbd = far.get_hyperparameter('lambda', \n",
    "                              initializer=tf.ones_initializer,\n",
    "                             shape=v2.get_shape())\n",
    "\n",
    "cost = tf.reduce_mean(v1**2) + tf.reduce_sum(lmbd*v2**2)\n",
    "\n",
    "io_optim = far.MomentumOptimizer(far.get_hyperparameter('eta', 0.1), \n",
    "                                   far.get_hyperparameter('mu', .9))\n",
    "oo = tf.reduce_mean(v1**4) # + tf.reduce_mean(v2**2)"
   ]
  },
  {
   "cell_type": "code",
   "execution_count": 308,
   "metadata": {
    "collapsed": true
   },
   "outputs": [],
   "source": [
    "farho = far.HyperOptimizer()"
   ]
  },
  {
   "cell_type": "code",
   "execution_count": 309,
   "metadata": {
    "collapsed": false
   },
   "outputs": [
    {
     "data": {
      "text/plain": [
       "<bound method HyperOptimizer.run of <far_ho.hyperparameters.HyperOptimizer object at 0x000000001C8AD320>>"
      ]
     },
     "execution_count": 309,
     "metadata": {},
     "output_type": "execute_result"
    }
   ],
   "source": [
    "farho.minimize(oo, tf.train.AdamOptimizer(0.001), cost, io_optim, init_dynamics_dict={v1: v01},\n",
    "               hyper_list=[std_dev])  # ok this is quite right.... \n",
    "# forgot to set init_dynamics"
   ]
  },
  {
   "cell_type": "code",
   "execution_count": 310,
   "metadata": {
    "collapsed": true
   },
   "outputs": [],
   "source": [
    "tf.global_variables_initializer().run()"
   ]
  },
  {
   "cell_type": "code",
   "execution_count": 311,
   "metadata": {
    "collapsed": false
   },
   "outputs": [
    {
     "name": "stdout",
     "output_type": "stream",
     "text": [
      "[-0.2543641]\n",
      "[1.001, array([[ 1.,  1.],\n",
      "       [ 1.,  1.]], dtype=float32), 0.1, 0.89999998]\n",
      "0.0713477\n"
     ]
    }
   ],
   "source": [
    "farho.run(10)\n",
    "print(ss.run(far.utils.hypergradients()))\n",
    "print(ss.run(far.utils.hyperparameters()))\n",
    "print(ss.run(oo))"
   ]
  },
  {
   "cell_type": "code",
   "execution_count": 312,
   "metadata": {
    "collapsed": true
   },
   "outputs": [],
   "source": [
    "def _rr():\n",
    "    farho.run(5)\n",
    "    return ss.run(oo)"
   ]
  },
  {
   "cell_type": "code",
   "execution_count": 313,
   "metadata": {
    "collapsed": false
   },
   "outputs": [],
   "source": [
    "res  = [_rr() for _ in range(1000)]"
   ]
  },
  {
   "cell_type": "code",
   "execution_count": 314,
   "metadata": {
    "collapsed": false
   },
   "outputs": [
    {
     "data": {
      "text/plain": [
       "[<matplotlib.lines.Line2D at 0x1cedeeb8>]"
      ]
     },
     "execution_count": 314,
     "metadata": {},
     "output_type": "execute_result"
    },
    {
     "data": {
      "image/png": "[encoded data removed]",
      "text/plain": [
       "<matplotlib.figure.Figure at 0x1cd7bc18>"
      ]
     },
     "metadata": {},
     "output_type": "display_data"
    }
   ],
   "source": [
    "plt.plot(res)"
   ]
  },
  {
   "cell_type": "code",
   "execution_count": 315,
   "metadata": {
    "collapsed": true
   },
   "outputs": [],
   "source": [
    "# ookk looks like its oalll right "
   ]
  },
  {
   "cell_type": "code",
   "execution_count": 316,
   "metadata": {
    "collapsed": false
   },
   "outputs": [
    {
     "data": {
      "text/plain": [
       "1.0060654"
      ]
     },
     "execution_count": 316,
     "metadata": {},
     "output_type": "execute_result"
    }
   ],
   "source": [
    "std_dev.eval()"
   ]
  },
  {
   "cell_type": "code",
   "execution_count": 306,
   "metadata": {
    "collapsed": false
   },
   "outputs": [
    {
     "ename": "AttributeError",
     "evalue": "'float' object has no attribute 'eval'",
     "traceback": [
      "\u001b[0;31m---------------------------------------------------------------------------\u001b[0m",
      "\u001b[0;31mAttributeError\u001b[0m                            Traceback (most recent call last)",
      "\u001b[0;32m<ipython-input-306-d0c7b6765d65>\u001b[0m in \u001b[0;36m<module>\u001b[0;34m()\u001b[0m\n\u001b[0;32m----> 1\u001b[0;31m \u001b[0mmean\u001b[0m\u001b[1;33m.\u001b[0m\u001b[0meval\u001b[0m\u001b[1;33m(\u001b[0m\u001b[1;33m)\u001b[0m\u001b[1;33m\u001b[0m\u001b[0m\n\u001b[0m",
      "\u001b[0;31mAttributeError\u001b[0m: 'float' object has no attribute 'eval'"
     ],
     "output_type": "error"
    }
   ],
   "source": [
    "mean.eval()"
   ]
  },
  {
   "cell_type": "code",
   "execution_count": null,
   "metadata": {
    "collapsed": true
   },
   "outputs": [],
   "source": []
  }
 ],
 "metadata": {
  "anaconda-cloud": {},
  "kernelspec": {
   "display_name": "Python [conda root]",
   "language": "python",
   "name": "conda-root-py"
  },
  "language_info": {
   "codemirror_mode": {
    "name": "ipython",
    "version": 3
   },
   "file_extension": ".py",
   "mimetype": "text/x-python",
   "name": "python",
   "nbconvert_exporter": "python",
   "pygments_lexer": "ipython3",
   "version": "3.5.3"
  }
 },
 "nbformat": 4,
 "nbformat_minor": 0
}
