{
 "cells": [
  {
   "cell_type": "code",
   "execution_count": 1,
   "metadata": {
    "pycharm": {
     "is_executing": false,
     "name": "#%%\n"
    }
   },
   "outputs": [
    {
     "name": "stdout",
     "output_type": "stream",
     "text": [
      "fatal: destination path 'Sinhala-POS-Data' already exists and is not an empty directory.\r\n"
     ]
    }
   ],
   "source": [
    "!git clone https://github.com/nlpcuom/Sinhala-POS-Data.git"
   ]
  },
  {
   "cell_type": "code",
   "execution_count": 2,
   "metadata": {
    "colab": {
     "base_uri": "https://localhost:8080/",
     "height": 51
    },
    "colab_type": "code",
    "id": "sc1k-UOSfP5l",
    "outputId": "f9c5d72a-2289-48c6-f1ad-93e38bb0b215",
    "pycharm": {
     "is_executing": false
    }
   },
   "outputs": [],
   "source": [
    "%load_ext autoreload\n",
    "%autoreload 2"
   ]
  },
  {
   "cell_type": "code",
   "execution_count": null,
   "metadata": {},
   "outputs": [],
   "source": [
    "import sys\n",
    "\n",
    "sys.path.append('..')"
   ]
  },
  {
   "cell_type": "code",
   "execution_count": 4,
   "metadata": {
    "colab": {},
    "colab_type": "code",
    "id": "J9NVEWLugg-a",
    "pycharm": {
     "is_executing": false
    }
   },
   "outputs": [],
   "source": [
    "import re\n",
    "import os\n",
    "from string import printable\n",
    "\n",
    "from itertools import chain\n",
    "import importlib\n",
    "from tqdm import tqdm\n",
    "\n",
    "import nltk\n",
    "import sklearn\n",
    "import joblib\n",
    "import scipy.stats\n",
    "from sklearn.metrics import make_scorer\n",
    "from sklearn.model_selection import cross_val_score\n",
    "from sklearn.model_selection import RandomizedSearchCV\n",
    "\n",
    "import sklearn_crfsuite\n",
    "from sklearn_crfsuite import scorers\n",
    "from sklearn_crfsuite import metrics\n",
    "\n",
    "import sinling\n",
    "from sinling import SinhalaTokenizer, SinhalaStemmer\n",
    "\n",
    "stemmer = SinhalaStemmer()\n",
    "\n",
    "%matplotlib inline\n",
    "\n",
    "import matplotlib.pyplot as plt\n",
    "\n",
    "plt.style.use('ggplot')"
   ]
  },
  {
   "cell_type": "code",
   "execution_count": 6,
   "metadata": {
    "colab": {},
    "colab_type": "code",
    "id": "Fl0fr_kveX11",
    "pycharm": {
     "is_executing": false
    }
   },
   "outputs": [],
   "source": [
    "sentences = []\n",
    "tokens = []\n",
    "for line in list(open('Sinhala-POS-Data/news- verified- final level.txt', 'r', encoding='utf-8')):\n",
    "    if len(line.strip()) == 0:\n",
    "        continue\n",
    "    parts = re.split(' +', line.replace(u'\\xa0', u' ').strip())\n",
    "    if len(parts) != 2:\n",
    "        # print(f'Error in line: {line}, sized {len(parts)} having parts {parts}')\n",
    "        continue\n",
    "    word, tag = ' '.join(parts[:-1]).strip().encode('utf-8').decode('utf-8'), ''.join([ch for ch in parts[-1].strip().strip('[') if ch in printable])\n",
    "    # word = word.replace(u'\\u200d', u'')\n",
    "    tokens.append((word, tag))\n",
    "    if parts[-1] == 'FS':\n",
    "        sentences.append(tokens)\n",
    "        tokens = []"
   ]
  },
  {
   "cell_type": "code",
   "execution_count": 7,
   "metadata": {
    "colab": {
     "base_uri": "https://localhost:8080/",
     "height": 85
    },
    "colab_type": "code",
    "id": "l7l_6vqLsR-w",
    "outputId": "c6b0e856-8233-4158-be34-24dae5a50392",
    "pycharm": {
     "is_executing": false
    }
   },
   "outputs": [
    {
     "name": "stdout",
     "output_type": "stream",
     "text": [
      "8000 3294\n",
      "\n",
      "CPU times: user 1.03 ms, sys: 84 µs, total: 1.11 ms\n",
      "Wall time: 1.07 ms\n"
     ]
    }
   ],
   "source": [
    "%%time\n",
    "train_sents = sentences[:8000]\n",
    "test_sents = sentences[8000:]\n",
    "\n",
    "print(len(train_sents), len(test_sents))\n",
    "print()"
   ]
  },
  {
   "cell_type": "code",
   "execution_count": 10,
   "metadata": {
    "colab": {},
    "colab_type": "code",
    "id": "SqVUev4NxA-P",
    "pycharm": {
     "is_executing": false
    }
   },
   "outputs": [],
   "source": [
    "def word2features(sent, i):\n",
    "    word = sent[i][0]\n",
    "    stem, suff = stemmer.stem(word)\n",
    "    features = {\n",
    "        'bias': 1.0,\n",
    "        word: True,\n",
    "        f'STEM': stem,\n",
    "        f'SUFF': suff,\n",
    "        'len(word)': len(word),\n",
    "        'word.isdigit()': word.isdigit(),\n",
    "    }\n",
    "    if i > 0:\n",
    "        word_prev = sent[i-1][0]\n",
    "        features.update({\n",
    "            f'-1:word': word_prev,\n",
    "            '-1:word.isdigit()': word_prev.isdigit(),\n",
    "        })\n",
    "    else:\n",
    "        features['BOS'] = True\n",
    "    if i < len(sent)-1:\n",
    "        word_next = sent[i+1][0]\n",
    "        features.update({\n",
    "            f'+1:word': word_next,\n",
    "            '+1:word.isdigit()': word_next.isdigit(),\n",
    "        })\n",
    "    else:\n",
    "        features['EOS'] = True\n",
    "    return features\n",
    "\n",
    "def sent2features(sent):\n",
    "    return [word2features(sent, i) for i in range(len(sent))]\n",
    "\n",
    "def sent2labels(sent):\n",
    "    return [label for token, label in sent]"
   ]
  },
  {
   "cell_type": "code",
   "execution_count": 11,
   "metadata": {
    "colab": {
     "base_uri": "https://localhost:8080/",
     "height": 85
    },
    "colab_type": "code",
    "id": "d2FaMHCAsLp6",
    "outputId": "2c319b05-deed-479e-d9ce-dc892a3827a1",
    "pycharm": {
     "is_executing": false
    }
   },
   "outputs": [
    {
     "name": "stderr",
     "output_type": "stream",
     "text": [
      "100%|██████████| 8000/8000 [00:01<00:00, 4918.58it/s]\n",
      "100%|██████████| 3294/3294 [00:00<00:00, 5604.80it/s]"
     ]
    },
    {
     "name": "stdout",
     "output_type": "stream",
     "text": [
      "CPU times: user 1.98 s, sys: 79.4 ms, total: 2.06 s\n",
      "Wall time: 2.22 s\n"
     ]
    },
    {
     "name": "stderr",
     "output_type": "stream",
     "text": [
      "\n"
     ]
    }
   ],
   "source": [
    "%%time\n",
    "x_train, y_train = [], []\n",
    "for s in tqdm(train_sents):\n",
    "    x_train.append(sent2features(s))\n",
    "    y_train.append(sent2labels(s))\n",
    "\n",
    "x_test, y_test = [], []\n",
    "for s in tqdm(test_sents):\n",
    "    x_test.append(sent2features(s))\n",
    "    y_test.append(sent2labels(s))"
   ]
  },
  {
   "cell_type": "code",
   "execution_count": 25,
   "metadata": {
    "colab": {},
    "colab_type": "code",
    "id": "IW2-h329f0mF",
    "pycharm": {
     "is_executing": true
    }
   },
   "outputs": [],
   "source": [
    "TRAIN = True\n",
    "\n",
    "if TRAIN:\n",
    "    # define fixed parameters and parameters to search\n",
    "    crf = sklearn_crfsuite.CRF(\n",
    "        algorithm='lbfgs',\n",
    "        c1=0.4730949450810971,\n",
    "        c2=0.03983665956083338,\n",
    "        max_iterations=100,\n",
    "        all_possible_transitions=True\n",
    "    )\n",
    "    crf.fit(x_train, y_train)\n",
    "    joblib.dump(crf, '../resources/pos-tagger-crf-sinling.joblib')\n",
    "    \n",
    "model = joblib.load('../resources/pos-tagger-crf-sinling.joblib')"
   ]
  },
  {
   "cell_type": "code",
   "execution_count": 26,
   "metadata": {
    "colab": {
     "base_uri": "https://localhost:8080/",
     "height": 870
    },
    "colab_type": "code",
    "id": "q0URETJNRSn2",
    "outputId": "307dddbf-2142-48c7-9292-79e5b453789a"
   },
   "outputs": [
    {
     "name": "stdout",
     "output_type": "stream",
     "text": [
      "['NNP', 'NNJ', 'NNC', 'CM', 'NUM', 'RP', 'RRPCV', 'VFM', 'FS', 'NCV', 'VP', 'DET', 'VNF', 'NIP', 'JJ', 'NVB', 'PRP', 'VNN', 'RB', 'POST', 'CC', 'JCV', 'NDT', 'PUNC', 'ABB', 'AUX', 'QUE', 'QBE', 'UNK', 'VVF', 'UH', 'NNp', 'NN', 'VNP', 'FSS']\n",
      "              precision    recall  f1-score   support\n",
      "\n",
      "         NNP      0.761     0.652     0.703      5297\n",
      "         NNJ      0.617     0.547     0.580      1727\n",
      "         NNC      0.839     0.874     0.856     18038\n",
      "          CM      0.976     0.961     0.969       512\n",
      "         NUM      0.938     0.859     0.897      1399\n",
      "          RP      0.972     0.976     0.974      2311\n",
      "       RRPCV      0.854     0.838     0.846       870\n",
      "         VFM      0.857     0.920     0.887      1709\n",
      "          FS      1.000     1.000     1.000      3294\n",
      "         NCV      0.755     0.729     0.742      1053\n",
      "          VP      0.885     0.895     0.890      4818\n",
      "         DET      0.977     0.967     0.972      1780\n",
      "         VNF      0.862     0.829     0.845      3008\n",
      "         NIP      0.964     0.938     0.951       957\n",
      "          JJ      0.730     0.806     0.766      5199\n",
      "         NVB      0.516     0.784     0.622       185\n",
      "         PRP      0.955     0.957     0.956      1779\n",
      "         VNN      0.916     0.841     0.877      2014\n",
      "          RB      0.816     0.842     0.829       557\n",
      "        POST      0.945     0.920     0.933      4739\n",
      "          CC      0.975     0.970     0.973      1016\n",
      "         JCV      0.686     0.707     0.696       849\n",
      "         NDT      0.308     0.500     0.381         8\n",
      "        PUNC      0.997     0.999     0.998      2647\n",
      "         ABB      0.950     0.977     0.963       426\n",
      "         AUX      0.979     0.973     0.976       515\n",
      "         QUE      0.632     0.480     0.545        25\n",
      "         QBE      0.849     0.489     0.621        92\n",
      "         UNK      0.786     0.711     0.747       201\n",
      "         VVF      0.000     0.000     0.000         0\n",
      "          UH      0.000     0.000     0.000         0\n",
      "         NNp      0.000     0.000     0.000         0\n",
      "          NN      0.000     0.000     0.000         1\n",
      "         VNP      0.000     0.000     0.000         0\n",
      "         FSS      0.000     0.000     0.000         0\n",
      "\n",
      "   micro avg      0.863     0.863     0.863     67026\n",
      "   macro avg      0.694     0.684     0.686     67026\n",
      "weighted avg      0.863     0.863     0.862     67026\n",
      "\n"
     ]
    }
   ],
   "source": [
    "if TRAIN:\n",
    "    labels = list(model.classes_)\n",
    "    \n",
    "    print(labels)\n",
    "    \n",
    "    y_pred = model.predict(x_test)\n",
    "    \n",
    "    metrics.flat_f1_score(y_test, y_pred, average='weighted', labels=labels)\n",
    "    \n",
    "    print(metrics.flat_classification_report(\n",
    "        y_test, y_pred, labels=labels, digits=3\n",
    "    ))"
   ]
  },
  {
   "cell_type": "code",
   "execution_count": 15,
   "metadata": {
    "colab": {
     "base_uri": "https://localhost:8080/",
     "height": 282
    },
    "colab_type": "code",
    "id": "glzMAUHv1VEz",
    "outputId": "ff48d6bf-28d4-46ce-cd53-a502df6889f8"
   },
   "outputs": [
    {
     "data": {
      "image/png": "[encoded data removed]",
      "text/plain": [
       "<Figure size 432x288 with 1 Axes>"
      ]
     },
     "metadata": {},
     "output_type": "display_data"
    }
   ],
   "source": [
    "x = [t['num'] for t in model.training_log_.iterations]\n",
    "y = [t['loss'] for t in model.training_log_.iterations]\n",
    "plt.plot(x, y)\n",
    "plt.ylabel('CRF Training Loss')\n",
    "plt.xlabel('Iteration')\n",
    "plt.show()"
   ]
  },
  {
   "cell_type": "code",
   "execution_count": 21,
   "metadata": {
    "colab": {
     "base_uri": "https://localhost:8080/",
     "height": 88
    },
    "colab_type": "code",
    "id": "rihMDBvSoOjU",
    "outputId": "a3572ee0-9a19-4d68-de7c-bcc07aa9799d"
   },
   "outputs": [
    {
     "name": "stdout",
     "output_type": "stream",
     "text": [
      "[('මනුෂ්\\u200dයයා', 'NNC'), ('අවුරුදු', 'NNC'), ('ලක්ෂ', 'NUM'), ('ගණනක', 'NNC'), ('සිට', 'POST'), ('වෛරස්', 'NNP'), ('වසංගත', 'NNC'), ('නිසා', 'POST'), ('එළිපිටම', 'NNC'), ('පීඩා', 'NNC'), ('විඳි', 'VP'), ('සත්වයෙකි', 'NVB'), ('.', 'FS')]\n",
      "\n",
      "[('ඇතැම්', 'DET'), ('වෛරස්', 'JJ'), ('රෝග', 'NNC'), ('වලට', 'CM'), ('වැක්සීන', 'NNC'), ('හෙවත්', 'CC'), ('එන්නත්', 'NNC'), ('ද', 'RP'), ('වෛරස්', 'NNC'), ('නාශක', 'JJ'), ('ඖෂධ', 'NNC'), ('ද', 'RP'), ('තිබුනද', 'NNC'), ('සියලූ\\u200d', 'JJ'), ('වෛරස්', 'NNC'), ('සම්බන්ධයෙන්', 'POST'), ('ඒ', 'DET'), ('න්\\u200dයාය', 'JJ'), ('වැඩ', 'NNC'), ('කරන්නේ', 'VP'), ('නැත', 'NIP'), ('.', 'FS')]\n",
      "\n",
      "[('වසූරිය', 'NNC'), ('වෛරසය', 'NNC'), ('මිනිසා', 'NNC'), ('විසින්', 'POST'), ('මිහිමතින්', 'NNC'), ('තුරන්', 'RRPCV'), ('කර', 'VNF'), ('තිබේ', 'VFM'), ('.', 'FS')]\n",
      "\n"
     ]
    }
   ],
   "source": [
    "def test_document(document):\n",
    "    tokenizer = SinhalaTokenizer()\n",
    "\n",
    "    test_sentences = tokenizer.split_sentences(document)\n",
    "    \n",
    "    for sentence in test_sentences:\n",
    "        tokens = tokenizer.tokenize('%s.' % sentence)\n",
    "        pos_tags = model.predict([sent2features([(t, None) for t in tokens])])\n",
    "        print(list(zip(tokens, pos_tags[0])))\n",
    "        print()\n",
    "\n",
    "test_document(\n",
    "    'මනුෂ්‍යයා අවුරුදු ලක්ෂ ගණනක සිට වෛරස් වසංගත නිසා එළිපිටම පීඩා විඳි සත්වයෙකි. ' \\\n",
    "    'ඇතැම් වෛරස් රෝග වලට වැක්සීන හෙවත් එන්නත් ද වෛරස් නාශක ඖෂධ ද තිබුනද සියලූ‍ වෛරස් ' \\\n",
    "    'සම්බන්ධයෙන් ඒ න්‍යාය වැඩ කරන්නේ නැත. වසූරිය වෛරසය මිනිසා විසින් මිහිමතින් තුරන් කර තිබේ.'\n",
    ")"
   ]
  },
  {
   "cell_type": "code",
   "execution_count": 22,
   "metadata": {
    "colab": {
     "base_uri": "https://localhost:8080/",
     "height": 232
    },
    "colab_type": "code",
    "id": "jBqDaFTCxmkB",
    "outputId": "4b65e19a-c444-420c-e67d-ce559b36ad89"
   },
   "outputs": [
    {
     "name": "stdout",
     "output_type": "stream",
     "text": [
      "Fitting 5 folds for each of 10 candidates, totalling 50 fits\n"
     ]
    },
    {
     "name": "stderr",
     "output_type": "stream",
     "text": [
      "/Users/yasas/Documents/Projects/ysenarath/sinling/venv/lib/python3.7/site-packages/sklearn/base.py:213: FutureWarning: From version 0.24, get_params will raise an AttributeError if a parameter cannot be retrieved as an instance attribute. Previously it would return None.\n",
      "  FutureWarning)\n",
      "[Parallel(n_jobs=-1)]: Using backend LokyBackend with 4 concurrent workers.\n",
      "[Parallel(n_jobs=-1)]: Done   5 tasks      | elapsed:  3.8min\n",
      "[Parallel(n_jobs=-1)]: Done  10 tasks      | elapsed:  6.5min\n",
      "[Parallel(n_jobs=-1)]: Done  17 tasks      | elapsed: 10.2min\n",
      "[Parallel(n_jobs=-1)]: Done  24 tasks      | elapsed: 14.1min\n",
      "[Parallel(n_jobs=-1)]: Done  33 tasks      | elapsed: 18.8min\n",
      "[Parallel(n_jobs=-1)]: Done  42 tasks      | elapsed: 24.3min\n",
      "[Parallel(n_jobs=-1)]: Done  50 out of  50 | elapsed: 28.7min finished\n"
     ]
    },
    {
     "name": "stdout",
     "output_type": "stream",
     "text": [
      "best params: {'c1': 0.4730949450810971, 'c2': 0.03983665956083338}\n",
      "best CV score: 0.8878221398017775\n",
      "model size: 3.21M\n"
     ]
    },
    {
     "ename": "AttributeError",
     "evalue": "'str' object has no attribute 'parameters'",
     "output_type": "error",
     "traceback": [
      "\u001b[0;31m---------------------------------------------------------------------------\u001b[0m",
      "\u001b[0;31mAttributeError\u001b[0m                            Traceback (most recent call last)",
      "\u001b[0;32m<ipython-input-22-c64f4e3502b1>\u001b[0m in \u001b[0;36m<module>\u001b[0;34m\u001b[0m\n\u001b[1;32m     27\u001b[0m     \u001b[0mprint\u001b[0m\u001b[0;34m(\u001b[0m\u001b[0;34m'model size: {:0.2f}M'\u001b[0m\u001b[0;34m.\u001b[0m\u001b[0mformat\u001b[0m\u001b[0;34m(\u001b[0m\u001b[0mrs\u001b[0m\u001b[0;34m.\u001b[0m\u001b[0mbest_estimator_\u001b[0m\u001b[0;34m.\u001b[0m\u001b[0msize_\u001b[0m \u001b[0;34m/\u001b[0m \u001b[0;36m1000000\u001b[0m\u001b[0;34m)\u001b[0m\u001b[0;34m)\u001b[0m\u001b[0;34m\u001b[0m\u001b[0;34m\u001b[0m\u001b[0m\n\u001b[1;32m     28\u001b[0m \u001b[0;34m\u001b[0m\u001b[0m\n\u001b[0;32m---> 29\u001b[0;31m     \u001b[0m_x\u001b[0m \u001b[0;34m=\u001b[0m \u001b[0;34m[\u001b[0m\u001b[0ms\u001b[0m\u001b[0;34m.\u001b[0m\u001b[0mparameters\u001b[0m\u001b[0;34m[\u001b[0m\u001b[0;34m'c1'\u001b[0m\u001b[0;34m]\u001b[0m \u001b[0;32mfor\u001b[0m \u001b[0ms\u001b[0m \u001b[0;32min\u001b[0m \u001b[0mrs\u001b[0m\u001b[0;34m.\u001b[0m\u001b[0mcv_results_\u001b[0m\u001b[0;34m]\u001b[0m\u001b[0;34m\u001b[0m\u001b[0;34m\u001b[0m\u001b[0m\n\u001b[0m\u001b[1;32m     30\u001b[0m     \u001b[0m_y\u001b[0m \u001b[0;34m=\u001b[0m \u001b[0;34m[\u001b[0m\u001b[0ms\u001b[0m\u001b[0;34m.\u001b[0m\u001b[0mparameters\u001b[0m\u001b[0;34m[\u001b[0m\u001b[0;34m'c2'\u001b[0m\u001b[0;34m]\u001b[0m \u001b[0;32mfor\u001b[0m \u001b[0ms\u001b[0m \u001b[0;32min\u001b[0m \u001b[0mrs\u001b[0m\u001b[0;34m.\u001b[0m\u001b[0mcv_results_\u001b[0m\u001b[0;34m]\u001b[0m\u001b[0;34m\u001b[0m\u001b[0;34m\u001b[0m\u001b[0m\n\u001b[1;32m     31\u001b[0m     \u001b[0m_c\u001b[0m \u001b[0;34m=\u001b[0m \u001b[0;34m[\u001b[0m\u001b[0ms\u001b[0m\u001b[0;34m.\u001b[0m\u001b[0mmean_validation_score\u001b[0m \u001b[0;32mfor\u001b[0m \u001b[0ms\u001b[0m \u001b[0;32min\u001b[0m \u001b[0mrs\u001b[0m\u001b[0;34m.\u001b[0m\u001b[0mcv_results_\u001b[0m\u001b[0;34m]\u001b[0m\u001b[0;34m\u001b[0m\u001b[0;34m\u001b[0m\u001b[0m\n",
      "\u001b[0;32m<ipython-input-22-c64f4e3502b1>\u001b[0m in \u001b[0;36m<listcomp>\u001b[0;34m(.0)\u001b[0m\n\u001b[1;32m     27\u001b[0m     \u001b[0mprint\u001b[0m\u001b[0;34m(\u001b[0m\u001b[0;34m'model size: {:0.2f}M'\u001b[0m\u001b[0;34m.\u001b[0m\u001b[0mformat\u001b[0m\u001b[0;34m(\u001b[0m\u001b[0mrs\u001b[0m\u001b[0;34m.\u001b[0m\u001b[0mbest_estimator_\u001b[0m\u001b[0;34m.\u001b[0m\u001b[0msize_\u001b[0m \u001b[0;34m/\u001b[0m \u001b[0;36m1000000\u001b[0m\u001b[0;34m)\u001b[0m\u001b[0;34m)\u001b[0m\u001b[0;34m\u001b[0m\u001b[0;34m\u001b[0m\u001b[0m\n\u001b[1;32m     28\u001b[0m \u001b[0;34m\u001b[0m\u001b[0m\n\u001b[0;32m---> 29\u001b[0;31m     \u001b[0m_x\u001b[0m \u001b[0;34m=\u001b[0m \u001b[0;34m[\u001b[0m\u001b[0ms\u001b[0m\u001b[0;34m.\u001b[0m\u001b[0mparameters\u001b[0m\u001b[0;34m[\u001b[0m\u001b[0;34m'c1'\u001b[0m\u001b[0;34m]\u001b[0m \u001b[0;32mfor\u001b[0m \u001b[0ms\u001b[0m \u001b[0;32min\u001b[0m \u001b[0mrs\u001b[0m\u001b[0;34m.\u001b[0m\u001b[0mcv_results_\u001b[0m\u001b[0;34m]\u001b[0m\u001b[0;34m\u001b[0m\u001b[0;34m\u001b[0m\u001b[0m\n\u001b[0m\u001b[1;32m     30\u001b[0m     \u001b[0m_y\u001b[0m \u001b[0;34m=\u001b[0m \u001b[0;34m[\u001b[0m\u001b[0ms\u001b[0m\u001b[0;34m.\u001b[0m\u001b[0mparameters\u001b[0m\u001b[0;34m[\u001b[0m\u001b[0;34m'c2'\u001b[0m\u001b[0;34m]\u001b[0m \u001b[0;32mfor\u001b[0m \u001b[0ms\u001b[0m \u001b[0;32min\u001b[0m \u001b[0mrs\u001b[0m\u001b[0;34m.\u001b[0m\u001b[0mcv_results_\u001b[0m\u001b[0;34m]\u001b[0m\u001b[0;34m\u001b[0m\u001b[0;34m\u001b[0m\u001b[0m\n\u001b[1;32m     31\u001b[0m     \u001b[0m_c\u001b[0m \u001b[0;34m=\u001b[0m \u001b[0;34m[\u001b[0m\u001b[0ms\u001b[0m\u001b[0;34m.\u001b[0m\u001b[0mmean_validation_score\u001b[0m \u001b[0;32mfor\u001b[0m \u001b[0ms\u001b[0m \u001b[0;32min\u001b[0m \u001b[0mrs\u001b[0m\u001b[0;34m.\u001b[0m\u001b[0mcv_results_\u001b[0m\u001b[0;34m]\u001b[0m\u001b[0;34m\u001b[0m\u001b[0;34m\u001b[0m\u001b[0m\n",
      "\u001b[0;31mAttributeError\u001b[0m: 'str' object has no attribute 'parameters'"
     ]
    }
   ],
   "source": [
    "MODEL_SELECTION = 1\n",
    "\n",
    "if MODEL_SELECTION:\n",
    "    # define fixed parameters and parameters to search\n",
    "    crf = sklearn_crfsuite.CRF(\n",
    "        algorithm='lbfgs',\n",
    "        max_iterations=100,\n",
    "        all_possible_transitions=True\n",
    "    )\n",
    "    \n",
    "    params_space = {\n",
    "        'c1': scipy.stats.expon(scale=0.5),\n",
    "        'c2': scipy.stats.expon(scale=0.05),\n",
    "    }\n",
    "    \n",
    "    # use the same metric for evaluation\n",
    "    f1_scorer = make_scorer(metrics.flat_f1_score, average='weighted', labels=labels)\n",
    "    \n",
    "    # search\n",
    "    rs = RandomizedSearchCV(crf, params_space,\n",
    "                            cv=5,\n",
    "                            verbose=10,\n",
    "                            n_jobs=-1,\n",
    "                            n_iter=10,\n",
    "                            scoring=f1_scorer)\n",
    "    \n",
    "    print('best params:', rs.best_params_)\n",
    "    print('best CV score:', rs.best_score_)\n",
    "    print('model size: {:0.2f}M'.format(rs.best_estimator_.size_ / 1000000))"
   ]
  },
  {
   "cell_type": "code",
   "execution_count": 24,
   "metadata": {
    "colab": {},
    "colab_type": "code",
    "id": "2QZpiDumiCgO"
   },
   "outputs": [],
   "source": []
  }
 ],
 "metadata": {
  "colab": {
   "collapsed_sections": [],
   "name": "sinhala_pos_tagger_crf.ipynb",
   "provenance": []
  },
  "kernelspec": {
   "display_name": "Python 3",
   "language": "python",
   "name": "python3"
  },
  "language_info": {
   "codemirror_mode": {
    "name": "ipython",
    "version": 3
   },
   "file_extension": ".py",
   "mimetype": "text/x-python",
   "name": "python",
   "nbconvert_exporter": "python",
   "pygments_lexer": "ipython3",
   "version": "3.7.4"
  },
  "pycharm": {
   "stem_cell": {
    "cell_type": "raw",
    "metadata": {
     "collapsed": false
    },
    "source": []
   }
  }
 },
 "nbformat": 4,
 "nbformat_minor": 1
}
