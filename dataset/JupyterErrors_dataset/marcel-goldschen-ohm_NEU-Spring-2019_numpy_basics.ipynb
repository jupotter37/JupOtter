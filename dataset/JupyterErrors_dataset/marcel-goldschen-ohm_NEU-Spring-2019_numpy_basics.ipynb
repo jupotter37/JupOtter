{
 "cells": [
  {
   "cell_type": "code",
   "execution_count": null,
   "metadata": {},
   "outputs": [],
   "source": [
    "# Double resolution figures for MacOSX retina displays\n",
    "%config InlineBackend.figure_format = 'retina'"
   ]
  },
  {
   "cell_type": "markdown",
   "metadata": {},
   "source": [
    "# NumPy\n",
    "* Makes working with N-dimensional arrays (e.g. vectors, matrices, tensors) effecient.\n",
    "* NumPy functions are written in C, so they're fast. In fact, Python itself is written in C."
   ]
  },
  {
   "cell_type": "code",
   "execution_count": 3,
   "metadata": {},
   "outputs": [],
   "source": [
    "import numpy as np  # import numpy module"
   ]
  },
  {
   "cell_type": "markdown",
   "metadata": {},
   "source": [
    "## N-dimensional arrays"
   ]
  },
  {
   "cell_type": "code",
   "execution_count": 12,
   "metadata": {},
   "outputs": [
    {
     "name": "stdout",
     "output_type": "stream",
     "text": [
      "[1 2 3 4 5]\n",
      "\n",
      "arr.shape =  (5,)\n",
      "type(arr) =  <class 'numpy.ndarray'>\n",
      "arr.dtype =  int64\n"
     ]
    }
   ],
   "source": [
    "a = np.array([1, 2, 3, 4, 5])\n",
    "print(a)\n",
    "print()\n",
    "print(\"a.shape = \", a.shape)\n",
    "print(\"type(a) = \", type(a))\n",
    "print(\"a.dtype = \", a.dtype)"
   ]
  },
  {
   "cell_type": "code",
   "execution_count": 18,
   "metadata": {},
   "outputs": [
    {
     "name": "stdout",
     "output_type": "stream",
     "text": [
      "[[0. 0. 0.]\n",
      " [0. 0. 0.]\n",
      " [0. 0. 0.]]\n",
      "\n",
      "arr.shape =  (3, 3)\n",
      "type(arr) =  <class 'numpy.ndarray'>\n",
      "arr.dtype =  float64\n"
     ]
    }
   ],
   "source": [
    "a = np.zeros((3, 3))  # 3x3 random matrix\n",
    "print(a)\n",
    "print()\n",
    "print(\"a.shape = \", a.shape)\n",
    "print(\"type(a) = \", type(a))\n",
    "print(\"a.dtype = \", a.dtype)"
   ]
  },
  {
   "cell_type": "code",
   "execution_count": 2,
   "metadata": {},
   "outputs": [
    {
     "name": "stdout",
     "output_type": "stream",
     "text": [
      "[[0 0 0]\n",
      " [0 0 0]\n",
      " [0 0 0]]\n",
      "\n",
      "arr.shape =  (3, 3)\n",
      "type(arr) =  <class 'numpy.ndarray'>\n",
      "arr.dtype =  int64\n"
     ]
    }
   ],
   "source": [
    "a = np.zeros((3, 3), dtype=int)  # 3x3 random matrix\n",
    "print(a)\n",
    "print()\n",
    "print(\"a.shape = \", a.shape)\n",
    "print(\"type(a) = \", type(a))\n",
    "print(\"a.dtype = \", a.dtype)"
   ]
  },
  {
   "cell_type": "code",
   "execution_count": 6,
   "metadata": {},
   "outputs": [
    {
     "name": "stdout",
     "output_type": "stream",
     "text": [
      "[[[0.03111165 0.97138943 0.19205285]\n",
      "  [0.42724477 0.02948653 0.46096785]\n",
      "  [0.00898452 0.99232939 0.7564268 ]]\n",
      "\n",
      " [[0.81428869 0.52431353 0.04443435]\n",
      "  [0.53670176 0.86850834 0.31947024]\n",
      "  [0.56926624 0.45408431 0.73173848]]]\n",
      "\n",
      "arr.shape =  (2, 3, 3)\n",
      "type(arr) =  <class 'numpy.ndarray'>\n",
      "arr.dtype =  float64\n"
     ]
    }
   ],
   "source": [
    "a = np.random.rand(2, 3, 3)  # 3x3 random matrix of floats in [0, 1)\n",
    "print(a)\n",
    "print()\n",
    "print(\"a.shape = \", a.shape)\n",
    "print(\"type(a) = \", type(a))\n",
    "print(\"a.dtype = \", a.dtype)"
   ]
  },
  {
   "cell_type": "code",
   "execution_count": null,
   "metadata": {},
   "outputs": [],
   "source": [
    "def show_array_info(a):\n",
    "    print(arr)\n",
    "    print()\n",
    "    print(\"arr.shape = \", arr.shape)\n",
    "    print(\"type(arr) = \", type(arr))\n",
    "    print(\"arr.dtype = \", arr.dtype)"
   ]
  },
  {
   "cell_type": "code",
   "execution_count": 5,
   "metadata": {},
   "outputs": [
    {
     "name": "stdout",
     "output_type": "stream",
     "text": [
      "[[8 6 7]\n",
      " [4 5 5]\n",
      " [7 9 4]]\n",
      "\n",
      "arr.shape =  (3, 3)\n",
      "type(arr) =  <class 'numpy.ndarray'>\n",
      "arr.dtype =  int64\n"
     ]
    }
   ],
   "source": [
    "a = np.random.randint(1, 10, size=(5, 5))  # 3x3 random matrix of ints between 1 and 10\n",
    "show_array_info(a)"
   ]
  },
  {
   "cell_type": "markdown",
   "metadata": {},
   "source": [
    "## Array indexing"
   ]
  },
  {
   "cell_type": "code",
   "execution_count": 45,
   "metadata": {},
   "outputs": [
    {
     "name": "stdout",
     "output_type": "stream",
     "text": [
      "[[4 9 7 2 9]\n",
      " [8 2 4 3 6]\n",
      " [8 3 8 6 7]\n",
      " [7 6 3 6 2]\n",
      " [6 4 2 7 7]]\n"
     ]
    },
    {
     "data": {
      "text/plain": [
       "(4, 8, 2)"
      ]
     },
     "execution_count": 45,
     "metadata": {},
     "output_type": "execute_result"
    }
   ],
   "source": [
    "m = np.random.randint(1, 10, size=(5, 5))  # 3x3 random matrix of ints between 1 and 10\n",
    "print(m)\n",
    "\n",
    "m[0,0], m[1,0], m[3,4]  # [row,col] indexes"
   ]
  },
  {
   "cell_type": "code",
   "execution_count": 44,
   "metadata": {},
   "outputs": [
    {
     "data": {
      "text/plain": [
       "array([[  4,   4,   5,   7,   4],\n",
       "       [  9,   7,   9,   6,   6],\n",
       "       [  1,   6,   9,   4,   5],\n",
       "       [  1,   1,   1,   6,   2],\n",
       "       [  1,   9,   9,   7, 100]])"
      ]
     },
     "execution_count": 44,
     "metadata": {},
     "output_type": "execute_result"
    }
   ],
   "source": [
    "m[4,4] = 100\n",
    "m"
   ]
  },
  {
   "cell_type": "markdown",
   "metadata": {},
   "source": [
    "## Subarrays"
   ]
  },
  {
   "cell_type": "code",
   "execution_count": 22,
   "metadata": {},
   "outputs": [
    {
     "data": {
      "text/plain": [
       "array([5, 5, 1, 4, 6])"
      ]
     },
     "execution_count": 22,
     "metadata": {},
     "output_type": "execute_result"
    }
   ],
   "source": [
    "m[0,:]  # 1st row"
   ]
  },
  {
   "cell_type": "code",
   "execution_count": 23,
   "metadata": {},
   "outputs": [
    {
     "data": {
      "text/plain": [
       "array([4, 2, 9, 1, 4])"
      ]
     },
     "execution_count": 23,
     "metadata": {},
     "output_type": "execute_result"
    }
   ],
   "source": [
    "m[:,3]  # 4th col"
   ]
  },
  {
   "cell_type": "code",
   "execution_count": 24,
   "metadata": {},
   "outputs": [
    {
     "data": {
      "text/plain": [
       "array([2, 9])"
      ]
     },
     "execution_count": 24,
     "metadata": {},
     "output_type": "execute_result"
    }
   ],
   "source": [
    "m[1:3,3]  # 2nd-3rd elements in 4th col"
   ]
  },
  {
   "cell_type": "markdown",
   "metadata": {},
   "source": [
    "![](img/numpy_indexing.png)\n",
    "![](img/numpy_fancy_indexing.png)"
   ]
  },
  {
   "cell_type": "markdown",
   "metadata": {},
   "source": [
    "## Reductions"
   ]
  },
  {
   "cell_type": "code",
   "execution_count": 69,
   "metadata": {},
   "outputs": [
    {
     "name": "stdout",
     "output_type": "stream",
     "text": [
      "[[9 8 2 3 8]\n",
      " [8 4 7 4 7]\n",
      " [3 7 2 3 8]\n",
      " [3 4 5 5 4]\n",
      " [1 7 6 8 4]]\n"
     ]
    },
    {
     "data": {
      "text/plain": [
       "(1, 9, 5.2, 5.28, 2.2978250586152114)"
      ]
     },
     "execution_count": 69,
     "metadata": {},
     "output_type": "execute_result"
    }
   ],
   "source": [
    "m = np.random.randint(1, 10, size=(5, 5))  # 3x3 random matrix of ints between 1 and 10\n",
    "print(m)\n",
    "m.min(), m.max(), m.mean(), m.var(), m.std()  # min, max, mean, variance, standard deviation"
   ]
  },
  {
   "cell_type": "markdown",
   "metadata": {},
   "source": [
    "## Partial reductions"
   ]
  },
  {
   "cell_type": "code",
   "execution_count": 70,
   "metadata": {},
   "outputs": [
    {
     "data": {
      "text/plain": [
       "(array([9, 8, 7, 8, 8]), array([9, 8, 8, 5, 8]))"
      ]
     },
     "execution_count": 70,
     "metadata": {},
     "output_type": "execute_result"
    }
   ],
   "source": [
    "m.max(axis=0), m.max(axis=1)  # max across rows (axis=0) and cols (axis=1), respectively"
   ]
  },
  {
   "cell_type": "markdown",
   "metadata": {},
   "source": [
    "## Array multiplication"
   ]
  },
  {
   "cell_type": "code",
   "execution_count": 4,
   "metadata": {},
   "outputs": [
    {
     "name": "stdout",
     "output_type": "stream",
     "text": [
      "[[9 7]\n",
      " [7 8]]\n",
      "\n",
      "[2 3]\n",
      "\n",
      "[[2]\n",
      " [3]]\n"
     ]
    }
   ],
   "source": [
    "A = np.random.randint(1, 10, size=(2, 2))  # 2x2 random matrix of ints between 1 and 10\n",
    "b = np.array([2, 3])  # length 2 row vector\n",
    "c = np.reshape(b, (2, 1))  # b as a col vector instead of row vector\n",
    "print(A)\n",
    "print()\n",
    "print(b)\n",
    "print()\n",
    "print(c)"
   ]
  },
  {
   "cell_type": "markdown",
   "metadata": {},
   "source": [
    "### Element-wise multiplication"
   ]
  },
  {
   "cell_type": "code",
   "execution_count": 5,
   "metadata": {},
   "outputs": [
    {
     "name": "stdout",
     "output_type": "stream",
     "text": [
      "[[9 7]\n",
      " [7 8]]\n",
      "\n",
      "[[81 49]\n",
      " [49 64]]\n"
     ]
    }
   ],
   "source": [
    "print(A)\n",
    "print()\n",
    "print(A * A)"
   ]
  },
  {
   "cell_type": "code",
   "execution_count": 48,
   "metadata": {},
   "outputs": [
    {
     "name": "stdout",
     "output_type": "stream",
     "text": [
      "[2 3]\n",
      "\n",
      "[1.  1.5]\n"
     ]
    }
   ],
   "source": [
    "print(b)\n",
    "print()\n",
    "print(b / 2)"
   ]
  },
  {
   "cell_type": "markdown",
   "metadata": {},
   "source": [
    "### Broadcasting"
   ]
  },
  {
   "cell_type": "code",
   "execution_count": 49,
   "metadata": {},
   "outputs": [
    {
     "name": "stdout",
     "output_type": "stream",
     "text": [
      "[[6 5]\n",
      " [6 7]]\n",
      "\n",
      "[2 3]\n",
      "\n",
      "[[12 15]\n",
      " [12 21]]\n"
     ]
    }
   ],
   "source": [
    "print(A)\n",
    "print()\n",
    "print(b)\n",
    "print()\n",
    "\n",
    "print(A * b)  # element-wise multiplication of b with each row of A"
   ]
  },
  {
   "cell_type": "code",
   "execution_count": 87,
   "metadata": {},
   "outputs": [
    {
     "name": "stdout",
     "output_type": "stream",
     "text": [
      "[2 3]\n",
      "\n",
      "[[2]\n",
      " [3]]\n"
     ]
    }
   ],
   "source": [
    "print(b)\n",
    "print()\n",
    "print(c)"
   ]
  },
  {
   "cell_type": "code",
   "execution_count": 88,
   "metadata": {},
   "outputs": [
    {
     "name": "stdout",
     "output_type": "stream",
     "text": [
      "[[5 2]\n",
      " [8 8]]\n",
      "\n",
      "[[2]\n",
      " [3]]\n",
      "\n",
      "[[10  4]\n",
      " [24 24]]\n"
     ]
    }
   ],
   "source": [
    "print(A)\n",
    "print()\n",
    "print(c)\n",
    "print()\n",
    "\n",
    "print(A * c)  # element-wise multiplication of c with each col of A"
   ]
  },
  {
   "cell_type": "markdown",
   "metadata": {},
   "source": [
    "![](img/numpy_broadcasting.png)"
   ]
  },
  {
   "cell_type": "markdown",
   "metadata": {},
   "source": [
    "## Matrix multiplication\n",
    "\n",
    "\\begin{equation}\\label{eq:matrixeqn}\n",
    "     \\begin{pmatrix}\n",
    "       m_{00} & m_{01} & m_{02} \\\\\n",
    "       m_{10} & m_{11} & m_{12} \\\\\n",
    "       m_{20} & m_{21} & m_{22}\n",
    "     \\end{pmatrix}\n",
    "     \\cdot\n",
    "     \\begin{pmatrix}\n",
    "       v_{0} \\\\\n",
    "       v_{1} \\\\\n",
    "       v_{2}\n",
    "     \\end{pmatrix}\n",
    "     =\n",
    "     \\begin{pmatrix}\n",
    "       m_{00} * v_{0} + m_{01} * v_{1} + m_{02} * v_{2} \\\\\n",
    "       m_{10} * v_{0} + m_{11} * v_{1} + m_{12} * v_{2} \\\\\n",
    "       m_{20} * v_{0} + m_{21} * v_{1} + m_{22} * v_{2}\n",
    "     \\end{pmatrix}\n",
    "\\end{equation}\n",
    "\n",
    "(3 x 3) . (3 x 1) = (3 x 1)"
   ]
  },
  {
   "cell_type": "code",
   "execution_count": 53,
   "metadata": {},
   "outputs": [
    {
     "name": "stdout",
     "output_type": "stream",
     "text": [
      "[2 3]\n",
      "\n",
      "[[2]\n",
      " [3]]\n",
      "\n",
      "[13]\n"
     ]
    }
   ],
   "source": [
    "print(b)\n",
    "print()\n",
    "print(c)\n",
    "print()\n",
    "print(b.dot(c))"
   ]
  },
  {
   "cell_type": "code",
   "execution_count": 54,
   "metadata": {},
   "outputs": [
    {
     "ename": "ValueError",
     "evalue": "shapes (2,1) and (2,) not aligned: 1 (dim 1) != 2 (dim 0)",
     "output_type": "error",
     "traceback": [
      "\u001b[0;31m---------------------------------------------------------------------------\u001b[0m",
      "\u001b[0;31mValueError\u001b[0m                                Traceback (most recent call last)",
      "\u001b[0;32m<ipython-input-54-c72b22f75651>\u001b[0m in \u001b[0;36m<module>\u001b[0;34m\u001b[0m\n\u001b[0;32m----> 1\u001b[0;31m \u001b[0mc\u001b[0m\u001b[0;34m.\u001b[0m\u001b[0mdot\u001b[0m\u001b[0;34m(\u001b[0m\u001b[0mb\u001b[0m\u001b[0;34m)\u001b[0m\u001b[0;34m\u001b[0m\u001b[0;34m\u001b[0m\u001b[0m\n\u001b[0m",
      "\u001b[0;31mValueError\u001b[0m: shapes (2,1) and (2,) not aligned: 1 (dim 1) != 2 (dim 0)"
     ]
    }
   ],
   "source": [
    "c.dot(b)"
   ]
  },
  {
   "cell_type": "code",
   "execution_count": 50,
   "metadata": {},
   "outputs": [
    {
     "name": "stdout",
     "output_type": "stream",
     "text": [
      "[[6 5]\n",
      " [6 7]]\n",
      "\n",
      "[2 3]\n",
      "\n",
      "[27 33]\n"
     ]
    }
   ],
   "source": [
    "print(A)\n",
    "print()\n",
    "print(b)\n",
    "print()\n",
    "print(A.dot(b))"
   ]
  },
  {
   "cell_type": "code",
   "execution_count": 51,
   "metadata": {},
   "outputs": [
    {
     "name": "stdout",
     "output_type": "stream",
     "text": [
      "[[6 5]\n",
      " [6 7]]\n",
      "\n",
      "[[2]\n",
      " [3]]\n",
      "\n",
      "[[27]\n",
      " [33]]\n"
     ]
    }
   ],
   "source": [
    "print(A)\n",
    "print()\n",
    "print(c)\n",
    "print()\n",
    "print(A.dot(c))"
   ]
  },
  {
   "cell_type": "markdown",
   "metadata": {},
   "source": [
    "## Speed and timing\n",
    "* Basically do everything in numpy that you possibly can because it's *much much* faster than native python code."
   ]
  },
  {
   "cell_type": "code",
   "execution_count": 6,
   "metadata": {},
   "outputs": [
    {
     "data": {
      "text/plain": [
       "2.000289000999601"
      ]
     },
     "execution_count": 6,
     "metadata": {},
     "output_type": "execute_result"
    }
   ],
   "source": [
    "import timeit\n",
    "import time\n",
    "\n",
    "start = timeit.default_timer()  # timestamp in sec\n",
    "time.sleep(2)  # sleep 2 sec\n",
    "stop = timeit.default_timer()  # timestamp in sec\n",
    "\n",
    "stop - start  # elapsed time"
   ]
  },
  {
   "cell_type": "code",
   "execution_count": 8,
   "metadata": {},
   "outputs": [
    {
     "data": {
      "text/plain": [
       "0.418272782999793"
      ]
     },
     "execution_count": 8,
     "metadata": {},
     "output_type": "execute_result"
    }
   ],
   "source": [
    "a = np.linspace(1, 1000000, num=1000000, endpoint=True)  # 1-1000000\n",
    "start = timeit.default_timer()\n",
    "for i in range(len(a)):\n",
    "    a[i] = a[i]**2\n",
    "stop = timeit.default_timer()\n",
    "stop - start"
   ]
  },
  {
   "cell_type": "code",
   "execution_count": 9,
   "metadata": {},
   "outputs": [
    {
     "data": {
      "text/plain": [
       "0.002637679000144999"
      ]
     },
     "execution_count": 9,
     "metadata": {},
     "output_type": "execute_result"
    }
   ],
   "source": [
    "a = np.linspace(1, 1000000, num=1000000, endpoint=True)  # 1-1000000\n",
    "start = timeit.default_timer()\n",
    "a = a**2\n",
    "stop = timeit.default_timer()\n",
    "stop - start"
   ]
  },
  {
   "cell_type": "markdown",
   "metadata": {},
   "source": [
    "# Plot with matplotlib\n",
    "Many more types of plots than those shown below can be made, such as histograms, contours, etc. Lot's of info on these is available online."
   ]
  },
  {
   "cell_type": "code",
   "execution_count": 2,
   "metadata": {},
   "outputs": [],
   "source": [
    "import matplotlib.pyplot as plt\n",
    "from mpl_toolkits import mplot3d  # for 3d plots"
   ]
  },
  {
   "cell_type": "code",
   "execution_count": 3,
   "metadata": {},
   "outputs": [
    {
     "data": {
      "image/png": "[encoded data removed]",
      "text/plain": [
       "<Figure size 432x288 with 1 Axes>"
      ]
     },
     "metadata": {
      "needs_background": "light"
     },
     "output_type": "display_data"
    }
   ],
   "source": [
    "x = np.random.rand(100)\n",
    "y = np.random.rand(100)\n",
    "z = np.random.rand(100)\n",
    "\n",
    "fig = plt.figure()  # make a figure\n",
    "plt.plot(x, y, 'o')  # plot x vs. y in current figure using circle markers\n",
    "plt.plot(x, z, 'o')  # plot x vs. y in current figure using circle markers\n",
    "plt.xlabel('x')\n",
    "plt.ylabel('y or z')\n",
    "plt.title('2d plot')\n",
    "plt.legend(['x', 'y']);  # last semicolon suppresses title object output"
   ]
  },
  {
   "cell_type": "code",
   "execution_count": 4,
   "metadata": {},
   "outputs": [
    {
     "data": {
      "image/png": "[encoded data removed]",
      "text/plain": [
       "<Figure size 432x288 with 1 Axes>"
      ]
     },
     "metadata": {
      "needs_background": "light"
     },
     "output_type": "display_data"
    }
   ],
   "source": [
    "fig = plt.figure()  # make a figure\n",
    "ax = plt.axes(projection='3d')  # set axes of current figure to 3d axes (this requires having imported mplot3d from mpl_toolkits)\n",
    "ax.scatter(x, y, z)  # 3d scatter plot of x vs. y vs. z\n",
    "ax.scatter(x, z, y)  # 3d scatter plot of x vs. z vs. y\n",
    "ax.set_xlabel('x')\n",
    "ax.set_ylabel('y')\n",
    "ax.set_zlabel('z')\n",
    "plt.title('3d plot')\n",
    "plt.legend(['x', 'y']);"
   ]
  },
  {
   "cell_type": "markdown",
   "metadata": {},
   "source": [
    "## Subplots"
   ]
  },
  {
   "cell_type": "code",
   "execution_count": 37,
   "metadata": {},
   "outputs": [
    {
     "data": {
      "image/png": "[encoded data removed]",
      "text/plain": [
       "<Figure size 432x288 with 6 Axes>"
      ]
     },
     "metadata": {
      "needs_background": "light"
     },
     "output_type": "display_data"
    }
   ],
   "source": [
    "fig, ax = plt.subplots(nrows=2, ncols=3)\n",
    "\n",
    "ax[0,0].scatter(x, y)\n",
    "ax[0,0].set_xlabel('x')\n",
    "ax[0,0].set_ylabel('y');\n",
    "\n",
    "ax[1,1].scatter(x, z, marker='s', color='r')\n",
    "ax[1,1].set_xlabel('x')\n",
    "ax[1,1].set_ylabel('z')\n",
    "\n",
    "ax[0,2].plot(range(len(y)), y, linestyle='-', color='c')\n",
    "ax[0,2].set_ylabel('y')\n",
    "\n",
    "fig.tight_layout();  # helps improve margins between plots"
   ]
  },
  {
   "cell_type": "markdown",
   "metadata": {},
   "source": [
    "## Interactive plots\n",
    "You may need to install the following for interactive plots in JupyterLab:\n",
    "\n",
    "    > conda install -c conda-forge ipympl\n",
    "    > conda install -c conda-forge widgetsnbextension\n",
    "    > conda install nodejs\n",
    "    > jupyter labextension install @jupyter-widgets/jupyterlab-manager\n",
    "    > jupyter labextension install jupyter-matplotlib\n",
    "\n",
    "`%matplotlib widget` will start using interactive plots\n",
    "\n",
    "`%matplotlib inline` will go back to using non-interactive plots"
   ]
  },
  {
   "cell_type": "code",
   "execution_count": 13,
   "metadata": {},
   "outputs": [
    {
     "data": {
      "application/vnd.jupyter.widget-view+json": {
       "model_id": "",
       "version_major": 2,
       "version_minor": 0
      },
      "text/plain": [
       "FigureCanvasNbAgg()"
      ]
     },
     "metadata": {},
     "output_type": "display_data"
    },
    {
     "data": {
      "application/vnd.jupyter.widget-view+json": {
       "model_id": "",
       "version_major": 2,
       "version_minor": 0
      },
      "text/plain": [
       "FigureCanvasNbAgg()"
      ]
     },
     "metadata": {},
     "output_type": "display_data"
    }
   ],
   "source": [
    "# interactive plot mode\n",
    "%matplotlib widget\n",
    "\n",
    "fig1 = plt.figure()  # make a figure\n",
    "plt.plot(x, y, 'o')  # plot x vs. y in current figure using circle markers\n",
    "\n",
    "fig2 = plt.figure()  # make a figure\n",
    "ax = plt.axes(projection='3d')  # set axes of current figure to 3d axes\n",
    "ax.scatter(x, y, z);  # 3d scatter plot of x vs. y vs. z"
   ]
  },
  {
   "cell_type": "code",
   "execution_count": 14,
   "metadata": {},
   "outputs": [],
   "source": [
    "# back to non-interactive plot mode\n",
    "%matplotlib inline"
   ]
  },
  {
   "cell_type": "code",
   "execution_count": null,
   "metadata": {},
   "outputs": [],
   "source": []
  }
 ],
 "metadata": {
  "kernelspec": {
   "display_name": "Python 3",
   "language": "python",
   "name": "python3"
  },
  "language_info": {
   "codemirror_mode": {
    "name": "ipython",
    "version": 3
   },
   "file_extension": ".py",
   "mimetype": "text/x-python",
   "name": "python",
   "nbconvert_exporter": "python",
   "pygments_lexer": "ipython3",
   "version": "3.7.1"
  }
 },
 "nbformat": 4,
 "nbformat_minor": 2
}
