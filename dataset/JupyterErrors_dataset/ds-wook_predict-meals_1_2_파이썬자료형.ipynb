{
 "cells": [
  {
   "cell_type": "markdown",
   "metadata": {
    "id": "pAFecYujGu6g"
   },
   "source": [
    "## 자료형\n",
    "\n",
    "- 다른 프로그래밍 언어를 먼저 접한 학생들은 벌써부터 머리가 지끈지끈거릴텐데요\n",
    "\n",
    "- 파이썬은 괜찮습니다!"
   ]
  },
  {
   "cell_type": "markdown",
   "metadata": {
    "id": "nNGnnPOqHFga"
   },
   "source": [
    "## 파이썬 자료형\n",
    "\n",
    "- 숫자\n",
    "- 문자열\n",
    "- 리스트\n",
    "- 튜플\n",
    "- 딕셔너리\n",
    "- 집합\n",
    "- 불"
   ]
  },
  {
   "cell_type": "markdown",
   "metadata": {
    "id": "vvCPVGzJHhgb"
   },
   "source": [
    "## 숫자\n",
    "\n",
    "- 정수 : 123, -456, 0\n",
    "\n",
    "- 실수 : 123.45, -123.45, 3.4e10\n",
    "\n",
    "- 8진수 : 0o34, 0o25\n",
    "\n",
    "- 16진수 : 0x2A, 0xFF"
   ]
  },
  {
   "cell_type": "markdown",
   "metadata": {
    "id": "XQ2EG-j9Hz1_"
   },
   "source": [
    "### 숫자 연산자\n",
    "\n",
    "- 사칙연산 ( + - * / )\n",
    "\n",
    "- 제곱연산 ( ** )\n",
    "\n",
    "- 나머지 연산 ( % )\n",
    "\n",
    "- 몫 연산 ( // )"
   ]
  },
  {
   "cell_type": "code",
   "execution_count": null,
   "metadata": {
    "colab": {
     "base_uri": "https://localhost:8080/"
    },
    "id": "wjHNEOJKH_5X",
    "outputId": "4bd3150e-7107-4817-856f-deebed6004b9"
   },
   "outputs": [
    {
     "data": {
      "text/plain": [
       "64"
      ]
     },
     "execution_count": 1,
     "metadata": {},
     "output_type": "execute_result"
    }
   ],
   "source": [
    "a = 4\n",
    "b = 3\n",
    "\n",
    "a ** b"
   ]
  },
  {
   "cell_type": "code",
   "execution_count": null,
   "metadata": {
    "colab": {
     "base_uri": "https://localhost:8080/"
    },
    "id": "l3LxPj9oISkc",
    "outputId": "450cda2d-ab70-4803-a413-85dfc7fa3540"
   },
   "outputs": [
    {
     "data": {
      "text/plain": [
       "1"
      ]
     },
     "execution_count": 2,
     "metadata": {},
     "output_type": "execute_result"
    }
   ],
   "source": [
    "a % b"
   ]
  },
  {
   "cell_type": "code",
   "execution_count": null,
   "metadata": {
    "colab": {
     "base_uri": "https://localhost:8080/"
    },
    "id": "DdMpEGbnIWZb",
    "outputId": "65927121-d5b2-4f86-a5bb-04a3f7991919"
   },
   "outputs": [
    {
     "data": {
      "text/plain": [
       "1"
      ]
     },
     "execution_count": 3,
     "metadata": {},
     "output_type": "execute_result"
    }
   ],
   "source": [
    "a // b"
   ]
  },
  {
   "cell_type": "markdown",
   "metadata": {
    "id": "w3iKSP09IYTI"
   },
   "source": [
    "## 문자열\n",
    "\n",
    "- ' ', \" \"로 사용\n",
    "- 따옴표로 둘러싸인 건 다 문자열"
   ]
  },
  {
   "cell_type": "code",
   "execution_count": null,
   "metadata": {
    "colab": {
     "base_uri": "https://localhost:8080/"
    },
    "id": "8QWMgfyuIf09",
    "outputId": "e722e450-bcd2-45d4-b358-e6cb0f8fc473"
   },
   "outputs": [
    {
     "data": {
      "text/plain": [
       "str"
      ]
     },
     "execution_count": 5,
     "metadata": {},
     "output_type": "execute_result"
    }
   ],
   "source": [
    "a = \"python\"\n",
    "type(a)"
   ]
  },
  {
   "cell_type": "code",
   "execution_count": null,
   "metadata": {
    "colab": {
     "base_uri": "https://localhost:8080/"
    },
    "id": "eYEHXYcsI4ir",
    "outputId": "ab276224-2339-4f94-e026-bdf4f9633a51"
   },
   "outputs": [
    {
     "data": {
      "text/plain": [
       "int"
      ]
     },
     "execution_count": 7,
     "metadata": {},
     "output_type": "execute_result"
    }
   ],
   "source": [
    "a = 123\n",
    "type(a)"
   ]
  },
  {
   "cell_type": "code",
   "execution_count": null,
   "metadata": {
    "colab": {
     "base_uri": "https://localhost:8080/"
    },
    "id": "gvazrQEZIwu-",
    "outputId": "4a12a996-ada4-4647-ef81-b63925bbe81e"
   },
   "outputs": [
    {
     "data": {
      "text/plain": [
       "str"
      ]
     },
     "execution_count": 8,
     "metadata": {},
     "output_type": "execute_result"
    }
   ],
   "source": [
    "a = \"123\"\n",
    "type(a)"
   ]
  },
  {
   "cell_type": "markdown",
   "metadata": {
    "id": "KNUt7S9HI2xv"
   },
   "source": [
    "### 문자열 연산\n",
    "\n",
    "- 더하기\n",
    "- 곱하기\n",
    "- 길이\n",
    "- 인덱싱, 슬라이싱"
   ]
  },
  {
   "cell_type": "code",
   "execution_count": null,
   "metadata": {
    "colab": {
     "base_uri": "https://localhost:8080/"
    },
    "id": "xzupzP6OJSwW",
    "outputId": "720cbd15-edd7-42b6-ac56-89f2333de9f7"
   },
   "outputs": [
    {
     "name": "stdout",
     "output_type": "stream",
     "text": [
      "helloworld\n"
     ]
    }
   ],
   "source": [
    "a = \"hello\"\n",
    "b = \"world\"\n",
    "\n",
    "print(a + b)"
   ]
  },
  {
   "cell_type": "code",
   "execution_count": null,
   "metadata": {
    "colab": {
     "base_uri": "https://localhost:8080/"
    },
    "id": "jkaDF4e0JVv0",
    "outputId": "f2d220f6-5e24-45ea-f234-db85cd730350"
   },
   "outputs": [
    {
     "name": "stdout",
     "output_type": "stream",
     "text": [
      "hellohello\n"
     ]
    }
   ],
   "source": [
    "print(a * 2)"
   ]
  },
  {
   "cell_type": "code",
   "execution_count": null,
   "metadata": {
    "colab": {
     "base_uri": "https://localhost:8080/"
    },
    "id": "SoLBApNuJaJd",
    "outputId": "c010b701-161a-42d3-d9e4-7208068cd9e4",
    "scrolled": true
   },
   "outputs": [
    {
     "data": {
      "text/plain": [
       "5"
      ]
     },
     "execution_count": 11,
     "metadata": {},
     "output_type": "execute_result"
    }
   ],
   "source": [
    "len(a)"
   ]
  },
  {
   "cell_type": "code",
   "execution_count": null,
   "metadata": {
    "colab": {
     "base_uri": "https://localhost:8080/",
     "height": 35
    },
    "id": "M3GmBTF1JbMO",
    "outputId": "3913f5c4-6b9c-4eb4-b47f-bc393a8a5125"
   },
   "outputs": [
    {
     "data": {
      "application/vnd.google.colaboratory.intrinsic+json": {
       "type": "string"
      },
      "text/plain": [
       "'h'"
      ]
     },
     "execution_count": 12,
     "metadata": {},
     "output_type": "execute_result"
    }
   ],
   "source": [
    "a[0]"
   ]
  },
  {
   "cell_type": "code",
   "execution_count": null,
   "metadata": {
    "colab": {
     "base_uri": "https://localhost:8080/",
     "height": 35
    },
    "id": "xJqDxFZuJctT",
    "outputId": "c9889723-0a41-419d-81c2-d79447cb8eac"
   },
   "outputs": [
    {
     "data": {
      "application/vnd.google.colaboratory.intrinsic+json": {
       "type": "string"
      },
      "text/plain": [
       "'he'"
      ]
     },
     "execution_count": 13,
     "metadata": {},
     "output_type": "execute_result"
    }
   ],
   "source": [
    "a[0:2]\n",
    "# 슬라이싱은 앞은 포함 뒤는 포함 X\n",
    "# 즉 0 <= a < 2"
   ]
  },
  {
   "cell_type": "code",
   "execution_count": null,
   "metadata": {
    "colab": {
     "base_uri": "https://localhost:8080/",
     "height": 35
    },
    "id": "k02TID_JJh0p",
    "outputId": "f2aa633b-82b8-481d-f8df-ef4f0711463c",
    "scrolled": true
   },
   "outputs": [
    {
     "data": {
      "application/vnd.google.colaboratory.intrinsic+json": {
       "type": "string"
      },
      "text/plain": [
       "'hel'"
      ]
     },
     "execution_count": 14,
     "metadata": {},
     "output_type": "execute_result"
    }
   ],
   "source": [
    "a[:3]"
   ]
  },
  {
   "cell_type": "code",
   "execution_count": null,
   "metadata": {
    "colab": {
     "base_uri": "https://localhost:8080/",
     "height": 35
    },
    "id": "N-Pg8WB3JvQ7",
    "outputId": "b24925dc-9a8c-47f3-89a6-9509886347ca",
    "scrolled": true
   },
   "outputs": [
    {
     "data": {
      "application/vnd.google.colaboratory.intrinsic+json": {
       "type": "string"
      },
      "text/plain": [
       "'ello'"
      ]
     },
     "execution_count": 15,
     "metadata": {},
     "output_type": "execute_result"
    }
   ],
   "source": [
    "a[1:]"
   ]
  },
  {
   "cell_type": "markdown",
   "metadata": {
    "id": "LAuQbv0qJ2DN"
   },
   "source": [
    "## 리스트"
   ]
  },
  {
   "cell_type": "code",
   "execution_count": null,
   "metadata": {
    "colab": {
     "base_uri": "https://localhost:8080/"
    },
    "id": "b68Myfq9J5FW",
    "outputId": "e82bdf20-ba86-4952-9eb2-29ea7f7dfa6d",
    "scrolled": true
   },
   "outputs": [
    {
     "name": "stdout",
     "output_type": "stream",
     "text": [
      "[1, 2, 3, 4, 5]\n"
     ]
    }
   ],
   "source": [
    "a = [1, 2, 3, 4, 5]\n",
    "print(a)"
   ]
  },
  {
   "cell_type": "markdown",
   "metadata": {
    "id": "VE0OUAz7KCUk"
   },
   "source": [
    "### 리스트 연산\n",
    "\n",
    "- 더하기\n",
    "- 곱하기\n",
    "- 인덱싱과 슬라이싱"
   ]
  },
  {
   "cell_type": "code",
   "execution_count": null,
   "metadata": {
    "colab": {
     "base_uri": "https://localhost:8080/"
    },
    "id": "p0jf0cRPKR-M",
    "outputId": "f59331a6-adc3-43a3-ec98-13d6188437d5"
   },
   "outputs": [
    {
     "data": {
      "text/plain": [
       "[1, 2, 3, 4, 5, 6]"
      ]
     },
     "execution_count": 17,
     "metadata": {},
     "output_type": "execute_result"
    }
   ],
   "source": [
    "a = [1, 2, 3]\n",
    "b = [4, 5, 6]\n",
    "a + b"
   ]
  },
  {
   "cell_type": "code",
   "execution_count": null,
   "metadata": {
    "colab": {
     "base_uri": "https://localhost:8080/"
    },
    "id": "7hDHzkmfKW0V",
    "outputId": "79dc8db6-c866-495c-bc24-7d141010afe3"
   },
   "outputs": [
    {
     "data": {
      "text/plain": [
       "[1, 2, 3, 1, 2, 3]"
      ]
     },
     "execution_count": 18,
     "metadata": {},
     "output_type": "execute_result"
    }
   ],
   "source": [
    "a * 2"
   ]
  },
  {
   "cell_type": "code",
   "execution_count": null,
   "metadata": {
    "colab": {
     "base_uri": "https://localhost:8080/"
    },
    "id": "4AjRe3u8KYdm",
    "outputId": "6b836ebc-0465-45a4-c386-1288f4f7b786"
   },
   "outputs": [
    {
     "data": {
      "text/plain": [
       "1"
      ]
     },
     "execution_count": 19,
     "metadata": {},
     "output_type": "execute_result"
    }
   ],
   "source": [
    "a[0]"
   ]
  },
  {
   "cell_type": "code",
   "execution_count": null,
   "metadata": {
    "colab": {
     "base_uri": "https://localhost:8080/"
    },
    "id": "j_z_WbfBKa1v",
    "outputId": "b0c062fb-f13e-48aa-9cb9-85a7afaa24ba",
    "scrolled": true
   },
   "outputs": [
    {
     "data": {
      "text/plain": [
       "[1, 2]"
      ]
     },
     "execution_count": 20,
     "metadata": {},
     "output_type": "execute_result"
    }
   ],
   "source": [
    "a[0:2]"
   ]
  },
  {
   "cell_type": "markdown",
   "metadata": {
    "id": "pyntb-cCKb7h"
   },
   "source": [
    "## 튜플\n",
    "\n",
    "- 리스트랑 비슷한데 수정 불가"
   ]
  },
  {
   "cell_type": "code",
   "execution_count": null,
   "metadata": {
    "colab": {
     "base_uri": "https://localhost:8080/"
    },
    "id": "cJcMmBVhm_lP",
    "outputId": "e8f6464d-2679-4bec-ef35-36a951d022d3"
   },
   "outputs": [
    {
     "data": {
      "text/plain": [
       "[2, 2, 3]"
      ]
     },
     "execution_count": 1,
     "metadata": {},
     "output_type": "execute_result"
    }
   ],
   "source": [
    "a = [1, 2, 3]\n",
    "a[0] = 2\n",
    "a"
   ]
  },
  {
   "cell_type": "code",
   "execution_count": null,
   "metadata": {
    "colab": {
     "base_uri": "https://localhost:8080/"
    },
    "id": "gO8w4FXwnF4k",
    "outputId": "07741ead-a69a-482b-990e-06db7479133f"
   },
   "outputs": [
    {
     "data": {
      "text/plain": [
       "(1, 2, 3)"
      ]
     },
     "execution_count": 2,
     "metadata": {},
     "output_type": "execute_result"
    }
   ],
   "source": [
    "a = (1, 2, 3)\n",
    "a"
   ]
  },
  {
   "cell_type": "code",
   "execution_count": null,
   "metadata": {
    "colab": {
     "base_uri": "https://localhost:8080/",
     "height": 174
    },
    "id": "xbT3d_-pnIAY",
    "outputId": "ad92e476-fdec-4b60-8149-3d8696b1621b"
   },
   "outputs": [
    {
     "ename": "TypeError",
     "evalue": "ignored",
     "output_type": "error",
     "traceback": [
      "\u001b[0;31m---------------------------------------------------------------------------\u001b[0m",
      "\u001b[0;31mTypeError\u001b[0m                                 Traceback (most recent call last)",
      "\u001b[0;32m<ipython-input-3-fa1ba3f7cc8f>\u001b[0m in \u001b[0;36m<module>\u001b[0;34m()\u001b[0m\n\u001b[0;32m----> 1\u001b[0;31m \u001b[0ma\u001b[0m\u001b[0;34m[\u001b[0m\u001b[0;36m0\u001b[0m\u001b[0;34m]\u001b[0m \u001b[0;34m=\u001b[0m \u001b[0;36m2\u001b[0m\u001b[0;34m\u001b[0m\u001b[0;34m\u001b[0m\u001b[0m\n\u001b[0m",
      "\u001b[0;31mTypeError\u001b[0m: 'tuple' object does not support item assignment"
     ]
    }
   ],
   "source": [
    "a[0] = 2"
   ]
  },
  {
   "cell_type": "markdown",
   "metadata": {
    "id": "915s_YzenMEe"
   },
   "source": [
    "## 딕셔너리\n",
    "\n",
    "- key와 value로 구성된 자료형"
   ]
  },
  {
   "cell_type": "code",
   "execution_count": null,
   "metadata": {
    "colab": {
     "base_uri": "https://localhost:8080/"
    },
    "id": "20vMSKvknRUw",
    "outputId": "4d889cd1-7c18-4d50-b3b4-d0b22d02a33d"
   },
   "outputs": [
    {
     "data": {
      "text/plain": [
       "{1: '정성문', 2: '김세상'}"
      ]
     },
     "execution_count": 4,
     "metadata": {},
     "output_type": "execute_result"
    }
   ],
   "source": [
    "a = {1: \"정성문\", 2: \"김세상\"}\n",
    "a"
   ]
  },
  {
   "cell_type": "code",
   "execution_count": null,
   "metadata": {
    "colab": {
     "base_uri": "https://localhost:8080/",
     "height": 35
    },
    "id": "TPFkCmlXnam5",
    "outputId": "36d7c8c5-85e7-4305-87eb-86f64747e0b7"
   },
   "outputs": [
    {
     "data": {
      "application/vnd.google.colaboratory.intrinsic+json": {
       "type": "string"
      },
      "text/plain": [
       "'김세상'"
      ]
     },
     "execution_count": 6,
     "metadata": {},
     "output_type": "execute_result"
    }
   ],
   "source": [
    "a[2]"
   ]
  },
  {
   "cell_type": "code",
   "execution_count": null,
   "metadata": {
    "colab": {
     "base_uri": "https://localhost:8080/"
    },
    "id": "ddLuKoHOncj8",
    "outputId": "1c55393e-0259-42cc-8b6d-a0340a6c586d"
   },
   "outputs": [
    {
     "data": {
      "text/plain": [
       "{1: '정성문', 2: '김상세'}"
      ]
     },
     "execution_count": 7,
     "metadata": {},
     "output_type": "execute_result"
    }
   ],
   "source": [
    "a[2] = \"김상세\"\n",
    "a"
   ]
  },
  {
   "cell_type": "markdown",
   "metadata": {
    "id": "HjFpS0sLnpkg"
   },
   "source": [
    "### 딕셔너리 함수\n",
    "\n",
    "- keys\n",
    "- values\n",
    "- items"
   ]
  },
  {
   "cell_type": "code",
   "execution_count": null,
   "metadata": {
    "colab": {
     "base_uri": "https://localhost:8080/"
    },
    "id": "JTF-0AB3nwLB",
    "outputId": "bdb8a40b-86ab-45ed-d1cf-4702d3acbfdb"
   },
   "outputs": [
    {
     "data": {
      "text/plain": [
       "dict_keys([1, 2])"
      ]
     },
     "execution_count": 9,
     "metadata": {},
     "output_type": "execute_result"
    }
   ],
   "source": [
    "a.keys()"
   ]
  },
  {
   "cell_type": "code",
   "execution_count": null,
   "metadata": {
    "colab": {
     "base_uri": "https://localhost:8080/"
    },
    "id": "Y5fTMUIWn1Bk",
    "outputId": "f90d088d-e9ab-432e-c06e-d9070fb675c9"
   },
   "outputs": [
    {
     "data": {
      "text/plain": [
       "dict_values(['정성문', '김상세'])"
      ]
     },
     "execution_count": 10,
     "metadata": {},
     "output_type": "execute_result"
    }
   ],
   "source": [
    "a.values()"
   ]
  },
  {
   "cell_type": "code",
   "execution_count": null,
   "metadata": {
    "colab": {
     "base_uri": "https://localhost:8080/"
    },
    "id": "wAg35UU6n2CB",
    "outputId": "e8ec1c62-9095-4e88-e6c0-abd688108604"
   },
   "outputs": [
    {
     "data": {
      "text/plain": [
       "dict_items([(1, '정성문'), (2, '김상세')])"
      ]
     },
     "execution_count": 11,
     "metadata": {},
     "output_type": "execute_result"
    }
   ],
   "source": [
    "a.items()"
   ]
  },
  {
   "cell_type": "markdown",
   "metadata": {
    "id": "u_-GpISpn-H-"
   },
   "source": [
    "## 집합\n",
    "\n",
    "- set\n",
    "- 중복X\n",
    "- 순서X"
   ]
  },
  {
   "cell_type": "code",
   "execution_count": null,
   "metadata": {
    "colab": {
     "base_uri": "https://localhost:8080/"
    },
    "id": "WaBgnZM6oFuR",
    "outputId": "7c570d51-f3fb-43a1-b29e-d1c316ac751d"
   },
   "outputs": [
    {
     "data": {
      "text/plain": [
       "{'e', 'h', 'l', 'o'}"
      ]
     },
     "execution_count": 12,
     "metadata": {},
     "output_type": "execute_result"
    }
   ],
   "source": [
    "a = set(\"hello\")\n",
    "a"
   ]
  },
  {
   "cell_type": "code",
   "execution_count": null,
   "metadata": {
    "colab": {
     "base_uri": "https://localhost:8080/"
    },
    "id": "_unldrvMoJMA",
    "outputId": "4202e85b-006e-4cea-ff14-8a2d30cdcef0"
   },
   "outputs": [
    {
     "data": {
      "text/plain": [
       "{1, 2, 3, 4, 5, 6}"
      ]
     },
     "execution_count": 13,
     "metadata": {},
     "output_type": "execute_result"
    }
   ],
   "source": [
    "a = set([1, 2, 3, 4, 5, 6])\n",
    "b = set([2, 4, 6])\n",
    "a"
   ]
  },
  {
   "cell_type": "markdown",
   "metadata": {
    "id": "gK3xcxEjoaHY"
   },
   "source": [
    "### 집합 연산\n",
    "\n",
    "- 교집합\n",
    "- 합집합\n",
    "- 차집합"
   ]
  },
  {
   "cell_type": "code",
   "execution_count": null,
   "metadata": {
    "colab": {
     "base_uri": "https://localhost:8080/"
    },
    "id": "uyKc4I8AoXvD",
    "outputId": "97ac1e40-e09d-4918-f9b4-5302763fed2e"
   },
   "outputs": [
    {
     "data": {
      "text/plain": [
       "{2, 4, 6}"
      ]
     },
     "execution_count": 14,
     "metadata": {},
     "output_type": "execute_result"
    }
   ],
   "source": [
    "a & b"
   ]
  },
  {
   "cell_type": "code",
   "execution_count": null,
   "metadata": {
    "colab": {
     "base_uri": "https://localhost:8080/"
    },
    "id": "QCkiuIh_ogbK",
    "outputId": "70abd658-585d-4da4-a9b3-4086c0c387b9"
   },
   "outputs": [
    {
     "data": {
      "text/plain": [
       "{1, 2, 3, 4, 5, 6}"
      ]
     },
     "execution_count": 15,
     "metadata": {},
     "output_type": "execute_result"
    }
   ],
   "source": [
    "a | b"
   ]
  },
  {
   "cell_type": "code",
   "execution_count": null,
   "metadata": {
    "colab": {
     "base_uri": "https://localhost:8080/"
    },
    "id": "UYcoiZKkoh4I",
    "outputId": "03c56312-1a1a-4e67-da46-bd6a58201555"
   },
   "outputs": [
    {
     "data": {
      "text/plain": [
       "{1, 3, 5}"
      ]
     },
     "execution_count": 16,
     "metadata": {},
     "output_type": "execute_result"
    }
   ],
   "source": [
    "a - b"
   ]
  },
  {
   "cell_type": "markdown",
   "metadata": {
    "id": "CUBXsmuyGqNT"
   },
   "source": [
    "## *불(bool)\n",
    "\n",
    "불(bool)이란 참(True)과 거짓(False)을 나타내는 자료형이다. 불은  'True - 참', 'False - 거짓' 2가지 값만을 가질 수 있다."
   ]
  },
  {
   "cell_type": "code",
   "execution_count": null,
   "metadata": {
    "id": "5dvs6F8IGqNT"
   },
   "outputs": [],
   "source": [
    "a = True\n",
    "b = False"
   ]
  },
  {
   "cell_type": "code",
   "execution_count": null,
   "metadata": {
    "id": "oxK4RbYqGqNU",
    "outputId": "d334f2be-90f3-4540-9b7e-96e09947678f"
   },
   "outputs": [
    {
     "name": "stdout",
     "output_type": "stream",
     "text": [
      "<class 'bool'>\n",
      "<class 'bool'>\n"
     ]
    }
   ],
   "source": [
    "print(type(a))\n",
    "print(type(b))"
   ]
  },
  {
   "cell_type": "markdown",
   "metadata": {
    "id": "y-UpfBYjGqNU"
   },
   "source": [
    "### 불 조건문\n",
    "\n",
    "불 자료형은 조건문의 반환 값으로도 사용"
   ]
  },
  {
   "cell_type": "code",
   "execution_count": null,
   "metadata": {
    "id": "Q2W-SoO_GqNU",
    "outputId": "a1cc9790-b3f7-43a3-f012-acfc736ebae0"
   },
   "outputs": [
    {
     "data": {
      "text/plain": [
       "True"
      ]
     },
     "execution_count": 33,
     "metadata": {},
     "output_type": "execute_result"
    }
   ],
   "source": [
    "1 == 1"
   ]
  },
  {
   "cell_type": "code",
   "execution_count": null,
   "metadata": {
    "id": "c3mgHp17GqNU",
    "outputId": "e010db37-9aaa-4665-85f4-37b93019dfae"
   },
   "outputs": [
    {
     "data": {
      "text/plain": [
       "False"
      ]
     },
     "execution_count": 35,
     "metadata": {},
     "output_type": "execute_result"
    }
   ],
   "source": [
    "2 < 1"
   ]
  },
  {
   "cell_type": "markdown",
   "metadata": {
    "id": "sWZesrElGqNV"
   },
   "source": [
    "if문에서는 조건이 True 일 때 조건이 성립"
   ]
  },
  {
   "cell_type": "code",
   "execution_count": null,
   "metadata": {
    "id": "1x87wZgNGqNV",
    "outputId": "e3c17552-162e-48ad-be1c-3142756e7ea7"
   },
   "outputs": [
    {
     "name": "stdout",
     "output_type": "stream",
     "text": [
      "참\n"
     ]
    }
   ],
   "source": [
    "if a:  ##True\n",
    "    print(\"참\")"
   ]
  },
  {
   "cell_type": "code",
   "execution_count": null,
   "metadata": {
    "id": "O7i2FYAgGqNV"
   },
   "outputs": [],
   "source": [
    "if b:  ##False\n",
    "    print(\"거짓\")"
   ]
  },
  {
   "cell_type": "markdown",
   "metadata": {
    "id": "O_-I3pJ6GqNV"
   },
   "source": [
    "### 자료형에 참과 거짓\n",
    "\n",
    "문자열, 리스트, 튜플, 딕셔너리 등의 값이 비어 있으면(\" \", [ ], ( ), { }) 거짓"
   ]
  },
  {
   "cell_type": "code",
   "execution_count": null,
   "metadata": {
    "id": "IRI2PCMrGqNV",
    "outputId": "7c219743-f521-455a-dd17-c6eca208c866"
   },
   "outputs": [
    {
     "data": {
      "text/plain": [
       "False"
      ]
     },
     "execution_count": 51,
     "metadata": {},
     "output_type": "execute_result"
    }
   ],
   "source": [
    "bool([])"
   ]
  },
  {
   "cell_type": "code",
   "execution_count": null,
   "metadata": {
    "id": "S9kh9ONOGqNV",
    "outputId": "8d2ca588-0b3c-4aa2-d13c-311b251b65d3"
   },
   "outputs": [
    {
     "data": {
      "text/plain": [
       "True"
      ]
     },
     "execution_count": 52,
     "metadata": {},
     "output_type": "execute_result"
    }
   ],
   "source": [
    "bool([\"123\"])"
   ]
  },
  {
   "cell_type": "markdown",
   "metadata": {
    "id": "C6JuAJFcpZaT"
   },
   "source": [
    "## 연습문제"
   ]
  },
  {
   "cell_type": "markdown",
   "metadata": {
    "id": "Iej5e2BDGqNW"
   },
   "source": [
    "### 주어진 딕셔너리에 다음과 같은 지시를 따르시오"
   ]
  },
  {
   "cell_type": "code",
   "execution_count": null,
   "metadata": {
    "id": "XjaNe_lnGqNW"
   },
   "outputs": [],
   "source": [
    "students = {\"이지은\": 100, \"강동원\": 95, \"송강호\": 90, \"배두나\": 85, \"이주영\": 95}"
   ]
  },
  {
   "cell_type": "markdown",
   "metadata": {
    "id": "5PyV-W-hGqNW"
   },
   "source": [
    "### 문제1\n",
    "\n",
    "1. 딕셔너리에서 점수를 리스트로 출력하시오.\n",
    "2. 집합을 이용하여 중복값을 제거해 보시오."
   ]
  },
  {
   "cell_type": "code",
   "execution_count": null,
   "metadata": {
    "id": "SCi22NBFGqNW",
    "outputId": "fd0d6051-86c1-4675-d582-8f2099a3a456"
   },
   "outputs": [
    {
     "name": "stdout",
     "output_type": "stream",
     "text": [
      "1번 : [100, 95, 90, 85, 95]\n",
      "2번 : {90, 100, 85, 95}\n"
     ]
    }
   ],
   "source": [
    "print(\"1번 :\", list(students.values()))\n",
    "print(\"2번 :\", set(students.values()))"
   ]
  },
  {
   "cell_type": "markdown",
   "metadata": {
    "id": "RQ4QhSHRGqNX"
   },
   "source": [
    "### 문제2\n",
    "\n",
    "1. 이지은 학생의 점수를 문자열 'A+'으로 바꾸시오.\n",
    "2. items() 함수를 이용하여 딕셔너리를 확인하시오"
   ]
  },
  {
   "cell_type": "code",
   "execution_count": null,
   "metadata": {
    "id": "pL1Hup7NGqNX",
    "outputId": "f234a8ff-ea3a-4790-ef79-8ded81c1036f"
   },
   "outputs": [
    {
     "data": {
      "text/plain": [
       "dict_items([('이지은', 'A+'), ('강동원', 95), ('송강호', 90), ('배두나', 85), ('이주영', 95)])"
      ]
     },
     "execution_count": 19,
     "metadata": {},
     "output_type": "execute_result"
    }
   ],
   "source": [
    "students[\"이지은\"] = \"A+\"\n",
    "students.items()"
   ]
  }
 ],
 "metadata": {
  "colab": {
   "collapsed_sections": [],
   "name": "1주차_2_파이썬자료형.ipynb",
   "provenance": []
  },
  "kernelspec": {
   "display_name": "Python 3",
   "language": "python",
   "name": "python3"
  },
  "language_info": {
   "codemirror_mode": {
    "name": "ipython",
    "version": 3
   },
   "file_extension": ".py",
   "mimetype": "text/x-python",
   "name": "python",
   "nbconvert_exporter": "python",
   "pygments_lexer": "ipython3",
   "version": "3.8.8"
  }
 },
 "nbformat": 4,
 "nbformat_minor": 1
}
