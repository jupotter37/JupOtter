{
 "cells": [
  {
   "cell_type": "markdown",
   "metadata": {},
   "source": [
    "Documentation of ExAc analysis for targeting genetic variants for CRISPR experiments with AlleleAnalyzer."
   ]
  },
  {
   "cell_type": "code",
   "execution_count": 1,
   "metadata": {
    "collapsed": true
   },
   "outputs": [],
   "source": [
    "import pandas as pd\n",
    "import os\n",
    "from pysam import VariantFile\n",
    "import matplotlib.pyplot as plt\n",
    "import seaborn as sns\n",
    "\n",
    "plt.style.use('aa_paper')\n",
    "%matplotlib inline"
   ]
  },
  {
   "cell_type": "markdown",
   "metadata": {
    "collapsed": true
   },
   "source": [
    "# Reformat VCFs in parallel\n",
    "\n",
    "Using a script called `get_gens_df.py` in `AlleleAnalyzer/generate_gens_dfs/get_gens_df.py`, we reformat the ExAc VCF in order to more easily annotate variants for whether they are near or in PAM sites. This is necessary because in ordinary VCF files, variants can have multiple alleles listed on one line, and these need to be split up for annotation based on each individual allele.\n",
    "\n",
    "For the ExAc analysis, we parallelized this process using the BED file of regions where variants were called in the ExAc project, downloaded [here](ftp://ftp.broadinstitute.org/pub/ExAC_release/release0.3/resources/exome_calling_regions.v1.interval_list). These are in human reference genome hg19. This was run in parallel on QB3 at UCSF with the script `reformat_variants_exac.sh`, split into 3 individual scripts to accomodate the large number of jobs (QB3 only accepts submission of up to 100,000 jobs). "
   ]
  },
  {
   "cell_type": "code",
   "execution_count": 6,
   "metadata": {},
   "outputs": [
    {
     "data": {
      "text/html": [
       "<div>\n",
       "<style scoped>\n",
       "    .dataframe tbody tr th:only-of-type {\n",
       "        vertical-align: middle;\n",
       "    }\n",
       "\n",
       "    .dataframe tbody tr th {\n",
       "        vertical-align: top;\n",
       "    }\n",
       "\n",
       "    .dataframe thead th {\n",
       "        text-align: right;\n",
       "    }\n",
       "</style>\n",
       "<table border=\"1\" class=\"dataframe\">\n",
       "  <thead>\n",
       "    <tr style=\"text-align: right;\">\n",
       "      <th></th>\n",
       "      <th>chrom</th>\n",
       "      <th>pos</th>\n",
       "      <th>ref</th>\n",
       "      <th>alt</th>\n",
       "    </tr>\n",
       "  </thead>\n",
       "  <tbody>\n",
       "    <tr>\n",
       "      <th>0</th>\n",
       "      <td>1</td>\n",
       "      <td>13372</td>\n",
       "      <td>G</td>\n",
       "      <td>C</td>\n",
       "    </tr>\n",
       "    <tr>\n",
       "      <th>1</th>\n",
       "      <td>1</td>\n",
       "      <td>13380</td>\n",
       "      <td>C</td>\n",
       "      <td>G</td>\n",
       "    </tr>\n",
       "    <tr>\n",
       "      <th>2</th>\n",
       "      <td>1</td>\n",
       "      <td>13382</td>\n",
       "      <td>C</td>\n",
       "      <td>G</td>\n",
       "    </tr>\n",
       "    <tr>\n",
       "      <th>3</th>\n",
       "      <td>1</td>\n",
       "      <td>13402</td>\n",
       "      <td>G</td>\n",
       "      <td>C</td>\n",
       "    </tr>\n",
       "    <tr>\n",
       "      <th>4</th>\n",
       "      <td>1</td>\n",
       "      <td>13404</td>\n",
       "      <td>G</td>\n",
       "      <td>A</td>\n",
       "    </tr>\n",
       "  </tbody>\n",
       "</table>\n",
       "</div>"
      ],
      "text/plain": [
       "   chrom    pos ref alt\n",
       "0      1  13372   G   C\n",
       "1      1  13380   C   G\n",
       "2      1  13382   C   G\n",
       "3      1  13402   G   C\n",
       "4      1  13404   G   A"
      ]
     },
     "execution_count": 6,
     "metadata": {},
     "output_type": "execute_result"
    }
   ],
   "source": [
    "test.head()"
   ]
  },
  {
   "cell_type": "code",
   "execution_count": 2,
   "metadata": {},
   "outputs": [
    {
     "name": "stderr",
     "output_type": "stream",
     "text": [
      "/pollard/home/kathleen/tools/anaconda3/lib/python3.6/site-packages/IPython/core/interactiveshell.py:2698: DtypeWarning: Columns (0) have mixed types. Specify dtype option on import or set low_memory=False.\n",
      "  interactivity=interactivity, compiler=compiler, result=result)\n"
     ]
    },
    {
     "data": {
      "text/plain": [
       "207798"
      ]
     },
     "execution_count": 2,
     "metadata": {},
     "output_type": "execute_result"
    }
   ],
   "source": [
    "regions = pd.read_csv('dat/exome_calling_regions.v1.interval_list', sep='\\t',\n",
    "                     comment='@', header=None, names=['chrom','start','stop','strand','name'])\n",
    "\n",
    "regions['unique_name'] = 'region' + regions.index.astype(str)\n",
    "\n",
    "# regions[['chrom','start','stop','unique_name']].to_csv('dat/exac_regions.bed',\n",
    "#                                                       sep='\\t', index=False, header=False)\n",
    "\n",
    "len(regions)"
   ]
  },
  {
   "cell_type": "markdown",
   "metadata": {},
   "source": [
    "Check whether the reformatted variant files exist and look OK. All regions should have outputted a file, even if the file is empty. Identify any that didn't complete."
   ]
  },
  {
   "cell_type": "code",
   "execution_count": 3,
   "metadata": {
    "collapsed": true
   },
   "outputs": [],
   "source": [
    "regions['gens_fname'] = '/pollard/data/projects/AlleleAnalyzer_data/exac_data/exac_formatted_variants/' + regions['unique_name'] + '.h5'\n",
    "\n",
    "regions['gens_complete'] = regions['gens_fname'].map(os.path.isfile)\n",
    "\n",
    "# regions.query('~gens_complete')\n",
    "\n",
    "# len(regions.query('~gens_complete'))"
   ]
  },
  {
   "cell_type": "markdown",
   "metadata": {},
   "source": [
    "Some regions didn't complete, likely because of too many variants in one region.\n",
    "Split each of the regions that didn't complete into 1kb chunks, except for the last chunk which will be <1kb to run these more efficiently."
   ]
  },
  {
   "cell_type": "code",
   "execution_count": 30,
   "metadata": {
    "collapsed": true
   },
   "outputs": [],
   "source": [
    "non_completed = []\n",
    "ix_ap = -1\n",
    "for ix, row in regions.query('~gens_complete').iterrows():\n",
    "#     print(row['unique_name'])\n",
    "    counter = 0\n",
    "    for num in range(row['start'], row['stop'], 1000):\n",
    "        counter += 1\n",
    "        if row['stop'] - num < 1000:\n",
    "            ix_ap += 1\n",
    "            to_append = pd.DataFrame({\n",
    "            'chrom':row['chrom'],\n",
    "            'start':num,\n",
    "            'stop':row['stop'],\n",
    "            'strand':row['strand'],\n",
    "            'name':f'{row[\"name\"]}',\n",
    "            'unique_name':f'{row[\"unique_name\"]}.{counter}'\n",
    "                                 }, index=[ix_ap])\n",
    "            non_completed.append(to_append)\n",
    "        else:\n",
    "            ix_ap += 1\n",
    "            to_append = pd.DataFrame({\n",
    "            'chrom':row['chrom'],\n",
    "            'start':num,\n",
    "            'stop':num + 1000,\n",
    "            'strand':row['strand'],\n",
    "            'name':f'{row[\"name\"]}',\n",
    "            'unique_name':f'{row[\"unique_name\"]}.{counter}'\n",
    "                                 }, index=[ix_ap])\n",
    "            non_completed.append(to_append)\n",
    "\n",
    "# concatenate the subsetted regions for the regions that didn't complete into one dataframe\n",
    "non_comp_df = pd.concat(non_completed)\n",
    "\n",
    "# save this data to a file for reference\n",
    "# non_comp_df.to_csv('dat/exac_non_comp_regions_for_gens.tsv', sep='\\t')"
   ]
  },
  {
   "cell_type": "markdown",
   "metadata": {},
   "source": [
    "Identify the number of regions in order to determine how many jobs to run on QB3"
   ]
  },
  {
   "cell_type": "code",
   "execution_count": 52,
   "metadata": {},
   "outputs": [
    {
     "data": {
      "text/plain": [
       "69"
      ]
     },
     "execution_count": 52,
     "metadata": {},
     "output_type": "execute_result"
    }
   ],
   "source": [
    "len(non_comp_df)"
   ]
  },
  {
   "cell_type": "markdown",
   "metadata": {},
   "source": [
    "Save a BED file in order to run these regions for reformatting."
   ]
  },
  {
   "cell_type": "code",
   "execution_count": 51,
   "metadata": {
    "collapsed": true
   },
   "outputs": [],
   "source": [
    "# non_comp_df[['chrom','start','stop','unique_name']].to_csv('dat/exac_non_comp_regions_for_gens.bed',\n",
    "#                                                           sep='\\t', index=False, header=False)"
   ]
  },
  {
   "cell_type": "markdown",
   "metadata": {},
   "source": [
    "Get list of filenames for subsetted regions of those that didn't complete in order to rerun these, and save them to a file"
   ]
  },
  {
   "cell_type": "code",
   "execution_count": 5,
   "metadata": {
    "collapsed": true
   },
   "outputs": [],
   "source": [
    "nc_2 = pd.read_csv('dat/exac_non_comp_regions_for_gens.tsv', sep='\\t',\n",
    "                  index_col=0)\n",
    "\n",
    "nc_unique = nc_2['unique_name'].tolist()\n",
    "\n",
    "# with open('dat/regions_nc.txt','w') as f:\n",
    "#     for region in nc_unique:\n",
    "#         f.write(region + '\\n')"
   ]
  },
  {
   "cell_type": "code",
   "execution_count": 24,
   "metadata": {
    "collapsed": true
   },
   "outputs": [],
   "source": [
    "nc_unique_fnames = regions.query('unique_name in @nc_unique')['gens_fname'].tolist()\n",
    "\n",
    "# with open('dat/non_completed_fnames.txt','w') as f:\n",
    "#     for fname in nc_unique_fnames:\n",
    "#         f.write(fname + '\\n')"
   ]
  },
  {
   "cell_type": "markdown",
   "metadata": {},
   "source": [
    "Make sure all the regions completed, now that the troublesome regions were subsetted."
   ]
  },
  {
   "cell_type": "code",
   "execution_count": 6,
   "metadata": {
    "collapsed": true
   },
   "outputs": [],
   "source": [
    "non_complete = pd.read_csv('dat/exac_regions_rerun.bed',sep='\\t',\n",
    "                          header=None, names=['chrom','start','stop','unique_name'])\n",
    "\n",
    "non_completed_unique = non_complete['unique_name'].tolist()\n",
    "\n",
    "# make new regions dataframe merging the original regions that completed with the subsetted versions\n",
    "# of the regions that did not"
   ]
  },
  {
   "cell_type": "code",
   "execution_count": 7,
   "metadata": {},
   "outputs": [
    {
     "name": "stderr",
     "output_type": "stream",
     "text": [
      "/pollard/home/kathleen/tools/anaconda3/lib/python3.6/site-packages/ipykernel/__main__.py:2: FutureWarning: Sorting because non-concatenation axis is not aligned. A future version\n",
      "of pandas will change to not sort by default.\n",
      "\n",
      "To accept the future behavior, pass 'sort=False'.\n",
      "\n",
      "To retain the current behavior and silence the warning, pass 'sort=True'.\n",
      "\n",
      "  from ipykernel import kernelapp as app\n"
     ]
    },
    {
     "data": {
      "text/html": [
       "<div>\n",
       "<style scoped>\n",
       "    .dataframe tbody tr th:only-of-type {\n",
       "        vertical-align: middle;\n",
       "    }\n",
       "\n",
       "    .dataframe tbody tr th {\n",
       "        vertical-align: top;\n",
       "    }\n",
       "\n",
       "    .dataframe thead th {\n",
       "        text-align: right;\n",
       "    }\n",
       "</style>\n",
       "<table border=\"1\" class=\"dataframe\">\n",
       "  <thead>\n",
       "    <tr style=\"text-align: right;\">\n",
       "      <th></th>\n",
       "      <th>chrom</th>\n",
       "      <th>gens_complete</th>\n",
       "      <th>gens_fname</th>\n",
       "      <th>name</th>\n",
       "      <th>start</th>\n",
       "      <th>stop</th>\n",
       "      <th>strand</th>\n",
       "      <th>unique_name</th>\n",
       "    </tr>\n",
       "  </thead>\n",
       "  <tbody>\n",
       "  </tbody>\n",
       "</table>\n",
       "</div>"
      ],
      "text/plain": [
       "Empty DataFrame\n",
       "Columns: [chrom, gens_complete, gens_fname, name, start, stop, strand, unique_name]\n",
       "Index: []"
      ]
     },
     "execution_count": 7,
     "metadata": {},
     "output_type": "execute_result"
    }
   ],
   "source": [
    "regions = pd.concat([regions.query('unique_name not in @non_completed_unique'),\n",
    "                       nc_2])\n",
    "\n",
    "regions['gens_fname'] = '/pollard/data/projects/AlleleAnalyzer_data/exac_data/exac_formatted_variants/' + regions['unique_name'] + '.h5'\n",
    "\n",
    "regions['gens_complete'] = regions['gens_fname'].map(os.path.isfile)\n",
    "\n",
    "regions.query('~gens_complete')"
   ]
  },
  {
   "cell_type": "code",
   "execution_count": 8,
   "metadata": {},
   "outputs": [
    {
     "data": {
      "text/plain": [
       "0"
      ]
     },
     "execution_count": 8,
     "metadata": {},
     "output_type": "execute_result"
    }
   ],
   "source": [
    "len(regions.query('~gens_complete'))"
   ]
  },
  {
   "cell_type": "markdown",
   "metadata": {},
   "source": [
    "# Annotate variants in parallel\n",
    "\n",
    "Using a script called `annot_variants.py` in `AlleleAnalyzer/preprocessing/annotate_variants/`, we annotate variants for whether they are near or in PAM sites. \n",
    "\n",
    "For the ExAc analysis, we parallelized this process using the BED file of regions where variants were called in the ExAc project, downloaded [here](ftp://ftp.broadinstitute.org/pub/ExAC_release/release0.3/resources/exome_calling_regions.v1.interval_list). These are in human reference genome hg19. This was run in parallel on QB3 at UCSF with the script `annotate_variants_exac.sh`, split into 3 individual scripts to accomodate the large number of jobs (QB3 only accepts submission of up to 100,000 jobs per script). For ther regions identified above that had to be subsetted, they were run with the script `annotate_variants_exac_rerun.sh`."
   ]
  },
  {
   "cell_type": "code",
   "execution_count": 12,
   "metadata": {
    "collapsed": true
   },
   "outputs": [],
   "source": [
    "# regions['annots_fname'] = '/pollard/data/projects/AlleleAnalyzer_data/exac_data/exac_annotated_variants/' + \\\n",
    "# regions['unique_name'] + '.h5'\n",
    "# regions['annots_file_exists'] = regions['annots_fname'].map(os.path.isfile)\n",
    "\n",
    "# regions.to_csv('dat/exac_regions_w_filenames.tsv', sep='\\t', index=False)"
   ]
  },
  {
   "cell_type": "code",
   "execution_count": null,
   "metadata": {
    "collapsed": true
   },
   "outputs": [],
   "source": [
    "regions = pd.read_csv('dat/exac_regions_w_filenames.tsv', sep='\\t')\n",
    "\n",
    "regions['chrom'] = regions['chrom'].astype(str)\n",
    "\n",
    "for chrom in list(range(1,23)) + ['X','Y']:\n",
    "    chrom = str(chrom)\n",
    "#     regions.query('(chrom == @chrom) and (annots_file_exists)').to_csv(f'/pollard/data/projects/AlleleAnalyzer_data/exac_data/exac_regions_by_chrom/chr{chrom}_regions.tsv',\n",
    "#                                           sep='\\t', index=False)"
   ]
  },
  {
   "cell_type": "markdown",
   "metadata": {},
   "source": [
    "Identify whether an annotation file was generated for the region in question. Not all regions will have files - if there were no variants, no file will be generated."
   ]
  },
  {
   "cell_type": "code",
   "execution_count": 36,
   "metadata": {},
   "outputs": [
    {
     "data": {
      "text/plain": [
       "7278"
      ]
     },
     "execution_count": 36,
     "metadata": {},
     "output_type": "execute_result"
    }
   ],
   "source": [
    "len(regions.query('~annots_file_exists'))"
   ]
  },
  {
   "cell_type": "markdown",
   "metadata": {},
   "source": [
    "Check the number of variants in each region, and make sure it agrees with the BCF. (Error and sanity checking)"
   ]
  },
  {
   "cell_type": "code",
   "execution_count": 40,
   "metadata": {
    "collapsed": true
   },
   "outputs": [],
   "source": [
    "n_vars_bcf = []\n",
    "n_vars_annots = []"
   ]
  },
  {
   "cell_type": "code",
   "execution_count": 41,
   "metadata": {
    "collapsed": true
   },
   "outputs": [],
   "source": [
    "bcf_in = VariantFile('/pollard/data/genetics/ExAc/ExAC.r1.sites.vep.vcf.gz')"
   ]
  },
  {
   "cell_type": "code",
   "execution_count": 46,
   "metadata": {
    "collapsed": true
   },
   "outputs": [],
   "source": [
    "bcfin = bcf_in.fetch('1',13354,13689)"
   ]
  },
  {
   "cell_type": "code",
   "execution_count": 42,
   "metadata": {
    "collapsed": true
   },
   "outputs": [],
   "source": [
    "def n_vars(region):\n",
    "    counter = 0\n",
    "    for var in region:\n",
    "        counter += 1\n",
    "    return counter"
   ]
  },
  {
   "cell_type": "markdown",
   "metadata": {},
   "source": [
    "Check to make sure numbers of variants in BCF and annotation files are similar. Annotation files will have more variants due to separating multi-allelic sites."
   ]
  },
  {
   "cell_type": "code",
   "execution_count": 68,
   "metadata": {
    "collapsed": true
   },
   "outputs": [],
   "source": [
    "n_vars_bcf = []\n",
    "n_vars_annots = []\n",
    "\n",
    "for ix, row in regions.tail(20).iterrows():\n",
    "    var_info = bcf_in.fetch(str(row['chrom']), row['start'], row['stop'])\n",
    "    n_vars_bcf_ = n_vars(var_info)\n",
    "    n_vars_bcf.append(n_vars_bcf_)\n",
    "#     print(row['annots_fname'])\n",
    "    if n_vars_bcf_ == 0:\n",
    "        n_vars_annots.append(0)\n",
    "    elif os.path.isfile(row['annots_fname']) == False:\n",
    "        n_vars_annots.append('no file')\n",
    "    else:\n",
    "        df = pd.read_hdf(row['annots_fname'])\n",
    "        n_vars_annots.append(len(df))\n",
    "        \n",
    "# regions['n_vars_bcf'] = n_vars_bcf\n",
    "# regions['n_vars_annots'] = n_vars_annots"
   ]
  },
  {
   "cell_type": "markdown",
   "metadata": {
    "collapsed": true
   },
   "source": [
    "# Compile and plot results of variant annotation\n",
    "\n"
   ]
  },
  {
   "cell_type": "markdown",
   "metadata": {},
   "source": [
    "The aggregation was done using the script `merge_annots_exac_parallel.sh` and `merge_annotations_exac.py`. Compilation of data into summary stats was done with `reformat_annots_exac.py`."
   ]
  },
  {
   "cell_type": "code",
   "execution_count": 5,
   "metadata": {
    "collapsed": true
   },
   "outputs": [],
   "source": [
    "plotdf = pd.read_csv('dat/vars_near_in_df.tsv', sep='\\t',\n",
    "                    header=0, names=['cas','in PAM','near PAM','both'])"
   ]
  },
  {
   "cell_type": "code",
   "execution_count": 64,
   "metadata": {},
   "outputs": [
    {
     "data": {
      "text/plain": [
       "<matplotlib.text.Text at 0x7fe0b88af668>"
      ]
     },
     "execution_count": 64,
     "metadata": {},
     "output_type": "execute_result"
    },
    {
     "data": {
      "image/png": "[encoded data removed]",
      "text/plain": [
       "<matplotlib.figure.Figure at 0x7fe0b8b19a90>"
      ]
     },
     "metadata": {},
     "output_type": "display_data"
    }
   ],
   "source": [
    "cas_dict={\n",
    "    'SpCas9':'SpCas9',\n",
    "    'SpCas9_VRER':'SpCas9-V1',\n",
    "    'SpCas9_EQR':'SpCas9-V2',\n",
    "    'SpCas9_VQR':'SpCas9-V3',\n",
    "    'SpCas9_VQR_1':'SpCas9-V3',\n",
    "    'SpCas9_VQR_2':'SpCas9-V3',\n",
    "    'StCas9_1':'StCas9-V1',\n",
    "    'StCas9_2':'StCas9-V2',\n",
    "    'SaCas9':'SaCas9',\n",
    "    'SaCas9_KKH':'SaCas9-V1',\n",
    "    'nmCas9':'nmCas9',\n",
    "    'cpf1':'cpf1',\n",
    "    'StCas9_1':'StCas9-V1',\n",
    "    'StCas9_2':'StCas9-V2',\n",
    "    'cjCas9':'cjCas9'\n",
    "}\n",
    "\n",
    "# load pre-compiled data\n",
    "plotdf = pd.read_csv('dat/vars_near_in_df.tsv', sep='\\t',\n",
    "                    header=0, names=['cas','in PAM','near PAM','both'])\n",
    "\n",
    "#sort by total variants that generate allele-specific PAM site\n",
    "plotdf['total'] = plotdf[['in PAM','near PAM','both']].sum(axis=1)\n",
    "plotdf['Cas'] = plotdf['cas'].replace(cas_dict)\n",
    "plotdf = plotdf.query('total > 0.0')\n",
    "\n",
    "plotdf = plotdf.sort_values(by='total')\n",
    "\n",
    "# munge for plotting\n",
    "plotdf.index = plotdf['Cas']\n",
    "\n",
    "plotdf = plotdf[['both','in PAM','near PAM']]\n",
    "plotdf = plotdf.multiply(100.0)\n",
    "\n",
    "plotdf.plot.bar(stacked='True', color=sns.color_palette('Dark2'), figsize=(8,2))\n",
    "plt.legend(bbox_to_anchor=(1.0, 0.5))\n",
    "# tickfont=16\n",
    "plt.legend(bbox_to_anchor=(1.0, 0.9))\n",
    "plt.xticks(rotation=45)\n",
    "# labelfont = 18\n",
    "plt.ylabel('% variants')\n",
    "plt.xlabel('Cas variety')\n",
    "plt.title('Variants in or near PAMs')\n",
    "# plt.savefig('figures/fig_1b.pdf', dpi=300, bbox_inches='tight')"
   ]
  },
  {
   "cell_type": "code",
   "execution_count": 14,
   "metadata": {},
   "outputs": [
    {
     "data": {
      "image/png": "[encoded data removed]",
      "text/plain": [
       "<matplotlib.figure.Figure at 0x7f84512009e8>"
      ]
     },
     "metadata": {},
     "output_type": "display_data"
    }
   ],
   "source": [
    "cas_dict={\n",
    "    'SpCas9':'SpCas9',\n",
    "    'SpCas9_VRER':'SpCas9-V1',\n",
    "    'SpCas9_EQR':'SpCas9-V2',\n",
    "    'SpCas9_VQR':'SpCas9-V3',\n",
    "    'SpCas9_VQR_1':'SpCas9-V3',\n",
    "    'SpCas9_VQR_2':'SpCas9-V3',\n",
    "    'StCas9_1':'StCas9-V1',\n",
    "    'StCas9_2':'StCas9-V2',\n",
    "    'SaCas9':'SaCas9',\n",
    "    'SaCas9_KKH':'SaCas9-V1',\n",
    "    'nmCas9':'nmCas9',\n",
    "    'cpf1':'cpf1',\n",
    "    'StCas9_1':'StCas9-V1',\n",
    "    'StCas9_2':'StCas9-V2',\n",
    "    'cjCas9':'cjCas9'\n",
    "}\n",
    "\n",
    "# load pre-compiled data\n",
    "plotdf = pd.read_csv('dat/vars_near_in_df.tsv', sep='\\t',\n",
    "                    header=0, names=['cas','in PAM','near PAM','both'])\n",
    "\n",
    "#sort by total variants that generate allele-specific PAM site\n",
    "plotdf['total'] = plotdf[['in PAM','near PAM','both']].sum(axis=1)\n",
    "plotdf['Cas'] = plotdf['cas'].replace(cas_dict)\n",
    "plotdf = plotdf.query('total > 0.0')\n",
    "\n",
    "plotdf = plotdf.sort_values(by='total')\n",
    "\n",
    "# munge for plotting\n",
    "plotdf.index = plotdf['Cas']\n",
    "\n",
    "plotdf = plotdf[['both','in PAM','near PAM']]\n",
    "plotdf = plotdf.multiply(100.0)\n",
    "\n",
    "p = plotdf.plot(stacked='True', color=sns.color_palette('Dark2'),\n",
    "                figsize=(1.5,1.6), kind='barh')\n",
    "plt.legend(bbox_to_anchor=(1.0, 0.5))\n",
    "# tickfont=16\n",
    "plt.legend(bbox_to_anchor=(1.0, 0.9))\n",
    "plt.xticks(rotation=45)\n",
    "# labelfont = 18\n",
    "plt.ylabel('% variants')\n",
    "plt.xlabel('Cas variety')\n",
    "plt.title('Variants in or near PAMs')\n",
    "p.get_figure().set_size_inches(2.8,2.8)\n",
    "# plt.savefig('figs/exac_bar_test.pdf', dpi=300, bbox_inches='tight')"
   ]
  },
  {
   "cell_type": "code",
   "execution_count": 15,
   "metadata": {},
   "outputs": [
    {
     "data": {
      "text/html": [
       "<div>\n",
       "<style scoped>\n",
       "    .dataframe tbody tr th:only-of-type {\n",
       "        vertical-align: middle;\n",
       "    }\n",
       "\n",
       "    .dataframe tbody tr th {\n",
       "        vertical-align: top;\n",
       "    }\n",
       "\n",
       "    .dataframe thead th {\n",
       "        text-align: right;\n",
       "    }\n",
       "</style>\n",
       "<table border=\"1\" class=\"dataframe\">\n",
       "  <thead>\n",
       "    <tr style=\"text-align: right;\">\n",
       "      <th></th>\n",
       "      <th>both</th>\n",
       "      <th>in PAM</th>\n",
       "      <th>near PAM</th>\n",
       "    </tr>\n",
       "    <tr>\n",
       "      <th>Cas</th>\n",
       "      <th></th>\n",
       "      <th></th>\n",
       "      <th></th>\n",
       "    </tr>\n",
       "  </thead>\n",
       "  <tbody>\n",
       "    <tr>\n",
       "      <th>nmCas9</th>\n",
       "      <td>0.484975</td>\n",
       "      <td>3.012227</td>\n",
       "      <td>8.691649</td>\n",
       "    </tr>\n",
       "    <tr>\n",
       "      <th>StCas9</th>\n",
       "      <td>2.184879</td>\n",
       "      <td>5.256440</td>\n",
       "      <td>19.379040</td>\n",
       "    </tr>\n",
       "    <tr>\n",
       "      <th>SpCas9-V1</th>\n",
       "      <td>6.456245</td>\n",
       "      <td>10.379919</td>\n",
       "      <td>18.918995</td>\n",
       "    </tr>\n",
       "    <tr>\n",
       "      <th>cpf1</th>\n",
       "      <td>7.951556</td>\n",
       "      <td>6.025286</td>\n",
       "      <td>29.618186</td>\n",
       "    </tr>\n",
       "    <tr>\n",
       "      <th>SaCas9</th>\n",
       "      <td>6.338409</td>\n",
       "      <td>8.262185</td>\n",
       "      <td>36.058642</td>\n",
       "    </tr>\n",
       "  </tbody>\n",
       "</table>\n",
       "</div>"
      ],
      "text/plain": [
       "               both     in PAM   near PAM\n",
       "Cas                                      \n",
       "nmCas9     0.484975   3.012227   8.691649\n",
       "StCas9     2.184879   5.256440  19.379040\n",
       "SpCas9-V1  6.456245  10.379919  18.918995\n",
       "cpf1       7.951556   6.025286  29.618186\n",
       "SaCas9     6.338409   8.262185  36.058642"
      ]
     },
     "execution_count": 15,
     "metadata": {},
     "output_type": "execute_result"
    }
   ],
   "source": [
    "plotdf.head()"
   ]
  },
  {
   "cell_type": "code",
   "execution_count": 1,
   "metadata": {},
   "outputs": [
    {
     "ename": "NameError",
     "evalue": "name 'pd' is not defined",
     "output_type": "error",
     "traceback": [
      "\u001b[0;31m---------------------------------------------------------------------------\u001b[0m",
      "\u001b[0;31mNameError\u001b[0m                                 Traceback (most recent call last)",
      "\u001b[0;32m<ipython-input-1-61c63d6bb6c5>\u001b[0m in \u001b[0;36m<module>\u001b[0;34m()\u001b[0m\n\u001b[0;32m----> 1\u001b[0;31m \u001b[0mf\u001b[0m \u001b[0;34m=\u001b[0m \u001b[0mpd\u001b[0m\u001b[0;34m.\u001b[0m\u001b[0mread_hdf\u001b[0m\u001b[0;34m(\u001b[0m\u001b[0;34m'/pollard/data/projects/AlleleAnalyzer_data/1kgp_data/hg19_analysis/1kgp_formatted_variants_by_chrom/chr9_reformatted.h5'\u001b[0m\u001b[0;34m)\u001b[0m\u001b[0;34m\u001b[0m\u001b[0m\n\u001b[0m",
      "\u001b[0;31mNameError\u001b[0m: name 'pd' is not defined"
     ]
    }
   ],
   "source": []
  },
  {
   "cell_type": "code",
   "execution_count": null,
   "metadata": {
    "collapsed": true
   },
   "outputs": [],
   "source": []
  }
 ],
 "metadata": {
  "kernelspec": {
   "display_name": "Python [default]",
   "language": "python",
   "name": "python3"
  },
  "language_info": {
   "codemirror_mode": {
    "name": "ipython",
    "version": 3
   },
   "file_extension": ".py",
   "mimetype": "text/x-python",
   "name": "python",
   "nbconvert_exporter": "python",
   "pygments_lexer": "ipython3",
   "version": "3.6.2"
  },
  "toc": {
   "nav_menu": {},
   "number_sections": true,
   "sideBar": true,
   "skip_h1_title": false,
   "title_cell": "Table of Contents",
   "title_sidebar": "Contents",
   "toc_cell": false,
   "toc_position": {},
   "toc_section_display": true,
   "toc_window_display": false
  }
 },
 "nbformat": 4,
 "nbformat_minor": 2
}
