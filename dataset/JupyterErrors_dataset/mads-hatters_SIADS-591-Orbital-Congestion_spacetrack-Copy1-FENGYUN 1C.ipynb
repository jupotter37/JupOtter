{
 "cells": [
  {
   "cell_type": "markdown",
   "metadata": {},
   "source": [
    "Search satellite by partial satellite name:\n",
    "\n",
    "Create `space-track-credentials.json` from `space-track-credentials_TEMPLATE.json` first\n"
   ]
  },
  {
   "cell_type": "code",
   "execution_count": 1,
   "metadata": {},
   "outputs": [],
   "source": [
    "import requests\n",
    "import pandas as pd\n",
    "import os.path\n",
    "import urllib\n",
    "import json"
   ]
  },
  {
   "cell_type": "code",
   "execution_count": 2,
   "metadata": {},
   "outputs": [],
   "source": [
    "# specific satellite name for the rest of this file for convenience\n",
    "# we search by LIKE so partial match works\n",
    "\n",
    "# satellite_name = \"MICROSAT-R\"\n",
    "# satellite_name = \"USA 193\"\n",
    "satellite_name = \"FENGYUN 1C\"\n",
    "# satellite_name = \"METEOR\"\n",
    "DEBUT_FILE_PATH = 'test/satname-debut-{}.csv'\n",
    "GP_HISTORY_FILE_PATH = 'test/satname-gp-history-{}.csv'"
   ]
  },
  {
   "cell_type": "code",
   "execution_count": 3,
   "metadata": {},
   "outputs": [],
   "source": [
    "columns = [\"NORAD_CAT_ID\",\"EPOCH\",\"MEAN_MOTION\",\"ECCENTRICITY\",\"INCLINATION\",\"RA_OF_ASC_NODE\",\"ARG_OF_PERICENTER\",\"MEAN_ANOMALY\",\"EPHEMERIS_TYPE\",\"CLASSIFICATION_TYPE\",\"ELEMENT_SET_NO\",\"REV_AT_EPOCH\",\"BSTAR\",\"MEAN_MOTION_DOT\",\"MEAN_MOTION_DDOT\",\"SEMIMAJOR_AXIS\",\"PERIOD\",\"APOAPSIS\",\"PERIAPSIS\"]"
   ]
  },
  {
   "cell_type": "code",
   "execution_count": 4,
   "metadata": {},
   "outputs": [],
   "source": [
    "if \"auth_cookie\" not in locals():\n",
    "    auth_cookie = None"
   ]
  },
  {
   "cell_type": "code",
   "execution_count": 5,
   "metadata": {},
   "outputs": [],
   "source": [
    "auth_cookie"
   ]
  },
  {
   "cell_type": "code",
   "execution_count": 6,
   "metadata": {},
   "outputs": [],
   "source": [
    "def space_track_login():\n",
    "    with open(\"space-track-credentials.json\") as json_file:\n",
    "        credentials = json.load(json_file)\n",
    "    print(\"Logging in space-track.org with identity:\",credentials['identity'])\n",
    "    url = \"https://www.space-track.org/ajaxauth/login\"\n",
    "    x = requests.post(url, data = credentials)\n",
    "    if x.status_code == 200:\n",
    "        print(\"Logged in\")\n",
    "        return x.cookies\n",
    "    else:\n",
    "        print(\"Failed with code:\",x.status_code)\n",
    "        return False\n",
    "    \n",
    "def get_cookie():\n",
    "    global auth_cookie\n",
    "    if auth_cookie == None:\n",
    "        auth_cookie = space_track_login()\n",
    "    return auth_cookie"
   ]
  },
  {
   "cell_type": "code",
   "execution_count": 29,
   "metadata": {},
   "outputs": [],
   "source": [
    "def get_satellite_debut(satname):\n",
    "    csvurl=\"https://www.space-track.org/basicspacedata/query/class/satcat_debut/SATNAME/~~{}/orderby/INTLDES%20asc/format/csv/metadata/true/\".format(satname)\n",
    "    print(\"Downloading debut for satname LIKE: \",satname,\"\\nURL:\",csvurl)\n",
    "    r = requests.get(csvurl, allow_redirects=True, cookies=get_cookie())\n",
    "    open(DEBUT_FILE_PATH.format(satname), 'wb').write(r.content)\n",
    "    print(\"Saved file:\",DEBUT_FILE_PATH.format(satname))\n",
    "    \n",
    "def get_norad_id_for_satname(satname):\n",
    "    if os.path.exists(DEBUT_FILE_PATH.format(satname)):\n",
    "        print(\"Load from disk:\", DEBUT_FILE_PATH.format(satname))\n",
    "        pass\n",
    "    else:\n",
    "        get_satellite_debut(satname)\n",
    "    df = pd.read_csv(DEBUT_FILE_PATH.format(satname))\n",
    "    return df.NORAD_CAT_ID.values\n",
    "\n",
    "def get_satellite_gp_history(norad_ids,satname):\n",
    "    s = \",\".join([str(x) for x in norad_ids])\n",
    "    csvurl=\"https://www.space-track.org/basicspacedata/query/class/gp_history/NORAD_CAT_ID/{}/orderby/CCSDS_OMM_VERS asc/format/csv/emptyresult/show\".format(s)\n",
    "    print(\"Downloading gp history for satname LIKE: \",satname,\"\\nURL:\",csvurl)\n",
    "    r = requests.get(csvurl, allow_redirects=True, cookies=get_cookie())\n",
    "    open(GP_HISTORY_FILE_PATH.format(satname), 'wb').write(r.content)\n",
    "    print(\"Saved file:\",GP_HISTORY_FILE_PATH.format(satname))\n",
    "    \n",
    "\n"
   ]
  },
  {
   "cell_type": "code",
   "execution_count": 10,
   "metadata": {},
   "outputs": [],
   "source": [
    "# get_satellite_gp_history(get_norad_id_for_satname(satellite_name),satellite_name)"
   ]
  },
  {
   "cell_type": "code",
   "execution_count": 9,
   "metadata": {},
   "outputs": [
    {
     "name": "stdout",
     "output_type": "stream",
     "text": [
      "Load from disk: test/satname-debut-FENGYUN 1C.csv\n"
     ]
    }
   ],
   "source": [
    "s = get_norad_id_for_satname(satellite_name)"
   ]
  },
  {
   "cell_type": "code",
   "execution_count": 35,
   "metadata": {},
   "outputs": [],
   "source": [
    "# df[columns].to_pickle(\"test/satname-gp-history-USA 193.pkl.gz\",\"gzip\")"
   ]
  },
  {
   "cell_type": "code",
   "execution_count": 36,
   "metadata": {},
   "outputs": [],
   "source": [
    "# df2 = pd.read_pickle(\"test/satname-gp-history-USA 193.pkl.gz\",\"gzip\")"
   ]
  },
  {
   "cell_type": "code",
   "execution_count": 13,
   "metadata": {},
   "outputs": [
    {
     "name": "stdout",
     "output_type": "stream",
     "text": [
      "Load from disk: test/satname-debut-FENGYUN 1C.csv\n"
     ]
    },
    {
     "ename": "AttributeError",
     "evalue": "'numpy.ndarray' object has no attribute 'columns'",
     "output_type": "error",
     "traceback": [
      "\u001b[0;31m---------------------------------------------------------------------------\u001b[0m",
      "\u001b[0;31mAttributeError\u001b[0m                            Traceback (most recent call last)",
      "\u001b[0;32m<ipython-input-13-8b9d285bb408>\u001b[0m in \u001b[0;36m<module>\u001b[0;34m\u001b[0m\n\u001b[1;32m      1\u001b[0m \u001b[0ml\u001b[0m \u001b[0;34m=\u001b[0m \u001b[0mget_norad_id_for_satname\u001b[0m\u001b[0;34m(\u001b[0m\u001b[0msatellite_name\u001b[0m\u001b[0;34m)\u001b[0m\u001b[0;34m\u001b[0m\u001b[0;34m\u001b[0m\u001b[0m\n\u001b[1;32m      2\u001b[0m \u001b[0mlen\u001b[0m\u001b[0;34m(\u001b[0m\u001b[0ml\u001b[0m\u001b[0;34m)\u001b[0m\u001b[0;34m\u001b[0m\u001b[0;34m\u001b[0m\u001b[0m\n\u001b[0;32m----> 3\u001b[0;31m \u001b[0ml\u001b[0m\u001b[0;34m.\u001b[0m\u001b[0mcolumns\u001b[0m\u001b[0;34m\u001b[0m\u001b[0;34m\u001b[0m\u001b[0m\n\u001b[0m",
      "\u001b[0;31mAttributeError\u001b[0m: 'numpy.ndarray' object has no attribute 'columns'"
     ]
    }
   ],
   "source": [
    "l = get_norad_id_for_satname(satellite_name)\n",
    "len(l)\n",
    "l.columns"
   ]
  },
  {
   "cell_type": "code",
   "execution_count": 35,
   "metadata": {},
   "outputs": [
    {
     "data": {
      "text/plain": [
       "[array([30337, 30351, 30353, 30354, 30367, 30376, 30378, 30383, 30384,\n",
       "        29739, 30399, 30402, 30407, 30410, 30412, 30421, 30422, 30424,\n",
       "        30430, 30431, 30433, 30440, 30449, 30456, 30457, 30458, 30459,\n",
       "        30460, 30461, 29742, 30463, 30470, 30482]),\n",
       " array([30487, 29743, 30488, 30502, 30511, 29744, 30513, 30517, 30518,\n",
       "        30534, 30535, 29745, 30536, 30537, 30538, 30544, 30551, 30559,\n",
       "        30584, 30592, 29747, 30595, 30598, 30601, 30605, 30610, 30614,\n",
       "        30615, 30617, 30618, 30620, 30626, 30635]),\n",
       " array([30638, 29749, 30643, 30644, 30653, 30681, 30682, 30685, 30687,\n",
       "        30692, 30695, 30698, 30711, 30712, 30713, 29752, 30727, 30729,\n",
       "        30743, 30747, 30748, 30754, 30757, 30767, 30769, 30801, 30807,\n",
       "        30808, 30812, 29755, 30818, 30819, 30824]),\n",
       " array([30825, 30834, 30839, 30842, 30853, 30854, 30855, 30861, 29757,\n",
       "        30864, 30865, 30866, 30869, 30881, 30889, 30890, 30894, 30896,\n",
       "        30897, 30908, 30909, 30910, 30911, 29759, 30917, 30929, 30935,\n",
       "        30939, 30948, 30953, 29761, 30962, 30963]),\n",
       " array([30965, 30968, 30969, 30970, 30980, 30983, 30987, 30990, 30991,\n",
       "        30995, 31004, 31006, 31008, 31011, 31020, 29764, 31034, 31039,\n",
       "        31045, 31050, 31052, 31059, 31061, 31070, 31075, 31076, 31084,\n",
       "        31096, 31145, 31153, 31156, 31164, 31170]),\n",
       " array([29768, 31176, 31184, 31189, 31193, 31200, 31207, 31216, 31221,\n",
       "        31230, 31233, 31245, 31251, 31271, 31276, 31277, 31278, 31280,\n",
       "        31283, 31301, 31315, 31343, 31373, 31375, 29778, 31438, 31454,\n",
       "        31460, 31461, 31469, 31470, 31472, 31479]),\n",
       " array([31489, 31506, 31517, 31525, 31528, 31543, 31549, 31556, 31610,\n",
       "        31621, 31638, 31641, 31645, 31651, 31654, 31669, 31681, 31689,\n",
       "        29787, 31693, 31694, 31697, 31712, 31713, 31728, 31730, 31747,\n",
       "        31748, 31749, 31762, 31785, 31803, 31811]),\n",
       " array([31818, 31822, 31824, 31845, 31846, 31859, 31860, 31884, 31885,\n",
       "        31889, 31894, 31896, 31900, 31907, 31908, 31909, 31918, 31925,\n",
       "        31933, 31936, 31939, 31940, 31941, 31943, 31950, 31951, 31961,\n",
       "        31962, 31967, 31969, 31970, 29797]),\n",
       " array([31975, 31998, 32091, 32100, 29799, 32108, 32121, 32122, 32131,\n",
       "        32135, 32140, 32144, 32145, 32149, 32159, 32196, 32206, 32215,\n",
       "        32229, 32231, 32236, 32237, 32239, 32240, 32244, 32306, 32307,\n",
       "        32309, 32310, 32318, 32321, 32327]),\n",
       " array([32328, 32335, 32341, 32345, 32347, 32348, 32349, 32358, 32359,\n",
       "        32365, 32367, 32413, 32415, 32417, 32420, 32421, 32423, 32424,\n",
       "        32434, 32436, 32439, 32442, 32446, 32452, 32462, 32463, 32465,\n",
       "        33067, 33602, 33604, 33606, 33607]),\n",
       " array([33608, 33609, 33610, 33611, 33615, 33616, 33620, 33626, 33627,\n",
       "        33631, 33634, 33635, 33642, 33649, 33652, 33653, 33654, 33657,\n",
       "        33659, 33662, 33667, 33669, 33670, 33671, 33672, 33685, 33694,\n",
       "        33695, 33696, 33702, 33703, 33705]),\n",
       " array([33712, 33715, 33717, 33725, 33729, 33732, 33742, 33743, 33744,\n",
       "        33746, 35087, 35098, 35100, 35101, 35103, 35106, 35107, 35112,\n",
       "        35113, 35115, 35124, 35126, 35127, 35131, 35132, 35133, 35138,\n",
       "        35143, 35149, 35151, 35157, 35158]),\n",
       " array([35166, 35178, 35179, 35181, 35182, 35184, 35188, 35193, 35197,\n",
       "        35198, 35206, 35209, 35212, 35216, 29822, 35218, 35224, 35228,\n",
       "        35232, 35238, 29823, 35246, 36135, 36151, 29824, 36157, 36158,\n",
       "        36164, 36168, 36171, 36174, 36175]),\n",
       " array([36176, 36178, 36179, 36183, 36185, 36187, 36191, 36193, 36195,\n",
       "        29826, 36201, 36202, 36208, 36210, 36212, 36213, 36215, 36217,\n",
       "        36219, 36220, 36221, 36227, 36233, 36235, 36239, 36245, 36249,\n",
       "        36250, 36251, 36252, 36253, 36256]),\n",
       " array([36264, 36268, 29829, 36275, 36276, 36277, 36282, 36284, 36646,\n",
       "        36649, 36650, 36653, 36655, 29830, 36662, 36666, 36669, 36671,\n",
       "        36673, 36674, 29831, 36683, 36690, 29716, 36704, 36705, 36708,\n",
       "        36709, 36717, 36718, 36720, 36721]),\n",
       " array([36722, 36723, 36725, 36728, 36737, 36740, 36992, 36993, 36998,\n",
       "        37000, 37002, 37010, 37015, 37016, 37020, 37023, 37037, 37039,\n",
       "        37050, 37051, 37063, 29837, 37066, 37071, 37072, 37073, 37074,\n",
       "        37075, 37078, 37407, 29838, 37431]),\n",
       " array([29839, 37446, 37451, 37458, 37459, 37472, 37587, 37599, 37601,\n",
       "        37681, 37709, 37711, 37718, 37720, 37721, 37724, 37916, 37923,\n",
       "        38111, 38112, 38117, 38118, 38128, 38141, 38151, 38152, 38153,\n",
       "        38161, 38167, 38488, 38501, 38509]),\n",
       " array([38719, 38800, 38805, 38830, 39538, 29717, 47105, 29861, 29862,\n",
       "        29863, 29864, 29867, 29879, 29718, 29882, 29883, 29900, 29902,\n",
       "        29719, 29905, 29908, 29910, 29720, 29951, 29721, 29952, 29722,\n",
       "        29981, 29984, 29990, 29995, 29723]),\n",
       " array([30002, 30006, 30011, 30014, 29724, 30027, 30029, 30033, 30034,\n",
       "        30042, 30046, 29725, 30049, 30051, 30055, 29726, 30083, 30084,\n",
       "        30091, 29727, 30100, 29728, 30126, 30130, 29729, 30158, 30159,\n",
       "        30165, 30166, 29730, 30176, 30179]),\n",
       " array([30184, 30185, 30186, 30187, 30188, 30189, 30192, 29731, 30195,\n",
       "        30203, 30204, 30211, 30215, 29732, 30219, 30220, 30223, 30226,\n",
       "        30236, 30240, 30254, 30255, 30258, 30260, 30268, 30269, 30271,\n",
       "        30278, 30285, 30292, 30296, 30307])]"
      ]
     },
     "execution_count": 35,
     "metadata": {},
     "output_type": "execute_result"
    }
   ],
   "source": [
    "df = pd.read_csv(DEBUT_FILE_PATH.format(satellite_name))\n",
    "l2 = df[df.DECAY.notnull()].NORAD_CAT_ID.values\n",
    "l2\n",
    "\n",
    "import numpy as np\n",
    "lll = np.array_split(l2, 20)\n",
    "lll"
   ]
  },
  {
   "cell_type": "code",
   "execution_count": 37,
   "metadata": {},
   "outputs": [
    {
     "name": "stdout",
     "output_type": "stream",
     "text": [
      "Downloading gp history for satname LIKE:  FY_DEB_DECAYED_0 \n",
      "URL: https://www.space-track.org/basicspacedata/query/class/gp_history/NORAD_CAT_ID/30337,30351,30353,30354,30367,30376,30378,30383,30384,29739,30399,30402,30407,30410,30412,30421,30422,30424,30430,30431,30433,30440,30449,30456,30457,30458,30459,30460,30461,29742,30463,30470,30482/orderby/CCSDS_OMM_VERS asc/format/csv/emptyresult/show\n",
      "Saved file: test/satname-gp-history-FY_DEB_DECAYED_0.csv\n",
      "Downloading gp history for satname LIKE:  FY_DEB_DECAYED_1 \n",
      "URL: https://www.space-track.org/basicspacedata/query/class/gp_history/NORAD_CAT_ID/30487,29743,30488,30502,30511,29744,30513,30517,30518,30534,30535,29745,30536,30537,30538,30544,30551,30559,30584,30592,29747,30595,30598,30601,30605,30610,30614,30615,30617,30618,30620,30626,30635/orderby/CCSDS_OMM_VERS asc/format/csv/emptyresult/show\n",
      "Saved file: test/satname-gp-history-FY_DEB_DECAYED_1.csv\n",
      "Downloading gp history for satname LIKE:  FY_DEB_DECAYED_2 \n",
      "URL: https://www.space-track.org/basicspacedata/query/class/gp_history/NORAD_CAT_ID/30638,29749,30643,30644,30653,30681,30682,30685,30687,30692,30695,30698,30711,30712,30713,29752,30727,30729,30743,30747,30748,30754,30757,30767,30769,30801,30807,30808,30812,29755,30818,30819,30824/orderby/CCSDS_OMM_VERS asc/format/csv/emptyresult/show\n",
      "Saved file: test/satname-gp-history-FY_DEB_DECAYED_2.csv\n",
      "Downloading gp history for satname LIKE:  FY_DEB_DECAYED_3 \n",
      "URL: https://www.space-track.org/basicspacedata/query/class/gp_history/NORAD_CAT_ID/30825,30834,30839,30842,30853,30854,30855,30861,29757,30864,30865,30866,30869,30881,30889,30890,30894,30896,30897,30908,30909,30910,30911,29759,30917,30929,30935,30939,30948,30953,29761,30962,30963/orderby/CCSDS_OMM_VERS asc/format/csv/emptyresult/show\n",
      "Saved file: test/satname-gp-history-FY_DEB_DECAYED_3.csv\n",
      "Downloading gp history for satname LIKE:  FY_DEB_DECAYED_4 \n",
      "URL: https://www.space-track.org/basicspacedata/query/class/gp_history/NORAD_CAT_ID/30965,30968,30969,30970,30980,30983,30987,30990,30991,30995,31004,31006,31008,31011,31020,29764,31034,31039,31045,31050,31052,31059,31061,31070,31075,31076,31084,31096,31145,31153,31156,31164,31170/orderby/CCSDS_OMM_VERS asc/format/csv/emptyresult/show\n",
      "Saved file: test/satname-gp-history-FY_DEB_DECAYED_4.csv\n",
      "Downloading gp history for satname LIKE:  FY_DEB_DECAYED_5 \n",
      "URL: https://www.space-track.org/basicspacedata/query/class/gp_history/NORAD_CAT_ID/29768,31176,31184,31189,31193,31200,31207,31216,31221,31230,31233,31245,31251,31271,31276,31277,31278,31280,31283,31301,31315,31343,31373,31375,29778,31438,31454,31460,31461,31469,31470,31472,31479/orderby/CCSDS_OMM_VERS asc/format/csv/emptyresult/show\n",
      "Saved file: test/satname-gp-history-FY_DEB_DECAYED_5.csv\n",
      "Downloading gp history for satname LIKE:  FY_DEB_DECAYED_6 \n",
      "URL: https://www.space-track.org/basicspacedata/query/class/gp_history/NORAD_CAT_ID/31489,31506,31517,31525,31528,31543,31549,31556,31610,31621,31638,31641,31645,31651,31654,31669,31681,31689,29787,31693,31694,31697,31712,31713,31728,31730,31747,31748,31749,31762,31785,31803,31811/orderby/CCSDS_OMM_VERS asc/format/csv/emptyresult/show\n",
      "Saved file: test/satname-gp-history-FY_DEB_DECAYED_6.csv\n",
      "Downloading gp history for satname LIKE:  FY_DEB_DECAYED_7 \n",
      "URL: https://www.space-track.org/basicspacedata/query/class/gp_history/NORAD_CAT_ID/31818,31822,31824,31845,31846,31859,31860,31884,31885,31889,31894,31896,31900,31907,31908,31909,31918,31925,31933,31936,31939,31940,31941,31943,31950,31951,31961,31962,31967,31969,31970,29797/orderby/CCSDS_OMM_VERS asc/format/csv/emptyresult/show\n",
      "Saved file: test/satname-gp-history-FY_DEB_DECAYED_7.csv\n",
      "Downloading gp history for satname LIKE:  FY_DEB_DECAYED_8 \n",
      "URL: https://www.space-track.org/basicspacedata/query/class/gp_history/NORAD_CAT_ID/31975,31998,32091,32100,29799,32108,32121,32122,32131,32135,32140,32144,32145,32149,32159,32196,32206,32215,32229,32231,32236,32237,32239,32240,32244,32306,32307,32309,32310,32318,32321,32327/orderby/CCSDS_OMM_VERS asc/format/csv/emptyresult/show\n",
      "Saved file: test/satname-gp-history-FY_DEB_DECAYED_8.csv\n",
      "Downloading gp history for satname LIKE:  FY_DEB_DECAYED_9 \n",
      "URL: https://www.space-track.org/basicspacedata/query/class/gp_history/NORAD_CAT_ID/32328,32335,32341,32345,32347,32348,32349,32358,32359,32365,32367,32413,32415,32417,32420,32421,32423,32424,32434,32436,32439,32442,32446,32452,32462,32463,32465,33067,33602,33604,33606,33607/orderby/CCSDS_OMM_VERS asc/format/csv/emptyresult/show\n",
      "Saved file: test/satname-gp-history-FY_DEB_DECAYED_9.csv\n",
      "Downloading gp history for satname LIKE:  FY_DEB_DECAYED_10 \n",
      "URL: https://www.space-track.org/basicspacedata/query/class/gp_history/NORAD_CAT_ID/33608,33609,33610,33611,33615,33616,33620,33626,33627,33631,33634,33635,33642,33649,33652,33653,33654,33657,33659,33662,33667,33669,33670,33671,33672,33685,33694,33695,33696,33702,33703,33705/orderby/CCSDS_OMM_VERS asc/format/csv/emptyresult/show\n",
      "Saved file: test/satname-gp-history-FY_DEB_DECAYED_10.csv\n",
      "Downloading gp history for satname LIKE:  FY_DEB_DECAYED_11 \n",
      "URL: https://www.space-track.org/basicspacedata/query/class/gp_history/NORAD_CAT_ID/33712,33715,33717,33725,33729,33732,33742,33743,33744,33746,35087,35098,35100,35101,35103,35106,35107,35112,35113,35115,35124,35126,35127,35131,35132,35133,35138,35143,35149,35151,35157,35158/orderby/CCSDS_OMM_VERS asc/format/csv/emptyresult/show\n",
      "Saved file: test/satname-gp-history-FY_DEB_DECAYED_11.csv\n",
      "Downloading gp history for satname LIKE:  FY_DEB_DECAYED_12 \n",
      "URL: https://www.space-track.org/basicspacedata/query/class/gp_history/NORAD_CAT_ID/35166,35178,35179,35181,35182,35184,35188,35193,35197,35198,35206,35209,35212,35216,29822,35218,35224,35228,35232,35238,29823,35246,36135,36151,29824,36157,36158,36164,36168,36171,36174,36175/orderby/CCSDS_OMM_VERS asc/format/csv/emptyresult/show\n",
      "Saved file: test/satname-gp-history-FY_DEB_DECAYED_12.csv\n",
      "Downloading gp history for satname LIKE:  FY_DEB_DECAYED_13 \n",
      "URL: https://www.space-track.org/basicspacedata/query/class/gp_history/NORAD_CAT_ID/36176,36178,36179,36183,36185,36187,36191,36193,36195,29826,36201,36202,36208,36210,36212,36213,36215,36217,36219,36220,36221,36227,36233,36235,36239,36245,36249,36250,36251,36252,36253,36256/orderby/CCSDS_OMM_VERS asc/format/csv/emptyresult/show\n",
      "Saved file: test/satname-gp-history-FY_DEB_DECAYED_13.csv\n",
      "Downloading gp history for satname LIKE:  FY_DEB_DECAYED_14 \n",
      "URL: https://www.space-track.org/basicspacedata/query/class/gp_history/NORAD_CAT_ID/36264,36268,29829,36275,36276,36277,36282,36284,36646,36649,36650,36653,36655,29830,36662,36666,36669,36671,36673,36674,29831,36683,36690,29716,36704,36705,36708,36709,36717,36718,36720,36721/orderby/CCSDS_OMM_VERS asc/format/csv/emptyresult/show\n",
      "Saved file: test/satname-gp-history-FY_DEB_DECAYED_14.csv\n",
      "Downloading gp history for satname LIKE:  FY_DEB_DECAYED_15 \n",
      "URL: https://www.space-track.org/basicspacedata/query/class/gp_history/NORAD_CAT_ID/36722,36723,36725,36728,36737,36740,36992,36993,36998,37000,37002,37010,37015,37016,37020,37023,37037,37039,37050,37051,37063,29837,37066,37071,37072,37073,37074,37075,37078,37407,29838,37431/orderby/CCSDS_OMM_VERS asc/format/csv/emptyresult/show\n",
      "Saved file: test/satname-gp-history-FY_DEB_DECAYED_15.csv\n",
      "Downloading gp history for satname LIKE:  FY_DEB_DECAYED_16 \n",
      "URL: https://www.space-track.org/basicspacedata/query/class/gp_history/NORAD_CAT_ID/29839,37446,37451,37458,37459,37472,37587,37599,37601,37681,37709,37711,37718,37720,37721,37724,37916,37923,38111,38112,38117,38118,38128,38141,38151,38152,38153,38161,38167,38488,38501,38509/orderby/CCSDS_OMM_VERS asc/format/csv/emptyresult/show\n",
      "Saved file: test/satname-gp-history-FY_DEB_DECAYED_16.csv\n",
      "Downloading gp history for satname LIKE:  FY_DEB_DECAYED_17 \n",
      "URL: https://www.space-track.org/basicspacedata/query/class/gp_history/NORAD_CAT_ID/38719,38800,38805,38830,39538,29717,47105,29861,29862,29863,29864,29867,29879,29718,29882,29883,29900,29902,29719,29905,29908,29910,29720,29951,29721,29952,29722,29981,29984,29990,29995,29723/orderby/CCSDS_OMM_VERS asc/format/csv/emptyresult/show\n",
      "Saved file: test/satname-gp-history-FY_DEB_DECAYED_17.csv\n",
      "Downloading gp history for satname LIKE:  FY_DEB_DECAYED_18 \n",
      "URL: https://www.space-track.org/basicspacedata/query/class/gp_history/NORAD_CAT_ID/30002,30006,30011,30014,29724,30027,30029,30033,30034,30042,30046,29725,30049,30051,30055,29726,30083,30084,30091,29727,30100,29728,30126,30130,29729,30158,30159,30165,30166,29730,30176,30179/orderby/CCSDS_OMM_VERS asc/format/csv/emptyresult/show\n"
     ]
    },
    {
     "name": "stdout",
     "output_type": "stream",
     "text": [
      "Saved file: test/satname-gp-history-FY_DEB_DECAYED_18.csv\n",
      "Downloading gp history for satname LIKE:  FY_DEB_DECAYED_19 \n",
      "URL: https://www.space-track.org/basicspacedata/query/class/gp_history/NORAD_CAT_ID/30184,30185,30186,30187,30188,30189,30192,29731,30195,30203,30204,30211,30215,29732,30219,30220,30223,30226,30236,30240,30254,30255,30258,30260,30268,30269,30271,30278,30285,30292,30296,30307/orderby/CCSDS_OMM_VERS asc/format/csv/emptyresult/show\n",
      "Saved file: test/satname-gp-history-FY_DEB_DECAYED_19.csv\n"
     ]
    }
   ],
   "source": [
    "for i,v in enumerate(lll):\n",
    "    get_satellite_gp_history(v,\"FY_DEB_DECAYED_{}\".format(i))"
   ]
  },
  {
   "cell_type": "markdown",
   "metadata": {},
   "source": [
    "Spacetrack has a really nice API but you still can't download massive amount of data all at once.  They also have a really strict API usage policy.  The above just downloaded DECAYED FY1C stuff.  It's going to be a big undertaking to download all the stuff that's still in orbit."
   ]
  },
  {
   "cell_type": "code",
   "execution_count": null,
   "metadata": {},
   "outputs": [],
   "source": [
    "# test/satname-gp-history-FY_DEB_DECAYED_19.csv"
   ]
  },
  {
   "cell_type": "code",
   "execution_count": 38,
   "metadata": {},
   "outputs": [
    {
     "name": "stderr",
     "output_type": "stream",
     "text": [
      "/Users/tim/opt/anaconda3/envs/siads-orbital/lib/python3.8/site-packages/IPython/core/interactiveshell.py:3338: DtypeWarning: Columns (34) have mixed types.Specify dtype option on import or set low_memory=False.\n",
      "  if (await self.run_code(code, result,  async_=asy)):\n"
     ]
    }
   ],
   "source": [
    "combined_csv = pd.concat([pd.read_csv(\"test/satname-gp-history-FY_DEB_DECAYED_{}.csv\".format(n)) for n in range(0,20)])\n"
   ]
  },
  {
   "cell_type": "code",
   "execution_count": 42,
   "metadata": {},
   "outputs": [],
   "source": [
    "combined_csv[columns].to_pickle(\"test/FY1C_DECAYED_DEB_FULL.pkl.gz\",\"gzip\")"
   ]
  },
  {
   "cell_type": "code",
   "execution_count": 40,
   "metadata": {},
   "outputs": [],
   "source": []
  }
 ],
 "metadata": {
  "kernelspec": {
   "display_name": "Python 3",
   "language": "python",
   "name": "python3"
  },
  "language_info": {
   "codemirror_mode": {
    "name": "ipython",
    "version": 3
   },
   "file_extension": ".py",
   "mimetype": "text/x-python",
   "name": "python",
   "nbconvert_exporter": "python",
   "pygments_lexer": "ipython3",
   "version": "3.8.5"
  }
 },
 "nbformat": 4,
 "nbformat_minor": 4
}
