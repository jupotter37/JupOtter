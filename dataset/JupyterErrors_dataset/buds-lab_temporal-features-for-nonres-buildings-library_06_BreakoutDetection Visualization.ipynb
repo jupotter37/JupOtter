{
 "cells": [
  {
   "cell_type": "markdown",
   "metadata": {},
   "source": [
    "# Breakout Detection Visualizations\n",
    "\n",
    "Clayton Miller - miller.clayton@gmail.com"
   ]
  },
  {
   "cell_type": "code",
   "execution_count": 1,
   "metadata": {
    "collapsed": true
   },
   "outputs": [],
   "source": [
    "import pandas as pd\n",
    "import seaborn as sns\n",
    "import numpy as np\n",
    "import matplotlib.pyplot as plt\n",
    "from datetime import datetime\n",
    "import timeit\n",
    "import os\n",
    "from datetime import datetime\n",
    "from __future__ import division\n",
    "from pylab import *\n",
    "import matplotlib.dates as mdates\n",
    "from matplotlib import ticker\n",
    "import datetime\n",
    "import matplotlib"
   ]
  },
  {
   "cell_type": "code",
   "execution_count": 2,
   "metadata": {
    "collapsed": true
   },
   "outputs": [],
   "source": [
    "import rpy2"
   ]
  },
  {
   "cell_type": "code",
   "execution_count": 3,
   "metadata": {
    "collapsed": true
   },
   "outputs": [],
   "source": [
    "sns.set_style(\"whitegrid\")"
   ]
  },
  {
   "cell_type": "code",
   "execution_count": 4,
   "metadata": {
    "collapsed": true
   },
   "outputs": [],
   "source": [
    "%matplotlib inline\n",
    "%load_ext rpy2.ipython "
   ]
  },
  {
   "cell_type": "code",
   "execution_count": 5,
   "metadata": {
    "collapsed": true
   },
   "outputs": [],
   "source": [
    "repos_path = \"/Users/Clayton/temporal-features-for-buildings/\""
   ]
  },
  {
   "cell_type": "code",
   "execution_count": 6,
   "metadata": {
    "collapsed": true
   },
   "outputs": [],
   "source": [
    "meta = pd.read_csv(os.path.join(repos_path,\"data/raw/meta_open.csv\"), index_col='uid', parse_dates=[\"datastart\",\"dataend\"], dayfirst=True)"
   ]
  },
  {
   "cell_type": "code",
   "execution_count": 7,
   "metadata": {
    "collapsed": true
   },
   "outputs": [],
   "source": [
    "temp = pd.read_csv((os.path.join(repos_path,\"data/interim/temp_open_utc_complete.csv\")), index_col='timestamp', parse_dates=True).tz_localize('utc')"
   ]
  },
  {
   "cell_type": "markdown",
   "metadata": {},
   "source": [
    "# Calculate Breakouts"
   ]
  },
  {
   "cell_type": "code",
   "execution_count": 8,
   "metadata": {
    "collapsed": false
   },
   "outputs": [],
   "source": [
    "%%R \n",
    "library(BreakoutDetection)"
   ]
  },
  {
   "cell_type": "code",
   "execution_count": 9,
   "metadata": {
    "collapsed": true
   },
   "outputs": [],
   "source": [
    "minimum = 30\n",
    "beta = 0.005\n",
    "degrees = 3"
   ]
  },
  {
   "cell_type": "code",
   "execution_count": 10,
   "metadata": {
    "collapsed": true
   },
   "outputs": [],
   "source": [
    "building = \"UnivDorm_Cooper\""
   ]
  },
  {
   "cell_type": "code",
   "execution_count": 11,
   "metadata": {
    "collapsed": false
   },
   "outputs": [],
   "source": [
    "timezone = meta.T[building].timezone\n",
    "start = meta.T[building].datastart\n",
    "end = meta.T[building].dataend\n",
    "building_data = temp[building].tz_convert(timezone).truncate(before=start,after=end).resample('D').sum()\n",
    "data = building_data.reset_index(drop=True)\n",
    "\n",
    "%Rpush data\n",
    "%Rpush minimum\n",
    "%Rpush beta\n",
    "%Rpush degrees\n",
    "\n",
    "%R df <- as.numeric(data)\n",
    "%R data <- unname(df, force = FALSE)\n",
    "%R res = breakout(data, min.size=minimum, method='multi', beta=beta, degree=degrees)\n",
    "\n",
    "#%R res = breakout(data, min.size=Minimum, method='multi', beta=.001, degree=1, plot=TRUE)\n",
    "%R locations = res$loc\n",
    "%Rpull locations"
   ]
  },
  {
   "cell_type": "code",
   "execution_count": 12,
   "metadata": {
    "collapsed": false
   },
   "outputs": [
    {
     "data": {
      "text/plain": [
       "[1]  35 142 172 211 241 271 328\n"
      ]
     },
     "metadata": {},
     "output_type": "display_data"
    }
   ],
   "source": [
    "%R print(locations)"
   ]
  },
  {
   "cell_type": "code",
   "execution_count": 13,
   "metadata": {
    "collapsed": false
   },
   "outputs": [
    {
     "data": {
      "text/plain": [
       "array([ 35, 142, 172, 211, 241, 271, 328], dtype=int32)"
      ]
     },
     "execution_count": 13,
     "metadata": {},
     "output_type": "execute_result"
    }
   ],
   "source": [
    "locations"
   ]
  },
  {
   "cell_type": "code",
   "execution_count": 14,
   "metadata": {
    "collapsed": false
   },
   "outputs": [],
   "source": [
    "def get_breakouts(temp, meta, building, Minimum, Beta, Degrees):\n",
    "    \n",
    "    timezone = meta.T[building].timezone\n",
    "    start = meta.T[building].datastart\n",
    "    end = meta.T[building].dataend\n",
    "    building_data = temp[building].tz_convert(timezone).truncate(before=start,after=end).resample('D').sum()\n",
    "    data = building_data.reset_index(drop=True)\n",
    "    \n",
    "    %Rpush data\n",
    "    %Rpush Minimum\n",
    "    %Rpush Beta\n",
    "    %Rpush Degrees\n",
    "\n",
    "    %R df <- as.numeric(data)\n",
    "    %R data <- unname(df, force = FALSE)\n",
    "    %R res = breakout(data, min.size=Minimum, method='multi', beta=Beta, degree=Degrees)\n",
    "\n",
    "    #%R res = breakout(data, min.size=Minimum, method='multi', beta=.001, degree=1, plot=TRUE)\n",
    "    %R locations = res$loc\n",
    "    %Rpull locations\n",
    "    \n",
    "    prevloc = 0\n",
    "    bo_counter = 0\n",
    "    for location in locations:\n",
    "        building_data[prevloc:location] = bo_counter\n",
    "        prevloc = location\n",
    "        bo_counter+=1\n",
    "    building_data[prevloc:] = bo_counter\n",
    "    breakout = pd.DataFrame({building:building_data})\n",
    "    \n",
    "    return breakout"
   ]
  },
  {
   "cell_type": "code",
   "execution_count": 15,
   "metadata": {
    "collapsed": false
   },
   "outputs": [],
   "source": [
    "breakout = get_breakouts(temp, meta, building, minimum, beta, degrees)"
   ]
  },
  {
   "cell_type": "code",
   "execution_count": 16,
   "metadata": {
    "collapsed": false
   },
   "outputs": [],
   "source": [
    "#breakout"
   ]
  },
  {
   "cell_type": "code",
   "execution_count": 17,
   "metadata": {
    "collapsed": false
   },
   "outputs": [],
   "source": [
    "def get_individual_data(temp, meta, building):\n",
    "    timezone = meta.T[building].timezone\n",
    "    start = meta.T[building].datastart\n",
    "    end = meta.T[building].dataend\n",
    "    return pd.DataFrame(temp[building].tz_convert(timezone).truncate(before=start,after=end))\n",
    "\n",
    "def get_individual_data_notz(temp, meta, building):\n",
    "    start = meta.T[building].datastart\n",
    "    end = meta.T[building].dataend\n",
    "    return pd.DataFrame(temp[building].truncate(before=start,after=end))"
   ]
  },
  {
   "cell_type": "code",
   "execution_count": 18,
   "metadata": {
    "collapsed": false
   },
   "outputs": [],
   "source": [
    "def plot_line_example(df_1, df_2,  color):\n",
    "    sns.set(rc={\"figure.figsize\": (12,4)})\n",
    "    sns.set_style('whitegrid')\n",
    "    fig = plt.figure()\n",
    "    fig.autofmt_xdate()\n",
    "    fig.subplots_adjust(hspace=.5)\n",
    "    gs = GridSpec(100,100,bottom=0.18,left=0.18,right=0.88)\n",
    "    \n",
    "    df_1.columns = [\"Actual kWh\"]\n",
    "    #df_predicted.columns = [\"Predicted kWh\"]\n",
    "    ax1 = fig.add_subplot(gs[1:60,:])\n",
    "    df_1.plot(ax = ax1, legend=False)\n",
    "    ax1.xaxis.set_visible(False)\n",
    "    ax1.set_title(\"Hourly kWh\")\n",
    "    \n",
    "    ax2 = fig.add_subplot(gs[68:,:])\n",
    "    #df_2 = df_2.tz_localize(None)\n",
    "    x = mdates.drange(df_2.index[0], df_2.index[-1] + datetime.timedelta(days=1), datetime.timedelta(days=1))\n",
    "    y = np.linspace(0, len(df_2.columns), len(df_2.columns)+1)\n",
    "    data = np.array(df_2.T)\n",
    "    datam = np.ma.array(data, mask=np.isnan(data))\n",
    "    cmap = matplotlib.cm.get_cmap(color)\n",
    "    \n",
    "    qmesh = ax2.pcolormesh(x, y, datam, cmap=cmap)\n",
    "    ax2.set_title(\"Number of breakouts indicating shifts in long-term steady state\")\n",
    "    \n",
    "    #leftspacing, \n",
    "    cbaxes = fig.add_axes([0.18, 0.08, 0.7, 0.02]) \n",
    "    cbar = fig.colorbar(qmesh, ax=ax2, orientation='horizontal', cax=cbaxes)\n",
    "    tick_locator = ticker.MaxNLocator(nbins=7)\n",
    "    cbar.locator = tick_locator\n",
    "    cbar.update_ticks()\n",
    "    \n",
    "    ax2.axis('tight')\n",
    "    ax2.xaxis_date()\n",
    "    ax2.yaxis.set_visible(False)\n",
    "    myFmt = mdates.DateFormatter('%b')\n",
    "    ax2.xaxis.set_major_formatter(myFmt)"
   ]
  },
  {
   "cell_type": "code",
   "execution_count": 19,
   "metadata": {
    "collapsed": true
   },
   "outputs": [],
   "source": [
    "# start = '2015-07-01'\n",
    "# end = '2015-09-30'"
   ]
  },
  {
   "cell_type": "code",
   "execution_count": 20,
   "metadata": {
    "collapsed": false
   },
   "outputs": [
    {
     "name": "stdout",
     "output_type": "stream",
     "text": [
      "<class 'pandas.core.frame.DataFrame'>\n",
      "DatetimeIndex: 365 entries, 2015-01-01 00:00:00-05:00 to 2015-12-31 00:00:00-05:00\n",
      "Freq: D\n",
      "Data columns (total 1 columns):\n",
      "UnivDorm_Cooper    365 non-null float64\n",
      "dtypes: float64(1)\n",
      "memory usage: 5.7 KB\n"
     ]
    }
   ],
   "source": [
    "breakout.info()"
   ]
  },
  {
   "cell_type": "code",
   "execution_count": 21,
   "metadata": {
    "collapsed": false
   },
   "outputs": [],
   "source": [
    "df = get_individual_data(temp, meta, building)\n",
    "#df = df.truncate(before=start,after=end)#\n",
    "#breakout = breakout#.truncate(before=start,after=end)"
   ]
  },
  {
   "cell_type": "code",
   "execution_count": 22,
   "metadata": {
    "collapsed": false
   },
   "outputs": [
    {
     "data": {
      "image/png": "[encoded data removed]",
      "text/plain": [
       "<matplotlib.figure.Figure at 0x11bae8910>"
      ]
     },
     "metadata": {},
     "output_type": "display_data"
    }
   ],
   "source": [
    "plot_line_example(df, breakout, \"Set1\")\n",
    "plt.savefig(os.path.join(repos_path,\"reports/figures/featureoverviews/breakout_example.pdf\"));"
   ]
  },
  {
   "cell_type": "code",
   "execution_count": 23,
   "metadata": {
    "collapsed": false
   },
   "outputs": [],
   "source": [
    "#sns.palplot(sns.light_palette(\"viridis\"))"
   ]
  },
  {
   "cell_type": "markdown",
   "metadata": {},
   "source": [
    "# Loop though all buildings"
   ]
  },
  {
   "cell_type": "code",
   "execution_count": 24,
   "metadata": {
    "collapsed": false
   },
   "outputs": [],
   "source": [
    "minimum = 30\n",
    "beta = 0.005\n",
    "degrees = 3\n",
    "breakouts = pd.DataFrame()\n",
    "for building in meta.index:\n",
    "    breakout = get_breakouts(temp, meta, building, minimum, beta, degrees)\n",
    "    breakout = breakout.reset_index(drop=True)\n",
    "    breakouts = pd.merge(breakouts, breakout, right_index=True, left_index=True, how='outer')"
   ]
  },
  {
   "cell_type": "code",
   "execution_count": 25,
   "metadata": {
    "collapsed": false
   },
   "outputs": [
    {
     "name": "stdout",
     "output_type": "stream",
     "text": [
      "<class 'pandas.core.frame.DataFrame'>\n",
      "Int64Index: 366 entries, 0 to 365\n",
      "Columns: 507 entries, PrimClass_Everett to UnivLab_Aoife\n",
      "dtypes: float64(507)\n",
      "memory usage: 1.4 MB\n"
     ]
    }
   ],
   "source": [
    "breakouts.info()"
   ]
  },
  {
   "cell_type": "markdown",
   "metadata": {},
   "source": [
    "# Overview heatmap"
   ]
  },
  {
   "cell_type": "code",
   "execution_count": 10,
   "metadata": {
    "collapsed": true
   },
   "outputs": [],
   "source": [
    "def heatmap_data(df):\n",
    "    x = np.linspace(0, len(df.index), len(df.index)+1)\n",
    "    y = np.linspace(0, len(df.columns), len(df.columns)+1)\n",
    "    return x,y\n",
    "\n",
    "#This function changes the year for all of the buildings so that they can be overlapped for plotting\n",
    "# THE RESULTING DATAFRAME IS ONLY FOR \"GENERALIZED\" PLOTTING TO GET THE DATA SETS TO OVERLAP -- DON'T PERFORM CALCULATIONS ON IT\n",
    "\n",
    "def changeto2015(x):\n",
    "    try:\n",
    "        return x.replace(year=2015)\n",
    "    except:\n",
    "        return np.nan\n",
    "    \n",
    "def is_leap_and_29Feb(s):\n",
    "    return (s.index.year % 4 == 0) & ((s.index.year % 100 != 0) | (s.index.year % 400 == 0)) & (s.index.month == 2) & (s.index.day == 29)\n",
    "\n",
    "def generalize_timestamp_forplotting(meta, temp):\n",
    "    temp_generalized = pd.DataFrame()\n",
    "    buildinglist = list(meta.index)\n",
    "    \n",
    "    for building in buildinglist:\n",
    "        #Change to timezone\n",
    "        timezone = meta.T[building].timezone\n",
    "        start = meta.T[building].datastart\n",
    "        end = meta.T[building].dataend\n",
    "        building_data = pd.DataFrame(temp[building].tz_convert(timezone).truncate(before=start,after=end))\n",
    "        \n",
    "        #Remove leap year day for 2012\n",
    "        mask = is_leap_and_29Feb(building_data)\n",
    "        building_data = building_data.loc[~mask]\n",
    "        \n",
    "        #Change to 2015 -- we arbitrarily use this year\n",
    "        building_data.index = building_data.index.map(lambda t: changeto2015(t))\n",
    "        \n",
    "        #Remove tz awareness, resample to normalize the timestamps and ffill to get rid of the gaps\n",
    "        building_data = building_data.tz_localize(None)\n",
    "        building_data = building_data.resample('D').mean().sort_index()\n",
    "        building_data = building_data.ffill()\n",
    "        \n",
    "        #Merge into dataset\n",
    "        temp_generalized = pd.merge(temp_generalized, building_data, right_index=True, left_index=True, how='outer')\n",
    "        temp_generalized = temp_generalized.resample('D').mean().sort_index()\n",
    "        \n",
    "        #print \"finished building: \"+building\n",
    "    return temp_generalized\n",
    "\n",
    "def generalize_timestamp_forplotting_notz(meta, temp):\n",
    "    temp_generalized = pd.DataFrame()\n",
    "    buildinglist = list(meta.index)\n",
    "    \n",
    "    for building in buildinglist:\n",
    "        #Change to timezone\n",
    "        start = meta.T[building].datastart\n",
    "        end = meta.T[building].dataend\n",
    "        building_data = pd.DataFrame(temp[building].truncate(before=start,after=end))\n",
    "        \n",
    "        #Remove leap year day for 2012\n",
    "        mask = is_leap_and_29Feb(building_data)\n",
    "        building_data = building_data.loc[~mask]\n",
    "        \n",
    "        #Change to 2015 -- we arbitrarily use this year\n",
    "        building_data.index = building_data.index.map(lambda t: changeto2015(t))\n",
    "        \n",
    "        #Remove tz awareness, resample to normalize the timestamps and ffill to get rid of the gaps\n",
    "        building_data = building_data.tz_localize(None)\n",
    "        building_data = building_data.resample('D').mean().sort_index()\n",
    "        building_data = building_data.ffill()\n",
    "        \n",
    "        #Merge into dataset\n",
    "        temp_generalized = pd.merge(temp_generalized, building_data, right_index=True, left_index=True, how='outer')\n",
    "        temp_generalized = temp_generalized.resample('D').mean().sort_index()\n",
    "        \n",
    "        #print \"finished building: \"+building\n",
    "    return temp_generalized\n",
    "\n",
    "def plotmap(df, color, cbarlabel, xaxislabel, yaxislabel, graphiclabel, filelabel):\n",
    "    \n",
    "    import matplotlib.dates as mdates\n",
    "    from matplotlib import ticker\n",
    "    import datetime\n",
    "    import matplotlib\n",
    "    import seaborn as sns\n",
    "\n",
    "    # Set up the size/style\n",
    "    sns.set(rc={\"figure.figsize\": (5,11)})\n",
    "    sns.set_style(\"whitegrid\")\n",
    "    \n",
    "    numberofplots = 1\n",
    "    fig = plt.figure()\n",
    "    \n",
    "    x = mdates.drange(df.index[0], df.index[-1] + datetime.timedelta(days=1), datetime.timedelta(days=1))\n",
    "    y = np.linspace(0, len(df.columns), len(df.columns)+1)\n",
    "    ax = fig.add_subplot(numberofplots, 1, 1)\n",
    "    data = np.array(df.T)\n",
    "    datam = np.ma.array(data, mask=np.isnan(data))\n",
    "    cmap = matplotlib.cm.get_cmap(color)\n",
    "    qmesh = ax.pcolormesh(x, y, datam, cmap=cmap)\n",
    "    \n",
    "    cbaxes = fig.add_axes([0.15, 0.15, 0.7, 0.02]) \n",
    "    cbar = fig.colorbar(qmesh, ax=ax, orientation='horizontal', cax=cbaxes)\n",
    "    \n",
    "    cbar.ax.tick_params(length = 0)\n",
    "    cbar.set_label(cbarlabel)\n",
    "    \n",
    "    ax.axis('tight')\n",
    "    ax.xaxis_date()\n",
    "    fig.autofmt_xdate()\n",
    "    fig.subplots_adjust(hspace=.5)\n",
    "    ax.set_xlabel(xaxislabel)\n",
    "    ax.set_ylabel(yaxislabel)\n",
    "    ax.set_title(graphiclabel)\n",
    "    \n",
    "    ax.set_yticklabels(df.columns)\n",
    "    tick_locator = ticker.MaxNLocator(nbins=110)\n",
    "    loc = ticker.MultipleLocator(base=1.0) # this locator puts ticks at regular intervals\n",
    "    ax.locator_params(axis='y', nbins=100)\n",
    "    myFmt = mdates.DateFormatter('%b')\n",
    "    ax.xaxis.set_major_formatter(myFmt)\n",
    "    \n",
    "    plt.subplots_adjust(bottom=0.2)\n",
    "\n",
    "def plotmap_subplots(df, meta, color, cbarlabel, xaxislabel, yaxislabel, graphiclabel, filelabel, z_min, z_max):\n",
    "\n",
    "    import matplotlib.dates as mdates\n",
    "    from matplotlib import ticker\n",
    "    import datetime\n",
    "    import matplotlib\n",
    "    import seaborn as sns\n",
    "\n",
    "    # Set up the size/style\n",
    "    sns.set(rc={\"figure.figsize\": (5,11)})\n",
    "    sns.set_style(\"whitegrid\")\n",
    "    cmap = matplotlib.cm.get_cmap(color)\n",
    "    \n",
    "    fig = plt.figure()\n",
    "    fig.autofmt_xdate()\n",
    "    fig.subplots_adjust(hspace=.5)\n",
    "    gs = GridSpec(100,100,bottom=0.18,left=0.18,right=0.88)\n",
    "    \n",
    "    # Plot Offices\n",
    "    df_office = df[df.columns[df.columns.str.contains(\"Office\")]]\n",
    "    office_height = int(len(df_office.T)/len(df.T)*100-2)\n",
    "    ax1 = fig.add_subplot(gs[1:office_height,:])\n",
    "    x,y = heatmap_data(df_office)\n",
    "    data = np.array(df_office.T)\n",
    "    datam = np.ma.array(data, mask=np.isnan(df_office))\n",
    "    qmesh = ax1.pcolormesh(x, y, datam, cmap=cmap, vmin=z_min, vmax=z_max)\n",
    "    ax1.axis('tight')\n",
    "    #ax1.xaxis_date()\n",
    "    ax1.set_title(\"Offices\")\n",
    "    ax1.xaxis.set_visible(False)\n",
    "    \n",
    "    # Plot UnivLab\n",
    "    df_lab = df[df.columns[df.columns.str.contains(\"UnivLab\")]]\n",
    "    lab_height = int(len(df_lab.T)/len(df.T)*100-2)\n",
    "    ax2 = fig.add_subplot(gs[office_height+2:office_height+lab_height,:])\n",
    "    x,y = heatmap_data(df_lab)\n",
    "    data = np.array(df_lab.T)\n",
    "    datam = np.ma.array(data, mask=np.isnan(df_lab))\n",
    "    qmesh = ax2.pcolormesh(x, y, datam, cmap=cmap, vmin=z_min, vmax=z_max)\n",
    "    ax2.axis('tight')\n",
    "    #ax2.xaxis_date()\n",
    "    ax2.set_title(\"University Labs\")\n",
    "    ax2.xaxis.set_visible(False)\n",
    "    \n",
    "    # Plot UnivClass\n",
    "    df_uniclass = df[df.columns[df.columns.str.contains(\"UnivClass\")]]\n",
    "    uniclass_height = int(len(df_uniclass.T)/len(df.T)*100-2)\n",
    "    ax3 = fig.add_subplot(gs[office_height+lab_height+2:office_height+lab_height+uniclass_height,:])\n",
    "    x,y = heatmap_data(df_uniclass)\n",
    "    data = np.array(df_uniclass.T)\n",
    "    datam = np.ma.array(data, mask=np.isnan(df_uniclass))\n",
    "    qmesh = ax3.pcolormesh(x, y, datam, cmap=cmap, vmin=z_min, vmax=z_max)\n",
    "    ax3.axis('tight')\n",
    "    #ax3.xaxis_date()\n",
    "    ax3.set_title(\"University Classrooms\")\n",
    "    ax3.xaxis.set_visible(False)\n",
    "\n",
    "    # Plot PrimClass\n",
    "    df_primclass = df[df.columns[df.columns.str.contains(\"PrimClass\")]]\n",
    "    primclass_height = int(len(df_primclass.T)/len(df.T)*100-2)\n",
    "    ax4 = fig.add_subplot(gs[office_height+lab_height+uniclass_height+2:office_height+lab_height+uniclass_height+primclass_height,:])\n",
    "    x,y = heatmap_data(df_primclass)\n",
    "    data = np.array(df_primclass.T)\n",
    "    datam = np.ma.array(data, mask=np.isnan(df_primclass))\n",
    "    qmesh = ax4.pcolormesh(x, y, datam, cmap=cmap, vmin=z_min, vmax=z_max)\n",
    "    ax4.axis('tight')\n",
    "    #ax4.xaxis_date()\n",
    "    ax4.set_title(\"Primary/Secondary Classroom\")\n",
    "    ax4.xaxis.set_visible(False)\n",
    "\n",
    "    \n",
    "    # Plot Univ Dorms\n",
    "    df_unidorm = df[df.columns[df.columns.str.contains(\"UnivDorm\")]]\n",
    "    unidorm_height = int(len(df_unidorm.T)/len(df.T)*100-2)\n",
    "    ax5 = fig.add_subplot(gs[office_height+lab_height+uniclass_height+primclass_height+2:office_height+lab_height+uniclass_height+primclass_height+unidorm_height,:])\n",
    "    x,y = heatmap_data(df_unidorm)\n",
    "    data = np.array(df_unidorm.T)\n",
    "    datam = np.ma.array(data, mask=np.isnan(df_unidorm))\n",
    "    qmesh = ax5.pcolormesh(x, y, datam, cmap=cmap, vmin=z_min, vmax=z_max)\n",
    "    ax5.axis('tight')\n",
    "    #ax5.xaxis_date()\n",
    "    ax5.set_title(\"University Dorms\")\n",
    "    \n",
    "    cbaxes = fig.add_axes([0.18, 0.23, 0.7, 0.02]) \n",
    "    cbar = fig.colorbar(qmesh, orientation='horizontal', cax=cbaxes) #ax=ax,\n",
    "    \n",
    "    cbar.ax.tick_params(length = 0)\n",
    "    cbar.set_label(cbarlabel)\n",
    "\n",
    "    #myFmt = mdates.DateFormatter('%b')\n",
    "    #ax5.xaxis.set_major_formatter(myFmt)\n",
    "    \n",
    "    fig.text(0.14, 0.5, yaxislabel, va='center', rotation='vertical')"
   ]
  },
  {
   "cell_type": "markdown",
   "metadata": {},
   "source": [
    "Plotting the data all in one year doesn't make sense as it MUST be sequential -- we just use a simple integer index"
   ]
  },
  {
   "cell_type": "code",
   "execution_count": 11,
   "metadata": {
    "collapsed": false
   },
   "outputs": [],
   "source": [
    "#temp_breakouts_generalized = generalize_timestamp_forplotting_notz(meta, breakouts)#.ffill().bfill()"
   ]
  },
  {
   "cell_type": "code",
   "execution_count": 12,
   "metadata": {
    "collapsed": false
   },
   "outputs": [
    {
     "ename": "NameError",
     "evalue": "name 'breakouts' is not defined",
     "output_type": "error",
     "traceback": [
      "\u001b[0;31m---------------------------------------------------------------------------\u001b[0m",
      "\u001b[0;31mNameError\u001b[0m                                 Traceback (most recent call last)",
      "\u001b[0;32m<ipython-input-12-063ed0754a24>\u001b[0m in \u001b[0;36m<module>\u001b[0;34m()\u001b[0m\n\u001b[0;32m----> 1\u001b[0;31m \u001b[0mtemp_breakouts_sorted\u001b[0m \u001b[0;34m=\u001b[0m \u001b[0mbreakouts\u001b[0m\u001b[0;34m[\u001b[0m\u001b[0mlist\u001b[0m\u001b[0;34m(\u001b[0m\u001b[0mbreakouts\u001b[0m\u001b[0;34m.\u001b[0m\u001b[0mmax\u001b[0m\u001b[0;34m(\u001b[0m\u001b[0;34m)\u001b[0m\u001b[0;34m.\u001b[0m\u001b[0msort_values\u001b[0m\u001b[0;34m(\u001b[0m\u001b[0;34m)\u001b[0m\u001b[0;34m.\u001b[0m\u001b[0mindex\u001b[0m\u001b[0;34m)\u001b[0m\u001b[0;34m]\u001b[0m\u001b[0;34m\u001b[0m\u001b[0m\n\u001b[0m",
      "\u001b[0;31mNameError\u001b[0m: name 'breakouts' is not defined"
     ]
    }
   ],
   "source": [
    "temp_breakouts_sorted = breakouts[list(breakouts.max().sort_values().index)]"
   ]
  },
  {
   "cell_type": "code",
   "execution_count": 13,
   "metadata": {
    "collapsed": false
   },
   "outputs": [
    {
     "ename": "NameError",
     "evalue": "name 'temp_breakouts_sorted' is not defined",
     "output_type": "error",
     "traceback": [
      "\u001b[0;31m---------------------------------------------------------------------------\u001b[0m",
      "\u001b[0;31mNameError\u001b[0m                                 Traceback (most recent call last)",
      "\u001b[0;32m<ipython-input-13-319261b0a94c>\u001b[0m in \u001b[0;36m<module>\u001b[0;34m()\u001b[0m\n\u001b[0;32m----> 1\u001b[0;31m \u001b[0mtemp_breakouts_sorted\u001b[0m\u001b[0;34m.\u001b[0m\u001b[0mdescribe\u001b[0m\u001b[0;34m(\u001b[0m\u001b[0;34m)\u001b[0m\u001b[0;34m.\u001b[0m\u001b[0mT\u001b[0m\u001b[0;34m[\u001b[0m\u001b[0;34m'min'\u001b[0m\u001b[0;34m]\u001b[0m\u001b[0;34m.\u001b[0m\u001b[0mdescribe\u001b[0m\u001b[0;34m(\u001b[0m\u001b[0;34m)\u001b[0m\u001b[0;34m\u001b[0m\u001b[0m\n\u001b[0m",
      "\u001b[0;31mNameError\u001b[0m: name 'temp_breakouts_sorted' is not defined"
     ]
    }
   ],
   "source": [
    "temp_breakouts_sorted.describe().T['min'].describe()"
   ]
  },
  {
   "cell_type": "code",
   "execution_count": 35,
   "metadata": {
    "collapsed": false
   },
   "outputs": [
    {
     "data": {
      "text/plain": [
       "count    507.000000\n",
       "mean       4.382643\n",
       "std        2.488617\n",
       "min        0.000000\n",
       "25%        2.000000\n",
       "50%        4.000000\n",
       "75%        6.000000\n",
       "max       10.000000\n",
       "Name: max, dtype: float64"
      ]
     },
     "execution_count": 35,
     "metadata": {},
     "output_type": "execute_result"
    }
   ],
   "source": [
    "temp_breakouts_sorted.describe().T['max'].describe()"
   ]
  },
  {
   "cell_type": "code",
   "execution_count": 36,
   "metadata": {
    "collapsed": false
   },
   "outputs": [],
   "source": [
    "#temp_breakouts_sorted"
   ]
  },
  {
   "cell_type": "code",
   "execution_count": 37,
   "metadata": {
    "collapsed": false
   },
   "outputs": [
    {
     "data": {
      "image/png": "[encoded data removed]",
      "text/plain": [
       "<matplotlib.figure.Figure at 0x11bae8290>"
      ]
     },
     "metadata": {},
     "output_type": "display_data"
    }
   ],
   "source": [
    "plotmap_subplots(temp_breakouts_sorted.dropna(), meta, 'Set1', \"Number of breakouts\",\n",
    "                 \" \", \"\", \" \", \" \", 0, 10)\n",
    "plt.savefig(os.path.join(repos_path,\"reports/figures/featureoverviews/breakouts_heatmap.pdf\"));"
   ]
  },
  {
   "cell_type": "markdown",
   "metadata": {},
   "source": [
    "# Loop through and modulate various inputs"
   ]
  },
  {
   "cell_type": "code",
   "execution_count": 38,
   "metadata": {
    "collapsed": true
   },
   "outputs": [],
   "source": [
    "minimum_set = [10,30,60]\n",
    "beta_set = [0.002,0.005,0.010] \n",
    "degrees_set = [2,3,5]"
   ]
  },
  {
   "cell_type": "code",
   "execution_count": 36,
   "metadata": {
    "collapsed": true
   },
   "outputs": [],
   "source": [
    "# minimum_set = [10, 30]\n",
    "# beta_set = [0.002] \n",
    "# degrees_set = [2]"
   ]
  },
  {
   "cell_type": "code",
   "execution_count": 37,
   "metadata": {
    "collapsed": false
   },
   "outputs": [
    {
     "name": "stdout",
     "output_type": "stream",
     "text": [
      "10_0.002_2 calculated in 119.28574419 seconds\n",
      "10_0.002_3 calculated in 119.819199085 seconds\n",
      "10_0.002_5 calculated in 119.956912041 seconds\n",
      "10_0.005_2 calculated in 116.034387827 seconds\n",
      "10_0.005_3 calculated in 120.758546114 seconds\n",
      "10_0.005_5 calculated in 118.398669004 seconds\n",
      "10_0.01_2 calculated in 115.958767891 seconds\n",
      "10_0.01_3 calculated in 111.834399939 seconds\n",
      "10_0.01_5 calculated in 112.07592392 seconds\n",
      "30_0.002_2 calculated in 99.7350180149 seconds\n",
      "30_0.002_3 calculated in 100.523696899 seconds\n",
      "30_0.002_5 calculated in 100.525949001 seconds\n",
      "30_0.005_2 calculated in 104.593267918 seconds\n",
      "30_0.005_3 calculated in 104.919062853 seconds\n",
      "30_0.005_5 calculated in 101.915550947 seconds\n",
      "30_0.01_2 calculated in 101.892209053 seconds\n",
      "30_0.01_3 calculated in 98.393392086 seconds\n",
      "30_0.01_5 calculated in 97.9321930408 seconds\n",
      "60_0.002_2 calculated in 82.4198291302 seconds\n",
      "60_0.002_3 calculated in 83.441313982 seconds\n",
      "60_0.002_5 calculated in 80.3549060822 seconds\n",
      "60_0.005_2 calculated in 82.3634819984 seconds\n",
      "60_0.005_3 calculated in 83.2457380295 seconds\n",
      "60_0.005_5 calculated in 80.7049407959 seconds\n",
      "60_0.01_2 calculated in 77.8948931694 seconds\n",
      "60_0.01_3 calculated in 80.1867630482 seconds\n",
      "60_0.01_5 calculated in 78.6046550274 seconds\n",
      "Calculated everything in 2693.790483 seconds\n"
     ]
    }
   ],
   "source": [
    "overall_start_time = timeit.default_timer()\n",
    "breakouts = pd.DataFrame()\n",
    "for minimum in minimum_set:\n",
    "    for beta in beta_set:\n",
    "        for degrees in degrees_set:\n",
    "            start_time = timeit.default_timer()\n",
    "            breakouts_single = pd.DataFrame()\n",
    "            for building in meta.index:\n",
    "                breakout = get_breakouts(temp, meta, building, minimum, beta, degrees)\n",
    "                breakout = breakout.reset_index(drop=True)\n",
    "                breakouts_single = pd.merge(breakouts_single, breakout, right_index=True, left_index=True, how='outer')\n",
    "            \n",
    "            breakout_tocombine = pd.DataFrame({\"BG_breakouts_max_\"+str(minimum)+\"_\"+str(beta)[-1:]+\"_\"+str(degrees):breakouts_single.max()})\n",
    "                                            \n",
    "            breakouts = pd.merge(breakouts, breakout_tocombine, right_index=True, left_index=True, how='outer')\n",
    "\n",
    "                \n",
    "            print str(minimum)+\"_\"+str(beta)+\"_\"+str(degrees)+\" calculated in \"+str(timeit.default_timer() - start_time)+\" seconds\"\n",
    "\n",
    "breakouts.index.name = \"building_name\"\n",
    "breakouts.columns.name = \"feature_name\"\n",
    "breakouts.to_csv(os.path.join(repos_path,\"data/processed/feature_breakouts.csv\"))\n",
    "\n",
    "print \"Calculated everything in \"+str(timeit.default_timer() - overall_start_time)+\" seconds\""
   ]
  },
  {
   "cell_type": "code",
   "execution_count": null,
   "metadata": {
    "collapsed": true
   },
   "outputs": [],
   "source": []
  }
 ],
 "metadata": {
  "hide_input": false,
  "kernelspec": {
   "display_name": "Python 2",
   "language": "python",
   "name": "python2"
  },
  "language_info": {
   "codemirror_mode": {
    "name": "ipython",
    "version": 2
   },
   "file_extension": ".py",
   "mimetype": "text/x-python",
   "name": "python",
   "nbconvert_exporter": "python",
   "pygments_lexer": "ipython2",
   "version": "2.7.12"
  }
 },
 "nbformat": 4,
 "nbformat_minor": 0
}
