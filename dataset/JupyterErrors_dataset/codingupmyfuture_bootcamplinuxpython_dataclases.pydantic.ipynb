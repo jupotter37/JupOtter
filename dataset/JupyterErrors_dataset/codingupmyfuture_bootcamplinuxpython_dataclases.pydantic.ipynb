{
  "nbformat": 4,
  "nbformat_minor": 0,
  "metadata": {
    "colab": {
      "provenance": []
    },
    "kernelspec": {
      "name": "python3",
      "display_name": "Python 3"
    },
    "language_info": {
      "name": "python"
    }
  },
  "cells": [
    {
      "cell_type": "markdown",
      "source": [
        "<img src=\"https://i.postimg.cc/cCjTSn8r/ss-cumf.png\" alt=\"reporte\" border=\"0\"/>"
      ],
      "metadata": {
        "id": "nEBoxt-tSiNU"
      }
    },
    {
      "cell_type": "markdown",
      "source": [
        "# **DATACLASES & PYDANTIC**"
      ],
      "metadata": {
        "id": "UmqU2R0DSrc4"
      }
    },
    {
      "cell_type": "markdown",
      "source": [
        "## **ORM**\n",
        "Un Object Relational Mapper (ORM) es una herramienta de programación que facilita la interacción entre sistemas de gestión de bases de datos relacionales (como MySQL, PostgreSQL, SQLite, etc.) y el código de una aplicación en un lenguaje de programación orientado a objetos, como Python, Java o Ruby.\n",
        "\n",
        "La idea central detrás de un ORM es proporcionar una interfaz orientada a objetos para trabajar con datos en lugar de tener que usar consultas SQL directamente. Esto facilita la manipulación y persistencia de datos en la base de datos mediante el uso de clases y objetos en el código, lo que hace que el desarrollo de aplicaciones sea más intuitivo y menos dependiente de detalles específicos de la base de datos.\n",
        "\n",
        "\n",
        "<img src=\"https://cipsa.net/wp-content/uploads/01-img-Que-es-un-ORM-y-cuando-emplearlo.png.webp\" alt=\"reporte\" border=\"0\"/>\n",
        "\n",
        "\n",
        "\n",
        "<img src=\"https://www.fullstackpython.com/img/visuals/orms-bridge.png\" alt=\"reporte\" border=\"0\"/>\n",
        "\n"
      ],
      "metadata": {
        "id": "SbOVicv6UrTy"
      }
    },
    {
      "cell_type": "markdown",
      "source": [
        "## **DATACLASES**\n",
        "\n",
        "\n",
        "Las data classes están diseñadas para reducir la cantidad de código repetitivo que a menudo se encuentra al definir clases que solo tienen campos para almacenar datos y no tienen una lógica compleja. Ejemplo:\n",
        "\n",
        "si quisieramos crear el objeto persona normalmente, realizariamos el constructur y se realizaria de la siguiente manera\n",
        "\n",
        "```python\n",
        "class Person:\n",
        "  def __init__(self, name, age):\n",
        "      self.name = name\n",
        "      self.age = age\n",
        "```\n",
        "\n",
        "Y si tuvieramos que crear muchos objetos serián trabajos muy repetitivos.\n",
        "\n",
        "\n",
        "Las `dataclases` son un nuevo módulo agregado en la biblioteca estándar de Python desde la versión 3.7. Define el decorador @dataclass que genera automáticamente el método mágico del constructor `__init__()`, el método de representación de cadenas `__repr__()`, el método `__eq__()` que sobrecarga el operador `== `(y algunos más) para una clase definida por el usuario.\n",
        "\n",
        "\n",
        "\n",
        "```python\n",
        "@dataclass\n",
        "class Person:\n",
        "  name: str\n",
        "  age: int\n",
        "```\n",
        "\n",
        "\n",
        "\n"
      ],
      "metadata": {
        "id": "STT0-IFUS6lA"
      }
    },
    {
      "cell_type": "code",
      "source": [
        "# muchos datos asociados a un proceso, es mala practica tenerlos en variables separadas\n",
        "device_type: str\n",
        "status: str\n",
        "project: str\n",
        "# enviar estas variables a otro proceso, quiere decir que la funcion que las va a recibir\n",
        "# necesita tener la misma cantidad de variables\n",
        "\n",
        "\n",
        "# buena practica\n",
        "@dataclass\n",
        "class EjemploNasa:\n",
        "  device_type: str\n",
        "  status: str\n",
        "  project: str\n",
        "  on: int = 0\n",
        "\n",
        "# usando clases con atributos, puedo enviar varias cosas en una solo objeto\n",
        "objeto = EjemploNasa(device_type = \"CAR\", status=\"unknown\", project=\"COLONY_MONN\")\n",
        "print(objeto)\n",
        "print(objeto.status)"
      ],
      "metadata": {
        "colab": {
          "base_uri": "https://localhost:8080/"
        },
        "id": "KTXHefrDttWV",
        "outputId": "b6344ff7-c3e0-403d-fa5e-63e6926bb7e4"
      },
      "execution_count": 61,
      "outputs": [
        {
          "output_type": "stream",
          "name": "stdout",
          "text": [
            "EjemploNasa(device_type='CAR', status='unknown', project='COLONY_MONN', on=0)\n",
            "unknown\n"
          ]
        }
      ]
    },
    {
      "cell_type": "code",
      "source": [
        "from dataclasses import dataclass\n",
        "from typing import List # importancia de usar typing\n",
        "\n",
        "@dataclass\n",
        "class Ejemplo:\n",
        "  edad: int\n",
        "  etiquetas: List[str]\n",
        "\n",
        "\n",
        "ejemplo = Ejemplo(edad=1, etiquetas=[\"s\"])\n",
        "print(ejemplo)"
      ],
      "metadata": {
        "colab": {
          "base_uri": "https://localhost:8080/"
        },
        "id": "sh7ijh6bSvXc",
        "outputId": "c4c49d21-5eef-4a4d-fe46-187fdb68198b"
      },
      "execution_count": 64,
      "outputs": [
        {
          "output_type": "stream",
          "name": "stdout",
          "text": [
            "Ejemplo(edad=1, etiquetas=['s'])\n"
          ]
        }
      ]
    },
    {
      "cell_type": "code",
      "source": [
        "\n",
        "ejemplo = Ejemplo(edad=\"abc\", etiquetas={})\n",
        "print(ejemplo)"
      ],
      "metadata": {
        "colab": {
          "base_uri": "https://localhost:8080/"
        },
        "id": "p-HfSp9fv5pL",
        "outputId": "f2e5d04a-053e-443f-a08c-9bc5d3e6dbb9"
      },
      "execution_count": 65,
      "outputs": [
        {
          "output_type": "stream",
          "name": "stdout",
          "text": [
            "Ejemplo(edad='abc', etiquetas={})\n"
          ]
        }
      ]
    },
    {
      "cell_type": "markdown",
      "source": [
        "## **PYDANTIC**\n",
        "<p><img src=\"https://www.sequoiacap.com/wp-content/uploads/sites/6/2023/08/name-and-logo-path.svg\" alt=\"\" width=\"500\" height=\"300\" /></p>\n",
        "\n",
        "**Pydantic** es una biblioteca de **Python** que se utiliza para validar y serializar datos en aplicaciones Python. Proporciona una forma sencilla y declarativa de definir modelos de datos (schemas) utilizando clases de Python. Estos modelos pueden contener anotaciones de tipo que describen la estructura y los tipos de datos esperados. Pydantic se utiliza comúnmente en aplicaciones web, API, procesamiento de datos y cualquier escenario donde la validación y la serialización de datos sean necesarias."
      ],
      "metadata": {
        "id": "erVMQow4YQrm"
      }
    },
    {
      "cell_type": "markdown",
      "source": [
        "### **DIFERENCIAS DATACLASES VS PYDENTIC**\n",
        "\n",
        "Las dataclasses y Pydantic son dos enfoques diferentes para trabajar con estructuras de datos en Python, y cada uno tiene sus propias características y casos de uso específicos. Aquí hay una comparación de las diferencias clave entre dataclasses y Pydantic:\n",
        "\n",
        "**Dataclasses:**\n",
        "\n",
        "* **Estándar de Python**: Las dataclasses son una característica estándar de Python introducida a partir de `Python 3.7`. No requieren bibliotecas externas y están disponibles en la biblioteca estándar de Python.\n",
        "\n",
        "* **Sintaxis sencilla**: La sintaxis para definir dataclasses es simple y se basa en decoradores. Puedes definir una dataclass utilizando el decorador @dataclass.\n",
        "\n",
        "* **Menos funcionalidad incorporada**: Las dataclasses proporcionan funcionalidad básica como la generación automática de los métodos `__init__()`, `__repr__()`, `__eq__()`, entre otros. No incluyen validación de tipos incorporada ni capacidad de serialización y deserialización.\n",
        "\n",
        "* **No requiere definición explícita de tipos**: En las dataclasses, no es necesario definir explícitamente los tipos de atributos a través de anotaciones de tipo, aunque es común hacerlo para documentación y claridad.\n",
        "\n",
        "* **No incluye validación avanzada**: Las dataclasses no realizan validación avanzada de datos. No verifican que los valores sean válidos según un esquema específico.\n",
        "\n",
        "**Pydantic:**\n",
        "\n",
        "* **Biblioteca externa**: Pydantic es una biblioteca de terceros que debes instalar por separado utilizando pip. No es una característica estándar de Python.\n",
        "\n",
        "* **Sintaxis más detallada**: Pydantic utiliza una sintaxis más detallada para definir modelos de datos. Debes crear clases derivadas de pydantic.BaseModel y definir atributos con tipos de datos específicos y validadores.\n",
        "\n",
        "* **Funcionalidad avanzada**: Pydantic proporciona una amplia gama de funcionalidades avanzadas, incluyendo validación de tipos, conversión de tipos, serialización y deserialización de datos, manejo de esquemas JSON y más.\n",
        "\n",
        "* **Validación de tipos incorporada**: Pydantic realiza una validación exhaustiva de los datos de entrada y garantiza que cumplan con los tipos especificados en el modelo, lo que ayuda a prevenir errores en tiempo de ejecución.\n",
        "\n",
        "* **Esquemas y serialización**: Pydantic permite definir esquemas de datos más complejos y admite la serialización y deserialización de datos en formatos como JSON.\n",
        "\n",
        "**QUIEN LO USA**\n",
        "\n",
        "<p><img src=\"https://i.postimg.cc/T3KwcZsz/customers.png\" alt=\"\" width=\"500\" height=\"500\" /></p>"
      ],
      "metadata": {
        "id": "Ho6vGnZXYg6E"
      }
    },
    {
      "cell_type": "code",
      "execution_count": 66,
      "metadata": {
        "id": "0aj5lJelSTbm"
      },
      "outputs": [],
      "source": [
        "# solo para google colab\n",
        "!pip install tensorflow --upgrade --quiet # colab topics\n",
        "!pip install pydantic --upgrade --quiet\n",
        "\n",
        "# en sus proyectos\n",
        "# pip install pydantic\n",
        "# poetry add pydantic"
      ]
    },
    {
      "cell_type": "code",
      "source": [
        "from pydantic import BaseModel, Field, validator\n",
        "from decimal import Decimal\n",
        "from typing_extensions import Annotated\n",
        "import pydantic"
      ],
      "metadata": {
        "id": "_kJ_5OoDaC73"
      },
      "execution_count": 39,
      "outputs": []
    },
    {
      "cell_type": "code",
      "source": [
        "class Ejemplo(BaseModel):\n",
        "  edad: int\n",
        "  etiquetas: List[str]\n",
        "\n",
        "ejemplo_pd = Ejemplo(edad=1, etiquetas=[\"s\"])\n",
        "print(ejemplo_pd)"
      ],
      "metadata": {
        "colab": {
          "base_uri": "https://localhost:8080/"
        },
        "id": "991w7Sb6at6q",
        "outputId": "487d6865-06b2-43f3-8bbd-6790bef94fcf"
      },
      "execution_count": 67,
      "outputs": [
        {
          "output_type": "stream",
          "name": "stdout",
          "text": [
            "edad=1 etiquetas=['s']\n"
          ]
        }
      ]
    },
    {
      "cell_type": "code",
      "source": [
        "ejemplo = Ejemplo(edad=\"abc\", etiquetas={})\n",
        "print(ejemplo)"
      ],
      "metadata": {
        "colab": {
          "base_uri": "https://localhost:8080/",
          "height": 419
        },
        "id": "fX5VF10syeVf",
        "outputId": "d9d2f2a4-1ff9-4b7b-819e-e538fb1f5a56"
      },
      "execution_count": 68,
      "outputs": [
        {
          "output_type": "error",
          "ename": "ValidationError",
          "evalue": "2 validation errors for Ejemplo\nedad\n  Input should be a valid integer, unable to parse string as an integer [type=int_parsing, input_value='abc', input_type=str]\n    For further information visit https://errors.pydantic.dev/2.5/v/int_parsing\netiquetas\n  Input should be a valid list [type=list_type, input_value={}, input_type=dict]\n    For further information visit https://errors.pydantic.dev/2.5/v/list_type",
          "traceback": [
            "\u001b[0;31m---------------------------------------------------------------------------\u001b[0m",
            "\u001b[0;31mValidationError\u001b[0m                           Traceback (most recent call last)",
            "\u001b[0;32m<ipython-input-68-dcc225830ef5>\u001b[0m in \u001b[0;36m<cell line: 1>\u001b[0;34m()\u001b[0m\n\u001b[0;32m----> 1\u001b[0;31m \u001b[0mejemplo\u001b[0m \u001b[0;34m=\u001b[0m \u001b[0mEjemplo\u001b[0m\u001b[0;34m(\u001b[0m\u001b[0medad\u001b[0m\u001b[0;34m=\u001b[0m\u001b[0;34m\"abc\"\u001b[0m\u001b[0;34m,\u001b[0m \u001b[0metiquetas\u001b[0m\u001b[0;34m=\u001b[0m\u001b[0;34m{\u001b[0m\u001b[0;34m}\u001b[0m\u001b[0;34m)\u001b[0m\u001b[0;34m\u001b[0m\u001b[0;34m\u001b[0m\u001b[0m\n\u001b[0m\u001b[1;32m      2\u001b[0m \u001b[0mprint\u001b[0m\u001b[0;34m(\u001b[0m\u001b[0mejemplo\u001b[0m\u001b[0;34m)\u001b[0m\u001b[0;34m\u001b[0m\u001b[0;34m\u001b[0m\u001b[0m\n",
            "\u001b[0;32m/usr/local/lib/python3.10/dist-packages/pydantic/main.py\u001b[0m in \u001b[0;36m__init__\u001b[0;34m(__pydantic_self__, **data)\u001b[0m\n\u001b[1;32m    162\u001b[0m         \u001b[0;31m# `__tracebackhide__` tells pytest and some other tools to omit this function from tracebacks\u001b[0m\u001b[0;34m\u001b[0m\u001b[0;34m\u001b[0m\u001b[0m\n\u001b[1;32m    163\u001b[0m         \u001b[0m__tracebackhide__\u001b[0m \u001b[0;34m=\u001b[0m \u001b[0;32mTrue\u001b[0m\u001b[0;34m\u001b[0m\u001b[0;34m\u001b[0m\u001b[0m\n\u001b[0;32m--> 164\u001b[0;31m         \u001b[0m__pydantic_self__\u001b[0m\u001b[0;34m.\u001b[0m\u001b[0m__pydantic_validator__\u001b[0m\u001b[0;34m.\u001b[0m\u001b[0mvalidate_python\u001b[0m\u001b[0;34m(\u001b[0m\u001b[0mdata\u001b[0m\u001b[0;34m,\u001b[0m \u001b[0mself_instance\u001b[0m\u001b[0;34m=\u001b[0m\u001b[0m__pydantic_self__\u001b[0m\u001b[0;34m)\u001b[0m\u001b[0;34m\u001b[0m\u001b[0;34m\u001b[0m\u001b[0m\n\u001b[0m\u001b[1;32m    165\u001b[0m \u001b[0;34m\u001b[0m\u001b[0m\n\u001b[1;32m    166\u001b[0m     \u001b[0;31m# The following line sets a flag that we use to determine when `__init__` gets overridden by the user\u001b[0m\u001b[0;34m\u001b[0m\u001b[0;34m\u001b[0m\u001b[0m\n",
            "\u001b[0;31mValidationError\u001b[0m: 2 validation errors for Ejemplo\nedad\n  Input should be a valid integer, unable to parse string as an integer [type=int_parsing, input_value='abc', input_type=str]\n    For further information visit https://errors.pydantic.dev/2.5/v/int_parsing\netiquetas\n  Input should be a valid list [type=list_type, input_value={}, input_type=dict]\n    For further information visit https://errors.pydantic.dev/2.5/v/list_type"
          ]
        }
      ]
    },
    {
      "cell_type": "code",
      "source": [
        "ejemplo = Ejemplo(edad=1, etiquetas=[1])\n",
        "print(ejemplo)"
      ],
      "metadata": {
        "colab": {
          "base_uri": "https://localhost:8080/",
          "height": 367
        },
        "id": "HWJxFrh3ze9p",
        "outputId": "eb8d5e5d-c790-45ac-dc4a-fbb43ce7e52d"
      },
      "execution_count": 69,
      "outputs": [
        {
          "output_type": "error",
          "ename": "ValidationError",
          "evalue": "1 validation error for Ejemplo\netiquetas.0\n  Input should be a valid string [type=string_type, input_value=1, input_type=int]\n    For further information visit https://errors.pydantic.dev/2.5/v/string_type",
          "traceback": [
            "\u001b[0;31m---------------------------------------------------------------------------\u001b[0m",
            "\u001b[0;31mValidationError\u001b[0m                           Traceback (most recent call last)",
            "\u001b[0;32m<ipython-input-69-7d5ca09fbbae>\u001b[0m in \u001b[0;36m<cell line: 1>\u001b[0;34m()\u001b[0m\n\u001b[0;32m----> 1\u001b[0;31m \u001b[0mejemplo\u001b[0m \u001b[0;34m=\u001b[0m \u001b[0mEjemplo\u001b[0m\u001b[0;34m(\u001b[0m\u001b[0medad\u001b[0m\u001b[0;34m=\u001b[0m\u001b[0;36m1\u001b[0m\u001b[0;34m,\u001b[0m \u001b[0metiquetas\u001b[0m\u001b[0;34m=\u001b[0m\u001b[0;34m[\u001b[0m\u001b[0;36m1\u001b[0m\u001b[0;34m]\u001b[0m\u001b[0;34m)\u001b[0m\u001b[0;34m\u001b[0m\u001b[0;34m\u001b[0m\u001b[0m\n\u001b[0m\u001b[1;32m      2\u001b[0m \u001b[0mprint\u001b[0m\u001b[0;34m(\u001b[0m\u001b[0mejemplo\u001b[0m\u001b[0;34m)\u001b[0m\u001b[0;34m\u001b[0m\u001b[0;34m\u001b[0m\u001b[0m\n",
            "\u001b[0;32m/usr/local/lib/python3.10/dist-packages/pydantic/main.py\u001b[0m in \u001b[0;36m__init__\u001b[0;34m(__pydantic_self__, **data)\u001b[0m\n\u001b[1;32m    162\u001b[0m         \u001b[0;31m# `__tracebackhide__` tells pytest and some other tools to omit this function from tracebacks\u001b[0m\u001b[0;34m\u001b[0m\u001b[0;34m\u001b[0m\u001b[0m\n\u001b[1;32m    163\u001b[0m         \u001b[0m__tracebackhide__\u001b[0m \u001b[0;34m=\u001b[0m \u001b[0;32mTrue\u001b[0m\u001b[0;34m\u001b[0m\u001b[0;34m\u001b[0m\u001b[0m\n\u001b[0;32m--> 164\u001b[0;31m         \u001b[0m__pydantic_self__\u001b[0m\u001b[0;34m.\u001b[0m\u001b[0m__pydantic_validator__\u001b[0m\u001b[0;34m.\u001b[0m\u001b[0mvalidate_python\u001b[0m\u001b[0;34m(\u001b[0m\u001b[0mdata\u001b[0m\u001b[0;34m,\u001b[0m \u001b[0mself_instance\u001b[0m\u001b[0;34m=\u001b[0m\u001b[0m__pydantic_self__\u001b[0m\u001b[0;34m)\u001b[0m\u001b[0;34m\u001b[0m\u001b[0;34m\u001b[0m\u001b[0m\n\u001b[0m\u001b[1;32m    165\u001b[0m \u001b[0;34m\u001b[0m\u001b[0m\n\u001b[1;32m    166\u001b[0m     \u001b[0;31m# The following line sets a flag that we use to determine when `__init__` gets overridden by the user\u001b[0m\u001b[0;34m\u001b[0m\u001b[0;34m\u001b[0m\u001b[0m\n",
            "\u001b[0;31mValidationError\u001b[0m: 1 validation error for Ejemplo\netiquetas.0\n  Input should be a valid string [type=string_type, input_value=1, input_type=int]\n    For further information visit https://errors.pydantic.dev/2.5/v/string_type"
          ]
        }
      ]
    },
    {
      "cell_type": "markdown",
      "source": [
        "### **FIELD**\n",
        "\n",
        "Es una clase que se utiliza para personalizar la validación y configuración de los campos en los modelos definidos con Pydantic."
      ],
      "metadata": {
        "id": "gQjk0iMcbkFq"
      }
    },
    {
      "cell_type": "markdown",
      "source": [
        "#### **DEFAULT**"
      ],
      "metadata": {
        "id": "kxzMrZyxdY8_"
      }
    },
    {
      "cell_type": "code",
      "source": [
        "from uuid import uuid4\n",
        "class Usuario(BaseModel):\n",
        "  nombre: str = Field(default='Luis')\n",
        "  nombre_2: str = \"Fernando\"\n",
        "\n",
        "usuario = Usuario()\n",
        "print(usuario)"
      ],
      "metadata": {
        "colab": {
          "base_uri": "https://localhost:8080/"
        },
        "id": "l1Wr2wtPdp5M",
        "outputId": "ca92ca63-86d3-40df-d003-1f247017905e"
      },
      "execution_count": 72,
      "outputs": [
        {
          "output_type": "stream",
          "name": "stdout",
          "text": [
            "nombre='Luis' nombre_2='Fernando'\n"
          ]
        }
      ]
    },
    {
      "cell_type": "markdown",
      "source": [
        "#### **DEFAULT FACTORY**"
      ],
      "metadata": {
        "id": "7C7oT1YUdZ7S"
      }
    },
    {
      "cell_type": "code",
      "source": [
        "from uuid import uuid4\n",
        "class Usuario(BaseModel):\n",
        "  id: str = Field(default_factory=lambda: uuid4().hex)\n",
        "  fecha: str = Field(default_factory=lambda: \"18/01/2024\")\n",
        "usuario = Usuario()\n",
        "print(usuario)"
      ],
      "metadata": {
        "colab": {
          "base_uri": "https://localhost:8080/"
        },
        "id": "BIGFsxo_drJb",
        "outputId": "7d628bcc-297d-41ce-d3d1-f8b44282ce65"
      },
      "execution_count": 77,
      "outputs": [
        {
          "output_type": "stream",
          "name": "stdout",
          "text": [
            "id='2a078912bd0547848f9dcec5dbb01194' fecha='18/01/2024'\n"
          ]
        }
      ]
    },
    {
      "cell_type": "markdown",
      "source": [
        "#### **ALIAS**\n",
        "\n",
        "produndizar enmascaramiento"
      ],
      "metadata": {
        "id": "KIF0vU_fdZ4R"
      }
    },
    {
      "cell_type": "code",
      "source": [
        "class Usuario(BaseModel):\n",
        "  secreto: str = Field(..., alias=\"token\")\n",
        "  nombre_completo_usuario_bootcamp: str = Field(default='ac', alias=\"nusbootc\")\n",
        "\n",
        "usuario = Usuario(token=\"123\")\n",
        "print(usuario)\n",
        "\n",
        "# activar los alias\n",
        "print(usuario.model_dump(by_alias=True))"
      ],
      "metadata": {
        "colab": {
          "base_uri": "https://localhost:8080/"
        },
        "id": "b4RJByzceoJS",
        "outputId": "4fae9493-b451-4e86-c494-5d5be7f950c2"
      },
      "execution_count": 79,
      "outputs": [
        {
          "output_type": "stream",
          "name": "stdout",
          "text": [
            "secreto='123' nombre_completo_usuario_bootcamp='ac'\n",
            "{'token': '123', 'nusbootc': 'ac'}\n"
          ]
        }
      ]
    },
    {
      "cell_type": "markdown",
      "source": [
        "#### **RESTRICCIONES NÚMERICAS (NUMERIC CONSTRAINTS)**\n",
        "\n",
        "* **gt** : mayor que(*greater than*)\n",
        "* **lt** : menor que(*less than*)\n",
        "* **ge** : mayor o igual que(*greater than or equal to*)\n",
        "* **le** : menor o igual que(*less than or equal to*)\n",
        "* **multiple_of** : multiplo de un numero dado\n",
        "* **allow_inf_nan**  permite valores '`inf`', '`-inf`', '`nan`'\n",
        "* **decimal_places** : max decimales"
      ],
      "metadata": {
        "id": "Uc1t7UwhkRpH"
      }
    },
    {
      "cell_type": "code",
      "source": [
        "class Numeros(BaseModel):\n",
        "  positivo: int = Field(gt=0)\n",
        "  # 1 validar que el num sea entero : if isinstance(numero, int)\n",
        "  # 2 validar que el num sea mayor a 0 : if numero > 0:\n",
        "  no_genativo: int = Field(ge=0)\n",
        "  negativo: int = Field(lt=0)\n",
        "  no_positivo: int = Field(le=0)\n",
        "  multiplo: int = Field(multiple_of=2)\n",
        "  datos_nan: float = Field(allow_inf_nan=True)\n",
        "\n",
        "  decimal: Decimal = Field(max_digits=3, decimal_places=1)\n",
        "\n",
        "numeros = Numeros(\n",
        "  positivo=1,\n",
        "  no_genativo=0,\n",
        "  negativo=-1,\n",
        "  no_positivo=0,\n",
        "  multiplo=10,\n",
        "  datos_nan=float('inf'),\n",
        "  decimal=Decimal('12.1')\n",
        ")\n",
        "print(numeros)"
      ],
      "metadata": {
        "colab": {
          "base_uri": "https://localhost:8080/"
        },
        "id": "R0XxPH25kRLC",
        "outputId": "ecc23c49-d549-417c-dc16-34a0bfec822d"
      },
      "execution_count": 81,
      "outputs": [
        {
          "output_type": "stream",
          "name": "stdout",
          "text": [
            "positivo=1 no_genativo=0 negativo=-1 no_positivo=0 multiplo=10 datos_nan=inf decimal=Decimal('12.1')\n"
          ]
        }
      ]
    },
    {
      "cell_type": "code",
      "source": [
        "class PersonaDisco(BaseModel):\n",
        "  mayor: int = Field(default=18, ge=18)\n",
        "  menor: int = Field(default=5, ge=5, lt=18)"
      ],
      "metadata": {
        "id": "L74lcGVl4iL0"
      },
      "execution_count": 82,
      "outputs": []
    },
    {
      "cell_type": "code",
      "source": [
        "# validación mayor de edad\n",
        "print(PersonaDisco(mayor=19))\n",
        "PersonaDisco(mayor=10)"
      ],
      "metadata": {
        "colab": {
          "base_uri": "https://localhost:8080/",
          "height": 402
        },
        "id": "DyL09I1i5Lfe",
        "outputId": "fcf8a5ba-d852-492c-a853-6f414ac045f9"
      },
      "execution_count": 84,
      "outputs": [
        {
          "output_type": "stream",
          "name": "stdout",
          "text": [
            "mayor=19 menor=5\n"
          ]
        },
        {
          "output_type": "error",
          "ename": "ValidationError",
          "evalue": "1 validation error for PersonaDisco\nmayor\n  Input should be greater than or equal to 18 [type=greater_than_equal, input_value=10, input_type=int]\n    For further information visit https://errors.pydantic.dev/2.5/v/greater_than_equal",
          "traceback": [
            "\u001b[0;31m---------------------------------------------------------------------------\u001b[0m",
            "\u001b[0;31mValidationError\u001b[0m                           Traceback (most recent call last)",
            "\u001b[0;32m<ipython-input-84-840148aa50bf>\u001b[0m in \u001b[0;36m<cell line: 3>\u001b[0;34m()\u001b[0m\n\u001b[1;32m      1\u001b[0m \u001b[0;31m# validación mayor de edad\u001b[0m\u001b[0;34m\u001b[0m\u001b[0;34m\u001b[0m\u001b[0m\n\u001b[1;32m      2\u001b[0m \u001b[0mprint\u001b[0m\u001b[0;34m(\u001b[0m\u001b[0mPersonaDisco\u001b[0m\u001b[0;34m(\u001b[0m\u001b[0mmayor\u001b[0m\u001b[0;34m=\u001b[0m\u001b[0;36m19\u001b[0m\u001b[0;34m)\u001b[0m\u001b[0;34m)\u001b[0m\u001b[0;34m\u001b[0m\u001b[0;34m\u001b[0m\u001b[0m\n\u001b[0;32m----> 3\u001b[0;31m \u001b[0mPersonaDisco\u001b[0m\u001b[0;34m(\u001b[0m\u001b[0mmayor\u001b[0m\u001b[0;34m=\u001b[0m\u001b[0;36m10\u001b[0m\u001b[0;34m)\u001b[0m\u001b[0;34m\u001b[0m\u001b[0;34m\u001b[0m\u001b[0m\n\u001b[0m",
            "\u001b[0;32m/usr/local/lib/python3.10/dist-packages/pydantic/main.py\u001b[0m in \u001b[0;36m__init__\u001b[0;34m(__pydantic_self__, **data)\u001b[0m\n\u001b[1;32m    162\u001b[0m         \u001b[0;31m# `__tracebackhide__` tells pytest and some other tools to omit this function from tracebacks\u001b[0m\u001b[0;34m\u001b[0m\u001b[0;34m\u001b[0m\u001b[0m\n\u001b[1;32m    163\u001b[0m         \u001b[0m__tracebackhide__\u001b[0m \u001b[0;34m=\u001b[0m \u001b[0;32mTrue\u001b[0m\u001b[0;34m\u001b[0m\u001b[0;34m\u001b[0m\u001b[0m\n\u001b[0;32m--> 164\u001b[0;31m         \u001b[0m__pydantic_self__\u001b[0m\u001b[0;34m.\u001b[0m\u001b[0m__pydantic_validator__\u001b[0m\u001b[0;34m.\u001b[0m\u001b[0mvalidate_python\u001b[0m\u001b[0;34m(\u001b[0m\u001b[0mdata\u001b[0m\u001b[0;34m,\u001b[0m \u001b[0mself_instance\u001b[0m\u001b[0;34m=\u001b[0m\u001b[0m__pydantic_self__\u001b[0m\u001b[0;34m)\u001b[0m\u001b[0;34m\u001b[0m\u001b[0;34m\u001b[0m\u001b[0m\n\u001b[0m\u001b[1;32m    165\u001b[0m \u001b[0;34m\u001b[0m\u001b[0m\n\u001b[1;32m    166\u001b[0m     \u001b[0;31m# The following line sets a flag that we use to determine when `__init__` gets overridden by the user\u001b[0m\u001b[0;34m\u001b[0m\u001b[0;34m\u001b[0m\u001b[0m\n",
            "\u001b[0;31mValidationError\u001b[0m: 1 validation error for PersonaDisco\nmayor\n  Input should be greater than or equal to 18 [type=greater_than_equal, input_value=10, input_type=int]\n    For further information visit https://errors.pydantic.dev/2.5/v/greater_than_equal"
          ]
        }
      ]
    },
    {
      "cell_type": "code",
      "source": [
        "# validación menor de edad\n",
        "print(PersonaDisco(menor=8))\n",
        "PersonaDisco(menor=21)"
      ],
      "metadata": {
        "colab": {
          "base_uri": "https://localhost:8080/",
          "height": 402
        },
        "id": "nPkrfvd-5Z85",
        "outputId": "d60d3432-12f9-49fb-d06c-95b40482917e"
      },
      "execution_count": 86,
      "outputs": [
        {
          "output_type": "stream",
          "name": "stdout",
          "text": [
            "mayor=18 menor=8\n"
          ]
        },
        {
          "output_type": "error",
          "ename": "ValidationError",
          "evalue": "1 validation error for PersonaDisco\nmenor\n  Input should be less than 18 [type=less_than, input_value=21, input_type=int]\n    For further information visit https://errors.pydantic.dev/2.5/v/less_than",
          "traceback": [
            "\u001b[0;31m---------------------------------------------------------------------------\u001b[0m",
            "\u001b[0;31mValidationError\u001b[0m                           Traceback (most recent call last)",
            "\u001b[0;32m<ipython-input-86-e6e537e0808f>\u001b[0m in \u001b[0;36m<cell line: 3>\u001b[0;34m()\u001b[0m\n\u001b[1;32m      1\u001b[0m \u001b[0;31m# validación menor de edad\u001b[0m\u001b[0;34m\u001b[0m\u001b[0;34m\u001b[0m\u001b[0m\n\u001b[1;32m      2\u001b[0m \u001b[0mprint\u001b[0m\u001b[0;34m(\u001b[0m\u001b[0mPersonaDisco\u001b[0m\u001b[0;34m(\u001b[0m\u001b[0mmenor\u001b[0m\u001b[0;34m=\u001b[0m\u001b[0;36m8\u001b[0m\u001b[0;34m)\u001b[0m\u001b[0;34m)\u001b[0m\u001b[0;34m\u001b[0m\u001b[0;34m\u001b[0m\u001b[0m\n\u001b[0;32m----> 3\u001b[0;31m \u001b[0mPersonaDisco\u001b[0m\u001b[0;34m(\u001b[0m\u001b[0mmenor\u001b[0m\u001b[0;34m=\u001b[0m\u001b[0;36m21\u001b[0m\u001b[0;34m)\u001b[0m\u001b[0;34m\u001b[0m\u001b[0;34m\u001b[0m\u001b[0m\n\u001b[0m",
            "\u001b[0;32m/usr/local/lib/python3.10/dist-packages/pydantic/main.py\u001b[0m in \u001b[0;36m__init__\u001b[0;34m(__pydantic_self__, **data)\u001b[0m\n\u001b[1;32m    162\u001b[0m         \u001b[0;31m# `__tracebackhide__` tells pytest and some other tools to omit this function from tracebacks\u001b[0m\u001b[0;34m\u001b[0m\u001b[0;34m\u001b[0m\u001b[0m\n\u001b[1;32m    163\u001b[0m         \u001b[0m__tracebackhide__\u001b[0m \u001b[0;34m=\u001b[0m \u001b[0;32mTrue\u001b[0m\u001b[0;34m\u001b[0m\u001b[0;34m\u001b[0m\u001b[0m\n\u001b[0;32m--> 164\u001b[0;31m         \u001b[0m__pydantic_self__\u001b[0m\u001b[0;34m.\u001b[0m\u001b[0m__pydantic_validator__\u001b[0m\u001b[0;34m.\u001b[0m\u001b[0mvalidate_python\u001b[0m\u001b[0;34m(\u001b[0m\u001b[0mdata\u001b[0m\u001b[0;34m,\u001b[0m \u001b[0mself_instance\u001b[0m\u001b[0;34m=\u001b[0m\u001b[0m__pydantic_self__\u001b[0m\u001b[0;34m)\u001b[0m\u001b[0;34m\u001b[0m\u001b[0;34m\u001b[0m\u001b[0m\n\u001b[0m\u001b[1;32m    165\u001b[0m \u001b[0;34m\u001b[0m\u001b[0m\n\u001b[1;32m    166\u001b[0m     \u001b[0;31m# The following line sets a flag that we use to determine when `__init__` gets overridden by the user\u001b[0m\u001b[0;34m\u001b[0m\u001b[0;34m\u001b[0m\u001b[0m\n",
            "\u001b[0;31mValidationError\u001b[0m: 1 validation error for PersonaDisco\nmenor\n  Input should be less than 18 [type=less_than, input_value=21, input_type=int]\n    For further information visit https://errors.pydantic.dev/2.5/v/less_than"
          ]
        }
      ]
    },
    {
      "cell_type": "markdown",
      "source": [
        "## **BOLEANOS**"
      ],
      "metadata": {
        "id": "tBrDE0mvdkfz"
      }
    },
    {
      "cell_type": "code",
      "source": [
        "class Booleanos(BaseModel):\n",
        "  demo: bool\n",
        "# verdadero\n",
        "print(\"imprimiendo True \\n\")\n",
        "booleanos1 = Booleanos(demo=1)\n",
        "booleanos2 = Booleanos(demo=True)\n",
        "booleanos3 = Booleanos(demo='true')\n",
        "booleanos4 = Booleanos(demo='on')\n",
        "booleanos5 = Booleanos(demo='yes')\n",
        "\n",
        "# falso\n",
        "booleanos6 = Booleanos(demo=0)\n",
        "booleanos7 = Booleanos(demo=False)\n",
        "booleanos8 = Booleanos(demo='false')\n",
        "booleanos9 = Booleanos(demo='off')\n",
        "booleanos10 = Booleanos(demo='no')\n",
        "print(booleanos1)\n",
        "print(booleanos2)\n",
        "print(booleanos3)\n",
        "print(booleanos4)\n",
        "print(booleanos5)\n",
        "\n",
        "print(\"\\nimprimiendo Fasle \\n\")\n",
        "print(booleanos6)\n",
        "print(booleanos7)\n",
        "print(booleanos8)\n",
        "print(booleanos9)\n",
        "print(booleanos10)"
      ],
      "metadata": {
        "colab": {
          "base_uri": "https://localhost:8080/"
        },
        "id": "z6LRNcfTdn9W",
        "outputId": "2a4282fa-1a19-45df-e1a8-9629bf3b081a"
      },
      "execution_count": 88,
      "outputs": [
        {
          "output_type": "stream",
          "name": "stdout",
          "text": [
            "imprimiendo True \n",
            "\n",
            "demo=True\n",
            "demo=True\n",
            "demo=True\n",
            "demo=True\n",
            "demo=True\n",
            "\n",
            "imprimiendo Fasle \n",
            "\n",
            "demo=False\n",
            "demo=False\n",
            "demo=False\n",
            "demo=False\n",
            "demo=False\n"
          ]
        }
      ]
    },
    {
      "cell_type": "markdown",
      "source": [
        "### **RESTRICCIONES DE TEXTO (TEXT CONSTRAINTS)**\n",
        "\n",
        "* **min_length** : Longitud min\n",
        "* **max_length** : Longitud min\n",
        "* **max_digits** : max numeros enteros\n",
        "* **pattern** : aplica expresiones regulares"
      ],
      "metadata": {
        "id": "Lt6PJ6ErqgL0"
      }
    },
    {
      "cell_type": "code",
      "source": [
        "class Textos(BaseModel):\n",
        "  corto: str = Field(min_length=3)\n",
        "  largo: str = Field(max_length=10)\n",
        "  regex: str = Field(pattern=r'^\\d*$') # solo numeros\n",
        "\n",
        "texto = Textos(\n",
        "  corto='abc',\n",
        "  largo='abcdefg',\n",
        "  regex=\"123\"\n",
        ")\n",
        "\n",
        "print(texto)"
      ],
      "metadata": {
        "id": "tx7ZAAYtqyn5",
        "colab": {
          "base_uri": "https://localhost:8080/"
        },
        "outputId": "3545e21b-c43f-4fd9-bd69-de9bf8469799"
      },
      "execution_count": 89,
      "outputs": [
        {
          "output_type": "stream",
          "name": "stdout",
          "text": [
            "corto='abc' largo='abcdefg' regex='123'\n"
          ]
        }
      ]
    },
    {
      "cell_type": "code",
      "source": [
        "texto = Textos(\n",
        "  corto='an',\n",
        "  largo='abcdefg',\n",
        "  regex=\"123d\"\n",
        ")"
      ],
      "metadata": {
        "id": "q_0UNTa8qylc",
        "colab": {
          "base_uri": "https://localhost:8080/",
          "height": 471
        },
        "outputId": "3027cfc2-af9d-41f8-e138-53ff4e9f0abe"
      },
      "execution_count": 90,
      "outputs": [
        {
          "output_type": "error",
          "ename": "ValidationError",
          "evalue": "2 validation errors for Textos\ncorto\n  String should have at least 3 characters [type=string_too_short, input_value='an', input_type=str]\n    For further information visit https://errors.pydantic.dev/2.5/v/string_too_short\nregex\n  String should match pattern '^\\d*$' [type=string_pattern_mismatch, input_value='123d', input_type=str]\n    For further information visit https://errors.pydantic.dev/2.5/v/string_pattern_mismatch",
          "traceback": [
            "\u001b[0;31m---------------------------------------------------------------------------\u001b[0m",
            "\u001b[0;31mValidationError\u001b[0m                           Traceback (most recent call last)",
            "\u001b[0;32m<ipython-input-90-80e9a625bc12>\u001b[0m in \u001b[0;36m<cell line: 1>\u001b[0;34m()\u001b[0m\n\u001b[0;32m----> 1\u001b[0;31m texto = Textos(\n\u001b[0m\u001b[1;32m      2\u001b[0m   \u001b[0mcorto\u001b[0m\u001b[0;34m=\u001b[0m\u001b[0;34m'an'\u001b[0m\u001b[0;34m,\u001b[0m\u001b[0;34m\u001b[0m\u001b[0;34m\u001b[0m\u001b[0m\n\u001b[1;32m      3\u001b[0m   \u001b[0mlargo\u001b[0m\u001b[0;34m=\u001b[0m\u001b[0;34m'abcdefg'\u001b[0m\u001b[0;34m,\u001b[0m\u001b[0;34m\u001b[0m\u001b[0;34m\u001b[0m\u001b[0m\n\u001b[1;32m      4\u001b[0m   \u001b[0mregex\u001b[0m\u001b[0;34m=\u001b[0m\u001b[0;34m\"123d\"\u001b[0m\u001b[0;34m\u001b[0m\u001b[0;34m\u001b[0m\u001b[0m\n\u001b[1;32m      5\u001b[0m )\n",
            "\u001b[0;32m/usr/local/lib/python3.10/dist-packages/pydantic/main.py\u001b[0m in \u001b[0;36m__init__\u001b[0;34m(__pydantic_self__, **data)\u001b[0m\n\u001b[1;32m    162\u001b[0m         \u001b[0;31m# `__tracebackhide__` tells pytest and some other tools to omit this function from tracebacks\u001b[0m\u001b[0;34m\u001b[0m\u001b[0;34m\u001b[0m\u001b[0m\n\u001b[1;32m    163\u001b[0m         \u001b[0m__tracebackhide__\u001b[0m \u001b[0;34m=\u001b[0m \u001b[0;32mTrue\u001b[0m\u001b[0;34m\u001b[0m\u001b[0;34m\u001b[0m\u001b[0m\n\u001b[0;32m--> 164\u001b[0;31m         \u001b[0m__pydantic_self__\u001b[0m\u001b[0;34m.\u001b[0m\u001b[0m__pydantic_validator__\u001b[0m\u001b[0;34m.\u001b[0m\u001b[0mvalidate_python\u001b[0m\u001b[0;34m(\u001b[0m\u001b[0mdata\u001b[0m\u001b[0;34m,\u001b[0m \u001b[0mself_instance\u001b[0m\u001b[0;34m=\u001b[0m\u001b[0m__pydantic_self__\u001b[0m\u001b[0;34m)\u001b[0m\u001b[0;34m\u001b[0m\u001b[0;34m\u001b[0m\u001b[0m\n\u001b[0m\u001b[1;32m    165\u001b[0m \u001b[0;34m\u001b[0m\u001b[0m\n\u001b[1;32m    166\u001b[0m     \u001b[0;31m# The following line sets a flag that we use to determine when `__init__` gets overridden by the user\u001b[0m\u001b[0;34m\u001b[0m\u001b[0;34m\u001b[0m\u001b[0m\n",
            "\u001b[0;31mValidationError\u001b[0m: 2 validation errors for Textos\ncorto\n  String should have at least 3 characters [type=string_too_short, input_value='an', input_type=str]\n    For further information visit https://errors.pydantic.dev/2.5/v/string_too_short\nregex\n  String should match pattern '^\\d*$' [type=string_pattern_mismatch, input_value='123d', input_type=str]\n    For further information visit https://errors.pydantic.dev/2.5/v/string_pattern_mismatch"
          ]
        }
      ]
    },
    {
      "cell_type": "markdown",
      "source": [
        "### **ENUMERADORES**"
      ],
      "metadata": {
        "id": "cWiY7-ny1Mxv"
      }
    },
    {
      "cell_type": "code",
      "source": [
        "from enum import Enum"
      ],
      "metadata": {
        "id": "zCzlm-q-1OMf"
      },
      "execution_count": 40,
      "outputs": []
    },
    {
      "cell_type": "code",
      "source": [
        "class EstadoProducto(str, Enum):\n",
        "  MALO: str = 'malo'\n",
        "  BUENO: str = 'bueno'\n",
        "  MASO: str = 'si_pero_no'\n",
        "\n",
        "class Producto(BaseModel):\n",
        "  producto: str\n",
        "  estado: EstadoProducto\n",
        "\n",
        "Producto(\n",
        "  producto=\"BootCamp\",\n",
        "  estado= \"bueno\"\n",
        ")\n",
        "\n"
      ],
      "metadata": {
        "colab": {
          "base_uri": "https://localhost:8080/"
        },
        "id": "XDURWhEF1WOc",
        "outputId": "7e0fbdb0-9ca9-4ffe-f825-036cf47814df"
      },
      "execution_count": 105,
      "outputs": [
        {
          "output_type": "execute_result",
          "data": {
            "text/plain": [
              "Producto(producto='BootCamp', estado=<EstadoProducto.BUENO: 'bueno'>)"
            ]
          },
          "metadata": {},
          "execution_count": 105
        }
      ]
    },
    {
      "cell_type": "code",
      "source": [
        "Producto(\n",
        "  producto=\"BootCamp\",\n",
        "  estado= \"xyz\",\n",
        ")"
      ],
      "metadata": {
        "colab": {
          "base_uri": "https://localhost:8080/",
          "height": 385
        },
        "id": "GMh3-YwI9Jvq",
        "outputId": "8d26addb-fc57-4b1b-ad18-a20c428cf561"
      },
      "execution_count": 106,
      "outputs": [
        {
          "output_type": "error",
          "ename": "ValidationError",
          "evalue": "1 validation error for Producto\nestado\n  Input should be 'malo', 'bueno' or 'si_pero_no' [type=enum, input_value='xyz', input_type=str]",
          "traceback": [
            "\u001b[0;31m---------------------------------------------------------------------------\u001b[0m",
            "\u001b[0;31mValidationError\u001b[0m                           Traceback (most recent call last)",
            "\u001b[0;32m<ipython-input-106-efe6b477c179>\u001b[0m in \u001b[0;36m<cell line: 1>\u001b[0;34m()\u001b[0m\n\u001b[0;32m----> 1\u001b[0;31m Producto(\n\u001b[0m\u001b[1;32m      2\u001b[0m   \u001b[0mproducto\u001b[0m\u001b[0;34m=\u001b[0m\u001b[0;34m\"BootCamp\"\u001b[0m\u001b[0;34m,\u001b[0m\u001b[0;34m\u001b[0m\u001b[0;34m\u001b[0m\u001b[0m\n\u001b[1;32m      3\u001b[0m   \u001b[0mestado\u001b[0m\u001b[0;34m=\u001b[0m \u001b[0;34m\"xyz\"\u001b[0m\u001b[0;34m,\u001b[0m\u001b[0;34m\u001b[0m\u001b[0;34m\u001b[0m\u001b[0m\n\u001b[1;32m      4\u001b[0m )\n",
            "\u001b[0;32m/usr/local/lib/python3.10/dist-packages/pydantic/main.py\u001b[0m in \u001b[0;36m__init__\u001b[0;34m(__pydantic_self__, **data)\u001b[0m\n\u001b[1;32m    162\u001b[0m         \u001b[0;31m# `__tracebackhide__` tells pytest and some other tools to omit this function from tracebacks\u001b[0m\u001b[0;34m\u001b[0m\u001b[0;34m\u001b[0m\u001b[0m\n\u001b[1;32m    163\u001b[0m         \u001b[0m__tracebackhide__\u001b[0m \u001b[0;34m=\u001b[0m \u001b[0;32mTrue\u001b[0m\u001b[0;34m\u001b[0m\u001b[0;34m\u001b[0m\u001b[0m\n\u001b[0;32m--> 164\u001b[0;31m         \u001b[0m__pydantic_self__\u001b[0m\u001b[0;34m.\u001b[0m\u001b[0m__pydantic_validator__\u001b[0m\u001b[0;34m.\u001b[0m\u001b[0mvalidate_python\u001b[0m\u001b[0;34m(\u001b[0m\u001b[0mdata\u001b[0m\u001b[0;34m,\u001b[0m \u001b[0mself_instance\u001b[0m\u001b[0;34m=\u001b[0m\u001b[0m__pydantic_self__\u001b[0m\u001b[0;34m)\u001b[0m\u001b[0;34m\u001b[0m\u001b[0;34m\u001b[0m\u001b[0m\n\u001b[0m\u001b[1;32m    165\u001b[0m \u001b[0;34m\u001b[0m\u001b[0m\n\u001b[1;32m    166\u001b[0m     \u001b[0;31m# The following line sets a flag that we use to determine when `__init__` gets overridden by the user\u001b[0m\u001b[0;34m\u001b[0m\u001b[0;34m\u001b[0m\u001b[0m\n",
            "\u001b[0;31mValidationError\u001b[0m: 1 validation error for Producto\nestado\n  Input should be 'malo', 'bueno' or 'si_pero_no' [type=enum, input_value='xyz', input_type=str]"
          ]
        }
      ]
    },
    {
      "cell_type": "markdown",
      "source": [
        "#### **ANOTACIONES**\n",
        "\n",
        "`Annotated` es utilizada para proporcionar anotaciones adicionales a las variables en Python. Esta clase permite agregar información adicional sobre las variables, como metadata o restricciones, lo que puede ser útil en el contexto de la verificación estática de tipos y en el desarrollo de aplicaciones más robustas."
      ],
      "metadata": {
        "id": "AE1cWN4ld9YB"
      }
    },
    {
      "cell_type": "code",
      "source": [
        "# info adicional | meterlo en un modelo\n",
        "nombre: Annotated[str, \"este es el nombre de una persona\"] = \"demo\"\n",
        "print(nombre)"
      ],
      "metadata": {
        "colab": {
          "base_uri": "https://localhost:8080/"
        },
        "id": "UIl1iIw9eECE",
        "outputId": "0df49643-fb10-4a4d-8867-5cb65bcd6682"
      },
      "execution_count": 42,
      "outputs": [
        {
          "output_type": "stream",
          "name": "stdout",
          "text": [
            "demo\n"
          ]
        }
      ]
    },
    {
      "cell_type": "code",
      "source": [
        "# campo personalizado\n",
        "EnteroPositivo = Annotated[int, Field(gt=0), \"un campo personalizado\"]"
      ],
      "metadata": {
        "id": "K-rGGHRHePB-"
      },
      "execution_count": 107,
      "outputs": []
    },
    {
      "cell_type": "code",
      "source": [
        "class Producto(BaseModel):\n",
        "  valor_positivo: EnteroPositivo\n",
        "  estado: Annotated[EstadoProducto, Field(default=\"bueno\", description=\"demo annotated\")]\n",
        "\n",
        "\n",
        "Producto(valor_positivo=1, estado=\"si_pero_no\")"
      ],
      "metadata": {
        "colab": {
          "base_uri": "https://localhost:8080/"
        },
        "id": "qtcGz4wa-3-y",
        "outputId": "5b365e47-5fe5-492f-ceca-fb7887356b9f"
      },
      "execution_count": 109,
      "outputs": [
        {
          "output_type": "execute_result",
          "data": {
            "text/plain": [
              "Producto(valor_positivo=1, estado=<EstadoProducto.MASO: 'si_pero_no'>)"
            ]
          },
          "metadata": {},
          "execution_count": 109
        }
      ]
    },
    {
      "cell_type": "code",
      "source": [
        "Producto(valor_positivo=-1, estado=\"xyz_si_pero_no\")"
      ],
      "metadata": {
        "colab": {
          "base_uri": "https://localhost:8080/",
          "height": 385
        },
        "id": "LpHHZXsZ_b_u",
        "outputId": "0d231e58-daa0-4973-fa82-ada02910b60d"
      },
      "execution_count": 110,
      "outputs": [
        {
          "output_type": "error",
          "ename": "ValidationError",
          "evalue": "2 validation errors for Producto\nvalor_positivo\n  Input should be greater than 0 [type=greater_than, input_value=-1, input_type=int]\n    For further information visit https://errors.pydantic.dev/2.5/v/greater_than\nestado\n  Input should be 'malo', 'bueno' or 'si_pero_no' [type=enum, input_value='xyz_si_pero_no', input_type=str]",
          "traceback": [
            "\u001b[0;31m---------------------------------------------------------------------------\u001b[0m",
            "\u001b[0;31mValidationError\u001b[0m                           Traceback (most recent call last)",
            "\u001b[0;32m<ipython-input-110-b3d5c8fc92a6>\u001b[0m in \u001b[0;36m<cell line: 1>\u001b[0;34m()\u001b[0m\n\u001b[0;32m----> 1\u001b[0;31m \u001b[0mProducto\u001b[0m\u001b[0;34m(\u001b[0m\u001b[0mvalor_positivo\u001b[0m\u001b[0;34m=\u001b[0m\u001b[0;34m-\u001b[0m\u001b[0;36m1\u001b[0m\u001b[0;34m,\u001b[0m \u001b[0mestado\u001b[0m\u001b[0;34m=\u001b[0m\u001b[0;34m\"xyz_si_pero_no\"\u001b[0m\u001b[0;34m)\u001b[0m\u001b[0;34m\u001b[0m\u001b[0;34m\u001b[0m\u001b[0m\n\u001b[0m",
            "\u001b[0;32m/usr/local/lib/python3.10/dist-packages/pydantic/main.py\u001b[0m in \u001b[0;36m__init__\u001b[0;34m(__pydantic_self__, **data)\u001b[0m\n\u001b[1;32m    162\u001b[0m         \u001b[0;31m# `__tracebackhide__` tells pytest and some other tools to omit this function from tracebacks\u001b[0m\u001b[0;34m\u001b[0m\u001b[0;34m\u001b[0m\u001b[0m\n\u001b[1;32m    163\u001b[0m         \u001b[0m__tracebackhide__\u001b[0m \u001b[0;34m=\u001b[0m \u001b[0;32mTrue\u001b[0m\u001b[0;34m\u001b[0m\u001b[0;34m\u001b[0m\u001b[0m\n\u001b[0;32m--> 164\u001b[0;31m         \u001b[0m__pydantic_self__\u001b[0m\u001b[0;34m.\u001b[0m\u001b[0m__pydantic_validator__\u001b[0m\u001b[0;34m.\u001b[0m\u001b[0mvalidate_python\u001b[0m\u001b[0;34m(\u001b[0m\u001b[0mdata\u001b[0m\u001b[0;34m,\u001b[0m \u001b[0mself_instance\u001b[0m\u001b[0;34m=\u001b[0m\u001b[0m__pydantic_self__\u001b[0m\u001b[0;34m)\u001b[0m\u001b[0;34m\u001b[0m\u001b[0;34m\u001b[0m\u001b[0m\n\u001b[0m\u001b[1;32m    165\u001b[0m \u001b[0;34m\u001b[0m\u001b[0m\n\u001b[1;32m    166\u001b[0m     \u001b[0;31m# The following line sets a flag that we use to determine when `__init__` gets overridden by the user\u001b[0m\u001b[0;34m\u001b[0m\u001b[0;34m\u001b[0m\u001b[0m\n",
            "\u001b[0;31mValidationError\u001b[0m: 2 validation errors for Producto\nvalor_positivo\n  Input should be greater than 0 [type=greater_than, input_value=-1, input_type=int]\n    For further information visit https://errors.pydantic.dev/2.5/v/greater_than\nestado\n  Input should be 'malo', 'bueno' or 'si_pero_no' [type=enum, input_value='xyz_si_pero_no', input_type=str]"
          ]
        }
      ]
    },
    {
      "cell_type": "code",
      "source": [
        "class Usuariocurso(BaseModel):\n",
        "  nombre: str\n",
        "  edad: EnteroPositivo"
      ],
      "metadata": {
        "id": "Or5zFJd0_tVq"
      },
      "execution_count": 111,
      "outputs": []
    },
    {
      "cell_type": "markdown",
      "source": [
        "#### **VALIDACIONES**"
      ],
      "metadata": {
        "id": "iXeaR-KDfxMz"
      }
    },
    {
      "cell_type": "code",
      "source": [
        "from datetime import datetime\n",
        "from pydantic import field_validator\n",
        "\n",
        "class MiModelo(BaseModel):\n",
        "  fecha: str\n",
        "\n",
        "  @field_validator('fecha')\n",
        "  def validar_fecha(cls, valor):\n",
        "    try:\n",
        "        datetime.strptime(valor, \"%d/%m/%Y\")\n",
        "    except ValueError:\n",
        "        raise ValueError(\"el formato de fecha no es válido. Formato: dd/mm/yyyy\")\n",
        "    return valor"
      ],
      "metadata": {
        "id": "Nkinb7gofwz2"
      },
      "execution_count": 116,
      "outputs": []
    },
    {
      "cell_type": "code",
      "source": [
        "MiModelo(fecha=\"18/01/2024\")"
      ],
      "metadata": {
        "colab": {
          "base_uri": "https://localhost:8080/"
        },
        "id": "TbOgUoymBLD6",
        "outputId": "ffdcc9cc-94bf-4137-8985-0019a181bbc9"
      },
      "execution_count": 113,
      "outputs": [
        {
          "output_type": "execute_result",
          "data": {
            "text/plain": [
              "MiModelo(fecha='18/01/2024')"
            ]
          },
          "metadata": {},
          "execution_count": 113
        }
      ]
    },
    {
      "cell_type": "code",
      "source": [
        "MiModelo(fecha=\"18/01/20\")"
      ],
      "metadata": {
        "colab": {
          "base_uri": "https://localhost:8080/",
          "height": 350
        },
        "id": "2Xe1bmj4BUCe",
        "outputId": "f06fa327-8bd7-43fe-a737-7f55ee8284d7"
      },
      "execution_count": 117,
      "outputs": [
        {
          "output_type": "error",
          "ename": "ValidationError",
          "evalue": "1 validation error for MiModelo\nfecha\n  Value error, el formato de fecha no es válido. Formato: dd/mm/yyyy [type=value_error, input_value='18/01/20', input_type=str]\n    For further information visit https://errors.pydantic.dev/2.5/v/value_error",
          "traceback": [
            "\u001b[0;31m---------------------------------------------------------------------------\u001b[0m",
            "\u001b[0;31mValidationError\u001b[0m                           Traceback (most recent call last)",
            "\u001b[0;32m<ipython-input-117-66051cdba087>\u001b[0m in \u001b[0;36m<cell line: 1>\u001b[0;34m()\u001b[0m\n\u001b[0;32m----> 1\u001b[0;31m \u001b[0mMiModelo\u001b[0m\u001b[0;34m(\u001b[0m\u001b[0mfecha\u001b[0m\u001b[0;34m=\u001b[0m\u001b[0;34m\"18/01/20\"\u001b[0m\u001b[0;34m)\u001b[0m\u001b[0;34m\u001b[0m\u001b[0;34m\u001b[0m\u001b[0m\n\u001b[0m",
            "\u001b[0;32m/usr/local/lib/python3.10/dist-packages/pydantic/main.py\u001b[0m in \u001b[0;36m__init__\u001b[0;34m(__pydantic_self__, **data)\u001b[0m\n\u001b[1;32m    162\u001b[0m         \u001b[0;31m# `__tracebackhide__` tells pytest and some other tools to omit this function from tracebacks\u001b[0m\u001b[0;34m\u001b[0m\u001b[0;34m\u001b[0m\u001b[0m\n\u001b[1;32m    163\u001b[0m         \u001b[0m__tracebackhide__\u001b[0m \u001b[0;34m=\u001b[0m \u001b[0;32mTrue\u001b[0m\u001b[0;34m\u001b[0m\u001b[0;34m\u001b[0m\u001b[0m\n\u001b[0;32m--> 164\u001b[0;31m         \u001b[0m__pydantic_self__\u001b[0m\u001b[0;34m.\u001b[0m\u001b[0m__pydantic_validator__\u001b[0m\u001b[0;34m.\u001b[0m\u001b[0mvalidate_python\u001b[0m\u001b[0;34m(\u001b[0m\u001b[0mdata\u001b[0m\u001b[0;34m,\u001b[0m \u001b[0mself_instance\u001b[0m\u001b[0;34m=\u001b[0m\u001b[0m__pydantic_self__\u001b[0m\u001b[0;34m)\u001b[0m\u001b[0;34m\u001b[0m\u001b[0;34m\u001b[0m\u001b[0m\n\u001b[0m\u001b[1;32m    165\u001b[0m \u001b[0;34m\u001b[0m\u001b[0m\n\u001b[1;32m    166\u001b[0m     \u001b[0;31m# The following line sets a flag that we use to determine when `__init__` gets overridden by the user\u001b[0m\u001b[0;34m\u001b[0m\u001b[0;34m\u001b[0m\u001b[0m\n",
            "\u001b[0;31mValidationError\u001b[0m: 1 validation error for MiModelo\nfecha\n  Value error, el formato de fecha no es válido. Formato: dd/mm/yyyy [type=value_error, input_value='18/01/20', input_type=str]\n    For further information visit https://errors.pydantic.dev/2.5/v/value_error"
          ]
        }
      ]
    }
  ]
}