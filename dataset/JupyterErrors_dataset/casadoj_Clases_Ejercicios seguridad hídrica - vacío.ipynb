{
 "cells": [
  {
   "cell_type": "markdown",
   "metadata": {},
   "source": [
    "# Ejercicios de seguridad hídrica\n",
    "\n",
    "__Índice__<br>\n",
    "\n",
    "__[Ejercicio 2](#Ejercicio-2)__<br>\n",
    "[Método gráfico](#Método-gráfico)<br>\n",
    "[Método analítico](#Método-analítico)<br>\n",
    "\n",
    "__[Ejercicio 3](#Ejercicio-3)__<br>\n",
    "[Serie de 2 años](#Serie-de-2-años)<br>\n",
    "[Serie de 6 años](#Serie-de-6-años)<br>\n",
    "\n",
    "__[Ejercicio 4](#Ejercicio-4)__<br>\n",
    "[Sin embalse](#Sin-embalse)<br>\n",
    "[Embalse de 50 hm³](#Embalse-de-50-hm³)<br>\n",
    "[Dimensionar el embalse](#Dimensionar-el-embalse)<br>\n",
    "\n",
    "__[Ejercicio 5](#Ejercicio-5)__<br>\n",
    "[Demanda conjunta](#Demanda-conjunta)<br>\n",
    "[Demandas independientes](#Demandas-independientes)<br>\n",
    "[Dimensionar embalse](#Dimensionar-embalse)<br>\n",
    "\n",
    "__[Ejercicio 6](#Ejercicio-6)__<br>\n",
    "[Standard precipitation index: SPI](#Standard-precipitation-index:-SPI)<br>\n",
    "[Standard precipitation-evapotranspiration index: SPEI](#Standard-precipitation-evapotranspiration-index:-SPEI)<br>"
   ]
  },
  {
   "cell_type": "code",
   "execution_count": null,
   "metadata": {
    "collapsed": true
   },
   "outputs": [],
   "source": [
    "import numpy as np\n",
    "import pandas as pd\n",
    "import matplotlib.pyplot as plt\n",
    "%matplotlib inline\n",
    "plt.style.use('seaborn')"
   ]
  },
  {
   "cell_type": "markdown",
   "metadata": {},
   "source": [
    "## <font color=steelblue>Ejercicio 2\n",
    "<font color=steelblue>En el embalse del Cuervo, en la zona de regadíos del Guadiamar, se tienen las aportaciones anuales mostradas en la tabla 1. Se necesita regar 4500 ha con una dotación anual de 800 m³/ha, es decir, una demanda de 36 hm³/año. Aumiendo un embalse con una capacidad de 50 hm³ inicialmente vacío, se pide calcular:\n",
    "*  El número de años en que se vierte.\n",
    "*  El número de años en que se presta un servicio insuficiente.\n",
    "*  El volumen total de agua vertida por el aliviadero.\n",
    "*  El volumen total de déficit de agua.\n",
    "*  Las garantías de regulación y suministro.\n",
    "*  El volumen de agua que queda en el embalse al final del periodo.\n",
    "*  El porcentaje de agua utilizada.\n",
    "\n",
    "_**Tabla 1**. Serie de aportaciones anuales al embalse del Cuervo en hm³._\n",
    "\n",
    "| Año     | Apor. (hm³) | Año     | Apor. (hm³) | Año     | Apor. (hm³) |\n",
    "|---------|-------------|---------|-------------|---------|-------------|\n",
    "| 1930-31 | 41.5        | 1940-41 | 69.4        | 1950-51 | 16.0        |\n",
    "| 32      | 50.3        | 42      | 38.3        | 52      | 20.0        |\n",
    "| 33      | 64.5        | 43      | 63.2        | 53      | 47.6        |\n",
    "| 34      | 39.6        | 44      | 34.9        | 54      | 29.5        |\n",
    "| 35      | 24.0        | 45      | 16.6        | 55      | 33.5        |\n",
    "| 36      | 121.9       | 46      | 57.8        | 56      | 69.7        |\n",
    "| 37      | 38.0        | 47      | 63.6        | 57      | 23.2        |\n",
    "| 38      | 28.5        | 48      | 46.0        | 58      | 21.8        |\n",
    "| 39      | 38.0        | 49      | 24.6        | 59      | 56.8        |\n",
    "| 40      | 83.0        | 50      | 28.4        | 60      | 51.5        |\n"
   ]
  },
  {
   "cell_type": "code",
   "execution_count": null,
   "metadata": {
    "collapsed": true
   },
   "outputs": [],
   "source": [
    "# Datos\n"
   ]
  },
  {
   "cell_type": "code",
   "execution_count": null,
   "metadata": {
    "collapsed": true
   },
   "outputs": [],
   "source": [
    "# importar serie de aportación\n"
   ]
  },
  {
   "cell_type": "code",
   "execution_count": null,
   "metadata": {
    "collapsed": true
   },
   "outputs": [],
   "source": [
    "# crear serie de demanda\n"
   ]
  },
  {
   "cell_type": "markdown",
   "metadata": {},
   "source": [
    "### Método gráfico\n",
    "#### Curva de caudales\n",
    "Representa la serie anual de caudal, ya sea aportación o demanda"
   ]
  },
  {
   "cell_type": "code",
   "execution_count": null,
   "metadata": {
    "collapsed": true
   },
   "outputs": [],
   "source": [
    "# gráficos de línea\n",
    "\n",
    "\n",
    "\n",
    "plt.xlim(1931, 1960)\n",
    "plt.ylim(-40, 140)\n",
    "plt.ylabel('hm³', fontsize=13)\n",
    "plt.legend(fontsize=12);\n",
    " "
   ]
  },
  {
   "cell_type": "code",
   "execution_count": null,
   "metadata": {},
   "outputs": [],
   "source": [
    "# años con déficit\n",
    "\n"
   ]
  },
  {
   "cell_type": "markdown",
   "metadata": {},
   "source": [
    "Si no hubiera embalse, los años en que la serie de aportación es inferior a la serie de demanda corresponderían a años con déficit, sumando un total de 12 años sobre los 30 años de serie."
   ]
  },
  {
   "cell_type": "markdown",
   "metadata": {},
   "source": [
    "#### Curva de caudales acumulados\n",
    "Para poder tener en cuenta la acumulación de caudal entre diversos años, debe usarse la serie de caudales acumulados. Con esta serie se puede comprobar si hay un déficit crónico del recurso, o si a largo plazo existe recurso suficiente para cubrir la demanda."
   ]
  },
  {
   "cell_type": "code",
   "execution_count": null,
   "metadata": {
    "collapsed": true
   },
   "outputs": [],
   "source": [
    "# calcular la serie de caudales acumulados\n"
   ]
  },
  {
   "cell_type": "code",
   "execution_count": null,
   "metadata": {},
   "outputs": [],
   "source": [
    "# gráficos de línea\n",
    "\n",
    "\n",
    "plt.xlim(1930, 1960)\n",
    "plt.ylim(0, 1400)\n",
    "plt.ylabel('hm³', fontsize=13)\n",
    "plt.legend(fontsize=12);"
   ]
  },
  {
   "cell_type": "markdown",
   "metadata": {},
   "source": [
    "En la gráfica de las series acumuladas se comprueba que a medio plazo la aportación es superior a la demanda. Por tanto, la regulación por medio de un embalse permitiría reducir el déficit en la oferta."
   ]
  },
  {
   "cell_type": "markdown",
   "metadata": {},
   "source": [
    "#### Curva de diferencia de cuadales acumulados\n",
    "Para evitar el problema de que la curva de caudales acumulados es siempre creciente y por tanto difícil de manejar, se calcula la diferencia entre dicha curva y un caudal de referencia (generalmente el caudal medio)."
   ]
  },
  {
   "cell_type": "code",
   "execution_count": null,
   "metadata": {},
   "outputs": [],
   "source": [
    "# establecer el caudal de referencia\n",
    "\n",
    "\n",
    "# diferencias acumuladas de la aportación\n",
    "\n",
    "\n",
    "# diferencias acumuladas de la demanda\n",
    "\n",
    "\n",
    "data21.head()"
   ]
  },
  {
   "cell_type": "code",
   "execution_count": 1,
   "metadata": {},
   "outputs": [
    {
     "ename": "NameError",
     "evalue": "name 'plt' is not defined",
     "output_type": "error",
     "traceback": [
      "\u001b[0;31m---------------------------------------------------------------------------\u001b[0m",
      "\u001b[0;31mNameError\u001b[0m                                 Traceback (most recent call last)",
      "\u001b[0;32m<ipython-input-1-90c486b49fc2>\u001b[0m in \u001b[0;36m<module>\u001b[0;34m()\u001b[0m\n\u001b[1;32m      2\u001b[0m \u001b[0;34m\u001b[0m\u001b[0m\n\u001b[1;32m      3\u001b[0m \u001b[0;34m\u001b[0m\u001b[0m\n\u001b[0;32m----> 4\u001b[0;31m \u001b[0mplt\u001b[0m\u001b[0;34m.\u001b[0m\u001b[0mxlim\u001b[0m\u001b[0;34m(\u001b[0m\u001b[0;36m1930\u001b[0m\u001b[0;34m,\u001b[0m \u001b[0;36m1960\u001b[0m\u001b[0;34m)\u001b[0m\u001b[0;34m\u001b[0m\u001b[0;34m\u001b[0m\u001b[0m\n\u001b[0m\u001b[1;32m      5\u001b[0m \u001b[0mplt\u001b[0m\u001b[0;34m.\u001b[0m\u001b[0mylabel\u001b[0m\u001b[0;34m(\u001b[0m\u001b[0;34m'volumen (hm³)'\u001b[0m\u001b[0;34m,\u001b[0m \u001b[0mfontsize\u001b[0m\u001b[0;34m=\u001b[0m\u001b[0;36m13\u001b[0m\u001b[0;34m)\u001b[0m\u001b[0;34m\u001b[0m\u001b[0;34m\u001b[0m\u001b[0m\n\u001b[1;32m      6\u001b[0m \u001b[0mplt\u001b[0m\u001b[0;34m.\u001b[0m\u001b[0mlegend\u001b[0m\u001b[0;34m(\u001b[0m\u001b[0mfontsize\u001b[0m\u001b[0;34m=\u001b[0m\u001b[0;36m13\u001b[0m\u001b[0;34m)\u001b[0m\u001b[0;34m;\u001b[0m\u001b[0;34m\u001b[0m\u001b[0;34m\u001b[0m\u001b[0m\n",
      "\u001b[0;31mNameError\u001b[0m: name 'plt' is not defined"
     ]
    }
   ],
   "source": [
    "# gráficas de línea\n",
    "\n",
    "\n",
    "plt.xlim(1930, 1960)\n",
    "plt.ylabel('volumen (hm³)', fontsize=13)\n",
    "plt.legend(fontsize=13);"
   ]
  },
  {
   "cell_type": "markdown",
   "metadata": {},
   "source": [
    "#### Curva de demanda servida \n",
    "Esta curva representa el caudal efectivamente servido, en vez del demandado que se exponía en la curva anterior. Para ello, los meses en los que la aportación supera a la demanda, se mantiene el valor de la demanda, y los meses en los que la aportación no cubre la demanda, se otorga el valor de la aportación."
   ]
  },
  {
   "cell_type": "code",
   "execution_count": null,
   "metadata": {
    "collapsed": true
   },
   "outputs": [],
   "source": [
    "# demanda servida\n"
   ]
  },
  {
   "cell_type": "code",
   "execution_count": null,
   "metadata": {},
   "outputs": [],
   "source": [
    "\n",
    "\n",
    "plt.xlim(1930, 1960)\n",
    "plt.ylim(-400, 200)\n",
    "plt.ylabel('volumen (hm³)', fontsize=13)\n",
    "plt.legend(fontsize=13);"
   ]
  },
  {
   "cell_type": "markdown",
   "metadata": {},
   "source": [
    "#### Simulación de la explotación del embalse\n",
    "La capacidad del embalse se representa mediante dos paralelas de la curva de aportación a una distancia igual a la capacidad del embalse. Entre estas dos curvas se representa la curva de volumen embalsado. Esta curva es paralela a la curva de demanda siempre y cuando no corte a las dos curvas que representan la capacidad del embalse, en cuyo caso es coincidente con aquélla de dichas curvas que intersecte."
   ]
  },
  {
   "cell_type": "code",
   "execution_count": null,
   "metadata": {
    "collapsed": true
   },
   "outputs": [],
   "source": [
    "# curva de embalse vacío: aportación + capacidad del embalse\n",
    "\n",
    "# curva de volumen embalsado\n",
    "\n",
    "# curva de caudal vertido por aliviadero/desagüe\n",
    "\n",
    "# curva de caudal deficitario\n"
   ]
  },
  {
   "cell_type": "code",
   "execution_count": null,
   "metadata": {
    "collapsed": true
   },
   "outputs": [],
   "source": [
    "# calcular año a año\n"
   ]
  },
  {
   "cell_type": "code",
   "execution_count": null,
   "metadata": {},
   "outputs": [],
   "source": [
    "fig, ax = plt.subplots(figsize=(16, 6))\n",
    "\n",
    "# Curva de embalse lleno\n",
    "plt.plot(data21.Adifacum, ':', color='k', label='aportación = embalse lleno')\n",
    "# curva de embalse vacío\n",
    "plt.plot(data21.vacio, '--', color='k', label='embalse vacío')\n",
    "# curva de vaciado del embalse\n",
    "plt.plot(data21.vaciado, color='steelblue', label='vaciado del embalse')\n",
    "# vertidos\n",
    "vertido = data21.vertido[data21.vertido.notnull()]\n",
    "vertido = data21.loc[vertido.index, 'Adifacum'] - vertido\n",
    "plt.scatter(vertido.index, vertido, s=15, c='olive', marker='x', label='vertido')\n",
    "# déficits\n",
    "deficit = data21.deficit[data21.deficit.notnull()]\n",
    "deficit = data21.loc[deficit.index, 'vacio'] + deficit\n",
    "plt.scatter(deficit.index, deficit, s=15, c='maroon', marker='x', label='déficit')\n",
    "# horizontal en y=0\n",
    "plt.hlines(0, 1930, 1960, 'k', linewidth=0.7)\n",
    "\n",
    "plt.xlim(1930, 1960)\n",
    "plt.ylim(-50, 200)\n",
    "plt.ylabel('volumen (hm³)', fontsize=13)\n",
    "plt.legend(fontsize=13);"
   ]
  },
  {
   "cell_type": "markdown",
   "metadata": {},
   "source": [
    "#### Resultados"
   ]
  },
  {
   "cell_type": "code",
   "execution_count": null,
   "metadata": {
    "collapsed": true
   },
   "outputs": [],
   "source": [
    "\n",
    "print('nº años con vertido: {0}'.format(n_vertido))"
   ]
  },
  {
   "cell_type": "code",
   "execution_count": null,
   "metadata": {
    "collapsed": true
   },
   "outputs": [],
   "source": [
    "\n",
    "print('nº años con déficit: {0}'.format(n_deficit))"
   ]
  },
  {
   "cell_type": "code",
   "execution_count": null,
   "metadata": {
    "collapsed": true
   },
   "outputs": [],
   "source": [
    "\n",
    "print('volumen total vertido: {0:.0f} hm³'.format(Vvertido))"
   ]
  },
  {
   "cell_type": "code",
   "execution_count": null,
   "metadata": {
    "collapsed": true
   },
   "outputs": [],
   "source": [
    "\n",
    "print('volumen total deficitario: {0:.0f} hm³'.format(Vdeficit))"
   ]
  },
  {
   "cell_type": "code",
   "execution_count": null,
   "metadata": {
    "collapsed": true
   },
   "outputs": [],
   "source": [
    "\n",
    "print('garantía de regulación: {0:.2f} %'.format(Gr * 100))"
   ]
  },
  {
   "cell_type": "code",
   "execution_count": null,
   "metadata": {
    "collapsed": true
   },
   "outputs": [],
   "source": [
    "\n",
    "print('garantía de suministro: {0:.2f} %'.format(Gs * 100))"
   ]
  },
  {
   "cell_type": "code",
   "execution_count": null,
   "metadata": {
    "collapsed": true
   },
   "outputs": [],
   "source": [
    "\n",
    "print('volumen embalsado al final del periodo: {0:.1f} hm³'.format(Vf))"
   ]
  },
  {
   "cell_type": "code",
   "execution_count": null,
   "metadata": {},
   "outputs": [],
   "source": [
    "\n",
    "print('porcentaje de agua utilizada: {0:.1f} %'.format(100 * Autilizada))"
   ]
  },
  {
   "cell_type": "markdown",
   "metadata": {},
   "source": [
    "### Método analítico\n",
    "El método analítico aplica los mismos conceptos anteriormente explicados para el método gráfico, pero de una forma más cómoda cuando se utilizan medios de cálculo como el ordenador. Se evita la complicación de trabajar con caudales acumulados y tener que restar estos por un caudal de referencia."
   ]
  },
  {
   "cell_type": "code",
   "execution_count": null,
   "metadata": {},
   "outputs": [],
   "source": [
    "# serie diferencia entre aportación y demanda\n"
   ]
  },
  {
   "cell_type": "code",
   "execution_count": null,
   "metadata": {
    "collapsed": true
   },
   "outputs": [],
   "source": [
    "# serie de volumen en el embalse\n",
    "\n",
    "# serie de caudal deficitario\n",
    "\n",
    "# serie de caudal vertido\n"
   ]
  },
  {
   "cell_type": "code",
   "execution_count": null,
   "metadata": {},
   "outputs": [],
   "source": [
    "# cálculo año a año\n",
    "\n"
   ]
  },
  {
   "cell_type": "code",
   "execution_count": null,
   "metadata": {
    "collapsed": true
   },
   "outputs": [],
   "source": [
    "def plot_embalse(df, Vc, xlim=None, round=10):\n",
    "    \n",
    "    fig, ax = plt.subplots(ncols=2, figsize=(16, 6), sharex=True, sharey=True)\n",
    "\n",
    "    ax[0].plot(df.demanda, c='maroon', label='demanda')\n",
    "    ax[0].plot(df.aportacion, c='steelblue', label='aportación')\n",
    "    x, y1, y2 = df.index, df.demanda, df.aportacion\n",
    "    ax[0].fill_between(x, y1, y2, where=y2 >= y1, interpolate=True,\n",
    "                       facecolor='steelblue', alpha=0.3, label='exceso')\n",
    "    ax[0].fill_between(x, y1, y2, where=y2 <= y1, interpolate=True,\n",
    "                       facecolor='maroon', alpha=0.3, label='déficit')\n",
    "    if xlim == None:\n",
    "        xlim = (1, df.shape[0])\n",
    "    ymax = np.ceil(df.max().max() / round) * round\n",
    "    ax[0].set(xlim=xlim, ylim=(0, ymax))\n",
    "    ax[0].set_ylabel('volumen (hm³)', fontsize=13)\n",
    "    ax[0].legend(fontsize=12)\n",
    "    ax[0].set_title('aportación vs demanda sin regular', fontsize=14,\n",
    "                   fontweight='bold')\n",
    "\n",
    "\n",
    "    ax[1].fill_between(df.index, df.embalsado, label='embalsado',\n",
    "                       color='steelblue', alpha=0.3)\n",
    "    ax[1].fill_between(df.index, df.embalsado, Vc, label='capacidad',\n",
    "                       color='k', alpha=0.3)\n",
    "    deficit = df.deficit[df.deficit > 0]\n",
    "    ax[1].scatter(deficit.index, deficit, s=15, marker='x', c='maroon', label='déficit')\n",
    "    vertido = df.vertido[df.vertido > 0]\n",
    "    ax[1].scatter(vertido.index, vertido, s=15, marker='x', c='steelblue', label='vertido')\n",
    "    ax[1].set_ylabel('volumen (hm³)', fontsize=13)\n",
    "    ax[1].set_title('aportación vs demanda regulado', fontsize=14,\n",
    "                   fontweight='bold')\n",
    "    ax[1].legend(fontsize=12);"
   ]
  },
  {
   "cell_type": "code",
   "execution_count": null,
   "metadata": {},
   "outputs": [],
   "source": [
    "# gráfica de la explotación del embalse\n"
   ]
  },
  {
   "cell_type": "code",
   "execution_count": null,
   "metadata": {},
   "outputs": [],
   "source": [
    "n_vertido = (data2.vertido > 0).sum()\n",
    "print('nº años con vertido: {0}'.format(n_vertido))\n",
    "\n",
    "n_deficit = (data2.deficit > 0).sum()\n",
    "print('nº años con déficit: {0}'.format(n_deficit))\n",
    "\n",
    "Vvertido = data2.vertido.sum()\n",
    "print('volumen total vertido: {0} hm³'.format(Vvertido))\n",
    "\n",
    "Vdeficit = data2.deficit.sum()\n",
    "print('volumen total deficitario: {0} hm³'.format(Vdeficit))\n",
    "\n",
    "Gr = 1 - n_deficit / data2.shape[0]\n",
    "print('garantía de regulación: {0:.2f} %'.format(Gr * 100))\n",
    "\n",
    "Gs = 1 - Vvertido / data2.demanda.sum()\n",
    "print('garantía de suministro: {0:.2f} %'.format(Gs * 100))\n",
    "\n",
    "print('volumen embalsado al final del periodo: {0:.1f} hm³'.format(data2.embalsado[1960]))\n",
    "\n",
    "Au = 1 - data2.vertido.sum() / data2.aportacion.sum()\n",
    "print('porcentaje de agua utilizada: {0:.2f} %'.format(100 * Au))"
   ]
  },
  {
   "cell_type": "markdown",
   "metadata": {},
   "source": [
    "## <font color=steelblue>Ejercicio 3\n",
    "<font color=steelblue>A un embalse de 100 hm³ de capacidad llegan en un periodo de dos años las aportaciones mensuales mostradas en la tabla 2. La ley de la demanda es la siguiente:\n",
    "*  De octubre a marzo: 50 hm³/mes\n",
    "*  De abril a septiembre: 90 hm³/mes\n",
    "\n",
    "Asumiendo un embalse vacío al inicio del periodo, se pide:\n",
    "*  Determinar en el citado periodo las garantías de suministro y regulación a nivel mensual.\n",
    "*  Obtener la capacidad que se le hubiese tenido que dar al embalse para satisfacer la citada demanda con una garantía de regulación del 80%.\n",
    "\n",
    "Si las aportaciones se repitiesen de igual manera durante seis años consecutivos, ¿cómo cambiarían las garantías y la capacidad necesaria de embalse?\n",
    "\n",
    "_**Tabla 2**. Serie de aportaciones mensuales al embalse en hm³._\n",
    "\n",
    "| mes | año 1 | año 2 |\n",
    "|-----|-------|-------|\n",
    "| oct | 18.8  | 23.3  |\n",
    "| nov | 216.4 | 18.2  |\n",
    "| dic | 161.2 | 37.0  |\n",
    "| ene | 46.9  | 63.5  |\n",
    "| feb | 145.1 | 43.3  |\n",
    "| mar | 181.3 | 154.8 |\n",
    "| abr | 201.7 | 84.3  |\n",
    "| may | 65.1  | 49.3  |\n",
    "| jun | 94.9  | 24.9  |\n",
    "| jul | 26.3  | 17.7  |\n",
    "| ago | 19.3  | 7.2   |\n",
    "| sep | 17.6  | 9.9   |"
   ]
  },
  {
   "cell_type": "code",
   "execution_count": null,
   "metadata": {
    "collapsed": true
   },
   "outputs": [],
   "source": [
    "# Capacidad y volumen inicial del embalse\n",
    "\n",
    "\n",
    "# series de aportación y demanda\n"
   ]
  },
  {
   "cell_type": "code",
   "execution_count": null,
   "metadata": {},
   "outputs": [],
   "source": [
    "plt.plot(A, color='steelblue', label='aportación')\n",
    "plt.plot(D, color='maroon', label='demanda')\n",
    "\n",
    "plt.xlim(1, 24)\n",
    "plt.ylim(0, 250)\n",
    "plt.ylabel('V (hm³)', fontsize=13)\n",
    "plt.legend(fontsize=13);"
   ]
  },
  {
   "cell_type": "markdown",
   "metadata": {},
   "source": [
    "### Serie de 2 años\n",
    "#### Garantías de regulación y suministro"
   ]
  },
  {
   "cell_type": "code",
   "execution_count": null,
   "metadata": {
    "collapsed": true
   },
   "outputs": [],
   "source": [
    "# series necesarias\n",
    "\n",
    "\n",
    "# cálculo secuencial mes a mes\n"
   ]
  },
  {
   "cell_type": "code",
   "execution_count": null,
   "metadata": {},
   "outputs": [],
   "source": [
    "# gráfico de la explotación del embalse\n"
   ]
  },
  {
   "cell_type": "code",
   "execution_count": null,
   "metadata": {},
   "outputs": [],
   "source": [
    "\n",
    "print('garantía de regulación: {0:.2f} %'.format(Gr * 100))\n",
    "\n",
    "\n",
    "print('garantía de suministro: {0:.2f} %'.format(Gs * 100))"
   ]
  },
  {
   "cell_type": "code",
   "execution_count": 2,
   "metadata": {
    "collapsed": true
   },
   "outputs": [],
   "source": [
    "# función de regulación del embalse\n",
    "def regulacion():\n",
    "    \"\"\"\n",
    "    \n",
    "    \"\"\"\n",
    "    \n",
    "    "
   ]
  },
  {
   "cell_type": "markdown",
   "metadata": {},
   "source": [
    "#### Dimensionar embalse"
   ]
  },
  {
   "cell_type": "code",
   "execution_count": null,
   "metadata": {},
   "outputs": [],
   "source": [
    "# Volumen inicial que no cumple el objetivo de garantía\n",
    "\n",
    "print('Vn = {0:.1f} hm³\\tGr = {1:.2f} %'.format(Vn[-1], Gr[-1] * 100))"
   ]
  },
  {
   "cell_type": "code",
   "execution_count": null,
   "metadata": {},
   "outputs": [],
   "source": [
    "# Otro valor de volumen que excede el objetivo de garantía\n",
    "\n",
    "print('Vn = {0:.1f} hm³\\tGr = {1:.2f} %'.format(Vn[-1], Gr[-1] * 100))"
   ]
  },
  {
   "cell_type": "code",
   "execution_count": null,
   "metadata": {
    "collapsed": true
   },
   "outputs": [],
   "source": [
    "# valor objetivo de la garantía\n",
    "\n",
    "# valor aceptado del error"
   ]
  },
  {
   "cell_type": "code",
   "execution_count": null,
   "metadata": {
    "collapsed": true
   },
   "outputs": [],
   "source": [
    "# Aplicar Newton-Raphson"
   ]
  },
  {
   "cell_type": "code",
   "execution_count": null,
   "metadata": {
    "scrolled": false
   },
   "outputs": [],
   "source": [
    "# gráfico que relaciona capacidad del embalse con la garantía de regulación\n",
    "VGr = pd.concat((pd.Series(Vn), pd.Series(Gr)), axis=1)\n",
    "VGr.columns = ['Vn', 'Gr']\n",
    "VGr.sort_values('Vn', inplace=True)\n",
    "plt.plot(VGr.Vn, VGr.Gr * 100, marker='o')\n",
    "plt.xlabel('capacidad (hm³)', fontsize=13)\n",
    "plt.ylabel('Gr (%)', fontsize=13);"
   ]
  },
  {
   "cell_type": "markdown",
   "metadata": {},
   "source": [
    "Se requiere un embalse de capacidad 287.5 hm³ para garantizar una garantía de regulación del 80%."
   ]
  },
  {
   "cell_type": "markdown",
   "metadata": {},
   "source": [
    "### Serie de 6 años\n",
    "#### Garantías de regulación y suministro"
   ]
  },
  {
   "cell_type": "code",
   "execution_count": null,
   "metadata": {},
   "outputs": [],
   "source": [
    "# generar la serie de 6 años \n",
    "\n",
    "\n",
    "\n",
    "plt.plot(data32.aportacion, color='steelblue', label='aportación')\n",
    "plt.plot(data32.demanda, color='maroon', label='demanda')\n",
    "\n",
    "plt.xlim(1, 72)\n",
    "plt.ylim(0, 250)\n",
    "plt.ylabel('V (hm³)', fontsize=13)\n",
    "plt.legend(fontsize=13);"
   ]
  },
  {
   "cell_type": "code",
   "execution_count": null,
   "metadata": {
    "collapsed": true
   },
   "outputs": [],
   "source": [
    "# explotación del embalse"
   ]
  },
  {
   "cell_type": "code",
   "execution_count": null,
   "metadata": {},
   "outputs": [],
   "source": [
    "# gráfico de la explotación del embalse"
   ]
  },
  {
   "cell_type": "code",
   "execution_count": null,
   "metadata": {},
   "outputs": [],
   "source": [
    "\n",
    "print('garantía de regulación: {0:.2f} %'.format(Gr * 100))\n",
    "\n",
    "\n",
    "print('garantía de suministro: {0:.2f} %'.format(Gs * 100))"
   ]
  },
  {
   "cell_type": "markdown",
   "metadata": {},
   "source": [
    "Como el embalse se encuentra vacío al final del periodo de dos años al igual que al inicio de la serie, las curvas de embalsado, déficit y vertido para la serie de 6 años son idénticas a la de 2 años. Por tanto, se espera que la garantía de suministro sea idéntica."
   ]
  },
  {
   "cell_type": "markdown",
   "metadata": {},
   "source": [
    "#### Dimensionar el embalse"
   ]
  },
  {
   "cell_type": "code",
   "execution_count": null,
   "metadata": {
    "collapsed": true
   },
   "outputs": [],
   "source": [
    "# Volumen del enunciado\n",
    "\n",
    "print('Vn = {0:.1f} hm³\\tGr = {1:.2f} %'.format(Vn[-1], Gr[-1] * 100))"
   ]
  },
  {
   "cell_type": "code",
   "execution_count": null,
   "metadata": {},
   "outputs": [],
   "source": [
    "# volumen que excede el objetivo de garantía\n",
    "\n",
    "print('Vn = {0:.1f} hm³\\tGr = {1:.2f} %'.format(Vn[-1], Gr[-1] * 100))"
   ]
  },
  {
   "cell_type": "code",
   "execution_count": 3,
   "metadata": {},
   "outputs": [],
   "source": [
    "# Aplicar Newton-Raphson\n"
   ]
  },
  {
   "cell_type": "markdown",
   "metadata": {},
   "source": [
    "El dimensionamiento del embalse tampoco cambia con la nueva serie."
   ]
  },
  {
   "cell_type": "markdown",
   "metadata": {},
   "source": [
    "## <font color=steelblue>Ejercicio 4\n",
    "<font color=steelblue>Las aportaciones mensuales de un año promedio en una sercción de un río son las dadas en la tabla 3. Ante unas demandas previas de:\n",
    "*  45 hm³/mes de octubre a febrero.\n",
    "*  55 hm³/mes de marzo a mayo.\n",
    "*  65 hm³/mes de junio a septiembre.\n",
    "\n",
    "Se pide calcular.\n",
    "*  Asumiendo que no existe embalse alguno, los volúmenes de agua no utilizados y las garantías de regulación y suministro.\n",
    "*  Asumiendo que existe un embalse de 500 hm³ lleno hasta la mitad al comienzo del periodo, el volumen de agua no utilizado y las garantías de regulación y suministro.\n",
    "*  El volumen de embalse necesario para conseguir una garantía del 100% tanto con vertido como sin vertido.\n",
    "\n",
    "_**Tabla 3**. Serie de aportaciones mensuales en la sección del río en hm³._\n",
    "\n",
    "| mes | apor. | | mes | apor. |\n",
    "|-----|-------| |-----|-------|\n",
    "| oct | 65    | | abr | 90    |\n",
    "| nov | 80    | | may | 105   |\n",
    "| dic | 88    | | jun | 90    |\n",
    "| ene | 50    | | jul | 39    |\n",
    "| feb | 40    | | ago | 20    |\n",
    "| mar | 35    | | sep | 30    |"
   ]
  },
  {
   "cell_type": "code",
   "execution_count": null,
   "metadata": {},
   "outputs": [],
   "source": [
    "# series de aportación y demanda\n",
    "\n",
    "\n",
    "\n",
    "plt.plot(data4.aportacion, color='steelblue', label='aportación')\n",
    "plt.plot(data4.demanda, color='maroon', label='demanda')\n",
    "\n",
    "plt.xlim(0, 11)\n",
    "plt.ylim(0, 250)\n",
    "plt.ylabel('V (hm³)', fontsize=13)\n",
    "plt.legend(fontsize=13);"
   ]
  },
  {
   "cell_type": "markdown",
   "metadata": {},
   "source": [
    "### Sin embalse"
   ]
  },
  {
   "cell_type": "code",
   "execution_count": null,
   "metadata": {
    "collapsed": true
   },
   "outputs": [],
   "source": [
    "# regulación natural\n"
   ]
  },
  {
   "cell_type": "code",
   "execution_count": null,
   "metadata": {},
   "outputs": [],
   "source": [
    "# volumen de agua no utilizado\n",
    "\n",
    "print('volumen de agua no utilizado: {0:.2f} hm³'.format(Vu))"
   ]
  },
  {
   "cell_type": "code",
   "execution_count": null,
   "metadata": {},
   "outputs": [],
   "source": [
    "\n",
    "print('garantía de regulación: {0:.2f} %'.format(Gr * 100))"
   ]
  },
  {
   "cell_type": "code",
   "execution_count": null,
   "metadata": {},
   "outputs": [],
   "source": [
    "\n",
    "print('garantía de suministro: {0:.2f} %'.format(Gs * 100))"
   ]
  },
  {
   "cell_type": "markdown",
   "metadata": {},
   "source": [
    "### Embalse de 50 hm³"
   ]
  },
  {
   "cell_type": "code",
   "execution_count": null,
   "metadata": {
    "collapsed": true
   },
   "outputs": [],
   "source": [
    "# capacidad del embalse y volumen embalsado al inicio\n"
   ]
  },
  {
   "cell_type": "code",
   "execution_count": null,
   "metadata": {
    "collapsed": true
   },
   "outputs": [],
   "source": [
    "# regulación del embalse\n"
   ]
  },
  {
   "cell_type": "code",
   "execution_count": null,
   "metadata": {},
   "outputs": [],
   "source": [
    "# gráfica de la regulación del embalse\n"
   ]
  },
  {
   "cell_type": "code",
   "execution_count": null,
   "metadata": {},
   "outputs": [],
   "source": [
    "\n",
    "print('volumen de agua no utilizado: {0:.2f} hm³'.format(Vu / n_years))"
   ]
  },
  {
   "cell_type": "code",
   "execution_count": null,
   "metadata": {},
   "outputs": [],
   "source": [
    "\n",
    "print('garantía de regulación: {0:.2f} %'.format(Gr * 100))"
   ]
  },
  {
   "cell_type": "code",
   "execution_count": null,
   "metadata": {},
   "outputs": [],
   "source": [
    "\n",
    "print('garantía de suministro: {0:.2f} %'.format(Gs * 100))"
   ]
  },
  {
   "cell_type": "markdown",
   "metadata": {},
   "source": [
    "### Dimensionar el embalse"
   ]
  },
  {
   "cell_type": "code",
   "execution_count": null,
   "metadata": {
    "scrolled": true
   },
   "outputs": [],
   "source": [
    "# valor objetivo de garantía\n",
    "\n",
    "# valores secuenciales del volumen\n",
    "\n",
    "\n",
    "# cálculo sucesivo de volumen hasta cumplir el objetivo\n"
   ]
  },
  {
   "cell_type": "code",
   "execution_count": null,
   "metadata": {},
   "outputs": [],
   "source": [
    "# regulación del nuevo embalse\n"
   ]
  },
  {
   "cell_type": "markdown",
   "metadata": {},
   "source": [
    "## <font color=steelblue>Ejercicio 5\n",
    "<font color=steelblue>A un embalse de 10 hm³ de capacidad, inicialmente vacío, llegan en un periodo de dos años consecutivos las aportaciones mensuales mostradas en la tabla 4. El embalse se pretende utilizar para el abastecimiento de una población (demanda constante de 4 hm³/mes) y para riego (consumo de 2 hm³/mes de octubre a marzo y de 6 hm³/mes de abril a septiembre. Se pide calcular:\n",
    "\n",
    "*  Los vertidos con sus periodos, así como los déficit mensuales con las correspondientes garantías para la demanda conjunta.\n",
    "*  A partir de los déficit mensuales obtenidos en el apartado anterior, las garantías de regulación de cada una de las demandas, asumiendo la prioridad del riego.\n",
    "*  El volumen de embalse necesario para conseguir una garantía del 100% tanto con vertido como sin vertido.\n",
    "\n",
    "_**Tabla 4**. Serie de aportaciones mensuales al embalse en hm³._\n",
    "\n",
    "| mes | año 1 | año 2 |\n",
    "|-----|-------|-------|\n",
    "| oct | 3  | 2 |\n",
    "| nov | 7 | 12  |\n",
    "| dic | 10 | 8  |\n",
    "| ene | 6  | 19  |\n",
    "| feb | 13 | 19  |\n",
    "| mar | 18 | 29 |\n",
    "| abr | 17 | 15  |\n",
    "| may | 8  | 9  |\n",
    "| jun | 13  | 6  |\n",
    "| jul | 4  | 2  |\n",
    "| ago | 1  | 1   |\n",
    "| sep | 2  | 2   |"
   ]
  },
  {
   "cell_type": "code",
   "execution_count": null,
   "metadata": {
    "collapsed": true
   },
   "outputs": [],
   "source": [
    "# capacidad y volumen inicial del embalse (hm³)\n"
   ]
  },
  {
   "cell_type": "code",
   "execution_count": null,
   "metadata": {
    "collapsed": true
   },
   "outputs": [],
   "source": [
    "# aportación\n"
   ]
  },
  {
   "cell_type": "code",
   "execution_count": null,
   "metadata": {
    "collapsed": true
   },
   "outputs": [],
   "source": [
    "# demanda de la población\n"
   ]
  },
  {
   "cell_type": "code",
   "execution_count": null,
   "metadata": {
    "collapsed": true
   },
   "outputs": [],
   "source": [
    "# demanda de riego\n"
   ]
  },
  {
   "cell_type": "code",
   "execution_count": null,
   "metadata": {},
   "outputs": [],
   "source": [
    "# data frame con las series de aportación y demandas\n",
    "\n",
    "\n",
    "plt.plot(data5.aportacion, color='steelblue', label='aportación')\n",
    "plt.plot(data5.demanda, color='maroon', label='demanda')\n",
    "plt.plot(data5.demanda_p, ':', color='maroon', label='demanda población')\n",
    "plt.plot(data5.demanda_r, '--', color='maroon', label='demanda riego')\n",
    "\n",
    "plt.xlim(1, 24)\n",
    "plt.ylim(0, 30)\n",
    "plt.ylabel('V (hm³)', fontsize=13)\n",
    "plt.legend(fontsize=13);"
   ]
  },
  {
   "cell_type": "markdown",
   "metadata": {},
   "source": [
    "### Demanda conjunta"
   ]
  },
  {
   "cell_type": "code",
   "execution_count": null,
   "metadata": {
    "collapsed": true
   },
   "outputs": [],
   "source": [
    "# calcular la regulación del embalse\n"
   ]
  },
  {
   "cell_type": "code",
   "execution_count": null,
   "metadata": {},
   "outputs": [],
   "source": [
    "# gráfica de la regulación del embalse\n"
   ]
  },
  {
   "cell_type": "code",
   "execution_count": null,
   "metadata": {},
   "outputs": [],
   "source": [
    "\n",
    "print('nº meses con vertido: {0}'.format(nvertido))\n",
    "\n",
    "print('volumen vertido: {0:.1f} hm³'.format(Vvertido))"
   ]
  },
  {
   "cell_type": "code",
   "execution_count": null,
   "metadata": {},
   "outputs": [],
   "source": [
    "\n",
    "print('nº meses con deficit: {0}'.format(ndeficit))\n",
    "\n",
    "print('volumen deficit: {0:.1f} hm³'.format(Vdeficit))"
   ]
  },
  {
   "cell_type": "code",
   "execution_count": null,
   "metadata": {},
   "outputs": [],
   "source": [
    "\n",
    "print('garantía de regulación: {0:.2f} %'.format(Gr * 100))\n",
    "\n",
    "print('garantía de suministro: {0:.2f} %'.format(Gs * 100))"
   ]
  },
  {
   "cell_type": "markdown",
   "metadata": {},
   "source": [
    "### Demandas independientes"
   ]
  },
  {
   "cell_type": "code",
   "execution_count": null,
   "metadata": {
    "collapsed": true
   },
   "outputs": [],
   "source": [
    "# series necesarias\n"
   ]
  },
  {
   "cell_type": "code",
   "execution_count": null,
   "metadata": {
    "collapsed": true
   },
   "outputs": [],
   "source": [
    "# calcular la explotación del embalse\n"
   ]
  },
  {
   "cell_type": "code",
   "execution_count": null,
   "metadata": {},
   "outputs": [],
   "source": [
    "fig, ax = plt.subplots(ncols=2, figsize=(16, 6), sharex=True, sharey=True)\n",
    "\n",
    "ax[0].plot(data5.demanda, c='maroon', label='demanda total')\n",
    "ax[0].plot(data52.demanda_r, '--', c='maroon', label='d. riego')\n",
    "ax[0].plot(data52.demanda_p, ':', c='maroon', label='d. población')\n",
    "ax[0].plot(data52.aportacion, c='steelblue', label='aportación')\n",
    "x, y1, y2 = data52.index, data5.demanda, data52.aportacion\n",
    "ax[0].fill_between(x, y1, y2, where=y2 >= y1, interpolate=True,\n",
    "                   facecolor='steelblue', alpha=0.3, label='exceso')\n",
    "ax[0].fill_between(x, y1, y2, where=y2 <= y1, interpolate=True,\n",
    "                   facecolor='maroon', alpha=0.3, label='déficit')\n",
    "ax[0].set(xlim=(1, data52.shape[0]), ylim=(0, 30))\n",
    "ax[0].set_ylabel('volumen (hm³)', fontsize=13)\n",
    "ax[0].legend(fontsize=12)\n",
    "ax[0].set_title('aportación vs demanda_r sin regular', fontsize=14,\n",
    "               fontweight='bold')\n",
    "\n",
    "\n",
    "ax[1].fill_between(data52.index, data52.embalsado, label='embalsado',\n",
    "                   color='steelblue', alpha=0.3)\n",
    "ax[1].fill_between(data52.index, data52.embalsado, Vc, label='capacidad',\n",
    "                   color='k', alpha=0.3)\n",
    "deficit_r = data52.deficit_r[data52.deficit_r > 0]\n",
    "ax[1].scatter(deficit_r.index, deficit_r, s=50, marker='|', c='maroon',\n",
    "              label='déficit riego')\n",
    "deficit_p = data52.deficit_p[data52.deficit_p > 0]\n",
    "ax[1].scatter(deficit_p.index, deficit_p, s=50, marker='_', c='maroon',\n",
    "              label='déficit población')\n",
    "vertido = data52.vertido[data52.vertido > 0]\n",
    "ax[1].scatter(vertido.index, vertido, s=50, marker='+', c='steelblue',\n",
    "              label='vertido')\n",
    "ax[1].set_ylabel('volumen (hm³)', fontsize=13)\n",
    "ax[1].set_title('aportación vs demanda_r regulado', fontsize=14,\n",
    "               fontweight='bold')\n",
    "ax[1].legend(fontsize=12);"
   ]
  },
  {
   "cell_type": "code",
   "execution_count": null,
   "metadata": {},
   "outputs": [],
   "source": [
    "\n",
    "print('garantía de regulación del riego: {0:.2f} %'.format(Gr * 100))\n",
    "\n",
    "print('garantía de suministro del riego: {0:.2f} %'.format(Gs * 100))"
   ]
  },
  {
   "cell_type": "code",
   "execution_count": null,
   "metadata": {},
   "outputs": [],
   "source": [
    "\n",
    "print('garantía de regulación de la población: {0:.2f} %'.format(Gr * 100))\n",
    "\n",
    "print('garantía de suministro de la población: {0:.2f} %'.format(Gs * 100))"
   ]
  },
  {
   "cell_type": "markdown",
   "metadata": {},
   "source": [
    "### Dimensionar embalse"
   ]
  },
  {
   "cell_type": "code",
   "execution_count": null,
   "metadata": {},
   "outputs": [],
   "source": [
    "# generar una serie de aportación de 6 años\n"
   ]
  },
  {
   "cell_type": "code",
   "execution_count": null,
   "metadata": {},
   "outputs": [],
   "source": [
    "# generar una serie de demanda de 6 años\n"
   ]
  },
  {
   "cell_type": "code",
   "execution_count": null,
   "metadata": {},
   "outputs": [],
   "source": [
    "# objetivo de garantía\n",
    "\n",
    "# serie creciende de valores de la capacidad del embalse\n",
    "\n",
    "# calcular secuencialmente la garantía hasta cumplir el objetivo\n"
   ]
  },
  {
   "cell_type": "code",
   "execution_count": null,
   "metadata": {},
   "outputs": [],
   "source": [
    "# explotación del nuevo embalse"
   ]
  },
  {
   "cell_type": "markdown",
   "metadata": {},
   "source": [
    "No se alcanza la garantía del 100% porque no es posible servir el primer mes de la serie si la condición inicial es embalse vacío. Sin embargo, con el volumen calculado, se consigue que el embalse no se vacíe al final de cada ciclo bianual, con lo que se evita el déficit en octubre."
   ]
  },
  {
   "cell_type": "markdown",
   "metadata": {},
   "source": [
    "## <font color=steelblue>Ejercicio 6\n",
    "<font color=steelblue>Realiza una caracterización de la sequía para la información climática proporcionada en Moodle utilizando los índices SPI y SPEI. Explica el procedimiento utilizado y compara los resultados obtenidos.\n",
    "\n",
    "Discute la capacidad de ambos índices de capturar los posibles impactos de la sequía, destacando aquellos que no pueden capturar. ¿Qué características debería incluir un índice que sí fuese capaz de capturar dichos impactos? Se valorará la discusión de otros índices presentes en la literatura técnica y científica que puedan incluir características no capturadas por el SPI y el SPEI."
   ]
  },
  {
   "cell_type": "code",
   "execution_count": null,
   "metadata": {},
   "outputs": [],
   "source": [
    "# cargar datos\n",
    "\n",
    "\n",
    "\n",
    "fig, ax = plt.subplots(nrows=3, figsize=(15, 15), sharex=True)\n",
    "\n",
    "ax[0].bar(data6.index, data6.Precp, width=1)\n",
    "ax[0].set_xlim(data6.index[0], data6.index[-1])\n",
    "ax[0].set_ylim(0, 40)\n",
    "ax[0].set_ylabel('precipitacion (mm)', fontsize=14)\n",
    "\n",
    "ax[1].plot(data6.Temp, color='indianred', linewidth=1)\n",
    "ax[1].set_ylim(10, 35)\n",
    "ax[1].set_ylabel('temperatura (ºC)', fontsize=14)\n",
    "\n",
    "ax[2].bar(data6.index, data6.Evap, color='olive', width=1)\n",
    "ax[2].set_ylim(0, 14)\n",
    "ax[2].set_ylabel('evaporación (mm)', fontsize=14);"
   ]
  },
  {
   "cell_type": "markdown",
   "metadata": {},
   "source": [
    "### Standard precipitation index: SPI\n",
    "\n",
    "El SPI es un índice de sequía basado únicamente en la precipitación, por lo que sólo es capaz de predecir la sequía meteorológico. Dentro de sus ventajas está que puede calcularse para distintas agregaciones temporales (1-3-6-12-24 meses), con lo que se pueden identificar sequías de diversa duración."
   ]
  },
  {
   "cell_type": "code",
   "execution_count": null,
   "metadata": {
    "collapsed": true
   },
   "outputs": [],
   "source": [
    "import scipy.stats as stats"
   ]
  },
  {
   "cell_type": "markdown",
   "metadata": {},
   "source": [
    "#### Anual"
   ]
  },
  {
   "cell_type": "code",
   "execution_count": null,
   "metadata": {},
   "outputs": [],
   "source": [
    "# serie de medias mensuales\n"
   ]
  },
  {
   "cell_type": "code",
   "execution_count": null,
   "metadata": {},
   "outputs": [],
   "source": [
    "# ajustar la función de distribución gamma\n",
    "\n",
    "print('alpha = {0:.3f}\\tloc = {1:.3f}\\tbeta = {2:.3f}'.format(alpha, loc, beta))"
   ]
  },
  {
   "cell_type": "code",
   "execution_count": null,
   "metadata": {},
   "outputs": [],
   "source": [
    "# plotear la función de distribución y de densidad de la gamma ajustada\n",
    "\n",
    "\n",
    "fig, ax = plt.subplots(ncols=2, figsize=(12, 5), sharex=True)\n",
    "\n",
    "# función de distribución\n",
    "ax[0].plot(pcps, pdf_gamma)\n",
    "ax[0].set(xlim=(0, 10), ylim=(0, 1.2))\n",
    "ax[0].set_xlabel('precipitación (mm)', fontsize=13)\n",
    "ax[0].set_ylabel('función de distribución (pdf)', fontsize=13)\n",
    "\n",
    "# función de densidad\n",
    "ax[1].plot(pcps, cdf_gamma)\n",
    "ax[1].set(ylim=(0, 1))\n",
    "ax[1].set_xlabel('precipitación (mm)', fontsize=13)\n",
    "ax[1].set_ylabel('función de densidad (cdf)', fontsize=13);"
   ]
  },
  {
   "cell_type": "markdown",
   "metadata": {},
   "source": [
    "Seguidamente se calcula, a modo de ejemplo, el SPI para un año aleatorio (en este caso el 11 dato de la serie). En el gráfico más abajo se explica de manera visual cuál es el procedimiento. Se calcula la probabilidad de no excendencia del dato de la serie según la distribución gamma; para dicho valor de probabilidad, se extrae de la normal el valor que generaría dicha probabilidad; dicho valor es el SPI."
   ]
  },
  {
   "cell_type": "code",
   "execution_count": null,
   "metadata": {},
   "outputs": [],
   "source": [
    "# Calcular el SPI de un año concreto\n",
    "\n",
    "print('pcp = {0:.2f} mm/d \\tcdf = {1:.3f}\\tSPI = {2:.3f}'.format(pcp, cdf, SPI))"
   ]
  },
  {
   "cell_type": "code",
   "execution_count": null,
   "metadata": {},
   "outputs": [],
   "source": [
    "# plotear el método de cálculo\n",
    "spis = np.arange(-5, 5, 0.1)\n",
    "cdf_norm = stats.norm.cdf(spis, loc=0, scale=1)\n",
    "\n",
    "fig, ax = plt.subplots(ncols=2, figsize=(12, 5), sharey=True)\n",
    "\n",
    "# función de distribución\n",
    "ax[0].plot(pcps, cdf_gamma)\n",
    "ax[0].vlines(pcp, 0, cdf, linestyle='--', linewidth=0.7)\n",
    "ax[0].hlines(cdf, pcp, 20, linestyle='--', linewidth=0.7)\n",
    "ax[0].set(xlim=(0, 10), ylim=(0, 1))\n",
    "ax[0].set_xlabel('precipitación (mm)', fontsize=13)\n",
    "ax[0].set_ylabel('cdf-gamma', fontsize=13)\n",
    "\n",
    "# función de densidad\n",
    "ax[1].plot(spis, cdf_norm)\n",
    "ax[1].hlines(cdf, -10, SPI, linestyle='--', linewidth=0.7)\n",
    "ax[1].vlines(SPI, 0, cdf, linestyle='--', linewidth=0.7)\n",
    "ax[1].set(xlim=(-3, 3), ylim=(0, 1))\n",
    "ax[1].set_xlabel('SPI', fontsize=13)\n",
    "ax[1].set_ylabel('cdf-normal', fontsize=13);"
   ]
  },
  {
   "cell_type": "code",
   "execution_count": null,
   "metadata": {
    "collapsed": true
   },
   "outputs": [],
   "source": [
    "# calcular el SPI para la serie anual\n"
   ]
  },
  {
   "cell_type": "code",
   "execution_count": null,
   "metadata": {
    "collapsed": true
   },
   "outputs": [],
   "source": [
    "def plot_SPI(df, title):\n",
    "    fig, ax = plt.subplots(figsize=(12, 5))\n",
    "\n",
    "    ax.plot(df, color='k', linewidth=1.2)\n",
    "    ax.fill_between(df.index, -3, -2, color='indianred', alpha=0.4,\n",
    "                     label='sequía extrema')\n",
    "    ax.fill_between(df.index, -2, -1.5, color='indianred', alpha=0.3,\n",
    "                     label='sequía severa')\n",
    "    ax.fill_between(df.index, -1.5, -1, color='indianred', alpha=0.2,\n",
    "                     label='sequía moderada')\n",
    "    ax.fill_between(df.index, -1, 0, color='indianred', alpha=0.1,\n",
    "                     label='sequía ligera')\n",
    "    ax.fill_between(df.index, 0, 1, color='steelblue', alpha=0.1,\n",
    "                     label='húmedo ligero')\n",
    "    ax.fill_between(df.index, 1, 1.5, color='steelblue', alpha=0.2,\n",
    "                     label='húmedo moderado')\n",
    "    ax.fill_between(df.index, 1.5, 2, color='steelblue', alpha=0.3,\n",
    "                     label='húmedo severo')\n",
    "    ax.fill_between(df.index, 2, 3, color='steelblue', alpha=0.4,\n",
    "                     label='húmedo extremo')\n",
    "    ax.set(xlim=(df.index[0], df.index[-1]), ylim=(-3, 3))\n",
    "    ax.set_title(title, fontsize=14)\n",
    "    fig.legend(loc=[0.15, 0], ncol=4, fontsize=11);"
   ]
  },
  {
   "cell_type": "code",
   "execution_count": null,
   "metadata": {},
   "outputs": [],
   "source": [
    "# gráfica del SPI anual\n"
   ]
  },
  {
   "cell_type": "markdown",
   "metadata": {},
   "source": [
    "#### Mensual"
   ]
  },
  {
   "cell_type": "code",
   "execution_count": null,
   "metadata": {},
   "outputs": [],
   "source": [
    "# serie de medias mensuales\n",
    "# ========================\n"
   ]
  },
  {
   "cell_type": "code",
   "execution_count": null,
   "metadata": {},
   "outputs": [],
   "source": [
    "# Ajustar la función gamma\n",
    "# ========================\n",
    "# Data frame donde guardar los parámetros de la gamma ajustada para cada mes\n"
   ]
  },
  {
   "cell_type": "code",
   "execution_count": null,
   "metadata": {
    "collapsed": true
   },
   "outputs": [],
   "source": [
    "# serie mensual de SPI\n",
    "# ====================\n"
   ]
  },
  {
   "cell_type": "code",
   "execution_count": null,
   "metadata": {},
   "outputs": [],
   "source": [
    "# gráfica del SPI mensual"
   ]
  },
  {
   "cell_type": "markdown",
   "metadata": {},
   "source": [
    "### Standard precipitation-evapotranspiration index: SPEI\n",
    "El SPEI es un índice derivado del SPEI en el que se incluye la evapotranspiración, con la idea de crear un índice de sequía hidrológica al añadir más variables del ciclo hidrológico. Al igual que el SPI, permite analizar diversas agregaciones temporales, con lo que se pueden identificar sequías de diversa duración.\n",
    "#### Anual"
   ]
  },
  {
   "cell_type": "code",
   "execution_count": null,
   "metadata": {
    "collapsed": true
   },
   "outputs": [],
   "source": [
    "# variable a la que se aplica el SPEI: diferencia de preciptiación y\n",
    "# evapotranspiración (D)\n"
   ]
  },
  {
   "cell_type": "code",
   "execution_count": null,
   "metadata": {},
   "outputs": [],
   "source": [
    "# ajustar la función de distribución gamma\n",
    "\n",
    "print('alpha = {0:.3f}\\tloc = {1:.3f}\\tbeta = {2:.3f}'.format(alpha, loc, beta))"
   ]
  },
  {
   "cell_type": "code",
   "execution_count": null,
   "metadata": {
    "collapsed": true
   },
   "outputs": [],
   "source": [
    "# serie anual de SPEI\n"
   ]
  },
  {
   "cell_type": "code",
   "execution_count": null,
   "metadata": {},
   "outputs": [],
   "source": [
    "# gráfica del SPEI anual\n"
   ]
  },
  {
   "cell_type": "markdown",
   "metadata": {},
   "source": [
    "#### Mensual"
   ]
  },
  {
   "cell_type": "code",
   "execution_count": null,
   "metadata": {
    "collapsed": true
   },
   "outputs": [],
   "source": [
    "# variable a la que se aplica el SPEI: diferencia de preciptiación y\n",
    "# evapotranspiración (D)\n"
   ]
  },
  {
   "cell_type": "code",
   "execution_count": null,
   "metadata": {},
   "outputs": [],
   "source": [
    "# Ajustar la función gamma a cada mes\n",
    "# Data frame donde guardar los parámetros de la gamma ajustada para cada mes\n"
   ]
  },
  {
   "cell_type": "code",
   "execution_count": null,
   "metadata": {
    "collapsed": true
   },
   "outputs": [],
   "source": [
    "# serie mensual de SPEI\n"
   ]
  },
  {
   "cell_type": "code",
   "execution_count": null,
   "metadata": {},
   "outputs": [],
   "source": [
    "# gráfica del SPEI mensual"
   ]
  },
  {
   "cell_type": "markdown",
   "metadata": {},
   "source": [
    "#### Comparación de métodos y agregaciones"
   ]
  },
  {
   "cell_type": "code",
   "execution_count": null,
   "metadata": {},
   "outputs": [],
   "source": [
    "fig, axes = plt.subplots(ncols=2, nrows=2, figsize=(16, 12))\n",
    "\n",
    "for i in np.arange(0, 4):\n",
    "    r, c = int(i / 2), i % 2\n",
    "    if i == 0:\n",
    "        serie = SPIy\n",
    "        title = 'SPI anual'\n",
    "    elif i == 1:\n",
    "        serie = SPIm\n",
    "        title = 'SPI mensual'\n",
    "    elif i == 2:\n",
    "        serie = SPEIy\n",
    "        title = 'SPEI anual'\n",
    "    elif i == 3:\n",
    "        serie = SPEIm\n",
    "        title = 'SPEI mensual'\n",
    "    \n",
    "    axes[r,c].plot(serie, color='k', linewidth=1.2)\n",
    "    axes[r,c].fill_between(serie.index, -3, -2, color='indianred', alpha=0.4,\n",
    "                     label='sequía extrema')\n",
    "    axes[r,c].fill_between(serie.index, -2, -1.5, color='indianred', alpha=0.3,\n",
    "                     label='sequía severa')\n",
    "    axes[r,c].fill_between(serie.index, -1.5, -1, color='indianred', alpha=0.2,\n",
    "                     label='sequía moderada')\n",
    "    axes[r,c].fill_between(serie.index, -1, 0, color='indianred', alpha=0.1,\n",
    "                     label='sequía ligera')\n",
    "    axes[r,c].fill_between(serie.index, 0, 1, color='steelblue', alpha=0.1,\n",
    "                     label='húmedo ligero')\n",
    "    axes[r,c].fill_between(serie.index, 1, 1.5, color='steelblue', alpha=0.2,\n",
    "                     label='húmedo moderado')\n",
    "    axes[r,c].fill_between(serie.index, 1.5, 2, color='steelblue', alpha=0.3,\n",
    "                     label='húmedo severo')\n",
    "    axes[r,c].fill_between(serie.index, 2, 3, color='steelblue', alpha=0.4,\n",
    "                     label='húmedo extremo')\n",
    "    axes[r,c].set(xlim=(serie.index[0], serie.index[-1]), ylim=(-3, 3))\n",
    "    axes[r,c].set_title(title, fontsize=15)\n",
    "    "
   ]
  },
  {
   "cell_type": "markdown",
   "metadata": {},
   "source": [
    "Por lo general, se entiende como sequía todo valor por debajo de *-1*. Según esto, el SPI identifica 5 sequías a escala anual, mientras que el SPEI identifica 6 años de sequía. Estos resultados indicarían una mayor sensibilidad del SPEI al incluir otra variables hidrológicas.\n",
    "\n",
    "Además, los años en los que ocurren sequía no son coincidentes según los dos parámetros (sólo coinciden 1991, 92 y 95). Se debe a que el SPEI identifica como secos años en los que, a pesar de no haber sequía en cuanto a precipitacions, la alta temperatura y la consiguiente evapotranspiración convierten el año en seco. Por el contrario, el año 2010 es un año con sequía meteorológica (SPI), pero en el que la evapotranspiración fue baja y, por tanto, no se identifica sequía hidrológica.\n",
    "\n",
    "\n",
    "Existen otros índices de sequía como el PDSI (_Palmer drought severity index_). Es uno de los índices más comúnmente usados, pero tiene el inconveniente de sólo poder ser usado a escala anual.\n",
    "\n",
    "En general, los índices deben ser acordes al criterio de sequía de estudio. Por ejemplo, el SPI es un índice adecuado si el objeto de nuestro estudio es la sequía hidrológica; sin embargo, si nos interesa la sequía agrícola es necesario utilizar índices que incluyan otras variables como la humedad del suelo o factores económicos."
   ]
  }
 ],
 "metadata": {
  "kernelspec": {
   "display_name": "Python 3",
   "language": "python",
   "name": "python3"
  },
  "language_info": {
   "codemirror_mode": {
    "name": "ipython",
    "version": 3
   },
   "file_extension": ".py",
   "mimetype": "text/x-python",
   "name": "python",
   "nbconvert_exporter": "python",
   "pygments_lexer": "ipython3",
   "version": "3.6.3"
  }
 },
 "nbformat": 4,
 "nbformat_minor": 2
}
