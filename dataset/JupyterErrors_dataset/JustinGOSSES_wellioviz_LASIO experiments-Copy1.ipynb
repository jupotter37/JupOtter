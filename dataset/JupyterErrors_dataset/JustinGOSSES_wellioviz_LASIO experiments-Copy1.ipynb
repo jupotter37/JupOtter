{
 "cells": [
  {
   "cell_type": "markdown",
   "metadata": {},
   "source": [
    "### Now lets bring in lasio"
   ]
  },
  {
   "cell_type": "code",
   "execution_count": 4,
   "metadata": {},
   "outputs": [],
   "source": [
    "import lasio"
   ]
  },
  {
   "cell_type": "code",
   "execution_count": 5,
   "metadata": {},
   "outputs": [
    {
     "data": {
      "text/plain": [
       "<module 'lasio' from '/Users/justingosses/anaconda/envs/wellioviz/lib/python3.7/site-packages/lasio/__init__.py'>"
      ]
     },
     "execution_count": 5,
     "metadata": {},
     "output_type": "execute_result"
    }
   ],
   "source": [
    "lasio"
   ]
  },
  {
   "cell_type": "markdown",
   "metadata": {},
   "source": [
    "#### Load a well"
   ]
  },
  {
   "cell_type": "code",
   "execution_count": 6,
   "metadata": {},
   "outputs": [],
   "source": [
    "test_las_path = \"../docs/assets/00-01-01-073-05W5-0.LAS\""
   ]
  },
  {
   "cell_type": "code",
   "execution_count": 7,
   "metadata": {},
   "outputs": [],
   "source": [
    "las = lasio.read(test_las_path)"
   ]
  },
  {
   "cell_type": "code",
   "execution_count": 9,
   "metadata": {},
   "outputs": [
    {
     "data": {
      "text/plain": [
       "<lasio.las.LASFile at 0x10a91d5c0>"
      ]
     },
     "execution_count": 9,
     "metadata": {},
     "output_type": "execute_result"
    }
   ],
   "source": [
    "las"
   ]
  },
  {
   "cell_type": "markdown",
   "metadata": {},
   "source": [
    "#### A few lines of exploration to show how lasio works..."
   ]
  },
  {
   "cell_type": "code",
   "execution_count": 10,
   "metadata": {},
   "outputs": [
    {
     "data": {
      "text/plain": [
       "lasio.las.LASFile"
      ]
     },
     "execution_count": 10,
     "metadata": {},
     "output_type": "execute_result"
    }
   ],
   "source": [
    "type(las)"
   ]
  },
  {
   "cell_type": "code",
   "execution_count": 11,
   "metadata": {},
   "outputs": [
    {
     "data": {
      "text/plain": [
       "[CurveItem(mnemonic=DEPT, unit=M, value=00 001 00 00, descr=DEPTH        - DEPTH, original_mnemonic=DEPT, data.shape=(1041,)),\n",
       " CurveItem(mnemonic=DPHI, unit=V/V, value=00 890 00 00, descr=PHID         - DENSITY POROSITY (SANDSTONE), original_mnemonic=DPHI, data.shape=(1041,)),\n",
       " CurveItem(mnemonic=NPHI, unit=V/V, value=00 330 00 00, descr=PHIN         - NEUTRON POROSITY (SANDSTONE), original_mnemonic=NPHI, data.shape=(1041,)),\n",
       " CurveItem(mnemonic=GR, unit=API, value=00 310 00 00, descr=GR           - GAMMA RAY, original_mnemonic=GR, data.shape=(1041,)),\n",
       " CurveItem(mnemonic=CALI, unit=MM, value=00 280 01 00, descr=CAL          - CALIPER, original_mnemonic=CALI, data.shape=(1041,)),\n",
       " CurveItem(mnemonic=ILD, unit=OHMM, value=00 120 00 00, descr=RESD         - DEEP RESISTIVITY (DIL), original_mnemonic=ILD, data.shape=(1041,))]"
      ]
     },
     "execution_count": 11,
     "metadata": {},
     "output_type": "execute_result"
    }
   ],
   "source": [
    "las.curves"
   ]
  },
  {
   "cell_type": "code",
   "execution_count": 12,
   "metadata": {},
   "outputs": [
    {
     "data": {
      "text/plain": [
       "lasio.las_items.SectionItems"
      ]
     },
     "execution_count": 12,
     "metadata": {},
     "output_type": "execute_result"
    }
   ],
   "source": [
    "type(las.curves)"
   ]
  },
  {
   "cell_type": "code",
   "execution_count": 13,
   "metadata": {},
   "outputs": [
    {
     "data": {
      "text/plain": [
       "CurveItem(mnemonic=DEPT, unit=M, value=00 001 00 00, descr=DEPTH        - DEPTH, original_mnemonic=DEPT, data.shape=(1041,))"
      ]
     },
     "execution_count": 13,
     "metadata": {},
     "output_type": "execute_result"
    }
   ],
   "source": [
    "las.curves[0]"
   ]
  },
  {
   "cell_type": "code",
   "execution_count": 14,
   "metadata": {},
   "outputs": [
    {
     "data": {
      "text/plain": [
       "'DEPT'"
      ]
     },
     "execution_count": 14,
     "metadata": {},
     "output_type": "execute_result"
    }
   ],
   "source": [
    "las.curves[0][\"mnemonic\"]"
   ]
  },
  {
   "cell_type": "code",
   "execution_count": 15,
   "metadata": {},
   "outputs": [
    {
     "data": {
      "text/plain": [
       "'00 001 00 00'"
      ]
     },
     "execution_count": 15,
     "metadata": {},
     "output_type": "execute_result"
    }
   ],
   "source": [
    "las.curves[0][\"value\"]"
   ]
  },
  {
   "cell_type": "code",
   "execution_count": 16,
   "metadata": {},
   "outputs": [
    {
     "ename": "KeyError",
     "evalue": "'CurveItem only has restricted items (not data)'",
     "output_type": "error",
     "traceback": [
      "\u001b[0;31m---------------------------------------------------------------------------\u001b[0m",
      "\u001b[0;31mKeyError\u001b[0m                                  Traceback (most recent call last)",
      "\u001b[0;32m<ipython-input-16-133ae72b371b>\u001b[0m in \u001b[0;36m<module>\u001b[0;34m()\u001b[0m\n\u001b[0;32m----> 1\u001b[0;31m \u001b[0mlas\u001b[0m\u001b[0;34m.\u001b[0m\u001b[0mcurves\u001b[0m\u001b[0;34m[\u001b[0m\u001b[0;34m\"GR\"\u001b[0m\u001b[0;34m]\u001b[0m\u001b[0;34m[\u001b[0m\u001b[0;34m\"data\"\u001b[0m\u001b[0;34m]\u001b[0m\u001b[0;34m\u001b[0m\u001b[0m\n\u001b[0m",
      "\u001b[0;32m~/anaconda/lib/python3.5/site-packages/lasio/las_items.py\u001b[0m in \u001b[0;36m__getitem__\u001b[0;34m(self, key)\u001b[0m\n\u001b[1;32m     61\u001b[0m         \u001b[0;32melse\u001b[0m\u001b[0;34m:\u001b[0m\u001b[0;34m\u001b[0m\u001b[0m\n\u001b[1;32m     62\u001b[0m             raise KeyError(\n\u001b[0;32m---> 63\u001b[0;31m                 'CurveItem only has restricted items (not %s)' % key)\n\u001b[0m\u001b[1;32m     64\u001b[0m \u001b[0;34m\u001b[0m\u001b[0m\n\u001b[1;32m     65\u001b[0m     \u001b[0;32mdef\u001b[0m \u001b[0m__repr__\u001b[0m\u001b[0;34m(\u001b[0m\u001b[0mself\u001b[0m\u001b[0;34m)\u001b[0m\u001b[0;34m:\u001b[0m\u001b[0;34m\u001b[0m\u001b[0m\n",
      "\u001b[0;31mKeyError\u001b[0m: 'CurveItem only has restricted items (not data)'"
     ]
    }
   ],
   "source": [
    "las.curves[\"GR\"][\"data\"]"
   ]
  },
  {
   "cell_type": "code",
   "execution_count": 17,
   "metadata": {},
   "outputs": [
    {
     "data": {
      "text/plain": [
       "array([238.379, 238.331, 238.069, ..., 265.467, 266.024, 266.581])"
      ]
     },
     "execution_count": 17,
     "metadata": {},
     "output_type": "execute_result"
    }
   ],
   "source": [
    "las.curves[4].data"
   ]
  },
  {
   "cell_type": "code",
   "execution_count": 18,
   "metadata": {},
   "outputs": [
    {
     "data": {
      "text/plain": [
       "array([82.478, 86.413, 90.229, ..., 51.129, 58.34 , 64.622])"
      ]
     },
     "execution_count": 18,
     "metadata": {},
     "output_type": "execute_result"
    }
   ],
   "source": [
    "las.curves[\"GR\"].data"
   ]
  },
  {
   "cell_type": "code",
   "execution_count": 19,
   "metadata": {},
   "outputs": [
    {
     "data": {
      "text/plain": [
       "[HeaderItem(mnemonic=GL, unit=M, value=583.3, descr=gl           - GROUND LEVEL ELEVATION, original_mnemonic=GL),\n",
       " HeaderItem(mnemonic=EREF, unit=M, value=589, descr=kb           - ELEVATION OF DEPTH REFERENCE, original_mnemonic=EREF),\n",
       " HeaderItem(mnemonic=DATM, unit=M, value=583.3, descr=datum        - DATUM ELEVATION, original_mnemonic=DATM),\n",
       " HeaderItem(mnemonic=TDD, unit=M, value=733.4, descr=tdd          - TOTAL DEPTH DRILLER, original_mnemonic=TDD),\n",
       " HeaderItem(mnemonic=RUN, unit=, value=ONE, descr=Run          - RUN NUMBER, original_mnemonic=RUN),\n",
       " HeaderItem(mnemonic=ENG, unit=, value=SIMMONS, descr=Engineer     - RECORDING ENGINEER, original_mnemonic=ENG),\n",
       " HeaderItem(mnemonic=WIT, unit=, value=SANK, descr=Witness      - WITNESSED BY, original_mnemonic=WIT),\n",
       " HeaderItem(mnemonic=BASE, unit=, value=S.L., descr=Branch       - HOME BASE OF LOGGING UNIT, original_mnemonic=BASE),\n",
       " HeaderItem(mnemonic=MUD, unit=, value=GEL CHEM, descr=Mud_type     - MUD TYPE, original_mnemonic=MUD),\n",
       " HeaderItem(mnemonic=MATR, unit=, value=SANDSTONE, descr=Logunit      - NEUTRON MATRIX, original_mnemonic=MATR),\n",
       " HeaderItem(mnemonic=TMAX, unit=C, value=41, descr=BHT          - MAXIMUM RECORDED TEMPERATURE, original_mnemonic=TMAX),\n",
       " HeaderItem(mnemonic=BHTD, unit=M, value=733.8, descr=BHTDEP       - MAXIMUM RECORDED TEMPERATURE, original_mnemonic=BHTD),\n",
       " HeaderItem(mnemonic=RMT, unit=C, value=17, descr=MDTP         - TEMPERATURE OF MUD, original_mnemonic=RMT),\n",
       " HeaderItem(mnemonic=MUDD, unit=KG/M, value=1100, descr=MWT          - MUD DENSITY, original_mnemonic=MUDD),\n",
       " HeaderItem(mnemonic=NEUT, unit=, value=1, descr=NEUTRON      - NEUTRON TYPE, original_mnemonic=NEUT),\n",
       " HeaderItem(mnemonic=RESI, unit=, value=0, descr=RESIST       - RESISTIVITY TYPE, original_mnemonic=RESI),\n",
       " HeaderItem(mnemonic=RM, unit=OHMM, value=2.62, descr=RM           - RESISTIVITY OF MUD, original_mnemonic=RM),\n",
       " HeaderItem(mnemonic=RMC, unit=OHMM, value=0, descr=RMC          - RESISTIVITY OF MUD CAKE, original_mnemonic=RMC),\n",
       " HeaderItem(mnemonic=RMF, unit=OHMM, value=1.02, descr=RMF          - RESISTIVITY OF MUD FILTRATE, original_mnemonic=RMF),\n",
       " HeaderItem(mnemonic=SUFT, unit=C, value=0, descr=SUFT         - SURFACE TEMPERATURE, original_mnemonic=SUFT)]"
      ]
     },
     "execution_count": 19,
     "metadata": {},
     "output_type": "execute_result"
    }
   ],
   "source": [
    "las.params"
   ]
  },
  {
   "cell_type": "code",
   "execution_count": 20,
   "metadata": {},
   "outputs": [
    {
     "data": {
      "text/plain": [
       "HeaderItem(mnemonic=RUN, unit=, value=ONE, descr=Run          - RUN NUMBER, original_mnemonic=RUN)"
      ]
     },
     "execution_count": 20,
     "metadata": {},
     "output_type": "execute_result"
    }
   ],
   "source": [
    "las.params[4]"
   ]
  },
  {
   "cell_type": "code",
   "execution_count": 21,
   "metadata": {},
   "outputs": [
    {
     "data": {
      "text/plain": [
       "HeaderItem(mnemonic=GL, unit=M, value=583.3, descr=gl           - GROUND LEVEL ELEVATION, original_mnemonic=GL)"
      ]
     },
     "execution_count": 21,
     "metadata": {},
     "output_type": "execute_result"
    }
   ],
   "source": [
    "las.params[\"GL\"]"
   ]
  },
  {
   "cell_type": "code",
   "execution_count": 22,
   "metadata": {},
   "outputs": [
    {
     "data": {
      "text/plain": [
       "array([[3.90000e+02, 1.99000e-01, 4.57000e-01, 8.24780e+01, 2.38379e+02,\n",
       "        2.92300e+00],\n",
       "       [3.90250e+02, 2.08000e-01, 4.56000e-01, 8.64130e+01, 2.38331e+02,\n",
       "        2.92500e+00],\n",
       "       [3.90500e+02, 2.46000e-01, 4.52000e-01, 9.02290e+01, 2.38069e+02,\n",
       "        2.91700e+00],\n",
       "       ...,\n",
       "       [6.49500e+02, 2.30000e-02, 1.26000e-01, 5.11290e+01, 2.65467e+02,\n",
       "        1.44490e+01],\n",
       "       [6.49750e+02, 2.80000e-02, 1.46000e-01, 5.83400e+01, 2.66024e+02,\n",
       "        1.22360e+01],\n",
       "       [6.50000e+02, 3.60000e-02, 1.66000e-01, 6.46220e+01, 2.66581e+02,\n",
       "        1.05760e+01]])"
      ]
     },
     "execution_count": 22,
     "metadata": {},
     "output_type": "execute_result"
    }
   ],
   "source": [
    "las.data"
   ]
  },
  {
   "cell_type": "code",
   "execution_count": 23,
   "metadata": {},
   "outputs": [
    {
     "data": {
      "text/plain": [
       "1041"
      ]
     },
     "execution_count": 23,
     "metadata": {},
     "output_type": "execute_result"
    }
   ],
   "source": [
    "len(las.data)"
   ]
  },
  {
   "cell_type": "code",
   "execution_count": 24,
   "metadata": {},
   "outputs": [
    {
     "data": {
      "text/plain": [
       "array([3.91000e+02, 2.87000e-01, 4.84000e-01, 8.88660e+01, 2.39724e+02,\n",
       "       2.89000e+00])"
      ]
     },
     "execution_count": 24,
     "metadata": {},
     "output_type": "execute_result"
    }
   ],
   "source": [
    "las.data[4]"
   ]
  },
  {
   "cell_type": "markdown",
   "metadata": {},
   "source": [
    "## Copy and pasta from another example: https://michhar.github.io/javascript-and-python-have-a-party/"
   ]
  },
  {
   "cell_type": "code",
   "execution_count": 25,
   "metadata": {
    "collapsed": true
   },
   "outputs": [],
   "source": [
    "from IPython.display import HTML"
   ]
  },
  {
   "cell_type": "code",
   "execution_count": 26,
   "metadata": {},
   "outputs": [
    {
     "data": {
      "text/html": [
       "<div id='textid'>100</div>"
      ],
      "text/plain": [
       "<IPython.core.display.HTML object>"
      ]
     },
     "execution_count": 26,
     "metadata": {},
     "output_type": "execute_result"
    }
   ],
   "source": [
    "pystartlife = str(100)\n",
    "HTML(\"<div id='textid'>\" + pystartlife + \"</div>\")"
   ]
  },
  {
   "cell_type": "code",
   "execution_count": 27,
   "metadata": {},
   "outputs": [
    {
     "data": {
      "application/javascript": [
       "// Get the python variable from the DOM\n",
       "var startlife = document.getElementById('textid').innerHTML;"
      ],
      "text/plain": [
       "<IPython.core.display.Javascript object>"
      ]
     },
     "metadata": {},
     "output_type": "display_data"
    }
   ],
   "source": [
    "%%javascript\n",
    "// Get the python variable from the DOM\n",
    "var startlife = document.getElementById('textid').innerHTML;"
   ]
  },
  {
   "cell_type": "code",
   "execution_count": 28,
   "metadata": {},
   "outputs": [
    {
     "data": {
      "application/javascript": [
       "var startlife = document.getElementById('textid').innerHTML;\n",
       "// Define a User class with a method\n",
       "function User() {\n",
       "    this.name = '';\n",
       "    this.life = Number(startlife);\n",
       "    this.giveLife = function giveLife(targetPlayer) {\n",
       "        targetPlayer.life += 1;\n",
       "        this.life -= 1;\n",
       "    }\n",
       "}\n",
       "// Use class\n",
       "var Alfred = new User();\n",
       "var Wallace = new User();\n",
       "\n",
       "// Names were blank so give them name values\n",
       "Alfred.name = 'Alfred';\n",
       "Wallace.name = 'Wallace';\n",
       "\n",
       "// Let's play a game!\n",
       "\n",
       "// Let Alfred give life to Wallace\n",
       "Alfred.giveLife(Wallace);\n",
       "\n",
       "// Save these variables back to python variables to work with later\n",
       "IPython.notebook.kernel.execute('Alfred_life=\"' + Alfred.life + '\";');\n",
       "IPython.notebook.kernel.execute('Wallace_life=\"' + Wallace.life + '\";');"
      ],
      "text/plain": [
       "<IPython.core.display.Javascript object>"
      ]
     },
     "metadata": {},
     "output_type": "display_data"
    }
   ],
   "source": [
    "%%javascript\n",
    "var startlife = document.getElementById('textid').innerHTML;\n",
    "// Define a User class with a method\n",
    "function User() {\n",
    "    this.name = '';\n",
    "    this.life = Number(startlife);\n",
    "    this.giveLife = function giveLife(targetPlayer) {\n",
    "        targetPlayer.life += 1;\n",
    "        this.life -= 1;\n",
    "    }\n",
    "}\n",
    "// Use class\n",
    "var Alfred = new User();\n",
    "var Wallace = new User();\n",
    "\n",
    "// Names were blank so give them name values\n",
    "Alfred.name = 'Alfred';\n",
    "Wallace.name = 'Wallace';\n",
    "\n",
    "// Let's play a game!\n",
    "\n",
    "// Let Alfred give life to Wallace\n",
    "Alfred.giveLife(Wallace);\n",
    "\n",
    "// Save these variables back to python variables to work with later\n",
    "IPython.notebook.kernel.execute('Alfred_life=\"' + Alfred.life + '\";');\n",
    "IPython.notebook.kernel.execute('Wallace_life=\"' + Wallace.life + '\";');"
   ]
  },
  {
   "cell_type": "code",
   "execution_count": 29,
   "metadata": {},
   "outputs": [
    {
     "name": "stdout",
     "output_type": "stream",
     "text": [
      "99\n",
      "101\n"
     ]
    }
   ],
   "source": [
    "print(Alfred_life)\n",
    "print(Wallace_life)"
   ]
  },
  {
   "cell_type": "markdown",
   "metadata": {},
   "source": [
    "This seems to work? https://www.stefaanlippens.net/jupyter-custom-d3-visualization.html"
   ]
  },
  {
   "cell_type": "code",
   "execution_count": 2,
   "metadata": {},
   "outputs": [
    {
     "data": {
      "application/javascript": [
       "require.config({\n",
       "    paths: {\n",
       "        d3: 'https://d3js.org/d3.v5.min'\n",
       "    }\n",
       "});\n"
      ],
      "text/plain": [
       "<IPython.core.display.Javascript object>"
      ]
     },
     "metadata": {},
     "output_type": "display_data"
    }
   ],
   "source": [
    "%%javascript\n",
    "require.config({\n",
    "    paths: {\n",
    "        d3: 'https://d3js.org/d3.v5.min'\n",
    "    }\n",
    "});"
   ]
  },
  {
   "cell_type": "code",
   "execution_count": 6,
   "metadata": {},
   "outputs": [
    {
     "data": {
      "application/javascript": [
       "require.config({\n",
       "    paths: {\n",
       "        d3: 'https://d3js.org/d3.v5.minad'\n",
       "    }\n",
       "});\n"
      ],
      "text/plain": [
       "<IPython.core.display.Javascript object>"
      ]
     },
     "metadata": {},
     "output_type": "display_data"
    }
   ],
   "source": [
    "%%javascript\n",
    "require.config({\n",
    "    paths: {\n",
    "        d3: 'https://d3js.org/d3.v5.minad'\n",
    "    }\n",
    "});"
   ]
  },
  {
   "cell_type": "code",
   "execution_count": 10,
   "metadata": {},
   "outputs": [
    {
     "data": {
      "application/javascript": [
       "(function(element) {\n",
       "    require(['d3'], function(d3) {   \n",
       "        var data = [1, 2, 4, 8, 16, 8, 4, 2, 1]\n",
       "\n",
       "        var svg = d3.select(element.get(0)).append('svg')\n",
       "            .attr('width', 400)\n",
       "            .attr('height', 200);\n",
       "        svg.selectAll('circle')\n",
       "            .data(data)\n",
       "            .enter()\n",
       "            .append('circle')\n",
       "            .attr(\"cx\", function(d, i) {return 40 * (i + 1);})\n",
       "            .attr(\"cy\", function(d, i) {return 100 + 30 * (i % 3 - 1);})\n",
       "            .style(\"fill\", \"#1570a4\")\n",
       "            .transition().duration(2000)\n",
       "            .attr(\"r\", function(d) {return 2*d;})\n",
       "        ;\n",
       "    })\n",
       "})(element);\n"
      ],
      "text/plain": [
       "<IPython.core.display.Javascript object>"
      ]
     },
     "metadata": {},
     "output_type": "display_data"
    }
   ],
   "source": [
    "%%javascript\n",
    "(function(element) {\n",
    "    require(['d3'], function(d3) {   \n",
    "        var data = [1, 2, 4, 8, 16, 8, 4, 2, 1]\n",
    "\n",
    "        var svg = d3.select(element.get(0)).append('svg')\n",
    "            .attr('width', 400)\n",
    "            .attr('height', 200);\n",
    "        svg.selectAll('circle')\n",
    "            .data(data)\n",
    "            .enter()\n",
    "            .append('circle')\n",
    "            .attr(\"cx\", function(d, i) {return 40 * (i + 1);})\n",
    "            .attr(\"cy\", function(d, i) {return 100 + 30 * (i % 3 - 1);})\n",
    "            .style(\"fill\", \"#1570a4\")\n",
    "            .transition().duration(2000)\n",
    "            .attr(\"r\", function(d) {return 2*d;})\n",
    "        ;\n",
    "    })\n",
    "})(element);\n"
   ]
  },
  {
   "cell_type": "code",
   "execution_count": 11,
   "metadata": {},
   "outputs": [
    {
     "data": {
      "application/javascript": [
       "require.config({\n",
       "    paths: {\n",
       "        wellio_bundle: '../docs/js/bundle.js'\n",
       "    }\n",
       "});\n"
      ],
      "text/plain": [
       "<IPython.core.display.Javascript object>"
      ]
     },
     "metadata": {},
     "output_type": "display_data"
    }
   ],
   "source": [
    "%%javascript\n",
    "require.config({\n",
    "    paths: {\n",
    "        wellio_bundle: '../docs/js/bundle.js'\n",
    "    }\n",
    "});"
   ]
  },
  {
   "cell_type": "code",
   "execution_count": 14,
   "metadata": {},
   "outputs": [
    {
     "data": {
      "application/javascript": [
       "(function(element) {\n",
       "    require(['wellio_bundle'], function(wellio_bundle) {   \n",
       "        var data = [1, 2, 4, 8, 16, 8, 4, 2, 1]\n",
       "\n",
       "        return element.get(0).append('<p>hi</pi>') \n",
       "        ;\n",
       "    })\n",
       "})(element);\n"
      ],
      "text/plain": [
       "<IPython.core.display.Javascript object>"
      ]
     },
     "metadata": {},
     "output_type": "display_data"
    }
   ],
   "source": [
    "%%javascript\n",
    "(function(element) {\n",
    "    require(['wellio_bundle'], function(wellio_bundle) {   \n",
    "        var data = [1, 2, 4, 8, 16, 8, 4, 2, 1]\n",
    "\n",
    "        return element.get(0).append('<p>hi</pi>') \n",
    "        ;\n",
    "    })\n",
    "})(element);"
   ]
  },
  {
   "cell_type": "code",
   "execution_count": null,
   "metadata": {},
   "outputs": [],
   "source": []
  },
  {
   "cell_type": "code",
   "execution_count": null,
   "metadata": {},
   "outputs": [],
   "source": []
  },
  {
   "cell_type": "code",
   "execution_count": null,
   "metadata": {},
   "outputs": [],
   "source": []
  },
  {
   "cell_type": "code",
   "execution_count": null,
   "metadata": {},
   "outputs": [],
   "source": []
  },
  {
   "cell_type": "code",
   "execution_count": null,
   "metadata": {},
   "outputs": [],
   "source": []
  },
  {
   "cell_type": "code",
   "execution_count": null,
   "metadata": {},
   "outputs": [],
   "source": []
  },
  {
   "cell_type": "code",
   "execution_count": null,
   "metadata": {},
   "outputs": [],
   "source": []
  },
  {
   "cell_type": "markdown",
   "metadata": {},
   "source": [
    "## Now the same well parsed by wellio.js into JSON"
   ]
  },
  {
   "cell_type": "code",
   "execution_count": 30,
   "metadata": {
    "collapsed": true
   },
   "outputs": [],
   "source": [
    "test_las_path2 = \"../docs/assets/00-01-01-073-05W5-0.LAS\""
   ]
  },
  {
   "cell_type": "code",
   "execution_count": null,
   "metadata": {
    "collapsed": true
   },
   "outputs": [],
   "source": []
  },
  {
   "cell_type": "code",
   "execution_count": 8,
   "metadata": {},
   "outputs": [
    {
     "name": "stdout",
     "output_type": "stream",
     "text": [
      "Requirement already up-to-date: pixiedust in /Users/justingosses/anaconda/envs/wellioviz/lib/python3.7/site-packages (1.1.17)\n",
      "Requirement already satisfied, skipping upgrade: geojson in /Users/justingosses/anaconda/envs/wellioviz/lib/python3.7/site-packages (from pixiedust) (2.5.0)\n",
      "Requirement already satisfied, skipping upgrade: mpld3 in /Users/justingosses/anaconda/envs/wellioviz/lib/python3.7/site-packages (from pixiedust) (0.3)\n",
      "Requirement already satisfied, skipping upgrade: markdown in /Users/justingosses/anaconda/envs/wellioviz/lib/python3.7/site-packages (from pixiedust) (3.1.1)\n",
      "Requirement already satisfied, skipping upgrade: lxml in /Users/justingosses/anaconda/envs/wellioviz/lib/python3.7/site-packages (from pixiedust) (4.4.2)\n",
      "Requirement already satisfied, skipping upgrade: colour in /Users/justingosses/anaconda/envs/wellioviz/lib/python3.7/site-packages (from pixiedust) (0.1.5)\n",
      "Requirement already satisfied, skipping upgrade: astunparse in /Users/justingosses/anaconda/envs/wellioviz/lib/python3.7/site-packages (from pixiedust) (1.6.2)\n",
      "Requirement already satisfied, skipping upgrade: requests in /Users/justingosses/anaconda/envs/wellioviz/lib/python3.7/site-packages (from pixiedust) (2.22.0)\n",
      "Requirement already satisfied, skipping upgrade: setuptools>=36 in /Users/justingosses/anaconda/envs/wellioviz/lib/python3.7/site-packages (from markdown->pixiedust) (42.0.1.post20191125)\n",
      "Requirement already satisfied, skipping upgrade: six<2.0,>=1.6.1 in /Users/justingosses/anaconda/envs/wellioviz/lib/python3.7/site-packages (from astunparse->pixiedust) (1.13.0)\n",
      "Requirement already satisfied, skipping upgrade: wheel<1.0,>=0.23.0 in /Users/justingosses/anaconda/envs/wellioviz/lib/python3.7/site-packages (from astunparse->pixiedust) (0.33.6)\n",
      "Requirement already satisfied, skipping upgrade: urllib3!=1.25.0,!=1.25.1,<1.26,>=1.21.1 in /Users/justingosses/anaconda/envs/wellioviz/lib/python3.7/site-packages (from requests->pixiedust) (1.25.7)\n",
      "Requirement already satisfied, skipping upgrade: idna<2.9,>=2.5 in /Users/justingosses/anaconda/envs/wellioviz/lib/python3.7/site-packages (from requests->pixiedust) (2.8)\n",
      "Requirement already satisfied, skipping upgrade: certifi>=2017.4.17 in /Users/justingosses/anaconda/envs/wellioviz/lib/python3.7/site-packages (from requests->pixiedust) (2019.11.28)\n",
      "Requirement already satisfied, skipping upgrade: chardet<3.1.0,>=3.0.2 in /Users/justingosses/anaconda/envs/wellioviz/lib/python3.7/site-packages (from requests->pixiedust) (3.0.4)\n",
      "Requirement already up-to-date: pixiedust_node in /Users/justingosses/anaconda/envs/wellioviz/lib/python3.7/site-packages (0.2.5)\n",
      "Requirement already satisfied, skipping upgrade: ipython in /Users/justingosses/anaconda/envs/wellioviz/lib/python3.7/site-packages (from pixiedust_node) (7.10.0)\n",
      "Requirement already satisfied, skipping upgrade: pandas in /Users/justingosses/anaconda/envs/wellioviz/lib/python3.7/site-packages (from pixiedust_node) (0.25.3)\n",
      "Requirement already satisfied, skipping upgrade: pixiedust in /Users/justingosses/anaconda/envs/wellioviz/lib/python3.7/site-packages (from pixiedust_node) (1.1.17)\n",
      "Requirement already satisfied, skipping upgrade: pickleshare in /Users/justingosses/anaconda/envs/wellioviz/lib/python3.7/site-packages (from ipython->pixiedust_node) (0.7.5)\n",
      "Requirement already satisfied, skipping upgrade: setuptools>=18.5 in /Users/justingosses/anaconda/envs/wellioviz/lib/python3.7/site-packages (from ipython->pixiedust_node) (42.0.1.post20191125)\n",
      "Requirement already satisfied, skipping upgrade: prompt-toolkit<3.1.0,>=2.0.0 in /Users/justingosses/anaconda/envs/wellioviz/lib/python3.7/site-packages (from ipython->pixiedust_node) (3.0.2)\n",
      "Requirement already satisfied, skipping upgrade: traitlets>=4.2 in /Users/justingosses/anaconda/envs/wellioviz/lib/python3.7/site-packages (from ipython->pixiedust_node) (4.3.3)\n",
      "Requirement already satisfied, skipping upgrade: pygments in /Users/justingosses/anaconda/envs/wellioviz/lib/python3.7/site-packages (from ipython->pixiedust_node) (2.5.2)\n",
      "Requirement already satisfied, skipping upgrade: decorator in /Users/justingosses/anaconda/envs/wellioviz/lib/python3.7/site-packages (from ipython->pixiedust_node) (4.4.1)\n",
      "Requirement already satisfied, skipping upgrade: pexpect; sys_platform != \"win32\" in /Users/justingosses/anaconda/envs/wellioviz/lib/python3.7/site-packages (from ipython->pixiedust_node) (4.7.0)\n",
      "Requirement already satisfied, skipping upgrade: backcall in /Users/justingosses/anaconda/envs/wellioviz/lib/python3.7/site-packages (from ipython->pixiedust_node) (0.1.0)\n",
      "Requirement already satisfied, skipping upgrade: appnope; sys_platform == \"darwin\" in /Users/justingosses/anaconda/envs/wellioviz/lib/python3.7/site-packages (from ipython->pixiedust_node) (0.1.0)\n",
      "Requirement already satisfied, skipping upgrade: jedi>=0.10 in /Users/justingosses/anaconda/envs/wellioviz/lib/python3.7/site-packages (from ipython->pixiedust_node) (0.15.1)\n",
      "Requirement already satisfied, skipping upgrade: python-dateutil>=2.6.1 in /Users/justingosses/anaconda/envs/wellioviz/lib/python3.7/site-packages (from pandas->pixiedust_node) (2.8.1)\n",
      "Requirement already satisfied, skipping upgrade: numpy>=1.13.3 in /Users/justingosses/anaconda/envs/wellioviz/lib/python3.7/site-packages (from pandas->pixiedust_node) (1.17.4)\n",
      "Requirement already satisfied, skipping upgrade: pytz>=2017.2 in /Users/justingosses/anaconda/envs/wellioviz/lib/python3.7/site-packages (from pandas->pixiedust_node) (2019.3)\n",
      "Requirement already satisfied, skipping upgrade: mpld3 in /Users/justingosses/anaconda/envs/wellioviz/lib/python3.7/site-packages (from pixiedust->pixiedust_node) (0.3)\n",
      "Requirement already satisfied, skipping upgrade: lxml in /Users/justingosses/anaconda/envs/wellioviz/lib/python3.7/site-packages (from pixiedust->pixiedust_node) (4.4.2)\n",
      "Requirement already satisfied, skipping upgrade: astunparse in /Users/justingosses/anaconda/envs/wellioviz/lib/python3.7/site-packages (from pixiedust->pixiedust_node) (1.6.2)\n",
      "Requirement already satisfied, skipping upgrade: geojson in /Users/justingosses/anaconda/envs/wellioviz/lib/python3.7/site-packages (from pixiedust->pixiedust_node) (2.5.0)\n",
      "Requirement already satisfied, skipping upgrade: markdown in /Users/justingosses/anaconda/envs/wellioviz/lib/python3.7/site-packages (from pixiedust->pixiedust_node) (3.1.1)\n",
      "Requirement already satisfied, skipping upgrade: colour in /Users/justingosses/anaconda/envs/wellioviz/lib/python3.7/site-packages (from pixiedust->pixiedust_node) (0.1.5)\n",
      "Requirement already satisfied, skipping upgrade: requests in /Users/justingosses/anaconda/envs/wellioviz/lib/python3.7/site-packages (from pixiedust->pixiedust_node) (2.22.0)\n",
      "Requirement already satisfied, skipping upgrade: wcwidth in /Users/justingosses/anaconda/envs/wellioviz/lib/python3.7/site-packages (from prompt-toolkit<3.1.0,>=2.0.0->ipython->pixiedust_node) (0.1.7)\n",
      "Requirement already satisfied, skipping upgrade: six in /Users/justingosses/anaconda/envs/wellioviz/lib/python3.7/site-packages (from traitlets>=4.2->ipython->pixiedust_node) (1.13.0)\n",
      "Requirement already satisfied, skipping upgrade: ipython-genutils in /Users/justingosses/anaconda/envs/wellioviz/lib/python3.7/site-packages (from traitlets>=4.2->ipython->pixiedust_node) (0.2.0)\n",
      "Requirement already satisfied, skipping upgrade: ptyprocess>=0.5 in /Users/justingosses/anaconda/envs/wellioviz/lib/python3.7/site-packages (from pexpect; sys_platform != \"win32\"->ipython->pixiedust_node) (0.6.0)\n",
      "Requirement already satisfied, skipping upgrade: parso>=0.5.0 in /Users/justingosses/anaconda/envs/wellioviz/lib/python3.7/site-packages (from jedi>=0.10->ipython->pixiedust_node) (0.5.1)\n",
      "Requirement already satisfied, skipping upgrade: wheel<1.0,>=0.23.0 in /Users/justingosses/anaconda/envs/wellioviz/lib/python3.7/site-packages (from astunparse->pixiedust->pixiedust_node) (0.33.6)\n",
      "Requirement already satisfied, skipping upgrade: idna<2.9,>=2.5 in /Users/justingosses/anaconda/envs/wellioviz/lib/python3.7/site-packages (from requests->pixiedust->pixiedust_node) (2.8)\n",
      "Requirement already satisfied, skipping upgrade: urllib3!=1.25.0,!=1.25.1,<1.26,>=1.21.1 in /Users/justingosses/anaconda/envs/wellioviz/lib/python3.7/site-packages (from requests->pixiedust->pixiedust_node) (1.25.7)\n",
      "Requirement already satisfied, skipping upgrade: certifi>=2017.4.17 in /Users/justingosses/anaconda/envs/wellioviz/lib/python3.7/site-packages (from requests->pixiedust->pixiedust_node) (2019.11.28)\n",
      "Requirement already satisfied, skipping upgrade: chardet<3.1.0,>=3.0.2 in /Users/justingosses/anaconda/envs/wellioviz/lib/python3.7/site-packages (from requests->pixiedust->pixiedust_node) (3.0.4)\n"
     ]
    }
   ],
   "source": [
    "# # install or upgrade the packages\n",
    "# # restart the kernel to pick up the latest version\n",
    "!pip install pixiedust --upgrade\n",
    "!pip install pixiedust_node --upgrade"
   ]
  },
  {
   "cell_type": "code",
   "execution_count": 9,
   "metadata": {},
   "outputs": [
    {
     "name": "stdout",
     "output_type": "stream",
     "text": [
      "Pixiedust database opened successfully\n"
     ]
    },
    {
     "data": {
      "text/html": [
       "\n",
       "        <div style=\"margin:10px\">\n",
       "            <a href=\"https://github.com/ibm-watson-data-lab/pixiedust\" target=\"_new\">\n",
       "                <img src=\"https://github.com/ibm-watson-data-lab/pixiedust/raw/master/docs/_static/pd_icon32.png\" style=\"float:left;margin-right:10px\"/>\n",
       "            </a>\n",
       "            <span>Pixiedust version 1.1.17</span>\n",
       "        </div>\n",
       "        "
      ],
      "text/plain": [
       "<IPython.core.display.HTML object>"
      ]
     },
     "metadata": {},
     "output_type": "display_data"
    },
    {
     "data": {
      "text/html": [
       "\n",
       "            <div style=\"margin:10px\"> \n",
       "            <a href=\"https://github.com/ibm-cds-labs/pixiedust_node\" target=\"_new\"> \n",
       "            <img src=\"https://github.com/ibm-cds-labs/pixiedust_node/raw/master/docs/_images/pdn_icon32.png\" style=\"float:left;margin-right:10px\"/> \n",
       "            </a> \n",
       "            <span>Pixiedust Node.js</span> \n",
       "            </div> \n"
      ],
      "text/plain": [
       "<IPython.core.display.HTML object>"
      ]
     },
     "metadata": {},
     "output_type": "display_data"
    },
    {
     "name": "stdout",
     "output_type": "stream",
     "text": [
      "pixiedust_node 0.2.5 started. Cells starting '%%node' may contain Node.js code.\n"
     ]
    }
   ],
   "source": [
    "import pixiedust_node"
   ]
  },
  {
   "cell_type": "code",
   "execution_count": 10,
   "metadata": {},
   "outputs": [
    {
     "name": "stdout",
     "output_type": "stream",
     "text": [
      "\"2019-12-01T06:15:05.285Z\"\n"
     ]
    }
   ],
   "source": [
    "%%node\n",
    "print(new Date());"
   ]
  },
  {
   "cell_type": "code",
   "execution_count": 11,
   "metadata": {},
   "outputs": [],
   "source": [
    "import pixiedust"
   ]
  },
  {
   "cell_type": "code",
   "execution_count": 12,
   "metadata": {},
   "outputs": [
    {
     "data": {
      "text/plain": [
       "3"
      ]
     },
     "execution_count": 12,
     "metadata": {},
     "output_type": "execute_result"
    }
   ],
   "source": [
    "import sys\n",
    "sys.version_info.major"
   ]
  },
  {
   "cell_type": "code",
   "execution_count": 13,
   "metadata": {},
   "outputs": [
    {
     "data": {
      "text/plain": [
       "7"
      ]
     },
     "execution_count": 13,
     "metadata": {},
     "output_type": "execute_result"
    }
   ],
   "source": [
    "sys.version_info.minor"
   ]
  },
  {
   "cell_type": "code",
   "execution_count": 14,
   "metadata": {},
   "outputs": [
    {
     "ename": "SyntaxError",
     "evalue": "invalid syntax (<ipython-input-14-f424c86e39cf>, line 1)",
     "output_type": "error",
     "traceback": [
      "\u001b[0;36m  File \u001b[0;32m\"<ipython-input-14-f424c86e39cf>\"\u001b[0;36m, line \u001b[0;32m1\u001b[0m\n\u001b[0;31m    Which Python\u001b[0m\n\u001b[0m               ^\u001b[0m\n\u001b[0;31mSyntaxError\u001b[0m\u001b[0;31m:\u001b[0m invalid syntax\n"
     ]
    }
   ],
   "source": [
    "Which Python"
   ]
  },
  {
   "cell_type": "code",
   "execution_count": 15,
   "metadata": {},
   "outputs": [
    {
     "data": {
      "text/plain": [
       "True"
      ]
     },
     "execution_count": 15,
     "metadata": {},
     "output_type": "execute_result"
    }
   ],
   "source": [
    "sys.version_info.major == 3\n",
    "sys.version_info.minor > 6"
   ]
  },
  {
   "cell_type": "code",
   "execution_count": 16,
   "metadata": {},
   "outputs": [],
   "source": [
    "import pixiedust_node"
   ]
  },
  {
   "cell_type": "code",
   "execution_count": 17,
   "metadata": {},
   "outputs": [
    {
     "name": "stdout",
     "output_type": "stream",
     "text": [
      "\"2019-12-01T06:15:32.526Z\"\n"
     ]
    }
   ],
   "source": [
    "%%node\n",
    "print(new Date());"
   ]
  },
  {
   "cell_type": "code",
   "execution_count": 1,
   "metadata": {},
   "outputs": [
    {
     "name": "stderr",
     "output_type": "stream",
     "text": [
      "UsageError: Cell magic `%%node` not found.\n"
     ]
    }
   ],
   "source": [
    "%%node\n",
    "npm.install('wellio')"
   ]
  },
  {
   "cell_type": "code",
   "execution_count": 20,
   "metadata": {},
   "outputs": [
    {
     "name": "stdout",
     "output_type": "stream",
     "text": [
      "Error: Cannot find module 'wellio'\n",
      "at Function.Module._resolveFilename (module.js:485:15)\n",
      "at Function.Module._load (module.js:437:25)\n",
      "at Module.require (module.js:513:17)\n",
      "at require (internal/module.js:11:18)\n",
      "at repl:1:14\n",
      "at ContextifyScript.Script.runInContext (vm.js:53:29)\n",
      "at REPLServer.defaultEval (repl.js:241:29)\n",
      "at bound (domain.js:301:14)\n",
      "at REPLServer.runBound [as eval] (domain.js:314:12)\n",
      "at REPLServer.onLine (repl.js:433:10)\n"
     ]
    }
   ],
   "source": [
    "%%node\n",
    "var wellio = require('wellio');\n",
    "wellio"
   ]
  },
  {
   "cell_type": "code",
   "execution_count": 23,
   "metadata": {},
   "outputs": [
    {
     "name": "stdout",
     "output_type": "stream",
     "text": [
      "/Users/justingosses/.nvm/versions/node/v8.1.2/bin/npm list -s\n",
      "/Users/justingosses/node\n",
      "└── (empty)\n"
     ]
    }
   ],
   "source": [
    "\n",
    "npm.list()"
   ]
  },
  {
   "cell_type": "code",
   "execution_count": 25,
   "metadata": {},
   "outputs": [
    {
     "name": "stdout",
     "output_type": "stream",
     "text": [
      "Error: Cannot find module 'wellio'\n",
      "at Function.Module._resolveFilename (module.js:485:15)\n",
      "at Function.Module._load (module.js:437:25)\n",
      "at Module.require (module.js:513:17)\n",
      "at require (internal/module.js:11:18)\n",
      "at repl:1:14\n",
      "at ContextifyScript.Script.runInContext (vm.js:53:29)\n",
      "at REPLServer.defaultEval (repl.js:241:29)\n",
      "at bound (domain.js:301:14)\n",
      "at REPLServer.runBound [as eval] (domain.js:314:12)\n",
      "at REPLServer.onLine (repl.js:433:10)\n",
      "TypeError: Cannot read property 'las2json' of undefined\n",
      "at repl:1:7\n",
      "at ContextifyScript.Script.runInContext (vm.js:53:29)\n",
      "at REPLServer.defaultEval (repl.js:241:29)\n",
      "at bound (domain.js:301:14)\n",
      "at REPLServer.runBound [as eval] (domain.js:314:12)\n",
      "at REPLServer.onLine (repl.js:433:10)\n",
      "at emitOne (events.js:115:13)\n",
      "at REPLServer.emit (events.js:210:7)\n",
      "at REPLServer.Interface._onLine (readline.js:278:10)\n",
      "at REPLServer.Interface._normalWrite (readline.js:419:12)\n"
     ]
    }
   ],
   "source": [
    "%%node\n",
    "var wellio = require('wellio');\n",
    "wellio.las2json(\"../docs/assets/00-01-01-073-05W5-0.LAS\")"
   ]
  },
  {
   "cell_type": "code",
   "execution_count": 27,
   "metadata": {},
   "outputs": [
    {
     "name": "stdout",
     "output_type": "stream",
     "text": [
      "Error: Cannot find module 'silverlining'\n",
      "at Function.Module._resolveFilename (module.js:485:15)\n",
      "at Function.Module._load (module.js:437:25)\n",
      "at Module.require (module.js:513:17)\n",
      "at require (internal/module.js:11:18)\n",
      "at repl:1:20\n",
      "at ContextifyScript.Script.runInContext (vm.js:53:29)\n",
      "at REPLServer.defaultEval (repl.js:241:29)\n",
      "at bound (domain.js:301:14)\n",
      "at REPLServer.runBound [as eval] (domain.js:314:12)\n",
      "at REPLServer.onLine (repl.js:433:10)\n",
      "Error: Cannot find module 'request-promise'\n",
      "at Function.Module._resolveFilename (module.js:485:15)\n",
      "at Function.Module._load (module.js:437:25)\n",
      "at Module.require (module.js:513:17)\n",
      "at require (internal/module.js:11:18)\n",
      "at repl:1:15\n",
      "at ContextifyScript.Script.runInContext (vm.js:53:29)\n",
      "at REPLServer.defaultEval (repl.js:241:29)\n",
      "at bound (domain.js:301:14)\n",
      "at REPLServer.runBound [as eval] (domain.js:314:12)\n",
      "at REPLServer.onLine (repl.js:433:10)\n",
      "TypeError: silverlining is not a function\n",
      "at repl:1:14\n",
      "at ContextifyScript.Script.runInContext (vm.js:53:29)\n",
      "at REPLServer.defaultEval (repl.js:241:29)\n",
      "at bound (domain.js:301:14)\n",
      "at REPLServer.runBound [as eval] (domain.js:314:12)\n",
      "at REPLServer.onLine (repl.js:433:10)\n",
      "at emitOne (events.js:115:13)\n",
      "at REPLServer.emit (events.js:210:7)\n",
      "at REPLServer.Interface._onLine (readline.js:278:10)\n",
      "at REPLServer.Interface._normalWrite (readline.js:419:12)\n",
      "TypeError: Cannot read property 'count' of undefined\n",
      "at repl:1:7\n",
      "at ContextifyScript.Script.runInContext (vm.js:53:29)\n",
      "at REPLServer.defaultEval (repl.js:241:29)\n",
      "at bound (domain.js:301:14)\n",
      "at REPLServer.runBound [as eval] (domain.js:314:12)\n",
      "at REPLServer.onLine (repl.js:433:10)\n",
      "at emitOne (events.js:115:13)\n",
      "at REPLServer.emit (events.js:210:7)\n",
      "at REPLServer.Interface._onLine (readline.js:278:10)\n",
      "at REPLServer.Interface._normalWrite (readline.js:419:12)\n"
     ]
    }
   ],
   "source": [
    "%%node\n",
    "var silverlining = require('silverlining');\n",
    "var request = require('request-promise');\n",
    "// connect to Cloudant using Silverlining\n",
    "var url = 'https://reader.cloudant.com/cities';\n",
    "var cities = silverlining(url);\n",
    "\n",
    "// fetch number of cities per country\n",
    "cities.count('country').then(print);"
   ]
  },
  {
   "cell_type": "code",
   "execution_count": null,
   "metadata": {},
   "outputs": [],
   "source": []
  },
  {
   "cell_type": "code",
   "execution_count": null,
   "metadata": {},
   "outputs": [],
   "source": []
  },
  {
   "cell_type": "code",
   "execution_count": null,
   "metadata": {},
   "outputs": [],
   "source": []
  },
  {
   "cell_type": "code",
   "execution_count": null,
   "metadata": {},
   "outputs": [],
   "source": []
  },
  {
   "cell_type": "code",
   "execution_count": null,
   "metadata": {
    "collapsed": true
   },
   "outputs": [],
   "source": [
    "%%javascript\n",
    "var startlife = document.getElementById('textid').innerHTML;\n",
    "// Define a User class with a method"
   ]
  },
  {
   "cell_type": "code",
   "execution_count": null,
   "metadata": {
    "collapsed": true
   },
   "outputs": [],
   "source": []
  },
  {
   "cell_type": "code",
   "execution_count": null,
   "metadata": {
    "collapsed": true
   },
   "outputs": [],
   "source": [
    "import ipywidgets as widgets\n",
    "class MapboxWidget(widgets.DOMWidget):\n",
    "    from traitlets import Dict, Unicode\n",
    "    _view_name = Unicode('MapboxGLView').tag(sync=True)\n",
    "    _view_module = Unicode('mapboxglModule').tag(sync=True)\n",
    "    _view_module_version = Unicode('0.1.0').tag(sync=True)\n",
    "    value = Dict({\"my_key\": \"Hello\"}).tag(sync=True)\n",
    "    def create(self):\n",
    "        from IPython.core.display import Javascript\n",
    "        return Javascript(\"\"\"\n",
    "            require.undef('mapboxglModule');\n",
    "            define('mapboxglModule', [\"@jupyter-widgets/base\"], widgets => {\n",
    "            let MapboxGLView = widgets.DOMWidgetView.extend({\n",
    "                    defaults: _.extend({}, widgets.DOMWidgetModel.prototype.defaults, { value: '' }),\n",
    "                    render: function() {\n",
    "                        this.value_changed();\n",
    "                        this.model.on('change:value', this.value_changed, this);\n",
    "                    },\n",
    "            value_changed: function() {\n",
    "                        this.el.textContent = this.model.get('value').my_key;\n",
    "                    },\n",
    "                });\n",
    "            return {\n",
    "                    MapboxGLView,\n",
    "                };\n",
    "            });\n",
    "        \"\"\")"
   ]
  }
 ],
 "metadata": {
  "kernelspec": {
   "display_name": "Python 3",
   "language": "python",
   "name": "python3"
  },
  "language_info": {
   "codemirror_mode": {
    "name": "ipython",
    "version": 3
   },
   "file_extension": ".py",
   "mimetype": "text/x-python",
   "name": "python",
   "nbconvert_exporter": "python",
   "pygments_lexer": "ipython3",
   "version": "3.7.5"
  }
 },
 "nbformat": 4,
 "nbformat_minor": 2
}
