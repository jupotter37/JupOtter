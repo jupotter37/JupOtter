{
 "cells": [
  {
   "attachments": {
    "Bouncing%20Ball%20Example%20-%20figure%201..PNG": {
     "image/png": "[encoded data removed]"
    }
   },
   "cell_type": "markdown",
   "metadata": {},
   "source": [
    "# Tutorial 1 - Bouncing ball\n",
    "In this tutorial, we wish to model a ball dropping from a certain height and bouncing off the ground (direction \"z\"), until it finally comes to rest. This system requires us to catch the events at which the ball hits the ground (z=0). We can do this in several ways using Numerous:\n",
    "- Add a callback function that detects if $x<=0$ and velocity is negative. The callback function is called each time the solver successfully takes a time-step. To detect when the ball crosses the surface line $x=0$, we need to take very small time-steps, which may be costly in terms of calculation time.\n",
    "- Add an event function, which detects a crossing by solving the equation $f(x,t_{event}) = 0$. Event functions are called after each solver time-step, but finds the time, for which the event is triggered and halts the solver at that event. This gives a more accurate detection and should be much faster, since we do not need to limit the solver time stepping.\n",
    "\n",
    "## Model setup and analytical solution\n",
    "Before we commence, let us define the system. A ball is placed above the ground at height $x=x_0$ (m), as shown on the figure below:\n",
    "\n",
    "![Bouncing%20Ball%20Example%20-%20figure%201..PNG](attachment:Bouncing%20Ball%20Example%20-%20figure%201..PNG)\n",
    "\n",
    "The equation of motion governing the free-fall of this ball is \n",
    "\n",
    "$$ m \\frac{d^2 x}{dt^2} = -g m $$\n",
    "\n",
    "where $g$ is the gravitational constant ($g=9.81$ m/s^2), and $m$ is the mass of ball. Since the mass cancels out, the equation simply becomes: \n",
    "\n",
    "$$ \\frac{d^2 x}{dt^2} = -g$$\n",
    "\n",
    "Instead of the position, we can write the equation in terms of velocity which is: \n",
    "\n",
    "$$ \\frac{d v}{dt} = -g $$\n",
    "\n",
    "Integrating the equation above yields:\n",
    "\n",
    "$$\\frac{d x}{dt} = v(t) = -g t + v_0$$\n",
    "\n",
    "Where $v_0$ the initial velocity. At $t=0$ that velocity is 0, since the ball is dropped, but later on, when the ball bounces back it will be different from zero, except at the apex of the bounce. The position can be found by integration one more time:\n",
    "\n",
    "$$ x(t) = -\\frac{1}{2} g t^2 + v_0 t + x_0$$\n",
    "\n",
    "where $x_0$ is the initial position of the ball. The equation is general and applies no matter where the ball is initially placed and with what velocity vector it has. To find the time at which a ball initially placed at $x=x_0$ and travelling with initial velocity vector $v_0$, we can solve the parabolic equation in $t$ for $x(t) = 0$:\n",
    "\n",
    "$$ \\Delta t_{hit} = \\frac{-v_0 + \\sqrt{v_0^2 + 2 g x_0}}{-g}$$\n",
    "\n",
    "where $\\Delta t_{hit}$ is the time until the the ball touces the ground. Next, we need to find an expression as function of number of bounces. For the first bounce, the ball starts at $x_0$ and $v_0=0$, since it starts at rest. Solving the time gives:\n",
    "\n",
    "$$ \\Delta t_{hit,1} = \\sqrt{\\frac{2 x_0}{g}} $$\n",
    "\n",
    "When the ball hits the ground after $t=\\Delta t_{hit,1}$, the velocity vector is no longer zero, as the ball has accellerated downwards due to gravity. Hence:\n",
    "\n",
    "$$ v(\\Delta t_{hit,1}) = - g \\sqrt{\\frac{2 x_0}{g}} $$\n",
    "\n",
    "As the ball touces the ground, the ball bounces back up with the inverse velocity vector. However, we loose some momemtum, because of the plasticity of the bounce. If that loss is called $f$, then the next starting velocity vector will be:\n",
    "\n",
    "$$ v_0 = -v(\\Delta t_{hit,1}) (1-f) = g \\sqrt{\\frac{2 x_0}{g}} (1-f) $$\n",
    "\n",
    "For the second bounce, the ball starts at $z_0=0$ travels up to its apex and falls back down. Hence solving the parabolic time equation gives the time between bounce 1 and 2 as:\n",
    "\n",
    "$$ \\Delta t_{hit,2} = 2 \\sqrt{\\frac{2 x_0}{g}}(1-f) $$\n",
    "\n",
    "To find the total time, we sum $\\Delta t_{hit,1}$ and $\\Delta t_{hit,2}$ and find that:\n",
    "\n",
    "$$ t_{hit,2} = \\Delta t_{hit,1}+\\Delta t_{hit,2} = \\sqrt{\\frac{2 x_0}{g}} \\left (1+2(1-f) \\right )$$\n",
    "\n",
    "We can continue this way for N bounces and find that the total time for the N'th hit is:\n",
    "\n",
    "$$ t_{hit,N} = \\sqrt{\\frac{2 x_0}{g}} \\left (2\\sum_{i=1}^N (1-f)^{i-1} -1 \\right )$$\n",
    "\n",
    "The python code for this is:\n",
    "\n",
    "\n",
    "\n",
    "\n",
    "\n",
    "\n",
    "\n",
    "\n"
   ]
  },
  {
   "cell_type": "code",
   "execution_count": 1,
   "metadata": {},
   "outputs": [],
   "source": [
    "import numpy as np\n",
    "import pandas as pd\n",
    "tmax = 5\n",
    "num = 1000\n",
    "def analytical_solution(N_hits, g=9.81, f=0.05, x0=1):\n",
    "    t_hits = []\n",
    "    summation = 0\n",
    "    for i in range(N_hits):\n",
    "        summation += (2*(1-f)**(i))\n",
    "        t_hit = np.sqrt(2*x0/g)*(summation-1)\n",
    "        t_hits.append(t_hit)\n",
    "        \n",
    "    t_hits = np.array(t_hits)        \n",
    "#    t_hits.shape = (1,len(t_hits))\n",
    "    return t_hits"
   ]
  },
  {
   "cell_type": "markdown",
   "metadata": {},
   "source": [
    "The total time for 10 hits, when the ball starts at $x_0=1$ m with $g=9.81$ m/s^2 and $f=0.05$ then becomes:"
   ]
  },
  {
   "cell_type": "code",
   "execution_count": 2,
   "metadata": {},
   "outputs": [
    {
     "data": {
      "text/html": [
       "<div>\n",
       "<style scoped>\n",
       "    .dataframe tbody tr th:only-of-type {\n",
       "        vertical-align: middle;\n",
       "    }\n",
       "\n",
       "    .dataframe tbody tr th {\n",
       "        vertical-align: top;\n",
       "    }\n",
       "\n",
       "    .dataframe thead th {\n",
       "        text-align: right;\n",
       "    }\n",
       "</style>\n",
       "<table border=\"1\" class=\"dataframe\">\n",
       "  <thead>\n",
       "    <tr style=\"text-align: right;\">\n",
       "      <th></th>\n",
       "      <th>Total time</th>\n",
       "    </tr>\n",
       "  </thead>\n",
       "  <tbody>\n",
       "    <tr>\n",
       "      <th>0</th>\n",
       "      <td>0.451524</td>\n",
       "    </tr>\n",
       "    <tr>\n",
       "      <th>1</th>\n",
       "      <td>1.309419</td>\n",
       "    </tr>\n",
       "    <tr>\n",
       "      <th>2</th>\n",
       "      <td>2.124419</td>\n",
       "    </tr>\n",
       "    <tr>\n",
       "      <th>3</th>\n",
       "      <td>2.898669</td>\n",
       "    </tr>\n",
       "    <tr>\n",
       "      <th>4</th>\n",
       "      <td>3.634207</td>\n",
       "    </tr>\n",
       "    <tr>\n",
       "      <th>5</th>\n",
       "      <td>4.332967</td>\n",
       "    </tr>\n",
       "    <tr>\n",
       "      <th>6</th>\n",
       "      <td>4.996790</td>\n",
       "    </tr>\n",
       "    <tr>\n",
       "      <th>7</th>\n",
       "      <td>5.627422</td>\n",
       "    </tr>\n",
       "    <tr>\n",
       "      <th>8</th>\n",
       "      <td>6.226522</td>\n",
       "    </tr>\n",
       "    <tr>\n",
       "      <th>9</th>\n",
       "      <td>6.795667</td>\n",
       "    </tr>\n",
       "  </tbody>\n",
       "</table>\n",
       "</div>"
      ],
      "text/plain": [
       "   Total time\n",
       "0    0.451524\n",
       "1    1.309419\n",
       "2    2.124419\n",
       "3    2.898669\n",
       "4    3.634207\n",
       "5    4.332967\n",
       "6    4.996790\n",
       "7    5.627422\n",
       "8    6.226522\n",
       "9    6.795667"
      ]
     },
     "execution_count": 2,
     "metadata": {},
     "output_type": "execute_result"
    }
   ],
   "source": [
    "t_hits=analytical_solution(N_hits=10)\n",
    "pd.DataFrame(t_hits, columns=[\"Total time\"])"
   ]
  },
  {
   "cell_type": "markdown",
   "metadata": {},
   "source": [
    "## Solution in Numerous engine\n",
    "\n",
    "As numerous is a state-space solver, we need to re-write the equation system in terms of ordinary differential equations (ODEs). This can be done, since velocity and position is related through: \n",
    "\n",
    "$$ \\frac{d v}{dt} = -g$$ and $$ \\frac{d x}{dt} = v $$\n",
    "\n",
    "Here the velocity is defined negatively if the ball moves downwards (falling), and positive if it moves upwards (bouncing). Once the ball hits the ground, due to momentum transfer and plasticity we need to inverse the velocity vector and multiply with the fractional loss $(1-f)$.\n",
    "\n",
    "First we import all necessary modules of Numerous. The once we need for this tutorial is Item, Subsystem, Model, Simulation, the equation decorator, Equation class. For this tutorial we're also going to import pandas, numpy and plotly for visualization."
   ]
  },
  {
   "cell_type": "code",
   "execution_count": 3,
   "metadata": {},
   "outputs": [],
   "source": [
    "import sys\n",
    "import os\n",
    "from numerous.engine.system import Item\n",
    "from numerous.engine.model import Model\n",
    "from numerous.engine.system import Subsystem\n",
    "from numerous.engine.simulation import Simulation\n",
    "from numerous.engine.system import ConnectorTwoWay\n",
    "from numerous.engine.variables import VariableType, VariableDescription, OverloadAction\n",
    "from numerous.engine.simulation.solvers.base_solver import SolverType\n",
    "\n",
    "from numerous.multiphysics import EquationBase, Equation\n",
    "\n",
    "from numerous.utils.historian import LocalHistorian as HistoryDataFrame\n",
    "from datetime import timedelta\n",
    "import plotly.graph_objs as go\n"
   ]
  },
  {
   "cell_type": "code",
   "execution_count": 4,
   "metadata": {},
   "outputs": [],
   "source": [
    "\n",
    "class Link_x():\n",
    "    def __init__(self, handles=[]):\n",
    "        self.handles = handles\n",
    "        for f in handles:\n",
    "            f.layout.on_change(self.callback, 'xaxis.range')            \n",
    "    def callback(self, layout, xrange):\n",
    "        for handle in self.handles:\n",
    "            handle.layout.xaxis['range'] = xrange\n",
    "\n",
    "class Plotfig():\n",
    "    def __init__(self):\n",
    "        self.list = []\n",
    "        \n",
    "    def link_x(self):\n",
    "        for f in self.list:\n",
    "            f.layout.on_change(self.link_x_callback, 'xaxis.range')                    \n",
    "    def link_x_callback(self, layout, xrange):         \n",
    "        for f in self.list:\n",
    "            f.layout.xaxis['range'] = xrange\n",
    "            \n",
    "    def add(self, res, y, xlabel=None, ylabel=None, avr=[False,], xlim=[None, None], ylim=[None, None]):        \n",
    "        \n",
    "        legend_x = 1\n",
    "        legend_y = 0.5    \n",
    "       \n",
    "        data = []\n",
    "        for yi in y:\n",
    "         \n",
    "            data.append(go.Scatter(x=res[yi]['time'], y=res[yi]['values'], name=yi, mode='lines'))\n",
    "            if avr[0]==True:\n",
    "                N = avr[1]\n",
    "                y_padded = np.pad(res[yi]['values'], (N//2, N-1-N//2), mode='edge')\n",
    "                yavr = np.convolve(y_padded, np.ones((N,))/N, mode='valid') \n",
    "                data.append(go.Scatter(x=res[yi]['time'], y=yavr, name=yi+'_mean_' + str(N)))\n",
    "\n",
    "        if (xlim[0] == None) and (xlim[1] == None):    \n",
    "            xautorange=True        \n",
    "        else:\n",
    "            xautorange=False\n",
    "\n",
    "        if (ylim[0] == None) and (ylim[1] == None):\n",
    "            yautorange=True\n",
    "        else:\n",
    "            yautorange=False\n",
    "\n",
    "        layout = go.Layout(\n",
    "            xaxis=dict(\n",
    "                autorange=xautorange,\n",
    "                range=xlim,\n",
    "                showgrid=True,\n",
    "                zeroline=False,\n",
    "                showline=False,\n",
    "                title=xlabel,\n",
    "                showticklabels=True\n",
    "            ),\n",
    "            yaxis=dict(\n",
    "                autorange=yautorange,            \n",
    "                range=ylim,\n",
    "                showgrid=True,\n",
    "                zeroline=False,\n",
    "                showline=False,\n",
    "                title=ylabel,            \n",
    "                showticklabels=True\n",
    "            ),\n",
    "            showlegend=True,\n",
    "        )\n",
    "\n",
    "\n",
    "        f = go.FigureWidget(data=data, layout=layout)\n",
    "        \n",
    "        self.list.append(f)\n",
    "        return f\n",
    "    def show(self):\n",
    "        for f in self.list:\n",
    "            f.show()\n",
    "                   \n",
    "class Collection():\n",
    "    def __init__(self):\n",
    "        self.res = {}\n",
    "    def alias(self, historydataframe, y={}):\n",
    "                \n",
    "        for key in list(y.keys()):\n",
    "            self.res.update({key: {'values': [], 'time': []}})\n",
    "        \n",
    "        for index, row in historydataframe.iterrows():            \n",
    "            for tag in y:\n",
    "                self.res[tag]['values'].append(row[y[tag]])    \n",
    "                self.res[tag]['time'].append(index)"
   ]
  },
  {
   "cell_type": "markdown",
   "metadata": {},
   "source": [
    "Now we create the equation of motion, using the EquationBase class."
   ]
  },
  {
   "cell_type": "code",
   "execution_count": 5,
   "metadata": {},
   "outputs": [],
   "source": [
    "class Bouncing(EquationBase):\n",
    "    def __init__(self, g=9.81, f_loss=0.05, x=1, v=0):\n",
    "        super().__init__(tag='bouncing_eq')\n",
    "        self.add_constant('g', g)\n",
    "        self.add_constant('f_loss', f_loss)\n",
    "        self.add_parameter('t_hit', 0)\n",
    "        self.add_state('x', x)\n",
    "        self.add_state('v', v)        \n",
    "\n",
    "    @Equation()\n",
    "    def eval(self, scope):\n",
    "        scope.x_dot = scope.v # Position\n",
    "        scope.v_dot = -scope.g # Velocity\n",
    "       \n",
    "                   \n",
    "            "
   ]
  },
  {
   "cell_type": "markdown",
   "metadata": {},
   "source": [
    "The call to:\n",
    "``` python \n",
    "super().__init__(tag='for info only') \n",
    "```\n",
    "\n",
    "in `__init__` is necessary boilerplate for now. We add constants using the `EquationBase.add_constant` method. The constants we need here are the gravitational constant $g$ and the friction loss $f$, here $f_{loss}$. We also add a parameter $t_{hit}$, which we will use to keep track of when the last time the ball hit the ground. The states, which are integrated by the solver, are added using the ` EquationBase.add_state ` method. After definining the equation of motion, we need a item on which to apply this equation. We call this item `Ball `:"
   ]
  },
  {
   "cell_type": "code",
   "execution_count": 6,
   "metadata": {},
   "outputs": [],
   "source": [
    "class Ball(Item):\n",
    "    def __init__(self, tag=\"ball\", g=9.81, f_loss=5, x0=1, v0=0):\n",
    "        super().__init__(tag)\n",
    "\n",
    "        t1 = self.create_namespace('t1')\n",
    "        t1.add_equations([Bouncing(g=g, f_loss=f_loss, x=x0, v=v0)])   "
   ]
  },
  {
   "cell_type": "markdown",
   "metadata": {},
   "source": [
    "As for the `EquationBase`, the call to `super().__init__(tag)` is necessary boilerplate code with the current release of Numerous. In the `Ball` class, we also create the namespace to contain the variables for the `Bouncing` equation. This is done using the `Item` method `Item.create_namespace`. The namespace is then associated to an equation using the `add_equations` method. Here, we add the `Bouncing` equation, and pass along the parameters $g$, $f_{loss}$, $x0$ and $v0$.\n",
    "\n",
    "Finally, we're ready to assemble the very simple system, which takes as input the `Ball` item:"
   ]
  },
  {
   "cell_type": "code",
   "execution_count": 7,
   "metadata": {},
   "outputs": [],
   "source": [
    "def ms1(simple_item):\n",
    "    class S1(Subsystem):\n",
    "        def __init__(self, tag):\n",
    "            super().__init__(tag)\n",
    "            self.register_items([simple_item])\n",
    "\n",
    "    return S1('S1')\n",
    "\n"
   ]
  },
  {
   "cell_type": "markdown",
   "metadata": {},
   "source": [
    "We can now define the system:"
   ]
  },
  {
   "cell_type": "code",
   "execution_count": 8,
   "metadata": {},
   "outputs": [],
   "source": [
    "model_system_1 = ms1(Ball(tag=\"ball\",g=9.81, f_loss=0.05))"
   ]
  },
  {
   "cell_type": "markdown",
   "metadata": {},
   "source": [
    "`event` functions. An event function uses a root-finding algorithm to detect when a certain condition is triggered. For example, if we want to determine the time at which the position is 0, then the event function needs only to return the position, since the root of that equation is at $x=0$. \n"
   ]
  },
  {
   "cell_type": "markdown",
   "metadata": {
    "pycharm": {
     "name": "#%% md\n"
    }
   },
   "source": [
    "## Solving the system with `event` functions\n",
    "Now that we've demonstrated the callback functions, we're going to do the same with `event` functions. `Event` functions use the solver's (`scipy.integrate.solve_ivp`) build in event detection algorithm, which uses a root finding method to detect when a event has been triggered. Numerous expands upon this by adding `event callbacks` which are functions that are called if and only if an event is triggered. The `event callbacks` are bound to an `event` and multiple `callbacks` can be bound to a single event. Multiple `events` can be bound to a model as well, for example to detect the apex of the bouncing ball. Let us first define the `event` function, which catches whenever the ball hits the ground. The event function must be written of the type $f(t, variables) = 0$, when the event is triggered. Since we're using the position, the root of that function is when $x=0$ so:"
   ]
  },
  {
   "cell_type": "code",
   "execution_count": 9,
   "metadata": {
    "pycharm": {
     "name": "#%%\n"
    }
   },
   "outputs": [],
   "source": [
    "# returns position to find zero crossing using root finding algorithm of scipy solver\n",
    "def hitground_event_fun(t, states):\n",
    "    return states['S1.ball.t1.x']\n",
    "\n"
   ]
  },
  {
   "cell_type": "markdown",
   "metadata": {
    "pycharm": {
     "name": "#%% md\n"
    }
   },
   "source": [
    "We use monkey-patching to set the direction trigger from positive to negative (ball moves past ground), by setting the `direction` attribute to -1. Next, once the event is triggered, we with to reverse the direction of the ball, much similar to the `callback` example above:"
   ]
  },
  {
   "cell_type": "code",
   "execution_count": 10,
   "metadata": {
    "pycharm": {
     "name": "#%%\n"
    }
   },
   "outputs": [],
   "source": [
    "# change direction of movement upon event detection and reduce velocity\n",
    "def hitground_event_callback_fun(t, variables):\n",
    "\n",
    "    velocity = variables['S1.ball.t1.v']\n",
    "    velocity = -velocity * (1 - variables['S1.ball.t1.f_loss'])\n",
    "    variables['S1.ball.t1.v'] = velocity\n",
    "    variables['S1.ball.t1.t_hit'] = t\n",
    "    \n"
   ]
  },
  {
   "cell_type": "markdown",
   "metadata": {
    "pycharm": {
     "name": "#%% md\n"
    }
   },
   "source": [
    "As before, we want to halt the simulation if an event (`hitground_event_fun`) is triggered and the ball hardly moves, so the function returns 1 in that case. We are now ready to solve the system:"
   ]
  },
  {
   "cell_type": "code",
   "execution_count": 11,
   "metadata": {},
   "outputs": [],
   "source": [
    "model_system_2 = ms1(Ball(tag=\"ball\",g=9.81, f_loss=0.05))\n",
    "\n"
   ]
  },
  {
   "cell_type": "code",
   "execution_count": 12,
   "metadata": {
    "pycharm": {
     "name": "#%%\n"
    },
    "scrolled": true
   },
   "outputs": [],
   "source": [
    "\n",
    "def solve_model_system_event_fun(model_system):            \n",
    "    m1 = Model(model_system)\n",
    "    \n",
    "    m1.add_event(\"hitground_event\", hitground_event_fun, hitground_event_callback_fun)\n",
    "    \n",
    "    sim = Simulation(m1, t_start=0, t_stop=tmax, num=num,solver_type=SolverType.SOLVER_IVP)\n",
    "    \n",
    "    sol = sim.solve()\n",
    "    return sim, sol\n",
    "\n",
    "\n",
    "#s1,sol1  = solve_model_system_fun(model_system_1)\n",
    "\n",
    "\n"
   ]
  },
  {
   "cell_type": "markdown",
   "metadata": {
    "pycharm": {
     "name": "#%% md\n"
    }
   },
   "source": [
    "In the function above, we create a `Model` object on the subsystem `ms1`, then we add an event function using the `add_event` method, and associate an event callback to that event function using the `add_event_callback` method. Multiple callbacks can be added to a single event, and multiple events can be added to a single model, but here we're only looking at a single `event` with a single `callback` function defined. Next, the system is solved:"
   ]
  },
  {
   "cell_type": "code",
   "execution_count": 13,
   "metadata": {},
   "outputs": [
    {
     "name": "stderr",
     "output_type": "stream",
     "text": [
      "2021-08-12 13:56:07 INFO     Assembling numerous Model\n",
      "2021-08-12 13:56:07 INFO     parsing equations starting\n",
      "2021-08-12 13:56:07 INFO     parsing equations completed\n",
      "2021-08-12 13:56:07 INFO     process mappings\n",
      "2021-08-12 13:56:07 INFO     clone eq graph\n",
      "2021-08-12 13:56:07 INFO     Cleaning eq graph\n",
      "2021-08-12 13:56:07 INFO     remove dependencies\n",
      "2021-08-12 13:56:07 INFO     cleaning\n",
      "2021-08-12 13:56:07 INFO     done cleaning\n",
      "2021-08-12 13:56:07 INFO     Mappings processed\n",
      "2021-08-12 13:56:07 INFO     variables sorted\n",
      "1it [00:00, 2888.64it/s]\n",
      "2021-08-12 13:56:07 INFO     lowering model\n",
      "2021-08-12 13:56:07 INFO     Starting topological sort\n",
      "2021-08-12 13:56:14 INFO     Cleaning eq graph\n",
      "2021-08-12 13:56:14 INFO     make equations for compilation\n",
      "2021-08-12 13:56:14 INFO     Starting topological sort\n",
      "2021-08-12 13:56:14 INFO     Generate kernel\n",
      "2021-08-12 13:56:14 INFO     generating llvm\n"
     ]
    },
    {
     "name": "stdout",
     "output_type": "stream",
     "text": [
      "target data:  e-m:e-p270:32:32-p271:32:32-p272:64:64-i64:64-f80:128-n8:16:32:64-S128   \n",
      " None\n",
      "target triple:  x86_64-unknown-linux-gnu   \n",
      " None\n",
      "<class 'ctypes.c_double'>   \n",
      " None\n",
      "Assemble time:  6.890359878540039\n",
      "Generating Numba Model\n",
      "Len time steps:  1001\n",
      "Generation time:  9.371394634246826\n",
      "Compiling Numba equations and initializing historian\n",
      "Compilation time:  0.9282810688018799\n"
     ]
    },
    {
     "name": "stderr",
     "output_type": "stream",
     "text": [
      "  0%|          | 0/1000 [00:00<?, ?it/s]\n"
     ]
    },
    {
     "name": "stdout",
     "output_type": "stream",
     "text": [
      "Failed in nopython mode pipeline (step: nopython frontend)\n",
      "NameError: name 'statesNone' is not defined\n"
     ]
    },
    {
     "ename": "TypingError",
     "evalue": "Failed in nopython mode pipeline (step: nopython frontend)\nNameError: name 'statesNone' is not defined",
     "output_type": "error",
     "traceback": [
      "\u001b[0;31m---------------------------------------------------------------------------\u001b[0m",
      "\u001b[0;31mTypingError\u001b[0m                               Traceback (most recent call last)",
      "\u001b[0;32m/tmp/ipykernel_9964/96603964.py\u001b[0m in \u001b[0;36m<module>\u001b[0;34m\u001b[0m\n\u001b[0;32m----> 1\u001b[0;31m \u001b[0msim2\u001b[0m\u001b[0;34m,\u001b[0m\u001b[0msol2\u001b[0m  \u001b[0;34m=\u001b[0m \u001b[0msolve_model_system_event_fun\u001b[0m\u001b[0;34m(\u001b[0m\u001b[0mmodel_system_2\u001b[0m\u001b[0;34m)\u001b[0m\u001b[0;34m\u001b[0m\u001b[0;34m\u001b[0m\u001b[0m\n\u001b[0m\u001b[1;32m      2\u001b[0m \u001b[0;34m\u001b[0m\u001b[0m\n",
      "\u001b[0;32m/tmp/ipykernel_9964/316037998.py\u001b[0m in \u001b[0;36msolve_model_system_event_fun\u001b[0;34m(model_system)\u001b[0m\n\u001b[1;32m      6\u001b[0m     \u001b[0msim\u001b[0m \u001b[0;34m=\u001b[0m \u001b[0mSimulation\u001b[0m\u001b[0;34m(\u001b[0m\u001b[0mm1\u001b[0m\u001b[0;34m,\u001b[0m \u001b[0mt_start\u001b[0m\u001b[0;34m=\u001b[0m\u001b[0;36m0\u001b[0m\u001b[0;34m,\u001b[0m \u001b[0mt_stop\u001b[0m\u001b[0;34m=\u001b[0m\u001b[0mtmax\u001b[0m\u001b[0;34m,\u001b[0m \u001b[0mnum\u001b[0m\u001b[0;34m=\u001b[0m\u001b[0mnum\u001b[0m\u001b[0;34m,\u001b[0m\u001b[0msolver_type\u001b[0m\u001b[0;34m=\u001b[0m\u001b[0mSolverType\u001b[0m\u001b[0;34m.\u001b[0m\u001b[0mSOLVER_IVP\u001b[0m\u001b[0;34m)\u001b[0m\u001b[0;34m\u001b[0m\u001b[0;34m\u001b[0m\u001b[0m\n\u001b[1;32m      7\u001b[0m \u001b[0;34m\u001b[0m\u001b[0m\n\u001b[0;32m----> 8\u001b[0;31m     \u001b[0msol\u001b[0m \u001b[0;34m=\u001b[0m \u001b[0msim\u001b[0m\u001b[0;34m.\u001b[0m\u001b[0msolve\u001b[0m\u001b[0;34m(\u001b[0m\u001b[0;34m)\u001b[0m\u001b[0;34m\u001b[0m\u001b[0;34m\u001b[0m\u001b[0m\n\u001b[0m\u001b[1;32m      9\u001b[0m     \u001b[0;32mreturn\u001b[0m \u001b[0msim\u001b[0m\u001b[0;34m,\u001b[0m \u001b[0msol\u001b[0m\u001b[0;34m\u001b[0m\u001b[0;34m\u001b[0m\u001b[0m\n\u001b[1;32m     10\u001b[0m \u001b[0;34m\u001b[0m\u001b[0m\n",
      "\u001b[0;32m~/Source/numerous_github/numerousv2/numerous/numerous/engine/simulation/simulation.py\u001b[0m in \u001b[0;36msolve\u001b[0;34m(self)\u001b[0m\n\u001b[1;32m    113\u001b[0m         \u001b[0mself\u001b[0m\u001b[0;34m.\u001b[0m\u001b[0mreset\u001b[0m\u001b[0;34m(\u001b[0m\u001b[0;34m)\u001b[0m\u001b[0;34m\u001b[0m\u001b[0;34m\u001b[0m\u001b[0m\n\u001b[1;32m    114\u001b[0m \u001b[0;34m\u001b[0m\u001b[0m\n\u001b[0;32m--> 115\u001b[0;31m         \u001b[0msol\u001b[0m\u001b[0;34m,\u001b[0m \u001b[0mself\u001b[0m\u001b[0;34m.\u001b[0m\u001b[0mresult_status\u001b[0m \u001b[0;34m=\u001b[0m \u001b[0mself\u001b[0m\u001b[0;34m.\u001b[0m\u001b[0msolver\u001b[0m\u001b[0;34m.\u001b[0m\u001b[0msolve\u001b[0m\u001b[0;34m(\u001b[0m\u001b[0;34m)\u001b[0m\u001b[0;34m\u001b[0m\u001b[0;34m\u001b[0m\u001b[0m\n\u001b[0m\u001b[1;32m    116\u001b[0m \u001b[0;34m\u001b[0m\u001b[0m\n\u001b[1;32m    117\u001b[0m         \u001b[0mself\u001b[0m\u001b[0;34m.\u001b[0m\u001b[0minfo\u001b[0m\u001b[0;34m.\u001b[0m\u001b[0mupdate\u001b[0m\u001b[0;34m(\u001b[0m\u001b[0;34m{\u001b[0m\u001b[0;34m\"Solving status\"\u001b[0m\u001b[0;34m:\u001b[0m \u001b[0mself\u001b[0m\u001b[0;34m.\u001b[0m\u001b[0mresult_status\u001b[0m\u001b[0;34m}\u001b[0m\u001b[0;34m)\u001b[0m\u001b[0;34m\u001b[0m\u001b[0;34m\u001b[0m\u001b[0m\n",
      "\u001b[0;32m~/Source/numerous_github/numerousv2/numerous/numerous/engine/simulation/solvers/ivp_solver/ivp_solver.py\u001b[0m in \u001b[0;36msolve\u001b[0;34m(self)\u001b[0m\n\u001b[1;32m     48\u001b[0m         \u001b[0;32mexcept\u001b[0m \u001b[0mException\u001b[0m \u001b[0;32mas\u001b[0m \u001b[0me\u001b[0m\u001b[0;34m:\u001b[0m\u001b[0;34m\u001b[0m\u001b[0;34m\u001b[0m\u001b[0m\n\u001b[1;32m     49\u001b[0m             \u001b[0mprint\u001b[0m\u001b[0;34m(\u001b[0m\u001b[0me\u001b[0m\u001b[0;34m)\u001b[0m\u001b[0;34m\u001b[0m\u001b[0;34m\u001b[0m\u001b[0m\n\u001b[0;32m---> 50\u001b[0;31m             \u001b[0;32mraise\u001b[0m \u001b[0me\u001b[0m\u001b[0;34m\u001b[0m\u001b[0;34m\u001b[0m\u001b[0m\n\u001b[0m\u001b[1;32m     51\u001b[0m \u001b[0;34m\u001b[0m\u001b[0m\n\u001b[1;32m     52\u001b[0m         \u001b[0;32mreturn\u001b[0m \u001b[0mself\u001b[0m\u001b[0;34m.\u001b[0m\u001b[0msol\u001b[0m\u001b[0;34m,\u001b[0m \u001b[0mself\u001b[0m\u001b[0;34m.\u001b[0m\u001b[0mresult_status\u001b[0m\u001b[0;34m\u001b[0m\u001b[0;34m\u001b[0m\u001b[0m\n",
      "\u001b[0;32m~/Source/numerous_github/numerousv2/numerous/numerous/engine/simulation/solvers/ivp_solver/ivp_solver.py\u001b[0m in \u001b[0;36msolve\u001b[0;34m(self)\u001b[0m\n\u001b[1;32m     44\u001b[0m         \u001b[0;32mtry\u001b[0m\u001b[0;34m:\u001b[0m\u001b[0;34m\u001b[0m\u001b[0;34m\u001b[0m\u001b[0m\n\u001b[1;32m     45\u001b[0m             \u001b[0;32mfor\u001b[0m \u001b[0mt\u001b[0m \u001b[0;32min\u001b[0m \u001b[0mtqdm\u001b[0m\u001b[0;34m(\u001b[0m\u001b[0mself\u001b[0m\u001b[0;34m.\u001b[0m\u001b[0mtime\u001b[0m\u001b[0;34m[\u001b[0m\u001b[0;36m0\u001b[0m\u001b[0;34m:\u001b[0m\u001b[0;34m-\u001b[0m\u001b[0;36m1\u001b[0m\u001b[0;34m]\u001b[0m\u001b[0;34m)\u001b[0m\u001b[0;34m:\u001b[0m\u001b[0;34m\u001b[0m\u001b[0;34m\u001b[0m\u001b[0m\n\u001b[0;32m---> 46\u001b[0;31m                 \u001b[0;32mif\u001b[0m \u001b[0mself\u001b[0m\u001b[0;34m.\u001b[0m\u001b[0msolver_step\u001b[0m\u001b[0;34m(\u001b[0m\u001b[0mt\u001b[0m\u001b[0;34m)\u001b[0m\u001b[0;34m:\u001b[0m\u001b[0;34m\u001b[0m\u001b[0;34m\u001b[0m\u001b[0m\n\u001b[0m\u001b[1;32m     47\u001b[0m                     \u001b[0;32mbreak\u001b[0m\u001b[0;34m\u001b[0m\u001b[0;34m\u001b[0m\u001b[0m\n\u001b[1;32m     48\u001b[0m         \u001b[0;32mexcept\u001b[0m \u001b[0mException\u001b[0m \u001b[0;32mas\u001b[0m \u001b[0me\u001b[0m\u001b[0;34m:\u001b[0m\u001b[0;34m\u001b[0m\u001b[0;34m\u001b[0m\u001b[0m\n",
      "\u001b[0;32m~/Source/numerous_github/numerousv2/numerous/numerous/engine/simulation/solvers/ivp_solver/ivp_solver.py\u001b[0m in \u001b[0;36msolver_step\u001b[0;34m(self, t, delta_t)\u001b[0m\n\u001b[1;32m     69\u001b[0m             \u001b[0mt_eval\u001b[0m \u001b[0;34m=\u001b[0m \u001b[0mnp\u001b[0m\u001b[0;34m.\u001b[0m\u001b[0mlinspace\u001b[0m\u001b[0;34m(\u001b[0m\u001b[0mcurrent_timestamp\u001b[0m\u001b[0;34m,\u001b[0m \u001b[0mt_end\u001b[0m\u001b[0;34m,\u001b[0m \u001b[0mself\u001b[0m\u001b[0;34m.\u001b[0m\u001b[0mnum_inner\u001b[0m \u001b[0;34m+\u001b[0m \u001b[0;36m1\u001b[0m\u001b[0;34m)\u001b[0m\u001b[0;34m\u001b[0m\u001b[0;34m\u001b[0m\u001b[0m\n\u001b[1;32m     70\u001b[0m \u001b[0;34m\u001b[0m\u001b[0m\n\u001b[0;32m---> 71\u001b[0;31m             self.sol = solve_ivp(self.diff_function, (current_timestamp, t + delta_t), y0=self.y0, t_eval=t_eval,\n\u001b[0m\u001b[1;32m     72\u001b[0m                                  \u001b[0mdense_output\u001b[0m\u001b[0;34m=\u001b[0m\u001b[0;32mFalse\u001b[0m\u001b[0;34m,\u001b[0m \u001b[0mevents\u001b[0m\u001b[0;34m=\u001b[0m\u001b[0mself\u001b[0m\u001b[0;34m.\u001b[0m\u001b[0meventf\u001b[0m\u001b[0;34m,\u001b[0m\u001b[0;34m\u001b[0m\u001b[0;34m\u001b[0m\u001b[0m\n\u001b[1;32m     73\u001b[0m                                  **self.options)\n",
      "\u001b[0;32m~/numerous/lib/python3.9/site-packages/scipy/integrate/_ivp/ivp.py\u001b[0m in \u001b[0;36msolve_ivp\u001b[0;34m(fun, t_span, y0, method, t_eval, dense_output, events, vectorized, args, **options)\u001b[0m\n\u001b[1;32m    565\u001b[0m             events = [lambda t, x, event=event: event(t, x, *args)\n\u001b[1;32m    566\u001b[0m                       for event in events]\n\u001b[0;32m--> 567\u001b[0;31m         \u001b[0mg\u001b[0m \u001b[0;34m=\u001b[0m \u001b[0;34m[\u001b[0m\u001b[0mevent\u001b[0m\u001b[0;34m(\u001b[0m\u001b[0mt0\u001b[0m\u001b[0;34m,\u001b[0m \u001b[0my0\u001b[0m\u001b[0;34m)\u001b[0m \u001b[0;32mfor\u001b[0m \u001b[0mevent\u001b[0m \u001b[0;32min\u001b[0m \u001b[0mevents\u001b[0m\u001b[0;34m]\u001b[0m\u001b[0;34m\u001b[0m\u001b[0;34m\u001b[0m\u001b[0m\n\u001b[0m\u001b[1;32m    568\u001b[0m         \u001b[0mt_events\u001b[0m \u001b[0;34m=\u001b[0m \u001b[0;34m[\u001b[0m\u001b[0;34m[\u001b[0m\u001b[0;34m]\u001b[0m \u001b[0;32mfor\u001b[0m \u001b[0m_\u001b[0m \u001b[0;32min\u001b[0m \u001b[0mrange\u001b[0m\u001b[0;34m(\u001b[0m\u001b[0mlen\u001b[0m\u001b[0;34m(\u001b[0m\u001b[0mevents\u001b[0m\u001b[0;34m)\u001b[0m\u001b[0;34m)\u001b[0m\u001b[0;34m]\u001b[0m\u001b[0;34m\u001b[0m\u001b[0;34m\u001b[0m\u001b[0m\n\u001b[1;32m    569\u001b[0m         \u001b[0my_events\u001b[0m \u001b[0;34m=\u001b[0m \u001b[0;34m[\u001b[0m\u001b[0;34m[\u001b[0m\u001b[0;34m]\u001b[0m \u001b[0;32mfor\u001b[0m \u001b[0m_\u001b[0m \u001b[0;32min\u001b[0m \u001b[0mrange\u001b[0m\u001b[0;34m(\u001b[0m\u001b[0mlen\u001b[0m\u001b[0;34m(\u001b[0m\u001b[0mevents\u001b[0m\u001b[0;34m)\u001b[0m\u001b[0;34m)\u001b[0m\u001b[0;34m]\u001b[0m\u001b[0;34m\u001b[0m\u001b[0;34m\u001b[0m\u001b[0m\n",
      "\u001b[0;32m~/numerous/lib/python3.9/site-packages/scipy/integrate/_ivp/ivp.py\u001b[0m in \u001b[0;36m<listcomp>\u001b[0;34m(.0)\u001b[0m\n\u001b[1;32m    565\u001b[0m             events = [lambda t, x, event=event: event(t, x, *args)\n\u001b[1;32m    566\u001b[0m                       for event in events]\n\u001b[0;32m--> 567\u001b[0;31m         \u001b[0mg\u001b[0m \u001b[0;34m=\u001b[0m \u001b[0;34m[\u001b[0m\u001b[0mevent\u001b[0m\u001b[0;34m(\u001b[0m\u001b[0mt0\u001b[0m\u001b[0;34m,\u001b[0m \u001b[0my0\u001b[0m\u001b[0;34m)\u001b[0m \u001b[0;32mfor\u001b[0m \u001b[0mevent\u001b[0m \u001b[0;32min\u001b[0m \u001b[0mevents\u001b[0m\u001b[0;34m]\u001b[0m\u001b[0;34m\u001b[0m\u001b[0;34m\u001b[0m\u001b[0m\n\u001b[0m\u001b[1;32m    568\u001b[0m         \u001b[0mt_events\u001b[0m \u001b[0;34m=\u001b[0m \u001b[0;34m[\u001b[0m\u001b[0;34m[\u001b[0m\u001b[0;34m]\u001b[0m \u001b[0;32mfor\u001b[0m \u001b[0m_\u001b[0m \u001b[0;32min\u001b[0m \u001b[0mrange\u001b[0m\u001b[0;34m(\u001b[0m\u001b[0mlen\u001b[0m\u001b[0;34m(\u001b[0m\u001b[0mevents\u001b[0m\u001b[0;34m)\u001b[0m\u001b[0;34m)\u001b[0m\u001b[0;34m]\u001b[0m\u001b[0;34m\u001b[0m\u001b[0;34m\u001b[0m\u001b[0m\n\u001b[1;32m    569\u001b[0m         \u001b[0my_events\u001b[0m \u001b[0;34m=\u001b[0m \u001b[0;34m[\u001b[0m\u001b[0;34m[\u001b[0m\u001b[0;34m]\u001b[0m \u001b[0;32mfor\u001b[0m \u001b[0m_\u001b[0m \u001b[0;32min\u001b[0m \u001b[0mrange\u001b[0m\u001b[0;34m(\u001b[0m\u001b[0mlen\u001b[0m\u001b[0;34m(\u001b[0m\u001b[0mevents\u001b[0m\u001b[0;34m)\u001b[0m\u001b[0;34m)\u001b[0m\u001b[0;34m]\u001b[0m\u001b[0;34m\u001b[0m\u001b[0;34m\u001b[0m\u001b[0m\n",
      "\u001b[0;32m~/numerous/lib/python3.9/site-packages/numba/core/dispatcher.py\u001b[0m in \u001b[0;36m_compile_for_args\u001b[0;34m(self, *args, **kws)\u001b[0m\n\u001b[1;32m    418\u001b[0m                 \u001b[0me\u001b[0m\u001b[0;34m.\u001b[0m\u001b[0mpatch_message\u001b[0m\u001b[0;34m(\u001b[0m\u001b[0mmsg\u001b[0m\u001b[0;34m)\u001b[0m\u001b[0;34m\u001b[0m\u001b[0;34m\u001b[0m\u001b[0m\n\u001b[1;32m    419\u001b[0m \u001b[0;34m\u001b[0m\u001b[0m\n\u001b[0;32m--> 420\u001b[0;31m             \u001b[0merror_rewrite\u001b[0m\u001b[0;34m(\u001b[0m\u001b[0me\u001b[0m\u001b[0;34m,\u001b[0m \u001b[0;34m'typing'\u001b[0m\u001b[0;34m)\u001b[0m\u001b[0;34m\u001b[0m\u001b[0;34m\u001b[0m\u001b[0m\n\u001b[0m\u001b[1;32m    421\u001b[0m         \u001b[0;32mexcept\u001b[0m \u001b[0merrors\u001b[0m\u001b[0;34m.\u001b[0m\u001b[0mUnsupportedError\u001b[0m \u001b[0;32mas\u001b[0m \u001b[0me\u001b[0m\u001b[0;34m:\u001b[0m\u001b[0;34m\u001b[0m\u001b[0;34m\u001b[0m\u001b[0m\n\u001b[1;32m    422\u001b[0m             \u001b[0;31m# Something unsupported is present in the user code, add help info\u001b[0m\u001b[0;34m\u001b[0m\u001b[0;34m\u001b[0m\u001b[0;34m\u001b[0m\u001b[0m\n",
      "\u001b[0;32m~/numerous/lib/python3.9/site-packages/numba/core/dispatcher.py\u001b[0m in \u001b[0;36merror_rewrite\u001b[0;34m(e, issue_type)\u001b[0m\n\u001b[1;32m    359\u001b[0m                 \u001b[0;32mraise\u001b[0m \u001b[0me\u001b[0m\u001b[0;34m\u001b[0m\u001b[0;34m\u001b[0m\u001b[0m\n\u001b[1;32m    360\u001b[0m             \u001b[0;32melse\u001b[0m\u001b[0;34m:\u001b[0m\u001b[0;34m\u001b[0m\u001b[0;34m\u001b[0m\u001b[0m\n\u001b[0;32m--> 361\u001b[0;31m                 \u001b[0;32mraise\u001b[0m \u001b[0me\u001b[0m\u001b[0;34m.\u001b[0m\u001b[0mwith_traceback\u001b[0m\u001b[0;34m(\u001b[0m\u001b[0;32mNone\u001b[0m\u001b[0;34m)\u001b[0m\u001b[0;34m\u001b[0m\u001b[0;34m\u001b[0m\u001b[0m\n\u001b[0m\u001b[1;32m    362\u001b[0m \u001b[0;34m\u001b[0m\u001b[0m\n\u001b[1;32m    363\u001b[0m         \u001b[0margtypes\u001b[0m \u001b[0;34m=\u001b[0m \u001b[0;34m[\u001b[0m\u001b[0;34m]\u001b[0m\u001b[0;34m\u001b[0m\u001b[0;34m\u001b[0m\u001b[0m\n",
      "\u001b[0;31mTypingError\u001b[0m: Failed in nopython mode pipeline (step: nopython frontend)\nNameError: name 'statesNone' is not defined"
     ]
    }
   ],
   "source": [
    "sim2,sol2  = solve_model_system_event_fun(model_system_2)"
   ]
  },
  {
   "cell_type": "code",
   "execution_count": null,
   "metadata": {
    "pycharm": {
     "name": "#%%\n"
    }
   },
   "outputs": [],
   "source": [
    "collections = Collection()\n",
    "collections.alias(sim2.model.historian_df, y={'velocity_event': sim2.model.path_to_variable['S1.ball.t1.v'].id, 'position_event': sim2.model.path_to_variable['S1.ball.t1.x'].id})\n",
    "f=Plotfig()\n",
    "f.add(collections.res, y=['velocity_event'], xlabel='Time (s)', ylabel='Velocity (m/s)')\n",
    "f.add(collections.res, y=['position_event'], xlabel='Time (s)', ylabel='Position (m)')\n",
    "f.link_x()\n",
    "f.show()\n"
   ]
  },
  {
   "cell_type": "markdown",
   "metadata": {
    "pycharm": {
     "name": "#%% md\n"
    }
   },
   "source": [
    "As opposed to the `callback` method earlier, we can observe that the position no longer drops below 0. We can now compare the analytical solution to that which can obtained by the `event` functions:"
   ]
  },
  {
   "cell_type": "code",
   "execution_count": null,
   "metadata": {},
   "outputs": [],
   "source": [
    "Clearly, an improvement in precision to a very high degree of accuracy.\n",
    "\n",
    "## Use cases for `event` and `callback` functions\n",
    "\n",
    "This tutorial demonstrated the use of `callback` functions, and `event` functions with associated `event callbacks`. Using `event` functions has the disadvantage of having to solve for the roots in the `event` function equation for each time-step, which can add overhead time. On the other hand, if precision is required, we need to reduce step size quite dramatically when using simple `callback` functions. It is clear, that the the precise detection of certain triggers is done best using `event` and `event callbacks`, but in other cases where that precision is not needed, we can quite easily use `callback` functions, which can reduce that overhead.\n",
    "\n",
    "For example, if we model a state, which is used as input in a PID controller, and the dynamics of that changing that state is relatively slow (example could be a boiler with a heating element controlled to a certain temperature), then we can use `callback` functions to model the PID controller. Nevertheless, a clear strategy cannot be given a-priori, and it is best up to the simulation expert to determine whether or not to use `event` functions or `callback` functions, and best of all Numerous allows both."
   ]
  },
  {
   "cell_type": "markdown",
   "metadata": {},
   "source": [
    "Clearly, an improvement in precision to a very high degree of accuracy.\n",
    "\n",
    "## Use cases for `event` and `callback` functions\n",
    "\n",
    "This tutorial demonstrated the use of `callback` functions, and `event` functions with associated `event callbacks`. Using `event` functions has the disadvantage of having to solve for the roots in the `event` function equation for each time-step, which can add overhead time. On the other hand, if precision is required, we need to reduce step size quite dramatically when using simple `callback` functions. It is clear, that the the precise detection of certain triggers is done best using `event` and `event callbacks`, but in other cases where that precision is not needed, we can quite easily use `callback` functions, which can reduce that overhead.\n",
    "\n",
    "For example, if we model a state, which is used as input in a PID controller, and the dynamics of that changing that state is relatively slow (example could be a boiler with a heating element controlled to a certain temperature), then we can use `callback` functions to model the PID controller. Nevertheless, a clear strategy cannot be given a-priori, and it is best up to the simulation expert to determine whether or not to use `event` functions or `callback` functions, and best of all Numerous allows both."
   ]
  },
  {
   "cell_type": "code",
   "execution_count": null,
   "metadata": {},
   "outputs": [],
   "source": [
    "sim2.model.historian.df"
   ]
  },
  {
   "cell_type": "code",
   "execution_count": null,
   "metadata": {},
   "outputs": [],
   "source": []
  },
  {
   "cell_type": "code",
   "execution_count": null,
   "metadata": {},
   "outputs": [],
   "source": []
  }
 ],
 "metadata": {
  "kernelspec": {
   "display_name": "Python 3 (ipykernel)",
   "language": "python",
   "name": "python3"
  },
  "language_info": {
   "codemirror_mode": {
    "name": "ipython",
    "version": 3
   },
   "file_extension": ".py",
   "mimetype": "text/x-python",
   "name": "python",
   "nbconvert_exporter": "python",
   "pygments_lexer": "ipython3",
   "version": "3.9.5"
  }
 },
 "nbformat": 4,
 "nbformat_minor": 2
}
