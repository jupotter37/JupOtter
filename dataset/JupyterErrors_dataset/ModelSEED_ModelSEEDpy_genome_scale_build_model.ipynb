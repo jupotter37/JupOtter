{
 "cells": [
  {
   "cell_type": "code",
   "execution_count": 1,
   "metadata": {},
   "outputs": [
    {
     "name": "stdout",
     "output_type": "stream",
     "text": [
      "cobrakbase 0.2.8\n"
     ]
    }
   ],
   "source": [
    "import sys\n",
    "import cobra\n",
    "import cobrakbase\n",
    "from modelseedpy import KBaseMediaPkg\n",
    "from modelseedpy import FBAHelper, MSBuilder, MSGenome\n",
    "from modelseedpy import RastClient"
   ]
  },
  {
   "cell_type": "code",
   "execution_count": 2,
   "metadata": {},
   "outputs": [],
   "source": [
    "genome = MSGenome.from_fasta('GCF_000005845.2_ASM584v2_protein.faa', split=' ')"
   ]
  },
  {
   "cell_type": "code",
   "execution_count": 3,
   "metadata": {},
   "outputs": [],
   "source": [
    "rast = RastClient()"
   ]
  },
  {
   "cell_type": "code",
   "execution_count": 4,
   "metadata": {},
   "outputs": [
    {
     "data": {
      "text/plain": [
       "[{'execution_time': 1627675119.95746,\n",
       "  'tool_name': 'kmer_search',\n",
       "  'hostname': 'pear',\n",
       "  'parameters': ['-a',\n",
       "   '-g',\n",
       "   200,\n",
       "   '-m',\n",
       "   5,\n",
       "   '-d',\n",
       "   '/opt/patric-common/data/kmer_metadata_v2',\n",
       "   '-u',\n",
       "   'http://pear.mcs.anl.gov:6100/query'],\n",
       "  'id': '88DA5DF4-F170-11EB-AE5A-A9E5BBF382BD'},\n",
       " {'execution_time': 1627675120.17851,\n",
       "  'tool_name': 'KmerAnnotationByFigfam',\n",
       "  'hostname': 'pear',\n",
       "  'parameters': ['annotate_hypothetical_only=1',\n",
       "   'dataset_name=Release70',\n",
       "   'kmer_size=8'],\n",
       "  'id': '88FC189A-F170-11EB-AE5A-A9E5BBF382BD'},\n",
       " {'parameters': [],\n",
       "  'id': '892FA53E-F170-11EB-8CA7-18C8BCF382BD',\n",
       "  'execute_time': 1627675120.51629,\n",
       "  'tool_name': 'annotate_proteins_similarity',\n",
       "  'hostname': 'pear'}]"
      ]
     },
     "execution_count": 4,
     "metadata": {},
     "output_type": "execute_result"
    }
   ],
   "source": [
    "rast.annotate_genome(genome)"
   ]
  },
  {
   "cell_type": "code",
   "execution_count": 5,
   "metadata": {},
   "outputs": [],
   "source": [
    "from modelseedpy import MSBuilder\n",
    "from modelseedpy.helpers import get_template, get_classifier"
   ]
  },
  {
   "cell_type": "code",
   "execution_count": 23,
   "metadata": {},
   "outputs": [],
   "source": [
    "genome_classifier = get_classifier('knn_filter')"
   ]
  },
  {
   "cell_type": "code",
   "execution_count": 8,
   "metadata": {},
   "outputs": [
    {
     "name": "stdout",
     "output_type": "stream",
     "text": [
      "N\n"
     ]
    }
   ],
   "source": [
    "genome_class = genome_classifier.classify(genome)\n",
    "print(genome_class)"
   ]
  },
  {
   "cell_type": "code",
   "execution_count": 61,
   "metadata": {},
   "outputs": [],
   "source": [
    "from cobrakbase.core.kbasefba.newmodeltemplate_builder import NewModelTemplateBuilder\n",
    "template_core = get_template('template_core')\n",
    "template_gramneg = get_template('template_gram_neg')\n",
    "template_core = NewModelTemplateBuilder.from_dict(template_core, None).build()\n",
    "template_gramneg = NewModelTemplateBuilder.from_dict(template_gramneg, None).build()\n",
    "template_core"
   ]
  },
  {
   "cell_type": "code",
   "execution_count": null,
   "metadata": {},
   "outputs": [],
   "source": [
    "kbase = cobrakbase.KBaseAPI()\n",
    "media1 = kbase.get_from_ws('Carbon-D-Glucose', 'KBaseMedia')\n",
    "media2 = kbase.get_from_ws('C-acetate', 'KBaseMedia')"
   ]
  },
  {
   "cell_type": "code",
   "execution_count": 85,
   "metadata": {},
   "outputs": [],
   "source": [
    "model_builder = MSBuilder(genome, template_gramneg)"
   ]
  },
  {
   "cell_type": "code",
   "execution_count": 142,
   "metadata": {},
   "outputs": [],
   "source": [
    "base_model = model_builder.build('model', '0', allow_all_non_grp_reactions=True, annotate_with_rast=False)\n",
    "from modelseedpy.core.msbuilder import build_biomass, core_atp\n",
    "base_model.add_reactions([build_biomass('bio2', base_model, template_core, core_atp, '0')])"
   ]
  },
  {
   "cell_type": "code",
   "execution_count": 150,
   "metadata": {},
   "outputs": [],
   "source": [
    "def disable_noncore_reactions(ms_atp,model,coretemplate = None):\n",
    "    if coretemplate == None:\n",
    "        coretemplate = ms_atp.default_coretemplate\n",
    "    original_bounds = {}\n",
    "    noncore_reactions = []\n",
    "    for reaction in model.reactions:\n",
    "        if reaction.id[:-1] not in coretemplate.reactions:\n",
    "            original_bounds[reaction.id] = [reaction.lower_bound,reaction.upper_bound]\n",
    "            if reaction.lower_bound < 0:\n",
    "                noncore_reactions.append([reaction,\"<\"])\n",
    "            if reaction.upper_bound > 0:\n",
    "                noncore_reactions.append([reaction,\">\"])\n",
    "            reaction.lower_bound = 0\n",
    "            reaction.upper_bound = 0\n",
    "            reaction.update_variable_bounds()\n",
    "    return (noncore_reactions,original_bounds)\n",
    "noncore_reactions, original_bounds = disable_noncore_reactions(ms_atp, base_model, template_core)"
   ]
  },
  {
   "cell_type": "code",
   "execution_count": 166,
   "metadata": {},
   "outputs": [
    {
     "data": {
      "text/plain": [
       "{'EX_cpd00067_e0': 100,\n",
       " 'EX_cpd00971_e0': 100,\n",
       " 'EX_cpd00001_e0': 100,\n",
       " 'EX_cpd00063_e0': 100,\n",
       " 'EX_cpd00058_e0': 100,\n",
       " 'EX_cpd00013_e0': 100,\n",
       " 'EX_cpd00244_e0': 100,\n",
       " 'EX_cpd00205_e0': 100,\n",
       " 'EX_cpd00009_e0': 100,\n",
       " 'EX_cpd00034_e0': 100,\n",
       " 'EX_cpd10516_e0': 100,\n",
       " 'EX_cpd10515_e0': 100,\n",
       " 'EX_cpd00048_e0': 100,\n",
       " 'EX_cpd00030_e0': 100,\n",
       " 'EX_cpd00149_e0': 100,\n",
       " 'EX_cpd00099_e0': 100,\n",
       " 'EX_cpd00027_e0': 5,\n",
       " 'EX_cpd00254_e0': 100,\n",
       " 'EX_cpd00007_e0': 10}"
      ]
     },
     "execution_count": 166,
     "metadata": {},
     "output_type": "execute_result"
    }
   ],
   "source": [
    "base_model.medium"
   ]
  },
  {
   "cell_type": "code",
   "execution_count": 153,
   "metadata": {},
   "outputs": [
    {
     "name": "stderr",
     "output_type": "stream",
     "text": [
      "/usr/local/lib/python3.8/site-packages/cobra/util/solver.py:508 \u001b[1;31mUserWarning\u001b[0m: Solver status is 'infeasible'.\n"
     ]
    }
   ],
   "source": [
    "media_gapfill_stats = ms_atp.evaluate_growth_media(base_model,[media1],'bio2')"
   ]
  },
  {
   "cell_type": "code",
   "execution_count": 158,
   "metadata": {},
   "outputs": [],
   "source": [
    "base_model.objective = 'bio2'\n",
    "pkgmgr = MSPackageManager.get_pkg_mgr(model)\n",
    "pkgmgr.getpkg(\"KBaseMediaPkg\").build_package(media1)"
   ]
  },
  {
   "cell_type": "code",
   "execution_count": 159,
   "metadata": {},
   "outputs": [
    {
     "data": {
      "text/plain": [
       "{}"
      ]
     },
     "execution_count": 159,
     "metadata": {},
     "output_type": "execute_result"
    }
   ],
   "source": [
    "base_model.medium"
   ]
  },
  {
   "cell_type": "code",
   "execution_count": null,
   "metadata": {},
   "outputs": [],
   "source": [
    "from modelseedpy import MSATPCorrection"
   ]
  },
  {
   "cell_type": "code",
   "execution_count": 131,
   "metadata": {},
   "outputs": [],
   "source": [
    "ms_atp = MSATPCorrection(template_core)\n",
    "ms_atp.msgapfill.default_gapfill_templates.append(template_core)"
   ]
  },
  {
   "cell_type": "code",
   "execution_count": null,
   "metadata": {},
   "outputs": [],
   "source": []
  },
  {
   "cell_type": "code",
   "execution_count": 132,
   "metadata": {},
   "outputs": [
    {
     "name": "stdout",
     "output_type": "stream",
     "text": [
      "0.0\n",
      "run gapfill <cobrakbase.core.kbasebiochem.media.Media object at 0x7fbc5c089be0>\n"
     ]
    },
    {
     "name": "stderr",
     "output_type": "stream",
     "text": [
      "/usr/local/lib/python3.8/site-packages/cobra/util/solver.py:508 \u001b[1;31mUserWarning\u001b[0m: Solver status is 'infeasible'.\n"
     ]
    }
   ],
   "source": [
    "noncore_reactions, original_bounds = ms_atp.disable_noncore_reactions(base_model, template_core)\n",
    "def evaluate_growth_media2(ms_atp,model, test_medias = None, atp_objective = \"bio2\"):\n",
    "    media_gapfill_stats = {}\n",
    "    with model:\n",
    "        FBAHelper.set_objective_from_target_reaction(model,atp_objective)\n",
    "        pkgmgr = MSPackageManager.get_pkg_mgr(model)\n",
    "        for media in test_medias:\n",
    "            pkgmgr.getpkg(\"KBaseMediaPkg\").build_package(media)\n",
    "            solution = model.optimize()\n",
    "            media_gapfill_stats[media] = None\n",
    "            print(solution.objective_value)\n",
    "            if solution.objective_value == 0:\n",
    "                print('run gapfill', media)\n",
    "                media_gapfill_stats[media] = ms_atp.msgapfill.run_gapfilling(model, media, atp_objective)\n",
    "    return media_gapfill_stats\n",
    "media_gapfill_stats = evaluate_growth_media2(ms_atp, base_model, [media1], 'bio2')"
   ]
  },
  {
   "cell_type": "code",
   "execution_count": 133,
   "metadata": {},
   "outputs": [
    {
     "data": {
      "text/plain": [
       "{<cobrakbase.core.kbasebiochem.media.Media at 0x7fbc5c089be0>: {'reversed': {},\n",
       "  'new': {}}}"
      ]
     },
     "execution_count": 133,
     "metadata": {},
     "output_type": "execute_result"
    }
   ],
   "source": [
    "media_gapfill_stats"
   ]
  },
  {
   "cell_type": "code",
   "execution_count": 134,
   "metadata": {},
   "outputs": [
    {
     "name": "stderr",
     "output_type": "stream",
     "text": [
      "/usr/local/lib/python3.8/site-packages/cobra/util/solver.py:508 \u001b[1;31mUserWarning\u001b[0m: Solver status is 'infeasible'.\n"
     ]
    },
    {
     "data": {
      "text/plain": [
       "{'reversed': {}, 'new': {}}"
      ]
     },
     "execution_count": 134,
     "metadata": {},
     "output_type": "execute_result"
    }
   ],
   "source": [
    "ms_atp.msgapfill.run_gapfilling(base_model, media1, 'bio2')"
   ]
  },
  {
   "cell_type": "code",
   "execution_count": 135,
   "metadata": {},
   "outputs": [],
   "source": [
    "from modelseedpy.core import FBAHelper, MSGapfill"
   ]
  },
  {
   "cell_type": "code",
   "execution_count": 136,
   "metadata": {},
   "outputs": [],
   "source": [
    "gapfill = MSGapfill()\n",
    "gapfill.default_gapfill_templates.append(template_gramneg)"
   ]
  },
  {
   "cell_type": "code",
   "execution_count": 137,
   "metadata": {},
   "outputs": [
    {
     "name": "stderr",
     "output_type": "stream",
     "text": [
      "/usr/local/lib/python3.8/site-packages/cobra/util/solver.py:508 \u001b[1;31mUserWarning\u001b[0m: Solver status is 'infeasible'.\n"
     ]
    },
    {
     "data": {
      "text/plain": [
       "{'reversed': {}, 'new': {}}"
      ]
     },
     "execution_count": 137,
     "metadata": {},
     "output_type": "execute_result"
    }
   ],
   "source": [
    "gapfill.run_gapfilling(base_model, media1, 'bio2')"
   ]
  },
  {
   "cell_type": "code",
   "execution_count": null,
   "metadata": {},
   "outputs": [],
   "source": []
  },
  {
   "cell_type": "code",
   "execution_count": 99,
   "metadata": {},
   "outputs": [
    {
     "name": "stderr",
     "output_type": "stream",
     "text": [
      "/usr/local/lib/python3.8/site-packages/cobra/util/solver.py:508 \u001b[1;31mUserWarning\u001b[0m: Solver status is 'infeasible'.\n"
     ]
    }
   ],
   "source": []
  },
  {
   "cell_type": "code",
   "execution_count": 103,
   "metadata": {},
   "outputs": [
    {
     "data": {
      "text/plain": [
       "{<cobrakbase.core.kbasebiochem.media.Media at 0x7fbc5c089be0>: {'reversed': {},\n",
       "  'new': {}}}"
      ]
     },
     "execution_count": 103,
     "metadata": {},
     "output_type": "execute_result"
    }
   ],
   "source": [
    "media_gapfill_stats"
   ]
  },
  {
   "cell_type": "code",
   "execution_count": 107,
   "metadata": {},
   "outputs": [
    {
     "data": {
      "text/plain": [
       "[<cobrakbase.core.kbasebiochem.media.Media at 0x7fbc5c089be0>]"
      ]
     },
     "execution_count": 107,
     "metadata": {},
     "output_type": "execute_result"
    }
   ],
   "source": [
    "media_list = ms_atp.determine_growth_media(base_model, media_gapfill_stats, ms_atp.max_gapfilling, 0)\n",
    "media_list"
   ]
  },
  {
   "cell_type": "code",
   "execution_count": 114,
   "metadata": {},
   "outputs": [
    {
     "name": "stdout",
     "output_type": "stream",
     "text": [
      "<Solution 0.000 at 0x7fbc574cb910>\n"
     ]
    }
   ],
   "source": [
    "from modelseedpy.fbapkg.mspackagemanager import MSPackageManager\n",
    "gapfilling_tests = []\n",
    "pkgmgr = MSPackageManager.get_pkg_mgr(model)\n",
    "for media in media_list:\n",
    "    pkgmgr.getpkg(\"KBaseMediaPkg\").build_package(media)    \n",
    "    solution = model.optimize()\n",
    "    print(solution)\n",
    "    gapfilling_tests.append({\n",
    "        \"media\":media,\n",
    "        \"is_max_threshold\": True,\n",
    "        \"threshold\": 1.2 * solution.objective_value\n",
    "    })\n",
    "#Extending model with noncore reactions while retaining ATP accuracy\n",
    "#filtered = FBAHelper.reaction_expansion_test(model, noncore_reactions, gapfilling_tests)"
   ]
  },
  {
   "cell_type": "code",
   "execution_count": 113,
   "metadata": {},
   "outputs": [
    {
     "data": {
      "text/plain": [
       "[{'media': <cobrakbase.core.kbasebiochem.media.Media at 0x7fbc5c089be0>,\n",
       "  'is_max_threshold': True,\n",
       "  'threshold': 0.0}]"
      ]
     },
     "execution_count": 113,
     "metadata": {},
     "output_type": "execute_result"
    }
   ],
   "source": [
    "gapfilling_tests"
   ]
  },
  {
   "cell_type": "code",
   "execution_count": 108,
   "metadata": {},
   "outputs": [],
   "source": [
    "model = ms_atp.apply_growth_media_gapfilling(base_model, media_list, media_gapfill_stats)"
   ]
  },
  {
   "cell_type": "code",
   "execution_count": 111,
   "metadata": {},
   "outputs": [],
   "source": [
    "    def reaction_expansion_test(model, reaction_list, condition_list):\n",
    "        # First knockout all reactions in the input list and save original bounds\n",
    "        original_bound = []\n",
    "        for item in reaction_list:\n",
    "            if item[1] == \">\":\n",
    "                original_bound.append(item[0].upper_bound)\n",
    "                item[0].upper_bound = 0\n",
    "            else:\n",
    "                original_bound.append(-1*item[0].lower_bound)\n",
    "                item[0].lower_bound = 0\n",
    "        # Now restore reactions one at a time\n",
    "        count = 0\n",
    "        filtered_list = []\n",
    "        for item in reaction_list:\n",
    "            if item[1] == \">\" :\n",
    "                item[0].upper_bound = original_bound[count]\n",
    "                if not FBAHelper.test_condition_list(model,condition_list):\n",
    "                    item[0].upper_bound = 0\n",
    "                    filtered_list.append(item)\n",
    "            else:\n",
    "                item[0].lower_bound = original_bound[count]\n",
    "                if not FBAHelper.test_condition_list(model,condition_list):\n",
    "                    item[0].lower_bound = 0\n",
    "                    filtered_list.append(item)\n",
    "            count += 1\n",
    "        return filtered_list"
   ]
  },
  {
   "cell_type": "code",
   "execution_count": 110,
   "metadata": {},
   "outputs": [
    {
     "ename": "KeyError",
     "evalue": "'objective'",
     "output_type": "error",
     "traceback": [
      "\u001b[0;31m---------------------------------------------------------------------------\u001b[0m",
      "\u001b[0;31mKeyError\u001b[0m                                  Traceback (most recent call last)",
      "\u001b[0;32m<ipython-input-110-e51cbc74c8c1>\u001b[0m in \u001b[0;36m<module>\u001b[0;34m\u001b[0m\n\u001b[0;32m----> 1\u001b[0;31m \u001b[0mmodel\u001b[0m \u001b[0;34m=\u001b[0m \u001b[0mms_atp\u001b[0m\u001b[0;34m.\u001b[0m\u001b[0mexpand_model_to_genome_scale\u001b[0m\u001b[0;34m(\u001b[0m\u001b[0mbase_model\u001b[0m\u001b[0;34m,\u001b[0m \u001b[0mmedia_list\u001b[0m\u001b[0;34m,\u001b[0m \u001b[0mnoncore_reactions\u001b[0m\u001b[0;34m)\u001b[0m\u001b[0;34m\u001b[0m\u001b[0;34m\u001b[0m\u001b[0m\n\u001b[0m",
      "\u001b[0;32m/usr/local/lib/python3.8/site-packages/modelseedpy/core/msatpcorrection.py\u001b[0m in \u001b[0;36mexpand_model_to_genome_scale\u001b[0;34m(self, model, media_list, noncore_reactions)\u001b[0m\n\u001b[1;32m     90\u001b[0m             \u001b[0mgapfilling_tests\u001b[0m\u001b[0;34m.\u001b[0m\u001b[0mappend\u001b[0m\u001b[0;34m(\u001b[0m\u001b[0;34m{\u001b[0m\u001b[0;34m\"media\"\u001b[0m\u001b[0;34m:\u001b[0m\u001b[0mmedia\u001b[0m\u001b[0;34m,\u001b[0m\u001b[0;34m\"is_max_threshold\"\u001b[0m\u001b[0;34m:\u001b[0m \u001b[0;32mTrue\u001b[0m\u001b[0;34m,\u001b[0m\u001b[0;34m\"threshold\"\u001b[0m\u001b[0;34m:\u001b[0m\u001b[0;36m1.2\u001b[0m\u001b[0;34m*\u001b[0m\u001b[0msolution\u001b[0m\u001b[0;34m.\u001b[0m\u001b[0mobjective_value\u001b[0m\u001b[0;34m}\u001b[0m\u001b[0;34m)\u001b[0m\u001b[0;34m\u001b[0m\u001b[0;34m\u001b[0m\u001b[0m\n\u001b[1;32m     91\u001b[0m         \u001b[0;31m#Extending model with noncore reactions while retaining ATP accuracy\u001b[0m\u001b[0;34m\u001b[0m\u001b[0;34m\u001b[0m\u001b[0;34m\u001b[0m\u001b[0m\n\u001b[0;32m---> 92\u001b[0;31m         \u001b[0mfiltered\u001b[0m \u001b[0;34m=\u001b[0m \u001b[0mFBAHelper\u001b[0m\u001b[0;34m.\u001b[0m\u001b[0mreaction_expansion_test\u001b[0m\u001b[0;34m(\u001b[0m\u001b[0mmodel\u001b[0m\u001b[0;34m,\u001b[0m\u001b[0mnoncore_reactions\u001b[0m\u001b[0;34m,\u001b[0m\u001b[0mgapfilling_tests\u001b[0m\u001b[0;34m)\u001b[0m\u001b[0;34m\u001b[0m\u001b[0;34m\u001b[0m\u001b[0m\n\u001b[0m\u001b[1;32m     93\u001b[0m         \u001b[0;31m#Removing filtered reactions\u001b[0m\u001b[0;34m\u001b[0m\u001b[0;34m\u001b[0m\u001b[0;34m\u001b[0m\u001b[0m\n\u001b[1;32m     94\u001b[0m         \u001b[0;32mfor\u001b[0m \u001b[0mitem\u001b[0m \u001b[0;32min\u001b[0m \u001b[0mfiltered\u001b[0m\u001b[0;34m:\u001b[0m\u001b[0;34m\u001b[0m\u001b[0;34m\u001b[0m\u001b[0m\n",
      "\u001b[0;32m/usr/local/lib/python3.8/site-packages/modelseedpy/core/fbahelper.py\u001b[0m in \u001b[0;36mreaction_expansion_test\u001b[0;34m(model, reaction_list, condition_list)\u001b[0m\n\u001b[1;32m     86\u001b[0m             \u001b[0;32mif\u001b[0m \u001b[0mitem\u001b[0m\u001b[0;34m[\u001b[0m\u001b[0;36m1\u001b[0m\u001b[0;34m]\u001b[0m \u001b[0;34m==\u001b[0m \u001b[0;34m\">\"\u001b[0m \u001b[0;34m:\u001b[0m\u001b[0;34m\u001b[0m\u001b[0;34m\u001b[0m\u001b[0m\n\u001b[1;32m     87\u001b[0m                 \u001b[0mitem\u001b[0m\u001b[0;34m[\u001b[0m\u001b[0;36m0\u001b[0m\u001b[0;34m]\u001b[0m\u001b[0;34m.\u001b[0m\u001b[0mupper_bound\u001b[0m \u001b[0;34m=\u001b[0m \u001b[0moriginal_bound\u001b[0m\u001b[0;34m[\u001b[0m\u001b[0mcount\u001b[0m\u001b[0;34m]\u001b[0m\u001b[0;34m\u001b[0m\u001b[0;34m\u001b[0m\u001b[0m\n\u001b[0;32m---> 88\u001b[0;31m                 \u001b[0;32mif\u001b[0m \u001b[0;32mnot\u001b[0m \u001b[0mFBAHelper\u001b[0m\u001b[0;34m.\u001b[0m\u001b[0mtest_condition_list\u001b[0m\u001b[0;34m(\u001b[0m\u001b[0mmodel\u001b[0m\u001b[0;34m,\u001b[0m\u001b[0mcondition_list\u001b[0m\u001b[0;34m)\u001b[0m\u001b[0;34m:\u001b[0m\u001b[0;34m\u001b[0m\u001b[0;34m\u001b[0m\u001b[0m\n\u001b[0m\u001b[1;32m     89\u001b[0m                     \u001b[0mitem\u001b[0m\u001b[0;34m[\u001b[0m\u001b[0;36m0\u001b[0m\u001b[0;34m]\u001b[0m\u001b[0;34m.\u001b[0m\u001b[0mupper_bound\u001b[0m \u001b[0;34m=\u001b[0m \u001b[0;36m0\u001b[0m\u001b[0;34m\u001b[0m\u001b[0;34m\u001b[0m\u001b[0m\n\u001b[1;32m     90\u001b[0m                     \u001b[0mfiltered_list\u001b[0m\u001b[0;34m.\u001b[0m\u001b[0mappend\u001b[0m\u001b[0;34m(\u001b[0m\u001b[0mitem\u001b[0m\u001b[0;34m)\u001b[0m\u001b[0;34m\u001b[0m\u001b[0;34m\u001b[0m\u001b[0m\n",
      "\u001b[0;32m/usr/local/lib/python3.8/site-packages/modelseedpy/core/fbahelper.py\u001b[0m in \u001b[0;36mtest_condition_list\u001b[0;34m(model, condition_list)\u001b[0m\n\u001b[1;32m     60\u001b[0m         \u001b[0;32mfor\u001b[0m \u001b[0mcondition\u001b[0m \u001b[0;32min\u001b[0m \u001b[0mcondition_list\u001b[0m\u001b[0;34m:\u001b[0m\u001b[0;34m\u001b[0m\u001b[0;34m\u001b[0m\u001b[0m\n\u001b[1;32m     61\u001b[0m             \u001b[0mpkgmgr\u001b[0m\u001b[0;34m.\u001b[0m\u001b[0mgetpkg\u001b[0m\u001b[0;34m(\u001b[0m\u001b[0;34m\"KBaseMediaPkg\"\u001b[0m\u001b[0;34m)\u001b[0m\u001b[0;34m.\u001b[0m\u001b[0mbuild_package\u001b[0m\u001b[0;34m(\u001b[0m\u001b[0mcondition\u001b[0m\u001b[0;34m[\u001b[0m\u001b[0;34m\"media\"\u001b[0m\u001b[0;34m]\u001b[0m\u001b[0;34m)\u001b[0m\u001b[0;34m\u001b[0m\u001b[0;34m\u001b[0m\u001b[0m\n\u001b[0;32m---> 62\u001b[0;31m             \u001b[0mmodel\u001b[0m\u001b[0;34m.\u001b[0m\u001b[0mobjective\u001b[0m \u001b[0;34m=\u001b[0m \u001b[0mcondition\u001b[0m\u001b[0;34m[\u001b[0m\u001b[0;34m\"objective\"\u001b[0m\u001b[0;34m]\u001b[0m\u001b[0;34m\u001b[0m\u001b[0;34m\u001b[0m\u001b[0m\n\u001b[0m\u001b[1;32m     63\u001b[0m             \u001b[0msol\u001b[0m \u001b[0;34m=\u001b[0m \u001b[0mmodel\u001b[0m\u001b[0;34m.\u001b[0m\u001b[0moptimize\u001b[0m\u001b[0;34m(\u001b[0m\u001b[0;34m)\u001b[0m\u001b[0;34m\u001b[0m\u001b[0;34m\u001b[0m\u001b[0m\n\u001b[1;32m     64\u001b[0m             \u001b[0mprint\u001b[0m\u001b[0;34m(\u001b[0m\u001b[0;34m\"Testing \"\u001b[0m\u001b[0;34m+\u001b[0m\u001b[0mcondition\u001b[0m\u001b[0;34m[\u001b[0m\u001b[0;34m\"media\"\u001b[0m\u001b[0;34m]\u001b[0m\u001b[0;34m.\u001b[0m\u001b[0mname\u001b[0m\u001b[0;34m(\u001b[0m\u001b[0;34m)\u001b[0m\u001b[0;34m+\u001b[0m\u001b[0;34m\":\"\u001b[0m\u001b[0;34m+\u001b[0m\u001b[0mstr\u001b[0m\u001b[0;34m(\u001b[0m\u001b[0msol\u001b[0m\u001b[0;34m.\u001b[0m\u001b[0mobjective_value\u001b[0m\u001b[0;34m)\u001b[0m\u001b[0;34m+\u001b[0m\u001b[0;34m\":\"\u001b[0m\u001b[0;34m+\u001b[0m\u001b[0mstr\u001b[0m\u001b[0;34m(\u001b[0m\u001b[0mcondition\u001b[0m\u001b[0;34m[\u001b[0m\u001b[0;34m\"threshold\"\u001b[0m\u001b[0;34m]\u001b[0m\u001b[0;34m)\u001b[0m\u001b[0;34m)\u001b[0m\u001b[0;34m\u001b[0m\u001b[0;34m\u001b[0m\u001b[0m\n",
      "\u001b[0;31mKeyError\u001b[0m: 'objective'"
     ]
    }
   ],
   "source": [
    "model = ms_atp.expand_model_to_genome_scale(base_model, media_list, noncore_reactions)"
   ]
  },
  {
   "cell_type": "code",
   "execution_count": 84,
   "metadata": {},
   "outputs": [
    {
     "name": "stderr",
     "output_type": "stream",
     "text": [
      "/usr/local/lib/python3.8/site-packages/cobra/util/solver.py:508 \u001b[1;31mUserWarning\u001b[0m: Solver status is 'infeasible'.\n"
     ]
    },
    {
     "ename": "KeyError",
     "evalue": "'objective'",
     "output_type": "error",
     "traceback": [
      "\u001b[0;31m---------------------------------------------------------------------------\u001b[0m",
      "\u001b[0;31mKeyError\u001b[0m                                  Traceback (most recent call last)",
      "\u001b[0;32m<ipython-input-84-228468db1470>\u001b[0m in \u001b[0;36m<module>\u001b[0;34m\u001b[0m\n\u001b[0;32m----> 1\u001b[0;31m \u001b[0mms_atp\u001b[0m\u001b[0;34m.\u001b[0m\u001b[0mrun_atp_correction\u001b[0m\u001b[0;34m(\u001b[0m\u001b[0mbase_model\u001b[0m\u001b[0;34m,\u001b[0m \u001b[0;34m[\u001b[0m\u001b[0mmedia1\u001b[0m\u001b[0;34m,\u001b[0m \u001b[0mmedia2\u001b[0m\u001b[0;34m]\u001b[0m\u001b[0;34m)\u001b[0m\u001b[0;34m\u001b[0m\u001b[0;34m\u001b[0m\u001b[0m\n\u001b[0m",
      "\u001b[0;32m/usr/local/lib/python3.8/site-packages/modelseedpy/core/msatpcorrection.py\u001b[0m in \u001b[0;36mrun_atp_correction\u001b[0;34m(self, model, atp_medias, atp_objective, genome_class)\u001b[0m\n\u001b[1;32m    121\u001b[0m         \u001b[0mmedia_list\u001b[0m \u001b[0;34m=\u001b[0m \u001b[0mself\u001b[0m\u001b[0;34m.\u001b[0m\u001b[0mdetermine_growth_media\u001b[0m\u001b[0;34m(\u001b[0m\u001b[0mmodel\u001b[0m\u001b[0;34m,\u001b[0m\u001b[0mmedia_gapfill_stats\u001b[0m\u001b[0;34m,\u001b[0m\u001b[0mself\u001b[0m\u001b[0;34m.\u001b[0m\u001b[0mmax_gapfilling\u001b[0m\u001b[0;34m,\u001b[0m\u001b[0mself\u001b[0m\u001b[0;34m.\u001b[0m\u001b[0mgapfilling_delta\u001b[0m\u001b[0;34m)\u001b[0m\u001b[0;34m\u001b[0m\u001b[0;34m\u001b[0m\u001b[0m\n\u001b[1;32m    122\u001b[0m         \u001b[0mmodel\u001b[0m \u001b[0;34m=\u001b[0m \u001b[0mself\u001b[0m\u001b[0;34m.\u001b[0m\u001b[0mapply_growth_media_gapfilling\u001b[0m\u001b[0;34m(\u001b[0m\u001b[0mmodel\u001b[0m\u001b[0;34m,\u001b[0m\u001b[0mmedia_list\u001b[0m\u001b[0;34m,\u001b[0m\u001b[0mmedia_gapfill_stats\u001b[0m\u001b[0;34m)\u001b[0m\u001b[0;34m\u001b[0m\u001b[0;34m\u001b[0m\u001b[0m\n\u001b[0;32m--> 123\u001b[0;31m         \u001b[0mmodel\u001b[0m \u001b[0;34m=\u001b[0m \u001b[0mself\u001b[0m\u001b[0;34m.\u001b[0m\u001b[0mexpand_model_to_genome_scale\u001b[0m\u001b[0;34m(\u001b[0m\u001b[0mmodel\u001b[0m\u001b[0;34m,\u001b[0m\u001b[0mmedia_list\u001b[0m\u001b[0;34m,\u001b[0m\u001b[0mnoncore_reactions\u001b[0m\u001b[0;34m)\u001b[0m\u001b[0;34m\u001b[0m\u001b[0;34m\u001b[0m\u001b[0m\n\u001b[0m\u001b[1;32m    124\u001b[0m         \u001b[0mmodel\u001b[0m \u001b[0;34m=\u001b[0m \u001b[0mself\u001b[0m\u001b[0;34m.\u001b[0m\u001b[0mrestore_noncore_reactions\u001b[0m\u001b[0;34m(\u001b[0m\u001b[0mmodel\u001b[0m\u001b[0;34m,\u001b[0m\u001b[0mnoncore_reactions\u001b[0m\u001b[0;34m,\u001b[0m\u001b[0moriginal_bounds\u001b[0m\u001b[0;34m)\u001b[0m\u001b[0;34m\u001b[0m\u001b[0;34m\u001b[0m\u001b[0m\n\u001b[1;32m    125\u001b[0m \u001b[0;34m\u001b[0m\u001b[0m\n",
      "\u001b[0;32m/usr/local/lib/python3.8/site-packages/modelseedpy/core/msatpcorrection.py\u001b[0m in \u001b[0;36mexpand_model_to_genome_scale\u001b[0;34m(self, model, media_list, noncore_reactions)\u001b[0m\n\u001b[1;32m     90\u001b[0m             \u001b[0mgapfilling_tests\u001b[0m\u001b[0;34m.\u001b[0m\u001b[0mappend\u001b[0m\u001b[0;34m(\u001b[0m\u001b[0;34m{\u001b[0m\u001b[0;34m\"media\"\u001b[0m\u001b[0;34m:\u001b[0m\u001b[0mmedia\u001b[0m\u001b[0;34m,\u001b[0m\u001b[0;34m\"is_max_threshold\"\u001b[0m\u001b[0;34m:\u001b[0m \u001b[0;32mTrue\u001b[0m\u001b[0;34m,\u001b[0m\u001b[0;34m\"threshold\"\u001b[0m\u001b[0;34m:\u001b[0m\u001b[0;36m1.2\u001b[0m\u001b[0;34m*\u001b[0m\u001b[0msolution\u001b[0m\u001b[0;34m.\u001b[0m\u001b[0mobjective_value\u001b[0m\u001b[0;34m}\u001b[0m\u001b[0;34m)\u001b[0m\u001b[0;34m\u001b[0m\u001b[0;34m\u001b[0m\u001b[0m\n\u001b[1;32m     91\u001b[0m         \u001b[0;31m#Extending model with noncore reactions while retaining ATP accuracy\u001b[0m\u001b[0;34m\u001b[0m\u001b[0;34m\u001b[0m\u001b[0;34m\u001b[0m\u001b[0m\n\u001b[0;32m---> 92\u001b[0;31m         \u001b[0mfiltered\u001b[0m \u001b[0;34m=\u001b[0m \u001b[0mFBAHelper\u001b[0m\u001b[0;34m.\u001b[0m\u001b[0mreaction_expansion_test\u001b[0m\u001b[0;34m(\u001b[0m\u001b[0mmodel\u001b[0m\u001b[0;34m,\u001b[0m\u001b[0mnoncore_reactions\u001b[0m\u001b[0;34m,\u001b[0m\u001b[0mgapfilling_tests\u001b[0m\u001b[0;34m)\u001b[0m\u001b[0;34m\u001b[0m\u001b[0;34m\u001b[0m\u001b[0m\n\u001b[0m\u001b[1;32m     93\u001b[0m         \u001b[0;31m#Removing filtered reactions\u001b[0m\u001b[0;34m\u001b[0m\u001b[0;34m\u001b[0m\u001b[0;34m\u001b[0m\u001b[0m\n\u001b[1;32m     94\u001b[0m         \u001b[0;32mfor\u001b[0m \u001b[0mitem\u001b[0m \u001b[0;32min\u001b[0m \u001b[0mfiltered\u001b[0m\u001b[0;34m:\u001b[0m\u001b[0;34m\u001b[0m\u001b[0;34m\u001b[0m\u001b[0m\n",
      "\u001b[0;32m/usr/local/lib/python3.8/site-packages/modelseedpy/core/fbahelper.py\u001b[0m in \u001b[0;36mreaction_expansion_test\u001b[0;34m(model, reaction_list, condition_list)\u001b[0m\n\u001b[1;32m     86\u001b[0m             \u001b[0;32mif\u001b[0m \u001b[0mitem\u001b[0m\u001b[0;34m[\u001b[0m\u001b[0;36m1\u001b[0m\u001b[0;34m]\u001b[0m \u001b[0;34m==\u001b[0m \u001b[0;34m\">\"\u001b[0m \u001b[0;34m:\u001b[0m\u001b[0;34m\u001b[0m\u001b[0;34m\u001b[0m\u001b[0m\n\u001b[1;32m     87\u001b[0m                 \u001b[0mitem\u001b[0m\u001b[0;34m[\u001b[0m\u001b[0;36m0\u001b[0m\u001b[0;34m]\u001b[0m\u001b[0;34m.\u001b[0m\u001b[0mupper_bound\u001b[0m \u001b[0;34m=\u001b[0m \u001b[0moriginal_bound\u001b[0m\u001b[0;34m[\u001b[0m\u001b[0mcount\u001b[0m\u001b[0;34m]\u001b[0m\u001b[0;34m\u001b[0m\u001b[0;34m\u001b[0m\u001b[0m\n\u001b[0;32m---> 88\u001b[0;31m                 \u001b[0;32mif\u001b[0m \u001b[0;32mnot\u001b[0m \u001b[0mFBAHelper\u001b[0m\u001b[0;34m.\u001b[0m\u001b[0mtest_condition_list\u001b[0m\u001b[0;34m(\u001b[0m\u001b[0mmodel\u001b[0m\u001b[0;34m,\u001b[0m\u001b[0mcondition_list\u001b[0m\u001b[0;34m)\u001b[0m\u001b[0;34m:\u001b[0m\u001b[0;34m\u001b[0m\u001b[0;34m\u001b[0m\u001b[0m\n\u001b[0m\u001b[1;32m     89\u001b[0m                     \u001b[0mitem\u001b[0m\u001b[0;34m[\u001b[0m\u001b[0;36m0\u001b[0m\u001b[0;34m]\u001b[0m\u001b[0;34m.\u001b[0m\u001b[0mupper_bound\u001b[0m \u001b[0;34m=\u001b[0m \u001b[0;36m0\u001b[0m\u001b[0;34m\u001b[0m\u001b[0;34m\u001b[0m\u001b[0m\n\u001b[1;32m     90\u001b[0m                     \u001b[0mfiltered_list\u001b[0m\u001b[0;34m.\u001b[0m\u001b[0mappend\u001b[0m\u001b[0;34m(\u001b[0m\u001b[0mitem\u001b[0m\u001b[0;34m)\u001b[0m\u001b[0;34m\u001b[0m\u001b[0;34m\u001b[0m\u001b[0m\n",
      "\u001b[0;32m/usr/local/lib/python3.8/site-packages/modelseedpy/core/fbahelper.py\u001b[0m in \u001b[0;36mtest_condition_list\u001b[0;34m(model, condition_list)\u001b[0m\n\u001b[1;32m     60\u001b[0m         \u001b[0;32mfor\u001b[0m \u001b[0mcondition\u001b[0m \u001b[0;32min\u001b[0m \u001b[0mcondition_list\u001b[0m\u001b[0;34m:\u001b[0m\u001b[0;34m\u001b[0m\u001b[0;34m\u001b[0m\u001b[0m\n\u001b[1;32m     61\u001b[0m             \u001b[0mpkgmgr\u001b[0m\u001b[0;34m.\u001b[0m\u001b[0mgetpkg\u001b[0m\u001b[0;34m(\u001b[0m\u001b[0;34m\"KBaseMediaPkg\"\u001b[0m\u001b[0;34m)\u001b[0m\u001b[0;34m.\u001b[0m\u001b[0mbuild_package\u001b[0m\u001b[0;34m(\u001b[0m\u001b[0mcondition\u001b[0m\u001b[0;34m[\u001b[0m\u001b[0;34m\"media\"\u001b[0m\u001b[0;34m]\u001b[0m\u001b[0;34m)\u001b[0m\u001b[0;34m\u001b[0m\u001b[0;34m\u001b[0m\u001b[0m\n\u001b[0;32m---> 62\u001b[0;31m             \u001b[0mmodel\u001b[0m\u001b[0;34m.\u001b[0m\u001b[0mobjective\u001b[0m \u001b[0;34m=\u001b[0m \u001b[0mcondition\u001b[0m\u001b[0;34m[\u001b[0m\u001b[0;34m\"objective\"\u001b[0m\u001b[0;34m]\u001b[0m\u001b[0;34m\u001b[0m\u001b[0;34m\u001b[0m\u001b[0m\n\u001b[0m\u001b[1;32m     63\u001b[0m             \u001b[0msol\u001b[0m \u001b[0;34m=\u001b[0m \u001b[0mmodel\u001b[0m\u001b[0;34m.\u001b[0m\u001b[0moptimize\u001b[0m\u001b[0;34m(\u001b[0m\u001b[0;34m)\u001b[0m\u001b[0;34m\u001b[0m\u001b[0;34m\u001b[0m\u001b[0m\n\u001b[1;32m     64\u001b[0m             \u001b[0mprint\u001b[0m\u001b[0;34m(\u001b[0m\u001b[0;34m\"Testing \"\u001b[0m\u001b[0;34m+\u001b[0m\u001b[0mcondition\u001b[0m\u001b[0;34m[\u001b[0m\u001b[0;34m\"media\"\u001b[0m\u001b[0;34m]\u001b[0m\u001b[0;34m.\u001b[0m\u001b[0mname\u001b[0m\u001b[0;34m(\u001b[0m\u001b[0;34m)\u001b[0m\u001b[0;34m+\u001b[0m\u001b[0;34m\":\"\u001b[0m\u001b[0;34m+\u001b[0m\u001b[0mstr\u001b[0m\u001b[0;34m(\u001b[0m\u001b[0msol\u001b[0m\u001b[0;34m.\u001b[0m\u001b[0mobjective_value\u001b[0m\u001b[0;34m)\u001b[0m\u001b[0;34m+\u001b[0m\u001b[0;34m\":\"\u001b[0m\u001b[0;34m+\u001b[0m\u001b[0mstr\u001b[0m\u001b[0;34m(\u001b[0m\u001b[0mcondition\u001b[0m\u001b[0;34m[\u001b[0m\u001b[0;34m\"threshold\"\u001b[0m\u001b[0;34m]\u001b[0m\u001b[0;34m)\u001b[0m\u001b[0;34m)\u001b[0m\u001b[0;34m\u001b[0m\u001b[0;34m\u001b[0m\u001b[0m\n",
      "\u001b[0;31mKeyError\u001b[0m: 'objective'"
     ]
    }
   ],
   "source": [
    "ms_atp.run_atp_correction(base_model, [media1, media2])"
   ]
  },
  {
   "cell_type": "code",
   "execution_count": null,
   "metadata": {},
   "outputs": [],
   "source": []
  },
  {
   "cell_type": "code",
   "execution_count": null,
   "metadata": {},
   "outputs": [],
   "source": []
  },
  {
   "cell_type": "code",
   "execution_count": null,
   "metadata": {},
   "outputs": [],
   "source": []
  },
  {
   "cell_type": "code",
   "execution_count": 18,
   "metadata": {},
   "outputs": [],
   "source": [
    "atp_medias = []"
   ]
  },
  {
   "cell_type": "code",
   "execution_count": null,
   "metadata": {},
   "outputs": [],
   "source": [
    "ms_atp.atp_correction(base_model, template_core, atp_medias, 'bio2', genome_class)"
   ]
  },
  {
   "cell_type": "code",
   "execution_count": null,
   "metadata": {},
   "outputs": [],
   "source": []
  },
  {
   "cell_type": "code",
   "execution_count": null,
   "metadata": {},
   "outputs": [],
   "source": [
    "ms_atp.atp_correction(base_model, template_core, atp_medias, 'bio2', genome_class)"
   ]
  },
  {
   "cell_type": "code",
   "execution_count": 2,
   "metadata": {},
   "outputs": [
    {
     "name": "stdout",
     "output_type": "stream",
     "text": [
      "Number of features: 4285\n"
     ]
    },
    {
     "data": {
      "text/html": [
       "<h3>Objective</h3><p>1.0 bio1 = 0.7615585525393083</p><h4>Uptake</h4><table border=\"1\" class=\"dataframe\">\n",
       "  <thead>\n",
       "    <tr style=\"text-align: right;\">\n",
       "      <th>Metabolite</th>\n",
       "      <th>Reaction</th>\n",
       "      <th>Flux</th>\n",
       "      <th>C-Number</th>\n",
       "      <th>C-Flux</th>\n",
       "    </tr>\n",
       "  </thead>\n",
       "  <tbody>\n",
       "    <tr>\n",
       "      <td>cpd00009_e0</td>\n",
       "      <td>EX_cpd00009_e0</td>\n",
       "      <td>0.6188</td>\n",
       "      <td>0</td>\n",
       "      <td>0.00%</td>\n",
       "    </tr>\n",
       "    <tr>\n",
       "      <td>cpd00013_e0</td>\n",
       "      <td>EX_cpd00013_e0</td>\n",
       "      <td>6.537</td>\n",
       "      <td>0</td>\n",
       "      <td>0.00%</td>\n",
       "    </tr>\n",
       "    <tr>\n",
       "      <td>cpd00027_e0</td>\n",
       "      <td>EX_cpd00027_e0</td>\n",
       "      <td>5</td>\n",
       "      <td>6</td>\n",
       "      <td>100.00%</td>\n",
       "    </tr>\n",
       "    <tr>\n",
       "      <td>cpd00030_e0</td>\n",
       "      <td>EX_cpd00030_e0</td>\n",
       "      <td>0.002137</td>\n",
       "      <td>0</td>\n",
       "      <td>0.00%</td>\n",
       "    </tr>\n",
       "    <tr>\n",
       "      <td>cpd00034_e0</td>\n",
       "      <td>EX_cpd00034_e0</td>\n",
       "      <td>0.002137</td>\n",
       "      <td>0</td>\n",
       "      <td>0.00%</td>\n",
       "    </tr>\n",
       "    <tr>\n",
       "      <td>cpd00048_e0</td>\n",
       "      <td>EX_cpd00048_e0</td>\n",
       "      <td>0.1724</td>\n",
       "      <td>0</td>\n",
       "      <td>0.00%</td>\n",
       "    </tr>\n",
       "    <tr>\n",
       "      <td>cpd00058_e0</td>\n",
       "      <td>EX_cpd00058_e0</td>\n",
       "      <td>0.002137</td>\n",
       "      <td>0</td>\n",
       "      <td>0.00%</td>\n",
       "    </tr>\n",
       "    <tr>\n",
       "      <td>cpd00063_e0</td>\n",
       "      <td>EX_cpd00063_e0</td>\n",
       "      <td>0.002137</td>\n",
       "      <td>0</td>\n",
       "      <td>0.00%</td>\n",
       "    </tr>\n",
       "    <tr>\n",
       "      <td>cpd00067_e0</td>\n",
       "      <td>EX_cpd00067_e0</td>\n",
       "      <td>6.213</td>\n",
       "      <td>0</td>\n",
       "      <td>0.00%</td>\n",
       "    </tr>\n",
       "    <tr>\n",
       "      <td>cpd00099_e0</td>\n",
       "      <td>EX_cpd00099_e0</td>\n",
       "      <td>0.002137</td>\n",
       "      <td>0</td>\n",
       "      <td>0.00%</td>\n",
       "    </tr>\n",
       "    <tr>\n",
       "      <td>cpd00149_e0</td>\n",
       "      <td>EX_cpd00149_e0</td>\n",
       "      <td>0.002137</td>\n",
       "      <td>0</td>\n",
       "      <td>0.00%</td>\n",
       "    </tr>\n",
       "    <tr>\n",
       "      <td>cpd00205_e0</td>\n",
       "      <td>EX_cpd00205_e0</td>\n",
       "      <td>0.002137</td>\n",
       "      <td>0</td>\n",
       "      <td>0.00%</td>\n",
       "    </tr>\n",
       "    <tr>\n",
       "      <td>cpd00254_e0</td>\n",
       "      <td>EX_cpd00254_e0</td>\n",
       "      <td>0.002137</td>\n",
       "      <td>0</td>\n",
       "      <td>0.00%</td>\n",
       "    </tr>\n",
       "    <tr>\n",
       "      <td>cpd10515_e0</td>\n",
       "      <td>EX_cpd10515_e0</td>\n",
       "      <td>0.006411</td>\n",
       "      <td>0</td>\n",
       "      <td>0.00%</td>\n",
       "    </tr>\n",
       "    <tr>\n",
       "      <td>cpd10516_e0</td>\n",
       "      <td>EX_cpd10516_e0</td>\n",
       "      <td>0.002137</td>\n",
       "      <td>0</td>\n",
       "      <td>0.00%</td>\n",
       "    </tr>\n",
       "    <tr>\n",
       "      <td>cpd17041_c0</td>\n",
       "      <td>rxn13782_c0</td>\n",
       "      <td>0.7616</td>\n",
       "      <td>0</td>\n",
       "      <td>0.00%</td>\n",
       "    </tr>\n",
       "    <tr>\n",
       "      <td>cpd17042_c0</td>\n",
       "      <td>rxn13783_c0</td>\n",
       "      <td>0.7616</td>\n",
       "      <td>0</td>\n",
       "      <td>0.00%</td>\n",
       "    </tr>\n",
       "    <tr>\n",
       "      <td>cpd17043_c0</td>\n",
       "      <td>rxn13784_c0</td>\n",
       "      <td>0.7616</td>\n",
       "      <td>0</td>\n",
       "      <td>0.00%</td>\n",
       "    </tr>\n",
       "  </tbody>\n",
       "</table><h4>Secretion</h4><table border=\"1\" class=\"dataframe\">\n",
       "  <thead>\n",
       "    <tr style=\"text-align: right;\">\n",
       "      <th>Metabolite</th>\n",
       "      <th>Reaction</th>\n",
       "      <th>Flux</th>\n",
       "      <th>C-Number</th>\n",
       "      <th>C-Flux</th>\n",
       "    </tr>\n",
       "  </thead>\n",
       "  <tbody>\n",
       "    <tr>\n",
       "      <td>cpd00001_e0</td>\n",
       "      <td>EX_cpd00001_e0</td>\n",
       "      <td>-41.65</td>\n",
       "      <td>0</td>\n",
       "      <td>0.00%</td>\n",
       "    </tr>\n",
       "    <tr>\n",
       "      <td>cpd00007_e0</td>\n",
       "      <td>EX_cpd00007_e0</td>\n",
       "      <td>-3.017</td>\n",
       "      <td>0</td>\n",
       "      <td>0.00%</td>\n",
       "    </tr>\n",
       "    <tr>\n",
       "      <td>cpd00116_e0</td>\n",
       "      <td>EX_cpd00116_e0</td>\n",
       "      <td>-0.002137</td>\n",
       "      <td>1</td>\n",
       "      <td>4.35%</td>\n",
       "    </tr>\n",
       "    <tr>\n",
       "      <td>cpd15378_e0</td>\n",
       "      <td>EX_cpd15378_e0</td>\n",
       "      <td>-0.002137</td>\n",
       "      <td>7</td>\n",
       "      <td>30.43%</td>\n",
       "    </tr>\n",
       "    <tr>\n",
       "      <td>cpd02701_c0</td>\n",
       "      <td>SK_cpd02701_c0</td>\n",
       "      <td>-0.002137</td>\n",
       "      <td>15</td>\n",
       "      <td>65.22%</td>\n",
       "    </tr>\n",
       "    <tr>\n",
       "      <td>cpd11416_c0</td>\n",
       "      <td>SK_cpd11416_c0</td>\n",
       "      <td>-0.7616</td>\n",
       "      <td>0</td>\n",
       "      <td>0.00%</td>\n",
       "    </tr>\n",
       "  </tbody>\n",
       "</table>"
      ],
      "text/plain": [
       "<cobra.summary.model_summary.ModelSummary at 0x7fcf79edb040>"
      ]
     },
     "execution_count": 2,
     "metadata": {},
     "output_type": "execute_result"
    }
   ],
   "source": [
    "#You need a KBase token to use KBase API\n",
    "#You can get this by running the following code in a code cell in a KBase narrative:\n",
    "\n",
    "#    import os\n",
    "#    print \"token:\"+os.environ['KB_AUTH_TOKEN']\n",
    "\n",
    "#You can create the API object directly with this token: kbase_api = cobrakbase.KBaseAPI(token)\n",
    "#Or you can stash the token in the file ~/.kbase/token to avoid putting it in a notebook and use the code below:\n",
    "\n",
    "kbase_api = cobrakbase.KBaseAPI()\n",
    "genome = MSGenome.from_fasta('GCF_000005845.2_ASM584v2_protein.faa', split=' ')\n",
    "print('Number of features:', len(genome.features))\n",
    "template = kbase_api.get_from_ws(\"GramNegModelTemplateV3\",\"NewKBaseModelTemplates\")\n",
    "#template = kbase_api.get_from_ws(\"GramPosModelTemplateV3\",\"NewKBaseModelTemplates\")\n",
    "\n",
    "#The first argument is the model ID and can be anything you want\n",
    "model = MSBuilder.build_metabolic_model('ecoli', genome, template, allow_all_non_grp_reactions=True)\n",
    "\n",
    "#Pulling a KBase media to specify an environment for gapfilling\n",
    "media = kbase_api.get_from_ws(\"Carbon-D-Glucose\",\"KBaseMedia\")\n",
    "\n",
    "#Gapfilling the model in the specified media\n",
    "model = MSBuilder.gapfill_model(model,\"bio1\",template,media)\n",
    "\n",
    "#Applying the same media to the resulting model\n",
    "kmp = KBaseMediaPkg(model)\n",
    "kmp.build_package(media)\n",
    "\n",
    "#Running FBA to demonstrate growth\n",
    "sol=model.optimize()\n",
    "model.summary()"
   ]
  },
  {
   "cell_type": "code",
   "execution_count": null,
   "metadata": {},
   "outputs": [],
   "source": []
  }
 ],
 "metadata": {
  "kernelspec": {
   "display_name": "Python 3",
   "language": "python",
   "name": "python3"
  },
  "language_info": {
   "codemirror_mode": {
    "name": "ipython",
    "version": 3
   },
   "file_extension": ".py",
   "mimetype": "text/x-python",
   "name": "python",
   "nbconvert_exporter": "python",
   "pygments_lexer": "ipython3",
   "version": "3.8.10"
  }
 },
 "nbformat": 4,
 "nbformat_minor": 4
}
