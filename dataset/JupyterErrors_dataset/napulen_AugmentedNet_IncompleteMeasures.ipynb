{
 "cells": [
  {
   "cell_type": "code",
   "execution_count": 1,
   "id": "close-czech",
   "metadata": {},
   "outputs": [
    {
     "ename": "ImportError",
     "evalue": "cannot import name 'ANNOTATIONSCOREMAP' from 'AugmentedNet.common' (/home/napulen/dev/AugmentedNet/notebooks/../AugmentedNet/common.py)",
     "output_type": "error",
     "traceback": [
      "\u001b[0;31m---------------------------------------------------------------------------\u001b[0m",
      "\u001b[0;31mImportError\u001b[0m                               Traceback (most recent call last)",
      "\u001b[0;32m<ipython-input-1-4f49a80c0f28>\u001b[0m in \u001b[0;36m<module>\u001b[0;34m\u001b[0m\n\u001b[1;32m      1\u001b[0m \u001b[0;32mimport\u001b[0m \u001b[0msys\u001b[0m\u001b[0;34m;\u001b[0m \u001b[0msys\u001b[0m\u001b[0;34m.\u001b[0m\u001b[0mpath\u001b[0m\u001b[0;34m.\u001b[0m\u001b[0minsert\u001b[0m\u001b[0;34m(\u001b[0m\u001b[0;36m0\u001b[0m\u001b[0;34m,\u001b[0m \u001b[0;34m\"..\"\u001b[0m\u001b[0;34m)\u001b[0m\u001b[0;34m\u001b[0m\u001b[0;34m\u001b[0m\u001b[0m\n\u001b[0;32m----> 2\u001b[0;31m \u001b[0;32mfrom\u001b[0m \u001b[0mAugmentedNet\u001b[0m\u001b[0;34m.\u001b[0m\u001b[0mcommon\u001b[0m \u001b[0;32mimport\u001b[0m \u001b[0mANNOTATIONSCOREMAP\u001b[0m\u001b[0;34m\u001b[0m\u001b[0;34m\u001b[0m\u001b[0m\n\u001b[0m\u001b[1;32m      3\u001b[0m \u001b[0;32mimport\u001b[0m \u001b[0mmusic21\u001b[0m\u001b[0;34m\u001b[0m\u001b[0;34m\u001b[0m\u001b[0m\n",
      "\u001b[0;31mImportError\u001b[0m: cannot import name 'ANNOTATIONSCOREMAP' from 'AugmentedNet.common' (/home/napulen/dev/AugmentedNet/notebooks/../AugmentedNet/common.py)"
     ]
    }
   ],
   "source": [
    "import sys; sys.path.insert(0, \"..\")\n",
    "from AugmentedNet.common import ANNOTATIONSCOREMAP\n",
    "import music21"
   ]
  },
  {
   "cell_type": "code",
   "execution_count": null,
   "id": "acoustic-validity",
   "metadata": {},
   "outputs": [],
   "source": [
    "for annotation, score in ANNOTATIONSCOREMAP.items():\n",
    "    s = music21.converter.parse(score)\n",
    "    incompleteMeasures = []\n",
    "    for offset, measures in s.measureOffsetMap().items():\n",
    "        m = measures[0]\n",
    "        barDurationProportion = m.barDurationProportion()\n",
    "        if barDurationProportion != 1.0:\n",
    "            incompleteMeasures.append(m.number)\n",
    "#             print(offset, m, barDurationProportion)\n",
    "    if incompleteMeasures:\n",
    "        print(score, incompleteMeasures)"
   ]
  },
  {
   "cell_type": "code",
   "execution_count": null,
   "id": "visible-techno",
   "metadata": {},
   "outputs": [],
   "source": []
  }
 ],
 "metadata": {
  "kernelspec": {
   "display_name": "Python 3",
   "language": "python",
   "name": "python3"
  },
  "language_info": {
   "codemirror_mode": {
    "name": "ipython",
    "version": 3
   },
   "file_extension": ".py",
   "mimetype": "text/x-python",
   "name": "python",
   "nbconvert_exporter": "python",
   "pygments_lexer": "ipython3",
   "version": "3.8.10"
  }
 },
 "nbformat": 4,
 "nbformat_minor": 5
}
