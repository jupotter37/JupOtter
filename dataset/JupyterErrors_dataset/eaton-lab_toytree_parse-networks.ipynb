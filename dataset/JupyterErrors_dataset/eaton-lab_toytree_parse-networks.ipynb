{
 "cells": [
  {
   "cell_type": "code",
   "execution_count": 6,
   "metadata": {},
   "outputs": [],
   "source": [
    "import toytree\n",
    "import re"
   ]
  },
  {
   "cell_type": "code",
   "execution_count": 7,
   "metadata": {},
   "outputs": [],
   "source": [
    "BADDD = \"\"\"\n",
    "((((r0,r1):9.999999980300025,(r2)#H13:::0.9600139230155342):10.0,\n",
    "(r4,((r6,r7):10.0,r5):10.0):10.0):10.0,r3,#H13:::0.03998607698446579);\n",
    "\"\"\".replace(\"\\n\", \"\")"
   ]
  },
  {
   "cell_type": "code",
   "execution_count": 8,
   "metadata": {},
   "outputs": [
    {
     "name": "stdout",
     "output_type": "stream",
     "text": [
      "['r7' 'r6' 'r5' 'r4' 'r1' 'r0' 'r2' 'r3' '8' '9' '10' '12' '13' '14'\n",
      " 'root']\n",
      "{'H13': (['r2'], ['r3'], 0.5, {}, '0.04')}\n"
     ]
    },
    {
     "data": {
      "text/html": [
       "<div class=\"toyplot\" id=\"td62f5bd1e6754ca4842762b8c4e2fde8\" style=\"text-align:center\"><svg class=\"toyplot-canvas-Canvas\" height=\"275.0px\" id=\"t122a2f34ee5a41d49aa92911b610741f\" preserveAspectRatio=\"xMidYMid meet\" style=\"background-color:transparent;border-color:#292724;border-style:none;border-width:1.0;fill:rgb(16.1%,15.3%,14.1%);fill-opacity:1.0;font-family:Helvetica;font-size:12px;opacity:1.0;stroke:rgb(16.1%,15.3%,14.1%);stroke-opacity:1.0;stroke-width:1.0\" viewBox=\"0 0 260.0 275.0\" width=\"260.0px\" xmlns=\"http://www.w3.org/2000/svg\" xmlns:toyplot=\"http://www.sandia.gov/toyplot\" xmlns:xlink=\"http://www.w3.org/1999/xlink\"><g class=\"toyplot-coordinates-Cartesian\" id=\"taa60943e845f464089b17f01381b4a33\"><clipPath id=\"tacd78118d21d4b88b6ae519d2f77bc77\"><rect height=\"215.0\" width=\"200.0\" x=\"30.0\" y=\"30.0\"></rect></clipPath><g clip-path=\"url(#tacd78118d21d4b88b6ae519d2f77bc77)\"><g class=\"toytree-mark-Toytree\" id=\"t593f5d69789f4fc9acca5c41bc239b18\"><g class=\"toytree-Edges\" style=\"fill:none;stroke:rgb(14.9%,14.9%,14.9%);stroke-linecap:round;stroke-opacity:1;stroke-width:2\"><path d=\"M 62.4 98.2 L 62.4 133.5 L 88.8 133.5\" id=\"14,13\"></path><path d=\"M 88.8 133.5 L 88.8 100.2 L 141.7 100.2\" id=\"13,12\"></path><path d=\"M 88.8 133.5 L 88.8 166.8 L 115.3 166.8\" id=\"13,11\"></path><path d=\"M 141.7 100.2 L 141.7 116.2 L 168.1 116.2\" id=\"12,10\"></path><path d=\"M 115.3 166.8 L 115.3 185.5 L 141.7 185.5\" id=\"11,9\"></path><path d=\"M 141.7 185.5 L 141.7 201.5 L 168.1 201.5\" id=\"9,8\"></path><path d=\"M 62.4 98.2 L 62.4 62.8 L 194.6 62.8\" id=\"14,7\"></path><path d=\"M 141.7 100.2 L 141.7 84.1 L 194.6 84.1\" id=\"12,6\"></path><path d=\"M 168.1 116.2 L 168.1 105.5 L 194.6 105.5\" id=\"10,5\"></path><path d=\"M 168.1 116.2 L 168.1 126.8 L 194.6 126.8\" id=\"10,4\"></path><path d=\"M 115.3 166.8 L 115.3 148.2 L 194.6 148.2\" id=\"11,3\"></path><path d=\"M 141.7 185.5 L 141.7 169.5 L 194.6 169.5\" id=\"9,2\"></path><path d=\"M 168.1 201.5 L 168.1 190.9 L 194.6 190.9\" id=\"8,1\"></path><path d=\"M 168.1 201.5 L 168.1 212.2 L 194.6 212.2\" id=\"8,0\"></path></g><g class=\"toytree-Nodes\" style=\"fill:rgb(82.7%,82.7%,82.7%);fill-opacity:1.0;stroke:rgb(14.9%,14.9%,14.9%);stroke-opacity:1.0;stroke-width:1.5\"><g id=\"node-0\" transform=\"translate(194.577,212.195)\"><circle r=\"7.5\"></circle></g><g id=\"node-1\" transform=\"translate(194.577,190.854)\"><circle r=\"7.5\"></circle></g><g id=\"node-2\" transform=\"translate(194.577,169.512)\"><circle r=\"7.5\"></circle></g><g id=\"node-3\" transform=\"translate(194.577,148.171)\"><circle r=\"7.5\"></circle></g><g id=\"node-4\" transform=\"translate(194.577,126.829)\"><circle r=\"7.5\"></circle></g><g id=\"node-5\" transform=\"translate(194.577,105.488)\"><circle r=\"7.5\"></circle></g><g id=\"node-6\" transform=\"translate(194.577,84.146)\"><circle r=\"7.5\"></circle></g><g id=\"node-7\" transform=\"translate(194.577,62.805)\"><circle r=\"7.5\"></circle></g><g id=\"node-8\" transform=\"translate(168.140,201.524)\"><circle r=\"7.5\"></circle></g><g id=\"node-9\" transform=\"translate(141.703,185.518)\"><circle r=\"7.5\"></circle></g><g id=\"node-10\" transform=\"translate(168.140,116.159)\"><circle r=\"7.5\"></circle></g><g id=\"node-11\" transform=\"translate(115.266,166.845)\"><circle r=\"7.5\"></circle></g><g id=\"node-12\" transform=\"translate(141.703,100.152)\"><circle r=\"7.5\"></circle></g><g id=\"node-13\" transform=\"translate(88.829,133.498)\"><circle r=\"7.5\"></circle></g><g id=\"node-14\" transform=\"translate(62.392,98.152)\"><circle r=\"7.5\"></circle></g></g><g class=\"toytree-NodeLabels\" style=\"fill:rgb(14.9%,14.9%,14.9%);fill-opacity:1.0;font-size:9px;stroke:none\"><g transform=\"translate(190.58,214.49)\"><text>r7</text></g><g transform=\"translate(190.58,193.15)\"><text>r6</text></g><g transform=\"translate(190.58,171.81)\"><text>r5</text></g><g transform=\"translate(190.58,150.47)\"><text>r4</text></g><g transform=\"translate(190.58,129.13)\"><text>r1</text></g><g transform=\"translate(190.58,107.79)\"><text>r0</text></g><g transform=\"translate(190.58,86.45)\"><text>r2</text></g><g transform=\"translate(190.58,65.10)\"><text>r3</text></g><g transform=\"translate(165.64,203.82)\"><text>8</text></g><g transform=\"translate(139.20,187.82)\"><text>9</text></g><g transform=\"translate(163.14,118.46)\"><text>10</text></g><g transform=\"translate(110.26,169.14)\"><text>12</text></g><g transform=\"translate(136.70,102.45)\"><text>13</text></g><g transform=\"translate(83.83,135.80)\"><text>14</text></g><g transform=\"translate(54.64,100.45)\"><text>root</text></g></g><g class=\"toytree-TipLabels\" style=\"fill:rgb(14.9%,14.9%,14.9%);fill-opacity:1.0;font-family:helvetica;font-size:11px;font-weight:normal;stroke:none;white-space:pre\"><g transform=\"translate(194.58,212.20)rotate(0)\"><text style=\"\" x=\"15.00\" y=\"2.81\">r7</text></g><g transform=\"translate(194.58,190.85)rotate(0)\"><text style=\"\" x=\"15.00\" y=\"2.81\">r6</text></g><g transform=\"translate(194.58,169.51)rotate(0)\"><text style=\"\" x=\"15.00\" y=\"2.81\">r5</text></g><g transform=\"translate(194.58,148.17)rotate(0)\"><text style=\"\" x=\"15.00\" y=\"2.81\">r4</text></g><g transform=\"translate(194.58,126.83)rotate(0)\"><text style=\"\" x=\"15.00\" y=\"2.81\">r1</text></g><g transform=\"translate(194.58,105.49)rotate(0)\"><text style=\"\" x=\"15.00\" y=\"2.81\">r0</text></g><g transform=\"translate(194.58,84.15)rotate(0)\"><text style=\"\" x=\"15.00\" y=\"2.81\">r2</text></g><g transform=\"translate(194.58,62.80)rotate(0)\"><text style=\"\" x=\"15.00\" y=\"2.81\">r3</text></g></g></g></g></g></svg><div class=\"toyplot-behavior\"><script>(function()\n",
       "{\n",
       "var modules={};\n",
       "})();</script></div></div>"
      ]
     },
     "metadata": {},
     "output_type": "display_data"
    }
   ],
   "source": [
    "t, a = toytree.utils.parse_network(BADDD, 1)\n",
    "t.draw(ts='s', node_labels=(\"name\", 0, 0));\n",
    "print(a)"
   ]
  },
  {
   "cell_type": "code",
   "execution_count": null,
   "metadata": {},
   "outputs": [],
   "source": []
  },
  {
   "cell_type": "code",
   "execution_count": 2,
   "metadata": {},
   "outputs": [
    {
     "name": "stdout",
     "output_type": "stream",
     "text": [
      "['r1' 'r0' 'r2' 'r3' 'r4' 'r5' 'r6' 'r7' '10' 'H13' '13' 'H13' '14' '12'\n",
      " '9' '8' 'root']\n",
      "{'H13': (['r2'], ['r3'], 0.5, {}, '0.04')}\n"
     ]
    },
    {
     "data": {
      "text/html": [
       "<div class=\"toyplot\" id=\"t5f9b01144bf74985bec8ba548e19a8ad\" style=\"text-align:center\"><svg class=\"toyplot-canvas-Canvas\" height=\"275.0px\" id=\"t89ef1ee44190424a88cfc15a80cf6c8a\" preserveAspectRatio=\"xMidYMid meet\" style=\"background-color:transparent;border-color:#292724;border-style:none;border-width:1.0;fill:rgb(16.1%,15.3%,14.1%);fill-opacity:1.0;font-family:Helvetica;font-size:12px;opacity:1.0;stroke:rgb(16.1%,15.3%,14.1%);stroke-opacity:1.0;stroke-width:1.0\" viewBox=\"0 0 260.0 275.0\" width=\"260.0px\" xmlns=\"http://www.w3.org/2000/svg\" xmlns:toyplot=\"http://www.sandia.gov/toyplot\" xmlns:xlink=\"http://www.w3.org/1999/xlink\"><g class=\"toyplot-coordinates-Cartesian\" id=\"t6f6a8cd6c7cc4eb1a1ef53afb06660c8\"><clipPath id=\"t57b28c1a41204241be16dd60e6bd2da8\"><rect height=\"215.0\" width=\"200.0\" x=\"30.0\" y=\"30.0\"></rect></clipPath><g clip-path=\"url(#t57b28c1a41204241be16dd60e6bd2da8)\"><g class=\"toytree-mark-Toytree\" id=\"t36e08bb88fd24b50af6c8e349dd92966\"><g class=\"toytree-Edges\" style=\"fill:none;stroke:rgb(14.9%,14.9%,14.9%);stroke-linecap:round;stroke-opacity:1;stroke-width:2\"><path d=\"M 62.4 84.0 L 62.4 105.2 L 81.3 105.2\" id=\"16,15\"></path><path d=\"M 81.3 105.2 L 81.3 126.2 L 100.2 126.2\" id=\"15,14\"></path><path d=\"M 100.2 126.2 L 100.2 146.8 L 119.0 146.8\" id=\"14,13\"></path><path d=\"M 119.0 146.8 L 119.0 166.8 L 137.9 166.8\" id=\"13,12\"></path><path d=\"M 137.9 166.8 L 137.9 148.2 L 175.7 148.2\" id=\"12,11\"></path><path d=\"M 137.9 166.8 L 137.9 185.5 L 156.8 185.5\" id=\"12,10\"></path><path d=\"M 156.8 185.5 L 156.8 169.5 L 175.7 169.5\" id=\"10,9\"></path><path d=\"M 156.8 185.5 L 156.8 201.5 L 175.7 201.5\" id=\"10,8\"></path><path d=\"M 62.4 84.0 L 62.4 62.8 L 194.6 62.8\" id=\"16,7\"></path><path d=\"M 81.3 105.2 L 81.3 84.1 L 194.6 84.1\" id=\"15,6\"></path><path d=\"M 100.2 126.2 L 100.2 105.5 L 194.6 105.5\" id=\"14,5\"></path><path d=\"M 119.0 146.8 L 119.0 126.8 L 194.6 126.8\" id=\"13,4\"></path><path d=\"M 175.7 148.2 L 175.7 148.2 L 194.6 148.2\" id=\"11,3\"></path><path d=\"M 175.7 169.5 L 175.7 169.5 L 194.6 169.5\" id=\"9,2\"></path><path d=\"M 175.7 201.5 L 175.7 190.9 L 194.6 190.9\" id=\"8,1\"></path><path d=\"M 175.7 201.5 L 175.7 212.2 L 194.6 212.2\" id=\"8,0\"></path></g><g class=\"toytree-Nodes\" style=\"fill:rgb(82.7%,82.7%,82.7%);fill-opacity:1.0;stroke:rgb(14.9%,14.9%,14.9%);stroke-opacity:1.0;stroke-width:1.5\"><g id=\"node-0\" transform=\"translate(194.577,212.195)\"><circle r=\"7.5\"></circle></g><g id=\"node-1\" transform=\"translate(194.577,190.854)\"><circle r=\"7.5\"></circle></g><g id=\"node-2\" transform=\"translate(194.577,169.512)\"><circle r=\"7.5\"></circle></g><g id=\"node-3\" transform=\"translate(194.577,148.171)\"><circle r=\"7.5\"></circle></g><g id=\"node-4\" transform=\"translate(194.577,126.829)\"><circle r=\"7.5\"></circle></g><g id=\"node-5\" transform=\"translate(194.577,105.488)\"><circle r=\"7.5\"></circle></g><g id=\"node-6\" transform=\"translate(194.577,84.146)\"><circle r=\"7.5\"></circle></g><g id=\"node-7\" transform=\"translate(194.577,62.805)\"><circle r=\"7.5\"></circle></g><g id=\"node-8\" transform=\"translate(175.693,201.524)\"><circle r=\"7.5\"></circle></g><g id=\"node-9\" transform=\"translate(175.693,169.512)\"><circle r=\"7.5\"></circle></g><g id=\"node-10\" transform=\"translate(156.810,185.518)\"><circle r=\"7.5\"></circle></g><g id=\"node-11\" transform=\"translate(175.693,148.171)\"><circle r=\"7.5\"></circle></g><g id=\"node-12\" transform=\"translate(137.926,166.845)\"><circle r=\"7.5\"></circle></g><g id=\"node-13\" transform=\"translate(119.043,146.837)\"><circle r=\"7.5\"></circle></g><g id=\"node-14\" transform=\"translate(100.159,126.162)\"><circle r=\"7.5\"></circle></g><g id=\"node-15\" transform=\"translate(81.276,105.154)\"><circle r=\"7.5\"></circle></g><g id=\"node-16\" transform=\"translate(62.392,83.980)\"><circle r=\"7.5\"></circle></g></g><g class=\"toytree-NodeLabels\" style=\"fill:rgb(14.9%,14.9%,14.9%);fill-opacity:1.0;font-size:9px;stroke:none\"><g transform=\"translate(190.58,214.49)\"><text>r1</text></g><g transform=\"translate(190.58,193.15)\"><text>r0</text></g><g transform=\"translate(190.58,171.81)\"><text>r2</text></g><g transform=\"translate(190.58,150.47)\"><text>r3</text></g><g transform=\"translate(190.58,129.13)\"><text>r4</text></g><g transform=\"translate(190.58,107.79)\"><text>r5</text></g><g transform=\"translate(190.58,86.45)\"><text>r6</text></g><g transform=\"translate(190.58,65.10)\"><text>r7</text></g><g transform=\"translate(170.69,203.82)\"><text>10</text></g><g transform=\"translate(167.44,171.81)\"><text>H13</text></g><g transform=\"translate(151.81,187.82)\"><text>13</text></g><g transform=\"translate(167.44,150.47)\"><text>H13</text></g><g transform=\"translate(132.92,169.14)\"><text>14</text></g><g transform=\"translate(114.04,149.14)\"><text>12</text></g><g transform=\"translate(97.66,128.46)\"><text>9</text></g><g transform=\"translate(78.77,107.45)\"><text>8</text></g><g transform=\"translate(54.64,86.28)\"><text>root</text></g></g><g class=\"toytree-TipLabels\" style=\"fill:rgb(14.9%,14.9%,14.9%);fill-opacity:1.0;font-family:helvetica;font-size:11px;font-weight:normal;stroke:none;white-space:pre\"><g transform=\"translate(194.58,212.20)rotate(0)\"><text style=\"\" x=\"15.00\" y=\"2.81\">r1</text></g><g transform=\"translate(194.58,190.85)rotate(0)\"><text style=\"\" x=\"15.00\" y=\"2.81\">r0</text></g><g transform=\"translate(194.58,169.51)rotate(0)\"><text style=\"\" x=\"15.00\" y=\"2.81\">r2</text></g><g transform=\"translate(194.58,148.17)rotate(0)\"><text style=\"\" x=\"15.00\" y=\"2.81\">r3</text></g><g transform=\"translate(194.58,126.83)rotate(0)\"><text style=\"\" x=\"15.00\" y=\"2.81\">r4</text></g><g transform=\"translate(194.58,105.49)rotate(0)\"><text style=\"\" x=\"15.00\" y=\"2.81\">r5</text></g><g transform=\"translate(194.58,84.15)rotate(0)\"><text style=\"\" x=\"15.00\" y=\"2.81\">r6</text></g><g transform=\"translate(194.58,62.80)rotate(0)\"><text style=\"\" x=\"15.00\" y=\"2.81\">r7</text></g></g></g></g></g></svg><div class=\"toyplot-behavior\"><script>(function()\n",
       "{\n",
       "var modules={};\n",
       "})();</script></div></div>"
      ]
     },
     "metadata": {},
     "output_type": "display_data"
    }
   ],
   "source": [
    "BADD = \"\"\"\n",
    "((((r0,r1):9.999999980300025,(r2)#H13:::0.9600139230155342)\n",
    ":10.0,(r4,((r6,r7):10.0,r5):10.0):10.0):10.0,r3,#H13:::0.03998607698446579);\n",
    "\"\"\".replace(\"\\n\", \"\")\n",
    "\n",
    "t, a = toytree.utils.parse_network(BADD, False)\n",
    "t.root(\"r7\").draw(ts='s', node_labels=(\"name\", 0, 0));\n",
    "#t.draw(ts='s', admixture_edges=a.values());\n",
    "print(a)"
   ]
  },
  {
   "cell_type": "code",
   "execution_count": null,
   "metadata": {},
   "outputs": [],
   "source": []
  },
  {
   "cell_type": "code",
   "execution_count": null,
   "metadata": {},
   "outputs": [],
   "source": []
  },
  {
   "cell_type": "code",
   "execution_count": 3,
   "metadata": {},
   "outputs": [],
   "source": [
    "GOOD = \"(C,D,((O,(E,#H7:::0.196):0.314):0.664,(B,((A1,A2))#H7:::0.804):10.0):10.0);\""
   ]
  },
  {
   "cell_type": "code",
   "execution_count": 4,
   "metadata": {},
   "outputs": [
    {
     "name": "stdout",
     "output_type": "stream",
     "text": [
      "[0 1 2 3 4 5 6 7 8 9 10 11]\n"
     ]
    },
    {
     "data": {
      "text/html": [
       "<div class=\"toyplot\" id=\"t246de07cfe9b425580b48134f2f6d173\" style=\"text-align:center\"><svg class=\"toyplot-canvas-Canvas\" height=\"275.0px\" id=\"t7c1392c79c324d30a9f9b537771d4bf0\" preserveAspectRatio=\"xMidYMid meet\" style=\"background-color:transparent;border-color:#292724;border-style:none;border-width:1.0;fill:rgb(16.1%,15.3%,14.1%);fill-opacity:1.0;font-family:Helvetica;font-size:12px;opacity:1.0;stroke:rgb(16.1%,15.3%,14.1%);stroke-opacity:1.0;stroke-width:1.0\" viewBox=\"0 0 260.0 275.0\" width=\"260.0px\" xmlns=\"http://www.w3.org/2000/svg\" xmlns:toyplot=\"http://www.sandia.gov/toyplot\" xmlns:xlink=\"http://www.w3.org/1999/xlink\"><g class=\"toyplot-coordinates-Cartesian\" id=\"ted882c7aa8d748ba9a2a292873f7c254\"><clipPath id=\"t5e78642751e54e33a0ad7500282d4417\"><rect height=\"215.0\" width=\"200.0\" x=\"30.0\" y=\"30.0\"></rect></clipPath><g clip-path=\"url(#t5e78642751e54e33a0ad7500282d4417)\"><g class=\"toytree-mark-Toytree\" id=\"td5b56f6fe30e47a09b37d3fcc9c1599b\"><g class=\"toytree-Edges\" style=\"fill:none;stroke:rgb(14.9%,14.9%,14.9%);stroke-linecap:round;stroke-opacity:1;stroke-width:2\"><path d=\"M 62.0 101.2 L 62.0 153.1 L 93.9 153.1\" id=\"11,10\"></path><path d=\"M 93.9 153.1 L 93.9 125.1 L 157.6 125.1\" id=\"10,9\"></path><path d=\"M 93.9 153.1 L 93.9 181.1 L 125.7 181.1\" id=\"10,8\"></path><path d=\"M 125.7 181.1 L 125.7 199.7 L 157.6 199.7\" id=\"8,7\"></path><path d=\"M 62.0 101.2 L 62.0 62.8 L 189.5 62.8\" id=\"11,6\"></path><path d=\"M 62.0 101.2 L 62.0 87.7 L 189.5 87.7\" id=\"11,5\"></path><path d=\"M 157.6 125.1 L 157.6 112.6 L 189.5 112.6\" id=\"9,4\"></path><path d=\"M 157.6 125.1 L 157.6 137.5 L 189.5 137.5\" id=\"9,3\"></path><path d=\"M 125.7 181.1 L 125.7 162.4 L 189.5 162.4\" id=\"8,2\"></path><path d=\"M 157.6 199.7 L 157.6 187.3 L 189.5 187.3\" id=\"7,1\"></path><path d=\"M 157.6 199.7 L 157.6 212.2 L 189.5 212.2\" id=\"7,0\"></path></g><g class=\"toytree-AdmixEdges\" style=\"fill:none;font-size:14px;stroke:rgba(90.6%,54.1%,76.5%,1.000);stroke-linecap:round;stroke-opacity:0.6;stroke-width:5\"><path d=\"M 157.6 199.7 L 141.7 199.7 L 173.6 137.5 L 157.6 137.5\" style=\"stroke:rgb(98.8%,55.3%,38.4%);stroke-opacity:0.7\"></path><text style=\"fill:#262626;fill-opacity:1.0;stroke:none;stroke-opacity:0.7;text-anchor:middle\" x=\"157.63\" y=\"180.62\">0.196</text></g><g class=\"toytree-Nodes\" style=\"fill:rgb(82.7%,82.7%,82.7%);fill-opacity:1.0;stroke:rgb(14.9%,14.9%,14.9%);stroke-opacity:1.0;stroke-width:1.5\"><g id=\"node-0\" transform=\"translate(189.524,212.195)\"><circle r=\"7.5\"></circle></g><g id=\"node-1\" transform=\"translate(189.524,187.297)\"><circle r=\"7.5\"></circle></g><g id=\"node-2\" transform=\"translate(189.524,162.398)\"><circle r=\"7.5\"></circle></g><g id=\"node-3\" transform=\"translate(189.524,137.500)\"><circle r=\"7.5\"></circle></g><g id=\"node-4\" transform=\"translate(189.524,112.602)\"><circle r=\"7.5\"></circle></g><g id=\"node-5\" transform=\"translate(189.524,87.703)\"><circle r=\"7.5\"></circle></g><g id=\"node-6\" transform=\"translate(189.524,62.805)\"><circle r=\"7.5\"></circle></g><g id=\"node-7\" transform=\"translate(157.632,199.746)\"><circle r=\"7.5\"></circle></g><g id=\"node-8\" transform=\"translate(125.741,181.072)\"><circle r=\"7.5\"></circle></g><g id=\"node-9\" transform=\"translate(157.632,125.051)\"><circle r=\"7.5\"></circle></g><g id=\"node-10\" transform=\"translate(93.850,153.061)\"><circle r=\"7.5\"></circle></g><g id=\"node-11\" transform=\"translate(61.959,101.190)\"><circle r=\"7.5\"></circle></g></g><g class=\"toytree-NodeLabels\" style=\"fill:rgb(14.9%,14.9%,14.9%);fill-opacity:1.0;font-size:9px;stroke:none\"><g transform=\"translate(187.02,214.49)\"><text>0</text></g><g transform=\"translate(187.02,189.60)\"><text>1</text></g><g transform=\"translate(187.02,164.70)\"><text>2</text></g><g transform=\"translate(187.02,139.80)\"><text>3</text></g><g transform=\"translate(187.02,114.90)\"><text>4</text></g><g transform=\"translate(187.02,90.00)\"><text>5</text></g><g transform=\"translate(187.02,65.10)\"><text>6</text></g><g transform=\"translate(155.13,202.05)\"><text>7</text></g><g transform=\"translate(123.24,183.37)\"><text>8</text></g><g transform=\"translate(155.13,127.35)\"><text>9</text></g><g transform=\"translate(88.85,155.36)\"><text>10</text></g><g transform=\"translate(56.96,103.49)\"><text>11</text></g></g><g class=\"toytree-TipLabels\" style=\"fill:rgb(14.9%,14.9%,14.9%);fill-opacity:1.0;font-family:helvetica;font-size:11px;font-weight:normal;stroke:none;white-space:pre\"><g transform=\"translate(189.52,212.20)rotate(0)\"><text style=\"\" x=\"15.00\" y=\"2.81\">A2</text></g><g transform=\"translate(189.52,187.30)rotate(0)\"><text style=\"\" x=\"15.00\" y=\"2.81\">A1</text></g><g transform=\"translate(189.52,162.40)rotate(0)\"><text style=\"\" x=\"15.00\" y=\"2.81\">B</text></g><g transform=\"translate(189.52,137.50)rotate(0)\"><text style=\"\" x=\"15.00\" y=\"2.81\">E</text></g><g transform=\"translate(189.52,112.60)rotate(0)\"><text style=\"\" x=\"15.00\" y=\"2.81\">O</text></g><g transform=\"translate(189.52,87.70)rotate(0)\"><text style=\"\" x=\"15.00\" y=\"2.81\">D</text></g><g transform=\"translate(189.52,62.80)rotate(0)\"><text style=\"\" x=\"15.00\" y=\"2.81\">C</text></g></g></g></g></g></svg><div class=\"toyplot-behavior\"><script>(function()\n",
       "{\n",
       "var modules={};\n",
       "})();</script></div></div>"
      ]
     },
     "metadata": {},
     "output_type": "display_data"
    }
   ],
   "source": [
    "t, a = toytree.utils.parse_network(GOOD)\n",
    "t.draw(ts='s', admixture_edges=a.values());"
   ]
  },
  {
   "cell_type": "code",
   "execution_count": 5,
   "metadata": {},
   "outputs": [
    {
     "data": {
      "text/plain": [
       "'((r0,(((((r7,r6):2.6961453026692572,r5):3.5330063916083363,r4):3.763808326511525,r3):2.4250100634115337,(r2)#H9:::0.9671081887860337):9.106387446563742):0.20143201161569013,(r1,#H9:::0.03289181121396635));'"
      ]
     },
     "execution_count": 5,
     "metadata": {},
     "output_type": "execute_result"
    }
   ],
   "source": [
    "BADFIX = \"\"\"\n",
    "((r0,(((((r7,r6):2.6961453026692572,r5):3.5330063916083363,r4)\n",
    ":3.763808326511525,r3):2.4250100634115337,(r2)#H9:::0.9671081887860337)\n",
    ":9.106387446563742):0.20143201161569013,(r1,#H9:::0.03289181121396635));\n",
    "\"\"\".replace(\"\\n\", \"\")\n",
    "BADFIX"
   ]
  },
  {
   "cell_type": "code",
   "execution_count": 6,
   "metadata": {},
   "outputs": [
    {
     "name": "stdout",
     "output_type": "stream",
     "text": [
      "[0 1 2 3 4 5 6 7 8 9 10 11 12 13 14 15 16]\n"
     ]
    },
    {
     "data": {
      "text/html": [
       "<div class=\"toyplot\" id=\"t7f873c81d1a547ea8bad2c5e91c3654a\" style=\"text-align:center\"><svg class=\"toyplot-canvas-Canvas\" height=\"275.0px\" id=\"td81dfaabe974419894ef656687e99321\" preserveAspectRatio=\"xMidYMid meet\" style=\"background-color:transparent;border-color:#292724;border-style:none;border-width:1.0;fill:rgb(16.1%,15.3%,14.1%);fill-opacity:1.0;font-family:Helvetica;font-size:12px;opacity:1.0;stroke:rgb(16.1%,15.3%,14.1%);stroke-opacity:1.0;stroke-width:1.0\" viewBox=\"0 0 260.0 275.0\" width=\"260.0px\" xmlns=\"http://www.w3.org/2000/svg\" xmlns:toyplot=\"http://www.sandia.gov/toyplot\" xmlns:xlink=\"http://www.w3.org/1999/xlink\"><g class=\"toyplot-coordinates-Cartesian\" id=\"t327ba362963340999e08d1bce80a8836\"><clipPath id=\"taf69324819a949ebbb192cad27722a26\"><rect height=\"215.0\" width=\"200.0\" x=\"30.0\" y=\"30.0\"></rect></clipPath><g clip-path=\"url(#taf69324819a949ebbb192cad27722a26)\"><g class=\"toytree-mark-Toytree\" id=\"t6a32991039c64854853707002701b43f\"><g class=\"toytree-Edges\" style=\"fill:none;stroke:rgb(14.9%,14.9%,14.9%);stroke-linecap:round;stroke-opacity:1;stroke-width:2\"><path d=\"M 62.4 84.0 L 62.4 62.8 L 175.7 62.8\" id=\"16,15\"></path><path d=\"M 62.4 84.0 L 62.4 105.2 L 81.3 105.2\" id=\"16,14\"></path><path d=\"M 81.3 105.2 L 81.3 126.2 L 100.2 126.2\" id=\"14,13\"></path><path d=\"M 100.2 126.2 L 100.2 105.5 L 175.7 105.5\" id=\"13,12\"></path><path d=\"M 100.2 126.2 L 100.2 146.8 L 119.0 146.8\" id=\"13,11\"></path><path d=\"M 119.0 146.8 L 119.0 166.8 L 137.9 166.8\" id=\"11,10\"></path><path d=\"M 137.9 166.8 L 137.9 185.5 L 156.8 185.5\" id=\"10,9\"></path><path d=\"M 156.8 185.5 L 156.8 201.5 L 175.7 201.5\" id=\"9,8\"></path><path d=\"M 175.7 62.8 L 175.7 62.8 L 194.6 62.8\" id=\"15,7\"></path><path d=\"M 81.3 105.2 L 81.3 84.1 L 194.6 84.1\" id=\"14,6\"></path><path d=\"M 175.7 105.5 L 175.7 105.5 L 194.6 105.5\" id=\"12,5\"></path><path d=\"M 119.0 146.8 L 119.0 126.8 L 194.6 126.8\" id=\"11,4\"></path><path d=\"M 137.9 166.8 L 137.9 148.2 L 194.6 148.2\" id=\"10,3\"></path><path d=\"M 156.8 185.5 L 156.8 169.5 L 194.6 169.5\" id=\"9,2\"></path><path d=\"M 175.7 201.5 L 175.7 190.9 L 194.6 190.9\" id=\"8,1\"></path><path d=\"M 175.7 201.5 L 175.7 212.2 L 194.6 212.2\" id=\"8,0\"></path></g><g class=\"toytree-AdmixEdges\" style=\"fill:none;font-size:14px;stroke:rgba(90.6%,54.1%,76.5%,1.000);stroke-linecap:round;stroke-opacity:0.6;stroke-width:5\"><path d=\"M 194.6 105.5 L 185.1 105.5 L 185.1 62.8 L 175.7 62.8\" style=\"stroke:rgb(98.8%,55.3%,38.4%);stroke-opacity:0.7\"></path><text style=\"fill:#262626;fill-opacity:1.0;stroke:none;stroke-opacity:0.7;text-anchor:middle\" x=\"185.13\" y=\"96.15\">0.033</text></g><g class=\"toytree-Nodes\" style=\"fill:rgb(82.7%,82.7%,82.7%);fill-opacity:1.0;stroke:rgb(14.9%,14.9%,14.9%);stroke-opacity:1.0;stroke-width:1.5\"><g id=\"node-0\" transform=\"translate(194.577,212.195)\"><circle r=\"7.5\"></circle></g><g id=\"node-1\" transform=\"translate(194.577,190.854)\"><circle r=\"7.5\"></circle></g><g id=\"node-2\" transform=\"translate(194.577,169.512)\"><circle r=\"7.5\"></circle></g><g id=\"node-3\" transform=\"translate(194.577,148.171)\"><circle r=\"7.5\"></circle></g><g id=\"node-4\" transform=\"translate(194.577,126.829)\"><circle r=\"7.5\"></circle></g><g id=\"node-5\" transform=\"translate(194.577,105.488)\"><circle r=\"7.5\"></circle></g><g id=\"node-6\" transform=\"translate(194.577,84.146)\"><circle r=\"7.5\"></circle></g><g id=\"node-7\" transform=\"translate(194.577,62.805)\"><circle r=\"7.5\"></circle></g><g id=\"node-8\" transform=\"translate(175.693,201.524)\"><circle r=\"7.5\"></circle></g><g id=\"node-9\" transform=\"translate(156.810,185.518)\"><circle r=\"7.5\"></circle></g><g id=\"node-10\" transform=\"translate(137.926,166.845)\"><circle r=\"7.5\"></circle></g><g id=\"node-11\" transform=\"translate(119.043,146.837)\"><circle r=\"7.5\"></circle></g><g id=\"node-12\" transform=\"translate(175.693,105.488)\"><circle r=\"7.5\"></circle></g><g id=\"node-13\" transform=\"translate(100.159,126.162)\"><circle r=\"7.5\"></circle></g><g id=\"node-14\" transform=\"translate(81.276,105.154)\"><circle r=\"7.5\"></circle></g><g id=\"node-15\" transform=\"translate(175.693,62.805)\"><circle r=\"7.5\"></circle></g><g id=\"node-16\" transform=\"translate(62.392,83.980)\"><circle r=\"7.5\"></circle></g></g><g class=\"toytree-NodeLabels\" style=\"fill:rgb(14.9%,14.9%,14.9%);fill-opacity:1.0;font-size:9px;stroke:none\"><g transform=\"translate(192.07,214.49)\"><text>0</text></g><g transform=\"translate(192.07,193.15)\"><text>1</text></g><g transform=\"translate(192.07,171.81)\"><text>2</text></g><g transform=\"translate(192.07,150.47)\"><text>3</text></g><g transform=\"translate(192.07,129.13)\"><text>4</text></g><g transform=\"translate(192.07,107.79)\"><text>5</text></g><g transform=\"translate(192.07,86.45)\"><text>6</text></g><g transform=\"translate(192.07,65.10)\"><text>7</text></g><g transform=\"translate(173.19,203.82)\"><text>8</text></g><g transform=\"translate(154.31,187.82)\"><text>9</text></g><g transform=\"translate(132.92,169.14)\"><text>10</text></g><g transform=\"translate(114.04,149.14)\"><text>11</text></g><g transform=\"translate(170.69,107.79)\"><text>12</text></g><g transform=\"translate(95.16,128.46)\"><text>13</text></g><g transform=\"translate(76.27,107.45)\"><text>14</text></g><g transform=\"translate(170.69,65.10)\"><text>15</text></g><g transform=\"translate(57.39,86.28)\"><text>16</text></g></g><g class=\"toytree-TipLabels\" style=\"fill:rgb(14.9%,14.9%,14.9%);fill-opacity:1.0;font-family:helvetica;font-size:11px;font-weight:normal;stroke:none;white-space:pre\"><g transform=\"translate(194.58,212.20)rotate(0)\"><text style=\"\" x=\"15.00\" y=\"2.81\">r6</text></g><g transform=\"translate(194.58,190.85)rotate(0)\"><text style=\"\" x=\"15.00\" y=\"2.81\">r7</text></g><g transform=\"translate(194.58,169.51)rotate(0)\"><text style=\"\" x=\"15.00\" y=\"2.81\">r5</text></g><g transform=\"translate(194.58,148.17)rotate(0)\"><text style=\"\" x=\"15.00\" y=\"2.81\">r4</text></g><g transform=\"translate(194.58,126.83)rotate(0)\"><text style=\"\" x=\"15.00\" y=\"2.81\">r3</text></g><g transform=\"translate(194.58,105.49)rotate(0)\"><text style=\"\" x=\"15.00\" y=\"2.81\">r2</text></g><g transform=\"translate(194.58,84.15)rotate(0)\"><text style=\"\" x=\"15.00\" y=\"2.81\">r0</text></g><g transform=\"translate(194.58,62.80)rotate(0)\"><text style=\"\" x=\"15.00\" y=\"2.81\">r1</text></g></g></g></g></g></svg><div class=\"toyplot-behavior\"><script>(function()\n",
       "{\n",
       "var modules={};\n",
       "})();</script></div></div>"
      ]
     },
     "metadata": {},
     "output_type": "display_data"
    }
   ],
   "source": [
    "t, a = toytree.utils.parse_network(BADFIX, False)\n",
    "t.draw(ts='s', admixture_edges=a.values());"
   ]
  },
  {
   "cell_type": "code",
   "execution_count": 7,
   "metadata": {},
   "outputs": [
    {
     "data": {
      "text/plain": [
       "'((r0,(((((r7,r6):2.6961453026692572,r5):3.5330063916083363,r4):3.763808326511525,r3):2.4250100634115337,(r2)#H9:::0.9671081887860337):9.106387446563742):0.20143201161569013,(r1)#H9:::0.03289181121396635);'"
      ]
     },
     "execution_count": 7,
     "metadata": {},
     "output_type": "execute_result"
    }
   ],
   "source": [
    "BAD = \"\"\"\n",
    "((r0,(((((r7,r6):2.6961453026692572,r5):3.5330063916083363,r4)\n",
    ":3.763808326511525,r3):2.4250100634115337,(r2)#H9:::0.9671081887860337)\n",
    ":9.106387446563742):0.20143201161569013,(r1)#H9:::0.03289181121396635);\n",
    "\"\"\".replace(\"\\n\", \"\")\n",
    "BAD"
   ]
  },
  {
   "cell_type": "code",
   "execution_count": 8,
   "metadata": {},
   "outputs": [
    {
     "data": {
      "text/plain": [
       "['((r0,(((((r7,r6):2.6961453026692572,r5):3.5330063916083363,r4):3.763808326511525,r3):2.4250100634115337,(r2)#H9:::0.9671081887860337):9.106387446563742):0.20143201161569013,(r1)#H9:::0.03289181121396635);']"
      ]
     },
     "execution_count": 8,
     "metadata": {},
     "output_type": "execute_result"
    }
   ],
   "source": [
    "BAD.split(\",#\", 1)"
   ]
  },
  {
   "cell_type": "code",
   "execution_count": null,
   "metadata": {},
   "outputs": [],
   "source": []
  },
  {
   "cell_type": "code",
   "execution_count": null,
   "metadata": {},
   "outputs": [],
   "source": []
  },
  {
   "cell_type": "code",
   "execution_count": null,
   "metadata": {},
   "outputs": [],
   "source": []
  },
  {
   "cell_type": "code",
   "execution_count": null,
   "metadata": {},
   "outputs": [],
   "source": []
  },
  {
   "cell_type": "code",
   "execution_count": 121,
   "metadata": {},
   "outputs": [],
   "source": [
    "net = NET1\n",
    "\n",
    "if \";\" in net:\n",
    "    net = net.split(\";\")[0] + ';'\n",
    "\n",
    "# sub :xxx:: to be ::: b/c I don't care about admix edge bls\n",
    "net = re.sub(r\":\\d.\\w*::\", \":::\", net)\n",
    "\n",
    "# change H nodes to proper format\n",
    "while \",#\" in net:\n",
    "    pre, post = net.split(\",#\", 1)\n",
    "    npre, npost = post.split(\")\", 1)\n",
    "    newpre = npre.split(\":\")[0] + \"-\" + npre.split(\":\")[-1]\n",
    "    \n",
    "#     if pre.rfind(\",\") > pre.rfind(\"(\"):\n",
    "#         ppre, ppost = pre.split(\",\")\n",
    "#         pre = ppre + \",(\" + ppost\n",
    "#         net = pre + \")#\" + newpre + \")\" + npost\n",
    "#     else:\n",
    "    net = pre + \")\" + newpre + npost\n",
    "    \n",
    "net = net.replace(\":::\", \"-\")"
   ]
  },
  {
   "cell_type": "code",
   "execution_count": 122,
   "metadata": {},
   "outputs": [
    {
     "name": "stdout",
     "output_type": "stream",
     "text": [
      "(r1,r0,((r2\n"
     ]
    }
   ],
   "source": [
    "print(pre)"
   ]
  },
  {
   "cell_type": "code",
   "execution_count": 123,
   "metadata": {},
   "outputs": [
    {
     "data": {
      "text/plain": [
       "'(r1,r0,((r2)H9-0.04516105523785436:6.929703195552209,((((r6,r7):4.068676529383039,r5):7.418582484128194,r4):6.679300646475643,(r3)#H9-0.9548389447621456):6.008462884499951):3.9938608194551755);'"
      ]
     },
     "execution_count": 123,
     "metadata": {},
     "output_type": "execute_result"
    }
   ],
   "source": [
    "net"
   ]
  },
  {
   "cell_type": "code",
   "execution_count": 124,
   "metadata": {},
   "outputs": [
    {
     "ename": "NewickError",
     "evalue": "Unexpected newick format H9-0.04516105523785436:6.929703195552209",
     "output_type": "error",
     "traceback": [
      "\u001b[0;31m---------------------------------------------------------------------------\u001b[0m",
      "\u001b[0;31mNewickError\u001b[0m                               Traceback (most recent call last)",
      "\u001b[0;32m<ipython-input-124-dda5eac20136>\u001b[0m in \u001b[0;36m<module>\u001b[0;34m\u001b[0m\n\u001b[0;32m----> 1\u001b[0;31m \u001b[0mtoytree\u001b[0m\u001b[0;34m.\u001b[0m\u001b[0mtree\u001b[0m\u001b[0;34m(\u001b[0m\u001b[0mnet\u001b[0m\u001b[0;34m)\u001b[0m\u001b[0;34m\u001b[0m\u001b[0;34m\u001b[0m\u001b[0m\n\u001b[0m",
      "\u001b[0;32m~/Documents/toytree/toytree/Toytree.py\u001b[0m in \u001b[0;36m__init__\u001b[0;34m(self, newick, tree_format, **kwargs)\u001b[0m\n\u001b[1;32m     68\u001b[0m         \u001b[0;31m# parse a str, URL, or file\u001b[0m\u001b[0;34m\u001b[0m\u001b[0;34m\u001b[0m\u001b[0;34m\u001b[0m\u001b[0m\n\u001b[1;32m     69\u001b[0m         \u001b[0;32melif\u001b[0m \u001b[0misinstance\u001b[0m\u001b[0;34m(\u001b[0m\u001b[0mnewick\u001b[0m\u001b[0;34m,\u001b[0m \u001b[0;34m(\u001b[0m\u001b[0mstr\u001b[0m\u001b[0;34m,\u001b[0m \u001b[0mbytes\u001b[0m\u001b[0;34m)\u001b[0m\u001b[0;34m)\u001b[0m\u001b[0;34m:\u001b[0m\u001b[0;34m\u001b[0m\u001b[0;34m\u001b[0m\u001b[0m\n\u001b[0;32m---> 70\u001b[0;31m             \u001b[0mself\u001b[0m\u001b[0;34m.\u001b[0m\u001b[0mtreenode\u001b[0m \u001b[0;34m=\u001b[0m \u001b[0mTreeParser\u001b[0m\u001b[0;34m(\u001b[0m\u001b[0mnewick\u001b[0m\u001b[0;34m,\u001b[0m \u001b[0mtree_format\u001b[0m\u001b[0;34m)\u001b[0m\u001b[0;34m.\u001b[0m\u001b[0mtreenodes\u001b[0m\u001b[0;34m[\u001b[0m\u001b[0;36m0\u001b[0m\u001b[0;34m]\u001b[0m\u001b[0;34m\u001b[0m\u001b[0;34m\u001b[0m\u001b[0m\n\u001b[0m\u001b[1;32m     71\u001b[0m \u001b[0;34m\u001b[0m\u001b[0m\n\u001b[1;32m     72\u001b[0m         \u001b[0;31m# make an empty tree\u001b[0m\u001b[0;34m\u001b[0m\u001b[0;34m\u001b[0m\u001b[0;34m\u001b[0m\u001b[0m\n",
      "\u001b[0;32m~/Documents/toytree/toytree/TreeParser.py\u001b[0m in \u001b[0;36m__init__\u001b[0;34m(self, intree, tree_format, multitree, debug)\u001b[0m\n\u001b[1;32m     78\u001b[0m         \u001b[0;31m# parse intree\u001b[0m\u001b[0;34m\u001b[0m\u001b[0;34m\u001b[0m\u001b[0;34m\u001b[0m\u001b[0m\n\u001b[1;32m     79\u001b[0m         \u001b[0;32mif\u001b[0m \u001b[0;32mnot\u001b[0m \u001b[0mself\u001b[0m\u001b[0;34m.\u001b[0m\u001b[0mdebug\u001b[0m\u001b[0;34m:\u001b[0m\u001b[0;34m\u001b[0m\u001b[0;34m\u001b[0m\u001b[0m\n\u001b[0;32m---> 80\u001b[0;31m             \u001b[0mself\u001b[0m\u001b[0;34m.\u001b[0m\u001b[0m_run\u001b[0m\u001b[0;34m(\u001b[0m\u001b[0;34m)\u001b[0m\u001b[0;34m\u001b[0m\u001b[0;34m\u001b[0m\u001b[0m\n\u001b[0m\u001b[1;32m     81\u001b[0m \u001b[0;34m\u001b[0m\u001b[0m\n\u001b[1;32m     82\u001b[0m \u001b[0;34m\u001b[0m\u001b[0m\n",
      "\u001b[0;32m~/Documents/toytree/toytree/TreeParser.py\u001b[0m in \u001b[0;36m_run\u001b[0;34m(self)\u001b[0m\n\u001b[1;32m     94\u001b[0m \u001b[0;34m\u001b[0m\u001b[0m\n\u001b[1;32m     95\u001b[0m             \u001b[0;31m# parse newick strings to treenodes list\u001b[0m\u001b[0;34m\u001b[0m\u001b[0;34m\u001b[0m\u001b[0;34m\u001b[0m\u001b[0m\n\u001b[0;32m---> 96\u001b[0;31m             \u001b[0mself\u001b[0m\u001b[0;34m.\u001b[0m\u001b[0mget_treenodes\u001b[0m\u001b[0;34m(\u001b[0m\u001b[0;34m)\u001b[0m\u001b[0;34m\u001b[0m\u001b[0;34m\u001b[0m\u001b[0m\n\u001b[0m\u001b[1;32m     97\u001b[0m \u001b[0;34m\u001b[0m\u001b[0m\n\u001b[1;32m     98\u001b[0m             \u001b[0;31m# apply names from tdict\u001b[0m\u001b[0;34m\u001b[0m\u001b[0;34m\u001b[0m\u001b[0;34m\u001b[0m\u001b[0m\n",
      "\u001b[0;32m~/Documents/toytree/toytree/TreeParser.py\u001b[0m in \u001b[0;36mget_treenodes\u001b[0;34m(self)\u001b[0m\n\u001b[1;32m    162\u001b[0m \u001b[0;34m\u001b[0m\u001b[0m\n\u001b[1;32m    163\u001b[0m             \u001b[0;31m# extract one tree\u001b[0m\u001b[0;34m\u001b[0m\u001b[0;34m\u001b[0m\u001b[0;34m\u001b[0m\u001b[0m\n\u001b[0;32m--> 164\u001b[0;31m             \u001b[0mself\u001b[0m\u001b[0;34m.\u001b[0m\u001b[0mtreenodes\u001b[0m\u001b[0;34m.\u001b[0m\u001b[0mappend\u001b[0m\u001b[0;34m(\u001b[0m\u001b[0mextractor\u001b[0m\u001b[0;34m.\u001b[0m\u001b[0mnewick_from_string\u001b[0m\u001b[0;34m(\u001b[0m\u001b[0;34m)\u001b[0m\u001b[0;34m)\u001b[0m\u001b[0;34m\u001b[0m\u001b[0;34m\u001b[0m\u001b[0m\n\u001b[0m\u001b[1;32m    165\u001b[0m \u001b[0;34m\u001b[0m\u001b[0m\n\u001b[1;32m    166\u001b[0m         \u001b[0;32melse\u001b[0m\u001b[0;34m:\u001b[0m\u001b[0;34m\u001b[0m\u001b[0;34m\u001b[0m\u001b[0m\n",
      "\u001b[0;32m~/Documents/toytree/toytree/TreeParser.py\u001b[0m in \u001b[0;36mnewick_from_string\u001b[0;34m(self)\u001b[0m\n\u001b[1;32m    265\u001b[0m                         \u001b[0mclosing_internal\u001b[0m \u001b[0;34m=\u001b[0m \u001b[0mclosing_internal\u001b[0m\u001b[0;34m.\u001b[0m\u001b[0mrstrip\u001b[0m\u001b[0;34m(\u001b[0m\u001b[0;34m\";\"\u001b[0m\u001b[0;34m)\u001b[0m\u001b[0;34m\u001b[0m\u001b[0;34m\u001b[0m\u001b[0m\n\u001b[1;32m    266\u001b[0m                         \u001b[0;31m# read internal node data and go up one level\u001b[0m\u001b[0;34m\u001b[0m\u001b[0;34m\u001b[0m\u001b[0;34m\u001b[0m\u001b[0m\n\u001b[0;32m--> 267\u001b[0;31m                         \u001b[0mself\u001b[0m\u001b[0;34m.\u001b[0m\u001b[0mapply_node_data\u001b[0m\u001b[0;34m(\u001b[0m\u001b[0mclosing_internal\u001b[0m\u001b[0;34m,\u001b[0m \u001b[0;34m\"internal\"\u001b[0m\u001b[0;34m)\u001b[0m\u001b[0;34m\u001b[0m\u001b[0;34m\u001b[0m\u001b[0m\n\u001b[0m\u001b[1;32m    268\u001b[0m                         \u001b[0mself\u001b[0m\u001b[0;34m.\u001b[0m\u001b[0mcurrent_parent\u001b[0m \u001b[0;34m=\u001b[0m \u001b[0mself\u001b[0m\u001b[0;34m.\u001b[0m\u001b[0mcurrent_parent\u001b[0m\u001b[0;34m.\u001b[0m\u001b[0mup\u001b[0m\u001b[0;34m\u001b[0m\u001b[0;34m\u001b[0m\u001b[0m\n\u001b[1;32m    269\u001b[0m         \u001b[0;32mreturn\u001b[0m \u001b[0mself\u001b[0m\u001b[0;34m.\u001b[0m\u001b[0mroot\u001b[0m\u001b[0;34m\u001b[0m\u001b[0;34m\u001b[0m\u001b[0m\n",
      "\u001b[0;32m~/Documents/toytree/toytree/TreeParser.py\u001b[0m in \u001b[0;36mapply_node_data\u001b[0;34m(self, subnw, node_type)\u001b[0m\n\u001b[1;32m    327\u001b[0m                     \u001b[0mself\u001b[0m\u001b[0;34m.\u001b[0m\u001b[0mcurrent_node\u001b[0m\u001b[0;34m.\u001b[0m\u001b[0madd_feature\u001b[0m\u001b[0;34m(\u001b[0m\u001b[0mfname\u001b[0m\u001b[0;34m,\u001b[0m \u001b[0mfvalue\u001b[0m\u001b[0;34m)\u001b[0m\u001b[0;34m\u001b[0m\u001b[0;34m\u001b[0m\u001b[0m\n\u001b[1;32m    328\u001b[0m         \u001b[0;32melse\u001b[0m\u001b[0;34m:\u001b[0m\u001b[0;34m\u001b[0m\u001b[0;34m\u001b[0m\u001b[0m\n\u001b[0;32m--> 329\u001b[0;31m             \u001b[0;32mraise\u001b[0m \u001b[0mNewickError\u001b[0m\u001b[0;34m(\u001b[0m\u001b[0;34m\"Unexpected newick format {}\"\u001b[0m\u001b[0;34m.\u001b[0m\u001b[0mformat\u001b[0m\u001b[0;34m(\u001b[0m\u001b[0msubnw\u001b[0m\u001b[0;34m)\u001b[0m\u001b[0;34m)\u001b[0m\u001b[0;34m\u001b[0m\u001b[0;34m\u001b[0m\u001b[0m\n\u001b[0m\u001b[1;32m    330\u001b[0m \u001b[0;34m\u001b[0m\u001b[0m\n\u001b[1;32m    331\u001b[0m \u001b[0;34m\u001b[0m\u001b[0m\n",
      "\u001b[0;31mNewickError\u001b[0m: Unexpected newick format H9-0.04516105523785436:6.929703195552209"
     ]
    }
   ],
   "source": [
    "toytree.tree(net)"
   ]
  },
  {
   "cell_type": "code",
   "execution_count": null,
   "metadata": {},
   "outputs": [],
   "source": []
  },
  {
   "cell_type": "code",
   "execution_count": 83,
   "metadata": {},
   "outputs": [
    {
     "data": {
      "text/plain": [
       "(<toytree.Toytree.ToyTree at 0x7fca71d81e80>,\n",
       " {'H9': (['r2'], ['r1'], 0.5, {}, '0.033')})"
      ]
     },
     "execution_count": 83,
     "metadata": {},
     "output_type": "execute_result"
    }
   ],
   "source": [
    "toytree.utils.parse_network(NET0)"
   ]
  },
  {
   "cell_type": "code",
   "execution_count": 11,
   "metadata": {},
   "outputs": [
    {
     "data": {
      "text/plain": [
       "'(r1,r0,((r2,#H9:::0.04516105523785436):6.929703195552209,((((r6,r7):4.068676529383039,r5):7.418582484128194,r4):6.679300646475643,(r3)#H9:::0.9548389447621456):6.008462884499951):3.9938608194551755);'"
      ]
     },
     "execution_count": 11,
     "metadata": {},
     "output_type": "execute_result"
    }
   ],
   "source": [
    "NET1 = \"\"\"\n",
    "(r1,r0,((r2,#H9:::0.04516105523785436):6.929703195552209,((((r6,r7):4.068676529383039,r5):7.418582484128194,r4):6.679300646475643,(r3)#H9:::0.9548389447621456):6.008462884499951):3.9938608194551755);\n",
    "\"\"\".strip()\n",
    "NET1"
   ]
  },
  {
   "cell_type": "code",
   "execution_count": 77,
   "metadata": {},
   "outputs": [
    {
     "name": "stdout",
     "output_type": "stream",
     "text": [
      "16\n"
     ]
    },
    {
     "ename": "ValueError",
     "evalue": "not enough values to unpack (expected 2, got 1)",
     "output_type": "error",
     "traceback": [
      "\u001b[0;31m---------------------------------------------------------------------------\u001b[0m",
      "\u001b[0;31mValueError\u001b[0m                                Traceback (most recent call last)",
      "\u001b[0;32m<ipython-input-77-975d410d8614>\u001b[0m in \u001b[0;36m<module>\u001b[0;34m\u001b[0m\n\u001b[1;32m     48\u001b[0m         \u001b[0mprint\u001b[0m\u001b[0;34m(\u001b[0m\u001b[0mnode\u001b[0m\u001b[0;34m.\u001b[0m\u001b[0mname\u001b[0m\u001b[0;34m)\u001b[0m\u001b[0;34m\u001b[0m\u001b[0;34m\u001b[0m\u001b[0m\n\u001b[1;32m     49\u001b[0m         \u001b[0;31m# assign name and gamma to hybrid nodes\u001b[0m\u001b[0;34m\u001b[0m\u001b[0;34m\u001b[0m\u001b[0;34m\u001b[0m\u001b[0m\n\u001b[0;32m---> 50\u001b[0;31m         \u001b[0maname\u001b[0m\u001b[0;34m,\u001b[0m \u001b[0maprop\u001b[0m \u001b[0;34m=\u001b[0m \u001b[0mnode\u001b[0m\u001b[0;34m.\u001b[0m\u001b[0mname\u001b[0m\u001b[0;34m.\u001b[0m\u001b[0msplit\u001b[0m\u001b[0;34m(\u001b[0m\u001b[0;34m\"-\"\u001b[0m\u001b[0;34m)\u001b[0m\u001b[0;34m\u001b[0m\u001b[0;34m\u001b[0m\u001b[0m\n\u001b[0m\u001b[1;32m     51\u001b[0m         \u001b[0maname\u001b[0m \u001b[0;34m=\u001b[0m \u001b[0maname\u001b[0m\u001b[0;34m.\u001b[0m\u001b[0mlstrip\u001b[0m\u001b[0;34m(\u001b[0m\u001b[0;34m\"#\"\u001b[0m\u001b[0;34m)\u001b[0m\u001b[0;34m\u001b[0m\u001b[0;34m\u001b[0m\u001b[0m\n\u001b[1;32m     52\u001b[0m         \u001b[0mnode\u001b[0m\u001b[0;34m.\u001b[0m\u001b[0mname\u001b[0m \u001b[0;34m=\u001b[0m \u001b[0maname\u001b[0m\u001b[0;34m\u001b[0m\u001b[0;34m\u001b[0m\u001b[0m\n",
      "\u001b[0;31mValueError\u001b[0m: not enough values to unpack (expected 2, got 1)"
     ]
    }
   ],
   "source": [
    "disconnect = False\n",
    "net = NET0\n",
    "\n",
    "# trim off loglik and anything after it (TODO: keep loglik)\n",
    "if \";\" in net:\n",
    "    net = net.split(\";\")[0] + ';'\n",
    "\n",
    "# sub :xxx:: to be ::: b/c I don't care about admix edge bls\n",
    "net = re.sub(r\":\\d.\\w*::\", \":::\", net)\n",
    "\n",
    "# change H nodes to proper format\n",
    "while \",#\" in net:\n",
    "    pre, post = net.split(\",#\", 1)\n",
    "    npre, npost = post.split(\")\", 1)\n",
    "    newpre = npre.split(\":\")[0] + \"-\" + npre.split(\":\")[-1]\n",
    "    \n",
    "    # trial: if last , before last )\n",
    "#     if pre.rfind(\",\") < pre.rfind(\")\"):\n",
    "#         ppre, ppost = pre.rsplit(\",\", 1)\n",
    "#         pre = ppre + \",(\" + ppost\n",
    "#         net = pre + \")#\" + newpre + \")\" + npost\n",
    "#     else:\n",
    "#         net = pre + \")\" + newpre + npost\n",
    "    net = pre + \")#\" + newpre + npost\n",
    "\n",
    "\n",
    "net = net.replace(\":::\", \"-\")\n",
    "\n",
    "\n",
    "# parse cleaned newick and set empty gamma on all nodes\n",
    "net = toytree.tree(net, tree_format=1)\n",
    "\n",
    "# if \"#\" in net.treenode.name:\n",
    "#     net = net.root([i for i in net.get_tip_labels() if \"#\" not in i][0])\n",
    "# print(net)\n",
    "\n",
    "# store admix data\n",
    "admix = {}\n",
    "\n",
    "# Traverse tree to find hybrid nodes. If a hybrid node is labeled as a \n",
    "# distinct branch in the tree then it is dropped from the tree and \n",
    "for node in net.treenode.traverse():\n",
    "    \n",
    "   \n",
    "    # find hybrid nodes as internal nchild=1, or external with H in name\n",
    "    if (len(node.children) == 1) or node.name.startswith(\"#H\"):\n",
    "\n",
    "        print(node.name)\n",
    "        # assign name and gamma to hybrid nodes\n",
    "        aname, aprop = node.name.split(\"-\")\n",
    "        aname = aname.lstrip(\"#\")\n",
    "        node.name = aname\n",
    "\n",
    "        # assign hybrid to closest nodes up and down from edge\n",
    "        # node.children[0].hybrid = int(aname[1:])\n",
    "        # node.gamma = round(float(aprop), 3)\n",
    "        # node.up.hybrid = int(aname[1:])\n",
    "\n",
    "        # if hybrid is root (ugh)\n",
    "#         if node.up is None:\n",
    "#             smaller = sorted(node.children, key=lambda x: len(x))[0]\n",
    "#             newnode = toytree.TreeNode.TreeNode(name=node.name)\n",
    "#             node.name = \"root\"\n",
    "#             node.children.remove(smaller)\n",
    "#             node.children.append(newnode)\n",
    "#             smaller.up = newnode\n",
    "#             newnode.up = node\n",
    "#             newnode.childen = [smaller]\n",
    "#             print(node.children, \"CHILDREN\")\n",
    "        \n",
    "        # disconnect node by connecting children to parent\n",
    "        if disconnect:\n",
    "\n",
    "            # if tip is a hybrid\n",
    "            if not node.children:\n",
    "                # get sister node\n",
    "                sister = [i for i in node.up.children if i != node][0]\n",
    "\n",
    "                # connect sister to gparent\n",
    "                sister.up = node.up.up\n",
    "                node.up.up.children.remove(node.up)\n",
    "                node.up.up.children.append(sister)\n",
    "                \n",
    "            # if hybrid is internal\n",
    "            else:\n",
    "                node.up.children.remove(node)\n",
    "                for child in node.children:\n",
    "                    child.up = node.up\n",
    "                    node.up.children.append(child)\n",
    "\n",
    "        # store admix data by descendants but remove hybrid tips\n",
    "        desc = node.get_leaf_names()\n",
    "        if aname in desc:\n",
    "            desc = [i for i in node.up.get_leaf_names() if i != aname]\n",
    "        desc = [i for i in desc if not i.startswith(\"#H\")]\n",
    "\n",
    "        # put this node into admix\n",
    "        if aname not in admix:\n",
    "            admix[aname] = (desc, aprop)\n",
    "\n",
    "        # matching edge in admix, no arrange into correct order by minor\n",
    "        else:\n",
    "            # this is the minor edge\n",
    "            if aprop < admix[aname][1]:\n",
    "                admix[aname] = (\n",
    "                    admix[aname][0], \n",
    "                    desc, \n",
    "                    0.5, \n",
    "                    {}, \n",
    "                    str(round(float(aprop), 3)),\n",
    "                )\n",
    "\n",
    "            # this is the major edge\n",
    "            else:\n",
    "                admix[aname] = (\n",
    "                    desc, \n",
    "                    admix[aname][0], \n",
    "                    0.5, \n",
    "                    {}, \n",
    "                    str(round(float(admix[aname][1]), 3)),\n",
    "                )\n",
    "# update coords needed if node disconnection is turned back on.\n",
    "net._coords.update()\n",
    "net = net.ladderize()               \n",
    "admix"
   ]
  },
  {
   "cell_type": "code",
   "execution_count": 72,
   "metadata": {
    "scrolled": true
   },
   "outputs": [
    {
     "name": "stdout",
     "output_type": "stream",
     "text": [
      "['r6' 'r7' 'r5' 'r4' 'r3' 'r2' 'r0' '0' '8' '9' '10' '11' 'H9' '13' '14'\n",
      " 'root']\n"
     ]
    },
    {
     "data": {
      "text/html": [
       "<div class=\"toyplot\" id=\"tea06b12a56584b74aca6d938f751b8af\" style=\"text-align:center\"><svg class=\"toyplot-canvas-Canvas\" height=\"275.0px\" id=\"t45daf8bbf35042a390fbf9307906ac9c\" preserveAspectRatio=\"xMidYMid meet\" style=\"background-color:transparent;border-color:#292724;border-style:none;border-width:1.0;fill:rgb(16.1%,15.3%,14.1%);fill-opacity:1.0;font-family:Helvetica;font-size:12px;opacity:1.0;stroke:rgb(16.1%,15.3%,14.1%);stroke-opacity:1.0;stroke-width:1.0\" viewBox=\"0 0 260.0 275.0\" width=\"260.0px\" xmlns=\"http://www.w3.org/2000/svg\" xmlns:toyplot=\"http://www.sandia.gov/toyplot\" xmlns:xlink=\"http://www.w3.org/1999/xlink\"><g class=\"toyplot-coordinates-Cartesian\" id=\"t85f90a6792624819a635338c8fc379e4\"><clipPath id=\"t5c69008538cc4d89a8e34270d9183551\"><rect height=\"215.0\" width=\"200.0\" x=\"30.0\" y=\"30.0\"></rect></clipPath><g clip-path=\"url(#t5c69008538cc4d89a8e34270d9183551)\"><g class=\"toytree-mark-Toytree\" id=\"t70573be1155441f3b7e41ab0c708f605\"><g class=\"toytree-Edges\" style=\"fill:none;stroke:rgb(14.9%,14.9%,14.9%);stroke-linecap:round;stroke-opacity:1;stroke-width:2\"><path d=\"M 62.4 84.0 L 62.4 105.2 L 81.3 105.2\" id=\"15,14\"></path><path d=\"M 81.3 105.2 L 81.3 126.2 L 100.2 126.2\" id=\"14,13\"></path><path d=\"M 100.2 126.2 L 100.2 105.5 L 175.7 105.5\" id=\"13,12\"></path><path d=\"M 100.2 126.2 L 100.2 146.8 L 119.0 146.8\" id=\"13,11\"></path><path d=\"M 119.0 146.8 L 119.0 166.8 L 137.9 166.8\" id=\"11,10\"></path><path d=\"M 137.9 166.8 L 137.9 185.5 L 156.8 185.5\" id=\"10,9\"></path><path d=\"M 156.8 185.5 L 156.8 201.5 L 175.7 201.5\" id=\"9,8\"></path><path d=\"M 62.4 84.0 L 62.4 62.8 L 194.6 62.8\" id=\"15,7\"></path><path d=\"M 81.3 105.2 L 81.3 84.1 L 194.6 84.1\" id=\"14,6\"></path><path d=\"M 175.7 105.5 L 175.7 105.5 L 194.6 105.5\" id=\"12,5\"></path><path d=\"M 119.0 146.8 L 119.0 126.8 L 194.6 126.8\" id=\"11,4\"></path><path d=\"M 137.9 166.8 L 137.9 148.2 L 194.6 148.2\" id=\"10,3\"></path><path d=\"M 156.8 185.5 L 156.8 169.5 L 194.6 169.5\" id=\"9,2\"></path><path d=\"M 175.7 201.5 L 175.7 190.9 L 194.6 190.9\" id=\"8,1\"></path><path d=\"M 175.7 201.5 L 175.7 212.2 L 194.6 212.2\" id=\"8,0\"></path></g><g class=\"toytree-Nodes\" style=\"fill:rgb(82.7%,82.7%,82.7%);fill-opacity:1.0;stroke:rgb(14.9%,14.9%,14.9%);stroke-opacity:1.0;stroke-width:1.5\"><g id=\"node-0\" transform=\"translate(194.577,212.195)\"><circle r=\"7.5\"></circle></g><g id=\"node-1\" transform=\"translate(194.577,190.854)\"><circle r=\"7.5\"></circle></g><g id=\"node-2\" transform=\"translate(194.577,169.512)\"><circle r=\"7.5\"></circle></g><g id=\"node-3\" transform=\"translate(194.577,148.171)\"><circle r=\"7.5\"></circle></g><g id=\"node-4\" transform=\"translate(194.577,126.829)\"><circle r=\"7.5\"></circle></g><g id=\"node-5\" transform=\"translate(194.577,105.488)\"><circle r=\"7.5\"></circle></g><g id=\"node-6\" transform=\"translate(194.577,84.146)\"><circle r=\"7.5\"></circle></g><g id=\"node-7\" transform=\"translate(194.577,62.805)\"><circle r=\"7.5\"></circle></g><g id=\"node-8\" transform=\"translate(175.693,201.524)\"><circle r=\"7.5\"></circle></g><g id=\"node-9\" transform=\"translate(156.810,185.518)\"><circle r=\"7.5\"></circle></g><g id=\"node-10\" transform=\"translate(137.926,166.845)\"><circle r=\"7.5\"></circle></g><g id=\"node-11\" transform=\"translate(119.043,146.837)\"><circle r=\"7.5\"></circle></g><g id=\"node-12\" transform=\"translate(175.693,105.488)\"><circle r=\"7.5\"></circle></g><g id=\"node-13\" transform=\"translate(100.159,126.162)\"><circle r=\"7.5\"></circle></g><g id=\"node-14\" transform=\"translate(81.276,105.154)\"><circle r=\"7.5\"></circle></g><g id=\"node-15\" transform=\"translate(62.392,83.980)\"><circle r=\"7.5\"></circle></g></g><g class=\"toytree-NodeLabels\" style=\"fill:rgb(14.9%,14.9%,14.9%);fill-opacity:1.0;font-size:9px;stroke:none\"><g transform=\"translate(190.58,214.49)\"><text>r6</text></g><g transform=\"translate(190.58,193.15)\"><text>r7</text></g><g transform=\"translate(190.58,171.81)\"><text>r5</text></g><g transform=\"translate(190.58,150.47)\"><text>r4</text></g><g transform=\"translate(190.58,129.13)\"><text>r3</text></g><g transform=\"translate(190.58,107.79)\"><text>r2</text></g><g transform=\"translate(190.58,86.45)\"><text>r0</text></g><g transform=\"translate(192.07,65.10)\"><text>0</text></g><g transform=\"translate(173.19,203.82)\"><text>8</text></g><g transform=\"translate(154.31,187.82)\"><text>9</text></g><g transform=\"translate(132.92,169.14)\"><text>10</text></g><g transform=\"translate(114.04,149.14)\"><text>11</text></g><g transform=\"translate(169.94,107.79)\"><text>H9</text></g><g transform=\"translate(95.16,128.46)\"><text>13</text></g><g transform=\"translate(76.27,107.45)\"><text>14</text></g><g transform=\"translate(54.64,86.28)\"><text>root</text></g></g><g class=\"toytree-TipLabels\" style=\"fill:rgb(14.9%,14.9%,14.9%);fill-opacity:1.0;font-family:helvetica;font-size:11px;font-weight:normal;stroke:none;white-space:pre\"><g transform=\"translate(194.58,212.20)rotate(0)\"><text style=\"\" x=\"15.00\" y=\"2.81\">r6</text></g><g transform=\"translate(194.58,190.85)rotate(0)\"><text style=\"\" x=\"15.00\" y=\"2.81\">r7</text></g><g transform=\"translate(194.58,169.51)rotate(0)\"><text style=\"\" x=\"15.00\" y=\"2.81\">r5</text></g><g transform=\"translate(194.58,148.17)rotate(0)\"><text style=\"\" x=\"15.00\" y=\"2.81\">r4</text></g><g transform=\"translate(194.58,126.83)rotate(0)\"><text style=\"\" x=\"15.00\" y=\"2.81\">r3</text></g><g transform=\"translate(194.58,105.49)rotate(0)\"><text style=\"\" x=\"15.00\" y=\"2.81\">r2</text></g><g transform=\"translate(194.58,84.15)rotate(0)\"><text style=\"\" x=\"15.00\" y=\"2.81\">r0</text></g><g transform=\"translate(194.58,62.80)rotate(0)\"><text style=\"\" x=\"15.00\" y=\"2.81\">0</text></g></g></g></g></g></svg><div class=\"toyplot-behavior\"><script>(function()\n",
       "{\n",
       "var modules={};\n",
       "})();</script></div></div>"
      ]
     },
     "metadata": {},
     "output_type": "display_data"
    }
   ],
   "source": [
    "net.draw(ts='s', node_labels=(\"name\", 0, 0));"
   ]
  },
  {
   "cell_type": "code",
   "execution_count": null,
   "metadata": {},
   "outputs": [],
   "source": []
  },
  {
   "cell_type": "code",
   "execution_count": null,
   "metadata": {},
   "outputs": [],
   "source": []
  },
  {
   "cell_type": "code",
   "execution_count": 112,
   "metadata": {},
   "outputs": [],
   "source": [
    "t, a = toytree.utils.parse_network(net, False)"
   ]
  },
  {
   "cell_type": "code",
   "execution_count": 18,
   "metadata": {},
   "outputs": [
    {
     "ename": "NameError",
     "evalue": "name 't' is not defined",
     "output_type": "error",
     "traceback": [
      "\u001b[0;31m---------------------------------------------------------------------------\u001b[0m",
      "\u001b[0;31mNameError\u001b[0m                                 Traceback (most recent call last)",
      "\u001b[0;32m<ipython-input-18-310283a27716>\u001b[0m in \u001b[0;36m<module>\u001b[0;34m\u001b[0m\n\u001b[0;32m----> 1\u001b[0;31m \u001b[0mt\u001b[0m\u001b[0;34m.\u001b[0m\u001b[0mroot\u001b[0m\u001b[0;34m(\u001b[0m\u001b[0;34m\"r7\"\u001b[0m\u001b[0;34m)\u001b[0m\u001b[0;34m.\u001b[0m\u001b[0mdraw\u001b[0m\u001b[0;34m(\u001b[0m\u001b[0mts\u001b[0m\u001b[0;34m=\u001b[0m\u001b[0;34m's'\u001b[0m\u001b[0;34m,\u001b[0m \u001b[0mnode_labels\u001b[0m\u001b[0;34m=\u001b[0m\u001b[0;34m\"name\"\u001b[0m\u001b[0;34m)\u001b[0m\u001b[0;31m#, admixture_edges=a.values());\u001b[0m\u001b[0;34m\u001b[0m\u001b[0;34m\u001b[0m\u001b[0m\n\u001b[0m",
      "\u001b[0;31mNameError\u001b[0m: name 't' is not defined"
     ]
    }
   ],
   "source": [
    "t.root(\"r7\").draw(ts='s', node_labels=\"name\")#, admixture_edges=a.values());"
   ]
  },
  {
   "cell_type": "code",
   "execution_count": 111,
   "metadata": {},
   "outputs": [
    {
     "name": "stdout",
     "output_type": "stream",
     "text": [
      "[0 1 2 3 4 5 6 7 8 9 10 11 12 13 14 15 16]\n"
     ]
    },
    {
     "data": {
      "text/html": [
       "<div class=\"toyplot\" id=\"t89fe0e9130814b01b5558bbeda3add1d\" style=\"text-align:center\"><svg class=\"toyplot-canvas-Canvas\" height=\"275.0px\" id=\"ta8acfc9487704a1baecc8f7a653d4a0d\" preserveAspectRatio=\"xMidYMid meet\" style=\"background-color:transparent;border-color:#292724;border-style:none;border-width:1.0;fill:rgb(16.1%,15.3%,14.1%);fill-opacity:1.0;font-family:Helvetica;font-size:12px;opacity:1.0;stroke:rgb(16.1%,15.3%,14.1%);stroke-opacity:1.0;stroke-width:1.0\" viewBox=\"0 0 260.0 275.0\" width=\"260.0px\" xmlns=\"http://www.w3.org/2000/svg\" xmlns:toyplot=\"http://www.sandia.gov/toyplot\" xmlns:xlink=\"http://www.w3.org/1999/xlink\"><g class=\"toyplot-coordinates-Cartesian\" id=\"te6df6dedd16f4902a317ccf917666276\"><clipPath id=\"t61b5ae59ed8f4cd8b523b5d4ce0d502d\"><rect height=\"215.0\" width=\"200.0\" x=\"30.0\" y=\"30.0\"></rect></clipPath><g clip-path=\"url(#t61b5ae59ed8f4cd8b523b5d4ce0d502d)\"><g class=\"toytree-mark-Toytree\" id=\"t37c69fc8cde7449393aa5a23c904bf34\"><g class=\"toytree-Edges\" style=\"fill:none;stroke:rgb(14.9%,14.9%,14.9%);stroke-linecap:round;stroke-opacity:1;stroke-width:2\"><path d=\"M 62.4 84.0 L 62.4 105.2 L 81.3 105.2\" id=\"16,15\"></path><path d=\"M 81.3 105.2 L 81.3 126.2 L 100.2 126.2\" id=\"15,14\"></path><path d=\"M 100.2 126.2 L 100.2 146.8 L 119.0 146.8\" id=\"14,13\"></path><path d=\"M 119.0 146.8 L 119.0 166.8 L 137.9 166.8\" id=\"13,12\"></path><path d=\"M 137.9 166.8 L 137.9 148.2 L 175.7 148.2\" id=\"12,11\"></path><path d=\"M 137.9 166.8 L 137.9 185.5 L 156.8 185.5\" id=\"12,10\"></path><path d=\"M 156.8 185.5 L 156.8 169.5 L 175.7 169.5\" id=\"10,9\"></path><path d=\"M 156.8 185.5 L 156.8 201.5 L 175.7 201.5\" id=\"10,8\"></path><path d=\"M 62.4 84.0 L 62.4 62.8 L 194.6 62.8\" id=\"16,7\"></path><path d=\"M 81.3 105.2 L 81.3 84.1 L 194.6 84.1\" id=\"15,6\"></path><path d=\"M 100.2 126.2 L 100.2 105.5 L 194.6 105.5\" id=\"14,5\"></path><path d=\"M 119.0 146.8 L 119.0 126.8 L 194.6 126.8\" id=\"13,4\"></path><path d=\"M 175.7 148.2 L 175.7 148.2 L 194.6 148.2\" id=\"11,3\"></path><path d=\"M 175.7 169.5 L 175.7 169.5 L 194.6 169.5\" id=\"9,2\"></path><path d=\"M 175.7 201.5 L 175.7 190.9 L 194.6 190.9\" id=\"8,1\"></path><path d=\"M 175.7 201.5 L 175.7 212.2 L 194.6 212.2\" id=\"8,0\"></path></g><g class=\"toytree-AdmixEdges\" style=\"fill:none;font-size:14px;stroke:rgba(90.6%,54.1%,76.5%,1.000);stroke-linecap:round;stroke-opacity:0.6;stroke-width:5\"><path d=\"M 194.6 148.2 L 185.1 148.2 L 185.1 169.5 L 175.7 169.5\" style=\"stroke:rgb(98.8%,55.3%,38.4%);stroke-opacity:0.7\"></path><text style=\"fill:#262626;fill-opacity:1.0;stroke:none;stroke-opacity:0.7;text-anchor:middle\" x=\"185.13\" y=\"170.84\">0.045</text></g><g class=\"toytree-Nodes\" style=\"fill:rgb(82.7%,82.7%,82.7%);fill-opacity:1.0;stroke:rgb(14.9%,14.9%,14.9%);stroke-opacity:1.0;stroke-width:1.5\"><g id=\"node-0\" transform=\"translate(194.577,212.195)\"><circle r=\"7.5\"></circle></g><g id=\"node-1\" transform=\"translate(194.577,190.854)\"><circle r=\"7.5\"></circle></g><g id=\"node-2\" transform=\"translate(194.577,169.512)\"><circle r=\"7.5\"></circle></g><g id=\"node-3\" transform=\"translate(194.577,148.171)\"><circle r=\"7.5\"></circle></g><g id=\"node-4\" transform=\"translate(194.577,126.829)\"><circle r=\"7.5\"></circle></g><g id=\"node-5\" transform=\"translate(194.577,105.488)\"><circle r=\"7.5\"></circle></g><g id=\"node-6\" transform=\"translate(194.577,84.146)\"><circle r=\"7.5\"></circle></g><g id=\"node-7\" transform=\"translate(194.577,62.805)\"><circle r=\"7.5\"></circle></g><g id=\"node-8\" transform=\"translate(175.693,201.524)\"><circle r=\"7.5\"></circle></g><g id=\"node-9\" transform=\"translate(175.693,169.512)\"><circle r=\"7.5\"></circle></g><g id=\"node-10\" transform=\"translate(156.810,185.518)\"><circle r=\"7.5\"></circle></g><g id=\"node-11\" transform=\"translate(175.693,148.171)\"><circle r=\"7.5\"></circle></g><g id=\"node-12\" transform=\"translate(137.926,166.845)\"><circle r=\"7.5\"></circle></g><g id=\"node-13\" transform=\"translate(119.043,146.837)\"><circle r=\"7.5\"></circle></g><g id=\"node-14\" transform=\"translate(100.159,126.162)\"><circle r=\"7.5\"></circle></g><g id=\"node-15\" transform=\"translate(81.276,105.154)\"><circle r=\"7.5\"></circle></g><g id=\"node-16\" transform=\"translate(62.392,83.980)\"><circle r=\"7.5\"></circle></g></g><g class=\"toytree-NodeLabels\" style=\"fill:rgb(14.9%,14.9%,14.9%);fill-opacity:1.0;font-size:9px;stroke:none\"><g transform=\"translate(192.07,214.49)\"><text>0</text></g><g transform=\"translate(192.07,193.15)\"><text>1</text></g><g transform=\"translate(192.07,171.81)\"><text>2</text></g><g transform=\"translate(192.07,150.47)\"><text>3</text></g><g transform=\"translate(192.07,129.13)\"><text>4</text></g><g transform=\"translate(192.07,107.79)\"><text>5</text></g><g transform=\"translate(192.07,86.45)\"><text>6</text></g><g transform=\"translate(192.07,65.10)\"><text>7</text></g><g transform=\"translate(173.19,203.82)\"><text>8</text></g><g transform=\"translate(173.19,171.81)\"><text>9</text></g><g transform=\"translate(151.81,187.82)\"><text>10</text></g><g transform=\"translate(170.69,150.47)\"><text>11</text></g><g transform=\"translate(132.92,169.14)\"><text>12</text></g><g transform=\"translate(114.04,149.14)\"><text>13</text></g><g transform=\"translate(95.16,128.46)\"><text>14</text></g><g transform=\"translate(76.27,107.45)\"><text>15</text></g><g transform=\"translate(57.39,86.28)\"><text>16</text></g></g><g class=\"toytree-TipLabels\" style=\"fill:rgb(14.9%,14.9%,14.9%);fill-opacity:1.0;font-family:helvetica;font-size:11px;font-weight:normal;stroke:none;white-space:pre\"><g transform=\"translate(194.58,212.20)rotate(0)\"><text style=\"\" x=\"15.00\" y=\"2.81\">r0</text></g><g transform=\"translate(194.58,190.85)rotate(0)\"><text style=\"\" x=\"15.00\" y=\"2.81\">r1</text></g><g transform=\"translate(194.58,169.51)rotate(0)\"><text style=\"\" x=\"15.00\" y=\"2.81\">r2</text></g><g transform=\"translate(194.58,148.17)rotate(0)\"><text style=\"\" x=\"15.00\" y=\"2.81\">r3</text></g><g transform=\"translate(194.58,126.83)rotate(0)\"><text style=\"\" x=\"15.00\" y=\"2.81\">r4</text></g><g transform=\"translate(194.58,105.49)rotate(0)\"><text style=\"\" x=\"15.00\" y=\"2.81\">r5</text></g><g transform=\"translate(194.58,84.15)rotate(0)\"><text style=\"\" x=\"15.00\" y=\"2.81\">r6</text></g><g transform=\"translate(194.58,62.80)rotate(0)\"><text style=\"\" x=\"15.00\" y=\"2.81\">r7</text></g></g></g></g></g></svg><div class=\"toyplot-behavior\"><script>(function()\n",
       "{\n",
       "var modules={};\n",
       "})();</script></div></div>"
      ]
     },
     "metadata": {},
     "output_type": "display_data"
    }
   ],
   "source": [
    "t.root(\"r7\").draw(ts='s', admixture_edges=a.values());"
   ]
  },
  {
   "cell_type": "code",
   "execution_count": 92,
   "metadata": {},
   "outputs": [],
   "source": [
    "# trim off loglik and anything after it (TODO: keep loglik)\n",
    "if \";\" in net:\n",
    "    net = net.split(\";\")[0] + ';'\n",
    "\n",
    "# sub :xxx:: to be ::: b/c I don't care about admix edge bls\n",
    "net = re.sub(r\":\\d.\\w*::\", \":::\", net)\n",
    "\n",
    "# change H nodes to proper format\n",
    "while \",#\" in net:\n",
    "    pre, post = net.split(\",#\", 1)\n",
    "    npre, npost = post.split(\")\", 1)\n",
    "    newpre = npre.split(\":\")[0] + \"-\" + npre.split(\":\")[-1]\n",
    "    net = pre + \")#\" + newpre + npost\n",
    "net = net.replace(\":::\", \"-\")\n",
    "\n",
    "# parse cleaned newick and set empty gamma on all nodes\n",
    "netw = toytree.tree(net, tree_format=1)"
   ]
  },
  {
   "cell_type": "code",
   "execution_count": 93,
   "metadata": {},
   "outputs": [
    {
     "data": {
      "text/plain": [
       "'(r1,r0,((r2)#H9-0.04516105523785436:6.929703195552209,((((r6,r7):4.068676529383039,r5):7.418582484128194,r4):6.679300646475643,(r3)#H9-0.9548389447621456):6.008462884499951):3.9938608194551755);'"
      ]
     },
     "execution_count": 93,
     "metadata": {},
     "output_type": "execute_result"
    }
   ],
   "source": [
    "net"
   ]
  },
  {
   "cell_type": "code",
   "execution_count": null,
   "metadata": {},
   "outputs": [],
   "source": []
  },
  {
   "cell_type": "code",
   "execution_count": 62,
   "metadata": {},
   "outputs": [
    {
     "data": {
      "text/plain": [
       "'((r0,(((((r7,r6):2.6961453026692572,r5):3.5330063916083363,r4):3.763808326511525,r3):2.4250100634115337,(r2)#H9:::0.9671081887860337):9.106387446563742):0.20143201161569013,r1,#H9:::0.03289181121396635);'"
      ]
     },
     "execution_count": 62,
     "metadata": {},
     "output_type": "execute_result"
    }
   ],
   "source": [
    "import re\n",
    "if \";\" in net:\n",
    "    net = net.split(\";\")[0] + ';'\n",
    "net = re.sub(r\":\\d.\\w*::\", \":::\", net)\n",
    "net"
   ]
  },
  {
   "cell_type": "code",
   "execution_count": 63,
   "metadata": {},
   "outputs": [
    {
     "data": {
      "text/plain": [
       "('((r0,(((((r7,r6):2.6961453026692572,r5):3.5330063916083363,r4):3.763808326511525,r3):2.4250100634115337,(r2)#H9:::0.9671081887860337):9.106387446563742):0.20143201161569013,r1',\n",
       " 'H9:::0.03289181121396635);')"
      ]
     },
     "execution_count": 63,
     "metadata": {},
     "output_type": "execute_result"
    }
   ],
   "source": [
    "pre, post = net.split(\",#\", 1)\n",
    "pre, post"
   ]
  },
  {
   "cell_type": "code",
   "execution_count": 64,
   "metadata": {},
   "outputs": [
    {
     "data": {
      "text/plain": [
       "('H9:::0.03289181121396635', ';')"
      ]
     },
     "execution_count": 64,
     "metadata": {},
     "output_type": "execute_result"
    }
   ],
   "source": [
    "npre, npost = post.split(\")\", 1)\n",
    "npre, npost"
   ]
  },
  {
   "cell_type": "code",
   "execution_count": 65,
   "metadata": {},
   "outputs": [
    {
     "data": {
      "text/plain": [
       "'H9-0.03289181121396635'"
      ]
     },
     "execution_count": 65,
     "metadata": {},
     "output_type": "execute_result"
    }
   ],
   "source": [
    "newpre = npre.split(\":\")[0] + \"-\" + npre.split(\":\")[-1]\n",
    "newpre"
   ]
  },
  {
   "cell_type": "code",
   "execution_count": 66,
   "metadata": {},
   "outputs": [
    {
     "data": {
      "text/plain": [
       "'((r0,(((((r7,r6):2.6961453026692572,r5):3.5330063916083363,r4):3.763808326511525,r3):2.4250100634115337,(r2)#H9:::0.9671081887860337):9.106387446563742):0.20143201161569013,r1)#H9-0.03289181121396635;'"
      ]
     },
     "execution_count": 66,
     "metadata": {},
     "output_type": "execute_result"
    }
   ],
   "source": [
    "net = pre + \")#\" + newpre + npost\n",
    "net"
   ]
  },
  {
   "cell_type": "code",
   "execution_count": 67,
   "metadata": {},
   "outputs": [
    {
     "ename": "NewickError",
     "evalue": "Unexpected newick format #H9:::0.9671081887860337",
     "output_type": "error",
     "traceback": [
      "\u001b[0;31m---------------------------------------------------------------------------\u001b[0m",
      "\u001b[0;31mNewickError\u001b[0m                               Traceback (most recent call last)",
      "\u001b[0;32m<ipython-input-67-7dc5a00df41a>\u001b[0m in \u001b[0;36m<module>\u001b[0;34m\u001b[0m\n\u001b[0;32m----> 1\u001b[0;31m \u001b[0mtoytree\u001b[0m\u001b[0;34m.\u001b[0m\u001b[0mtree\u001b[0m\u001b[0;34m(\u001b[0m\u001b[0mnet\u001b[0m\u001b[0;34m,\u001b[0m \u001b[0mtree_format\u001b[0m\u001b[0;34m=\u001b[0m\u001b[0;36m1\u001b[0m\u001b[0;34m)\u001b[0m\u001b[0;34m\u001b[0m\u001b[0;34m\u001b[0m\u001b[0m\n\u001b[0m",
      "\u001b[0;32m~/Documents/toytree/toytree/Toytree.py\u001b[0m in \u001b[0;36m__init__\u001b[0;34m(self, newick, tree_format, **kwargs)\u001b[0m\n\u001b[1;32m     68\u001b[0m         \u001b[0;31m# parse a str, URL, or file\u001b[0m\u001b[0;34m\u001b[0m\u001b[0;34m\u001b[0m\u001b[0;34m\u001b[0m\u001b[0m\n\u001b[1;32m     69\u001b[0m         \u001b[0;32melif\u001b[0m \u001b[0misinstance\u001b[0m\u001b[0;34m(\u001b[0m\u001b[0mnewick\u001b[0m\u001b[0;34m,\u001b[0m \u001b[0;34m(\u001b[0m\u001b[0mstr\u001b[0m\u001b[0;34m,\u001b[0m \u001b[0mbytes\u001b[0m\u001b[0;34m)\u001b[0m\u001b[0;34m)\u001b[0m\u001b[0;34m:\u001b[0m\u001b[0;34m\u001b[0m\u001b[0;34m\u001b[0m\u001b[0m\n\u001b[0;32m---> 70\u001b[0;31m             \u001b[0mself\u001b[0m\u001b[0;34m.\u001b[0m\u001b[0mtreenode\u001b[0m \u001b[0;34m=\u001b[0m \u001b[0mTreeParser\u001b[0m\u001b[0;34m(\u001b[0m\u001b[0mnewick\u001b[0m\u001b[0;34m,\u001b[0m \u001b[0mtree_format\u001b[0m\u001b[0;34m)\u001b[0m\u001b[0;34m.\u001b[0m\u001b[0mtreenodes\u001b[0m\u001b[0;34m[\u001b[0m\u001b[0;36m0\u001b[0m\u001b[0;34m]\u001b[0m\u001b[0;34m\u001b[0m\u001b[0;34m\u001b[0m\u001b[0m\n\u001b[0m\u001b[1;32m     71\u001b[0m \u001b[0;34m\u001b[0m\u001b[0m\n\u001b[1;32m     72\u001b[0m         \u001b[0;31m# make an empty tree\u001b[0m\u001b[0;34m\u001b[0m\u001b[0;34m\u001b[0m\u001b[0;34m\u001b[0m\u001b[0m\n",
      "\u001b[0;32m~/Documents/toytree/toytree/TreeParser.py\u001b[0m in \u001b[0;36m__init__\u001b[0;34m(self, intree, tree_format, multitree, debug)\u001b[0m\n\u001b[1;32m     78\u001b[0m         \u001b[0;31m# parse intree\u001b[0m\u001b[0;34m\u001b[0m\u001b[0;34m\u001b[0m\u001b[0;34m\u001b[0m\u001b[0m\n\u001b[1;32m     79\u001b[0m         \u001b[0;32mif\u001b[0m \u001b[0;32mnot\u001b[0m \u001b[0mself\u001b[0m\u001b[0;34m.\u001b[0m\u001b[0mdebug\u001b[0m\u001b[0;34m:\u001b[0m\u001b[0;34m\u001b[0m\u001b[0;34m\u001b[0m\u001b[0m\n\u001b[0;32m---> 80\u001b[0;31m             \u001b[0mself\u001b[0m\u001b[0;34m.\u001b[0m\u001b[0m_run\u001b[0m\u001b[0;34m(\u001b[0m\u001b[0;34m)\u001b[0m\u001b[0;34m\u001b[0m\u001b[0;34m\u001b[0m\u001b[0m\n\u001b[0m\u001b[1;32m     81\u001b[0m \u001b[0;34m\u001b[0m\u001b[0m\n\u001b[1;32m     82\u001b[0m \u001b[0;34m\u001b[0m\u001b[0m\n",
      "\u001b[0;32m~/Documents/toytree/toytree/TreeParser.py\u001b[0m in \u001b[0;36m_run\u001b[0;34m(self)\u001b[0m\n\u001b[1;32m     94\u001b[0m \u001b[0;34m\u001b[0m\u001b[0m\n\u001b[1;32m     95\u001b[0m             \u001b[0;31m# parse newick strings to treenodes list\u001b[0m\u001b[0;34m\u001b[0m\u001b[0;34m\u001b[0m\u001b[0;34m\u001b[0m\u001b[0m\n\u001b[0;32m---> 96\u001b[0;31m             \u001b[0mself\u001b[0m\u001b[0;34m.\u001b[0m\u001b[0mget_treenodes\u001b[0m\u001b[0;34m(\u001b[0m\u001b[0;34m)\u001b[0m\u001b[0;34m\u001b[0m\u001b[0;34m\u001b[0m\u001b[0m\n\u001b[0m\u001b[1;32m     97\u001b[0m \u001b[0;34m\u001b[0m\u001b[0m\n\u001b[1;32m     98\u001b[0m             \u001b[0;31m# apply names from tdict\u001b[0m\u001b[0;34m\u001b[0m\u001b[0;34m\u001b[0m\u001b[0;34m\u001b[0m\u001b[0m\n",
      "\u001b[0;32m~/Documents/toytree/toytree/TreeParser.py\u001b[0m in \u001b[0;36mget_treenodes\u001b[0;34m(self)\u001b[0m\n\u001b[1;32m    162\u001b[0m \u001b[0;34m\u001b[0m\u001b[0m\n\u001b[1;32m    163\u001b[0m             \u001b[0;31m# extract one tree\u001b[0m\u001b[0;34m\u001b[0m\u001b[0;34m\u001b[0m\u001b[0;34m\u001b[0m\u001b[0m\n\u001b[0;32m--> 164\u001b[0;31m             \u001b[0mself\u001b[0m\u001b[0;34m.\u001b[0m\u001b[0mtreenodes\u001b[0m\u001b[0;34m.\u001b[0m\u001b[0mappend\u001b[0m\u001b[0;34m(\u001b[0m\u001b[0mextractor\u001b[0m\u001b[0;34m.\u001b[0m\u001b[0mnewick_from_string\u001b[0m\u001b[0;34m(\u001b[0m\u001b[0;34m)\u001b[0m\u001b[0;34m)\u001b[0m\u001b[0;34m\u001b[0m\u001b[0;34m\u001b[0m\u001b[0m\n\u001b[0m\u001b[1;32m    165\u001b[0m \u001b[0;34m\u001b[0m\u001b[0m\n\u001b[1;32m    166\u001b[0m         \u001b[0;32melse\u001b[0m\u001b[0;34m:\u001b[0m\u001b[0;34m\u001b[0m\u001b[0;34m\u001b[0m\u001b[0m\n",
      "\u001b[0;32m~/Documents/toytree/toytree/TreeParser.py\u001b[0m in \u001b[0;36mnewick_from_string\u001b[0;34m(self)\u001b[0m\n\u001b[1;32m    265\u001b[0m                         \u001b[0mclosing_internal\u001b[0m \u001b[0;34m=\u001b[0m \u001b[0mclosing_internal\u001b[0m\u001b[0;34m.\u001b[0m\u001b[0mrstrip\u001b[0m\u001b[0;34m(\u001b[0m\u001b[0;34m\";\"\u001b[0m\u001b[0;34m)\u001b[0m\u001b[0;34m\u001b[0m\u001b[0;34m\u001b[0m\u001b[0m\n\u001b[1;32m    266\u001b[0m                         \u001b[0;31m# read internal node data and go up one level\u001b[0m\u001b[0;34m\u001b[0m\u001b[0;34m\u001b[0m\u001b[0;34m\u001b[0m\u001b[0m\n\u001b[0;32m--> 267\u001b[0;31m                         \u001b[0mself\u001b[0m\u001b[0;34m.\u001b[0m\u001b[0mapply_node_data\u001b[0m\u001b[0;34m(\u001b[0m\u001b[0mclosing_internal\u001b[0m\u001b[0;34m,\u001b[0m \u001b[0;34m\"internal\"\u001b[0m\u001b[0;34m)\u001b[0m\u001b[0;34m\u001b[0m\u001b[0;34m\u001b[0m\u001b[0m\n\u001b[0m\u001b[1;32m    268\u001b[0m                         \u001b[0mself\u001b[0m\u001b[0;34m.\u001b[0m\u001b[0mcurrent_parent\u001b[0m \u001b[0;34m=\u001b[0m \u001b[0mself\u001b[0m\u001b[0;34m.\u001b[0m\u001b[0mcurrent_parent\u001b[0m\u001b[0;34m.\u001b[0m\u001b[0mup\u001b[0m\u001b[0;34m\u001b[0m\u001b[0;34m\u001b[0m\u001b[0m\n\u001b[1;32m    269\u001b[0m         \u001b[0;32mreturn\u001b[0m \u001b[0mself\u001b[0m\u001b[0;34m.\u001b[0m\u001b[0mroot\u001b[0m\u001b[0;34m\u001b[0m\u001b[0;34m\u001b[0m\u001b[0m\n",
      "\u001b[0;32m~/Documents/toytree/toytree/TreeParser.py\u001b[0m in \u001b[0;36mapply_node_data\u001b[0;34m(self, subnw, node_type)\u001b[0m\n\u001b[1;32m    327\u001b[0m                     \u001b[0mself\u001b[0m\u001b[0;34m.\u001b[0m\u001b[0mcurrent_node\u001b[0m\u001b[0;34m.\u001b[0m\u001b[0madd_feature\u001b[0m\u001b[0;34m(\u001b[0m\u001b[0mfname\u001b[0m\u001b[0;34m,\u001b[0m \u001b[0mfvalue\u001b[0m\u001b[0;34m)\u001b[0m\u001b[0;34m\u001b[0m\u001b[0;34m\u001b[0m\u001b[0m\n\u001b[1;32m    328\u001b[0m         \u001b[0;32melse\u001b[0m\u001b[0;34m:\u001b[0m\u001b[0;34m\u001b[0m\u001b[0;34m\u001b[0m\u001b[0m\n\u001b[0;32m--> 329\u001b[0;31m             \u001b[0;32mraise\u001b[0m \u001b[0mNewickError\u001b[0m\u001b[0;34m(\u001b[0m\u001b[0;34m\"Unexpected newick format {}\"\u001b[0m\u001b[0;34m.\u001b[0m\u001b[0mformat\u001b[0m\u001b[0;34m(\u001b[0m\u001b[0msubnw\u001b[0m\u001b[0;34m)\u001b[0m\u001b[0;34m)\u001b[0m\u001b[0;34m\u001b[0m\u001b[0;34m\u001b[0m\u001b[0m\n\u001b[0m\u001b[1;32m    330\u001b[0m \u001b[0;34m\u001b[0m\u001b[0m\n\u001b[1;32m    331\u001b[0m \u001b[0;34m\u001b[0m\u001b[0m\n",
      "\u001b[0;31mNewickError\u001b[0m: Unexpected newick format #H9:::0.9671081887860337"
     ]
    }
   ],
   "source": [
    "toytree.tree(net, tree_format=1)"
   ]
  },
  {
   "cell_type": "code",
   "execution_count": null,
   "metadata": {},
   "outputs": [],
   "source": []
  }
 ],
 "metadata": {
  "kernelspec": {
   "display_name": "Python 3",
   "language": "python",
   "name": "python3"
  },
  "language_info": {
   "codemirror_mode": {
    "name": "ipython",
    "version": 3
   },
   "file_extension": ".py",
   "mimetype": "text/x-python",
   "name": "python",
   "nbconvert_exporter": "python",
   "pygments_lexer": "ipython3",
   "version": "3.6.7"
  }
 },
 "nbformat": 4,
 "nbformat_minor": 4
}
