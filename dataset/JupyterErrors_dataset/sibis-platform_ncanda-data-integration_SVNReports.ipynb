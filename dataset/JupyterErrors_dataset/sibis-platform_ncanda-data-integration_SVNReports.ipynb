{
 "cells": [
  {
   "cell_type": "markdown",
   "metadata": {},
   "source": [
    "# SVN Reports Dashboard\n",
    "Reporting import/upload pipelines"
   ]
  },
  {
   "cell_type": "markdown",
   "metadata": {
    "tags": [
     "remove_cell"
    ]
   },
   "source": [
    "### Import Libraries\n",
    "Libraries necessary to parse through each dashboard"
   ]
  },
  {
   "cell_type": "code",
   "execution_count": 1,
   "metadata": {
    "tags": [
     "remove_cell"
    ]
   },
   "outputs": [],
   "source": [
    "import datetime\n",
    "from IPython.display import display, Markdown, Latex\n",
    "import json\n",
    "import numpy as np\n",
    "import pandas as pd"
   ]
  },
  {
   "cell_type": "markdown",
   "metadata": {
    "tags": [
     "remove_cell"
    ]
   },
   "source": [
    "### Parametrization\n",
    "Adding parameters for Papermill"
   ]
  },
  {
   "cell_type": "code",
   "execution_count": 2,
   "metadata": {
    "tags": [
     "parameters"
    ]
   },
   "outputs": [],
   "source": [
    "site: str"
   ]
  },
  {
   "cell_type": "markdown",
   "metadata": {
    "tags": [
     "remove_cell"
    ]
   },
   "source": [
    "### Setting Column Names\n",
    "Use an existing JSON file"
   ]
  },
  {
   "cell_type": "code",
   "execution_count": 3,
   "metadata": {
    "tags": [
     "remove_cell"
    ]
   },
   "outputs": [
    {
     "ename": "FileNotFoundError",
     "evalue": "[Errno 2] No such file or directory: 'reference/svn_col_names.json'",
     "output_type": "error",
     "traceback": [
      "\u001b[0;31m---------------------------------------------------------------------------\u001b[0m",
      "\u001b[0;31mFileNotFoundError\u001b[0m                         Traceback (most recent call last)",
      "\u001b[0;32m<ipython-input-3-21187b8b6b12>\u001b[0m in \u001b[0;36m<module>\u001b[0;34m\u001b[0m\n\u001b[1;32m      4\u001b[0m     \u001b[0;32mreturn\u001b[0m \u001b[0mdata\u001b[0m\u001b[0;34m[\u001b[0m\u001b[0;36m0\u001b[0m\u001b[0;34m]\u001b[0m\u001b[0;34m\u001b[0m\u001b[0;34m\u001b[0m\u001b[0m\n\u001b[1;32m      5\u001b[0m \u001b[0;34m\u001b[0m\u001b[0m\n\u001b[0;32m----> 6\u001b[0;31m \u001b[0mnew_column_names\u001b[0m \u001b[0;34m=\u001b[0m \u001b[0mget_special_columns\u001b[0m\u001b[0;34m(\u001b[0m\u001b[0;34m\"reference/svn_col_names.json\"\u001b[0m\u001b[0;34m)\u001b[0m\u001b[0;34m\u001b[0m\u001b[0;34m\u001b[0m\u001b[0m\n\u001b[0m",
      "\u001b[0;32m<ipython-input-3-21187b8b6b12>\u001b[0m in \u001b[0;36mget_special_columns\u001b[0;34m(file_path)\u001b[0m\n\u001b[1;32m      1\u001b[0m \u001b[0;32mdef\u001b[0m \u001b[0mget_special_columns\u001b[0m\u001b[0;34m(\u001b[0m\u001b[0mfile_path\u001b[0m\u001b[0;34m)\u001b[0m\u001b[0;34m:\u001b[0m\u001b[0;34m\u001b[0m\u001b[0;34m\u001b[0m\u001b[0m\n\u001b[0;32m----> 2\u001b[0;31m     \u001b[0mf\u001b[0m \u001b[0;34m=\u001b[0m \u001b[0mopen\u001b[0m\u001b[0;34m(\u001b[0m\u001b[0mfile_path\u001b[0m\u001b[0;34m,\u001b[0m \u001b[0;34m\"r\"\u001b[0m\u001b[0;34m)\u001b[0m\u001b[0;34m\u001b[0m\u001b[0;34m\u001b[0m\u001b[0m\n\u001b[0m\u001b[1;32m      3\u001b[0m     \u001b[0mdata\u001b[0m \u001b[0;34m=\u001b[0m \u001b[0mjson\u001b[0m\u001b[0;34m.\u001b[0m\u001b[0mload\u001b[0m\u001b[0;34m(\u001b[0m\u001b[0mf\u001b[0m\u001b[0;34m)\u001b[0m\u001b[0;34m\u001b[0m\u001b[0;34m\u001b[0m\u001b[0m\n\u001b[1;32m      4\u001b[0m     \u001b[0;32mreturn\u001b[0m \u001b[0mdata\u001b[0m\u001b[0;34m[\u001b[0m\u001b[0;36m0\u001b[0m\u001b[0;34m]\u001b[0m\u001b[0;34m\u001b[0m\u001b[0;34m\u001b[0m\u001b[0m\n\u001b[1;32m      5\u001b[0m \u001b[0;34m\u001b[0m\u001b[0m\n",
      "\u001b[0;31mFileNotFoundError\u001b[0m: [Errno 2] No such file or directory: 'reference/svn_col_names.json'"
     ]
    }
   ],
   "source": [
    "def get_special_columns(file_path):\n",
    "    f = open(file_path, \"r\")\n",
    "    data = json.load(f)\n",
    "    return data[0]\n",
    "\n",
    "new_column_names = get_special_columns(\"/fs/ncanda-share/beta/chris/ncanda-data-integration/scripts/dashboards/reference/svn_col_names.json\")"
   ]
  },
  {
   "cell_type": "markdown",
   "metadata": {
    "tags": [
     "remove_cell"
    ]
   },
   "source": [
    "### Set up Table Styles\n",
    "Use `pandas.style` to set up some graphical styles for the main reports table."
   ]
  },
  {
   "cell_type": "code",
   "execution_count": 4,
   "metadata": {
    "tags": [
     "remove_cell"
    ]
   },
   "outputs": [],
   "source": [
    "table_styles = [{\n",
    "    'selector': 'td',\n",
    "    'props': [('background-color', '#FFFFFF'), ('color', '#000000')]\n",
    "}, \n",
    "{\n",
    "    'selector': 'th',\n",
    "    'props': [('background-color', '#000000'), ('color', '#FFFFFF')]\n",
    "}]\n",
    "\n",
    "def style_row(x):\n",
    "    # For the sla_percentage: row == 3\n",
    "    style = [None] * x.size\n",
    "    sample_series = pd.DataFrame(data=x).iloc[3]\n",
    "    for index, value in sample_series.items():\n",
    "        if (value > 1):\n",
    "            style[3] = \"color: red !important;\"\n",
    "            if (value > 10):\n",
    "                style[3] = style[3] + \" font-weight: bold;\"\n",
    "    return style"
   ]
  },
  {
   "cell_type": "markdown",
   "metadata": {
    "tags": [
     "remove_cell"
    ]
   },
   "source": [
    "### Define Functions\n",
    "Define functions to parse through each of the sites and print them to the screen"
   ]
  },
  {
   "cell_type": "code",
   "execution_count": 15,
   "metadata": {
    "tags": [
     "remove_cell"
    ]
   },
   "outputs": [],
   "source": [
    "# In future iterations, display path is:  '../../../../../log/status_reports/'\n",
    "def load_dataframe_and_display(file_name=None):\n",
    "    # Header and load in dataframe\n",
    "    display(Markdown('## SLA ' + file_name + ' Dashboard'))\n",
    "    df = pd.read_csv('/fs/ncanda-share/log/status_reports/sla_files/' + file_name.lower() + '.csv', parse_dates=['date_updated'])\n",
    "    durations = df['sla'].unique().tolist()\n",
    "    durations = np.sort(durations)\n",
    "    \n",
    "    # Categorize each report by SLA (3, 30, 3000 -> Dead)\n",
    "    for duration in durations:\n",
    "        # Find specific data subset and \n",
    "        duration_df = df.loc[df['sla'] == duration] # Find specific dataframe\n",
    "        duration_df = duration_df.rename(columns={'laptop':'Laptop'}, errors=\"raise\")\n",
    "        \n",
    "        # Create header\n",
    "        duration_str = str(duration) + '-Day'\n",
    "        if (duration == 3000):\n",
    "            duration_str = 'Dead'\n",
    "        display(Markdown(duration_str + ' SLA Laptop Report'))\n",
    "        \n",
    "        # Set index and update date format (latter is hacky -> can fix)\n",
    "        duration_df = duration_df.set_index(['Laptop'])\n",
    "        if (duration == 3):\n",
    "            duration_df['date_updated'] = duration_df['date_updated'].dt.strftime('%Y-%m-%d %H:%M')\n",
    "            duration_df['time_diff'] = duration_df['time_diff'].apply(lambda x: str(x)[:str(x).find(\".\") - 3])\n",
    "        else:\n",
    "            duration_df['date_updated'] = duration_df['date_updated'].dt.strftime('%Y-%m-%d')\n",
    "            duration_df['time_diff'] = duration_df['time_diff'].apply(lambda x: str(x)[:str(x).find(\"days\") + len(\"days\")])\n",
    "            \n",
    "        # Rename columns, style, and display\n",
    "        duration_df = duration_df.rename(columns=new_column_names)\n",
    "        se = duration_df.style.set_table_styles(table_styles).apply(lambda x: style_row(x), axis=1)\n",
    "        display(se)\n",
    "        \n",
    "def main():\n",
    "    load_dataframe_and_display(site)"
   ]
  },
  {
   "cell_type": "markdown",
   "metadata": {
    "tags": [
     "remove_cell"
    ]
   },
   "source": [
    "### Run all\n",
    "Run functions and produce dashboards for each site"
   ]
  },
  {
   "cell_type": "code",
   "execution_count": 16,
   "metadata": {
    "tags": []
   },
   "outputs": [
    {
     "data": {
      "text/markdown": [
       "## SLA reports Dashboard"
      ],
      "text/plain": [
       "<IPython.core.display.Markdown object>"
      ]
     },
     "metadata": {},
     "output_type": "display_data"
    },
    {
     "data": {
      "text/markdown": [
       "3-Day SLA Laptop Report"
      ],
      "text/plain": [
       "<IPython.core.display.Markdown object>"
      ]
     },
     "metadata": {},
     "output_type": "display_data"
    },
    {
     "data": {
      "text/html": [
       "<style  type=\"text/css\" >\n",
       "    #T_ed262_ td {\n",
       "          background-color: #FFFFFF;\n",
       "          color: #000000;\n",
       "    }    #T_ed262_ th {\n",
       "          background-color: #000000;\n",
       "          color: #FFFFFF;\n",
       "    }#T_ed262_row0_col3{\n",
       "            color:  red !important;\n",
       "        }</style><table id=\"T_ed262_\" ><thead>    <tr>        <th class=\"blank level0\" ></th>        <th class=\"col_heading level0 col0\" >Date Updated</th>        <th class=\"col_heading level0 col1\" >Time Difference</th>        <th class=\"col_heading level0 col2\" >SLA</th>        <th class=\"col_heading level0 col3\" >SLA %</th>    </tr>    <tr>        <th class=\"index_name level0\" >Laptop</th>        <th class=\"blank\" ></th>        <th class=\"blank\" ></th>        <th class=\"blank\" ></th>        <th class=\"blank\" ></th>    </tr></thead><tbody>\n",
       "                <tr>\n",
       "                        <th id=\"T_ed262_level0_row0\" class=\"row_heading level0 row0\" >ucsd51</th>\n",
       "                        <td id=\"T_ed262_row0_col0\" class=\"data row0 col0\" >2021-08-11 18:17</td>\n",
       "                        <td id=\"T_ed262_row0_col1\" class=\"data row0 col1\" >18 days 23:39</td>\n",
       "                        <td id=\"T_ed262_row0_col2\" class=\"data row0 col2\" >3</td>\n",
       "                        <td id=\"T_ed262_row0_col3\" class=\"data row0 col3\" >6.328596</td>\n",
       "            </tr>\n",
       "            <tr>\n",
       "                        <th id=\"T_ed262_level0_row1\" class=\"row_heading level0 row1\" >ucsd49</th>\n",
       "                        <td id=\"T_ed262_row1_col0\" class=\"data row1 col0\" >2021-08-28 19:03</td>\n",
       "                        <td id=\"T_ed262_row1_col1\" class=\"data row1 col1\" >1 days 22:53</td>\n",
       "                        <td id=\"T_ed262_row1_col2\" class=\"data row1 col2\" >3</td>\n",
       "                        <td id=\"T_ed262_row1_col3\" class=\"data row1 col3\" >0.651332</td>\n",
       "            </tr>\n",
       "    </tbody></table>"
      ],
      "text/plain": [
       "<pandas.io.formats.style.Styler at 0x7f85f0331ac0>"
      ]
     },
     "metadata": {},
     "output_type": "display_data"
    },
    {
     "data": {
      "text/markdown": [
       "30-Day SLA Laptop Report"
      ],
      "text/plain": [
       "<IPython.core.display.Markdown object>"
      ]
     },
     "metadata": {},
     "output_type": "display_data"
    },
    {
     "data": {
      "text/html": [
       "<style  type=\"text/css\" >\n",
       "    #T_f0a6c_ td {\n",
       "          background-color: #FFFFFF;\n",
       "          color: #000000;\n",
       "    }    #T_f0a6c_ th {\n",
       "          background-color: #000000;\n",
       "          color: #FFFFFF;\n",
       "    }#T_f0a6c_row0_col3,#T_f0a6c_row1_col3,#T_f0a6c_row2_col3,#T_f0a6c_row3_col3,#T_f0a6c_row4_col3,#T_f0a6c_row5_col3,#T_f0a6c_row6_col3,#T_f0a6c_row7_col3,#T_f0a6c_row8_col3,#T_f0a6c_row9_col3,#T_f0a6c_row10_col3,#T_f0a6c_row11_col3,#T_f0a6c_row12_col3,#T_f0a6c_row13_col3,#T_f0a6c_row14_col3,#T_f0a6c_row15_col3,#T_f0a6c_row16_col3,#T_f0a6c_row17_col3{\n",
       "            color:  red !important;\n",
       "             font-weight:  bold;\n",
       "        }#T_f0a6c_row18_col3,#T_f0a6c_row19_col3,#T_f0a6c_row20_col3,#T_f0a6c_row21_col3,#T_f0a6c_row22_col3{\n",
       "            color:  red !important;\n",
       "        }</style><table id=\"T_f0a6c_\" ><thead>    <tr>        <th class=\"blank level0\" ></th>        <th class=\"col_heading level0 col0\" >Date Updated</th>        <th class=\"col_heading level0 col1\" >Time Difference</th>        <th class=\"col_heading level0 col2\" >SLA</th>        <th class=\"col_heading level0 col3\" >SLA %</th>    </tr>    <tr>        <th class=\"index_name level0\" >Laptop</th>        <th class=\"blank\" ></th>        <th class=\"blank\" ></th>        <th class=\"blank\" ></th>        <th class=\"blank\" ></th>    </tr></thead><tbody>\n",
       "                <tr>\n",
       "                        <th id=\"T_f0a6c_level0_row0\" class=\"row_heading level0 row0\" >ucsd22</th>\n",
       "                        <td id=\"T_f0a6c_row0_col0\" class=\"data row0 col0\" >2018-04-04</td>\n",
       "                        <td id=\"T_f0a6c_row0_col1\" class=\"data row0 col1\" >1243 days</td>\n",
       "                        <td id=\"T_f0a6c_row0_col2\" class=\"data row0 col2\" >30</td>\n",
       "                        <td id=\"T_f0a6c_row0_col3\" class=\"data row0 col3\" >41.459945</td>\n",
       "            </tr>\n",
       "            <tr>\n",
       "                        <th id=\"T_f0a6c_level0_row1\" class=\"row_heading level0 row1\" >duke30</th>\n",
       "                        <td id=\"T_f0a6c_row1_col0\" class=\"data row1 col0\" >2018-04-10</td>\n",
       "                        <td id=\"T_f0a6c_row1_col1\" class=\"data row1 col1\" >1238 days</td>\n",
       "                        <td id=\"T_f0a6c_row1_col2\" class=\"data row1 col2\" >30</td>\n",
       "                        <td id=\"T_f0a6c_row1_col3\" class=\"data row1 col3\" >41.270811</td>\n",
       "            </tr>\n",
       "            <tr>\n",
       "                        <th id=\"T_f0a6c_level0_row2\" class=\"row_heading level0 row2\" >ohsu20</th>\n",
       "                        <td id=\"T_f0a6c_row2_col0\" class=\"data row2 col0\" >2018-04-16</td>\n",
       "                        <td id=\"T_f0a6c_row2_col1\" class=\"data row2 col1\" >1232 days</td>\n",
       "                        <td id=\"T_f0a6c_row2_col2\" class=\"data row2 col2\" >30</td>\n",
       "                        <td id=\"T_f0a6c_row2_col3\" class=\"data row2 col3\" >41.068996</td>\n",
       "            </tr>\n",
       "            <tr>\n",
       "                        <th id=\"T_f0a6c_level0_row3\" class=\"row_heading level0 row3\" >duke19</th>\n",
       "                        <td id=\"T_f0a6c_row3_col0\" class=\"data row3 col0\" >2018-04-17</td>\n",
       "                        <td id=\"T_f0a6c_row3_col1\" class=\"data row3 col1\" >1230 days</td>\n",
       "                        <td id=\"T_f0a6c_row3_col2\" class=\"data row3 col2\" >30</td>\n",
       "                        <td id=\"T_f0a6c_row3_col3\" class=\"data row3 col3\" >41.033103</td>\n",
       "            </tr>\n",
       "            <tr>\n",
       "                        <th id=\"T_f0a6c_level0_row4\" class=\"row_heading level0 row4\" >ohsu21</th>\n",
       "                        <td id=\"T_f0a6c_row4_col0\" class=\"data row4 col0\" >2018-04-20</td>\n",
       "                        <td id=\"T_f0a6c_row4_col1\" class=\"data row4 col1\" >1228 days</td>\n",
       "                        <td id=\"T_f0a6c_row4_col2\" class=\"data row4 col2\" >30</td>\n",
       "                        <td id=\"T_f0a6c_row4_col3\" class=\"data row4 col3\" >40.936611</td>\n",
       "            </tr>\n",
       "            <tr>\n",
       "                        <th id=\"T_f0a6c_level0_row5\" class=\"row_heading level0 row5\" >duke18</th>\n",
       "                        <td id=\"T_f0a6c_row5_col0\" class=\"data row5 col0\" >2018-04-28</td>\n",
       "                        <td id=\"T_f0a6c_row5_col1\" class=\"data row5 col1\" >1219 days</td>\n",
       "                        <td id=\"T_f0a6c_row5_col2\" class=\"data row5 col2\" >30</td>\n",
       "                        <td id=\"T_f0a6c_row5_col3\" class=\"data row5 col3\" >40.663691</td>\n",
       "            </tr>\n",
       "            <tr>\n",
       "                        <th id=\"T_f0a6c_level0_row6\" class=\"row_heading level0 row6\" >sri52</th>\n",
       "                        <td id=\"T_f0a6c_row6_col0\" class=\"data row6 col0\" >2018-09-27</td>\n",
       "                        <td id=\"T_f0a6c_row6_col1\" class=\"data row6 col1\" >1068 days</td>\n",
       "                        <td id=\"T_f0a6c_row6_col2\" class=\"data row6 col2\" >30</td>\n",
       "                        <td id=\"T_f0a6c_row6_col3\" class=\"data row6 col3\" >35.623180</td>\n",
       "            </tr>\n",
       "            <tr>\n",
       "                        <th id=\"T_f0a6c_level0_row7\" class=\"row_heading level0 row7\" >ohsu52</th>\n",
       "                        <td id=\"T_f0a6c_row7_col0\" class=\"data row7 col0\" >2018-10-05</td>\n",
       "                        <td id=\"T_f0a6c_row7_col1\" class=\"data row7 col1\" >1059 days</td>\n",
       "                        <td id=\"T_f0a6c_row7_col2\" class=\"data row7 col2\" >30</td>\n",
       "                        <td id=\"T_f0a6c_row7_col3\" class=\"data row7 col3\" >35.332718</td>\n",
       "            </tr>\n",
       "            <tr>\n",
       "                        <th id=\"T_f0a6c_level0_row8\" class=\"row_heading level0 row8\" >duke7</th>\n",
       "                        <td id=\"T_f0a6c_row8_col0\" class=\"data row8 col0\" >2019-03-18</td>\n",
       "                        <td id=\"T_f0a6c_row8_col1\" class=\"data row8 col1\" >896 days</td>\n",
       "                        <td id=\"T_f0a6c_row8_col2\" class=\"data row8 col2\" >30</td>\n",
       "                        <td id=\"T_f0a6c_row8_col3\" class=\"data row8 col3\" >29.868915</td>\n",
       "            </tr>\n",
       "            <tr>\n",
       "                        <th id=\"T_f0a6c_level0_row9\" class=\"row_heading level0 row9\" >duke31</th>\n",
       "                        <td id=\"T_f0a6c_row9_col0\" class=\"data row9 col0\" >2019-03-18</td>\n",
       "                        <td id=\"T_f0a6c_row9_col1\" class=\"data row9 col1\" >895 days</td>\n",
       "                        <td id=\"T_f0a6c_row9_col2\" class=\"data row9 col2\" >30</td>\n",
       "                        <td id=\"T_f0a6c_row9_col3\" class=\"data row9 col3\" >29.865957</td>\n",
       "            </tr>\n",
       "            <tr>\n",
       "                        <th id=\"T_f0a6c_level0_row10\" class=\"row_heading level0 row10\" >upmc51</th>\n",
       "                        <td id=\"T_f0a6c_row10_col0\" class=\"data row10 col0\" >2019-04-03</td>\n",
       "                        <td id=\"T_f0a6c_row10_col1\" class=\"data row10 col1\" >879 days</td>\n",
       "                        <td id=\"T_f0a6c_row10_col2\" class=\"data row10 col2\" >30</td>\n",
       "                        <td id=\"T_f0a6c_row10_col3\" class=\"data row10 col3\" >29.331486</td>\n",
       "            </tr>\n",
       "            <tr>\n",
       "                        <th id=\"T_f0a6c_level0_row11\" class=\"row_heading level0 row11\" >sri51</th>\n",
       "                        <td id=\"T_f0a6c_row11_col0\" class=\"data row11 col0\" >2019-04-08</td>\n",
       "                        <td id=\"T_f0a6c_row11_col1\" class=\"data row11 col1\" >875 days</td>\n",
       "                        <td id=\"T_f0a6c_row11_col2\" class=\"data row11 col2\" >30</td>\n",
       "                        <td id=\"T_f0a6c_row11_col3\" class=\"data row11 col3\" >29.167261</td>\n",
       "            </tr>\n",
       "            <tr>\n",
       "                        <th id=\"T_f0a6c_level0_row12\" class=\"row_heading level0 row12\" >sri50</th>\n",
       "                        <td id=\"T_f0a6c_row12_col0\" class=\"data row12 col0\" >2020-03-02</td>\n",
       "                        <td id=\"T_f0a6c_row12_col1\" class=\"data row12 col1\" >545 days</td>\n",
       "                        <td id=\"T_f0a6c_row12_col2\" class=\"data row12 col2\" >30</td>\n",
       "                        <td id=\"T_f0a6c_row12_col3\" class=\"data row12 col3\" >18.193990</td>\n",
       "            </tr>\n",
       "            <tr>\n",
       "                        <th id=\"T_f0a6c_level0_row13\" class=\"row_heading level0 row13\" >upmc26</th>\n",
       "                        <td id=\"T_f0a6c_row13_col0\" class=\"data row13 col0\" >2020-03-03</td>\n",
       "                        <td id=\"T_f0a6c_row13_col1\" class=\"data row13 col1\" >545 days</td>\n",
       "                        <td id=\"T_f0a6c_row13_col2\" class=\"data row13 col2\" >30</td>\n",
       "                        <td id=\"T_f0a6c_row13_col3\" class=\"data row13 col3\" >18.168311</td>\n",
       "            </tr>\n",
       "            <tr>\n",
       "                        <th id=\"T_f0a6c_level0_row14\" class=\"row_heading level0 row14\" >upmc25</th>\n",
       "                        <td id=\"T_f0a6c_row14_col0\" class=\"data row14 col0\" >2020-03-12</td>\n",
       "                        <td id=\"T_f0a6c_row14_col1\" class=\"data row14 col1\" >536 days</td>\n",
       "                        <td id=\"T_f0a6c_row14_col2\" class=\"data row14 col2\" >30</td>\n",
       "                        <td id=\"T_f0a6c_row14_col3\" class=\"data row14 col3\" >17.869337</td>\n",
       "            </tr>\n",
       "            <tr>\n",
       "                        <th id=\"T_f0a6c_level0_row15\" class=\"row_heading level0 row15\" >duke36</th>\n",
       "                        <td id=\"T_f0a6c_row15_col0\" class=\"data row15 col0\" >2020-03-20</td>\n",
       "                        <td id=\"T_f0a6c_row15_col1\" class=\"data row15 col1\" >528 days</td>\n",
       "                        <td id=\"T_f0a6c_row15_col2\" class=\"data row15 col2\" >30</td>\n",
       "                        <td id=\"T_f0a6c_row15_col3\" class=\"data row15 col3\" >17.603372</td>\n",
       "            </tr>\n",
       "            <tr>\n",
       "                        <th id=\"T_f0a6c_level0_row16\" class=\"row_heading level0 row16\" >duke50</th>\n",
       "                        <td id=\"T_f0a6c_row16_col0\" class=\"data row16 col0\" >2020-05-12</td>\n",
       "                        <td id=\"T_f0a6c_row16_col1\" class=\"data row16 col1\" >474 days</td>\n",
       "                        <td id=\"T_f0a6c_row16_col2\" class=\"data row16 col2\" >30</td>\n",
       "                        <td id=\"T_f0a6c_row16_col3\" class=\"data row16 col3\" >15.830962</td>\n",
       "            </tr>\n",
       "            <tr>\n",
       "                        <th id=\"T_f0a6c_level0_row17\" class=\"row_heading level0 row17\" >duke51</th>\n",
       "                        <td id=\"T_f0a6c_row17_col0\" class=\"data row17 col0\" >2020-05-13</td>\n",
       "                        <td id=\"T_f0a6c_row17_col1\" class=\"data row17 col1\" >474 days</td>\n",
       "                        <td id=\"T_f0a6c_row17_col2\" class=\"data row17 col2\" >30</td>\n",
       "                        <td id=\"T_f0a6c_row17_col3\" class=\"data row17 col3\" >15.802241</td>\n",
       "            </tr>\n",
       "            <tr>\n",
       "                        <th id=\"T_f0a6c_level0_row18\" class=\"row_heading level0 row18\" >ucsd54</th>\n",
       "                        <td id=\"T_f0a6c_row18_col0\" class=\"data row18 col0\" >2021-02-17</td>\n",
       "                        <td id=\"T_f0a6c_row18_col1\" class=\"data row18 col1\" >194 days</td>\n",
       "                        <td id=\"T_f0a6c_row18_col2\" class=\"data row18 col2\" >30</td>\n",
       "                        <td id=\"T_f0a6c_row18_col3\" class=\"data row18 col3\" >6.489901</td>\n",
       "            </tr>\n",
       "            <tr>\n",
       "                        <th id=\"T_f0a6c_level0_row19\" class=\"row_heading level0 row19\" >ucsd52</th>\n",
       "                        <td id=\"T_f0a6c_row19_col0\" class=\"data row19 col0\" >2021-02-22</td>\n",
       "                        <td id=\"T_f0a6c_row19_col1\" class=\"data row19 col1\" >188 days</td>\n",
       "                        <td id=\"T_f0a6c_row19_col2\" class=\"data row19 col2\" >30</td>\n",
       "                        <td id=\"T_f0a6c_row19_col3\" class=\"data row19 col3\" >6.294914</td>\n",
       "            </tr>\n",
       "            <tr>\n",
       "                        <th id=\"T_f0a6c_level0_row20\" class=\"row_heading level0 row20\" >ucsd55</th>\n",
       "                        <td id=\"T_f0a6c_row20_col0\" class=\"data row20 col0\" >2021-03-30</td>\n",
       "                        <td id=\"T_f0a6c_row20_col1\" class=\"data row20 col1\" >153 days</td>\n",
       "                        <td id=\"T_f0a6c_row20_col2\" class=\"data row20 col2\" >30</td>\n",
       "                        <td id=\"T_f0a6c_row20_col3\" class=\"data row20 col3\" >5.104076</td>\n",
       "            </tr>\n",
       "            <tr>\n",
       "                        <th id=\"T_f0a6c_level0_row21\" class=\"row_heading level0 row21\" >ohsu51</th>\n",
       "                        <td id=\"T_f0a6c_row21_col0\" class=\"data row21 col0\" >2021-05-25</td>\n",
       "                        <td id=\"T_f0a6c_row21_col1\" class=\"data row21 col1\" >96 days</td>\n",
       "                        <td id=\"T_f0a6c_row21_col2\" class=\"data row21 col2\" >30</td>\n",
       "                        <td id=\"T_f0a6c_row21_col3\" class=\"data row21 col3\" >3.229623</td>\n",
       "            </tr>\n",
       "            <tr>\n",
       "                        <th id=\"T_f0a6c_level0_row22\" class=\"row_heading level0 row22\" >ohsu50</th>\n",
       "                        <td id=\"T_f0a6c_row22_col0\" class=\"data row22 col0\" >2021-07-27</td>\n",
       "                        <td id=\"T_f0a6c_row22_col1\" class=\"data row22 col1\" >34 days</td>\n",
       "                        <td id=\"T_f0a6c_row22_col2\" class=\"data row22 col2\" >30</td>\n",
       "                        <td id=\"T_f0a6c_row22_col3\" class=\"data row22 col3\" >1.153798</td>\n",
       "            </tr>\n",
       "            <tr>\n",
       "                        <th id=\"T_f0a6c_level0_row23\" class=\"row_heading level0 row23\" >ucsd53</th>\n",
       "                        <td id=\"T_f0a6c_row23_col0\" class=\"data row23 col0\" >2021-08-24</td>\n",
       "                        <td id=\"T_f0a6c_row23_col1\" class=\"data row23 col1\" >5 days</td>\n",
       "                        <td id=\"T_f0a6c_row23_col2\" class=\"data row23 col2\" >30</td>\n",
       "                        <td id=\"T_f0a6c_row23_col3\" class=\"data row23 col3\" >0.193915</td>\n",
       "            </tr>\n",
       "            <tr>\n",
       "                        <th id=\"T_f0a6c_level0_row24\" class=\"row_heading level0 row24\" >upmc50</th>\n",
       "                        <td id=\"T_f0a6c_row24_col0\" class=\"data row24 col0\" >2021-08-26</td>\n",
       "                        <td id=\"T_f0a6c_row24_col1\" class=\"data row24 col1\" >4 days</td>\n",
       "                        <td id=\"T_f0a6c_row24_col2\" class=\"data row24 col2\" >30</td>\n",
       "                        <td id=\"T_f0a6c_row24_col3\" class=\"data row24 col3\" >0.138248</td>\n",
       "            </tr>\n",
       "    </tbody></table>"
      ],
      "text/plain": [
       "<pandas.io.formats.style.Styler at 0x7f85b001a5e0>"
      ]
     },
     "metadata": {},
     "output_type": "display_data"
    },
    {
     "data": {
      "text/markdown": [
       "Dead SLA Laptop Report"
      ],
      "text/plain": [
       "<IPython.core.display.Markdown object>"
      ]
     },
     "metadata": {},
     "output_type": "display_data"
    },
    {
     "data": {
      "text/html": [
       "<style  type=\"text/css\" >\n",
       "    #T_24073_ td {\n",
       "          background-color: #FFFFFF;\n",
       "          color: #000000;\n",
       "    }    #T_24073_ th {\n",
       "          background-color: #000000;\n",
       "          color: #FFFFFF;\n",
       "    }#T_24073_row0_col3{\n",
       "            color:  red !important;\n",
       "        }</style><table id=\"T_24073_\" ><thead>    <tr>        <th class=\"blank level0\" ></th>        <th class=\"col_heading level0 col0\" >Date Updated</th>        <th class=\"col_heading level0 col1\" >Time Difference</th>        <th class=\"col_heading level0 col2\" >SLA</th>        <th class=\"col_heading level0 col3\" >SLA %</th>    </tr>    <tr>        <th class=\"index_name level0\" >Laptop</th>        <th class=\"blank\" ></th>        <th class=\"blank\" ></th>        <th class=\"blank\" ></th>        <th class=\"blank\" ></th>    </tr></thead><tbody>\n",
       "                <tr>\n",
       "                        <th id=\"T_24073_level0_row0\" class=\"row_heading level0 row0\" >admin2</th>\n",
       "                        <td id=\"T_24073_row0_col0\" class=\"data row0 col0\" >2013-05-03</td>\n",
       "                        <td id=\"T_24073_row0_col1\" class=\"data row0 col1\" >3041 days</td>\n",
       "                        <td id=\"T_24073_row0_col2\" class=\"data row0 col2\" >3000</td>\n",
       "                        <td id=\"T_24073_row0_col3\" class=\"data row0 col3\" >1.013683</td>\n",
       "            </tr>\n",
       "            <tr>\n",
       "                        <th id=\"T_24073_level0_row1\" class=\"row_heading level0 row1\" >admin36</th>\n",
       "                        <td id=\"T_24073_row1_col0\" class=\"data row1 col0\" >2013-08-25</td>\n",
       "                        <td id=\"T_24073_row1_col1\" class=\"data row1 col1\" >2926 days</td>\n",
       "                        <td id=\"T_24073_row1_col2\" class=\"data row1 col2\" >3000</td>\n",
       "                        <td id=\"T_24073_row1_col3\" class=\"data row1 col3\" >0.975660</td>\n",
       "            </tr>\n",
       "            <tr>\n",
       "                        <th id=\"T_24073_level0_row2\" class=\"row_heading level0 row2\" >admin35</th>\n",
       "                        <td id=\"T_24073_row2_col0\" class=\"data row2 col0\" >2013-08-25</td>\n",
       "                        <td id=\"T_24073_row2_col1\" class=\"data row2 col1\" >2926 days</td>\n",
       "                        <td id=\"T_24073_row2_col2\" class=\"data row2 col2\" >3000</td>\n",
       "                        <td id=\"T_24073_row2_col3\" class=\"data row2 col3\" >0.975660</td>\n",
       "            </tr>\n",
       "            <tr>\n",
       "                        <th id=\"T_24073_level0_row3\" class=\"row_heading level0 row3\" >ohsu-merge</th>\n",
       "                        <td id=\"T_24073_row3_col0\" class=\"data row3 col0\" >2013-10-31</td>\n",
       "                        <td id=\"T_24073_row3_col1\" class=\"data row3 col1\" >2859 days</td>\n",
       "                        <td id=\"T_24073_row3_col2\" class=\"data row3 col2\" >3000</td>\n",
       "                        <td id=\"T_24073_row3_col3\" class=\"data row3 col3\" >0.953256</td>\n",
       "            </tr>\n",
       "            <tr>\n",
       "                        <th id=\"T_24073_level0_row4\" class=\"row_heading level0 row4\" >admin1</th>\n",
       "                        <td id=\"T_24073_row4_col0\" class=\"data row4 col0\" >2014-03-20</td>\n",
       "                        <td id=\"T_24073_row4_col1\" class=\"data row4 col1\" >2720 days</td>\n",
       "                        <td id=\"T_24073_row4_col2\" class=\"data row4 col2\" >3000</td>\n",
       "                        <td id=\"T_24073_row4_col3\" class=\"data row4 col3\" >0.906671</td>\n",
       "            </tr>\n",
       "            <tr>\n",
       "                        <th id=\"T_24073_level0_row5\" class=\"row_heading level0 row5\" >sri38</th>\n",
       "                        <td id=\"T_24073_row5_col0\" class=\"data row5 col0\" >2014-03-20</td>\n",
       "                        <td id=\"T_24073_row5_col1\" class=\"data row5 col1\" >2719 days</td>\n",
       "                        <td id=\"T_24073_row5_col2\" class=\"data row5 col2\" >3000</td>\n",
       "                        <td id=\"T_24073_row5_col3\" class=\"data row5 col3\" >0.906653</td>\n",
       "            </tr>\n",
       "            <tr>\n",
       "                        <th id=\"T_24073_level0_row6\" class=\"row_heading level0 row6\" >ucsd-merge</th>\n",
       "                        <td id=\"T_24073_row6_col0\" class=\"data row6 col0\" >2014-07-24</td>\n",
       "                        <td id=\"T_24073_row6_col1\" class=\"data row6 col1\" >2594 days</td>\n",
       "                        <td id=\"T_24073_row6_col2\" class=\"data row6 col2\" >3000</td>\n",
       "                        <td id=\"T_24073_row6_col3\" class=\"data row6 col3\" >0.864668</td>\n",
       "            </tr>\n",
       "            <tr>\n",
       "                        <th id=\"T_24073_level0_row7\" class=\"row_heading level0 row7\" >sri-merge</th>\n",
       "                        <td id=\"T_24073_row7_col0\" class=\"data row7 col0\" >2014-07-24</td>\n",
       "                        <td id=\"T_24073_row7_col1\" class=\"data row7 col1\" >2594 days</td>\n",
       "                        <td id=\"T_24073_row7_col2\" class=\"data row7 col2\" >3000</td>\n",
       "                        <td id=\"T_24073_row7_col3\" class=\"data row7 col3\" >0.864668</td>\n",
       "            </tr>\n",
       "            <tr>\n",
       "                        <th id=\"T_24073_level0_row8\" class=\"row_heading level0 row8\" >upmc-merge</th>\n",
       "                        <td id=\"T_24073_row8_col0\" class=\"data row8 col0\" >2014-07-24</td>\n",
       "                        <td id=\"T_24073_row8_col1\" class=\"data row8 col1\" >2594 days</td>\n",
       "                        <td id=\"T_24073_row8_col2\" class=\"data row8 col2\" >3000</td>\n",
       "                        <td id=\"T_24073_row8_col3\" class=\"data row8 col3\" >0.864668</td>\n",
       "            </tr>\n",
       "            <tr>\n",
       "                        <th id=\"T_24073_level0_row9\" class=\"row_heading level0 row9\" >duke-merge</th>\n",
       "                        <td id=\"T_24073_row9_col0\" class=\"data row9 col0\" >2015-03-31</td>\n",
       "                        <td id=\"T_24073_row9_col1\" class=\"data row9 col1\" >2343 days</td>\n",
       "                        <td id=\"T_24073_row9_col2\" class=\"data row9 col2\" >3000</td>\n",
       "                        <td id=\"T_24073_row9_col3\" class=\"data row9 col3\" >0.781261</td>\n",
       "            </tr>\n",
       "            <tr>\n",
       "                        <th id=\"T_24073_level0_row10\" class=\"row_heading level0 row10\" >ucsd45</th>\n",
       "                        <td id=\"T_24073_row10_col0\" class=\"data row10 col0\" >2015-08-28</td>\n",
       "                        <td id=\"T_24073_row10_col1\" class=\"data row10 col1\" >2193 days</td>\n",
       "                        <td id=\"T_24073_row10_col2\" class=\"data row10 col2\" >3000</td>\n",
       "                        <td id=\"T_24073_row10_col3\" class=\"data row10 col3\" >0.731257</td>\n",
       "            </tr>\n",
       "            <tr>\n",
       "                        <th id=\"T_24073_level0_row11\" class=\"row_heading level0 row11\" >ucsd46</th>\n",
       "                        <td id=\"T_24073_row11_col0\" class=\"data row11 col0\" >2015-08-28</td>\n",
       "                        <td id=\"T_24073_row11_col1\" class=\"data row11 col1\" >2193 days</td>\n",
       "                        <td id=\"T_24073_row11_col2\" class=\"data row11 col2\" >3000</td>\n",
       "                        <td id=\"T_24073_row11_col3\" class=\"data row11 col3\" >0.731257</td>\n",
       "            </tr>\n",
       "            <tr>\n",
       "                        <th id=\"T_24073_level0_row12\" class=\"row_heading level0 row12\" >ohsu44</th>\n",
       "                        <td id=\"T_24073_row12_col0\" class=\"data row12 col0\" >2015-08-28</td>\n",
       "                        <td id=\"T_24073_row12_col1\" class=\"data row12 col1\" >2193 days</td>\n",
       "                        <td id=\"T_24073_row12_col2\" class=\"data row12 col2\" >3000</td>\n",
       "                        <td id=\"T_24073_row12_col3\" class=\"data row12 col3\" >0.731257</td>\n",
       "            </tr>\n",
       "            <tr>\n",
       "                        <th id=\"T_24073_level0_row13\" class=\"row_heading level0 row13\" >ucsd98</th>\n",
       "                        <td id=\"T_24073_row13_col0\" class=\"data row13 col0\" >2017-09-22</td>\n",
       "                        <td id=\"T_24073_row13_col1\" class=\"data row13 col1\" >1437 days</td>\n",
       "                        <td id=\"T_24073_row13_col2\" class=\"data row13 col2\" >3000</td>\n",
       "                        <td id=\"T_24073_row13_col3\" class=\"data row13 col3\" >0.479293</td>\n",
       "            </tr>\n",
       "            <tr>\n",
       "                        <th id=\"T_24073_level0_row14\" class=\"row_heading level0 row14\" >ucsd48</th>\n",
       "                        <td id=\"T_24073_row14_col0\" class=\"data row14 col0\" >2018-02-26</td>\n",
       "                        <td id=\"T_24073_row14_col1\" class=\"data row14 col1\" >1281 days</td>\n",
       "                        <td id=\"T_24073_row14_col2\" class=\"data row14 col2\" >3000</td>\n",
       "                        <td id=\"T_24073_row14_col3\" class=\"data row14 col3\" >0.427011</td>\n",
       "            </tr>\n",
       "            <tr>\n",
       "                        <th id=\"T_24073_level0_row15\" class=\"row_heading level0 row15\" >ohsu45</th>\n",
       "                        <td id=\"T_24073_row15_col0\" class=\"data row15 col0\" >2018-02-26</td>\n",
       "                        <td id=\"T_24073_row15_col1\" class=\"data row15 col1\" >1281 days</td>\n",
       "                        <td id=\"T_24073_row15_col2\" class=\"data row15 col2\" >3000</td>\n",
       "                        <td id=\"T_24073_row15_col3\" class=\"data row15 col3\" >0.427006</td>\n",
       "            </tr>\n",
       "            <tr>\n",
       "                        <th id=\"T_24073_level0_row16\" class=\"row_heading level0 row16\" >ohsu46</th>\n",
       "                        <td id=\"T_24073_row16_col0\" class=\"data row16 col0\" >2018-02-26</td>\n",
       "                        <td id=\"T_24073_row16_col1\" class=\"data row16 col1\" >1281 days</td>\n",
       "                        <td id=\"T_24073_row16_col2\" class=\"data row16 col2\" >3000</td>\n",
       "                        <td id=\"T_24073_row16_col3\" class=\"data row16 col3\" >0.427006</td>\n",
       "            </tr>\n",
       "            <tr>\n",
       "                        <th id=\"T_24073_level0_row17\" class=\"row_heading level0 row17\" >sri29</th>\n",
       "                        <td id=\"T_24073_row17_col0\" class=\"data row17 col0\" >2018-03-02</td>\n",
       "                        <td id=\"T_24073_row17_col1\" class=\"data row17 col1\" >1276 days</td>\n",
       "                        <td id=\"T_24073_row17_col2\" class=\"data row17 col2\" >3000</td>\n",
       "                        <td id=\"T_24073_row17_col3\" class=\"data row17 col3\" >0.425661</td>\n",
       "            </tr>\n",
       "            <tr>\n",
       "                        <th id=\"T_24073_level0_row18\" class=\"row_heading level0 row18\" >upmc3</th>\n",
       "                        <td id=\"T_24073_row18_col0\" class=\"data row18 col0\" >2018-03-05</td>\n",
       "                        <td id=\"T_24073_row18_col1\" class=\"data row18 col1\" >1274 days</td>\n",
       "                        <td id=\"T_24073_row18_col2\" class=\"data row18 col2\" >3000</td>\n",
       "                        <td id=\"T_24073_row18_col3\" class=\"data row18 col3\" >0.424904</td>\n",
       "            </tr>\n",
       "            <tr>\n",
       "                        <th id=\"T_24073_level0_row19\" class=\"row_heading level0 row19\" >ohsu32</th>\n",
       "                        <td id=\"T_24073_row19_col0\" class=\"data row19 col0\" >2018-03-05</td>\n",
       "                        <td id=\"T_24073_row19_col1\" class=\"data row19 col1\" >1274 days</td>\n",
       "                        <td id=\"T_24073_row19_col2\" class=\"data row19 col2\" >3000</td>\n",
       "                        <td id=\"T_24073_row19_col3\" class=\"data row19 col3\" >0.424904</td>\n",
       "            </tr>\n",
       "            <tr>\n",
       "                        <th id=\"T_24073_level0_row20\" class=\"row_heading level0 row20\" >ucsd43</th>\n",
       "                        <td id=\"T_24073_row20_col0\" class=\"data row20 col0\" >2018-03-06</td>\n",
       "                        <td id=\"T_24073_row20_col1\" class=\"data row20 col1\" >1272 days</td>\n",
       "                        <td id=\"T_24073_row20_col2\" class=\"data row20 col2\" >3000</td>\n",
       "                        <td id=\"T_24073_row20_col3\" class=\"data row20 col3\" >0.424314</td>\n",
       "            </tr>\n",
       "            <tr>\n",
       "                        <th id=\"T_24073_level0_row21\" class=\"row_heading level0 row21\" >upmc4</th>\n",
       "                        <td id=\"T_24073_row21_col0\" class=\"data row21 col0\" >2018-03-06</td>\n",
       "                        <td id=\"T_24073_row21_col1\" class=\"data row21 col1\" >1272 days</td>\n",
       "                        <td id=\"T_24073_row21_col2\" class=\"data row21 col2\" >3000</td>\n",
       "                        <td id=\"T_24073_row21_col3\" class=\"data row21 col3\" >0.424314</td>\n",
       "            </tr>\n",
       "            <tr>\n",
       "                        <th id=\"T_24073_level0_row22\" class=\"row_heading level0 row22\" >ucsd12</th>\n",
       "                        <td id=\"T_24073_row22_col0\" class=\"data row22 col0\" >2018-03-13</td>\n",
       "                        <td id=\"T_24073_row22_col1\" class=\"data row22 col1\" >1265 days</td>\n",
       "                        <td id=\"T_24073_row22_col2\" class=\"data row22 col2\" >3000</td>\n",
       "                        <td id=\"T_24073_row22_col3\" class=\"data row22 col3\" >0.421984</td>\n",
       "            </tr>\n",
       "            <tr>\n",
       "                        <th id=\"T_24073_level0_row23\" class=\"row_heading level0 row23\" >sri5</th>\n",
       "                        <td id=\"T_24073_row23_col0\" class=\"data row23 col0\" >2018-03-15</td>\n",
       "                        <td id=\"T_24073_row23_col1\" class=\"data row23 col1\" >1263 days</td>\n",
       "                        <td id=\"T_24073_row23_col2\" class=\"data row23 col2\" >3000</td>\n",
       "                        <td id=\"T_24073_row23_col3\" class=\"data row23 col3\" >0.421288</td>\n",
       "            </tr>\n",
       "            <tr>\n",
       "                        <th id=\"T_24073_level0_row24\" class=\"row_heading level0 row24\" >ucsd99</th>\n",
       "                        <td id=\"T_24073_row24_col0\" class=\"data row24 col0\" >2018-03-16</td>\n",
       "                        <td id=\"T_24073_row24_col1\" class=\"data row24 col1\" >1262 days</td>\n",
       "                        <td id=\"T_24073_row24_col2\" class=\"data row24 col2\" >3000</td>\n",
       "                        <td id=\"T_24073_row24_col3\" class=\"data row24 col3\" >0.420987</td>\n",
       "            </tr>\n",
       "            <tr>\n",
       "                        <th id=\"T_24073_level0_row25\" class=\"row_heading level0 row25\" >sri6</th>\n",
       "                        <td id=\"T_24073_row25_col0\" class=\"data row25 col0\" >2018-03-27</td>\n",
       "                        <td id=\"T_24073_row25_col1\" class=\"data row25 col1\" >1251 days</td>\n",
       "                        <td id=\"T_24073_row25_col2\" class=\"data row25 col2\" >3000</td>\n",
       "                        <td id=\"T_24073_row25_col3\" class=\"data row25 col3\" >0.417276</td>\n",
       "            </tr>\n",
       "            <tr>\n",
       "                        <th id=\"T_24073_level0_row26\" class=\"row_heading level0 row26\" >ohsu9</th>\n",
       "                        <td id=\"T_24073_row26_col0\" class=\"data row26 col0\" >2018-04-02</td>\n",
       "                        <td id=\"T_24073_row26_col1\" class=\"data row26 col1\" >1246 days</td>\n",
       "                        <td id=\"T_24073_row26_col2\" class=\"data row26 col2\" >3000</td>\n",
       "                        <td id=\"T_24073_row26_col3\" class=\"data row26 col3\" >0.415365</td>\n",
       "            </tr>\n",
       "            <tr>\n",
       "                        <th id=\"T_24073_level0_row27\" class=\"row_heading level0 row27\" >duke8</th>\n",
       "                        <td id=\"T_24073_row27_col0\" class=\"data row27 col0\" >2018-04-10</td>\n",
       "                        <td id=\"T_24073_row27_col1\" class=\"data row27 col1\" >1238 days</td>\n",
       "                        <td id=\"T_24073_row27_col2\" class=\"data row27 col2\" >3000</td>\n",
       "                        <td id=\"T_24073_row27_col3\" class=\"data row27 col3\" >0.412691</td>\n",
       "            </tr>\n",
       "            <tr>\n",
       "                        <th id=\"T_24073_level0_row28\" class=\"row_heading level0 row28\" >ucsd41</th>\n",
       "                        <td id=\"T_24073_row28_col0\" class=\"data row28 col0\" >2018-04-11</td>\n",
       "                        <td id=\"T_24073_row28_col1\" class=\"data row28 col1\" >1237 days</td>\n",
       "                        <td id=\"T_24073_row28_col2\" class=\"data row28 col2\" >3000</td>\n",
       "                        <td id=\"T_24073_row28_col3\" class=\"data row28 col3\" >0.412581</td>\n",
       "            </tr>\n",
       "            <tr>\n",
       "                        <th id=\"T_24073_level0_row29\" class=\"row_heading level0 row29\" >ucsd23</th>\n",
       "                        <td id=\"T_24073_row29_col0\" class=\"data row29 col0\" >2018-04-11</td>\n",
       "                        <td id=\"T_24073_row29_col1\" class=\"data row29 col1\" >1236 days</td>\n",
       "                        <td id=\"T_24073_row29_col2\" class=\"data row29 col2\" >3000</td>\n",
       "                        <td id=\"T_24073_row29_col3\" class=\"data row29 col3\" >0.412300</td>\n",
       "            </tr>\n",
       "            <tr>\n",
       "                        <th id=\"T_24073_level0_row30\" class=\"row_heading level0 row30\" >upmc28</th>\n",
       "                        <td id=\"T_24073_row30_col0\" class=\"data row30 col0\" >2018-04-17</td>\n",
       "                        <td id=\"T_24073_row30_col1\" class=\"data row30 col1\" >1231 days</td>\n",
       "                        <td id=\"T_24073_row30_col2\" class=\"data row30 col2\" >3000</td>\n",
       "                        <td id=\"T_24073_row30_col3\" class=\"data row30 col3\" >0.410364</td>\n",
       "            </tr>\n",
       "            <tr>\n",
       "                        <th id=\"T_24073_level0_row31\" class=\"row_heading level0 row31\" >upmc37</th>\n",
       "                        <td id=\"T_24073_row31_col0\" class=\"data row31 col0\" >2018-04-17</td>\n",
       "                        <td id=\"T_24073_row31_col1\" class=\"data row31 col1\" >1230 days</td>\n",
       "                        <td id=\"T_24073_row31_col2\" class=\"data row31 col2\" >3000</td>\n",
       "                        <td id=\"T_24073_row31_col3\" class=\"data row31 col3\" >0.410312</td>\n",
       "            </tr>\n",
       "            <tr>\n",
       "                        <th id=\"T_24073_level0_row32\" class=\"row_heading level0 row32\" >upmc27</th>\n",
       "                        <td id=\"T_24073_row32_col0\" class=\"data row32 col0\" >2018-04-19</td>\n",
       "                        <td id=\"T_24073_row32_col1\" class=\"data row32 col1\" >1228 days</td>\n",
       "                        <td id=\"T_24073_row32_col2\" class=\"data row32 col2\" >3000</td>\n",
       "                        <td id=\"T_24073_row32_col3\" class=\"data row32 col3\" >0.409649</td>\n",
       "            </tr>\n",
       "            <tr>\n",
       "                        <th id=\"T_24073_level0_row33\" class=\"row_heading level0 row33\" >ucsd47</th>\n",
       "                        <td id=\"T_24073_row33_col0\" class=\"data row33 col0\" >2018-04-23</td>\n",
       "                        <td id=\"T_24073_row33_col1\" class=\"data row33 col1\" >1224 days</td>\n",
       "                        <td id=\"T_24073_row33_col2\" class=\"data row33 col2\" >3000</td>\n",
       "                        <td id=\"T_24073_row33_col3\" class=\"data row33 col3\" >0.408292</td>\n",
       "            </tr>\n",
       "            <tr>\n",
       "                        <th id=\"T_24073_level0_row34\" class=\"row_heading level0 row34\" >ucsd56</th>\n",
       "                        <td id=\"T_24073_row34_col0\" class=\"data row34 col0\" >2018-07-19</td>\n",
       "                        <td id=\"T_24073_row34_col1\" class=\"data row34 col1\" >1138 days</td>\n",
       "                        <td id=\"T_24073_row34_col2\" class=\"data row34 col2\" >3000</td>\n",
       "                        <td id=\"T_24073_row34_col3\" class=\"data row34 col3\" >0.379577</td>\n",
       "            </tr>\n",
       "            <tr>\n",
       "                        <th id=\"T_24073_level0_row35\" class=\"row_heading level0 row35\" >ucsd11</th>\n",
       "                        <td id=\"T_24073_row35_col0\" class=\"data row35 col0\" >2018-09-25</td>\n",
       "                        <td id=\"T_24073_row35_col1\" class=\"data row35 col1\" >1070 days</td>\n",
       "                        <td id=\"T_24073_row35_col2\" class=\"data row35 col2\" >3000</td>\n",
       "                        <td id=\"T_24073_row35_col3\" class=\"data row35 col3\" >0.356886</td>\n",
       "            </tr>\n",
       "            <tr>\n",
       "                        <th id=\"T_24073_level0_row36\" class=\"row_heading level0 row36\" >admin50</th>\n",
       "                        <td id=\"T_24073_row36_col0\" class=\"data row36 col0\" >2018-10-01</td>\n",
       "                        <td id=\"T_24073_row36_col1\" class=\"data row36 col1\" >1064 days</td>\n",
       "                        <td id=\"T_24073_row36_col2\" class=\"data row36 col2\" >3000</td>\n",
       "                        <td id=\"T_24073_row36_col3\" class=\"data row36 col3\" >0.354706</td>\n",
       "            </tr>\n",
       "            <tr>\n",
       "                        <th id=\"T_24073_level0_row37\" class=\"row_heading level0 row37\" >ohsu10</th>\n",
       "                        <td id=\"T_24073_row37_col0\" class=\"data row37 col0\" >2018-10-01</td>\n",
       "                        <td id=\"T_24073_row37_col1\" class=\"data row37 col1\" >1063 days</td>\n",
       "                        <td id=\"T_24073_row37_col2\" class=\"data row37 col2\" >3000</td>\n",
       "                        <td id=\"T_24073_row37_col3\" class=\"data row37 col3\" >0.354617</td>\n",
       "            </tr>\n",
       "            <tr>\n",
       "                        <th id=\"T_24073_level0_row38\" class=\"row_heading level0 row38\" >ucsd42</th>\n",
       "                        <td id=\"T_24073_row38_col0\" class=\"data row38 col0\" >2018-11-08</td>\n",
       "                        <td id=\"T_24073_row38_col1\" class=\"data row38 col1\" >1025 days</td>\n",
       "                        <td id=\"T_24073_row38_col2\" class=\"data row38 col2\" >3000</td>\n",
       "                        <td id=\"T_24073_row38_col3\" class=\"data row38 col3\" >0.341929</td>\n",
       "            </tr>\n",
       "            <tr>\n",
       "                        <th id=\"T_24073_level0_row39\" class=\"row_heading level0 row39\" >sri39</th>\n",
       "                        <td id=\"T_24073_row39_col0\" class=\"data row39 col0\" >2019-03-18</td>\n",
       "                        <td id=\"T_24073_row39_col1\" class=\"data row39 col1\" >895 days</td>\n",
       "                        <td id=\"T_24073_row39_col2\" class=\"data row39 col2\" >3000</td>\n",
       "                        <td id=\"T_24073_row39_col3\" class=\"data row39 col3\" >0.298645</td>\n",
       "            </tr>\n",
       "            <tr>\n",
       "                        <th id=\"T_24073_level0_row40\" class=\"row_heading level0 row40\" >sri40</th>\n",
       "                        <td id=\"T_24073_row40_col0\" class=\"data row40 col0\" >2019-03-18</td>\n",
       "                        <td id=\"T_24073_row40_col1\" class=\"data row40 col1\" >895 days</td>\n",
       "                        <td id=\"T_24073_row40_col2\" class=\"data row40 col2\" >3000</td>\n",
       "                        <td id=\"T_24073_row40_col3\" class=\"data row40 col3\" >0.298620</td>\n",
       "            </tr>\n",
       "            <tr>\n",
       "                        <th id=\"T_24073_level0_row41\" class=\"row_heading level0 row41\" >sri33</th>\n",
       "                        <td id=\"T_24073_row41_col0\" class=\"data row41 col0\" >2019-03-18</td>\n",
       "                        <td id=\"T_24073_row41_col1\" class=\"data row41 col1\" >895 days</td>\n",
       "                        <td id=\"T_24073_row41_col2\" class=\"data row41 col2\" >3000</td>\n",
       "                        <td id=\"T_24073_row41_col3\" class=\"data row41 col3\" >0.298620</td>\n",
       "            </tr>\n",
       "            <tr>\n",
       "                        <th id=\"T_24073_level0_row42\" class=\"row_heading level0 row42\" >sri17</th>\n",
       "                        <td id=\"T_24073_row42_col0\" class=\"data row42 col0\" >2019-04-01</td>\n",
       "                        <td id=\"T_24073_row42_col1\" class=\"data row42 col1\" >881 days</td>\n",
       "                        <td id=\"T_24073_row42_col2\" class=\"data row42 col2\" >3000</td>\n",
       "                        <td id=\"T_24073_row42_col3\" class=\"data row42 col3\" >0.293959</td>\n",
       "            </tr>\n",
       "            <tr>\n",
       "                        <th id=\"T_24073_level0_row43\" class=\"row_heading level0 row43\" >ucsd60</th>\n",
       "                        <td id=\"T_24073_row43_col0\" class=\"data row43 col0\" >2019-09-12</td>\n",
       "                        <td id=\"T_24073_row43_col1\" class=\"data row43 col1\" >717 days</td>\n",
       "                        <td id=\"T_24073_row43_col2\" class=\"data row43 col2\" >3000</td>\n",
       "                        <td id=\"T_24073_row43_col3\" class=\"data row43 col3\" >0.239251</td>\n",
       "            </tr>\n",
       "            <tr>\n",
       "                        <th id=\"T_24073_level0_row44\" class=\"row_heading level0 row44\" >ucsd34</th>\n",
       "                        <td id=\"T_24073_row44_col0\" class=\"data row44 col0\" >2020-01-29</td>\n",
       "                        <td id=\"T_24073_row44_col1\" class=\"data row44 col1\" >578 days</td>\n",
       "                        <td id=\"T_24073_row44_col2\" class=\"data row44 col2\" >3000</td>\n",
       "                        <td id=\"T_24073_row44_col3\" class=\"data row44 col3\" >0.192976</td>\n",
       "            </tr>\n",
       "            <tr>\n",
       "                        <th id=\"T_24073_level0_row45\" class=\"row_heading level0 row45\" >ucsd61</th>\n",
       "                        <td id=\"T_24073_row45_col0\" class=\"data row45 col0\" >2020-11-19</td>\n",
       "                        <td id=\"T_24073_row45_col1\" class=\"data row45 col1\" >284 days</td>\n",
       "                        <td id=\"T_24073_row45_col2\" class=\"data row45 col2\" >3000</td>\n",
       "                        <td id=\"T_24073_row45_col3\" class=\"data row45 col3\" >0.094888</td>\n",
       "            </tr>\n",
       "    </tbody></table>"
      ],
      "text/plain": [
       "<pandas.io.formats.style.Styler at 0x7f85b001a0a0>"
      ]
     },
     "metadata": {},
     "output_type": "display_data"
    }
   ],
   "source": [
    "main()"
   ]
  },
  {
   "cell_type": "code",
   "execution_count": null,
   "metadata": {},
   "outputs": [],
   "source": []
  }
 ],
 "metadata": {
  "interpreter": {
   "hash": "31f2aee4e71d21fbe5cf8b01ff0e069b9275f58929596ceb00d14d90e3e16cd6"
  },
  "kernelspec": {
   "display_name": "Python 3",
   "language": "python",
   "name": "python3"
  },
  "language_info": {
   "codemirror_mode": {
    "name": "ipython",
    "version": 3
   },
   "file_extension": ".py",
   "mimetype": "text/x-python",
   "name": "python",
   "nbconvert_exporter": "python",
   "pygments_lexer": "ipython3",
   "version": "3.8.5"
  }
 },
 "nbformat": 4,
 "nbformat_minor": 4
}
