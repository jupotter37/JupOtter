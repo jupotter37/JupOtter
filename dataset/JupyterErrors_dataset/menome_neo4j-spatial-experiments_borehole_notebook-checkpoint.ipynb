{
 "cells": [
  {
   "cell_type": "markdown",
   "metadata": {},
   "source": [
    "<img src=\"images/borehole_graph.png\" ></img>\n",
    "\n",
    "<br>\n",
    "\n",
    "# Borehole Graph Data Model Example\n",
    "\n",
    "In this notebook, we will use <a href=\"https://steno3d.com\">Steno3D</a> to view and share data throughout the steps of a lithological borehole graph from neo4j. "
   ]
  },
  {
   "cell_type": "markdown",
   "metadata": {},
   "source": [
    "## Login to Steno3D\n",
    "\n",
    "The first thing you need to do is login to Steno3D. You can <a href=\"https://steno3d.com/signup\">sign up for an account</a> to get your own developer API key if you do not have one already. Running the cell below will provide you with instructions for how to obtain and enter your key."
   ]
  },
  {
   "cell_type": "code",
   "execution_count": 1,
   "metadata": {},
   "outputs": [],
   "source": [
    "import steno3d"
   ]
  },
  {
   "cell_type": "code",
   "execution_count": 2,
   "metadata": {
    "scrolled": true
   },
   "outputs": [
    {
     "name": "stdout",
     "output_type": "stream",
     "text": [
      "\n",
      "Oh no! Your version of steno3d is out of date.\n",
      "\n",
      "Your version: 0.3.11\n",
      "Current version: 0.3.12\n",
      "\n",
      "Please update steno3d with `pip install --upgrade steno3d`.\n",
      "\n",
      "\n",
      "\n",
      ">> Welcome to the Python client library for Steno3D!\n",
      "\n",
      "Credentials file found: /Users/mmorley/.steno3d_client/credentials\n",
      "Accessing API developer key for @mmorley\n",
      "Welcome to Steno3D! You are logged in as @mmorley\n"
     ]
    }
   ],
   "source": [
    "steno3d.login()"
   ]
  },
  {
   "cell_type": "code",
   "execution_count": 3,
   "metadata": {},
   "outputs": [],
   "source": [
    "prelim_data = steno3d.Project(\n",
    "    title='Neo4j Borehole Experiment',\n",
    "    description='An experiment in modeling 3d borehole data with neo4j.',\n",
    "    public=True\n",
    ")"
   ]
  },
  {
   "cell_type": "markdown",
   "metadata": {},
   "source": [
    "## Query the Drill Collar Locations from Neo4j using Neo4j Driver\n",
    "\n",
    "First step is to use a cypher query to extract the data from Neo4j. We will use the Neo4j Python driver for this, through the jupyter notebook. \n",
    "\n",
    "The Steno3d app requires collar data to be in a nested array of form: [[x,y,z]...[x,y,z]], so we require a neo4j query that returns the data through the python driver. \n",
    "\n",
    "One thing to note is that Steno3d uses cartesian cordinates, so we will use the original NAD87 based locations instead of the Neo4j spatial coordinates/points, which is why we preserved these. Ahh the joys of spatial data!\n",
    "\n",
    "match (c:Collar) with [c.E_10TM83,c.N_10TM83,c.Location.z] as location  return collect(location) as location\n",
    "\n",
    "The results of this statement will be placed into a variable for steno. "
   ]
  },
  {
   "cell_type": "code",
   "execution_count": 4,
   "metadata": {},
   "outputs": [],
   "source": [
    "from neo4j import GraphDatabase\n",
    "\n",
    "uri = \"bolt://localhost:7687\"\n",
    "driver = GraphDatabase.driver(uri, auth=(\"neo4j\", \"password\"))\n",
    "\n",
    "def borehole_data(tx):\n",
    "    records=tx.run(\"match (c:Collar) where c.Name in ['99','98','97','96','95','88','89','90','91','92','73','72','71','70','69'] \"\n",
    "                         \"with [c.E_10TM83,c.N_10TM83,c.Location.z] as location \"\n",
    "                         \"return collect(location) as location\")\n",
    "    return records\n",
    "        \n",
    "with driver.session() as session:\n",
    "    results=session.read_transaction(borehole_data).data(0)\n",
    "    nodes=[]\n",
    "    i = 0\n",
    "    for record in results:\n",
    "        target= i\n",
    "        i += 1\n",
    "        for item in record['location']:\n",
    "            nodes.append(item)\n",
    "            source= i\n",
    "            i+=i\n",
    "    # print(nodes)\n",
    "    drill_locations=steno3d.Mesh0D(vertices=nodes) \n"
   ]
  },
  {
   "cell_type": "markdown",
   "metadata": {},
   "source": [
    "We only need the locations of these points, no other data, so let's construct our <a href=\"https://python.steno3d.com/en/latest/content/api/resources/point.html\">point</a> resource now. We will make the points orange so they stand out when plotted."
   ]
  },
  {
   "cell_type": "code",
   "execution_count": 5,
   "metadata": {},
   "outputs": [],
   "source": [
    "drill_points = steno3d.Point(\n",
    "    project=prelim_data,\n",
    "    title='Proposed Drill Locations',\n",
    "    mesh=drill_locations,\n",
    "    opts=dict(color='orange')\n",
    ")"
   ]
  },
  {
   "cell_type": "markdown",
   "metadata": {},
   "source": [
    "After uploading these points to our project on <a href=\"https://steno3d.com\">steno3d.com</a>, let's print the url of our project to share."
   ]
  },
  {
   "cell_type": "code",
   "execution_count": 6,
   "metadata": {},
   "outputs": [
    {
     "name": "stdout",
     "output_type": "stream",
     "text": [
      "Verifying your quota for public projects...\n",
      "This PUBLIC project will be viewable by everyone.\n",
      "Total progress: 100% - Uploading: project Neo4j Borehole Experiment\n",
      "Complete!\n",
      "https://steno3d.com/resource/point/KFmBEKSaXgNzd9IKD7gL\n"
     ]
    },
    {
     "data": {
      "text/plain": [
       "'https://steno3d.com/resource/point/KFmBEKSaXgNzd9IKD7gL'"
      ]
     },
     "execution_count": 6,
     "metadata": {},
     "output_type": "execute_result"
    }
   ],
   "source": [
    "drill_points.upload()"
   ]
  },
  {
   "cell_type": "code",
   "execution_count": 7,
   "metadata": {},
   "outputs": [
    {
     "name": "stdout",
     "output_type": "stream",
     "text": [
      "https://steno3d.com/app/N513R05zK8ZwyqnkBBN9\n"
     ]
    }
   ],
   "source": [
    "print(prelim_data.url)"
   ]
  },
  {
   "cell_type": "markdown",
   "metadata": {},
   "source": [
    "## Plot the Borehole Data\n",
    "\n",
    "After discussing the preliminary data project online with collaborators, it was decided to go ahead with borehole drilling. Now the data is back and available to be explored with. Let's make a new project to contain the results of the drilling."
   ]
  },
  {
   "cell_type": "code",
   "execution_count": 23,
   "metadata": {},
   "outputs": [],
   "source": [
    "result_data = steno3d.Project(\n",
    "    title='Neo4j Borehole Experiment',\n",
    "    description='An experiment in modeling 3d borehole data with neo4j.',\n",
    "    public=True\n",
    ")"
   ]
  },
  {
   "cell_type": "markdown",
   "metadata": {},
   "source": [
    "To display our borehole data, we first need a <a href=\"https://python.steno3d.com/en/latest/content/api/resources/line.html#meshes\">mesh 1D</a> based on their spatial geometry. This is imported from the Neo4j graph database model. The `view_type` option sets the lines mesh to initially display as fixed-width, extruded \"tubes\" rather than true 1D lines.\n",
    "\n",
    "// borehole vertex list\n",
    "match (c:Collar)-[:NEXT_INTERVAL*]-(i:Interval) \n",
    "with c,i\n",
    "with [c.E_10TM83,c.N_10TM83,i.location.z] as location\n",
    "return collect(location)\n",
    "\n",
    "// borehole segments \n",
    "match (c:Collar)-[:NEXT_INTERVAL*]-(i:Interval) \n",
    "with c,i\n",
    "with [i.FromDepth, i.ToDepth] as location\n",
    "return collect(location)"
   ]
  },
  {
   "cell_type": "code",
   "execution_count": 24,
   "metadata": {},
   "outputs": [
    {
     "name": "stdout",
     "output_type": "stream",
     "text": [
      "[{'locations': [[656585.0, 5939239.0, 687.0], [656533.0, 5940849.0, 686.0], [658216.0, 5939298.0, 682.0], [656533.0, 5940849.0, 679.0], [656585.0, 5939239.0, 677.0], [658216.0, 5939298.0, 675.0], [661419.0, 5941022.0, 675.0], [663105.0, 5939454.0, 673.0], [663071.0, 5941066.0, 673.0], [656480.0, 5942480.0, 673.0], [661365.0, 5942625.0, 672.0], [658106.0, 5942539.0, 672.0], [659789.0, 5940965.0, 672.0], [658166.0, 5940910.0, 672.0], [661475.0, 5939384.0, 672.0], [661419.0, 5941022.0, 672.0], [659865.0, 5939355.0, 671.0], [659734.0, 5942595.0, 670.0], [659865.0, 5939355.0, 670.0], [662997.0, 5942700.0, 670.0], [659734.0, 5942595.0, 669.0], [661475.0, 5939384.0, 669.0], [658106.0, 5942539.0, 667.0], [663071.0, 5941066.0, 667.0], [661419.0, 5941022.0, 667.0], [656480.0, 5942480.0, 667.0], [659789.0, 5940965.0, 666.0], [658166.0, 5940910.0, 666.0], [663105.0, 5939454.0, 665.0], [661475.0, 5939384.0, 665.0], [663105.0, 5939454.0, 664.0], [663071.0, 5941066.0, 664.0], [659865.0, 5939355.0, 663.0], [661365.0, 5942625.0, 661.0], [658106.0, 5942539.0, 660.0], [659734.0, 5942595.0, 660.0], [662997.0, 5942700.0, 660.0], [658106.0, 5942539.0, 658.0]]}]\n"
     ]
    }
   ],
   "source": [
    "def borehole_data(tx):\n",
    "    records=tx.run(\"match (c:Collar) where c.Name in ['99','98','97','96','95','88','89','90','91','92','73','72','71','70','69'] \"\n",
    "    \"with c  \"\n",
    "    \"match (c)-[:NEXT_INTERVAL*]-(i:Interval)  \"\n",
    "    \"with c, i order by i.location.z desc  \"          \n",
    "    \"with [c.E_10TM83,c.N_10TM83,i.elev] as location return collect(location) as locations\")\n",
    "    return records\n",
    "        \n",
    "with driver.session() as session:\n",
    "    results=session.read_transaction(borehole_data).data(0)\n",
    "    print(results)\n",
    "    nodes=[]\n",
    "    i = 0\n",
    "    for record in results:\n",
    "        target= i\n",
    "        i += 1\n",
    "        for item in record['locations']:\n",
    "            nodes.append(item)\n",
    "            source= i\n",
    "            i+=i\n",
    "    borehole_vertices=nodes\n",
    "\n"
   ]
  },
  {
   "cell_type": "code",
   "execution_count": 25,
   "metadata": {},
   "outputs": [
    {
     "name": "stdout",
     "output_type": "stream",
     "text": [
      "[{'locations': [[0, 10], [0, 7], [0, 7], [7, 9], [10, 13], [7, 18], [0, 3], [0, 8], [0, 6], [0, 6], [0, 11], [0, 5], [0, 6], [0, 6], [0, 3], [3, 8], [0, 1], [0, 1], [1, 8], [0, 10], [1, 10], [3, 7], [5, 12], [6, 9], [8, 13], [6, 9], [6, 13], [6, 8], [8, 9], [7, 13], [9, 13], [9, 14], [8, 13], [11, 13], [12, 14], [10, 13], [10, 14], [14, 18]]}]\n",
      "[[0, 10], [0, 7], [0, 7], [7, 9], [10, 13], [7, 18], [0, 3], [0, 8], [0, 6], [0, 6], [0, 11], [0, 5], [0, 6], [0, 6], [0, 3], [3, 8], [0, 1], [0, 1], [1, 8], [0, 10], [1, 10], [3, 7], [5, 12], [6, 9], [8, 13], [6, 9], [6, 13], [6, 8], [8, 9], [7, 13], [9, 13], [9, 14], [8, 13], [11, 13], [12, 14], [10, 13], [10, 14], [14, 18]]\n",
      "[[656585.0, 5939239.0, 687.0], [656533.0, 5940849.0, 686.0], [658216.0, 5939298.0, 682.0], [656533.0, 5940849.0, 679.0], [656585.0, 5939239.0, 677.0], [658216.0, 5939298.0, 675.0], [661419.0, 5941022.0, 675.0], [663105.0, 5939454.0, 673.0], [663071.0, 5941066.0, 673.0], [656480.0, 5942480.0, 673.0], [661365.0, 5942625.0, 672.0], [658106.0, 5942539.0, 672.0], [659789.0, 5940965.0, 672.0], [658166.0, 5940910.0, 672.0], [661475.0, 5939384.0, 672.0], [661419.0, 5941022.0, 672.0], [659865.0, 5939355.0, 671.0], [659734.0, 5942595.0, 670.0], [659865.0, 5939355.0, 670.0], [662997.0, 5942700.0, 670.0], [659734.0, 5942595.0, 669.0], [661475.0, 5939384.0, 669.0], [658106.0, 5942539.0, 667.0], [663071.0, 5941066.0, 667.0], [661419.0, 5941022.0, 667.0], [656480.0, 5942480.0, 667.0], [659789.0, 5940965.0, 666.0], [658166.0, 5940910.0, 666.0], [663105.0, 5939454.0, 665.0], [661475.0, 5939384.0, 665.0], [663105.0, 5939454.0, 664.0], [663071.0, 5941066.0, 664.0], [659865.0, 5939355.0, 663.0], [661365.0, 5942625.0, 661.0], [658106.0, 5942539.0, 660.0], [659734.0, 5942595.0, 660.0], [662997.0, 5942700.0, 660.0], [658106.0, 5942539.0, 658.0]]\n"
     ]
    }
   ],
   "source": [
    "def borehole_data(tx):\n",
    "    records=tx.run(\"match (c:Collar)  where c.Name in ['99','98','97','96','95','88','89','90','91','92','73','72','71','70','69']\"\n",
    "    \"with c \"\n",
    "    \"match (c)-[:NEXT_INTERVAL*]-(i:Interval) \"   \n",
    "    \"with c, i order by i.location.z desc \"               \n",
    "    \" with i,[ toInt(i.FromDepth),toInt(i.ToDepth) ] as segment return collect(segment) as locations\")\n",
    "    return records\n",
    "        \n",
    "with driver.session() as session:\n",
    "    results=session.read_transaction(borehole_data).data(0)\n",
    "    print(results)\n",
    "    nodes=[]\n",
    "    i = 0\n",
    "    for record in results:\n",
    "        target= i\n",
    "        i += 1\n",
    "        for item in record['locations']:\n",
    "            nodes.append(item)\n",
    "            source= i\n",
    "            i+=i\n",
    "    borehole_segments=nodes\n",
    "    print(borehole_segments)\n",
    "    print(borehole_vertices)\n",
    "borehole_mesh = steno3d.Mesh1D(\n",
    "    vertices = borehole_vertices,\n",
    "    segments = borehole_segments,\n",
    "    opts = dict(\n",
    "        view_type='boreholes'\n",
    "    )\n",
    ")\n"
   ]
  },
  {
   "cell_type": "markdown",
   "metadata": {},
   "source": [
    "Let's create a <a href=\"https://python.steno3d.com/en/latest/content/api/resources/line.html\">line</a> resource now using this mesh."
   ]
  },
  {
   "cell_type": "code",
   "execution_count": 27,
   "metadata": {},
   "outputs": [
    {
     "name": "stdout",
     "output_type": "stream",
     "text": [
      "<steno3d.line.Line object at 0x119cb9198>\n"
     ]
    }
   ],
   "source": [
    "boreholes = steno3d.Line(\n",
    "    project=result_data,\n",
    "    title='Borehole Results',\n",
    "    description='Data based on results of borehole drilling',\n",
    "    mesh=borehole_mesh\n",
    ")\n",
    "print(boreholes)"
   ]
  },
  {
   "cell_type": "markdown",
   "metadata": {},
   "source": [
    "We need to add all the data to the boreholes now."
   ]
  },
  {
   "cell_type": "code",
   "execution_count": 15,
   "metadata": {},
   "outputs": [
    {
     "ename": "NameError",
     "evalue": "name 'Wolfpass' is not defined",
     "output_type": "error",
     "traceback": [
      "\u001b[0;31m---------------------------------------------------------------------------\u001b[0m",
      "\u001b[0;31mNameError\u001b[0m                                 Traceback (most recent call last)",
      "\u001b[0;32m<ipython-input-15-5e36efb6bdcd>\u001b[0m in \u001b[0;36m<module>\u001b[0;34m\u001b[0m\n\u001b[0;32m----> 1\u001b[0;31m \u001b[0mborehole_raw_data\u001b[0m \u001b[0;34m=\u001b[0m \u001b[0mWolfpass\u001b[0m\u001b[0;34m.\u001b[0m\u001b[0mborehole_data\u001b[0m\u001b[0;34m\u001b[0m\u001b[0;34m\u001b[0m\u001b[0m\n\u001b[0m\u001b[1;32m      2\u001b[0m borehole_data = [\n\u001b[1;32m      3\u001b[0m     \u001b[0msteno3d\u001b[0m\u001b[0;34m.\u001b[0m\u001b[0mDataArray\u001b[0m\u001b[0;34m(\u001b[0m\u001b[0mtitle\u001b[0m\u001b[0;34m=\u001b[0m\u001b[0mrd\u001b[0m\u001b[0;34m,\u001b[0m \u001b[0marray\u001b[0m\u001b[0;34m=\u001b[0m\u001b[0mborehole_raw_data\u001b[0m\u001b[0;34m[\u001b[0m\u001b[0mrd\u001b[0m\u001b[0;34m]\u001b[0m\u001b[0;34m)\u001b[0m \u001b[0;32mfor\u001b[0m \u001b[0mrd\u001b[0m \u001b[0;32min\u001b[0m \u001b[0mborehole_raw_data\u001b[0m\u001b[0;34m\u001b[0m\u001b[0;34m\u001b[0m\u001b[0m\n\u001b[1;32m      4\u001b[0m ]\n\u001b[1;32m      5\u001b[0m borehole_bound_data = [\n",
      "\u001b[0;31mNameError\u001b[0m: name 'Wolfpass' is not defined"
     ]
    }
   ],
   "source": [
    "borehole_raw_data = Wolfpass.borehole_data\n",
    "borehole_data = [\n",
    "    steno3d.DataArray(title=rd, array=borehole_raw_data[rd]) for rd in borehole_raw_data\n",
    "]\n",
    "borehole_bound_data = [\n",
    "    dict(location='CC', data=d) for d in borehole_data\n",
    "]"
   ]
  },
  {
   "cell_type": "code",
   "execution_count": 16,
   "metadata": {},
   "outputs": [
    {
     "ename": "NameError",
     "evalue": "name 'borehole_bound_data' is not defined",
     "output_type": "error",
     "traceback": [
      "\u001b[0;31m---------------------------------------------------------------------------\u001b[0m",
      "\u001b[0;31mNameError\u001b[0m                                 Traceback (most recent call last)",
      "\u001b[0;32m<ipython-input-16-c494aac5dce2>\u001b[0m in \u001b[0;36m<module>\u001b[0;34m\u001b[0m\n\u001b[0;32m----> 1\u001b[0;31m \u001b[0mboreholes\u001b[0m\u001b[0;34m.\u001b[0m\u001b[0mdata\u001b[0m \u001b[0;34m=\u001b[0m \u001b[0mborehole_bound_data\u001b[0m\u001b[0;34m\u001b[0m\u001b[0;34m\u001b[0m\u001b[0m\n\u001b[0m",
      "\u001b[0;31mNameError\u001b[0m: name 'borehole_bound_data' is not defined"
     ]
    }
   ],
   "source": [
    "boreholes.data = borehole_bound_data"
   ]
  },
  {
   "cell_type": "markdown",
   "metadata": {},
   "source": [
    "These boreholes will be easier to analyze if the ground surface is also present. We can simply add the ground surface resource created for the <a href=\"#Inspect-the-Surface-Topography\">preliminary data project</a> to our results data project."
   ]
  },
  {
   "cell_type": "markdown",
   "metadata": {},
   "source": [
    "Now our borehole results can be uploaded and shared."
   ]
  },
  {
   "cell_type": "code",
   "execution_count": 28,
   "metadata": {},
   "outputs": [
    {
     "name": "stdout",
     "output_type": "stream",
     "text": [
      "Verifying your quota for public projects...\n",
      "This PUBLIC project will be viewable by everyone.\n",
      "Total progress: 100% - Uploading: project Neo4j Borehole Experiment\n",
      "Complete!\n",
      "https://steno3d.com/app/GMapT8wYfjyilJyHYDnZ\n"
     ]
    },
    {
     "data": {
      "text/plain": [
       "'GMapT8wYfjyilJyHYDnZ'"
      ]
     },
     "execution_count": 28,
     "metadata": {},
     "output_type": "execute_result"
    }
   ],
   "source": [
    "result_data.upload()"
   ]
  },
  {
   "cell_type": "markdown",
   "metadata": {},
   "source": [
    "## Explore the Modeled Formation\n",
    "\n",
    "Based on the borehole results, modelling of the dacite formation has been carried out. Let's view this modeled surface with our other results using <a href=\"https://steno3d.com\">Steno3D</a>. We will create, upload, and print the url for sharing in one step."
   ]
  },
  {
   "cell_type": "code",
   "execution_count": 37,
   "metadata": {},
   "outputs": [
    {
     "ename": "NameError",
     "evalue": "name 'Wolfpass' is not defined",
     "output_type": "error",
     "traceback": [
      "\u001b[0;31m---------------------------------------------------------------------------\u001b[0m",
      "\u001b[0;31mNameError\u001b[0m                                 Traceback (most recent call last)",
      "\u001b[0;32m<ipython-input-37-9a98a9c0d01e>\u001b[0m in \u001b[0;36m<module>\u001b[0;34m\u001b[0m\n\u001b[0;32m----> 1\u001b[0;31m \u001b[0mdacite_ind\u001b[0m \u001b[0;34m=\u001b[0m \u001b[0mWolfpass\u001b[0m\u001b[0;34m.\u001b[0m\u001b[0mlith_names\u001b[0m\u001b[0;34m.\u001b[0m\u001b[0mindex\u001b[0m\u001b[0;34m(\u001b[0m\u001b[0;34m'dacite'\u001b[0m\u001b[0;34m)\u001b[0m\u001b[0;34m\u001b[0m\u001b[0;34m\u001b[0m\u001b[0m\n\u001b[0m\u001b[1;32m      2\u001b[0m \u001b[0mdacite_vertices\u001b[0m \u001b[0;34m=\u001b[0m \u001b[0mWolfpass\u001b[0m\u001b[0;34m.\u001b[0m\u001b[0mlith_vertices\u001b[0m\u001b[0;34m[\u001b[0m\u001b[0mdacite_ind\u001b[0m\u001b[0;34m]\u001b[0m\u001b[0;34m\u001b[0m\u001b[0;34m\u001b[0m\u001b[0m\n\u001b[1;32m      3\u001b[0m \u001b[0mdacite_triangles\u001b[0m \u001b[0;34m=\u001b[0m \u001b[0mWolfpass\u001b[0m\u001b[0;34m.\u001b[0m\u001b[0mlith_triangles\u001b[0m\u001b[0;34m[\u001b[0m\u001b[0mdacite_ind\u001b[0m\u001b[0;34m]\u001b[0m\u001b[0;34m\u001b[0m\u001b[0;34m\u001b[0m\u001b[0m\n\u001b[1;32m      4\u001b[0m \u001b[0;34m\u001b[0m\u001b[0m\n\u001b[1;32m      5\u001b[0m dacite_surface = steno3d.Surface(\n",
      "\u001b[0;31mNameError\u001b[0m: name 'Wolfpass' is not defined"
     ]
    }
   ],
   "source": [
    "dacite_ind = Wolfpass.lith_names.index('dacite')\n",
    "dacite_vertices = Wolfpass.lith_vertices[dacite_ind]\n",
    "dacite_triangles = Wolfpass.lith_triangles[dacite_ind]\n",
    "\n",
    "dacite_surface = steno3d.Surface(\n",
    "    project=result_data,\n",
    "    title='Dacite Formation',\n",
    "    description='Bounding surface of dacite based on borehole data and modelling results',\n",
    "    mesh=steno3d.Mesh2D(\n",
    "        vertices=dacite_vertices,\n",
    "        triangles=dacite_triangles\n",
    "    ),\n",
    "    opts=dict(\n",
    "        color='red'\n",
    "    )\n",
    ")\n",
    "dacite_surface.upload()\n",
    "print(result_data.url)"
   ]
  },
  {
   "cell_type": "markdown",
   "metadata": {},
   "source": [
    "___\n",
    "**Navigation**\n",
    "- <a href=\"#Comprehensive-Example:-Wolf-Pass-Exploration-Project\">Top of page</a>\n",
    "- <a href=\"index.ipynb\">Notebook home</a>\n",
    "- <a href=\"https://steno3d.com\">Steno3D website</a>\n",
    "- <a href=\"https://steno3d.com/docs\">Steno3D documentation</a>\n",
    "- <a href=\"https://github.com/seequent/steno3d-notebooks/issues/new\">Report an issue</a>\n",
    "___"
   ]
  }
 ],
 "metadata": {
  "kernelspec": {
   "display_name": "Python 3",
   "language": "python",
   "name": "python3"
  },
  "language_info": {
   "codemirror_mode": {
    "name": "ipython",
    "version": 3
   },
   "file_extension": ".py",
   "mimetype": "text/x-python",
   "name": "python",
   "nbconvert_exporter": "python",
   "pygments_lexer": "ipython3",
   "version": "3.7.2"
  }
 },
 "nbformat": 4,
 "nbformat_minor": 1
}
