{
 "cells": [
  {
   "cell_type": "markdown",
   "id": "afc57ef8-006f-4538-b293-0d8ba1aea4e2",
   "metadata": {},
   "source": [
    "# Chapter 2 \n",
    "\n",
    "Before installing any library, it is highly advised that you create a separate virtual environment, for example, using conda. The concept and purpose behind creating virtual\n",
    "environments were discussed in detail in **Chapter 1**, *Getting Started with Time Series Analysis*, with multiple examples.\n",
    "\n",
    "* To install Modin using `Conda` (with a Dask backend), run the following:\n",
    "\n",
    "```\n",
    "conda install -c conda-forge modin-dask\n",
    "```\n",
    "* To install with `pip`, use the following:\n",
    "\n",
    "```\n",
    "pip install modin[dask]\n",
    "```\n",
    "\n",
    "You will measure the time and memory usage using pandas and again using Modin. To measure memory usage, you will need to install the `memory_profiler` library.\n",
    "\n",
    "```\n",
    "pip install memory_profiler\n",
    "```\n",
    "\n",
    "The memory_profiler library provides IPython and Jupyter magics such as `%memit` and `%mprun`, similar to known magics such as `%timeit` and `%time`.\n",
    "\n",
    "## Using Modin\n",
    "* Continue from recipe \"Reading data from a SAS dataset\"\n",
    "* The recipe introduces concepts for working with large data sets \n",
    "\n",
    "> \" the **Modin** library acts as a wrapper or, more specifically, an abstraction on top of Dask or Ray that\n",
    "uses a similar API to pandas. Modin makes optimizing your pandas' code much more\n",
    "straightforward without learning another framework, and all it takes is a single line\n",
    "of code.\" - Chapter 2 Page 62"
   ]
  },
  {
   "cell_type": "markdown",
   "id": "d9cb4824-6b0e-4aab-8495-690d811e09b2",
   "metadata": {
    "tags": []
   },
   "source": [
    "## Comparing Performance: Memory & Time"
   ]
  },
  {
   "cell_type": "code",
   "execution_count": 1,
   "id": "264861fc-a9c6-41b5-abe8-9593f461dcb5",
   "metadata": {},
   "outputs": [],
   "source": [
    "#!conda install -c anaconda memory_profiler -y\n",
    "#!pip install memory-profiler"
   ]
  },
  {
   "cell_type": "code",
   "execution_count": 2,
   "id": "e45b9d04-549b-49ff-9731-ec6dc5de5617",
   "metadata": {},
   "outputs": [
    {
     "ename": "ModuleNotFoundError",
     "evalue": "No module named 'memory_profiler'",
     "output_type": "error",
     "traceback": [
      "\u001b[0;31m---------------------------------------------------------------------------\u001b[0m",
      "\u001b[0;31mModuleNotFoundError\u001b[0m                       Traceback (most recent call last)",
      "Cell \u001b[0;32mIn[2], line 1\u001b[0m\n\u001b[0;32m----> 1\u001b[0m \u001b[38;5;28;01mimport\u001b[39;00m \u001b[38;5;21;01mmemory_profiler\u001b[39;00m \n\u001b[1;32m      2\u001b[0m memory_profiler\u001b[38;5;241m.\u001b[39m__version__\n",
      "\u001b[0;31mModuleNotFoundError\u001b[0m: No module named 'memory_profiler'"
     ]
    }
   ],
   "source": [
    "import memory_profiler \n",
    "memory_profiler.__version__"
   ]
  },
  {
   "cell_type": "code",
   "execution_count": 2,
   "id": "1c39d48e-a537-45cc-8a33-6b84dd1b6fb8",
   "metadata": {},
   "outputs": [],
   "source": [
    "%load_ext memory_profiler"
   ]
  },
  {
   "cell_type": "code",
   "execution_count": 3,
   "id": "2ddf27dd-7d44-4b84-8280-6610aa59eec3",
   "metadata": {},
   "outputs": [],
   "source": [
    "path = '../../datasets/Ch2/large_file.csv'"
   ]
  },
  {
   "cell_type": "code",
   "execution_count": 1,
   "id": "dada6452-067f-4bb4-83c3-ca5182cf14f4",
   "metadata": {},
   "outputs": [
    {
     "data": {
      "text/plain": [
       "'2.1.4'"
      ]
     },
     "execution_count": 1,
     "metadata": {},
     "output_type": "execute_result"
    }
   ],
   "source": [
    "import pandas as pd\n",
    "pd.__version__"
   ]
  },
  {
   "cell_type": "code",
   "execution_count": 2,
   "id": "40d27dd8-2316-431a-afa5-0115c60f549a",
   "metadata": {},
   "outputs": [
    {
     "data": {
      "text/plain": [
       "'0.26.1'"
      ]
     },
     "execution_count": 2,
     "metadata": {},
     "output_type": "execute_result"
    }
   ],
   "source": [
    "import modin\n",
    "modin.__version__"
   ]
  },
  {
   "cell_type": "code",
   "execution_count": 5,
   "id": "52c8518e-8f15-40fd-a0e5-d4a5b9561925",
   "metadata": {},
   "outputs": [
    {
     "name": "stdout",
     "output_type": "stream",
     "text": [
      "peak memory: 219.71 MiB, increment: 125.79 MiB\n",
      "CPU times: user 375 ms, sys: 116 ms, total: 491 ms\n",
      "Wall time: 1.45 s\n"
     ]
    }
   ],
   "source": [
    "%%time\n",
    "%memit pd.read_csv(path).groupby('label_source').count()"
   ]
  },
  {
   "cell_type": "code",
   "execution_count": 3,
   "id": "33d220ac-f45e-4446-bc3a-870e5b90b8fe",
   "metadata": {},
   "outputs": [],
   "source": [
    "from modin.config import Engine\n",
    "Engine.put(\"dask\")  # Modin will use Dask\n",
    "import modin.pandas as pd\n",
    "from distributed import Client\n",
    "client = Client()"
   ]
  },
  {
   "cell_type": "code",
   "execution_count": 7,
   "id": "3809355f-ce33-475c-89bb-e8c9c399735e",
   "metadata": {},
   "outputs": [],
   "source": [
    "%reload_ext memory_profiler"
   ]
  },
  {
   "cell_type": "code",
   "execution_count": 8,
   "id": "d72f164f-3b2a-4cdf-b243-5254007e31a9",
   "metadata": {},
   "outputs": [
    {
     "name": "stdout",
     "output_type": "stream",
     "text": [
      "peak memory: 153.58 MiB, increment: 9.20 MiB\n",
      "CPU times: user 1.02 s, sys: 253 ms, total: 1.28 s\n",
      "Wall time: 2.46 s\n"
     ]
    }
   ],
   "source": [
    "%%time\n",
    "%memit pd.read_csv(path).groupby('label_source').count()"
   ]
  },
  {
   "cell_type": "code",
   "execution_count": 4,
   "id": "131d77b2-e67e-477d-8ae8-5b46513f1f56",
   "metadata": {},
   "outputs": [
    {
     "name": "stdout",
     "output_type": "stream",
     "text": [
      "The sum of the list elements is : 17\n",
      "The maximum element of the list is : 6\n"
     ]
    }
   ],
   "source": [
    "import functools \n",
    "  \n",
    "# initializing list \n",
    "lis = [1, 3, 5, 6, 2] \n",
    "  \n",
    "# using reduce to compute sum of list \n",
    "print(\"The sum of the list elements is : \", end=\"\") \n",
    "print(functools.reduce(lambda a, b: a+b, lis)) \n",
    "  \n",
    "# using reduce to compute maximum element from list \n",
    "print(\"The maximum element of the list is : \", end=\"\") \n",
    "print(functools.reduce(lambda a, b: a if a > b else b, lis)) "
   ]
  },
  {
   "cell_type": "code",
   "execution_count": null,
   "id": "b6db7040-04fb-4761-9da0-9a035ca78676",
   "metadata": {},
   "outputs": [],
   "source": []
  }
 ],
 "metadata": {
  "kernelspec": {
   "display_name": "Python [conda env:modin]",
   "language": "python",
   "name": "conda-env-modin-py"
  },
  "language_info": {
   "codemirror_mode": {
    "name": "ipython",
    "version": 3
   },
   "file_extension": ".py",
   "mimetype": "text/x-python",
   "name": "python",
   "nbconvert_exporter": "python",
   "pygments_lexer": "ipython3",
   "version": "3.10.13"
  }
 },
 "nbformat": 4,
 "nbformat_minor": 5
}
