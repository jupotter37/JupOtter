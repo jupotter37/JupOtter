{
 "cells": [
  {
   "cell_type": "markdown",
   "metadata": {},
   "source": [
    "# DEPRECATED! GO HERE FOR LATEST WORKING: <a href=\"../../job/space_track/filter_raw_data_gabbard.ipynb\">job/space_track/filter_raw_data_gabbard.ipynb</a>\n",
    "\n",
    "#### Please leave this alone though!"
   ]
  },
  {
   "cell_type": "code",
   "execution_count": 1,
   "metadata": {},
   "outputs": [
    {
     "ename": "Exception",
     "evalue": "STOP! THIS IS DEPRECATED!",
     "output_type": "error",
     "traceback": [
      "\u001b[0;31m---------------------------------------------------------------------------\u001b[0m",
      "\u001b[0;31mException\u001b[0m                                 Traceback (most recent call last)",
      "\u001b[0;32m<ipython-input-1-10bd9f2e988c>\u001b[0m in \u001b[0;36m<module>\u001b[0;34m\u001b[0m\n\u001b[0;32m----> 1\u001b[0;31m \u001b[0;32mraise\u001b[0m \u001b[0mException\u001b[0m\u001b[0;34m(\u001b[0m\u001b[0;34m\"STOP! THIS IS DEPRECATED!\"\u001b[0m\u001b[0;34m)\u001b[0m\u001b[0;34m\u001b[0m\u001b[0;34m\u001b[0m\u001b[0m\n\u001b[0m",
      "\u001b[0;31mException\u001b[0m: STOP! THIS IS DEPRECATED!"
     ]
    }
   ],
   "source": [
    "raise Exception(\"STOP! THIS IS DEPRECATED!\")"
   ]
  },
  {
   "cell_type": "code",
   "execution_count": null,
   "metadata": {},
   "outputs": [],
   "source": [
    "import pandas as pd\n",
    "import numpy as np\n",
    "import os\n",
    "from tqdm import tqdm"
   ]
  },
  {
   "cell_type": "code",
   "execution_count": null,
   "metadata": {},
   "outputs": [],
   "source": [
    "csv_store_path = \"../../../siads591 data/space_track_raw/csv/\"\n",
    "filtered_store_path = \"../../../siads591 data/filtered_raw/\"\n",
    "output_file_name = \"gabbard_min.pkl\""
   ]
  },
  {
   "cell_type": "code",
   "execution_count": null,
   "metadata": {},
   "outputs": [],
   "source": [
    "# setting up default and initial variables\n",
    "columns = ['NORAD_CAT_ID', 'MEAN_MOTION', 'ECCENTRICITY', 'PERIOD', 'APOAPSIS', 'PERIAPSIS', 'OBJECT_TYPE', 'EPOCH']\n",
    "dtypes = {\n",
    "    'NORAD_CAT_ID':np.uint16,\n",
    "    'PERIOD':np.float64,\n",
    "    'APOAPSIS':np.float64,\n",
    "    'PERIAPSIS':np.float64,\n",
    "    'MEAN_MOTION':np.float64,\n",
    "    'ECCENTRICITY':np.float64,\n",
    "}"
   ]
  },
  {
   "cell_type": "code",
   "execution_count": null,
   "metadata": {},
   "outputs": [],
   "source": [
    "dfs = []\n",
    "files = sorted([x for x in os.listdir(f'{csv_store_path}/') if x.endswith(\".csv.gz\")])\n",
    "for f in tqdm(files):\n",
    "    if f.endswith(\".csv.gz\"):\n",
    "#        LEO = Mean Motion > 11.25 and Eccentricity < 0.25\n",
    "        df = pd.read_csv(f'{csv_store_path}{f}', usecols=columns, parse_dates=['EPOCH'], infer_datetime_format=True, index_col='EPOCH', dtype=dtypes, compression='gzip')\n",
    "        df = df[(df.MEAN_MOTION > 11.25) & (df.ECCENTRICITY < 0.25) & ((df.OBJECT_TYPE == \"DEBRIS\") | (df.OBJECT_TYPE == \"ROCKET BODY\"))][['NORAD_CAT_ID', 'PERIOD', 'APOAPSIS', 'PERIAPSIS']]\n",
    "        \n",
    "        # For the purpose of generating gabbard diagrams, an APOAPSIS of > 3000 is out of range thus, we can represent\n",
    "        # APOAPSIS scaled by 20x to a uint16 with a max precision of 1/20 step\n",
    "        df['APOAPSIS'] = (df['APOAPSIS'] * 20).clip(np.iinfo(np.uint16).min,np.iinfo(np.uint16).max).astype(int).astype(pd.UInt16Dtype())\n",
    "        \n",
    "        # similarly PERIAPSIS can be scaled by 20x\n",
    "        df['PERIAPSIS'] = (df['PERIAPSIS'] * 20).clip(np.iinfo(np.uint16).min,np.iinfo(np.uint16).max).astype(int).astype(pd.UInt16Dtype())\n",
    "        \n",
    "        # PERIOD does not exceed 130, and can be scaled by 500x\n",
    "        df['PERIOD'] = (df['PERIOD'] * 500).clip(np.iinfo(np.uint16).min,np.iinfo(np.uint16).max).astype(int).astype(pd.UInt16Dtype())\n",
    "        \n",
    "        # A slight loss of precision for gabbard diagrams are OK because the pixels are close / same in these cases, but\n",
    "        # being able to use 16bit variants allow much more efficient use of memory and is crucial for being able to perform\n",
    "        # the interpolation processing step.\n",
    "        \n",
    "        # Since animated gabbard diagrams are generated per frame, we can revert the scaling when we plot the graphs\n",
    "        dfs.append(df)\n",
    "df = pd.concat(dfs)\n",
    "df = df.rename(columns = {'PERIOD':'PERIOD_x500', 'APOAPSIS':'APOAPSIS_x20', 'PERIAPSIS':'PERIAPSIS_x20'})\n",
    "print(f\"Total number of rows {len(df)}\")\n",
    "print(f\"Exporting to: {filtered_store_path}{output_file_name}.gz\")\n",
    "df.to_pickle(f\"{filtered_store_path}{output_file_name}.gz\",compression=\"gzip\")\n",
    "print(f\"Export Complete!\")"
   ]
  }
 ],
 "metadata": {
  "kernelspec": {
   "display_name": "Python 3",
   "language": "python",
   "name": "python3"
  },
  "language_info": {
   "codemirror_mode": {
    "name": "ipython",
    "version": 3
   },
   "file_extension": ".py",
   "mimetype": "text/x-python",
   "name": "python",
   "nbconvert_exporter": "python",
   "pygments_lexer": "ipython3",
   "version": "3.8.5"
  }
 },
 "nbformat": 4,
 "nbformat_minor": 4
}
