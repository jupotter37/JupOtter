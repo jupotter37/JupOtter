{
 "cells": [
  {
   "cell_type": "code",
   "execution_count": 1,
   "metadata": {},
   "outputs": [],
   "source": [
    "## This contains a simple IK problem for solo 12\n",
    "## Author : Avadesh Meduri\n",
    "## Date : 25/02/2021\n",
    "\n",
    "import time\n",
    "import crocoddyl\n",
    "import numpy as np\n",
    "import pinocchio as pin\n",
    "\n",
    "from robot_properties_solo.config import Solo12Config\n",
    "from py_biconvex_mpc.ik.inverse_kinematics import InverseKinematics"
   ]
  },
  {
   "cell_type": "code",
   "execution_count": 2,
   "metadata": {},
   "outputs": [
    {
     "name": "stdout",
     "output_type": "stream",
     "text": [
      "You can open the visualizer by visiting the following URL:\n",
      "http://127.0.0.1:7000/static/\n"
     ]
    }
   ],
   "source": [
    "robot = Solo12Config.buildRobotWrapper()\n",
    "robot_model = robot.model\n",
    "viz = pin.visualize.MeshcatVisualizer(robot.model, robot.collision_model, robot.visual_model)\n",
    "viz.initViewer(open=True)\n",
    "viz.loadViewerModel()"
   ]
  },
  {
   "cell_type": "code",
   "execution_count": 3,
   "metadata": {},
   "outputs": [],
   "source": [
    "# Running and terminal action models\n",
    "dt = 1e-3\n",
    "T = 0.2\n",
    "N = int(T/dt)"
   ]
  },
  {
   "cell_type": "code",
   "execution_count": 4,
   "metadata": {},
   "outputs": [],
   "source": [
    "traj = []\n",
    "for t in range(N):\n",
    "    omega = np.pi/N\n",
    "    x = 0.15*np.sin(2*omega*t)\n",
    "    traj.append(np.array([0.4 + x , -0.16 ,0.1*np.sin(omega*t)]))\n",
    "    \n",
    "traj_hl = traj + np.array([-.4, 0.32, 0])"
   ]
  },
  {
   "cell_type": "code",
   "execution_count": 5,
   "metadata": {},
   "outputs": [],
   "source": [
    "ori_traj = []\n",
    "com_traj = np.zeros((N,3)) # center of mass traj\n",
    "com_traj[:,2] = 0.25\n",
    "com_traj[:,1] = np.linspace(0,1.0, N)\n",
    "# print(com_traj[:,0])\n",
    "# for t in range(N):\n",
    "#     omega = np.pi/N\n",
    "#     rz = (np.pi/5.0)*np.sin(2*omega*t)\n",
    "#     ori_traj.append(pin.utils.rpyToMatrix(rz,0.0,0.0))"
   ]
  },
  {
   "cell_type": "code",
   "execution_count": 6,
   "metadata": {},
   "outputs": [],
   "source": [
    "cmom_traj = np.zeros((N,6)) #centroidal momentum traj\n",
    "cmom_traj[:,2] = -2.0\n",
    "vel_traj = np.zeros((N, 6))"
   ]
  },
  {
   "cell_type": "code",
   "execution_count": 7,
   "metadata": {},
   "outputs": [
    {
     "ename": "RuntimeError",
     "evalue": "In /local/robotpkg/var/tmp/robotpkg/optimization/py-crocoddyl/work/crocoddyl-1.6.0/include/crocoddyl/core/costs/cost-sum.hxx\nvoid crocoddyl::CostModelSumTpl<Scalar>::addCost(const string&, boost::shared_ptr<crocoddyl::CostModelAbstractTpl<_Scalar> >, const Scalar&, bool) [with _Scalar = double; std::__cxx11::string = std::__cxx11::basic_string<char>; crocoddyl::CostModelSumTpl<Scalar>::Scalar = double] 30\nstateReg cost item doesn't have the same control dimension (it should be 18)",
     "output_type": "error",
     "traceback": [
      "\u001b[0;31m---------------------------------------------------------------------------\u001b[0m",
      "\u001b[0;31mRuntimeError\u001b[0m                              Traceback (most recent call last)",
      "\u001b[0;32m<ipython-input-7-cbe06d1c69a7>\u001b[0m in \u001b[0;36m<module>\u001b[0;34m\u001b[0m\n\u001b[1;32m     22\u001b[0m \u001b[0mcomTrack\u001b[0m \u001b[0;34m=\u001b[0m \u001b[0mcrocoddyl\u001b[0m\u001b[0;34m.\u001b[0m\u001b[0mCostModelCoMPosition\u001b[0m\u001b[0;34m(\u001b[0m\u001b[0mik\u001b[0m\u001b[0;34m.\u001b[0m\u001b[0mstate\u001b[0m\u001b[0;34m,\u001b[0m \u001b[0mcom_traj\u001b[0m\u001b[0;34m[\u001b[0m\u001b[0;34m-\u001b[0m\u001b[0;36m1\u001b[0m\u001b[0;34m]\u001b[0m\u001b[0;34m,\u001b[0m \u001b[0mik\u001b[0m\u001b[0;34m.\u001b[0m\u001b[0mstate\u001b[0m\u001b[0;34m.\u001b[0m\u001b[0mnv\u001b[0m\u001b[0;34m)\u001b[0m\u001b[0;34m\u001b[0m\u001b[0;34m\u001b[0m\u001b[0m\n\u001b[1;32m     23\u001b[0m \u001b[0;34m\u001b[0m\u001b[0m\n\u001b[0;32m---> 24\u001b[0;31m \u001b[0mik\u001b[0m\u001b[0;34m.\u001b[0m\u001b[0mterminalCostModel\u001b[0m\u001b[0;34m.\u001b[0m\u001b[0maddCost\u001b[0m\u001b[0;34m(\u001b[0m\u001b[0;34m\"stateReg\"\u001b[0m\u001b[0;34m,\u001b[0m \u001b[0mxRegCost\u001b[0m\u001b[0;34m,\u001b[0m \u001b[0;36m1e-4\u001b[0m\u001b[0;34m)\u001b[0m\u001b[0;34m\u001b[0m\u001b[0;34m\u001b[0m\u001b[0m\n\u001b[0m\u001b[1;32m     25\u001b[0m \u001b[0mik\u001b[0m\u001b[0;34m.\u001b[0m\u001b[0mterminalCostModel\u001b[0m\u001b[0;34m.\u001b[0m\u001b[0maddCost\u001b[0m\u001b[0;34m(\u001b[0m\u001b[0;34m\"ctrlReg\"\u001b[0m\u001b[0;34m,\u001b[0m \u001b[0muRegCost\u001b[0m\u001b[0;34m,\u001b[0m \u001b[0;36m1e-7\u001b[0m\u001b[0;34m)\u001b[0m\u001b[0;34m\u001b[0m\u001b[0;34m\u001b[0m\u001b[0m\n\u001b[1;32m     26\u001b[0m \u001b[0;31m# ik.terminalCostModel.addCost(\"comtask\", comTrack, 1e+5)\u001b[0m\u001b[0;34m\u001b[0m\u001b[0;34m\u001b[0m\u001b[0;34m\u001b[0m\u001b[0m\n",
      "\u001b[0;31mRuntimeError\u001b[0m: In /local/robotpkg/var/tmp/robotpkg/optimization/py-crocoddyl/work/crocoddyl-1.6.0/include/crocoddyl/core/costs/cost-sum.hxx\nvoid crocoddyl::CostModelSumTpl<Scalar>::addCost(const string&, boost::shared_ptr<crocoddyl::CostModelAbstractTpl<_Scalar> >, const Scalar&, bool) [with _Scalar = double; std::__cxx11::string = std::__cxx11::basic_string<char>; crocoddyl::CostModelSumTpl<Scalar>::Scalar = double] 30\nstateReg cost item doesn't have the same control dimension (it should be 18)"
     ]
    }
   ],
   "source": [
    "# setting up running cost model for swing foot task\n",
    "ik = InverseKinematics(robot_model, dt, T)\n",
    "\n",
    "# ik.add_com_position_tracking_task(0, T, com_traj, 1e5, \"com_task\")\n",
    "# ik.add_orientation_tracking_task(robot_model.getFrameId(\"base_link\"), 0, T, ori_traj, 1e4, \"base_otc\")\n",
    "# ik.add_centroidal_momentum_tracking_task(0, T, cmom_traj, 1e5, \"cent_tc\")\n",
    "\n",
    "ik.add_position_tracking_task(robot_model.getFrameId(\"FR_FOOT\"), 0, T, traj, 1e3, \"FR_ftc\")\n",
    "# ik.add_position_tracking_task(robot_model.getFrameId(\"HL_FOOT\"), 0, T, traj_hl, 1e3, \"HL_ftc\")\n",
    "\n",
    "# ik.add_velocity_tracking_task(robot_model.getFrameId(\"FL_FOOT\"), 0, T, vel_traj, 1e3, \"FL_vtc\")\n",
    "# ik.add_velocity_tracking_task(robot_model.getFrameId(\"FR_FOOT\"), 0, T, vel_traj, 1e3, \"FR_vtc\")\n",
    "ik.add_velocity_tracking_task(robot_model.getFrameId(\"HL_FOOT\"), 0, T, vel_traj, 1e3, \"HL_vtc\")\n",
    "# ik.add_velocity_tracking_task(robot_model.getFrameId(\"HR_FOOT\"), 0, T, vel_traj, 1e3, \"HR_vtc\")\n",
    "\n",
    "ik.add_state_regularization_cost(0, T, 1e-4, \"xReg\")\n",
    "ik.add_ctrl_regularization_cost(0, T, 1e-7, \"uReg\")\n",
    "\n",
    "# setting up terminal cost model\n",
    "xRegCost = crocoddyl.CostModelState(ik.state)\n",
    "uRegCost = crocoddyl.CostModelControl(ik.state)\n",
    "comTrack = crocoddyl.CostModelCoMPosition(ik.state, com_traj[-1], ik.state.nv)\n",
    "\n",
    "ik.terminalCostModel.addCost(\"stateReg\", xRegCost, 1e-4)\n",
    "ik.terminalCostModel.addCost(\"ctrlReg\", uRegCost, 1e-7) \n",
    "# ik.terminalCostModel.addCost(\"comtask\", comTrack, 1e+5)"
   ]
  },
  {
   "cell_type": "code",
   "execution_count": null,
   "metadata": {},
   "outputs": [],
   "source": [
    "ik.setup_costs()\n",
    "\n",
    "q0 = np.array(Solo12Config.initial_configuration)\n",
    "x0 = np.concatenate([q0, pin.utils.zero(robot_model.nv)])\n",
    "xs = ik.optimize(x0) \n"
   ]
  },
  {
   "cell_type": "code",
   "execution_count": null,
   "metadata": {},
   "outputs": [],
   "source": [
    "for i in range(len(xs)):\n",
    "    time.sleep(0.01)\n",
    "    viz.display(xs[i][:robot_model.nq])"
   ]
  },
  {
   "cell_type": "code",
   "execution_count": null,
   "metadata": {},
   "outputs": [],
   "source": [
    "for i in range(len(xs)):\n",
    "    q = xs[i][:robot_model.nq]\n",
    "    v = xs[i][robot_model.nq:]\n",
    "    pin.forwardKinematics(robot.model, robot.data, q, v)\n",
    "#     pin.updateFramePlacements(robot.model, robot.data)\n",
    "    print(pin.centerOfMass(robot.model, robot.data, q, v))\n",
    "    pin.computeCentroidalMomentum(robot.model, robot.data)\n",
    "#     print(np.round(robot.data.hg, 2))"
   ]
  }
 ],
 "metadata": {
  "kernelspec": {
   "display_name": "Python 3",
   "language": "python",
   "name": "python3"
  },
  "language_info": {
   "codemirror_mode": {
    "name": "ipython",
    "version": 3
   },
   "file_extension": ".py",
   "mimetype": "text/x-python",
   "name": "python",
   "nbconvert_exporter": "python",
   "pygments_lexer": "ipython3",
   "version": "3.6.9"
  }
 },
 "nbformat": 4,
 "nbformat_minor": 4
}
