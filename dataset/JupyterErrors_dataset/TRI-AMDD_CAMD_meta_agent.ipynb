{
 "cells": [
  {
   "cell_type": "markdown",
   "metadata": {},
   "source": [
    "## CAMD Meta agent example"
   ]
  },
  {
   "cell_type": "markdown",
   "metadata": {},
   "source": [
    "## NOTE: This notebook is still in development, Meta Agent functionality is still beta"
   ]
  },
  {
   "cell_type": "code",
   "execution_count": 1,
   "metadata": {},
   "outputs": [
    {
     "name": "stderr",
     "output_type": "stream",
     "text": [
      "WARNING:root:Failed to import pyspglib.Download at: http://sourceforge.net/projects/spglib/ andfollow instructions for installing python API\n"
     ]
    }
   ],
   "source": [
    "from camd.campaigns.meta_agent import MetaAgentCampaign, \\\n",
    "    StabilityCampaignAnalyzer\n",
    "from camd.analysis import StabilityAnalyzer\n",
    "from camd.utils.data import load_dataframe, partition_intercomp, \\\n",
    "    get_oqmd_data_by_chemsys\n",
    "from camd.experiment.agent_simulation import LocalAgentSimulation\n",
    "from camd.agent.base import RandomAgent\n",
    "from taburu.table import ParameterTable\n",
    "from camd import CAMD_S3_BUCKET\n",
    "# Note that env variable must be set\n",
    "if CAMD_S3_BUCKET is None:\n",
    "    raise ValueError(\"Set CAMD_S3_BUCKET to enable notebook\")"
   ]
  },
  {
   "cell_type": "markdown",
   "metadata": {},
   "source": [
    "### Define the agents and agent_pool"
   ]
  },
  {
   "cell_type": "code",
   "execution_count": 2,
   "metadata": {},
   "outputs": [],
   "source": [
    "# Define agent parameters\n",
    "agent_params = [\n",
    "    {\n",
    "        \"@class\": [\"camd.agent.base.RandomAgent\"],\n",
    "        \"n_query\": [2, 3],\n",
    "    },\n",
    "]"
   ]
  },
  {
   "cell_type": "markdown",
   "metadata": {},
   "source": [
    "### Construct the dataframe using Fe-O data"
   ]
  },
  {
   "cell_type": "code",
   "execution_count": 3,
   "metadata": {},
   "outputs": [],
   "source": [
    "data = get_oqmd_data_by_chemsys(\"Fe-O\", drop_duplicates=True)\n",
    "candidate_data, seed_data = partition_intercomp(data)"
   ]
  },
  {
   "cell_type": "markdown",
   "metadata": {},
   "source": [
    "### Construct core campaign objects"
   ]
  },
  {
   "cell_type": "code",
   "execution_count": 4,
   "metadata": {},
   "outputs": [
    {
     "name": "stderr",
     "output_type": "stream",
     "text": [
      "100%|████████████████████████████████████████████████████████████████████████████████████████████████████████████████████████████████████████| 2/2 [00:00<00:00, 4092.00it/s]\n"
     ]
    }
   ],
   "source": [
    "experiment = LocalAgentSimulation(\n",
    "    atf_candidate_data=candidate_data, seed_data=seed_data,\n",
    "    analyzer=StabilityAnalyzer(), iterations=10,\n",
    ")\n",
    "analyzer = StabilityCampaignAnalyzer(\n",
    "    checkpoint_indices=[2, 5, 10])\n",
    "agent_pool = ParameterTable(agent_params)"
   ]
  },
  {
   "cell_type": "markdown",
   "metadata": {},
   "source": [
    "### Reserve campaign in S3"
   ]
  },
  {
   "cell_type": "code",
   "execution_count": 5,
   "metadata": {},
   "outputs": [],
   "source": [
    "MetaAgentCampaign.reserve(\n",
    "    name=\"test_meta_agent_python\", experiment=experiment,\n",
    "    agent_pool=agent_pool, analyzer=analyzer\n",
    ")"
   ]
  },
  {
   "cell_type": "markdown",
   "metadata": {},
   "source": [
    "### Run via Python API"
   ]
  },
  {
   "cell_type": "code",
   "execution_count": 6,
   "metadata": {},
   "outputs": [
    {
     "name": "stderr",
     "output_type": "stream",
     "text": [
      "MetaAgentCampaign initialization state: Agent RandomAgent hypothesizing\n",
      "MetaAgentCampaign 0 state: Running experiments\n",
      "Iteration: 0\n",
      "MetaAgentCampaign 0 state: Getting new results\n",
      "Campaign initialization state: Agent RandomAgent hypothesizing\n",
      "Campaign 0 state: Running experiments\n",
      "Iteration: 0\n",
      "Campaign 0 state: Getting new results\n",
      "Campaign 0 state: Analyzing results\n",
      "/Users/josephmontoya/miniconda3/envs/camd/lib/python3.7/site-packages/pymatgen/analysis/phase_diagram.py:1968: UserWarning: linestyle is redundantly defined by the 'linestyle' keyword argument and the fmt string \"ko-\" (-> linestyle='-'). The keyword argument will take precedence.\n",
      "  plt.plot(x, y, \"ko-\", **self.plotkwargs)\n",
      "Campaign 0 state: Agent RandomAgent hypothesizing\n",
      "Campaign 0 state: Running experiments\n",
      "  Waiting for next round ...\n",
      "Iteration: 1\n",
      "Campaign 1 state: Getting new results\n",
      "Campaign 1 state: Analyzing results\n",
      "Campaign 1 state: Agent RandomAgent hypothesizing\n",
      "Campaign 1 state: Running experiments\n",
      "  Waiting for next round ...\n",
      "Iteration: 2\n",
      "Campaign 2 state: Getting new results\n",
      "Campaign 2 state: Analyzing results\n",
      "Campaign 2 state: Agent RandomAgent hypothesizing\n",
      "Campaign 2 state: Running experiments\n",
      "  Waiting for next round ...\n",
      "Iteration: 3\n",
      "Campaign 3 state: Getting new results\n",
      "Campaign 3 state: Analyzing results\n",
      "Campaign 3 state: Agent RandomAgent hypothesizing\n",
      "Campaign 3 state: Running experiments\n",
      "  Waiting for next round ...\n",
      "Iteration: 4\n",
      "Campaign 4 state: Getting new results\n",
      "Campaign 4 state: Analyzing results\n",
      "Campaign 4 state: Agent RandomAgent hypothesizing\n",
      "Campaign 4 state: Running experiments\n",
      "  Waiting for next round ...\n",
      "Iteration: 5\n",
      "Campaign 5 state: Getting new results\n",
      "Campaign 5 state: Analyzing results\n",
      "Campaign 5 state: Agent RandomAgent hypothesizing\n",
      "Campaign 5 state: Running experiments\n",
      "  Waiting for next round ...\n",
      "Iteration: 6\n",
      "Campaign 6 state: Getting new results\n",
      "Campaign 6 state: Analyzing results\n",
      "Campaign 6 state: Agent RandomAgent hypothesizing\n",
      "Campaign 6 state: Running experiments\n",
      "  Waiting for next round ...\n",
      "Iteration: 7\n",
      "Campaign 7 state: Getting new results\n",
      "Campaign 7 state: Analyzing results\n",
      "Campaign 7 state: Agent RandomAgent hypothesizing\n",
      "Campaign 7 state: Running experiments\n",
      "  Waiting for next round ...\n",
      "Iteration: 8\n",
      "Campaign 8 state: Getting new results\n",
      "Campaign 8 state: Analyzing results\n",
      "Campaign 8 state: Agent RandomAgent hypothesizing\n",
      "Campaign 8 state: Running experiments\n",
      "  Waiting for next round ...\n",
      "Iteration: 9\n",
      "Campaign 9 state: Getting new results\n",
      "Campaign 9 state: Analyzing results\n",
      "Campaign 9 state: Agent RandomAgent hypothesizing\n",
      "Campaign 9 state: Running experiments\n",
      "  Waiting for next round ...\n",
      "Iteration: 10\n",
      "Campaign 10 state: Getting new results\n",
      "Campaign 10 state: Analyzing results\n",
      "Campaign 10 state: Agent RandomAgent hypothesizing\n",
      "Campaign 10 state: Running experiments\n",
      "  Waiting for next round ...\n",
      "Finalizing campaign.\n",
      "MetaAgentCampaign 0 state: Analyzing results\n"
     ]
    },
    {
     "ename": "PicklingError",
     "evalue": "logger cannot be pickled",
     "output_type": "error",
     "traceback": [
      "\u001b[0;31m---------------------------------------------------------------------------\u001b[0m",
      "\u001b[0;31mPicklingError\u001b[0m                             Traceback (most recent call last)",
      "\u001b[0;32m/var/folders/ty/mv_mnwg56csbrw__g26c5nf80000gq/T/ipykernel_75234/3681173893.py\u001b[0m in \u001b[0;36m<module>\u001b[0;34m\u001b[0m\n\u001b[1;32m      6\u001b[0m campaign = MetaAgentCampaign.from_reserved_name(\n\u001b[1;32m      7\u001b[0m     \"test_meta_agent_python\", meta_agent=meta_agent)\n\u001b[0;32m----> 8\u001b[0;31m \u001b[0mcampaign\u001b[0m\u001b[0;34m.\u001b[0m\u001b[0mautorun\u001b[0m\u001b[0;34m(\u001b[0m\u001b[0;34m)\u001b[0m\u001b[0;34m\u001b[0m\u001b[0;34m\u001b[0m\u001b[0m\n\u001b[0m\u001b[1;32m      9\u001b[0m \u001b[0mos\u001b[0m\u001b[0;34m.\u001b[0m\u001b[0mchdir\u001b[0m\u001b[0;34m(\u001b[0m\u001b[0;34m'..'\u001b[0m\u001b[0;34m)\u001b[0m\u001b[0;34m\u001b[0m\u001b[0;34m\u001b[0m\u001b[0m\n",
      "\u001b[0;32m~/PycharmProjects/camd/camd_public/camd/campaigns/meta_agent.py\u001b[0m in \u001b[0;36mautorun\u001b[0;34m(self)\u001b[0m\n\u001b[1;32m    179\u001b[0m \u001b[0;34m\u001b[0m\u001b[0m\n\u001b[1;32m    180\u001b[0m         \"\"\"\n\u001b[0;32m--> 181\u001b[0;31m         \u001b[0mself\u001b[0m\u001b[0;34m.\u001b[0m\u001b[0mauto_loop\u001b[0m\u001b[0;34m(\u001b[0m\u001b[0mn_iterations\u001b[0m\u001b[0;34m=\u001b[0m\u001b[0;36m5\u001b[0m\u001b[0;34m,\u001b[0m \u001b[0minitialize\u001b[0m\u001b[0;34m=\u001b[0m\u001b[0;32mTrue\u001b[0m\u001b[0;34m)\u001b[0m\u001b[0;34m\u001b[0m\u001b[0;34m\u001b[0m\u001b[0m\n\u001b[0m\u001b[1;32m    182\u001b[0m \u001b[0;34m\u001b[0m\u001b[0m\n\u001b[1;32m    183\u001b[0m \u001b[0;34m\u001b[0m\u001b[0m\n",
      "\u001b[0;32m~/PycharmProjects/camd/camd_public/camd/campaigns/base.py\u001b[0m in \u001b[0;36mauto_loop\u001b[0;34m(self, n_iterations, monitor, initialize, save_iterations)\u001b[0m\n\u001b[1;32m    255\u001b[0m         \u001b[0;32mwhile\u001b[0m \u001b[0mn_iterations\u001b[0m \u001b[0;34m-\u001b[0m \u001b[0mself\u001b[0m\u001b[0;34m.\u001b[0m\u001b[0miteration\u001b[0m \u001b[0;34m>=\u001b[0m \u001b[0;36m0\u001b[0m\u001b[0;34m:\u001b[0m\u001b[0;34m\u001b[0m\u001b[0;34m\u001b[0m\u001b[0m\n\u001b[1;32m    256\u001b[0m             \u001b[0mself\u001b[0m\u001b[0;34m.\u001b[0m\u001b[0mlogger\u001b[0m\u001b[0;34m.\u001b[0m\u001b[0minfo\u001b[0m\u001b[0;34m(\u001b[0m\u001b[0;34m\"Iteration: {}\"\u001b[0m\u001b[0;34m.\u001b[0m\u001b[0mformat\u001b[0m\u001b[0;34m(\u001b[0m\u001b[0mself\u001b[0m\u001b[0;34m.\u001b[0m\u001b[0miteration\u001b[0m\u001b[0;34m)\u001b[0m\u001b[0;34m)\u001b[0m\u001b[0;34m\u001b[0m\u001b[0;34m\u001b[0m\u001b[0m\n\u001b[0;32m--> 257\u001b[0;31m             \u001b[0;32mif\u001b[0m \u001b[0;32mnot\u001b[0m \u001b[0mself\u001b[0m\u001b[0;34m.\u001b[0m\u001b[0mrun\u001b[0m\u001b[0;34m(\u001b[0m\u001b[0;34m)\u001b[0m\u001b[0;34m:\u001b[0m\u001b[0;34m\u001b[0m\u001b[0;34m\u001b[0m\u001b[0m\n\u001b[0m\u001b[1;32m    258\u001b[0m                 \u001b[0;32mbreak\u001b[0m\u001b[0;34m\u001b[0m\u001b[0;34m\u001b[0m\u001b[0m\n\u001b[1;32m    259\u001b[0m             \u001b[0mself\u001b[0m\u001b[0;34m.\u001b[0m\u001b[0mlogger\u001b[0m\u001b[0;34m.\u001b[0m\u001b[0minfo\u001b[0m\u001b[0;34m(\u001b[0m\u001b[0;34m\"  Waiting for next round ...\"\u001b[0m\u001b[0;34m)\u001b[0m\u001b[0;34m\u001b[0m\u001b[0;34m\u001b[0m\u001b[0m\n",
      "\u001b[0;32m~/PycharmProjects/camd/camd_public/camd/campaigns/base.py\u001b[0m in \u001b[0;36mrun\u001b[0;34m(self, finalize)\u001b[0m\n\u001b[1;32m    172\u001b[0m         \u001b[0mnew_seed_data\u001b[0m \u001b[0;34m=\u001b[0m \u001b[0mself\u001b[0m\u001b[0;34m.\u001b[0m\u001b[0mseed_data\u001b[0m\u001b[0;34m.\u001b[0m\u001b[0mappend\u001b[0m\u001b[0;34m(\u001b[0m\u001b[0mnew_experimental_results\u001b[0m\u001b[0;34m)\u001b[0m\u001b[0;34m\u001b[0m\u001b[0;34m\u001b[0m\u001b[0m\n\u001b[1;32m    173\u001b[0m         \u001b[0mself\u001b[0m\u001b[0;34m.\u001b[0m\u001b[0mseed_data\u001b[0m \u001b[0;34m=\u001b[0m \u001b[0mnew_seed_data\u001b[0m\u001b[0;34m\u001b[0m\u001b[0;34m\u001b[0m\u001b[0m\n\u001b[0;32m--> 174\u001b[0;31m         \u001b[0mself\u001b[0m\u001b[0;34m.\u001b[0m\u001b[0msave\u001b[0m\u001b[0;34m(\u001b[0m\u001b[0;34m\"seed_data\"\u001b[0m\u001b[0;34m,\u001b[0m \u001b[0mmethod\u001b[0m\u001b[0;34m=\u001b[0m\u001b[0;34m\"pickle\"\u001b[0m\u001b[0;34m)\u001b[0m\u001b[0;34m\u001b[0m\u001b[0;34m\u001b[0m\u001b[0m\n\u001b[0m\u001b[1;32m    175\u001b[0m \u001b[0;34m\u001b[0m\u001b[0m\n\u001b[1;32m    176\u001b[0m         \u001b[0;31m# Remove candidates from candidate space\u001b[0m\u001b[0;34m\u001b[0m\u001b[0;34m\u001b[0m\u001b[0;34m\u001b[0m\u001b[0m\n",
      "\u001b[0;32m~/PycharmProjects/camd/camd_public/camd/campaigns/base.py\u001b[0m in \u001b[0;36msave\u001b[0;34m(self, data_holder, custom_name, method)\u001b[0m\n\u001b[1;32m    411\u001b[0m             \u001b[0;32mraise\u001b[0m \u001b[0mValueError\u001b[0m\u001b[0;34m(\u001b[0m\u001b[0;34m\"Unknown data save method\"\u001b[0m\u001b[0;34m)\u001b[0m\u001b[0;34m\u001b[0m\u001b[0;34m\u001b[0m\u001b[0m\n\u001b[1;32m    412\u001b[0m         \u001b[0;32mwith\u001b[0m \u001b[0mopen\u001b[0m\u001b[0;34m(\u001b[0m\u001b[0m_path\u001b[0m\u001b[0;34m,\u001b[0m \u001b[0mmode\u001b[0m\u001b[0;34m)\u001b[0m \u001b[0;32mas\u001b[0m \u001b[0mf\u001b[0m\u001b[0;34m:\u001b[0m\u001b[0;34m\u001b[0m\u001b[0;34m\u001b[0m\u001b[0m\n\u001b[0;32m--> 413\u001b[0;31m             \u001b[0mm\u001b[0m\u001b[0;34m.\u001b[0m\u001b[0mdump\u001b[0m\u001b[0;34m(\u001b[0m\u001b[0mself\u001b[0m\u001b[0;34m.\u001b[0m\u001b[0m__getattribute__\u001b[0m\u001b[0;34m(\u001b[0m\u001b[0mdata_holder\u001b[0m\u001b[0;34m)\u001b[0m\u001b[0;34m,\u001b[0m \u001b[0mf\u001b[0m\u001b[0;34m)\u001b[0m\u001b[0;34m\u001b[0m\u001b[0;34m\u001b[0m\u001b[0m\n\u001b[0m\u001b[1;32m    414\u001b[0m \u001b[0;34m\u001b[0m\u001b[0m\n\u001b[1;32m    415\u001b[0m         \u001b[0;32mif\u001b[0m \u001b[0mself\u001b[0m\u001b[0;34m.\u001b[0m\u001b[0ms3_prefix\u001b[0m\u001b[0;34m:\u001b[0m\u001b[0;34m\u001b[0m\u001b[0;34m\u001b[0m\u001b[0m\n",
      "\u001b[0;32m~/miniconda3/envs/camd/lib/python3.7/logging/__init__.py\u001b[0m in \u001b[0;36m__reduce__\u001b[0;34m(self)\u001b[0m\n\u001b[1;32m   1659\u001b[0m         \u001b[0;32mif\u001b[0m \u001b[0mgetLogger\u001b[0m\u001b[0;34m(\u001b[0m\u001b[0mself\u001b[0m\u001b[0;34m.\u001b[0m\u001b[0mname\u001b[0m\u001b[0;34m)\u001b[0m \u001b[0;32mis\u001b[0m \u001b[0;32mnot\u001b[0m \u001b[0mself\u001b[0m\u001b[0;34m:\u001b[0m\u001b[0;34m\u001b[0m\u001b[0;34m\u001b[0m\u001b[0m\n\u001b[1;32m   1660\u001b[0m             \u001b[0;32mimport\u001b[0m \u001b[0mpickle\u001b[0m\u001b[0;34m\u001b[0m\u001b[0;34m\u001b[0m\u001b[0m\n\u001b[0;32m-> 1661\u001b[0;31m             \u001b[0;32mraise\u001b[0m \u001b[0mpickle\u001b[0m\u001b[0;34m.\u001b[0m\u001b[0mPicklingError\u001b[0m\u001b[0;34m(\u001b[0m\u001b[0;34m'logger cannot be pickled'\u001b[0m\u001b[0;34m)\u001b[0m\u001b[0;34m\u001b[0m\u001b[0;34m\u001b[0m\u001b[0m\n\u001b[0m\u001b[1;32m   1662\u001b[0m         \u001b[0;32mreturn\u001b[0m \u001b[0mgetLogger\u001b[0m\u001b[0;34m,\u001b[0m \u001b[0;34m(\u001b[0m\u001b[0mself\u001b[0m\u001b[0;34m.\u001b[0m\u001b[0mname\u001b[0m\u001b[0;34m,\u001b[0m\u001b[0;34m)\u001b[0m\u001b[0;34m\u001b[0m\u001b[0;34m\u001b[0m\u001b[0m\n\u001b[1;32m   1663\u001b[0m \u001b[0;34m\u001b[0m\u001b[0m\n",
      "\u001b[0;31mPicklingError\u001b[0m: logger cannot be pickled"
     ]
    }
   ],
   "source": [
    "import os, shutil\n",
    "shutil.rmtree(\"python\", ignore_errors=True)\n",
    "os.makedirs(\"python\")\n",
    "os.chdir(\"python\")\n",
    "meta_agent = RandomAgent(n_query=1)\n",
    "campaign = MetaAgentCampaign.from_reserved_name(\n",
    "    \"test_meta_agent_python\", meta_agent=meta_agent)\n",
    "campaign.autorun()\n",
    "os.chdir('..')"
   ]
  },
  {
   "cell_type": "markdown",
   "metadata": {},
   "source": [
    "### Run via CLI"
   ]
  },
  {
   "cell_type": "code",
   "execution_count": null,
   "metadata": {},
   "outputs": [],
   "source": [
    "def create_test(name):\n",
    "    data = get_oqmd_data_by_chemsys(\"Fe-O\", drop_duplicates=True)\n",
    "    candidate_data, seed_data = partition_intercomp(data)\n",
    "    experiment = LocalAgentSimulation(\n",
    "        atf_candidate_data=candidate_data, seed_data=seed_data,\n",
    "        analyzer=StabilityAnalyzer(), iterations=10,\n",
    "    )\n",
    "    analyzer = StabilityCampaignAnalyzer(\n",
    "        checkpoint_indices=[2, 5, 10])\n",
    "    agent_pool = ParameterTable(agent_params)\n",
    "    MetaAgentCampaign.reserve(\n",
    "        name=name, experiment=experiment,\n",
    "        agent_pool=agent_pool, analyzer=analyzer\n",
    "    )"
   ]
  },
  {
   "cell_type": "code",
   "execution_count": null,
   "metadata": {},
   "outputs": [],
   "source": [
    "create_test(\"test_meta_agent_cli\")"
   ]
  },
  {
   "cell_type": "code",
   "execution_count": null,
   "metadata": {},
   "outputs": [],
   "source": [
    "# Run s3 backed campaign\n",
    "!rm -rf test && \\\n",
    "mkdir test && \\\n",
    "cd test && \\\n",
    "camd_runner meta_agent/test_meta_agent_cli"
   ]
  },
  {
   "cell_type": "markdown",
   "metadata": {},
   "source": [
    "Summary figure\n",
    "![title](test/campaign_summary.png)"
   ]
  },
  {
   "cell_type": "markdown",
   "metadata": {},
   "source": [
    "### Run on AWS Batch"
   ]
  },
  {
   "cell_type": "code",
   "execution_count": null,
   "metadata": {},
   "outputs": [],
   "source": [
    "create_test(\"test_meta_agent_aws_batch\")"
   ]
  },
  {
   "cell_type": "code",
   "execution_count": null,
   "metadata": {},
   "outputs": [],
   "source": [
    "submit_output = \\\n",
    "!aws batch submit-job \\\n",
    "--job-name test_meta_agent_aws_batch \\\n",
    "--job-queue camd_dev \\\n",
    "--job-definition camd_dev_batch \\\n",
    "--parameters name=meta_agent/test_meta_agent_aws_batch"
   ]
  },
  {
   "cell_type": "code",
   "execution_count": null,
   "metadata": {},
   "outputs": [],
   "source": [
    "import json, time\n",
    "job_data = json.loads(''.join(submit_output))\n",
    "job_id = job_data['jobId']\n",
    "while True:\n",
    "    describe_output = !aws batch describe-jobs --jobs $job_id\n",
    "    job_data = json.loads(''.join(describe_output))\n",
    "    job_status = job_data['jobs'][0]['status']\n",
    "    print(\"Job status is {}\".format(job_status))\n",
    "    if job_status not in ['PENDING', 'RUNNABLE', 'RUNNING']:\n",
    "        break\n",
    "    time.sleep(20)"
   ]
  }
 ],
 "metadata": {
  "kernelspec": {
   "display_name": "Python 3 (ipykernel)",
   "language": "python",
   "name": "python3"
  },
  "language_info": {
   "codemirror_mode": {
    "name": "ipython",
    "version": 3
   },
   "file_extension": ".py",
   "mimetype": "text/x-python",
   "name": "python",
   "nbconvert_exporter": "python",
   "pygments_lexer": "ipython3",
   "version": "3.7.12"
  }
 },
 "nbformat": 4,
 "nbformat_minor": 2
}
