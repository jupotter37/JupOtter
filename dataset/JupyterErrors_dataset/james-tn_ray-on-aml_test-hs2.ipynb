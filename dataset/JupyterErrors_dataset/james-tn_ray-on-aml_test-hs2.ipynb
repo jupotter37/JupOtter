{
 "cells": [
  {
   "cell_type": "code",
   "execution_count": 43,
   "id": "2c384b7a",
   "metadata": {},
   "outputs": [],
   "source": [
    "import os\n",
    "import numpy as np\n",
    "import torch\n",
    "import torch.optim as optim\n",
    "import torch.nn as nn\n",
    "from torchvision import datasets, transforms\n",
    "from torch.utils.data import DataLoader\n",
    "import torch.nn.functional as F\n",
    "import ray\n",
    "from ray import tune\n",
    "from ray.tune import Callback\n",
    "from ray.tune.schedulers import ASHAScheduler\n",
    "from ray.tune.integration.mlflow import MLflowLoggerCallback\n",
    "from ray.util.dask import ray_dask_get\n",
    "from ray_on_aml.core import Ray_On_AML\n",
    "import dask\n",
    "import dask.array as da\n",
    "import dask.dataframe as dd\n",
    "from adlfs import AzureBlobFileSystem\n",
    "from azureml.core import Run\n",
    "import mlflow\n",
    "from azureml.core import Workspace, Experiment, Environment, Datastore, Dataset, ScriptRunConfig\n",
    "from azureml.core.runconfig import PyTorchConfiguration\n",
    "# from azureml.widgets import RunDetails\n",
    "from azureml.core.compute import ComputeTarget, AmlCompute\n",
    "from azureml.core.compute_target import ComputeTargetException\n",
    "from azureml.core.runconfig import PyTorchConfiguration\n",
    "from azureml.core.environment import Environment\n",
    "from azureml.core.conda_dependencies import CondaDependencies\n",
    "from IPython.display import clear_output\n",
    "import time\n",
    "import platform\n",
    "import sys\n",
    "import importlib\n",
    "\n",
    "\n",
    "dask.config.set(scheduler=ray_dask_get)\n",
    "\n",
    "accList = []\n",
    "\n",
    "class ConvNet(nn.Module):\n",
    "    def __init__(self):\n",
    "        super(ConvNet, self).__init__()\n",
    "        # In this example, we don't change the model architecture\n",
    "        # due to simplicity.\n",
    "        self.conv1 = nn.Conv2d(1, 3, kernel_size=3)\n",
    "        self.fc = nn.Linear(192, 10)\n",
    "\n",
    "    def forward(self, x):\n",
    "        x = F.relu(F.max_pool2d(self.conv1(x), 3))\n",
    "        x = x.view(-1, 192)\n",
    "        x = self.fc(x)\n",
    "        return F.log_softmax(x, dim=1)\n",
    "\n",
    "\n",
    "class captureMetrics(Callback):\n",
    "    def on_trial_result(self, iteration, trials, trial, result, **info):\n",
    "        accList.append(result['mean_accuracy'])\n",
    "\n",
    "\n",
    "# Change these values if you want the training to run quicker or slower.\n",
    "EPOCH_SIZE = 512\n",
    "TEST_SIZE = 256\n",
    "OUTPUTPATH = './outputs'\n",
    "\n",
    "def train(model, optimizer, train_loader):\n",
    "    device = torch.device(\"cuda\" if torch.cuda.is_available() else \"cpu\")\n",
    "    model.train()\n",
    "    for batch_idx, (data, target) in enumerate(train_loader):\n",
    "        # We set this just for the example to run quickly.\n",
    "        if batch_idx * len(data) > EPOCH_SIZE:\n",
    "            return\n",
    "        data, target = data.to(device), target.to(device)\n",
    "        optimizer.zero_grad()\n",
    "        output = model(data)\n",
    "        loss = F.nll_loss(output, target)\n",
    "        loss.backward()\n",
    "        optimizer.step()\n",
    "\n",
    "\n",
    "def test(model, data_loader):\n",
    "    device = torch.device(\"cuda\" if torch.cuda.is_available() else \"cpu\")\n",
    "    model.eval()\n",
    "    correct = 0\n",
    "    total = 0\n",
    "    with torch.no_grad():\n",
    "        for batch_idx, (data, target) in enumerate(data_loader):\n",
    "            # We set this just for the example to run quickly.\n",
    "            if batch_idx * len(data) > TEST_SIZE:\n",
    "                break\n",
    "            data, target = data.to(device), target.to(device)\n",
    "            outputs = model(data)\n",
    "            _, predicted = torch.max(outputs.data, 1)\n",
    "            total += target.size(0)\n",
    "            correct += (predicted == target).sum().item()\n",
    "\n",
    "    return correct / total\n",
    "\n",
    "\n",
    "def train_mnist(config):\n",
    "    # Data Setup\n",
    "    mnist_transforms = transforms.Compose(\n",
    "        [transforms.ToTensor(),\n",
    "         transforms.Normalize((0.1307, ), (0.3081, ))])\n",
    "\n",
    "    train_loader = DataLoader(\n",
    "        datasets.MNIST(\"~/data\", train=True, download=True, transform=mnist_transforms),\n",
    "        batch_size=64,\n",
    "        shuffle=True)\n",
    "    test_loader = DataLoader(\n",
    "        datasets.MNIST(\"~/data\", train=False, transform=mnist_transforms),\n",
    "        batch_size=64,\n",
    "        shuffle=True)\n",
    "\n",
    "    device = torch.device(\"cuda\" if torch.cuda.is_available() else \"cpu\")\n",
    "\n",
    "    model = ConvNet()\n",
    "    model.to(device)\n",
    "\n",
    "    optimizer = optim.SGD(\n",
    "        model.parameters(), lr=config[\"lr\"], momentum=config[\"momentum\"])\n",
    "    \n",
    "#     accList = []\n",
    "\n",
    "    for i in range(10):\n",
    "        train(model, optimizer, train_loader)\n",
    "        acc = test(model, test_loader)\n",
    "#         accList.append(acc)\n",
    "\n",
    "        # Send the current training result back to Tune\n",
    "        tune.report(mean_accuracy=acc)\n",
    "\n",
    "        if not os.path.exists(OUTPUTPATH):\n",
    "            os.mkdir(OUTPUTPATH)\n",
    "            print(os.getcwd())\n",
    "            \n",
    "        if i % 5 == 0:\n",
    "            # This saves the model to the trial directory\n",
    "            filename = os.path.join(OUTPUTPATH,str(i),'model.pth')\n",
    "            print(filename)\n",
    "            torch.save(model.state_dict(), './model.pth')\n",
    "\n",
    "\n",
    "search_space = {\n",
    "    \"lr\": tune.sample_from(lambda spec: 10**(-10 * np.random.rand())),\n",
    "    \"momentum\": tune.uniform(0.01, 0.09)\n",
    "}\n"
   ]
  },
  {
   "cell_type": "code",
   "execution_count": 47,
   "id": "db49eb67",
   "metadata": {},
   "outputs": [
    {
     "data": {
      "text/plain": [
       "<Experiment: artifact_location='', experiment_id='68ed74d1-7579-44d2-879b-2c609da66ca5', lifecycle_stage='active', name='ray-on-aml-test', tags={}>"
      ]
     },
     "execution_count": 47,
     "metadata": {},
     "output_type": "execute_result"
    }
   ],
   "source": [
    "mlflow.set_tracking_uri(ws.get_mlflow_tracking_uri())\n",
    "mlflow.set_experiment(run.experiment.name)"
   ]
  },
  {
   "cell_type": "code",
   "execution_count": 48,
   "id": "56e81c97",
   "metadata": {},
   "outputs": [
    {
     "name": "stdout",
     "output_type": "stream",
     "text": [
      "head node detected\n"
     ]
    },
    {
     "data": {
      "text/html": [
       "== Status ==<br>Current time: 2022-01-07 05:56:10 (running for 00:00:00.12)<br>Memory usage on this node: 4.1/13.7 GiB<br>Using FIFO scheduling algorithm.<br>Resources requested: 0/4 CPUs, 0/0 GPUs, 0.0/5.43 GiB heap, 0.0/2.72 GiB objects<br>Result logdir: /home/azureuser/ray_results/train_mnist_2022-01-07_05-56-10<br>Number of trials: 1/1 (1 PENDING)<br><table>\n",
       "<thead>\n",
       "<tr><th>Trial name             </th><th>status  </th><th>loc  </th><th style=\"text-align: right;\">         lr</th><th style=\"text-align: right;\">  momentum</th></tr>\n",
       "</thead>\n",
       "<tbody>\n",
       "<tr><td>train_mnist_83579_00000</td><td>PENDING </td><td>     </td><td style=\"text-align: right;\">3.56896e-08</td><td style=\"text-align: right;\"> 0.0612082</td></tr>\n",
       "</tbody>\n",
       "</table><br><br>"
      ],
      "text/plain": [
       "<IPython.core.display.HTML object>"
      ]
     },
     "metadata": {},
     "output_type": "display_data"
    },
    {
     "name": "stdout",
     "output_type": "stream",
     "text": [
      "Result for train_mnist_83579_00000:\n",
      "  date: 2022-01-07_05-56-12\n",
      "  done: false\n",
      "  experiment_id: 77839913ffe245f5aed9eca1e932d3d7\n",
      "  hostname: hyssh1\n",
      "  iterations_since_restore: 1\n",
      "  mean_accuracy: 0.090625\n",
      "  node_ip: 10.1.0.5\n",
      "  pid: 28277\n",
      "  time_since_restore: 0.5926167964935303\n",
      "  time_this_iter_s: 0.5926167964935303\n",
      "  time_total_s: 0.5926167964935303\n",
      "  timestamp: 1641534972\n",
      "  timesteps_since_restore: 0\n",
      "  training_iteration: 1\n",
      "  trial_id: '83579_00000'\n",
      "  \n"
     ]
    },
    {
     "data": {
      "text/html": [
       "== Status ==<br>Current time: 2022-01-07 05:56:17 (running for 00:00:06.98)<br>Memory usage on this node: 4.3/13.7 GiB<br>Using FIFO scheduling algorithm.<br>Resources requested: 1.0/4 CPUs, 0/0 GPUs, 0.0/5.43 GiB heap, 0.0/2.72 GiB objects<br>Result logdir: /home/azureuser/ray_results/train_mnist_2022-01-07_05-56-10<br>Number of trials: 1/1 (1 RUNNING)<br><table>\n",
       "<thead>\n",
       "<tr><th>Trial name             </th><th>status  </th><th>loc           </th><th style=\"text-align: right;\">         lr</th><th style=\"text-align: right;\">  momentum</th><th style=\"text-align: right;\">     acc</th><th style=\"text-align: right;\">  iter</th><th style=\"text-align: right;\">  total time (s)</th></tr>\n",
       "</thead>\n",
       "<tbody>\n",
       "<tr><td>train_mnist_83579_00000</td><td>RUNNING </td><td>10.1.0.5:28277</td><td style=\"text-align: right;\">3.56896e-08</td><td style=\"text-align: right;\"> 0.0612082</td><td style=\"text-align: right;\">0.090625</td><td style=\"text-align: right;\">     1</td><td style=\"text-align: right;\">        0.592617</td></tr>\n",
       "</tbody>\n",
       "</table><br><br>"
      ],
      "text/plain": [
       "<IPython.core.display.HTML object>"
      ]
     },
     "metadata": {},
     "output_type": "display_data"
    },
    {
     "name": "stdout",
     "output_type": "stream",
     "text": [
      "\u001b[2m\u001b[36m(ImplicitFunc pid=28277)\u001b[0m /home/azureuser/ray_results/train_mnist_2022-01-07_05-56-10/train_mnist_83579_00000_0_lr=3.569e-08,momentum=0.061208_2022-01-07_05-56-10\n",
      "\u001b[2m\u001b[36m(ImplicitFunc pid=28277)\u001b[0m ./outputs/0/model.pth\n",
      "Result for train_mnist_83579_00000:\n",
      "  date: 2022-01-07_05-56-20\n",
      "  done: false\n",
      "  experiment_id: 77839913ffe245f5aed9eca1e932d3d7\n",
      "  hostname: hyssh1\n",
      "  iterations_since_restore: 3\n",
      "  mean_accuracy: 0.09375\n",
      "  node_ip: 10.1.0.5\n",
      "  pid: 28277\n",
      "  time_since_restore: 8.11816668510437\n",
      "  time_this_iter_s: 2.7435052394866943\n",
      "  time_total_s: 8.11816668510437\n",
      "  timestamp: 1641534980\n",
      "  timesteps_since_restore: 0\n",
      "  training_iteration: 3\n",
      "  trial_id: '83579_00000'\n",
      "  \n"
     ]
    },
    {
     "data": {
      "text/html": [
       "== Status ==<br>Current time: 2022-01-07 05:56:24 (running for 00:00:13.74)<br>Memory usage on this node: 4.3/13.7 GiB<br>Using FIFO scheduling algorithm.<br>Resources requested: 1.0/4 CPUs, 0/0 GPUs, 0.0/5.43 GiB heap, 0.0/2.72 GiB objects<br>Result logdir: /home/azureuser/ray_results/train_mnist_2022-01-07_05-56-10<br>Number of trials: 1/1 (1 RUNNING)<br><table>\n",
       "<thead>\n",
       "<tr><th>Trial name             </th><th>status  </th><th>loc           </th><th style=\"text-align: right;\">         lr</th><th style=\"text-align: right;\">  momentum</th><th style=\"text-align: right;\">    acc</th><th style=\"text-align: right;\">  iter</th><th style=\"text-align: right;\">  total time (s)</th></tr>\n",
       "</thead>\n",
       "<tbody>\n",
       "<tr><td>train_mnist_83579_00000</td><td>RUNNING </td><td>10.1.0.5:28277</td><td style=\"text-align: right;\">3.56896e-08</td><td style=\"text-align: right;\"> 0.0612082</td><td style=\"text-align: right;\">0.09375</td><td style=\"text-align: right;\">     3</td><td style=\"text-align: right;\">         8.11817</td></tr>\n",
       "</tbody>\n",
       "</table><br><br>"
      ],
      "text/plain": [
       "<IPython.core.display.HTML object>"
      ]
     },
     "metadata": {},
     "output_type": "display_data"
    },
    {
     "name": "stdout",
     "output_type": "stream",
     "text": [
      "Result for train_mnist_83579_00000:\n",
      "  date: 2022-01-07_05-56-27\n",
      "  done: false\n",
      "  experiment_id: 77839913ffe245f5aed9eca1e932d3d7\n",
      "  hostname: hyssh1\n",
      "  iterations_since_restore: 5\n",
      "  mean_accuracy: 0.0625\n",
      "  node_ip: 10.1.0.5\n",
      "  pid: 28277\n",
      "  time_since_restore: 15.188915729522705\n",
      "  time_this_iter_s: 3.0587925910949707\n",
      "  time_total_s: 15.188915729522705\n",
      "  timestamp: 1641534987\n",
      "  timesteps_since_restore: 0\n",
      "  training_iteration: 5\n",
      "  trial_id: '83579_00000'\n",
      "  \n"
     ]
    },
    {
     "data": {
      "text/html": [
       "== Status ==<br>Current time: 2022-01-07 05:56:30 (running for 00:00:20.64)<br>Memory usage on this node: 4.3/13.7 GiB<br>Using FIFO scheduling algorithm.<br>Resources requested: 1.0/4 CPUs, 0/0 GPUs, 0.0/5.43 GiB heap, 0.0/2.72 GiB objects<br>Result logdir: /home/azureuser/ray_results/train_mnist_2022-01-07_05-56-10<br>Number of trials: 1/1 (1 RUNNING)<br><table>\n",
       "<thead>\n",
       "<tr><th>Trial name             </th><th>status  </th><th>loc           </th><th style=\"text-align: right;\">         lr</th><th style=\"text-align: right;\">  momentum</th><th style=\"text-align: right;\">   acc</th><th style=\"text-align: right;\">  iter</th><th style=\"text-align: right;\">  total time (s)</th></tr>\n",
       "</thead>\n",
       "<tbody>\n",
       "<tr><td>train_mnist_83579_00000</td><td>RUNNING </td><td>10.1.0.5:28277</td><td style=\"text-align: right;\">3.56896e-08</td><td style=\"text-align: right;\"> 0.0612082</td><td style=\"text-align: right;\">0.0625</td><td style=\"text-align: right;\">     5</td><td style=\"text-align: right;\">         15.1889</td></tr>\n",
       "</tbody>\n",
       "</table><br><br>"
      ],
      "text/plain": [
       "<IPython.core.display.HTML object>"
      ]
     },
     "metadata": {},
     "output_type": "display_data"
    },
    {
     "name": "stdout",
     "output_type": "stream",
     "text": [
      "\u001b[2m\u001b[36m(ImplicitFunc pid=28277)\u001b[0m ./outputs/5/model.pth\n",
      "Result for train_mnist_83579_00000:\n",
      "  date: 2022-01-07_05-56-33\n",
      "  done: false\n",
      "  experiment_id: 77839913ffe245f5aed9eca1e932d3d7\n",
      "  hostname: hyssh1\n",
      "  iterations_since_restore: 7\n",
      "  mean_accuracy: 0.078125\n",
      "  node_ip: 10.1.0.5\n",
      "  pid: 28277\n",
      "  time_since_restore: 21.44170045852661\n",
      "  time_this_iter_s: 2.3324499130249023\n",
      "  time_total_s: 21.44170045852661\n",
      "  timestamp: 1641534993\n",
      "  timesteps_since_restore: 0\n",
      "  training_iteration: 7\n",
      "  trial_id: '83579_00000'\n",
      "  \n"
     ]
    },
    {
     "data": {
      "text/html": [
       "== Status ==<br>Current time: 2022-01-07 05:56:36 (running for 00:00:25.76)<br>Memory usage on this node: 4.3/13.7 GiB<br>Using FIFO scheduling algorithm.<br>Resources requested: 1.0/4 CPUs, 0/0 GPUs, 0.0/5.43 GiB heap, 0.0/2.72 GiB objects<br>Result logdir: /home/azureuser/ray_results/train_mnist_2022-01-07_05-56-10<br>Number of trials: 1/1 (1 RUNNING)<br><table>\n",
       "<thead>\n",
       "<tr><th>Trial name             </th><th>status  </th><th>loc           </th><th style=\"text-align: right;\">         lr</th><th style=\"text-align: right;\">  momentum</th><th style=\"text-align: right;\">     acc</th><th style=\"text-align: right;\">  iter</th><th style=\"text-align: right;\">  total time (s)</th></tr>\n",
       "</thead>\n",
       "<tbody>\n",
       "<tr><td>train_mnist_83579_00000</td><td>RUNNING </td><td>10.1.0.5:28277</td><td style=\"text-align: right;\">3.56896e-08</td><td style=\"text-align: right;\"> 0.0612082</td><td style=\"text-align: right;\">0.078125</td><td style=\"text-align: right;\">     7</td><td style=\"text-align: right;\">         21.4417</td></tr>\n",
       "</tbody>\n",
       "</table><br><br>"
      ],
      "text/plain": [
       "<IPython.core.display.HTML object>"
      ]
     },
     "metadata": {},
     "output_type": "display_data"
    },
    {
     "name": "stdout",
     "output_type": "stream",
     "text": [
      "Result for train_mnist_83579_00000:\n",
      "  date: 2022-01-07_05-56-38\n",
      "  done: false\n",
      "  experiment_id: 77839913ffe245f5aed9eca1e932d3d7\n",
      "  hostname: hyssh1\n",
      "  iterations_since_restore: 9\n",
      "  mean_accuracy: 0.078125\n",
      "  node_ip: 10.1.0.5\n",
      "  pid: 28277\n",
      "  time_since_restore: 26.76071000099182\n",
      "  time_this_iter_s: 2.6184041500091553\n",
      "  time_total_s: 26.76071000099182\n",
      "  timestamp: 1641534998\n",
      "  timesteps_since_restore: 0\n",
      "  training_iteration: 9\n",
      "  trial_id: '83579_00000'\n",
      "  \n"
     ]
    },
    {
     "data": {
      "text/html": [
       "== Status ==<br>Current time: 2022-01-07 05:56:41 (running for 00:00:31.06)<br>Memory usage on this node: 4.3/13.7 GiB<br>Using FIFO scheduling algorithm.<br>Resources requested: 1.0/4 CPUs, 0/0 GPUs, 0.0/5.43 GiB heap, 0.0/2.72 GiB objects<br>Result logdir: /home/azureuser/ray_results/train_mnist_2022-01-07_05-56-10<br>Number of trials: 1/1 (1 RUNNING)<br><table>\n",
       "<thead>\n",
       "<tr><th>Trial name             </th><th>status  </th><th>loc           </th><th style=\"text-align: right;\">         lr</th><th style=\"text-align: right;\">  momentum</th><th style=\"text-align: right;\">     acc</th><th style=\"text-align: right;\">  iter</th><th style=\"text-align: right;\">  total time (s)</th></tr>\n",
       "</thead>\n",
       "<tbody>\n",
       "<tr><td>train_mnist_83579_00000</td><td>RUNNING </td><td>10.1.0.5:28277</td><td style=\"text-align: right;\">3.56896e-08</td><td style=\"text-align: right;\"> 0.0612082</td><td style=\"text-align: right;\">0.078125</td><td style=\"text-align: right;\">     9</td><td style=\"text-align: right;\">         26.7607</td></tr>\n",
       "</tbody>\n",
       "</table><br><br>"
      ],
      "text/plain": [
       "<IPython.core.display.HTML object>"
      ]
     },
     "metadata": {},
     "output_type": "display_data"
    },
    {
     "name": "stdout",
     "output_type": "stream",
     "text": [
      "Result for train_mnist_83579_00000:\n",
      "  date: 2022-01-07_05-56-41\n",
      "  done: true\n",
      "  experiment_id: 77839913ffe245f5aed9eca1e932d3d7\n",
      "  experiment_tag: 0_lr=3.569e-08,momentum=0.061208\n",
      "  hostname: hyssh1\n",
      "  iterations_since_restore: 10\n",
      "  mean_accuracy: 0.096875\n",
      "  node_ip: 10.1.0.5\n",
      "  pid: 28277\n",
      "  time_since_restore: 29.490155935287476\n",
      "  time_this_iter_s: 2.7294459342956543\n",
      "  time_total_s: 29.490155935287476\n",
      "  timestamp: 1641535001\n",
      "  timesteps_since_restore: 0\n",
      "  training_iteration: 10\n",
      "  trial_id: '83579_00000'\n",
      "  \n"
     ]
    },
    {
     "data": {
      "text/html": [
       "== Status ==<br>Current time: 2022-01-07 05:56:44 (running for 00:00:34.49)<br>Memory usage on this node: 4.1/13.7 GiB<br>Using FIFO scheduling algorithm.<br>Resources requested: 0/4 CPUs, 0/0 GPUs, 0.0/5.43 GiB heap, 0.0/2.72 GiB objects<br>Result logdir: /home/azureuser/ray_results/train_mnist_2022-01-07_05-56-10<br>Number of trials: 1/1 (1 TERMINATED)<br><table>\n",
       "<thead>\n",
       "<tr><th>Trial name             </th><th>status    </th><th>loc           </th><th style=\"text-align: right;\">         lr</th><th style=\"text-align: right;\">  momentum</th><th style=\"text-align: right;\">     acc</th><th style=\"text-align: right;\">  iter</th><th style=\"text-align: right;\">  total time (s)</th></tr>\n",
       "</thead>\n",
       "<tbody>\n",
       "<tr><td>train_mnist_83579_00000</td><td>TERMINATED</td><td>10.1.0.5:28277</td><td style=\"text-align: right;\">3.56896e-08</td><td style=\"text-align: right;\"> 0.0612082</td><td style=\"text-align: right;\">0.096875</td><td style=\"text-align: right;\">    10</td><td style=\"text-align: right;\">         29.4902</td></tr>\n",
       "</tbody>\n",
       "</table><br><br>"
      ],
      "text/plain": [
       "<IPython.core.display.HTML object>"
      ]
     },
     "metadata": {},
     "output_type": "display_data"
    }
   ],
   "source": [
    "# ray_on_aml =Ray_On_AML()\n",
    "# ray = ray_on_aml.getRay()\n",
    "\n",
    "if ray: #in the headnode\n",
    "    print(\"head node detected\")\n",
    "\n",
    "    datasets.MNIST(\"~/data\", train=True, download=True)\n",
    "    #demonstate parallel hyper param tuning\n",
    "#     analysis = tune.run(train_mnist, config=search_space, callbacks=[captureMetrics()])\n",
    "    analysis = tune.run(train_mnist, config=search_space, callbacks=[MLflowLoggerCallback(experiment_name=run.experiment.name, tags={\"Framework\":\"Ray 1.9.1\"}, save_artifact=True)])\n",
    "#     run.log_list('acc', accList)\n",
    "#     analysis = tune.run(train_mnist, config=search_space)\n",
    "#     run.log('Best Hyper Params', analy1sis)\n",
    "    #demonstrate parallel data processing\n",
    "\n",
    "    # print(\"data count result\", get_data_count())\n",
    "\n",
    "else:\n",
    "    print(\"in worker node\")\n"
   ]
  },
  {
   "cell_type": "code",
   "execution_count": 5,
   "id": "064bb383",
   "metadata": {},
   "outputs": [
    {
     "name": "stdout",
     "output_type": "stream",
     "text": [
      "Cancel active AML runs if any\n",
      "Shutting down ray if any\n",
      "Found existing cluster worker-cpu-v3\n",
      "Using azureml_py38 for the master node\n",
      "Waiting for cluster to start\n",
      "..................................."
     ]
    }
   ],
   "source": [
    "from ray_on_aml.core import Ray_On_AML\n",
    "ws = Workspace.from_config()\n",
    "ray_on_aml =Ray_On_AML(ws=ws, compute_cluster =\"worker-cpu-v3\",additional_pip_packages=['torch==1.10.0', 'torchvision', 'sklearn'], maxnode=5)\n",
    "ray = ray_on_aml.getRay()"
   ]
  },
  {
   "cell_type": "code",
   "execution_count": 11,
   "id": "f02862a7",
   "metadata": {},
   "outputs": [
    {
     "data": {
      "text/plain": [
       "<module 'ray.runtime_context' from '/anaconda/envs/azureml_py38/lib/python3.8/site-packages/ray/runtime_context.py'>"
      ]
     },
     "execution_count": 11,
     "metadata": {},
     "output_type": "execute_result"
    }
   ],
   "source": [
    "ray.runtime_context"
   ]
  },
  {
   "cell_type": "code",
   "execution_count": 19,
   "id": "967db3d7",
   "metadata": {},
   "outputs": [],
   "source": [
    "exp = Experiment(ws, 'ray-on-aml-test')"
   ]
  },
  {
   "cell_type": "code",
   "execution_count": 20,
   "id": "b672f988",
   "metadata": {},
   "outputs": [],
   "source": [
    "run = exp.start_logging()"
   ]
  },
  {
   "cell_type": "code",
   "execution_count": 26,
   "id": "91ed6d60",
   "metadata": {},
   "outputs": [
    {
     "data": {
      "text/plain": [
       "'5d13c4ab-79ab-41b1-8fb8-ee7c7006b4cd'"
      ]
     },
     "execution_count": 26,
     "metadata": {},
     "output_type": "execute_result"
    }
   ],
   "source": [
    "run.id"
   ]
  },
  {
   "cell_type": "code",
   "execution_count": 41,
   "id": "b98577cb",
   "metadata": {},
   "outputs": [
    {
     "ename": "NameError",
     "evalue": "name 'model' is not defined",
     "output_type": "error",
     "traceback": [
      "\u001b[0;31m---------------------------------------------------------------------------\u001b[0m",
      "\u001b[0;31mNameError\u001b[0m                                 Traceback (most recent call last)",
      "\u001b[0;32m<ipython-input-41-1f8a688cae5d>\u001b[0m in \u001b[0;36m<module>\u001b[0;34m\u001b[0m\n\u001b[0;32m----> 1\u001b[0;31m \u001b[0mmodel\u001b[0m\u001b[0;34m\u001b[0m\u001b[0;34m\u001b[0m\u001b[0m\n\u001b[0m",
      "\u001b[0;31mNameError\u001b[0m: name 'model' is not defined"
     ]
    }
   ],
   "source": [
    "model"
   ]
  }
 ],
 "metadata": {
  "kernelspec": {
   "display_name": "Python 3.8 - AzureML",
   "language": "python",
   "name": "python38-azureml"
  },
  "language_info": {
   "codemirror_mode": {
    "name": "ipython",
    "version": 3
   },
   "file_extension": ".py",
   "mimetype": "text/x-python",
   "name": "python",
   "nbconvert_exporter": "python",
   "pygments_lexer": "ipython3",
   "version": "3.8.1"
  }
 },
 "nbformat": 4,
 "nbformat_minor": 5
}
