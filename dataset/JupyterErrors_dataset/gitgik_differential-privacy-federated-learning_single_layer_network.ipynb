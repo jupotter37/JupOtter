{
 "cells": [
  {
   "cell_type": "code",
   "execution_count": 2,
   "metadata": {
    "colab": {},
    "colab_type": "code",
    "id": "wPY4it_wHzvW"
   },
   "outputs": [],
   "source": [
    "import torch"
   ]
  },
  {
   "cell_type": "code",
   "execution_count": 3,
   "metadata": {
    "colab": {},
    "colab_type": "code",
    "id": "HY0eFW_8H-3r"
   },
   "outputs": [],
   "source": [
    "def activation(x):\n",
    "    \"\"\"Create a sigmoid activation function.\n",
    "    Good for outputs that fall between 0 and 1. (probability)\n",
    "    args x: a torch tensor.\n",
    "    \"\"\"\n",
    "    return 1/(1 + torch.exp(-x))\n",
    "    "
   ]
  },
  {
   "cell_type": "code",
   "execution_count": 21,
   "metadata": {
    "colab": {},
    "colab_type": "code",
    "id": "y9qIUKojIYcj"
   },
   "outputs": [],
   "source": [
    "# generate some data\n",
    "# set some random seed so that the result is predictatble\n",
    "data = torch.manual_seed(7) \n",
    "\n",
    "# set some features to 5 random variables\n",
    "# 2-dimensional matrix/tensor of 1 row and 5 columns\n",
    "features = torch.randn((1,5))\n",
    "\n",
    "# set weights\n",
    "weights = torch.randn_like(features)\n",
    "\n",
    "# set true bias term\n",
    "bias = torch.randn((1,1))"
   ]
  },
  {
   "cell_type": "code",
   "execution_count": 22,
   "metadata": {
    "colab": {
     "base_uri": "https://localhost:8080/",
     "height": 34
    },
    "colab_type": "code",
    "id": "7vdqvgK3c29m",
    "outputId": "aff8fffd-2c90-467c-9e74-c4285523bfc9"
   },
   "outputs": [
    {
     "name": "stdout",
     "output_type": "stream",
     "text": [
      "tensor([[0.1595]])\n"
     ]
    }
   ],
   "source": [
    "# calculate y output\n",
    "# y = (weights.features + bias)\n",
    "\n",
    "x = torch.sum(weights * features) + bias\n",
    "y = activation(x)\n",
    "\n",
    "print(y)"
   ]
  },
  {
   "cell_type": "code",
   "execution_count": 23,
   "metadata": {
    "colab": {},
    "colab_type": "code",
    "id": "aJ09sXxNd4gP"
   },
   "outputs": [
    {
     "ename": "RuntimeError",
     "evalue": "size mismatch, m1: [1 x 5], m2: [1 x 5] at ../aten/src/TH/generic/THTensorMath.cpp:961",
     "output_type": "error",
     "traceback": [
      "\u001b[0;31m---------------------------------------------------------------------------\u001b[0m",
      "\u001b[0;31mRuntimeError\u001b[0m                              Traceback (most recent call last)",
      "\u001b[0;32m<ipython-input-23-0459821846a9>\u001b[0m in \u001b[0;36m<module>\u001b[0;34m\u001b[0m\n\u001b[1;32m      1\u001b[0m \u001b[0;31m# better to do matrix multiplication because it's optimized\u001b[0m\u001b[0;34m\u001b[0m\u001b[0;34m\u001b[0m\u001b[0m\n\u001b[0;32m----> 2\u001b[0;31m \u001b[0mtorch\u001b[0m\u001b[0;34m.\u001b[0m\u001b[0mmm\u001b[0m\u001b[0;34m(\u001b[0m\u001b[0mweights\u001b[0m\u001b[0;34m,\u001b[0m \u001b[0mfeatures\u001b[0m\u001b[0;34m)\u001b[0m\u001b[0;34m\u001b[0m\u001b[0m\n\u001b[0m",
      "\u001b[0;31mRuntimeError\u001b[0m: size mismatch, m1: [1 x 5], m2: [1 x 5] at ../aten/src/TH/generic/THTensorMath.cpp:961"
     ]
    }
   ],
   "source": [
    "# better to do matrix multiplication because it's optimized\n",
    "torch.mm(weights, features)"
   ]
  },
  {
   "cell_type": "code",
   "execution_count": null,
   "metadata": {
    "colab": {},
    "colab_type": "code",
    "id": "F_AApoJiWvAJ"
   },
   "outputs": [],
   "source": []
  },
  {
   "cell_type": "markdown",
   "metadata": {
    "colab_type": "text",
    "id": "68IgplvGXA5J"
   },
   "source": [
    "Since we are doing matrix multiplication, we need the matrices shapes to match.\n",
    "We'll change the shape of weights for the mm to work."
   ]
  },
  {
   "cell_type": "code",
   "execution_count": 26,
   "metadata": {
    "colab": {},
    "colab_type": "code",
    "id": "eMgeaC0-W_ZA"
   },
   "outputs": [
    {
     "name": "stdout",
     "output_type": "stream",
     "text": [
      "torch.Size([1, 5])\n",
      "tensor([[0.6104, 0.4047, 0.3706, 0.7883, 0.2323],\n",
      "        [0.5914, 0.5095, 0.4952, 0.6713, 0.4296],\n",
      "        [0.5341, 0.7836, 0.8153, 0.2581, 0.9169],\n",
      "        [0.5738, 0.6050, 0.6103, 0.5408, 0.6344],\n",
      "        [0.6375, 0.2680, 0.2184, 0.8995, 0.0740]])\n"
     ]
    }
   ],
   "source": [
    "# weight.reshape(a, b) reshapes the data into a tensor of size (a, b)\n",
    "# weight.resize_(a, b) returns the same tensor with a different shape.\n",
    "# if \n",
    "# weight.view(a, b) returns a new tensor\n",
    "print(weights.shape)\n",
    "reshaped_weights = weights.view(5, 1)\n",
    "y = activation(torch.mm(reshaped_weights, features) + bias)\n",
    "print(y)\n"
   ]
  },
  {
   "cell_type": "code",
   "execution_count": 0,
   "metadata": {
    "colab": {},
    "colab_type": "code",
    "id": "Y-t9h0_RXAAB"
   },
   "outputs": [],
   "source": []
  }
 ],
 "metadata": {
  "colab": {
   "name": "single_layer_network.ipynb",
   "provenance": [],
   "version": "0.3.2"
  },
  "kernelspec": {
   "display_name": "Python 3",
   "language": "python",
   "name": "python3"
  },
  "language_info": {
   "codemirror_mode": {
    "name": "ipython",
    "version": 3
   },
   "file_extension": ".py",
   "mimetype": "text/x-python",
   "name": "python",
   "nbconvert_exporter": "python",
   "pygments_lexer": "ipython3",
   "version": "3.6.5"
  }
 },
 "nbformat": 4,
 "nbformat_minor": 1
}
