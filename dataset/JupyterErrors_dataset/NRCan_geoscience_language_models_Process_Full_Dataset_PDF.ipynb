{
 "cells": [
  {
   "cell_type": "code",
   "execution_count": 1,
   "metadata": {},
   "outputs": [],
   "source": [
    "import os\n",
    "import re\n",
    "import pathlib\n",
    "import pandas as pd\n",
    "from datetime import datetime, timedelta\n",
    "# from pdf_to_txt import extract_using_pdfminer"
   ]
  },
  {
   "cell_type": "markdown",
   "metadata": {},
   "source": [
    "## extract_using_pdfminer() working and non-working examples"
   ]
  },
  {
   "cell_type": "code",
   "execution_count": 2,
   "metadata": {
    "scrolled": true
   },
   "outputs": [
    {
     "name": "stdout",
     "output_type": "stream",
     "text": [
      "/nrcan_p2/data/01_raw/20201006/geoscan/raw/pdf/100400.pdf\n"
     ]
    },
    {
     "name": "stderr",
     "output_type": "stream",
     "text": [
      "5it [00:01,  3.70it/s]"
     ]
    },
    {
     "name": "stdout",
     "output_type": "stream",
     "text": [
      "('Rotated page found:', 4, 39, 36, 1)\n",
      "('Rotated page found:', 4, 39, 36, 1)\n",
      "Rotated page still returns nothing: /nrcan_p2/data/01_raw/20201006/geoscan/raw/pdf/100400.pdf -- Pg No.4\n"
     ]
    },
    {
     "name": "stderr",
     "output_type": "stream",
     "text": [
      "\r",
      "6it [00:01,  3.77it/s]"
     ]
    },
    {
     "name": "stdout",
     "output_type": "stream",
     "text": [
      "('Rotated page found:', 5, 25, 22, 1)\n",
      "('Rotated page found:', 5, 25, 22, 1)\n",
      "Rotated page still returns nothing: /nrcan_p2/data/01_raw/20201006/geoscan/raw/pdf/100400.pdf -- Pg No.5\n"
     ]
    },
    {
     "name": "stderr",
     "output_type": "stream",
     "text": [
      "8it [00:01,  3.54it/s]"
     ]
    },
    {
     "name": "stdout",
     "output_type": "stream",
     "text": [
      "('Rotated page found:', 7, 30, 25, 3)\n",
      "('Rotated page found:', 7, 30, 25, 3)\n",
      "Rotated page still returns nothing: /nrcan_p2/data/01_raw/20201006/geoscan/raw/pdf/100400.pdf -- Pg No.7\n",
      "('Rotated page found:', 8, 20, 17, 1)\n",
      "('Rotated page found:', 8, 20, 17, 1)\n",
      "Rotated page still returns nothing: /nrcan_p2/data/01_raw/20201006/geoscan/raw/pdf/100400.pdf -- Pg No.8\n"
     ]
    },
    {
     "name": "stderr",
     "output_type": "stream",
     "text": [
      "17it [00:03,  4.87it/s]\n"
     ]
    }
   ],
   "source": [
    "p = \"/nrcan_p2/data/01_raw/20201006/geoscan/raw/pdf/100400.pdf\"\n",
    "output_txt = \"/nrcan_p2/data/02_intermediate/\"\n",
    "df, failed_pages = extract_using_pdfminer(p, output_txt, N_PAGES=None, WRITE_TXT=False)"
   ]
  },
  {
   "cell_type": "code",
   "execution_count": 3,
   "metadata": {},
   "outputs": [
    {
     "data": {
      "text/html": [
       "<div>\n",
       "<style scoped>\n",
       "    .dataframe tbody tr th:only-of-type {\n",
       "        vertical-align: middle;\n",
       "    }\n",
       "\n",
       "    .dataframe tbody tr th {\n",
       "        vertical-align: top;\n",
       "    }\n",
       "\n",
       "    .dataframe thead th {\n",
       "        text-align: right;\n",
       "    }\n",
       "</style>\n",
       "<table border=\"1\" class=\"dataframe\">\n",
       "  <thead>\n",
       "    <tr style=\"text-align: right;\">\n",
       "      <th></th>\n",
       "      <th>obj_type</th>\n",
       "      <th>pg</th>\n",
       "      <th>pos_x0</th>\n",
       "      <th>pos_y0</th>\n",
       "      <th>pos_x1</th>\n",
       "      <th>pos_y1</th>\n",
       "      <th>text</th>\n",
       "    </tr>\n",
       "  </thead>\n",
       "  <tbody>\n",
       "    <tr>\n",
       "      <th>0</th>\n",
       "      <td>&lt;class 'pdfminer.layout.LTTextBoxHorizontal'&gt;</td>\n",
       "      <td>0</td>\n",
       "      <td>98.730000</td>\n",
       "      <td>658.029300</td>\n",
       "      <td>473.863100</td>\n",
       "      <td>669.704900</td>\n",
       "      <td>GPAVI TY  AND  MAGNETIC  DATA  AT  THE  MI D- ...</td>\n",
       "    </tr>\n",
       "    <tr>\n",
       "      <th>1</th>\n",
       "      <td>&lt;class 'pdfminer.layout.LTTextBoxHorizontal'&gt;</td>\n",
       "      <td>0</td>\n",
       "      <td>153.410000</td>\n",
       "      <td>633.319300</td>\n",
       "      <td>416.201699</td>\n",
       "      <td>644.994900</td>\n",
       "      <td>HUD SON  65- 06 ,  HUDSOi'J 66-1 9  AND  HUDSO...</td>\n",
       "    </tr>\n",
       "    <tr>\n",
       "      <th>2</th>\n",
       "      <td>&lt;class 'pdfminer.layout.LTTextBoxHorizontal'&gt;</td>\n",
       "      <td>0</td>\n",
       "      <td>237.870000</td>\n",
       "      <td>583.389300</td>\n",
       "      <td>324.476396</td>\n",
       "      <td>595.064900</td>\n",
       "      <td>DI GITIZED  DATA \\n</td>\n",
       "    </tr>\n",
       "    <tr>\n",
       "      <th>3</th>\n",
       "      <td>&lt;class 'pdfminer.layout.LTTextBoxHorizontal'&gt;</td>\n",
       "      <td>0</td>\n",
       "      <td>177.140000</td>\n",
       "      <td>558.919300</td>\n",
       "      <td>384.814591</td>\n",
       "      <td>570.594900</td>\n",
       "      <td>RELEASED  THRO UGH  THE  GSC. OPEN  Fl LE \\n</td>\n",
       "    </tr>\n",
       "    <tr>\n",
       "      <th>4</th>\n",
       "      <td>&lt;class 'pdfminer.layout.LTTextBoxHorizontal'&gt;</td>\n",
       "      <td>0</td>\n",
       "      <td>250.040000</td>\n",
       "      <td>485.203400</td>\n",
       "      <td>317.214523</td>\n",
       "      <td>496.140200</td>\n",
       "      <td>PREPARED  BY \\n</td>\n",
       "    </tr>\n",
       "    <tr>\n",
       "      <th>...</th>\n",
       "      <td>...</td>\n",
       "      <td>...</td>\n",
       "      <td>...</td>\n",
       "      <td>...</td>\n",
       "      <td>...</td>\n",
       "      <td>...</td>\n",
       "      <td>...</td>\n",
       "    </tr>\n",
       "    <tr>\n",
       "      <th>272</th>\n",
       "      <td>&lt;class 'pdfminer.layout.LTTextBoxHorizontal'&gt;</td>\n",
       "      <td>16</td>\n",
       "      <td>323.590000</td>\n",
       "      <td>131.051500</td>\n",
       "      <td>350.645200</td>\n",
       "      <td>383.454200</td>\n",
       "      <td>a \\n0 \\n0 \\n12 \\n-7 \\n-27 \\n71 \\n1 \\n11 \\n-45 ...</td>\n",
       "    </tr>\n",
       "    <tr>\n",
       "      <th>273</th>\n",
       "      <td>&lt;class 'pdfminer.layout.LTTextBoxHorizontal'&gt;</td>\n",
       "      <td>16</td>\n",
       "      <td>368.230000</td>\n",
       "      <td>131.290200</td>\n",
       "      <td>393.025937</td>\n",
       "      <td>377.700600</td>\n",
       "      <td>0 \\n0 \\n0 \\n3J \\n4 \\n25 \\n4 \\n8 \\n0 \\n-8 \\n-40...</td>\n",
       "    </tr>\n",
       "    <tr>\n",
       "      <th>274</th>\n",
       "      <td>&lt;class 'pdfminer.layout.LTTextBoxHorizontal'&gt;</td>\n",
       "      <td>16</td>\n",
       "      <td>412.380000</td>\n",
       "      <td>131.291500</td>\n",
       "      <td>440.312200</td>\n",
       "      <td>378.449500</td>\n",
       "      <td>0 \\n0 \\nc \\n2 \\n29 \\n12 \\n-13 \\ni) \\n29 \\n11 \\...</td>\n",
       "    </tr>\n",
       "    <tr>\n",
       "      <th>275</th>\n",
       "      <td>&lt;class 'pdfminer.layout.LTFigure'&gt;</td>\n",
       "      <td>16</td>\n",
       "      <td>-1.469833</td>\n",
       "      <td>-1.121124</td>\n",
       "      <td>578.429810</td>\n",
       "      <td>755.921112</td>\n",
       "      <td>None</td>\n",
       "    </tr>\n",
       "    <tr>\n",
       "      <th>276</th>\n",
       "      <td>&lt;class 'pdfminer.layout.LTFigure'&gt;</td>\n",
       "      <td>16</td>\n",
       "      <td>-1.469833</td>\n",
       "      <td>-1.121124</td>\n",
       "      <td>578.429810</td>\n",
       "      <td>755.921112</td>\n",
       "      <td>None</td>\n",
       "    </tr>\n",
       "  </tbody>\n",
       "</table>\n",
       "<p>277 rows × 7 columns</p>\n",
       "</div>"
      ],
      "text/plain": [
       "                                          obj_type  pg      pos_x0  \\\n",
       "0    <class 'pdfminer.layout.LTTextBoxHorizontal'>   0   98.730000   \n",
       "1    <class 'pdfminer.layout.LTTextBoxHorizontal'>   0  153.410000   \n",
       "2    <class 'pdfminer.layout.LTTextBoxHorizontal'>   0  237.870000   \n",
       "3    <class 'pdfminer.layout.LTTextBoxHorizontal'>   0  177.140000   \n",
       "4    <class 'pdfminer.layout.LTTextBoxHorizontal'>   0  250.040000   \n",
       "..                                             ...  ..         ...   \n",
       "272  <class 'pdfminer.layout.LTTextBoxHorizontal'>  16  323.590000   \n",
       "273  <class 'pdfminer.layout.LTTextBoxHorizontal'>  16  368.230000   \n",
       "274  <class 'pdfminer.layout.LTTextBoxHorizontal'>  16  412.380000   \n",
       "275             <class 'pdfminer.layout.LTFigure'>  16   -1.469833   \n",
       "276             <class 'pdfminer.layout.LTFigure'>  16   -1.469833   \n",
       "\n",
       "         pos_y0      pos_x1      pos_y1  \\\n",
       "0    658.029300  473.863100  669.704900   \n",
       "1    633.319300  416.201699  644.994900   \n",
       "2    583.389300  324.476396  595.064900   \n",
       "3    558.919300  384.814591  570.594900   \n",
       "4    485.203400  317.214523  496.140200   \n",
       "..          ...         ...         ...   \n",
       "272  131.051500  350.645200  383.454200   \n",
       "273  131.290200  393.025937  377.700600   \n",
       "274  131.291500  440.312200  378.449500   \n",
       "275   -1.121124  578.429810  755.921112   \n",
       "276   -1.121124  578.429810  755.921112   \n",
       "\n",
       "                                                  text  \n",
       "0    GPAVI TY  AND  MAGNETIC  DATA  AT  THE  MI D- ...  \n",
       "1    HUD SON  65- 06 ,  HUDSOi'J 66-1 9  AND  HUDSO...  \n",
       "2                                  DI GITIZED  DATA \\n  \n",
       "3         RELEASED  THRO UGH  THE  GSC. OPEN  Fl LE \\n  \n",
       "4                                      PREPARED  BY \\n  \n",
       "..                                                 ...  \n",
       "272  a \\n0 \\n0 \\n12 \\n-7 \\n-27 \\n71 \\n1 \\n11 \\n-45 ...  \n",
       "273  0 \\n0 \\n0 \\n3J \\n4 \\n25 \\n4 \\n8 \\n0 \\n-8 \\n-40...  \n",
       "274  0 \\n0 \\nc \\n2 \\n29 \\n12 \\n-13 \\ni) \\n29 \\n11 \\...  \n",
       "275                                               None  \n",
       "276                                               None  \n",
       "\n",
       "[277 rows x 7 columns]"
      ]
     },
     "execution_count": 3,
     "metadata": {},
     "output_type": "execute_result"
    }
   ],
   "source": [
    "df"
   ]
  },
  {
   "cell_type": "code",
   "execution_count": 4,
   "metadata": {},
   "outputs": [
    {
     "data": {
      "text/html": [
       "<div>\n",
       "<style scoped>\n",
       "    .dataframe tbody tr th:only-of-type {\n",
       "        vertical-align: middle;\n",
       "    }\n",
       "\n",
       "    .dataframe tbody tr th {\n",
       "        vertical-align: top;\n",
       "    }\n",
       "\n",
       "    .dataframe thead th {\n",
       "        text-align: right;\n",
       "    }\n",
       "</style>\n",
       "<table border=\"1\" class=\"dataframe\">\n",
       "  <thead>\n",
       "    <tr style=\"text-align: right;\">\n",
       "      <th></th>\n",
       "      <th>file</th>\n",
       "      <th>ipage</th>\n",
       "      <th>page</th>\n",
       "    </tr>\n",
       "  </thead>\n",
       "  <tbody>\n",
       "    <tr>\n",
       "      <th>0</th>\n",
       "      <td>/nrcan_p2/data/01_raw/20201006/geoscan/raw/pdf...</td>\n",
       "      <td>4</td>\n",
       "      <td>&lt;PDFPage: Resources={'Font': {'C0_0': &lt;PDFObjR...</td>\n",
       "    </tr>\n",
       "    <tr>\n",
       "      <th>1</th>\n",
       "      <td>/nrcan_p2/data/01_raw/20201006/geoscan/raw/pdf...</td>\n",
       "      <td>5</td>\n",
       "      <td>&lt;PDFPage: Resources={'Font': {'C0_0': &lt;PDFObjR...</td>\n",
       "    </tr>\n",
       "    <tr>\n",
       "      <th>2</th>\n",
       "      <td>/nrcan_p2/data/01_raw/20201006/geoscan/raw/pdf...</td>\n",
       "      <td>7</td>\n",
       "      <td>&lt;PDFPage: Resources={'Font': {'C0_0': &lt;PDFObjR...</td>\n",
       "    </tr>\n",
       "    <tr>\n",
       "      <th>3</th>\n",
       "      <td>/nrcan_p2/data/01_raw/20201006/geoscan/raw/pdf...</td>\n",
       "      <td>8</td>\n",
       "      <td>&lt;PDFPage: Resources={'Font': {'T1_0': &lt;PDFObjR...</td>\n",
       "    </tr>\n",
       "  </tbody>\n",
       "</table>\n",
       "</div>"
      ],
      "text/plain": [
       "                                                file  ipage  \\\n",
       "0  /nrcan_p2/data/01_raw/20201006/geoscan/raw/pdf...      4   \n",
       "1  /nrcan_p2/data/01_raw/20201006/geoscan/raw/pdf...      5   \n",
       "2  /nrcan_p2/data/01_raw/20201006/geoscan/raw/pdf...      7   \n",
       "3  /nrcan_p2/data/01_raw/20201006/geoscan/raw/pdf...      8   \n",
       "\n",
       "                                                page  \n",
       "0  <PDFPage: Resources={'Font': {'C0_0': <PDFObjR...  \n",
       "1  <PDFPage: Resources={'Font': {'C0_0': <PDFObjR...  \n",
       "2  <PDFPage: Resources={'Font': {'C0_0': <PDFObjR...  \n",
       "3  <PDFPage: Resources={'Font': {'T1_0': <PDFObjR...  "
      ]
     },
     "execution_count": 4,
     "metadata": {},
     "output_type": "execute_result"
    }
   ],
   "source": [
    "failed_pages"
   ]
  },
  {
   "cell_type": "code",
   "execution_count": 5,
   "metadata": {
    "scrolled": false
   },
   "outputs": [
    {
     "name": "stderr",
     "output_type": "stream",
     "text": [
      "\r",
      "0it [00:00, ?it/s]"
     ]
    },
    {
     "name": "stdout",
     "output_type": "stream",
     "text": [
      "/nrcan_p2/data/01_raw/20201006/geoscan/raw/pdf/102416.pdf\n"
     ]
    },
    {
     "name": "stderr",
     "output_type": "stream",
     "text": [
      "46it [00:05,  7.79it/s]\n"
     ]
    }
   ],
   "source": [
    "p = \"/nrcan_p2/data/01_raw/20201006/geoscan/raw/pdf/102416.pdf\"\n",
    "output_txt = \"/nrcan_p2/data/02_intermediate/\"\n",
    "df, failed_pages = extract_using_pdfminer(p, output_txt, N_PAGES=None, WRITE_TXT=False)"
   ]
  },
  {
   "cell_type": "code",
   "execution_count": 6,
   "metadata": {},
   "outputs": [
    {
     "data": {
      "text/html": [
       "<div>\n",
       "<style scoped>\n",
       "    .dataframe tbody tr th:only-of-type {\n",
       "        vertical-align: middle;\n",
       "    }\n",
       "\n",
       "    .dataframe tbody tr th {\n",
       "        vertical-align: top;\n",
       "    }\n",
       "\n",
       "    .dataframe thead th {\n",
       "        text-align: right;\n",
       "    }\n",
       "</style>\n",
       "<table border=\"1\" class=\"dataframe\">\n",
       "  <thead>\n",
       "    <tr style=\"text-align: right;\">\n",
       "      <th></th>\n",
       "      <th>obj_type</th>\n",
       "      <th>pg</th>\n",
       "      <th>pos_x0</th>\n",
       "      <th>pos_y0</th>\n",
       "      <th>pos_x1</th>\n",
       "      <th>pos_y1</th>\n",
       "      <th>text</th>\n",
       "    </tr>\n",
       "  </thead>\n",
       "  <tbody>\n",
       "    <tr>\n",
       "      <th>0</th>\n",
       "      <td>&lt;class 'pdfminer.layout.LTTextBoxHorizontal'&gt;</td>\n",
       "      <td>0</td>\n",
       "      <td>276.4200</td>\n",
       "      <td>669.5428</td>\n",
       "      <td>420.055200</td>\n",
       "      <td>680.966800</td>\n",
       "      <td>This document was produced \\n</td>\n",
       "    </tr>\n",
       "    <tr>\n",
       "      <th>1</th>\n",
       "      <td>&lt;class 'pdfminer.layout.LTTextBoxHorizontal'&gt;</td>\n",
       "      <td>0</td>\n",
       "      <td>261.9000</td>\n",
       "      <td>657.5428</td>\n",
       "      <td>435.701200</td>\n",
       "      <td>668.966800</td>\n",
       "      <td>by  scanning the original  publication. \\n</td>\n",
       "    </tr>\n",
       "    <tr>\n",
       "      <th>2</th>\n",
       "      <td>&lt;class 'pdfminer.layout.LTTextBoxHorizontal'&gt;</td>\n",
       "      <td>0</td>\n",
       "      <td>267.7000</td>\n",
       "      <td>637.8628</td>\n",
       "      <td>428.873920</td>\n",
       "      <td>649.286800</td>\n",
       "      <td>Ce document est Ie  produit d'une \\n</td>\n",
       "    </tr>\n",
       "    <tr>\n",
       "      <th>3</th>\n",
       "      <td>&lt;class 'pdfminer.layout.LTTextBoxHorizontal'&gt;</td>\n",
       "      <td>0</td>\n",
       "      <td>284.9200</td>\n",
       "      <td>613.8628</td>\n",
       "      <td>414.939360</td>\n",
       "      <td>637.286800</td>\n",
       "      <td>numerisation par balayage \\nde la publication ...</td>\n",
       "    </tr>\n",
       "    <tr>\n",
       "      <th>4</th>\n",
       "      <td>&lt;class 'pdfminer.layout.LTTextBoxHorizontal'&gt;</td>\n",
       "      <td>0</td>\n",
       "      <td>293.0100</td>\n",
       "      <td>543.4869</td>\n",
       "      <td>388.734374</td>\n",
       "      <td>558.861700</td>\n",
       "      <td>BULLETIN  200 \\n</td>\n",
       "    </tr>\n",
       "    <tr>\n",
       "      <th>...</th>\n",
       "      <td>...</td>\n",
       "      <td>...</td>\n",
       "      <td>...</td>\n",
       "      <td>...</td>\n",
       "      <td>...</td>\n",
       "      <td>...</td>\n",
       "      <td>...</td>\n",
       "    </tr>\n",
       "    <tr>\n",
       "      <th>857</th>\n",
       "      <td>&lt;class 'pdfminer.layout.LTTextBoxHorizontal'&gt;</td>\n",
       "      <td>45</td>\n",
       "      <td>32.3600</td>\n",
       "      <td>144.5338</td>\n",
       "      <td>429.039000</td>\n",
       "      <td>154.131400</td>\n",
       "      <td>195  Petrology and structure of Thor-Odin gnei...</td>\n",
       "    </tr>\n",
       "    <tr>\n",
       "      <th>858</th>\n",
       "      <td>&lt;class 'pdfminer.layout.LTTextBoxHorizontal'&gt;</td>\n",
       "      <td>45</td>\n",
       "      <td>49.3490</td>\n",
       "      <td>136.8626</td>\n",
       "      <td>192.784760</td>\n",
       "      <td>146.461400</td>\n",
       "      <td>and  J.  M.  Moore,  Jr.,  S2.50 (M42·195) \\n</td>\n",
       "    </tr>\n",
       "    <tr>\n",
       "      <th>859</th>\n",
       "      <td>&lt;class 'pdfminer.layout.LTTextBoxHorizontal'&gt;</td>\n",
       "      <td>45</td>\n",
       "      <td>32.1144</td>\n",
       "      <td>122.4502</td>\n",
       "      <td>430.091600</td>\n",
       "      <td>132.051400</td>\n",
       "      <td>200  Part  I- Biostratigrttphy of some  Ea rly...</td>\n",
       "    </tr>\n",
       "    <tr>\n",
       "      <th>860</th>\n",
       "      <td>&lt;class 'pdfminer.layout.LTTextBoxHorizontal'&gt;</td>\n",
       "      <td>45</td>\n",
       "      <td>48.8020</td>\n",
       "      <td>114.3010</td>\n",
       "      <td>378.925900</td>\n",
       "      <td>123.901400</td>\n",
       "      <td>Silurian Arthropoda from  Arctic and eastern C...</td>\n",
       "    </tr>\n",
       "    <tr>\n",
       "      <th>861</th>\n",
       "      <td>&lt;class 'pdfminer.layout.LTFigure'&gt;</td>\n",
       "      <td>45</td>\n",
       "      <td>0.0000</td>\n",
       "      <td>0.0000</td>\n",
       "      <td>454.080002</td>\n",
       "      <td>680.640106</td>\n",
       "      <td>None</td>\n",
       "    </tr>\n",
       "  </tbody>\n",
       "</table>\n",
       "<p>862 rows × 7 columns</p>\n",
       "</div>"
      ],
      "text/plain": [
       "                                          obj_type  pg    pos_x0    pos_y0  \\\n",
       "0    <class 'pdfminer.layout.LTTextBoxHorizontal'>   0  276.4200  669.5428   \n",
       "1    <class 'pdfminer.layout.LTTextBoxHorizontal'>   0  261.9000  657.5428   \n",
       "2    <class 'pdfminer.layout.LTTextBoxHorizontal'>   0  267.7000  637.8628   \n",
       "3    <class 'pdfminer.layout.LTTextBoxHorizontal'>   0  284.9200  613.8628   \n",
       "4    <class 'pdfminer.layout.LTTextBoxHorizontal'>   0  293.0100  543.4869   \n",
       "..                                             ...  ..       ...       ...   \n",
       "857  <class 'pdfminer.layout.LTTextBoxHorizontal'>  45   32.3600  144.5338   \n",
       "858  <class 'pdfminer.layout.LTTextBoxHorizontal'>  45   49.3490  136.8626   \n",
       "859  <class 'pdfminer.layout.LTTextBoxHorizontal'>  45   32.1144  122.4502   \n",
       "860  <class 'pdfminer.layout.LTTextBoxHorizontal'>  45   48.8020  114.3010   \n",
       "861             <class 'pdfminer.layout.LTFigure'>  45    0.0000    0.0000   \n",
       "\n",
       "         pos_x1      pos_y1                                               text  \n",
       "0    420.055200  680.966800                      This document was produced \\n  \n",
       "1    435.701200  668.966800         by  scanning the original  publication. \\n  \n",
       "2    428.873920  649.286800               Ce document est Ie  produit d'une \\n  \n",
       "3    414.939360  637.286800  numerisation par balayage \\nde la publication ...  \n",
       "4    388.734374  558.861700                                   BULLETIN  200 \\n  \n",
       "..          ...         ...                                                ...  \n",
       "857  429.039000  154.131400  195  Petrology and structure of Thor-Odin gnei...  \n",
       "858  192.784760  146.461400      and  J.  M.  Moore,  Jr.,  S2.50 (M42·195) \\n  \n",
       "859  430.091600  132.051400  200  Part  I- Biostratigrttphy of some  Ea rly...  \n",
       "860  378.925900  123.901400  Silurian Arthropoda from  Arctic and eastern C...  \n",
       "861  454.080002  680.640106                                               None  \n",
       "\n",
       "[862 rows x 7 columns]"
      ]
     },
     "execution_count": 6,
     "metadata": {},
     "output_type": "execute_result"
    }
   ],
   "source": [
    "df"
   ]
  },
  {
   "cell_type": "code",
   "execution_count": 7,
   "metadata": {},
   "outputs": [
    {
     "data": {
      "text/plain": [
       "'This document was produced \\n'"
      ]
     },
     "execution_count": 7,
     "metadata": {},
     "output_type": "execute_result"
    }
   ],
   "source": [
    "df[\"text\"][0]"
   ]
  },
  {
   "cell_type": "markdown",
   "metadata": {},
   "source": [
    "## Unprocessed pdfs"
   ]
  },
  {
   "cell_type": "code",
   "execution_count": 2,
   "metadata": {},
   "outputs": [
    {
     "name": "stdout",
     "output_type": "stream",
     "text": [
      "7183\r\n"
     ]
    }
   ],
   "source": [
    "! ls /nrcan_p2/data/01_raw/20201006/geoscan/raw/pdf | wc -l"
   ]
  },
  {
   "cell_type": "code",
   "execution_count": 3,
   "metadata": {},
   "outputs": [
    {
     "name": "stdout",
     "output_type": "stream",
     "text": [
      "6907\r\n"
     ]
    }
   ],
   "source": [
    "! find /nrcan_p2/data/02_intermediate/20201006/geoscan/pdf/v1_20201125 -name \"*.pdfminer_split.csv\" -type f | wc -l"
   ]
  },
  {
   "cell_type": "code",
   "execution_count": 4,
   "metadata": {},
   "outputs": [
    {
     "name": "stdout",
     "output_type": "stream",
     "text": [
      "9\r\n"
     ]
    }
   ],
   "source": [
    "! find /nrcan_p2/data/02_intermediate/20201006/geoscan/pdf/v1_20201125 -name \"*.pdfminer_split_failed_pages.csv\" -type f | wc -l"
   ]
  },
  {
   "cell_type": "code",
   "execution_count": 5,
   "metadata": {},
   "outputs": [
    {
     "name": "stdout",
     "output_type": "stream",
     "text": [
      "273 /nrcan_p2/data/02_intermediate/20201006/geoscan/pdf/v1_20201125/timeout_files.txt\r\n"
     ]
    }
   ],
   "source": [
    "! wc -l /nrcan_p2/data/02_intermediate/20201006/geoscan/pdf/v1_20201125/timeout_files.txt"
   ]
  },
  {
   "cell_type": "code",
   "execution_count": 6,
   "metadata": {},
   "outputs": [
    {
     "name": "stdout",
     "output_type": "stream",
     "text": [
      "/nrcan_p2/data/01_raw/20201006/geoscan/raw/pdf/247715.pdf\r\n",
      "/nrcan_p2/data/01_raw/20201006/geoscan/raw/pdf/247715.pdf\r\n",
      "/nrcan_p2/data/01_raw/20201006/geoscan/raw/pdf/247715.pdf\r\n"
     ]
    }
   ],
   "source": [
    "! cat /nrcan_p2/data/02_intermediate/20201006/geoscan/pdf/v1_20201125/empty_files.txt"
   ]
  },
  {
   "cell_type": "code",
   "execution_count": 7,
   "metadata": {},
   "outputs": [],
   "source": [
    "def get_pdf_ids(path, pattern):\n",
    "    pdfs = []\n",
    "    for (dirpath, dirnames, filenames) in os.walk(path):\n",
    "        for filename in filenames:\n",
    "            if filename.endswith(pattern):\n",
    "                pdfs.append(filename.replace(pattern, \"\"))\n",
    "    return pdfs"
   ]
  },
  {
   "cell_type": "code",
   "execution_count": 8,
   "metadata": {},
   "outputs": [],
   "source": [
    "pdfs = get_pdf_ids(\"/nrcan_p2/data/01_raw/20201006/geoscan/raw/pdf\", \".pdf\")"
   ]
  },
  {
   "cell_type": "code",
   "execution_count": 9,
   "metadata": {},
   "outputs": [
    {
     "data": {
      "text/plain": [
       "7183"
      ]
     },
     "execution_count": 9,
     "metadata": {},
     "output_type": "execute_result"
    }
   ],
   "source": [
    "len(pdfs)"
   ]
  },
  {
   "cell_type": "code",
   "execution_count": 10,
   "metadata": {},
   "outputs": [],
   "source": [
    "processed_pdfs = get_pdf_ids(\"/nrcan_p2/data/02_intermediate/20201006/geoscan/pdf/v1_20201125\", \".pdfminer_split.csv\")"
   ]
  },
  {
   "cell_type": "code",
   "execution_count": 11,
   "metadata": {},
   "outputs": [
    {
     "data": {
      "text/plain": [
       "6907"
      ]
     },
     "execution_count": 11,
     "metadata": {},
     "output_type": "execute_result"
    }
   ],
   "source": [
    "len(processed_pdfs)"
   ]
  },
  {
   "cell_type": "code",
   "execution_count": 12,
   "metadata": {},
   "outputs": [],
   "source": [
    "unprocessed_pdfs = set(pdfs) - set(processed_pdfs)"
   ]
  },
  {
   "cell_type": "code",
   "execution_count": 13,
   "metadata": {},
   "outputs": [
    {
     "data": {
      "text/plain": [
       "276"
      ]
     },
     "execution_count": 13,
     "metadata": {},
     "output_type": "execute_result"
    }
   ],
   "source": [
    "len(unprocessed_pdfs)"
   ]
  },
  {
   "cell_type": "code",
   "execution_count": 14,
   "metadata": {},
   "outputs": [
    {
     "data": {
      "text/plain": [
       "{'211796',\n",
       " '211866',\n",
       " '211887',\n",
       " '247715',\n",
       " '247749',\n",
       " '247750',\n",
       " '247751',\n",
       " '247752',\n",
       " '247753',\n",
       " '247754',\n",
       " '247758',\n",
       " '247834',\n",
       " '247853',\n",
       " '247867',\n",
       " '248213',\n",
       " '248226',\n",
       " '248231',\n",
       " '248252',\n",
       " '261482',\n",
       " '261487',\n",
       " '261488',\n",
       " '261500',\n",
       " '261570',\n",
       " '262739',\n",
       " '262740',\n",
       " '262741',\n",
       " '285377',\n",
       " '285402',\n",
       " '285475',\n",
       " '285518',\n",
       " '285524',\n",
       " '285568',\n",
       " '285600',\n",
       " '286059',\n",
       " '286193',\n",
       " '286243',\n",
       " '286261',\n",
       " '286263',\n",
       " '286264',\n",
       " '286265',\n",
       " '286319',\n",
       " '286334',\n",
       " '287145',\n",
       " '287189',\n",
       " '287924',\n",
       " '287973',\n",
       " '288024',\n",
       " '288087',\n",
       " '288092',\n",
       " '288642',\n",
       " '288673',\n",
       " '288749',\n",
       " '288751',\n",
       " '288757',\n",
       " '288758',\n",
       " '288787',\n",
       " '288788',\n",
       " '288789',\n",
       " '288790',\n",
       " '288791',\n",
       " '288801',\n",
       " '288930',\n",
       " '288933',\n",
       " '288935',\n",
       " '289096',\n",
       " '289234',\n",
       " '289269',\n",
       " '289306',\n",
       " '289315',\n",
       " '289507',\n",
       " '289527',\n",
       " '289528',\n",
       " '289545',\n",
       " '289547',\n",
       " '289598',\n",
       " '289600',\n",
       " '291805',\n",
       " '291807',\n",
       " '291808',\n",
       " '291809',\n",
       " '291810',\n",
       " '291811',\n",
       " '291812',\n",
       " '291900',\n",
       " '291901',\n",
       " '291920',\n",
       " '292021',\n",
       " '292074',\n",
       " '292100',\n",
       " '292101',\n",
       " '292187',\n",
       " '292214',\n",
       " '292279',\n",
       " '292306',\n",
       " '292316',\n",
       " '292378',\n",
       " '292379',\n",
       " '292483',\n",
       " '292503',\n",
       " '292551',\n",
       " '292553',\n",
       " '292555',\n",
       " '292559',\n",
       " '292564',\n",
       " '292579',\n",
       " '292588',\n",
       " '292593',\n",
       " '292616',\n",
       " '292673',\n",
       " '292705',\n",
       " '292707',\n",
       " '292709',\n",
       " '292802',\n",
       " '292840',\n",
       " '292863',\n",
       " '292868',\n",
       " '292871',\n",
       " '292914',\n",
       " '293118',\n",
       " '293173',\n",
       " '293258',\n",
       " '293260',\n",
       " '293334',\n",
       " '293336',\n",
       " '293348',\n",
       " '293373',\n",
       " '293374',\n",
       " '293418',\n",
       " '293431',\n",
       " '293463',\n",
       " '293465',\n",
       " '293468',\n",
       " '293492',\n",
       " '293509',\n",
       " '293511',\n",
       " '293540',\n",
       " '293541',\n",
       " '293549',\n",
       " '293604',\n",
       " '293675',\n",
       " '293680',\n",
       " '293682',\n",
       " '293687',\n",
       " '293694',\n",
       " '293701',\n",
       " '293702',\n",
       " '293726',\n",
       " '293727',\n",
       " '293759',\n",
       " '293764',\n",
       " '293767',\n",
       " '293772',\n",
       " '293839',\n",
       " '293840',\n",
       " '293841',\n",
       " '293858',\n",
       " '293871',\n",
       " '293934',\n",
       " '293938',\n",
       " '293974',\n",
       " '294601',\n",
       " '294817',\n",
       " '294920',\n",
       " '294924',\n",
       " '296624',\n",
       " '296674',\n",
       " '296826',\n",
       " '296831',\n",
       " '296834',\n",
       " '296885',\n",
       " '296912',\n",
       " '296916',\n",
       " '296944',\n",
       " '296945',\n",
       " '296952',\n",
       " '296995',\n",
       " '297045',\n",
       " '297208',\n",
       " '297225',\n",
       " '297236',\n",
       " '297336',\n",
       " '297455',\n",
       " '297512',\n",
       " '297515',\n",
       " '297608',\n",
       " '297641',\n",
       " '297643',\n",
       " '297645',\n",
       " '297648',\n",
       " '297668',\n",
       " '297720',\n",
       " '297747',\n",
       " '297776',\n",
       " '297820',\n",
       " '297821',\n",
       " '297864',\n",
       " '297891',\n",
       " '326939',\n",
       " '326944',\n",
       " '326947',\n",
       " '326951',\n",
       " '327237',\n",
       " '79453',\n",
       " '8276',\n",
       " '8277',\n",
       " '8358',\n",
       " '8378',\n",
       " '8402',\n",
       " '8403',\n",
       " '8439',\n",
       " '8453',\n",
       " '8474',\n",
       " '8476',\n",
       " '8484',\n",
       " '8488',\n",
       " '8490',\n",
       " '8491',\n",
       " '8492',\n",
       " '8493',\n",
       " '8494',\n",
       " '8495',\n",
       " '8508',\n",
       " '8509',\n",
       " '8510',\n",
       " '8517',\n",
       " '8524',\n",
       " '8525',\n",
       " '8549',\n",
       " '8552',\n",
       " '8553',\n",
       " '8554',\n",
       " '8555',\n",
       " '8556',\n",
       " '8559',\n",
       " '8562',\n",
       " '8568',\n",
       " '8571',\n",
       " '8573',\n",
       " '8574',\n",
       " '8575',\n",
       " '8576',\n",
       " '8579',\n",
       " '8580',\n",
       " '8581',\n",
       " '8588',\n",
       " '8589',\n",
       " '8590',\n",
       " '8591',\n",
       " '8594',\n",
       " '8595',\n",
       " '8602',\n",
       " '8603',\n",
       " '8604',\n",
       " '8606',\n",
       " '8614',\n",
       " '8617',\n",
       " '8640',\n",
       " '8657',\n",
       " '8687',\n",
       " '8690',\n",
       " '8694',\n",
       " '8702',\n",
       " '8703',\n",
       " '8707',\n",
       " '8716',\n",
       " '8730',\n",
       " '8732',\n",
       " '8754',\n",
       " '8755',\n",
       " '8756',\n",
       " '8762',\n",
       " '8765',\n",
       " '8868',\n",
       " '8912',\n",
       " '8927',\n",
       " '8943'}"
      ]
     },
     "execution_count": 14,
     "metadata": {},
     "output_type": "execute_result"
    }
   ],
   "source": [
    "unprocessed_pdfs"
   ]
  },
  {
   "cell_type": "code",
   "execution_count": 15,
   "metadata": {},
   "outputs": [],
   "source": [
    "pdfs_w_failed_pages = get_pdf_ids(\"/nrcan_p2/data/02_intermediate/20201006/geoscan/pdf/v1_20201125\", \".pdfminer_split_failed_pages.csv\")"
   ]
  },
  {
   "cell_type": "code",
   "execution_count": 16,
   "metadata": {},
   "outputs": [
    {
     "data": {
      "text/plain": [
       "['100400',\n",
       " '100461',\n",
       " '100612',\n",
       " '101225',\n",
       " '101540',\n",
       " '101575',\n",
       " '102212',\n",
       " '102285',\n",
       " '102291']"
      ]
     },
     "execution_count": 16,
     "metadata": {},
     "output_type": "execute_result"
    }
   ],
   "source": [
    "pdfs_w_failed_pages"
   ]
  },
  {
   "cell_type": "code",
   "execution_count": 17,
   "metadata": {},
   "outputs": [
    {
     "data": {
      "text/plain": [
       "276"
      ]
     },
     "execution_count": 17,
     "metadata": {},
     "output_type": "execute_result"
    }
   ],
   "source": [
    "len(unprocessed_pdfs - set(pdfs_w_failed_pages))"
   ]
  },
  {
   "cell_type": "markdown",
   "metadata": {},
   "source": [
    "## Timeout pdfs"
   ]
  },
  {
   "cell_type": "code",
   "execution_count": 18,
   "metadata": {},
   "outputs": [],
   "source": [
    "with open(\"/nrcan_p2/data/02_intermediate/20201006/geoscan/pdf/v1_20201125/timeout_files.txt\", \"r\") as f:\n",
    "    lines = f.readlines()\n",
    "\n",
    "timeout_pdfs = []\n",
    "for line in lines:\n",
    "    if line.strip().endswith(\".pdf\"):\n",
    "        pdf_id = re.match(r\"/nrcan_p2/data/01_raw/20201006/geoscan/raw/pdf/(\\d+)\", line)[1]\n",
    "        timeout_pdfs.append(pdf_id)"
   ]
  },
  {
   "cell_type": "code",
   "execution_count": 19,
   "metadata": {},
   "outputs": [
    {
     "data": {
      "text/plain": [
       "['291805',\n",
       " '291808',\n",
       " '291809',\n",
       " '291810',\n",
       " '291811',\n",
       " '291812',\n",
       " '291900',\n",
       " '291901',\n",
       " '291920',\n",
       " '292021',\n",
       " '292074',\n",
       " '292100',\n",
       " '292101',\n",
       " '292187',\n",
       " '292214',\n",
       " '292279',\n",
       " '292306',\n",
       " '292316',\n",
       " '292378',\n",
       " '292379',\n",
       " '296624',\n",
       " '292483',\n",
       " '292503',\n",
       " '292551',\n",
       " '296674',\n",
       " '292553',\n",
       " '292555',\n",
       " '292559',\n",
       " '292564',\n",
       " '292579',\n",
       " '296826',\n",
       " '296831',\n",
       " '292588',\n",
       " '292593',\n",
       " '292616',\n",
       " '296834',\n",
       " '296885',\n",
       " '296912',\n",
       " '296916',\n",
       " '296944',\n",
       " '296945',\n",
       " '296952',\n",
       " '296995',\n",
       " '297045',\n",
       " '297208',\n",
       " '297225',\n",
       " '297236',\n",
       " '297336',\n",
       " '297455',\n",
       " '297512',\n",
       " '297515',\n",
       " '297608',\n",
       " '297641',\n",
       " '297643',\n",
       " '297645',\n",
       " '247749',\n",
       " '297648',\n",
       " '247750',\n",
       " '247751',\n",
       " '297668',\n",
       " '247752',\n",
       " '247753',\n",
       " '297720',\n",
       " '247754',\n",
       " '297747',\n",
       " '297776',\n",
       " '297820',\n",
       " '297821',\n",
       " '297864',\n",
       " '297891',\n",
       " '247758',\n",
       " '247834',\n",
       " '247853',\n",
       " '247867',\n",
       " '248213',\n",
       " '248226',\n",
       " '248231',\n",
       " '248252',\n",
       " '261482',\n",
       " '261487',\n",
       " '261488',\n",
       " '261500',\n",
       " '261570',\n",
       " '262739',\n",
       " '262740',\n",
       " '262741',\n",
       " '285377',\n",
       " '285402',\n",
       " '285475',\n",
       " '285518',\n",
       " '285524',\n",
       " '285568',\n",
       " '285600',\n",
       " '286059',\n",
       " '286193',\n",
       " '286243',\n",
       " '286261',\n",
       " '286263',\n",
       " '286264',\n",
       " '286265',\n",
       " '286319',\n",
       " '286334',\n",
       " '287145',\n",
       " '287189',\n",
       " '287924',\n",
       " '326939',\n",
       " '326944',\n",
       " '79453',\n",
       " '326951',\n",
       " '8276',\n",
       " '8277',\n",
       " '327237',\n",
       " '8358',\n",
       " '8378',\n",
       " '8402',\n",
       " '8403',\n",
       " '8439',\n",
       " '8453',\n",
       " '8474',\n",
       " '8476',\n",
       " '8484',\n",
       " '8488',\n",
       " '8490',\n",
       " '8491',\n",
       " '8492',\n",
       " '8493',\n",
       " '8494',\n",
       " '8495',\n",
       " '8508',\n",
       " '8509',\n",
       " '8510',\n",
       " '8517',\n",
       " '8524',\n",
       " '8525',\n",
       " '8549',\n",
       " '8552',\n",
       " '8553',\n",
       " '8554',\n",
       " '8555',\n",
       " '8556',\n",
       " '8559',\n",
       " '8562',\n",
       " '8568',\n",
       " '8571',\n",
       " '8573',\n",
       " '8574',\n",
       " '8575',\n",
       " '8576',\n",
       " '8579',\n",
       " '8580',\n",
       " '8581',\n",
       " '8588',\n",
       " '8589',\n",
       " '8590',\n",
       " '8591',\n",
       " '8594',\n",
       " '8595',\n",
       " '8602',\n",
       " '8603',\n",
       " '8604',\n",
       " '8606',\n",
       " '8614',\n",
       " '8617',\n",
       " '8640',\n",
       " '8657',\n",
       " '8687',\n",
       " '8690',\n",
       " '8694',\n",
       " '8702',\n",
       " '8703',\n",
       " '8707',\n",
       " '8716',\n",
       " '8730',\n",
       " '8732',\n",
       " '8754',\n",
       " '8755',\n",
       " '8756',\n",
       " '8762',\n",
       " '8765',\n",
       " '8868',\n",
       " '8912',\n",
       " '8927',\n",
       " '8943',\n",
       " '211866',\n",
       " '211887',\n",
       " '287973',\n",
       " '288024',\n",
       " '288642',\n",
       " '288087',\n",
       " '288092',\n",
       " '288673',\n",
       " '288788',\n",
       " '288749',\n",
       " '288758',\n",
       " '288790',\n",
       " '288801',\n",
       " '288933',\n",
       " '288789',\n",
       " '288787',\n",
       " '288757',\n",
       " '288791',\n",
       " '289096',\n",
       " '289269',\n",
       " '289315',\n",
       " '289234',\n",
       " '289306',\n",
       " '289527',\n",
       " '289528',\n",
       " '289507',\n",
       " '289545',\n",
       " '289547',\n",
       " '289598',\n",
       " '289600',\n",
       " '291807',\n",
       " '292705',\n",
       " '292707',\n",
       " '292709',\n",
       " '292802',\n",
       " '292840',\n",
       " '292863',\n",
       " '292868',\n",
       " '292871',\n",
       " '292914',\n",
       " '293118',\n",
       " '293173',\n",
       " '293258',\n",
       " '293260',\n",
       " '293334',\n",
       " '293336',\n",
       " '293348',\n",
       " '293373',\n",
       " '293374',\n",
       " '293418',\n",
       " '293431',\n",
       " '293463',\n",
       " '293465',\n",
       " '293468',\n",
       " '293492',\n",
       " '293509',\n",
       " '293511',\n",
       " '293540',\n",
       " '293541',\n",
       " '293549',\n",
       " '293604',\n",
       " '293675',\n",
       " '293680',\n",
       " '293682',\n",
       " '293687',\n",
       " '293694',\n",
       " '293701',\n",
       " '293702',\n",
       " '293726',\n",
       " '293727',\n",
       " '293759',\n",
       " '293764',\n",
       " '293767',\n",
       " '293772',\n",
       " '293839',\n",
       " '293840',\n",
       " '293841',\n",
       " '293858',\n",
       " '293871',\n",
       " '293934',\n",
       " '293938',\n",
       " '293974',\n",
       " '294601',\n",
       " '294817',\n",
       " '294920',\n",
       " '294924',\n",
       " '288751',\n",
       " '288930',\n",
       " '288935',\n",
       " '292673']"
      ]
     },
     "execution_count": 19,
     "metadata": {},
     "output_type": "execute_result"
    }
   ],
   "source": [
    "timeout_pdfs"
   ]
  },
  {
   "cell_type": "code",
   "execution_count": 20,
   "metadata": {},
   "outputs": [
    {
     "data": {
      "text/plain": [
       "273"
      ]
     },
     "execution_count": 20,
     "metadata": {},
     "output_type": "execute_result"
    }
   ],
   "source": [
    "len(timeout_pdfs)"
   ]
  },
  {
   "cell_type": "code",
   "execution_count": 21,
   "metadata": {},
   "outputs": [
    {
     "data": {
      "text/plain": [
       "273"
      ]
     },
     "execution_count": 21,
     "metadata": {},
     "output_type": "execute_result"
    }
   ],
   "source": [
    "len(set(timeout_pdfs))"
   ]
  },
  {
   "cell_type": "code",
   "execution_count": 22,
   "metadata": {},
   "outputs": [],
   "source": [
    "for pdf in timeout_pdfs:\n",
    "    if pdf not in unprocessed_pdfs:\n",
    "        print(pdf)"
   ]
  },
  {
   "cell_type": "code",
   "execution_count": 23,
   "metadata": {},
   "outputs": [
    {
     "data": {
      "text/plain": [
       "['211796', '247715', '326947']"
      ]
     },
     "execution_count": 23,
     "metadata": {},
     "output_type": "execute_result"
    }
   ],
   "source": [
    "sorted(list(unprocessed_pdfs - set(timeout_pdfs)))"
   ]
  },
  {
   "cell_type": "markdown",
   "metadata": {},
   "source": [
    "211796: b3dc02bd-21a2-46ef-9120-08397e81ed3e TypeError: 'NoneType' object is not subscriptable\n",
    "247715: empty file pdfminer returns empty object\n",
    "326947: 71aa30bb-3896-4250-80c4-3340dd348b17 pdfminer.pdfdocument.PDFEncryptionError: Unsupported revision: param={'CF': {'StdCF': {'AuthEvent': /'DocOpen', 'CFM': /'AESV3', 'Length': 32}}, 'Filter': /'Standard', 'Length': 256, 'O': b'dy©u\"H\u0000eÆ¾jFQ«Àï\u0000@Éd?¶Áñ\u0000\n",
    "nî ØÔäv\u0000#ý&vÄVÇ11L', 'OE': b'}ux÷øÁ>Þ]`!Î\u00006\u0000Í\u0000&¡¬3 \u0000«r`2w4pÿ', 'P': -1052, 'Perms': b'8;q»Ë\u0000aå­ÓÅF?b', 'R': 6, 'StmF': /'StdCF', 'StrF': /'StdCF', 'U': b'`%®\u0000Ú×ÕüÄÅHÓM`âFG¡Ö}ãs!S(In°\u0000b-Y\u0000kw\u0000\u0000 ÈxÅÿ\u0000', 'UE': b'.t\u0000QË:Þ_(çÚá½Ý2=b<ÞM=ö%°¥\u0000­\u0000', 'V': 5}"
   ]
  },
  {
   "cell_type": "markdown",
   "metadata": {},
   "source": [
    "## Processed pdfs"
   ]
  },
  {
   "cell_type": "code",
   "execution_count": 7,
   "metadata": {},
   "outputs": [
    {
     "name": "stderr",
     "output_type": "stream",
     "text": [
      "/opt/conda/lib/python3.8/site-packages/IPython/core/interactiveshell.py:3145: DtypeWarning: Columns (7) have mixed types.Specify dtype option on import or set low_memory=False.\n",
      "  has_raised = await self.run_ast_nodes(code_ast.body, cell_name,\n"
     ]
    },
    {
     "name": "stdout",
     "output_type": "stream",
     "text": [
      "299332.pdfminer_split.csv\n"
     ]
    },
    {
     "ename": "MemoryError",
     "evalue": "Unable to allocate 988. MiB for an array with shape (4, 32370864) and data type float64",
     "traceback": [
      "\u001b[0;31m---------------------------------------------------------------------------\u001b[0m",
      "\u001b[0;31mMemoryError\u001b[0m                               Traceback (most recent call last)",
      "\u001b[0;32m<ipython-input-7-476784ac2fe0>\u001b[0m in \u001b[0;36m<module>\u001b[0;34m\u001b[0m\n\u001b[1;32m     12\u001b[0m             \u001b[0mframes\u001b[0m\u001b[0;34m.\u001b[0m\u001b[0mappend\u001b[0m\u001b[0;34m(\u001b[0m\u001b[0mdf_per_pdf\u001b[0m\u001b[0;34m)\u001b[0m\u001b[0;34m\u001b[0m\u001b[0;34m\u001b[0m\u001b[0m\n\u001b[1;32m     13\u001b[0m             \u001b[0mfile_count\u001b[0m \u001b[0;34m+=\u001b[0m \u001b[0;36m1\u001b[0m\u001b[0;34m\u001b[0m\u001b[0;34m\u001b[0m\u001b[0m\n\u001b[0;32m---> 14\u001b[0;31m \u001b[0mfull_df\u001b[0m \u001b[0;34m=\u001b[0m \u001b[0mpd\u001b[0m\u001b[0;34m.\u001b[0m\u001b[0mconcat\u001b[0m\u001b[0;34m(\u001b[0m\u001b[0mframes\u001b[0m\u001b[0;34m)\u001b[0m\u001b[0;34m.\u001b[0m\u001b[0mreset_index\u001b[0m\u001b[0;34m(\u001b[0m\u001b[0mdrop\u001b[0m\u001b[0;34m=\u001b[0m\u001b[0;32mTrue\u001b[0m\u001b[0;34m)\u001b[0m\u001b[0;34m\u001b[0m\u001b[0;34m\u001b[0m\u001b[0m\n\u001b[0m",
      "\u001b[0;32m/opt/conda/lib/python3.8/site-packages/pandas/core/frame.py\u001b[0m in \u001b[0;36mreset_index\u001b[0;34m(self, level, drop, inplace, col_level, col_fill)\u001b[0m\n\u001b[1;32m   4768\u001b[0m             \u001b[0mnew_obj\u001b[0m \u001b[0;34m=\u001b[0m \u001b[0mself\u001b[0m\u001b[0;34m\u001b[0m\u001b[0;34m\u001b[0m\u001b[0m\n\u001b[1;32m   4769\u001b[0m         \u001b[0;32melse\u001b[0m\u001b[0;34m:\u001b[0m\u001b[0;34m\u001b[0m\u001b[0;34m\u001b[0m\u001b[0m\n\u001b[0;32m-> 4770\u001b[0;31m             \u001b[0mnew_obj\u001b[0m \u001b[0;34m=\u001b[0m \u001b[0mself\u001b[0m\u001b[0;34m.\u001b[0m\u001b[0mcopy\u001b[0m\u001b[0;34m(\u001b[0m\u001b[0;34m)\u001b[0m\u001b[0;34m\u001b[0m\u001b[0;34m\u001b[0m\u001b[0m\n\u001b[0m\u001b[1;32m   4771\u001b[0m \u001b[0;34m\u001b[0m\u001b[0m\n\u001b[1;32m   4772\u001b[0m         \u001b[0;32mdef\u001b[0m \u001b[0m_maybe_casted_values\u001b[0m\u001b[0;34m(\u001b[0m\u001b[0mindex\u001b[0m\u001b[0;34m,\u001b[0m \u001b[0mlabels\u001b[0m\u001b[0;34m=\u001b[0m\u001b[0;32mNone\u001b[0m\u001b[0;34m)\u001b[0m\u001b[0;34m:\u001b[0m\u001b[0;34m\u001b[0m\u001b[0;34m\u001b[0m\u001b[0m\n",
      "\u001b[0;32m/opt/conda/lib/python3.8/site-packages/pandas/core/generic.py\u001b[0m in \u001b[0;36mcopy\u001b[0;34m(self, deep)\u001b[0m\n\u001b[1;32m   5661\u001b[0m         \u001b[0mdtype\u001b[0m\u001b[0;34m:\u001b[0m \u001b[0mobject\u001b[0m\u001b[0;34m\u001b[0m\u001b[0;34m\u001b[0m\u001b[0m\n\u001b[1;32m   5662\u001b[0m         \"\"\"\n\u001b[0;32m-> 5663\u001b[0;31m         \u001b[0mdata\u001b[0m \u001b[0;34m=\u001b[0m \u001b[0mself\u001b[0m\u001b[0;34m.\u001b[0m\u001b[0m_mgr\u001b[0m\u001b[0;34m.\u001b[0m\u001b[0mcopy\u001b[0m\u001b[0;34m(\u001b[0m\u001b[0mdeep\u001b[0m\u001b[0;34m=\u001b[0m\u001b[0mdeep\u001b[0m\u001b[0;34m)\u001b[0m\u001b[0;34m\u001b[0m\u001b[0;34m\u001b[0m\u001b[0m\n\u001b[0m\u001b[1;32m   5664\u001b[0m         \u001b[0mself\u001b[0m\u001b[0;34m.\u001b[0m\u001b[0m_clear_item_cache\u001b[0m\u001b[0;34m(\u001b[0m\u001b[0;34m)\u001b[0m\u001b[0;34m\u001b[0m\u001b[0;34m\u001b[0m\u001b[0m\n\u001b[1;32m   5665\u001b[0m         \u001b[0;32mreturn\u001b[0m \u001b[0mself\u001b[0m\u001b[0;34m.\u001b[0m\u001b[0m_constructor\u001b[0m\u001b[0;34m(\u001b[0m\u001b[0mdata\u001b[0m\u001b[0;34m)\u001b[0m\u001b[0;34m.\u001b[0m\u001b[0m__finalize__\u001b[0m\u001b[0;34m(\u001b[0m\u001b[0mself\u001b[0m\u001b[0;34m,\u001b[0m \u001b[0mmethod\u001b[0m\u001b[0;34m=\u001b[0m\u001b[0;34m\"copy\"\u001b[0m\u001b[0;34m)\u001b[0m\u001b[0;34m\u001b[0m\u001b[0;34m\u001b[0m\u001b[0m\n",
      "\u001b[0;32m/opt/conda/lib/python3.8/site-packages/pandas/core/internals/managers.py\u001b[0m in \u001b[0;36mcopy\u001b[0;34m(self, deep)\u001b[0m\n\u001b[1;32m    800\u001b[0m             \u001b[0mnew_axes\u001b[0m \u001b[0;34m=\u001b[0m \u001b[0mlist\u001b[0m\u001b[0;34m(\u001b[0m\u001b[0mself\u001b[0m\u001b[0;34m.\u001b[0m\u001b[0maxes\u001b[0m\u001b[0;34m)\u001b[0m\u001b[0;34m\u001b[0m\u001b[0;34m\u001b[0m\u001b[0m\n\u001b[1;32m    801\u001b[0m \u001b[0;34m\u001b[0m\u001b[0m\n\u001b[0;32m--> 802\u001b[0;31m         \u001b[0mres\u001b[0m \u001b[0;34m=\u001b[0m \u001b[0mself\u001b[0m\u001b[0;34m.\u001b[0m\u001b[0mapply\u001b[0m\u001b[0;34m(\u001b[0m\u001b[0;34m\"copy\"\u001b[0m\u001b[0;34m,\u001b[0m \u001b[0mdeep\u001b[0m\u001b[0;34m=\u001b[0m\u001b[0mdeep\u001b[0m\u001b[0;34m)\u001b[0m\u001b[0;34m\u001b[0m\u001b[0;34m\u001b[0m\u001b[0m\n\u001b[0m\u001b[1;32m    803\u001b[0m         \u001b[0mres\u001b[0m\u001b[0;34m.\u001b[0m\u001b[0maxes\u001b[0m \u001b[0;34m=\u001b[0m \u001b[0mnew_axes\u001b[0m\u001b[0;34m\u001b[0m\u001b[0;34m\u001b[0m\u001b[0m\n\u001b[1;32m    804\u001b[0m         \u001b[0;32mreturn\u001b[0m \u001b[0mres\u001b[0m\u001b[0;34m\u001b[0m\u001b[0;34m\u001b[0m\u001b[0m\n",
      "\u001b[0;32m/opt/conda/lib/python3.8/site-packages/pandas/core/internals/managers.py\u001b[0m in \u001b[0;36mapply\u001b[0;34m(self, f, align_keys, **kwargs)\u001b[0m\n\u001b[1;32m    404\u001b[0m                 \u001b[0mapplied\u001b[0m \u001b[0;34m=\u001b[0m \u001b[0mb\u001b[0m\u001b[0;34m.\u001b[0m\u001b[0mapply\u001b[0m\u001b[0;34m(\u001b[0m\u001b[0mf\u001b[0m\u001b[0;34m,\u001b[0m \u001b[0;34m**\u001b[0m\u001b[0mkwargs\u001b[0m\u001b[0;34m)\u001b[0m\u001b[0;34m\u001b[0m\u001b[0;34m\u001b[0m\u001b[0m\n\u001b[1;32m    405\u001b[0m             \u001b[0;32melse\u001b[0m\u001b[0;34m:\u001b[0m\u001b[0;34m\u001b[0m\u001b[0;34m\u001b[0m\u001b[0m\n\u001b[0;32m--> 406\u001b[0;31m                 \u001b[0mapplied\u001b[0m \u001b[0;34m=\u001b[0m \u001b[0mgetattr\u001b[0m\u001b[0;34m(\u001b[0m\u001b[0mb\u001b[0m\u001b[0;34m,\u001b[0m \u001b[0mf\u001b[0m\u001b[0;34m)\u001b[0m\u001b[0;34m(\u001b[0m\u001b[0;34m**\u001b[0m\u001b[0mkwargs\u001b[0m\u001b[0;34m)\u001b[0m\u001b[0;34m\u001b[0m\u001b[0;34m\u001b[0m\u001b[0m\n\u001b[0m\u001b[1;32m    407\u001b[0m             \u001b[0mresult_blocks\u001b[0m \u001b[0;34m=\u001b[0m \u001b[0m_extend_blocks\u001b[0m\u001b[0;34m(\u001b[0m\u001b[0mapplied\u001b[0m\u001b[0;34m,\u001b[0m \u001b[0mresult_blocks\u001b[0m\u001b[0;34m)\u001b[0m\u001b[0;34m\u001b[0m\u001b[0;34m\u001b[0m\u001b[0m\n\u001b[1;32m    408\u001b[0m \u001b[0;34m\u001b[0m\u001b[0m\n",
      "\u001b[0;32m/opt/conda/lib/python3.8/site-packages/pandas/core/internals/blocks.py\u001b[0m in \u001b[0;36mcopy\u001b[0;34m(self, deep)\u001b[0m\n\u001b[1;32m    677\u001b[0m         \u001b[0mvalues\u001b[0m \u001b[0;34m=\u001b[0m \u001b[0mself\u001b[0m\u001b[0;34m.\u001b[0m\u001b[0mvalues\u001b[0m\u001b[0;34m\u001b[0m\u001b[0;34m\u001b[0m\u001b[0m\n\u001b[1;32m    678\u001b[0m         \u001b[0;32mif\u001b[0m \u001b[0mdeep\u001b[0m\u001b[0;34m:\u001b[0m\u001b[0;34m\u001b[0m\u001b[0;34m\u001b[0m\u001b[0m\n\u001b[0;32m--> 679\u001b[0;31m             \u001b[0mvalues\u001b[0m \u001b[0;34m=\u001b[0m \u001b[0mvalues\u001b[0m\u001b[0;34m.\u001b[0m\u001b[0mcopy\u001b[0m\u001b[0;34m(\u001b[0m\u001b[0;34m)\u001b[0m\u001b[0;34m\u001b[0m\u001b[0;34m\u001b[0m\u001b[0m\n\u001b[0m\u001b[1;32m    680\u001b[0m         \u001b[0;32mreturn\u001b[0m \u001b[0mself\u001b[0m\u001b[0;34m.\u001b[0m\u001b[0mmake_block_same_class\u001b[0m\u001b[0;34m(\u001b[0m\u001b[0mvalues\u001b[0m\u001b[0;34m,\u001b[0m \u001b[0mndim\u001b[0m\u001b[0;34m=\u001b[0m\u001b[0mself\u001b[0m\u001b[0;34m.\u001b[0m\u001b[0mndim\u001b[0m\u001b[0;34m)\u001b[0m\u001b[0;34m\u001b[0m\u001b[0;34m\u001b[0m\u001b[0m\n\u001b[1;32m    681\u001b[0m \u001b[0;34m\u001b[0m\u001b[0m\n",
      "\u001b[0;31mMemoryError\u001b[0m: Unable to allocate 988. MiB for an array with shape (4, 32370864) and data type float64"
     ],
     "output_type": "error"
    }
   ],
   "source": [
    "frames = []\n",
    "file_count = 0\n",
    "path = \"/nrcan_p2/data/02_intermediate/20201006/geoscan/pdf/v1_20201125\"\n",
    "for (dirpath, dirnames, filenames) in os.walk(path):\n",
    "    for filename in filenames:\n",
    "        if filename.endswith('.pdfminer_split.csv'):\n",
    "            try:\n",
    "                df_per_pdf = pd.read_csv(os.sep.join([dirpath, filename]), index_col=[0])\n",
    "            except TypeError:\n",
    "                print(filename)\n",
    "                continue\n",
    "            frames.append(df_per_pdf)\n",
    "            file_count += 1\n",
    "full_df = pd.concat(frames).reset_index(drop=True)"
   ]
  },
  {
   "cell_type": "code",
   "execution_count": null,
   "metadata": {},
   "outputs": [],
   "source": []
  }
 ],
 "metadata": {
  "kernelspec": {
   "display_name": "Python 3",
   "language": "python",
   "name": "python3"
  },
  "language_info": {
   "codemirror_mode": {
    "name": "ipython",
    "version": 3
   },
   "file_extension": ".py",
   "mimetype": "text/x-python",
   "name": "python",
   "nbconvert_exporter": "python",
   "pygments_lexer": "ipython3",
   "version": "3.8.5"
  }
 },
 "nbformat": 4,
 "nbformat_minor": 4
}
