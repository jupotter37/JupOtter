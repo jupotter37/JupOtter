{
 "cells": [
  {
   "cell_type": "markdown",
   "metadata": {},
   "source": [
    "# Python for R users\n",
    "# Part 3: Functions\n",
    "\n",
    "In this notebook we will explore how R and Python differ in the creation and usage of functions.\n",
    "\n",
    "First, a general note: Whenever you find yourself doing something more than once, you should put the relevant code inside a function and call that function instead.  Then you can reuse that code whenever you need it in the future. This in keeping with the general software engineering philsophy known as \"Don't Repeat Yourself\" (DRY).  It's also good practice to keep these organized in a central place so that you can always find them --- we will come back to that later.  \n",
    "\n",
    "First we need to tell Jupyter to let us use R within this Python notebook."
   ]
  },
  {
   "cell_type": "code",
   "execution_count": 6,
   "metadata": {},
   "outputs": [
    {
     "name": "stdout",
     "output_type": "stream",
     "text": [
      "The rpy2.ipython extension is already loaded. To reload it, use:\n",
      "  %reload_ext rpy2.ipython\n"
     ]
    }
   ],
   "source": [
    "%load_ext rpy2.ipython"
   ]
  },
  {
   "cell_type": "markdown",
   "metadata": {},
   "source": [
    "## Creating a function\n",
    "\n",
    "Let's say that we want to create our own function that divides two numbers but returns NaN (\"not a number\") if one tries to divide by zero. Here is how we would define this function in R.  "
   ]
  },
  {
   "cell_type": "code",
   "execution_count": 7,
   "metadata": {},
   "outputs": [
    {
     "data": {
      "text/plain": [
       "[1] NaN\n"
      ]
     },
     "metadata": {},
     "output_type": "display_data"
    }
   ],
   "source": [
    "%%R\n",
    "\n",
    "my_divide <- function(i, j){\n",
    "    if (j == 0){\n",
    "        return(NaN)\n",
    "    } else {\n",
    "        return(i/j)\n",
    "    }\n",
    "}\n",
    "\n",
    "my_divide(1,0)"
   ]
  },
  {
   "cell_type": "markdown",
   "metadata": {},
   "source": [
    "Now let's write the analogous function in Python. First, we need to import the math library where nan is defined, then we can define the function. Note that it's generally good practice to put all of the imports at the top of the file, but we will leave it here for clarity."
   ]
  },
  {
   "cell_type": "code",
   "execution_count": 4,
   "metadata": {},
   "outputs": [],
   "source": [
    "import math"
   ]
  },
  {
   "cell_type": "code",
   "execution_count": 13,
   "metadata": {},
   "outputs": [
    {
     "data": {
      "text/plain": [
       "nan"
      ]
     },
     "execution_count": 13,
     "metadata": {},
     "output_type": "execute_result"
    }
   ],
   "source": [
    "def my_divide(i, j):\n",
    "    if j == 0:\n",
    "        return(math.nan)\n",
    "    else:\n",
    "        return(i / j)\n",
    "    \n",
    "my_divide(1, 0)"
   ]
  },
  {
   "cell_type": "markdown",
   "metadata": {},
   "source": [
    "#### Catching exceptions using try/catch\n",
    "\n",
    "One of the coding philosophies of Python is that it's easier to ask for forgiveness than permission (summarized as *EAFP*). This means that rather than checking for various conditions, we should assume that everything will work as intended (e.g. files will exist, operations will work) but be prepared to deal with the errors that can occur.  In Python, when an error occurs it results in an *exception* being raised.  For example, let's see what happens if we try to divide by zero:"
   ]
  },
  {
   "cell_type": "code",
   "execution_count": 1,
   "metadata": {},
   "outputs": [
    {
     "ename": "ZeroDivisionError",
     "evalue": "division by zero",
     "output_type": "error",
     "traceback": [
      "\u001b[0;31m---------------------------------------------------------------------------\u001b[0m",
      "\u001b[0;31mZeroDivisionError\u001b[0m                         Traceback (most recent call last)",
      "\u001b[0;32m<ipython-input-1-9e1622b385b6>\u001b[0m in \u001b[0;36m<module>\u001b[0;34m\u001b[0m\n\u001b[0;32m----> 1\u001b[0;31m \u001b[0;36m1\u001b[0m\u001b[0;34m/\u001b[0m\u001b[0;36m0\u001b[0m\u001b[0;34m\u001b[0m\u001b[0;34m\u001b[0m\u001b[0m\n\u001b[0m",
      "\u001b[0;31mZeroDivisionError\u001b[0m: division by zero"
     ]
    }
   ],
   "source": [
    "1/0"
   ]
  },
  {
   "cell_type": "markdown",
   "metadata": {},
   "source": [
    "This results in a \"ZeroDvisionError\" exception being raised.  Note that the exception specifies the kind of error that is occuring.  Similarly, if we try to open a file that doesn't exist, we will see a \"FileNotFoundError\" exception:"
   ]
  },
  {
   "cell_type": "code",
   "execution_count": 2,
   "metadata": {},
   "outputs": [
    {
     "ename": "FileNotFoundError",
     "evalue": "[Errno 2] No such file or directory: 'nonexistent_file'",
     "output_type": "error",
     "traceback": [
      "\u001b[0;31m---------------------------------------------------------------------------\u001b[0m",
      "\u001b[0;31mFileNotFoundError\u001b[0m                         Traceback (most recent call last)",
      "\u001b[0;32m<ipython-input-2-2e083c94bf3a>\u001b[0m in \u001b[0;36m<module>\u001b[0;34m\u001b[0m\n\u001b[0;32m----> 1\u001b[0;31m \u001b[0mmyFile\u001b[0m \u001b[0;34m=\u001b[0m \u001b[0mopen\u001b[0m\u001b[0;34m(\u001b[0m\u001b[0;34m'nonexistent_file'\u001b[0m\u001b[0;34m,\u001b[0m\u001b[0;34m'r'\u001b[0m\u001b[0;34m)\u001b[0m\u001b[0;34m\u001b[0m\u001b[0;34m\u001b[0m\u001b[0m\n\u001b[0m",
      "\u001b[0;31mFileNotFoundError\u001b[0m: [Errno 2] No such file or directory: 'nonexistent_file'"
     ]
    }
   ],
   "source": [
    "my_file = open('nonexistent_file','r')"
   ]
  },
  {
   "cell_type": "markdown",
   "metadata": {},
   "source": [
    "There is a programming construct called *try/catch* that allows us to deal gracefully with errors.  Let's rewrite our myDivide function to use this, rather than checking for the problematic condition up front:"
   ]
  },
  {
   "cell_type": "code",
   "execution_count": 5,
   "metadata": {},
   "outputs": [
    {
     "data": {
      "text/plain": [
       "nan"
      ]
     },
     "execution_count": 5,
     "metadata": {},
     "output_type": "execute_result"
    }
   ],
   "source": [
    "def my_divide(i, j):\n",
    "    try:\n",
    "        return(i / j)\n",
    "    except ZeroDivisionError:\n",
    "        return(math.nan)\n",
    "    finally:\n",
    "        pass\n",
    "        \n",
    "    \n",
    "my_divide(1, 0)"
   ]
  },
  {
   "cell_type": "markdown",
   "metadata": {},
   "source": [
    "Here we see that it deals appropriately with the division by zero error.  The *finally* section tells the function what to do if it catches any other errors, which in this case is to pass the error up the chain.  For example, if we use a string instead of a number, it will raise a \"TypeError\" exception that gets passed back to us:"
   ]
  },
  {
   "cell_type": "code",
   "execution_count": 7,
   "metadata": {},
   "outputs": [
    {
     "ename": "TypeError",
     "evalue": "unsupported operand type(s) for /: 'int' and 'str'",
     "output_type": "error",
     "traceback": [
      "\u001b[0;31m---------------------------------------------------------------------------\u001b[0m",
      "\u001b[0;31mTypeError\u001b[0m                                 Traceback (most recent call last)",
      "\u001b[0;32m<ipython-input-7-0f17a8456631>\u001b[0m in \u001b[0;36m<module>\u001b[0;34m\u001b[0m\n\u001b[0;32m----> 1\u001b[0;31m \u001b[0mmy_divide\u001b[0m\u001b[0;34m(\u001b[0m\u001b[0;36m1\u001b[0m\u001b[0;34m,\u001b[0m\u001b[0;34m'0'\u001b[0m\u001b[0;34m)\u001b[0m\u001b[0;34m\u001b[0m\u001b[0;34m\u001b[0m\u001b[0m\n\u001b[0m",
      "\u001b[0;32m<ipython-input-5-d06484e51c45>\u001b[0m in \u001b[0;36mmy_divide\u001b[0;34m(i, j)\u001b[0m\n\u001b[1;32m      1\u001b[0m \u001b[0;32mdef\u001b[0m \u001b[0mmy_divide\u001b[0m\u001b[0;34m(\u001b[0m\u001b[0mi\u001b[0m\u001b[0;34m,\u001b[0m \u001b[0mj\u001b[0m\u001b[0;34m)\u001b[0m\u001b[0;34m:\u001b[0m\u001b[0;34m\u001b[0m\u001b[0;34m\u001b[0m\u001b[0m\n\u001b[1;32m      2\u001b[0m     \u001b[0;32mtry\u001b[0m\u001b[0;34m:\u001b[0m\u001b[0;34m\u001b[0m\u001b[0;34m\u001b[0m\u001b[0m\n\u001b[0;32m----> 3\u001b[0;31m         \u001b[0;32mreturn\u001b[0m\u001b[0;34m(\u001b[0m\u001b[0mi\u001b[0m \u001b[0;34m/\u001b[0m \u001b[0mj\u001b[0m\u001b[0;34m)\u001b[0m\u001b[0;34m\u001b[0m\u001b[0;34m\u001b[0m\u001b[0m\n\u001b[0m\u001b[1;32m      4\u001b[0m     \u001b[0;32mexcept\u001b[0m \u001b[0mZeroDivisionError\u001b[0m\u001b[0;34m:\u001b[0m\u001b[0;34m\u001b[0m\u001b[0;34m\u001b[0m\u001b[0m\n\u001b[1;32m      5\u001b[0m         \u001b[0;32mreturn\u001b[0m\u001b[0;34m(\u001b[0m\u001b[0mmath\u001b[0m\u001b[0;34m.\u001b[0m\u001b[0mnan\u001b[0m\u001b[0;34m)\u001b[0m\u001b[0;34m\u001b[0m\u001b[0;34m\u001b[0m\u001b[0m\n",
      "\u001b[0;31mTypeError\u001b[0m: unsupported operand type(s) for /: 'int' and 'str'"
     ]
    }
   ],
   "source": [
    "my_divide(1,'0')"
   ]
  },
  {
   "cell_type": "markdown",
   "metadata": {},
   "source": []
  },
  {
   "cell_type": "code",
   "execution_count": 8,
   "metadata": {},
   "outputs": [
    {
     "data": {
      "text/plain": [
       "0.0"
      ]
     },
     "execution_count": 8,
     "metadata": {},
     "output_type": "execute_result"
    }
   ],
   "source": []
  },
  {
   "cell_type": "markdown",
   "metadata": {},
   "source": [
    "#### Variable scope\n",
    "\n",
    "Similar to R, a variable defined outside of a function in the global workspace is visible within the function, and variables defined within a function are not visible outside of the functionl\n",
    "\n",
    "*NOTE*: It is generally bad practice to use global variables within a function, unless they are meant to serve as constants that will never be modified.  Otherwise it can be very hard to debug problems that arise. It is customary to write the names of constants in all caps so that it's clear that they are different."
   ]
  },
  {
   "cell_type": "code",
   "execution_count": 61,
   "metadata": {},
   "outputs": [
    {
     "name": "stdout",
     "output_type": "stream",
     "text": [
      "Earth\n"
     ]
    },
    {
     "ename": "NameError",
     "evalue": "name 'defined_inside' is not defined",
     "output_type": "error",
     "traceback": [
      "\u001b[0;31m---------------------------------------------------------------------------\u001b[0m",
      "\u001b[0;31mNameError\u001b[0m                                 Traceback (most recent call last)",
      "\u001b[0;32m<ipython-input-61-a37b14226e0b>\u001b[0m in \u001b[0;36m<module>\u001b[0;34m\u001b[0m\n\u001b[1;32m      9\u001b[0m \u001b[0;34m\u001b[0m\u001b[0m\n\u001b[1;32m     10\u001b[0m \u001b[0;31m# try printing the variable defined inside the function - will raise an error\u001b[0m\u001b[0;34m\u001b[0m\u001b[0;34m\u001b[0m\u001b[0;34m\u001b[0m\u001b[0m\n\u001b[0;32m---> 11\u001b[0;31m \u001b[0mprint\u001b[0m\u001b[0;34m(\u001b[0m\u001b[0mdefined_inside\u001b[0m\u001b[0;34m)\u001b[0m\u001b[0;34m\u001b[0m\u001b[0;34m\u001b[0m\u001b[0m\n\u001b[0m",
      "\u001b[0;31mNameError\u001b[0m: name 'defined_inside' is not defined"
     ]
    }
   ],
   "source": [
    "# a constant\n",
    "MY_PLANET = 'Earth'\n",
    "\n",
    "def testfunc():\n",
    "    print(MY_PLANET)\n",
    "    defined_inside = 'local'\n",
    "    \n",
    "testfunc()\n",
    "\n",
    "# try printing the variable defined inside the function - will raise an error\n",
    "print(defined_inside)"
   ]
  },
  {
   "cell_type": "markdown",
   "metadata": {},
   "source": [
    "#### Optional arguments\n",
    "\n",
    "Often there are arguments that we want to be optional.  For example, let's say that we want to create standardized scores for a set of numbers.  Let's start by creating a version that creates standardized scores with a mean of zero and a standard deviation of 1 --- i.e. Z-scores.\n",
    "\n",
    "Here we will also add some documentation to the function, so that users can know what it's for.  We do this by placing what is called a *docstring* on the first indented line of the function.  We use triple quotation marks, which allows us to continue the string over several lines, though for a docstring we use them even if it's just a single line."
   ]
  },
  {
   "cell_type": "code",
   "execution_count": 9,
   "metadata": {},
   "outputs": [],
   "source": [
    "import numpy\n",
    "\n",
    "def my_std_score(v):\n",
    "    \"\"\"returns a standard score for a list or array\n",
    "    with mean zero and standard deviation 1\n",
    "    \n",
    "    Parameters\n",
    "    ----------\n",
    "    v: list or numpy array \n",
    "        numbers to be scaled\n",
    "    \n",
    "    Returns\n",
    "    -------\n",
    "    std_score: numpy array\n",
    "        the standardized values\n",
    "    \"\"\"\n",
    "    \n",
    "    # make sure it's an appropriate kind of variable (list or numpy array)\n",
    "    assert type(v) in [list, numpy.ndarray]\n",
    "    \n",
    "    # convert list to numpy array\n",
    "    if type(v) == list:\n",
    "        v = numpy.array(v)\n",
    "\n",
    "    std_score = (v  - numpy.mean(v))/numpy.std(v)\n",
    "    return(std_score)\n"
   ]
  },
  {
   "cell_type": "code",
   "execution_count": 10,
   "metadata": {},
   "outputs": [
    {
     "data": {
      "text/plain": [
       "array([-1.34164079, -0.4472136 ,  0.4472136 ,  1.34164079])"
      ]
     },
     "execution_count": 10,
     "metadata": {},
     "output_type": "execute_result"
    }
   ],
   "source": [
    "v = numpy.array([1,2,3,4])\n",
    "my_std_score(v)"
   ]
  },
  {
   "cell_type": "markdown",
   "metadata": {},
   "source": [
    "Now that we added the docstring, the help() function will give us useful information."
   ]
  },
  {
   "cell_type": "code",
   "execution_count": 11,
   "metadata": {},
   "outputs": [
    {
     "name": "stdout",
     "output_type": "stream",
     "text": [
      "Help on function my_std_score in module __main__:\n",
      "\n",
      "my_std_score(v)\n",
      "    returns a standard score for a list or array\n",
      "    with mean zero and standard deviation 1\n",
      "    \n",
      "    Parameters\n",
      "    ----------\n",
      "    v: list or numpy array \n",
      "        numbers to be scaled\n",
      "    \n",
      "    Returns\n",
      "    -------\n",
      "    std_score: numpy array\n",
      "        the standardized values\n",
      "\n"
     ]
    }
   ],
   "source": [
    "help(my_std_score)"
   ]
  },
  {
   "cell_type": "markdown",
   "metadata": {},
   "source": [
    "Sometimes we might want to create scores with a different mean or standard deviation. To enable this, we can add optional arguments specifying the mean and standard deviation, setting them to zero and one by default."
   ]
  },
  {
   "cell_type": "code",
   "execution_count": 12,
   "metadata": {},
   "outputs": [],
   "source": [
    "def my_std_score2(v, mean=0, sd=1):\n",
    "    \"\"\"returns a standard score for a list or array\n",
    "    with arbitrary mean and standard deviation\n",
    "    \n",
    "    Parameters\n",
    "    ----------\n",
    "    v: list or numpy array \n",
    "        numbers to be scaled\n",
    "    mean: float, optional\n",
    "        mean of the standard scores (default = 0)\n",
    "    sd: float, optional\n",
    "        standard deviation of the standard scores (default = 1)\n",
    "    \n",
    "    Returns\n",
    "    -------\n",
    "    std_score: numpy array\n",
    "        the standardized values\n",
    "    \n",
    "    \"\"\"\n",
    "    \n",
    "    # make sure it's an appropriate kind of variable (list or numpy array)\n",
    "    assert type(v) in [list, numpy.ndarray]\n",
    "    \n",
    "    # convert list to numpy array\n",
    "    if type(v) == list:\n",
    "        v = numpy.array(v)\n",
    "\n",
    "    # first create Z-score, then convert to units of interest\n",
    "    z_score = (v  - numpy.mean(v))/numpy.std(v)\n",
    "    std_score = z_score*sd + mean\n",
    "    return(std_score)\n"
   ]
  },
  {
   "cell_type": "markdown",
   "metadata": {},
   "source": [
    "Now if we run it with no arguments, we will still get Z-scores:"
   ]
  },
  {
   "cell_type": "code",
   "execution_count": 13,
   "metadata": {},
   "outputs": [
    {
     "data": {
      "text/plain": [
       "array([-1.34164079, -0.4472136 ,  0.4472136 ,  1.34164079])"
      ]
     },
     "execution_count": 13,
     "metadata": {},
     "output_type": "execute_result"
    }
   ],
   "source": [
    "my_std_score2(v)"
   ]
  },
  {
   "cell_type": "markdown",
   "metadata": {},
   "source": [
    "But we can also modify those arguments to obtain differently scaled scores.  Note that including the names of the arguments is not required, but is good practice in general to be clear about which optional arguments are being set."
   ]
  },
  {
   "cell_type": "code",
   "execution_count": 14,
   "metadata": {},
   "outputs": [
    {
     "data": {
      "text/plain": [
       "array([ 86.58359214,  95.52786405, 104.47213595, 113.41640786])"
      ]
     },
     "execution_count": 14,
     "metadata": {},
     "output_type": "execute_result"
    }
   ],
   "source": [
    "my_std_score2(v, mean=100, sd=10)"
   ]
  },
  {
   "cell_type": "markdown",
   "metadata": {},
   "source": [
    "#### Return values"
   ]
  },
  {
   "cell_type": "markdown",
   "metadata": {},
   "source": [
    "So far we have seen functions that return a single variable, but a function can also return multiple variables.  The easiest way to do this is to return a *tuple* of items, which is similar to a list but is immutable, meaning that its values can't be modified.\n",
    "\n",
    "Let's create an example of a function that will take in a vector and return the mean and standard deviation of the values. It will also by default print a report."
   ]
  },
  {
   "cell_type": "code",
   "execution_count": 15,
   "metadata": {},
   "outputs": [],
   "source": [
    "def my_summary_stats(v, print_report=True):\n",
    "    \"\"\"compute the mean and sd of a numpy array\n",
    "    \n",
    "    Parameters\n",
    "    ----------\n",
    "    v: numpy array \n",
    "        values to be processed\n",
    "    print_report: bool, optional\n",
    "        a flag for whether to print a report (default = True)\n",
    "    \n",
    "    Returns\n",
    "    -------\n",
    "    mean: int\n",
    "        mean of vector\n",
    "    sd: int\n",
    "        sd of vector\n",
    "    \"\"\"\n",
    "    mean = numpy.mean(v)\n",
    "    sd = numpy.std(v)\n",
    "    \n",
    "    if print_report:\n",
    "        print(f'Mean = {mean:.2f}')\n",
    "        print(f'SD = {sd:.2f}')\n",
    "\n",
    "    return((mean, sd))\n"
   ]
  },
  {
   "cell_type": "code",
   "execution_count": 16,
   "metadata": {},
   "outputs": [
    {
     "name": "stdout",
     "output_type": "stream",
     "text": [
      "Mean = 2.50\n",
      "SD = 1.12\n",
      "(2.5, 1.118033988749895)\n"
     ]
    },
    {
     "ename": "TypeError",
     "evalue": "'tuple' object does not support item assignment",
     "output_type": "error",
     "traceback": [
      "\u001b[0;31m---------------------------------------------------------------------------\u001b[0m",
      "\u001b[0;31mTypeError\u001b[0m                                 Traceback (most recent call last)",
      "\u001b[0;32m<ipython-input-16-1be6455276e4>\u001b[0m in \u001b[0;36m<module>\u001b[0;34m\u001b[0m\n\u001b[1;32m      5\u001b[0m \u001b[0;31m# if you try to change a value of the output tuple, it will raise an error:\u001b[0m\u001b[0;34m\u001b[0m\u001b[0;34m\u001b[0m\u001b[0;34m\u001b[0m\u001b[0m\n\u001b[1;32m      6\u001b[0m \u001b[0;34m\u001b[0m\u001b[0m\n\u001b[0;32m----> 7\u001b[0;31m \u001b[0moutput\u001b[0m\u001b[0;34m[\u001b[0m\u001b[0;36m1\u001b[0m\u001b[0;34m]\u001b[0m \u001b[0;34m=\u001b[0m \u001b[0;36m1\u001b[0m\u001b[0;34m\u001b[0m\u001b[0;34m\u001b[0m\u001b[0m\n\u001b[0m",
      "\u001b[0;31mTypeError\u001b[0m: 'tuple' object does not support item assignment"
     ]
    }
   ],
   "source": [
    "vec = numpy.array([1,2,3,4])\n",
    "output = my_summary_stats(vec)\n",
    "print(output)\n",
    "\n",
    "# if you try to change a value of the output tuple, it will raise an error:\n",
    "\n",
    "output[1] = 1"
   ]
  },
  {
   "cell_type": "markdown",
   "metadata": {},
   "source": [
    "## Classes\n",
    "\n",
    "The way that you generally write programs in R is known as *procedural programming*: The program is basically a script that outlines a procedure, and R goes through it sequentially to perform the procedure.  Python allows this kind of programming, but there is another way of programming that is used by most modern programming languages, known as *object-oriented programming*.  Understanding the basics of object oriented programming is essential for working with R code as well as for building code that you can easily reuse, following the DRY principle that we outlined above.\n",
    "\n",
    "Tutorials:\n",
    "- https://realpython.com/python3-object-oriented-programming/\n",
    "\n",
    "\n",
    "In object-oriented programming, we define the objects that we are interested in, and then characterize them in terms of their properties or attributes and the functions that they perform or that are performed on them.  The fundamental concept that defines an object in Python is known as a *class*.  \n",
    "\n",
    "Let's say that we want to build a program to keep track of information about our cats.  To do this, we would define a class to describe a cat (generically).  First let's think about the different attributes that a cat might have. Keeping it simple, we could say that we want to keep track of their weight and whether they are hungry (which we will assume is true by default - these are cats after all).  Let's start by creating a class that stores these.\n",
    "\n",
    "First we will create the class definition, dissecting it in the comments."
   ]
  },
  {
   "cell_type": "code",
   "execution_count": 67,
   "metadata": {},
   "outputs": [],
   "source": [
    "#The first line says that we want to create a new class called \"Cat\", which is a kind of object.  \n",
    "#This is an example of *inheritance*, in which an object can inherit the features of another \n",
    "#kind of object.  In this case, Cat inherits the features of Python's most generic kind of object, \n",
    "#called simply *object*.\n",
    "\n",
    "class Cat:\n",
    "    # the next section is the docstring, providing info about the object\n",
    "    # the parameters refer to the values that are passed into the __init__ function\n",
    "    \"\"\"an object describing a cat\n",
    "\n",
    "    Parameters\n",
    "    ----------\n",
    "    weight_lbs: float\n",
    "        cat's weight, in pounds\n",
    "    is_hungry: bool, optional\n",
    "        Is the cat hungry? (default = True)\n",
    "    \"\"\"\n",
    "    \n",
    "    # the next line is a *class attribute* - this is a value that is shared by \n",
    "    # all instances of the class\n",
    "    species = \"Felis catus\"\n",
    "    \n",
    "    # The next line creates a special function called __init__(), which is used to \n",
    "    # create a new instance of the class - in this case, a description of a \n",
    "    # specific cat.  The fact that the function's name starts with two underscores \n",
    "    # means that this is a *private* function that is not meant to be called except \n",
    "    # by the class itself.  The first item in the list, which by convention is called *self*, \n",
    "    # refers to the object itself; whenever we create a function inside a class, we usually  \n",
    "    # need to put *self* as the first argument.  The next two arguments refer to the specific \n",
    "    # features of the cat that we want to define: weight in pounds, and whether the cat is hungry.  \n",
    "    # We use descriptive variable names to make clear what each one refers to.\n",
    "    def __init__(self, weight_lbs, is_hungry=True):\n",
    "        # the next two lines make sure that the values passed for the arguments\n",
    "        # are of the correct type: weight should be a number (either integer or \n",
    "        # floating point) and is_hungry should be a Boolean value. \n",
    "        # It is generally good practice to make sure that values passed to\n",
    "        # a class or function are of the correct type\n",
    "        assert isinstance(weight_lbs, int) or isinstance(weight_lbs, float)\n",
    "        assert isinstance(is_hungry, bool)\n",
    "        \n",
    "        # These two lines take the two settings and use them to create variables that are part of \n",
    "        # the object, which we call *attributes*.  These are called *self.is_hungry* and \n",
    "        # *self.weight_lbs* respectively.  The period is used to denote that this is an attribute \n",
    "        # of the current class (*self*). \n",
    "        self.weight_lbs = weight_lbs\n",
    "        self.is_hungry = is_hungry\n"
   ]
  },
  {
   "cell_type": "markdown",
   "metadata": {},
   "source": [
    "Now let's create a new instance of the cat object, for my cat Coco."
   ]
  },
  {
   "cell_type": "code",
   "execution_count": 68,
   "metadata": {},
   "outputs": [],
   "source": [
    "Coco = Cat(8,True)"
   ]
  },
  {
   "cell_type": "markdown",
   "metadata": {},
   "source": [
    "Because we added a docstring, we can also obtain help if we forget how to use the function:"
   ]
  },
  {
   "cell_type": "code",
   "execution_count": 71,
   "metadata": {},
   "outputs": [
    {
     "name": "stdout",
     "output_type": "stream",
     "text": [
      "Help on class Cat in module __main__:\n",
      "\n",
      "class Cat(builtins.object)\n",
      " |  an object describing a cat\n",
      " |  \n",
      " |  Parameters\n",
      " |  ----------\n",
      " |  weight_lbs: float\n",
      " |      cat's weight, in pounds\n",
      " |  is_hungry: bool, optional\n",
      " |      Is the cat hungry? (default = True)\n",
      " |  \n",
      " |  Methods defined here:\n",
      " |  \n",
      " |  __init__(self, weight_lbs, is_hungry=True)\n",
      " |      Initialize self.  See help(type(self)) for accurate signature.\n",
      " |  \n",
      " |  ----------------------------------------------------------------------\n",
      " |  Data descriptors defined here:\n",
      " |  \n",
      " |  __dict__\n",
      " |      dictionary for instance variables (if defined)\n",
      " |  \n",
      " |  __weakref__\n",
      " |      list of weak references to the object (if defined)\n",
      " |  \n",
      " |  ----------------------------------------------------------------------\n",
      " |  Data and other attributes defined here:\n",
      " |  \n",
      " |  species = 'Felis catus'\n",
      "\n"
     ]
    }
   ],
   "source": [
    "help(Cat)"
   ]
  },
  {
   "cell_type": "markdown",
   "metadata": {},
   "source": [
    "We can refer to the attributes from outside of the class using the dot operator:"
   ]
  },
  {
   "cell_type": "code",
   "execution_count": 69,
   "metadata": {},
   "outputs": [
    {
     "name": "stdout",
     "output_type": "stream",
     "text": [
      "8\n",
      "True\n",
      "Felis catus\n"
     ]
    }
   ],
   "source": [
    "print(Coco.weight_lbs)\n",
    "print(Coco.is_hungry)\n",
    "print(Coco.species)"
   ]
  },
  {
   "cell_type": "markdown",
   "metadata": {},
   "source": [
    "We can also assign the value of an attribute directly.  Let's say that Coco gains some weight, up to 9 pounds.  We can assign this new value to the attribute."
   ]
  },
  {
   "cell_type": "code",
   "execution_count": 70,
   "metadata": {},
   "outputs": [
    {
     "name": "stdout",
     "output_type": "stream",
     "text": [
      "9\n"
     ]
    }
   ],
   "source": [
    "Coco.weight_lbs = 9\n",
    "print(Coco.weight_lbs)"
   ]
  },
  {
   "cell_type": "markdown",
   "metadata": {},
   "source": [
    "#### Class methods\n",
    "\n",
    "In addition to having attributes, a class also has the ability to do things, which we refer to as *methods*.  For example, let's say that we want to feed the cat.  We can create a new function that is part of the method, which we will call *feed*. When this method is invoked, it moves the cat from a hungry state to a not hungry state. "
   ]
  },
  {
   "cell_type": "code",
   "execution_count": 72,
   "metadata": {},
   "outputs": [],
   "source": [
    "class Cat:\n",
    "    \"\"\"an object describing a cat\n",
    "\n",
    "    Parameters\n",
    "    ----------\n",
    "    weight_lbs: float\n",
    "        cat's weight, in pounds\n",
    "    is_hungry: bool, optional\n",
    "        Is the cat hungry? (default = True)\n",
    "        \n",
    "    \"\"\"\n",
    "\n",
    "    def __init__(self, weight_lbs, is_hungry=True):\n",
    "        assert isinstance(weight_lbs, int) or isinstance(weight_lbs, float)\n",
    "        assert isinstance(is_hungry, bool)\n",
    "        \n",
    "        self.weight_lbs = weight_lbs\n",
    "        self.is_hungry = is_hungry\n",
    "        \n",
    "    def feed(self):\n",
    "        \"\"\"\n",
    "        A function that feeds the cat, moving is_hungry from true to false\n",
    "        \"\"\"\n",
    "        self.is_hungry = False"
   ]
  },
  {
   "cell_type": "code",
   "execution_count": 73,
   "metadata": {},
   "outputs": [
    {
     "name": "stdout",
     "output_type": "stream",
     "text": [
      "True\n",
      "False\n"
     ]
    }
   ],
   "source": [
    "Coco = Cat(8,True)\n",
    "print(Coco.is_hungry)\n",
    "Coco.feed()\n",
    "print(Coco.is_hungry)"
   ]
  },
  {
   "cell_type": "markdown",
   "metadata": {},
   "source": [
    "### A more realistic example: designing an analysis method using the scikit-learn pattern\n",
    "\n",
    "Now we will look at an example of how to build a class that does something interesting.  We will build on a design pattern that we will use extensively in Psych 253, which is the pattern used by the scikit-learn package.\n",
    "\n",
    "In scikit-learn, each analysis method is represented by a class. Each of these classes has a set of methods that are standard, which is nice because we don't have to learn a new interface for each function. The interface includes several commong methods:\n",
    "\n",
    "* *fit()*: This fits the model.\n",
    "* *predict()*: This returns the predicted values from the model\n",
    "* *score()*: This returns the goodness of fit (R^2) of the model\n",
    "\n",
    "Let's build a simple version of this to see how it would work.\n",
    "\n"
   ]
  },
  {
   "cell_type": "code",
   "execution_count": 17,
   "metadata": {},
   "outputs": [],
   "source": [
    "import numpy\n",
    "\n",
    "def check_variable_sizes(X, y=None):\n",
    "    \"\"\"\n",
    "    makes sure that vectors are properly shaped for linear modeling\n",
    "    \n",
    "    Parameters\n",
    "    ----------\n",
    "    X: numpy array (N x k)\n",
    "        design matrix for a linear model\n",
    "    y: numpy array (N or N x 1), optional\n",
    "        vector of dependent variables for model\n",
    "    \n",
    "    Returns\n",
    "    -------\n",
    "    y: numpy array (N x 1)\n",
    "        vector of dependent variables, reshaped\n",
    "        if necessary (or None if y is None)\n",
    "    \"\"\"\n",
    "\n",
    "    # make sure X is two-dimensional\n",
    "    assert len(X.shape) == 2\n",
    "\n",
    "    if y is not None:\n",
    "        # if y is one-dimensional then add a second dimension\n",
    "        # so that it matches X\n",
    "        if len(y.shape) == 1:\n",
    "            y = y[:, numpy.newaxis]\n",
    "\n",
    "        assert y.shape[0] == X.shape[0]\n",
    "\n",
    "        return(y)\n",
    "    else:\n",
    "        return(None)\n",
    "\n",
    "\n",
    "class MyLinearRegression:\n",
    "    \"\"\"Class to perform linear regression using scikit-learn API\n",
    "            \n",
    "    Attributes\n",
    "    ----------\n",
    "    coef_: numpy array, k X 1\n",
    "        estimated regression coefficients (None until model is fitted)\n",
    "    residuals_: numpy array, N X 1\n",
    "        residuals from model fit (None until model is fitted)\n",
    "        \n",
    "    Notes\n",
    "    -----\n",
    "    This function assumes that the model has an intercept added already\n",
    "    \n",
    "    Example\n",
    "    -------\n",
    "    >>> lr = myLinearRegression()\n",
    "    >>> X = numpy.random.randn(100,3)\n",
    "    >>> X[:,2] = 1 # intercept column\n",
    "    >>> y = X.dot(numpy.array([3,-2, 5]))\n",
    "    >>> lr.fit(X, y)\n",
    "    >>> lr.coef_\n",
    "    array([[ 3.],\n",
    "       [-2.],\n",
    "       [ 5.]])\n",
    "    \"\"\"\n",
    "    \n",
    "    \n",
    "    def __init__(self, fit_intercept=True):\n",
    "        # placeholder for the regression coefficients\n",
    "        # that we will estimate\n",
    "        self.coef_ = None\n",
    "        self.residuals_ = None\n",
    "       \n",
    "\n",
    "        \n",
    "    def fit(self, X, y):\n",
    "        \"\"\"function to fit the model\n",
    "        \n",
    "        Parameters\n",
    "        ----------\n",
    "        X: numpy array (N x k)\n",
    "            design matrix for the model\n",
    "        y: numpy array (N or N x 1)\n",
    "            vector of dependent variables for model\n",
    "        \"\"\"\n",
    "        \n",
    "        # check variable sizes\n",
    "        y = check_variable_sizes(X, y)\n",
    "        \n",
    "        # compute the regression coefficients using ordinary least squares\n",
    "        self.coef_ = numpy.linalg.inv(X.T.dot(X)).dot(X.T).dot(y)\n",
    "        \n",
    "        self.residuals_ = y[:, 0] - self.predict(X)\n",
    "        \n",
    "        \n",
    "    def predict(self, X):\n",
    "        \"\"\"Predicted values using fitted coefficients\n",
    "        \n",
    "        Parameters\n",
    "        ----------\n",
    "        X: numpy array (N x k)\n",
    "            design matrix for the model\n",
    "            \n",
    "        Returns\n",
    "        -------\n",
    "        pred: numpy array (N)\n",
    "            predicted values\n",
    "        \"\"\"\n",
    "        \n",
    "        # make sure the model has been fit\n",
    "        if self.coef_ is None:\n",
    "            print('Model must be fitted first!')\n",
    "            return(None)\n",
    "        \n",
    "        # check variable sizes\n",
    "        check_variable_sizes(X)\n",
    "       \n",
    "        # make sure X has same dimension as coefficients\n",
    "        # raise an exception if it doesn't\n",
    "        assert self.coef_.shape[0] == X.shape[1]\n",
    "        \n",
    "        return(X.dot(self.coef_)[:, 0])\n",
    "\n",
    "    \n",
    "    def score(self, X, y):\n",
    "        \"\"\"returns coefficient of determination (R**2) for fitted model\n",
    "        \n",
    "        Parameters\n",
    "        ----------\n",
    "        X: numpy array (N x k)\n",
    "            design matrix for the model\n",
    "        y: numpy array (N or N x 1)\n",
    "            vector of dependent variables for model\n",
    "\n",
    "        Returns\n",
    "        -------\n",
    "        r2: float\n",
    "            coefficient of determination\n",
    "       \n",
    "        Notes\n",
    "        -----\n",
    "        Computed as in sklearn: The coefficient R^2 is defined as (1 - u/v), \n",
    "        where u is the residual sum of squares ((y_true - y_pred) ** 2).sum() \n",
    "        and v is the total sum of squares ((y_true - y_true.mean()) ** 2).sum(). \n",
    "        \n",
    "        \"\"\"\n",
    "        \n",
    "        if self.coef_ is None:\n",
    "            self.fit(X, y)\n",
    "\n",
    "        y = check_variable_sizes(X, y)\n",
    "\n",
    "        y_pred = self.predict(X)\n",
    "        \n",
    "        # return to a 1d vector to match y_pred\n",
    "        y_true = y[:, 0]\n",
    "        \n",
    "        # compute r-squared using sum of squares formulation\n",
    "        \n",
    "        RSS = (self.residuals_ ** 2).sum()\n",
    "        SSE = ((y_true - y_true.mean()) ** 2).sum()\n",
    "        r2 = (1 - RSS/SSE)\n",
    "        \n",
    "        return(r2)\n",
    "        \n",
    "        "
   ]
  },
  {
   "cell_type": "code",
   "execution_count": 18,
   "metadata": {},
   "outputs": [
    {
     "name": "stdout",
     "output_type": "stream",
     "text": [
      "Model must be fitted first!\n",
      "[[ 2.2906098 ]\n",
      " [ 4.113673  ]\n",
      " [-2.53111071]]\n"
     ]
    },
    {
     "data": {
      "text/plain": [
       "0.9686900814459842"
      ]
     },
     "execution_count": 18,
     "metadata": {},
     "output_type": "execute_result"
    }
   ],
   "source": [
    "reg = MyLinearRegression()\n",
    "\n",
    "num_points = 10\n",
    "X = numpy.random.randn(num_points, 2)\n",
    "# add intercept\n",
    "X = numpy.append(X, numpy.ones(num_points)[:, numpy.newaxis], 1)\n",
    "y = X.dot([3, 4, -2]) + numpy.random.randn(10)\n",
    "\n",
    "# running predict before running model returns a warning\n",
    "reg.predict(X)\n",
    "\n",
    "reg.fit(X, y)\n",
    "print(reg.coef_)\n",
    "\n",
    "predicted = reg.predict(X)\n",
    "\n",
    "reg.score(X, y)"
   ]
  },
  {
   "cell_type": "code",
   "execution_count": null,
   "metadata": {},
   "outputs": [],
   "source": []
  }
 ],
 "metadata": {
  "kernelspec": {
   "display_name": "Python 3",
   "language": "python",
   "name": "python3"
  },
  "language_info": {
   "codemirror_mode": {
    "name": "ipython",
    "version": 3
   },
   "file_extension": ".py",
   "mimetype": "text/x-python",
   "name": "python",
   "nbconvert_exporter": "python",
   "pygments_lexer": "ipython3",
   "version": "3.6.7"
  }
 },
 "nbformat": 4,
 "nbformat_minor": 4
}
