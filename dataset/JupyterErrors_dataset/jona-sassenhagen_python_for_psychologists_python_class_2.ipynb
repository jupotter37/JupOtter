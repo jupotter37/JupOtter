{
 "cells": [
  {
   "cell_type": "markdown",
   "metadata": {},
   "source": [
    "# Sitzung 1\n",
    "\n",
    "Erinnerung: was Sie bereits können sollten:\n",
    "- variablen definieren\n",
    "- lists\n",
    "- dicts\n",
    "- list comprehensions\n",
    "\n",
    "Was in dieser Sitzung dazu kommt:\n",
    "- For-Loops\n",
    "- Funktionen\n",
    "- Funktionen selbst definieren"
   ]
  },
  {
   "cell_type": "markdown",
   "metadata": {},
   "source": [
    "Zur Erinnerung: eine List Comprehension hat die Struktur `result = [(expression) for element in list]`.\n",
    "D.h.,\n",
    "- wir gehen der Reihe nach durch alle Elemente von `list`\n",
    "- das aktuelle Element wird unter der Variable `element` gespeichert\n",
    "- damit wird `expression` ausgeführt\n",
    "- danach wird eine Sammlung der Resultate all dieser `expression`s ausgegeben (und hier als `result` gespeichert)"
   ]
  },
  {
   "cell_type": "code",
   "execution_count": 1,
   "metadata": {},
   "outputs": [
    {
     "data": {
      "text/plain": [
       "[1, 2, 3]"
      ]
     },
     "execution_count": 1,
     "metadata": {},
     "output_type": "execute_result"
    }
   ],
   "source": [
    "eine_liste_von_zahlen = [1, 2, 3]\n",
    "\n",
    "[zahl for zahl in eine_liste_von_zahlen]"
   ]
  },
  {
   "cell_type": "code",
   "execution_count": 2,
   "metadata": {},
   "outputs": [
    {
     "data": {
      "text/plain": [
       "[2, 4, 6]"
      ]
     },
     "execution_count": 2,
     "metadata": {},
     "output_type": "execute_result"
    }
   ],
   "source": [
    "[zahl * 2 for zahl in eine_liste_von_zahlen]"
   ]
  },
  {
   "cell_type": "code",
   "execution_count": 3,
   "metadata": {},
   "outputs": [
    {
     "data": {
      "text/plain": [
       "['B', 'e', 'i', 's', 'p', 'i', 'e', 'l', 'w', 'o', 'r', 't']"
      ]
     },
     "execution_count": 3,
     "metadata": {},
     "output_type": "execute_result"
    }
   ],
   "source": [
    "[x for x in \"Beispielwort\"]"
   ]
  },
  {
   "cell_type": "markdown",
   "metadata": {},
   "source": [
    "Sie sehen, dass Worte sich wie Listen verhalten!"
   ]
  },
  {
   "cell_type": "markdown",
   "metadata": {},
   "source": [
    "Obwohl sie ansonsten eigentlich fast alles kann: um die Anzahl der Elemente in einer Liste zu zählen, ist eine List Comprehension nicht die erste Wahl.\n",
    "\n"
   ]
  },
  {
   "cell_type": "code",
   "execution_count": 4,
   "metadata": {},
   "outputs": [],
   "source": [
    "ages = [24, 24, 25, 24, 23]"
   ]
  },
  {
   "cell_type": "markdown",
   "metadata": {},
   "source": [
    "\n",
    "Wie zählen wir diese Elemente?\n",
    "\n",
    "Wir können die List Comprehension 'aufrollen' in einen **`for`-Loop**:"
   ]
  },
  {
   "cell_type": "code",
   "execution_count": 5,
   "metadata": {},
   "outputs": [
    {
     "data": {
      "text/plain": [
       "5"
      ]
     },
     "execution_count": 5,
     "metadata": {},
     "output_type": "execute_result"
    }
   ],
   "source": [
    "length = 0\n",
    "\n",
    "for age in ages:\n",
    "    length = length + 1\n",
    "\n",
    "length"
   ]
  },
  {
   "cell_type": "markdown",
   "metadata": {},
   "source": [
    "Bei `for`-Loops ist die richtige Einrückung zu beachten. Für jede Iteration des Loops werden der Reihe nach alle Schritte ausgeführt, die auf dem gleichen Einrückungsniveau stehen.\n",
    "Erst nachdem all diese Schritte für jedes Element in der Liste (hier: 'ages'), über die der `for`-Loop *iteriert*, durchgeführt wurden, wird zum nächsten Schritt weiter gegangen.\n",
    "\n",
    "Traditionellerweise rücken wir um 4 Leerzeichen ein.\n",
    "Wenn unsere Einrückungen nicht stimmen, zeigt Python uns einen `Indentation Error`."
   ]
  },
  {
   "cell_type": "code",
   "execution_count": 6,
   "metadata": {},
   "outputs": [
    {
     "ename": "IndentationError",
     "evalue": "unindent does not match any outer indentation level (<ipython-input-6-a3bf5272fbb6>, line 5)",
     "output_type": "error",
     "traceback": [
      "\u001b[0;36m  File \u001b[0;32m\"<ipython-input-6-a3bf5272fbb6>\"\u001b[0;36m, line \u001b[0;32m5\u001b[0m\n\u001b[0;31m    print(length)\u001b[0m\n\u001b[0m                 ^\u001b[0m\n\u001b[0;31mIndentationError\u001b[0m\u001b[0;31m:\u001b[0m unindent does not match any outer indentation level\n"
     ]
    }
   ],
   "source": [
    "length = 0\n",
    "\n",
    "for age in ages:\n",
    "    length = length + 1\n",
    "   print(length)\n",
    "\n",
    "length"
   ]
  },
  {
   "cell_type": "markdown",
   "metadata": {},
   "source": [
    "Mit dem `for`-Loop können wir, wie auch mit der List Comprehension, ebenso über die Buchstaben eines Wortes loopen."
   ]
  },
  {
   "cell_type": "code",
   "execution_count": 7,
   "metadata": {},
   "outputs": [
    {
     "name": "stdout",
     "output_type": "stream",
     "text": [
      "B\n",
      "e\n",
      "i\n",
      "s\n",
      "p\n",
      "i\n",
      "e\n",
      "l\n",
      "w\n",
      "o\n",
      "r\n",
      "t\n"
     ]
    }
   ],
   "source": [
    "word = \"Beispielwort\"\n",
    "\n",
    "for letter in word:\n",
    "    print(letter)"
   ]
  },
  {
   "cell_type": "markdown",
   "metadata": {},
   "source": [
    "Vergleichen Sie, wie wir mithilfe eines `for`-Loops die Summe der Elemente einer Liste von Zahlen bilden können:"
   ]
  },
  {
   "cell_type": "code",
   "execution_count": 8,
   "metadata": {},
   "outputs": [
    {
     "data": {
      "text/plain": [
       "120"
      ]
     },
     "execution_count": 8,
     "metadata": {},
     "output_type": "execute_result"
    }
   ],
   "source": [
    "summe = 0\n",
    "\n",
    "for age in ages:\n",
    "    summe = summe + age\n",
    "\n",
    "summe"
   ]
  },
  {
   "cell_type": "markdown",
   "metadata": {},
   "source": [
    "Python stellt bereits fertige Funktionen für Länge und Summe bereit: `len` und `sum`.\n",
    "\n",
    "Der *Aufruf* ('call') einer Funktion erfolgt, indem wir ihren Namen schreiben, gefolgt von runden Klammern, in denen die *Argumente* stehen, auf die diese Funtkion angewandt wird."
   ]
  },
  {
   "cell_type": "code",
   "execution_count": 9,
   "metadata": {},
   "outputs": [
    {
     "data": {
      "text/plain": [
       "120"
      ]
     },
     "execution_count": 9,
     "metadata": {},
     "output_type": "execute_result"
    }
   ],
   "source": [
    "sum(ages)"
   ]
  },
  {
   "cell_type": "code",
   "execution_count": 10,
   "metadata": {},
   "outputs": [
    {
     "data": {
      "text/plain": [
       "5"
      ]
     },
     "execution_count": 10,
     "metadata": {},
     "output_type": "execute_result"
    }
   ],
   "source": [
    "len(ages)"
   ]
  },
  {
   "cell_type": "markdown",
   "metadata": {},
   "source": [
    "Die `print` - Funktion zeigt einfach ihr Argument am Bildschirm an:"
   ]
  },
  {
   "cell_type": "code",
   "execution_count": 11,
   "metadata": {},
   "outputs": [
    {
     "name": "stdout",
     "output_type": "stream",
     "text": [
      "age:  24\n",
      "age * 2:  48\n",
      "age:  24\n",
      "age * 2:  48\n",
      "age:  25\n",
      "age * 2:  50\n",
      "age:  24\n",
      "age * 2:  48\n",
      "age:  23\n",
      "age * 2:  46\n"
     ]
    }
   ],
   "source": [
    "for age in ages:\n",
    "    print(\"age: \", age)\n",
    "    print(\"age * 2: \", age * 2)"
   ]
  },
  {
   "cell_type": "markdown",
   "metadata": {},
   "source": [
    "Die expression innerhalb einer List Comprehension kann eine Funktion sein:"
   ]
  },
  {
   "cell_type": "code",
   "execution_count": 12,
   "metadata": {},
   "outputs": [
    {
     "name": "stdout",
     "output_type": "stream",
     "text": [
      "24\n",
      "24\n",
      "25\n",
      "24\n",
      "23\n"
     ]
    }
   ],
   "source": [
    "empty_list = [print(age) for age in ages]"
   ]
  },
  {
   "cell_type": "markdown",
   "metadata": {},
   "source": [
    "Oder komplexer:"
   ]
  },
  {
   "cell_type": "code",
   "execution_count": 13,
   "metadata": {},
   "outputs": [
    {
     "name": "stdout",
     "output_type": "stream",
     "text": [
      "49\n",
      "49\n",
      "51\n",
      "49\n",
      "47\n"
     ]
    }
   ],
   "source": [
    "empty_list = [print(1 + age * 2) for age in ages]"
   ]
  },
  {
   "cell_type": "markdown",
   "metadata": {},
   "source": [
    "Python kann natürlich noch mehr Mathe:"
   ]
  },
  {
   "cell_type": "code",
   "execution_count": 14,
   "metadata": {},
   "outputs": [
    {
     "name": "stdout",
     "output_type": "stream",
     "text": [
      "23\n"
     ]
    },
    {
     "data": {
      "text/plain": [
       "46"
      ]
     },
     "execution_count": 14,
     "metadata": {},
     "output_type": "execute_result"
    }
   ],
   "source": [
    "print(age)\n",
    "age * 2"
   ]
  },
  {
   "cell_type": "code",
   "execution_count": 15,
   "metadata": {},
   "outputs": [
    {
     "name": "stdout",
     "output_type": "stream",
     "text": [
      "23\n"
     ]
    },
    {
     "data": {
      "text/plain": [
       "529"
      ]
     },
     "execution_count": 15,
     "metadata": {},
     "output_type": "execute_result"
    }
   ],
   "source": [
    "print(age)\n",
    "age ** 2  # quadrat"
   ]
  },
  {
   "cell_type": "code",
   "execution_count": 16,
   "metadata": {},
   "outputs": [
    {
     "name": "stdout",
     "output_type": "stream",
     "text": [
      "23\n"
     ]
    },
    {
     "data": {
      "text/plain": [
       "11.5"
      ]
     },
     "execution_count": 16,
     "metadata": {},
     "output_type": "execute_result"
    }
   ],
   "source": [
    "print(age)\n",
    "age / 2"
   ]
  },
  {
   "cell_type": "markdown",
   "metadata": {},
   "source": [
    "In Python lassen sich schnell eigene Funktionen definieren. Zum Beispiel können wir die `len`- und `sum`-Funktionen einfach selbst nachrpogrammieren.\n",
    "\n",
    "Wir nehmen einfach den `For`-Loop von oben und verfrachten ihn in eine Funktion.\n",
    "\n",
    "Die Definition erfolgt über:\n",
    "- das Keyword `def`\n",
    "- den Namen der Funktion\n",
    "- Runde Klammern, in denen die Argumente der Funktion stehen\n",
    "- Doppelpunkt\n",
    "    - Eingerückt: die Schritte, die innerhalb der Funktion auf das Argument angewendet werden\n",
    "- (optional: ein `return` - Statement, dass die Funktion beendet und das, was auf das `return` folgt, ausgibt)\n",
    "- Ohne ein `return` werden die Variablen, die in der Funktion erstellt (oder überschrieben) werden, nicht für die Aussenwelt sichtbar!"
   ]
  },
  {
   "cell_type": "code",
   "execution_count": 17,
   "metadata": {},
   "outputs": [],
   "source": [
    "def my_length(x):  # x = Argument\n",
    "    \"\"\"Zähle die Elemente in einer Liste\"\"\"\n",
    "    länge = 0\n",
    "    for element in x:  # hier steht nun also, was wir mit dem Argument, dass wir in die Funktion \"hineinstecken\", machen\n",
    "        länge = länge + 1\n",
    "    return länge"
   ]
  },
  {
   "cell_type": "code",
   "execution_count": 18,
   "metadata": {},
   "outputs": [
    {
     "data": {
      "text/plain": [
       "5"
      ]
     },
     "execution_count": 18,
     "metadata": {},
     "output_type": "execute_result"
    }
   ],
   "source": [
    "my_length(ages)"
   ]
  },
  {
   "cell_type": "code",
   "execution_count": 19,
   "metadata": {},
   "outputs": [
    {
     "data": {
      "text/plain": [
       "5"
      ]
     },
     "execution_count": 19,
     "metadata": {},
     "output_type": "execute_result"
    }
   ],
   "source": [
    "len(ages)"
   ]
  },
  {
   "cell_type": "code",
   "execution_count": 20,
   "metadata": {},
   "outputs": [
    {
     "ename": "NameError",
     "evalue": "name 'länge' is not defined",
     "output_type": "error",
     "traceback": [
      "\u001b[0;31m---------------------------------------------------------------------------\u001b[0m",
      "\u001b[0;31mNameError\u001b[0m                                 Traceback (most recent call last)",
      "\u001b[0;32m<ipython-input-20-598bf058eb80>\u001b[0m in \u001b[0;36m<module>\u001b[0;34m()\u001b[0m\n\u001b[0;32m----> 1\u001b[0;31m \u001b[0mlänge\u001b[0m  \u001b[0;31m# nur innerhalb der Funktion definitert!\u001b[0m\u001b[0;34m\u001b[0m\u001b[0m\n\u001b[0m",
      "\u001b[0;31mNameError\u001b[0m: name 'länge' is not defined"
     ]
    }
   ],
   "source": [
    "länge  # nur innerhalb der Funktion definitert!"
   ]
  },
  {
   "cell_type": "code",
   "execution_count": 21,
   "metadata": {},
   "outputs": [
    {
     "data": {
      "text/plain": [
       "5"
      ]
     },
     "execution_count": 21,
     "metadata": {},
     "output_type": "execute_result"
    }
   ],
   "source": [
    "länge = my_length(ages)  # nun ist `length` definiert\n",
    "länge"
   ]
  },
  {
   "cell_type": "code",
   "execution_count": 22,
   "metadata": {},
   "outputs": [],
   "source": [
    "def my_sum(x):\n",
    "    \"\"\"Berechne die Summe der Elemente in einer Liste\"\"\"\n",
    "    summe = 0\n",
    "    for element in x:\n",
    "        summe = summe + element\n",
    "    return summe"
   ]
  },
  {
   "cell_type": "code",
   "execution_count": 23,
   "metadata": {},
   "outputs": [
    {
     "data": {
      "text/plain": [
       "120"
      ]
     },
     "execution_count": 23,
     "metadata": {},
     "output_type": "execute_result"
    }
   ],
   "source": [
    "my_sum(ages)"
   ]
  },
  {
   "cell_type": "code",
   "execution_count": 24,
   "metadata": {},
   "outputs": [
    {
     "data": {
      "text/plain": [
       "120"
      ]
     },
     "execution_count": 24,
     "metadata": {},
     "output_type": "execute_result"
    }
   ],
   "source": [
    "sum(ages)"
   ]
  },
  {
   "cell_type": "markdown",
   "metadata": {},
   "source": [
    "Python hat also `sum` und `len` von vorn herein mitgeliefert, aber kein kein `mean`!\n",
    "Es gibt ein `mean` zb. in *Numpy*, aber aus didaktischen gründen programmieren wir es selbst."
   ]
  },
  {
   "cell_type": "code",
   "execution_count": 25,
   "metadata": {},
   "outputs": [],
   "source": [
    "def my_mean(x):\n",
    "    summe = my_sum(x)      # wir verwenden die Funktionen für Summierung und Zählen,\n",
    "    length = my_length(x)  # die wir weiter oben definiert haben\n",
    "    mean = summe / length\n",
    "    return mean"
   ]
  },
  {
   "cell_type": "code",
   "execution_count": 26,
   "metadata": {},
   "outputs": [
    {
     "data": {
      "text/plain": [
       "24.0"
      ]
     },
     "execution_count": 26,
     "metadata": {},
     "output_type": "execute_result"
    }
   ],
   "source": [
    "my_mean(ages)"
   ]
  },
  {
   "cell_type": "code",
   "execution_count": 27,
   "metadata": {},
   "outputs": [
    {
     "data": {
      "text/plain": [
       "1.5"
      ]
     },
     "execution_count": 27,
     "metadata": {},
     "output_type": "execute_result"
    }
   ],
   "source": [
    "short_list = [1, 2]\n",
    "my_mean(short_list)"
   ]
  },
  {
   "cell_type": "markdown",
   "metadata": {},
   "source": [
    "Es geht aber auch kürzer!"
   ]
  },
  {
   "cell_type": "code",
   "execution_count": 28,
   "metadata": {},
   "outputs": [
    {
     "data": {
      "text/plain": [
       "1.5"
      ]
     },
     "execution_count": 28,
     "metadata": {},
     "output_type": "execute_result"
    }
   ],
   "source": [
    "def my_mean(x):\n",
    "    mean = my_sum(x) / my_length(x)\n",
    "    return mean\n",
    "\n",
    "my_mean(short_list)"
   ]
  },
  {
   "cell_type": "markdown",
   "metadata": {},
   "source": [
    "Und noch kürzer"
   ]
  },
  {
   "cell_type": "code",
   "execution_count": 29,
   "metadata": {},
   "outputs": [],
   "source": [
    "def my_mean(x):\n",
    "    return my_sum(x) / my_length(x)"
   ]
  },
  {
   "cell_type": "code",
   "execution_count": 30,
   "metadata": {},
   "outputs": [
    {
     "data": {
      "text/plain": [
       "1.5"
      ]
     },
     "execution_count": 30,
     "metadata": {},
     "output_type": "execute_result"
    }
   ],
   "source": [
    "my_mean(short_list)"
   ]
  },
  {
   "cell_type": "markdown",
   "metadata": {},
   "source": [
    "Wir können mit diesen Verfahren - inkl. der List Comprehension - schon recht komplexe Operationen berechnen, zb. die Standardabweichung ..."
   ]
  },
  {
   "cell_type": "code",
   "execution_count": 31,
   "metadata": {},
   "outputs": [
    {
     "data": {
      "text/plain": [
       "0.6324555320336759"
      ]
     },
     "execution_count": 31,
     "metadata": {},
     "output_type": "execute_result"
    }
   ],
   "source": [
    "def std(x):\n",
    "    mean_x = my_mean(x)  # berechne den Durschschnitt von `x`\n",
    "    deviances = [xx - mean_x for xx in x]  # erstelle eine Liste der Abweichungen vom Mittel von x für jedes Element\n",
    "    squared_deviances = [xx ** 2 for xx in deviances]  # Liste der Quadrate der Abweichungen\n",
    "    variance = my_mean(squared_deviances)\n",
    "    my_std = variance ** .5\n",
    "    return my_std\n",
    "\n",
    "std(ages)"
   ]
  },
  {
   "cell_type": "markdown",
   "metadata": {},
   "source": [
    "Oder kürzer:"
   ]
  },
  {
   "cell_type": "code",
   "execution_count": 32,
   "metadata": {},
   "outputs": [
    {
     "data": {
      "text/plain": [
       "0.6324555320336759"
      ]
     },
     "execution_count": 32,
     "metadata": {},
     "output_type": "execute_result"
    }
   ],
   "source": [
    "def std(x):\n",
    "    deviances = [(xx - my_mean(x)) ** 2 for xx in x]\n",
    "    variance = my_mean(deviances)\n",
    "    my_std = variance ** .5\n",
    "    return my_std\n",
    "\n",
    "std(ages)"
   ]
  },
  {
   "cell_type": "markdown",
   "metadata": {},
   "source": [
    "Und noch kürzer ..."
   ]
  },
  {
   "cell_type": "code",
   "execution_count": 33,
   "metadata": {},
   "outputs": [
    {
     "data": {
      "text/plain": [
       "0.6324555320336759"
      ]
     },
     "execution_count": 33,
     "metadata": {},
     "output_type": "execute_result"
    }
   ],
   "source": [
    "def std(x):\n",
    "    return my_mean([(xx - my_mean(x)) ** 2 for xx in x]) ** .5\n",
    "\n",
    "std(ages)"
   ]
  },
  {
   "cell_type": "markdown",
   "metadata": {},
   "source": [
    "# Hausaufgabe\n"
   ]
  },
  {
   "cell_type": "markdown",
   "metadata": {},
   "source": [
    "## 1.\n",
    "Benutzen Sie eine Python-Funktion, um die Länge des Wortes \"Python\" zu zählen.\n",
    "\n",
    "Denken Sie nicht zu lange nach: die Lösung ist sehr einfach!"
   ]
  },
  {
   "cell_type": "code",
   "execution_count": null,
   "metadata": {},
   "outputs": [],
   "source": [
    "wort = \"Python\"\n",
    "\n",
    "my_len( ..."
   ]
  },
  {
   "cell_type": "markdown",
   "metadata": {},
   "source": [
    "## 2.\n",
    "\n",
    "Schreiben Sie einen `for`-Loop, der der Reihe nach die *Länge* der Worte in der folgenden Liste - in Buchstaben - anzeigt. D.h., es sollen für jedes Wort die Buchstaben gezählt und angezeigt werden.\n",
    "\n",
    "Wenn Sie nicht weiter wissen, denken Sie noch einmal über Aufgabe 1 nach!"
   ]
  },
  {
   "cell_type": "code",
   "execution_count": null,
   "metadata": {},
   "outputs": [],
   "source": [
    "list_of_words = [\"Python\", \"C\", \"R\"]\n",
    "\n",
    "for word in list_of_words:\n",
    "    word_length = ...\n",
    "    print( ..."
   ]
  },
  {
   "cell_type": "markdown",
   "metadata": {},
   "source": [
    "D.h., das richtige Ergebniss wäre:"
   ]
  },
  {
   "cell_type": "code",
   "execution_count": null,
   "metadata": {},
   "outputs": [],
   "source": [
    "print(6)\n",
    "print(1)\n",
    "print(1)"
   ]
  },
  {
   "cell_type": "markdown",
   "metadata": {},
   "source": [
    "... aber natürlich dürfen Sie es sich nicht so einfach machen :)"
   ]
  },
  {
   "cell_type": "markdown",
   "metadata": {},
   "source": [
    "## 3.\n",
    "\n",
    "Programmieren Sie eine Funktion, die die Varianz einer Liste von Zahlen berechnet.\n",
    "\n",
    "Zur Erinnerung: die Varianz ist der Durschnitt der Quadrate der Abweichungen aller Werte vom Mittelwert.\n",
    "Also:\n",
    "- Für die Liste `x`...\n",
    "    - Berechne die Abweichungen `a` jedes Elements in `x` vom Durchschnitt von `x` (die Differenz zum Durchschnitt)\n",
    "    - Berechne für jede dieser Abweichungen `a` ihr Quadrat `q`\n",
    "    - Berechne den Durchschnitt aller Quadrate `q`\n",
    " \n",
    "Diese Aufgabe ist nicht einfach, **lässt sich aber sehr leicht lösen**: Orientieren Sie sich an der Funktion zur Standardabweichung!\n",
    "Sie müssen nur ein paar Zeichen verändern(/entfernen)."
   ]
  },
  {
   "cell_type": "code",
   "execution_count": null,
   "metadata": {},
   "outputs": [],
   "source": [
    "def my_var(x):\n",
    "    mean_x = ...\n",
    "    deviances = [... for element in x]\n",
    "    squared_deviances = ...\n",
    "    ...\n",
    "    return ...\n",
    "\n",
    "my_var(ages)"
   ]
  },
  {
   "cell_type": "code",
   "execution_count": null,
   "metadata": {},
   "outputs": [],
   "source": [
    "var(ages)  # richtige Lösung"
   ]
  },
  {
   "cell_type": "code",
   "execution_count": null,
   "metadata": {},
   "outputs": [],
   "source": []
  }
 ],
 "metadata": {
  "anaconda-cloud": {},
  "kernelspec": {
   "display_name": "Python [default]",
   "language": "python",
   "name": "python3"
  },
  "language_info": {
   "codemirror_mode": {
    "name": "ipython",
    "version": 3
   },
   "file_extension": ".py",
   "mimetype": "text/x-python",
   "name": "python",
   "nbconvert_exporter": "python",
   "pygments_lexer": "ipython3",
   "version": "3.6.5"
  }
 },
 "nbformat": 4,
 "nbformat_minor": 1
}
