{
 "cells": [
  {
   "attachments": {},
   "cell_type": "markdown",
   "metadata": {},
   "source": [
    "# What impact has OpenAlex had so far?\n",
    "\n",
    "## Citation analysis\n",
    "\n",
    "Let's start by looking at the paper that OpenAlex asks researchers to cite:\n",
    "\n",
    "> Priem, J., Piwowar, H., & Orr, R. (2022). OpenAlex: A fully-open index of scholarly works, authors, venues, institutions, and concepts. ArXiv. https://arxiv.org/abs/2205.01833"
   ]
  },
  {
   "cell_type": "code",
   "execution_count": 3,
   "metadata": {},
   "outputs": [],
   "source": [
    "import requests\n",
    "\n",
    "doi = '10.48550/arXiv.2205.01833'\n",
    "\n",
    "url = f'https://api.openalex.org/works?filter=doi:{doi}'\n",
    "r = requests.get(url)\n",
    "response_data = r.json()\n",
    "openalex_article = response_data['results'][0]"
   ]
  },
  {
   "cell_type": "code",
   "execution_count": 4,
   "metadata": {},
   "outputs": [
    {
     "name": "stdout",
     "output_type": "stream",
     "text": [
      "Within the OpenAlex data, the OpenAlex paper has 3 (incoming) citations.\n"
     ]
    }
   ],
   "source": [
    "print(f\"Within the OpenAlex data, the OpenAlex paper has {openalex_article['cited_by_count']} (incoming) citations.\")"
   ]
  },
  {
   "attachments": {},
   "cell_type": "markdown",
   "metadata": {},
   "source": [
    "The number of papers citing OpenAlex seems low. Let's try Semantic Scholar's data for the same article."
   ]
  },
  {
   "cell_type": "code",
   "execution_count": 8,
   "metadata": {},
   "outputs": [],
   "source": [
    "s2_api_endpoint = \"https://api.semanticscholar.org/graph/v1/paper\"\n",
    "fields = ['citationCount', 'citations.title', 'citations.year', 'citations.publicationDate', 'citations.citationCount', 'citations.externalIds']\n",
    "params = {\n",
    "    'fields': \",\".join(fields)\n",
    "}\n",
    "r = requests.get(f\"{s2_api_endpoint}/DOI:{doi}\", params=params)\n",
    "s2_article = r.json()"
   ]
  },
  {
   "cell_type": "code",
   "execution_count": 9,
   "metadata": {},
   "outputs": [
    {
     "data": {
      "text/plain": [
       "{'error': 'Paper with id DOI:10.48550/arXiv.2205.01833 not found'}"
      ]
     },
     "execution_count": 9,
     "metadata": {},
     "output_type": "execute_result"
    }
   ],
   "source": [
    "s2_article"
   ]
  },
  {
   "cell_type": "code",
   "execution_count": 12,
   "metadata": {},
   "outputs": [],
   "source": [
    "s2_api_endpoint = \"https://api.semanticscholar.org/graph/v1/paper\"\n",
    "fields = ['citationCount', 'citations.title', 'citations.year', 'citations.publicationDate', 'citations.citationCount', 'citations.externalIds']\n",
    "params = {\n",
    "    'fields': \",\".join(fields)\n",
    "}\n",
    "arxiv_id = '2205.01833'\n",
    "r = requests.get(f\"{s2_api_endpoint}/ARXIV:{arxiv_id}\", params=params)\n",
    "s2_article = r.json()"
   ]
  },
  {
   "cell_type": "code",
   "execution_count": 14,
   "metadata": {},
   "outputs": [
    {
     "name": "stdout",
     "output_type": "stream",
     "text": [
      "Within the Semantic Scholar data, the OpenAlex paper has 16 (incoming) citations.\n"
     ]
    }
   ],
   "source": [
    "print(f\"Within the Semantic Scholar data, the OpenAlex paper has {s2_article['citationCount']} (incoming) citations.\")"
   ]
  },
  {
   "cell_type": "code",
   "execution_count": 16,
   "metadata": {},
   "outputs": [],
   "source": [
    "citations_dois = [citing_article['externalIds'].get('DOI') for citing_article in s2_article['citations']]"
   ]
  },
  {
   "cell_type": "code",
   "execution_count": 17,
   "metadata": {},
   "outputs": [
    {
     "data": {
      "text/plain": [
       "['10.48550/arXiv.2302.02231',\n",
       " '10.48550/arXiv.2301.01502',\n",
       " '10.48550/arXiv.2210.14871',\n",
       " '10.1109/TVCG.2022.3209422',\n",
       " '10.1016/j.cosrev.2022.100531',\n",
       " '10.3389/frma.2022.1010504',\n",
       " '10.48550/arXiv.2211.04429',\n",
       " '10.48550/arXiv.2210.00356',\n",
       " '10.1108/jd-04-2022-0083',\n",
       " '10.48550/arXiv.2209.09246',\n",
       " '10.1007/978-3-031-16802-4_52',\n",
       " '10.48550/arXiv.2208.11065',\n",
       " '10.1007/s11192-022-04446-y',\n",
       " '10.5281/zenodo.6975102',\n",
       " '10.1162/qss_a_00222',\n",
       " '10.1162/qss_a_00200']"
      ]
     },
     "execution_count": 17,
     "metadata": {},
     "output_type": "execute_result"
    }
   ],
   "source": [
    "citations_dois"
   ]
  },
  {
   "cell_type": "code",
   "execution_count": 21,
   "metadata": {},
   "outputs": [],
   "source": [
    "url = f'https://api.openalex.org/works'\n",
    "citing_dois_str = \"|\".join(citations_dois)\n",
    "params = {\n",
    "    'filter': f\"doi:{citing_dois_str}\"\n",
    "}\n",
    "r = requests.get(url, params=params)\n",
    "response_data = r.json()"
   ]
  },
  {
   "cell_type": "code",
   "execution_count": 25,
   "metadata": {},
   "outputs": [
    {
     "name": "stdout",
     "output_type": "stream",
     "text": [
      "https://doi.org/10.1162/qss_a_00222 2022-11-07 0\n",
      "https://doi.org/10.1162/qss_a_00200 2021-09-01 20\n",
      "https://doi.org/10.5281/zenodo.6975102 2022-06-28 0\n",
      "https://doi.org/10.1007/s11192-022-04446-y 2022-07-15 19\n",
      "https://doi.org/10.48550/arxiv.2208.11065 2022-08-23 0\n",
      "https://doi.org/10.1007/978-3-031-16802-4_52 2022-01-01 5\n",
      "https://doi.org/10.48550/arxiv.2209.09246 2022-09-19 0\n",
      "https://doi.org/10.1109/tvcg.2022.3209422 2022-01-01 21\n",
      "https://doi.org/10.1108/jd-04-2022-0083 2022-09-21 27\n",
      "https://doi.org/10.48550/arxiv.2210.00356 2022-10-01 0\n",
      "https://doi.org/10.48550/arxiv.2210.14871 2022-10-26 0\n",
      "https://doi.org/10.48550/arxiv.2211.04429 2022-11-08 0\n",
      "https://doi.org/10.3389/frma.2022.1010504 2022-11-10 17\n",
      "https://doi.org/10.1016/j.cosrev.2022.100531 2023-02-01 155\n",
      "https://doi.org/10.48550/arxiv.2301.01502 2023-01-04 0\n",
      "https://doi.org/10.48550/arxiv.2302.02231 2023-02-04 0\n"
     ]
    }
   ],
   "source": [
    "for result in response_data['results']:\n",
    "    print(result['doi'], result['publication_date'], len(result['referenced_works']))"
   ]
  },
  {
   "cell_type": "code",
   "execution_count": null,
   "metadata": {},
   "outputs": [],
   "source": []
  },
  {
   "cell_type": "code",
   "execution_count": null,
   "metadata": {},
   "outputs": [],
   "source": []
  },
  {
   "cell_type": "code",
   "execution_count": 6,
   "metadata": {},
   "outputs": [
    {
     "ename": "MaxTriesExceededException",
     "evalue": "Cannot Fetch from Google Scholar.",
     "output_type": "error",
     "traceback": [
      "\u001b[0;31m---------------------------------------------------------------------------\u001b[0m",
      "\u001b[0;31mMaxTriesExceededException\u001b[0m                 Traceback (most recent call last)",
      "Cell \u001b[0;32mIn[6], line 10\u001b[0m\n\u001b[1;32m      7\u001b[0m scholarly\u001b[39m.\u001b[39muse_proxy(pg)\n\u001b[1;32m      9\u001b[0m \u001b[39m# Now search Google Scholar from behind a proxy\u001b[39;00m\n\u001b[0;32m---> 10\u001b[0m search_query \u001b[39m=\u001b[39m scholarly\u001b[39m.\u001b[39;49msearch_pubs(\u001b[39mf\u001b[39;49m\u001b[39m'\u001b[39;49m\u001b[39mdoi:\u001b[39;49m\u001b[39m{\u001b[39;49;00mdoi\u001b[39m}\u001b[39;49;00m\u001b[39m'\u001b[39;49m)\n\u001b[1;32m     11\u001b[0m article \u001b[39m=\u001b[39m \u001b[39mnext\u001b[39m(search_query)\n",
      "File \u001b[0;32m~/code/ourresearch/openalex-api-tutorials/venv/lib/python3.9/site-packages/scholarly/_scholarly.py:160\u001b[0m, in \u001b[0;36m_Scholarly.search_pubs\u001b[0;34m(self, query, patents, citations, year_low, year_high, sort_by, include_last_year, start_index)\u001b[0m\n\u001b[1;32m     97\u001b[0m \u001b[39m\u001b[39m\u001b[39m\"\"\"Searches by query and returns a generator of Publication objects\u001b[39;00m\n\u001b[1;32m     98\u001b[0m \n\u001b[1;32m     99\u001b[0m \u001b[39m:param query: terms to be searched\u001b[39;00m\n\u001b[0;32m   (...)\u001b[0m\n\u001b[1;32m    155\u001b[0m \n\u001b[1;32m    156\u001b[0m \u001b[39m\"\"\"\u001b[39;00m\n\u001b[1;32m    157\u001b[0m url \u001b[39m=\u001b[39m \u001b[39mself\u001b[39m\u001b[39m.\u001b[39m_construct_url(_PUBSEARCH\u001b[39m.\u001b[39mformat(requests\u001b[39m.\u001b[39mutils\u001b[39m.\u001b[39mquote(query)), patents\u001b[39m=\u001b[39mpatents,\n\u001b[1;32m    158\u001b[0m                           citations\u001b[39m=\u001b[39mcitations, year_low\u001b[39m=\u001b[39myear_low, year_high\u001b[39m=\u001b[39myear_high,\n\u001b[1;32m    159\u001b[0m                           sort_by\u001b[39m=\u001b[39msort_by, include_last_year\u001b[39m=\u001b[39minclude_last_year, start_index\u001b[39m=\u001b[39mstart_index)\n\u001b[0;32m--> 160\u001b[0m \u001b[39mreturn\u001b[39;00m \u001b[39mself\u001b[39;49m\u001b[39m.\u001b[39;49m__nav\u001b[39m.\u001b[39;49msearch_publications(url)\n",
      "File \u001b[0;32m~/code/ourresearch/openalex-api-tutorials/venv/lib/python3.9/site-packages/scholarly/_navigator.py:296\u001b[0m, in \u001b[0;36mNavigator.search_publications\u001b[0;34m(self, url)\u001b[0m\n\u001b[1;32m    288\u001b[0m \u001b[39mdef\u001b[39;00m \u001b[39msearch_publications\u001b[39m(\u001b[39mself\u001b[39m, url: \u001b[39mstr\u001b[39m) \u001b[39m-\u001b[39m\u001b[39m>\u001b[39m _SearchScholarIterator:\n\u001b[1;32m    289\u001b[0m \u001b[39m    \u001b[39m\u001b[39m\"\"\"Returns a Publication Generator given a url\u001b[39;00m\n\u001b[1;32m    290\u001b[0m \n\u001b[1;32m    291\u001b[0m \u001b[39m    :param url: the url where publications can be found.\u001b[39;00m\n\u001b[0;32m   (...)\u001b[0m\n\u001b[1;32m    294\u001b[0m \u001b[39m    :rtype: {_SearchScholarIterator}\u001b[39;00m\n\u001b[1;32m    295\u001b[0m \u001b[39m    \"\"\"\u001b[39;00m\n\u001b[0;32m--> 296\u001b[0m     \u001b[39mreturn\u001b[39;00m _SearchScholarIterator(\u001b[39mself\u001b[39;49m, url)\n",
      "File \u001b[0;32m~/code/ourresearch/openalex-api-tutorials/venv/lib/python3.9/site-packages/scholarly/publication_parser.py:53\u001b[0m, in \u001b[0;36m_SearchScholarIterator.__init__\u001b[0;34m(self, nav, url)\u001b[0m\n\u001b[1;32m     51\u001b[0m \u001b[39mself\u001b[39m\u001b[39m.\u001b[39m_pubtype \u001b[39m=\u001b[39m PublicationSource\u001b[39m.\u001b[39mPUBLICATION_SEARCH_SNIPPET \u001b[39mif\u001b[39;00m \u001b[39m\"\u001b[39m\u001b[39m/scholar?\u001b[39m\u001b[39m\"\u001b[39m \u001b[39min\u001b[39;00m url \u001b[39melse\u001b[39;00m PublicationSource\u001b[39m.\u001b[39mJOURNAL_CITATION_LIST\n\u001b[1;32m     52\u001b[0m \u001b[39mself\u001b[39m\u001b[39m.\u001b[39m_nav \u001b[39m=\u001b[39m nav\n\u001b[0;32m---> 53\u001b[0m \u001b[39mself\u001b[39;49m\u001b[39m.\u001b[39;49m_load_url(url)\n\u001b[1;32m     54\u001b[0m \u001b[39mself\u001b[39m\u001b[39m.\u001b[39mtotal_results \u001b[39m=\u001b[39m \u001b[39mself\u001b[39m\u001b[39m.\u001b[39m_get_total_results()\n\u001b[1;32m     55\u001b[0m \u001b[39mself\u001b[39m\u001b[39m.\u001b[39mpub_parser \u001b[39m=\u001b[39m PublicationParser(\u001b[39mself\u001b[39m\u001b[39m.\u001b[39m_nav)\n",
      "File \u001b[0;32m~/code/ourresearch/openalex-api-tutorials/venv/lib/python3.9/site-packages/scholarly/publication_parser.py:59\u001b[0m, in \u001b[0;36m_SearchScholarIterator._load_url\u001b[0;34m(self, url)\u001b[0m\n\u001b[1;32m     57\u001b[0m \u001b[39mdef\u001b[39;00m \u001b[39m_load_url\u001b[39m(\u001b[39mself\u001b[39m, url: \u001b[39mstr\u001b[39m):\n\u001b[1;32m     58\u001b[0m     \u001b[39m# this is temporary until setup json file\u001b[39;00m\n\u001b[0;32m---> 59\u001b[0m     \u001b[39mself\u001b[39m\u001b[39m.\u001b[39m_soup \u001b[39m=\u001b[39m \u001b[39mself\u001b[39;49m\u001b[39m.\u001b[39;49m_nav\u001b[39m.\u001b[39;49m_get_soup(url)\n\u001b[1;32m     60\u001b[0m     \u001b[39mself\u001b[39m\u001b[39m.\u001b[39m_pos \u001b[39m=\u001b[39m \u001b[39m0\u001b[39m\n\u001b[1;32m     61\u001b[0m     \u001b[39mself\u001b[39m\u001b[39m.\u001b[39m_rows \u001b[39m=\u001b[39m \u001b[39mself\u001b[39m\u001b[39m.\u001b[39m_soup\u001b[39m.\u001b[39mfind_all(\u001b[39m'\u001b[39m\u001b[39mdiv\u001b[39m\u001b[39m'\u001b[39m, class_\u001b[39m=\u001b[39m\u001b[39m'\u001b[39m\u001b[39mgs_r gs_or gs_scl\u001b[39m\u001b[39m'\u001b[39m) \u001b[39m+\u001b[39m \u001b[39mself\u001b[39m\u001b[39m.\u001b[39m_soup\u001b[39m.\u001b[39mfind_all(\u001b[39m'\u001b[39m\u001b[39mdiv\u001b[39m\u001b[39m'\u001b[39m, class_\u001b[39m=\u001b[39m\u001b[39m'\u001b[39m\u001b[39mgsc_mpat_ttl\u001b[39m\u001b[39m'\u001b[39m)\n",
      "File \u001b[0;32m~/code/ourresearch/openalex-api-tutorials/venv/lib/python3.9/site-packages/scholarly/_navigator.py:239\u001b[0m, in \u001b[0;36mNavigator._get_soup\u001b[0;34m(self, url)\u001b[0m\n\u001b[1;32m    237\u001b[0m \u001b[39mdef\u001b[39;00m \u001b[39m_get_soup\u001b[39m(\u001b[39mself\u001b[39m, url: \u001b[39mstr\u001b[39m) \u001b[39m-\u001b[39m\u001b[39m>\u001b[39m BeautifulSoup:\n\u001b[1;32m    238\u001b[0m \u001b[39m    \u001b[39m\u001b[39m\"\"\"Return the BeautifulSoup for a page on scholar.google.com\"\"\"\u001b[39;00m\n\u001b[0;32m--> 239\u001b[0m     html \u001b[39m=\u001b[39m \u001b[39mself\u001b[39;49m\u001b[39m.\u001b[39;49m_get_page(\u001b[39m'\u001b[39;49m\u001b[39mhttps://scholar.google.com\u001b[39;49m\u001b[39m{0}\u001b[39;49;00m\u001b[39m'\u001b[39;49m\u001b[39m.\u001b[39;49mformat(url))\n\u001b[1;32m    240\u001b[0m     html \u001b[39m=\u001b[39m html\u001b[39m.\u001b[39mreplace(\u001b[39mu\u001b[39m\u001b[39m'\u001b[39m\u001b[39m\\xa0\u001b[39;00m\u001b[39m'\u001b[39m, \u001b[39mu\u001b[39m\u001b[39m'\u001b[39m\u001b[39m \u001b[39m\u001b[39m'\u001b[39m)\n\u001b[1;32m    241\u001b[0m     res \u001b[39m=\u001b[39m BeautifulSoup(html, \u001b[39m'\u001b[39m\u001b[39mhtml.parser\u001b[39m\u001b[39m'\u001b[39m)\n",
      "File \u001b[0;32m~/code/ourresearch/openalex-api-tutorials/venv/lib/python3.9/site-packages/scholarly/_navigator.py:190\u001b[0m, in \u001b[0;36mNavigator._get_page\u001b[0;34m(self, pagerequest, premium)\u001b[0m\n\u001b[1;32m    188\u001b[0m     \u001b[39mreturn\u001b[39;00m \u001b[39mself\u001b[39m\u001b[39m.\u001b[39m_get_page(pagerequest, \u001b[39mTrue\u001b[39;00m)\n\u001b[1;32m    189\u001b[0m \u001b[39melse\u001b[39;00m:\n\u001b[0;32m--> 190\u001b[0m     \u001b[39mraise\u001b[39;00m MaxTriesExceededException(\u001b[39m\"\u001b[39m\u001b[39mCannot Fetch from Google Scholar.\u001b[39m\u001b[39m\"\u001b[39m)\n",
      "\u001b[0;31mMaxTriesExceededException\u001b[0m: Cannot Fetch from Google Scholar."
     ]
    }
   ],
   "source": [
    "from scholarly import scholarly, ProxyGenerator\n",
    "\n",
    "# Set up a ProxyGenerator object to use free proxies\n",
    "# This needs to be done only once per session\n",
    "pg = ProxyGenerator()\n",
    "pg.FreeProxies()\n",
    "scholarly.use_proxy(pg)\n",
    "\n",
    "# Now search Google Scholar from behind a proxy\n",
    "search_query = scholarly.search_pubs(f'doi:{doi}')\n",
    "article = next(search_query)"
   ]
  },
  {
   "cell_type": "code",
   "execution_count": null,
   "metadata": {},
   "outputs": [],
   "source": []
  },
  {
   "cell_type": "code",
   "execution_count": null,
   "metadata": {},
   "outputs": [],
   "source": []
  },
  {
   "cell_type": "code",
   "execution_count": 1,
   "metadata": {},
   "outputs": [
    {
     "name": "stdout",
     "output_type": "stream",
     "text": [
      "complete URL with filters:\n",
      "https://api.openalex.org/works?search=openalex\n"
     ]
    }
   ],
   "source": [
    "# specify endpoint\n",
    "endpoint = 'works'\n",
    "\n",
    "search_query = 'openalex'\n",
    "\n",
    "# put the URL together\n",
    "url = f'https://api.openalex.org/{endpoint}?search={search_query}'\n",
    "print(f'complete URL with filters:\\n{url}')"
   ]
  },
  {
   "cell_type": "code",
   "execution_count": 3,
   "metadata": {},
   "outputs": [],
   "source": [
    "openalex_arxiv_paper = 'W4229010617'\n",
    "openalex_arxiv_paper_2 = 'W4288680697'\n",
    "url = f'https://api.openalex.org/{endpoint}?filter=cites:{openalex_arxiv_paper}'\n",
    "result = requests.get(url).json()"
   ]
  },
  {
   "cell_type": "code",
   "execution_count": 5,
   "metadata": {},
   "outputs": [
    {
     "data": {
      "text/plain": [
       "{'count': 3, 'db_response_time_ms': 59, 'page': 1, 'per_page': 25}"
      ]
     },
     "execution_count": 5,
     "metadata": {},
     "output_type": "execute_result"
    }
   ],
   "source": [
    "result['meta']"
   ]
  },
  {
   "cell_type": "code",
   "execution_count": 9,
   "metadata": {},
   "outputs": [
    {
     "data": {
      "text/plain": [
       "dict_keys(['container_type', 'source', 'bib', 'filled', 'gsrank', 'pub_url', 'author_id', 'url_scholarbib', 'url_add_sclib', 'num_citations', 'citedby_url', 'url_related_articles', 'eprint_url'])"
      ]
     },
     "execution_count": 9,
     "metadata": {},
     "output_type": "execute_result"
    }
   ],
   "source": [
    "article.keys()"
   ]
  },
  {
   "cell_type": "code",
   "execution_count": 10,
   "metadata": {},
   "outputs": [
    {
     "data": {
      "text/plain": [
       "19"
      ]
     },
     "execution_count": 10,
     "metadata": {},
     "output_type": "execute_result"
    }
   ],
   "source": [
    "article['num_citations']"
   ]
  },
  {
   "cell_type": "code",
   "execution_count": null,
   "metadata": {},
   "outputs": [],
   "source": []
  }
 ],
 "metadata": {
  "kernelspec": {
   "display_name": "venv",
   "language": "python",
   "name": "python3"
  },
  "language_info": {
   "codemirror_mode": {
    "name": "ipython",
    "version": 3
   },
   "file_extension": ".py",
   "mimetype": "text/x-python",
   "name": "python",
   "nbconvert_exporter": "python",
   "pygments_lexer": "ipython3",
   "version": "3.9.12"
  },
  "orig_nbformat": 4,
  "vscode": {
   "interpreter": {
    "hash": "271691dbc4cdb85f541c883090ff5a004cbd8b9c207c2cfed84437fce4e65fdb"
   }
  }
 },
 "nbformat": 4,
 "nbformat_minor": 2
}
