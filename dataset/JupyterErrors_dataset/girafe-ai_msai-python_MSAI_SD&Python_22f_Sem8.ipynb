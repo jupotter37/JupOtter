{
  "nbformat": 4,
  "nbformat_minor": 0,
  "metadata": {
    "colab": {
      "provenance": []
    },
    "kernelspec": {
      "name": "python3",
      "display_name": "Python 3"
    },
    "language_info": {
      "name": "python"
    }
  },
  "cells": [
    {
      "cell_type": "markdown",
      "source": [
        "# Seminar 8. Generators, Iterators"
      ],
      "metadata": {
        "id": "8Leu3dPbv-bm"
      }
    },
    {
      "cell_type": "markdown",
      "source": [
        "Example from warm up test. Don't create collections in the function signature. They will be created once, with function. This can lead to undesirable behavior and leaks."
      ],
      "metadata": {
        "id": "buL5MFjWwbU0"
      }
    },
    {
      "cell_type": "code",
      "execution_count": null,
      "metadata": {
        "id": "kfrPnp6o0Apy"
      },
      "outputs": [],
      "source": [
        "from typing import Optional, List\n",
        "\n",
        "# wrong\n",
        "def foo(a=1, b=[], c='abc'):\n",
        "    a += 1\n",
        "    b.append(2)\n",
        "    c += 'd'\n",
        "\n",
        "\n",
        "# ok\n",
        "def foo(a=1, b=None, c='abc'):\n",
        "    a += 1\n",
        "    b = b or []\n",
        "    b.append(2)\n",
        "    c += 'd'\n",
        "\n",
        "\n",
        "# ok but with annotations\n",
        "def foo(a: int = 1, b: Optional[List] = None, c: str = 'abc'):\n",
        "    a += 1\n",
        "    b = b or []\n",
        "    b.append(2)\n",
        "    c += 'd'"
      ]
    },
    {
      "cell_type": "markdown",
      "source": [
        "Another example from warm up test. It shows that decorator with params is a feature, made with additional wrapper. It even can be applied twice."
      ],
      "metadata": {
        "id": "WR3UMTFcxJCL"
      }
    },
    {
      "cell_type": "code",
      "source": [
        "import functools\n",
        "\n",
        "def log_call(param1, param2):\n",
        "    def temp1(param3):\n",
        "        def temp2(func):\n",
        "            @functools.wraps(func)\n",
        "            def wrapper(*args, **kwargs):\n",
        "                print(f'{func.__name__} called with args={args}, kwargs={kwargs} and params {param1}, {param2} and {param3}')\n",
        "                result = func(*args, **kwargs)\n",
        "                print(f'{func.__name__} result={result}')\n",
        "                return result\n",
        "            return wrapper\n",
        "        return temp2\n",
        "    return temp1\n",
        "\n",
        "\n",
        "\"\"\"\n",
        "since Python 3.9 this syntax supported\n",
        "\n",
        "@log_call('param1', 'param2')('param3')\n",
        "def my_func():\n",
        "    print('abc')\n",
        "\"\"\"\n",
        "\n",
        "# before Python 3.9 additional expression needed\n",
        "temp_deco = log_call('param1', 'param2')\n",
        "@temp_deco('param3')\n",
        "def my_func():\n",
        "    print('abc')\n",
        "\n",
        "\n",
        "\"\"\"\n",
        "What will happend?\n",
        "\n",
        "# Step1 - temp1 with param1 and param2 in closure will be used\n",
        "@temp1('param3')\n",
        "def my_func():\n",
        "    print('abc')\n",
        "\n",
        "# Step2 - temp2 with param3 and temp1's scope in closure will be used\n",
        "@temp2\n",
        "def my_func():\n",
        "    print('abc')\n",
        "\n",
        "\n",
        "# Step3 - decoration will happen\n",
        "my_func = temp2(my_func)\n",
        "\n",
        "\n",
        "# Step4 - my_func replaced with wrapper. wrapper has all params in its closure.\n",
        "my_func = wrapper\n",
        "\"\"\"\n",
        "\n",
        "my_func()"
      ],
      "metadata": {
        "colab": {
          "base_uri": "https://localhost:8080/"
        },
        "id": "KdLQBt6t9_bB",
        "outputId": "bc182e31-7935-4879-f18b-262d1f5a2153"
      },
      "execution_count": null,
      "outputs": [
        {
          "output_type": "stream",
          "name": "stdout",
          "text": [
            "my_func called with args=(), kwargs={} and params param1, param2 and param3\n",
            "abc\n",
            "my_func result=None\n"
          ]
        }
      ]
    },
    {
      "cell_type": "markdown",
      "source": [
        "### Tricky unpacking example"
      ],
      "metadata": {
        "id": "8P3yEMwwzPDP"
      }
    },
    {
      "cell_type": "code",
      "source": [
        "for x, y in [(1, 2), (3, 4)]:\n",
        "    print(x, y)\n",
        "\n",
        "for name, (x, y) in {'a': (1, 2), 'b': (3, 4)}.items():\n",
        "    print(name, ':', x, y)"
      ],
      "metadata": {
        "colab": {
          "base_uri": "https://localhost:8080/"
        },
        "id": "jAQszSmeAveS",
        "outputId": "60149d0a-051b-49fd-f92d-d07cb7c0a857"
      },
      "execution_count": null,
      "outputs": [
        {
          "output_type": "stream",
          "name": "stdout",
          "text": [
            "1 2\n",
            "3 4\n",
            "a : 1 2\n",
            "b : 3 4\n"
          ]
        }
      ]
    },
    {
      "cell_type": "markdown",
      "source": [
        "## Iterable and iterators\n",
        "\n",
        "Glossary: https://docs.python.org/3/glossary.html#term-iterable"
      ],
      "metadata": {
        "id": "GJvBkV4Qzglr"
      }
    },
    {
      "cell_type": "code",
      "source": [
        "class MyRange:\n",
        "    \"\"\"\n",
        "    Analog for `range` with single param.\n",
        "\n",
        "    MyRange's instance is an iterator.\n",
        "    \"\"\"\n",
        "    def __init__(self, end):\n",
        "        self.current = 0\n",
        "        self.end = end\n",
        "\n",
        "    def __iter__(self):\n",
        "        return self\n",
        "\n",
        "    def __next__(self):\n",
        "        if self.current == self.end:\n",
        "            raise StopIteration\n",
        "        current = self.current\n",
        "        self.current += 1\n",
        "        return current\n",
        "\n",
        "\n",
        "r = MyRange(10)\n",
        "print(r)\n",
        "iterator = iter(r)\n",
        "print(iterator)\n",
        "step1 = next(iterator)\n",
        "print(step1)\n",
        "step2 = next(iterator)\n",
        "print(step2)\n",
        "# ...\n",
        "# step10 = next(iterator)\n",
        "# step11 = next(iterator)  # not allowed"
      ],
      "metadata": {
        "colab": {
          "base_uri": "https://localhost:8080/"
        },
        "id": "j92Mf61pBxMa",
        "outputId": "c025c1b9-fca3-4063-f203-b659e78f66c7"
      },
      "execution_count": null,
      "outputs": [
        {
          "output_type": "stream",
          "name": "stdout",
          "text": [
            "<__main__.MyRange object at 0x7f54a063f290>\n",
            "<__main__.MyRange object at 0x7f54a063f290>\n",
            "0\n",
            "1\n"
          ]
        }
      ]
    },
    {
      "cell_type": "markdown",
      "source": [
        "Standard Python construnctions support iterator protocol (`__iter__`, `__next__`, `StopIteration` exception)"
      ],
      "metadata": {
        "id": "qrNSsn-U0GPM"
      }
    },
    {
      "cell_type": "code",
      "source": [
        "for i in MyRange(10):\n",
        "    print(i)\n",
        "\n",
        "min(MyRange(10)), max(MyRange(10))"
      ],
      "metadata": {
        "colab": {
          "base_uri": "https://localhost:8080/"
        },
        "id": "bQo5ZxSgEIUb",
        "outputId": "87c1b6da-8aed-4beb-ab30-44ffec12887a"
      },
      "execution_count": null,
      "outputs": [
        {
          "output_type": "stream",
          "name": "stdout",
          "text": [
            "0\n",
            "1\n",
            "2\n",
            "3\n",
            "4\n",
            "5\n",
            "6\n",
            "7\n",
            "8\n",
            "9\n"
          ]
        },
        {
          "output_type": "execute_result",
          "data": {
            "text/plain": [
              "(0, 9)"
            ]
          },
          "metadata": {},
          "execution_count": 5
        }
      ]
    },
    {
      "cell_type": "markdown",
      "source": [
        "That's how `for` loop works for random iterable object"
      ],
      "metadata": {
        "id": "_9KPTMxF2oy9"
      }
    },
    {
      "cell_type": "code",
      "source": [
        "r = iter(range(10))\n",
        "while True:\n",
        "    try:\n",
        "        i = next(r)\n",
        "        print(i)\n",
        "    except StopIteration:\n",
        "        break"
      ],
      "metadata": {
        "colab": {
          "base_uri": "https://localhost:8080/"
        },
        "id": "KVUp1lpS2oHN",
        "outputId": "b8cd2e37-13e2-4da3-80cc-c149410ac7b0"
      },
      "execution_count": null,
      "outputs": [
        {
          "output_type": "stream",
          "name": "stdout",
          "text": [
            "0\n",
            "1\n",
            "2\n",
            "3\n",
            "4\n",
            "5\n",
            "6\n",
            "7\n",
            "8\n",
            "9\n"
          ]
        }
      ]
    },
    {
      "cell_type": "markdown",
      "source": [
        "`iter` returns `self` according to iterator protocol. so it won't create new iterator."
      ],
      "metadata": {
        "id": "QVSh-Vin0BR8"
      }
    },
    {
      "cell_type": "code",
      "source": [
        "mr_iterable = MyRange(10)\n",
        "mr1_iterator = iter(mr_iterable)\n",
        "print(next(mr1_iterator))\n",
        "print(next(mr1_iterator))\n",
        "mr2_iterator = iter(mr_iterable)\n",
        "print(next(mr2_iterator))\n",
        "print(next(mr2_iterator))"
      ],
      "metadata": {
        "colab": {
          "base_uri": "https://localhost:8080/"
        },
        "id": "IqFucBxkFfcd",
        "outputId": "2ed8c0f6-8c2b-4515-91b0-d6691c398b03"
      },
      "execution_count": null,
      "outputs": [
        {
          "output_type": "stream",
          "name": "stdout",
          "text": [
            "0\n",
            "1\n",
            "2\n",
            "3\n"
          ]
        }
      ]
    },
    {
      "cell_type": "markdown",
      "source": [
        "However, default `range`'s instance is an iterable. We can create new iterators from this iterable."
      ],
      "metadata": {
        "id": "BdaJIWWv0zQn"
      }
    },
    {
      "cell_type": "code",
      "source": [
        "r_iterable = range(10)\n",
        "r1_iterator = iter(r_iterable)\n",
        "print(next(r1_iterator))\n",
        "print(next(r1_iterator))\n",
        "r2_iterator = iter(r_iterable)\n",
        "print(next(r2_iterator))\n",
        "print(next(r2_iterator))"
      ],
      "metadata": {
        "colab": {
          "base_uri": "https://localhost:8080/"
        },
        "id": "X-yMwPBxFZeC",
        "outputId": "194594ce-f324-4a22-a92a-bd70159b83e8"
      },
      "execution_count": null,
      "outputs": [
        {
          "output_type": "stream",
          "name": "stdout",
          "text": [
            "0\n",
            "1\n",
            "0\n",
            "1\n"
          ]
        }
      ]
    },
    {
      "cell_type": "markdown",
      "source": [
        "But we can't create new iterators from iterators."
      ],
      "metadata": {
        "id": "4vSE8sv41F2M"
      }
    },
    {
      "cell_type": "code",
      "source": [
        "r_iterable = range(10)\n",
        "print(r_iterable, type(r_iterable))\n",
        "\n",
        "r1_iterator = iter(r_iterable)  # iterable's __iter__ creates new iterator\n",
        "print(r1_iterator, type(r1_iterator))\n",
        "print(next(r1_iterator))\n",
        "print(next(r1_iterator))\n",
        "\n",
        "r2_iterator = iter(r1_iterator)  # iterator's __iter__ returns self\n",
        "print(r2_iterator, type(r2_iterator))\n",
        "print(next(r2_iterator))\n",
        "print(next(r2_iterator))"
      ],
      "metadata": {
        "colab": {
          "base_uri": "https://localhost:8080/"
        },
        "id": "b40FTbeNE5hW",
        "outputId": "bacaaeb4-2b2f-4f10-cb1f-0d37b4b10261"
      },
      "execution_count": null,
      "outputs": [
        {
          "output_type": "stream",
          "name": "stdout",
          "text": [
            "range(0, 10) <class 'range'>\n",
            "<range_iterator object at 0x7f54a0639e40> <class 'range_iterator'>\n",
            "0\n",
            "1\n",
            "<range_iterator object at 0x7f54a0639e40> <class 'range_iterator'>\n",
            "2\n",
            "3\n"
          ]
        }
      ]
    },
    {
      "cell_type": "markdown",
      "source": [
        "Let's create MyRange as an iterable"
      ],
      "metadata": {
        "id": "CXSxgcaO1j_m"
      }
    },
    {
      "cell_type": "code",
      "source": [
        "class MyRangeIterator:\n",
        "    \"\"\"\n",
        "    MyRangeIterator's instance is an iterator.\n",
        "    \"\"\"\n",
        "    def __init__(self, end):\n",
        "        self.current = 0\n",
        "        self.end = end\n",
        "\n",
        "    def __iter__(self):\n",
        "        return self\n",
        "\n",
        "    def __next__(self):\n",
        "        if self.current == self.end:\n",
        "            raise StopIteration\n",
        "        current = self.current\n",
        "        self.current += 1\n",
        "        return current\n",
        "\n",
        "\n",
        "class MyRange:\n",
        "    \"\"\"\n",
        "    MyRange's instance is an iterable.\n",
        "    \"\"\"\n",
        "    def __init__(self, end):\n",
        "        self.end = end\n",
        "\n",
        "    def __iter__(self):\n",
        "        return MyRangeIterator(self.end)\n",
        "\n",
        "\n",
        "mr_iterable = MyRange(10)\n",
        "mr1_iterator = iter(mr_iterable)\n",
        "print(next(mr1_iterator))\n",
        "print(next(mr1_iterator))\n",
        "mr2_iterator = iter(mr_iterable)\n",
        "print(next(mr2_iterator))\n",
        "print(next(mr2_iterator))"
      ],
      "metadata": {
        "colab": {
          "base_uri": "https://localhost:8080/"
        },
        "id": "thgvzgaxF05d",
        "outputId": "50e9eac1-8bb4-4a98-f302-099a03a92ac5"
      },
      "execution_count": null,
      "outputs": [
        {
          "output_type": "stream",
          "name": "stdout",
          "text": [
            "0\n",
            "1\n",
            "0\n",
            "1\n"
          ]
        }
      ]
    },
    {
      "cell_type": "markdown",
      "source": [
        "## Generator\n",
        "\n",
        "Glossary: https://docs.python.org/3/glossary.html#index-19\n",
        "\n",
        "Generator is a way to create iterator (not iterable) using functions and `yield` statement."
      ],
      "metadata": {
        "id": "rvOHcrss3LrR"
      }
    },
    {
      "cell_type": "code",
      "source": [
        "def myrange(end):\n",
        "    current = 0\n",
        "    while current < end:\n",
        "        yield current\n",
        "        current += 1\n",
        "\n",
        "\n",
        "mr_iterable = myrange(10)  # returns self\n",
        "mr1_iterator = iter(mr_iterable)  # that won't create new iterator, mr_iterable is already iterator\n",
        "print(next(mr1_iterator))\n",
        "print(next(mr1_iterator))\n",
        "mr2_iterator = iter(mr_iterable)  # that won't create new iterator, mr_iterable is already iterator\n",
        "print(next(mr2_iterator))\n",
        "print(next(mr2_iterator))\n",
        "\n",
        "\n",
        "print('-' * 10)\n",
        "\n",
        "\n",
        "for i in myrange(10):  # iterator protocol works\n",
        "    print(i)\n",
        "\n",
        "\n",
        "print('-' * 10)\n",
        "\n",
        "\n",
        "mr = myrange(3)\n",
        "print(mr)\n",
        "print(next(mr))\n",
        "print(next(mr))\n",
        "print(next(mr))\n",
        "print(next(mr))  # StopIteration also raises when function finished"
      ],
      "metadata": {
        "colab": {
          "base_uri": "https://localhost:8080/",
          "height": 538
        },
        "id": "xRes8R0iJyxm",
        "outputId": "aa6b0769-26e7-4d34-cf8d-f07e0ca85d77"
      },
      "execution_count": null,
      "outputs": [
        {
          "output_type": "stream",
          "name": "stdout",
          "text": [
            "0\n",
            "1\n",
            "2\n",
            "3\n",
            "----------\n",
            "0\n",
            "1\n",
            "2\n",
            "3\n",
            "4\n",
            "5\n",
            "6\n",
            "7\n",
            "8\n",
            "9\n",
            "----------\n",
            "<generator object myrange at 0x7f54a063abd0>\n",
            "0\n",
            "1\n",
            "2\n"
          ]
        },
        {
          "output_type": "error",
          "ename": "StopIteration",
          "evalue": "ignored",
          "traceback": [
            "\u001b[0;31m---------------------------------------------------------------------------\u001b[0m",
            "\u001b[0;31mStopIteration\u001b[0m                             Traceback (most recent call last)",
            "\u001b[0;32m<ipython-input-11-1efc3d801e27>\u001b[0m in \u001b[0;36m<module>\u001b[0;34m\u001b[0m\n\u001b[1;32m     30\u001b[0m \u001b[0mprint\u001b[0m\u001b[0;34m(\u001b[0m\u001b[0mnext\u001b[0m\u001b[0;34m(\u001b[0m\u001b[0mmr\u001b[0m\u001b[0;34m)\u001b[0m\u001b[0;34m)\u001b[0m\u001b[0;34m\u001b[0m\u001b[0;34m\u001b[0m\u001b[0m\n\u001b[1;32m     31\u001b[0m \u001b[0mprint\u001b[0m\u001b[0;34m(\u001b[0m\u001b[0mnext\u001b[0m\u001b[0;34m(\u001b[0m\u001b[0mmr\u001b[0m\u001b[0;34m)\u001b[0m\u001b[0;34m)\u001b[0m\u001b[0;34m\u001b[0m\u001b[0;34m\u001b[0m\u001b[0m\n\u001b[0;32m---> 32\u001b[0;31m \u001b[0mprint\u001b[0m\u001b[0;34m(\u001b[0m\u001b[0mnext\u001b[0m\u001b[0;34m(\u001b[0m\u001b[0mmr\u001b[0m\u001b[0;34m)\u001b[0m\u001b[0;34m)\u001b[0m  \u001b[0;31m# StopIteration also raises when function finished\u001b[0m\u001b[0;34m\u001b[0m\u001b[0;34m\u001b[0m\u001b[0m\n\u001b[0m",
            "\u001b[0;31mStopIteration\u001b[0m: "
          ]
        }
      ]
    },
    {
      "cell_type": "markdown",
      "source": [
        "Regular functions don't support iterator protocol"
      ],
      "metadata": {
        "id": "v9LFtQe34LsK"
      }
    },
    {
      "cell_type": "code",
      "source": [
        "def myrange(end):\n",
        "    current = 0\n",
        "    while current < end:\n",
        "        return current\n",
        "        current += 1\n",
        "\n",
        "mr = myrange(5)\n",
        "print(next(mr))"
      ],
      "metadata": {
        "colab": {
          "base_uri": "https://localhost:8080/",
          "height": 198
        },
        "id": "tLn3TEBYLnZi",
        "outputId": "f26fe13e-b37c-4977-8de5-5a619fe7ce7b"
      },
      "execution_count": null,
      "outputs": [
        {
          "output_type": "error",
          "ename": "TypeError",
          "evalue": "ignored",
          "traceback": [
            "\u001b[0;31m---------------------------------------------------------------------------\u001b[0m",
            "\u001b[0;31mTypeError\u001b[0m                                 Traceback (most recent call last)",
            "\u001b[0;32m<ipython-input-12-7b69d9cfe1d7>\u001b[0m in \u001b[0;36m<module>\u001b[0;34m\u001b[0m\n\u001b[1;32m      6\u001b[0m \u001b[0;34m\u001b[0m\u001b[0m\n\u001b[1;32m      7\u001b[0m \u001b[0mmr\u001b[0m \u001b[0;34m=\u001b[0m \u001b[0mmyrange\u001b[0m\u001b[0;34m(\u001b[0m\u001b[0;36m5\u001b[0m\u001b[0;34m)\u001b[0m\u001b[0;34m\u001b[0m\u001b[0;34m\u001b[0m\u001b[0m\n\u001b[0;32m----> 8\u001b[0;31m \u001b[0mprint\u001b[0m\u001b[0;34m(\u001b[0m\u001b[0mnext\u001b[0m\u001b[0;34m(\u001b[0m\u001b[0mmr\u001b[0m\u001b[0;34m)\u001b[0m\u001b[0;34m)\u001b[0m\u001b[0;34m\u001b[0m\u001b[0;34m\u001b[0m\u001b[0m\n\u001b[0m",
            "\u001b[0;31mTypeError\u001b[0m: 'int' object is not an iterator"
          ]
        }
      ]
    },
    {
      "cell_type": "markdown",
      "source": [
        "Generator statement is also the way to create an iterator.\n",
        "\n",
        "It looks like list comprehension with parenthesis but Python doesn't create all objects in a memory, just like with generator."
      ],
      "metadata": {
        "id": "hAyUW4j64WBb"
      }
    },
    {
      "cell_type": "code",
      "source": [
        "generator_statement = (i**2 for i in range(1689147169487164897163248713264918320))\n",
        "print(generator_statement)\n",
        "print(next(generator_statement))\n",
        "print(next(generator_statement))\n",
        "print(next(generator_statement))"
      ],
      "metadata": {
        "colab": {
          "base_uri": "https://localhost:8080/"
        },
        "id": "Ozv4dWa-MdVF",
        "outputId": "f055c137-0181-4fe6-b72d-a555852c6f8e"
      },
      "execution_count": null,
      "outputs": [
        {
          "output_type": "stream",
          "name": "stdout",
          "text": [
            "<generator object <genexpr> at 0x7f54a063ab50>\n",
            "0\n",
            "1\n",
            "4\n"
          ]
        }
      ]
    }
  ]
}