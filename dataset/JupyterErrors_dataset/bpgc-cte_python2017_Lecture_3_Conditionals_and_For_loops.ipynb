{
 "cells": [
  {
   "cell_type": "markdown",
   "metadata": {},
   "source": [
    "# Introduction to Programming - Lecture 3\n",
    "\n",
    "### Material covered : \n",
    "\n",
    "    1. Conditional statement \"if\" and Logical Operators\n",
    "    2. For loops"
   ]
  },
  {
   "cell_type": "markdown",
   "metadata": {},
   "source": [
    "## If-else and Logical Operators\n",
    "\n",
    "    \"If\" is the simplest conditional statement. It simply checks if an evaluation condition is True and if it is then it executes a certain block of code. The checking is usually done by a logical operator such as --> more than( > ), less than( < ), equal to( == ), not equal to ( != or not), etc \n",
    "    \n",
    "     if <condition>:\n",
    "         execute statement(s)\n",
    "    \n",
    "### Binary Logical Operators :\n",
    "    1. Greater than ( > )\n",
    "    2. Less than ( < )\n",
    "    3. Equal to ( == )\n",
    "    \n",
    "### Unary Logical Operators :\n",
    "    1. ! or not\n",
    "    \n",
    "    Let us look at some examples : "
   ]
  },
  {
   "cell_type": "code",
   "execution_count": null,
   "metadata": {
    "collapsed": true
   },
   "outputs": [],
   "source": [
    "# Greater than ( > )\n",
    "if 1 > 0:\n",
    "    print(\"One is more than zero\")\n",
    "else:\n",
    "    print(\"BITS Pilani Goa Campus is better than IIT Kanpur\")\n",
    "    \n",
    "# Less than ( < )\n",
    "if 12 < 42:\n",
    "    print(\"Yes, 12 is less than 42\")\n",
    "else:\n",
    "    print(\"Everyone registered in CTE Python will pass with distinction (90%+ marks)\")\n",
    "    \n",
    "# Equal to ( == )\n",
    "if 2 + 2 == 4:\n",
    "    print(\"Two plus Two equals Four\")\n",
    "else:\n",
    "    print(\"Lite......\")\n",
    "    \n",
    "# Not equal to ( != )\n",
    "if 1 != 0:\n",
    "    print(\"Sachin\")\n",
    "else:\n",
    "    print(\"Kohli\")\n",
    "    \n",
    "# Inversion operator\n",
    "if not 2 + 2 == 4:\n",
    "    print(\"Lite....\")\n",
    "else:\n",
    "    print(\"CTE Python....\")\n",
    "    \n"
   ]
  },
  {
   "cell_type": "markdown",
   "metadata": {},
   "source": [
    "## Chained Conditional\n",
    "\n",
    "    if <condition 1> is True:\n",
    "        execute <statement(s) > 1\n",
    "    elif <condition 2> is True:\n",
    "        execute <statement(s) > 2\n",
    "    elif <condition 3> is True:\n",
    "        execute <statement(s) > 3\n",
    "    elif <condition 4> is True:\n",
    "        execute <statement(s) > 4\n",
    "    .\n",
    "    .\n",
    "    .\n",
    "    else:\n",
    "        execute <statement(s)> n\n",
    "        \n",
    "   #### Let us see an example : "
   ]
  },
  {
   "cell_type": "code",
   "execution_count": null,
   "metadata": {
    "collapsed": true
   },
   "outputs": [],
   "source": [
    "if 1 < 0:\n",
    "    print(1, end='')\n",
    "elif 2 == 3:\n",
    "    print(2, end='')\n",
    "elif not 3 == 4:\n",
    "    print(3, end='')\n",
    "print(\".....Lite\")\n"
   ]
  },
  {
   "cell_type": "markdown",
   "metadata": {},
   "source": [
    "#### The condition need not directly involve a logical operator. For example : "
   ]
  },
  {
   "cell_type": "code",
   "execution_count": null,
   "metadata": {
    "collapsed": true
   },
   "outputs": [],
   "source": [
    "a = [1, 2, 3]\n",
    "\n",
    "if isinstance(a, list):\n",
    "    print(a, \"is a list !\")\n",
    "    \n",
    "if 2 in a:\n",
    "    print(\"Yes, 2 is in \", a)\n",
    "    \n",
    "if 5 not in a:\n",
    "    print(\"No, 5 is not in \", a)"
   ]
  },
  {
   "cell_type": "markdown",
   "metadata": {},
   "source": [
    "## Iterations\n",
    "\n",
    "    Iterative constructs are a key feature of any well developed programming language.\n",
    "    Looping can be done over an iterable which can be a list, set, dictionary, etc.\n",
    "    Let us concern ourselves with lists for now.\n",
    "   "
   ]
  },
  {
   "cell_type": "markdown",
   "metadata": {},
   "source": [
    "## Common library functions to use in loops : \n",
    "### range\n",
    "     \n",
    "     Usage : range(start, stop, step)\n",
    "     \n",
    "     This library function returns a list which is an arithmetic progression. The default step value is 1.\n",
    "\n",
    "#### Examples\n",
    "     "
   ]
  },
  {
   "cell_type": "code",
   "execution_count": 3,
   "metadata": {},
   "outputs": [
    {
     "data": {
      "text/plain": [
       "[0, 1, 2, 3, 4, 5, 6, 7, 8, 9]"
      ]
     },
     "execution_count": 3,
     "metadata": {},
     "output_type": "execute_result"
    }
   ],
   "source": [
    "list(range(0, 10))"
   ]
  },
  {
   "cell_type": "code",
   "execution_count": 4,
   "metadata": {},
   "outputs": [
    {
     "data": {
      "text/plain": [
       "[-4, -3, -2, -1, 0, 1, 2, 3, 4, 5, 6, 7, 8, 9]"
      ]
     },
     "execution_count": 4,
     "metadata": {},
     "output_type": "execute_result"
    }
   ],
   "source": [
    "list(range(-4, 10))"
   ]
  },
  {
   "cell_type": "code",
   "execution_count": 5,
   "metadata": {},
   "outputs": [
    {
     "data": {
      "text/plain": [
       "[0, 3, 6, 9]"
      ]
     },
     "execution_count": 5,
     "metadata": {},
     "output_type": "execute_result"
    }
   ],
   "source": [
    "list(range(0, 10, 3))"
   ]
  },
  {
   "cell_type": "code",
   "execution_count": 7,
   "metadata": {},
   "outputs": [
    {
     "data": {
      "text/plain": [
       "[]"
      ]
     },
     "execution_count": 7,
     "metadata": {},
     "output_type": "execute_result"
    }
   ],
   "source": [
    "list(range(0, 5, -6))"
   ]
  },
  {
   "cell_type": "code",
   "execution_count": 8,
   "metadata": {},
   "outputs": [
    {
     "data": {
      "text/plain": [
       "[]"
      ]
     },
     "execution_count": 8,
     "metadata": {},
     "output_type": "execute_result"
    }
   ],
   "source": [
    "list(range(-10, 10, -5))"
   ]
  },
  {
   "cell_type": "code",
   "execution_count": 9,
   "metadata": {},
   "outputs": [
    {
     "data": {
      "text/plain": [
       "[]"
      ]
     },
     "execution_count": 9,
     "metadata": {},
     "output_type": "execute_result"
    }
   ],
   "source": [
    "list(range(10, 2, 3))"
   ]
  },
  {
   "cell_type": "code",
   "execution_count": 10,
   "metadata": {},
   "outputs": [
    {
     "data": {
      "text/plain": [
       "[10, 8, 6, 4, 2]"
      ]
     },
     "execution_count": 10,
     "metadata": {},
     "output_type": "execute_result"
    }
   ],
   "source": [
    "list(range(10, 1, -2))"
   ]
  },
  {
   "cell_type": "markdown",
   "metadata": {},
   "source": [
    "### enumerate\n",
    "     \n",
    "     Usage : enumerate(<list>, starting_index=1)\n",
    "     \n",
    "     This library function returns an iterable object contains tuples of structure (index, list value at index).\n",
    "     Extra optional argument provides a different starting index. Default starting index is 0.\n",
    "     In that case the tuples are of the structure (index, list value at <index - starting_index>)\n",
    "\n",
    "#### Examples"
   ]
  },
  {
   "cell_type": "code",
   "execution_count": 11,
   "metadata": {},
   "outputs": [
    {
     "data": {
      "text/plain": [
       "[(0, 0), (1, 1), (2, 2), (3, 3), (4, 4)]"
      ]
     },
     "execution_count": 11,
     "metadata": {},
     "output_type": "execute_result"
    }
   ],
   "source": [
    "list(enumerate(range(0,5)))"
   ]
  },
  {
   "cell_type": "code",
   "execution_count": 13,
   "metadata": {},
   "outputs": [
    {
     "data": {
      "text/plain": [
       "[(10, 0), (11, 1), (12, 2), (13, 3), (14, 4)]"
      ]
     },
     "execution_count": 13,
     "metadata": {},
     "output_type": "execute_result"
    }
   ],
   "source": [
    "list(enumerate(range(0,5), 10))"
   ]
  },
  {
   "cell_type": "markdown",
   "metadata": {},
   "source": [
    "## For Loop "
   ]
  },
  {
   "cell_type": "markdown",
   "metadata": {},
   "source": [
    "### Structure\n",
    "\n",
    "    for value in iterable:\n",
    "        execute statement(s)\n",
    "        \n",
    "    Only by looking at many examples will this become clear\n",
    "    "
   ]
  },
  {
   "cell_type": "code",
   "execution_count": 32,
   "metadata": {},
   "outputs": [
    {
     "name": "stdout",
     "output_type": "stream",
     "text": [
      "1 2 3 4 5 "
     ]
    }
   ],
   "source": [
    "a = [1, 2, 3, 4, 5]\n",
    "\n",
    "for value in a:\n",
    "    print(value, end=' ')"
   ]
  },
  {
   "cell_type": "code",
   "execution_count": 31,
   "metadata": {},
   "outputs": [
    {
     "name": "stdout",
     "output_type": "stream",
     "text": [
      "1 2 3 4 5 6 7 8 9 "
     ]
    }
   ],
   "source": [
    "b = [[1, 2, 3],\n",
    "     [4, 5, 6],\n",
    "     [7, 8, 9]]\n",
    "for sublist in b:\n",
    "    for value in sublist:\n",
    "        print(value, end=' ')"
   ]
  },
  {
   "cell_type": "markdown",
   "metadata": {},
   "source": [
    "## Tuples\n",
    "\n",
    "    Tuples are the immutable equivalent of lists.\n",
    "    \n",
    "    Declared by : (value_1, value_2, .....)"
   ]
  },
  {
   "cell_type": "code",
   "execution_count": 4,
   "metadata": {},
   "outputs": [
    {
     "name": "stdout",
     "output_type": "stream",
     "text": [
      "(2, 3, 4)\n"
     ]
    }
   ],
   "source": [
    "a = (2, 3, 4)\n",
    "print(a)"
   ]
  },
  {
   "cell_type": "markdown",
   "metadata": {},
   "source": [
    "#### You cannot change any element of a tuple to a new value since tuples are immutable types. For example : "
   ]
  },
  {
   "cell_type": "code",
   "execution_count": 5,
   "metadata": {},
   "outputs": [
    {
     "ename": "TypeError",
     "evalue": "'tuple' object does not support item assignment",
     "output_type": "error",
     "traceback": [
      "\u001b[0;31m---------------------------------------------------------------------------\u001b[0m",
      "\u001b[0;31mTypeError\u001b[0m                                 Traceback (most recent call last)",
      "\u001b[0;32m<ipython-input-5-efd97496539c>\u001b[0m in \u001b[0;36m<module>\u001b[0;34m()\u001b[0m\n\u001b[0;32m----> 1\u001b[0;31m \u001b[0ma\u001b[0m\u001b[0;34m[\u001b[0m\u001b[0;36m1\u001b[0m\u001b[0;34m]\u001b[0m \u001b[0;34m=\u001b[0m \u001b[0;36m10\u001b[0m\u001b[0;34m\u001b[0m\u001b[0m\n\u001b[0m\u001b[1;32m      2\u001b[0m \u001b[0mprint\u001b[0m\u001b[0;34m(\u001b[0m\u001b[0ma\u001b[0m\u001b[0;34m)\u001b[0m\u001b[0;34m\u001b[0m\u001b[0m\n",
      "\u001b[0;31mTypeError\u001b[0m: 'tuple' object does not support item assignment"
     ]
    }
   ],
   "source": [
    "a[1] = 10\n",
    "print(a)"
   ]
  },
  {
   "cell_type": "code",
   "execution_count": 38,
   "metadata": {},
   "outputs": [
    {
     "name": "stdout",
     "output_type": "stream",
     "text": [
      "Value at index < 0 > of list<a> is :  One\n",
      "Value at index < 1 > of list<a> is :  Two\n",
      "Value at index < 2 > of list<a> is :  Three\n"
     ]
    }
   ],
   "source": [
    "a = [\"One\", \"Two\", \"Three\"]\n",
    "for i, value in enumerate(a):\n",
    "    print(\"Value at index <\", i, \"> of list<a> is : \", value)\n",
    "    "
   ]
  },
  {
   "cell_type": "code",
   "execution_count": 43,
   "metadata": {},
   "outputs": [
    {
     "name": "stdout",
     "output_type": "stream",
     "text": [
      "\n",
      "*\n",
      "**\n",
      "***\n",
      "****\n",
      "*****\n",
      "******\n",
      "*******\n",
      "********\n",
      "*********\n"
     ]
    }
   ],
   "source": [
    "for i in range(0, 10):\n",
    "    for j in range(0, i):\n",
    "        print(\"*\", end='')\n",
    "    print(\"\")"
   ]
  },
  {
   "cell_type": "code",
   "execution_count": 42,
   "metadata": {},
   "outputs": [
    {
     "name": "stdout",
     "output_type": "stream",
     "text": [
      "          \n",
      "         *\n",
      "        **\n",
      "       ***\n",
      "      ****\n",
      "     *****\n",
      "    ******\n",
      "   *******\n",
      "  ********\n",
      " *********\n"
     ]
    }
   ],
   "source": [
    "for i in range(0, 10):\n",
    "    for j in range(10, i, -1):\n",
    "        print(\" \", end='')\n",
    "    for k in range(0, i):\n",
    "        print(\"*\", end='')\n",
    "    print(\"\")"
   ]
  },
  {
   "cell_type": "markdown",
   "metadata": {},
   "source": [
    "## Short in-class assignment\n",
    "\n",
    "    Write a program to print the following pattern.\n",
    "    \n",
    "    **********\n",
    "    ****--****\n",
    "    ***----***\n",
    "    **------**\n",
    "    *--------*\n",
    "    **------**\n",
    "    ***----***\n",
    "    ****--****\n",
    "    **********\n",
    "    \n",
    "    First line --> 10 stars\n",
    "    Second line --> 4 stars ,2 dashes, 4 stars\n",
    "    Third line --> 3 stars, 4 dashes, 3 stars\n",
    "    .\n",
    "    .\n",
    "    .\n",
    "    Eigth line --> 4 stars ,2 dashes, 4 stars\n",
    "    Ninth line --> 10 stars again."
   ]
  },
  {
   "cell_type": "code",
   "execution_count": 57,
   "metadata": {},
   "outputs": [
    {
     "name": "stdout",
     "output_type": "stream",
     "text": [
      "**********\n",
      "****--****\n",
      "***----***\n",
      "**------**\n",
      "*--------*\n",
      "**------**\n",
      "***----***\n",
      "****--****\n",
      "**********\n"
     ]
    }
   ],
   "source": [
    "for i in range(0, 5):\n",
    "    for j in range(0, 5 - i):\n",
    "        print(\"*\", end='')\n",
    "    for k in range(0, 2*i):\n",
    "        print(\"-\", end='')\n",
    "    for j in range(0, 5 - i):\n",
    "        print(\"*\", end='')\n",
    "    print(\"\")\n",
    "\n",
    "for i in range(3, -1, -1):\n",
    "    for j in range(0, 5 - i):\n",
    "        print(\"*\", end='')\n",
    "    for k in range(0, 2*i):\n",
    "        print(\"-\", end='')\n",
    "    for j in range(0, 5 - i):\n",
    "        print(\"*\", end='')        \n",
    "    print(\"\")"
   ]
  },
  {
   "cell_type": "code",
   "execution_count": null,
   "metadata": {
    "collapsed": true
   },
   "outputs": [],
   "source": []
  }
 ],
 "metadata": {
  "kernelspec": {
   "display_name": "Python 3",
   "language": "python",
   "name": "python3"
  },
  "language_info": {
   "codemirror_mode": {
    "name": "ipython",
    "version": 3
   },
   "file_extension": ".py",
   "mimetype": "text/x-python",
   "name": "python",
   "nbconvert_exporter": "python",
   "pygments_lexer": "ipython3",
   "version": "3.5.2"
  }
 },
 "nbformat": 4,
 "nbformat_minor": 2
}
