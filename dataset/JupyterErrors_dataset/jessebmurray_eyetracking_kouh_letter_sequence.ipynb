{
 "cells": [
  {
   "cell_type": "code",
   "execution_count": 21,
   "metadata": {},
   "outputs": [],
   "source": [
    "import numpy as np\n",
    "import matplotlib.pyplot as plt\n",
    "import pandas as pd"
   ]
  },
  {
   "cell_type": "code",
   "execution_count": null,
   "metadata": {},
   "outputs": [],
   "source": []
  },
  {
   "cell_type": "code",
   "execution_count": 32,
   "metadata": {},
   "outputs": [],
   "source": [
    "def get_unique_combo(string ,N):\n",
    "    # Find unique N-letter combo within a str.\n",
    "    # For example, if str = \"ABC\" and N = 2,\n",
    "    # unique_combo = {\"AB\", \"BC\"}\n",
    "    str_list = list(string)\n",
    "    unique_combo = list()\n",
    "    for i in range(len(str_list)-N+1):\n",
    "        this_combo = ''.join(str_list[i:i+N])\n",
    "        unique_combo.append(this_combo)\n",
    "    unique_combo = list(set(unique_combo))\n",
    "    return unique_combo\n",
    "\n",
    "def strfind(str1, str2):\n",
    "    # Find the location of the occurrences of str2 within str1.\n",
    "    # For example, if str1=\"ABCDEBC\" and str2=\"BC\",\n",
    "    # then output is [1,5].\n",
    "    index = list()\n",
    "    str1 = list(str1)\n",
    "    str2 = list(str2) \n",
    "    assert len(str1) >= len(str2)\n",
    "    N = len(str2)\n",
    "    for i in range(len(str1) - N + 1):\n",
    "        if str1[i:i + N] == str2:\n",
    "            index.append(i)\n",
    "    return index\n",
    "\n",
    "assert set((\"AB\",\"BC\")) == set(get_unique_combo(\"ABC\",2))\n",
    "assert strfind(\"ABCDEBC\",\"BC\")==list([1,5])\n"
   ]
  },
  {
   "cell_type": "code",
   "execution_count": 122,
   "metadata": {},
   "outputs": [],
   "source": [
    "def distinguish_sol_nosol(string, ans, N=2):\n",
    "    sol_nosol = np.zeros(len(string) - N + 1)\n",
    "    ans_combo = get_unique_combo(ans, N)\n",
    "    for i in range(len(string) - N + 1):\n",
    "        if string[i:i + N] in ans_combo:\n",
    "            sol_nosol[i] = 1\n",
    "    return sol_nosol"
   ]
  },
  {
   "cell_type": "code",
   "execution_count": 315,
   "metadata": {},
   "outputs": [],
   "source": [
    "def analyze_Ngram(string, ans=\"\", N=2, fig=True):\n",
    "    # Analyze Ngrams.\n",
    "    # Visualize the occurence of Ngrams within str with | symbols \n",
    "    # within a temporal series, str.\n",
    "    # If a reference str (ans) is given the Ngrams that occur\n",
    "    # within ans will be displayed with red |.\n",
    "    \n",
    "    unique_combo = get_unique_combo(string, N)\n",
    "    ans_combo = get_unique_combo(ans, N)\n",
    "    num = list()  # Number of Ngrams.\n",
    "    ind = list()  # location of Ngrams within the str.\n",
    "    for this_combo in unique_combo:\n",
    "        this_index = strfind(string, this_combo)\n",
    "        num.append(len(this_index))  # Record how many occurences.\n",
    "        ind.append(this_index)\n",
    "    \n",
    "    # Reorder lists based on number of occurences.\n",
    "    ordering = list(np.argsort(np.array(num)))  # very clever -jm\n",
    "    num = [num[i] for i in ordering]\n",
    "    ind = [ind[i] for i in ordering]\n",
    "    unique_combo = [unique_combo[i] for i in ordering]\n",
    "\n",
    "    # Make a plot.\n",
    "    if (fig):  # why parentheses? -jm\n",
    "        plt.figure(figsize=(4,np.round(0.2 * len(unique_combo))))\n",
    "        plt.subplot(1, 4, (1, 3))\n",
    "        \n",
    "        for i, this_combo in enumerate(unique_combo):\n",
    "            this_index = ind[i]\n",
    "            print(this_index)\n",
    "            if this_combo in ans_combo:\n",
    "                print(np.zeros(len(this_index)) + i,'r|')\n",
    "                plt.plot(this_index,np.zeros(len(this_index)) + i,'r|')\n",
    "            else:\n",
    "                plt.plot(this_index,np.zeros(len(this_index))+i,'k|')\n",
    "        plt.ylim((-0.5,len(unique_combo)-0.5))\n",
    "        plt.yticks(np.arange(len(unique_combo)),unique_combo)\n",
    "        plt.ylabel('Combo')\n",
    "        plt.xlabel('Order of Fixation')\n",
    "        plt.title(ans)\n",
    "\n",
    "        num = np.array(num)\n",
    "        num_axis = np.arange(len(num))\n",
    "        plt.subplot(1, 4, 4)\n",
    "        plt.barh(num_axis,num,1)\n",
    "        plt.ylim((-0.5,len(unique_combo)-0.5))\n",
    "        plt.yticks(np.arange(len(unique_combo)),'')\n",
    "        plt.xticks(np.arange(0,max(num)+2,5))\n",
    "        plt.xlabel('Count')         \n",
    "    "
   ]
  },
  {
   "cell_type": "code",
   "execution_count": 316,
   "metadata": {},
   "outputs": [
    {
     "name": "stdout",
     "output_type": "stream",
     "text": [
      "[0]\n",
      "[1]\n",
      "[3, 5]\n",
      "[2. 2.] r|\n",
      "[2, 4]\n"
     ]
    },
    {
     "data": {
      "image/png": "[encoded data removed]",
      "text/plain": [
       "<Figure size 288x72 with 2 Axes>"
      ]
     },
     "metadata": {
      "needs_background": "light"
     },
     "output_type": "display_data"
    }
   ],
   "source": [
    "analyze_Ngram('acbabab', 'abc')"
   ]
  },
  {
   "cell_type": "code",
   "execution_count": null,
   "metadata": {},
   "outputs": [],
   "source": []
  },
  {
   "cell_type": "code",
   "execution_count": null,
   "metadata": {},
   "outputs": [],
   "source": []
  },
  {
   "cell_type": "code",
   "execution_count": null,
   "metadata": {},
   "outputs": [],
   "source": []
  },
  {
   "cell_type": "code",
   "execution_count": 125,
   "metadata": {},
   "outputs": [
    {
     "data": {
      "image/png": "[encoded data removed]",
      "text/plain": [
       "<Figure size 288x432 with 2 Axes>"
      ]
     },
     "metadata": {
      "needs_background": "light"
     },
     "output_type": "display_data"
    },
    {
     "data": {
      "image/png": "[encoded data removed]",
      "text/plain": [
       "<Figure size 432x288 with 1 Axes>"
      ]
     },
     "metadata": {
      "needs_background": "light"
     },
     "output_type": "display_data"
    }
   ],
   "source": [
    "# Sample analysis for one stimulus.\n",
    "\n",
    "\n",
    "ans = 'FORBID'\n",
    "st = 'bofiobdriFobdboFifidbodrofirorDbfifiobiFdrbofIfobdodrOifbibobDroiodbrofoiobdrDbififoribdriridbofrdbRdrifif\\\n",
    "ifboibrbdrbrfifbdrbofRirbdi'\n",
    "st = st.upper()\n",
    "\n",
    "\n",
    "unique_combo, num, ind = analyze_Ngram(st, ans=ans)\n",
    "\n",
    "sol_nosol = distinguish_sol_nosol(st, ans)\n",
    "window_size = 5\n",
    "convfilter = np.ones(window_size) / window_size\n",
    "plt.plot(np.convolve(sol_nosol, convfilter, mode='valid'))  # extremely clever -jm\n",
    "plt.ylabel('Probability of Solution')\n",
    "plt.xlabel('Time (fixation)')\n",
    "plt.show()\n",
    "\n"
   ]
  },
  {
   "cell_type": "code",
   "execution_count": null,
   "metadata": {},
   "outputs": [],
   "source": []
  },
  {
   "cell_type": "code",
   "execution_count": null,
   "metadata": {},
   "outputs": [],
   "source": []
  },
  {
   "cell_type": "code",
   "execution_count": null,
   "metadata": {},
   "outputs": [],
   "source": []
  },
  {
   "cell_type": "code",
   "execution_count": null,
   "metadata": {},
   "outputs": [],
   "source": []
  },
  {
   "cell_type": "code",
   "execution_count": null,
   "metadata": {},
   "outputs": [],
   "source": []
  },
  {
   "cell_type": "code",
   "execution_count": null,
   "metadata": {},
   "outputs": [],
   "source": []
  },
  {
   "cell_type": "code",
   "execution_count": null,
   "metadata": {},
   "outputs": [],
   "source": []
  },
  {
   "cell_type": "code",
   "execution_count": null,
   "metadata": {},
   "outputs": [],
   "source": []
  },
  {
   "cell_type": "code",
   "execution_count": null,
   "metadata": {},
   "outputs": [],
   "source": []
  },
  {
   "cell_type": "code",
   "execution_count": null,
   "metadata": {},
   "outputs": [],
   "source": []
  },
  {
   "cell_type": "code",
   "execution_count": null,
   "metadata": {},
   "outputs": [],
   "source": []
  },
  {
   "cell_type": "code",
   "execution_count": null,
   "metadata": {},
   "outputs": [],
   "source": []
  },
  {
   "cell_type": "code",
   "execution_count": null,
   "metadata": {},
   "outputs": [],
   "source": []
  },
  {
   "cell_type": "code",
   "execution_count": null,
   "metadata": {},
   "outputs": [],
   "source": []
  },
  {
   "cell_type": "code",
   "execution_count": 24,
   "metadata": {},
   "outputs": [],
   "source": [
    "# Get data.\n",
    "ans = 'HOCKEY'\n",
    "str = 'KEHCOYOKEHEOKEHCHEKYKEKOEHYHCEOHEYECEHEOKEYEYOCHOHKEHEHOCEKEYHKY' \n",
    "\n",
    "ans = 'MOHAWK'\n",
    "str = 'OKOAHMWKWOAHMWMHAOKOKMKOKWHOAHMWKOKAHWKOKMHAHMHAMWKOAHMWMWKOHWHOWHOKMAKMKAHMKOHWKAHWHWMAHKOWAWAWAWAOHAOKMHAKMKOHAKWK'\n",
    "\n",
    "ans = 'WINDEX'\n",
    "str = 'DWENWXINDEXDWDNWDWINEDEXWXWDNEIWDWXENDWIWDNDEXWIXEDENDEX'\n",
    "\n",
    "ans = 'BUCKLE'\n",
    "str = 'CUKBEUCBCUKCLKELUCBCUCKELELCBUKCKEL'\n",
    "\n",
    "ans = 'JUMBLE'\n",
    "str = 'BLMJEUBLBMLJEMEBUJLMEJBJLUMELUJUMLBE'\n",
    "\n",
    "ans = 'JOURNAL'\n",
    "str = 'AROJLUNULAROJLJORANULNULJORNAOJORANULUNARORAORJLANARANUJRUOJORANLJLUNANUJONAUNAROAJLRANULNRONUNURUORJORLORAJORAUOROJAROJLUJLUNARNUJNAOROANOORANUANLJORLUNJNAUJLUJAJUNURA'\n",
    "\n",
    "ans = 'BOTHER'\n",
    "str = 'HEBTORHRBEHETOBEHRRBEHRBHRTREBHBRETBRHBROOTEHRTRBOHEBEHRORHEBOHRBEHBOHETORHOTHROHBROTBTORHTBEHEBHREBHRHEHREHBHBEHHBEBRHBRHORHBRHEOEHOBEHRTBEHOROTHTHBRHEBRHOBTOBEBRHOTEOHEOHERRHTBETOEHRHEORORHBOHEBEOETROEHBTRHEBTORHOERHROHRORHERHOTHEBEORERBRHHRTROTBEBHBTEOHEBERHRERORH'\n",
    "\n",
    "ans = 'CANDLE'\n",
    "str = 'DNCANDNCCADNDEANDECANADEANDAELNDACADALEDEDNDEDNDCALAEDLCDCADALDADEDENCALALEDENCNLNACEDEDADEAEDNDELAEDANALCAEDEANENEDDALCALALACNEELNAAELAEEADENEDENCDEDNDANEACENADDNDLELELACENLACALANDCDALACNDEANLACANELENALNELCDNACADEELDEEALEACDNCNCACNLEDNALACNDNCALCEADNALNCLNDEACDEADNELALACNDELNDEALADEACELADELENDADNLANCALCNDADALAEAENCADENLELNCLENADL'\n",
    "\n",
    "ans = 'CINEMA'\n",
    "str = 'NMANAICENMAINEENMEACNMNANMECMACEMNAIANACEMMNMCMNANMNEMAEMAENCEAICEMAINECEANMENAMMAEMNMEMNANMEMNANAMCNMANMNMEMNANMCIAINMNANMEMNEAEMNMNMNACIANMEMANMANAIEMECMNANMENAIEMEIANIANMIC'\n",
    "\n",
    "ans = 'JOURNAL'\n",
    "str = 'AROJLUNULAROJLJORANULNULJORNAOJLJRANULUNARORAOROJLANARANULJRNUAOJORANLJLUNANUJONAUNAROJRALJLORANULUNRONAUNURUORJORLORAJORANUOJROJAROJALUJLUNARANLJNAUOROANOLORANUAJNLJORLUNAJORANAUOLUJAJUNUORAUJ'\n",
    "\n",
    "ans = 'LAUNCH'\n",
    "str = 'huanhulcuhnlauHnlnuhcAuanluacachaulchnuaClcuhuanhuanlcuhnauluhncnhUalnauhucnluNhcauuhualcncuahlnachualuHncunuh'\n",
    "str = str.upper()\n",
    "\n",
    "#ans = 'JOURNAL'\n",
    "#str = 'ARANULJORARNUOJORAROJLJRARNNULUNARONUJOANANANAROJORALANORALRORANURAROLNARORANUJLNARNAUORORORARORANUJRAOJNLOROJLARANAUROANAROAROLNARUJRANUNARORAJUNARARLNROLJORANUNANUROJRLJORANULNROROAJORORAROANURANULROLOAROLARORANUROANROOANROARANULROAULJORAROANULJORARJORAROARNUOLJRARNONUORAULJLARORARORAROJLNARORANANUOJANULNAROUNAROJRNLARAOJLARORJLRARJOROROANORARNARAOJAORJLULJORALRANARANORNANAROARAJLOULARONOUJRORANUANULRORJLAJANANUJLNAULJNJORNANARARARNORJORARORNURAORNLORANLJRARNULURARARJORANAUARA'\n"
   ]
  },
  {
   "cell_type": "code",
   "execution_count": null,
   "metadata": {},
   "outputs": [],
   "source": []
  },
  {
   "cell_type": "code",
   "execution_count": null,
   "metadata": {},
   "outputs": [],
   "source": []
  },
  {
   "cell_type": "code",
   "execution_count": 26,
   "metadata": {},
   "outputs": [
    {
     "name": "stdout",
     "output_type": "stream",
     "text": [
      "Shape of bigram_table\n",
      "(26, 26)\n"
     ]
    },
    {
     "data": {
      "image/png": "[encoded data removed]",
      "text/plain": [
       "<Figure size 432x288 with 2 Axes>"
      ]
     },
     "metadata": {
      "needs_background": "light"
     },
     "output_type": "display_data"
    },
    {
     "name": "stdout",
     "output_type": "stream",
     "text": [
      "Very common bigram\n",
      "ER: 0.20438\n"
     ]
    }
   ],
   "source": [
    "# Copied and pasted from the csv file from Mathematica.\n",
    "bigram_table = np.array([\n",
    "[0.0006635700066357001, 0.008958195089581952, 0.02687458526874585, 0.0225613802256138, 0.0026542800265428003, 0.005972130059721301, 0.017916390179163903, 0.0046449900464499, 0.015262110152621102, 0.0006635700066357001, 0.005972130059721301, 0.0537491705374917, 0.02687458526874585, 0.0630391506303915, 0.0013271400132714001, 0.0185799601857996, 0.0006635700066357001, 0.06801592568015925, 0.029860650298606503, 0.04346383543463835, 0.010617120106171201, 0.012939615129396152, 0.0063039150630391505, 0.0043132050431320505, 0.013603185136031851, 0.003981420039814201]\n",
    ",[0.0245520902455209, 0.012607830126078301, 0.0006635700066357001, 0.00033178500331785003, 0.02090245520902455, 0.00033178500331785003, 0., 0., 0.014266755142667552, 0.00033178500331785003, 0., 0.017584605175846053, 0., 0., 0.021897810218978103, 0., 0., 0.013271400132714002, 0.0013271400132714001, 0.00033178500331785003, 0.017916390179163903, 0., 0.0006635700066357001, 0., 0.0026542800265428003, 0.]\n",
    ",[0.0371599203715992, 0., 0.0036496350364963502, 0., 0.027206370272063702, 0., 0., 0.036828135368281355, 0.010948905109489052, 0., 0.0205706702057067, 0.008958195089581952, 0., 0.00033178500331785003, 0.0364963503649635, 0., 0., 0.012939615129396152, 0.0016589250165892503, 0.010948905109489052, 0.01692103516921035, 0., 0., 0., 0.0046449900464499, 0.00033178500331785003]\n",
    ",[0.015925680159256803, 0.0006635700066357001, 0.0006635700066357001, 0.01028533510285335, 0.03948241539482415, 0.00033178500331785003, 0.0092899800928998, 0., 0.025879230258792303, 0., 0.00033178500331785003, 0.010948905109489052, 0.00033178500331785003, 0.00033178500331785003, 0.017584605175846053, 0.00033178500331785003, 0., 0.004976775049767751, 0.0019907100199071004, 0., 0.0053085600530856005, 0.0013271400132714001, 0.00033178500331785003, 0., 0.004976775049767751, 0.]\n",
    ",[0.03483742534837425, 0.0053085600530856005, 0.013603185136031851, 0.013934970139349702, 0.021234240212342402, 0.006635700066357001, 0.00829462508294625, 0.0013271400132714001, 0.0063039150630391505, 0.00033178500331785003, 0.0013271400132714001, 0.0325149303251493, 0.013603185136031851, 0.05308560053085601, 0.0029860650298606504, 0.0092899800928998, 0.0013271400132714001, 0.20437956204379562, 0.028201725282017254, 0.058394160583941604, 0.006635700066357001, 0.0053085600530856005, 0.006967485069674851, 0.0072992700729927005, 0.010617120106171201, 0.0019907100199071004]\n",
    ",[0.009621765096217651, 0., 0., 0., 0.015262110152621102, 0.013603185136031851, 0.00033178500331785003, 0., 0.015262110152621102, 0., 0., 0.010948905109489052, 0., 0., 0.00564034505640345, 0., 0., 0.00564034505640345, 0.0006635700066357001, 0.0026542800265428003, 0.007962840079628402, 0., 0., 0., 0., 0.]\n",
    ",[0.01891174518911745, 0.00033178500331785003, 0.00033178500331785003, 0., 0.039150630391506305, 0.0009953550099535502, 0.01028533510285335, 0.0072992700729927005, 0.011944260119442602, 0.00033178500331785003, 0., 0.012939615129396152, 0.0013271400132714001, 0.0036496350364963502, 0.01227604512276045, 0.0006635700066357001, 0., 0.0112806901128069, 0.0013271400132714001, 0.0006635700066357001, 0.011612475116124751, 0., 0.0006635700066357001, 0., 0.0019907100199071004, 0.00033178500331785003]\n",
    ",[0.021566025215660253, 0., 0.00033178500331785003, 0., 0.03417385534173855, 0., 0., 0., 0.01227604512276045, 0., 0., 0.0016589250165892503, 0.0006635700066357001, 0.0006635700066357001, 0.0225613802256138, 0., 0., 0.00829462508294625, 0., 0.004976775049767751, 0.0063039150630391505, 0., 0.0006635700066357001, 0., 0.0053085600530856005, 0.]\n",
    ",[0.0185799601857996, 0.006635700066357001, 0.029528865295288653, 0.015593895155938951, 0.0245520902455209, 0.0043132050431320505, 0.01625746516257465, 0., 0.00033178500331785003, 0.00033178500331785003, 0.0026542800265428003, 0.023556735235567353, 0.011944260119442602, 0.10583941605839416, 0.012607830126078301, 0.011612475116124751, 0.0009953550099535502, 0.0185799601857996, 0.03417385534173855, 0.0325149303251493, 0.005972130059721301, 0.008626410086264101, 0., 0.0033178500331785005, 0.00033178500331785003, 0.0026542800265428003]\n",
    ",[0.0043132050431320505, 0., 0., 0., 0.0026542800265428003, 0., 0., 0., 0.0019907100199071004, 0., 0., 0., 0., 0., 0.0029860650298606504, 0., 0., 0., 0., 0., 0.0036496350364963502, 0., 0., 0., 0., 0.]\n",
    ",[0.0036496350364963502, 0., 0., 0., 0.032846715328467155, 0., 0.00033178500331785003, 0.00033178500331785003, 0.012939615129396152, 0., 0.0006635700066357001, 0.0046449900464499, 0., 0.00033178500331785003, 0.0013271400132714001, 0., 0., 0., 0.0026542800265428003, 0., 0.0026542800265428003, 0.00033178500331785003, 0., 0., 0.0006635700066357001, 0.]\n",
    ",[0.0371599203715992, 0.0013271400132714001, 0.0013271400132714001, 0.003981420039814201, 0.1074983410749834, 0.0013271400132714001, 0.00033178500331785003, 0., 0.033510285335102856, 0., 0.0019907100199071004, 0.025547445255474453, 0.00232249502322495, 0.00033178500331785003, 0.029528865295288653, 0.0013271400132714001, 0., 0.00033178500331785003, 0.0029860650298606504, 0.006635700066357001, 0.013271400132714002, 0.0026542800265428003, 0., 0., 0.006635700066357001, 0.]\n",
    ",[0.041473125414731256, 0.011612475116124751, 0.00033178500331785003, 0.00033178500331785003, 0.028533510285335104, 0.0006635700066357001, 0., 0., 0.024220305242203054, 0.00033178500331785003, 0., 0.0013271400132714001, 0.006635700066357001, 0.0016589250165892503, 0.02090245520902455, 0.01227604512276045, 0., 0.00033178500331785003, 0.0013271400132714001, 0.0006635700066357001, 0.011612475116124751, 0., 0., 0., 0.0026542800265428003, 0.]\n",
    ",[0.017252820172528202, 0.00033178500331785003, 0.015593895155938951, 0.023556735235567353, 0.036828135368281355, 0.0016589250165892503, 0.05607166556071665, 0.00033178500331785003, 0.021897810218978103, 0.00033178500331785003, 0.00829462508294625, 0., 0.0013271400132714001, 0.012939615129396152, 0.013271400132714002, 0.00033178500331785003, 0., 0.0013271400132714001, 0.010617120106171201, 0.027206370272063702, 0.00829462508294625, 0.0009953550099535502, 0.00033178500331785003, 0.0009953550099535502, 0.00564034505640345, 0.0019907100199071004]\n",
    ",[0.005972130059721301, 0.008958195089581952, 0.013603185136031851, 0.014930325149303252, 0.0026542800265428003, 0.005972130059721301, 0.0092899800928998, 0.0009953550099535502, 0.009621765096217651, 0., 0.0046449900464499, 0.0205706702057067, 0.015925680159256803, 0.04844061048440611, 0.0205706702057067, 0.013271400132714002, 0., 0.05076310550763106, 0.013603185136031851, 0.023224950232249502, 0.021566025215660253, 0.004976775049767751, 0.02090245520902455, 0.0046449900464499, 0.004976775049767751, 0.0016589250165892503]\n",
    ",[0.025879230258792303, 0.00033178500331785003, 0., 0.0006635700066357001, 0.0378234903782349, 0.00033178500331785003, 0.00033178500331785003, 0.007962840079628402, 0.0225613802256138, 0., 0.0006635700066357001, 0.017916390179163903, 0., 0., 0.021234240212342402, 0.012607830126078301, 0., 0.01028533510285335, 0.004976775049767751, 0.0053085600530856005, 0.013603185136031851, 0., 0., 0., 0.0019907100199071004, 0.]\n",
    ",[0., 0., 0., 0., 0., 0., 0., 0., 0., 0., 0., 0., 0., 0., 0., 0., 0., 0., 0., 0., 0.013271400132714002, 0., 0., 0., 0., 0.]\n",
    ",[0.049435965494359656, 0.00564034505640345, 0.0053085600530856005, 0.011944260119442602, 0.06337093563370935, 0.0013271400132714001, 0.007631055076310551, 0.0013271400132714001, 0.0451227604512276, 0., 0.0043132050431320505, 0.0043132050431320505, 0.009621765096217651, 0.006967485069674851, 0.03881884538818845, 0.0036496350364963502, 0.0009953550099535502, 0.013271400132714002, 0.010948905109489052, 0.017584605175846053, 0.0185799601857996, 0.0029860650298606504, 0.0009953550099535502, 0., 0.017252820172528202, 0.00033178500331785003]\n",
    ",[0.021897810218978103, 0.0006635700066357001, 0.017584605175846053, 0.00033178500331785003, 0.0451227604512276, 0.00033178500331785003, 0., 0.023556735235567353, 0.023224950232249502, 0., 0.0053085600530856005, 0.00829462508294625, 0.009953550099535502, 0.00232249502322495, 0.013934970139349702, 0.013934970139349702, 0.0046449900464499, 0., 0.01625746516257465, 0.044790975447909755, 0.014598540145985401, 0., 0.0026542800265428003, 0., 0.004976775049767751, 0.]\n",
    ",[0.035832780358327807, 0.0009953550099535502, 0.006635700066357001, 0.00033178500331785003, 0.0630391506303915, 0.0006635700066357001, 0.0006635700066357001, 0.025215660252156602, 0.03085600530856005, 0., 0.00033178500331785003, 0.01227604512276045, 0.0016589250165892503, 0.0009953550099535502, 0.02687458526874585, 0.0013271400132714001, 0., 0.023556735235567353, 0.004976775049767751, 0.0205706702057067, 0.013603185136031851, 0., 0.00232249502322495, 0., 0.0165892501658925, 0.0019907100199071004]\n",
    ",[0.005972130059721301, 0.009621765096217651, 0.007631055076310551, 0.0072992700729927005, 0.0112806901128069, 0.0046449900464499, 0.008958195089581952, 0., 0.007631055076310551, 0.00033178500331785003, 0.0016589250165892503, 0.014598540145985401, 0.023556735235567353, 0.0225613802256138, 0.0013271400132714001, 0.014930325149303252, 0., 0.03185136031851361, 0.0325149303251493, 0.023556735235567353, 0.0006635700066357001, 0.0009953550099535502, 0., 0.0013271400132714001, 0.0006635700066357001, 0.0009953550099535502]\n",
    ",[0.006967485069674851, 0., 0., 0., 0.027206370272063702, 0., 0., 0., 0.01625746516257465, 0., 0., 0., 0., 0.00033178500331785003, 0.00564034505640345, 0., 0., 0.00033178500331785003, 0., 0., 0., 0.00033178500331785003, 0., 0., 0.0006635700066357001, 0.]\n",
    ",[0.015925680159256803, 0.0009953550099535502, 0., 0.0006635700066357001, 0.011944260119442602, 0.00033178500331785003, 0.00033178500331785003, 0.0029860650298606504, 0.010948905109489052, 0., 0.0006635700066357001, 0.0016589250165892503, 0.0009953550099535502, 0.0016589250165892503, 0.003981420039814201, 0.00033178500331785003, 0., 0.0026542800265428003, 0.0013271400132714001, 0.0013271400132714001, 0.00033178500331785003, 0., 0.00033178500331785003, 0., 0.0006635700066357001, 0.]\n",
    ",[0.00033178500331785003, 0., 0.0016589250165892503, 0., 0.0016589250165892503, 0.0006635700066357001, 0., 0., 0.0036496350364963502, 0., 0., 0., 0.00033178500331785003, 0., 0.0006635700066357001, 0.0013271400132714001, 0., 0., 0., 0.0013271400132714001, 0.0006635700066357001, 0., 0., 0., 0.0009953550099535502, 0.]\n",
    ",[0.0016589250165892503, 0.0013271400132714001, 0.0016589250165892503, 0.0013271400132714001, 0.0046449900464499, 0.00033178500331785003, 0.0013271400132714001, 0.00033178500331785003, 0.0033178500331785005, 0., 0., 0.0029860650298606504, 0.0033178500331785005, 0.0013271400132714001, 0.004976775049767751, 0.0033178500331785005, 0., 0.00232249502322495, 0.00232249502322495, 0.0009953550099535502, 0.0006635700066357001, 0., 0.0006635700066357001, 0.00033178500331785003, 0., 0.]\n",
    ",[0.0033178500331785005, 0., 0., 0., 0.0072992700729927005, 0., 0., 0., 0.0033178500331785005, 0., 0., 0.0019907100199071004, 0., 0., 0.00232249502322495, 0., 0., 0., 0., 0., 0.00033178500331785003, 0., 0., 0., 0.0013271400132714001, 0.0029860650298606504]\n",
    "])\n",
    "\n",
    "# bigram_stat is a 2D matrix of size 26x26.\n",
    "print(\"Shape of bigram_table\")\n",
    "print(bigram_table.shape)\n",
    "\n",
    "#bigram_table = np.random.randn(26,26)\n",
    "plt.imshow(bigram_table,interpolation=\"nearest\")\n",
    "plt.colorbar()\n",
    "plt.show()\n",
    "\n",
    "alphabets = \"ABCDEFGHIJKLMNOPQRSTUVWXYZ\"\n",
    "print(\"Very common bigram\")\n",
    "print(\"%s: %6.5f\"%(alphabets[4]+alphabets[17],bigram_table[4,17]))\n"
   ]
  },
  {
   "cell_type": "code",
   "execution_count": 27,
   "metadata": {},
   "outputs": [
    {
     "name": "stdout",
     "output_type": "stream",
     "text": [
      "DNCANDNCCADNDEANDECANADEANDAELNDACADALEDEDNDEDNDCALAEDLCDCADALDADEDENCALALEDENCNLNACEDEDADEAEDNDELAEDANALCAEDEANENEDDALCALALACNEELNAAELAEEADENEDENCDEDNDANEACENADDNDLELELACENLACALANDCDALACNDEANLACANELENALNELCDNACADEELDEEALEACDNCNCACNLEDNALACNDNCALCEADNALNCLNDEACDEADNELALACNDELNDEALADEACELADELENDADNLANCALCNDADALAEAENCADENLELNCLENADL\n"
     ]
    }
   ],
   "source": [
    "\n",
    "data1 = {'Name': \"Kayla\",\n",
    "    'Date': pd.Timestamp('20190619'), # Date of experiment\n",
    "    'Answer': 'CANDLE',\n",
    "    'Sequence': 'DNCANDNCCADNDEANDECANADEANDAELNDACADALEDEDNDEDNDCALAEDLCDCADALDADEDENCALALEDENCNLNACEDEDADEAEDNDELAEDANALCAEDEANENEDDALCALALACNEELNAAELAEEADENEDENCDEDNDANEACENADDNDLELELACENLACALANDCDALACNDEANLACANELENALNELCDNACADEELDEEALEACDNCNCACNLEDNALACNDNCALCEADNALNCLNDEACDEADNELALACNDELNDEALADEACELADELENDADNLANCALCNDADALAEAENCADENLELNCLENADL'\n",
    "}\n",
    "\n",
    "data2 = {'Name': \"Kevin\",\n",
    "    'Date': pd.Timestamp('20190619'), # Date of experiment\n",
    "    'Answer': 'BOTHER',\n",
    "    'Sequence': 'HEBTORHRBEHETOBEHRRBEHRBHRTREBHBRETBRHBROOTEHRTRBOHEBEHRORHEBOHRBEHBOHETORHOTHROHBROTBTORHTBEHEBHREBHRHEHREHBHBEHHBEBRHBRHORHBRHEOEHOBEHRTBEHOROTHTHBRHEBRHOBTOBEBRHOTEOHEOHERRHTBETOEHRHEORORHBOHEBEOETROEHBTRHEBTORHOERHROHRORHERHOTHEBEORERBRHHRTROTBEBHBTEOHEBERHRERORH'\n",
    "}\n",
    "\n",
    "df = pd.DataFrame.from_dict([data1])\n",
    "df = df.append([data2])\n",
    "#print(df.head())\n",
    "\n",
    "name = \"Kayla\"\n",
    "ans = \"CANDLE\"\n",
    "selected_df = df.loc[(df.Name==name) & (df.Answer==ans)]\n",
    "\n",
    "if len(selected_df)>0:\n",
    "    str = selected_df.Sequence.values[0]\n",
    "    print(str)\n",
    "else:\n",
    "    print(\"No record found for: %s, %s\"%(name, ans))\n"
   ]
  },
  {
   "cell_type": "code",
   "execution_count": 29,
   "metadata": {},
   "outputs": [
    {
     "ename": "NameError",
     "evalue": "name 'bigram_freq' is not defined",
     "output_type": "error",
     "traceback": [
      "\u001b[0;31m---------------------------------------------------------------------------\u001b[0m",
      "\u001b[0;31mNameError\u001b[0m                                 Traceback (most recent call last)",
      "\u001b[0;32m<ipython-input-29-d35947f3f8d7>\u001b[0m in \u001b[0;36m<module>\u001b[0;34m\u001b[0m\n\u001b[1;32m     22\u001b[0m \u001b[0;34m\u001b[0m\u001b[0m\n\u001b[1;32m     23\u001b[0m \u001b[0;34m\u001b[0m\u001b[0m\n\u001b[0;32m---> 24\u001b[0;31m \u001b[0mplt\u001b[0m\u001b[0;34m.\u001b[0m\u001b[0mplot\u001b[0m\u001b[0;34m(\u001b[0m\u001b[0mbigram_freq\u001b[0m\u001b[0;34m,\u001b[0m\u001b[0mnum\u001b[0m\u001b[0;34m/\u001b[0m\u001b[0mnp\u001b[0m\u001b[0;34m.\u001b[0m\u001b[0msum\u001b[0m\u001b[0;34m(\u001b[0m\u001b[0mnum\u001b[0m\u001b[0;34m)\u001b[0m\u001b[0;34m,\u001b[0m\u001b[0;34m'o'\u001b[0m\u001b[0;34m)\u001b[0m\u001b[0;34m\u001b[0m\u001b[0;34m\u001b[0m\u001b[0m\n\u001b[0m\u001b[1;32m     25\u001b[0m \u001b[0mplt\u001b[0m\u001b[0;34m.\u001b[0m\u001b[0mxlabel\u001b[0m\u001b[0;34m(\u001b[0m\u001b[0;34m\"Frequency\"\u001b[0m\u001b[0;34m)\u001b[0m\u001b[0;34m\u001b[0m\u001b[0;34m\u001b[0m\u001b[0m\n\u001b[1;32m     26\u001b[0m \u001b[0mplt\u001b[0m\u001b[0;34m.\u001b[0m\u001b[0mylabel\u001b[0m\u001b[0;34m(\u001b[0m\u001b[0;34m\"Fraction of Fixations\"\u001b[0m\u001b[0;34m)\u001b[0m\u001b[0;34m\u001b[0m\u001b[0;34m\u001b[0m\u001b[0m\n",
      "\u001b[0;31mNameError\u001b[0m: name 'bigram_freq' is not defined"
     ]
    }
   ],
   "source": [
    "# Plot Ngram statistics versus fixation results.\n",
    "\n",
    "\n",
    "alphabets = \"ABCDEFGHIJKLMNOPQRSTUVWXYZ\"\n",
    "assert len(alphabets)==26\n",
    "\n",
    "def lookup_bigram_stat(bigram_table,bigram):\n",
    "    alphabets = \"ABCDEFGHIJKLMNOPQRSTUVWXYZ\"\n",
    "    i0 = strfind(alphabets,bigram[0])[0]\n",
    "    i1 = strfind(alphabets,bigram[1])[0]\n",
    "    return bigram_table[i0,i1]\n",
    "\n",
    "def analyze_bigram_multi_subjs (str,ans):\n",
    "    unique_combo, num, ind = analyze_Ngram(str,ans=ans,N=2,fig=False)\n",
    "\n",
    "    # Get coordinates for all unique_combo.\n",
    "    bigram_freq = list()\n",
    "    for this_combo in unique_combo:\n",
    "        bigram_freq.append(lookup_bigram_stat(bigram_table,this_combo))\n",
    "    return bigram_freq, num    \n",
    "\n",
    "\n",
    "\n",
    "plt.plot(bigram_freq,num/np.sum(num),'o')\n",
    "plt.xlabel(\"Frequency\")\n",
    "plt.ylabel(\"Fraction of Fixations\")\n",
    "plt.show()\n"
   ]
  },
  {
   "cell_type": "code",
   "execution_count": 30,
   "metadata": {},
   "outputs": [
    {
     "data": {
      "image/png": "[encoded data removed]",
      "text/plain": [
       "<Figure size 432x288 with 1 Axes>"
      ]
     },
     "metadata": {
      "needs_background": "light"
     },
     "output_type": "display_data"
    },
    {
     "data": {
      "image/png": "[encoded data removed]",
      "text/plain": [
       "<Figure size 432x288 with 1 Axes>"
      ]
     },
     "metadata": {
      "needs_background": "light"
     },
     "output_type": "display_data"
    }
   ],
   "source": [
    "alphabets = \"ABCDEFGHIJKLMNOPQRSTUVWXYZ\"\n",
    "letters = [i for i in alphabets]\n",
    "\n",
    "lett_freq = np.array([\n",
    "    8.167, 1.492, 2.782, 4.253, 12.702, 2.228, 2.015, 6.094,\n",
    "    6.966, 0.153, 0.772, 4.025, 2.406, 6.749, 7.507, 1.929,\n",
    "    0.095, 5.987, 6.327, 9.056, 2.758, 0.978, 2.360, 0.150, 1.974, 0.074\n",
    "])\n",
    "\n",
    "first_lett_freq = np.array([\n",
    "    11.682, 4.434,5.238, 3.174, 2.799, 4.027,1.642, 4.200,7.294, 0.511,\n",
    "    0.456, 2.415, 3.826, 2.284, 7.631, 4.319, 0.222, 2.826, 6.686, 15.978,\n",
    "    1.183, 0.824, 5.497, 0.045, 0.763, 0.045\n",
    "])\n",
    "\n",
    "plt.bar(np.arange(len(lett_freq))-0.25,lett_freq,0.3)\n",
    "plt.bar(np.arange(len(lett_freq))+0.25,first_lett_freq,0.3)\n",
    "plt.xticks(range(len(lett_freq)),labels=letters)\n",
    "plt.ylabel(\"Relative Frequency (%)\")\n",
    "plt.tight_layout()\n",
    "plt.show()\n",
    "\n",
    "fig, ax = plt.subplots()\n",
    "plt.plot(lett_freq, first_lett_freq,'ro')\n",
    "for i in range(len(lett_freq)):\n",
    "    plt.text(lett_freq[i]+0.5, first_lett_freq[i], letters[i])\n",
    "plt.xlim((0,20))\n",
    "plt.ylim((0,20))\n",
    "plt.xticks(range(0,20,5))\n",
    "plt.yticks(range(0,20,5))\n",
    "plt.xlabel('Letter Frequency (%)')\n",
    "plt.ylabel('First Letter Frequency (%)')\n",
    "ax.set_aspect(1.0)\n",
    "plt.show()"
   ]
  },
  {
   "cell_type": "code",
   "execution_count": 31,
   "metadata": {
    "scrolled": false
   },
   "outputs": [
    {
     "data": {
      "image/png": "[encoded data removed]",
      "text/plain": [
       "<Figure size 432x288 with 1 Axes>"
      ]
     },
     "metadata": {
      "needs_background": "light"
     },
     "output_type": "display_data"
    },
    {
     "data": {
      "image/png": "[encoded data removed]",
      "text/plain": [
       "<Figure size 432x288 with 1 Axes>"
      ]
     },
     "metadata": {
      "needs_background": "light"
     },
     "output_type": "display_data"
    }
   ],
   "source": [
    "ans = 'JOURNAL'\n",
    "str = 'AROJLUNULAROJLJORANULNULJORNAOJLJRANULUNARORAOROJLANARANULJRNUAOJORANLJLUNANUJONAUNAROJRALJLORANULUNRONAUNURUORJORLORAJORANUOJROJAROJALUJLUNARANLJNAUOROANOLORANUAJNLJORLUNAJORANAUOLUJAJUNUORAUJ'\n",
    "\n",
    "numFix = np.zeros(len(letters))\n",
    "for i,lett in enumerate(letters): \n",
    "    numFix[i] = len(strfind(str,lett))\n",
    "    \n",
    "plt.bar(np.arange(len(lett_freq)),numFix/np.sum(numFix))\n",
    "plt.xticks(range(len(lett_freq)),labels=letters)\n",
    "plt.ylabel(\"Fraction of Fixations\")\n",
    "plt.tight_layout()\n",
    "plt.show()\n",
    "\n",
    "plt.scatter(numFix[np.where(numFix>0)],lett_freq[np.where(numFix>0)])\n",
    "plt.scatter(numFix[np.where(numFix>0)],first_lett_freq[np.where(numFix>0)])\n",
    "plt.xlabel('Number of Fixations')\n",
    "plt.ylabel('Letter Frequency')\n",
    "plt.title(ans)\n",
    "plt.show()\n"
   ]
  },
  {
   "cell_type": "code",
   "execution_count": null,
   "metadata": {},
   "outputs": [],
   "source": []
  }
 ],
 "metadata": {
  "kernelspec": {
   "display_name": "Python 3",
   "language": "python",
   "name": "python3"
  },
  "language_info": {
   "codemirror_mode": {
    "name": "ipython",
    "version": 3
   },
   "file_extension": ".py",
   "mimetype": "text/x-python",
   "name": "python",
   "nbconvert_exporter": "python",
   "pygments_lexer": "ipython3",
   "version": "3.7.4"
  }
 },
 "nbformat": 4,
 "nbformat_minor": 2
}
