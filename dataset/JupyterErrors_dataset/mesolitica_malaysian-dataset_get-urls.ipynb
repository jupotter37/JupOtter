{
 "cells": [
  {
   "cell_type": "code",
   "execution_count": 1,
   "metadata": {},
   "outputs": [],
   "source": [
    "import requests\n",
    "from bs4 import BeautifulSoup\n",
    "from tqdm import tqdm\n",
    "import os\n",
    "import json\n",
    "import numpy as np\n",
    "import time\n",
    "import random\n",
    "import json"
   ]
  },
  {
   "cell_type": "code",
   "execution_count": 2,
   "metadata": {},
   "outputs": [],
   "source": [
    "r = requests.get('http://bullishbursa.blogspot.com/',\n",
    "                verify = False)\n",
    "soup = BeautifulSoup(r.content, \"lxml\")"
   ]
  },
  {
   "cell_type": "code",
   "execution_count": 3,
   "metadata": {},
   "outputs": [],
   "source": [
    "!mkdir url"
   ]
  },
  {
   "cell_type": "code",
   "execution_count": 4,
   "metadata": {},
   "outputs": [
    {
     "data": {
      "text/plain": [
       "['http://bullishbursa.blogspot.com/2023/07/lyndung-referral-code.html',\n",
       " 'http://bullishbursa.blogspot.com/2023/04/medical-card-murah-bawah-rm100-dengan.html',\n",
       " 'http://bullishbursa.blogspot.com/2020/08/cara-menggunakan-btst-screener-isaham.html',\n",
       " 'http://bullishbursa.blogspot.com/2020/08/bagaimana-nak-scan-kaunter-saham.html',\n",
       " 'http://bullishbursa.blogspot.com/2020/07/apa-nak-buat-kalau-saham-yang-pernah.html',\n",
       " 'http://bullishbursa.blogspot.com/2020/07/bagaimana-cara-untuk-melabur-dengan.html',\n",
       " 'http://bullishbursa.blogspot.com/2020/07/cara-menggunakan-klse-journal-online.html']"
      ]
     },
     "execution_count": 4,
     "metadata": {},
     "output_type": "execute_result"
    }
   ],
   "source": [
    "h3 = soup.find_all('h3', {'class': 'post-title entry-title'})\n",
    "a = [h3_.find('a').get('href') for h3_ in h3]\n",
    "a"
   ]
  },
  {
   "cell_type": "code",
   "execution_count": 5,
   "metadata": {},
   "outputs": [
    {
     "name": "stderr",
     "output_type": "stream",
     "text": [
      "6it [00:10,  1.77s/it]\n"
     ]
    },
    {
     "ename": "AttributeError",
     "evalue": "'NoneType' object has no attribute 'get'",
     "output_type": "error",
     "traceback": [
      "\u001b[0;31m---------------------------------------------------------------------------\u001b[0m",
      "\u001b[0;31mAttributeError\u001b[0m                            Traceback (most recent call last)",
      "\u001b[0;32m/tmp/ipykernel_221206/3470415000.py\u001b[0m in \u001b[0;36m<module>\u001b[0;34m\u001b[0m\n\u001b[1;32m     14\u001b[0m         \u001b[0mjson\u001b[0m\u001b[0;34m.\u001b[0m\u001b[0mdump\u001b[0m\u001b[0;34m(\u001b[0m\u001b[0ma\u001b[0m\u001b[0;34m,\u001b[0m \u001b[0mfopen\u001b[0m\u001b[0;34m)\u001b[0m\u001b[0;34m\u001b[0m\u001b[0;34m\u001b[0m\u001b[0m\n\u001b[1;32m     15\u001b[0m \u001b[0;34m\u001b[0m\u001b[0m\n\u001b[0;32m---> 16\u001b[0;31m     \u001b[0murl\u001b[0m \u001b[0;34m=\u001b[0m \u001b[0msoup\u001b[0m\u001b[0;34m.\u001b[0m\u001b[0mfind\u001b[0m\u001b[0;34m(\u001b[0m\u001b[0;34m'a'\u001b[0m\u001b[0;34m,\u001b[0m \u001b[0;34m{\u001b[0m\u001b[0;34m'class'\u001b[0m\u001b[0;34m:\u001b[0m \u001b[0;34m'blog-pager-older-link'\u001b[0m\u001b[0;34m}\u001b[0m\u001b[0;34m)\u001b[0m\u001b[0;34m.\u001b[0m\u001b[0mget\u001b[0m\u001b[0;34m(\u001b[0m\u001b[0;34m'href'\u001b[0m\u001b[0;34m)\u001b[0m\u001b[0;34m\u001b[0m\u001b[0;34m\u001b[0m\u001b[0m\n\u001b[0m\u001b[1;32m     17\u001b[0m     \u001b[0mindex\u001b[0m \u001b[0;34m+=\u001b[0m \u001b[0;36m1\u001b[0m\u001b[0;34m\u001b[0m\u001b[0;34m\u001b[0m\u001b[0m\n",
      "\u001b[0;31mAttributeError\u001b[0m: 'NoneType' object has no attribute 'get'"
     ]
    }
   ],
   "source": [
    "def generator():\n",
    "    while True:\n",
    "        yield\n",
    "        \n",
    "index = 0\n",
    "url = 'http://bullishbursa.blogspot.com/'\n",
    "for _ in tqdm(generator()):\n",
    "    r = requests.get(url, verify = False)\n",
    "    soup = BeautifulSoup(r.content, \"lxml\")\n",
    "    h3 = soup.find_all('h3', {'class': 'post-title entry-title'})\n",
    "    a = [h3_.find('a').get('href') for h3_ in h3]\n",
    "    \n",
    "    with open(f'url/{index}.json', 'w') as fopen:\n",
    "        json.dump(a, fopen)\n",
    "    \n",
    "    url = soup.find('a', {'class': 'blog-pager-older-link'}).get('href')\n",
    "    index += 1"
   ]
  },
  {
   "cell_type": "code",
   "execution_count": 6,
   "metadata": {},
   "outputs": [
    {
     "data": {
      "text/plain": [
       "46"
      ]
     },
     "execution_count": 6,
     "metadata": {},
     "output_type": "execute_result"
    }
   ],
   "source": [
    "from glob import glob\n",
    "\n",
    "files = glob('url/*.json')\n",
    "urls = []\n",
    "for f in files:\n",
    "    with open(f) as fopen:\n",
    "        urls.extend(json.load(fopen))\n",
    "urls = sorted(list(set(urls)))\n",
    "len(urls)"
   ]
  },
  {
   "cell_type": "code",
   "execution_count": 7,
   "metadata": {},
   "outputs": [],
   "source": [
    "!mkdir page"
   ]
  },
  {
   "cell_type": "code",
   "execution_count": 8,
   "metadata": {},
   "outputs": [],
   "source": [
    "r = requests.get(urls[0])\n",
    "soup = BeautifulSoup(r.content, \"lxml\")"
   ]
  },
  {
   "cell_type": "code",
   "execution_count": 9,
   "metadata": {},
   "outputs": [
    {
     "data": {
      "text/plain": [
       "'\\nAsas Pelaburan Saham: Apa, Kenapa, Siapa, Di Mana, Bagaimana, Bila?\\n'"
      ]
     },
     "execution_count": 9,
     "metadata": {},
     "output_type": "execute_result"
    }
   ],
   "source": [
    "soup.find('h3', {'class': 'post-title entry-title'}).text"
   ]
  },
  {
   "cell_type": "code",
   "execution_count": 11,
   "metadata": {},
   "outputs": [
    {
     "data": {
      "text/plain": [
       "'\\n\\nApa?\\nPelaburan saham adalah salah satu medium untuk menjana atau menggandakan pendapatan. Merujuk kepada \\nESBI Cashflow Quadrant\\n\\xa0oleh Robert T Kiyosaki, terdapat empat kategori menjana pendapatan iaitu \\nEmployee\\n\\xa0(pekerja/makan gaji), \\nSelf Employed \\n(bekerja sendiri), \\nBusiness Owner \\n(pemilik perniagaan) dan \\nInvestor \\n(pelabur).\\xa0\\nTerdapat pelbagai jenis pelaburan di Malaysia, antaranya\\n1. Saham atau Ekuiti (melabur terus di Bursa Malaysia)\\n2. Bond / Sukuk\\n3. Komoditi (emas, sawit)\\n4. Amanah Saham (ASB, CWA, Public Mutual)\\n4. Hartanah\\xa0\\n6. Dan lain-lain\\nPelaburan saham merupakan aktiviti membeli sebahagian daripada saham/ekuiti syarikat-syarikat disenaraikan di Bursa Malaysia.\\xa0\\nKenapa?\\nTujuan utama melabur adalah untuk mendapatkan keuntungan. Dua jenis keuntungan yang berpotensi diperoleh adalah\\n1. \\nCapital Gain \\n(untung apabila jual semula saham pada harga lebih tinggi daripada harga beli)\\n2. \\nDividend \\n(sebahagian syarikat memberi dividen kepada pemegang saham)\\nSebagai contoh, sekiranya anda ada membeli saham \\nNexgram \\npada 17/02/15 dengan harga RM0.075 dan menjual semula pada 27/02/15 dengan harga RM0.10, anda telahpun memperoleh keuntungan \\nCapital Gain \\nsebanyak 33.33% dalam masa 10 hari!\\nSiapa?\\nSesiapa sahaja dibenarkan melabur di Bursa Malaysia. Anda hanya perlu membuka akaun\\xa0\\nCentral Depository System (CDS) \\nmelalui broker yang sah di Malaysia. Sangat mudah, semudah membuka akaun bank dengan mana-mana bank di Malaysia. Apa yang diperlukan hanyalah salinan Mykad, buku bank ataupun penyata akaun yang disahkan oleh bank, bayaran RM10 (ada juga broker yang tolong bayarkan untuk anda...percuma!). Anda juga dibenarkan membuka lebih daripada satu akaun CDS.\\xa0\\nDi Mana?\\nAnda boleh rujuk senarai broker di http://www.bursamalaysia.com. Boleh juga buat kajian sendiri untuk menilai broker terbaik untuk anda. Antara perkara yang boleh dipertimbangkan adalah\\n1. \\nFees \\nataupun yuran jualan/pembelian yang rendah\\n2. \\nTrading Platform \\nyang menarik\\xa0\\n3. Menyediakan kelas asas ataupun sesi \\nMarket Outlook \\npercuma\\xa0\\nBuat masa ini saya memilih Malacca Securities kerana \\nfees \\nyang dikenakan hanyalah 0.08% untuk setiap transaksi di bawah RM10,000. Paling murah yang saya jumpa setakat ini.\\nBagaimana?\\nSetakat ini terdapat 1,734 kaunter saham yang disenaraikan di Bursa Malaysia. Terdapat pelbagai strategi ataupun kaedah untuk memilih kaunter saham yang bagus untuk dibeli. Strategi pemilihan selalunya bergantung kepada profil risiko pelabur tersebut. Terdapat 2 kategori utama iaitu\\n1. \\nInvestor \\n(pelabur)\\nKebiasannya golongan ini membuat pemilihan berdasarkan \\nFundamental Analysis\\xa0\\ndengan melihat kepada kekukuhan kewangan dan model perniagaan sesebuah syarikat. Kaunter seperti ini biasanya lebih stabil, risiko mengalami kerugian agak rendah dan menawarkan dividen kepada pelabur. Namun potensi mendapatkan keuntungan yang tinggi melalui Capital Gain agak terbatas. Saham biasanya dibeli dan disimpan untuk jangkamasa panjang.\\n2. \\nTrader/Speculator \\n(pedagang/spekulator)\\nGolongan ini pula lebih cenderung membuat pemilihan berdasarkan \\nTechnical Analysis \\nataupun dengan melihat kepada pergerakan trend, purata naik turun harga, momentum jualan dan belian, volume ataupun jumlah unit diniagakan. Pemilihan juga dibuat berdasarkan khabar angin ataupun berita yang berkaitan. Kenaikan dan penurunan harga kaunter seperti ini biasanya lebih agresif, potensi untung/rugi lebih tinggi, harga saham per unit selalunya lebih rendah. Saham biasanya dibeli dan dijual semula dalam jangkamasa singkat. Sesingkat setengah minit!\\nBila?\\nPasaran saham dibuka pada 9:00 pagi sehingga 5:00 petang Isnin hingga Jumaat. Pasaran ditutup untuk rehat pada 12:30 tengahari hingga 2:30 petang. Pasaran tutup pada hari cuti umum.\\nBila pula waktu terbaik untuk memulakan pelaburan? Waktu terbaik adalah 20 tahun lepas, waktu kedua terbaik pula adalah hari ini :)\\nIklan: Dapatkan akses Premium Screener iSaham secara percuma dengan membuka akaun CDS Malacca Securities melalui iSaham.\\xa0\\nKlik sini\\n\\n\\n\\n'"
      ]
     },
     "execution_count": 11,
     "metadata": {},
     "output_type": "execute_result"
    }
   ],
   "source": [
    "soup.find('div', {'class': 'post-body entry-content'}).get_text(separator=\"\\n\")"
   ]
  },
  {
   "cell_type": "code",
   "execution_count": 12,
   "metadata": {},
   "outputs": [
    {
     "name": "stderr",
     "output_type": "stream",
     "text": [
      "100%|█████████████████████████████████████████████████████████████████████████████████████████████████████████████| 46/46 [00:54<00:00,  1.18s/it]\n"
     ]
    }
   ],
   "source": [
    "data = []\n",
    "for url in tqdm(urls):\n",
    "    r = requests.get(url)\n",
    "    soup = BeautifulSoup(r.content, \"lxml\")\n",
    "    title = soup.find('h3', {'class': 'post-title entry-title'}).text.strip()\n",
    "    body = soup.find('div', {'class': 'post-body entry-content'}).get_text(separator=\"\\n\").strip()\n",
    "    data.append({\n",
    "        'url': url,\n",
    "        'title': title,\n",
    "        'body': body,\n",
    "    })"
   ]
  },
  {
   "cell_type": "code",
   "execution_count": 13,
   "metadata": {},
   "outputs": [],
   "source": [
    "with open('bullishbursa.blogspot.com.jsonl', 'w') as fopen:\n",
    "    for d in data:\n",
    "        fopen.write(f'{json.dumps(d)}\\n')"
   ]
  }
 ],
 "metadata": {
  "kernelspec": {
   "display_name": "Python 3 (ipykernel)",
   "language": "python",
   "name": "python3"
  },
  "language_info": {
   "codemirror_mode": {
    "name": "ipython",
    "version": 3
   },
   "file_extension": ".py",
   "mimetype": "text/x-python",
   "name": "python",
   "nbconvert_exporter": "python",
   "pygments_lexer": "ipython3",
   "version": "3.8.10"
  }
 },
 "nbformat": 4,
 "nbformat_minor": 4
}
