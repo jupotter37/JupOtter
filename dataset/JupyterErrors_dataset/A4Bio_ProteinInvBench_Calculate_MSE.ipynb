{
 "cells": [
  {
   "cell_type": "code",
   "execution_count": 2,
   "metadata": {},
   "outputs": [
    {
     "ename": "ModuleNotFoundError",
     "evalue": "No module named 'openfold'",
     "output_type": "error",
     "traceback": [
      "\u001b[0;31m---------------------------------------------------------------------------\u001b[0m",
      "\u001b[0;31mModuleNotFoundError\u001b[0m                       Traceback (most recent call last)",
      "Cell \u001b[0;32mIn[2], line 8\u001b[0m\n\u001b[1;32m      5\u001b[0m \u001b[39mfrom\u001b[39;00m \u001b[39mBio\u001b[39;00m\u001b[39m.\u001b[39;00m\u001b[39mPDB\u001b[39;00m \u001b[39mimport\u001b[39;00m PDBParser, Superimposer\n\u001b[1;32m      6\u001b[0m \u001b[39mimport\u001b[39;00m \u001b[39mnumpy\u001b[39;00m \u001b[39mas\u001b[39;00m \u001b[39mnp\u001b[39;00m\n\u001b[0;32m----> 8\u001b[0m model \u001b[39m=\u001b[39m esm\u001b[39m.\u001b[39;49mpretrained\u001b[39m.\u001b[39;49mesmfold_v1()\n\u001b[1;32m      9\u001b[0m model \u001b[39m=\u001b[39m model\u001b[39m.\u001b[39meval()\u001b[39m.\u001b[39mcuda()\n",
      "File \u001b[0;32m~/anaconda3/envs/foldingdiff/lib/python3.8/site-packages/esm/pretrained.py:419\u001b[0m, in \u001b[0;36mesmfold_v1\u001b[0;34m()\u001b[0m\n\u001b[1;32m    411\u001b[0m \u001b[39mdef\u001b[39;00m \u001b[39mesmfold_v1\u001b[39m():\n\u001b[1;32m    412\u001b[0m \u001b[39m    \u001b[39m\u001b[39m\"\"\"\u001b[39;00m\n\u001b[1;32m    413\u001b[0m \u001b[39m    ESMFold v1 model using 3B ESM-2, 48 folding blocks.\u001b[39;00m\n\u001b[1;32m    414\u001b[0m \u001b[39m    ESMFold provides fast high accuracy atomic level structure prediction\u001b[39;00m\n\u001b[0;32m   (...)\u001b[0m\n\u001b[1;32m    417\u001b[0m \u001b[39m    protein sequence.\u001b[39;00m\n\u001b[1;32m    418\u001b[0m \u001b[39m    \"\"\"\u001b[39;00m\n\u001b[0;32m--> 419\u001b[0m     \u001b[39mimport\u001b[39;00m \u001b[39mesm\u001b[39;00m\u001b[39m.\u001b[39;00m\u001b[39mesmfold\u001b[39;00m\u001b[39m.\u001b[39;00m\u001b[39mv1\u001b[39;00m\u001b[39m.\u001b[39;00m\u001b[39mpretrained\u001b[39;00m\n\u001b[1;32m    420\u001b[0m     \u001b[39mreturn\u001b[39;00m esm\u001b[39m.\u001b[39mesmfold\u001b[39m.\u001b[39mv1\u001b[39m.\u001b[39mpretrained\u001b[39m.\u001b[39mesmfold_v1()\n",
      "File \u001b[0;32m~/anaconda3/envs/foldingdiff/lib/python3.8/site-packages/esm/esmfold/v1/pretrained.py:5\u001b[0m\n\u001b[1;32m      1\u001b[0m \u001b[39mfrom\u001b[39;00m \u001b[39mpathlib\u001b[39;00m \u001b[39mimport\u001b[39;00m Path\n\u001b[1;32m      3\u001b[0m \u001b[39mimport\u001b[39;00m \u001b[39mtorch\u001b[39;00m\n\u001b[0;32m----> 5\u001b[0m \u001b[39mfrom\u001b[39;00m \u001b[39mesm\u001b[39;00m\u001b[39m.\u001b[39;00m\u001b[39mesmfold\u001b[39;00m\u001b[39m.\u001b[39;00m\u001b[39mv1\u001b[39;00m\u001b[39m.\u001b[39;00m\u001b[39mesmfold\u001b[39;00m \u001b[39mimport\u001b[39;00m ESMFold\n\u001b[1;32m      8\u001b[0m \u001b[39mdef\u001b[39;00m \u001b[39m_load_model\u001b[39m(model_name):\n\u001b[1;32m      9\u001b[0m     \u001b[39mif\u001b[39;00m model_name\u001b[39m.\u001b[39mendswith(\u001b[39m\"\u001b[39m\u001b[39m.pt\u001b[39m\u001b[39m\"\u001b[39m):  \u001b[39m# local, treat as filepath\u001b[39;00m\n",
      "File \u001b[0;32m~/anaconda3/envs/foldingdiff/lib/python3.8/site-packages/esm/esmfold/v1/esmfold.py:11\u001b[0m\n\u001b[1;32m      9\u001b[0m \u001b[39mimport\u001b[39;00m \u001b[39mtorch\u001b[39;00m\u001b[39m.\u001b[39;00m\u001b[39mnn\u001b[39;00m \u001b[39mas\u001b[39;00m \u001b[39mnn\u001b[39;00m\n\u001b[1;32m     10\u001b[0m \u001b[39mfrom\u001b[39;00m \u001b[39momegaconf\u001b[39;00m \u001b[39mimport\u001b[39;00m MISSING\n\u001b[0;32m---> 11\u001b[0m \u001b[39mfrom\u001b[39;00m \u001b[39mopenfold\u001b[39;00m\u001b[39m.\u001b[39;00m\u001b[39mdata\u001b[39;00m\u001b[39m.\u001b[39;00m\u001b[39mdata_transforms\u001b[39;00m \u001b[39mimport\u001b[39;00m make_atom14_masks\n\u001b[1;32m     12\u001b[0m \u001b[39mfrom\u001b[39;00m \u001b[39mopenfold\u001b[39;00m\u001b[39m.\u001b[39;00m\u001b[39mnp\u001b[39;00m \u001b[39mimport\u001b[39;00m residue_constants\n\u001b[1;32m     13\u001b[0m \u001b[39mfrom\u001b[39;00m \u001b[39mopenfold\u001b[39;00m\u001b[39m.\u001b[39;00m\u001b[39mutils\u001b[39;00m\u001b[39m.\u001b[39;00m\u001b[39mloss\u001b[39;00m \u001b[39mimport\u001b[39;00m compute_predicted_aligned_error, compute_tm\n",
      "\u001b[0;31mModuleNotFoundError\u001b[0m: No module named 'openfold'"
     ]
    }
   ],
   "source": [
    "import torch\n",
    "import esm\n",
    "import biotite.structure.io as bsio\n",
    "import os\n",
    "from Bio.PDB import PDBParser, Superimposer\n",
    "import numpy as np\n",
    "\n",
    "model = esm.pretrained.esmfold_v1()\n",
    "model = model.eval().cuda()"
   ]
  },
  {
   "cell_type": "code",
   "execution_count": null,
   "metadata": {},
   "outputs": [],
   "source": [
    "S_ref = 'SVPSQKTYQGSYGFRLGFLHSGTAKSVTCTYSPALNKMFCQLAKTCPVQLWVDSTPPPGTRVRAMAIYKQSQHMTEVVRRCPHHERCSDSDGLAPPQHLIRVEGNLRVEYLDDRNTFRHSVVVPYEPPEVGSDCTTIHYNYMCNSSCMGGMNRRPILTIITLEDSSGNLLGRNSFEVRVCACPGRDRRTEEENL'\n",
    "S_pred = 'SVPSQKTYHGSYGFRLGFLHSGTAKSVTCTYSPALNKMFCQLAKTCPVQLWVDSTPPPGTRVRAMAIYKQSQHMTEVVRRCPHHERCSDSDGLAPPQHLIRVEGNLRVEYLDDRNTFRHSVVVPYEPPEVGSDCTTIHYNYMCNSSCMGGMNRRPILTIITLEDSSGNLLGRNSFEVRVCACPGRDRRTEEENL'"
   ]
  },
  {
   "cell_type": "code",
   "execution_count": null,
   "metadata": {},
   "outputs": [],
   "source": [
    "def mse_pdb(pdb_file1, pdb_file2):\n",
    "    # 创建PDB解析器对象\n",
    "    parser = PDBParser()\n",
    "\n",
    "    # 解析PDB文件\n",
    "    structure1 = parser.get_structure('protein1', pdb_file1)\n",
    "    structure2 = parser.get_structure('protein2', pdb_file2)\n",
    "\n",
    "    # 获取第一个模型的第一个链\n",
    "    model1 = structure1[0]\n",
    "    chain1 = model1['A']\n",
    "\n",
    "    # 获取第二个模型的第一个链\n",
    "    model2 = structure2[0]\n",
    "    chain2 = model2['A']\n",
    "    \n",
    "    atoms1 = [atom for atom in chain1.get_atoms() if atom.get_name() == 'CA']\n",
    "    atoms2 = [atom for atom in chain2.get_atoms() if atom.get_name() == 'CA']\n",
    "    # 创建超立方体对象\n",
    "    superimposer = Superimposer()\n",
    "\n",
    "    # 将链的原子坐标转换为列表\n",
    "    # atoms1 = list(chain1.get_atoms())\n",
    "    # atoms2 = list(chain2.get_atoms())\n",
    "\n",
    "    # 对两个链进行超立方体对齐\n",
    "    superimposer.set_atoms(atoms1, atoms2)\n",
    "\n",
    "    # 计算均方差\n",
    "    rmsd = superimposer.rms\n",
    "\n",
    "    return rmsd\n",
    "\n",
    "def cal_MSE(S_ref, S_pred):\n",
    "    with torch.no_grad():\n",
    "        ori_pdb = model.infer_pdb(S_ref)\n",
    "        mut_pdb = model.infer_pdb(S_pred)\n",
    "    with open(\"./ori.pdb\", \"w\") as f:\n",
    "        f.write(ori_pdb)\n",
    "    with open(\"./mut.pdb\", \"w\") as f:\n",
    "        f.write(mut_pdb)\n",
    "    pymol.cmd.reset()\n",
    "    ref='./ori.pdb'\n",
    "    input='./mut.pdb'\n",
    "    pymol.cmd.load(ref, \"ref\")\n",
    "    pymol.cmd.load(input, \"input\")\n",
    "    rms = pymol.cmd.align(\"ref\",\"input\")\n",
    "    print(rms)\n",
    "    pymol.cmd.save(\"./output.pdb\", \"input\")\n",
    "    pymol.cmd.delete(\"ref\")\n",
    "    pymol.cmd.delete(\"input\")    \n",
    "    pdb_file1 = './output.pdb'\n",
    "    pdb_file2 = './ori.pdb'\n",
    "    mse = mse_pdb(pdb_file1, pdb_file2)\n",
    "    print(\"MSE:\", mse)\n",
    "    os.remove(\"./output.pdb\")\n",
    "    os.remove(\"./ori.pdb\")\n",
    "    os.remove(\"./mut.pdb\")\n",
    "cal_MSE(S_ref, S_pred)"
   ]
  }
 ],
 "metadata": {
  "kernelspec": {
   "display_name": "foldingdiff",
   "language": "python",
   "name": "python3"
  },
  "language_info": {
   "codemirror_mode": {
    "name": "ipython",
    "version": 3
   },
   "file_extension": ".py",
   "mimetype": "text/x-python",
   "name": "python",
   "nbconvert_exporter": "python",
   "pygments_lexer": "ipython3",
   "version": "3.8.13"
  },
  "orig_nbformat": 4
 },
 "nbformat": 4,
 "nbformat_minor": 2
}
