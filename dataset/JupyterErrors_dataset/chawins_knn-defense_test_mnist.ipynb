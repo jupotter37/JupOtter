{
 "cells": [
  {
   "cell_type": "code",
   "execution_count": 1,
   "metadata": {},
   "outputs": [],
   "source": [
    "%matplotlib inline\n",
    "\n",
    "%load_ext autoreload\n",
    "%autoreload 2"
   ]
  },
  {
   "cell_type": "code",
   "execution_count": 2,
   "metadata": {},
   "outputs": [
    {
     "name": "stderr",
     "output_type": "stream",
     "text": [
      "Loading faiss with AVX2 support.\n"
     ]
    }
   ],
   "source": [
    "import logging\n",
    "import os\n",
    "import time\n",
    "\n",
    "import numpy as np\n",
    "import matplotlib.pyplot as plt\n",
    "import foolbox\n",
    "import torch\n",
    "import torch.backends.cudnn as cudnn\n",
    "import torch.nn as nn\n",
    "import torch.optim as optim\n",
    "\n",
    "from lib.dataset_utils import *\n",
    "from lib.mnist_model import *\n",
    "from lib.adv_model import *\n",
    "from lib.dknn_attack_v2 import DKNNAttackV2\n",
    "from lib.cwl2_attack import CWL2Attack\n",
    "from lib.dknn import DKNNL2\n",
    "from lib.utils import *\n",
    "from lib.lip_model import *"
   ]
  },
  {
   "cell_type": "code",
   "execution_count": 3,
   "metadata": {},
   "outputs": [],
   "source": [
    "import os\n",
    "os.environ[\"CUDA_DEVICE_ORDER\"] = \"PCI_BUS_ID\"\n",
    "os.environ[\"CUDA_VISIBLE_DEVICES\"] = \"0\""
   ]
  },
  {
   "cell_type": "code",
   "execution_count": 4,
   "metadata": {},
   "outputs": [],
   "source": [
    "# Set all random seeds\n",
    "seed = 2020\n",
    "np.random.seed(seed)\n",
    "torch.manual_seed(seed)\n",
    "\n",
    "device = 'cuda' if torch.cuda.is_available() else 'cpu'"
   ]
  },
  {
   "cell_type": "code",
   "execution_count": 5,
   "metadata": {},
   "outputs": [],
   "source": [
    "(x_train, y_train), (x_valid, y_valid), (x_test, y_test) = load_mnist_all(\n",
    "    '/data', val_size=0.1, shuffle=True, seed=seed)"
   ]
  },
  {
   "cell_type": "code",
   "execution_count": 6,
   "metadata": {},
   "outputs": [],
   "source": [
    "# model_name = 'mnist_basic.h5'\n",
    "# net = BasicModel()\n",
    "\n",
    "# model_name = 'train_mnist_nca_exp2.h5'\n",
    "# model_name = 'adv_mnist_nca_exp63_epoch119.h5'\n",
    "# model_name = 'adv_mnist_nca_exp80.h5'\n",
    "# # net = NCAModel(output_dim=100, init_it=1, train_data=(x_train, y_train))\n",
    "# net = NCAModelV3(normalize=False, output_dim=20, init_it=1, \n",
    "#                  train_data=(x_train, y_train))\n",
    "\n",
    "# model_name = 'train_mnist_snnl_exp%d.h5' % exp_id\n",
    "# net = SNNLModel(train_it=True)\n",
    "\n",
    "# model_name = 'train_mnist_hidden_mixup_exp%d.h5' % exp_id\n",
    "# net = HiddenMixupModel()\n",
    "\n",
    "# model_name = 'train_mnist_vae_exp%d.h5' % exp_id\n",
    "# # net = VAE((1, 28, 28), num_classes=10, latent_dim=20)\n",
    "# net = VAE2((1, 28, 28), num_classes=10, latent_dim=128)\n",
    "\n",
    "# model_name = 'train_mnist_cav_exp%d.h5' % exp_id\n",
    "# net = ClassAuxVAE((1, 28, 28), num_classes=10, latent_dim=20)\n",
    "\n",
    "# model_name = 'lip_mnist_exp%d.h5' % exp_id\n",
    "# net = LipschitzModel()\n",
    "\n",
    "# model_name = 'dist_mnist_exp%d.h5' % exp_id\n",
    "# init_it = 1\n",
    "# train_it = False\n",
    "# net = NeighborModel(num_classes=10, init_it=init_it, train_it=train_it)\n",
    "\n",
    "# model_name = 'mnist_at.h5'\n",
    "model_name = 'adv_mnist_exp6.h5'\n",
    "basic_net = BasicModel()\n",
    "# basic_net = BasicModelV2()\n",
    "config = {'epsilon': 0.3,\n",
    "          'num_steps': 40,\n",
    "          'step_size': 0.01,\n",
    "          'random_start': True,\n",
    "          'loss_func': 'xent'}\n",
    "net = PGDL2Model(basic_net, config)\n",
    "\n",
    "# model_name = 'lipae_mnist_exp%d.h5' % exp_id\n",
    "# init_it = 1\n",
    "# train_it = False\n",
    "# latent_dim = 128\n",
    "# alpha = 1e2\n",
    "# net = NCA_AE(latent_dim=latent_dim, init_it=init_it,\n",
    "#              train_it=train_it, alpha=alpha)\n",
    "\n",
    "# orig_model = 'adv_mnist_exp2.h5'\n",
    "# model_name = 'tune%d_%s' % (exp_id, orig_model)\n",
    "# net = BasicModel()\n",
    "# from tune_mnist import Identity\n",
    "# net.fc = Identity()\n",
    "\n",
    "# model_name = 'rot_mnist_exp%d.h5' % exp_id\n",
    "# net = BasicModel(num_classes=4)\n",
    "\n",
    "# model_name = 'adv_rot_mnist_exp%d.h5' % exp_id\n",
    "# basic_net = BasicModel(num_classes=4)\n",
    "# config = {'num_steps': 20,\n",
    "#           'step_size': 0.05,\n",
    "#           'random_start': True,\n",
    "#           'loss_func': 'xent'}\n",
    "# net = PGDL2Model(basic_net, config)\n",
    "\n",
    "# model_name = 'ae_mnist_exp%d.h5' % exp_id\n",
    "# net = Autoencoder((1, 28, 28), 128)\n",
    "\n",
    "# model_name = 'adv_mnist_ae_exp%d.h5' % exp_id\n",
    "# basic_net = Autoencoder((1, 28, 28), latent_dim=128)\n",
    "# config = {'num_steps': 40,\n",
    "#               'step_size': 0.1,\n",
    "#               'random_start': True,\n",
    "#               'loss_func': 'xent'}\n",
    "# net = PGDL2Model(basic_net, config)"
   ]
  },
  {
   "cell_type": "code",
   "execution_count": 8,
   "metadata": {},
   "outputs": [
    {
     "data": {
      "text/plain": [
       "BasicModel(\n",
       "  (conv1): Conv2d(1, 64, kernel_size=(8, 8), stride=(2, 2), padding=(3, 3))\n",
       "  (relu1): ReLU(inplace=True)\n",
       "  (conv2): Conv2d(64, 128, kernel_size=(6, 6), stride=(2, 2), padding=(3, 3))\n",
       "  (relu2): ReLU(inplace=True)\n",
       "  (conv3): Conv2d(128, 128, kernel_size=(5, 5), stride=(1, 1))\n",
       "  (relu3): ReLU(inplace=True)\n",
       "  (fc): Linear(in_features=2048, out_features=10, bias=True)\n",
       ")"
      ]
     },
     "execution_count": 8,
     "metadata": {},
     "output_type": "execute_result"
    }
   ],
   "source": [
    "# Set up model directory\n",
    "# save_dir = os.path.join(os.getcwd(), 'saved_models/mnist/')\n",
    "save_dir = os.path.join(os.getcwd(), 'saved_models/')\n",
    "if not os.path.isdir(save_dir):\n",
    "    os.makedirs(save_dir)\n",
    "model_path = os.path.join(save_dir, model_name)\n",
    "\n",
    "net = net.to(device)\n",
    "# if device == 'cuda':\n",
    "#     net = torch.nn.DataParallel(net)\n",
    "#     cudnn.benchmark = True\n",
    "net.load_state_dict(torch.load(model_path))\n",
    "# net = net.module\n",
    "net = net.basic_net\n",
    "net.eval()"
   ]
  },
  {
   "cell_type": "code",
   "execution_count": 9,
   "metadata": {},
   "outputs": [],
   "source": [
    "layers = ['relu1', 'relu2', 'relu3', 'fc']\n",
    "# layers = ['relu3']\n",
    "# layers = ['fc']\n",
    "# layers = ['conv3']\n",
    "# layers = ['en_mu']\n",
    "# layers = ['maxpool1', 'maxpool2', 'relu3', 'fc2']\n",
    "# layers = ['maxpool2']\n",
    "\n",
    "# dknn = DKNN(net, x_train, y_train, x_valid, y_valid, layers, \n",
    "#             k=75, num_classes=10)\n",
    "dknn = DKNNL2(net, x_train, y_train, x_valid, y_valid, layers, \n",
    "              k=75, cosine=True, num_classes=10)"
   ]
  },
  {
   "cell_type": "code",
   "execution_count": 31,
   "metadata": {},
   "outputs": [],
   "source": [
    "net_knn = KNNModel()\n",
    "layers = ['identity']\n",
    "dknn = DKNNL2(net_knn, x_train, y_train, \n",
    "              x_test, y_test, layers, \n",
    "              k=5, num_classes=10)"
   ]
  },
  {
   "cell_type": "code",
   "execution_count": 10,
   "metadata": {},
   "outputs": [
    {
     "name": "stdout",
     "output_type": "stream",
     "text": [
      "0.9773\n"
     ]
    }
   ],
   "source": [
    "with torch.no_grad():\n",
    "    y_pred = dknn.classify(x_test)\n",
    "    ind = np.where(y_pred.argmax(1) == y_test.numpy())[0]\n",
    "    print((y_pred.argmax(1) == y_test.numpy()).sum() / y_test.size(0))"
   ]
  },
  {
   "cell_type": "code",
   "execution_count": 11,
   "metadata": {},
   "outputs": [],
   "source": [
    "def attack_batch(attack, x, y, init_mode, init_mode_k, batch_size):\n",
    "    x_adv = torch.zeros_like(x)\n",
    "    total_num = x.size(0)\n",
    "    num_batches = total_num // batch_size\n",
    "    for i in range(num_batches):\n",
    "        begin = i * batch_size\n",
    "        end = (i + 1) * batch_size\n",
    "        x_adv[begin:end] = attack(\n",
    "            x[begin:end], y[begin:end], 2, guide_layer=layers, m=150,\n",
    "            init_mode=init_mode, init_mode_k=init_mode_k,\n",
    "            binary_search_steps=10, max_iterations=1000, learning_rate=1e-1,\n",
    "            initial_const=1e0, max_linf=None, random_start=True,\n",
    "            thres_steps=200, check_adv_steps=200, verbose=False)\n",
    "    return x_adv\n",
    "\n",
    "num = 100\n",
    "\n",
    "def full_eval(dknn):\n",
    "    with torch.no_grad():\n",
    "        y_pred = dknn.classify(x_test)\n",
    "        ind = np.where(y_pred.argmax(1) == y_test.numpy())[0]\n",
    "    print((y_pred.argmax(1) == y_test.numpy()).sum() / y_test.size(0))\n",
    "    \n",
    "    dist_all = np.zeros(num) + 1e9\n",
    "    x_adv_all = x_test[ind][:num].clone()\n",
    "    attack = DKNNAttackV2(dknn)\n",
    "    \n",
    "    x_adv = attack_batch(\n",
    "        attack, x_test[ind][:num].cuda(), y_test[ind][:num], 1, 1, 100)\n",
    "    with torch.no_grad():\n",
    "        y_pred = dknn.classify(x_adv)\n",
    "        ind_adv = y_pred.argmax(1) != y_test[ind][:num].numpy()\n",
    "        dist = (x_adv.cpu() - x_test[ind][:num]).view(\n",
    "            num, -1).norm(2, 1).numpy()\n",
    "    for i in range(num):\n",
    "        if ind_adv[i] and (dist[i] < dist_all[i]):\n",
    "            dist_all[i] = dist[i]\n",
    "            x_adv_all[i] = x_adv[i]\n",
    "            \n",
    "    for k in range(1, 3):\n",
    "        x_adv = attack_batch(\n",
    "            attack, x_test[ind][:num].cuda(), y_test[ind][:num], 2, k, 100)\n",
    "        with torch.no_grad():\n",
    "            y_pred = dknn.classify(x_adv)\n",
    "            ind_adv = y_pred.argmax(1) != y_test[ind][:num].numpy()\n",
    "            dist = (x_adv.cpu() - x_test[ind][:num]).view(\n",
    "                num, -1).norm(2, 1).numpy()\n",
    "        for i in range(num):\n",
    "            if ind_adv[i] and (dist[i] < dist_all[i]):\n",
    "                dist_all[i] = dist[i]\n",
    "                x_adv_all[i] = x_adv[i]\n",
    "                \n",
    "    adv_acc = (dist_all == 1e9).mean()\n",
    "    print('adv accuracy: %.4f, mean dist: %.4f' % (\n",
    "        adv_acc, dist_all[dist_all < 1e9].mean()))\n",
    "    return dist_all, x_adv_all"
   ]
  },
  {
   "cell_type": "code",
   "execution_count": 12,
   "metadata": {
    "scrolled": true
   },
   "outputs": [
    {
     "name": "stdout",
     "output_type": "stream",
     "text": [
      "0.9773\n",
      "    step: 0; loss: 76.239; dist: 0.032\n",
      "    step: 100; loss: 24.533; dist: 3.274\n",
      "    step: 200; loss: 18.099; dist: 3.281\n",
      "    step: 300; loss: 16.804; dist: 3.344\n",
      "    step: 400; loss: 17.321; dist: 3.350\n",
      "    step: 500; loss: 17.016; dist: 3.404\n",
      "    step: 600; loss: 17.301; dist: 3.394\n",
      "    step: 700; loss: 17.162; dist: 3.424\n",
      "    step: 800; loss: 17.482; dist: 3.430\n",
      "    step: 900; loss: 17.423; dist: 3.464\n",
      "binary step: 0; num successful adv: 100/100\n",
      "binary step: 0; num successful adv so far: 100/100\n",
      "    step: 0; loss: 7.297; dist: 0.032\n",
      "    step: 100; loss: 6.518; dist: 0.916\n",
      "    step: 200; loss: 6.443; dist: 0.939\n",
      "    step: 300; loss: 6.423; dist: 0.998\n",
      "    step: 400; loss: 6.426; dist: 1.000\n",
      "    step: 500; loss: 6.423; dist: 1.020\n",
      "    step: 600; loss: 6.431; dist: 1.022\n",
      "    step: 700; loss: 6.428; dist: 1.026\n",
      "    step: 800; loss: 6.428; dist: 1.026\n",
      "    step: 900; loss: 6.427; dist: 1.032\n",
      "binary step: 1; num successful adv: 5/100\n",
      "binary step: 1; num successful adv so far: 100/100\n",
      "    step: 0; loss: 38.450; dist: 0.032\n",
      "    step: 100; loss: 17.355; dist: 2.764\n",
      "    step: 200; loss: 13.778; dist: 2.775\n",
      "    step: 300; loss: 13.181; dist: 2.843\n",
      "    step: 400; loss: 13.262; dist: 2.836\n",
      "    step: 500; loss: 13.144; dist: 2.871\n",
      "    step: 600; loss: 13.272; dist: 2.873\n",
      "    step: 700; loss: 13.212; dist: 2.896\n",
      "    step: 800; loss: 13.270; dist: 2.894\n",
      "    step: 900; loss: 13.247; dist: 2.905\n",
      "binary step: 2; num successful adv: 96/100\n",
      "binary step: 2; num successful adv so far: 100/100\n",
      "    step: 0; loss: 20.145; dist: 0.033\n",
      "    step: 100; loss: 12.529; dist: 2.219\n",
      "    step: 200; loss: 11.034; dist: 2.228\n",
      "    step: 300; loss: 10.649; dist: 2.344\n",
      "    step: 400; loss: 10.599; dist: 2.343\n",
      "    step: 500; loss: 10.497; dist: 2.371\n",
      "    step: 600; loss: 10.507; dist: 2.375\n",
      "    step: 700; loss: 10.481; dist: 2.387\n",
      "    step: 800; loss: 10.492; dist: 2.396\n",
      "    step: 900; loss: 10.480; dist: 2.402\n",
      "binary step: 3; num successful adv: 67/100\n",
      "binary step: 3; num successful adv so far: 100/100\n",
      "    step: 0; loss: 17.120; dist: 0.032\n",
      "    step: 100; loss: 11.539; dist: 1.985\n",
      "    step: 200; loss: 10.406; dist: 1.997\n",
      "    step: 300; loss: 10.057; dist: 2.117\n",
      "    step: 400; loss: 9.913; dist: 2.129\n",
      "    step: 500; loss: 9.835; dist: 2.164\n",
      "    step: 600; loss: 9.822; dist: 2.161\n",
      "    step: 700; loss: 9.790; dist: 2.176\n",
      "    step: 800; loss: 9.797; dist: 2.179\n",
      "    step: 900; loss: 9.775; dist: 2.186\n",
      "binary step: 4; num successful adv: 50/100\n",
      "binary step: 4; num successful adv so far: 100/100\n",
      "    step: 0; loss: 16.231; dist: 0.032\n",
      "    step: 100; loss: 11.212; dist: 1.923\n",
      "    step: 200; loss: 10.196; dist: 1.929\n",
      "    step: 300; loss: 9.864; dist: 2.055\n",
      "    step: 400; loss: 9.773; dist: 2.063\n",
      "    step: 500; loss: 9.663; dist: 2.105\n",
      "    step: 600; loss: 9.661; dist: 2.100\n",
      "    step: 700; loss: 9.626; dist: 2.106\n",
      "    step: 800; loss: 9.619; dist: 2.112\n",
      "    step: 900; loss: 9.593; dist: 2.129\n",
      "binary step: 5; num successful adv: 29/100\n",
      "binary step: 5; num successful adv so far: 100/100\n",
      "    step: 0; loss: 16.271; dist: 0.032\n",
      "    step: 100; loss: 11.216; dist: 1.951\n",
      "    step: 200; loss: 10.251; dist: 1.968\n",
      "    step: 300; loss: 9.890; dist: 2.109\n",
      "    step: 400; loss: 9.739; dist: 2.114\n",
      "    step: 500; loss: 9.652; dist: 2.148\n",
      "    step: 600; loss: 9.636; dist: 2.154\n",
      "    step: 700; loss: 9.606; dist: 2.172\n",
      "    step: 800; loss: 9.618; dist: 2.172\n",
      "    step: 900; loss: 9.594; dist: 2.172\n",
      "binary step: 6; num successful adv: 38/100\n",
      "binary step: 6; num successful adv so far: 100/100\n",
      "    step: 0; loss: 15.414; dist: 0.032\n",
      "    step: 100; loss: 10.842; dist: 1.874\n",
      "    step: 200; loss: 10.007; dist: 1.892\n",
      "    step: 300; loss: 9.680; dist: 2.050\n",
      "    step: 400; loss: 9.593; dist: 2.034\n",
      "    step: 500; loss: 9.466; dist: 2.091\n",
      "    step: 600; loss: 9.422; dist: 2.094\n",
      "    step: 700; loss: 9.385; dist: 2.117\n",
      "    step: 800; loss: 9.381; dist: 2.116\n",
      "    step: 900; loss: 9.359; dist: 2.136\n",
      "binary step: 7; num successful adv: 19/100\n",
      "binary step: 7; num successful adv so far: 100/100\n",
      "    step: 0; loss: 15.140; dist: 0.032\n",
      "    step: 100; loss: 10.729; dist: 1.858\n",
      "    step: 200; loss: 9.932; dist: 1.872\n",
      "    step: 300; loss: 9.586; dist: 2.031\n",
      "    step: 400; loss: 9.495; dist: 2.021\n",
      "    step: 500; loss: 9.402; dist: 2.072\n",
      "    step: 600; loss: 9.364; dist: 2.071\n",
      "    step: 700; loss: 9.326; dist: 2.096\n",
      "    step: 800; loss: 9.322; dist: 2.101\n",
      "    step: 900; loss: 9.313; dist: 2.101\n",
      "binary step: 8; num successful adv: 17/100\n",
      "binary step: 8; num successful adv so far: 100/100\n",
      "    step: 0; loss: 14.557; dist: 0.032\n",
      "    step: 100; loss: 10.478; dist: 1.829\n",
      "    step: 200; loss: 9.753; dist: 1.857\n",
      "    step: 300; loss: 9.460; dist: 2.001\n",
      "    step: 400; loss: 9.368; dist: 2.007\n",
      "    step: 500; loss: 9.278; dist: 2.053\n",
      "    step: 600; loss: 9.272; dist: 2.049\n",
      "    step: 700; loss: 9.230; dist: 2.074\n",
      "    step: 800; loss: 9.223; dist: 2.074\n",
      "    step: 900; loss: 9.202; dist: 2.084\n",
      "binary step: 9; num successful adv: 6/100\n",
      "binary step: 9; num successful adv so far: 100/100\n",
      "    step: 0; loss: 111.099; dist: 9.780\n",
      "    step: 100; loss: 44.984; dist: 5.957\n",
      "    step: 200; loss: 41.552; dist: 5.946\n",
      "    step: 300; loss: 39.761; dist: 5.771\n",
      "    step: 400; loss: 39.217; dist: 5.770\n",
      "    step: 500; loss: 38.804; dist: 5.713\n",
      "    step: 600; loss: 38.763; dist: 5.725\n",
      "    step: 700; loss: 38.575; dist: 5.699\n",
      "    step: 800; loss: 38.473; dist: 5.691\n",
      "    step: 900; loss: 38.464; dist: 5.705\n",
      "binary step: 0; num successful adv: 100/100\n",
      "binary step: 0; num successful adv so far: 100/100\n",
      "    step: 0; loss: 99.394; dist: 9.780\n",
      "    step: 100; loss: 20.265; dist: 1.845\n",
      "    step: 200; loss: 10.902; dist: 1.831\n",
      "    step: 300; loss: 7.990; dist: 1.333\n",
      "    step: 400; loss: 7.782; dist: 1.343\n",
      "    step: 500; loss: 7.598; dist: 1.345\n",
      "    step: 600; loss: 7.593; dist: 1.349\n",
      "    step: 700; loss: 7.476; dist: 1.346\n",
      "    step: 800; loss: 7.487; dist: 1.336\n",
      "    step: 900; loss: 7.476; dist: 1.347\n",
      "binary step: 1; num successful adv: 9/100\n",
      "binary step: 1; num successful adv so far: 100/100\n",
      "    step: 0; loss: 104.716; dist: 9.780\n",
      "    step: 100; loss: 37.075; dist: 5.130\n",
      "    step: 200; loss: 33.155; dist: 5.123\n",
      "    step: 300; loss: 31.384; dist: 4.902\n",
      "    step: 400; loss: 30.530; dist: 4.904\n",
      "    step: 500; loss: 30.095; dist: 4.829\n",
      "    step: 600; loss: 30.259; dist: 4.833\n",
      "    step: 700; loss: 29.530; dist: 4.781\n",
      "    step: 800; loss: 29.485; dist: 4.783\n",
      "    step: 900; loss: 29.227; dist: 4.763\n",
      "binary step: 2; num successful adv: 92/100\n",
      "binary step: 2; num successful adv so far: 100/100\n",
      "    step: 0; loss: 101.525; dist: 9.779\n",
      "    step: 100; loss: 32.951; dist: 4.614\n",
      "    step: 200; loss: 27.358; dist: 4.606\n",
      "    step: 300; loss: 24.965; dist: 4.305\n",
      "    step: 400; loss: 23.938; dist: 4.293\n",
      "    step: 500; loss: 23.289; dist: 4.181\n",
      "    step: 600; loss: 22.940; dist: 4.180\n",
      "    step: 700; loss: 22.587; dist: 4.114\n",
      "    step: 800; loss: 22.319; dist: 4.112\n",
      "    step: 900; loss: 22.096; dist: 4.076\n",
      "binary step: 3; num successful adv: 70/100\n",
      "binary step: 3; num successful adv so far: 100/100\n",
      "    step: 0; loss: 101.134; dist: 9.780\n",
      "    step: 100; loss: 30.487; dist: 4.121\n",
      "    step: 200; loss: 23.109; dist: 4.110\n",
      "    step: 300; loss: 20.184; dist: 3.615\n",
      "    step: 400; loss: 18.998; dist: 3.601\n",
      "    step: 500; loss: 18.361; dist: 3.494\n",
      "    step: 600; loss: 18.217; dist: 3.492\n",
      "    step: 700; loss: 17.612; dist: 3.423\n",
      "    step: 800; loss: 17.551; dist: 3.411\n",
      "    step: 900; loss: 17.261; dist: 3.372\n",
      "binary step: 4; num successful adv: 58/100\n",
      "binary step: 4; num successful adv so far: 100/100\n",
      "    step: 0; loss: 100.809; dist: 9.779\n",
      "    step: 100; loss: 29.380; dist: 3.873\n",
      "    step: 200; loss: 22.115; dist: 3.807\n",
      "    step: 300; loss: 18.775; dist: 3.323\n",
      "    step: 400; loss: 17.635; dist: 3.306\n",
      "    step: 500; loss: 17.061; dist: 3.187\n",
      "    step: 600; loss: 16.708; dist: 3.188\n",
      "    step: 700; loss: 15.959; dist: 3.068\n",
      "    step: 800; loss: 15.533; dist: 3.060\n",
      "    step: 900; loss: 15.372; dist: 3.026\n",
      "binary step: 5; num successful adv: 34/100\n",
      "binary step: 5; num successful adv so far: 100/100\n",
      "    step: 0; loss: 100.758; dist: 9.779\n",
      "    step: 100; loss: 29.222; dist: 3.819\n",
      "    step: 200; loss: 21.329; dist: 3.823\n",
      "    step: 300; loss: 18.492; dist: 3.348\n",
      "    step: 400; loss: 17.478; dist: 3.371\n",
      "    step: 500; loss: 16.853; dist: 3.262\n",
      "    step: 600; loss: 16.567; dist: 3.247\n",
      "    step: 700; loss: 15.980; dist: 3.162\n",
      "    step: 800; loss: 15.711; dist: 3.150\n",
      "    step: 900; loss: 15.580; dist: 3.109\n",
      "binary step: 6; num successful adv: 34/100\n",
      "binary step: 6; num successful adv so far: 100/100\n",
      "    step: 0; loss: 100.596; dist: 9.780\n",
      "    step: 100; loss: 28.923; dist: 3.727\n",
      "    step: 200; loss: 20.996; dist: 3.722\n",
      "    step: 300; loss: 17.549; dist: 3.155\n",
      "    step: 400; loss: 16.146; dist: 3.144\n",
      "    step: 500; loss: 15.505; dist: 3.029\n",
      "    step: 600; loss: 15.038; dist: 3.026\n",
      "    step: 700; loss: 14.687; dist: 2.954\n",
      "    step: 800; loss: 14.461; dist: 2.953\n",
      "    step: 900; loss: 14.380; dist: 2.930\n",
      "binary step: 7; num successful adv: 20/100\n",
      "binary step: 7; num successful adv so far: 100/100\n",
      "    step: 0; loss: 100.578; dist: 9.779\n",
      "    step: 100; loss: 28.778; dist: 3.637\n",
      "    step: 200; loss: 20.319; dist: 3.626\n",
      "    step: 300; loss: 16.987; dist: 3.109\n",
      "    step: 400; loss: 15.904; dist: 3.096\n",
      "    step: 500; loss: 14.858; dist: 2.919\n",
      "    step: 600; loss: 14.287; dist: 2.912\n",
      "    step: 700; loss: 13.913; dist: 2.837\n",
      "    step: 800; loss: 13.731; dist: 2.845\n",
      "    step: 900; loss: 13.593; dist: 2.809\n",
      "binary step: 8; num successful adv: 16/100\n",
      "binary step: 8; num successful adv so far: 100/100\n",
      "    step: 0; loss: 100.500; dist: 9.780\n",
      "    step: 100; loss: 28.169; dist: 3.458\n",
      "    step: 200; loss: 19.422; dist: 3.462\n",
      "    step: 300; loss: 15.895; dist: 2.926\n",
      "    step: 400; loss: 14.941; dist: 2.918\n",
      "    step: 500; loss: 14.150; dist: 2.807\n",
      "    step: 600; loss: 13.774; dist: 2.810\n",
      "    step: 700; loss: 13.544; dist: 2.767\n",
      "    step: 800; loss: 13.378; dist: 2.766\n",
      "    step: 900; loss: 13.208; dist: 2.736\n",
      "binary step: 9; num successful adv: 9/100\n",
      "binary step: 9; num successful adv so far: 100/100\n",
      "    step: 0; loss: 112.168; dist: 10.107\n",
      "    step: 100; loss: 47.987; dist: 6.279\n",
      "    step: 200; loss: 44.683; dist: 6.272\n",
      "    step: 300; loss: 42.931; dist: 6.072\n",
      "    step: 400; loss: 42.528; dist: 6.068\n",
      "    step: 500; loss: 41.687; dist: 5.989\n",
      "    step: 600; loss: 41.279; dist: 5.997\n",
      "    step: 700; loss: 41.167; dist: 5.983\n",
      "    step: 800; loss: 41.166; dist: 5.993\n",
      "    step: 900; loss: 41.035; dist: 5.980\n",
      "binary step: 0; num successful adv: 100/100\n",
      "binary step: 0; num successful adv so far: 100/100\n",
      "    step: 0; loss: 104.462; dist: 10.107\n",
      "    step: 100; loss: 21.792; dist: 2.014\n",
      "    step: 200; loss: 11.793; dist: 1.995\n",
      "    step: 300; loss: 8.575; dist: 1.386\n",
      "    step: 400; loss: 8.345; dist: 1.399\n",
      "    step: 500; loss: 8.248; dist: 1.393\n",
      "    step: 600; loss: 8.190; dist: 1.402\n",
      "    step: 700; loss: 8.193; dist: 1.387\n",
      "    step: 800; loss: 8.222; dist: 1.397\n",
      "    step: 900; loss: 8.150; dist: 1.387\n",
      "binary step: 1; num successful adv: 13/100\n",
      "binary step: 1; num successful adv so far: 100/100\n",
      "    step: 0; loss: 107.836; dist: 10.107\n",
      "    step: 100; loss: 38.039; dist: 5.105\n",
      "    step: 200; loss: 33.620; dist: 5.104\n",
      "    step: 300; loss: 31.682; dist: 4.861\n",
      "    step: 400; loss: 30.595; dist: 4.858\n",
      "    step: 500; loss: 30.189; dist: 4.785\n",
      "    step: 600; loss: 30.124; dist: 4.791\n",
      "    step: 700; loss: 29.624; dist: 4.751\n",
      "    step: 800; loss: 29.557; dist: 4.756\n",
      "    step: 900; loss: 29.441; dist: 4.733\n",
      "binary step: 2; num successful adv: 88/100\n",
      "binary step: 2; num successful adv so far: 100/100\n",
      "    step: 0; loss: 105.799; dist: 10.107\n",
      "    step: 100; loss: 34.322; dist: 4.651\n",
      "    step: 200; loss: 28.007; dist: 4.627\n",
      "    step: 300; loss: 25.425; dist: 4.287\n",
      "    step: 400; loss: 24.579; dist: 4.282\n",
      "    step: 500; loss: 23.685; dist: 4.153\n",
      "    step: 600; loss: 23.156; dist: 4.149\n",
      "    step: 700; loss: 22.836; dist: 4.070\n",
      "    step: 800; loss: 22.732; dist: 4.077\n",
      "    step: 900; loss: 22.204; dist: 4.017\n",
      "binary step: 3; num successful adv: 73/100\n",
      "binary step: 3; num successful adv so far: 100/100\n",
      "    step: 0; loss: 105.434; dist: 10.107\n",
      "    step: 100; loss: 31.535; dist: 4.085\n",
      "    step: 200; loss: 23.615; dist: 4.051\n",
      "    step: 300; loss: 20.586; dist: 3.550\n",
      "    step: 400; loss: 19.757; dist: 3.547\n",
      "    step: 500; loss: 18.540; dist: 3.399\n",
      "    step: 600; loss: 18.267; dist: 3.398\n",
      "    step: 700; loss: 17.471; dist: 3.285\n",
      "    step: 800; loss: 17.280; dist: 3.290\n",
      "    step: 900; loss: 17.064; dist: 3.250\n",
      "binary step: 4; num successful adv: 41/100\n",
      "binary step: 4; num successful adv so far: 100/100\n",
      "    step: 0; loss: 105.603; dist: 10.107\n",
      "    step: 100; loss: 31.098; dist: 3.999\n",
      "    step: 200; loss: 23.452; dist: 3.989\n",
      "    step: 300; loss: 19.630; dist: 3.416\n",
      "    step: 400; loss: 18.898; dist: 3.407\n",
      "    step: 500; loss: 17.088; dist: 3.123\n",
      "    step: 600; loss: 16.519; dist: 3.119\n",
      "    step: 700; loss: 16.150; dist: 3.082\n",
      "    step: 800; loss: 15.832; dist: 3.077\n",
      "    step: 900; loss: 15.654; dist: 3.022\n",
      "binary step: 5; num successful adv: 41/100\n",
      "binary step: 5; num successful adv so far: 100/100\n",
      "    step: 0; loss: 105.328; dist: 10.107\n",
      "    step: 100; loss: 30.894; dist: 3.984\n",
      "    step: 200; loss: 23.159; dist: 3.963\n",
      "    step: 300; loss: 19.021; dist: 3.360\n",
      "    step: 400; loss: 18.045; dist: 3.364\n",
      "    step: 500; loss: 17.118; dist: 3.212\n",
      "    step: 600; loss: 16.471; dist: 3.213\n",
      "    step: 700; loss: 16.054; dist: 3.102\n",
      "    step: 800; loss: 15.674; dist: 3.100\n",
      "    step: 900; loss: 15.542; dist: 3.071\n",
      "binary step: 6; num successful adv: 24/100\n",
      "binary step: 6; num successful adv so far: 100/100\n",
      "    step: 0; loss: 105.350; dist: 10.107\n",
      "    step: 100; loss: 30.719; dist: 3.912\n",
      "    step: 200; loss: 22.918; dist: 3.914\n",
      "    step: 300; loss: 18.907; dist: 3.325\n",
      "    step: 400; loss: 18.126; dist: 3.323\n",
      "    step: 500; loss: 16.854; dist: 3.177\n",
      "    step: 600; loss: 16.296; dist: 3.175\n",
      "    step: 700; loss: 15.850; dist: 3.077\n",
      "    step: 800; loss: 15.430; dist: 3.080\n",
      "    step: 900; loss: 15.173; dist: 3.035\n",
      "binary step: 7; num successful adv: 21/100\n",
      "binary step: 7; num successful adv so far: 100/100\n",
      "    step: 0; loss: 105.298; dist: 10.107\n",
      "    step: 100; loss: 30.605; dist: 3.870\n",
      "    step: 200; loss: 22.441; dist: 3.870\n",
      "    step: 300; loss: 18.326; dist: 3.245\n",
      "    step: 400; loss: 17.335; dist: 3.242\n",
      "    step: 500; loss: 16.140; dist: 3.063\n",
      "    step: 600; loss: 15.576; dist: 3.046\n",
      "    step: 700; loss: 14.863; dist: 2.912\n",
      "    step: 800; loss: 14.492; dist: 2.913\n",
      "    step: 900; loss: 13.818; dist: 2.794\n",
      "binary step: 8; num successful adv: 17/100\n",
      "binary step: 8; num successful adv so far: 100/100\n",
      "    step: 0; loss: 105.220; dist: 10.107\n",
      "    step: 100; loss: 29.978; dist: 3.653\n",
      "    step: 200; loss: 20.959; dist: 3.639\n",
      "    step: 300; loss: 16.313; dist: 2.927\n",
      "    step: 400; loss: 15.414; dist: 2.934\n",
      "    step: 500; loss: 14.478; dist: 2.803\n",
      "    step: 600; loss: 14.102; dist: 2.806\n",
      "    step: 700; loss: 13.837; dist: 2.740\n",
      "    step: 800; loss: 13.572; dist: 2.743\n",
      "    step: 900; loss: 13.037; dist: 2.627\n",
      "binary step: 9; num successful adv: 10/100\n",
      "binary step: 9; num successful adv so far: 100/100\n",
      "adv accuracy: 0.0000, mean dist: 2.4632\n",
      "2673.538006544113\n"
     ]
    }
   ],
   "source": [
    "start = time.time()\n",
    "dist, x_adv = full_eval(dknn)\n",
    "print(time.time() - start)"
   ]
  },
  {
   "cell_type": "code",
   "execution_count": 12,
   "metadata": {},
   "outputs": [
    {
     "data": {
      "text/plain": [
       "3.4499070656299593"
      ]
     },
     "execution_count": 12,
     "metadata": {},
     "output_type": "execute_result"
    }
   ],
   "source": [
    "dist.mean()"
   ]
  },
  {
   "cell_type": "code",
   "execution_count": 15,
   "metadata": {
    "scrolled": true
   },
   "outputs": [
    {
     "name": "stdout",
     "output_type": "stream",
     "text": [
      "    step: 0; loss: 559.819; l2dist: 0.032\n",
      "    step: 100; loss: 513.798; l2dist: 3.763\n",
      "    step: 200; loss: 513.769; l2dist: 3.772\n",
      "binary step: 0; num successful adv: 98/100\n",
      "binary step: 0; num successful adv so far: 98/100\n",
      "    step: 0; loss: 388.695; l2dist: 0.032\n",
      "    step: 100; loss: 364.403; l2dist: 3.097\n",
      "    step: 200; loss: 364.281; l2dist: 3.103\n",
      "    step: 300; loss: 364.280; l2dist: 3.105\n",
      "binary step: 1; num successful adv: 75/100\n",
      "binary step: 1; num successful adv so far: 100/100\n",
      "    step: 0; loss: 272.103; l2dist: 0.032\n",
      "    step: 100; loss: 257.084; l2dist: 2.607\n",
      "    step: 200; loss: 257.064; l2dist: 2.608\n",
      "binary step: 2; num successful adv: 47/100\n",
      "binary step: 2; num successful adv so far: 100/100\n",
      "    step: 0; loss: 252.374; l2dist: 0.032\n",
      "    step: 100; loss: 238.729; l2dist: 2.574\n",
      "    step: 200; loss: 238.709; l2dist: 2.581\n",
      "binary step: 3; num successful adv: 48/100\n",
      "binary step: 3; num successful adv so far: 100/100\n",
      "    step: 0; loss: 241.471; l2dist: 0.032\n",
      "    step: 100; loss: 228.726; l2dist: 2.642\n",
      "    step: 200; loss: 228.703; l2dist: 2.626\n",
      "    step: 300; loss: 228.686; l2dist: 2.650\n",
      "binary step: 4; num successful adv: 55/100\n",
      "binary step: 4; num successful adv so far: 100/100\n",
      "    step: 0; loss: 233.557; l2dist: 0.032\n",
      "    step: 100; loss: 221.465; l2dist: 2.603\n",
      "    step: 200; loss: 221.423; l2dist: 2.613\n",
      "    step: 300; loss: 221.426; l2dist: 2.605\n",
      "binary step: 5; num successful adv: 46/100\n",
      "binary step: 5; num successful adv so far: 100/100\n",
      "    step: 0; loss: 234.280; l2dist: 0.032\n",
      "    step: 100; loss: 222.151; l2dist: 2.630\n",
      "    step: 200; loss: 222.149; l2dist: 2.639\n",
      "binary step: 6; num successful adv: 52/100\n",
      "binary step: 6; num successful adv so far: 100/100\n",
      "    step: 0; loss: 235.625; l2dist: 0.032\n",
      "    step: 100; loss: 223.431; l2dist: 2.604\n",
      "    step: 200; loss: 223.406; l2dist: 2.617\n",
      "    step: 300; loss: 223.410; l2dist: 2.625\n",
      "binary step: 7; num successful adv: 48/100\n",
      "binary step: 7; num successful adv so far: 100/100\n",
      "    step: 0; loss: 235.722; l2dist: 0.032\n",
      "    step: 100; loss: 223.528; l2dist: 2.618\n",
      "    step: 200; loss: 223.504; l2dist: 2.634\n",
      "    step: 300; loss: 223.508; l2dist: 2.622\n",
      "binary step: 8; num successful adv: 46/100\n",
      "binary step: 8; num successful adv so far: 100/100\n",
      "    step: 0; loss: 237.287; l2dist: 0.033\n",
      "    step: 100; loss: 224.972; l2dist: 2.623\n",
      "    step: 200; loss: 224.951; l2dist: 2.633\n",
      "binary step: 9; num successful adv: 53/100\n",
      "binary step: 9; num successful adv so far: 100/100\n"
     ]
    }
   ],
   "source": [
    "# Attack for L2 DkNN\n",
    "from lib.dknn_attack_l2_v1 import DKNNL2AttackV1\n",
    "attack = DKNNL2AttackV1()\n",
    "\n",
    "def attack_batch(x, y, batch_size):\n",
    "    x_adv = torch.zeros_like(x)\n",
    "    total_num = x.size(0)\n",
    "    num_batches = total_num // batch_size\n",
    "    for i in range(num_batches):\n",
    "        begin = i * batch_size\n",
    "        end = (i + 1) * batch_size\n",
    "        x_adv[begin:end] = attack(\n",
    "            dknn, x[begin:end], y[begin:end],\n",
    "            guide_layer=layers[0], m=100, binary_search_steps=10,\n",
    "            max_iterations=1000, learning_rate=1e-1, guide_mode=1,\n",
    "            initial_const=1e1, abort_early=True, random_start=True)\n",
    "    return x_adv\n",
    "\n",
    "num = 100\n",
    "x_adv = attack_batch(x_test[ind][:num].cuda(), y_test[ind][:num], 100)"
   ]
  },
  {
   "cell_type": "code",
   "execution_count": 16,
   "metadata": {},
   "outputs": [
    {
     "name": "stdout",
     "output_type": "stream",
     "text": [
      "mean dist:  2.679206609725952\n",
      "success rate:  1.0\n"
     ]
    }
   ],
   "source": [
    "with torch.no_grad():\n",
    "    y_pred = dknn.classify(x_adv)\n",
    "    ind_adv = np.where(y_pred.argmax(1) != y_test[ind][:num].numpy())[0]\n",
    "    dist = (x_adv.cpu() - x_test[ind][:num]).view(num, -1).norm(2, 1)\n",
    "    print('mean dist: ', dist[ind_adv].mean().item())\n",
    "    print('success rate: ', (len(ind_adv) / num))"
   ]
  },
  {
   "cell_type": "code",
   "execution_count": 26,
   "metadata": {
    "scrolled": true
   },
   "outputs": [],
   "source": [
    "attack = DKNNAttackV2(dknn)\n",
    "num = 100\n",
    "x_adv = attack_batch(\n",
    "    attack, x_test[ind][:num].cuda(), y_test[ind][:num], 1, 1, 100)"
   ]
  },
  {
   "cell_type": "code",
   "execution_count": 28,
   "metadata": {},
   "outputs": [
    {
     "name": "stdout",
     "output_type": "stream",
     "text": [
      "adv accuracy: 0.0000, mean dist: 2.6240\n"
     ]
    }
   ],
   "source": [
    "with torch.no_grad():\n",
    "    y_pred = dknn.classify(x_adv)\n",
    "    ind_adv = np.where(y_pred.argmax(1) != y_test[ind][:num].numpy())[0]\n",
    "    adv_acc = (y_pred.argmax(1) == y_test[ind][:num].numpy()).sum() \\\n",
    "        / y_pred.shape[0]\n",
    "    dist = (x_adv.cpu() - x_test[ind][:num]).view(\n",
    "        num, -1).norm(2, 1)[ind_adv].mean()\n",
    "print('adv accuracy: %.4f, mean dist: %.4f' % (adv_acc, dist.item()))"
   ]
  },
  {
   "cell_type": "markdown",
   "metadata": {},
   "source": [
    "---"
   ]
  },
  {
   "cell_type": "code",
   "execution_count": 10,
   "metadata": {},
   "outputs": [],
   "source": [
    "net.recompute_train_rep()"
   ]
  },
  {
   "cell_type": "code",
   "execution_count": 11,
   "metadata": {},
   "outputs": [],
   "source": [
    "train_len = len(x_train)\n",
    "train_rep = net.get_train_rep(requires_grad=False)\n",
    "y_pred = torch.zeros((train_len, 10))\n",
    "mask = []\n",
    "for i in range(10):\n",
    "    mask.append((y_train == i).float().cuda())\n",
    "for i in range(train_len):\n",
    "    dist = ((train_rep[i].unsqueeze(0) - train_rep) ** 2).sum(1)\n",
    "    exp = torch.clamp(- dist * net.log_it.exp(), - 50, 50).exp()\n",
    "    exp[i] = 0\n",
    "    exp_sum = exp.sum()\n",
    "    for j in range(net.num_classes):\n",
    "        y_pred[i, j] = (mask[j] * exp).sum() / exp_sum"
   ]
  },
  {
   "cell_type": "code",
   "execution_count": 12,
   "metadata": {},
   "outputs": [],
   "source": [
    "ind_train = np.where((y_pred.argmax(1) == y_train).numpy())[0]"
   ]
  },
  {
   "cell_type": "code",
   "execution_count": 54,
   "metadata": {},
   "outputs": [],
   "source": [
    "layers = ['fc']\n",
    "dknn = DKNNL2(net, x_train[ind_train], y_train[ind_train], \n",
    "              x_valid, y_valid, layers, k=50, num_classes=10)"
   ]
  },
  {
   "cell_type": "code",
   "execution_count": 55,
   "metadata": {},
   "outputs": [
    {
     "name": "stdout",
     "output_type": "stream",
     "text": [
      "0.9738\n"
     ]
    }
   ],
   "source": [
    "with torch.no_grad():\n",
    "    y_pred = dknn.classify(x_test)\n",
    "    ind = np.where(y_pred.argmax(1) == y_test.numpy())[0]\n",
    "    print((y_pred.argmax(1) == y_test.numpy()).sum() / y_test.size(0))"
   ]
  },
  {
   "cell_type": "code",
   "execution_count": null,
   "metadata": {},
   "outputs": [],
   "source": []
  },
  {
   "cell_type": "markdown",
   "metadata": {},
   "source": [
    "---"
   ]
  },
  {
   "cell_type": "code",
   "execution_count": 124,
   "metadata": {},
   "outputs": [],
   "source": [
    "ind_train = np.arange(len(x_train))\n",
    "np.random.shuffle(ind_train)\n",
    "ind_train = ind_train[:500]"
   ]
  },
  {
   "cell_type": "code",
   "execution_count": 13,
   "metadata": {},
   "outputs": [],
   "source": [
    "net.train_data = (x_train[ind_train], y_train[ind_train])\n",
    "# net.train_data = (x_train, y_train)"
   ]
  },
  {
   "cell_type": "code",
   "execution_count": 14,
   "metadata": {},
   "outputs": [],
   "source": [
    "net.recompute_train_rep()\n",
    "\n",
    "with torch.no_grad():\n",
    "    batch_size = 200\n",
    "    num_batches = int(np.ceil(len(x_test) / batch_size))\n",
    "    logits = np.zeros((len(x_test), 10))\n",
    "    for i in range(num_batches):\n",
    "        logits[i * batch_size:(i + 1) * batch_size] = net.compute_logits(\n",
    "            x_test[i * batch_size:(i + 1) * batch_size].cuda()).cpu().numpy()"
   ]
  },
  {
   "cell_type": "code",
   "execution_count": 15,
   "metadata": {},
   "outputs": [
    {
     "name": "stdout",
     "output_type": "stream",
     "text": [
      "0.9612\n"
     ]
    }
   ],
   "source": [
    "ind = logits.argmax(1) == y_test.numpy()\n",
    "ind = np.where(ind)[0]\n",
    "print(len(ind) / len(x_test))"
   ]
  },
  {
   "cell_type": "code",
   "execution_count": 16,
   "metadata": {},
   "outputs": [],
   "source": [
    "from lib.cwl2_attack import CWL2AttackNCA\n",
    "attack = CWL2AttackNCA(net)\n",
    "num = 100"
   ]
  },
  {
   "cell_type": "code",
   "execution_count": 17,
   "metadata": {
    "scrolled": true
   },
   "outputs": [
    {
     "name": "stdout",
     "output_type": "stream",
     "text": [
      "    step: 0; loss: 0.639; l2dist: 0.000\n",
      "    step: 100; loss: 0.652; l2dist: 0.126\n",
      "binary step: 0; number of successful adv: 0/100\n",
      "    step: 0; loss: 6.496; l2dist: 0.322\n",
      "    step: 100; loss: 5.939; l2dist: 0.497\n",
      "    step: 200; loss: 5.930; l2dist: 0.511\n",
      "    step: 300; loss: 5.933; l2dist: 0.511\n",
      "binary step: 1; number of successful adv: 12/100\n",
      "    step: 0; loss: 57.690; l2dist: 0.322\n",
      "    step: 100; loss: 16.561; l2dist: 2.690\n",
      "    step: 200; loss: 16.197; l2dist: 2.659\n",
      "    step: 300; loss: 16.097; l2dist: 2.654\n",
      "    step: 400; loss: 16.039; l2dist: 2.644\n",
      "    step: 500; loss: 15.999; l2dist: 2.644\n",
      "    step: 600; loss: 16.058; l2dist: 2.653\n",
      "binary step: 2; number of successful adv: 77/100\n",
      "    step: 0; loss: 174.042; l2dist: 0.321\n",
      "    step: 100; loss: 22.512; l2dist: 3.363\n",
      "    step: 200; loss: 22.267; l2dist: 3.411\n",
      "    step: 300; loss: 21.797; l2dist: 3.366\n",
      "    step: 400; loss: 18.350; l2dist: 3.205\n",
      "    step: 500; loss: 18.269; l2dist: 3.169\n",
      "    step: 600; loss: 18.225; l2dist: 3.142\n",
      "    step: 700; loss: 18.196; l2dist: 3.144\n",
      "    step: 800; loss: 18.207; l2dist: 3.157\n",
      "binary step: 3; number of successful adv: 98/100\n",
      "    step: 0; loss: 243.309; l2dist: 0.324\n",
      "    step: 100; loss: 14.212; l2dist: 3.138\n",
      "    step: 200; loss: 13.953; l2dist: 3.141\n",
      "    step: 300; loss: 13.579; l2dist: 3.080\n",
      "    step: 400; loss: 13.872; l2dist: 3.146\n",
      "binary step: 4; number of successful adv: 100/100\n",
      "    step: 0; loss: 142.527; l2dist: 0.327\n",
      "    step: 100; loss: 15.468; l2dist: 3.094\n",
      "    step: 200; loss: 15.189; l2dist: 3.094\n",
      "    step: 300; loss: 14.996; l2dist: 3.054\n",
      "    step: 400; loss: 15.183; l2dist: 3.077\n",
      "binary step: 5; number of successful adv: 100/100\n",
      "    step: 0; loss: 94.035; l2dist: 0.325\n",
      "    step: 100; loss: 24.869; l2dist: 3.582\n",
      "    step: 200; loss: 24.147; l2dist: 3.565\n",
      "    step: 300; loss: 23.848; l2dist: 3.578\n",
      "    step: 400; loss: 23.693; l2dist: 3.567\n",
      "    step: 500; loss: 23.674; l2dist: 3.565\n",
      "    step: 600; loss: 23.689; l2dist: 3.571\n",
      "binary step: 6; number of successful adv: 100/100\n",
      "    step: 0; loss: 88.829; l2dist: 0.322\n",
      "    step: 100; loss: 21.810; l2dist: 3.407\n",
      "    step: 200; loss: 21.243; l2dist: 3.354\n",
      "    step: 300; loss: 21.091; l2dist: 3.349\n",
      "    step: 400; loss: 21.024; l2dist: 3.344\n",
      "    step: 500; loss: 21.020; l2dist: 3.351\n",
      "    step: 600; loss: 21.013; l2dist: 3.348\n",
      "    step: 700; loss: 21.038; l2dist: 3.349\n",
      "binary step: 7; number of successful adv: 100/100\n",
      "    step: 0; loss: 86.234; l2dist: 0.321\n",
      "    step: 100; loss: 24.027; l2dist: 3.757\n",
      "    step: 200; loss: 15.638; l2dist: 3.073\n",
      "    step: 300; loss: 15.579; l2dist: 3.073\n",
      "    step: 400; loss: 15.470; l2dist: 3.031\n",
      "    step: 500; loss: 15.465; l2dist: 3.037\n",
      "    step: 600; loss: 15.479; l2dist: 3.043\n",
      "binary step: 8; number of successful adv: 100/100\n",
      "    step: 0; loss: 87.037; l2dist: 0.324\n",
      "    step: 100; loss: 24.000; l2dist: 3.802\n",
      "    step: 200; loss: 22.838; l2dist: 3.701\n",
      "    step: 300; loss: 22.689; l2dist: 3.706\n",
      "    step: 400; loss: 22.570; l2dist: 3.681\n",
      "    step: 500; loss: 22.538; l2dist: 3.676\n",
      "    step: 600; loss: 22.575; l2dist: 3.676\n",
      "binary step: 9; number of successful adv: 100/100\n",
      "    step: 0; loss: 38.995; l2dist: 6.178\n",
      "    step: 100; loss: 0.661; l2dist: 0.164\n",
      "    step: 200; loss: 0.662; l2dist: 0.167\n",
      "binary step: 0; number of successful adv: 100/100\n",
      "    step: 0; loss: 39.060; l2dist: 6.182\n",
      "    step: 100; loss: 5.889; l2dist: 0.732\n",
      "    step: 200; loss: 5.876; l2dist: 0.733\n",
      "    step: 300; loss: 5.877; l2dist: 0.737\n",
      "binary step: 1; number of successful adv: 100/100\n",
      "    step: 0; loss: 39.216; l2dist: 6.184\n",
      "    step: 100; loss: 12.893; l2dist: 3.371\n",
      "    step: 200; loss: 11.289; l2dist: 3.138\n",
      "    step: 300; loss: 11.445; l2dist: 3.154\n",
      "binary step: 2; number of successful adv: 100/100\n",
      "    step: 0; loss: 39.140; l2dist: 6.184\n",
      "    step: 100; loss: 11.887; l2dist: 3.193\n",
      "    step: 200; loss: 11.392; l2dist: 3.147\n",
      "    step: 300; loss: 11.391; l2dist: 3.145\n",
      "binary step: 3; number of successful adv: 100/100\n",
      "    step: 0; loss: 39.103; l2dist: 6.184\n",
      "    step: 100; loss: 11.104; l2dist: 3.002\n",
      "    step: 200; loss: 10.490; l2dist: 2.905\n",
      "    step: 300; loss: 10.407; l2dist: 2.900\n",
      "    step: 400; loss: 10.497; l2dist: 2.919\n",
      "binary step: 4; number of successful adv: 100/100\n",
      "    step: 0; loss: 39.096; l2dist: 6.183\n",
      "    step: 100; loss: 10.764; l2dist: 2.596\n",
      "    step: 200; loss: 10.465; l2dist: 2.599\n",
      "    step: 300; loss: 10.326; l2dist: 2.589\n",
      "    step: 400; loss: 10.369; l2dist: 2.571\n",
      "binary step: 5; number of successful adv: 100/100\n",
      "    step: 0; loss: 39.143; l2dist: 6.188\n",
      "    step: 100; loss: 10.890; l2dist: 3.002\n",
      "    step: 200; loss: 10.651; l2dist: 2.971\n",
      "    step: 300; loss: 10.813; l2dist: 3.007\n",
      "binary step: 6; number of successful adv: 100/100\n",
      "    step: 0; loss: 39.098; l2dist: 6.183\n",
      "    step: 100; loss: 10.794; l2dist: 3.009\n",
      "    step: 200; loss: 10.734; l2dist: 3.019\n",
      "    step: 300; loss: 10.614; l2dist: 3.006\n",
      "    step: 400; loss: 10.304; l2dist: 2.959\n",
      "    step: 500; loss: 10.243; l2dist: 2.951\n",
      "    step: 600; loss: 10.333; l2dist: 2.964\n",
      "binary step: 7; number of successful adv: 100/100\n",
      "    step: 0; loss: 39.094; l2dist: 6.184\n",
      "    step: 100; loss: 10.789; l2dist: 2.943\n",
      "    step: 200; loss: 10.389; l2dist: 2.884\n",
      "    step: 300; loss: 10.402; l2dist: 2.886\n",
      "binary step: 8; number of successful adv: 100/100\n",
      "    step: 0; loss: 39.097; l2dist: 6.184\n",
      "    step: 100; loss: 11.159; l2dist: 3.033\n",
      "    step: 200; loss: 10.523; l2dist: 2.937\n",
      "    step: 300; loss: 10.392; l2dist: 2.927\n",
      "    step: 400; loss: 10.209; l2dist: 2.896\n",
      "    step: 500; loss: 10.290; l2dist: 2.910\n",
      "binary step: 9; number of successful adv: 100/100\n"
     ]
    }
   ],
   "source": [
    "x_adv = attack(x_test[ind][:num].cuda(), y_test[ind][:num].cuda(), \n",
    "               targeted=False, init_mode=2,\n",
    "               binary_search_steps=10, max_iterations=1000, confidence=0,\n",
    "               learning_rate=1e-1, initial_const=1, abort_early=True,\n",
    "               rand_start_std=0.1, check_adv_steps=200)"
   ]
  },
  {
   "cell_type": "code",
   "execution_count": null,
   "metadata": {
    "scrolled": true
   },
   "outputs": [],
   "source": [
    "x_adv = attack(x_test[:num].cuda(), y_test[:num].cuda(), \n",
    "               targeted=False, init_mode=2,\n",
    "               binary_search_steps=10, max_iterations=1000, confidence=0,\n",
    "               learning_rate=1e-1, initial_const=1, abort_early=True,\n",
    "               rand_start_std=0.1, check_adv_steps=200)"
   ]
  },
  {
   "cell_type": "code",
   "execution_count": 18,
   "metadata": {},
   "outputs": [
    {
     "data": {
      "text/plain": [
       "tensor(2.7946, grad_fn=<MeanBackward0>)"
      ]
     },
     "execution_count": 18,
     "metadata": {},
     "output_type": "execute_result"
    }
   ],
   "source": [
    "(x_adv.cpu() - x_test[ind][:num]).view(num, -1).norm(2, 1).mean()"
   ]
  },
  {
   "cell_type": "code",
   "execution_count": 34,
   "metadata": {},
   "outputs": [
    {
     "data": {
      "text/plain": [
       "tensor(2.6804, grad_fn=<MeanBackward0>)"
      ]
     },
     "execution_count": 34,
     "metadata": {},
     "output_type": "execute_result"
    }
   ],
   "source": [
    "(x_adv.cpu() - x_test[:num]).view(num, -1).norm(2, 1).mean()"
   ]
  },
  {
   "cell_type": "code",
   "execution_count": 126,
   "metadata": {},
   "outputs": [
    {
     "name": "stdout",
     "output_type": "stream",
     "text": [
      "0.12\n"
     ]
    }
   ],
   "source": [
    "net.recompute_train_rep()\n",
    "\n",
    "with torch.no_grad():\n",
    "    out = net.compute_logits(x_adv).cpu().argmax(1)\n",
    "    print((out == y_test[ind][:num]).numpy().mean())"
   ]
  },
  {
   "cell_type": "code",
   "execution_count": 148,
   "metadata": {},
   "outputs": [],
   "source": [
    "accs = []\n",
    "size = [200, 500, 1000, 5000, 10000]\n",
    "for n in size:\n",
    "    acc = []\n",
    "    for i in range(100):\n",
    "        ind_train = np.arange(len(x_train))\n",
    "        np.random.shuffle(ind_train)\n",
    "        ind_train = ind_train[:n]\n",
    "        net.train_data = (x_train[ind_train], y_train[ind_train])\n",
    "\n",
    "        net.recompute_train_rep()\n",
    "\n",
    "        with torch.no_grad():\n",
    "            out = net.compute_logits(x_adv).cpu().argmax(1)\n",
    "            acc.append((out == y_test[ind][:num]).numpy().mean())\n",
    "    accs.append(acc)"
   ]
  },
  {
   "cell_type": "code",
   "execution_count": 149,
   "metadata": {},
   "outputs": [],
   "source": [
    "accs = np.array(accs)"
   ]
  },
  {
   "cell_type": "code",
   "execution_count": 166,
   "metadata": {},
   "outputs": [
    {
     "data": {
      "image/png": "[encoded data removed]",
      "text/plain": [
       "<Figure size 432x288 with 1 Axes>"
      ]
     },
     "metadata": {
      "needs_background": "light"
     },
     "output_type": "display_data"
    }
   ],
   "source": [
    "plt.bar(np.arange(len(size)), accs.mean(1), yerr=accs.std(1),\n",
    "        align='center', capsize=3)\n",
    "plt.xticks(np.arange(len(size)), size)\n",
    "plt.ylabel('Adv Accuracy')\n",
    "plt.xlabel('Size of training set')\n",
    "plt.show()"
   ]
  },
  {
   "cell_type": "code",
   "execution_count": 14,
   "metadata": {},
   "outputs": [],
   "source": [
    "model_name = 'adv_mnist_exp6.h5'\n",
    "basic_net = BasicModel()\n",
    "# # basic_net = BasicModelV2()\n",
    "config = {'epsilon': 3,\n",
    "          'num_steps': 40,\n",
    "          'step_size': 0.2,\n",
    "          'random_start': True,\n",
    "          'loss_func': 'xent'}\n",
    "net = PGDL2Model(basic_net, config)"
   ]
  },
  {
   "cell_type": "code",
   "execution_count": 15,
   "metadata": {},
   "outputs": [
    {
     "data": {
      "text/plain": [
       "BasicModel(\n",
       "  (conv1): Conv2d(1, 64, kernel_size=(8, 8), stride=(2, 2), padding=(3, 3))\n",
       "  (relu1): ReLU(inplace=True)\n",
       "  (conv2): Conv2d(64, 128, kernel_size=(6, 6), stride=(2, 2), padding=(3, 3))\n",
       "  (relu2): ReLU(inplace=True)\n",
       "  (conv3): Conv2d(128, 128, kernel_size=(5, 5), stride=(1, 1))\n",
       "  (relu3): ReLU(inplace=True)\n",
       "  (fc): Linear(in_features=2048, out_features=10, bias=True)\n",
       ")"
      ]
     },
     "execution_count": 15,
     "metadata": {},
     "output_type": "execute_result"
    }
   ],
   "source": [
    "# Set up model directory\n",
    "# save_dir = os.path.join(os.getcwd(), 'saved_models/mnist/')\n",
    "save_dir = os.path.join(os.getcwd(), 'saved_models/')\n",
    "if not os.path.isdir(save_dir):\n",
    "    os.makedirs(save_dir)\n",
    "model_path = os.path.join(save_dir, model_name)\n",
    "\n",
    "net = net.to(device)\n",
    "# if device == 'cuda':\n",
    "#     net = torch.nn.DataParallel(net)\n",
    "#     cudnn.benchmark = True\n",
    "net.load_state_dict(torch.load(model_path))\n",
    "# net = net.module\n",
    "net = net.basic_net\n",
    "net.eval()"
   ]
  },
  {
   "cell_type": "code",
   "execution_count": 16,
   "metadata": {},
   "outputs": [
    {
     "name": "stdout",
     "output_type": "stream",
     "text": [
      "acc:  0.9647\n"
     ]
    }
   ],
   "source": [
    "with torch.no_grad():\n",
    "    y_pred = net(x_test.to(device))\n",
    "    ind = np.where(y_pred.argmax(1).cpu() == y_test)[0]\n",
    "    print('acc: ', len(ind) / y_test.size(0))"
   ]
  },
  {
   "cell_type": "code",
   "execution_count": 17,
   "metadata": {},
   "outputs": [],
   "source": [
    "attack = CWL2Attack(net, x_train, y_train)"
   ]
  },
  {
   "cell_type": "code",
   "execution_count": 18,
   "metadata": {
    "scrolled": true
   },
   "outputs": [
    {
     "name": "stdout",
     "output_type": "stream",
     "text": [
      "    step: 0; loss: 2.410; l2dist: 0.000\n",
      "    step: 100; loss: 2.330; l2dist: 0.304\n",
      "    step: 200; loss: 2.330; l2dist: 0.315\n",
      "binary step: 0; number of successful adv: 2/97\n",
      "    step: 0; loss: 23.933; l2dist: 0.317\n",
      "    step: 100; loss: 10.869; l2dist: 2.284\n",
      "    step: 200; loss: 10.364; l2dist: 2.348\n",
      "    step: 300; loss: 10.229; l2dist: 2.355\n",
      "    step: 400; loss: 10.227; l2dist: 2.360\n",
      "    step: 500; loss: 10.204; l2dist: 2.386\n",
      "    step: 600; loss: 10.197; l2dist: 2.373\n",
      "    step: 700; loss: 10.201; l2dist: 2.372\n",
      "binary step: 1; number of successful adv: 42/97\n",
      "    step: 0; loss: 164.953; l2dist: 0.316\n",
      "    step: 100; loss: 13.769; l2dist: 3.365\n",
      "    step: 200; loss: 12.301; l2dist: 3.208\n",
      "    step: 300; loss: 12.478; l2dist: 3.257\n",
      "binary step: 2; number of successful adv: 97/97\n",
      "    step: 0; loss: 176.101; l2dist: 0.323\n",
      "    step: 100; loss: 12.643; l2dist: 3.226\n",
      "    step: 200; loss: 12.079; l2dist: 3.222\n",
      "    step: 300; loss: 11.492; l2dist: 3.137\n",
      "    step: 400; loss: 11.255; l2dist: 3.062\n",
      "    step: 500; loss: 11.460; l2dist: 3.055\n",
      "binary step: 3; number of successful adv: 97/97\n",
      "    step: 0; loss: 124.467; l2dist: 0.320\n",
      "    step: 100; loss: 12.708; l2dist: 3.171\n",
      "    step: 200; loss: 12.195; l2dist: 3.142\n",
      "    step: 300; loss: 11.497; l2dist: 2.993\n",
      "    step: 400; loss: 11.408; l2dist: 3.033\n",
      "    step: 500; loss: 11.446; l2dist: 3.060\n",
      "binary step: 4; number of successful adv: 97/97\n",
      "    step: 0; loss: 93.848; l2dist: 0.321\n",
      "    step: 100; loss: 12.794; l2dist: 3.113\n",
      "    step: 200; loss: 11.774; l2dist: 2.991\n",
      "    step: 300; loss: 11.463; l2dist: 3.019\n",
      "    step: 400; loss: 11.467; l2dist: 3.035\n",
      "binary step: 5; number of successful adv: 97/97\n",
      "    step: 0; loss: 80.625; l2dist: 0.324\n",
      "    step: 100; loss: 12.175; l2dist: 3.066\n",
      "    step: 200; loss: 11.462; l2dist: 3.022\n",
      "    step: 300; loss: 11.343; l2dist: 3.035\n",
      "    step: 400; loss: 11.235; l2dist: 3.010\n",
      "    step: 500; loss: 11.223; l2dist: 2.996\n",
      "    step: 600; loss: 11.021; l2dist: 2.971\n",
      "    step: 700; loss: 11.277; l2dist: 3.017\n",
      "binary step: 6; number of successful adv: 97/97\n",
      "    step: 0; loss: 76.044; l2dist: 0.323\n",
      "    step: 100; loss: 12.251; l2dist: 3.081\n",
      "    step: 200; loss: 11.454; l2dist: 3.013\n",
      "    step: 300; loss: 11.334; l2dist: 2.950\n",
      "    step: 400; loss: 11.256; l2dist: 2.962\n",
      "    step: 500; loss: 11.209; l2dist: 3.003\n",
      "    step: 600; loss: 11.230; l2dist: 3.000\n",
      "binary step: 7; number of successful adv: 97/97\n",
      "    step: 0; loss: 73.796; l2dist: 0.319\n",
      "    step: 100; loss: 12.208; l2dist: 3.071\n",
      "    step: 200; loss: 11.556; l2dist: 2.983\n",
      "    step: 300; loss: 11.564; l2dist: 2.999\n",
      "binary step: 8; number of successful adv: 97/97\n",
      "    step: 0; loss: 75.440; l2dist: 0.321\n",
      "    step: 100; loss: 12.377; l2dist: 3.105\n",
      "    step: 200; loss: 11.779; l2dist: 3.012\n",
      "    step: 300; loss: 11.456; l2dist: 3.014\n",
      "    step: 400; loss: 11.302; l2dist: 3.035\n",
      "    step: 500; loss: 11.679; l2dist: 3.094\n",
      "binary step: 9; number of successful adv: 97/97\n",
      "    step: 0; loss: 38.131; l2dist: 6.090\n",
      "    step: 100; loss: 2.335; l2dist: 0.349\n",
      "    step: 200; loss: 2.332; l2dist: 0.349\n",
      "    step: 300; loss: 2.332; l2dist: 0.350\n",
      "    step: 400; loss: 2.332; l2dist: 0.349\n",
      "binary step: 0; number of successful adv: 97/97\n",
      "    step: 0; loss: 39.272; l2dist: 6.095\n",
      "    step: 100; loss: 10.917; l2dist: 2.702\n",
      "    step: 200; loss: 10.669; l2dist: 2.677\n",
      "    step: 300; loss: 10.587; l2dist: 2.670\n",
      "    step: 400; loss: 10.594; l2dist: 2.677\n",
      "binary step: 1; number of successful adv: 97/97\n",
      "    step: 0; loss: 41.914; l2dist: 6.099\n",
      "    step: 100; loss: 11.785; l2dist: 3.026\n",
      "    step: 200; loss: 10.917; l2dist: 2.894\n",
      "    step: 300; loss: 10.804; l2dist: 2.911\n",
      "    step: 400; loss: 10.828; l2dist: 2.889\n",
      "binary step: 2; number of successful adv: 97/97\n",
      "    step: 0; loss: 53.783; l2dist: 6.093\n",
      "    step: 100; loss: 13.093; l2dist: 3.333\n",
      "    step: 200; loss: 12.580; l2dist: 3.293\n",
      "    step: 300; loss: 11.651; l2dist: 3.191\n",
      "    step: 400; loss: 13.150; l2dist: 3.273\n",
      "binary step: 3; number of successful adv: 97/97\n",
      "    step: 0; loss: 50.078; l2dist: 6.096\n",
      "    step: 100; loss: 12.593; l2dist: 3.247\n",
      "    step: 200; loss: 11.495; l2dist: 3.131\n",
      "    step: 300; loss: 11.415; l2dist: 3.123\n",
      "    step: 400; loss: 11.578; l2dist: 3.137\n",
      "binary step: 4; number of successful adv: 97/97\n",
      "    step: 0; loss: 45.003; l2dist: 6.094\n",
      "    step: 100; loss: 11.731; l2dist: 3.103\n",
      "    step: 200; loss: 11.558; l2dist: 3.137\n",
      "    step: 300; loss: 11.810; l2dist: 3.163\n",
      "binary step: 5; number of successful adv: 97/97\n",
      "    step: 0; loss: 42.896; l2dist: 6.092\n",
      "    step: 100; loss: 11.637; l2dist: 3.119\n",
      "    step: 200; loss: 11.090; l2dist: 3.022\n",
      "    step: 300; loss: 11.035; l2dist: 3.037\n",
      "    step: 400; loss: 11.214; l2dist: 3.063\n",
      "binary step: 6; number of successful adv: 97/97\n",
      "    step: 0; loss: 41.811; l2dist: 6.096\n",
      "    step: 100; loss: 11.834; l2dist: 3.078\n",
      "    step: 200; loss: 11.000; l2dist: 2.982\n",
      "    step: 300; loss: 11.392; l2dist: 3.066\n",
      "binary step: 7; number of successful adv: 97/97\n",
      "    step: 0; loss: 41.371; l2dist: 6.096\n",
      "    step: 100; loss: 11.720; l2dist: 3.051\n",
      "    step: 200; loss: 11.325; l2dist: 3.068\n",
      "    step: 300; loss: 11.011; l2dist: 3.033\n",
      "    step: 400; loss: 11.059; l2dist: 3.017\n",
      "binary step: 8; number of successful adv: 97/97\n",
      "    step: 0; loss: 41.365; l2dist: 6.094\n",
      "    step: 100; loss: 11.928; l2dist: 3.101\n",
      "    step: 200; loss: 11.246; l2dist: 3.009\n",
      "    step: 300; loss: 11.497; l2dist: 3.112\n",
      "binary step: 9; number of successful adv: 97/97\n"
     ]
    }
   ],
   "source": [
    "num = 100\n",
    "x_adv = attack(x_test[:num].cuda(), y_test[:num].cuda(), \n",
    "               targeted=False, init_mode=2,\n",
    "               binary_search_steps=10, max_iterations=1000, confidence=0,\n",
    "               learning_rate=1e-1, initial_const=1, abort_early=True,\n",
    "               rand_start_std=0.1, check_adv_steps=20)"
   ]
  },
  {
   "cell_type": "code",
   "execution_count": 23,
   "metadata": {},
   "outputs": [
    {
     "data": {
      "text/plain": [
       "tensor(2.7354, grad_fn=<MeanBackward0>)"
      ]
     },
     "execution_count": 23,
     "metadata": {},
     "output_type": "execute_result"
    }
   ],
   "source": [
    "(x_adv.cpu() - x_test[:num]).view(num, -1).norm(2, 1).mean()"
   ]
  },
  {
   "cell_type": "code",
   "execution_count": 12,
   "metadata": {
    "scrolled": true
   },
   "outputs": [
    {
     "name": "stdout",
     "output_type": "stream",
     "text": [
      "    step: 0; loss: 2.462; l2dist: 0.000\n",
      "    step: 100; loss: 2.375; l2dist: 0.311\n",
      "    step: 200; loss: 2.377; l2dist: 0.321\n",
      "binary step: 0; number of successful adv: 2/100\n",
      "    step: 0; loss: 24.473; l2dist: 0.321\n",
      "    step: 100; loss: 10.958; l2dist: 2.296\n",
      "    step: 200; loss: 10.463; l2dist: 2.341\n",
      "    step: 300; loss: 10.334; l2dist: 2.362\n",
      "    step: 400; loss: 10.347; l2dist: 2.375\n",
      "binary step: 1; number of successful adv: 40/100\n",
      "    step: 0; loss: 149.058; l2dist: 0.329\n",
      "    step: 100; loss: 13.512; l2dist: 3.336\n",
      "    step: 200; loss: 13.318; l2dist: 3.351\n",
      "    step: 300; loss: 12.657; l2dist: 3.267\n",
      "    step: 400; loss: 11.570; l2dist: 3.119\n",
      "    step: 500; loss: 11.755; l2dist: 3.188\n",
      "binary step: 2; number of successful adv: 100/100\n",
      "    step: 0; loss: 85.186; l2dist: 0.321\n",
      "    step: 100; loss: 13.728; l2dist: 3.402\n",
      "    step: 200; loss: 11.941; l2dist: 3.173\n",
      "    step: 300; loss: 12.185; l2dist: 3.235\n",
      "binary step: 3; number of successful adv: 100/100\n",
      "    step: 0; loss: 62.458; l2dist: 0.323\n",
      "    step: 100; loss: 12.472; l2dist: 3.111\n",
      "    step: 200; loss: 11.649; l2dist: 3.005\n",
      "    step: 300; loss: 11.460; l2dist: 3.003\n",
      "    step: 400; loss: 11.230; l2dist: 3.005\n",
      "    step: 500; loss: 11.310; l2dist: 2.999\n",
      "binary step: 4; number of successful adv: 100/100\n",
      "    step: 0; loss: 61.121; l2dist: 0.320\n",
      "    step: 100; loss: 12.193; l2dist: 3.010\n",
      "    step: 200; loss: 11.533; l2dist: 3.004\n",
      "    step: 300; loss: 11.382; l2dist: 3.006\n",
      "    step: 400; loss: 11.164; l2dist: 2.980\n",
      "    step: 500; loss: 11.136; l2dist: 2.996\n",
      "    step: 600; loss: 11.113; l2dist: 2.977\n",
      "    step: 700; loss: 11.245; l2dist: 2.995\n",
      "binary step: 5; number of successful adv: 100/100\n",
      "    step: 0; loss: 61.261; l2dist: 0.319\n",
      "    step: 100; loss: 12.149; l2dist: 3.052\n",
      "    step: 200; loss: 11.373; l2dist: 3.040\n",
      "    step: 300; loss: 11.309; l2dist: 3.028\n",
      "    step: 400; loss: 11.129; l2dist: 3.007\n",
      "    step: 500; loss: 11.182; l2dist: 2.976\n",
      "binary step: 6; number of successful adv: 100/100\n",
      "    step: 0; loss: 61.593; l2dist: 0.323\n",
      "    step: 100; loss: 12.517; l2dist: 3.017\n",
      "    step: 200; loss: 11.727; l2dist: 3.023\n",
      "    step: 300; loss: 11.553; l2dist: 3.037\n",
      "    step: 400; loss: 11.262; l2dist: 3.027\n",
      "    step: 500; loss: 11.175; l2dist: 3.087\n",
      "    step: 600; loss: 11.934; l2dist: 3.221\n",
      "binary step: 7; number of successful adv: 100/100\n",
      "    step: 0; loss: 60.030; l2dist: 0.321\n",
      "    step: 100; loss: 12.193; l2dist: 3.043\n",
      "    step: 200; loss: 11.739; l2dist: 3.073\n",
      "    step: 300; loss: 11.279; l2dist: 3.005\n",
      "    step: 400; loss: 11.352; l2dist: 3.026\n",
      "binary step: 8; number of successful adv: 100/100\n",
      "    step: 0; loss: 60.837; l2dist: 0.322\n",
      "    step: 100; loss: 12.617; l2dist: 3.047\n",
      "    step: 200; loss: 11.627; l2dist: 3.050\n",
      "    step: 300; loss: 11.443; l2dist: 3.058\n",
      "    step: 400; loss: 11.350; l2dist: 3.041\n",
      "    step: 500; loss: 11.227; l2dist: 3.016\n",
      "    step: 600; loss: 11.269; l2dist: 2.988\n",
      "binary step: 9; number of successful adv: 100/100\n",
      "    step: 0; loss: 38.418; l2dist: 6.114\n",
      "    step: 100; loss: 2.388; l2dist: 0.351\n",
      "    step: 200; loss: 2.386; l2dist: 0.349\n",
      "    step: 300; loss: 2.387; l2dist: 0.349\n",
      "binary step: 0; number of successful adv: 100/100\n",
      "    step: 0; loss: 39.563; l2dist: 6.121\n",
      "    step: 100; loss: 11.098; l2dist: 2.810\n",
      "    step: 200; loss: 10.746; l2dist: 2.775\n",
      "    step: 300; loss: 10.747; l2dist: 2.777\n",
      "binary step: 1; number of successful adv: 100/100\n",
      "    step: 0; loss: 41.374; l2dist: 6.119\n",
      "    step: 100; loss: 11.643; l2dist: 3.000\n",
      "    step: 200; loss: 11.587; l2dist: 3.045\n",
      "    step: 300; loss: 11.200; l2dist: 2.958\n",
      "    step: 400; loss: 11.239; l2dist: 2.970\n",
      "binary step: 2; number of successful adv: 100/100\n",
      "    step: 0; loss: 41.179; l2dist: 6.116\n",
      "    step: 100; loss: 13.119; l2dist: 3.317\n",
      "    step: 200; loss: 11.514; l2dist: 3.148\n",
      "    step: 300; loss: 11.528; l2dist: 3.112\n",
      "binary step: 3; number of successful adv: 100/100\n",
      "    step: 0; loss: 43.846; l2dist: 6.117\n",
      "    step: 100; loss: 12.144; l2dist: 3.198\n",
      "    step: 200; loss: 12.054; l2dist: 3.130\n",
      "    step: 300; loss: 10.964; l2dist: 3.032\n",
      "    step: 400; loss: 12.181; l2dist: 3.224\n",
      "binary step: 4; number of successful adv: 100/100\n",
      "    step: 0; loss: 42.193; l2dist: 6.119\n",
      "    step: 100; loss: 11.508; l2dist: 3.061\n",
      "    step: 200; loss: 12.046; l2dist: 3.220\n",
      "binary step: 5; number of successful adv: 100/100\n",
      "    step: 0; loss: 41.329; l2dist: 6.120\n",
      "    step: 100; loss: 11.655; l2dist: 3.080\n",
      "    step: 200; loss: 11.340; l2dist: 3.082\n",
      "    step: 300; loss: 11.533; l2dist: 3.108\n",
      "binary step: 6; number of successful adv: 100/100\n",
      "    step: 0; loss: 40.957; l2dist: 6.123\n",
      "    step: 100; loss: 11.785; l2dist: 3.112\n",
      "    step: 200; loss: 11.266; l2dist: 3.059\n",
      "    step: 300; loss: 11.047; l2dist: 3.030\n",
      "    step: 400; loss: 11.316; l2dist: 3.079\n",
      "binary step: 7; number of successful adv: 100/100\n",
      "    step: 0; loss: 40.764; l2dist: 6.118\n",
      "    step: 100; loss: 11.851; l2dist: 3.089\n",
      "    step: 200; loss: 11.205; l2dist: 3.021\n",
      "    step: 300; loss: 11.156; l2dist: 3.032\n",
      "    step: 400; loss: 11.110; l2dist: 3.005\n",
      "    step: 500; loss: 11.517; l2dist: 3.095\n",
      "binary step: 8; number of successful adv: 100/100\n",
      "    step: 0; loss: 40.728; l2dist: 6.117\n",
      "    step: 100; loss: 11.841; l2dist: 3.102\n",
      "    step: 200; loss: 11.189; l2dist: 3.029\n",
      "    step: 300; loss: 10.958; l2dist: 2.994\n",
      "    step: 400; loss: 11.488; l2dist: 3.092\n",
      "binary step: 9; number of successful adv: 100/100\n"
     ]
    }
   ],
   "source": [
    "num = 100\n",
    "x_adv = attack(x_test[ind][:num].cuda(), y_test[ind][:num].cuda(), \n",
    "               targeted=False, init_mode=2,\n",
    "               binary_search_steps=10, max_iterations=1000, confidence=0,\n",
    "               learning_rate=1e-1, initial_const=1, abort_early=True,\n",
    "               rand_start_std=0.1, check_adv_steps=20)"
   ]
  },
  {
   "cell_type": "code",
   "execution_count": 19,
   "metadata": {},
   "outputs": [
    {
     "name": "stdout",
     "output_type": "stream",
     "text": [
      "adv success rate:  1.0\n"
     ]
    }
   ],
   "source": [
    "with torch.no_grad():\n",
    "    y_pred = net(x_adv)\n",
    "    adv_ind = np.where(y_pred.argmax(1).cpu() != y_test[ind][:num])[0]\n",
    "    print('adv success rate: ', len(adv_ind) / y_pred.size(0))"
   ]
  },
  {
   "cell_type": "code",
   "execution_count": 20,
   "metadata": {},
   "outputs": [
    {
     "name": "stdout",
     "output_type": "stream",
     "text": [
      "mean dist: 2.8263\n"
     ]
    }
   ],
   "source": [
    "dist = (x_adv.cpu() - x_test[ind][:num])[adv_ind].view(len(adv_ind), -1)\n",
    "print('mean dist: %.4f' % dist.norm(2, 1).mean())"
   ]
  },
  {
   "cell_type": "markdown",
   "metadata": {},
   "source": [
    "---\n",
    "\n",
    "## SPL Weighting"
   ]
  },
  {
   "cell_type": "code",
   "execution_count": 7,
   "metadata": {},
   "outputs": [
    {
     "data": {
      "text/plain": [
       "WeightedNCA(\n",
       "  (conv1): Conv2d(1, 64, kernel_size=(8, 8), stride=(2, 2), padding=(3, 3))\n",
       "  (relu1): ReLU(inplace=True)\n",
       "  (conv2): Conv2d(64, 128, kernel_size=(6, 6), stride=(2, 2), padding=(3, 3))\n",
       "  (relu2): ReLU(inplace=True)\n",
       "  (conv3): Conv2d(128, 128, kernel_size=(5, 5), stride=(1, 1))\n",
       "  (relu3): ReLU(inplace=True)\n",
       "  (fc_): Linear(in_features=2048, out_features=10, bias=True)\n",
       "  (fc): Sigmoid()\n",
       ")"
      ]
     },
     "execution_count": 7,
     "metadata": {},
     "output_type": "execute_result"
    }
   ],
   "source": [
    "model_name = 'adv_mnist_nca_exp64.h5'\n",
    "model = WeightedNCA(normalize=False, output_dim=10, init_it=1, \n",
    "                    train_data=(x_train, y_train))\n",
    "\n",
    "save_dir = os.path.join(os.getcwd(), 'saved_models/')\n",
    "if not os.path.isdir(save_dir):\n",
    "    os.makedirs(save_dir)\n",
    "model_path = os.path.join(save_dir, model_name)\n",
    "model = model.to(device)\n",
    "model.load_state_dict(torch.load(model_path), strict=False)\n",
    "model.eval()"
   ]
  },
  {
   "cell_type": "code",
   "execution_count": 8,
   "metadata": {},
   "outputs": [],
   "source": [
    "model.recompute_train_rep()"
   ]
  },
  {
   "cell_type": "code",
   "execution_count": 10,
   "metadata": {},
   "outputs": [
    {
     "data": {
      "text/plain": [
       "tensor([[0.5022, 0.5080, 0.5068, 0.5075, 0.5341, 0.5053, 0.5011, 0.6253, 0.5044,\n",
       "         0.5523],\n",
       "        [0.5057, 0.5127, 0.6546, 0.5161, 0.5069, 0.5048, 0.5096, 0.5097, 0.5193,\n",
       "         0.5054]], device='cuda:0')"
      ]
     },
     "execution_count": 10,
     "metadata": {},
     "output_type": "execute_result"
    }
   ],
   "source": [
    "model.compute_logits(x_test[:2].cuda()).sigmoid()"
   ]
  },
  {
   "cell_type": "code",
   "execution_count": 13,
   "metadata": {},
   "outputs": [],
   "source": [
    "trainloader, _, _ = load_mnist(\n",
    "        100, data_dir='/data', val_size=0.1, shuffle=True, seed=seed)"
   ]
  },
  {
   "cell_type": "code",
   "execution_count": null,
   "metadata": {},
   "outputs": [],
   "source": [
    "for batch_idx, (inputs, targets) in enumerate(trainloader):\n",
    "    inputs, targets = inputs.to(device), targets.to(device)\n",
    "    optimizer.zero_grad()\n",
    "    outputs, outputs_adv = net.compute_logits(self, x, recompute_train_rep=False, requires_grad=False,\n",
    "                       from_outputs=False)\n",
    "    loss = net.loss_function(outputs_adv, targets, orig=outputs)\n",
    "    loss.backward()\n",
    "    optimizer.step()"
   ]
  },
  {
   "cell_type": "code",
   "execution_count": null,
   "metadata": {},
   "outputs": [],
   "source": []
  },
  {
   "cell_type": "code",
   "execution_count": null,
   "metadata": {},
   "outputs": [],
   "source": []
  },
  {
   "cell_type": "markdown",
   "metadata": {},
   "source": [
    "---\n",
    "## Soft Label"
   ]
  },
  {
   "cell_type": "code",
   "execution_count": 11,
   "metadata": {},
   "outputs": [],
   "source": [
    "ys_train = np.zeros((len(y_train), 10))\n",
    "nb = dknn.get_neighbors(x_train, k=100)[0][1]\n",
    "for i in range(len(y_train)):\n",
    "    ys_train[i] = np.bincount(y_train[nb[i]], minlength=10) / 100"
   ]
  },
  {
   "cell_type": "code",
   "execution_count": 12,
   "metadata": {},
   "outputs": [],
   "source": [
    "layers = ['fc']\n",
    "dknn = DKNNL2(net, x_train, y_train, x_valid, y_valid, layers, \n",
    "              k=100, num_classes=10, ys_train=torch.tensor(ys_train))"
   ]
  },
  {
   "cell_type": "code",
   "execution_count": 15,
   "metadata": {},
   "outputs": [
    {
     "data": {
      "text/plain": [
       "SoftLabelNCA(\n",
       "  (conv1): Conv2d(1, 64, kernel_size=(8, 8), stride=(2, 2), padding=(3, 3))\n",
       "  (relu1): ReLU(inplace=True)\n",
       "  (conv2): Conv2d(64, 128, kernel_size=(6, 6), stride=(2, 2), padding=(3, 3))\n",
       "  (relu2): ReLU(inplace=True)\n",
       "  (conv3): Conv2d(128, 128, kernel_size=(5, 5), stride=(1, 1))\n",
       "  (relu3): ReLU(inplace=True)\n",
       "  (fc_): Linear(in_features=2048, out_features=20, bias=True)\n",
       "  (fc): Sigmoid()\n",
       ")"
      ]
     },
     "execution_count": 15,
     "metadata": {},
     "output_type": "execute_result"
    }
   ],
   "source": [
    "net = SoftLabelNCA(torch.tensor(ys_train).cuda().float(), \n",
    "                   normalize=False, output_dim=20, \n",
    "                   init_it=1, train_data=(x_train, y_train))\n",
    "\n",
    "save_dir = os.path.join(os.getcwd(), 'saved_models/')\n",
    "if not os.path.isdir(save_dir):\n",
    "    os.makedirs(save_dir)\n",
    "model_path = os.path.join(save_dir, model_name)\n",
    "net = net.to(device)\n",
    "net.load_state_dict(torch.load(model_path))\n",
    "net.eval()"
   ]
  },
  {
   "cell_type": "code",
   "execution_count": 16,
   "metadata": {},
   "outputs": [],
   "source": [
    "net.recompute_train_rep()"
   ]
  },
  {
   "cell_type": "code",
   "execution_count": null,
   "metadata": {},
   "outputs": [],
   "source": []
  },
  {
   "cell_type": "code",
   "execution_count": 2,
   "metadata": {},
   "outputs": [
    {
     "ename": "NameError",
     "evalue": "name 'dknn' is not defined",
     "output_type": "error",
     "traceback": [
      "\u001b[0;31m---------------------------------------------------------------------------\u001b[0m",
      "\u001b[0;31mNameError\u001b[0m                                 Traceback (most recent call last)",
      "\u001b[0;32m<ipython-input-2-5f055a6d6af9>\u001b[0m in \u001b[0;36m<module>\u001b[0;34m\u001b[0m\n\u001b[0;32m----> 1\u001b[0;31m \u001b[0mys_test\u001b[0m \u001b[0;34m=\u001b[0m \u001b[0mdknn\u001b[0m\u001b[0;34m.\u001b[0m\u001b[0mclassify_soft\u001b[0m\u001b[0;34m(\u001b[0m\u001b[0mx_test\u001b[0m\u001b[0;34m)\u001b[0m\u001b[0;34m\u001b[0m\u001b[0m\n\u001b[0m\u001b[1;32m      2\u001b[0m \u001b[0;34m(\u001b[0m\u001b[0mys_test\u001b[0m\u001b[0;34m.\u001b[0m\u001b[0margmax\u001b[0m\u001b[0;34m(\u001b[0m\u001b[0;36m1\u001b[0m\u001b[0;34m)\u001b[0m \u001b[0;34m==\u001b[0m \u001b[0my_test\u001b[0m\u001b[0;34m.\u001b[0m\u001b[0mnumpy\u001b[0m\u001b[0;34m(\u001b[0m\u001b[0;34m)\u001b[0m\u001b[0;34m)\u001b[0m\u001b[0;34m.\u001b[0m\u001b[0mmean\u001b[0m\u001b[0;34m(\u001b[0m\u001b[0;34m)\u001b[0m\u001b[0;34m\u001b[0m\u001b[0m\n",
      "\u001b[0;31mNameError\u001b[0m: name 'dknn' is not defined"
     ]
    }
   ],
   "source": [
    "ys_test = dknn.classify_soft(x_test)\n",
    "(ys_test.argmax(1) == y_test.numpy()).mean()"
   ]
  },
  {
   "cell_type": "code",
   "execution_count": null,
   "metadata": {},
   "outputs": [],
   "source": []
  },
  {
   "cell_type": "code",
   "execution_count": null,
   "metadata": {},
   "outputs": [],
   "source": []
  },
  {
   "cell_type": "code",
   "execution_count": null,
   "metadata": {},
   "outputs": [],
   "source": []
  },
  {
   "cell_type": "code",
   "execution_count": null,
   "metadata": {},
   "outputs": [],
   "source": []
  },
  {
   "cell_type": "code",
   "execution_count": 56,
   "metadata": {},
   "outputs": [],
   "source": [
    "out = dknn.classify(x_test)\n",
    "cred = dknn.credibility(out)"
   ]
  },
  {
   "cell_type": "code",
   "execution_count": 58,
   "metadata": {},
   "outputs": [
    {
     "data": {
      "text/plain": [
       "(array([ 970.,  975.,  903.,  821.,  729.,    0.,    0.,    0.,    0.,\n",
       "        5602.]),\n",
       " array([0.005 , 0.1045, 0.204 , 0.3035, 0.403 , 0.5025, 0.602 , 0.7015,\n",
       "        0.801 , 0.9005, 1.    ]),\n",
       " <a list of 10 Patch objects>)"
      ]
     },
     "execution_count": 58,
     "metadata": {},
     "output_type": "execute_result"
    },
    {
     "data": {
      "image/png": "[encoded data removed]",
      "text/plain": [
       "<Figure size 432x288 with 1 Axes>"
      ]
     },
     "metadata": {
      "needs_background": "light"
     },
     "output_type": "display_data"
    }
   ],
   "source": [
    "plt.hist(cred)"
   ]
  },
  {
   "cell_type": "code",
   "execution_count": 61,
   "metadata": {},
   "outputs": [
    {
     "name": "stdout",
     "output_type": "stream",
     "text": [
      "0.6662565166666666 1.0\n",
      "0.4398\n"
     ]
    }
   ],
   "source": [
    "print(cred.mean(), np.median(cred))\n",
    "print((cred < 0.5).mean())\n",
    "train_cred = cred"
   ]
  },
  {
   "cell_type": "code",
   "execution_count": 11,
   "metadata": {},
   "outputs": [],
   "source": [
    "out = dknn.classify(x_adv)\n",
    "cred = dknn.credibility(out)"
   ]
  },
  {
   "cell_type": "code",
   "execution_count": 12,
   "metadata": {},
   "outputs": [
    {
     "data": {
      "text/plain": [
       "(array([70., 18.,  0.,  9.,  0.,  2.,  0.,  0.,  0.,  1.]),\n",
       " array([0.27566667, 0.29341667, 0.31116667, 0.32891667, 0.34666667,\n",
       "        0.36441667, 0.38216667, 0.39991667, 0.41766667, 0.43541667,\n",
       "        0.45316667]),\n",
       " <a list of 10 Patch objects>)"
      ]
     },
     "execution_count": 12,
     "metadata": {},
     "output_type": "execute_result"
    },
    {
     "data": {
      "image/png": "[encoded data removed]",
      "text/plain": [
       "<Figure size 432x288 with 1 Axes>"
      ]
     },
     "metadata": {
      "needs_background": "light"
     },
     "output_type": "display_data"
    }
   ],
   "source": [
    "plt.hist(cred)"
   ]
  },
  {
   "cell_type": "code",
   "execution_count": 15,
   "metadata": {},
   "outputs": [
    {
     "data": {
      "text/plain": [
       "0.5468333333333333"
      ]
     },
     "execution_count": 15,
     "metadata": {},
     "output_type": "execute_result"
    }
   ],
   "source": [
    "(dknn.A < 1).mean()"
   ]
  },
  {
   "cell_type": "code",
   "execution_count": 27,
   "metadata": {},
   "outputs": [
    {
     "data": {
      "text/plain": [
       "array([7, 2, 1, 0, 4, 1, 4, 9, 5, 9, 0, 6, 9, 0, 1, 5, 9, 7, 3, 4, 9, 6,\n",
       "       6, 5, 4, 0, 7, 4, 0, 1, 3, 1, 3, 4, 7, 2, 7, 1, 2, 1, 1, 7, 4, 2,\n",
       "       3, 5, 1, 2, 4, 4, 6, 3, 5, 5, 6, 0, 4, 1, 9, 5, 7, 8, 9, 3, 7, 4,\n",
       "       6, 4, 3, 0, 7, 0, 2, 9, 1, 7, 3, 2, 9, 7, 7, 6, 2, 7, 8, 4, 7, 3,\n",
       "       6, 1, 3, 6, 9, 3, 1, 4, 1, 7, 6, 9])"
      ]
     },
     "execution_count": 27,
     "metadata": {},
     "output_type": "execute_result"
    }
   ],
   "source": [
    "dknn.classify(x_adv).argmax(1)"
   ]
  },
  {
   "cell_type": "code",
   "execution_count": 30,
   "metadata": {},
   "outputs": [
    {
     "data": {
      "text/plain": [
       "array([False, False,  True, ..., False, False, False])"
      ]
     },
     "execution_count": 30,
     "metadata": {},
     "output_type": "execute_result"
    }
   ],
   "source": [
    "(y_test.numpy() == 1) & (y_test.numpy() == 1)"
   ]
  },
  {
   "cell_type": "code",
   "execution_count": 13,
   "metadata": {},
   "outputs": [],
   "source": [
    "pickle.dump(x_adv, open('x_adv_dknn_295.p', 'wb'))"
   ]
  },
  {
   "cell_type": "code",
   "execution_count": 18,
   "metadata": {},
   "outputs": [
    {
     "data": {
      "text/plain": [
       "0.7243333333333334"
      ]
     },
     "execution_count": 18,
     "metadata": {},
     "output_type": "execute_result"
    }
   ],
   "source": [
    "(dknn.A < 5).mean()"
   ]
  },
  {
   "cell_type": "code",
   "execution_count": 21,
   "metadata": {},
   "outputs": [
    {
     "data": {
      "text/plain": [
       "<matplotlib.image.AxesImage at 0x7f11b1be2940>"
      ]
     },
     "execution_count": 21,
     "metadata": {},
     "output_type": "execute_result"
    },
    {
     "data": {
      "image/png": "[encoded data removed]",
      "text/plain": [
       "<Figure size 432x288 with 1 Axes>"
      ]
     },
     "metadata": {
      "needs_background": "light"
     },
     "output_type": "display_data"
    }
   ],
   "source": [
    "plt.imshow(x_adv[5].detach().cpu().numpy().reshape(28, 28), cmap='gray')"
   ]
  },
  {
   "cell_type": "code",
   "execution_count": null,
   "metadata": {},
   "outputs": [],
   "source": []
  }
 ],
 "metadata": {
  "kernelspec": {
   "display_name": "Python 3",
   "language": "python",
   "name": "python3"
  },
  "language_info": {
   "codemirror_mode": {
    "name": "ipython",
    "version": 3
   },
   "file_extension": ".py",
   "mimetype": "text/x-python",
   "name": "python",
   "nbconvert_exporter": "python",
   "pygments_lexer": "ipython3",
   "version": "3.6.5"
  }
 },
 "nbformat": 4,
 "nbformat_minor": 4
}
