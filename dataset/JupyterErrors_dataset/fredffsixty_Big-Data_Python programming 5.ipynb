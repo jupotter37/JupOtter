{
 "cells": [
  {
   "cell_type": "markdown",
   "metadata": {},
   "source": [
    "# Programmazione orientata agli oggetti"
   ]
  },
  {
   "cell_type": "code",
   "execution_count": 4,
   "metadata": {},
   "outputs": [
    {
     "name": "stdout",
     "output_type": "stream",
     "text": [
      "Blu is a bird\n",
      "Woo is also a bird\n",
      "Blu is 10 years old\n",
      "Woo is 15 years old\n",
      "Blu sings Cip cip\n",
      "Woo is now dancing\n"
     ]
    },
    {
     "data": {
      "text/plain": [
       "'bird'"
      ]
     },
     "execution_count": 4,
     "metadata": {},
     "output_type": "execute_result"
    }
   ],
   "source": [
    "# definizione di una classe con attributi e metodi\n",
    "\n",
    "class Parrot:\n",
    "\n",
    "    # attributo di classe\n",
    "    species = \"bird\"\n",
    "\n",
    "    # __init__ è il costruttore della classe: inizializza gli oggetti istanza\n",
    "    def __init__(self, name, age): # i veri parametri del costruttore o di un metodo di istanza\n",
    "                                   # vanno elencati dopo self che indica solo che ci si riferisce\n",
    "                                   # all'oggetto corrente\n",
    "        \n",
    "        # attributi di istanza\n",
    "        # gestiti attraverso il riferimento self all'oggetto corrente\n",
    "        self.name = name\n",
    "        self.age = age\n",
    "\n",
    "    # metodi di istanza\n",
    "    def sing(self, song):\n",
    "        return \"{} sings {}\".format(self.name, song)\n",
    "\n",
    "    def dance(self):\n",
    "        return \"{} is now dancing\".format(self.name)\n",
    "\n",
    "\n",
    "# istanziamo due oggetti\n",
    "blu = Parrot(\"Blu\", 10)\n",
    "woo = Parrot(\"Woo\", 15)\n",
    "\n",
    "# accediamo gli attributi di classe\n",
    "print(\"Blu is a {}\".format(blu.__class__.species))     # posso richiamare l'attributo di classe attraverso il riferimento alla classe stessa\n",
    "                                                       # __class__ definito nell'oggetto istanza\n",
    "print(\"Woo is also a {}\".format(woo.__class__.species))\n",
    "\n",
    "# accediamo gli attributi di istanza\n",
    "print(\"{} is {} years old\".format( blu.name, blu.age))\n",
    "print(\"{} is {} years old\".format( woo.name, woo.age))\n",
    "\n",
    "print(blu.sing('Cip cip'))\n",
    "print(woo.dance())\n",
    "\n",
    "Parrot.species # l'attributo di classe può essere richiamato direttamente col nome della classe"
   ]
  },
  {
   "cell_type": "code",
   "execution_count": 5,
   "metadata": {},
   "outputs": [
    {
     "data": {
      "text/plain": [
       "'eagle'"
      ]
     },
     "execution_count": 5,
     "metadata": {},
     "output_type": "execute_result"
    }
   ],
   "source": [
    "blu.__class__.species='eagle'\n",
    "woo.__class__.species"
   ]
  },
  {
   "cell_type": "code",
   "execution_count": 6,
   "metadata": {},
   "outputs": [
    {
     "name": "stdout",
     "output_type": "stream",
     "text": [
      "Bird is ready\n",
      "Penguin\n",
      "Swim faster\n",
      "Run faster\n"
     ]
    }
   ],
   "source": [
    "# Ereditarietà\n",
    "\n",
    "# classe genitore\n",
    "class Bird:\n",
    "    \n",
    "    def __init__(self):\n",
    "        print(\"Bird is ready\")\n",
    "\n",
    "    def whoisThis(self):\n",
    "        print(\"Bird\")\n",
    "\n",
    "    def swim(self):\n",
    "        print(\"Swim faster\")\n",
    "\n",
    "# classe ereditata\n",
    "class Penguin(Bird): # costruisco Penguin da Bird, cioé passo la superclasse alla definizione della classe\n",
    "\n",
    "    def __init__(self):\n",
    "        # posso chiamare la funzione super() che si riferisce \n",
    "        # alla superclasse Bird che ho passato alla classe Penguin\n",
    "        \n",
    "        super().__init__() # richiamo esplicitamente il costruttore della superclasse\n",
    "\n",
    "    def whoisThis(self): # sovraccarico il metodo che quindi nasconderà\n",
    "                         # quello con lo stesso nome della superclasse\n",
    "        print(\"Penguin\")\n",
    "\n",
    "    def run(self):\n",
    "        print(\"Run faster\")\n",
    "\n",
    "peggy = Penguin()\n",
    "peggy.whoisThis()\n",
    "peggy.swim()      # l'oggetto possiede anche il metodo swim() ereditato dalla superclasse\n",
    "peggy.run()"
   ]
  },
  {
   "cell_type": "code",
   "execution_count": 7,
   "metadata": {},
   "outputs": [
    {
     "name": "stdout",
     "output_type": "stream",
     "text": [
      "Bird is ready\n",
      "Penguin\n",
      "Bird\n"
     ]
    }
   ],
   "source": [
    "def whoAreYou(bird):\n",
    "    return bird.whoisThis()\n",
    "\n",
    "myBird = Bird()\n",
    "\n",
    "whoAreYou(peggy)\n",
    "whoAreYou(myBird)"
   ]
  },
  {
   "cell_type": "code",
   "execution_count": 8,
   "metadata": {},
   "outputs": [
    {
     "name": "stdout",
     "output_type": "stream",
     "text": [
      "John\n",
      "102\n",
      "[<class '__main__.Resident'>, <class '__main__.Person'>, <class '__main__.Student'>, <class 'object'>]\n"
     ]
    }
   ],
   "source": [
    "# Ereditarietà multipla\n",
    "\n",
    "class Person: # primo genitore\n",
    "    \n",
    "    def __init__(self, personName, personAge):  \n",
    "        self.name = personName  \n",
    "        self.age = personAge  \n",
    "  \n",
    "    # metodi di istanza di Person\n",
    "    def showName(self):  \n",
    "        print(self.name)  \n",
    "  \n",
    "    def showAge(self):  \n",
    "        print(self.age)  \n",
    "\n",
    "\n",
    "class Student: # secondo genitore  \n",
    "    \n",
    "    def __init__(self, studentId):  \n",
    "        self.studentId = studentId  \n",
    "  \n",
    "    # metodi di istanza di Student\n",
    "    def getId(self):  \n",
    "        return self.studentId  \n",
    "  \n",
    "  \n",
    "class Resident(Person, Student): # Un Resident è sia Person sia Student  \n",
    "\n",
    "    def __init__(self, name, age, id):  \n",
    "        Person.__init__(self, name, age)  # invoco esplicitamente i costruttori delle classi \n",
    "        Student.__init__(self, id)        # perché devo passare loro i parametri\n",
    "  \n",
    "  \n",
    "# Creiamo una istanza di Resident  \n",
    "resident1 = Resident('John', 30, '102')\n",
    "\n",
    "resident1.showName()         # metodo di Person\n",
    "print(resident1.getId())     # metodo di Student\n",
    "\n",
    "\"\"\"\n",
    "Method Reconstruction Order (MRO)\n",
    "\n",
    "E' il criterio con cui Python ricerca i metodi e i costruttori delle superclassi: serve a risolvere le ambiguità\n",
    "quando ci siano metodi con lo stesso nome\n",
    "\n",
    "La ricerca avviene in ordine sempre **da sinistra a destra** nell'elenco delle superclassi e, se queste hanno a loro\n",
    "volta superclassi, ricerca ancora le superclassi da sinistra a destra fino ad arrivare eventualmente alla classe object\n",
    "\n",
    "Se si dovessero determinare delle ambiguità perché due classi genitrici hanno metodi con lo stesso nome,\n",
    "allora viene eseguito quello della **prima** classe attraversata\n",
    "\"\"\"\n",
    "print(Resident.mro())\n",
    "\n"
   ]
  },
  {
   "cell_type": "code",
   "execution_count": 9,
   "metadata": {},
   "outputs": [
    {
     "name": "stdout",
     "output_type": "stream",
     "text": [
      "[<class '__main__.C'>, <class '__main__.D'>, <class '__main__.B'>, <class '__main__.A'>, <class 'object'>]\n",
      "Richard\n",
      "32\n",
      "23\n"
     ]
    }
   ],
   "source": [
    "class A:  \n",
    "    def __init__(self):  \n",
    "        super().__init__()  \n",
    "        self.name = 'John'  \n",
    "        self.age = 23  \n",
    "  \n",
    "    def getName(self):  \n",
    "        return self.name  \n",
    "  \n",
    "  \n",
    "class B:  \n",
    "    def __init__(self):  \n",
    "        super().__init__()  \n",
    "        self.name = 'Richard'  \n",
    "        self.id = '32'  \n",
    "  \n",
    "    def getName(self):  \n",
    "        return self.name\n",
    "\n",
    "class D(B): # i costruttori di superclasse si invocano automaticamente\n",
    "            # dalla definizione di classe e non hanno argomenti\n",
    "    pass\n",
    "\n",
    "class C(D, A):  \n",
    "\n",
    "    def getName(self):  \n",
    "        return self.name  \n",
    "\n",
    "print(C.mro())\n",
    "\n",
    "C1 = C()  \n",
    "print(C1.getName())  # getname() è quello di C e stampa quindi il nome contenuto in B: \n",
    "print(C1.id)         # id è quello di B\n",
    "print(C1.age)        # age è quello di A\n",
    "\n"
   ]
  },
  {
   "cell_type": "code",
   "execution_count": 10,
   "metadata": {},
   "outputs": [
    {
     "name": "stdout",
     "output_type": "stream",
     "text": [
      "Selling Price: 900\n",
      "Selling Price: 900\n",
      "Selling Price: 1000\n"
     ]
    }
   ],
   "source": [
    "# Incapsulamento\n",
    "\n",
    "class Computer:\n",
    "\n",
    "    def __init__(self):\n",
    "        self.__maxprice = 900 # variabile privata\n",
    "\n",
    "    def sell(self):\n",
    "        print(\"Selling Price: {}\".format(self.__maxprice))\n",
    "\n",
    "    def setMaxPrice(self, price):\n",
    "        self.__maxprice = price\n",
    "\n",
    "c = Computer()\n",
    "c.sell()\n",
    "\n",
    "# tento di cambiare la variabile privata\n",
    "c.__maxprice = 1000 # non è un nome davvero accessibile per via del \"mangling\"\n",
    "c.sell()\n",
    "\n",
    "# cambio il valore con il setter appositamente definito\n",
    "c.setMaxPrice(1000)\n",
    "c.sell()"
   ]
  },
  {
   "cell_type": "code",
   "execution_count": 13,
   "metadata": {},
   "outputs": [
    {
     "name": "stdout",
     "output_type": "stream",
     "text": [
      "Selling Price: 10000\n"
     ]
    }
   ],
   "source": [
    "c._Computer__maxprice = 10000\n",
    "c.sell()"
   ]
  },
  {
   "cell_type": "code",
   "execution_count": 7,
   "metadata": {},
   "outputs": [
    {
     "name": "stdout",
     "output_type": "stream",
     "text": [
      "Parrot can fly\n",
      "Penguin can't fly\n"
     ]
    }
   ],
   "source": [
    "# Polimorfismo:\n",
    "# le due classi implementano metodi identici, ma l'interfaccia che li utilizza\n",
    "# è polimorfa perché richiama il giusto metodo per ogni oggetto passato\n",
    "\n",
    "class Parrot:\n",
    "\n",
    "    def fly(self):\n",
    "        print(\"Parrot can fly\")\n",
    "    \n",
    "    def swim(self):\n",
    "        print(\"Parrot can't swim\")\n",
    "\n",
    "class Penguin:\n",
    "\n",
    "    def fly(self):\n",
    "        print(\"Penguin can't fly\")\n",
    "    \n",
    "    def swim(self):\n",
    "        print(\"Penguin can swim\")\n",
    "\n",
    "# interfaccia comune polimorfa: userà il metodo fly proprio di ogi oggetto passato di volta in volta\n",
    "def flying_test(bird):\n",
    "    bird.fly()\n",
    "\n",
    "# istanziamo gli oggetti\n",
    "blu = Parrot()\n",
    "peggy = Penguin()\n",
    "\n",
    "# passiamo gli oggetti all'interfaccia\n",
    "flying_test(blu)\n",
    "flying_test(peggy)"
   ]
  },
  {
   "cell_type": "code",
   "execution_count": 1,
   "metadata": {},
   "outputs": [
    {
     "name": "stdout",
     "output_type": "stream",
     "text": [
      "(0,0)\n",
      "(1,5)\n"
     ]
    }
   ],
   "source": [
    "# Overloading degli operatori\n",
    "\n",
    "class Point:\n",
    "    def __init__(self, x = 0, y = 0):     # con i valori di default il costruttore è di fatto polimorfo\n",
    "        self.x = x\n",
    "        self.y = y\n",
    "    \n",
    "    def __str__(self):                           # definizione del formato per str o format\n",
    "        return \"({0},{1})\".format(self.x,self.y)\n",
    "    \n",
    "    def __add__(self,other):                     # definizione del comportamento di '+'\n",
    "        x = self.x + other.x\n",
    "        y = self.y + other.y\n",
    "        return Point(x,y)\n",
    "    \n",
    "p1 = Point(2,3)\n",
    "p2 = Point(-1,2)\n",
    "p3 = Point()\n",
    "print(p3)\n",
    "print(p1 + p2)"
   ]
  },
  {
   "cell_type": "markdown",
   "metadata": {},
   "source": [
    "<table border=\"1\">\n",
    "\t<caption>Operator Overloading Special Functions in Python</caption>\n",
    "\t<tbody>\n",
    "\t\t<tr>\n",
    "\t\t\t<th>Operator</th>\n",
    "\t\t\t<th>Expression</th>\n",
    "\t\t\t<th>Internally</th>\n",
    "\t\t</tr>\n",
    "\t\t<tr>\n",
    "\t\t\t<td>Addition</td>\n",
    "\t\t\t<td>p1 + p2</td>\n",
    "\t\t\t<td>p1.__add__(p2)</td>\n",
    "\t\t</tr>\n",
    "\t\t<tr>\n",
    "\t\t\t<td>Subtraction</td>\n",
    "\t\t\t<td>p1 - p2</td>\n",
    "\t\t\t<td>p1.__sub__(p2)</td>\n",
    "\t\t</tr>\n",
    "\t\t<tr>\n",
    "\t\t\t<td>Multiplication</td>\n",
    "\t\t\t<td>p1 * p2</td>\n",
    "\t\t\t<td>p1.__mul__(p2)</td>\n",
    "\t\t</tr>\n",
    "\t\t<tr>\n",
    "\t\t\t<td>Power</td>\n",
    "\t\t\t<td>p1 ** p2</td>\n",
    "\t\t\t<td>p1.__pow__(p2)</td>\n",
    "\t\t</tr>\n",
    "\t\t<tr>\n",
    "\t\t\t<td>Division</td>\n",
    "\t\t\t<td>p1 / p2</td>\n",
    "\t\t\t<td>p1.__truediv__(p2)</td>\n",
    "\t\t</tr>\n",
    "\t\t<tr>\n",
    "\t\t\t<td>Floor Division</td>\n",
    "\t\t\t<td>p1 // p2</td>\n",
    "\t\t\t<td>p1.__floordiv__(p2)</td>\n",
    "\t\t</tr>\n",
    "\t\t<tr>\n",
    "\t\t\t<td>Remainder (modulo)</td>\n",
    "\t\t\t<td>p1 % p2</td>\n",
    "\t\t\t<td>p1.__mod__(p2)</td>\n",
    "\t\t</tr>\n",
    "\t\t<tr>\n",
    "\t\t\t<td>Bitwise Left Shift</td>\n",
    "\t\t\t<td>p1 &lt;&lt; p2</td>\n",
    "\t\t\t<td>p1.__lshift__(p2)</td>\n",
    "\t\t</tr>\n",
    "\t\t<tr>\n",
    "\t\t\t<td>Bitwise Right Shift</td>\n",
    "\t\t\t<td>p1 &gt;&gt; p2</td>\n",
    "\t\t\t<td>p1.__rshift__(p2)</td>\n",
    "\t\t</tr>\n",
    "\t\t<tr>\n",
    "\t\t\t<td>Bitwise AND</td>\n",
    "\t\t\t<td>p1 &amp; p2</td>\n",
    "\t\t\t<td>p1.__and__(p2)</td>\n",
    "\t\t</tr>\n",
    "\t\t<tr>\n",
    "\t\t\t<td>Bitwise OR</td>\n",
    "\t\t\t<td>p1 | p2</td>\n",
    "\t\t\t<td>p1.__or__(p2)</td>\n",
    "\t\t</tr>\n",
    "\t\t<tr>\n",
    "\t\t\t<td>Bitwise XOR</td>\n",
    "\t\t\t<td>p1 ^ p2</td>\n",
    "\t\t\t<td>p1.__xor__(p2)</td>\n",
    "\t\t</tr>\n",
    "\t\t<tr>\n",
    "\t\t\t<td>Bitwise NOT</td>\n",
    "\t\t\t<td>~p1</td>\n",
    "\t\t\t<td>p1.__invert__()</td>\n",
    "\t\t</tr>\n",
    "\t</tbody>\n",
    "</table>\n",
    "<br><br><br><br>\n",
    "<table border=\"1\" summary=\"Comparison Operator Overloading in Python\" width=\"500\">\n",
    "\t<caption>Comparison Operator Overloading in Python</caption>\n",
    "\t<tbody>\n",
    "\t\t<tr>\n",
    "\t\t\t<th scope=\"col\" width=\"187\">Operator</th>\n",
    "\t\t\t<th scope=\"col\" width=\"135\">Expression</th>\n",
    "\t\t\t<th scope=\"col\" width=\"156\">Internally</th>\n",
    "\t\t</tr>\n",
    "\t\t<tr>\n",
    "\t\t\t<td>Less than</td>\n",
    "\t\t\t<td>p1 &lt; p2</td>\n",
    "\t\t\t<td>p1.__lt__(p2)</td>\n",
    "\t\t</tr>\n",
    "\t\t<tr>\n",
    "\t\t\t<td>Less than or equal to</td>\n",
    "\t\t\t<td>p1 &lt;= p2</td>\n",
    "\t\t\t<td>p1.__le__(p2)</td>\n",
    "\t\t</tr>\n",
    "\t\t<tr>\n",
    "\t\t\t<td>\n",
    "\t\t\t\t<p>Equal to</p>\n",
    "\t\t\t</td>\n",
    "\t\t\t<td>p1 == p2</td>\n",
    "\t\t\t<td>p1.__eq__(p2)</td>\n",
    "\t\t</tr>\n",
    "\t\t<tr>\n",
    "\t\t\t<td>Not equal to</td>\n",
    "\t\t\t<td>p1 != p2</td>\n",
    "\t\t\t<td>p1.__ne__(p2)</td>\n",
    "\t\t</tr>\n",
    "\t\t<tr>\n",
    "\t\t\t<td>Greater than</td>\n",
    "\t\t\t<td>p1 &gt; p2</td>\n",
    "\t\t\t<td>p1.__gt__(p2)</td>\n",
    "\t\t</tr>\n",
    "\t\t<tr>\n",
    "\t\t\t<td>Greater than or equal to</td>\n",
    "\t\t\t<td>p1 &gt;= p2</td>\n",
    "\t\t\t<td>p1.__ge__(p2)</td>\n",
    "\t\t</tr>\n",
    "\t</tbody>\n",
    "</table>\n"
   ]
  },
  {
   "cell_type": "code",
   "execution_count": 2,
   "metadata": {},
   "outputs": [
    {
     "data": {
      "text/plain": [
       "4"
      ]
     },
     "execution_count": 2,
     "metadata": {},
     "output_type": "execute_result"
    }
   ],
   "source": [
    "# set e get attraverso il decoratore @property\n",
    "\n",
    "\n",
    "class C:\n",
    "    def __init__(self):\n",
    "        self._x = None\n",
    "\n",
    "    @property\n",
    "    def x(self):\n",
    "        \"\"\"I'm the 'x' property.\"\"\"\n",
    "        return self._x\n",
    "\n",
    "    @x.setter\n",
    "    def x(self, value):\n",
    "        self._x = value\n",
    "\n",
    "    @x.deleter\n",
    "    def x(self):\n",
    "        del self._x\n",
    "        \n",
    "classe = C()       # creiamo l'oggetto\n",
    "classe.x=4         # impostiamo la proprietà\n",
    "classe.x           # la leggiamo"
   ]
  },
  {
   "cell_type": "code",
   "execution_count": 3,
   "metadata": {},
   "outputs": [
    {
     "ename": "AttributeError",
     "evalue": "'C' object has no attribute '_x'",
     "output_type": "error",
     "traceback": [
      "\u001b[0;31m---------------------------------------------------------------------------\u001b[0m",
      "\u001b[0;31mAttributeError\u001b[0m                            Traceback (most recent call last)",
      "\u001b[0;32m<ipython-input-3-d4d3340c91da>\u001b[0m in \u001b[0;36m<module>\u001b[0;34m\u001b[0m\n\u001b[1;32m      1\u001b[0m \u001b[0;32mdel\u001b[0m \u001b[0mclasse\u001b[0m\u001b[0;34m.\u001b[0m\u001b[0mx\u001b[0m      \u001b[0;31m# usiamo il deleter\u001b[0m\u001b[0;34m\u001b[0m\u001b[0;34m\u001b[0m\u001b[0m\n\u001b[0;32m----> 2\u001b[0;31m \u001b[0mclasse\u001b[0m\u001b[0;34m.\u001b[0m\u001b[0mx\u001b[0m          \u001b[0;31m# il simbolo non è più definito\u001b[0m\u001b[0;34m\u001b[0m\u001b[0;34m\u001b[0m\u001b[0m\n\u001b[0m\u001b[1;32m      3\u001b[0m \u001b[0;34m\u001b[0m\u001b[0m\n",
      "\u001b[0;32m<ipython-input-2-288908d06eda>\u001b[0m in \u001b[0;36mx\u001b[0;34m(self)\u001b[0m\n\u001b[1;32m      9\u001b[0m     \u001b[0;32mdef\u001b[0m \u001b[0mx\u001b[0m\u001b[0;34m(\u001b[0m\u001b[0mself\u001b[0m\u001b[0;34m)\u001b[0m\u001b[0;34m:\u001b[0m\u001b[0;34m\u001b[0m\u001b[0;34m\u001b[0m\u001b[0m\n\u001b[1;32m     10\u001b[0m         \u001b[0;34m\"\"\"I'm the 'x' property.\"\"\"\u001b[0m\u001b[0;34m\u001b[0m\u001b[0;34m\u001b[0m\u001b[0m\n\u001b[0;32m---> 11\u001b[0;31m         \u001b[0;32mreturn\u001b[0m \u001b[0mself\u001b[0m\u001b[0;34m.\u001b[0m\u001b[0m_x\u001b[0m\u001b[0;34m\u001b[0m\u001b[0;34m\u001b[0m\u001b[0m\n\u001b[0m\u001b[1;32m     12\u001b[0m \u001b[0;34m\u001b[0m\u001b[0m\n\u001b[1;32m     13\u001b[0m     \u001b[0;34m@\u001b[0m\u001b[0mx\u001b[0m\u001b[0;34m.\u001b[0m\u001b[0msetter\u001b[0m\u001b[0;34m\u001b[0m\u001b[0;34m\u001b[0m\u001b[0m\n",
      "\u001b[0;31mAttributeError\u001b[0m: 'C' object has no attribute '_x'"
     ]
    }
   ],
   "source": [
    "del classe.x      # usiamo il deleter\n",
    "classe.x          # il simbolo non è più definito\n",
    "\n"
   ]
  },
  {
   "cell_type": "code",
   "execution_count": 4,
   "metadata": {},
   "outputs": [
    {
     "data": {
      "text/plain": [
       "6"
      ]
     },
     "execution_count": 4,
     "metadata": {},
     "output_type": "execute_result"
    }
   ],
   "source": [
    "classe.x=6      # ridefiniamo la proprietà\n",
    "\n",
    "classe.x"
   ]
  },
  {
   "cell_type": "code",
   "execution_count": 12,
   "metadata": {},
   "outputs": [
    {
     "name": "stdout",
     "output_type": "stream",
     "text": [
      "My name is Sue, I'm a 5 years old bird\n",
      "My name is Jack, I'm a 4 years old penguin\n",
      "My name is Joe, I'm a 3 years old parrot\n",
      "True\n",
      "True\n",
      "My name is Jack, I'm a 4 years old parrot\n"
     ]
    }
   ],
   "source": [
    "# Metodi statici e metodi di classe\n",
    "\n",
    "class Bird:\n",
    "\n",
    "    # attributo di classe\n",
    "    species = \"bird\"\n",
    "\n",
    "    # __init__ è il costruttore della classe: inizializza gli oggetti istanza\n",
    "    def __init__(self, name, age): # i veri parametri del costruttore o di un metodo di istanza\n",
    "                                   # vanno elencati dopo self che indica solo che ci si riferisce\n",
    "                                   # all'oggetto corrente\n",
    "        \n",
    "        # attributi di istanza\n",
    "        # gestiti attraverso il riferimento self all'oggetto corrente\n",
    "        self.name = name\n",
    "        self.age = age\n",
    "\n",
    "    # metodi di istanza\n",
    "    def sing(self, song):\n",
    "        return \"{} sings {}\".format(self.name, song)\n",
    "\n",
    "    def dance(self):\n",
    "        return \"{} is now dancing\".format(self.name)\n",
    "    \n",
    "    def __repr__(self): # __repr__ fornisce la stringa che viene stampata da print richiamata sull'oggetto\n",
    "        return f\"My name is {self.name}, I'm a {self.age} years old {self.__class__.species}\"\n",
    "    \n",
    "    # creiamo uccelli di specie diverse: possiamo accedere e modificare lo stato della classe\n",
    "    @classmethod\n",
    "    def makeParrot(cls,name,age):\n",
    "        cls.species = \"parrot\"        \n",
    "        return cls(name,age)\n",
    "    \n",
    "    @classmethod\n",
    "    def makePenguin(cls,name,age):\n",
    "        cls.species = \"penguin\"        \n",
    "        return cls(name,age)\n",
    "    \n",
    "    # tutti gli uccelli volano: è tipico della classe\n",
    "    # un metodo statico non può accedere né lo stato dell'istanza né quello della classe\n",
    "    @staticmethod\n",
    "    def canFly():\n",
    "        return True\n",
    "\n",
    "\n",
    "sue = Bird('Sue',5)\n",
    "print(sue)\n",
    "\n",
    "jack = Bird.makePenguin('Jack',4)\n",
    "print(jack)\n",
    "\n",
    "joe = Bird.makeParrot('Joe',3)\n",
    "print(joe)\n",
    "\n",
    "print(Bird.canFly())  # in Python anche gli oggetti istanza possono usare i metodi statici:\n",
    "print(joe.canFly())\n",
    "\n",
    "# dopo la chiamata a makeParrot() lo stato interno è cambiato: non è un vero factory pattern\n",
    "print(jack)"
   ]
  },
  {
   "cell_type": "code",
   "execution_count": null,
   "metadata": {},
   "outputs": [],
   "source": []
  }
 ],
 "metadata": {
  "interpreter": {
   "hash": "aee8b7b246df8f9039afb4144a1f6fd8d2ca17a180786b69acc140d282b71a49"
  },
  "kernelspec": {
   "display_name": "Python 3.9.7 64-bit",
   "name": "python3"
  },
  "language_info": {
   "codemirror_mode": {
    "name": "ipython",
    "version": 3
   },
   "file_extension": ".py",
   "mimetype": "text/x-python",
   "name": "python",
   "nbconvert_exporter": "python",
   "pygments_lexer": "ipython3",
   "version": "3.10.7"
  }
 },
 "nbformat": 4,
 "nbformat_minor": 4
}
