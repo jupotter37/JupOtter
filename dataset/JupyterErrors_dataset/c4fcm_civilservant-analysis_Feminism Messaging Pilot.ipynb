{
 "cells": [
  {
   "cell_type": "code",
   "execution_count": 102,
   "metadata": {},
   "outputs": [
    {
     "name": "stderr",
     "output_type": "stream",
     "text": [
      "substituting https://oauth.reddit.com for https://api.reddit.com in url\n",
      "GET: https://oauth.reddit.com/api/v1/me.json\n",
      "POST: https://api.reddit.com/api/v1/access_token/\n",
      "substituting https://oauth.reddit.com for https://api.reddit.com in url\n",
      "GET: https://oauth.reddit.com/api/v1/me.json\n",
      "substituting https://oauth.reddit.com for https://api.reddit.com in url\n",
      "GET: https://oauth.reddit.com/api/v1/me.json\n"
     ]
    }
   ],
   "source": [
    "%matplotlib inline\n",
    "import inspect, os, sys, copy, pytz, re, glob, random, praw, csv\n",
    "import simplejson as json\n",
    "import pandas as pd\n",
    "from dateutil import parser\n",
    "import datetime\n",
    "import matplotlib.pyplot as plt   # Matplotlib for plotting\n",
    "import matplotlib.dates as md\n",
    "import numpy as np\n",
    "import seaborn as sns\n",
    "from collections import Counter, defaultdict\n",
    "import re, urllib\n",
    "\n",
    "from pathlib import Path\n",
    "from datetime import datetime\n",
    "import logging\n",
    "\n",
    "utc=pytz.UTC\n",
    "\n",
    "ENV = \"production\"\n",
    "os.environ['CS_ENV'] = 'production'\n",
    "BASE_DIR = \"/home/nathan/CivilServant\"\n",
    "FILE_BASE_DIR=\"/home/nathan/reddit_archive/\"\n",
    "sys.path.append(BASE_DIR)\n",
    "subreddit_id = \"2qr7i\"\n",
    "\n",
    "LOG_PATH = str(Path(BASE_DIR, \"logs\", \"praw_messenger_%s.log\" % ENV))\n",
    "logging.basicConfig(filename=LOG_PATH, level=logging.INFO)\n",
    "logging.getLogger().addHandler(logging.StreamHandler(sys.stdout))\n",
    "\n",
    "ARCHIVE_DIR = \"/home/nathan/reddit_archive/03.2017\"\n",
    "\n",
    "with open(os.path.join(BASE_DIR, \"config\") + \"/{env}.json\".format(env=ENV), \"r\") as config:\n",
    "  DBCONFIG = json.loads(config.read())\n",
    "\n",
    "### LOAD SQLALCHEMY\n",
    "from sqlalchemy import create_engine\n",
    "from sqlalchemy.orm import sessionmaker\n",
    "from sqlalchemy import text, and_, or_\n",
    "from app.models import Base, SubredditPage, FrontPage, Subreddit, Post, ModAction, Experiment\n",
    "from utils.common import PageType\n",
    "\n",
    "db_engine = create_engine(\"mysql://{user}:{password}@{host}/{database}\".format(\n",
    "    host = DBCONFIG['host'],\n",
    "    user = DBCONFIG['user'],\n",
    "    password = DBCONFIG['password'],\n",
    "    database = DBCONFIG['database']))\n",
    "DBSession = sessionmaker(bind=db_engine)\n",
    "db_session = DBSession()\n",
    "\n",
    "### LOAD PRAW\n",
    "import reddit.connection\n",
    "conn = reddit.connection.Connect(base_dir=BASE_DIR)\n",
    "r = conn.connect(use_db_keys=False)\n",
    "\n",
    "#notebook_dir = os.getcwd()\n",
    "#os.chdir(notebook_dir)\n",
    "#import praw.errors\n",
    "\n",
    "\n",
    "### FILTER OUT DEPRECATION WARNINGS ASSOCIATED WITH DECORATORS\n",
    "# https://github.com/ipython/ipython/issues/9242\n",
    "#import warnings\n",
    "#warnings.filterwarnings('ignore', category=DeprecationWarning, message='.*use @default decorator instead.*')"
   ]
  },
  {
   "cell_type": "markdown",
   "metadata": {},
   "source": [
    "# Sample Recent r/feminism newcomer commenters"
   ]
  },
  {
   "cell_type": "markdown",
   "metadata": {},
   "source": [
    "### Data integrity checks and load background data"
   ]
  },
  {
   "cell_type": "code",
   "execution_count": 93,
   "metadata": {},
   "outputs": [],
   "source": [
    "## LOOK AT HOW RECENT OUR COMMENTS DATASET IS (HOPE THAT WE HAVE ALL THE WAY TO THE BEGINNING OF MARCH)\n",
    "## LOOK AT HOW RECENT OUR SUBMISSIONS DATASET IS (HOPE THAT WE HAVE ALL THE WAY TO THE BEGINNING OF MARCH)\n",
    "\n",
    "## CONSTRUCT A MEASURE OF THE SIX MONTH WINDOW (FROM Feminism Newcomer Analysis)"
   ]
  },
  {
   "cell_type": "code",
   "execution_count": 94,
   "metadata": {},
   "outputs": [
    {
     "name": "stdout",
     "output_type": "stream",
     "text": [
      "Loaded 8061 Comments\n"
     ]
    }
   ],
   "source": [
    "begin_date = '2018-03-01'\n",
    "query_text = \"\"\"\n",
    "select * from comments \n",
    "    WHERE subreddit_id = '2qr7i'\n",
    "    AND created_at >= {begin_date}\n",
    "    ORDER BY created_utc ASC;\n",
    "\"\"\".format(begin_date = begin_date)\n",
    "\n",
    "## ADDED THE SECOND CREATED_AT TO PRESERVE EXPERIMENT INTEGRITY\n",
    "\n",
    "database_comments = []\n",
    "\n",
    "for row in db_engine.execute(text(query_text)):\n",
    "    comment = {}\n",
    "    comment_data = json.loads(row['comment_data'])\n",
    "    for key in comment_data.keys():\n",
    "        comment[key] = comment_data[key]\n",
    "    for key in row.keys():\n",
    "        comment[key]=row[key]\n",
    "    comment['created'] = comment['created_utc']\n",
    "    database_comments.append(comment)\n",
    "    \n",
    "print(\"Loaded {0} Comments\".format(len(database_comments)))"
   ]
  },
  {
   "cell_type": "code",
   "execution_count": 95,
   "metadata": {},
   "outputs": [
    {
     "name": "stdout",
     "output_type": "stream",
     "text": [
      "Loaded 85412 Comments\n",
      "Loaded 90555 Comment lines\n"
     ]
    }
   ],
   "source": [
    "file_comments = []\n",
    "comment_ids = set()\n",
    "comment_count = 0\n",
    "\n",
    "comments_filename=\"full_feminism_comments_through_02_2018.json\"\n",
    "\n",
    "with open(os.path.join(FILE_BASE_DIR, \"selected_output\", comments_filename), \"r\") as f:\n",
    "    for line in f:\n",
    "        item = json.loads(line)\n",
    "        if(item['id'] not in comment_ids):\n",
    "            item['created'] = datetime.utcfromtimestamp(float(item['created_utc']))\n",
    "            item['body.charlength'] = len(item['body'])\n",
    "            #item['body'] = None\n",
    "            file_comments.append(item)\n",
    "            comment_ids.add(item['id'])\n",
    "        comment_count += 1\n",
    "#file_comments = sorted(file_comments, key = lambda x: x['created'])        \n",
    "\n",
    "print(\"Loaded {0} Comments\".format(len(file_comments)))\n",
    "print(\"Loaded {0} Comment lines\".format(comment_count))"
   ]
  },
  {
   "cell_type": "markdown",
   "metadata": {},
   "source": [
    "### Add database comments to file-loaded comments"
   ]
  },
  {
   "cell_type": "code",
   "execution_count": 6,
   "metadata": {},
   "outputs": [
    {
     "name": "stdout",
     "output_type": "stream",
     "text": [
      "Merged comment datasets. Added 7088 comments and skipped 148 duplicates\n"
     ]
    }
   ],
   "source": [
    "keys_to_include = []\n",
    "for key in file_comments[0].keys():\n",
    "    if key in database_comments[0].keys():\n",
    "        keys_to_include.append(key)\n",
    "#print(\"Keys in file and in database: [{0}]\".format((\",\").join(keys_to_skip)))\n",
    "\n",
    "\n",
    "all_comments = file_comments\n",
    "\n",
    "added_comment_ids = 0\n",
    "duplicate_comment_ids = 0\n",
    "\n",
    "for comment in database_comments:\n",
    "    if comment['id'] not in comment_ids:\n",
    "        trimmed_comment = {}\n",
    "        for key in keys_to_include:\n",
    "            trimmed_comment[key] = comment[key]\n",
    "        all_comments.append(trimmed_comment)\n",
    "        comment_ids.add(comment['id'])\n",
    "        added_comment_ids += 1\n",
    "    else:\n",
    "        duplicate_comment_ids += 1\n",
    "print(\"Merged comment datasets. Added {0} comments and skipped {1} duplicates\".format(\n",
    "    added_comment_ids, duplicate_comment_ids))\n",
    "\n",
    "## NOW SORT COMMENTS\n",
    "all_comments = sorted(all_comments, key = lambda x: x['created'])        "
   ]
  },
  {
   "cell_type": "markdown",
   "metadata": {},
   "source": [
    "### Record the number of previous comments that a participant made in the prior six months"
   ]
  },
  {
   "cell_type": "code",
   "execution_count": 7,
   "metadata": {},
   "outputs": [
    {
     "name": "stdout",
     "output_type": "stream",
     "text": [
      "\n",
      "comments............................................................................................"
     ]
    }
   ],
   "source": [
    "def previous_actions():\n",
    "    return {\"comments\":[], \"posts\":[]}\n",
    "\n",
    "author_records = defaultdict(previous_actions)\n",
    "\n",
    "for item in all_comments:\n",
    "    author_id = item['author']\n",
    "    author_records[author_id]['comments'].append(item)\n",
    "\n",
    "#one_eighty_days in seconds\n",
    "def count_if_eligible(current, comparator):\n",
    "    one_eighty_days = 60*60*24*180\n",
    "    if(current['created'] > comparator['created'] and \n",
    "       (current['created'] - comparator['created']).total_seconds()<one_eighty_days):\n",
    "        return 1\n",
    "    return 0\n",
    "\n",
    "earliest_date = all_comments[0]['created']\n",
    "\n",
    "sys.stdout.write(\"\\ncomments\")\n",
    "sys.stdout.flush()\n",
    "items_processed = 0\n",
    "for item in all_comments:\n",
    "    previous_comments = 0\n",
    "    for comment in author_records[item['author']]['comments']:\n",
    "        if(item['created'] > comment['created']):\n",
    "            previous_comments += count_if_eligible(item, comment) \n",
    "    items_processed += 1\n",
    "    item['previous.comments'] = previous_comments\n",
    "    item['eligible'] = item['created'] > earliest_date\n",
    "    \n",
    "    if(items_processed % 1000 == 0):\n",
    "        sys.stdout.write(\".\")\n",
    "        sys.stdout.flush()\n",
    "    "
   ]
  },
  {
   "cell_type": "markdown",
   "metadata": {},
   "source": [
    "# Create a Sample of Recent Commenters \n",
    "First time commenters within the last 45 days"
   ]
  },
  {
   "cell_type": "code",
   "execution_count": 8,
   "metadata": {},
   "outputs": [],
   "source": [
    "recent_comment_in_seconds = 60*60*24*45\n",
    "current_time = datetime.utcnow()"
   ]
  },
  {
   "cell_type": "code",
   "execution_count": 9,
   "metadata": {},
   "outputs": [
    {
     "name": "stdout",
     "output_type": "stream",
     "text": [
      "Total comments: 92500. Eligible comments: 1632\n"
     ]
    }
   ],
   "source": [
    "eligible_comments = [x for x in all_comments if x['eligible'] and \n",
    "                      (current_time - x['created']).total_seconds() < recent_comment_in_seconds and\n",
    "                      x['previous.comments']==0]\n",
    "\n",
    "print(\"Total comments: {0}. Eligible comments: {1}\".format(\n",
    "    len(all_comments),\n",
    "    len(eligible_comments)))"
   ]
  },
  {
   "cell_type": "markdown",
   "metadata": {},
   "source": [
    "### Label comments by how many weeks previously they commented for the first time (for a stratified random sample)"
   ]
  },
  {
   "cell_type": "code",
   "execution_count": 10,
   "metadata": {},
   "outputs": [],
   "source": [
    "one_week_in_seconds = 60*60*24*7\n",
    "\n",
    "for comment in eligible_comments:\n",
    "    comment['first.comment.week.diff'] = int((current_time - comment['created']).total_seconds() / \n",
    "                                             one_week_in_seconds)\n",
    "    \n",
    "    \n",
    "    "
   ]
  },
  {
   "cell_type": "code",
   "execution_count": 11,
   "metadata": {},
   "outputs": [
    {
     "data": {
      "image/png": "[encoded data removed]",
      "text/plain": [
       "<Figure size 432x288 with 1 Axes>"
      ]
     },
     "metadata": {},
     "output_type": "display_data"
    }
   ],
   "source": [
    "plt.hist([comment['first.comment.week.diff'] for comment in eligible_comments])\n",
    "plt.title(\"How many weeks previously was this comment posted\")\n",
    "plt.show()"
   ]
  },
  {
   "cell_type": "markdown",
   "metadata": {},
   "source": [
    "### Create a stratified random sample of accounts to message, based on the elapsed number of weeks since they originally posted their first comment\n",
    "Later, we may want to do a post-hoc analysis of how many comments they had previously made in the subreddit. Note that we will want to include them int he sample even if their account doesn't exist, because we're going to be including those kinds of accounts in the study, and we will want to think about that attrition as an expected part of the sample."
   ]
  },
  {
   "cell_type": "code",
   "execution_count": 12,
   "metadata": {},
   "outputs": [],
   "source": [
    "eligible_by_week = {}\n",
    "for key in set([x['first.comment.week.diff'] for x in eligible_comments]):\n",
    "    eligible_by_week[key] = [x['author'] for x in eligible_comments if \n",
    "                             x['first.comment.week.diff'] == key]"
   ]
  },
  {
   "cell_type": "code",
   "execution_count": 13,
   "metadata": {},
   "outputs": [
    {
     "name": "stdout",
     "output_type": "stream",
     "text": [
      "Week age 0: 220 authors \n",
      "Week age 1: 311 authors \n",
      "Week age 2: 217 authors \n",
      "Week age 3: 284 authors \n",
      "Week age 4: 264 authors \n",
      "Week age 5: 264 authors \n",
      "Week age 6: 72 authors \n"
     ]
    }
   ],
   "source": [
    "for key in sorted(eligible_by_week.keys()):\n",
    "    print(\"Week age {0}: {1} authors \".format(key, len(eligible_by_week[key])))"
   ]
  },
  {
   "cell_type": "code",
   "execution_count": 40,
   "metadata": {},
   "outputs": [
    {
     "name": "stdout",
     "output_type": "stream",
     "text": [
      "Week age 0: 100 authors \n",
      "Week age 1: 100 authors \n",
      "Week age 2: 100 authors \n",
      "Week age 3: 100 authors \n",
      "Week age 4: 100 authors \n"
     ]
    }
   ],
   "source": [
    "##  Decision: survey 100 authors per group\n",
    "##  Only survey the last 4 weeks\n",
    "random.seed(880442) # current milliseconds at code time\n",
    "sample_size = 100\n",
    "selected_by_week = {}\n",
    "for week in sorted(eligible_by_week.keys()):\n",
    "    if week <=4:\n",
    "        selected_by_week[week] = random.sample(eligible_by_week[week], sample_size)\n",
    "        \n",
    "for week in sorted(selected_by_week.keys()):\n",
    "    print(\"Week age {0}: {1} authors \".format(week, len(selected_by_week[week])))"
   ]
  },
  {
   "cell_type": "code",
   "execution_count": 96,
   "metadata": {},
   "outputs": [
    {
     "data": {
      "text/plain": [
       "['Mr_Saturn_Valley',\n",
       " 'xydroh',\n",
       " 'ZenIsNotChosen',\n",
       " 'NathanRav',\n",
       " 'cadhlacrude',\n",
       " 'jnb64',\n",
       " 'jenrd',\n",
       " 'dark_side_of_pluto',\n",
       " 'eliechallita',\n",
       " 'TGP2005',\n",
       " 'iamlikeanonion',\n",
       " 'Europesupportsrape',\n",
       " 'inoahguy98',\n",
       " 'cierachanyel',\n",
       " 'GrandAce',\n",
       " 'ejoburke90',\n",
       " 'water_vapour',\n",
       " 'Original_Castor_Troy',\n",
       " 'aardBot',\n",
       " 'Swarmingvulture',\n",
       " 'Kusariiii',\n",
       " 'LauraTFem',\n",
       " 'banannercler',\n",
       " 'philotorzar',\n",
       " 'CJ10002000',\n",
       " 'Jen909',\n",
       " 'Nitro-Nipples',\n",
       " 'Plyad1',\n",
       " 'Parsparis',\n",
       " 'forestheart13',\n",
       " 'ronmoss-',\n",
       " 'dgcrew',\n",
       " 'etherealoceanbaby',\n",
       " 'misanthropester',\n",
       " 'liusual',\n",
       " '120kRolex',\n",
       " 'sarahsilverxo',\n",
       " 'LilMadoka',\n",
       " 'Ep1cDuCK',\n",
       " 'ENrocket',\n",
       " 'noah1754',\n",
       " 'Tankpiggy',\n",
       " 'quagley',\n",
       " 'A_Lady_Loves',\n",
       " 'Bulmas_Panties',\n",
       " 'POOTISFAIRY',\n",
       " 'rmrfpatriarchy',\n",
       " 'Ojoojoji',\n",
       " 'wildronin1129',\n",
       " 'seddfu',\n",
       " 'elijahtkitty',\n",
       " 'TheOneFreeEngineer',\n",
       " 'twitchingJay',\n",
       " 'TheLovelyLorelei',\n",
       " 'VanillaMonster',\n",
       " 'PhatTaco',\n",
       " 'bromelliad',\n",
       " 'lil_tea_bag',\n",
       " 'Cardoba',\n",
       " 'TheBloxdude',\n",
       " 'Beltch',\n",
       " 'Fatsolamb22',\n",
       " 'silvastacka',\n",
       " 'Mazza111',\n",
       " 'everydayone',\n",
       " 'Luca2018',\n",
       " 'manahiljee123',\n",
       " 'skyler4722',\n",
       " 'leeleereed',\n",
       " 'bumblebeesnotface',\n",
       " 'OsseousSixty',\n",
       " 'edie_carm',\n",
       " 'BobZeBuildet',\n",
       " 'baconcraft',\n",
       " 'for_t2',\n",
       " 'Thesparky616',\n",
       " 'Fluchin',\n",
       " 'mercenarius',\n",
       " 'Case-pcpart',\n",
       " 'qwertyytrewq2017',\n",
       " 'deimos31415',\n",
       " 'wanderwithsonder',\n",
       " 'wapttn',\n",
       " 'Zeehammer',\n",
       " 'TheBookReader23',\n",
       " 'Sheevy_Boi',\n",
       " 'postitmalone',\n",
       " 'MajorDanger85',\n",
       " 'natash-a',\n",
       " '1mGenius',\n",
       " 'ME_kaleidoscope',\n",
       " 'Nikolai_Narcisse',\n",
       " 'AliINSANITY',\n",
       " 'UmbrellalikeWetness',\n",
       " 'sinnerbarb',\n",
       " 'krippler_',\n",
       " 'Kmany1',\n",
       " 'thEmeMemEcoNomIst',\n",
       " 'Aftershock_Media',\n",
       " 'instrumentnerd']"
      ]
     },
     "execution_count": 96,
     "metadata": {},
     "output_type": "execute_result"
    }
   ],
   "source": []
  },
  {
   "cell_type": "markdown",
   "metadata": {},
   "source": [
    "# Construct and personalize the message"
   ]
  },
  {
   "cell_type": "markdown",
   "metadata": {},
   "source": [
    "## Construct the message template"
   ]
  },
  {
   "cell_type": "code",
   "execution_count": 32,
   "metadata": {},
   "outputs": [],
   "source": [
    "MESSAGE_SUBJECT = \"Welcome! Help r/feminism understand first-time commenters with 3 questions\"\n",
    "MESSAGE_TEMPLATE = \"\"\"Dear {username},\n",
    "\n",
    "Hello and welcome from r/feminism! \n",
    "\n",
    "Might you answer a 2 minute, 3-question survey to help us learn more about your experience? We're' currently working with researchers at Princeton University to improve newcomer experiences.\n",
    "\n",
    "[Learn more and answer the survey here]({url}). Thanks! \n",
    "\n",
    "-- [CivilServant](http://civilservant.io/) and the [r/feminism moderators](https://www.reddit.com/r/feminism/about/moderators)\n",
    "\"\"\""
   ]
  },
  {
   "cell_type": "code",
   "execution_count": 33,
   "metadata": {},
   "outputs": [
    {
     "name": "stdout",
     "output_type": "stream",
     "text": [
      "Dear natematias,\n",
      "\n",
      "Hello and welcome from r/feminism! \n",
      "\n",
      "Might you answer a 2 minute, 3-question survey to help us learn more about your experience? We're' currently working with researchers at Princeton University to improve newcomer experiences.\n",
      "\n",
      "[Learn more and answer the survey here](https://docs.google.com/forms/d/e/1FAIpQLSfmgOcsF0ALqWGPHGpJq2cwUr-xIG-uizbQqXPzPuTkrPM-Lg/viewform?usp=pp_url&entry.360321409=natematias&entry.1933578897). Thanks! \n",
      "\n",
      "-- [CivilServant](http://civilservant.io/) and the [r/feminism moderators](https://www.reddit.com/r/feminism/about/moderators)\n",
      "\n"
     ]
    }
   ],
   "source": [
    "print(MESSAGE_TEMPLATE.format(username=\"natematias\", \n",
    "                              url=\"https://docs.google.com/forms/d/e/1FAIpQLSfmgOcsF0ALqWGPHGpJq2cwUr-xIG-uizbQqXPzPuTkrPM-Lg/viewform?usp=pp_url&entry.360321409={username}&entry.1933578897\".format(\n",
    "                              username=\"natematias\")))"
   ]
  },
  {
   "cell_type": "code",
   "execution_count": 17,
   "metadata": {},
   "outputs": [],
   "source": [
    "r.send_message(\"natematias\", MESSAGE_SUBJECT, MESSAGE_TEMPLATE.format(username=\"natematias\"))"
   ]
  },
  {
   "cell_type": "markdown",
   "metadata": {},
   "source": [
    "## Add the ability to validate users"
   ]
  },
  {
   "cell_type": "code",
   "execution_count": 53,
   "metadata": {},
   "outputs": [],
   "source": [
    "def get_reddit_user(username):\n",
    "    try:\n",
    "        user_dict = r.get_redditor(username, fetch=True).json_dict\n",
    "        logging.info(\"User %s found: %s\" %(username, str(user_dict)))\n",
    "        return user_dict\n",
    "    except praw.errors.NotFound as e:\n",
    "        logging.error(\"User not found: %s\" % username)\n",
    "    except Exception as e:\n",
    "        logging.exception(\"Failed to retrieve user\")"
   ]
  },
  {
   "cell_type": "code",
   "execution_count": 54,
   "metadata": {},
   "outputs": [],
   "source": [
    "import time\n",
    "send_log_dir = \"/home/nathan/CivilServant-Analysis/SOC412/feminism\"\n",
    "send_log_filename = \"message_sender_feminism_04_17_2018.csv\"\n",
    "def sent_message_previously(username):\n",
    "    with open(os.path.join(send_log_dir, send_log_filename), \"r\") as f:\n",
    "        send_log = []\n",
    "        for row in csv.DictReader(f):\n",
    "            send_log.append(row)\n",
    "            if(username == row['username']):\n",
    "                return True\n",
    "    return False"
   ]
  },
  {
   "cell_type": "markdown",
   "metadata": {},
   "source": [
    "## Add the ability to send messages"
   ]
  },
  {
   "cell_type": "code",
   "execution_count": 55,
   "metadata": {},
   "outputs": [],
   "source": [
    "## RETURN TRUE IF MESSAGE WAS SENT SUCCESSFULLY\n",
    "def send_reddit_message(**message_data):\n",
    "    user = message_data[\"username\"]    \n",
    "    message = MESSAGE_TEMPLATE.format(**message_data)    \n",
    "    try:\n",
    "        logging.info(\"Sending a message to user %s with data %s\" % (user, str(message_data)))\n",
    "        response = r.send_message(user, MESSAGE_SUBJECT, message, raise_captcha_exception=True)\n",
    "        if response[\"errors\"]:\n",
    "            logging.error(\"Error in response when sending a message to user %s: %s\" % (user, str(response)))\n",
    "            return False\n",
    "        else:\n",
    "            logging.info(\"Message successfully sent to user %s\" % user)\n",
    "            return True\n",
    "    except praw.errors.InvalidCaptcha as e:\n",
    "        logging.exception(\"Message sending requires a captcha\")\n",
    "        logging.error(e.response)\n",
    "        return False\n",
    "    except Exception as e:\n",
    "        logging.exception(\"Failed to send message to %s\" % user)\n",
    "        return False"
   ]
  },
  {
   "cell_type": "markdown",
   "metadata": {},
   "source": [
    "## Wrap the messenger function with anything survey-specific"
   ]
  },
  {
   "cell_type": "code",
   "execution_count": 56,
   "metadata": {},
   "outputs": [],
   "source": [
    "def send_survey_message(**message_data):\n",
    "    message = MESSAGE_TEMPLATE.format(**message_data)        \n",
    "    sent_status = send_reddit_message(**message_data)\n",
    "    with open(os.path.join(send_log_dir,send_log_filename), \"a\") as f:\n",
    "        print(\"APPENDING TO FILE: {0}\".format(message_data))\n",
    "        f.write(\",\".join(map(str, [\n",
    "            message_data['username'],\n",
    "            True, #account exists\n",
    "            message_data['get_info_date'],\n",
    "            message_data['deleted'],\n",
    "            message_data['url'],\n",
    "            message_data['first_comment_week'],\n",
    "            sent_status\n",
    "        ])) + \"\\n\")\n",
    "        f.close()\n",
    "    \n",
    "    logging.info(\"first_comment_week: %s\" % message_data[\"first_comment_week\"])\n",
    "    logging.info(\"url: %s\" % message_data[\"url\"])\n",
    "    logging.info(\"get_info_data: %s\" % message_data[\"get_info_date\"])\n",
    "    logging.info(\"deleted: %s\" % message_data[\"deleted\"])\n",
    "    "
   ]
  },
  {
   "cell_type": "code",
   "execution_count": 63,
   "metadata": {},
   "outputs": [],
   "source": [
    "def decide_and_send_to_user(username, first_comment_week):\n",
    "    if(sent_message_previously(username)):\n",
    "        logging.info(\"User %s previously received a message\" % username)\n",
    "        return None\n",
    "    else:\n",
    "        time.sleep(2)\n",
    "        user = get_reddit_user(username)\n",
    "\n",
    "    if user:\n",
    "        send_survey_message(\n",
    "            username = username,\n",
    "            first_comment_week = first_comment_week,\n",
    "            get_info_date = str(datetime.utcnow()),\n",
    "            deleted = False,\n",
    "            url = \"https://docs.google.com/forms/d/e/1FAIpQLSfmgOcsF0ALqWGPHGpJq2cwUr-xIG-uizbQqXPzPuTkrPM-Lg/viewform?usp=pp_url&entry.360321409={username}&entry.1933578897\".format(\n",
    "                username=username))\n",
    "    else:\n",
    "        with open(os.path.join(send_log_dir, send_log_filename), \"a\") as f:\n",
    "            f.write(\",\".join(map(str, [\n",
    "                username,\n",
    "                False,\n",
    "                str(datetime.utcnow()),\n",
    "                None,\n",
    "                None,\n",
    "                first_comment_week,\n",
    "                False\n",
    "            ])) + \"\\n\")\n",
    "            f.close()"
   ]
  },
  {
   "cell_type": "code",
   "execution_count": 115,
   "metadata": {},
   "outputs": [
    {
     "data": {
      "text/plain": [
       "500"
      ]
     },
     "execution_count": 115,
     "metadata": {},
     "output_type": "execute_result"
    }
   ],
   "source": [
    "## TEST SENDING\n",
    "#decide_and_send_to_user(\"natematias\", 1)\n",
    "sum([len(x) for x in selected_by_week.values()])"
   ]
  },
  {
   "cell_type": "markdown",
   "metadata": {
    "scrolled": false
   },
   "source": [
    "# Send Surveys to Participants"
   ]
  },
  {
   "cell_type": "code",
   "execution_count": 65,
   "metadata": {
    "scrolled": true
   },
   "outputs": [
    {
     "name": "stdout",
     "output_type": "stream",
     "text": [
      "Week age 0: 100 authors \n",
      "User Mr_Saturn_Valley previously received a message\n",
      "User xydroh previously received a message\n",
      "User ZenIsNotChosen previously received a message\n",
      "User NathanRav previously received a message\n",
      "User cadhlacrude previously received a message\n",
      "User jnb64 previously received a message\n",
      "User jenrd previously received a message\n",
      "User dark_side_of_pluto previously received a message\n",
      "User eliechallita previously received a message\n",
      "User TGP2005 previously received a message\n",
      "User iamlikeanonion previously received a message\n",
      "User Europesupportsrape previously received a message\n",
      "User inoahguy98 previously received a message\n",
      "User cierachanyel previously received a message\n",
      "User GrandAce previously received a message\n",
      "User ejoburke90 previously received a message\n",
      "User water_vapour previously received a message\n",
      "User Original_Castor_Troy previously received a message\n",
      "User aardBot previously received a message\n",
      "User Swarmingvulture previously received a message\n",
      "User Kusariiii previously received a message\n",
      "User LauraTFem previously received a message\n",
      "User banannercler previously received a message\n",
      "User philotorzar previously received a message\n",
      "User CJ10002000 previously received a message\n",
      "User Jen909 previously received a message\n",
      "User Nitro-Nipples previously received a message\n",
      "User Plyad1 previously received a message\n",
      "User Parsparis previously received a message\n",
      "User forestheart13 previously received a message\n",
      "User ronmoss- previously received a message\n",
      "User dgcrew previously received a message\n",
      "User etherealoceanbaby previously received a message\n",
      "User misanthropester previously received a message\n",
      "User liusual previously received a message\n",
      "User 120kRolex previously received a message\n",
      "User sarahsilverxo previously received a message\n",
      "User LilMadoka previously received a message\n",
      "User Ep1cDuCK previously received a message\n",
      "User ENrocket previously received a message\n",
      "User noah1754 previously received a message\n",
      "User Tankpiggy previously received a message\n",
      "User quagley previously received a message\n",
      "User A_Lady_Loves previously received a message\n",
      "User Bulmas_Panties previously received a message\n",
      "User POOTISFAIRY previously received a message\n",
      "User rmrfpatriarchy previously received a message\n",
      "User Ojoojoji previously received a message\n",
      "User wildronin1129 previously received a message\n",
      "User seddfu previously received a message\n",
      "User elijahtkitty previously received a message\n",
      "User TheOneFreeEngineer previously received a message\n",
      "User twitchingJay previously received a message\n",
      "User TheLovelyLorelei previously received a message\n",
      "User VanillaMonster previously received a message\n",
      "User PhatTaco previously received a message\n",
      "User bromelliad previously received a message\n",
      "User lil_tea_bag previously received a message\n",
      "User Cardoba previously received a message\n",
      "User TheBloxdude previously received a message\n",
      "User Beltch previously received a message\n",
      "User Fatsolamb22 previously received a message\n",
      "User silvastacka previously received a message\n",
      "User Mazza111 previously received a message\n",
      "User everydayone previously received a message\n",
      "User Luca2018 previously received a message\n",
      "User manahiljee123 previously received a message\n",
      "User skyler4722 previously received a message\n",
      "User leeleereed previously received a message\n",
      "User bumblebeesnotface previously received a message\n",
      "User OsseousSixty previously received a message\n",
      "User edie_carm previously received a message\n",
      "User BobZeBuildet previously received a message\n",
      "User baconcraft previously received a message\n",
      "User for_t2 previously received a message\n",
      "User Thesparky616 previously received a message\n",
      "User Fluchin previously received a message\n",
      "User mercenarius previously received a message\n",
      "User Case-pcpart previously received a message\n",
      "User qwertyytrewq2017 previously received a message\n",
      "User deimos31415 previously received a message\n",
      "User wanderwithsonder previously received a message\n",
      "User wapttn previously received a message\n",
      "User Zeehammer previously received a message\n",
      "User TheBookReader23 previously received a message\n",
      "User Sheevy_Boi previously received a message\n",
      "User postitmalone previously received a message\n",
      "User MajorDanger85 previously received a message\n",
      "User natash-a previously received a message\n",
      "User 1mGenius previously received a message\n",
      "User ME_kaleidoscope previously received a message\n",
      "User Nikolai_Narcisse previously received a message\n",
      "User AliINSANITY previously received a message\n",
      "User UmbrellalikeWetness previously received a message\n",
      "User sinnerbarb previously received a message\n",
      "User krippler_ previously received a message\n",
      "User Kmany1 previously received a message\n",
      "User thEmeMemEcoNomIst previously received a message\n",
      "User Aftershock_Media previously received a message\n",
      "User instrumentnerd previously received a message\n",
      "Week age 1: 100 authors \n",
      "User probs_nah previously received a message\n",
      "User RedditAdminBot previously received a message\n",
      "User theharmonykorine previously received a message\n",
      "User dry_cardigan_contest previously received a message\n",
      "User Macmang29 previously received a message\n",
      "User nonaestet previously received a message\n",
      "User Gonics previously received a message\n",
      "User Jynx12 previously received a message\n",
      "User Maetharin previously received a message\n",
      "User jcks2236 previously received a message\n",
      "User adventurism previously received a message\n",
      "User afhverju previously received a message\n",
      "User Decimae previously received a message\n",
      "User BigWolfMamma previously received a message\n",
      "User m_af previously received a message\n",
      "User kestrelhath previously received a message\n",
      "User hushmoney previously received a message\n",
      "User GreenLemonx3 previously received a message\n",
      "User in5taki77 previously received a message\n",
      "User attemptpositivityyy previously received a message\n",
      "User rainbow_killer_bunny previously received a message\n",
      "User TattoosinTexas previously received a message\n",
      "User OccupyGravelpit previously received a message\n",
      "User linx28 previously received a message\n",
      "User JVH38 previously received a message\n",
      "User aPonderingCowboy previously received a message\n",
      "User chachasriracha previously received a message\n",
      "User roswellthatendswell previously received a message\n",
      "User turumbarr previously received a message\n",
      "User FriedRice-NeatCheese previously received a message\n",
      "User homunculusjr previously received a message\n",
      "User GuitarGodSam previously received a message\n",
      "User erinmothafckinjones previously received a message\n",
      "User AdamantiumEagle previously received a message\n",
      "User Spacefemme9000 previously received a message\n",
      "User Nighthawkboss121 previously received a message\n",
      "User pickettmahfence previously received a message\n",
      "User zwilcox101484 previously received a message\n",
      "User sidekick89 previously received a message\n",
      "User RangerN7 previously received a message\n",
      "User BlackCoffeeWhiteCoat previously received a message\n",
      "User jobelenus previously received a message\n",
      "User bigboybanhmi previously received a message\n",
      "User Golden_Salt previously received a message\n",
      "User jepyang previously received a message\n",
      "User Camcamcam753 previously received a message\n",
      "User MediumCost previously received a message\n",
      "User Auxtin previously received a message\n",
      "User Spivsy previously received a message\n",
      "User DankVectorz previously received a message\n",
      "User Grenthblood previously received a message\n",
      "User 111222233334444 previously received a message\n",
      "User Theo_tokos previously received a message\n",
      "User genleiaorgana previously received a message\n",
      "User Danielle082 previously received a message\n",
      "User kosarsosar previously received a message\n",
      "User noflippingidea previously received a message\n",
      "User PugsleytheFluffyPug previously received a message\n",
      "User jackhamere71 previously received a message\n",
      "User SDBolt previously received a message\n",
      "User Prophet3001 previously received a message\n",
      "User MonkeyPunchBaby previously received a message\n",
      "User AppropriateDingo previously received a message\n",
      "User donutmcownage previously received a message\n",
      "User Cmstew502 previously received a message\n",
      "User ArguablyNeutral previously received a message\n",
      "User shion005 previously received a message\n",
      "User agree-with-you previously received a message\n",
      "User teeno731 previously received a message\n",
      "User ISpreadDiseaseToYou previously received a message\n",
      "User ActuallyElla previously received a message\n",
      "User Talyyr0 previously received a message\n"
     ]
    },
    {
     "name": "stdout",
     "output_type": "stream",
     "text": [
      "User tacosaladchupacabra previously received a message\n",
      "User Anna_Kissed previously received a message\n",
      "User punpuniq previously received a message\n",
      "User rom1bki previously received a message\n",
      "User mspk7305 previously received a message\n",
      "User DoraForscher previously received a message\n",
      "User ___DOUBLETROUBLE___ previously received a message\n",
      "User timwellens previously received a message\n",
      "User oogaboogaHS previously received a message\n",
      "User shrewms previously received a message\n",
      "User BeauHovey24 previously received a message\n",
      "User Cohen_TheBarbarian previously received a message\n",
      "User totoyakatiyo previously received a message\n",
      "User Thatwasmint previously received a message\n",
      "User OgonnaMadonna previously received a message\n",
      "User Xx9ine6ix previously received a message\n",
      "User HumanityMasterRace previously received a message\n",
      "User Maysock previously received a message\n",
      "User damsel-inadress previously received a message\n",
      "User scoobyMcdoobyfry previously received a message\n",
      "User balthazartoad previously received a message\n",
      "User kevbo_25 previously received a message\n",
      "User dundeebarefoot previously received a message\n",
      "User Kunda1ini previously received a message\n",
      "User Oddahmoddahpeah previously received a message\n",
      "User Midu108 previously received a message\n",
      "User JasonBourne_13 previously received a message\n",
      "User DreamPolicePDX previously received a message\n",
      "Week age 2: 100 authors \n",
      "User cuntbubbles previously received a message\n",
      "User glytxh previously received a message\n",
      "User omgnikkib previously received a message\n",
      "User Owneyhunger previously received a message\n",
      "User conuly previously received a message\n",
      "User supplecoyote previously received a message\n",
      "User Zarath101 previously received a message\n",
      "User garveybiz previously received a message\n",
      "User narcissistictendenc1 previously received a message\n",
      "User gingertea101 previously received a message\n",
      "User thewebsiteguy previously received a message\n",
      "User ScottyWired previously received a message\n",
      "User Pandonia42 previously received a message\n",
      "User fathomablenonesense previously received a message\n",
      "User Eveeto previously received a message\n",
      "User NonrepresentativePoe previously received a message\n",
      "User ratfinkprojects previously received a message\n",
      "User LiberalGeneral79 found: {'is_mod': False, 'has_subscribed': True, 'hide_from_robots': False, 'verified': True, 'icon_img': 'https://www.redditstatic.com/avatars/avatar_default_01_24A0ED.png', 'is_employee': False, 'comment_karma': 4791, 'name': 'LiberalGeneral79', 'subreddit': {'icon_size': [256, 256], 'key_color': '', 'link_flair_enabled': False, 'subreddit_type': 'user', 'name': 't5_6vmpm', 'user_is_moderator': False, 'community_icon': '', 'header_img': None, 'public_description': '', 'show_media': True, 'audience_target': '', 'url': '/user/LiberalGeneral79/', 'description': '', 'display_name_prefixed': 'u/LiberalGeneral79', 'subscribers': 0, 'display_name': 'u_LiberalGeneral79', 'user_is_banned': False, 'is_default_icon': True, 'icon_img': 'https://www.redditstatic.com/avatars/avatar_default_01_24A0ED.png', 'over_18': False, 'is_default_banner': True, 'user_is_contributor': False, 'icon_color': '#24A0ED', 'header_size': None, 'user_is_muted': False, 'banner_size': None, 'user_is_subscriber': False, 'banner_img': '', 'title': '', 'default_set': True, 'primary_color': ''}, 'is_gold': False, 'is_friend': False, 'id': 'dqvlib0', 'has_verified_email': True, 'pref_show_snoovatar': False, 'created': 1505378561.0, 'created_utc': 1505349761.0, 'link_karma': 1}\n",
      "Sending a message to user LiberalGeneral79 with data {'first_comment_week': 2, 'username': 'LiberalGeneral79', 'url': 'https://docs.google.com/forms/d/e/1FAIpQLSfmgOcsF0ALqWGPHGpJq2cwUr-xIG-uizbQqXPzPuTkrPM-Lg/viewform?usp=pp_url&entry.360321409=LiberalGeneral79&entry.1933578897', 'deleted': False, 'get_info_date': '2018-04-17 13:43:56.549798'}\n"
     ]
    },
    {
     "name": "stderr",
     "output_type": "stream",
     "text": [
      "substituting https://oauth.reddit.com for https://api.reddit.com in url\n",
      "GET: https://oauth.reddit.com/user/LiberalGeneral79/about/.json\n",
      "substituting https://oauth.reddit.com for https://api.reddit.com in url\n",
      "POST: https://oauth.reddit.com/api/compose/.json\n"
     ]
    },
    {
     "name": "stdout",
     "output_type": "stream",
     "text": [
      "Message successfully sent to user LiberalGeneral79\n",
      "APPENDING TO FILE: {'username': 'LiberalGeneral79', 'get_info_date': '2018-04-17 13:43:56.549798', 'deleted': False, 'url': 'https://docs.google.com/forms/d/e/1FAIpQLSfmgOcsF0ALqWGPHGpJq2cwUr-xIG-uizbQqXPzPuTkrPM-Lg/viewform?usp=pp_url&entry.360321409=LiberalGeneral79&entry.1933578897', 'first_comment_week': 2}\n",
      "first_comment_week: 2\n",
      "url: https://docs.google.com/forms/d/e/1FAIpQLSfmgOcsF0ALqWGPHGpJq2cwUr-xIG-uizbQqXPzPuTkrPM-Lg/viewform?usp=pp_url&entry.360321409=LiberalGeneral79&entry.1933578897\n",
      "get_info_data: 2018-04-17 13:43:56.549798\n",
      "deleted: False\n",
      "User wusgoodbee found: {'is_mod': False, 'has_subscribed': True, 'hide_from_robots': False, 'verified': True, 'icon_img': 'https://www.redditstatic.com/avatars/avatar_default_16_FFB000.png', 'is_employee': False, 'comment_karma': 2590, 'name': 'wusgoodbee', 'subreddit': {'icon_size': [256, 256], 'key_color': '', 'link_flair_enabled': False, 'subreddit_type': 'user', 'name': 't5_5ub8w', 'user_is_moderator': False, 'community_icon': '', 'header_img': None, 'public_description': '', 'show_media': True, 'audience_target': '', 'url': '/user/wusgoodbee/', 'description': '', 'display_name_prefixed': 'u/wusgoodbee', 'subscribers': 0, 'display_name': 'u_wusgoodbee', 'user_is_banned': False, 'is_default_icon': True, 'icon_img': 'https://www.redditstatic.com/avatars/avatar_default_16_FFB000.png', 'over_18': False, 'is_default_banner': True, 'user_is_contributor': False, 'icon_color': '#FFB000', 'header_size': None, 'user_is_muted': False, 'banner_size': None, 'user_is_subscriber': False, 'banner_img': '', 'title': '', 'default_set': True, 'primary_color': ''}, 'is_gold': False, 'is_friend': False, 'id': 'hvqkevb', 'has_verified_email': False, 'pref_show_snoovatar': False, 'created': 1508436271.0, 'created_utc': 1508407471.0, 'link_karma': 353}\n",
      "Sending a message to user wusgoodbee with data {'first_comment_week': 2, 'username': 'wusgoodbee', 'url': 'https://docs.google.com/forms/d/e/1FAIpQLSfmgOcsF0ALqWGPHGpJq2cwUr-xIG-uizbQqXPzPuTkrPM-Lg/viewform?usp=pp_url&entry.360321409=wusgoodbee&entry.1933578897', 'deleted': False, 'get_info_date': '2018-04-17 13:44:00.707694'}\n"
     ]
    },
    {
     "name": "stderr",
     "output_type": "stream",
     "text": [
      "substituting https://oauth.reddit.com for https://api.reddit.com in url\n",
      "GET: https://oauth.reddit.com/user/wusgoodbee/about/.json\n",
      "substituting https://oauth.reddit.com for https://api.reddit.com in url\n",
      "POST: https://oauth.reddit.com/api/compose/.json\n"
     ]
    },
    {
     "name": "stdout",
     "output_type": "stream",
     "text": [
      "Message successfully sent to user wusgoodbee\n",
      "APPENDING TO FILE: {'username': 'wusgoodbee', 'get_info_date': '2018-04-17 13:44:00.707694', 'deleted': False, 'url': 'https://docs.google.com/forms/d/e/1FAIpQLSfmgOcsF0ALqWGPHGpJq2cwUr-xIG-uizbQqXPzPuTkrPM-Lg/viewform?usp=pp_url&entry.360321409=wusgoodbee&entry.1933578897', 'first_comment_week': 2}\n",
      "first_comment_week: 2\n",
      "url: https://docs.google.com/forms/d/e/1FAIpQLSfmgOcsF0ALqWGPHGpJq2cwUr-xIG-uizbQqXPzPuTkrPM-Lg/viewform?usp=pp_url&entry.360321409=wusgoodbee&entry.1933578897\n",
      "get_info_data: 2018-04-17 13:44:00.707694\n",
      "deleted: False\n",
      "User futuresquid found: {'is_mod': False, 'has_subscribed': True, 'hide_from_robots': False, 'verified': False, 'icon_img': 'https://www.redditstatic.com/avatars/avatar_default_05_FF4500.png', 'is_employee': False, 'comment_karma': 1685, 'name': 'futuresquid', 'subreddit': None, 'is_gold': False, 'is_friend': False, 'id': '14xjuc', 'has_verified_email': False, 'pref_show_snoovatar': False, 'created': 1485849440.0, 'created_utc': 1485820640.0, 'link_karma': 314}\n",
      "Sending a message to user futuresquid with data {'first_comment_week': 2, 'username': 'futuresquid', 'url': 'https://docs.google.com/forms/d/e/1FAIpQLSfmgOcsF0ALqWGPHGpJq2cwUr-xIG-uizbQqXPzPuTkrPM-Lg/viewform?usp=pp_url&entry.360321409=futuresquid&entry.1933578897', 'deleted': False, 'get_info_date': '2018-04-17 13:44:04.831510'}\n"
     ]
    },
    {
     "name": "stderr",
     "output_type": "stream",
     "text": [
      "substituting https://oauth.reddit.com for https://api.reddit.com in url\n",
      "GET: https://oauth.reddit.com/user/futuresquid/about/.json\n",
      "substituting https://oauth.reddit.com for https://api.reddit.com in url\n",
      "POST: https://oauth.reddit.com/api/compose/.json\n"
     ]
    },
    {
     "name": "stdout",
     "output_type": "stream",
     "text": [
      "Message successfully sent to user futuresquid\n",
      "APPENDING TO FILE: {'username': 'futuresquid', 'get_info_date': '2018-04-17 13:44:04.831510', 'deleted': False, 'url': 'https://docs.google.com/forms/d/e/1FAIpQLSfmgOcsF0ALqWGPHGpJq2cwUr-xIG-uizbQqXPzPuTkrPM-Lg/viewform?usp=pp_url&entry.360321409=futuresquid&entry.1933578897', 'first_comment_week': 2}\n",
      "first_comment_week: 2\n",
      "url: https://docs.google.com/forms/d/e/1FAIpQLSfmgOcsF0ALqWGPHGpJq2cwUr-xIG-uizbQqXPzPuTkrPM-Lg/viewform?usp=pp_url&entry.360321409=futuresquid&entry.1933578897\n",
      "get_info_data: 2018-04-17 13:44:04.831510\n",
      "deleted: False\n",
      "User Scrotom found: {'is_mod': False, 'has_subscribed': True, 'hide_from_robots': False, 'verified': True, 'icon_img': 'https://www.redditstatic.com/avatars/avatar_default_02_0079D3.png', 'is_employee': False, 'comment_karma': 13978, 'name': 'Scrotom', 'subreddit': {'icon_size': [256, 256], 'key_color': '', 'link_flair_enabled': False, 'subreddit_type': 'user', 'name': 't5_aluzo', 'user_is_moderator': False, 'community_icon': '', 'header_img': None, 'public_description': '', 'show_media': True, 'audience_target': '', 'url': '/user/Scrotom/', 'description': '', 'display_name_prefixed': 'u/Scrotom', 'subscribers': 0, 'display_name': 'u_Scrotom', 'user_is_banned': False, 'is_default_icon': True, 'icon_img': 'https://www.redditstatic.com/avatars/avatar_default_02_0079D3.png', 'over_18': False, 'is_default_banner': True, 'user_is_contributor': False, 'icon_color': '#0079D3', 'header_size': None, 'user_is_muted': False, 'banner_size': None, 'user_is_subscriber': False, 'banner_img': '', 'title': '', 'default_set': True, 'primary_color': ''}, 'is_gold': False, 'is_friend': False, 'id': '3g2jl', 'has_verified_email': True, 'pref_show_snoovatar': False, 'created': 1239737430.0, 'created_utc': 1239708630.0, 'link_karma': 9}\n",
      "Sending a message to user Scrotom with data {'first_comment_week': 2, 'username': 'Scrotom', 'url': 'https://docs.google.com/forms/d/e/1FAIpQLSfmgOcsF0ALqWGPHGpJq2cwUr-xIG-uizbQqXPzPuTkrPM-Lg/viewform?usp=pp_url&entry.360321409=Scrotom&entry.1933578897', 'deleted': False, 'get_info_date': '2018-04-17 13:44:09.082760'}\n"
     ]
    },
    {
     "name": "stderr",
     "output_type": "stream",
     "text": [
      "substituting https://oauth.reddit.com for https://api.reddit.com in url\n",
      "GET: https://oauth.reddit.com/user/Scrotom/about/.json\n",
      "substituting https://oauth.reddit.com for https://api.reddit.com in url\n",
      "POST: https://oauth.reddit.com/api/compose/.json\n"
     ]
    },
    {
     "name": "stdout",
     "output_type": "stream",
     "text": [
      "Message successfully sent to user Scrotom\n",
      "APPENDING TO FILE: {'username': 'Scrotom', 'get_info_date': '2018-04-17 13:44:09.082760', 'deleted': False, 'url': 'https://docs.google.com/forms/d/e/1FAIpQLSfmgOcsF0ALqWGPHGpJq2cwUr-xIG-uizbQqXPzPuTkrPM-Lg/viewform?usp=pp_url&entry.360321409=Scrotom&entry.1933578897', 'first_comment_week': 2}\n",
      "first_comment_week: 2\n",
      "url: https://docs.google.com/forms/d/e/1FAIpQLSfmgOcsF0ALqWGPHGpJq2cwUr-xIG-uizbQqXPzPuTkrPM-Lg/viewform?usp=pp_url&entry.360321409=Scrotom&entry.1933578897\n",
      "get_info_data: 2018-04-17 13:44:09.082760\n",
      "deleted: False\n",
      "User meat_tunnel found: {'is_mod': True, 'has_subscribed': True, 'hide_from_robots': False, 'verified': False, 'icon_img': 'https://www.redditstatic.com/avatars/avatar_default_16_A06A42.png', 'is_employee': False, 'comment_karma': 78027, 'name': 'meat_tunnel', 'subreddit': None, 'is_gold': False, 'is_friend': False, 'id': 'x9u2v', 'has_verified_email': False, 'pref_show_snoovatar': False, 'created': 1461028578.0, 'created_utc': 1460999778.0, 'link_karma': 7444}\n",
      "Sending a message to user meat_tunnel with data {'first_comment_week': 2, 'username': 'meat_tunnel', 'url': 'https://docs.google.com/forms/d/e/1FAIpQLSfmgOcsF0ALqWGPHGpJq2cwUr-xIG-uizbQqXPzPuTkrPM-Lg/viewform?usp=pp_url&entry.360321409=meat_tunnel&entry.1933578897', 'deleted': False, 'get_info_date': '2018-04-17 13:44:13.338256'}\n"
     ]
    },
    {
     "name": "stderr",
     "output_type": "stream",
     "text": [
      "substituting https://oauth.reddit.com for https://api.reddit.com in url\n",
      "GET: https://oauth.reddit.com/user/meat_tunnel/about/.json\n",
      "substituting https://oauth.reddit.com for https://api.reddit.com in url\n",
      "POST: https://oauth.reddit.com/api/compose/.json\n"
     ]
    },
    {
     "name": "stdout",
     "output_type": "stream",
     "text": [
      "Message successfully sent to user meat_tunnel\n",
      "APPENDING TO FILE: {'username': 'meat_tunnel', 'get_info_date': '2018-04-17 13:44:13.338256', 'deleted': False, 'url': 'https://docs.google.com/forms/d/e/1FAIpQLSfmgOcsF0ALqWGPHGpJq2cwUr-xIG-uizbQqXPzPuTkrPM-Lg/viewform?usp=pp_url&entry.360321409=meat_tunnel&entry.1933578897', 'first_comment_week': 2}\n",
      "first_comment_week: 2\n",
      "url: https://docs.google.com/forms/d/e/1FAIpQLSfmgOcsF0ALqWGPHGpJq2cwUr-xIG-uizbQqXPzPuTkrPM-Lg/viewform?usp=pp_url&entry.360321409=meat_tunnel&entry.1933578897\n",
      "get_info_data: 2018-04-17 13:44:13.338256\n",
      "deleted: False\n",
      "User PippyDickling found: {'is_mod': False, 'has_subscribed': True, 'hide_from_robots': False, 'verified': True, 'icon_img': 'https://www.redditstatic.com/avatars/avatar_default_05_94E044.png', 'is_employee': False, 'comment_karma': 2663, 'name': 'PippyDickling', 'subreddit': {'icon_size': [256, 256], 'key_color': '', 'link_flair_enabled': False, 'subreddit_type': 'user', 'name': 't5_5ps8o', 'user_is_moderator': False, 'community_icon': '', 'header_img': None, 'public_description': '', 'show_media': True, 'audience_target': '', 'url': '/user/PippyDickling/', 'description': '', 'display_name_prefixed': 'u/PippyDickling', 'subscribers': 0, 'display_name': 'u_PippyDickling', 'user_is_banned': False, 'is_default_icon': True, 'icon_img': 'https://www.redditstatic.com/avatars/avatar_default_05_94E044.png', 'over_18': False, 'is_default_banner': True, 'user_is_contributor': False, 'icon_color': '#94E044', 'header_size': None, 'user_is_muted': False, 'banner_size': None, 'user_is_subscriber': False, 'banner_img': '', 'title': 'Kawhy Not', 'default_set': True, 'primary_color': ''}, 'is_gold': True, 'is_friend': False, 'id': 'iapfdd0', 'has_verified_email': True, 'pref_show_snoovatar': False, 'created': 1508745794.0, 'created_utc': 1508716994.0, 'link_karma': 7998}\n",
      "Sending a message to user PippyDickling with data {'first_comment_week': 2, 'username': 'PippyDickling', 'url': 'https://docs.google.com/forms/d/e/1FAIpQLSfmgOcsF0ALqWGPHGpJq2cwUr-xIG-uizbQqXPzPuTkrPM-Lg/viewform?usp=pp_url&entry.360321409=PippyDickling&entry.1933578897', 'deleted': False, 'get_info_date': '2018-04-17 13:44:17.499515'}\n"
     ]
    },
    {
     "name": "stderr",
     "output_type": "stream",
     "text": [
      "substituting https://oauth.reddit.com for https://api.reddit.com in url\n",
      "GET: https://oauth.reddit.com/user/PippyDickling/about/.json\n",
      "substituting https://oauth.reddit.com for https://api.reddit.com in url\n",
      "POST: https://oauth.reddit.com/api/compose/.json\n"
     ]
    },
    {
     "name": "stdout",
     "output_type": "stream",
     "text": [
      "Message successfully sent to user PippyDickling\n",
      "APPENDING TO FILE: {'username': 'PippyDickling', 'get_info_date': '2018-04-17 13:44:17.499515', 'deleted': False, 'url': 'https://docs.google.com/forms/d/e/1FAIpQLSfmgOcsF0ALqWGPHGpJq2cwUr-xIG-uizbQqXPzPuTkrPM-Lg/viewform?usp=pp_url&entry.360321409=PippyDickling&entry.1933578897', 'first_comment_week': 2}\n",
      "first_comment_week: 2\n",
      "url: https://docs.google.com/forms/d/e/1FAIpQLSfmgOcsF0ALqWGPHGpJq2cwUr-xIG-uizbQqXPzPuTkrPM-Lg/viewform?usp=pp_url&entry.360321409=PippyDickling&entry.1933578897\n",
      "get_info_data: 2018-04-17 13:44:17.499515\n",
      "deleted: False\n",
      "User noisefloor66 found: {'is_mod': False, 'has_subscribed': True, 'hide_from_robots': False, 'verified': True, 'icon_img': 'https://www.redditstatic.com/avatars/avatar_default_06_C18D42.png', 'is_employee': False, 'comment_karma': -1, 'name': 'noisefloor66', 'subreddit': {'icon_size': [256, 256], 'key_color': '', 'link_flair_enabled': False, 'subreddit_type': 'user', 'name': 't5_hdw2n', 'user_is_moderator': False, 'community_icon': '', 'header_img': None, 'public_description': '', 'show_media': True, 'audience_target': '', 'url': '/user/noisefloor66/', 'description': '', 'display_name_prefixed': 'u/noisefloor66', 'subscribers': 0, 'display_name': 'u_noisefloor66', 'user_is_banned': False, 'is_default_icon': True, 'icon_img': 'https://www.redditstatic.com/avatars/avatar_default_06_C18D42.png', 'over_18': False, 'is_default_banner': True, 'user_is_contributor': False, 'icon_color': '#C18D42', 'header_size': None, 'user_is_muted': False, 'banner_size': None, 'user_is_subscriber': False, 'banner_img': '', 'title': '', 'default_set': True, 'primary_color': ''}, 'is_gold': False, 'is_friend': False, 'id': '13uch57p', 'has_verified_email': True, 'pref_show_snoovatar': False, 'created': 1522288357.0, 'created_utc': 1522259557.0, 'link_karma': 1}\n",
      "Sending a message to user noisefloor66 with data {'first_comment_week': 2, 'username': 'noisefloor66', 'url': 'https://docs.google.com/forms/d/e/1FAIpQLSfmgOcsF0ALqWGPHGpJq2cwUr-xIG-uizbQqXPzPuTkrPM-Lg/viewform?usp=pp_url&entry.360321409=noisefloor66&entry.1933578897', 'deleted': False, 'get_info_date': '2018-04-17 13:44:21.693344'}\n"
     ]
    },
    {
     "name": "stderr",
     "output_type": "stream",
     "text": [
      "substituting https://oauth.reddit.com for https://api.reddit.com in url\n",
      "GET: https://oauth.reddit.com/user/noisefloor66/about/.json\n",
      "substituting https://oauth.reddit.com for https://api.reddit.com in url\n",
      "POST: https://oauth.reddit.com/api/compose/.json\n"
     ]
    },
    {
     "name": "stdout",
     "output_type": "stream",
     "text": [
      "Message successfully sent to user noisefloor66\n",
      "APPENDING TO FILE: {'username': 'noisefloor66', 'get_info_date': '2018-04-17 13:44:21.693344', 'deleted': False, 'url': 'https://docs.google.com/forms/d/e/1FAIpQLSfmgOcsF0ALqWGPHGpJq2cwUr-xIG-uizbQqXPzPuTkrPM-Lg/viewform?usp=pp_url&entry.360321409=noisefloor66&entry.1933578897', 'first_comment_week': 2}\n",
      "first_comment_week: 2\n",
      "url: https://docs.google.com/forms/d/e/1FAIpQLSfmgOcsF0ALqWGPHGpJq2cwUr-xIG-uizbQqXPzPuTkrPM-Lg/viewform?usp=pp_url&entry.360321409=noisefloor66&entry.1933578897\n",
      "get_info_data: 2018-04-17 13:44:21.693344\n",
      "deleted: False\n"
     ]
    },
    {
     "name": "stderr",
     "output_type": "stream",
     "text": [
      "substituting https://oauth.reddit.com for https://api.reddit.com in url\n",
      "GET: https://oauth.reddit.com/user/JizzClown/about/.json\n"
     ]
    },
    {
     "name": "stdout",
     "output_type": "stream",
     "text": [
      "User JizzClown found: {'name': 'JizzClown', 'is_suspended': True}\n",
      "Sending a message to user JizzClown with data {'first_comment_week': 2, 'username': 'JizzClown', 'url': 'https://docs.google.com/forms/d/e/1FAIpQLSfmgOcsF0ALqWGPHGpJq2cwUr-xIG-uizbQqXPzPuTkrPM-Lg/viewform?usp=pp_url&entry.360321409=JizzClown&entry.1933578897', 'deleted': False, 'get_info_date': '2018-04-17 13:44:25.960476'}\n"
     ]
    },
    {
     "name": "stderr",
     "output_type": "stream",
     "text": [
      "substituting https://oauth.reddit.com for https://api.reddit.com in url\n",
      "POST: https://oauth.reddit.com/api/compose/.json\n"
     ]
    },
    {
     "name": "stdout",
     "output_type": "stream",
     "text": [
      "Message successfully sent to user JizzClown\n",
      "APPENDING TO FILE: {'username': 'JizzClown', 'get_info_date': '2018-04-17 13:44:25.960476', 'deleted': False, 'url': 'https://docs.google.com/forms/d/e/1FAIpQLSfmgOcsF0ALqWGPHGpJq2cwUr-xIG-uizbQqXPzPuTkrPM-Lg/viewform?usp=pp_url&entry.360321409=JizzClown&entry.1933578897', 'first_comment_week': 2}\n",
      "first_comment_week: 2\n",
      "url: https://docs.google.com/forms/d/e/1FAIpQLSfmgOcsF0ALqWGPHGpJq2cwUr-xIG-uizbQqXPzPuTkrPM-Lg/viewform?usp=pp_url&entry.360321409=JizzClown&entry.1933578897\n",
      "get_info_data: 2018-04-17 13:44:25.960476\n",
      "deleted: False\n",
      "User stone_opera found: {'is_mod': False, 'has_subscribed': True, 'hide_from_robots': False, 'verified': False, 'icon_img': 'https://www.redditstatic.com/avatars/avatar_default_07_A06A42.png', 'is_employee': False, 'comment_karma': 66395, 'name': 'stone_opera', 'subreddit': None, 'is_gold': False, 'is_friend': False, 'id': 's5mwe', 'has_verified_email': True, 'pref_show_snoovatar': False, 'created': 1447868865.0, 'created_utc': 1447840065.0, 'link_karma': 75}\n",
      "Sending a message to user stone_opera with data {'first_comment_week': 2, 'username': 'stone_opera', 'url': 'https://docs.google.com/forms/d/e/1FAIpQLSfmgOcsF0ALqWGPHGpJq2cwUr-xIG-uizbQqXPzPuTkrPM-Lg/viewform?usp=pp_url&entry.360321409=stone_opera&entry.1933578897', 'deleted': False, 'get_info_date': '2018-04-17 13:44:30.239891'}\n"
     ]
    },
    {
     "name": "stderr",
     "output_type": "stream",
     "text": [
      "substituting https://oauth.reddit.com for https://api.reddit.com in url\n",
      "GET: https://oauth.reddit.com/user/stone_opera/about/.json\n",
      "substituting https://oauth.reddit.com for https://api.reddit.com in url\n",
      "POST: https://oauth.reddit.com/api/compose/.json\n"
     ]
    },
    {
     "name": "stdout",
     "output_type": "stream",
     "text": [
      "Message successfully sent to user stone_opera\n",
      "APPENDING TO FILE: {'username': 'stone_opera', 'get_info_date': '2018-04-17 13:44:30.239891', 'deleted': False, 'url': 'https://docs.google.com/forms/d/e/1FAIpQLSfmgOcsF0ALqWGPHGpJq2cwUr-xIG-uizbQqXPzPuTkrPM-Lg/viewform?usp=pp_url&entry.360321409=stone_opera&entry.1933578897', 'first_comment_week': 2}\n",
      "first_comment_week: 2\n",
      "url: https://docs.google.com/forms/d/e/1FAIpQLSfmgOcsF0ALqWGPHGpJq2cwUr-xIG-uizbQqXPzPuTkrPM-Lg/viewform?usp=pp_url&entry.360321409=stone_opera&entry.1933578897\n",
      "get_info_data: 2018-04-17 13:44:30.239891\n",
      "deleted: False\n",
      "User mcxclo found: {'is_mod': False, 'has_subscribed': True, 'hide_from_robots': False, 'verified': True, 'icon_img': 'https://www.redditstatic.com/avatars/avatar_default_17_7193FF.png', 'is_employee': False, 'comment_karma': 1, 'name': 'mcxclo', 'subreddit': {'icon_size': [256, 256], 'key_color': '', 'link_flair_enabled': False, 'subreddit_type': 'user', 'name': 't5_gqwk6', 'user_is_moderator': False, 'community_icon': '', 'header_img': None, 'public_description': 'Me', 'show_media': True, 'audience_target': '', 'url': '/user/mcxclo/', 'description': '', 'display_name_prefixed': 'u/mcxclo', 'subscribers': 0, 'display_name': 'u_mcxclo', 'user_is_banned': False, 'is_default_icon': True, 'icon_img': 'https://www.redditstatic.com/avatars/avatar_default_17_7193FF.png', 'over_18': False, 'is_default_banner': True, 'user_is_contributor': False, 'icon_color': '#7193FF', 'header_size': None, 'user_is_muted': False, 'banner_size': None, 'user_is_subscriber': False, 'banner_img': '', 'title': 'Me', 'default_set': True, 'primary_color': ''}, 'is_gold': False, 'is_friend': False, 'id': '1127tofc', 'has_verified_email': False, 'pref_show_snoovatar': False, 'created': 1520840207.0, 'created_utc': 1520811407.0, 'link_karma': 5}\n",
      "Sending a message to user mcxclo with data {'first_comment_week': 2, 'username': 'mcxclo', 'url': 'https://docs.google.com/forms/d/e/1FAIpQLSfmgOcsF0ALqWGPHGpJq2cwUr-xIG-uizbQqXPzPuTkrPM-Lg/viewform?usp=pp_url&entry.360321409=mcxclo&entry.1933578897', 'deleted': False, 'get_info_date': '2018-04-17 13:44:34.621396'}\n"
     ]
    },
    {
     "name": "stderr",
     "output_type": "stream",
     "text": [
      "substituting https://oauth.reddit.com for https://api.reddit.com in url\n",
      "GET: https://oauth.reddit.com/user/mcxclo/about/.json\n",
      "substituting https://oauth.reddit.com for https://api.reddit.com in url\n",
      "POST: https://oauth.reddit.com/api/compose/.json\n"
     ]
    },
    {
     "name": "stdout",
     "output_type": "stream",
     "text": [
      "Message successfully sent to user mcxclo\n",
      "APPENDING TO FILE: {'username': 'mcxclo', 'get_info_date': '2018-04-17 13:44:34.621396', 'deleted': False, 'url': 'https://docs.google.com/forms/d/e/1FAIpQLSfmgOcsF0ALqWGPHGpJq2cwUr-xIG-uizbQqXPzPuTkrPM-Lg/viewform?usp=pp_url&entry.360321409=mcxclo&entry.1933578897', 'first_comment_week': 2}\n",
      "first_comment_week: 2\n",
      "url: https://docs.google.com/forms/d/e/1FAIpQLSfmgOcsF0ALqWGPHGpJq2cwUr-xIG-uizbQqXPzPuTkrPM-Lg/viewform?usp=pp_url&entry.360321409=mcxclo&entry.1933578897\n",
      "get_info_data: 2018-04-17 13:44:34.621396\n",
      "deleted: False\n"
     ]
    },
    {
     "name": "stderr",
     "output_type": "stream",
     "text": [
      "substituting https://oauth.reddit.com for https://api.reddit.com in url\n",
      "GET: https://oauth.reddit.com/user/CallMeCasual/about/.json\n"
     ]
    },
    {
     "name": "stdout",
     "output_type": "stream",
     "text": [
      "User CallMeCasual found: {'is_mod': False, 'has_subscribed': True, 'hide_from_robots': False, 'verified': True, 'icon_img': 'https://www.redditstatic.com/avatars/avatar_default_16_A06A42.png', 'is_employee': False, 'comment_karma': 104, 'name': 'CallMeCasual', 'subreddit': {'icon_size': [256, 256], 'key_color': '', 'link_flair_enabled': False, 'subreddit_type': 'user', 'name': 't5_cgawm', 'user_is_moderator': False, 'community_icon': '', 'header_img': None, 'public_description': '', 'show_media': True, 'audience_target': '', 'url': '/user/CallMeCasual/', 'description': '', 'display_name_prefixed': 'u/CallMeCasual', 'subscribers': 0, 'display_name': 'u_CallMeCasual', 'user_is_banned': False, 'is_default_icon': True, 'icon_img': 'https://www.redditstatic.com/avatars/avatar_default_16_A06A42.png', 'over_18': False, 'is_default_banner': True, 'user_is_contributor': False, 'icon_color': '#A06A42', 'header_size': None, 'user_is_muted': False, 'banner_size': None, 'user_is_subscriber': False, 'banner_img': '', 'title': '', 'default_set': True, 'primary_color': ''}, 'is_gold': False, 'is_friend': False, 'id': 'gyocj', 'has_verified_email': False, 'pref_show_snoovatar': False, 'created': 1402672146.0, 'created_utc': 1402643346.0, 'link_karma': 29}\n",
      "Sending a message to user CallMeCasual with data {'first_comment_week': 2, 'username': 'CallMeCasual', 'url': 'https://docs.google.com/forms/d/e/1FAIpQLSfmgOcsF0ALqWGPHGpJq2cwUr-xIG-uizbQqXPzPuTkrPM-Lg/viewform?usp=pp_url&entry.360321409=CallMeCasual&entry.1933578897', 'deleted': False, 'get_info_date': '2018-04-17 13:44:38.970340'}\n"
     ]
    },
    {
     "name": "stderr",
     "output_type": "stream",
     "text": [
      "substituting https://oauth.reddit.com for https://api.reddit.com in url\n",
      "POST: https://oauth.reddit.com/api/compose/.json\n"
     ]
    },
    {
     "name": "stdout",
     "output_type": "stream",
     "text": [
      "Message successfully sent to user CallMeCasual\n",
      "APPENDING TO FILE: {'username': 'CallMeCasual', 'get_info_date': '2018-04-17 13:44:38.970340', 'deleted': False, 'url': 'https://docs.google.com/forms/d/e/1FAIpQLSfmgOcsF0ALqWGPHGpJq2cwUr-xIG-uizbQqXPzPuTkrPM-Lg/viewform?usp=pp_url&entry.360321409=CallMeCasual&entry.1933578897', 'first_comment_week': 2}\n",
      "first_comment_week: 2\n",
      "url: https://docs.google.com/forms/d/e/1FAIpQLSfmgOcsF0ALqWGPHGpJq2cwUr-xIG-uizbQqXPzPuTkrPM-Lg/viewform?usp=pp_url&entry.360321409=CallMeCasual&entry.1933578897\n",
      "get_info_data: 2018-04-17 13:44:38.970340\n",
      "deleted: False\n",
      "User hitemplo found: {'is_mod': False, 'has_subscribed': True, 'hide_from_robots': False, 'verified': True, 'icon_img': 'https://s.redditmedia.com/t5_7nwwv/styles/communityIcon_i2zhlwi8sjd01.jpg?fit=crop&crop=faces%2Centropy&arh=1.0&w=256&h=256&s=335dea3a6c8b6a6e6ad44a8793131bf3', 'is_employee': False, 'comment_karma': 2013, 'name': 'hitemplo', 'subreddit': {'icon_size': [256, 256], 'key_color': '', 'link_flair_enabled': False, 'subreddit_type': 'user', 'name': 't5_7nwwv', 'user_is_moderator': False, 'community_icon': '', 'header_img': None, 'public_description': '', 'show_media': True, 'audience_target': '', 'url': '/user/hitemplo/', 'description': '', 'display_name_prefixed': 'u/hitemplo', 'subscribers': 0, 'display_name': 'u_hitemplo', 'user_is_banned': False, 'is_default_icon': False, 'icon_img': 'https://s.redditmedia.com/t5_7nwwv/styles/communityIcon_i2zhlwi8sjd01.jpg?fit=crop&crop=faces%2Centropy&arh=1.0&w=256&h=256&s=335dea3a6c8b6a6e6ad44a8793131bf3', 'over_18': False, 'is_default_banner': True, 'user_is_contributor': False, 'icon_color': '', 'header_size': None, 'user_is_muted': False, 'banner_size': None, 'user_is_subscriber': False, 'banner_img': '', 'title': 'High Temperature Low ', 'default_set': False, 'primary_color': ''}, 'is_gold': False, 'is_friend': False, 'id': '1svc89r', 'has_verified_email': True, 'pref_show_snoovatar': False, 'created': 1495469160.0, 'created_utc': 1495440360.0, 'link_karma': 5129}\n",
      "Sending a message to user hitemplo with data {'first_comment_week': 2, 'username': 'hitemplo', 'url': 'https://docs.google.com/forms/d/e/1FAIpQLSfmgOcsF0ALqWGPHGpJq2cwUr-xIG-uizbQqXPzPuTkrPM-Lg/viewform?usp=pp_url&entry.360321409=hitemplo&entry.1933578897', 'deleted': False, 'get_info_date': '2018-04-17 13:44:43.049829'}\n"
     ]
    },
    {
     "name": "stderr",
     "output_type": "stream",
     "text": [
      "substituting https://oauth.reddit.com for https://api.reddit.com in url\n",
      "GET: https://oauth.reddit.com/user/hitemplo/about/.json\n",
      "substituting https://oauth.reddit.com for https://api.reddit.com in url\n",
      "POST: https://oauth.reddit.com/api/compose/.json\n"
     ]
    },
    {
     "name": "stdout",
     "output_type": "stream",
     "text": [
      "Message successfully sent to user hitemplo\n",
      "APPENDING TO FILE: {'username': 'hitemplo', 'get_info_date': '2018-04-17 13:44:43.049829', 'deleted': False, 'url': 'https://docs.google.com/forms/d/e/1FAIpQLSfmgOcsF0ALqWGPHGpJq2cwUr-xIG-uizbQqXPzPuTkrPM-Lg/viewform?usp=pp_url&entry.360321409=hitemplo&entry.1933578897', 'first_comment_week': 2}\n",
      "first_comment_week: 2\n",
      "url: https://docs.google.com/forms/d/e/1FAIpQLSfmgOcsF0ALqWGPHGpJq2cwUr-xIG-uizbQqXPzPuTkrPM-Lg/viewform?usp=pp_url&entry.360321409=hitemplo&entry.1933578897\n",
      "get_info_data: 2018-04-17 13:44:43.049829\n",
      "deleted: False\n",
      "User qyke found: {'is_mod': False, 'has_subscribed': True, 'hide_from_robots': False, 'verified': True, 'icon_img': 'https://www.redditstatic.com/avatars/avatar_default_05_4856A3.png', 'is_employee': False, 'comment_karma': 234, 'name': 'qyke', 'subreddit': {'icon_size': [256, 256], 'key_color': '', 'link_flair_enabled': False, 'subreddit_type': 'user', 'name': 't5_gz4f6', 'user_is_moderator': False, 'community_icon': '', 'header_img': None, 'public_description': '', 'show_media': True, 'audience_target': '', 'url': '/user/qyke/', 'description': '', 'display_name_prefixed': 'u/qyke', 'subscribers': 0, 'display_name': 'u_qyke', 'user_is_banned': False, 'is_default_icon': True, 'icon_img': 'https://www.redditstatic.com/avatars/avatar_default_05_4856A3.png', 'over_18': False, 'is_default_banner': True, 'user_is_contributor': False, 'icon_color': '#4856A3', 'header_size': None, 'user_is_muted': False, 'banner_size': None, 'user_is_subscriber': False, 'banner_img': '', 'title': '', 'default_set': True, 'primary_color': ''}, 'is_gold': False, 'is_friend': False, 'id': '12247508', 'has_verified_email': False, 'pref_show_snoovatar': False, 'created': 1521358707.0, 'created_utc': 1521329907.0, 'link_karma': 1}\n",
      "Sending a message to user qyke with data {'first_comment_week': 2, 'username': 'qyke', 'url': 'https://docs.google.com/forms/d/e/1FAIpQLSfmgOcsF0ALqWGPHGpJq2cwUr-xIG-uizbQqXPzPuTkrPM-Lg/viewform?usp=pp_url&entry.360321409=qyke&entry.1933578897', 'deleted': False, 'get_info_date': '2018-04-17 13:44:47.296443'}\n"
     ]
    },
    {
     "name": "stderr",
     "output_type": "stream",
     "text": [
      "substituting https://oauth.reddit.com for https://api.reddit.com in url\n",
      "GET: https://oauth.reddit.com/user/qyke/about/.json\n",
      "substituting https://oauth.reddit.com for https://api.reddit.com in url\n",
      "POST: https://oauth.reddit.com/api/compose/.json\n"
     ]
    },
    {
     "name": "stdout",
     "output_type": "stream",
     "text": [
      "Message successfully sent to user qyke\n",
      "APPENDING TO FILE: {'username': 'qyke', 'get_info_date': '2018-04-17 13:44:47.296443', 'deleted': False, 'url': 'https://docs.google.com/forms/d/e/1FAIpQLSfmgOcsF0ALqWGPHGpJq2cwUr-xIG-uizbQqXPzPuTkrPM-Lg/viewform?usp=pp_url&entry.360321409=qyke&entry.1933578897', 'first_comment_week': 2}\n",
      "first_comment_week: 2\n",
      "url: https://docs.google.com/forms/d/e/1FAIpQLSfmgOcsF0ALqWGPHGpJq2cwUr-xIG-uizbQqXPzPuTkrPM-Lg/viewform?usp=pp_url&entry.360321409=qyke&entry.1933578897\n",
      "get_info_data: 2018-04-17 13:44:47.296443\n",
      "deleted: False\n",
      "User SweetBakchich found: {'is_mod': False, 'has_subscribed': True, 'hide_from_robots': False, 'verified': False, 'icon_img': 'https://www.redditstatic.com/avatars/avatar_default_16_25B79F.png', 'is_employee': False, 'comment_karma': 1132, 'name': 'SweetBakchich', 'subreddit': None, 'is_gold': False, 'is_friend': False, 'id': '1194kz', 'has_verified_email': True, 'pref_show_snoovatar': False, 'created': 1473319702.0, 'created_utc': 1473290902.0, 'link_karma': 440}\n",
      "Sending a message to user SweetBakchich with data {'first_comment_week': 2, 'username': 'SweetBakchich', 'url': 'https://docs.google.com/forms/d/e/1FAIpQLSfmgOcsF0ALqWGPHGpJq2cwUr-xIG-uizbQqXPzPuTkrPM-Lg/viewform?usp=pp_url&entry.360321409=SweetBakchich&entry.1933578897', 'deleted': False, 'get_info_date': '2018-04-17 13:44:51.411729'}\n"
     ]
    },
    {
     "name": "stderr",
     "output_type": "stream",
     "text": [
      "substituting https://oauth.reddit.com for https://api.reddit.com in url\n",
      "GET: https://oauth.reddit.com/user/SweetBakchich/about/.json\n",
      "substituting https://oauth.reddit.com for https://api.reddit.com in url\n",
      "POST: https://oauth.reddit.com/api/compose/.json\n"
     ]
    },
    {
     "name": "stdout",
     "output_type": "stream",
     "text": [
      "Message successfully sent to user SweetBakchich\n",
      "APPENDING TO FILE: {'username': 'SweetBakchich', 'get_info_date': '2018-04-17 13:44:51.411729', 'deleted': False, 'url': 'https://docs.google.com/forms/d/e/1FAIpQLSfmgOcsF0ALqWGPHGpJq2cwUr-xIG-uizbQqXPzPuTkrPM-Lg/viewform?usp=pp_url&entry.360321409=SweetBakchich&entry.1933578897', 'first_comment_week': 2}\n",
      "first_comment_week: 2\n",
      "url: https://docs.google.com/forms/d/e/1FAIpQLSfmgOcsF0ALqWGPHGpJq2cwUr-xIG-uizbQqXPzPuTkrPM-Lg/viewform?usp=pp_url&entry.360321409=SweetBakchich&entry.1933578897\n",
      "get_info_data: 2018-04-17 13:44:51.411729\n",
      "deleted: False\n",
      "User MisterUri found: {'is_mod': True, 'has_subscribed': True, 'hide_from_robots': False, 'verified': False, 'icon_img': 'https://www.redditstatic.com/avatars/avatar_default_06_4856A3.png', 'is_employee': False, 'comment_karma': 1933, 'name': 'MisterUri', 'subreddit': None, 'is_gold': False, 'is_friend': False, 'id': '8sm9x', 'has_verified_email': True, 'pref_show_snoovatar': False, 'created': 1346039584.0, 'created_utc': 1346010784.0, 'link_karma': 87}\n",
      "Sending a message to user MisterUri with data {'first_comment_week': 2, 'username': 'MisterUri', 'url': 'https://docs.google.com/forms/d/e/1FAIpQLSfmgOcsF0ALqWGPHGpJq2cwUr-xIG-uizbQqXPzPuTkrPM-Lg/viewform?usp=pp_url&entry.360321409=MisterUri&entry.1933578897', 'deleted': False, 'get_info_date': '2018-04-17 13:44:55.629600'}\n"
     ]
    },
    {
     "name": "stderr",
     "output_type": "stream",
     "text": [
      "substituting https://oauth.reddit.com for https://api.reddit.com in url\n",
      "GET: https://oauth.reddit.com/user/MisterUri/about/.json\n",
      "substituting https://oauth.reddit.com for https://api.reddit.com in url\n",
      "POST: https://oauth.reddit.com/api/compose/.json\n"
     ]
    },
    {
     "name": "stdout",
     "output_type": "stream",
     "text": [
      "Message successfully sent to user MisterUri\n",
      "APPENDING TO FILE: {'username': 'MisterUri', 'get_info_date': '2018-04-17 13:44:55.629600', 'deleted': False, 'url': 'https://docs.google.com/forms/d/e/1FAIpQLSfmgOcsF0ALqWGPHGpJq2cwUr-xIG-uizbQqXPzPuTkrPM-Lg/viewform?usp=pp_url&entry.360321409=MisterUri&entry.1933578897', 'first_comment_week': 2}\n",
      "first_comment_week: 2\n",
      "url: https://docs.google.com/forms/d/e/1FAIpQLSfmgOcsF0ALqWGPHGpJq2cwUr-xIG-uizbQqXPzPuTkrPM-Lg/viewform?usp=pp_url&entry.360321409=MisterUri&entry.1933578897\n",
      "get_info_data: 2018-04-17 13:44:55.629600\n",
      "deleted: False\n",
      "User evilmomlady found: {'is_mod': False, 'has_subscribed': True, 'hide_from_robots': False, 'verified': False, 'icon_img': 'https://www.redditstatic.com/avatars/avatar_default_02_008985.png', 'is_employee': False, 'comment_karma': 693, 'name': 'evilmomlady', 'subreddit': None, 'is_gold': False, 'is_friend': False, 'id': '156wg1', 'has_verified_email': True, 'pref_show_snoovatar': False, 'created': 1486566092.0, 'created_utc': 1486537292.0, 'link_karma': 1}\n",
      "Sending a message to user evilmomlady with data {'first_comment_week': 2, 'username': 'evilmomlady', 'url': 'https://docs.google.com/forms/d/e/1FAIpQLSfmgOcsF0ALqWGPHGpJq2cwUr-xIG-uizbQqXPzPuTkrPM-Lg/viewform?usp=pp_url&entry.360321409=evilmomlady&entry.1933578897', 'deleted': False, 'get_info_date': '2018-04-17 13:44:59.841567'}\n"
     ]
    },
    {
     "name": "stderr",
     "output_type": "stream",
     "text": [
      "substituting https://oauth.reddit.com for https://api.reddit.com in url\n",
      "GET: https://oauth.reddit.com/user/evilmomlady/about/.json\n",
      "substituting https://oauth.reddit.com for https://api.reddit.com in url\n",
      "POST: https://oauth.reddit.com/api/compose/.json\n"
     ]
    },
    {
     "name": "stdout",
     "output_type": "stream",
     "text": [
      "Message successfully sent to user evilmomlady\n",
      "APPENDING TO FILE: {'username': 'evilmomlady', 'get_info_date': '2018-04-17 13:44:59.841567', 'deleted': False, 'url': 'https://docs.google.com/forms/d/e/1FAIpQLSfmgOcsF0ALqWGPHGpJq2cwUr-xIG-uizbQqXPzPuTkrPM-Lg/viewform?usp=pp_url&entry.360321409=evilmomlady&entry.1933578897', 'first_comment_week': 2}\n",
      "first_comment_week: 2\n",
      "url: https://docs.google.com/forms/d/e/1FAIpQLSfmgOcsF0ALqWGPHGpJq2cwUr-xIG-uizbQqXPzPuTkrPM-Lg/viewform?usp=pp_url&entry.360321409=evilmomlady&entry.1933578897\n",
      "get_info_data: 2018-04-17 13:44:59.841567\n",
      "deleted: False\n",
      "User genitame found: {'is_mod': False, 'has_subscribed': True, 'hide_from_robots': False, 'verified': False, 'icon_img': 'https://www.redditstatic.com/avatars/avatar_default_04_46D160.png', 'is_employee': False, 'comment_karma': 13570, 'name': 'genitame', 'subreddit': None, 'is_gold': False, 'is_friend': False, 'id': 'dc5kn', 'has_verified_email': False, 'pref_show_snoovatar': False, 'created': 1380597411.0, 'created_utc': 1380568611.0, 'link_karma': 805}\n",
      "Sending a message to user genitame with data {'first_comment_week': 2, 'username': 'genitame', 'url': 'https://docs.google.com/forms/d/e/1FAIpQLSfmgOcsF0ALqWGPHGpJq2cwUr-xIG-uizbQqXPzPuTkrPM-Lg/viewform?usp=pp_url&entry.360321409=genitame&entry.1933578897', 'deleted': False, 'get_info_date': '2018-04-17 13:45:04.005128'}\n"
     ]
    },
    {
     "name": "stderr",
     "output_type": "stream",
     "text": [
      "substituting https://oauth.reddit.com for https://api.reddit.com in url\n",
      "GET: https://oauth.reddit.com/user/genitame/about/.json\n",
      "substituting https://oauth.reddit.com for https://api.reddit.com in url\n",
      "POST: https://oauth.reddit.com/api/compose/.json\n"
     ]
    },
    {
     "name": "stdout",
     "output_type": "stream",
     "text": [
      "Message successfully sent to user genitame\n",
      "APPENDING TO FILE: {'username': 'genitame', 'get_info_date': '2018-04-17 13:45:04.005128', 'deleted': False, 'url': 'https://docs.google.com/forms/d/e/1FAIpQLSfmgOcsF0ALqWGPHGpJq2cwUr-xIG-uizbQqXPzPuTkrPM-Lg/viewform?usp=pp_url&entry.360321409=genitame&entry.1933578897', 'first_comment_week': 2}\n",
      "first_comment_week: 2\n",
      "url: https://docs.google.com/forms/d/e/1FAIpQLSfmgOcsF0ALqWGPHGpJq2cwUr-xIG-uizbQqXPzPuTkrPM-Lg/viewform?usp=pp_url&entry.360321409=genitame&entry.1933578897\n",
      "get_info_data: 2018-04-17 13:45:04.005128\n",
      "deleted: False\n",
      "User sircontagious found: {'is_mod': False, 'has_subscribed': True, 'hide_from_robots': False, 'verified': True, 'icon_img': 'https://www.redditstatic.com/avatars/avatar_default_09_7E53C1.png', 'is_employee': False, 'comment_karma': 123, 'name': 'sircontagious', 'subreddit': {'icon_size': [256, 256], 'key_color': '', 'link_flair_enabled': False, 'subreddit_type': 'user', 'name': 't5_b03vi', 'user_is_moderator': False, 'community_icon': '', 'header_img': None, 'public_description': '', 'show_media': True, 'audience_target': '', 'url': '/user/sircontagious/', 'description': '', 'display_name_prefixed': 'u/sircontagious', 'subscribers': 0, 'display_name': 'u_sircontagious', 'user_is_banned': False, 'is_default_icon': True, 'icon_img': 'https://www.redditstatic.com/avatars/avatar_default_09_7E53C1.png', 'over_18': False, 'is_default_banner': True, 'user_is_contributor': False, 'icon_color': '#7E53C1', 'header_size': None, 'user_is_muted': False, 'banner_size': None, 'user_is_subscriber': False, 'banner_img': '', 'title': '', 'default_set': True, 'primary_color': ''}, 'is_gold': False, 'is_friend': False, 'id': 'z3hk8', 'has_verified_email': True, 'pref_show_snoovatar': False, 'created': 1467183880.0, 'created_utc': 1467155080.0, 'link_karma': 7}\n",
      "Sending a message to user sircontagious with data {'first_comment_week': 2, 'username': 'sircontagious', 'url': 'https://docs.google.com/forms/d/e/1FAIpQLSfmgOcsF0ALqWGPHGpJq2cwUr-xIG-uizbQqXPzPuTkrPM-Lg/viewform?usp=pp_url&entry.360321409=sircontagious&entry.1933578897', 'deleted': False, 'get_info_date': '2018-04-17 13:45:08.194688'}\n"
     ]
    },
    {
     "name": "stderr",
     "output_type": "stream",
     "text": [
      "substituting https://oauth.reddit.com for https://api.reddit.com in url\n",
      "GET: https://oauth.reddit.com/user/sircontagious/about/.json\n",
      "substituting https://oauth.reddit.com for https://api.reddit.com in url\n",
      "POST: https://oauth.reddit.com/api/compose/.json\n"
     ]
    },
    {
     "name": "stdout",
     "output_type": "stream",
     "text": [
      "Message successfully sent to user sircontagious\n",
      "APPENDING TO FILE: {'username': 'sircontagious', 'get_info_date': '2018-04-17 13:45:08.194688', 'deleted': False, 'url': 'https://docs.google.com/forms/d/e/1FAIpQLSfmgOcsF0ALqWGPHGpJq2cwUr-xIG-uizbQqXPzPuTkrPM-Lg/viewform?usp=pp_url&entry.360321409=sircontagious&entry.1933578897', 'first_comment_week': 2}\n",
      "first_comment_week: 2\n",
      "url: https://docs.google.com/forms/d/e/1FAIpQLSfmgOcsF0ALqWGPHGpJq2cwUr-xIG-uizbQqXPzPuTkrPM-Lg/viewform?usp=pp_url&entry.360321409=sircontagious&entry.1933578897\n",
      "get_info_data: 2018-04-17 13:45:08.194688\n",
      "deleted: False\n"
     ]
    },
    {
     "name": "stderr",
     "output_type": "stream",
     "text": [
      "substituting https://oauth.reddit.com for https://api.reddit.com in url\n",
      "GET: https://oauth.reddit.com/user/chilipepper50/about/.json\n"
     ]
    },
    {
     "name": "stdout",
     "output_type": "stream",
     "text": [
      "User chilipepper50 found: {'is_mod': True, 'has_subscribed': True, 'hide_from_robots': False, 'verified': True, 'icon_img': 'https://s.redditmedia.com/t5_cij5e/styles/profileIcon_w2rw1lzoupq01.jpg?fit=crop&crop=faces%2Centropy&arh=1.0&w=256&h=256&s=a8def6fd528c318782b82612c8ab8b70', 'is_employee': False, 'comment_karma': 11556, 'name': 'chilipepper50', 'subreddit': {'icon_size': [256, 256], 'key_color': '', 'link_flair_enabled': False, 'subreddit_type': 'user', 'name': 't5_cij5e', 'user_is_moderator': False, 'community_icon': '', 'header_img': None, 'public_description': '', 'show_media': True, 'audience_target': '', 'url': '/user/chilipepper50/', 'description': '', 'display_name_prefixed': 'u/chilipepper50', 'subscribers': 0, 'display_name': 'u_chilipepper50', 'user_is_banned': False, 'is_default_icon': False, 'icon_img': 'https://s.redditmedia.com/t5_cij5e/styles/profileIcon_w2rw1lzoupq01.jpg?fit=crop&crop=faces%2Centropy&arh=1.0&w=256&h=256&s=a8def6fd528c318782b82612c8ab8b70', 'over_18': False, 'is_default_banner': False, 'user_is_contributor': False, 'icon_color': '', 'header_size': None, 'user_is_muted': False, 'banner_size': [1280, 384], 'user_is_subscriber': False, 'banner_img': 'https://s.redditmedia.com/t5_cij5e/styles/profileBanner_9jptsa8lupq01.png?fit=crop&crop=center&arh=0.3&w=1280&h=384&s=7748d0d994bdc9fc584727dcc3221695', 'title': '', 'default_set': True, 'primary_color': ''}, 'is_gold': False, 'is_friend': False, 'id': 'nmzhsht', 'has_verified_email': True, 'pref_show_snoovatar': False, 'created': 1516210762.0, 'created_utc': 1516181962.0, 'link_karma': 4111}\n",
      "Sending a message to user chilipepper50 with data {'first_comment_week': 2, 'username': 'chilipepper50', 'url': 'https://docs.google.com/forms/d/e/1FAIpQLSfmgOcsF0ALqWGPHGpJq2cwUr-xIG-uizbQqXPzPuTkrPM-Lg/viewform?usp=pp_url&entry.360321409=chilipepper50&entry.1933578897', 'deleted': False, 'get_info_date': '2018-04-17 13:45:12.547671'}\n"
     ]
    },
    {
     "name": "stderr",
     "output_type": "stream",
     "text": [
      "substituting https://oauth.reddit.com for https://api.reddit.com in url\n",
      "POST: https://oauth.reddit.com/api/compose/.json\n"
     ]
    },
    {
     "name": "stdout",
     "output_type": "stream",
     "text": [
      "Message successfully sent to user chilipepper50\n",
      "APPENDING TO FILE: {'username': 'chilipepper50', 'get_info_date': '2018-04-17 13:45:12.547671', 'deleted': False, 'url': 'https://docs.google.com/forms/d/e/1FAIpQLSfmgOcsF0ALqWGPHGpJq2cwUr-xIG-uizbQqXPzPuTkrPM-Lg/viewform?usp=pp_url&entry.360321409=chilipepper50&entry.1933578897', 'first_comment_week': 2}\n",
      "first_comment_week: 2\n",
      "url: https://docs.google.com/forms/d/e/1FAIpQLSfmgOcsF0ALqWGPHGpJq2cwUr-xIG-uizbQqXPzPuTkrPM-Lg/viewform?usp=pp_url&entry.360321409=chilipepper50&entry.1933578897\n",
      "get_info_data: 2018-04-17 13:45:12.547671\n",
      "deleted: False\n",
      "User Thorax_impales found: {'is_mod': True, 'has_subscribed': True, 'hide_from_robots': False, 'verified': True, 'icon_img': 'https://www.redditstatic.com/avatars/avatar_default_11_24A0ED.png', 'is_employee': False, 'comment_karma': 1752, 'name': 'Thorax_impales', 'subreddit': {'icon_size': [256, 256], 'key_color': '', 'link_flair_enabled': False, 'subreddit_type': 'user', 'name': 't5_3l8lu', 'user_is_moderator': False, 'community_icon': '', 'header_img': None, 'public_description': '', 'show_media': True, 'audience_target': '', 'url': '/user/Thorax_impales/', 'description': '', 'display_name_prefixed': 'u/Thorax_impales', 'subscribers': 0, 'display_name': 'u_Thorax_impales', 'user_is_banned': False, 'is_default_icon': True, 'icon_img': 'https://www.redditstatic.com/avatars/avatar_default_11_24A0ED.png', 'over_18': True, 'is_default_banner': True, 'user_is_contributor': False, 'icon_color': '#24A0ED', 'header_size': None, 'user_is_muted': False, 'banner_size': None, 'user_is_subscriber': False, 'banner_img': '', 'title': 'Thorax_impales', 'default_set': True, 'primary_color': ''}, 'is_gold': False, 'is_friend': False, 'id': '3apkm', 'has_verified_email': True, 'pref_show_snoovatar': False, 'created': 1226937197.0, 'created_utc': 1226908397.0, 'link_karma': 1256}\n",
      "Sending a message to user Thorax_impales with data {'first_comment_week': 2, 'username': 'Thorax_impales', 'url': 'https://docs.google.com/forms/d/e/1FAIpQLSfmgOcsF0ALqWGPHGpJq2cwUr-xIG-uizbQqXPzPuTkrPM-Lg/viewform?usp=pp_url&entry.360321409=Thorax_impales&entry.1933578897', 'deleted': False, 'get_info_date': '2018-04-17 13:45:16.727690'}\n"
     ]
    },
    {
     "name": "stderr",
     "output_type": "stream",
     "text": [
      "substituting https://oauth.reddit.com for https://api.reddit.com in url\n",
      "GET: https://oauth.reddit.com/user/Thorax_impales/about/.json\n",
      "substituting https://oauth.reddit.com for https://api.reddit.com in url\n",
      "POST: https://oauth.reddit.com/api/compose/.json\n"
     ]
    },
    {
     "name": "stdout",
     "output_type": "stream",
     "text": [
      "Message successfully sent to user Thorax_impales\n",
      "APPENDING TO FILE: {'username': 'Thorax_impales', 'get_info_date': '2018-04-17 13:45:16.727690', 'deleted': False, 'url': 'https://docs.google.com/forms/d/e/1FAIpQLSfmgOcsF0ALqWGPHGpJq2cwUr-xIG-uizbQqXPzPuTkrPM-Lg/viewform?usp=pp_url&entry.360321409=Thorax_impales&entry.1933578897', 'first_comment_week': 2}\n",
      "first_comment_week: 2\n",
      "url: https://docs.google.com/forms/d/e/1FAIpQLSfmgOcsF0ALqWGPHGpJq2cwUr-xIG-uizbQqXPzPuTkrPM-Lg/viewform?usp=pp_url&entry.360321409=Thorax_impales&entry.1933578897\n",
      "get_info_data: 2018-04-17 13:45:16.727690\n",
      "deleted: False\n"
     ]
    },
    {
     "name": "stderr",
     "output_type": "stream",
     "text": [
      "substituting https://oauth.reddit.com for https://api.reddit.com in url\n",
      "GET: https://oauth.reddit.com/user/Colbz1994/about/.json\n"
     ]
    },
    {
     "name": "stdout",
     "output_type": "stream",
     "text": [
      "User Colbz1994 found: {'is_mod': False, 'has_subscribed': True, 'hide_from_robots': False, 'verified': True, 'icon_img': 'https://www.redditstatic.com/avatars/avatar_default_09_46D160.png', 'is_employee': False, 'comment_karma': 17, 'name': 'Colbz1994', 'subreddit': {'icon_size': [256, 256], 'key_color': '', 'link_flair_enabled': False, 'subreddit_type': 'user', 'name': 't5_aqxw4', 'user_is_moderator': False, 'community_icon': '', 'header_img': None, 'public_description': '', 'show_media': True, 'audience_target': '', 'url': '/user/Colbz1994/', 'description': '', 'display_name_prefixed': 'u/Colbz1994', 'subscribers': 0, 'display_name': 'u_Colbz1994', 'user_is_banned': False, 'is_default_icon': True, 'icon_img': 'https://www.redditstatic.com/avatars/avatar_default_09_46D160.png', 'over_18': False, 'is_default_banner': True, 'user_is_contributor': False, 'icon_color': '#46D160', 'header_size': None, 'user_is_muted': False, 'banner_size': None, 'user_is_subscriber': False, 'banner_img': '', 'title': '', 'default_set': True, 'primary_color': ''}, 'is_gold': False, 'is_friend': False, 'id': '8qhgg', 'has_verified_email': True, 'pref_show_snoovatar': False, 'created': 1345538349.0, 'created_utc': 1345509549.0, 'link_karma': 68}\n",
      "Sending a message to user Colbz1994 with data {'first_comment_week': 2, 'username': 'Colbz1994', 'url': 'https://docs.google.com/forms/d/e/1FAIpQLSfmgOcsF0ALqWGPHGpJq2cwUr-xIG-uizbQqXPzPuTkrPM-Lg/viewform?usp=pp_url&entry.360321409=Colbz1994&entry.1933578897', 'deleted': False, 'get_info_date': '2018-04-17 13:45:21.081085'}\n"
     ]
    },
    {
     "name": "stderr",
     "output_type": "stream",
     "text": [
      "substituting https://oauth.reddit.com for https://api.reddit.com in url\n",
      "POST: https://oauth.reddit.com/api/compose/.json\n"
     ]
    },
    {
     "name": "stdout",
     "output_type": "stream",
     "text": [
      "Message successfully sent to user Colbz1994\n",
      "APPENDING TO FILE: {'username': 'Colbz1994', 'get_info_date': '2018-04-17 13:45:21.081085', 'deleted': False, 'url': 'https://docs.google.com/forms/d/e/1FAIpQLSfmgOcsF0ALqWGPHGpJq2cwUr-xIG-uizbQqXPzPuTkrPM-Lg/viewform?usp=pp_url&entry.360321409=Colbz1994&entry.1933578897', 'first_comment_week': 2}\n",
      "first_comment_week: 2\n",
      "url: https://docs.google.com/forms/d/e/1FAIpQLSfmgOcsF0ALqWGPHGpJq2cwUr-xIG-uizbQqXPzPuTkrPM-Lg/viewform?usp=pp_url&entry.360321409=Colbz1994&entry.1933578897\n",
      "get_info_data: 2018-04-17 13:45:21.081085\n",
      "deleted: False\n",
      "User TheWakalix found: {'is_mod': True, 'has_subscribed': True, 'hide_from_robots': True, 'verified': True, 'icon_img': 'https://s.redditmedia.com/t5_3l7xz/styles/profileIcon_t0ugxpjncr801.PNG?fit=crop&crop=faces%2Centropy&arh=1.0&w=256&h=256&s=b6243bf218cd080a7d7027e88be7d512', 'is_employee': False, 'comment_karma': 11135, 'name': 'TheWakalix', 'subreddit': {'icon_size': [256, 256], 'key_color': '', 'link_flair_enabled': True, 'subreddit_type': 'user', 'name': 't5_3l7xz', 'user_is_moderator': False, 'community_icon': '', 'header_img': None, 'public_description': 'Rationalist. Likes STEM and philosophy. Leans left-libertarian. Non-binary trans person [they/them/theirs], AMAB. Plays roguelikes and 4X games sometimes. TMBG fan.', 'show_media': True, 'audience_target': '', 'url': '/user/TheWakalix/', 'description': '', 'display_name_prefixed': 'u/TheWakalix', 'subscribers': 0, 'display_name': 'u_TheWakalix', 'user_is_banned': False, 'is_default_icon': False, 'icon_img': 'https://s.redditmedia.com/t5_3l7xz/styles/profileIcon_t0ugxpjncr801.PNG?fit=crop&crop=faces%2Centropy&arh=1.0&w=256&h=256&s=b6243bf218cd080a7d7027e88be7d512', 'over_18': False, 'is_default_banner': False, 'user_is_contributor': False, 'icon_color': '', 'header_size': None, 'user_is_muted': False, 'banner_size': [1280, 384], 'user_is_subscriber': False, 'banner_img': 'https://s.redditmedia.com/t5_3l7xz/styles/profileBanner_idfsab1ycr801.jpg?fit=crop&crop=center&arh=0.3&w=1280&h=384&s=089df5a39c8c97bc0c1637f5200a861c', 'title': 'The Wakalix', 'default_set': True, 'primary_color': ''}, 'is_gold': False, 'is_friend': False, 'id': '14t2cw', 'has_verified_email': True, 'pref_show_snoovatar': False, 'created': 1485494734.0, 'created_utc': 1485465934.0, 'link_karma': 851}\n",
      "Sending a message to user TheWakalix with data {'first_comment_week': 2, 'username': 'TheWakalix', 'url': 'https://docs.google.com/forms/d/e/1FAIpQLSfmgOcsF0ALqWGPHGpJq2cwUr-xIG-uizbQqXPzPuTkrPM-Lg/viewform?usp=pp_url&entry.360321409=TheWakalix&entry.1933578897', 'deleted': False, 'get_info_date': '2018-04-17 13:45:25.255365'}\n"
     ]
    },
    {
     "name": "stderr",
     "output_type": "stream",
     "text": [
      "substituting https://oauth.reddit.com for https://api.reddit.com in url\n",
      "GET: https://oauth.reddit.com/user/TheWakalix/about/.json\n",
      "substituting https://oauth.reddit.com for https://api.reddit.com in url\n",
      "POST: https://oauth.reddit.com/api/compose/.json\n"
     ]
    },
    {
     "name": "stdout",
     "output_type": "stream",
     "text": [
      "Message successfully sent to user TheWakalix\n",
      "APPENDING TO FILE: {'username': 'TheWakalix', 'get_info_date': '2018-04-17 13:45:25.255365', 'deleted': False, 'url': 'https://docs.google.com/forms/d/e/1FAIpQLSfmgOcsF0ALqWGPHGpJq2cwUr-xIG-uizbQqXPzPuTkrPM-Lg/viewform?usp=pp_url&entry.360321409=TheWakalix&entry.1933578897', 'first_comment_week': 2}\n",
      "first_comment_week: 2\n",
      "url: https://docs.google.com/forms/d/e/1FAIpQLSfmgOcsF0ALqWGPHGpJq2cwUr-xIG-uizbQqXPzPuTkrPM-Lg/viewform?usp=pp_url&entry.360321409=TheWakalix&entry.1933578897\n",
      "get_info_data: 2018-04-17 13:45:25.255365\n",
      "deleted: False\n",
      "User Xueq found: {'is_mod': False, 'has_subscribed': True, 'hide_from_robots': False, 'verified': True, 'icon_img': 'https://www.redditstatic.com/avatars/avatar_default_09_4856A3.png', 'is_employee': False, 'comment_karma': 999, 'name': 'Xueq', 'subreddit': {'icon_size': [256, 256], 'key_color': '', 'link_flair_enabled': False, 'subreddit_type': 'user', 'name': 't5_bj12t', 'user_is_moderator': False, 'community_icon': '', 'header_img': None, 'public_description': '', 'show_media': True, 'audience_target': '', 'url': '/user/Xueq/', 'description': '', 'display_name_prefixed': 'u/Xueq', 'subscribers': 0, 'display_name': 'u_Xueq', 'user_is_banned': False, 'is_default_icon': True, 'icon_img': 'https://www.redditstatic.com/avatars/avatar_default_09_4856A3.png', 'over_18': False, 'is_default_banner': True, 'user_is_contributor': False, 'icon_color': '#4856A3', 'header_size': None, 'user_is_muted': False, 'banner_size': None, 'user_is_subscriber': False, 'banner_img': '', 'title': '', 'default_set': True, 'primary_color': ''}, 'is_gold': False, 'is_friend': False, 'id': 'mpv14', 'has_verified_email': True, 'pref_show_snoovatar': False, 'created': 1428278837.0, 'created_utc': 1428250037.0, 'link_karma': 1585}\n",
      "Sending a message to user Xueq with data {'first_comment_week': 2, 'username': 'Xueq', 'url': 'https://docs.google.com/forms/d/e/1FAIpQLSfmgOcsF0ALqWGPHGpJq2cwUr-xIG-uizbQqXPzPuTkrPM-Lg/viewform?usp=pp_url&entry.360321409=Xueq&entry.1933578897', 'deleted': False, 'get_info_date': '2018-04-17 13:45:29.445215'}\n"
     ]
    },
    {
     "name": "stderr",
     "output_type": "stream",
     "text": [
      "substituting https://oauth.reddit.com for https://api.reddit.com in url\n",
      "GET: https://oauth.reddit.com/user/Xueq/about/.json\n",
      "substituting https://oauth.reddit.com for https://api.reddit.com in url\n",
      "POST: https://oauth.reddit.com/api/compose/.json\n"
     ]
    },
    {
     "name": "stdout",
     "output_type": "stream",
     "text": [
      "Message successfully sent to user Xueq\n",
      "APPENDING TO FILE: {'username': 'Xueq', 'get_info_date': '2018-04-17 13:45:29.445215', 'deleted': False, 'url': 'https://docs.google.com/forms/d/e/1FAIpQLSfmgOcsF0ALqWGPHGpJq2cwUr-xIG-uizbQqXPzPuTkrPM-Lg/viewform?usp=pp_url&entry.360321409=Xueq&entry.1933578897', 'first_comment_week': 2}\n",
      "first_comment_week: 2\n",
      "url: https://docs.google.com/forms/d/e/1FAIpQLSfmgOcsF0ALqWGPHGpJq2cwUr-xIG-uizbQqXPzPuTkrPM-Lg/viewform?usp=pp_url&entry.360321409=Xueq&entry.1933578897\n",
      "get_info_data: 2018-04-17 13:45:29.445215\n",
      "deleted: False\n",
      "User gleechgloochmarn found: {'is_mod': False, 'has_subscribed': True, 'hide_from_robots': False, 'verified': True, 'icon_img': 'https://www.redditstatic.com/avatars/avatar_default_06_FF4500.png', 'is_employee': False, 'comment_karma': 50, 'name': 'gleechgloochmarn', 'subreddit': {'icon_size': [256, 256], 'key_color': '', 'link_flair_enabled': False, 'subreddit_type': 'user', 'name': 't5_9xj5l', 'user_is_moderator': False, 'community_icon': '', 'header_img': None, 'public_description': '', 'show_media': True, 'audience_target': '', 'url': '/user/gleechgloochmarn/', 'description': '', 'display_name_prefixed': 'u/gleechgloochmarn', 'subscribers': 0, 'display_name': 'u_gleechgloochmarn', 'user_is_banned': False, 'is_default_icon': True, 'icon_img': 'https://www.redditstatic.com/avatars/avatar_default_06_FF4500.png', 'over_18': False, 'is_default_banner': True, 'user_is_contributor': False, 'icon_color': '#FF4500', 'header_size': None, 'user_is_muted': False, 'banner_size': None, 'user_is_subscriber': False, 'banner_img': '', 'title': '', 'default_set': True, 'primary_color': ''}, 'is_gold': False, 'is_friend': False, 'id': 'q0nfb05', 'has_verified_email': True, 'pref_show_snoovatar': False, 'created': 1514567751.0, 'created_utc': 1514538951.0, 'link_karma': 3}\n",
      "Sending a message to user gleechgloochmarn with data {'first_comment_week': 2, 'username': 'gleechgloochmarn', 'url': 'https://docs.google.com/forms/d/e/1FAIpQLSfmgOcsF0ALqWGPHGpJq2cwUr-xIG-uizbQqXPzPuTkrPM-Lg/viewform?usp=pp_url&entry.360321409=gleechgloochmarn&entry.1933578897', 'deleted': False, 'get_info_date': '2018-04-17 13:45:33.810936'}\n"
     ]
    },
    {
     "name": "stderr",
     "output_type": "stream",
     "text": [
      "substituting https://oauth.reddit.com for https://api.reddit.com in url\n",
      "GET: https://oauth.reddit.com/user/gleechgloochmarn/about/.json\n",
      "substituting https://oauth.reddit.com for https://api.reddit.com in url\n",
      "POST: https://oauth.reddit.com/api/compose/.json\n"
     ]
    },
    {
     "name": "stdout",
     "output_type": "stream",
     "text": [
      "Message successfully sent to user gleechgloochmarn\n",
      "APPENDING TO FILE: {'username': 'gleechgloochmarn', 'get_info_date': '2018-04-17 13:45:33.810936', 'deleted': False, 'url': 'https://docs.google.com/forms/d/e/1FAIpQLSfmgOcsF0ALqWGPHGpJq2cwUr-xIG-uizbQqXPzPuTkrPM-Lg/viewform?usp=pp_url&entry.360321409=gleechgloochmarn&entry.1933578897', 'first_comment_week': 2}\n",
      "first_comment_week: 2\n",
      "url: https://docs.google.com/forms/d/e/1FAIpQLSfmgOcsF0ALqWGPHGpJq2cwUr-xIG-uizbQqXPzPuTkrPM-Lg/viewform?usp=pp_url&entry.360321409=gleechgloochmarn&entry.1933578897\n",
      "get_info_data: 2018-04-17 13:45:33.810936\n",
      "deleted: False\n"
     ]
    },
    {
     "name": "stderr",
     "output_type": "stream",
     "text": [
      "substituting https://oauth.reddit.com for https://api.reddit.com in url\n",
      "GET: https://oauth.reddit.com/user/hotknightjenna/about/.json\n"
     ]
    },
    {
     "name": "stdout",
     "output_type": "stream",
     "text": [
      "User hotknightjenna found: {'is_mod': False, 'has_subscribed': True, 'hide_from_robots': False, 'verified': True, 'icon_img': 'https://s.redditmedia.com/t5_ej5ao/styles/profileIcon_dgrxwsco4ro01.png?fit=crop&crop=faces%2Centropy&arh=1.0&w=256&h=256&s=0f565c6ed8522ba5fd46026b6da98c3b', 'is_employee': False, 'comment_karma': 2, 'name': 'hotknightjenna', 'subreddit': {'icon_size': [256, 256], 'key_color': '', 'link_flair_enabled': False, 'subreddit_type': 'user', 'name': 't5_ej5ao', 'user_is_moderator': False, 'community_icon': '', 'header_img': None, 'public_description': 'fuck off and die', 'show_media': True, 'audience_target': '', 'url': '/user/hotknightjenna/', 'description': '', 'display_name_prefixed': 'u/hotknightjenna', 'subscribers': 0, 'display_name': 'u_hotknightjenna', 'user_is_banned': False, 'is_default_icon': False, 'icon_img': 'https://s.redditmedia.com/t5_ej5ao/styles/profileIcon_dgrxwsco4ro01.png?fit=crop&crop=faces%2Centropy&arh=1.0&w=256&h=256&s=0f565c6ed8522ba5fd46026b6da98c3b', 'over_18': True, 'is_default_banner': False, 'user_is_contributor': False, 'icon_color': '', 'header_size': None, 'user_is_muted': False, 'banner_size': [1280, 384], 'user_is_subscriber': False, 'banner_img': 'https://s.redditmedia.com/t5_ej5ao/styles/profileBanner_z7usfr7p4ro01.jpg?fit=crop&crop=center&arh=0.3&w=1280&h=384&s=f73cb5c38bc02f9ead3af4354f975fb5', 'title': 'angela', 'default_set': True, 'primary_color': ''}, 'is_gold': False, 'is_friend': False, 'id': 'taeaf9f', 'has_verified_email': False, 'pref_show_snoovatar': False, 'created': 1516705186.0, 'created_utc': 1516676386.0, 'link_karma': 55}\n",
      "Sending a message to user hotknightjenna with data {'first_comment_week': 2, 'username': 'hotknightjenna', 'url': 'https://docs.google.com/forms/d/e/1FAIpQLSfmgOcsF0ALqWGPHGpJq2cwUr-xIG-uizbQqXPzPuTkrPM-Lg/viewform?usp=pp_url&entry.360321409=hotknightjenna&entry.1933578897', 'deleted': False, 'get_info_date': '2018-04-17 13:45:38.497226'}\n"
     ]
    },
    {
     "name": "stderr",
     "output_type": "stream",
     "text": [
      "substituting https://oauth.reddit.com for https://api.reddit.com in url\n",
      "POST: https://oauth.reddit.com/api/compose/.json\n"
     ]
    },
    {
     "name": "stdout",
     "output_type": "stream",
     "text": [
      "Message successfully sent to user hotknightjenna\n",
      "APPENDING TO FILE: {'username': 'hotknightjenna', 'get_info_date': '2018-04-17 13:45:38.497226', 'deleted': False, 'url': 'https://docs.google.com/forms/d/e/1FAIpQLSfmgOcsF0ALqWGPHGpJq2cwUr-xIG-uizbQqXPzPuTkrPM-Lg/viewform?usp=pp_url&entry.360321409=hotknightjenna&entry.1933578897', 'first_comment_week': 2}\n",
      "first_comment_week: 2\n",
      "url: https://docs.google.com/forms/d/e/1FAIpQLSfmgOcsF0ALqWGPHGpJq2cwUr-xIG-uizbQqXPzPuTkrPM-Lg/viewform?usp=pp_url&entry.360321409=hotknightjenna&entry.1933578897\n",
      "get_info_data: 2018-04-17 13:45:38.497226\n",
      "deleted: False\n"
     ]
    },
    {
     "name": "stderr",
     "output_type": "stream",
     "text": [
      "substituting https://oauth.reddit.com for https://api.reddit.com in url\n",
      "GET: https://oauth.reddit.com/user/girlnebula/about/.json\n"
     ]
    },
    {
     "name": "stdout",
     "output_type": "stream",
     "text": [
      "User girlnebula found: {'is_mod': False, 'has_subscribed': True, 'hide_from_robots': False, 'verified': True, 'icon_img': 'https://s.redditmedia.com/t5_7qvr9/styles/communityIcon_f9yoo50egtj01.jpg?fit=crop&crop=faces%2Centropy&arh=1.0&w=256&h=256&s=35eb7493c783320e22bb9be848d18c09', 'is_employee': False, 'comment_karma': 3059, 'name': 'girlnebula', 'subreddit': {'icon_size': [256, 256], 'key_color': '', 'link_flair_enabled': False, 'subreddit_type': 'user', 'name': 't5_7qvr9', 'user_is_moderator': False, 'community_icon': '', 'header_img': None, 'public_description': '', 'show_media': True, 'audience_target': '', 'url': '/user/girlnebula/', 'description': '', 'display_name_prefixed': 'u/girlnebula', 'subscribers': 0, 'display_name': 'u_girlnebula', 'user_is_banned': False, 'is_default_icon': False, 'icon_img': 'https://s.redditmedia.com/t5_7qvr9/styles/communityIcon_f9yoo50egtj01.jpg?fit=crop&crop=faces%2Centropy&arh=1.0&w=256&h=256&s=35eb7493c783320e22bb9be848d18c09', 'over_18': False, 'is_default_banner': True, 'user_is_contributor': False, 'icon_color': '', 'header_size': None, 'user_is_muted': False, 'banner_size': None, 'user_is_subscriber': False, 'banner_img': '', 'title': '', 'default_set': False, 'primary_color': ''}, 'is_gold': False, 'is_friend': False, 'id': '1hacu2w', 'has_verified_email': True, 'pref_show_snoovatar': False, 'created': 1495168775.0, 'created_utc': 1495139975.0, 'link_karma': 813}\n",
      "Sending a message to user girlnebula with data {'first_comment_week': 2, 'username': 'girlnebula', 'url': 'https://docs.google.com/forms/d/e/1FAIpQLSfmgOcsF0ALqWGPHGpJq2cwUr-xIG-uizbQqXPzPuTkrPM-Lg/viewform?usp=pp_url&entry.360321409=girlnebula&entry.1933578897', 'deleted': False, 'get_info_date': '2018-04-17 13:45:42.557369'}\n"
     ]
    },
    {
     "name": "stderr",
     "output_type": "stream",
     "text": [
      "substituting https://oauth.reddit.com for https://api.reddit.com in url\n",
      "POST: https://oauth.reddit.com/api/compose/.json\n"
     ]
    },
    {
     "name": "stdout",
     "output_type": "stream",
     "text": [
      "Message successfully sent to user girlnebula\n",
      "APPENDING TO FILE: {'username': 'girlnebula', 'get_info_date': '2018-04-17 13:45:42.557369', 'deleted': False, 'url': 'https://docs.google.com/forms/d/e/1FAIpQLSfmgOcsF0ALqWGPHGpJq2cwUr-xIG-uizbQqXPzPuTkrPM-Lg/viewform?usp=pp_url&entry.360321409=girlnebula&entry.1933578897', 'first_comment_week': 2}\n",
      "first_comment_week: 2\n",
      "url: https://docs.google.com/forms/d/e/1FAIpQLSfmgOcsF0ALqWGPHGpJq2cwUr-xIG-uizbQqXPzPuTkrPM-Lg/viewform?usp=pp_url&entry.360321409=girlnebula&entry.1933578897\n",
      "get_info_data: 2018-04-17 13:45:42.557369\n",
      "deleted: False\n",
      "User 3Girls1Chinchilla found: {'is_mod': False, 'has_subscribed': True, 'hide_from_robots': False, 'verified': True, 'icon_img': 'https://www.redditstatic.com/avatars/avatar_default_11_FF4500.png', 'is_employee': False, 'comment_karma': 3709, 'name': '3Girls1Chinchilla', 'subreddit': {'icon_size': [256, 256], 'key_color': '', 'link_flair_enabled': False, 'subreddit_type': 'user', 'name': 't5_9y2qe', 'user_is_moderator': False, 'community_icon': '', 'header_img': None, 'public_description': '', 'show_media': True, 'audience_target': '', 'url': '/user/3Girls1Chinchilla/', 'description': '', 'display_name_prefixed': 'u/3Girls1Chinchilla', 'subscribers': 0, 'display_name': 'u_3Girls1Chinchilla', 'user_is_banned': False, 'is_default_icon': True, 'icon_img': 'https://www.redditstatic.com/avatars/avatar_default_11_FF4500.png', 'over_18': False, 'is_default_banner': True, 'user_is_contributor': False, 'icon_color': '#FF4500', 'header_size': None, 'user_is_muted': False, 'banner_size': None, 'user_is_subscriber': False, 'banner_img': '', 'title': '', 'default_set': True, 'primary_color': ''}, 'is_gold': False, 'is_friend': False, 'id': 'q2em95m', 'has_verified_email': False, 'pref_show_snoovatar': False, 'created': 1514604335.0, 'created_utc': 1514575535.0, 'link_karma': 187}\n",
      "Sending a message to user 3Girls1Chinchilla with data {'first_comment_week': 2, 'username': '3Girls1Chinchilla', 'url': 'https://docs.google.com/forms/d/e/1FAIpQLSfmgOcsF0ALqWGPHGpJq2cwUr-xIG-uizbQqXPzPuTkrPM-Lg/viewform?usp=pp_url&entry.360321409=3Girls1Chinchilla&entry.1933578897', 'deleted': False, 'get_info_date': '2018-04-17 13:45:46.735124'}\n"
     ]
    },
    {
     "name": "stderr",
     "output_type": "stream",
     "text": [
      "substituting https://oauth.reddit.com for https://api.reddit.com in url\n",
      "GET: https://oauth.reddit.com/user/3Girls1Chinchilla/about/.json\n",
      "substituting https://oauth.reddit.com for https://api.reddit.com in url\n",
      "POST: https://oauth.reddit.com/api/compose/.json\n"
     ]
    },
    {
     "name": "stdout",
     "output_type": "stream",
     "text": [
      "Message successfully sent to user 3Girls1Chinchilla\n",
      "APPENDING TO FILE: {'username': '3Girls1Chinchilla', 'get_info_date': '2018-04-17 13:45:46.735124', 'deleted': False, 'url': 'https://docs.google.com/forms/d/e/1FAIpQLSfmgOcsF0ALqWGPHGpJq2cwUr-xIG-uizbQqXPzPuTkrPM-Lg/viewform?usp=pp_url&entry.360321409=3Girls1Chinchilla&entry.1933578897', 'first_comment_week': 2}\n",
      "first_comment_week: 2\n",
      "url: https://docs.google.com/forms/d/e/1FAIpQLSfmgOcsF0ALqWGPHGpJq2cwUr-xIG-uizbQqXPzPuTkrPM-Lg/viewform?usp=pp_url&entry.360321409=3Girls1Chinchilla&entry.1933578897\n",
      "get_info_data: 2018-04-17 13:45:46.735124\n",
      "deleted: False\n",
      "User JesusLeChrist found: {'is_mod': False, 'has_subscribed': True, 'hide_from_robots': False, 'verified': True, 'icon_img': 'https://s.redditmedia.com/t5_cpg6k/styles/profileIcon_g7jvdwszafl01.jpg?fit=crop&crop=faces%2Centropy&arh=1.0&w=256&h=256&s=6484ec224238ceb24d99a4d4c9e39af2', 'is_employee': False, 'comment_karma': 2755, 'name': 'JesusLeChrist', 'subreddit': {'icon_size': [256, 256], 'key_color': '', 'link_flair_enabled': False, 'subreddit_type': 'user', 'name': 't5_cpg6k', 'user_is_moderator': False, 'community_icon': '', 'header_img': None, 'public_description': 'JesusLeChrist, French for JesusChrist.\\n\\n', 'show_media': True, 'audience_target': '', 'url': '/user/JesusLeChrist/', 'description': '', 'display_name_prefixed': 'u/JesusLeChrist', 'subscribers': 0, 'display_name': 'u_JesusLeChrist', 'user_is_banned': False, 'is_default_icon': False, 'icon_img': 'https://s.redditmedia.com/t5_cpg6k/styles/profileIcon_g7jvdwszafl01.jpg?fit=crop&crop=faces%2Centropy&arh=1.0&w=256&h=256&s=6484ec224238ceb24d99a4d4c9e39af2', 'over_18': False, 'is_default_banner': False, 'user_is_contributor': False, 'icon_color': '', 'header_size': None, 'user_is_muted': False, 'banner_size': [1280, 384], 'user_is_subscriber': False, 'banner_img': 'https://s.redditmedia.com/t5_cpg6k/styles/profileBanner_dam89ehvafl01.jpg?fit=crop&crop=center&arh=0.3&w=1280&h=384&s=d8855796f045c7ae7bb1fd9f228d7ec1', 'title': 'JesusLeChrist', 'default_set': True, 'primary_color': ''}, 'is_gold': False, 'is_friend': False, 'id': 'rzapr', 'has_verified_email': False, 'pref_show_snoovatar': False, 'created': 1447398638.0, 'created_utc': 1447369838.0, 'link_karma': 435}\n",
      "Sending a message to user JesusLeChrist with data {'first_comment_week': 2, 'username': 'JesusLeChrist', 'url': 'https://docs.google.com/forms/d/e/1FAIpQLSfmgOcsF0ALqWGPHGpJq2cwUr-xIG-uizbQqXPzPuTkrPM-Lg/viewform?usp=pp_url&entry.360321409=JesusLeChrist&entry.1933578897', 'deleted': False, 'get_info_date': '2018-04-17 13:45:50.827140'}\n"
     ]
    },
    {
     "name": "stderr",
     "output_type": "stream",
     "text": [
      "substituting https://oauth.reddit.com for https://api.reddit.com in url\n",
      "GET: https://oauth.reddit.com/user/JesusLeChrist/about/.json\n",
      "substituting https://oauth.reddit.com for https://api.reddit.com in url\n",
      "POST: https://oauth.reddit.com/api/compose/.json\n"
     ]
    },
    {
     "name": "stdout",
     "output_type": "stream",
     "text": [
      "Message successfully sent to user JesusLeChrist\n",
      "APPENDING TO FILE: {'username': 'JesusLeChrist', 'get_info_date': '2018-04-17 13:45:50.827140', 'deleted': False, 'url': 'https://docs.google.com/forms/d/e/1FAIpQLSfmgOcsF0ALqWGPHGpJq2cwUr-xIG-uizbQqXPzPuTkrPM-Lg/viewform?usp=pp_url&entry.360321409=JesusLeChrist&entry.1933578897', 'first_comment_week': 2}\n",
      "first_comment_week: 2\n",
      "url: https://docs.google.com/forms/d/e/1FAIpQLSfmgOcsF0ALqWGPHGpJq2cwUr-xIG-uizbQqXPzPuTkrPM-Lg/viewform?usp=pp_url&entry.360321409=JesusLeChrist&entry.1933578897\n",
      "get_info_data: 2018-04-17 13:45:50.827140\n",
      "deleted: False\n",
      "User katie140 found: {'is_mod': False, 'has_subscribed': True, 'hide_from_robots': False, 'verified': True, 'icon_img': 'https://www.redditstatic.com/avatars/avatar_default_04_24A0ED.png', 'is_employee': False, 'comment_karma': 352, 'name': 'katie140', 'subreddit': {'icon_size': [256, 256], 'key_color': '', 'link_flair_enabled': False, 'subreddit_type': 'user', 'name': 't5_a3ogz', 'user_is_moderator': False, 'community_icon': '', 'header_img': None, 'public_description': '', 'show_media': True, 'audience_target': '', 'url': '/user/katie140/', 'description': '', 'display_name_prefixed': 'u/katie140', 'subscribers': 0, 'display_name': 'u_katie140', 'user_is_banned': False, 'is_default_icon': True, 'icon_img': 'https://www.redditstatic.com/avatars/avatar_default_04_24A0ED.png', 'over_18': False, 'is_default_banner': True, 'user_is_contributor': False, 'icon_color': '#24A0ED', 'header_size': None, 'user_is_muted': False, 'banner_size': None, 'user_is_subscriber': False, 'banner_img': '', 'title': '', 'default_set': True, 'primary_color': ''}, 'is_gold': False, 'is_friend': False, 'id': 'ozwj1nj', 'has_verified_email': True, 'pref_show_snoovatar': False, 'created': 1514942811.0, 'created_utc': 1514914011.0, 'link_karma': 20}\n",
      "Sending a message to user katie140 with data {'first_comment_week': 2, 'username': 'katie140', 'url': 'https://docs.google.com/forms/d/e/1FAIpQLSfmgOcsF0ALqWGPHGpJq2cwUr-xIG-uizbQqXPzPuTkrPM-Lg/viewform?usp=pp_url&entry.360321409=katie140&entry.1933578897', 'deleted': False, 'get_info_date': '2018-04-17 13:45:55.085316'}\n"
     ]
    },
    {
     "name": "stderr",
     "output_type": "stream",
     "text": [
      "substituting https://oauth.reddit.com for https://api.reddit.com in url\n",
      "GET: https://oauth.reddit.com/user/katie140/about/.json\n",
      "substituting https://oauth.reddit.com for https://api.reddit.com in url\n",
      "POST: https://oauth.reddit.com/api/compose/.json\n"
     ]
    },
    {
     "name": "stdout",
     "output_type": "stream",
     "text": [
      "Message successfully sent to user katie140\n",
      "APPENDING TO FILE: {'username': 'katie140', 'get_info_date': '2018-04-17 13:45:55.085316', 'deleted': False, 'url': 'https://docs.google.com/forms/d/e/1FAIpQLSfmgOcsF0ALqWGPHGpJq2cwUr-xIG-uizbQqXPzPuTkrPM-Lg/viewform?usp=pp_url&entry.360321409=katie140&entry.1933578897', 'first_comment_week': 2}\n",
      "first_comment_week: 2\n",
      "url: https://docs.google.com/forms/d/e/1FAIpQLSfmgOcsF0ALqWGPHGpJq2cwUr-xIG-uizbQqXPzPuTkrPM-Lg/viewform?usp=pp_url&entry.360321409=katie140&entry.1933578897\n",
      "get_info_data: 2018-04-17 13:45:55.085316\n",
      "deleted: False\n",
      "User catsandnoodles found: {'is_mod': False, 'has_subscribed': True, 'hide_from_robots': False, 'verified': True, 'icon_img': 'https://www.redditstatic.com/avatars/avatar_default_07_FFB000.png', 'is_employee': False, 'comment_karma': 5634, 'name': 'catsandnoodles', 'subreddit': {'icon_size': [256, 256], 'key_color': '', 'link_flair_enabled': False, 'subreddit_type': 'user', 'name': 't5_bbr50', 'user_is_moderator': False, 'community_icon': '', 'header_img': None, 'public_description': '', 'show_media': True, 'audience_target': '', 'url': '/user/catsandnoodles/', 'description': '', 'display_name_prefixed': 'u/catsandnoodles', 'subscribers': 0, 'display_name': 'u_catsandnoodles', 'user_is_banned': False, 'is_default_icon': True, 'icon_img': 'https://www.redditstatic.com/avatars/avatar_default_07_FFB000.png', 'over_18': False, 'is_default_banner': True, 'user_is_contributor': False, 'icon_color': '#FFB000', 'header_size': None, 'user_is_muted': False, 'banner_size': None, 'user_is_subscriber': False, 'banner_img': '', 'title': '', 'default_set': True, 'primary_color': ''}, 'is_gold': False, 'is_friend': False, 'id': 'r3a06', 'has_verified_email': False, 'pref_show_snoovatar': False, 'created': 1444564671.0, 'created_utc': 1444535871.0, 'link_karma': 606}\n",
      "Sending a message to user catsandnoodles with data {'first_comment_week': 2, 'username': 'catsandnoodles', 'url': 'https://docs.google.com/forms/d/e/1FAIpQLSfmgOcsF0ALqWGPHGpJq2cwUr-xIG-uizbQqXPzPuTkrPM-Lg/viewform?usp=pp_url&entry.360321409=catsandnoodles&entry.1933578897', 'deleted': False, 'get_info_date': '2018-04-17 13:45:59.302465'}\n"
     ]
    },
    {
     "name": "stderr",
     "output_type": "stream",
     "text": [
      "substituting https://oauth.reddit.com for https://api.reddit.com in url\n",
      "GET: https://oauth.reddit.com/user/catsandnoodles/about/.json\n",
      "substituting https://oauth.reddit.com for https://api.reddit.com in url\n",
      "POST: https://oauth.reddit.com/api/compose/.json\n"
     ]
    },
    {
     "name": "stdout",
     "output_type": "stream",
     "text": [
      "Message successfully sent to user catsandnoodles\n",
      "APPENDING TO FILE: {'username': 'catsandnoodles', 'get_info_date': '2018-04-17 13:45:59.302465', 'deleted': False, 'url': 'https://docs.google.com/forms/d/e/1FAIpQLSfmgOcsF0ALqWGPHGpJq2cwUr-xIG-uizbQqXPzPuTkrPM-Lg/viewform?usp=pp_url&entry.360321409=catsandnoodles&entry.1933578897', 'first_comment_week': 2}\n",
      "first_comment_week: 2\n",
      "url: https://docs.google.com/forms/d/e/1FAIpQLSfmgOcsF0ALqWGPHGpJq2cwUr-xIG-uizbQqXPzPuTkrPM-Lg/viewform?usp=pp_url&entry.360321409=catsandnoodles&entry.1933578897\n",
      "get_info_data: 2018-04-17 13:45:59.302465\n",
      "deleted: False\n",
      "User medic72 found: {'is_mod': False, 'has_subscribed': True, 'hide_from_robots': True, 'verified': True, 'icon_img': 'https://www.redditstatic.com/avatars/avatar_default_10_4856A3.png', 'is_employee': False, 'comment_karma': 59, 'name': 'medic72', 'subreddit': {'icon_size': [256, 256], 'key_color': '', 'link_flair_enabled': False, 'subreddit_type': 'user', 'name': 't5_ch13h', 'user_is_moderator': False, 'community_icon': '', 'header_img': None, 'public_description': '', 'show_media': True, 'audience_target': '', 'url': '/user/medic72/', 'description': '', 'display_name_prefixed': 'u/medic72', 'subscribers': 0, 'display_name': 'u_medic72', 'user_is_banned': False, 'is_default_icon': True, 'icon_img': 'https://www.redditstatic.com/avatars/avatar_default_10_4856A3.png', 'over_18': False, 'is_default_banner': True, 'user_is_contributor': False, 'icon_color': '#4856A3', 'header_size': None, 'user_is_muted': False, 'banner_size': None, 'user_is_subscriber': False, 'banner_img': '', 'title': '', 'default_set': True, 'primary_color': ''}, 'is_gold': False, 'is_friend': False, 'id': 'fanth', 'has_verified_email': True, 'pref_show_snoovatar': False, 'created': 1392555736.0, 'created_utc': 1392526936.0, 'link_karma': 7}\n",
      "Sending a message to user medic72 with data {'first_comment_week': 2, 'username': 'medic72', 'url': 'https://docs.google.com/forms/d/e/1FAIpQLSfmgOcsF0ALqWGPHGpJq2cwUr-xIG-uizbQqXPzPuTkrPM-Lg/viewform?usp=pp_url&entry.360321409=medic72&entry.1933578897', 'deleted': False, 'get_info_date': '2018-04-17 13:46:03.511295'}\n"
     ]
    },
    {
     "name": "stderr",
     "output_type": "stream",
     "text": [
      "substituting https://oauth.reddit.com for https://api.reddit.com in url\n",
      "GET: https://oauth.reddit.com/user/medic72/about/.json\n",
      "substituting https://oauth.reddit.com for https://api.reddit.com in url\n",
      "POST: https://oauth.reddit.com/api/compose/.json\n"
     ]
    },
    {
     "name": "stdout",
     "output_type": "stream",
     "text": [
      "Message successfully sent to user medic72\n",
      "APPENDING TO FILE: {'username': 'medic72', 'get_info_date': '2018-04-17 13:46:03.511295', 'deleted': False, 'url': 'https://docs.google.com/forms/d/e/1FAIpQLSfmgOcsF0ALqWGPHGpJq2cwUr-xIG-uizbQqXPzPuTkrPM-Lg/viewform?usp=pp_url&entry.360321409=medic72&entry.1933578897', 'first_comment_week': 2}\n",
      "first_comment_week: 2\n",
      "url: https://docs.google.com/forms/d/e/1FAIpQLSfmgOcsF0ALqWGPHGpJq2cwUr-xIG-uizbQqXPzPuTkrPM-Lg/viewform?usp=pp_url&entry.360321409=medic72&entry.1933578897\n",
      "get_info_data: 2018-04-17 13:46:03.511295\n",
      "deleted: False\n",
      "User drewdonohue13 found: {'is_mod': False, 'has_subscribed': True, 'hide_from_robots': False, 'verified': True, 'icon_img': 'https://www.redditstatic.com/avatars/avatar_default_09_4856A3.png', 'is_employee': False, 'comment_karma': 84, 'name': 'drewdonohue13', 'subreddit': {'icon_size': [256, 256], 'key_color': '', 'link_flair_enabled': False, 'subreddit_type': 'user', 'name': 't5_gg4d3', 'user_is_moderator': False, 'community_icon': '', 'header_img': None, 'public_description': 'REEEEEEEEEEEEEEEEEEEEEEEE', 'show_media': True, 'audience_target': '', 'url': '/user/drewdonohue13/', 'description': '', 'display_name_prefixed': 'u/drewdonohue13', 'subscribers': 0, 'display_name': 'u_drewdonohue13', 'user_is_banned': False, 'is_default_icon': True, 'icon_img': 'https://www.redditstatic.com/avatars/avatar_default_09_4856A3.png', 'over_18': False, 'is_default_banner': True, 'user_is_contributor': False, 'icon_color': '#4856A3', 'header_size': None, 'user_is_muted': False, 'banner_size': None, 'user_is_subscriber': False, 'banner_img': '', 'title': 'Itsyourboychipsahoy', 'default_set': True, 'primary_color': ''}, 'is_gold': False, 'is_friend': False, 'id': 'zq5na5o', 'has_verified_email': False, 'pref_show_snoovatar': False, 'created': 1520131617.0, 'created_utc': 1520102817.0, 'link_karma': 1}\n",
      "Sending a message to user drewdonohue13 with data {'first_comment_week': 2, 'username': 'drewdonohue13', 'url': 'https://docs.google.com/forms/d/e/1FAIpQLSfmgOcsF0ALqWGPHGpJq2cwUr-xIG-uizbQqXPzPuTkrPM-Lg/viewform?usp=pp_url&entry.360321409=drewdonohue13&entry.1933578897', 'deleted': False, 'get_info_date': '2018-04-17 13:46:07.828914'}\n"
     ]
    },
    {
     "name": "stderr",
     "output_type": "stream",
     "text": [
      "substituting https://oauth.reddit.com for https://api.reddit.com in url\n",
      "GET: https://oauth.reddit.com/user/drewdonohue13/about/.json\n",
      "substituting https://oauth.reddit.com for https://api.reddit.com in url\n",
      "POST: https://oauth.reddit.com/api/compose/.json\n"
     ]
    },
    {
     "name": "stdout",
     "output_type": "stream",
     "text": [
      "Message successfully sent to user drewdonohue13\n",
      "APPENDING TO FILE: {'username': 'drewdonohue13', 'get_info_date': '2018-04-17 13:46:07.828914', 'deleted': False, 'url': 'https://docs.google.com/forms/d/e/1FAIpQLSfmgOcsF0ALqWGPHGpJq2cwUr-xIG-uizbQqXPzPuTkrPM-Lg/viewform?usp=pp_url&entry.360321409=drewdonohue13&entry.1933578897', 'first_comment_week': 2}\n",
      "first_comment_week: 2\n",
      "url: https://docs.google.com/forms/d/e/1FAIpQLSfmgOcsF0ALqWGPHGpJq2cwUr-xIG-uizbQqXPzPuTkrPM-Lg/viewform?usp=pp_url&entry.360321409=drewdonohue13&entry.1933578897\n",
      "get_info_data: 2018-04-17 13:46:07.828914\n",
      "deleted: False\n",
      "User Zaidswith found: {'is_mod': False, 'has_subscribed': True, 'hide_from_robots': True, 'verified': True, 'icon_img': 'https://www.redditstatic.com/avatars/avatar_default_10_DB0064.png', 'is_employee': False, 'comment_karma': 14601, 'name': 'Zaidswith', 'subreddit': {'icon_size': [256, 256], 'key_color': '', 'link_flair_enabled': False, 'subreddit_type': 'user', 'name': 't5_b00cn', 'user_is_moderator': False, 'community_icon': '', 'header_img': None, 'public_description': '', 'show_media': True, 'audience_target': '', 'url': '/user/Zaidswith/', 'description': '', 'display_name_prefixed': 'u/Zaidswith', 'subscribers': 0, 'display_name': 'u_Zaidswith', 'user_is_banned': False, 'is_default_icon': True, 'icon_img': 'https://www.redditstatic.com/avatars/avatar_default_10_DB0064.png', 'over_18': False, 'is_default_banner': True, 'user_is_contributor': False, 'icon_color': '#DB0064', 'header_size': None, 'user_is_muted': False, 'banner_size': None, 'user_is_subscriber': False, 'banner_img': '', 'title': '', 'default_set': True, 'primary_color': ''}, 'is_gold': False, 'is_friend': False, 'id': 'dhnc9', 'has_verified_email': False, 'pref_show_snoovatar': False, 'created': 1381659523.0, 'created_utc': 1381630723.0, 'link_karma': 59}\n",
      "Sending a message to user Zaidswith with data {'first_comment_week': 2, 'username': 'Zaidswith', 'url': 'https://docs.google.com/forms/d/e/1FAIpQLSfmgOcsF0ALqWGPHGpJq2cwUr-xIG-uizbQqXPzPuTkrPM-Lg/viewform?usp=pp_url&entry.360321409=Zaidswith&entry.1933578897', 'deleted': False, 'get_info_date': '2018-04-17 13:46:12.058485'}\n"
     ]
    },
    {
     "name": "stderr",
     "output_type": "stream",
     "text": [
      "substituting https://oauth.reddit.com for https://api.reddit.com in url\n",
      "GET: https://oauth.reddit.com/user/Zaidswith/about/.json\n",
      "substituting https://oauth.reddit.com for https://api.reddit.com in url\n",
      "POST: https://oauth.reddit.com/api/compose/.json\n"
     ]
    },
    {
     "name": "stdout",
     "output_type": "stream",
     "text": [
      "Message successfully sent to user Zaidswith\n",
      "APPENDING TO FILE: {'username': 'Zaidswith', 'get_info_date': '2018-04-17 13:46:12.058485', 'deleted': False, 'url': 'https://docs.google.com/forms/d/e/1FAIpQLSfmgOcsF0ALqWGPHGpJq2cwUr-xIG-uizbQqXPzPuTkrPM-Lg/viewform?usp=pp_url&entry.360321409=Zaidswith&entry.1933578897', 'first_comment_week': 2}\n",
      "first_comment_week: 2\n",
      "url: https://docs.google.com/forms/d/e/1FAIpQLSfmgOcsF0ALqWGPHGpJq2cwUr-xIG-uizbQqXPzPuTkrPM-Lg/viewform?usp=pp_url&entry.360321409=Zaidswith&entry.1933578897\n",
      "get_info_data: 2018-04-17 13:46:12.058485\n",
      "deleted: False\n",
      "User scribble23 found: {'is_mod': False, 'has_subscribed': True, 'hide_from_robots': True, 'verified': True, 'icon_img': 'https://www.redditstatic.com/avatars/avatar_default_09_7E53C1.png', 'is_employee': False, 'comment_karma': 25599, 'name': 'scribble23', 'subreddit': {'icon_size': [256, 256], 'key_color': '', 'link_flair_enabled': False, 'subreddit_type': 'user', 'name': 't5_b7qjj', 'user_is_moderator': False, 'community_icon': '', 'header_img': None, 'public_description': '', 'show_media': True, 'audience_target': '', 'url': '/user/scribble23/', 'description': '', 'display_name_prefixed': 'u/scribble23', 'subscribers': 0, 'display_name': 'u_scribble23', 'user_is_banned': False, 'is_default_icon': True, 'icon_img': 'https://www.redditstatic.com/avatars/avatar_default_09_7E53C1.png', 'over_18': False, 'is_default_banner': True, 'user_is_contributor': False, 'icon_color': '#7E53C1', 'header_size': None, 'user_is_muted': False, 'banner_size': None, 'user_is_subscriber': False, 'banner_img': '', 'title': '', 'default_set': True, 'primary_color': ''}, 'is_gold': False, 'is_friend': False, 'id': 'wemog', 'has_verified_email': None, 'pref_show_snoovatar': False, 'created': 1458068203.0, 'created_utc': 1458039403.0, 'link_karma': 1}\n",
      "Sending a message to user scribble23 with data {'first_comment_week': 2, 'username': 'scribble23', 'url': 'https://docs.google.com/forms/d/e/1FAIpQLSfmgOcsF0ALqWGPHGpJq2cwUr-xIG-uizbQqXPzPuTkrPM-Lg/viewform?usp=pp_url&entry.360321409=scribble23&entry.1933578897', 'deleted': False, 'get_info_date': '2018-04-17 13:46:16.226358'}\n"
     ]
    },
    {
     "name": "stderr",
     "output_type": "stream",
     "text": [
      "substituting https://oauth.reddit.com for https://api.reddit.com in url\n",
      "GET: https://oauth.reddit.com/user/scribble23/about/.json\n",
      "substituting https://oauth.reddit.com for https://api.reddit.com in url\n",
      "POST: https://oauth.reddit.com/api/compose/.json\n"
     ]
    },
    {
     "name": "stdout",
     "output_type": "stream",
     "text": [
      "Message successfully sent to user scribble23\n",
      "APPENDING TO FILE: {'username': 'scribble23', 'get_info_date': '2018-04-17 13:46:16.226358', 'deleted': False, 'url': 'https://docs.google.com/forms/d/e/1FAIpQLSfmgOcsF0ALqWGPHGpJq2cwUr-xIG-uizbQqXPzPuTkrPM-Lg/viewform?usp=pp_url&entry.360321409=scribble23&entry.1933578897', 'first_comment_week': 2}\n",
      "first_comment_week: 2\n",
      "url: https://docs.google.com/forms/d/e/1FAIpQLSfmgOcsF0ALqWGPHGpJq2cwUr-xIG-uizbQqXPzPuTkrPM-Lg/viewform?usp=pp_url&entry.360321409=scribble23&entry.1933578897\n",
      "get_info_data: 2018-04-17 13:46:16.226358\n",
      "deleted: False\n",
      "User lil-tard found: {'is_mod': False, 'has_subscribed': True, 'hide_from_robots': False, 'verified': True, 'icon_img': 'https://www.redditstatic.com/avatars/avatar_default_16_7E53C1.png', 'is_employee': False, 'comment_karma': -5, 'name': 'lil-tard', 'subreddit': {'icon_size': [256, 256], 'key_color': '', 'link_flair_enabled': False, 'subreddit_type': 'user', 'name': 't5_hcg4g', 'user_is_moderator': False, 'community_icon': '', 'header_img': None, 'public_description': '', 'show_media': True, 'audience_target': '', 'url': '/user/lil-tard/', 'description': '', 'display_name_prefixed': 'u/lil-tard', 'subscribers': 0, 'display_name': 'u_lil-tard', 'user_is_banned': False, 'is_default_icon': True, 'icon_img': 'https://www.redditstatic.com/avatars/avatar_default_16_7E53C1.png', 'over_18': False, 'is_default_banner': True, 'user_is_contributor': False, 'icon_color': '#7E53C1', 'header_size': None, 'user_is_muted': False, 'banner_size': None, 'user_is_subscriber': False, 'banner_img': '', 'title': '', 'default_set': True, 'primary_color': ''}, 'is_gold': False, 'is_friend': False, 'id': '13nl9zcb', 'has_verified_email': False, 'pref_show_snoovatar': False, 'created': 1522197954.0, 'created_utc': 1522169154.0, 'link_karma': 1}\n",
      "Sending a message to user lil-tard with data {'first_comment_week': 2, 'username': 'lil-tard', 'url': 'https://docs.google.com/forms/d/e/1FAIpQLSfmgOcsF0ALqWGPHGpJq2cwUr-xIG-uizbQqXPzPuTkrPM-Lg/viewform?usp=pp_url&entry.360321409=lil-tard&entry.1933578897', 'deleted': False, 'get_info_date': '2018-04-17 13:46:20.445656'}\n"
     ]
    },
    {
     "name": "stderr",
     "output_type": "stream",
     "text": [
      "substituting https://oauth.reddit.com for https://api.reddit.com in url\n",
      "GET: https://oauth.reddit.com/user/lil-tard/about/.json\n",
      "substituting https://oauth.reddit.com for https://api.reddit.com in url\n",
      "POST: https://oauth.reddit.com/api/compose/.json\n"
     ]
    },
    {
     "name": "stdout",
     "output_type": "stream",
     "text": [
      "Message successfully sent to user lil-tard\n",
      "APPENDING TO FILE: {'username': 'lil-tard', 'get_info_date': '2018-04-17 13:46:20.445656', 'deleted': False, 'url': 'https://docs.google.com/forms/d/e/1FAIpQLSfmgOcsF0ALqWGPHGpJq2cwUr-xIG-uizbQqXPzPuTkrPM-Lg/viewform?usp=pp_url&entry.360321409=lil-tard&entry.1933578897', 'first_comment_week': 2}\n",
      "first_comment_week: 2\n",
      "url: https://docs.google.com/forms/d/e/1FAIpQLSfmgOcsF0ALqWGPHGpJq2cwUr-xIG-uizbQqXPzPuTkrPM-Lg/viewform?usp=pp_url&entry.360321409=lil-tard&entry.1933578897\n",
      "get_info_data: 2018-04-17 13:46:20.445656\n",
      "deleted: False\n",
      "User dellorTtoGuoYahaH found: {'is_mod': True, 'has_subscribed': True, 'hide_from_robots': False, 'verified': True, 'icon_img': 'https://www.redditstatic.com/avatars/avatar_default_01_94E044.png', 'is_employee': False, 'comment_karma': -2, 'name': 'dellorTtoGuoYahaH', 'subreddit': {'icon_size': [256, 256], 'key_color': '', 'link_flair_enabled': False, 'subreddit_type': 'user', 'name': 't5_hb6p1', 'user_is_moderator': False, 'community_icon': '', 'header_img': None, 'public_description': 'Read my username backwards very very carefully.', 'show_media': True, 'audience_target': '', 'url': '/user/dellorTtoGuoYahaH/', 'description': '', 'display_name_prefixed': 'u/dellorTtoGuoYahaH', 'subscribers': 0, 'display_name': 'u_dellorTtoGuoYahaH', 'user_is_banned': False, 'is_default_icon': True, 'icon_img': 'https://www.redditstatic.com/avatars/avatar_default_01_94E044.png', 'over_18': False, 'is_default_banner': True, 'user_is_contributor': False, 'icon_color': '#94E044', 'header_size': None, 'user_is_muted': False, 'banner_size': None, 'user_is_subscriber': False, 'banner_img': '', 'title': '', 'default_set': True, 'primary_color': ''}, 'is_gold': False, 'is_friend': False, 'id': '13hx2er8', 'has_verified_email': False, 'pref_show_snoovatar': False, 'created': 1522117376.0, 'created_utc': 1522088576.0, 'link_karma': 1}\n",
      "Sending a message to user dellorTtoGuoYahaH with data {'first_comment_week': 2, 'username': 'dellorTtoGuoYahaH', 'url': 'https://docs.google.com/forms/d/e/1FAIpQLSfmgOcsF0ALqWGPHGpJq2cwUr-xIG-uizbQqXPzPuTkrPM-Lg/viewform?usp=pp_url&entry.360321409=dellorTtoGuoYahaH&entry.1933578897', 'deleted': False, 'get_info_date': '2018-04-17 13:46:24.971175'}\n"
     ]
    },
    {
     "name": "stderr",
     "output_type": "stream",
     "text": [
      "substituting https://oauth.reddit.com for https://api.reddit.com in url\n",
      "GET: https://oauth.reddit.com/user/dellorTtoGuoYahaH/about/.json\n",
      "substituting https://oauth.reddit.com for https://api.reddit.com in url\n",
      "POST: https://oauth.reddit.com/api/compose/.json\n"
     ]
    },
    {
     "name": "stdout",
     "output_type": "stream",
     "text": [
      "Message successfully sent to user dellorTtoGuoYahaH\n",
      "APPENDING TO FILE: {'username': 'dellorTtoGuoYahaH', 'get_info_date': '2018-04-17 13:46:24.971175', 'deleted': False, 'url': 'https://docs.google.com/forms/d/e/1FAIpQLSfmgOcsF0ALqWGPHGpJq2cwUr-xIG-uizbQqXPzPuTkrPM-Lg/viewform?usp=pp_url&entry.360321409=dellorTtoGuoYahaH&entry.1933578897', 'first_comment_week': 2}\n",
      "first_comment_week: 2\n",
      "url: https://docs.google.com/forms/d/e/1FAIpQLSfmgOcsF0ALqWGPHGpJq2cwUr-xIG-uizbQqXPzPuTkrPM-Lg/viewform?usp=pp_url&entry.360321409=dellorTtoGuoYahaH&entry.1933578897\n",
      "get_info_data: 2018-04-17 13:46:24.971175\n",
      "deleted: False\n",
      "User SonicCows36 found: {'is_mod': False, 'has_subscribed': True, 'hide_from_robots': False, 'verified': False, 'icon_img': 'https://www.redditstatic.com/avatars/avatar_default_08_4856A3.png', 'is_employee': False, 'comment_karma': 881, 'name': 'SonicCows36', 'subreddit': None, 'is_gold': False, 'is_friend': False, 'id': '15jg5v', 'has_verified_email': True, 'pref_show_snoovatar': False, 'created': 1487511069.0, 'created_utc': 1487482269.0, 'link_karma': 777}\n",
      "Sending a message to user SonicCows36 with data {'first_comment_week': 2, 'username': 'SonicCows36', 'url': 'https://docs.google.com/forms/d/e/1FAIpQLSfmgOcsF0ALqWGPHGpJq2cwUr-xIG-uizbQqXPzPuTkrPM-Lg/viewform?usp=pp_url&entry.360321409=SonicCows36&entry.1933578897', 'deleted': False, 'get_info_date': '2018-04-17 13:46:29.111268'}\n"
     ]
    },
    {
     "name": "stderr",
     "output_type": "stream",
     "text": [
      "substituting https://oauth.reddit.com for https://api.reddit.com in url\n",
      "GET: https://oauth.reddit.com/user/SonicCows36/about/.json\n",
      "substituting https://oauth.reddit.com for https://api.reddit.com in url\n",
      "POST: https://oauth.reddit.com/api/compose/.json\n"
     ]
    },
    {
     "name": "stdout",
     "output_type": "stream",
     "text": [
      "Message successfully sent to user SonicCows36\n",
      "APPENDING TO FILE: {'username': 'SonicCows36', 'get_info_date': '2018-04-17 13:46:29.111268', 'deleted': False, 'url': 'https://docs.google.com/forms/d/e/1FAIpQLSfmgOcsF0ALqWGPHGpJq2cwUr-xIG-uizbQqXPzPuTkrPM-Lg/viewform?usp=pp_url&entry.360321409=SonicCows36&entry.1933578897', 'first_comment_week': 2}\n",
      "first_comment_week: 2\n",
      "url: https://docs.google.com/forms/d/e/1FAIpQLSfmgOcsF0ALqWGPHGpJq2cwUr-xIG-uizbQqXPzPuTkrPM-Lg/viewform?usp=pp_url&entry.360321409=SonicCows36&entry.1933578897\n",
      "get_info_data: 2018-04-17 13:46:29.111268\n",
      "deleted: False\n",
      "User Eeveelutionary found: {'is_mod': False, 'has_subscribed': True, 'hide_from_robots': False, 'verified': False, 'icon_img': 'https://www.redditstatic.com/avatars/avatar_default_07_25B79F.png', 'is_employee': False, 'comment_karma': 427, 'name': 'Eeveelutionary', 'subreddit': None, 'is_gold': False, 'is_friend': False, 'id': '93k5e', 'has_verified_email': True, 'pref_show_snoovatar': False, 'created': 1348434612.0, 'created_utc': 1348405812.0, 'link_karma': 1}\n",
      "Sending a message to user Eeveelutionary with data {'first_comment_week': 2, 'username': 'Eeveelutionary', 'url': 'https://docs.google.com/forms/d/e/1FAIpQLSfmgOcsF0ALqWGPHGpJq2cwUr-xIG-uizbQqXPzPuTkrPM-Lg/viewform?usp=pp_url&entry.360321409=Eeveelutionary&entry.1933578897', 'deleted': False, 'get_info_date': '2018-04-17 13:46:33.389012'}\n"
     ]
    },
    {
     "name": "stderr",
     "output_type": "stream",
     "text": [
      "substituting https://oauth.reddit.com for https://api.reddit.com in url\n",
      "GET: https://oauth.reddit.com/user/Eeveelutionary/about/.json\n",
      "substituting https://oauth.reddit.com for https://api.reddit.com in url\n",
      "POST: https://oauth.reddit.com/api/compose/.json\n"
     ]
    },
    {
     "name": "stdout",
     "output_type": "stream",
     "text": [
      "Message successfully sent to user Eeveelutionary\n",
      "APPENDING TO FILE: {'username': 'Eeveelutionary', 'get_info_date': '2018-04-17 13:46:33.389012', 'deleted': False, 'url': 'https://docs.google.com/forms/d/e/1FAIpQLSfmgOcsF0ALqWGPHGpJq2cwUr-xIG-uizbQqXPzPuTkrPM-Lg/viewform?usp=pp_url&entry.360321409=Eeveelutionary&entry.1933578897', 'first_comment_week': 2}\n",
      "first_comment_week: 2\n",
      "url: https://docs.google.com/forms/d/e/1FAIpQLSfmgOcsF0ALqWGPHGpJq2cwUr-xIG-uizbQqXPzPuTkrPM-Lg/viewform?usp=pp_url&entry.360321409=Eeveelutionary&entry.1933578897\n",
      "get_info_data: 2018-04-17 13:46:33.389012\n",
      "deleted: False\n"
     ]
    },
    {
     "name": "stderr",
     "output_type": "stream",
     "text": [
      "substituting https://oauth.reddit.com for https://api.reddit.com in url\n",
      "GET: https://oauth.reddit.com/user/pink_paperclips/about/.json\n"
     ]
    },
    {
     "name": "stdout",
     "output_type": "stream",
     "text": [
      "User pink_paperclips found: {'is_mod': False, 'has_subscribed': True, 'hide_from_robots': False, 'verified': True, 'icon_img': 'https://s.redditmedia.com/t5_h823z/styles/profileIcon_gksrwmu2stn01.jpg?fit=crop&crop=faces%2Centropy&arh=1.0&w=256&h=256&s=3cae54818eba0cb1798feb801ed206d3', 'is_employee': False, 'comment_karma': 3346, 'name': 'pink_paperclips', 'subreddit': {'icon_size': [256, 256], 'key_color': '', 'link_flair_enabled': False, 'subreddit_type': 'user', 'name': 't5_h823z', 'user_is_moderator': False, 'community_icon': '', 'header_img': None, 'public_description': 'pinkpaperclips.bandcamp.com', 'show_media': True, 'audience_target': '', 'url': '/user/pink_paperclips/', 'description': '', 'display_name_prefixed': 'u/pink_paperclips', 'subscribers': 0, 'display_name': 'u_pink_paperclips', 'user_is_banned': False, 'is_default_icon': False, 'icon_img': 'https://s.redditmedia.com/t5_h823z/styles/profileIcon_gksrwmu2stn01.jpg?fit=crop&crop=faces%2Centropy&arh=1.0&w=256&h=256&s=3cae54818eba0cb1798feb801ed206d3', 'over_18': False, 'is_default_banner': False, 'user_is_contributor': False, 'icon_color': '', 'header_size': None, 'user_is_muted': False, 'banner_size': [1280, 384], 'user_is_subscriber': False, 'banner_img': 'https://s.redditmedia.com/t5_h823z/styles/profileBanner_vh9x2ezecvn01.jpg?fit=crop&crop=center&arh=0.3&w=1280&h=384&s=72637328961f449a316f875f4b5e4a97', 'title': 'pink paperclips', 'default_set': True, 'primary_color': ''}, 'is_gold': False, 'is_friend': False, 'id': '133osate', 'has_verified_email': True, 'pref_show_snoovatar': False, 'created': 1521907902.0, 'created_utc': 1521879102.0, 'link_karma': 50}\n",
      "Sending a message to user pink_paperclips with data {'first_comment_week': 2, 'username': 'pink_paperclips', 'url': 'https://docs.google.com/forms/d/e/1FAIpQLSfmgOcsF0ALqWGPHGpJq2cwUr-xIG-uizbQqXPzPuTkrPM-Lg/viewform?usp=pp_url&entry.360321409=pink_paperclips&entry.1933578897', 'deleted': False, 'get_info_date': '2018-04-17 13:46:37.676939'}\n"
     ]
    },
    {
     "name": "stderr",
     "output_type": "stream",
     "text": [
      "substituting https://oauth.reddit.com for https://api.reddit.com in url\n",
      "POST: https://oauth.reddit.com/api/compose/.json\n"
     ]
    },
    {
     "name": "stdout",
     "output_type": "stream",
     "text": [
      "Message successfully sent to user pink_paperclips\n",
      "APPENDING TO FILE: {'username': 'pink_paperclips', 'get_info_date': '2018-04-17 13:46:37.676939', 'deleted': False, 'url': 'https://docs.google.com/forms/d/e/1FAIpQLSfmgOcsF0ALqWGPHGpJq2cwUr-xIG-uizbQqXPzPuTkrPM-Lg/viewform?usp=pp_url&entry.360321409=pink_paperclips&entry.1933578897', 'first_comment_week': 2}\n",
      "first_comment_week: 2\n",
      "url: https://docs.google.com/forms/d/e/1FAIpQLSfmgOcsF0ALqWGPHGpJq2cwUr-xIG-uizbQqXPzPuTkrPM-Lg/viewform?usp=pp_url&entry.360321409=pink_paperclips&entry.1933578897\n",
      "get_info_data: 2018-04-17 13:46:37.676939\n",
      "deleted: False\n",
      "User ChewMyMeatForYou found: {'is_mod': False, 'has_subscribed': True, 'hide_from_robots': True, 'verified': True, 'icon_img': 'https://www.redditstatic.com/avatars/avatar_default_02_46A508.png', 'is_employee': False, 'comment_karma': 3685, 'name': 'ChewMyMeatForYou', 'subreddit': {'icon_size': [256, 256], 'key_color': '', 'link_flair_enabled': False, 'subreddit_type': 'user', 'name': 't5_gix20', 'user_is_moderator': False, 'community_icon': '', 'header_img': None, 'public_description': '', 'show_media': True, 'audience_target': '', 'url': '/user/ChewMyMeatForYou/', 'description': '', 'display_name_prefixed': 'u/ChewMyMeatForYou', 'subscribers': 0, 'display_name': 'u_ChewMyMeatForYou', 'user_is_banned': False, 'is_default_icon': True, 'icon_img': 'https://www.redditstatic.com/avatars/avatar_default_02_46A508.png', 'over_18': False, 'is_default_banner': True, 'user_is_contributor': False, 'icon_color': '#46A508', 'header_size': None, 'user_is_muted': False, 'banner_size': None, 'user_is_subscriber': False, 'banner_img': '', 'title': '', 'default_set': True, 'primary_color': ''}, 'is_gold': False, 'is_friend': False, 'id': '102q8d4h', 'has_verified_email': True, 'pref_show_snoovatar': False, 'created': 1520314265.0, 'created_utc': 1520285465.0, 'link_karma': 752}\n",
      "Sending a message to user ChewMyMeatForYou with data {'first_comment_week': 2, 'username': 'ChewMyMeatForYou', 'url': 'https://docs.google.com/forms/d/e/1FAIpQLSfmgOcsF0ALqWGPHGpJq2cwUr-xIG-uizbQqXPzPuTkrPM-Lg/viewform?usp=pp_url&entry.360321409=ChewMyMeatForYou&entry.1933578897', 'deleted': False, 'get_info_date': '2018-04-17 13:46:41.827977'}\n"
     ]
    },
    {
     "name": "stderr",
     "output_type": "stream",
     "text": [
      "substituting https://oauth.reddit.com for https://api.reddit.com in url\n",
      "GET: https://oauth.reddit.com/user/ChewMyMeatForYou/about/.json\n",
      "substituting https://oauth.reddit.com for https://api.reddit.com in url\n",
      "POST: https://oauth.reddit.com/api/compose/.json\n"
     ]
    },
    {
     "name": "stdout",
     "output_type": "stream",
     "text": [
      "Message successfully sent to user ChewMyMeatForYou\n",
      "APPENDING TO FILE: {'username': 'ChewMyMeatForYou', 'get_info_date': '2018-04-17 13:46:41.827977', 'deleted': False, 'url': 'https://docs.google.com/forms/d/e/1FAIpQLSfmgOcsF0ALqWGPHGpJq2cwUr-xIG-uizbQqXPzPuTkrPM-Lg/viewform?usp=pp_url&entry.360321409=ChewMyMeatForYou&entry.1933578897', 'first_comment_week': 2}\n",
      "first_comment_week: 2\n",
      "url: https://docs.google.com/forms/d/e/1FAIpQLSfmgOcsF0ALqWGPHGpJq2cwUr-xIG-uizbQqXPzPuTkrPM-Lg/viewform?usp=pp_url&entry.360321409=ChewMyMeatForYou&entry.1933578897\n",
      "get_info_data: 2018-04-17 13:46:41.827977\n",
      "deleted: False\n",
      "User Mirilliux found: {'is_mod': False, 'has_subscribed': True, 'hide_from_robots': False, 'verified': True, 'icon_img': 'https://www.redditstatic.com/avatars/avatar_default_03_EA0027.png', 'is_employee': False, 'comment_karma': 1250, 'name': 'Mirilliux', 'subreddit': {'icon_size': [256, 256], 'key_color': '', 'link_flair_enabled': False, 'subreddit_type': 'user', 'name': 't5_9j14t', 'user_is_moderator': False, 'community_icon': '', 'header_img': None, 'public_description': '', 'show_media': True, 'audience_target': '', 'url': '/user/Mirilliux/', 'description': '', 'display_name_prefixed': 'u/Mirilliux', 'subscribers': 0, 'display_name': 'u_Mirilliux', 'user_is_banned': False, 'is_default_icon': True, 'icon_img': 'https://www.redditstatic.com/avatars/avatar_default_03_EA0027.png', 'over_18': False, 'is_default_banner': True, 'user_is_contributor': False, 'icon_color': '#EA0027', 'header_size': None, 'user_is_muted': False, 'banner_size': None, 'user_is_subscriber': False, 'banner_img': '', 'title': '', 'default_set': True, 'primary_color': ''}, 'is_gold': False, 'is_friend': False, 'id': '16nxju', 'has_verified_email': False, 'pref_show_snoovatar': False, 'created': 1491030168.0, 'created_utc': 1491001368.0, 'link_karma': 343}\n",
      "Sending a message to user Mirilliux with data {'first_comment_week': 2, 'username': 'Mirilliux', 'url': 'https://docs.google.com/forms/d/e/1FAIpQLSfmgOcsF0ALqWGPHGpJq2cwUr-xIG-uizbQqXPzPuTkrPM-Lg/viewform?usp=pp_url&entry.360321409=Mirilliux&entry.1933578897', 'deleted': False, 'get_info_date': '2018-04-17 13:46:45.989764'}\n"
     ]
    },
    {
     "name": "stderr",
     "output_type": "stream",
     "text": [
      "substituting https://oauth.reddit.com for https://api.reddit.com in url\n",
      "GET: https://oauth.reddit.com/user/Mirilliux/about/.json\n",
      "substituting https://oauth.reddit.com for https://api.reddit.com in url\n",
      "POST: https://oauth.reddit.com/api/compose/.json\n"
     ]
    },
    {
     "name": "stdout",
     "output_type": "stream",
     "text": [
      "Message successfully sent to user Mirilliux\n",
      "APPENDING TO FILE: {'username': 'Mirilliux', 'get_info_date': '2018-04-17 13:46:45.989764', 'deleted': False, 'url': 'https://docs.google.com/forms/d/e/1FAIpQLSfmgOcsF0ALqWGPHGpJq2cwUr-xIG-uizbQqXPzPuTkrPM-Lg/viewform?usp=pp_url&entry.360321409=Mirilliux&entry.1933578897', 'first_comment_week': 2}\n",
      "first_comment_week: 2\n",
      "url: https://docs.google.com/forms/d/e/1FAIpQLSfmgOcsF0ALqWGPHGpJq2cwUr-xIG-uizbQqXPzPuTkrPM-Lg/viewform?usp=pp_url&entry.360321409=Mirilliux&entry.1933578897\n",
      "get_info_data: 2018-04-17 13:46:45.989764\n",
      "deleted: False\n",
      "User chrisrayn found: {'is_mod': False, 'has_subscribed': True, 'hide_from_robots': False, 'verified': True, 'icon_img': 'https://www.redditstatic.com/avatars/avatar_default_15_7E53C1.png', 'is_employee': False, 'comment_karma': 30578, 'name': 'chrisrayn', 'subreddit': {'icon_size': [256, 256], 'key_color': '', 'link_flair_enabled': False, 'subreddit_type': 'user', 'name': 't5_bzrn5', 'user_is_moderator': False, 'community_icon': '', 'header_img': None, 'public_description': '', 'show_media': True, 'audience_target': '', 'url': '/user/chrisrayn/', 'description': '', 'display_name_prefixed': 'u/chrisrayn', 'subscribers': 0, 'display_name': 'u_chrisrayn', 'user_is_banned': False, 'is_default_icon': True, 'icon_img': 'https://www.redditstatic.com/avatars/avatar_default_15_7E53C1.png', 'over_18': False, 'is_default_banner': True, 'user_is_contributor': False, 'icon_color': '#7E53C1', 'header_size': None, 'user_is_muted': False, 'banner_size': None, 'user_is_subscriber': False, 'banner_img': '', 'title': '', 'default_set': True, 'primary_color': ''}, 'is_gold': True, 'is_friend': False, 'id': '5miqi', 'has_verified_email': True, 'pref_show_snoovatar': False, 'created': 1312624200.0, 'created_utc': 1312595400.0, 'link_karma': 66520}\n",
      "Sending a message to user chrisrayn with data {'first_comment_week': 2, 'username': 'chrisrayn', 'url': 'https://docs.google.com/forms/d/e/1FAIpQLSfmgOcsF0ALqWGPHGpJq2cwUr-xIG-uizbQqXPzPuTkrPM-Lg/viewform?usp=pp_url&entry.360321409=chrisrayn&entry.1933578897', 'deleted': False, 'get_info_date': '2018-04-17 13:46:50.244687'}\n"
     ]
    },
    {
     "name": "stderr",
     "output_type": "stream",
     "text": [
      "substituting https://oauth.reddit.com for https://api.reddit.com in url\n",
      "GET: https://oauth.reddit.com/user/chrisrayn/about/.json\n",
      "substituting https://oauth.reddit.com for https://api.reddit.com in url\n",
      "POST: https://oauth.reddit.com/api/compose/.json\n"
     ]
    },
    {
     "name": "stdout",
     "output_type": "stream",
     "text": [
      "Message successfully sent to user chrisrayn\n",
      "APPENDING TO FILE: {'username': 'chrisrayn', 'get_info_date': '2018-04-17 13:46:50.244687', 'deleted': False, 'url': 'https://docs.google.com/forms/d/e/1FAIpQLSfmgOcsF0ALqWGPHGpJq2cwUr-xIG-uizbQqXPzPuTkrPM-Lg/viewform?usp=pp_url&entry.360321409=chrisrayn&entry.1933578897', 'first_comment_week': 2}\n",
      "first_comment_week: 2\n",
      "url: https://docs.google.com/forms/d/e/1FAIpQLSfmgOcsF0ALqWGPHGpJq2cwUr-xIG-uizbQqXPzPuTkrPM-Lg/viewform?usp=pp_url&entry.360321409=chrisrayn&entry.1933578897\n",
      "get_info_data: 2018-04-17 13:46:50.244687\n",
      "deleted: False\n",
      "User AqUaNtUmEpIc found: {'is_mod': False, 'has_subscribed': True, 'hide_from_robots': False, 'verified': True, 'icon_img': 'https://www.redditstatic.com/avatars/avatar_default_02_25B79F.png', 'is_employee': False, 'comment_karma': 226, 'name': 'AqUaNtUmEpIc', 'subreddit': {'icon_size': [256, 256], 'key_color': '', 'link_flair_enabled': False, 'subreddit_type': 'user', 'name': 't5_c24t7', 'user_is_moderator': False, 'community_icon': '', 'header_img': None, 'public_description': '', 'show_media': True, 'audience_target': '', 'url': '/user/AqUaNtUmEpIc/', 'description': '', 'display_name_prefixed': 'u/AqUaNtUmEpIc', 'subscribers': 0, 'display_name': 'u_AqUaNtUmEpIc', 'user_is_banned': False, 'is_default_icon': True, 'icon_img': 'https://www.redditstatic.com/avatars/avatar_default_02_25B79F.png', 'over_18': False, 'is_default_banner': True, 'user_is_contributor': False, 'icon_color': '#25B79F', 'header_size': None, 'user_is_muted': False, 'banner_size': None, 'user_is_subscriber': False, 'banner_img': '', 'title': '', 'default_set': True, 'primary_color': ''}, 'is_gold': False, 'is_friend': False, 'id': 'ni1nl', 'has_verified_email': False, 'pref_show_snoovatar': False, 'created': 1431772158.0, 'created_utc': 1431743358.0, 'link_karma': 190}\n",
      "Sending a message to user AqUaNtUmEpIc with data {'first_comment_week': 2, 'username': 'AqUaNtUmEpIc', 'url': 'https://docs.google.com/forms/d/e/1FAIpQLSfmgOcsF0ALqWGPHGpJq2cwUr-xIG-uizbQqXPzPuTkrPM-Lg/viewform?usp=pp_url&entry.360321409=AqUaNtUmEpIc&entry.1933578897', 'deleted': False, 'get_info_date': '2018-04-17 13:46:54.522307'}\n"
     ]
    },
    {
     "name": "stderr",
     "output_type": "stream",
     "text": [
      "substituting https://oauth.reddit.com for https://api.reddit.com in url\n",
      "GET: https://oauth.reddit.com/user/AqUaNtUmEpIc/about/.json\n",
      "substituting https://oauth.reddit.com for https://api.reddit.com in url\n",
      "POST: https://oauth.reddit.com/api/compose/.json\n"
     ]
    },
    {
     "name": "stdout",
     "output_type": "stream",
     "text": [
      "Message successfully sent to user AqUaNtUmEpIc\n",
      "APPENDING TO FILE: {'username': 'AqUaNtUmEpIc', 'get_info_date': '2018-04-17 13:46:54.522307', 'deleted': False, 'url': 'https://docs.google.com/forms/d/e/1FAIpQLSfmgOcsF0ALqWGPHGpJq2cwUr-xIG-uizbQqXPzPuTkrPM-Lg/viewform?usp=pp_url&entry.360321409=AqUaNtUmEpIc&entry.1933578897', 'first_comment_week': 2}\n",
      "first_comment_week: 2\n",
      "url: https://docs.google.com/forms/d/e/1FAIpQLSfmgOcsF0ALqWGPHGpJq2cwUr-xIG-uizbQqXPzPuTkrPM-Lg/viewform?usp=pp_url&entry.360321409=AqUaNtUmEpIc&entry.1933578897\n",
      "get_info_data: 2018-04-17 13:46:54.522307\n",
      "deleted: False\n",
      "User puncroc found: {'is_mod': False, 'has_subscribed': True, 'hide_from_robots': False, 'verified': True, 'icon_img': 'https://www.redditstatic.com/avatars/avatar_default_11_FF8717.png', 'is_employee': False, 'comment_karma': 459, 'name': 'puncroc', 'subreddit': {'icon_size': [256, 256], 'key_color': '', 'link_flair_enabled': False, 'subreddit_type': 'user', 'name': 't5_f5zqn', 'user_is_moderator': False, 'community_icon': '', 'header_img': None, 'public_description': '', 'show_media': True, 'audience_target': '', 'url': '/user/puncroc/', 'description': '', 'display_name_prefixed': 'u/puncroc', 'subscribers': 0, 'display_name': 'u_puncroc', 'user_is_banned': False, 'is_default_icon': True, 'icon_img': 'https://www.redditstatic.com/avatars/avatar_default_11_FF8717.png', 'over_18': False, 'is_default_banner': True, 'user_is_contributor': False, 'icon_color': '#FF8717', 'header_size': None, 'user_is_muted': False, 'banner_size': None, 'user_is_subscriber': False, 'banner_img': '', 'title': '', 'default_set': True, 'primary_color': ''}, 'is_gold': False, 'is_friend': False, 'id': 'ufircee', 'has_verified_email': False, 'pref_show_snoovatar': False, 'created': 1517277015.0, 'created_utc': 1517248215.0, 'link_karma': 88}\n",
      "Sending a message to user puncroc with data {'first_comment_week': 2, 'username': 'puncroc', 'url': 'https://docs.google.com/forms/d/e/1FAIpQLSfmgOcsF0ALqWGPHGpJq2cwUr-xIG-uizbQqXPzPuTkrPM-Lg/viewform?usp=pp_url&entry.360321409=puncroc&entry.1933578897', 'deleted': False, 'get_info_date': '2018-04-17 13:46:58.737542'}\n"
     ]
    },
    {
     "name": "stderr",
     "output_type": "stream",
     "text": [
      "substituting https://oauth.reddit.com for https://api.reddit.com in url\n",
      "GET: https://oauth.reddit.com/user/puncroc/about/.json\n",
      "substituting https://oauth.reddit.com for https://api.reddit.com in url\n",
      "POST: https://oauth.reddit.com/api/compose/.json\n"
     ]
    },
    {
     "name": "stdout",
     "output_type": "stream",
     "text": [
      "Message successfully sent to user puncroc\n",
      "APPENDING TO FILE: {'username': 'puncroc', 'get_info_date': '2018-04-17 13:46:58.737542', 'deleted': False, 'url': 'https://docs.google.com/forms/d/e/1FAIpQLSfmgOcsF0ALqWGPHGpJq2cwUr-xIG-uizbQqXPzPuTkrPM-Lg/viewform?usp=pp_url&entry.360321409=puncroc&entry.1933578897', 'first_comment_week': 2}\n",
      "first_comment_week: 2\n",
      "url: https://docs.google.com/forms/d/e/1FAIpQLSfmgOcsF0ALqWGPHGpJq2cwUr-xIG-uizbQqXPzPuTkrPM-Lg/viewform?usp=pp_url&entry.360321409=puncroc&entry.1933578897\n",
      "get_info_data: 2018-04-17 13:46:58.737542\n",
      "deleted: False\n",
      "User Slytherinrunner found: {'is_mod': False, 'has_subscribed': True, 'hide_from_robots': False, 'verified': True, 'icon_img': 'https://www.redditstatic.com/avatars/avatar_default_16_008985.png', 'is_employee': False, 'comment_karma': 889, 'name': 'Slytherinrunner', 'subreddit': {'icon_size': [256, 256], 'key_color': '', 'link_flair_enabled': False, 'subreddit_type': 'user', 'name': 't5_bj1b5', 'user_is_moderator': False, 'community_icon': '', 'header_img': None, 'public_description': '', 'show_media': True, 'audience_target': '', 'url': '/user/Slytherinrunner/', 'description': '', 'display_name_prefixed': 'u/Slytherinrunner', 'subscribers': 0, 'display_name': 'u_Slytherinrunner', 'user_is_banned': False, 'is_default_icon': True, 'icon_img': 'https://www.redditstatic.com/avatars/avatar_default_16_008985.png', 'over_18': False, 'is_default_banner': True, 'user_is_contributor': False, 'icon_color': '#008985', 'header_size': None, 'user_is_muted': False, 'banner_size': None, 'user_is_subscriber': False, 'banner_img': '', 'title': '', 'default_set': True, 'primary_color': ''}, 'is_gold': False, 'is_friend': False, 'id': '11ojgj', 'has_verified_email': True, 'pref_show_snoovatar': False, 'created': 1474937110.0, 'created_utc': 1474908310.0, 'link_karma': 1639}\n",
      "Sending a message to user Slytherinrunner with data {'first_comment_week': 2, 'username': 'Slytherinrunner', 'url': 'https://docs.google.com/forms/d/e/1FAIpQLSfmgOcsF0ALqWGPHGpJq2cwUr-xIG-uizbQqXPzPuTkrPM-Lg/viewform?usp=pp_url&entry.360321409=Slytherinrunner&entry.1933578897', 'deleted': False, 'get_info_date': '2018-04-17 13:47:02.984812'}\n"
     ]
    },
    {
     "name": "stderr",
     "output_type": "stream",
     "text": [
      "substituting https://oauth.reddit.com for https://api.reddit.com in url\n",
      "GET: https://oauth.reddit.com/user/Slytherinrunner/about/.json\n",
      "substituting https://oauth.reddit.com for https://api.reddit.com in url\n",
      "POST: https://oauth.reddit.com/api/compose/.json\n"
     ]
    },
    {
     "name": "stdout",
     "output_type": "stream",
     "text": [
      "Message successfully sent to user Slytherinrunner\n",
      "APPENDING TO FILE: {'username': 'Slytherinrunner', 'get_info_date': '2018-04-17 13:47:02.984812', 'deleted': False, 'url': 'https://docs.google.com/forms/d/e/1FAIpQLSfmgOcsF0ALqWGPHGpJq2cwUr-xIG-uizbQqXPzPuTkrPM-Lg/viewform?usp=pp_url&entry.360321409=Slytherinrunner&entry.1933578897', 'first_comment_week': 2}\n",
      "first_comment_week: 2\n",
      "url: https://docs.google.com/forms/d/e/1FAIpQLSfmgOcsF0ALqWGPHGpJq2cwUr-xIG-uizbQqXPzPuTkrPM-Lg/viewform?usp=pp_url&entry.360321409=Slytherinrunner&entry.1933578897\n",
      "get_info_data: 2018-04-17 13:47:02.984812\n",
      "deleted: False\n",
      "User paixamaixa found: {'is_mod': False, 'has_subscribed': True, 'hide_from_robots': False, 'verified': False, 'icon_img': 'https://www.redditstatic.com/avatars/avatar_default_17_7E53C1.png', 'is_employee': False, 'comment_karma': 1, 'name': 'paixamaixa', 'subreddit': None, 'is_gold': False, 'is_friend': False, 'id': '653c0', 'has_verified_email': True, 'pref_show_snoovatar': False, 'created': 1319952680.0, 'created_utc': 1319923880.0, 'link_karma': 71}\n",
      "Sending a message to user paixamaixa with data {'first_comment_week': 2, 'username': 'paixamaixa', 'url': 'https://docs.google.com/forms/d/e/1FAIpQLSfmgOcsF0ALqWGPHGpJq2cwUr-xIG-uizbQqXPzPuTkrPM-Lg/viewform?usp=pp_url&entry.360321409=paixamaixa&entry.1933578897', 'deleted': False, 'get_info_date': '2018-04-17 13:47:07.213837'}\n"
     ]
    },
    {
     "name": "stderr",
     "output_type": "stream",
     "text": [
      "substituting https://oauth.reddit.com for https://api.reddit.com in url\n",
      "GET: https://oauth.reddit.com/user/paixamaixa/about/.json\n",
      "substituting https://oauth.reddit.com for https://api.reddit.com in url\n",
      "POST: https://oauth.reddit.com/api/compose/.json\n"
     ]
    },
    {
     "name": "stdout",
     "output_type": "stream",
     "text": [
      "Message successfully sent to user paixamaixa\n",
      "APPENDING TO FILE: {'username': 'paixamaixa', 'get_info_date': '2018-04-17 13:47:07.213837', 'deleted': False, 'url': 'https://docs.google.com/forms/d/e/1FAIpQLSfmgOcsF0ALqWGPHGpJq2cwUr-xIG-uizbQqXPzPuTkrPM-Lg/viewform?usp=pp_url&entry.360321409=paixamaixa&entry.1933578897', 'first_comment_week': 2}\n",
      "first_comment_week: 2\n",
      "url: https://docs.google.com/forms/d/e/1FAIpQLSfmgOcsF0ALqWGPHGpJq2cwUr-xIG-uizbQqXPzPuTkrPM-Lg/viewform?usp=pp_url&entry.360321409=paixamaixa&entry.1933578897\n",
      "get_info_data: 2018-04-17 13:47:07.213837\n",
      "deleted: False\n",
      "User Xoor found: {'is_mod': False, 'has_subscribed': True, 'hide_from_robots': False, 'verified': True, 'icon_img': 'https://www.redditstatic.com/avatars/avatar_default_01_94E044.png', 'is_employee': False, 'comment_karma': 11096, 'name': 'Xoor', 'subreddit': {'icon_size': [256, 256], 'key_color': '', 'link_flair_enabled': False, 'subreddit_type': 'user', 'name': 't5_bckq5', 'user_is_moderator': False, 'community_icon': '', 'header_img': None, 'public_description': '', 'show_media': True, 'audience_target': '', 'url': '/user/Xoor/', 'description': '', 'display_name_prefixed': 'u/Xoor', 'subscribers': 0, 'display_name': 'u_Xoor', 'user_is_banned': False, 'is_default_icon': True, 'icon_img': 'https://www.redditstatic.com/avatars/avatar_default_01_94E044.png', 'over_18': False, 'is_default_banner': True, 'user_is_contributor': False, 'icon_color': '#94E044', 'header_size': None, 'user_is_muted': False, 'banner_size': None, 'user_is_subscriber': False, 'banner_img': '', 'title': '', 'default_set': True, 'primary_color': ''}, 'is_gold': True, 'is_friend': False, 'id': '4vp4g', 'has_verified_email': True, 'pref_show_snoovatar': False, 'created': 1298475612.0, 'created_utc': 1298446812.0, 'link_karma': 2382}\n",
      "Sending a message to user Xoor with data {'first_comment_week': 2, 'username': 'Xoor', 'url': 'https://docs.google.com/forms/d/e/1FAIpQLSfmgOcsF0ALqWGPHGpJq2cwUr-xIG-uizbQqXPzPuTkrPM-Lg/viewform?usp=pp_url&entry.360321409=Xoor&entry.1933578897', 'deleted': False, 'get_info_date': '2018-04-17 13:47:11.390388'}\n"
     ]
    },
    {
     "name": "stderr",
     "output_type": "stream",
     "text": [
      "substituting https://oauth.reddit.com for https://api.reddit.com in url\n",
      "GET: https://oauth.reddit.com/user/Xoor/about/.json\n",
      "substituting https://oauth.reddit.com for https://api.reddit.com in url\n",
      "POST: https://oauth.reddit.com/api/compose/.json\n"
     ]
    },
    {
     "name": "stdout",
     "output_type": "stream",
     "text": [
      "Message successfully sent to user Xoor\n",
      "APPENDING TO FILE: {'username': 'Xoor', 'get_info_date': '2018-04-17 13:47:11.390388', 'deleted': False, 'url': 'https://docs.google.com/forms/d/e/1FAIpQLSfmgOcsF0ALqWGPHGpJq2cwUr-xIG-uizbQqXPzPuTkrPM-Lg/viewform?usp=pp_url&entry.360321409=Xoor&entry.1933578897', 'first_comment_week': 2}\n",
      "first_comment_week: 2\n",
      "url: https://docs.google.com/forms/d/e/1FAIpQLSfmgOcsF0ALqWGPHGpJq2cwUr-xIG-uizbQqXPzPuTkrPM-Lg/viewform?usp=pp_url&entry.360321409=Xoor&entry.1933578897\n",
      "get_info_data: 2018-04-17 13:47:11.390388\n",
      "deleted: False\n",
      "User wobwobwobwob found: {'is_mod': False, 'has_subscribed': True, 'hide_from_robots': True, 'verified': True, 'icon_img': 'https://www.redditstatic.com/avatars/avatar_default_16_FF585B.png', 'is_employee': False, 'comment_karma': 194, 'name': 'wobwobwobwob', 'subreddit': {'icon_size': [256, 256], 'key_color': '', 'link_flair_enabled': False, 'subreddit_type': 'user', 'name': 't5_dvaxo', 'user_is_moderator': False, 'community_icon': '', 'header_img': None, 'public_description': '', 'show_media': True, 'audience_target': '', 'url': '/user/wobwobwobwob/', 'description': '', 'display_name_prefixed': 'u/wobwobwobwob', 'subscribers': 0, 'display_name': 'u_wobwobwobwob', 'user_is_banned': False, 'is_default_icon': True, 'icon_img': 'https://www.redditstatic.com/avatars/avatar_default_16_FF585B.png', 'over_18': False, 'is_default_banner': True, 'user_is_contributor': False, 'icon_color': '#FF585B', 'header_size': None, 'user_is_muted': False, 'banner_size': None, 'user_is_subscriber': False, 'banner_img': '', 'title': '', 'default_set': True, 'primary_color': ''}, 'is_gold': False, 'is_friend': False, 'id': '5j6h3', 'has_verified_email': False, 'pref_show_snoovatar': False, 'created': 1311034096.0, 'created_utc': 1311005296.0, 'link_karma': 88}\n",
      "Sending a message to user wobwobwobwob with data {'first_comment_week': 2, 'username': 'wobwobwobwob', 'url': 'https://docs.google.com/forms/d/e/1FAIpQLSfmgOcsF0ALqWGPHGpJq2cwUr-xIG-uizbQqXPzPuTkrPM-Lg/viewform?usp=pp_url&entry.360321409=wobwobwobwob&entry.1933578897', 'deleted': False, 'get_info_date': '2018-04-17 13:47:15.553689'}\n"
     ]
    },
    {
     "name": "stderr",
     "output_type": "stream",
     "text": [
      "substituting https://oauth.reddit.com for https://api.reddit.com in url\n",
      "GET: https://oauth.reddit.com/user/wobwobwobwob/about/.json\n",
      "substituting https://oauth.reddit.com for https://api.reddit.com in url\n",
      "POST: https://oauth.reddit.com/api/compose/.json\n"
     ]
    },
    {
     "name": "stdout",
     "output_type": "stream",
     "text": [
      "Message successfully sent to user wobwobwobwob\n",
      "APPENDING TO FILE: {'username': 'wobwobwobwob', 'get_info_date': '2018-04-17 13:47:15.553689', 'deleted': False, 'url': 'https://docs.google.com/forms/d/e/1FAIpQLSfmgOcsF0ALqWGPHGpJq2cwUr-xIG-uizbQqXPzPuTkrPM-Lg/viewform?usp=pp_url&entry.360321409=wobwobwobwob&entry.1933578897', 'first_comment_week': 2}\n",
      "first_comment_week: 2\n",
      "url: https://docs.google.com/forms/d/e/1FAIpQLSfmgOcsF0ALqWGPHGpJq2cwUr-xIG-uizbQqXPzPuTkrPM-Lg/viewform?usp=pp_url&entry.360321409=wobwobwobwob&entry.1933578897\n",
      "get_info_data: 2018-04-17 13:47:15.553689\n",
      "deleted: False\n",
      "User Pigment_pusher found: {'is_mod': False, 'has_subscribed': True, 'hide_from_robots': False, 'verified': True, 'icon_img': 'https://s.redditmedia.com/t5_cresk/styles/profileIcon_0sq23vdtu7f01.jpg?fit=crop&crop=faces%2Centropy&arh=1.0&w=256&h=256&s=2cab8622577e508633888784e0236bbb', 'is_employee': False, 'comment_karma': 123, 'name': 'Pigment_pusher', 'subreddit': {'icon_size': [256, 256], 'key_color': '', 'link_flair_enabled': False, 'subreddit_type': 'user', 'name': 't5_cresk', 'user_is_moderator': False, 'community_icon': '', 'header_img': None, 'public_description': '', 'show_media': True, 'audience_target': '', 'url': '/user/Pigment_pusher/', 'description': '', 'display_name_prefixed': 'u/Pigment_pusher', 'subscribers': 0, 'display_name': 'u_Pigment_pusher', 'user_is_banned': False, 'is_default_icon': False, 'icon_img': 'https://s.redditmedia.com/t5_cresk/styles/profileIcon_0sq23vdtu7f01.jpg?fit=crop&crop=faces%2Centropy&arh=1.0&w=256&h=256&s=2cab8622577e508633888784e0236bbb', 'over_18': False, 'is_default_banner': False, 'user_is_contributor': False, 'icon_color': '', 'header_size': None, 'user_is_muted': False, 'banner_size': [1280, 384], 'user_is_subscriber': False, 'banner_img': 'https://s.redditmedia.com/t5_cresk/styles/profileBanner_3m0b0ykvu7f01.jpg?fit=crop&crop=center&arh=0.3&w=1280&h=384&s=7545a786402508bcce6e419bc200fc7c', 'title': '', 'default_set': False, 'primary_color': ''}, 'is_gold': False, 'is_friend': False, 'id': 'xljyt', 'has_verified_email': False, 'pref_show_snoovatar': False, 'created': 1462113468.0, 'created_utc': 1462084668.0, 'link_karma': 28}\n",
      "Sending a message to user Pigment_pusher with data {'first_comment_week': 2, 'username': 'Pigment_pusher', 'url': 'https://docs.google.com/forms/d/e/1FAIpQLSfmgOcsF0ALqWGPHGpJq2cwUr-xIG-uizbQqXPzPuTkrPM-Lg/viewform?usp=pp_url&entry.360321409=Pigment_pusher&entry.1933578897', 'deleted': False, 'get_info_date': '2018-04-17 13:47:19.848862'}\n"
     ]
    },
    {
     "name": "stderr",
     "output_type": "stream",
     "text": [
      "substituting https://oauth.reddit.com for https://api.reddit.com in url\n",
      "GET: https://oauth.reddit.com/user/Pigment_pusher/about/.json\n",
      "substituting https://oauth.reddit.com for https://api.reddit.com in url\n",
      "POST: https://oauth.reddit.com/api/compose/.json\n"
     ]
    },
    {
     "name": "stdout",
     "output_type": "stream",
     "text": [
      "Message successfully sent to user Pigment_pusher\n",
      "APPENDING TO FILE: {'username': 'Pigment_pusher', 'get_info_date': '2018-04-17 13:47:19.848862', 'deleted': False, 'url': 'https://docs.google.com/forms/d/e/1FAIpQLSfmgOcsF0ALqWGPHGpJq2cwUr-xIG-uizbQqXPzPuTkrPM-Lg/viewform?usp=pp_url&entry.360321409=Pigment_pusher&entry.1933578897', 'first_comment_week': 2}\n",
      "first_comment_week: 2\n",
      "url: https://docs.google.com/forms/d/e/1FAIpQLSfmgOcsF0ALqWGPHGpJq2cwUr-xIG-uizbQqXPzPuTkrPM-Lg/viewform?usp=pp_url&entry.360321409=Pigment_pusher&entry.1933578897\n",
      "get_info_data: 2018-04-17 13:47:19.848862\n",
      "deleted: False\n",
      "User shazzacanuk found: {'is_mod': False, 'has_subscribed': True, 'hide_from_robots': False, 'verified': True, 'icon_img': 'https://www.redditstatic.com/avatars/avatar_default_18_DB0064.png', 'is_employee': False, 'comment_karma': 2949, 'name': 'shazzacanuk', 'subreddit': {'icon_size': [256, 256], 'key_color': '', 'link_flair_enabled': False, 'subreddit_type': 'user', 'name': 't5_dq3z2', 'user_is_moderator': False, 'community_icon': '', 'header_img': None, 'public_description': '', 'show_media': True, 'audience_target': '', 'url': '/user/shazzacanuk/', 'description': '', 'display_name_prefixed': 'u/shazzacanuk', 'subscribers': 0, 'display_name': 'u_shazzacanuk', 'user_is_banned': False, 'is_default_icon': True, 'icon_img': 'https://www.redditstatic.com/avatars/avatar_default_18_DB0064.png', 'over_18': False, 'is_default_banner': True, 'user_is_contributor': False, 'icon_color': '#DB0064', 'header_size': None, 'user_is_muted': False, 'banner_size': None, 'user_is_subscriber': False, 'banner_img': '', 'title': '', 'default_set': True, 'primary_color': ''}, 'is_gold': False, 'is_friend': False, 'id': 'yk2l5', 'has_verified_email': True, 'pref_show_snoovatar': False, 'created': 1465425901.0, 'created_utc': 1465397101.0, 'link_karma': 434}\n",
      "Sending a message to user shazzacanuk with data {'first_comment_week': 2, 'username': 'shazzacanuk', 'url': 'https://docs.google.com/forms/d/e/1FAIpQLSfmgOcsF0ALqWGPHGpJq2cwUr-xIG-uizbQqXPzPuTkrPM-Lg/viewform?usp=pp_url&entry.360321409=shazzacanuk&entry.1933578897', 'deleted': False, 'get_info_date': '2018-04-17 13:47:23.972403'}\n"
     ]
    },
    {
     "name": "stderr",
     "output_type": "stream",
     "text": [
      "substituting https://oauth.reddit.com for https://api.reddit.com in url\n",
      "GET: https://oauth.reddit.com/user/shazzacanuk/about/.json\n",
      "substituting https://oauth.reddit.com for https://api.reddit.com in url\n",
      "POST: https://oauth.reddit.com/api/compose/.json\n"
     ]
    },
    {
     "name": "stdout",
     "output_type": "stream",
     "text": [
      "Message successfully sent to user shazzacanuk\n",
      "APPENDING TO FILE: {'username': 'shazzacanuk', 'get_info_date': '2018-04-17 13:47:23.972403', 'deleted': False, 'url': 'https://docs.google.com/forms/d/e/1FAIpQLSfmgOcsF0ALqWGPHGpJq2cwUr-xIG-uizbQqXPzPuTkrPM-Lg/viewform?usp=pp_url&entry.360321409=shazzacanuk&entry.1933578897', 'first_comment_week': 2}\n",
      "first_comment_week: 2\n",
      "url: https://docs.google.com/forms/d/e/1FAIpQLSfmgOcsF0ALqWGPHGpJq2cwUr-xIG-uizbQqXPzPuTkrPM-Lg/viewform?usp=pp_url&entry.360321409=shazzacanuk&entry.1933578897\n",
      "get_info_data: 2018-04-17 13:47:23.972403\n",
      "deleted: False\n",
      "User Vanilla_Vaporeon found: {'is_mod': False, 'has_subscribed': True, 'hide_from_robots': False, 'verified': True, 'icon_img': 'https://www.redditstatic.com/avatars/avatar_default_02_FFB000.png', 'is_employee': False, 'comment_karma': 148, 'name': 'Vanilla_Vaporeon', 'subreddit': {'icon_size': [256, 256], 'key_color': '', 'link_flair_enabled': False, 'subreddit_type': 'user', 'name': 't5_7o512', 'user_is_moderator': False, 'community_icon': '', 'header_img': None, 'public_description': '', 'show_media': True, 'audience_target': '', 'url': '/user/Vanilla_Vaporeon/', 'description': '', 'display_name_prefixed': 'u/Vanilla_Vaporeon', 'subscribers': 0, 'display_name': 'u_Vanilla_Vaporeon', 'user_is_banned': False, 'is_default_icon': True, 'icon_img': 'https://www.redditstatic.com/avatars/avatar_default_02_FFB000.png', 'over_18': False, 'is_default_banner': True, 'user_is_contributor': False, 'icon_color': '#FFB000', 'header_size': None, 'user_is_muted': False, 'banner_size': None, 'user_is_subscriber': False, 'banner_img': '', 'title': '', 'default_set': True, 'primary_color': ''}, 'is_gold': False, 'is_friend': False, 'id': 'c64obe5', 'has_verified_email': False, 'pref_show_snoovatar': False, 'created': 1504093006.0, 'created_utc': 1504064206.0, 'link_karma': 206}\n",
      "Sending a message to user Vanilla_Vaporeon with data {'first_comment_week': 2, 'username': 'Vanilla_Vaporeon', 'url': 'https://docs.google.com/forms/d/e/1FAIpQLSfmgOcsF0ALqWGPHGpJq2cwUr-xIG-uizbQqXPzPuTkrPM-Lg/viewform?usp=pp_url&entry.360321409=Vanilla_Vaporeon&entry.1933578897', 'deleted': False, 'get_info_date': '2018-04-17 13:47:28.185726'}\n"
     ]
    },
    {
     "name": "stderr",
     "output_type": "stream",
     "text": [
      "substituting https://oauth.reddit.com for https://api.reddit.com in url\n",
      "GET: https://oauth.reddit.com/user/Vanilla_Vaporeon/about/.json\n",
      "substituting https://oauth.reddit.com for https://api.reddit.com in url\n",
      "POST: https://oauth.reddit.com/api/compose/.json\n"
     ]
    },
    {
     "name": "stdout",
     "output_type": "stream",
     "text": [
      "Message successfully sent to user Vanilla_Vaporeon\n",
      "APPENDING TO FILE: {'username': 'Vanilla_Vaporeon', 'get_info_date': '2018-04-17 13:47:28.185726', 'deleted': False, 'url': 'https://docs.google.com/forms/d/e/1FAIpQLSfmgOcsF0ALqWGPHGpJq2cwUr-xIG-uizbQqXPzPuTkrPM-Lg/viewform?usp=pp_url&entry.360321409=Vanilla_Vaporeon&entry.1933578897', 'first_comment_week': 2}\n",
      "first_comment_week: 2\n",
      "url: https://docs.google.com/forms/d/e/1FAIpQLSfmgOcsF0ALqWGPHGpJq2cwUr-xIG-uizbQqXPzPuTkrPM-Lg/viewform?usp=pp_url&entry.360321409=Vanilla_Vaporeon&entry.1933578897\n",
      "get_info_data: 2018-04-17 13:47:28.185726\n",
      "deleted: False\n",
      "User CaucasianPanther found: {'is_mod': False, 'has_subscribed': True, 'hide_from_robots': False, 'verified': True, 'icon_img': 'https://www.redditstatic.com/avatars/avatar_default_01_A5A4A4.png', 'is_employee': False, 'comment_karma': 180, 'name': 'CaucasianPanther', 'subreddit': {'icon_size': [256, 256], 'key_color': '', 'link_flair_enabled': False, 'subreddit_type': 'user', 'name': 't5_gg7q9', 'user_is_moderator': False, 'community_icon': '', 'header_img': None, 'public_description': '', 'show_media': True, 'audience_target': '', 'url': '/user/CaucasianPanther/', 'description': '', 'display_name_prefixed': 'u/CaucasianPanther', 'subscribers': 0, 'display_name': 'u_CaucasianPanther', 'user_is_banned': False, 'is_default_icon': True, 'icon_img': 'https://www.redditstatic.com/avatars/avatar_default_01_A5A4A4.png', 'over_18': False, 'is_default_banner': True, 'user_is_contributor': False, 'icon_color': '#A5A4A4', 'header_size': None, 'user_is_muted': False, 'banner_size': None, 'user_is_subscriber': False, 'banner_img': '', 'title': '', 'default_set': True, 'primary_color': ''}, 'is_gold': False, 'is_friend': False, 'id': 'zqjglxk', 'has_verified_email': False, 'pref_show_snoovatar': False, 'created': 1520137023.0, 'created_utc': 1520108223.0, 'link_karma': 316}\n",
      "Sending a message to user CaucasianPanther with data {'first_comment_week': 2, 'username': 'CaucasianPanther', 'url': 'https://docs.google.com/forms/d/e/1FAIpQLSfmgOcsF0ALqWGPHGpJq2cwUr-xIG-uizbQqXPzPuTkrPM-Lg/viewform?usp=pp_url&entry.360321409=CaucasianPanther&entry.1933578897', 'deleted': False, 'get_info_date': '2018-04-17 13:47:32.418998'}\n"
     ]
    },
    {
     "name": "stderr",
     "output_type": "stream",
     "text": [
      "substituting https://oauth.reddit.com for https://api.reddit.com in url\n",
      "GET: https://oauth.reddit.com/user/CaucasianPanther/about/.json\n",
      "substituting https://oauth.reddit.com for https://api.reddit.com in url\n",
      "POST: https://oauth.reddit.com/api/compose/.json\n"
     ]
    },
    {
     "name": "stdout",
     "output_type": "stream",
     "text": [
      "Message successfully sent to user CaucasianPanther\n",
      "APPENDING TO FILE: {'username': 'CaucasianPanther', 'get_info_date': '2018-04-17 13:47:32.418998', 'deleted': False, 'url': 'https://docs.google.com/forms/d/e/1FAIpQLSfmgOcsF0ALqWGPHGpJq2cwUr-xIG-uizbQqXPzPuTkrPM-Lg/viewform?usp=pp_url&entry.360321409=CaucasianPanther&entry.1933578897', 'first_comment_week': 2}\n",
      "first_comment_week: 2\n",
      "url: https://docs.google.com/forms/d/e/1FAIpQLSfmgOcsF0ALqWGPHGpJq2cwUr-xIG-uizbQqXPzPuTkrPM-Lg/viewform?usp=pp_url&entry.360321409=CaucasianPanther&entry.1933578897\n",
      "get_info_data: 2018-04-17 13:47:32.418998\n",
      "deleted: False\n",
      "User 4thesun found: {'is_mod': False, 'has_subscribed': True, 'hide_from_robots': False, 'verified': True, 'icon_img': 'https://www.redditstatic.com/avatars/avatar_default_11_24A0ED.png', 'is_employee': False, 'comment_karma': 842, 'name': '4thesun', 'subreddit': {'icon_size': [256, 256], 'key_color': '', 'link_flair_enabled': False, 'subreddit_type': 'user', 'name': 't5_gq36d', 'user_is_moderator': False, 'community_icon': '', 'header_img': None, 'public_description': '', 'show_media': True, 'audience_target': '', 'url': '/user/4thesun/', 'description': '', 'display_name_prefixed': 'u/4thesun', 'subscribers': 0, 'display_name': 'u_4thesun', 'user_is_banned': False, 'is_default_icon': True, 'icon_img': 'https://www.redditstatic.com/avatars/avatar_default_11_24A0ED.png', 'over_18': False, 'is_default_banner': True, 'user_is_contributor': False, 'icon_color': '#24A0ED', 'header_size': None, 'user_is_muted': False, 'banner_size': None, 'user_is_subscriber': False, 'banner_img': '', 'title': '', 'default_set': True, 'primary_color': ''}, 'is_gold': False, 'is_friend': False, 'id': '10y8l7x6', 'has_verified_email': True, 'pref_show_snoovatar': False, 'created': 1520789599.0, 'created_utc': 1520760799.0, 'link_karma': 1}\n",
      "Sending a message to user 4thesun with data {'first_comment_week': 2, 'username': '4thesun', 'url': 'https://docs.google.com/forms/d/e/1FAIpQLSfmgOcsF0ALqWGPHGpJq2cwUr-xIG-uizbQqXPzPuTkrPM-Lg/viewform?usp=pp_url&entry.360321409=4thesun&entry.1933578897', 'deleted': False, 'get_info_date': '2018-04-17 13:47:36.640585'}\n"
     ]
    },
    {
     "name": "stderr",
     "output_type": "stream",
     "text": [
      "substituting https://oauth.reddit.com for https://api.reddit.com in url\n",
      "GET: https://oauth.reddit.com/user/4thesun/about/.json\n",
      "substituting https://oauth.reddit.com for https://api.reddit.com in url\n",
      "POST: https://oauth.reddit.com/api/compose/.json\n"
     ]
    },
    {
     "name": "stdout",
     "output_type": "stream",
     "text": [
      "Message successfully sent to user 4thesun\n",
      "APPENDING TO FILE: {'username': '4thesun', 'get_info_date': '2018-04-17 13:47:36.640585', 'deleted': False, 'url': 'https://docs.google.com/forms/d/e/1FAIpQLSfmgOcsF0ALqWGPHGpJq2cwUr-xIG-uizbQqXPzPuTkrPM-Lg/viewform?usp=pp_url&entry.360321409=4thesun&entry.1933578897', 'first_comment_week': 2}\n",
      "first_comment_week: 2\n",
      "url: https://docs.google.com/forms/d/e/1FAIpQLSfmgOcsF0ALqWGPHGpJq2cwUr-xIG-uizbQqXPzPuTkrPM-Lg/viewform?usp=pp_url&entry.360321409=4thesun&entry.1933578897\n",
      "get_info_data: 2018-04-17 13:47:36.640585\n",
      "deleted: False\n",
      "User Kyk3 found: {'is_mod': False, 'has_subscribed': True, 'hide_from_robots': False, 'verified': True, 'icon_img': 'https://www.redditstatic.com/avatars/avatar_default_06_C18D42.png', 'is_employee': False, 'comment_karma': 122, 'name': 'Kyk3', 'subreddit': {'icon_size': [256, 256], 'key_color': '', 'link_flair_enabled': False, 'subreddit_type': 'user', 'name': 't5_fzfih', 'user_is_moderator': False, 'community_icon': '', 'header_img': None, 'public_description': '', 'show_media': True, 'audience_target': '', 'url': '/user/Kyk3/', 'description': '', 'display_name_prefixed': 'u/Kyk3', 'subscribers': 0, 'display_name': 'u_Kyk3', 'user_is_banned': False, 'is_default_icon': True, 'icon_img': 'https://www.redditstatic.com/avatars/avatar_default_06_C18D42.png', 'over_18': False, 'is_default_banner': True, 'user_is_contributor': False, 'icon_color': '#C18D42', 'header_size': None, 'user_is_muted': False, 'banner_size': None, 'user_is_subscriber': False, 'banner_img': '', 'title': '', 'default_set': True, 'primary_color': ''}, 'is_gold': False, 'is_friend': False, 'id': 'xuf5w91', 'has_verified_email': False, 'pref_show_snoovatar': False, 'created': 1519090526.0, 'created_utc': 1519061726.0, 'link_karma': 24}\n",
      "Sending a message to user Kyk3 with data {'first_comment_week': 2, 'username': 'Kyk3', 'url': 'https://docs.google.com/forms/d/e/1FAIpQLSfmgOcsF0ALqWGPHGpJq2cwUr-xIG-uizbQqXPzPuTkrPM-Lg/viewform?usp=pp_url&entry.360321409=Kyk3&entry.1933578897', 'deleted': False, 'get_info_date': '2018-04-17 13:47:40.814731'}\n"
     ]
    },
    {
     "name": "stderr",
     "output_type": "stream",
     "text": [
      "substituting https://oauth.reddit.com for https://api.reddit.com in url\n",
      "GET: https://oauth.reddit.com/user/Kyk3/about/.json\n",
      "substituting https://oauth.reddit.com for https://api.reddit.com in url\n",
      "POST: https://oauth.reddit.com/api/compose/.json\n"
     ]
    },
    {
     "name": "stdout",
     "output_type": "stream",
     "text": [
      "Message successfully sent to user Kyk3\n",
      "APPENDING TO FILE: {'username': 'Kyk3', 'get_info_date': '2018-04-17 13:47:40.814731', 'deleted': False, 'url': 'https://docs.google.com/forms/d/e/1FAIpQLSfmgOcsF0ALqWGPHGpJq2cwUr-xIG-uizbQqXPzPuTkrPM-Lg/viewform?usp=pp_url&entry.360321409=Kyk3&entry.1933578897', 'first_comment_week': 2}\n",
      "first_comment_week: 2\n",
      "url: https://docs.google.com/forms/d/e/1FAIpQLSfmgOcsF0ALqWGPHGpJq2cwUr-xIG-uizbQqXPzPuTkrPM-Lg/viewform?usp=pp_url&entry.360321409=Kyk3&entry.1933578897\n",
      "get_info_data: 2018-04-17 13:47:40.814731\n",
      "deleted: False\n",
      "User creaturesunderwater found: {'is_mod': False, 'has_subscribed': True, 'hide_from_robots': False, 'verified': False, 'icon_img': 'https://www.redditstatic.com/avatars/avatar_default_14_008985.png', 'is_employee': False, 'comment_karma': 10, 'name': 'creaturesunderwater', 'subreddit': None, 'is_gold': False, 'is_friend': False, 'id': 'je62h', 'has_verified_email': False, 'pref_show_snoovatar': False, 'created': 1416210459.0, 'created_utc': 1416181659.0, 'link_karma': 78}\n",
      "Sending a message to user creaturesunderwater with data {'first_comment_week': 2, 'username': 'creaturesunderwater', 'url': 'https://docs.google.com/forms/d/e/1FAIpQLSfmgOcsF0ALqWGPHGpJq2cwUr-xIG-uizbQqXPzPuTkrPM-Lg/viewform?usp=pp_url&entry.360321409=creaturesunderwater&entry.1933578897', 'deleted': False, 'get_info_date': '2018-04-17 13:47:45.034210'}\n"
     ]
    },
    {
     "name": "stderr",
     "output_type": "stream",
     "text": [
      "substituting https://oauth.reddit.com for https://api.reddit.com in url\n",
      "GET: https://oauth.reddit.com/user/creaturesunderwater/about/.json\n",
      "substituting https://oauth.reddit.com for https://api.reddit.com in url\n",
      "POST: https://oauth.reddit.com/api/compose/.json\n"
     ]
    },
    {
     "name": "stdout",
     "output_type": "stream",
     "text": [
      "Message successfully sent to user creaturesunderwater\n",
      "APPENDING TO FILE: {'username': 'creaturesunderwater', 'get_info_date': '2018-04-17 13:47:45.034210', 'deleted': False, 'url': 'https://docs.google.com/forms/d/e/1FAIpQLSfmgOcsF0ALqWGPHGpJq2cwUr-xIG-uizbQqXPzPuTkrPM-Lg/viewform?usp=pp_url&entry.360321409=creaturesunderwater&entry.1933578897', 'first_comment_week': 2}\n",
      "first_comment_week: 2\n",
      "url: https://docs.google.com/forms/d/e/1FAIpQLSfmgOcsF0ALqWGPHGpJq2cwUr-xIG-uizbQqXPzPuTkrPM-Lg/viewform?usp=pp_url&entry.360321409=creaturesunderwater&entry.1933578897\n",
      "get_info_data: 2018-04-17 13:47:45.034210\n",
      "deleted: False\n",
      "User UnusualOctopus found: {'is_mod': False, 'has_subscribed': True, 'hide_from_robots': False, 'verified': True, 'icon_img': 'https://www.redditstatic.com/avatars/avatar_default_01_FF66AC.png', 'is_employee': False, 'comment_karma': 143, 'name': 'UnusualOctopus', 'subreddit': {'icon_size': [256, 256], 'key_color': '', 'link_flair_enabled': False, 'subreddit_type': 'user', 'name': 't5_6c729', 'user_is_moderator': False, 'community_icon': '', 'header_img': None, 'public_description': '', 'show_media': True, 'audience_target': '', 'url': '/user/UnusualOctopus/', 'description': '', 'display_name_prefixed': 'u/UnusualOctopus', 'subscribers': 0, 'display_name': 'u_UnusualOctopus', 'user_is_banned': False, 'is_default_icon': True, 'icon_img': 'https://www.redditstatic.com/avatars/avatar_default_01_FF66AC.png', 'over_18': False, 'is_default_banner': True, 'user_is_contributor': False, 'icon_color': '#FF66AC', 'header_size': None, 'user_is_muted': False, 'banner_size': None, 'user_is_subscriber': False, 'banner_img': '', 'title': '', 'default_set': True, 'primary_color': ''}, 'is_gold': False, 'is_friend': False, 'id': '4oii970', 'has_verified_email': False, 'pref_show_snoovatar': False, 'created': 1506929359.0, 'created_utc': 1506900559.0, 'link_karma': 72}\n",
      "Sending a message to user UnusualOctopus with data {'first_comment_week': 2, 'username': 'UnusualOctopus', 'url': 'https://docs.google.com/forms/d/e/1FAIpQLSfmgOcsF0ALqWGPHGpJq2cwUr-xIG-uizbQqXPzPuTkrPM-Lg/viewform?usp=pp_url&entry.360321409=UnusualOctopus&entry.1933578897', 'deleted': False, 'get_info_date': '2018-04-17 13:47:49.241358'}\n"
     ]
    },
    {
     "name": "stderr",
     "output_type": "stream",
     "text": [
      "substituting https://oauth.reddit.com for https://api.reddit.com in url\n",
      "GET: https://oauth.reddit.com/user/UnusualOctopus/about/.json\n",
      "substituting https://oauth.reddit.com for https://api.reddit.com in url\n",
      "POST: https://oauth.reddit.com/api/compose/.json\n"
     ]
    },
    {
     "name": "stdout",
     "output_type": "stream",
     "text": [
      "Message successfully sent to user UnusualOctopus\n",
      "APPENDING TO FILE: {'username': 'UnusualOctopus', 'get_info_date': '2018-04-17 13:47:49.241358', 'deleted': False, 'url': 'https://docs.google.com/forms/d/e/1FAIpQLSfmgOcsF0ALqWGPHGpJq2cwUr-xIG-uizbQqXPzPuTkrPM-Lg/viewform?usp=pp_url&entry.360321409=UnusualOctopus&entry.1933578897', 'first_comment_week': 2}\n",
      "first_comment_week: 2\n",
      "url: https://docs.google.com/forms/d/e/1FAIpQLSfmgOcsF0ALqWGPHGpJq2cwUr-xIG-uizbQqXPzPuTkrPM-Lg/viewform?usp=pp_url&entry.360321409=UnusualOctopus&entry.1933578897\n",
      "get_info_data: 2018-04-17 13:47:49.241358\n",
      "deleted: False\n"
     ]
    },
    {
     "name": "stderr",
     "output_type": "stream",
     "text": [
      "substituting https://oauth.reddit.com for https://api.reddit.com in url\n",
      "GET: https://oauth.reddit.com/user/justjillwithaj/about/.json\n"
     ]
    },
    {
     "name": "stdout",
     "output_type": "stream",
     "text": [
      "User justjillwithaj found: {'is_mod': False, 'has_subscribed': True, 'hide_from_robots': False, 'verified': True, 'icon_img': 'https://www.redditstatic.com/avatars/avatar_default_05_25B79F.png', 'is_employee': False, 'comment_karma': 999, 'name': 'justjillwithaj', 'subreddit': {'icon_size': [256, 256], 'key_color': '', 'link_flair_enabled': False, 'subreddit_type': 'user', 'name': 't5_5r1nm', 'user_is_moderator': False, 'community_icon': '', 'header_img': None, 'public_description': '', 'show_media': True, 'audience_target': '', 'url': '/user/justjillwithaj/', 'description': '', 'display_name_prefixed': 'u/justjillwithaj', 'subscribers': 0, 'display_name': 'u_justjillwithaj', 'user_is_banned': False, 'is_default_icon': True, 'icon_img': 'https://www.redditstatic.com/avatars/avatar_default_05_25B79F.png', 'over_18': False, 'is_default_banner': True, 'user_is_contributor': False, 'icon_color': '#25B79F', 'header_size': None, 'user_is_muted': False, 'banner_size': None, 'user_is_subscriber': False, 'banner_img': '', 'title': 'YawningOtter', 'default_set': False, 'primary_color': ''}, 'is_gold': False, 'is_friend': False, 'id': 'i5g7ua8', 'has_verified_email': True, 'pref_show_snoovatar': False, 'created': 1508650620.0, 'created_utc': 1508621820.0, 'link_karma': 2838}\n",
      "Sending a message to user justjillwithaj with data {'first_comment_week': 2, 'username': 'justjillwithaj', 'url': 'https://docs.google.com/forms/d/e/1FAIpQLSfmgOcsF0ALqWGPHGpJq2cwUr-xIG-uizbQqXPzPuTkrPM-Lg/viewform?usp=pp_url&entry.360321409=justjillwithaj&entry.1933578897', 'deleted': False, 'get_info_date': '2018-04-17 13:47:53.570747'}\n"
     ]
    },
    {
     "name": "stderr",
     "output_type": "stream",
     "text": [
      "substituting https://oauth.reddit.com for https://api.reddit.com in url\n",
      "POST: https://oauth.reddit.com/api/compose/.json\n"
     ]
    },
    {
     "name": "stdout",
     "output_type": "stream",
     "text": [
      "Message successfully sent to user justjillwithaj\n",
      "APPENDING TO FILE: {'username': 'justjillwithaj', 'get_info_date': '2018-04-17 13:47:53.570747', 'deleted': False, 'url': 'https://docs.google.com/forms/d/e/1FAIpQLSfmgOcsF0ALqWGPHGpJq2cwUr-xIG-uizbQqXPzPuTkrPM-Lg/viewform?usp=pp_url&entry.360321409=justjillwithaj&entry.1933578897', 'first_comment_week': 2}\n",
      "first_comment_week: 2\n",
      "url: https://docs.google.com/forms/d/e/1FAIpQLSfmgOcsF0ALqWGPHGpJq2cwUr-xIG-uizbQqXPzPuTkrPM-Lg/viewform?usp=pp_url&entry.360321409=justjillwithaj&entry.1933578897\n",
      "get_info_data: 2018-04-17 13:47:53.570747\n",
      "deleted: False\n",
      "User Red217 found: {'is_mod': False, 'has_subscribed': True, 'hide_from_robots': False, 'verified': False, 'icon_img': 'https://www.redditstatic.com/avatars/avatar_default_15_D4E815.png', 'is_employee': False, 'comment_karma': 9335, 'name': 'Red217', 'subreddit': None, 'is_gold': True, 'is_friend': False, 'id': 'a8n3u', 'has_verified_email': False, 'pref_show_snoovatar': False, 'created': 1358309472.0, 'created_utc': 1358280672.0, 'link_karma': 1641}\n",
      "Sending a message to user Red217 with data {'first_comment_week': 2, 'username': 'Red217', 'url': 'https://docs.google.com/forms/d/e/1FAIpQLSfmgOcsF0ALqWGPHGpJq2cwUr-xIG-uizbQqXPzPuTkrPM-Lg/viewform?usp=pp_url&entry.360321409=Red217&entry.1933578897', 'deleted': False, 'get_info_date': '2018-04-17 13:47:57.606348'}\n"
     ]
    },
    {
     "name": "stderr",
     "output_type": "stream",
     "text": [
      "substituting https://oauth.reddit.com for https://api.reddit.com in url\n",
      "GET: https://oauth.reddit.com/user/Red217/about/.json\n",
      "substituting https://oauth.reddit.com for https://api.reddit.com in url\n",
      "POST: https://oauth.reddit.com/api/compose/.json\n"
     ]
    },
    {
     "name": "stdout",
     "output_type": "stream",
     "text": [
      "Message successfully sent to user Red217\n",
      "APPENDING TO FILE: {'username': 'Red217', 'get_info_date': '2018-04-17 13:47:57.606348', 'deleted': False, 'url': 'https://docs.google.com/forms/d/e/1FAIpQLSfmgOcsF0ALqWGPHGpJq2cwUr-xIG-uizbQqXPzPuTkrPM-Lg/viewform?usp=pp_url&entry.360321409=Red217&entry.1933578897', 'first_comment_week': 2}\n",
      "first_comment_week: 2\n",
      "url: https://docs.google.com/forms/d/e/1FAIpQLSfmgOcsF0ALqWGPHGpJq2cwUr-xIG-uizbQqXPzPuTkrPM-Lg/viewform?usp=pp_url&entry.360321409=Red217&entry.1933578897\n",
      "get_info_data: 2018-04-17 13:47:57.606348\n",
      "deleted: False\n",
      "User blue_eyed_bella found: {'is_mod': False, 'has_subscribed': True, 'hide_from_robots': False, 'verified': True, 'icon_img': 'https://www.redditstatic.com/avatars/avatar_default_03_FF585B.png', 'is_employee': False, 'comment_karma': 2057, 'name': 'blue_eyed_bella', 'subreddit': {'icon_size': [256, 256], 'key_color': '', 'link_flair_enabled': False, 'subreddit_type': 'user', 'name': 't5_6fm2x', 'user_is_moderator': False, 'community_icon': '', 'header_img': None, 'public_description': '', 'show_media': True, 'audience_target': '', 'url': '/user/blue_eyed_bella/', 'description': '', 'display_name_prefixed': 'u/blue_eyed_bella', 'subscribers': 0, 'display_name': 'u_blue_eyed_bella', 'user_is_banned': False, 'is_default_icon': True, 'icon_img': 'https://www.redditstatic.com/avatars/avatar_default_03_FF585B.png', 'over_18': False, 'is_default_banner': True, 'user_is_contributor': False, 'icon_color': '#FF585B', 'header_size': None, 'user_is_muted': False, 'banner_size': None, 'user_is_subscriber': False, 'banner_img': '', 'title': '', 'default_set': True, 'primary_color': ''}, 'is_gold': False, 'is_friend': False, 'id': 'fdkc5bq', 'has_verified_email': True, 'pref_show_snoovatar': False, 'created': 1506643233.0, 'created_utc': 1506614433.0, 'link_karma': 259}\n",
      "Sending a message to user blue_eyed_bella with data {'first_comment_week': 2, 'username': 'blue_eyed_bella', 'url': 'https://docs.google.com/forms/d/e/1FAIpQLSfmgOcsF0ALqWGPHGpJq2cwUr-xIG-uizbQqXPzPuTkrPM-Lg/viewform?usp=pp_url&entry.360321409=blue_eyed_bella&entry.1933578897', 'deleted': False, 'get_info_date': '2018-04-17 13:48:01.772587'}\n"
     ]
    },
    {
     "name": "stderr",
     "output_type": "stream",
     "text": [
      "substituting https://oauth.reddit.com for https://api.reddit.com in url\n",
      "GET: https://oauth.reddit.com/user/blue_eyed_bella/about/.json\n",
      "substituting https://oauth.reddit.com for https://api.reddit.com in url\n",
      "POST: https://oauth.reddit.com/api/compose/.json\n"
     ]
    },
    {
     "name": "stdout",
     "output_type": "stream",
     "text": [
      "Message successfully sent to user blue_eyed_bella\n",
      "APPENDING TO FILE: {'username': 'blue_eyed_bella', 'get_info_date': '2018-04-17 13:48:01.772587', 'deleted': False, 'url': 'https://docs.google.com/forms/d/e/1FAIpQLSfmgOcsF0ALqWGPHGpJq2cwUr-xIG-uizbQqXPzPuTkrPM-Lg/viewform?usp=pp_url&entry.360321409=blue_eyed_bella&entry.1933578897', 'first_comment_week': 2}\n",
      "first_comment_week: 2\n",
      "url: https://docs.google.com/forms/d/e/1FAIpQLSfmgOcsF0ALqWGPHGpJq2cwUr-xIG-uizbQqXPzPuTkrPM-Lg/viewform?usp=pp_url&entry.360321409=blue_eyed_bella&entry.1933578897\n",
      "get_info_data: 2018-04-17 13:48:01.772587\n",
      "deleted: False\n",
      "User damaskrose found: {'is_mod': False, 'has_subscribed': True, 'hide_from_robots': False, 'verified': True, 'icon_img': 'https://www.redditstatic.com/avatars/avatar_default_10_A06A42.png', 'is_employee': False, 'comment_karma': 23656, 'name': 'damaskrose', 'subreddit': {'icon_size': [256, 256], 'key_color': '', 'link_flair_enabled': False, 'subreddit_type': 'user', 'name': 't5_c4cp2', 'user_is_moderator': False, 'community_icon': '', 'header_img': None, 'public_description': '', 'show_media': True, 'audience_target': '', 'url': '/user/damaskrose/', 'description': '', 'display_name_prefixed': 'u/damaskrose', 'subscribers': 0, 'display_name': 'u_damaskrose', 'user_is_banned': False, 'is_default_icon': True, 'icon_img': 'https://www.redditstatic.com/avatars/avatar_default_10_A06A42.png', 'over_18': False, 'is_default_banner': True, 'user_is_contributor': False, 'icon_color': '#A06A42', 'header_size': None, 'user_is_muted': False, 'banner_size': None, 'user_is_subscriber': False, 'banner_img': '', 'title': '', 'default_set': True, 'primary_color': ''}, 'is_gold': False, 'is_friend': False, 'id': '6sfxh', 'has_verified_email': False, 'pref_show_snoovatar': False, 'created': 1327928174.0, 'created_utc': 1327899374.0, 'link_karma': 198}\n",
      "Sending a message to user damaskrose with data {'first_comment_week': 2, 'username': 'damaskrose', 'url': 'https://docs.google.com/forms/d/e/1FAIpQLSfmgOcsF0ALqWGPHGpJq2cwUr-xIG-uizbQqXPzPuTkrPM-Lg/viewform?usp=pp_url&entry.360321409=damaskrose&entry.1933578897', 'deleted': False, 'get_info_date': '2018-04-17 13:48:05.980439'}\n"
     ]
    },
    {
     "name": "stderr",
     "output_type": "stream",
     "text": [
      "substituting https://oauth.reddit.com for https://api.reddit.com in url\n",
      "GET: https://oauth.reddit.com/user/damaskrose/about/.json\n",
      "substituting https://oauth.reddit.com for https://api.reddit.com in url\n",
      "POST: https://oauth.reddit.com/api/compose/.json\n"
     ]
    },
    {
     "name": "stdout",
     "output_type": "stream",
     "text": [
      "Message successfully sent to user damaskrose\n",
      "APPENDING TO FILE: {'username': 'damaskrose', 'get_info_date': '2018-04-17 13:48:05.980439', 'deleted': False, 'url': 'https://docs.google.com/forms/d/e/1FAIpQLSfmgOcsF0ALqWGPHGpJq2cwUr-xIG-uizbQqXPzPuTkrPM-Lg/viewform?usp=pp_url&entry.360321409=damaskrose&entry.1933578897', 'first_comment_week': 2}\n",
      "first_comment_week: 2\n",
      "url: https://docs.google.com/forms/d/e/1FAIpQLSfmgOcsF0ALqWGPHGpJq2cwUr-xIG-uizbQqXPzPuTkrPM-Lg/viewform?usp=pp_url&entry.360321409=damaskrose&entry.1933578897\n",
      "get_info_data: 2018-04-17 13:48:05.980439\n",
      "deleted: False\n"
     ]
    },
    {
     "name": "stderr",
     "output_type": "stream",
     "text": [
      "substituting https://oauth.reddit.com for https://api.reddit.com in url\n",
      "GET: https://oauth.reddit.com/user/SamIsNOYB1267/about/.json\n"
     ]
    },
    {
     "name": "stdout",
     "output_type": "stream",
     "text": [
      "User SamIsNOYB1267 found: {'name': 'SamIsNOYB1267', 'is_suspended': True}\n",
      "Sending a message to user SamIsNOYB1267 with data {'first_comment_week': 2, 'username': 'SamIsNOYB1267', 'url': 'https://docs.google.com/forms/d/e/1FAIpQLSfmgOcsF0ALqWGPHGpJq2cwUr-xIG-uizbQqXPzPuTkrPM-Lg/viewform?usp=pp_url&entry.360321409=SamIsNOYB1267&entry.1933578897', 'deleted': False, 'get_info_date': '2018-04-17 13:48:10.335787'}\n"
     ]
    },
    {
     "name": "stderr",
     "output_type": "stream",
     "text": [
      "substituting https://oauth.reddit.com for https://api.reddit.com in url\n",
      "POST: https://oauth.reddit.com/api/compose/.json\n"
     ]
    },
    {
     "name": "stdout",
     "output_type": "stream",
     "text": [
      "Message successfully sent to user SamIsNOYB1267\n",
      "APPENDING TO FILE: {'username': 'SamIsNOYB1267', 'get_info_date': '2018-04-17 13:48:10.335787', 'deleted': False, 'url': 'https://docs.google.com/forms/d/e/1FAIpQLSfmgOcsF0ALqWGPHGpJq2cwUr-xIG-uizbQqXPzPuTkrPM-Lg/viewform?usp=pp_url&entry.360321409=SamIsNOYB1267&entry.1933578897', 'first_comment_week': 2}\n",
      "first_comment_week: 2\n",
      "url: https://docs.google.com/forms/d/e/1FAIpQLSfmgOcsF0ALqWGPHGpJq2cwUr-xIG-uizbQqXPzPuTkrPM-Lg/viewform?usp=pp_url&entry.360321409=SamIsNOYB1267&entry.1933578897\n",
      "get_info_data: 2018-04-17 13:48:10.335787\n",
      "deleted: False\n",
      "User AHMagic found: {'is_mod': True, 'has_subscribed': True, 'hide_from_robots': False, 'verified': True, 'icon_img': 'https://www.redditstatic.com/avatars/avatar_default_10_D4E815.png', 'is_employee': False, 'comment_karma': 237, 'name': 'AHMagic', 'subreddit': {'icon_size': [256, 256], 'key_color': '', 'link_flair_enabled': False, 'subreddit_type': 'user', 'name': 't5_glym5', 'user_is_moderator': False, 'community_icon': '', 'header_img': None, 'public_description': '', 'show_media': True, 'audience_target': '', 'url': '/user/AHMagic/', 'description': '', 'display_name_prefixed': 'u/AHMagic', 'subscribers': 0, 'display_name': 'u_AHMagic', 'user_is_banned': False, 'is_default_icon': True, 'icon_img': 'https://www.redditstatic.com/avatars/avatar_default_10_D4E815.png', 'over_18': False, 'is_default_banner': True, 'user_is_contributor': False, 'icon_color': '#D4E815', 'header_size': None, 'user_is_muted': False, 'banner_size': None, 'user_is_subscriber': False, 'banner_img': '', 'title': '', 'default_set': True, 'primary_color': ''}, 'is_gold': False, 'is_friend': False, 'id': '10fy4tct', 'has_verified_email': True, 'pref_show_snoovatar': False, 'created': 1520507011.0, 'created_utc': 1520478211.0, 'link_karma': 291}\n",
      "Sending a message to user AHMagic with data {'first_comment_week': 2, 'username': 'AHMagic', 'url': 'https://docs.google.com/forms/d/e/1FAIpQLSfmgOcsF0ALqWGPHGpJq2cwUr-xIG-uizbQqXPzPuTkrPM-Lg/viewform?usp=pp_url&entry.360321409=AHMagic&entry.1933578897', 'deleted': False, 'get_info_date': '2018-04-17 13:48:14.464345'}\n"
     ]
    },
    {
     "name": "stderr",
     "output_type": "stream",
     "text": [
      "substituting https://oauth.reddit.com for https://api.reddit.com in url\n",
      "GET: https://oauth.reddit.com/user/AHMagic/about/.json\n",
      "substituting https://oauth.reddit.com for https://api.reddit.com in url\n",
      "POST: https://oauth.reddit.com/api/compose/.json\n"
     ]
    },
    {
     "name": "stdout",
     "output_type": "stream",
     "text": [
      "Message successfully sent to user AHMagic\n",
      "APPENDING TO FILE: {'username': 'AHMagic', 'get_info_date': '2018-04-17 13:48:14.464345', 'deleted': False, 'url': 'https://docs.google.com/forms/d/e/1FAIpQLSfmgOcsF0ALqWGPHGpJq2cwUr-xIG-uizbQqXPzPuTkrPM-Lg/viewform?usp=pp_url&entry.360321409=AHMagic&entry.1933578897', 'first_comment_week': 2}\n",
      "first_comment_week: 2\n",
      "url: https://docs.google.com/forms/d/e/1FAIpQLSfmgOcsF0ALqWGPHGpJq2cwUr-xIG-uizbQqXPzPuTkrPM-Lg/viewform?usp=pp_url&entry.360321409=AHMagic&entry.1933578897\n",
      "get_info_data: 2018-04-17 13:48:14.464345\n",
      "deleted: False\n",
      "User MadeOnEarthByHumans found: {'is_mod': False, 'has_subscribed': True, 'hide_from_robots': False, 'verified': True, 'icon_img': 'https://www.redditstatic.com/avatars/avatar_default_12_4856A3.png', 'is_employee': False, 'comment_karma': 41, 'name': 'MadeOnEarthByHumans', 'subreddit': {'icon_size': [256, 256], 'key_color': '', 'link_flair_enabled': False, 'subreddit_type': 'user', 'name': 't5_g8ulb', 'user_is_moderator': False, 'community_icon': '', 'header_img': None, 'public_description': '', 'show_media': True, 'audience_target': '', 'url': '/user/MadeOnEarthByHumans/', 'description': '', 'display_name_prefixed': 'u/MadeOnEarthByHumans', 'subscribers': 0, 'display_name': 'u_MadeOnEarthByHumans', 'user_is_banned': False, 'is_default_icon': True, 'icon_img': 'https://www.redditstatic.com/avatars/avatar_default_12_4856A3.png', 'over_18': False, 'is_default_banner': True, 'user_is_contributor': False, 'icon_color': '#4856A3', 'header_size': None, 'user_is_muted': False, 'banner_size': None, 'user_is_subscriber': False, 'banner_img': '', 'title': '', 'default_set': True, 'primary_color': ''}, 'is_gold': False, 'is_friend': False, 'id': 'ywfg80b', 'has_verified_email': True, 'pref_show_snoovatar': False, 'created': 1519680225.0, 'created_utc': 1519651425.0, 'link_karma': 64}\n",
      "Sending a message to user MadeOnEarthByHumans with data {'first_comment_week': 2, 'username': 'MadeOnEarthByHumans', 'url': 'https://docs.google.com/forms/d/e/1FAIpQLSfmgOcsF0ALqWGPHGpJq2cwUr-xIG-uizbQqXPzPuTkrPM-Lg/viewform?usp=pp_url&entry.360321409=MadeOnEarthByHumans&entry.1933578897', 'deleted': False, 'get_info_date': '2018-04-17 13:48:18.675749'}\n"
     ]
    },
    {
     "name": "stderr",
     "output_type": "stream",
     "text": [
      "substituting https://oauth.reddit.com for https://api.reddit.com in url\n",
      "GET: https://oauth.reddit.com/user/MadeOnEarthByHumans/about/.json\n",
      "substituting https://oauth.reddit.com for https://api.reddit.com in url\n",
      "POST: https://oauth.reddit.com/api/compose/.json\n"
     ]
    },
    {
     "name": "stdout",
     "output_type": "stream",
     "text": [
      "Message successfully sent to user MadeOnEarthByHumans\n",
      "APPENDING TO FILE: {'username': 'MadeOnEarthByHumans', 'get_info_date': '2018-04-17 13:48:18.675749', 'deleted': False, 'url': 'https://docs.google.com/forms/d/e/1FAIpQLSfmgOcsF0ALqWGPHGpJq2cwUr-xIG-uizbQqXPzPuTkrPM-Lg/viewform?usp=pp_url&entry.360321409=MadeOnEarthByHumans&entry.1933578897', 'first_comment_week': 2}\n",
      "first_comment_week: 2\n",
      "url: https://docs.google.com/forms/d/e/1FAIpQLSfmgOcsF0ALqWGPHGpJq2cwUr-xIG-uizbQqXPzPuTkrPM-Lg/viewform?usp=pp_url&entry.360321409=MadeOnEarthByHumans&entry.1933578897\n",
      "get_info_data: 2018-04-17 13:48:18.675749\n",
      "deleted: False\n",
      "User BetaThetaOmega found: {'is_mod': True, 'has_subscribed': True, 'hide_from_robots': False, 'verified': True, 'icon_img': 'https://www.redditstatic.com/avatars/avatar_default_18_46D160.png', 'is_employee': False, 'comment_karma': 24546, 'name': 'BetaThetaOmega', 'subreddit': {'icon_size': [256, 256], 'key_color': '', 'link_flair_enabled': False, 'subreddit_type': 'user', 'name': 't5_7p7ga', 'user_is_moderator': False, 'community_icon': '', 'header_img': None, 'public_description': '', 'show_media': True, 'audience_target': '', 'url': '/user/BetaThetaOmega/', 'description': '', 'display_name_prefixed': 'u/BetaThetaOmega', 'subscribers': 0, 'display_name': 'u_BetaThetaOmega', 'user_is_banned': False, 'is_default_icon': True, 'icon_img': 'https://www.redditstatic.com/avatars/avatar_default_18_46D160.png', 'over_18': False, 'is_default_banner': True, 'user_is_contributor': False, 'icon_color': '#46D160', 'header_size': None, 'user_is_muted': False, 'banner_size': None, 'user_is_subscriber': False, 'banner_img': '', 'title': '', 'default_set': True, 'primary_color': ''}, 'is_gold': False, 'is_friend': False, 'id': '5deydd', 'has_verified_email': False, 'pref_show_snoovatar': False, 'created': 1504293914.0, 'created_utc': 1504265114.0, 'link_karma': 3031}\n",
      "Sending a message to user BetaThetaOmega with data {'first_comment_week': 2, 'username': 'BetaThetaOmega', 'url': 'https://docs.google.com/forms/d/e/1FAIpQLSfmgOcsF0ALqWGPHGpJq2cwUr-xIG-uizbQqXPzPuTkrPM-Lg/viewform?usp=pp_url&entry.360321409=BetaThetaOmega&entry.1933578897', 'deleted': False, 'get_info_date': '2018-04-17 13:48:22.865955'}\n"
     ]
    },
    {
     "name": "stderr",
     "output_type": "stream",
     "text": [
      "substituting https://oauth.reddit.com for https://api.reddit.com in url\n",
      "GET: https://oauth.reddit.com/user/BetaThetaOmega/about/.json\n",
      "substituting https://oauth.reddit.com for https://api.reddit.com in url\n",
      "POST: https://oauth.reddit.com/api/compose/.json\n"
     ]
    },
    {
     "name": "stdout",
     "output_type": "stream",
     "text": [
      "Message successfully sent to user BetaThetaOmega\n",
      "APPENDING TO FILE: {'username': 'BetaThetaOmega', 'get_info_date': '2018-04-17 13:48:22.865955', 'deleted': False, 'url': 'https://docs.google.com/forms/d/e/1FAIpQLSfmgOcsF0ALqWGPHGpJq2cwUr-xIG-uizbQqXPzPuTkrPM-Lg/viewform?usp=pp_url&entry.360321409=BetaThetaOmega&entry.1933578897', 'first_comment_week': 2}\n",
      "first_comment_week: 2\n",
      "url: https://docs.google.com/forms/d/e/1FAIpQLSfmgOcsF0ALqWGPHGpJq2cwUr-xIG-uizbQqXPzPuTkrPM-Lg/viewform?usp=pp_url&entry.360321409=BetaThetaOmega&entry.1933578897\n",
      "get_info_data: 2018-04-17 13:48:22.865955\n",
      "deleted: False\n",
      "User crazyrocky2684 found: {'is_mod': False, 'has_subscribed': True, 'hide_from_robots': False, 'verified': True, 'icon_img': 'https://www.redditstatic.com/avatars/avatar_default_01_008985.png', 'is_employee': False, 'comment_karma': 495, 'name': 'crazyrocky2684', 'subreddit': {'icon_size': [256, 256], 'key_color': '', 'link_flair_enabled': False, 'subreddit_type': 'user', 'name': 't5_7m323', 'user_is_moderator': False, 'community_icon': '', 'header_img': None, 'public_description': '', 'show_media': True, 'audience_target': '', 'url': '/user/crazyrocky2684/', 'description': '', 'display_name_prefixed': 'u/crazyrocky2684', 'subscribers': 0, 'display_name': 'u_crazyrocky2684', 'user_is_banned': False, 'is_default_icon': True, 'icon_img': 'https://www.redditstatic.com/avatars/avatar_default_01_008985.png', 'over_18': False, 'is_default_banner': True, 'user_is_contributor': False, 'icon_color': '#008985', 'header_size': None, 'user_is_muted': False, 'banner_size': None, 'user_is_subscriber': False, 'banner_img': '', 'title': '', 'default_set': True, 'primary_color': ''}, 'is_gold': False, 'is_friend': False, 'id': '1kwffaw', 'has_verified_email': True, 'pref_show_snoovatar': False, 'created': 1495983007.0, 'created_utc': 1495954207.0, 'link_karma': 721}\n",
      "Sending a message to user crazyrocky2684 with data {'first_comment_week': 2, 'username': 'crazyrocky2684', 'url': 'https://docs.google.com/forms/d/e/1FAIpQLSfmgOcsF0ALqWGPHGpJq2cwUr-xIG-uizbQqXPzPuTkrPM-Lg/viewform?usp=pp_url&entry.360321409=crazyrocky2684&entry.1933578897', 'deleted': False, 'get_info_date': '2018-04-17 13:48:27.102747'}\n"
     ]
    },
    {
     "name": "stderr",
     "output_type": "stream",
     "text": [
      "substituting https://oauth.reddit.com for https://api.reddit.com in url\n",
      "GET: https://oauth.reddit.com/user/crazyrocky2684/about/.json\n",
      "substituting https://oauth.reddit.com for https://api.reddit.com in url\n",
      "POST: https://oauth.reddit.com/api/compose/.json\n"
     ]
    },
    {
     "name": "stdout",
     "output_type": "stream",
     "text": [
      "Message successfully sent to user crazyrocky2684\n",
      "APPENDING TO FILE: {'username': 'crazyrocky2684', 'get_info_date': '2018-04-17 13:48:27.102747', 'deleted': False, 'url': 'https://docs.google.com/forms/d/e/1FAIpQLSfmgOcsF0ALqWGPHGpJq2cwUr-xIG-uizbQqXPzPuTkrPM-Lg/viewform?usp=pp_url&entry.360321409=crazyrocky2684&entry.1933578897', 'first_comment_week': 2}\n",
      "first_comment_week: 2\n",
      "url: https://docs.google.com/forms/d/e/1FAIpQLSfmgOcsF0ALqWGPHGpJq2cwUr-xIG-uizbQqXPzPuTkrPM-Lg/viewform?usp=pp_url&entry.360321409=crazyrocky2684&entry.1933578897\n",
      "get_info_data: 2018-04-17 13:48:27.102747\n",
      "deleted: False\n",
      "User mementomori42 found: {'is_mod': False, 'has_subscribed': True, 'hide_from_robots': False, 'verified': False, 'icon_img': 'https://www.redditstatic.com/avatars/avatar_default_11_D4E815.png', 'is_employee': False, 'comment_karma': 5387, 'name': 'mementomori42', 'subreddit': None, 'is_gold': False, 'is_friend': False, 'id': '5abqi', 'has_verified_email': False, 'pref_show_snoovatar': False, 'created': 1306386458.0, 'created_utc': 1306357658.0, 'link_karma': 31}\n",
      "Sending a message to user mementomori42 with data {'first_comment_week': 2, 'username': 'mementomori42', 'url': 'https://docs.google.com/forms/d/e/1FAIpQLSfmgOcsF0ALqWGPHGpJq2cwUr-xIG-uizbQqXPzPuTkrPM-Lg/viewform?usp=pp_url&entry.360321409=mementomori42&entry.1933578897', 'deleted': False, 'get_info_date': '2018-04-17 13:48:31.454584'}\n"
     ]
    },
    {
     "name": "stderr",
     "output_type": "stream",
     "text": [
      "substituting https://oauth.reddit.com for https://api.reddit.com in url\n",
      "GET: https://oauth.reddit.com/user/mementomori42/about/.json\n",
      "substituting https://oauth.reddit.com for https://api.reddit.com in url\n",
      "POST: https://oauth.reddit.com/api/compose/.json\n"
     ]
    },
    {
     "name": "stdout",
     "output_type": "stream",
     "text": [
      "Message successfully sent to user mementomori42\n",
      "APPENDING TO FILE: {'username': 'mementomori42', 'get_info_date': '2018-04-17 13:48:31.454584', 'deleted': False, 'url': 'https://docs.google.com/forms/d/e/1FAIpQLSfmgOcsF0ALqWGPHGpJq2cwUr-xIG-uizbQqXPzPuTkrPM-Lg/viewform?usp=pp_url&entry.360321409=mementomori42&entry.1933578897', 'first_comment_week': 2}\n",
      "first_comment_week: 2\n",
      "url: https://docs.google.com/forms/d/e/1FAIpQLSfmgOcsF0ALqWGPHGpJq2cwUr-xIG-uizbQqXPzPuTkrPM-Lg/viewform?usp=pp_url&entry.360321409=mementomori42&entry.1933578897\n",
      "get_info_data: 2018-04-17 13:48:31.454584\n",
      "deleted: False\n",
      "User merkon found: {'is_mod': True, 'has_subscribed': True, 'hide_from_robots': False, 'verified': False, 'icon_img': 'https://www.redditstatic.com/avatars/avatar_default_20_4856A3.png', 'is_employee': False, 'comment_karma': 35997, 'name': 'merkon', 'subreddit': None, 'is_gold': False, 'is_friend': False, 'id': '4xhev', 'has_verified_email': True, 'pref_show_snoovatar': False, 'created': 1299499448.0, 'created_utc': 1299470648.0, 'link_karma': 23752}\n",
      "Sending a message to user merkon with data {'first_comment_week': 2, 'username': 'merkon', 'url': 'https://docs.google.com/forms/d/e/1FAIpQLSfmgOcsF0ALqWGPHGpJq2cwUr-xIG-uizbQqXPzPuTkrPM-Lg/viewform?usp=pp_url&entry.360321409=merkon&entry.1933578897', 'deleted': False, 'get_info_date': '2018-04-17 13:48:35.554562'}\n"
     ]
    },
    {
     "name": "stderr",
     "output_type": "stream",
     "text": [
      "substituting https://oauth.reddit.com for https://api.reddit.com in url\n",
      "GET: https://oauth.reddit.com/user/merkon/about/.json\n",
      "substituting https://oauth.reddit.com for https://api.reddit.com in url\n",
      "POST: https://oauth.reddit.com/api/compose/.json\n"
     ]
    },
    {
     "name": "stdout",
     "output_type": "stream",
     "text": [
      "Message successfully sent to user merkon\n",
      "APPENDING TO FILE: {'username': 'merkon', 'get_info_date': '2018-04-17 13:48:35.554562', 'deleted': False, 'url': 'https://docs.google.com/forms/d/e/1FAIpQLSfmgOcsF0ALqWGPHGpJq2cwUr-xIG-uizbQqXPzPuTkrPM-Lg/viewform?usp=pp_url&entry.360321409=merkon&entry.1933578897', 'first_comment_week': 2}\n",
      "first_comment_week: 2\n",
      "url: https://docs.google.com/forms/d/e/1FAIpQLSfmgOcsF0ALqWGPHGpJq2cwUr-xIG-uizbQqXPzPuTkrPM-Lg/viewform?usp=pp_url&entry.360321409=merkon&entry.1933578897\n",
      "get_info_data: 2018-04-17 13:48:35.554562\n",
      "deleted: False\n",
      "User not found: BDANON\n"
     ]
    },
    {
     "name": "stderr",
     "output_type": "stream",
     "text": [
      "substituting https://oauth.reddit.com for https://api.reddit.com in url\n",
      "GET: https://oauth.reddit.com/user/BDANON/about/.json\n"
     ]
    },
    {
     "name": "stdout",
     "output_type": "stream",
     "text": [
      "User graaahh found: {'is_mod': True, 'has_subscribed': True, 'hide_from_robots': False, 'verified': True, 'icon_img': 'https://www.redditstatic.com/avatars/avatar_default_13_25B79F.png', 'is_employee': False, 'comment_karma': 101866, 'name': 'graaahh', 'subreddit': {'icon_size': [256, 256], 'key_color': '', 'link_flair_enabled': False, 'subreddit_type': 'user', 'name': 't5_4dywo', 'user_is_moderator': False, 'community_icon': '', 'header_img': None, 'public_description': '', 'show_media': True, 'audience_target': '', 'url': '/user/graaahh/', 'description': '', 'display_name_prefixed': 'u/graaahh', 'subscribers': 0, 'display_name': 'u_graaahh', 'user_is_banned': False, 'is_default_icon': True, 'icon_img': 'https://www.redditstatic.com/avatars/avatar_default_13_25B79F.png', 'over_18': False, 'is_default_banner': True, 'user_is_contributor': False, 'icon_color': '#25B79F', 'header_size': None, 'user_is_muted': False, 'banner_size': None, 'user_is_subscriber': False, 'banner_img': '', 'title': 'Graaahh', 'default_set': True, 'primary_color': ''}, 'is_gold': False, 'is_friend': False, 'id': '7grn4', 'has_verified_email': None, 'pref_show_snoovatar': False, 'created': 1334567354.0, 'created_utc': 1334538554.0, 'link_karma': 44162}\n",
      "Sending a message to user graaahh with data {'first_comment_week': 2, 'username': 'graaahh', 'url': 'https://docs.google.com/forms/d/e/1FAIpQLSfmgOcsF0ALqWGPHGpJq2cwUr-xIG-uizbQqXPzPuTkrPM-Lg/viewform?usp=pp_url&entry.360321409=graaahh&entry.1933578897', 'deleted': False, 'get_info_date': '2018-04-17 13:48:41.843275'}\n"
     ]
    },
    {
     "name": "stderr",
     "output_type": "stream",
     "text": [
      "substituting https://oauth.reddit.com for https://api.reddit.com in url\n",
      "GET: https://oauth.reddit.com/user/graaahh/about/.json\n",
      "substituting https://oauth.reddit.com for https://api.reddit.com in url\n",
      "POST: https://oauth.reddit.com/api/compose/.json\n"
     ]
    },
    {
     "name": "stdout",
     "output_type": "stream",
     "text": [
      "Message successfully sent to user graaahh\n",
      "APPENDING TO FILE: {'username': 'graaahh', 'get_info_date': '2018-04-17 13:48:41.843275', 'deleted': False, 'url': 'https://docs.google.com/forms/d/e/1FAIpQLSfmgOcsF0ALqWGPHGpJq2cwUr-xIG-uizbQqXPzPuTkrPM-Lg/viewform?usp=pp_url&entry.360321409=graaahh&entry.1933578897', 'first_comment_week': 2}\n",
      "first_comment_week: 2\n",
      "url: https://docs.google.com/forms/d/e/1FAIpQLSfmgOcsF0ALqWGPHGpJq2cwUr-xIG-uizbQqXPzPuTkrPM-Lg/viewform?usp=pp_url&entry.360321409=graaahh&entry.1933578897\n",
      "get_info_data: 2018-04-17 13:48:41.843275\n",
      "deleted: False\n",
      "User LostTriforce found: {'is_mod': False, 'has_subscribed': True, 'hide_from_robots': False, 'verified': False, 'icon_img': 'https://www.redditstatic.com/avatars/avatar_default_01_A5A4A4.png', 'is_employee': False, 'comment_karma': 11600, 'name': 'LostTriforce', 'subreddit': None, 'is_gold': False, 'is_friend': False, 'id': '12pnng', 'has_verified_email': False, 'pref_show_snoovatar': False, 'created': 1478769209.0, 'created_utc': 1478740409.0, 'link_karma': 3616}\n",
      "Sending a message to user LostTriforce with data {'first_comment_week': 2, 'username': 'LostTriforce', 'url': 'https://docs.google.com/forms/d/e/1FAIpQLSfmgOcsF0ALqWGPHGpJq2cwUr-xIG-uizbQqXPzPuTkrPM-Lg/viewform?usp=pp_url&entry.360321409=LostTriforce&entry.1933578897', 'deleted': False, 'get_info_date': '2018-04-17 13:48:45.995143'}\n"
     ]
    },
    {
     "name": "stderr",
     "output_type": "stream",
     "text": [
      "substituting https://oauth.reddit.com for https://api.reddit.com in url\n",
      "GET: https://oauth.reddit.com/user/LostTriforce/about/.json\n",
      "substituting https://oauth.reddit.com for https://api.reddit.com in url\n",
      "POST: https://oauth.reddit.com/api/compose/.json\n"
     ]
    },
    {
     "name": "stdout",
     "output_type": "stream",
     "text": [
      "Message successfully sent to user LostTriforce\n",
      "APPENDING TO FILE: {'username': 'LostTriforce', 'get_info_date': '2018-04-17 13:48:45.995143', 'deleted': False, 'url': 'https://docs.google.com/forms/d/e/1FAIpQLSfmgOcsF0ALqWGPHGpJq2cwUr-xIG-uizbQqXPzPuTkrPM-Lg/viewform?usp=pp_url&entry.360321409=LostTriforce&entry.1933578897', 'first_comment_week': 2}\n",
      "first_comment_week: 2\n",
      "url: https://docs.google.com/forms/d/e/1FAIpQLSfmgOcsF0ALqWGPHGpJq2cwUr-xIG-uizbQqXPzPuTkrPM-Lg/viewform?usp=pp_url&entry.360321409=LostTriforce&entry.1933578897\n",
      "get_info_data: 2018-04-17 13:48:45.995143\n",
      "deleted: False\n",
      "User brienburroughs found: {'is_mod': False, 'has_subscribed': True, 'hide_from_robots': False, 'verified': True, 'icon_img': 'https://www.redditstatic.com/avatars/avatar_default_10_46D160.png', 'is_employee': False, 'comment_karma': 6171, 'name': 'brienburroughs', 'subreddit': {'icon_size': [256, 256], 'key_color': '', 'link_flair_enabled': False, 'subreddit_type': 'user', 'name': 't5_7dynf', 'user_is_moderator': False, 'community_icon': '', 'header_img': None, 'public_description': '', 'show_media': True, 'audience_target': '', 'url': '/user/brienburroughs/', 'description': '', 'display_name_prefixed': 'u/brienburroughs', 'subscribers': 0, 'display_name': 'u_brienburroughs', 'user_is_banned': False, 'is_default_icon': True, 'icon_img': 'https://www.redditstatic.com/avatars/avatar_default_10_46D160.png', 'over_18': False, 'is_default_banner': True, 'user_is_contributor': False, 'icon_color': '#46D160', 'header_size': None, 'user_is_muted': False, 'banner_size': None, 'user_is_subscriber': False, 'banner_img': '', 'title': '', 'default_set': True, 'primary_color': ''}, 'is_gold': False, 'is_friend': False, 'id': '6m1pmj9', 'has_verified_email': False, 'pref_show_snoovatar': False, 'created': 1499696268.0, 'created_utc': 1499667468.0, 'link_karma': 30}\n",
      "Sending a message to user brienburroughs with data {'first_comment_week': 2, 'username': 'brienburroughs', 'url': 'https://docs.google.com/forms/d/e/1FAIpQLSfmgOcsF0ALqWGPHGpJq2cwUr-xIG-uizbQqXPzPuTkrPM-Lg/viewform?usp=pp_url&entry.360321409=brienburroughs&entry.1933578897', 'deleted': False, 'get_info_date': '2018-04-17 13:48:50.248724'}\n"
     ]
    },
    {
     "name": "stderr",
     "output_type": "stream",
     "text": [
      "substituting https://oauth.reddit.com for https://api.reddit.com in url\n",
      "GET: https://oauth.reddit.com/user/brienburroughs/about/.json\n",
      "substituting https://oauth.reddit.com for https://api.reddit.com in url\n",
      "POST: https://oauth.reddit.com/api/compose/.json\n"
     ]
    },
    {
     "name": "stdout",
     "output_type": "stream",
     "text": [
      "Message successfully sent to user brienburroughs\n",
      "APPENDING TO FILE: {'username': 'brienburroughs', 'get_info_date': '2018-04-17 13:48:50.248724', 'deleted': False, 'url': 'https://docs.google.com/forms/d/e/1FAIpQLSfmgOcsF0ALqWGPHGpJq2cwUr-xIG-uizbQqXPzPuTkrPM-Lg/viewform?usp=pp_url&entry.360321409=brienburroughs&entry.1933578897', 'first_comment_week': 2}\n",
      "first_comment_week: 2\n",
      "url: https://docs.google.com/forms/d/e/1FAIpQLSfmgOcsF0ALqWGPHGpJq2cwUr-xIG-uizbQqXPzPuTkrPM-Lg/viewform?usp=pp_url&entry.360321409=brienburroughs&entry.1933578897\n",
      "get_info_data: 2018-04-17 13:48:50.248724\n",
      "deleted: False\n"
     ]
    },
    {
     "name": "stderr",
     "output_type": "stream",
     "text": [
      "substituting https://oauth.reddit.com for https://api.reddit.com in url\n",
      "GET: https://oauth.reddit.com/user/gman1234567890/about/.json\n"
     ]
    },
    {
     "name": "stdout",
     "output_type": "stream",
     "text": [
      "User gman1234567890 found: {'is_mod': False, 'has_subscribed': True, 'hide_from_robots': False, 'verified': True, 'icon_img': 'https://www.redditstatic.com/avatars/avatar_default_11_008985.png', 'is_employee': False, 'comment_karma': 1142, 'name': 'gman1234567890', 'subreddit': {'icon_size': [256, 256], 'key_color': '', 'link_flair_enabled': False, 'subreddit_type': 'user', 'name': 't5_7ukwp', 'user_is_moderator': False, 'community_icon': '', 'header_img': None, 'public_description': '', 'show_media': True, 'audience_target': '', 'url': '/user/gman1234567890/', 'description': '', 'display_name_prefixed': 'u/gman1234567890', 'subscribers': 0, 'display_name': 'u_gman1234567890', 'user_is_banned': False, 'is_default_icon': True, 'icon_img': 'https://www.redditstatic.com/avatars/avatar_default_11_008985.png', 'over_18': False, 'is_default_banner': True, 'user_is_contributor': False, 'icon_color': '#008985', 'header_size': None, 'user_is_muted': False, 'banner_size': None, 'user_is_subscriber': False, 'banner_img': '', 'title': '', 'default_set': True, 'primary_color': ''}, 'is_gold': False, 'is_friend': False, 'id': '6qh975u', 'has_verified_email': False, 'pref_show_snoovatar': False, 'created': 1499792669.0, 'created_utc': 1499763869.0, 'link_karma': 292}\n",
      "Sending a message to user gman1234567890 with data {'first_comment_week': 2, 'username': 'gman1234567890', 'url': 'https://docs.google.com/forms/d/e/1FAIpQLSfmgOcsF0ALqWGPHGpJq2cwUr-xIG-uizbQqXPzPuTkrPM-Lg/viewform?usp=pp_url&entry.360321409=gman1234567890&entry.1933578897', 'deleted': False, 'get_info_date': '2018-04-17 13:48:54.763128'}\n"
     ]
    },
    {
     "name": "stderr",
     "output_type": "stream",
     "text": [
      "substituting https://oauth.reddit.com for https://api.reddit.com in url\n",
      "POST: https://oauth.reddit.com/api/compose/.json\n"
     ]
    },
    {
     "name": "stdout",
     "output_type": "stream",
     "text": [
      "Message successfully sent to user gman1234567890\n",
      "APPENDING TO FILE: {'username': 'gman1234567890', 'get_info_date': '2018-04-17 13:48:54.763128', 'deleted': False, 'url': 'https://docs.google.com/forms/d/e/1FAIpQLSfmgOcsF0ALqWGPHGpJq2cwUr-xIG-uizbQqXPzPuTkrPM-Lg/viewform?usp=pp_url&entry.360321409=gman1234567890&entry.1933578897', 'first_comment_week': 2}\n",
      "first_comment_week: 2\n",
      "url: https://docs.google.com/forms/d/e/1FAIpQLSfmgOcsF0ALqWGPHGpJq2cwUr-xIG-uizbQqXPzPuTkrPM-Lg/viewform?usp=pp_url&entry.360321409=gman1234567890&entry.1933578897\n",
      "get_info_data: 2018-04-17 13:48:54.763128\n",
      "deleted: False\n",
      "User Autumnland found: {'is_mod': True, 'has_subscribed': True, 'hide_from_robots': False, 'verified': False, 'icon_img': 'https://www.redditstatic.com/avatars/avatar_default_02_FF585B.png', 'is_employee': False, 'comment_karma': 5057, 'name': 'Autumnland', 'subreddit': None, 'is_gold': False, 'is_friend': False, 'id': '10z2j9', 'has_verified_email': False, 'pref_show_snoovatar': False, 'created': 1472485712.0, 'created_utc': 1472456912.0, 'link_karma': 13412}\n",
      "Sending a message to user Autumnland with data {'first_comment_week': 2, 'username': 'Autumnland', 'url': 'https://docs.google.com/forms/d/e/1FAIpQLSfmgOcsF0ALqWGPHGpJq2cwUr-xIG-uizbQqXPzPuTkrPM-Lg/viewform?usp=pp_url&entry.360321409=Autumnland&entry.1933578897', 'deleted': False, 'get_info_date': '2018-04-17 13:48:58.956852'}\n"
     ]
    },
    {
     "name": "stderr",
     "output_type": "stream",
     "text": [
      "substituting https://oauth.reddit.com for https://api.reddit.com in url\n",
      "GET: https://oauth.reddit.com/user/Autumnland/about/.json\n",
      "substituting https://oauth.reddit.com for https://api.reddit.com in url\n",
      "POST: https://oauth.reddit.com/api/compose/.json\n"
     ]
    },
    {
     "name": "stdout",
     "output_type": "stream",
     "text": [
      "Message successfully sent to user Autumnland\n",
      "APPENDING TO FILE: {'username': 'Autumnland', 'get_info_date': '2018-04-17 13:48:58.956852', 'deleted': False, 'url': 'https://docs.google.com/forms/d/e/1FAIpQLSfmgOcsF0ALqWGPHGpJq2cwUr-xIG-uizbQqXPzPuTkrPM-Lg/viewform?usp=pp_url&entry.360321409=Autumnland&entry.1933578897', 'first_comment_week': 2}\n",
      "first_comment_week: 2\n",
      "url: https://docs.google.com/forms/d/e/1FAIpQLSfmgOcsF0ALqWGPHGpJq2cwUr-xIG-uizbQqXPzPuTkrPM-Lg/viewform?usp=pp_url&entry.360321409=Autumnland&entry.1933578897\n",
      "get_info_data: 2018-04-17 13:48:58.956852\n",
      "deleted: False\n",
      "User Shirt_Shanks found: {'is_mod': False, 'has_subscribed': True, 'hide_from_robots': False, 'verified': True, 'icon_img': 'https://www.redditstatic.com/avatars/avatar_default_13_FF66AC.png', 'is_employee': False, 'comment_karma': 7689, 'name': 'Shirt_Shanks', 'subreddit': {'icon_size': [256, 256], 'key_color': '', 'link_flair_enabled': False, 'subreddit_type': 'user', 'name': 't5_dxkgr', 'user_is_moderator': False, 'community_icon': '', 'header_img': None, 'public_description': '', 'show_media': True, 'audience_target': '', 'url': '/user/Shirt_Shanks/', 'description': '', 'display_name_prefixed': 'u/Shirt_Shanks', 'subscribers': 0, 'display_name': 'u_Shirt_Shanks', 'user_is_banned': False, 'is_default_icon': True, 'icon_img': 'https://www.redditstatic.com/avatars/avatar_default_13_FF66AC.png', 'over_18': False, 'is_default_banner': True, 'user_is_contributor': False, 'icon_color': '#FF66AC', 'header_size': None, 'user_is_muted': False, 'banner_size': None, 'user_is_subscriber': False, 'banner_img': '', 'title': '', 'default_set': True, 'primary_color': ''}, 'is_gold': False, 'is_friend': False, 'id': 'stqgnfk', 'has_verified_email': None, 'pref_show_snoovatar': False, 'created': 1516457279.0, 'created_utc': 1516428479.0, 'link_karma': 426}\n",
      "Sending a message to user Shirt_Shanks with data {'first_comment_week': 2, 'username': 'Shirt_Shanks', 'url': 'https://docs.google.com/forms/d/e/1FAIpQLSfmgOcsF0ALqWGPHGpJq2cwUr-xIG-uizbQqXPzPuTkrPM-Lg/viewform?usp=pp_url&entry.360321409=Shirt_Shanks&entry.1933578897', 'deleted': False, 'get_info_date': '2018-04-17 13:49:03.199213'}\n"
     ]
    },
    {
     "name": "stderr",
     "output_type": "stream",
     "text": [
      "substituting https://oauth.reddit.com for https://api.reddit.com in url\n",
      "GET: https://oauth.reddit.com/user/Shirt_Shanks/about/.json\n",
      "substituting https://oauth.reddit.com for https://api.reddit.com in url\n",
      "POST: https://oauth.reddit.com/api/compose/.json\n"
     ]
    },
    {
     "name": "stdout",
     "output_type": "stream",
     "text": [
      "Message successfully sent to user Shirt_Shanks\n",
      "APPENDING TO FILE: {'username': 'Shirt_Shanks', 'get_info_date': '2018-04-17 13:49:03.199213', 'deleted': False, 'url': 'https://docs.google.com/forms/d/e/1FAIpQLSfmgOcsF0ALqWGPHGpJq2cwUr-xIG-uizbQqXPzPuTkrPM-Lg/viewform?usp=pp_url&entry.360321409=Shirt_Shanks&entry.1933578897', 'first_comment_week': 2}\n",
      "first_comment_week: 2\n",
      "url: https://docs.google.com/forms/d/e/1FAIpQLSfmgOcsF0ALqWGPHGpJq2cwUr-xIG-uizbQqXPzPuTkrPM-Lg/viewform?usp=pp_url&entry.360321409=Shirt_Shanks&entry.1933578897\n",
      "get_info_data: 2018-04-17 13:49:03.199213\n",
      "deleted: False\n",
      "User sipuedesleeresto found: {'is_mod': False, 'has_subscribed': True, 'hide_from_robots': False, 'verified': True, 'icon_img': 'https://www.redditstatic.com/avatars/avatar_default_17_24A0ED.png', 'is_employee': False, 'comment_karma': 75, 'name': 'sipuedesleeresto', 'subreddit': {'icon_size': [256, 256], 'key_color': '', 'link_flair_enabled': False, 'subreddit_type': 'user', 'name': 't5_fmmes', 'user_is_moderator': False, 'community_icon': '', 'header_img': None, 'public_description': '', 'show_media': True, 'audience_target': '', 'url': '/user/sipuedesleeresto/', 'description': '', 'display_name_prefixed': 'u/sipuedesleeresto', 'subscribers': 0, 'display_name': 'u_sipuedesleeresto', 'user_is_banned': False, 'is_default_icon': True, 'icon_img': 'https://www.redditstatic.com/avatars/avatar_default_17_24A0ED.png', 'over_18': False, 'is_default_banner': True, 'user_is_contributor': False, 'icon_color': '#24A0ED', 'header_size': None, 'user_is_muted': False, 'banner_size': None, 'user_is_subscriber': False, 'banner_img': '', 'title': '', 'default_set': True, 'primary_color': ''}, 'is_gold': False, 'is_friend': False, 'id': 'wa8cr70', 'has_verified_email': False, 'pref_show_snoovatar': False, 'created': 1518256007.0, 'created_utc': 1518227207.0, 'link_karma': 1}\n",
      "Sending a message to user sipuedesleeresto with data {'first_comment_week': 2, 'username': 'sipuedesleeresto', 'url': 'https://docs.google.com/forms/d/e/1FAIpQLSfmgOcsF0ALqWGPHGpJq2cwUr-xIG-uizbQqXPzPuTkrPM-Lg/viewform?usp=pp_url&entry.360321409=sipuedesleeresto&entry.1933578897', 'deleted': False, 'get_info_date': '2018-04-17 13:49:07.364150'}\n"
     ]
    },
    {
     "name": "stderr",
     "output_type": "stream",
     "text": [
      "substituting https://oauth.reddit.com for https://api.reddit.com in url\n",
      "GET: https://oauth.reddit.com/user/sipuedesleeresto/about/.json\n",
      "substituting https://oauth.reddit.com for https://api.reddit.com in url\n",
      "POST: https://oauth.reddit.com/api/compose/.json\n"
     ]
    },
    {
     "name": "stdout",
     "output_type": "stream",
     "text": [
      "Message successfully sent to user sipuedesleeresto\n",
      "APPENDING TO FILE: {'username': 'sipuedesleeresto', 'get_info_date': '2018-04-17 13:49:07.364150', 'deleted': False, 'url': 'https://docs.google.com/forms/d/e/1FAIpQLSfmgOcsF0ALqWGPHGpJq2cwUr-xIG-uizbQqXPzPuTkrPM-Lg/viewform?usp=pp_url&entry.360321409=sipuedesleeresto&entry.1933578897', 'first_comment_week': 2}\n",
      "first_comment_week: 2\n",
      "url: https://docs.google.com/forms/d/e/1FAIpQLSfmgOcsF0ALqWGPHGpJq2cwUr-xIG-uizbQqXPzPuTkrPM-Lg/viewform?usp=pp_url&entry.360321409=sipuedesleeresto&entry.1933578897\n",
      "get_info_data: 2018-04-17 13:49:07.364150\n",
      "deleted: False\n",
      "User krtong found: {'is_mod': False, 'has_subscribed': True, 'hide_from_robots': False, 'verified': True, 'icon_img': 'https://www.redditstatic.com/avatars/avatar_default_01_A5A4A4.png', 'is_employee': False, 'comment_karma': 2654, 'name': 'krtong', 'subreddit': {'icon_size': [256, 256], 'key_color': '', 'link_flair_enabled': False, 'subreddit_type': 'user', 'name': 't5_dt0zd', 'user_is_moderator': False, 'community_icon': '', 'header_img': None, 'public_description': '', 'show_media': True, 'audience_target': '', 'url': '/user/krtong/', 'description': '', 'display_name_prefixed': 'u/krtong', 'subscribers': 0, 'display_name': 'u_krtong', 'user_is_banned': False, 'is_default_icon': True, 'icon_img': 'https://www.redditstatic.com/avatars/avatar_default_01_A5A4A4.png', 'over_18': False, 'is_default_banner': True, 'user_is_contributor': False, 'icon_color': '#A5A4A4', 'header_size': None, 'user_is_muted': False, 'banner_size': None, 'user_is_subscriber': False, 'banner_img': '', 'title': '', 'default_set': False, 'primary_color': ''}, 'is_gold': False, 'is_friend': False, 'id': 'eqhks', 'has_verified_email': True, 'pref_show_snoovatar': False, 'created': 1389326733.0, 'created_utc': 1389297933.0, 'link_karma': 4648}\n",
      "Sending a message to user krtong with data {'first_comment_week': 2, 'username': 'krtong', 'url': 'https://docs.google.com/forms/d/e/1FAIpQLSfmgOcsF0ALqWGPHGpJq2cwUr-xIG-uizbQqXPzPuTkrPM-Lg/viewform?usp=pp_url&entry.360321409=krtong&entry.1933578897', 'deleted': False, 'get_info_date': '2018-04-17 13:49:11.541754'}\n"
     ]
    },
    {
     "name": "stderr",
     "output_type": "stream",
     "text": [
      "substituting https://oauth.reddit.com for https://api.reddit.com in url\n",
      "GET: https://oauth.reddit.com/user/krtong/about/.json\n",
      "substituting https://oauth.reddit.com for https://api.reddit.com in url\n",
      "POST: https://oauth.reddit.com/api/compose/.json\n"
     ]
    },
    {
     "name": "stdout",
     "output_type": "stream",
     "text": [
      "Message successfully sent to user krtong\n",
      "APPENDING TO FILE: {'username': 'krtong', 'get_info_date': '2018-04-17 13:49:11.541754', 'deleted': False, 'url': 'https://docs.google.com/forms/d/e/1FAIpQLSfmgOcsF0ALqWGPHGpJq2cwUr-xIG-uizbQqXPzPuTkrPM-Lg/viewform?usp=pp_url&entry.360321409=krtong&entry.1933578897', 'first_comment_week': 2}\n",
      "first_comment_week: 2\n",
      "url: https://docs.google.com/forms/d/e/1FAIpQLSfmgOcsF0ALqWGPHGpJq2cwUr-xIG-uizbQqXPzPuTkrPM-Lg/viewform?usp=pp_url&entry.360321409=krtong&entry.1933578897\n",
      "get_info_data: 2018-04-17 13:49:11.541754\n",
      "deleted: False\n",
      "User NaiaraSchervinski found: {'is_mod': False, 'has_subscribed': True, 'hide_from_robots': False, 'verified': False, 'icon_img': 'https://www.redditstatic.com/avatars/avatar_default_09_0DD3BB.png', 'is_employee': False, 'comment_karma': -12, 'name': 'NaiaraSchervinski', 'subreddit': None, 'is_gold': False, 'is_friend': False, 'id': '16awv8', 'has_verified_email': False, 'pref_show_snoovatar': False, 'created': 1489904070.0, 'created_utc': 1489875270.0, 'link_karma': 1}\n",
      "Sending a message to user NaiaraSchervinski with data {'first_comment_week': 2, 'username': 'NaiaraSchervinski', 'url': 'https://docs.google.com/forms/d/e/1FAIpQLSfmgOcsF0ALqWGPHGpJq2cwUr-xIG-uizbQqXPzPuTkrPM-Lg/viewform?usp=pp_url&entry.360321409=NaiaraSchervinski&entry.1933578897', 'deleted': False, 'get_info_date': '2018-04-17 13:49:15.999946'}\n"
     ]
    },
    {
     "name": "stderr",
     "output_type": "stream",
     "text": [
      "substituting https://oauth.reddit.com for https://api.reddit.com in url\n",
      "GET: https://oauth.reddit.com/user/NaiaraSchervinski/about/.json\n",
      "substituting https://oauth.reddit.com for https://api.reddit.com in url\n",
      "POST: https://oauth.reddit.com/api/compose/.json\n"
     ]
    },
    {
     "name": "stdout",
     "output_type": "stream",
     "text": [
      "Message successfully sent to user NaiaraSchervinski\n",
      "APPENDING TO FILE: {'username': 'NaiaraSchervinski', 'get_info_date': '2018-04-17 13:49:15.999946', 'deleted': False, 'url': 'https://docs.google.com/forms/d/e/1FAIpQLSfmgOcsF0ALqWGPHGpJq2cwUr-xIG-uizbQqXPzPuTkrPM-Lg/viewform?usp=pp_url&entry.360321409=NaiaraSchervinski&entry.1933578897', 'first_comment_week': 2}\n",
      "first_comment_week: 2\n",
      "url: https://docs.google.com/forms/d/e/1FAIpQLSfmgOcsF0ALqWGPHGpJq2cwUr-xIG-uizbQqXPzPuTkrPM-Lg/viewform?usp=pp_url&entry.360321409=NaiaraSchervinski&entry.1933578897\n",
      "get_info_data: 2018-04-17 13:49:15.999946\n",
      "deleted: False\n",
      "User Declan_McManus found: {'is_mod': False, 'has_subscribed': True, 'hide_from_robots': False, 'verified': False, 'icon_img': 'https://www.redditstatic.com/avatars/avatar_default_11_FF4500.png', 'is_employee': False, 'comment_karma': 37335, 'name': 'Declan_McManus', 'subreddit': None, 'is_gold': True, 'is_friend': False, 'id': 'ot6pq', 'has_verified_email': True, 'pref_show_snoovatar': False, 'created': 1436966557.0, 'created_utc': 1436937757.0, 'link_karma': 2}\n",
      "Sending a message to user Declan_McManus with data {'first_comment_week': 2, 'username': 'Declan_McManus', 'url': 'https://docs.google.com/forms/d/e/1FAIpQLSfmgOcsF0ALqWGPHGpJq2cwUr-xIG-uizbQqXPzPuTkrPM-Lg/viewform?usp=pp_url&entry.360321409=Declan_McManus&entry.1933578897', 'deleted': False, 'get_info_date': '2018-04-17 13:49:20.663800'}\n"
     ]
    },
    {
     "name": "stderr",
     "output_type": "stream",
     "text": [
      "substituting https://oauth.reddit.com for https://api.reddit.com in url\n",
      "GET: https://oauth.reddit.com/user/Declan_McManus/about/.json\n",
      "substituting https://oauth.reddit.com for https://api.reddit.com in url\n",
      "POST: https://oauth.reddit.com/api/compose/.json\n"
     ]
    },
    {
     "name": "stdout",
     "output_type": "stream",
     "text": [
      "Message successfully sent to user Declan_McManus\n",
      "APPENDING TO FILE: {'username': 'Declan_McManus', 'get_info_date': '2018-04-17 13:49:20.663800', 'deleted': False, 'url': 'https://docs.google.com/forms/d/e/1FAIpQLSfmgOcsF0ALqWGPHGpJq2cwUr-xIG-uizbQqXPzPuTkrPM-Lg/viewform?usp=pp_url&entry.360321409=Declan_McManus&entry.1933578897', 'first_comment_week': 2}\n",
      "first_comment_week: 2\n",
      "url: https://docs.google.com/forms/d/e/1FAIpQLSfmgOcsF0ALqWGPHGpJq2cwUr-xIG-uizbQqXPzPuTkrPM-Lg/viewform?usp=pp_url&entry.360321409=Declan_McManus&entry.1933578897\n",
      "get_info_data: 2018-04-17 13:49:20.663800\n",
      "deleted: False\n",
      "User kwas0806 found: {'is_mod': False, 'has_subscribed': True, 'hide_from_robots': False, 'verified': True, 'icon_img': 'https://www.redditstatic.com/avatars/avatar_default_12_DDBD37.png', 'is_employee': False, 'comment_karma': 395, 'name': 'kwas0806', 'subreddit': {'icon_size': [256, 256], 'key_color': '', 'link_flair_enabled': False, 'subreddit_type': 'user', 'name': 't5_cs27r', 'user_is_moderator': False, 'community_icon': '', 'header_img': None, 'public_description': '', 'show_media': True, 'audience_target': '', 'url': '/user/kwas0806/', 'description': '', 'display_name_prefixed': 'u/kwas0806', 'subscribers': 0, 'display_name': 'u_kwas0806', 'user_is_banned': False, 'is_default_icon': True, 'icon_img': 'https://www.redditstatic.com/avatars/avatar_default_12_DDBD37.png', 'over_18': False, 'is_default_banner': True, 'user_is_contributor': False, 'icon_color': '#DDBD37', 'header_size': None, 'user_is_muted': False, 'banner_size': None, 'user_is_subscriber': False, 'banner_img': '', 'title': '', 'default_set': True, 'primary_color': ''}, 'is_gold': False, 'is_friend': False, 'id': '7cj0n', 'has_verified_email': False, 'pref_show_snoovatar': False, 'created': 1333511303.0, 'created_utc': 1333482503.0, 'link_karma': 578}\n",
      "Sending a message to user kwas0806 with data {'first_comment_week': 2, 'username': 'kwas0806', 'url': 'https://docs.google.com/forms/d/e/1FAIpQLSfmgOcsF0ALqWGPHGpJq2cwUr-xIG-uizbQqXPzPuTkrPM-Lg/viewform?usp=pp_url&entry.360321409=kwas0806&entry.1933578897', 'deleted': False, 'get_info_date': '2018-04-17 13:49:24.852396'}\n"
     ]
    },
    {
     "name": "stderr",
     "output_type": "stream",
     "text": [
      "substituting https://oauth.reddit.com for https://api.reddit.com in url\n",
      "GET: https://oauth.reddit.com/user/kwas0806/about/.json\n",
      "substituting https://oauth.reddit.com for https://api.reddit.com in url\n",
      "POST: https://oauth.reddit.com/api/compose/.json\n"
     ]
    },
    {
     "name": "stdout",
     "output_type": "stream",
     "text": [
      "Message successfully sent to user kwas0806\n",
      "APPENDING TO FILE: {'username': 'kwas0806', 'get_info_date': '2018-04-17 13:49:24.852396', 'deleted': False, 'url': 'https://docs.google.com/forms/d/e/1FAIpQLSfmgOcsF0ALqWGPHGpJq2cwUr-xIG-uizbQqXPzPuTkrPM-Lg/viewform?usp=pp_url&entry.360321409=kwas0806&entry.1933578897', 'first_comment_week': 2}\n",
      "first_comment_week: 2\n",
      "url: https://docs.google.com/forms/d/e/1FAIpQLSfmgOcsF0ALqWGPHGpJq2cwUr-xIG-uizbQqXPzPuTkrPM-Lg/viewform?usp=pp_url&entry.360321409=kwas0806&entry.1933578897\n",
      "get_info_data: 2018-04-17 13:49:24.852396\n",
      "deleted: False\n",
      "User CoffeeAndKarma found: {'is_mod': False, 'has_subscribed': True, 'hide_from_robots': False, 'verified': True, 'icon_img': 'https://www.redditstatic.com/avatars/avatar_default_15_DDBD37.png', 'is_employee': False, 'comment_karma': 84584, 'name': 'CoffeeAndKarma', 'subreddit': {'icon_size': [256, 256], 'key_color': '', 'link_flair_enabled': False, 'subreddit_type': 'user', 'name': 't5_e4s3u', 'user_is_moderator': False, 'community_icon': '', 'header_img': None, 'public_description': '', 'show_media': True, 'audience_target': '', 'url': '/user/CoffeeAndKarma/', 'description': '', 'display_name_prefixed': 'u/CoffeeAndKarma', 'subscribers': 0, 'display_name': 'u_CoffeeAndKarma', 'user_is_banned': False, 'is_default_icon': True, 'icon_img': 'https://www.redditstatic.com/avatars/avatar_default_15_DDBD37.png', 'over_18': False, 'is_default_banner': True, 'user_is_contributor': False, 'icon_color': '#DDBD37', 'header_size': None, 'user_is_muted': False, 'banner_size': None, 'user_is_subscriber': False, 'banner_img': '', 'title': '', 'default_set': True, 'primary_color': ''}, 'is_gold': False, 'is_friend': False, 'id': 'bu8e6', 'has_verified_email': True, 'pref_show_snoovatar': False, 'created': 1369811496.0, 'created_utc': 1369782696.0, 'link_karma': 579}\n",
      "Sending a message to user CoffeeAndKarma with data {'first_comment_week': 2, 'username': 'CoffeeAndKarma', 'url': 'https://docs.google.com/forms/d/e/1FAIpQLSfmgOcsF0ALqWGPHGpJq2cwUr-xIG-uizbQqXPzPuTkrPM-Lg/viewform?usp=pp_url&entry.360321409=CoffeeAndKarma&entry.1933578897', 'deleted': False, 'get_info_date': '2018-04-17 13:49:29.006245'}\n"
     ]
    },
    {
     "name": "stderr",
     "output_type": "stream",
     "text": [
      "substituting https://oauth.reddit.com for https://api.reddit.com in url\n",
      "GET: https://oauth.reddit.com/user/CoffeeAndKarma/about/.json\n",
      "substituting https://oauth.reddit.com for https://api.reddit.com in url\n",
      "POST: https://oauth.reddit.com/api/compose/.json\n"
     ]
    },
    {
     "name": "stdout",
     "output_type": "stream",
     "text": [
      "Message successfully sent to user CoffeeAndKarma\n",
      "APPENDING TO FILE: {'username': 'CoffeeAndKarma', 'get_info_date': '2018-04-17 13:49:29.006245', 'deleted': False, 'url': 'https://docs.google.com/forms/d/e/1FAIpQLSfmgOcsF0ALqWGPHGpJq2cwUr-xIG-uizbQqXPzPuTkrPM-Lg/viewform?usp=pp_url&entry.360321409=CoffeeAndKarma&entry.1933578897', 'first_comment_week': 2}\n",
      "first_comment_week: 2\n",
      "url: https://docs.google.com/forms/d/e/1FAIpQLSfmgOcsF0ALqWGPHGpJq2cwUr-xIG-uizbQqXPzPuTkrPM-Lg/viewform?usp=pp_url&entry.360321409=CoffeeAndKarma&entry.1933578897\n",
      "get_info_data: 2018-04-17 13:49:29.006245\n",
      "deleted: False\n",
      "User everythingthatflows found: {'is_mod': False, 'has_subscribed': True, 'hide_from_robots': False, 'verified': False, 'icon_img': 'https://www.redditstatic.com/avatars/avatar_default_09_FFD635.png', 'is_employee': False, 'comment_karma': 5988, 'name': 'everythingthatflows', 'subreddit': None, 'is_gold': False, 'is_friend': False, 'id': '49e88', 'has_verified_email': True, 'pref_show_snoovatar': False, 'created': 1282112787.0, 'created_utc': 1282083987.0, 'link_karma': 52}\n",
      "Sending a message to user everythingthatflows with data {'first_comment_week': 2, 'username': 'everythingthatflows', 'url': 'https://docs.google.com/forms/d/e/1FAIpQLSfmgOcsF0ALqWGPHGpJq2cwUr-xIG-uizbQqXPzPuTkrPM-Lg/viewform?usp=pp_url&entry.360321409=everythingthatflows&entry.1933578897', 'deleted': False, 'get_info_date': '2018-04-17 13:49:33.254090'}\n"
     ]
    },
    {
     "name": "stderr",
     "output_type": "stream",
     "text": [
      "substituting https://oauth.reddit.com for https://api.reddit.com in url\n",
      "GET: https://oauth.reddit.com/user/everythingthatflows/about/.json\n",
      "substituting https://oauth.reddit.com for https://api.reddit.com in url\n",
      "POST: https://oauth.reddit.com/api/compose/.json\n"
     ]
    },
    {
     "name": "stdout",
     "output_type": "stream",
     "text": [
      "Message successfully sent to user everythingthatflows\n",
      "APPENDING TO FILE: {'username': 'everythingthatflows', 'get_info_date': '2018-04-17 13:49:33.254090', 'deleted': False, 'url': 'https://docs.google.com/forms/d/e/1FAIpQLSfmgOcsF0ALqWGPHGpJq2cwUr-xIG-uizbQqXPzPuTkrPM-Lg/viewform?usp=pp_url&entry.360321409=everythingthatflows&entry.1933578897', 'first_comment_week': 2}\n",
      "first_comment_week: 2\n",
      "url: https://docs.google.com/forms/d/e/1FAIpQLSfmgOcsF0ALqWGPHGpJq2cwUr-xIG-uizbQqXPzPuTkrPM-Lg/viewform?usp=pp_url&entry.360321409=everythingthatflows&entry.1933578897\n",
      "get_info_data: 2018-04-17 13:49:33.254090\n",
      "deleted: False\n"
     ]
    },
    {
     "name": "stderr",
     "output_type": "stream",
     "text": [
      "substituting https://oauth.reddit.com for https://api.reddit.com in url\n",
      "GET: https://oauth.reddit.com/user/haveagreatdayguys/about/.json\n"
     ]
    },
    {
     "name": "stdout",
     "output_type": "stream",
     "text": [
      "User haveagreatdayguys found: {'is_mod': False, 'has_subscribed': True, 'hide_from_robots': False, 'verified': True, 'icon_img': 'https://www.redditstatic.com/avatars/avatar_default_04_FF66AC.png', 'is_employee': False, 'comment_karma': 15712, 'name': 'haveagreatdayguys', 'subreddit': {'icon_size': [256, 256], 'key_color': '', 'link_flair_enabled': False, 'subreddit_type': 'user', 'name': 't5_c52vu', 'user_is_moderator': False, 'community_icon': '', 'header_img': None, 'public_description': '', 'show_media': True, 'audience_target': '', 'url': '/user/haveagreatdayguys/', 'description': '', 'display_name_prefixed': 'u/haveagreatdayguys', 'subscribers': 0, 'display_name': 'u_haveagreatdayguys', 'user_is_banned': False, 'is_default_icon': True, 'icon_img': 'https://www.redditstatic.com/avatars/avatar_default_04_FF66AC.png', 'over_18': False, 'is_default_banner': True, 'user_is_contributor': False, 'icon_color': '#FF66AC', 'header_size': None, 'user_is_muted': False, 'banner_size': None, 'user_is_subscriber': False, 'banner_img': '', 'title': '', 'default_set': True, 'primary_color': ''}, 'is_gold': False, 'is_friend': False, 'id': 'n87az', 'has_verified_email': True, 'pref_show_snoovatar': False, 'created': 1430497495.0, 'created_utc': 1430468695.0, 'link_karma': 94}\n",
      "Sending a message to user haveagreatdayguys with data {'first_comment_week': 2, 'username': 'haveagreatdayguys', 'url': 'https://docs.google.com/forms/d/e/1FAIpQLSfmgOcsF0ALqWGPHGpJq2cwUr-xIG-uizbQqXPzPuTkrPM-Lg/viewform?usp=pp_url&entry.360321409=haveagreatdayguys&entry.1933578897', 'deleted': False, 'get_info_date': '2018-04-17 13:49:37.538492'}\n"
     ]
    },
    {
     "name": "stderr",
     "output_type": "stream",
     "text": [
      "substituting https://oauth.reddit.com for https://api.reddit.com in url\n",
      "POST: https://oauth.reddit.com/api/compose/.json\n"
     ]
    },
    {
     "name": "stdout",
     "output_type": "stream",
     "text": [
      "Message successfully sent to user haveagreatdayguys\n",
      "APPENDING TO FILE: {'username': 'haveagreatdayguys', 'get_info_date': '2018-04-17 13:49:37.538492', 'deleted': False, 'url': 'https://docs.google.com/forms/d/e/1FAIpQLSfmgOcsF0ALqWGPHGpJq2cwUr-xIG-uizbQqXPzPuTkrPM-Lg/viewform?usp=pp_url&entry.360321409=haveagreatdayguys&entry.1933578897', 'first_comment_week': 2}\n",
      "first_comment_week: 2\n",
      "url: https://docs.google.com/forms/d/e/1FAIpQLSfmgOcsF0ALqWGPHGpJq2cwUr-xIG-uizbQqXPzPuTkrPM-Lg/viewform?usp=pp_url&entry.360321409=haveagreatdayguys&entry.1933578897\n",
      "get_info_data: 2018-04-17 13:49:37.538492\n",
      "deleted: False\n",
      "User AddeWagon found: {'is_mod': False, 'has_subscribed': True, 'hide_from_robots': False, 'verified': True, 'icon_img': 'https://www.redditstatic.com/avatars/avatar_default_16_A06A42.png', 'is_employee': False, 'comment_karma': 187, 'name': 'AddeWagon', 'subreddit': {'icon_size': [256, 256], 'key_color': '', 'link_flair_enabled': False, 'subreddit_type': 'user', 'name': 't5_6ms3t', 'user_is_moderator': False, 'community_icon': '', 'header_img': None, 'public_description': '', 'show_media': True, 'audience_target': '', 'url': '/user/AddeWagon/', 'description': '', 'display_name_prefixed': 'u/AddeWagon', 'subscribers': 0, 'display_name': 'u_AddeWagon', 'user_is_banned': False, 'is_default_icon': True, 'icon_img': 'https://www.redditstatic.com/avatars/avatar_default_16_A06A42.png', 'over_18': False, 'is_default_banner': True, 'user_is_contributor': False, 'icon_color': '#A06A42', 'header_size': None, 'user_is_muted': False, 'banner_size': None, 'user_is_subscriber': False, 'banner_img': '', 'title': '', 'default_set': True, 'primary_color': ''}, 'is_gold': False, 'is_friend': False, 'id': 'elt7x2j', 'has_verified_email': False, 'pref_show_snoovatar': False, 'created': 1506053342.0, 'created_utc': 1506024542.0, 'link_karma': 14}\n",
      "Sending a message to user AddeWagon with data {'first_comment_week': 2, 'username': 'AddeWagon', 'url': 'https://docs.google.com/forms/d/e/1FAIpQLSfmgOcsF0ALqWGPHGpJq2cwUr-xIG-uizbQqXPzPuTkrPM-Lg/viewform?usp=pp_url&entry.360321409=AddeWagon&entry.1933578897', 'deleted': False, 'get_info_date': '2018-04-17 13:49:41.647585'}\n"
     ]
    },
    {
     "name": "stderr",
     "output_type": "stream",
     "text": [
      "substituting https://oauth.reddit.com for https://api.reddit.com in url\n",
      "GET: https://oauth.reddit.com/user/AddeWagon/about/.json\n",
      "substituting https://oauth.reddit.com for https://api.reddit.com in url\n",
      "POST: https://oauth.reddit.com/api/compose/.json\n"
     ]
    },
    {
     "name": "stdout",
     "output_type": "stream",
     "text": [
      "Message successfully sent to user AddeWagon\n",
      "APPENDING TO FILE: {'username': 'AddeWagon', 'get_info_date': '2018-04-17 13:49:41.647585', 'deleted': False, 'url': 'https://docs.google.com/forms/d/e/1FAIpQLSfmgOcsF0ALqWGPHGpJq2cwUr-xIG-uizbQqXPzPuTkrPM-Lg/viewform?usp=pp_url&entry.360321409=AddeWagon&entry.1933578897', 'first_comment_week': 2}\n",
      "first_comment_week: 2\n",
      "url: https://docs.google.com/forms/d/e/1FAIpQLSfmgOcsF0ALqWGPHGpJq2cwUr-xIG-uizbQqXPzPuTkrPM-Lg/viewform?usp=pp_url&entry.360321409=AddeWagon&entry.1933578897\n",
      "get_info_data: 2018-04-17 13:49:41.647585\n",
      "deleted: False\n",
      "Week age 3: 100 authors \n",
      "User floatingonthewind90 found: {'is_mod': False, 'has_subscribed': True, 'hide_from_robots': False, 'verified': True, 'icon_img': 'https://www.redditstatic.com/avatars/avatar_default_05_0079D3.png', 'is_employee': False, 'comment_karma': 2263, 'name': 'floatingonthewind90', 'subreddit': {'icon_size': [256, 256], 'key_color': '', 'link_flair_enabled': False, 'subreddit_type': 'user', 'name': 't5_c4l10', 'user_is_moderator': False, 'community_icon': '', 'header_img': None, 'public_description': '', 'show_media': True, 'audience_target': '', 'url': '/user/floatingonthewind90/', 'description': '', 'display_name_prefixed': 'u/floatingonthewind90', 'subscribers': 0, 'display_name': 'u_floatingonthewind90', 'user_is_banned': False, 'is_default_icon': True, 'icon_img': 'https://www.redditstatic.com/avatars/avatar_default_05_0079D3.png', 'over_18': False, 'is_default_banner': True, 'user_is_contributor': False, 'icon_color': '#0079D3', 'header_size': None, 'user_is_muted': False, 'banner_size': None, 'user_is_subscriber': False, 'banner_img': '', 'title': '', 'default_set': True, 'primary_color': ''}, 'is_gold': False, 'is_friend': False, 'id': '11xouk', 'has_verified_email': True, 'pref_show_snoovatar': False, 'created': 1475815764.0, 'created_utc': 1475786964.0, 'link_karma': 58}\n",
      "Sending a message to user floatingonthewind90 with data {'first_comment_week': 3, 'username': 'floatingonthewind90', 'url': 'https://docs.google.com/forms/d/e/1FAIpQLSfmgOcsF0ALqWGPHGpJq2cwUr-xIG-uizbQqXPzPuTkrPM-Lg/viewform?usp=pp_url&entry.360321409=floatingonthewind90&entry.1933578897', 'deleted': False, 'get_info_date': '2018-04-17 13:49:45.751045'}\n"
     ]
    },
    {
     "name": "stderr",
     "output_type": "stream",
     "text": [
      "substituting https://oauth.reddit.com for https://api.reddit.com in url\n",
      "GET: https://oauth.reddit.com/user/floatingonthewind90/about/.json\n",
      "substituting https://oauth.reddit.com for https://api.reddit.com in url\n",
      "POST: https://oauth.reddit.com/api/compose/.json\n"
     ]
    },
    {
     "name": "stdout",
     "output_type": "stream",
     "text": [
      "Message successfully sent to user floatingonthewind90\n",
      "APPENDING TO FILE: {'username': 'floatingonthewind90', 'get_info_date': '2018-04-17 13:49:45.751045', 'deleted': False, 'url': 'https://docs.google.com/forms/d/e/1FAIpQLSfmgOcsF0ALqWGPHGpJq2cwUr-xIG-uizbQqXPzPuTkrPM-Lg/viewform?usp=pp_url&entry.360321409=floatingonthewind90&entry.1933578897', 'first_comment_week': 3}\n",
      "first_comment_week: 3\n",
      "url: https://docs.google.com/forms/d/e/1FAIpQLSfmgOcsF0ALqWGPHGpJq2cwUr-xIG-uizbQqXPzPuTkrPM-Lg/viewform?usp=pp_url&entry.360321409=floatingonthewind90&entry.1933578897\n",
      "get_info_data: 2018-04-17 13:49:45.751045\n",
      "deleted: False\n",
      "User TheRodfatherIII found: {'is_mod': False, 'has_subscribed': True, 'hide_from_robots': False, 'verified': True, 'icon_img': 'https://www.redditstatic.com/avatars/avatar_default_04_FFB000.png', 'is_employee': False, 'comment_karma': 659, 'name': 'TheRodfatherIII', 'subreddit': {'icon_size': [256, 256], 'key_color': '', 'link_flair_enabled': False, 'subreddit_type': 'user', 'name': 't5_h1xue', 'user_is_moderator': False, 'community_icon': '', 'header_img': None, 'public_description': '', 'show_media': True, 'audience_target': '', 'url': '/user/TheRodfatherIII/', 'description': '', 'display_name_prefixed': 'u/TheRodfatherIII', 'subscribers': 0, 'display_name': 'u_TheRodfatherIII', 'user_is_banned': False, 'is_default_icon': True, 'icon_img': 'https://www.redditstatic.com/avatars/avatar_default_04_FFB000.png', 'over_18': False, 'is_default_banner': True, 'user_is_contributor': False, 'icon_color': '#FFB000', 'header_size': None, 'user_is_muted': False, 'banner_size': None, 'user_is_subscriber': False, 'banner_img': '', 'title': '', 'default_set': True, 'primary_color': ''}, 'is_gold': False, 'is_friend': False, 'id': '12dh04nn', 'has_verified_email': False, 'pref_show_snoovatar': False, 'created': 1521526796.0, 'created_utc': 1521497996.0, 'link_karma': 96}\n",
      "Sending a message to user TheRodfatherIII with data {'first_comment_week': 3, 'username': 'TheRodfatherIII', 'url': 'https://docs.google.com/forms/d/e/1FAIpQLSfmgOcsF0ALqWGPHGpJq2cwUr-xIG-uizbQqXPzPuTkrPM-Lg/viewform?usp=pp_url&entry.360321409=TheRodfatherIII&entry.1933578897', 'deleted': False, 'get_info_date': '2018-04-17 13:49:50.118519'}\n"
     ]
    },
    {
     "name": "stderr",
     "output_type": "stream",
     "text": [
      "substituting https://oauth.reddit.com for https://api.reddit.com in url\n",
      "GET: https://oauth.reddit.com/user/TheRodfatherIII/about/.json\n",
      "substituting https://oauth.reddit.com for https://api.reddit.com in url\n",
      "POST: https://oauth.reddit.com/api/compose/.json\n"
     ]
    },
    {
     "name": "stdout",
     "output_type": "stream",
     "text": [
      "Message successfully sent to user TheRodfatherIII\n",
      "APPENDING TO FILE: {'username': 'TheRodfatherIII', 'get_info_date': '2018-04-17 13:49:50.118519', 'deleted': False, 'url': 'https://docs.google.com/forms/d/e/1FAIpQLSfmgOcsF0ALqWGPHGpJq2cwUr-xIG-uizbQqXPzPuTkrPM-Lg/viewform?usp=pp_url&entry.360321409=TheRodfatherIII&entry.1933578897', 'first_comment_week': 3}\n",
      "first_comment_week: 3\n",
      "url: https://docs.google.com/forms/d/e/1FAIpQLSfmgOcsF0ALqWGPHGpJq2cwUr-xIG-uizbQqXPzPuTkrPM-Lg/viewform?usp=pp_url&entry.360321409=TheRodfatherIII&entry.1933578897\n",
      "get_info_data: 2018-04-17 13:49:50.118519\n",
      "deleted: False\n",
      "User AmbiguousPuzuma found: {'is_mod': True, 'has_subscribed': True, 'hide_from_robots': False, 'verified': False, 'icon_img': 'https://www.redditstatic.com/avatars/avatar_default_15_A5A4A4.png', 'is_employee': False, 'comment_karma': 24681, 'name': 'AmbiguousPuzuma', 'subreddit': None, 'is_gold': False, 'is_friend': False, 'id': 'cpo26', 'has_verified_email': False, 'pref_show_snoovatar': False, 'created': 1376229617.0, 'created_utc': 1376200817.0, 'link_karma': 6412}\n",
      "Sending a message to user AmbiguousPuzuma with data {'first_comment_week': 3, 'username': 'AmbiguousPuzuma', 'url': 'https://docs.google.com/forms/d/e/1FAIpQLSfmgOcsF0ALqWGPHGpJq2cwUr-xIG-uizbQqXPzPuTkrPM-Lg/viewform?usp=pp_url&entry.360321409=AmbiguousPuzuma&entry.1933578897', 'deleted': False, 'get_info_date': '2018-04-17 13:49:54.224368'}\n"
     ]
    },
    {
     "name": "stderr",
     "output_type": "stream",
     "text": [
      "substituting https://oauth.reddit.com for https://api.reddit.com in url\n",
      "GET: https://oauth.reddit.com/user/AmbiguousPuzuma/about/.json\n",
      "substituting https://oauth.reddit.com for https://api.reddit.com in url\n",
      "POST: https://oauth.reddit.com/api/compose/.json\n"
     ]
    },
    {
     "name": "stdout",
     "output_type": "stream",
     "text": [
      "Message successfully sent to user AmbiguousPuzuma\n",
      "APPENDING TO FILE: {'username': 'AmbiguousPuzuma', 'get_info_date': '2018-04-17 13:49:54.224368', 'deleted': False, 'url': 'https://docs.google.com/forms/d/e/1FAIpQLSfmgOcsF0ALqWGPHGpJq2cwUr-xIG-uizbQqXPzPuTkrPM-Lg/viewform?usp=pp_url&entry.360321409=AmbiguousPuzuma&entry.1933578897', 'first_comment_week': 3}\n",
      "first_comment_week: 3\n",
      "url: https://docs.google.com/forms/d/e/1FAIpQLSfmgOcsF0ALqWGPHGpJq2cwUr-xIG-uizbQqXPzPuTkrPM-Lg/viewform?usp=pp_url&entry.360321409=AmbiguousPuzuma&entry.1933578897\n",
      "get_info_data: 2018-04-17 13:49:54.224368\n",
      "deleted: False\n",
      "User judashpeters found: {'is_mod': True, 'has_subscribed': True, 'hide_from_robots': False, 'verified': False, 'icon_img': 'https://www.redditstatic.com/avatars/avatar_default_07_FF8717.png', 'is_employee': False, 'comment_karma': 2747, 'name': 'judashpeters', 'subreddit': None, 'is_gold': False, 'is_friend': False, 'id': 'v5ldq', 'has_verified_email': True, 'pref_show_snoovatar': False, 'created': 1455683826.0, 'created_utc': 1455655026.0, 'link_karma': 444}\n",
      "Sending a message to user judashpeters with data {'first_comment_week': 3, 'username': 'judashpeters', 'url': 'https://docs.google.com/forms/d/e/1FAIpQLSfmgOcsF0ALqWGPHGpJq2cwUr-xIG-uizbQqXPzPuTkrPM-Lg/viewform?usp=pp_url&entry.360321409=judashpeters&entry.1933578897', 'deleted': False, 'get_info_date': '2018-04-17 13:49:58.419543'}\n"
     ]
    },
    {
     "name": "stderr",
     "output_type": "stream",
     "text": [
      "substituting https://oauth.reddit.com for https://api.reddit.com in url\n",
      "GET: https://oauth.reddit.com/user/judashpeters/about/.json\n",
      "substituting https://oauth.reddit.com for https://api.reddit.com in url\n",
      "POST: https://oauth.reddit.com/api/compose/.json\n"
     ]
    },
    {
     "name": "stdout",
     "output_type": "stream",
     "text": [
      "Message successfully sent to user judashpeters\n",
      "APPENDING TO FILE: {'username': 'judashpeters', 'get_info_date': '2018-04-17 13:49:58.419543', 'deleted': False, 'url': 'https://docs.google.com/forms/d/e/1FAIpQLSfmgOcsF0ALqWGPHGpJq2cwUr-xIG-uizbQqXPzPuTkrPM-Lg/viewform?usp=pp_url&entry.360321409=judashpeters&entry.1933578897', 'first_comment_week': 3}\n",
      "first_comment_week: 3\n",
      "url: https://docs.google.com/forms/d/e/1FAIpQLSfmgOcsF0ALqWGPHGpJq2cwUr-xIG-uizbQqXPzPuTkrPM-Lg/viewform?usp=pp_url&entry.360321409=judashpeters&entry.1933578897\n",
      "get_info_data: 2018-04-17 13:49:58.419543\n",
      "deleted: False\n",
      "User LesBattersby17 found: {'is_mod': False, 'has_subscribed': True, 'hide_from_robots': False, 'verified': True, 'icon_img': 'https://www.redditstatic.com/avatars/avatar_default_19_DDBD37.png', 'is_employee': False, 'comment_karma': 4525, 'name': 'LesBattersby17', 'subreddit': {'icon_size': [256, 256], 'key_color': '', 'link_flair_enabled': False, 'subreddit_type': 'user', 'name': 't5_5yu1j', 'user_is_moderator': False, 'community_icon': '', 'header_img': None, 'public_description': '', 'show_media': True, 'audience_target': '', 'url': '/user/LesBattersby17/', 'description': '', 'display_name_prefixed': 'u/LesBattersby17', 'subscribers': 0, 'display_name': 'u_LesBattersby17', 'user_is_banned': False, 'is_default_icon': True, 'icon_img': 'https://www.redditstatic.com/avatars/avatar_default_19_DDBD37.png', 'over_18': False, 'is_default_banner': True, 'user_is_contributor': False, 'icon_color': '#DDBD37', 'header_size': None, 'user_is_muted': False, 'banner_size': None, 'user_is_subscriber': False, 'banner_img': '', 'title': '', 'default_set': True, 'primary_color': ''}, 'is_gold': False, 'is_friend': False, 'id': 'hdeyig6', 'has_verified_email': False, 'pref_show_snoovatar': False, 'created': 1508062073.0, 'created_utc': 1508033273.0, 'link_karma': 19}\n",
      "Sending a message to user LesBattersby17 with data {'first_comment_week': 3, 'username': 'LesBattersby17', 'url': 'https://docs.google.com/forms/d/e/1FAIpQLSfmgOcsF0ALqWGPHGpJq2cwUr-xIG-uizbQqXPzPuTkrPM-Lg/viewform?usp=pp_url&entry.360321409=LesBattersby17&entry.1933578897', 'deleted': False, 'get_info_date': '2018-04-17 13:50:02.716294'}\n"
     ]
    },
    {
     "name": "stderr",
     "output_type": "stream",
     "text": [
      "substituting https://oauth.reddit.com for https://api.reddit.com in url\n",
      "GET: https://oauth.reddit.com/user/LesBattersby17/about/.json\n",
      "substituting https://oauth.reddit.com for https://api.reddit.com in url\n",
      "POST: https://oauth.reddit.com/api/compose/.json\n"
     ]
    },
    {
     "name": "stdout",
     "output_type": "stream",
     "text": [
      "Message successfully sent to user LesBattersby17\n",
      "APPENDING TO FILE: {'username': 'LesBattersby17', 'get_info_date': '2018-04-17 13:50:02.716294', 'deleted': False, 'url': 'https://docs.google.com/forms/d/e/1FAIpQLSfmgOcsF0ALqWGPHGpJq2cwUr-xIG-uizbQqXPzPuTkrPM-Lg/viewform?usp=pp_url&entry.360321409=LesBattersby17&entry.1933578897', 'first_comment_week': 3}\n",
      "first_comment_week: 3\n",
      "url: https://docs.google.com/forms/d/e/1FAIpQLSfmgOcsF0ALqWGPHGpJq2cwUr-xIG-uizbQqXPzPuTkrPM-Lg/viewform?usp=pp_url&entry.360321409=LesBattersby17&entry.1933578897\n",
      "get_info_data: 2018-04-17 13:50:02.716294\n",
      "deleted: False\n",
      "User randomgirl22 found: {'is_mod': True, 'has_subscribed': True, 'hide_from_robots': False, 'verified': False, 'icon_img': 'https://www.redditstatic.com/avatars/avatar_default_03_DDBD37.png', 'is_employee': False, 'comment_karma': 2044, 'name': 'randomgirl22', 'subreddit': None, 'is_gold': True, 'is_friend': False, 'id': '79s8u', 'has_verified_email': True, 'pref_show_snoovatar': False, 'created': 1332799400.0, 'created_utc': 1332770600.0, 'link_karma': 1956}\n",
      "Sending a message to user randomgirl22 with data {'first_comment_week': 3, 'username': 'randomgirl22', 'url': 'https://docs.google.com/forms/d/e/1FAIpQLSfmgOcsF0ALqWGPHGpJq2cwUr-xIG-uizbQqXPzPuTkrPM-Lg/viewform?usp=pp_url&entry.360321409=randomgirl22&entry.1933578897', 'deleted': False, 'get_info_date': '2018-04-17 13:50:06.760831'}\n"
     ]
    },
    {
     "name": "stderr",
     "output_type": "stream",
     "text": [
      "substituting https://oauth.reddit.com for https://api.reddit.com in url\n",
      "GET: https://oauth.reddit.com/user/randomgirl22/about/.json\n",
      "substituting https://oauth.reddit.com for https://api.reddit.com in url\n",
      "POST: https://oauth.reddit.com/api/compose/.json\n"
     ]
    },
    {
     "name": "stdout",
     "output_type": "stream",
     "text": [
      "Message successfully sent to user randomgirl22\n",
      "APPENDING TO FILE: {'username': 'randomgirl22', 'get_info_date': '2018-04-17 13:50:06.760831', 'deleted': False, 'url': 'https://docs.google.com/forms/d/e/1FAIpQLSfmgOcsF0ALqWGPHGpJq2cwUr-xIG-uizbQqXPzPuTkrPM-Lg/viewform?usp=pp_url&entry.360321409=randomgirl22&entry.1933578897', 'first_comment_week': 3}\n",
      "first_comment_week: 3\n",
      "url: https://docs.google.com/forms/d/e/1FAIpQLSfmgOcsF0ALqWGPHGpJq2cwUr-xIG-uizbQqXPzPuTkrPM-Lg/viewform?usp=pp_url&entry.360321409=randomgirl22&entry.1933578897\n",
      "get_info_data: 2018-04-17 13:50:06.760831\n",
      "deleted: False\n"
     ]
    },
    {
     "name": "stderr",
     "output_type": "stream",
     "text": [
      "substituting https://oauth.reddit.com for https://api.reddit.com in url\n",
      "GET: https://oauth.reddit.com/user/piemanmlg/about/.json\n"
     ]
    },
    {
     "name": "stdout",
     "output_type": "stream",
     "text": [
      "User piemanmlg found: {'is_mod': False, 'has_subscribed': True, 'hide_from_robots': False, 'verified': True, 'icon_img': 'https://www.redditstatic.com/avatars/avatar_default_11_4856A3.png', 'is_employee': False, 'comment_karma': 0, 'name': 'piemanmlg', 'subreddit': {'icon_size': [256, 256], 'key_color': '', 'link_flair_enabled': False, 'subreddit_type': 'user', 'name': 't5_gc8pz', 'user_is_moderator': False, 'community_icon': '', 'header_img': None, 'public_description': '', 'show_media': True, 'audience_target': '', 'url': '/user/piemanmlg/', 'description': '', 'display_name_prefixed': 'u/piemanmlg', 'subscribers': 0, 'display_name': 'u_piemanmlg', 'user_is_banned': False, 'is_default_icon': True, 'icon_img': 'https://www.redditstatic.com/avatars/avatar_default_11_4856A3.png', 'over_18': False, 'is_default_banner': True, 'user_is_contributor': False, 'icon_color': '#4856A3', 'header_size': None, 'user_is_muted': False, 'banner_size': None, 'user_is_subscriber': False, 'banner_img': '', 'title': '', 'default_set': True, 'primary_color': ''}, 'is_gold': False, 'is_friend': False, 'id': 'z9fjdli', 'has_verified_email': True, 'pref_show_snoovatar': False, 'created': 1519882898.0, 'created_utc': 1519854098.0, 'link_karma': 1}\n",
      "Sending a message to user piemanmlg with data {'first_comment_week': 3, 'username': 'piemanmlg', 'url': 'https://docs.google.com/forms/d/e/1FAIpQLSfmgOcsF0ALqWGPHGpJq2cwUr-xIG-uizbQqXPzPuTkrPM-Lg/viewform?usp=pp_url&entry.360321409=piemanmlg&entry.1933578897', 'deleted': False, 'get_info_date': '2018-04-17 13:50:11.247207'}\n"
     ]
    },
    {
     "name": "stderr",
     "output_type": "stream",
     "text": [
      "substituting https://oauth.reddit.com for https://api.reddit.com in url\n",
      "POST: https://oauth.reddit.com/api/compose/.json\n"
     ]
    },
    {
     "name": "stdout",
     "output_type": "stream",
     "text": [
      "Message successfully sent to user piemanmlg\n",
      "APPENDING TO FILE: {'username': 'piemanmlg', 'get_info_date': '2018-04-17 13:50:11.247207', 'deleted': False, 'url': 'https://docs.google.com/forms/d/e/1FAIpQLSfmgOcsF0ALqWGPHGpJq2cwUr-xIG-uizbQqXPzPuTkrPM-Lg/viewform?usp=pp_url&entry.360321409=piemanmlg&entry.1933578897', 'first_comment_week': 3}\n",
      "first_comment_week: 3\n",
      "url: https://docs.google.com/forms/d/e/1FAIpQLSfmgOcsF0ALqWGPHGpJq2cwUr-xIG-uizbQqXPzPuTkrPM-Lg/viewform?usp=pp_url&entry.360321409=piemanmlg&entry.1933578897\n",
      "get_info_data: 2018-04-17 13:50:11.247207\n",
      "deleted: False\n",
      "User hillsiggy found: {'is_mod': False, 'has_subscribed': True, 'hide_from_robots': False, 'verified': False, 'icon_img': 'https://www.redditstatic.com/avatars/avatar_default_02_FF8717.png', 'is_employee': False, 'comment_karma': 1188, 'name': 'hillsiggy', 'subreddit': None, 'is_gold': False, 'is_friend': False, 'id': '14w1i5', 'has_verified_email': True, 'pref_show_snoovatar': False, 'created': 1485743168.0, 'created_utc': 1485714368.0, 'link_karma': 1039}\n",
      "Sending a message to user hillsiggy with data {'first_comment_week': 3, 'username': 'hillsiggy', 'url': 'https://docs.google.com/forms/d/e/1FAIpQLSfmgOcsF0ALqWGPHGpJq2cwUr-xIG-uizbQqXPzPuTkrPM-Lg/viewform?usp=pp_url&entry.360321409=hillsiggy&entry.1933578897', 'deleted': False, 'get_info_date': '2018-04-17 13:50:15.430941'}\n"
     ]
    },
    {
     "name": "stderr",
     "output_type": "stream",
     "text": [
      "substituting https://oauth.reddit.com for https://api.reddit.com in url\n",
      "GET: https://oauth.reddit.com/user/hillsiggy/about/.json\n",
      "substituting https://oauth.reddit.com for https://api.reddit.com in url\n",
      "POST: https://oauth.reddit.com/api/compose/.json\n"
     ]
    },
    {
     "name": "stdout",
     "output_type": "stream",
     "text": [
      "Message successfully sent to user hillsiggy\n",
      "APPENDING TO FILE: {'username': 'hillsiggy', 'get_info_date': '2018-04-17 13:50:15.430941', 'deleted': False, 'url': 'https://docs.google.com/forms/d/e/1FAIpQLSfmgOcsF0ALqWGPHGpJq2cwUr-xIG-uizbQqXPzPuTkrPM-Lg/viewform?usp=pp_url&entry.360321409=hillsiggy&entry.1933578897', 'first_comment_week': 3}\n",
      "first_comment_week: 3\n",
      "url: https://docs.google.com/forms/d/e/1FAIpQLSfmgOcsF0ALqWGPHGpJq2cwUr-xIG-uizbQqXPzPuTkrPM-Lg/viewform?usp=pp_url&entry.360321409=hillsiggy&entry.1933578897\n",
      "get_info_data: 2018-04-17 13:50:15.430941\n",
      "deleted: False\n",
      "User mholme11 found: {'is_mod': False, 'has_subscribed': True, 'hide_from_robots': False, 'verified': True, 'icon_img': 'https://www.redditstatic.com/avatars/avatar_default_17_FFD635.png', 'is_employee': False, 'comment_karma': 15, 'name': 'mholme11', 'subreddit': {'icon_size': [256, 256], 'key_color': '', 'link_flair_enabled': False, 'subreddit_type': 'user', 'name': 't5_e8fqf', 'user_is_moderator': False, 'community_icon': '', 'header_img': None, 'public_description': '', 'show_media': True, 'audience_target': '', 'url': '/user/mholme11/', 'description': '', 'display_name_prefixed': 'u/mholme11', 'subscribers': 0, 'display_name': 'u_mholme11', 'user_is_banned': False, 'is_default_icon': True, 'icon_img': 'https://www.redditstatic.com/avatars/avatar_default_17_FFD635.png', 'over_18': False, 'is_default_banner': True, 'user_is_contributor': False, 'icon_color': '#FFD635', 'header_size': None, 'user_is_muted': False, 'banner_size': None, 'user_is_subscriber': False, 'banner_img': '', 'title': '', 'default_set': True, 'primary_color': ''}, 'is_gold': False, 'is_friend': False, 'id': 'r0hw0', 'has_verified_email': False, 'pref_show_snoovatar': False, 'created': 1444288430.0, 'created_utc': 1444259630.0, 'link_karma': 4}\n",
      "Sending a message to user mholme11 with data {'first_comment_week': 3, 'username': 'mholme11', 'url': 'https://docs.google.com/forms/d/e/1FAIpQLSfmgOcsF0ALqWGPHGpJq2cwUr-xIG-uizbQqXPzPuTkrPM-Lg/viewform?usp=pp_url&entry.360321409=mholme11&entry.1933578897', 'deleted': False, 'get_info_date': '2018-04-17 13:50:19.675267'}\n"
     ]
    },
    {
     "name": "stderr",
     "output_type": "stream",
     "text": [
      "substituting https://oauth.reddit.com for https://api.reddit.com in url\n",
      "GET: https://oauth.reddit.com/user/mholme11/about/.json\n",
      "substituting https://oauth.reddit.com for https://api.reddit.com in url\n",
      "POST: https://oauth.reddit.com/api/compose/.json\n"
     ]
    },
    {
     "name": "stdout",
     "output_type": "stream",
     "text": [
      "Message successfully sent to user mholme11\n",
      "APPENDING TO FILE: {'username': 'mholme11', 'get_info_date': '2018-04-17 13:50:19.675267', 'deleted': False, 'url': 'https://docs.google.com/forms/d/e/1FAIpQLSfmgOcsF0ALqWGPHGpJq2cwUr-xIG-uizbQqXPzPuTkrPM-Lg/viewform?usp=pp_url&entry.360321409=mholme11&entry.1933578897', 'first_comment_week': 3}\n",
      "first_comment_week: 3\n",
      "url: https://docs.google.com/forms/d/e/1FAIpQLSfmgOcsF0ALqWGPHGpJq2cwUr-xIG-uizbQqXPzPuTkrPM-Lg/viewform?usp=pp_url&entry.360321409=mholme11&entry.1933578897\n",
      "get_info_data: 2018-04-17 13:50:19.675267\n",
      "deleted: False\n",
      "User realsadstorydriver found: {'is_mod': False, 'has_subscribed': True, 'hide_from_robots': False, 'verified': True, 'icon_img': 'https://www.redditstatic.com/avatars/avatar_default_11_7193FF.png', 'is_employee': False, 'comment_karma': 1447, 'name': 'realsadstorydriver', 'subreddit': {'icon_size': [256, 256], 'key_color': '', 'link_flair_enabled': False, 'subreddit_type': 'user', 'name': 't5_5kkbu', 'user_is_moderator': False, 'community_icon': '', 'header_img': None, 'public_description': '', 'show_media': True, 'audience_target': '', 'url': '/user/realsadstorydriver/', 'description': '', 'display_name_prefixed': 'u/realsadstorydriver', 'subscribers': 0, 'display_name': 'u_realsadstorydriver', 'user_is_banned': False, 'is_default_icon': True, 'icon_img': 'https://www.redditstatic.com/avatars/avatar_default_11_7193FF.png', 'over_18': False, 'is_default_banner': True, 'user_is_contributor': False, 'icon_color': '#7193FF', 'header_size': None, 'user_is_muted': False, 'banner_size': None, 'user_is_subscriber': False, 'banner_img': '', 'title': '', 'default_set': True, 'primary_color': ''}, 'is_gold': False, 'is_friend': False, 'id': 'ivbkn1q', 'has_verified_email': False, 'pref_show_snoovatar': False, 'created': 1509170924.0, 'created_utc': 1509142124.0, 'link_karma': 1}\n",
      "Sending a message to user realsadstorydriver with data {'first_comment_week': 3, 'username': 'realsadstorydriver', 'url': 'https://docs.google.com/forms/d/e/1FAIpQLSfmgOcsF0ALqWGPHGpJq2cwUr-xIG-uizbQqXPzPuTkrPM-Lg/viewform?usp=pp_url&entry.360321409=realsadstorydriver&entry.1933578897', 'deleted': False, 'get_info_date': '2018-04-17 13:50:23.856577'}\n"
     ]
    },
    {
     "name": "stderr",
     "output_type": "stream",
     "text": [
      "substituting https://oauth.reddit.com for https://api.reddit.com in url\n",
      "GET: https://oauth.reddit.com/user/realsadstorydriver/about/.json\n",
      "substituting https://oauth.reddit.com for https://api.reddit.com in url\n",
      "POST: https://oauth.reddit.com/api/compose/.json\n"
     ]
    },
    {
     "name": "stdout",
     "output_type": "stream",
     "text": [
      "Message successfully sent to user realsadstorydriver\n",
      "APPENDING TO FILE: {'username': 'realsadstorydriver', 'get_info_date': '2018-04-17 13:50:23.856577', 'deleted': False, 'url': 'https://docs.google.com/forms/d/e/1FAIpQLSfmgOcsF0ALqWGPHGpJq2cwUr-xIG-uizbQqXPzPuTkrPM-Lg/viewform?usp=pp_url&entry.360321409=realsadstorydriver&entry.1933578897', 'first_comment_week': 3}\n",
      "first_comment_week: 3\n",
      "url: https://docs.google.com/forms/d/e/1FAIpQLSfmgOcsF0ALqWGPHGpJq2cwUr-xIG-uizbQqXPzPuTkrPM-Lg/viewform?usp=pp_url&entry.360321409=realsadstorydriver&entry.1933578897\n",
      "get_info_data: 2018-04-17 13:50:23.856577\n",
      "deleted: False\n",
      "User mirandajane720 found: {'is_mod': False, 'has_subscribed': True, 'hide_from_robots': False, 'verified': True, 'icon_img': 'https://www.redditstatic.com/avatars/avatar_default_13_008985.png', 'is_employee': False, 'comment_karma': 5, 'name': 'mirandajane720', 'subreddit': {'icon_size': [256, 256], 'key_color': '', 'link_flair_enabled': False, 'subreddit_type': 'user', 'name': 't5_ga5mq', 'user_is_moderator': False, 'community_icon': '', 'header_img': None, 'public_description': '', 'show_media': True, 'audience_target': '', 'url': '/user/mirandajane720/', 'description': '', 'display_name_prefixed': 'u/mirandajane720', 'subscribers': 0, 'display_name': 'u_mirandajane720', 'user_is_banned': False, 'is_default_icon': True, 'icon_img': 'https://www.redditstatic.com/avatars/avatar_default_13_008985.png', 'over_18': False, 'is_default_banner': True, 'user_is_contributor': False, 'icon_color': '#008985', 'header_size': None, 'user_is_muted': False, 'banner_size': None, 'user_is_subscriber': False, 'banner_img': '', 'title': '', 'default_set': True, 'primary_color': ''}, 'is_gold': False, 'is_friend': False, 'id': 'fucwz58', 'has_verified_email': False, 'pref_show_snoovatar': False, 'created': 1519761452.0, 'created_utc': 1519732652.0, 'link_karma': 1}\n",
      "Sending a message to user mirandajane720 with data {'first_comment_week': 3, 'username': 'mirandajane720', 'url': 'https://docs.google.com/forms/d/e/1FAIpQLSfmgOcsF0ALqWGPHGpJq2cwUr-xIG-uizbQqXPzPuTkrPM-Lg/viewform?usp=pp_url&entry.360321409=mirandajane720&entry.1933578897', 'deleted': False, 'get_info_date': '2018-04-17 13:50:28.009918'}\n"
     ]
    },
    {
     "name": "stderr",
     "output_type": "stream",
     "text": [
      "substituting https://oauth.reddit.com for https://api.reddit.com in url\n",
      "GET: https://oauth.reddit.com/user/mirandajane720/about/.json\n",
      "substituting https://oauth.reddit.com for https://api.reddit.com in url\n",
      "POST: https://oauth.reddit.com/api/compose/.json\n"
     ]
    },
    {
     "name": "stdout",
     "output_type": "stream",
     "text": [
      "Message successfully sent to user mirandajane720\n",
      "APPENDING TO FILE: {'username': 'mirandajane720', 'get_info_date': '2018-04-17 13:50:28.009918', 'deleted': False, 'url': 'https://docs.google.com/forms/d/e/1FAIpQLSfmgOcsF0ALqWGPHGpJq2cwUr-xIG-uizbQqXPzPuTkrPM-Lg/viewform?usp=pp_url&entry.360321409=mirandajane720&entry.1933578897', 'first_comment_week': 3}\n",
      "first_comment_week: 3\n",
      "url: https://docs.google.com/forms/d/e/1FAIpQLSfmgOcsF0ALqWGPHGpJq2cwUr-xIG-uizbQqXPzPuTkrPM-Lg/viewform?usp=pp_url&entry.360321409=mirandajane720&entry.1933578897\n",
      "get_info_data: 2018-04-17 13:50:28.009918\n",
      "deleted: False\n",
      "User Valkyrie_Maiden found: {'is_mod': False, 'has_subscribed': True, 'hide_from_robots': False, 'verified': True, 'icon_img': 'https://www.redditstatic.com/avatars/avatar_default_07_DDBD37.png', 'is_employee': False, 'comment_karma': 6406, 'name': 'Valkyrie_Maiden', 'subreddit': {'icon_size': [256, 256], 'key_color': '', 'link_flair_enabled': False, 'subreddit_type': 'user', 'name': 't5_dshen', 'user_is_moderator': False, 'community_icon': '', 'header_img': None, 'public_description': '', 'show_media': True, 'audience_target': '', 'url': '/user/Valkyrie_Maiden/', 'description': '', 'display_name_prefixed': 'u/Valkyrie_Maiden', 'subscribers': 0, 'display_name': 'u_Valkyrie_Maiden', 'user_is_banned': False, 'is_default_icon': True, 'icon_img': 'https://www.redditstatic.com/avatars/avatar_default_07_DDBD37.png', 'over_18': False, 'is_default_banner': True, 'user_is_contributor': False, 'icon_color': '#DDBD37', 'header_size': None, 'user_is_muted': False, 'banner_size': None, 'user_is_subscriber': False, 'banner_img': '', 'title': '', 'default_set': True, 'primary_color': ''}, 'is_gold': False, 'is_friend': False, 'id': 's30uu', 'has_verified_email': False, 'pref_show_snoovatar': False, 'created': 1447679874.0, 'created_utc': 1447651074.0, 'link_karma': 225}\n",
      "Sending a message to user Valkyrie_Maiden with data {'first_comment_week': 3, 'username': 'Valkyrie_Maiden', 'url': 'https://docs.google.com/forms/d/e/1FAIpQLSfmgOcsF0ALqWGPHGpJq2cwUr-xIG-uizbQqXPzPuTkrPM-Lg/viewform?usp=pp_url&entry.360321409=Valkyrie_Maiden&entry.1933578897', 'deleted': False, 'get_info_date': '2018-04-17 13:50:32.095664'}\n"
     ]
    },
    {
     "name": "stderr",
     "output_type": "stream",
     "text": [
      "substituting https://oauth.reddit.com for https://api.reddit.com in url\n",
      "GET: https://oauth.reddit.com/user/Valkyrie_Maiden/about/.json\n",
      "substituting https://oauth.reddit.com for https://api.reddit.com in url\n",
      "POST: https://oauth.reddit.com/api/compose/.json\n"
     ]
    },
    {
     "name": "stdout",
     "output_type": "stream",
     "text": [
      "Message successfully sent to user Valkyrie_Maiden\n",
      "APPENDING TO FILE: {'username': 'Valkyrie_Maiden', 'get_info_date': '2018-04-17 13:50:32.095664', 'deleted': False, 'url': 'https://docs.google.com/forms/d/e/1FAIpQLSfmgOcsF0ALqWGPHGpJq2cwUr-xIG-uizbQqXPzPuTkrPM-Lg/viewform?usp=pp_url&entry.360321409=Valkyrie_Maiden&entry.1933578897', 'first_comment_week': 3}\n",
      "first_comment_week: 3\n",
      "url: https://docs.google.com/forms/d/e/1FAIpQLSfmgOcsF0ALqWGPHGpJq2cwUr-xIG-uizbQqXPzPuTkrPM-Lg/viewform?usp=pp_url&entry.360321409=Valkyrie_Maiden&entry.1933578897\n",
      "get_info_data: 2018-04-17 13:50:32.095664\n",
      "deleted: False\n",
      "User 4StrongWomen found: {'is_mod': False, 'has_subscribed': True, 'hide_from_robots': False, 'verified': True, 'icon_img': 'https://s.redditmedia.com/t5_h742o/styles/profileIcon_y3cxrvgu3jn01.jpg?fit=crop&crop=faces%2Centropy&arh=1.0&w=256&h=256&s=63da918f8a87210cbc2e9c7133451a3e', 'is_employee': False, 'comment_karma': 305, 'name': '4StrongWomen', 'subreddit': {'icon_size': [256, 256], 'key_color': '', 'link_flair_enabled': False, 'subreddit_type': 'user', 'name': 't5_h742o', 'user_is_moderator': False, 'community_icon': '', 'header_img': None, 'public_description': 'The #atheist, #liberal, #prochoice, #LGBTQally, outspoken #feminist you were warned about! #resist #notmypresident #StandWithPP #fibrowarrior', 'show_media': True, 'audience_target': '', 'url': '/user/4StrongWomen/', 'description': '', 'display_name_prefixed': 'u/4StrongWomen', 'subscribers': 0, 'display_name': 'u_4StrongWomen', 'user_is_banned': False, 'is_default_icon': False, 'icon_img': 'https://s.redditmedia.com/t5_h742o/styles/profileIcon_y3cxrvgu3jn01.jpg?fit=crop&crop=faces%2Centropy&arh=1.0&w=256&h=256&s=63da918f8a87210cbc2e9c7133451a3e', 'over_18': False, 'is_default_banner': False, 'user_is_contributor': False, 'icon_color': '', 'header_size': None, 'user_is_muted': False, 'banner_size': [1280, 384], 'user_is_subscriber': False, 'banner_img': 'https://s.redditmedia.com/t5_h742o/styles/profileBanner_0670rizx3jn01.jpg?fit=crop&crop=center&arh=0.3&w=1280&h=384&s=146e71f0cbe75e2888f71aaa9dc91727', 'title': '4StrongWomen', 'default_set': True, 'primary_color': ''}, 'is_gold': False, 'is_friend': False, 'id': '12zgat4w', 'has_verified_email': False, 'pref_show_snoovatar': False, 'created': 1521846072.0, 'created_utc': 1521817272.0, 'link_karma': 1}\n",
      "Sending a message to user 4StrongWomen with data {'first_comment_week': 3, 'username': '4StrongWomen', 'url': 'https://docs.google.com/forms/d/e/1FAIpQLSfmgOcsF0ALqWGPHGpJq2cwUr-xIG-uizbQqXPzPuTkrPM-Lg/viewform?usp=pp_url&entry.360321409=4StrongWomen&entry.1933578897', 'deleted': False, 'get_info_date': '2018-04-17 13:50:36.395177'}\n"
     ]
    },
    {
     "name": "stderr",
     "output_type": "stream",
     "text": [
      "substituting https://oauth.reddit.com for https://api.reddit.com in url\n",
      "GET: https://oauth.reddit.com/user/4StrongWomen/about/.json\n",
      "substituting https://oauth.reddit.com for https://api.reddit.com in url\n",
      "POST: https://oauth.reddit.com/api/compose/.json\n"
     ]
    },
    {
     "name": "stdout",
     "output_type": "stream",
     "text": [
      "Message successfully sent to user 4StrongWomen\n",
      "APPENDING TO FILE: {'username': '4StrongWomen', 'get_info_date': '2018-04-17 13:50:36.395177', 'deleted': False, 'url': 'https://docs.google.com/forms/d/e/1FAIpQLSfmgOcsF0ALqWGPHGpJq2cwUr-xIG-uizbQqXPzPuTkrPM-Lg/viewform?usp=pp_url&entry.360321409=4StrongWomen&entry.1933578897', 'first_comment_week': 3}\n",
      "first_comment_week: 3\n",
      "url: https://docs.google.com/forms/d/e/1FAIpQLSfmgOcsF0ALqWGPHGpJq2cwUr-xIG-uizbQqXPzPuTkrPM-Lg/viewform?usp=pp_url&entry.360321409=4StrongWomen&entry.1933578897\n",
      "get_info_data: 2018-04-17 13:50:36.395177\n",
      "deleted: False\n",
      "User Apolace found: {'is_mod': False, 'has_subscribed': True, 'hide_from_robots': False, 'verified': False, 'icon_img': 'https://www.redditstatic.com/avatars/avatar_default_18_545452.png', 'is_employee': False, 'comment_karma': 168, 'name': 'Apolace', 'subreddit': None, 'is_gold': False, 'is_friend': False, 'id': 'enrm1', 'has_verified_email': True, 'pref_show_snoovatar': False, 'created': 1388931368.0, 'created_utc': 1388902568.0, 'link_karma': 3}\n",
      "Sending a message to user Apolace with data {'first_comment_week': 3, 'username': 'Apolace', 'url': 'https://docs.google.com/forms/d/e/1FAIpQLSfmgOcsF0ALqWGPHGpJq2cwUr-xIG-uizbQqXPzPuTkrPM-Lg/viewform?usp=pp_url&entry.360321409=Apolace&entry.1933578897', 'deleted': False, 'get_info_date': '2018-04-17 13:50:40.547949'}\n"
     ]
    },
    {
     "name": "stderr",
     "output_type": "stream",
     "text": [
      "substituting https://oauth.reddit.com for https://api.reddit.com in url\n",
      "GET: https://oauth.reddit.com/user/Apolace/about/.json\n",
      "substituting https://oauth.reddit.com for https://api.reddit.com in url\n",
      "POST: https://oauth.reddit.com/api/compose/.json\n"
     ]
    },
    {
     "name": "stdout",
     "output_type": "stream",
     "text": [
      "Message successfully sent to user Apolace\n",
      "APPENDING TO FILE: {'username': 'Apolace', 'get_info_date': '2018-04-17 13:50:40.547949', 'deleted': False, 'url': 'https://docs.google.com/forms/d/e/1FAIpQLSfmgOcsF0ALqWGPHGpJq2cwUr-xIG-uizbQqXPzPuTkrPM-Lg/viewform?usp=pp_url&entry.360321409=Apolace&entry.1933578897', 'first_comment_week': 3}\n",
      "first_comment_week: 3\n",
      "url: https://docs.google.com/forms/d/e/1FAIpQLSfmgOcsF0ALqWGPHGpJq2cwUr-xIG-uizbQqXPzPuTkrPM-Lg/viewform?usp=pp_url&entry.360321409=Apolace&entry.1933578897\n",
      "get_info_data: 2018-04-17 13:50:40.547949\n",
      "deleted: False\n",
      "User dilatory_tactics found: {'is_mod': True, 'has_subscribed': True, 'hide_from_robots': False, 'verified': True, 'icon_img': 'https://www.redditstatic.com/avatars/avatar_default_13_0079D3.png', 'is_employee': False, 'comment_karma': 26055, 'name': 'dilatory_tactics', 'subreddit': {'icon_size': [256, 256], 'key_color': '', 'link_flair_enabled': False, 'subreddit_type': 'user', 'name': 't5_3preq', 'user_is_moderator': False, 'community_icon': '', 'header_img': None, 'public_description': '', 'show_media': True, 'audience_target': '', 'url': '/user/dilatory_tactics/', 'description': '', 'display_name_prefixed': 'u/dilatory_tactics', 'subscribers': 0, 'display_name': 'u_dilatory_tactics', 'user_is_banned': False, 'is_default_icon': True, 'icon_img': 'https://www.redditstatic.com/avatars/avatar_default_13_0079D3.png', 'over_18': True, 'is_default_banner': True, 'user_is_contributor': False, 'icon_color': '#0079D3', 'header_size': None, 'user_is_muted': False, 'banner_size': None, 'user_is_subscriber': False, 'banner_img': '', 'title': '', 'default_set': True, 'primary_color': ''}, 'is_gold': False, 'is_friend': False, 'id': '7gs1k', 'has_verified_email': True, 'pref_show_snoovatar': False, 'created': 1334569842.0, 'created_utc': 1334541042.0, 'link_karma': 14675}\n",
      "Sending a message to user dilatory_tactics with data {'first_comment_week': 3, 'username': 'dilatory_tactics', 'url': 'https://docs.google.com/forms/d/e/1FAIpQLSfmgOcsF0ALqWGPHGpJq2cwUr-xIG-uizbQqXPzPuTkrPM-Lg/viewform?usp=pp_url&entry.360321409=dilatory_tactics&entry.1933578897', 'deleted': False, 'get_info_date': '2018-04-17 13:50:44.843883'}\n"
     ]
    },
    {
     "name": "stderr",
     "output_type": "stream",
     "text": [
      "substituting https://oauth.reddit.com for https://api.reddit.com in url\n",
      "GET: https://oauth.reddit.com/user/dilatory_tactics/about/.json\n",
      "substituting https://oauth.reddit.com for https://api.reddit.com in url\n",
      "POST: https://oauth.reddit.com/api/compose/.json\n"
     ]
    },
    {
     "name": "stdout",
     "output_type": "stream",
     "text": [
      "Message successfully sent to user dilatory_tactics\n",
      "APPENDING TO FILE: {'username': 'dilatory_tactics', 'get_info_date': '2018-04-17 13:50:44.843883', 'deleted': False, 'url': 'https://docs.google.com/forms/d/e/1FAIpQLSfmgOcsF0ALqWGPHGpJq2cwUr-xIG-uizbQqXPzPuTkrPM-Lg/viewform?usp=pp_url&entry.360321409=dilatory_tactics&entry.1933578897', 'first_comment_week': 3}\n",
      "first_comment_week: 3\n",
      "url: https://docs.google.com/forms/d/e/1FAIpQLSfmgOcsF0ALqWGPHGpJq2cwUr-xIG-uizbQqXPzPuTkrPM-Lg/viewform?usp=pp_url&entry.360321409=dilatory_tactics&entry.1933578897\n",
      "get_info_data: 2018-04-17 13:50:44.843883\n",
      "deleted: False\n",
      "User witchcraft4kids found: {'is_mod': False, 'has_subscribed': True, 'hide_from_robots': False, 'verified': False, 'icon_img': 'https://www.redditstatic.com/avatars/avatar_default_11_545452.png', 'is_employee': False, 'comment_karma': 5, 'name': 'witchcraft4kids', 'subreddit': None, 'is_gold': False, 'is_friend': False, 'id': 't1ymtuu', 'has_verified_email': False, 'pref_show_snoovatar': False, 'created': 1516582838.0, 'created_utc': 1516554038.0, 'link_karma': 13}\n",
      "Sending a message to user witchcraft4kids with data {'first_comment_week': 3, 'username': 'witchcraft4kids', 'url': 'https://docs.google.com/forms/d/e/1FAIpQLSfmgOcsF0ALqWGPHGpJq2cwUr-xIG-uizbQqXPzPuTkrPM-Lg/viewform?usp=pp_url&entry.360321409=witchcraft4kids&entry.1933578897', 'deleted': False, 'get_info_date': '2018-04-17 13:50:49.055337'}\n"
     ]
    },
    {
     "name": "stderr",
     "output_type": "stream",
     "text": [
      "substituting https://oauth.reddit.com for https://api.reddit.com in url\n",
      "GET: https://oauth.reddit.com/user/witchcraft4kids/about/.json\n",
      "substituting https://oauth.reddit.com for https://api.reddit.com in url\n",
      "POST: https://oauth.reddit.com/api/compose/.json\n"
     ]
    },
    {
     "name": "stdout",
     "output_type": "stream",
     "text": [
      "Message successfully sent to user witchcraft4kids\n",
      "APPENDING TO FILE: {'username': 'witchcraft4kids', 'get_info_date': '2018-04-17 13:50:49.055337', 'deleted': False, 'url': 'https://docs.google.com/forms/d/e/1FAIpQLSfmgOcsF0ALqWGPHGpJq2cwUr-xIG-uizbQqXPzPuTkrPM-Lg/viewform?usp=pp_url&entry.360321409=witchcraft4kids&entry.1933578897', 'first_comment_week': 3}\n",
      "first_comment_week: 3\n",
      "url: https://docs.google.com/forms/d/e/1FAIpQLSfmgOcsF0ALqWGPHGpJq2cwUr-xIG-uizbQqXPzPuTkrPM-Lg/viewform?usp=pp_url&entry.360321409=witchcraft4kids&entry.1933578897\n",
      "get_info_data: 2018-04-17 13:50:49.055337\n",
      "deleted: False\n",
      "User MikeRosen found: {'is_mod': False, 'has_subscribed': True, 'hide_from_robots': False, 'verified': True, 'icon_img': 'https://s.redditmedia.com/t5_fzyr2/styles/communityIcon_o3wbfl4pr9h01.jpg?fit=crop&crop=faces%2Centropy&arh=1.0&w=256&h=256&s=e3d3f00540f373f553ab79f64a210043', 'is_employee': False, 'comment_karma': 51, 'name': 'MikeRosen', 'subreddit': {'icon_size': [256, 256], 'key_color': '', 'link_flair_enabled': False, 'subreddit_type': 'user', 'name': 't5_fzyr2', 'user_is_moderator': False, 'community_icon': '', 'header_img': None, 'public_description': '', 'show_media': True, 'audience_target': '', 'url': '/user/MikeRosen/', 'description': '', 'display_name_prefixed': 'u/MikeRosen', 'subscribers': 0, 'display_name': 'u_MikeRosen', 'user_is_banned': False, 'is_default_icon': False, 'icon_img': 'https://s.redditmedia.com/t5_fzyr2/styles/communityIcon_o3wbfl4pr9h01.jpg?fit=crop&crop=faces%2Centropy&arh=1.0&w=256&h=256&s=e3d3f00540f373f553ab79f64a210043', 'over_18': False, 'is_default_banner': True, 'user_is_contributor': False, 'icon_color': '', 'header_size': None, 'user_is_muted': False, 'banner_size': None, 'user_is_subscriber': False, 'banner_img': '', 'title': '', 'default_set': True, 'primary_color': ''}, 'is_gold': False, 'is_friend': False, 'id': 'xwhagka', 'has_verified_email': False, 'pref_show_snoovatar': False, 'created': 1519118147.0, 'created_utc': 1519089347.0, 'link_karma': 56}\n",
      "Sending a message to user MikeRosen with data {'first_comment_week': 3, 'username': 'MikeRosen', 'url': 'https://docs.google.com/forms/d/e/1FAIpQLSfmgOcsF0ALqWGPHGpJq2cwUr-xIG-uizbQqXPzPuTkrPM-Lg/viewform?usp=pp_url&entry.360321409=MikeRosen&entry.1933578897', 'deleted': False, 'get_info_date': '2018-04-17 13:50:53.135320'}\n"
     ]
    },
    {
     "name": "stderr",
     "output_type": "stream",
     "text": [
      "substituting https://oauth.reddit.com for https://api.reddit.com in url\n",
      "GET: https://oauth.reddit.com/user/MikeRosen/about/.json\n",
      "substituting https://oauth.reddit.com for https://api.reddit.com in url\n",
      "POST: https://oauth.reddit.com/api/compose/.json\n"
     ]
    },
    {
     "name": "stdout",
     "output_type": "stream",
     "text": [
      "Message successfully sent to user MikeRosen\n",
      "APPENDING TO FILE: {'username': 'MikeRosen', 'get_info_date': '2018-04-17 13:50:53.135320', 'deleted': False, 'url': 'https://docs.google.com/forms/d/e/1FAIpQLSfmgOcsF0ALqWGPHGpJq2cwUr-xIG-uizbQqXPzPuTkrPM-Lg/viewform?usp=pp_url&entry.360321409=MikeRosen&entry.1933578897', 'first_comment_week': 3}\n",
      "first_comment_week: 3\n",
      "url: https://docs.google.com/forms/d/e/1FAIpQLSfmgOcsF0ALqWGPHGpJq2cwUr-xIG-uizbQqXPzPuTkrPM-Lg/viewform?usp=pp_url&entry.360321409=MikeRosen&entry.1933578897\n",
      "get_info_data: 2018-04-17 13:50:53.135320\n",
      "deleted: False\n",
      "User wololoyaknow found: {'is_mod': False, 'has_subscribed': True, 'hide_from_robots': False, 'verified': False, 'icon_img': 'https://www.redditstatic.com/avatars/avatar_default_12_008985.png', 'is_employee': False, 'comment_karma': 258, 'name': 'wololoyaknow', 'subreddit': None, 'is_gold': False, 'is_friend': False, 'id': '15ko7j', 'has_verified_email': True, 'pref_show_snoovatar': False, 'created': 1487611145.0, 'created_utc': 1487582345.0, 'link_karma': 73}\n",
      "Sending a message to user wololoyaknow with data {'first_comment_week': 3, 'username': 'wololoyaknow', 'url': 'https://docs.google.com/forms/d/e/1FAIpQLSfmgOcsF0ALqWGPHGpJq2cwUr-xIG-uizbQqXPzPuTkrPM-Lg/viewform?usp=pp_url&entry.360321409=wololoyaknow&entry.1933578897', 'deleted': False, 'get_info_date': '2018-04-17 13:50:57.375145'}\n"
     ]
    },
    {
     "name": "stderr",
     "output_type": "stream",
     "text": [
      "substituting https://oauth.reddit.com for https://api.reddit.com in url\n",
      "GET: https://oauth.reddit.com/user/wololoyaknow/about/.json\n",
      "substituting https://oauth.reddit.com for https://api.reddit.com in url\n",
      "POST: https://oauth.reddit.com/api/compose/.json\n"
     ]
    },
    {
     "name": "stdout",
     "output_type": "stream",
     "text": [
      "Message successfully sent to user wololoyaknow\n",
      "APPENDING TO FILE: {'username': 'wololoyaknow', 'get_info_date': '2018-04-17 13:50:57.375145', 'deleted': False, 'url': 'https://docs.google.com/forms/d/e/1FAIpQLSfmgOcsF0ALqWGPHGpJq2cwUr-xIG-uizbQqXPzPuTkrPM-Lg/viewform?usp=pp_url&entry.360321409=wololoyaknow&entry.1933578897', 'first_comment_week': 3}\n",
      "first_comment_week: 3\n",
      "url: https://docs.google.com/forms/d/e/1FAIpQLSfmgOcsF0ALqWGPHGpJq2cwUr-xIG-uizbQqXPzPuTkrPM-Lg/viewform?usp=pp_url&entry.360321409=wololoyaknow&entry.1933578897\n",
      "get_info_data: 2018-04-17 13:50:57.375145\n",
      "deleted: False\n",
      "User MahjesticAF found: {'is_mod': False, 'has_subscribed': True, 'hide_from_robots': False, 'verified': True, 'icon_img': 'https://www.redditstatic.com/avatars/avatar_default_20_0079D3.png', 'is_employee': False, 'comment_karma': 4742, 'name': 'MahjesticAF', 'subreddit': {'icon_size': [256, 256], 'key_color': '', 'link_flair_enabled': False, 'subreddit_type': 'user', 'name': 't5_bd5pn', 'user_is_moderator': False, 'community_icon': '', 'header_img': None, 'public_description': '', 'show_media': True, 'audience_target': '', 'url': '/user/MahjesticAF/', 'description': '', 'display_name_prefixed': 'u/MahjesticAF', 'subscribers': 0, 'display_name': 'u_MahjesticAF', 'user_is_banned': False, 'is_default_icon': True, 'icon_img': 'https://www.redditstatic.com/avatars/avatar_default_20_0079D3.png', 'over_18': False, 'is_default_banner': True, 'user_is_contributor': False, 'icon_color': '#0079D3', 'header_size': None, 'user_is_muted': False, 'banner_size': None, 'user_is_subscriber': False, 'banner_img': '', 'title': '', 'default_set': True, 'primary_color': ''}, 'is_gold': False, 'is_friend': False, 'id': '10bev7', 'has_verified_email': True, 'pref_show_snoovatar': False, 'created': 1470864687.0, 'created_utc': 1470835887.0, 'link_karma': 987}\n",
      "Sending a message to user MahjesticAF with data {'first_comment_week': 3, 'username': 'MahjesticAF', 'url': 'https://docs.google.com/forms/d/e/1FAIpQLSfmgOcsF0ALqWGPHGpJq2cwUr-xIG-uizbQqXPzPuTkrPM-Lg/viewform?usp=pp_url&entry.360321409=MahjesticAF&entry.1933578897', 'deleted': False, 'get_info_date': '2018-04-17 13:51:01.634651'}\n"
     ]
    },
    {
     "name": "stderr",
     "output_type": "stream",
     "text": [
      "substituting https://oauth.reddit.com for https://api.reddit.com in url\n",
      "GET: https://oauth.reddit.com/user/MahjesticAF/about/.json\n",
      "substituting https://oauth.reddit.com for https://api.reddit.com in url\n",
      "POST: https://oauth.reddit.com/api/compose/.json\n"
     ]
    },
    {
     "name": "stdout",
     "output_type": "stream",
     "text": [
      "Message successfully sent to user MahjesticAF\n",
      "APPENDING TO FILE: {'username': 'MahjesticAF', 'get_info_date': '2018-04-17 13:51:01.634651', 'deleted': False, 'url': 'https://docs.google.com/forms/d/e/1FAIpQLSfmgOcsF0ALqWGPHGpJq2cwUr-xIG-uizbQqXPzPuTkrPM-Lg/viewform?usp=pp_url&entry.360321409=MahjesticAF&entry.1933578897', 'first_comment_week': 3}\n",
      "first_comment_week: 3\n",
      "url: https://docs.google.com/forms/d/e/1FAIpQLSfmgOcsF0ALqWGPHGpJq2cwUr-xIG-uizbQqXPzPuTkrPM-Lg/viewform?usp=pp_url&entry.360321409=MahjesticAF&entry.1933578897\n",
      "get_info_data: 2018-04-17 13:51:01.634651\n",
      "deleted: False\n",
      "User allrightyakaike found: {'is_mod': False, 'has_subscribed': True, 'hide_from_robots': False, 'verified': True, 'icon_img': 'https://www.redditstatic.com/avatars/avatar_default_11_DB0064.png', 'is_employee': False, 'comment_karma': 24, 'name': 'allrightyakaike', 'subreddit': {'icon_size': [256, 256], 'key_color': '', 'link_flair_enabled': False, 'subreddit_type': 'user', 'name': 't5_8j1tm', 'user_is_moderator': False, 'community_icon': '', 'header_img': None, 'public_description': '', 'show_media': True, 'audience_target': '', 'url': '/user/allrightyakaike/', 'description': '', 'display_name_prefixed': 'u/allrightyakaike', 'subscribers': 0, 'display_name': 'u_allrightyakaike', 'user_is_banned': False, 'is_default_icon': True, 'icon_img': 'https://www.redditstatic.com/avatars/avatar_default_11_DB0064.png', 'over_18': False, 'is_default_banner': True, 'user_is_contributor': False, 'icon_color': '#DB0064', 'header_size': None, 'user_is_muted': False, 'banner_size': None, 'user_is_subscriber': False, 'banner_img': '', 'title': '', 'default_set': True, 'primary_color': ''}, 'is_gold': False, 'is_friend': False, 'id': 'bb97erq', 'has_verified_email': True, 'pref_show_snoovatar': False, 'created': 1503615865.0, 'created_utc': 1503587065.0, 'link_karma': 1}\n",
      "Sending a message to user allrightyakaike with data {'first_comment_week': 3, 'username': 'allrightyakaike', 'url': 'https://docs.google.com/forms/d/e/1FAIpQLSfmgOcsF0ALqWGPHGpJq2cwUr-xIG-uizbQqXPzPuTkrPM-Lg/viewform?usp=pp_url&entry.360321409=allrightyakaike&entry.1933578897', 'deleted': False, 'get_info_date': '2018-04-17 13:51:06.055468'}\n"
     ]
    },
    {
     "name": "stderr",
     "output_type": "stream",
     "text": [
      "substituting https://oauth.reddit.com for https://api.reddit.com in url\n",
      "GET: https://oauth.reddit.com/user/allrightyakaike/about/.json\n",
      "substituting https://oauth.reddit.com for https://api.reddit.com in url\n",
      "POST: https://oauth.reddit.com/api/compose/.json\n"
     ]
    },
    {
     "name": "stdout",
     "output_type": "stream",
     "text": [
      "Message successfully sent to user allrightyakaike\n",
      "APPENDING TO FILE: {'username': 'allrightyakaike', 'get_info_date': '2018-04-17 13:51:06.055468', 'deleted': False, 'url': 'https://docs.google.com/forms/d/e/1FAIpQLSfmgOcsF0ALqWGPHGpJq2cwUr-xIG-uizbQqXPzPuTkrPM-Lg/viewform?usp=pp_url&entry.360321409=allrightyakaike&entry.1933578897', 'first_comment_week': 3}\n",
      "first_comment_week: 3\n",
      "url: https://docs.google.com/forms/d/e/1FAIpQLSfmgOcsF0ALqWGPHGpJq2cwUr-xIG-uizbQqXPzPuTkrPM-Lg/viewform?usp=pp_url&entry.360321409=allrightyakaike&entry.1933578897\n",
      "get_info_data: 2018-04-17 13:51:06.055468\n",
      "deleted: False\n",
      "User mknzie found: {'is_mod': False, 'has_subscribed': True, 'hide_from_robots': False, 'verified': True, 'icon_img': 'https://s.redditmedia.com/t5_7glvj/styles/profileIcon_lh9nihdi2dq01.jpg?fit=crop&crop=faces%2Centropy&arh=1.0&w=256&h=256&s=66eefb9bf60237fbd1d46eaceeabda46', 'is_employee': False, 'comment_karma': 165, 'name': 'mknzie', 'subreddit': {'icon_size': [256, 256], 'key_color': '', 'link_flair_enabled': False, 'subreddit_type': 'user', 'name': 't5_7glvj', 'user_is_moderator': False, 'community_icon': '', 'header_img': None, 'public_description': '', 'show_media': True, 'audience_target': '', 'url': '/user/mknzie/', 'description': '', 'display_name_prefixed': 'u/mknzie', 'subscribers': 0, 'display_name': 'u_mknzie', 'user_is_banned': False, 'is_default_icon': False, 'icon_img': 'https://s.redditmedia.com/t5_7glvj/styles/profileIcon_lh9nihdi2dq01.jpg?fit=crop&crop=faces%2Centropy&arh=1.0&w=256&h=256&s=66eefb9bf60237fbd1d46eaceeabda46', 'over_18': False, 'is_default_banner': True, 'user_is_contributor': False, 'icon_color': '', 'header_size': None, 'user_is_muted': False, 'banner_size': None, 'user_is_subscriber': False, 'banner_img': None, 'title': 'Triple Em', 'default_set': True, 'primary_color': ''}, 'is_gold': False, 'is_friend': False, 'id': 'aulv12x', 'has_verified_email': True, 'pref_show_snoovatar': False, 'created': 1503012867.0, 'created_utc': 1502984067.0, 'link_karma': 299}\n",
      "Sending a message to user mknzie with data {'first_comment_week': 3, 'username': 'mknzie', 'url': 'https://docs.google.com/forms/d/e/1FAIpQLSfmgOcsF0ALqWGPHGpJq2cwUr-xIG-uizbQqXPzPuTkrPM-Lg/viewform?usp=pp_url&entry.360321409=mknzie&entry.1933578897', 'deleted': False, 'get_info_date': '2018-04-17 13:51:10.360797'}\n"
     ]
    },
    {
     "name": "stderr",
     "output_type": "stream",
     "text": [
      "substituting https://oauth.reddit.com for https://api.reddit.com in url\n",
      "GET: https://oauth.reddit.com/user/mknzie/about/.json\n",
      "substituting https://oauth.reddit.com for https://api.reddit.com in url\n",
      "POST: https://oauth.reddit.com/api/compose/.json\n"
     ]
    },
    {
     "name": "stdout",
     "output_type": "stream",
     "text": [
      "Message successfully sent to user mknzie\n",
      "APPENDING TO FILE: {'username': 'mknzie', 'get_info_date': '2018-04-17 13:51:10.360797', 'deleted': False, 'url': 'https://docs.google.com/forms/d/e/1FAIpQLSfmgOcsF0ALqWGPHGpJq2cwUr-xIG-uizbQqXPzPuTkrPM-Lg/viewform?usp=pp_url&entry.360321409=mknzie&entry.1933578897', 'first_comment_week': 3}\n",
      "first_comment_week: 3\n",
      "url: https://docs.google.com/forms/d/e/1FAIpQLSfmgOcsF0ALqWGPHGpJq2cwUr-xIG-uizbQqXPzPuTkrPM-Lg/viewform?usp=pp_url&entry.360321409=mknzie&entry.1933578897\n",
      "get_info_data: 2018-04-17 13:51:10.360797\n",
      "deleted: False\n",
      "User whoz_thegoodboy found: {'is_mod': False, 'has_subscribed': True, 'hide_from_robots': False, 'verified': True, 'icon_img': 'https://www.redditstatic.com/avatars/avatar_default_01_FF4500.png', 'is_employee': False, 'comment_karma': 27, 'name': 'whoz_thegoodboy', 'subreddit': {'icon_size': [256, 256], 'key_color': '', 'link_flair_enabled': False, 'subreddit_type': 'user', 'name': 't5_g7d9e', 'user_is_moderator': False, 'community_icon': '', 'header_img': None, 'public_description': '', 'show_media': True, 'audience_target': '', 'url': '/user/whoz_thegoodboy/', 'description': '', 'display_name_prefixed': 'u/whoz_thegoodboy', 'subscribers': 0, 'display_name': 'u_whoz_thegoodboy', 'user_is_banned': False, 'is_default_icon': True, 'icon_img': 'https://www.redditstatic.com/avatars/avatar_default_01_FF4500.png', 'over_18': False, 'is_default_banner': True, 'user_is_contributor': False, 'icon_color': '#FF4500', 'header_size': None, 'user_is_muted': False, 'banner_size': None, 'user_is_subscriber': False, 'banner_img': '', 'title': '', 'default_set': True, 'primary_color': ''}, 'is_gold': False, 'is_friend': False, 'id': 'ul7jj90', 'has_verified_email': True, 'pref_show_snoovatar': False, 'created': 1519589067.0, 'created_utc': 1519560267.0, 'link_karma': 1}\n",
      "Sending a message to user whoz_thegoodboy with data {'first_comment_week': 3, 'username': 'whoz_thegoodboy', 'url': 'https://docs.google.com/forms/d/e/1FAIpQLSfmgOcsF0ALqWGPHGpJq2cwUr-xIG-uizbQqXPzPuTkrPM-Lg/viewform?usp=pp_url&entry.360321409=whoz_thegoodboy&entry.1933578897', 'deleted': False, 'get_info_date': '2018-04-17 13:51:14.674184'}\n"
     ]
    },
    {
     "name": "stderr",
     "output_type": "stream",
     "text": [
      "substituting https://oauth.reddit.com for https://api.reddit.com in url\n",
      "GET: https://oauth.reddit.com/user/whoz_thegoodboy/about/.json\n",
      "substituting https://oauth.reddit.com for https://api.reddit.com in url\n",
      "POST: https://oauth.reddit.com/api/compose/.json\n"
     ]
    },
    {
     "name": "stdout",
     "output_type": "stream",
     "text": [
      "Message successfully sent to user whoz_thegoodboy\n",
      "APPENDING TO FILE: {'username': 'whoz_thegoodboy', 'get_info_date': '2018-04-17 13:51:14.674184', 'deleted': False, 'url': 'https://docs.google.com/forms/d/e/1FAIpQLSfmgOcsF0ALqWGPHGpJq2cwUr-xIG-uizbQqXPzPuTkrPM-Lg/viewform?usp=pp_url&entry.360321409=whoz_thegoodboy&entry.1933578897', 'first_comment_week': 3}\n",
      "first_comment_week: 3\n",
      "url: https://docs.google.com/forms/d/e/1FAIpQLSfmgOcsF0ALqWGPHGpJq2cwUr-xIG-uizbQqXPzPuTkrPM-Lg/viewform?usp=pp_url&entry.360321409=whoz_thegoodboy&entry.1933578897\n",
      "get_info_data: 2018-04-17 13:51:14.674184\n",
      "deleted: False\n",
      "User GR1MR3AP3R554 found: {'is_mod': True, 'has_subscribed': True, 'hide_from_robots': False, 'verified': True, 'icon_img': 'https://www.redditstatic.com/avatars/avatar_default_03_4856A3.png', 'is_employee': False, 'comment_karma': 343, 'name': 'GR1MR3AP3R554', 'subreddit': {'icon_size': [256, 256], 'key_color': '', 'link_flair_enabled': False, 'subreddit_type': 'user', 'name': 't5_836ea', 'user_is_moderator': False, 'community_icon': '', 'header_img': None, 'public_description': '', 'show_media': True, 'audience_target': '', 'url': '/user/GR1MR3AP3R554/', 'description': '', 'display_name_prefixed': 'u/GR1MR3AP3R554', 'subscribers': 0, 'display_name': 'u_GR1MR3AP3R554', 'user_is_banned': False, 'is_default_icon': True, 'icon_img': 'https://www.redditstatic.com/avatars/avatar_default_03_4856A3.png', 'over_18': False, 'is_default_banner': True, 'user_is_contributor': False, 'icon_color': '#4856A3', 'header_size': None, 'user_is_muted': False, 'banner_size': None, 'user_is_subscriber': False, 'banner_img': '', 'title': '', 'default_set': True, 'primary_color': ''}, 'is_gold': False, 'is_friend': False, 'id': '4jsmxsi', 'has_verified_email': True, 'pref_show_snoovatar': False, 'created': 1497928208.0, 'created_utc': 1497899408.0, 'link_karma': 12819}\n",
      "Sending a message to user GR1MR3AP3R554 with data {'first_comment_week': 3, 'username': 'GR1MR3AP3R554', 'url': 'https://docs.google.com/forms/d/e/1FAIpQLSfmgOcsF0ALqWGPHGpJq2cwUr-xIG-uizbQqXPzPuTkrPM-Lg/viewform?usp=pp_url&entry.360321409=GR1MR3AP3R554&entry.1933578897', 'deleted': False, 'get_info_date': '2018-04-17 13:51:19.283168'}\n"
     ]
    },
    {
     "name": "stderr",
     "output_type": "stream",
     "text": [
      "substituting https://oauth.reddit.com for https://api.reddit.com in url\n",
      "GET: https://oauth.reddit.com/user/GR1MR3AP3R554/about/.json\n",
      "substituting https://oauth.reddit.com for https://api.reddit.com in url\n",
      "POST: https://oauth.reddit.com/api/compose/.json\n"
     ]
    },
    {
     "name": "stdout",
     "output_type": "stream",
     "text": [
      "Message successfully sent to user GR1MR3AP3R554\n",
      "APPENDING TO FILE: {'username': 'GR1MR3AP3R554', 'get_info_date': '2018-04-17 13:51:19.283168', 'deleted': False, 'url': 'https://docs.google.com/forms/d/e/1FAIpQLSfmgOcsF0ALqWGPHGpJq2cwUr-xIG-uizbQqXPzPuTkrPM-Lg/viewform?usp=pp_url&entry.360321409=GR1MR3AP3R554&entry.1933578897', 'first_comment_week': 3}\n",
      "first_comment_week: 3\n",
      "url: https://docs.google.com/forms/d/e/1FAIpQLSfmgOcsF0ALqWGPHGpJq2cwUr-xIG-uizbQqXPzPuTkrPM-Lg/viewform?usp=pp_url&entry.360321409=GR1MR3AP3R554&entry.1933578897\n",
      "get_info_data: 2018-04-17 13:51:19.283168\n",
      "deleted: False\n",
      "User chaosisanescalator found: {'is_mod': False, 'has_subscribed': True, 'hide_from_robots': False, 'verified': True, 'icon_img': 'https://www.redditstatic.com/avatars/avatar_default_17_25B79F.png', 'is_employee': False, 'comment_karma': 554, 'name': 'chaosisanescalator', 'subreddit': {'icon_size': [256, 256], 'key_color': '', 'link_flair_enabled': False, 'subreddit_type': 'user', 'name': 't5_gabh0', 'user_is_moderator': False, 'community_icon': '', 'header_img': None, 'public_description': '', 'show_media': True, 'audience_target': '', 'url': '/user/chaosisanescalator/', 'description': '', 'display_name_prefixed': 'u/chaosisanescalator', 'subscribers': 0, 'display_name': 'u_chaosisanescalator', 'user_is_banned': False, 'is_default_icon': True, 'icon_img': 'https://www.redditstatic.com/avatars/avatar_default_17_25B79F.png', 'over_18': False, 'is_default_banner': True, 'user_is_contributor': False, 'icon_color': '#25B79F', 'header_size': None, 'user_is_muted': False, 'banner_size': None, 'user_is_subscriber': False, 'banner_img': '', 'title': '', 'default_set': True, 'primary_color': ''}, 'is_gold': False, 'is_friend': False, 'id': 'z2cduk4', 'has_verified_email': False, 'pref_show_snoovatar': False, 'created': 1519773021.0, 'created_utc': 1519744221.0, 'link_karma': 1}\n",
      "Sending a message to user chaosisanescalator with data {'first_comment_week': 3, 'username': 'chaosisanescalator', 'url': 'https://docs.google.com/forms/d/e/1FAIpQLSfmgOcsF0ALqWGPHGpJq2cwUr-xIG-uizbQqXPzPuTkrPM-Lg/viewform?usp=pp_url&entry.360321409=chaosisanescalator&entry.1933578897', 'deleted': False, 'get_info_date': '2018-04-17 13:51:23.619702'}\n"
     ]
    },
    {
     "name": "stderr",
     "output_type": "stream",
     "text": [
      "substituting https://oauth.reddit.com for https://api.reddit.com in url\n",
      "GET: https://oauth.reddit.com/user/chaosisanescalator/about/.json\n",
      "substituting https://oauth.reddit.com for https://api.reddit.com in url\n",
      "POST: https://oauth.reddit.com/api/compose/.json\n"
     ]
    },
    {
     "name": "stdout",
     "output_type": "stream",
     "text": [
      "Message successfully sent to user chaosisanescalator\n",
      "APPENDING TO FILE: {'username': 'chaosisanescalator', 'get_info_date': '2018-04-17 13:51:23.619702', 'deleted': False, 'url': 'https://docs.google.com/forms/d/e/1FAIpQLSfmgOcsF0ALqWGPHGpJq2cwUr-xIG-uizbQqXPzPuTkrPM-Lg/viewform?usp=pp_url&entry.360321409=chaosisanescalator&entry.1933578897', 'first_comment_week': 3}\n",
      "first_comment_week: 3\n",
      "url: https://docs.google.com/forms/d/e/1FAIpQLSfmgOcsF0ALqWGPHGpJq2cwUr-xIG-uizbQqXPzPuTkrPM-Lg/viewform?usp=pp_url&entry.360321409=chaosisanescalator&entry.1933578897\n",
      "get_info_data: 2018-04-17 13:51:23.619702\n",
      "deleted: False\n",
      "User BasilandLavender found: {'is_mod': False, 'has_subscribed': True, 'hide_from_robots': False, 'verified': True, 'icon_img': 'https://www.redditstatic.com/avatars/avatar_default_19_545452.png', 'is_employee': False, 'comment_karma': 654, 'name': 'BasilandLavender', 'subreddit': {'icon_size': [256, 256], 'key_color': '', 'link_flair_enabled': False, 'subreddit_type': 'user', 'name': 't5_ftzhw', 'user_is_moderator': False, 'community_icon': '', 'header_img': None, 'public_description': '', 'show_media': True, 'audience_target': '', 'url': '/user/BasilandLavender/', 'description': '', 'display_name_prefixed': 'u/BasilandLavender', 'subscribers': 0, 'display_name': 'u_BasilandLavender', 'user_is_banned': False, 'is_default_icon': True, 'icon_img': 'https://www.redditstatic.com/avatars/avatar_default_19_545452.png', 'over_18': False, 'is_default_banner': True, 'user_is_contributor': False, 'icon_color': '#545452', 'header_size': None, 'user_is_muted': False, 'banner_size': None, 'user_is_subscriber': False, 'banner_img': '', 'title': '', 'default_set': True, 'primary_color': ''}, 'is_gold': False, 'is_friend': False, 'id': 'x6hqpbu', 'has_verified_email': False, 'pref_show_snoovatar': False, 'created': 1518736121.0, 'created_utc': 1518707321.0, 'link_karma': 1}\n",
      "Sending a message to user BasilandLavender with data {'first_comment_week': 3, 'username': 'BasilandLavender', 'url': 'https://docs.google.com/forms/d/e/1FAIpQLSfmgOcsF0ALqWGPHGpJq2cwUr-xIG-uizbQqXPzPuTkrPM-Lg/viewform?usp=pp_url&entry.360321409=BasilandLavender&entry.1933578897', 'deleted': False, 'get_info_date': '2018-04-17 13:51:27.792366'}\n"
     ]
    },
    {
     "name": "stderr",
     "output_type": "stream",
     "text": [
      "substituting https://oauth.reddit.com for https://api.reddit.com in url\n",
      "GET: https://oauth.reddit.com/user/BasilandLavender/about/.json\n",
      "substituting https://oauth.reddit.com for https://api.reddit.com in url\n",
      "POST: https://oauth.reddit.com/api/compose/.json\n"
     ]
    },
    {
     "name": "stdout",
     "output_type": "stream",
     "text": [
      "Message successfully sent to user BasilandLavender\n",
      "APPENDING TO FILE: {'username': 'BasilandLavender', 'get_info_date': '2018-04-17 13:51:27.792366', 'deleted': False, 'url': 'https://docs.google.com/forms/d/e/1FAIpQLSfmgOcsF0ALqWGPHGpJq2cwUr-xIG-uizbQqXPzPuTkrPM-Lg/viewform?usp=pp_url&entry.360321409=BasilandLavender&entry.1933578897', 'first_comment_week': 3}\n",
      "first_comment_week: 3\n",
      "url: https://docs.google.com/forms/d/e/1FAIpQLSfmgOcsF0ALqWGPHGpJq2cwUr-xIG-uizbQqXPzPuTkrPM-Lg/viewform?usp=pp_url&entry.360321409=BasilandLavender&entry.1933578897\n",
      "get_info_data: 2018-04-17 13:51:27.792366\n",
      "deleted: False\n",
      "User Dorothy__Mantooth found: {'is_mod': False, 'has_subscribed': True, 'hide_from_robots': False, 'verified': True, 'icon_img': 'https://www.redditstatic.com/avatars/avatar_default_16_46D160.png', 'is_employee': False, 'comment_karma': 10515, 'name': 'Dorothy__Mantooth', 'subreddit': {'icon_size': [256, 256], 'key_color': '', 'link_flair_enabled': False, 'subreddit_type': 'user', 'name': 't5_bey17', 'user_is_moderator': False, 'community_icon': '', 'header_img': None, 'public_description': '', 'show_media': True, 'audience_target': '', 'url': '/user/Dorothy__Mantooth/', 'description': '', 'display_name_prefixed': 'u/Dorothy__Mantooth', 'subscribers': 0, 'display_name': 'u_Dorothy__Mantooth', 'user_is_banned': False, 'is_default_icon': True, 'icon_img': 'https://www.redditstatic.com/avatars/avatar_default_16_46D160.png', 'over_18': False, 'is_default_banner': True, 'user_is_contributor': False, 'icon_color': '#46D160', 'header_size': None, 'user_is_muted': False, 'banner_size': None, 'user_is_subscriber': False, 'banner_img': '', 'title': '', 'default_set': True, 'primary_color': ''}, 'is_gold': False, 'is_friend': False, 'id': 'c8fsr', 'has_verified_email': False, 'pref_show_snoovatar': False, 'created': 1372772545.0, 'created_utc': 1372743745.0, 'link_karma': 473}\n",
      "Sending a message to user Dorothy__Mantooth with data {'first_comment_week': 3, 'username': 'Dorothy__Mantooth', 'url': 'https://docs.google.com/forms/d/e/1FAIpQLSfmgOcsF0ALqWGPHGpJq2cwUr-xIG-uizbQqXPzPuTkrPM-Lg/viewform?usp=pp_url&entry.360321409=Dorothy__Mantooth&entry.1933578897', 'deleted': False, 'get_info_date': '2018-04-17 13:51:32.010590'}\n"
     ]
    },
    {
     "name": "stderr",
     "output_type": "stream",
     "text": [
      "substituting https://oauth.reddit.com for https://api.reddit.com in url\n",
      "GET: https://oauth.reddit.com/user/Dorothy__Mantooth/about/.json\n",
      "substituting https://oauth.reddit.com for https://api.reddit.com in url\n",
      "POST: https://oauth.reddit.com/api/compose/.json\n"
     ]
    },
    {
     "name": "stdout",
     "output_type": "stream",
     "text": [
      "Message successfully sent to user Dorothy__Mantooth\n",
      "APPENDING TO FILE: {'username': 'Dorothy__Mantooth', 'get_info_date': '2018-04-17 13:51:32.010590', 'deleted': False, 'url': 'https://docs.google.com/forms/d/e/1FAIpQLSfmgOcsF0ALqWGPHGpJq2cwUr-xIG-uizbQqXPzPuTkrPM-Lg/viewform?usp=pp_url&entry.360321409=Dorothy__Mantooth&entry.1933578897', 'first_comment_week': 3}\n",
      "first_comment_week: 3\n",
      "url: https://docs.google.com/forms/d/e/1FAIpQLSfmgOcsF0ALqWGPHGpJq2cwUr-xIG-uizbQqXPzPuTkrPM-Lg/viewform?usp=pp_url&entry.360321409=Dorothy__Mantooth&entry.1933578897\n",
      "get_info_data: 2018-04-17 13:51:32.010590\n",
      "deleted: False\n",
      "User gizonak found: {'is_mod': False, 'has_subscribed': True, 'hide_from_robots': False, 'verified': True, 'icon_img': 'https://www.redditstatic.com/avatars/avatar_default_13_46A508.png', 'is_employee': False, 'comment_karma': 2331, 'name': 'gizonak', 'subreddit': {'icon_size': [256, 256], 'key_color': '', 'link_flair_enabled': False, 'subreddit_type': 'user', 'name': 't5_8075k', 'user_is_moderator': False, 'community_icon': '', 'header_img': None, 'public_description': '', 'show_media': True, 'audience_target': '', 'url': '/user/gizonak/', 'description': '', 'display_name_prefixed': 'u/gizonak', 'subscribers': 0, 'display_name': 'u_gizonak', 'user_is_banned': False, 'is_default_icon': True, 'icon_img': 'https://www.redditstatic.com/avatars/avatar_default_13_46A508.png', 'over_18': False, 'is_default_banner': True, 'user_is_contributor': False, 'icon_color': '#46A508', 'header_size': None, 'user_is_muted': False, 'banner_size': None, 'user_is_subscriber': False, 'banner_img': '', 'title': '', 'default_set': True, 'primary_color': ''}, 'is_gold': False, 'is_friend': False, 'id': 'by95418', 'has_verified_email': True, 'pref_show_snoovatar': False, 'created': 1503916251.0, 'created_utc': 1503887451.0, 'link_karma': 109}\n",
      "Sending a message to user gizonak with data {'first_comment_week': 3, 'username': 'gizonak', 'url': 'https://docs.google.com/forms/d/e/1FAIpQLSfmgOcsF0ALqWGPHGpJq2cwUr-xIG-uizbQqXPzPuTkrPM-Lg/viewform?usp=pp_url&entry.360321409=gizonak&entry.1933578897', 'deleted': False, 'get_info_date': '2018-04-17 13:51:36.089227'}\n"
     ]
    },
    {
     "name": "stderr",
     "output_type": "stream",
     "text": [
      "substituting https://oauth.reddit.com for https://api.reddit.com in url\n",
      "GET: https://oauth.reddit.com/user/gizonak/about/.json\n",
      "substituting https://oauth.reddit.com for https://api.reddit.com in url\n",
      "POST: https://oauth.reddit.com/api/compose/.json\n"
     ]
    },
    {
     "name": "stdout",
     "output_type": "stream",
     "text": [
      "Message successfully sent to user gizonak\n",
      "APPENDING TO FILE: {'username': 'gizonak', 'get_info_date': '2018-04-17 13:51:36.089227', 'deleted': False, 'url': 'https://docs.google.com/forms/d/e/1FAIpQLSfmgOcsF0ALqWGPHGpJq2cwUr-xIG-uizbQqXPzPuTkrPM-Lg/viewform?usp=pp_url&entry.360321409=gizonak&entry.1933578897', 'first_comment_week': 3}\n",
      "first_comment_week: 3\n",
      "url: https://docs.google.com/forms/d/e/1FAIpQLSfmgOcsF0ALqWGPHGpJq2cwUr-xIG-uizbQqXPzPuTkrPM-Lg/viewform?usp=pp_url&entry.360321409=gizonak&entry.1933578897\n",
      "get_info_data: 2018-04-17 13:51:36.089227\n",
      "deleted: False\n",
      "User Zennyzen0 found: {'is_mod': True, 'has_subscribed': True, 'hide_from_robots': False, 'verified': False, 'icon_img': 'https://www.redditstatic.com/avatars/avatar_default_15_C18D42.png', 'is_employee': False, 'comment_karma': 180, 'name': 'Zennyzen0', 'subreddit': None, 'is_gold': False, 'is_friend': False, 'id': 'boxba', 'has_verified_email': True, 'pref_show_snoovatar': False, 'created': 1368688717.0, 'created_utc': 1368659917.0, 'link_karma': 93}\n",
      "Sending a message to user Zennyzen0 with data {'first_comment_week': 3, 'username': 'Zennyzen0', 'url': 'https://docs.google.com/forms/d/e/1FAIpQLSfmgOcsF0ALqWGPHGpJq2cwUr-xIG-uizbQqXPzPuTkrPM-Lg/viewform?usp=pp_url&entry.360321409=Zennyzen0&entry.1933578897', 'deleted': False, 'get_info_date': '2018-04-17 13:51:40.267032'}\n"
     ]
    },
    {
     "name": "stderr",
     "output_type": "stream",
     "text": [
      "substituting https://oauth.reddit.com for https://api.reddit.com in url\n",
      "GET: https://oauth.reddit.com/user/Zennyzen0/about/.json\n",
      "substituting https://oauth.reddit.com for https://api.reddit.com in url\n",
      "POST: https://oauth.reddit.com/api/compose/.json\n"
     ]
    },
    {
     "name": "stdout",
     "output_type": "stream",
     "text": [
      "Message successfully sent to user Zennyzen0\n",
      "APPENDING TO FILE: {'username': 'Zennyzen0', 'get_info_date': '2018-04-17 13:51:40.267032', 'deleted': False, 'url': 'https://docs.google.com/forms/d/e/1FAIpQLSfmgOcsF0ALqWGPHGpJq2cwUr-xIG-uizbQqXPzPuTkrPM-Lg/viewform?usp=pp_url&entry.360321409=Zennyzen0&entry.1933578897', 'first_comment_week': 3}\n",
      "first_comment_week: 3\n",
      "url: https://docs.google.com/forms/d/e/1FAIpQLSfmgOcsF0ALqWGPHGpJq2cwUr-xIG-uizbQqXPzPuTkrPM-Lg/viewform?usp=pp_url&entry.360321409=Zennyzen0&entry.1933578897\n",
      "get_info_data: 2018-04-17 13:51:40.267032\n",
      "deleted: False\n",
      "User IzziLikesOatmeal found: {'is_mod': False, 'has_subscribed': True, 'hide_from_robots': False, 'verified': True, 'icon_img': 'https://www.redditstatic.com/avatars/avatar_default_10_4856A3.png', 'is_employee': False, 'comment_karma': 3, 'name': 'IzziLikesOatmeal', 'subreddit': {'icon_size': [256, 256], 'key_color': '', 'link_flair_enabled': False, 'subreddit_type': 'user', 'name': 't5_gt074', 'user_is_moderator': False, 'community_icon': '', 'header_img': None, 'public_description': '', 'show_media': True, 'audience_target': '', 'url': '/user/IzziLikesOatmeal/', 'description': '', 'display_name_prefixed': 'u/IzziLikesOatmeal', 'subscribers': 0, 'display_name': 'u_IzziLikesOatmeal', 'user_is_banned': False, 'is_default_icon': True, 'icon_img': 'https://www.redditstatic.com/avatars/avatar_default_10_4856A3.png', 'over_18': False, 'is_default_banner': True, 'user_is_contributor': False, 'icon_color': '#4856A3', 'header_size': None, 'user_is_muted': False, 'banner_size': None, 'user_is_subscriber': False, 'banner_img': '', 'title': '', 'default_set': True, 'primary_color': ''}, 'is_gold': False, 'is_friend': False, 'id': '11b8ec3t', 'has_verified_email': True, 'pref_show_snoovatar': False, 'created': 1520973393.0, 'created_utc': 1520944593.0, 'link_karma': 1}\n",
      "Sending a message to user IzziLikesOatmeal with data {'first_comment_week': 3, 'username': 'IzziLikesOatmeal', 'url': 'https://docs.google.com/forms/d/e/1FAIpQLSfmgOcsF0ALqWGPHGpJq2cwUr-xIG-uizbQqXPzPuTkrPM-Lg/viewform?usp=pp_url&entry.360321409=IzziLikesOatmeal&entry.1933578897', 'deleted': False, 'get_info_date': '2018-04-17 13:51:44.804480'}\n"
     ]
    },
    {
     "name": "stderr",
     "output_type": "stream",
     "text": [
      "substituting https://oauth.reddit.com for https://api.reddit.com in url\n",
      "GET: https://oauth.reddit.com/user/IzziLikesOatmeal/about/.json\n",
      "substituting https://oauth.reddit.com for https://api.reddit.com in url\n",
      "POST: https://oauth.reddit.com/api/compose/.json\n"
     ]
    },
    {
     "name": "stdout",
     "output_type": "stream",
     "text": [
      "Message successfully sent to user IzziLikesOatmeal\n",
      "APPENDING TO FILE: {'username': 'IzziLikesOatmeal', 'get_info_date': '2018-04-17 13:51:44.804480', 'deleted': False, 'url': 'https://docs.google.com/forms/d/e/1FAIpQLSfmgOcsF0ALqWGPHGpJq2cwUr-xIG-uizbQqXPzPuTkrPM-Lg/viewform?usp=pp_url&entry.360321409=IzziLikesOatmeal&entry.1933578897', 'first_comment_week': 3}\n",
      "first_comment_week: 3\n",
      "url: https://docs.google.com/forms/d/e/1FAIpQLSfmgOcsF0ALqWGPHGpJq2cwUr-xIG-uizbQqXPzPuTkrPM-Lg/viewform?usp=pp_url&entry.360321409=IzziLikesOatmeal&entry.1933578897\n",
      "get_info_data: 2018-04-17 13:51:44.804480\n",
      "deleted: False\n",
      "User young_mr_young found: {'is_mod': False, 'has_subscribed': True, 'hide_from_robots': False, 'verified': True, 'icon_img': 'https://www.redditstatic.com/avatars/avatar_default_12_FF66AC.png', 'is_employee': False, 'comment_karma': 984, 'name': 'young_mr_young', 'subreddit': {'icon_size': [256, 256], 'key_color': '', 'link_flair_enabled': False, 'subreddit_type': 'user', 'name': 't5_anbyj', 'user_is_moderator': False, 'community_icon': '', 'header_img': None, 'public_description': '', 'show_media': True, 'audience_target': '', 'url': '/user/young_mr_young/', 'description': '', 'display_name_prefixed': 'u/young_mr_young', 'subscribers': 0, 'display_name': 'u_young_mr_young', 'user_is_banned': False, 'is_default_icon': True, 'icon_img': 'https://www.redditstatic.com/avatars/avatar_default_12_FF66AC.png', 'over_18': False, 'is_default_banner': True, 'user_is_contributor': False, 'icon_color': '#FF66AC', 'header_size': None, 'user_is_muted': False, 'banner_size': None, 'user_is_subscriber': False, 'banner_img': '', 'title': '', 'default_set': True, 'primary_color': ''}, 'is_gold': False, 'is_friend': False, 'id': '14jvuv', 'has_verified_email': True, 'pref_show_snoovatar': False, 'created': 1484771397.0, 'created_utc': 1484742597.0, 'link_karma': 1}\n",
      "Sending a message to user young_mr_young with data {'first_comment_week': 3, 'username': 'young_mr_young', 'url': 'https://docs.google.com/forms/d/e/1FAIpQLSfmgOcsF0ALqWGPHGpJq2cwUr-xIG-uizbQqXPzPuTkrPM-Lg/viewform?usp=pp_url&entry.360321409=young_mr_young&entry.1933578897', 'deleted': False, 'get_info_date': '2018-04-17 13:51:48.903824'}\n"
     ]
    },
    {
     "name": "stderr",
     "output_type": "stream",
     "text": [
      "substituting https://oauth.reddit.com for https://api.reddit.com in url\n",
      "GET: https://oauth.reddit.com/user/young_mr_young/about/.json\n",
      "substituting https://oauth.reddit.com for https://api.reddit.com in url\n",
      "POST: https://oauth.reddit.com/api/compose/.json\n"
     ]
    },
    {
     "name": "stdout",
     "output_type": "stream",
     "text": [
      "Message successfully sent to user young_mr_young\n",
      "APPENDING TO FILE: {'username': 'young_mr_young', 'get_info_date': '2018-04-17 13:51:48.903824', 'deleted': False, 'url': 'https://docs.google.com/forms/d/e/1FAIpQLSfmgOcsF0ALqWGPHGpJq2cwUr-xIG-uizbQqXPzPuTkrPM-Lg/viewform?usp=pp_url&entry.360321409=young_mr_young&entry.1933578897', 'first_comment_week': 3}\n",
      "first_comment_week: 3\n",
      "url: https://docs.google.com/forms/d/e/1FAIpQLSfmgOcsF0ALqWGPHGpJq2cwUr-xIG-uizbQqXPzPuTkrPM-Lg/viewform?usp=pp_url&entry.360321409=young_mr_young&entry.1933578897\n",
      "get_info_data: 2018-04-17 13:51:48.903824\n",
      "deleted: False\n",
      "User Matacks607 found: {'is_mod': False, 'has_subscribed': True, 'hide_from_robots': False, 'verified': True, 'icon_img': 'https://www.redditstatic.com/avatars/avatar_default_18_FF4500.png', 'is_employee': False, 'comment_karma': 935, 'name': 'Matacks607', 'subreddit': {'icon_size': [256, 256], 'key_color': '', 'link_flair_enabled': False, 'subreddit_type': 'user', 'name': 't5_ds58i', 'user_is_moderator': False, 'community_icon': '', 'header_img': None, 'public_description': '', 'show_media': True, 'audience_target': '', 'url': '/user/Matacks607/', 'description': '', 'display_name_prefixed': 'u/Matacks607', 'subscribers': 0, 'display_name': 'u_Matacks607', 'user_is_banned': False, 'is_default_icon': True, 'icon_img': 'https://www.redditstatic.com/avatars/avatar_default_18_FF4500.png', 'over_18': False, 'is_default_banner': True, 'user_is_contributor': False, 'icon_color': '#FF4500', 'header_size': None, 'user_is_muted': False, 'banner_size': None, 'user_is_subscriber': False, 'banner_img': '', 'title': '', 'default_set': True, 'primary_color': ''}, 'is_gold': False, 'is_friend': False, 'id': '13h7ld', 'has_verified_email': True, 'pref_show_snoovatar': False, 'created': 1481461577.0, 'created_utc': 1481432777.0, 'link_karma': 56}\n",
      "Sending a message to user Matacks607 with data {'first_comment_week': 3, 'username': 'Matacks607', 'url': 'https://docs.google.com/forms/d/e/1FAIpQLSfmgOcsF0ALqWGPHGpJq2cwUr-xIG-uizbQqXPzPuTkrPM-Lg/viewform?usp=pp_url&entry.360321409=Matacks607&entry.1933578897', 'deleted': False, 'get_info_date': '2018-04-17 13:51:53.078226'}\n"
     ]
    },
    {
     "name": "stderr",
     "output_type": "stream",
     "text": [
      "substituting https://oauth.reddit.com for https://api.reddit.com in url\n",
      "GET: https://oauth.reddit.com/user/Matacks607/about/.json\n",
      "substituting https://oauth.reddit.com for https://api.reddit.com in url\n",
      "POST: https://oauth.reddit.com/api/compose/.json\n"
     ]
    },
    {
     "name": "stdout",
     "output_type": "stream",
     "text": [
      "Message successfully sent to user Matacks607\n",
      "APPENDING TO FILE: {'username': 'Matacks607', 'get_info_date': '2018-04-17 13:51:53.078226', 'deleted': False, 'url': 'https://docs.google.com/forms/d/e/1FAIpQLSfmgOcsF0ALqWGPHGpJq2cwUr-xIG-uizbQqXPzPuTkrPM-Lg/viewform?usp=pp_url&entry.360321409=Matacks607&entry.1933578897', 'first_comment_week': 3}\n",
      "first_comment_week: 3\n",
      "url: https://docs.google.com/forms/d/e/1FAIpQLSfmgOcsF0ALqWGPHGpJq2cwUr-xIG-uizbQqXPzPuTkrPM-Lg/viewform?usp=pp_url&entry.360321409=Matacks607&entry.1933578897\n",
      "get_info_data: 2018-04-17 13:51:53.078226\n",
      "deleted: False\n",
      "User lambydandy found: {'is_mod': False, 'has_subscribed': False, 'hide_from_robots': False, 'verified': True, 'icon_img': 'https://www.redditstatic.com/avatars/avatar_default_06_94E044.png', 'is_employee': False, 'comment_karma': 260, 'name': 'lambydandy', 'subreddit': {'icon_size': [256, 256], 'key_color': '', 'link_flair_enabled': False, 'subreddit_type': 'user', 'name': 't5_dhiuv', 'user_is_moderator': False, 'community_icon': '', 'header_img': None, 'public_description': '', 'show_media': True, 'audience_target': '', 'url': '/user/lambydandy/', 'description': '', 'display_name_prefixed': 'u/lambydandy', 'subscribers': 0, 'display_name': 'u_lambydandy', 'user_is_banned': False, 'is_default_icon': True, 'icon_img': 'https://www.redditstatic.com/avatars/avatar_default_06_94E044.png', 'over_18': False, 'is_default_banner': True, 'user_is_contributor': False, 'icon_color': '#94E044', 'header_size': None, 'user_is_muted': False, 'banner_size': None, 'user_is_subscriber': False, 'banner_img': '', 'title': '', 'default_set': True, 'primary_color': ''}, 'is_gold': False, 'is_friend': False, 'id': 'rzjvx', 'has_verified_email': True, 'pref_show_snoovatar': False, 'created': 1447414416.0, 'created_utc': 1447385616.0, 'link_karma': 82}\n",
      "Sending a message to user lambydandy with data {'first_comment_week': 3, 'username': 'lambydandy', 'url': 'https://docs.google.com/forms/d/e/1FAIpQLSfmgOcsF0ALqWGPHGpJq2cwUr-xIG-uizbQqXPzPuTkrPM-Lg/viewform?usp=pp_url&entry.360321409=lambydandy&entry.1933578897', 'deleted': False, 'get_info_date': '2018-04-17 13:51:57.527550'}\n"
     ]
    },
    {
     "name": "stderr",
     "output_type": "stream",
     "text": [
      "substituting https://oauth.reddit.com for https://api.reddit.com in url\n",
      "GET: https://oauth.reddit.com/user/lambydandy/about/.json\n",
      "substituting https://oauth.reddit.com for https://api.reddit.com in url\n",
      "POST: https://oauth.reddit.com/api/compose/.json\n"
     ]
    },
    {
     "name": "stdout",
     "output_type": "stream",
     "text": [
      "Message successfully sent to user lambydandy\n",
      "APPENDING TO FILE: {'username': 'lambydandy', 'get_info_date': '2018-04-17 13:51:57.527550', 'deleted': False, 'url': 'https://docs.google.com/forms/d/e/1FAIpQLSfmgOcsF0ALqWGPHGpJq2cwUr-xIG-uizbQqXPzPuTkrPM-Lg/viewform?usp=pp_url&entry.360321409=lambydandy&entry.1933578897', 'first_comment_week': 3}\n",
      "first_comment_week: 3\n",
      "url: https://docs.google.com/forms/d/e/1FAIpQLSfmgOcsF0ALqWGPHGpJq2cwUr-xIG-uizbQqXPzPuTkrPM-Lg/viewform?usp=pp_url&entry.360321409=lambydandy&entry.1933578897\n",
      "get_info_data: 2018-04-17 13:51:57.527550\n",
      "deleted: False\n",
      "User believeme2 found: {'is_mod': False, 'has_subscribed': True, 'hide_from_robots': False, 'verified': True, 'icon_img': 'https://www.redditstatic.com/avatars/avatar_default_07_24A0ED.png', 'is_employee': False, 'comment_karma': 36, 'name': 'believeme2', 'subreddit': {'icon_size': [256, 256], 'key_color': '', 'link_flair_enabled': False, 'subreddit_type': 'user', 'name': 't5_clxna', 'user_is_moderator': False, 'community_icon': '', 'header_img': None, 'public_description': '', 'show_media': True, 'audience_target': '', 'url': '/user/believeme2/', 'description': '', 'display_name_prefixed': 'u/believeme2', 'subscribers': 0, 'display_name': 'u_believeme2', 'user_is_banned': False, 'is_default_icon': True, 'icon_img': 'https://www.redditstatic.com/avatars/avatar_default_07_24A0ED.png', 'over_18': False, 'is_default_banner': True, 'user_is_contributor': False, 'icon_color': '#24A0ED', 'header_size': None, 'user_is_muted': False, 'banner_size': None, 'user_is_subscriber': False, 'banner_img': '', 'title': '', 'default_set': True, 'primary_color': ''}, 'is_gold': False, 'is_friend': False, 'id': '12zz8u', 'has_verified_email': True, 'pref_show_snoovatar': False, 'created': 1479872223.0, 'created_utc': 1479843423.0, 'link_karma': 14}\n",
      "Sending a message to user believeme2 with data {'first_comment_week': 3, 'username': 'believeme2', 'url': 'https://docs.google.com/forms/d/e/1FAIpQLSfmgOcsF0ALqWGPHGpJq2cwUr-xIG-uizbQqXPzPuTkrPM-Lg/viewform?usp=pp_url&entry.360321409=believeme2&entry.1933578897', 'deleted': False, 'get_info_date': '2018-04-17 13:52:01.746559'}\n"
     ]
    },
    {
     "name": "stderr",
     "output_type": "stream",
     "text": [
      "substituting https://oauth.reddit.com for https://api.reddit.com in url\n",
      "GET: https://oauth.reddit.com/user/believeme2/about/.json\n",
      "substituting https://oauth.reddit.com for https://api.reddit.com in url\n",
      "POST: https://oauth.reddit.com/api/compose/.json\n"
     ]
    },
    {
     "name": "stdout",
     "output_type": "stream",
     "text": [
      "Message successfully sent to user believeme2\n",
      "APPENDING TO FILE: {'username': 'believeme2', 'get_info_date': '2018-04-17 13:52:01.746559', 'deleted': False, 'url': 'https://docs.google.com/forms/d/e/1FAIpQLSfmgOcsF0ALqWGPHGpJq2cwUr-xIG-uizbQqXPzPuTkrPM-Lg/viewform?usp=pp_url&entry.360321409=believeme2&entry.1933578897', 'first_comment_week': 3}\n",
      "first_comment_week: 3\n",
      "url: https://docs.google.com/forms/d/e/1FAIpQLSfmgOcsF0ALqWGPHGpJq2cwUr-xIG-uizbQqXPzPuTkrPM-Lg/viewform?usp=pp_url&entry.360321409=believeme2&entry.1933578897\n",
      "get_info_data: 2018-04-17 13:52:01.746559\n",
      "deleted: False\n",
      "User unknown69un found: {'is_mod': False, 'has_subscribed': True, 'hide_from_robots': False, 'verified': True, 'icon_img': 'https://www.redditstatic.com/avatars/avatar_default_01_A5A4A4.png', 'is_employee': False, 'comment_karma': -100, 'name': 'unknown69un', 'subreddit': {'icon_size': [256, 256], 'key_color': '', 'link_flair_enabled': False, 'subreddit_type': 'user', 'name': 't5_brd71', 'user_is_moderator': False, 'community_icon': '', 'header_img': None, 'public_description': '', 'show_media': True, 'audience_target': '', 'url': '/user/unknown69un/', 'description': '', 'display_name_prefixed': 'u/unknown69un', 'subscribers': 0, 'display_name': 'u_unknown69un', 'user_is_banned': False, 'is_default_icon': True, 'icon_img': 'https://www.redditstatic.com/avatars/avatar_default_01_A5A4A4.png', 'over_18': False, 'is_default_banner': True, 'user_is_contributor': False, 'icon_color': '#A5A4A4', 'header_size': None, 'user_is_muted': False, 'banner_size': None, 'user_is_subscriber': False, 'banner_img': '', 'title': '', 'default_set': True, 'primary_color': ''}, 'is_gold': False, 'is_friend': False, 'id': 're9r8', 'has_verified_email': True, 'pref_show_snoovatar': False, 'created': 1445619502.0, 'created_utc': 1445590702.0, 'link_karma': 1}\n",
      "Sending a message to user unknown69un with data {'first_comment_week': 3, 'username': 'unknown69un', 'url': 'https://docs.google.com/forms/d/e/1FAIpQLSfmgOcsF0ALqWGPHGpJq2cwUr-xIG-uizbQqXPzPuTkrPM-Lg/viewform?usp=pp_url&entry.360321409=unknown69un&entry.1933578897', 'deleted': False, 'get_info_date': '2018-04-17 13:52:05.947021'}\n"
     ]
    },
    {
     "name": "stderr",
     "output_type": "stream",
     "text": [
      "substituting https://oauth.reddit.com for https://api.reddit.com in url\n",
      "GET: https://oauth.reddit.com/user/unknown69un/about/.json\n",
      "substituting https://oauth.reddit.com for https://api.reddit.com in url\n",
      "POST: https://oauth.reddit.com/api/compose/.json\n"
     ]
    },
    {
     "name": "stdout",
     "output_type": "stream",
     "text": [
      "Message successfully sent to user unknown69un\n",
      "APPENDING TO FILE: {'username': 'unknown69un', 'get_info_date': '2018-04-17 13:52:05.947021', 'deleted': False, 'url': 'https://docs.google.com/forms/d/e/1FAIpQLSfmgOcsF0ALqWGPHGpJq2cwUr-xIG-uizbQqXPzPuTkrPM-Lg/viewform?usp=pp_url&entry.360321409=unknown69un&entry.1933578897', 'first_comment_week': 3}\n",
      "first_comment_week: 3\n",
      "url: https://docs.google.com/forms/d/e/1FAIpQLSfmgOcsF0ALqWGPHGpJq2cwUr-xIG-uizbQqXPzPuTkrPM-Lg/viewform?usp=pp_url&entry.360321409=unknown69un&entry.1933578897\n",
      "get_info_data: 2018-04-17 13:52:05.947021\n",
      "deleted: False\n",
      "User weforgottenuno found: {'is_mod': True, 'has_subscribed': True, 'hide_from_robots': False, 'verified': False, 'icon_img': 'https://www.redditstatic.com/avatars/avatar_default_13_46D160.png', 'is_employee': False, 'comment_karma': 8567, 'name': 'weforgottenuno', 'subreddit': None, 'is_gold': False, 'is_friend': False, 'id': '5hudw', 'has_verified_email': True, 'pref_show_snoovatar': False, 'created': 1310355823.0, 'created_utc': 1310327023.0, 'link_karma': 522}\n",
      "Sending a message to user weforgottenuno with data {'first_comment_week': 3, 'username': 'weforgottenuno', 'url': 'https://docs.google.com/forms/d/e/1FAIpQLSfmgOcsF0ALqWGPHGpJq2cwUr-xIG-uizbQqXPzPuTkrPM-Lg/viewform?usp=pp_url&entry.360321409=weforgottenuno&entry.1933578897', 'deleted': False, 'get_info_date': '2018-04-17 13:52:10.577428'}\n"
     ]
    },
    {
     "name": "stderr",
     "output_type": "stream",
     "text": [
      "substituting https://oauth.reddit.com for https://api.reddit.com in url\n",
      "GET: https://oauth.reddit.com/user/weforgottenuno/about/.json\n",
      "substituting https://oauth.reddit.com for https://api.reddit.com in url\n",
      "POST: https://oauth.reddit.com/api/compose/.json\n"
     ]
    },
    {
     "name": "stdout",
     "output_type": "stream",
     "text": [
      "Message successfully sent to user weforgottenuno\n",
      "APPENDING TO FILE: {'username': 'weforgottenuno', 'get_info_date': '2018-04-17 13:52:10.577428', 'deleted': False, 'url': 'https://docs.google.com/forms/d/e/1FAIpQLSfmgOcsF0ALqWGPHGpJq2cwUr-xIG-uizbQqXPzPuTkrPM-Lg/viewform?usp=pp_url&entry.360321409=weforgottenuno&entry.1933578897', 'first_comment_week': 3}\n",
      "first_comment_week: 3\n",
      "url: https://docs.google.com/forms/d/e/1FAIpQLSfmgOcsF0ALqWGPHGpJq2cwUr-xIG-uizbQqXPzPuTkrPM-Lg/viewform?usp=pp_url&entry.360321409=weforgottenuno&entry.1933578897\n",
      "get_info_data: 2018-04-17 13:52:10.577428\n",
      "deleted: False\n",
      "User Glazed_BEagle found: {'is_mod': False, 'has_subscribed': True, 'hide_from_robots': True, 'verified': True, 'icon_img': 'https://www.redditstatic.com/avatars/avatar_default_08_94E044.png', 'is_employee': False, 'comment_karma': 99088, 'name': 'Glazed_BEagle', 'subreddit': {'icon_size': [256, 256], 'key_color': '', 'link_flair_enabled': False, 'subreddit_type': 'user', 'name': 't5_b80kp', 'user_is_moderator': False, 'community_icon': '', 'header_img': None, 'public_description': '', 'show_media': True, 'audience_target': '', 'url': '/user/Glazed_BEagle/', 'description': '', 'display_name_prefixed': 'u/Glazed_BEagle', 'subscribers': 0, 'display_name': 'u_Glazed_BEagle', 'user_is_banned': False, 'is_default_icon': True, 'icon_img': 'https://www.redditstatic.com/avatars/avatar_default_08_94E044.png', 'over_18': False, 'is_default_banner': True, 'user_is_contributor': False, 'icon_color': '#94E044', 'header_size': None, 'user_is_muted': False, 'banner_size': None, 'user_is_subscriber': False, 'banner_img': '', 'title': '', 'default_set': True, 'primary_color': ''}, 'is_gold': False, 'is_friend': False, 'id': '67la3', 'has_verified_email': True, 'pref_show_snoovatar': False, 'created': 1320854851.0, 'created_utc': 1320826051.0, 'link_karma': 3475}\n",
      "Sending a message to user Glazed_BEagle with data {'first_comment_week': 3, 'username': 'Glazed_BEagle', 'url': 'https://docs.google.com/forms/d/e/1FAIpQLSfmgOcsF0ALqWGPHGpJq2cwUr-xIG-uizbQqXPzPuTkrPM-Lg/viewform?usp=pp_url&entry.360321409=Glazed_BEagle&entry.1933578897', 'deleted': False, 'get_info_date': '2018-04-17 13:52:14.835076'}\n"
     ]
    },
    {
     "name": "stderr",
     "output_type": "stream",
     "text": [
      "substituting https://oauth.reddit.com for https://api.reddit.com in url\n",
      "GET: https://oauth.reddit.com/user/Glazed_BEagle/about/.json\n",
      "substituting https://oauth.reddit.com for https://api.reddit.com in url\n",
      "POST: https://oauth.reddit.com/api/compose/.json\n"
     ]
    },
    {
     "name": "stdout",
     "output_type": "stream",
     "text": [
      "Message successfully sent to user Glazed_BEagle\n",
      "APPENDING TO FILE: {'username': 'Glazed_BEagle', 'get_info_date': '2018-04-17 13:52:14.835076', 'deleted': False, 'url': 'https://docs.google.com/forms/d/e/1FAIpQLSfmgOcsF0ALqWGPHGpJq2cwUr-xIG-uizbQqXPzPuTkrPM-Lg/viewform?usp=pp_url&entry.360321409=Glazed_BEagle&entry.1933578897', 'first_comment_week': 3}\n",
      "first_comment_week: 3\n",
      "url: https://docs.google.com/forms/d/e/1FAIpQLSfmgOcsF0ALqWGPHGpJq2cwUr-xIG-uizbQqXPzPuTkrPM-Lg/viewform?usp=pp_url&entry.360321409=Glazed_BEagle&entry.1933578897\n",
      "get_info_data: 2018-04-17 13:52:14.835076\n",
      "deleted: False\n",
      "User rjinthedistrict found: {'is_mod': False, 'has_subscribed': True, 'hide_from_robots': False, 'verified': True, 'icon_img': 'https://www.redditstatic.com/avatars/avatar_default_08_0079D3.png', 'is_employee': False, 'comment_karma': 268, 'name': 'rjinthedistrict', 'subreddit': {'icon_size': [256, 256], 'key_color': '', 'link_flair_enabled': False, 'subreddit_type': 'user', 'name': 't5_6nxzi', 'user_is_moderator': False, 'community_icon': '', 'header_img': None, 'public_description': '', 'show_media': True, 'audience_target': '', 'url': '/user/rjinthedistrict/', 'description': '', 'display_name_prefixed': 'u/rjinthedistrict', 'subscribers': 0, 'display_name': 'u_rjinthedistrict', 'user_is_banned': False, 'is_default_icon': True, 'icon_img': 'https://www.redditstatic.com/avatars/avatar_default_08_0079D3.png', 'over_18': False, 'is_default_banner': True, 'user_is_contributor': False, 'icon_color': '#0079D3', 'header_size': None, 'user_is_muted': False, 'banner_size': None, 'user_is_subscriber': False, 'banner_img': '', 'title': '', 'default_set': True, 'primary_color': ''}, 'is_gold': False, 'is_friend': False, 'id': '5ci72g7', 'has_verified_email': False, 'pref_show_snoovatar': False, 'created': 1505966323.0, 'created_utc': 1505937523.0, 'link_karma': 1}\n",
      "Sending a message to user rjinthedistrict with data {'first_comment_week': 3, 'username': 'rjinthedistrict', 'url': 'https://docs.google.com/forms/d/e/1FAIpQLSfmgOcsF0ALqWGPHGpJq2cwUr-xIG-uizbQqXPzPuTkrPM-Lg/viewform?usp=pp_url&entry.360321409=rjinthedistrict&entry.1933578897', 'deleted': False, 'get_info_date': '2018-04-17 13:52:18.971646'}\n"
     ]
    },
    {
     "name": "stderr",
     "output_type": "stream",
     "text": [
      "substituting https://oauth.reddit.com for https://api.reddit.com in url\n",
      "GET: https://oauth.reddit.com/user/rjinthedistrict/about/.json\n",
      "substituting https://oauth.reddit.com for https://api.reddit.com in url\n",
      "POST: https://oauth.reddit.com/api/compose/.json\n"
     ]
    },
    {
     "name": "stdout",
     "output_type": "stream",
     "text": [
      "Message successfully sent to user rjinthedistrict\n",
      "APPENDING TO FILE: {'username': 'rjinthedistrict', 'get_info_date': '2018-04-17 13:52:18.971646', 'deleted': False, 'url': 'https://docs.google.com/forms/d/e/1FAIpQLSfmgOcsF0ALqWGPHGpJq2cwUr-xIG-uizbQqXPzPuTkrPM-Lg/viewform?usp=pp_url&entry.360321409=rjinthedistrict&entry.1933578897', 'first_comment_week': 3}\n",
      "first_comment_week: 3\n",
      "url: https://docs.google.com/forms/d/e/1FAIpQLSfmgOcsF0ALqWGPHGpJq2cwUr-xIG-uizbQqXPzPuTkrPM-Lg/viewform?usp=pp_url&entry.360321409=rjinthedistrict&entry.1933578897\n",
      "get_info_data: 2018-04-17 13:52:18.971646\n",
      "deleted: False\n",
      "User sindeloke found: {'is_mod': False, 'has_subscribed': True, 'hide_from_robots': True, 'verified': False, 'icon_img': 'https://www.redditstatic.com/avatars/avatar_default_15_FF4500.png', 'is_employee': False, 'comment_karma': 12202, 'name': 'sindeloke', 'subreddit': None, 'is_gold': False, 'is_friend': False, 'id': 'b7nna', 'has_verified_email': False, 'pref_show_snoovatar': False, 'created': 1365243571.0, 'created_utc': 1365214771.0, 'link_karma': 466}\n",
      "Sending a message to user sindeloke with data {'first_comment_week': 3, 'username': 'sindeloke', 'url': 'https://docs.google.com/forms/d/e/1FAIpQLSfmgOcsF0ALqWGPHGpJq2cwUr-xIG-uizbQqXPzPuTkrPM-Lg/viewform?usp=pp_url&entry.360321409=sindeloke&entry.1933578897', 'deleted': False, 'get_info_date': '2018-04-17 13:52:23.475507'}\n"
     ]
    },
    {
     "name": "stderr",
     "output_type": "stream",
     "text": [
      "substituting https://oauth.reddit.com for https://api.reddit.com in url\n",
      "GET: https://oauth.reddit.com/user/sindeloke/about/.json\n",
      "substituting https://oauth.reddit.com for https://api.reddit.com in url\n",
      "POST: https://oauth.reddit.com/api/compose/.json\n"
     ]
    },
    {
     "name": "stdout",
     "output_type": "stream",
     "text": [
      "Message successfully sent to user sindeloke\n",
      "APPENDING TO FILE: {'username': 'sindeloke', 'get_info_date': '2018-04-17 13:52:23.475507', 'deleted': False, 'url': 'https://docs.google.com/forms/d/e/1FAIpQLSfmgOcsF0ALqWGPHGpJq2cwUr-xIG-uizbQqXPzPuTkrPM-Lg/viewform?usp=pp_url&entry.360321409=sindeloke&entry.1933578897', 'first_comment_week': 3}\n",
      "first_comment_week: 3\n",
      "url: https://docs.google.com/forms/d/e/1FAIpQLSfmgOcsF0ALqWGPHGpJq2cwUr-xIG-uizbQqXPzPuTkrPM-Lg/viewform?usp=pp_url&entry.360321409=sindeloke&entry.1933578897\n",
      "get_info_data: 2018-04-17 13:52:23.475507\n",
      "deleted: False\n",
      "User Rai900 found: {'is_mod': False, 'has_subscribed': True, 'hide_from_robots': False, 'verified': False, 'icon_img': 'https://www.redditstatic.com/avatars/avatar_default_08_FFB000.png', 'is_employee': False, 'comment_karma': -3, 'name': 'Rai900', 'subreddit': None, 'is_gold': False, 'is_friend': False, 'id': 'gfvjb', 'has_verified_email': False, 'pref_show_snoovatar': False, 'created': 1399342716.0, 'created_utc': 1399313916.0, 'link_karma': 11}\n",
      "Sending a message to user Rai900 with data {'first_comment_week': 3, 'username': 'Rai900', 'url': 'https://docs.google.com/forms/d/e/1FAIpQLSfmgOcsF0ALqWGPHGpJq2cwUr-xIG-uizbQqXPzPuTkrPM-Lg/viewform?usp=pp_url&entry.360321409=Rai900&entry.1933578897', 'deleted': False, 'get_info_date': '2018-04-17 13:52:27.757875'}\n"
     ]
    },
    {
     "name": "stderr",
     "output_type": "stream",
     "text": [
      "substituting https://oauth.reddit.com for https://api.reddit.com in url\n",
      "GET: https://oauth.reddit.com/user/Rai900/about/.json\n",
      "substituting https://oauth.reddit.com for https://api.reddit.com in url\n",
      "POST: https://oauth.reddit.com/api/compose/.json\n"
     ]
    },
    {
     "name": "stdout",
     "output_type": "stream",
     "text": [
      "Message successfully sent to user Rai900\n",
      "APPENDING TO FILE: {'username': 'Rai900', 'get_info_date': '2018-04-17 13:52:27.757875', 'deleted': False, 'url': 'https://docs.google.com/forms/d/e/1FAIpQLSfmgOcsF0ALqWGPHGpJq2cwUr-xIG-uizbQqXPzPuTkrPM-Lg/viewform?usp=pp_url&entry.360321409=Rai900&entry.1933578897', 'first_comment_week': 3}\n",
      "first_comment_week: 3\n",
      "url: https://docs.google.com/forms/d/e/1FAIpQLSfmgOcsF0ALqWGPHGpJq2cwUr-xIG-uizbQqXPzPuTkrPM-Lg/viewform?usp=pp_url&entry.360321409=Rai900&entry.1933578897\n",
      "get_info_data: 2018-04-17 13:52:27.757875\n",
      "deleted: False\n",
      "User james_castrello2 found: {'is_mod': True, 'has_subscribed': True, 'hide_from_robots': False, 'verified': False, 'icon_img': 'https://www.redditstatic.com/avatars/avatar_default_19_008985.png', 'is_employee': False, 'comment_karma': 874, 'name': 'james_castrello2', 'subreddit': None, 'is_gold': False, 'is_friend': False, 'id': 'z1fum', 'has_verified_email': True, 'pref_show_snoovatar': False, 'created': 1466998746.0, 'created_utc': 1466969946.0, 'link_karma': 2463}\n",
      "Sending a message to user james_castrello2 with data {'first_comment_week': 3, 'username': 'james_castrello2', 'url': 'https://docs.google.com/forms/d/e/1FAIpQLSfmgOcsF0ALqWGPHGpJq2cwUr-xIG-uizbQqXPzPuTkrPM-Lg/viewform?usp=pp_url&entry.360321409=james_castrello2&entry.1933578897', 'deleted': False, 'get_info_date': '2018-04-17 13:52:31.972289'}\n"
     ]
    },
    {
     "name": "stderr",
     "output_type": "stream",
     "text": [
      "substituting https://oauth.reddit.com for https://api.reddit.com in url\n",
      "GET: https://oauth.reddit.com/user/james_castrello2/about/.json\n",
      "substituting https://oauth.reddit.com for https://api.reddit.com in url\n",
      "POST: https://oauth.reddit.com/api/compose/.json\n"
     ]
    },
    {
     "name": "stdout",
     "output_type": "stream",
     "text": [
      "Message successfully sent to user james_castrello2\n",
      "APPENDING TO FILE: {'username': 'james_castrello2', 'get_info_date': '2018-04-17 13:52:31.972289', 'deleted': False, 'url': 'https://docs.google.com/forms/d/e/1FAIpQLSfmgOcsF0ALqWGPHGpJq2cwUr-xIG-uizbQqXPzPuTkrPM-Lg/viewform?usp=pp_url&entry.360321409=james_castrello2&entry.1933578897', 'first_comment_week': 3}\n",
      "first_comment_week: 3\n",
      "url: https://docs.google.com/forms/d/e/1FAIpQLSfmgOcsF0ALqWGPHGpJq2cwUr-xIG-uizbQqXPzPuTkrPM-Lg/viewform?usp=pp_url&entry.360321409=james_castrello2&entry.1933578897\n",
      "get_info_data: 2018-04-17 13:52:31.972289\n",
      "deleted: False\n",
      "User ThatOneGator found: {'is_mod': False, 'has_subscribed': True, 'hide_from_robots': False, 'verified': True, 'icon_img': 'https://s.redditmedia.com/t5_9vfli/styles/communityIcon_ld5ql2df2ya01.jpg?fit=crop&crop=faces%2Centropy&arh=1.0&w=256&h=256&s=96fcb419b0df6a2c2a0a6b73fb79f2cf', 'is_employee': False, 'comment_karma': 1128, 'name': 'ThatOneGator', 'subreddit': {'icon_size': [256, 256], 'key_color': '', 'link_flair_enabled': False, 'subreddit_type': 'user', 'name': 't5_9vfli', 'user_is_moderator': False, 'community_icon': '', 'header_img': None, 'public_description': 'I started using reddit in the Spring of 2017, but I didn’t decide to create an account until December of that year. You can find me on the Roblox Reddit.', 'show_media': True, 'audience_target': '', 'url': '/user/ThatOneGator/', 'description': '', 'display_name_prefixed': 'u/ThatOneGator', 'subscribers': 0, 'display_name': 'u_ThatOneGator', 'user_is_banned': False, 'is_default_icon': False, 'icon_img': 'https://s.redditmedia.com/t5_9vfli/styles/communityIcon_ld5ql2df2ya01.jpg?fit=crop&crop=faces%2Centropy&arh=1.0&w=256&h=256&s=96fcb419b0df6a2c2a0a6b73fb79f2cf', 'over_18': False, 'is_default_banner': False, 'user_is_contributor': False, 'icon_color': '', 'header_size': None, 'user_is_muted': False, 'banner_size': [1280, 384], 'user_is_subscriber': False, 'banner_img': 'https://s.redditmedia.com/t5_9vfli/styles/bannerBackgroundImage_2u8n3y1qzoc01.jpg?fit=crop&crop=center&arh=0.3&w=1280&h=384&s=4f5bf0998b90d9e4065db786d3d4b136', 'title': '', 'default_set': True, 'primary_color': ''}, 'is_gold': False, 'is_friend': False, 'id': '1uow7cy', 'has_verified_email': False, 'pref_show_snoovatar': False, 'created': 1514437117.0, 'created_utc': 1514408317.0, 'link_karma': 393}\n",
      "Sending a message to user ThatOneGator with data {'first_comment_week': 3, 'username': 'ThatOneGator', 'url': 'https://docs.google.com/forms/d/e/1FAIpQLSfmgOcsF0ALqWGPHGpJq2cwUr-xIG-uizbQqXPzPuTkrPM-Lg/viewform?usp=pp_url&entry.360321409=ThatOneGator&entry.1933578897', 'deleted': False, 'get_info_date': '2018-04-17 13:52:36.209401'}\n"
     ]
    },
    {
     "name": "stderr",
     "output_type": "stream",
     "text": [
      "substituting https://oauth.reddit.com for https://api.reddit.com in url\n",
      "GET: https://oauth.reddit.com/user/ThatOneGator/about/.json\n",
      "substituting https://oauth.reddit.com for https://api.reddit.com in url\n",
      "POST: https://oauth.reddit.com/api/compose/.json\n"
     ]
    },
    {
     "name": "stdout",
     "output_type": "stream",
     "text": [
      "Message successfully sent to user ThatOneGator\n",
      "APPENDING TO FILE: {'username': 'ThatOneGator', 'get_info_date': '2018-04-17 13:52:36.209401', 'deleted': False, 'url': 'https://docs.google.com/forms/d/e/1FAIpQLSfmgOcsF0ALqWGPHGpJq2cwUr-xIG-uizbQqXPzPuTkrPM-Lg/viewform?usp=pp_url&entry.360321409=ThatOneGator&entry.1933578897', 'first_comment_week': 3}\n",
      "first_comment_week: 3\n",
      "url: https://docs.google.com/forms/d/e/1FAIpQLSfmgOcsF0ALqWGPHGpJq2cwUr-xIG-uizbQqXPzPuTkrPM-Lg/viewform?usp=pp_url&entry.360321409=ThatOneGator&entry.1933578897\n",
      "get_info_data: 2018-04-17 13:52:36.209401\n",
      "deleted: False\n",
      "User PaulSmiths found: {'is_mod': False, 'has_subscribed': True, 'hide_from_robots': False, 'verified': True, 'icon_img': 'https://www.redditstatic.com/avatars/avatar_default_10_4856A3.png', 'is_employee': False, 'comment_karma': 359, 'name': 'PaulSmiths', 'subreddit': {'icon_size': [256, 256], 'key_color': '', 'link_flair_enabled': False, 'subreddit_type': 'user', 'name': 't5_6qm5k', 'user_is_moderator': False, 'community_icon': '', 'header_img': None, 'public_description': '', 'show_media': True, 'audience_target': '', 'url': '/user/PaulSmiths/', 'description': '', 'display_name_prefixed': 'u/PaulSmiths', 'subscribers': 0, 'display_name': 'u_PaulSmiths', 'user_is_banned': False, 'is_default_icon': True, 'icon_img': 'https://www.redditstatic.com/avatars/avatar_default_10_4856A3.png', 'over_18': False, 'is_default_banner': True, 'user_is_contributor': False, 'icon_color': '#4856A3', 'header_size': None, 'user_is_muted': False, 'banner_size': None, 'user_is_subscriber': False, 'banner_img': '', 'title': '', 'default_set': True, 'primary_color': ''}, 'is_gold': False, 'is_friend': False, 'id': 'e88mnop', 'has_verified_email': False, 'pref_show_snoovatar': False, 'created': 1505766741.0, 'created_utc': 1505737941.0, 'link_karma': 77}\n",
      "Sending a message to user PaulSmiths with data {'first_comment_week': 3, 'username': 'PaulSmiths', 'url': 'https://docs.google.com/forms/d/e/1FAIpQLSfmgOcsF0ALqWGPHGpJq2cwUr-xIG-uizbQqXPzPuTkrPM-Lg/viewform?usp=pp_url&entry.360321409=PaulSmiths&entry.1933578897', 'deleted': False, 'get_info_date': '2018-04-17 13:52:40.420640'}\n"
     ]
    },
    {
     "name": "stderr",
     "output_type": "stream",
     "text": [
      "substituting https://oauth.reddit.com for https://api.reddit.com in url\n",
      "GET: https://oauth.reddit.com/user/PaulSmiths/about/.json\n",
      "substituting https://oauth.reddit.com for https://api.reddit.com in url\n",
      "POST: https://oauth.reddit.com/api/compose/.json\n"
     ]
    },
    {
     "name": "stdout",
     "output_type": "stream",
     "text": [
      "Message successfully sent to user PaulSmiths\n",
      "APPENDING TO FILE: {'username': 'PaulSmiths', 'get_info_date': '2018-04-17 13:52:40.420640', 'deleted': False, 'url': 'https://docs.google.com/forms/d/e/1FAIpQLSfmgOcsF0ALqWGPHGpJq2cwUr-xIG-uizbQqXPzPuTkrPM-Lg/viewform?usp=pp_url&entry.360321409=PaulSmiths&entry.1933578897', 'first_comment_week': 3}\n",
      "first_comment_week: 3\n",
      "url: https://docs.google.com/forms/d/e/1FAIpQLSfmgOcsF0ALqWGPHGpJq2cwUr-xIG-uizbQqXPzPuTkrPM-Lg/viewform?usp=pp_url&entry.360321409=PaulSmiths&entry.1933578897\n",
      "get_info_data: 2018-04-17 13:52:40.420640\n",
      "deleted: False\n",
      "User so_says_sage found: {'is_mod': False, 'has_subscribed': True, 'hide_from_robots': True, 'verified': True, 'icon_img': 'https://www.redditstatic.com/avatars/avatar_default_08_DDBD37.png', 'is_employee': False, 'comment_karma': 1964, 'name': 'so_says_sage', 'subreddit': {'icon_size': [256, 256], 'key_color': '', 'link_flair_enabled': False, 'subreddit_type': 'user', 'name': 't5_d905t', 'user_is_moderator': False, 'community_icon': '', 'header_img': None, 'public_description': '', 'show_media': True, 'audience_target': '', 'url': '/user/so_says_sage/', 'description': '', 'display_name_prefixed': 'u/so_says_sage', 'subscribers': 0, 'display_name': 'u_so_says_sage', 'user_is_banned': False, 'is_default_icon': True, 'icon_img': 'https://www.redditstatic.com/avatars/avatar_default_08_DDBD37.png', 'over_18': False, 'is_default_banner': True, 'user_is_contributor': False, 'icon_color': '#DDBD37', 'header_size': None, 'user_is_muted': False, 'banner_size': None, 'user_is_subscriber': False, 'banner_img': '', 'title': '', 'default_set': True, 'primary_color': ''}, 'is_gold': False, 'is_friend': False, 'id': 'nvuq7', 'has_verified_email': False, 'pref_show_snoovatar': False, 'created': 1433372599.0, 'created_utc': 1433343799.0, 'link_karma': 130}\n",
      "Sending a message to user so_says_sage with data {'first_comment_week': 3, 'username': 'so_says_sage', 'url': 'https://docs.google.com/forms/d/e/1FAIpQLSfmgOcsF0ALqWGPHGpJq2cwUr-xIG-uizbQqXPzPuTkrPM-Lg/viewform?usp=pp_url&entry.360321409=so_says_sage&entry.1933578897', 'deleted': False, 'get_info_date': '2018-04-17 13:52:44.742943'}\n"
     ]
    },
    {
     "name": "stderr",
     "output_type": "stream",
     "text": [
      "substituting https://oauth.reddit.com for https://api.reddit.com in url\n",
      "GET: https://oauth.reddit.com/user/so_says_sage/about/.json\n",
      "substituting https://oauth.reddit.com for https://api.reddit.com in url\n",
      "POST: https://oauth.reddit.com/api/compose/.json\n"
     ]
    },
    {
     "name": "stdout",
     "output_type": "stream",
     "text": [
      "Message successfully sent to user so_says_sage\n",
      "APPENDING TO FILE: {'username': 'so_says_sage', 'get_info_date': '2018-04-17 13:52:44.742943', 'deleted': False, 'url': 'https://docs.google.com/forms/d/e/1FAIpQLSfmgOcsF0ALqWGPHGpJq2cwUr-xIG-uizbQqXPzPuTkrPM-Lg/viewform?usp=pp_url&entry.360321409=so_says_sage&entry.1933578897', 'first_comment_week': 3}\n",
      "first_comment_week: 3\n",
      "url: https://docs.google.com/forms/d/e/1FAIpQLSfmgOcsF0ALqWGPHGpJq2cwUr-xIG-uizbQqXPzPuTkrPM-Lg/viewform?usp=pp_url&entry.360321409=so_says_sage&entry.1933578897\n",
      "get_info_data: 2018-04-17 13:52:44.742943\n",
      "deleted: False\n",
      "User Neighborly_Nightmare found: {'is_mod': False, 'has_subscribed': True, 'hide_from_robots': False, 'verified': True, 'icon_img': 'https://www.redditstatic.com/avatars/avatar_default_03_FF4500.png', 'is_employee': False, 'comment_karma': 61, 'name': 'Neighborly_Nightmare', 'subreddit': {'icon_size': [256, 256], 'key_color': '', 'link_flair_enabled': False, 'subreddit_type': 'user', 'name': 't5_50wfo', 'user_is_moderator': False, 'community_icon': '', 'header_img': None, 'public_description': '', 'show_media': True, 'audience_target': '', 'url': '/user/Neighborly_Nightmare/', 'description': '', 'display_name_prefixed': 'u/Neighborly_Nightmare', 'subscribers': 0, 'display_name': 'u_Neighborly_Nightmare', 'user_is_banned': False, 'is_default_icon': True, 'icon_img': 'https://www.redditstatic.com/avatars/avatar_default_03_FF4500.png', 'over_18': False, 'is_default_banner': True, 'user_is_contributor': False, 'icon_color': '#FF4500', 'header_size': None, 'user_is_muted': False, 'banner_size': None, 'user_is_subscriber': False, 'banner_img': '', 'title': '', 'default_set': True, 'primary_color': ''}, 'is_gold': False, 'is_friend': False, 'id': 'kudkj6y', 'has_verified_email': True, 'pref_show_snoovatar': False, 'created': 1510659272.0, 'created_utc': 1510630472.0, 'link_karma': 1}\n",
      "Sending a message to user Neighborly_Nightmare with data {'first_comment_week': 3, 'username': 'Neighborly_Nightmare', 'url': 'https://docs.google.com/forms/d/e/1FAIpQLSfmgOcsF0ALqWGPHGpJq2cwUr-xIG-uizbQqXPzPuTkrPM-Lg/viewform?usp=pp_url&entry.360321409=Neighborly_Nightmare&entry.1933578897', 'deleted': False, 'get_info_date': '2018-04-17 13:52:48.910219'}\n"
     ]
    },
    {
     "name": "stderr",
     "output_type": "stream",
     "text": [
      "substituting https://oauth.reddit.com for https://api.reddit.com in url\n",
      "GET: https://oauth.reddit.com/user/Neighborly_Nightmare/about/.json\n",
      "substituting https://oauth.reddit.com for https://api.reddit.com in url\n",
      "POST: https://oauth.reddit.com/api/compose/.json\n"
     ]
    },
    {
     "name": "stdout",
     "output_type": "stream",
     "text": [
      "Message successfully sent to user Neighborly_Nightmare\n",
      "APPENDING TO FILE: {'username': 'Neighborly_Nightmare', 'get_info_date': '2018-04-17 13:52:48.910219', 'deleted': False, 'url': 'https://docs.google.com/forms/d/e/1FAIpQLSfmgOcsF0ALqWGPHGpJq2cwUr-xIG-uizbQqXPzPuTkrPM-Lg/viewform?usp=pp_url&entry.360321409=Neighborly_Nightmare&entry.1933578897', 'first_comment_week': 3}\n",
      "first_comment_week: 3\n",
      "url: https://docs.google.com/forms/d/e/1FAIpQLSfmgOcsF0ALqWGPHGpJq2cwUr-xIG-uizbQqXPzPuTkrPM-Lg/viewform?usp=pp_url&entry.360321409=Neighborly_Nightmare&entry.1933578897\n",
      "get_info_data: 2018-04-17 13:52:48.910219\n",
      "deleted: False\n",
      "User TheRougishSmithy found: {'is_mod': False, 'has_subscribed': True, 'hide_from_robots': False, 'verified': True, 'icon_img': 'https://www.redditstatic.com/avatars/avatar_default_06_7193FF.png', 'is_employee': False, 'comment_karma': 204, 'name': 'TheRougishSmithy', 'subreddit': {'icon_size': [256, 256], 'key_color': '', 'link_flair_enabled': False, 'subreddit_type': 'user', 'name': 't5_a2x41', 'user_is_moderator': False, 'community_icon': '', 'header_img': None, 'public_description': '', 'show_media': True, 'audience_target': '', 'url': '/user/TheRougishSmithy/', 'description': '', 'display_name_prefixed': 'u/TheRougishSmithy', 'subscribers': 0, 'display_name': 'u_TheRougishSmithy', 'user_is_banned': False, 'is_default_icon': True, 'icon_img': 'https://www.redditstatic.com/avatars/avatar_default_06_7193FF.png', 'over_18': False, 'is_default_banner': True, 'user_is_contributor': False, 'icon_color': '#7193FF', 'header_size': None, 'user_is_muted': False, 'banner_size': None, 'user_is_subscriber': False, 'banner_img': '', 'title': '', 'default_set': True, 'primary_color': ''}, 'is_gold': False, 'is_friend': False, 'id': 'qgkvuwp', 'has_verified_email': False, 'pref_show_snoovatar': False, 'created': 1514894541.0, 'created_utc': 1514865741.0, 'link_karma': 747}\n",
      "Sending a message to user TheRougishSmithy with data {'first_comment_week': 3, 'username': 'TheRougishSmithy', 'url': 'https://docs.google.com/forms/d/e/1FAIpQLSfmgOcsF0ALqWGPHGpJq2cwUr-xIG-uizbQqXPzPuTkrPM-Lg/viewform?usp=pp_url&entry.360321409=TheRougishSmithy&entry.1933578897', 'deleted': False, 'get_info_date': '2018-04-17 13:52:53.147322'}\n"
     ]
    },
    {
     "name": "stderr",
     "output_type": "stream",
     "text": [
      "substituting https://oauth.reddit.com for https://api.reddit.com in url\n",
      "GET: https://oauth.reddit.com/user/TheRougishSmithy/about/.json\n",
      "substituting https://oauth.reddit.com for https://api.reddit.com in url\n",
      "POST: https://oauth.reddit.com/api/compose/.json\n"
     ]
    },
    {
     "name": "stdout",
     "output_type": "stream",
     "text": [
      "Message successfully sent to user TheRougishSmithy\n",
      "APPENDING TO FILE: {'username': 'TheRougishSmithy', 'get_info_date': '2018-04-17 13:52:53.147322', 'deleted': False, 'url': 'https://docs.google.com/forms/d/e/1FAIpQLSfmgOcsF0ALqWGPHGpJq2cwUr-xIG-uizbQqXPzPuTkrPM-Lg/viewform?usp=pp_url&entry.360321409=TheRougishSmithy&entry.1933578897', 'first_comment_week': 3}\n",
      "first_comment_week: 3\n",
      "url: https://docs.google.com/forms/d/e/1FAIpQLSfmgOcsF0ALqWGPHGpJq2cwUr-xIG-uizbQqXPzPuTkrPM-Lg/viewform?usp=pp_url&entry.360321409=TheRougishSmithy&entry.1933578897\n",
      "get_info_data: 2018-04-17 13:52:53.147322\n",
      "deleted: False\n",
      "User realjuliepage found: {'is_mod': False, 'has_subscribed': True, 'hide_from_robots': False, 'verified': True, 'icon_img': 'https://s.redditmedia.com/t5_h92x8/styles/profileIcon_83bp91joeun01.jpg?fit=crop&crop=faces%2Centropy&arh=1.0&w=256&h=256&s=72bb0125a26231f3c6076521fc8141d0', 'is_employee': False, 'comment_karma': 843, 'name': 'realjuliepage', 'subreddit': {'icon_size': [256, 256], 'key_color': '', 'link_flair_enabled': False, 'subreddit_type': 'user', 'name': 't5_h92x8', 'user_is_moderator': False, 'community_icon': '', 'header_img': None, 'public_description': 'New panty/stocking/sock/etc seller. Clips, picture sets Prettylilkitty68@gmail.com or pm', 'show_media': True, 'audience_target': '', 'url': '/user/realjuliepage/', 'description': '', 'display_name_prefixed': 'u/realjuliepage', 'subscribers': 0, 'display_name': 'u_realjuliepage', 'user_is_banned': False, 'is_default_icon': False, 'icon_img': 'https://s.redditmedia.com/t5_h92x8/styles/profileIcon_83bp91joeun01.jpg?fit=crop&crop=faces%2Centropy&arh=1.0&w=256&h=256&s=72bb0125a26231f3c6076521fc8141d0', 'over_18': True, 'is_default_banner': False, 'user_is_contributor': False, 'icon_color': '', 'header_size': None, 'user_is_muted': False, 'banner_size': [1280, 384], 'user_is_subscriber': False, 'banner_img': 'https://s.redditmedia.com/t5_h92x8/styles/profileBanner_rkk2dgqe7sq01.jpg?fit=crop&crop=center&arh=0.3&w=1280&h=384&s=0099fa7da0611390fcd5c66ec5a4c660', 'title': 'Julie Page', 'default_set': True, 'primary_color': ''}, 'is_gold': False, 'is_friend': False, 'id': '1389wt7t', 'has_verified_email': True, 'pref_show_snoovatar': False, 'created': 1521977095.0, 'created_utc': 1521948295.0, 'link_karma': 259}\n",
      "Sending a message to user realjuliepage with data {'first_comment_week': 3, 'username': 'realjuliepage', 'url': 'https://docs.google.com/forms/d/e/1FAIpQLSfmgOcsF0ALqWGPHGpJq2cwUr-xIG-uizbQqXPzPuTkrPM-Lg/viewform?usp=pp_url&entry.360321409=realjuliepage&entry.1933578897', 'deleted': False, 'get_info_date': '2018-04-17 13:52:57.324300'}\n"
     ]
    },
    {
     "name": "stderr",
     "output_type": "stream",
     "text": [
      "substituting https://oauth.reddit.com for https://api.reddit.com in url\n",
      "GET: https://oauth.reddit.com/user/realjuliepage/about/.json\n",
      "substituting https://oauth.reddit.com for https://api.reddit.com in url\n",
      "POST: https://oauth.reddit.com/api/compose/.json\n"
     ]
    },
    {
     "name": "stdout",
     "output_type": "stream",
     "text": [
      "Message successfully sent to user realjuliepage\n",
      "APPENDING TO FILE: {'username': 'realjuliepage', 'get_info_date': '2018-04-17 13:52:57.324300', 'deleted': False, 'url': 'https://docs.google.com/forms/d/e/1FAIpQLSfmgOcsF0ALqWGPHGpJq2cwUr-xIG-uizbQqXPzPuTkrPM-Lg/viewform?usp=pp_url&entry.360321409=realjuliepage&entry.1933578897', 'first_comment_week': 3}\n",
      "first_comment_week: 3\n",
      "url: https://docs.google.com/forms/d/e/1FAIpQLSfmgOcsF0ALqWGPHGpJq2cwUr-xIG-uizbQqXPzPuTkrPM-Lg/viewform?usp=pp_url&entry.360321409=realjuliepage&entry.1933578897\n",
      "get_info_data: 2018-04-17 13:52:57.324300\n",
      "deleted: False\n",
      "User Benas5a found: {'is_mod': False, 'has_subscribed': False, 'hide_from_robots': False, 'verified': False, 'icon_img': 'https://www.redditstatic.com/avatars/avatar_default_05_A06A42.png', 'is_employee': False, 'comment_karma': 199, 'name': 'Benas5a', 'subreddit': None, 'is_gold': False, 'is_friend': False, 'id': '109qps', 'has_verified_email': False, 'pref_show_snoovatar': False, 'created': 1470774344.0, 'created_utc': 1470745544.0, 'link_karma': 6105}\n",
      "Sending a message to user Benas5a with data {'first_comment_week': 3, 'username': 'Benas5a', 'url': 'https://docs.google.com/forms/d/e/1FAIpQLSfmgOcsF0ALqWGPHGpJq2cwUr-xIG-uizbQqXPzPuTkrPM-Lg/viewform?usp=pp_url&entry.360321409=Benas5a&entry.1933578897', 'deleted': False, 'get_info_date': '2018-04-17 13:53:01.455100'}\n"
     ]
    },
    {
     "name": "stderr",
     "output_type": "stream",
     "text": [
      "substituting https://oauth.reddit.com for https://api.reddit.com in url\n",
      "GET: https://oauth.reddit.com/user/Benas5a/about/.json\n",
      "substituting https://oauth.reddit.com for https://api.reddit.com in url\n",
      "POST: https://oauth.reddit.com/api/compose/.json\n"
     ]
    },
    {
     "name": "stdout",
     "output_type": "stream",
     "text": [
      "Message successfully sent to user Benas5a\n",
      "APPENDING TO FILE: {'username': 'Benas5a', 'get_info_date': '2018-04-17 13:53:01.455100', 'deleted': False, 'url': 'https://docs.google.com/forms/d/e/1FAIpQLSfmgOcsF0ALqWGPHGpJq2cwUr-xIG-uizbQqXPzPuTkrPM-Lg/viewform?usp=pp_url&entry.360321409=Benas5a&entry.1933578897', 'first_comment_week': 3}\n",
      "first_comment_week: 3\n",
      "url: https://docs.google.com/forms/d/e/1FAIpQLSfmgOcsF0ALqWGPHGpJq2cwUr-xIG-uizbQqXPzPuTkrPM-Lg/viewform?usp=pp_url&entry.360321409=Benas5a&entry.1933578897\n",
      "get_info_data: 2018-04-17 13:53:01.455100\n",
      "deleted: False\n",
      "User alisondavis220 found: {'is_mod': False, 'has_subscribed': True, 'hide_from_robots': False, 'verified': True, 'icon_img': 'https://www.redditstatic.com/avatars/avatar_default_04_FFD635.png', 'is_employee': False, 'comment_karma': 19, 'name': 'alisondavis220', 'subreddit': {'icon_size': [256, 256], 'key_color': '', 'link_flair_enabled': False, 'subreddit_type': 'user', 'name': 't5_graio', 'user_is_moderator': False, 'community_icon': '', 'header_img': None, 'public_description': '', 'show_media': True, 'audience_target': '', 'url': '/user/alisondavis220/', 'description': '', 'display_name_prefixed': 'u/alisondavis220', 'subscribers': 0, 'display_name': 'u_alisondavis220', 'user_is_banned': False, 'is_default_icon': True, 'icon_img': 'https://www.redditstatic.com/avatars/avatar_default_04_FFD635.png', 'over_18': False, 'is_default_banner': True, 'user_is_contributor': False, 'icon_color': '#FFD635', 'header_size': None, 'user_is_muted': False, 'banner_size': None, 'user_is_subscriber': False, 'banner_img': '', 'title': '', 'default_set': True, 'primary_color': ''}, 'is_gold': False, 'is_friend': False, 'id': '113trzp7', 'has_verified_email': False, 'pref_show_snoovatar': False, 'created': 1520863449.0, 'created_utc': 1520834649.0, 'link_karma': 1}\n",
      "Sending a message to user alisondavis220 with data {'first_comment_week': 3, 'username': 'alisondavis220', 'url': 'https://docs.google.com/forms/d/e/1FAIpQLSfmgOcsF0ALqWGPHGpJq2cwUr-xIG-uizbQqXPzPuTkrPM-Lg/viewform?usp=pp_url&entry.360321409=alisondavis220&entry.1933578897', 'deleted': False, 'get_info_date': '2018-04-17 13:53:05.550690'}\n"
     ]
    },
    {
     "name": "stderr",
     "output_type": "stream",
     "text": [
      "substituting https://oauth.reddit.com for https://api.reddit.com in url\n",
      "GET: https://oauth.reddit.com/user/alisondavis220/about/.json\n",
      "substituting https://oauth.reddit.com for https://api.reddit.com in url\n",
      "POST: https://oauth.reddit.com/api/compose/.json\n"
     ]
    },
    {
     "name": "stdout",
     "output_type": "stream",
     "text": [
      "Message successfully sent to user alisondavis220\n",
      "APPENDING TO FILE: {'username': 'alisondavis220', 'get_info_date': '2018-04-17 13:53:05.550690', 'deleted': False, 'url': 'https://docs.google.com/forms/d/e/1FAIpQLSfmgOcsF0ALqWGPHGpJq2cwUr-xIG-uizbQqXPzPuTkrPM-Lg/viewform?usp=pp_url&entry.360321409=alisondavis220&entry.1933578897', 'first_comment_week': 3}\n",
      "first_comment_week: 3\n",
      "url: https://docs.google.com/forms/d/e/1FAIpQLSfmgOcsF0ALqWGPHGpJq2cwUr-xIG-uizbQqXPzPuTkrPM-Lg/viewform?usp=pp_url&entry.360321409=alisondavis220&entry.1933578897\n",
      "get_info_data: 2018-04-17 13:53:05.550690\n",
      "deleted: False\n",
      "User Snail736 found: {'is_mod': False, 'has_subscribed': True, 'hide_from_robots': False, 'verified': True, 'icon_img': 'https://www.redditstatic.com/avatars/avatar_default_06_FF4500.png', 'is_employee': False, 'comment_karma': 13975, 'name': 'Snail736', 'subreddit': {'icon_size': [256, 256], 'key_color': '', 'link_flair_enabled': False, 'subreddit_type': 'user', 'name': 't5_8kn39', 'user_is_moderator': False, 'community_icon': '', 'header_img': None, 'public_description': '', 'show_media': True, 'audience_target': '', 'url': '/user/Snail736/', 'description': '', 'display_name_prefixed': 'u/Snail736', 'subscribers': 0, 'display_name': 'u_Snail736', 'user_is_banned': False, 'is_default_icon': True, 'icon_img': 'https://www.redditstatic.com/avatars/avatar_default_06_FF4500.png', 'over_18': False, 'is_default_banner': True, 'user_is_contributor': False, 'icon_color': '#FF4500', 'header_size': None, 'user_is_muted': False, 'banner_size': None, 'user_is_subscriber': False, 'banner_img': '', 'title': '', 'default_set': True, 'primary_color': ''}, 'is_gold': True, 'is_friend': False, 'id': '1q4t695', 'has_verified_email': False, 'pref_show_snoovatar': False, 'created': 1495401036.0, 'created_utc': 1495372236.0, 'link_karma': 18503}\n",
      "Sending a message to user Snail736 with data {'first_comment_week': 3, 'username': 'Snail736', 'url': 'https://docs.google.com/forms/d/e/1FAIpQLSfmgOcsF0ALqWGPHGpJq2cwUr-xIG-uizbQqXPzPuTkrPM-Lg/viewform?usp=pp_url&entry.360321409=Snail736&entry.1933578897', 'deleted': False, 'get_info_date': '2018-04-17 13:53:09.750320'}\n"
     ]
    },
    {
     "name": "stderr",
     "output_type": "stream",
     "text": [
      "substituting https://oauth.reddit.com for https://api.reddit.com in url\n",
      "GET: https://oauth.reddit.com/user/Snail736/about/.json\n",
      "substituting https://oauth.reddit.com for https://api.reddit.com in url\n",
      "POST: https://oauth.reddit.com/api/compose/.json\n"
     ]
    },
    {
     "name": "stdout",
     "output_type": "stream",
     "text": [
      "Message successfully sent to user Snail736\n",
      "APPENDING TO FILE: {'username': 'Snail736', 'get_info_date': '2018-04-17 13:53:09.750320', 'deleted': False, 'url': 'https://docs.google.com/forms/d/e/1FAIpQLSfmgOcsF0ALqWGPHGpJq2cwUr-xIG-uizbQqXPzPuTkrPM-Lg/viewform?usp=pp_url&entry.360321409=Snail736&entry.1933578897', 'first_comment_week': 3}\n",
      "first_comment_week: 3\n",
      "url: https://docs.google.com/forms/d/e/1FAIpQLSfmgOcsF0ALqWGPHGpJq2cwUr-xIG-uizbQqXPzPuTkrPM-Lg/viewform?usp=pp_url&entry.360321409=Snail736&entry.1933578897\n",
      "get_info_data: 2018-04-17 13:53:09.750320\n",
      "deleted: False\n"
     ]
    },
    {
     "name": "stderr",
     "output_type": "stream",
     "text": [
      "substituting https://oauth.reddit.com for https://api.reddit.com in url\n",
      "GET: https://oauth.reddit.com/user/kaletime/about/.json\n"
     ]
    },
    {
     "name": "stdout",
     "output_type": "stream",
     "text": [
      "User kaletime found: {'is_mod': False, 'has_subscribed': True, 'hide_from_robots': False, 'verified': True, 'icon_img': 'https://www.redditstatic.com/avatars/avatar_default_03_4856A3.png', 'is_employee': False, 'comment_karma': 696, 'name': 'kaletime', 'subreddit': {'icon_size': [256, 256], 'key_color': '', 'link_flair_enabled': False, 'subreddit_type': 'user', 'name': 't5_gcall', 'user_is_moderator': False, 'community_icon': '', 'header_img': None, 'public_description': '', 'show_media': True, 'audience_target': '', 'url': '/user/kaletime/', 'description': '', 'display_name_prefixed': 'u/kaletime', 'subscribers': 0, 'display_name': 'u_kaletime', 'user_is_banned': False, 'is_default_icon': True, 'icon_img': 'https://www.redditstatic.com/avatars/avatar_default_03_4856A3.png', 'over_18': False, 'is_default_banner': True, 'user_is_contributor': False, 'icon_color': '#4856A3', 'header_size': None, 'user_is_muted': False, 'banner_size': None, 'user_is_subscriber': False, 'banner_img': '', 'title': '', 'default_set': True, 'primary_color': ''}, 'is_gold': False, 'is_friend': False, 'id': 'z9mm77a', 'has_verified_email': False, 'pref_show_snoovatar': False, 'created': 1519885680.0, 'created_utc': 1519856880.0, 'link_karma': 1}\n",
      "Sending a message to user kaletime with data {'first_comment_week': 3, 'username': 'kaletime', 'url': 'https://docs.google.com/forms/d/e/1FAIpQLSfmgOcsF0ALqWGPHGpJq2cwUr-xIG-uizbQqXPzPuTkrPM-Lg/viewform?usp=pp_url&entry.360321409=kaletime&entry.1933578897', 'deleted': False, 'get_info_date': '2018-04-17 13:53:14.124560'}\n"
     ]
    },
    {
     "name": "stderr",
     "output_type": "stream",
     "text": [
      "substituting https://oauth.reddit.com for https://api.reddit.com in url\n",
      "POST: https://oauth.reddit.com/api/compose/.json\n"
     ]
    },
    {
     "name": "stdout",
     "output_type": "stream",
     "text": [
      "Message successfully sent to user kaletime\n",
      "APPENDING TO FILE: {'username': 'kaletime', 'get_info_date': '2018-04-17 13:53:14.124560', 'deleted': False, 'url': 'https://docs.google.com/forms/d/e/1FAIpQLSfmgOcsF0ALqWGPHGpJq2cwUr-xIG-uizbQqXPzPuTkrPM-Lg/viewform?usp=pp_url&entry.360321409=kaletime&entry.1933578897', 'first_comment_week': 3}\n",
      "first_comment_week: 3\n",
      "url: https://docs.google.com/forms/d/e/1FAIpQLSfmgOcsF0ALqWGPHGpJq2cwUr-xIG-uizbQqXPzPuTkrPM-Lg/viewform?usp=pp_url&entry.360321409=kaletime&entry.1933578897\n",
      "get_info_data: 2018-04-17 13:53:14.124560\n",
      "deleted: False\n"
     ]
    },
    {
     "name": "stderr",
     "output_type": "stream",
     "text": [
      "substituting https://oauth.reddit.com for https://api.reddit.com in url\n",
      "GET: https://oauth.reddit.com/user/faytality/about/.json\n"
     ]
    },
    {
     "name": "stdout",
     "output_type": "stream",
     "text": [
      "User faytality found: {'is_mod': False, 'has_subscribed': True, 'hide_from_robots': True, 'verified': True, 'icon_img': 'https://www.redditstatic.com/avatars/avatar_default_02_D4E815.png', 'is_employee': False, 'comment_karma': 71182, 'name': 'faytality', 'subreddit': {'icon_size': [256, 256], 'key_color': '', 'link_flair_enabled': False, 'subreddit_type': 'user', 'name': 't5_bmsy2', 'user_is_moderator': False, 'community_icon': '', 'header_img': None, 'public_description': '', 'show_media': True, 'audience_target': '', 'url': '/user/faytality/', 'description': '', 'display_name_prefixed': 'u/faytality', 'subscribers': 0, 'display_name': 'u_faytality', 'user_is_banned': False, 'is_default_icon': True, 'icon_img': 'https://www.redditstatic.com/avatars/avatar_default_02_D4E815.png', 'over_18': False, 'is_default_banner': True, 'user_is_contributor': False, 'icon_color': '#D4E815', 'header_size': None, 'user_is_muted': False, 'banner_size': None, 'user_is_subscriber': False, 'banner_img': '', 'title': '', 'default_set': True, 'primary_color': ''}, 'is_gold': False, 'is_friend': False, 'id': '5y0cp', 'has_verified_email': True, 'pref_show_snoovatar': False, 'created': 1317294248.0, 'created_utc': 1317265448.0, 'link_karma': 13016}\n",
      "Sending a message to user faytality with data {'first_comment_week': 3, 'username': 'faytality', 'url': 'https://docs.google.com/forms/d/e/1FAIpQLSfmgOcsF0ALqWGPHGpJq2cwUr-xIG-uizbQqXPzPuTkrPM-Lg/viewform?usp=pp_url&entry.360321409=faytality&entry.1933578897', 'deleted': False, 'get_info_date': '2018-04-17 13:53:18.337851'}\n"
     ]
    },
    {
     "name": "stderr",
     "output_type": "stream",
     "text": [
      "substituting https://oauth.reddit.com for https://api.reddit.com in url\n",
      "POST: https://oauth.reddit.com/api/compose/.json\n"
     ]
    },
    {
     "name": "stdout",
     "output_type": "stream",
     "text": [
      "Message successfully sent to user faytality\n",
      "APPENDING TO FILE: {'username': 'faytality', 'get_info_date': '2018-04-17 13:53:18.337851', 'deleted': False, 'url': 'https://docs.google.com/forms/d/e/1FAIpQLSfmgOcsF0ALqWGPHGpJq2cwUr-xIG-uizbQqXPzPuTkrPM-Lg/viewform?usp=pp_url&entry.360321409=faytality&entry.1933578897', 'first_comment_week': 3}\n",
      "first_comment_week: 3\n",
      "url: https://docs.google.com/forms/d/e/1FAIpQLSfmgOcsF0ALqWGPHGpJq2cwUr-xIG-uizbQqXPzPuTkrPM-Lg/viewform?usp=pp_url&entry.360321409=faytality&entry.1933578897\n",
      "get_info_data: 2018-04-17 13:53:18.337851\n",
      "deleted: False\n",
      "User h4baine found: {'is_mod': False, 'has_subscribed': True, 'hide_from_robots': False, 'verified': True, 'icon_img': 'https://www.redditstatic.com/avatars/avatar_default_15_0079D3.png', 'is_employee': False, 'comment_karma': 1655, 'name': 'h4baine', 'subreddit': {'icon_size': [256, 256], 'key_color': '', 'link_flair_enabled': False, 'subreddit_type': 'user', 'name': 't5_ev63y', 'user_is_moderator': False, 'community_icon': '', 'header_img': None, 'public_description': '', 'show_media': True, 'audience_target': '', 'url': '/user/h4baine/', 'description': '', 'display_name_prefixed': 'u/h4baine', 'subscribers': 0, 'display_name': 'u_h4baine', 'user_is_banned': False, 'is_default_icon': True, 'icon_img': 'https://www.redditstatic.com/avatars/avatar_default_15_0079D3.png', 'over_18': False, 'is_default_banner': True, 'user_is_contributor': False, 'icon_color': '#0079D3', 'header_size': None, 'user_is_muted': False, 'banner_size': None, 'user_is_subscriber': False, 'banner_img': '', 'title': '', 'default_set': True, 'primary_color': ''}, 'is_gold': False, 'is_friend': False, 'id': '4gqrq', 'has_verified_email': True, 'pref_show_snoovatar': False, 'created': 1288156841.0, 'created_utc': 1288128041.0, 'link_karma': 6}\n",
      "Sending a message to user h4baine with data {'first_comment_week': 3, 'username': 'h4baine', 'url': 'https://docs.google.com/forms/d/e/1FAIpQLSfmgOcsF0ALqWGPHGpJq2cwUr-xIG-uizbQqXPzPuTkrPM-Lg/viewform?usp=pp_url&entry.360321409=h4baine&entry.1933578897', 'deleted': False, 'get_info_date': '2018-04-17 13:53:22.451012'}\n"
     ]
    },
    {
     "name": "stderr",
     "output_type": "stream",
     "text": [
      "substituting https://oauth.reddit.com for https://api.reddit.com in url\n",
      "GET: https://oauth.reddit.com/user/h4baine/about/.json\n",
      "substituting https://oauth.reddit.com for https://api.reddit.com in url\n",
      "POST: https://oauth.reddit.com/api/compose/.json\n"
     ]
    },
    {
     "name": "stdout",
     "output_type": "stream",
     "text": [
      "Message successfully sent to user h4baine\n",
      "APPENDING TO FILE: {'username': 'h4baine', 'get_info_date': '2018-04-17 13:53:22.451012', 'deleted': False, 'url': 'https://docs.google.com/forms/d/e/1FAIpQLSfmgOcsF0ALqWGPHGpJq2cwUr-xIG-uizbQqXPzPuTkrPM-Lg/viewform?usp=pp_url&entry.360321409=h4baine&entry.1933578897', 'first_comment_week': 3}\n",
      "first_comment_week: 3\n",
      "url: https://docs.google.com/forms/d/e/1FAIpQLSfmgOcsF0ALqWGPHGpJq2cwUr-xIG-uizbQqXPzPuTkrPM-Lg/viewform?usp=pp_url&entry.360321409=h4baine&entry.1933578897\n",
      "get_info_data: 2018-04-17 13:53:22.451012\n",
      "deleted: False\n",
      "User SquirrelGirlVA found: {'is_mod': False, 'has_subscribed': True, 'hide_from_robots': False, 'verified': True, 'icon_img': 'https://www.redditstatic.com/avatars/avatar_default_01_0DD3BB.png', 'is_employee': False, 'comment_karma': 2162, 'name': 'SquirrelGirlVA', 'subreddit': {'icon_size': [256, 256], 'key_color': '', 'link_flair_enabled': False, 'subreddit_type': 'user', 'name': 't5_ftybe', 'user_is_moderator': False, 'community_icon': '', 'header_img': None, 'public_description': '', 'show_media': True, 'audience_target': '', 'url': '/user/SquirrelGirlVA/', 'description': '', 'display_name_prefixed': 'u/SquirrelGirlVA', 'subscribers': 0, 'display_name': 'u_SquirrelGirlVA', 'user_is_banned': False, 'is_default_icon': True, 'icon_img': 'https://www.redditstatic.com/avatars/avatar_default_01_0DD3BB.png', 'over_18': False, 'is_default_banner': True, 'user_is_contributor': False, 'icon_color': '#0DD3BB', 'header_size': None, 'user_is_muted': False, 'banner_size': None, 'user_is_subscriber': False, 'banner_img': '', 'title': '', 'default_set': True, 'primary_color': ''}, 'is_gold': False, 'is_friend': False, 'id': 'x6cdp1k', 'has_verified_email': False, 'pref_show_snoovatar': False, 'created': 1518734048.0, 'created_utc': 1518705248.0, 'link_karma': 1}\n",
      "Sending a message to user SquirrelGirlVA with data {'first_comment_week': 3, 'username': 'SquirrelGirlVA', 'url': 'https://docs.google.com/forms/d/e/1FAIpQLSfmgOcsF0ALqWGPHGpJq2cwUr-xIG-uizbQqXPzPuTkrPM-Lg/viewform?usp=pp_url&entry.360321409=SquirrelGirlVA&entry.1933578897', 'deleted': False, 'get_info_date': '2018-04-17 13:53:26.778369'}\n"
     ]
    },
    {
     "name": "stderr",
     "output_type": "stream",
     "text": [
      "substituting https://oauth.reddit.com for https://api.reddit.com in url\n",
      "GET: https://oauth.reddit.com/user/SquirrelGirlVA/about/.json\n",
      "substituting https://oauth.reddit.com for https://api.reddit.com in url\n",
      "POST: https://oauth.reddit.com/api/compose/.json\n"
     ]
    },
    {
     "name": "stdout",
     "output_type": "stream",
     "text": [
      "Message successfully sent to user SquirrelGirlVA\n",
      "APPENDING TO FILE: {'username': 'SquirrelGirlVA', 'get_info_date': '2018-04-17 13:53:26.778369', 'deleted': False, 'url': 'https://docs.google.com/forms/d/e/1FAIpQLSfmgOcsF0ALqWGPHGpJq2cwUr-xIG-uizbQqXPzPuTkrPM-Lg/viewform?usp=pp_url&entry.360321409=SquirrelGirlVA&entry.1933578897', 'first_comment_week': 3}\n",
      "first_comment_week: 3\n",
      "url: https://docs.google.com/forms/d/e/1FAIpQLSfmgOcsF0ALqWGPHGpJq2cwUr-xIG-uizbQqXPzPuTkrPM-Lg/viewform?usp=pp_url&entry.360321409=SquirrelGirlVA&entry.1933578897\n",
      "get_info_data: 2018-04-17 13:53:26.778369\n",
      "deleted: False\n",
      "User MeticulouslyAbsent found: {'is_mod': False, 'has_subscribed': True, 'hide_from_robots': False, 'verified': False, 'icon_img': 'https://www.redditstatic.com/avatars/avatar_default_06_25B79F.png', 'is_employee': False, 'comment_karma': 261, 'name': 'MeticulouslyAbsent', 'subreddit': None, 'is_gold': False, 'is_friend': False, 'id': '14ww0l', 'has_verified_email': False, 'pref_show_snoovatar': False, 'created': 1485801899.0, 'created_utc': 1485773099.0, 'link_karma': 48}\n",
      "Sending a message to user MeticulouslyAbsent with data {'first_comment_week': 3, 'username': 'MeticulouslyAbsent', 'url': 'https://docs.google.com/forms/d/e/1FAIpQLSfmgOcsF0ALqWGPHGpJq2cwUr-xIG-uizbQqXPzPuTkrPM-Lg/viewform?usp=pp_url&entry.360321409=MeticulouslyAbsent&entry.1933578897', 'deleted': False, 'get_info_date': '2018-04-17 13:53:31.094900'}\n"
     ]
    },
    {
     "name": "stderr",
     "output_type": "stream",
     "text": [
      "substituting https://oauth.reddit.com for https://api.reddit.com in url\n",
      "GET: https://oauth.reddit.com/user/MeticulouslyAbsent/about/.json\n",
      "substituting https://oauth.reddit.com for https://api.reddit.com in url\n",
      "POST: https://oauth.reddit.com/api/compose/.json\n"
     ]
    },
    {
     "name": "stdout",
     "output_type": "stream",
     "text": [
      "Message successfully sent to user MeticulouslyAbsent\n",
      "APPENDING TO FILE: {'username': 'MeticulouslyAbsent', 'get_info_date': '2018-04-17 13:53:31.094900', 'deleted': False, 'url': 'https://docs.google.com/forms/d/e/1FAIpQLSfmgOcsF0ALqWGPHGpJq2cwUr-xIG-uizbQqXPzPuTkrPM-Lg/viewform?usp=pp_url&entry.360321409=MeticulouslyAbsent&entry.1933578897', 'first_comment_week': 3}\n",
      "first_comment_week: 3\n",
      "url: https://docs.google.com/forms/d/e/1FAIpQLSfmgOcsF0ALqWGPHGpJq2cwUr-xIG-uizbQqXPzPuTkrPM-Lg/viewform?usp=pp_url&entry.360321409=MeticulouslyAbsent&entry.1933578897\n",
      "get_info_data: 2018-04-17 13:53:31.094900\n",
      "deleted: False\n",
      "User Mechanical4ngel found: {'is_mod': False, 'has_subscribed': True, 'hide_from_robots': False, 'verified': True, 'icon_img': 'https://www.redditstatic.com/avatars/avatar_default_14_545452.png', 'is_employee': False, 'comment_karma': 62, 'name': 'Mechanical4ngel', 'subreddit': {'icon_size': [256, 256], 'key_color': '', 'link_flair_enabled': False, 'subreddit_type': 'user', 'name': 't5_gd8po', 'user_is_moderator': False, 'community_icon': '', 'header_img': None, 'public_description': '', 'show_media': True, 'audience_target': '', 'url': '/user/Mechanical4ngel/', 'description': '', 'display_name_prefixed': 'u/Mechanical4ngel', 'subscribers': 0, 'display_name': 'u_Mechanical4ngel', 'user_is_banned': False, 'is_default_icon': True, 'icon_img': 'https://www.redditstatic.com/avatars/avatar_default_14_545452.png', 'over_18': False, 'is_default_banner': True, 'user_is_contributor': False, 'icon_color': '#545452', 'header_size': None, 'user_is_muted': False, 'banner_size': None, 'user_is_subscriber': False, 'banner_img': '', 'title': '', 'default_set': True, 'primary_color': ''}, 'is_gold': False, 'is_friend': False, 'id': 'zdiw6u9', 'has_verified_email': True, 'pref_show_snoovatar': False, 'created': 1519948606.0, 'created_utc': 1519919806.0, 'link_karma': 1}\n",
      "Sending a message to user Mechanical4ngel with data {'first_comment_week': 3, 'username': 'Mechanical4ngel', 'url': 'https://docs.google.com/forms/d/e/1FAIpQLSfmgOcsF0ALqWGPHGpJq2cwUr-xIG-uizbQqXPzPuTkrPM-Lg/viewform?usp=pp_url&entry.360321409=Mechanical4ngel&entry.1933578897', 'deleted': False, 'get_info_date': '2018-04-17 13:53:35.291660'}\n"
     ]
    },
    {
     "name": "stderr",
     "output_type": "stream",
     "text": [
      "substituting https://oauth.reddit.com for https://api.reddit.com in url\n",
      "GET: https://oauth.reddit.com/user/Mechanical4ngel/about/.json\n",
      "substituting https://oauth.reddit.com for https://api.reddit.com in url\n",
      "POST: https://oauth.reddit.com/api/compose/.json\n"
     ]
    },
    {
     "name": "stdout",
     "output_type": "stream",
     "text": [
      "Message successfully sent to user Mechanical4ngel\n",
      "APPENDING TO FILE: {'username': 'Mechanical4ngel', 'get_info_date': '2018-04-17 13:53:35.291660', 'deleted': False, 'url': 'https://docs.google.com/forms/d/e/1FAIpQLSfmgOcsF0ALqWGPHGpJq2cwUr-xIG-uizbQqXPzPuTkrPM-Lg/viewform?usp=pp_url&entry.360321409=Mechanical4ngel&entry.1933578897', 'first_comment_week': 3}\n",
      "first_comment_week: 3\n",
      "url: https://docs.google.com/forms/d/e/1FAIpQLSfmgOcsF0ALqWGPHGpJq2cwUr-xIG-uizbQqXPzPuTkrPM-Lg/viewform?usp=pp_url&entry.360321409=Mechanical4ngel&entry.1933578897\n",
      "get_info_data: 2018-04-17 13:53:35.291660\n",
      "deleted: False\n"
     ]
    },
    {
     "name": "stderr",
     "output_type": "stream",
     "text": [
      "substituting https://oauth.reddit.com for https://api.reddit.com in url\n",
      "GET: https://oauth.reddit.com/user/Katatoniczka/about/.json\n"
     ]
    },
    {
     "name": "stdout",
     "output_type": "stream",
     "text": [
      "User Katatoniczka found: {'is_mod': False, 'has_subscribed': True, 'hide_from_robots': False, 'verified': True, 'icon_img': 'https://www.redditstatic.com/avatars/avatar_default_15_25B79F.png', 'is_employee': False, 'comment_karma': 13890, 'name': 'Katatoniczka', 'subreddit': {'icon_size': [256, 256], 'key_color': '', 'link_flair_enabled': False, 'subreddit_type': 'user', 'name': 't5_ei2ty', 'user_is_moderator': False, 'community_icon': '', 'header_img': None, 'public_description': '', 'show_media': True, 'audience_target': '', 'url': '/user/Katatoniczka/', 'description': '', 'display_name_prefixed': 'u/Katatoniczka', 'subscribers': 0, 'display_name': 'u_Katatoniczka', 'user_is_banned': False, 'is_default_icon': True, 'icon_img': 'https://www.redditstatic.com/avatars/avatar_default_15_25B79F.png', 'over_18': True, 'is_default_banner': True, 'user_is_contributor': False, 'icon_color': '#25B79F', 'header_size': None, 'user_is_muted': False, 'banner_size': None, 'user_is_subscriber': False, 'banner_img': '', 'title': '', 'default_set': True, 'primary_color': ''}, 'is_gold': False, 'is_friend': False, 'id': 'yizei', 'has_verified_email': False, 'pref_show_snoovatar': False, 'created': 1465325008.0, 'created_utc': 1465296208.0, 'link_karma': 1361}\n",
      "Sending a message to user Katatoniczka with data {'first_comment_week': 3, 'username': 'Katatoniczka', 'url': 'https://docs.google.com/forms/d/e/1FAIpQLSfmgOcsF0ALqWGPHGpJq2cwUr-xIG-uizbQqXPzPuTkrPM-Lg/viewform?usp=pp_url&entry.360321409=Katatoniczka&entry.1933578897', 'deleted': False, 'get_info_date': '2018-04-17 13:53:39.539628'}\n"
     ]
    },
    {
     "name": "stderr",
     "output_type": "stream",
     "text": [
      "substituting https://oauth.reddit.com for https://api.reddit.com in url\n",
      "POST: https://oauth.reddit.com/api/compose/.json\n"
     ]
    },
    {
     "name": "stdout",
     "output_type": "stream",
     "text": [
      "Message successfully sent to user Katatoniczka\n",
      "APPENDING TO FILE: {'username': 'Katatoniczka', 'get_info_date': '2018-04-17 13:53:39.539628', 'deleted': False, 'url': 'https://docs.google.com/forms/d/e/1FAIpQLSfmgOcsF0ALqWGPHGpJq2cwUr-xIG-uizbQqXPzPuTkrPM-Lg/viewform?usp=pp_url&entry.360321409=Katatoniczka&entry.1933578897', 'first_comment_week': 3}\n",
      "first_comment_week: 3\n",
      "url: https://docs.google.com/forms/d/e/1FAIpQLSfmgOcsF0ALqWGPHGpJq2cwUr-xIG-uizbQqXPzPuTkrPM-Lg/viewform?usp=pp_url&entry.360321409=Katatoniczka&entry.1933578897\n",
      "get_info_data: 2018-04-17 13:53:39.539628\n",
      "deleted: False\n",
      "User Buffer78 found: {'is_mod': False, 'has_subscribed': True, 'hide_from_robots': False, 'verified': True, 'icon_img': 'https://www.redditstatic.com/avatars/avatar_default_18_46D160.png', 'is_employee': False, 'comment_karma': 97, 'name': 'Buffer78', 'subreddit': {'icon_size': [256, 256], 'key_color': '', 'link_flair_enabled': False, 'subreddit_type': 'user', 'name': 't5_gegvz', 'user_is_moderator': False, 'community_icon': '', 'header_img': None, 'public_description': '', 'show_media': True, 'audience_target': '', 'url': '/user/Buffer78/', 'description': '', 'display_name_prefixed': 'u/Buffer78', 'subscribers': 0, 'display_name': 'u_Buffer78', 'user_is_banned': False, 'is_default_icon': True, 'icon_img': 'https://www.redditstatic.com/avatars/avatar_default_18_46D160.png', 'over_18': False, 'is_default_banner': True, 'user_is_contributor': False, 'icon_color': '#46D160', 'header_size': None, 'user_is_muted': False, 'banner_size': None, 'user_is_subscriber': False, 'banner_img': '', 'title': '', 'default_set': True, 'primary_color': ''}, 'is_gold': False, 'is_friend': False, 'id': 'zikez91', 'has_verified_email': False, 'pref_show_snoovatar': False, 'created': 1520021864.0, 'created_utc': 1519993064.0, 'link_karma': 2174}\n",
      "Sending a message to user Buffer78 with data {'first_comment_week': 3, 'username': 'Buffer78', 'url': 'https://docs.google.com/forms/d/e/1FAIpQLSfmgOcsF0ALqWGPHGpJq2cwUr-xIG-uizbQqXPzPuTkrPM-Lg/viewform?usp=pp_url&entry.360321409=Buffer78&entry.1933578897', 'deleted': False, 'get_info_date': '2018-04-17 13:53:43.617119'}\n"
     ]
    },
    {
     "name": "stderr",
     "output_type": "stream",
     "text": [
      "substituting https://oauth.reddit.com for https://api.reddit.com in url\n",
      "GET: https://oauth.reddit.com/user/Buffer78/about/.json\n",
      "substituting https://oauth.reddit.com for https://api.reddit.com in url\n",
      "POST: https://oauth.reddit.com/api/compose/.json\n"
     ]
    },
    {
     "name": "stdout",
     "output_type": "stream",
     "text": [
      "Message successfully sent to user Buffer78\n",
      "APPENDING TO FILE: {'username': 'Buffer78', 'get_info_date': '2018-04-17 13:53:43.617119', 'deleted': False, 'url': 'https://docs.google.com/forms/d/e/1FAIpQLSfmgOcsF0ALqWGPHGpJq2cwUr-xIG-uizbQqXPzPuTkrPM-Lg/viewform?usp=pp_url&entry.360321409=Buffer78&entry.1933578897', 'first_comment_week': 3}\n",
      "first_comment_week: 3\n",
      "url: https://docs.google.com/forms/d/e/1FAIpQLSfmgOcsF0ALqWGPHGpJq2cwUr-xIG-uizbQqXPzPuTkrPM-Lg/viewform?usp=pp_url&entry.360321409=Buffer78&entry.1933578897\n",
      "get_info_data: 2018-04-17 13:53:43.617119\n",
      "deleted: False\n",
      "User FlimFlamJimJam100 found: {'is_mod': False, 'has_subscribed': True, 'hide_from_robots': False, 'verified': True, 'icon_img': 'https://www.redditstatic.com/avatars/avatar_default_16_C18D42.png', 'is_employee': False, 'comment_karma': 672, 'name': 'FlimFlamJimJam100', 'subreddit': {'icon_size': [256, 256], 'key_color': '', 'link_flair_enabled': False, 'subreddit_type': 'user', 'name': 't5_fgngj', 'user_is_moderator': False, 'community_icon': '', 'header_img': None, 'public_description': '', 'show_media': True, 'audience_target': '', 'url': '/user/FlimFlamJimJam100/', 'description': '', 'display_name_prefixed': 'u/FlimFlamJimJam100', 'subscribers': 0, 'display_name': 'u_FlimFlamJimJam100', 'user_is_banned': False, 'is_default_icon': True, 'icon_img': 'https://www.redditstatic.com/avatars/avatar_default_16_C18D42.png', 'over_18': False, 'is_default_banner': True, 'user_is_contributor': False, 'icon_color': '#C18D42', 'header_size': None, 'user_is_muted': False, 'banner_size': None, 'user_is_subscriber': False, 'banner_img': '', 'title': '', 'default_set': True, 'primary_color': ''}, 'is_gold': False, 'is_friend': False, 'id': 'vlxd9tj', 'has_verified_email': False, 'pref_show_snoovatar': False, 'created': 1517897802.0, 'created_utc': 1517869002.0, 'link_karma': 5599}\n",
      "Sending a message to user FlimFlamJimJam100 with data {'first_comment_week': 3, 'username': 'FlimFlamJimJam100', 'url': 'https://docs.google.com/forms/d/e/1FAIpQLSfmgOcsF0ALqWGPHGpJq2cwUr-xIG-uizbQqXPzPuTkrPM-Lg/viewform?usp=pp_url&entry.360321409=FlimFlamJimJam100&entry.1933578897', 'deleted': False, 'get_info_date': '2018-04-17 13:53:47.870536'}\n"
     ]
    },
    {
     "name": "stderr",
     "output_type": "stream",
     "text": [
      "substituting https://oauth.reddit.com for https://api.reddit.com in url\n",
      "GET: https://oauth.reddit.com/user/FlimFlamJimJam100/about/.json\n",
      "substituting https://oauth.reddit.com for https://api.reddit.com in url\n",
      "POST: https://oauth.reddit.com/api/compose/.json\n"
     ]
    },
    {
     "name": "stdout",
     "output_type": "stream",
     "text": [
      "Message successfully sent to user FlimFlamJimJam100\n",
      "APPENDING TO FILE: {'username': 'FlimFlamJimJam100', 'get_info_date': '2018-04-17 13:53:47.870536', 'deleted': False, 'url': 'https://docs.google.com/forms/d/e/1FAIpQLSfmgOcsF0ALqWGPHGpJq2cwUr-xIG-uizbQqXPzPuTkrPM-Lg/viewform?usp=pp_url&entry.360321409=FlimFlamJimJam100&entry.1933578897', 'first_comment_week': 3}\n",
      "first_comment_week: 3\n",
      "url: https://docs.google.com/forms/d/e/1FAIpQLSfmgOcsF0ALqWGPHGpJq2cwUr-xIG-uizbQqXPzPuTkrPM-Lg/viewform?usp=pp_url&entry.360321409=FlimFlamJimJam100&entry.1933578897\n",
      "get_info_data: 2018-04-17 13:53:47.870536\n",
      "deleted: False\n",
      "User PlasticaSudata found: {'is_mod': False, 'has_subscribed': False, 'hide_from_robots': False, 'verified': True, 'icon_img': 'https://www.redditstatic.com/avatars/avatar_default_17_0DD3BB.png', 'is_employee': False, 'comment_karma': 0, 'name': 'PlasticaSudata', 'subreddit': {'icon_size': [256, 256], 'key_color': '', 'link_flair_enabled': False, 'subreddit_type': 'user', 'name': 't5_h6c2n', 'user_is_moderator': False, 'community_icon': '', 'header_img': None, 'public_description': '', 'show_media': True, 'audience_target': '', 'url': '/user/PlasticaSudata/', 'description': '', 'display_name_prefixed': 'u/PlasticaSudata', 'subscribers': 0, 'display_name': 'u_PlasticaSudata', 'user_is_banned': False, 'is_default_icon': True, 'icon_img': 'https://www.redditstatic.com/avatars/avatar_default_17_0DD3BB.png', 'over_18': False, 'is_default_banner': True, 'user_is_contributor': False, 'icon_color': '#0DD3BB', 'header_size': None, 'user_is_muted': False, 'banner_size': None, 'user_is_subscriber': False, 'banner_img': '', 'title': '', 'default_set': True, 'primary_color': ''}, 'is_gold': False, 'is_friend': False, 'id': '12vtrg00', 'has_verified_email': False, 'pref_show_snoovatar': False, 'created': 1521789382.0, 'created_utc': 1521760582.0, 'link_karma': 15}\n",
      "Sending a message to user PlasticaSudata with data {'first_comment_week': 3, 'username': 'PlasticaSudata', 'url': 'https://docs.google.com/forms/d/e/1FAIpQLSfmgOcsF0ALqWGPHGpJq2cwUr-xIG-uizbQqXPzPuTkrPM-Lg/viewform?usp=pp_url&entry.360321409=PlasticaSudata&entry.1933578897', 'deleted': False, 'get_info_date': '2018-04-17 13:53:52.127350'}\n"
     ]
    },
    {
     "name": "stderr",
     "output_type": "stream",
     "text": [
      "substituting https://oauth.reddit.com for https://api.reddit.com in url\n",
      "GET: https://oauth.reddit.com/user/PlasticaSudata/about/.json\n",
      "substituting https://oauth.reddit.com for https://api.reddit.com in url\n",
      "POST: https://oauth.reddit.com/api/compose/.json\n"
     ]
    },
    {
     "name": "stdout",
     "output_type": "stream",
     "text": [
      "Message successfully sent to user PlasticaSudata\n",
      "APPENDING TO FILE: {'username': 'PlasticaSudata', 'get_info_date': '2018-04-17 13:53:52.127350', 'deleted': False, 'url': 'https://docs.google.com/forms/d/e/1FAIpQLSfmgOcsF0ALqWGPHGpJq2cwUr-xIG-uizbQqXPzPuTkrPM-Lg/viewform?usp=pp_url&entry.360321409=PlasticaSudata&entry.1933578897', 'first_comment_week': 3}\n",
      "first_comment_week: 3\n",
      "url: https://docs.google.com/forms/d/e/1FAIpQLSfmgOcsF0ALqWGPHGpJq2cwUr-xIG-uizbQqXPzPuTkrPM-Lg/viewform?usp=pp_url&entry.360321409=PlasticaSudata&entry.1933578897\n",
      "get_info_data: 2018-04-17 13:53:52.127350\n",
      "deleted: False\n",
      "User han_tate found: {'is_mod': False, 'has_subscribed': True, 'hide_from_robots': False, 'verified': True, 'icon_img': 'https://www.redditstatic.com/avatars/avatar_default_20_D4E815.png', 'is_employee': False, 'comment_karma': 3, 'name': 'han_tate', 'subreddit': {'icon_size': [256, 256], 'key_color': '', 'link_flair_enabled': False, 'subreddit_type': 'user', 'name': 't5_ddhkm', 'user_is_moderator': False, 'community_icon': '', 'header_img': None, 'public_description': '', 'show_media': True, 'audience_target': '', 'url': '/user/han_tate/', 'description': '', 'display_name_prefixed': 'u/han_tate', 'subscribers': 0, 'display_name': 'u_han_tate', 'user_is_banned': False, 'is_default_icon': True, 'icon_img': 'https://www.redditstatic.com/avatars/avatar_default_20_D4E815.png', 'over_18': False, 'is_default_banner': True, 'user_is_contributor': False, 'icon_color': '#D4E815', 'header_size': None, 'user_is_muted': False, 'banner_size': None, 'user_is_subscriber': False, 'banner_img': '', 'title': '', 'default_set': True, 'primary_color': ''}, 'is_gold': False, 'is_friend': False, 'id': '11x5c7', 'has_verified_email': False, 'pref_show_snoovatar': False, 'created': 1475761502.0, 'created_utc': 1475732702.0, 'link_karma': 107}\n",
      "Sending a message to user han_tate with data {'first_comment_week': 3, 'username': 'han_tate', 'url': 'https://docs.google.com/forms/d/e/1FAIpQLSfmgOcsF0ALqWGPHGpJq2cwUr-xIG-uizbQqXPzPuTkrPM-Lg/viewform?usp=pp_url&entry.360321409=han_tate&entry.1933578897', 'deleted': False, 'get_info_date': '2018-04-17 13:53:56.204094'}\n"
     ]
    },
    {
     "name": "stderr",
     "output_type": "stream",
     "text": [
      "substituting https://oauth.reddit.com for https://api.reddit.com in url\n",
      "GET: https://oauth.reddit.com/user/han_tate/about/.json\n",
      "substituting https://oauth.reddit.com for https://api.reddit.com in url\n",
      "POST: https://oauth.reddit.com/api/compose/.json\n"
     ]
    },
    {
     "name": "stdout",
     "output_type": "stream",
     "text": [
      "Message successfully sent to user han_tate\n",
      "APPENDING TO FILE: {'username': 'han_tate', 'get_info_date': '2018-04-17 13:53:56.204094', 'deleted': False, 'url': 'https://docs.google.com/forms/d/e/1FAIpQLSfmgOcsF0ALqWGPHGpJq2cwUr-xIG-uizbQqXPzPuTkrPM-Lg/viewform?usp=pp_url&entry.360321409=han_tate&entry.1933578897', 'first_comment_week': 3}\n",
      "first_comment_week: 3\n",
      "url: https://docs.google.com/forms/d/e/1FAIpQLSfmgOcsF0ALqWGPHGpJq2cwUr-xIG-uizbQqXPzPuTkrPM-Lg/viewform?usp=pp_url&entry.360321409=han_tate&entry.1933578897\n",
      "get_info_data: 2018-04-17 13:53:56.204094\n",
      "deleted: False\n",
      "User saratina found: {'is_mod': True, 'has_subscribed': True, 'hide_from_robots': False, 'verified': False, 'icon_img': 'https://www.redditstatic.com/avatars/avatar_default_19_DB0064.png', 'is_employee': False, 'comment_karma': 6982, 'name': 'saratina', 'subreddit': None, 'is_gold': False, 'is_friend': False, 'id': '98lbe', 'has_verified_email': True, 'pref_show_snoovatar': False, 'created': 1349693334.0, 'created_utc': 1349664534.0, 'link_karma': 4848}\n",
      "Sending a message to user saratina with data {'first_comment_week': 3, 'username': 'saratina', 'url': 'https://docs.google.com/forms/d/e/1FAIpQLSfmgOcsF0ALqWGPHGpJq2cwUr-xIG-uizbQqXPzPuTkrPM-Lg/viewform?usp=pp_url&entry.360321409=saratina&entry.1933578897', 'deleted': False, 'get_info_date': '2018-04-17 13:54:00.474970'}\n"
     ]
    },
    {
     "name": "stderr",
     "output_type": "stream",
     "text": [
      "substituting https://oauth.reddit.com for https://api.reddit.com in url\n",
      "GET: https://oauth.reddit.com/user/saratina/about/.json\n",
      "substituting https://oauth.reddit.com for https://api.reddit.com in url\n",
      "POST: https://oauth.reddit.com/api/compose/.json\n"
     ]
    },
    {
     "name": "stdout",
     "output_type": "stream",
     "text": [
      "Message successfully sent to user saratina\n",
      "APPENDING TO FILE: {'username': 'saratina', 'get_info_date': '2018-04-17 13:54:00.474970', 'deleted': False, 'url': 'https://docs.google.com/forms/d/e/1FAIpQLSfmgOcsF0ALqWGPHGpJq2cwUr-xIG-uizbQqXPzPuTkrPM-Lg/viewform?usp=pp_url&entry.360321409=saratina&entry.1933578897', 'first_comment_week': 3}\n",
      "first_comment_week: 3\n",
      "url: https://docs.google.com/forms/d/e/1FAIpQLSfmgOcsF0ALqWGPHGpJq2cwUr-xIG-uizbQqXPzPuTkrPM-Lg/viewform?usp=pp_url&entry.360321409=saratina&entry.1933578897\n",
      "get_info_data: 2018-04-17 13:54:00.474970\n",
      "deleted: False\n",
      "User Hypatia2001 found: {'is_mod': False, 'has_subscribed': True, 'hide_from_robots': True, 'verified': True, 'icon_img': 'https://s.redditmedia.com/t5_fasos/styles/profileIcon_ezcgzhyid0k01.png?fit=crop&crop=faces%2Centropy&arh=1.0&w=256&h=256&s=498b85a4243b042b28f643ca60f53302', 'is_employee': False, 'comment_karma': 3146, 'name': 'Hypatia2001', 'subreddit': {'icon_size': [256, 256], 'key_color': '', 'link_flair_enabled': False, 'subreddit_type': 'user', 'name': 't5_fasos', 'user_is_moderator': False, 'community_icon': '', 'header_img': None, 'public_description': '', 'show_media': True, 'audience_target': '', 'url': '/user/Hypatia2001/', 'description': '', 'display_name_prefixed': 'u/Hypatia2001', 'subscribers': 0, 'display_name': 'u_Hypatia2001', 'user_is_banned': False, 'is_default_icon': False, 'icon_img': 'https://s.redditmedia.com/t5_fasos/styles/profileIcon_ezcgzhyid0k01.png?fit=crop&crop=faces%2Centropy&arh=1.0&w=256&h=256&s=498b85a4243b042b28f643ca60f53302', 'over_18': False, 'is_default_banner': False, 'user_is_contributor': False, 'icon_color': '', 'header_size': None, 'user_is_muted': False, 'banner_size': [1280, 384], 'user_is_subscriber': False, 'banner_img': 'https://s.redditmedia.com/t5_fasos/styles/profileBanner_hgwp4qgtl0k01.png?fit=crop&crop=center&arh=0.3&w=1280&h=384&s=7c8a00ea3ab149dea366aa6dbf163f7a', 'title': '', 'default_set': True, 'primary_color': ''}, 'is_gold': False, 'is_friend': False, 'id': '5e20zg8', 'has_verified_email': True, 'pref_show_snoovatar': False, 'created': 1517542123.0, 'created_utc': 1517513323.0, 'link_karma': 35}\n",
      "Sending a message to user Hypatia2001 with data {'first_comment_week': 3, 'username': 'Hypatia2001', 'url': 'https://docs.google.com/forms/d/e/1FAIpQLSfmgOcsF0ALqWGPHGpJq2cwUr-xIG-uizbQqXPzPuTkrPM-Lg/viewform?usp=pp_url&entry.360321409=Hypatia2001&entry.1933578897', 'deleted': False, 'get_info_date': '2018-04-17 13:54:04.826857'}\n"
     ]
    },
    {
     "name": "stderr",
     "output_type": "stream",
     "text": [
      "substituting https://oauth.reddit.com for https://api.reddit.com in url\n",
      "GET: https://oauth.reddit.com/user/Hypatia2001/about/.json\n",
      "substituting https://oauth.reddit.com for https://api.reddit.com in url\n",
      "POST: https://oauth.reddit.com/api/compose/.json\n"
     ]
    },
    {
     "name": "stdout",
     "output_type": "stream",
     "text": [
      "Message successfully sent to user Hypatia2001\n",
      "APPENDING TO FILE: {'username': 'Hypatia2001', 'get_info_date': '2018-04-17 13:54:04.826857', 'deleted': False, 'url': 'https://docs.google.com/forms/d/e/1FAIpQLSfmgOcsF0ALqWGPHGpJq2cwUr-xIG-uizbQqXPzPuTkrPM-Lg/viewform?usp=pp_url&entry.360321409=Hypatia2001&entry.1933578897', 'first_comment_week': 3}\n",
      "first_comment_week: 3\n",
      "url: https://docs.google.com/forms/d/e/1FAIpQLSfmgOcsF0ALqWGPHGpJq2cwUr-xIG-uizbQqXPzPuTkrPM-Lg/viewform?usp=pp_url&entry.360321409=Hypatia2001&entry.1933578897\n",
      "get_info_data: 2018-04-17 13:54:04.826857\n",
      "deleted: False\n",
      "User anikinsley found: {'is_mod': False, 'has_subscribed': True, 'hide_from_robots': True, 'verified': True, 'icon_img': 'https://www.redditstatic.com/avatars/avatar_default_03_D4E815.png', 'is_employee': False, 'comment_karma': 721, 'name': 'anikinsley', 'subreddit': {'icon_size': [256, 256], 'key_color': '', 'link_flair_enabled': False, 'subreddit_type': 'user', 'name': 't5_6d9h5', 'user_is_moderator': False, 'community_icon': '', 'header_img': None, 'public_description': '', 'show_media': True, 'audience_target': '', 'url': '/user/anikinsley/', 'description': '', 'display_name_prefixed': 'u/anikinsley', 'subscribers': 0, 'display_name': 'u_anikinsley', 'user_is_banned': False, 'is_default_icon': True, 'icon_img': 'https://www.redditstatic.com/avatars/avatar_default_03_D4E815.png', 'over_18': False, 'is_default_banner': True, 'user_is_contributor': False, 'icon_color': '#D4E815', 'header_size': None, 'user_is_muted': False, 'banner_size': None, 'user_is_subscriber': False, 'banner_img': '', 'title': '', 'default_set': True, 'primary_color': ''}, 'is_gold': False, 'is_friend': False, 'id': 'fnwo1dy', 'has_verified_email': False, 'pref_show_snoovatar': False, 'created': 1506846897.0, 'created_utc': 1506818097.0, 'link_karma': 39}\n",
      "Sending a message to user anikinsley with data {'first_comment_week': 3, 'username': 'anikinsley', 'url': 'https://docs.google.com/forms/d/e/1FAIpQLSfmgOcsF0ALqWGPHGpJq2cwUr-xIG-uizbQqXPzPuTkrPM-Lg/viewform?usp=pp_url&entry.360321409=anikinsley&entry.1933578897', 'deleted': False, 'get_info_date': '2018-04-17 13:54:08.983425'}\n"
     ]
    },
    {
     "name": "stderr",
     "output_type": "stream",
     "text": [
      "substituting https://oauth.reddit.com for https://api.reddit.com in url\n",
      "GET: https://oauth.reddit.com/user/anikinsley/about/.json\n",
      "substituting https://oauth.reddit.com for https://api.reddit.com in url\n",
      "POST: https://oauth.reddit.com/api/compose/.json\n"
     ]
    },
    {
     "name": "stdout",
     "output_type": "stream",
     "text": [
      "Message successfully sent to user anikinsley\n",
      "APPENDING TO FILE: {'username': 'anikinsley', 'get_info_date': '2018-04-17 13:54:08.983425', 'deleted': False, 'url': 'https://docs.google.com/forms/d/e/1FAIpQLSfmgOcsF0ALqWGPHGpJq2cwUr-xIG-uizbQqXPzPuTkrPM-Lg/viewform?usp=pp_url&entry.360321409=anikinsley&entry.1933578897', 'first_comment_week': 3}\n",
      "first_comment_week: 3\n",
      "url: https://docs.google.com/forms/d/e/1FAIpQLSfmgOcsF0ALqWGPHGpJq2cwUr-xIG-uizbQqXPzPuTkrPM-Lg/viewform?usp=pp_url&entry.360321409=anikinsley&entry.1933578897\n",
      "get_info_data: 2018-04-17 13:54:08.983425\n",
      "deleted: False\n",
      "User DayleD found: {'is_mod': False, 'has_subscribed': True, 'hide_from_robots': False, 'verified': True, 'icon_img': 'https://www.redditstatic.com/avatars/avatar_default_01_A06A42.png', 'is_employee': False, 'comment_karma': 8768, 'name': 'DayleD', 'subreddit': {'icon_size': [256, 256], 'key_color': '', 'link_flair_enabled': False, 'subreddit_type': 'user', 'name': 't5_eandh', 'user_is_moderator': False, 'community_icon': '', 'header_img': None, 'public_description': '', 'show_media': True, 'audience_target': '', 'url': '/user/DayleD/', 'description': '', 'display_name_prefixed': 'u/DayleD', 'subscribers': 0, 'display_name': 'u_DayleD', 'user_is_banned': False, 'is_default_icon': True, 'icon_img': 'https://www.redditstatic.com/avatars/avatar_default_01_A06A42.png', 'over_18': False, 'is_default_banner': True, 'user_is_contributor': False, 'icon_color': '#A06A42', 'header_size': None, 'user_is_muted': False, 'banner_size': None, 'user_is_subscriber': False, 'banner_img': '', 'title': '', 'default_set': True, 'primary_color': ''}, 'is_gold': False, 'is_friend': False, 'id': 'y98dg', 'has_verified_email': False, 'pref_show_snoovatar': False, 'created': 1464401260.0, 'created_utc': 1464372460.0, 'link_karma': 148}\n",
      "Sending a message to user DayleD with data {'first_comment_week': 3, 'username': 'DayleD', 'url': 'https://docs.google.com/forms/d/e/1FAIpQLSfmgOcsF0ALqWGPHGpJq2cwUr-xIG-uizbQqXPzPuTkrPM-Lg/viewform?usp=pp_url&entry.360321409=DayleD&entry.1933578897', 'deleted': False, 'get_info_date': '2018-04-17 13:54:13.090155'}\n"
     ]
    },
    {
     "name": "stderr",
     "output_type": "stream",
     "text": [
      "substituting https://oauth.reddit.com for https://api.reddit.com in url\n",
      "GET: https://oauth.reddit.com/user/DayleD/about/.json\n",
      "substituting https://oauth.reddit.com for https://api.reddit.com in url\n",
      "POST: https://oauth.reddit.com/api/compose/.json\n"
     ]
    },
    {
     "name": "stdout",
     "output_type": "stream",
     "text": [
      "Message successfully sent to user DayleD\n",
      "APPENDING TO FILE: {'username': 'DayleD', 'get_info_date': '2018-04-17 13:54:13.090155', 'deleted': False, 'url': 'https://docs.google.com/forms/d/e/1FAIpQLSfmgOcsF0ALqWGPHGpJq2cwUr-xIG-uizbQqXPzPuTkrPM-Lg/viewform?usp=pp_url&entry.360321409=DayleD&entry.1933578897', 'first_comment_week': 3}\n",
      "first_comment_week: 3\n",
      "url: https://docs.google.com/forms/d/e/1FAIpQLSfmgOcsF0ALqWGPHGpJq2cwUr-xIG-uizbQqXPzPuTkrPM-Lg/viewform?usp=pp_url&entry.360321409=DayleD&entry.1933578897\n",
      "get_info_data: 2018-04-17 13:54:13.090155\n",
      "deleted: False\n",
      "User ComradeZooey found: {'is_mod': True, 'has_subscribed': True, 'hide_from_robots': True, 'verified': True, 'icon_img': 'https://www.redditstatic.com/avatars/avatar_default_19_FF585B.png', 'is_employee': False, 'comment_karma': 14810, 'name': 'ComradeZooey', 'subreddit': {'icon_size': [256, 256], 'key_color': '', 'link_flair_enabled': False, 'subreddit_type': 'user', 'name': 't5_3ljck', 'user_is_moderator': False, 'community_icon': '', 'header_img': None, 'public_description': '', 'show_media': True, 'audience_target': '', 'url': '/user/ComradeZooey/', 'description': '', 'display_name_prefixed': 'u/ComradeZooey', 'subscribers': 0, 'display_name': 'u_ComradeZooey', 'user_is_banned': False, 'is_default_icon': True, 'icon_img': 'https://www.redditstatic.com/avatars/avatar_default_19_FF585B.png', 'over_18': False, 'is_default_banner': True, 'user_is_contributor': False, 'icon_color': '#FF585B', 'header_size': None, 'user_is_muted': False, 'banner_size': None, 'user_is_subscriber': False, 'banner_img': '', 'title': 'Comrade Zooey', 'default_set': True, 'primary_color': ''}, 'is_gold': True, 'is_friend': False, 'id': 'bt3ku', 'has_verified_email': True, 'pref_show_snoovatar': True, 'created': 1369565166.0, 'created_utc': 1369536366.0, 'link_karma': 231}\n",
      "Sending a message to user ComradeZooey with data {'first_comment_week': 3, 'username': 'ComradeZooey', 'url': 'https://docs.google.com/forms/d/e/1FAIpQLSfmgOcsF0ALqWGPHGpJq2cwUr-xIG-uizbQqXPzPuTkrPM-Lg/viewform?usp=pp_url&entry.360321409=ComradeZooey&entry.1933578897', 'deleted': False, 'get_info_date': '2018-04-17 13:54:17.361718'}\n"
     ]
    },
    {
     "name": "stderr",
     "output_type": "stream",
     "text": [
      "substituting https://oauth.reddit.com for https://api.reddit.com in url\n",
      "GET: https://oauth.reddit.com/user/ComradeZooey/about/.json\n",
      "substituting https://oauth.reddit.com for https://api.reddit.com in url\n",
      "POST: https://oauth.reddit.com/api/compose/.json\n"
     ]
    },
    {
     "name": "stdout",
     "output_type": "stream",
     "text": [
      "Message successfully sent to user ComradeZooey\n",
      "APPENDING TO FILE: {'username': 'ComradeZooey', 'get_info_date': '2018-04-17 13:54:17.361718', 'deleted': False, 'url': 'https://docs.google.com/forms/d/e/1FAIpQLSfmgOcsF0ALqWGPHGpJq2cwUr-xIG-uizbQqXPzPuTkrPM-Lg/viewform?usp=pp_url&entry.360321409=ComradeZooey&entry.1933578897', 'first_comment_week': 3}\n",
      "first_comment_week: 3\n",
      "url: https://docs.google.com/forms/d/e/1FAIpQLSfmgOcsF0ALqWGPHGpJq2cwUr-xIG-uizbQqXPzPuTkrPM-Lg/viewform?usp=pp_url&entry.360321409=ComradeZooey&entry.1933578897\n",
      "get_info_data: 2018-04-17 13:54:17.361718\n",
      "deleted: False\n",
      "User YungGoat69 found: {'is_mod': False, 'has_subscribed': False, 'hide_from_robots': False, 'verified': True, 'icon_img': 'https://www.redditstatic.com/avatars/avatar_default_05_FF8717.png', 'is_employee': False, 'comment_karma': -31, 'name': 'YungGoat69', 'subreddit': {'icon_size': [256, 256], 'key_color': '', 'link_flair_enabled': False, 'subreddit_type': 'user', 'name': 't5_4tupj', 'user_is_moderator': False, 'community_icon': '', 'header_img': None, 'public_description': '', 'show_media': True, 'audience_target': '', 'url': '/user/YungGoat69/', 'description': '', 'display_name_prefixed': 'u/YungGoat69', 'subscribers': 0, 'display_name': 'u_YungGoat69', 'user_is_banned': False, 'is_default_icon': True, 'icon_img': 'https://www.redditstatic.com/avatars/avatar_default_05_FF8717.png', 'over_18': False, 'is_default_banner': True, 'user_is_contributor': False, 'icon_color': '#FF8717', 'header_size': None, 'user_is_muted': False, 'banner_size': None, 'user_is_subscriber': False, 'banner_img': '', 'title': '', 'default_set': True, 'primary_color': ''}, 'is_gold': False, 'is_friend': False, 'id': 'li38fmw', 'has_verified_email': False, 'pref_show_snoovatar': False, 'created': 1511174072.0, 'created_utc': 1511145272.0, 'link_karma': 36}\n",
      "Sending a message to user YungGoat69 with data {'first_comment_week': 3, 'username': 'YungGoat69', 'url': 'https://docs.google.com/forms/d/e/1FAIpQLSfmgOcsF0ALqWGPHGpJq2cwUr-xIG-uizbQqXPzPuTkrPM-Lg/viewform?usp=pp_url&entry.360321409=YungGoat69&entry.1933578897', 'deleted': False, 'get_info_date': '2018-04-17 13:54:21.636201'}\n"
     ]
    },
    {
     "name": "stderr",
     "output_type": "stream",
     "text": [
      "substituting https://oauth.reddit.com for https://api.reddit.com in url\n",
      "GET: https://oauth.reddit.com/user/YungGoat69/about/.json\n",
      "substituting https://oauth.reddit.com for https://api.reddit.com in url\n",
      "POST: https://oauth.reddit.com/api/compose/.json\n"
     ]
    },
    {
     "name": "stdout",
     "output_type": "stream",
     "text": [
      "Message successfully sent to user YungGoat69\n",
      "APPENDING TO FILE: {'username': 'YungGoat69', 'get_info_date': '2018-04-17 13:54:21.636201', 'deleted': False, 'url': 'https://docs.google.com/forms/d/e/1FAIpQLSfmgOcsF0ALqWGPHGpJq2cwUr-xIG-uizbQqXPzPuTkrPM-Lg/viewform?usp=pp_url&entry.360321409=YungGoat69&entry.1933578897', 'first_comment_week': 3}\n",
      "first_comment_week: 3\n",
      "url: https://docs.google.com/forms/d/e/1FAIpQLSfmgOcsF0ALqWGPHGpJq2cwUr-xIG-uizbQqXPzPuTkrPM-Lg/viewform?usp=pp_url&entry.360321409=YungGoat69&entry.1933578897\n",
      "get_info_data: 2018-04-17 13:54:21.636201\n",
      "deleted: False\n",
      "User skeltalkween found: {'is_mod': False, 'has_subscribed': True, 'hide_from_robots': False, 'verified': True, 'icon_img': 'https://www.redditstatic.com/avatars/avatar_default_08_24A0ED.png', 'is_employee': False, 'comment_karma': 667, 'name': 'skeltalkween', 'subreddit': {'icon_size': [256, 256], 'key_color': '', 'link_flair_enabled': False, 'subreddit_type': 'user', 'name': 't5_7c8pe', 'user_is_moderator': False, 'community_icon': '', 'header_img': None, 'public_description': '', 'show_media': True, 'audience_target': '', 'url': '/user/skeltalkween/', 'description': '', 'display_name_prefixed': 'u/skeltalkween', 'subscribers': 0, 'display_name': 'u_skeltalkween', 'user_is_banned': False, 'is_default_icon': True, 'icon_img': 'https://www.redditstatic.com/avatars/avatar_default_08_24A0ED.png', 'over_18': False, 'is_default_banner': True, 'user_is_contributor': False, 'icon_color': '#24A0ED', 'header_size': None, 'user_is_muted': False, 'banner_size': None, 'user_is_subscriber': False, 'banner_img': '', 'title': '', 'default_set': True, 'primary_color': ''}, 'is_gold': False, 'is_friend': False, 'id': '8sh2imr', 'has_verified_email': True, 'pref_show_snoovatar': False, 'created': 1501413391.0, 'created_utc': 1501384591.0, 'link_karma': 6}\n",
      "Sending a message to user skeltalkween with data {'first_comment_week': 3, 'username': 'skeltalkween', 'url': 'https://docs.google.com/forms/d/e/1FAIpQLSfmgOcsF0ALqWGPHGpJq2cwUr-xIG-uizbQqXPzPuTkrPM-Lg/viewform?usp=pp_url&entry.360321409=skeltalkween&entry.1933578897', 'deleted': False, 'get_info_date': '2018-04-17 13:54:25.756698'}\n"
     ]
    },
    {
     "name": "stderr",
     "output_type": "stream",
     "text": [
      "substituting https://oauth.reddit.com for https://api.reddit.com in url\n",
      "GET: https://oauth.reddit.com/user/skeltalkween/about/.json\n",
      "substituting https://oauth.reddit.com for https://api.reddit.com in url\n",
      "POST: https://oauth.reddit.com/api/compose/.json\n"
     ]
    },
    {
     "name": "stdout",
     "output_type": "stream",
     "text": [
      "Message successfully sent to user skeltalkween\n",
      "APPENDING TO FILE: {'username': 'skeltalkween', 'get_info_date': '2018-04-17 13:54:25.756698', 'deleted': False, 'url': 'https://docs.google.com/forms/d/e/1FAIpQLSfmgOcsF0ALqWGPHGpJq2cwUr-xIG-uizbQqXPzPuTkrPM-Lg/viewform?usp=pp_url&entry.360321409=skeltalkween&entry.1933578897', 'first_comment_week': 3}\n",
      "first_comment_week: 3\n",
      "url: https://docs.google.com/forms/d/e/1FAIpQLSfmgOcsF0ALqWGPHGpJq2cwUr-xIG-uizbQqXPzPuTkrPM-Lg/viewform?usp=pp_url&entry.360321409=skeltalkween&entry.1933578897\n",
      "get_info_data: 2018-04-17 13:54:25.756698\n",
      "deleted: False\n",
      "User EmperorSexy found: {'is_mod': True, 'has_subscribed': True, 'hide_from_robots': True, 'verified': False, 'icon_img': 'https://www.redditstatic.com/avatars/avatar_default_10_A5A4A4.png', 'is_employee': False, 'comment_karma': 150907, 'name': 'EmperorSexy', 'subreddit': None, 'is_gold': False, 'is_friend': False, 'id': '5mfed', 'has_verified_email': True, 'pref_show_snoovatar': False, 'created': 1312587180.0, 'created_utc': 1312558380.0, 'link_karma': 18807}\n",
      "Sending a message to user EmperorSexy with data {'first_comment_week': 3, 'username': 'EmperorSexy', 'url': 'https://docs.google.com/forms/d/e/1FAIpQLSfmgOcsF0ALqWGPHGpJq2cwUr-xIG-uizbQqXPzPuTkrPM-Lg/viewform?usp=pp_url&entry.360321409=EmperorSexy&entry.1933578897', 'deleted': False, 'get_info_date': '2018-04-17 13:54:29.896812'}\n"
     ]
    },
    {
     "name": "stderr",
     "output_type": "stream",
     "text": [
      "substituting https://oauth.reddit.com for https://api.reddit.com in url\n",
      "GET: https://oauth.reddit.com/user/EmperorSexy/about/.json\n",
      "substituting https://oauth.reddit.com for https://api.reddit.com in url\n",
      "POST: https://oauth.reddit.com/api/compose/.json\n"
     ]
    },
    {
     "name": "stdout",
     "output_type": "stream",
     "text": [
      "Message successfully sent to user EmperorSexy\n",
      "APPENDING TO FILE: {'username': 'EmperorSexy', 'get_info_date': '2018-04-17 13:54:29.896812', 'deleted': False, 'url': 'https://docs.google.com/forms/d/e/1FAIpQLSfmgOcsF0ALqWGPHGpJq2cwUr-xIG-uizbQqXPzPuTkrPM-Lg/viewform?usp=pp_url&entry.360321409=EmperorSexy&entry.1933578897', 'first_comment_week': 3}\n",
      "first_comment_week: 3\n",
      "url: https://docs.google.com/forms/d/e/1FAIpQLSfmgOcsF0ALqWGPHGpJq2cwUr-xIG-uizbQqXPzPuTkrPM-Lg/viewform?usp=pp_url&entry.360321409=EmperorSexy&entry.1933578897\n",
      "get_info_data: 2018-04-17 13:54:29.896812\n",
      "deleted: False\n",
      "User 1whoknocks_politely found: {'is_mod': False, 'has_subscribed': True, 'hide_from_robots': True, 'verified': True, 'icon_img': 'https://www.redditstatic.com/avatars/avatar_default_04_FF4500.png', 'is_employee': False, 'comment_karma': 7866, 'name': '1whoknocks_politely', 'subreddit': {'icon_size': [256, 256], 'key_color': '', 'link_flair_enabled': False, 'subreddit_type': 'user', 'name': 't5_bl97a', 'user_is_moderator': False, 'community_icon': '', 'header_img': None, 'public_description': '', 'show_media': True, 'audience_target': '', 'url': '/user/1whoknocks_politely/', 'description': '', 'display_name_prefixed': 'u/1whoknocks_politely', 'subscribers': 0, 'display_name': 'u_1whoknocks_politely', 'user_is_banned': False, 'is_default_icon': True, 'icon_img': 'https://www.redditstatic.com/avatars/avatar_default_04_FF4500.png', 'over_18': False, 'is_default_banner': True, 'user_is_contributor': False, 'icon_color': '#FF4500', 'header_size': None, 'user_is_muted': False, 'banner_size': None, 'user_is_subscriber': False, 'banner_img': '', 'title': '', 'default_set': True, 'primary_color': ''}, 'is_gold': False, 'is_friend': False, 'id': 'go0p3', 'has_verified_email': True, 'pref_show_snoovatar': False, 'created': 1400760180.0, 'created_utc': 1400731380.0, 'link_karma': 1113}\n",
      "Sending a message to user 1whoknocks_politely with data {'first_comment_week': 3, 'username': '1whoknocks_politely', 'url': 'https://docs.google.com/forms/d/e/1FAIpQLSfmgOcsF0ALqWGPHGpJq2cwUr-xIG-uizbQqXPzPuTkrPM-Lg/viewform?usp=pp_url&entry.360321409=1whoknocks_politely&entry.1933578897', 'deleted': False, 'get_info_date': '2018-04-17 13:54:34.141677'}\n"
     ]
    },
    {
     "name": "stderr",
     "output_type": "stream",
     "text": [
      "substituting https://oauth.reddit.com for https://api.reddit.com in url\n",
      "GET: https://oauth.reddit.com/user/1whoknocks_politely/about/.json\n",
      "substituting https://oauth.reddit.com for https://api.reddit.com in url\n",
      "POST: https://oauth.reddit.com/api/compose/.json\n"
     ]
    },
    {
     "name": "stdout",
     "output_type": "stream",
     "text": [
      "Message successfully sent to user 1whoknocks_politely\n",
      "APPENDING TO FILE: {'username': '1whoknocks_politely', 'get_info_date': '2018-04-17 13:54:34.141677', 'deleted': False, 'url': 'https://docs.google.com/forms/d/e/1FAIpQLSfmgOcsF0ALqWGPHGpJq2cwUr-xIG-uizbQqXPzPuTkrPM-Lg/viewform?usp=pp_url&entry.360321409=1whoknocks_politely&entry.1933578897', 'first_comment_week': 3}\n",
      "first_comment_week: 3\n",
      "url: https://docs.google.com/forms/d/e/1FAIpQLSfmgOcsF0ALqWGPHGpJq2cwUr-xIG-uizbQqXPzPuTkrPM-Lg/viewform?usp=pp_url&entry.360321409=1whoknocks_politely&entry.1933578897\n",
      "get_info_data: 2018-04-17 13:54:34.141677\n",
      "deleted: False\n"
     ]
    },
    {
     "name": "stderr",
     "output_type": "stream",
     "text": [
      "substituting https://oauth.reddit.com for https://api.reddit.com in url\n",
      "GET: https://oauth.reddit.com/user/CharlieDeee/about/.json\n"
     ]
    },
    {
     "name": "stdout",
     "output_type": "stream",
     "text": [
      "User CharlieDeee found: {'is_mod': False, 'has_subscribed': True, 'hide_from_robots': False, 'verified': True, 'icon_img': 'https://www.redditstatic.com/avatars/avatar_default_03_7193FF.png', 'is_employee': False, 'comment_karma': 12485, 'name': 'CharlieDeee', 'subreddit': {'icon_size': [256, 256], 'key_color': '', 'link_flair_enabled': False, 'subreddit_type': 'user', 'name': 't5_6k1l8', 'user_is_moderator': False, 'community_icon': '', 'header_img': None, 'public_description': '', 'show_media': True, 'audience_target': '', 'url': '/user/CharlieDeee/', 'description': '', 'display_name_prefixed': 'u/CharlieDeee', 'subscribers': 0, 'display_name': 'u_CharlieDeee', 'user_is_banned': False, 'is_default_icon': True, 'icon_img': 'https://www.redditstatic.com/avatars/avatar_default_03_7193FF.png', 'over_18': False, 'is_default_banner': True, 'user_is_contributor': False, 'icon_color': '#7193FF', 'header_size': None, 'user_is_muted': False, 'banner_size': None, 'user_is_subscriber': False, 'banner_img': '', 'title': '', 'default_set': True, 'primary_color': ''}, 'is_gold': False, 'is_friend': False, 'id': 'ewu21na', 'has_verified_email': True, 'pref_show_snoovatar': False, 'created': 1506288425.0, 'created_utc': 1506259625.0, 'link_karma': 987}\n",
      "Sending a message to user CharlieDeee with data {'first_comment_week': 3, 'username': 'CharlieDeee', 'url': 'https://docs.google.com/forms/d/e/1FAIpQLSfmgOcsF0ALqWGPHGpJq2cwUr-xIG-uizbQqXPzPuTkrPM-Lg/viewform?usp=pp_url&entry.360321409=CharlieDeee&entry.1933578897', 'deleted': False, 'get_info_date': '2018-04-17 13:54:38.690703'}\n"
     ]
    },
    {
     "name": "stderr",
     "output_type": "stream",
     "text": [
      "substituting https://oauth.reddit.com for https://api.reddit.com in url\n",
      "POST: https://oauth.reddit.com/api/compose/.json\n"
     ]
    },
    {
     "name": "stdout",
     "output_type": "stream",
     "text": [
      "Message successfully sent to user CharlieDeee\n",
      "APPENDING TO FILE: {'username': 'CharlieDeee', 'get_info_date': '2018-04-17 13:54:38.690703', 'deleted': False, 'url': 'https://docs.google.com/forms/d/e/1FAIpQLSfmgOcsF0ALqWGPHGpJq2cwUr-xIG-uizbQqXPzPuTkrPM-Lg/viewform?usp=pp_url&entry.360321409=CharlieDeee&entry.1933578897', 'first_comment_week': 3}\n",
      "first_comment_week: 3\n",
      "url: https://docs.google.com/forms/d/e/1FAIpQLSfmgOcsF0ALqWGPHGpJq2cwUr-xIG-uizbQqXPzPuTkrPM-Lg/viewform?usp=pp_url&entry.360321409=CharlieDeee&entry.1933578897\n",
      "get_info_data: 2018-04-17 13:54:38.690703\n",
      "deleted: False\n",
      "User jenneration found: {'is_mod': False, 'has_subscribed': True, 'hide_from_robots': False, 'verified': True, 'icon_img': 'https://www.redditstatic.com/avatars/avatar_default_11_FFB000.png', 'is_employee': False, 'comment_karma': 829, 'name': 'jenneration', 'subreddit': {'icon_size': [256, 256], 'key_color': '', 'link_flair_enabled': False, 'subreddit_type': 'user', 'name': 't5_c8xzm', 'user_is_moderator': False, 'community_icon': '', 'header_img': None, 'public_description': '', 'show_media': True, 'audience_target': '', 'url': '/user/jenneration/', 'description': '', 'display_name_prefixed': 'u/jenneration', 'subscribers': 0, 'display_name': 'u_jenneration', 'user_is_banned': False, 'is_default_icon': True, 'icon_img': 'https://www.redditstatic.com/avatars/avatar_default_11_FFB000.png', 'over_18': False, 'is_default_banner': True, 'user_is_contributor': False, 'icon_color': '#FFB000', 'header_size': None, 'user_is_muted': False, 'banner_size': None, 'user_is_subscriber': False, 'banner_img': '', 'title': '', 'default_set': True, 'primary_color': ''}, 'is_gold': False, 'is_friend': False, 'id': 'ctkya', 'has_verified_email': True, 'pref_show_snoovatar': False, 'created': 1376997449.0, 'created_utc': 1376968649.0, 'link_karma': 56}\n",
      "Sending a message to user jenneration with data {'first_comment_week': 3, 'username': 'jenneration', 'url': 'https://docs.google.com/forms/d/e/1FAIpQLSfmgOcsF0ALqWGPHGpJq2cwUr-xIG-uizbQqXPzPuTkrPM-Lg/viewform?usp=pp_url&entry.360321409=jenneration&entry.1933578897', 'deleted': False, 'get_info_date': '2018-04-17 13:54:42.743181'}\n"
     ]
    },
    {
     "name": "stderr",
     "output_type": "stream",
     "text": [
      "substituting https://oauth.reddit.com for https://api.reddit.com in url\n",
      "GET: https://oauth.reddit.com/user/jenneration/about/.json\n",
      "substituting https://oauth.reddit.com for https://api.reddit.com in url\n",
      "POST: https://oauth.reddit.com/api/compose/.json\n"
     ]
    },
    {
     "name": "stdout",
     "output_type": "stream",
     "text": [
      "Message successfully sent to user jenneration\n",
      "APPENDING TO FILE: {'username': 'jenneration', 'get_info_date': '2018-04-17 13:54:42.743181', 'deleted': False, 'url': 'https://docs.google.com/forms/d/e/1FAIpQLSfmgOcsF0ALqWGPHGpJq2cwUr-xIG-uizbQqXPzPuTkrPM-Lg/viewform?usp=pp_url&entry.360321409=jenneration&entry.1933578897', 'first_comment_week': 3}\n",
      "first_comment_week: 3\n",
      "url: https://docs.google.com/forms/d/e/1FAIpQLSfmgOcsF0ALqWGPHGpJq2cwUr-xIG-uizbQqXPzPuTkrPM-Lg/viewform?usp=pp_url&entry.360321409=jenneration&entry.1933578897\n",
      "get_info_data: 2018-04-17 13:54:42.743181\n",
      "deleted: False\n",
      "User VextrenGaming found: {'is_mod': True, 'has_subscribed': True, 'hide_from_robots': False, 'verified': False, 'icon_img': 'https://www.redditstatic.com/avatars/avatar_default_07_4856A3.png', 'is_employee': False, 'comment_karma': 30317, 'name': 'VextrenGaming', 'subreddit': None, 'is_gold': False, 'is_friend': False, 'id': 'jn2zm', 'has_verified_email': True, 'pref_show_snoovatar': False, 'created': 1417140160.0, 'created_utc': 1417111360.0, 'link_karma': 2823}\n",
      "Sending a message to user VextrenGaming with data {'first_comment_week': 3, 'username': 'VextrenGaming', 'url': 'https://docs.google.com/forms/d/e/1FAIpQLSfmgOcsF0ALqWGPHGpJq2cwUr-xIG-uizbQqXPzPuTkrPM-Lg/viewform?usp=pp_url&entry.360321409=VextrenGaming&entry.1933578897', 'deleted': False, 'get_info_date': '2018-04-17 13:54:46.923795'}\n"
     ]
    },
    {
     "name": "stderr",
     "output_type": "stream",
     "text": [
      "substituting https://oauth.reddit.com for https://api.reddit.com in url\n",
      "GET: https://oauth.reddit.com/user/VextrenGaming/about/.json\n",
      "substituting https://oauth.reddit.com for https://api.reddit.com in url\n",
      "POST: https://oauth.reddit.com/api/compose/.json\n"
     ]
    },
    {
     "name": "stdout",
     "output_type": "stream",
     "text": [
      "Message successfully sent to user VextrenGaming\n",
      "APPENDING TO FILE: {'username': 'VextrenGaming', 'get_info_date': '2018-04-17 13:54:46.923795', 'deleted': False, 'url': 'https://docs.google.com/forms/d/e/1FAIpQLSfmgOcsF0ALqWGPHGpJq2cwUr-xIG-uizbQqXPzPuTkrPM-Lg/viewform?usp=pp_url&entry.360321409=VextrenGaming&entry.1933578897', 'first_comment_week': 3}\n",
      "first_comment_week: 3\n",
      "url: https://docs.google.com/forms/d/e/1FAIpQLSfmgOcsF0ALqWGPHGpJq2cwUr-xIG-uizbQqXPzPuTkrPM-Lg/viewform?usp=pp_url&entry.360321409=VextrenGaming&entry.1933578897\n",
      "get_info_data: 2018-04-17 13:54:46.923795\n",
      "deleted: False\n",
      "User Lex_The_Impaler found: {'is_mod': False, 'has_subscribed': True, 'hide_from_robots': False, 'verified': True, 'icon_img': 'https://www.redditstatic.com/avatars/avatar_default_07_D4E815.png', 'is_employee': False, 'comment_karma': 26, 'name': 'Lex_The_Impaler', 'subreddit': {'icon_size': [256, 256], 'key_color': '', 'link_flair_enabled': False, 'subreddit_type': 'user', 'name': 't5_9php7', 'user_is_moderator': False, 'community_icon': '', 'header_img': None, 'public_description': '', 'show_media': True, 'audience_target': '', 'url': '/user/Lex_The_Impaler/', 'description': '', 'display_name_prefixed': 'u/Lex_The_Impaler', 'subscribers': 0, 'display_name': 'u_Lex_The_Impaler', 'user_is_banned': False, 'is_default_icon': True, 'icon_img': 'https://www.redditstatic.com/avatars/avatar_default_07_D4E815.png', 'over_18': True, 'is_default_banner': True, 'user_is_contributor': False, 'icon_color': '#D4E815', 'header_size': None, 'user_is_muted': False, 'banner_size': None, 'user_is_subscriber': False, 'banner_img': '', 'title': 'LittleLuLu', 'default_set': True, 'primary_color': ''}, 'is_gold': False, 'is_friend': False, 'id': 'paacp72', 'has_verified_email': False, 'pref_show_snoovatar': False, 'created': 1514016760.0, 'created_utc': 1513987960.0, 'link_karma': 9}\n",
      "Sending a message to user Lex_The_Impaler with data {'first_comment_week': 3, 'username': 'Lex_The_Impaler', 'url': 'https://docs.google.com/forms/d/e/1FAIpQLSfmgOcsF0ALqWGPHGpJq2cwUr-xIG-uizbQqXPzPuTkrPM-Lg/viewform?usp=pp_url&entry.360321409=Lex_The_Impaler&entry.1933578897', 'deleted': False, 'get_info_date': '2018-04-17 13:54:51.409636'}\n"
     ]
    },
    {
     "name": "stderr",
     "output_type": "stream",
     "text": [
      "substituting https://oauth.reddit.com for https://api.reddit.com in url\n",
      "GET: https://oauth.reddit.com/user/Lex_The_Impaler/about/.json\n",
      "substituting https://oauth.reddit.com for https://api.reddit.com in url\n",
      "POST: https://oauth.reddit.com/api/compose/.json\n"
     ]
    },
    {
     "name": "stdout",
     "output_type": "stream",
     "text": [
      "Message successfully sent to user Lex_The_Impaler\n",
      "APPENDING TO FILE: {'username': 'Lex_The_Impaler', 'get_info_date': '2018-04-17 13:54:51.409636', 'deleted': False, 'url': 'https://docs.google.com/forms/d/e/1FAIpQLSfmgOcsF0ALqWGPHGpJq2cwUr-xIG-uizbQqXPzPuTkrPM-Lg/viewform?usp=pp_url&entry.360321409=Lex_The_Impaler&entry.1933578897', 'first_comment_week': 3}\n",
      "first_comment_week: 3\n",
      "url: https://docs.google.com/forms/d/e/1FAIpQLSfmgOcsF0ALqWGPHGpJq2cwUr-xIG-uizbQqXPzPuTkrPM-Lg/viewform?usp=pp_url&entry.360321409=Lex_The_Impaler&entry.1933578897\n",
      "get_info_data: 2018-04-17 13:54:51.409636\n",
      "deleted: False\n",
      "User Mind_of_KeazieBTV found: {'is_mod': False, 'has_subscribed': True, 'hide_from_robots': False, 'verified': True, 'icon_img': 'https://www.redditstatic.com/avatars/avatar_default_10_FF66AC.png', 'is_employee': False, 'comment_karma': 8, 'name': 'Mind_of_KeazieBTV', 'subreddit': {'icon_size': [256, 256], 'key_color': '', 'link_flair_enabled': False, 'subreddit_type': 'user', 'name': 't5_dxh6m', 'user_is_moderator': False, 'community_icon': '', 'header_img': None, 'public_description': '', 'show_media': True, 'audience_target': '', 'url': '/user/Mind_of_KeazieBTV/', 'description': '', 'display_name_prefixed': 'u/Mind_of_KeazieBTV', 'subscribers': 0, 'display_name': 'u_Mind_of_KeazieBTV', 'user_is_banned': False, 'is_default_icon': True, 'icon_img': 'https://www.redditstatic.com/avatars/avatar_default_10_FF66AC.png', 'over_18': False, 'is_default_banner': True, 'user_is_contributor': False, 'icon_color': '#FF66AC', 'header_size': None, 'user_is_muted': False, 'banner_size': None, 'user_is_subscriber': False, 'banner_img': '', 'title': '', 'default_set': True, 'primary_color': ''}, 'is_gold': False, 'is_friend': False, 'id': 'stbnqmp', 'has_verified_email': True, 'pref_show_snoovatar': False, 'created': 1516450988.0, 'created_utc': 1516422188.0, 'link_karma': 1}\n",
      "Sending a message to user Mind_of_KeazieBTV with data {'first_comment_week': 3, 'username': 'Mind_of_KeazieBTV', 'url': 'https://docs.google.com/forms/d/e/1FAIpQLSfmgOcsF0ALqWGPHGpJq2cwUr-xIG-uizbQqXPzPuTkrPM-Lg/viewform?usp=pp_url&entry.360321409=Mind_of_KeazieBTV&entry.1933578897', 'deleted': False, 'get_info_date': '2018-04-17 13:54:55.631774'}\n"
     ]
    },
    {
     "name": "stderr",
     "output_type": "stream",
     "text": [
      "substituting https://oauth.reddit.com for https://api.reddit.com in url\n",
      "GET: https://oauth.reddit.com/user/Mind_of_KeazieBTV/about/.json\n",
      "substituting https://oauth.reddit.com for https://api.reddit.com in url\n",
      "POST: https://oauth.reddit.com/api/compose/.json\n"
     ]
    },
    {
     "name": "stdout",
     "output_type": "stream",
     "text": [
      "Message successfully sent to user Mind_of_KeazieBTV\n",
      "APPENDING TO FILE: {'username': 'Mind_of_KeazieBTV', 'get_info_date': '2018-04-17 13:54:55.631774', 'deleted': False, 'url': 'https://docs.google.com/forms/d/e/1FAIpQLSfmgOcsF0ALqWGPHGpJq2cwUr-xIG-uizbQqXPzPuTkrPM-Lg/viewform?usp=pp_url&entry.360321409=Mind_of_KeazieBTV&entry.1933578897', 'first_comment_week': 3}\n",
      "first_comment_week: 3\n",
      "url: https://docs.google.com/forms/d/e/1FAIpQLSfmgOcsF0ALqWGPHGpJq2cwUr-xIG-uizbQqXPzPuTkrPM-Lg/viewform?usp=pp_url&entry.360321409=Mind_of_KeazieBTV&entry.1933578897\n",
      "get_info_data: 2018-04-17 13:54:55.631774\n",
      "deleted: False\n",
      "User not found: francescamaxime\n"
     ]
    },
    {
     "name": "stderr",
     "output_type": "stream",
     "text": [
      "substituting https://oauth.reddit.com for https://api.reddit.com in url\n",
      "GET: https://oauth.reddit.com/user/francescamaxime/about/.json\n"
     ]
    },
    {
     "name": "stdout",
     "output_type": "stream",
     "text": [
      "User winetofive found: {'is_mod': False, 'has_subscribed': True, 'hide_from_robots': False, 'verified': True, 'icon_img': 'https://s.redditmedia.com/t5_g8003/styles/profileIcon_lqggvutklfi01.jpg?fit=crop&crop=faces%2Centropy&arh=1.0&w=256&h=256&s=2d132d44cc0a849764f1184753460f1a', 'is_employee': False, 'comment_karma': 31, 'name': 'winetofive', 'subreddit': {'icon_size': [256, 256], 'key_color': '', 'link_flair_enabled': False, 'subreddit_type': 'user', 'name': 't5_g8003', 'user_is_moderator': False, 'community_icon': '', 'header_img': None, 'public_description': '', 'show_media': True, 'audience_target': '', 'url': '/user/winetofive/', 'description': '', 'display_name_prefixed': 'u/winetofive', 'subscribers': 0, 'display_name': 'u_winetofive', 'user_is_banned': False, 'is_default_icon': False, 'icon_img': 'https://s.redditmedia.com/t5_g8003/styles/profileIcon_lqggvutklfi01.jpg?fit=crop&crop=faces%2Centropy&arh=1.0&w=256&h=256&s=2d132d44cc0a849764f1184753460f1a', 'over_18': False, 'is_default_banner': True, 'user_is_contributor': False, 'icon_color': '', 'header_size': None, 'user_is_muted': False, 'banner_size': None, 'user_is_subscriber': False, 'banner_img': '', 'title': '', 'default_set': True, 'primary_color': ''}, 'is_gold': False, 'is_friend': False, 'id': 'ysxuw18', 'has_verified_email': False, 'pref_show_snoovatar': False, 'created': 1519623998.0, 'created_utc': 1519595198.0, 'link_karma': 688}\n",
      "Sending a message to user winetofive with data {'first_comment_week': 3, 'username': 'winetofive', 'url': 'https://docs.google.com/forms/d/e/1FAIpQLSfmgOcsF0ALqWGPHGpJq2cwUr-xIG-uizbQqXPzPuTkrPM-Lg/viewform?usp=pp_url&entry.360321409=winetofive&entry.1933578897', 'deleted': False, 'get_info_date': '2018-04-17 13:55:02.157229'}\n"
     ]
    },
    {
     "name": "stderr",
     "output_type": "stream",
     "text": [
      "substituting https://oauth.reddit.com for https://api.reddit.com in url\n",
      "GET: https://oauth.reddit.com/user/winetofive/about/.json\n",
      "substituting https://oauth.reddit.com for https://api.reddit.com in url\n",
      "POST: https://oauth.reddit.com/api/compose/.json\n"
     ]
    },
    {
     "name": "stdout",
     "output_type": "stream",
     "text": [
      "Message successfully sent to user winetofive\n",
      "APPENDING TO FILE: {'username': 'winetofive', 'get_info_date': '2018-04-17 13:55:02.157229', 'deleted': False, 'url': 'https://docs.google.com/forms/d/e/1FAIpQLSfmgOcsF0ALqWGPHGpJq2cwUr-xIG-uizbQqXPzPuTkrPM-Lg/viewform?usp=pp_url&entry.360321409=winetofive&entry.1933578897', 'first_comment_week': 3}\n",
      "first_comment_week: 3\n",
      "url: https://docs.google.com/forms/d/e/1FAIpQLSfmgOcsF0ALqWGPHGpJq2cwUr-xIG-uizbQqXPzPuTkrPM-Lg/viewform?usp=pp_url&entry.360321409=winetofive&entry.1933578897\n",
      "get_info_data: 2018-04-17 13:55:02.157229\n",
      "deleted: False\n",
      "User I_am_Illustrious found: {'is_mod': False, 'has_subscribed': True, 'hide_from_robots': False, 'verified': True, 'icon_img': 'https://www.redditstatic.com/avatars/avatar_default_09_C18D42.png', 'is_employee': False, 'comment_karma': 160, 'name': 'I_am_Illustrious', 'subreddit': {'icon_size': [256, 256], 'key_color': '', 'link_flair_enabled': False, 'subreddit_type': 'user', 'name': 't5_ajmow', 'user_is_moderator': False, 'community_icon': '', 'header_img': None, 'public_description': '', 'show_media': True, 'audience_target': '', 'url': '/user/I_am_Illustrious/', 'description': '', 'display_name_prefixed': 'u/I_am_Illustrious', 'subscribers': 0, 'display_name': 'u_I_am_Illustrious', 'user_is_banned': False, 'is_default_icon': True, 'icon_img': 'https://www.redditstatic.com/avatars/avatar_default_09_C18D42.png', 'over_18': False, 'is_default_banner': True, 'user_is_contributor': False, 'icon_color': '#C18D42', 'header_size': None, 'user_is_muted': False, 'banner_size': None, 'user_is_subscriber': False, 'banner_img': '', 'title': '', 'default_set': True, 'primary_color': ''}, 'is_gold': False, 'is_friend': False, 'id': 's5bb8', 'has_verified_email': False, 'pref_show_snoovatar': False, 'created': 1447840509.0, 'created_utc': 1447811709.0, 'link_karma': 129}\n",
      "Sending a message to user I_am_Illustrious with data {'first_comment_week': 3, 'username': 'I_am_Illustrious', 'url': 'https://docs.google.com/forms/d/e/1FAIpQLSfmgOcsF0ALqWGPHGpJq2cwUr-xIG-uizbQqXPzPuTkrPM-Lg/viewform?usp=pp_url&entry.360321409=I_am_Illustrious&entry.1933578897', 'deleted': False, 'get_info_date': '2018-04-17 13:55:06.225141'}\n"
     ]
    },
    {
     "name": "stderr",
     "output_type": "stream",
     "text": [
      "substituting https://oauth.reddit.com for https://api.reddit.com in url\n",
      "GET: https://oauth.reddit.com/user/I_am_Illustrious/about/.json\n",
      "substituting https://oauth.reddit.com for https://api.reddit.com in url\n",
      "POST: https://oauth.reddit.com/api/compose/.json\n"
     ]
    },
    {
     "name": "stdout",
     "output_type": "stream",
     "text": [
      "Message successfully sent to user I_am_Illustrious\n",
      "APPENDING TO FILE: {'username': 'I_am_Illustrious', 'get_info_date': '2018-04-17 13:55:06.225141', 'deleted': False, 'url': 'https://docs.google.com/forms/d/e/1FAIpQLSfmgOcsF0ALqWGPHGpJq2cwUr-xIG-uizbQqXPzPuTkrPM-Lg/viewform?usp=pp_url&entry.360321409=I_am_Illustrious&entry.1933578897', 'first_comment_week': 3}\n",
      "first_comment_week: 3\n",
      "url: https://docs.google.com/forms/d/e/1FAIpQLSfmgOcsF0ALqWGPHGpJq2cwUr-xIG-uizbQqXPzPuTkrPM-Lg/viewform?usp=pp_url&entry.360321409=I_am_Illustrious&entry.1933578897\n",
      "get_info_data: 2018-04-17 13:55:06.225141\n",
      "deleted: False\n",
      "User sixfourbit found: {'is_mod': False, 'has_subscribed': True, 'hide_from_robots': False, 'verified': False, 'icon_img': 'https://www.redditstatic.com/avatars/avatar_default_02_FFD635.png', 'is_employee': False, 'comment_karma': 61, 'name': 'sixfourbit', 'subreddit': None, 'is_gold': False, 'is_friend': False, 'id': '16x605', 'has_verified_email': True, 'pref_show_snoovatar': False, 'created': 1491762501.0, 'created_utc': 1491733701.0, 'link_karma': 1}\n",
      "Sending a message to user sixfourbit with data {'first_comment_week': 3, 'username': 'sixfourbit', 'url': 'https://docs.google.com/forms/d/e/1FAIpQLSfmgOcsF0ALqWGPHGpJq2cwUr-xIG-uizbQqXPzPuTkrPM-Lg/viewform?usp=pp_url&entry.360321409=sixfourbit&entry.1933578897', 'deleted': False, 'get_info_date': '2018-04-17 13:55:10.386651'}\n"
     ]
    },
    {
     "name": "stderr",
     "output_type": "stream",
     "text": [
      "substituting https://oauth.reddit.com for https://api.reddit.com in url\n",
      "GET: https://oauth.reddit.com/user/sixfourbit/about/.json\n",
      "substituting https://oauth.reddit.com for https://api.reddit.com in url\n",
      "POST: https://oauth.reddit.com/api/compose/.json\n"
     ]
    },
    {
     "name": "stdout",
     "output_type": "stream",
     "text": [
      "Message successfully sent to user sixfourbit\n",
      "APPENDING TO FILE: {'username': 'sixfourbit', 'get_info_date': '2018-04-17 13:55:10.386651', 'deleted': False, 'url': 'https://docs.google.com/forms/d/e/1FAIpQLSfmgOcsF0ALqWGPHGpJq2cwUr-xIG-uizbQqXPzPuTkrPM-Lg/viewform?usp=pp_url&entry.360321409=sixfourbit&entry.1933578897', 'first_comment_week': 3}\n",
      "first_comment_week: 3\n",
      "url: https://docs.google.com/forms/d/e/1FAIpQLSfmgOcsF0ALqWGPHGpJq2cwUr-xIG-uizbQqXPzPuTkrPM-Lg/viewform?usp=pp_url&entry.360321409=sixfourbit&entry.1933578897\n",
      "get_info_data: 2018-04-17 13:55:10.386651\n",
      "deleted: False\n",
      "User SocialistEphebophile found: {'name': 'SocialistEphebophile', 'is_suspended': True}\n",
      "Sending a message to user SocialistEphebophile with data {'first_comment_week': 3, 'username': 'SocialistEphebophile', 'url': 'https://docs.google.com/forms/d/e/1FAIpQLSfmgOcsF0ALqWGPHGpJq2cwUr-xIG-uizbQqXPzPuTkrPM-Lg/viewform?usp=pp_url&entry.360321409=SocialistEphebophile&entry.1933578897', 'deleted': False, 'get_info_date': '2018-04-17 13:55:14.548469'}\n"
     ]
    },
    {
     "name": "stderr",
     "output_type": "stream",
     "text": [
      "substituting https://oauth.reddit.com for https://api.reddit.com in url\n",
      "GET: https://oauth.reddit.com/user/SocialistEphebophile/about/.json\n",
      "substituting https://oauth.reddit.com for https://api.reddit.com in url\n",
      "POST: https://oauth.reddit.com/api/compose/.json\n"
     ]
    },
    {
     "name": "stdout",
     "output_type": "stream",
     "text": [
      "Message successfully sent to user SocialistEphebophile\n",
      "APPENDING TO FILE: {'username': 'SocialistEphebophile', 'get_info_date': '2018-04-17 13:55:14.548469', 'deleted': False, 'url': 'https://docs.google.com/forms/d/e/1FAIpQLSfmgOcsF0ALqWGPHGpJq2cwUr-xIG-uizbQqXPzPuTkrPM-Lg/viewform?usp=pp_url&entry.360321409=SocialistEphebophile&entry.1933578897', 'first_comment_week': 3}\n",
      "first_comment_week: 3\n",
      "url: https://docs.google.com/forms/d/e/1FAIpQLSfmgOcsF0ALqWGPHGpJq2cwUr-xIG-uizbQqXPzPuTkrPM-Lg/viewform?usp=pp_url&entry.360321409=SocialistEphebophile&entry.1933578897\n",
      "get_info_data: 2018-04-17 13:55:14.548469\n",
      "deleted: False\n"
     ]
    },
    {
     "name": "stderr",
     "output_type": "stream",
     "text": [
      "substituting https://oauth.reddit.com for https://api.reddit.com in url\n",
      "GET: https://oauth.reddit.com/user/beezel-/about/.json\n"
     ]
    },
    {
     "name": "stdout",
     "output_type": "stream",
     "text": [
      "User beezel- found: {'is_mod': True, 'has_subscribed': True, 'hide_from_robots': False, 'verified': True, 'icon_img': 'https://b.thumbs.redditmedia.com/XtQ3G_ybx7fzmc5JctU_pbA_h7_nPTjNlAMHbzup4ps.png', 'is_employee': False, 'comment_karma': 70486, 'name': 'beezel-', 'subreddit': {'icon_size': [256, 256], 'key_color': '', 'link_flair_enabled': False, 'subreddit_type': 'user', 'name': 't5_3lmop', 'user_is_moderator': False, 'community_icon': '', 'header_img': None, 'public_description': 'I like art and videogames', 'show_media': True, 'audience_target': '', 'url': '/user/beezel-/', 'description': '', 'display_name_prefixed': 'u/beezel-', 'subscribers': 0, 'display_name': 'u_beezel-', 'user_is_banned': False, 'is_default_icon': False, 'icon_img': 'https://b.thumbs.redditmedia.com/XtQ3G_ybx7fzmc5JctU_pbA_h7_nPTjNlAMHbzup4ps.png', 'over_18': False, 'is_default_banner': False, 'user_is_contributor': False, 'icon_color': '', 'header_size': None, 'user_is_muted': False, 'banner_size': [1280, 384], 'user_is_subscriber': False, 'banner_img': 'https://a.thumbs.redditmedia.com/PC41hMxcrR9Mdv6jvsgI7m1aFllOXJWKO4al_Q82hn0.png', 'title': 'beezel', 'default_set': True, 'primary_color': ''}, 'is_gold': False, 'is_friend': False, 'id': '102s1c', 'has_verified_email': True, 'pref_show_snoovatar': False, 'created': 1470207858.0, 'created_utc': 1470179058.0, 'link_karma': 52873}\n",
      "Sending a message to user beezel- with data {'first_comment_week': 3, 'username': 'beezel-', 'url': 'https://docs.google.com/forms/d/e/1FAIpQLSfmgOcsF0ALqWGPHGpJq2cwUr-xIG-uizbQqXPzPuTkrPM-Lg/viewform?usp=pp_url&entry.360321409=beezel-&entry.1933578897', 'deleted': False, 'get_info_date': '2018-04-17 13:55:18.956416'}\n"
     ]
    },
    {
     "name": "stderr",
     "output_type": "stream",
     "text": [
      "substituting https://oauth.reddit.com for https://api.reddit.com in url\n",
      "POST: https://oauth.reddit.com/api/compose/.json\n"
     ]
    },
    {
     "name": "stdout",
     "output_type": "stream",
     "text": [
      "Message successfully sent to user beezel-\n",
      "APPENDING TO FILE: {'username': 'beezel-', 'get_info_date': '2018-04-17 13:55:18.956416', 'deleted': False, 'url': 'https://docs.google.com/forms/d/e/1FAIpQLSfmgOcsF0ALqWGPHGpJq2cwUr-xIG-uizbQqXPzPuTkrPM-Lg/viewform?usp=pp_url&entry.360321409=beezel-&entry.1933578897', 'first_comment_week': 3}\n",
      "first_comment_week: 3\n",
      "url: https://docs.google.com/forms/d/e/1FAIpQLSfmgOcsF0ALqWGPHGpJq2cwUr-xIG-uizbQqXPzPuTkrPM-Lg/viewform?usp=pp_url&entry.360321409=beezel-&entry.1933578897\n",
      "get_info_data: 2018-04-17 13:55:18.956416\n",
      "deleted: False\n",
      "User alex_andrea found: {'is_mod': False, 'has_subscribed': True, 'hide_from_robots': False, 'verified': True, 'icon_img': 'https://www.redditstatic.com/avatars/avatar_default_08_24A0ED.png', 'is_employee': False, 'comment_karma': 139, 'name': 'alex_andrea', 'subreddit': {'icon_size': [256, 256], 'key_color': '', 'link_flair_enabled': False, 'subreddit_type': 'user', 'name': 't5_dvndh', 'user_is_moderator': False, 'community_icon': '', 'header_img': None, 'public_description': '', 'show_media': True, 'audience_target': '', 'url': '/user/alex_andrea/', 'description': '', 'display_name_prefixed': 'u/alex_andrea', 'subscribers': 0, 'display_name': 'u_alex_andrea', 'user_is_banned': False, 'is_default_icon': True, 'icon_img': 'https://www.redditstatic.com/avatars/avatar_default_08_24A0ED.png', 'over_18': False, 'is_default_banner': True, 'user_is_contributor': False, 'icon_color': '#24A0ED', 'header_size': None, 'user_is_muted': False, 'banner_size': None, 'user_is_subscriber': False, 'banner_img': '', 'title': '', 'default_set': True, 'primary_color': ''}, 'is_gold': False, 'is_friend': False, 'id': 'ruqsv', 'has_verified_email': False, 'pref_show_snoovatar': False, 'created': 1447040048.0, 'created_utc': 1447011248.0, 'link_karma': 1327}\n",
      "Sending a message to user alex_andrea with data {'first_comment_week': 3, 'username': 'alex_andrea', 'url': 'https://docs.google.com/forms/d/e/1FAIpQLSfmgOcsF0ALqWGPHGpJq2cwUr-xIG-uizbQqXPzPuTkrPM-Lg/viewform?usp=pp_url&entry.360321409=alex_andrea&entry.1933578897', 'deleted': False, 'get_info_date': '2018-04-17 13:55:23.131341'}\n"
     ]
    },
    {
     "name": "stderr",
     "output_type": "stream",
     "text": [
      "substituting https://oauth.reddit.com for https://api.reddit.com in url\n",
      "GET: https://oauth.reddit.com/user/alex_andrea/about/.json\n",
      "substituting https://oauth.reddit.com for https://api.reddit.com in url\n",
      "POST: https://oauth.reddit.com/api/compose/.json\n"
     ]
    },
    {
     "name": "stdout",
     "output_type": "stream",
     "text": [
      "Message successfully sent to user alex_andrea\n",
      "APPENDING TO FILE: {'username': 'alex_andrea', 'get_info_date': '2018-04-17 13:55:23.131341', 'deleted': False, 'url': 'https://docs.google.com/forms/d/e/1FAIpQLSfmgOcsF0ALqWGPHGpJq2cwUr-xIG-uizbQqXPzPuTkrPM-Lg/viewform?usp=pp_url&entry.360321409=alex_andrea&entry.1933578897', 'first_comment_week': 3}\n",
      "first_comment_week: 3\n",
      "url: https://docs.google.com/forms/d/e/1FAIpQLSfmgOcsF0ALqWGPHGpJq2cwUr-xIG-uizbQqXPzPuTkrPM-Lg/viewform?usp=pp_url&entry.360321409=alex_andrea&entry.1933578897\n",
      "get_info_data: 2018-04-17 13:55:23.131341\n",
      "deleted: False\n"
     ]
    },
    {
     "name": "stderr",
     "output_type": "stream",
     "text": [
      "substituting https://oauth.reddit.com for https://api.reddit.com in url\n",
      "GET: https://oauth.reddit.com/user/childwithrage/about/.json\n"
     ]
    },
    {
     "name": "stdout",
     "output_type": "stream",
     "text": [
      "User childwithrage found: {'is_mod': False, 'has_subscribed': True, 'hide_from_robots': False, 'verified': True, 'icon_img': 'https://www.redditstatic.com/avatars/avatar_default_06_FF4500.png', 'is_employee': False, 'comment_karma': -10, 'name': 'childwithrage', 'subreddit': {'icon_size': [256, 256], 'key_color': '', 'link_flair_enabled': False, 'subreddit_type': 'user', 'name': 't5_8zerl', 'user_is_moderator': False, 'community_icon': '', 'header_img': None, 'public_description': '', 'show_media': True, 'audience_target': '', 'url': '/user/childwithrage/', 'description': '', 'display_name_prefixed': 'u/childwithrage', 'subscribers': 0, 'display_name': 'u_childwithrage', 'user_is_banned': False, 'is_default_icon': True, 'icon_img': 'https://www.redditstatic.com/avatars/avatar_default_06_FF4500.png', 'over_18': False, 'is_default_banner': True, 'user_is_contributor': False, 'icon_color': '#FF4500', 'header_size': None, 'user_is_muted': False, 'banner_size': None, 'user_is_subscriber': False, 'banner_img': '', 'title': '', 'default_set': True, 'primary_color': ''}, 'is_gold': False, 'is_friend': False, 'id': '145myat', 'has_verified_email': False, 'pref_show_snoovatar': False, 'created': 1494806703.0, 'created_utc': 1494777903.0, 'link_karma': 125}\n",
      "Sending a message to user childwithrage with data {'first_comment_week': 3, 'username': 'childwithrage', 'url': 'https://docs.google.com/forms/d/e/1FAIpQLSfmgOcsF0ALqWGPHGpJq2cwUr-xIG-uizbQqXPzPuTkrPM-Lg/viewform?usp=pp_url&entry.360321409=childwithrage&entry.1933578897', 'deleted': False, 'get_info_date': '2018-04-17 13:55:27.542470'}\n"
     ]
    },
    {
     "name": "stderr",
     "output_type": "stream",
     "text": [
      "substituting https://oauth.reddit.com for https://api.reddit.com in url\n",
      "POST: https://oauth.reddit.com/api/compose/.json\n"
     ]
    },
    {
     "name": "stdout",
     "output_type": "stream",
     "text": [
      "Message successfully sent to user childwithrage\n",
      "APPENDING TO FILE: {'username': 'childwithrage', 'get_info_date': '2018-04-17 13:55:27.542470', 'deleted': False, 'url': 'https://docs.google.com/forms/d/e/1FAIpQLSfmgOcsF0ALqWGPHGpJq2cwUr-xIG-uizbQqXPzPuTkrPM-Lg/viewform?usp=pp_url&entry.360321409=childwithrage&entry.1933578897', 'first_comment_week': 3}\n",
      "first_comment_week: 3\n",
      "url: https://docs.google.com/forms/d/e/1FAIpQLSfmgOcsF0ALqWGPHGpJq2cwUr-xIG-uizbQqXPzPuTkrPM-Lg/viewform?usp=pp_url&entry.360321409=childwithrage&entry.1933578897\n",
      "get_info_data: 2018-04-17 13:55:27.542470\n",
      "deleted: False\n",
      "User really_horribleCoder found: {'is_mod': False, 'has_subscribed': True, 'hide_from_robots': False, 'verified': True, 'icon_img': 'https://s.redditmedia.com/t5_h7jr4/styles/profileIcon_0gnbxj5g8ln01.jpg?fit=crop&crop=faces%2Centropy&arh=1.0&w=256&h=256&s=4ea22f57890805627be4c5a0a84eed73', 'is_employee': False, 'comment_karma': 8, 'name': 'really_horribleCoder', 'subreddit': {'icon_size': [256, 256], 'key_color': '', 'link_flair_enabled': False, 'subreddit_type': 'user', 'name': 't5_h7jr4', 'user_is_moderator': False, 'community_icon': '', 'header_img': None, 'public_description': 'I like art', 'show_media': True, 'audience_target': '', 'url': '/user/really_horribleCoder/', 'description': '', 'display_name_prefixed': 'u/really_horribleCoder', 'subscribers': 0, 'display_name': 'u_really_horribleCoder', 'user_is_banned': False, 'is_default_icon': False, 'icon_img': 'https://s.redditmedia.com/t5_h7jr4/styles/profileIcon_0gnbxj5g8ln01.jpg?fit=crop&crop=faces%2Centropy&arh=1.0&w=256&h=256&s=4ea22f57890805627be4c5a0a84eed73', 'over_18': False, 'is_default_banner': False, 'user_is_contributor': False, 'icon_color': '', 'header_size': None, 'user_is_muted': False, 'banner_size': [1280, 384], 'user_is_subscriber': False, 'banner_img': 'https://s.redditmedia.com/t5_h7jr4/styles/profileBanner_9apjyqkd9ln01.jpg?fit=crop&crop=center&arh=0.3&w=1280&h=384&s=d3d435bafd00c9bd1f78cde24ec467d6', 'title': '', 'default_set': True, 'primary_color': ''}, 'is_gold': False, 'is_friend': False, 'id': '1310kzah', 'has_verified_email': True, 'pref_show_snoovatar': False, 'created': 1521871948.0, 'created_utc': 1521843148.0, 'link_karma': 21}\n",
      "Sending a message to user really_horribleCoder with data {'first_comment_week': 3, 'username': 'really_horribleCoder', 'url': 'https://docs.google.com/forms/d/e/1FAIpQLSfmgOcsF0ALqWGPHGpJq2cwUr-xIG-uizbQqXPzPuTkrPM-Lg/viewform?usp=pp_url&entry.360321409=really_horribleCoder&entry.1933578897', 'deleted': False, 'get_info_date': '2018-04-17 13:55:31.684913'}\n"
     ]
    },
    {
     "name": "stderr",
     "output_type": "stream",
     "text": [
      "substituting https://oauth.reddit.com for https://api.reddit.com in url\n",
      "GET: https://oauth.reddit.com/user/really_horribleCoder/about/.json\n",
      "substituting https://oauth.reddit.com for https://api.reddit.com in url\n",
      "POST: https://oauth.reddit.com/api/compose/.json\n"
     ]
    },
    {
     "name": "stdout",
     "output_type": "stream",
     "text": [
      "Message successfully sent to user really_horribleCoder\n",
      "APPENDING TO FILE: {'username': 'really_horribleCoder', 'get_info_date': '2018-04-17 13:55:31.684913', 'deleted': False, 'url': 'https://docs.google.com/forms/d/e/1FAIpQLSfmgOcsF0ALqWGPHGpJq2cwUr-xIG-uizbQqXPzPuTkrPM-Lg/viewform?usp=pp_url&entry.360321409=really_horribleCoder&entry.1933578897', 'first_comment_week': 3}\n",
      "first_comment_week: 3\n",
      "url: https://docs.google.com/forms/d/e/1FAIpQLSfmgOcsF0ALqWGPHGpJq2cwUr-xIG-uizbQqXPzPuTkrPM-Lg/viewform?usp=pp_url&entry.360321409=really_horribleCoder&entry.1933578897\n",
      "get_info_data: 2018-04-17 13:55:31.684913\n",
      "deleted: False\n",
      "User morejpeg_auto found: {'is_mod': True, 'has_subscribed': True, 'hide_from_robots': False, 'verified': True, 'icon_img': 'https://www.redditstatic.com/avatars/avatar_default_04_FF66AC.png', 'is_employee': False, 'comment_karma': 217072, 'name': 'morejpeg_auto', 'subreddit': {'icon_size': [256, 256], 'key_color': '', 'link_flair_enabled': False, 'subreddit_type': 'user', 'name': 't5_3mdfc', 'user_is_moderator': False, 'community_icon': '', 'header_img': None, 'public_description': 'I love JPEG artifacts <3.', 'show_media': True, 'audience_target': '', 'url': '/user/morejpeg_auto/', 'description': '', 'display_name_prefixed': 'u/morejpeg_auto', 'subscribers': 0, 'display_name': 'u_morejpeg_auto', 'user_is_banned': False, 'is_default_icon': True, 'icon_img': 'https://www.redditstatic.com/avatars/avatar_default_04_FF66AC.png', 'over_18': False, 'is_default_banner': True, 'user_is_contributor': False, 'icon_color': '#FF66AC', 'header_size': None, 'user_is_muted': False, 'banner_size': None, 'user_is_subscriber': False, 'banner_img': '', 'title': 'morejpeg_auto', 'default_set': True, 'primary_color': ''}, 'is_gold': False, 'is_friend': False, 'id': '14svjf', 'has_verified_email': False, 'pref_show_snoovatar': False, 'created': 1485482450.0, 'created_utc': 1485453650.0, 'link_karma': 7}\n",
      "Sending a message to user morejpeg_auto with data {'first_comment_week': 3, 'username': 'morejpeg_auto', 'url': 'https://docs.google.com/forms/d/e/1FAIpQLSfmgOcsF0ALqWGPHGpJq2cwUr-xIG-uizbQqXPzPuTkrPM-Lg/viewform?usp=pp_url&entry.360321409=morejpeg_auto&entry.1933578897', 'deleted': False, 'get_info_date': '2018-04-17 13:55:35.802717'}\n"
     ]
    },
    {
     "name": "stderr",
     "output_type": "stream",
     "text": [
      "substituting https://oauth.reddit.com for https://api.reddit.com in url\n",
      "GET: https://oauth.reddit.com/user/morejpeg_auto/about/.json\n",
      "substituting https://oauth.reddit.com for https://api.reddit.com in url\n",
      "POST: https://oauth.reddit.com/api/compose/.json\n"
     ]
    },
    {
     "name": "stdout",
     "output_type": "stream",
     "text": [
      "Message successfully sent to user morejpeg_auto\n",
      "APPENDING TO FILE: {'username': 'morejpeg_auto', 'get_info_date': '2018-04-17 13:55:35.802717', 'deleted': False, 'url': 'https://docs.google.com/forms/d/e/1FAIpQLSfmgOcsF0ALqWGPHGpJq2cwUr-xIG-uizbQqXPzPuTkrPM-Lg/viewform?usp=pp_url&entry.360321409=morejpeg_auto&entry.1933578897', 'first_comment_week': 3}\n",
      "first_comment_week: 3\n",
      "url: https://docs.google.com/forms/d/e/1FAIpQLSfmgOcsF0ALqWGPHGpJq2cwUr-xIG-uizbQqXPzPuTkrPM-Lg/viewform?usp=pp_url&entry.360321409=morejpeg_auto&entry.1933578897\n",
      "get_info_data: 2018-04-17 13:55:35.802717\n",
      "deleted: False\n",
      "User IAmYouInc found: {'is_mod': False, 'has_subscribed': True, 'hide_from_robots': False, 'verified': True, 'icon_img': 'https://s.redditmedia.com/t5_gxd97/styles/profileIcon_vbdr8e1pelo01.jpg?fit=crop&crop=faces%2Centropy&arh=1.0&w=256&h=256&s=473971a72e3719c6d84ee11946228fd0', 'is_employee': False, 'comment_karma': 0, 'name': 'IAmYouInc', 'subreddit': {'icon_size': [256, 256], 'key_color': '', 'link_flair_enabled': False, 'subreddit_type': 'user', 'name': 't5_gxd97', 'user_is_moderator': False, 'community_icon': '', 'header_img': None, 'public_description': 'A nonprofit based in Dallas, TX. Our mission is to heal women, and grow our nation.', 'show_media': True, 'audience_target': '', 'url': '/user/IAmYouInc/', 'description': '', 'display_name_prefixed': 'u/IAmYouInc', 'subscribers': 0, 'display_name': 'u_IAmYouInc', 'user_is_banned': False, 'is_default_icon': False, 'icon_img': 'https://s.redditmedia.com/t5_gxd97/styles/profileIcon_vbdr8e1pelo01.jpg?fit=crop&crop=faces%2Centropy&arh=1.0&w=256&h=256&s=473971a72e3719c6d84ee11946228fd0', 'over_18': False, 'is_default_banner': False, 'user_is_contributor': False, 'icon_color': '', 'header_size': None, 'user_is_muted': False, 'banner_size': [1280, 384], 'user_is_subscriber': False, 'banner_img': 'https://s.redditmedia.com/t5_gxd97/styles/profileBanner_s252zg9qelo01.jpg?fit=crop&crop=center&arh=0.3&w=1280&h=384&s=61800ea431b399958d740927136dcd63', 'title': 'I Am You, Inc.', 'default_set': True, 'primary_color': ''}, 'is_gold': False, 'is_friend': False, 'id': '11ucupd1', 'has_verified_email': False, 'pref_show_snoovatar': False, 'created': 1521245821.0, 'created_utc': 1521217021.0, 'link_karma': 8}\n",
      "Sending a message to user IAmYouInc with data {'first_comment_week': 3, 'username': 'IAmYouInc', 'url': 'https://docs.google.com/forms/d/e/1FAIpQLSfmgOcsF0ALqWGPHGpJq2cwUr-xIG-uizbQqXPzPuTkrPM-Lg/viewform?usp=pp_url&entry.360321409=IAmYouInc&entry.1933578897', 'deleted': False, 'get_info_date': '2018-04-17 13:55:40.033462'}\n"
     ]
    },
    {
     "name": "stderr",
     "output_type": "stream",
     "text": [
      "substituting https://oauth.reddit.com for https://api.reddit.com in url\n",
      "GET: https://oauth.reddit.com/user/IAmYouInc/about/.json\n",
      "substituting https://oauth.reddit.com for https://api.reddit.com in url\n",
      "POST: https://oauth.reddit.com/api/compose/.json\n"
     ]
    },
    {
     "name": "stdout",
     "output_type": "stream",
     "text": [
      "Message successfully sent to user IAmYouInc\n",
      "APPENDING TO FILE: {'username': 'IAmYouInc', 'get_info_date': '2018-04-17 13:55:40.033462', 'deleted': False, 'url': 'https://docs.google.com/forms/d/e/1FAIpQLSfmgOcsF0ALqWGPHGpJq2cwUr-xIG-uizbQqXPzPuTkrPM-Lg/viewform?usp=pp_url&entry.360321409=IAmYouInc&entry.1933578897', 'first_comment_week': 3}\n",
      "first_comment_week: 3\n",
      "url: https://docs.google.com/forms/d/e/1FAIpQLSfmgOcsF0ALqWGPHGpJq2cwUr-xIG-uizbQqXPzPuTkrPM-Lg/viewform?usp=pp_url&entry.360321409=IAmYouInc&entry.1933578897\n",
      "get_info_data: 2018-04-17 13:55:40.033462\n",
      "deleted: False\n",
      "User SomeName12345678 found: {'is_mod': False, 'has_subscribed': True, 'hide_from_robots': False, 'verified': True, 'icon_img': 'https://s.redditmedia.com/t5_fj4v6/styles/communityIcon_xseby6rl4yi01.jpg?fit=crop&crop=faces%2Centropy&arh=1.0&w=256&h=256&s=f9e83c6d2fcde7c919edfc45663e7da1', 'is_employee': False, 'comment_karma': -1, 'name': 'SomeName12345678', 'subreddit': {'icon_size': [256, 256], 'key_color': '', 'link_flair_enabled': False, 'subreddit_type': 'user', 'name': 't5_fj4v6', 'user_is_moderator': False, 'community_icon': '', 'header_img': None, 'public_description': '', 'show_media': True, 'audience_target': '', 'url': '/user/SomeName12345678/', 'description': '', 'display_name_prefixed': 'u/SomeName12345678', 'subscribers': 0, 'display_name': 'u_SomeName12345678', 'user_is_banned': False, 'is_default_icon': False, 'icon_img': 'https://s.redditmedia.com/t5_fj4v6/styles/communityIcon_xseby6rl4yi01.jpg?fit=crop&crop=faces%2Centropy&arh=1.0&w=256&h=256&s=f9e83c6d2fcde7c919edfc45663e7da1', 'over_18': False, 'is_default_banner': True, 'user_is_contributor': False, 'icon_color': '', 'header_size': None, 'user_is_muted': False, 'banner_size': None, 'user_is_subscriber': False, 'banner_img': '', 'title': '', 'default_set': True, 'primary_color': ''}, 'is_gold': False, 'is_friend': False, 'id': 'vva3vhh', 'has_verified_email': False, 'pref_show_snoovatar': False, 'created': 1518049626.0, 'created_utc': 1518020826.0, 'link_karma': 1}\n",
      "Sending a message to user SomeName12345678 with data {'first_comment_week': 3, 'username': 'SomeName12345678', 'url': 'https://docs.google.com/forms/d/e/1FAIpQLSfmgOcsF0ALqWGPHGpJq2cwUr-xIG-uizbQqXPzPuTkrPM-Lg/viewform?usp=pp_url&entry.360321409=SomeName12345678&entry.1933578897', 'deleted': False, 'get_info_date': '2018-04-17 13:55:44.184756'}\n"
     ]
    },
    {
     "name": "stderr",
     "output_type": "stream",
     "text": [
      "substituting https://oauth.reddit.com for https://api.reddit.com in url\n",
      "GET: https://oauth.reddit.com/user/SomeName12345678/about/.json\n",
      "substituting https://oauth.reddit.com for https://api.reddit.com in url\n",
      "POST: https://oauth.reddit.com/api/compose/.json\n"
     ]
    },
    {
     "name": "stdout",
     "output_type": "stream",
     "text": [
      "Message successfully sent to user SomeName12345678\n",
      "APPENDING TO FILE: {'username': 'SomeName12345678', 'get_info_date': '2018-04-17 13:55:44.184756', 'deleted': False, 'url': 'https://docs.google.com/forms/d/e/1FAIpQLSfmgOcsF0ALqWGPHGpJq2cwUr-xIG-uizbQqXPzPuTkrPM-Lg/viewform?usp=pp_url&entry.360321409=SomeName12345678&entry.1933578897', 'first_comment_week': 3}\n",
      "first_comment_week: 3\n",
      "url: https://docs.google.com/forms/d/e/1FAIpQLSfmgOcsF0ALqWGPHGpJq2cwUr-xIG-uizbQqXPzPuTkrPM-Lg/viewform?usp=pp_url&entry.360321409=SomeName12345678&entry.1933578897\n",
      "get_info_data: 2018-04-17 13:55:44.184756\n",
      "deleted: False\n",
      "User thewarinspector found: {'is_mod': True, 'has_subscribed': True, 'hide_from_robots': False, 'verified': True, 'icon_img': 'https://www.redditstatic.com/avatars/avatar_default_07_46D160.png', 'is_employee': False, 'comment_karma': 2204, 'name': 'thewarinspector', 'subreddit': None, 'is_gold': False, 'is_friend': False, 'id': 'gtywa', 'has_verified_email': False, 'pref_show_snoovatar': False, 'created': 1401847077.0, 'created_utc': 1401818277.0, 'link_karma': 11859}\n",
      "Sending a message to user thewarinspector with data {'first_comment_week': 3, 'username': 'thewarinspector', 'url': 'https://docs.google.com/forms/d/e/1FAIpQLSfmgOcsF0ALqWGPHGpJq2cwUr-xIG-uizbQqXPzPuTkrPM-Lg/viewform?usp=pp_url&entry.360321409=thewarinspector&entry.1933578897', 'deleted': False, 'get_info_date': '2018-04-17 13:55:48.346611'}\n"
     ]
    },
    {
     "name": "stderr",
     "output_type": "stream",
     "text": [
      "substituting https://oauth.reddit.com for https://api.reddit.com in url\n",
      "GET: https://oauth.reddit.com/user/thewarinspector/about/.json\n",
      "substituting https://oauth.reddit.com for https://api.reddit.com in url\n",
      "POST: https://oauth.reddit.com/api/compose/.json\n"
     ]
    },
    {
     "name": "stdout",
     "output_type": "stream",
     "text": [
      "Message successfully sent to user thewarinspector\n",
      "APPENDING TO FILE: {'username': 'thewarinspector', 'get_info_date': '2018-04-17 13:55:48.346611', 'deleted': False, 'url': 'https://docs.google.com/forms/d/e/1FAIpQLSfmgOcsF0ALqWGPHGpJq2cwUr-xIG-uizbQqXPzPuTkrPM-Lg/viewform?usp=pp_url&entry.360321409=thewarinspector&entry.1933578897', 'first_comment_week': 3}\n",
      "first_comment_week: 3\n",
      "url: https://docs.google.com/forms/d/e/1FAIpQLSfmgOcsF0ALqWGPHGpJq2cwUr-xIG-uizbQqXPzPuTkrPM-Lg/viewform?usp=pp_url&entry.360321409=thewarinspector&entry.1933578897\n",
      "get_info_data: 2018-04-17 13:55:48.346611\n",
      "deleted: False\n"
     ]
    },
    {
     "name": "stderr",
     "output_type": "stream",
     "text": [
      "substituting https://oauth.reddit.com for https://api.reddit.com in url\n",
      "GET: https://oauth.reddit.com/user/Oatmate/about/.json\n"
     ]
    },
    {
     "name": "stdout",
     "output_type": "stream",
     "text": [
      "User Oatmate found: {'is_mod': False, 'has_subscribed': False, 'hide_from_robots': True, 'verified': True, 'icon_img': 'https://www.redditstatic.com/avatars/avatar_default_06_A06A42.png', 'is_employee': False, 'comment_karma': 553, 'name': 'Oatmate', 'subreddit': {'icon_size': [256, 256], 'key_color': '', 'link_flair_enabled': False, 'subreddit_type': 'user', 'name': 't5_es7zr', 'user_is_moderator': False, 'community_icon': '', 'header_img': None, 'public_description': '', 'show_media': True, 'audience_target': '', 'url': '/user/Oatmate/', 'description': '', 'display_name_prefixed': 'u/Oatmate', 'subscribers': 0, 'display_name': 'u_Oatmate', 'user_is_banned': False, 'is_default_icon': True, 'icon_img': 'https://www.redditstatic.com/avatars/avatar_default_06_A06A42.png', 'over_18': False, 'is_default_banner': True, 'user_is_contributor': False, 'icon_color': '#A06A42', 'header_size': None, 'user_is_muted': False, 'banner_size': None, 'user_is_subscriber': False, 'banner_img': '', 'title': '', 'default_set': True, 'primary_color': ''}, 'is_gold': False, 'is_friend': False, 'id': 'n8hyx', 'has_verified_email': True, 'pref_show_snoovatar': False, 'created': 1430538694.0, 'created_utc': 1430509894.0, 'link_karma': 20}\n",
      "Sending a message to user Oatmate with data {'first_comment_week': 3, 'username': 'Oatmate', 'url': 'https://docs.google.com/forms/d/e/1FAIpQLSfmgOcsF0ALqWGPHGpJq2cwUr-xIG-uizbQqXPzPuTkrPM-Lg/viewform?usp=pp_url&entry.360321409=Oatmate&entry.1933578897', 'deleted': False, 'get_info_date': '2018-04-17 13:55:52.734461'}\n"
     ]
    },
    {
     "name": "stderr",
     "output_type": "stream",
     "text": [
      "substituting https://oauth.reddit.com for https://api.reddit.com in url\n",
      "POST: https://oauth.reddit.com/api/compose/.json\n"
     ]
    },
    {
     "name": "stdout",
     "output_type": "stream",
     "text": [
      "Message successfully sent to user Oatmate\n",
      "APPENDING TO FILE: {'username': 'Oatmate', 'get_info_date': '2018-04-17 13:55:52.734461', 'deleted': False, 'url': 'https://docs.google.com/forms/d/e/1FAIpQLSfmgOcsF0ALqWGPHGpJq2cwUr-xIG-uizbQqXPzPuTkrPM-Lg/viewform?usp=pp_url&entry.360321409=Oatmate&entry.1933578897', 'first_comment_week': 3}\n",
      "first_comment_week: 3\n",
      "url: https://docs.google.com/forms/d/e/1FAIpQLSfmgOcsF0ALqWGPHGpJq2cwUr-xIG-uizbQqXPzPuTkrPM-Lg/viewform?usp=pp_url&entry.360321409=Oatmate&entry.1933578897\n",
      "get_info_data: 2018-04-17 13:55:52.734461\n",
      "deleted: False\n"
     ]
    },
    {
     "name": "stderr",
     "output_type": "stream",
     "text": [
      "substituting https://oauth.reddit.com for https://api.reddit.com in url\n",
      "GET: https://oauth.reddit.com/user/carterplayer7/about/.json\n"
     ]
    },
    {
     "name": "stdout",
     "output_type": "stream",
     "text": [
      "User carterplayer7 found: {'is_mod': False, 'has_subscribed': True, 'hide_from_robots': False, 'verified': False, 'icon_img': 'https://www.redditstatic.com/avatars/avatar_default_05_25B79F.png', 'is_employee': False, 'comment_karma': 16, 'name': 'carterplayer7', 'subreddit': None, 'is_gold': False, 'is_friend': False, 'id': '16vhao', 'has_verified_email': False, 'pref_show_snoovatar': False, 'created': 1491609596.0, 'created_utc': 1491580796.0, 'link_karma': 1}\n",
      "Sending a message to user carterplayer7 with data {'first_comment_week': 3, 'username': 'carterplayer7', 'url': 'https://docs.google.com/forms/d/e/1FAIpQLSfmgOcsF0ALqWGPHGpJq2cwUr-xIG-uizbQqXPzPuTkrPM-Lg/viewform?usp=pp_url&entry.360321409=carterplayer7&entry.1933578897', 'deleted': False, 'get_info_date': '2018-04-17 13:55:56.996759'}\n"
     ]
    },
    {
     "name": "stderr",
     "output_type": "stream",
     "text": [
      "substituting https://oauth.reddit.com for https://api.reddit.com in url\n",
      "POST: https://oauth.reddit.com/api/compose/.json\n"
     ]
    },
    {
     "name": "stdout",
     "output_type": "stream",
     "text": [
      "Message successfully sent to user carterplayer7\n",
      "APPENDING TO FILE: {'username': 'carterplayer7', 'get_info_date': '2018-04-17 13:55:56.996759', 'deleted': False, 'url': 'https://docs.google.com/forms/d/e/1FAIpQLSfmgOcsF0ALqWGPHGpJq2cwUr-xIG-uizbQqXPzPuTkrPM-Lg/viewform?usp=pp_url&entry.360321409=carterplayer7&entry.1933578897', 'first_comment_week': 3}\n",
      "first_comment_week: 3\n",
      "url: https://docs.google.com/forms/d/e/1FAIpQLSfmgOcsF0ALqWGPHGpJq2cwUr-xIG-uizbQqXPzPuTkrPM-Lg/viewform?usp=pp_url&entry.360321409=carterplayer7&entry.1933578897\n",
      "get_info_data: 2018-04-17 13:55:56.996759\n",
      "deleted: False\n"
     ]
    },
    {
     "name": "stderr",
     "output_type": "stream",
     "text": [
      "substituting https://oauth.reddit.com for https://api.reddit.com in url\n",
      "GET: https://oauth.reddit.com/user/ReeferLion/about/.json\n"
     ]
    },
    {
     "name": "stdout",
     "output_type": "stream",
     "text": [
      "User ReeferLion found: {'is_mod': False, 'has_subscribed': True, 'hide_from_robots': False, 'verified': True, 'icon_img': 'https://www.redditstatic.com/avatars/avatar_default_08_24A0ED.png', 'is_employee': False, 'comment_karma': 43, 'name': 'ReeferLion', 'subreddit': {'icon_size': [256, 256], 'key_color': '', 'link_flair_enabled': False, 'subreddit_type': 'user', 'name': 't5_gw672', 'user_is_moderator': False, 'community_icon': '', 'header_img': None, 'public_description': '', 'show_media': True, 'audience_target': '', 'url': '/user/ReeferLion/', 'description': '', 'display_name_prefixed': 'u/ReeferLion', 'subscribers': 0, 'display_name': 'u_ReeferLion', 'user_is_banned': False, 'is_default_icon': True, 'icon_img': 'https://www.redditstatic.com/avatars/avatar_default_08_24A0ED.png', 'over_18': False, 'is_default_banner': True, 'user_is_contributor': False, 'icon_color': '#24A0ED', 'header_size': None, 'user_is_muted': False, 'banner_size': None, 'user_is_subscriber': False, 'banner_img': '', 'title': '', 'default_set': True, 'primary_color': ''}, 'is_gold': False, 'is_friend': False, 'id': '11owvqhz', 'has_verified_email': False, 'pref_show_snoovatar': False, 'created': 1521167172.0, 'created_utc': 1521138372.0, 'link_karma': 19}\n",
      "Sending a message to user ReeferLion with data {'first_comment_week': 3, 'username': 'ReeferLion', 'url': 'https://docs.google.com/forms/d/e/1FAIpQLSfmgOcsF0ALqWGPHGpJq2cwUr-xIG-uizbQqXPzPuTkrPM-Lg/viewform?usp=pp_url&entry.360321409=ReeferLion&entry.1933578897', 'deleted': False, 'get_info_date': '2018-04-17 13:56:01.146841'}\n"
     ]
    },
    {
     "name": "stderr",
     "output_type": "stream",
     "text": [
      "substituting https://oauth.reddit.com for https://api.reddit.com in url\n",
      "POST: https://oauth.reddit.com/api/compose/.json\n"
     ]
    },
    {
     "name": "stdout",
     "output_type": "stream",
     "text": [
      "Message successfully sent to user ReeferLion\n",
      "APPENDING TO FILE: {'username': 'ReeferLion', 'get_info_date': '2018-04-17 13:56:01.146841', 'deleted': False, 'url': 'https://docs.google.com/forms/d/e/1FAIpQLSfmgOcsF0ALqWGPHGpJq2cwUr-xIG-uizbQqXPzPuTkrPM-Lg/viewform?usp=pp_url&entry.360321409=ReeferLion&entry.1933578897', 'first_comment_week': 3}\n",
      "first_comment_week: 3\n",
      "url: https://docs.google.com/forms/d/e/1FAIpQLSfmgOcsF0ALqWGPHGpJq2cwUr-xIG-uizbQqXPzPuTkrPM-Lg/viewform?usp=pp_url&entry.360321409=ReeferLion&entry.1933578897\n",
      "get_info_data: 2018-04-17 13:56:01.146841\n",
      "deleted: False\n",
      "User ultrav5 found: {'is_mod': False, 'has_subscribed': True, 'hide_from_robots': False, 'verified': True, 'icon_img': 'https://www.redditstatic.com/avatars/avatar_default_19_25B79F.png', 'is_employee': False, 'comment_karma': 2719, 'name': 'ultrav5', 'subreddit': {'icon_size': [256, 256], 'key_color': '', 'link_flair_enabled': False, 'subreddit_type': 'user', 'name': 't5_fpx0w', 'user_is_moderator': False, 'community_icon': '', 'header_img': None, 'public_description': '', 'show_media': True, 'audience_target': '', 'url': '/user/ultrav5/', 'description': '', 'display_name_prefixed': 'u/ultrav5', 'subscribers': 0, 'display_name': 'u_ultrav5', 'user_is_banned': False, 'is_default_icon': True, 'icon_img': 'https://www.redditstatic.com/avatars/avatar_default_19_25B79F.png', 'over_18': False, 'is_default_banner': True, 'user_is_contributor': False, 'icon_color': '#25B79F', 'header_size': None, 'user_is_muted': False, 'banner_size': None, 'user_is_subscriber': False, 'banner_img': '', 'title': '', 'default_set': True, 'primary_color': ''}, 'is_gold': False, 'is_friend': False, 'id': 'av722gu', 'has_verified_email': True, 'pref_show_snoovatar': False, 'created': 1518468668.0, 'created_utc': 1518439868.0, 'link_karma': 206}\n",
      "Sending a message to user ultrav5 with data {'first_comment_week': 3, 'username': 'ultrav5', 'url': 'https://docs.google.com/forms/d/e/1FAIpQLSfmgOcsF0ALqWGPHGpJq2cwUr-xIG-uizbQqXPzPuTkrPM-Lg/viewform?usp=pp_url&entry.360321409=ultrav5&entry.1933578897', 'deleted': False, 'get_info_date': '2018-04-17 13:56:05.132612'}\n"
     ]
    },
    {
     "name": "stderr",
     "output_type": "stream",
     "text": [
      "substituting https://oauth.reddit.com for https://api.reddit.com in url\n",
      "GET: https://oauth.reddit.com/user/ultrav5/about/.json\n",
      "substituting https://oauth.reddit.com for https://api.reddit.com in url\n",
      "POST: https://oauth.reddit.com/api/compose/.json\n"
     ]
    },
    {
     "name": "stdout",
     "output_type": "stream",
     "text": [
      "Message successfully sent to user ultrav5\n",
      "APPENDING TO FILE: {'username': 'ultrav5', 'get_info_date': '2018-04-17 13:56:05.132612', 'deleted': False, 'url': 'https://docs.google.com/forms/d/e/1FAIpQLSfmgOcsF0ALqWGPHGpJq2cwUr-xIG-uizbQqXPzPuTkrPM-Lg/viewform?usp=pp_url&entry.360321409=ultrav5&entry.1933578897', 'first_comment_week': 3}\n",
      "first_comment_week: 3\n",
      "url: https://docs.google.com/forms/d/e/1FAIpQLSfmgOcsF0ALqWGPHGpJq2cwUr-xIG-uizbQqXPzPuTkrPM-Lg/viewform?usp=pp_url&entry.360321409=ultrav5&entry.1933578897\n",
      "get_info_data: 2018-04-17 13:56:05.132612\n",
      "deleted: False\n",
      "User herrobot22 found: {'is_mod': True, 'has_subscribed': True, 'hide_from_robots': False, 'verified': False, 'icon_img': 'https://www.redditstatic.com/avatars/avatar_default_15_DDBD37.png', 'is_employee': False, 'comment_karma': 10016, 'name': 'herrobot22', 'subreddit': None, 'is_gold': False, 'is_friend': False, 'id': 'cd81a', 'has_verified_email': False, 'pref_show_snoovatar': False, 'created': 1373776651.0, 'created_utc': 1373747851.0, 'link_karma': 7855}\n",
      "Sending a message to user herrobot22 with data {'first_comment_week': 3, 'username': 'herrobot22', 'url': 'https://docs.google.com/forms/d/e/1FAIpQLSfmgOcsF0ALqWGPHGpJq2cwUr-xIG-uizbQqXPzPuTkrPM-Lg/viewform?usp=pp_url&entry.360321409=herrobot22&entry.1933578897', 'deleted': False, 'get_info_date': '2018-04-17 13:56:09.383730'}\n"
     ]
    },
    {
     "name": "stderr",
     "output_type": "stream",
     "text": [
      "substituting https://oauth.reddit.com for https://api.reddit.com in url\n",
      "GET: https://oauth.reddit.com/user/herrobot22/about/.json\n",
      "substituting https://oauth.reddit.com for https://api.reddit.com in url\n",
      "POST: https://oauth.reddit.com/api/compose/.json\n"
     ]
    },
    {
     "name": "stdout",
     "output_type": "stream",
     "text": [
      "Message successfully sent to user herrobot22\n",
      "APPENDING TO FILE: {'username': 'herrobot22', 'get_info_date': '2018-04-17 13:56:09.383730', 'deleted': False, 'url': 'https://docs.google.com/forms/d/e/1FAIpQLSfmgOcsF0ALqWGPHGpJq2cwUr-xIG-uizbQqXPzPuTkrPM-Lg/viewform?usp=pp_url&entry.360321409=herrobot22&entry.1933578897', 'first_comment_week': 3}\n",
      "first_comment_week: 3\n",
      "url: https://docs.google.com/forms/d/e/1FAIpQLSfmgOcsF0ALqWGPHGpJq2cwUr-xIG-uizbQqXPzPuTkrPM-Lg/viewform?usp=pp_url&entry.360321409=herrobot22&entry.1933578897\n",
      "get_info_data: 2018-04-17 13:56:09.383730\n",
      "deleted: False\n",
      "User thomasgla found: {'is_mod': False, 'has_subscribed': True, 'hide_from_robots': False, 'verified': True, 'icon_img': 'https://www.redditstatic.com/avatars/avatar_default_12_FF4500.png', 'is_employee': False, 'comment_karma': 159, 'name': 'thomasgla', 'subreddit': {'icon_size': [256, 256], 'key_color': '', 'link_flair_enabled': False, 'subreddit_type': 'user', 'name': 't5_gixsl', 'user_is_moderator': False, 'community_icon': '', 'header_img': None, 'public_description': '', 'show_media': True, 'audience_target': '', 'url': '/user/thomasgla/', 'description': '', 'display_name_prefixed': 'u/thomasgla', 'subscribers': 0, 'display_name': 'u_thomasgla', 'user_is_banned': False, 'is_default_icon': True, 'icon_img': 'https://www.redditstatic.com/avatars/avatar_default_12_FF4500.png', 'over_18': False, 'is_default_banner': True, 'user_is_contributor': False, 'icon_color': '#FF4500', 'header_size': None, 'user_is_muted': False, 'banner_size': None, 'user_is_subscriber': False, 'banner_img': '', 'title': '', 'default_set': True, 'primary_color': ''}, 'is_gold': False, 'is_friend': False, 'id': '102t79cb', 'has_verified_email': True, 'pref_show_snoovatar': False, 'created': 1520315367.0, 'created_utc': 1520286567.0, 'link_karma': 5801}\n",
      "Sending a message to user thomasgla with data {'first_comment_week': 3, 'username': 'thomasgla', 'url': 'https://docs.google.com/forms/d/e/1FAIpQLSfmgOcsF0ALqWGPHGpJq2cwUr-xIG-uizbQqXPzPuTkrPM-Lg/viewform?usp=pp_url&entry.360321409=thomasgla&entry.1933578897', 'deleted': False, 'get_info_date': '2018-04-17 13:56:13.780427'}\n"
     ]
    },
    {
     "name": "stderr",
     "output_type": "stream",
     "text": [
      "substituting https://oauth.reddit.com for https://api.reddit.com in url\n",
      "GET: https://oauth.reddit.com/user/thomasgla/about/.json\n",
      "substituting https://oauth.reddit.com for https://api.reddit.com in url\n",
      "POST: https://oauth.reddit.com/api/compose/.json\n",
      "POST: https://api.reddit.com/api/v1/access_token/\n",
      "substituting https://oauth.reddit.com for https://api.reddit.com in url\n",
      "GET: https://oauth.reddit.com/api/v1/me.json\n",
      "substituting https://oauth.reddit.com for https://api.reddit.com in url\n",
      "POST: https://oauth.reddit.com/api/compose/.json\n"
     ]
    },
    {
     "name": "stdout",
     "output_type": "stream",
     "text": [
      "Message successfully sent to user thomasgla\n",
      "APPENDING TO FILE: {'username': 'thomasgla', 'get_info_date': '2018-04-17 13:56:13.780427', 'deleted': False, 'url': 'https://docs.google.com/forms/d/e/1FAIpQLSfmgOcsF0ALqWGPHGpJq2cwUr-xIG-uizbQqXPzPuTkrPM-Lg/viewform?usp=pp_url&entry.360321409=thomasgla&entry.1933578897', 'first_comment_week': 3}\n",
      "first_comment_week: 3\n",
      "url: https://docs.google.com/forms/d/e/1FAIpQLSfmgOcsF0ALqWGPHGpJq2cwUr-xIG-uizbQqXPzPuTkrPM-Lg/viewform?usp=pp_url&entry.360321409=thomasgla&entry.1933578897\n",
      "get_info_data: 2018-04-17 13:56:13.780427\n",
      "deleted: False\n",
      "User vivalorine found: {'is_mod': False, 'has_subscribed': True, 'hide_from_robots': False, 'verified': True, 'icon_img': 'https://www.redditstatic.com/avatars/avatar_default_07_DDBD37.png', 'is_employee': False, 'comment_karma': 64, 'name': 'vivalorine', 'subreddit': {'icon_size': [256, 256], 'key_color': '', 'link_flair_enabled': False, 'subreddit_type': 'user', 'name': 't5_egxmi', 'user_is_moderator': False, 'community_icon': '', 'header_img': None, 'public_description': '', 'show_media': True, 'audience_target': '', 'url': '/user/vivalorine/', 'description': '', 'display_name_prefixed': 'u/vivalorine', 'subscribers': 0, 'display_name': 'u_vivalorine', 'user_is_banned': False, 'is_default_icon': True, 'icon_img': 'https://www.redditstatic.com/avatars/avatar_default_07_DDBD37.png', 'over_18': False, 'is_default_banner': True, 'user_is_contributor': False, 'icon_color': '#DDBD37', 'header_size': None, 'user_is_muted': False, 'banner_size': None, 'user_is_subscriber': False, 'banner_img': '', 'title': '', 'default_set': True, 'primary_color': ''}, 'is_gold': False, 'is_friend': False, 'id': '8ssyi', 'has_verified_email': False, 'pref_show_snoovatar': False, 'created': 1346071022.0, 'created_utc': 1346042222.0, 'link_karma': 1}\n",
      "Sending a message to user vivalorine with data {'first_comment_week': 3, 'username': 'vivalorine', 'url': 'https://docs.google.com/forms/d/e/1FAIpQLSfmgOcsF0ALqWGPHGpJq2cwUr-xIG-uizbQqXPzPuTkrPM-Lg/viewform?usp=pp_url&entry.360321409=vivalorine&entry.1933578897', 'deleted': False, 'get_info_date': '2018-04-17 13:56:23.935185'}\n"
     ]
    },
    {
     "name": "stderr",
     "output_type": "stream",
     "text": [
      "substituting https://oauth.reddit.com for https://api.reddit.com in url\n",
      "GET: https://oauth.reddit.com/user/vivalorine/about/.json\n",
      "substituting https://oauth.reddit.com for https://api.reddit.com in url\n",
      "POST: https://oauth.reddit.com/api/compose/.json\n"
     ]
    },
    {
     "name": "stdout",
     "output_type": "stream",
     "text": [
      "Message successfully sent to user vivalorine\n",
      "APPENDING TO FILE: {'username': 'vivalorine', 'get_info_date': '2018-04-17 13:56:23.935185', 'deleted': False, 'url': 'https://docs.google.com/forms/d/e/1FAIpQLSfmgOcsF0ALqWGPHGpJq2cwUr-xIG-uizbQqXPzPuTkrPM-Lg/viewform?usp=pp_url&entry.360321409=vivalorine&entry.1933578897', 'first_comment_week': 3}\n",
      "first_comment_week: 3\n",
      "url: https://docs.google.com/forms/d/e/1FAIpQLSfmgOcsF0ALqWGPHGpJq2cwUr-xIG-uizbQqXPzPuTkrPM-Lg/viewform?usp=pp_url&entry.360321409=vivalorine&entry.1933578897\n",
      "get_info_data: 2018-04-17 13:56:23.935185\n",
      "deleted: False\n",
      "User feastonmyload found: {'is_mod': False, 'has_subscribed': True, 'hide_from_robots': False, 'verified': True, 'icon_img': 'https://www.redditstatic.com/avatars/avatar_default_18_7193FF.png', 'is_employee': False, 'comment_karma': 0, 'name': 'feastonmyload', 'subreddit': {'icon_size': [256, 256], 'key_color': '', 'link_flair_enabled': False, 'subreddit_type': 'user', 'name': 't5_7j12m', 'user_is_moderator': False, 'community_icon': '', 'header_img': None, 'public_description': '', 'show_media': True, 'audience_target': '', 'url': '/user/feastonmyload/', 'description': '', 'display_name_prefixed': 'u/feastonmyload', 'subscribers': 0, 'display_name': 'u_feastonmyload', 'user_is_banned': False, 'is_default_icon': True, 'icon_img': 'https://www.redditstatic.com/avatars/avatar_default_18_7193FF.png', 'over_18': False, 'is_default_banner': True, 'user_is_contributor': False, 'icon_color': '#7193FF', 'header_size': None, 'user_is_muted': False, 'banner_size': None, 'user_is_subscriber': False, 'banner_img': '', 'title': '', 'default_set': True, 'primary_color': ''}, 'is_gold': False, 'is_friend': False, 'id': 'asg974d', 'has_verified_email': True, 'pref_show_snoovatar': False, 'created': 1503445018.0, 'created_utc': 1503416218.0, 'link_karma': 1}\n",
      "Sending a message to user feastonmyload with data {'first_comment_week': 3, 'username': 'feastonmyload', 'url': 'https://docs.google.com/forms/d/e/1FAIpQLSfmgOcsF0ALqWGPHGpJq2cwUr-xIG-uizbQqXPzPuTkrPM-Lg/viewform?usp=pp_url&entry.360321409=feastonmyload&entry.1933578897', 'deleted': False, 'get_info_date': '2018-04-17 13:56:28.128526'}\n"
     ]
    },
    {
     "name": "stderr",
     "output_type": "stream",
     "text": [
      "substituting https://oauth.reddit.com for https://api.reddit.com in url\n",
      "GET: https://oauth.reddit.com/user/feastonmyload/about/.json\n",
      "substituting https://oauth.reddit.com for https://api.reddit.com in url\n",
      "POST: https://oauth.reddit.com/api/compose/.json\n"
     ]
    },
    {
     "name": "stdout",
     "output_type": "stream",
     "text": [
      "Message successfully sent to user feastonmyload\n",
      "APPENDING TO FILE: {'username': 'feastonmyload', 'get_info_date': '2018-04-17 13:56:28.128526', 'deleted': False, 'url': 'https://docs.google.com/forms/d/e/1FAIpQLSfmgOcsF0ALqWGPHGpJq2cwUr-xIG-uizbQqXPzPuTkrPM-Lg/viewform?usp=pp_url&entry.360321409=feastonmyload&entry.1933578897', 'first_comment_week': 3}\n",
      "first_comment_week: 3\n",
      "url: https://docs.google.com/forms/d/e/1FAIpQLSfmgOcsF0ALqWGPHGpJq2cwUr-xIG-uizbQqXPzPuTkrPM-Lg/viewform?usp=pp_url&entry.360321409=feastonmyload&entry.1933578897\n",
      "get_info_data: 2018-04-17 13:56:28.128526\n",
      "deleted: False\n",
      "User PhysicsGuy13 found: {'is_mod': False, 'has_subscribed': True, 'hide_from_robots': False, 'verified': True, 'icon_img': 'https://www.redditstatic.com/avatars/avatar_default_01_545452.png', 'is_employee': False, 'comment_karma': 1, 'name': 'PhysicsGuy13', 'subreddit': {'icon_size': [256, 256], 'key_color': '', 'link_flair_enabled': False, 'subreddit_type': 'user', 'name': 't5_h6r8w', 'user_is_moderator': False, 'community_icon': '', 'header_img': None, 'public_description': '', 'show_media': True, 'audience_target': '', 'url': '/user/PhysicsGuy13/', 'description': '', 'display_name_prefixed': 'u/PhysicsGuy13', 'subscribers': 0, 'display_name': 'u_PhysicsGuy13', 'user_is_banned': False, 'is_default_icon': True, 'icon_img': 'https://www.redditstatic.com/avatars/avatar_default_01_545452.png', 'over_18': False, 'is_default_banner': True, 'user_is_contributor': False, 'icon_color': '#545452', 'header_size': None, 'user_is_muted': False, 'banner_size': None, 'user_is_subscriber': False, 'banner_img': '', 'title': '', 'default_set': True, 'primary_color': ''}, 'is_gold': False, 'is_friend': False, 'id': '12xnb8i4', 'has_verified_email': False, 'pref_show_snoovatar': False, 'created': 1521816978.0, 'created_utc': 1521788178.0, 'link_karma': 22}\n",
      "Sending a message to user PhysicsGuy13 with data {'first_comment_week': 3, 'username': 'PhysicsGuy13', 'url': 'https://docs.google.com/forms/d/e/1FAIpQLSfmgOcsF0ALqWGPHGpJq2cwUr-xIG-uizbQqXPzPuTkrPM-Lg/viewform?usp=pp_url&entry.360321409=PhysicsGuy13&entry.1933578897', 'deleted': False, 'get_info_date': '2018-04-17 13:56:32.351343'}\n"
     ]
    },
    {
     "name": "stderr",
     "output_type": "stream",
     "text": [
      "substituting https://oauth.reddit.com for https://api.reddit.com in url\n",
      "GET: https://oauth.reddit.com/user/PhysicsGuy13/about/.json\n",
      "substituting https://oauth.reddit.com for https://api.reddit.com in url\n",
      "POST: https://oauth.reddit.com/api/compose/.json\n"
     ]
    },
    {
     "name": "stdout",
     "output_type": "stream",
     "text": [
      "Message successfully sent to user PhysicsGuy13\n",
      "APPENDING TO FILE: {'username': 'PhysicsGuy13', 'get_info_date': '2018-04-17 13:56:32.351343', 'deleted': False, 'url': 'https://docs.google.com/forms/d/e/1FAIpQLSfmgOcsF0ALqWGPHGpJq2cwUr-xIG-uizbQqXPzPuTkrPM-Lg/viewform?usp=pp_url&entry.360321409=PhysicsGuy13&entry.1933578897', 'first_comment_week': 3}\n",
      "first_comment_week: 3\n",
      "url: https://docs.google.com/forms/d/e/1FAIpQLSfmgOcsF0ALqWGPHGpJq2cwUr-xIG-uizbQqXPzPuTkrPM-Lg/viewform?usp=pp_url&entry.360321409=PhysicsGuy13&entry.1933578897\n",
      "get_info_data: 2018-04-17 13:56:32.351343\n",
      "deleted: False\n",
      "User yvngbvpe2006 found: {'is_mod': False, 'has_subscribed': True, 'hide_from_robots': False, 'verified': True, 'icon_img': 'https://www.redditstatic.com/avatars/avatar_default_05_FF4500.png', 'is_employee': False, 'comment_karma': 3, 'name': 'yvngbvpe2006', 'subreddit': {'icon_size': [256, 256], 'key_color': '', 'link_flair_enabled': False, 'subreddit_type': 'user', 'name': 't5_h3f1w', 'user_is_moderator': False, 'community_icon': '', 'header_img': None, 'public_description': 'im a weird weeb. im the king of memes. i kinda look like an elf. i get bullied alot. i have adhd, anxiety, and clinical depression. i love Naruto: Shippuden', 'show_media': True, 'audience_target': '', 'url': '/user/yvngbvpe2006/', 'description': '', 'display_name_prefixed': 'u/yvngbvpe2006', 'subscribers': 0, 'display_name': 'u_yvngbvpe2006', 'user_is_banned': False, 'is_default_icon': True, 'icon_img': 'https://www.redditstatic.com/avatars/avatar_default_05_FF4500.png', 'over_18': False, 'is_default_banner': True, 'user_is_contributor': False, 'icon_color': '#FF4500', 'header_size': None, 'user_is_muted': False, 'banner_size': None, 'user_is_subscriber': False, 'banner_img': '', 'title': 'Logan', 'default_set': True, 'primary_color': ''}, 'is_gold': False, 'is_friend': False, 'id': 'w8pmxko', 'has_verified_email': False, 'pref_show_snoovatar': False, 'created': 1521615530.0, 'created_utc': 1521586730.0, 'link_karma': 1}\n",
      "Sending a message to user yvngbvpe2006 with data {'first_comment_week': 3, 'username': 'yvngbvpe2006', 'url': 'https://docs.google.com/forms/d/e/1FAIpQLSfmgOcsF0ALqWGPHGpJq2cwUr-xIG-uizbQqXPzPuTkrPM-Lg/viewform?usp=pp_url&entry.360321409=yvngbvpe2006&entry.1933578897', 'deleted': False, 'get_info_date': '2018-04-17 13:56:36.525405'}\n"
     ]
    },
    {
     "name": "stderr",
     "output_type": "stream",
     "text": [
      "substituting https://oauth.reddit.com for https://api.reddit.com in url\n",
      "GET: https://oauth.reddit.com/user/yvngbvpe2006/about/.json\n",
      "substituting https://oauth.reddit.com for https://api.reddit.com in url\n",
      "POST: https://oauth.reddit.com/api/compose/.json\n"
     ]
    },
    {
     "name": "stdout",
     "output_type": "stream",
     "text": [
      "Message successfully sent to user yvngbvpe2006\n",
      "APPENDING TO FILE: {'username': 'yvngbvpe2006', 'get_info_date': '2018-04-17 13:56:36.525405', 'deleted': False, 'url': 'https://docs.google.com/forms/d/e/1FAIpQLSfmgOcsF0ALqWGPHGpJq2cwUr-xIG-uizbQqXPzPuTkrPM-Lg/viewform?usp=pp_url&entry.360321409=yvngbvpe2006&entry.1933578897', 'first_comment_week': 3}\n",
      "first_comment_week: 3\n",
      "url: https://docs.google.com/forms/d/e/1FAIpQLSfmgOcsF0ALqWGPHGpJq2cwUr-xIG-uizbQqXPzPuTkrPM-Lg/viewform?usp=pp_url&entry.360321409=yvngbvpe2006&entry.1933578897\n",
      "get_info_data: 2018-04-17 13:56:36.525405\n",
      "deleted: False\n",
      "User socializedalienation found: {'is_mod': False, 'has_subscribed': True, 'hide_from_robots': False, 'verified': True, 'icon_img': 'https://www.redditstatic.com/avatars/avatar_default_12_EA0027.png', 'is_employee': False, 'comment_karma': 531, 'name': 'socializedalienation', 'subreddit': {'icon_size': [256, 256], 'key_color': '', 'link_flair_enabled': False, 'subreddit_type': 'user', 'name': 't5_5p20l', 'user_is_moderator': False, 'community_icon': '', 'header_img': None, 'public_description': '', 'show_media': True, 'audience_target': '', 'url': '/user/socializedalienation/', 'description': '', 'display_name_prefixed': 'u/socializedalienation', 'subscribers': 0, 'display_name': 'u_socializedalienation', 'user_is_banned': False, 'is_default_icon': True, 'icon_img': 'https://www.redditstatic.com/avatars/avatar_default_12_EA0027.png', 'over_18': False, 'is_default_banner': True, 'user_is_contributor': False, 'icon_color': '#EA0027', 'header_size': None, 'user_is_muted': False, 'banner_size': None, 'user_is_subscriber': False, 'banner_img': '', 'title': '', 'default_set': True, 'primary_color': ''}, 'is_gold': False, 'is_friend': False, 'id': 'iddoudf', 'has_verified_email': False, 'pref_show_snoovatar': False, 'created': 1508807843.0, 'created_utc': 1508779043.0, 'link_karma': 1}\n",
      "Sending a message to user socializedalienation with data {'first_comment_week': 3, 'username': 'socializedalienation', 'url': 'https://docs.google.com/forms/d/e/1FAIpQLSfmgOcsF0ALqWGPHGpJq2cwUr-xIG-uizbQqXPzPuTkrPM-Lg/viewform?usp=pp_url&entry.360321409=socializedalienation&entry.1933578897', 'deleted': False, 'get_info_date': '2018-04-17 13:56:40.957726'}\n"
     ]
    },
    {
     "name": "stderr",
     "output_type": "stream",
     "text": [
      "substituting https://oauth.reddit.com for https://api.reddit.com in url\n",
      "GET: https://oauth.reddit.com/user/socializedalienation/about/.json\n",
      "substituting https://oauth.reddit.com for https://api.reddit.com in url\n",
      "POST: https://oauth.reddit.com/api/compose/.json\n"
     ]
    },
    {
     "name": "stdout",
     "output_type": "stream",
     "text": [
      "Message successfully sent to user socializedalienation\n",
      "APPENDING TO FILE: {'username': 'socializedalienation', 'get_info_date': '2018-04-17 13:56:40.957726', 'deleted': False, 'url': 'https://docs.google.com/forms/d/e/1FAIpQLSfmgOcsF0ALqWGPHGpJq2cwUr-xIG-uizbQqXPzPuTkrPM-Lg/viewform?usp=pp_url&entry.360321409=socializedalienation&entry.1933578897', 'first_comment_week': 3}\n",
      "first_comment_week: 3\n",
      "url: https://docs.google.com/forms/d/e/1FAIpQLSfmgOcsF0ALqWGPHGpJq2cwUr-xIG-uizbQqXPzPuTkrPM-Lg/viewform?usp=pp_url&entry.360321409=socializedalienation&entry.1933578897\n",
      "get_info_data: 2018-04-17 13:56:40.957726\n",
      "deleted: False\n",
      "User Fail69 found: {'is_mod': False, 'has_subscribed': True, 'hide_from_robots': False, 'verified': True, 'icon_img': 'https://www.redditstatic.com/avatars/avatar_default_08_25B79F.png', 'is_employee': False, 'comment_karma': 0, 'name': 'Fail69', 'subreddit': {'icon_size': [256, 256], 'key_color': '', 'link_flair_enabled': False, 'subreddit_type': 'user', 'name': 't5_h7g9l', 'user_is_moderator': False, 'community_icon': '', 'header_img': None, 'public_description': '', 'show_media': True, 'audience_target': '', 'url': '/user/Fail69/', 'description': '', 'display_name_prefixed': 'u/Fail69', 'subscribers': 0, 'display_name': 'u_Fail69', 'user_is_banned': False, 'is_default_icon': True, 'icon_img': 'https://www.redditstatic.com/avatars/avatar_default_08_25B79F.png', 'over_18': False, 'is_default_banner': True, 'user_is_contributor': False, 'icon_color': '#25B79F', 'header_size': None, 'user_is_muted': False, 'banner_size': None, 'user_is_subscriber': False, 'banner_img': '', 'title': '', 'default_set': True, 'primary_color': ''}, 'is_gold': False, 'is_friend': False, 'id': 'tujqc83', 'has_verified_email': True, 'pref_show_snoovatar': False, 'created': 1521866131.0, 'created_utc': 1521837331.0, 'link_karma': 1}\n",
      "Sending a message to user Fail69 with data {'first_comment_week': 3, 'username': 'Fail69', 'url': 'https://docs.google.com/forms/d/e/1FAIpQLSfmgOcsF0ALqWGPHGpJq2cwUr-xIG-uizbQqXPzPuTkrPM-Lg/viewform?usp=pp_url&entry.360321409=Fail69&entry.1933578897', 'deleted': False, 'get_info_date': '2018-04-17 13:56:45.179447'}\n"
     ]
    },
    {
     "name": "stderr",
     "output_type": "stream",
     "text": [
      "substituting https://oauth.reddit.com for https://api.reddit.com in url\n",
      "GET: https://oauth.reddit.com/user/Fail69/about/.json\n",
      "substituting https://oauth.reddit.com for https://api.reddit.com in url\n",
      "POST: https://oauth.reddit.com/api/compose/.json\n"
     ]
    },
    {
     "name": "stdout",
     "output_type": "stream",
     "text": [
      "Message successfully sent to user Fail69\n",
      "APPENDING TO FILE: {'username': 'Fail69', 'get_info_date': '2018-04-17 13:56:45.179447', 'deleted': False, 'url': 'https://docs.google.com/forms/d/e/1FAIpQLSfmgOcsF0ALqWGPHGpJq2cwUr-xIG-uizbQqXPzPuTkrPM-Lg/viewform?usp=pp_url&entry.360321409=Fail69&entry.1933578897', 'first_comment_week': 3}\n",
      "first_comment_week: 3\n",
      "url: https://docs.google.com/forms/d/e/1FAIpQLSfmgOcsF0ALqWGPHGpJq2cwUr-xIG-uizbQqXPzPuTkrPM-Lg/viewform?usp=pp_url&entry.360321409=Fail69&entry.1933578897\n",
      "get_info_data: 2018-04-17 13:56:45.179447\n",
      "deleted: False\n",
      "User jhn1hn found: {'is_mod': False, 'has_subscribed': True, 'hide_from_robots': False, 'verified': True, 'icon_img': 'https://www.redditstatic.com/avatars/avatar_default_08_4856A3.png', 'is_employee': False, 'comment_karma': 626, 'name': 'jhn1hn', 'subreddit': {'icon_size': [256, 256], 'key_color': '', 'link_flair_enabled': False, 'subreddit_type': 'user', 'name': 't5_enkv1', 'user_is_moderator': False, 'community_icon': '', 'header_img': None, 'public_description': '', 'show_media': True, 'audience_target': '', 'url': '/user/jhn1hn/', 'description': '', 'display_name_prefixed': 'u/jhn1hn', 'subscribers': 0, 'display_name': 'u_jhn1hn', 'user_is_banned': False, 'is_default_icon': True, 'icon_img': 'https://www.redditstatic.com/avatars/avatar_default_08_4856A3.png', 'over_18': False, 'is_default_banner': True, 'user_is_contributor': False, 'icon_color': '#4856A3', 'header_size': None, 'user_is_muted': False, 'banner_size': None, 'user_is_subscriber': False, 'banner_img': '', 'title': '', 'default_set': True, 'primary_color': ''}, 'is_gold': False, 'is_friend': False, 'id': '13p0kn', 'has_verified_email': True, 'pref_show_snoovatar': False, 'created': 1482190962.0, 'created_utc': 1482162162.0, 'link_karma': 106}\n",
      "Sending a message to user jhn1hn with data {'first_comment_week': 3, 'username': 'jhn1hn', 'url': 'https://docs.google.com/forms/d/e/1FAIpQLSfmgOcsF0ALqWGPHGpJq2cwUr-xIG-uizbQqXPzPuTkrPM-Lg/viewform?usp=pp_url&entry.360321409=jhn1hn&entry.1933578897', 'deleted': False, 'get_info_date': '2018-04-17 13:56:49.608765'}\n"
     ]
    },
    {
     "name": "stderr",
     "output_type": "stream",
     "text": [
      "substituting https://oauth.reddit.com for https://api.reddit.com in url\n",
      "GET: https://oauth.reddit.com/user/jhn1hn/about/.json\n",
      "substituting https://oauth.reddit.com for https://api.reddit.com in url\n",
      "POST: https://oauth.reddit.com/api/compose/.json\n"
     ]
    },
    {
     "name": "stdout",
     "output_type": "stream",
     "text": [
      "Message successfully sent to user jhn1hn\n",
      "APPENDING TO FILE: {'username': 'jhn1hn', 'get_info_date': '2018-04-17 13:56:49.608765', 'deleted': False, 'url': 'https://docs.google.com/forms/d/e/1FAIpQLSfmgOcsF0ALqWGPHGpJq2cwUr-xIG-uizbQqXPzPuTkrPM-Lg/viewform?usp=pp_url&entry.360321409=jhn1hn&entry.1933578897', 'first_comment_week': 3}\n",
      "first_comment_week: 3\n",
      "url: https://docs.google.com/forms/d/e/1FAIpQLSfmgOcsF0ALqWGPHGpJq2cwUr-xIG-uizbQqXPzPuTkrPM-Lg/viewform?usp=pp_url&entry.360321409=jhn1hn&entry.1933578897\n",
      "get_info_data: 2018-04-17 13:56:49.608765\n",
      "deleted: False\n",
      "Week age 4: 100 authors \n",
      "User AndreCalado found: {'is_mod': False, 'has_subscribed': True, 'hide_from_robots': False, 'verified': True, 'icon_img': 'https://www.redditstatic.com/avatars/avatar_default_01_DDBD37.png', 'is_employee': False, 'comment_karma': 69, 'name': 'AndreCalado', 'subreddit': {'icon_size': [256, 256], 'key_color': '', 'link_flair_enabled': False, 'subreddit_type': 'user', 'name': 't5_4pysy', 'user_is_moderator': False, 'community_icon': '', 'header_img': None, 'public_description': '', 'show_media': True, 'audience_target': '', 'url': '/user/AndreCalado/', 'description': '', 'display_name_prefixed': 'u/AndreCalado', 'subscribers': 0, 'display_name': 'u_AndreCalado', 'user_is_banned': False, 'is_default_icon': True, 'icon_img': 'https://www.redditstatic.com/avatars/avatar_default_01_DDBD37.png', 'over_18': False, 'is_default_banner': True, 'user_is_contributor': False, 'icon_color': '#DDBD37', 'header_size': None, 'user_is_muted': False, 'banner_size': None, 'user_is_subscriber': False, 'banner_img': '', 'title': '', 'default_set': True, 'primary_color': ''}, 'is_gold': False, 'is_friend': False, 'id': 'luvg6v0', 'has_verified_email': True, 'pref_show_snoovatar': False, 'created': 1511466613.0, 'created_utc': 1511437813.0, 'link_karma': 42}\n",
      "Sending a message to user AndreCalado with data {'first_comment_week': 4, 'username': 'AndreCalado', 'url': 'https://docs.google.com/forms/d/e/1FAIpQLSfmgOcsF0ALqWGPHGpJq2cwUr-xIG-uizbQqXPzPuTkrPM-Lg/viewform?usp=pp_url&entry.360321409=AndreCalado&entry.1933578897', 'deleted': False, 'get_info_date': '2018-04-17 13:56:53.895124'}\n"
     ]
    },
    {
     "name": "stderr",
     "output_type": "stream",
     "text": [
      "substituting https://oauth.reddit.com for https://api.reddit.com in url\n",
      "GET: https://oauth.reddit.com/user/AndreCalado/about/.json\n",
      "substituting https://oauth.reddit.com for https://api.reddit.com in url\n",
      "POST: https://oauth.reddit.com/api/compose/.json\n"
     ]
    },
    {
     "name": "stdout",
     "output_type": "stream",
     "text": [
      "Message successfully sent to user AndreCalado\n",
      "APPENDING TO FILE: {'username': 'AndreCalado', 'get_info_date': '2018-04-17 13:56:53.895124', 'deleted': False, 'url': 'https://docs.google.com/forms/d/e/1FAIpQLSfmgOcsF0ALqWGPHGpJq2cwUr-xIG-uizbQqXPzPuTkrPM-Lg/viewform?usp=pp_url&entry.360321409=AndreCalado&entry.1933578897', 'first_comment_week': 4}\n",
      "first_comment_week: 4\n",
      "url: https://docs.google.com/forms/d/e/1FAIpQLSfmgOcsF0ALqWGPHGpJq2cwUr-xIG-uizbQqXPzPuTkrPM-Lg/viewform?usp=pp_url&entry.360321409=AndreCalado&entry.1933578897\n",
      "get_info_data: 2018-04-17 13:56:53.895124\n",
      "deleted: False\n",
      "User youngeartha found: {'is_mod': False, 'has_subscribed': True, 'hide_from_robots': False, 'verified': True, 'icon_img': 'https://www.redditstatic.com/avatars/avatar_default_13_46A508.png', 'is_employee': False, 'comment_karma': 491, 'name': 'youngeartha', 'subreddit': {'icon_size': [256, 256], 'key_color': '', 'link_flair_enabled': False, 'subreddit_type': 'user', 'name': 't5_bs1dj', 'user_is_moderator': False, 'community_icon': '', 'header_img': None, 'public_description': '', 'show_media': True, 'audience_target': '', 'url': '/user/youngeartha/', 'description': '', 'display_name_prefixed': 'u/youngeartha', 'subscribers': 0, 'display_name': 'u_youngeartha', 'user_is_banned': False, 'is_default_icon': True, 'icon_img': 'https://www.redditstatic.com/avatars/avatar_default_13_46A508.png', 'over_18': False, 'is_default_banner': True, 'user_is_contributor': False, 'icon_color': '#46A508', 'header_size': None, 'user_is_muted': False, 'banner_size': None, 'user_is_subscriber': False, 'banner_img': '', 'title': '', 'default_set': True, 'primary_color': ''}, 'is_gold': False, 'is_friend': False, 'id': 'hzt60', 'has_verified_email': False, 'pref_show_snoovatar': False, 'created': 1408714049.0, 'created_utc': 1408685249.0, 'link_karma': 3}\n",
      "Sending a message to user youngeartha with data {'first_comment_week': 4, 'username': 'youngeartha', 'url': 'https://docs.google.com/forms/d/e/1FAIpQLSfmgOcsF0ALqWGPHGpJq2cwUr-xIG-uizbQqXPzPuTkrPM-Lg/viewform?usp=pp_url&entry.360321409=youngeartha&entry.1933578897', 'deleted': False, 'get_info_date': '2018-04-17 13:56:58.544805'}\n"
     ]
    },
    {
     "name": "stderr",
     "output_type": "stream",
     "text": [
      "substituting https://oauth.reddit.com for https://api.reddit.com in url\n",
      "GET: https://oauth.reddit.com/user/youngeartha/about/.json\n",
      "substituting https://oauth.reddit.com for https://api.reddit.com in url\n",
      "POST: https://oauth.reddit.com/api/compose/.json\n"
     ]
    },
    {
     "name": "stdout",
     "output_type": "stream",
     "text": [
      "Message successfully sent to user youngeartha\n",
      "APPENDING TO FILE: {'username': 'youngeartha', 'get_info_date': '2018-04-17 13:56:58.544805', 'deleted': False, 'url': 'https://docs.google.com/forms/d/e/1FAIpQLSfmgOcsF0ALqWGPHGpJq2cwUr-xIG-uizbQqXPzPuTkrPM-Lg/viewform?usp=pp_url&entry.360321409=youngeartha&entry.1933578897', 'first_comment_week': 4}\n",
      "first_comment_week: 4\n",
      "url: https://docs.google.com/forms/d/e/1FAIpQLSfmgOcsF0ALqWGPHGpJq2cwUr-xIG-uizbQqXPzPuTkrPM-Lg/viewform?usp=pp_url&entry.360321409=youngeartha&entry.1933578897\n",
      "get_info_data: 2018-04-17 13:56:58.544805\n",
      "deleted: False\n",
      "User DebateMePF found: {'is_mod': False, 'has_subscribed': True, 'hide_from_robots': False, 'verified': True, 'icon_img': 'https://www.redditstatic.com/avatars/avatar_default_08_DB0064.png', 'is_employee': False, 'comment_karma': 1, 'name': 'DebateMePF', 'subreddit': {'icon_size': [256, 256], 'key_color': '', 'link_flair_enabled': False, 'subreddit_type': 'user', 'name': 't5_fxtzp', 'user_is_moderator': False, 'community_icon': '', 'header_img': None, 'public_description': '', 'show_media': True, 'audience_target': '', 'url': '/user/DebateMePF/', 'description': '', 'display_name_prefixed': 'u/DebateMePF', 'subscribers': 0, 'display_name': 'u_DebateMePF', 'user_is_banned': False, 'is_default_icon': True, 'icon_img': 'https://www.redditstatic.com/avatars/avatar_default_08_DB0064.png', 'over_18': False, 'is_default_banner': True, 'user_is_contributor': False, 'icon_color': '#DB0064', 'header_size': None, 'user_is_muted': False, 'banner_size': None, 'user_is_subscriber': False, 'banner_img': '', 'title': '', 'default_set': True, 'primary_color': ''}, 'is_gold': False, 'is_friend': False, 'id': 'xnufvlj', 'has_verified_email': False, 'pref_show_snoovatar': False, 'created': 1518993805.0, 'created_utc': 1518965005.0, 'link_karma': 1}\n",
      "Sending a message to user DebateMePF with data {'first_comment_week': 4, 'username': 'DebateMePF', 'url': 'https://docs.google.com/forms/d/e/1FAIpQLSfmgOcsF0ALqWGPHGpJq2cwUr-xIG-uizbQqXPzPuTkrPM-Lg/viewform?usp=pp_url&entry.360321409=DebateMePF&entry.1933578897', 'deleted': False, 'get_info_date': '2018-04-17 13:57:02.800761'}\n"
     ]
    },
    {
     "name": "stderr",
     "output_type": "stream",
     "text": [
      "substituting https://oauth.reddit.com for https://api.reddit.com in url\n",
      "GET: https://oauth.reddit.com/user/DebateMePF/about/.json\n",
      "substituting https://oauth.reddit.com for https://api.reddit.com in url\n",
      "POST: https://oauth.reddit.com/api/compose/.json\n"
     ]
    },
    {
     "name": "stdout",
     "output_type": "stream",
     "text": [
      "Message successfully sent to user DebateMePF\n",
      "APPENDING TO FILE: {'username': 'DebateMePF', 'get_info_date': '2018-04-17 13:57:02.800761', 'deleted': False, 'url': 'https://docs.google.com/forms/d/e/1FAIpQLSfmgOcsF0ALqWGPHGpJq2cwUr-xIG-uizbQqXPzPuTkrPM-Lg/viewform?usp=pp_url&entry.360321409=DebateMePF&entry.1933578897', 'first_comment_week': 4}\n",
      "first_comment_week: 4\n",
      "url: https://docs.google.com/forms/d/e/1FAIpQLSfmgOcsF0ALqWGPHGpJq2cwUr-xIG-uizbQqXPzPuTkrPM-Lg/viewform?usp=pp_url&entry.360321409=DebateMePF&entry.1933578897\n",
      "get_info_data: 2018-04-17 13:57:02.800761\n",
      "deleted: False\n",
      "User PowerTroubles found: {'is_mod': False, 'has_subscribed': True, 'hide_from_robots': False, 'verified': True, 'icon_img': 'https://www.redditstatic.com/avatars/avatar_default_12_0079D3.png', 'is_employee': False, 'comment_karma': 6388, 'name': 'PowerTroubles', 'subreddit': {'icon_size': [256, 256], 'key_color': '', 'link_flair_enabled': False, 'subreddit_type': 'user', 'name': 't5_cbs5v', 'user_is_moderator': False, 'community_icon': '', 'header_img': None, 'public_description': '', 'show_media': True, 'audience_target': '', 'url': '/user/PowerTroubles/', 'description': '', 'display_name_prefixed': 'u/PowerTroubles', 'subscribers': 0, 'display_name': 'u_PowerTroubles', 'user_is_banned': False, 'is_default_icon': True, 'icon_img': 'https://www.redditstatic.com/avatars/avatar_default_12_0079D3.png', 'over_18': False, 'is_default_banner': True, 'user_is_contributor': False, 'icon_color': '#0079D3', 'header_size': None, 'user_is_muted': False, 'banner_size': None, 'user_is_subscriber': False, 'banner_img': '', 'title': '', 'default_set': True, 'primary_color': ''}, 'is_gold': False, 'is_friend': False, 'id': 'zavnr', 'has_verified_email': True, 'pref_show_snoovatar': False, 'created': 1467876521.0, 'created_utc': 1467847721.0, 'link_karma': 1}\n",
      "Sending a message to user PowerTroubles with data {'first_comment_week': 4, 'username': 'PowerTroubles', 'url': 'https://docs.google.com/forms/d/e/1FAIpQLSfmgOcsF0ALqWGPHGpJq2cwUr-xIG-uizbQqXPzPuTkrPM-Lg/viewform?usp=pp_url&entry.360321409=PowerTroubles&entry.1933578897', 'deleted': False, 'get_info_date': '2018-04-17 13:57:06.878361'}\n"
     ]
    },
    {
     "name": "stderr",
     "output_type": "stream",
     "text": [
      "substituting https://oauth.reddit.com for https://api.reddit.com in url\n",
      "GET: https://oauth.reddit.com/user/PowerTroubles/about/.json\n",
      "substituting https://oauth.reddit.com for https://api.reddit.com in url\n",
      "POST: https://oauth.reddit.com/api/compose/.json\n"
     ]
    },
    {
     "name": "stdout",
     "output_type": "stream",
     "text": [
      "Message successfully sent to user PowerTroubles\n",
      "APPENDING TO FILE: {'username': 'PowerTroubles', 'get_info_date': '2018-04-17 13:57:06.878361', 'deleted': False, 'url': 'https://docs.google.com/forms/d/e/1FAIpQLSfmgOcsF0ALqWGPHGpJq2cwUr-xIG-uizbQqXPzPuTkrPM-Lg/viewform?usp=pp_url&entry.360321409=PowerTroubles&entry.1933578897', 'first_comment_week': 4}\n",
      "first_comment_week: 4\n",
      "url: https://docs.google.com/forms/d/e/1FAIpQLSfmgOcsF0ALqWGPHGpJq2cwUr-xIG-uizbQqXPzPuTkrPM-Lg/viewform?usp=pp_url&entry.360321409=PowerTroubles&entry.1933578897\n",
      "get_info_data: 2018-04-17 13:57:06.878361\n",
      "deleted: False\n",
      "User turiyag found: {'is_mod': True, 'has_subscribed': True, 'hide_from_robots': False, 'verified': False, 'icon_img': 'https://www.redditstatic.com/avatars/avatar_default_08_24A0ED.png', 'is_employee': False, 'comment_karma': 2266, 'name': 'turiyag', 'subreddit': None, 'is_gold': False, 'is_friend': False, 'id': 'anykf', 'has_verified_email': True, 'pref_show_snoovatar': False, 'created': 1361366696.0, 'created_utc': 1361337896.0, 'link_karma': 305}\n",
      "Sending a message to user turiyag with data {'first_comment_week': 4, 'username': 'turiyag', 'url': 'https://docs.google.com/forms/d/e/1FAIpQLSfmgOcsF0ALqWGPHGpJq2cwUr-xIG-uizbQqXPzPuTkrPM-Lg/viewform?usp=pp_url&entry.360321409=turiyag&entry.1933578897', 'deleted': False, 'get_info_date': '2018-04-17 13:57:11.019150'}\n"
     ]
    },
    {
     "name": "stderr",
     "output_type": "stream",
     "text": [
      "substituting https://oauth.reddit.com for https://api.reddit.com in url\n",
      "GET: https://oauth.reddit.com/user/turiyag/about/.json\n",
      "substituting https://oauth.reddit.com for https://api.reddit.com in url\n",
      "POST: https://oauth.reddit.com/api/compose/.json\n"
     ]
    },
    {
     "name": "stdout",
     "output_type": "stream",
     "text": [
      "Message successfully sent to user turiyag\n",
      "APPENDING TO FILE: {'username': 'turiyag', 'get_info_date': '2018-04-17 13:57:11.019150', 'deleted': False, 'url': 'https://docs.google.com/forms/d/e/1FAIpQLSfmgOcsF0ALqWGPHGpJq2cwUr-xIG-uizbQqXPzPuTkrPM-Lg/viewform?usp=pp_url&entry.360321409=turiyag&entry.1933578897', 'first_comment_week': 4}\n",
      "first_comment_week: 4\n",
      "url: https://docs.google.com/forms/d/e/1FAIpQLSfmgOcsF0ALqWGPHGpJq2cwUr-xIG-uizbQqXPzPuTkrPM-Lg/viewform?usp=pp_url&entry.360321409=turiyag&entry.1933578897\n",
      "get_info_data: 2018-04-17 13:57:11.019150\n",
      "deleted: False\n",
      "User FlotsamOfThe4Winds found: {'is_mod': True, 'has_subscribed': True, 'hide_from_robots': False, 'verified': False, 'icon_img': 'https://www.redditstatic.com/avatars/avatar_default_15_FF66AC.png', 'is_employee': False, 'comment_karma': 14511, 'name': 'FlotsamOfThe4Winds', 'subreddit': None, 'is_gold': False, 'is_friend': False, 'id': 'zfxy2', 'has_verified_email': True, 'pref_show_snoovatar': False, 'created': 1468351117.0, 'created_utc': 1468322317.0, 'link_karma': 2475}\n",
      "Sending a message to user FlotsamOfThe4Winds with data {'first_comment_week': 4, 'username': 'FlotsamOfThe4Winds', 'url': 'https://docs.google.com/forms/d/e/1FAIpQLSfmgOcsF0ALqWGPHGpJq2cwUr-xIG-uizbQqXPzPuTkrPM-Lg/viewform?usp=pp_url&entry.360321409=FlotsamOfThe4Winds&entry.1933578897', 'deleted': False, 'get_info_date': '2018-04-17 13:57:15.405242'}\n"
     ]
    },
    {
     "name": "stderr",
     "output_type": "stream",
     "text": [
      "substituting https://oauth.reddit.com for https://api.reddit.com in url\n",
      "GET: https://oauth.reddit.com/user/FlotsamOfThe4Winds/about/.json\n",
      "substituting https://oauth.reddit.com for https://api.reddit.com in url\n",
      "POST: https://oauth.reddit.com/api/compose/.json\n"
     ]
    },
    {
     "name": "stdout",
     "output_type": "stream",
     "text": [
      "Message successfully sent to user FlotsamOfThe4Winds\n",
      "APPENDING TO FILE: {'username': 'FlotsamOfThe4Winds', 'get_info_date': '2018-04-17 13:57:15.405242', 'deleted': False, 'url': 'https://docs.google.com/forms/d/e/1FAIpQLSfmgOcsF0ALqWGPHGpJq2cwUr-xIG-uizbQqXPzPuTkrPM-Lg/viewform?usp=pp_url&entry.360321409=FlotsamOfThe4Winds&entry.1933578897', 'first_comment_week': 4}\n",
      "first_comment_week: 4\n",
      "url: https://docs.google.com/forms/d/e/1FAIpQLSfmgOcsF0ALqWGPHGpJq2cwUr-xIG-uizbQqXPzPuTkrPM-Lg/viewform?usp=pp_url&entry.360321409=FlotsamOfThe4Winds&entry.1933578897\n",
      "get_info_data: 2018-04-17 13:57:15.405242\n",
      "deleted: False\n",
      "User spartan2600 found: {'is_mod': True, 'has_subscribed': True, 'hide_from_robots': False, 'verified': False, 'icon_img': 'https://www.redditstatic.com/avatars/avatar_default_13_FFD635.png', 'is_employee': False, 'comment_karma': 7513, 'name': 'spartan2600', 'subreddit': None, 'is_gold': False, 'is_friend': False, 'id': '36zik', 'has_verified_email': True, 'pref_show_snoovatar': False, 'created': 1215971972.0, 'created_utc': 1215943172.0, 'link_karma': 176691}\n",
      "Sending a message to user spartan2600 with data {'first_comment_week': 4, 'username': 'spartan2600', 'url': 'https://docs.google.com/forms/d/e/1FAIpQLSfmgOcsF0ALqWGPHGpJq2cwUr-xIG-uizbQqXPzPuTkrPM-Lg/viewform?usp=pp_url&entry.360321409=spartan2600&entry.1933578897', 'deleted': False, 'get_info_date': '2018-04-17 13:57:19.491191'}\n"
     ]
    },
    {
     "name": "stderr",
     "output_type": "stream",
     "text": [
      "substituting https://oauth.reddit.com for https://api.reddit.com in url\n",
      "GET: https://oauth.reddit.com/user/spartan2600/about/.json\n",
      "substituting https://oauth.reddit.com for https://api.reddit.com in url\n",
      "POST: https://oauth.reddit.com/api/compose/.json\n"
     ]
    },
    {
     "name": "stdout",
     "output_type": "stream",
     "text": [
      "Message successfully sent to user spartan2600\n",
      "APPENDING TO FILE: {'username': 'spartan2600', 'get_info_date': '2018-04-17 13:57:19.491191', 'deleted': False, 'url': 'https://docs.google.com/forms/d/e/1FAIpQLSfmgOcsF0ALqWGPHGpJq2cwUr-xIG-uizbQqXPzPuTkrPM-Lg/viewform?usp=pp_url&entry.360321409=spartan2600&entry.1933578897', 'first_comment_week': 4}\n",
      "first_comment_week: 4\n",
      "url: https://docs.google.com/forms/d/e/1FAIpQLSfmgOcsF0ALqWGPHGpJq2cwUr-xIG-uizbQqXPzPuTkrPM-Lg/viewform?usp=pp_url&entry.360321409=spartan2600&entry.1933578897\n",
      "get_info_data: 2018-04-17 13:57:19.491191\n",
      "deleted: False\n",
      "User StraightBad found: {'is_mod': True, 'has_subscribed': True, 'hide_from_robots': False, 'verified': True, 'icon_img': 'https://s.redditmedia.com/t5_fhb8b/styles/profileIcon_1mk9tl1ua6r01.jpg?fit=crop&crop=faces%2Centropy&arh=1.0&w=256&h=256&s=fb3732b4d386433ba5658106fa9289fb', 'is_employee': False, 'comment_karma': 1903, 'name': 'StraightBad', 'subreddit': {'icon_size': [256, 256], 'key_color': '', 'link_flair_enabled': False, 'subreddit_type': 'user', 'name': 't5_fhb8b', 'user_is_moderator': False, 'community_icon': '', 'header_img': None, 'public_description': '', 'show_media': True, 'audience_target': '', 'url': '/user/StraightBad/', 'description': '', 'display_name_prefixed': 'u/StraightBad', 'subscribers': 0, 'display_name': 'u_StraightBad', 'user_is_banned': False, 'is_default_icon': False, 'icon_img': 'https://s.redditmedia.com/t5_fhb8b/styles/profileIcon_1mk9tl1ua6r01.jpg?fit=crop&crop=faces%2Centropy&arh=1.0&w=256&h=256&s=fb3732b4d386433ba5658106fa9289fb', 'over_18': True, 'is_default_banner': True, 'user_is_contributor': False, 'icon_color': '', 'header_size': None, 'user_is_muted': False, 'banner_size': None, 'user_is_subscriber': False, 'banner_img': '', 'title': '', 'default_set': True, 'primary_color': ''}, 'is_gold': False, 'is_friend': False, 'id': 'vogk8l3', 'has_verified_email': True, 'pref_show_snoovatar': False, 'created': 1517937705.0, 'created_utc': 1517908905.0, 'link_karma': 1228}\n",
      "Sending a message to user StraightBad with data {'first_comment_week': 4, 'username': 'StraightBad', 'url': 'https://docs.google.com/forms/d/e/1FAIpQLSfmgOcsF0ALqWGPHGpJq2cwUr-xIG-uizbQqXPzPuTkrPM-Lg/viewform?usp=pp_url&entry.360321409=StraightBad&entry.1933578897', 'deleted': False, 'get_info_date': '2018-04-17 13:57:23.679042'}\n"
     ]
    },
    {
     "name": "stderr",
     "output_type": "stream",
     "text": [
      "substituting https://oauth.reddit.com for https://api.reddit.com in url\n",
      "GET: https://oauth.reddit.com/user/StraightBad/about/.json\n",
      "substituting https://oauth.reddit.com for https://api.reddit.com in url\n",
      "POST: https://oauth.reddit.com/api/compose/.json\n"
     ]
    },
    {
     "name": "stdout",
     "output_type": "stream",
     "text": [
      "Message successfully sent to user StraightBad\n",
      "APPENDING TO FILE: {'username': 'StraightBad', 'get_info_date': '2018-04-17 13:57:23.679042', 'deleted': False, 'url': 'https://docs.google.com/forms/d/e/1FAIpQLSfmgOcsF0ALqWGPHGpJq2cwUr-xIG-uizbQqXPzPuTkrPM-Lg/viewform?usp=pp_url&entry.360321409=StraightBad&entry.1933578897', 'first_comment_week': 4}\n",
      "first_comment_week: 4\n",
      "url: https://docs.google.com/forms/d/e/1FAIpQLSfmgOcsF0ALqWGPHGpJq2cwUr-xIG-uizbQqXPzPuTkrPM-Lg/viewform?usp=pp_url&entry.360321409=StraightBad&entry.1933578897\n",
      "get_info_data: 2018-04-17 13:57:23.679042\n",
      "deleted: False\n",
      "User rootedepidermal found: {'is_mod': False, 'has_subscribed': True, 'hide_from_robots': False, 'verified': True, 'icon_img': 'https://www.redditstatic.com/avatars/avatar_default_20_4856A3.png', 'is_employee': False, 'comment_karma': 487, 'name': 'rootedepidermal', 'subreddit': {'icon_size': [256, 256], 'key_color': '', 'link_flair_enabled': False, 'subreddit_type': 'user', 'name': 't5_df43u', 'user_is_moderator': False, 'community_icon': '', 'header_img': None, 'public_description': '', 'show_media': True, 'audience_target': '', 'url': '/user/rootedepidermal/', 'description': '', 'display_name_prefixed': 'u/rootedepidermal', 'subscribers': 0, 'display_name': 'u_rootedepidermal', 'user_is_banned': False, 'is_default_icon': True, 'icon_img': 'https://www.redditstatic.com/avatars/avatar_default_20_4856A3.png', 'over_18': False, 'is_default_banner': True, 'user_is_contributor': False, 'icon_color': '#4856A3', 'header_size': None, 'user_is_muted': False, 'banner_size': None, 'user_is_subscriber': False, 'banner_img': '', 'title': '', 'default_set': True, 'primary_color': ''}, 'is_gold': False, 'is_friend': False, 'id': 'xnuoj', 'has_verified_email': True, 'pref_show_snoovatar': False, 'created': 1462333846.0, 'created_utc': 1462305046.0, 'link_karma': 5543}\n",
      "Sending a message to user rootedepidermal with data {'first_comment_week': 4, 'username': 'rootedepidermal', 'url': 'https://docs.google.com/forms/d/e/1FAIpQLSfmgOcsF0ALqWGPHGpJq2cwUr-xIG-uizbQqXPzPuTkrPM-Lg/viewform?usp=pp_url&entry.360321409=rootedepidermal&entry.1933578897', 'deleted': False, 'get_info_date': '2018-04-17 13:57:27.806141'}\n"
     ]
    },
    {
     "name": "stderr",
     "output_type": "stream",
     "text": [
      "substituting https://oauth.reddit.com for https://api.reddit.com in url\n",
      "GET: https://oauth.reddit.com/user/rootedepidermal/about/.json\n",
      "substituting https://oauth.reddit.com for https://api.reddit.com in url\n",
      "POST: https://oauth.reddit.com/api/compose/.json\n"
     ]
    },
    {
     "name": "stdout",
     "output_type": "stream",
     "text": [
      "Message successfully sent to user rootedepidermal\n",
      "APPENDING TO FILE: {'username': 'rootedepidermal', 'get_info_date': '2018-04-17 13:57:27.806141', 'deleted': False, 'url': 'https://docs.google.com/forms/d/e/1FAIpQLSfmgOcsF0ALqWGPHGpJq2cwUr-xIG-uizbQqXPzPuTkrPM-Lg/viewform?usp=pp_url&entry.360321409=rootedepidermal&entry.1933578897', 'first_comment_week': 4}\n",
      "first_comment_week: 4\n",
      "url: https://docs.google.com/forms/d/e/1FAIpQLSfmgOcsF0ALqWGPHGpJq2cwUr-xIG-uizbQqXPzPuTkrPM-Lg/viewform?usp=pp_url&entry.360321409=rootedepidermal&entry.1933578897\n",
      "get_info_data: 2018-04-17 13:57:27.806141\n",
      "deleted: False\n",
      "User okeydokey503 found: {'is_mod': False, 'has_subscribed': True, 'hide_from_robots': False, 'verified': False, 'icon_img': 'https://www.redditstatic.com/avatars/avatar_default_02_46D160.png', 'is_employee': False, 'comment_karma': 141, 'name': 'okeydokey503', 'subreddit': None, 'is_gold': False, 'is_friend': False, 'id': '60dtd', 'has_verified_email': True, 'pref_show_snoovatar': False, 'created': 1318225238.0, 'created_utc': 1318196438.0, 'link_karma': 476}\n",
      "Sending a message to user okeydokey503 with data {'first_comment_week': 4, 'username': 'okeydokey503', 'url': 'https://docs.google.com/forms/d/e/1FAIpQLSfmgOcsF0ALqWGPHGpJq2cwUr-xIG-uizbQqXPzPuTkrPM-Lg/viewform?usp=pp_url&entry.360321409=okeydokey503&entry.1933578897', 'deleted': False, 'get_info_date': '2018-04-17 13:57:32.076915'}\n"
     ]
    },
    {
     "name": "stderr",
     "output_type": "stream",
     "text": [
      "substituting https://oauth.reddit.com for https://api.reddit.com in url\n",
      "GET: https://oauth.reddit.com/user/okeydokey503/about/.json\n",
      "substituting https://oauth.reddit.com for https://api.reddit.com in url\n",
      "POST: https://oauth.reddit.com/api/compose/.json\n"
     ]
    },
    {
     "name": "stdout",
     "output_type": "stream",
     "text": [
      "Message successfully sent to user okeydokey503\n",
      "APPENDING TO FILE: {'username': 'okeydokey503', 'get_info_date': '2018-04-17 13:57:32.076915', 'deleted': False, 'url': 'https://docs.google.com/forms/d/e/1FAIpQLSfmgOcsF0ALqWGPHGpJq2cwUr-xIG-uizbQqXPzPuTkrPM-Lg/viewform?usp=pp_url&entry.360321409=okeydokey503&entry.1933578897', 'first_comment_week': 4}\n",
      "first_comment_week: 4\n",
      "url: https://docs.google.com/forms/d/e/1FAIpQLSfmgOcsF0ALqWGPHGpJq2cwUr-xIG-uizbQqXPzPuTkrPM-Lg/viewform?usp=pp_url&entry.360321409=okeydokey503&entry.1933578897\n",
      "get_info_data: 2018-04-17 13:57:32.076915\n",
      "deleted: False\n",
      "User Dutchy115 found: {'is_mod': False, 'has_subscribed': True, 'hide_from_robots': False, 'verified': True, 'icon_img': 'https://www.redditstatic.com/avatars/avatar_default_16_DDBD37.png', 'is_employee': False, 'comment_karma': 4698, 'name': 'Dutchy115', 'subreddit': {'icon_size': [256, 256], 'key_color': '', 'link_flair_enabled': False, 'subreddit_type': 'user', 'name': 't5_djqyo', 'user_is_moderator': False, 'community_icon': '', 'header_img': None, 'public_description': '', 'show_media': True, 'audience_target': '', 'url': '/user/Dutchy115/', 'description': '', 'display_name_prefixed': 'u/Dutchy115', 'subscribers': 0, 'display_name': 'u_Dutchy115', 'user_is_banned': False, 'is_default_icon': True, 'icon_img': 'https://www.redditstatic.com/avatars/avatar_default_16_DDBD37.png', 'over_18': False, 'is_default_banner': True, 'user_is_contributor': False, 'icon_color': '#DDBD37', 'header_size': None, 'user_is_muted': False, 'banner_size': None, 'user_is_subscriber': False, 'banner_img': '', 'title': '', 'default_set': True, 'primary_color': ''}, 'is_gold': False, 'is_friend': False, 'id': 'bqdw3', 'has_verified_email': True, 'pref_show_snoovatar': False, 'created': 1369005939.0, 'created_utc': 1368977139.0, 'link_karma': 354}\n",
      "Sending a message to user Dutchy115 with data {'first_comment_week': 4, 'username': 'Dutchy115', 'url': 'https://docs.google.com/forms/d/e/1FAIpQLSfmgOcsF0ALqWGPHGpJq2cwUr-xIG-uizbQqXPzPuTkrPM-Lg/viewform?usp=pp_url&entry.360321409=Dutchy115&entry.1933578897', 'deleted': False, 'get_info_date': '2018-04-17 13:57:36.283560'}\n"
     ]
    },
    {
     "name": "stderr",
     "output_type": "stream",
     "text": [
      "substituting https://oauth.reddit.com for https://api.reddit.com in url\n",
      "GET: https://oauth.reddit.com/user/Dutchy115/about/.json\n",
      "substituting https://oauth.reddit.com for https://api.reddit.com in url\n",
      "POST: https://oauth.reddit.com/api/compose/.json\n"
     ]
    },
    {
     "name": "stdout",
     "output_type": "stream",
     "text": [
      "Message successfully sent to user Dutchy115\n",
      "APPENDING TO FILE: {'username': 'Dutchy115', 'get_info_date': '2018-04-17 13:57:36.283560', 'deleted': False, 'url': 'https://docs.google.com/forms/d/e/1FAIpQLSfmgOcsF0ALqWGPHGpJq2cwUr-xIG-uizbQqXPzPuTkrPM-Lg/viewform?usp=pp_url&entry.360321409=Dutchy115&entry.1933578897', 'first_comment_week': 4}\n",
      "first_comment_week: 4\n",
      "url: https://docs.google.com/forms/d/e/1FAIpQLSfmgOcsF0ALqWGPHGpJq2cwUr-xIG-uizbQqXPzPuTkrPM-Lg/viewform?usp=pp_url&entry.360321409=Dutchy115&entry.1933578897\n",
      "get_info_data: 2018-04-17 13:57:36.283560\n",
      "deleted: False\n"
     ]
    },
    {
     "name": "stderr",
     "output_type": "stream",
     "text": [
      "substituting https://oauth.reddit.com for https://api.reddit.com in url\n",
      "GET: https://oauth.reddit.com/user/alltheevilforjesus/about/.json\n"
     ]
    },
    {
     "name": "stdout",
     "output_type": "stream",
     "text": [
      "User alltheevilforjesus found: {'is_mod': False, 'has_subscribed': True, 'hide_from_robots': False, 'verified': True, 'icon_img': 'https://www.redditstatic.com/avatars/avatar_default_14_4856A3.png', 'is_employee': False, 'comment_karma': 220, 'name': 'alltheevilforjesus', 'subreddit': {'icon_size': [256, 256], 'key_color': '', 'link_flair_enabled': False, 'subreddit_type': 'user', 'name': 't5_9c0kg', 'user_is_moderator': False, 'community_icon': '', 'header_img': None, 'public_description': '', 'show_media': True, 'audience_target': '', 'url': '/user/alltheevilforjesus/', 'description': '', 'display_name_prefixed': 'u/alltheevilforjesus', 'subscribers': 0, 'display_name': 'u_alltheevilforjesus', 'user_is_banned': False, 'is_default_icon': True, 'icon_img': 'https://www.redditstatic.com/avatars/avatar_default_14_4856A3.png', 'over_18': False, 'is_default_banner': True, 'user_is_contributor': False, 'icon_color': '#4856A3', 'header_size': None, 'user_is_muted': False, 'banner_size': None, 'user_is_subscriber': False, 'banner_img': '', 'title': '', 'default_set': True, 'primary_color': ''}, 'is_gold': False, 'is_friend': False, 'id': 'ocwuysx', 'has_verified_email': True, 'pref_show_snoovatar': False, 'created': 1513349099.0, 'created_utc': 1513320299.0, 'link_karma': 1}\n",
      "Sending a message to user alltheevilforjesus with data {'first_comment_week': 4, 'username': 'alltheevilforjesus', 'url': 'https://docs.google.com/forms/d/e/1FAIpQLSfmgOcsF0ALqWGPHGpJq2cwUr-xIG-uizbQqXPzPuTkrPM-Lg/viewform?usp=pp_url&entry.360321409=alltheevilforjesus&entry.1933578897', 'deleted': False, 'get_info_date': '2018-04-17 13:57:40.716565'}\n"
     ]
    },
    {
     "name": "stderr",
     "output_type": "stream",
     "text": [
      "substituting https://oauth.reddit.com for https://api.reddit.com in url\n",
      "POST: https://oauth.reddit.com/api/compose/.json\n"
     ]
    },
    {
     "name": "stdout",
     "output_type": "stream",
     "text": [
      "Message successfully sent to user alltheevilforjesus\n",
      "APPENDING TO FILE: {'username': 'alltheevilforjesus', 'get_info_date': '2018-04-17 13:57:40.716565', 'deleted': False, 'url': 'https://docs.google.com/forms/d/e/1FAIpQLSfmgOcsF0ALqWGPHGpJq2cwUr-xIG-uizbQqXPzPuTkrPM-Lg/viewform?usp=pp_url&entry.360321409=alltheevilforjesus&entry.1933578897', 'first_comment_week': 4}\n",
      "first_comment_week: 4\n",
      "url: https://docs.google.com/forms/d/e/1FAIpQLSfmgOcsF0ALqWGPHGpJq2cwUr-xIG-uizbQqXPzPuTkrPM-Lg/viewform?usp=pp_url&entry.360321409=alltheevilforjesus&entry.1933578897\n",
      "get_info_data: 2018-04-17 13:57:40.716565\n",
      "deleted: False\n",
      "User kawaiicoffee found: {'is_mod': False, 'has_subscribed': True, 'hide_from_robots': False, 'verified': True, 'icon_img': 'https://www.redditstatic.com/avatars/avatar_default_02_0079D3.png', 'is_employee': False, 'comment_karma': 32, 'name': 'kawaiicoffee', 'subreddit': {'icon_size': [256, 256], 'key_color': '', 'link_flair_enabled': False, 'subreddit_type': 'user', 'name': 't5_frmwu', 'user_is_moderator': False, 'community_icon': '', 'header_img': None, 'public_description': '', 'show_media': True, 'audience_target': '', 'url': '/user/kawaiicoffee/', 'description': '', 'display_name_prefixed': 'u/kawaiicoffee', 'subscribers': 0, 'display_name': 'u_kawaiicoffee', 'user_is_banned': False, 'is_default_icon': True, 'icon_img': 'https://www.redditstatic.com/avatars/avatar_default_02_0079D3.png', 'over_18': False, 'is_default_banner': True, 'user_is_contributor': False, 'icon_color': '#0079D3', 'header_size': None, 'user_is_muted': False, 'banner_size': None, 'user_is_subscriber': False, 'banner_img': '', 'title': '', 'default_set': True, 'primary_color': ''}, 'is_gold': False, 'is_friend': False, 'id': 'wvzbmvt', 'has_verified_email': True, 'pref_show_snoovatar': False, 'created': 1518576774.0, 'created_utc': 1518547974.0, 'link_karma': 1}\n",
      "Sending a message to user kawaiicoffee with data {'first_comment_week': 4, 'username': 'kawaiicoffee', 'url': 'https://docs.google.com/forms/d/e/1FAIpQLSfmgOcsF0ALqWGPHGpJq2cwUr-xIG-uizbQqXPzPuTkrPM-Lg/viewform?usp=pp_url&entry.360321409=kawaiicoffee&entry.1933578897', 'deleted': False, 'get_info_date': '2018-04-17 13:57:44.834941'}\n"
     ]
    },
    {
     "name": "stderr",
     "output_type": "stream",
     "text": [
      "substituting https://oauth.reddit.com for https://api.reddit.com in url\n",
      "GET: https://oauth.reddit.com/user/kawaiicoffee/about/.json\n",
      "substituting https://oauth.reddit.com for https://api.reddit.com in url\n",
      "POST: https://oauth.reddit.com/api/compose/.json\n"
     ]
    },
    {
     "name": "stdout",
     "output_type": "stream",
     "text": [
      "Message successfully sent to user kawaiicoffee\n",
      "APPENDING TO FILE: {'username': 'kawaiicoffee', 'get_info_date': '2018-04-17 13:57:44.834941', 'deleted': False, 'url': 'https://docs.google.com/forms/d/e/1FAIpQLSfmgOcsF0ALqWGPHGpJq2cwUr-xIG-uizbQqXPzPuTkrPM-Lg/viewform?usp=pp_url&entry.360321409=kawaiicoffee&entry.1933578897', 'first_comment_week': 4}\n",
      "first_comment_week: 4\n",
      "url: https://docs.google.com/forms/d/e/1FAIpQLSfmgOcsF0ALqWGPHGpJq2cwUr-xIG-uizbQqXPzPuTkrPM-Lg/viewform?usp=pp_url&entry.360321409=kawaiicoffee&entry.1933578897\n",
      "get_info_data: 2018-04-17 13:57:44.834941\n",
      "deleted: False\n",
      "User puntiospilatos found: {'is_mod': True, 'has_subscribed': True, 'hide_from_robots': False, 'verified': False, 'icon_img': 'https://www.redditstatic.com/avatars/avatar_default_11_24A0ED.png', 'is_employee': False, 'comment_karma': 10528, 'name': 'puntiospilatos', 'subreddit': None, 'is_gold': False, 'is_friend': False, 'id': 'zwn5a', 'has_verified_email': False, 'pref_show_snoovatar': False, 'created': 1469779055.0, 'created_utc': 1469750255.0, 'link_karma': 938}\n",
      "Sending a message to user puntiospilatos with data {'first_comment_week': 4, 'username': 'puntiospilatos', 'url': 'https://docs.google.com/forms/d/e/1FAIpQLSfmgOcsF0ALqWGPHGpJq2cwUr-xIG-uizbQqXPzPuTkrPM-Lg/viewform?usp=pp_url&entry.360321409=puntiospilatos&entry.1933578897', 'deleted': False, 'get_info_date': '2018-04-17 13:57:49.003679'}\n"
     ]
    },
    {
     "name": "stderr",
     "output_type": "stream",
     "text": [
      "substituting https://oauth.reddit.com for https://api.reddit.com in url\n",
      "GET: https://oauth.reddit.com/user/puntiospilatos/about/.json\n",
      "substituting https://oauth.reddit.com for https://api.reddit.com in url\n",
      "POST: https://oauth.reddit.com/api/compose/.json\n"
     ]
    },
    {
     "name": "stdout",
     "output_type": "stream",
     "text": [
      "Message successfully sent to user puntiospilatos\n",
      "APPENDING TO FILE: {'username': 'puntiospilatos', 'get_info_date': '2018-04-17 13:57:49.003679', 'deleted': False, 'url': 'https://docs.google.com/forms/d/e/1FAIpQLSfmgOcsF0ALqWGPHGpJq2cwUr-xIG-uizbQqXPzPuTkrPM-Lg/viewform?usp=pp_url&entry.360321409=puntiospilatos&entry.1933578897', 'first_comment_week': 4}\n",
      "first_comment_week: 4\n",
      "url: https://docs.google.com/forms/d/e/1FAIpQLSfmgOcsF0ALqWGPHGpJq2cwUr-xIG-uizbQqXPzPuTkrPM-Lg/viewform?usp=pp_url&entry.360321409=puntiospilatos&entry.1933578897\n",
      "get_info_data: 2018-04-17 13:57:49.003679\n",
      "deleted: False\n"
     ]
    },
    {
     "name": "stderr",
     "output_type": "stream",
     "text": [
      "substituting https://oauth.reddit.com for https://api.reddit.com in url\n",
      "GET: https://oauth.reddit.com/user/Kr155/about/.json\n"
     ]
    },
    {
     "name": "stdout",
     "output_type": "stream",
     "text": [
      "User Kr155 found: {'is_mod': False, 'has_subscribed': True, 'hide_from_robots': False, 'verified': True, 'icon_img': 'https://www.redditstatic.com/avatars/avatar_default_18_46A508.png', 'is_employee': False, 'comment_karma': 2008, 'name': 'Kr155', 'subreddit': {'icon_size': [256, 256], 'key_color': '', 'link_flair_enabled': False, 'subreddit_type': 'user', 'name': 't5_ba6xw', 'user_is_moderator': False, 'community_icon': '', 'header_img': None, 'public_description': '', 'show_media': True, 'audience_target': '', 'url': '/user/Kr155/', 'description': '', 'display_name_prefixed': 'u/Kr155', 'subscribers': 0, 'display_name': 'u_Kr155', 'user_is_banned': False, 'is_default_icon': True, 'icon_img': 'https://www.redditstatic.com/avatars/avatar_default_18_46A508.png', 'over_18': False, 'is_default_banner': True, 'user_is_contributor': False, 'icon_color': '#46A508', 'header_size': None, 'user_is_muted': False, 'banner_size': None, 'user_is_subscriber': False, 'banner_img': '', 'title': '', 'default_set': True, 'primary_color': ''}, 'is_gold': False, 'is_friend': False, 'id': 'yg2xh', 'has_verified_email': True, 'pref_show_snoovatar': False, 'created': 1465067716.0, 'created_utc': 1465038916.0, 'link_karma': 296}\n",
      "Sending a message to user Kr155 with data {'first_comment_week': 4, 'username': 'Kr155', 'url': 'https://docs.google.com/forms/d/e/1FAIpQLSfmgOcsF0ALqWGPHGpJq2cwUr-xIG-uizbQqXPzPuTkrPM-Lg/viewform?usp=pp_url&entry.360321409=Kr155&entry.1933578897', 'deleted': False, 'get_info_date': '2018-04-17 13:57:53.349548'}\n"
     ]
    },
    {
     "name": "stderr",
     "output_type": "stream",
     "text": [
      "substituting https://oauth.reddit.com for https://api.reddit.com in url\n",
      "POST: https://oauth.reddit.com/api/compose/.json\n"
     ]
    },
    {
     "name": "stdout",
     "output_type": "stream",
     "text": [
      "Message successfully sent to user Kr155\n",
      "APPENDING TO FILE: {'username': 'Kr155', 'get_info_date': '2018-04-17 13:57:53.349548', 'deleted': False, 'url': 'https://docs.google.com/forms/d/e/1FAIpQLSfmgOcsF0ALqWGPHGpJq2cwUr-xIG-uizbQqXPzPuTkrPM-Lg/viewform?usp=pp_url&entry.360321409=Kr155&entry.1933578897', 'first_comment_week': 4}\n",
      "first_comment_week: 4\n",
      "url: https://docs.google.com/forms/d/e/1FAIpQLSfmgOcsF0ALqWGPHGpJq2cwUr-xIG-uizbQqXPzPuTkrPM-Lg/viewform?usp=pp_url&entry.360321409=Kr155&entry.1933578897\n",
      "get_info_data: 2018-04-17 13:57:53.349548\n",
      "deleted: False\n",
      "User theshaeman found: {'is_mod': False, 'has_subscribed': True, 'hide_from_robots': False, 'verified': True, 'icon_img': 'https://www.redditstatic.com/avatars/avatar_default_09_94E044.png', 'is_employee': False, 'comment_karma': 3141, 'name': 'theshaeman', 'subreddit': {'icon_size': [256, 256], 'key_color': '', 'link_flair_enabled': False, 'subreddit_type': 'user', 'name': 't5_dbwr3', 'user_is_moderator': False, 'community_icon': '', 'header_img': None, 'public_description': '', 'show_media': True, 'audience_target': '', 'url': '/user/theshaeman/', 'description': '', 'display_name_prefixed': 'u/theshaeman', 'subscribers': 0, 'display_name': 'u_theshaeman', 'user_is_banned': False, 'is_default_icon': True, 'icon_img': 'https://www.redditstatic.com/avatars/avatar_default_09_94E044.png', 'over_18': False, 'is_default_banner': True, 'user_is_contributor': False, 'icon_color': '#94E044', 'header_size': None, 'user_is_muted': False, 'banner_size': None, 'user_is_subscriber': False, 'banner_img': '', 'title': '', 'default_set': True, 'primary_color': ''}, 'is_gold': False, 'is_friend': False, 'id': 'ftvps', 'has_verified_email': True, 'pref_show_snoovatar': False, 'created': 1395684960.0, 'created_utc': 1395656160.0, 'link_karma': 113}\n",
      "Sending a message to user theshaeman with data {'first_comment_week': 4, 'username': 'theshaeman', 'url': 'https://docs.google.com/forms/d/e/1FAIpQLSfmgOcsF0ALqWGPHGpJq2cwUr-xIG-uizbQqXPzPuTkrPM-Lg/viewform?usp=pp_url&entry.360321409=theshaeman&entry.1933578897', 'deleted': False, 'get_info_date': '2018-04-17 13:57:57.544388'}\n"
     ]
    },
    {
     "name": "stderr",
     "output_type": "stream",
     "text": [
      "substituting https://oauth.reddit.com for https://api.reddit.com in url\n",
      "GET: https://oauth.reddit.com/user/theshaeman/about/.json\n",
      "substituting https://oauth.reddit.com for https://api.reddit.com in url\n",
      "POST: https://oauth.reddit.com/api/compose/.json\n"
     ]
    },
    {
     "name": "stdout",
     "output_type": "stream",
     "text": [
      "Message successfully sent to user theshaeman\n",
      "APPENDING TO FILE: {'username': 'theshaeman', 'get_info_date': '2018-04-17 13:57:57.544388', 'deleted': False, 'url': 'https://docs.google.com/forms/d/e/1FAIpQLSfmgOcsF0ALqWGPHGpJq2cwUr-xIG-uizbQqXPzPuTkrPM-Lg/viewform?usp=pp_url&entry.360321409=theshaeman&entry.1933578897', 'first_comment_week': 4}\n",
      "first_comment_week: 4\n",
      "url: https://docs.google.com/forms/d/e/1FAIpQLSfmgOcsF0ALqWGPHGpJq2cwUr-xIG-uizbQqXPzPuTkrPM-Lg/viewform?usp=pp_url&entry.360321409=theshaeman&entry.1933578897\n",
      "get_info_data: 2018-04-17 13:57:57.544388\n",
      "deleted: False\n",
      "User widg3tte found: {'is_mod': False, 'has_subscribed': True, 'hide_from_robots': False, 'verified': True, 'icon_img': 'https://www.redditstatic.com/avatars/avatar_default_07_FFD635.png', 'is_employee': False, 'comment_karma': 2819, 'name': 'widg3tte', 'subreddit': {'icon_size': [256, 256], 'key_color': '', 'link_flair_enabled': False, 'subreddit_type': 'user', 'name': 't5_dgb6o', 'user_is_moderator': False, 'community_icon': '', 'header_img': None, 'public_description': '', 'show_media': True, 'audience_target': '', 'url': '/user/widg3tte/', 'description': '', 'display_name_prefixed': 'u/widg3tte', 'subscribers': 0, 'display_name': 'u_widg3tte', 'user_is_banned': False, 'is_default_icon': True, 'icon_img': 'https://www.redditstatic.com/avatars/avatar_default_07_FFD635.png', 'over_18': False, 'is_default_banner': True, 'user_is_contributor': False, 'icon_color': '#FFD635', 'header_size': None, 'user_is_muted': False, 'banner_size': None, 'user_is_subscriber': False, 'banner_img': '', 'title': '', 'default_set': True, 'primary_color': ''}, 'is_gold': False, 'is_friend': False, 'id': '13slje', 'has_verified_email': False, 'pref_show_snoovatar': False, 'created': 1482502183.0, 'created_utc': 1482473383.0, 'link_karma': 12}\n",
      "Sending a message to user widg3tte with data {'first_comment_week': 4, 'username': 'widg3tte', 'url': 'https://docs.google.com/forms/d/e/1FAIpQLSfmgOcsF0ALqWGPHGpJq2cwUr-xIG-uizbQqXPzPuTkrPM-Lg/viewform?usp=pp_url&entry.360321409=widg3tte&entry.1933578897', 'deleted': False, 'get_info_date': '2018-04-17 13:58:01.825779'}\n"
     ]
    },
    {
     "name": "stderr",
     "output_type": "stream",
     "text": [
      "substituting https://oauth.reddit.com for https://api.reddit.com in url\n",
      "GET: https://oauth.reddit.com/user/widg3tte/about/.json\n",
      "substituting https://oauth.reddit.com for https://api.reddit.com in url\n",
      "POST: https://oauth.reddit.com/api/compose/.json\n"
     ]
    },
    {
     "name": "stdout",
     "output_type": "stream",
     "text": [
      "Message successfully sent to user widg3tte\n",
      "APPENDING TO FILE: {'username': 'widg3tte', 'get_info_date': '2018-04-17 13:58:01.825779', 'deleted': False, 'url': 'https://docs.google.com/forms/d/e/1FAIpQLSfmgOcsF0ALqWGPHGpJq2cwUr-xIG-uizbQqXPzPuTkrPM-Lg/viewform?usp=pp_url&entry.360321409=widg3tte&entry.1933578897', 'first_comment_week': 4}\n",
      "first_comment_week: 4\n",
      "url: https://docs.google.com/forms/d/e/1FAIpQLSfmgOcsF0ALqWGPHGpJq2cwUr-xIG-uizbQqXPzPuTkrPM-Lg/viewform?usp=pp_url&entry.360321409=widg3tte&entry.1933578897\n",
      "get_info_data: 2018-04-17 13:58:01.825779\n",
      "deleted: False\n",
      "User thefrdeal found: {'is_mod': True, 'has_subscribed': True, 'hide_from_robots': False, 'verified': False, 'icon_img': 'https://www.redditstatic.com/avatars/avatar_default_09_7E53C1.png', 'is_employee': False, 'comment_karma': 13462, 'name': 'thefrdeal', 'subreddit': None, 'is_gold': False, 'is_friend': False, 'id': '5qf5w', 'has_verified_email': True, 'pref_show_snoovatar': False, 'created': 1314396711.0, 'created_utc': 1314367911.0, 'link_karma': 25309}\n",
      "Sending a message to user thefrdeal with data {'first_comment_week': 4, 'username': 'thefrdeal', 'url': 'https://docs.google.com/forms/d/e/1FAIpQLSfmgOcsF0ALqWGPHGpJq2cwUr-xIG-uizbQqXPzPuTkrPM-Lg/viewform?usp=pp_url&entry.360321409=thefrdeal&entry.1933578897', 'deleted': False, 'get_info_date': '2018-04-17 13:58:06.453799'}\n"
     ]
    },
    {
     "name": "stderr",
     "output_type": "stream",
     "text": [
      "substituting https://oauth.reddit.com for https://api.reddit.com in url\n",
      "GET: https://oauth.reddit.com/user/thefrdeal/about/.json\n",
      "substituting https://oauth.reddit.com for https://api.reddit.com in url\n",
      "POST: https://oauth.reddit.com/api/compose/.json\n"
     ]
    },
    {
     "name": "stdout",
     "output_type": "stream",
     "text": [
      "Message successfully sent to user thefrdeal\n",
      "APPENDING TO FILE: {'username': 'thefrdeal', 'get_info_date': '2018-04-17 13:58:06.453799', 'deleted': False, 'url': 'https://docs.google.com/forms/d/e/1FAIpQLSfmgOcsF0ALqWGPHGpJq2cwUr-xIG-uizbQqXPzPuTkrPM-Lg/viewform?usp=pp_url&entry.360321409=thefrdeal&entry.1933578897', 'first_comment_week': 4}\n",
      "first_comment_week: 4\n",
      "url: https://docs.google.com/forms/d/e/1FAIpQLSfmgOcsF0ALqWGPHGpJq2cwUr-xIG-uizbQqXPzPuTkrPM-Lg/viewform?usp=pp_url&entry.360321409=thefrdeal&entry.1933578897\n",
      "get_info_data: 2018-04-17 13:58:06.453799\n",
      "deleted: False\n",
      "User Skeliath found: {'is_mod': False, 'has_subscribed': True, 'hide_from_robots': False, 'verified': True, 'icon_img': 'https://www.redditstatic.com/avatars/avatar_default_08_D4E815.png', 'is_employee': False, 'comment_karma': 10259, 'name': 'Skeliath', 'subreddit': {'icon_size': [256, 256], 'key_color': '', 'link_flair_enabled': False, 'subreddit_type': 'user', 'name': 't5_du4ak', 'user_is_moderator': False, 'community_icon': '', 'header_img': None, 'public_description': '', 'show_media': True, 'audience_target': '', 'url': '/user/Skeliath/', 'description': '', 'display_name_prefixed': 'u/Skeliath', 'subscribers': 0, 'display_name': 'u_Skeliath', 'user_is_banned': False, 'is_default_icon': True, 'icon_img': 'https://www.redditstatic.com/avatars/avatar_default_08_D4E815.png', 'over_18': False, 'is_default_banner': True, 'user_is_contributor': False, 'icon_color': '#D4E815', 'header_size': None, 'user_is_muted': False, 'banner_size': None, 'user_is_subscriber': False, 'banner_img': '', 'title': '', 'default_set': False, 'primary_color': ''}, 'is_gold': False, 'is_friend': False, 'id': '8y8kr', 'has_verified_email': True, 'pref_show_snoovatar': False, 'created': 1347187514.0, 'created_utc': 1347158714.0, 'link_karma': 63}\n",
      "Sending a message to user Skeliath with data {'first_comment_week': 4, 'username': 'Skeliath', 'url': 'https://docs.google.com/forms/d/e/1FAIpQLSfmgOcsF0ALqWGPHGpJq2cwUr-xIG-uizbQqXPzPuTkrPM-Lg/viewform?usp=pp_url&entry.360321409=Skeliath&entry.1933578897', 'deleted': False, 'get_info_date': '2018-04-17 13:58:10.569319'}\n"
     ]
    },
    {
     "name": "stderr",
     "output_type": "stream",
     "text": [
      "substituting https://oauth.reddit.com for https://api.reddit.com in url\n",
      "GET: https://oauth.reddit.com/user/Skeliath/about/.json\n",
      "substituting https://oauth.reddit.com for https://api.reddit.com in url\n",
      "POST: https://oauth.reddit.com/api/compose/.json\n"
     ]
    },
    {
     "name": "stdout",
     "output_type": "stream",
     "text": [
      "Message successfully sent to user Skeliath\n",
      "APPENDING TO FILE: {'username': 'Skeliath', 'get_info_date': '2018-04-17 13:58:10.569319', 'deleted': False, 'url': 'https://docs.google.com/forms/d/e/1FAIpQLSfmgOcsF0ALqWGPHGpJq2cwUr-xIG-uizbQqXPzPuTkrPM-Lg/viewform?usp=pp_url&entry.360321409=Skeliath&entry.1933578897', 'first_comment_week': 4}\n",
      "first_comment_week: 4\n",
      "url: https://docs.google.com/forms/d/e/1FAIpQLSfmgOcsF0ALqWGPHGpJq2cwUr-xIG-uizbQqXPzPuTkrPM-Lg/viewform?usp=pp_url&entry.360321409=Skeliath&entry.1933578897\n",
      "get_info_data: 2018-04-17 13:58:10.569319\n",
      "deleted: False\n",
      "User HrcoXD found: {'is_mod': False, 'has_subscribed': True, 'hide_from_robots': False, 'verified': True, 'icon_img': 'https://www.redditstatic.com/avatars/avatar_default_19_7193FF.png', 'is_employee': False, 'comment_karma': 275, 'name': 'HrcoXD', 'subreddit': {'icon_size': [256, 256], 'key_color': '', 'link_flair_enabled': False, 'subreddit_type': 'user', 'name': 't5_cqykt', 'user_is_moderator': False, 'community_icon': '', 'header_img': None, 'public_description': '', 'show_media': True, 'audience_target': '', 'url': '/user/HrcoXD/', 'description': '', 'display_name_prefixed': 'u/HrcoXD', 'subscribers': 0, 'display_name': 'u_HrcoXD', 'user_is_banned': False, 'is_default_icon': True, 'icon_img': 'https://www.redditstatic.com/avatars/avatar_default_19_7193FF.png', 'over_18': False, 'is_default_banner': True, 'user_is_contributor': False, 'icon_color': '#7193FF', 'header_size': None, 'user_is_muted': False, 'banner_size': None, 'user_is_subscriber': False, 'banner_img': '', 'title': '', 'default_set': True, 'primary_color': ''}, 'is_gold': False, 'is_friend': False, 'id': '13bxle', 'has_verified_email': True, 'pref_show_snoovatar': False, 'created': 1480968670.0, 'created_utc': 1480939870.0, 'link_karma': 428}\n",
      "Sending a message to user HrcoXD with data {'first_comment_week': 4, 'username': 'HrcoXD', 'url': 'https://docs.google.com/forms/d/e/1FAIpQLSfmgOcsF0ALqWGPHGpJq2cwUr-xIG-uizbQqXPzPuTkrPM-Lg/viewform?usp=pp_url&entry.360321409=HrcoXD&entry.1933578897', 'deleted': False, 'get_info_date': '2018-04-17 13:58:14.736169'}\n"
     ]
    },
    {
     "name": "stderr",
     "output_type": "stream",
     "text": [
      "substituting https://oauth.reddit.com for https://api.reddit.com in url\n",
      "GET: https://oauth.reddit.com/user/HrcoXD/about/.json\n",
      "substituting https://oauth.reddit.com for https://api.reddit.com in url\n",
      "POST: https://oauth.reddit.com/api/compose/.json\n"
     ]
    },
    {
     "name": "stdout",
     "output_type": "stream",
     "text": [
      "Message successfully sent to user HrcoXD\n",
      "APPENDING TO FILE: {'username': 'HrcoXD', 'get_info_date': '2018-04-17 13:58:14.736169', 'deleted': False, 'url': 'https://docs.google.com/forms/d/e/1FAIpQLSfmgOcsF0ALqWGPHGpJq2cwUr-xIG-uizbQqXPzPuTkrPM-Lg/viewform?usp=pp_url&entry.360321409=HrcoXD&entry.1933578897', 'first_comment_week': 4}\n",
      "first_comment_week: 4\n",
      "url: https://docs.google.com/forms/d/e/1FAIpQLSfmgOcsF0ALqWGPHGpJq2cwUr-xIG-uizbQqXPzPuTkrPM-Lg/viewform?usp=pp_url&entry.360321409=HrcoXD&entry.1933578897\n",
      "get_info_data: 2018-04-17 13:58:14.736169\n",
      "deleted: False\n",
      "User aquadoodle found: {'is_mod': False, 'has_subscribed': True, 'hide_from_robots': False, 'verified': True, 'icon_img': 'https://www.redditstatic.com/avatars/avatar_default_01_25B79F.png', 'is_employee': False, 'comment_karma': 5, 'name': 'aquadoodle', 'subreddit': {'icon_size': [256, 256], 'key_color': '', 'link_flair_enabled': False, 'subreddit_type': 'user', 'name': 't5_bmy79', 'user_is_moderator': False, 'community_icon': '', 'header_img': None, 'public_description': '', 'show_media': True, 'audience_target': '', 'url': '/user/aquadoodle/', 'description': '', 'display_name_prefixed': 'u/aquadoodle', 'subscribers': 0, 'display_name': 'u_aquadoodle', 'user_is_banned': False, 'is_default_icon': True, 'icon_img': 'https://www.redditstatic.com/avatars/avatar_default_01_25B79F.png', 'over_18': False, 'is_default_banner': True, 'user_is_contributor': False, 'icon_color': '#25B79F', 'header_size': None, 'user_is_muted': False, 'banner_size': None, 'user_is_subscriber': False, 'banner_img': '', 'title': '', 'default_set': True, 'primary_color': ''}, 'is_gold': False, 'is_friend': False, 'id': 'whcjk', 'has_verified_email': False, 'pref_show_snoovatar': False, 'created': 1458322922.0, 'created_utc': 1458294122.0, 'link_karma': 1}\n",
      "Sending a message to user aquadoodle with data {'first_comment_week': 4, 'username': 'aquadoodle', 'url': 'https://docs.google.com/forms/d/e/1FAIpQLSfmgOcsF0ALqWGPHGpJq2cwUr-xIG-uizbQqXPzPuTkrPM-Lg/viewform?usp=pp_url&entry.360321409=aquadoodle&entry.1933578897', 'deleted': False, 'get_info_date': '2018-04-17 13:58:19.085921'}\n"
     ]
    },
    {
     "name": "stderr",
     "output_type": "stream",
     "text": [
      "substituting https://oauth.reddit.com for https://api.reddit.com in url\n",
      "GET: https://oauth.reddit.com/user/aquadoodle/about/.json\n",
      "substituting https://oauth.reddit.com for https://api.reddit.com in url\n",
      "POST: https://oauth.reddit.com/api/compose/.json\n"
     ]
    },
    {
     "name": "stdout",
     "output_type": "stream",
     "text": [
      "Message successfully sent to user aquadoodle\n",
      "APPENDING TO FILE: {'username': 'aquadoodle', 'get_info_date': '2018-04-17 13:58:19.085921', 'deleted': False, 'url': 'https://docs.google.com/forms/d/e/1FAIpQLSfmgOcsF0ALqWGPHGpJq2cwUr-xIG-uizbQqXPzPuTkrPM-Lg/viewform?usp=pp_url&entry.360321409=aquadoodle&entry.1933578897', 'first_comment_week': 4}\n",
      "first_comment_week: 4\n",
      "url: https://docs.google.com/forms/d/e/1FAIpQLSfmgOcsF0ALqWGPHGpJq2cwUr-xIG-uizbQqXPzPuTkrPM-Lg/viewform?usp=pp_url&entry.360321409=aquadoodle&entry.1933578897\n",
      "get_info_data: 2018-04-17 13:58:19.085921\n",
      "deleted: False\n",
      "User epope98 found: {'is_mod': False, 'has_subscribed': True, 'hide_from_robots': False, 'verified': True, 'icon_img': 'https://www.redditstatic.com/avatars/avatar_default_16_46D160.png', 'is_employee': False, 'comment_karma': 50, 'name': 'epope98', 'subreddit': {'icon_size': [256, 256], 'key_color': '', 'link_flair_enabled': False, 'subreddit_type': 'user', 'name': 't5_bk4bs', 'user_is_moderator': False, 'community_icon': '', 'header_img': None, 'public_description': '', 'show_media': True, 'audience_target': '', 'url': '/user/epope98/', 'description': '', 'display_name_prefixed': 'u/epope98', 'subscribers': 0, 'display_name': 'u_epope98', 'user_is_banned': False, 'is_default_icon': True, 'icon_img': 'https://www.redditstatic.com/avatars/avatar_default_16_46D160.png', 'over_18': False, 'is_default_banner': True, 'user_is_contributor': False, 'icon_color': '#46D160', 'header_size': None, 'user_is_muted': False, 'banner_size': None, 'user_is_subscriber': False, 'banner_img': '', 'title': '', 'default_set': True, 'primary_color': ''}, 'is_gold': False, 'is_friend': False, 'id': 'ichhb', 'has_verified_email': False, 'pref_show_snoovatar': False, 'created': 1410439826.0, 'created_utc': 1410411026.0, 'link_karma': 1}\n",
      "Sending a message to user epope98 with data {'first_comment_week': 4, 'username': 'epope98', 'url': 'https://docs.google.com/forms/d/e/1FAIpQLSfmgOcsF0ALqWGPHGpJq2cwUr-xIG-uizbQqXPzPuTkrPM-Lg/viewform?usp=pp_url&entry.360321409=epope98&entry.1933578897', 'deleted': False, 'get_info_date': '2018-04-17 13:58:23.298933'}\n"
     ]
    },
    {
     "name": "stderr",
     "output_type": "stream",
     "text": [
      "substituting https://oauth.reddit.com for https://api.reddit.com in url\n",
      "GET: https://oauth.reddit.com/user/epope98/about/.json\n",
      "substituting https://oauth.reddit.com for https://api.reddit.com in url\n",
      "POST: https://oauth.reddit.com/api/compose/.json\n"
     ]
    },
    {
     "name": "stdout",
     "output_type": "stream",
     "text": [
      "Message successfully sent to user epope98\n",
      "APPENDING TO FILE: {'username': 'epope98', 'get_info_date': '2018-04-17 13:58:23.298933', 'deleted': False, 'url': 'https://docs.google.com/forms/d/e/1FAIpQLSfmgOcsF0ALqWGPHGpJq2cwUr-xIG-uizbQqXPzPuTkrPM-Lg/viewform?usp=pp_url&entry.360321409=epope98&entry.1933578897', 'first_comment_week': 4}\n",
      "first_comment_week: 4\n",
      "url: https://docs.google.com/forms/d/e/1FAIpQLSfmgOcsF0ALqWGPHGpJq2cwUr-xIG-uizbQqXPzPuTkrPM-Lg/viewform?usp=pp_url&entry.360321409=epope98&entry.1933578897\n",
      "get_info_data: 2018-04-17 13:58:23.298933\n",
      "deleted: False\n",
      "User Astykk found: {'is_mod': False, 'has_subscribed': True, 'hide_from_robots': False, 'verified': True, 'icon_img': 'https://www.redditstatic.com/avatars/avatar_default_18_FF66AC.png', 'is_employee': False, 'comment_karma': 345, 'name': 'Astykk', 'subreddit': {'icon_size': [256, 256], 'key_color': '', 'link_flair_enabled': False, 'subreddit_type': 'user', 'name': 't5_7yoff', 'user_is_moderator': False, 'community_icon': '', 'header_img': None, 'public_description': '', 'show_media': True, 'audience_target': '', 'url': '/user/Astykk/', 'description': '', 'display_name_prefixed': 'u/Astykk', 'subscribers': 0, 'display_name': 'u_Astykk', 'user_is_banned': False, 'is_default_icon': True, 'icon_img': 'https://www.redditstatic.com/avatars/avatar_default_18_FF66AC.png', 'over_18': False, 'is_default_banner': True, 'user_is_contributor': False, 'icon_color': '#FF66AC', 'header_size': None, 'user_is_muted': False, 'banner_size': None, 'user_is_subscriber': False, 'banner_img': '', 'title': '', 'default_set': True, 'primary_color': ''}, 'is_gold': False, 'is_friend': False, 'id': 'ccmrqx', 'has_verified_email': False, 'pref_show_snoovatar': False, 'created': 1500351357.0, 'created_utc': 1500322557.0, 'link_karma': 84}\n",
      "Sending a message to user Astykk with data {'first_comment_week': 4, 'username': 'Astykk', 'url': 'https://docs.google.com/forms/d/e/1FAIpQLSfmgOcsF0ALqWGPHGpJq2cwUr-xIG-uizbQqXPzPuTkrPM-Lg/viewform?usp=pp_url&entry.360321409=Astykk&entry.1933578897', 'deleted': False, 'get_info_date': '2018-04-17 13:58:27.537609'}\n"
     ]
    },
    {
     "name": "stderr",
     "output_type": "stream",
     "text": [
      "substituting https://oauth.reddit.com for https://api.reddit.com in url\n",
      "GET: https://oauth.reddit.com/user/Astykk/about/.json\n",
      "substituting https://oauth.reddit.com for https://api.reddit.com in url\n",
      "POST: https://oauth.reddit.com/api/compose/.json\n"
     ]
    },
    {
     "name": "stdout",
     "output_type": "stream",
     "text": [
      "Message successfully sent to user Astykk\n",
      "APPENDING TO FILE: {'username': 'Astykk', 'get_info_date': '2018-04-17 13:58:27.537609', 'deleted': False, 'url': 'https://docs.google.com/forms/d/e/1FAIpQLSfmgOcsF0ALqWGPHGpJq2cwUr-xIG-uizbQqXPzPuTkrPM-Lg/viewform?usp=pp_url&entry.360321409=Astykk&entry.1933578897', 'first_comment_week': 4}\n",
      "first_comment_week: 4\n",
      "url: https://docs.google.com/forms/d/e/1FAIpQLSfmgOcsF0ALqWGPHGpJq2cwUr-xIG-uizbQqXPzPuTkrPM-Lg/viewform?usp=pp_url&entry.360321409=Astykk&entry.1933578897\n",
      "get_info_data: 2018-04-17 13:58:27.537609\n",
      "deleted: False\n",
      "User Djangofett98 found: {'is_mod': False, 'has_subscribed': True, 'hide_from_robots': False, 'verified': True, 'icon_img': 'https://s.redditmedia.com/t5_chcip/styles/profileIcon_jdu80utxf0o01.jpg?fit=crop&crop=faces%2Centropy&arh=1.0&w=256&h=256&s=b11c6114a9c29657d386932b244db6bb', 'is_employee': False, 'comment_karma': 1724, 'name': 'Djangofett98', 'subreddit': {'icon_size': [256, 256], 'key_color': '', 'link_flair_enabled': False, 'subreddit_type': 'user', 'name': 't5_chcip', 'user_is_moderator': False, 'community_icon': '', 'header_img': None, 'public_description': '', 'show_media': True, 'audience_target': '', 'url': '/user/Djangofett98/', 'description': '', 'display_name_prefixed': 'u/Djangofett98', 'subscribers': 0, 'display_name': 'u_Djangofett98', 'user_is_banned': False, 'is_default_icon': False, 'icon_img': 'https://s.redditmedia.com/t5_chcip/styles/profileIcon_jdu80utxf0o01.jpg?fit=crop&crop=faces%2Centropy&arh=1.0&w=256&h=256&s=b11c6114a9c29657d386932b244db6bb', 'over_18': False, 'is_default_banner': False, 'user_is_contributor': False, 'icon_color': '', 'header_size': None, 'user_is_muted': False, 'banner_size': [1280, 384], 'user_is_subscriber': False, 'banner_img': 'https://s.redditmedia.com/t5_chcip/styles/profileBanner_253za03zf0o01.jpg?fit=crop&crop=center&arh=0.3&w=1280&h=384&s=b8ea017a168e93466f355988058d0d44', 'title': '', 'default_set': True, 'primary_color': ''}, 'is_gold': False, 'is_friend': False, 'id': 'u1yoc', 'has_verified_email': True, 'pref_show_snoovatar': False, 'created': 1453577237.0, 'created_utc': 1453548437.0, 'link_karma': 2598}\n",
      "Sending a message to user Djangofett98 with data {'first_comment_week': 4, 'username': 'Djangofett98', 'url': 'https://docs.google.com/forms/d/e/1FAIpQLSfmgOcsF0ALqWGPHGpJq2cwUr-xIG-uizbQqXPzPuTkrPM-Lg/viewform?usp=pp_url&entry.360321409=Djangofett98&entry.1933578897', 'deleted': False, 'get_info_date': '2018-04-17 13:58:31.855896'}\n"
     ]
    },
    {
     "name": "stderr",
     "output_type": "stream",
     "text": [
      "substituting https://oauth.reddit.com for https://api.reddit.com in url\n",
      "GET: https://oauth.reddit.com/user/Djangofett98/about/.json\n",
      "substituting https://oauth.reddit.com for https://api.reddit.com in url\n",
      "POST: https://oauth.reddit.com/api/compose/.json\n"
     ]
    },
    {
     "name": "stdout",
     "output_type": "stream",
     "text": [
      "Message successfully sent to user Djangofett98\n",
      "APPENDING TO FILE: {'username': 'Djangofett98', 'get_info_date': '2018-04-17 13:58:31.855896', 'deleted': False, 'url': 'https://docs.google.com/forms/d/e/1FAIpQLSfmgOcsF0ALqWGPHGpJq2cwUr-xIG-uizbQqXPzPuTkrPM-Lg/viewform?usp=pp_url&entry.360321409=Djangofett98&entry.1933578897', 'first_comment_week': 4}\n",
      "first_comment_week: 4\n",
      "url: https://docs.google.com/forms/d/e/1FAIpQLSfmgOcsF0ALqWGPHGpJq2cwUr-xIG-uizbQqXPzPuTkrPM-Lg/viewform?usp=pp_url&entry.360321409=Djangofett98&entry.1933578897\n",
      "get_info_data: 2018-04-17 13:58:31.855896\n",
      "deleted: False\n",
      "User kalofel found: {'is_mod': False, 'has_subscribed': True, 'hide_from_robots': False, 'verified': True, 'icon_img': 'https://www.redditstatic.com/avatars/avatar_default_19_0079D3.png', 'is_employee': False, 'comment_karma': 9605, 'name': 'kalofel', 'subreddit': {'icon_size': [256, 256], 'key_color': '', 'link_flair_enabled': False, 'subreddit_type': 'user', 'name': 't5_b45x9', 'user_is_moderator': False, 'community_icon': '', 'header_img': None, 'public_description': '', 'show_media': True, 'audience_target': '', 'url': '/user/kalofel/', 'description': '', 'display_name_prefixed': 'u/kalofel', 'subscribers': 0, 'display_name': 'u_kalofel', 'user_is_banned': False, 'is_default_icon': True, 'icon_img': 'https://www.redditstatic.com/avatars/avatar_default_19_0079D3.png', 'over_18': False, 'is_default_banner': True, 'user_is_contributor': False, 'icon_color': '#0079D3', 'header_size': None, 'user_is_muted': False, 'banner_size': None, 'user_is_subscriber': False, 'banner_img': '', 'title': '', 'default_set': True, 'primary_color': ''}, 'is_gold': True, 'is_friend': False, 'id': 'wm7q6', 'has_verified_email': True, 'pref_show_snoovatar': False, 'created': 1458826484.0, 'created_utc': 1458797684.0, 'link_karma': 10190}\n"
     ]
    },
    {
     "name": "stderr",
     "output_type": "stream",
     "text": [
      "substituting https://oauth.reddit.com for https://api.reddit.com in url\n",
      "GET: https://oauth.reddit.com/user/kalofel/about/.json\n"
     ]
    },
    {
     "name": "stdout",
     "output_type": "stream",
     "text": [
      "Sending a message to user kalofel with data {'first_comment_week': 4, 'username': 'kalofel', 'url': 'https://docs.google.com/forms/d/e/1FAIpQLSfmgOcsF0ALqWGPHGpJq2cwUr-xIG-uizbQqXPzPuTkrPM-Lg/viewform?usp=pp_url&entry.360321409=kalofel&entry.1933578897', 'deleted': False, 'get_info_date': '2018-04-17 13:58:36.379163'}\n"
     ]
    },
    {
     "name": "stderr",
     "output_type": "stream",
     "text": [
      "substituting https://oauth.reddit.com for https://api.reddit.com in url\n",
      "POST: https://oauth.reddit.com/api/compose/.json\n"
     ]
    },
    {
     "name": "stdout",
     "output_type": "stream",
     "text": [
      "Message successfully sent to user kalofel\n",
      "APPENDING TO FILE: {'username': 'kalofel', 'get_info_date': '2018-04-17 13:58:36.379163', 'deleted': False, 'url': 'https://docs.google.com/forms/d/e/1FAIpQLSfmgOcsF0ALqWGPHGpJq2cwUr-xIG-uizbQqXPzPuTkrPM-Lg/viewform?usp=pp_url&entry.360321409=kalofel&entry.1933578897', 'first_comment_week': 4}\n",
      "first_comment_week: 4\n",
      "url: https://docs.google.com/forms/d/e/1FAIpQLSfmgOcsF0ALqWGPHGpJq2cwUr-xIG-uizbQqXPzPuTkrPM-Lg/viewform?usp=pp_url&entry.360321409=kalofel&entry.1933578897\n",
      "get_info_data: 2018-04-17 13:58:36.379163\n",
      "deleted: False\n",
      "User Topichu found: {'is_mod': False, 'has_subscribed': True, 'hide_from_robots': False, 'verified': True, 'icon_img': 'https://www.redditstatic.com/avatars/avatar_default_13_EA0027.png', 'is_employee': False, 'comment_karma': 105, 'name': 'Topichu', 'subreddit': {'icon_size': [256, 256], 'key_color': '', 'link_flair_enabled': False, 'subreddit_type': 'user', 'name': 't5_5xf6g', 'user_is_moderator': False, 'community_icon': '', 'header_img': None, 'public_description': '', 'show_media': True, 'audience_target': '', 'url': '/user/Topichu/', 'description': '', 'display_name_prefixed': 'u/Topichu', 'subscribers': 0, 'display_name': 'u_Topichu', 'user_is_banned': False, 'is_default_icon': True, 'icon_img': 'https://www.redditstatic.com/avatars/avatar_default_13_EA0027.png', 'over_18': False, 'is_default_banner': True, 'user_is_contributor': False, 'icon_color': '#EA0027', 'header_size': None, 'user_is_muted': False, 'banner_size': None, 'user_is_subscriber': False, 'banner_img': '', 'title': '', 'default_set': True, 'primary_color': ''}, 'is_gold': False, 'is_friend': False, 'id': 'hjdrlcs', 'has_verified_email': False, 'pref_show_snoovatar': False, 'created': 1508181571.0, 'created_utc': 1508152771.0, 'link_karma': 536}\n",
      "Sending a message to user Topichu with data {'first_comment_week': 4, 'username': 'Topichu', 'url': 'https://docs.google.com/forms/d/e/1FAIpQLSfmgOcsF0ALqWGPHGpJq2cwUr-xIG-uizbQqXPzPuTkrPM-Lg/viewform?usp=pp_url&entry.360321409=Topichu&entry.1933578897', 'deleted': False, 'get_info_date': '2018-04-17 13:58:40.604739'}\n"
     ]
    },
    {
     "name": "stderr",
     "output_type": "stream",
     "text": [
      "substituting https://oauth.reddit.com for https://api.reddit.com in url\n",
      "GET: https://oauth.reddit.com/user/Topichu/about/.json\n",
      "substituting https://oauth.reddit.com for https://api.reddit.com in url\n",
      "POST: https://oauth.reddit.com/api/compose/.json\n"
     ]
    },
    {
     "name": "stdout",
     "output_type": "stream",
     "text": [
      "Message successfully sent to user Topichu\n",
      "APPENDING TO FILE: {'username': 'Topichu', 'get_info_date': '2018-04-17 13:58:40.604739', 'deleted': False, 'url': 'https://docs.google.com/forms/d/e/1FAIpQLSfmgOcsF0ALqWGPHGpJq2cwUr-xIG-uizbQqXPzPuTkrPM-Lg/viewform?usp=pp_url&entry.360321409=Topichu&entry.1933578897', 'first_comment_week': 4}\n",
      "first_comment_week: 4\n",
      "url: https://docs.google.com/forms/d/e/1FAIpQLSfmgOcsF0ALqWGPHGpJq2cwUr-xIG-uizbQqXPzPuTkrPM-Lg/viewform?usp=pp_url&entry.360321409=Topichu&entry.1933578897\n",
      "get_info_data: 2018-04-17 13:58:40.604739\n",
      "deleted: False\n",
      "User -Cubie- found: {'is_mod': False, 'has_subscribed': True, 'hide_from_robots': False, 'verified': True, 'icon_img': 'https://s.redditmedia.com/t5_efro8/styles/profileIcon_1dog40x4frf01.png?fit=crop&crop=faces%2Centropy&arh=1.0&w=256&h=256&s=75bc3dc18b9b901d453d541d5fc1f71e', 'is_employee': False, 'comment_karma': 35825, 'name': '-Cubie-', 'subreddit': {'icon_size': [256, 256], 'key_color': '', 'link_flair_enabled': False, 'subreddit_type': 'user', 'name': 't5_efro8', 'user_is_moderator': False, 'community_icon': '', 'header_img': None, 'public_description': \"Hey! I'm working on a game!\", 'show_media': True, 'audience_target': '', 'url': '/user/-Cubie-/', 'description': '', 'display_name_prefixed': 'u/-Cubie-', 'subscribers': 0, 'display_name': 'u_-Cubie-', 'user_is_banned': False, 'is_default_icon': False, 'icon_img': 'https://s.redditmedia.com/t5_efro8/styles/profileIcon_1dog40x4frf01.png?fit=crop&crop=faces%2Centropy&arh=1.0&w=256&h=256&s=75bc3dc18b9b901d453d541d5fc1f71e', 'over_18': False, 'is_default_banner': True, 'user_is_contributor': False, 'icon_color': '', 'header_size': None, 'user_is_muted': False, 'banner_size': None, 'user_is_subscriber': False, 'banner_img': '', 'title': 'Cubie', 'default_set': True, 'primary_color': ''}, 'is_gold': False, 'is_friend': False, 'id': '11pki7', 'has_verified_email': True, 'pref_show_snoovatar': False, 'created': 1475036920.0, 'created_utc': 1475008120.0, 'link_karma': 2047}\n",
      "Sending a message to user -Cubie- with data {'first_comment_week': 4, 'username': '-Cubie-', 'url': 'https://docs.google.com/forms/d/e/1FAIpQLSfmgOcsF0ALqWGPHGpJq2cwUr-xIG-uizbQqXPzPuTkrPM-Lg/viewform?usp=pp_url&entry.360321409=-Cubie-&entry.1933578897', 'deleted': False, 'get_info_date': '2018-04-17 13:58:44.729376'}\n"
     ]
    },
    {
     "name": "stderr",
     "output_type": "stream",
     "text": [
      "substituting https://oauth.reddit.com for https://api.reddit.com in url\n",
      "GET: https://oauth.reddit.com/user/-Cubie-/about/.json\n",
      "substituting https://oauth.reddit.com for https://api.reddit.com in url\n",
      "POST: https://oauth.reddit.com/api/compose/.json\n"
     ]
    },
    {
     "name": "stdout",
     "output_type": "stream",
     "text": [
      "Message successfully sent to user -Cubie-\n",
      "APPENDING TO FILE: {'username': '-Cubie-', 'get_info_date': '2018-04-17 13:58:44.729376', 'deleted': False, 'url': 'https://docs.google.com/forms/d/e/1FAIpQLSfmgOcsF0ALqWGPHGpJq2cwUr-xIG-uizbQqXPzPuTkrPM-Lg/viewform?usp=pp_url&entry.360321409=-Cubie-&entry.1933578897', 'first_comment_week': 4}\n",
      "first_comment_week: 4\n",
      "url: https://docs.google.com/forms/d/e/1FAIpQLSfmgOcsF0ALqWGPHGpJq2cwUr-xIG-uizbQqXPzPuTkrPM-Lg/viewform?usp=pp_url&entry.360321409=-Cubie-&entry.1933578897\n",
      "get_info_data: 2018-04-17 13:58:44.729376\n",
      "deleted: False\n",
      "User griftertm found: {'is_mod': False, 'has_subscribed': True, 'hide_from_robots': False, 'verified': True, 'icon_img': 'https://www.redditstatic.com/avatars/avatar_default_09_FF8717.png', 'is_employee': False, 'comment_karma': 10462, 'name': 'griftertm', 'subreddit': {'icon_size': [256, 256], 'key_color': '', 'link_flair_enabled': False, 'subreddit_type': 'user', 'name': 't5_97bsg', 'user_is_moderator': False, 'community_icon': '', 'header_img': None, 'public_description': '', 'show_media': True, 'audience_target': '', 'url': '/user/griftertm/', 'description': '', 'display_name_prefixed': 'u/griftertm', 'subscribers': 0, 'display_name': 'u_griftertm', 'user_is_banned': False, 'is_default_icon': True, 'icon_img': 'https://www.redditstatic.com/avatars/avatar_default_09_FF8717.png', 'over_18': False, 'is_default_banner': True, 'user_is_contributor': False, 'icon_color': '#FF8717', 'header_size': None, 'user_is_muted': False, 'banner_size': None, 'user_is_subscriber': False, 'banner_img': '', 'title': '', 'default_set': True, 'primary_color': ''}, 'is_gold': False, 'is_friend': False, 'id': '176qd0', 'has_verified_email': False, 'pref_show_snoovatar': False, 'created': 1492564696.0, 'created_utc': 1492535896.0, 'link_karma': 40630}\n",
      "Sending a message to user griftertm with data {'first_comment_week': 4, 'username': 'griftertm', 'url': 'https://docs.google.com/forms/d/e/1FAIpQLSfmgOcsF0ALqWGPHGpJq2cwUr-xIG-uizbQqXPzPuTkrPM-Lg/viewform?usp=pp_url&entry.360321409=griftertm&entry.1933578897', 'deleted': False, 'get_info_date': '2018-04-17 13:58:48.951672'}\n"
     ]
    },
    {
     "name": "stderr",
     "output_type": "stream",
     "text": [
      "substituting https://oauth.reddit.com for https://api.reddit.com in url\n",
      "GET: https://oauth.reddit.com/user/griftertm/about/.json\n",
      "substituting https://oauth.reddit.com for https://api.reddit.com in url\n",
      "POST: https://oauth.reddit.com/api/compose/.json\n"
     ]
    },
    {
     "name": "stdout",
     "output_type": "stream",
     "text": [
      "Message successfully sent to user griftertm\n",
      "APPENDING TO FILE: {'username': 'griftertm', 'get_info_date': '2018-04-17 13:58:48.951672', 'deleted': False, 'url': 'https://docs.google.com/forms/d/e/1FAIpQLSfmgOcsF0ALqWGPHGpJq2cwUr-xIG-uizbQqXPzPuTkrPM-Lg/viewform?usp=pp_url&entry.360321409=griftertm&entry.1933578897', 'first_comment_week': 4}\n",
      "first_comment_week: 4\n",
      "url: https://docs.google.com/forms/d/e/1FAIpQLSfmgOcsF0ALqWGPHGpJq2cwUr-xIG-uizbQqXPzPuTkrPM-Lg/viewform?usp=pp_url&entry.360321409=griftertm&entry.1933578897\n",
      "get_info_data: 2018-04-17 13:58:48.951672\n",
      "deleted: False\n",
      "User TacoMasters found: {'is_mod': True, 'has_subscribed': True, 'hide_from_robots': False, 'verified': False, 'icon_img': 'https://www.redditstatic.com/avatars/avatar_default_03_46A508.png', 'is_employee': False, 'comment_karma': 18274, 'name': 'TacoMasters', 'subreddit': None, 'is_gold': False, 'is_friend': False, 'id': 'pgl32', 'has_verified_email': True, 'pref_show_snoovatar': False, 'created': 1439276907.0, 'created_utc': 1439248107.0, 'link_karma': 3837}\n",
      "Sending a message to user TacoMasters with data {'first_comment_week': 4, 'username': 'TacoMasters', 'url': 'https://docs.google.com/forms/d/e/1FAIpQLSfmgOcsF0ALqWGPHGpJq2cwUr-xIG-uizbQqXPzPuTkrPM-Lg/viewform?usp=pp_url&entry.360321409=TacoMasters&entry.1933578897', 'deleted': False, 'get_info_date': '2018-04-17 13:58:53.058082'}\n"
     ]
    },
    {
     "name": "stderr",
     "output_type": "stream",
     "text": [
      "substituting https://oauth.reddit.com for https://api.reddit.com in url\n",
      "GET: https://oauth.reddit.com/user/TacoMasters/about/.json\n",
      "substituting https://oauth.reddit.com for https://api.reddit.com in url\n",
      "POST: https://oauth.reddit.com/api/compose/.json\n"
     ]
    },
    {
     "name": "stdout",
     "output_type": "stream",
     "text": [
      "Message successfully sent to user TacoMasters\n",
      "APPENDING TO FILE: {'username': 'TacoMasters', 'get_info_date': '2018-04-17 13:58:53.058082', 'deleted': False, 'url': 'https://docs.google.com/forms/d/e/1FAIpQLSfmgOcsF0ALqWGPHGpJq2cwUr-xIG-uizbQqXPzPuTkrPM-Lg/viewform?usp=pp_url&entry.360321409=TacoMasters&entry.1933578897', 'first_comment_week': 4}\n",
      "first_comment_week: 4\n",
      "url: https://docs.google.com/forms/d/e/1FAIpQLSfmgOcsF0ALqWGPHGpJq2cwUr-xIG-uizbQqXPzPuTkrPM-Lg/viewform?usp=pp_url&entry.360321409=TacoMasters&entry.1933578897\n",
      "get_info_data: 2018-04-17 13:58:53.058082\n",
      "deleted: False\n",
      "User AevilokE found: {'is_mod': False, 'has_subscribed': True, 'hide_from_robots': True, 'verified': True, 'icon_img': 'https://www.redditstatic.com/avatars/avatar_default_18_D4E815.png', 'is_employee': False, 'comment_karma': 337, 'name': 'AevilokE', 'subreddit': {'icon_size': [256, 256], 'key_color': '', 'link_flair_enabled': False, 'subreddit_type': 'user', 'name': 't5_9bjzh', 'user_is_moderator': False, 'community_icon': '', 'header_img': None, 'public_description': '', 'show_media': True, 'audience_target': '', 'url': '/user/AevilokE/', 'description': '', 'display_name_prefixed': 'u/AevilokE', 'subscribers': 0, 'display_name': 'u_AevilokE', 'user_is_banned': False, 'is_default_icon': True, 'icon_img': 'https://www.redditstatic.com/avatars/avatar_default_18_D4E815.png', 'over_18': False, 'is_default_banner': True, 'user_is_contributor': False, 'icon_color': '#D4E815', 'header_size': None, 'user_is_muted': False, 'banner_size': None, 'user_is_subscriber': False, 'banner_img': '', 'title': '', 'default_set': True, 'primary_color': ''}, 'is_gold': False, 'is_friend': False, 'id': '16qvyt', 'has_verified_email': False, 'pref_show_snoovatar': False, 'created': 1491248145.0, 'created_utc': 1491219345.0, 'link_karma': 2606}\n",
      "Sending a message to user AevilokE with data {'first_comment_week': 4, 'username': 'AevilokE', 'url': 'https://docs.google.com/forms/d/e/1FAIpQLSfmgOcsF0ALqWGPHGpJq2cwUr-xIG-uizbQqXPzPuTkrPM-Lg/viewform?usp=pp_url&entry.360321409=AevilokE&entry.1933578897', 'deleted': False, 'get_info_date': '2018-04-17 13:58:57.339481'}\n"
     ]
    },
    {
     "name": "stderr",
     "output_type": "stream",
     "text": [
      "substituting https://oauth.reddit.com for https://api.reddit.com in url\n",
      "GET: https://oauth.reddit.com/user/AevilokE/about/.json\n",
      "substituting https://oauth.reddit.com for https://api.reddit.com in url\n",
      "POST: https://oauth.reddit.com/api/compose/.json\n"
     ]
    },
    {
     "name": "stdout",
     "output_type": "stream",
     "text": [
      "Message successfully sent to user AevilokE\n",
      "APPENDING TO FILE: {'username': 'AevilokE', 'get_info_date': '2018-04-17 13:58:57.339481', 'deleted': False, 'url': 'https://docs.google.com/forms/d/e/1FAIpQLSfmgOcsF0ALqWGPHGpJq2cwUr-xIG-uizbQqXPzPuTkrPM-Lg/viewform?usp=pp_url&entry.360321409=AevilokE&entry.1933578897', 'first_comment_week': 4}\n",
      "first_comment_week: 4\n",
      "url: https://docs.google.com/forms/d/e/1FAIpQLSfmgOcsF0ALqWGPHGpJq2cwUr-xIG-uizbQqXPzPuTkrPM-Lg/viewform?usp=pp_url&entry.360321409=AevilokE&entry.1933578897\n",
      "get_info_data: 2018-04-17 13:58:57.339481\n",
      "deleted: False\n",
      "User ABLovesGlory found: {'is_mod': False, 'has_subscribed': True, 'hide_from_robots': False, 'verified': False, 'icon_img': 'https://www.redditstatic.com/avatars/avatar_default_09_0DD3BB.png', 'is_employee': False, 'comment_karma': 9385, 'name': 'ABLovesGlory', 'subreddit': None, 'is_gold': False, 'is_friend': False, 'id': '16x0e4', 'has_verified_email': False, 'pref_show_snoovatar': False, 'created': 1491743922.0, 'created_utc': 1491715122.0, 'link_karma': 21}\n",
      "Sending a message to user ABLovesGlory with data {'first_comment_week': 4, 'username': 'ABLovesGlory', 'url': 'https://docs.google.com/forms/d/e/1FAIpQLSfmgOcsF0ALqWGPHGpJq2cwUr-xIG-uizbQqXPzPuTkrPM-Lg/viewform?usp=pp_url&entry.360321409=ABLovesGlory&entry.1933578897', 'deleted': False, 'get_info_date': '2018-04-17 13:59:01.587502'}\n"
     ]
    },
    {
     "name": "stderr",
     "output_type": "stream",
     "text": [
      "substituting https://oauth.reddit.com for https://api.reddit.com in url\n",
      "GET: https://oauth.reddit.com/user/ABLovesGlory/about/.json\n",
      "substituting https://oauth.reddit.com for https://api.reddit.com in url\n",
      "POST: https://oauth.reddit.com/api/compose/.json\n"
     ]
    },
    {
     "name": "stdout",
     "output_type": "stream",
     "text": [
      "Message successfully sent to user ABLovesGlory\n",
      "APPENDING TO FILE: {'username': 'ABLovesGlory', 'get_info_date': '2018-04-17 13:59:01.587502', 'deleted': False, 'url': 'https://docs.google.com/forms/d/e/1FAIpQLSfmgOcsF0ALqWGPHGpJq2cwUr-xIG-uizbQqXPzPuTkrPM-Lg/viewform?usp=pp_url&entry.360321409=ABLovesGlory&entry.1933578897', 'first_comment_week': 4}\n",
      "first_comment_week: 4\n",
      "url: https://docs.google.com/forms/d/e/1FAIpQLSfmgOcsF0ALqWGPHGpJq2cwUr-xIG-uizbQqXPzPuTkrPM-Lg/viewform?usp=pp_url&entry.360321409=ABLovesGlory&entry.1933578897\n",
      "get_info_data: 2018-04-17 13:59:01.587502\n",
      "deleted: False\n",
      "User goosie7 found: {'is_mod': False, 'has_subscribed': True, 'hide_from_robots': True, 'verified': True, 'icon_img': 'https://www.redditstatic.com/avatars/avatar_default_04_7E53C1.png', 'is_employee': False, 'comment_karma': 23647, 'name': 'goosie7', 'subreddit': {'icon_size': [256, 256], 'key_color': '', 'link_flair_enabled': False, 'subreddit_type': 'user', 'name': 't5_c6yhx', 'user_is_moderator': False, 'community_icon': '', 'header_img': None, 'public_description': '', 'show_media': True, 'audience_target': '', 'url': '/user/goosie7/', 'description': '', 'display_name_prefixed': 'u/goosie7', 'subscribers': 0, 'display_name': 'u_goosie7', 'user_is_banned': False, 'is_default_icon': True, 'icon_img': 'https://www.redditstatic.com/avatars/avatar_default_04_7E53C1.png', 'over_18': False, 'is_default_banner': True, 'user_is_contributor': False, 'icon_color': '#7E53C1', 'header_size': None, 'user_is_muted': False, 'banner_size': None, 'user_is_subscriber': False, 'banner_img': '', 'title': '', 'default_set': True, 'primary_color': ''}, 'is_gold': False, 'is_friend': False, 'id': '5qgbf', 'has_verified_email': False, 'pref_show_snoovatar': False, 'created': 1314409977.0, 'created_utc': 1314381177.0, 'link_karma': 1928}\n",
      "Sending a message to user goosie7 with data {'first_comment_week': 4, 'username': 'goosie7', 'url': 'https://docs.google.com/forms/d/e/1FAIpQLSfmgOcsF0ALqWGPHGpJq2cwUr-xIG-uizbQqXPzPuTkrPM-Lg/viewform?usp=pp_url&entry.360321409=goosie7&entry.1933578897', 'deleted': False, 'get_info_date': '2018-04-17 13:59:05.867897'}\n"
     ]
    },
    {
     "name": "stderr",
     "output_type": "stream",
     "text": [
      "substituting https://oauth.reddit.com for https://api.reddit.com in url\n",
      "GET: https://oauth.reddit.com/user/goosie7/about/.json\n",
      "substituting https://oauth.reddit.com for https://api.reddit.com in url\n",
      "POST: https://oauth.reddit.com/api/compose/.json\n"
     ]
    },
    {
     "name": "stdout",
     "output_type": "stream",
     "text": [
      "Message successfully sent to user goosie7\n",
      "APPENDING TO FILE: {'username': 'goosie7', 'get_info_date': '2018-04-17 13:59:05.867897', 'deleted': False, 'url': 'https://docs.google.com/forms/d/e/1FAIpQLSfmgOcsF0ALqWGPHGpJq2cwUr-xIG-uizbQqXPzPuTkrPM-Lg/viewform?usp=pp_url&entry.360321409=goosie7&entry.1933578897', 'first_comment_week': 4}\n",
      "first_comment_week: 4\n",
      "url: https://docs.google.com/forms/d/e/1FAIpQLSfmgOcsF0ALqWGPHGpJq2cwUr-xIG-uizbQqXPzPuTkrPM-Lg/viewform?usp=pp_url&entry.360321409=goosie7&entry.1933578897\n",
      "get_info_data: 2018-04-17 13:59:05.867897\n",
      "deleted: False\n",
      "User gettystinks found: {'is_mod': False, 'has_subscribed': True, 'hide_from_robots': False, 'verified': True, 'icon_img': 'https://www.redditstatic.com/avatars/avatar_default_11_4856A3.png', 'is_employee': False, 'comment_karma': 195, 'name': 'gettystinks', 'subreddit': {'icon_size': [256, 256], 'key_color': '', 'link_flair_enabled': False, 'subreddit_type': 'user', 'name': 't5_fxr10', 'user_is_moderator': False, 'community_icon': '', 'header_img': None, 'public_description': '', 'show_media': True, 'audience_target': '', 'url': '/user/gettystinks/', 'description': '', 'display_name_prefixed': 'u/gettystinks', 'subscribers': 0, 'display_name': 'u_gettystinks', 'user_is_banned': False, 'is_default_icon': True, 'icon_img': 'https://www.redditstatic.com/avatars/avatar_default_11_4856A3.png', 'over_18': False, 'is_default_banner': True, 'user_is_contributor': False, 'icon_color': '#4856A3', 'header_size': None, 'user_is_muted': False, 'banner_size': None, 'user_is_subscriber': False, 'banner_img': '', 'title': '', 'default_set': True, 'primary_color': ''}, 'is_gold': False, 'is_friend': False, 'id': 'xnh2cje', 'has_verified_email': False, 'pref_show_snoovatar': False, 'created': 1518988248.0, 'created_utc': 1518959448.0, 'link_karma': 867}\n",
      "Sending a message to user gettystinks with data {'first_comment_week': 4, 'username': 'gettystinks', 'url': 'https://docs.google.com/forms/d/e/1FAIpQLSfmgOcsF0ALqWGPHGpJq2cwUr-xIG-uizbQqXPzPuTkrPM-Lg/viewform?usp=pp_url&entry.360321409=gettystinks&entry.1933578897', 'deleted': False, 'get_info_date': '2018-04-17 13:59:09.992068'}\n"
     ]
    },
    {
     "name": "stderr",
     "output_type": "stream",
     "text": [
      "substituting https://oauth.reddit.com for https://api.reddit.com in url\n",
      "GET: https://oauth.reddit.com/user/gettystinks/about/.json\n",
      "substituting https://oauth.reddit.com for https://api.reddit.com in url\n",
      "POST: https://oauth.reddit.com/api/compose/.json\n"
     ]
    },
    {
     "name": "stdout",
     "output_type": "stream",
     "text": [
      "Message successfully sent to user gettystinks\n",
      "APPENDING TO FILE: {'username': 'gettystinks', 'get_info_date': '2018-04-17 13:59:09.992068', 'deleted': False, 'url': 'https://docs.google.com/forms/d/e/1FAIpQLSfmgOcsF0ALqWGPHGpJq2cwUr-xIG-uizbQqXPzPuTkrPM-Lg/viewform?usp=pp_url&entry.360321409=gettystinks&entry.1933578897', 'first_comment_week': 4}\n",
      "first_comment_week: 4\n",
      "url: https://docs.google.com/forms/d/e/1FAIpQLSfmgOcsF0ALqWGPHGpJq2cwUr-xIG-uizbQqXPzPuTkrPM-Lg/viewform?usp=pp_url&entry.360321409=gettystinks&entry.1933578897\n",
      "get_info_data: 2018-04-17 13:59:09.992068\n",
      "deleted: False\n",
      "User TheTrashPope found: {'is_mod': False, 'has_subscribed': True, 'hide_from_robots': False, 'verified': True, 'icon_img': 'https://s.redditmedia.com/t5_73sf6/styles/profileIcon_wshvx7ac37301.jpg?fit=crop&crop=faces%2Centropy&arh=1.0&w=256&h=256&s=886559ac42f8424d55fe53897946aae9', 'is_employee': False, 'comment_karma': 959, 'name': 'TheTrashPope', 'subreddit': {'icon_size': [256, 256], 'key_color': '', 'link_flair_enabled': False, 'subreddit_type': 'user', 'name': 't5_73sf6', 'user_is_moderator': False, 'community_icon': '', 'header_img': None, 'public_description': 'Recovering cynic, constantly in relapse ', 'show_media': True, 'audience_target': '', 'url': '/user/TheTrashPope/', 'description': '', 'display_name_prefixed': 'u/TheTrashPope', 'subscribers': 0, 'display_name': 'u_TheTrashPope', 'user_is_banned': False, 'is_default_icon': False, 'icon_img': 'https://s.redditmedia.com/t5_73sf6/styles/profileIcon_wshvx7ac37301.jpg?fit=crop&crop=faces%2Centropy&arh=1.0&w=256&h=256&s=886559ac42f8424d55fe53897946aae9', 'over_18': True, 'is_default_banner': True, 'user_is_contributor': False, 'icon_color': '', 'header_size': None, 'user_is_muted': False, 'banner_size': None, 'user_is_subscriber': False, 'banner_img': '', 'title': 'Trash Pope', 'default_set': True, 'primary_color': ''}, 'is_gold': False, 'is_friend': False, 'id': 'nqdozp7', 'has_verified_email': True, 'pref_show_snoovatar': False, 'created': 1512902768.0, 'created_utc': 1512873968.0, 'link_karma': 38}\n",
      "Sending a message to user TheTrashPope with data {'first_comment_week': 4, 'username': 'TheTrashPope', 'url': 'https://docs.google.com/forms/d/e/1FAIpQLSfmgOcsF0ALqWGPHGpJq2cwUr-xIG-uizbQqXPzPuTkrPM-Lg/viewform?usp=pp_url&entry.360321409=TheTrashPope&entry.1933578897', 'deleted': False, 'get_info_date': '2018-04-17 13:59:14.243855'}\n"
     ]
    },
    {
     "name": "stderr",
     "output_type": "stream",
     "text": [
      "substituting https://oauth.reddit.com for https://api.reddit.com in url\n",
      "GET: https://oauth.reddit.com/user/TheTrashPope/about/.json\n",
      "substituting https://oauth.reddit.com for https://api.reddit.com in url\n",
      "POST: https://oauth.reddit.com/api/compose/.json\n"
     ]
    },
    {
     "name": "stdout",
     "output_type": "stream",
     "text": [
      "Message successfully sent to user TheTrashPope\n",
      "APPENDING TO FILE: {'username': 'TheTrashPope', 'get_info_date': '2018-04-17 13:59:14.243855', 'deleted': False, 'url': 'https://docs.google.com/forms/d/e/1FAIpQLSfmgOcsF0ALqWGPHGpJq2cwUr-xIG-uizbQqXPzPuTkrPM-Lg/viewform?usp=pp_url&entry.360321409=TheTrashPope&entry.1933578897', 'first_comment_week': 4}\n",
      "first_comment_week: 4\n",
      "url: https://docs.google.com/forms/d/e/1FAIpQLSfmgOcsF0ALqWGPHGpJq2cwUr-xIG-uizbQqXPzPuTkrPM-Lg/viewform?usp=pp_url&entry.360321409=TheTrashPope&entry.1933578897\n",
      "get_info_data: 2018-04-17 13:59:14.243855\n",
      "deleted: False\n",
      "User HenzaConeeeeect found: {'is_mod': True, 'has_subscribed': True, 'hide_from_robots': False, 'verified': True, 'icon_img': 'https://s.redditmedia.com/t5_g6yn1/styles/profileIcon_kf0mcco91fk01.png?fit=crop&crop=faces%2Centropy&arh=1.0&w=256&h=256&s=fb0c282ab78cb0d0b6e77c51977994d7', 'is_employee': False, 'comment_karma': 4, 'name': 'HenzaConeeeeect', 'subreddit': {'icon_size': [256, 256], 'key_color': '', 'link_flair_enabled': False, 'subreddit_type': 'user', 'name': 't5_g6yn1', 'user_is_moderator': False, 'community_icon': '', 'header_img': None, 'public_description': 'MMM... i love dem dark jokes.', 'show_media': True, 'audience_target': '', 'url': '/user/HenzaConeeeeect/', 'description': '', 'display_name_prefixed': 'u/HenzaConeeeeect', 'subscribers': 0, 'display_name': 'u_HenzaConeeeeect', 'user_is_banned': False, 'is_default_icon': False, 'icon_img': 'https://s.redditmedia.com/t5_g6yn1/styles/profileIcon_kf0mcco91fk01.png?fit=crop&crop=faces%2Centropy&arh=1.0&w=256&h=256&s=fb0c282ab78cb0d0b6e77c51977994d7', 'over_18': False, 'is_default_banner': False, 'user_is_contributor': False, 'icon_color': '', 'header_size': None, 'user_is_muted': False, 'banner_size': [1280, 384], 'user_is_subscriber': False, 'banner_img': 'https://s.redditmedia.com/t5_g6yn1/styles/profileBanner_1uy37q291fk01.jpg?fit=crop&crop=center&arh=0.3&w=1280&h=384&s=18b1eb11d2d77211c7d5564dc274d0e0', 'title': 'WOW', 'default_set': True, 'primary_color': ''}, 'is_gold': False, 'is_friend': False, 'id': 'yoxtcqh', 'has_verified_email': False, 'pref_show_snoovatar': False, 'created': 1519559158.0, 'created_utc': 1519530358.0, 'link_karma': 445}\n",
      "Sending a message to user HenzaConeeeeect with data {'first_comment_week': 4, 'username': 'HenzaConeeeeect', 'url': 'https://docs.google.com/forms/d/e/1FAIpQLSfmgOcsF0ALqWGPHGpJq2cwUr-xIG-uizbQqXPzPuTkrPM-Lg/viewform?usp=pp_url&entry.360321409=HenzaConeeeeect&entry.1933578897', 'deleted': False, 'get_info_date': '2018-04-17 13:59:18.409465'}\n"
     ]
    },
    {
     "name": "stderr",
     "output_type": "stream",
     "text": [
      "substituting https://oauth.reddit.com for https://api.reddit.com in url\n",
      "GET: https://oauth.reddit.com/user/HenzaConeeeeect/about/.json\n",
      "substituting https://oauth.reddit.com for https://api.reddit.com in url\n",
      "POST: https://oauth.reddit.com/api/compose/.json\n"
     ]
    },
    {
     "name": "stdout",
     "output_type": "stream",
     "text": [
      "Message successfully sent to user HenzaConeeeeect\n",
      "APPENDING TO FILE: {'username': 'HenzaConeeeeect', 'get_info_date': '2018-04-17 13:59:18.409465', 'deleted': False, 'url': 'https://docs.google.com/forms/d/e/1FAIpQLSfmgOcsF0ALqWGPHGpJq2cwUr-xIG-uizbQqXPzPuTkrPM-Lg/viewform?usp=pp_url&entry.360321409=HenzaConeeeeect&entry.1933578897', 'first_comment_week': 4}\n",
      "first_comment_week: 4\n",
      "url: https://docs.google.com/forms/d/e/1FAIpQLSfmgOcsF0ALqWGPHGpJq2cwUr-xIG-uizbQqXPzPuTkrPM-Lg/viewform?usp=pp_url&entry.360321409=HenzaConeeeeect&entry.1933578897\n",
      "get_info_data: 2018-04-17 13:59:18.409465\n",
      "deleted: False\n",
      "User not found: Archangel-Eich\n"
     ]
    },
    {
     "name": "stderr",
     "output_type": "stream",
     "text": [
      "substituting https://oauth.reddit.com for https://api.reddit.com in url\n",
      "GET: https://oauth.reddit.com/user/Archangel-Eich/about/.json\n"
     ]
    },
    {
     "name": "stdout",
     "output_type": "stream",
     "text": [
      "User Pharylon found: {'is_mod': False, 'has_subscribed': True, 'hide_from_robots': False, 'verified': True, 'icon_img': 'https://www.redditstatic.com/avatars/avatar_default_12_C18D42.png', 'is_employee': False, 'comment_karma': 2612, 'name': 'Pharylon', 'subreddit': {'icon_size': [256, 256], 'key_color': '', 'link_flair_enabled': False, 'subreddit_type': 'user', 'name': 't5_an0qw', 'user_is_moderator': False, 'community_icon': '', 'header_img': None, 'public_description': '', 'show_media': True, 'audience_target': '', 'url': '/user/Pharylon/', 'description': '', 'display_name_prefixed': 'u/Pharylon', 'subscribers': 0, 'display_name': 'u_Pharylon', 'user_is_banned': False, 'is_default_icon': True, 'icon_img': 'https://www.redditstatic.com/avatars/avatar_default_12_C18D42.png', 'over_18': False, 'is_default_banner': True, 'user_is_contributor': False, 'icon_color': '#C18D42', 'header_size': None, 'user_is_muted': False, 'banner_size': None, 'user_is_subscriber': False, 'banner_img': '', 'title': '', 'default_set': True, 'primary_color': ''}, 'is_gold': False, 'is_friend': False, 'id': 'asj13', 'has_verified_email': True, 'pref_show_snoovatar': False, 'created': 1362281639.0, 'created_utc': 1362252839.0, 'link_karma': 6687}\n",
      "Sending a message to user Pharylon with data {'first_comment_week': 4, 'username': 'Pharylon', 'url': 'https://docs.google.com/forms/d/e/1FAIpQLSfmgOcsF0ALqWGPHGpJq2cwUr-xIG-uizbQqXPzPuTkrPM-Lg/viewform?usp=pp_url&entry.360321409=Pharylon&entry.1933578897', 'deleted': False, 'get_info_date': '2018-04-17 13:59:24.812663'}\n"
     ]
    },
    {
     "name": "stderr",
     "output_type": "stream",
     "text": [
      "substituting https://oauth.reddit.com for https://api.reddit.com in url\n",
      "GET: https://oauth.reddit.com/user/Pharylon/about/.json\n",
      "substituting https://oauth.reddit.com for https://api.reddit.com in url\n",
      "POST: https://oauth.reddit.com/api/compose/.json\n"
     ]
    },
    {
     "name": "stdout",
     "output_type": "stream",
     "text": [
      "Message successfully sent to user Pharylon\n",
      "APPENDING TO FILE: {'username': 'Pharylon', 'get_info_date': '2018-04-17 13:59:24.812663', 'deleted': False, 'url': 'https://docs.google.com/forms/d/e/1FAIpQLSfmgOcsF0ALqWGPHGpJq2cwUr-xIG-uizbQqXPzPuTkrPM-Lg/viewform?usp=pp_url&entry.360321409=Pharylon&entry.1933578897', 'first_comment_week': 4}\n",
      "first_comment_week: 4\n",
      "url: https://docs.google.com/forms/d/e/1FAIpQLSfmgOcsF0ALqWGPHGpJq2cwUr-xIG-uizbQqXPzPuTkrPM-Lg/viewform?usp=pp_url&entry.360321409=Pharylon&entry.1933578897\n",
      "get_info_data: 2018-04-17 13:59:24.812663\n",
      "deleted: False\n"
     ]
    },
    {
     "name": "stderr",
     "output_type": "stream",
     "text": [
      "substituting https://oauth.reddit.com for https://api.reddit.com in url\n",
      "GET: https://oauth.reddit.com/user/missreginaface/about/.json\n"
     ]
    },
    {
     "name": "stdout",
     "output_type": "stream",
     "text": [
      "User missreginaface found: {'is_mod': False, 'has_subscribed': True, 'hide_from_robots': True, 'verified': True, 'icon_img': 'https://www.redditstatic.com/avatars/avatar_default_20_DDBD37.png', 'is_employee': False, 'comment_karma': 504, 'name': 'missreginaface', 'subreddit': {'icon_size': [256, 256], 'key_color': '', 'link_flair_enabled': False, 'subreddit_type': 'user', 'name': 't5_bg4cv', 'user_is_moderator': False, 'community_icon': '', 'header_img': None, 'public_description': '', 'show_media': True, 'audience_target': '', 'url': '/user/missreginaface/', 'description': '', 'display_name_prefixed': 'u/missreginaface', 'subscribers': 0, 'display_name': 'u_missreginaface', 'user_is_banned': False, 'is_default_icon': True, 'icon_img': 'https://www.redditstatic.com/avatars/avatar_default_20_DDBD37.png', 'over_18': False, 'is_default_banner': True, 'user_is_contributor': False, 'icon_color': '#DDBD37', 'header_size': None, 'user_is_muted': False, 'banner_size': None, 'user_is_subscriber': False, 'banner_img': '', 'title': '', 'default_set': True, 'primary_color': ''}, 'is_gold': False, 'is_friend': False, 'id': '6qiyz', 'has_verified_email': True, 'pref_show_snoovatar': False, 'created': 1327382334.0, 'created_utc': 1327353534.0, 'link_karma': 1689}\n",
      "Sending a message to user missreginaface with data {'first_comment_week': 4, 'username': 'missreginaface', 'url': 'https://docs.google.com/forms/d/e/1FAIpQLSfmgOcsF0ALqWGPHGpJq2cwUr-xIG-uizbQqXPzPuTkrPM-Lg/viewform?usp=pp_url&entry.360321409=missreginaface&entry.1933578897', 'deleted': False, 'get_info_date': '2018-04-17 13:59:29.061476'}\n"
     ]
    },
    {
     "name": "stderr",
     "output_type": "stream",
     "text": [
      "substituting https://oauth.reddit.com for https://api.reddit.com in url\n",
      "POST: https://oauth.reddit.com/api/compose/.json\n"
     ]
    },
    {
     "name": "stdout",
     "output_type": "stream",
     "text": [
      "Message successfully sent to user missreginaface\n",
      "APPENDING TO FILE: {'username': 'missreginaface', 'get_info_date': '2018-04-17 13:59:29.061476', 'deleted': False, 'url': 'https://docs.google.com/forms/d/e/1FAIpQLSfmgOcsF0ALqWGPHGpJq2cwUr-xIG-uizbQqXPzPuTkrPM-Lg/viewform?usp=pp_url&entry.360321409=missreginaface&entry.1933578897', 'first_comment_week': 4}\n",
      "first_comment_week: 4\n",
      "url: https://docs.google.com/forms/d/e/1FAIpQLSfmgOcsF0ALqWGPHGpJq2cwUr-xIG-uizbQqXPzPuTkrPM-Lg/viewform?usp=pp_url&entry.360321409=missreginaface&entry.1933578897\n",
      "get_info_data: 2018-04-17 13:59:29.061476\n",
      "deleted: False\n",
      "User SyntheticBiology found: {'is_mod': False, 'has_subscribed': True, 'hide_from_robots': False, 'verified': True, 'icon_img': 'https://www.redditstatic.com/avatars/avatar_default_16_0DD3BB.png', 'is_employee': False, 'comment_karma': 2616, 'name': 'SyntheticBiology', 'subreddit': {'icon_size': [256, 256], 'key_color': '', 'link_flair_enabled': False, 'subreddit_type': 'user', 'name': 't5_bgnkf', 'user_is_moderator': False, 'community_icon': '', 'header_img': None, 'public_description': '', 'show_media': True, 'audience_target': '', 'url': '/user/SyntheticBiology/', 'description': '', 'display_name_prefixed': 'u/SyntheticBiology', 'subscribers': 0, 'display_name': 'u_SyntheticBiology', 'user_is_banned': False, 'is_default_icon': True, 'icon_img': 'https://www.redditstatic.com/avatars/avatar_default_16_0DD3BB.png', 'over_18': False, 'is_default_banner': True, 'user_is_contributor': False, 'icon_color': '#0DD3BB', 'header_size': None, 'user_is_muted': False, 'banner_size': None, 'user_is_subscriber': False, 'banner_img': '', 'title': '', 'default_set': True, 'primary_color': ''}, 'is_gold': True, 'is_friend': False, 'id': '4akub', 'has_verified_email': True, 'pref_show_snoovatar': True, 'created': 1283206317.0, 'created_utc': 1283177517.0, 'link_karma': 608}\n",
      "Sending a message to user SyntheticBiology with data {'first_comment_week': 4, 'username': 'SyntheticBiology', 'url': 'https://docs.google.com/forms/d/e/1FAIpQLSfmgOcsF0ALqWGPHGpJq2cwUr-xIG-uizbQqXPzPuTkrPM-Lg/viewform?usp=pp_url&entry.360321409=SyntheticBiology&entry.1933578897', 'deleted': False, 'get_info_date': '2018-04-17 13:59:33.200039'}\n"
     ]
    },
    {
     "name": "stderr",
     "output_type": "stream",
     "text": [
      "substituting https://oauth.reddit.com for https://api.reddit.com in url\n",
      "GET: https://oauth.reddit.com/user/SyntheticBiology/about/.json\n",
      "substituting https://oauth.reddit.com for https://api.reddit.com in url\n",
      "POST: https://oauth.reddit.com/api/compose/.json\n"
     ]
    },
    {
     "name": "stdout",
     "output_type": "stream",
     "text": [
      "Message successfully sent to user SyntheticBiology\n",
      "APPENDING TO FILE: {'username': 'SyntheticBiology', 'get_info_date': '2018-04-17 13:59:33.200039', 'deleted': False, 'url': 'https://docs.google.com/forms/d/e/1FAIpQLSfmgOcsF0ALqWGPHGpJq2cwUr-xIG-uizbQqXPzPuTkrPM-Lg/viewform?usp=pp_url&entry.360321409=SyntheticBiology&entry.1933578897', 'first_comment_week': 4}\n",
      "first_comment_week: 4\n",
      "url: https://docs.google.com/forms/d/e/1FAIpQLSfmgOcsF0ALqWGPHGpJq2cwUr-xIG-uizbQqXPzPuTkrPM-Lg/viewform?usp=pp_url&entry.360321409=SyntheticBiology&entry.1933578897\n",
      "get_info_data: 2018-04-17 13:59:33.200039\n",
      "deleted: False\n",
      "User I_Am_An_AltAccount69 found: {'is_mod': False, 'has_subscribed': True, 'hide_from_robots': False, 'verified': True, 'icon_img': 'https://www.redditstatic.com/avatars/avatar_default_10_0DD3BB.png', 'is_employee': False, 'comment_karma': 3181, 'name': 'I_Am_An_AltAccount69', 'subreddit': {'icon_size': [256, 256], 'key_color': '', 'link_flair_enabled': False, 'subreddit_type': 'user', 'name': 't5_6krwb', 'user_is_moderator': False, 'community_icon': '', 'header_img': None, 'public_description': '', 'show_media': True, 'audience_target': '', 'url': '/user/I_Am_An_AltAccount69/', 'description': '', 'display_name_prefixed': 'u/I_Am_An_AltAccount69', 'subscribers': 0, 'display_name': 'u_I_Am_An_AltAccount69', 'user_is_banned': False, 'is_default_icon': True, 'icon_img': 'https://www.redditstatic.com/avatars/avatar_default_10_0DD3BB.png', 'over_18': False, 'is_default_banner': True, 'user_is_contributor': False, 'icon_color': '#0DD3BB', 'header_size': None, 'user_is_muted': False, 'banner_size': None, 'user_is_subscriber': False, 'banner_img': '', 'title': '', 'default_set': True, 'primary_color': ''}, 'is_gold': False, 'is_friend': False, 'id': 'ets2cut', 'has_verified_email': False, 'pref_show_snoovatar': False, 'created': 1506223050.0, 'created_utc': 1506194250.0, 'link_karma': 6109}\n",
      "Sending a message to user I_Am_An_AltAccount69 with data {'first_comment_week': 4, 'username': 'I_Am_An_AltAccount69', 'url': 'https://docs.google.com/forms/d/e/1FAIpQLSfmgOcsF0ALqWGPHGpJq2cwUr-xIG-uizbQqXPzPuTkrPM-Lg/viewform?usp=pp_url&entry.360321409=I_Am_An_AltAccount69&entry.1933578897', 'deleted': False, 'get_info_date': '2018-04-17 13:59:37.354609'}\n"
     ]
    },
    {
     "name": "stderr",
     "output_type": "stream",
     "text": [
      "substituting https://oauth.reddit.com for https://api.reddit.com in url\n",
      "GET: https://oauth.reddit.com/user/I_Am_An_AltAccount69/about/.json\n",
      "substituting https://oauth.reddit.com for https://api.reddit.com in url\n",
      "POST: https://oauth.reddit.com/api/compose/.json\n"
     ]
    },
    {
     "name": "stdout",
     "output_type": "stream",
     "text": [
      "Message successfully sent to user I_Am_An_AltAccount69\n",
      "APPENDING TO FILE: {'username': 'I_Am_An_AltAccount69', 'get_info_date': '2018-04-17 13:59:37.354609', 'deleted': False, 'url': 'https://docs.google.com/forms/d/e/1FAIpQLSfmgOcsF0ALqWGPHGpJq2cwUr-xIG-uizbQqXPzPuTkrPM-Lg/viewform?usp=pp_url&entry.360321409=I_Am_An_AltAccount69&entry.1933578897', 'first_comment_week': 4}\n",
      "first_comment_week: 4\n",
      "url: https://docs.google.com/forms/d/e/1FAIpQLSfmgOcsF0ALqWGPHGpJq2cwUr-xIG-uizbQqXPzPuTkrPM-Lg/viewform?usp=pp_url&entry.360321409=I_Am_An_AltAccount69&entry.1933578897\n",
      "get_info_data: 2018-04-17 13:59:37.354609\n",
      "deleted: False\n",
      "User sweetiesocermom found: {'is_mod': False, 'has_subscribed': True, 'hide_from_robots': False, 'verified': True, 'icon_img': 'https://www.redditstatic.com/avatars/avatar_default_15_25B79F.png', 'is_employee': False, 'comment_karma': 0, 'name': 'sweetiesocermom', 'subreddit': {'icon_size': [256, 256], 'key_color': '', 'link_flair_enabled': False, 'subreddit_type': 'user', 'name': 't5_gx42l', 'user_is_moderator': False, 'community_icon': '', 'header_img': None, 'public_description': '', 'show_media': True, 'audience_target': '', 'url': '/user/sweetiesocermom/', 'description': '', 'display_name_prefixed': 'u/sweetiesocermom', 'subscribers': 0, 'display_name': 'u_sweetiesocermom', 'user_is_banned': False, 'is_default_icon': True, 'icon_img': 'https://www.redditstatic.com/avatars/avatar_default_15_25B79F.png', 'over_18': False, 'is_default_banner': True, 'user_is_contributor': False, 'icon_color': '#25B79F', 'header_size': None, 'user_is_muted': False, 'banner_size': None, 'user_is_subscriber': False, 'banner_img': '', 'title': '', 'default_set': True, 'primary_color': ''}, 'is_gold': False, 'is_friend': False, 'id': '11t57dty', 'has_verified_email': False, 'pref_show_snoovatar': False, 'created': 1521228689.0, 'created_utc': 1521199889.0, 'link_karma': 1}\n",
      "Sending a message to user sweetiesocermom with data {'first_comment_week': 4, 'username': 'sweetiesocermom', 'url': 'https://docs.google.com/forms/d/e/1FAIpQLSfmgOcsF0ALqWGPHGpJq2cwUr-xIG-uizbQqXPzPuTkrPM-Lg/viewform?usp=pp_url&entry.360321409=sweetiesocermom&entry.1933578897', 'deleted': False, 'get_info_date': '2018-04-17 13:59:41.576385'}\n"
     ]
    },
    {
     "name": "stderr",
     "output_type": "stream",
     "text": [
      "substituting https://oauth.reddit.com for https://api.reddit.com in url\n",
      "GET: https://oauth.reddit.com/user/sweetiesocermom/about/.json\n",
      "substituting https://oauth.reddit.com for https://api.reddit.com in url\n",
      "POST: https://oauth.reddit.com/api/compose/.json\n"
     ]
    },
    {
     "name": "stdout",
     "output_type": "stream",
     "text": [
      "Message successfully sent to user sweetiesocermom\n",
      "APPENDING TO FILE: {'username': 'sweetiesocermom', 'get_info_date': '2018-04-17 13:59:41.576385', 'deleted': False, 'url': 'https://docs.google.com/forms/d/e/1FAIpQLSfmgOcsF0ALqWGPHGpJq2cwUr-xIG-uizbQqXPzPuTkrPM-Lg/viewform?usp=pp_url&entry.360321409=sweetiesocermom&entry.1933578897', 'first_comment_week': 4}\n",
      "first_comment_week: 4\n",
      "url: https://docs.google.com/forms/d/e/1FAIpQLSfmgOcsF0ALqWGPHGpJq2cwUr-xIG-uizbQqXPzPuTkrPM-Lg/viewform?usp=pp_url&entry.360321409=sweetiesocermom&entry.1933578897\n",
      "get_info_data: 2018-04-17 13:59:41.576385\n",
      "deleted: False\n",
      "User MVMENTEIC found: {'is_mod': False, 'has_subscribed': False, 'hide_from_robots': False, 'verified': True, 'icon_img': 'https://www.redditstatic.com/avatars/avatar_default_08_24A0ED.png', 'is_employee': False, 'comment_karma': -1, 'name': 'MVMENTEIC', 'subreddit': {'icon_size': [256, 256], 'key_color': '', 'link_flair_enabled': False, 'subreddit_type': 'user', 'name': 't5_gz1d8', 'user_is_moderator': False, 'community_icon': '', 'header_img': None, 'public_description': '', 'show_media': True, 'audience_target': '', 'url': '/user/MVMENTEIC/', 'description': '', 'display_name_prefixed': 'u/MVMENTEIC', 'subscribers': 0, 'display_name': 'u_MVMENTEIC', 'user_is_banned': False, 'is_default_icon': True, 'icon_img': 'https://www.redditstatic.com/avatars/avatar_default_08_24A0ED.png', 'over_18': False, 'is_default_banner': True, 'user_is_contributor': False, 'icon_color': '#24A0ED', 'header_size': None, 'user_is_muted': False, 'banner_size': None, 'user_is_subscriber': False, 'banner_img': '', 'title': '', 'default_set': True, 'primary_color': ''}, 'is_gold': False, 'is_friend': False, 'id': 'fnw8bkn', 'has_verified_email': True, 'pref_show_snoovatar': False, 'created': 1521353448.0, 'created_utc': 1521324648.0, 'link_karma': 1}\n",
      "Sending a message to user MVMENTEIC with data {'first_comment_week': 4, 'username': 'MVMENTEIC', 'url': 'https://docs.google.com/forms/d/e/1FAIpQLSfmgOcsF0ALqWGPHGpJq2cwUr-xIG-uizbQqXPzPuTkrPM-Lg/viewform?usp=pp_url&entry.360321409=MVMENTEIC&entry.1933578897', 'deleted': False, 'get_info_date': '2018-04-17 13:59:45.720279'}\n"
     ]
    },
    {
     "name": "stderr",
     "output_type": "stream",
     "text": [
      "substituting https://oauth.reddit.com for https://api.reddit.com in url\n",
      "GET: https://oauth.reddit.com/user/MVMENTEIC/about/.json\n",
      "substituting https://oauth.reddit.com for https://api.reddit.com in url\n",
      "POST: https://oauth.reddit.com/api/compose/.json\n"
     ]
    },
    {
     "name": "stdout",
     "output_type": "stream",
     "text": [
      "Message successfully sent to user MVMENTEIC\n",
      "APPENDING TO FILE: {'username': 'MVMENTEIC', 'get_info_date': '2018-04-17 13:59:45.720279', 'deleted': False, 'url': 'https://docs.google.com/forms/d/e/1FAIpQLSfmgOcsF0ALqWGPHGpJq2cwUr-xIG-uizbQqXPzPuTkrPM-Lg/viewform?usp=pp_url&entry.360321409=MVMENTEIC&entry.1933578897', 'first_comment_week': 4}\n",
      "first_comment_week: 4\n",
      "url: https://docs.google.com/forms/d/e/1FAIpQLSfmgOcsF0ALqWGPHGpJq2cwUr-xIG-uizbQqXPzPuTkrPM-Lg/viewform?usp=pp_url&entry.360321409=MVMENTEIC&entry.1933578897\n",
      "get_info_data: 2018-04-17 13:59:45.720279\n",
      "deleted: False\n",
      "User blownawayaway found: {'is_mod': False, 'has_subscribed': True, 'hide_from_robots': False, 'verified': True, 'icon_img': 'https://www.redditstatic.com/avatars/avatar_default_03_FFB000.png', 'is_employee': False, 'comment_karma': 5326, 'name': 'blownawayaway', 'subreddit': {'icon_size': [256, 256], 'key_color': '', 'link_flair_enabled': False, 'subreddit_type': 'user', 'name': 't5_7c910', 'user_is_moderator': False, 'community_icon': '', 'header_img': None, 'public_description': '', 'show_media': True, 'audience_target': '', 'url': '/user/blownawayaway/', 'description': '', 'display_name_prefixed': 'u/blownawayaway', 'subscribers': 0, 'display_name': 'u_blownawayaway', 'user_is_banned': False, 'is_default_icon': True, 'icon_img': 'https://www.redditstatic.com/avatars/avatar_default_03_FFB000.png', 'over_18': False, 'is_default_banner': True, 'user_is_contributor': False, 'icon_color': '#FFB000', 'header_size': None, 'user_is_muted': False, 'banner_size': None, 'user_is_subscriber': False, 'banner_img': '', 'title': '', 'default_set': True, 'primary_color': ''}, 'is_gold': False, 'is_friend': False, 'id': '41s1vcu', 'has_verified_email': False, 'pref_show_snoovatar': False, 'created': 1497475683.0, 'created_utc': 1497446883.0, 'link_karma': 516}\n",
      "Sending a message to user blownawayaway with data {'first_comment_week': 4, 'username': 'blownawayaway', 'url': 'https://docs.google.com/forms/d/e/1FAIpQLSfmgOcsF0ALqWGPHGpJq2cwUr-xIG-uizbQqXPzPuTkrPM-Lg/viewform?usp=pp_url&entry.360321409=blownawayaway&entry.1933578897', 'deleted': False, 'get_info_date': '2018-04-17 13:59:49.830243'}\n"
     ]
    },
    {
     "name": "stderr",
     "output_type": "stream",
     "text": [
      "substituting https://oauth.reddit.com for https://api.reddit.com in url\n",
      "GET: https://oauth.reddit.com/user/blownawayaway/about/.json\n",
      "substituting https://oauth.reddit.com for https://api.reddit.com in url\n",
      "POST: https://oauth.reddit.com/api/compose/.json\n"
     ]
    },
    {
     "name": "stdout",
     "output_type": "stream",
     "text": [
      "Message successfully sent to user blownawayaway\n",
      "APPENDING TO FILE: {'username': 'blownawayaway', 'get_info_date': '2018-04-17 13:59:49.830243', 'deleted': False, 'url': 'https://docs.google.com/forms/d/e/1FAIpQLSfmgOcsF0ALqWGPHGpJq2cwUr-xIG-uizbQqXPzPuTkrPM-Lg/viewform?usp=pp_url&entry.360321409=blownawayaway&entry.1933578897', 'first_comment_week': 4}\n",
      "first_comment_week: 4\n",
      "url: https://docs.google.com/forms/d/e/1FAIpQLSfmgOcsF0ALqWGPHGpJq2cwUr-xIG-uizbQqXPzPuTkrPM-Lg/viewform?usp=pp_url&entry.360321409=blownawayaway&entry.1933578897\n",
      "get_info_data: 2018-04-17 13:59:49.830243\n",
      "deleted: False\n",
      "User yodaminnesota found: {'is_mod': True, 'has_subscribed': True, 'hide_from_robots': False, 'verified': False, 'icon_img': 'https://www.redditstatic.com/avatars/avatar_default_05_25B79F.png', 'is_employee': False, 'comment_karma': 17790, 'name': 'yodaminnesota', 'subreddit': None, 'is_gold': False, 'is_friend': False, 'id': '9bb30', 'has_verified_email': True, 'pref_show_snoovatar': False, 'created': 1350371959.0, 'created_utc': 1350343159.0, 'link_karma': 5020}\n",
      "Sending a message to user yodaminnesota with data {'first_comment_week': 4, 'username': 'yodaminnesota', 'url': 'https://docs.google.com/forms/d/e/1FAIpQLSfmgOcsF0ALqWGPHGpJq2cwUr-xIG-uizbQqXPzPuTkrPM-Lg/viewform?usp=pp_url&entry.360321409=yodaminnesota&entry.1933578897', 'deleted': False, 'get_info_date': '2018-04-17 13:59:54.061040'}\n"
     ]
    },
    {
     "name": "stderr",
     "output_type": "stream",
     "text": [
      "substituting https://oauth.reddit.com for https://api.reddit.com in url\n",
      "GET: https://oauth.reddit.com/user/yodaminnesota/about/.json\n",
      "substituting https://oauth.reddit.com for https://api.reddit.com in url\n",
      "POST: https://oauth.reddit.com/api/compose/.json\n"
     ]
    },
    {
     "name": "stdout",
     "output_type": "stream",
     "text": [
      "Message successfully sent to user yodaminnesota\n",
      "APPENDING TO FILE: {'username': 'yodaminnesota', 'get_info_date': '2018-04-17 13:59:54.061040', 'deleted': False, 'url': 'https://docs.google.com/forms/d/e/1FAIpQLSfmgOcsF0ALqWGPHGpJq2cwUr-xIG-uizbQqXPzPuTkrPM-Lg/viewform?usp=pp_url&entry.360321409=yodaminnesota&entry.1933578897', 'first_comment_week': 4}\n",
      "first_comment_week: 4\n",
      "url: https://docs.google.com/forms/d/e/1FAIpQLSfmgOcsF0ALqWGPHGpJq2cwUr-xIG-uizbQqXPzPuTkrPM-Lg/viewform?usp=pp_url&entry.360321409=yodaminnesota&entry.1933578897\n",
      "get_info_data: 2018-04-17 13:59:54.061040\n",
      "deleted: False\n",
      "User Throw4Muffdive found: {'is_mod': False, 'has_subscribed': True, 'hide_from_robots': False, 'verified': True, 'icon_img': 'https://www.redditstatic.com/avatars/avatar_default_12_A06A42.png', 'is_employee': False, 'comment_karma': 3469, 'name': 'Throw4Muffdive', 'subreddit': {'icon_size': [256, 256], 'key_color': '', 'link_flair_enabled': False, 'subreddit_type': 'user', 'name': 't5_fhyp2', 'user_is_moderator': False, 'community_icon': '', 'header_img': None, 'public_description': '', 'show_media': True, 'audience_target': '', 'url': '/user/Throw4Muffdive/', 'description': '', 'display_name_prefixed': 'u/Throw4Muffdive', 'subscribers': 0, 'display_name': 'u_Throw4Muffdive', 'user_is_banned': False, 'is_default_icon': True, 'icon_img': 'https://www.redditstatic.com/avatars/avatar_default_12_A06A42.png', 'over_18': False, 'is_default_banner': True, 'user_is_contributor': False, 'icon_color': '#A06A42', 'header_size': None, 'user_is_muted': False, 'banner_size': None, 'user_is_subscriber': False, 'banner_img': '', 'title': '', 'default_set': True, 'primary_color': ''}, 'is_gold': False, 'is_friend': False, 'id': 'vr7ip0n', 'has_verified_email': False, 'pref_show_snoovatar': False, 'created': 1517977110.0, 'created_utc': 1517948310.0, 'link_karma': 38}\n",
      "Sending a message to user Throw4Muffdive with data {'first_comment_week': 4, 'username': 'Throw4Muffdive', 'url': 'https://docs.google.com/forms/d/e/1FAIpQLSfmgOcsF0ALqWGPHGpJq2cwUr-xIG-uizbQqXPzPuTkrPM-Lg/viewform?usp=pp_url&entry.360321409=Throw4Muffdive&entry.1933578897', 'deleted': False, 'get_info_date': '2018-04-17 13:59:58.279585'}\n"
     ]
    },
    {
     "name": "stderr",
     "output_type": "stream",
     "text": [
      "substituting https://oauth.reddit.com for https://api.reddit.com in url\n",
      "GET: https://oauth.reddit.com/user/Throw4Muffdive/about/.json\n",
      "substituting https://oauth.reddit.com for https://api.reddit.com in url\n",
      "POST: https://oauth.reddit.com/api/compose/.json\n"
     ]
    },
    {
     "name": "stdout",
     "output_type": "stream",
     "text": [
      "Message successfully sent to user Throw4Muffdive\n",
      "APPENDING TO FILE: {'username': 'Throw4Muffdive', 'get_info_date': '2018-04-17 13:59:58.279585', 'deleted': False, 'url': 'https://docs.google.com/forms/d/e/1FAIpQLSfmgOcsF0ALqWGPHGpJq2cwUr-xIG-uizbQqXPzPuTkrPM-Lg/viewform?usp=pp_url&entry.360321409=Throw4Muffdive&entry.1933578897', 'first_comment_week': 4}\n",
      "first_comment_week: 4\n",
      "url: https://docs.google.com/forms/d/e/1FAIpQLSfmgOcsF0ALqWGPHGpJq2cwUr-xIG-uizbQqXPzPuTkrPM-Lg/viewform?usp=pp_url&entry.360321409=Throw4Muffdive&entry.1933578897\n",
      "get_info_data: 2018-04-17 13:59:58.279585\n",
      "deleted: False\n"
     ]
    },
    {
     "name": "stderr",
     "output_type": "stream",
     "text": [
      "substituting https://oauth.reddit.com for https://api.reddit.com in url\n",
      "GET: https://oauth.reddit.com/user/Teddie1/about/.json\n"
     ]
    },
    {
     "name": "stdout",
     "output_type": "stream",
     "text": [
      "User Teddie1 found: {'is_mod': False, 'has_subscribed': True, 'hide_from_robots': False, 'verified': True, 'icon_img': 'https://www.redditstatic.com/avatars/avatar_default_20_46D160.png', 'is_employee': False, 'comment_karma': 51, 'name': 'Teddie1', 'subreddit': {'icon_size': [256, 256], 'key_color': '', 'link_flair_enabled': False, 'subreddit_type': 'user', 'name': 't5_9fnbg', 'user_is_moderator': False, 'community_icon': '', 'header_img': None, 'public_description': '', 'show_media': True, 'audience_target': '', 'url': '/user/Teddie1/', 'description': '', 'display_name_prefixed': 'u/Teddie1', 'subscribers': 0, 'display_name': 'u_Teddie1', 'user_is_banned': False, 'is_default_icon': True, 'icon_img': 'https://www.redditstatic.com/avatars/avatar_default_20_46D160.png', 'over_18': False, 'is_default_banner': True, 'user_is_contributor': False, 'icon_color': '#46D160', 'header_size': None, 'user_is_muted': False, 'banner_size': None, 'user_is_subscriber': False, 'banner_img': '', 'title': '', 'default_set': True, 'primary_color': ''}, 'is_gold': False, 'is_friend': False, 'id': 'onmrdaz', 'has_verified_email': False, 'pref_show_snoovatar': False, 'created': 1513591659.0, 'created_utc': 1513562859.0, 'link_karma': 24}\n",
      "Sending a message to user Teddie1 with data {'first_comment_week': 4, 'username': 'Teddie1', 'url': 'https://docs.google.com/forms/d/e/1FAIpQLSfmgOcsF0ALqWGPHGpJq2cwUr-xIG-uizbQqXPzPuTkrPM-Lg/viewform?usp=pp_url&entry.360321409=Teddie1&entry.1933578897', 'deleted': False, 'get_info_date': '2018-04-17 14:00:02.575472'}\n"
     ]
    },
    {
     "name": "stderr",
     "output_type": "stream",
     "text": [
      "substituting https://oauth.reddit.com for https://api.reddit.com in url\n",
      "POST: https://oauth.reddit.com/api/compose/.json\n"
     ]
    },
    {
     "name": "stdout",
     "output_type": "stream",
     "text": [
      "Message successfully sent to user Teddie1\n",
      "APPENDING TO FILE: {'username': 'Teddie1', 'get_info_date': '2018-04-17 14:00:02.575472', 'deleted': False, 'url': 'https://docs.google.com/forms/d/e/1FAIpQLSfmgOcsF0ALqWGPHGpJq2cwUr-xIG-uizbQqXPzPuTkrPM-Lg/viewform?usp=pp_url&entry.360321409=Teddie1&entry.1933578897', 'first_comment_week': 4}\n",
      "first_comment_week: 4\n",
      "url: https://docs.google.com/forms/d/e/1FAIpQLSfmgOcsF0ALqWGPHGpJq2cwUr-xIG-uizbQqXPzPuTkrPM-Lg/viewform?usp=pp_url&entry.360321409=Teddie1&entry.1933578897\n",
      "get_info_data: 2018-04-17 14:00:02.575472\n",
      "deleted: False\n",
      "User Moostieoo found: {'is_mod': False, 'has_subscribed': True, 'hide_from_robots': False, 'verified': False, 'icon_img': 'https://www.redditstatic.com/avatars/avatar_default_18_FF66AC.png', 'is_employee': False, 'comment_karma': 9403, 'name': 'Moostieoo', 'subreddit': None, 'is_gold': False, 'is_friend': False, 'id': '3c3eo1', 'has_verified_email': False, 'pref_show_snoovatar': False, 'created': 1493745257.0, 'created_utc': 1493716457.0, 'link_karma': 887}\n",
      "Sending a message to user Moostieoo with data {'first_comment_week': 4, 'username': 'Moostieoo', 'url': 'https://docs.google.com/forms/d/e/1FAIpQLSfmgOcsF0ALqWGPHGpJq2cwUr-xIG-uizbQqXPzPuTkrPM-Lg/viewform?usp=pp_url&entry.360321409=Moostieoo&entry.1933578897', 'deleted': False, 'get_info_date': '2018-04-17 14:00:06.614949'}\n"
     ]
    },
    {
     "name": "stderr",
     "output_type": "stream",
     "text": [
      "substituting https://oauth.reddit.com for https://api.reddit.com in url\n",
      "GET: https://oauth.reddit.com/user/Moostieoo/about/.json\n",
      "substituting https://oauth.reddit.com for https://api.reddit.com in url\n",
      "POST: https://oauth.reddit.com/api/compose/.json\n"
     ]
    },
    {
     "name": "stdout",
     "output_type": "stream",
     "text": [
      "Message successfully sent to user Moostieoo\n",
      "APPENDING TO FILE: {'username': 'Moostieoo', 'get_info_date': '2018-04-17 14:00:06.614949', 'deleted': False, 'url': 'https://docs.google.com/forms/d/e/1FAIpQLSfmgOcsF0ALqWGPHGpJq2cwUr-xIG-uizbQqXPzPuTkrPM-Lg/viewform?usp=pp_url&entry.360321409=Moostieoo&entry.1933578897', 'first_comment_week': 4}\n",
      "first_comment_week: 4\n",
      "url: https://docs.google.com/forms/d/e/1FAIpQLSfmgOcsF0ALqWGPHGpJq2cwUr-xIG-uizbQqXPzPuTkrPM-Lg/viewform?usp=pp_url&entry.360321409=Moostieoo&entry.1933578897\n",
      "get_info_data: 2018-04-17 14:00:06.614949\n",
      "deleted: False\n"
     ]
    },
    {
     "name": "stderr",
     "output_type": "stream",
     "text": [
      "substituting https://oauth.reddit.com for https://api.reddit.com in url\n",
      "GET: https://oauth.reddit.com/user/slowpokey1/about/.json\n"
     ]
    },
    {
     "name": "stdout",
     "output_type": "stream",
     "text": [
      "User slowpokey1 found: {'is_mod': False, 'has_subscribed': True, 'hide_from_robots': False, 'verified': True, 'icon_img': 'https://www.redditstatic.com/avatars/avatar_default_18_94E044.png', 'is_employee': False, 'comment_karma': 119, 'name': 'slowpokey1', 'subreddit': {'icon_size': [256, 256], 'key_color': '', 'link_flair_enabled': False, 'subreddit_type': 'user', 'name': 't5_7uq2e', 'user_is_moderator': False, 'community_icon': '', 'header_img': None, 'public_description': '', 'show_media': True, 'audience_target': '', 'url': '/user/slowpokey1/', 'description': '', 'display_name_prefixed': 'u/slowpokey1', 'subscribers': 0, 'display_name': 'u_slowpokey1', 'user_is_banned': False, 'is_default_icon': True, 'icon_img': 'https://www.redditstatic.com/avatars/avatar_default_18_94E044.png', 'over_18': False, 'is_default_banner': True, 'user_is_contributor': False, 'icon_color': '#94E044', 'header_size': None, 'user_is_muted': False, 'banner_size': None, 'user_is_subscriber': False, 'banner_img': '', 'title': '', 'default_set': True, 'primary_color': ''}, 'is_gold': False, 'is_friend': False, 'id': '3b9ar9d', 'has_verified_email': True, 'pref_show_snoovatar': False, 'created': 1496823308.0, 'created_utc': 1496794508.0, 'link_karma': 5}\n",
      "Sending a message to user slowpokey1 with data {'first_comment_week': 4, 'username': 'slowpokey1', 'url': 'https://docs.google.com/forms/d/e/1FAIpQLSfmgOcsF0ALqWGPHGpJq2cwUr-xIG-uizbQqXPzPuTkrPM-Lg/viewform?usp=pp_url&entry.360321409=slowpokey1&entry.1933578897', 'deleted': False, 'get_info_date': '2018-04-17 14:00:11.109230'}\n"
     ]
    },
    {
     "name": "stderr",
     "output_type": "stream",
     "text": [
      "substituting https://oauth.reddit.com for https://api.reddit.com in url\n",
      "POST: https://oauth.reddit.com/api/compose/.json\n"
     ]
    },
    {
     "name": "stdout",
     "output_type": "stream",
     "text": [
      "Message successfully sent to user slowpokey1\n",
      "APPENDING TO FILE: {'username': 'slowpokey1', 'get_info_date': '2018-04-17 14:00:11.109230', 'deleted': False, 'url': 'https://docs.google.com/forms/d/e/1FAIpQLSfmgOcsF0ALqWGPHGpJq2cwUr-xIG-uizbQqXPzPuTkrPM-Lg/viewform?usp=pp_url&entry.360321409=slowpokey1&entry.1933578897', 'first_comment_week': 4}\n",
      "first_comment_week: 4\n",
      "url: https://docs.google.com/forms/d/e/1FAIpQLSfmgOcsF0ALqWGPHGpJq2cwUr-xIG-uizbQqXPzPuTkrPM-Lg/viewform?usp=pp_url&entry.360321409=slowpokey1&entry.1933578897\n",
      "get_info_data: 2018-04-17 14:00:11.109230\n",
      "deleted: False\n",
      "User calllmeAl found: {'is_mod': False, 'has_subscribed': True, 'hide_from_robots': False, 'verified': True, 'icon_img': 'https://www.redditstatic.com/avatars/avatar_default_04_FF8717.png', 'is_employee': False, 'comment_karma': 203, 'name': 'calllmeAl', 'subreddit': {'icon_size': [256, 256], 'key_color': '', 'link_flair_enabled': False, 'subreddit_type': 'user', 'name': 't5_gz9km', 'user_is_moderator': False, 'community_icon': '', 'header_img': None, 'public_description': '', 'show_media': True, 'audience_target': '', 'url': '/user/calllmeAl/', 'description': '', 'display_name_prefixed': 'u/calllmeAl', 'subscribers': 0, 'display_name': 'u_calllmeAl', 'user_is_banned': False, 'is_default_icon': True, 'icon_img': 'https://www.redditstatic.com/avatars/avatar_default_04_FF8717.png', 'over_18': False, 'is_default_banner': True, 'user_is_contributor': False, 'icon_color': '#FF8717', 'header_size': None, 'user_is_muted': False, 'banner_size': None, 'user_is_subscriber': False, 'banner_img': '', 'title': '', 'default_set': True, 'primary_color': ''}, 'is_gold': False, 'is_friend': False, 'id': '122pelif', 'has_verified_email': True, 'pref_show_snoovatar': False, 'created': 1521367512.0, 'created_utc': 1521338712.0, 'link_karma': 1}\n",
      "Sending a message to user calllmeAl with data {'first_comment_week': 4, 'username': 'calllmeAl', 'url': 'https://docs.google.com/forms/d/e/1FAIpQLSfmgOcsF0ALqWGPHGpJq2cwUr-xIG-uizbQqXPzPuTkrPM-Lg/viewform?usp=pp_url&entry.360321409=calllmeAl&entry.1933578897', 'deleted': False, 'get_info_date': '2018-04-17 14:00:15.195911'}\n"
     ]
    },
    {
     "name": "stderr",
     "output_type": "stream",
     "text": [
      "substituting https://oauth.reddit.com for https://api.reddit.com in url\n",
      "GET: https://oauth.reddit.com/user/calllmeAl/about/.json\n",
      "substituting https://oauth.reddit.com for https://api.reddit.com in url\n",
      "POST: https://oauth.reddit.com/api/compose/.json\n"
     ]
    },
    {
     "name": "stdout",
     "output_type": "stream",
     "text": [
      "Message successfully sent to user calllmeAl\n",
      "APPENDING TO FILE: {'username': 'calllmeAl', 'get_info_date': '2018-04-17 14:00:15.195911', 'deleted': False, 'url': 'https://docs.google.com/forms/d/e/1FAIpQLSfmgOcsF0ALqWGPHGpJq2cwUr-xIG-uizbQqXPzPuTkrPM-Lg/viewform?usp=pp_url&entry.360321409=calllmeAl&entry.1933578897', 'first_comment_week': 4}\n",
      "first_comment_week: 4\n",
      "url: https://docs.google.com/forms/d/e/1FAIpQLSfmgOcsF0ALqWGPHGpJq2cwUr-xIG-uizbQqXPzPuTkrPM-Lg/viewform?usp=pp_url&entry.360321409=calllmeAl&entry.1933578897\n",
      "get_info_data: 2018-04-17 14:00:15.195911\n",
      "deleted: False\n",
      "User RetroCraft found: {'is_mod': False, 'has_subscribed': True, 'hide_from_robots': True, 'verified': False, 'icon_img': 'https://www.redditstatic.com/avatars/avatar_default_03_FFD635.png', 'is_employee': False, 'comment_karma': 2669, 'name': 'RetroCraft', 'subreddit': None, 'is_gold': True, 'is_friend': False, 'id': 'la2ju', 'has_verified_email': True, 'pref_show_snoovatar': False, 'created': 1423616218.0, 'created_utc': 1423587418.0, 'link_karma': 329}\n",
      "Sending a message to user RetroCraft with data {'first_comment_week': 4, 'username': 'RetroCraft', 'url': 'https://docs.google.com/forms/d/e/1FAIpQLSfmgOcsF0ALqWGPHGpJq2cwUr-xIG-uizbQqXPzPuTkrPM-Lg/viewform?usp=pp_url&entry.360321409=RetroCraft&entry.1933578897', 'deleted': False, 'get_info_date': '2018-04-17 14:00:19.420795'}\n"
     ]
    },
    {
     "name": "stderr",
     "output_type": "stream",
     "text": [
      "substituting https://oauth.reddit.com for https://api.reddit.com in url\n",
      "GET: https://oauth.reddit.com/user/RetroCraft/about/.json\n",
      "substituting https://oauth.reddit.com for https://api.reddit.com in url\n",
      "POST: https://oauth.reddit.com/api/compose/.json\n"
     ]
    },
    {
     "name": "stdout",
     "output_type": "stream",
     "text": [
      "Message successfully sent to user RetroCraft\n",
      "APPENDING TO FILE: {'username': 'RetroCraft', 'get_info_date': '2018-04-17 14:00:19.420795', 'deleted': False, 'url': 'https://docs.google.com/forms/d/e/1FAIpQLSfmgOcsF0ALqWGPHGpJq2cwUr-xIG-uizbQqXPzPuTkrPM-Lg/viewform?usp=pp_url&entry.360321409=RetroCraft&entry.1933578897', 'first_comment_week': 4}\n",
      "first_comment_week: 4\n",
      "url: https://docs.google.com/forms/d/e/1FAIpQLSfmgOcsF0ALqWGPHGpJq2cwUr-xIG-uizbQqXPzPuTkrPM-Lg/viewform?usp=pp_url&entry.360321409=RetroCraft&entry.1933578897\n",
      "get_info_data: 2018-04-17 14:00:19.420795\n",
      "deleted: False\n",
      "User TAstormzy523 found: {'is_mod': False, 'has_subscribed': True, 'hide_from_robots': False, 'verified': True, 'icon_img': 'https://www.redditstatic.com/avatars/avatar_default_09_C18D42.png', 'is_employee': False, 'comment_karma': -47, 'name': 'TAstormzy523', 'subreddit': {'icon_size': [256, 256], 'key_color': '', 'link_flair_enabled': False, 'subreddit_type': 'user', 'name': 't5_ez7fx', 'user_is_moderator': False, 'community_icon': '', 'header_img': None, 'public_description': '', 'show_media': True, 'audience_target': '', 'url': '/user/TAstormzy523/', 'description': '', 'display_name_prefixed': 'u/TAstormzy523', 'subscribers': 0, 'display_name': 'u_TAstormzy523', 'user_is_banned': False, 'is_default_icon': True, 'icon_img': 'https://www.redditstatic.com/avatars/avatar_default_09_C18D42.png', 'over_18': False, 'is_default_banner': True, 'user_is_contributor': False, 'icon_color': '#C18D42', 'header_size': None, 'user_is_muted': False, 'banner_size': None, 'user_is_subscriber': False, 'banner_img': '', 'title': '', 'default_set': True, 'primary_color': ''}, 'is_gold': False, 'is_friend': False, 'id': 'toz7fhg', 'has_verified_email': False, 'pref_show_snoovatar': False, 'created': 1516912235.0, 'created_utc': 1516883435.0, 'link_karma': 6}\n",
      "Sending a message to user TAstormzy523 with data {'first_comment_week': 4, 'username': 'TAstormzy523', 'url': 'https://docs.google.com/forms/d/e/1FAIpQLSfmgOcsF0ALqWGPHGpJq2cwUr-xIG-uizbQqXPzPuTkrPM-Lg/viewform?usp=pp_url&entry.360321409=TAstormzy523&entry.1933578897', 'deleted': False, 'get_info_date': '2018-04-17 14:00:23.789708'}\n"
     ]
    },
    {
     "name": "stderr",
     "output_type": "stream",
     "text": [
      "substituting https://oauth.reddit.com for https://api.reddit.com in url\n",
      "GET: https://oauth.reddit.com/user/TAstormzy523/about/.json\n",
      "substituting https://oauth.reddit.com for https://api.reddit.com in url\n",
      "POST: https://oauth.reddit.com/api/compose/.json\n"
     ]
    },
    {
     "name": "stdout",
     "output_type": "stream",
     "text": [
      "Message successfully sent to user TAstormzy523\n",
      "APPENDING TO FILE: {'username': 'TAstormzy523', 'get_info_date': '2018-04-17 14:00:23.789708', 'deleted': False, 'url': 'https://docs.google.com/forms/d/e/1FAIpQLSfmgOcsF0ALqWGPHGpJq2cwUr-xIG-uizbQqXPzPuTkrPM-Lg/viewform?usp=pp_url&entry.360321409=TAstormzy523&entry.1933578897', 'first_comment_week': 4}\n",
      "first_comment_week: 4\n",
      "url: https://docs.google.com/forms/d/e/1FAIpQLSfmgOcsF0ALqWGPHGpJq2cwUr-xIG-uizbQqXPzPuTkrPM-Lg/viewform?usp=pp_url&entry.360321409=TAstormzy523&entry.1933578897\n",
      "get_info_data: 2018-04-17 14:00:23.789708\n",
      "deleted: False\n",
      "User DreamTeam- found: {'name': 'DreamTeam-', 'is_suspended': True}\n",
      "Sending a message to user DreamTeam- with data {'first_comment_week': 4, 'username': 'DreamTeam-', 'url': 'https://docs.google.com/forms/d/e/1FAIpQLSfmgOcsF0ALqWGPHGpJq2cwUr-xIG-uizbQqXPzPuTkrPM-Lg/viewform?usp=pp_url&entry.360321409=DreamTeam-&entry.1933578897', 'deleted': False, 'get_info_date': '2018-04-17 14:00:27.898407'}\n"
     ]
    },
    {
     "name": "stderr",
     "output_type": "stream",
     "text": [
      "substituting https://oauth.reddit.com for https://api.reddit.com in url\n",
      "GET: https://oauth.reddit.com/user/DreamTeam-/about/.json\n",
      "substituting https://oauth.reddit.com for https://api.reddit.com in url\n",
      "POST: https://oauth.reddit.com/api/compose/.json\n"
     ]
    },
    {
     "name": "stdout",
     "output_type": "stream",
     "text": [
      "Message successfully sent to user DreamTeam-\n",
      "APPENDING TO FILE: {'username': 'DreamTeam-', 'get_info_date': '2018-04-17 14:00:27.898407', 'deleted': False, 'url': 'https://docs.google.com/forms/d/e/1FAIpQLSfmgOcsF0ALqWGPHGpJq2cwUr-xIG-uizbQqXPzPuTkrPM-Lg/viewform?usp=pp_url&entry.360321409=DreamTeam-&entry.1933578897', 'first_comment_week': 4}\n",
      "first_comment_week: 4\n",
      "url: https://docs.google.com/forms/d/e/1FAIpQLSfmgOcsF0ALqWGPHGpJq2cwUr-xIG-uizbQqXPzPuTkrPM-Lg/viewform?usp=pp_url&entry.360321409=DreamTeam-&entry.1933578897\n",
      "get_info_data: 2018-04-17 14:00:27.898407\n",
      "deleted: False\n",
      "User acceyth found: {'is_mod': False, 'has_subscribed': True, 'hide_from_robots': False, 'verified': True, 'icon_img': 'https://www.redditstatic.com/avatars/avatar_default_02_0DD3BB.png', 'is_employee': False, 'comment_karma': 586, 'name': 'acceyth', 'subreddit': {'icon_size': [256, 256], 'key_color': '', 'link_flair_enabled': False, 'subreddit_type': 'user', 'name': 't5_ek76d', 'user_is_moderator': False, 'community_icon': '', 'header_img': None, 'public_description': '', 'show_media': True, 'audience_target': '', 'url': '/user/acceyth/', 'description': '', 'display_name_prefixed': 'u/acceyth', 'subscribers': 0, 'display_name': 'u_acceyth', 'user_is_banned': False, 'is_default_icon': True, 'icon_img': 'https://www.redditstatic.com/avatars/avatar_default_02_0DD3BB.png', 'over_18': False, 'is_default_banner': True, 'user_is_contributor': False, 'icon_color': '#0DD3BB', 'header_size': None, 'user_is_muted': False, 'banner_size': None, 'user_is_subscriber': False, 'banner_img': '', 'title': '', 'default_set': True, 'primary_color': ''}, 'is_gold': False, 'is_friend': False, 'id': 'aw9xh', 'has_verified_email': False, 'pref_show_snoovatar': False, 'created': 1362991075.0, 'created_utc': 1362962275.0, 'link_karma': 768}\n",
      "Sending a message to user acceyth with data {'first_comment_week': 4, 'username': 'acceyth', 'url': 'https://docs.google.com/forms/d/e/1FAIpQLSfmgOcsF0ALqWGPHGpJq2cwUr-xIG-uizbQqXPzPuTkrPM-Lg/viewform?usp=pp_url&entry.360321409=acceyth&entry.1933578897', 'deleted': False, 'get_info_date': '2018-04-17 14:00:32.096549'}\n"
     ]
    },
    {
     "name": "stderr",
     "output_type": "stream",
     "text": [
      "substituting https://oauth.reddit.com for https://api.reddit.com in url\n",
      "GET: https://oauth.reddit.com/user/acceyth/about/.json\n",
      "substituting https://oauth.reddit.com for https://api.reddit.com in url\n",
      "POST: https://oauth.reddit.com/api/compose/.json\n"
     ]
    },
    {
     "name": "stdout",
     "output_type": "stream",
     "text": [
      "Message successfully sent to user acceyth\n",
      "APPENDING TO FILE: {'username': 'acceyth', 'get_info_date': '2018-04-17 14:00:32.096549', 'deleted': False, 'url': 'https://docs.google.com/forms/d/e/1FAIpQLSfmgOcsF0ALqWGPHGpJq2cwUr-xIG-uizbQqXPzPuTkrPM-Lg/viewform?usp=pp_url&entry.360321409=acceyth&entry.1933578897', 'first_comment_week': 4}\n",
      "first_comment_week: 4\n",
      "url: https://docs.google.com/forms/d/e/1FAIpQLSfmgOcsF0ALqWGPHGpJq2cwUr-xIG-uizbQqXPzPuTkrPM-Lg/viewform?usp=pp_url&entry.360321409=acceyth&entry.1933578897\n",
      "get_info_data: 2018-04-17 14:00:32.096549\n",
      "deleted: False\n",
      "User not found: bbish19\n"
     ]
    },
    {
     "name": "stderr",
     "output_type": "stream",
     "text": [
      "substituting https://oauth.reddit.com for https://api.reddit.com in url\n",
      "GET: https://oauth.reddit.com/user/bbish19/about/.json\n",
      "substituting https://oauth.reddit.com for https://api.reddit.com in url\n",
      "GET: https://oauth.reddit.com/user/Mygoodnessisit430/about/.json\n"
     ]
    },
    {
     "name": "stdout",
     "output_type": "stream",
     "text": [
      "User Mygoodnessisit430 found: {'is_mod': False, 'has_subscribed': True, 'hide_from_robots': False, 'verified': False, 'icon_img': 'https://www.redditstatic.com/avatars/avatar_default_08_4856A3.png', 'is_employee': False, 'comment_karma': 16941, 'name': 'Mygoodnessisit430', 'subreddit': None, 'is_gold': True, 'is_friend': False, 'id': 'hygi7', 'has_verified_email': False, 'pref_show_snoovatar': False, 'created': 1408517783.0, 'created_utc': 1408488983.0, 'link_karma': 32}\n",
      "Sending a message to user Mygoodnessisit430 with data {'first_comment_week': 4, 'username': 'Mygoodnessisit430', 'url': 'https://docs.google.com/forms/d/e/1FAIpQLSfmgOcsF0ALqWGPHGpJq2cwUr-xIG-uizbQqXPzPuTkrPM-Lg/viewform?usp=pp_url&entry.360321409=Mygoodnessisit430&entry.1933578897', 'deleted': False, 'get_info_date': '2018-04-17 14:00:38.641429'}\n"
     ]
    },
    {
     "name": "stderr",
     "output_type": "stream",
     "text": [
      "substituting https://oauth.reddit.com for https://api.reddit.com in url\n",
      "POST: https://oauth.reddit.com/api/compose/.json\n"
     ]
    },
    {
     "name": "stdout",
     "output_type": "stream",
     "text": [
      "Message successfully sent to user Mygoodnessisit430\n",
      "APPENDING TO FILE: {'username': 'Mygoodnessisit430', 'get_info_date': '2018-04-17 14:00:38.641429', 'deleted': False, 'url': 'https://docs.google.com/forms/d/e/1FAIpQLSfmgOcsF0ALqWGPHGpJq2cwUr-xIG-uizbQqXPzPuTkrPM-Lg/viewform?usp=pp_url&entry.360321409=Mygoodnessisit430&entry.1933578897', 'first_comment_week': 4}\n",
      "first_comment_week: 4\n",
      "url: https://docs.google.com/forms/d/e/1FAIpQLSfmgOcsF0ALqWGPHGpJq2cwUr-xIG-uizbQqXPzPuTkrPM-Lg/viewform?usp=pp_url&entry.360321409=Mygoodnessisit430&entry.1933578897\n",
      "get_info_data: 2018-04-17 14:00:38.641429\n",
      "deleted: False\n",
      "User PfenixArtwork found: {'is_mod': False, 'has_subscribed': True, 'hide_from_robots': True, 'verified': True, 'icon_img': 'https://s.redditmedia.com/t5_h4yv4/styles/profileIcon_wfsvx2xnh7n01.jpg?fit=crop&crop=faces%2Centropy&arh=1.0&w=256&h=256&s=55f81576589d007b2b042feae0b2192d', 'is_employee': False, 'comment_karma': 5239, 'name': 'PfenixArtwork', 'subreddit': {'icon_size': [256, 256], 'key_color': '', 'link_flair_enabled': False, 'subreddit_type': 'user', 'name': 't5_h4yv4', 'user_is_moderator': False, 'community_icon': '', 'header_img': None, 'public_description': \"I'm an artist, an engineer, and an educator. If you've disagreed with me on something and want to change my mind, I welcome data from reputable, unbiased sources. \", 'show_media': True, 'audience_target': '', 'url': '/user/PfenixArtwork/', 'description': '', 'display_name_prefixed': 'u/PfenixArtwork', 'subscribers': 0, 'display_name': 'u_PfenixArtwork', 'user_is_banned': False, 'is_default_icon': False, 'icon_img': 'https://s.redditmedia.com/t5_h4yv4/styles/profileIcon_wfsvx2xnh7n01.jpg?fit=crop&crop=faces%2Centropy&arh=1.0&w=256&h=256&s=55f81576589d007b2b042feae0b2192d', 'over_18': False, 'is_default_banner': True, 'user_is_contributor': False, 'icon_color': '', 'header_size': None, 'user_is_muted': False, 'banner_size': None, 'user_is_subscriber': False, 'banner_img': '', 'title': 'Pfenix Artwork', 'default_set': True, 'primary_color': ''}, 'is_gold': False, 'is_friend': False, 'id': '16awyp', 'has_verified_email': True, 'pref_show_snoovatar': False, 'created': 1489904268.0, 'created_utc': 1489875468.0, 'link_karma': 774}\n"
     ]
    },
    {
     "name": "stderr",
     "output_type": "stream",
     "text": [
      "substituting https://oauth.reddit.com for https://api.reddit.com in url\n",
      "GET: https://oauth.reddit.com/user/PfenixArtwork/about/.json\n"
     ]
    },
    {
     "name": "stdout",
     "output_type": "stream",
     "text": [
      "Sending a message to user PfenixArtwork with data {'first_comment_week': 4, 'username': 'PfenixArtwork', 'url': 'https://docs.google.com/forms/d/e/1FAIpQLSfmgOcsF0ALqWGPHGpJq2cwUr-xIG-uizbQqXPzPuTkrPM-Lg/viewform?usp=pp_url&entry.360321409=PfenixArtwork&entry.1933578897', 'deleted': False, 'get_info_date': '2018-04-17 14:00:42.718893'}\n"
     ]
    },
    {
     "name": "stderr",
     "output_type": "stream",
     "text": [
      "substituting https://oauth.reddit.com for https://api.reddit.com in url\n",
      "POST: https://oauth.reddit.com/api/compose/.json\n"
     ]
    },
    {
     "name": "stdout",
     "output_type": "stream",
     "text": [
      "Message successfully sent to user PfenixArtwork\n",
      "APPENDING TO FILE: {'username': 'PfenixArtwork', 'get_info_date': '2018-04-17 14:00:42.718893', 'deleted': False, 'url': 'https://docs.google.com/forms/d/e/1FAIpQLSfmgOcsF0ALqWGPHGpJq2cwUr-xIG-uizbQqXPzPuTkrPM-Lg/viewform?usp=pp_url&entry.360321409=PfenixArtwork&entry.1933578897', 'first_comment_week': 4}\n",
      "first_comment_week: 4\n",
      "url: https://docs.google.com/forms/d/e/1FAIpQLSfmgOcsF0ALqWGPHGpJq2cwUr-xIG-uizbQqXPzPuTkrPM-Lg/viewform?usp=pp_url&entry.360321409=PfenixArtwork&entry.1933578897\n",
      "get_info_data: 2018-04-17 14:00:42.718893\n",
      "deleted: False\n",
      "User Mixter_Ash found: {'is_mod': False, 'has_subscribed': True, 'hide_from_robots': False, 'verified': True, 'icon_img': 'https://s.redditmedia.com/t5_9698j/styles/communityIcon_bppu2n2by9j01.jpg?fit=crop&crop=faces%2Centropy&arh=1.0&w=256&h=256&s=8d205a6be25172007d2a5017c9fc8d78', 'is_employee': False, 'comment_karma': 5224, 'name': 'Mixter_Ash', 'subreddit': {'icon_size': [256, 256], 'key_color': '', 'link_flair_enabled': False, 'subreddit_type': 'user', 'name': 't5_9698j', 'user_is_moderator': False, 'community_icon': '', 'header_img': None, 'public_description': '', 'show_media': True, 'audience_target': '', 'url': '/user/Mixter_Ash/', 'description': '', 'display_name_prefixed': 'u/Mixter_Ash', 'subscribers': 0, 'display_name': 'u_Mixter_Ash', 'user_is_banned': False, 'is_default_icon': False, 'icon_img': 'https://s.redditmedia.com/t5_9698j/styles/communityIcon_bppu2n2by9j01.jpg?fit=crop&crop=faces%2Centropy&arh=1.0&w=256&h=256&s=8d205a6be25172007d2a5017c9fc8d78', 'over_18': False, 'is_default_banner': True, 'user_is_contributor': False, 'icon_color': '', 'header_size': None, 'user_is_muted': False, 'banner_size': None, 'user_is_subscriber': False, 'banner_img': '', 'title': 'Mixter Ash', 'default_set': True, 'primary_color': ''}, 'is_gold': False, 'is_friend': False, 'id': '179miz', 'has_verified_email': True, 'pref_show_snoovatar': False, 'created': 1492779412.0, 'created_utc': 1492750612.0, 'link_karma': 195}\n",
      "Sending a message to user Mixter_Ash with data {'first_comment_week': 4, 'username': 'Mixter_Ash', 'url': 'https://docs.google.com/forms/d/e/1FAIpQLSfmgOcsF0ALqWGPHGpJq2cwUr-xIG-uizbQqXPzPuTkrPM-Lg/viewform?usp=pp_url&entry.360321409=Mixter_Ash&entry.1933578897', 'deleted': False, 'get_info_date': '2018-04-17 14:00:46.979134'}\n"
     ]
    },
    {
     "name": "stderr",
     "output_type": "stream",
     "text": [
      "substituting https://oauth.reddit.com for https://api.reddit.com in url\n",
      "GET: https://oauth.reddit.com/user/Mixter_Ash/about/.json\n",
      "substituting https://oauth.reddit.com for https://api.reddit.com in url\n",
      "POST: https://oauth.reddit.com/api/compose/.json\n"
     ]
    },
    {
     "name": "stdout",
     "output_type": "stream",
     "text": [
      "Message successfully sent to user Mixter_Ash\n",
      "APPENDING TO FILE: {'username': 'Mixter_Ash', 'get_info_date': '2018-04-17 14:00:46.979134', 'deleted': False, 'url': 'https://docs.google.com/forms/d/e/1FAIpQLSfmgOcsF0ALqWGPHGpJq2cwUr-xIG-uizbQqXPzPuTkrPM-Lg/viewform?usp=pp_url&entry.360321409=Mixter_Ash&entry.1933578897', 'first_comment_week': 4}\n",
      "first_comment_week: 4\n",
      "url: https://docs.google.com/forms/d/e/1FAIpQLSfmgOcsF0ALqWGPHGpJq2cwUr-xIG-uizbQqXPzPuTkrPM-Lg/viewform?usp=pp_url&entry.360321409=Mixter_Ash&entry.1933578897\n",
      "get_info_data: 2018-04-17 14:00:46.979134\n",
      "deleted: False\n",
      "User EternalAmbiguity found: {'is_mod': False, 'has_subscribed': True, 'hide_from_robots': False, 'verified': True, 'icon_img': 'https://www.redditstatic.com/avatars/avatar_default_11_EA0027.png', 'is_employee': False, 'comment_karma': 2574, 'name': 'EternalAmbiguity', 'subreddit': {'icon_size': [256, 256], 'key_color': '', 'link_flair_enabled': False, 'subreddit_type': 'user', 'name': 't5_annet', 'user_is_moderator': False, 'community_icon': '', 'header_img': None, 'public_description': '', 'show_media': True, 'audience_target': '', 'url': '/user/EternalAmbiguity/', 'description': '', 'display_name_prefixed': 'u/EternalAmbiguity', 'subscribers': 0, 'display_name': 'u_EternalAmbiguity', 'user_is_banned': False, 'is_default_icon': True, 'icon_img': 'https://www.redditstatic.com/avatars/avatar_default_11_EA0027.png', 'over_18': False, 'is_default_banner': True, 'user_is_contributor': False, 'icon_color': '#EA0027', 'header_size': None, 'user_is_muted': False, 'banner_size': None, 'user_is_subscriber': False, 'banner_img': '', 'title': '', 'default_set': True, 'primary_color': ''}, 'is_gold': True, 'is_friend': False, 'id': 'hd0qe', 'has_verified_email': True, 'pref_show_snoovatar': False, 'created': 1405146013.0, 'created_utc': 1405117213.0, 'link_karma': 1146}\n",
      "Sending a message to user EternalAmbiguity with data {'first_comment_week': 4, 'username': 'EternalAmbiguity', 'url': 'https://docs.google.com/forms/d/e/1FAIpQLSfmgOcsF0ALqWGPHGpJq2cwUr-xIG-uizbQqXPzPuTkrPM-Lg/viewform?usp=pp_url&entry.360321409=EternalAmbiguity&entry.1933578897', 'deleted': False, 'get_info_date': '2018-04-17 14:00:51.263299'}\n"
     ]
    },
    {
     "name": "stderr",
     "output_type": "stream",
     "text": [
      "substituting https://oauth.reddit.com for https://api.reddit.com in url\n",
      "GET: https://oauth.reddit.com/user/EternalAmbiguity/about/.json\n",
      "substituting https://oauth.reddit.com for https://api.reddit.com in url\n",
      "POST: https://oauth.reddit.com/api/compose/.json\n"
     ]
    },
    {
     "name": "stdout",
     "output_type": "stream",
     "text": [
      "Message successfully sent to user EternalAmbiguity\n",
      "APPENDING TO FILE: {'username': 'EternalAmbiguity', 'get_info_date': '2018-04-17 14:00:51.263299', 'deleted': False, 'url': 'https://docs.google.com/forms/d/e/1FAIpQLSfmgOcsF0ALqWGPHGpJq2cwUr-xIG-uizbQqXPzPuTkrPM-Lg/viewform?usp=pp_url&entry.360321409=EternalAmbiguity&entry.1933578897', 'first_comment_week': 4}\n",
      "first_comment_week: 4\n",
      "url: https://docs.google.com/forms/d/e/1FAIpQLSfmgOcsF0ALqWGPHGpJq2cwUr-xIG-uizbQqXPzPuTkrPM-Lg/viewform?usp=pp_url&entry.360321409=EternalAmbiguity&entry.1933578897\n",
      "get_info_data: 2018-04-17 14:00:51.263299\n",
      "deleted: False\n",
      "User AtheaOfAltea found: {'is_mod': False, 'has_subscribed': True, 'hide_from_robots': True, 'verified': True, 'icon_img': 'https://s.redditmedia.com/t5_gs183/styles/profileIcon_184p080p5el01.jpg?fit=crop&crop=faces%2Centropy&arh=1.0&w=256&h=256&s=18eedc186ab57bfe328a8d8b0911aa4f', 'is_employee': False, 'comment_karma': 4028, 'name': 'AtheaOfAltea', 'subreddit': {'icon_size': [256, 256], 'key_color': '', 'link_flair_enabled': False, 'subreddit_type': 'user', 'name': 't5_gs183', 'user_is_moderator': False, 'community_icon': '', 'header_img': None, 'public_description': \"I have no real idea what I'm doing here.\", 'show_media': True, 'audience_target': '', 'url': '/user/AtheaOfAltea/', 'description': '', 'display_name_prefixed': 'u/AtheaOfAltea', 'subscribers': 0, 'display_name': 'u_AtheaOfAltea', 'user_is_banned': False, 'is_default_icon': False, 'icon_img': 'https://s.redditmedia.com/t5_gs183/styles/profileIcon_184p080p5el01.jpg?fit=crop&crop=faces%2Centropy&arh=1.0&w=256&h=256&s=18eedc186ab57bfe328a8d8b0911aa4f', 'over_18': False, 'is_default_banner': False, 'user_is_contributor': False, 'icon_color': '', 'header_size': None, 'user_is_muted': False, 'banner_size': [1280, 384], 'user_is_subscriber': False, 'banner_img': 'https://s.redditmedia.com/t5_gs183/styles/profileBanner_zqdbzp306el01.png?fit=crop&crop=center&arh=0.3&w=1280&h=384&s=287ab5b9c1e798f8a253e36c59972d6d', 'title': 'Athea of Altea', 'default_set': True, 'primary_color': ''}, 'is_gold': True, 'is_friend': False, 'id': '1177f7b3', 'has_verified_email': True, 'pref_show_snoovatar': False, 'created': 1520912131.0, 'created_utc': 1520883331.0, 'link_karma': 997}\n",
      "Sending a message to user AtheaOfAltea with data {'first_comment_week': 4, 'username': 'AtheaOfAltea', 'url': 'https://docs.google.com/forms/d/e/1FAIpQLSfmgOcsF0ALqWGPHGpJq2cwUr-xIG-uizbQqXPzPuTkrPM-Lg/viewform?usp=pp_url&entry.360321409=AtheaOfAltea&entry.1933578897', 'deleted': False, 'get_info_date': '2018-04-17 14:00:55.416606'}\n"
     ]
    },
    {
     "name": "stderr",
     "output_type": "stream",
     "text": [
      "substituting https://oauth.reddit.com for https://api.reddit.com in url\n",
      "GET: https://oauth.reddit.com/user/AtheaOfAltea/about/.json\n",
      "substituting https://oauth.reddit.com for https://api.reddit.com in url\n",
      "POST: https://oauth.reddit.com/api/compose/.json\n"
     ]
    },
    {
     "name": "stdout",
     "output_type": "stream",
     "text": [
      "Message successfully sent to user AtheaOfAltea\n",
      "APPENDING TO FILE: {'username': 'AtheaOfAltea', 'get_info_date': '2018-04-17 14:00:55.416606', 'deleted': False, 'url': 'https://docs.google.com/forms/d/e/1FAIpQLSfmgOcsF0ALqWGPHGpJq2cwUr-xIG-uizbQqXPzPuTkrPM-Lg/viewform?usp=pp_url&entry.360321409=AtheaOfAltea&entry.1933578897', 'first_comment_week': 4}\n",
      "first_comment_week: 4\n",
      "url: https://docs.google.com/forms/d/e/1FAIpQLSfmgOcsF0ALqWGPHGpJq2cwUr-xIG-uizbQqXPzPuTkrPM-Lg/viewform?usp=pp_url&entry.360321409=AtheaOfAltea&entry.1933578897\n",
      "get_info_data: 2018-04-17 14:00:55.416606\n",
      "deleted: False\n",
      "User PeachyArt found: {'is_mod': True, 'has_subscribed': True, 'hide_from_robots': False, 'verified': True, 'icon_img': 'https://www.redditstatic.com/avatars/avatar_default_14_EA0027.png', 'is_employee': False, 'comment_karma': 452, 'name': 'PeachyArt', 'subreddit': {'icon_size': [256, 256], 'key_color': '', 'link_flair_enabled': False, 'subreddit_type': 'user', 'name': 't5_8uzfa', 'user_is_moderator': False, 'community_icon': '', 'header_img': None, 'public_description': '', 'show_media': True, 'audience_target': '', 'url': '/user/PeachyArt/', 'description': '', 'display_name_prefixed': 'u/PeachyArt', 'subscribers': 0, 'display_name': 'u_PeachyArt', 'user_is_banned': False, 'is_default_icon': True, 'icon_img': 'https://www.redditstatic.com/avatars/avatar_default_14_EA0027.png', 'over_18': False, 'is_default_banner': True, 'user_is_contributor': False, 'icon_color': '#EA0027', 'header_size': None, 'user_is_muted': False, 'banner_size': None, 'user_is_subscriber': False, 'banner_img': '', 'title': '', 'default_set': True, 'primary_color': ''}, 'is_gold': False, 'is_friend': False, 'id': '8oob7qx', 'has_verified_email': True, 'pref_show_snoovatar': False, 'created': 1501323189.0, 'created_utc': 1501294389.0, 'link_karma': 269}\n",
      "Sending a message to user PeachyArt with data {'first_comment_week': 4, 'username': 'PeachyArt', 'url': 'https://docs.google.com/forms/d/e/1FAIpQLSfmgOcsF0ALqWGPHGpJq2cwUr-xIG-uizbQqXPzPuTkrPM-Lg/viewform?usp=pp_url&entry.360321409=PeachyArt&entry.1933578897', 'deleted': False, 'get_info_date': '2018-04-17 14:00:59.832044'}\n"
     ]
    },
    {
     "name": "stderr",
     "output_type": "stream",
     "text": [
      "substituting https://oauth.reddit.com for https://api.reddit.com in url\n",
      "GET: https://oauth.reddit.com/user/PeachyArt/about/.json\n",
      "substituting https://oauth.reddit.com for https://api.reddit.com in url\n",
      "POST: https://oauth.reddit.com/api/compose/.json\n"
     ]
    },
    {
     "name": "stdout",
     "output_type": "stream",
     "text": [
      "Message successfully sent to user PeachyArt\n",
      "APPENDING TO FILE: {'username': 'PeachyArt', 'get_info_date': '2018-04-17 14:00:59.832044', 'deleted': False, 'url': 'https://docs.google.com/forms/d/e/1FAIpQLSfmgOcsF0ALqWGPHGpJq2cwUr-xIG-uizbQqXPzPuTkrPM-Lg/viewform?usp=pp_url&entry.360321409=PeachyArt&entry.1933578897', 'first_comment_week': 4}\n",
      "first_comment_week: 4\n",
      "url: https://docs.google.com/forms/d/e/1FAIpQLSfmgOcsF0ALqWGPHGpJq2cwUr-xIG-uizbQqXPzPuTkrPM-Lg/viewform?usp=pp_url&entry.360321409=PeachyArt&entry.1933578897\n",
      "get_info_data: 2018-04-17 14:00:59.832044\n",
      "deleted: False\n",
      "User HuntAllTheThings found: {'is_mod': False, 'has_subscribed': True, 'hide_from_robots': True, 'verified': True, 'icon_img': 'https://www.redditstatic.com/avatars/avatar_default_11_4856A3.png', 'is_employee': False, 'comment_karma': 21503, 'name': 'HuntAllTheThings', 'subreddit': {'icon_size': [256, 256], 'key_color': '', 'link_flair_enabled': False, 'subreddit_type': 'user', 'name': 't5_ase0x', 'user_is_moderator': False, 'community_icon': '', 'header_img': None, 'public_description': '', 'show_media': True, 'audience_target': '', 'url': '/user/HuntAllTheThings/', 'description': '', 'display_name_prefixed': 'u/HuntAllTheThings', 'subscribers': 0, 'display_name': 'u_HuntAllTheThings', 'user_is_banned': False, 'is_default_icon': True, 'icon_img': 'https://www.redditstatic.com/avatars/avatar_default_11_4856A3.png', 'over_18': False, 'is_default_banner': True, 'user_is_contributor': False, 'icon_color': '#4856A3', 'header_size': None, 'user_is_muted': False, 'banner_size': None, 'user_is_subscriber': False, 'banner_img': '', 'title': '', 'default_set': True, 'primary_color': ''}, 'is_gold': False, 'is_friend': False, 'id': '9e1vu', 'has_verified_email': None, 'pref_show_snoovatar': False, 'created': 1351052132.0, 'created_utc': 1351023332.0, 'link_karma': 11860}\n",
      "Sending a message to user HuntAllTheThings with data {'first_comment_week': 4, 'username': 'HuntAllTheThings', 'url': 'https://docs.google.com/forms/d/e/1FAIpQLSfmgOcsF0ALqWGPHGpJq2cwUr-xIG-uizbQqXPzPuTkrPM-Lg/viewform?usp=pp_url&entry.360321409=HuntAllTheThings&entry.1933578897', 'deleted': False, 'get_info_date': '2018-04-17 14:01:04.206101'}\n"
     ]
    },
    {
     "name": "stderr",
     "output_type": "stream",
     "text": [
      "substituting https://oauth.reddit.com for https://api.reddit.com in url\n",
      "GET: https://oauth.reddit.com/user/HuntAllTheThings/about/.json\n",
      "substituting https://oauth.reddit.com for https://api.reddit.com in url\n",
      "POST: https://oauth.reddit.com/api/compose/.json\n"
     ]
    },
    {
     "name": "stdout",
     "output_type": "stream",
     "text": [
      "Message successfully sent to user HuntAllTheThings\n",
      "APPENDING TO FILE: {'username': 'HuntAllTheThings', 'get_info_date': '2018-04-17 14:01:04.206101', 'deleted': False, 'url': 'https://docs.google.com/forms/d/e/1FAIpQLSfmgOcsF0ALqWGPHGpJq2cwUr-xIG-uizbQqXPzPuTkrPM-Lg/viewform?usp=pp_url&entry.360321409=HuntAllTheThings&entry.1933578897', 'first_comment_week': 4}\n",
      "first_comment_week: 4\n",
      "url: https://docs.google.com/forms/d/e/1FAIpQLSfmgOcsF0ALqWGPHGpJq2cwUr-xIG-uizbQqXPzPuTkrPM-Lg/viewform?usp=pp_url&entry.360321409=HuntAllTheThings&entry.1933578897\n",
      "get_info_data: 2018-04-17 14:01:04.206101\n",
      "deleted: False\n",
      "User Occams_Butter_Knife found: {'is_mod': False, 'has_subscribed': True, 'hide_from_robots': False, 'verified': True, 'icon_img': 'https://www.redditstatic.com/avatars/avatar_default_20_0DD3BB.png', 'is_employee': False, 'comment_karma': 4430, 'name': 'Occams_Butter_Knife', 'subreddit': {'icon_size': [256, 256], 'key_color': '', 'link_flair_enabled': False, 'subreddit_type': 'user', 'name': 't5_chkfb', 'user_is_moderator': False, 'community_icon': '', 'header_img': None, 'public_description': '', 'show_media': True, 'audience_target': '', 'url': '/user/Occams_Butter_Knife/', 'description': '', 'display_name_prefixed': 'u/Occams_Butter_Knife', 'subscribers': 0, 'display_name': 'u_Occams_Butter_Knife', 'user_is_banned': False, 'is_default_icon': True, 'icon_img': 'https://www.redditstatic.com/avatars/avatar_default_20_0DD3BB.png', 'over_18': False, 'is_default_banner': True, 'user_is_contributor': False, 'icon_color': '#0DD3BB', 'header_size': None, 'user_is_muted': False, 'banner_size': None, 'user_is_subscriber': False, 'banner_img': '', 'title': '', 'default_set': True, 'primary_color': ''}, 'is_gold': False, 'is_friend': False, 'id': 'x6vgn', 'has_verified_email': False, 'pref_show_snoovatar': False, 'created': 1460735550.0, 'created_utc': 1460706750.0, 'link_karma': 32}\n",
      "Sending a message to user Occams_Butter_Knife with data {'first_comment_week': 4, 'username': 'Occams_Butter_Knife', 'url': 'https://docs.google.com/forms/d/e/1FAIpQLSfmgOcsF0ALqWGPHGpJq2cwUr-xIG-uizbQqXPzPuTkrPM-Lg/viewform?usp=pp_url&entry.360321409=Occams_Butter_Knife&entry.1933578897', 'deleted': False, 'get_info_date': '2018-04-17 14:01:08.373766'}\n"
     ]
    },
    {
     "name": "stderr",
     "output_type": "stream",
     "text": [
      "substituting https://oauth.reddit.com for https://api.reddit.com in url\n",
      "GET: https://oauth.reddit.com/user/Occams_Butter_Knife/about/.json\n",
      "substituting https://oauth.reddit.com for https://api.reddit.com in url\n",
      "POST: https://oauth.reddit.com/api/compose/.json\n"
     ]
    },
    {
     "name": "stdout",
     "output_type": "stream",
     "text": [
      "Message successfully sent to user Occams_Butter_Knife\n",
      "APPENDING TO FILE: {'username': 'Occams_Butter_Knife', 'get_info_date': '2018-04-17 14:01:08.373766', 'deleted': False, 'url': 'https://docs.google.com/forms/d/e/1FAIpQLSfmgOcsF0ALqWGPHGpJq2cwUr-xIG-uizbQqXPzPuTkrPM-Lg/viewform?usp=pp_url&entry.360321409=Occams_Butter_Knife&entry.1933578897', 'first_comment_week': 4}\n",
      "first_comment_week: 4\n",
      "url: https://docs.google.com/forms/d/e/1FAIpQLSfmgOcsF0ALqWGPHGpJq2cwUr-xIG-uizbQqXPzPuTkrPM-Lg/viewform?usp=pp_url&entry.360321409=Occams_Butter_Knife&entry.1933578897\n",
      "get_info_data: 2018-04-17 14:01:08.373766\n",
      "deleted: False\n",
      "User Trufactsmantis found: {'is_mod': False, 'has_subscribed': False, 'hide_from_robots': True, 'verified': True, 'icon_img': 'https://www.redditstatic.com/avatars/avatar_default_02_FF585B.png', 'is_employee': False, 'comment_karma': 562, 'name': 'Trufactsmantis', 'subreddit': {'icon_size': [256, 256], 'key_color': '', 'link_flair_enabled': False, 'subreddit_type': 'user', 'name': 't5_7f7k7', 'user_is_moderator': False, 'community_icon': '', 'header_img': None, 'public_description': '', 'show_media': True, 'audience_target': '', 'url': '/user/Trufactsmantis/', 'description': '', 'display_name_prefixed': 'u/Trufactsmantis', 'subscribers': 0, 'display_name': 'u_Trufactsmantis', 'user_is_banned': False, 'is_default_icon': True, 'icon_img': 'https://www.redditstatic.com/avatars/avatar_default_02_FF585B.png', 'over_18': False, 'is_default_banner': True, 'user_is_contributor': False, 'icon_color': '#FF585B', 'header_size': None, 'user_is_muted': False, 'banner_size': None, 'user_is_subscriber': False, 'banner_img': '', 'title': '', 'default_set': True, 'primary_color': ''}, 'is_gold': False, 'is_friend': False, 'id': 'cicbaw1', 'has_verified_email': False, 'pref_show_snoovatar': False, 'created': 1504366503.0, 'created_utc': 1504337703.0, 'link_karma': 1}\n",
      "Sending a message to user Trufactsmantis with data {'first_comment_week': 4, 'username': 'Trufactsmantis', 'url': 'https://docs.google.com/forms/d/e/1FAIpQLSfmgOcsF0ALqWGPHGpJq2cwUr-xIG-uizbQqXPzPuTkrPM-Lg/viewform?usp=pp_url&entry.360321409=Trufactsmantis&entry.1933578897', 'deleted': False, 'get_info_date': '2018-04-17 14:01:12.460109'}\n"
     ]
    },
    {
     "name": "stderr",
     "output_type": "stream",
     "text": [
      "substituting https://oauth.reddit.com for https://api.reddit.com in url\n",
      "GET: https://oauth.reddit.com/user/Trufactsmantis/about/.json\n",
      "substituting https://oauth.reddit.com for https://api.reddit.com in url\n",
      "POST: https://oauth.reddit.com/api/compose/.json\n"
     ]
    },
    {
     "name": "stdout",
     "output_type": "stream",
     "text": [
      "Message successfully sent to user Trufactsmantis\n",
      "APPENDING TO FILE: {'username': 'Trufactsmantis', 'get_info_date': '2018-04-17 14:01:12.460109', 'deleted': False, 'url': 'https://docs.google.com/forms/d/e/1FAIpQLSfmgOcsF0ALqWGPHGpJq2cwUr-xIG-uizbQqXPzPuTkrPM-Lg/viewform?usp=pp_url&entry.360321409=Trufactsmantis&entry.1933578897', 'first_comment_week': 4}\n",
      "first_comment_week: 4\n",
      "url: https://docs.google.com/forms/d/e/1FAIpQLSfmgOcsF0ALqWGPHGpJq2cwUr-xIG-uizbQqXPzPuTkrPM-Lg/viewform?usp=pp_url&entry.360321409=Trufactsmantis&entry.1933578897\n",
      "get_info_data: 2018-04-17 14:01:12.460109\n",
      "deleted: False\n",
      "User thingscouldbeworse found: {'is_mod': True, 'has_subscribed': True, 'hide_from_robots': False, 'verified': False, 'icon_img': 'https://www.redditstatic.com/avatars/avatar_default_05_A5A4A4.png', 'is_employee': False, 'comment_karma': 31199, 'name': 'thingscouldbeworse', 'subreddit': None, 'is_gold': False, 'is_friend': False, 'id': '6e180', 'has_verified_email': True, 'pref_show_snoovatar': False, 'created': 1323253008.0, 'created_utc': 1323224208.0, 'link_karma': 4877}\n",
      "Sending a message to user thingscouldbeworse with data {'first_comment_week': 4, 'username': 'thingscouldbeworse', 'url': 'https://docs.google.com/forms/d/e/1FAIpQLSfmgOcsF0ALqWGPHGpJq2cwUr-xIG-uizbQqXPzPuTkrPM-Lg/viewform?usp=pp_url&entry.360321409=thingscouldbeworse&entry.1933578897', 'deleted': False, 'get_info_date': '2018-04-17 14:01:16.646499'}\n"
     ]
    },
    {
     "name": "stderr",
     "output_type": "stream",
     "text": [
      "substituting https://oauth.reddit.com for https://api.reddit.com in url\n",
      "GET: https://oauth.reddit.com/user/thingscouldbeworse/about/.json\n",
      "substituting https://oauth.reddit.com for https://api.reddit.com in url\n",
      "POST: https://oauth.reddit.com/api/compose/.json\n"
     ]
    },
    {
     "name": "stdout",
     "output_type": "stream",
     "text": [
      "Message successfully sent to user thingscouldbeworse\n",
      "APPENDING TO FILE: {'username': 'thingscouldbeworse', 'get_info_date': '2018-04-17 14:01:16.646499', 'deleted': False, 'url': 'https://docs.google.com/forms/d/e/1FAIpQLSfmgOcsF0ALqWGPHGpJq2cwUr-xIG-uizbQqXPzPuTkrPM-Lg/viewform?usp=pp_url&entry.360321409=thingscouldbeworse&entry.1933578897', 'first_comment_week': 4}\n",
      "first_comment_week: 4\n",
      "url: https://docs.google.com/forms/d/e/1FAIpQLSfmgOcsF0ALqWGPHGpJq2cwUr-xIG-uizbQqXPzPuTkrPM-Lg/viewform?usp=pp_url&entry.360321409=thingscouldbeworse&entry.1933578897\n",
      "get_info_data: 2018-04-17 14:01:16.646499\n",
      "deleted: False\n",
      "User madredegatos found: {'is_mod': False, 'has_subscribed': True, 'hide_from_robots': True, 'verified': True, 'icon_img': 'https://www.redditstatic.com/avatars/avatar_default_14_A5A4A4.png', 'is_employee': False, 'comment_karma': 1773, 'name': 'madredegatos', 'subreddit': {'icon_size': [256, 256], 'key_color': '', 'link_flair_enabled': False, 'subreddit_type': 'user', 'name': 't5_ewuyu', 'user_is_moderator': False, 'community_icon': '', 'header_img': None, 'public_description': \"Not what you'd expect\", 'show_media': True, 'audience_target': '', 'url': '/user/madredegatos/', 'description': '', 'display_name_prefixed': 'u/madredegatos', 'subscribers': 0, 'display_name': 'u_madredegatos', 'user_is_banned': False, 'is_default_icon': True, 'icon_img': 'https://www.redditstatic.com/avatars/avatar_default_14_A5A4A4.png', 'over_18': False, 'is_default_banner': True, 'user_is_contributor': False, 'icon_color': '#A5A4A4', 'header_size': None, 'user_is_muted': False, 'banner_size': None, 'user_is_subscriber': False, 'banner_img': '', 'title': 'Catmother', 'default_set': True, 'primary_color': ''}, 'is_gold': False, 'is_friend': False, 'id': 'ndo4t', 'has_verified_email': True, 'pref_show_snoovatar': False, 'created': 1431224637.0, 'created_utc': 1431195837.0, 'link_karma': 424}\n",
      "Sending a message to user madredegatos with data {'first_comment_week': 4, 'username': 'madredegatos', 'url': 'https://docs.google.com/forms/d/e/1FAIpQLSfmgOcsF0ALqWGPHGpJq2cwUr-xIG-uizbQqXPzPuTkrPM-Lg/viewform?usp=pp_url&entry.360321409=madredegatos&entry.1933578897', 'deleted': False, 'get_info_date': '2018-04-17 14:01:20.835611'}\n"
     ]
    },
    {
     "name": "stderr",
     "output_type": "stream",
     "text": [
      "substituting https://oauth.reddit.com for https://api.reddit.com in url\n",
      "GET: https://oauth.reddit.com/user/madredegatos/about/.json\n",
      "substituting https://oauth.reddit.com for https://api.reddit.com in url\n",
      "POST: https://oauth.reddit.com/api/compose/.json\n"
     ]
    },
    {
     "name": "stdout",
     "output_type": "stream",
     "text": [
      "Message successfully sent to user madredegatos\n",
      "APPENDING TO FILE: {'username': 'madredegatos', 'get_info_date': '2018-04-17 14:01:20.835611', 'deleted': False, 'url': 'https://docs.google.com/forms/d/e/1FAIpQLSfmgOcsF0ALqWGPHGpJq2cwUr-xIG-uizbQqXPzPuTkrPM-Lg/viewform?usp=pp_url&entry.360321409=madredegatos&entry.1933578897', 'first_comment_week': 4}\n",
      "first_comment_week: 4\n",
      "url: https://docs.google.com/forms/d/e/1FAIpQLSfmgOcsF0ALqWGPHGpJq2cwUr-xIG-uizbQqXPzPuTkrPM-Lg/viewform?usp=pp_url&entry.360321409=madredegatos&entry.1933578897\n",
      "get_info_data: 2018-04-17 14:01:20.835611\n",
      "deleted: False\n"
     ]
    },
    {
     "name": "stderr",
     "output_type": "stream",
     "text": [
      "substituting https://oauth.reddit.com for https://api.reddit.com in url\n",
      "GET: https://oauth.reddit.com/user/seekunrustlement/about/.json\n"
     ]
    },
    {
     "name": "stdout",
     "output_type": "stream",
     "text": [
      "User seekunrustlement found: {'is_mod': False, 'has_subscribed': True, 'hide_from_robots': False, 'verified': True, 'icon_img': 'https://www.redditstatic.com/avatars/avatar_default_16_FFD635.png', 'is_employee': False, 'comment_karma': 20461, 'name': 'seekunrustlement', 'subreddit': {'icon_size': [256, 256], 'key_color': '', 'link_flair_enabled': False, 'subreddit_type': 'user', 'name': 't5_er3im', 'user_is_moderator': False, 'community_icon': '', 'header_img': None, 'public_description': '', 'show_media': True, 'audience_target': '', 'url': '/user/seekunrustlement/', 'description': '', 'display_name_prefixed': 'u/seekunrustlement', 'subscribers': 0, 'display_name': 'u_seekunrustlement', 'user_is_banned': False, 'is_default_icon': True, 'icon_img': 'https://www.redditstatic.com/avatars/avatar_default_16_FFD635.png', 'over_18': False, 'is_default_banner': True, 'user_is_contributor': False, 'icon_color': '#FFD635', 'header_size': None, 'user_is_muted': False, 'banner_size': None, 'user_is_subscriber': False, 'banner_img': '', 'title': '', 'default_set': True, 'primary_color': ''}, 'is_gold': False, 'is_friend': False, 'id': 'af2k3', 'has_verified_email': True, 'pref_show_snoovatar': False, 'created': 1359600634.0, 'created_utc': 1359571834.0, 'link_karma': 6313}\n",
      "Sending a message to user seekunrustlement with data {'first_comment_week': 4, 'username': 'seekunrustlement', 'url': 'https://docs.google.com/forms/d/e/1FAIpQLSfmgOcsF0ALqWGPHGpJq2cwUr-xIG-uizbQqXPzPuTkrPM-Lg/viewform?usp=pp_url&entry.360321409=seekunrustlement&entry.1933578897', 'deleted': False, 'get_info_date': '2018-04-17 14:01:25.348511'}\n"
     ]
    },
    {
     "name": "stderr",
     "output_type": "stream",
     "text": [
      "substituting https://oauth.reddit.com for https://api.reddit.com in url\n",
      "POST: https://oauth.reddit.com/api/compose/.json\n"
     ]
    },
    {
     "name": "stdout",
     "output_type": "stream",
     "text": [
      "Message successfully sent to user seekunrustlement\n",
      "APPENDING TO FILE: {'username': 'seekunrustlement', 'get_info_date': '2018-04-17 14:01:25.348511', 'deleted': False, 'url': 'https://docs.google.com/forms/d/e/1FAIpQLSfmgOcsF0ALqWGPHGpJq2cwUr-xIG-uizbQqXPzPuTkrPM-Lg/viewform?usp=pp_url&entry.360321409=seekunrustlement&entry.1933578897', 'first_comment_week': 4}\n",
      "first_comment_week: 4\n",
      "url: https://docs.google.com/forms/d/e/1FAIpQLSfmgOcsF0ALqWGPHGpJq2cwUr-xIG-uizbQqXPzPuTkrPM-Lg/viewform?usp=pp_url&entry.360321409=seekunrustlement&entry.1933578897\n",
      "get_info_data: 2018-04-17 14:01:25.348511\n",
      "deleted: False\n",
      "User sarimhaq found: {'is_mod': False, 'has_subscribed': True, 'hide_from_robots': False, 'verified': True, 'icon_img': 'https://www.redditstatic.com/avatars/avatar_default_01_A06A42.png', 'is_employee': False, 'comment_karma': 52, 'name': 'sarimhaq', 'subreddit': {'icon_size': [256, 256], 'key_color': '', 'link_flair_enabled': False, 'subreddit_type': 'user', 'name': 't5_7he28', 'user_is_moderator': False, 'community_icon': '', 'header_img': None, 'public_description': '', 'show_media': True, 'audience_target': '', 'url': '/user/sarimhaq/', 'description': '', 'display_name_prefixed': 'u/sarimhaq', 'subscribers': 0, 'display_name': 'u_sarimhaq', 'user_is_banned': False, 'is_default_icon': True, 'icon_img': 'https://www.redditstatic.com/avatars/avatar_default_01_A06A42.png', 'over_18': False, 'is_default_banner': True, 'user_is_contributor': False, 'icon_color': '#A06A42', 'header_size': None, 'user_is_muted': False, 'banner_size': None, 'user_is_subscriber': False, 'banner_img': '', 'title': '', 'default_set': True, 'primary_color': ''}, 'is_gold': False, 'is_friend': False, 'id': 'wlqs8', 'has_verified_email': True, 'pref_show_snoovatar': False, 'created': 1458782023.0, 'created_utc': 1458753223.0, 'link_karma': 569}\n",
      "Sending a message to user sarimhaq with data {'first_comment_week': 4, 'username': 'sarimhaq', 'url': 'https://docs.google.com/forms/d/e/1FAIpQLSfmgOcsF0ALqWGPHGpJq2cwUr-xIG-uizbQqXPzPuTkrPM-Lg/viewform?usp=pp_url&entry.360321409=sarimhaq&entry.1933578897', 'deleted': False, 'get_info_date': '2018-04-17 14:01:29.249086'}\n"
     ]
    },
    {
     "name": "stderr",
     "output_type": "stream",
     "text": [
      "substituting https://oauth.reddit.com for https://api.reddit.com in url\n",
      "GET: https://oauth.reddit.com/user/sarimhaq/about/.json\n",
      "substituting https://oauth.reddit.com for https://api.reddit.com in url\n",
      "POST: https://oauth.reddit.com/api/compose/.json\n"
     ]
    },
    {
     "name": "stdout",
     "output_type": "stream",
     "text": [
      "Message successfully sent to user sarimhaq\n",
      "APPENDING TO FILE: {'username': 'sarimhaq', 'get_info_date': '2018-04-17 14:01:29.249086', 'deleted': False, 'url': 'https://docs.google.com/forms/d/e/1FAIpQLSfmgOcsF0ALqWGPHGpJq2cwUr-xIG-uizbQqXPzPuTkrPM-Lg/viewform?usp=pp_url&entry.360321409=sarimhaq&entry.1933578897', 'first_comment_week': 4}\n",
      "first_comment_week: 4\n",
      "url: https://docs.google.com/forms/d/e/1FAIpQLSfmgOcsF0ALqWGPHGpJq2cwUr-xIG-uizbQqXPzPuTkrPM-Lg/viewform?usp=pp_url&entry.360321409=sarimhaq&entry.1933578897\n",
      "get_info_data: 2018-04-17 14:01:29.249086\n",
      "deleted: False\n"
     ]
    },
    {
     "name": "stderr",
     "output_type": "stream",
     "text": [
      "substituting https://oauth.reddit.com for https://api.reddit.com in url\n",
      "GET: https://oauth.reddit.com/user/TheRealFakeTruth/about/.json\n"
     ]
    },
    {
     "name": "stdout",
     "output_type": "stream",
     "text": [
      "User not found: TheRealFakeTruth\n",
      "User NorthwesterlyHog found: {'is_mod': False, 'has_subscribed': True, 'hide_from_robots': False, 'verified': True, 'icon_img': 'https://www.redditstatic.com/avatars/avatar_default_02_008985.png', 'is_employee': False, 'comment_karma': 602, 'name': 'NorthwesterlyHog', 'subreddit': {'icon_size': [256, 256], 'key_color': '', 'link_flair_enabled': False, 'subreddit_type': 'user', 'name': 't5_4wdac', 'user_is_moderator': False, 'community_icon': '', 'header_img': None, 'public_description': '', 'show_media': True, 'audience_target': '', 'url': '/user/NorthwesterlyHog/', 'description': '', 'display_name_prefixed': 'u/NorthwesterlyHog', 'subscribers': 0, 'display_name': 'u_NorthwesterlyHog', 'user_is_banned': False, 'is_default_icon': True, 'icon_img': 'https://www.redditstatic.com/avatars/avatar_default_02_008985.png', 'over_18': False, 'is_default_banner': True, 'user_is_contributor': False, 'icon_color': '#008985', 'header_size': None, 'user_is_muted': False, 'banner_size': None, 'user_is_subscriber': False, 'banner_img': '', 'title': '', 'default_set': True, 'primary_color': ''}, 'is_gold': False, 'is_friend': False, 'id': 'l9di75x', 'has_verified_email': False, 'pref_show_snoovatar': False, 'created': 1510983390.0, 'created_utc': 1510954590.0, 'link_karma': 1}\n",
      "Sending a message to user NorthwesterlyHog with data {'first_comment_week': 4, 'username': 'NorthwesterlyHog', 'url': 'https://docs.google.com/forms/d/e/1FAIpQLSfmgOcsF0ALqWGPHGpJq2cwUr-xIG-uizbQqXPzPuTkrPM-Lg/viewform?usp=pp_url&entry.360321409=NorthwesterlyHog&entry.1933578897', 'deleted': False, 'get_info_date': '2018-04-17 14:01:35.677838'}\n"
     ]
    },
    {
     "name": "stderr",
     "output_type": "stream",
     "text": [
      "substituting https://oauth.reddit.com for https://api.reddit.com in url\n",
      "GET: https://oauth.reddit.com/user/NorthwesterlyHog/about/.json\n",
      "substituting https://oauth.reddit.com for https://api.reddit.com in url\n",
      "POST: https://oauth.reddit.com/api/compose/.json\n"
     ]
    },
    {
     "name": "stdout",
     "output_type": "stream",
     "text": [
      "Message successfully sent to user NorthwesterlyHog\n",
      "APPENDING TO FILE: {'username': 'NorthwesterlyHog', 'get_info_date': '2018-04-17 14:01:35.677838', 'deleted': False, 'url': 'https://docs.google.com/forms/d/e/1FAIpQLSfmgOcsF0ALqWGPHGpJq2cwUr-xIG-uizbQqXPzPuTkrPM-Lg/viewform?usp=pp_url&entry.360321409=NorthwesterlyHog&entry.1933578897', 'first_comment_week': 4}\n",
      "first_comment_week: 4\n",
      "url: https://docs.google.com/forms/d/e/1FAIpQLSfmgOcsF0ALqWGPHGpJq2cwUr-xIG-uizbQqXPzPuTkrPM-Lg/viewform?usp=pp_url&entry.360321409=NorthwesterlyHog&entry.1933578897\n",
      "get_info_data: 2018-04-17 14:01:35.677838\n",
      "deleted: False\n"
     ]
    },
    {
     "name": "stderr",
     "output_type": "stream",
     "text": [
      "substituting https://oauth.reddit.com for https://api.reddit.com in url\n",
      "GET: https://oauth.reddit.com/user/gabyzinea/about/.json\n"
     ]
    },
    {
     "name": "stdout",
     "output_type": "stream",
     "text": [
      "User gabyzinea found: {'is_mod': True, 'has_subscribed': True, 'hide_from_robots': False, 'verified': True, 'icon_img': 'https://www.redditstatic.com/avatars/avatar_default_13_94E044.png', 'is_employee': False, 'comment_karma': 2734, 'name': 'gabyzinea', 'subreddit': {'icon_size': [256, 256], 'key_color': '', 'link_flair_enabled': False, 'subreddit_type': 'user', 'name': 't5_9gug3', 'user_is_moderator': False, 'community_icon': '', 'header_img': None, 'public_description': '', 'show_media': True, 'audience_target': '', 'url': '/user/gabyzinea/', 'description': '', 'display_name_prefixed': 'u/gabyzinea', 'subscribers': 0, 'display_name': 'u_gabyzinea', 'user_is_banned': False, 'is_default_icon': True, 'icon_img': 'https://www.redditstatic.com/avatars/avatar_default_13_94E044.png', 'over_18': False, 'is_default_banner': True, 'user_is_contributor': False, 'icon_color': '#94E044', 'header_size': None, 'user_is_muted': False, 'banner_size': None, 'user_is_subscriber': False, 'banner_img': '', 'title': '', 'default_set': True, 'primary_color': ''}, 'is_gold': False, 'is_friend': False, 'id': '16pilg', 'has_verified_email': True, 'pref_show_snoovatar': False, 'created': 1491148218.0, 'created_utc': 1491119418.0, 'link_karma': 98}\n",
      "Sending a message to user gabyzinea with data {'first_comment_week': 4, 'username': 'gabyzinea', 'url': 'https://docs.google.com/forms/d/e/1FAIpQLSfmgOcsF0ALqWGPHGpJq2cwUr-xIG-uizbQqXPzPuTkrPM-Lg/viewform?usp=pp_url&entry.360321409=gabyzinea&entry.1933578897', 'deleted': False, 'get_info_date': '2018-04-17 14:01:40.072743'}\n"
     ]
    },
    {
     "name": "stderr",
     "output_type": "stream",
     "text": [
      "substituting https://oauth.reddit.com for https://api.reddit.com in url\n",
      "POST: https://oauth.reddit.com/api/compose/.json\n"
     ]
    },
    {
     "name": "stdout",
     "output_type": "stream",
     "text": [
      "Message successfully sent to user gabyzinea\n",
      "APPENDING TO FILE: {'username': 'gabyzinea', 'get_info_date': '2018-04-17 14:01:40.072743', 'deleted': False, 'url': 'https://docs.google.com/forms/d/e/1FAIpQLSfmgOcsF0ALqWGPHGpJq2cwUr-xIG-uizbQqXPzPuTkrPM-Lg/viewform?usp=pp_url&entry.360321409=gabyzinea&entry.1933578897', 'first_comment_week': 4}\n",
      "first_comment_week: 4\n",
      "url: https://docs.google.com/forms/d/e/1FAIpQLSfmgOcsF0ALqWGPHGpJq2cwUr-xIG-uizbQqXPzPuTkrPM-Lg/viewform?usp=pp_url&entry.360321409=gabyzinea&entry.1933578897\n",
      "get_info_data: 2018-04-17 14:01:40.072743\n",
      "deleted: False\n",
      "User yllen_ found: {'is_mod': False, 'has_subscribed': True, 'hide_from_robots': True, 'verified': True, 'icon_img': 'https://www.redditstatic.com/avatars/avatar_default_02_545452.png', 'is_employee': False, 'comment_karma': 1089, 'name': 'yllen_', 'subreddit': {'icon_size': [256, 256], 'key_color': '', 'link_flair_enabled': False, 'subreddit_type': 'user', 'name': 't5_b54s1', 'user_is_moderator': False, 'community_icon': '', 'header_img': None, 'public_description': '', 'show_media': True, 'audience_target': '', 'url': '/user/yllen_/', 'description': '', 'display_name_prefixed': 'u/yllen_', 'subscribers': 0, 'display_name': 'u_yllen_', 'user_is_banned': False, 'is_default_icon': True, 'icon_img': 'https://www.redditstatic.com/avatars/avatar_default_02_545452.png', 'over_18': False, 'is_default_banner': True, 'user_is_contributor': False, 'icon_color': '#545452', 'header_size': None, 'user_is_muted': False, 'banner_size': None, 'user_is_subscriber': False, 'banner_img': '', 'title': '', 'default_set': True, 'primary_color': ''}, 'is_gold': False, 'is_friend': False, 'id': 'g3cgt', 'has_verified_email': False, 'pref_show_snoovatar': False, 'created': 1397329350.0, 'created_utc': 1397300550.0, 'link_karma': 434}\n",
      "Sending a message to user yllen_ with data {'first_comment_week': 4, 'username': 'yllen_', 'url': 'https://docs.google.com/forms/d/e/1FAIpQLSfmgOcsF0ALqWGPHGpJq2cwUr-xIG-uizbQqXPzPuTkrPM-Lg/viewform?usp=pp_url&entry.360321409=yllen_&entry.1933578897', 'deleted': False, 'get_info_date': '2018-04-17 14:01:43.960343'}\n"
     ]
    },
    {
     "name": "stderr",
     "output_type": "stream",
     "text": [
      "substituting https://oauth.reddit.com for https://api.reddit.com in url\n",
      "GET: https://oauth.reddit.com/user/yllen_/about/.json\n",
      "substituting https://oauth.reddit.com for https://api.reddit.com in url\n",
      "POST: https://oauth.reddit.com/api/compose/.json\n"
     ]
    },
    {
     "name": "stdout",
     "output_type": "stream",
     "text": [
      "Message successfully sent to user yllen_\n",
      "APPENDING TO FILE: {'username': 'yllen_', 'get_info_date': '2018-04-17 14:01:43.960343', 'deleted': False, 'url': 'https://docs.google.com/forms/d/e/1FAIpQLSfmgOcsF0ALqWGPHGpJq2cwUr-xIG-uizbQqXPzPuTkrPM-Lg/viewform?usp=pp_url&entry.360321409=yllen_&entry.1933578897', 'first_comment_week': 4}\n",
      "first_comment_week: 4\n",
      "url: https://docs.google.com/forms/d/e/1FAIpQLSfmgOcsF0ALqWGPHGpJq2cwUr-xIG-uizbQqXPzPuTkrPM-Lg/viewform?usp=pp_url&entry.360321409=yllen_&entry.1933578897\n",
      "get_info_data: 2018-04-17 14:01:43.960343\n",
      "deleted: False\n",
      "User quadrilllion found: {'is_mod': False, 'has_subscribed': True, 'hide_from_robots': True, 'verified': True, 'icon_img': 'https://www.redditstatic.com/avatars/avatar_default_20_24A0ED.png', 'is_employee': False, 'comment_karma': 1249, 'name': 'quadrilllion', 'subreddit': {'icon_size': [256, 256], 'key_color': '', 'link_flair_enabled': False, 'subreddit_type': 'user', 'name': 't5_7qyrt', 'user_is_moderator': False, 'community_icon': '', 'header_img': None, 'public_description': '', 'show_media': True, 'audience_target': '', 'url': '/user/quadrilllion/', 'description': '', 'display_name_prefixed': 'u/quadrilllion', 'subscribers': 0, 'display_name': 'u_quadrilllion', 'user_is_banned': False, 'is_default_icon': True, 'icon_img': 'https://www.redditstatic.com/avatars/avatar_default_20_24A0ED.png', 'over_18': False, 'is_default_banner': True, 'user_is_contributor': False, 'icon_color': '#24A0ED', 'header_size': None, 'user_is_muted': False, 'banner_size': None, 'user_is_subscriber': False, 'banner_img': '', 'title': '', 'default_set': True, 'primary_color': ''}, 'is_gold': False, 'is_friend': False, 'id': '585q447', 'has_verified_email': True, 'pref_show_snoovatar': False, 'created': 1498678084.0, 'created_utc': 1498649284.0, 'link_karma': 32}\n",
      "Sending a message to user quadrilllion with data {'first_comment_week': 4, 'username': 'quadrilllion', 'url': 'https://docs.google.com/forms/d/e/1FAIpQLSfmgOcsF0ALqWGPHGpJq2cwUr-xIG-uizbQqXPzPuTkrPM-Lg/viewform?usp=pp_url&entry.360321409=quadrilllion&entry.1933578897', 'deleted': False, 'get_info_date': '2018-04-17 14:01:48.354492'}\n"
     ]
    },
    {
     "name": "stderr",
     "output_type": "stream",
     "text": [
      "substituting https://oauth.reddit.com for https://api.reddit.com in url\n",
      "GET: https://oauth.reddit.com/user/quadrilllion/about/.json\n",
      "substituting https://oauth.reddit.com for https://api.reddit.com in url\n",
      "POST: https://oauth.reddit.com/api/compose/.json\n"
     ]
    },
    {
     "name": "stdout",
     "output_type": "stream",
     "text": [
      "Message successfully sent to user quadrilllion\n",
      "APPENDING TO FILE: {'username': 'quadrilllion', 'get_info_date': '2018-04-17 14:01:48.354492', 'deleted': False, 'url': 'https://docs.google.com/forms/d/e/1FAIpQLSfmgOcsF0ALqWGPHGpJq2cwUr-xIG-uizbQqXPzPuTkrPM-Lg/viewform?usp=pp_url&entry.360321409=quadrilllion&entry.1933578897', 'first_comment_week': 4}\n",
      "first_comment_week: 4\n",
      "url: https://docs.google.com/forms/d/e/1FAIpQLSfmgOcsF0ALqWGPHGpJq2cwUr-xIG-uizbQqXPzPuTkrPM-Lg/viewform?usp=pp_url&entry.360321409=quadrilllion&entry.1933578897\n",
      "get_info_data: 2018-04-17 14:01:48.354492\n",
      "deleted: False\n",
      "User jRebel420 found: {'is_mod': False, 'has_subscribed': True, 'hide_from_robots': False, 'verified': True, 'icon_img': 'https://www.redditstatic.com/avatars/avatar_default_20_EA0027.png', 'is_employee': False, 'comment_karma': 937, 'name': 'jRebel420', 'subreddit': {'icon_size': [256, 256], 'key_color': '', 'link_flair_enabled': False, 'subreddit_type': 'user', 'name': 't5_7l8g5', 'user_is_moderator': False, 'community_icon': '', 'header_img': None, 'public_description': '', 'show_media': True, 'audience_target': '', 'url': '/user/jRebel420/', 'description': '', 'display_name_prefixed': 'u/jRebel420', 'subscribers': 0, 'display_name': 'u_jRebel420', 'user_is_banned': False, 'is_default_icon': True, 'icon_img': 'https://www.redditstatic.com/avatars/avatar_default_20_EA0027.png', 'over_18': False, 'is_default_banner': True, 'user_is_contributor': False, 'icon_color': '#EA0027', 'header_size': None, 'user_is_muted': False, 'banner_size': None, 'user_is_subscriber': False, 'banner_img': '', 'title': '', 'default_set': True, 'primary_color': ''}, 'is_gold': False, 'is_friend': False, 'id': '5ddak03', 'has_verified_email': False, 'pref_show_snoovatar': False, 'created': 1500423355.0, 'created_utc': 1500394555.0, 'link_karma': 6}\n",
      "Sending a message to user jRebel420 with data {'first_comment_week': 4, 'username': 'jRebel420', 'url': 'https://docs.google.com/forms/d/e/1FAIpQLSfmgOcsF0ALqWGPHGpJq2cwUr-xIG-uizbQqXPzPuTkrPM-Lg/viewform?usp=pp_url&entry.360321409=jRebel420&entry.1933578897', 'deleted': False, 'get_info_date': '2018-04-17 14:01:52.491505'}\n"
     ]
    },
    {
     "name": "stderr",
     "output_type": "stream",
     "text": [
      "substituting https://oauth.reddit.com for https://api.reddit.com in url\n",
      "GET: https://oauth.reddit.com/user/jRebel420/about/.json\n",
      "substituting https://oauth.reddit.com for https://api.reddit.com in url\n",
      "POST: https://oauth.reddit.com/api/compose/.json\n"
     ]
    },
    {
     "name": "stdout",
     "output_type": "stream",
     "text": [
      "Message successfully sent to user jRebel420\n",
      "APPENDING TO FILE: {'username': 'jRebel420', 'get_info_date': '2018-04-17 14:01:52.491505', 'deleted': False, 'url': 'https://docs.google.com/forms/d/e/1FAIpQLSfmgOcsF0ALqWGPHGpJq2cwUr-xIG-uizbQqXPzPuTkrPM-Lg/viewform?usp=pp_url&entry.360321409=jRebel420&entry.1933578897', 'first_comment_week': 4}\n",
      "first_comment_week: 4\n",
      "url: https://docs.google.com/forms/d/e/1FAIpQLSfmgOcsF0ALqWGPHGpJq2cwUr-xIG-uizbQqXPzPuTkrPM-Lg/viewform?usp=pp_url&entry.360321409=jRebel420&entry.1933578897\n",
      "get_info_data: 2018-04-17 14:01:52.491505\n",
      "deleted: False\n",
      "User InterplanetaryWorry found: {'is_mod': False, 'has_subscribed': True, 'hide_from_robots': False, 'verified': True, 'icon_img': 'https://www.redditstatic.com/avatars/avatar_default_16_0DD3BB.png', 'is_employee': False, 'comment_karma': 117, 'name': 'InterplanetaryWorry', 'subreddit': {'icon_size': [256, 256], 'key_color': '', 'link_flair_enabled': False, 'subreddit_type': 'user', 'name': 't5_9wp8u', 'user_is_moderator': False, 'community_icon': '', 'header_img': None, 'public_description': '', 'show_media': True, 'audience_target': '', 'url': '/user/InterplanetaryWorry/', 'description': '', 'display_name_prefixed': 'u/InterplanetaryWorry', 'subscribers': 0, 'display_name': 'u_InterplanetaryWorry', 'user_is_banned': False, 'is_default_icon': True, 'icon_img': 'https://www.redditstatic.com/avatars/avatar_default_16_0DD3BB.png', 'over_18': False, 'is_default_banner': True, 'user_is_contributor': False, 'icon_color': '#0DD3BB', 'header_size': None, 'user_is_muted': False, 'banner_size': None, 'user_is_subscriber': False, 'banner_img': None, 'title': '', 'default_set': True, 'primary_color': ''}, 'is_gold': False, 'is_friend': False, 'id': 'n6ty7e7', 'has_verified_email': False, 'pref_show_snoovatar': False, 'created': 1514517580.0, 'created_utc': 1514488780.0, 'link_karma': 69}\n",
      "Sending a message to user InterplanetaryWorry with data {'first_comment_week': 4, 'username': 'InterplanetaryWorry', 'url': 'https://docs.google.com/forms/d/e/1FAIpQLSfmgOcsF0ALqWGPHGpJq2cwUr-xIG-uizbQqXPzPuTkrPM-Lg/viewform?usp=pp_url&entry.360321409=InterplanetaryWorry&entry.1933578897', 'deleted': False, 'get_info_date': '2018-04-17 14:01:56.735046'}\n"
     ]
    },
    {
     "name": "stderr",
     "output_type": "stream",
     "text": [
      "substituting https://oauth.reddit.com for https://api.reddit.com in url\n",
      "GET: https://oauth.reddit.com/user/InterplanetaryWorry/about/.json\n",
      "substituting https://oauth.reddit.com for https://api.reddit.com in url\n",
      "POST: https://oauth.reddit.com/api/compose/.json\n"
     ]
    },
    {
     "name": "stdout",
     "output_type": "stream",
     "text": [
      "Message successfully sent to user InterplanetaryWorry\n",
      "APPENDING TO FILE: {'username': 'InterplanetaryWorry', 'get_info_date': '2018-04-17 14:01:56.735046', 'deleted': False, 'url': 'https://docs.google.com/forms/d/e/1FAIpQLSfmgOcsF0ALqWGPHGpJq2cwUr-xIG-uizbQqXPzPuTkrPM-Lg/viewform?usp=pp_url&entry.360321409=InterplanetaryWorry&entry.1933578897', 'first_comment_week': 4}\n",
      "first_comment_week: 4\n",
      "url: https://docs.google.com/forms/d/e/1FAIpQLSfmgOcsF0ALqWGPHGpJq2cwUr-xIG-uizbQqXPzPuTkrPM-Lg/viewform?usp=pp_url&entry.360321409=InterplanetaryWorry&entry.1933578897\n",
      "get_info_data: 2018-04-17 14:01:56.735046\n",
      "deleted: False\n",
      "User LiteralDumpsterFire found: {'is_mod': False, 'has_subscribed': True, 'hide_from_robots': False, 'verified': False, 'icon_img': 'https://www.redditstatic.com/avatars/avatar_default_13_FF66AC.png', 'is_employee': False, 'comment_karma': 6486, 'name': 'LiteralDumpsterFire', 'subreddit': None, 'is_gold': False, 'is_friend': False, 'id': 'vc5q8', 'has_verified_email': False, 'pref_show_snoovatar': False, 'created': 1456047446.0, 'created_utc': 1456018646.0, 'link_karma': 469}\n",
      "Sending a message to user LiteralDumpsterFire with data {'first_comment_week': 4, 'username': 'LiteralDumpsterFire', 'url': 'https://docs.google.com/forms/d/e/1FAIpQLSfmgOcsF0ALqWGPHGpJq2cwUr-xIG-uizbQqXPzPuTkrPM-Lg/viewform?usp=pp_url&entry.360321409=LiteralDumpsterFire&entry.1933578897', 'deleted': False, 'get_info_date': '2018-04-17 14:02:01.062366'}\n"
     ]
    },
    {
     "name": "stderr",
     "output_type": "stream",
     "text": [
      "substituting https://oauth.reddit.com for https://api.reddit.com in url\n",
      "GET: https://oauth.reddit.com/user/LiteralDumpsterFire/about/.json\n",
      "substituting https://oauth.reddit.com for https://api.reddit.com in url\n",
      "POST: https://oauth.reddit.com/api/compose/.json\n"
     ]
    },
    {
     "name": "stdout",
     "output_type": "stream",
     "text": [
      "Message successfully sent to user LiteralDumpsterFire\n",
      "APPENDING TO FILE: {'username': 'LiteralDumpsterFire', 'get_info_date': '2018-04-17 14:02:01.062366', 'deleted': False, 'url': 'https://docs.google.com/forms/d/e/1FAIpQLSfmgOcsF0ALqWGPHGpJq2cwUr-xIG-uizbQqXPzPuTkrPM-Lg/viewform?usp=pp_url&entry.360321409=LiteralDumpsterFire&entry.1933578897', 'first_comment_week': 4}\n",
      "first_comment_week: 4\n",
      "url: https://docs.google.com/forms/d/e/1FAIpQLSfmgOcsF0ALqWGPHGpJq2cwUr-xIG-uizbQqXPzPuTkrPM-Lg/viewform?usp=pp_url&entry.360321409=LiteralDumpsterFire&entry.1933578897\n",
      "get_info_data: 2018-04-17 14:02:01.062366\n",
      "deleted: False\n"
     ]
    },
    {
     "name": "stderr",
     "output_type": "stream",
     "text": [
      "substituting https://oauth.reddit.com for https://api.reddit.com in url\n",
      "GET: https://oauth.reddit.com/user/xiBurnx/about/.json\n"
     ]
    },
    {
     "name": "stdout",
     "output_type": "stream",
     "text": [
      "User xiBurnx found: {'is_mod': False, 'has_subscribed': True, 'hide_from_robots': False, 'verified': True, 'icon_img': 'https://www.redditstatic.com/avatars/avatar_default_13_EA0027.png', 'is_employee': False, 'comment_karma': 652, 'name': 'xiBurnx', 'subreddit': {'icon_size': [256, 256], 'key_color': '', 'link_flair_enabled': False, 'subreddit_type': 'user', 'name': 't5_eqi6f', 'user_is_moderator': False, 'community_icon': '', 'header_img': None, 'public_description': '', 'show_media': True, 'audience_target': '', 'url': '/user/xiBurnx/', 'description': '', 'display_name_prefixed': 'u/xiBurnx', 'subscribers': 0, 'display_name': 'u_xiBurnx', 'user_is_banned': False, 'is_default_icon': True, 'icon_img': 'https://www.redditstatic.com/avatars/avatar_default_13_EA0027.png', 'over_18': False, 'is_default_banner': True, 'user_is_contributor': False, 'icon_color': '#EA0027', 'header_size': None, 'user_is_muted': False, 'banner_size': None, 'user_is_subscriber': False, 'banner_img': '', 'title': '', 'default_set': True, 'primary_color': ''}, 'is_gold': False, 'is_friend': False, 'id': '13e1qc', 'has_verified_email': False, 'pref_show_snoovatar': False, 'created': 1481159460.0, 'created_utc': 1481130660.0, 'link_karma': 833}\n",
      "Sending a message to user xiBurnx with data {'first_comment_week': 4, 'username': 'xiBurnx', 'url': 'https://docs.google.com/forms/d/e/1FAIpQLSfmgOcsF0ALqWGPHGpJq2cwUr-xIG-uizbQqXPzPuTkrPM-Lg/viewform?usp=pp_url&entry.360321409=xiBurnx&entry.1933578897', 'deleted': False, 'get_info_date': '2018-04-17 14:02:05.356518'}\n"
     ]
    },
    {
     "name": "stderr",
     "output_type": "stream",
     "text": [
      "substituting https://oauth.reddit.com for https://api.reddit.com in url\n",
      "POST: https://oauth.reddit.com/api/compose/.json\n"
     ]
    },
    {
     "name": "stdout",
     "output_type": "stream",
     "text": [
      "Message successfully sent to user xiBurnx\n",
      "APPENDING TO FILE: {'username': 'xiBurnx', 'get_info_date': '2018-04-17 14:02:05.356518', 'deleted': False, 'url': 'https://docs.google.com/forms/d/e/1FAIpQLSfmgOcsF0ALqWGPHGpJq2cwUr-xIG-uizbQqXPzPuTkrPM-Lg/viewform?usp=pp_url&entry.360321409=xiBurnx&entry.1933578897', 'first_comment_week': 4}\n",
      "first_comment_week: 4\n",
      "url: https://docs.google.com/forms/d/e/1FAIpQLSfmgOcsF0ALqWGPHGpJq2cwUr-xIG-uizbQqXPzPuTkrPM-Lg/viewform?usp=pp_url&entry.360321409=xiBurnx&entry.1933578897\n",
      "get_info_data: 2018-04-17 14:02:05.356518\n",
      "deleted: False\n",
      "User MrsMiyagiStew found: {'is_mod': False, 'has_subscribed': True, 'hide_from_robots': False, 'verified': True, 'icon_img': 'https://www.redditstatic.com/avatars/avatar_default_13_46D160.png', 'is_employee': False, 'comment_karma': 5380, 'name': 'MrsMiyagiStew', 'subreddit': {'icon_size': [256, 256], 'key_color': '', 'link_flair_enabled': False, 'subreddit_type': 'user', 'name': 't5_ajtyt', 'user_is_moderator': False, 'community_icon': '', 'header_img': None, 'public_description': '', 'show_media': True, 'audience_target': '', 'url': '/user/MrsMiyagiStew/', 'description': '', 'display_name_prefixed': 'u/MrsMiyagiStew', 'subscribers': 0, 'display_name': 'u_MrsMiyagiStew', 'user_is_banned': False, 'is_default_icon': True, 'icon_img': 'https://www.redditstatic.com/avatars/avatar_default_13_46D160.png', 'over_18': False, 'is_default_banner': True, 'user_is_contributor': False, 'icon_color': '#46D160', 'header_size': None, 'user_is_muted': False, 'banner_size': None, 'user_is_subscriber': False, 'banner_img': '', 'title': '', 'default_set': True, 'primary_color': ''}, 'is_gold': False, 'is_friend': False, 'id': '14crgw', 'has_verified_email': True, 'pref_show_snoovatar': False, 'created': 1484195446.0, 'created_utc': 1484166646.0, 'link_karma': 6865}\n",
      "Sending a message to user MrsMiyagiStew with data {'first_comment_week': 4, 'username': 'MrsMiyagiStew', 'url': 'https://docs.google.com/forms/d/e/1FAIpQLSfmgOcsF0ALqWGPHGpJq2cwUr-xIG-uizbQqXPzPuTkrPM-Lg/viewform?usp=pp_url&entry.360321409=MrsMiyagiStew&entry.1933578897', 'deleted': False, 'get_info_date': '2018-04-17 14:02:09.397579'}\n"
     ]
    },
    {
     "name": "stderr",
     "output_type": "stream",
     "text": [
      "substituting https://oauth.reddit.com for https://api.reddit.com in url\n",
      "GET: https://oauth.reddit.com/user/MrsMiyagiStew/about/.json\n",
      "substituting https://oauth.reddit.com for https://api.reddit.com in url\n",
      "POST: https://oauth.reddit.com/api/compose/.json\n"
     ]
    },
    {
     "name": "stdout",
     "output_type": "stream",
     "text": [
      "Message successfully sent to user MrsMiyagiStew\n",
      "APPENDING TO FILE: {'username': 'MrsMiyagiStew', 'get_info_date': '2018-04-17 14:02:09.397579', 'deleted': False, 'url': 'https://docs.google.com/forms/d/e/1FAIpQLSfmgOcsF0ALqWGPHGpJq2cwUr-xIG-uizbQqXPzPuTkrPM-Lg/viewform?usp=pp_url&entry.360321409=MrsMiyagiStew&entry.1933578897', 'first_comment_week': 4}\n",
      "first_comment_week: 4\n",
      "url: https://docs.google.com/forms/d/e/1FAIpQLSfmgOcsF0ALqWGPHGpJq2cwUr-xIG-uizbQqXPzPuTkrPM-Lg/viewform?usp=pp_url&entry.360321409=MrsMiyagiStew&entry.1933578897\n",
      "get_info_data: 2018-04-17 14:02:09.397579\n",
      "deleted: False\n",
      "User L01-__-10 found: {'is_mod': False, 'has_subscribed': True, 'hide_from_robots': False, 'verified': True, 'icon_img': 'https://www.redditstatic.com/avatars/avatar_default_04_FFD635.png', 'is_employee': False, 'comment_karma': 244, 'name': 'L01-__-10', 'subreddit': {'icon_size': [256, 256], 'key_color': '', 'link_flair_enabled': False, 'subreddit_type': 'user', 'name': 't5_agrvx', 'user_is_moderator': False, 'community_icon': '', 'header_img': None, 'public_description': '', 'show_media': True, 'audience_target': '', 'url': '/user/L01-__-10/', 'description': '', 'display_name_prefixed': 'u/L01-__-10', 'subscribers': 0, 'display_name': 'u_L01-__-10', 'user_is_banned': False, 'is_default_icon': True, 'icon_img': 'https://www.redditstatic.com/avatars/avatar_default_04_FFD635.png', 'over_18': False, 'is_default_banner': True, 'user_is_contributor': False, 'icon_color': '#FFD635', 'header_size': None, 'user_is_muted': False, 'banner_size': None, 'user_is_subscriber': False, 'banner_img': '', 'title': '', 'default_set': True, 'primary_color': ''}, 'is_gold': False, 'is_friend': False, 'id': '139x2z', 'has_verified_email': False, 'pref_show_snoovatar': False, 'created': 1480775056.0, 'created_utc': 1480746256.0, 'link_karma': 1}\n",
      "Sending a message to user L01-__-10 with data {'first_comment_week': 4, 'username': 'L01-__-10', 'url': 'https://docs.google.com/forms/d/e/1FAIpQLSfmgOcsF0ALqWGPHGpJq2cwUr-xIG-uizbQqXPzPuTkrPM-Lg/viewform?usp=pp_url&entry.360321409=L01-__-10&entry.1933578897', 'deleted': False, 'get_info_date': '2018-04-17 14:02:13.767570'}\n"
     ]
    },
    {
     "name": "stderr",
     "output_type": "stream",
     "text": [
      "substituting https://oauth.reddit.com for https://api.reddit.com in url\n",
      "GET: https://oauth.reddit.com/user/L01-__-10/about/.json\n",
      "substituting https://oauth.reddit.com for https://api.reddit.com in url\n",
      "POST: https://oauth.reddit.com/api/compose/.json\n"
     ]
    },
    {
     "name": "stdout",
     "output_type": "stream",
     "text": [
      "Message successfully sent to user L01-__-10\n",
      "APPENDING TO FILE: {'username': 'L01-__-10', 'get_info_date': '2018-04-17 14:02:13.767570', 'deleted': False, 'url': 'https://docs.google.com/forms/d/e/1FAIpQLSfmgOcsF0ALqWGPHGpJq2cwUr-xIG-uizbQqXPzPuTkrPM-Lg/viewform?usp=pp_url&entry.360321409=L01-__-10&entry.1933578897', 'first_comment_week': 4}\n",
      "first_comment_week: 4\n",
      "url: https://docs.google.com/forms/d/e/1FAIpQLSfmgOcsF0ALqWGPHGpJq2cwUr-xIG-uizbQqXPzPuTkrPM-Lg/viewform?usp=pp_url&entry.360321409=L01-__-10&entry.1933578897\n",
      "get_info_data: 2018-04-17 14:02:13.767570\n",
      "deleted: False\n"
     ]
    },
    {
     "name": "stderr",
     "output_type": "stream",
     "text": [
      "substituting https://oauth.reddit.com for https://api.reddit.com in url\n",
      "GET: https://oauth.reddit.com/user/Elincer/about/.json\n"
     ]
    },
    {
     "name": "stdout",
     "output_type": "stream",
     "text": [
      "User Elincer found: {'is_mod': False, 'has_subscribed': True, 'hide_from_robots': False, 'verified': True, 'icon_img': 'https://www.redditstatic.com/avatars/avatar_default_05_008985.png', 'is_employee': False, 'comment_karma': 240, 'name': 'Elincer', 'subreddit': {'icon_size': [256, 256], 'key_color': '', 'link_flair_enabled': False, 'subreddit_type': 'user', 'name': 't5_9lhgz', 'user_is_moderator': False, 'community_icon': '', 'header_img': None, 'public_description': '', 'show_media': True, 'audience_target': '', 'url': '/user/Elincer/', 'description': '', 'display_name_prefixed': 'u/Elincer', 'subscribers': 0, 'display_name': 'u_Elincer', 'user_is_banned': False, 'is_default_icon': True, 'icon_img': 'https://www.redditstatic.com/avatars/avatar_default_05_008985.png', 'over_18': False, 'is_default_banner': True, 'user_is_contributor': False, 'icon_color': '#008985', 'header_size': None, 'user_is_muted': False, 'banner_size': None, 'user_is_subscriber': False, 'banner_img': '', 'title': '', 'default_set': True, 'primary_color': ''}, 'is_gold': False, 'is_friend': False, 'id': 'oxkvjuc', 'has_verified_email': False, 'pref_show_snoovatar': False, 'created': 1513761516.0, 'created_utc': 1513732716.0, 'link_karma': 150}\n",
      "Sending a message to user Elincer with data {'first_comment_week': 4, 'username': 'Elincer', 'url': 'https://docs.google.com/forms/d/e/1FAIpQLSfmgOcsF0ALqWGPHGpJq2cwUr-xIG-uizbQqXPzPuTkrPM-Lg/viewform?usp=pp_url&entry.360321409=Elincer&entry.1933578897', 'deleted': False, 'get_info_date': '2018-04-17 14:02:18.135561'}\n"
     ]
    },
    {
     "name": "stderr",
     "output_type": "stream",
     "text": [
      "substituting https://oauth.reddit.com for https://api.reddit.com in url\n",
      "POST: https://oauth.reddit.com/api/compose/.json\n"
     ]
    },
    {
     "name": "stdout",
     "output_type": "stream",
     "text": [
      "Message successfully sent to user Elincer\n",
      "APPENDING TO FILE: {'username': 'Elincer', 'get_info_date': '2018-04-17 14:02:18.135561', 'deleted': False, 'url': 'https://docs.google.com/forms/d/e/1FAIpQLSfmgOcsF0ALqWGPHGpJq2cwUr-xIG-uizbQqXPzPuTkrPM-Lg/viewform?usp=pp_url&entry.360321409=Elincer&entry.1933578897', 'first_comment_week': 4}\n",
      "first_comment_week: 4\n",
      "url: https://docs.google.com/forms/d/e/1FAIpQLSfmgOcsF0ALqWGPHGpJq2cwUr-xIG-uizbQqXPzPuTkrPM-Lg/viewform?usp=pp_url&entry.360321409=Elincer&entry.1933578897\n",
      "get_info_data: 2018-04-17 14:02:18.135561\n",
      "deleted: False\n",
      "User overlyorange found: {'is_mod': False, 'has_subscribed': True, 'hide_from_robots': False, 'verified': False, 'icon_img': 'https://www.redditstatic.com/avatars/avatar_default_07_FF585B.png', 'is_employee': False, 'comment_karma': 854, 'name': 'overlyorange', 'subreddit': None, 'is_gold': False, 'is_friend': False, 'id': 'o562e', 'has_verified_email': False, 'pref_show_snoovatar': False, 'created': 1434481818.0, 'created_utc': 1434453018.0, 'link_karma': 28}\n",
      "Sending a message to user overlyorange with data {'first_comment_week': 4, 'username': 'overlyorange', 'url': 'https://docs.google.com/forms/d/e/1FAIpQLSfmgOcsF0ALqWGPHGpJq2cwUr-xIG-uizbQqXPzPuTkrPM-Lg/viewform?usp=pp_url&entry.360321409=overlyorange&entry.1933578897', 'deleted': False, 'get_info_date': '2018-04-17 14:02:22.293525'}\n"
     ]
    },
    {
     "name": "stderr",
     "output_type": "stream",
     "text": [
      "substituting https://oauth.reddit.com for https://api.reddit.com in url\n",
      "GET: https://oauth.reddit.com/user/overlyorange/about/.json\n",
      "substituting https://oauth.reddit.com for https://api.reddit.com in url\n",
      "POST: https://oauth.reddit.com/api/compose/.json\n"
     ]
    },
    {
     "name": "stdout",
     "output_type": "stream",
     "text": [
      "Message successfully sent to user overlyorange\n",
      "APPENDING TO FILE: {'username': 'overlyorange', 'get_info_date': '2018-04-17 14:02:22.293525', 'deleted': False, 'url': 'https://docs.google.com/forms/d/e/1FAIpQLSfmgOcsF0ALqWGPHGpJq2cwUr-xIG-uizbQqXPzPuTkrPM-Lg/viewform?usp=pp_url&entry.360321409=overlyorange&entry.1933578897', 'first_comment_week': 4}\n",
      "first_comment_week: 4\n",
      "url: https://docs.google.com/forms/d/e/1FAIpQLSfmgOcsF0ALqWGPHGpJq2cwUr-xIG-uizbQqXPzPuTkrPM-Lg/viewform?usp=pp_url&entry.360321409=overlyorange&entry.1933578897\n",
      "get_info_data: 2018-04-17 14:02:22.293525\n",
      "deleted: False\n",
      "User idioma found: {'is_mod': True, 'has_subscribed': True, 'hide_from_robots': False, 'verified': False, 'icon_img': 'https://www.redditstatic.com/avatars/avatar_default_03_7193FF.png', 'is_employee': False, 'comment_karma': 50537, 'name': 'idioma', 'subreddit': None, 'is_gold': False, 'is_friend': False, 'id': '3no66', 'has_verified_email': True, 'pref_show_snoovatar': False, 'created': 1254500473.0, 'created_utc': 1254471673.0, 'link_karma': 7607}\n",
      "Sending a message to user idioma with data {'first_comment_week': 4, 'username': 'idioma', 'url': 'https://docs.google.com/forms/d/e/1FAIpQLSfmgOcsF0ALqWGPHGpJq2cwUr-xIG-uizbQqXPzPuTkrPM-Lg/viewform?usp=pp_url&entry.360321409=idioma&entry.1933578897', 'deleted': False, 'get_info_date': '2018-04-17 14:02:26.400426'}\n"
     ]
    },
    {
     "name": "stderr",
     "output_type": "stream",
     "text": [
      "substituting https://oauth.reddit.com for https://api.reddit.com in url\n",
      "GET: https://oauth.reddit.com/user/idioma/about/.json\n",
      "substituting https://oauth.reddit.com for https://api.reddit.com in url\n",
      "POST: https://oauth.reddit.com/api/compose/.json\n"
     ]
    },
    {
     "name": "stdout",
     "output_type": "stream",
     "text": [
      "Message successfully sent to user idioma\n",
      "APPENDING TO FILE: {'username': 'idioma', 'get_info_date': '2018-04-17 14:02:26.400426', 'deleted': False, 'url': 'https://docs.google.com/forms/d/e/1FAIpQLSfmgOcsF0ALqWGPHGpJq2cwUr-xIG-uizbQqXPzPuTkrPM-Lg/viewform?usp=pp_url&entry.360321409=idioma&entry.1933578897', 'first_comment_week': 4}\n",
      "first_comment_week: 4\n",
      "url: https://docs.google.com/forms/d/e/1FAIpQLSfmgOcsF0ALqWGPHGpJq2cwUr-xIG-uizbQqXPzPuTkrPM-Lg/viewform?usp=pp_url&entry.360321409=idioma&entry.1933578897\n",
      "get_info_data: 2018-04-17 14:02:26.400426\n",
      "deleted: False\n",
      "User NarrowMethod found: {'is_mod': False, 'has_subscribed': True, 'hide_from_robots': False, 'verified': True, 'icon_img': 'https://www.redditstatic.com/avatars/avatar_default_18_545452.png', 'is_employee': False, 'comment_karma': -78, 'name': 'NarrowMethod', 'subreddit': {'icon_size': [256, 256], 'key_color': '', 'link_flair_enabled': False, 'subreddit_type': 'user', 'name': 't5_glf2q', 'user_is_moderator': False, 'community_icon': '', 'header_img': None, 'public_description': '', 'show_media': True, 'audience_target': '', 'url': '/user/NarrowMethod/', 'description': '', 'display_name_prefixed': 'u/NarrowMethod', 'subscribers': 0, 'display_name': 'u_NarrowMethod', 'user_is_banned': False, 'is_default_icon': True, 'icon_img': 'https://www.redditstatic.com/avatars/avatar_default_18_545452.png', 'over_18': False, 'is_default_banner': True, 'user_is_contributor': False, 'icon_color': '#545452', 'header_size': None, 'user_is_muted': False, 'banner_size': None, 'user_is_subscriber': False, 'banner_img': '', 'title': '', 'default_set': True, 'primary_color': ''}, 'is_gold': False, 'is_friend': False, 'id': '10dqvbrx', 'has_verified_email': False, 'pref_show_snoovatar': False, 'created': 1520475776.0, 'created_utc': 1520446976.0, 'link_karma': 24}\n",
      "Sending a message to user NarrowMethod with data {'first_comment_week': 4, 'username': 'NarrowMethod', 'url': 'https://docs.google.com/forms/d/e/1FAIpQLSfmgOcsF0ALqWGPHGpJq2cwUr-xIG-uizbQqXPzPuTkrPM-Lg/viewform?usp=pp_url&entry.360321409=NarrowMethod&entry.1933578897', 'deleted': False, 'get_info_date': '2018-04-17 14:02:30.640690'}\n"
     ]
    },
    {
     "name": "stderr",
     "output_type": "stream",
     "text": [
      "substituting https://oauth.reddit.com for https://api.reddit.com in url\n",
      "GET: https://oauth.reddit.com/user/NarrowMethod/about/.json\n",
      "substituting https://oauth.reddit.com for https://api.reddit.com in url\n",
      "POST: https://oauth.reddit.com/api/compose/.json\n"
     ]
    },
    {
     "name": "stdout",
     "output_type": "stream",
     "text": [
      "Message successfully sent to user NarrowMethod\n",
      "APPENDING TO FILE: {'username': 'NarrowMethod', 'get_info_date': '2018-04-17 14:02:30.640690', 'deleted': False, 'url': 'https://docs.google.com/forms/d/e/1FAIpQLSfmgOcsF0ALqWGPHGpJq2cwUr-xIG-uizbQqXPzPuTkrPM-Lg/viewform?usp=pp_url&entry.360321409=NarrowMethod&entry.1933578897', 'first_comment_week': 4}\n",
      "first_comment_week: 4\n",
      "url: https://docs.google.com/forms/d/e/1FAIpQLSfmgOcsF0ALqWGPHGpJq2cwUr-xIG-uizbQqXPzPuTkrPM-Lg/viewform?usp=pp_url&entry.360321409=NarrowMethod&entry.1933578897\n",
      "get_info_data: 2018-04-17 14:02:30.640690\n",
      "deleted: False\n",
      "User Chfrankel found: {'is_mod': True, 'has_subscribed': True, 'hide_from_robots': False, 'verified': True, 'icon_img': 'https://s.redditmedia.com/t5_h6dwb/styles/profileIcon_b5cus2kqnen01.jpg?fit=crop&crop=faces%2Centropy&arh=1.0&w=256&h=256&s=6d075cf6364421ee4179e533957b8bf3', 'is_employee': False, 'comment_karma': 40, 'name': 'Chfrankel', 'subreddit': {'icon_size': [256, 256], 'key_color': '', 'link_flair_enabled': False, 'subreddit_type': 'user', 'name': 't5_h6dwb', 'user_is_moderator': False, 'community_icon': '', 'header_img': None, 'public_description': 'Attorney, host of the delightful podcast Habeas Humor\\nhabhumor.libsyn.com\\nwww.frankel-law.com', 'show_media': True, 'audience_target': '', 'url': '/user/Chfrankel/', 'description': '', 'display_name_prefixed': 'u/Chfrankel', 'subscribers': 0, 'display_name': 'u_Chfrankel', 'user_is_banned': False, 'is_default_icon': False, 'icon_img': 'https://s.redditmedia.com/t5_h6dwb/styles/profileIcon_b5cus2kqnen01.jpg?fit=crop&crop=faces%2Centropy&arh=1.0&w=256&h=256&s=6d075cf6364421ee4179e533957b8bf3', 'over_18': True, 'is_default_banner': False, 'user_is_contributor': False, 'icon_color': '', 'header_size': None, 'user_is_muted': False, 'banner_size': [1280, 384], 'user_is_subscriber': False, 'banner_img': 'https://s.redditmedia.com/t5_h6dwb/styles/profileBanner_wqpnh0frnen01.jpg?fit=crop&crop=center&arh=0.3&w=1280&h=384&s=47b3ad506a8f3197d90b6bd03e4abbdc', 'title': 'Chfrankel', 'default_set': True, 'primary_color': ''}, 'is_gold': False, 'is_friend': False, 'id': '15httc', 'has_verified_email': True, 'pref_show_snoovatar': False, 'created': 1487380996.0, 'created_utc': 1487352196.0, 'link_karma': 27}\n",
      "Sending a message to user Chfrankel with data {'first_comment_week': 4, 'username': 'Chfrankel', 'url': 'https://docs.google.com/forms/d/e/1FAIpQLSfmgOcsF0ALqWGPHGpJq2cwUr-xIG-uizbQqXPzPuTkrPM-Lg/viewform?usp=pp_url&entry.360321409=Chfrankel&entry.1933578897', 'deleted': False, 'get_info_date': '2018-04-17 14:02:34.727647'}\n"
     ]
    },
    {
     "name": "stderr",
     "output_type": "stream",
     "text": [
      "substituting https://oauth.reddit.com for https://api.reddit.com in url\n",
      "GET: https://oauth.reddit.com/user/Chfrankel/about/.json\n",
      "substituting https://oauth.reddit.com for https://api.reddit.com in url\n",
      "POST: https://oauth.reddit.com/api/compose/.json\n"
     ]
    },
    {
     "name": "stdout",
     "output_type": "stream",
     "text": [
      "Message successfully sent to user Chfrankel\n",
      "APPENDING TO FILE: {'username': 'Chfrankel', 'get_info_date': '2018-04-17 14:02:34.727647', 'deleted': False, 'url': 'https://docs.google.com/forms/d/e/1FAIpQLSfmgOcsF0ALqWGPHGpJq2cwUr-xIG-uizbQqXPzPuTkrPM-Lg/viewform?usp=pp_url&entry.360321409=Chfrankel&entry.1933578897', 'first_comment_week': 4}\n",
      "first_comment_week: 4\n",
      "url: https://docs.google.com/forms/d/e/1FAIpQLSfmgOcsF0ALqWGPHGpJq2cwUr-xIG-uizbQqXPzPuTkrPM-Lg/viewform?usp=pp_url&entry.360321409=Chfrankel&entry.1933578897\n",
      "get_info_data: 2018-04-17 14:02:34.727647\n",
      "deleted: False\n"
     ]
    },
    {
     "name": "stderr",
     "output_type": "stream",
     "text": [
      "substituting https://oauth.reddit.com for https://api.reddit.com in url\n",
      "GET: https://oauth.reddit.com/user/captiansnugglepants/about/.json\n"
     ]
    },
    {
     "name": "stdout",
     "output_type": "stream",
     "text": [
      "User captiansnugglepants found: {'is_mod': False, 'has_subscribed': True, 'hide_from_robots': False, 'verified': True, 'icon_img': 'https://www.redditstatic.com/avatars/avatar_default_20_0079D3.png', 'is_employee': False, 'comment_karma': 45, 'name': 'captiansnugglepants', 'subreddit': {'icon_size': [256, 256], 'key_color': '', 'link_flair_enabled': False, 'subreddit_type': 'user', 'name': 't5_dl1g5', 'user_is_moderator': False, 'community_icon': '', 'header_img': None, 'public_description': '', 'show_media': True, 'audience_target': '', 'url': '/user/captiansnugglepants/', 'description': '', 'display_name_prefixed': 'u/captiansnugglepants', 'subscribers': 0, 'display_name': 'u_captiansnugglepants', 'user_is_banned': False, 'is_default_icon': True, 'icon_img': 'https://www.redditstatic.com/avatars/avatar_default_20_0079D3.png', 'over_18': False, 'is_default_banner': True, 'user_is_contributor': False, 'icon_color': '#0079D3', 'header_size': None, 'user_is_muted': False, 'banner_size': None, 'user_is_subscriber': False, 'banner_img': '', 'title': '', 'default_set': True, 'primary_color': ''}, 'is_gold': False, 'is_friend': False, 'id': '12oob7', 'has_verified_email': False, 'pref_show_snoovatar': False, 'created': 1478664694.0, 'created_utc': 1478635894.0, 'link_karma': 6835}\n",
      "Sending a message to user captiansnugglepants with data {'first_comment_week': 4, 'username': 'captiansnugglepants', 'url': 'https://docs.google.com/forms/d/e/1FAIpQLSfmgOcsF0ALqWGPHGpJq2cwUr-xIG-uizbQqXPzPuTkrPM-Lg/viewform?usp=pp_url&entry.360321409=captiansnugglepants&entry.1933578897', 'deleted': False, 'get_info_date': '2018-04-17 14:02:39.110996'}\n"
     ]
    },
    {
     "name": "stderr",
     "output_type": "stream",
     "text": [
      "substituting https://oauth.reddit.com for https://api.reddit.com in url\n",
      "POST: https://oauth.reddit.com/api/compose/.json\n"
     ]
    },
    {
     "name": "stdout",
     "output_type": "stream",
     "text": [
      "Message successfully sent to user captiansnugglepants\n",
      "APPENDING TO FILE: {'username': 'captiansnugglepants', 'get_info_date': '2018-04-17 14:02:39.110996', 'deleted': False, 'url': 'https://docs.google.com/forms/d/e/1FAIpQLSfmgOcsF0ALqWGPHGpJq2cwUr-xIG-uizbQqXPzPuTkrPM-Lg/viewform?usp=pp_url&entry.360321409=captiansnugglepants&entry.1933578897', 'first_comment_week': 4}\n",
      "first_comment_week: 4\n",
      "url: https://docs.google.com/forms/d/e/1FAIpQLSfmgOcsF0ALqWGPHGpJq2cwUr-xIG-uizbQqXPzPuTkrPM-Lg/viewform?usp=pp_url&entry.360321409=captiansnugglepants&entry.1933578897\n",
      "get_info_data: 2018-04-17 14:02:39.110996\n",
      "deleted: False\n",
      "User rayiswaycool found: {'is_mod': False, 'has_subscribed': True, 'hide_from_robots': False, 'verified': True, 'icon_img': 'https://s.redditmedia.com/t5_bspdm/styles/profileIcon_3y5plkjltta01.jpg?fit=crop&crop=faces%2Centropy&arh=1.0&w=256&h=256&s=5ab875b638eab1d82d55f5745f8131ad', 'is_employee': False, 'comment_karma': 22, 'name': 'rayiswaycool', 'subreddit': {'icon_size': [256, 256], 'key_color': '', 'link_flair_enabled': False, 'subreddit_type': 'user', 'name': 't5_bspdm', 'user_is_moderator': False, 'community_icon': '', 'header_img': None, 'public_description': 'people say I make the best brownies ever.', 'show_media': True, 'audience_target': '', 'url': '/user/rayiswaycool/', 'description': '', 'display_name_prefixed': 'u/rayiswaycool', 'subscribers': 0, 'display_name': 'u_rayiswaycool', 'user_is_banned': False, 'is_default_icon': False, 'icon_img': 'https://s.redditmedia.com/t5_bspdm/styles/profileIcon_3y5plkjltta01.jpg?fit=crop&crop=faces%2Centropy&arh=1.0&w=256&h=256&s=5ab875b638eab1d82d55f5745f8131ad', 'over_18': False, 'is_default_banner': False, 'user_is_contributor': False, 'icon_color': '', 'header_size': None, 'user_is_muted': False, 'banner_size': [1280, 384], 'user_is_subscriber': False, 'banner_img': 'https://s.redditmedia.com/t5_bspdm/styles/profileBanner_yoepzum0wta01.jpg?fit=crop&crop=center&arh=0.3&w=1280&h=384&s=49bd8f0d613cb0896d9da65162f06a7a', 'title': '', 'default_set': True, 'primary_color': ''}, 'is_gold': False, 'is_friend': False, 'id': 'zvkxn', 'has_verified_email': True, 'pref_show_snoovatar': False, 'created': 1469697701.0, 'created_utc': 1469668901.0, 'link_karma': 1}\n",
      "Sending a message to user rayiswaycool with data {'first_comment_week': 4, 'username': 'rayiswaycool', 'url': 'https://docs.google.com/forms/d/e/1FAIpQLSfmgOcsF0ALqWGPHGpJq2cwUr-xIG-uizbQqXPzPuTkrPM-Lg/viewform?usp=pp_url&entry.360321409=rayiswaycool&entry.1933578897', 'deleted': False, 'get_info_date': '2018-04-17 14:02:43.263361'}\n"
     ]
    },
    {
     "name": "stderr",
     "output_type": "stream",
     "text": [
      "substituting https://oauth.reddit.com for https://api.reddit.com in url\n",
      "GET: https://oauth.reddit.com/user/rayiswaycool/about/.json\n",
      "substituting https://oauth.reddit.com for https://api.reddit.com in url\n",
      "POST: https://oauth.reddit.com/api/compose/.json\n"
     ]
    },
    {
     "name": "stdout",
     "output_type": "stream",
     "text": [
      "Message successfully sent to user rayiswaycool\n",
      "APPENDING TO FILE: {'username': 'rayiswaycool', 'get_info_date': '2018-04-17 14:02:43.263361', 'deleted': False, 'url': 'https://docs.google.com/forms/d/e/1FAIpQLSfmgOcsF0ALqWGPHGpJq2cwUr-xIG-uizbQqXPzPuTkrPM-Lg/viewform?usp=pp_url&entry.360321409=rayiswaycool&entry.1933578897', 'first_comment_week': 4}\n",
      "first_comment_week: 4\n",
      "url: https://docs.google.com/forms/d/e/1FAIpQLSfmgOcsF0ALqWGPHGpJq2cwUr-xIG-uizbQqXPzPuTkrPM-Lg/viewform?usp=pp_url&entry.360321409=rayiswaycool&entry.1933578897\n",
      "get_info_data: 2018-04-17 14:02:43.263361\n",
      "deleted: False\n",
      "User TomHardyAsBronson found: {'is_mod': True, 'has_subscribed': True, 'hide_from_robots': False, 'verified': False, 'icon_img': 'https://www.redditstatic.com/avatars/avatar_default_04_DDBD37.png', 'is_employee': False, 'comment_karma': 33465, 'name': 'TomHardyAsBronson', 'subreddit': None, 'is_gold': False, 'is_friend': False, 'id': 'og9of', 'has_verified_email': True, 'pref_show_snoovatar': False, 'created': 1435734547.0, 'created_utc': 1435705747.0, 'link_karma': 2029}\n",
      "Sending a message to user TomHardyAsBronson with data {'first_comment_week': 4, 'username': 'TomHardyAsBronson', 'url': 'https://docs.google.com/forms/d/e/1FAIpQLSfmgOcsF0ALqWGPHGpJq2cwUr-xIG-uizbQqXPzPuTkrPM-Lg/viewform?usp=pp_url&entry.360321409=TomHardyAsBronson&entry.1933578897', 'deleted': False, 'get_info_date': '2018-04-17 14:02:47.475553'}\n"
     ]
    },
    {
     "name": "stderr",
     "output_type": "stream",
     "text": [
      "substituting https://oauth.reddit.com for https://api.reddit.com in url\n",
      "GET: https://oauth.reddit.com/user/TomHardyAsBronson/about/.json\n",
      "substituting https://oauth.reddit.com for https://api.reddit.com in url\n",
      "POST: https://oauth.reddit.com/api/compose/.json\n"
     ]
    },
    {
     "name": "stdout",
     "output_type": "stream",
     "text": [
      "Message successfully sent to user TomHardyAsBronson\n",
      "APPENDING TO FILE: {'username': 'TomHardyAsBronson', 'get_info_date': '2018-04-17 14:02:47.475553', 'deleted': False, 'url': 'https://docs.google.com/forms/d/e/1FAIpQLSfmgOcsF0ALqWGPHGpJq2cwUr-xIG-uizbQqXPzPuTkrPM-Lg/viewform?usp=pp_url&entry.360321409=TomHardyAsBronson&entry.1933578897', 'first_comment_week': 4}\n",
      "first_comment_week: 4\n",
      "url: https://docs.google.com/forms/d/e/1FAIpQLSfmgOcsF0ALqWGPHGpJq2cwUr-xIG-uizbQqXPzPuTkrPM-Lg/viewform?usp=pp_url&entry.360321409=TomHardyAsBronson&entry.1933578897\n",
      "get_info_data: 2018-04-17 14:02:47.475553\n",
      "deleted: False\n",
      "User AFuckYou found: {'is_mod': True, 'has_subscribed': True, 'hide_from_robots': True, 'verified': False, 'icon_img': 'https://www.redditstatic.com/avatars/avatar_default_04_7193FF.png', 'is_employee': False, 'comment_karma': 83177, 'name': 'AFuckYou', 'subreddit': None, 'is_gold': False, 'is_friend': False, 'id': '13dgd7', 'has_verified_email': True, 'pref_show_snoovatar': False, 'created': 1481102887.0, 'created_utc': 1481074087.0, 'link_karma': 9993}\n",
      "Sending a message to user AFuckYou with data {'first_comment_week': 4, 'username': 'AFuckYou', 'url': 'https://docs.google.com/forms/d/e/1FAIpQLSfmgOcsF0ALqWGPHGpJq2cwUr-xIG-uizbQqXPzPuTkrPM-Lg/viewform?usp=pp_url&entry.360321409=AFuckYou&entry.1933578897', 'deleted': False, 'get_info_date': '2018-04-17 14:02:51.630365'}\n"
     ]
    },
    {
     "name": "stderr",
     "output_type": "stream",
     "text": [
      "substituting https://oauth.reddit.com for https://api.reddit.com in url\n",
      "GET: https://oauth.reddit.com/user/AFuckYou/about/.json\n",
      "substituting https://oauth.reddit.com for https://api.reddit.com in url\n",
      "POST: https://oauth.reddit.com/api/compose/.json\n"
     ]
    },
    {
     "name": "stdout",
     "output_type": "stream",
     "text": [
      "Message successfully sent to user AFuckYou\n",
      "APPENDING TO FILE: {'username': 'AFuckYou', 'get_info_date': '2018-04-17 14:02:51.630365', 'deleted': False, 'url': 'https://docs.google.com/forms/d/e/1FAIpQLSfmgOcsF0ALqWGPHGpJq2cwUr-xIG-uizbQqXPzPuTkrPM-Lg/viewform?usp=pp_url&entry.360321409=AFuckYou&entry.1933578897', 'first_comment_week': 4}\n",
      "first_comment_week: 4\n",
      "url: https://docs.google.com/forms/d/e/1FAIpQLSfmgOcsF0ALqWGPHGpJq2cwUr-xIG-uizbQqXPzPuTkrPM-Lg/viewform?usp=pp_url&entry.360321409=AFuckYou&entry.1933578897\n",
      "get_info_data: 2018-04-17 14:02:51.630365\n",
      "deleted: False\n",
      "User ItchyCurse found: {'is_mod': False, 'has_subscribed': True, 'hide_from_robots': False, 'verified': True, 'icon_img': 'https://s.redditmedia.com/t5_57es8/styles/profileIcon_cj8ag9khv9c01.jpeg?fit=crop&crop=faces%2Centropy&arh=1.0&w=256&h=256&s=f818001acdf9a8bc497accbea3ff81bb', 'is_employee': False, 'comment_karma': -7, 'name': 'ItchyCurse', 'subreddit': {'icon_size': [256, 256], 'key_color': '', 'link_flair_enabled': False, 'subreddit_type': 'user', 'name': 't5_57es8', 'user_is_moderator': False, 'community_icon': '', 'header_img': None, 'public_description': '', 'show_media': True, 'audience_target': '', 'url': '/user/ItchyCurse/', 'description': '', 'display_name_prefixed': 'u/ItchyCurse', 'subscribers': 0, 'display_name': 'u_ItchyCurse', 'user_is_banned': False, 'is_default_icon': False, 'icon_img': 'https://s.redditmedia.com/t5_57es8/styles/profileIcon_cj8ag9khv9c01.jpeg?fit=crop&crop=faces%2Centropy&arh=1.0&w=256&h=256&s=f818001acdf9a8bc497accbea3ff81bb', 'over_18': False, 'is_default_banner': False, 'user_is_contributor': False, 'icon_color': '', 'header_size': None, 'user_is_muted': False, 'banner_size': [1280, 384], 'user_is_subscriber': False, 'banner_img': 'https://s.redditmedia.com/t5_57es8/styles/profileBanner_8ry4a6wpv9c01.png?fit=crop&crop=center&arh=0.3&w=1280&h=384&s=846a55df7320d29c9afb22a8f32eec15', 'title': '', 'default_set': True, 'primary_color': ''}, 'is_gold': False, 'is_friend': False, 'id': 'nbvu4hv', 'has_verified_email': True, 'pref_show_snoovatar': False, 'created': 1512607279.0, 'created_utc': 1512578479.0, 'link_karma': 8820}\n",
      "Sending a message to user ItchyCurse with data {'first_comment_week': 4, 'username': 'ItchyCurse', 'url': 'https://docs.google.com/forms/d/e/1FAIpQLSfmgOcsF0ALqWGPHGpJq2cwUr-xIG-uizbQqXPzPuTkrPM-Lg/viewform?usp=pp_url&entry.360321409=ItchyCurse&entry.1933578897', 'deleted': False, 'get_info_date': '2018-04-17 14:02:55.920708'}\n"
     ]
    },
    {
     "name": "stderr",
     "output_type": "stream",
     "text": [
      "substituting https://oauth.reddit.com for https://api.reddit.com in url\n",
      "GET: https://oauth.reddit.com/user/ItchyCurse/about/.json\n",
      "substituting https://oauth.reddit.com for https://api.reddit.com in url\n",
      "POST: https://oauth.reddit.com/api/compose/.json\n"
     ]
    },
    {
     "name": "stdout",
     "output_type": "stream",
     "text": [
      "Message successfully sent to user ItchyCurse\n",
      "APPENDING TO FILE: {'username': 'ItchyCurse', 'get_info_date': '2018-04-17 14:02:55.920708', 'deleted': False, 'url': 'https://docs.google.com/forms/d/e/1FAIpQLSfmgOcsF0ALqWGPHGpJq2cwUr-xIG-uizbQqXPzPuTkrPM-Lg/viewform?usp=pp_url&entry.360321409=ItchyCurse&entry.1933578897', 'first_comment_week': 4}\n",
      "first_comment_week: 4\n",
      "url: https://docs.google.com/forms/d/e/1FAIpQLSfmgOcsF0ALqWGPHGpJq2cwUr-xIG-uizbQqXPzPuTkrPM-Lg/viewform?usp=pp_url&entry.360321409=ItchyCurse&entry.1933578897\n",
      "get_info_data: 2018-04-17 14:02:55.920708\n",
      "deleted: False\n",
      "User nomoremermaids found: {'is_mod': False, 'has_subscribed': True, 'hide_from_robots': True, 'verified': True, 'icon_img': 'https://www.redditstatic.com/avatars/avatar_default_02_DB0064.png', 'is_employee': False, 'comment_karma': 5484, 'name': 'nomoremermaids', 'subreddit': {'icon_size': [256, 256], 'key_color': '', 'link_flair_enabled': False, 'subreddit_type': 'user', 'name': 't5_erxva', 'user_is_moderator': False, 'community_icon': '', 'header_img': None, 'public_description': '', 'show_media': True, 'audience_target': '', 'url': '/user/nomoremermaids/', 'description': '', 'display_name_prefixed': 'u/nomoremermaids', 'subscribers': 0, 'display_name': 'u_nomoremermaids', 'user_is_banned': False, 'is_default_icon': True, 'icon_img': 'https://www.redditstatic.com/avatars/avatar_default_02_DB0064.png', 'over_18': False, 'is_default_banner': True, 'user_is_contributor': False, 'icon_color': '#DB0064', 'header_size': None, 'user_is_muted': False, 'banner_size': None, 'user_is_subscriber': False, 'banner_img': '', 'title': '', 'default_set': True, 'primary_color': ''}, 'is_gold': False, 'is_friend': False, 'id': '36jrl', 'has_verified_email': False, 'pref_show_snoovatar': False, 'created': 1214609452.0, 'created_utc': 1214580652.0, 'link_karma': 72}\n",
      "Sending a message to user nomoremermaids with data {'first_comment_week': 4, 'username': 'nomoremermaids', 'url': 'https://docs.google.com/forms/d/e/1FAIpQLSfmgOcsF0ALqWGPHGpJq2cwUr-xIG-uizbQqXPzPuTkrPM-Lg/viewform?usp=pp_url&entry.360321409=nomoremermaids&entry.1933578897', 'deleted': False, 'get_info_date': '2018-04-17 14:03:00.197754'}\n"
     ]
    },
    {
     "name": "stderr",
     "output_type": "stream",
     "text": [
      "substituting https://oauth.reddit.com for https://api.reddit.com in url\n",
      "GET: https://oauth.reddit.com/user/nomoremermaids/about/.json\n",
      "substituting https://oauth.reddit.com for https://api.reddit.com in url\n",
      "POST: https://oauth.reddit.com/api/compose/.json\n"
     ]
    },
    {
     "name": "stdout",
     "output_type": "stream",
     "text": [
      "Message successfully sent to user nomoremermaids\n",
      "APPENDING TO FILE: {'username': 'nomoremermaids', 'get_info_date': '2018-04-17 14:03:00.197754', 'deleted': False, 'url': 'https://docs.google.com/forms/d/e/1FAIpQLSfmgOcsF0ALqWGPHGpJq2cwUr-xIG-uizbQqXPzPuTkrPM-Lg/viewform?usp=pp_url&entry.360321409=nomoremermaids&entry.1933578897', 'first_comment_week': 4}\n",
      "first_comment_week: 4\n",
      "url: https://docs.google.com/forms/d/e/1FAIpQLSfmgOcsF0ALqWGPHGpJq2cwUr-xIG-uizbQqXPzPuTkrPM-Lg/viewform?usp=pp_url&entry.360321409=nomoremermaids&entry.1933578897\n",
      "get_info_data: 2018-04-17 14:03:00.197754\n",
      "deleted: False\n",
      "User not found: LowAffinity\n"
     ]
    },
    {
     "name": "stderr",
     "output_type": "stream",
     "text": [
      "substituting https://oauth.reddit.com for https://api.reddit.com in url\n",
      "GET: https://oauth.reddit.com/user/LowAffinity/about/.json\n"
     ]
    },
    {
     "name": "stdout",
     "output_type": "stream",
     "text": [
      "User comrade_zorro found: {'is_mod': False, 'has_subscribed': True, 'hide_from_robots': False, 'verified': True, 'icon_img': 'https://www.redditstatic.com/avatars/avatar_default_20_46D160.png', 'is_employee': False, 'comment_karma': 580, 'name': 'comrade_zorro', 'subreddit': {'icon_size': [256, 256], 'key_color': '', 'link_flair_enabled': False, 'subreddit_type': 'user', 'name': 't5_adf96', 'user_is_moderator': False, 'community_icon': '', 'header_img': None, 'public_description': '', 'show_media': True, 'audience_target': '', 'url': '/user/comrade_zorro/', 'description': '', 'display_name_prefixed': 'u/comrade_zorro', 'subscribers': 0, 'display_name': 'u_comrade_zorro', 'user_is_banned': False, 'is_default_icon': True, 'icon_img': 'https://www.redditstatic.com/avatars/avatar_default_20_46D160.png', 'over_18': False, 'is_default_banner': True, 'user_is_contributor': False, 'icon_color': '#46D160', 'header_size': None, 'user_is_muted': False, 'banner_size': None, 'user_is_subscriber': False, 'banner_img': '', 'title': '', 'default_set': True, 'primary_color': ''}, 'is_gold': False, 'is_friend': False, 'id': 'r9t97v7', 'has_verified_email': False, 'pref_show_snoovatar': False, 'created': 1515481277.0, 'created_utc': 1515452477.0, 'link_karma': 12665}\n",
      "Sending a message to user comrade_zorro with data {'first_comment_week': 4, 'username': 'comrade_zorro', 'url': 'https://docs.google.com/forms/d/e/1FAIpQLSfmgOcsF0ALqWGPHGpJq2cwUr-xIG-uizbQqXPzPuTkrPM-Lg/viewform?usp=pp_url&entry.360321409=comrade_zorro&entry.1933578897', 'deleted': False, 'get_info_date': '2018-04-17 14:03:06.543385'}\n"
     ]
    },
    {
     "name": "stderr",
     "output_type": "stream",
     "text": [
      "substituting https://oauth.reddit.com for https://api.reddit.com in url\n",
      "GET: https://oauth.reddit.com/user/comrade_zorro/about/.json\n",
      "substituting https://oauth.reddit.com for https://api.reddit.com in url\n",
      "POST: https://oauth.reddit.com/api/compose/.json\n"
     ]
    },
    {
     "name": "stdout",
     "output_type": "stream",
     "text": [
      "Message successfully sent to user comrade_zorro\n",
      "APPENDING TO FILE: {'username': 'comrade_zorro', 'get_info_date': '2018-04-17 14:03:06.543385', 'deleted': False, 'url': 'https://docs.google.com/forms/d/e/1FAIpQLSfmgOcsF0ALqWGPHGpJq2cwUr-xIG-uizbQqXPzPuTkrPM-Lg/viewform?usp=pp_url&entry.360321409=comrade_zorro&entry.1933578897', 'first_comment_week': 4}\n",
      "first_comment_week: 4\n",
      "url: https://docs.google.com/forms/d/e/1FAIpQLSfmgOcsF0ALqWGPHGpJq2cwUr-xIG-uizbQqXPzPuTkrPM-Lg/viewform?usp=pp_url&entry.360321409=comrade_zorro&entry.1933578897\n",
      "get_info_data: 2018-04-17 14:03:06.543385\n",
      "deleted: False\n",
      "User btfokook found: {'is_mod': False, 'has_subscribed': True, 'hide_from_robots': False, 'verified': True, 'icon_img': 'https://s.redditmedia.com/t5_g20qt/styles/communityIcon_85mxgxh60lh01.jpg?fit=crop&crop=faces%2Centropy&arh=1.0&w=256&h=256&s=9858d43d8b1f4272042765b9c3dc6a19', 'is_employee': False, 'comment_karma': 130, 'name': 'btfokook', 'subreddit': {'icon_size': [256, 256], 'key_color': '', 'link_flair_enabled': False, 'subreddit_type': 'user', 'name': 't5_g20qt', 'user_is_moderator': False, 'community_icon': '', 'header_img': None, 'public_description': 'party animal with an intellectual streak', 'show_media': True, 'audience_target': '', 'url': '/user/btfokook/', 'description': '', 'display_name_prefixed': 'u/btfokook', 'subscribers': 0, 'display_name': 'u_btfokook', 'user_is_banned': False, 'is_default_icon': False, 'icon_img': 'https://s.redditmedia.com/t5_g20qt/styles/communityIcon_85mxgxh60lh01.jpg?fit=crop&crop=faces%2Centropy&arh=1.0&w=256&h=256&s=9858d43d8b1f4272042765b9c3dc6a19', 'over_18': True, 'is_default_banner': True, 'user_is_contributor': False, 'icon_color': '', 'header_size': None, 'user_is_muted': False, 'banner_size': None, 'user_is_subscriber': False, 'banner_img': None, 'title': 'cool ass nigga', 'default_set': False, 'primary_color': ''}, 'is_gold': False, 'is_friend': False, 'id': 'y56wb2t', 'has_verified_email': False, 'pref_show_snoovatar': False, 'created': 1519248175.0, 'created_utc': 1519219375.0, 'link_karma': 234}\n",
      "Sending a message to user btfokook with data {'first_comment_week': 4, 'username': 'btfokook', 'url': 'https://docs.google.com/forms/d/e/1FAIpQLSfmgOcsF0ALqWGPHGpJq2cwUr-xIG-uizbQqXPzPuTkrPM-Lg/viewform?usp=pp_url&entry.360321409=btfokook&entry.1933578897', 'deleted': False, 'get_info_date': '2018-04-17 14:03:10.785000'}\n"
     ]
    },
    {
     "name": "stderr",
     "output_type": "stream",
     "text": [
      "substituting https://oauth.reddit.com for https://api.reddit.com in url\n",
      "GET: https://oauth.reddit.com/user/btfokook/about/.json\n",
      "substituting https://oauth.reddit.com for https://api.reddit.com in url\n",
      "POST: https://oauth.reddit.com/api/compose/.json\n"
     ]
    },
    {
     "name": "stdout",
     "output_type": "stream",
     "text": [
      "Message successfully sent to user btfokook\n",
      "APPENDING TO FILE: {'username': 'btfokook', 'get_info_date': '2018-04-17 14:03:10.785000', 'deleted': False, 'url': 'https://docs.google.com/forms/d/e/1FAIpQLSfmgOcsF0ALqWGPHGpJq2cwUr-xIG-uizbQqXPzPuTkrPM-Lg/viewform?usp=pp_url&entry.360321409=btfokook&entry.1933578897', 'first_comment_week': 4}\n",
      "first_comment_week: 4\n",
      "url: https://docs.google.com/forms/d/e/1FAIpQLSfmgOcsF0ALqWGPHGpJq2cwUr-xIG-uizbQqXPzPuTkrPM-Lg/viewform?usp=pp_url&entry.360321409=btfokook&entry.1933578897\n",
      "get_info_data: 2018-04-17 14:03:10.785000\n",
      "deleted: False\n",
      "User Xenasty found: {'is_mod': False, 'has_subscribed': True, 'hide_from_robots': False, 'verified': True, 'icon_img': 'https://www.redditstatic.com/avatars/avatar_default_06_FF66AC.png', 'is_employee': False, 'comment_karma': 12656, 'name': 'Xenasty', 'subreddit': {'icon_size': [256, 256], 'key_color': '', 'link_flair_enabled': False, 'subreddit_type': 'user', 'name': 't5_dm7co', 'user_is_moderator': False, 'community_icon': '', 'header_img': None, 'public_description': '', 'show_media': True, 'audience_target': '', 'url': '/user/Xenasty/', 'description': '', 'display_name_prefixed': 'u/Xenasty', 'subscribers': 0, 'display_name': 'u_Xenasty', 'user_is_banned': False, 'is_default_icon': True, 'icon_img': 'https://www.redditstatic.com/avatars/avatar_default_06_FF66AC.png', 'over_18': False, 'is_default_banner': True, 'user_is_contributor': False, 'icon_color': '#FF66AC', 'header_size': None, 'user_is_muted': False, 'banner_size': None, 'user_is_subscriber': False, 'banner_img': '', 'title': '', 'default_set': True, 'primary_color': ''}, 'is_gold': False, 'is_friend': False, 'id': '14hwh9', 'has_verified_email': True, 'pref_show_snoovatar': False, 'created': 1484620635.0, 'created_utc': 1484591835.0, 'link_karma': 7452}\n",
      "Sending a message to user Xenasty with data {'first_comment_week': 4, 'username': 'Xenasty', 'url': 'https://docs.google.com/forms/d/e/1FAIpQLSfmgOcsF0ALqWGPHGpJq2cwUr-xIG-uizbQqXPzPuTkrPM-Lg/viewform?usp=pp_url&entry.360321409=Xenasty&entry.1933578897', 'deleted': False, 'get_info_date': '2018-04-17 14:03:15.030184'}\n"
     ]
    },
    {
     "name": "stderr",
     "output_type": "stream",
     "text": [
      "substituting https://oauth.reddit.com for https://api.reddit.com in url\n",
      "GET: https://oauth.reddit.com/user/Xenasty/about/.json\n",
      "substituting https://oauth.reddit.com for https://api.reddit.com in url\n",
      "POST: https://oauth.reddit.com/api/compose/.json\n"
     ]
    },
    {
     "name": "stdout",
     "output_type": "stream",
     "text": [
      "Message successfully sent to user Xenasty\n",
      "APPENDING TO FILE: {'username': 'Xenasty', 'get_info_date': '2018-04-17 14:03:15.030184', 'deleted': False, 'url': 'https://docs.google.com/forms/d/e/1FAIpQLSfmgOcsF0ALqWGPHGpJq2cwUr-xIG-uizbQqXPzPuTkrPM-Lg/viewform?usp=pp_url&entry.360321409=Xenasty&entry.1933578897', 'first_comment_week': 4}\n",
      "first_comment_week: 4\n",
      "url: https://docs.google.com/forms/d/e/1FAIpQLSfmgOcsF0ALqWGPHGpJq2cwUr-xIG-uizbQqXPzPuTkrPM-Lg/viewform?usp=pp_url&entry.360321409=Xenasty&entry.1933578897\n",
      "get_info_data: 2018-04-17 14:03:15.030184\n",
      "deleted: False\n",
      "User SesQuans found: {'is_mod': False, 'has_subscribed': True, 'hide_from_robots': False, 'verified': True, 'icon_img': 'https://www.redditstatic.com/avatars/avatar_default_17_C18D42.png', 'is_employee': False, 'comment_karma': 40, 'name': 'SesQuans', 'subreddit': {'icon_size': [256, 256], 'key_color': '', 'link_flair_enabled': False, 'subreddit_type': 'user', 'name': 't5_exnzq', 'user_is_moderator': False, 'community_icon': '', 'header_img': None, 'public_description': '', 'show_media': True, 'audience_target': '', 'url': '/user/SesQuans/', 'description': '', 'display_name_prefixed': 'u/SesQuans', 'subscribers': 0, 'display_name': 'u_SesQuans', 'user_is_banned': False, 'is_default_icon': True, 'icon_img': 'https://www.redditstatic.com/avatars/avatar_default_17_C18D42.png', 'over_18': False, 'is_default_banner': True, 'user_is_contributor': False, 'icon_color': '#C18D42', 'header_size': None, 'user_is_muted': False, 'banner_size': None, 'user_is_subscriber': False, 'banner_img': '', 'title': '', 'default_set': True, 'primary_color': ''}, 'is_gold': False, 'is_friend': False, 'id': 'thwlcbo', 'has_verified_email': False, 'pref_show_snoovatar': False, 'created': 1516816736.0, 'created_utc': 1516787936.0, 'link_karma': 1}\n",
      "Sending a message to user SesQuans with data {'first_comment_week': 4, 'username': 'SesQuans', 'url': 'https://docs.google.com/forms/d/e/1FAIpQLSfmgOcsF0ALqWGPHGpJq2cwUr-xIG-uizbQqXPzPuTkrPM-Lg/viewform?usp=pp_url&entry.360321409=SesQuans&entry.1933578897', 'deleted': False, 'get_info_date': '2018-04-17 14:03:19.289814'}\n"
     ]
    },
    {
     "name": "stderr",
     "output_type": "stream",
     "text": [
      "substituting https://oauth.reddit.com for https://api.reddit.com in url\n",
      "GET: https://oauth.reddit.com/user/SesQuans/about/.json\n",
      "substituting https://oauth.reddit.com for https://api.reddit.com in url\n",
      "POST: https://oauth.reddit.com/api/compose/.json\n"
     ]
    },
    {
     "name": "stdout",
     "output_type": "stream",
     "text": [
      "Message successfully sent to user SesQuans\n",
      "APPENDING TO FILE: {'username': 'SesQuans', 'get_info_date': '2018-04-17 14:03:19.289814', 'deleted': False, 'url': 'https://docs.google.com/forms/d/e/1FAIpQLSfmgOcsF0ALqWGPHGpJq2cwUr-xIG-uizbQqXPzPuTkrPM-Lg/viewform?usp=pp_url&entry.360321409=SesQuans&entry.1933578897', 'first_comment_week': 4}\n",
      "first_comment_week: 4\n",
      "url: https://docs.google.com/forms/d/e/1FAIpQLSfmgOcsF0ALqWGPHGpJq2cwUr-xIG-uizbQqXPzPuTkrPM-Lg/viewform?usp=pp_url&entry.360321409=SesQuans&entry.1933578897\n",
      "get_info_data: 2018-04-17 14:03:19.289814\n",
      "deleted: False\n"
     ]
    },
    {
     "name": "stderr",
     "output_type": "stream",
     "text": [
      "substituting https://oauth.reddit.com for https://api.reddit.com in url\n",
      "GET: https://oauth.reddit.com/user/likeitironically/about/.json\n"
     ]
    },
    {
     "name": "stdout",
     "output_type": "stream",
     "text": [
      "User likeitironically found: {'is_mod': False, 'has_subscribed': True, 'hide_from_robots': False, 'verified': True, 'icon_img': 'https://www.redditstatic.com/avatars/avatar_default_03_25B79F.png', 'is_employee': False, 'comment_karma': 3257, 'name': 'likeitironically', 'subreddit': {'icon_size': [256, 256], 'key_color': '', 'link_flair_enabled': False, 'subreddit_type': 'user', 'name': 't5_cotc5', 'user_is_moderator': False, 'community_icon': '', 'header_img': None, 'public_description': '', 'show_media': True, 'audience_target': '', 'url': '/user/likeitironically/', 'description': '', 'display_name_prefixed': 'u/likeitironically', 'subscribers': 0, 'display_name': 'u_likeitironically', 'user_is_banned': False, 'is_default_icon': True, 'icon_img': 'https://www.redditstatic.com/avatars/avatar_default_03_25B79F.png', 'over_18': False, 'is_default_banner': True, 'user_is_contributor': False, 'icon_color': '#25B79F', 'header_size': None, 'user_is_muted': False, 'banner_size': None, 'user_is_subscriber': False, 'banner_img': '', 'title': '', 'default_set': True, 'primary_color': ''}, 'is_gold': False, 'is_friend': False, 'id': 'ew15u', 'has_verified_email': False, 'pref_show_snoovatar': False, 'created': 1390224493.0, 'created_utc': 1390195693.0, 'link_karma': 90}\n",
      "Sending a message to user likeitironically with data {'first_comment_week': 4, 'username': 'likeitironically', 'url': 'https://docs.google.com/forms/d/e/1FAIpQLSfmgOcsF0ALqWGPHGpJq2cwUr-xIG-uizbQqXPzPuTkrPM-Lg/viewform?usp=pp_url&entry.360321409=likeitironically&entry.1933578897', 'deleted': False, 'get_info_date': '2018-04-17 14:03:23.562734'}\n"
     ]
    },
    {
     "name": "stderr",
     "output_type": "stream",
     "text": [
      "substituting https://oauth.reddit.com for https://api.reddit.com in url\n",
      "POST: https://oauth.reddit.com/api/compose/.json\n"
     ]
    },
    {
     "name": "stdout",
     "output_type": "stream",
     "text": [
      "Message successfully sent to user likeitironically\n",
      "APPENDING TO FILE: {'username': 'likeitironically', 'get_info_date': '2018-04-17 14:03:23.562734', 'deleted': False, 'url': 'https://docs.google.com/forms/d/e/1FAIpQLSfmgOcsF0ALqWGPHGpJq2cwUr-xIG-uizbQqXPzPuTkrPM-Lg/viewform?usp=pp_url&entry.360321409=likeitironically&entry.1933578897', 'first_comment_week': 4}\n",
      "first_comment_week: 4\n",
      "url: https://docs.google.com/forms/d/e/1FAIpQLSfmgOcsF0ALqWGPHGpJq2cwUr-xIG-uizbQqXPzPuTkrPM-Lg/viewform?usp=pp_url&entry.360321409=likeitironically&entry.1933578897\n",
      "get_info_data: 2018-04-17 14:03:23.562734\n",
      "deleted: False\n",
      "User CorruptionOfTheMind found: {'is_mod': False, 'has_subscribed': True, 'hide_from_robots': True, 'verified': True, 'icon_img': 'https://www.redditstatic.com/avatars/avatar_default_17_EA0027.png', 'is_employee': False, 'comment_karma': 8551, 'name': 'CorruptionOfTheMind', 'subreddit': {'icon_size': [256, 256], 'key_color': '', 'link_flair_enabled': False, 'subreddit_type': 'user', 'name': 't5_czi4l', 'user_is_moderator': False, 'community_icon': '', 'header_img': None, 'public_description': '', 'show_media': True, 'audience_target': '', 'url': '/user/CorruptionOfTheMind/', 'description': '', 'display_name_prefixed': 'u/CorruptionOfTheMind', 'subscribers': 0, 'display_name': 'u_CorruptionOfTheMind', 'user_is_banned': False, 'is_default_icon': True, 'icon_img': 'https://www.redditstatic.com/avatars/avatar_default_17_EA0027.png', 'over_18': False, 'is_default_banner': True, 'user_is_contributor': False, 'icon_color': '#EA0027', 'header_size': None, 'user_is_muted': False, 'banner_size': None, 'user_is_subscriber': False, 'banner_img': '', 'title': '', 'default_set': True, 'primary_color': ''}, 'is_gold': False, 'is_friend': False, 'id': '11pjvo', 'has_verified_email': False, 'pref_show_snoovatar': False, 'created': 1475035737.0, 'created_utc': 1475006937.0, 'link_karma': 1247}\n",
      "Sending a message to user CorruptionOfTheMind with data {'first_comment_week': 4, 'username': 'CorruptionOfTheMind', 'url': 'https://docs.google.com/forms/d/e/1FAIpQLSfmgOcsF0ALqWGPHGpJq2cwUr-xIG-uizbQqXPzPuTkrPM-Lg/viewform?usp=pp_url&entry.360321409=CorruptionOfTheMind&entry.1933578897', 'deleted': False, 'get_info_date': '2018-04-17 14:03:27.592360'}\n"
     ]
    },
    {
     "name": "stderr",
     "output_type": "stream",
     "text": [
      "substituting https://oauth.reddit.com for https://api.reddit.com in url\n",
      "GET: https://oauth.reddit.com/user/CorruptionOfTheMind/about/.json\n",
      "substituting https://oauth.reddit.com for https://api.reddit.com in url\n",
      "POST: https://oauth.reddit.com/api/compose/.json\n"
     ]
    },
    {
     "name": "stdout",
     "output_type": "stream",
     "text": [
      "Message successfully sent to user CorruptionOfTheMind\n",
      "APPENDING TO FILE: {'username': 'CorruptionOfTheMind', 'get_info_date': '2018-04-17 14:03:27.592360', 'deleted': False, 'url': 'https://docs.google.com/forms/d/e/1FAIpQLSfmgOcsF0ALqWGPHGpJq2cwUr-xIG-uizbQqXPzPuTkrPM-Lg/viewform?usp=pp_url&entry.360321409=CorruptionOfTheMind&entry.1933578897', 'first_comment_week': 4}\n",
      "first_comment_week: 4\n",
      "url: https://docs.google.com/forms/d/e/1FAIpQLSfmgOcsF0ALqWGPHGpJq2cwUr-xIG-uizbQqXPzPuTkrPM-Lg/viewform?usp=pp_url&entry.360321409=CorruptionOfTheMind&entry.1933578897\n",
      "get_info_data: 2018-04-17 14:03:27.592360\n",
      "deleted: False\n",
      "User ksharanam found: {'is_mod': False, 'has_subscribed': True, 'hide_from_robots': True, 'verified': True, 'icon_img': 'https://www.redditstatic.com/avatars/avatar_default_19_7193FF.png', 'is_employee': False, 'comment_karma': 5110, 'name': 'ksharanam', 'subreddit': {'icon_size': [256, 256], 'key_color': '', 'link_flair_enabled': False, 'subreddit_type': 'user', 'name': 't5_ds1m1', 'user_is_moderator': False, 'community_icon': '', 'header_img': None, 'public_description': '', 'show_media': True, 'audience_target': '', 'url': '/user/ksharanam/', 'description': '', 'display_name_prefixed': 'u/ksharanam', 'subscribers': 0, 'display_name': 'u_ksharanam', 'user_is_banned': False, 'is_default_icon': True, 'icon_img': 'https://www.redditstatic.com/avatars/avatar_default_19_7193FF.png', 'over_18': False, 'is_default_banner': True, 'user_is_contributor': False, 'icon_color': '#7193FF', 'header_size': None, 'user_is_muted': False, 'banner_size': None, 'user_is_subscriber': False, 'banner_img': '', 'title': '', 'default_set': True, 'primary_color': ''}, 'is_gold': False, 'is_friend': False, 'id': 'gqudi', 'has_verified_email': True, 'pref_show_snoovatar': False, 'created': 1401282164.0, 'created_utc': 1401253364.0, 'link_karma': 47}\n",
      "Sending a message to user ksharanam with data {'first_comment_week': 4, 'username': 'ksharanam', 'url': 'https://docs.google.com/forms/d/e/1FAIpQLSfmgOcsF0ALqWGPHGpJq2cwUr-xIG-uizbQqXPzPuTkrPM-Lg/viewform?usp=pp_url&entry.360321409=ksharanam&entry.1933578897', 'deleted': False, 'get_info_date': '2018-04-17 14:03:31.805327'}\n"
     ]
    },
    {
     "name": "stderr",
     "output_type": "stream",
     "text": [
      "substituting https://oauth.reddit.com for https://api.reddit.com in url\n",
      "GET: https://oauth.reddit.com/user/ksharanam/about/.json\n",
      "substituting https://oauth.reddit.com for https://api.reddit.com in url\n",
      "POST: https://oauth.reddit.com/api/compose/.json\n"
     ]
    },
    {
     "name": "stdout",
     "output_type": "stream",
     "text": [
      "Message successfully sent to user ksharanam\n",
      "APPENDING TO FILE: {'username': 'ksharanam', 'get_info_date': '2018-04-17 14:03:31.805327', 'deleted': False, 'url': 'https://docs.google.com/forms/d/e/1FAIpQLSfmgOcsF0ALqWGPHGpJq2cwUr-xIG-uizbQqXPzPuTkrPM-Lg/viewform?usp=pp_url&entry.360321409=ksharanam&entry.1933578897', 'first_comment_week': 4}\n",
      "first_comment_week: 4\n",
      "url: https://docs.google.com/forms/d/e/1FAIpQLSfmgOcsF0ALqWGPHGpJq2cwUr-xIG-uizbQqXPzPuTkrPM-Lg/viewform?usp=pp_url&entry.360321409=ksharanam&entry.1933578897\n",
      "get_info_data: 2018-04-17 14:03:31.805327\n",
      "deleted: False\n"
     ]
    },
    {
     "name": "stderr",
     "output_type": "stream",
     "text": [
      "substituting https://oauth.reddit.com for https://api.reddit.com in url\n",
      "GET: https://oauth.reddit.com/user/Rainhex35/about/.json\n"
     ]
    },
    {
     "name": "stdout",
     "output_type": "stream",
     "text": [
      "User Rainhex35 found: {'is_mod': False, 'has_subscribed': True, 'hide_from_robots': False, 'verified': True, 'icon_img': 'https://www.redditstatic.com/avatars/avatar_default_15_FF4500.png', 'is_employee': False, 'comment_karma': 136, 'name': 'Rainhex35', 'subreddit': {'icon_size': [256, 256], 'key_color': '', 'link_flair_enabled': False, 'subreddit_type': 'user', 'name': 't5_97slg', 'user_is_moderator': False, 'community_icon': '', 'header_img': None, 'public_description': '', 'show_media': True, 'audience_target': '', 'url': '/user/Rainhex35/', 'description': '', 'display_name_prefixed': 'u/Rainhex35', 'subscribers': 0, 'display_name': 'u_Rainhex35', 'user_is_banned': False, 'is_default_icon': True, 'icon_img': 'https://www.redditstatic.com/avatars/avatar_default_15_FF4500.png', 'over_18': False, 'is_default_banner': True, 'user_is_contributor': False, 'icon_color': '#FF4500', 'header_size': None, 'user_is_muted': False, 'banner_size': None, 'user_is_subscriber': False, 'banner_img': '', 'title': '', 'default_set': True, 'primary_color': ''}, 'is_gold': False, 'is_friend': False, 'id': '178ehm', 'has_verified_email': True, 'pref_show_snoovatar': False, 'created': 1492687235.0, 'created_utc': 1492658435.0, 'link_karma': 5}\n",
      "Sending a message to user Rainhex35 with data {'first_comment_week': 4, 'username': 'Rainhex35', 'url': 'https://docs.google.com/forms/d/e/1FAIpQLSfmgOcsF0ALqWGPHGpJq2cwUr-xIG-uizbQqXPzPuTkrPM-Lg/viewform?usp=pp_url&entry.360321409=Rainhex35&entry.1933578897', 'deleted': False, 'get_info_date': '2018-04-17 14:03:36.143922'}\n"
     ]
    },
    {
     "name": "stderr",
     "output_type": "stream",
     "text": [
      "substituting https://oauth.reddit.com for https://api.reddit.com in url\n",
      "POST: https://oauth.reddit.com/api/compose/.json\n"
     ]
    },
    {
     "name": "stdout",
     "output_type": "stream",
     "text": [
      "Message successfully sent to user Rainhex35\n",
      "APPENDING TO FILE: {'username': 'Rainhex35', 'get_info_date': '2018-04-17 14:03:36.143922', 'deleted': False, 'url': 'https://docs.google.com/forms/d/e/1FAIpQLSfmgOcsF0ALqWGPHGpJq2cwUr-xIG-uizbQqXPzPuTkrPM-Lg/viewform?usp=pp_url&entry.360321409=Rainhex35&entry.1933578897', 'first_comment_week': 4}\n",
      "first_comment_week: 4\n",
      "url: https://docs.google.com/forms/d/e/1FAIpQLSfmgOcsF0ALqWGPHGpJq2cwUr-xIG-uizbQqXPzPuTkrPM-Lg/viewform?usp=pp_url&entry.360321409=Rainhex35&entry.1933578897\n",
      "get_info_data: 2018-04-17 14:03:36.143922\n",
      "deleted: False\n"
     ]
    },
    {
     "name": "stderr",
     "output_type": "stream",
     "text": [
      "substituting https://oauth.reddit.com for https://api.reddit.com in url\n",
      "GET: https://oauth.reddit.com/user/Auri15/about/.json\n"
     ]
    },
    {
     "name": "stdout",
     "output_type": "stream",
     "text": [
      "User Auri15 found: {'is_mod': False, 'has_subscribed': True, 'hide_from_robots': False, 'verified': True, 'icon_img': 'https://www.redditstatic.com/avatars/avatar_default_20_FF4500.png', 'is_employee': False, 'comment_karma': 7798, 'name': 'Auri15', 'subreddit': {'icon_size': [256, 256], 'key_color': '', 'link_flair_enabled': False, 'subreddit_type': 'user', 'name': 't5_7gjld', 'user_is_moderator': False, 'community_icon': '', 'header_img': None, 'public_description': '', 'show_media': True, 'audience_target': '', 'url': '/user/Auri15/', 'description': '', 'display_name_prefixed': 'u/Auri15', 'subscribers': 0, 'display_name': 'u_Auri15', 'user_is_banned': False, 'is_default_icon': True, 'icon_img': 'https://www.redditstatic.com/avatars/avatar_default_20_FF4500.png', 'over_18': False, 'is_default_banner': True, 'user_is_contributor': False, 'icon_color': '#FF4500', 'header_size': None, 'user_is_muted': False, 'banner_size': None, 'user_is_subscriber': False, 'banner_img': '', 'title': '', 'default_set': True, 'primary_color': ''}, 'is_gold': False, 'is_friend': False, 'id': '65q0363', 'has_verified_email': False, 'pref_show_snoovatar': False, 'created': 1499321178.0, 'created_utc': 1499292378.0, 'link_karma': 2980}\n",
      "Sending a message to user Auri15 with data {'first_comment_week': 4, 'username': 'Auri15', 'url': 'https://docs.google.com/forms/d/e/1FAIpQLSfmgOcsF0ALqWGPHGpJq2cwUr-xIG-uizbQqXPzPuTkrPM-Lg/viewform?usp=pp_url&entry.360321409=Auri15&entry.1933578897', 'deleted': False, 'get_info_date': '2018-04-17 14:03:40.642284'}\n"
     ]
    },
    {
     "name": "stderr",
     "output_type": "stream",
     "text": [
      "substituting https://oauth.reddit.com for https://api.reddit.com in url\n",
      "POST: https://oauth.reddit.com/api/compose/.json\n"
     ]
    },
    {
     "name": "stdout",
     "output_type": "stream",
     "text": [
      "Message successfully sent to user Auri15\n",
      "APPENDING TO FILE: {'username': 'Auri15', 'get_info_date': '2018-04-17 14:03:40.642284', 'deleted': False, 'url': 'https://docs.google.com/forms/d/e/1FAIpQLSfmgOcsF0ALqWGPHGpJq2cwUr-xIG-uizbQqXPzPuTkrPM-Lg/viewform?usp=pp_url&entry.360321409=Auri15&entry.1933578897', 'first_comment_week': 4}\n",
      "first_comment_week: 4\n",
      "url: https://docs.google.com/forms/d/e/1FAIpQLSfmgOcsF0ALqWGPHGpJq2cwUr-xIG-uizbQqXPzPuTkrPM-Lg/viewform?usp=pp_url&entry.360321409=Auri15&entry.1933578897\n",
      "get_info_data: 2018-04-17 14:03:40.642284\n",
      "deleted: False\n",
      "User MrBardto found: {'is_mod': False, 'has_subscribed': True, 'hide_from_robots': False, 'verified': True, 'icon_img': 'https://www.redditstatic.com/avatars/avatar_default_07_008985.png', 'is_employee': False, 'comment_karma': 124, 'name': 'MrBardto', 'subreddit': {'icon_size': [256, 256], 'key_color': '', 'link_flair_enabled': False, 'subreddit_type': 'user', 'name': 't5_85nvd', 'user_is_moderator': False, 'community_icon': '', 'header_img': None, 'public_description': '', 'show_media': True, 'audience_target': '', 'url': '/user/MrBardto/', 'description': '', 'display_name_prefixed': 'u/MrBardto', 'subscribers': 0, 'display_name': 'u_MrBardto', 'user_is_banned': False, 'is_default_icon': True, 'icon_img': 'https://www.redditstatic.com/avatars/avatar_default_07_008985.png', 'over_18': False, 'is_default_banner': True, 'user_is_contributor': False, 'icon_color': '#008985', 'header_size': None, 'user_is_muted': False, 'banner_size': None, 'user_is_subscriber': False, 'banner_img': '', 'title': '', 'default_set': True, 'primary_color': ''}, 'is_gold': False, 'is_friend': False, 'id': '8e7l83u', 'has_verified_email': True, 'pref_show_snoovatar': False, 'created': 1501094261.0, 'created_utc': 1501065461.0, 'link_karma': 17}\n",
      "Sending a message to user MrBardto with data {'first_comment_week': 4, 'username': 'MrBardto', 'url': 'https://docs.google.com/forms/d/e/1FAIpQLSfmgOcsF0ALqWGPHGpJq2cwUr-xIG-uizbQqXPzPuTkrPM-Lg/viewform?usp=pp_url&entry.360321409=MrBardto&entry.1933578897', 'deleted': False, 'get_info_date': '2018-04-17 14:03:44.486877'}\n"
     ]
    },
    {
     "name": "stderr",
     "output_type": "stream",
     "text": [
      "substituting https://oauth.reddit.com for https://api.reddit.com in url\n",
      "GET: https://oauth.reddit.com/user/MrBardto/about/.json\n",
      "substituting https://oauth.reddit.com for https://api.reddit.com in url\n",
      "POST: https://oauth.reddit.com/api/compose/.json\n"
     ]
    },
    {
     "name": "stdout",
     "output_type": "stream",
     "text": [
      "Message successfully sent to user MrBardto\n",
      "APPENDING TO FILE: {'username': 'MrBardto', 'get_info_date': '2018-04-17 14:03:44.486877', 'deleted': False, 'url': 'https://docs.google.com/forms/d/e/1FAIpQLSfmgOcsF0ALqWGPHGpJq2cwUr-xIG-uizbQqXPzPuTkrPM-Lg/viewform?usp=pp_url&entry.360321409=MrBardto&entry.1933578897', 'first_comment_week': 4}\n",
      "first_comment_week: 4\n",
      "url: https://docs.google.com/forms/d/e/1FAIpQLSfmgOcsF0ALqWGPHGpJq2cwUr-xIG-uizbQqXPzPuTkrPM-Lg/viewform?usp=pp_url&entry.360321409=MrBardto&entry.1933578897\n",
      "get_info_data: 2018-04-17 14:03:44.486877\n",
      "deleted: False\n"
     ]
    }
   ],
   "source": [
    "# import time\n",
    "# for week in sorted(selected_by_week.keys()):\n",
    "#     print(\"Week age {0}: {1} authors \".format(week, len(selected_by_week[week])))\n",
    "#     for username in selected_by_week[week]:\n",
    "#         decide_and_send_to_user(username, week)"
   ]
  },
  {
   "cell_type": "code",
   "execution_count": 67,
   "metadata": {},
   "outputs": [
    {
     "name": "stderr",
     "output_type": "stream",
     "text": [
      "substituting https://oauth.reddit.com for https://api.reddit.com in url\n",
      "POST: https://oauth.reddit.com/api/compose/.json\n",
      "POST: https://api.reddit.com/api/v1/access_token/\n",
      "substituting https://oauth.reddit.com for https://api.reddit.com in url\n",
      "GET: https://oauth.reddit.com/api/v1/me.json\n",
      "substituting https://oauth.reddit.com for https://api.reddit.com in url\n",
      "POST: https://oauth.reddit.com/api/compose/.json\n"
     ]
    }
   ],
   "source": [
    "#x = r.send_message(\"natematias\", \"test message\", \"test body\")"
   ]
  },
  {
   "cell_type": "code",
   "execution_count": 91,
   "metadata": {},
   "outputs": [
    {
     "name": "stderr",
     "output_type": "stream",
     "text": [
      "substituting https://oauth.reddit.com for https://api.reddit.com in url\n",
      "POST: https://oauth.reddit.com/api/compose/.json\n"
     ]
    },
    {
     "ename": "InvalidUser",
     "evalue": "`that user doesn't exist` on field `to`",
     "output_type": "error",
     "traceback": [
      "\u001b[0;31m---------------------------------------------------------------------------\u001b[0m",
      "\u001b[0;31mInvalidUser\u001b[0m                               Traceback (most recent call last)",
      "\u001b[0;32m<ipython-input-91-5d37d3052bb1>\u001b[0m in \u001b[0;36m<module>\u001b[0;34m()\u001b[0m\n\u001b[0;32m----> 1\u001b[0;31m \u001b[0mx\u001b[0m \u001b[0;34m=\u001b[0m \u001b[0mr\u001b[0m\u001b[0;34m.\u001b[0m\u001b[0msend_message\u001b[0m\u001b[0;34m(\u001b[0m\u001b[0;34m\"natematias1234\"\u001b[0m\u001b[0;34m,\u001b[0m \u001b[0;34m\"test message subject\"\u001b[0m\u001b[0;34m,\u001b[0m \u001b[0;34m\"test body\"\u001b[0m\u001b[0;34m)\u001b[0m\u001b[0;34m\u001b[0m\u001b[0m\n\u001b[0m",
      "\u001b[0;32m<decorator-gen-268>\u001b[0m in \u001b[0;36msend_message\u001b[0;34m(self, recipient, subject, message, from_sr, captcha, **kwargs)\u001b[0m\n",
      "\u001b[0;32m/home/jupyter/3venv/lib/python3.5/site-packages/praw/decorators.py\u001b[0m in \u001b[0;36mwrap\u001b[0;34m(function, *args, **kwargs)\u001b[0m\n\u001b[1;32m    269\u001b[0m             \u001b[0;32mraise\u001b[0m \u001b[0merrors\u001b[0m\u001b[0;34m.\u001b[0m\u001b[0mLoginRequired\u001b[0m\u001b[0;34m(\u001b[0m\u001b[0mfunction\u001b[0m\u001b[0;34m.\u001b[0m\u001b[0m__name__\u001b[0m\u001b[0;34m)\u001b[0m\u001b[0;34m\u001b[0m\u001b[0m\n\u001b[1;32m    270\u001b[0m         \u001b[0;32mtry\u001b[0m\u001b[0;34m:\u001b[0m\u001b[0;34m\u001b[0m\u001b[0m\n\u001b[0;32m--> 271\u001b[0;31m             \u001b[0;32mreturn\u001b[0m \u001b[0mfunction\u001b[0m\u001b[0;34m(\u001b[0m\u001b[0;34m*\u001b[0m\u001b[0margs\u001b[0m\u001b[0;34m,\u001b[0m \u001b[0;34m**\u001b[0m\u001b[0mkwargs\u001b[0m\u001b[0;34m)\u001b[0m\u001b[0;34m\u001b[0m\u001b[0m\n\u001b[0m\u001b[1;32m    272\u001b[0m         \u001b[0;32mfinally\u001b[0m\u001b[0;34m:\u001b[0m\u001b[0;34m\u001b[0m\u001b[0m\n\u001b[1;32m    273\u001b[0m             \u001b[0mobj\u001b[0m\u001b[0;34m.\u001b[0m\u001b[0m_use_oauth\u001b[0m \u001b[0;34m=\u001b[0m \u001b[0;32mFalse\u001b[0m  \u001b[0;31m# pylint: disable=W0212\u001b[0m\u001b[0;34m\u001b[0m\u001b[0m\n",
      "\u001b[0;32m<decorator-gen-267>\u001b[0m in \u001b[0;36msend_message\u001b[0;34m(self, recipient, subject, message, from_sr, captcha, **kwargs)\u001b[0m\n",
      "\u001b[0;32m/home/jupyter/3venv/lib/python3.5/site-packages/praw/decorators.py\u001b[0m in \u001b[0;36mrequire_captcha\u001b[0;34m(function, *args, **kwargs)\u001b[0m\n\u001b[1;32m    175\u001b[0m                 \u001b[0;32melse\u001b[0m\u001b[0;34m:\u001b[0m\u001b[0;34m\u001b[0m\u001b[0m\n\u001b[1;32m    176\u001b[0m                     \u001b[0mkwargs\u001b[0m\u001b[0;34m[\u001b[0m\u001b[0;34m'captcha'\u001b[0m\u001b[0;34m]\u001b[0m \u001b[0;34m=\u001b[0m \u001b[0mcaptcha_answer\u001b[0m\u001b[0;34m\u001b[0m\u001b[0m\n\u001b[0;32m--> 177\u001b[0;31m             \u001b[0;32mreturn\u001b[0m \u001b[0mfunction\u001b[0m\u001b[0;34m(\u001b[0m\u001b[0;34m*\u001b[0m\u001b[0margs\u001b[0m\u001b[0;34m,\u001b[0m \u001b[0;34m**\u001b[0m\u001b[0mkwargs\u001b[0m\u001b[0;34m)\u001b[0m\u001b[0;34m\u001b[0m\u001b[0m\n\u001b[0m\u001b[1;32m    178\u001b[0m         \u001b[0;32mexcept\u001b[0m \u001b[0merrors\u001b[0m\u001b[0;34m.\u001b[0m\u001b[0mInvalidCaptcha\u001b[0m \u001b[0;32mas\u001b[0m \u001b[0mexception\u001b[0m\u001b[0;34m:\u001b[0m\u001b[0;34m\u001b[0m\u001b[0m\n\u001b[1;32m    179\u001b[0m             \u001b[0;32mif\u001b[0m \u001b[0mraise_captcha_exception\u001b[0m \u001b[0;32mor\u001b[0m\u001b[0;31m \u001b[0m\u001b[0;31m\\\u001b[0m\u001b[0;34m\u001b[0m\u001b[0m\n",
      "\u001b[0;32m/home/jupyter/3venv/lib/python3.5/site-packages/praw/__init__.py\u001b[0m in \u001b[0;36msend_message\u001b[0;34m(self, recipient, subject, message, from_sr, captcha, **kwargs)\u001b[0m\n\u001b[1;32m   2569\u001b[0m             \u001b[0mdata\u001b[0m\u001b[0;34m.\u001b[0m\u001b[0mupdate\u001b[0m\u001b[0;34m(\u001b[0m\u001b[0mcaptcha\u001b[0m\u001b[0;34m)\u001b[0m\u001b[0;34m\u001b[0m\u001b[0m\n\u001b[1;32m   2570\u001b[0m         response = self.request_json(self.config['compose'], data=data,\n\u001b[0;32m-> 2571\u001b[0;31m                                      retry_on_error=False)\n\u001b[0m\u001b[1;32m   2572\u001b[0m         \u001b[0mself\u001b[0m\u001b[0;34m.\u001b[0m\u001b[0mevict\u001b[0m\u001b[0;34m(\u001b[0m\u001b[0mself\u001b[0m\u001b[0;34m.\u001b[0m\u001b[0mconfig\u001b[0m\u001b[0;34m[\u001b[0m\u001b[0;34m'sent'\u001b[0m\u001b[0;34m]\u001b[0m\u001b[0;34m)\u001b[0m\u001b[0;34m\u001b[0m\u001b[0m\n\u001b[1;32m   2573\u001b[0m         \u001b[0;32mreturn\u001b[0m \u001b[0mresponse\u001b[0m\u001b[0;34m\u001b[0m\u001b[0m\n",
      "\u001b[0;32m<decorator-gen-132>\u001b[0m in \u001b[0;36mrequest_json\u001b[0;34m(self, url, params, data, as_objects, retry_on_error, method)\u001b[0m\n",
      "\u001b[0;32m/home/jupyter/3venv/lib/python3.5/site-packages/praw/decorators.py\u001b[0m in \u001b[0;36mraise_api_exceptions\u001b[0;34m(function, *args, **kwargs)\u001b[0m\n\u001b[1;32m    140\u001b[0m                                               return_value))\n\u001b[1;32m    141\u001b[0m             \u001b[0;32mif\u001b[0m \u001b[0mlen\u001b[0m\u001b[0;34m(\u001b[0m\u001b[0merror_list\u001b[0m\u001b[0;34m)\u001b[0m \u001b[0;34m==\u001b[0m \u001b[0;36m1\u001b[0m\u001b[0;34m:\u001b[0m\u001b[0;34m\u001b[0m\u001b[0m\n\u001b[0;32m--> 142\u001b[0;31m                 \u001b[0;32mraise\u001b[0m \u001b[0merror_list\u001b[0m\u001b[0;34m[\u001b[0m\u001b[0;36m0\u001b[0m\u001b[0;34m]\u001b[0m\u001b[0;34m\u001b[0m\u001b[0m\n\u001b[0m\u001b[1;32m    143\u001b[0m             \u001b[0;32melse\u001b[0m\u001b[0;34m:\u001b[0m\u001b[0;34m\u001b[0m\u001b[0m\n\u001b[1;32m    144\u001b[0m                 \u001b[0;32mraise\u001b[0m \u001b[0merrors\u001b[0m\u001b[0;34m.\u001b[0m\u001b[0mExceptionList\u001b[0m\u001b[0;34m(\u001b[0m\u001b[0merror_list\u001b[0m\u001b[0;34m)\u001b[0m\u001b[0;34m\u001b[0m\u001b[0m\n",
      "\u001b[0;31mInvalidUser\u001b[0m: `that user doesn't exist` on field `to`"
     ]
    }
   ],
   "source": [
    "#x = r.send_message(\"natematias1234\", \"test message subject\", \"test body\")"
   ]
  },
  {
   "cell_type": "markdown",
   "metadata": {},
   "source": [
    "### Merge Historical Data with Survey Results (later)"
   ]
  },
  {
   "cell_type": "code",
   "execution_count": 100,
   "metadata": {},
   "outputs": [],
   "source": [
    "survey_responses = {}\n",
    "with open(\"feminism/merged_survey_responses-04.24.2018-07.52-ET.csv\", \"r\") as f:\n",
    "    for row in csv.DictReader(f):\n",
    "        survey_responses[row['account']] = row"
   ]
  },
  {
   "cell_type": "markdown",
   "metadata": {},
   "source": [
    "#### Load mod_actions"
   ]
  },
  {
   "cell_type": "code",
   "execution_count": 103,
   "metadata": {},
   "outputs": [
    {
     "name": "stdout",
     "output_type": "stream",
     "text": [
      "7431 moderator actions loaded\n"
     ]
    }
   ],
   "source": [
    "import datetime\n",
    "\n",
    "recent_mod_actions = []\n",
    "for row in db_engine.execute(text(\"\"\"\n",
    "SELECT action_data FROM mod_actions \n",
    "    WHERE subreddit_id=\"2qr7i\" \n",
    "    AND created_utc >= \"2018-03-01\" \n",
    "    ORDER BY created_utc;\n",
    "\"\"\")):\n",
    "    mod_action = json.loads(row['action_data'])\n",
    "    mod_action['created'] = utc.localize(datetime.datetime.utcfromtimestamp(mod_action['created_utc']))\n",
    "    recent_mod_actions.append(mod_action)\n",
    "print(\"{0} moderator actions loaded\".format(len(recent_mod_actions)))"
   ]
  },
  {
   "cell_type": "code",
   "execution_count": 106,
   "metadata": {},
   "outputs": [],
   "source": [
    "comment_dict = {}\n",
    "\n",
    "for comment in all_comments:\n",
    "    comment['visible'] = True\n",
    "    comment_dict[comment['id']]  = comment\n",
    "\n",
    "for action in recent_mod_actions:\n",
    "    if action['action'] == \"removecomment\":\n",
    "        key = action['target_fullname'].replace(\"t1_\",\"\")\n",
    "        if key in comment_dict.keys():\n",
    "            comment_dict[key]['visible'] = False\n",
    "    elif action['action'] == 'approvecomment':\n",
    "        key = action['target_fullname'].replace(\"t1_\",\"\")\n",
    "        if key in comment_dict.keys():\n",
    "            comment_dict[key]['visible'] = True"
   ]
  },
  {
   "cell_type": "code",
   "execution_count": 108,
   "metadata": {},
   "outputs": [],
   "source": [
    "author_comments = defaultdict(list)\n",
    "for comment_id, comment in comment_dict.items():\n",
    "    author_comments[comment['author']].append(comment)\n",
    "    \n",
    "for key, comments in author_comments.items():\n",
    "    author_comments[key] = sorted(comments, key=lambda x: x['created'])"
   ]
  },
  {
   "cell_type": "markdown",
   "metadata": {},
   "source": [
    "### Merge comment dataset with survey responses"
   ]
  },
  {
   "cell_type": "code",
   "execution_count": 111,
   "metadata": {},
   "outputs": [],
   "source": [
    "author_comment_dataset = []\n",
    "for author, survey in survey_responses.items():\n",
    "    if(author in author_comments.keys()):\n",
    "        # select the last comment they made before the survey\n",
    "        comments = copy.copy(author_comments[author])\n",
    "        for comment in comments:\n",
    "            row = copy.copy(comment)\n",
    "            row.update(survey)\n",
    "            author_comment_dataset.append(row)"
   ]
  },
  {
   "cell_type": "code",
   "execution_count": 113,
   "metadata": {},
   "outputs": [],
   "source": [
    "pd.DataFrame(author_comment_dataset).to_csv(\"feminism/author_survey_comments-04.25.2018.csv\")"
   ]
  },
  {
   "cell_type": "code",
   "execution_count": 114,
   "metadata": {},
   "outputs": [
    {
     "data": {
      "text/plain": [
       "{'': '242',\n",
       " 'account': 'girlnebula',\n",
       " 'comments': '',\n",
       " 'date': '2018-04-17 13:45:42.557369',\n",
       " 'deleted': 'False',\n",
       " 'exists': 'True',\n",
       " 'feminist': 'Yes',\n",
       " 'first_comment_week': '2',\n",
       " 'r.feminism.relationship': '4',\n",
       " 'r.feministm.relationship': '',\n",
       " 'sent_status': 'True',\n",
       " 'timestamp': '2018-04-17 09:59:23+04:00',\n",
       " 'took.survey': 'True',\n",
       " 'url': 'https://docs.google.com/forms/d/e/1FAIpQLSfmgOcsF0ALqWGPHGpJq2cwUr-xIG-uizbQqXPzPuTkrPM-Lg/viewform?usp=pp_url&entry.360321409=girlnebula&entry.1933578897',\n",
       " 'username': 'girlnebula'}"
      ]
     },
     "execution_count": 114,
     "metadata": {},
     "output_type": "execute_result"
    }
   ],
   "source": [
    "survey"
   ]
  },
  {
   "cell_type": "code",
   "execution_count": null,
   "metadata": {},
   "outputs": [],
   "source": []
  }
 ],
 "metadata": {
  "kernelspec": {
   "display_name": "Python 3",
   "language": "python",
   "name": "python3"
  },
  "language_info": {
   "codemirror_mode": {
    "name": "ipython",
    "version": 3
   },
   "file_extension": ".py",
   "mimetype": "text/x-python",
   "name": "python",
   "nbconvert_exporter": "python",
   "pygments_lexer": "ipython3",
   "version": "3.5.2"
  }
 },
 "nbformat": 4,
 "nbformat_minor": 1
}
