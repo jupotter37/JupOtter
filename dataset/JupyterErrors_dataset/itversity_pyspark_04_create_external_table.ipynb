{
 "cells": [
  {
   "cell_type": "code",
   "execution_count": null,
   "metadata": {},
   "outputs": [],
   "source": [
    "from pyspark.sql import SparkSession\n",
    "\n",
    "import getpass\n",
    "username = getpass.getuser()\n",
    "\n",
    "spark = SparkSession. \\\n",
    "    builder. \\\n",
    "    config('spark.ui.port', '0'). \\\n",
    "    config(\"spark.sql.warehouse.dir\", f\"/user/{username}/warehouse\"). \\\n",
    "    enableHiveSupport(). \\\n",
    "    appName(f'{username} | Analyze GitHub Archive Data'). \\\n",
    "    master('yarn'). \\\n",
    "    getOrCreate()"
   ]
  },
  {
   "cell_type": "code",
   "execution_count": 70,
   "metadata": {},
   "outputs": [],
   "source": [
    "spark.conf.set('spark.sql.shuffle.partitions', 8)"
   ]
  },
  {
   "cell_type": "code",
   "execution_count": 71,
   "metadata": {},
   "outputs": [],
   "source": [
    "process_dt = '2021-01-13'\n",
    "ghdata = spark. \\\n",
    "    read. \\\n",
    "    json(f'/user/{username}/itv-github/landing/{process_dt}-*.json.gz')"
   ]
  },
  {
   "cell_type": "code",
   "execution_count": 72,
   "metadata": {},
   "outputs": [],
   "source": [
    "from pyspark.sql.functions import substring, col"
   ]
  },
  {
   "cell_type": "code",
   "execution_count": 73,
   "metadata": {},
   "outputs": [
    {
     "data": {
      "text/plain": [
       "DataFrame[]"
      ]
     },
     "execution_count": 73,
     "metadata": {},
     "output_type": "execute_result"
    }
   ],
   "source": [
    "spark.sql(f'CREATE DATABASE IF NOT EXISTS {username}_raw')"
   ]
  },
  {
   "cell_type": "code",
   "execution_count": 74,
   "metadata": {},
   "outputs": [
    {
     "data": {
      "text/plain": [
       "DataFrame[]"
      ]
     },
     "execution_count": 74,
     "metadata": {},
     "output_type": "execute_result"
    }
   ],
   "source": [
    "spark.sql(f'DROP TABLE IF EXISTS {username}_raw.ghactivity')"
   ]
  },
  {
   "cell_type": "code",
   "execution_count": 75,
   "metadata": {},
   "outputs": [],
   "source": [
    "%%sh\n",
    "\n",
    "hdfs dfs -ls /user/${USER}/warehouse/${USER}_raw.db"
   ]
  },
  {
   "cell_type": "code",
   "execution_count": 76,
   "metadata": {},
   "outputs": [
    {
     "name": "stderr",
     "output_type": "stream",
     "text": [
      "rm: `/user/itversity/warehouse/itversity_raw.db/ghactivity': No such file or directory\n"
     ]
    },
    {
     "ename": "CalledProcessError",
     "evalue": "Command 'b'\\nhdfs dfs -rm -R -skipTrash /user/${USER}/warehouse/${USER}_raw.db/ghactivity\\n'' returned non-zero exit status 1.",
     "output_type": "error",
     "traceback": [
      "\u001b[0;31m---------------------------------------------------------------------------\u001b[0m",
      "\u001b[0;31mCalledProcessError\u001b[0m                        Traceback (most recent call last)",
      "\u001b[0;32m<ipython-input-76-65ee334f1d2f>\u001b[0m in \u001b[0;36m<module>\u001b[0;34m\u001b[0m\n\u001b[0;32m----> 1\u001b[0;31m \u001b[0mget_ipython\u001b[0m\u001b[0;34m(\u001b[0m\u001b[0;34m)\u001b[0m\u001b[0;34m.\u001b[0m\u001b[0mrun_cell_magic\u001b[0m\u001b[0;34m(\u001b[0m\u001b[0;34m'sh'\u001b[0m\u001b[0;34m,\u001b[0m \u001b[0;34m''\u001b[0m\u001b[0;34m,\u001b[0m \u001b[0;34m'\\nhdfs dfs -rm -R -skipTrash /user/${USER}/warehouse/${USER}_raw.db/ghactivity\\n'\u001b[0m\u001b[0;34m)\u001b[0m\u001b[0;34m\u001b[0m\u001b[0;34m\u001b[0m\u001b[0m\n\u001b[0m",
      "\u001b[0;32m/usr/local/lib/python3.6/site-packages/IPython/core/interactiveshell.py\u001b[0m in \u001b[0;36mrun_cell_magic\u001b[0;34m(self, magic_name, line, cell)\u001b[0m\n\u001b[1;32m   2360\u001b[0m             \u001b[0;32mwith\u001b[0m \u001b[0mself\u001b[0m\u001b[0;34m.\u001b[0m\u001b[0mbuiltin_trap\u001b[0m\u001b[0;34m:\u001b[0m\u001b[0;34m\u001b[0m\u001b[0;34m\u001b[0m\u001b[0m\n\u001b[1;32m   2361\u001b[0m                 \u001b[0margs\u001b[0m \u001b[0;34m=\u001b[0m \u001b[0;34m(\u001b[0m\u001b[0mmagic_arg_s\u001b[0m\u001b[0;34m,\u001b[0m \u001b[0mcell\u001b[0m\u001b[0;34m)\u001b[0m\u001b[0;34m\u001b[0m\u001b[0;34m\u001b[0m\u001b[0m\n\u001b[0;32m-> 2362\u001b[0;31m                 \u001b[0mresult\u001b[0m \u001b[0;34m=\u001b[0m \u001b[0mfn\u001b[0m\u001b[0;34m(\u001b[0m\u001b[0;34m*\u001b[0m\u001b[0margs\u001b[0m\u001b[0;34m,\u001b[0m \u001b[0;34m**\u001b[0m\u001b[0mkwargs\u001b[0m\u001b[0;34m)\u001b[0m\u001b[0;34m\u001b[0m\u001b[0;34m\u001b[0m\u001b[0m\n\u001b[0m\u001b[1;32m   2363\u001b[0m             \u001b[0;32mreturn\u001b[0m \u001b[0mresult\u001b[0m\u001b[0;34m\u001b[0m\u001b[0;34m\u001b[0m\u001b[0m\n\u001b[1;32m   2364\u001b[0m \u001b[0;34m\u001b[0m\u001b[0m\n",
      "\u001b[0;32m/usr/local/lib/python3.6/site-packages/IPython/core/magics/script.py\u001b[0m in \u001b[0;36mnamed_script_magic\u001b[0;34m(line, cell)\u001b[0m\n\u001b[1;32m    140\u001b[0m             \u001b[0;32melse\u001b[0m\u001b[0;34m:\u001b[0m\u001b[0;34m\u001b[0m\u001b[0;34m\u001b[0m\u001b[0m\n\u001b[1;32m    141\u001b[0m                 \u001b[0mline\u001b[0m \u001b[0;34m=\u001b[0m \u001b[0mscript\u001b[0m\u001b[0;34m\u001b[0m\u001b[0;34m\u001b[0m\u001b[0m\n\u001b[0;32m--> 142\u001b[0;31m             \u001b[0;32mreturn\u001b[0m \u001b[0mself\u001b[0m\u001b[0;34m.\u001b[0m\u001b[0mshebang\u001b[0m\u001b[0;34m(\u001b[0m\u001b[0mline\u001b[0m\u001b[0;34m,\u001b[0m \u001b[0mcell\u001b[0m\u001b[0;34m)\u001b[0m\u001b[0;34m\u001b[0m\u001b[0;34m\u001b[0m\u001b[0m\n\u001b[0m\u001b[1;32m    143\u001b[0m \u001b[0;34m\u001b[0m\u001b[0m\n\u001b[1;32m    144\u001b[0m         \u001b[0;31m# write a basic docstring:\u001b[0m\u001b[0;34m\u001b[0m\u001b[0;34m\u001b[0m\u001b[0;34m\u001b[0m\u001b[0m\n",
      "\u001b[0;32m<decorator-gen-110>\u001b[0m in \u001b[0;36mshebang\u001b[0;34m(self, line, cell)\u001b[0m\n",
      "\u001b[0;32m/usr/local/lib/python3.6/site-packages/IPython/core/magic.py\u001b[0m in \u001b[0;36m<lambda>\u001b[0;34m(f, *a, **k)\u001b[0m\n\u001b[1;32m    185\u001b[0m     \u001b[0;31m# but it's overkill for just that one bit of state.\u001b[0m\u001b[0;34m\u001b[0m\u001b[0;34m\u001b[0m\u001b[0;34m\u001b[0m\u001b[0m\n\u001b[1;32m    186\u001b[0m     \u001b[0;32mdef\u001b[0m \u001b[0mmagic_deco\u001b[0m\u001b[0;34m(\u001b[0m\u001b[0marg\u001b[0m\u001b[0;34m)\u001b[0m\u001b[0;34m:\u001b[0m\u001b[0;34m\u001b[0m\u001b[0;34m\u001b[0m\u001b[0m\n\u001b[0;32m--> 187\u001b[0;31m         \u001b[0mcall\u001b[0m \u001b[0;34m=\u001b[0m \u001b[0;32mlambda\u001b[0m \u001b[0mf\u001b[0m\u001b[0;34m,\u001b[0m \u001b[0;34m*\u001b[0m\u001b[0ma\u001b[0m\u001b[0;34m,\u001b[0m \u001b[0;34m**\u001b[0m\u001b[0mk\u001b[0m\u001b[0;34m:\u001b[0m \u001b[0mf\u001b[0m\u001b[0;34m(\u001b[0m\u001b[0;34m*\u001b[0m\u001b[0ma\u001b[0m\u001b[0;34m,\u001b[0m \u001b[0;34m**\u001b[0m\u001b[0mk\u001b[0m\u001b[0;34m)\u001b[0m\u001b[0;34m\u001b[0m\u001b[0;34m\u001b[0m\u001b[0m\n\u001b[0m\u001b[1;32m    188\u001b[0m \u001b[0;34m\u001b[0m\u001b[0m\n\u001b[1;32m    189\u001b[0m         \u001b[0;32mif\u001b[0m \u001b[0mcallable\u001b[0m\u001b[0;34m(\u001b[0m\u001b[0marg\u001b[0m\u001b[0;34m)\u001b[0m\u001b[0;34m:\u001b[0m\u001b[0;34m\u001b[0m\u001b[0;34m\u001b[0m\u001b[0m\n",
      "\u001b[0;32m/usr/local/lib/python3.6/site-packages/IPython/core/magics/script.py\u001b[0m in \u001b[0;36mshebang\u001b[0;34m(self, line, cell)\u001b[0m\n\u001b[1;32m    243\u001b[0m             \u001b[0msys\u001b[0m\u001b[0;34m.\u001b[0m\u001b[0mstderr\u001b[0m\u001b[0;34m.\u001b[0m\u001b[0mflush\u001b[0m\u001b[0;34m(\u001b[0m\u001b[0;34m)\u001b[0m\u001b[0;34m\u001b[0m\u001b[0;34m\u001b[0m\u001b[0m\n\u001b[1;32m    244\u001b[0m         \u001b[0;32mif\u001b[0m \u001b[0margs\u001b[0m\u001b[0;34m.\u001b[0m\u001b[0mraise_error\u001b[0m \u001b[0;32mand\u001b[0m \u001b[0mp\u001b[0m\u001b[0;34m.\u001b[0m\u001b[0mreturncode\u001b[0m\u001b[0;34m!=\u001b[0m\u001b[0;36m0\u001b[0m\u001b[0;34m:\u001b[0m\u001b[0;34m\u001b[0m\u001b[0;34m\u001b[0m\u001b[0m\n\u001b[0;32m--> 245\u001b[0;31m             \u001b[0;32mraise\u001b[0m \u001b[0mCalledProcessError\u001b[0m\u001b[0;34m(\u001b[0m\u001b[0mp\u001b[0m\u001b[0;34m.\u001b[0m\u001b[0mreturncode\u001b[0m\u001b[0;34m,\u001b[0m \u001b[0mcell\u001b[0m\u001b[0;34m,\u001b[0m \u001b[0moutput\u001b[0m\u001b[0;34m=\u001b[0m\u001b[0mout\u001b[0m\u001b[0;34m,\u001b[0m \u001b[0mstderr\u001b[0m\u001b[0;34m=\u001b[0m\u001b[0merr\u001b[0m\u001b[0;34m)\u001b[0m\u001b[0;34m\u001b[0m\u001b[0;34m\u001b[0m\u001b[0m\n\u001b[0m\u001b[1;32m    246\u001b[0m \u001b[0;34m\u001b[0m\u001b[0m\n\u001b[1;32m    247\u001b[0m     \u001b[0;32mdef\u001b[0m \u001b[0m_run_script\u001b[0m\u001b[0;34m(\u001b[0m\u001b[0mself\u001b[0m\u001b[0;34m,\u001b[0m \u001b[0mp\u001b[0m\u001b[0;34m,\u001b[0m \u001b[0mcell\u001b[0m\u001b[0;34m,\u001b[0m \u001b[0mto_close\u001b[0m\u001b[0;34m)\u001b[0m\u001b[0;34m:\u001b[0m\u001b[0;34m\u001b[0m\u001b[0;34m\u001b[0m\u001b[0m\n",
      "\u001b[0;31mCalledProcessError\u001b[0m: Command 'b'\\nhdfs dfs -rm -R -skipTrash /user/${USER}/warehouse/${USER}_raw.db/ghactivity\\n'' returned non-zero exit status 1."
     ]
    }
   ],
   "source": [
    "%%sh\n",
    "\n",
    "hdfs dfs -rm -R -skipTrash /user/${USER}/warehouse/${USER}_raw.db/ghactivity"
   ]
  },
  {
   "cell_type": "code",
   "execution_count": 77,
   "metadata": {},
   "outputs": [
    {
     "name": "stdout",
     "output_type": "stream",
     "text": [
      "+--------------------+--------------------+-----------+--------------------+--------------------+------+--------------------+-----------------+----+-----+---+\n",
      "|               actor|          created_at|         id|                 org|             payload|public|                repo|             type|year|month|day|\n",
      "+--------------------+--------------------+-----------+--------------------+--------------------+------+--------------------+-----------------+----+-----+---+\n",
      "|[https://avatars....|2021-01-13T15:00:00Z|14806766244|                null|[opened,,,,,,,,,,...|  true|[328163487, heret...| PullRequestEvent|2021|   01| 13|\n",
      "|[https://avatars....|2021-01-13T15:00:00Z|14806766250|[https://avatars....|[created,, [, COL...|  true|[155705622, conta...|IssueCommentEvent|2021|   01| 13|\n",
      "|[https://avatars....|2021-01-13T15:00:00Z|14806766257|                null|[,,,, A robot pow...|  true|[329342078, gmone...|      CreateEvent|2021|   01| 13|\n",
      "|[https://avatars....|2021-01-13T15:00:00Z|14806766262|[https://avatars....|[, bce214068f9be7...|  true|[264190944, Lombi...|        PushEvent|2021|   01| 13|\n",
      "|[https://avatars....|2021-01-13T15:00:00Z|14806766264|                null|[, c6f394b3e563a9...|  true|[299870114, brann...|        PushEvent|2021|   01| 13|\n",
      "|[https://avatars....|2021-01-13T15:00:00Z|14806766268|[https://avatars....|[, 4c22d1ba369479...|  true|[106238080, osmoc...|        PushEvent|2021|   01| 13|\n",
      "|[https://avatars....|2021-01-13T15:00:00Z|14806766275|                null|[, a49d46292b4c90...|  true|[194426708, JCGit...|        PushEvent|2021|   01| 13|\n",
      "|[https://avatars....|2021-01-13T15:00:00Z|14806766279|                null|[, a85473122de60c...|  true|[199937517, chris...|        PushEvent|2021|   01| 13|\n",
      "|[https://avatars....|2021-01-13T15:00:00Z|14806766283|                null|[, e4b0af42300a00...|  true|[328015832, Oscar...|        PushEvent|2021|   01| 13|\n",
      "|[https://avatars....|2021-01-13T15:00:00Z|14806766284|                null|[, 94db045b78b848...|  true|[321776554, mismy...|        PushEvent|2021|   01| 13|\n",
      "|[https://avatars....|2021-01-13T15:00:00Z|14806766289|                null|[, 4375ed98ffd9de...|  true|[178015037, eLaLa...|        PushEvent|2021|   01| 13|\n",
      "|[https://avatars....|2021-01-13T15:00:00Z|14806766293|[https://avatars....|[, 58e4eaf5b2f907...|  true|[319660904, sut63...|        PushEvent|2021|   01| 13|\n",
      "|[https://avatars....|2021-01-13T15:00:00Z|14806766306|                null|[closed,,,,,,,,,,...|  true|[295936975, r4b3r...| PullRequestEvent|2021|   01| 13|\n",
      "|[https://avatars....|2021-01-13T15:00:00Z|14806766316|                null|[, 809de505b9b50b...|  true|[326438841, rjpag...|        PushEvent|2021|   01| 13|\n",
      "|[https://avatars....|2021-01-13T15:00:00Z|14806766329|                null|[, 1f052d209dba90...|  true|[33147620, fappel...|        PushEvent|2021|   01| 13|\n",
      "|[https://avatars....|2021-01-13T15:00:00Z|14806766342|                null|[,,,,,, [https://...|  true|[7099642, thinkde...|        ForkEvent|2021|   01| 13|\n",
      "|[https://avatars....|2021-01-13T15:00:00Z|14806766343|[https://avatars....|[created,, [, NON...|  true|[296376379, x-sta...|IssueCommentEvent|2021|   01| 13|\n",
      "|[https://avatars....|2021-01-13T15:00:00Z|14806766346|                null|[,,,,,,,,,,,,,,, ...|  true|[323028365, shenb...|      DeleteEvent|2021|   01| 13|\n",
      "|[https://avatars....|2021-01-13T15:00:00Z|14806766351|                null|[, 17d66078f8ac4c...|  true|[328085834, rhean...|        PushEvent|2021|   01| 13|\n",
      "|[https://avatars....|2021-01-13T15:00:00Z|14806766353|                null|[started,,,,,,,,,...|  true|[106096128, bbong...|       WatchEvent|2021|   01| 13|\n",
      "+--------------------+--------------------+-----------+--------------------+--------------------+------+--------------------+-----------------+----+-----+---+\n",
      "only showing top 20 rows\n",
      "\n"
     ]
    }
   ],
   "source": [
    "ghdata. \\\n",
    "    withColumn('year', substring('created_at', 1, 4)). \\\n",
    "    withColumn('month', substring('created_at', 6, 2)). \\\n",
    "    withColumn('day', substring('created_at', 9, 2)). \\\n",
    "    show()"
   ]
  },
  {
   "cell_type": "code",
   "execution_count": 78,
   "metadata": {},
   "outputs": [],
   "source": [
    "ghdata = ghdata. \\\n",
    "    withColumn('year', substring('created_at', 1, 4)). \\\n",
    "    withColumn('month', substring('created_at', 6, 2)). \\\n",
    "    withColumn('day', substring('created_at', 9, 2))"
   ]
  },
  {
   "cell_type": "code",
   "execution_count": 79,
   "metadata": {},
   "outputs": [],
   "source": [
    "ghdata. \\\n",
    "    write. \\\n",
    "    partitionBy('year', 'month', 'day'). \\\n",
    "    saveAsTable(f'{username}_raw.ghactivity')"
   ]
  },
  {
   "cell_type": "code",
   "execution_count": 80,
   "metadata": {},
   "outputs": [
    {
     "name": "stdout",
     "output_type": "stream",
     "text": [
      "+-------------------------+\n",
      "|partition                |\n",
      "+-------------------------+\n",
      "|year=2021/month=01/day=13|\n",
      "+-------------------------+\n",
      "\n"
     ]
    }
   ],
   "source": [
    "spark.sql(f'SHOW PARTITIONS {username}_raw.ghactivity').show(truncate=False)"
   ]
  },
  {
   "cell_type": "code",
   "execution_count": 81,
   "metadata": {},
   "outputs": [
    {
     "name": "stdout",
     "output_type": "stream",
     "text": [
      "-rw-r--r--   2 itversity students          0 2021-01-24 09:48 /user/itversity/warehouse/itversity_raw.db/ghactivity/_SUCCESS\n",
      "drwxr-xr-x   - itversity students          0 2021-01-24 09:47 /user/itversity/warehouse/itversity_raw.db/ghactivity/year=2021\n",
      "drwxr-xr-x   - itversity students          0 2021-01-24 09:47 /user/itversity/warehouse/itversity_raw.db/ghactivity/year=2021/month=01\n",
      "drwxr-xr-x   - itversity students          0 2021-01-24 09:48 /user/itversity/warehouse/itversity_raw.db/ghactivity/year=2021/month=01/day=13\n",
      "-rw-r--r--   2 itversity students  159325117 2021-01-24 09:47 /user/itversity/warehouse/itversity_raw.db/ghactivity/year=2021/month=01/day=13/part-00000-b10eafc3-d753-4237-b5dd-eaafc9a0019d.c000.snappy.parquet\n",
      "-rw-r--r--   2 itversity students  165619120 2021-01-24 09:48 /user/itversity/warehouse/itversity_raw.db/ghactivity/year=2021/month=01/day=13/part-00001-b10eafc3-d753-4237-b5dd-eaafc9a0019d.c000.snappy.parquet\n",
      "-rw-r--r--   2 itversity students  152417041 2021-01-24 09:48 /user/itversity/warehouse/itversity_raw.db/ghactivity/year=2021/month=01/day=13/part-00002-b10eafc3-d753-4237-b5dd-eaafc9a0019d.c000.snappy.parquet\n",
      "-rw-r--r--   2 itversity students  152311906 2021-01-24 09:48 /user/itversity/warehouse/itversity_raw.db/ghactivity/year=2021/month=01/day=13/part-00003-b10eafc3-d753-4237-b5dd-eaafc9a0019d.c000.snappy.parquet\n",
      "-rw-r--r--   2 itversity students  143133044 2021-01-24 09:48 /user/itversity/warehouse/itversity_raw.db/ghactivity/year=2021/month=01/day=13/part-00004-b10eafc3-d753-4237-b5dd-eaafc9a0019d.c000.snappy.parquet\n",
      "-rw-r--r--   2 itversity students  133085267 2021-01-24 09:48 /user/itversity/warehouse/itversity_raw.db/ghactivity/year=2021/month=01/day=13/part-00005-b10eafc3-d753-4237-b5dd-eaafc9a0019d.c000.snappy.parquet\n",
      "-rw-r--r--   2 itversity students  137530962 2021-01-24 09:48 /user/itversity/warehouse/itversity_raw.db/ghactivity/year=2021/month=01/day=13/part-00006-b10eafc3-d753-4237-b5dd-eaafc9a0019d.c000.snappy.parquet\n",
      "-rw-r--r--   2 itversity students  132299149 2021-01-24 09:48 /user/itversity/warehouse/itversity_raw.db/ghactivity/year=2021/month=01/day=13/part-00007-b10eafc3-d753-4237-b5dd-eaafc9a0019d.c000.snappy.parquet\n",
      "-rw-r--r--   2 itversity students  128228178 2021-01-24 09:48 /user/itversity/warehouse/itversity_raw.db/ghactivity/year=2021/month=01/day=13/part-00008-b10eafc3-d753-4237-b5dd-eaafc9a0019d.c000.snappy.parquet\n",
      "-rw-r--r--   2 itversity students  125592757 2021-01-24 09:48 /user/itversity/warehouse/itversity_raw.db/ghactivity/year=2021/month=01/day=13/part-00009-b10eafc3-d753-4237-b5dd-eaafc9a0019d.c000.snappy.parquet\n",
      "-rw-r--r--   2 itversity students  121661155 2021-01-24 09:48 /user/itversity/warehouse/itversity_raw.db/ghactivity/year=2021/month=01/day=13/part-00010-b10eafc3-d753-4237-b5dd-eaafc9a0019d.c000.snappy.parquet\n",
      "-rw-r--r--   2 itversity students  118533742 2021-01-24 09:48 /user/itversity/warehouse/itversity_raw.db/ghactivity/year=2021/month=01/day=13/part-00011-b10eafc3-d753-4237-b5dd-eaafc9a0019d.c000.snappy.parquet\n",
      "-rw-r--r--   2 itversity students  119934139 2021-01-24 09:48 /user/itversity/warehouse/itversity_raw.db/ghactivity/year=2021/month=01/day=13/part-00012-b10eafc3-d753-4237-b5dd-eaafc9a0019d.c000.snappy.parquet\n",
      "-rw-r--r--   2 itversity students  231054055 2021-01-24 09:48 /user/itversity/warehouse/itversity_raw.db/ghactivity/year=2021/month=01/day=13/part-00013-b10eafc3-d753-4237-b5dd-eaafc9a0019d.c000.snappy.parquet\n",
      "-rw-r--r--   2 itversity students  211329912 2021-01-24 09:48 /user/itversity/warehouse/itversity_raw.db/ghactivity/year=2021/month=01/day=13/part-00014-b10eafc3-d753-4237-b5dd-eaafc9a0019d.c000.snappy.parquet\n",
      "-rw-r--r--   2 itversity students  185399078 2021-01-24 09:48 /user/itversity/warehouse/itversity_raw.db/ghactivity/year=2021/month=01/day=13/part-00015-b10eafc3-d753-4237-b5dd-eaafc9a0019d.c000.snappy.parquet\n",
      "-rw-r--r--   2 itversity students  165457961 2021-01-24 09:48 /user/itversity/warehouse/itversity_raw.db/ghactivity/year=2021/month=01/day=13/part-00016-b10eafc3-d753-4237-b5dd-eaafc9a0019d.c000.snappy.parquet\n",
      "-rw-r--r--   2 itversity students  156983174 2021-01-24 09:48 /user/itversity/warehouse/itversity_raw.db/ghactivity/year=2021/month=01/day=13/part-00017-b10eafc3-d753-4237-b5dd-eaafc9a0019d.c000.snappy.parquet\n",
      "-rw-r--r--   2 itversity students   73883291 2021-01-24 09:48 /user/itversity/warehouse/itversity_raw.db/ghactivity/year=2021/month=01/day=13/part-00018-b10eafc3-d753-4237-b5dd-eaafc9a0019d.c000.snappy.parquet\n"
     ]
    }
   ],
   "source": [
    "%%sh\n",
    "\n",
    "hdfs dfs -ls -R /user/${USER}/warehouse/${USER}_raw.db/ghactivity"
   ]
  },
  {
   "cell_type": "code",
   "execution_count": 82,
   "metadata": {},
   "outputs": [
    {
     "name": "stdout",
     "output_type": "stream",
     "text": [
      "+----------+--------+\n",
      "|created_dt|count(1)|\n",
      "+----------+--------+\n",
      "|2021-01-13| 2829111|\n",
      "+----------+--------+\n",
      "\n"
     ]
    }
   ],
   "source": [
    "spark.sql(f'''\n",
    "    SELECT substring(created_at, 1, 10) AS created_dt, count(1)\n",
    "    FROM {username}_raw.ghactivity\n",
    "    GROUP BY created_dt\n",
    "    ORDER BY created_dt\n",
    "'''). \\\n",
    "    show()"
   ]
  },
  {
   "cell_type": "code",
   "execution_count": 92,
   "metadata": {},
   "outputs": [
    {
     "name": "stdin",
     "output_type": "stream",
     "text": [
      "Enter date to copy the data (yyyy-MM-dd):  2021-01-16\n"
     ]
    }
   ],
   "source": [
    "from pyspark.sql.functions import substring, col\n",
    "process_dt = input('Enter date to copy the data (yyyy-MM-dd): ')\n",
    "spark.conf.set('spark.sql.shuffle.partitions', 8)\n",
    "ghdata = spark. \\\n",
    "    read. \\\n",
    "    json(f'/user/{username}/itv-github/landing/{process_dt}-*.json.gz')\n",
    "ghdata = ghdata. \\\n",
    "    withColumn('year', substring('created_at', 1, 4)). \\\n",
    "    withColumn('month', substring('created_at', 6, 2)). \\\n",
    "    withColumn('day', substring('created_at', 9, 2))\n",
    "ghdata. \\\n",
    "    write. \\\n",
    "    mode('append'). \\\n",
    "    partitionBy('year', 'month', 'day'). \\\n",
    "    parquet(f'/user/{username}/warehouse/{username}_raw.db/ghactivity')"
   ]
  },
  {
   "cell_type": "code",
   "execution_count": 93,
   "metadata": {},
   "outputs": [
    {
     "name": "stdout",
     "output_type": "stream",
     "text": [
      "+-------------------------+\n",
      "|partition                |\n",
      "+-------------------------+\n",
      "|year=2021/month=01/day=13|\n",
      "|year=2021/month=01/day=14|\n",
      "+-------------------------+\n",
      "\n"
     ]
    }
   ],
   "source": [
    "spark.sql(f'SHOW PARTITIONS {username}_raw.ghactivity').show(truncate=False)"
   ]
  },
  {
   "cell_type": "code",
   "execution_count": 94,
   "metadata": {},
   "outputs": [
    {
     "name": "stdout",
     "output_type": "stream",
     "text": [
      "-rw-r--r--   2 itversity students          0 2021-01-24 09:59 /user/itversity/warehouse/itversity_raw.db/ghactivity/_SUCCESS\n",
      "drwxr-xr-x   - itversity students          0 2021-01-24 09:47 /user/itversity/warehouse/itversity_raw.db/ghactivity/year=2021\n",
      "drwxr-xr-x   - itversity students          0 2021-01-24 09:59 /user/itversity/warehouse/itversity_raw.db/ghactivity/year=2021/month=01\n",
      "drwxr-xr-x   - itversity students          0 2021-01-24 09:48 /user/itversity/warehouse/itversity_raw.db/ghactivity/year=2021/month=01/day=13\n",
      "-rw-r--r--   2 itversity students  159325117 2021-01-24 09:47 /user/itversity/warehouse/itversity_raw.db/ghactivity/year=2021/month=01/day=13/part-00000-b10eafc3-d753-4237-b5dd-eaafc9a0019d.c000.snappy.parquet\n",
      "-rw-r--r--   2 itversity students  165619120 2021-01-24 09:48 /user/itversity/warehouse/itversity_raw.db/ghactivity/year=2021/month=01/day=13/part-00001-b10eafc3-d753-4237-b5dd-eaafc9a0019d.c000.snappy.parquet\n",
      "-rw-r--r--   2 itversity students  152417041 2021-01-24 09:48 /user/itversity/warehouse/itversity_raw.db/ghactivity/year=2021/month=01/day=13/part-00002-b10eafc3-d753-4237-b5dd-eaafc9a0019d.c000.snappy.parquet\n",
      "-rw-r--r--   2 itversity students  152311906 2021-01-24 09:48 /user/itversity/warehouse/itversity_raw.db/ghactivity/year=2021/month=01/day=13/part-00003-b10eafc3-d753-4237-b5dd-eaafc9a0019d.c000.snappy.parquet\n",
      "-rw-r--r--   2 itversity students  143133044 2021-01-24 09:48 /user/itversity/warehouse/itversity_raw.db/ghactivity/year=2021/month=01/day=13/part-00004-b10eafc3-d753-4237-b5dd-eaafc9a0019d.c000.snappy.parquet\n",
      "-rw-r--r--   2 itversity students  133085267 2021-01-24 09:48 /user/itversity/warehouse/itversity_raw.db/ghactivity/year=2021/month=01/day=13/part-00005-b10eafc3-d753-4237-b5dd-eaafc9a0019d.c000.snappy.parquet\n",
      "-rw-r--r--   2 itversity students  137530962 2021-01-24 09:48 /user/itversity/warehouse/itversity_raw.db/ghactivity/year=2021/month=01/day=13/part-00006-b10eafc3-d753-4237-b5dd-eaafc9a0019d.c000.snappy.parquet\n",
      "-rw-r--r--   2 itversity students  132299149 2021-01-24 09:48 /user/itversity/warehouse/itversity_raw.db/ghactivity/year=2021/month=01/day=13/part-00007-b10eafc3-d753-4237-b5dd-eaafc9a0019d.c000.snappy.parquet\n",
      "-rw-r--r--   2 itversity students  128228178 2021-01-24 09:48 /user/itversity/warehouse/itversity_raw.db/ghactivity/year=2021/month=01/day=13/part-00008-b10eafc3-d753-4237-b5dd-eaafc9a0019d.c000.snappy.parquet\n",
      "-rw-r--r--   2 itversity students  125592757 2021-01-24 09:48 /user/itversity/warehouse/itversity_raw.db/ghactivity/year=2021/month=01/day=13/part-00009-b10eafc3-d753-4237-b5dd-eaafc9a0019d.c000.snappy.parquet\n",
      "-rw-r--r--   2 itversity students  121661155 2021-01-24 09:48 /user/itversity/warehouse/itversity_raw.db/ghactivity/year=2021/month=01/day=13/part-00010-b10eafc3-d753-4237-b5dd-eaafc9a0019d.c000.snappy.parquet\n",
      "-rw-r--r--   2 itversity students  118533742 2021-01-24 09:48 /user/itversity/warehouse/itversity_raw.db/ghactivity/year=2021/month=01/day=13/part-00011-b10eafc3-d753-4237-b5dd-eaafc9a0019d.c000.snappy.parquet\n",
      "-rw-r--r--   2 itversity students  119934139 2021-01-24 09:48 /user/itversity/warehouse/itversity_raw.db/ghactivity/year=2021/month=01/day=13/part-00012-b10eafc3-d753-4237-b5dd-eaafc9a0019d.c000.snappy.parquet\n",
      "-rw-r--r--   2 itversity students  231054055 2021-01-24 09:48 /user/itversity/warehouse/itversity_raw.db/ghactivity/year=2021/month=01/day=13/part-00013-b10eafc3-d753-4237-b5dd-eaafc9a0019d.c000.snappy.parquet\n",
      "-rw-r--r--   2 itversity students  211329912 2021-01-24 09:48 /user/itversity/warehouse/itversity_raw.db/ghactivity/year=2021/month=01/day=13/part-00014-b10eafc3-d753-4237-b5dd-eaafc9a0019d.c000.snappy.parquet\n",
      "-rw-r--r--   2 itversity students  185399078 2021-01-24 09:48 /user/itversity/warehouse/itversity_raw.db/ghactivity/year=2021/month=01/day=13/part-00015-b10eafc3-d753-4237-b5dd-eaafc9a0019d.c000.snappy.parquet\n",
      "-rw-r--r--   2 itversity students  165457961 2021-01-24 09:48 /user/itversity/warehouse/itversity_raw.db/ghactivity/year=2021/month=01/day=13/part-00016-b10eafc3-d753-4237-b5dd-eaafc9a0019d.c000.snappy.parquet\n",
      "-rw-r--r--   2 itversity students  156983174 2021-01-24 09:48 /user/itversity/warehouse/itversity_raw.db/ghactivity/year=2021/month=01/day=13/part-00017-b10eafc3-d753-4237-b5dd-eaafc9a0019d.c000.snappy.parquet\n",
      "-rw-r--r--   2 itversity students   73883291 2021-01-24 09:48 /user/itversity/warehouse/itversity_raw.db/ghactivity/year=2021/month=01/day=13/part-00018-b10eafc3-d753-4237-b5dd-eaafc9a0019d.c000.snappy.parquet\n",
      "drwxr-xr-x   - itversity students          0 2021-01-24 09:54 /user/itversity/warehouse/itversity_raw.db/ghactivity/year=2021/month=01/day=14\n",
      "-rw-r--r--   2 itversity students  216028660 2021-01-24 09:53 /user/itversity/warehouse/itversity_raw.db/ghactivity/year=2021/month=01/day=14/part-00000-ca90ecf9-2724-407b-9dd0-0daa752a2ab4.c000.snappy.parquet\n",
      "-rw-r--r--   2 itversity students  154193376 2021-01-24 09:54 /user/itversity/warehouse/itversity_raw.db/ghactivity/year=2021/month=01/day=14/part-00001-ca90ecf9-2724-407b-9dd0-0daa752a2ab4.c000.snappy.parquet\n",
      "-rw-r--r--   2 itversity students  149349344 2021-01-24 09:53 /user/itversity/warehouse/itversity_raw.db/ghactivity/year=2021/month=01/day=14/part-00002-ca90ecf9-2724-407b-9dd0-0daa752a2ab4.c000.snappy.parquet\n",
      "-rw-r--r--   2 itversity students  149772936 2021-01-24 09:53 /user/itversity/warehouse/itversity_raw.db/ghactivity/year=2021/month=01/day=14/part-00003-ca90ecf9-2724-407b-9dd0-0daa752a2ab4.c000.snappy.parquet\n",
      "-rw-r--r--   2 itversity students  147998750 2021-01-24 09:54 /user/itversity/warehouse/itversity_raw.db/ghactivity/year=2021/month=01/day=14/part-00004-ca90ecf9-2724-407b-9dd0-0daa752a2ab4.c000.snappy.parquet\n",
      "-rw-r--r--   2 itversity students  139805873 2021-01-24 09:53 /user/itversity/warehouse/itversity_raw.db/ghactivity/year=2021/month=01/day=14/part-00005-ca90ecf9-2724-407b-9dd0-0daa752a2ab4.c000.snappy.parquet\n",
      "-rw-r--r--   2 itversity students  131689517 2021-01-24 09:53 /user/itversity/warehouse/itversity_raw.db/ghactivity/year=2021/month=01/day=14/part-00006-ca90ecf9-2724-407b-9dd0-0daa752a2ab4.c000.snappy.parquet\n",
      "-rw-r--r--   2 itversity students  126635826 2021-01-24 09:54 /user/itversity/warehouse/itversity_raw.db/ghactivity/year=2021/month=01/day=14/part-00007-ca90ecf9-2724-407b-9dd0-0daa752a2ab4.c000.snappy.parquet\n",
      "-rw-r--r--   2 itversity students  128132112 2021-01-24 09:54 /user/itversity/warehouse/itversity_raw.db/ghactivity/year=2021/month=01/day=14/part-00008-ca90ecf9-2724-407b-9dd0-0daa752a2ab4.c000.snappy.parquet\n",
      "-rw-r--r--   2 itversity students  123956029 2021-01-24 09:54 /user/itversity/warehouse/itversity_raw.db/ghactivity/year=2021/month=01/day=14/part-00009-ca90ecf9-2724-407b-9dd0-0daa752a2ab4.c000.snappy.parquet\n",
      "-rw-r--r--   2 itversity students  120364647 2021-01-24 09:53 /user/itversity/warehouse/itversity_raw.db/ghactivity/year=2021/month=01/day=14/part-00010-ca90ecf9-2724-407b-9dd0-0daa752a2ab4.c000.snappy.parquet\n",
      "-rw-r--r--   2 itversity students  108340480 2021-01-24 09:53 /user/itversity/warehouse/itversity_raw.db/ghactivity/year=2021/month=01/day=14/part-00011-ca90ecf9-2724-407b-9dd0-0daa752a2ab4.c000.snappy.parquet\n",
      "-rw-r--r--   2 itversity students  237315412 2021-01-24 09:54 /user/itversity/warehouse/itversity_raw.db/ghactivity/year=2021/month=01/day=14/part-00012-ca90ecf9-2724-407b-9dd0-0daa752a2ab4.c000.snappy.parquet\n",
      "-rw-r--r--   2 itversity students  226406816 2021-01-24 09:54 /user/itversity/warehouse/itversity_raw.db/ghactivity/year=2021/month=01/day=14/part-00013-ca90ecf9-2724-407b-9dd0-0daa752a2ab4.c000.snappy.parquet\n",
      "-rw-r--r--   2 itversity students  207705743 2021-01-24 09:54 /user/itversity/warehouse/itversity_raw.db/ghactivity/year=2021/month=01/day=14/part-00014-ca90ecf9-2724-407b-9dd0-0daa752a2ab4.c000.snappy.parquet\n",
      "-rw-r--r--   2 itversity students  188466384 2021-01-24 09:54 /user/itversity/warehouse/itversity_raw.db/ghactivity/year=2021/month=01/day=14/part-00015-ca90ecf9-2724-407b-9dd0-0daa752a2ab4.c000.snappy.parquet\n",
      "-rw-r--r--   2 itversity students  162405069 2021-01-24 09:54 /user/itversity/warehouse/itversity_raw.db/ghactivity/year=2021/month=01/day=14/part-00016-ca90ecf9-2724-407b-9dd0-0daa752a2ab4.c000.snappy.parquet\n",
      "-rw-r--r--   2 itversity students  150296766 2021-01-24 09:54 /user/itversity/warehouse/itversity_raw.db/ghactivity/year=2021/month=01/day=14/part-00017-ca90ecf9-2724-407b-9dd0-0daa752a2ab4.c000.snappy.parquet\n",
      "drwxr-xr-x   - itversity students          0 2021-01-24 09:57 /user/itversity/warehouse/itversity_raw.db/ghactivity/year=2021/month=01/day=15\n",
      "-rw-r--r--   2 itversity students  135591247 2021-01-24 09:56 /user/itversity/warehouse/itversity_raw.db/ghactivity/year=2021/month=01/day=15/part-00000-909bdb62-4d8b-4916-8643-525e52498b07.c000.snappy.parquet\n",
      "-rw-r--r--   2 itversity students  134257569 2021-01-24 09:57 /user/itversity/warehouse/itversity_raw.db/ghactivity/year=2021/month=01/day=15/part-00001-909bdb62-4d8b-4916-8643-525e52498b07.c000.snappy.parquet\n",
      "-rw-r--r--   2 itversity students  132610456 2021-01-24 09:56 /user/itversity/warehouse/itversity_raw.db/ghactivity/year=2021/month=01/day=15/part-00002-909bdb62-4d8b-4916-8643-525e52498b07.c000.snappy.parquet\n",
      "-rw-r--r--   2 itversity students  129901694 2021-01-24 09:57 /user/itversity/warehouse/itversity_raw.db/ghactivity/year=2021/month=01/day=15/part-00003-909bdb62-4d8b-4916-8643-525e52498b07.c000.snappy.parquet\n",
      "-rw-r--r--   2 itversity students  127174735 2021-01-24 09:56 /user/itversity/warehouse/itversity_raw.db/ghactivity/year=2021/month=01/day=15/part-00004-909bdb62-4d8b-4916-8643-525e52498b07.c000.snappy.parquet\n",
      "-rw-r--r--   2 itversity students  119869579 2021-01-24 09:57 /user/itversity/warehouse/itversity_raw.db/ghactivity/year=2021/month=01/day=15/part-00005-909bdb62-4d8b-4916-8643-525e52498b07.c000.snappy.parquet\n",
      "-rw-r--r--   2 itversity students  120704919 2021-01-24 09:57 /user/itversity/warehouse/itversity_raw.db/ghactivity/year=2021/month=01/day=15/part-00006-909bdb62-4d8b-4916-8643-525e52498b07.c000.snappy.parquet\n",
      "-rw-r--r--   2 itversity students  118155536 2021-01-24 09:57 /user/itversity/warehouse/itversity_raw.db/ghactivity/year=2021/month=01/day=15/part-00007-909bdb62-4d8b-4916-8643-525e52498b07.c000.snappy.parquet\n",
      "-rw-r--r--   2 itversity students  222774807 2021-01-24 09:57 /user/itversity/warehouse/itversity_raw.db/ghactivity/year=2021/month=01/day=15/part-00008-909bdb62-4d8b-4916-8643-525e52498b07.c000.snappy.parquet\n",
      "-rw-r--r--   2 itversity students  230409356 2021-01-24 09:57 /user/itversity/warehouse/itversity_raw.db/ghactivity/year=2021/month=01/day=15/part-00009-909bdb62-4d8b-4916-8643-525e52498b07.c000.snappy.parquet\n",
      "-rw-r--r--   2 itversity students  224791311 2021-01-24 09:57 /user/itversity/warehouse/itversity_raw.db/ghactivity/year=2021/month=01/day=15/part-00010-909bdb62-4d8b-4916-8643-525e52498b07.c000.snappy.parquet\n",
      "-rw-r--r--   2 itversity students  211472611 2021-01-24 09:57 /user/itversity/warehouse/itversity_raw.db/ghactivity/year=2021/month=01/day=15/part-00011-909bdb62-4d8b-4916-8643-525e52498b07.c000.snappy.parquet\n",
      "-rw-r--r--   2 itversity students  192290392 2021-01-24 09:57 /user/itversity/warehouse/itversity_raw.db/ghactivity/year=2021/month=01/day=15/part-00012-909bdb62-4d8b-4916-8643-525e52498b07.c000.snappy.parquet\n",
      "-rw-r--r--   2 itversity students  178400302 2021-01-24 09:57 /user/itversity/warehouse/itversity_raw.db/ghactivity/year=2021/month=01/day=15/part-00013-909bdb62-4d8b-4916-8643-525e52498b07.c000.snappy.parquet\n",
      "-rw-r--r--   2 itversity students  159110416 2021-01-24 09:57 /user/itversity/warehouse/itversity_raw.db/ghactivity/year=2021/month=01/day=15/part-00014-909bdb62-4d8b-4916-8643-525e52498b07.c000.snappy.parquet\n",
      "-rw-r--r--   2 itversity students  146946086 2021-01-24 09:57 /user/itversity/warehouse/itversity_raw.db/ghactivity/year=2021/month=01/day=15/part-00015-909bdb62-4d8b-4916-8643-525e52498b07.c000.snappy.parquet\n",
      "drwxr-xr-x   - itversity students          0 2021-01-24 09:59 /user/itversity/warehouse/itversity_raw.db/ghactivity/year=2021/month=01/day=16\n",
      "-rw-r--r--   2 itversity students  151878309 2021-01-24 09:59 /user/itversity/warehouse/itversity_raw.db/ghactivity/year=2021/month=01/day=16/part-00000-6654896a-500f-4776-867f-91c39abe1e79.c000.snappy.parquet\n",
      "-rw-r--r--   2 itversity students  149896818 2021-01-24 09:59 /user/itversity/warehouse/itversity_raw.db/ghactivity/year=2021/month=01/day=16/part-00001-6654896a-500f-4776-867f-91c39abe1e79.c000.snappy.parquet\n",
      "-rw-r--r--   2 itversity students  146883477 2021-01-24 09:58 /user/itversity/warehouse/itversity_raw.db/ghactivity/year=2021/month=01/day=16/part-00002-6654896a-500f-4776-867f-91c39abe1e79.c000.snappy.parquet\n",
      "-rw-r--r--   2 itversity students  140696716 2021-01-24 09:59 /user/itversity/warehouse/itversity_raw.db/ghactivity/year=2021/month=01/day=16/part-00003-6654896a-500f-4776-867f-91c39abe1e79.c000.snappy.parquet\n",
      "-rw-r--r--   2 itversity students  131720117 2021-01-24 09:59 /user/itversity/warehouse/itversity_raw.db/ghactivity/year=2021/month=01/day=16/part-00004-6654896a-500f-4776-867f-91c39abe1e79.c000.snappy.parquet\n",
      "-rw-r--r--   2 itversity students  125963756 2021-01-24 09:59 /user/itversity/warehouse/itversity_raw.db/ghactivity/year=2021/month=01/day=16/part-00005-6654896a-500f-4776-867f-91c39abe1e79.c000.snappy.parquet\n",
      "-rw-r--r--   2 itversity students  119574789 2021-01-24 09:59 /user/itversity/warehouse/itversity_raw.db/ghactivity/year=2021/month=01/day=16/part-00006-6654896a-500f-4776-867f-91c39abe1e79.c000.snappy.parquet\n",
      "-rw-r--r--   2 itversity students  115806882 2021-01-24 09:58 /user/itversity/warehouse/itversity_raw.db/ghactivity/year=2021/month=01/day=16/part-00007-6654896a-500f-4776-867f-91c39abe1e79.c000.snappy.parquet\n",
      "-rw-r--r--   2 itversity students  108268300 2021-01-24 09:58 /user/itversity/warehouse/itversity_raw.db/ghactivity/year=2021/month=01/day=16/part-00008-6654896a-500f-4776-867f-91c39abe1e79.c000.snappy.parquet\n",
      "-rw-r--r--   2 itversity students  105313732 2021-01-24 09:58 /user/itversity/warehouse/itversity_raw.db/ghactivity/year=2021/month=01/day=16/part-00009-6654896a-500f-4776-867f-91c39abe1e79.c000.snappy.parquet\n",
      "-rw-r--r--   2 itversity students  142306269 2021-01-24 09:58 /user/itversity/warehouse/itversity_raw.db/ghactivity/year=2021/month=01/day=16/part-00010-6654896a-500f-4776-867f-91c39abe1e79.c000.snappy.parquet\n",
      "-rw-r--r--   2 itversity students   45038462 2021-01-24 09:58 /user/itversity/warehouse/itversity_raw.db/ghactivity/year=2021/month=01/day=16/part-00011-6654896a-500f-4776-867f-91c39abe1e79.c000.snappy.parquet\n"
     ]
    }
   ],
   "source": [
    "%%sh\n",
    "\n",
    "hdfs dfs -ls -R /user/${USER}/warehouse/${USER}_raw.db/ghactivity"
   ]
  },
  {
   "cell_type": "code",
   "execution_count": 95,
   "metadata": {},
   "outputs": [
    {
     "data": {
      "text/plain": [
       "DataFrame[]"
      ]
     },
     "execution_count": 95,
     "metadata": {},
     "output_type": "execute_result"
    }
   ],
   "source": [
    "spark.sql(f'''\n",
    "    MSCK REPAIR TABLE {username}_raw.ghactivity\n",
    "''')"
   ]
  },
  {
   "cell_type": "code",
   "execution_count": 96,
   "metadata": {},
   "outputs": [
    {
     "name": "stdout",
     "output_type": "stream",
     "text": [
      "+-------------------------+\n",
      "|partition                |\n",
      "+-------------------------+\n",
      "|year=2021/month=01/day=13|\n",
      "|year=2021/month=01/day=14|\n",
      "|year=2021/month=01/day=15|\n",
      "|year=2021/month=01/day=16|\n",
      "+-------------------------+\n",
      "\n"
     ]
    }
   ],
   "source": [
    "spark.sql(f'SHOW PARTITIONS {username}_raw.ghactivity').show(truncate=False)"
   ]
  },
  {
   "cell_type": "code",
   "execution_count": 97,
   "metadata": {},
   "outputs": [
    {
     "name": "stdout",
     "output_type": "stream",
     "text": [
      "+----------+--------+\n",
      "|created_dt|count(1)|\n",
      "+----------+--------+\n",
      "|2021-01-13| 2829111|\n",
      "|2021-01-14| 2857818|\n",
      "|2021-01-15| 2652900|\n",
      "|2021-01-16| 1964511|\n",
      "+----------+--------+\n",
      "\n"
     ]
    }
   ],
   "source": [
    "spark.sql(f'''\n",
    "    SELECT substring(created_at, 1, 10) AS created_dt, count(1)\n",
    "    FROM {username}_raw.ghactivity\n",
    "    GROUP BY created_dt\n",
    "    ORDER BY created_dt\n",
    "'''). \\\n",
    "    show()"
   ]
  },
  {
   "cell_type": "code",
   "execution_count": null,
   "metadata": {},
   "outputs": [],
   "source": []
  }
 ],
 "metadata": {
  "kernelspec": {
   "display_name": "Pyspark 2",
   "language": "python",
   "name": "pyspark2"
  },
  "language_info": {
   "codemirror_mode": {
    "name": "ipython",
    "version": 3
   },
   "file_extension": ".py",
   "mimetype": "text/x-python",
   "name": "python",
   "nbconvert_exporter": "python",
   "pygments_lexer": "ipython3",
   "version": "3.6.8"
  }
 },
 "nbformat": 4,
 "nbformat_minor": 4
}
