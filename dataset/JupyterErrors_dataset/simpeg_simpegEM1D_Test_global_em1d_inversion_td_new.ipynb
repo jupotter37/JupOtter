{
 "cells": [
  {
   "cell_type": "code",
   "execution_count": 5,
   "metadata": {},
   "outputs": [],
   "source": [
    "from SimPEG import Mesh, Maps, Utils\n",
    "import numpy as np\n",
    "from matplotlib.colors import LogNorm\n",
    "from simpegEM1D import (\n",
    "    GlobalEM1DProblemTD, GlobalEM1DSurveyTD, get_vertical_discretization_time, EM1DSurveyTD\n",
    ")\n",
    "from pymatsolver import PardisoSolver\n",
    "from simpegEM1D import skytem_HM_2015\n",
    "\n",
    "def get_xyz(\n",
    "    dx=100, \n",
    "    dy=100, \n",
    "    nx=5, \n",
    "    ny=5, \n",
    "    x0=np.r_[0, 0, 0.]\n",
    "):\n",
    "    x = np.arange(nx)*dx + x0[0]\n",
    "    y = np.arange(ny)*dy + x0[1]\n",
    "    z = np.r_[0.]\n",
    "    return Utils.ndgrid(x, y, z)\n",
    "xyz_topo = get_xyz()\n",
    "xyz = get_xyz(x0=np.r_[0, 0, 30.])"
   ]
  },
  {
   "cell_type": "code",
   "execution_count": 6,
   "metadata": {},
   "outputs": [
    {
     "name": "stdout",
     "output_type": "stream",
     "text": [
      ">> Set parameters\n"
     ]
    },
    {
     "ename": "ValueError",
     "evalue": "The truth value of an array with more than one element is ambiguous. Use a.any() or a.all()",
     "output_type": "error",
     "traceback": [
      "\u001b[0;31m---------------------------------------------------------------------------\u001b[0m",
      "\u001b[0;31mValueError\u001b[0m                                Traceback (most recent call last)",
      "\u001b[0;32m<ipython-input-6-8835dccb0d03>\u001b[0m in \u001b[0;36m<module>\u001b[0;34m()\u001b[0m\n\u001b[1;32m     38\u001b[0m     \u001b[0ma\u001b[0m \u001b[0;34m=\u001b[0m \u001b[0ma_global\u001b[0m\u001b[0;34m,\u001b[0m\u001b[0;34m\u001b[0m\u001b[0m\n\u001b[1;32m     39\u001b[0m     \u001b[0minput_currents\u001b[0m\u001b[0;34m=\u001b[0m\u001b[0minput_currents_global\u001b[0m\u001b[0;34m,\u001b[0m\u001b[0;34m\u001b[0m\u001b[0m\n\u001b[0;32m---> 40\u001b[0;31m     \u001b[0mtime_input_currents\u001b[0m\u001b[0;34m=\u001b[0m\u001b[0mtime_input_currents_global\u001b[0m\u001b[0;34m\u001b[0m\u001b[0m\n\u001b[0m\u001b[1;32m     41\u001b[0m )\n\u001b[1;32m     42\u001b[0m \u001b[0;34m\u001b[0m\u001b[0m\n",
      "\u001b[0;32m~/anaconda2/envs/simpeg/lib/python3.6/site-packages/properties/base/base.py\u001b[0m in \u001b[0;36m__call__\u001b[0;34m(cls, *args, **kwargs)\u001b[0m\n\u001b[1;32m    251\u001b[0m         \u001b[0;32mwith\u001b[0m \u001b[0mhandlers\u001b[0m\u001b[0;34m.\u001b[0m\u001b[0mlisteners_disabled\u001b[0m\u001b[0;34m(\u001b[0m\u001b[0;34m)\u001b[0m\u001b[0;34m:\u001b[0m\u001b[0;34m\u001b[0m\u001b[0m\n\u001b[1;32m    252\u001b[0m             \u001b[0mobj\u001b[0m\u001b[0;34m.\u001b[0m\u001b[0m_reset\u001b[0m\u001b[0;34m(\u001b[0m\u001b[0;34m)\u001b[0m\u001b[0;34m\u001b[0m\u001b[0m\n\u001b[0;32m--> 253\u001b[0;31m         \u001b[0mobj\u001b[0m\u001b[0;34m.\u001b[0m\u001b[0m__init__\u001b[0m\u001b[0;34m(\u001b[0m\u001b[0;34m*\u001b[0m\u001b[0margs\u001b[0m\u001b[0;34m,\u001b[0m \u001b[0;34m**\u001b[0m\u001b[0mkwargs\u001b[0m\u001b[0;34m)\u001b[0m\u001b[0;34m\u001b[0m\u001b[0m\n\u001b[0m\u001b[1;32m    254\u001b[0m         \u001b[0;32mreturn\u001b[0m \u001b[0mobj\u001b[0m\u001b[0;34m\u001b[0m\u001b[0m\n\u001b[1;32m    255\u001b[0m \u001b[0;34m\u001b[0m\u001b[0m\n",
      "\u001b[0;32m~/Projects/simpegEM1D/simpegEM1D/GlobalEM1D.py\u001b[0m in \u001b[0;36m__init__\u001b[0;34m(self, **kwargs)\u001b[0m\n\u001b[1;32m    517\u001b[0m     \u001b[0;32mdef\u001b[0m \u001b[0m__init__\u001b[0m\u001b[0;34m(\u001b[0m\u001b[0mself\u001b[0m\u001b[0;34m,\u001b[0m \u001b[0;34m**\u001b[0m\u001b[0mkwargs\u001b[0m\u001b[0;34m)\u001b[0m\u001b[0;34m:\u001b[0m\u001b[0;34m\u001b[0m\u001b[0m\n\u001b[1;32m    518\u001b[0m         \u001b[0mGlobalEM1DSurvey\u001b[0m\u001b[0;34m.\u001b[0m\u001b[0m__init__\u001b[0m\u001b[0;34m(\u001b[0m\u001b[0mself\u001b[0m\u001b[0;34m,\u001b[0m \u001b[0;34m**\u001b[0m\u001b[0mkwargs\u001b[0m\u001b[0;34m)\u001b[0m\u001b[0;34m\u001b[0m\u001b[0m\n\u001b[0;32m--> 519\u001b[0;31m         \u001b[0mself\u001b[0m\u001b[0;34m.\u001b[0m\u001b[0mset_parameters\u001b[0m\u001b[0;34m(\u001b[0m\u001b[0;34m)\u001b[0m\u001b[0;34m\u001b[0m\u001b[0m\n\u001b[0m\u001b[1;32m    520\u001b[0m \u001b[0;34m\u001b[0m\u001b[0m\n\u001b[1;32m    521\u001b[0m     \u001b[0;32mdef\u001b[0m \u001b[0mset_parameters\u001b[0m\u001b[0;34m(\u001b[0m\u001b[0mself\u001b[0m\u001b[0;34m)\u001b[0m\u001b[0;34m:\u001b[0m\u001b[0;34m\u001b[0m\u001b[0m\n",
      "\u001b[0;32m~/Projects/simpegEM1D/simpegEM1D/GlobalEM1D.py\u001b[0m in \u001b[0;36mset_parameters\u001b[0;34m(self)\u001b[0m\n\u001b[1;32m    554\u001b[0m \u001b[0;34m\u001b[0m\u001b[0m\n\u001b[1;32m    555\u001b[0m         \u001b[0;31m# List\u001b[0m\u001b[0;34m\u001b[0m\u001b[0;34m\u001b[0m\u001b[0m\n\u001b[0;32m--> 556\u001b[0;31m         \u001b[0;32mif\u001b[0m \u001b[0;32mnot\u001b[0m \u001b[0mself\u001b[0m\u001b[0;34m.\u001b[0m\u001b[0mtime_input_currents\u001b[0m\u001b[0;34m:\u001b[0m\u001b[0;34m\u001b[0m\u001b[0m\n\u001b[0m\u001b[1;32m    557\u001b[0m             self.time_input_currents = [\n\u001b[1;32m    558\u001b[0m                 \u001b[0mnp\u001b[0m\u001b[0;34m.\u001b[0m\u001b[0mempty\u001b[0m\u001b[0;34m(\u001b[0m\u001b[0;36m1\u001b[0m\u001b[0;34m,\u001b[0m \u001b[0mdtype\u001b[0m\u001b[0;34m=\u001b[0m\u001b[0mfloat\u001b[0m\u001b[0;34m)\u001b[0m \u001b[0;32mfor\u001b[0m \u001b[0mi\u001b[0m \u001b[0;32min\u001b[0m \u001b[0mrange\u001b[0m\u001b[0;34m(\u001b[0m\u001b[0mself\u001b[0m\u001b[0;34m.\u001b[0m\u001b[0mn_sounding\u001b[0m\u001b[0;34m)\u001b[0m\u001b[0;34m\u001b[0m\u001b[0m\n",
      "\u001b[0;31mValueError\u001b[0m: The truth value of an array with more than one element is ambiguous. Use a.any() or a.all()"
     ]
    }
   ],
   "source": [
    "wave = skytem_HM_2015()\n",
    "time = np.logspace(-5, -2, 21)\n",
    "\n",
    "time_input_currents = wave.current_times[-7:]\n",
    "input_currents = wave.currents[-7:]\n",
    "n_sounding = xyz.shape[0]\n",
    "hz = get_vertical_discretization_time(time, facter_tmax=0.5, factor_tmin=10.)\n",
    "hx = np.ones(n_sounding)\n",
    "mesh = Mesh.TensorMesh([hx, hz], x0='00')\n",
    "inds = np.logical_and(mesh.gridCC[:,1]>25, mesh.gridCC[:,1]<75.) \n",
    "sigma = np.ones(mesh.nC) * 1./20.\n",
    "sigma[inds] = 1./100.\n",
    "sigma_em1d = sigma.reshape(mesh.vnC, order='F').flatten()\n",
    "\n",
    "rx_locations = xyz.copy()\n",
    "src_locations = xyz.copy()\n",
    "topo = xyz_topo.copy()\n",
    "mapping = Maps.ExpMap(mesh)\n",
    "\n",
    "rx_type_global = np.array([\"dBzdt\"], dtype=str).repeat(n_sounding, axis=0)\n",
    "field_type_global = np.array(['secondary'], dtype=str).repeat(n_sounding, axis=0)\n",
    "wave_type_global = np.array(['general'], dtype=str).repeat(n_sounding, axis=0)\n",
    "n_sounding = rx_locations.shape[0]\n",
    "time_global = time.reshape([1,-1]).repeat(n_sounding, axis=0)\n",
    "src_type_global = np.array([\"CircularLoop\"], dtype=str).repeat(n_sounding, axis=0)\n",
    "a_global = np.array([13.], dtype=float).repeat(n_sounding, axis=0)\n",
    "input_currents_global = input_currents.reshape([1,-1]).repeat(n_sounding, axis=0)\n",
    "time_input_currents_global = time_input_currents.reshape([1,-1]).repeat(n_sounding, axis=0)\n",
    "survey = GlobalEM1DSurveyTD(\n",
    "    rx_locations = rx_locations,\n",
    "    src_locations = src_locations,    \n",
    "    topo = topo,\n",
    "    time = time_global,\n",
    "    src_type = src_type_global,\n",
    "    rx_type = rx_type_global,    \n",
    "    field_type = field_type_global,\n",
    "    wave_type = wave_type_global,    \n",
    "    a = a_global,\n",
    "    input_currents=input_currents_global,\n",
    "    time_input_currents=time_input_currents_global\n",
    ")\n",
    "\n",
    "prob = GlobalEM1DProblemTD(\n",
    "    [], sigmaMap=mapping, hz=hz, parallel=True, ncpu=2,\n",
    "    Solver=PardisoSolver\n",
    ")\n",
    "prob.pair(survey)"
   ]
  },
  {
   "cell_type": "code",
   "execution_count": 8,
   "metadata": {},
   "outputs": [
    {
     "name": "stdout",
     "output_type": "stream",
     "text": [
      "> \u001b[0;32m/Users/sgkang/Projects/simpegEM1D/simpegEM1D/GlobalEM1D.py\u001b[0m(556)\u001b[0;36mset_parameters\u001b[0;34m()\u001b[0m\n",
      "\u001b[0;32m    554 \u001b[0;31m\u001b[0;34m\u001b[0m\u001b[0m\n",
      "\u001b[0m\u001b[0;32m    555 \u001b[0;31m        \u001b[0;31m# List\u001b[0m\u001b[0;34m\u001b[0m\u001b[0;34m\u001b[0m\u001b[0m\n",
      "\u001b[0m\u001b[0;32m--> 556 \u001b[0;31m        \u001b[0;32mif\u001b[0m \u001b[0;32mnot\u001b[0m \u001b[0mself\u001b[0m\u001b[0;34m.\u001b[0m\u001b[0mtime_input_currents\u001b[0m\u001b[0;34m:\u001b[0m\u001b[0;34m\u001b[0m\u001b[0m\n",
      "\u001b[0m\u001b[0;32m    557 \u001b[0;31m            self.time_input_currents = [\n",
      "\u001b[0m\u001b[0;32m    558 \u001b[0;31m                \u001b[0mnp\u001b[0m\u001b[0;34m.\u001b[0m\u001b[0mempty\u001b[0m\u001b[0;34m(\u001b[0m\u001b[0;36m1\u001b[0m\u001b[0;34m,\u001b[0m \u001b[0mdtype\u001b[0m\u001b[0;34m=\u001b[0m\u001b[0mfloat\u001b[0m\u001b[0;34m)\u001b[0m \u001b[0;32mfor\u001b[0m \u001b[0mi\u001b[0m \u001b[0;32min\u001b[0m \u001b[0mrange\u001b[0m\u001b[0;34m(\u001b[0m\u001b[0mself\u001b[0m\u001b[0;34m.\u001b[0m\u001b[0mn_sounding\u001b[0m\u001b[0;34m)\u001b[0m\u001b[0;34m\u001b[0m\u001b[0m\n",
      "\u001b[0m\n",
      "ipdb> self.time_input_currents\n",
      "array([[-0.004     , -0.00391   , -0.0038    ,  0.        ,  0.00019437,\n",
      "         0.00019504,  0.00019637],\n",
      "       [-0.004     , -0.00391   , -0.0038    ,  0.        ,  0.00019437,\n",
      "         0.00019504,  0.00019637],\n",
      "       [-0.004     , -0.00391   , -0.0038    ,  0.        ,  0.00019437,\n",
      "         0.00019504,  0.00019637],\n",
      "       [-0.004     , -0.00391   , -0.0038    ,  0.        ,  0.00019437,\n",
      "         0.00019504,  0.00019637],\n",
      "       [-0.004     , -0.00391   , -0.0038    ,  0.        ,  0.00019437,\n",
      "         0.00019504,  0.00019637],\n",
      "       [-0.004     , -0.00391   , -0.0038    ,  0.        ,  0.00019437,\n",
      "         0.00019504,  0.00019637],\n",
      "       [-0.004     , -0.00391   , -0.0038    ,  0.        ,  0.00019437,\n",
      "         0.00019504,  0.00019637],\n",
      "       [-0.004     , -0.00391   , -0.0038    ,  0.        ,  0.00019437,\n",
      "         0.00019504,  0.00019637],\n",
      "       [-0.004     , -0.00391   , -0.0038    ,  0.        ,  0.00019437,\n",
      "         0.00019504,  0.00019637],\n",
      "       [-0.004     , -0.00391   , -0.0038    ,  0.        ,  0.00019437,\n",
      "         0.00019504,  0.00019637],\n",
      "       [-0.004     , -0.00391   , -0.0038    ,  0.        ,  0.00019437,\n",
      "         0.00019504,  0.00019637],\n",
      "       [-0.004     , -0.00391   , -0.0038    ,  0.        ,  0.00019437,\n",
      "         0.00019504,  0.00019637],\n",
      "       [-0.004     , -0.00391   , -0.0038    ,  0.        ,  0.00019437,\n",
      "         0.00019504,  0.00019637],\n",
      "       [-0.004     , -0.00391   , -0.0038    ,  0.        ,  0.00019437,\n",
      "         0.00019504,  0.00019637],\n",
      "       [-0.004     , -0.00391   , -0.0038    ,  0.        ,  0.00019437,\n",
      "         0.00019504,  0.00019637],\n",
      "       [-0.004     , -0.00391   , -0.0038    ,  0.        ,  0.00019437,\n",
      "         0.00019504,  0.00019637],\n",
      "       [-0.004     , -0.00391   , -0.0038    ,  0.        ,  0.00019437,\n",
      "         0.00019504,  0.00019637],\n",
      "       [-0.004     , -0.00391   , -0.0038    ,  0.        ,  0.00019437,\n",
      "         0.00019504,  0.00019637],\n",
      "       [-0.004     , -0.00391   , -0.0038    ,  0.        ,  0.00019437,\n",
      "         0.00019504,  0.00019637],\n",
      "       [-0.004     , -0.00391   , -0.0038    ,  0.        ,  0.00019437,\n",
      "         0.00019504,  0.00019637],\n",
      "       [-0.004     , -0.00391   , -0.0038    ,  0.        ,  0.00019437,\n",
      "         0.00019504,  0.00019637],\n",
      "       [-0.004     , -0.00391   , -0.0038    ,  0.        ,  0.00019437,\n",
      "         0.00019504,  0.00019637],\n",
      "       [-0.004     , -0.00391   , -0.0038    ,  0.        ,  0.00019437,\n",
      "         0.00019504,  0.00019637],\n",
      "       [-0.004     , -0.00391   , -0.0038    ,  0.        ,  0.00019437,\n",
      "         0.00019504,  0.00019637],\n",
      "       [-0.004     , -0.00391   , -0.0038    ,  0.        ,  0.00019437,\n",
      "         0.00019504,  0.00019637]])\n",
      "ipdb>  if not self.time_input_currents\n",
      "*** SyntaxError: invalid syntax\n",
      "ipdb> if not self.time_input_currents\n",
      "*** SyntaxError: invalid syntax\n",
      "ipdb> if not self.time_input_currents: \n",
      "*** SyntaxError: unexpected EOF while parsing\n",
      "ipdb> quit\n"
     ]
    }
   ],
   "source": [
    "debug"
   ]
  },
  {
   "cell_type": "markdown",
   "metadata": {},
   "source": [
    "# Seting up a 2D mesh and model"
   ]
  },
  {
   "cell_type": "code",
   "execution_count": 4,
   "metadata": {},
   "outputs": [
    {
     "ename": "NameError",
     "evalue": "name 'sigma_em1d' is not defined",
     "output_type": "error",
     "traceback": [
      "\u001b[0;31m---------------------------------------------------------------------------\u001b[0m",
      "\u001b[0;31mNameError\u001b[0m                                 Traceback (most recent call last)",
      "\u001b[0;32m<timed exec>\u001b[0m in \u001b[0;36m<module>\u001b[0;34m()\u001b[0m\n",
      "\u001b[0;31mNameError\u001b[0m: name 'sigma_em1d' is not defined"
     ]
    }
   ],
   "source": [
    "%%time\n",
    "m = np.log(sigma_em1d)\n",
    "dobs = survey.makeSyntheticData(m, std=0.05, force=True)"
   ]
  },
  {
   "cell_type": "code",
   "execution_count": 3,
   "metadata": {},
   "outputs": [
    {
     "name": "stdout",
     "output_type": "stream",
     "text": [
      "Populating the interactive namespace from numpy and matplotlib\n"
     ]
    },
    {
     "name": "stderr",
     "output_type": "stream",
     "text": [
      "/Users/sgkang/anaconda2/envs/simpeg/lib/python3.6/site-packages/IPython/core/magics/pylab.py:160: UserWarning: pylab import has clobbered these variables: ['time']\n",
      "`%matplotlib` prevents importing * from pylab and numpy\n",
      "  \"\\n`%matplotlib` prevents importing * from pylab and numpy\"\n"
     ]
    },
    {
     "data": {
      "image/png": "[encoded data removed]",
      "text/plain": [
       "<matplotlib.figure.Figure at 0x1202a0400>"
      ]
     },
     "metadata": {},
     "output_type": "display_data"
    }
   ],
   "source": [
    "%pylab inline\n",
    "cb = plt.colorbar(\n",
    "    mesh.plotImage(1./sigma, grid=False, clim=(10., 100.),pcolorOpts={\"norm\":LogNorm()})[0],\n",
    "    fraction=0.03, pad=0.04\n",
    ")\n",
    "\n",
    "plt.ylim(mesh.vectorNy.max(), mesh.vectorNy.min())\n",
    "plt.gca().set_aspect(1)"
   ]
  },
  {
   "cell_type": "code",
   "execution_count": 4,
   "metadata": {
    "collapsed": true
   },
   "outputs": [],
   "source": [
    "DOBS = dobs.reshape((prob.n_sounding, 21))"
   ]
  },
  {
   "cell_type": "code",
   "execution_count": 5,
   "metadata": {},
   "outputs": [
    {
     "data": {
      "image/png": "[encoded data removed]",
      "text/plain": [
       "<matplotlib.figure.Figure at 0x1204aecf8>"
      ]
     },
     "metadata": {},
     "output_type": "display_data"
    }
   ],
   "source": [
    "for i_time in range(21):\n",
    "    plt.semilogy(mesh.vectorCCx, -DOBS[:,i_time], 'k')"
   ]
  },
  {
   "cell_type": "code",
   "execution_count": 6,
   "metadata": {
    "collapsed": true
   },
   "outputs": [],
   "source": [
    "from SimPEG import (\n",
    "    Regularization, Directives, Inversion, InvProblem, Optimization, DataMisfit, Utils\n",
    ")"
   ]
  },
  {
   "cell_type": "code",
   "execution_count": 7,
   "metadata": {
    "collapsed": true
   },
   "outputs": [],
   "source": [
    "mesh_reg = Mesh.TensorMesh([mesh.hy, mesh.hx])"
   ]
  },
  {
   "cell_type": "code",
   "execution_count": 8,
   "metadata": {
    "scrolled": false
   },
   "outputs": [
    {
     "name": "stdout",
     "output_type": "stream",
     "text": [
      "SimPEG.DataMisfit.l2_DataMisfit assigning default eps of 1e-5 * ||dobs||\n",
      "SimPEG.InvProblem will set Regularization.mref to m0.\n",
      "\n",
      "    SimPEG.InvProblem is setting bfgsH0 to the inverse of the eval2Deriv.\n",
      "    ***Done using same Solver and solverOpts as the problem***\n"
     ]
    },
    {
     "name": "stderr",
     "output_type": "stream",
     "text": [
      "/Users/sgkang/Projects/simpeg/SimPEG/Directives.py:896: UserWarning: Without a Linear preconditioner, convergence may be slow. Consider adding `Directives.UpdatePreconditioner` to your directives list\n",
      "  \"Without a Linear preconditioner, convergence may be slow. \"\n"
     ]
    },
    {
     "name": "stdout",
     "output_type": "stream",
     "text": [
      "model has any nan: 0\n",
      "============================ Inexact Gauss Newton ============================\n",
      "  #     beta     phi_d     phi_m       f      |proj(x-g)-x|  LS    Comment   \n",
      "-----------------------------------------------------------------------------\n",
      "x0 has any nan: 0\n",
      "   0  1.59e+02  2.66e+03  0.00e+00  2.66e+03    2.46e+03      0              \n",
      "   1  7.94e+01  5.34e+02  1.45e+00  6.50e+02    3.22e+02      0              \n",
      "   2  3.97e+01  3.01e+02  2.88e+00  4.16e+02    1.23e+02      0   Skip BFGS  \n",
      "   3  1.98e+01  2.11e+02  4.54e+00  3.01e+02    7.10e+01      0   Skip BFGS  \n",
      "   4  9.92e+00  1.32e+02  7.40e+00  2.05e+02    5.28e+01      0   Skip BFGS  \n",
      "   5  4.96e+00  7.86e+01  1.11e+01  1.34e+02    3.51e+01      0   Skip BFGS  \n",
      "   6  4.96e+00  5.27e+01  1.47e+01  1.26e+02    1.22e+01      0   Skip BFGS  \n",
      "   7  4.96e+00  5.33e+01  1.44e+01  1.25e+02    8.53e+00      0              \n",
      "   8  4.96e+00  5.29e+01  1.45e+01  1.25e+02    4.07e+00      0   Skip BFGS  \n",
      "   9  4.96e+00  5.30e+01  1.45e+01  1.25e+02    3.65e+00      0              \n",
      "  10  4.96e+00  5.29e+01  1.45e+01  1.25e+02    3.10e+00      0              \n",
      "  11  4.96e+00  5.28e+01  1.45e+01  1.25e+02    3.01e+00      0              \n",
      "  12  4.96e+00  5.28e+01  1.45e+01  1.25e+02    3.12e+00      0              \n",
      "  13  4.96e+00  5.28e+01  1.45e+01  1.25e+02    2.99e+00      0              \n",
      "  14  4.96e+00  5.26e+01  1.45e+01  1.25e+02    2.89e+00      0              \n",
      "  15  4.96e+00  5.25e+01  1.45e+01  1.25e+02    2.75e+00      0              \n",
      "  16  4.96e+00  5.25e+01  1.45e+01  1.25e+02    2.72e+00      0              \n",
      "Reached starting chifact with l2-norm regularization: Start IRLS steps...\n",
      "eps_p: 0.8754163569813485 eps_q: 0.8754163569813485\n",
      ">> Fix Jmatrix\n",
      "Eps_p: 0.7295136308177904\n",
      "Eps_q: 0.7295136308177904\n",
      "delta phim:    inf\n",
      "  17  4.96e+00  5.25e+01  1.77e+01  1.40e+02    8.57e+00      0              \n",
      ">> Fix Jmatrix\n",
      "Eps_p: 0.6079280256814921\n",
      "Eps_q: 0.6079280256814921\n",
      "delta phim: 6.562e-02\n",
      "  18  4.96e+00  5.20e+01  1.85e+01  1.44e+02    1.35e+01      0              \n",
      ">> Fix Jmatrix\n",
      "Eps_p: 0.5066066880679101\n",
      "Eps_q: 0.5066066880679101\n",
      "delta phim: 1.881e-01\n",
      "  19  4.96e+00  5.30e+01  1.82e+01  1.43e+02    9.52e+00      0              \n",
      ">> Fix Jmatrix\n",
      "Eps_p: 0.42217224005659176\n",
      "Eps_q: 0.42217224005659176\n",
      "delta phim: 1.608e-01\n",
      "  20  4.96e+00  5.27e+01  1.80e+01  1.42e+02    1.14e+01      0              \n",
      "------------------------- STOP! -------------------------\n",
      "1 : |fc-fOld| = 1.5381e+00 <= tolF*(1+|f0|) = 2.6600e+02\n",
      "1 : |xc-x_last| = 7.2884e-02 <= tolX*(1+|x0|) = 3.0199e+00\n",
      "0 : |proj(x-g)-x|    = 1.1432e+01 <= tolG          = 1.0000e-01\n",
      "0 : |proj(x-g)-x|    = 1.1432e+01 <= 1e3*eps       = 1.0000e-02\n",
      "1 : maxIter   =      20    <= iter          =     20\n",
      "------------------------- DONE! -------------------------\n",
      "CPU times: user 5.17 s, sys: 4.72 s, total: 9.89 s\n",
      "Wall time: 2min 19s\n"
     ]
    }
   ],
   "source": [
    "%%time\n",
    "std = 0.05\n",
    "floor = 0.\n",
    "np.random.seed(1)\n",
    "uncert = std*abs(dobs)+floor\n",
    "survey.dobs = dobs.copy()\n",
    "m0 = np.ones(mesh.nC) * np.log(1./20.)\n",
    "dmisfit = DataMisfit.l2_DataMisfit(survey)\n",
    "regmap = Maps.IdentityMap(mesh)\n",
    "# mapping is required ... for IRLS\n",
    "reg = Regularization.Sparse(\n",
    "    mesh_reg, mapping=regmap,\n",
    "    alpha_s=1.,\n",
    "    alpha_x = 2.,\n",
    "    alpha_y = 2.,    \n",
    ")\n",
    "p = 0\n",
    "qx, qz = 1., 1.\n",
    "reg.norms = np.c_[p, qx, qz, 0.]\n",
    "IRLS = Directives.Update_IRLS(\n",
    "    maxIRLSiter=5, minGNiter=1, fix_Jmatrix=True,\n",
    "    betaSearch=False\n",
    ")\n",
    "opt = Optimization.InexactGaussNewton(maxIter = 20)\n",
    "invProb = InvProblem.BaseInvProblem(dmisfit, reg, opt)\n",
    "beta = Directives.BetaSchedule(coolingFactor=2, coolingRate=1)\n",
    "betaest = Directives.BetaEstimate_ByEig(beta0_ratio=1.)\n",
    "target = Directives.TargetMisfit()\n",
    "# inv = Inversion.BaseInversion(invProb, directiveList=[beta,betaest,target])\n",
    "inv = Inversion.BaseInversion(invProb, directiveList=[IRLS,betaest])\n",
    "prob.counter = opt.counter = Utils.Counter()\n",
    "opt.LSshorten = 0.5\n",
    "opt.remember('xc')\n",
    "mopt = inv.run(m0)"
   ]
  },
  {
   "cell_type": "code",
   "execution_count": 9,
   "metadata": {
    "collapsed": true
   },
   "outputs": [],
   "source": [
    "sigma_est = Utils.mkvc((np.exp(mopt)).reshape((prob.n_sounding, prob.n_layer)))\n",
    "sigma_est_l2 = Utils.mkvc((np.exp(invProb.l2model)).reshape((prob.n_sounding, prob.n_layer)))"
   ]
  },
  {
   "cell_type": "code",
   "execution_count": 10,
   "metadata": {
    "collapsed": true
   },
   "outputs": [],
   "source": [
    "import matplotlib\n",
    "matplotlib.rcParams['font.size'] = 14"
   ]
  },
  {
   "cell_type": "code",
   "execution_count": 11,
   "metadata": {},
   "outputs": [
    {
     "data": {
      "text/plain": [
       "Text(0.5,1,'Laterally-contrained model: L0 L2')"
      ]
     },
     "execution_count": 11,
     "metadata": {},
     "output_type": "execute_result"
    },
    {
     "data": {
      "image/png": "[encoded data removed]",
      "text/plain": [
       "<matplotlib.figure.Figure at 0x1206242e8>"
      ]
     },
     "metadata": {},
     "output_type": "display_data"
    },
    {
     "data": {
      "image/png": "[encoded data removed]",
      "text/plain": [
       "<matplotlib.figure.Figure at 0x120482d30>"
      ]
     },
     "metadata": {},
     "output_type": "display_data"
    },
    {
     "data": {
      "image/png": "[encoded data removed]",
      "text/plain": [
       "<matplotlib.figure.Figure at 0x1204a0da0>"
      ]
     },
     "metadata": {},
     "output_type": "display_data"
    }
   ],
   "source": [
    "cb = plt.colorbar(\n",
    "    mesh.plotImage(\n",
    "        sigma, grid=True, clim=(1e-2, 1e-1),pcolorOpts={\"norm\":LogNorm()},\n",
    "        gridOpts={'alpha':0.2, 'color':'grey'}\n",
    "    )[0],\n",
    "    fraction=0.02, pad=0.04\n",
    ")\n",
    "\n",
    "plt.ylim(mesh.vectorNy.max(), mesh.vectorNy.min())\n",
    "plt.gca().set_aspect(1)\n",
    "\n",
    "plt.title(\"True model\")\n",
    "\n",
    "cb = plt.colorbar(\n",
    "    mesh.plotImage(\n",
    "        sigma_est_l2, grid=True, clim=(1e-2, 1e-1),pcolorOpts={\"norm\":LogNorm()},\n",
    "        gridOpts={'alpha':0.2, 'color':'grey'}\n",
    "    )[0],\n",
    "    fraction=0.02, pad=0.04\n",
    ")\n",
    "plt.title(\"Laterally-contrained model: L2 L2\")\n",
    "plt.ylim(mesh.vectorNy.max(), mesh.vectorNy.min())\n",
    "plt.gca().set_aspect(1)\n",
    "\n",
    "\n",
    "cb = plt.colorbar(\n",
    "    mesh.plotImage(\n",
    "        sigma_est, grid=True, clim=(1e-2, 1e-1), pcolorOpts={\"norm\":LogNorm()},\n",
    "        gridOpts={'alpha':0.2, 'color':'grey'}\n",
    "    )[0],\n",
    "    fraction=0.02, pad=0.04\n",
    ")\n",
    "plt.ylim(mesh.vectorNy.max(), mesh.vectorNy.min())\n",
    "plt.gca().set_aspect(1)\n",
    "plt.title(\"Laterally-contrained model: L0 L2\")"
   ]
  },
  {
   "cell_type": "code",
   "execution_count": 12,
   "metadata": {
    "collapsed": true
   },
   "outputs": [],
   "source": [
    "PRED = invProb.dpred.reshape((prob.n_sounding, 21))"
   ]
  },
  {
   "cell_type": "code",
   "execution_count": 13,
   "metadata": {},
   "outputs": [
    {
     "data": {
      "image/png": "[encoded data removed]",
      "text/plain": [
       "<matplotlib.figure.Figure at 0x120520048>"
      ]
     },
     "metadata": {},
     "output_type": "display_data"
    }
   ],
   "source": [
    "for i_time in range(21):\n",
    "    plt.semilogy(mesh.vectorCCx, -DOBS[:,i_time], 'k')\n",
    "    plt.semilogy(mesh.vectorCCx, -PRED[:,i_time], 'kx', ms=1)"
   ]
  }
 ],
 "metadata": {
  "kernelspec": {
   "display_name": "Python 3",
   "language": "python",
   "name": "python3"
  },
  "language_info": {
   "codemirror_mode": {
    "name": "ipython",
    "version": 3
   },
   "file_extension": ".py",
   "mimetype": "text/x-python",
   "name": "python",
   "nbconvert_exporter": "python",
   "pygments_lexer": "ipython3",
   "version": "3.6.4"
  }
 },
 "nbformat": 4,
 "nbformat_minor": 2
}
