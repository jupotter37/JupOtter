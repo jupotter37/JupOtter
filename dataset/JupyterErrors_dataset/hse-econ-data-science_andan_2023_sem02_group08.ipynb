{
 "cells": [
  {
   "cell_type": "code",
   "execution_count": 1,
   "id": "71aff039",
   "metadata": {},
   "outputs": [],
   "source": [
    "import numpy as np"
   ]
  },
  {
   "cell_type": "code",
   "execution_count": 2,
   "id": "87f78e79",
   "metadata": {},
   "outputs": [
    {
     "data": {
      "text/plain": [
       "[1, 2, 3, 4, 5, 6, 7, 8, 9, 10, 11, 12]"
      ]
     },
     "execution_count": 2,
     "metadata": {},
     "output_type": "execute_result"
    }
   ],
   "source": [
    "x = [1, 2, 3, 4, 5, 6]\n",
    "y = [7, 8, 9, 10, 11, 12]\n",
    "x + y"
   ]
  },
  {
   "cell_type": "code",
   "execution_count": 3,
   "id": "a632f20c",
   "metadata": {},
   "outputs": [
    {
     "data": {
      "text/plain": [
       "[1, 2, 3, 4, 5, 6, 1, 2, 3, 4, 5, 6, 1, 2, 3, 4, 5, 6, 1, 2, 3, 4, 5, 6]"
      ]
     },
     "execution_count": 3,
     "metadata": {},
     "output_type": "execute_result"
    }
   ],
   "source": [
    "4 * x"
   ]
  },
  {
   "cell_type": "code",
   "execution_count": 4,
   "id": "e010b98a",
   "metadata": {},
   "outputs": [
    {
     "ename": "TypeError",
     "evalue": "can't multiply sequence by non-int of type 'list'",
     "output_type": "error",
     "traceback": [
      "\u001b[0;31m---------------------------------------------------------------------------\u001b[0m",
      "\u001b[0;31mTypeError\u001b[0m                                 Traceback (most recent call last)",
      "Cell \u001b[0;32mIn[4], line 1\u001b[0m\n\u001b[0;32m----> 1\u001b[0m \u001b[43mx\u001b[49m\u001b[43m \u001b[49m\u001b[38;5;241;43m*\u001b[39;49m\u001b[43m \u001b[49m\u001b[43my\u001b[49m\n",
      "\u001b[0;31mTypeError\u001b[0m: can't multiply sequence by non-int of type 'list'"
     ]
    }
   ],
   "source": [
    "x * y"
   ]
  },
  {
   "cell_type": "code",
   "execution_count": 5,
   "id": "d9e2ac47",
   "metadata": {},
   "outputs": [
    {
     "data": {
      "text/plain": [
       "array([1, 2, 3, 4, 5, 6])"
      ]
     },
     "execution_count": 5,
     "metadata": {},
     "output_type": "execute_result"
    }
   ],
   "source": [
    "xx = np.array(x)\n",
    "xx"
   ]
  },
  {
   "cell_type": "code",
   "execution_count": 7,
   "id": "f0181d12",
   "metadata": {},
   "outputs": [
    {
     "data": {
      "text/plain": [
       "array([ 7,  8,  9, 10, 11, 12])"
      ]
     },
     "execution_count": 7,
     "metadata": {},
     "output_type": "execute_result"
    }
   ],
   "source": [
    "yy = np.array(y)\n",
    "yy"
   ]
  },
  {
   "cell_type": "code",
   "execution_count": 8,
   "id": "5e260918",
   "metadata": {},
   "outputs": [
    {
     "data": {
      "text/plain": [
       "array([ 8, 10, 12, 14, 16, 18])"
      ]
     },
     "execution_count": 8,
     "metadata": {},
     "output_type": "execute_result"
    }
   ],
   "source": [
    "xx + yy"
   ]
  },
  {
   "cell_type": "code",
   "execution_count": 10,
   "id": "21fd34a7",
   "metadata": {},
   "outputs": [
    {
     "data": {
      "text/plain": [
       "array([ 333,  666,  999, 1332, 1665, 1998])"
      ]
     },
     "execution_count": 10,
     "metadata": {},
     "output_type": "execute_result"
    }
   ],
   "source": [
    "333 * xx"
   ]
  },
  {
   "cell_type": "code",
   "execution_count": 11,
   "id": "cf46f231",
   "metadata": {},
   "outputs": [
    {
     "data": {
      "text/plain": [
       "array([ 7, 16, 27, 40, 55, 72])"
      ]
     },
     "execution_count": 11,
     "metadata": {},
     "output_type": "execute_result"
    }
   ],
   "source": [
    "xx * yy"
   ]
  },
  {
   "cell_type": "code",
   "execution_count": 12,
   "id": "1127c302",
   "metadata": {},
   "outputs": [
    {
     "data": {
      "text/plain": [
       "217"
      ]
     },
     "execution_count": 12,
     "metadata": {},
     "output_type": "execute_result"
    }
   ],
   "source": [
    "xx @ yy # скалярное произведение"
   ]
  },
  {
   "cell_type": "code",
   "execution_count": 13,
   "id": "2224a2b0",
   "metadata": {},
   "outputs": [
    {
     "data": {
      "text/plain": [
       "217"
      ]
     },
     "execution_count": 13,
     "metadata": {},
     "output_type": "execute_result"
    }
   ],
   "source": [
    "np.sum(xx * yy)"
   ]
  },
  {
   "cell_type": "code",
   "execution_count": 14,
   "id": "2bf5a3e2",
   "metadata": {},
   "outputs": [
    {
     "data": {
      "text/plain": [
       "array([      0,       1,       2, ..., 9999997, 9999998, 9999999])"
      ]
     },
     "execution_count": 14,
     "metadata": {},
     "output_type": "execute_result"
    }
   ],
   "source": [
    "x = np.arange(10**7)\n",
    "x"
   ]
  },
  {
   "cell_type": "code",
   "execution_count": 15,
   "id": "daa5f96b",
   "metadata": {},
   "outputs": [
    {
     "data": {
      "text/plain": [
       "numpy.ndarray"
      ]
     },
     "execution_count": 15,
     "metadata": {},
     "output_type": "execute_result"
    }
   ],
   "source": [
    "type(x)"
   ]
  },
  {
   "cell_type": "code",
   "execution_count": 16,
   "id": "144557f0",
   "metadata": {},
   "outputs": [
    {
     "data": {
      "text/plain": [
       "list"
      ]
     },
     "execution_count": 16,
     "metadata": {},
     "output_type": "execute_result"
    }
   ],
   "source": [
    "y = list(x)\n",
    "type(y)"
   ]
  },
  {
   "cell_type": "code",
   "execution_count": 19,
   "id": "750ed22f",
   "metadata": {},
   "outputs": [
    {
     "name": "stdout",
     "output_type": "stream",
     "text": [
      "172 ms ± 6.82 ms per loop (mean ± std. dev. of 7 runs, 10 loops each)\n"
     ]
    }
   ],
   "source": [
    "%%timeit\n",
    "sum(y)"
   ]
  },
  {
   "cell_type": "code",
   "execution_count": 20,
   "id": "7c7d3117",
   "metadata": {},
   "outputs": [
    {
     "name": "stdout",
     "output_type": "stream",
     "text": [
      "1.71 ms ± 11.1 µs per loop (mean ± std. dev. of 7 runs, 1,000 loops each)\n"
     ]
    }
   ],
   "source": [
    "%%timeit\n",
    "np.sum(x)"
   ]
  },
  {
   "cell_type": "code",
   "execution_count": 21,
   "id": "96d0680f",
   "metadata": {},
   "outputs": [
    {
     "data": {
      "text/plain": [
       "array([0.57111443, 0.59998603, 0.74185812, 0.98426357, 0.93380531])"
      ]
     },
     "execution_count": 21,
     "metadata": {},
     "output_type": "execute_result"
    }
   ],
   "source": [
    "np.random.rand(5)"
   ]
  },
  {
   "cell_type": "markdown",
   "id": "50fa69a1",
   "metadata": {},
   "source": [
    "**Бонусная задача:** \n",
    "\n",
    "Я хочу посчитать евклидово расстояние между каждой строкой $A$ и между каждой строкой $B$"
   ]
  },
  {
   "cell_type": "code",
   "execution_count": 22,
   "id": "513656ac",
   "metadata": {},
   "outputs": [
    {
     "data": {
      "text/plain": [
       "(array([[ 1.14582581, -1.14940945, -0.49673539, -1.47854015],\n",
       "        [ 0.50301409, -1.50003522, -0.40356792,  0.9798549 ],\n",
       "        [ 1.27464156, -0.83881745, -0.4142402 , -1.17077428]]),\n",
       " array([[ 1.68555454, -0.11793157,  0.29695597,  0.30790691],\n",
       "        [-1.06703203,  0.02537137, -0.71166858,  0.69197942],\n",
       "        [ 0.26867636,  1.20643682, -0.70228827, -0.122572  ]]))"
      ]
     },
     "execution_count": 22,
     "metadata": {},
     "output_type": "execute_result"
    }
   ],
   "source": [
    "A = np.random.normal(size=(3,4))\n",
    "B = np.random.normal(size=(3,4))\n",
    "A, B"
   ]
  },
  {
   "cell_type": "code",
   "execution_count": 27,
   "id": "89543ae7",
   "metadata": {},
   "outputs": [
    {
     "data": {
      "text/plain": [
       "array([2.27521269, 2.22928428, 2.52521895])"
      ]
     },
     "execution_count": 27,
     "metadata": {},
     "output_type": "execute_result"
    }
   ],
   "source": [
    "np.sqrt(np.sum((A - B)**2, axis=1))"
   ]
  },
  {
   "cell_type": "code",
   "execution_count": 30,
   "id": "07b1ef29",
   "metadata": {},
   "outputs": [
    {
     "data": {
      "text/plain": [
       "array([[[ 1.14582581, -1.14940945, -0.49673539, -1.47854015],\n",
       "        [ 0.50301409, -1.50003522, -0.40356792,  0.9798549 ],\n",
       "        [ 1.27464156, -0.83881745, -0.4142402 , -1.17077428]]])"
      ]
     },
     "execution_count": 30,
     "metadata": {},
     "output_type": "execute_result"
    }
   ],
   "source": [
    "A[None,:,:] # список из 1 матрицы"
   ]
  },
  {
   "cell_type": "code",
   "execution_count": 32,
   "id": "2f9aad22",
   "metadata": {},
   "outputs": [
    {
     "data": {
      "text/plain": [
       "(1, 3, 4)"
      ]
     },
     "execution_count": 32,
     "metadata": {},
     "output_type": "execute_result"
    }
   ],
   "source": [
    "A[None,:,:].shape"
   ]
  },
  {
   "cell_type": "code",
   "execution_count": 33,
   "id": "9e0fd978",
   "metadata": {},
   "outputs": [
    {
     "data": {
      "text/plain": [
       "array([[[ 1.14582581],\n",
       "        [-1.14940945],\n",
       "        [-0.49673539],\n",
       "        [-1.47854015]],\n",
       "\n",
       "       [[ 0.50301409],\n",
       "        [-1.50003522],\n",
       "        [-0.40356792],\n",
       "        [ 0.9798549 ]],\n",
       "\n",
       "       [[ 1.27464156],\n",
       "        [-0.83881745],\n",
       "        [-0.4142402 ],\n",
       "        [-1.17077428]]])"
      ]
     },
     "execution_count": 33,
     "metadata": {},
     "output_type": "execute_result"
    }
   ],
   "source": [
    "A[:,:,None] # лист из 3 объектов размера 4 x 1 "
   ]
  },
  {
   "cell_type": "code",
   "execution_count": 38,
   "id": "e32fb044",
   "metadata": {},
   "outputs": [
    {
     "data": {
      "text/plain": [
       "(3, 4, 1)"
      ]
     },
     "execution_count": 38,
     "metadata": {},
     "output_type": "execute_result"
    }
   ],
   "source": [
    "A[:,:,None].shape"
   ]
  },
  {
   "cell_type": "code",
   "execution_count": 39,
   "id": "61d9b5ee",
   "metadata": {},
   "outputs": [
    {
     "data": {
      "text/plain": [
       "array([[[ 1.14582581, -1.14940945, -0.49673539, -1.47854015]],\n",
       "\n",
       "       [[ 0.50301409, -1.50003522, -0.40356792,  0.9798549 ]],\n",
       "\n",
       "       [[ 1.27464156, -0.83881745, -0.4142402 , -1.17077428]]])"
      ]
     },
     "execution_count": 39,
     "metadata": {},
     "output_type": "execute_result"
    }
   ],
   "source": [
    "A[:,None,:] # лист из 3 объектов размера 4 x 1 "
   ]
  },
  {
   "cell_type": "code",
   "execution_count": 40,
   "id": "bf6da6ea",
   "metadata": {},
   "outputs": [
    {
     "data": {
      "text/plain": [
       "(3, 1, 4)"
      ]
     },
     "execution_count": 40,
     "metadata": {},
     "output_type": "execute_result"
    }
   ],
   "source": [
    "A[:,None,:].shape"
   ]
  },
  {
   "cell_type": "code",
   "execution_count": 35,
   "id": "0412b377",
   "metadata": {},
   "outputs": [
    {
     "data": {
      "text/plain": [
       "(3, 4)"
      ]
     },
     "execution_count": 35,
     "metadata": {},
     "output_type": "execute_result"
    }
   ],
   "source": [
    "B.shape"
   ]
  },
  {
   "cell_type": "code",
   "execution_count": 44,
   "id": "8d10ac81",
   "metadata": {},
   "outputs": [
    {
     "data": {
      "text/plain": [
       "array([[2.27521269, 3.32177682, 2.86361737],\n",
       "       [2.06176145, 2.22928428, 2.94694486],\n",
       "       [1.83870171, 3.12866945, 2.52521895]])"
      ]
     },
     "execution_count": 44,
     "metadata": {},
     "output_type": "execute_result"
    }
   ],
   "source": [
    "np.sqrt(np.sum((A[:,None,:] - B)**2, axis=2))"
   ]
  },
  {
   "cell_type": "code",
   "execution_count": 45,
   "id": "f22c6c38",
   "metadata": {},
   "outputs": [
    {
     "data": {
      "text/plain": [
       "array([2.27521269, 2.22928428, 2.52521895])"
      ]
     },
     "execution_count": 45,
     "metadata": {},
     "output_type": "execute_result"
    }
   ],
   "source": [
    "np.sqrt(np.sum((A - B)**2, axis=1))"
   ]
  },
  {
   "cell_type": "markdown",
   "id": "2f6ce199",
   "metadata": {},
   "source": [
    " "
   ]
  }
 ],
 "metadata": {
  "kernelspec": {
   "display_name": "Python 3 (ipykernel)",
   "language": "python",
   "name": "python3"
  },
  "language_info": {
   "codemirror_mode": {
    "name": "ipython",
    "version": 3
   },
   "file_extension": ".py",
   "mimetype": "text/x-python",
   "name": "python",
   "nbconvert_exporter": "python",
   "pygments_lexer": "ipython3",
   "version": "3.10.9"
  }
 },
 "nbformat": 4,
 "nbformat_minor": 5
}
