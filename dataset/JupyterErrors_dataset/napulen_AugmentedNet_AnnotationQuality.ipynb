{
 "cells": [
  {
   "cell_type": "code",
   "execution_count": 1,
   "id": "absent-evolution",
   "metadata": {},
   "outputs": [],
   "source": [
    "import sys; sys.path.insert(0, \"..\")\n",
    "import music21\n",
    "from music21.note import Note\n",
    "from AugmentedNet.common import ANNOTATIONSCOREDUPLES\n",
    "import seaborn as sns\n",
    "import matplotlib.pyplot as plt\n",
    "from AugmentedNet.annotation_parser import parseAnnotation\n",
    "from AugmentedNet.score_parser import parseScore\n",
    "import pandas as pd\n",
    "pd.set_option('display.max_rows', 6000)"
   ]
  },
  {
   "cell_type": "code",
   "execution_count": 2,
   "id": "insured-verification",
   "metadata": {},
   "outputs": [],
   "source": [
    "def getAnnotationOffsets(a):\n",
    "    annotationIndexes = a[a.a_isOnset].a_pitchNames.index.to_list()\n",
    "    annotationNotes = a[a.a_isOnset].a_pitchNames.to_list()\n",
    "    annotationText = a[a.a_isOnset].a_romanNumeral.to_list()\n",
    "    annotationIndexes.append('end')\n",
    "    annotationRanges = [(annotationIndexes[i], annotationIndexes[i+1], annotationNotes[i], annotationText[i]) for i in range(len(annotationNotes))]\n",
    "    return annotationRanges\n",
    "\n",
    "def getNonChordSequence(annotationRanges, s):\n",
    "    ret = []\n",
    "    for start, end, annotationNotes, _ in annotationRanges:\n",
    "#         print(start, end)\n",
    "        if end == \"end\":\n",
    "            slices = s[start:]\n",
    "        else:\n",
    "            slices = s[start:end].iloc[:-1]\n",
    "        originalNotes = slices.s_notes.to_list()\n",
    "        originalNoteNames = [Note(n).name for chord in originalNotes for n in chord]\n",
    "        nonChordTones = set(originalNoteNames) - set(annotationNotes)\n",
    "        missingNotes = set(annotationNotes) - set(originalNoteNames)\n",
    "        originalNonChord = [n for n in originalNoteNames if n in nonChordTones]\n",
    "        if not originalNotes:\n",
    "            missingNotesFactor = 1.0\n",
    "            nonChordToneFactor = 1.0\n",
    "        else:\n",
    "            missingNotesRatio = len(missingNotes) / len(set(annotationNotes))\n",
    "            nonChordToneRatio = len(originalNonChord) / len(originalNoteNames)\n",
    "#         print('original notes:', originalNoteNames)\n",
    "#         print('notes implied by annotation:', annotationNotes)\n",
    "#         print('potential non-chord tones:', originalNonChord)\n",
    "#         print('missing notes from annotation:', missingNotesFactor)\n",
    "#         print(start, end, annotationNotes, nonChordToneFactor)\n",
    "        ret.append((originalNoteNames, nonChordToneRatio, missingNotesRatio))\n",
    "    return ret"
   ]
  },
  {
   "cell_type": "code",
   "execution_count": 3,
   "id": "surrounded-command",
   "metadata": {},
   "outputs": [],
   "source": [
    "f = \"bps-01-op002-no1-1\"\n",
    "aPath, sPath = ANNOTATIONSCOREDUPLES[f]"
   ]
  },
  {
   "cell_type": "code",
   "execution_count": 4,
   "id": "chemical-romance",
   "metadata": {},
   "outputs": [
    {
     "ename": "RomanTextException",
     "evalue": "('Cannot find the first measure definition in this file. Dumping contexts: %s', ['When-in-Rome/Corpus/Piano_Sonatas/Beethoven,_Ludwig_van/Op002_No1/1/analysis.txt'])",
     "output_type": "error",
     "traceback": [
      "\u001b[0;31m---------------------------------------------------------------------------\u001b[0m",
      "\u001b[0;31mRomanTextException\u001b[0m                        Traceback (most recent call last)",
      "\u001b[0;32m<ipython-input-4-d0c7a8ff7c98>\u001b[0m in \u001b[0;36m<module>\u001b[0;34m\u001b[0m\n\u001b[0;32m----> 1\u001b[0;31m \u001b[0maScore\u001b[0m \u001b[0;34m=\u001b[0m \u001b[0mmusic21\u001b[0m\u001b[0;34m.\u001b[0m\u001b[0mconverter\u001b[0m\u001b[0;34m.\u001b[0m\u001b[0mparse\u001b[0m\u001b[0;34m(\u001b[0m\u001b[0maPath\u001b[0m\u001b[0;34m,\u001b[0m \u001b[0mformat\u001b[0m\u001b[0;34m=\u001b[0m\u001b[0;34m\"romantext\"\u001b[0m\u001b[0;34m)\u001b[0m\u001b[0;34m.\u001b[0m\u001b[0mshow\u001b[0m\u001b[0;34m(\u001b[0m\u001b[0;34m\"musicxml\"\u001b[0m\u001b[0;34m)\u001b[0m\u001b[0;34m\u001b[0m\u001b[0;34m\u001b[0m\u001b[0m\n\u001b[0m\u001b[1;32m      2\u001b[0m \u001b[0;31m# sScore = music21.converter.parse(sPath).chordify().show(\"musicxml\")\u001b[0m\u001b[0;34m\u001b[0m\u001b[0;34m\u001b[0m\u001b[0;34m\u001b[0m\u001b[0m\n",
      "\u001b[0;32m~/.local/lib/python3.8/site-packages/music21/converter/__init__.py\u001b[0m in \u001b[0;36mparse\u001b[0;34m(value, *args, **keywords)\u001b[0m\n\u001b[1;32m   1182\u001b[0m         \u001b[0;32mraise\u001b[0m \u001b[0mFileNotFoundError\u001b[0m\u001b[0;34m(\u001b[0m\u001b[0;34mf'Cannot find file in {str(value)}'\u001b[0m\u001b[0;34m)\u001b[0m\u001b[0;34m\u001b[0m\u001b[0;34m\u001b[0m\u001b[0m\n\u001b[1;32m   1183\u001b[0m     \u001b[0;32melse\u001b[0m\u001b[0;34m:\u001b[0m\u001b[0;34m\u001b[0m\u001b[0;34m\u001b[0m\u001b[0m\n\u001b[0;32m-> 1184\u001b[0;31m         \u001b[0;32mreturn\u001b[0m \u001b[0mparseData\u001b[0m\u001b[0;34m(\u001b[0m\u001b[0mvalue\u001b[0m\u001b[0;34m,\u001b[0m \u001b[0mnumber\u001b[0m\u001b[0;34m=\u001b[0m\u001b[0mnumber\u001b[0m\u001b[0;34m,\u001b[0m \u001b[0mformat\u001b[0m\u001b[0;34m=\u001b[0m\u001b[0mm21Format\u001b[0m\u001b[0;34m,\u001b[0m \u001b[0;34m**\u001b[0m\u001b[0mkeywords\u001b[0m\u001b[0;34m)\u001b[0m\u001b[0;34m\u001b[0m\u001b[0;34m\u001b[0m\u001b[0m\n\u001b[0m\u001b[1;32m   1185\u001b[0m \u001b[0;34m\u001b[0m\u001b[0m\n\u001b[1;32m   1186\u001b[0m \u001b[0;34m\u001b[0m\u001b[0m\n",
      "\u001b[0;32m~/.local/lib/python3.8/site-packages/music21/converter/__init__.py\u001b[0m in \u001b[0;36mparseData\u001b[0;34m(dataStr, number, format, **keywords)\u001b[0m\n\u001b[1;32m   1036\u001b[0m     '''\n\u001b[1;32m   1037\u001b[0m     \u001b[0mv\u001b[0m \u001b[0;34m=\u001b[0m \u001b[0mConverter\u001b[0m\u001b[0;34m(\u001b[0m\u001b[0;34m)\u001b[0m\u001b[0;34m\u001b[0m\u001b[0;34m\u001b[0m\u001b[0m\n\u001b[0;32m-> 1038\u001b[0;31m     \u001b[0mv\u001b[0m\u001b[0;34m.\u001b[0m\u001b[0mparseData\u001b[0m\u001b[0;34m(\u001b[0m\u001b[0mdataStr\u001b[0m\u001b[0;34m,\u001b[0m \u001b[0mnumber\u001b[0m\u001b[0;34m=\u001b[0m\u001b[0mnumber\u001b[0m\u001b[0;34m,\u001b[0m \u001b[0mformat\u001b[0m\u001b[0;34m=\u001b[0m\u001b[0mformat\u001b[0m\u001b[0;34m,\u001b[0m \u001b[0;34m**\u001b[0m\u001b[0mkeywords\u001b[0m\u001b[0;34m)\u001b[0m\u001b[0;34m\u001b[0m\u001b[0;34m\u001b[0m\u001b[0m\n\u001b[0m\u001b[1;32m   1039\u001b[0m     \u001b[0;32mreturn\u001b[0m \u001b[0mv\u001b[0m\u001b[0;34m.\u001b[0m\u001b[0mstream\u001b[0m\u001b[0;34m\u001b[0m\u001b[0;34m\u001b[0m\u001b[0m\n\u001b[1;32m   1040\u001b[0m \u001b[0;34m\u001b[0m\u001b[0m\n",
      "\u001b[0;32m~/.local/lib/python3.8/site-packages/music21/converter/__init__.py\u001b[0m in \u001b[0;36mparseData\u001b[0;34m(self, dataStr, number, format, forceSource, **keywords)\u001b[0m\n\u001b[1;32m    629\u001b[0m         \u001b[0mself\u001b[0m\u001b[0;34m.\u001b[0m\u001b[0msetSubconverterFromFormat\u001b[0m\u001b[0;34m(\u001b[0m\u001b[0museFormat\u001b[0m\u001b[0;34m)\u001b[0m\u001b[0;34m\u001b[0m\u001b[0;34m\u001b[0m\u001b[0m\n\u001b[1;32m    630\u001b[0m         \u001b[0mself\u001b[0m\u001b[0;34m.\u001b[0m\u001b[0msubConverter\u001b[0m\u001b[0;34m.\u001b[0m\u001b[0mkeywords\u001b[0m \u001b[0;34m=\u001b[0m \u001b[0mkeywords\u001b[0m\u001b[0;34m\u001b[0m\u001b[0;34m\u001b[0m\u001b[0m\n\u001b[0;32m--> 631\u001b[0;31m         \u001b[0mself\u001b[0m\u001b[0;34m.\u001b[0m\u001b[0msubConverter\u001b[0m\u001b[0;34m.\u001b[0m\u001b[0mparseData\u001b[0m\u001b[0;34m(\u001b[0m\u001b[0mdataStr\u001b[0m\u001b[0;34m,\u001b[0m \u001b[0mnumber\u001b[0m\u001b[0;34m=\u001b[0m\u001b[0mnumber\u001b[0m\u001b[0;34m)\u001b[0m\u001b[0;34m\u001b[0m\u001b[0;34m\u001b[0m\u001b[0m\n\u001b[0m\u001b[1;32m    632\u001b[0m \u001b[0;34m\u001b[0m\u001b[0m\n\u001b[1;32m    633\u001b[0m     \u001b[0;32mdef\u001b[0m \u001b[0mparseURL\u001b[0m\u001b[0;34m(\u001b[0m\u001b[0mself\u001b[0m\u001b[0;34m,\u001b[0m \u001b[0murl\u001b[0m\u001b[0;34m,\u001b[0m \u001b[0mformat\u001b[0m\u001b[0;34m=\u001b[0m\u001b[0;32mNone\u001b[0m\u001b[0;34m,\u001b[0m \u001b[0mnumber\u001b[0m\u001b[0;34m=\u001b[0m\u001b[0;32mNone\u001b[0m\u001b[0;34m,\u001b[0m \u001b[0;34m**\u001b[0m\u001b[0mkeywords\u001b[0m\u001b[0;34m)\u001b[0m\u001b[0;34m:\u001b[0m  \u001b[0;31m# @ReservedAssignment\u001b[0m\u001b[0;34m\u001b[0m\u001b[0;34m\u001b[0m\u001b[0m\n",
      "\u001b[0;32m~/.local/lib/python3.8/site-packages/music21/converter/subConverters.py\u001b[0m in \u001b[0;36mparseData\u001b[0;34m(self, strData, number)\u001b[0m\n\u001b[1;32m   1139\u001b[0m         \u001b[0;32mfrom\u001b[0m \u001b[0mmusic21\u001b[0m\u001b[0;34m.\u001b[0m\u001b[0mromanText\u001b[0m \u001b[0;32mimport\u001b[0m \u001b[0mtranslate\u001b[0m \u001b[0;32mas\u001b[0m \u001b[0mromanTextTranslate\u001b[0m\u001b[0;34m\u001b[0m\u001b[0;34m\u001b[0m\u001b[0m\n\u001b[1;32m   1140\u001b[0m         \u001b[0mrtf\u001b[0m \u001b[0;34m=\u001b[0m \u001b[0mrtObjects\u001b[0m\u001b[0;34m.\u001b[0m\u001b[0mRTFile\u001b[0m\u001b[0;34m(\u001b[0m\u001b[0;34m)\u001b[0m  \u001b[0;31m# not sure why -- @UndefinedVariable\u001b[0m\u001b[0;34m\u001b[0m\u001b[0;34m\u001b[0m\u001b[0m\n\u001b[0;32m-> 1141\u001b[0;31m         \u001b[0mrtHandler\u001b[0m \u001b[0;34m=\u001b[0m \u001b[0mrtf\u001b[0m\u001b[0;34m.\u001b[0m\u001b[0mreadstr\u001b[0m\u001b[0;34m(\u001b[0m\u001b[0mstrData\u001b[0m\u001b[0;34m)\u001b[0m\u001b[0;34m\u001b[0m\u001b[0;34m\u001b[0m\u001b[0m\n\u001b[0m\u001b[1;32m   1142\u001b[0m         \u001b[0;32mif\u001b[0m \u001b[0mrtHandler\u001b[0m\u001b[0;34m.\u001b[0m\u001b[0mdefinesMovements\u001b[0m\u001b[0;34m(\u001b[0m\u001b[0;34m)\u001b[0m\u001b[0;34m:\u001b[0m\u001b[0;34m\u001b[0m\u001b[0;34m\u001b[0m\u001b[0m\n\u001b[1;32m   1143\u001b[0m             \u001b[0;31m# this re-defines Score as an Opus\u001b[0m\u001b[0;34m\u001b[0m\u001b[0;34m\u001b[0m\u001b[0;34m\u001b[0m\u001b[0m\n",
      "\u001b[0;32m~/.local/lib/python3.8/site-packages/music21/romanText/rtObjects.py\u001b[0m in \u001b[0;36mreadstr\u001b[0;34m(self, strSrc)\u001b[0m\n\u001b[1;32m   1439\u001b[0m         \u001b[0mhandler\u001b[0m \u001b[0;34m=\u001b[0m \u001b[0mRTHandler\u001b[0m\u001b[0;34m(\u001b[0m\u001b[0;34m)\u001b[0m\u001b[0;34m\u001b[0m\u001b[0;34m\u001b[0m\u001b[0m\n\u001b[1;32m   1440\u001b[0m         \u001b[0;31m# return the handler instance\u001b[0m\u001b[0;34m\u001b[0m\u001b[0;34m\u001b[0m\u001b[0;34m\u001b[0m\u001b[0m\n\u001b[0;32m-> 1441\u001b[0;31m         \u001b[0mhandler\u001b[0m\u001b[0;34m.\u001b[0m\u001b[0mprocess\u001b[0m\u001b[0;34m(\u001b[0m\u001b[0mstrSrc\u001b[0m\u001b[0;34m)\u001b[0m\u001b[0;34m\u001b[0m\u001b[0;34m\u001b[0m\u001b[0m\n\u001b[0m\u001b[1;32m   1442\u001b[0m         \u001b[0;32mreturn\u001b[0m \u001b[0mhandler\u001b[0m\u001b[0;34m\u001b[0m\u001b[0;34m\u001b[0m\u001b[0m\n\u001b[1;32m   1443\u001b[0m \u001b[0;34m\u001b[0m\u001b[0m\n",
      "\u001b[0;32m~/.local/lib/python3.8/site-packages/music21/romanText/rtObjects.py\u001b[0m in \u001b[0;36mprocess\u001b[0;34m(self, src)\u001b[0m\n\u001b[1;32m   1256\u001b[0m         '''\n\u001b[1;32m   1257\u001b[0m         \u001b[0mself\u001b[0m\u001b[0;34m.\u001b[0m\u001b[0m_tokens\u001b[0m \u001b[0;34m=\u001b[0m \u001b[0;34m[\u001b[0m\u001b[0;34m]\u001b[0m\u001b[0;34m\u001b[0m\u001b[0;34m\u001b[0m\u001b[0m\n\u001b[0;32m-> 1258\u001b[0;31m         \u001b[0mself\u001b[0m\u001b[0;34m.\u001b[0m\u001b[0mtokenize\u001b[0m\u001b[0;34m(\u001b[0m\u001b[0msrc\u001b[0m\u001b[0;34m)\u001b[0m\u001b[0;34m\u001b[0m\u001b[0;34m\u001b[0m\u001b[0m\n\u001b[0m\u001b[1;32m   1259\u001b[0m \u001b[0;34m\u001b[0m\u001b[0m\n\u001b[1;32m   1260\u001b[0m     \u001b[0;32mdef\u001b[0m \u001b[0mdefinesMovements\u001b[0m\u001b[0;34m(\u001b[0m\u001b[0mself\u001b[0m\u001b[0;34m,\u001b[0m \u001b[0mcountRequired\u001b[0m\u001b[0;34m=\u001b[0m\u001b[0;36m2\u001b[0m\u001b[0;34m)\u001b[0m\u001b[0;34m:\u001b[0m\u001b[0;34m\u001b[0m\u001b[0;34m\u001b[0m\u001b[0m\n",
      "\u001b[0;32m~/.local/lib/python3.8/site-packages/music21/romanText/rtObjects.py\u001b[0m in \u001b[0;36mtokenize\u001b[0;34m(self, src)\u001b[0m\n\u001b[1;32m   1245\u001b[0m         \u001b[0;31m# break into lines\u001b[0m\u001b[0;34m\u001b[0m\u001b[0;34m\u001b[0m\u001b[0;34m\u001b[0m\u001b[0m\n\u001b[1;32m   1246\u001b[0m         \u001b[0mlines\u001b[0m \u001b[0;34m=\u001b[0m \u001b[0msrc\u001b[0m\u001b[0;34m.\u001b[0m\u001b[0msplit\u001b[0m\u001b[0;34m(\u001b[0m\u001b[0;34m'\\n'\u001b[0m\u001b[0;34m)\u001b[0m\u001b[0;34m\u001b[0m\u001b[0;34m\u001b[0m\u001b[0m\n\u001b[0;32m-> 1247\u001b[0;31m         \u001b[0mlinesHeader\u001b[0m\u001b[0;34m,\u001b[0m \u001b[0mlinesBody\u001b[0m \u001b[0;34m=\u001b[0m \u001b[0mself\u001b[0m\u001b[0;34m.\u001b[0m\u001b[0msplitAtHeader\u001b[0m\u001b[0;34m(\u001b[0m\u001b[0mlines\u001b[0m\u001b[0;34m)\u001b[0m\u001b[0;34m\u001b[0m\u001b[0;34m\u001b[0m\u001b[0m\n\u001b[0m\u001b[1;32m   1248\u001b[0m         \u001b[0;31m# environLocal.printDebug([linesHeader])\u001b[0m\u001b[0;34m\u001b[0m\u001b[0;34m\u001b[0m\u001b[0;34m\u001b[0m\u001b[0m\n\u001b[1;32m   1249\u001b[0m         \u001b[0mself\u001b[0m\u001b[0;34m.\u001b[0m\u001b[0m_tokens\u001b[0m \u001b[0;34m+=\u001b[0m \u001b[0mself\u001b[0m\u001b[0;34m.\u001b[0m\u001b[0mtokenizeHeader\u001b[0m\u001b[0;34m(\u001b[0m\u001b[0mlinesHeader\u001b[0m\u001b[0;34m)\u001b[0m\u001b[0;34m\u001b[0m\u001b[0;34m\u001b[0m\u001b[0m\n",
      "\u001b[0;32m~/.local/lib/python3.8/site-packages/music21/romanText/rtObjects.py\u001b[0m in \u001b[0;36msplitAtHeader\u001b[0;34m(self, lines)\u001b[0m\n\u001b[1;32m   1093\u001b[0m                 \u001b[0;32mbreak\u001b[0m\u001b[0;34m\u001b[0m\u001b[0;34m\u001b[0m\u001b[0m\n\u001b[1;32m   1094\u001b[0m         \u001b[0;32mif\u001b[0m \u001b[0miStartBody\u001b[0m \u001b[0;32mis\u001b[0m \u001b[0;32mNone\u001b[0m\u001b[0;34m:\u001b[0m\u001b[0;34m\u001b[0m\u001b[0;34m\u001b[0m\u001b[0m\n\u001b[0;32m-> 1095\u001b[0;31m             raise RomanTextException('Cannot find the first measure definition in this file. '\n\u001b[0m\u001b[1;32m   1096\u001b[0m                                      + 'Dumping contexts: %s', lines)\n\u001b[1;32m   1097\u001b[0m         \u001b[0;32mreturn\u001b[0m \u001b[0mlines\u001b[0m\u001b[0;34m[\u001b[0m\u001b[0;34m:\u001b[0m\u001b[0miStartBody\u001b[0m\u001b[0;34m]\u001b[0m\u001b[0;34m,\u001b[0m \u001b[0mlines\u001b[0m\u001b[0;34m[\u001b[0m\u001b[0miStartBody\u001b[0m\u001b[0;34m:\u001b[0m\u001b[0;34m]\u001b[0m\u001b[0;34m\u001b[0m\u001b[0;34m\u001b[0m\u001b[0m\n",
      "\u001b[0;31mRomanTextException\u001b[0m: ('Cannot find the first measure definition in this file. Dumping contexts: %s', ['When-in-Rome/Corpus/Piano_Sonatas/Beethoven,_Ludwig_van/Op002_No1/1/analysis.txt'])"
     ]
    }
   ],
   "source": [
    "aScore = music21.converter.parse(aPath, format=\"romantext\").show(\"musicxml\")\n",
    "# sScore = music21.converter.parse(sPath).chordify().show(\"musicxml\")"
   ]
  },
  {
   "cell_type": "code",
   "execution_count": null,
   "id": "opposite-reply",
   "metadata": {},
   "outputs": [],
   "source": [
    "a = parseAnnotation(aPath)\n",
    "s = parseScore(sPath)\n",
    "annotationRanges = getAnnotationOffsets(a)\n",
    "scoreMetrics = getNonChordSequence(annotationRanges, s)"
   ]
  },
  {
   "cell_type": "code",
   "execution_count": null,
   "id": "armed-secret",
   "metadata": {},
   "outputs": [],
   "source": [
    "qualitydfdict = {\n",
    "    \"start\": [],\n",
    "    \"end\": [],\n",
    "    \"romanNumeral\": [],\n",
    "    \"annotationPitchNames\": [],\n",
    "    \"scorePitchNames\": [],\n",
    "    \"nonChordRatio\": [],\n",
    "    \"missingNotesRatio\": []\n",
    "}\n",
    "\n",
    "for i in range(len(annotationRanges)):\n",
    "    start, end, annotationPitchNames, romanNumeral = annotationRanges[i]\n",
    "    scorePitchNames, nonChordRatio, missingNotesRatio = scoreMetrics[i]\n",
    "    qualitydfdict[\"start\"].append(start)\n",
    "    qualitydfdict[\"end\"].append(end)\n",
    "    qualitydfdict[\"romanNumeral\"].append(romanNumeral)\n",
    "    qualitydfdict[\"annotationPitchNames\"].append(annotationPitchNames)\n",
    "    qualitydfdict[\"scorePitchNames\"].append(scorePitchNames)\n",
    "    qualitydfdict[\"nonChordRatio\"].append(nonChordRatio)\n",
    "    qualitydfdict[\"missingNotesRatio\"].append(missingNotesRatio)"
   ]
  },
  {
   "cell_type": "code",
   "execution_count": null,
   "id": "fixed-array",
   "metadata": {},
   "outputs": [],
   "source": [
    "qualitydf = pd.DataFrame(qualitydfdict)"
   ]
  },
  {
   "cell_type": "code",
   "execution_count": null,
   "id": "liable-south",
   "metadata": {},
   "outputs": [],
   "source": [
    "qualitydf"
   ]
  },
  {
   "cell_type": "code",
   "execution_count": null,
   "id": "arranged-organ",
   "metadata": {},
   "outputs": [],
   "source": [
    "qualitydf[\"score\"] = (qualitydf.nonChordRatio + qualitydf.missingNotesRatio)**2\n",
    "print(qualitydf.nonChordRatio.sum(), qualitydf.missingNotesRatio.sum(), qualitydf.score.sum())\n",
    "print(\"Top problematic annotations:\")\n",
    "display(qualitydf[qualitydf.score >= 1.0])\n",
    "plt.figure(figsize=(25, 10))\n",
    "sns.lineplot(data=qualitydf[[\"nonChordRatio\", \"missingNotesRatio\", \"score\"]])\n",
    "plt.ylim(0, 4)"
   ]
  },
  {
   "cell_type": "code",
   "execution_count": null,
   "id": "accomplished-medicine",
   "metadata": {},
   "outputs": [],
   "source": [
    "plt.figure(figsize=(25, 10))\n",
    "sns.lineplot(data=qualitydf, x=\"romanNumeral\", y=\"score\")"
   ]
  },
  {
   "cell_type": "code",
   "execution_count": null,
   "id": "lucky-milan",
   "metadata": {},
   "outputs": [],
   "source": []
  }
 ],
 "metadata": {
  "kernelspec": {
   "display_name": "Python 3",
   "language": "python",
   "name": "python3"
  },
  "language_info": {
   "codemirror_mode": {
    "name": "ipython",
    "version": 3
   },
   "file_extension": ".py",
   "mimetype": "text/x-python",
   "name": "python",
   "nbconvert_exporter": "python",
   "pygments_lexer": "ipython3",
   "version": "3.8.10"
  }
 },
 "nbformat": 4,
 "nbformat_minor": 5
}
