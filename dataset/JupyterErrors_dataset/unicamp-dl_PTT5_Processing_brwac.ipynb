{
  "nbformat": 4,
  "nbformat_minor": 0,
  "metadata": {
    "colab": {
      "name": "Processing brwac",
      "provenance": [],
      "collapsed_sections": [],
      "toc_visible": true
    },
    "kernelspec": {
      "name": "python3",
      "display_name": "Python 3"
    }
  },
  "cells": [
    {
      "cell_type": "code",
      "metadata": {
        "id": "CNNEu7GN7by9",
        "colab_type": "code",
        "colab": {
          "base_uri": "https://localhost:8080/",
          "height": 204
        },
        "outputId": "11c0ede6-29d5-47a0-f0a7-0b6f727d5124"
      },
      "source": [
        "!pip3 install ftfy"
      ],
      "execution_count": 2,
      "outputs": [
        {
          "output_type": "stream",
          "text": [
            "Collecting ftfy\n",
            "\u001b[?25l  Downloading https://files.pythonhosted.org/packages/ec/d8/5e877ac5e827eaa41a7ea8c0dc1d3042e05d7e337604dc2aedb854e7b500/ftfy-5.7.tar.gz (58kB)\n",
            "\r\u001b[K     |█████▋                          | 10kB 18.5MB/s eta 0:00:01\r\u001b[K     |███████████▏                    | 20kB 7.1MB/s eta 0:00:01\r\u001b[K     |████████████████▊               | 30kB 8.9MB/s eta 0:00:01\r\u001b[K     |██████████████████████▎         | 40kB 9.5MB/s eta 0:00:01\r\u001b[K     |███████████████████████████▉    | 51kB 7.3MB/s eta 0:00:01\r\u001b[K     |████████████████████████████████| 61kB 4.6MB/s \n",
            "\u001b[?25hRequirement already satisfied: wcwidth in /usr/local/lib/python3.6/dist-packages (from ftfy) (0.2.3)\n",
            "Building wheels for collected packages: ftfy\n",
            "  Building wheel for ftfy (setup.py) ... \u001b[?25l\u001b[?25hdone\n",
            "  Created wheel for ftfy: filename=ftfy-5.7-cp36-none-any.whl size=44593 sha256=4fbcc73f0df5621688bf3c1804be25565fcfab2405d186e7ce465f9dd754ffb0\n",
            "  Stored in directory: /root/.cache/pip/wheels/8e/da/59/6c8925d571aacade638a0f515960c21c0887af1bfe31908fbf\n",
            "Successfully built ftfy\n",
            "Installing collected packages: ftfy\n",
            "Successfully installed ftfy-5.7\n"
          ],
          "name": "stdout"
        }
      ]
    },
    {
      "cell_type": "code",
      "metadata": {
        "id": "T0FkPmRuEr2E",
        "colab_type": "code",
        "colab": {}
      },
      "source": [
        "import os\n",
        "import pickle\n",
        "import numpy as np\n",
        "from math import inf\n",
        "from tqdm import tqdm\n",
        "import h5py\n",
        "import ftfy\n",
        "from matplotlib import pyplot as plt"
      ],
      "execution_count": 0,
      "outputs": []
    },
    {
      "cell_type": "code",
      "metadata": {
        "id": "gmZD0SBBQpGU",
        "colab_type": "code",
        "colab": {
          "base_uri": "https://localhost:8080/",
          "height": 139
        },
        "outputId": "d0e18af8-2db4-4f98-81e8-879c1869f966"
      },
      "source": [
        "LOCAL_PATH = \"/home/diedre/Dropbox/aUNICAMP/phd/courses/deep_learning_nlp/PTT5\"\n",
        "if not os.path.isdir(LOCAL_PATH):\n",
        "    print(\"On cloud\")\n",
        "    from google.colab import drive\n",
        "    drive.mount('/content/drive', force_remount=True)\n",
        "    DATA_PATH = \"/content/drive/Shared drives/PTT5_Dados/brwac/brwac.vert\"\n",
        "else:\n",
        "    DATA_PATH = \"/home/diedre/Dropbox/aUNICAMP/phd/courses/deep_learning_nlp/PTT5/brwac.vert\""
      ],
      "execution_count": 9,
      "outputs": [
        {
          "output_type": "stream",
          "text": [
            "On cloud\n",
            "Go to this URL in a browser: https://accounts.google.com/o/oauth2/auth?client_id=947318989803-6bn6qk8qdgf4n4g3pfee6491hc0brc4i.apps.googleusercontent.com&redirect_uri=urn%3aietf%3awg%3aoauth%3a2.0%3aoob&response_type=code&scope=email%20https%3a%2f%2fwww.googleapis.com%2fauth%2fdocs.test%20https%3a%2f%2fwww.googleapis.com%2fauth%2fdrive%20https%3a%2f%2fwww.googleapis.com%2fauth%2fdrive.photos.readonly%20https%3a%2f%2fwww.googleapis.com%2fauth%2fpeopleapi.readonly\n",
            "\n",
            "Enter your authorization code:\n",
            "··········\n",
            "Mounted at /content/drive\n"
          ],
          "name": "stdout"
        }
      ]
    },
    {
      "cell_type": "code",
      "metadata": {
        "id": "HHHgeAytUhHj",
        "colab_type": "code",
        "outputId": "1b892c12-1d3b-459e-a9c3-a36d13f31151",
        "colab": {
          "base_uri": "https://localhost:8080/",
          "height": 51
        }
      },
      "source": [
        "!ls \"{DATA_PATH}\"\n",
        "\n",
        "'''total_lines = 0\n",
        "with open(DATA_PATH, 'r') as fin:\n",
        "    for line in fin:\n",
        "        total_lines += 1\n",
        "\n",
        "print(f\"Total lines in vertical brwac: {total_lines}\")'''\n",
        "\n",
        "total_lines = 4050804143\n",
        "print(\"Total lines in vertical brwac: 4050804143\")"
      ],
      "execution_count": 0,
      "outputs": [
        {
          "output_type": "stream",
          "text": [
            "/home/diedre/Dropbox/aUNICAMP/phd/courses/deep_learning_nlp/PTT5/brwac.vert\r\n",
            "Total lines in vertical brwac: 4050804143\n"
          ],
          "name": "stdout"
        }
      ]
    },
    {
      "cell_type": "markdown",
      "metadata": {
        "id": "BG_IahlT7M0F",
        "colab_type": "text"
      },
      "source": [
        "# Split into sentences"
      ]
    },
    {
      "cell_type": "code",
      "metadata": {
        "id": "615OvuiZVGr0",
        "colab_type": "code",
        "outputId": "81a61a85-b69a-457d-d3f8-56aef4843044",
        "colab": {
          "base_uri": "https://localhost:8080/",
          "height": 34
        }
      },
      "source": [
        "'''skip_tags = ['<g/>', '<p>', '</p>', '</doc>']\n",
        "begin_tags = ['<s>', '<s>\\n']\n",
        "end_tags = ['</s>', '</s>\\n']\n",
        "\n",
        "skip_tags_plus_carriage = [tag + '\\n' for tag in skip_tags]\n",
        "\n",
        "with open('brwac_homemade.txt', 'w') as output:\n",
        "    with open(DATA_PATH, 'r') as fin:\n",
        "        add_space = 1\n",
        "        iterator = tqdm(fin, leave=True, position=0, total=total_lines)\n",
        "        for line in iterator:\n",
        "            if line in skip_tags_plus_carriage:  # skip these tags\n",
        "                if line == '<g/>\\n':  # dont add space with <g>\n",
        "                    add_space = 0\n",
        "            elif line in begin_tags:  # begin sentence\n",
        "                sentence = ''\n",
        "            elif line in end_tags:  # end sentence\n",
        "                output.write(sentence + '\\n')\n",
        "            elif not(line.strip().startswith('<doc')):  # if not begining line, fill sentence\n",
        "                sentence = (add_space * ' ').join([sentence, line.replace('\\n', '')])\n",
        "                add_space = 1'''"
      ],
      "execution_count": 0,
      "outputs": [
        {
          "output_type": "stream",
          "text": [
            "100%|██████████| 4050804143/4050804143 [1:03:58<00:00, 1055239.99it/s]\n"
          ],
          "name": "stderr"
        }
      ]
    },
    {
      "cell_type": "markdown",
      "metadata": {
        "id": "i5rutGDL7QzF",
        "colab_type": "text"
      },
      "source": [
        "# Split into set of sentences near 512 len"
      ]
    },
    {
      "cell_type": "code",
      "metadata": {
        "id": "Y2MXjZZg7QXq",
        "colab_type": "code",
        "outputId": "8dcd6625-729d-4e3f-b068-145170254f47",
        "colab": {
          "base_uri": "https://localhost:8080/",
          "height": 34
        }
      },
      "source": [
        "skip_tags = ['<g/>', '<p>', '</p>']\n",
        "begin_tags = ['<s>', '<s>\\n']\n",
        "end_tags = ['</s>', '</s>\\n']\n",
        "end_text_tags = ['</doc>', '</doc>\\n']\n",
        "\n",
        "skip_tags_plus_carriage = [tag + '\\n' for tag in skip_tags]\n",
        "\n",
        "\n",
        "def fix_encode_write(text, output):\n",
        "    try:\n",
        "        final_text = text.strip() + '\\n'\n",
        "        output.write(ftfy.fix_encoding(final_text))\n",
        "    except Exception as e:\n",
        "        print(f\"Encoding fix error? {e}\\nTrying to save raw text\")\n",
        "        output.write(final_text)\n",
        "\n",
        "\n",
        "text = ''\n",
        "limit = inf\n",
        "\n",
        "with open('brwac_512.txt', 'w') as output:\n",
        "    with open(DATA_PATH, 'r') as fin:\n",
        "        add_space = 1\n",
        "        iterator = tqdm(fin, leave=True, position=0, total=total_lines)\n",
        "        for i, line in enumerate(iterator):\n",
        "            if i > limit:\n",
        "                break\n",
        "\n",
        "            if line in skip_tags_plus_carriage:  # skip these tags\n",
        "                if line == '<g/>\\n':  # dont add space with <g>\n",
        "                    add_space = 0\n",
        "            elif line in begin_tags:  # begin sentence\n",
        "                sentence = ''\n",
        "            elif line in end_tags:  # end sentence\n",
        "                expanded_text = ''.join([text, sentence])\n",
        "                \n",
        "                if len(expanded_text.split()) >= 512:  # concat with next sentence went over limit, write text chunk\n",
        "                    fix_encode_write(text, output)\n",
        "                    text = ''\n",
        "                else:  # text too small yet, keep increasing its size\n",
        "                    text = expanded_text\n",
        "                    sentence = ''\n",
        "\n",
        "            elif line in end_text_tags:\n",
        "                # Flush when end doc is found\n",
        "                if len(text.split()) > 0:\n",
        "                    fix_encode_write(text, output)\n",
        "                elif len(sentence.split()) > 0:\n",
        "                    fix_encode_write(sentence, output)\n",
        "                text = ''\n",
        "                sentence = ''\n",
        "            elif not(line.strip().startswith('<doc')):  # if not begining line, fill sentence\n",
        "                sentence = (add_space * ' ').join([sentence, line.replace('\\n', '')])\n",
        "                add_space = 1\n",
        "            "
      ],
      "execution_count": 0,
      "outputs": [
        {
          "output_type": "stream",
          "text": [
            "100%|██████████| 4050804143/4050804143 [4:22:28<00:00, 257211.42it/s]\n"
          ],
          "name": "stderr"
        }
      ]
    },
    {
      "cell_type": "code",
      "metadata": {
        "id": "yDMi2R4DICll",
        "colab_type": "code",
        "outputId": "1fd953c7-ea07-4102-b3b7-7f34377e00ea",
        "colab": {
          "base_uri": "https://localhost:8080/",
          "height": 231
        }
      },
      "source": [
        "# Mean: 360\n",
        "wcs = []\n",
        "with open(\"/content/drive/Shared drives/PTT5_Dados/brwac/brwac_512.txt\", 'r') as brwac512:\n",
        "    for line in brwac512:\n",
        "        wcs.append(len(line.split()))\n",
        "\n",
        "print(np.array(wcs).mean())"
      ],
      "execution_count": 10,
      "outputs": [
        {
          "output_type": "error",
          "ename": "FileNotFoundError",
          "evalue": "ignored",
          "traceback": [
            "\u001b[0;31m---------------------------------------------------------------------------\u001b[0m",
            "\u001b[0;31mFileNotFoundError\u001b[0m                         Traceback (most recent call last)",
            "\u001b[0;32m<ipython-input-10-45dbc4e360e7>\u001b[0m in \u001b[0;36m<module>\u001b[0;34m()\u001b[0m\n\u001b[1;32m      1\u001b[0m \u001b[0mwcs\u001b[0m \u001b[0;34m=\u001b[0m \u001b[0;34m[\u001b[0m\u001b[0;34m]\u001b[0m\u001b[0;34m\u001b[0m\u001b[0;34m\u001b[0m\u001b[0m\n\u001b[0;32m----> 2\u001b[0;31m \u001b[0;32mwith\u001b[0m \u001b[0mopen\u001b[0m\u001b[0;34m(\u001b[0m\u001b[0;34m\"brwac_512.txt\"\u001b[0m\u001b[0;34m,\u001b[0m \u001b[0;34m'r'\u001b[0m\u001b[0;34m)\u001b[0m \u001b[0;32mas\u001b[0m \u001b[0mbrwac512\u001b[0m\u001b[0;34m:\u001b[0m\u001b[0;34m\u001b[0m\u001b[0;34m\u001b[0m\u001b[0m\n\u001b[0m\u001b[1;32m      3\u001b[0m     \u001b[0;32mfor\u001b[0m \u001b[0mline\u001b[0m \u001b[0;32min\u001b[0m \u001b[0mbrwac512\u001b[0m\u001b[0;34m:\u001b[0m\u001b[0;34m\u001b[0m\u001b[0;34m\u001b[0m\u001b[0m\n\u001b[1;32m      4\u001b[0m         \u001b[0mwcs\u001b[0m\u001b[0;34m.\u001b[0m\u001b[0mappend\u001b[0m\u001b[0;34m(\u001b[0m\u001b[0mlen\u001b[0m\u001b[0;34m(\u001b[0m\u001b[0mline\u001b[0m\u001b[0;34m.\u001b[0m\u001b[0msplit\u001b[0m\u001b[0;34m(\u001b[0m\u001b[0;34m)\u001b[0m\u001b[0;34m)\u001b[0m\u001b[0;34m)\u001b[0m\u001b[0;34m\u001b[0m\u001b[0;34m\u001b[0m\u001b[0m\n\u001b[1;32m      5\u001b[0m \u001b[0;34m\u001b[0m\u001b[0m\n",
            "\u001b[0;31mFileNotFoundError\u001b[0m: [Errno 2] No such file or directory: 'brwac_512.txt'"
          ]
        }
      ]
    },
    {
      "cell_type": "code",
      "metadata": {
        "id": "SGZwY1dHTxVE",
        "colab_type": "code",
        "colab": {
          "base_uri": "https://localhost:8080/",
          "height": 51
        },
        "outputId": "cee04ddd-d434-48fd-c71a-ca9ca6422fd1"
      },
      "source": [
        "# txt_size = 7361359\n",
        "txt_size = 0\n",
        "with open(\"/content/drive/Shared drives/PTT5_Dados/brwac/brwac_512.txt\", 'r') as txt:\n",
        "    for line in tqdm(txt, desc=\"Counting lines\", leave=True, position=0):\n",
        "        txt_size += 1\n",
        "txt_size\n"
      ],
      "execution_count": 11,
      "outputs": [
        {
          "output_type": "stream",
          "text": [
            "Counting lines: 7361359it [31:13, 3929.64it/s]\n"
          ],
          "name": "stderr"
        },
        {
          "output_type": "execute_result",
          "data": {
            "text/plain": [
              "7361359"
            ]
          },
          "metadata": {
            "tags": []
          },
          "execution_count": 11
        }
      ]
    },
    {
      "cell_type": "markdown",
      "metadata": {
        "id": "GWV04ynnCcPa",
        "colab_type": "text"
      },
      "source": [
        "# 512 Dataset Statistics"
      ]
    },
    {
      "cell_type": "code",
      "metadata": {
        "id": "jtmjDswPH06f",
        "colab_type": "code",
        "outputId": "db4bbffe-63d0-4476-f9d9-81b0cd25f1d0",
        "colab": {
          "base_uri": "https://localhost:8080/",
          "height": 51
        }
      },
      "source": [
        "pkl_file = \"wc_per_sentence.pkl\"\n",
        "if os.path.isfile(pkl_file):\n",
        "    print(\"Word count per sentence already found.\")\n",
        "    with open(pkl_file, 'rb') as pkl:\n",
        "        wc_per_sentence = pickle.load(pkl)\n",
        "else:\n",
        "    print(\"Building word count per sentence...\")\n",
        "    wc_per_sentence = np.zeros(txt_size, dtype=np.int)\n",
        "    with open(\"brwac_512.txt\", 'r') as text:\n",
        "        for i, line in tqdm(enumerate(text), leave=True, position=0, total=txt_size):\n",
        "            try:\n",
        "                wc_per_sentence[i] = len(line.split())\n",
        "            except IndexError:\n",
        "                print('Problem! txt file is bigger than brwacs[\"all\"]?')\n",
        "                break\n",
        "                \n",
        "        with open(pkl_file, 'wb') as pkl_output:\n",
        "            pickle.dump(wc_per_sentence, pkl_output)"
      ],
      "execution_count": 0,
      "outputs": [
        {
          "output_type": "stream",
          "text": [
            "  0%|          | 2789/7361359 [00:00<04:23, 27882.65it/s]"
          ],
          "name": "stderr"
        },
        {
          "output_type": "stream",
          "text": [
            "Building word count per sentence...\n"
          ],
          "name": "stdout"
        },
        {
          "output_type": "stream",
          "text": [
            "100%|██████████| 7361359/7361359 [03:36<00:00, 34019.90it/s]\n"
          ],
          "name": "stderr"
        }
      ]
    },
    {
      "cell_type": "code",
      "metadata": {
        "id": "vARk5rvqFA2M",
        "colab_type": "code",
        "outputId": "3c5c15d4-8a23-4eb5-ad81-dfd5fd391462",
        "colab": {
          "base_uri": "https://localhost:8080/",
          "height": 119
        }
      },
      "source": [
        "total_sentences, total_words = txt_size, wc_per_sentence.sum()\n",
        "mean, std = int(wc_per_sentence.mean()), int(wc_per_sentence.std())\n",
        "largest, smallest = wc_per_sentence.max(), wc_per_sentence.min()\n",
        "\n",
        "print(f\"Total number of sentences: {total_sentences}\")\n",
        "print(f\"Total number of words: {total_words}\")\n",
        "print(f\"Mean words per sentence: {mean}\")\n",
        "print(f\"Standard deviation words per sentence: {std}\")\n",
        "print(f\"Largest sentence: {largest}\")\n",
        "print(f\"Smallest sentence: {smallest}\")"
      ],
      "execution_count": 0,
      "outputs": [
        {
          "output_type": "stream",
          "text": [
            "Total number of sentences: 7361359\n",
            "Total number of words: 2656275093\n",
            "Mean words per sentence: 360\n",
            "Standard deviation words per sentence: 169\n",
            "Largest sentence: 17040\n",
            "Smallest sentence: 0\n"
          ],
          "name": "stdout"
        }
      ]
    },
    {
      "cell_type": "code",
      "metadata": {
        "id": "7KegnDQPWpGS",
        "colab_type": "code",
        "outputId": "e0774527-b939-4cd5-fe2d-89f1171ac52b",
        "colab": {
          "base_uri": "https://localhost:8080/",
          "height": 265
        }
      },
      "source": [
        "plt.plot(range(len(wc_per_sentence)), wc_per_sentence)\n",
        "plt.show()"
      ],
      "execution_count": 0,
      "outputs": [
        {
          "output_type": "display_data",
          "data": {
            "text/plain": [
              "<Figure size 432x288 with 1 Axes>"
            ],
            "image/png": "[encoded data removed]"
          },
          "metadata": {
            "tags": []
          }
        }
      ]
    },
    {
      "cell_type": "code",
      "metadata": {
        "id": "xS-59MQVh6fx",
        "colab_type": "code",
        "outputId": "aa35a947-9eee-47be-fad0-2997fdb87a1a",
        "colab": {
          "base_uri": "https://localhost:8080/",
          "height": 34
        }
      },
      "source": [
        "with open(\"brwac_512.txt\", 'r') as txt:\n",
        "    with h5py.File(\"brwac.hdf5\", 'w') as h5txt:\n",
        "        grp = h5txt.create_group('text')\n",
        "        dataset = grp.create_dataset(\"lines\", (txt_size,), dtype=h5py.string_dtype())\n",
        "        for i, line in enumerate(tqdm(txt, desc=\"Creating dataset\", leave=True, position=0, total=txt_size, mininterval=1)):\n",
        "            dataset[i] = line.strip()"
      ],
      "execution_count": 0,
      "outputs": [
        {
          "output_type": "stream",
          "text": [
            "Creating dataset: 100%|██████████| 7361359/7361359 [19:38<00:00, 6244.91it/s]\n"
          ],
          "name": "stderr"
        }
      ]
    },
    {
      "cell_type": "code",
      "metadata": {
        "id": "F172r-P6diKF",
        "colab_type": "code",
        "outputId": "3fa2c8d1-8c0b-4119-d309-0855cad62f1f",
        "colab": {
          "base_uri": "https://localhost:8080/",
          "height": 105
        }
      },
      "source": [
        "with h5py.File(\"brwac.hdf5\", 'r') as h5txt:\n",
        "    db = h5txt[\"text\"][\"lines\"]\n",
        "    print(db)\n",
        "    print(db.shape)\n",
        "    print(db[0])\n",
        "    print(db[-1])\n"
      ],
      "execution_count": 0,
      "outputs": [
        {
          "output_type": "stream",
          "text": [
            "<HDF5 dataset \"lines\": shape (7361359,), type \"|O\">\n",
            "(7361359,)\n",
            "Conteúdo recente ESPUMA MARROM CHAMADA \"NINGUÉM MERECE\" 31 de Agosto de 2015, 7:07 , por paulo soavinski - | No one following this article yet. Visualizado 202 vezes JORNAL ELETRÔNICO DA ILHA DO MEL Uma espuma marrom escuro tem aparecido com frequência na Praia de Fora. Na faixa de areia ela aparece disseminada e não chama muito a atenção. No Buraco do Aipo, com muitas pedras, ela aparece concentrada. É fácil saber que esta espuma estranha está lá, quando venta. Pequenos algodões de espuma começam a flutuar no espaço, pertinho da Praia do Saquinho. Quem pode ajudar na coleta deste material, envio a laboratório renomado e pagamento de análises, favor entrar em contato com o site.\n",
            "Posts do dia 3 abril 2012 A partir desta quarta-feira, os leitores de Zero Hora terão um endereço certo na internet para tirar suas dúvidas sobre as eleições deste ano. Um guia completo trará informações sobre como regularizar o título, regras da propaganda eleitoral e voto biométrico. Além disso, o eleitor poderá acessar as notícias atualizadas dos candidatos e das campanhas nos municípios gaúchos. Aguarde!\n"
          ],
          "name": "stdout"
        }
      ]
    }
  ]
}